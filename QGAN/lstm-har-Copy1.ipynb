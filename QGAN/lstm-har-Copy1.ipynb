{
 "cells": [
  {
   "cell_type": "code",
   "execution_count": 1,
   "metadata": {},
   "outputs": [
    {
     "name": "stderr",
     "output_type": "stream",
     "text": [
      "/home/arasdar/anaconda3/envs/env/lib/python3.6/site-packages/ipykernel_launcher.py:37: FutureWarning: Method .as_matrix will be removed in a future version. Use .values instead.\n"
     ]
    },
    {
     "name": "stdout",
     "output_type": "stream",
     "text": [
      "0.16675734494015235 0.1459466811751904 0.13411316648531013 0.1749183895538629 0.1868879216539717 0.1913764961915125\n",
      "(7352, 128, 9) float64 (2947, 128, 9) float64\n",
      "(7352,) int64 (2947,) int64\n"
     ]
    }
   ],
   "source": [
    "# HAR classification \n",
    "# Author: Burak Himmetoglu\n",
    "# 8/15/2017\n",
    "\n",
    "import pandas as pd \n",
    "import numpy as np\n",
    "import os\n",
    "\n",
    "def read_data(data_path, split = \"train\"):\n",
    "\t\"\"\" Read data \"\"\"\n",
    "\n",
    "\t# Fixed params\n",
    "\tn_class = 6\n",
    "\tn_steps = 128\n",
    "\n",
    "\t# Paths\n",
    "\tpath_ = os.path.join(data_path, split)\n",
    "\tpath_signals = os.path.join(path_, \"Inertial_Signals\")\n",
    "\n",
    "\t# Read labels and one-hot encode\n",
    "\tlabel_path = os.path.join(path_, \"y_\" + split + \".txt\")\n",
    "\tlabels = pd.read_csv(label_path, header = None)\n",
    "\n",
    "\t# Read time-series data\n",
    "\tchannel_files = os.listdir(path_signals)\n",
    "\tchannel_files.sort()\n",
    "\tn_channels = len(channel_files)\n",
    "\tposix = len(split) + 5\n",
    "\n",
    "\t# Initiate array\n",
    "\tlist_of_channels = []\n",
    "\tX = np.zeros((len(labels), n_steps, n_channels))\n",
    "\ti_ch = 0\n",
    "\tfor fil_ch in channel_files:\n",
    "\t\tchannel_name = fil_ch[:-posix]\n",
    "\t\tdat_ = pd.read_csv(os.path.join(path_signals,fil_ch), delim_whitespace = True, header = None)\n",
    "\t\tX[:,:,i_ch] = dat_.as_matrix()\n",
    "\n",
    "\t\t# Record names\n",
    "\t\tlist_of_channels.append(channel_name)\n",
    "\n",
    "\t\t# iterate\n",
    "\t\ti_ch += 1\n",
    "\n",
    "\t# Return \n",
    "\treturn X, labels[0].values, list_of_channels\n",
    "\n",
    "# test and train read\n",
    "Xtrain, Ytrain, _ = read_data(data_path=\"/home/arasdar/datasets/har-data/\", split=\"train\")\n",
    "Xtest, Ytest, _ = read_data(data_path=\"/home/arasdar/datasets/har-data/\", split=\"test\")\n",
    "\n",
    "# assert list_ch_train_valid == list_ch_test, \"Mistmatch in channels!\"\n",
    "assert Ytrain.max(axis=0) == Ytest.max(axis=0), 'Mismatch in channels of Ytrain and Ytest'\n",
    "\n",
    "# balanced data or not\n",
    "print(np.mean(Ytrain==1), np.mean(Ytrain==2), np.mean(Ytrain==3), \n",
    "      np.mean(Ytrain==4), np.mean(Ytrain==5), np.mean(Ytrain==6))\n",
    "\n",
    "print(Xtrain.shape, Xtrain.dtype, Xtest.shape, Xtest.dtype)\n",
    "print(Ytrain.shape, Ytrain.dtype, Ytest.shape, Ytest.dtype)"
   ]
  },
  {
   "cell_type": "code",
   "execution_count": 2,
   "metadata": {},
   "outputs": [
    {
     "name": "stdout",
     "output_type": "stream",
     "text": [
      "(7352, 128, 9) float64\n",
      "(2947, 128, 9) float64\n"
     ]
    }
   ],
   "source": [
    "# # standardizing/normalizing the train and test data\n",
    "# def standardize(train, test):\n",
    "# \"\"\" Standardize data \"\"\"\n",
    "# # Standardize train and test\n",
    "# X_train = (train - np.mean(train, axis=0)[None,:,:]) / np.std(train, axis=0)[None,:,:]\n",
    "# X_test = (test - np.mean(test, axis=0)[None,:,:]) / np.std(test, axis=0)[None,:,:]\n",
    "# return X_train, X_test\n",
    "\n",
    "Xtrain = (Xtrain - Xtrain.mean(axis=0))/ Xtrain.std(axis=0)\n",
    "Xtest = (Xtest - Xtest.mean(axis=0))/ Xtest.std(axis=0)\n",
    "print(Xtrain.shape, Xtrain.dtype)\n",
    "print(Xtest.shape, Xtest.dtype)\n",
    "# # Normalizing/standardizing the input data features\n",
    "# Xtrain, Xtest = standardize(train=Xtrain, test=Xtest)"
   ]
  },
  {
   "cell_type": "code",
   "execution_count": 3,
   "metadata": {},
   "outputs": [
    {
     "name": "stdout",
     "output_type": "stream",
     "text": [
      "[[ 7.29829690e-17 -1.02082531e-17  1.57352066e-17 ... -4.98687012e-15\n",
      "   1.85772084e-16  1.49046535e-16]\n",
      " [-3.78883238e-17 -3.43169454e-17  2.59223183e-16 ...  1.22050349e-15\n",
      "   4.80512740e-17 -4.62565242e-16]\n",
      " [ 1.84533805e-17 -2.06052682e-17 -3.44906065e-17 ... -2.15841883e-16\n",
      "   2.85362956e-16 -3.28763132e-16]\n",
      " ...\n",
      " [ 4.40797199e-17 -2.73629505e-17 -1.20505709e-17 ...  5.30356876e-15\n",
      "   5.48165068e-17 -3.37113966e-16]\n",
      " [ 2.29534684e-17  5.79273058e-17  8.81896418e-18 ...  2.48264790e-15\n",
      "  -1.15794208e-16  4.64958745e-17]\n",
      " [ 4.27810368e-17  1.22921864e-17 -3.12589997e-17 ... -1.67407304e-15\n",
      "   1.10599475e-16 -3.55174722e-16]] [[1. 1. 1. ... 1. 1. 1.]\n",
      " [1. 1. 1. ... 1. 1. 1.]\n",
      " [1. 1. 1. ... 1. 1. 1.]\n",
      " ...\n",
      " [1. 1. 1. ... 1. 1. 1.]\n",
      " [1. 1. 1. ... 1. 1. 1.]\n",
      " [1. 1. 1. ... 1. 1. 1.]]\n"
     ]
    }
   ],
   "source": [
    "print(Xtrain.mean(axis=0), Xtrain.std(axis=0))"
   ]
  },
  {
   "cell_type": "code",
   "execution_count": 4,
   "metadata": {},
   "outputs": [
    {
     "name": "stdout",
     "output_type": "stream",
     "text": [
      "[[ 7.16540276e-17  1.80830354e-17  2.95356244e-17 ... -4.00445992e-15\n",
      "   3.99333697e-17  2.13869566e-16]\n",
      " [ 5.58878811e-17  3.33782694e-17  5.28928784e-17 ...  6.23404167e-15\n",
      "   7.13526437e-17 -1.22135835e-16]\n",
      " [ 1.11512051e-17  8.43874983e-18  4.68652000e-17 ... -2.75390501e-15\n",
      "  -1.09251672e-17 -8.88329112e-17]\n",
      " ...\n",
      " [ 1.58980019e-17 -3.98580238e-17  3.31522315e-18 ... -1.33149533e-15\n",
      "   6.84894964e-17 -1.86330610e-16]\n",
      " [ 4.07810120e-17  5.57277709e-17  3.27001556e-17 ...  3.11386101e-16\n",
      "   1.40520254e-17 -2.61751937e-16]\n",
      " [ 9.20162788e-18 -4.68275270e-17 -4.47555125e-17 ... -1.35942986e-16\n",
      "   4.69028729e-17  2.26923257e-16]] [[1. 1. 1. ... 1. 1. 1.]\n",
      " [1. 1. 1. ... 1. 1. 1.]\n",
      " [1. 1. 1. ... 1. 1. 1.]\n",
      " ...\n",
      " [1. 1. 1. ... 1. 1. 1.]\n",
      " [1. 1. 1. ... 1. 1. 1.]\n",
      " [1. 1. 1. ... 1. 1. 1.]]\n"
     ]
    }
   ],
   "source": [
    "print(Xtest.mean(axis=0), Xtest.std(axis=0))"
   ]
  },
  {
   "cell_type": "code",
   "execution_count": 5,
   "metadata": {},
   "outputs": [],
   "source": [
    "# # # Onehotencoding of the output labels\n",
    "# # def onehot(labels, n_class):\n",
    "# # \t\"\"\" One-hot encoding \"\"\"\n",
    "# # \texpansion = np.eye(n_class)\n",
    "# # \ty = expansion[:, labels-1].T\n",
    "# # \tassert y.shape[1] == n_class, \"Wrong number of labels!\"\n",
    "\n",
    "# # \treturn y\n",
    "\n",
    "# print(Ytrain.max(axis=0), Ytest.max(axis=0))\n",
    "# assert Ytrain.max(axis=0) == Ytest.max(axis=0), 'wrong labels'\n",
    "\n",
    "# # Ytrain=onehot(labels=Ytrain, n_class=Ytrain.max(axis=0))\n",
    "# # Ytest=onehot(labels=Ytest, n_class=Ytest.max(axis=0))\n",
    "# # print(Ytrain.shape, Ytrain.dtype, Ytest.shape, Ytest.dtype)"
   ]
  },
  {
   "cell_type": "code",
   "execution_count": 6,
   "metadata": {},
   "outputs": [
    {
     "name": "stdout",
     "output_type": "stream",
     "text": [
      "(5146, 128, 9) (2206, 128, 9) (2947, 128, 9) float64 float64 float64\n",
      "(5146,) (2206,) (2947,) int64 int64 int64\n"
     ]
    }
   ],
   "source": [
    "from sklearn.model_selection import train_test_split\n",
    "\n",
    "# Now separating train and validation set\n",
    "# 30% of the training data/ entire training data is assigned to validation.\n",
    "Xtrain, Xvalid, Ytrain, Yvalid = train_test_split(Xtrain, Ytrain, test_size=0.30)\n",
    "print(Xtrain.shape, Xvalid.shape, Xtest.shape, Xtrain.dtype, Xvalid.dtype, Xtest.dtype)\n",
    "print(Ytrain.shape, Yvalid.shape, Ytest.shape, Ytrain.dtype, Yvalid.dtype, Ytest.dtype)"
   ]
  },
  {
   "cell_type": "code",
   "execution_count": 7,
   "metadata": {},
   "outputs": [
    {
     "name": "stdout",
     "output_type": "stream",
     "text": [
      "TensorFlow Version: 1.8.0\n",
      "Default GPU Device: /device:GPU:0\n"
     ]
    }
   ],
   "source": [
    "# In this one we should define and detect GPUs for tensorflow\n",
    "# GPUs or CPU\n",
    "import tensorflow as tf\n",
    "\n",
    "# Check TensorFlow Version\n",
    "print('TensorFlow Version: {}'.format(tf.__version__))\n",
    "\n",
    "# Check for a GPU\n",
    "print('Default GPU Device: {}'.format(tf.test.gpu_device_name()))"
   ]
  },
  {
   "cell_type": "code",
   "execution_count": 8,
   "metadata": {},
   "outputs": [
    {
     "name": "stdout",
     "output_type": "stream",
     "text": [
      "(?, 128, 9) <dtype: 'float32'> (5146, 128, 9) float64 (2206, 128, 9) float64 (2947, 128, 9) float64\n"
     ]
    }
   ],
   "source": [
    "# now I can design the actual input and output tensors\n",
    "N, W, Cin = Xvalid.shape[0], Xvalid.shape[1], Xvalid.shape[2]\n",
    "Xinputs = tf.placeholder(dtype=tf.float32, name=None, shape=[None, W, Cin])\n",
    "print(Xinputs.shape, Xinputs.dtype, Xtrain.shape, Xtrain.dtype, Xvalid.shape, Xvalid.dtype, Xtest.shape, Xtest.dtype)"
   ]
  },
  {
   "cell_type": "code",
   "execution_count": 9,
   "metadata": {},
   "outputs": [],
   "source": [
    "# # This is the output tensor for labels\n",
    "# N, Cout = Yvalid.shape[0], Yvalid.shape[1]\n",
    "# Ylabels = tf.placeholder(dtype=tf.float32, name=None, shape=[N, Cout])\n",
    "# print(Ylabels.shape, Ylabels.dtype, Ytrain.shape, Ytrain.dtype, Yvalid.shape, Yvalid.dtype, Ytest.shape, Ytest.dtype)"
   ]
  },
  {
   "cell_type": "code",
   "execution_count": 10,
   "metadata": {},
   "outputs": [
    {
     "name": "stdout",
     "output_type": "stream",
     "text": [
      "(?,) <dtype: 'int32'> (5146,) int64 (2206,) int64 (2947,) int64\n"
     ]
    }
   ],
   "source": [
    "# This is the output tensor for indices which sould be onehot-encoded for training\n",
    "Yindices = tf.placeholder(dtype=tf.int32, name=None, shape=[None])\n",
    "print(Yindices.shape, Yindices.dtype, Ytrain.shape, Ytrain.dtype, Yvalid.shape, Yvalid.dtype, Ytest.shape, Ytest.dtype)"
   ]
  },
  {
   "cell_type": "code",
   "execution_count": 11,
   "metadata": {},
   "outputs": [
    {
     "name": "stdout",
     "output_type": "stream",
     "text": [
      "(?, 128, 9) <dtype: 'float32'>\n",
      "(?, 1152) <dtype: 'float32'>\n",
      "1 (?, 1152) <dtype: 'float32'>\n"
     ]
    }
   ],
   "source": [
    "print(Xinputs.shape, Xinputs.dtype)\n",
    "Xinputs_vec = tf.reshape(tensor=Xinputs, shape=[-1, W*Cin]) # (W*N, Cin)\n",
    "print(Xinputs_vec.shape, Xinputs_vec.dtype)\n",
    "inputs = tf.split(value=Xinputs_vec, num_or_size_splits=1, axis=0)\n",
    "print(len(inputs), inputs[0].shape, inputs[0].dtype)"
   ]
  },
  {
   "cell_type": "code",
   "execution_count": 12,
   "metadata": {},
   "outputs": [
    {
     "name": "stdout",
     "output_type": "stream",
     "text": [
      "3456\n",
      "<tensorflow.python.ops.rnn_cell_impl.BasicLSTMCell object at 0x7fa0a714fb38>\n"
     ]
    }
   ],
   "source": [
    "# RNN-LSTM parameters\n",
    "lstm_size = 3 * W*Cin # 3 times the amount of channels\n",
    "print(lstm_size)\n",
    "\n",
    "# Add LSTM layers\n",
    "# lstm = tf.contrib.rnn.BasicLSTMCell(lstm_size)\n",
    "lstm = tf.nn.rnn_cell.BasicLSTMCell(num_units=lstm_size)\n",
    "print(lstm)"
   ]
  },
  {
   "cell_type": "code",
   "execution_count": 13,
   "metadata": {},
   "outputs": [],
   "source": [
    "# drop = tf.nn.rnn_cell.DropoutWrapper(lstm, output_keep_prob=keep_prob_)\n",
    "lstm_layers = 1 # Number of layers\n",
    "cell = tf.nn.rnn_cell.MultiRNNCell(cells=[lstm] * lstm_layers)"
   ]
  },
  {
   "cell_type": "code",
   "execution_count": 14,
   "metadata": {},
   "outputs": [],
   "source": [
    "initial_state = cell.zero_state(batch_size=N, dtype=tf.float32)"
   ]
  },
  {
   "cell_type": "code",
   "execution_count": 15,
   "metadata": {},
   "outputs": [
    {
     "name": "stdout",
     "output_type": "stream",
     "text": [
      "1 (2206, 3456) <dtype: 'float32'> 1\n"
     ]
    }
   ],
   "source": [
    "outputs, final_state = tf.nn.static_rnn(cell=cell, inputs=inputs, dtype=tf.float32, initial_state=initial_state)\n",
    "print(len(outputs), outputs[0].shape, outputs[0].dtype, len(final_state))"
   ]
  },
  {
   "cell_type": "code",
   "execution_count": 16,
   "metadata": {},
   "outputs": [
    {
     "name": "stdout",
     "output_type": "stream",
     "text": [
      "6 6 6\n",
      "1 1 1\n"
     ]
    }
   ],
   "source": [
    "print(Ytrain.max(axis=0), Yvalid.max(axis=0), Ytest.max(axis=0))\n",
    "print(Ytrain.min(axis=0), Yvalid.min(axis=0), Ytest.min(axis=0))\n",
    "assert Ytrain.max(axis=0) == Ytest.max(axis=0), 'wrong labels'\n",
    "Cout = Ytrain.max(axis=0)"
   ]
  },
  {
   "cell_type": "code",
   "execution_count": 20,
   "metadata": {},
   "outputs": [
    {
     "name": "stdout",
     "output_type": "stream",
     "text": [
      "(2206, 6) <dtype: 'float32'>\n",
      "1 (2206, 3456) <dtype: 'float32'> (LSTMStateTuple(c=<tf.Tensor 'rnn/rnn/multi_rnn_cell/cell_0/basic_lstm_cell/Add_1:0' shape=(2206, 3456) dtype=float32>, h=<tf.Tensor 'rnn/rnn/multi_rnn_cell/cell_0/basic_lstm_cell/Mul_2:0' shape=(2206, 3456) dtype=float32>),)\n"
     ]
    }
   ],
   "source": [
    "# We only need the last output tensor to pass into a classifier\n",
    "Ylogits = tf.layers.dense(inputs=outputs[0], units=Cout, name=None)\n",
    "print(Ylogits.shape, Ylogits.dtype)\n",
    "print(len(outputs), outputs[-1].shape, outputs[-1].dtype, final_state)"
   ]
  },
  {
   "cell_type": "code",
   "execution_count": 21,
   "metadata": {},
   "outputs": [
    {
     "name": "stdout",
     "output_type": "stream",
     "text": [
      "Tensor(\"softmax_cross_entropy_with_logits/Reshape_2:0\", shape=(2206,), dtype=float32)\n",
      "Tensor(\"Mean:0\", shape=(), dtype=float32)\n"
     ]
    }
   ],
   "source": [
    "# Backward pass: error backpropagation\n",
    "# Cost function\n",
    "Ylabels = tf.one_hot(depth=Cout, indices=Yindices, dtype=Ylogits.dtype)\n",
    "loss = tf.nn.softmax_cross_entropy_with_logits_v2(logits=Ylogits, labels=Ylabels)\n",
    "print(loss)\n",
    "loss = tf.reduce_mean(input_tensor=loss)\n",
    "print(loss)"
   ]
  },
  {
   "cell_type": "code",
   "execution_count": 22,
   "metadata": {},
   "outputs": [
    {
     "name": "stdout",
     "output_type": "stream",
     "text": [
      "optimizer name: \"Adam\"\n",
      "op: \"NoOp\"\n",
      "input: \"^Adam/update_rnn/multi_rnn_cell/cell_0/basic_lstm_cell/kernel/ApplyAdam\"\n",
      "input: \"^Adam/update_rnn/multi_rnn_cell/cell_0/basic_lstm_cell/bias/ApplyAdam\"\n",
      "input: \"^Adam/update_dense_1/kernel/ApplyAdam\"\n",
      "input: \"^Adam/update_dense_1/bias/ApplyAdam\"\n",
      "input: \"^Adam/Assign\"\n",
      "input: \"^Adam/Assign_1\"\n",
      "\n"
     ]
    }
   ],
   "source": [
    "# Optimizer\n",
    "optimizer = tf.train.AdamOptimizer().minimize(loss=loss)\n",
    "print('optimizer', optimizer)"
   ]
  },
  {
   "cell_type": "code",
   "execution_count": 23,
   "metadata": {},
   "outputs": [
    {
     "name": "stdout",
     "output_type": "stream",
     "text": [
      "Tensor(\"ArgMax:0\", shape=(2206,), dtype=int64)\n",
      "Tensor(\"ArgMax_1:0\", shape=(?,), dtype=int64)\n",
      "Tensor(\"Equal:0\", shape=(2206,), dtype=bool)\n",
      "Tensor(\"Cast:0\", shape=(2206,), dtype=float32)\n",
      "Tensor(\"Mean_1:0\", shape=(), dtype=float32)\n"
     ]
    }
   ],
   "source": [
    "# Accuracy\n",
    "Ylogits_argmax = tf.argmax(input=Ylogits, axis=1)\n",
    "print(Ylogits_argmax)\n",
    "Ylabels_argmax = tf.argmax(input=Ylabels, axis=1)\n",
    "print(Ylabels_argmax)\n",
    "accuracy = tf.equal(x=Ylogits_argmax, y=Ylabels_argmax, name=None)\n",
    "print(accuracy)\n",
    "accuracy = tf.cast(x=accuracy, dtype=tf.float32)\n",
    "print(accuracy)\n",
    "accuracy = tf.reduce_mean(input_tensor=accuracy, name=None)\n",
    "print(accuracy)"
   ]
  },
  {
   "cell_type": "code",
   "execution_count": 24,
   "metadata": {},
   "outputs": [],
   "source": [
    "# # Confusion matrix\n",
    "# confusion_matrix = tf.confusion_matrix(predictions=tf.argmax(logits, 1),\n",
    "#                                        labels=tf.argmax(labels_, 1))\n",
    "# print('confusion_matrix', confusion_matrix)"
   ]
  },
  {
   "cell_type": "code",
   "execution_count": 25,
   "metadata": {},
   "outputs": [],
   "source": [
    "def get_batches(X, Y, batch_size):\n",
    "    \"\"\" Return a generator for batches \"\"\"\n",
    "    n_batches = len(X) // batch_size\n",
    "    X, Y = X[:n_batches*batch_size], Y[:n_batches*batch_size]\n",
    "\n",
    "    # Loop over batches and yield\n",
    "    for b in range(0, len(X), batch_size):\n",
    "        yield X[b:b+batch_size], Y[b:b+batch_size]"
   ]
  },
  {
   "cell_type": "code",
   "execution_count": 26,
   "metadata": {
    "scrolled": true
   },
   "outputs": [
    {
     "name": "stdout",
     "output_type": "stream",
     "text": [
      "Epoch: 1/200 Train loss: 1.287753 Valid loss: 0.901842 Train acc: 0.378286 Valid acc: 0.742520\n",
      "Epoch: 2/200 Train loss: 0.796522 Valid loss: 0.606498 Train acc: 0.665911 Valid acc: 0.660471\n",
      "Epoch: 3/200 Train loss: 0.880380 Valid loss: 0.415514 Train acc: 0.601768 Valid acc: 0.698096\n",
      "Epoch: 4/200 Train loss: 0.870069 Valid loss: 0.337474 Train acc: 0.660018 Valid acc: 0.715322\n",
      "Epoch: 5/200 Train loss: 0.769874 Valid loss: 0.289447 Train acc: 0.660698 Valid acc: 0.759293\n",
      "Epoch: 6/200 Train loss: 0.361570 Valid loss: 0.265939 Train acc: 0.761106 Valid acc: 0.891206\n",
      "Epoch: 7/200 Train loss: 0.335248 Valid loss: 0.247340 Train acc: 0.803717 Valid acc: 0.755666\n",
      "Epoch: 8/200 Train loss: 0.297658 Valid loss: 0.232180 Train acc: 0.715095 Valid acc: 0.749320\n",
      "Epoch: 9/200 Train loss: 0.257625 Valid loss: 0.221938 Train acc: 0.717362 Valid acc: 0.751133\n",
      "Epoch: 10/200 Train loss: 0.201049 Valid loss: 0.215547 Train acc: 0.747507 Valid acc: 0.750227\n",
      "Epoch: 11/200 Train loss: 0.196781 Valid loss: 0.211010 Train acc: 0.737987 Valid acc: 0.752040\n",
      "Epoch: 12/200 Train loss: 0.159706 Valid loss: 0.207221 Train acc: 0.760653 Valid acc: 0.752040\n",
      "Epoch: 13/200 Train loss: 0.161201 Valid loss: 0.203954 Train acc: 0.760199 Valid acc: 0.751587\n",
      "Epoch: 14/200 Train loss: 0.145823 Valid loss: 0.200947 Train acc: 0.757480 Valid acc: 0.749773\n",
      "Epoch: 15/200 Train loss: 0.132728 Valid loss: 0.198194 Train acc: 0.763146 Valid acc: 0.751133\n",
      "Epoch: 16/200 Train loss: 0.127515 Valid loss: 0.195899 Train acc: 0.764279 Valid acc: 0.752493\n",
      "Epoch: 17/200 Train loss: 0.117974 Valid loss: 0.193958 Train acc: 0.766092 Valid acc: 0.752946\n",
      "Epoch: 18/200 Train loss: 0.114377 Valid loss: 0.192358 Train acc: 0.766319 Valid acc: 0.758840\n",
      "Epoch: 19/200 Train loss: 0.110082 Valid loss: 0.191022 Train acc: 0.771306 Valid acc: 0.758386\n",
      "Epoch: 20/200 Train loss: 0.110579 Valid loss: 0.189655 Train acc: 0.779012 Valid acc: 0.757933\n",
      "Epoch: 21/200 Train loss: 0.161191 Valid loss: 0.189368 Train acc: 0.762239 Valid acc: 0.757933\n",
      "Epoch: 22/200 Train loss: 0.146337 Valid loss: 0.189379 Train acc: 0.771306 Valid acc: 0.753853\n",
      "Epoch: 23/200 Train loss: 0.113060 Valid loss: 0.187382 Train acc: 0.769266 Valid acc: 0.754306\n",
      "Epoch: 24/200 Train loss: 0.121156 Valid loss: 0.185614 Train acc: 0.768812 Valid acc: 0.756573\n",
      "Epoch: 25/200 Train loss: 0.107627 Valid loss: 0.184700 Train acc: 0.771986 Valid acc: 0.757933\n",
      "Epoch: 26/200 Train loss: 0.107767 Valid loss: 0.183626 Train acc: 0.788758 Valid acc: 0.758386\n",
      "Epoch: 27/200 Train loss: 0.099023 Valid loss: 0.182214 Train acc: 0.790118 Valid acc: 0.758386\n",
      "Epoch: 28/200 Train loss: 0.104519 Valid loss: 0.181312 Train acc: 0.779012 Valid acc: 0.757933\n",
      "Epoch: 29/200 Train loss: 0.096573 Valid loss: 0.180835 Train acc: 0.780372 Valid acc: 0.758386\n",
      "Epoch: 30/200 Train loss: 0.093160 Valid loss: 0.180155 Train acc: 0.772439 Valid acc: 0.758386\n",
      "Epoch: 31/200 Train loss: 0.094437 Valid loss: 0.179497 Train acc: 0.773572 Valid acc: 0.757480\n",
      "Epoch: 32/200 Train loss: 0.092010 Valid loss: 0.178630 Train acc: 0.772212 Valid acc: 0.759746\n",
      "Epoch: 33/200 Train loss: 0.088998 Valid loss: 0.177706 Train acc: 0.774705 Valid acc: 0.759746\n",
      "Epoch: 34/200 Train loss: 0.087746 Valid loss: 0.177289 Train acc: 0.776065 Valid acc: 0.758386\n",
      "Epoch: 35/200 Train loss: 0.088743 Valid loss: 0.177156 Train acc: 0.774479 Valid acc: 0.758840\n",
      "Epoch: 36/200 Train loss: 0.097368 Valid loss: 0.177643 Train acc: 0.769492 Valid acc: 0.757933\n",
      "Epoch: 37/200 Train loss: 0.103941 Valid loss: 0.177726 Train acc: 0.768359 Valid acc: 0.757480\n",
      "Epoch: 38/200 Train loss: 0.087950 Valid loss: 0.176859 Train acc: 0.774479 Valid acc: 0.758840\n",
      "Epoch: 39/200 Train loss: 0.090404 Valid loss: 0.176497 Train acc: 0.774252 Valid acc: 0.757933\n",
      "Epoch: 40/200 Train loss: 0.086890 Valid loss: 0.176385 Train acc: 0.774025 Valid acc: 0.759746\n",
      "Epoch: 41/200 Train loss: 0.084664 Valid loss: 0.176274 Train acc: 0.774932 Valid acc: 0.762013\n",
      "Epoch: 42/200 Train loss: 0.086456 Valid loss: 0.176677 Train acc: 0.777199 Valid acc: 0.760653\n",
      "Epoch: 43/200 Train loss: 0.081868 Valid loss: 0.177204 Train acc: 0.776292 Valid acc: 0.759293\n",
      "Epoch: 44/200 Train loss: 0.082178 Valid loss: 0.177054 Train acc: 0.774705 Valid acc: 0.758386\n",
      "Epoch: 45/200 Train loss: 0.084046 Valid loss: 0.176794 Train acc: 0.775612 Valid acc: 0.760199\n",
      "Epoch: 46/200 Train loss: 0.081160 Valid loss: 0.176679 Train acc: 0.777199 Valid acc: 0.760653\n",
      "Epoch: 47/200 Train loss: 0.079033 Valid loss: 0.176612 Train acc: 0.778332 Valid acc: 0.761106\n",
      "Epoch: 48/200 Train loss: 0.079280 Valid loss: 0.176812 Train acc: 0.779918 Valid acc: 0.761106\n",
      "Epoch: 49/200 Train loss: 0.080474 Valid loss: 0.176983 Train acc: 0.778558 Valid acc: 0.761559\n",
      "Epoch: 50/200 Train loss: 0.083476 Valid loss: 0.177267 Train acc: 0.779012 Valid acc: 0.762013\n",
      "Epoch: 51/200 Train loss: 0.083385 Valid loss: 0.177177 Train acc: 0.777199 Valid acc: 0.760199\n",
      "Epoch: 52/200 Train loss: 0.079581 Valid loss: 0.176870 Train acc: 0.778558 Valid acc: 0.761106\n",
      "Epoch: 53/200 Train loss: 0.076543 Valid loss: 0.176819 Train acc: 0.779692 Valid acc: 0.761106\n",
      "Epoch: 54/200 Train loss: 0.078535 Valid loss: 0.176400 Train acc: 0.777879 Valid acc: 0.757480\n",
      "Epoch: 55/200 Train loss: 0.076655 Valid loss: 0.176021 Train acc: 0.779012 Valid acc: 0.757026\n",
      "Epoch: 56/200 Train loss: 0.074369 Valid loss: 0.175977 Train acc: 0.779012 Valid acc: 0.757026\n",
      "Epoch: 57/200 Train loss: 0.075421 Valid loss: 0.175788 Train acc: 0.777425 Valid acc: 0.757480\n",
      "Epoch: 58/200 Train loss: 0.076755 Valid loss: 0.175858 Train acc: 0.777199 Valid acc: 0.757933\n",
      "Epoch: 59/200 Train loss: 0.074592 Valid loss: 0.176068 Train acc: 0.776972 Valid acc: 0.757480\n",
      "Epoch: 60/200 Train loss: 0.072673 Valid loss: 0.176036 Train acc: 0.778558 Valid acc: 0.757933\n",
      "Epoch: 61/200 Train loss: 0.072350 Valid loss: 0.176071 Train acc: 0.778558 Valid acc: 0.757480\n",
      "Epoch: 62/200 Train loss: 0.072743 Valid loss: 0.175799 Train acc: 0.777879 Valid acc: 0.758386\n",
      "Epoch: 63/200 Train loss: 0.073394 Valid loss: 0.175418 Train acc: 0.778785 Valid acc: 0.757933\n",
      "Epoch: 64/200 Train loss: 0.074373 Valid loss: 0.175008 Train acc: 0.776972 Valid acc: 0.757026\n",
      "Epoch: 65/200 Train loss: 0.075549 Valid loss: 0.174783 Train acc: 0.777652 Valid acc: 0.756120\n",
      "Epoch: 66/200 Train loss: 0.072388 Valid loss: 0.174820 Train acc: 0.777425 Valid acc: 0.756120\n",
      "Epoch: 67/200 Train loss: 0.069648 Valid loss: 0.174758 Train acc: 0.779012 Valid acc: 0.757026\n",
      "Epoch: 68/200 Train loss: 0.070516 Valid loss: 0.174822 Train acc: 0.779918 Valid acc: 0.755666\n",
      "Epoch: 69/200 Train loss: 0.070541 Valid loss: 0.174563 Train acc: 0.778105 Valid acc: 0.755213\n",
      "Epoch: 70/200 Train loss: 0.068226 Valid loss: 0.174184 Train acc: 0.779692 Valid acc: 0.754306\n",
      "Epoch: 71/200 Train loss: 0.067047 Valid loss: 0.174134 Train acc: 0.779465 Valid acc: 0.754306\n",
      "Epoch: 72/200 Train loss: 0.067396 Valid loss: 0.174191 Train acc: 0.779238 Valid acc: 0.755213\n",
      "Epoch: 73/200 Train loss: 0.067938 Valid loss: 0.174473 Train acc: 0.779918 Valid acc: 0.753400\n",
      "Epoch: 74/200 Train loss: 0.067290 Valid loss: 0.174528 Train acc: 0.779012 Valid acc: 0.753400\n",
      "Epoch: 75/200 Train loss: 0.066023 Valid loss: 0.174127 Train acc: 0.780598 Valid acc: 0.752946\n",
      "Epoch: 76/200 Train loss: 0.064751 Valid loss: 0.173838 Train acc: 0.779918 Valid acc: 0.752946\n",
      "Epoch: 77/200 Train loss: 0.063735 Valid loss: 0.173923 Train acc: 0.781052 Valid acc: 0.753400\n",
      "Epoch: 78/200 Train loss: 0.063139 Valid loss: 0.174027 Train acc: 0.781505 Valid acc: 0.752946\n",
      "Epoch: 79/200 Train loss: 0.062741 Valid loss: 0.174025 Train acc: 0.781278 Valid acc: 0.752946\n",
      "Epoch: 80/200 Train loss: 0.062907 Valid loss: 0.173882 Train acc: 0.779692 Valid acc: 0.752946\n",
      "Epoch: 81/200 Train loss: 0.066313 Valid loss: 0.174066 Train acc: 0.780598 Valid acc: 0.753400\n",
      "Epoch: 82/200 Train loss: 0.076808 Valid loss: 0.173975 Train acc: 0.775385 Valid acc: 0.753853\n",
      "Epoch: 83/200 Train loss: 0.073834 Valid loss: 0.173906 Train acc: 0.777652 Valid acc: 0.753853\n",
      "Epoch: 84/200 Train loss: 0.061646 Valid loss: 0.174075 Train acc: 0.779918 Valid acc: 0.753853\n",
      "Epoch: 85/200 Train loss: 0.066109 Valid loss: 0.173603 Train acc: 0.779465 Valid acc: 0.753853\n",
      "Epoch: 86/200 Train loss: 0.060621 Valid loss: 0.173132 Train acc: 0.782638 Valid acc: 0.754306\n"
     ]
    },
    {
     "name": "stdout",
     "output_type": "stream",
     "text": [
      "Epoch: 87/200 Train loss: 0.061002 Valid loss: 0.173245 Train acc: 0.782185 Valid acc: 0.753853\n",
      "Epoch: 88/200 Train loss: 0.060303 Valid loss: 0.173433 Train acc: 0.781052 Valid acc: 0.752946\n",
      "Epoch: 89/200 Train loss: 0.058314 Valid loss: 0.173091 Train acc: 0.782865 Valid acc: 0.753853\n",
      "Epoch: 90/200 Train loss: 0.059368 Valid loss: 0.172955 Train acc: 0.783318 Valid acc: 0.754760\n",
      "Epoch: 91/200 Train loss: 0.056697 Valid loss: 0.173115 Train acc: 0.785358 Valid acc: 0.758386\n",
      "Epoch: 92/200 Train loss: 0.056726 Valid loss: 0.173216 Train acc: 0.785131 Valid acc: 0.754760\n",
      "Epoch: 93/200 Train loss: 0.055723 Valid loss: 0.173290 Train acc: 0.785131 Valid acc: 0.753400\n",
      "Epoch: 94/200 Train loss: 0.054601 Valid loss: 0.173429 Train acc: 0.784678 Valid acc: 0.754760\n",
      "Epoch: 95/200 Train loss: 0.054365 Valid loss: 0.173563 Train acc: 0.784678 Valid acc: 0.753400\n",
      "Epoch: 96/200 Train loss: 0.053877 Valid loss: 0.173597 Train acc: 0.785585 Valid acc: 0.753400\n",
      "Epoch: 97/200 Train loss: 0.053072 Valid loss: 0.173400 Train acc: 0.786038 Valid acc: 0.754306\n",
      "Epoch: 98/200 Train loss: 0.052246 Valid loss: 0.172977 Train acc: 0.785811 Valid acc: 0.756120\n",
      "Epoch: 99/200 Train loss: 0.051463 Valid loss: 0.172774 Train acc: 0.786718 Valid acc: 0.755666\n",
      "Epoch: 100/200 Train loss: 0.050830 Valid loss: 0.172687 Train acc: 0.786491 Valid acc: 0.754760\n",
      "Epoch: 101/200 Train loss: 0.050289 Valid loss: 0.172569 Train acc: 0.787398 Valid acc: 0.753400\n",
      "Epoch: 102/200 Train loss: 0.049825 Valid loss: 0.172395 Train acc: 0.787398 Valid acc: 0.752493\n",
      "Epoch: 103/200 Train loss: 0.051130 Valid loss: 0.172178 Train acc: 0.785358 Valid acc: 0.753400\n",
      "Epoch: 104/200 Train loss: 0.068748 Valid loss: 0.172649 Train acc: 0.779238 Valid acc: 0.754760\n",
      "Epoch: 105/200 Train loss: 0.093651 Valid loss: 0.172768 Train acc: 0.779692 Valid acc: 0.755213\n",
      "Epoch: 106/200 Train loss: 0.051970 Valid loss: 0.172047 Train acc: 0.785131 Valid acc: 0.760653\n",
      "Epoch: 107/200 Train loss: 0.067521 Valid loss: 0.171912 Train acc: 0.782865 Valid acc: 0.754760\n",
      "Epoch: 108/200 Train loss: 0.050128 Valid loss: 0.172207 Train acc: 0.785811 Valid acc: 0.754306\n",
      "Epoch: 109/200 Train loss: 0.057595 Valid loss: 0.171840 Train acc: 0.781732 Valid acc: 0.753853\n",
      "Epoch: 110/200 Train loss: 0.049145 Valid loss: 0.171355 Train acc: 0.786491 Valid acc: 0.758386\n",
      "Epoch: 111/200 Train loss: 0.052766 Valid loss: 0.171507 Train acc: 0.786265 Valid acc: 0.755666\n",
      "Epoch: 112/200 Train loss: 0.048020 Valid loss: 0.172127 Train acc: 0.788305 Valid acc: 0.757933\n",
      "Epoch: 113/200 Train loss: 0.050139 Valid loss: 0.172128 Train acc: 0.787398 Valid acc: 0.756120\n",
      "Epoch: 114/200 Train loss: 0.046943 Valid loss: 0.171807 Train acc: 0.789211 Valid acc: 0.755666\n",
      "Epoch: 115/200 Train loss: 0.046968 Valid loss: 0.171539 Train acc: 0.788531 Valid acc: 0.755666\n",
      "Epoch: 116/200 Train loss: 0.045882 Valid loss: 0.171409 Train acc: 0.786491 Valid acc: 0.756573\n",
      "Epoch: 117/200 Train loss: 0.045004 Valid loss: 0.171199 Train acc: 0.787625 Valid acc: 0.756120\n",
      "Epoch: 118/200 Train loss: 0.044664 Valid loss: 0.171062 Train acc: 0.789211 Valid acc: 0.755666\n",
      "Epoch: 119/200 Train loss: 0.043794 Valid loss: 0.171007 Train acc: 0.789211 Valid acc: 0.755666\n",
      "Epoch: 120/200 Train loss: 0.043439 Valid loss: 0.170913 Train acc: 0.789211 Valid acc: 0.755666\n",
      "Epoch: 121/200 Train loss: 0.043265 Valid loss: 0.170864 Train acc: 0.789891 Valid acc: 0.756120\n",
      "Epoch: 122/200 Train loss: 0.042679 Valid loss: 0.170835 Train acc: 0.790118 Valid acc: 0.757026\n",
      "Epoch: 123/200 Train loss: 0.041983 Valid loss: 0.170984 Train acc: 0.790798 Valid acc: 0.758840\n",
      "Epoch: 124/200 Train loss: 0.041341 Valid loss: 0.171274 Train acc: 0.790798 Valid acc: 0.758840\n",
      "Epoch: 125/200 Train loss: 0.040776 Valid loss: 0.171564 Train acc: 0.791478 Valid acc: 0.758386\n",
      "Epoch: 126/200 Train loss: 0.040493 Valid loss: 0.171889 Train acc: 0.791931 Valid acc: 0.757933\n",
      "Epoch: 127/200 Train loss: 0.040732 Valid loss: 0.172190 Train acc: 0.791931 Valid acc: 0.757480\n",
      "Epoch: 128/200 Train loss: 0.043794 Valid loss: 0.172269 Train acc: 0.790118 Valid acc: 0.757026\n",
      "Epoch: 129/200 Train loss: 0.053243 Valid loss: 0.172550 Train acc: 0.786945 Valid acc: 0.757480\n",
      "Epoch: 130/200 Train loss: 0.050760 Valid loss: 0.172701 Train acc: 0.787398 Valid acc: 0.757026\n",
      "Epoch: 131/200 Train loss: 0.040678 Valid loss: 0.172703 Train acc: 0.790344 Valid acc: 0.757026\n",
      "Epoch: 132/200 Train loss: 0.045174 Valid loss: 0.173125 Train acc: 0.789665 Valid acc: 0.757480\n",
      "Epoch: 133/200 Train loss: 0.038862 Valid loss: 0.173249 Train acc: 0.793064 Valid acc: 0.757480\n",
      "Epoch: 134/200 Train loss: 0.042166 Valid loss: 0.172909 Train acc: 0.791478 Valid acc: 0.756573\n",
      "Epoch: 135/200 Train loss: 0.038172 Valid loss: 0.172810 Train acc: 0.793744 Valid acc: 0.757933\n",
      "Epoch: 136/200 Train loss: 0.040147 Valid loss: 0.172745 Train acc: 0.792158 Valid acc: 0.757933\n",
      "Epoch: 137/200 Train loss: 0.037359 Valid loss: 0.172120 Train acc: 0.793291 Valid acc: 0.756573\n",
      "Epoch: 138/200 Train loss: 0.038237 Valid loss: 0.171655 Train acc: 0.792384 Valid acc: 0.757026\n",
      "Epoch: 139/200 Train loss: 0.036610 Valid loss: 0.171564 Train acc: 0.794198 Valid acc: 0.757026\n",
      "Epoch: 140/200 Train loss: 0.036870 Valid loss: 0.171636 Train acc: 0.794651 Valid acc: 0.756573\n",
      "Epoch: 141/200 Train loss: 0.035946 Valid loss: 0.171903 Train acc: 0.793744 Valid acc: 0.757026\n",
      "Epoch: 142/200 Train loss: 0.035919 Valid loss: 0.172141 Train acc: 0.794878 Valid acc: 0.756573\n",
      "Epoch: 143/200 Train loss: 0.035072 Valid loss: 0.172267 Train acc: 0.794424 Valid acc: 0.756573\n",
      "Epoch: 144/200 Train loss: 0.034667 Valid loss: 0.172463 Train acc: 0.794198 Valid acc: 0.755666\n",
      "Epoch: 145/200 Train loss: 0.034366 Valid loss: 0.172472 Train acc: 0.793971 Valid acc: 0.756573\n",
      "Epoch: 146/200 Train loss: 0.033810 Valid loss: 0.172467 Train acc: 0.794198 Valid acc: 0.757026\n",
      "Epoch: 147/200 Train loss: 0.033456 Valid loss: 0.172796 Train acc: 0.795104 Valid acc: 0.754760\n",
      "Epoch: 148/200 Train loss: 0.033152 Valid loss: 0.172992 Train acc: 0.795331 Valid acc: 0.755213\n",
      "Epoch: 149/200 Train loss: 0.032704 Valid loss: 0.173113 Train acc: 0.795784 Valid acc: 0.756120\n",
      "Epoch: 150/200 Train loss: 0.032295 Valid loss: 0.173451 Train acc: 0.795784 Valid acc: 0.756120\n",
      "Epoch: 151/200 Train loss: 0.032016 Valid loss: 0.173608 Train acc: 0.796238 Valid acc: 0.755666\n",
      "Epoch: 152/200 Train loss: 0.031914 Valid loss: 0.173810 Train acc: 0.796691 Valid acc: 0.756120\n",
      "Epoch: 153/200 Train loss: 0.032439 Valid loss: 0.173782 Train acc: 0.795331 Valid acc: 0.758386\n",
      "Epoch: 154/200 Train loss: 0.035786 Valid loss: 0.173734 Train acc: 0.795558 Valid acc: 0.820036\n",
      "Epoch: 155/200 Train loss: 0.040263 Valid loss: 0.173578 Train acc: 0.826156 Valid acc: 0.789665\n",
      "Epoch: 156/200 Train loss: 0.034112 Valid loss: 0.173688 Train acc: 0.814143 Valid acc: 0.762466\n",
      "Epoch: 157/200 Train loss: 0.031107 Valid loss: 0.174000 Train acc: 0.801224 Valid acc: 0.762013\n",
      "Epoch: 158/200 Train loss: 0.033027 Valid loss: 0.173993 Train acc: 0.798051 Valid acc: 0.822303\n",
      "Epoch: 159/200 Train loss: 0.030164 Valid loss: 0.174306 Train acc: 0.832956 Valid acc: 0.857661\n",
      "Epoch: 160/200 Train loss: 0.031370 Valid loss: 0.174266 Train acc: 0.853354 Valid acc: 0.758840\n",
      "Epoch: 161/200 Train loss: 0.030230 Valid loss: 0.174020 Train acc: 0.798504 Valid acc: 0.754760\n",
      "Epoch: 162/200 Train loss: 0.029761 Valid loss: 0.174286 Train acc: 0.797144 Valid acc: 0.763373\n",
      "Epoch: 163/200 Train loss: 0.029837 Valid loss: 0.174376 Train acc: 0.801224 Valid acc: 0.789665\n",
      "Epoch: 164/200 Train loss: 0.028980 Valid loss: 0.174555 Train acc: 0.817543 Valid acc: 0.816410\n",
      "Epoch: 165/200 Train loss: 0.029464 Valid loss: 0.174710 Train acc: 0.828196 Valid acc: 0.829102\n",
      "Epoch: 166/200 Train loss: 0.028900 Valid loss: 0.174781 Train acc: 0.837715 Valid acc: 0.841795\n",
      "Epoch: 167/200 Train loss: 0.028685 Valid loss: 0.175278 Train acc: 0.846102 Valid acc: 0.867180\n",
      "Epoch: 168/200 Train loss: 0.028753 Valid loss: 0.175358 Train acc: 0.858568 Valid acc: 0.871714\n",
      "Epoch: 169/200 Train loss: 0.028343 Valid loss: 0.175559 Train acc: 0.861287 Valid acc: 0.859927\n",
      "Epoch: 170/200 Train loss: 0.027950 Valid loss: 0.175512 Train acc: 0.856528 Valid acc: 0.838622\n",
      "Epoch: 171/200 Train loss: 0.028262 Valid loss: 0.175409 Train acc: 0.844968 Valid acc: 0.822756\n"
     ]
    },
    {
     "name": "stdout",
     "output_type": "stream",
     "text": [
      "Epoch: 172/200 Train loss: 0.028420 Valid loss: 0.175829 Train acc: 0.837035 Valid acc: 0.822303\n",
      "Epoch: 173/200 Train loss: 0.027945 Valid loss: 0.175874 Train acc: 0.834542 Valid acc: 0.878513\n",
      "Epoch: 174/200 Train loss: 0.027460 Valid loss: 0.176411 Train acc: 0.866954 Valid acc: 0.871260\n",
      "Epoch: 175/200 Train loss: 0.027113 Valid loss: 0.176755 Train acc: 0.862421 Valid acc: 0.856301\n",
      "Epoch: 176/200 Train loss: 0.027058 Valid loss: 0.177640 Train acc: 0.855394 Valid acc: 0.838169\n",
      "Epoch: 177/200 Train loss: 0.027139 Valid loss: 0.178366 Train acc: 0.847008 Valid acc: 0.844062\n",
      "Epoch: 178/200 Train loss: 0.027071 Valid loss: 0.178291 Train acc: 0.851088 Valid acc: 0.840435\n",
      "Epoch: 179/200 Train loss: 0.026830 Valid loss: 0.178663 Train acc: 0.847008 Valid acc: 0.826383\n",
      "Epoch: 180/200 Train loss: 0.026994 Valid loss: 0.178352 Train acc: 0.839529 Valid acc: 0.820943\n",
      "Epoch: 181/200 Train loss: 0.028705 Valid loss: 0.178603 Train acc: 0.835222 Valid acc: 0.815956\n",
      "Epoch: 182/200 Train loss: 0.040900 Valid loss: 0.177718 Train acc: 0.824796 Valid acc: 0.801451\n",
      "Epoch: 183/200 Train loss: 0.064037 Valid loss: 0.179057 Train acc: 0.810517 Valid acc: 0.801451\n",
      "Epoch: 184/200 Train loss: 0.049807 Valid loss: 0.176481 Train acc: 0.816636 Valid acc: 0.898912\n",
      "Epoch: 185/200 Train loss: 0.038169 Valid loss: 0.175918 Train acc: 0.872167 Valid acc: 0.767906\n",
      "Epoch: 186/200 Train loss: 0.037169 Valid loss: 0.175513 Train acc: 0.800997 Valid acc: 0.762013\n",
      "Epoch: 187/200 Train loss: 0.032123 Valid loss: 0.174488 Train acc: 0.798731 Valid acc: 0.816410\n",
      "Epoch: 188/200 Train loss: 0.029533 Valid loss: 0.175886 Train acc: 0.827289 Valid acc: 0.917498\n",
      "Epoch: 189/200 Train loss: 0.030847 Valid loss: 0.175259 Train acc: 0.881686 Valid acc: 0.904805\n",
      "Epoch: 190/200 Train loss: 0.028355 Valid loss: 0.175712 Train acc: 0.876473 Valid acc: 0.761559\n",
      "Epoch: 191/200 Train loss: 0.027288 Valid loss: 0.176089 Train acc: 0.798957 Valid acc: 0.762013\n",
      "Epoch: 192/200 Train loss: 0.026593 Valid loss: 0.175368 Train acc: 0.798957 Valid acc: 0.762919\n",
      "Epoch: 193/200 Train loss: 0.026360 Valid loss: 0.176251 Train acc: 0.800317 Valid acc: 0.900272\n",
      "Epoch: 194/200 Train loss: 0.025795 Valid loss: 0.176106 Train acc: 0.876247 Valid acc: 0.898912\n",
      "Epoch: 195/200 Train loss: 0.025192 Valid loss: 0.176581 Train acc: 0.876247 Valid acc: 0.892112\n",
      "Epoch: 196/200 Train loss: 0.024870 Valid loss: 0.177392 Train acc: 0.871714 Valid acc: 0.876700\n",
      "Epoch: 197/200 Train loss: 0.024443 Valid loss: 0.177147 Train acc: 0.862421 Valid acc: 0.765186\n",
      "Epoch: 198/200 Train loss: 0.024174 Valid loss: 0.177897 Train acc: 0.803491 Valid acc: 0.842702\n",
      "Epoch: 199/200 Train loss: 0.023999 Valid loss: 0.178024 Train acc: 0.848141 Valid acc: 0.839529\n",
      "Epoch: 200/200 Train loss: 0.023814 Valid loss: 0.177878 Train acc: 0.846328 Valid acc: 0.828196\n"
     ]
    }
   ],
   "source": [
    "train_acc, train_loss = [], []\n",
    "valid_acc, valid_loss = [], []\n",
    "\n",
    "# Save the training result or trained and validated model params\n",
    "saver = tf.train.Saver()\n",
    "\n",
    "with tf.Session() as sess:\n",
    "    \n",
    "    # Initialize the variables in the case, we don't load any pre-trained model.\n",
    "    sess.run(fetches=tf.global_variables_initializer())\n",
    "   \n",
    "    #     # Restore the validated model\n",
    "    #     saver.restore(sess, tf.train.latest_checkpoint('checkpoints'))\n",
    "    #     #saver.restore(sess=sess, save_path='checkpoints/lstm-imu-har.ckpt')\n",
    "    \n",
    "    # Loop over epochs\n",
    "    epochs = 200\n",
    "    for epoch in range(epochs):\n",
    "        \n",
    "        # Loop over batches of training\n",
    "        state = sess.run(fetches=initial_state)\n",
    "        loss_batch, acc_batch = [], []\n",
    "        for Xarr, Yarr in get_batches(X=Xtrain, Y=Ytrain, batch_size=N):\n",
    "            \n",
    "            # Feed dictionary\n",
    "            feed_dict = {Xinputs:Xarr, Yindices:Yarr, initial_state:state}\n",
    "            lossarr, _ , state, accarr = sess.run(fetches=[loss, optimizer, final_state, accuracy], \n",
    "                                                  feed_dict=feed_dict)\n",
    "            loss_batch.append(lossarr)\n",
    "            acc_batch.append(accarr)\n",
    "            \n",
    "        # acc and loss for plotting\n",
    "        train_acc.append(np.mean(acc_batch))\n",
    "        train_loss.append(np.mean(loss_batch))\n",
    "\n",
    "        # Loop over batches of validation\n",
    "        state = sess.run(fetches=initial_state)\n",
    "        loss_batch, acc_batch = [], []\n",
    "        for Xarr, Yarr in get_batches(X=Xvalid, Y=Yvalid, batch_size=N):\n",
    "            \n",
    "            # Feed dictionary\n",
    "            feed_dict = {Xinputs:Xarr, Yindices:Yarr, initial_state:state}\n",
    "            lossarr, state, accarr = sess.run(fetches=[loss, final_state, accuracy], feed_dict=feed_dict)\n",
    "            loss_batch.append(lossarr)\n",
    "            acc_batch.append(accarr)\n",
    "            \n",
    "        # acc and loss for plotting\n",
    "        valid_acc.append(np.mean(acc_batch))\n",
    "        valid_loss.append(np.mean(loss_batch))\n",
    "            \n",
    "        # Print info for every iter/epoch\n",
    "        print(\"Epoch: {}/{}\".format(epoch+1, epochs),\n",
    "              \"Train loss: {:6f}\".format(train_loss[epoch]),\n",
    "              \"Valid loss: {:.6f}\".format(valid_loss[epoch]),\n",
    "              \"Train acc: {:6f}\".format(train_acc[epoch]),\n",
    "              \"Valid acc: {:.6f}\".format(valid_acc[epoch]))\n",
    "                \n",
    "    saver.save(sess, 'checkpoints/lstm-imu-har.ckpt')"
   ]
  },
  {
   "cell_type": "code",
   "execution_count": 27,
   "metadata": {},
   "outputs": [
    {
     "data": {
      "image/png": "[encoded data removed]",
      "text/plain": [
       "<Figure size 432x288 with 1 Axes>"
      ]
     },
     "metadata": {},
     "output_type": "display_data"
    }
   ],
   "source": [
    "import matplotlib.pyplot as mplot\n",
    "%matplotlib inline\n",
    "\n",
    "mplot.plot(train_loss, label='train_loss')\n",
    "mplot.plot(valid_loss, label='valid_loss')\n",
    "mplot.legend()\n",
    "mplot.show()"
   ]
  },
  {
   "cell_type": "code",
   "execution_count": 28,
   "metadata": {},
   "outputs": [
    {
     "data": {
      "image/png": "[encoded data removed]",
      "text/plain": [
       "<Figure size 432x288 with 1 Axes>"
      ]
     },
     "metadata": {},
     "output_type": "display_data"
    }
   ],
   "source": [
    "# import matplotlib.pyplot as mplot\n",
    "mplot.plot(train_acc, label='train_acc')\n",
    "mplot.plot(valid_acc, label='valid_acc')\n",
    "mplot.legend()\n",
    "mplot.show()"
   ]
  },
  {
   "cell_type": "code",
   "execution_count": 29,
   "metadata": {},
   "outputs": [
    {
     "name": "stdout",
     "output_type": "stream",
     "text": [
      "INFO:tensorflow:Restoring parameters from checkpoints/lstm-imu-har.ckpt\n",
      "Test loss: 0.466501 Test acc: 0.764733\n"
     ]
    }
   ],
   "source": [
    "with tf.Session() as sess:\n",
    "    # Restore the validated model\n",
    "    saver.restore(sess, tf.train.latest_checkpoint('checkpoints'))\n",
    "    #saver.restore(sess=sess, save_path='checkpoints/lstm-imu-har.ckpt')\n",
    "    \n",
    "    # Loop over batches of Test\n",
    "    state = sess.run(fetches=initial_state)\n",
    "    loss_batch, acc_batch = [], []\n",
    "    for Xarr, Yarr in get_batches(X=Xtest, Y=Ytest, batch_size=N):\n",
    "\n",
    "        # Feed dictionary\n",
    "        feed_dict = {Xinputs:Xarr, Yindices:Yarr, initial_state:state}\n",
    "        lossarr, state, accarr = sess.run(fetches=[loss, final_state, accuracy], feed_dict=feed_dict)\n",
    "        loss_batch.append(lossarr)\n",
    "        acc_batch.append(accarr)\n",
    "\n",
    "    # Print info for every iter/epoch\n",
    "    print(\"Test loss: {:6f}\".format(np.mean(loss_batch)),\n",
    "          \"Test acc: {:.6f}\".format(np.mean(acc_batch)))"
   ]
  },
  {
   "cell_type": "code",
   "execution_count": null,
   "metadata": {},
   "outputs": [],
   "source": []
  }
 ],
 "metadata": {
  "kernelspec": {
   "display_name": "Python 3",
   "language": "python",
   "name": "python3"
  },
  "language_info": {
   "codemirror_mode": {
    "name": "ipython",
    "version": 3
   },
   "file_extension": ".py",
   "mimetype": "text/x-python",
   "name": "python",
   "nbconvert_exporter": "python",
   "pygments_lexer": "ipython3",
   "version": "3.6.5"
  },
  "widgets": {
   "state": {},
   "version": "1.1.2"
  }
 },
 "nbformat": 4,
 "nbformat_minor": 2
}
