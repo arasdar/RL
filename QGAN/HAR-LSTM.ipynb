{
 "cells": [
  {
   "cell_type": "markdown",
   "metadata": {},
   "source": [
    "# HAR LSTM training "
   ]
  },
  {
   "cell_type": "code",
   "execution_count": 1,
   "metadata": {},
   "outputs": [],
   "source": [
    "# HAR classification \n",
    "# Author: Burak Himmetoglu\n",
    "# 8/15/2017\n",
    "\n",
    "import pandas as pd \n",
    "import numpy as np\n",
    "import os\n",
    "\n",
    "def read_data(data_path, split = \"train\"):\n",
    "\t\"\"\" Read data \"\"\"\n",
    "\n",
    "\t# Fixed params\n",
    "\tn_class = 6\n",
    "\tn_steps = 128\n",
    "\n",
    "\t# Paths\n",
    "\tpath_ = os.path.join(data_path, split)\n",
    "\tpath_signals = os.path.join(path_, \"Inertial_Signals\")\n",
    "\n",
    "\t# Read labels and one-hot encode\n",
    "\tlabel_path = os.path.join(path_, \"y_\" + split + \".txt\")\n",
    "\tlabels = pd.read_csv(label_path, header = None)\n",
    "\n",
    "\t# Read time-series data\n",
    "\tchannel_files = os.listdir(path_signals)\n",
    "\tchannel_files.sort()\n",
    "\tn_channels = len(channel_files)\n",
    "\tposix = len(split) + 5\n",
    "\n",
    "\t# Initiate array\n",
    "\tlist_of_channels = []\n",
    "\tX = np.zeros((len(labels), n_steps, n_channels))\n",
    "\ti_ch = 0\n",
    "\tfor fil_ch in channel_files:\n",
    "\t\tchannel_name = fil_ch[:-posix]\n",
    "\t\tdat_ = pd.read_csv(os.path.join(path_signals,fil_ch), delim_whitespace = True, header = None)\n",
    "\t\tX[:,:,i_ch] = dat_.as_matrix()\n",
    "\n",
    "\t\t# Record names\n",
    "\t\tlist_of_channels.append(channel_name)\n",
    "\n",
    "\t\t# iterate\n",
    "\t\ti_ch += 1\n",
    "\n",
    "\t# Return \n",
    "\treturn X, labels[0].values, list_of_channels\n",
    "\n",
    "# def standardize(train, test):\n",
    "# \t\"\"\" Standardize data \"\"\"\n",
    "\n",
    "# \t# Standardize train and test\n",
    "# \tX_train = (train - np.mean(train, axis=0)[None,:,:]) / np.std(train, axis=0)[None,:,:]\n",
    "# \tX_test = (test - np.mean(test, axis=0)[None,:,:]) / np.std(test, axis=0)[None,:,:]\n",
    "\n",
    "# \treturn X_train, X_test\n",
    "\n",
    "# def one_hot(labels, n_class = 6):\n",
    "# \t\"\"\" One-hot encoding \"\"\"\n",
    "# \texpansion = np.eye(n_class)\n",
    "# \ty = expansion[:, labels-1].T\n",
    "# \tassert y.shape[1] == n_class, \"Wrong number of labels!\"\n",
    "\n",
    "# \treturn y\n",
    "\n",
    "def get_batches(X, y, batch_size = 100):\n",
    "\t\"\"\" Return a generator for batches \"\"\"\n",
    "\tn_batches = len(X) // batch_size\n",
    "\tX, y = X[:n_batches*batch_size], y[:n_batches*batch_size]\n",
    "\n",
    "\t# Loop over batches and yield\n",
    "\tfor b in range(0, len(X), batch_size):\n",
    "\t\tyield X[b:b+batch_size], y[b:b+batch_size]"
   ]
  },
  {
   "cell_type": "markdown",
   "metadata": {},
   "source": [
    "## Prepare data"
   ]
  },
  {
   "cell_type": "code",
   "execution_count": 2,
   "metadata": {},
   "outputs": [
    {
     "name": "stderr",
     "output_type": "stream",
     "text": [
      "/home/arasdar/anaconda3/envs/env/lib/python3.6/site-packages/ipykernel_launcher.py:37: FutureWarning: Method .as_matrix will be removed in a future version. Use .values instead.\n"
     ]
    }
   ],
   "source": [
    "Xtrain, Ytrain, list_ch_train = read_data(data_path=\"/home/arasdar/datasets/har-data/\", split=\"train\") # train\n",
    "Xtest, Ytest, list_ch_test = read_data(data_path=\"/home/arasdar/datasets/har-data/\", split=\"test\") # test\n",
    "\n",
    "assert list_ch_train == list_ch_test, \"Mistmatch in channels!\""
   ]
  },
  {
   "cell_type": "code",
   "execution_count": 3,
   "metadata": {},
   "outputs": [],
   "source": [
    "# # Standardize\n",
    "# X_train, X_test = standardize(X_train, X_test)\n",
    "# print(X_train.shape, X_test.shape)"
   ]
  },
  {
   "cell_type": "markdown",
   "metadata": {},
   "source": [
    "Train/Validation Split"
   ]
  },
  {
   "cell_type": "code",
   "execution_count": 5,
   "metadata": {},
   "outputs": [],
   "source": [
    "from sklearn.model_selection import train_test_split\n",
    "\n",
    "Xtrain, Xvalid, Ytrain, Yvalid = train_test_split(Xtrain, Ytrain, stratify = Ytrain, random_state = 123)"
   ]
  },
  {
   "cell_type": "code",
   "execution_count": 6,
   "metadata": {},
   "outputs": [
    {
     "name": "stdout",
     "output_type": "stream",
     "text": [
      "(5514, 128, 9) float64\n",
      "(1838, 128, 9) float64\n",
      "(2947, 128, 9) float64\n",
      "(5514,) int64\n",
      "(1838,) int64\n",
      "(2947,) int64\n"
     ]
    }
   ],
   "source": [
    "print(Xtrain.shape, Xtrain.dtype)\n",
    "print(Xvalid.shape, Xvalid.dtype)\n",
    "print(Xtest.shape, Xtest.dtype)\n",
    "print(Ytrain.shape, Ytrain.dtype)\n",
    "print(Yvalid.shape, Yvalid.dtype)\n",
    "print(Ytest.shape, Ytest.dtype)"
   ]
  },
  {
   "cell_type": "markdown",
   "metadata": {},
   "source": [
    "One-hot encoding:"
   ]
  },
  {
   "cell_type": "code",
   "execution_count": 7,
   "metadata": {},
   "outputs": [],
   "source": [
    "# y_tr = one_hot(lab_tr)\n",
    "# y_vld = one_hot(lab_vld)\n",
    "# y_test = one_hot(labels_test)"
   ]
  },
  {
   "cell_type": "markdown",
   "metadata": {},
   "source": [
    "### Hyperparameters"
   ]
  },
  {
   "cell_type": "code",
   "execution_count": 18,
   "metadata": {},
   "outputs": [],
   "source": [
    "# Imports\n",
    "import tensorflow as tf\n",
    "\n",
    "lstm_size = 27         # 3 times the amount of channels\n",
    "lstm_layers = 1        # Number of layers\n",
    "batch_size = 600       # Batch size\n",
    "seq_len = 128          # Number of steps\n",
    "learning_rate = 0.001  # Learning rate (default is 0.001)\n",
    "epochs = 1000\n",
    "\n",
    "# Fixed\n",
    "n_classes = 6\n",
    "n_channels = 9"
   ]
  },
  {
   "cell_type": "markdown",
   "metadata": {},
   "source": [
    "### Construct the graph\n",
    "Placeholders"
   ]
  },
  {
   "cell_type": "code",
   "execution_count": 9,
   "metadata": {},
   "outputs": [],
   "source": [
    "# graph = tf.Graph()\n",
    "\n",
    "# Construct placeholders\n",
    "# with graph.as_default():\n",
    "inputs_ = tf.placeholder(tf.float32, [None, seq_len, n_channels], name = 'inputs')\n",
    "indices_ = tf.placeholder(tf.int32, [None], name = 'indices')\n",
    "#     keep_prob_ = tf.placeholder(tf.float32, name = 'keep')\n",
    "#     learning_rate_ = tf.placeholder(tf.float32, name = 'learning_rate')"
   ]
  },
  {
   "cell_type": "markdown",
   "metadata": {},
   "source": [
    "Construct inputs to LSTM"
   ]
  },
  {
   "cell_type": "code",
   "execution_count": 10,
   "metadata": {},
   "outputs": [
    {
     "name": "stdout",
     "output_type": "stream",
     "text": [
      "(?, 128, 9)\n",
      "(128, ?, 9)\n",
      "(?, 9)\n",
      "128 (?, 9)\n"
     ]
    }
   ],
   "source": [
    "# with graph.as_default():\n",
    "# Construct the LSTM inputs and LSTM cells\n",
    "print(inputs_.shape)\n",
    "lstm_in = tf.transpose(inputs_, [1,0,2]) # reshape into (seq_len, N, channels)\n",
    "print(lstm_in.shape)\n",
    "lstm_in = tf.reshape(lstm_in, [-1, n_channels]) # Now (seq_len*N, n_channels)\n",
    "print(lstm_in.shape)\n",
    "\n",
    "# Open up the tensor into a list of seq_len pieces\n",
    "lstm_in = tf.split(lstm_in, seq_len, 0)\n",
    "print(len(lstm_in), lstm_in[0].shape)\n",
    "\n",
    "# Add LSTM layers\n",
    "lstm = tf.contrib.rnn.BasicLSTMCell(lstm_size)\n",
    "#     drop = tf.contrib.rnn.DropoutWrapper(lstm, output_keep_prob=keep_prob_)\n",
    "cell = tf.contrib.rnn.MultiRNNCell([lstm] * lstm_layers)\n",
    "initial_state = cell.zero_state(batch_size, tf.float32)"
   ]
  },
  {
   "cell_type": "markdown",
   "metadata": {},
   "source": [
    "Define forward pass, cost function and optimizer:"
   ]
  },
  {
   "cell_type": "code",
   "execution_count": 11,
   "metadata": {},
   "outputs": [],
   "source": [
    "# with graph.as_default():\n",
    "# with tf.variable_scope('RNN', reuse=True):\n",
    "outputs, final_state = tf.contrib.rnn.static_rnn(cell, lstm_in, dtype=tf.float32, initial_state = initial_state)\n",
    "\n",
    "# We only need the last output tensor to pass into a classifier\n",
    "logits = tf.layers.dense(outputs[-1], n_classes, name='logits')\n",
    "labels = tf.one_hot(depth=n_classes, indices=indices_)\n",
    "\n",
    "# Loss/cost using labels and logits\n",
    "cost = tf.reduce_mean(tf.nn.softmax_cross_entropy_with_logits_v2(logits=logits, labels=labels))\n",
    "\n",
    "# Accuracy using logits and labels\n",
    "correct_pred = tf.equal(tf.argmax(logits, 1), tf.argmax(labels, 1))\n",
    "accuracy = tf.reduce_mean(tf.cast(correct_pred, tf.float32), name='accuracy')\n",
    "\n",
    "# Optimize using loss\n",
    "optimizer = tf.train.AdamOptimizer(learning_rate=0.001).minimize(cost) # No grad clipping"
   ]
  },
  {
   "cell_type": "code",
   "execution_count": 12,
   "metadata": {},
   "outputs": [
    {
     "name": "stdout",
     "output_type": "stream",
     "text": [
      "128 (600, 27)\n"
     ]
    }
   ],
   "source": [
    "print(len(outputs), outputs[0].shape)"
   ]
  },
  {
   "cell_type": "code",
   "execution_count": 14,
   "metadata": {},
   "outputs": [
    {
     "name": "stdout",
     "output_type": "stream",
     "text": [
      "Tensor(\"Mean:0\", shape=(), dtype=float32)\n"
     ]
    }
   ],
   "source": [
    "print(cost)"
   ]
  },
  {
   "cell_type": "code",
   "execution_count": 15,
   "metadata": {},
   "outputs": [
    {
     "name": "stdout",
     "output_type": "stream",
     "text": [
      "Tensor(\"logits/BiasAdd:0\", shape=(600, 6), dtype=float32)\n"
     ]
    }
   ],
   "source": [
    "print(logits)"
   ]
  },
  {
   "cell_type": "markdown",
   "metadata": {},
   "source": [
    "### Train the network"
   ]
  },
  {
   "cell_type": "code",
   "execution_count": 16,
   "metadata": {},
   "outputs": [],
   "source": [
    "if (os.path.exists('checkpoints') == False):\n",
    "    !mkdir checkpoints"
   ]
  },
  {
   "cell_type": "code",
   "execution_count": 17,
   "metadata": {
    "scrolled": true
   },
   "outputs": [
    {
     "name": "stdout",
     "output_type": "stream",
     "text": [
      "Epoch: 0/100 Train loss: 1.4368871450424194 Train acc: 0.23981481790542603\n",
      "Epoch: 0/100 Valid loss: 1.394628882408142 Valid acc: 0.25999999046325684\n",
      "Epoch: 1/100 Train loss: 1.373529076576233 Train acc: 0.2705555856227875\n",
      "Epoch: 1/100 Valid loss: 1.3365325927734375 Valid acc: 0.26944443583488464\n",
      "Epoch: 2/100 Train loss: 1.3130236864089966 Train acc: 0.2746296525001526\n",
      "Epoch: 2/100 Valid loss: 1.2700577974319458 Valid acc: 0.3011111319065094\n",
      "Epoch: 3/100 Train loss: 1.2362240552902222 Train acc: 0.33407407999038696\n",
      "Epoch: 3/100 Valid loss: 1.184567928314209 Valid acc: 0.3405555486679077\n",
      "Epoch: 4/100 Train loss: 1.1715781688690186 Train acc: 0.33703702688217163\n",
      "Epoch: 4/100 Valid loss: 1.1382298469543457 Valid acc: 0.3611111342906952\n",
      "Epoch: 5/100 Train loss: 1.1389400959014893 Train acc: 0.371111124753952\n",
      "Epoch: 5/100 Valid loss: 1.1110707521438599 Valid acc: 0.3638888895511627\n",
      "Epoch: 6/100 Train loss: 1.0949287414550781 Train acc: 0.4033333361148834\n",
      "Epoch: 6/100 Valid loss: 1.0552085638046265 Valid acc: 0.42444443702697754\n",
      "Epoch: 7/100 Train loss: 1.037569284439087 Train acc: 0.4279629588127136\n",
      "Epoch: 7/100 Valid loss: 0.997429609298706 Valid acc: 0.42944446206092834\n",
      "Epoch: 8/100 Train loss: 0.9760434031486511 Train acc: 0.44518518447875977\n",
      "Epoch: 8/100 Valid loss: 0.9444458484649658 Valid acc: 0.4577777683734894\n",
      "Epoch: 9/100 Train loss: 0.9173457026481628 Train acc: 0.4744443893432617\n",
      "Epoch: 9/100 Valid loss: 0.8848991394042969 Valid acc: 0.4744444787502289\n",
      "Epoch: 10/100 Train loss: 0.8588499426841736 Train acc: 0.48870372772216797\n",
      "Epoch: 10/100 Valid loss: 0.8221957087516785 Valid acc: 0.4794444739818573\n",
      "Epoch: 11/100 Train loss: 0.8125437498092651 Train acc: 0.5020370483398438\n",
      "Epoch: 11/100 Valid loss: 0.7829359173774719 Valid acc: 0.5027777552604675\n",
      "Epoch: 12/100 Train loss: 0.7690088152885437 Train acc: 0.519074022769928\n",
      "Epoch: 12/100 Valid loss: 0.7495908141136169 Valid acc: 0.5177777409553528\n",
      "Epoch: 13/100 Train loss: 0.7410769462585449 Train acc: 0.5351851582527161\n",
      "Epoch: 13/100 Valid loss: 0.7319445610046387 Valid acc: 0.5355555415153503\n",
      "Epoch: 14/100 Train loss: 0.7161075472831726 Train acc: 0.5581481456756592\n",
      "Epoch: 14/100 Valid loss: 0.6961931586265564 Valid acc: 0.5550000071525574\n",
      "Epoch: 15/100 Train loss: 0.6969476342201233 Train acc: 0.5618518590927124\n",
      "Epoch: 15/100 Valid loss: 0.681837797164917 Valid acc: 0.5677778124809265\n",
      "Epoch: 16/100 Train loss: 0.6736071109771729 Train acc: 0.5692592263221741\n",
      "Epoch: 16/100 Valid loss: 0.6574805378913879 Valid acc: 0.5544444918632507\n",
      "Epoch: 17/100 Train loss: 0.6586562991142273 Train acc: 0.5712962746620178\n",
      "Epoch: 17/100 Valid loss: 0.6431145071983337 Valid acc: 0.5811111330986023\n",
      "Epoch: 18/100 Train loss: 0.6424488425254822 Train acc: 0.5844444632530212\n",
      "Epoch: 18/100 Valid loss: 0.6316441297531128 Valid acc: 0.5811111330986023\n",
      "Epoch: 19/100 Train loss: 0.6257259249687195 Train acc: 0.5903703570365906\n",
      "Epoch: 19/100 Valid loss: 0.6056161522865295 Valid acc: 0.5949999690055847\n",
      "Epoch: 20/100 Train loss: 0.6150351762771606 Train acc: 0.5948148369789124\n",
      "Epoch: 20/100 Valid loss: 0.5942537188529968 Valid acc: 0.6027777791023254\n",
      "Epoch: 21/100 Train loss: 0.6051813364028931 Train acc: 0.6040741205215454\n",
      "Epoch: 21/100 Valid loss: 0.5978153347969055 Valid acc: 0.5888888835906982\n",
      "Epoch: 22/100 Train loss: 0.6035465002059937 Train acc: 0.6003704071044922\n",
      "Epoch: 22/100 Valid loss: 0.5725995898246765 Valid acc: 0.6105555891990662\n",
      "Epoch: 23/100 Train loss: 0.581159770488739 Train acc: 0.6109259128570557\n",
      "Epoch: 23/100 Valid loss: 0.5716386437416077 Valid acc: 0.6072222590446472\n",
      "Epoch: 24/100 Train loss: 0.5807777047157288 Train acc: 0.6153704524040222\n",
      "Epoch: 24/100 Valid loss: 0.5713303685188293 Valid acc: 0.6111111044883728\n",
      "Epoch: 25/100 Train loss: 0.5758695602416992 Train acc: 0.6142593026161194\n",
      "Epoch: 25/100 Valid loss: 0.5735408663749695 Valid acc: 0.6211110949516296\n",
      "Epoch: 26/100 Train loss: 0.5574097633361816 Train acc: 0.6211110353469849\n",
      "Epoch: 26/100 Valid loss: 0.5295012593269348 Valid acc: 0.6233333349227905\n",
      "Epoch: 27/100 Train loss: 0.5412983894348145 Train acc: 0.628333330154419\n",
      "Epoch: 27/100 Valid loss: 0.5399377942085266 Valid acc: 0.6111111044883728\n",
      "Epoch: 28/100 Train loss: 0.5371987819671631 Train acc: 0.6292592287063599\n",
      "Epoch: 28/100 Valid loss: 0.5532200932502747 Valid acc: 0.6222222447395325\n",
      "Epoch: 29/100 Train loss: 0.5363869667053223 Train acc: 0.6411111354827881\n",
      "Epoch: 29/100 Valid loss: 0.5106266736984253 Valid acc: 0.6444444060325623\n",
      "Epoch: 30/100 Train loss: 0.5095008015632629 Train acc: 0.6527777314186096\n",
      "Epoch: 30/100 Valid loss: 0.49704670906066895 Valid acc: 0.6477777361869812\n",
      "Epoch: 31/100 Train loss: 0.503243088722229 Train acc: 0.6492592692375183\n",
      "Epoch: 31/100 Valid loss: 0.5030279755592346 Valid acc: 0.6466666460037231\n",
      "Epoch: 32/100 Train loss: 0.4951595067977905 Train acc: 0.6612963080406189\n",
      "Epoch: 32/100 Valid loss: 0.4832827150821686 Valid acc: 0.6561110615730286\n",
      "Epoch: 33/100 Train loss: 0.4762902855873108 Train acc: 0.6662963032722473\n",
      "Epoch: 33/100 Valid loss: 0.47659531235694885 Valid acc: 0.6588888764381409\n",
      "Epoch: 34/100 Train loss: 0.4695807993412018 Train acc: 0.6788889765739441\n",
      "Epoch: 34/100 Valid loss: 0.45538556575775146 Valid acc: 0.6800000071525574\n",
      "Epoch: 35/100 Train loss: 0.48165738582611084 Train acc: 0.6820370554924011\n",
      "Epoch: 35/100 Valid loss: 0.5053570866584778 Valid acc: 0.6572222113609314\n",
      "Epoch: 36/100 Train loss: 0.48857083916664124 Train acc: 0.6762962937355042\n",
      "Epoch: 36/100 Valid loss: 0.48727551102638245 Valid acc: 0.670555591583252\n",
      "Epoch: 37/100 Train loss: 0.5006744861602783 Train acc: 0.6766666173934937\n",
      "Epoch: 37/100 Valid loss: 0.5455294251441956 Valid acc: 0.6266666650772095\n",
      "Epoch: 38/100 Train loss: 0.5477308630943298 Train acc: 0.6562963724136353\n",
      "Epoch: 38/100 Valid loss: 0.5786340236663818 Valid acc: 0.652222216129303\n",
      "Epoch: 39/100 Train loss: 0.5612369775772095 Train acc: 0.6694444417953491\n",
      "Epoch: 39/100 Valid loss: 0.5067610144615173 Valid acc: 0.6738889217376709\n",
      "Epoch: 40/100 Train loss: 0.47043508291244507 Train acc: 0.6888889074325562\n",
      "Epoch: 40/100 Valid loss: 0.4743804633617401 Valid acc: 0.6927778124809265\n",
      "Epoch: 41/100 Train loss: 0.45175254344940186 Train acc: 0.6994444727897644\n",
      "Epoch: 41/100 Valid loss: 0.4511849582195282 Valid acc: 0.6883333325386047\n",
      "Epoch: 42/100 Train loss: 0.44809186458587646 Train acc: 0.6946296691894531\n",
      "Epoch: 42/100 Valid loss: 0.46985700726509094 Valid acc: 0.6827778220176697\n",
      "Epoch: 43/100 Train loss: 0.44240880012512207 Train acc: 0.7035185098648071\n",
      "Epoch: 43/100 Valid loss: 0.4350298345088959 Valid acc: 0.7138888835906982\n",
      "Epoch: 44/100 Train loss: 0.4153312146663666 Train acc: 0.7142592668533325\n",
      "Epoch: 44/100 Valid loss: 0.4054739475250244 Valid acc: 0.712222158908844\n",
      "Epoch: 45/100 Train loss: 0.41158875823020935 Train acc: 0.7083333134651184\n",
      "Epoch: 45/100 Valid loss: 0.4165792465209961 Valid acc: 0.708888828754425\n",
      "Epoch: 46/100 Train loss: 0.442205548286438 Train acc: 0.6961111426353455\n",
      "Epoch: 46/100 Valid loss: 0.43614208698272705 Valid acc: 0.6883333325386047\n",
      "Epoch: 47/100 Train loss: 0.40965551137924194 Train acc: 0.6922222375869751\n",
      "Epoch: 47/100 Valid loss: 0.3964911699295044 Valid acc: 0.7016666531562805\n",
      "Epoch: 48/100 Train loss: 0.4094386696815491 Train acc: 0.6937036514282227\n",
      "Epoch: 48/100 Valid loss: 0.3929878771305084 Valid acc: 0.7027778029441833\n",
      "Epoch: 49/100 Train loss: 0.3687516450881958 Train acc: 0.714629590511322\n",
      "Epoch: 49/100 Valid loss: 0.36369815468788147 Valid acc: 0.7172222137451172\n",
      "Epoch: 50/100 Train loss: 0.3758297264575958 Train acc: 0.7172222137451172\n",
      "Epoch: 50/100 Valid loss: 0.4312340319156647 Valid acc: 0.7116666436195374\n",
      "Epoch: 51/100 Train loss: 0.43943193554878235 Train acc: 0.6998148560523987\n",
      "Epoch: 51/100 Valid loss: 0.39701834321022034 Valid acc: 0.7161111235618591\n",
      "Epoch: 52/100 Train loss: 0.3923124074935913 Train acc: 0.707777738571167\n",
      "Epoch: 52/100 Valid loss: 0.379751056432724 Valid acc: 0.7105555534362793\n",
      "Epoch: 53/100 Train loss: 0.38121911883354187 Train acc: 0.7016666531562805\n",
      "Epoch: 53/100 Valid loss: 0.36415043473243713 Valid acc: 0.7155554890632629\n",
      "Epoch: 54/100 Train loss: 0.35385242104530334 Train acc: 0.7187037467956543\n",
      "Epoch: 54/100 Valid loss: 0.362486332654953 Valid acc: 0.7116666436195374\n"
     ]
    },
    {
     "name": "stdout",
     "output_type": "stream",
     "text": [
      "Epoch: 55/100 Train loss: 0.34996452927589417 Train acc: 0.7177777886390686\n",
      "Epoch: 55/100 Valid loss: 0.367866188287735 Valid acc: 0.7005555629730225\n",
      "Epoch: 56/100 Train loss: 0.35644906759262085 Train acc: 0.7131481766700745\n",
      "Epoch: 56/100 Valid loss: 0.3553448021411896 Valid acc: 0.7233333587646484\n",
      "Epoch: 57/100 Train loss: 0.33091235160827637 Train acc: 0.7257407307624817\n",
      "Epoch: 57/100 Valid loss: 0.33419355750083923 Valid acc: 0.7255555987358093\n",
      "Epoch: 58/100 Train loss: 0.31831789016723633 Train acc: 0.7294444441795349\n",
      "Epoch: 58/100 Valid loss: 0.32986530661582947 Valid acc: 0.7200000286102295\n",
      "Epoch: 59/100 Train loss: 0.3157537281513214 Train acc: 0.727222204208374\n",
      "Epoch: 59/100 Valid loss: 0.3185126781463623 Valid acc: 0.7266666889190674\n",
      "Epoch: 60/100 Train loss: 0.3127605617046356 Train acc: 0.727222204208374\n",
      "Epoch: 60/100 Valid loss: 0.33131036162376404 Valid acc: 0.7238888740539551\n",
      "Epoch: 61/100 Train loss: 0.31388527154922485 Train acc: 0.7283333539962769\n",
      "Epoch: 61/100 Valid loss: 0.3319953382015228 Valid acc: 0.7205556035041809\n",
      "Epoch: 62/100 Train loss: 0.30703410506248474 Train acc: 0.7325926423072815\n",
      "Epoch: 62/100 Valid loss: 0.3184816837310791 Valid acc: 0.7250000834465027\n",
      "Epoch: 63/100 Train loss: 0.30007830262184143 Train acc: 0.7337037324905396\n",
      "Epoch: 63/100 Valid loss: 0.3150109648704529 Valid acc: 0.7205555438995361\n",
      "Epoch: 64/100 Train loss: 0.3015078008174896 Train acc: 0.7275925874710083\n",
      "Epoch: 64/100 Valid loss: 0.3177662789821625 Valid acc: 0.7166666984558105\n",
      "Epoch: 65/100 Train loss: 0.29315507411956787 Train acc: 0.7320370078086853\n",
      "Epoch: 65/100 Valid loss: 0.30793312191963196 Valid acc: 0.7272222638130188\n",
      "Epoch: 66/100 Train loss: 0.30092403292655945 Train acc: 0.7325925827026367\n",
      "Epoch: 66/100 Valid loss: 0.3123401701450348 Valid acc: 0.7272222638130188\n",
      "Epoch: 67/100 Train loss: 0.2879084348678589 Train acc: 0.7370370030403137\n",
      "Epoch: 67/100 Valid loss: 0.3020498752593994 Valid acc: 0.726111114025116\n",
      "Epoch: 68/100 Train loss: 0.28059959411621094 Train acc: 0.7400000095367432\n",
      "Epoch: 68/100 Valid loss: 0.29787811636924744 Valid acc: 0.7294445037841797\n",
      "Epoch: 69/100 Train loss: 0.27633795142173767 Train acc: 0.7390740513801575\n",
      "Epoch: 69/100 Valid loss: 0.3081871569156647 Valid acc: 0.7222222685813904\n",
      "Epoch: 70/100 Train loss: 0.2980753481388092 Train acc: 0.7275925874710083\n",
      "Epoch: 70/100 Valid loss: 0.3033097982406616 Valid acc: 0.7283332943916321\n",
      "Epoch: 71/100 Train loss: 0.2822287082672119 Train acc: 0.7359259128570557\n",
      "Epoch: 71/100 Valid loss: 0.29478779435157776 Valid acc: 0.7249999642372131\n",
      "Epoch: 72/100 Train loss: 0.2720867991447449 Train acc: 0.7409259080886841\n",
      "Epoch: 72/100 Valid loss: 0.29121604561805725 Valid acc: 0.7294445037841797\n",
      "Epoch: 73/100 Train loss: 0.2696079909801483 Train acc: 0.7427777647972107\n",
      "Epoch: 73/100 Valid loss: 0.2855464518070221 Valid acc: 0.730555534362793\n",
      "Epoch: 74/100 Train loss: 0.27561041712760925 Train acc: 0.7335184812545776\n",
      "Epoch: 74/100 Valid loss: 0.27780044078826904 Valid acc: 0.7344444394111633\n",
      "Epoch: 75/100 Train loss: 0.2691848576068878 Train acc: 0.7346296310424805\n",
      "Epoch: 75/100 Valid loss: 0.290622740983963 Valid acc: 0.7149999737739563\n",
      "Epoch: 76/100 Train loss: 0.27332717180252075 Train acc: 0.729629635810852\n",
      "Epoch: 76/100 Valid loss: 0.2673768997192383 Valid acc: 0.7316667437553406\n",
      "Epoch: 77/100 Train loss: 0.2734408378601074 Train acc: 0.7366666793823242\n",
      "Epoch: 77/100 Valid loss: 0.2737099826335907 Valid acc: 0.7300000190734863\n",
      "Epoch: 78/100 Train loss: 0.26676884293556213 Train acc: 0.7379629611968994\n",
      "Epoch: 78/100 Valid loss: 0.2560630738735199 Valid acc: 0.7450000643730164\n",
      "Epoch: 79/100 Train loss: 0.2522144615650177 Train acc: 0.7429629564285278\n",
      "Epoch: 79/100 Valid loss: 0.2549380958080292 Valid acc: 0.742222249507904\n",
      "Epoch: 80/100 Train loss: 0.2441408634185791 Train acc: 0.7474073767662048\n",
      "Epoch: 80/100 Valid loss: 0.2502760887145996 Valid acc: 0.7366666793823242\n",
      "Epoch: 81/100 Train loss: 0.24223031103610992 Train acc: 0.7477777600288391\n",
      "Epoch: 81/100 Valid loss: 0.24881143867969513 Valid acc: 0.7472222447395325\n",
      "Epoch: 82/100 Train loss: 0.24652546644210815 Train acc: 0.7400000095367432\n",
      "Epoch: 82/100 Valid loss: 0.24962127208709717 Valid acc: 0.7411110997200012\n",
      "Epoch: 83/100 Train loss: 0.2394569218158722 Train acc: 0.7481482028961182\n",
      "Epoch: 83/100 Valid loss: 0.2469075471162796 Valid acc: 0.7450000643730164\n",
      "Epoch: 84/100 Train loss: 0.23485374450683594 Train acc: 0.7503703236579895\n",
      "Epoch: 84/100 Valid loss: 0.2358100265264511 Valid acc: 0.7488889098167419\n",
      "Epoch: 85/100 Train loss: 0.2287561297416687 Train acc: 0.754444420337677\n",
      "Epoch: 85/100 Valid loss: 0.23249401152133942 Valid acc: 0.7494444847106934\n",
      "Epoch: 86/100 Train loss: 0.22582489252090454 Train acc: 0.7548148036003113\n",
      "Epoch: 86/100 Valid loss: 0.23181171715259552 Valid acc: 0.7477777600288391\n",
      "Epoch: 87/100 Train loss: 0.22221364080905914 Train acc: 0.7561111450195312\n",
      "Epoch: 87/100 Valid loss: 0.22916127741336823 Valid acc: 0.7494444847106934\n",
      "Epoch: 88/100 Train loss: 0.22020792961120605 Train acc: 0.757777750492096\n",
      "Epoch: 88/100 Valid loss: 0.23664291203022003 Valid acc: 0.7461110949516296\n",
      "Epoch: 89/100 Train loss: 0.21762865781784058 Train acc: 0.7564814686775208\n",
      "Epoch: 89/100 Valid loss: 0.22775579988956451 Valid acc: 0.7483332753181458\n",
      "Epoch: 90/100 Train loss: 0.22418475151062012 Train acc: 0.7509259581565857\n",
      "Epoch: 90/100 Valid loss: 0.2336515337228775 Valid acc: 0.7438888549804688\n",
      "Epoch: 91/100 Train loss: 0.22281323373317719 Train acc: 0.7509258985519409\n",
      "Epoch: 91/100 Valid loss: 0.2292836457490921 Valid acc: 0.7472222447395325\n",
      "Epoch: 92/100 Train loss: 0.21833862364292145 Train acc: 0.7511111497879028\n",
      "Epoch: 92/100 Valid loss: 0.23494990170001984 Valid acc: 0.7444444298744202\n",
      "Epoch: 93/100 Train loss: 0.21641629934310913 Train acc: 0.7516667246818542\n",
      "Epoch: 93/100 Valid loss: 0.22688746452331543 Valid acc: 0.7433333396911621\n",
      "Epoch: 94/100 Train loss: 0.21619875729084015 Train acc: 0.752407431602478\n",
      "Epoch: 94/100 Valid loss: 0.2303832620382309 Valid acc: 0.7444444298744202\n",
      "Epoch: 95/100 Train loss: 0.21067208051681519 Train acc: 0.7555555701255798\n",
      "Epoch: 95/100 Valid loss: 0.237332284450531 Valid acc: 0.7416666150093079\n",
      "Epoch: 96/100 Train loss: 0.2344960868358612 Train acc: 0.7450000047683716\n",
      "Epoch: 96/100 Valid loss: 0.23935659229755402 Valid acc: 0.742222249507904\n",
      "Epoch: 97/100 Train loss: 0.22857636213302612 Train acc: 0.7450000643730164\n",
      "Epoch: 97/100 Valid loss: 0.24649113416671753 Valid acc: 0.7372221946716309\n",
      "Epoch: 98/100 Train loss: 0.22820721566677094 Train acc: 0.7496296167373657\n",
      "Epoch: 98/100 Valid loss: 0.23587602376937866 Valid acc: 0.7438888549804688\n",
      "Epoch: 99/100 Train loss: 0.22425395250320435 Train acc: 0.75\n",
      "Epoch: 99/100 Valid loss: 0.2284761220216751 Valid acc: 0.7461110949516296\n"
     ]
    }
   ],
   "source": [
    "valid_acc, valid_loss = [], []\n",
    "train_acc, train_loss = [], []\n",
    "\n",
    "# with graph.as_default():\n",
    "saver = tf.train.Saver()\n",
    "\n",
    "with tf.Session() as sess:\n",
    "    # Initialize the global variable instead of loading them or if there is nothing to load.\n",
    "    sess.run(tf.global_variables_initializer())\n",
    "    \n",
    "    #     # Restore\n",
    "    #     saver.restore(sess, tf.train.latest_checkpoint('checkpoints'))\n",
    "    #     saver.restore(sess,\"checkpoints/har-lstm.ckpt\")\n",
    "    \n",
    "    for e in range(epochs):\n",
    "        \n",
    "        # Loop over training batches\n",
    "        state = sess.run(initial_state)\n",
    "        train_acc_batch, train_loss_batch = [], []\n",
    "        for Xbatch, Ybatch in get_batches(Xtrain, Ytrain, batch_size):\n",
    "            \n",
    "            # Feed dictionary\n",
    "            feed_dict = {inputs_: Xbatch, indices_: Ybatch, initial_state: state}\n",
    "            loss, state, acc, _ = sess.run([cost, final_state, accuracy, optimizer], feed_dict)\n",
    "            train_acc_batch.append(acc)\n",
    "            train_loss_batch.append(loss)\n",
    "            \n",
    "        # Print at each epoch/iteration\n",
    "        print(\"Epoch: {}/{}\".format(e, epochs),\n",
    "              \"Train loss: {}\".format(np.mean(train_loss_batch)),\n",
    "              \"Train acc: {}\".format(np.mean(train_acc_batch)))\n",
    "\n",
    "        # Store at each epoch/iteration\n",
    "        train_loss.append(np.mean(train_loss_batch))\n",
    "        train_acc.append(np.mean(train_acc_batch))\n",
    "        \n",
    "        # Loop over validation batches\n",
    "        state = sess.run(initial_state)\n",
    "        valid_acc_batch, valid_loss_batch = [], []\n",
    "        for Xbatch, Ybatch in get_batches(Xvalid, Yvalid, batch_size):\n",
    "            \n",
    "            # Feed dictionary\n",
    "            feed_dict = {inputs_: Xbatch, indices_: Ybatch, initial_state: state}\n",
    "            loss, state, acc = sess.run([cost, final_state, accuracy], feed_dict)\n",
    "            valid_acc_batch.append(acc)\n",
    "            valid_loss_batch.append(loss)\n",
    "            \n",
    "        # Print at each epoch/iteration\n",
    "        print(\"Epoch: {}/{}\".format(e, epochs),\n",
    "              \"Valid loss: {}\".format(np.mean(valid_loss_batch)),\n",
    "              \"Valid acc: {}\".format(np.mean(valid_acc_batch)))\n",
    "\n",
    "        # Store at each epoch/iteration\n",
    "        valid_loss.append(np.mean(valid_loss_batch))\n",
    "        valid_acc.append(np.mean(valid_acc_batch))\n",
    "            \n",
    "    saver.save(sess,\"checkpoints/har-lstm.ckpt\")"
   ]
  },
  {
   "cell_type": "code",
   "execution_count": 19,
   "metadata": {},
   "outputs": [
    {
     "data": {
      "image/png": "[encoded data removed]",
      "text/plain": [
       "<Figure size 432x432 with 1 Axes>"
      ]
     },
     "metadata": {},
     "output_type": "display_data"
    }
   ],
   "source": [
    "import matplotlib.pyplot as plt\n",
    "%matplotlib inline\n",
    "\n",
    "# Plot training and test loss\n",
    "plt.figure(figsize = (6,6))\n",
    "plt.plot(np.array(train_loss), 'r-', np.array(valid_loss), 'b*')\n",
    "plt.xlabel(\"iteration\")\n",
    "plt.ylabel(\"Loss\")\n",
    "plt.legend(['train', 'validation'], loc='upper right')\n",
    "plt.show()"
   ]
  },
  {
   "cell_type": "code",
   "execution_count": 22,
   "metadata": {},
   "outputs": [
    {
     "data": {
      "image/png": "[encoded data removed]",
      "text/plain": [
       "<Figure size 432x288 with 1 Axes>"
      ]
     },
     "metadata": {},
     "output_type": "display_data"
    }
   ],
   "source": [
    "# Plot Accuracies\n",
    "plt.plot(np.array(train_acc), 'r-', valid_acc, 'b*')\n",
    "plt.xlabel(\"iteration\")\n",
    "plt.ylabel(\"Accuray\")\n",
    "plt.legend(['train', 'validation'], loc='upper right')\n",
    "plt.show()"
   ]
  },
  {
   "cell_type": "markdown",
   "metadata": {},
   "source": [
    "## Evaluate on test set"
   ]
  },
  {
   "cell_type": "code",
   "execution_count": 25,
   "metadata": {},
   "outputs": [
    {
     "name": "stdout",
     "output_type": "stream",
     "text": [
      "INFO:tensorflow:Restoring parameters from checkpoints/har-lstm.ckpt\n",
      "Epoch: 99/1000 Test loss: 0.4521060883998871 Test acc: 0.6808333396911621\n"
     ]
    }
   ],
   "source": [
    "loss, acc = [], []\n",
    "\n",
    "with tf.Session() as sess:\n",
    "    # Restore\n",
    "    saver.restore(sess, tf.train.latest_checkpoint('checkpoints'))\n",
    "\n",
    "    # Loop over test batches\n",
    "    state = sess.run(initial_state)\n",
    "    acc_batch, loss_batch = [], []\n",
    "    for Xbatch, Ybatch in get_batches(Xtest, Ytest, batch_size):\n",
    "\n",
    "        # Feed dictionary\n",
    "        feed_dict = {inputs_: Xbatch, indices_: Ybatch, initial_state: state}\n",
    "        loss, state, acc = sess.run([cost, final_state, accuracy], feed_dict)\n",
    "        acc_batch.append(acc)\n",
    "        loss_batch.append(loss)\n",
    "\n",
    "    # Print at each epoch/iteration\n",
    "    print(\"Epoch: {}/{}\".format(e, epochs),\n",
    "          \"Test loss: {}\".format(np.mean(loss_batch)),\n",
    "          \"Test acc: {}\".format(np.mean(acc_batch)))"
   ]
  },
  {
   "cell_type": "code",
   "execution_count": null,
   "metadata": {},
   "outputs": [],
   "source": []
  }
 ],
 "metadata": {
  "kernelspec": {
   "display_name": "Python 3",
   "language": "python",
   "name": "python3"
  },
  "language_info": {
   "codemirror_mode": {
    "name": "ipython",
    "version": 3
   },
   "file_extension": ".py",
   "mimetype": "text/x-python",
   "name": "python",
   "nbconvert_exporter": "python",
   "pygments_lexer": "ipython3",
   "version": "3.6.5"
  },
  "widgets": {
   "state": {},
   "version": "1.1.2"
  }
 },
 "nbformat": 4,
 "nbformat_minor": 2
}
