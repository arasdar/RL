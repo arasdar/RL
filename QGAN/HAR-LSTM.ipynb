{
 "cells": [
  {
   "cell_type": "markdown",
   "metadata": {},
   "source": [
    "# HAR LSTM training "
   ]
  },
  {
   "cell_type": "code",
   "execution_count": 2,
   "metadata": {},
   "outputs": [],
   "source": [
    "# HAR classification \n",
    "# Author: Burak Himmetoglu\n",
    "# 8/15/2017\n",
    "\n",
    "import pandas as pd \n",
    "import numpy as np\n",
    "import os\n",
    "\n",
    "def read_data(data_path, split = \"train\"):\n",
    "\t\"\"\" Read data \"\"\"\n",
    "\n",
    "\t# Fixed params\n",
    "\tn_class = 6\n",
    "\tn_steps = 128\n",
    "\n",
    "\t# Paths\n",
    "\tpath_ = os.path.join(data_path, split)\n",
    "\tpath_signals = os.path.join(path_, \"Inertial_Signals\")\n",
    "\n",
    "\t# Read labels and one-hot encode\n",
    "\tlabel_path = os.path.join(path_, \"y_\" + split + \".txt\")\n",
    "\tlabels = pd.read_csv(label_path, header = None)\n",
    "\n",
    "\t# Read time-series data\n",
    "\tchannel_files = os.listdir(path_signals)\n",
    "\tchannel_files.sort()\n",
    "\tn_channels = len(channel_files)\n",
    "\tposix = len(split) + 5\n",
    "\n",
    "\t# Initiate array\n",
    "\tlist_of_channels = []\n",
    "\tX = np.zeros((len(labels), n_steps, n_channels))\n",
    "\ti_ch = 0\n",
    "\tfor fil_ch in channel_files:\n",
    "\t\tchannel_name = fil_ch[:-posix]\n",
    "\t\tdat_ = pd.read_csv(os.path.join(path_signals,fil_ch), delim_whitespace = True, header = None)\n",
    "\t\tX[:,:,i_ch] = dat_.as_matrix()\n",
    "\n",
    "\t\t# Record names\n",
    "\t\tlist_of_channels.append(channel_name)\n",
    "\n",
    "\t\t# iterate\n",
    "\t\ti_ch += 1\n",
    "\n",
    "\t# Return \n",
    "\treturn X, labels[0].values, list_of_channels\n",
    "\n",
    "def standardize(train, test):\n",
    "\t\"\"\" Standardize data \"\"\"\n",
    "\n",
    "\t# Standardize train and test\n",
    "\tX_train = (train - np.mean(train, axis=0)[None,:,:]) / np.std(train, axis=0)[None,:,:]\n",
    "\tX_test = (test - np.mean(test, axis=0)[None,:,:]) / np.std(test, axis=0)[None,:,:]\n",
    "\n",
    "\treturn X_train, X_test\n",
    "\n",
    "def one_hot(labels, n_class = 6):\n",
    "\t\"\"\" One-hot encoding \"\"\"\n",
    "\texpansion = np.eye(n_class)\n",
    "\ty = expansion[:, labels-1].T\n",
    "\tassert y.shape[1] == n_class, \"Wrong number of labels!\"\n",
    "\n",
    "\treturn y\n",
    "\n",
    "def get_batches(X, y, batch_size = 100):\n",
    "\t\"\"\" Return a generator for batches \"\"\"\n",
    "\tn_batches = len(X) // batch_size\n",
    "\tX, y = X[:n_batches*batch_size], y[:n_batches*batch_size]\n",
    "\n",
    "\t# Loop over batches and yield\n",
    "\tfor b in range(0, len(X), batch_size):\n",
    "\t\tyield X[b:b+batch_size], y[b:b+batch_size]"
   ]
  },
  {
   "cell_type": "markdown",
   "metadata": {},
   "source": [
    "## Prepare data"
   ]
  },
  {
   "cell_type": "code",
   "execution_count": 3,
   "metadata": {},
   "outputs": [
    {
     "name": "stderr",
     "output_type": "stream",
     "text": [
      "/home/arasdar/anaconda3/envs/env/lib/python3.6/site-packages/ipykernel_launcher.py:37: FutureWarning: Method .as_matrix will be removed in a future version. Use .values instead.\n"
     ]
    }
   ],
   "source": [
    "X_train, labels_train, list_ch_train = read_data(data_path=\"/home/arasdar/datasets/har-data/\", split=\"train\") # train\n",
    "X_test, labels_test, list_ch_test = read_data(data_path=\"/home/arasdar/datasets/har-data/\", split=\"test\") # test\n",
    "\n",
    "assert list_ch_train == list_ch_test, \"Mistmatch in channels!\""
   ]
  },
  {
   "cell_type": "code",
   "execution_count": 4,
   "metadata": {},
   "outputs": [],
   "source": [
    "# # Standardize\n",
    "# X_train, X_test = standardize(X_train, X_test)\n",
    "# print(X_train.shape, X_test.shape)"
   ]
  },
  {
   "cell_type": "markdown",
   "metadata": {},
   "source": [
    "Train/Validation Split"
   ]
  },
  {
   "cell_type": "code",
   "execution_count": 5,
   "metadata": {},
   "outputs": [],
   "source": [
    "from sklearn.model_selection import train_test_split\n",
    "\n",
    "X_tr, X_vld, lab_tr, lab_vld = train_test_split(X_train, labels_train,\n",
    "                                                stratify = labels_train,\n",
    "                                                random_state = 123)"
   ]
  },
  {
   "cell_type": "code",
   "execution_count": 6,
   "metadata": {},
   "outputs": [
    {
     "name": "stdout",
     "output_type": "stream",
     "text": [
      "(5514, 128, 9) float64\n",
      "(1838, 128, 9) float64\n",
      "(5514,) int64\n",
      "(1838,) int64\n"
     ]
    }
   ],
   "source": [
    "print(X_tr.shape, X_tr.dtype)\n",
    "print(X_vld.shape, X_vld.dtype)\n",
    "print(lab_tr.shape, lab_tr.dtype)\n",
    "print(lab_vld.shape, lab_vld.dtype)"
   ]
  },
  {
   "cell_type": "markdown",
   "metadata": {},
   "source": [
    "One-hot encoding:"
   ]
  },
  {
   "cell_type": "code",
   "execution_count": 7,
   "metadata": {},
   "outputs": [],
   "source": [
    "# y_tr = one_hot(lab_tr)\n",
    "# y_vld = one_hot(lab_vld)\n",
    "# y_test = one_hot(labels_test)"
   ]
  },
  {
   "cell_type": "code",
   "execution_count": 8,
   "metadata": {},
   "outputs": [
    {
     "name": "stdout",
     "output_type": "stream",
     "text": [
      "(5514, 128, 9) float64\n",
      "(1838, 128, 9) float64\n",
      "(2947, 128, 9) float64\n"
     ]
    }
   ],
   "source": [
    "print(X_tr.shape, X_tr.dtype)\n",
    "print(X_vld.shape, X_vld.dtype)\n",
    "print(X_test.shape, X_test.dtype)\n",
    "# print(y_tr.shape, y_tr.dtype)\n",
    "# print(y_vld.shape, y_vld.dtype)\n",
    "# print(y_test.shape, y_test.dtype)"
   ]
  },
  {
   "cell_type": "markdown",
   "metadata": {},
   "source": [
    "### Hyperparameters"
   ]
  },
  {
   "cell_type": "code",
   "execution_count": 9,
   "metadata": {},
   "outputs": [],
   "source": [
    "# Imports\n",
    "import tensorflow as tf\n",
    "\n",
    "lstm_size = 27         # 3 times the amount of channels\n",
    "lstm_layers = 1        # Number of layers\n",
    "batch_size = 600       # Batch size\n",
    "seq_len = 128          # Number of steps\n",
    "learning_rate = 0.001  # Learning rate (default is 0.001)\n",
    "epochs = 100\n",
    "\n",
    "# Fixed\n",
    "n_classes = 6\n",
    "n_channels = 9"
   ]
  },
  {
   "cell_type": "markdown",
   "metadata": {},
   "source": [
    "### Construct the graph\n",
    "Placeholders"
   ]
  },
  {
   "cell_type": "code",
   "execution_count": 11,
   "metadata": {},
   "outputs": [],
   "source": [
    "# graph = tf.Graph()\n",
    "\n",
    "# Construct placeholders\n",
    "# with graph.as_default():\n",
    "inputs_ = tf.placeholder(tf.float32, [None, seq_len, n_channels], name = 'inputs')\n",
    "indices_ = tf.placeholder(tf.int32, [None], name = 'indices')\n",
    "#     keep_prob_ = tf.placeholder(tf.float32, name = 'keep')\n",
    "#     learning_rate_ = tf.placeholder(tf.float32, name = 'learning_rate')"
   ]
  },
  {
   "cell_type": "markdown",
   "metadata": {},
   "source": [
    "Construct inputs to LSTM"
   ]
  },
  {
   "cell_type": "code",
   "execution_count": 12,
   "metadata": {},
   "outputs": [
    {
     "name": "stdout",
     "output_type": "stream",
     "text": [
      "(?, 128, 9)\n",
      "(128, ?, 9)\n",
      "(?, 9)\n",
      "128 (?, 9)\n"
     ]
    }
   ],
   "source": [
    "# with graph.as_default():\n",
    "# Construct the LSTM inputs and LSTM cells\n",
    "print(inputs_.shape)\n",
    "lstm_in = tf.transpose(inputs_, [1,0,2]) # reshape into (seq_len, N, channels)\n",
    "print(lstm_in.shape)\n",
    "lstm_in = tf.reshape(lstm_in, [-1, n_channels]) # Now (seq_len*N, n_channels)\n",
    "print(lstm_in.shape)\n",
    "\n",
    "#     # To cells\n",
    "#     lstm_in = tf.layers.dense(lstm_in, lstm_size, activation=None) # or tf.nn.relu, tf.nn.sigmoid, tf.nn.tanh?\n",
    "\n",
    "# Open up the tensor into a list of seq_len pieces\n",
    "lstm_in = tf.split(lstm_in, seq_len, 0)\n",
    "print(len(lstm_in), lstm_in[0].shape)\n",
    "\n",
    "# Add LSTM layers\n",
    "lstm = tf.contrib.rnn.BasicLSTMCell(lstm_size)\n",
    "#     drop = tf.contrib.rnn.DropoutWrapper(lstm, output_keep_prob=keep_prob_)\n",
    "cell = tf.contrib.rnn.MultiRNNCell([lstm] * lstm_layers)\n",
    "initial_state = cell.zero_state(batch_size, tf.float32)"
   ]
  },
  {
   "cell_type": "markdown",
   "metadata": {},
   "source": [
    "Define forward pass, cost function and optimizer:"
   ]
  },
  {
   "cell_type": "code",
   "execution_count": 13,
   "metadata": {},
   "outputs": [],
   "source": [
    "# with graph.as_default():\n",
    "# with tf.variable_scope('RNN', reuse=True):\n",
    "outputs, final_state = tf.contrib.rnn.static_rnn(cell, lstm_in, dtype=tf.float32,\n",
    "                                                 initial_state = initial_state)\n",
    "\n",
    "# We only need the last output tensor to pass into a classifier\n",
    "logits = tf.layers.dense(outputs[-1], n_classes, name='logits')\n",
    "\n",
    "# Cost function and optimizer\n",
    "labels_ = tf.one_hot(depth=n_classes, indices=indices_)\n",
    "cost = tf.reduce_mean(tf.nn.softmax_cross_entropy_with_logits_v2(logits=logits, labels=labels_))\n",
    "optimizer = tf.train.AdamOptimizer(learning_rate=0.001).minimize(cost) # No grad clipping\n",
    "\n",
    "# Accuracy\n",
    "correct_pred = tf.equal(tf.argmax(logits, 1), tf.argmax(labels_, 1))\n",
    "accuracy = tf.reduce_mean(tf.cast(correct_pred, tf.float32), name='accuracy')"
   ]
  },
  {
   "cell_type": "code",
   "execution_count": 14,
   "metadata": {},
   "outputs": [
    {
     "name": "stdout",
     "output_type": "stream",
     "text": [
      "128 (600, 27)\n"
     ]
    }
   ],
   "source": [
    "print(len(outputs), outputs[0].shape)"
   ]
  },
  {
   "cell_type": "code",
   "execution_count": 15,
   "metadata": {},
   "outputs": [
    {
     "name": "stdout",
     "output_type": "stream",
     "text": [
      "Tensor(\"Mean:0\", shape=(), dtype=float32)\n"
     ]
    }
   ],
   "source": [
    "print(cost)"
   ]
  },
  {
   "cell_type": "code",
   "execution_count": 16,
   "metadata": {},
   "outputs": [
    {
     "name": "stdout",
     "output_type": "stream",
     "text": [
      "Tensor(\"logits/BiasAdd:0\", shape=(600, 6), dtype=float32)\n"
     ]
    }
   ],
   "source": [
    "print(logits)"
   ]
  },
  {
   "cell_type": "markdown",
   "metadata": {},
   "source": [
    "### Train the network"
   ]
  },
  {
   "cell_type": "code",
   "execution_count": 17,
   "metadata": {},
   "outputs": [],
   "source": [
    "if (os.path.exists('checkpoints') == False):\n",
    "    !mkdir checkpoints"
   ]
  },
  {
   "cell_type": "code",
   "execution_count": 18,
   "metadata": {
    "scrolled": true
   },
   "outputs": [
    {
     "name": "stdout",
     "output_type": "stream",
     "text": [
      "Epoch: 0/100 Train loss: 1.4420380592346191 Train acc: 0.2433333396911621\n",
      "Epoch: 0/100 Valid loss: 1.4158622026443481 Valid acc: 0.3149999976158142\n",
      "Epoch: 1/100 Train loss: 1.3967152833938599 Train acc: 0.27814817428588867\n",
      "Epoch: 1/100 Valid loss: 1.371342658996582 Valid acc: 0.23555554449558258\n",
      "Epoch: 2/100 Train loss: 1.352476954460144 Train acc: 0.22870370745658875\n",
      "Epoch: 2/100 Valid loss: 1.330086588859558 Valid acc: 0.23000000417232513\n",
      "Epoch: 3/100 Train loss: 1.3104784488677979 Train acc: 0.26333335041999817\n",
      "Epoch: 3/100 Valid loss: 1.287522315979004 Valid acc: 0.31333333253860474\n",
      "Epoch: 4/100 Train loss: 1.2622880935668945 Train acc: 0.30407407879829407\n",
      "Epoch: 4/100 Valid loss: 1.2305455207824707 Valid acc: 0.33444443345069885\n",
      "Epoch: 5/100 Train loss: 1.2002778053283691 Train acc: 0.3403703272342682\n",
      "Epoch: 5/100 Valid loss: 1.1772414445877075 Valid acc: 0.32111111283302307\n",
      "Epoch: 6/100 Train loss: 1.1464067697525024 Train acc: 0.35185182094573975\n",
      "Epoch: 6/100 Valid loss: 1.117547631263733 Valid acc: 0.3633333444595337\n",
      "Epoch: 7/100 Train loss: 1.0857830047607422 Train acc: 0.380740761756897\n",
      "Epoch: 7/100 Valid loss: 1.0469975471496582 Valid acc: 0.39000001549720764\n",
      "Epoch: 8/100 Train loss: 1.0218615531921387 Train acc: 0.40703704953193665\n",
      "Epoch: 8/100 Valid loss: 0.9760270118713379 Valid acc: 0.4233333170413971\n",
      "Epoch: 9/100 Train loss: 0.9551429748535156 Train acc: 0.43574073910713196\n",
      "Epoch: 9/100 Valid loss: 0.9053424000740051 Valid acc: 0.44555553793907166\n",
      "Epoch: 10/100 Train loss: 0.8806384801864624 Train acc: 0.4716666638851166\n",
      "Epoch: 10/100 Valid loss: 0.8453514575958252 Valid acc: 0.4794444739818573\n",
      "Epoch: 11/100 Train loss: 0.8279657959938049 Train acc: 0.4953703284263611\n",
      "Epoch: 11/100 Valid loss: 0.8035079836845398 Valid acc: 0.48777779936790466\n",
      "Epoch: 12/100 Train loss: 0.7916282415390015 Train acc: 0.5009258985519409\n",
      "Epoch: 12/100 Valid loss: 0.7716153264045715 Valid acc: 0.49222221970558167\n",
      "Epoch: 13/100 Train loss: 0.764761209487915 Train acc: 0.5077778100967407\n",
      "Epoch: 13/100 Valid loss: 0.7438247203826904 Valid acc: 0.4972222149372101\n",
      "Epoch: 14/100 Train loss: 0.7446697950363159 Train acc: 0.5122222304344177\n",
      "Epoch: 14/100 Valid loss: 0.7332538962364197 Valid acc: 0.504444420337677\n",
      "Epoch: 15/100 Train loss: 0.7315897345542908 Train acc: 0.5211111307144165\n",
      "Epoch: 15/100 Valid loss: 0.7198245525360107 Valid acc: 0.5066666603088379\n",
      "Epoch: 16/100 Train loss: 0.7155272364616394 Train acc: 0.524074137210846\n",
      "Epoch: 16/100 Valid loss: 0.7036471366882324 Valid acc: 0.5133333206176758\n",
      "Epoch: 17/100 Train loss: 0.7131816148757935 Train acc: 0.5327777862548828\n",
      "Epoch: 17/100 Valid loss: 0.7138295769691467 Valid acc: 0.5116666555404663\n",
      "Epoch: 18/100 Train loss: 0.710347592830658 Train acc: 0.5400000214576721\n",
      "Epoch: 18/100 Valid loss: 0.7053616046905518 Valid acc: 0.5094444155693054\n",
      "Epoch: 19/100 Train loss: 0.6941315531730652 Train acc: 0.5401852130889893\n",
      "Epoch: 19/100 Valid loss: 0.6830241084098816 Valid acc: 0.5277777910232544\n",
      "Epoch: 20/100 Train loss: 0.6894600987434387 Train acc: 0.5462962985038757\n",
      "Epoch: 20/100 Valid loss: 0.6788865923881531 Valid acc: 0.523888885974884\n",
      "Epoch: 21/100 Train loss: 0.6855139136314392 Train acc: 0.5474074482917786\n",
      "Epoch: 21/100 Valid loss: 0.6672627925872803 Valid acc: 0.536111056804657\n",
      "Epoch: 22/100 Train loss: 0.670990526676178 Train acc: 0.5557407140731812\n",
      "Epoch: 22/100 Valid loss: 0.6775457859039307 Valid acc: 0.5550000071525574\n",
      "Epoch: 23/100 Train loss: 0.6609694361686707 Train acc: 0.5672222375869751\n",
      "Epoch: 23/100 Valid loss: 0.6603923439979553 Valid acc: 0.5505555272102356\n",
      "Epoch: 24/100 Train loss: 0.654657244682312 Train acc: 0.570555567741394\n",
      "Epoch: 24/100 Valid loss: 0.6536561846733093 Valid acc: 0.5744444727897644\n",
      "Epoch: 25/100 Train loss: 0.6493809819221497 Train acc: 0.5790741443634033\n",
      "Epoch: 25/100 Valid loss: 0.6427600979804993 Valid acc: 0.5711111426353455\n",
      "Epoch: 26/100 Train loss: 0.6474881768226624 Train acc: 0.5761111378669739\n",
      "Epoch: 26/100 Valid loss: 0.6463984847068787 Valid acc: 0.5699999928474426\n",
      "Epoch: 27/100 Train loss: 0.6358356475830078 Train acc: 0.5968518257141113\n",
      "Epoch: 27/100 Valid loss: 0.6317687034606934 Valid acc: 0.5922222137451172\n",
      "Epoch: 28/100 Train loss: 0.6326756477355957 Train acc: 0.5983333587646484\n",
      "Epoch: 28/100 Valid loss: 0.6317139863967896 Valid acc: 0.5838889479637146\n",
      "Epoch: 29/100 Train loss: 0.623182475566864 Train acc: 0.6057407855987549\n",
      "Epoch: 29/100 Valid loss: 0.6231160759925842 Valid acc: 0.5933333039283752\n",
      "Epoch: 30/100 Train loss: 0.6167120337486267 Train acc: 0.6085184812545776\n",
      "Epoch: 30/100 Valid loss: 0.6108396649360657 Valid acc: 0.6111111044883728\n",
      "Epoch: 31/100 Train loss: 0.6178275346755981 Train acc: 0.6051851511001587\n",
      "Epoch: 31/100 Valid loss: 0.6073978543281555 Valid acc: 0.6061111092567444\n",
      "Epoch: 32/100 Train loss: 0.6210644245147705 Train acc: 0.6070370078086853\n",
      "Epoch: 32/100 Valid loss: 0.5987985730171204 Valid acc: 0.6127777695655823\n",
      "Epoch: 33/100 Train loss: 0.6129609942436218 Train acc: 0.6155555248260498\n",
      "Epoch: 33/100 Valid loss: 0.6033969521522522 Valid acc: 0.6122222542762756\n",
      "Epoch: 34/100 Train loss: 0.6161702871322632 Train acc: 0.620185136795044\n",
      "Epoch: 34/100 Valid loss: 0.6161347031593323 Valid acc: 0.5950000286102295\n",
      "Epoch: 35/100 Train loss: 0.6074255704879761 Train acc: 0.6214815378189087\n",
      "Epoch: 35/100 Valid loss: 0.6022055745124817 Valid acc: 0.6033333539962769\n",
      "Epoch: 36/100 Train loss: 0.577808141708374 Train acc: 0.6303703784942627\n",
      "Epoch: 36/100 Valid loss: 0.5791055560112 Valid acc: 0.6222222447395325\n",
      "Epoch: 37/100 Train loss: 0.5592610836029053 Train acc: 0.6507407426834106\n",
      "Epoch: 37/100 Valid loss: 0.5617586970329285 Valid acc: 0.6311110854148865\n",
      "Epoch: 38/100 Train loss: 0.5609924793243408 Train acc: 0.6535184979438782\n",
      "Epoch: 38/100 Valid loss: 0.5848796367645264 Valid acc: 0.6255555748939514\n",
      "Epoch: 39/100 Train loss: 0.5886335372924805 Train acc: 0.6338889002799988\n",
      "Epoch: 39/100 Valid loss: 0.5641629695892334 Valid acc: 0.652222216129303\n",
      "Epoch: 40/100 Train loss: 0.5531718134880066 Train acc: 0.6596295833587646\n",
      "Epoch: 40/100 Valid loss: 0.5334697365760803 Valid acc: 0.675000011920929\n",
      "Epoch: 41/100 Train loss: 0.5279291272163391 Train acc: 0.6683332920074463\n",
      "Epoch: 41/100 Valid loss: 0.5115111470222473 Valid acc: 0.6761111617088318\n",
      "Epoch: 42/100 Train loss: 0.5272707939147949 Train acc: 0.6709259152412415\n",
      "Epoch: 42/100 Valid loss: 0.5469326376914978 Valid acc: 0.6477777361869812\n",
      "Epoch: 43/100 Train loss: 0.5149539709091187 Train acc: 0.676111102104187\n",
      "Epoch: 43/100 Valid loss: 0.5120055675506592 Valid acc: 0.6611111164093018\n",
      "Epoch: 44/100 Train loss: 0.5083214640617371 Train acc: 0.6733334064483643\n",
      "Epoch: 44/100 Valid loss: 0.5089662671089172 Valid acc: 0.6722221970558167\n",
      "Epoch: 45/100 Train loss: 0.5093321204185486 Train acc: 0.6753703355789185\n",
      "Epoch: 45/100 Valid loss: 0.5020033121109009 Valid acc: 0.6783333420753479\n",
      "Epoch: 46/100 Train loss: 0.4892030954360962 Train acc: 0.684259295463562\n",
      "Epoch: 46/100 Valid loss: 0.4753934442996979 Valid acc: 0.6922221779823303\n",
      "Epoch: 47/100 Train loss: 0.46418607234954834 Train acc: 0.6922222375869751\n",
      "Epoch: 47/100 Valid loss: 0.45444464683532715 Valid acc: 0.6983333230018616\n",
      "Epoch: 48/100 Train loss: 0.45255205035209656 Train acc: 0.6970369815826416\n",
      "Epoch: 48/100 Valid loss: 0.4447127878665924 Valid acc: 0.708888828754425\n",
      "Epoch: 49/100 Train loss: 0.44292837381362915 Train acc: 0.6987036466598511\n",
      "Epoch: 49/100 Valid loss: 0.43297383189201355 Valid acc: 0.6927778124809265\n",
      "Epoch: 50/100 Train loss: 0.45239272713661194 Train acc: 0.7018518447875977\n",
      "Epoch: 50/100 Valid loss: 0.4449097216129303 Valid acc: 0.6949999928474426\n",
      "Epoch: 51/100 Train loss: 0.4394173324108124 Train acc: 0.7031481266021729\n",
      "Epoch: 51/100 Valid loss: 0.44899940490722656 Valid acc: 0.6983333230018616\n",
      "Epoch: 52/100 Train loss: 0.45071178674697876 Train acc: 0.6927778124809265\n",
      "Epoch: 52/100 Valid loss: 0.4277123212814331 Valid acc: 0.6955555081367493\n",
      "Epoch: 53/100 Train loss: 0.42216697335243225 Train acc: 0.7074074149131775\n",
      "Epoch: 53/100 Valid loss: 0.4143010079860687 Valid acc: 0.7194444537162781\n",
      "Epoch: 54/100 Train loss: 0.41503530740737915 Train acc: 0.7177777886390686\n",
      "Epoch: 54/100 Valid loss: 0.41533875465393066 Valid acc: 0.7122222781181335\n"
     ]
    },
    {
     "name": "stdout",
     "output_type": "stream",
     "text": [
      "Epoch: 55/100 Train loss: 0.44507959485054016 Train acc: 0.6927778720855713\n",
      "Epoch: 55/100 Valid loss: 0.41584837436676025 Valid acc: 0.722777783870697\n",
      "Epoch: 56/100 Train loss: 0.4075210988521576 Train acc: 0.7216666340827942\n",
      "Epoch: 56/100 Valid loss: 0.4131421148777008 Valid acc: 0.7155554890632629\n",
      "Epoch: 57/100 Train loss: 0.41288816928863525 Train acc: 0.7157407402992249\n",
      "Epoch: 57/100 Valid loss: 0.40695372223854065 Valid acc: 0.6988888382911682\n",
      "Epoch: 58/100 Train loss: 0.4117943048477173 Train acc: 0.707777738571167\n",
      "Epoch: 58/100 Valid loss: 0.43824777007102966 Valid acc: 0.6938889026641846\n",
      "Epoch: 59/100 Train loss: 0.4498891234397888 Train acc: 0.6898148059844971\n",
      "Epoch: 59/100 Valid loss: 0.4570913016796112 Valid acc: 0.6700000166893005\n",
      "Epoch: 60/100 Train loss: 0.44622671604156494 Train acc: 0.6899999380111694\n",
      "Epoch: 60/100 Valid loss: 0.4166242182254791 Valid acc: 0.6894444823265076\n",
      "Epoch: 61/100 Train loss: 0.38929441571235657 Train acc: 0.7144443988800049\n",
      "Epoch: 61/100 Valid loss: 0.3778064548969269 Valid acc: 0.7105555534362793\n",
      "Epoch: 62/100 Train loss: 0.40391337871551514 Train acc: 0.7038888931274414\n",
      "Epoch: 62/100 Valid loss: 0.39871230721473694 Valid acc: 0.7066666483879089\n",
      "Epoch: 63/100 Train loss: 0.39639875292778015 Train acc: 0.7111110687255859\n",
      "Epoch: 63/100 Valid loss: 0.38301125168800354 Valid acc: 0.7194444537162781\n",
      "Epoch: 64/100 Train loss: 0.3873581290245056 Train acc: 0.7198148369789124\n",
      "Epoch: 64/100 Valid loss: 0.3759443461894989 Valid acc: 0.7216666340827942\n",
      "Epoch: 65/100 Train loss: 0.3741464912891388 Train acc: 0.7157407999038696\n",
      "Epoch: 65/100 Valid loss: 0.35868486762046814 Valid acc: 0.7288889288902283\n",
      "Epoch: 66/100 Train loss: 0.3517507016658783 Train acc: 0.7266666889190674\n",
      "Epoch: 66/100 Valid loss: 0.346459299325943 Valid acc: 0.7294445037841797\n",
      "Epoch: 67/100 Train loss: 0.3373070955276489 Train acc: 0.7338889241218567\n",
      "Epoch: 67/100 Valid loss: 0.33770641684532166 Valid acc: 0.7311111092567444\n",
      "Epoch: 68/100 Train loss: 0.32651960849761963 Train acc: 0.7320370078086853\n",
      "Epoch: 68/100 Valid loss: 0.3291548192501068 Valid acc: 0.7327777743339539\n",
      "Epoch: 69/100 Train loss: 0.3238685727119446 Train acc: 0.7322221994400024\n",
      "Epoch: 69/100 Valid loss: 0.3302879333496094 Valid acc: 0.7322222590446472\n",
      "Epoch: 70/100 Train loss: 0.34095901250839233 Train acc: 0.725185215473175\n",
      "Epoch: 70/100 Valid loss: 0.3225114047527313 Valid acc: 0.7316667437553406\n",
      "Epoch: 71/100 Train loss: 0.3363271951675415 Train acc: 0.7246296405792236\n",
      "Epoch: 71/100 Valid loss: 0.31469956040382385 Valid acc: 0.7283332943916321\n",
      "Epoch: 72/100 Train loss: 0.3380230963230133 Train acc: 0.7274074554443359\n",
      "Epoch: 72/100 Valid loss: 0.3339173495769501 Valid acc: 0.7322222590446472\n",
      "Epoch: 73/100 Train loss: 0.32678020000457764 Train acc: 0.7298148274421692\n",
      "Epoch: 73/100 Valid loss: 0.3062959611415863 Valid acc: 0.7372221946716309\n",
      "Epoch: 74/100 Train loss: 0.3175053000450134 Train acc: 0.7372221946716309\n",
      "Epoch: 74/100 Valid loss: 0.3153803050518036 Valid acc: 0.7216666340827942\n",
      "Epoch: 75/100 Train loss: 0.3158738911151886 Train acc: 0.7353703379631042\n",
      "Epoch: 75/100 Valid loss: 0.30285024642944336 Valid acc: 0.742222249507904\n",
      "Epoch: 76/100 Train loss: 0.31952527165412903 Train acc: 0.7325925827026367\n",
      "Epoch: 76/100 Valid loss: 0.320812851190567 Valid acc: 0.7272222638130188\n",
      "Epoch: 77/100 Train loss: 0.3377276659011841 Train acc: 0.724814772605896\n",
      "Epoch: 77/100 Valid loss: 0.32578718662261963 Valid acc: 0.7166666388511658\n",
      "Epoch: 78/100 Train loss: 0.3091825246810913 Train acc: 0.7346296310424805\n",
      "Epoch: 78/100 Valid loss: 0.29625406861305237 Valid acc: 0.7394444346427917\n",
      "Epoch: 79/100 Train loss: 0.3074602782726288 Train acc: 0.7350000143051147\n",
      "Epoch: 79/100 Valid loss: 0.3286692202091217 Valid acc: 0.722777783870697\n",
      "Epoch: 80/100 Train loss: 0.3093215227127075 Train acc: 0.7362962961196899\n",
      "Epoch: 80/100 Valid loss: 0.3213782012462616 Valid acc: 0.7272222638130188\n",
      "Epoch: 81/100 Train loss: 0.36439719796180725 Train acc: 0.7048148512840271\n",
      "Epoch: 81/100 Valid loss: 0.3705640733242035 Valid acc: 0.6966666579246521\n",
      "Epoch: 82/100 Train loss: 0.32732954621315 Train acc: 0.726111114025116\n",
      "Epoch: 82/100 Valid loss: 0.3085115849971771 Valid acc: 0.7316667437553406\n",
      "Epoch: 83/100 Train loss: 0.2962113618850708 Train acc: 0.7331481575965881\n",
      "Epoch: 83/100 Valid loss: 0.2862381637096405 Valid acc: 0.7388889193534851\n",
      "Epoch: 84/100 Train loss: 0.2856985330581665 Train acc: 0.7412962913513184\n",
      "Epoch: 84/100 Valid loss: 0.29669973254203796 Valid acc: 0.7294445037841797\n",
      "Epoch: 85/100 Train loss: 0.29220664501190186 Train acc: 0.7383333444595337\n",
      "Epoch: 85/100 Valid loss: 0.2894790470600128 Valid acc: 0.7283332943916321\n",
      "Epoch: 86/100 Train loss: 0.28127554059028625 Train acc: 0.7398147583007812\n",
      "Epoch: 86/100 Valid loss: 0.26891711354255676 Valid acc: 0.742222249507904\n",
      "Epoch: 87/100 Train loss: 0.2700173556804657 Train acc: 0.7440741062164307\n",
      "Epoch: 87/100 Valid loss: 0.26207032799720764 Valid acc: 0.745555579662323\n",
      "Epoch: 88/100 Train loss: 0.2639996111392975 Train acc: 0.746666669845581\n",
      "Epoch: 88/100 Valid loss: 0.25913915038108826 Valid acc: 0.745555579662323\n",
      "Epoch: 89/100 Train loss: 0.26186618208885193 Train acc: 0.7470370531082153\n",
      "Epoch: 89/100 Valid loss: 0.2638613283634186 Valid acc: 0.7394444346427917\n",
      "Epoch: 90/100 Train loss: 0.26141464710235596 Train acc: 0.745555579662323\n",
      "Epoch: 90/100 Valid loss: 0.29450711607933044 Valid acc: 0.7322222590446472\n",
      "Epoch: 91/100 Train loss: 0.3068348169326782 Train acc: 0.7255555987358093\n",
      "Epoch: 91/100 Valid loss: 0.30469170212745667 Valid acc: 0.7283332943916321\n",
      "Epoch: 92/100 Train loss: 0.2812284231185913 Train acc: 0.7409259676933289\n",
      "Epoch: 92/100 Valid loss: 0.2679179608821869 Valid acc: 0.7411110997200012\n",
      "Epoch: 93/100 Train loss: 0.2658478617668152 Train acc: 0.7468518018722534\n",
      "Epoch: 93/100 Valid loss: 0.25785985589027405 Valid acc: 0.7483332753181458\n",
      "Epoch: 94/100 Train loss: 0.25791671872138977 Train acc: 0.7461110949516296\n",
      "Epoch: 94/100 Valid loss: 0.2571171224117279 Valid acc: 0.7477777600288391\n",
      "Epoch: 95/100 Train loss: 0.2505486309528351 Train acc: 0.7492592334747314\n",
      "Epoch: 95/100 Valid loss: 0.25336864590644836 Valid acc: 0.7494444847106934\n",
      "Epoch: 96/100 Train loss: 0.24996858835220337 Train acc: 0.747592568397522\n",
      "Epoch: 96/100 Valid loss: 0.25047576427459717 Valid acc: 0.7505555152893066\n",
      "Epoch: 97/100 Train loss: 0.25556910037994385 Train acc: 0.7427777647972107\n",
      "Epoch: 97/100 Valid loss: 0.25029340386390686 Valid acc: 0.7394444346427917\n",
      "Epoch: 98/100 Train loss: 0.25113141536712646 Train acc: 0.7435185313224792\n",
      "Epoch: 98/100 Valid loss: 0.23901903629302979 Valid acc: 0.7516667246818542\n",
      "Epoch: 99/100 Train loss: 0.2432413101196289 Train acc: 0.7474073767662048\n",
      "Epoch: 99/100 Valid loss: 0.24038024246692657 Valid acc: 0.7494444847106934\n"
     ]
    }
   ],
   "source": [
    "validation_acc = []\n",
    "validation_loss = []\n",
    "\n",
    "train_acc = []\n",
    "train_loss = []\n",
    "\n",
    "# with graph.as_default():\n",
    "saver = tf.train.Saver()\n",
    "\n",
    "with tf.Session() as sess:\n",
    "    # Initialize the global variable instead of loading them or if there is nothing to load.\n",
    "    sess.run(tf.global_variables_initializer())\n",
    "    \n",
    "    for e in range(epochs):\n",
    "        # Initialize \n",
    "        state = sess.run(initial_state)\n",
    "        \n",
    "        # Training\n",
    "        train_acc_ = []\n",
    "        train_loss_ = []\n",
    "        # Loop over batches\n",
    "        for x,y in get_batches(X_tr, lab_tr, batch_size):\n",
    "            \n",
    "            # Feed dictionary\n",
    "            feed = {inputs_ : x, indices_ : y, initial_state : state}\n",
    "            \n",
    "            loss, _ , state, acc = sess.run([cost, optimizer, final_state, accuracy], \n",
    "                                             feed_dict = feed)\n",
    "            train_acc_.append(acc)\n",
    "            train_loss_.append(loss)\n",
    "            \n",
    "        # Print at each 5 iters\n",
    "        print(\"Epoch: {}/{}\".format(e, epochs),\n",
    "              \"Train loss: {}\".format(np.mean(train_loss_)),\n",
    "              \"Train acc: {}\".format(np.mean(train_acc_)))\n",
    "\n",
    "        # Store\n",
    "        train_acc.append(np.mean(train_acc_))\n",
    "        train_loss.append(np.mean(train_loss_))\n",
    "        \n",
    "        # Validation\n",
    "        # Initiate for validation set\n",
    "        val_state = sess.run(cell.zero_state(batch_size, tf.float32))\n",
    "        val_acc_ = []\n",
    "        val_loss_ = []\n",
    "        for x_v, y_v in get_batches(X_vld, lab_vld, batch_size):\n",
    "            # Feed\n",
    "            feed = {inputs_ : x_v, indices_ : y_v, initial_state : val_state}\n",
    "\n",
    "            # Loss\n",
    "            loss_v, state_v, acc_v = sess.run([cost, final_state, accuracy], feed_dict = feed)\n",
    "\n",
    "            val_acc_.append(acc_v)\n",
    "            val_loss_.append(loss_v)\n",
    "\n",
    "        # Print info\n",
    "        print(\"Epoch: {}/{}\".format(e, epochs),\n",
    "              \"Valid loss: {}\".format(np.mean(val_loss_)),\n",
    "              \"Valid acc: {}\".format(np.mean(val_acc_)))\n",
    "                \n",
    "        # Store\n",
    "        validation_acc.append(np.mean(val_acc_))\n",
    "        validation_loss.append(np.mean(val_loss_))\n",
    "            \n",
    "    saver.save(sess,\"checkpoints/har-lstm.ckpt\")"
   ]
  },
  {
   "cell_type": "code",
   "execution_count": 20,
   "metadata": {},
   "outputs": [
    {
     "data": {
      "image/png": "[encoded data removed]",
      "text/plain": [
       "<Figure size 432x432 with 1 Axes>"
      ]
     },
     "metadata": {},
     "output_type": "display_data"
    }
   ],
   "source": [
    "import matplotlib.pyplot as plt\n",
    "%matplotlib inline\n",
    "\n",
    "# Plot training and test loss\n",
    "plt.figure(figsize = (6,6))\n",
    "plt.plot(np.array(train_loss), 'r-', np.array(validation_loss), 'b*')\n",
    "plt.xlabel(\"iteration\")\n",
    "plt.ylabel(\"Loss\")\n",
    "plt.legend(['train', 'validation'], loc='upper right')\n",
    "plt.show()"
   ]
  },
  {
   "cell_type": "code",
   "execution_count": 21,
   "metadata": {},
   "outputs": [
    {
     "data": {
      "image/png": "[encoded data removed]",
      "text/plain": [
       "<Figure size 432x288 with 1 Axes>"
      ]
     },
     "metadata": {},
     "output_type": "display_data"
    }
   ],
   "source": [
    "# Plot Accuracies\n",
    "plt.plot(np.array(train_acc), 'r-', validation_acc, 'b*')\n",
    "plt.xlabel(\"iteration\")\n",
    "plt.ylabel(\"Accuray\")\n",
    "plt.legend(['train', 'validation'], loc='upper right')\n",
    "plt.show()"
   ]
  },
  {
   "cell_type": "markdown",
   "metadata": {},
   "source": [
    "## Evaluate on test set"
   ]
  },
  {
   "cell_type": "code",
   "execution_count": 25,
   "metadata": {},
   "outputs": [
    {
     "name": "stdout",
     "output_type": "stream",
     "text": [
      "INFO:tensorflow:Restoring parameters from checkpoints/har-lstm.ckpt\n",
      "Test accuracy: 0.685833\n"
     ]
    }
   ],
   "source": [
    "test_acc = []\n",
    "\n",
    "with tf.Session() as sess:\n",
    "    # Restore\n",
    "    saver.restore(sess, tf.train.latest_checkpoint('checkpoints'))\n",
    "    test_state = sess.run(cell.zero_state(batch_size, tf.float32))\n",
    "    \n",
    "    for x_t, y_t in get_batches(X_test, labels_test, batch_size):\n",
    "        feed = {inputs_: x_t,\n",
    "                indices_: y_t,\n",
    "                initial_state: test_state}\n",
    "        \n",
    "        batch_acc, test_state = sess.run([accuracy, final_state], feed_dict=feed)\n",
    "        test_acc.append(batch_acc)\n",
    "    print(\"Test accuracy: {:.6f}\".format(np.mean(test_acc)))"
   ]
  },
  {
   "cell_type": "code",
   "execution_count": null,
   "metadata": {},
   "outputs": [],
   "source": []
  }
 ],
 "metadata": {
  "kernelspec": {
   "display_name": "Python 3",
   "language": "python",
   "name": "python3"
  },
  "language_info": {
   "codemirror_mode": {
    "name": "ipython",
    "version": 3
   },
   "file_extension": ".py",
   "mimetype": "text/x-python",
   "name": "python",
   "nbconvert_exporter": "python",
   "pygments_lexer": "ipython3",
   "version": "3.6.5"
  },
  "widgets": {
   "state": {},
   "version": "1.1.2"
  }
 },
 "nbformat": 4,
 "nbformat_minor": 2
}
