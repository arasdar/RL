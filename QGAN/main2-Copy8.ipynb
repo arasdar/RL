{
 "cells": [
  {
   "cell_type": "markdown",
   "metadata": {},
   "source": [
    "\n",
    "# Q learning (Q-Net)\n",
    "\n",
    "More specifically, we'll use Q-GAN to train an agent to play a game called [Cart-Pole](https://gym.openai.com/envs/CartPole-v0). In this game, a freely swinging pole is attached to a cart. The cart can move to the left and right, and the goal is to keep the pole upright as long as possible.\n",
    "\n",
    "![Cart-Pole](assets/cart-pole.jpg)\n",
    "\n",
    "We can simulate this game using [OpenAI Gym](https://gym.openai.com/). First, let's check out how OpenAI Gym works. Then, we'll get into training an agent to play the Cart-Pole game."
   ]
  },
  {
   "cell_type": "code",
   "execution_count": 1,
   "metadata": {},
   "outputs": [],
   "source": [
    "import numpy as np"
   ]
  },
  {
   "cell_type": "code",
   "execution_count": 2,
   "metadata": {},
   "outputs": [
    {
     "name": "stdout",
     "output_type": "stream",
     "text": [
      "TensorFlow Version: 1.8.0\n",
      "Default GPU Device: /device:GPU:0\n"
     ]
    }
   ],
   "source": [
    "# In this one we should define and detect GPUs for tensorflow\n",
    "# GPUs or CPU\n",
    "import tensorflow as tf\n",
    "\n",
    "# Check TensorFlow Version\n",
    "print('TensorFlow Version: {}'.format(tf.__version__))\n",
    "\n",
    "# Check for a GPU\n",
    "print('Default GPU Device: {}'.format(tf.test.gpu_device_name()))"
   ]
  },
  {
   "cell_type": "markdown",
   "metadata": {},
   "source": [
    ">**Note:** Make sure you have OpenAI Gym cloned. Then run this command 'pip install -e gym/[all]'."
   ]
  },
  {
   "cell_type": "code",
   "execution_count": 3,
   "metadata": {},
   "outputs": [
    {
     "name": "stdout",
     "output_type": "stream",
     "text": [
      "\u001b[33mWARN: gym.spaces.Box autodetected dtype as <class 'numpy.float32'>. Please provide explicit dtype.\u001b[0m\n"
     ]
    },
    {
     "name": "stderr",
     "output_type": "stream",
     "text": [
      "/home/arasdar/anaconda3/envs/env/lib/python3.6/site-packages/gym/__init__.py:22: UserWarning: DEPRECATION WARNING: to improve load times, gym no longer automatically loads gym.spaces. Please run \"import gym.spaces\" to load gym.spaces on your own. This warning will turn into an error in a future version of gym.\n",
      "  warnings.warn('DEPRECATION WARNING: to improve load times, gym no longer automatically loads gym.spaces. Please run \"import gym.spaces\" to load gym.spaces on your own. This warning will turn into an error in a future version of gym.')\n"
     ]
    }
   ],
   "source": [
    "import gym\n",
    "# Create the Cart-Pole game environment\n",
    "env = gym.make('CartPole-v0')\n",
    "# env = gym.make('CartPole-v1')\n",
    "# env = gym.make('Acrobot-v1')\n",
    "# env = gym.make('MountainCar-v0')\n",
    "# env = gym.make('Pendulum-v0')\n",
    "# env = gym.make('Blackjack-v0')\n",
    "# env = gym.make('FrozenLake-v0')\n",
    "# env = gym.make('AirRaid-ram-v0')\n",
    "# env = gym.make('AirRaid-v0')\n",
    "# env = gym.make('BipedalWalker-v2')\n",
    "# env = gym.make('Copy-v0')\n",
    "# env = gym.make('CarRacing-v0')\n",
    "# env = gym.make('Ant-v2') #mujoco\n",
    "# env = gym.make('FetchPickAndPlace-v1') # mujoco required!"
   ]
  },
  {
   "cell_type": "markdown",
   "metadata": {},
   "source": [
    "We interact with the simulation through `env`. To show the simulation running, you can use `env.render()` to render one frame. Passing in an action as an integer to `env.step` will generate the next step in the simulation.  You can see how many actions are possible from `env.action_space` and to get a random action you can use `env.action_space.sample()`. This is general to all Gym games. In the Cart-Pole game, there are two possible actions, moving the cart left or right. So there are two actions we can take, encoded as 0 and 1.\n",
    "\n",
    "Run the code below to watch the simulation run."
   ]
  },
  {
   "cell_type": "code",
   "execution_count": 4,
   "metadata": {},
   "outputs": [],
   "source": [
    "env.reset()\n",
    "rewards, states, actions, dones = [], [], [], []\n",
    "for _ in range(10):\n",
    "    #env.render()\n",
    "    action = env.action_space.sample()\n",
    "    state, reward, done, info = env.step(action) # take a random action\n",
    "    states.append(state)\n",
    "    rewards.append(reward)\n",
    "    actions.append(action)\n",
    "    dones.append(done)\n",
    "    #     print('state, action, reward, done, info')\n",
    "    #     print(state, action, reward, done, info)\n",
    "    if done:\n",
    "    #         print('state, action, reward, done, info')\n",
    "    #         print(state, action, reward, done, info)\n",
    "        states.append(state)\n",
    "        rewards.append(reward)\n",
    "        actions.append(action)\n",
    "        dones.append(done)"
   ]
  },
  {
   "cell_type": "markdown",
   "metadata": {},
   "source": [
    "To shut the window showing the simulation, use `env.close()`."
   ]
  },
  {
   "cell_type": "markdown",
   "metadata": {},
   "source": [
    "If you ran the simulation above, we can look at the rewards:"
   ]
  },
  {
   "cell_type": "code",
   "execution_count": 5,
   "metadata": {},
   "outputs": [
    {
     "name": "stdout",
     "output_type": "stream",
     "text": [
      "[1.0, 1.0, 1.0, 1.0, 1.0, 1.0, 1.0, 1.0, 1.0, 1.0]\n",
      "(10,) (10, 4) (10,) (10,)\n",
      "float64 float64 int64 bool\n",
      "actions: 1 0\n",
      "rewards min and max: 1.0 1.0\n",
      "state size: (10, 4) action size: 2\n"
     ]
    }
   ],
   "source": [
    "print(rewards[-20:])\n",
    "print(np.array(rewards).shape, np.array(states).shape, np.array(actions).shape, np.array(dones).shape)\n",
    "print(np.array(rewards).dtype, np.array(states).dtype, np.array(actions).dtype, np.array(dones).dtype)\n",
    "print('actions:', np.max(np.array(actions)), np.min(np.array(actions)))\n",
    "print('rewards min and max:', np.max(np.array(rewards)), np.min(np.array(rewards)))\n",
    "print('state size:', np.array(states).shape, \n",
    "      'action size: {}'.format((np.max(np.array(actions)) - np.min(np.array(actions)))+1))"
   ]
  },
  {
   "cell_type": "markdown",
   "metadata": {},
   "source": [
    "The game resets after the pole has fallen past a certain angle. For each frame while the simulation is running, it returns a reward of 1.0. The longer the game runs, the more reward we get. Then, our network's goal is to maximize the reward by keeping the pole vertical. It will do this by moving the cart to the left and the right."
   ]
  },
  {
   "cell_type": "code",
   "execution_count": 14,
   "metadata": {},
   "outputs": [],
   "source": [
    "# Data of the model\n",
    "def model_input(state_size):\n",
    "    # Current and next states given\n",
    "    states = tf.placeholder(tf.float32, [None, state_size], name='states')\n",
    "    next_states = tf.placeholder(tf.float32, [None, state_size], name='next_states')\n",
    "    \n",
    "    # Previous and current actions given\n",
    "    prev_actions = tf.placeholder(tf.int32, [None], name='prev_actions')\n",
    "    actions = tf.placeholder(tf.int32, [None], name='actions')\n",
    "    \n",
    "    # End of episodes/goal/task where nextQs = 0 and Qs=rs\n",
    "    dones = tf.placeholder(tf.bool, [None], name='dones') # masked\n",
    "\n",
    "    # Qs = qs+ (gamma * nextQs)\n",
    "    nextQs = tf.placeholder(tf.float32, [None], name='nextQs') # masked\n",
    "    nextQs_D = tf.placeholder(tf.float32, [None], name='nextQs_D') # masked\n",
    "    \n",
    "    # returning the given data to the model\n",
    "    return prev_actions, states, actions, next_states, dones, nextQs, nextQs_D"
   ]
  },
  {
   "cell_type": "code",
   "execution_count": 15,
   "metadata": {},
   "outputs": [],
   "source": [
    "# Generator: Generating/predicting action and next states\n",
    "def generator(prev_actions, states, action_size, state_size, hidden_size, reuse=False, alpha=0.1, training=False):\n",
    "    with tf.variable_scope('generator', reuse=reuse):\n",
    "        # Fusing states and actions\n",
    "        x_fused = tf.concat(axis=1, values=[prev_actions, states])\n",
    "        \n",
    "        # First fully connected layer\n",
    "        h1 = tf.layers.dense(inputs=x_fused, units=hidden_size)\n",
    "        bn1 = tf.layers.batch_normalization(h1, training=training)        \n",
    "        nl1 = tf.maximum(alpha * bn1, bn1)\n",
    "        \n",
    "        # Second fully connected layer\n",
    "        h2 = tf.layers.dense(inputs=nl1, units=hidden_size)\n",
    "        bn2 = tf.layers.batch_normalization(h2, training=training)        \n",
    "        nl2 = tf.maximum(alpha * bn2, bn2)\n",
    "        \n",
    "        # Output layer\n",
    "        logits = tf.layers.dense(inputs=nl2, units=(action_size + state_size))\n",
    "        actions_logits, next_states_logits = tf.split(axis=1, num_or_size_splits=[action_size, state_size], \n",
    "                                                      value=logits)\n",
    "        #predictions = tf.nn.softmax(actions_logits)\n",
    "        #predictions = tf.sigmoid(next_states_logits)\n",
    "\n",
    "        # return actions and states logits\n",
    "        return actions_logits, next_states_logits"
   ]
  },
  {
   "cell_type": "code",
   "execution_count": 16,
   "metadata": {},
   "outputs": [],
   "source": [
    "def discriminator(prev_actions, states, hidden_size, reuse=False, alpha=0.1, training=False):\n",
    "    with tf.variable_scope('discriminator', reuse=reuse):\n",
    "        # Fusing states and actions\n",
    "        x_fused = tf.concat(axis=1, values=[prev_actions, states])\n",
    "        #print(x_fused.shape)\n",
    "        \n",
    "        # First fully connected layer\n",
    "        h1 = tf.layers.dense(inputs=x_fused, units=hidden_size)\n",
    "        bn1 = tf.layers.batch_normalization(h1, training=training)        \n",
    "        nl1 = tf.maximum(alpha * bn1, bn1)\n",
    "        #print(h1.shape)\n",
    "        \n",
    "        # Second fully connected layer\n",
    "        h2 = tf.layers.dense(inputs=nl1, units=hidden_size)\n",
    "        bn2 = tf.layers.batch_normalization(h2, training=training)        \n",
    "        nl2 = tf.maximum(alpha * bn2, bn2)\n",
    "        #print(h2.shape)\n",
    "        \n",
    "        # Output layer\n",
    "        logits = tf.layers.dense(inputs=nl2, units=1)\n",
    "        #predictions = tf.nn.softmax(logits)\n",
    "\n",
    "        # return reward logits/Qs\n",
    "        return logits"
   ]
  },
  {
   "cell_type": "code",
   "execution_count": 17,
   "metadata": {},
   "outputs": [],
   "source": [
    "# The model loss for predicted/generated actions\n",
    "def model_loss(prev_actions, states, actions, # model input data for Qs/qs/rs \n",
    "               nextQs, gamma, # model input data for targetQs\n",
    "               state_size, action_size, hidden_size): # model init for Qs\n",
    "    # Calculating Qs total rewards\n",
    "    prev_actions_onehot = tf.one_hot(indices=prev_actions, depth=action_size)\n",
    "    actions_logits, _ = generator(prev_actions=prev_actions_onehot, states=states, \n",
    "                                  hidden_size=hidden_size, state_size=state_size, action_size=action_size)\n",
    "    \n",
    "    # Masking actions_logits unmasked\n",
    "    actions_mask = tf.one_hot(indices=actions, depth=action_size, dtype=actions_logits.dtype)\n",
    "    Qs_masked = tf.multiply(actions_logits, actions_mask)\n",
    "    Qs = tf.reduce_max(Qs_masked, axis=1)\n",
    "    \n",
    "    # Bellman equaion for calculating total rewards using current reward + total future rewards/nextQs\n",
    "    qs = tf.sigmoid(Qs) # qt\n",
    "    targetQs = qs + (gamma * nextQs)\n",
    "    \n",
    "    # Calculating the loss: logits/predictions vs labels\n",
    "    q_loss = tf.reduce_mean(tf.square(Qs - targetQs))\n",
    "\n",
    "    return actions_logits, q_loss"
   ]
  },
  {
   "cell_type": "code",
   "execution_count": 18,
   "metadata": {},
   "outputs": [],
   "source": [
    "# Outputing the unmasked nextQs for D to be used as the target/label\n",
    "def model_output(actions, next_states,\n",
    "                 action_size, hidden_size):\n",
    "    # Discriminator for nextQs_D\n",
    "    actions_onehot = tf.one_hot(indices=actions, depth=action_size)\n",
    "    nextQs_D_unmasked = discriminator(prev_actions=actions_onehot, states=next_states, hidden_size=hidden_size)\n",
    "    \n",
    "    # Returning unmasked nextQs_D to masked using dones/ends of episodes\n",
    "    return nextQs_D_unmasked"
   ]
  },
  {
   "cell_type": "code",
   "execution_count": 19,
   "metadata": {},
   "outputs": [],
   "source": [
    "# The model loss for the NEW idea G & D\n",
    "def model_loss2(nextQs_D, gamma, \n",
    "                prev_actions, states, \n",
    "                action_size, hidden_size):\n",
    "    # Calculating Qs total rewards using Discriminator\n",
    "    prev_actions_onehot = tf.one_hot(indices=prev_actions, depth=action_size)\n",
    "    Qs = discriminator(prev_actions=prev_actions_onehot, states=states, hidden_size=hidden_size, reuse=True)\n",
    "        \n",
    "    # Bellman equaion: Qs = rt/qt + nextQs_G/D\n",
    "    qs = tf.sigmoid(Qs) # qt\n",
    "    targetQs_D = qs + (gamma * nextQs_D)\n",
    "    \n",
    "    # Calculating the loss: logits/predictions vs labels\n",
    "    d_loss = tf.reduce_mean(tf.square(Qs - targetQs_D))\n",
    "    return d_loss"
   ]
  },
  {
   "cell_type": "code",
   "execution_count": 20,
   "metadata": {},
   "outputs": [],
   "source": [
    "# Calculating the loss of generator based on the generated/predicted states and actions\n",
    "def model_loss3(nextQs_D, gamma,\n",
    "                prev_actions, states, dones, \n",
    "                state_size, action_size, hidden_size):\n",
    "    # Generator for nextQs_G\n",
    "    prev_actions_onehot = tf.one_hot(indices=prev_actions, depth=action_size)\n",
    "    actions_logits, next_states_logits = generator(prev_actions=prev_actions_onehot, states=states,\n",
    "                                                   hidden_size=hidden_size, state_size=state_size, \n",
    "                                                   action_size=action_size, reuse=True)\n",
    "    \n",
    "    # Discriminator for nextQs_G\n",
    "    nextQs_G_unmasked = discriminator(prev_actions=actions_logits, states=next_states_logits, \n",
    "                                      hidden_size=hidden_size, reuse=True)\n",
    "    \n",
    "    # Masking the unmasked nextQs_G using dones/end of episodes/goal\n",
    "    dones_mask = tf.reshape(tensor=(1 - tf.cast(dtype=nextQs_G_unmasked.dtype, x=dones)), shape=[-1, 1])\n",
    "    nextQs_G_masked = tf.multiply(nextQs_G_unmasked, dones_mask)\n",
    "    nextQs_G = tf.reduce_max(axis=1, input_tensor=nextQs_G_masked)\n",
    "\n",
    "    # Below is the idea behind this loss\n",
    "    # # Bellman equaion: Qs = rt/qt + nextQs_G/D\n",
    "    # qs = tf.sigmoid(Qs) # qt\n",
    "    # targetQs_G = qs + (gamma * nextQs_G)\n",
    "    # targetQs_D = qs + (gamma * nextQs_D)\n",
    "    # targetQs_G = targetQs_D\n",
    "    # nextQs_G = nextQs_D \n",
    "    # Calculating the loss: logits/predictions vs labels\n",
    "    g_loss = tf.reduce_mean(tf.square(nextQs_G - nextQs_D))\n",
    "    \n",
    "    # Returning g_loss which should impact Generator\n",
    "    return g_loss"
   ]
  },
  {
   "cell_type": "code",
   "execution_count": 21,
   "metadata": {},
   "outputs": [],
   "source": [
    "def model_opt(q_loss, g_loss, d_loss, learning_rate):\n",
    "    \"\"\"\n",
    "    Get optimization operations in order\n",
    "    :param q_loss: Generator loss for action prediction\n",
    "    :param g_loss: Generator loss for state prediction\n",
    "    :param d_loss: Discriminator loss for reward prediction\n",
    "    :param learning_rate: Learning Rate Placeholder\n",
    "    :return: A tuple of (qfunction training, generator training, discriminator training)\n",
    "    \"\"\"\n",
    "    # Get weights and bias to update\n",
    "    t_vars = tf.trainable_variables()\n",
    "    g_vars = [var for var in t_vars if var.name.startswith('generator')]\n",
    "    d_vars = [var for var in t_vars if var.name.startswith('discriminator')]\n",
    "\n",
    "    # Optimize\n",
    "    with tf.control_dependencies(tf.get_collection(tf.GraphKeys.UPDATE_OPS)): # Used for BN (batchnorm params)\n",
    "        q_opt = tf.train.AdamOptimizer(learning_rate).minimize(q_loss, var_list=g_vars) # action prediction\n",
    "        g_opt = tf.train.AdamOptimizer(learning_rate).minimize(g_loss, var_list=g_vars) # state prediction\n",
    "        d_opt = tf.train.AdamOptimizer(learning_rate).minimize(d_loss, var_list=d_vars) # reward prediction\n",
    "\n",
    "    return q_opt, g_opt, d_opt"
   ]
  },
  {
   "cell_type": "code",
   "execution_count": 22,
   "metadata": {},
   "outputs": [],
   "source": [
    "class Model:\n",
    "    def __init__(self, state_size, action_size, hidden_size, learning_rate, gamma):\n",
    "\n",
    "        ####################################### Model data inputs/outputs #######################################\n",
    "        # Input of the Model: make the data available inside the framework\n",
    "        self.prev_actions, self.states, self.actions, self.next_states, self.dones, self.nextQs, self.nextQs_D = model_input(\n",
    "            state_size=state_size)\n",
    "\n",
    "        # Output of the Model\n",
    "        self.nextQs_D_unmasked = model_output(actions=self.actions, next_states=self.next_states,\n",
    "                                              action_size=action_size, hidden_size=hidden_size)\n",
    "        \n",
    "        ######################################## Model losses #####################################################\n",
    "        # Loss of the Model: action prediction/generation\n",
    "        self.actions_logits, self.q_loss = model_loss(\n",
    "            state_size=state_size, action_size=action_size, hidden_size=hidden_size, gamma=gamma, # model init parameters\n",
    "            prev_actions=self.prev_actions, states=self.states, actions=self.actions, nextQs=self.nextQs) # model input data\n",
    "\n",
    "        # Loss of the model: reward prob/logits prediction\n",
    "        self.d_loss = model_loss2(nextQs_D=self.nextQs_D, gamma=gamma,\n",
    "                                  action_size=action_size, hidden_size=hidden_size,\n",
    "                                  prev_actions=self.prev_actions, states=self.states)\n",
    "        \n",
    "        # Loss of the model: states prediction/generation\n",
    "        self.g_loss = model_loss3(nextQs_D=self.nextQs_D, gamma=gamma, dones=self.dones,\n",
    "                                  state_size=state_size, action_size=action_size, hidden_size=hidden_size,\n",
    "                                  prev_actions=self.prev_actions, states=self.states)\n",
    "        \n",
    "        ######################################## Model updates #####################################################\n",
    "        # Update the model: backward pass and backprop\n",
    "        self.q_opt, self.g_opt, self.d_opt = model_opt(q_loss=self.q_loss, \n",
    "                                                       g_loss=self.g_loss, \n",
    "                                                       d_loss=self.d_loss, learning_rate=learning_rate)"
   ]
  },
  {
   "cell_type": "markdown",
   "metadata": {},
   "source": [
    "## Experience replay\n",
    "\n",
    "Reinforcement learning algorithms can have stability issues due to correlations between states. To reduce correlations when training, we can store the agent's experiences and later draw a random mini-batch of those experiences to train on. \n",
    "\n",
    "Here, we'll create a `Memory` object that will store our experiences, our transitions $<s, a, r, s'>$. This memory will have a maxmium capacity, so we can keep newer experiences in memory while getting rid of older experiences. Then, we'll sample a random mini-batch of transitions $<s, a, r, s'>$ and train on those.\n",
    "\n",
    "Below, I've implemented a `Memory` object. If you're unfamiliar with `deque`, this is a double-ended queue. You can think of it like a tube open on both sides. You can put objects in either side of the tube. But if it's full, adding anything more will push an object out the other side. This is a great data structure to use for the memory buffer."
   ]
  },
  {
   "cell_type": "code",
   "execution_count": 23,
   "metadata": {},
   "outputs": [],
   "source": [
    "from collections import deque\n",
    "\n",
    "class Memory():    \n",
    "    def __init__(self, max_size = 1000):\n",
    "        self.buffer = deque(maxlen=max_size)\n",
    "    \n",
    "    def add(self, experience):\n",
    "        self.buffer.append(experience)\n",
    "            \n",
    "    def sample(self, batch_size):\n",
    "        idx = np.random.choice(np.arange(len(self.buffer)), \n",
    "                               size=batch_size, \n",
    "                               replace=False)\n",
    "        return [self.buffer[ii] for ii in idx]"
   ]
  },
  {
   "cell_type": "markdown",
   "metadata": {},
   "source": [
    "## Exploration - Exploitation\n",
    "\n",
    "To learn about the environment and rules of the game, the agent needs to explore by taking random actions. We'll do this by choosing a random action with some probability $\\epsilon$ (epsilon).  That is, with some probability $\\epsilon$ the agent will make a random action and with probability $1 - \\epsilon$, the agent will choose an action from $Q(s,a)$. This is called an **$\\epsilon$-greedy policy**.\n",
    "\n",
    "\n",
    "At first, the agent needs to do a lot of exploring. Later when it has learned more, the agent can favor choosing actions based on what it has learned. This is called _exploitation_. We'll set it up so the agent is more likely to explore early in training, then more likely to exploit later in training."
   ]
  },
  {
   "cell_type": "markdown",
   "metadata": {},
   "source": [
    "## Q-Learning training algorithm\n",
    "\n",
    "Putting all this together, we can list out the algorithm we'll use to train the network. We'll train the network in _episodes_. One *episode* is one simulation of the game. For this game, the goal is to keep the pole upright for 195 frames. So we can start a new episode once meeting that goal. The game ends if the pole tilts over too far, or if the cart moves too far the left or right. When a game ends, we'll start a new episode. Now, to train the agent:\n",
    "\n",
    "* Initialize the memory $D$\n",
    "* Initialize the action-value network $Q$ with random weights\n",
    "* **For** episode = 1, $M$ **do**\n",
    "  * **For** $t$, $T$ **do**\n",
    "     * With probability $\\epsilon$ select a random action $a_t$, otherwise select $a_t = \\mathrm{argmax}_a Q(s,a)$\n",
    "     * Execute action $a_t$ in simulator and observe reward $r_{t+1}$ and new state $s_{t+1}$\n",
    "     * Store transition $<s_t, a_t, r_{t+1}, s_{t+1}>$ in memory $D$\n",
    "     * Sample random mini-batch from $D$: $<s_j, a_j, r_j, s'_j>$\n",
    "     * Set $\\hat{Q}_j = r_j$ if the episode ends at $j+1$, otherwise set $\\hat{Q}_j = r_j + \\gamma \\max_{a'}{Q(s'_j, a')}$\n",
    "     * Make a gradient descent step with loss $(\\hat{Q}_j - Q(s_j, a_j))^2$\n",
    "  * **endfor**\n",
    "* **endfor**"
   ]
  },
  {
   "cell_type": "markdown",
   "metadata": {},
   "source": [
    "## Hyperparameters\n",
    "\n",
    "One of the more difficult aspects of reinforcememt learning are the large number of hyperparameters. Not only are we tuning the network, but we're tuning the simulation."
   ]
  },
  {
   "cell_type": "code",
   "execution_count": 24,
   "metadata": {},
   "outputs": [
    {
     "name": "stdout",
     "output_type": "stream",
     "text": [
      "state size: 4 action size: 2\n"
     ]
    }
   ],
   "source": [
    "print('state size:', np.array(states).shape[1], \n",
    "      'action size: {}'.format((np.max(np.array(actions)) - np.min(np.array(actions)))+1))"
   ]
  },
  {
   "cell_type": "code",
   "execution_count": 25,
   "metadata": {},
   "outputs": [],
   "source": [
    "train_episodes = 2000          # max number of episodes to learn from\n",
    "max_steps = 2000000000000000   # max steps in an episode\n",
    "gamma = 0.99                   # future reward discount\n",
    "\n",
    "# Exploration parameters\n",
    "explore_start = 1.0            # exploration probability at start\n",
    "explore_stop = 0.01            # minimum exploration probability \n",
    "decay_rate = 0.0001            # exponential decay rate for exploration prob\n",
    "\n",
    "# Network parameters\n",
    "state_size = 4                 # number of units for the input state/observation -- simulation\n",
    "hidden_size = 64               # number of units in each Q-network hidden layer -- simulation\n",
    "action_size = 2                # number of units for the output actions -- simulation\n",
    "\n",
    "# Memory parameters\n",
    "memory_size = 100000           # memory capacity\n",
    "batch_size = 200               # experience mini-batch size\n",
    "learning_rate = 0.001          # learning rate for adam"
   ]
  },
  {
   "cell_type": "code",
   "execution_count": 26,
   "metadata": {},
   "outputs": [],
   "source": [
    "# Reset/init the graph/session\n",
    "tf.reset_default_graph()\n",
    "\n",
    "# Init the model\n",
    "model = Model(action_size=action_size, hidden_size=hidden_size, state_size=state_size, learning_rate=learning_rate, \n",
    "             gamma=gamma)\n",
    "\n",
    "# Init the memory\n",
    "memory = Memory(max_size=memory_size)"
   ]
  },
  {
   "cell_type": "markdown",
   "metadata": {},
   "source": [
    "## Populate the experience memory\n",
    "\n",
    "Here I'm re-initializing the simulation and pre-populating the memory. The agent is taking random actions and storing the transitions in memory. This will help the agent with exploring the game."
   ]
  },
  {
   "cell_type": "code",
   "execution_count": 27,
   "metadata": {},
   "outputs": [],
   "source": [
    "# Initialize the simulation\n",
    "env.reset()\n",
    "\n",
    "# Take one random step to get the pole and cart moving\n",
    "prev_action = env.action_space.sample() # At-1\n",
    "state, reward, done, info = env.step(prev_action) # St, Rt/Et (Epiosde)\n",
    "\n",
    "# Make a bunch of random actions and store the experiences\n",
    "for _ in range(batch_size):\n",
    "    # Uncomment the line below to watch the simulation\n",
    "    # env.render()\n",
    "\n",
    "    # Make a random action\n",
    "    action = env.action_space.sample()# At\n",
    "    next_state, reward, done, info = env.step(action) #St+1\n",
    "\n",
    "    # End of the episodes which defines the goal of the episode/mission\n",
    "    if done is True:\n",
    "        \n",
    "        # Print out reward and done and check if they are the same: They are NOT.\n",
    "        #print('if done is true:', reward, done)\n",
    "        \n",
    "        # # the episode ends so no next state\n",
    "        # next_state = np.zeros(state.shape)\n",
    "                \n",
    "        # Add experience to memory\n",
    "        memory.add((prev_action, state, action, next_state, done))\n",
    "        \n",
    "        # Start new episode\n",
    "        env.reset()\n",
    "        \n",
    "        # Take one random step to get the pole and cart moving\n",
    "        prev_action = env.action_space.sample()\n",
    "        state, reward, done, info = env.step(prev_action)\n",
    "    else:\n",
    "        # Print out reward and done and check if they are the same!\n",
    "        #print('else done is false:', reward, done)\n",
    "        \n",
    "        # Add experience to memory\n",
    "        memory.add((prev_action, state, action, next_state, done))\n",
    "        \n",
    "        # Prepare for the next round\n",
    "        prev_action = action\n",
    "        state = next_state"
   ]
  },
  {
   "cell_type": "markdown",
   "metadata": {},
   "source": [
    "## Training\n",
    "\n",
    "Below we'll train our agent. If you want to watch it train, uncomment the `env.render()` line. This is slow because it's rendering the frames slower than the network can train. But, it's cool to watch the agent get better at the game."
   ]
  },
  {
   "cell_type": "code",
   "execution_count": null,
   "metadata": {},
   "outputs": [
    {
     "name": "stdout",
     "output_type": "stream",
     "text": [
      "-------------------------------------------------------------------------------\n",
      "Episode: 0 Total reward: 29.0 Training q_loss: 1.0539 Training g_loss: 0.1093 Training d_loss: 2.2783 Explore P: 0.9971\n",
      "-------------------------------------------------------------------------------\n",
      "-------------------------------------------------------------------------------\n",
      "Episode: 1 Total reward: 16.0 Training q_loss: 1.0575 Training g_loss: 2.2514 Training d_loss: 2.0394 Explore P: 0.9956\n",
      "-------------------------------------------------------------------------------\n",
      "-------------------------------------------------------------------------------\n",
      "Episode: 2 Total reward: 30.0 Training q_loss: 0.9180 Training g_loss: 1.9364 Training d_loss: 7.7009 Explore P: 0.9926\n",
      "-------------------------------------------------------------------------------\n",
      "-------------------------------------------------------------------------------\n",
      "Episode: 3 Total reward: 17.0 Training q_loss: 0.6196 Training g_loss: 2.5091 Training d_loss: 22.6441 Explore P: 0.9909\n",
      "-------------------------------------------------------------------------------\n",
      "-------------------------------------------------------------------------------\n",
      "Episode: 4 Total reward: 16.0 Training q_loss: 0.5878 Training g_loss: 2.6308 Training d_loss: 18.0184 Explore P: 0.9894\n",
      "-------------------------------------------------------------------------------\n",
      "-------------------------------------------------------------------------------\n",
      "Episode: 5 Total reward: 23.0 Training q_loss: 0.5846 Training g_loss: 1.0274 Training d_loss: 12.9517 Explore P: 0.9871\n",
      "-------------------------------------------------------------------------------\n",
      "-------------------------------------------------------------------------------\n",
      "Episode: 6 Total reward: 51.0 Training q_loss: 0.5761 Training g_loss: 1.7149 Training d_loss: 14.0871 Explore P: 0.9821\n",
      "-------------------------------------------------------------------------------\n",
      "-------------------------------------------------------------------------------\n",
      "Episode: 7 Total reward: 15.0 Training q_loss: 0.5771 Training g_loss: 1.1717 Training d_loss: 16.1737 Explore P: 0.9807\n",
      "-------------------------------------------------------------------------------\n",
      "-------------------------------------------------------------------------------\n",
      "Episode: 8 Total reward: 11.0 Training q_loss: 0.5876 Training g_loss: 1.0427 Training d_loss: 14.5717 Explore P: 0.9796\n",
      "-------------------------------------------------------------------------------\n",
      "-------------------------------------------------------------------------------\n",
      "Episode: 9 Total reward: 14.0 Training q_loss: 0.5780 Training g_loss: 1.4028 Training d_loss: 11.0881 Explore P: 0.9783\n",
      "-------------------------------------------------------------------------------\n",
      "-------------------------------------------------------------------------------\n",
      "Episode: 10 Total reward: 13.0 Training q_loss: 0.6065 Training g_loss: 0.9047 Training d_loss: 9.3320 Explore P: 0.9770\n",
      "-------------------------------------------------------------------------------\n",
      "-------------------------------------------------------------------------------\n",
      "Episode: 11 Total reward: 14.0 Training q_loss: 0.5564 Training g_loss: 0.6474 Training d_loss: 10.5089 Explore P: 0.9757\n",
      "-------------------------------------------------------------------------------\n",
      "-------------------------------------------------------------------------------\n",
      "Episode: 12 Total reward: 16.0 Training q_loss: 0.5719 Training g_loss: 0.8128 Training d_loss: 12.5359 Explore P: 0.9741\n",
      "-------------------------------------------------------------------------------\n",
      "-------------------------------------------------------------------------------\n",
      "Episode: 13 Total reward: 15.0 Training q_loss: 0.6325 Training g_loss: 1.0295 Training d_loss: 10.8653 Explore P: 0.9727\n",
      "-------------------------------------------------------------------------------\n",
      "-------------------------------------------------------------------------------\n",
      "Episode: 14 Total reward: 16.0 Training q_loss: 0.5738 Training g_loss: 1.0577 Training d_loss: 7.6943 Explore P: 0.9711\n",
      "-------------------------------------------------------------------------------\n",
      "-------------------------------------------------------------------------------\n",
      "Episode: 15 Total reward: 12.0 Training q_loss: 0.5357 Training g_loss: 0.9998 Training d_loss: 12.9093 Explore P: 0.9700\n",
      "-------------------------------------------------------------------------------\n",
      "-------------------------------------------------------------------------------\n",
      "Episode: 16 Total reward: 25.0 Training q_loss: 0.5206 Training g_loss: 0.8179 Training d_loss: 11.3056 Explore P: 0.9676\n",
      "-------------------------------------------------------------------------------\n",
      "-------------------------------------------------------------------------------\n",
      "Episode: 17 Total reward: 7.0 Training q_loss: 0.5175 Training g_loss: 1.0118 Training d_loss: 10.0657 Explore P: 0.9669\n",
      "-------------------------------------------------------------------------------\n",
      "-------------------------------------------------------------------------------\n",
      "Episode: 18 Total reward: 16.0 Training q_loss: 0.5323 Training g_loss: 1.0017 Training d_loss: 10.6646 Explore P: 0.9654\n",
      "-------------------------------------------------------------------------------\n",
      "-------------------------------------------------------------------------------\n",
      "Episode: 19 Total reward: 11.0 Training q_loss: 0.4882 Training g_loss: 0.3488 Training d_loss: 15.5471 Explore P: 0.9643\n",
      "-------------------------------------------------------------------------------\n",
      "-------------------------------------------------------------------------------\n",
      "Episode: 20 Total reward: 20.0 Training q_loss: 0.4920 Training g_loss: 0.4016 Training d_loss: 9.8834 Explore P: 0.9624\n",
      "-------------------------------------------------------------------------------\n",
      "-------------------------------------------------------------------------------\n",
      "Episode: 21 Total reward: 40.0 Training q_loss: 0.5038 Training g_loss: 0.9895 Training d_loss: 10.6084 Explore P: 0.9586\n",
      "-------------------------------------------------------------------------------\n",
      "-------------------------------------------------------------------------------\n",
      "Episode: 22 Total reward: 17.0 Training q_loss: 0.4945 Training g_loss: 0.7961 Training d_loss: 10.8307 Explore P: 0.9570\n",
      "-------------------------------------------------------------------------------\n",
      "-------------------------------------------------------------------------------\n",
      "Episode: 23 Total reward: 19.0 Training q_loss: 0.4836 Training g_loss: 0.7795 Training d_loss: 14.1939 Explore P: 0.9552\n",
      "-------------------------------------------------------------------------------\n"
     ]
    }
   ],
   "source": [
    "# Now train with experiences\n",
    "saver = tf.train.Saver()\n",
    "\n",
    "# Total rewards and losses list for plotting\n",
    "rewards_list = []\n",
    "q_loss_list = []\n",
    "g_loss_list = []\n",
    "d_loss_list = []\n",
    "\n",
    "# TF session for training\n",
    "with tf.Session() as sess:\n",
    "    \n",
    "    # Initialize variables\n",
    "    sess.run(tf.global_variables_initializer())\n",
    "\n",
    "    # Restore/load the trained model \n",
    "    #saver.restore(sess, 'checkpoints/model.ckpt')    \n",
    "    #saver.restore(sess, tf.train.latest_checkpoint('checkpoints'))\n",
    "    \n",
    "    # Training episodes/epochs\n",
    "    step = 0\n",
    "    for ep in range(train_episodes):\n",
    "        \n",
    "        # Env/agent steps/batches/minibatches\n",
    "        total_reward = 0\n",
    "        q_loss = 0\n",
    "        g_loss = 0\n",
    "        d_loss = 0\n",
    "        t = 0\n",
    "        while t < max_steps:\n",
    "            step += 1\n",
    "            \n",
    "            # Uncomment this next line to watch the training\n",
    "            # env.render() \n",
    "            \n",
    "            # Explore or Exploit\n",
    "            explore_p = explore_stop + (explore_start - explore_stop)*np.exp(-decay_rate*step) \n",
    "            if explore_p > np.random.rand():\n",
    "                # Make a random action\n",
    "                action = env.action_space.sample()\n",
    "            else:\n",
    "                # Get action from model\n",
    "                feed_dict = {model.prev_actions: np.array([prev_action]), \n",
    "                             model.states: state.reshape((1, *state.shape))}\n",
    "                actions_logits = sess.run(model.actions_logits, feed_dict)\n",
    "                action = np.argmax(actions_logits) # arg with max value/Q is the class of action\n",
    "            \n",
    "            # Take action, get new state and reward\n",
    "            next_state, reward, done, info = env.step(action)\n",
    "    \n",
    "            # Cumulative reward\n",
    "            total_reward += reward\n",
    "            \n",
    "            # Episode/epoch training is done/failed!\n",
    "            if done is True:\n",
    "                # the episode ends so no next state\n",
    "                #next_state = np.zeros(state.shape)\n",
    "                t = max_steps\n",
    "                \n",
    "                print('-------------------------------------------------------------------------------')\n",
    "                print('Episode: {}'.format(ep),\n",
    "                      'Total reward: {}'.format(total_reward),\n",
    "                      'Training q_loss: {:.4f}'.format(q_loss),\n",
    "                      'Training g_loss: {:.4f}'.format(g_loss),\n",
    "                      'Training d_loss: {:.4f}'.format(d_loss),\n",
    "                      'Explore P: {:.4f}'.format(explore_p))\n",
    "                print('-------------------------------------------------------------------------------')\n",
    "                \n",
    "                # total rewards and losses for plotting\n",
    "                rewards_list.append((ep, total_reward))\n",
    "                q_loss_list.append((ep, q_loss))\n",
    "                g_loss_list.append((ep, g_loss))\n",
    "                d_loss_list.append((ep, d_loss))\n",
    "                \n",
    "                # Add experience to memory\n",
    "                memory.add((prev_action, state, action, next_state, done))\n",
    "                \n",
    "                # Start new episode\n",
    "                env.reset()\n",
    "                \n",
    "                # Take one random step to get the pole and cart moving\n",
    "                prev_action = env.action_space.sample()\n",
    "                state, reward, done, info = env.step(prev_action)\n",
    "\n",
    "            else:\n",
    "                # Add experience to memory\n",
    "                memory.add((prev_action, state, action, next_state, done))\n",
    "                \n",
    "                # One step forward: At-1=At and St=St+1\n",
    "                prev_action = action\n",
    "                state = next_state\n",
    "                t += 1\n",
    "            \n",
    "            # Sample mini-batch from memory\n",
    "            batch = memory.sample(batch_size)\n",
    "            prev_actions = np.array([each[0] for each in batch])\n",
    "            states = np.array([each[1] for each in batch])\n",
    "            actions = np.array([each[2] for each in batch])\n",
    "            next_states = np.array([each[3] for each in batch])\n",
    "            dones = np.array([each[4] for each in batch])\n",
    "            #print(prev_actions.shape, states.shape, actions.shape, next_states.shape, dones.shape, dones.dtype)\n",
    "            #print(dones[:3])\n",
    "            \n",
    "            # Calculating nextQs and setting them to 0 for states where episode ends/fails\n",
    "            feed_dict={model.prev_actions: actions, \n",
    "                       model.states: next_states}\n",
    "            next_actions_logits = sess.run(model.actions_logits, feed_dict)\n",
    "            \n",
    "            # Masking for the end of episodes/ goals\n",
    "            next_actions_mask = (1 - dones.astype(next_actions_logits.dtype)).reshape(-1, 1) \n",
    "            nextQs_masked = np.multiply(next_actions_logits, next_actions_mask)\n",
    "            nextQs = np.max(nextQs_masked, axis=1)\n",
    "            \n",
    "            # Calculating nextQs for Discriminator using D(At-1, St)= Qt: NOT this one\n",
    "            # Calculating nextQs for Discriminator using D(At, St+1)= Qt+1/nextQs_D/nextQs\n",
    "            # Calculating nextQs for Discriminator using D(~At, ~St+1)= ~Qt+1/nextQs_G/nextQs2\n",
    "            feed_dict={model.prev_actions: prev_actions, model.states: states,\n",
    "                       model.actions: actions, model.next_states: next_states}\n",
    "            nextQs_D_unmasked = sess.run(model.nextQs_D_unmasked, feed_dict)\n",
    "            \n",
    "            # Masking for the end of episodes/ goals\n",
    "            dones_mask = (1 - dones.astype(nextQs_D_unmasked[0].dtype)).reshape(-1, 1)\n",
    "            nextQs_D_masked = np.multiply(nextQs_D_unmasked[0], dones_mask)\n",
    "            nextQs_D = np.max(nextQs_D_masked, axis=1)\n",
    "            \n",
    "            # Calculating nextQs for Discriminator using D(At-1, St)= Qt: NOT this one\n",
    "            # D(At-1, St)= Qs and qs = tf.sigmoid(Qs)\n",
    "            # NextQs/Qt+1 are given both:\n",
    "            # targetQs = qs + gamma * nextQs_G\n",
    "            # targetQs = qs + gamma * nextQs_D\n",
    "            feed_dict = {model.prev_actions: prev_actions, \n",
    "                         model.states: states, \n",
    "                         model.actions: actions, \n",
    "                         model.next_states: next_states, \n",
    "                         model.dones: dones,\n",
    "                         model.nextQs: nextQs,\n",
    "                         model.nextQs_D: nextQs_D}\n",
    "            q_loss, _ = sess.run([model.q_loss, model.q_opt], feed_dict)\n",
    "            d_loss, _ = sess.run([model.d_loss, model.d_opt], feed_dict)\n",
    "            g_loss, _ = sess.run([model.g_loss, model.g_opt], feed_dict)\n",
    "            ################################################################################\n",
    "            ################################################################################\n",
    "                        \n",
    "    # Save the trained model\n",
    "    saver.save(sess, 'checkpoints/model.ckpt')"
   ]
  },
  {
   "cell_type": "markdown",
   "metadata": {},
   "source": [
    "## Visualizing training\n",
    "\n",
    "Below I'll plot the total rewards for each episode. I'm plotting the rolling average too, in blue."
   ]
  },
  {
   "cell_type": "code",
   "execution_count": null,
   "metadata": {},
   "outputs": [],
   "source": [
    "%matplotlib inline\n",
    "import matplotlib.pyplot as plt\n",
    "\n",
    "def running_mean(x, N):\n",
    "    cumsum = np.cumsum(np.insert(x, 0, 0)) \n",
    "    return (cumsum[N:] - cumsum[:-N]) / N"
   ]
  },
  {
   "cell_type": "code",
   "execution_count": null,
   "metadata": {},
   "outputs": [],
   "source": [
    "eps, arr = np.array(rewards_list).T\n",
    "smoothed_arr = running_mean(arr, 10)\n",
    "plt.plot(eps[-len(smoothed_arr):], smoothed_arr)\n",
    "plt.plot(eps, arr, color='grey', alpha=0.3)\n",
    "plt.xlabel('Episode')\n",
    "plt.ylabel('Total rewards')"
   ]
  },
  {
   "cell_type": "code",
   "execution_count": null,
   "metadata": {},
   "outputs": [],
   "source": [
    "eps, arr = np.array(q_loss_list).T\n",
    "smoothed_arr = running_mean(arr, 10)\n",
    "plt.plot(eps[-len(smoothed_arr):], smoothed_arr)\n",
    "plt.plot(eps, arr, color='grey', alpha=0.3)\n",
    "plt.xlabel('Episode')\n",
    "plt.ylabel('Q losses')"
   ]
  },
  {
   "cell_type": "code",
   "execution_count": null,
   "metadata": {},
   "outputs": [],
   "source": [
    "eps, arr = np.array(g_loss_list).T\n",
    "smoothed_arr = running_mean(arr, 10)\n",
    "plt.plot(eps[-len(smoothed_arr):], smoothed_arr)\n",
    "plt.plot(eps, arr, color='grey', alpha=0.3)\n",
    "plt.xlabel('Episode')\n",
    "plt.ylabel('G losses')"
   ]
  },
  {
   "cell_type": "code",
   "execution_count": null,
   "metadata": {},
   "outputs": [],
   "source": [
    "eps, arr = np.array(d_loss_list).T\n",
    "smoothed_arr = running_mean(arr, 10)\n",
    "plt.plot(eps[-len(smoothed_arr):], smoothed_arr)\n",
    "plt.plot(eps, arr, color='grey', alpha=0.3)\n",
    "plt.xlabel('Episode')\n",
    "plt.ylabel('D losses')"
   ]
  },
  {
   "cell_type": "markdown",
   "metadata": {},
   "source": [
    "## Testing\n",
    "\n",
    "Let's checkout how our trained agent plays the game."
   ]
  },
  {
   "cell_type": "code",
   "execution_count": null,
   "metadata": {},
   "outputs": [],
   "source": [
    "test_episodes = 1\n",
    "test_max_steps = 20000000000000000000000000000000000000000000000000000000000000000000000000000000000000000000\n",
    "\n",
    "# # # Create the env after closing it.\n",
    "# env = gym.make('CartPole-v0')\n",
    "# # env = gym.make('Acrobot-v1')\n",
    "env.reset()\n",
    "\n",
    "with tf.Session() as sess:\n",
    "    \n",
    "    # Restore/load the trained model \n",
    "    #saver.restore(sess, 'checkpoints/model.ckpt')    \n",
    "    saver.restore(sess, tf.train.latest_checkpoint('checkpoints'))\n",
    "    \n",
    "    # iterations\n",
    "    for ep in range(test_episodes):\n",
    "        \n",
    "        # number of env/rob steps\n",
    "        t = 0\n",
    "        while t < test_max_steps:\n",
    "            \n",
    "            # Rendering the env graphics\n",
    "            env.render()\n",
    "            \n",
    "            # Get action from the model\n",
    "            feed_dict = {model.prev_actions: np.array([prev_action]), \n",
    "                         model.states: state.reshape((1, *state.shape))}\n",
    "            actions_logits = sess.run(model.actions_logits, feed_dict)\n",
    "            action = np.argmax(actions_logits)\n",
    "            \n",
    "            # Take action, get new state and reward\n",
    "            next_state, reward, done, _ = env.step(action)\n",
    "            \n",
    "            # The task is done or not;\n",
    "            if done:\n",
    "                t = test_max_steps\n",
    "                env.reset()\n",
    "                \n",
    "                # Take one random step to get the pole and cart moving\n",
    "                prev_action = env.action_space.sample()\n",
    "                state, reward, done, _ = env.step(prev_action)\n",
    "            else:\n",
    "                state = next_state\n",
    "                t += 1"
   ]
  },
  {
   "cell_type": "code",
   "execution_count": null,
   "metadata": {},
   "outputs": [],
   "source": [
    "# # Closing the env\n",
    "# # WARNING: If you close, you can NOT restart again!!!!!!\n",
    "# env.close()"
   ]
  },
  {
   "cell_type": "markdown",
   "metadata": {},
   "source": [
    "## Extending this to Deep Convolutional QAN\n",
    "\n",
    "So, Cart-Pole is a pretty simple game. However, the same model can be used to train an agent to play something much more complicated like Pong or Space Invaders. Instead of a state like we're using here though, you'd want to use convolutional layers to get the state from the screen images.\n",
    "\n",
    "![Deep Q-Learning Atari](assets/atari-network.png)\n",
    "\n",
    "I'll leave it as a challenge for you to use deep Q-learning to train an agent to play Atari games. Here's the original paper which will get you started: http://www.davidqiu.com:8888/research/nature14236.pdf."
   ]
  },
  {
   "cell_type": "code",
   "execution_count": null,
   "metadata": {},
   "outputs": [],
   "source": []
  }
 ],
 "metadata": {
  "kernelspec": {
   "display_name": "Python 3",
   "language": "python",
   "name": "python3"
  },
  "language_info": {
   "codemirror_mode": {
    "name": "ipython",
    "version": 3
   },
   "file_extension": ".py",
   "mimetype": "text/x-python",
   "name": "python",
   "nbconvert_exporter": "python",
   "pygments_lexer": "ipython3",
   "version": "3.6.5"
  }
 },
 "nbformat": 4,
 "nbformat_minor": 2
}
