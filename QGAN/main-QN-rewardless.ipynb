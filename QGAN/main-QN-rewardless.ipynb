{
 "cells": [
  {
   "cell_type": "markdown",
   "metadata": {},
   "source": [
    "\n",
    "# Q learning (Q-Net)\n",
    "\n",
    "More specifically, we'll use Q-GAN to train an agent to play a game called [Cart-Pole](https://gym.openai.com/envs/CartPole-v0). In this game, a freely swinging pole is attached to a cart. The cart can move to the left and right, and the goal is to keep the pole upright as long as possible.\n",
    "\n",
    "![Cart-Pole](assets/cart-pole.jpg)\n",
    "\n",
    "We can simulate this game using [OpenAI Gym](https://gym.openai.com/). First, let's check out how OpenAI Gym works. Then, we'll get into training an agent to play the Cart-Pole game."
   ]
  },
  {
   "cell_type": "code",
   "execution_count": 48,
   "metadata": {},
   "outputs": [],
   "source": [
    "import numpy as np"
   ]
  },
  {
   "cell_type": "code",
   "execution_count": 49,
   "metadata": {},
   "outputs": [
    {
     "name": "stdout",
     "output_type": "stream",
     "text": [
      "TensorFlow Version: 1.8.0\n",
      "Default GPU Device: /device:GPU:0\n"
     ]
    }
   ],
   "source": [
    "# In this one we should define and detect GPUs for tensorflow\n",
    "# GPUs or CPU\n",
    "import tensorflow as tf\n",
    "\n",
    "# Check TensorFlow Version\n",
    "print('TensorFlow Version: {}'.format(tf.__version__))\n",
    "\n",
    "# Check for a GPU\n",
    "print('Default GPU Device: {}'.format(tf.test.gpu_device_name()))"
   ]
  },
  {
   "cell_type": "markdown",
   "metadata": {},
   "source": [
    ">**Note:** Make sure you have OpenAI Gym cloned. Then run this command 'pip install -e gym/[all]'."
   ]
  },
  {
   "cell_type": "code",
   "execution_count": 50,
   "metadata": {},
   "outputs": [
    {
     "name": "stdout",
     "output_type": "stream",
     "text": [
      "\u001b[33mWARN: gym.spaces.Box autodetected dtype as <class 'numpy.float32'>. Please provide explicit dtype.\u001b[0m\n"
     ]
    },
    {
     "name": "stderr",
     "output_type": "stream",
     "text": [
      "/home/arasdar/anaconda3/envs/env/lib/python3.6/site-packages/gym/__init__.py:22: UserWarning: DEPRECATION WARNING: to improve load times, gym no longer automatically loads gym.spaces. Please run \"import gym.spaces\" to load gym.spaces on your own. This warning will turn into an error in a future version of gym.\n",
      "  warnings.warn('DEPRECATION WARNING: to improve load times, gym no longer automatically loads gym.spaces. Please run \"import gym.spaces\" to load gym.spaces on your own. This warning will turn into an error in a future version of gym.')\n"
     ]
    }
   ],
   "source": [
    "import gym\n",
    "# Create the Cart-Pole game environment\n",
    "env = gym.make('CartPole-v0')\n",
    "# env = gym.make('CartPole-v1')\n",
    "# env = gym.make('Acrobot-v1')\n",
    "# env = gym.make('MountainCar-v0')\n",
    "# env = gym.make('Pendulum-v0')\n",
    "# env = gym.make('Blackjack-v0')\n",
    "# env = gym.make('FrozenLake-v0')\n",
    "# env = gym.make('AirRaid-ram-v0')\n",
    "# env = gym.make('AirRaid-v0')\n",
    "# env = gym.make('BipedalWalker-v2')\n",
    "# env = gym.make('Copy-v0')\n",
    "# env = gym.make('CarRacing-v0')\n",
    "# env = gym.make('Ant-v2') #mujoco\n",
    "# env = gym.make('FetchPickAndPlace-v1') # mujoco required!"
   ]
  },
  {
   "cell_type": "markdown",
   "metadata": {},
   "source": [
    "We interact with the simulation through `env`. To show the simulation running, you can use `env.render()` to render one frame. Passing in an action as an integer to `env.step` will generate the next step in the simulation.  You can see how many actions are possible from `env.action_space` and to get a random action you can use `env.action_space.sample()`. This is general to all Gym games. In the Cart-Pole game, there are two possible actions, moving the cart left or right. So there are two actions we can take, encoded as 0 and 1.\n",
    "\n",
    "Run the code below to watch the simulation run."
   ]
  },
  {
   "cell_type": "code",
   "execution_count": 51,
   "metadata": {},
   "outputs": [],
   "source": [
    "env.reset()\n",
    "rewards, states, actions, dones = [], [], [], []\n",
    "for _ in range(10):\n",
    "    #env.render()\n",
    "    action = env.action_space.sample()\n",
    "    state, reward, done, info = env.step(action) # take a random action\n",
    "    states.append(state)\n",
    "    rewards.append(reward)\n",
    "    actions.append(action)\n",
    "    dones.append(done)\n",
    "    #     print('state, action, reward, done, info')\n",
    "    #     print(state, action, reward, done, info)\n",
    "    if done:\n",
    "    #         print('state, action, reward, done, info')\n",
    "    #         print(state, action, reward, done, info)\n",
    "        states.append(state)\n",
    "        rewards.append(reward)\n",
    "        actions.append(action)\n",
    "        dones.append(done)"
   ]
  },
  {
   "cell_type": "markdown",
   "metadata": {},
   "source": [
    "To shut the window showing the simulation, use `env.close()`."
   ]
  },
  {
   "cell_type": "markdown",
   "metadata": {},
   "source": [
    "If you ran the simulation above, we can look at the rewards:"
   ]
  },
  {
   "cell_type": "code",
   "execution_count": 52,
   "metadata": {},
   "outputs": [
    {
     "name": "stdout",
     "output_type": "stream",
     "text": [
      "[1.0, 1.0, 1.0, 1.0, 1.0, 1.0, 1.0, 1.0, 1.0, 1.0]\n",
      "(10,) (10, 4) (10,) (10,)\n",
      "float64 float64 int64 bool\n",
      "actions: 1 0\n",
      "rewards min and max: 1.0 1.0\n",
      "state size: (10, 4) action size: 2\n"
     ]
    }
   ],
   "source": [
    "print(rewards[-20:])\n",
    "print(np.array(rewards).shape, np.array(states).shape, np.array(actions).shape, np.array(dones).shape)\n",
    "print(np.array(rewards).dtype, np.array(states).dtype, np.array(actions).dtype, np.array(dones).dtype)\n",
    "print('actions:', np.max(np.array(actions)), np.min(np.array(actions)))\n",
    "print('rewards min and max:', np.max(np.array(rewards)), np.min(np.array(rewards)))\n",
    "print('state size:', np.array(states).shape, \n",
    "      'action size: {}'.format((np.max(np.array(actions)) - np.min(np.array(actions)))+1))"
   ]
  },
  {
   "cell_type": "markdown",
   "metadata": {},
   "source": [
    "The game resets after the pole has fallen past a certain angle. For each frame while the simulation is running, it returns a reward of 1.0. The longer the game runs, the more reward we get. Then, our network's goal is to maximize the reward by keeping the pole vertical. It will do this by moving the cart to the left and the right."
   ]
  },
  {
   "cell_type": "code",
   "execution_count": 53,
   "metadata": {},
   "outputs": [],
   "source": [
    "# Data of the model\n",
    "def model_input(state_size):\n",
    "    # Current states given\n",
    "    states = tf.placeholder(tf.float32, [None, state_size], name='states')\n",
    "    \n",
    "    # Current actions given\n",
    "    actions = tf.placeholder(tf.int32, [None], name='actions')\n",
    "\n",
    "    # Qs = qs+ (gamma * nextQs)/values/logits\n",
    "    nextQs = tf.placeholder(tf.float32, [None], name='nextQs')\n",
    "    \n",
    "    # returning the given data to the model\n",
    "    return states, actions, nextQs"
   ]
  },
  {
   "cell_type": "code",
   "execution_count": 54,
   "metadata": {},
   "outputs": [],
   "source": [
    "# Q: Qfunction/Encoder/Classifier\n",
    "def qfunction(states, action_size, hidden_size, reuse=False, alpha=0.1, training=False):\n",
    "    with tf.variable_scope('qfunction', reuse=reuse):        \n",
    "        # First fully connected layer\n",
    "        h1 = tf.layers.dense(inputs=states, units=hidden_size)\n",
    "        bn1 = tf.layers.batch_normalization(h1, training=training)        \n",
    "        nl1 = tf.maximum(alpha * bn1, bn1)\n",
    "        \n",
    "        # Second fully connected layer\n",
    "        h2 = tf.layers.dense(inputs=nl1, units=hidden_size)\n",
    "        bn2 = tf.layers.batch_normalization(h2, training=training)        \n",
    "        nl2 = tf.maximum(alpha * bn2, bn2)\n",
    "        \n",
    "        # Output layer\n",
    "        logits = tf.layers.dense(inputs=nl2, units=action_size)        \n",
    "        #predictions = tf.nn.softmax(logits)\n",
    "\n",
    "        # return actions logits\n",
    "        return logits"
   ]
  },
  {
   "cell_type": "code",
   "execution_count": 55,
   "metadata": {},
   "outputs": [],
   "source": [
    "def model_loss(states,  actions, nextQs, gamma, # model input data \n",
    "               action_size, hidden_size): # model init\n",
    "    # Calculating Qs total rewards\n",
    "    actions_logits = qfunction(states=states, hidden_size=hidden_size, action_size=action_size)\n",
    "    actions_mask = tf.one_hot(indices=actions, depth=action_size, dtype=actions_logits.dtype)\n",
    "    Qs_masked = tf.multiply(actions_logits, actions_mask)\n",
    "    Qs = tf.reduce_max(Qs_masked, axis=1)\n",
    "    \n",
    "    # Current reward or Rt/rt\n",
    "    # Calculating rewards/Rs as prob/sigmoid of Qs, i.e. between 0-1\n",
    "    qs = tf.sigmoid(Qs) # qt\n",
    "    \n",
    "    # Bellman equaion for calculating total rewards using current reward + total future rewards/nextQs\n",
    "    #targetQs = qs + (0.99 * nextQs)\n",
    "    targetQs = qs + (gamma * nextQs)\n",
    "    \n",
    "    # Calculating the loss: logits/predictions vs labels\n",
    "    q_loss = tf.reduce_mean(tf.square(Qs - targetQs))\n",
    "\n",
    "    return actions_logits, q_loss, qs, Qs"
   ]
  },
  {
   "cell_type": "code",
   "execution_count": 56,
   "metadata": {},
   "outputs": [],
   "source": [
    "def model_opt(q_loss, learning_rate):\n",
    "    \"\"\"\n",
    "    Get optimization operations in order\n",
    "    :param q_loss: Qfunction/Value loss Tensor for next action prediction\n",
    "    :param learning_rate: Learning Rate Placeholder\n",
    "    :return: A tuple of (qfunction training, generator training, discriminator training)\n",
    "    \"\"\"\n",
    "    # Get weights and bias to update\n",
    "    t_vars = tf.trainable_variables()\n",
    "    q_vars = [var for var in t_vars if var.name.startswith('qfunction')] # Q: action At/at\n",
    "\n",
    "    # Optimize\n",
    "    with tf.control_dependencies(tf.get_collection(tf.GraphKeys.UPDATE_OPS)):\n",
    "        q_opt = tf.train.AdamOptimizer(learning_rate).minimize(q_loss, var_list=q_vars)\n",
    "\n",
    "    return q_opt"
   ]
  },
  {
   "cell_type": "code",
   "execution_count": 57,
   "metadata": {},
   "outputs": [],
   "source": [
    "class QGAN:\n",
    "    def __init__(self, state_size, action_size, hidden_size, learning_rate, gamma):\n",
    "\n",
    "        # Data of the Model: make the data available inside the framework\n",
    "        self.states, self.actions, self.nextQs = model_input(state_size=state_size)\n",
    "\n",
    "        # Create the Model: calculating the loss and forwad pass\n",
    "        self.actions_logits, self.q_loss, self.qs, self.Qs = model_loss(\n",
    "            action_size=action_size, hidden_size=hidden_size, gamma=gamma, # model init parameters\n",
    "            states=self.states, actions=self.actions, nextQs=self.nextQs) # model input data\n",
    "\n",
    "        # Update the model: backward pass and backprop\n",
    "        self.q_opt = model_opt(q_loss=self.q_loss, learning_rate=learning_rate)"
   ]
  },
  {
   "cell_type": "markdown",
   "metadata": {},
   "source": [
    "## Experience replay\n",
    "\n",
    "Reinforcement learning algorithms can have stability issues due to correlations between states. To reduce correlations when training, we can store the agent's experiences and later draw a random mini-batch of those experiences to train on. \n",
    "\n",
    "Here, we'll create a `Memory` object that will store our experiences, our transitions $<s, a, r, s'>$. This memory will have a maxmium capacity, so we can keep newer experiences in memory while getting rid of older experiences. Then, we'll sample a random mini-batch of transitions $<s, a, r, s'>$ and train on those.\n",
    "\n",
    "Below, I've implemented a `Memory` object. If you're unfamiliar with `deque`, this is a double-ended queue. You can think of it like a tube open on both sides. You can put objects in either side of the tube. But if it's full, adding anything more will push an object out the other side. This is a great data structure to use for the memory buffer."
   ]
  },
  {
   "cell_type": "code",
   "execution_count": 58,
   "metadata": {},
   "outputs": [],
   "source": [
    "from collections import deque\n",
    "\n",
    "class Memory():    \n",
    "    def __init__(self, max_size = 1000):\n",
    "        self.buffer = deque(maxlen=max_size)\n",
    "    \n",
    "    def add(self, experience):\n",
    "        self.buffer.append(experience)\n",
    "            \n",
    "    def sample(self, batch_size):\n",
    "        idx = np.random.choice(np.arange(len(self.buffer)), \n",
    "                               size=batch_size, \n",
    "                               replace=False)\n",
    "        return [self.buffer[ii] for ii in idx]"
   ]
  },
  {
   "cell_type": "markdown",
   "metadata": {},
   "source": [
    "## Exploration - Exploitation\n",
    "\n",
    "To learn about the environment and rules of the game, the agent needs to explore by taking random actions. We'll do this by choosing a random action with some probability $\\epsilon$ (epsilon).  That is, with some probability $\\epsilon$ the agent will make a random action and with probability $1 - \\epsilon$, the agent will choose an action from $Q(s,a)$. This is called an **$\\epsilon$-greedy policy**.\n",
    "\n",
    "\n",
    "At first, the agent needs to do a lot of exploring. Later when it has learned more, the agent can favor choosing actions based on what it has learned. This is called _exploitation_. We'll set it up so the agent is more likely to explore early in training, then more likely to exploit later in training."
   ]
  },
  {
   "cell_type": "markdown",
   "metadata": {},
   "source": [
    "## Q-Learning training algorithm\n",
    "\n",
    "Putting all this together, we can list out the algorithm we'll use to train the network. We'll train the network in _episodes_. One *episode* is one simulation of the game. For this game, the goal is to keep the pole upright for 195 frames. So we can start a new episode once meeting that goal. The game ends if the pole tilts over too far, or if the cart moves too far the left or right. When a game ends, we'll start a new episode. Now, to train the agent:\n",
    "\n",
    "* Initialize the memory $D$\n",
    "* Initialize the action-value network $Q$ with random weights\n",
    "* **For** episode = 1, $M$ **do**\n",
    "  * **For** $t$, $T$ **do**\n",
    "     * With probability $\\epsilon$ select a random action $a_t$, otherwise select $a_t = \\mathrm{argmax}_a Q(s,a)$\n",
    "     * Execute action $a_t$ in simulator and observe reward $r_{t+1}$ and new state $s_{t+1}$\n",
    "     * Store transition $<s_t, a_t, r_{t+1}, s_{t+1}>$ in memory $D$\n",
    "     * Sample random mini-batch from $D$: $<s_j, a_j, r_j, s'_j>$\n",
    "     * Set $\\hat{Q}_j = r_j$ if the episode ends at $j+1$, otherwise set $\\hat{Q}_j = r_j + \\gamma \\max_{a'}{Q(s'_j, a')}$\n",
    "     * Make a gradient descent step with loss $(\\hat{Q}_j - Q(s_j, a_j))^2$\n",
    "  * **endfor**\n",
    "* **endfor**"
   ]
  },
  {
   "cell_type": "markdown",
   "metadata": {},
   "source": [
    "## Hyperparameters\n",
    "\n",
    "One of the more difficult aspects of reinforcememt learning are the large number of hyperparameters. Not only are we tuning the network, but we're tuning the simulation."
   ]
  },
  {
   "cell_type": "code",
   "execution_count": 59,
   "metadata": {},
   "outputs": [
    {
     "name": "stdout",
     "output_type": "stream",
     "text": [
      "state size: 4 action size: 2\n"
     ]
    }
   ],
   "source": [
    "print('state size:', np.array(states).shape[1], \n",
    "      'action size: {}'.format((np.max(np.array(actions)) - np.min(np.array(actions)))+1))"
   ]
  },
  {
   "cell_type": "code",
   "execution_count": 60,
   "metadata": {},
   "outputs": [],
   "source": [
    "train_episodes = 250           # max number of episodes to learn from\n",
    "max_steps = 2000000000000000   # max steps in an episode\n",
    "gamma = 0.99                   # future reward discount\n",
    "\n",
    "# Exploration parameters\n",
    "explore_start = 1.0            # exploration probability at start\n",
    "explore_stop = 0.01            # minimum exploration probability \n",
    "decay_rate = 0.0001            # exponential decay rate for exploration prob\n",
    "\n",
    "# Network parameters\n",
    "state_size = 4                 # number of units for the input state/observation -- simulation\n",
    "hidden_size = 64               # number of units in each Q-network hidden layer -- simulation\n",
    "action_size = 2                # number of units for the output actions -- simulation\n",
    "\n",
    "# Memory parameters\n",
    "memory_size = 100000           # memory capacity\n",
    "batch_size = 200               # experience mini-batch size\n",
    "learning_rate = 0.001          # learning rate for adam"
   ]
  },
  {
   "cell_type": "code",
   "execution_count": 61,
   "metadata": {},
   "outputs": [],
   "source": [
    "tf.reset_default_graph()\n",
    "\n",
    "model = QGAN(action_size=action_size, hidden_size=hidden_size, state_size=state_size, learning_rate=learning_rate, \n",
    "             gamma=gamma)"
   ]
  },
  {
   "cell_type": "markdown",
   "metadata": {},
   "source": [
    "## Populate the experience memory\n",
    "\n",
    "Here I'm re-initializing the simulation and pre-populating the memory. The agent is taking random actions and storing the transitions in memory. This will help the agent with exploring the game."
   ]
  },
  {
   "cell_type": "code",
   "execution_count": 62,
   "metadata": {},
   "outputs": [],
   "source": [
    "# Initialize the simulation\n",
    "env.reset()\n",
    "\n",
    "# Take one random step to get the pole and cart moving\n",
    "state, reward, done, _ = env.step(env.action_space.sample())\n",
    "\n",
    "# init memory\n",
    "memory = Memory(max_size=memory_size)\n",
    "\n",
    "# Make a bunch of random actions and store the experiences\n",
    "for _ in range(batch_size):\n",
    "    # Uncomment the line below to watch the simulation\n",
    "    # env.render()\n",
    "\n",
    "    # Make a random action\n",
    "    action = env.action_space.sample()\n",
    "    next_state, reward, done, _ = env.step(action)\n",
    "\n",
    "    if done:\n",
    "        # The simulation fails so no next state\n",
    "        next_state = np.zeros(state.shape)\n",
    "        \n",
    "        # Add experience to memory\n",
    "        memory.add((state, action, reward, next_state))\n",
    "        \n",
    "        # Start new episode\n",
    "        env.reset()\n",
    "        \n",
    "        # Take one random step to get the pole and cart moving\n",
    "        state, reward, done, _ = env.step(env.action_space.sample())\n",
    "    else:\n",
    "        # Add experience to memory\n",
    "        memory.add((state, action, reward, next_state))\n",
    "        state = next_state"
   ]
  },
  {
   "cell_type": "markdown",
   "metadata": {},
   "source": [
    "## Training\n",
    "\n",
    "Below we'll train our agent. If you want to watch it train, uncomment the `env.render()` line. This is slow because it's rendering the frames slower than the network can train. But, it's cool to watch the agent get better at the game."
   ]
  },
  {
   "cell_type": "code",
   "execution_count": 63,
   "metadata": {},
   "outputs": [
    {
     "name": "stdout",
     "output_type": "stream",
     "text": [
      "-------------------------------------------------------------------------------\n",
      "Episode: 0 Total reward: 10.0 Training mean qs: 0.5478 Training std qs: 0.0623 Training mean Qs: 0.1964 Training std Qs: 0.2598 Training mean nextQs: 0.3907 Training std nextQs: 0.2211 Training q_loss: 0.6218 Explore P: 0.9990\n",
      "-------------------------------------------------------------------------------\n",
      "-------------------------------------------------------------------------------\n",
      "Episode: 1 Total reward: 8.0 Training mean qs: 0.5939 Training std qs: 0.0866 Training mean Qs: 0.3987 Training std Qs: 0.3896 Training mean nextQs: 0.6586 Training std nextQs: 0.3583 Training q_loss: 0.8780 Explore P: 0.9982\n",
      "-------------------------------------------------------------------------------\n",
      "-------------------------------------------------------------------------------\n",
      "Episode: 2 Total reward: 20.0 Training mean qs: 0.7640 Training std qs: 0.1065 Training mean Qs: 1.2792 Training std Qs: 0.6412 Training mean nextQs: 1.4133 Training std nextQs: 0.6909 Training q_loss: 0.9882 Explore P: 0.9962\n",
      "-------------------------------------------------------------------------------\n",
      "-------------------------------------------------------------------------------\n",
      "Episode: 3 Total reward: 26.0 Training mean qs: 0.9626 Training std qs: 0.0578 Training mean Qs: 4.8322 Training std Qs: 2.2412 Training mean nextQs: 5.3294 Training std nextQs: 2.6575 Training q_loss: 4.1993 Explore P: 0.9937\n",
      "-------------------------------------------------------------------------------\n",
      "-------------------------------------------------------------------------------\n",
      "Episode: 4 Total reward: 31.0 Training mean qs: 0.9989 Training std qs: 0.0052 Training mean Qs: 17.2271 Training std Qs: 7.8278 Training mean nextQs: 18.3974 Training std nextQs: 9.4290 Training q_loss: 43.9188 Explore P: 0.9906\n",
      "-------------------------------------------------------------------------------\n",
      "-------------------------------------------------------------------------------\n",
      "Episode: 5 Total reward: 41.0 Training mean qs: 1.0000 Training std qs: 0.0000 Training mean Qs: 64.0282 Training std Qs: 26.3686 Training mean nextQs: 68.4588 Training std nextQs: 31.7378 Training q_loss: 466.8256 Explore P: 0.9866\n",
      "-------------------------------------------------------------------------------\n",
      "-------------------------------------------------------------------------------\n",
      "Episode: 6 Total reward: 15.0 Training mean qs: 1.0000 Training std qs: 0.0000 Training mean Qs: 91.3911 Training std Qs: 33.3348 Training mean nextQs: 96.9552 Training std nextQs: 41.6979 Training q_loss: 701.4662 Explore P: 0.9852\n",
      "-------------------------------------------------------------------------------\n",
      "-------------------------------------------------------------------------------\n",
      "Episode: 7 Total reward: 30.0 Training mean qs: 1.0000 Training std qs: 0.0000 Training mean Qs: 168.7216 Training std Qs: 45.1002 Training mean nextQs: 175.5626 Training std nextQs: 59.8136 Training q_loss: 1792.7781 Explore P: 0.9822\n",
      "-------------------------------------------------------------------------------\n",
      "-------------------------------------------------------------------------------\n",
      "Episode: 8 Total reward: 12.0 Training mean qs: 1.0000 Training std qs: 0.0000 Training mean Qs: 205.9464 Training std Qs: 40.6705 Training mean nextQs: 206.1860 Training std nextQs: 67.2210 Training q_loss: 3295.3311 Explore P: 0.9811\n",
      "-------------------------------------------------------------------------------\n",
      "-------------------------------------------------------------------------------\n",
      "Episode: 9 Total reward: 37.0 Training mean qs: 1.0000 Training std qs: 0.0000 Training mean Qs: 154.0925 Training std Qs: 17.0043 Training mean nextQs: 151.6417 Training std nextQs: 27.8513 Training q_loss: 298.1812 Explore P: 0.9775\n",
      "-------------------------------------------------------------------------------\n",
      "-------------------------------------------------------------------------------\n",
      "Episode: 10 Total reward: 11.0 Training mean qs: 1.0000 Training std qs: 0.0000 Training mean Qs: 125.0427 Training std Qs: 19.8114 Training mean nextQs: 121.8654 Training std nextQs: 31.2470 Training q_loss: 523.1066 Explore P: 0.9764\n",
      "-------------------------------------------------------------------------------\n",
      "-------------------------------------------------------------------------------\n",
      "Episode: 11 Total reward: 16.0 Training mean qs: 1.0000 Training std qs: 0.0000 Training mean Qs: 103.7093 Training std Qs: 22.9906 Training mean nextQs: 103.2436 Training std nextQs: 31.5546 Training q_loss: 347.7602 Explore P: 0.9749\n",
      "-------------------------------------------------------------------------------\n",
      "-------------------------------------------------------------------------------\n",
      "Episode: 12 Total reward: 44.0 Training mean qs: 1.0000 Training std qs: 0.0000 Training mean Qs: 109.4339 Training std Qs: 24.8146 Training mean nextQs: 111.5289 Training std nextQs: 34.0889 Training q_loss: 290.9998 Explore P: 0.9706\n",
      "-------------------------------------------------------------------------------\n",
      "-------------------------------------------------------------------------------\n",
      "Episode: 13 Total reward: 10.0 Training mean qs: 1.0000 Training std qs: 0.0000 Training mean Qs: 112.1438 Training std Qs: 27.1740 Training mean nextQs: 112.9363 Training std nextQs: 36.8713 Training q_loss: 491.4657 Explore P: 0.9697\n",
      "-------------------------------------------------------------------------------\n",
      "-------------------------------------------------------------------------------\n",
      "Episode: 14 Total reward: 21.0 Training mean qs: 1.0000 Training std qs: 0.0000 Training mean Qs: 121.5256 Training std Qs: 29.7098 Training mean nextQs: 120.6892 Training std nextQs: 40.9480 Training q_loss: 800.0099 Explore P: 0.9677\n",
      "-------------------------------------------------------------------------------\n",
      "-------------------------------------------------------------------------------\n",
      "Episode: 15 Total reward: 21.0 Training mean qs: 1.0000 Training std qs: 0.0000 Training mean Qs: 128.8837 Training std Qs: 29.6523 Training mean nextQs: 128.5500 Training std nextQs: 40.9643 Training q_loss: 661.7668 Explore P: 0.9657\n",
      "-------------------------------------------------------------------------------\n",
      "-------------------------------------------------------------------------------\n",
      "Episode: 16 Total reward: 15.0 Training mean qs: 1.0000 Training std qs: 0.0000 Training mean Qs: 124.4818 Training std Qs: 30.7555 Training mean nextQs: 124.8152 Training std nextQs: 38.6819 Training q_loss: 510.5461 Explore P: 0.9642\n",
      "-------------------------------------------------------------------------------\n",
      "-------------------------------------------------------------------------------\n",
      "Episode: 17 Total reward: 29.0 Training mean qs: 1.0000 Training std qs: 0.0000 Training mean Qs: 124.3791 Training std Qs: 32.1643 Training mean nextQs: 122.6448 Training std nextQs: 42.9214 Training q_loss: 559.5382 Explore P: 0.9615\n",
      "-------------------------------------------------------------------------------\n",
      "-------------------------------------------------------------------------------\n",
      "Episode: 18 Total reward: 30.0 Training mean qs: 1.0000 Training std qs: 0.0000 Training mean Qs: 111.7690 Training std Qs: 25.0669 Training mean nextQs: 111.2716 Training std nextQs: 29.9211 Training q_loss: 337.1369 Explore P: 0.9586\n",
      "-------------------------------------------------------------------------------\n",
      "-------------------------------------------------------------------------------\n",
      "Episode: 19 Total reward: 17.0 Training mean qs: 1.0000 Training std qs: 0.0000 Training mean Qs: 103.2864 Training std Qs: 24.6830 Training mean nextQs: 101.4766 Training std nextQs: 30.5418 Training q_loss: 335.2212 Explore P: 0.9570\n",
      "-------------------------------------------------------------------------------\n",
      "-------------------------------------------------------------------------------\n",
      "Episode: 20 Total reward: 10.0 Training mean qs: 1.0000 Training std qs: 0.0000 Training mean Qs: 102.2978 Training std Qs: 23.4125 Training mean nextQs: 98.9252 Training std nextQs: 32.6460 Training q_loss: 388.7914 Explore P: 0.9561\n",
      "-------------------------------------------------------------------------------\n"
     ]
    },
    {
     "name": "stdout",
     "output_type": "stream",
     "text": [
      "-------------------------------------------------------------------------------\n",
      "Episode: 21 Total reward: 28.0 Training mean qs: 0.9950 Training std qs: 0.0497 Training mean Qs: 82.8041 Training std Qs: 23.9164 Training mean nextQs: 82.5205 Training std nextQs: 26.9301 Training q_loss: 120.9774 Explore P: 0.9534\n",
      "-------------------------------------------------------------------------------\n",
      "-------------------------------------------------------------------------------\n",
      "Episode: 22 Total reward: 16.0 Training mean qs: 0.9997 Training std qs: 0.0036 Training mean Qs: 76.8622 Training std Qs: 20.9616 Training mean nextQs: 75.3421 Training std nextQs: 24.6153 Training q_loss: 224.2098 Explore P: 0.9519\n",
      "-------------------------------------------------------------------------------\n",
      "-------------------------------------------------------------------------------\n",
      "Episode: 23 Total reward: 17.0 Training mean qs: 1.0000 Training std qs: 0.0000 Training mean Qs: 76.5179 Training std Qs: 17.5234 Training mean nextQs: 76.3171 Training std nextQs: 21.1450 Training q_loss: 133.5459 Explore P: 0.9503\n",
      "-------------------------------------------------------------------------------\n",
      "-------------------------------------------------------------------------------\n",
      "Episode: 24 Total reward: 31.0 Training mean qs: 0.9999 Training std qs: 0.0007 Training mean Qs: 67.8485 Training std Qs: 18.8308 Training mean nextQs: 66.4272 Training std nextQs: 23.0558 Training q_loss: 200.1429 Explore P: 0.9474\n",
      "-------------------------------------------------------------------------------\n",
      "-------------------------------------------------------------------------------\n",
      "Episode: 25 Total reward: 13.0 Training mean qs: 0.9975 Training std qs: 0.0353 Training mean Qs: 63.8143 Training std Qs: 18.0140 Training mean nextQs: 61.1051 Training std nextQs: 23.7311 Training q_loss: 217.5651 Explore P: 0.9462\n",
      "-------------------------------------------------------------------------------\n",
      "-------------------------------------------------------------------------------\n",
      "Episode: 26 Total reward: 8.0 Training mean qs: 0.9950 Training std qs: 0.0497 Training mean Qs: 63.2488 Training std Qs: 18.9960 Training mean nextQs: 61.9076 Training std nextQs: 22.9978 Training q_loss: 163.6233 Explore P: 0.9454\n",
      "-------------------------------------------------------------------------------\n",
      "-------------------------------------------------------------------------------\n",
      "Episode: 27 Total reward: 19.0 Training mean qs: 0.9985 Training std qs: 0.0208 Training mean Qs: 58.2074 Training std Qs: 17.3463 Training mean nextQs: 56.0059 Training std nextQs: 21.7645 Training q_loss: 201.0661 Explore P: 0.9437\n",
      "-------------------------------------------------------------------------------\n",
      "-------------------------------------------------------------------------------\n",
      "Episode: 28 Total reward: 28.0 Training mean qs: 0.9944 Training std qs: 0.0505 Training mean Qs: 57.3241 Training std Qs: 17.5632 Training mean nextQs: 55.9568 Training std nextQs: 21.5237 Training q_loss: 122.7048 Explore P: 0.9410\n",
      "-------------------------------------------------------------------------------\n",
      "-------------------------------------------------------------------------------\n",
      "Episode: 29 Total reward: 33.0 Training mean qs: 1.0000 Training std qs: 0.0000 Training mean Qs: 55.6835 Training std Qs: 16.9289 Training mean nextQs: 54.9402 Training std nextQs: 19.9553 Training q_loss: 102.7929 Explore P: 0.9380\n",
      "-------------------------------------------------------------------------------\n",
      "-------------------------------------------------------------------------------\n",
      "Episode: 30 Total reward: 22.0 Training mean qs: 0.9950 Training std qs: 0.0497 Training mean Qs: 54.2800 Training std Qs: 17.2227 Training mean nextQs: 53.8830 Training std nextQs: 19.3984 Training q_loss: 79.1694 Explore P: 0.9359\n",
      "-------------------------------------------------------------------------------\n",
      "-------------------------------------------------------------------------------\n",
      "Episode: 31 Total reward: 14.0 Training mean qs: 0.9991 Training std qs: 0.0122 Training mean Qs: 52.7329 Training std Qs: 16.9235 Training mean nextQs: 52.3631 Training std nextQs: 19.0037 Training q_loss: 62.4895 Explore P: 0.9346\n",
      "-------------------------------------------------------------------------------\n",
      "-------------------------------------------------------------------------------\n",
      "Episode: 32 Total reward: 12.0 Training mean qs: 0.9948 Training std qs: 0.0498 Training mean Qs: 53.1158 Training std Qs: 17.7230 Training mean nextQs: 52.3804 Training std nextQs: 20.4220 Training q_loss: 94.6759 Explore P: 0.9335\n",
      "-------------------------------------------------------------------------------\n",
      "-------------------------------------------------------------------------------\n",
      "Episode: 33 Total reward: 19.0 Training mean qs: 1.0000 Training std qs: 0.0002 Training mean Qs: 53.1654 Training std Qs: 16.8214 Training mean nextQs: 52.7365 Training std nextQs: 19.3261 Training q_loss: 42.6022 Explore P: 0.9318\n",
      "-------------------------------------------------------------------------------\n",
      "-------------------------------------------------------------------------------\n",
      "Episode: 34 Total reward: 29.0 Training mean qs: 0.9996 Training std qs: 0.0050 Training mean Qs: 52.4669 Training std Qs: 16.0373 Training mean nextQs: 52.0547 Training std nextQs: 18.2862 Training q_loss: 89.7650 Explore P: 0.9291\n",
      "-------------------------------------------------------------------------------\n",
      "-------------------------------------------------------------------------------\n",
      "Episode: 35 Total reward: 18.0 Training mean qs: 0.9941 Training std qs: 0.0505 Training mean Qs: 52.4354 Training std Qs: 17.0707 Training mean nextQs: 52.7105 Training std nextQs: 19.0678 Training q_loss: 34.2118 Explore P: 0.9275\n",
      "-------------------------------------------------------------------------------\n",
      "-------------------------------------------------------------------------------\n",
      "Episode: 36 Total reward: 15.0 Training mean qs: 1.0000 Training std qs: 0.0004 Training mean Qs: 54.2470 Training std Qs: 15.5979 Training mean nextQs: 54.4294 Training std nextQs: 17.8645 Training q_loss: 52.7155 Explore P: 0.9261\n",
      "-------------------------------------------------------------------------------\n",
      "-------------------------------------------------------------------------------\n",
      "Episode: 37 Total reward: 11.0 Training mean qs: 0.9926 Training std qs: 0.0553 Training mean Qs: 51.4750 Training std Qs: 17.1255 Training mean nextQs: 51.2808 Training std nextQs: 19.3596 Training q_loss: 77.4744 Explore P: 0.9251\n",
      "-------------------------------------------------------------------------------\n",
      "-------------------------------------------------------------------------------\n",
      "Episode: 38 Total reward: 65.0 Training mean qs: 0.9915 Training std qs: 0.0621 Training mean Qs: 50.9436 Training std Qs: 18.5129 Training mean nextQs: 51.7898 Training std nextQs: 19.5028 Training q_loss: 27.8931 Explore P: 0.9191\n",
      "-------------------------------------------------------------------------------\n",
      "-------------------------------------------------------------------------------\n",
      "Episode: 39 Total reward: 14.0 Training mean qs: 0.9975 Training std qs: 0.0353 Training mean Qs: 55.6942 Training std Qs: 18.6098 Training mean nextQs: 55.5027 Training std nextQs: 20.8843 Training q_loss: 85.1542 Explore P: 0.9179\n",
      "-------------------------------------------------------------------------------\n",
      "-------------------------------------------------------------------------------\n",
      "Episode: 40 Total reward: 42.0 Training mean qs: 0.9999 Training std qs: 0.0004 Training mean Qs: 55.0518 Training std Qs: 19.3199 Training mean nextQs: 55.1072 Training std nextQs: 20.9882 Training q_loss: 62.9929 Explore P: 0.9141\n",
      "-------------------------------------------------------------------------------\n",
      "-------------------------------------------------------------------------------\n",
      "Episode: 41 Total reward: 11.0 Training mean qs: 0.9945 Training std qs: 0.0500 Training mean Qs: 54.3667 Training std Qs: 19.1592 Training mean nextQs: 53.5910 Training std nextQs: 21.3365 Training q_loss: 124.0656 Explore P: 0.9131\n",
      "-------------------------------------------------------------------------------\n",
      "-------------------------------------------------------------------------------\n",
      "Episode: 42 Total reward: 20.0 Training mean qs: 0.9938 Training std qs: 0.0510 Training mean Qs: 57.3561 Training std Qs: 20.4025 Training mean nextQs: 57.0762 Training std nextQs: 23.1278 Training q_loss: 98.5879 Explore P: 0.9113\n",
      "-------------------------------------------------------------------------------\n"
     ]
    },
    {
     "name": "stdout",
     "output_type": "stream",
     "text": [
      "-------------------------------------------------------------------------------\n",
      "Episode: 43 Total reward: 32.0 Training mean qs: 0.9972 Training std qs: 0.0354 Training mean Qs: 57.5063 Training std Qs: 19.6374 Training mean nextQs: 57.7865 Training std nextQs: 22.0441 Training q_loss: 64.2485 Explore P: 0.9084\n",
      "-------------------------------------------------------------------------------\n",
      "-------------------------------------------------------------------------------\n",
      "Episode: 44 Total reward: 41.0 Training mean qs: 0.9891 Training std qs: 0.0709 Training mean Qs: 58.3772 Training std Qs: 21.3434 Training mean nextQs: 58.1465 Training std nextQs: 23.9838 Training q_loss: 122.4742 Explore P: 0.9047\n",
      "-------------------------------------------------------------------------------\n",
      "-------------------------------------------------------------------------------\n",
      "Episode: 45 Total reward: 15.0 Training mean qs: 0.9987 Training std qs: 0.0184 Training mean Qs: 61.3228 Training std Qs: 19.6473 Training mean nextQs: 61.5879 Training std nextQs: 22.2303 Training q_loss: 74.5657 Explore P: 0.9034\n",
      "-------------------------------------------------------------------------------\n",
      "-------------------------------------------------------------------------------\n",
      "Episode: 46 Total reward: 12.0 Training mean qs: 1.0000 Training std qs: 0.0001 Training mean Qs: 60.0026 Training std Qs: 21.6500 Training mean nextQs: 59.5849 Training std nextQs: 24.0887 Training q_loss: 87.0008 Explore P: 0.9023\n",
      "-------------------------------------------------------------------------------\n",
      "-------------------------------------------------------------------------------\n",
      "Episode: 47 Total reward: 45.0 Training mean qs: 0.9960 Training std qs: 0.0411 Training mean Qs: 63.7765 Training std Qs: 22.9998 Training mean nextQs: 63.2935 Training std nextQs: 26.1989 Training q_loss: 86.1858 Explore P: 0.8983\n",
      "-------------------------------------------------------------------------------\n",
      "-------------------------------------------------------------------------------\n",
      "Episode: 48 Total reward: 38.0 Training mean qs: 0.9964 Training std qs: 0.0382 Training mean Qs: 64.5600 Training std Qs: 23.4514 Training mean nextQs: 63.7752 Training std nextQs: 26.3567 Training q_loss: 112.4131 Explore P: 0.8949\n",
      "-------------------------------------------------------------------------------\n",
      "-------------------------------------------------------------------------------\n",
      "Episode: 49 Total reward: 17.0 Training mean qs: 0.9975 Training std qs: 0.0353 Training mean Qs: 65.0732 Training std Qs: 21.5110 Training mean nextQs: 64.8063 Training std nextQs: 25.3932 Training q_loss: 103.3794 Explore P: 0.8934\n",
      "-------------------------------------------------------------------------------\n",
      "-------------------------------------------------------------------------------\n",
      "Episode: 50 Total reward: 19.0 Training mean qs: 0.9867 Training std qs: 0.0784 Training mean Qs: 61.9282 Training std Qs: 26.4351 Training mean nextQs: 62.8558 Training std nextQs: 27.8946 Training q_loss: 22.9024 Explore P: 0.8917\n",
      "-------------------------------------------------------------------------------\n",
      "-------------------------------------------------------------------------------\n",
      "Episode: 51 Total reward: 23.0 Training mean qs: 1.0000 Training std qs: 0.0000 Training mean Qs: 64.5203 Training std Qs: 21.3399 Training mean nextQs: 64.5705 Training std nextQs: 24.2269 Training q_loss: 80.0823 Explore P: 0.8897\n",
      "-------------------------------------------------------------------------------\n",
      "-------------------------------------------------------------------------------\n",
      "Episode: 52 Total reward: 39.0 Training mean qs: 0.9975 Training std qs: 0.0353 Training mean Qs: 73.2974 Training std Qs: 22.1009 Training mean nextQs: 72.2240 Training std nextQs: 25.3527 Training q_loss: 207.7404 Explore P: 0.8863\n",
      "-------------------------------------------------------------------------------\n",
      "-------------------------------------------------------------------------------\n",
      "Episode: 53 Total reward: 18.0 Training mean qs: 0.9918 Training std qs: 0.0590 Training mean Qs: 63.1280 Training std Qs: 25.9445 Training mean nextQs: 63.3413 Training std nextQs: 29.1412 Training q_loss: 113.6831 Explore P: 0.8847\n",
      "-------------------------------------------------------------------------------\n",
      "-------------------------------------------------------------------------------\n",
      "Episode: 54 Total reward: 25.0 Training mean qs: 1.0000 Training std qs: 0.0000 Training mean Qs: 75.5902 Training std Qs: 18.7804 Training mean nextQs: 77.0474 Training std nextQs: 20.1718 Training q_loss: 57.9610 Explore P: 0.8825\n",
      "-------------------------------------------------------------------------------\n",
      "-------------------------------------------------------------------------------\n",
      "Episode: 55 Total reward: 21.0 Training mean qs: 0.9900 Training std qs: 0.0700 Training mean Qs: 73.3263 Training std Qs: 23.8464 Training mean nextQs: 71.7780 Training std nextQs: 29.4151 Training q_loss: 200.8126 Explore P: 0.8807\n",
      "-------------------------------------------------------------------------------\n",
      "-------------------------------------------------------------------------------\n",
      "Episode: 56 Total reward: 30.0 Training mean qs: 1.0000 Training std qs: 0.0000 Training mean Qs: 83.5780 Training std Qs: 22.1149 Training mean nextQs: 83.3529 Training std nextQs: 26.9433 Training q_loss: 132.4999 Explore P: 0.8781\n",
      "-------------------------------------------------------------------------------\n",
      "-------------------------------------------------------------------------------\n",
      "Episode: 57 Total reward: 14.0 Training mean qs: 1.0000 Training std qs: 0.0004 Training mean Qs: 85.4338 Training std Qs: 23.5114 Training mean nextQs: 84.9730 Training std nextQs: 30.0722 Training q_loss: 199.6053 Explore P: 0.8769\n",
      "-------------------------------------------------------------------------------\n",
      "-------------------------------------------------------------------------------\n",
      "Episode: 58 Total reward: 27.0 Training mean qs: 0.9975 Training std qs: 0.0353 Training mean Qs: 86.3277 Training std Qs: 24.4950 Training mean nextQs: 87.6455 Training std nextQs: 27.9189 Training q_loss: 117.2406 Explore P: 0.8745\n",
      "-------------------------------------------------------------------------------\n",
      "-------------------------------------------------------------------------------\n",
      "Episode: 59 Total reward: 39.0 Training mean qs: 0.9949 Training std qs: 0.0498 Training mean Qs: 87.4496 Training std Qs: 30.4775 Training mean nextQs: 87.1331 Training std nextQs: 34.4643 Training q_loss: 225.4344 Explore P: 0.8712\n",
      "-------------------------------------------------------------------------------\n",
      "-------------------------------------------------------------------------------\n",
      "Episode: 60 Total reward: 42.0 Training mean qs: 0.9997 Training std qs: 0.0046 Training mean Qs: 87.3677 Training std Qs: 31.2624 Training mean nextQs: 89.3651 Training std nextQs: 31.9517 Training q_loss: 21.3222 Explore P: 0.8676\n",
      "-------------------------------------------------------------------------------\n",
      "-------------------------------------------------------------------------------\n",
      "Episode: 61 Total reward: 19.0 Training mean qs: 0.9975 Training std qs: 0.0353 Training mean Qs: 92.8797 Training std Qs: 29.7614 Training mean nextQs: 93.9956 Training std nextQs: 32.2102 Training q_loss: 99.8260 Explore P: 0.8659\n",
      "-------------------------------------------------------------------------------\n",
      "-------------------------------------------------------------------------------\n",
      "Episode: 62 Total reward: 20.0 Training mean qs: 0.9953 Training std qs: 0.0465 Training mean Qs: 87.6762 Training std Qs: 27.9885 Training mean nextQs: 87.5363 Training std nextQs: 31.6775 Training q_loss: 185.1081 Explore P: 0.8642\n",
      "-------------------------------------------------------------------------------\n",
      "-------------------------------------------------------------------------------\n",
      "Episode: 63 Total reward: 15.0 Training mean qs: 0.9910 Training std qs: 0.0624 Training mean Qs: 86.5182 Training std Qs: 32.5828 Training mean nextQs: 87.7139 Training std nextQs: 34.6157 Training q_loss: 101.6440 Explore P: 0.8630\n",
      "-------------------------------------------------------------------------------\n"
     ]
    },
    {
     "name": "stdout",
     "output_type": "stream",
     "text": [
      "-------------------------------------------------------------------------------\n",
      "Episode: 64 Total reward: 40.0 Training mean qs: 0.9875 Training std qs: 0.0781 Training mean Qs: 94.9273 Training std Qs: 34.2472 Training mean nextQs: 95.8806 Training std nextQs: 37.0379 Training q_loss: 182.5966 Explore P: 0.8595\n",
      "-------------------------------------------------------------------------------\n",
      "-------------------------------------------------------------------------------\n",
      "Episode: 65 Total reward: 29.0 Training mean qs: 0.9934 Training std qs: 0.0537 Training mean Qs: 104.3110 Training std Qs: 33.0465 Training mean nextQs: 105.0622 Training std nextQs: 36.9644 Training q_loss: 157.8207 Explore P: 0.8571\n",
      "-------------------------------------------------------------------------------\n",
      "-------------------------------------------------------------------------------\n",
      "Episode: 66 Total reward: 28.0 Training mean qs: 1.0000 Training std qs: 0.0000 Training mean Qs: 113.0836 Training std Qs: 30.9176 Training mean nextQs: 112.5419 Training std nextQs: 38.8937 Training q_loss: 216.1210 Explore P: 0.8547\n",
      "-------------------------------------------------------------------------------\n",
      "-------------------------------------------------------------------------------\n",
      "Episode: 67 Total reward: 41.0 Training mean qs: 0.9975 Training std qs: 0.0353 Training mean Qs: 104.0981 Training std Qs: 31.0290 Training mean nextQs: 104.0418 Training std nextQs: 34.8484 Training q_loss: 194.5875 Explore P: 0.8513\n",
      "-------------------------------------------------------------------------------\n",
      "-------------------------------------------------------------------------------\n",
      "Episode: 68 Total reward: 14.0 Training mean qs: 0.9875 Training std qs: 0.0781 Training mean Qs: 95.0211 Training std Qs: 35.3742 Training mean nextQs: 95.4087 Training std nextQs: 39.4347 Training q_loss: 152.8000 Explore P: 0.8501\n",
      "-------------------------------------------------------------------------------\n",
      "-------------------------------------------------------------------------------\n",
      "Episode: 69 Total reward: 17.0 Training mean qs: 1.0000 Training std qs: 0.0000 Training mean Qs: 108.8892 Training std Qs: 28.8555 Training mean nextQs: 108.7110 Training std nextQs: 33.6722 Training q_loss: 279.8765 Explore P: 0.8487\n",
      "-------------------------------------------------------------------------------\n",
      "-------------------------------------------------------------------------------\n",
      "Episode: 70 Total reward: 97.0 Training mean qs: 0.9875 Training std qs: 0.0781 Training mean Qs: 138.6787 Training std Qs: 45.4396 Training mean nextQs: 138.6827 Training std nextQs: 51.3173 Training q_loss: 365.8890 Explore P: 0.8406\n",
      "-------------------------------------------------------------------------------\n",
      "-------------------------------------------------------------------------------\n",
      "Episode: 71 Total reward: 10.0 Training mean qs: 0.9846 Training std qs: 0.0853 Training mean Qs: 123.7502 Training std Qs: 50.4285 Training mean nextQs: 123.1242 Training std nextQs: 55.9483 Training q_loss: 777.9933 Explore P: 0.8397\n",
      "-------------------------------------------------------------------------------\n",
      "-------------------------------------------------------------------------------\n",
      "Episode: 72 Total reward: 22.0 Training mean qs: 1.0000 Training std qs: 0.0000 Training mean Qs: 158.8872 Training std Qs: 45.0732 Training mean nextQs: 158.5421 Training std nextQs: 57.1390 Training q_loss: 461.3217 Explore P: 0.8379\n",
      "-------------------------------------------------------------------------------\n",
      "-------------------------------------------------------------------------------\n",
      "Episode: 73 Total reward: 10.0 Training mean qs: 0.9859 Training std qs: 0.0793 Training mean Qs: 133.2507 Training std Qs: 50.6979 Training mean nextQs: 130.0948 Training std nextQs: 59.1356 Training q_loss: 996.5257 Explore P: 0.8371\n",
      "-------------------------------------------------------------------------------\n",
      "-------------------------------------------------------------------------------\n",
      "Episode: 74 Total reward: 34.0 Training mean qs: 1.0000 Training std qs: 0.0000 Training mean Qs: 171.3949 Training std Qs: 47.3513 Training mean nextQs: 169.2999 Training std nextQs: 61.6589 Training q_loss: 673.5106 Explore P: 0.8343\n",
      "-------------------------------------------------------------------------------\n",
      "-------------------------------------------------------------------------------\n",
      "Episode: 75 Total reward: 36.0 Training mean qs: 1.0000 Training std qs: 0.0000 Training mean Qs: 203.9747 Training std Qs: 49.6826 Training mean nextQs: 204.6661 Training std nextQs: 63.0049 Training q_loss: 585.0137 Explore P: 0.8313\n",
      "-------------------------------------------------------------------------------\n",
      "-------------------------------------------------------------------------------\n",
      "Episode: 76 Total reward: 19.0 Training mean qs: 0.9949 Training std qs: 0.0498 Training mean Qs: 202.2635 Training std Qs: 65.1012 Training mean nextQs: 206.3180 Training std nextQs: 68.6046 Training q_loss: 416.1486 Explore P: 0.8298\n",
      "-------------------------------------------------------------------------------\n",
      "-------------------------------------------------------------------------------\n",
      "Episode: 77 Total reward: 29.0 Training mean qs: 0.9994 Training std qs: 0.0082 Training mean Qs: 190.8351 Training std Qs: 64.5774 Training mean nextQs: 194.2739 Training std nextQs: 67.0453 Training q_loss: 419.2279 Explore P: 0.8274\n",
      "-------------------------------------------------------------------------------\n",
      "-------------------------------------------------------------------------------\n",
      "Episode: 78 Total reward: 29.0 Training mean qs: 0.9975 Training std qs: 0.0353 Training mean Qs: 202.5725 Training std Qs: 66.6629 Training mean nextQs: 205.0291 Training std nextQs: 71.7954 Training q_loss: 467.2994 Explore P: 0.8250\n",
      "-------------------------------------------------------------------------------\n",
      "-------------------------------------------------------------------------------\n",
      "Episode: 79 Total reward: 44.0 Training mean qs: 0.9975 Training std qs: 0.0353 Training mean Qs: 231.0763 Training std Qs: 68.7699 Training mean nextQs: 236.0330 Training std nextQs: 71.9559 Training q_loss: 206.1475 Explore P: 0.8214\n",
      "-------------------------------------------------------------------------------\n",
      "-------------------------------------------------------------------------------\n",
      "Episode: 80 Total reward: 36.0 Training mean qs: 0.9950 Training std qs: 0.0497 Training mean Qs: 244.0752 Training std Qs: 74.7056 Training mean nextQs: 246.3330 Training std nextQs: 84.4883 Training q_loss: 880.4445 Explore P: 0.8185\n",
      "-------------------------------------------------------------------------------\n",
      "-------------------------------------------------------------------------------\n",
      "Episode: 81 Total reward: 59.0 Training mean qs: 1.0000 Training std qs: 0.0000 Training mean Qs: 279.6701 Training std Qs: 85.9861 Training mean nextQs: 282.1407 Training std nextQs: 98.3667 Training q_loss: 801.9891 Explore P: 0.8138\n",
      "-------------------------------------------------------------------------------\n",
      "-------------------------------------------------------------------------------\n",
      "Episode: 82 Total reward: 26.0 Training mean qs: 1.0000 Training std qs: 0.0001 Training mean Qs: 308.0320 Training std Qs: 84.0906 Training mean nextQs: 309.5067 Training std nextQs: 97.4958 Training q_loss: 883.0352 Explore P: 0.8117\n",
      "-------------------------------------------------------------------------------\n",
      "-------------------------------------------------------------------------------\n",
      "Episode: 83 Total reward: 26.0 Training mean qs: 0.9975 Training std qs: 0.0353 Training mean Qs: 333.1462 Training std Qs: 87.3343 Training mean nextQs: 331.8012 Training std nextQs: 114.1866 Training q_loss: 3033.3508 Explore P: 0.8096\n",
      "-------------------------------------------------------------------------------\n",
      "-------------------------------------------------------------------------------\n",
      "Episode: 84 Total reward: 36.0 Training mean qs: 1.0000 Training std qs: 0.0000 Training mean Qs: 413.8450 Training std Qs: 108.7748 Training mean nextQs: 416.1311 Training std nextQs: 133.8309 Training q_loss: 2377.0239 Explore P: 0.8067\n",
      "-------------------------------------------------------------------------------\n",
      "-------------------------------------------------------------------------------\n",
      "Episode: 85 Total reward: 26.0 Training mean qs: 1.0000 Training std qs: 0.0000 Training mean Qs: 470.7422 Training std Qs: 101.8315 Training mean nextQs: 475.7387 Training std nextQs: 115.3747 Training q_loss: 1442.8795 Explore P: 0.8047\n",
      "-------------------------------------------------------------------------------\n"
     ]
    },
    {
     "name": "stdout",
     "output_type": "stream",
     "text": [
      "-------------------------------------------------------------------------------\n",
      "Episode: 86 Total reward: 61.0 Training mean qs: 0.9800 Training std qs: 0.0980 Training mean Qs: 425.0300 Training std Qs: 165.3703 Training mean nextQs: 432.2866 Training std nextQs: 170.5556 Training q_loss: 668.6620 Explore P: 0.7998\n",
      "-------------------------------------------------------------------------------\n",
      "-------------------------------------------------------------------------------\n",
      "Episode: 87 Total reward: 56.0 Training mean qs: 0.9975 Training std qs: 0.0353 Training mean Qs: 523.6938 Training std Qs: 154.2631 Training mean nextQs: 538.5565 Training std nextQs: 175.7066 Training q_loss: 5864.8867 Explore P: 0.7954\n",
      "-------------------------------------------------------------------------------\n",
      "-------------------------------------------------------------------------------\n",
      "Episode: 88 Total reward: 56.0 Training mean qs: 1.0000 Training std qs: 0.0000 Training mean Qs: 709.6412 Training std Qs: 177.7101 Training mean nextQs: 703.0388 Training std nextQs: 221.8172 Training q_loss: 12167.5791 Explore P: 0.7910\n",
      "-------------------------------------------------------------------------------\n",
      "-------------------------------------------------------------------------------\n",
      "Episode: 89 Total reward: 10.0 Training mean qs: 1.0000 Training std qs: 0.0000 Training mean Qs: 668.2459 Training std Qs: 180.1163 Training mean nextQs: 674.2972 Training std nextQs: 215.6062 Training q_loss: 4626.1562 Explore P: 0.7902\n",
      "-------------------------------------------------------------------------------\n",
      "-------------------------------------------------------------------------------\n",
      "Episode: 90 Total reward: 18.0 Training mean qs: 0.9950 Training std qs: 0.0497 Training mean Qs: 562.8539 Training std Qs: 208.4022 Training mean nextQs: 574.6836 Training std nextQs: 222.4499 Training q_loss: 3667.6418 Explore P: 0.7888\n",
      "-------------------------------------------------------------------------------\n",
      "-------------------------------------------------------------------------------\n",
      "Episode: 91 Total reward: 16.0 Training mean qs: 1.0000 Training std qs: 0.0000 Training mean Qs: 676.4394 Training std Qs: 173.7762 Training mean nextQs: 684.5605 Training std nextQs: 198.2589 Training q_loss: 5332.6338 Explore P: 0.7876\n",
      "-------------------------------------------------------------------------------\n",
      "-------------------------------------------------------------------------------\n",
      "Episode: 92 Total reward: 36.0 Training mean qs: 0.9900 Training std qs: 0.0700 Training mean Qs: 688.5167 Training std Qs: 223.0089 Training mean nextQs: 694.8442 Training std nextQs: 239.4089 Training q_loss: 11767.0322 Explore P: 0.7848\n",
      "-------------------------------------------------------------------------------\n",
      "-------------------------------------------------------------------------------\n",
      "Episode: 93 Total reward: 20.0 Training mean qs: 1.0000 Training std qs: 0.0000 Training mean Qs: 755.7098 Training std Qs: 199.1685 Training mean nextQs: 753.9609 Training std nextQs: 240.5659 Training q_loss: 8747.4043 Explore P: 0.7833\n",
      "-------------------------------------------------------------------------------\n",
      "-------------------------------------------------------------------------------\n",
      "Episode: 94 Total reward: 22.0 Training mean qs: 0.9850 Training std qs: 0.0853 Training mean Qs: 640.7439 Training std Qs: 244.1257 Training mean nextQs: 652.8630 Training std nextQs: 253.7102 Training q_loss: 2897.5613 Explore P: 0.7816\n",
      "-------------------------------------------------------------------------------\n",
      "-------------------------------------------------------------------------------\n",
      "Episode: 95 Total reward: 17.0 Training mean qs: 0.9975 Training std qs: 0.0353 Training mean Qs: 741.0714 Training std Qs: 231.0793 Training mean nextQs: 758.1514 Training std nextQs: 236.5316 Training q_loss: 2035.3030 Explore P: 0.7802\n",
      "-------------------------------------------------------------------------------\n",
      "-------------------------------------------------------------------------------\n",
      "Episode: 96 Total reward: 76.0 Training mean qs: 0.9916 Training std qs: 0.0620 Training mean Qs: 735.3078 Training std Qs: 272.0959 Training mean nextQs: 741.5471 Training std nextQs: 299.7080 Training q_loss: 11411.0713 Explore P: 0.7744\n",
      "-------------------------------------------------------------------------------\n",
      "-------------------------------------------------------------------------------\n",
      "Episode: 97 Total reward: 74.0 Training mean qs: 0.9975 Training std qs: 0.0353 Training mean Qs: 928.9011 Training std Qs: 262.3543 Training mean nextQs: 943.0435 Training std nextQs: 291.2180 Training q_loss: 4785.1802 Explore P: 0.7688\n",
      "-------------------------------------------------------------------------------\n",
      "-------------------------------------------------------------------------------\n",
      "Episode: 98 Total reward: 19.0 Training mean qs: 0.9899 Training std qs: 0.0700 Training mean Qs: 905.1390 Training std Qs: 291.4186 Training mean nextQs: 913.6018 Training std nextQs: 321.8471 Training q_loss: 7983.5498 Explore P: 0.7673\n",
      "-------------------------------------------------------------------------------\n",
      "-------------------------------------------------------------------------------\n",
      "Episode: 99 Total reward: 12.0 Training mean qs: 1.0000 Training std qs: 0.0000 Training mean Qs: 945.3182 Training std Qs: 288.4678 Training mean nextQs: 964.1144 Training std nextQs: 296.1369 Training q_loss: 2266.2097 Explore P: 0.7664\n",
      "-------------------------------------------------------------------------------\n",
      "-------------------------------------------------------------------------------\n",
      "Episode: 100 Total reward: 21.0 Training mean qs: 0.9950 Training std qs: 0.0497 Training mean Qs: 1017.9519 Training std Qs: 302.4396 Training mean nextQs: 1040.4663 Training std nextQs: 312.4895 Training q_loss: 3769.2720 Explore P: 0.7648\n",
      "-------------------------------------------------------------------------------\n",
      "-------------------------------------------------------------------------------\n",
      "Episode: 101 Total reward: 91.0 Training mean qs: 0.9975 Training std qs: 0.0353 Training mean Qs: 1206.0328 Training std Qs: 350.5652 Training mean nextQs: 1229.8834 Training std nextQs: 370.4555 Training q_loss: 10215.6406 Explore P: 0.7580\n",
      "-------------------------------------------------------------------------------\n",
      "-------------------------------------------------------------------------------\n",
      "Episode: 102 Total reward: 47.0 Training mean qs: 0.9975 Training std qs: 0.0353 Training mean Qs: 1279.7863 Training std Qs: 335.7693 Training mean nextQs: 1287.7958 Training std nextQs: 389.5721 Training q_loss: 16170.8408 Explore P: 0.7545\n",
      "-------------------------------------------------------------------------------\n",
      "-------------------------------------------------------------------------------\n",
      "Episode: 103 Total reward: 50.0 Training mean qs: 0.9975 Training std qs: 0.0353 Training mean Qs: 1402.3717 Training std Qs: 380.6131 Training mean nextQs: 1420.4906 Training std nextQs: 395.6436 Training q_loss: 4516.6548 Explore P: 0.7508\n",
      "-------------------------------------------------------------------------------\n",
      "-------------------------------------------------------------------------------\n",
      "Episode: 104 Total reward: 52.0 Training mean qs: 0.9875 Training std qs: 0.0781 Training mean Qs: 1349.4064 Training std Qs: 453.3513 Training mean nextQs: 1353.3901 Training std nextQs: 499.3372 Training q_loss: 20582.3672 Explore P: 0.7469\n",
      "-------------------------------------------------------------------------------\n",
      "-------------------------------------------------------------------------------\n",
      "Episode: 105 Total reward: 18.0 Training mean qs: 1.0000 Training std qs: 0.0000 Training mean Qs: 1507.6698 Training std Qs: 377.0287 Training mean nextQs: 1527.6617 Training std nextQs: 398.5258 Training q_loss: 11070.5400 Explore P: 0.7456\n",
      "-------------------------------------------------------------------------------\n",
      "-------------------------------------------------------------------------------\n",
      "Episode: 106 Total reward: 67.0 Training mean qs: 0.9950 Training std qs: 0.0497 Training mean Qs: 1757.5626 Training std Qs: 427.1887 Training mean nextQs: 1771.3851 Training std nextQs: 471.6744 Training q_loss: 22073.8496 Explore P: 0.7407\n",
      "-------------------------------------------------------------------------------\n"
     ]
    },
    {
     "name": "stdout",
     "output_type": "stream",
     "text": [
      "-------------------------------------------------------------------------------\n",
      "Episode: 107 Total reward: 66.0 Training mean qs: 0.9975 Training std qs: 0.0353 Training mean Qs: 1769.5637 Training std Qs: 496.9269 Training mean nextQs: 1790.4424 Training std nextQs: 550.6999 Training q_loss: 25652.2422 Explore P: 0.7359\n",
      "-------------------------------------------------------------------------------\n",
      "-------------------------------------------------------------------------------\n",
      "Episode: 108 Total reward: 12.0 Training mean qs: 1.0000 Training std qs: 0.0000 Training mean Qs: 1952.3500 Training std Qs: 477.9048 Training mean nextQs: 1963.8042 Training std nextQs: 545.7179 Training q_loss: 27883.5000 Explore P: 0.7350\n",
      "-------------------------------------------------------------------------------\n",
      "-------------------------------------------------------------------------------\n",
      "Episode: 109 Total reward: 89.0 Training mean qs: 0.9900 Training std qs: 0.0700 Training mean Qs: 2312.7471 Training std Qs: 654.7778 Training mean nextQs: 2335.9041 Training std nextQs: 692.7425 Training q_loss: 17207.8184 Explore P: 0.7286\n",
      "-------------------------------------------------------------------------------\n",
      "-------------------------------------------------------------------------------\n",
      "Episode: 110 Total reward: 111.0 Training mean qs: 0.9925 Training std qs: 0.0608 Training mean Qs: 2809.6677 Training std Qs: 936.3288 Training mean nextQs: 2832.2324 Training std nextQs: 1031.2375 Training q_loss: 56331.2812 Explore P: 0.7207\n",
      "-------------------------------------------------------------------------------\n",
      "-------------------------------------------------------------------------------\n",
      "Episode: 111 Total reward: 92.0 Training mean qs: 0.9975 Training std qs: 0.0353 Training mean Qs: 4192.8555 Training std Qs: 1066.6831 Training mean nextQs: 4230.7173 Training std nextQs: 1194.6273 Training q_loss: 133205.4531 Explore P: 0.7142\n",
      "-------------------------------------------------------------------------------\n",
      "-------------------------------------------------------------------------------\n",
      "Episode: 112 Total reward: 13.0 Training mean qs: 0.9975 Training std qs: 0.0353 Training mean Qs: 4421.1445 Training std Qs: 1036.3479 Training mean nextQs: 4488.7559 Training std nextQs: 1147.2313 Training q_loss: 96985.8203 Explore P: 0.7132\n",
      "-------------------------------------------------------------------------------\n",
      "-------------------------------------------------------------------------------\n",
      "Episode: 113 Total reward: 15.0 Training mean qs: 1.0000 Training std qs: 0.0000 Training mean Qs: 4776.8794 Training std Qs: 1024.8105 Training mean nextQs: 4849.8628 Training std nextQs: 1090.3517 Training q_loss: 50774.6445 Explore P: 0.7122\n",
      "-------------------------------------------------------------------------------\n",
      "-------------------------------------------------------------------------------\n",
      "Episode: 114 Total reward: 39.0 Training mean qs: 0.9900 Training std qs: 0.0700 Training mean Qs: 4574.2642 Training std Qs: 1364.8540 Training mean nextQs: 4649.0820 Training std nextQs: 1414.2893 Training q_loss: 94740.1797 Explore P: 0.7095\n",
      "-------------------------------------------------------------------------------\n",
      "-------------------------------------------------------------------------------\n",
      "Episode: 115 Total reward: 88.0 Training mean qs: 1.0000 Training std qs: 0.0000 Training mean Qs: 5860.9048 Training std Qs: 1477.3204 Training mean nextQs: 5956.2964 Training std nextQs: 1497.3076 Training q_loss: 174253.2188 Explore P: 0.7033\n",
      "-------------------------------------------------------------------------------\n",
      "-------------------------------------------------------------------------------\n",
      "Episode: 116 Total reward: 60.0 Training mean qs: 0.9975 Training std qs: 0.0353 Training mean Qs: 6481.1362 Training std Qs: 1867.9816 Training mean nextQs: 6549.8164 Training std nextQs: 2019.9156 Training q_loss: 250980.9531 Explore P: 0.6992\n",
      "-------------------------------------------------------------------------------\n",
      "-------------------------------------------------------------------------------\n",
      "Episode: 117 Total reward: 43.0 Training mean qs: 0.9950 Training std qs: 0.0497 Training mean Qs: 6864.0986 Training std Qs: 2054.1567 Training mean nextQs: 6954.6357 Training std nextQs: 2147.5598 Training q_loss: 145324.2812 Explore P: 0.6962\n",
      "-------------------------------------------------------------------------------\n",
      "-------------------------------------------------------------------------------\n",
      "Episode: 118 Total reward: 27.0 Training mean qs: 0.9900 Training std qs: 0.0700 Training mean Qs: 7294.8125 Training std Qs: 2045.1996 Training mean nextQs: 7470.8364 Training std nextQs: 2038.8098 Training q_loss: 81087.6172 Explore P: 0.6944\n",
      "-------------------------------------------------------------------------------\n",
      "-------------------------------------------------------------------------------\n",
      "Episode: 119 Total reward: 97.0 Training mean qs: 0.9975 Training std qs: 0.0353 Training mean Qs: 8982.9141 Training std Qs: 2191.1499 Training mean nextQs: 9092.3467 Training std nextQs: 2434.0911 Training q_loss: 613787.3750 Explore P: 0.6878\n",
      "-------------------------------------------------------------------------------\n",
      "-------------------------------------------------------------------------------\n",
      "Episode: 120 Total reward: 182.0 Training mean qs: 0.9975 Training std qs: 0.0353 Training mean Qs: 12357.1289 Training std Qs: 2802.6370 Training mean nextQs: 12578.2910 Training std nextQs: 2802.3269 Training q_loss: 212800.6562 Explore P: 0.6755\n",
      "-------------------------------------------------------------------------------\n",
      "-------------------------------------------------------------------------------\n",
      "Episode: 121 Total reward: 105.0 Training mean qs: 1.0000 Training std qs: 0.0000 Training mean Qs: 15211.8867 Training std Qs: 3960.4170 Training mean nextQs: 15432.8584 Training std nextQs: 4144.0122 Training q_loss: 659411.6875 Explore P: 0.6686\n",
      "-------------------------------------------------------------------------------\n",
      "-------------------------------------------------------------------------------\n",
      "Episode: 122 Total reward: 19.0 Training mean qs: 0.9925 Training std qs: 0.0608 Training mean Qs: 15269.2715 Training std Qs: 4306.6123 Training mean nextQs: 15494.5000 Training std nextQs: 4507.4795 Training q_loss: 773413.8125 Explore P: 0.6673\n",
      "-------------------------------------------------------------------------------\n",
      "-------------------------------------------------------------------------------\n",
      "Episode: 123 Total reward: 70.0 Training mean qs: 0.9950 Training std qs: 0.0497 Training mean Qs: 17874.4355 Training std Qs: 4420.7778 Training mean nextQs: 18221.3242 Training std nextQs: 4482.4692 Training q_loss: 488368.3125 Explore P: 0.6628\n",
      "-------------------------------------------------------------------------------\n",
      "-------------------------------------------------------------------------------\n",
      "Episode: 124 Total reward: 104.0 Training mean qs: 0.9975 Training std qs: 0.0353 Training mean Qs: 20336.3594 Training std Qs: 5688.7842 Training mean nextQs: 20551.1582 Training std nextQs: 6265.1689 Training q_loss: 1331189.1250 Explore P: 0.6560\n",
      "-------------------------------------------------------------------------------\n",
      "-------------------------------------------------------------------------------\n",
      "Episode: 125 Total reward: 57.0 Training mean qs: 0.9950 Training std qs: 0.0497 Training mean Qs: 22831.6699 Training std Qs: 5503.9810 Training mean nextQs: 23057.0508 Training std nextQs: 6198.0264 Training q_loss: 3704378.5000 Explore P: 0.6523\n",
      "-------------------------------------------------------------------------------\n",
      "-------------------------------------------------------------------------------\n",
      "Episode: 126 Total reward: 199.0 Training mean qs: 0.9950 Training std qs: 0.0497 Training mean Qs: 29629.1016 Training std Qs: 6748.3364 Training mean nextQs: 30030.5996 Training std nextQs: 7330.4995 Training q_loss: 3266891.0000 Explore P: 0.6397\n",
      "-------------------------------------------------------------------------------\n",
      "-------------------------------------------------------------------------------\n",
      "Episode: 127 Total reward: 97.0 Training mean qs: 0.9950 Training std qs: 0.0497 Training mean Qs: 32059.1895 Training std Qs: 8374.6338 Training mean nextQs: 32408.2168 Training std nextQs: 8914.4570 Training q_loss: 4917938.0000 Explore P: 0.6336\n",
      "-------------------------------------------------------------------------------\n"
     ]
    },
    {
     "name": "stdout",
     "output_type": "stream",
     "text": [
      "-------------------------------------------------------------------------------\n",
      "Episode: 128 Total reward: 142.0 Training mean qs: 1.0000 Training std qs: 0.0000 Training mean Qs: 36920.4219 Training std Qs: 9574.9941 Training mean nextQs: 37233.9766 Training std nextQs: 10733.1709 Training q_loss: 10035414.0000 Explore P: 0.6248\n",
      "-------------------------------------------------------------------------------\n",
      "-------------------------------------------------------------------------------\n",
      "Episode: 129 Total reward: 71.0 Training mean qs: 1.0000 Training std qs: 0.0000 Training mean Qs: 40561.5938 Training std Qs: 9175.9375 Training mean nextQs: 41079.3164 Training std nextQs: 10221.0977 Training q_loss: 6867850.0000 Explore P: 0.6205\n",
      "-------------------------------------------------------------------------------\n",
      "-------------------------------------------------------------------------------\n",
      "Episode: 130 Total reward: 41.0 Training mean qs: 0.9900 Training std qs: 0.0700 Training mean Qs: 42267.7500 Training std Qs: 11687.7451 Training mean nextQs: 42319.7344 Training std nextQs: 12908.4121 Training q_loss: 16884750.0000 Explore P: 0.6180\n",
      "-------------------------------------------------------------------------------\n",
      "-------------------------------------------------------------------------------\n",
      "Episode: 131 Total reward: 113.0 Training mean qs: 0.9925 Training std qs: 0.0608 Training mean Qs: 43371.4062 Training std Qs: 13086.2422 Training mean nextQs: 44038.7383 Training std nextQs: 13463.1104 Training q_loss: 4665332.5000 Explore P: 0.6111\n",
      "-------------------------------------------------------------------------------\n",
      "-------------------------------------------------------------------------------\n",
      "Episode: 132 Total reward: 63.0 Training mean qs: 0.9925 Training std qs: 0.0608 Training mean Qs: 47301.0781 Training std Qs: 13411.9648 Training mean nextQs: 47679.3711 Training std nextQs: 14219.2432 Training q_loss: 10000918.0000 Explore P: 0.6074\n",
      "-------------------------------------------------------------------------------\n",
      "-------------------------------------------------------------------------------\n",
      "Episode: 133 Total reward: 60.0 Training mean qs: 0.9950 Training std qs: 0.0497 Training mean Qs: 51752.3516 Training std Qs: 13224.0537 Training mean nextQs: 51798.6133 Training std nextQs: 15234.4053 Training q_loss: 27316342.0000 Explore P: 0.6038\n",
      "-------------------------------------------------------------------------------\n",
      "-------------------------------------------------------------------------------\n",
      "Episode: 134 Total reward: 33.0 Training mean qs: 0.9950 Training std qs: 0.0497 Training mean Qs: 52259.1562 Training std Qs: 12319.0234 Training mean nextQs: 52823.8750 Training std nextQs: 13628.1748 Training q_loss: 12349101.0000 Explore P: 0.6018\n",
      "-------------------------------------------------------------------------------\n",
      "-------------------------------------------------------------------------------\n",
      "Episode: 135 Total reward: 137.0 Training mean qs: 1.0000 Training std qs: 0.0000 Training mean Qs: 57474.1602 Training std Qs: 14534.3955 Training mean nextQs: 58283.3945 Training std nextQs: 15390.6152 Training q_loss: 10309341.0000 Explore P: 0.5938\n",
      "-------------------------------------------------------------------------------\n",
      "-------------------------------------------------------------------------------\n",
      "Episode: 136 Total reward: 45.0 Training mean qs: 0.9975 Training std qs: 0.0353 Training mean Qs: 59332.6133 Training std Qs: 15182.7119 Training mean nextQs: 60266.6055 Training std nextQs: 15070.1602 Training q_loss: 2898707.7500 Explore P: 0.5911\n",
      "-------------------------------------------------------------------------------\n",
      "-------------------------------------------------------------------------------\n",
      "Episode: 137 Total reward: 176.0 Training mean qs: 0.9875 Training std qs: 0.0781 Training mean Qs: 67519.8203 Training std Qs: 21933.8438 Training mean nextQs: 67495.4062 Training std nextQs: 24211.4551 Training q_loss: 45722008.0000 Explore P: 0.5810\n",
      "-------------------------------------------------------------------------------\n",
      "-------------------------------------------------------------------------------\n",
      "Episode: 138 Total reward: 179.0 Training mean qs: 0.9850 Training std qs: 0.0853 Training mean Qs: 76671.7500 Training std Qs: 21142.2871 Training mean nextQs: 76719.5469 Training std nextQs: 23378.8672 Training q_loss: 61073648.0000 Explore P: 0.5709\n",
      "-------------------------------------------------------------------------------\n",
      "-------------------------------------------------------------------------------\n",
      "Episode: 139 Total reward: 53.0 Training mean qs: 0.9975 Training std qs: 0.0353 Training mean Qs: 75507.4766 Training std Qs: 20173.0605 Training mean nextQs: 76167.6797 Training std nextQs: 21821.7910 Training q_loss: 29274130.0000 Explore P: 0.5679\n",
      "-------------------------------------------------------------------------------\n",
      "-------------------------------------------------------------------------------\n",
      "Episode: 140 Total reward: 142.0 Training mean qs: 0.9925 Training std qs: 0.0608 Training mean Qs: 85064.3203 Training std Qs: 21626.4707 Training mean nextQs: 85991.0781 Training std nextQs: 22771.7715 Training q_loss: 14526536.0000 Explore P: 0.5600\n",
      "-------------------------------------------------------------------------------\n",
      "-------------------------------------------------------------------------------\n",
      "Episode: 141 Total reward: 74.0 Training mean qs: 0.9950 Training std qs: 0.0497 Training mean Qs: 88044.9922 Training std Qs: 21389.0762 Training mean nextQs: 89290.9766 Training std nextQs: 22114.0742 Training q_loss: 30490456.0000 Explore P: 0.5560\n",
      "-------------------------------------------------------------------------------\n",
      "-------------------------------------------------------------------------------\n",
      "Episode: 142 Total reward: 199.0 Training mean qs: 0.9975 Training std qs: 0.0353 Training mean Qs: 94793.2500 Training std Qs: 21804.2168 Training mean nextQs: 95903.4609 Training std nextQs: 23577.6387 Training q_loss: 24575404.0000 Explore P: 0.5452\n",
      "-------------------------------------------------------------------------------\n",
      "-------------------------------------------------------------------------------\n",
      "Episode: 143 Total reward: 81.0 Training mean qs: 0.9950 Training std qs: 0.0497 Training mean Qs: 97846.4062 Training std Qs: 24581.2656 Training mean nextQs: 98947.4609 Training std nextQs: 26677.7910 Training q_loss: 26543188.0000 Explore P: 0.5409\n",
      "-------------------------------------------------------------------------------\n",
      "-------------------------------------------------------------------------------\n",
      "Episode: 144 Total reward: 199.0 Training mean qs: 1.0000 Training std qs: 0.0000 Training mean Qs: 110265.3203 Training std Qs: 24990.8340 Training mean nextQs: 112097.5391 Training std nextQs: 25483.7168 Training q_loss: 12878790.0000 Explore P: 0.5305\n",
      "-------------------------------------------------------------------------------\n",
      "-------------------------------------------------------------------------------\n",
      "Episode: 145 Total reward: 199.0 Training mean qs: 0.9950 Training std qs: 0.0497 Training mean Qs: 122202.9609 Training std Qs: 25936.0449 Training mean nextQs: 122879.0391 Training std nextQs: 28308.2188 Training q_loss: 32067224.0000 Explore P: 0.5202\n",
      "-------------------------------------------------------------------------------\n",
      "-------------------------------------------------------------------------------\n",
      "Episode: 146 Total reward: 32.0 Training mean qs: 1.0000 Training std qs: 0.0000 Training mean Qs: 121363.9688 Training std Qs: 24638.7422 Training mean nextQs: 123246.5234 Training std nextQs: 24881.2988 Training q_loss: 14121101.0000 Explore P: 0.5186\n",
      "-------------------------------------------------------------------------------\n",
      "-------------------------------------------------------------------------------\n",
      "Episode: 147 Total reward: 86.0 Training mean qs: 0.9950 Training std qs: 0.0497 Training mean Qs: 125991.5234 Training std Qs: 25102.8613 Training mean nextQs: 127468.3438 Training std nextQs: 25480.4395 Training q_loss: 12594607.0000 Explore P: 0.5142\n",
      "-------------------------------------------------------------------------------\n"
     ]
    },
    {
     "name": "stdout",
     "output_type": "stream",
     "text": [
      "-------------------------------------------------------------------------------\n",
      "Episode: 148 Total reward: 199.0 Training mean qs: 0.9925 Training std qs: 0.0608 Training mean Qs: 132555.2812 Training std Qs: 27843.2363 Training mean nextQs: 133926.3750 Training std nextQs: 30621.6055 Training q_loss: 49582416.0000 Explore P: 0.5043\n",
      "-------------------------------------------------------------------------------\n",
      "-------------------------------------------------------------------------------\n",
      "Episode: 149 Total reward: 162.0 Training mean qs: 0.9950 Training std qs: 0.0497 Training mean Qs: 130311.9609 Training std Qs: 34211.5195 Training mean nextQs: 131389.7344 Training std nextQs: 36867.7656 Training q_loss: 76085328.0000 Explore P: 0.4963\n",
      "-------------------------------------------------------------------------------\n",
      "-------------------------------------------------------------------------------\n",
      "Episode: 150 Total reward: 167.0 Training mean qs: 0.9950 Training std qs: 0.0497 Training mean Qs: 137669.8125 Training std Qs: 34710.1250 Training mean nextQs: 139890.4375 Training std nextQs: 35670.4570 Training q_loss: 30124342.0000 Explore P: 0.4883\n",
      "-------------------------------------------------------------------------------\n",
      "-------------------------------------------------------------------------------\n",
      "Episode: 151 Total reward: 199.0 Training mean qs: 0.9925 Training std qs: 0.0608 Training mean Qs: 142902.6875 Training std Qs: 35258.3633 Training mean nextQs: 144517.0781 Training std nextQs: 36840.0977 Training q_loss: 151628144.0000 Explore P: 0.4789\n",
      "-------------------------------------------------------------------------------\n",
      "-------------------------------------------------------------------------------\n",
      "Episode: 152 Total reward: 194.0 Training mean qs: 1.0000 Training std qs: 0.0000 Training mean Qs: 151591.4531 Training std Qs: 30172.5605 Training mean nextQs: 152548.2031 Training std nextQs: 33163.8906 Training q_loss: 149697968.0000 Explore P: 0.4699\n",
      "-------------------------------------------------------------------------------\n",
      "-------------------------------------------------------------------------------\n",
      "Episode: 153 Total reward: 199.0 Training mean qs: 0.9950 Training std qs: 0.0497 Training mean Qs: 149298.1875 Training std Qs: 42221.8828 Training mean nextQs: 150582.2656 Training std nextQs: 44557.9844 Training q_loss: 39248204.0000 Explore P: 0.4608\n",
      "-------------------------------------------------------------------------------\n",
      "-------------------------------------------------------------------------------\n",
      "Episode: 154 Total reward: 157.0 Training mean qs: 0.9900 Training std qs: 0.0700 Training mean Qs: 149836.7188 Training std Qs: 43201.3555 Training mean nextQs: 150366.6875 Training std nextQs: 47074.2500 Training q_loss: 116850224.0000 Explore P: 0.4538\n",
      "-------------------------------------------------------------------------------\n",
      "-------------------------------------------------------------------------------\n",
      "Episode: 155 Total reward: 134.0 Training mean qs: 0.9950 Training std qs: 0.0497 Training mean Qs: 159448.7969 Training std Qs: 39004.0938 Training mean nextQs: 160670.4062 Training std nextQs: 42802.0391 Training q_loss: 122126032.0000 Explore P: 0.4479\n",
      "-------------------------------------------------------------------------------\n",
      "-------------------------------------------------------------------------------\n",
      "Episode: 156 Total reward: 199.0 Training mean qs: 0.9950 Training std qs: 0.0497 Training mean Qs: 152719.0625 Training std Qs: 38080.2148 Training mean nextQs: 154163.2969 Training std nextQs: 41286.7695 Training q_loss: 75213504.0000 Explore P: 0.4392\n",
      "-------------------------------------------------------------------------------\n",
      "-------------------------------------------------------------------------------\n",
      "Episode: 157 Total reward: 199.0 Training mean qs: 0.9975 Training std qs: 0.0353 Training mean Qs: 162236.5938 Training std Qs: 33575.1641 Training mean nextQs: 163198.8438 Training std nextQs: 38044.8711 Training q_loss: 114209320.0000 Explore P: 0.4308\n",
      "-------------------------------------------------------------------------------\n",
      "-------------------------------------------------------------------------------\n",
      "Episode: 158 Total reward: 141.0 Training mean qs: 0.9975 Training std qs: 0.0353 Training mean Qs: 165012.0469 Training std Qs: 32734.7324 Training mean nextQs: 166556.3281 Training std nextQs: 33830.1875 Training q_loss: 22777956.0000 Explore P: 0.4249\n",
      "-------------------------------------------------------------------------------\n",
      "-------------------------------------------------------------------------------\n",
      "Episode: 159 Total reward: 154.0 Training mean qs: 0.9975 Training std qs: 0.0353 Training mean Qs: 167116.1562 Training std Qs: 31440.6055 Training mean nextQs: 168215.1875 Training std nextQs: 34455.0312 Training q_loss: 115932696.0000 Explore P: 0.4185\n",
      "-------------------------------------------------------------------------------\n",
      "-------------------------------------------------------------------------------\n",
      "Episode: 160 Total reward: 96.0 Training mean qs: 0.9925 Training std qs: 0.0608 Training mean Qs: 157719.0156 Training std Qs: 37406.4062 Training mean nextQs: 158442.9531 Training std nextQs: 41476.5781 Training q_loss: 115704224.0000 Explore P: 0.4146\n",
      "-------------------------------------------------------------------------------\n",
      "-------------------------------------------------------------------------------\n",
      "Episode: 161 Total reward: 159.0 Training mean qs: 0.9950 Training std qs: 0.0497 Training mean Qs: 158348.2344 Training std Qs: 33834.1328 Training mean nextQs: 160725.5000 Training std nextQs: 35677.4688 Training q_loss: 44864860.0000 Explore P: 0.4083\n",
      "-------------------------------------------------------------------------------\n",
      "-------------------------------------------------------------------------------\n",
      "Episode: 162 Total reward: 199.0 Training mean qs: 0.9875 Training std qs: 0.0781 Training mean Qs: 154398.6250 Training std Qs: 39968.1016 Training mean nextQs: 155612.7969 Training std nextQs: 42726.0703 Training q_loss: 177003568.0000 Explore P: 0.4004\n",
      "-------------------------------------------------------------------------------\n",
      "-------------------------------------------------------------------------------\n",
      "Episode: 163 Total reward: 199.0 Training mean qs: 0.9925 Training std qs: 0.0608 Training mean Qs: 155144.9062 Training std Qs: 41869.3633 Training mean nextQs: 156626.1250 Training std nextQs: 43179.5078 Training q_loss: 30104264.0000 Explore P: 0.3927\n",
      "-------------------------------------------------------------------------------\n",
      "-------------------------------------------------------------------------------\n",
      "Episode: 164 Total reward: 199.0 Training mean qs: 0.9900 Training std qs: 0.0700 Training mean Qs: 154524.0938 Training std Qs: 35010.8359 Training mean nextQs: 155925.6562 Training std nextQs: 36072.9961 Training q_loss: 30921424.0000 Explore P: 0.3852\n",
      "-------------------------------------------------------------------------------\n",
      "-------------------------------------------------------------------------------\n",
      "Episode: 165 Total reward: 199.0 Training mean qs: 0.9925 Training std qs: 0.0608 Training mean Qs: 149867.3750 Training std Qs: 36483.8164 Training mean nextQs: 150351.8281 Training std nextQs: 39694.5586 Training q_loss: 78505552.0000 Explore P: 0.3778\n",
      "-------------------------------------------------------------------------------\n",
      "-------------------------------------------------------------------------------\n",
      "Episode: 166 Total reward: 139.0 Training mean qs: 0.9850 Training std qs: 0.0853 Training mean Qs: 147120.2031 Training std Qs: 37258.8516 Training mean nextQs: 147906.9844 Training std nextQs: 41404.9180 Training q_loss: 57604976.0000 Explore P: 0.3727\n",
      "-------------------------------------------------------------------------------\n",
      "-------------------------------------------------------------------------------\n",
      "Episode: 167 Total reward: 199.0 Training mean qs: 0.9875 Training std qs: 0.0781 Training mean Qs: 141133.9531 Training std Qs: 38878.0195 Training mean nextQs: 140657.0469 Training std nextQs: 44222.3867 Training q_loss: 192788432.0000 Explore P: 0.3656\n",
      "-------------------------------------------------------------------------------\n"
     ]
    },
    {
     "name": "stdout",
     "output_type": "stream",
     "text": [
      "-------------------------------------------------------------------------------\n",
      "Episode: 168 Total reward: 199.0 Training mean qs: 0.9875 Training std qs: 0.0781 Training mean Qs: 139334.2031 Training std Qs: 40692.6680 Training mean nextQs: 140810.7188 Training std nextQs: 42809.7695 Training q_loss: 26011354.0000 Explore P: 0.3586\n",
      "-------------------------------------------------------------------------------\n",
      "-------------------------------------------------------------------------------\n",
      "Episode: 169 Total reward: 199.0 Training mean qs: 0.9900 Training std qs: 0.0700 Training mean Qs: 135243.2188 Training std Qs: 33434.8477 Training mean nextQs: 137085.2344 Training std nextQs: 33522.2227 Training q_loss: 20416770.0000 Explore P: 0.3517\n",
      "-------------------------------------------------------------------------------\n",
      "-------------------------------------------------------------------------------\n",
      "Episode: 170 Total reward: 199.0 Training mean qs: 0.9875 Training std qs: 0.0781 Training mean Qs: 130940.0000 Training std Qs: 34913.7422 Training mean nextQs: 131178.6562 Training std nextQs: 39181.0703 Training q_loss: 85541480.0000 Explore P: 0.3450\n",
      "-------------------------------------------------------------------------------\n",
      "-------------------------------------------------------------------------------\n",
      "Episode: 171 Total reward: 199.0 Training mean qs: 0.9850 Training std qs: 0.0853 Training mean Qs: 126332.0000 Training std Qs: 35430.0000 Training mean nextQs: 126994.7500 Training std nextQs: 38392.8672 Training q_loss: 51075088.0000 Explore P: 0.3384\n",
      "-------------------------------------------------------------------------------\n",
      "-------------------------------------------------------------------------------\n",
      "Episode: 172 Total reward: 134.0 Training mean qs: 0.9700 Training std qs: 0.1187 Training mean Qs: 120683.4766 Training std Qs: 38854.8906 Training mean nextQs: 121511.7578 Training std nextQs: 42098.8320 Training q_loss: 48004376.0000 Explore P: 0.3340\n",
      "-------------------------------------------------------------------------------\n",
      "-------------------------------------------------------------------------------\n",
      "Episode: 173 Total reward: 199.0 Training mean qs: 0.9875 Training std qs: 0.0781 Training mean Qs: 112354.5625 Training std Qs: 34928.0312 Training mean nextQs: 112927.2812 Training std nextQs: 37660.6367 Training q_loss: 79453416.0000 Explore P: 0.3276\n",
      "-------------------------------------------------------------------------------\n",
      "-------------------------------------------------------------------------------\n",
      "Episode: 174 Total reward: 199.0 Training mean qs: 0.9825 Training std qs: 0.0919 Training mean Qs: 108288.3906 Training std Qs: 35106.7109 Training mean nextQs: 108597.7109 Training std nextQs: 38230.7500 Training q_loss: 40475260.0000 Explore P: 0.3213\n",
      "-------------------------------------------------------------------------------\n",
      "-------------------------------------------------------------------------------\n",
      "Episode: 175 Total reward: 199.0 Training mean qs: 0.9900 Training std qs: 0.0700 Training mean Qs: 109930.0312 Training std Qs: 27884.1348 Training mean nextQs: 110412.8516 Training std nextQs: 33073.4336 Training q_loss: 63145768.0000 Explore P: 0.3152\n",
      "-------------------------------------------------------------------------------\n",
      "-------------------------------------------------------------------------------\n",
      "Episode: 176 Total reward: 199.0 Training mean qs: 0.9775 Training std qs: 0.1037 Training mean Qs: 101609.7578 Training std Qs: 33093.3555 Training mean nextQs: 101607.5781 Training std nextQs: 36604.1172 Training q_loss: 91176344.0000 Explore P: 0.3092\n",
      "-------------------------------------------------------------------------------\n",
      "-------------------------------------------------------------------------------\n",
      "Episode: 177 Total reward: 199.0 Training mean qs: 0.9675 Training std qs: 0.1233 Training mean Qs: 89587.7031 Training std Qs: 37506.9766 Training mean nextQs: 88366.2266 Training std nextQs: 43951.5312 Training q_loss: 159244832.0000 Explore P: 0.3033\n",
      "-------------------------------------------------------------------------------\n",
      "-------------------------------------------------------------------------------\n",
      "Episode: 178 Total reward: 199.0 Training mean qs: 0.9725 Training std qs: 0.1140 Training mean Qs: 86641.5312 Training std Qs: 34851.5352 Training mean nextQs: 86270.8438 Training std nextQs: 39588.8828 Training q_loss: 90550224.0000 Explore P: 0.2975\n",
      "-------------------------------------------------------------------------------\n",
      "-------------------------------------------------------------------------------\n",
      "Episode: 179 Total reward: 199.0 Training mean qs: 0.9750 Training std qs: 0.1090 Training mean Qs: 84069.3203 Training std Qs: 29957.9004 Training mean nextQs: 84593.0391 Training std nextQs: 32609.6445 Training q_loss: 37012776.0000 Explore P: 0.2919\n",
      "-------------------------------------------------------------------------------\n",
      "-------------------------------------------------------------------------------\n",
      "Episode: 180 Total reward: 199.0 Training mean qs: 0.9750 Training std qs: 0.1090 Training mean Qs: 77489.3984 Training std Qs: 28058.1113 Training mean nextQs: 76288.4609 Training std nextQs: 33630.6016 Training q_loss: 95405336.0000 Explore P: 0.2863\n",
      "-------------------------------------------------------------------------------\n",
      "-------------------------------------------------------------------------------\n",
      "Episode: 181 Total reward: 199.0 Training mean qs: 0.9825 Training std qs: 0.0919 Training mean Qs: 78748.1016 Training std Qs: 25875.0645 Training mean nextQs: 78949.7188 Training std nextQs: 30013.8711 Training q_loss: 60928068.0000 Explore P: 0.2809\n",
      "-------------------------------------------------------------------------------\n",
      "-------------------------------------------------------------------------------\n",
      "Episode: 182 Total reward: 199.0 Training mean qs: 0.9725 Training std qs: 0.1140 Training mean Qs: 73091.1562 Training std Qs: 25188.2363 Training mean nextQs: 72191.4922 Training std nextQs: 31009.3301 Training q_loss: 86205376.0000 Explore P: 0.2755\n",
      "-------------------------------------------------------------------------------\n",
      "-------------------------------------------------------------------------------\n",
      "Episode: 183 Total reward: 199.0 Training mean qs: 0.9725 Training std qs: 0.1140 Training mean Qs: 70251.0625 Training std Qs: 23779.0801 Training mean nextQs: 69591.6406 Training std nextQs: 28316.5820 Training q_loss: 95728088.0000 Explore P: 0.2703\n",
      "-------------------------------------------------------------------------------\n",
      "-------------------------------------------------------------------------------\n",
      "Episode: 184 Total reward: 199.0 Training mean qs: 0.9575 Training std qs: 0.1394 Training mean Qs: 64407.8711 Training std Qs: 23882.7656 Training mean nextQs: 62180.7617 Training std nextQs: 35377.4414 Training q_loss: 306995328.0000 Explore P: 0.2652\n",
      "-------------------------------------------------------------------------------\n",
      "-------------------------------------------------------------------------------\n",
      "Episode: 185 Total reward: 199.0 Training mean qs: 0.9625 Training std qs: 0.1317 Training mean Qs: 57390.3008 Training std Qs: 23894.2461 Training mean nextQs: 54196.5781 Training std nextQs: 38658.8047 Training q_loss: 504848288.0000 Explore P: 0.2601\n",
      "-------------------------------------------------------------------------------\n",
      "-------------------------------------------------------------------------------\n",
      "Episode: 186 Total reward: 199.0 Training mean qs: 0.9300 Training std qs: 0.1735 Training mean Qs: 50481.3047 Training std Qs: 26600.7539 Training mean nextQs: 46119.5508 Training std nextQs: 39219.1914 Training q_loss: 332500896.0000 Explore P: 0.2552\n",
      "-------------------------------------------------------------------------------\n",
      "-------------------------------------------------------------------------------\n",
      "Episode: 187 Total reward: 199.0 Training mean qs: 0.9550 Training std qs: 0.1431 Training mean Qs: 49367.8086 Training std Qs: 21346.7109 Training mean nextQs: 46564.6445 Training std nextQs: 31395.8848 Training q_loss: 205905200.0000 Explore P: 0.2504\n",
      "-------------------------------------------------------------------------------\n"
     ]
    },
    {
     "name": "stdout",
     "output_type": "stream",
     "text": [
      "-------------------------------------------------------------------------------\n",
      "Episode: 188 Total reward: 199.0 Training mean qs: 0.9325 Training std qs: 0.1709 Training mean Qs: 46156.2109 Training std Qs: 24325.6543 Training mean nextQs: 40473.3477 Training std nextQs: 41694.1680 Training q_loss: 625202240.0000 Explore P: 0.2456\n",
      "-------------------------------------------------------------------------------\n",
      "-------------------------------------------------------------------------------\n",
      "Episode: 189 Total reward: 199.0 Training mean qs: 0.9425 Training std qs: 0.1595 Training mean Qs: 42479.2148 Training std Qs: 22639.3867 Training mean nextQs: 38380.8711 Training std nextQs: 35162.4102 Training q_loss: 335803584.0000 Explore P: 0.2410\n",
      "-------------------------------------------------------------------------------\n",
      "-------------------------------------------------------------------------------\n",
      "Episode: 190 Total reward: 191.0 Training mean qs: 0.9300 Training std qs: 0.1735 Training mean Qs: 42105.2109 Training std Qs: 22684.5938 Training mean nextQs: 37297.3945 Training std nextQs: 36936.7266 Training q_loss: 403926112.0000 Explore P: 0.2366\n",
      "-------------------------------------------------------------------------------\n",
      "-------------------------------------------------------------------------------\n",
      "Episode: 191 Total reward: 175.0 Training mean qs: 0.8925 Training std qs: 0.2054 Training mean Qs: 38413.1094 Training std Qs: 24916.6094 Training mean nextQs: 28951.6934 Training std nextQs: 45322.3633 Training q_loss: 741582336.0000 Explore P: 0.2327\n",
      "-------------------------------------------------------------------------------\n",
      "-------------------------------------------------------------------------------\n",
      "Episode: 192 Total reward: 174.0 Training mean qs: 0.9075 Training std qs: 0.1941 Training mean Qs: 39311.5781 Training std Qs: 23710.3555 Training mean nextQs: 30917.5469 Training std nextQs: 47475.3711 Training q_loss: 1021139136.0000 Explore P: 0.2289\n",
      "-------------------------------------------------------------------------------\n",
      "-------------------------------------------------------------------------------\n",
      "Episode: 193 Total reward: 173.0 Training mean qs: 0.8925 Training std qs: 0.2054 Training mean Qs: 33669.5781 Training std Qs: 24306.1699 Training mean nextQs: 21125.5957 Training std nextQs: 54486.5977 Training q_loss: 1623304704.0000 Explore P: 0.2251\n",
      "-------------------------------------------------------------------------------\n",
      "-------------------------------------------------------------------------------\n",
      "Episode: 194 Total reward: 198.0 Training mean qs: 0.8875 Training std qs: 0.2088 Training mean Qs: 38503.9375 Training std Qs: 27185.0469 Training mean nextQs: 26116.1055 Training std nextQs: 54042.4688 Training q_loss: 1294723072.0000 Explore P: 0.2209\n",
      "-------------------------------------------------------------------------------\n",
      "-------------------------------------------------------------------------------\n",
      "Episode: 195 Total reward: 153.0 Training mean qs: 0.8750 Training std qs: 0.2165 Training mean Qs: 39610.4961 Training std Qs: 27132.5820 Training mean nextQs: 23939.4648 Training std nextQs: 60893.6445 Training q_loss: 1871800576.0000 Explore P: 0.2177\n",
      "-------------------------------------------------------------------------------\n",
      "-------------------------------------------------------------------------------\n",
      "Episode: 196 Total reward: 154.0 Training mean qs: 0.8950 Training std qs: 0.2037 Training mean Qs: 39310.5391 Training std Qs: 27053.0020 Training mean nextQs: 24235.1191 Training std nextQs: 66343.2422 Training q_loss: 2594545152.0000 Explore P: 0.2145\n",
      "-------------------------------------------------------------------------------\n",
      "-------------------------------------------------------------------------------\n",
      "Episode: 197 Total reward: 163.0 Training mean qs: 0.8425 Training std qs: 0.2323 Training mean Qs: 34107.9297 Training std Qs: 28781.5254 Training mean nextQs: 11468.4570 Training std nextQs: 71307.8906 Training q_loss: 3116932352.0000 Explore P: 0.2112\n",
      "-------------------------------------------------------------------------------\n",
      "-------------------------------------------------------------------------------\n",
      "Episode: 198 Total reward: 157.0 Training mean qs: 0.8550 Training std qs: 0.2269 Training mean Qs: 37343.6484 Training std Qs: 30232.0742 Training mean nextQs: 12461.7148 Training std nextQs: 76586.0156 Training q_loss: 3617192960.0000 Explore P: 0.2081\n",
      "-------------------------------------------------------------------------------\n",
      "-------------------------------------------------------------------------------\n",
      "Episode: 199 Total reward: 12.0 Training mean qs: 0.8800 Training std qs: 0.2135 Training mean Qs: 39063.3594 Training std Qs: 29024.0645 Training mean nextQs: 13326.5400 Training std nextQs: 84083.6797 Training q_loss: 4739284480.0000 Explore P: 0.2078\n",
      "-------------------------------------------------------------------------------\n",
      "-------------------------------------------------------------------------------\n",
      "Episode: 200 Total reward: 177.0 Training mean qs: 0.8525 Training std qs: 0.2280 Training mean Qs: 35597.4219 Training std Qs: 30181.0586 Training mean nextQs: 9966.2109 Training std nextQs: 80222.7422 Training q_loss: 4219315712.0000 Explore P: 0.2044\n",
      "-------------------------------------------------------------------------------\n",
      "-------------------------------------------------------------------------------\n",
      "Episode: 201 Total reward: 151.0 Training mean qs: 0.8650 Training std qs: 0.2220 Training mean Qs: 41309.6094 Training std Qs: 31440.9961 Training mean nextQs: 15696.5566 Training std nextQs: 84584.3906 Training q_loss: 4581976064.0000 Explore P: 0.2014\n",
      "-------------------------------------------------------------------------------\n",
      "-------------------------------------------------------------------------------\n",
      "Episode: 202 Total reward: 155.0 Training mean qs: 0.8650 Training std qs: 0.2220 Training mean Qs: 39385.3438 Training std Qs: 31781.5977 Training mean nextQs: 11971.7461 Training std nextQs: 88231.6719 Training q_loss: 5198893056.0000 Explore P: 0.1985\n",
      "-------------------------------------------------------------------------------\n",
      "-------------------------------------------------------------------------------\n",
      "Episode: 203 Total reward: 154.0 Training mean qs: 0.8525 Training std qs: 0.2280 Training mean Qs: 39821.5742 Training std Qs: 30913.4023 Training mean nextQs: 7441.2373 Training std nextQs: 95802.9219 Training q_loss: 6496187904.0000 Explore P: 0.1956\n",
      "-------------------------------------------------------------------------------\n",
      "-------------------------------------------------------------------------------\n",
      "Episode: 204 Total reward: 160.0 Training mean qs: 0.8400 Training std qs: 0.2332 Training mean Qs: 33259.6289 Training std Qs: 28161.3672 Training mean nextQs: 3353.4993 Training std nextQs: 94990.9688 Training q_loss: 6946771968.0000 Explore P: 0.1927\n",
      "-------------------------------------------------------------------------------\n",
      "-------------------------------------------------------------------------------\n",
      "Episode: 205 Total reward: 168.0 Training mean qs: 0.7950 Training std qs: 0.2459 Training mean Qs: 28426.3242 Training std Qs: 27540.9980 Training mean nextQs: -30171.2930 Training std nextQs: 127960.2344 Training q_loss: 15378795520.0000 Explore P: 0.1896\n",
      "-------------------------------------------------------------------------------\n",
      "-------------------------------------------------------------------------------\n",
      "Episode: 206 Total reward: 151.0 Training mean qs: 0.7550 Training std qs: 0.2499 Training mean Qs: 19606.5957 Training std Qs: 23074.2344 Training mean nextQs: -39658.7461 Training std nextQs: 121747.4297 Training q_loss: 15187875840.0000 Explore P: 0.1869\n",
      "-------------------------------------------------------------------------------\n",
      "-------------------------------------------------------------------------------\n",
      "Episode: 207 Total reward: 174.0 Training mean qs: 0.7825 Training std qs: 0.2479 Training mean Qs: 19820.6582 Training std Qs: 21729.7969 Training mean nextQs: -35442.6367 Training std nextQs: 136812.2500 Training q_loss: 18703745024.0000 Explore P: 0.1839\n",
      "-------------------------------------------------------------------------------\n"
     ]
    },
    {
     "name": "stdout",
     "output_type": "stream",
     "text": [
      "-------------------------------------------------------------------------------\n",
      "Episode: 208 Total reward: 177.0 Training mean qs: 0.7700 Training std qs: 0.2492 Training mean Qs: 17815.1660 Training std Qs: 19297.9863 Training mean nextQs: -51961.3438 Training std nextQs: 141964.4375 Training q_loss: 21711900672.0000 Explore P: 0.1808\n",
      "-------------------------------------------------------------------------------\n",
      "-------------------------------------------------------------------------------\n",
      "Episode: 209 Total reward: 199.0 Training mean qs: 0.7875 Training std qs: 0.2472 Training mean Qs: 15472.3867 Training std Qs: 15329.9023 Training mean nextQs: -47288.7812 Training std nextQs: 136941.2500 Training q_loss: 20117721088.0000 Explore P: 0.1775\n",
      "-------------------------------------------------------------------------------\n",
      "-------------------------------------------------------------------------------\n",
      "Episode: 210 Total reward: 199.0 Training mean qs: 0.7550 Training std qs: 0.2499 Training mean Qs: 10436.9062 Training std Qs: 12075.5117 Training mean nextQs: -53076.3516 Training std nextQs: 141657.8125 Training q_loss: 22172352512.0000 Explore P: 0.1742\n",
      "-------------------------------------------------------------------------------\n",
      "-------------------------------------------------------------------------------\n",
      "Episode: 211 Total reward: 199.0 Training mean qs: 0.7500 Training std qs: 0.2500 Training mean Qs: 9625.4248 Training std Qs: 11074.3252 Training mean nextQs: -44379.7461 Training std nextQs: 128858.7812 Training q_loss: 17994065920.0000 Explore P: 0.1709\n",
      "-------------------------------------------------------------------------------\n",
      "-------------------------------------------------------------------------------\n",
      "Episode: 212 Total reward: 199.0 Training mean qs: 0.7450 Training std qs: 0.2499 Training mean Qs: 8959.1777 Training std Qs: 10487.5176 Training mean nextQs: -63566.7734 Training std nextQs: 160429.2031 Training q_loss: 28999256064.0000 Explore P: 0.1678\n",
      "-------------------------------------------------------------------------------\n",
      "-------------------------------------------------------------------------------\n",
      "Episode: 213 Total reward: 199.0 Training mean qs: 0.7500 Training std qs: 0.2500 Training mean Qs: 9309.4961 Training std Qs: 10773.6201 Training mean nextQs: -44729.5703 Training std nextQs: 121267.8047 Training q_loss: 16168711168.0000 Explore P: 0.1647\n",
      "-------------------------------------------------------------------------------\n",
      "-------------------------------------------------------------------------------\n",
      "Episode: 214 Total reward: 199.0 Training mean qs: 0.7475 Training std qs: 0.2500 Training mean Qs: 8983.1494 Training std Qs: 10688.7852 Training mean nextQs: -55920.6484 Training std nextQs: 132865.3438 Training q_loss: 20173651968.0000 Explore P: 0.1616\n",
      "-------------------------------------------------------------------------------\n",
      "-------------------------------------------------------------------------------\n",
      "Episode: 215 Total reward: 199.0 Training mean qs: 0.7650 Training std qs: 0.2495 Training mean Qs: 11874.1504 Training std Qs: 12507.1631 Training mean nextQs: -47267.1406 Training std nextQs: 138587.2812 Training q_loss: 20715345920.0000 Explore P: 0.1586\n",
      "-------------------------------------------------------------------------------\n",
      "-------------------------------------------------------------------------------\n",
      "Episode: 216 Total reward: 199.0 Training mean qs: 0.7425 Training std qs: 0.2499 Training mean Qs: 11097.1396 Training std Qs: 13205.0361 Training mean nextQs: -61293.8750 Training std nextQs: 155075.3438 Training q_loss: 26952300544.0000 Explore P: 0.1557\n",
      "-------------------------------------------------------------------------------\n",
      "-------------------------------------------------------------------------------\n",
      "Episode: 217 Total reward: 199.0 Training mean qs: 0.8100 Training std qs: 0.2427 Training mean Qs: 15857.4678 Training std Qs: 14726.8203 Training mean nextQs: -30387.2695 Training std nextQs: 110823.7344 Training q_loss: 12484433920.0000 Explore P: 0.1528\n",
      "-------------------------------------------------------------------------------\n",
      "-------------------------------------------------------------------------------\n",
      "Episode: 218 Total reward: 199.0 Training mean qs: 0.7950 Training std qs: 0.2459 Training mean Qs: 15895.4971 Training std Qs: 15734.9990 Training mean nextQs: -32658.6680 Training std nextQs: 128818.1250 Training q_loss: 16807694336.0000 Explore P: 0.1500\n",
      "-------------------------------------------------------------------------------\n",
      "-------------------------------------------------------------------------------\n",
      "Episode: 219 Total reward: 199.0 Training mean qs: 0.8125 Training std qs: 0.2421 Training mean Qs: 17433.2578 Training std Qs: 15745.7803 Training mean nextQs: -36144.0938 Training std nextQs: 139071.4844 Training q_loss: 19684915200.0000 Explore P: 0.1473\n",
      "-------------------------------------------------------------------------------\n",
      "-------------------------------------------------------------------------------\n",
      "Episode: 220 Total reward: 199.0 Training mean qs: 0.8450 Training std qs: 0.2312 Training mean Qs: 18502.4980 Training std Qs: 14826.1270 Training mean nextQs: -13912.4951 Training std nextQs: 102208.0781 Training q_loss: 9861593088.0000 Explore P: 0.1445\n",
      "-------------------------------------------------------------------------------\n",
      "-------------------------------------------------------------------------------\n",
      "Episode: 221 Total reward: 199.0 Training mean qs: 0.7900 Training std qs: 0.2468 Training mean Qs: 14231.0508 Training std Qs: 14084.3281 Training mean nextQs: -45467.8516 Training std nextQs: 147436.1406 Training q_loss: 22928936960.0000 Explore P: 0.1419\n",
      "-------------------------------------------------------------------------------\n",
      "-------------------------------------------------------------------------------\n",
      "Episode: 222 Total reward: 199.0 Training mean qs: 0.8225 Training std qs: 0.2393 Training mean Qs: 14995.8740 Training std Qs: 13226.3877 Training mean nextQs: -23750.8457 Training std nextQs: 106689.9297 Training q_loss: 11318304768.0000 Explore P: 0.1393\n",
      "-------------------------------------------------------------------------------\n",
      "-------------------------------------------------------------------------------\n",
      "Episode: 223 Total reward: 199.0 Training mean qs: 0.8300 Training std qs: 0.2369 Training mean Qs: 16269.5303 Training std Qs: 13483.9033 Training mean nextQs: -35333.7031 Training std nextQs: 138967.4219 Training q_loss: 19701991424.0000 Explore P: 0.1367\n",
      "-------------------------------------------------------------------------------\n",
      "-------------------------------------------------------------------------------\n",
      "Episode: 224 Total reward: 199.0 Training mean qs: 0.8100 Training std qs: 0.2427 Training mean Qs: 14108.0137 Training std Qs: 12829.6133 Training mean nextQs: -36789.4102 Training std nextQs: 123218.0156 Training q_loss: 15840887808.0000 Explore P: 0.1343\n",
      "-------------------------------------------------------------------------------\n",
      "-------------------------------------------------------------------------------\n",
      "Episode: 225 Total reward: 199.0 Training mean qs: 0.8200 Training std qs: 0.2400 Training mean Qs: 13065.1191 Training std Qs: 11040.8301 Training mean nextQs: -19235.4219 Training std nextQs: 97631.8438 Training q_loss: 9411200000.0000 Explore P: 0.1318\n",
      "-------------------------------------------------------------------------------\n",
      "-------------------------------------------------------------------------------\n",
      "Episode: 226 Total reward: 199.0 Training mean qs: 0.8200 Training std qs: 0.2400 Training mean Qs: 11518.7900 Training std Qs: 9490.6826 Training mean nextQs: -25309.6172 Training std nextQs: 103175.8516 Training q_loss: 10838586368.0000 Explore P: 0.1294\n",
      "-------------------------------------------------------------------------------\n",
      "-------------------------------------------------------------------------------\n",
      "Episode: 227 Total reward: 199.0 Training mean qs: 0.8250 Training std qs: 0.2385 Training mean Qs: 12494.1348 Training std Qs: 10264.5518 Training mean nextQs: -35937.7461 Training std nextQs: 114760.2031 Training q_loss: 13910722560.0000 Explore P: 0.1271\n",
      "-------------------------------------------------------------------------------\n"
     ]
    },
    {
     "name": "stdout",
     "output_type": "stream",
     "text": [
      "-------------------------------------------------------------------------------\n",
      "Episode: 228 Total reward: 199.0 Training mean qs: 0.8050 Training std qs: 0.2439 Training mean Qs: 11171.1191 Training std Qs: 9982.2920 Training mean nextQs: -37669.4062 Training std nextQs: 126699.0703 Training q_loss: 16896304128.0000 Explore P: 0.1247\n",
      "-------------------------------------------------------------------------------\n",
      "-------------------------------------------------------------------------------\n",
      "Episode: 229 Total reward: 199.0 Training mean qs: 0.8125 Training std qs: 0.2421 Training mean Qs: 12622.8320 Training std Qs: 10576.2510 Training mean nextQs: -31204.7520 Training std nextQs: 113304.5781 Training q_loss: 13266980864.0000 Explore P: 0.1225\n",
      "-------------------------------------------------------------------------------\n",
      "-------------------------------------------------------------------------------\n",
      "Episode: 230 Total reward: 199.0 Training mean qs: 0.8325 Training std qs: 0.2360 Training mean Qs: 10459.3438 Training std Qs: 8450.8594 Training mean nextQs: -23781.5605 Training std nextQs: 93808.5000 Training q_loss: 8997479424.0000 Explore P: 0.1203\n",
      "-------------------------------------------------------------------------------\n",
      "-------------------------------------------------------------------------------\n",
      "Episode: 231 Total reward: 199.0 Training mean qs: 0.8000 Training std qs: 0.2449 Training mean Qs: 6755.9180 Training std Qs: 6267.0391 Training mean nextQs: -40962.5625 Training std nextQs: 116848.3672 Training q_loss: 14941702144.0000 Explore P: 0.1181\n",
      "-------------------------------------------------------------------------------\n",
      "-------------------------------------------------------------------------------\n",
      "Episode: 232 Total reward: 199.0 Training mean qs: 0.7975 Training std qs: 0.2454 Training mean Qs: 6222.9814 Training std Qs: 5694.3564 Training mean nextQs: -39178.4844 Training std nextQs: 117681.6172 Training q_loss: 15006902272.0000 Explore P: 0.1160\n",
      "-------------------------------------------------------------------------------\n",
      "-------------------------------------------------------------------------------\n",
      "Episode: 233 Total reward: 199.0 Training mean qs: 0.7975 Training std qs: 0.2454 Training mean Qs: 5810.8213 Training std Qs: 5464.9863 Training mean nextQs: -32841.9062 Training std nextQs: 95165.7656 Training q_loss: 9870081024.0000 Explore P: 0.1139\n",
      "-------------------------------------------------------------------------------\n",
      "-------------------------------------------------------------------------------\n",
      "Episode: 234 Total reward: 199.0 Training mean qs: 0.7850 Training std qs: 0.2475 Training mean Qs: 3945.6716 Training std Qs: 4182.0610 Training mean nextQs: -49084.2383 Training std nextQs: 127226.1641 Training q_loss: 18192424960.0000 Explore P: 0.1118\n",
      "-------------------------------------------------------------------------------\n",
      "-------------------------------------------------------------------------------\n",
      "Episode: 235 Total reward: 199.0 Training mean qs: 0.7475 Training std qs: 0.2500 Training mean Qs: 2356.2632 Training std Qs: 2982.1023 Training mean nextQs: -44225.5586 Training std nextQs: 106519.3594 Training q_loss: 13023015936.0000 Explore P: 0.1098\n",
      "-------------------------------------------------------------------------------\n",
      "-------------------------------------------------------------------------------\n",
      "Episode: 236 Total reward: 199.0 Training mean qs: 0.7225 Training std qs: 0.2485 Training mean Qs: 2096.1592 Training std Qs: 2812.9050 Training mean nextQs: -48029.4883 Training std nextQs: 101668.4453 Training q_loss: 12379598848.0000 Explore P: 0.1079\n",
      "-------------------------------------------------------------------------------\n",
      "-------------------------------------------------------------------------------\n",
      "Episode: 237 Total reward: 199.0 Training mean qs: 0.7375 Training std qs: 0.2497 Training mean Qs: 1891.6296 Training std Qs: 2461.5085 Training mean nextQs: -45406.9492 Training std nextQs: 118748.8438 Training q_loss: 15831971840.0000 Explore P: 0.1059\n",
      "-------------------------------------------------------------------------------\n",
      "-------------------------------------------------------------------------------\n",
      "Episode: 238 Total reward: 199.0 Training mean qs: 0.7375 Training std qs: 0.2497 Training mean Qs: 2062.5645 Training std Qs: 2607.0076 Training mean nextQs: -31779.8398 Training std nextQs: 78083.6094 Training q_loss: 6954738688.0000 Explore P: 0.1040\n",
      "-------------------------------------------------------------------------------\n",
      "-------------------------------------------------------------------------------\n",
      "Episode: 239 Total reward: 199.0 Training mean qs: 0.6975 Training std qs: 0.2444 Training mean Qs: 1337.0325 Training std Qs: 1956.6091 Training mean nextQs: -44338.0664 Training std nextQs: 111454.7422 Training q_loss: 14095936512.0000 Explore P: 0.1022\n",
      "-------------------------------------------------------------------------------\n",
      "-------------------------------------------------------------------------------\n",
      "Episode: 240 Total reward: 199.0 Training mean qs: 0.6750 Training std qs: 0.2385 Training mean Qs: 1093.5962 Training std Qs: 1803.0175 Training mean nextQs: -45614.3359 Training std nextQs: 106554.2031 Training q_loss: 13162799104.0000 Explore P: 0.1004\n",
      "-------------------------------------------------------------------------------\n",
      "-------------------------------------------------------------------------------\n",
      "Episode: 241 Total reward: 199.0 Training mean qs: 0.6925 Training std qs: 0.2433 Training mean Qs: 1418.5621 Training std Qs: 2222.1309 Training mean nextQs: -46503.6094 Training std nextQs: 106917.7109 Training q_loss: 13316432896.0000 Explore P: 0.0986\n",
      "-------------------------------------------------------------------------------\n",
      "-------------------------------------------------------------------------------\n",
      "Episode: 242 Total reward: 199.0 Training mean qs: 0.7575 Training std qs: 0.2499 Training mean Qs: 2813.2532 Training std Qs: 3113.0618 Training mean nextQs: -34191.3906 Training std nextQs: 94772.0312 Training q_loss: 9931502592.0000 Explore P: 0.0968\n",
      "-------------------------------------------------------------------------------\n",
      "-------------------------------------------------------------------------------\n",
      "Episode: 243 Total reward: 199.0 Training mean qs: 0.8500 Training std qs: 0.2291 Training mean Qs: 14740.1973 Training std Qs: 10632.6641 Training mean nextQs: -14316.8037 Training std nextQs: 92789.0391 Training q_loss: 8306606080.0000 Explore P: 0.0951\n",
      "-------------------------------------------------------------------------------\n",
      "-------------------------------------------------------------------------------\n",
      "Episode: 244 Total reward: 199.0 Training mean qs: 0.8850 Training std qs: 0.2104 Training mean Qs: 24508.1348 Training std Qs: 15486.1338 Training mean nextQs: 6955.5376 Training std nextQs: 63272.5391 Training q_loss: 3124955136.0000 Explore P: 0.0935\n",
      "-------------------------------------------------------------------------------\n",
      "-------------------------------------------------------------------------------\n",
      "Episode: 245 Total reward: 199.0 Training mean qs: 0.8775 Training std qs: 0.2150 Training mean Qs: 20511.5723 Training std Qs: 13607.8174 Training mean nextQs: -7337.5151 Training std nextQs: 91838.6172 Training q_loss: 7718054912.0000 Explore P: 0.0918\n",
      "-------------------------------------------------------------------------------\n",
      "-------------------------------------------------------------------------------\n",
      "Episode: 246 Total reward: 199.0 Training mean qs: 0.9075 Training std qs: 0.1941 Training mean Qs: 18560.6895 Training std Qs: 10432.0791 Training mean nextQs: 2189.4180 Training std nextQs: 64119.3398 Training q_loss: 3587352064.0000 Explore P: 0.0902\n",
      "-------------------------------------------------------------------------------\n",
      "-------------------------------------------------------------------------------\n",
      "Episode: 247 Total reward: 199.0 Training mean qs: 0.8525 Training std qs: 0.2280 Training mean Qs: 10618.3174 Training std Qs: 7789.6777 Training mean nextQs: -14423.2588 Training std nextQs: 70819.3047 Training q_loss: 4945303552.0000 Explore P: 0.0886\n",
      "-------------------------------------------------------------------------------\n"
     ]
    },
    {
     "name": "stdout",
     "output_type": "stream",
     "text": [
      "-------------------------------------------------------------------------------\n",
      "Episode: 248 Total reward: 199.0 Training mean qs: 0.8450 Training std qs: 0.2312 Training mean Qs: 9360.2441 Training std Qs: 7176.6284 Training mean nextQs: -25303.8145 Training std nextQs: 92820.1484 Training q_loss: 8932654080.0000 Explore P: 0.0871\n",
      "-------------------------------------------------------------------------------\n",
      "-------------------------------------------------------------------------------\n",
      "Episode: 249 Total reward: 199.0 Training mean qs: 0.9100 Training std qs: 0.1921 Training mean Qs: 18454.7969 Training std Qs: 9708.6650 Training mean nextQs: 300.8806 Training std nextQs: 75281.2734 Training q_loss: 5118041600.0000 Explore P: 0.0856\n",
      "-------------------------------------------------------------------------------\n"
     ]
    }
   ],
   "source": [
    "# Now train with experiences\n",
    "saver = tf.train.Saver()\n",
    "\n",
    "# Total rewards and losses list for plotting\n",
    "rewards_list = []\n",
    "q_loss_list = []\n",
    "mean_qs_list, std_qs_list = [], []\n",
    "mean_Qs_list, std_Qs_list = [], []\n",
    "mean_nextQs_list, std_nextQs_list = [], []\n",
    "\n",
    "# TF session for training\n",
    "with tf.Session() as sess:\n",
    "    \n",
    "    # Initialize variables\n",
    "    sess.run(tf.global_variables_initializer())\n",
    "\n",
    "    #     # Restore/load the trained model \n",
    "    #     #saver.restore(sess, 'checkpoints/model.ckpt')    \n",
    "    #     saver.restore(sess, tf.train.latest_checkpoint('checkpoints'))\n",
    "    \n",
    "    # Training episodes/epochs\n",
    "    step = 0\n",
    "    for ep in range(train_episodes):\n",
    "        \n",
    "        # Env/agent steps/batches/minibatches\n",
    "        total_reward = 0\n",
    "        q_loss = 0\n",
    "        mean_qs, std_qs = 0, 0\n",
    "        mean_Qs, std_Qs = 0, 0\n",
    "        mean_nextQs, std_nextQs = 0, 0\n",
    "        t = 0\n",
    "        while t < max_steps:\n",
    "            step += 1\n",
    "            \n",
    "            # Uncomment this next line to watch the training\n",
    "            # env.render() \n",
    "            \n",
    "            # Explore or Exploit\n",
    "            explore_p = explore_stop + (explore_start - explore_stop)*np.exp(-decay_rate*step) \n",
    "            if explore_p > np.random.rand():\n",
    "                # Make a random action\n",
    "                action = env.action_space.sample()\n",
    "            else:\n",
    "                # Get action from model\n",
    "                feed_dict = {model.states: state.reshape((1, *state.shape))}\n",
    "                actions_logits = sess.run(model.actions_logits, feed_dict)\n",
    "                action = np.argmax(actions_logits)\n",
    "            \n",
    "            # Take action, get new state and reward\n",
    "            next_state, reward, done, _ = env.step(action)\n",
    "    \n",
    "            # Cumulative reward\n",
    "            total_reward += reward\n",
    "            \n",
    "            # Episode/epoch training is done/failed!\n",
    "            if done:\n",
    "                # the episode ends so no next state\n",
    "                next_state = np.zeros(state.shape)\n",
    "                t = max_steps\n",
    "                \n",
    "                print('-------------------------------------------------------------------------------')\n",
    "                print('Episode: {}'.format(ep),\n",
    "                      'Total reward: {}'.format(total_reward),\n",
    "                      'Training mean qs: {:.4f}'.format(np.mean(qs)),\n",
    "                      'Training std qs: {:.4f}'.format(np.std(qs)),\n",
    "                      'Training mean Qs: {:.4f}'.format(np.mean(Qs)),\n",
    "                      'Training std Qs: {:.4f}'.format(np.std(Qs)),\n",
    "                      'Training mean nextQs: {:.4f}'.format(np.mean(nextQs)),\n",
    "                      'Training std nextQs: {:.4f}'.format(np.std(nextQs)),\n",
    "                      'Training q_loss: {:.4f}'.format(q_loss),\n",
    "                      'Explore P: {:.4f}'.format(explore_p))\n",
    "                print('-------------------------------------------------------------------------------')\n",
    "                \n",
    "                # total rewards and losses for plotting\n",
    "                rewards_list.append((ep, total_reward))\n",
    "                q_loss_list.append((ep, q_loss))\n",
    "                mean_qs_list.append((ep, np.mean(qs)))\n",
    "                std_qs_list.append((ep, np.std(qs)))\n",
    "                mean_Qs_list.append((ep, np.mean(Qs)))\n",
    "                std_Qs_list.append((ep, np.std(Qs)))\n",
    "                mean_nextQs_list.append((ep, np.mean(nextQs)))\n",
    "                std_nextQs_list.append((ep, np.std(nextQs)))\n",
    "                \n",
    "                # Add experience to memory\n",
    "                memory.add((state, action, reward, next_state))\n",
    "                \n",
    "                # Start new episode\n",
    "                env.reset()\n",
    "                \n",
    "                # Take one random step to get the pole and cart moving\n",
    "                state, reward, done, _ = env.step(env.action_space.sample())\n",
    "\n",
    "            else:\n",
    "                # Add experience to memory\n",
    "                memory.add((state, action, reward, next_state))\n",
    "                state = next_state\n",
    "                t += 1\n",
    "            \n",
    "            # Sample mini-batch from memory\n",
    "            batch = memory.sample(batch_size)\n",
    "            states = np.array([each[0] for each in batch])\n",
    "            actions = np.array([each[1] for each in batch])\n",
    "            #rewards = np.array([each[2] for each in batch])\n",
    "            next_states = np.array([each[3] for each in batch])\n",
    "            \n",
    "            # Set target_Qs to 0 for states where episode ends\n",
    "            episode_ends = (next_states == np.zeros(states[0].shape)).all(axis=1) # boolean\n",
    "\n",
    "            # Calculating nextQt/future rewards: Qt = Rs + (gamma * nextQs)\n",
    "            feed_dict={model.states: next_states}\n",
    "            next_actions_logits = sess.run(model.actions_logits, feed_dict)            \n",
    "            next_actions_mask = (1 - episode_ends.astype(next_actions_logits.dtype)).reshape(-1, 1) \n",
    "            #nextQs = next_actions_logits * next_actions_mask\n",
    "            nextQs_masked = np.multiply(next_actions_logits, next_actions_mask)\n",
    "            nextQs = np.max(nextQs_masked, axis=1)\n",
    "\n",
    "            # Updating the model\n",
    "            feed_dict = {model.states: states, model.actions: actions, model.nextQs: nextQs}\n",
    "            Qs, qs, q_loss, _ = sess.run([model.Qs, model.qs, model.q_loss, model.q_opt], feed_dict)\n",
    "            \n",
    "    # Save the trained model\n",
    "    saver.save(sess, 'checkpoints/model.ckpt')"
   ]
  },
  {
   "cell_type": "markdown",
   "metadata": {},
   "source": [
    "## Visualizing training\n",
    "\n",
    "Below I'll plot the total rewards for each episode. I'm plotting the rolling average too, in blue."
   ]
  },
  {
   "cell_type": "code",
   "execution_count": 64,
   "metadata": {},
   "outputs": [],
   "source": [
    "%matplotlib inline\n",
    "import matplotlib.pyplot as plt\n",
    "\n",
    "def running_mean(x, N):\n",
    "    cumsum = np.cumsum(np.insert(x, 0, 0)) \n",
    "    return (cumsum[N:] - cumsum[:-N]) / N"
   ]
  },
  {
   "cell_type": "code",
   "execution_count": 65,
   "metadata": {},
   "outputs": [
    {
     "data": {
      "text/plain": [
       "Text(0.5,0,'Episode')"
      ]
     },
     "execution_count": 65,
     "metadata": {},
     "output_type": "execute_result"
    },
    {
     "data": {
      "image/png": "[encoded data removed]",
      "text/plain": [
       "<Figure size 432x288 with 1 Axes>"
      ]
     },
     "metadata": {},
     "output_type": "display_data"
    }
   ],
   "source": [
    "eps, arr = np.array(rewards_list).T\n",
    "smoothed_arr = running_mean(arr, 10)\n",
    "plt.plot(eps[-len(smoothed_arr):], smoothed_arr)\n",
    "plt.plot(eps, arr, color='grey', alpha=0.3)\n",
    "plt.xlabel('Episode')\n",
    "# plt.ylabel('Total rewards')"
   ]
  },
  {
   "cell_type": "code",
   "execution_count": 66,
   "metadata": {},
   "outputs": [
    {
     "data": {
      "text/plain": [
       "Text(0.5,0,'Episode')"
      ]
     },
     "execution_count": 66,
     "metadata": {},
     "output_type": "execute_result"
    },
    {
     "data": {
      "image/png": "[encoded data removed]",
      "text/plain": [
       "<Figure size 432x288 with 1 Axes>"
      ]
     },
     "metadata": {},
     "output_type": "display_data"
    }
   ],
   "source": [
    "eps, arr = np.array(q_loss_list).T\n",
    "smoothed_arr = running_mean(arr, 10)\n",
    "plt.plot(eps[-len(smoothed_arr):], smoothed_arr)\n",
    "plt.plot(eps, arr, color='grey', alpha=0.3)\n",
    "plt.xlabel('Episode')\n",
    "# plt.ylabel('Q losses')"
   ]
  },
  {
   "cell_type": "code",
   "execution_count": 67,
   "metadata": {},
   "outputs": [
    {
     "data": {
      "text/plain": [
       "Text(0.5,0,'Episode')"
      ]
     },
     "execution_count": 67,
     "metadata": {},
     "output_type": "execute_result"
    },
    {
     "data": {
      "image/png": "[encoded data removed]",
      "text/plain": [
       "<Figure size 432x288 with 1 Axes>"
      ]
     },
     "metadata": {},
     "output_type": "display_data"
    }
   ],
   "source": [
    "eps, arr = np.array(mean_qs_list).T\n",
    "smoothed_arr = running_mean(arr, 10)\n",
    "plt.plot(eps[-len(smoothed_arr):], smoothed_arr)\n",
    "plt.plot(eps, arr, color='grey', alpha=0.3)\n",
    "plt.xlabel('Episode')\n",
    "# plt.ylabel('Q losses')"
   ]
  },
  {
   "cell_type": "code",
   "execution_count": 68,
   "metadata": {},
   "outputs": [
    {
     "data": {
      "text/plain": [
       "Text(0.5,0,'Episode')"
      ]
     },
     "execution_count": 68,
     "metadata": {},
     "output_type": "execute_result"
    },
    {
     "data": {
      "image/png": "[encoded data removed]",
      "text/plain": [
       "<Figure size 432x288 with 1 Axes>"
      ]
     },
     "metadata": {},
     "output_type": "display_data"
    }
   ],
   "source": [
    "eps, arr = np.array(std_qs_list).T\n",
    "smoothed_arr = running_mean(arr, 10)\n",
    "plt.plot(eps[-len(smoothed_arr):], smoothed_arr)\n",
    "plt.plot(eps, arr, color='grey', alpha=0.3)\n",
    "plt.xlabel('Episode')\n",
    "# plt.ylabel('Q losses')"
   ]
  },
  {
   "cell_type": "code",
   "execution_count": 69,
   "metadata": {},
   "outputs": [
    {
     "data": {
      "text/plain": [
       "Text(0.5,0,'Episode')"
      ]
     },
     "execution_count": 69,
     "metadata": {},
     "output_type": "execute_result"
    },
    {
     "data": {
      "image/png": "[encoded data removed]",
      "text/plain": [
       "<Figure size 432x288 with 1 Axes>"
      ]
     },
     "metadata": {},
     "output_type": "display_data"
    }
   ],
   "source": [
    "eps, arr = np.array(mean_Qs_list).T\n",
    "smoothed_arr = running_mean(arr, 10)\n",
    "plt.plot(eps[-len(smoothed_arr):], smoothed_arr)\n",
    "plt.plot(eps, arr, color='grey', alpha=0.3)\n",
    "plt.xlabel('Episode')\n",
    "# plt.ylabel('Q losses')"
   ]
  },
  {
   "cell_type": "code",
   "execution_count": 70,
   "metadata": {},
   "outputs": [
    {
     "data": {
      "text/plain": [
       "Text(0.5,0,'Episode')"
      ]
     },
     "execution_count": 70,
     "metadata": {},
     "output_type": "execute_result"
    },
    {
     "data": {
      "image/png": "[encoded data removed]",
      "text/plain": [
       "<Figure size 432x288 with 1 Axes>"
      ]
     },
     "metadata": {},
     "output_type": "display_data"
    }
   ],
   "source": [
    "eps, arr = np.array(std_Qs_list).T\n",
    "smoothed_arr = running_mean(arr, 10)\n",
    "plt.plot(eps[-len(smoothed_arr):], smoothed_arr)\n",
    "plt.plot(eps, arr, color='grey', alpha=0.3)\n",
    "plt.xlabel('Episode')\n",
    "# plt.ylabel('Q losses')"
   ]
  },
  {
   "cell_type": "code",
   "execution_count": 71,
   "metadata": {},
   "outputs": [
    {
     "data": {
      "text/plain": [
       "Text(0.5,0,'Episode')"
      ]
     },
     "execution_count": 71,
     "metadata": {},
     "output_type": "execute_result"
    },
    {
     "data": {
      "image/png": "[encoded data removed]",
      "text/plain": [
       "<Figure size 432x288 with 1 Axes>"
      ]
     },
     "metadata": {},
     "output_type": "display_data"
    }
   ],
   "source": [
    "eps, arr = np.array(mean_nextQs_list).T\n",
    "smoothed_arr = running_mean(arr, 10)\n",
    "plt.plot(eps[-len(smoothed_arr):], smoothed_arr)\n",
    "plt.plot(eps, arr, color='grey', alpha=0.3)\n",
    "plt.xlabel('Episode')\n",
    "# plt.ylabel('Q losses')"
   ]
  },
  {
   "cell_type": "code",
   "execution_count": 72,
   "metadata": {},
   "outputs": [
    {
     "data": {
      "text/plain": [
       "Text(0.5,0,'Episode')"
      ]
     },
     "execution_count": 72,
     "metadata": {},
     "output_type": "execute_result"
    },
    {
     "data": {
      "image/png": "[encoded data removed]",
      "text/plain": [
       "<Figure size 432x288 with 1 Axes>"
      ]
     },
     "metadata": {},
     "output_type": "display_data"
    }
   ],
   "source": [
    "eps, arr = np.array(std_nextQs_list).T\n",
    "smoothed_arr = running_mean(arr, 10)\n",
    "plt.plot(eps[-len(smoothed_arr):], smoothed_arr)\n",
    "plt.plot(eps, arr, color='grey', alpha=0.3)\n",
    "plt.xlabel('Episode')\n",
    "# plt.ylabel('Q losses')"
   ]
  },
  {
   "cell_type": "markdown",
   "metadata": {},
   "source": [
    "## Testing\n",
    "\n",
    "Let's checkout how our trained agent plays the game."
   ]
  },
  {
   "cell_type": "code",
   "execution_count": 25,
   "metadata": {},
   "outputs": [
    {
     "name": "stdout",
     "output_type": "stream",
     "text": [
      "INFO:tensorflow:Restoring parameters from checkpoints/model.ckpt\n"
     ]
    }
   ],
   "source": [
    "test_episodes = 1\n",
    "test_max_steps = 20000000000000000000000000000000000000000000000000000000000000000000000000000000000000000000\n",
    "\n",
    "# # # Create the env after closing it.\n",
    "# env = gym.make('CartPole-v0')\n",
    "# # env = gym.make('Acrobot-v1')\n",
    "env.reset()\n",
    "\n",
    "with tf.Session() as sess:\n",
    "    \n",
    "    # Restore/load the trained model \n",
    "    #saver.restore(sess, 'checkpoints/QGAN-cartpole.ckpt')    \n",
    "    saver.restore(sess, tf.train.latest_checkpoint('checkpoints'))\n",
    "    \n",
    "    # iterations\n",
    "    for ep in range(test_episodes):\n",
    "        \n",
    "        # number of env/rob steps\n",
    "        t = 0\n",
    "        while t < test_max_steps:\n",
    "            \n",
    "            # Rendering the env graphics\n",
    "            env.render()\n",
    "            \n",
    "            # Get action from DQAN\n",
    "            feed_dict = {model.states: state.reshape((1, *state.shape))}\n",
    "            actions_logits = sess.run(model.actions_logits, feed_dict)\n",
    "            action = np.argmax(actions_logits)\n",
    "            \n",
    "            # Take action, get new state and reward\n",
    "            next_state, reward, done, _ = env.step(action)\n",
    "            \n",
    "            # The task is done or not;\n",
    "            if done:\n",
    "                t = test_max_steps\n",
    "                env.reset()\n",
    "                \n",
    "                # Take one random step to get the pole and cart moving\n",
    "                state, reward, done, _ = env.step(env.action_space.sample())\n",
    "            else:\n",
    "                state = next_state\n",
    "                t += 1"
   ]
  },
  {
   "cell_type": "code",
   "execution_count": 26,
   "metadata": {},
   "outputs": [],
   "source": [
    "# Closing the env\n",
    "# WARNING: If you close, you can NOT restart again!!!!!!\n",
    "env.close()"
   ]
  },
  {
   "cell_type": "markdown",
   "metadata": {},
   "source": [
    "## Extending this to Deep Convolutional QAN\n",
    "\n",
    "So, Cart-Pole is a pretty simple game. However, the same model can be used to train an agent to play something much more complicated like Pong or Space Invaders. Instead of a state like we're using here though, you'd want to use convolutional layers to get the state from the screen images.\n",
    "\n",
    "![Deep Q-Learning Atari](assets/atari-network.png)\n",
    "\n",
    "I'll leave it as a challenge for you to use deep Q-learning to train an agent to play Atari games. Here's the original paper which will get you started: http://www.davidqiu.com:8888/research/nature14236.pdf."
   ]
  },
  {
   "cell_type": "code",
   "execution_count": null,
   "metadata": {},
   "outputs": [],
   "source": []
  }
 ],
 "metadata": {
  "kernelspec": {
   "display_name": "Python 3",
   "language": "python",
   "name": "python3"
  },
  "language_info": {
   "codemirror_mode": {
    "name": "ipython",
    "version": 3
   },
   "file_extension": ".py",
   "mimetype": "text/x-python",
   "name": "python",
   "nbconvert_exporter": "python",
   "pygments_lexer": "ipython3",
   "version": "3.6.5"
  }
 },
 "nbformat": 4,
 "nbformat_minor": 2
}
