{
 "cells": [
  {
   "cell_type": "code",
   "execution_count": 1,
   "metadata": {},
   "outputs": [
    {
     "name": "stderr",
     "output_type": "stream",
     "text": [
      "/home/arasdar/anaconda3/envs/env/lib/python3.6/site-packages/ipykernel_launcher.py:37: FutureWarning: Method .as_matrix will be removed in a future version. Use .values instead.\n"
     ]
    },
    {
     "name": "stdout",
     "output_type": "stream",
     "text": [
      "0.16675734494015235 0.1459466811751904 0.13411316648531013 0.1749183895538629 0.1868879216539717 0.1913764961915125\n",
      "(7352, 128, 9) float64 (2947, 128, 9) float64\n",
      "(7352,) int64 (2947,) int64\n"
     ]
    }
   ],
   "source": [
    "# HAR classification \n",
    "# Author: Burak Himmetoglu\n",
    "# 8/15/2017\n",
    "\n",
    "import pandas as pd \n",
    "import numpy as np\n",
    "import os\n",
    "\n",
    "def read_data(data_path, split = \"train\"):\n",
    "\t\"\"\" Read data \"\"\"\n",
    "\n",
    "\t# Fixed params\n",
    "\tn_class = 6\n",
    "\tn_steps = 128\n",
    "\n",
    "\t# Paths\n",
    "\tpath_ = os.path.join(data_path, split)\n",
    "\tpath_signals = os.path.join(path_, \"Inertial_Signals\")\n",
    "\n",
    "\t# Read labels and one-hot encode\n",
    "\tlabel_path = os.path.join(path_, \"y_\" + split + \".txt\")\n",
    "\tlabels = pd.read_csv(label_path, header = None)\n",
    "\n",
    "\t# Read time-series data\n",
    "\tchannel_files = os.listdir(path_signals)\n",
    "\tchannel_files.sort()\n",
    "\tn_channels = len(channel_files)\n",
    "\tposix = len(split) + 5\n",
    "\n",
    "\t# Initiate array\n",
    "\tlist_of_channels = []\n",
    "\tX = np.zeros((len(labels), n_steps, n_channels))\n",
    "\ti_ch = 0\n",
    "\tfor fil_ch in channel_files:\n",
    "\t\tchannel_name = fil_ch[:-posix]\n",
    "\t\tdat_ = pd.read_csv(os.path.join(path_signals,fil_ch), delim_whitespace = True, header = None)\n",
    "\t\tX[:,:,i_ch] = dat_.as_matrix()\n",
    "\n",
    "\t\t# Record names\n",
    "\t\tlist_of_channels.append(channel_name)\n",
    "\n",
    "\t\t# iterate\n",
    "\t\ti_ch += 1\n",
    "\n",
    "\t# Return \n",
    "\treturn X, labels[0].values, list_of_channels\n",
    "\n",
    "# test and train read\n",
    "Xtrain, Ytrain, _ = read_data(data_path=\"/home/arasdar/datasets/har-data/\", split=\"train\")\n",
    "Xtest, Ytest, _ = read_data(data_path=\"/home/arasdar/datasets/har-data/\", split=\"test\")\n",
    "\n",
    "# assert list_ch_train_valid == list_ch_test, \"Mistmatch in channels!\"\n",
    "assert Ytrain.max(axis=0) == Ytest.max(axis=0), 'Mismatch in channels of Ytrain and Ytest'\n",
    "\n",
    "# balanced data or not\n",
    "print(np.mean(Ytrain==1), np.mean(Ytrain==2), np.mean(Ytrain==3), \n",
    "      np.mean(Ytrain==4), np.mean(Ytrain==5), np.mean(Ytrain==6))\n",
    "\n",
    "print(Xtrain.shape, Xtrain.dtype, Xtest.shape, Xtest.dtype)\n",
    "print(Ytrain.shape, Ytrain.dtype, Ytest.shape, Ytest.dtype)"
   ]
  },
  {
   "cell_type": "code",
   "execution_count": 2,
   "metadata": {},
   "outputs": [
    {
     "name": "stdout",
     "output_type": "stream",
     "text": [
      "(7352, 128, 9) float64\n",
      "(2947, 128, 9) float64\n"
     ]
    }
   ],
   "source": [
    "# # standardizing/normalizing the train and test data\n",
    "# def standardize(train, test):\n",
    "# \"\"\" Standardize data \"\"\"\n",
    "# # Standardize train and test\n",
    "# X_train = (train - np.mean(train, axis=0)[None,:,:]) / np.std(train, axis=0)[None,:,:]\n",
    "# X_test = (test - np.mean(test, axis=0)[None,:,:]) / np.std(test, axis=0)[None,:,:]\n",
    "# return X_train, X_test\n",
    "\n",
    "Xtrain = (Xtrain - Xtrain.mean(axis=0))/ Xtrain.std(axis=0)\n",
    "Xtest = (Xtest - Xtest.mean(axis=0))/ Xtest.std(axis=0)\n",
    "print(Xtrain.shape, Xtrain.dtype)\n",
    "print(Xtest.shape, Xtest.dtype)\n",
    "# # Normalizing/standardizing the input data features\n",
    "# Xtrain, Xtest = standardize(train=Xtrain, test=Xtest)"
   ]
  },
  {
   "cell_type": "code",
   "execution_count": 3,
   "metadata": {},
   "outputs": [
    {
     "name": "stdout",
     "output_type": "stream",
     "text": [
      "[[ 7.29829690e-17 -1.02082531e-17  1.57352066e-17 ... -4.98687012e-15\n",
      "   1.85772084e-16  1.49046535e-16]\n",
      " [-3.78883238e-17 -3.43169454e-17  2.59223183e-16 ...  1.22050349e-15\n",
      "   4.80512740e-17 -4.62565242e-16]\n",
      " [ 1.84533805e-17 -2.06052682e-17 -3.44906065e-17 ... -2.15841883e-16\n",
      "   2.85362956e-16 -3.28763132e-16]\n",
      " ...\n",
      " [ 4.40797199e-17 -2.73629505e-17 -1.20505709e-17 ...  5.30356876e-15\n",
      "   5.48165068e-17 -3.37113966e-16]\n",
      " [ 2.29534684e-17  5.79273058e-17  8.81896418e-18 ...  2.48264790e-15\n",
      "  -1.15794208e-16  4.64958745e-17]\n",
      " [ 4.27810368e-17  1.22921864e-17 -3.12589997e-17 ... -1.67407304e-15\n",
      "   1.10599475e-16 -3.55174722e-16]] [[1. 1. 1. ... 1. 1. 1.]\n",
      " [1. 1. 1. ... 1. 1. 1.]\n",
      " [1. 1. 1. ... 1. 1. 1.]\n",
      " ...\n",
      " [1. 1. 1. ... 1. 1. 1.]\n",
      " [1. 1. 1. ... 1. 1. 1.]\n",
      " [1. 1. 1. ... 1. 1. 1.]]\n"
     ]
    }
   ],
   "source": [
    "print(Xtrain.mean(axis=0), Xtrain.std(axis=0))"
   ]
  },
  {
   "cell_type": "code",
   "execution_count": 4,
   "metadata": {},
   "outputs": [
    {
     "name": "stdout",
     "output_type": "stream",
     "text": [
      "[[ 7.16540276e-17  1.80830354e-17  2.95356244e-17 ... -4.00445992e-15\n",
      "   3.99333697e-17  2.13869566e-16]\n",
      " [ 5.58878811e-17  3.33782694e-17  5.28928784e-17 ...  6.23404167e-15\n",
      "   7.13526437e-17 -1.22135835e-16]\n",
      " [ 1.11512051e-17  8.43874983e-18  4.68652000e-17 ... -2.75390501e-15\n",
      "  -1.09251672e-17 -8.88329112e-17]\n",
      " ...\n",
      " [ 1.58980019e-17 -3.98580238e-17  3.31522315e-18 ... -1.33149533e-15\n",
      "   6.84894964e-17 -1.86330610e-16]\n",
      " [ 4.07810120e-17  5.57277709e-17  3.27001556e-17 ...  3.11386101e-16\n",
      "   1.40520254e-17 -2.61751937e-16]\n",
      " [ 9.20162788e-18 -4.68275270e-17 -4.47555125e-17 ... -1.35942986e-16\n",
      "   4.69028729e-17  2.26923257e-16]] [[1. 1. 1. ... 1. 1. 1.]\n",
      " [1. 1. 1. ... 1. 1. 1.]\n",
      " [1. 1. 1. ... 1. 1. 1.]\n",
      " ...\n",
      " [1. 1. 1. ... 1. 1. 1.]\n",
      " [1. 1. 1. ... 1. 1. 1.]\n",
      " [1. 1. 1. ... 1. 1. 1.]]\n"
     ]
    }
   ],
   "source": [
    "print(Xtest.mean(axis=0), Xtest.std(axis=0))"
   ]
  },
  {
   "cell_type": "code",
   "execution_count": 5,
   "metadata": {},
   "outputs": [],
   "source": [
    "# # # Onehotencoding of the output labels\n",
    "# # def onehot(labels, n_class):\n",
    "# # \t\"\"\" One-hot encoding \"\"\"\n",
    "# # \texpansion = np.eye(n_class)\n",
    "# # \ty = expansion[:, labels-1].T\n",
    "# # \tassert y.shape[1] == n_class, \"Wrong number of labels!\"\n",
    "\n",
    "# # \treturn y\n",
    "\n",
    "# print(Ytrain.max(axis=0), Ytest.max(axis=0))\n",
    "# assert Ytrain.max(axis=0) == Ytest.max(axis=0), 'wrong labels'\n",
    "\n",
    "# # Ytrain=onehot(labels=Ytrain, n_class=Ytrain.max(axis=0))\n",
    "# # Ytest=onehot(labels=Ytest, n_class=Ytest.max(axis=0))\n",
    "# # print(Ytrain.shape, Ytrain.dtype, Ytest.shape, Ytest.dtype)"
   ]
  },
  {
   "cell_type": "code",
   "execution_count": 6,
   "metadata": {},
   "outputs": [
    {
     "name": "stdout",
     "output_type": "stream",
     "text": [
      "(5146, 128, 9) (2206, 128, 9) (2947, 128, 9) float64 float64 float64\n",
      "(5146,) (2206,) (2947,) int64 int64 int64\n"
     ]
    }
   ],
   "source": [
    "from sklearn.model_selection import train_test_split\n",
    "\n",
    "# Now separating train and validation set\n",
    "# 30% of the training data/ entire training data is assigned to validation.\n",
    "Xtrain, Xvalid, Ytrain, Yvalid = train_test_split(Xtrain, Ytrain, test_size=0.30)\n",
    "print(Xtrain.shape, Xvalid.shape, Xtest.shape, Xtrain.dtype, Xvalid.dtype, Xtest.dtype)\n",
    "print(Ytrain.shape, Yvalid.shape, Ytest.shape, Ytrain.dtype, Yvalid.dtype, Ytest.dtype)"
   ]
  },
  {
   "cell_type": "code",
   "execution_count": 7,
   "metadata": {},
   "outputs": [
    {
     "name": "stdout",
     "output_type": "stream",
     "text": [
      "TensorFlow Version: 1.8.0\n",
      "Default GPU Device: /device:GPU:0\n"
     ]
    }
   ],
   "source": [
    "# In this one we should define and detect GPUs for tensorflow\n",
    "# GPUs or CPU\n",
    "import tensorflow as tf\n",
    "\n",
    "# Check TensorFlow Version\n",
    "print('TensorFlow Version: {}'.format(tf.__version__))\n",
    "\n",
    "# Check for a GPU\n",
    "print('Default GPU Device: {}'.format(tf.test.gpu_device_name()))"
   ]
  },
  {
   "cell_type": "code",
   "execution_count": 17,
   "metadata": {},
   "outputs": [
    {
     "name": "stdout",
     "output_type": "stream",
     "text": [
      "(?, 128, 9) <dtype: 'float32'> (5146, 128, 9) float64 (2206, 128, 9) float64 (2947, 128, 9) float64\n"
     ]
    }
   ],
   "source": [
    "# now I can design the actual input and output tensors\n",
    "N, W, Cin = Xvalid.shape[0], Xvalid.shape[1], Xvalid.shape[2]\n",
    "Xinput = tf.placeholder(dtype=tf.float32, name=None, shape=[None, W, Cin])\n",
    "print(Xinput.shape, Xinput.dtype, Xtrain.shape, Xtrain.dtype, Xvalid.shape, Xvalid.dtype, Xtest.shape, Xtest.dtype)"
   ]
  },
  {
   "cell_type": "code",
   "execution_count": 18,
   "metadata": {},
   "outputs": [],
   "source": [
    "# # This is the output tensor for labels\n",
    "# N, Cout = Yvalid.shape[0], Yvalid.shape[1]\n",
    "# Ylabels = tf.placeholder(dtype=tf.float32, name=None, shape=[N, Cout])\n",
    "# print(Ylabels.shape, Ylabels.dtype, Ytrain.shape, Ytrain.dtype, Yvalid.shape, Yvalid.dtype, Ytest.shape, Ytest.dtype)"
   ]
  },
  {
   "cell_type": "code",
   "execution_count": 19,
   "metadata": {},
   "outputs": [
    {
     "name": "stdout",
     "output_type": "stream",
     "text": [
      "(?,) <dtype: 'int32'> (5146,) int64 (2206,) int64 (2947,) int64\n"
     ]
    }
   ],
   "source": [
    "# This is the output tensor for indices which sould be onehot-encoded for training\n",
    "Yindices = tf.placeholder(dtype=tf.int32, name=None, shape=[None])\n",
    "print(Yindices.shape, Yindices.dtype, Ytrain.shape, Ytrain.dtype, Yvalid.shape, Yvalid.dtype, Ytest.shape, Ytest.dtype)"
   ]
  },
  {
   "cell_type": "code",
   "execution_count": 20,
   "metadata": {},
   "outputs": [
    {
     "name": "stdout",
     "output_type": "stream",
     "text": [
      "(?, 128, 9) <dtype: 'float32'>\n",
      "(128, ?, 9) <dtype: 'float32'>\n",
      "(?, 9) <dtype: 'float32'>\n",
      "128 (?, 9) <dtype: 'float32'>\n"
     ]
    }
   ],
   "source": [
    "# Xinput NxWxCin => WxNxCin == (seq_len, N, n_channels)\n",
    "print(Xinput.shape, Xinput.dtype)\n",
    "\n",
    "# inputs = tf.transpose(a=Xinput, perm=[1,0,2]) # reshape into (seq_len, N, channels)\n",
    "inputs = tf.transpose(Xinput, [1,0,2]) # reshape into (seq_len, N, channels)\n",
    "print(inputs.shape, inputs.dtype)\n",
    "\n",
    "shape=[-1, Cin]\n",
    "# shape = [inputs.shape[0].value * inputs.shape[1].value, inputs.shape[2].value]\n",
    "inputs = tf.reshape(tensor=inputs, shape=shape) # (W*N, Cin)\n",
    "print(inputs.shape, inputs.dtype)\n",
    "\n",
    "# Open up the tensor into a list of seq_len pieces\n",
    "inputs = tf.split(value=inputs, num_or_size_splits=W, axis=0)\n",
    "print(len(inputs), inputs[0].shape, inputs[0].dtype)"
   ]
  },
  {
   "cell_type": "code",
   "execution_count": 21,
   "metadata": {},
   "outputs": [
    {
     "name": "stdout",
     "output_type": "stream",
     "text": [
      "27\n",
      "<tensorflow.python.ops.rnn_cell_impl.BasicLSTMCell object at 0x7ff16be86748>\n"
     ]
    }
   ],
   "source": [
    "# RNN-LSTM parameters\n",
    "lstm_size = 3 * Cin # 3 times the amount of channels\n",
    "print(lstm_size)\n",
    "\n",
    "# Add LSTM layers\n",
    "# lstm = tf.contrib.rnn.BasicLSTMCell(lstm_size)\n",
    "lstm = tf.nn.rnn_cell.BasicLSTMCell(num_units=lstm_size)\n",
    "print(lstm)"
   ]
  },
  {
   "cell_type": "code",
   "execution_count": 22,
   "metadata": {},
   "outputs": [],
   "source": [
    "# drop = tf.nn.rnn_cell.DropoutWrapper(lstm, output_keep_prob=keep_prob_)\n",
    "lstm_layers = 1 # Number of layers\n",
    "cell = tf.nn.rnn_cell.MultiRNNCell(cells=[lstm] * lstm_layers)"
   ]
  },
  {
   "cell_type": "code",
   "execution_count": 23,
   "metadata": {},
   "outputs": [],
   "source": [
    "initial_state = cell.zero_state(batch_size=N, dtype=tf.float32)"
   ]
  },
  {
   "cell_type": "code",
   "execution_count": 24,
   "metadata": {},
   "outputs": [
    {
     "name": "stdout",
     "output_type": "stream",
     "text": [
      "128 (2206, 27) <dtype: 'float32'> 1\n"
     ]
    }
   ],
   "source": [
    "outputs, final_state = tf.nn.static_rnn(cell=cell, inputs=inputs, dtype=tf.float32, initial_state=initial_state)\n",
    "print(len(outputs), outputs[0].shape, outputs[0].dtype, len(final_state))"
   ]
  },
  {
   "cell_type": "code",
   "execution_count": 25,
   "metadata": {},
   "outputs": [
    {
     "name": "stdout",
     "output_type": "stream",
     "text": [
      "6 6 6\n",
      "1 1 1\n"
     ]
    }
   ],
   "source": [
    "print(Ytrain.max(axis=0), Yvalid.max(axis=0), Ytest.max(axis=0))\n",
    "print(Ytrain.min(axis=0), Yvalid.min(axis=0), Ytest.min(axis=0))\n",
    "assert Ytrain.max(axis=0) == Ytest.max(axis=0), 'wrong labels'\n",
    "Cout = Ytrain.max(axis=0)"
   ]
  },
  {
   "cell_type": "code",
   "execution_count": 28,
   "metadata": {},
   "outputs": [
    {
     "name": "stdout",
     "output_type": "stream",
     "text": [
      "(2206, 6) <dtype: 'float32'>\n",
      "128 (2206, 27) <dtype: 'float32'> (LSTMStateTuple(c=<tf.Tensor 'rnn/rnn/multi_rnn_cell/cell_0/basic_lstm_cell/Add_255:0' shape=(2206, 27) dtype=float32>, h=<tf.Tensor 'rnn/rnn/multi_rnn_cell/cell_0/basic_lstm_cell/Mul_383:0' shape=(2206, 27) dtype=float32>),)\n"
     ]
    }
   ],
   "source": [
    "# We only need the last output tensor to pass into a classifier\n",
    "Ylogits = tf.layers.dense(inputs=outputs[-1], units=Cout, name=None)\n",
    "print(Ylogits.shape, Ylogits.dtype)\n",
    "print(len(outputs), outputs[-1].shape, outputs[-1].dtype, final_state)"
   ]
  },
  {
   "cell_type": "code",
   "execution_count": 29,
   "metadata": {},
   "outputs": [
    {
     "name": "stdout",
     "output_type": "stream",
     "text": [
      "Tensor(\"softmax_cross_entropy_with_logits/Reshape_2:0\", shape=(2206,), dtype=float32)\n",
      "Tensor(\"Mean:0\", shape=(), dtype=float32)\n"
     ]
    }
   ],
   "source": [
    "# Backward pass: error backpropagation\n",
    "# Cost function\n",
    "Ylabels = tf.one_hot(depth=Cout, indices=Yindices, dtype=Ylogits.dtype)\n",
    "loss = tf.nn.softmax_cross_entropy_with_logits_v2(logits=Ylogits, labels=Ylabels)\n",
    "print(loss)\n",
    "loss = tf.reduce_mean(input_tensor=loss)\n",
    "print(loss)"
   ]
  },
  {
   "cell_type": "code",
   "execution_count": 30,
   "metadata": {},
   "outputs": [
    {
     "name": "stdout",
     "output_type": "stream",
     "text": [
      "optimizer name: \"Adam\"\n",
      "op: \"NoOp\"\n",
      "input: \"^Adam/update_rnn/multi_rnn_cell/cell_0/basic_lstm_cell/kernel/ApplyAdam\"\n",
      "input: \"^Adam/update_rnn/multi_rnn_cell/cell_0/basic_lstm_cell/bias/ApplyAdam\"\n",
      "input: \"^Adam/update_dense_1/kernel/ApplyAdam\"\n",
      "input: \"^Adam/update_dense_1/bias/ApplyAdam\"\n",
      "input: \"^Adam/Assign\"\n",
      "input: \"^Adam/Assign_1\"\n",
      "\n"
     ]
    }
   ],
   "source": [
    "# Optimizer\n",
    "optimizer = tf.train.AdamOptimizer().minimize(loss=loss)\n",
    "print('optimizer', optimizer)"
   ]
  },
  {
   "cell_type": "code",
   "execution_count": 31,
   "metadata": {},
   "outputs": [
    {
     "name": "stdout",
     "output_type": "stream",
     "text": [
      "Tensor(\"ArgMax:0\", shape=(2206,), dtype=int64)\n",
      "Tensor(\"ArgMax_1:0\", shape=(?,), dtype=int64)\n",
      "Tensor(\"Equal:0\", shape=(2206,), dtype=bool)\n",
      "Tensor(\"Cast:0\", shape=(2206,), dtype=float32)\n",
      "Tensor(\"Mean_1:0\", shape=(), dtype=float32)\n"
     ]
    }
   ],
   "source": [
    "# Accuracy\n",
    "Ylogits_argmax = tf.argmax(input=Ylogits, axis=1)\n",
    "print(Ylogits_argmax)\n",
    "Ylabels_argmax = tf.argmax(input=Ylabels, axis=1)\n",
    "print(Ylabels_argmax)\n",
    "accuracy = tf.equal(x=Ylogits_argmax, y=Ylabels_argmax, name=None)\n",
    "print(accuracy)\n",
    "accuracy = tf.cast(x=accuracy, dtype=tf.float32)\n",
    "print(accuracy)\n",
    "accuracy = tf.reduce_mean(input_tensor=accuracy, name=None)\n",
    "print(accuracy)"
   ]
  },
  {
   "cell_type": "code",
   "execution_count": 32,
   "metadata": {},
   "outputs": [],
   "source": [
    "# # Confusion matrix\n",
    "# confusion_matrix = tf.confusion_matrix(predictions=tf.argmax(logits, 1),\n",
    "#                                        labels=tf.argmax(labels_, 1))\n",
    "# print('confusion_matrix', confusion_matrix)"
   ]
  },
  {
   "cell_type": "code",
   "execution_count": 33,
   "metadata": {},
   "outputs": [],
   "source": [
    "def get_batches(X, Y, batch_size):\n",
    "    \"\"\" Return a generator for batches \"\"\"\n",
    "    n_batches = len(X) // batch_size\n",
    "    X, Y = X[:n_batches*batch_size], Y[:n_batches*batch_size]\n",
    "\n",
    "    # Loop over batches and yield\n",
    "    for b in range(0, len(X), batch_size):\n",
    "        yield X[b:b+batch_size], Y[b:b+batch_size]"
   ]
  },
  {
   "cell_type": "code",
   "execution_count": 35,
   "metadata": {
    "scrolled": true
   },
   "outputs": [
    {
     "name": "stdout",
     "output_type": "stream",
     "text": [
      "Epoch: 1/100 Train loss: 1.461985 Valid loss: 1.439930 Train acc: 0.154578 Valid acc: 0.179510\n",
      "Epoch: 2/100 Train loss: 1.446088 Valid loss: 1.424938 Train acc: 0.198323 Valid acc: 0.231641\n",
      "Epoch: 3/100 Train loss: 1.430382 Valid loss: 1.409972 Train acc: 0.244787 Valid acc: 0.271079\n",
      "Epoch: 4/100 Train loss: 1.414674 Valid loss: 1.394886 Train acc: 0.279692 Valid acc: 0.282865\n",
      "Epoch: 5/100 Train loss: 1.398807 Valid loss: 1.379520 Train acc: 0.295331 Valid acc: 0.298731\n",
      "Epoch: 6/100 Train loss: 1.382603 Valid loss: 1.363693 Train acc: 0.313463 Valid acc: 0.318676\n",
      "Epoch: 7/100 Train loss: 1.365872 Valid loss: 1.347218 Train acc: 0.341115 Valid acc: 0.355848\n",
      "Epoch: 8/100 Train loss: 1.348424 Valid loss: 1.329931 Train acc: 0.366274 Valid acc: 0.378060\n",
      "Epoch: 9/100 Train loss: 1.330116 Valid loss: 1.311765 Train acc: 0.386673 Valid acc: 0.388486\n",
      "Epoch: 10/100 Train loss: 1.310923 Valid loss: 1.292807 Train acc: 0.394152 Valid acc: 0.394379\n",
      "Epoch: 11/100 Train loss: 1.290991 Valid loss: 1.273324 Train acc: 0.400725 Valid acc: 0.388033\n",
      "Epoch: 12/100 Train loss: 1.270629 Valid loss: 1.253690 Train acc: 0.405485 Valid acc: 0.387579\n",
      "Epoch: 13/100 Train loss: 1.250216 Valid loss: 1.234210 Train acc: 0.401405 Valid acc: 0.368994\n",
      "Epoch: 14/100 Train loss: 1.229998 Valid loss: 1.214866 Train acc: 0.388486 Valid acc: 0.357661\n",
      "Epoch: 15/100 Train loss: 1.209847 Valid loss: 1.195168 Train acc: 0.372167 Valid acc: 0.341795\n",
      "Epoch: 16/100 Train loss: 1.189181 Valid loss: 1.174317 Train acc: 0.361741 Valid acc: 0.338169\n",
      "Epoch: 17/100 Train loss: 1.167207 Valid loss: 1.151605 Train acc: 0.362647 Valid acc: 0.340435\n",
      "Epoch: 18/100 Train loss: 1.143342 Valid loss: 1.126757 Train acc: 0.366500 Valid acc: 0.354488\n",
      "Epoch: 19/100 Train loss: 1.117486 Valid loss: 1.100074 Train acc: 0.378966 Valid acc: 0.369900\n",
      "Epoch: 20/100 Train loss: 1.090101 Valid loss: 1.072378 Train acc: 0.390979 Valid acc: 0.385766\n",
      "Epoch: 21/100 Train loss: 1.062098 Valid loss: 1.044562 Train acc: 0.407072 Valid acc: 0.406165\n",
      "Epoch: 22/100 Train loss: 1.034369 Valid loss: 1.017194 Train acc: 0.419084 Valid acc: 0.418858\n",
      "Epoch: 23/100 Train loss: 1.007349 Valid loss: 0.990627 Train acc: 0.433817 Valid acc: 0.429737\n",
      "Epoch: 24/100 Train loss: 0.981466 Valid loss: 0.965512 Train acc: 0.452629 Valid acc: 0.436990\n",
      "Epoch: 25/100 Train loss: 0.958211 Valid loss: 0.941729 Train acc: 0.455349 Valid acc: 0.448323\n",
      "Epoch: 26/100 Train loss: 0.936300 Valid loss: 0.918906 Train acc: 0.467362 Valid acc: 0.463735\n",
      "Epoch: 27/100 Train loss: 0.914207 Valid loss: 0.897089 Train acc: 0.478468 Valid acc: 0.479148\n",
      "Epoch: 28/100 Train loss: 0.893003 Valid loss: 0.874650 Train acc: 0.498187 Valid acc: 0.484587\n",
      "Epoch: 29/100 Train loss: 0.872337 Valid loss: 0.853920 Train acc: 0.506573 Valid acc: 0.491387\n",
      "Epoch: 30/100 Train loss: 0.852659 Valid loss: 0.834224 Train acc: 0.514279 Valid acc: 0.501813\n",
      "Epoch: 31/100 Train loss: 0.833371 Valid loss: 0.815332 Train acc: 0.515186 Valid acc: 0.498640\n",
      "Epoch: 32/100 Train loss: 0.814384 Valid loss: 0.797185 Train acc: 0.511559 Valid acc: 0.515413\n",
      "Epoch: 33/100 Train loss: 0.796255 Valid loss: 0.781426 Train acc: 0.521759 Valid acc: 0.516772\n",
      "Epoch: 34/100 Train loss: 0.780259 Valid loss: 0.767639 Train acc: 0.523119 Valid acc: 0.517679\n",
      "Epoch: 35/100 Train loss: 0.767507 Valid loss: 0.756163 Train acc: 0.524932 Valid acc: 0.518132\n",
      "Epoch: 36/100 Train loss: 0.756230 Valid loss: 0.745300 Train acc: 0.526519 Valid acc: 0.519946\n",
      "Epoch: 37/100 Train loss: 0.745206 Valid loss: 0.736138 Train acc: 0.529238 Valid acc: 0.521759\n",
      "Epoch: 38/100 Train loss: 0.735340 Valid loss: 0.727084 Train acc: 0.531958 Valid acc: 0.523572\n",
      "Epoch: 39/100 Train loss: 0.724007 Valid loss: 0.721221 Train acc: 0.538531 Valid acc: 0.522212\n",
      "Epoch: 40/100 Train loss: 0.716900 Valid loss: 0.709444 Train acc: 0.536945 Valid acc: 0.527652\n",
      "Epoch: 41/100 Train loss: 0.706860 Valid loss: 0.701324 Train acc: 0.543064 Valid acc: 0.532185\n",
      "Epoch: 42/100 Train loss: 0.699023 Valid loss: 0.694385 Train acc: 0.546691 Valid acc: 0.533998\n",
      "Epoch: 43/100 Train loss: 0.690885 Valid loss: 0.687071 Train acc: 0.549637 Valid acc: 0.539438\n",
      "Epoch: 44/100 Train loss: 0.683118 Valid loss: 0.678381 Train acc: 0.555757 Valid acc: 0.544878\n",
      "Epoch: 45/100 Train loss: 0.674850 Valid loss: 0.671186 Train acc: 0.560970 Valid acc: 0.549411\n",
      "Epoch: 46/100 Train loss: 0.666774 Valid loss: 0.662108 Train acc: 0.565956 Valid acc: 0.557570\n",
      "Epoch: 47/100 Train loss: 0.658494 Valid loss: 0.654235 Train acc: 0.571396 Valid acc: 0.560290\n",
      "Epoch: 48/100 Train loss: 0.650461 Valid loss: 0.646742 Train acc: 0.575476 Valid acc: 0.566183\n",
      "Epoch: 49/100 Train loss: 0.642481 Valid loss: 0.641693 Train acc: 0.579782 Valid acc: 0.568450\n",
      "Epoch: 50/100 Train loss: 0.635107 Valid loss: 0.630855 Train acc: 0.583862 Valid acc: 0.576156\n",
      "Epoch: 51/100 Train loss: 0.626391 Valid loss: 0.623752 Train acc: 0.589755 Valid acc: 0.577969\n",
      "Epoch: 52/100 Train loss: 0.618142 Valid loss: 0.615752 Train acc: 0.592475 Valid acc: 0.585222\n",
      "Epoch: 53/100 Train loss: 0.609851 Valid loss: 0.605425 Train acc: 0.599275 Valid acc: 0.591115\n",
      "Epoch: 54/100 Train loss: 0.601700 Valid loss: 0.598009 Train acc: 0.602221 Valid acc: 0.596555\n",
      "Epoch: 55/100 Train loss: 0.592635 Valid loss: 0.592387 Train acc: 0.608341 Valid acc: 0.598821\n",
      "Epoch: 56/100 Train loss: 0.585772 Valid loss: 0.582863 Train acc: 0.611741 Valid acc: 0.602448\n",
      "Epoch: 57/100 Train loss: 0.576228 Valid loss: 0.571268 Train acc: 0.619674 Valid acc: 0.613327\n",
      "Epoch: 58/100 Train loss: 0.565746 Valid loss: 0.562889 Train acc: 0.623980 Valid acc: 0.616047\n",
      "Epoch: 59/100 Train loss: 0.557151 Valid loss: 0.555077 Train acc: 0.628513 Valid acc: 0.615140\n",
      "Epoch: 60/100 Train loss: 0.548313 Valid loss: 0.543184 Train acc: 0.633046 Valid acc: 0.621940\n",
      "Epoch: 61/100 Train loss: 0.539613 Valid loss: 0.538798 Train acc: 0.632140 Valid acc: 0.618767\n",
      "Epoch: 62/100 Train loss: 0.532626 Valid loss: 0.526497 Train acc: 0.634859 Valid acc: 0.626473\n",
      "Epoch: 63/100 Train loss: 0.521563 Valid loss: 0.519429 Train acc: 0.641659 Valid acc: 0.629193\n",
      "Epoch: 64/100 Train loss: 0.513826 Valid loss: 0.507560 Train acc: 0.643246 Valid acc: 0.634180\n",
      "Epoch: 65/100 Train loss: 0.505361 Valid loss: 0.498340 Train acc: 0.644832 Valid acc: 0.639166\n",
      "Epoch: 66/100 Train loss: 0.497567 Valid loss: 0.491738 Train acc: 0.645966 Valid acc: 0.640979\n",
      "Epoch: 67/100 Train loss: 0.489966 Valid loss: 0.487416 Train acc: 0.647779 Valid acc: 0.640073\n",
      "Epoch: 68/100 Train loss: 0.483761 Valid loss: 0.478862 Train acc: 0.651179 Valid acc: 0.642792\n",
      "Epoch: 69/100 Train loss: 0.476234 Valid loss: 0.471386 Train acc: 0.653445 Valid acc: 0.645512\n",
      "Epoch: 70/100 Train loss: 0.469536 Valid loss: 0.464926 Train acc: 0.656845 Valid acc: 0.648685\n",
      "Epoch: 71/100 Train loss: 0.462052 Valid loss: 0.458128 Train acc: 0.662511 Valid acc: 0.650952\n",
      "Epoch: 72/100 Train loss: 0.454403 Valid loss: 0.453191 Train acc: 0.663645 Valid acc: 0.655485\n",
      "Epoch: 73/100 Train loss: 0.450437 Valid loss: 0.453239 Train acc: 0.665458 Valid acc: 0.654125\n",
      "Epoch: 74/100 Train loss: 0.451142 Valid loss: 0.448262 Train acc: 0.667498 Valid acc: 0.656392\n",
      "Epoch: 75/100 Train loss: 0.445798 Valid loss: 0.444270 Train acc: 0.671124 Valid acc: 0.657752\n",
      "Epoch: 76/100 Train loss: 0.441517 Valid loss: 0.441387 Train acc: 0.671578 Valid acc: 0.657752\n",
      "Epoch: 77/100 Train loss: 0.434609 Valid loss: 0.436859 Train acc: 0.673617 Valid acc: 0.655485\n",
      "Epoch: 78/100 Train loss: 0.426249 Valid loss: 0.435024 Train acc: 0.676111 Valid acc: 0.659565\n",
      "Epoch: 79/100 Train loss: 0.423538 Valid loss: 0.425015 Train acc: 0.678831 Valid acc: 0.661378\n",
      "Epoch: 80/100 Train loss: 0.417423 Valid loss: 0.419627 Train acc: 0.678604 Valid acc: 0.665005\n",
      "Epoch: 81/100 Train loss: 0.412440 Valid loss: 0.416413 Train acc: 0.682910 Valid acc: 0.665911\n",
      "Epoch: 82/100 Train loss: 0.410144 Valid loss: 0.408369 Train acc: 0.683137 Valid acc: 0.671804\n",
      "Epoch: 83/100 Train loss: 0.405274 Valid loss: 0.405227 Train acc: 0.684270 Valid acc: 0.674071\n",
      "Epoch: 84/100 Train loss: 0.401202 Valid loss: 0.405341 Train acc: 0.687443 Valid acc: 0.671351\n",
      "Epoch: 85/100 Train loss: 0.398145 Valid loss: 0.398429 Train acc: 0.687670 Valid acc: 0.676337\n",
      "Epoch: 86/100 Train loss: 0.393401 Valid loss: 0.398250 Train acc: 0.691750 Valid acc: 0.676337\n",
      "Epoch: 87/100 Train loss: 0.390024 Valid loss: 0.394208 Train acc: 0.692883 Valid acc: 0.676337\n"
     ]
    },
    {
     "name": "stdout",
     "output_type": "stream",
     "text": [
      "Epoch: 88/100 Train loss: 0.386788 Valid loss: 0.389030 Train acc: 0.695150 Valid acc: 0.679964\n",
      "Epoch: 89/100 Train loss: 0.381901 Valid loss: 0.394206 Train acc: 0.697869 Valid acc: 0.682230\n",
      "Epoch: 90/100 Train loss: 0.380730 Valid loss: 0.388521 Train acc: 0.699003 Valid acc: 0.685857\n",
      "Epoch: 91/100 Train loss: 0.376899 Valid loss: 0.385246 Train acc: 0.699683 Valid acc: 0.688123\n",
      "Epoch: 92/100 Train loss: 0.372118 Valid loss: 0.378713 Train acc: 0.701723 Valid acc: 0.689937\n",
      "Epoch: 93/100 Train loss: 0.366617 Valid loss: 0.376455 Train acc: 0.706482 Valid acc: 0.692656\n",
      "Epoch: 94/100 Train loss: 0.363616 Valid loss: 0.373883 Train acc: 0.707616 Valid acc: 0.698096\n",
      "Epoch: 95/100 Train loss: 0.363230 Valid loss: 0.374587 Train acc: 0.708069 Valid acc: 0.700363\n",
      "Epoch: 96/100 Train loss: 0.360248 Valid loss: 0.365238 Train acc: 0.708749 Valid acc: 0.701269\n",
      "Epoch: 97/100 Train loss: 0.355041 Valid loss: 0.362818 Train acc: 0.710562 Valid acc: 0.703536\n",
      "Epoch: 98/100 Train loss: 0.356472 Valid loss: 0.357002 Train acc: 0.711015 Valid acc: 0.704896\n",
      "Epoch: 99/100 Train loss: 0.349476 Valid loss: 0.357476 Train acc: 0.713282 Valid acc: 0.707616\n",
      "Epoch: 100/100 Train loss: 0.347163 Valid loss: 0.355410 Train acc: 0.716002 Valid acc: 0.705802\n"
     ]
    }
   ],
   "source": [
    "train_acc, train_loss = [], []\n",
    "valid_acc, valid_loss = [], []\n",
    "\n",
    "# Save the training result or trained and validated model params\n",
    "saver = tf.train.Saver()\n",
    "\n",
    "with tf.Session() as sess:\n",
    "    sess.run(fetches=tf.global_variables_initializer())\n",
    "   \n",
    "    # Loop over epochs\n",
    "    epochs = 100\n",
    "    for epoch in range(epochs):\n",
    "        \n",
    "        # Loop over batches of training\n",
    "        state = sess.run(fetches=initial_state)\n",
    "        loss_batch, acc_batch = [], []\n",
    "        for Xarr, Yarr in get_batches(X=Xtrain, Y=Ytrain, batch_size=N):\n",
    "            \n",
    "            # Feed dictionary\n",
    "            feed_dict = {Xinput:Xarr, Yindices:Yarr, initial_state:state}\n",
    "            lossarr, _ , state, accarr = sess.run(fetches=[loss, optimizer, final_state, accuracy], \n",
    "                                                  feed_dict=feed_dict)\n",
    "            loss_batch.append(lossarr)\n",
    "            acc_batch.append(accarr)\n",
    "            \n",
    "        # acc and loss for plotting\n",
    "        train_acc.append(np.mean(acc_batch))\n",
    "        train_loss.append(np.mean(loss_batch))\n",
    "\n",
    "        # Loop over batches of validation\n",
    "        state = sess.run(fetches=initial_state)\n",
    "        loss_batch, acc_batch = [], []\n",
    "        for Xarr, Yarr in get_batches(X=Xvalid, Y=Yvalid, batch_size=N):\n",
    "            \n",
    "            # Feed dictionary\n",
    "            feed_dict = {Xinput:Xarr, Yindices:Yarr, initial_state:state}\n",
    "            lossarr, state, accarr = sess.run(fetches=[loss, final_state, accuracy], feed_dict=feed_dict)\n",
    "            loss_batch.append(lossarr)\n",
    "            acc_batch.append(accarr)\n",
    "            \n",
    "        # acc and loss for plotting\n",
    "        valid_acc.append(np.mean(acc_batch))\n",
    "        valid_loss.append(np.mean(loss_batch))\n",
    "            \n",
    "        # Print info for every iter/epoch\n",
    "        print(\"Epoch: {}/{}\".format(epoch+1, epochs),\n",
    "              \"Train loss: {:6f}\".format(train_loss[epoch]),\n",
    "              \"Valid loss: {:.6f}\".format(valid_loss[epoch]),\n",
    "              \"Train acc: {:6f}\".format(train_acc[epoch]),\n",
    "              \"Valid acc: {:.6f}\".format(valid_acc[epoch]))\n",
    "                \n",
    "    saver.save(sess, 'checkpoints/lstm-imu-har.ckpt')"
   ]
  },
  {
   "cell_type": "code",
   "execution_count": 36,
   "metadata": {},
   "outputs": [
    {
     "data": {
      "image/png": "[encoded data removed]",
      "text/plain": [
       "<Figure size 432x288 with 1 Axes>"
      ]
     },
     "metadata": {},
     "output_type": "display_data"
    }
   ],
   "source": [
    "import matplotlib.pyplot as mplot\n",
    "%matplotlib inline\n",
    "\n",
    "mplot.plot(train_loss, label='train_loss')\n",
    "mplot.plot(valid_loss, label='valid_loss')\n",
    "mplot.legend()\n",
    "mplot.show()"
   ]
  },
  {
   "cell_type": "code",
   "execution_count": 37,
   "metadata": {},
   "outputs": [
    {
     "data": {
      "image/png": "[encoded data removed]",
      "text/plain": [
       "<Figure size 432x288 with 1 Axes>"
      ]
     },
     "metadata": {},
     "output_type": "display_data"
    }
   ],
   "source": [
    "# import matplotlib.pyplot as mplot\n",
    "mplot.plot(train_acc, label='train_acc')\n",
    "mplot.plot(valid_acc, label='valid_acc')\n",
    "mplot.legend()\n",
    "mplot.show()"
   ]
  },
  {
   "cell_type": "code",
   "execution_count": 38,
   "metadata": {},
   "outputs": [
    {
     "name": "stdout",
     "output_type": "stream",
     "text": [
      "INFO:tensorflow:Restoring parameters from checkpoints/lstm-imu-har.ckpt\n",
      "Test loss: 0.494540 Test acc: 0.654125\n"
     ]
    }
   ],
   "source": [
    "with tf.Session() as sess:\n",
    "    # Restore the validated model\n",
    "    #saver.restore(sess, tf.train.latest_checkpoint('checkpoints'))\n",
    "    saver.restore(sess=sess, save_path='checkpoints/lstm-imu-har.ckpt')\n",
    "    \n",
    "    # Loop over batches of Test\n",
    "    state = sess.run(fetches=initial_state)\n",
    "    loss_batch, acc_batch = [], []\n",
    "    for Xarr, Yarr in get_batches(X=Xtest, Y=Ytest, batch_size=N):\n",
    "\n",
    "        # Feed dictionary\n",
    "        feed_dict = {Xinput:Xarr, Yindices:Yarr, initial_state:state}\n",
    "        lossarr, state, accarr = sess.run(fetches=[loss, final_state, accuracy], feed_dict=feed_dict)\n",
    "        loss_batch.append(lossarr)\n",
    "        acc_batch.append(accarr)\n",
    "\n",
    "    # Print info for every iter/epoch\n",
    "    print(\"Test loss: {:6f}\".format(np.mean(loss_batch)),\n",
    "          \"Test acc: {:.6f}\".format(np.mean(acc_batch)))"
   ]
  },
  {
   "cell_type": "code",
   "execution_count": null,
   "metadata": {},
   "outputs": [],
   "source": []
  }
 ],
 "metadata": {
  "kernelspec": {
   "display_name": "Python 3",
   "language": "python",
   "name": "python3"
  },
  "language_info": {
   "codemirror_mode": {
    "name": "ipython",
    "version": 3
   },
   "file_extension": ".py",
   "mimetype": "text/x-python",
   "name": "python",
   "nbconvert_exporter": "python",
   "pygments_lexer": "ipython3",
   "version": "3.6.5"
  },
  "widgets": {
   "state": {},
   "version": "1.1.2"
  }
 },
 "nbformat": 4,
 "nbformat_minor": 2
}
