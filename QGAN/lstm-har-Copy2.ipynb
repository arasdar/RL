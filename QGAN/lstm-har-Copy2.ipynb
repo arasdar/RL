{
 "cells": [
  {
   "cell_type": "code",
   "execution_count": 1,
   "metadata": {},
   "outputs": [
    {
     "name": "stderr",
     "output_type": "stream",
     "text": [
      "/home/arasdar/anaconda3/envs/env/lib/python3.6/site-packages/ipykernel_launcher.py:37: FutureWarning: Method .as_matrix will be removed in a future version. Use .values instead.\n"
     ]
    },
    {
     "name": "stdout",
     "output_type": "stream",
     "text": [
      "0.16675734494015235 0.1459466811751904 0.13411316648531013 0.1749183895538629 0.1868879216539717 0.1913764961915125\n",
      "(7352, 128, 9) float64 (2947, 128, 9) float64\n",
      "(7352,) int64 (2947,) int64\n"
     ]
    }
   ],
   "source": [
    "# HAR classification \n",
    "# Author: Burak Himmetoglu\n",
    "# 8/15/2017\n",
    "\n",
    "import pandas as pd \n",
    "import numpy as np\n",
    "import os\n",
    "\n",
    "def read_data(data_path, split = \"train\"):\n",
    "\t\"\"\" Read data \"\"\"\n",
    "\n",
    "\t# Fixed params\n",
    "\tn_class = 6\n",
    "\tn_steps = 128\n",
    "\n",
    "\t# Paths\n",
    "\tpath_ = os.path.join(data_path, split)\n",
    "\tpath_signals = os.path.join(path_, \"Inertial_Signals\")\n",
    "\n",
    "\t# Read labels and one-hot encode\n",
    "\tlabel_path = os.path.join(path_, \"y_\" + split + \".txt\")\n",
    "\tlabels = pd.read_csv(label_path, header = None)\n",
    "\n",
    "\t# Read time-series data\n",
    "\tchannel_files = os.listdir(path_signals)\n",
    "\tchannel_files.sort()\n",
    "\tn_channels = len(channel_files)\n",
    "\tposix = len(split) + 5\n",
    "\n",
    "\t# Initiate array\n",
    "\tlist_of_channels = []\n",
    "\tX = np.zeros((len(labels), n_steps, n_channels))\n",
    "\ti_ch = 0\n",
    "\tfor fil_ch in channel_files:\n",
    "\t\tchannel_name = fil_ch[:-posix]\n",
    "\t\tdat_ = pd.read_csv(os.path.join(path_signals,fil_ch), delim_whitespace = True, header = None)\n",
    "\t\tX[:,:,i_ch] = dat_.as_matrix()\n",
    "\n",
    "\t\t# Record names\n",
    "\t\tlist_of_channels.append(channel_name)\n",
    "\n",
    "\t\t# iterate\n",
    "\t\ti_ch += 1\n",
    "\n",
    "\t# Return \n",
    "\treturn X, labels[0].values, list_of_channels\n",
    "\n",
    "# test and train read\n",
    "Xtrain, Ytrain, _ = read_data(data_path=\"/home/arasdar/datasets/har-data/\", split=\"train\")\n",
    "Xtest, Ytest, _ = read_data(data_path=\"/home/arasdar/datasets/har-data/\", split=\"test\")\n",
    "\n",
    "# assert list_ch_train_valid == list_ch_test, \"Mistmatch in channels!\"\n",
    "assert Ytrain.max(axis=0) == Ytest.max(axis=0), 'Mismatch in channels of Ytrain and Ytest'\n",
    "\n",
    "# balanced data or not\n",
    "print(np.mean(Ytrain==1), np.mean(Ytrain==2), np.mean(Ytrain==3), \n",
    "      np.mean(Ytrain==4), np.mean(Ytrain==5), np.mean(Ytrain==6))\n",
    "\n",
    "print(Xtrain.shape, Xtrain.dtype, Xtest.shape, Xtest.dtype)\n",
    "print(Ytrain.shape, Ytrain.dtype, Ytest.shape, Ytest.dtype)"
   ]
  },
  {
   "cell_type": "code",
   "execution_count": 2,
   "metadata": {},
   "outputs": [
    {
     "name": "stdout",
     "output_type": "stream",
     "text": [
      "(7352, 128, 9) float64\n",
      "(2947, 128, 9) float64\n"
     ]
    }
   ],
   "source": [
    "# # standardizing/normalizing the train and test data\n",
    "# def standardize(train, test):\n",
    "# \"\"\" Standardize data \"\"\"\n",
    "# # Standardize train and test\n",
    "# X_train = (train - np.mean(train, axis=0)[None,:,:]) / np.std(train, axis=0)[None,:,:]\n",
    "# X_test = (test - np.mean(test, axis=0)[None,:,:]) / np.std(test, axis=0)[None,:,:]\n",
    "# return X_train, X_test\n",
    "\n",
    "Xtrain = (Xtrain - Xtrain.mean(axis=0))/ Xtrain.std(axis=0)\n",
    "Xtest = (Xtest - Xtest.mean(axis=0))/ Xtest.std(axis=0)\n",
    "print(Xtrain.shape, Xtrain.dtype)\n",
    "print(Xtest.shape, Xtest.dtype)\n",
    "# # Normalizing/standardizing the input data features\n",
    "# Xtrain, Xtest = standardize(train=Xtrain, test=Xtest)"
   ]
  },
  {
   "cell_type": "code",
   "execution_count": 3,
   "metadata": {},
   "outputs": [
    {
     "name": "stdout",
     "output_type": "stream",
     "text": [
      "[[ 7.29829690e-17 -1.02082531e-17  1.57352066e-17 ... -4.98687012e-15\n",
      "   1.85772084e-16  1.49046535e-16]\n",
      " [-3.78883238e-17 -3.43169454e-17  2.59223183e-16 ...  1.22050349e-15\n",
      "   4.80512740e-17 -4.62565242e-16]\n",
      " [ 1.84533805e-17 -2.06052682e-17 -3.44906065e-17 ... -2.15841883e-16\n",
      "   2.85362956e-16 -3.28763132e-16]\n",
      " ...\n",
      " [ 4.40797199e-17 -2.73629505e-17 -1.20505709e-17 ...  5.30356876e-15\n",
      "   5.48165068e-17 -3.37113966e-16]\n",
      " [ 2.29534684e-17  5.79273058e-17  8.81896418e-18 ...  2.48264790e-15\n",
      "  -1.15794208e-16  4.64958745e-17]\n",
      " [ 4.27810368e-17  1.22921864e-17 -3.12589997e-17 ... -1.67407304e-15\n",
      "   1.10599475e-16 -3.55174722e-16]] [[1. 1. 1. ... 1. 1. 1.]\n",
      " [1. 1. 1. ... 1. 1. 1.]\n",
      " [1. 1. 1. ... 1. 1. 1.]\n",
      " ...\n",
      " [1. 1. 1. ... 1. 1. 1.]\n",
      " [1. 1. 1. ... 1. 1. 1.]\n",
      " [1. 1. 1. ... 1. 1. 1.]]\n"
     ]
    }
   ],
   "source": [
    "print(Xtrain.mean(axis=0), Xtrain.std(axis=0))"
   ]
  },
  {
   "cell_type": "code",
   "execution_count": 4,
   "metadata": {},
   "outputs": [
    {
     "name": "stdout",
     "output_type": "stream",
     "text": [
      "[[ 7.16540276e-17  1.80830354e-17  2.95356244e-17 ... -4.00445992e-15\n",
      "   3.99333697e-17  2.13869566e-16]\n",
      " [ 5.58878811e-17  3.33782694e-17  5.28928784e-17 ...  6.23404167e-15\n",
      "   7.13526437e-17 -1.22135835e-16]\n",
      " [ 1.11512051e-17  8.43874983e-18  4.68652000e-17 ... -2.75390501e-15\n",
      "  -1.09251672e-17 -8.88329112e-17]\n",
      " ...\n",
      " [ 1.58980019e-17 -3.98580238e-17  3.31522315e-18 ... -1.33149533e-15\n",
      "   6.84894964e-17 -1.86330610e-16]\n",
      " [ 4.07810120e-17  5.57277709e-17  3.27001556e-17 ...  3.11386101e-16\n",
      "   1.40520254e-17 -2.61751937e-16]\n",
      " [ 9.20162788e-18 -4.68275270e-17 -4.47555125e-17 ... -1.35942986e-16\n",
      "   4.69028729e-17  2.26923257e-16]] [[1. 1. 1. ... 1. 1. 1.]\n",
      " [1. 1. 1. ... 1. 1. 1.]\n",
      " [1. 1. 1. ... 1. 1. 1.]\n",
      " ...\n",
      " [1. 1. 1. ... 1. 1. 1.]\n",
      " [1. 1. 1. ... 1. 1. 1.]\n",
      " [1. 1. 1. ... 1. 1. 1.]]\n"
     ]
    }
   ],
   "source": [
    "print(Xtest.mean(axis=0), Xtest.std(axis=0))"
   ]
  },
  {
   "cell_type": "code",
   "execution_count": 5,
   "metadata": {},
   "outputs": [],
   "source": [
    "# # # Onehotencoding of the output labels\n",
    "# # def onehot(labels, n_class):\n",
    "# # \t\"\"\" One-hot encoding \"\"\"\n",
    "# # \texpansion = np.eye(n_class)\n",
    "# # \ty = expansion[:, labels-1].T\n",
    "# # \tassert y.shape[1] == n_class, \"Wrong number of labels!\"\n",
    "\n",
    "# # \treturn y\n",
    "\n",
    "# print(Ytrain.max(axis=0), Ytest.max(axis=0))\n",
    "# assert Ytrain.max(axis=0) == Ytest.max(axis=0), 'wrong labels'\n",
    "\n",
    "# # Ytrain=onehot(labels=Ytrain, n_class=Ytrain.max(axis=0))\n",
    "# # Ytest=onehot(labels=Ytest, n_class=Ytest.max(axis=0))\n",
    "# # print(Ytrain.shape, Ytrain.dtype, Ytest.shape, Ytest.dtype)"
   ]
  },
  {
   "cell_type": "code",
   "execution_count": 5,
   "metadata": {},
   "outputs": [
    {
     "name": "stdout",
     "output_type": "stream",
     "text": [
      "(5146, 128, 9) (2206, 128, 9) (2947, 128, 9) float64 float64 float64\n",
      "(5146,) (2206,) (2947,) int64 int64 int64\n"
     ]
    }
   ],
   "source": [
    "from sklearn.model_selection import train_test_split\n",
    "\n",
    "# Now separating train and validation set\n",
    "# 30% of the training data/ entire training data is assigned to validation.\n",
    "Xtrain, Xvalid, Ytrain, Yvalid = train_test_split(Xtrain, Ytrain, test_size=0.30)\n",
    "print(Xtrain.shape, Xvalid.shape, Xtest.shape, Xtrain.dtype, Xvalid.dtype, Xtest.dtype)\n",
    "print(Ytrain.shape, Yvalid.shape, Ytest.shape, Ytrain.dtype, Yvalid.dtype, Ytest.dtype)"
   ]
  },
  {
   "cell_type": "code",
   "execution_count": 6,
   "metadata": {},
   "outputs": [
    {
     "name": "stdout",
     "output_type": "stream",
     "text": [
      "TensorFlow Version: 1.8.0\n",
      "Default GPU Device: /device:GPU:0\n"
     ]
    }
   ],
   "source": [
    "# In this one we should define and detect GPUs for tensorflow\n",
    "# GPUs or CPU\n",
    "import tensorflow as tf\n",
    "\n",
    "# Check TensorFlow Version\n",
    "print('TensorFlow Version: {}'.format(tf.__version__))\n",
    "\n",
    "# Check for a GPU\n",
    "print('Default GPU Device: {}'.format(tf.test.gpu_device_name()))"
   ]
  },
  {
   "cell_type": "code",
   "execution_count": 8,
   "metadata": {},
   "outputs": [
    {
     "name": "stdout",
     "output_type": "stream",
     "text": [
      "(22, 128, 9) <dtype: 'float32'> (5146, 128, 9) float64 (2206, 128, 9) float64 (2947, 128, 9) float64\n"
     ]
    }
   ],
   "source": [
    "# now I can design the actual input and output tensors\n",
    "N, W, Cin = Xvalid.shape[0]//100, Xvalid.shape[1], Xvalid.shape[2]\n",
    "Xinputs = tf.placeholder(dtype=tf.float32, name=None, shape=[N, W, Cin])\n",
    "print(Xinputs.shape, Xinputs.dtype, Xtrain.shape, Xtrain.dtype, Xvalid.shape, Xvalid.dtype, Xtest.shape, Xtest.dtype)"
   ]
  },
  {
   "cell_type": "code",
   "execution_count": 9,
   "metadata": {},
   "outputs": [],
   "source": [
    "# # This is the output tensor for labels\n",
    "# N, Cout = Yvalid.shape[0], Yvalid.shape[1]\n",
    "# Ylabels = tf.placeholder(dtype=tf.float32, name=None, shape=[N, Cout])\n",
    "# print(Ylabels.shape, Ylabels.dtype, Ytrain.shape, Ytrain.dtype, Yvalid.shape, Yvalid.dtype, Ytest.shape, Ytest.dtype)"
   ]
  },
  {
   "cell_type": "code",
   "execution_count": 10,
   "metadata": {},
   "outputs": [
    {
     "name": "stdout",
     "output_type": "stream",
     "text": [
      "(22,) <dtype: 'int32'> (5146,) int64 (2206,) int64 (2947,) int64\n"
     ]
    }
   ],
   "source": [
    "# This is the output tensor for indices which sould be onehot-encoded for training\n",
    "Yindices = tf.placeholder(dtype=tf.int32, name=None, shape=[N])\n",
    "print(Yindices.shape, Yindices.dtype, Ytrain.shape, Ytrain.dtype, Yvalid.shape, Yvalid.dtype, Ytest.shape, Ytest.dtype)"
   ]
  },
  {
   "cell_type": "code",
   "execution_count": 11,
   "metadata": {},
   "outputs": [
    {
     "name": "stdout",
     "output_type": "stream",
     "text": [
      "(22, 128, 9) <dtype: 'float32'>\n",
      "(22, 1152) <dtype: 'float32'>\n",
      "22 (1, 1152) <dtype: 'float32'>\n"
     ]
    }
   ],
   "source": [
    "print(Xinputs.shape, Xinputs.dtype)\n",
    "Xinputs_vec = tf.reshape(tensor=Xinputs, shape=[N, W*Cin]) # (W*N, Cin)\n",
    "print(Xinputs_vec.shape, Xinputs_vec.dtype)\n",
    "inputs = tf.split(value=Xinputs_vec, num_or_size_splits=N, axis=0)\n",
    "print(len(inputs), inputs[0].shape, inputs[0].dtype)"
   ]
  },
  {
   "cell_type": "code",
   "execution_count": 12,
   "metadata": {},
   "outputs": [
    {
     "name": "stdout",
     "output_type": "stream",
     "text": [
      "1152\n",
      "<tensorflow.python.ops.rnn_cell_impl.BasicLSTMCell object at 0x7fc56720de48>\n"
     ]
    }
   ],
   "source": [
    "# RNN-LSTM parameters\n",
    "lstm_size = W*Cin # 3 times the amount of channels\n",
    "print(lstm_size)\n",
    "\n",
    "# Add LSTM layers\n",
    "# lstm = tf.contrib.rnn.BasicLSTMCell(lstm_size)\n",
    "lstm = tf.nn.rnn_cell.BasicLSTMCell(num_units=lstm_size)\n",
    "print(lstm)"
   ]
  },
  {
   "cell_type": "code",
   "execution_count": 13,
   "metadata": {},
   "outputs": [],
   "source": [
    "# drop = tf.nn.rnn_cell.DropoutWrapper(lstm, output_keep_prob=keep_prob_)\n",
    "lstm_layers = 2 # Number of layers\n",
    "cell = tf.nn.rnn_cell.MultiRNNCell(cells=[lstm] * lstm_layers)"
   ]
  },
  {
   "cell_type": "code",
   "execution_count": 15,
   "metadata": {},
   "outputs": [
    {
     "name": "stdout",
     "output_type": "stream",
     "text": [
      "(LSTMStateTuple(c=<tf.Tensor 'MultiRNNCellZeroState_1/BasicLSTMCellZeroState/zeros:0' shape=(1, 1152) dtype=float32>, h=<tf.Tensor 'MultiRNNCellZeroState_1/BasicLSTMCellZeroState/zeros_1:0' shape=(1, 1152) dtype=float32>), LSTMStateTuple(c=<tf.Tensor 'MultiRNNCellZeroState_1/BasicLSTMCellZeroState_1/zeros:0' shape=(1, 1152) dtype=float32>, h=<tf.Tensor 'MultiRNNCellZeroState_1/BasicLSTMCellZeroState_1/zeros_1:0' shape=(1, 1152) dtype=float32>))\n"
     ]
    }
   ],
   "source": [
    "initial_state = cell.zero_state(batch_size=1, dtype=tf.float32)\n",
    "print(initial_state)"
   ]
  },
  {
   "cell_type": "code",
   "execution_count": 16,
   "metadata": {},
   "outputs": [
    {
     "name": "stdout",
     "output_type": "stream",
     "text": [
      "22 (1, 1152) <dtype: 'float32'> 2\n"
     ]
    }
   ],
   "source": [
    "outputs, final_state = tf.nn.static_rnn(cell=cell, inputs=inputs, dtype=tf.float32, initial_state=initial_state)\n",
    "print(len(outputs), outputs[0].shape, outputs[0].dtype, len(final_state))"
   ]
  },
  {
   "cell_type": "code",
   "execution_count": 17,
   "metadata": {},
   "outputs": [
    {
     "name": "stdout",
     "output_type": "stream",
     "text": [
      "6 6 6\n",
      "1 1 1\n"
     ]
    }
   ],
   "source": [
    "print(Ytrain.max(axis=0), Yvalid.max(axis=0), Ytest.max(axis=0))\n",
    "print(Ytrain.min(axis=0), Yvalid.min(axis=0), Ytest.min(axis=0))\n",
    "assert Ytrain.max(axis=0) == Ytest.max(axis=0), 'wrong labels'\n",
    "Cout = Ytrain.max(axis=0)"
   ]
  },
  {
   "cell_type": "code",
   "execution_count": 18,
   "metadata": {},
   "outputs": [
    {
     "name": "stdout",
     "output_type": "stream",
     "text": [
      "Tensor(\"concat:0\", shape=(22, 1152), dtype=float32)\n"
     ]
    }
   ],
   "source": [
    "outputs_ = tf.concat(outputs, axis=0)\n",
    "print(outputs_)"
   ]
  },
  {
   "cell_type": "code",
   "execution_count": 19,
   "metadata": {},
   "outputs": [
    {
     "name": "stdout",
     "output_type": "stream",
     "text": [
      "(22, 6) <dtype: 'float32'>\n",
      "22 (1, 1152) <dtype: 'float32'> (LSTMStateTuple(c=<tf.Tensor 'rnn/rnn/multi_rnn_cell/cell_0/basic_lstm_cell/Add_85:0' shape=(1, 1152) dtype=float32>, h=<tf.Tensor 'rnn/rnn/multi_rnn_cell/cell_0/basic_lstm_cell/Mul_128:0' shape=(1, 1152) dtype=float32>), LSTMStateTuple(c=<tf.Tensor 'rnn/rnn/multi_rnn_cell/cell_0/basic_lstm_cell/Add_87:0' shape=(1, 1152) dtype=float32>, h=<tf.Tensor 'rnn/rnn/multi_rnn_cell/cell_0/basic_lstm_cell/Mul_131:0' shape=(1, 1152) dtype=float32>))\n"
     ]
    }
   ],
   "source": [
    "# We only need the last output tensor to pass into a classifier\n",
    "Ylogits = tf.layers.dense(inputs=outputs_, units=Cout, name=None)\n",
    "print(Ylogits.shape, Ylogits.dtype)\n",
    "print(len(outputs), outputs[-1].shape, outputs[-1].dtype, final_state)"
   ]
  },
  {
   "cell_type": "code",
   "execution_count": 20,
   "metadata": {},
   "outputs": [
    {
     "name": "stdout",
     "output_type": "stream",
     "text": [
      "Tensor(\"softmax_cross_entropy_with_logits/Reshape_2:0\", shape=(22,), dtype=float32)\n",
      "Tensor(\"Mean:0\", shape=(), dtype=float32)\n"
     ]
    }
   ],
   "source": [
    "# Backward pass: error backpropagation\n",
    "# Cost function\n",
    "Ylabels = tf.one_hot(depth=Cout, indices=Yindices, dtype=Ylogits.dtype)\n",
    "loss = tf.nn.softmax_cross_entropy_with_logits_v2(logits=Ylogits, labels=Ylabels)\n",
    "print(loss)\n",
    "loss = tf.reduce_mean(input_tensor=loss)\n",
    "print(loss)"
   ]
  },
  {
   "cell_type": "code",
   "execution_count": 21,
   "metadata": {},
   "outputs": [],
   "source": [
    "# Optimizer for training, using gradient clipping to control exploding gradients\n",
    "tvars = tf.trainable_variables()\n",
    "#grads, _ = tf.clip_by_global_norm(tf.gradients(loss, tvars), grad_clip)\n",
    "grads = tf.gradients(loss, tvars)\n",
    "learning_rate = 0.001\n",
    "train_op = tf.train.AdamOptimizer(learning_rate)\n",
    "optimizer = train_op.apply_gradients(zip(grads, tvars))"
   ]
  },
  {
   "cell_type": "code",
   "execution_count": 23,
   "metadata": {},
   "outputs": [
    {
     "name": "stdout",
     "output_type": "stream",
     "text": [
      "[<tf.Variable 'rnn/multi_rnn_cell/cell_0/basic_lstm_cell/kernel:0' shape=(2304, 4608) dtype=float32_ref>, <tf.Variable 'rnn/multi_rnn_cell/cell_0/basic_lstm_cell/bias:0' shape=(4608,) dtype=float32_ref>, <tf.Variable 'dense/kernel:0' shape=(1152, 6) dtype=float32_ref>, <tf.Variable 'dense/bias:0' shape=(6,) dtype=float32_ref>] [<tf.Tensor 'gradients/AddN_85:0' shape=(2304, 4608) dtype=float32>, <tf.Tensor 'gradients/AddN_84:0' shape=(4608,) dtype=float32>, <tf.Tensor 'gradients/dense/MatMul_grad/MatMul_1:0' shape=(1152, 6) dtype=float32>, <tf.Tensor 'gradients/dense/BiasAdd_grad/BiasAddGrad:0' shape=(6,) dtype=float32>] <tensorflow.python.training.adam.AdamOptimizer object at 0x7fc55032cc50> name: \"Adam\"\n",
      "op: \"NoOp\"\n",
      "input: \"^Adam/update_rnn/multi_rnn_cell/cell_0/basic_lstm_cell/kernel/ApplyAdam\"\n",
      "input: \"^Adam/update_rnn/multi_rnn_cell/cell_0/basic_lstm_cell/bias/ApplyAdam\"\n",
      "input: \"^Adam/update_dense/kernel/ApplyAdam\"\n",
      "input: \"^Adam/update_dense/bias/ApplyAdam\"\n",
      "input: \"^Adam/Assign\"\n",
      "input: \"^Adam/Assign_1\"\n",
      "\n"
     ]
    }
   ],
   "source": [
    "print(tvars, grads, train_op, optimizer)"
   ]
  },
  {
   "cell_type": "code",
   "execution_count": 24,
   "metadata": {},
   "outputs": [
    {
     "name": "stdout",
     "output_type": "stream",
     "text": [
      "Tensor(\"ArgMax:0\", shape=(22,), dtype=int64)\n",
      "Tensor(\"ArgMax_1:0\", shape=(22,), dtype=int64)\n",
      "Tensor(\"Equal:0\", shape=(22,), dtype=bool)\n",
      "Tensor(\"Cast:0\", shape=(22,), dtype=float32)\n",
      "Tensor(\"Mean_1:0\", shape=(), dtype=float32)\n"
     ]
    }
   ],
   "source": [
    "# Accuracy\n",
    "Ylogits_argmax = tf.argmax(input=Ylogits, axis=1)\n",
    "print(Ylogits_argmax)\n",
    "Ylabels_argmax = tf.argmax(input=Ylabels, axis=1)\n",
    "print(Ylabels_argmax)\n",
    "accuracy = tf.equal(x=Ylogits_argmax, y=Ylabels_argmax, name=None)\n",
    "print(accuracy)\n",
    "accuracy = tf.cast(x=accuracy, dtype=tf.float32)\n",
    "print(accuracy)\n",
    "accuracy = tf.reduce_mean(input_tensor=accuracy, name=None)\n",
    "print(accuracy)"
   ]
  },
  {
   "cell_type": "code",
   "execution_count": 25,
   "metadata": {},
   "outputs": [],
   "source": [
    "# # Confusion matrix\n",
    "# confusion_matrix = tf.confusion_matrix(predictions=tf.argmax(logits, 1),\n",
    "#                                        labels=tf.argmax(labels_, 1))\n",
    "# print('confusion_matrix', confusion_matrix)"
   ]
  },
  {
   "cell_type": "code",
   "execution_count": 26,
   "metadata": {},
   "outputs": [],
   "source": [
    "def get_batches(X, Y, batch_size):\n",
    "    \"\"\" Return a generator for batches \"\"\"\n",
    "    n_batches = len(X) // batch_size\n",
    "    X, Y = X[:n_batches*batch_size], Y[:n_batches*batch_size]\n",
    "\n",
    "    # Loop over batches and yield\n",
    "    for b in range(0, len(X), batch_size):\n",
    "        yield X[b:b+batch_size], Y[b:b+batch_size]"
   ]
  },
  {
   "cell_type": "code",
   "execution_count": 27,
   "metadata": {
    "scrolled": true
   },
   "outputs": [
    {
     "name": "stdout",
     "output_type": "stream",
     "text": [
      "Epoch: 1/200 Train loss: 0.714036 Valid loss: 0.234331 Train acc: 0.532384 Valid acc: 0.720000\n",
      "Epoch: 2/200 Train loss: 0.189993 Valid loss: 0.194675 Train acc: 0.738588 Valid acc: 0.734545\n",
      "Epoch: 3/200 Train loss: 0.117387 Valid loss: 0.211650 Train acc: 0.762388 Valid acc: 0.737273\n",
      "Epoch: 4/200 Train loss: 0.092620 Valid loss: 0.235438 Train acc: 0.776044 Valid acc: 0.726364\n",
      "Epoch: 5/200 Train loss: 0.063301 Valid loss: 0.223571 Train acc: 0.788919 Valid acc: 0.736818\n",
      "Epoch: 6/200 Train loss: 0.055669 Valid loss: 0.213695 Train acc: 0.790285 Valid acc: 0.734091\n",
      "Epoch: 7/200 Train loss: 0.052757 Valid loss: 0.221584 Train acc: 0.794187 Valid acc: 0.743636\n",
      "Epoch: 8/200 Train loss: 0.057068 Valid loss: 0.198651 Train acc: 0.794186 Valid acc: 0.744091\n",
      "Epoch: 9/200 Train loss: 0.055858 Valid loss: 0.200757 Train acc: 0.793406 Valid acc: 0.743636\n",
      "Epoch: 10/200 Train loss: 0.039361 Valid loss: 0.209038 Train acc: 0.801405 Valid acc: 0.743182\n",
      "Epoch: 11/200 Train loss: 0.029432 Valid loss: 0.214424 Train acc: 0.802380 Valid acc: 0.744091\n",
      "Epoch: 12/200 Train loss: 0.017640 Valid loss: 0.199499 Train acc: 0.805501 Valid acc: 0.750455\n",
      "Epoch: 13/200 Train loss: 0.017700 Valid loss: 0.230986 Train acc: 0.805501 Valid acc: 0.741364\n",
      "Epoch: 14/200 Train loss: 0.018947 Valid loss: 0.234823 Train acc: 0.805111 Valid acc: 0.737727\n",
      "Epoch: 15/200 Train loss: 0.017408 Valid loss: 0.230537 Train acc: 0.805501 Valid acc: 0.744545\n",
      "Epoch: 16/200 Train loss: 0.014265 Valid loss: 0.223050 Train acc: 0.806672 Valid acc: 0.744091\n",
      "Epoch: 17/200 Train loss: 0.010896 Valid loss: 0.226184 Train acc: 0.808233 Valid acc: 0.740909\n",
      "Epoch: 18/200 Train loss: 0.007966 Valid loss: 0.239923 Train acc: 0.808428 Valid acc: 0.744545\n",
      "Epoch: 19/200 Train loss: 0.008663 Valid loss: 0.254496 Train acc: 0.808233 Valid acc: 0.737273\n",
      "Epoch: 20/200 Train loss: 0.021499 Valid loss: 0.372152 Train acc: 0.805892 Valid acc: 0.685454\n",
      "Epoch: 21/200 Train loss: 0.074752 Valid loss: 0.281422 Train acc: 0.791260 Valid acc: 0.713636\n",
      "Epoch: 22/200 Train loss: 0.077070 Valid loss: 0.212050 Train acc: 0.793601 Valid acc: 0.735000\n",
      "Epoch: 23/200 Train loss: 0.041773 Valid loss: 0.202305 Train acc: 0.803550 Valid acc: 0.741364\n",
      "Epoch: 24/200 Train loss: 0.051073 Valid loss: 0.197690 Train acc: 0.800819 Valid acc: 0.746364\n",
      "Epoch: 25/200 Train loss: 0.030215 Valid loss: 0.199124 Train acc: 0.804526 Valid acc: 0.748636\n",
      "Epoch: 26/200 Train loss: 0.018780 Valid loss: 0.221476 Train acc: 0.807842 Valid acc: 0.738636\n",
      "Epoch: 27/200 Train loss: 0.014250 Valid loss: 0.239968 Train acc: 0.808037 Valid acc: 0.735455\n",
      "Epoch: 28/200 Train loss: 0.012124 Valid loss: 0.245903 Train acc: 0.808038 Valid acc: 0.735000\n",
      "Epoch: 29/200 Train loss: 0.006812 Valid loss: 0.222630 Train acc: 0.809403 Valid acc: 0.746818\n",
      "Epoch: 30/200 Train loss: 0.005275 Valid loss: 0.226955 Train acc: 0.809793 Valid acc: 0.746818\n",
      "Epoch: 31/200 Train loss: 0.005055 Valid loss: 0.233024 Train acc: 0.809598 Valid acc: 0.746364\n",
      "Epoch: 32/200 Train loss: 0.004117 Valid loss: 0.237357 Train acc: 0.809793 Valid acc: 0.748182\n",
      "Epoch: 33/200 Train loss: 0.003861 Valid loss: 0.239984 Train acc: 0.809793 Valid acc: 0.748182\n",
      "Epoch: 34/200 Train loss: 0.003545 Valid loss: 0.243230 Train acc: 0.809793 Valid acc: 0.748636\n",
      "Epoch: 35/200 Train loss: 0.003357 Valid loss: 0.246474 Train acc: 0.809793 Valid acc: 0.748182\n",
      "Epoch: 36/200 Train loss: 0.003188 Valid loss: 0.247558 Train acc: 0.809793 Valid acc: 0.747727\n",
      "Epoch: 37/200 Train loss: 0.003072 Valid loss: 0.245455 Train acc: 0.809793 Valid acc: 0.750000\n",
      "Epoch: 38/200 Train loss: 0.002942 Valid loss: 0.247630 Train acc: 0.809793 Valid acc: 0.748182\n",
      "Epoch: 39/200 Train loss: 0.002795 Valid loss: 0.250155 Train acc: 0.809793 Valid acc: 0.748636\n",
      "Epoch: 40/200 Train loss: 0.002518 Valid loss: 0.253542 Train acc: 0.809793 Valid acc: 0.748182\n",
      "Epoch: 41/200 Train loss: 0.002335 Valid loss: 0.257415 Train acc: 0.809793 Valid acc: 0.748182\n",
      "Epoch: 42/200 Train loss: 0.002116 Valid loss: 0.260344 Train acc: 0.809793 Valid acc: 0.748182\n",
      "Epoch: 43/200 Train loss: 0.001964 Valid loss: 0.262432 Train acc: 0.809793 Valid acc: 0.749091\n",
      "Epoch: 44/200 Train loss: 0.001732 Valid loss: 0.265154 Train acc: 0.809793 Valid acc: 0.749091\n",
      "Epoch: 45/200 Train loss: 0.001710 Valid loss: 0.252436 Train acc: 0.809793 Valid acc: 0.748182\n",
      "Epoch: 46/200 Train loss: 0.001712 Valid loss: 0.264309 Train acc: 0.809793 Valid acc: 0.747727\n",
      "Epoch: 47/200 Train loss: 0.001525 Valid loss: 0.269175 Train acc: 0.809793 Valid acc: 0.748182\n",
      "Epoch: 48/200 Train loss: 0.001415 Valid loss: 0.271752 Train acc: 0.809793 Valid acc: 0.747727\n",
      "Epoch: 49/200 Train loss: 0.001324 Valid loss: 0.274482 Train acc: 0.809793 Valid acc: 0.747727\n",
      "Epoch: 50/200 Train loss: 0.001253 Valid loss: 0.276585 Train acc: 0.809793 Valid acc: 0.746818\n",
      "Epoch: 51/200 Train loss: 0.001208 Valid loss: 0.279202 Train acc: 0.809793 Valid acc: 0.747273\n",
      "Epoch: 52/200 Train loss: 0.001136 Valid loss: 0.282425 Train acc: 0.809793 Valid acc: 0.747273\n",
      "Epoch: 53/200 Train loss: 0.001082 Valid loss: 0.284400 Train acc: 0.809793 Valid acc: 0.746364\n",
      "Epoch: 54/200 Train loss: 0.001019 Valid loss: 0.286036 Train acc: 0.809793 Valid acc: 0.747273\n",
      "Epoch: 55/200 Train loss: 0.000974 Valid loss: 0.289018 Train acc: 0.809793 Valid acc: 0.747273\n",
      "Epoch: 56/200 Train loss: 0.000918 Valid loss: 0.290030 Train acc: 0.809793 Valid acc: 0.747273\n",
      "Epoch: 57/200 Train loss: 0.000850 Valid loss: 0.296566 Train acc: 0.809793 Valid acc: 0.747273\n",
      "Epoch: 58/200 Train loss: 0.000808 Valid loss: 0.297539 Train acc: 0.809793 Valid acc: 0.746818\n",
      "Epoch: 59/200 Train loss: 0.000751 Valid loss: 0.298651 Train acc: 0.809793 Valid acc: 0.747273\n",
      "Epoch: 60/200 Train loss: 0.000764 Valid loss: 0.275260 Train acc: 0.809793 Valid acc: 0.751364\n",
      "Epoch: 61/200 Train loss: 0.126307 Valid loss: 0.227914 Train acc: 0.769411 Valid acc: 0.730455\n",
      "Epoch: 62/200 Train loss: 0.158869 Valid loss: 0.220668 Train acc: 0.768240 Valid acc: 0.727727\n",
      "Epoch: 63/200 Train loss: 0.108859 Valid loss: 0.216061 Train acc: 0.787944 Valid acc: 0.727273\n",
      "Epoch: 64/200 Train loss: 0.107470 Valid loss: 0.194095 Train acc: 0.789895 Valid acc: 0.745454\n",
      "Epoch: 65/200 Train loss: 0.106758 Valid loss: 0.208479 Train acc: 0.796332 Valid acc: 0.741364\n",
      "Epoch: 66/200 Train loss: 0.058295 Valid loss: 0.203435 Train acc: 0.803746 Valid acc: 0.740454\n",
      "Epoch: 67/200 Train loss: 0.033211 Valid loss: 0.203878 Train acc: 0.808037 Valid acc: 0.742273\n",
      "Epoch: 68/200 Train loss: 0.024623 Valid loss: 0.203565 Train acc: 0.809013 Valid acc: 0.742727\n",
      "Epoch: 69/200 Train loss: 0.019322 Valid loss: 0.203262 Train acc: 0.809598 Valid acc: 0.741364\n",
      "Epoch: 70/200 Train loss: 0.015610 Valid loss: 0.204404 Train acc: 0.809598 Valid acc: 0.743182\n",
      "Epoch: 71/200 Train loss: 0.014104 Valid loss: 0.205048 Train acc: 0.809793 Valid acc: 0.745000\n",
      "Epoch: 72/200 Train loss: 0.012508 Valid loss: 0.206970 Train acc: 0.809793 Valid acc: 0.743182\n",
      "Epoch: 73/200 Train loss: 0.012292 Valid loss: 0.208881 Train acc: 0.809793 Valid acc: 0.742727\n",
      "Epoch: 74/200 Train loss: 0.011984 Valid loss: 0.210146 Train acc: 0.809793 Valid acc: 0.742273\n",
      "Epoch: 75/200 Train loss: 0.011063 Valid loss: 0.211586 Train acc: 0.809793 Valid acc: 0.742727\n",
      "Epoch: 76/200 Train loss: 0.010510 Valid loss: 0.212215 Train acc: 0.809793 Valid acc: 0.742727\n",
      "Epoch: 77/200 Train loss: 0.009650 Valid loss: 0.213628 Train acc: 0.809793 Valid acc: 0.742273\n",
      "Epoch: 78/200 Train loss: 0.008176 Valid loss: 0.214799 Train acc: 0.809793 Valid acc: 0.742727\n",
      "Epoch: 79/200 Train loss: 0.007876 Valid loss: 0.217234 Train acc: 0.809793 Valid acc: 0.741364\n",
      "Epoch: 80/200 Train loss: 0.007189 Valid loss: 0.218463 Train acc: 0.809793 Valid acc: 0.743182\n",
      "Epoch: 81/200 Train loss: 0.006926 Valid loss: 0.221415 Train acc: 0.809793 Valid acc: 0.742727\n",
      "Epoch: 82/200 Train loss: 0.006660 Valid loss: 0.222438 Train acc: 0.809793 Valid acc: 0.740909\n",
      "Epoch: 83/200 Train loss: 0.006226 Valid loss: 0.235984 Train acc: 0.809793 Valid acc: 0.735909\n",
      "Epoch: 84/200 Train loss: 0.005526 Valid loss: 0.226223 Train acc: 0.809793 Valid acc: 0.744091\n",
      "Epoch: 85/200 Train loss: 0.005275 Valid loss: 0.229765 Train acc: 0.809793 Valid acc: 0.741364\n",
      "Epoch: 86/200 Train loss: 0.005096 Valid loss: 0.232326 Train acc: 0.809793 Valid acc: 0.741364\n"
     ]
    },
    {
     "name": "stdout",
     "output_type": "stream",
     "text": [
      "Epoch: 87/200 Train loss: 0.004948 Valid loss: 0.233388 Train acc: 0.809793 Valid acc: 0.741818\n",
      "Epoch: 88/200 Train loss: 0.004760 Valid loss: 0.234554 Train acc: 0.809793 Valid acc: 0.741818\n",
      "Epoch: 89/200 Train loss: 0.004462 Valid loss: 0.235342 Train acc: 0.809793 Valid acc: 0.741818\n",
      "Epoch: 90/200 Train loss: 0.004236 Valid loss: 0.250003 Train acc: 0.809793 Valid acc: 0.737727\n",
      "Epoch: 91/200 Train loss: 0.046580 Valid loss: 0.252333 Train acc: 0.797308 Valid acc: 0.720909\n",
      "Epoch: 92/200 Train loss: 0.098097 Valid loss: 0.247885 Train acc: 0.778580 Valid acc: 0.715000\n",
      "Epoch: 93/200 Train loss: 0.049535 Valid loss: 0.229403 Train acc: 0.797503 Valid acc: 0.737273\n",
      "Epoch: 94/200 Train loss: 0.020102 Valid loss: 0.231252 Train acc: 0.805696 Valid acc: 0.739545\n",
      "Epoch: 95/200 Train loss: 0.010761 Valid loss: 0.264358 Train acc: 0.808233 Valid acc: 0.735909\n",
      "Epoch: 96/200 Train loss: 0.009913 Valid loss: 0.235134 Train acc: 0.808037 Valid acc: 0.742273\n",
      "Epoch: 97/200 Train loss: 0.004569 Valid loss: 0.225968 Train acc: 0.809403 Valid acc: 0.746818\n",
      "Epoch: 98/200 Train loss: 0.003464 Valid loss: 0.234057 Train acc: 0.809793 Valid acc: 0.751364\n",
      "Epoch: 99/200 Train loss: 0.003300 Valid loss: 0.237895 Train acc: 0.809793 Valid acc: 0.750000\n",
      "Epoch: 100/200 Train loss: 0.003047 Valid loss: 0.241116 Train acc: 0.809793 Valid acc: 0.748182\n",
      "Epoch: 101/200 Train loss: 0.002948 Valid loss: 0.245813 Train acc: 0.809793 Valid acc: 0.749091\n",
      "Epoch: 102/200 Train loss: 0.002774 Valid loss: 0.247840 Train acc: 0.809793 Valid acc: 0.749091\n",
      "Epoch: 103/200 Train loss: 0.002627 Valid loss: 0.248962 Train acc: 0.809793 Valid acc: 0.748636\n",
      "Epoch: 104/200 Train loss: 0.002334 Valid loss: 0.253673 Train acc: 0.809793 Valid acc: 0.749091\n",
      "Epoch: 105/200 Train loss: 0.002240 Valid loss: 0.255082 Train acc: 0.809793 Valid acc: 0.747727\n",
      "Epoch: 106/200 Train loss: 0.002089 Valid loss: 0.259893 Train acc: 0.809793 Valid acc: 0.749091\n",
      "Epoch: 107/200 Train loss: 0.001950 Valid loss: 0.261293 Train acc: 0.809793 Valid acc: 0.749091\n",
      "Epoch: 108/200 Train loss: 0.002073 Valid loss: 0.354305 Train acc: 0.809793 Valid acc: 0.717273\n",
      "Epoch: 109/200 Train loss: 0.016762 Valid loss: 0.243795 Train acc: 0.806282 Valid acc: 0.732727\n",
      "Epoch: 110/200 Train loss: 0.064581 Valid loss: 0.250928 Train acc: 0.792431 Valid acc: 0.725000\n",
      "Epoch: 111/200 Train loss: 0.027148 Valid loss: 0.209760 Train acc: 0.802965 Valid acc: 0.742727\n",
      "Epoch: 112/200 Train loss: 0.013828 Valid loss: 0.254116 Train acc: 0.807062 Valid acc: 0.732727\n",
      "Epoch: 113/200 Train loss: 0.009065 Valid loss: 0.248974 Train acc: 0.808038 Valid acc: 0.737273\n",
      "Epoch: 114/200 Train loss: 0.004505 Valid loss: 0.259604 Train acc: 0.809208 Valid acc: 0.745454\n",
      "Epoch: 115/200 Train loss: 0.002500 Valid loss: 0.243654 Train acc: 0.809403 Valid acc: 0.745000\n",
      "Epoch: 116/200 Train loss: 0.002064 Valid loss: 0.247450 Train acc: 0.809793 Valid acc: 0.745909\n",
      "Epoch: 117/200 Train loss: 0.001907 Valid loss: 0.249244 Train acc: 0.809793 Valid acc: 0.746818\n",
      "Epoch: 118/200 Train loss: 0.002030 Valid loss: 0.250709 Train acc: 0.809793 Valid acc: 0.747273\n",
      "Epoch: 119/200 Train loss: 0.002010 Valid loss: 0.252583 Train acc: 0.809793 Valid acc: 0.746818\n",
      "Epoch: 120/200 Train loss: 0.001927 Valid loss: 0.252982 Train acc: 0.809793 Valid acc: 0.747273\n",
      "Epoch: 121/200 Train loss: 0.001871 Valid loss: 0.253517 Train acc: 0.809793 Valid acc: 0.746818\n",
      "Epoch: 122/200 Train loss: 0.001826 Valid loss: 0.253636 Train acc: 0.809793 Valid acc: 0.746818\n",
      "Epoch: 123/200 Train loss: 0.001791 Valid loss: 0.253669 Train acc: 0.809793 Valid acc: 0.746364\n",
      "Epoch: 124/200 Train loss: 0.001634 Valid loss: 0.255833 Train acc: 0.809793 Valid acc: 0.746364\n",
      "Epoch: 125/200 Train loss: 0.001335 Valid loss: 0.264470 Train acc: 0.809793 Valid acc: 0.747727\n",
      "Epoch: 126/200 Train loss: 0.001214 Valid loss: 0.263751 Train acc: 0.809793 Valid acc: 0.748182\n",
      "Epoch: 127/200 Train loss: 0.001104 Valid loss: 0.267314 Train acc: 0.809793 Valid acc: 0.747727\n",
      "Epoch: 128/200 Train loss: 0.001029 Valid loss: 0.268302 Train acc: 0.809793 Valid acc: 0.748182\n",
      "Epoch: 129/200 Train loss: 0.000993 Valid loss: 0.268141 Train acc: 0.809793 Valid acc: 0.748182\n",
      "Epoch: 130/200 Train loss: 0.000979 Valid loss: 0.270768 Train acc: 0.809793 Valid acc: 0.747727\n",
      "Epoch: 131/200 Train loss: 0.000927 Valid loss: 0.272246 Train acc: 0.809793 Valid acc: 0.747727\n",
      "Epoch: 132/200 Train loss: 0.000894 Valid loss: 0.271384 Train acc: 0.809793 Valid acc: 0.747727\n",
      "Epoch: 133/200 Train loss: 0.000880 Valid loss: 0.271511 Train acc: 0.809793 Valid acc: 0.747727\n",
      "Epoch: 134/200 Train loss: 0.000865 Valid loss: 0.271549 Train acc: 0.809793 Valid acc: 0.747273\n",
      "Epoch: 135/200 Train loss: 0.009447 Valid loss: 0.249295 Train acc: 0.807062 Valid acc: 0.721818\n",
      "Epoch: 136/200 Train loss: 0.091674 Valid loss: 0.291685 Train acc: 0.782677 Valid acc: 0.721364\n",
      "Epoch: 137/200 Train loss: 0.032094 Valid loss: 0.205653 Train acc: 0.801405 Valid acc: 0.739091\n",
      "Epoch: 138/200 Train loss: 0.010937 Valid loss: 0.216292 Train acc: 0.808233 Valid acc: 0.746364\n",
      "Epoch: 139/200 Train loss: 0.004995 Valid loss: 0.226877 Train acc: 0.809208 Valid acc: 0.747273\n",
      "Epoch: 140/200 Train loss: 0.004040 Valid loss: 0.228780 Train acc: 0.809598 Valid acc: 0.747273\n",
      "Epoch: 141/200 Train loss: 0.003026 Valid loss: 0.233931 Train acc: 0.809793 Valid acc: 0.746818\n",
      "Epoch: 142/200 Train loss: 0.002543 Valid loss: 0.238600 Train acc: 0.809793 Valid acc: 0.746364\n",
      "Epoch: 143/200 Train loss: 0.002315 Valid loss: 0.242070 Train acc: 0.809793 Valid acc: 0.746364\n",
      "Epoch: 144/200 Train loss: 0.002072 Valid loss: 0.244873 Train acc: 0.809793 Valid acc: 0.746818\n",
      "Epoch: 145/200 Train loss: 0.001891 Valid loss: 0.244474 Train acc: 0.809793 Valid acc: 0.746364\n",
      "Epoch: 146/200 Train loss: 0.001804 Valid loss: 0.248898 Train acc: 0.809793 Valid acc: 0.746364\n",
      "Epoch: 147/200 Train loss: 0.001690 Valid loss: 0.249300 Train acc: 0.809793 Valid acc: 0.745909\n",
      "Epoch: 148/200 Train loss: 0.001660 Valid loss: 0.249982 Train acc: 0.809793 Valid acc: 0.745454\n",
      "Epoch: 149/200 Train loss: 0.001636 Valid loss: 0.250732 Train acc: 0.809793 Valid acc: 0.745454\n",
      "Epoch: 150/200 Train loss: 0.001612 Valid loss: 0.251556 Train acc: 0.809793 Valid acc: 0.745909\n",
      "Epoch: 151/200 Train loss: 0.001586 Valid loss: 0.252022 Train acc: 0.809793 Valid acc: 0.745909\n",
      "Epoch: 152/200 Train loss: 0.001505 Valid loss: 0.253877 Train acc: 0.809793 Valid acc: 0.745909\n",
      "Epoch: 153/200 Train loss: 0.001462 Valid loss: 0.254275 Train acc: 0.809793 Valid acc: 0.746364\n",
      "Epoch: 154/200 Train loss: 0.001483 Valid loss: 0.260041 Train acc: 0.809793 Valid acc: 0.743636\n",
      "Epoch: 155/200 Train loss: 0.001389 Valid loss: 0.260337 Train acc: 0.809793 Valid acc: 0.743636\n",
      "Epoch: 156/200 Train loss: 0.001333 Valid loss: 0.260492 Train acc: 0.809793 Valid acc: 0.743636\n",
      "Epoch: 157/200 Train loss: 0.001168 Valid loss: 0.265672 Train acc: 0.809793 Valid acc: 0.744545\n",
      "Epoch: 158/200 Train loss: 0.001122 Valid loss: 0.266763 Train acc: 0.809793 Valid acc: 0.744091\n",
      "Epoch: 159/200 Train loss: 0.001083 Valid loss: 0.268922 Train acc: 0.809793 Valid acc: 0.744091\n",
      "Epoch: 160/200 Train loss: 0.000971 Valid loss: 0.268916 Train acc: 0.809793 Valid acc: 0.745454\n",
      "Epoch: 161/200 Train loss: 0.000892 Valid loss: 0.278535 Train acc: 0.809793 Valid acc: 0.745909\n",
      "Epoch: 162/200 Train loss: 0.000685 Valid loss: 0.278974 Train acc: 0.809793 Valid acc: 0.745909\n",
      "Epoch: 163/200 Train loss: 0.000615 Valid loss: 0.279268 Train acc: 0.809793 Valid acc: 0.746818\n",
      "Epoch: 164/200 Train loss: 0.003857 Valid loss: 0.332015 Train acc: 0.808818 Valid acc: 0.721364\n",
      "Epoch: 165/200 Train loss: 0.082073 Valid loss: 0.341358 Train acc: 0.786968 Valid acc: 0.704545\n",
      "Epoch: 166/200 Train loss: 0.038346 Valid loss: 0.215668 Train acc: 0.800429 Valid acc: 0.744091\n",
      "Epoch: 167/200 Train loss: 0.013025 Valid loss: 0.229315 Train acc: 0.806672 Valid acc: 0.742273\n",
      "Epoch: 168/200 Train loss: 0.005360 Valid loss: 0.249960 Train acc: 0.809598 Valid acc: 0.736818\n",
      "Epoch: 169/200 Train loss: 0.003060 Valid loss: 0.257637 Train acc: 0.809793 Valid acc: 0.737273\n",
      "Epoch: 170/200 Train loss: 0.002757 Valid loss: 0.261215 Train acc: 0.809793 Valid acc: 0.738182\n",
      "Epoch: 171/200 Train loss: 0.002475 Valid loss: 0.264763 Train acc: 0.809793 Valid acc: 0.738636\n"
     ]
    },
    {
     "name": "stdout",
     "output_type": "stream",
     "text": [
      "Epoch: 172/200 Train loss: 0.001845 Valid loss: 0.275636 Train acc: 0.809793 Valid acc: 0.739545\n",
      "Epoch: 173/200 Train loss: 0.001598 Valid loss: 0.275153 Train acc: 0.809793 Valid acc: 0.740000\n",
      "Epoch: 174/200 Train loss: 0.001561 Valid loss: 0.273328 Train acc: 0.809793 Valid acc: 0.741364\n",
      "Epoch: 175/200 Train loss: 0.001485 Valid loss: 0.274189 Train acc: 0.809793 Valid acc: 0.741818\n",
      "Epoch: 176/200 Train loss: 0.001437 Valid loss: 0.273379 Train acc: 0.809793 Valid acc: 0.741818\n",
      "Epoch: 177/200 Train loss: 0.001426 Valid loss: 0.272696 Train acc: 0.809793 Valid acc: 0.742727\n",
      "Epoch: 178/200 Train loss: 0.001352 Valid loss: 0.274197 Train acc: 0.809793 Valid acc: 0.741818\n",
      "Epoch: 179/200 Train loss: 0.001334 Valid loss: 0.274449 Train acc: 0.809793 Valid acc: 0.742273\n",
      "Epoch: 180/200 Train loss: 0.001208 Valid loss: 0.276325 Train acc: 0.809793 Valid acc: 0.742273\n",
      "Epoch: 181/200 Train loss: 0.001020 Valid loss: 0.286411 Train acc: 0.809793 Valid acc: 0.742727\n",
      "Epoch: 182/200 Train loss: 0.000942 Valid loss: 0.274284 Train acc: 0.809793 Valid acc: 0.741818\n",
      "Epoch: 183/200 Train loss: 0.000947 Valid loss: 0.278984 Train acc: 0.809793 Valid acc: 0.741818\n",
      "Epoch: 184/200 Train loss: 0.000979 Valid loss: 0.277793 Train acc: 0.809793 Valid acc: 0.740909\n",
      "Epoch: 185/200 Train loss: 0.000991 Valid loss: 0.277521 Train acc: 0.809793 Valid acc: 0.741364\n",
      "Epoch: 186/200 Train loss: 0.000975 Valid loss: 0.280234 Train acc: 0.809793 Valid acc: 0.742727\n",
      "Epoch: 187/200 Train loss: 0.000930 Valid loss: 0.279054 Train acc: 0.809793 Valid acc: 0.742727\n",
      "Epoch: 188/200 Train loss: 0.000921 Valid loss: 0.279498 Train acc: 0.809793 Valid acc: 0.743636\n",
      "Epoch: 189/200 Train loss: 0.000893 Valid loss: 0.280169 Train acc: 0.809793 Valid acc: 0.743182\n",
      "Epoch: 190/200 Train loss: 0.001018 Valid loss: 0.265492 Train acc: 0.809793 Valid acc: 0.743636\n",
      "Epoch: 191/200 Train loss: 0.039173 Valid loss: 0.235761 Train acc: 0.800234 Valid acc: 0.724545\n",
      "Epoch: 192/200 Train loss: 0.030667 Valid loss: 0.221299 Train acc: 0.803550 Valid acc: 0.737273\n",
      "Epoch: 193/200 Train loss: 0.014600 Valid loss: 0.223418 Train acc: 0.807452 Valid acc: 0.743636\n",
      "Epoch: 194/200 Train loss: 0.007458 Valid loss: 0.232128 Train acc: 0.809208 Valid acc: 0.740454\n",
      "Epoch: 195/200 Train loss: 0.003679 Valid loss: 0.243825 Train acc: 0.809598 Valid acc: 0.741364\n",
      "Epoch: 196/200 Train loss: 0.002638 Valid loss: 0.254672 Train acc: 0.809793 Valid acc: 0.741364\n",
      "Epoch: 197/200 Train loss: 0.001847 Valid loss: 0.270263 Train acc: 0.809793 Valid acc: 0.740454\n",
      "Epoch: 198/200 Train loss: 0.001572 Valid loss: 0.274406 Train acc: 0.809793 Valid acc: 0.741364\n",
      "Epoch: 199/200 Train loss: 0.001495 Valid loss: 0.273559 Train acc: 0.809793 Valid acc: 0.740909\n",
      "Epoch: 200/200 Train loss: 0.001385 Valid loss: 0.274789 Train acc: 0.809793 Valid acc: 0.740454\n"
     ]
    }
   ],
   "source": [
    "train_acc, train_loss = [], []\n",
    "valid_acc, valid_loss = [], []\n",
    "\n",
    "# Save the training result or trained and validated model params\n",
    "saver = tf.train.Saver()\n",
    "\n",
    "with tf.Session() as sess:\n",
    "    \n",
    "    # Initialize the variables in the case, we don't load any pre-trained model.\n",
    "    sess.run(fetches=tf.global_variables_initializer())\n",
    "   \n",
    "    #     # Restore the validated model\n",
    "    #     saver.restore(sess, tf.train.latest_checkpoint('checkpoints'))\n",
    "    #     #saver.restore(sess=sess, save_path='checkpoints/lstm-imu-har.ckpt')\n",
    "    \n",
    "    # Loop over epochs\n",
    "    epochs = 200\n",
    "    for epoch in range(epochs):\n",
    "        \n",
    "        # Loop over batches of training\n",
    "        state = sess.run(fetches=initial_state)\n",
    "        loss_batch, acc_batch = [], []\n",
    "        for Xarr, Yarr in get_batches(X=Xtrain, Y=Ytrain, batch_size=N):\n",
    "            \n",
    "            # Feed dictionary\n",
    "            feed_dict = {Xinputs:Xarr, Yindices:Yarr, initial_state:state}\n",
    "            lossarr, _ , state, accarr = sess.run(fetches=[loss, optimizer, final_state, accuracy], \n",
    "                                                  feed_dict=feed_dict)\n",
    "            loss_batch.append(lossarr)\n",
    "            acc_batch.append(accarr)\n",
    "            \n",
    "        # acc and loss for plotting\n",
    "        train_acc.append(np.mean(acc_batch))\n",
    "        train_loss.append(np.mean(loss_batch))\n",
    "\n",
    "        # Loop over batches of validation\n",
    "        state = sess.run(fetches=initial_state)\n",
    "        loss_batch, acc_batch = [], []\n",
    "        for Xarr, Yarr in get_batches(X=Xvalid, Y=Yvalid, batch_size=N):\n",
    "            \n",
    "            # Feed dictionary\n",
    "            feed_dict = {Xinputs:Xarr, Yindices:Yarr, initial_state:state}\n",
    "            lossarr, state, accarr = sess.run(fetches=[loss, final_state, accuracy], feed_dict=feed_dict)\n",
    "            loss_batch.append(lossarr)\n",
    "            acc_batch.append(accarr)\n",
    "            \n",
    "        # acc and loss for plotting\n",
    "        valid_acc.append(np.mean(acc_batch))\n",
    "        valid_loss.append(np.mean(loss_batch))\n",
    "            \n",
    "        # Print info for every iter/epoch\n",
    "        print(\"Epoch: {}/{}\".format(epoch+1, epochs),\n",
    "              \"Train loss: {:6f}\".format(train_loss[epoch]),\n",
    "              \"Valid loss: {:.6f}\".format(valid_loss[epoch]),\n",
    "              \"Train acc: {:6f}\".format(train_acc[epoch]),\n",
    "              \"Valid acc: {:.6f}\".format(valid_acc[epoch]))\n",
    "                \n",
    "    saver.save(sess, 'checkpoints/lstm-imu-har.ckpt')"
   ]
  },
  {
   "cell_type": "code",
   "execution_count": 28,
   "metadata": {},
   "outputs": [
    {
     "data": {
      "image/png": "[encoded data removed]",
      "text/plain": [
       "<Figure size 432x288 with 1 Axes>"
      ]
     },
     "metadata": {},
     "output_type": "display_data"
    }
   ],
   "source": [
    "import matplotlib.pyplot as mplot\n",
    "%matplotlib inline\n",
    "\n",
    "mplot.plot(train_loss, label='train_loss')\n",
    "mplot.plot(valid_loss, label='valid_loss')\n",
    "mplot.legend()\n",
    "mplot.show()"
   ]
  },
  {
   "cell_type": "code",
   "execution_count": 29,
   "metadata": {},
   "outputs": [
    {
     "data": {
      "image/png": "[encoded data removed]",
      "text/plain": [
       "<Figure size 432x288 with 1 Axes>"
      ]
     },
     "metadata": {},
     "output_type": "display_data"
    }
   ],
   "source": [
    "# import matplotlib.pyplot as mplot\n",
    "mplot.plot(train_acc, label='train_acc')\n",
    "mplot.plot(valid_acc, label='valid_acc')\n",
    "mplot.legend()\n",
    "mplot.show()"
   ]
  },
  {
   "cell_type": "code",
   "execution_count": 30,
   "metadata": {},
   "outputs": [
    {
     "name": "stdout",
     "output_type": "stream",
     "text": [
      "INFO:tensorflow:Restoring parameters from checkpoints/lstm-imu-har.ckpt\n",
      "Test loss: 0.479625 Test acc: 0.715994\n"
     ]
    }
   ],
   "source": [
    "with tf.Session() as sess:\n",
    "    # Restore the validated model\n",
    "    saver.restore(sess, tf.train.latest_checkpoint('checkpoints'))\n",
    "    #saver.restore(sess=sess, save_path='checkpoints/lstm-imu-har.ckpt')\n",
    "    \n",
    "    # Loop over batches of Test\n",
    "    state = sess.run(fetches=initial_state)\n",
    "    loss_batch, acc_batch = [], []\n",
    "    for Xarr, Yarr in get_batches(X=Xtest, Y=Ytest, batch_size=N):\n",
    "\n",
    "        # Feed dictionary\n",
    "        feed_dict = {Xinputs:Xarr, Yindices:Yarr, initial_state:state}\n",
    "        lossarr, state, accarr = sess.run(fetches=[loss, final_state, accuracy], feed_dict=feed_dict)\n",
    "        loss_batch.append(lossarr)\n",
    "        acc_batch.append(accarr)\n",
    "\n",
    "    # Print info for every iter/epoch\n",
    "    print(\"Test loss: {:6f}\".format(np.mean(loss_batch)),\n",
    "          \"Test acc: {:.6f}\".format(np.mean(acc_batch)))"
   ]
  },
  {
   "cell_type": "code",
   "execution_count": null,
   "metadata": {},
   "outputs": [],
   "source": []
  }
 ],
 "metadata": {
  "kernelspec": {
   "display_name": "Python 3",
   "language": "python",
   "name": "python3"
  },
  "language_info": {
   "codemirror_mode": {
    "name": "ipython",
    "version": 3
   },
   "file_extension": ".py",
   "mimetype": "text/x-python",
   "name": "python",
   "nbconvert_exporter": "python",
   "pygments_lexer": "ipython3",
   "version": "3.6.5"
  },
  "widgets": {
   "state": {},
   "version": "1.1.2"
  }
 },
 "nbformat": 4,
 "nbformat_minor": 2
}
