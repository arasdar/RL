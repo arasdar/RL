{
 "cells": [
  {
   "cell_type": "code",
   "execution_count": 1,
   "metadata": {},
   "outputs": [
    {
     "name": "stderr",
     "output_type": "stream",
     "text": [
      "/home/arasdar/anaconda3/envs/env/lib/python3.6/site-packages/ipykernel_launcher.py:37: FutureWarning: Method .as_matrix will be removed in a future version. Use .values instead.\n"
     ]
    },
    {
     "name": "stdout",
     "output_type": "stream",
     "text": [
      "0.16675734494015235 0.1459466811751904 0.13411316648531013 0.1749183895538629 0.1868879216539717 0.1913764961915125\n",
      "(7352, 128, 9) float64 (2947, 128, 9) float64\n",
      "(7352,) int64 (2947,) int64\n"
     ]
    }
   ],
   "source": [
    "# HAR classification \n",
    "# Author: Burak Himmetoglu\n",
    "# 8/15/2017\n",
    "\n",
    "import pandas as pd \n",
    "import numpy as np\n",
    "import os\n",
    "\n",
    "def read_data(data_path, split = \"train\"):\n",
    "\t\"\"\" Read data \"\"\"\n",
    "\n",
    "\t# Fixed params\n",
    "\tn_class = 6\n",
    "\tn_steps = 128\n",
    "\n",
    "\t# Paths\n",
    "\tpath_ = os.path.join(data_path, split)\n",
    "\tpath_signals = os.path.join(path_, \"Inertial_Signals\")\n",
    "\n",
    "\t# Read labels and one-hot encode\n",
    "\tlabel_path = os.path.join(path_, \"y_\" + split + \".txt\")\n",
    "\tlabels = pd.read_csv(label_path, header = None)\n",
    "\n",
    "\t# Read time-series data\n",
    "\tchannel_files = os.listdir(path_signals)\n",
    "\tchannel_files.sort()\n",
    "\tn_channels = len(channel_files)\n",
    "\tposix = len(split) + 5\n",
    "\n",
    "\t# Initiate array\n",
    "\tlist_of_channels = []\n",
    "\tX = np.zeros((len(labels), n_steps, n_channels))\n",
    "\ti_ch = 0\n",
    "\tfor fil_ch in channel_files:\n",
    "\t\tchannel_name = fil_ch[:-posix]\n",
    "\t\tdat_ = pd.read_csv(os.path.join(path_signals,fil_ch), delim_whitespace = True, header = None)\n",
    "\t\tX[:,:,i_ch] = dat_.as_matrix()\n",
    "\n",
    "\t\t# Record names\n",
    "\t\tlist_of_channels.append(channel_name)\n",
    "\n",
    "\t\t# iterate\n",
    "\t\ti_ch += 1\n",
    "\n",
    "\t# Return \n",
    "\treturn X, labels[0].values, list_of_channels\n",
    "\n",
    "# test and train read\n",
    "Xtrain, Ytrain, _ = read_data(data_path=\"/home/arasdar/datasets/har-data/\", split=\"train\")\n",
    "Xtest, Ytest, _ = read_data(data_path=\"/home/arasdar/datasets/har-data/\", split=\"test\")\n",
    "\n",
    "# assert list_ch_train_valid == list_ch_test, \"Mistmatch in channels!\"\n",
    "assert Ytrain.max(axis=0) == Ytest.max(axis=0), 'Mismatch in channels of Ytrain and Ytest'\n",
    "\n",
    "# balanced data or not\n",
    "print(np.mean(Ytrain==1), np.mean(Ytrain==2), np.mean(Ytrain==3), \n",
    "      np.mean(Ytrain==4), np.mean(Ytrain==5), np.mean(Ytrain==6))\n",
    "\n",
    "print(Xtrain.shape, Xtrain.dtype, Xtest.shape, Xtest.dtype)\n",
    "print(Ytrain.shape, Ytrain.dtype, Ytest.shape, Ytest.dtype)"
   ]
  },
  {
   "cell_type": "code",
   "execution_count": 2,
   "metadata": {},
   "outputs": [
    {
     "name": "stdout",
     "output_type": "stream",
     "text": [
      "(7352, 128, 9) float64\n",
      "(2947, 128, 9) float64\n"
     ]
    }
   ],
   "source": [
    "# # standardizing/normalizing the train and test data\n",
    "# def standardize(train, test):\n",
    "# \"\"\" Standardize data \"\"\"\n",
    "# # Standardize train and test\n",
    "# X_train = (train - np.mean(train, axis=0)[None,:,:]) / np.std(train, axis=0)[None,:,:]\n",
    "# X_test = (test - np.mean(test, axis=0)[None,:,:]) / np.std(test, axis=0)[None,:,:]\n",
    "# return X_train, X_test\n",
    "\n",
    "Xtrain = (Xtrain - Xtrain.mean(axis=0))/ Xtrain.std(axis=0)\n",
    "Xtest = (Xtest - Xtest.mean(axis=0))/ Xtest.std(axis=0)\n",
    "print(Xtrain.shape, Xtrain.dtype)\n",
    "print(Xtest.shape, Xtest.dtype)\n",
    "# # Normalizing/standardizing the input data features\n",
    "# Xtrain, Xtest = standardize(train=Xtrain, test=Xtest)"
   ]
  },
  {
   "cell_type": "code",
   "execution_count": 3,
   "metadata": {},
   "outputs": [
    {
     "name": "stdout",
     "output_type": "stream",
     "text": [
      "[[ 7.29829690e-17 -1.02082531e-17  1.57352066e-17 ... -4.98687012e-15\n",
      "   1.85772084e-16  1.49046535e-16]\n",
      " [-3.78883238e-17 -3.43169454e-17  2.59223183e-16 ...  1.22050349e-15\n",
      "   4.80512740e-17 -4.62565242e-16]\n",
      " [ 1.84533805e-17 -2.06052682e-17 -3.44906065e-17 ... -2.15841883e-16\n",
      "   2.85362956e-16 -3.28763132e-16]\n",
      " ...\n",
      " [ 4.40797199e-17 -2.73629505e-17 -1.20505709e-17 ...  5.30356876e-15\n",
      "   5.48165068e-17 -3.37113966e-16]\n",
      " [ 2.29534684e-17  5.79273058e-17  8.81896418e-18 ...  2.48264790e-15\n",
      "  -1.15794208e-16  4.64958745e-17]\n",
      " [ 4.27810368e-17  1.22921864e-17 -3.12589997e-17 ... -1.67407304e-15\n",
      "   1.10599475e-16 -3.55174722e-16]] [[1. 1. 1. ... 1. 1. 1.]\n",
      " [1. 1. 1. ... 1. 1. 1.]\n",
      " [1. 1. 1. ... 1. 1. 1.]\n",
      " ...\n",
      " [1. 1. 1. ... 1. 1. 1.]\n",
      " [1. 1. 1. ... 1. 1. 1.]\n",
      " [1. 1. 1. ... 1. 1. 1.]]\n"
     ]
    }
   ],
   "source": [
    "print(Xtrain.mean(axis=0), Xtrain.std(axis=0))"
   ]
  },
  {
   "cell_type": "code",
   "execution_count": 4,
   "metadata": {},
   "outputs": [
    {
     "name": "stdout",
     "output_type": "stream",
     "text": [
      "[[ 7.16540276e-17  1.80830354e-17  2.95356244e-17 ... -4.00445992e-15\n",
      "   3.99333697e-17  2.13869566e-16]\n",
      " [ 5.58878811e-17  3.33782694e-17  5.28928784e-17 ...  6.23404167e-15\n",
      "   7.13526437e-17 -1.22135835e-16]\n",
      " [ 1.11512051e-17  8.43874983e-18  4.68652000e-17 ... -2.75390501e-15\n",
      "  -1.09251672e-17 -8.88329112e-17]\n",
      " ...\n",
      " [ 1.58980019e-17 -3.98580238e-17  3.31522315e-18 ... -1.33149533e-15\n",
      "   6.84894964e-17 -1.86330610e-16]\n",
      " [ 4.07810120e-17  5.57277709e-17  3.27001556e-17 ...  3.11386101e-16\n",
      "   1.40520254e-17 -2.61751937e-16]\n",
      " [ 9.20162788e-18 -4.68275270e-17 -4.47555125e-17 ... -1.35942986e-16\n",
      "   4.69028729e-17  2.26923257e-16]] [[1. 1. 1. ... 1. 1. 1.]\n",
      " [1. 1. 1. ... 1. 1. 1.]\n",
      " [1. 1. 1. ... 1. 1. 1.]\n",
      " ...\n",
      " [1. 1. 1. ... 1. 1. 1.]\n",
      " [1. 1. 1. ... 1. 1. 1.]\n",
      " [1. 1. 1. ... 1. 1. 1.]]\n"
     ]
    }
   ],
   "source": [
    "print(Xtest.mean(axis=0), Xtest.std(axis=0))"
   ]
  },
  {
   "cell_type": "code",
   "execution_count": 5,
   "metadata": {},
   "outputs": [],
   "source": [
    "# # # Onehotencoding of the output labels\n",
    "# # def onehot(labels, n_class):\n",
    "# # \t\"\"\" One-hot encoding \"\"\"\n",
    "# # \texpansion = np.eye(n_class)\n",
    "# # \ty = expansion[:, labels-1].T\n",
    "# # \tassert y.shape[1] == n_class, \"Wrong number of labels!\"\n",
    "\n",
    "# # \treturn y\n",
    "\n",
    "# print(Ytrain.max(axis=0), Ytest.max(axis=0))\n",
    "# assert Ytrain.max(axis=0) == Ytest.max(axis=0), 'wrong labels'\n",
    "\n",
    "# # Ytrain=onehot(labels=Ytrain, n_class=Ytrain.max(axis=0))\n",
    "# # Ytest=onehot(labels=Ytest, n_class=Ytest.max(axis=0))\n",
    "# # print(Ytrain.shape, Ytrain.dtype, Ytest.shape, Ytest.dtype)"
   ]
  },
  {
   "cell_type": "code",
   "execution_count": 6,
   "metadata": {},
   "outputs": [
    {
     "name": "stdout",
     "output_type": "stream",
     "text": [
      "(5146, 128, 9) (2206, 128, 9) (2947, 128, 9) float64 float64 float64\n",
      "(5146,) (2206,) (2947,) int64 int64 int64\n"
     ]
    }
   ],
   "source": [
    "from sklearn.model_selection import train_test_split\n",
    "\n",
    "# Now separating train and validation set\n",
    "# 30% of the training data/ entire training data is assigned to validation.\n",
    "Xtrain, Xvalid, Ytrain, Yvalid = train_test_split(Xtrain, Ytrain, test_size=0.30)\n",
    "print(Xtrain.shape, Xvalid.shape, Xtest.shape, Xtrain.dtype, Xvalid.dtype, Xtest.dtype)\n",
    "print(Ytrain.shape, Yvalid.shape, Ytest.shape, Ytrain.dtype, Yvalid.dtype, Ytest.dtype)"
   ]
  },
  {
   "cell_type": "code",
   "execution_count": 7,
   "metadata": {},
   "outputs": [
    {
     "name": "stdout",
     "output_type": "stream",
     "text": [
      "TensorFlow Version: 1.8.0\n",
      "Default GPU Device: /device:GPU:0\n"
     ]
    }
   ],
   "source": [
    "# In this one we should define and detect GPUs for tensorflow\n",
    "# GPUs or CPU\n",
    "import tensorflow as tf\n",
    "\n",
    "# Check TensorFlow Version\n",
    "print('TensorFlow Version: {}'.format(tf.__version__))\n",
    "\n",
    "# Check for a GPU\n",
    "print('Default GPU Device: {}'.format(tf.test.gpu_device_name()))"
   ]
  },
  {
   "cell_type": "code",
   "execution_count": 8,
   "metadata": {},
   "outputs": [
    {
     "name": "stdout",
     "output_type": "stream",
     "text": [
      "(220, 128, 9) <dtype: 'float32'> (5146, 128, 9) float64 (2206, 128, 9) float64 (2947, 128, 9) float64\n"
     ]
    }
   ],
   "source": [
    "# now I can design the actual input and output tensors\n",
    "N, W, Cin = Xvalid.shape[0]//10, Xvalid.shape[1], Xvalid.shape[2]\n",
    "Xinputs = tf.placeholder(dtype=tf.float32, name=None, shape=[N, W, Cin])\n",
    "print(Xinputs.shape, Xinputs.dtype, Xtrain.shape, Xtrain.dtype, Xvalid.shape, Xvalid.dtype, Xtest.shape, Xtest.dtype)"
   ]
  },
  {
   "cell_type": "code",
   "execution_count": 9,
   "metadata": {},
   "outputs": [],
   "source": [
    "# # This is the output tensor for labels\n",
    "# N, Cout = Yvalid.shape[0], Yvalid.shape[1]\n",
    "# Ylabels = tf.placeholder(dtype=tf.float32, name=None, shape=[N, Cout])\n",
    "# print(Ylabels.shape, Ylabels.dtype, Ytrain.shape, Ytrain.dtype, Yvalid.shape, Yvalid.dtype, Ytest.shape, Ytest.dtype)"
   ]
  },
  {
   "cell_type": "code",
   "execution_count": 10,
   "metadata": {},
   "outputs": [
    {
     "name": "stdout",
     "output_type": "stream",
     "text": [
      "(220,) <dtype: 'int32'> (5146,) int64 (2206,) int64 (2947,) int64\n"
     ]
    }
   ],
   "source": [
    "# This is the output tensor for indices which sould be onehot-encoded for training\n",
    "Yindices = tf.placeholder(dtype=tf.int32, name=None, shape=[N])\n",
    "print(Yindices.shape, Yindices.dtype, Ytrain.shape, Ytrain.dtype, Yvalid.shape, Yvalid.dtype, Ytest.shape, Ytest.dtype)"
   ]
  },
  {
   "cell_type": "code",
   "execution_count": 11,
   "metadata": {},
   "outputs": [
    {
     "name": "stdout",
     "output_type": "stream",
     "text": [
      "Xinputs: (220, 128, 9) <dtype: 'float32'>\n",
      "Xinputs_vec: (220, 1152) <dtype: 'float32'>\n",
      "220 (1, 1152) <dtype: 'float32'>\n"
     ]
    }
   ],
   "source": [
    "print('Xinputs:', Xinputs.shape, Xinputs.dtype)\n",
    "Xinputs_vec = tf.reshape(tensor=Xinputs, shape=[N, W*Cin]) # (W*N, Cin)\n",
    "print('Xinputs_vec:', Xinputs_vec.shape, Xinputs_vec.dtype)\n",
    "inputs = tf.split(value=Xinputs_vec, num_or_size_splits=N, axis=0)\n",
    "print(len(inputs), inputs[0].shape, inputs[0].dtype)"
   ]
  },
  {
   "cell_type": "code",
   "execution_count": 12,
   "metadata": {},
   "outputs": [
    {
     "name": "stdout",
     "output_type": "stream",
     "text": [
      "1152\n",
      "<tensorflow.python.ops.rnn_cell_impl.BasicLSTMCell object at 0x7fcd98103ef0>\n"
     ]
    }
   ],
   "source": [
    "# RNN-LSTM parameters\n",
    "lstm_size = W*Cin # 3 times the amount of channels\n",
    "print(lstm_size)\n",
    "\n",
    "# Add LSTM layers\n",
    "# lstm = tf.contrib.rnn.BasicLSTMCell(lstm_size)\n",
    "lstm = tf.nn.rnn_cell.BasicLSTMCell(num_units=lstm_size)\n",
    "print(lstm)"
   ]
  },
  {
   "cell_type": "code",
   "execution_count": 13,
   "metadata": {},
   "outputs": [],
   "source": [
    "# drop = tf.nn.rnn_cell.DropoutWrapper(lstm, output_keep_prob=keep_prob_)\n",
    "lstm_layers = 1 # Number of layers\n",
    "cell = tf.nn.rnn_cell.MultiRNNCell(cells=[lstm] * lstm_layers)"
   ]
  },
  {
   "cell_type": "code",
   "execution_count": 14,
   "metadata": {},
   "outputs": [
    {
     "name": "stdout",
     "output_type": "stream",
     "text": [
      "(LSTMStateTuple(c=<tf.Tensor 'MultiRNNCellZeroState/BasicLSTMCellZeroState/zeros:0' shape=(1, 1152) dtype=float32>, h=<tf.Tensor 'MultiRNNCellZeroState/BasicLSTMCellZeroState/zeros_1:0' shape=(1, 1152) dtype=float32>),)\n"
     ]
    }
   ],
   "source": [
    "initial_state = cell.zero_state(batch_size=1, dtype=tf.float32)\n",
    "print(initial_state)"
   ]
  },
  {
   "cell_type": "code",
   "execution_count": 16,
   "metadata": {},
   "outputs": [
    {
     "name": "stdout",
     "output_type": "stream",
     "text": [
      "220 (1, 1152) <dtype: 'float32'> 1\n"
     ]
    }
   ],
   "source": [
    "outputs, final_state = tf.nn.static_rnn(cell=cell, inputs=inputs, dtype=tf.float32, initial_state=initial_state)\n",
    "# outputs, final_state = tf.nn.dynamic_rnn(cell=cell, inputs=inputs, dtype=tf.float32, initial_state=initial_state)\n",
    "print(len(outputs), outputs[0].shape, outputs[0].dtype, len(final_state))"
   ]
  },
  {
   "cell_type": "code",
   "execution_count": 17,
   "metadata": {},
   "outputs": [
    {
     "name": "stdout",
     "output_type": "stream",
     "text": [
      "6 6 6\n",
      "1 1 1\n"
     ]
    }
   ],
   "source": [
    "print(Ytrain.max(axis=0), Yvalid.max(axis=0), Ytest.max(axis=0))\n",
    "print(Ytrain.min(axis=0), Yvalid.min(axis=0), Ytest.min(axis=0))\n",
    "assert Ytrain.max(axis=0) == Ytest.max(axis=0), 'wrong labels'\n",
    "Cout = Ytrain.max(axis=0)"
   ]
  },
  {
   "cell_type": "code",
   "execution_count": 18,
   "metadata": {},
   "outputs": [
    {
     "name": "stdout",
     "output_type": "stream",
     "text": [
      "Tensor(\"concat:0\", shape=(220, 1152), dtype=float32)\n"
     ]
    }
   ],
   "source": [
    "outputs_ = tf.concat(outputs, axis=0)\n",
    "print(outputs_)"
   ]
  },
  {
   "cell_type": "code",
   "execution_count": 19,
   "metadata": {},
   "outputs": [
    {
     "name": "stdout",
     "output_type": "stream",
     "text": [
      "(220, 6) <dtype: 'float32'>\n",
      "220 (1, 1152) <dtype: 'float32'> (LSTMStateTuple(c=<tf.Tensor 'rnn_1/rnn/multi_rnn_cell/cell_0/basic_lstm_cell/Add_439:0' shape=(1, 1152) dtype=float32>, h=<tf.Tensor 'rnn_1/rnn/multi_rnn_cell/cell_0/basic_lstm_cell/Mul_659:0' shape=(1, 1152) dtype=float32>),)\n"
     ]
    }
   ],
   "source": [
    "# We only need the last output tensor to pass into a classifier\n",
    "Ylogits = tf.layers.dense(inputs=outputs_, units=Cout, name=None)\n",
    "print(Ylogits.shape, Ylogits.dtype)\n",
    "print(len(outputs), outputs[-1].shape, outputs[-1].dtype, final_state)"
   ]
  },
  {
   "cell_type": "code",
   "execution_count": 20,
   "metadata": {},
   "outputs": [
    {
     "name": "stdout",
     "output_type": "stream",
     "text": [
      "Tensor(\"softmax_cross_entropy_with_logits/Reshape_2:0\", shape=(220,), dtype=float32)\n",
      "Tensor(\"Mean:0\", shape=(), dtype=float32)\n"
     ]
    }
   ],
   "source": [
    "# Backward pass: error backpropagation\n",
    "# Cost function\n",
    "Ylabels = tf.one_hot(depth=Cout, indices=Yindices, dtype=Ylogits.dtype)\n",
    "loss = tf.nn.softmax_cross_entropy_with_logits_v2(logits=Ylogits, labels=Ylabels)\n",
    "print(loss)\n",
    "loss = tf.reduce_mean(input_tensor=loss)\n",
    "print(loss)"
   ]
  },
  {
   "cell_type": "code",
   "execution_count": 23,
   "metadata": {},
   "outputs": [],
   "source": [
    "# Calculate and clip gradients\n",
    "params = tf.trainable_variables()\n",
    "gradients = tf.gradients(loss, params)\n",
    "max_gradient_norm = 5\n",
    "clipped_gradients, _ = tf.clip_by_global_norm(gradients, max_gradient_norm)"
   ]
  },
  {
   "cell_type": "code",
   "execution_count": 27,
   "metadata": {},
   "outputs": [],
   "source": [
    "# # Optimization\n",
    "# optimizer = tf.train.AdamOptimizer(learning_rate=0.001)\n",
    "# update_step = optimizer.apply_gradients(\n",
    "#     zip(clipped_gradients, params))"
   ]
  },
  {
   "cell_type": "code",
   "execution_count": 28,
   "metadata": {},
   "outputs": [],
   "source": [
    "# # Optimizer for training, using gradient clipping to control exploding gradients\n",
    "# tvars = tf.trainable_variables()\n",
    "# #grads, _ = tf.clip_by_global_norm(tf.gradients(loss, tvars), grad_clip)\n",
    "# grads = tf.gradients(loss, tvars)\n",
    "learning_rate = 0.001\n",
    "train_op = tf.train.AdamOptimizer(learning_rate)\n",
    "optimizer = train_op.apply_gradients(zip(clipped_gradients, params))"
   ]
  },
  {
   "cell_type": "code",
   "execution_count": 29,
   "metadata": {},
   "outputs": [
    {
     "name": "stdout",
     "output_type": "stream",
     "text": [
      "4 4 <tensorflow.python.training.adam.AdamOptimizer object at 0x7fcca41fc278> name: \"Adam_3\"\n",
      "op: \"NoOp\"\n",
      "input: \"^Adam_3/update_rnn/multi_rnn_cell/cell_0/basic_lstm_cell/kernel/ApplyAdam\"\n",
      "input: \"^Adam_3/update_rnn/multi_rnn_cell/cell_0/basic_lstm_cell/bias/ApplyAdam\"\n",
      "input: \"^Adam_3/update_dense/kernel/ApplyAdam\"\n",
      "input: \"^Adam_3/update_dense/bias/ApplyAdam\"\n",
      "input: \"^Adam_3/Assign\"\n",
      "input: \"^Adam_3/Assign_1\"\n",
      "\n",
      "<tf.Variable 'rnn/multi_rnn_cell/cell_0/basic_lstm_cell/kernel:0' shape=(2304, 4608) dtype=float32_ref>\n",
      "Tensor(\"gradients/AddN_439:0\", shape=(2304, 4608), dtype=float32)\n",
      "<tf.Variable 'rnn/multi_rnn_cell/cell_0/basic_lstm_cell/bias:0' shape=(4608,) dtype=float32_ref>\n",
      "Tensor(\"gradients/AddN_438:0\", shape=(4608,), dtype=float32)\n",
      "<tf.Variable 'dense/kernel:0' shape=(1152, 6) dtype=float32_ref>\n",
      "Tensor(\"gradients/dense/MatMul_grad/MatMul_1:0\", shape=(1152, 6), dtype=float32)\n",
      "<tf.Variable 'dense/bias:0' shape=(6,) dtype=float32_ref>\n",
      "Tensor(\"gradients/dense/BiasAdd_grad/BiasAddGrad:0\", shape=(6,), dtype=float32)\n"
     ]
    }
   ],
   "source": [
    "print(len(tvars), len(grads), train_op, optimizer)\n",
    "print(tvars[0])\n",
    "print(grads[0])\n",
    "print(tvars[1])\n",
    "print(grads[1])\n",
    "print(tvars[2])\n",
    "print(grads[2])\n",
    "print(tvars[3])\n",
    "print(grads[3])"
   ]
  },
  {
   "cell_type": "code",
   "execution_count": 30,
   "metadata": {},
   "outputs": [
    {
     "name": "stdout",
     "output_type": "stream",
     "text": [
      "Tensor(\"ArgMax:0\", shape=(220,), dtype=int64)\n",
      "Tensor(\"ArgMax_1:0\", shape=(220,), dtype=int64)\n",
      "Tensor(\"Equal:0\", shape=(220,), dtype=bool)\n",
      "Tensor(\"Cast:0\", shape=(220,), dtype=float32)\n",
      "Tensor(\"Mean_1:0\", shape=(), dtype=float32)\n"
     ]
    }
   ],
   "source": [
    "# Accuracy\n",
    "Ylogits_argmax = tf.argmax(input=Ylogits, axis=1)\n",
    "print(Ylogits_argmax)\n",
    "Ylabels_argmax = tf.argmax(input=Ylabels, axis=1)\n",
    "print(Ylabels_argmax)\n",
    "accuracy = tf.equal(x=Ylogits_argmax, y=Ylabels_argmax, name=None)\n",
    "print(accuracy)\n",
    "accuracy = tf.cast(x=accuracy, dtype=tf.float32)\n",
    "print(accuracy)\n",
    "accuracy = tf.reduce_mean(input_tensor=accuracy, name=None)\n",
    "print(accuracy)"
   ]
  },
  {
   "cell_type": "code",
   "execution_count": 31,
   "metadata": {},
   "outputs": [],
   "source": [
    "# # Confusion matrix\n",
    "# confusion_matrix = tf.confusion_matrix(predictions=tf.argmax(logits, 1),\n",
    "#                                        labels=tf.argmax(labels_, 1))\n",
    "# print('confusion_matrix', confusion_matrix)"
   ]
  },
  {
   "cell_type": "code",
   "execution_count": 32,
   "metadata": {},
   "outputs": [],
   "source": [
    "def get_batches(X, Y, batch_size):\n",
    "    \"\"\" Return a generator for batches \"\"\"\n",
    "    n_batches = len(X) // batch_size\n",
    "    X, Y = X[:n_batches*batch_size], Y[:n_batches*batch_size]\n",
    "\n",
    "    # Loop over batches and yield\n",
    "    for b in range(0, len(X), batch_size):\n",
    "        yield X[b:b+batch_size], Y[b:b+batch_size]"
   ]
  },
  {
   "cell_type": "code",
   "execution_count": 33,
   "metadata": {
    "scrolled": true
   },
   "outputs": [
    {
     "name": "stdout",
     "output_type": "stream",
     "text": [
      "Epoch: 1/100 Train loss: 0.783897 Valid loss: 0.398518 Train acc: 0.526877 Valid acc: 0.700455\n",
      "Epoch: 2/100 Train loss: 0.259546 Valid loss: 0.292532 Train acc: 0.727273 Valid acc: 0.727273\n",
      "Epoch: 3/100 Train loss: 0.173362 Valid loss: 0.274041 Train acc: 0.755731 Valid acc: 0.735455\n",
      "Epoch: 4/100 Train loss: 0.144871 Valid loss: 0.260761 Train acc: 0.765415 Valid acc: 0.734091\n",
      "Epoch: 5/100 Train loss: 0.124325 Valid loss: 0.251411 Train acc: 0.772925 Valid acc: 0.733636\n",
      "Epoch: 6/100 Train loss: 0.114807 Valid loss: 0.260657 Train acc: 0.773913 Valid acc: 0.735909\n",
      "Epoch: 7/100 Train loss: 0.107810 Valid loss: 0.246549 Train acc: 0.777668 Valid acc: 0.735909\n",
      "Epoch: 8/100 Train loss: 0.118371 Valid loss: 0.255152 Train acc: 0.768577 Valid acc: 0.729091\n",
      "Epoch: 9/100 Train loss: 0.136666 Valid loss: 0.331873 Train acc: 0.761858 Valid acc: 0.702727\n",
      "Epoch: 10/100 Train loss: 0.113037 Valid loss: 0.245097 Train acc: 0.770158 Valid acc: 0.734545\n",
      "Epoch: 11/100 Train loss: 0.086864 Valid loss: 0.234096 Train acc: 0.780237 Valid acc: 0.740455\n",
      "Epoch: 12/100 Train loss: 0.079505 Valid loss: 0.238712 Train acc: 0.782411 Valid acc: 0.738636\n",
      "Epoch: 13/100 Train loss: 0.077912 Valid loss: 0.242311 Train acc: 0.783399 Valid acc: 0.738636\n",
      "Epoch: 14/100 Train loss: 0.072572 Valid loss: 0.258263 Train acc: 0.784387 Valid acc: 0.733182\n",
      "Epoch: 15/100 Train loss: 0.072316 Valid loss: 0.253553 Train acc: 0.783399 Valid acc: 0.734545\n",
      "Epoch: 16/100 Train loss: 0.072657 Valid loss: 0.255352 Train acc: 0.783597 Valid acc: 0.734545\n",
      "Epoch: 17/100 Train loss: 0.073564 Valid loss: 0.253331 Train acc: 0.783597 Valid acc: 0.736364\n",
      "Epoch: 18/100 Train loss: 0.074309 Valid loss: 0.281547 Train acc: 0.780632 Valid acc: 0.733636\n",
      "Epoch: 19/100 Train loss: 0.071372 Valid loss: 0.313357 Train acc: 0.784585 Valid acc: 0.723182\n",
      "Epoch: 20/100 Train loss: 0.065738 Valid loss: 0.303401 Train acc: 0.783597 Valid acc: 0.730455\n",
      "Epoch: 21/100 Train loss: 0.056403 Valid loss: 0.265689 Train acc: 0.789921 Valid acc: 0.743636\n",
      "Epoch: 22/100 Train loss: 0.047396 Valid loss: 0.247927 Train acc: 0.790316 Valid acc: 0.746364\n",
      "Epoch: 23/100 Train loss: 0.043193 Valid loss: 0.242741 Train acc: 0.790514 Valid acc: 0.743182\n",
      "Epoch: 24/100 Train loss: 0.041158 Valid loss: 0.244846 Train acc: 0.790514 Valid acc: 0.744545\n",
      "Epoch: 25/100 Train loss: 0.040642 Valid loss: 0.244108 Train acc: 0.790316 Valid acc: 0.743182\n",
      "Epoch: 26/100 Train loss: 0.038888 Valid loss: 0.249266 Train acc: 0.792095 Valid acc: 0.744091\n",
      "Epoch: 27/100 Train loss: 0.037036 Valid loss: 0.254789 Train acc: 0.793676 Valid acc: 0.740455\n",
      "Epoch: 28/100 Train loss: 0.035999 Valid loss: 0.264566 Train acc: 0.793676 Valid acc: 0.741364\n",
      "Epoch: 29/100 Train loss: 0.037031 Valid loss: 0.264012 Train acc: 0.793874 Valid acc: 0.737273\n",
      "Epoch: 30/100 Train loss: 0.034798 Valid loss: 0.265396 Train acc: 0.794664 Valid acc: 0.740909\n",
      "Epoch: 31/100 Train loss: 0.034116 Valid loss: 0.257959 Train acc: 0.795455 Valid acc: 0.740455\n",
      "Epoch: 32/100 Train loss: 0.035480 Valid loss: 0.254864 Train acc: 0.794664 Valid acc: 0.741364\n",
      "Epoch: 33/100 Train loss: 0.035605 Valid loss: 0.255290 Train acc: 0.794269 Valid acc: 0.742273\n",
      "Epoch: 34/100 Train loss: 0.032865 Valid loss: 0.248905 Train acc: 0.793874 Valid acc: 0.741818\n",
      "Epoch: 35/100 Train loss: 0.031952 Valid loss: 0.246905 Train acc: 0.796047 Valid acc: 0.741818\n",
      "Epoch: 36/100 Train loss: 0.031469 Valid loss: 0.246417 Train acc: 0.795257 Valid acc: 0.740454\n",
      "Epoch: 37/100 Train loss: 0.031362 Valid loss: 0.254227 Train acc: 0.795455 Valid acc: 0.740000\n",
      "Epoch: 38/100 Train loss: 0.029508 Valid loss: 0.250441 Train acc: 0.796640 Valid acc: 0.741364\n",
      "Epoch: 39/100 Train loss: 0.027375 Valid loss: 0.252934 Train acc: 0.796838 Valid acc: 0.740455\n",
      "Epoch: 40/100 Train loss: 0.026645 Valid loss: 0.259999 Train acc: 0.797233 Valid acc: 0.740909\n",
      "Epoch: 41/100 Train loss: 0.026592 Valid loss: 0.253008 Train acc: 0.796048 Valid acc: 0.740454\n",
      "Epoch: 42/100 Train loss: 0.026323 Valid loss: 0.266768 Train acc: 0.796245 Valid acc: 0.739091\n",
      "Epoch: 43/100 Train loss: 0.026264 Valid loss: 0.272535 Train acc: 0.796838 Valid acc: 0.740455\n",
      "Epoch: 44/100 Train loss: 0.027497 Valid loss: 0.278532 Train acc: 0.797431 Valid acc: 0.740455\n",
      "Epoch: 45/100 Train loss: 0.027774 Valid loss: 0.279568 Train acc: 0.796640 Valid acc: 0.738182\n",
      "Epoch: 46/100 Train loss: 0.028786 Valid loss: 0.279136 Train acc: 0.797629 Valid acc: 0.735455\n",
      "Epoch: 47/100 Train loss: 0.025403 Valid loss: 0.287154 Train acc: 0.797826 Valid acc: 0.738182\n",
      "Epoch: 48/100 Train loss: 0.024228 Valid loss: 0.286934 Train acc: 0.798221 Valid acc: 0.739091\n",
      "Epoch: 49/100 Train loss: 0.024421 Valid loss: 0.274065 Train acc: 0.797431 Valid acc: 0.739091\n",
      "Epoch: 50/100 Train loss: 0.023732 Valid loss: 0.290652 Train acc: 0.797826 Valid acc: 0.736364\n",
      "Epoch: 51/100 Train loss: 0.023287 Valid loss: 0.282529 Train acc: 0.797036 Valid acc: 0.738182\n",
      "Epoch: 52/100 Train loss: 0.021691 Valid loss: 0.312801 Train acc: 0.797826 Valid acc: 0.733182\n",
      "Epoch: 53/100 Train loss: 0.022553 Valid loss: 0.321819 Train acc: 0.798024 Valid acc: 0.732273\n",
      "Epoch: 54/100 Train loss: 0.023428 Valid loss: 0.362772 Train acc: 0.796838 Valid acc: 0.728182\n",
      "Epoch: 55/100 Train loss: 0.025576 Valid loss: 0.346559 Train acc: 0.797036 Valid acc: 0.727273\n",
      "Epoch: 56/100 Train loss: 0.024545 Valid loss: 0.319017 Train acc: 0.795455 Valid acc: 0.730455\n",
      "Epoch: 57/100 Train loss: 0.023992 Valid loss: 0.274893 Train acc: 0.797431 Valid acc: 0.740909\n",
      "Epoch: 58/100 Train loss: 0.021924 Valid loss: 0.263411 Train acc: 0.798814 Valid acc: 0.740909\n",
      "Epoch: 59/100 Train loss: 0.022334 Valid loss: 0.272677 Train acc: 0.798221 Valid acc: 0.731818\n",
      "Epoch: 60/100 Train loss: 0.021535 Valid loss: 0.266469 Train acc: 0.798617 Valid acc: 0.735455\n",
      "Epoch: 61/100 Train loss: 0.019150 Valid loss: 0.269274 Train acc: 0.799605 Valid acc: 0.739091\n",
      "Epoch: 62/100 Train loss: 0.016793 Valid loss: 0.284086 Train acc: 0.800198 Valid acc: 0.739545\n",
      "Epoch: 63/100 Train loss: 0.015106 Valid loss: 0.291518 Train acc: 0.800593 Valid acc: 0.739091\n",
      "Epoch: 64/100 Train loss: 0.013578 Valid loss: 0.297462 Train acc: 0.800988 Valid acc: 0.737727\n",
      "Epoch: 65/100 Train loss: 0.013173 Valid loss: 0.299298 Train acc: 0.802174 Valid acc: 0.735000\n",
      "Epoch: 66/100 Train loss: 0.012788 Valid loss: 0.290458 Train acc: 0.802372 Valid acc: 0.740000\n",
      "Epoch: 67/100 Train loss: 0.013351 Valid loss: 0.286134 Train acc: 0.801779 Valid acc: 0.733636\n",
      "Epoch: 68/100 Train loss: 0.015208 Valid loss: 0.277553 Train acc: 0.799802 Valid acc: 0.738636\n",
      "Epoch: 69/100 Train loss: 0.014455 Valid loss: 0.283648 Train acc: 0.800395 Valid acc: 0.735455\n",
      "Epoch: 70/100 Train loss: 0.013976 Valid loss: 0.287596 Train acc: 0.801383 Valid acc: 0.737273\n",
      "Epoch: 71/100 Train loss: 0.013386 Valid loss: 0.293544 Train acc: 0.801581 Valid acc: 0.732727\n",
      "Epoch: 72/100 Train loss: 0.012790 Valid loss: 0.302187 Train acc: 0.801383 Valid acc: 0.733636\n",
      "Epoch: 73/100 Train loss: 0.012341 Valid loss: 0.302754 Train acc: 0.801779 Valid acc: 0.731818\n",
      "Epoch: 74/100 Train loss: 0.012128 Valid loss: 0.302285 Train acc: 0.801976 Valid acc: 0.732273\n",
      "Epoch: 75/100 Train loss: 0.012007 Valid loss: 0.299576 Train acc: 0.802174 Valid acc: 0.730909\n",
      "Epoch: 76/100 Train loss: 0.011749 Valid loss: 0.303630 Train acc: 0.802174 Valid acc: 0.732727\n",
      "Epoch: 77/100 Train loss: 0.011617 Valid loss: 0.300873 Train acc: 0.802372 Valid acc: 0.731818\n",
      "Epoch: 78/100 Train loss: 0.011281 Valid loss: 0.303650 Train acc: 0.802372 Valid acc: 0.733182\n",
      "Epoch: 79/100 Train loss: 0.011030 Valid loss: 0.299696 Train acc: 0.802372 Valid acc: 0.735000\n",
      "Epoch: 80/100 Train loss: 0.010823 Valid loss: 0.297269 Train acc: 0.802569 Valid acc: 0.734545\n",
      "Epoch: 81/100 Train loss: 0.010686 Valid loss: 0.294716 Train acc: 0.802372 Valid acc: 0.732727\n",
      "Epoch: 82/100 Train loss: 0.010487 Valid loss: 0.295932 Train acc: 0.802372 Valid acc: 0.736364\n",
      "Epoch: 83/100 Train loss: 0.010253 Valid loss: 0.292397 Train acc: 0.802372 Valid acc: 0.735000\n",
      "Epoch: 84/100 Train loss: 0.010003 Valid loss: 0.296094 Train acc: 0.802569 Valid acc: 0.732727\n",
      "Epoch: 85/100 Train loss: 0.009823 Valid loss: 0.296059 Train acc: 0.802372 Valid acc: 0.731364\n",
      "Epoch: 86/100 Train loss: 0.009785 Valid loss: 0.302242 Train acc: 0.802174 Valid acc: 0.729091\n"
     ]
    },
    {
     "name": "stdout",
     "output_type": "stream",
     "text": [
      "Epoch: 87/100 Train loss: 0.010381 Valid loss: 0.312962 Train acc: 0.801976 Valid acc: 0.730455\n",
      "Epoch: 88/100 Train loss: 0.011276 Valid loss: 0.304632 Train acc: 0.802372 Valid acc: 0.729091\n",
      "Epoch: 89/100 Train loss: 0.011142 Valid loss: 0.306164 Train acc: 0.802372 Valid acc: 0.727727\n",
      "Epoch: 90/100 Train loss: 0.011240 Valid loss: 0.303056 Train acc: 0.802174 Valid acc: 0.729545\n",
      "Epoch: 91/100 Train loss: 0.013166 Valid loss: 0.324210 Train acc: 0.801976 Valid acc: 0.726818\n",
      "Epoch: 92/100 Train loss: 0.014584 Valid loss: 0.299624 Train acc: 0.800791 Valid acc: 0.727727\n",
      "Epoch: 93/100 Train loss: 0.014264 Valid loss: 0.316223 Train acc: 0.801186 Valid acc: 0.735455\n",
      "Epoch: 94/100 Train loss: 0.013794 Valid loss: 0.282316 Train acc: 0.801383 Valid acc: 0.737727\n",
      "Epoch: 95/100 Train loss: 0.014363 Valid loss: 0.305549 Train acc: 0.800988 Valid acc: 0.731364\n",
      "Epoch: 96/100 Train loss: 0.013405 Valid loss: 0.289636 Train acc: 0.801581 Valid acc: 0.739545\n",
      "Epoch: 97/100 Train loss: 0.011212 Valid loss: 0.305359 Train acc: 0.801976 Valid acc: 0.735000\n",
      "Epoch: 98/100 Train loss: 0.010931 Valid loss: 0.335067 Train acc: 0.801779 Valid acc: 0.729091\n",
      "Epoch: 99/100 Train loss: 0.010751 Valid loss: 0.306043 Train acc: 0.802372 Valid acc: 0.733182\n",
      "Epoch: 100/100 Train loss: 0.010732 Valid loss: 0.309406 Train acc: 0.801186 Valid acc: 0.732727\n"
     ]
    }
   ],
   "source": [
    "train_acc, train_loss = [], []\n",
    "valid_acc, valid_loss = [], []\n",
    "\n",
    "# Save the training result or trained and validated model params\n",
    "saver = tf.train.Saver()\n",
    "\n",
    "with tf.Session() as sess:\n",
    "    \n",
    "    # Initialize the variables in the case, we don't load any pre-trained model.\n",
    "    sess.run(fetches=tf.global_variables_initializer())\n",
    "   \n",
    "    #     # Restore the validated model\n",
    "    #     saver.restore(sess, tf.train.latest_checkpoint('checkpoints'))\n",
    "    #     #saver.restore(sess=sess, save_path='checkpoints/lstm-imu-har.ckpt')\n",
    "    \n",
    "    # Loop over epochs\n",
    "    epochs = 100\n",
    "    for epoch in range(epochs):\n",
    "        \n",
    "        # Loop over batches of training\n",
    "        state = sess.run(fetches=initial_state)\n",
    "        loss_batch, acc_batch = [], []\n",
    "        for Xarr, Yarr in get_batches(X=Xtrain, Y=Ytrain, batch_size=N):\n",
    "            \n",
    "            # Feed dictionary\n",
    "            feed_dict = {Xinputs:Xarr, Yindices:Yarr, initial_state:state}\n",
    "            lossarr, _ , state, accarr = sess.run(fetches=[loss, optimizer, final_state, accuracy], \n",
    "                                                  feed_dict=feed_dict)\n",
    "            loss_batch.append(lossarr)\n",
    "            acc_batch.append(accarr)\n",
    "            \n",
    "        # acc and loss for plotting\n",
    "        train_acc.append(np.mean(acc_batch))\n",
    "        train_loss.append(np.mean(loss_batch))\n",
    "\n",
    "        # Loop over batches of validation\n",
    "        state = sess.run(fetches=initial_state)\n",
    "        loss_batch, acc_batch = [], []\n",
    "        for Xarr, Yarr in get_batches(X=Xvalid, Y=Yvalid, batch_size=N):\n",
    "            \n",
    "            # Feed dictionary\n",
    "            feed_dict = {Xinputs:Xarr, Yindices:Yarr, initial_state:state}\n",
    "            lossarr, state, accarr = sess.run(fetches=[loss, final_state, accuracy], feed_dict=feed_dict)\n",
    "            loss_batch.append(lossarr)\n",
    "            acc_batch.append(accarr)\n",
    "            \n",
    "        # acc and loss for plotting\n",
    "        valid_acc.append(np.mean(acc_batch))\n",
    "        valid_loss.append(np.mean(loss_batch))\n",
    "            \n",
    "        # Print info for every iter/epoch\n",
    "        print(\"Epoch: {}/{}\".format(epoch+1, epochs),\n",
    "              \"Train loss: {:6f}\".format(train_loss[epoch]),\n",
    "              \"Valid loss: {:.6f}\".format(valid_loss[epoch]),\n",
    "              \"Train acc: {:6f}\".format(train_acc[epoch]),\n",
    "              \"Valid acc: {:.6f}\".format(valid_acc[epoch]))\n",
    "                \n",
    "    saver.save(sess, 'checkpoints/lstm-imu-har.ckpt')"
   ]
  },
  {
   "cell_type": "code",
   "execution_count": 38,
   "metadata": {},
   "outputs": [
    {
     "data": {
      "image/png": "[encoded data removed]",
      "text/plain": [
       "<Figure size 432x288 with 1 Axes>"
      ]
     },
     "metadata": {},
     "output_type": "display_data"
    }
   ],
   "source": [
    "import matplotlib.pyplot as mplot\n",
    "%matplotlib inline\n",
    "\n",
    "mplot.plot(train_loss, label='train_loss')\n",
    "mplot.plot(valid_loss, label='valid_loss')\n",
    "mplot.legend()\n",
    "mplot.show()"
   ]
  },
  {
   "cell_type": "code",
   "execution_count": 39,
   "metadata": {},
   "outputs": [
    {
     "data": {
      "image/png": "[encoded data removed]",
      "text/plain": [
       "<Figure size 432x288 with 1 Axes>"
      ]
     },
     "metadata": {},
     "output_type": "display_data"
    }
   ],
   "source": [
    "# import matplotlib.pyplot as mplot\n",
    "mplot.plot(train_acc, label='train_acc')\n",
    "mplot.plot(valid_acc, label='valid_acc')\n",
    "mplot.legend()\n",
    "mplot.show()"
   ]
  },
  {
   "cell_type": "code",
   "execution_count": 40,
   "metadata": {},
   "outputs": [
    {
     "name": "stdout",
     "output_type": "stream",
     "text": [
      "INFO:tensorflow:Restoring parameters from checkpoints/lstm-imu-har.ckpt\n",
      "Test loss: 0.468781 Test acc: 0.675874\n"
     ]
    }
   ],
   "source": [
    "with tf.Session() as sess:\n",
    "    # Restore the validated model\n",
    "    saver.restore(sess, tf.train.latest_checkpoint('checkpoints'))\n",
    "    #saver.restore(sess=sess, save_path='checkpoints/lstm-imu-har.ckpt')\n",
    "    \n",
    "    # Loop over batches of Test\n",
    "    state = sess.run(fetches=initial_state)\n",
    "    loss_batch, acc_batch = [], []\n",
    "    for Xarr, Yarr in get_batches(X=Xtest, Y=Ytest, batch_size=N):\n",
    "\n",
    "        # Feed dictionary\n",
    "        feed_dict = {Xinputs:Xarr, Yindices:Yarr, initial_state:state}\n",
    "        lossarr, state, accarr = sess.run(fetches=[loss, final_state, accuracy], feed_dict=feed_dict)\n",
    "        loss_batch.append(lossarr)\n",
    "        acc_batch.append(accarr)\n",
    "\n",
    "    # Print info for every iter/epoch\n",
    "    print(\"Test loss: {:6f}\".format(np.mean(loss_batch)),\n",
    "          \"Test acc: {:.6f}\".format(np.mean(acc_batch)))"
   ]
  },
  {
   "cell_type": "code",
   "execution_count": null,
   "metadata": {},
   "outputs": [],
   "source": []
  }
 ],
 "metadata": {
  "kernelspec": {
   "display_name": "Python 3",
   "language": "python",
   "name": "python3"
  },
  "language_info": {
   "codemirror_mode": {
    "name": "ipython",
    "version": 3
   },
   "file_extension": ".py",
   "mimetype": "text/x-python",
   "name": "python",
   "nbconvert_exporter": "python",
   "pygments_lexer": "ipython3",
   "version": "3.6.5"
  },
  "widgets": {
   "state": {},
   "version": "1.1.2"
  }
 },
 "nbformat": 4,
 "nbformat_minor": 2
}
