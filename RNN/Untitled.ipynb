{
 "cells": [
  {
   "cell_type": "code",
   "execution_count": 2,
   "metadata": {},
   "outputs": [],
   "source": [
    "import tensorflow as tf\n",
    "import numpy as np"
   ]
  },
  {
   "cell_type": "code",
   "execution_count": 4,
   "metadata": {},
   "outputs": [
    {
     "name": "stdout",
     "output_type": "stream",
     "text": [
      "[[1 2]\n",
      " [3 4]\n",
      " [5 6]]\n"
     ]
    }
   ],
   "source": [
    "ph = tf.placeholder(shape=[None,3], dtype=tf.int32)\n",
    "x = tf.slice(ph, [0, 0], [3, 2])\n",
    "\n",
    "#input_ = np.array([[1,2,3], [3,4,5], [5,6,7]])\n",
    "input_ = np.array([[1,2,3], [3,4,5], [5,6,7]])\n",
    "\n",
    "with tf.Session() as sess:\n",
    "\n",
    "    #sess.run(tf.initialize_all_variables())\n",
    "    sess.run(tf.global_variables_initializer())\n",
    "    print(sess.run(x, feed_dict={ph: input_}))"
   ]
  },
  {
   "cell_type": "code",
   "execution_count": 9,
   "metadata": {},
   "outputs": [
    {
     "ename": "SyntaxError",
     "evalue": "positional argument follows keyword argument (<ipython-input-9-b84033499b84>, line 2)",
     "output_type": "error",
     "traceback": [
      "\u001b[0;36m  File \u001b[0;32m\"<ipython-input-9-b84033499b84>\"\u001b[0;36m, line \u001b[0;32m2\u001b[0m\n\u001b[0;31m    np.arange(dtype=bool, 2, 4)\u001b[0m\n\u001b[0m                         ^\u001b[0m\n\u001b[0;31mSyntaxError\u001b[0m\u001b[0;31m:\u001b[0m positional argument follows keyword argument\n"
     ]
    }
   ],
   "source": [
    "# Create a random boolean array\n",
    "np.arange(dtype=bool)"
   ]
  },
  {
   "cell_type": "code",
   "execution_count": 5,
   "metadata": {},
   "outputs": [
    {
     "data": {
      "text/plain": [
       "array([[1, 2, 3],\n",
       "       [3, 4, 5],\n",
       "       [5, 6, 7]])"
      ]
     },
     "execution_count": 5,
     "metadata": {},
     "output_type": "execute_result"
    }
   ],
   "source": [
    "input_"
   ]
  },
  {
   "cell_type": "code",
   "execution_count": null,
   "metadata": {},
   "outputs": [],
   "source": [
    "# # Sample mini-batch from memory\n",
    "# batch = memory.sample(batch_size)\n",
    "# states = np.array([each[0] for each in batch])\n",
    "# actions = np.array([each[1] for each in batch])\n",
    "# rewards = np.array([each[2] for each in batch])\n",
    "# next_states = np.array([each[3] for each in batch])\n",
    "\n",
    "# # Next action logits for targetQs\n",
    "# feed_dict={model.states: next_states}\n",
    "# next_actions_logits = sess.run(model.actions_logits, feed_dict)\n",
    "\n",
    "# # Set target_Qs to 0 for states where episode ends\n",
    "# episode_ends = (next_states == np.zeros(states[0].shape)).all(axis=1)\n",
    "# next_actions_logits[episode_ends] = (0, 0) # NOTE: action size\n",
    "# print(episode_ends[:2], episode_ends.shape)\n",
    "# #             print(episode_ends.shape, episode_ends.dtype, next_actions_logits.shape,\n",
    "# #                  states[0].shape, states.shape)\n",
    "# print((next_states == np.zeros(states[0].shape)).shape)\n",
    "# print((next_states == np.zeros(states[0].shape))[:4])\n",
    "# #             print((next_states == np.zeros(states[0].shape)).dtype)\n",
    "# #             print((next_states == np.zeros(states[0].shape)).all(axis=1).shape)\n",
    "# #             print((next_states == np.zeros(states[0].shape)).all(axis=1).dtype)\n",
    "# #             print((next_states == np.zeros(states[0].shape)).all(axis=0).shape)\n",
    "# #             print((next_states == np.zeros(states[0].shape)).all(axis=0).dtype)\n",
    "\n",
    "# # Bellman equation: Qt = Rt + max(Qt+1)\n",
    "# targetQs = rewards + (gamma * np.max(next_actions_logits, axis=1))"
   ]
  }
 ],
 "metadata": {
  "kernelspec": {
   "display_name": "Python 3",
   "language": "python",
   "name": "python3"
  },
  "language_info": {
   "codemirror_mode": {
    "name": "ipython",
    "version": 3
   },
   "file_extension": ".py",
   "mimetype": "text/x-python",
   "name": "python",
   "nbconvert_exporter": "python",
   "pygments_lexer": "ipython3",
   "version": "3.6.5"
  }
 },
 "nbformat": 4,
 "nbformat_minor": 2
}
