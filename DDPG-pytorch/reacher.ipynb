{
 "cells": [
  {
   "cell_type": "markdown",
   "metadata": {},
   "source": [
    "# Continuous Control\n",
    "\n",
    "---\n",
    "\n",
    "In this notebook, you will learn how to use the Unity ML-Agents environment for the second project of the [Deep Reinforcement Learning Nanodegree](https://www.udacity.com/course/deep-reinforcement-learning-nanodegree--nd893) program.\n",
    "\n",
    "### 1. Start the Environment\n",
    "\n",
    "We begin by importing the necessary packages.  If the code cell below returns an error, please revisit the project instructions to double-check that you have installed [Unity ML-Agents](https://github.com/Unity-Technologies/ml-agents/blob/master/docs/Installation.md) and [NumPy](http://www.numpy.org/)."
   ]
  },
  {
   "cell_type": "code",
   "execution_count": 1,
   "metadata": {},
   "outputs": [],
   "source": [
    "from unityagents import UnityEnvironment\n",
    "import numpy as np"
   ]
  },
  {
   "cell_type": "markdown",
   "metadata": {},
   "source": [
    "Next, we will start the environment!  **_Before running the code cell below_**, change the `file_name` parameter to match the location of the Unity environment that you downloaded.\n",
    "\n",
    "- **Mac**: `\"path/to/Reacher.app\"`\n",
    "- **Windows** (x86): `\"path/to/Reacher_Windows_x86/Reacher.exe\"`\n",
    "- **Windows** (x86_64): `\"path/to/Reacher_Windows_x86_64/Reacher.exe\"`\n",
    "- **Linux** (x86): `\"path/to/Reacher_Linux/Reacher.x86\"`\n",
    "- **Linux** (x86_64): `\"path/to/Reacher_Linux/Reacher.x86_64\"`\n",
    "- **Linux** (x86, headless): `\"path/to/Reacher_Linux_NoVis/Reacher.x86\"`\n",
    "- **Linux** (x86_64, headless): `\"path/to/Reacher_Linux_NoVis/Reacher.x86_64\"`\n",
    "\n",
    "For instance, if you are using a Mac, then you downloaded `Reacher.app`.  If this file is in the same folder as the notebook, then the line below should appear as follows:\n",
    "```\n",
    "env = UnityEnvironment(file_name=\"Reacher.app\")\n",
    "```"
   ]
  },
  {
   "cell_type": "code",
   "execution_count": 2,
   "metadata": {},
   "outputs": [
    {
     "name": "stderr",
     "output_type": "stream",
     "text": [
      "INFO:unityagents:\n",
      "'Academy' started successfully!\n",
      "Unity Academy name: Academy\n",
      "        Number of Brains: 1\n",
      "        Number of External Brains : 1\n",
      "        Lesson number : 0\n",
      "        Reset Parameters :\n",
      "\t\tgoal_speed -> 1.0\n",
      "\t\tgoal_size -> 5.0\n",
      "Unity brain name: ReacherBrain\n",
      "        Number of Visual Observations (per agent): 0\n",
      "        Vector Observation space type: continuous\n",
      "        Vector Observation space size (per agent): 33\n",
      "        Number of stacked Vector Observation: 1\n",
      "        Vector Action space type: continuous\n",
      "        Vector Action space size (per agent): 4\n",
      "        Vector Action descriptions: , , , \n"
     ]
    }
   ],
   "source": [
    "# # env = UnityEnvironment(file_name='/home/arasdar/unity-envs/Reacher_Linux/Reacher.x86_64')\n",
    "# # env = UnityEnvironment(file_name='/home/arasdar/unity-envs/Reacher_Linux_v1/Reacher.x86_64')\n",
    "# # env = UnityEnvironment(file_name='/home/arasdar/unity-envs/Reacher_Linux_OneAgent/Reacher_Linux/Reacher.x86_64')\n",
    "# # env = UnityEnvironment(file_name='/home/arasdar/unity-envs/Reacher_Linux_NoVis/Reacher.x86_64')\n",
    "# env = UnityEnvironment(file_name='/home/arasdar/unity-envs/Reacher_Linux_NoVis_OneAgent/Reacher_Linux_NoVis/Reacher.x86_64')\n",
    "env = UnityEnvironment(file_name='/home/arasdar/unity-envs/Reacher_Linux_NoVis/Reacher.x86_64')"
   ]
  },
  {
   "cell_type": "markdown",
   "metadata": {},
   "source": [
    "Environments contain **_brains_** which are responsible for deciding the actions of their associated agents. Here we check for the first brain available, and set it as the default brain we will be controlling from Python."
   ]
  },
  {
   "cell_type": "code",
   "execution_count": 3,
   "metadata": {},
   "outputs": [],
   "source": [
    "# get the default brain\n",
    "brain_name = env.brain_names[0]\n",
    "brain = env.brains[brain_name]"
   ]
  },
  {
   "cell_type": "markdown",
   "metadata": {},
   "source": [
    "### 2. Examine the State and Action Spaces\n",
    "\n",
    "In this environment, a double-jointed arm can move to target locations. A reward of `+0.1` is provided for each step that the agent's hand is in the goal location. Thus, the goal of your agent is to maintain its position at the target location for as many time steps as possible.\n",
    "\n",
    "The observation space consists of `33` variables corresponding to position, rotation, velocity, and angular velocities of the arm.  Each action is a vector with four numbers, corresponding to torque applicable to two joints.  Every entry in the action vector must be a number between `-1` and `1`.\n",
    "\n",
    "Run the code cell below to print some information about the environment."
   ]
  },
  {
   "cell_type": "code",
   "execution_count": 4,
   "metadata": {},
   "outputs": [
    {
     "name": "stdout",
     "output_type": "stream",
     "text": [
      "Number of agents: 1\n",
      "Size of each action: 4\n",
      "There are 1 agents. Each observes a state with length: 33\n",
      "The state for the first agent looks like: [ 0.00000000e+00 -4.00000000e+00  0.00000000e+00  1.00000000e+00\n",
      " -0.00000000e+00 -0.00000000e+00 -4.37113883e-08  0.00000000e+00\n",
      "  0.00000000e+00  0.00000000e+00  0.00000000e+00  0.00000000e+00\n",
      "  0.00000000e+00  0.00000000e+00 -1.00000000e+01  0.00000000e+00\n",
      "  1.00000000e+00 -0.00000000e+00 -0.00000000e+00 -4.37113883e-08\n",
      "  0.00000000e+00  0.00000000e+00  0.00000000e+00  0.00000000e+00\n",
      "  0.00000000e+00  0.00000000e+00  5.75471878e+00 -1.00000000e+00\n",
      "  5.55726671e+00  0.00000000e+00  1.00000000e+00  0.00000000e+00\n",
      " -1.68164849e-01]\n"
     ]
    }
   ],
   "source": [
    "# reset the environment\n",
    "env_info = env.reset(train_mode=True)[brain_name]\n",
    "\n",
    "# number of agents\n",
    "num_agents = len(env_info.agents)\n",
    "print('Number of agents:', num_agents)\n",
    "\n",
    "# size of each action\n",
    "action_size = brain.vector_action_space_size\n",
    "print('Size of each action:', action_size)\n",
    "\n",
    "# examine the state space \n",
    "states = env_info.vector_observations\n",
    "state_size = states.shape[1]\n",
    "print('There are {} agents. Each observes a state with length: {}'.format(states.shape[0], state_size))\n",
    "print('The state for the first agent looks like:', states[0])"
   ]
  },
  {
   "cell_type": "markdown",
   "metadata": {},
   "source": [
    "### 3. Take Random Actions in the Environment\n",
    "\n",
    "In the next code cell, you will learn how to use the Python API to control the agent and receive feedback from the environment.\n",
    "\n",
    "Once this cell is executed, you will watch the agent's performance, if it selects an action at random with each time step.  A window should pop up that allows you to observe the agent, as it moves through the environment.  \n",
    "\n",
    "Of course, as part of the project, you'll have to change the code so that the agent is able to use its experience to gradually choose better actions when interacting with the environment!"
   ]
  },
  {
   "cell_type": "code",
   "execution_count": 5,
   "metadata": {},
   "outputs": [],
   "source": [
    "# env_info = env.reset(train_mode=False)[brain_name]     # reset the environment    \n",
    "# states = env_info.vector_observations                  # get the current state (for each agent)\n",
    "# scores = np.zeros(num_agents)                          # initialize the score (for each agent)\n",
    "# while True:\n",
    "#     actions = np.random.randn(num_agents, action_size) # select an action (for each agent)\n",
    "#     actions = np.clip(actions, -1, 1)                  # all actions between -1 and 1\n",
    "#     env_info = env.step(actions)[brain_name]           # send all actions to tne environment\n",
    "#     next_states = env_info.vector_observations         # get next state (for each agent)\n",
    "#     rewards = env_info.rewards                         # get reward (for each agent)\n",
    "#     dones = env_info.local_done                        # see if episode finished\n",
    "#     scores += env_info.rewards                         # update the score (for each agent)\n",
    "#     states = next_states                               # roll over states to next time step\n",
    "#     if np.any(dones):                                  # exit loop if episode finished\n",
    "#         break\n",
    "# print('Total score (averaged over agents) this episode: {}'.format(np.mean(scores)))"
   ]
  },
  {
   "cell_type": "markdown",
   "metadata": {},
   "source": [
    "When finished, you can close the environment."
   ]
  },
  {
   "cell_type": "code",
   "execution_count": 6,
   "metadata": {},
   "outputs": [],
   "source": [
    "# env.close()"
   ]
  },
  {
   "cell_type": "markdown",
   "metadata": {},
   "source": [
    "### 4. It's Your Turn!\n",
    "\n",
    "Now it's your turn to train your own agent to solve the environment!  When training the environment, set `train_mode=True`, so that the line for resetting the environment looks like the following:\n",
    "```python\n",
    "env_info = env.reset(train_mode=True)[brain_name]\n",
    "```"
   ]
  },
  {
   "cell_type": "code",
   "execution_count": 7,
   "metadata": {},
   "outputs": [],
   "source": [
    "# # Testing the train mode\n",
    "# env_info = env.reset(train_mode=True)[brain_name]     # reset the environment    \n",
    "# state = env_info.vector_observations[0]                  # get the current state (for each agent)\n",
    "# #scores = np.zeros(num_agents)                          # initialize the score (for each agent)\n",
    "# while True:\n",
    "#     action = np.random.randn(num_agents, action_size) # select an action (for each agent)\n",
    "#     #print(action)\n",
    "#     action = np.clip(action, -1, 1)                  # all actions between -1 and 1\n",
    "#     #print(action)\n",
    "#     env_info = env.step(action)[brain_name]           # send all actions to tne environment\n",
    "#     next_state = env_info.vector_observations[0]         # get next state (for each agent)\n",
    "#     reward = env_info.rewards[0]                         # get reward (for each agent)\n",
    "#     done = env_info.local_done[0]                        # see if episode finished\n",
    "#     #scores += env_info.rewards                         # update the score (for each agent)\n",
    "#     state = next_state                               # roll over states to next time step\n",
    "#     if done is True:                                  # exit loop if episode finished\n",
    "#         #print(action.shape, reward)\n",
    "#         #print(done)\n",
    "#         break\n",
    "# # print('Total score (averaged over agents) this episode: {}'.format(np.mean(scores)))"
   ]
  },
  {
   "cell_type": "markdown",
   "metadata": {},
   "source": [
    "## Option 1: Solve the First Version\n",
    "The task is episodic, and in order to solve the environment, your agent must get an average score of +30 over 100 consecutive episodes."
   ]
  },
  {
   "cell_type": "code",
   "execution_count": 8,
   "metadata": {},
   "outputs": [
    {
     "name": "stdout",
     "output_type": "stream",
     "text": [
      "TensorFlow Version: 1.7.1\n",
      "Default GPU Device: \n"
     ]
    }
   ],
   "source": [
    "# Only to test if GPUs are available!\n",
    "import tensorflow as tf\n",
    "print('TensorFlow Version: {}'.format(tf.__version__))\n",
    "print('Default GPU Device: {}'.format(tf.test.gpu_device_name()))"
   ]
  },
  {
   "cell_type": "code",
   "execution_count": 9,
   "metadata": {},
   "outputs": [],
   "source": [
    "import random\n",
    "import torch\n",
    "import numpy as np\n",
    "from collections import deque\n",
    "import matplotlib.pyplot as plt\n",
    "%matplotlib inline"
   ]
  },
  {
   "cell_type": "code",
   "execution_count": 10,
   "metadata": {},
   "outputs": [
    {
     "data": {
      "text/plain": [
       "(33, 4, 'continuous', 'continuous')"
      ]
     },
     "execution_count": 10,
     "metadata": {},
     "output_type": "execute_result"
    }
   ],
   "source": [
    "brain.vector_observation_space_size, brain.vector_action_space_size, \\\n",
    "brain.vector_action_space_type, brain.vector_observation_space_type"
   ]
  },
  {
   "cell_type": "code",
   "execution_count": 11,
   "metadata": {},
   "outputs": [],
   "source": [
    "# env = gym.make('BipedalWalker-v2')\n",
    "# env.seed(10)\n",
    "# agent = Agent(state_size=env.observation_space.shape[0], action_size=env.action_space.shape[0], random_seed=10)\n",
    "from ddpg_agent import Agent\n",
    "agent = Agent(state_size=33, action_size=4, random_seed=10)"
   ]
  },
  {
   "cell_type": "code",
   "execution_count": null,
   "metadata": {},
   "outputs": [
    {
     "name": "stdout",
     "output_type": "stream",
     "text": [
      "Episode 0\tAverage Score: 0.11\n",
      "Episode 1\tAverage Score: 0.11\n",
      "Episode 2\tAverage Score: 0.17\n",
      "Episode 3\tAverage Score: 0.13\n",
      "Episode 4\tAverage Score: 0.28\n",
      "Episode 5\tAverage Score: 0.46\n",
      "Episode 6\tAverage Score: 0.50\n",
      "Episode 7\tAverage Score: 0.50\n",
      "Episode 8\tAverage Score: 0.56\n",
      "Episode 9\tAverage Score: 0.53\n",
      "Episode 10\tAverage Score: 0.55\n",
      "Episode 11\tAverage Score: 0.50\n",
      "Episode 12\tAverage Score: 0.47\n",
      "Episode 13\tAverage Score: 0.50\n",
      "Episode 14\tAverage Score: 0.48\n",
      "Episode 15\tAverage Score: 0.50\n",
      "Episode 16\tAverage Score: 0.55\n",
      "Episode 17\tAverage Score: 0.57\n",
      "Episode 18\tAverage Score: 0.59\n",
      "Episode 19\tAverage Score: 0.61\n",
      "Episode 20\tAverage Score: 0.64\n",
      "Episode 21\tAverage Score: 0.65\n",
      "Episode 22\tAverage Score: 0.65\n",
      "Episode 23\tAverage Score: 0.66\n",
      "Episode 24\tAverage Score: 0.73\n",
      "Episode 25\tAverage Score: 0.85\n",
      "Episode 26\tAverage Score: 0.84\n",
      "Episode 27\tAverage Score: 0.86\n",
      "Episode 28\tAverage Score: 0.85\n",
      "Episode 29\tAverage Score: 0.87\n",
      "Episode 30\tAverage Score: 0.88\n",
      "Episode 31\tAverage Score: 0.89\n",
      "Episode 32\tAverage Score: 0.92\n",
      "Episode 33\tAverage Score: 0.97\n",
      "Episode 34\tAverage Score: 0.97\n",
      "Episode 35\tAverage Score: 0.99\n",
      "Episode 36\tAverage Score: 1.00\n",
      "Episode 37\tAverage Score: 1.03\n",
      "Episode 38\tAverage Score: 1.05\n",
      "Episode 39\tAverage Score: 1.03\n",
      "Episode 40\tAverage Score: 1.01\n",
      "Episode 41\tAverage Score: 1.03\n",
      "Episode 42\tAverage Score: 1.07\n",
      "Episode 43\tAverage Score: 1.08\n",
      "Episode 44\tAverage Score: 1.07\n",
      "Episode 45\tAverage Score: 1.10\n",
      "Episode 46\tAverage Score: 1.11\n",
      "Episode 47\tAverage Score: 1.15\n",
      "Episode 48\tAverage Score: 1.15\n",
      "Episode 49\tAverage Score: 1.18\n",
      "Episode 50\tAverage Score: 1.18\n",
      "Episode 51\tAverage Score: 1.22\n",
      "Episode 52\tAverage Score: 1.23\n",
      "Episode 53\tAverage Score: 1.23\n",
      "Episode 54\tAverage Score: 1.24\n",
      "Episode 55\tAverage Score: 1.24\n",
      "Episode 56\tAverage Score: 1.24\n",
      "Episode 57\tAverage Score: 1.24\n",
      "Episode 58\tAverage Score: 1.25\n",
      "Episode 59\tAverage Score: 1.25\n",
      "Episode 60\tAverage Score: 1.28\n",
      "Episode 61\tAverage Score: 1.31\n",
      "Episode 62\tAverage Score: 1.32\n",
      "Episode 63\tAverage Score: 1.32\n",
      "Episode 64\tAverage Score: 1.33\n",
      "Episode 65\tAverage Score: 1.35\n",
      "Episode 66\tAverage Score: 1.35\n",
      "Episode 67\tAverage Score: 1.37\n",
      "Episode 68\tAverage Score: 1.43\n",
      "Episode 69\tAverage Score: 1.47\n",
      "Episode 70\tAverage Score: 1.47\n",
      "Episode 71\tAverage Score: 1.47\n",
      "Episode 72\tAverage Score: 1.50\n",
      "Episode 73\tAverage Score: 1.51\n",
      "Episode 74\tAverage Score: 1.49\n",
      "Episode 75\tAverage Score: 1.49\n",
      "Episode 76\tAverage Score: 1.54\n",
      "Episode 77\tAverage Score: 1.54\n",
      "Episode 78\tAverage Score: 1.54\n",
      "Episode 79\tAverage Score: 1.55\n",
      "Episode 80\tAverage Score: 1.56\n",
      "Episode 81\tAverage Score: 1.57\n",
      "Episode 82\tAverage Score: 1.57\n",
      "Episode 83\tAverage Score: 1.57\n",
      "Episode 84\tAverage Score: 1.57\n",
      "Episode 85\tAverage Score: 1.57\n",
      "Episode 86\tAverage Score: 1.57\n",
      "Episode 87\tAverage Score: 1.58\n",
      "Episode 88\tAverage Score: 1.62\n",
      "Episode 89\tAverage Score: 1.64\n",
      "Episode 90\tAverage Score: 1.65\n",
      "Episode 91\tAverage Score: 1.66\n",
      "Episode 92\tAverage Score: 1.68\n",
      "Episode 93\tAverage Score: 1.68\n",
      "Episode 94\tAverage Score: 1.70\n",
      "Episode 95\tAverage Score: 1.70\n",
      "Episode 96\tAverage Score: 1.69\n",
      "Episode 97\tAverage Score: 1.69\n",
      "Episode 98\tAverage Score: 1.69\n",
      "Episode 99\tAverage Score: 1.70\n",
      "Episode 100\tAverage Score: 1.72\n",
      "Episode 101\tAverage Score: 1.75\n",
      "Episode 102\tAverage Score: 1.76\n",
      "Episode 103\tAverage Score: 1.78\n",
      "Episode 104\tAverage Score: 1.78\n",
      "Episode 105\tAverage Score: 1.79\n",
      "Episode 106\tAverage Score: 1.82\n",
      "Episode 107\tAverage Score: 1.83\n",
      "Episode 108\tAverage Score: 1.85\n",
      "Episode 109\tAverage Score: 1.90\n",
      "Episode 110\tAverage Score: 1.93\n",
      "Episode 111\tAverage Score: 1.96\n",
      "Episode 112\tAverage Score: 1.99\n",
      "Episode 113\tAverage Score: 2.00\n",
      "Episode 114\tAverage Score: 2.03\n",
      "Episode 115\tAverage Score: 2.06\n",
      "Episode 116\tAverage Score: 2.08\n",
      "Episode 117\tAverage Score: 2.10\n",
      "Episode 118\tAverage Score: 2.10\n",
      "Episode 119\tAverage Score: 2.13\n",
      "Episode 120\tAverage Score: 2.17\n",
      "Episode 121\tAverage Score: 2.18\n",
      "Episode 122\tAverage Score: 2.20\n",
      "Episode 123\tAverage Score: 2.22\n",
      "Episode 124\tAverage Score: 2.24\n",
      "Episode 125\tAverage Score: 2.22\n",
      "Episode 126\tAverage Score: 2.25\n",
      "Episode 127\tAverage Score: 2.24\n",
      "Episode 128\tAverage Score: 2.28\n",
      "Episode 129\tAverage Score: 2.30\n",
      "Episode 130\tAverage Score: 2.33\n",
      "Episode 131\tAverage Score: 2.34\n",
      "Episode 132\tAverage Score: 2.37\n",
      "Episode 133\tAverage Score: 2.39\n",
      "Episode 134\tAverage Score: 2.40\n",
      "Episode 135\tAverage Score: 2.41\n",
      "Episode 136\tAverage Score: 2.42\n",
      "Episode 137\tAverage Score: 2.42\n",
      "Episode 138\tAverage Score: 2.43\n",
      "Episode 139\tAverage Score: 2.47\n",
      "Episode 140\tAverage Score: 2.49\n",
      "Episode 141\tAverage Score: 2.49\n",
      "Episode 142\tAverage Score: 2.49\n",
      "Episode 143\tAverage Score: 2.49\n",
      "Episode 144\tAverage Score: 2.51\n",
      "Episode 145\tAverage Score: 2.52\n",
      "Episode 146\tAverage Score: 2.54\n",
      "Episode 147\tAverage Score: 2.56\n",
      "Episode 148\tAverage Score: 2.58\n",
      "Episode 149\tAverage Score: 2.59\n",
      "Episode 150\tAverage Score: 2.60\n",
      "Episode 151\tAverage Score: 2.61\n",
      "Episode 152\tAverage Score: 2.61\n",
      "Episode 153\tAverage Score: 2.63\n",
      "Episode 154\tAverage Score: 2.65\n",
      "Episode 155\tAverage Score: 2.66\n",
      "Episode 156\tAverage Score: 2.69\n",
      "Episode 157\tAverage Score: 2.70\n",
      "Episode 158\tAverage Score: 2.72\n",
      "Episode 159\tAverage Score: 2.73\n",
      "Episode 160\tAverage Score: 2.74\n",
      "Episode 161\tAverage Score: 2.74\n",
      "Episode 162\tAverage Score: 2.75\n",
      "Episode 163\tAverage Score: 2.76\n",
      "Episode 164\tAverage Score: 2.76\n",
      "Episode 165\tAverage Score: 2.76\n",
      "Episode 166\tAverage Score: 2.80\n",
      "Episode 167\tAverage Score: 2.79\n",
      "Episode 168\tAverage Score: 2.77\n",
      "Episode 169\tAverage Score: 2.77\n",
      "Episode 170\tAverage Score: 2.78\n",
      "Episode 171\tAverage Score: 2.78\n",
      "Episode 172\tAverage Score: 2.77\n",
      "Episode 173\tAverage Score: 2.78\n",
      "Episode 174\tAverage Score: 2.81\n",
      "Episode 175\tAverage Score: 2.84\n",
      "Episode 176\tAverage Score: 2.82\n",
      "Episode 177\tAverage Score: 2.85\n",
      "Episode 178\tAverage Score: 2.88\n",
      "Episode 179\tAverage Score: 2.87\n",
      "Episode 180\tAverage Score: 2.89\n",
      "Episode 181\tAverage Score: 2.89\n",
      "Episode 182\tAverage Score: 2.91\n",
      "Episode 183\tAverage Score: 2.94\n",
      "Episode 184\tAverage Score: 2.95\n",
      "Episode 185\tAverage Score: 2.96\n",
      "Episode 186\tAverage Score: 2.96\n",
      "Episode 187\tAverage Score: 2.96\n",
      "Episode 188\tAverage Score: 2.94\n",
      "Episode 189\tAverage Score: 2.91\n",
      "Episode 190\tAverage Score: 2.92\n",
      "Episode 191\tAverage Score: 2.91\n",
      "Episode 192\tAverage Score: 2.89\n",
      "Episode 193\tAverage Score: 2.89\n",
      "Episode 194\tAverage Score: 2.89\n",
      "Episode 195\tAverage Score: 2.93\n",
      "Episode 196\tAverage Score: 2.95\n",
      "Episode 197\tAverage Score: 2.97\n",
      "Episode 198\tAverage Score: 3.00\n",
      "Episode 199\tAverage Score: 2.98\n",
      "Episode 200\tAverage Score: 2.97\n",
      "Episode 201\tAverage Score: 2.99\n",
      "Episode 202\tAverage Score: 3.00\n",
      "Episode 203\tAverage Score: 3.03\n",
      "Episode 204\tAverage Score: 3.04\n",
      "Episode 205\tAverage Score: 3.04\n",
      "Episode 206\tAverage Score: 3.05\n",
      "Episode 207\tAverage Score: 3.08\n",
      "Episode 208\tAverage Score: 3.08\n",
      "Episode 209\tAverage Score: 3.06\n",
      "Episode 210\tAverage Score: 3.06\n",
      "Episode 211\tAverage Score: 3.07\n",
      "Episode 212\tAverage Score: 3.06\n",
      "Episode 213\tAverage Score: 3.08\n",
      "Episode 214\tAverage Score: 3.10\n",
      "Episode 215\tAverage Score: 3.10\n",
      "Episode 216\tAverage Score: 3.09\n",
      "Episode 217\tAverage Score: 3.11\n",
      "Episode 218\tAverage Score: 3.12\n"
     ]
    }
   ],
   "source": [
    "# agent.actor_local.load_state_dict(torch.load('checkpoint_actor.pth'))\n",
    "# agent.critic_local.load_state_dict(torch.load('checkpoint_critic.pth'))\n",
    "total_reward_deque = deque(maxlen=100)\n",
    "episode_total_rewards = []\n",
    "for ep in range(1111*3):\n",
    "    #state = env.reset()\n",
    "    env_info = env.reset(train_mode=True)[brain_name]     # reset the environment    \n",
    "    state = env_info.vector_observations[0]                  # get the current state (for each agent)\n",
    "    agent.reset()\n",
    "    total_reward = 0\n",
    "    num_step = 0 # number of time steps\n",
    "    while True:\n",
    "        action = agent.act(state)\n",
    "        #next_state, reward, done, _ = env.step(action) # gym env step\n",
    "        env_info = env.step(action)[brain_name]           # send all actions to tne environment\n",
    "        next_state = env_info.vector_observations[0]         # get next state (for each agent)\n",
    "        reward = env_info.rewards[0]                         # get reward (for each agent)\n",
    "        done = env_info.local_done[0]                        # see if episode finished\n",
    "        #At this point, we decided to get less aggressive with the number of updates per time step. \n",
    "        #In particular, instead of updating the actor and critic networks 20 times at every timestep, \n",
    "        #we amended the code to update the networks 10 times after every 20 timesteps. \n",
    "        #The corresponding scores are plotted below.\n",
    "        if num_step%2 == 0:\n",
    "        #for _ in range(11):\n",
    "            agent.step(state, action, reward, next_state, done)\n",
    "        num_step += 1\n",
    "        state = next_state\n",
    "        total_reward += reward\n",
    "        if done:\n",
    "            break \n",
    "    total_reward_deque.append(total_reward)\n",
    "    print('\\rEpisode {}\\tAverage Score: {:.2f}'.format(ep, np.mean(total_reward_deque))) \n",
    "    #print('num_step:{:.1f}'.format(num_step))\n",
    "    episode_total_rewards.append([ep, np.mean(total_reward_deque)])\n",
    "    if np.mean(total_reward_deque) >= 30:\n",
    "        break\n",
    "torch.save(agent.actor_local.state_dict(), 'checkpoint_actor.pth')\n",
    "torch.save(agent.critic_local.state_dict(), 'checkpoint_critic.pth')"
   ]
  },
  {
   "cell_type": "code",
   "execution_count": null,
   "metadata": {},
   "outputs": [],
   "source": [
    "%matplotlib inline\n",
    "import matplotlib.pyplot as plt\n",
    "\n",
    "def running_mean(x, N):\n",
    "    cumsum = np.cumsum(np.insert(x, 0, 0)) \n",
    "    return (cumsum[N:] - cumsum[:-N]) / N "
   ]
  },
  {
   "cell_type": "code",
   "execution_count": null,
   "metadata": {},
   "outputs": [],
   "source": [
    "eps, arr = np.array(episode_total_rewards).T\n",
    "smoothed_arr = running_mean(arr, 10)\n",
    "plt.plot(eps[-len(smoothed_arr):], smoothed_arr)\n",
    "plt.plot(eps, arr, color='grey', alpha=0.3)\n",
    "plt.xlabel('Episode')\n",
    "plt.ylabel('Total rewards')"
   ]
  },
  {
   "cell_type": "code",
   "execution_count": 14,
   "metadata": {},
   "outputs": [
    {
     "data": {
      "text/plain": [
       "Text(0, 0.5, 'Total rewards')"
      ]
     },
     "execution_count": 14,
     "metadata": {},
     "output_type": "execute_result"
    },
    {
     "data": {
      "image/png": "[encoded data removed]",
      "text/plain": [
       "<Figure size 432x288 with 1 Axes>"
      ]
     },
     "metadata": {
      "needs_background": "light"
     },
     "output_type": "display_data"
    }
   ],
   "source": [
    "eps, arr = np.array(episode_total_rewards).T\n",
    "smoothed_arr = running_mean(arr, 10)\n",
    "plt.plot(eps[-len(smoothed_arr):], smoothed_arr)\n",
    "plt.plot(eps, arr, color='grey', alpha=0.3)\n",
    "plt.xlabel('Episode')\n",
    "plt.ylabel('Total rewards')"
   ]
  },
  {
   "cell_type": "code",
   "execution_count": 16,
   "metadata": {},
   "outputs": [
    {
     "data": {
      "text/plain": [
       "Text(0, 0.5, 'Total rewards')"
      ]
     },
     "execution_count": 16,
     "metadata": {},
     "output_type": "execute_result"
    },
    {
     "data": {
      "image/png": "[encoded data removed]",
      "text/plain": [
       "<Figure size 432x288 with 1 Axes>"
      ]
     },
     "metadata": {
      "needs_background": "light"
     },
     "output_type": "display_data"
    }
   ],
   "source": [
    "eps, arr = np.array(episode_total_rewards).T\n",
    "smoothed_arr = running_mean(arr, 10)\n",
    "plt.plot(eps[-len(smoothed_arr):], smoothed_arr)\n",
    "plt.plot(eps, arr, color='grey', alpha=0.3)\n",
    "plt.xlabel('Episode')\n",
    "plt.ylabel('Total rewards')"
   ]
  },
  {
   "cell_type": "code",
   "execution_count": 16,
   "metadata": {},
   "outputs": [
    {
     "data": {
      "text/plain": [
       "Text(0, 0.5, 'Total rewards')"
      ]
     },
     "execution_count": 16,
     "metadata": {},
     "output_type": "execute_result"
    },
    {
     "data": {
      "image/png": "[encoded data removed]",
      "text/plain": [
       "<Figure size 432x288 with 1 Axes>"
      ]
     },
     "metadata": {
      "needs_background": "light"
     },
     "output_type": "display_data"
    }
   ],
   "source": [
    "eps, arr = np.array(episode_total_rewards).T\n",
    "smoothed_arr = running_mean(arr, 10)\n",
    "plt.plot(eps[-len(smoothed_arr):], smoothed_arr)\n",
    "plt.plot(eps, arr, color='grey', alpha=0.3)\n",
    "plt.xlabel('Episode')\n",
    "plt.ylabel('Total rewards')"
   ]
  },
  {
   "cell_type": "code",
   "execution_count": 17,
   "metadata": {},
   "outputs": [
    {
     "data": {
      "text/plain": [
       "Text(0, 0.5, 'Total rewards')"
      ]
     },
     "execution_count": 17,
     "metadata": {},
     "output_type": "execute_result"
    },
    {
     "data": {
      "image/png": "[encoded data removed]",
      "text/plain": [
       "<Figure size 432x288 with 1 Axes>"
      ]
     },
     "metadata": {
      "needs_background": "light"
     },
     "output_type": "display_data"
    }
   ],
   "source": [
    "eps, arr = np.array(episode_total_rewards).T\n",
    "smoothed_arr = running_mean(arr, 10)\n",
    "plt.plot(eps[-len(smoothed_arr):], smoothed_arr)\n",
    "plt.plot(eps, arr, color='grey', alpha=0.3)\n",
    "plt.xlabel('Episode')\n",
    "plt.ylabel('Total rewards')"
   ]
  },
  {
   "cell_type": "code",
   "execution_count": 14,
   "metadata": {},
   "outputs": [
    {
     "data": {
      "text/plain": [
       "Text(0, 0.5, 'Total rewards')"
      ]
     },
     "execution_count": 14,
     "metadata": {},
     "output_type": "execute_result"
    },
    {
     "data": {
      "image/png": "[encoded data removed]",
      "text/plain": [
       "<Figure size 432x288 with 1 Axes>"
      ]
     },
     "metadata": {
      "needs_background": "light"
     },
     "output_type": "display_data"
    }
   ],
   "source": [
    "eps, arr = np.array(episode_total_rewards).T\n",
    "smoothed_arr = running_mean(arr, 10)\n",
    "plt.plot(eps[-len(smoothed_arr):], smoothed_arr)\n",
    "plt.plot(eps, arr, color='grey', alpha=0.3)\n",
    "plt.xlabel('Episode')\n",
    "plt.ylabel('Total rewards')"
   ]
  },
  {
   "cell_type": "code",
   "execution_count": 14,
   "metadata": {},
   "outputs": [
    {
     "data": {
      "text/plain": [
       "Text(0, 0.5, 'Total rewards')"
      ]
     },
     "execution_count": 14,
     "metadata": {},
     "output_type": "execute_result"
    },
    {
     "data": {
      "image/png": "[encoded data removed]",
      "text/plain": [
       "<Figure size 432x288 with 1 Axes>"
      ]
     },
     "metadata": {
      "needs_background": "light"
     },
     "output_type": "display_data"
    }
   ],
   "source": [
    "eps, arr = np.array(episode_total_rewards).T\n",
    "smoothed_arr = running_mean(arr, 10)\n",
    "plt.plot(eps[-len(smoothed_arr):], smoothed_arr)\n",
    "plt.plot(eps, arr, color='grey', alpha=0.3)\n",
    "plt.xlabel('Episode')\n",
    "plt.ylabel('Total rewards')"
   ]
  },
  {
   "cell_type": "code",
   "execution_count": 16,
   "metadata": {},
   "outputs": [
    {
     "data": {
      "text/plain": [
       "Text(0, 0.5, 'Total rewards')"
      ]
     },
     "execution_count": 16,
     "metadata": {},
     "output_type": "execute_result"
    },
    {
     "data": {
      "image/png": "[encoded data removed]",
      "text/plain": [
       "<Figure size 432x288 with 1 Axes>"
      ]
     },
     "metadata": {
      "needs_background": "light"
     },
     "output_type": "display_data"
    }
   ],
   "source": [
    "eps, arr = np.array(episode_total_rewards).T\n",
    "smoothed_arr = running_mean(arr, 10)\n",
    "plt.plot(eps[-len(smoothed_arr):], smoothed_arr)\n",
    "plt.plot(eps, arr, color='grey', alpha=0.3)\n",
    "plt.xlabel('Episode')\n",
    "plt.ylabel('Total rewards')"
   ]
  },
  {
   "cell_type": "code",
   "execution_count": 17,
   "metadata": {},
   "outputs": [],
   "source": [
    "# agent.actor_local.load_state_dict(torch.load('checkpoint_actor.pth'))\n",
    "# agent.critic_local.load_state_dict(torch.load('checkpoint_critic.pth'))\n",
    "# # 1 episode\n",
    "# state = env.reset()\n",
    "# agent.reset()\n",
    "# total_reward = 0\n",
    "# while True:\n",
    "#     env.render()\n",
    "#     action = agent.act(state)\n",
    "#     state, reward, done, _ = env.step(action)\n",
    "#     total_reward += reward\n",
    "#     if done:\n",
    "#         break\n",
    "        \n",
    "# print('total_reward:{}'.format(total_reward))\n",
    "# env.close()"
   ]
  },
  {
   "cell_type": "code",
   "execution_count": null,
   "metadata": {},
   "outputs": [],
   "source": []
  }
 ],
 "metadata": {
  "kernelspec": {
   "display_name": "Python 3",
   "language": "python",
   "name": "python3"
  },
  "language_info": {
   "codemirror_mode": {
    "name": "ipython",
    "version": 3
   },
   "file_extension": ".py",
   "mimetype": "text/x-python",
   "name": "python",
   "nbconvert_exporter": "python",
   "pygments_lexer": "ipython3",
   "version": "3.6.6"
  }
 },
 "nbformat": 4,
 "nbformat_minor": 2
}
