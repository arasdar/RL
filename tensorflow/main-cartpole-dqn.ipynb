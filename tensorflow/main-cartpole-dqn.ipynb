{
 "cells": [
  {
   "cell_type": "markdown",
   "metadata": {},
   "source": [
    "# Deep Q-learning (DQL) or Deep Q-network (DQN)\n",
    "\n",
    "In this notebook, we'll build a neural network that can learn to play games through reinforcement learning. More specifically, we'll use Q-learning to train an agent to play a game called [Cart-Pole](https://gym.openai.com/envs/CartPole-v0). In this game, a freely swinging pole is attached to a cart. The cart can move to the left and right, and the goal is to keep the pole upright as long as possible.\n",
    "\n",
    "![Cart-Pole](assets/cart-pole.jpg)\n",
    "\n",
    "We can simulate this game using [OpenAI Gym](https://gym.openai.com/). First, let's check out how OpenAI Gym works. Then, we'll get into training an agent to play the Cart-Pole game."
   ]
  },
  {
   "cell_type": "code",
   "execution_count": 1,
   "metadata": {},
   "outputs": [],
   "source": [
    "import numpy as np"
   ]
  },
  {
   "cell_type": "code",
   "execution_count": 2,
   "metadata": {},
   "outputs": [
    {
     "name": "stdout",
     "output_type": "stream",
     "text": [
      "TensorFlow Version: 1.12.0\n",
      "Default GPU Device: /device:GPU:0\n"
     ]
    }
   ],
   "source": [
    "import tensorflow as tf\n",
    "print('TensorFlow Version: {}'.format(tf.__version__))\n",
    "print('Default GPU Device: {}'.format(tf.test.gpu_device_name()))"
   ]
  },
  {
   "cell_type": "markdown",
   "metadata": {},
   "source": [
    ">**Note:** Make sure you have OpenAI Gym cloned into the same directory with this notebook. I've included `gym` as a submodule, so you can run `git submodule --init --recursive` to pull the contents into the `gym` repo."
   ]
  },
  {
   "cell_type": "markdown",
   "metadata": {},
   "source": [
    ">**Note:** Make sure you have OpenAI Gym cloned. Then run this command `pip install -e gym/[all]`."
   ]
  },
  {
   "cell_type": "code",
   "execution_count": 3,
   "metadata": {},
   "outputs": [],
   "source": [
    "import gym\n",
    "\n",
    "## Create the Cart-Pole game environment\n",
    "# env = gym.make('CartPole-v0') # 200 total reward as goal\n",
    "env = gym.make('CartPole-v1') # 500 total reward as goal"
   ]
  },
  {
   "cell_type": "markdown",
   "metadata": {},
   "source": [
    "We interact with the simulation through `env`. To show the simulation running, you can use `env.render()` to render one frame. Passing in an action as an integer to `env.step` will generate the next step in the simulation.  You can see how many actions are possible from `env.action_space` and to get a random action you can use `env.action_space.sample()`. This is general to all Gym games. In the Cart-Pole game, there are two possible actions, moving the cart left or right. So there are two actions we can take, encoded as 0 and 1.\n",
    "\n",
    "Run the code below to watch the simulation run."
   ]
  },
  {
   "cell_type": "code",
   "execution_count": 4,
   "metadata": {},
   "outputs": [],
   "source": [
    "# env.reset()\n",
    "# batch = []\n",
    "# for _ in range(1000):\n",
    "#     # env.render()\n",
    "#     action = env.action_space.sample()\n",
    "#     state, reward, done, info = env.step(action) # take a random action\n",
    "#     batch.append([action, state, reward, done, info])\n",
    "#     #print('state, action, reward, done, info:', state, action, reward, done, info)\n",
    "#     if done:\n",
    "#         env.reset()"
   ]
  },
  {
   "cell_type": "markdown",
   "metadata": {},
   "source": [
    "To shut the window showing the simulation, use `env.close()`."
   ]
  },
  {
   "cell_type": "markdown",
   "metadata": {},
   "source": [
    "If you ran the simulation above, we can look at the rewards:"
   ]
  },
  {
   "cell_type": "code",
   "execution_count": 5,
   "metadata": {},
   "outputs": [],
   "source": [
    "# batch[0], batch[0][1].shape"
   ]
  },
  {
   "cell_type": "code",
   "execution_count": 6,
   "metadata": {},
   "outputs": [],
   "source": [
    "# actions = np.array([each[0] for each in batch])\n",
    "# states = np.array([each[1] for each in batch])\n",
    "# rewards = np.array([each[2] for each in batch])\n",
    "# dones = np.array([each[3] for each in batch])\n",
    "# infos = np.array([each[4] for each in batch])"
   ]
  },
  {
   "cell_type": "code",
   "execution_count": 7,
   "metadata": {},
   "outputs": [],
   "source": [
    "# print(rewards[-20:])\n",
    "# print(np.array(rewards).shape, np.array(states).shape, np.array(actions).shape, np.array(dones).shape)\n",
    "# print(np.array(rewards).dtype, np.array(states).dtype, np.array(actions).dtype, np.array(dones).dtype)\n",
    "# print(np.max(np.array(actions)), np.min(np.array(actions)))\n",
    "# print((np.max(np.array(actions)) - np.min(np.array(actions)))+1)\n",
    "# print(np.max(np.array(rewards)), np.min(np.array(rewards)))\n",
    "# print(np.max(np.array(states)), np.min(np.array(states)))"
   ]
  },
  {
   "cell_type": "markdown",
   "metadata": {},
   "source": [
    "The game resets after the pole has fallen past a certain angle. For each frame while the simulation is running, it returns a reward of 1.0. The longer the game runs, the more reward we get. Then, our network's goal is to maximize the reward by keeping the pole vertical. It will do this by moving the cart to the left and the right."
   ]
  },
  {
   "cell_type": "markdown",
   "metadata": {},
   "source": [
    "## Q-Network\n",
    "\n",
    "We train our Q-learning agent using the Bellman Equation:\n",
    "\n",
    "$$\n",
    "Q(s, a) = r + \\gamma \\max{Q(s', a')}\n",
    "$$\n",
    "\n",
    "where $s$ is a state, $a$ is an action, and $s'$ is the next state from state $s$ and action $a$.\n",
    "\n",
    "Before we used this equation to learn values for a Q-_table_. However, for this game there are a huge number of states available. The state has four values: the position and velocity of the cart, and the position and velocity of the pole. These are all real-valued numbers, so ignoring floating point precisions, you practically have infinite states. Instead of using a table then, we'll replace it with a neural network that will approximate the Q-table lookup function.\n",
    "\n",
    "<img src=\"assets/deep-q-learning.png\" width=450px>\n",
    "\n",
    "Now, our Q value, $Q(s, a)$ is calculated by passing in a state to the network. The output will be Q-values for each available action, with fully connected hidden layers.\n",
    "\n",
    "<img src=\"assets/q-network.png\" width=550px>\n",
    "\n",
    "\n",
    "As I showed before, we can define our targets for training as $\\hat{Q}(s,a) = r + \\gamma \\max{Q(s', a')}$. Then we update the weights by minimizing $(\\hat{Q}(s,a) - Q(s,a))^2$. \n",
    "\n",
    "For this Cart-Pole game, we have four inputs, one for each value in the state, and two outputs, one for each action. To get $\\hat{Q}$, we'll first choose an action, then simulate the game using that action. This will get us the next state, $s'$, and the reward. With that, we can calculate $\\hat{Q}$ then pass it back into the $Q$ network to run the optimizer and update the weights.\n",
    "\n",
    "Below is my implementation of the Q-network. I used two fully connected layers with ReLU activations. Two seems to be good enough, three might be better. Feel free to try it out."
   ]
  },
  {
   "cell_type": "code",
   "execution_count": 8,
   "metadata": {},
   "outputs": [],
   "source": [
    "def model_input(state_size):\n",
    "    actions = tf.placeholder(tf.int32, [None], name='actions')\n",
    "    states = tf.placeholder(tf.float32, [None, state_size], name='states')\n",
    "    targetQs = tf.placeholder(tf.float32, [None], name='targetQs')\n",
    "    is_training = tf.placeholder(tf.bool, name='is_training')\n",
    "    return actions, states, targetQs, is_training"
   ]
  },
  {
   "cell_type": "code",
   "execution_count": 9,
   "metadata": {},
   "outputs": [],
   "source": [
    "def init_xavier(random_seed=1, dtype=tf.float32, uniform=False):\n",
    "    xavier = tf.contrib.layers.xavier_initializer(\n",
    "        dtype=dtype,\n",
    "        seed=tf.set_random_seed(random_seed), \n",
    "        uniform=uniform) # False: normal\n",
    "    return xavier"
   ]
  },
  {
   "cell_type": "code",
   "execution_count": 10,
   "metadata": {},
   "outputs": [],
   "source": [
    "def mlp(inputs, units, trainable=True):\n",
    "    outputs = tf.layers.dense(\n",
    "        inputs=inputs,\n",
    "        units=units,\n",
    "        activation=None,\n",
    "        use_bias=True,\n",
    "        kernel_initializer=init_xavier(), # Xavier with normal init\n",
    "        bias_initializer=tf.zeros_initializer(),\n",
    "        kernel_regularizer=None,\n",
    "        bias_regularizer=None,\n",
    "        activity_regularizer=None,\n",
    "        kernel_constraint=None,\n",
    "        bias_constraint=None,\n",
    "        trainable=trainable,\n",
    "        name=None,\n",
    "        reuse=None)\n",
    "    return outputs"
   ]
  },
  {
   "cell_type": "code",
   "execution_count": 11,
   "metadata": {},
   "outputs": [],
   "source": [
    "# tf.nn.leaky_relu(\n",
    "#     features,\n",
    "#     alpha=0.2,\n",
    "#     name=None\n",
    "# )\n",
    "def nl(inputs, alpha=0.2):\n",
    "    outputs = tf.maximum(alpha * inputs, inputs)\n",
    "    return outputs"
   ]
  },
  {
   "cell_type": "code",
   "execution_count": 12,
   "metadata": {},
   "outputs": [],
   "source": [
    "def bn(inputs, training=False):\n",
    "    outputs = tf.layers.batch_normalization(\n",
    "        inputs=inputs,\n",
    "        axis=-1,\n",
    "        momentum=0.99,\n",
    "        epsilon=0.001,\n",
    "        center=True,\n",
    "        scale=True,\n",
    "        beta_initializer=tf.zeros_initializer(),\n",
    "        gamma_initializer=tf.ones_initializer(),\n",
    "        moving_mean_initializer=tf.zeros_initializer(),\n",
    "        moving_variance_initializer=tf.ones_initializer(),\n",
    "        beta_regularizer=None,\n",
    "        gamma_regularizer=None,\n",
    "        beta_constraint=None,\n",
    "        gamma_constraint=None,\n",
    "        training=training,\n",
    "        trainable=True,\n",
    "        name=None,\n",
    "        reuse=None,\n",
    "        renorm=False,\n",
    "        renorm_clipping=None,\n",
    "        renorm_momentum=0.99,\n",
    "        fused=None,\n",
    "        virtual_batch_size=None,\n",
    "        adjustment=None)\n",
    "    return outputs"
   ]
  },
  {
   "cell_type": "code",
   "execution_count": 13,
   "metadata": {},
   "outputs": [],
   "source": [
    "# Actor-Critic/ D/Q\n",
    "def D(states, action_size, hidden_size, reuse=False, alpha=0.2, is_training=False):\n",
    "    with tf.variable_scope('D', reuse=reuse):\n",
    "        # First fully connected layer\n",
    "        h = mlp(inputs=states, units=hidden_size)\n",
    "        h = bn(inputs=h, training=is_training)\n",
    "        h = nl(h)\n",
    "        print(states.shape, h.shape)\n",
    "        \n",
    "        # Second fully connected layer\n",
    "        h = mlp(inputs=h, units=hidden_size)\n",
    "        h = bn(inputs=h, training=is_training)\n",
    "        h = nl(h)\n",
    "        print(h.shape)\n",
    "        \n",
    "        # Output layer\n",
    "        actions = mlp(inputs=h, units=action_size)\n",
    "        return actions"
   ]
  },
  {
   "cell_type": "code",
   "execution_count": 14,
   "metadata": {},
   "outputs": [],
   "source": [
    "def model_loss(actions, states, targetQs, action_size, hidden_size, is_training=False):\n",
    "    \n",
    "    actions_logits = D(states=states, hidden_size=hidden_size, action_size=action_size, \n",
    "                       is_training=is_training)\n",
    "    \n",
    "    actions_labels = tf.one_hot(indices=actions, depth=action_size, dtype=actions_logits.dtype)\n",
    "    \n",
    "    Qs = tf.reduce_max(actions_logits*actions_labels, axis=1)\n",
    "    \n",
    "    loss = tf.reduce_mean((Qs - targetQs)**2)\n",
    "    \n",
    "    return actions_logits, loss"
   ]
  },
  {
   "cell_type": "code",
   "execution_count": 15,
   "metadata": {},
   "outputs": [],
   "source": [
    "def model_opt(loss, learning_rate):\n",
    "    # Get weights and bias to update\n",
    "    t_vars = tf.trainable_variables()\n",
    "    d_vars = [var for var in t_vars if var.name.startswith('D')]\n",
    "\n",
    "    # Optimize\n",
    "    with tf.control_dependencies(tf.get_collection(tf.GraphKeys.UPDATE_OPS)): # Required for batchnorm (BN)\n",
    "        opt = tf.train.AdamOptimizer(learning_rate).minimize(loss, var_list=d_vars)\n",
    "\n",
    "    return opt"
   ]
  },
  {
   "cell_type": "code",
   "execution_count": 16,
   "metadata": {},
   "outputs": [],
   "source": [
    "class Model:\n",
    "    def __init__(self, state_size, action_size, hidden_size, learning_rate):\n",
    "\n",
    "        # Data of the Model: make the data available inside the framework\n",
    "        self.actions, self.states, self.targetQs, self.is_training = model_input(state_size=state_size)\n",
    "\n",
    "        # Create the Model: calculating the loss and forwad pass\n",
    "        self.actions_logits, self.loss = model_loss(action_size=action_size, hidden_size=hidden_size,\n",
    "                                                    states=self.states, actions=self.actions, \n",
    "                                                    targetQs=self.targetQs, is_training=self.is_training)\n",
    "\n",
    "        # Update the model: backward pass and backprop\n",
    "        self.opt = model_opt(loss=self.loss, learning_rate=learning_rate)"
   ]
  },
  {
   "cell_type": "markdown",
   "metadata": {},
   "source": [
    "## Experience replay\n",
    "\n",
    "Reinforcement learning algorithms can have stability issues due to correlations between states. To reduce correlations when training, we can store the agent's experiences and later draw a random mini-batch of those experiences to train on. \n",
    "\n",
    "Here, we'll create a `Memory` object that will store our experiences, our transitions $<s, a, r, s'>$. This memory will have a maxmium capacity, so we can keep newer experiences in memory while getting rid of older experiences. Then, we'll sample a random mini-batch of transitions $<s, a, r, s'>$ and train on those.\n",
    "\n",
    "Below, I've implemented a `Memory` object. If you're unfamiliar with `deque`, this is a double-ended queue. You can think of it like a tube open on both sides. You can put objects in either side of the tube. But if it's full, adding anything more will push an object out the other side. This is a great data structure to use for the memory buffer."
   ]
  },
  {
   "cell_type": "code",
   "execution_count": 17,
   "metadata": {},
   "outputs": [],
   "source": [
    "from collections import deque\n",
    "class Memory():\n",
    "    def __init__(self, max_size = 1000):\n",
    "        self.buffer = deque(maxlen=max_size)\n",
    "    def sample(self, batch_size):\n",
    "        idx = np.random.choice(np.arange(len(self.buffer)), \n",
    "                               size=batch_size, \n",
    "                               replace=False)\n",
    "        return [self.buffer[ii] for ii in idx]"
   ]
  },
  {
   "cell_type": "markdown",
   "metadata": {},
   "source": [
    "## Exploration - Exploitation\n",
    "\n",
    "To learn about the environment and rules of the game, the agent needs to explore by taking random actions. We'll do this by choosing a random action with some probability $\\epsilon$ (epsilon).  That is, with some probability $\\epsilon$ the agent will make a random action and with probability $1 - \\epsilon$, the agent will choose an action from $Q(s,a)$. This is called an **$\\epsilon$-greedy policy**.\n",
    "\n",
    "\n",
    "At first, the agent needs to do a lot of exploring. Later when it has learned more, the agent can favor choosing actions based on what it has learned. This is called _exploitation_. We'll set it up so the agent is more likely to explore early in training, then more likely to exploit later in training."
   ]
  },
  {
   "cell_type": "markdown",
   "metadata": {},
   "source": [
    "## Q-Learning training algorithm\n",
    "\n",
    "Putting all this together, we can list out the algorithm we'll use to train the network. We'll train the network in _episodes_. One *episode* is one simulation of the game. For this game, the goal is to keep the pole upright for 195 frames. So we can start a new episode once meeting that goal. The game ends if the pole tilts over too far, or if the cart moves too far the left or right. When a game ends, we'll start a new episode. Now, to train the agent:\n",
    "\n",
    "* Initialize the memory $D$\n",
    "* Initialize the action-value network $Q$ with random weights\n",
    "* **For** episode = 1, $M$ **do**\n",
    "  * **For** $t$, $T$ **do**\n",
    "     * With probability $\\epsilon$ select a random action $a_t$, otherwise select $a_t = \\mathrm{argmax}_a Q(s,a)$\n",
    "     * Execute action $a_t$ in simulator and observe reward $r_{t+1}$ and new state $s_{t+1}$\n",
    "     * Store transition $<s_t, a_t, r_{t+1}, s_{t+1}>$ in memory $D$\n",
    "     * Sample random mini-batch from $D$: $<s_j, a_j, r_j, s'_j>$\n",
    "     * Set $\\hat{Q}_j = r_j$ if the episode ends at $j+1$, otherwise set $\\hat{Q}_j = r_j + \\gamma \\max_{a'}{Q(s'_j, a')}$\n",
    "     * Make a gradient descent step with loss $(\\hat{Q}_j - Q(s_j, a_j))^2$\n",
    "  * **endfor**\n",
    "* **endfor**"
   ]
  },
  {
   "cell_type": "markdown",
   "metadata": {},
   "source": [
    "## Hyperparameters\n",
    "\n",
    "One of the more difficult aspects of reinforcememt learning are the large number of hyperparameters. Not only are we tuning the network, but we're tuning the simulation."
   ]
  },
  {
   "cell_type": "code",
   "execution_count": 18,
   "metadata": {},
   "outputs": [],
   "source": [
    "# print('state size:{}'.format(states.shape), \n",
    "#       'actions:{}'.format(actions.shape)) \n",
    "# print('action size:', np.max(actions) - np.min(actions)+1)"
   ]
  },
  {
   "cell_type": "code",
   "execution_count": 21,
   "metadata": {},
   "outputs": [],
   "source": [
    "# Exploration parameters\n",
    "explore_start = 1.0            # exploration probability at start\n",
    "explore_stop = 0.01            # minimum exploration probability \n",
    "decay_rate = 0.0001            # exponential decay rate for exploration prob\n",
    "\n",
    "# Network parameters\n",
    "action_size = 2\n",
    "state_size = 4\n",
    "hidden_size = 64               # number of units in each Q-network hidden layer\n",
    "learning_rate = 1e-04         # Q-network learning rate\n",
    "\n",
    "# Memory parameters\n",
    "memory_size = int(1e5)            # memory capacity\n",
    "batch_size = 128             # experience mini-batch size\n",
    "gamma = 0.99                 # future reward discount"
   ]
  },
  {
   "cell_type": "code",
   "execution_count": 22,
   "metadata": {},
   "outputs": [
    {
     "name": "stdout",
     "output_type": "stream",
     "text": [
      "(?, 4) (?, 64)\n",
      "(?, 64)\n"
     ]
    }
   ],
   "source": [
    "# Reset/init the graph/session\n",
    "graph = tf.reset_default_graph()\n",
    "\n",
    "# Init the model\n",
    "model = Model(action_size=action_size, hidden_size=hidden_size, state_size=state_size, learning_rate=learning_rate)\n",
    "\n",
    "# Init the memory\n",
    "memory = Memory(max_size=memory_size)"
   ]
  },
  {
   "cell_type": "markdown",
   "metadata": {},
   "source": [
    "## Populate the memory (exprience memory)\n",
    "\n",
    "Here I'm re-initializing the simulation and pre-populating the memory. The agent is taking random actions and storing the transitions in memory. This will help the agent with exploring the game."
   ]
  },
  {
   "cell_type": "code",
   "execution_count": 23,
   "metadata": {},
   "outputs": [],
   "source": [
    "state = env.reset()\n",
    "\n",
    "for _ in range(memory_size):\n",
    "    \n",
    "    action = env.action_space.sample()\n",
    "    \n",
    "    next_state, reward, done, _ = env.step(action)\n",
    "    \n",
    "    memory.buffer.append([state, action, next_state, reward, float(done)])\n",
    "    \n",
    "    state = next_state\n",
    "    \n",
    "    if done is True:\n",
    "        state = env.reset()"
   ]
  },
  {
   "cell_type": "markdown",
   "metadata": {},
   "source": [
    "## Training the model\n",
    "\n",
    "Below we'll train our agent. If you want to watch it train, uncomment the `env.render()` line. This is slow because it's rendering the frames slower than the network can train. But, it's cool to watch the agent get better at the game."
   ]
  },
  {
   "cell_type": "code",
   "execution_count": 26,
   "metadata": {},
   "outputs": [],
   "source": [
    "def learn(sess, memory, batch_size):\n",
    "    \n",
    "    batch = memory.sample(batch_size)\n",
    "    states = np.array([each[0] for each in batch])\n",
    "    actions = np.array([each[1] for each in batch])\n",
    "    next_states = np.array([each[2] for each in batch])\n",
    "    rewards = np.array([each[3] for each in batch])\n",
    "    dones = np.array([each[4] for each in batch])\n",
    "    \n",
    "    next_actions_logits = sess.run(model.actions_logits, feed_dict = {model.states: next_states, \n",
    "                                                                      model.is_training: False})\n",
    "    \n",
    "    nextQs = np.max(next_actions_logits, axis=1) * (1-dones)\n",
    "    \n",
    "    targetQs = rewards + (gamma * nextQs)\n",
    "    \n",
    "    loss, _ = sess.run([model.loss, model.opt], feed_dict = {model.states: states, \n",
    "                                                             model.actions: actions,\n",
    "                                                             model.targetQs: targetQs, \n",
    "                                                             model.is_training: False})\n",
    "    return loss"
   ]
  },
  {
   "cell_type": "code",
   "execution_count": 28,
   "metadata": {},
   "outputs": [],
   "source": [
    "def act(sess, state):\n",
    "    \n",
    "    action_logits = sess.run(model.actions_logits, feed_dict={model.states: state.reshape([1, -1]), \n",
    "                                                              model.is_training: False})\n",
    "    \n",
    "    action = np.argmax(action_logits, axis=1)[0]\n",
    "    #print(action)\n",
    "    \n",
    "    return action"
   ]
  },
  {
   "cell_type": "code",
   "execution_count": null,
   "metadata": {},
   "outputs": [
    {
     "name": "stdout",
     "output_type": "stream",
     "text": [
      "Episode:0 meanR:9.0000 R:9.0 loss:1.0661 exploreP:0.9991\n",
      "Episode:1 meanR:13.5000 R:18.0 loss:1.0754 exploreP:0.9973\n",
      "Episode:2 meanR:18.3333 R:28.0 loss:1.0643 exploreP:0.9946\n",
      "Episode:3 meanR:21.0000 R:29.0 loss:1.0453 exploreP:0.9917\n",
      "Episode:4 meanR:19.4000 R:13.0 loss:1.0422 exploreP:0.9904\n",
      "Episode:5 meanR:19.8333 R:22.0 loss:1.0614 exploreP:0.9883\n",
      "Episode:6 meanR:20.2857 R:23.0 loss:1.0859 exploreP:0.9860\n",
      "Episode:7 meanR:23.2500 R:44.0 loss:1.1327 exploreP:0.9818\n",
      "Episode:8 meanR:24.0000 R:30.0 loss:1.2013 exploreP:0.9788\n",
      "Episode:9 meanR:23.6000 R:20.0 loss:1.2581 exploreP:0.9769\n",
      "Episode:10 meanR:23.9091 R:27.0 loss:1.3300 exploreP:0.9743\n",
      "Episode:11 meanR:23.0833 R:14.0 loss:1.4278 exploreP:0.9730\n",
      "Episode:12 meanR:22.3077 R:13.0 loss:1.4865 exploreP:0.9717\n",
      "Episode:13 meanR:22.3571 R:23.0 loss:1.5397 exploreP:0.9695\n",
      "Episode:14 meanR:22.3333 R:22.0 loss:1.6892 exploreP:0.9674\n",
      "Episode:15 meanR:26.3125 R:86.0 loss:2.1495 exploreP:0.9592\n",
      "Episode:16 meanR:26.7059 R:33.0 loss:2.9709 exploreP:0.9561\n",
      "Episode:17 meanR:26.7222 R:27.0 loss:3.5372 exploreP:0.9535\n",
      "Episode:18 meanR:26.0526 R:14.0 loss:4.0404 exploreP:0.9522\n",
      "Episode:19 meanR:27.1000 R:47.0 loss:4.5178 exploreP:0.9478\n",
      "Episode:20 meanR:26.3333 R:11.0 loss:5.8305 exploreP:0.9467\n",
      "Episode:21 meanR:25.7727 R:14.0 loss:5.4370 exploreP:0.9454\n",
      "Episode:22 meanR:25.2174 R:13.0 loss:6.5138 exploreP:0.9442\n",
      "Episode:23 meanR:25.0417 R:21.0 loss:7.3309 exploreP:0.9423\n",
      "Episode:24 meanR:25.5600 R:38.0 loss:9.1047 exploreP:0.9387\n",
      "Episode:25 meanR:25.8077 R:32.0 loss:11.7272 exploreP:0.9358\n",
      "Episode:26 meanR:25.5926 R:20.0 loss:12.5208 exploreP:0.9339\n",
      "Episode:27 meanR:25.1786 R:14.0 loss:15.4714 exploreP:0.9326\n",
      "Episode:28 meanR:25.4828 R:34.0 loss:18.1012 exploreP:0.9295\n",
      "Episode:29 meanR:25.1333 R:15.0 loss:18.3798 exploreP:0.9281\n",
      "Episode:30 meanR:24.7419 R:13.0 loss:21.1559 exploreP:0.9269\n",
      "Episode:31 meanR:24.7812 R:26.0 loss:22.3296 exploreP:0.9245\n",
      "Episode:32 meanR:24.3636 R:11.0 loss:25.9491 exploreP:0.9235\n",
      "Episode:33 meanR:24.4412 R:27.0 loss:27.3497 exploreP:0.9211\n",
      "Episode:34 meanR:24.1429 R:14.0 loss:27.0033 exploreP:0.9198\n",
      "Episode:35 meanR:23.9444 R:17.0 loss:23.1298 exploreP:0.9182\n",
      "Episode:36 meanR:24.0541 R:28.0 loss:32.4155 exploreP:0.9157\n",
      "Episode:37 meanR:24.0000 R:22.0 loss:35.6803 exploreP:0.9137\n",
      "Episode:38 meanR:23.8205 R:17.0 loss:40.3042 exploreP:0.9122\n",
      "Episode:39 meanR:23.6000 R:15.0 loss:36.5915 exploreP:0.9108\n",
      "Episode:40 meanR:23.3415 R:13.0 loss:38.0415 exploreP:0.9096\n",
      "Episode:41 meanR:23.1667 R:16.0 loss:38.7485 exploreP:0.9082\n",
      "Episode:42 meanR:22.8837 R:11.0 loss:47.1034 exploreP:0.9072\n",
      "Episode:43 meanR:22.8636 R:22.0 loss:47.8225 exploreP:0.9053\n",
      "Episode:44 meanR:22.6000 R:11.0 loss:43.7118 exploreP:0.9043\n",
      "Episode:45 meanR:23.0870 R:45.0 loss:48.9171 exploreP:0.9003\n",
      "Episode:46 meanR:22.9574 R:17.0 loss:51.3459 exploreP:0.8987\n",
      "Episode:47 meanR:22.7708 R:14.0 loss:42.4520 exploreP:0.8975\n",
      "Episode:48 meanR:22.4694 R:8.0 loss:45.6277 exploreP:0.8968\n",
      "Episode:49 meanR:23.1200 R:55.0 loss:46.3416 exploreP:0.8919\n",
      "Episode:50 meanR:22.8824 R:11.0 loss:52.0355 exploreP:0.8910\n",
      "Episode:51 meanR:22.9615 R:27.0 loss:50.3754 exploreP:0.8886\n",
      "Episode:52 meanR:22.8113 R:15.0 loss:51.1200 exploreP:0.8873\n",
      "Episode:53 meanR:22.6296 R:13.0 loss:50.2594 exploreP:0.8861\n",
      "Episode:54 meanR:22.5818 R:20.0 loss:45.8423 exploreP:0.8844\n",
      "Episode:55 meanR:22.3750 R:11.0 loss:43.4989 exploreP:0.8834\n",
      "Episode:56 meanR:22.4737 R:28.0 loss:48.7374 exploreP:0.8810\n",
      "Episode:57 meanR:22.2414 R:9.0 loss:44.9404 exploreP:0.8802\n",
      "Episode:58 meanR:22.0847 R:13.0 loss:42.9654 exploreP:0.8791\n",
      "Episode:59 meanR:22.1667 R:27.0 loss:49.4255 exploreP:0.8767\n",
      "Episode:60 meanR:22.1803 R:23.0 loss:44.0471 exploreP:0.8747\n",
      "Episode:61 meanR:22.0484 R:14.0 loss:40.0995 exploreP:0.8735\n",
      "Episode:62 meanR:22.5873 R:56.0 loss:43.8078 exploreP:0.8687\n",
      "Episode:63 meanR:22.5156 R:18.0 loss:48.7640 exploreP:0.8671\n",
      "Episode:64 meanR:22.6000 R:28.0 loss:39.5218 exploreP:0.8647\n",
      "Episode:65 meanR:22.5455 R:19.0 loss:36.1696 exploreP:0.8631\n",
      "Episode:66 meanR:22.5821 R:25.0 loss:37.5620 exploreP:0.8610\n",
      "Episode:67 meanR:23.4853 R:84.0 loss:39.2324 exploreP:0.8539\n",
      "Episode:68 meanR:23.3478 R:14.0 loss:34.4843 exploreP:0.8527\n",
      "Episode:69 meanR:23.7571 R:52.0 loss:33.7224 exploreP:0.8483\n",
      "Episode:70 meanR:24.0563 R:45.0 loss:26.7006 exploreP:0.8446\n",
      "Episode:71 meanR:23.9583 R:17.0 loss:23.8993 exploreP:0.8431\n",
      "Episode:72 meanR:24.7123 R:79.0 loss:22.3069 exploreP:0.8366\n",
      "Episode:73 meanR:24.8378 R:34.0 loss:24.5591 exploreP:0.8338\n",
      "Episode:74 meanR:25.1467 R:48.0 loss:22.4462 exploreP:0.8298\n",
      "Episode:75 meanR:25.5395 R:55.0 loss:21.7504 exploreP:0.8253\n",
      "Episode:76 meanR:25.4026 R:15.0 loss:15.9717 exploreP:0.8241\n",
      "Episode:77 meanR:25.4103 R:26.0 loss:20.2947 exploreP:0.8220\n",
      "Episode:78 meanR:25.5063 R:33.0 loss:19.8254 exploreP:0.8193\n",
      "Episode:79 meanR:25.4000 R:17.0 loss:25.1948 exploreP:0.8180\n",
      "Episode:80 meanR:25.3333 R:20.0 loss:16.8361 exploreP:0.8163\n",
      "Episode:81 meanR:25.3902 R:30.0 loss:19.4561 exploreP:0.8139\n",
      "Episode:82 meanR:25.2530 R:14.0 loss:19.1477 exploreP:0.8128\n",
      "Episode:83 meanR:25.6429 R:58.0 loss:18.7555 exploreP:0.8082\n",
      "Episode:84 meanR:26.4824 R:97.0 loss:18.6547 exploreP:0.8005\n",
      "Episode:85 meanR:26.3372 R:14.0 loss:18.3098 exploreP:0.7993\n",
      "Episode:86 meanR:26.8391 R:70.0 loss:20.2795 exploreP:0.7938\n",
      "Episode:87 meanR:26.9773 R:39.0 loss:19.9781 exploreP:0.7908\n",
      "Episode:88 meanR:26.8090 R:12.0 loss:15.5636 exploreP:0.7899\n",
      "Episode:89 meanR:27.1667 R:59.0 loss:19.5387 exploreP:0.7853\n",
      "Episode:90 meanR:27.1868 R:29.0 loss:17.6764 exploreP:0.7830\n",
      "Episode:91 meanR:27.1522 R:24.0 loss:20.2213 exploreP:0.7812\n",
      "Episode:92 meanR:27.1828 R:30.0 loss:19.8071 exploreP:0.7789\n",
      "Episode:93 meanR:27.6277 R:69.0 loss:20.9968 exploreP:0.7736\n",
      "Episode:94 meanR:28.4737 R:108.0 loss:20.7776 exploreP:0.7654\n",
      "Episode:95 meanR:28.4479 R:26.0 loss:24.8072 exploreP:0.7634\n",
      "Episode:96 meanR:28.4124 R:25.0 loss:24.6166 exploreP:0.7615\n",
      "Episode:97 meanR:28.3673 R:24.0 loss:19.4631 exploreP:0.7597\n",
      "Episode:98 meanR:28.9394 R:85.0 loss:22.2856 exploreP:0.7534\n",
      "Episode:99 meanR:28.9100 R:26.0 loss:20.4974 exploreP:0.7514\n",
      "Episode:100 meanR:29.1300 R:31.0 loss:21.7655 exploreP:0.7492\n",
      "Episode:101 meanR:29.0600 R:11.0 loss:25.1048 exploreP:0.7483\n",
      "Episode:102 meanR:28.9300 R:15.0 loss:20.7346 exploreP:0.7472\n",
      "Episode:103 meanR:29.0100 R:37.0 loss:21.8439 exploreP:0.7445\n",
      "Episode:104 meanR:29.2700 R:39.0 loss:23.7037 exploreP:0.7417\n",
      "Episode:105 meanR:29.2300 R:18.0 loss:28.2452 exploreP:0.7403\n",
      "Episode:106 meanR:29.7500 R:75.0 loss:23.2830 exploreP:0.7349\n",
      "Episode:107 meanR:29.6900 R:38.0 loss:25.4384 exploreP:0.7321\n",
      "Episode:108 meanR:29.6100 R:22.0 loss:21.7426 exploreP:0.7305\n",
      "Episode:109 meanR:29.8500 R:44.0 loss:23.8205 exploreP:0.7274\n",
      "Episode:110 meanR:29.9400 R:36.0 loss:25.7514 exploreP:0.7248\n",
      "Episode:111 meanR:30.0600 R:26.0 loss:22.8046 exploreP:0.7229\n",
      "Episode:112 meanR:30.3100 R:38.0 loss:24.7917 exploreP:0.7202\n",
      "Episode:113 meanR:30.6300 R:55.0 loss:24.8124 exploreP:0.7163\n",
      "Episode:114 meanR:30.5400 R:13.0 loss:27.3917 exploreP:0.7154\n",
      "Episode:115 meanR:29.9900 R:31.0 loss:23.7720 exploreP:0.7132\n",
      "Episode:116 meanR:29.8500 R:19.0 loss:27.8321 exploreP:0.7119\n",
      "Episode:117 meanR:29.9800 R:40.0 loss:26.7580 exploreP:0.7091\n",
      "Episode:118 meanR:30.2700 R:43.0 loss:29.9109 exploreP:0.7061\n",
      "Episode:119 meanR:30.2700 R:47.0 loss:28.9978 exploreP:0.7028\n",
      "Episode:120 meanR:30.3600 R:20.0 loss:29.0900 exploreP:0.7015\n",
      "Episode:121 meanR:30.4800 R:26.0 loss:28.4880 exploreP:0.6997\n",
      "Episode:122 meanR:30.9300 R:58.0 loss:27.5469 exploreP:0.6957\n",
      "Episode:123 meanR:30.9400 R:22.0 loss:30.3679 exploreP:0.6942\n",
      "Episode:124 meanR:31.1700 R:61.0 loss:32.0000 exploreP:0.6900\n",
      "Episode:125 meanR:31.2000 R:35.0 loss:31.4987 exploreP:0.6876\n",
      "Episode:126 meanR:31.1300 R:13.0 loss:29.4161 exploreP:0.6868\n",
      "Episode:127 meanR:31.1700 R:18.0 loss:26.4675 exploreP:0.6855\n",
      "Episode:128 meanR:31.1100 R:28.0 loss:29.1506 exploreP:0.6836\n",
      "Episode:129 meanR:31.6600 R:70.0 loss:31.5585 exploreP:0.6789\n",
      "Episode:130 meanR:32.2200 R:69.0 loss:32.4566 exploreP:0.6743\n",
      "Episode:131 meanR:32.5300 R:57.0 loss:33.1752 exploreP:0.6706\n",
      "Episode:132 meanR:32.8300 R:41.0 loss:33.4390 exploreP:0.6679\n",
      "Episode:133 meanR:32.8900 R:33.0 loss:28.7105 exploreP:0.6657\n",
      "Episode:134 meanR:33.2500 R:50.0 loss:34.1394 exploreP:0.6624\n"
     ]
    },
    {
     "name": "stdout",
     "output_type": "stream",
     "text": [
      "Episode:135 meanR:33.5200 R:44.0 loss:32.0389 exploreP:0.6596\n",
      "Episode:136 meanR:33.5600 R:32.0 loss:34.1449 exploreP:0.6575\n",
      "Episode:137 meanR:33.7200 R:38.0 loss:35.2066 exploreP:0.6550\n",
      "Episode:138 meanR:34.1400 R:59.0 loss:34.4763 exploreP:0.6512\n",
      "Episode:139 meanR:34.6800 R:69.0 loss:36.7220 exploreP:0.6468\n",
      "Episode:140 meanR:34.9000 R:35.0 loss:39.7222 exploreP:0.6446\n",
      "Episode:141 meanR:34.9700 R:23.0 loss:36.2514 exploreP:0.6431\n",
      "Episode:142 meanR:35.0700 R:21.0 loss:39.9330 exploreP:0.6418\n",
      "Episode:143 meanR:35.4700 R:62.0 loss:38.2548 exploreP:0.6379\n",
      "Episode:144 meanR:35.9900 R:63.0 loss:42.9527 exploreP:0.6340\n",
      "Episode:145 meanR:35.7700 R:23.0 loss:40.7573 exploreP:0.6325\n",
      "Episode:146 meanR:36.0100 R:41.0 loss:40.1061 exploreP:0.6300\n",
      "Episode:147 meanR:36.7000 R:83.0 loss:44.1866 exploreP:0.6249\n",
      "Episode:148 meanR:37.3600 R:74.0 loss:39.0323 exploreP:0.6203\n",
      "Episode:149 meanR:37.0600 R:25.0 loss:34.0715 exploreP:0.6188\n",
      "Episode:150 meanR:37.6400 R:69.0 loss:49.5771 exploreP:0.6146\n",
      "Episode:151 meanR:37.9100 R:54.0 loss:49.1452 exploreP:0.6114\n",
      "Episode:152 meanR:38.4200 R:66.0 loss:44.8091 exploreP:0.6074\n",
      "Episode:153 meanR:38.5200 R:23.0 loss:49.1506 exploreP:0.6060\n",
      "Episode:154 meanR:38.4700 R:15.0 loss:45.1027 exploreP:0.6051\n",
      "Episode:155 meanR:38.7500 R:39.0 loss:47.2054 exploreP:0.6028\n",
      "Episode:156 meanR:38.9900 R:52.0 loss:47.9721 exploreP:0.5998\n",
      "Episode:157 meanR:39.0200 R:12.0 loss:45.7300 exploreP:0.5990\n",
      "Episode:158 meanR:39.7200 R:83.0 loss:53.9357 exploreP:0.5942\n",
      "Episode:159 meanR:40.0700 R:62.0 loss:46.0781 exploreP:0.5906\n",
      "Episode:160 meanR:40.6800 R:84.0 loss:50.9047 exploreP:0.5857\n",
      "Episode:161 meanR:41.1600 R:62.0 loss:53.1733 exploreP:0.5822\n",
      "Episode:162 meanR:41.3500 R:75.0 loss:54.4787 exploreP:0.5779\n",
      "Episode:163 meanR:41.6000 R:43.0 loss:48.9486 exploreP:0.5754\n",
      "Episode:164 meanR:42.2500 R:93.0 loss:57.9597 exploreP:0.5702\n",
      "Episode:165 meanR:42.3100 R:25.0 loss:57.9605 exploreP:0.5688\n",
      "Episode:166 meanR:42.2400 R:18.0 loss:61.0866 exploreP:0.5678\n",
      "Episode:167 meanR:42.0100 R:61.0 loss:55.6174 exploreP:0.5644\n",
      "Episode:168 meanR:42.4000 R:53.0 loss:57.7703 exploreP:0.5615\n",
      "Episode:169 meanR:42.9100 R:103.0 loss:60.3084 exploreP:0.5558\n",
      "Episode:170 meanR:42.8700 R:41.0 loss:52.7152 exploreP:0.5536\n",
      "Episode:171 meanR:44.0300 R:133.0 loss:58.2976 exploreP:0.5464\n",
      "Episode:172 meanR:43.7600 R:52.0 loss:55.2695 exploreP:0.5436\n",
      "Episode:173 meanR:43.9100 R:49.0 loss:54.0062 exploreP:0.5410\n",
      "Episode:174 meanR:43.9900 R:56.0 loss:61.1646 exploreP:0.5381\n",
      "Episode:175 meanR:44.2500 R:81.0 loss:63.8066 exploreP:0.5338\n",
      "Episode:176 meanR:44.3700 R:27.0 loss:66.2000 exploreP:0.5324\n",
      "Episode:177 meanR:44.5900 R:48.0 loss:57.6232 exploreP:0.5299\n",
      "Episode:178 meanR:45.4300 R:117.0 loss:66.1850 exploreP:0.5238\n",
      "Episode:179 meanR:45.9900 R:73.0 loss:64.7716 exploreP:0.5201\n",
      "Episode:180 meanR:46.8800 R:109.0 loss:61.6858 exploreP:0.5146\n",
      "Episode:181 meanR:46.7000 R:12.0 loss:50.5017 exploreP:0.5140\n",
      "Episode:182 meanR:47.0900 R:53.0 loss:63.9397 exploreP:0.5113\n",
      "Episode:183 meanR:46.6200 R:11.0 loss:71.6030 exploreP:0.5107\n",
      "Episode:184 meanR:46.5800 R:93.0 loss:69.4617 exploreP:0.5061\n",
      "Episode:185 meanR:46.6400 R:20.0 loss:66.8703 exploreP:0.5051\n",
      "Episode:186 meanR:46.6000 R:66.0 loss:74.1720 exploreP:0.5019\n",
      "Episode:187 meanR:46.9400 R:73.0 loss:69.1130 exploreP:0.4983\n",
      "Episode:188 meanR:47.6300 R:81.0 loss:75.6361 exploreP:0.4943\n",
      "Episode:189 meanR:47.6400 R:60.0 loss:68.7021 exploreP:0.4915\n",
      "Episode:190 meanR:48.7700 R:142.0 loss:71.3675 exploreP:0.4847\n",
      "Episode:191 meanR:49.1600 R:63.0 loss:74.9569 exploreP:0.4817\n",
      "Episode:192 meanR:50.2700 R:141.0 loss:71.7944 exploreP:0.4751\n",
      "Episode:193 meanR:50.1400 R:56.0 loss:82.7074 exploreP:0.4725\n",
      "Episode:194 meanR:49.7800 R:72.0 loss:76.7720 exploreP:0.4692\n",
      "Episode:195 meanR:50.1100 R:59.0 loss:79.6266 exploreP:0.4665\n",
      "Episode:196 meanR:51.6200 R:176.0 loss:80.1132 exploreP:0.4585\n",
      "Episode:197 meanR:52.2600 R:88.0 loss:84.5141 exploreP:0.4546\n",
      "Episode:198 meanR:52.0500 R:64.0 loss:74.2565 exploreP:0.4517\n",
      "Episode:199 meanR:53.6600 R:187.0 loss:83.3628 exploreP:0.4435\n",
      "Episode:200 meanR:54.8200 R:147.0 loss:85.1147 exploreP:0.4372\n",
      "Episode:201 meanR:55.4500 R:74.0 loss:85.6597 exploreP:0.4341\n",
      "Episode:202 meanR:56.4600 R:116.0 loss:97.1828 exploreP:0.4292\n",
      "Episode:203 meanR:56.6000 R:51.0 loss:90.7074 exploreP:0.4270\n",
      "Episode:204 meanR:57.0100 R:80.0 loss:93.5824 exploreP:0.4237\n",
      "Episode:205 meanR:57.6600 R:83.0 loss:95.2994 exploreP:0.4203\n",
      "Episode:206 meanR:57.6000 R:69.0 loss:108.5563 exploreP:0.4175\n",
      "Episode:207 meanR:58.5000 R:128.0 loss:92.9515 exploreP:0.4123\n",
      "Episode:208 meanR:59.2300 R:95.0 loss:104.2682 exploreP:0.4085\n",
      "Episode:209 meanR:59.6900 R:90.0 loss:96.7394 exploreP:0.4049\n",
      "Episode:210 meanR:61.0400 R:171.0 loss:100.7830 exploreP:0.3982\n",
      "Episode:211 meanR:61.6200 R:84.0 loss:101.1755 exploreP:0.3950\n",
      "Episode:212 meanR:62.5100 R:127.0 loss:103.5487 exploreP:0.3901\n",
      "Episode:213 meanR:62.7800 R:82.0 loss:108.1721 exploreP:0.3870\n",
      "Episode:214 meanR:63.3800 R:73.0 loss:103.6292 exploreP:0.3843\n",
      "Episode:215 meanR:64.6600 R:159.0 loss:108.4140 exploreP:0.3784\n",
      "Episode:216 meanR:65.9900 R:152.0 loss:112.7612 exploreP:0.3728\n",
      "Episode:217 meanR:66.3000 R:71.0 loss:126.6532 exploreP:0.3703\n",
      "Episode:218 meanR:67.1900 R:132.0 loss:103.3661 exploreP:0.3655\n",
      "Episode:219 meanR:68.0900 R:137.0 loss:114.8455 exploreP:0.3607\n",
      "Episode:220 meanR:69.0600 R:117.0 loss:125.4512 exploreP:0.3566\n",
      "Episode:221 meanR:69.9200 R:112.0 loss:117.1178 exploreP:0.3528\n",
      "Episode:222 meanR:70.3500 R:101.0 loss:125.0233 exploreP:0.3493\n",
      "Episode:223 meanR:71.3700 R:124.0 loss:119.6185 exploreP:0.3451\n",
      "Episode:224 meanR:72.3100 R:155.0 loss:120.1650 exploreP:0.3400\n",
      "Episode:225 meanR:72.9800 R:102.0 loss:124.9243 exploreP:0.3366\n",
      "Episode:226 meanR:74.0600 R:121.0 loss:123.7593 exploreP:0.3327\n",
      "Episode:227 meanR:74.9200 R:104.0 loss:125.1115 exploreP:0.3294\n",
      "Episode:228 meanR:76.6000 R:196.0 loss:134.8143 exploreP:0.3232\n",
      "Episode:229 meanR:76.9700 R:107.0 loss:133.8607 exploreP:0.3198\n",
      "Episode:230 meanR:77.5500 R:127.0 loss:137.1605 exploreP:0.3159\n",
      "Episode:231 meanR:78.3300 R:135.0 loss:130.1696 exploreP:0.3118\n",
      "Episode:232 meanR:79.2700 R:135.0 loss:148.7151 exploreP:0.3078\n",
      "Episode:233 meanR:80.6600 R:172.0 loss:145.7323 exploreP:0.3027\n",
      "Episode:234 meanR:81.8900 R:173.0 loss:143.8009 exploreP:0.2977\n",
      "Episode:235 meanR:83.3800 R:193.0 loss:148.4541 exploreP:0.2922\n",
      "Episode:236 meanR:83.8600 R:80.0 loss:150.6033 exploreP:0.2899\n",
      "Episode:237 meanR:84.8700 R:139.0 loss:153.0324 exploreP:0.2861\n",
      "Episode:238 meanR:86.2900 R:201.0 loss:158.7827 exploreP:0.2806\n",
      "Episode:239 meanR:87.7000 R:210.0 loss:168.0382 exploreP:0.2749\n",
      "Episode:240 meanR:89.1900 R:184.0 loss:170.2793 exploreP:0.2701\n",
      "Episode:241 meanR:90.8900 R:193.0 loss:164.5320 exploreP:0.2651\n",
      "Episode:242 meanR:92.1500 R:147.0 loss:180.2061 exploreP:0.2614\n",
      "Episode:243 meanR:93.8500 R:232.0 loss:177.2457 exploreP:0.2556\n",
      "Episode:244 meanR:95.4600 R:224.0 loss:191.3838 exploreP:0.2502\n",
      "Episode:245 meanR:97.9800 R:275.0 loss:192.5405 exploreP:0.2437\n",
      "Episode:246 meanR:99.0900 R:152.0 loss:205.7100 exploreP:0.2402\n",
      "Episode:247 meanR:100.2100 R:195.0 loss:202.9500 exploreP:0.2357\n",
      "Episode:248 meanR:101.3400 R:187.0 loss:202.0175 exploreP:0.2315\n",
      "Episode:249 meanR:103.1300 R:204.0 loss:210.2672 exploreP:0.2271\n",
      "Episode:250 meanR:104.3400 R:190.0 loss:225.6290 exploreP:0.2230\n",
      "Episode:251 meanR:106.0800 R:228.0 loss:236.7148 exploreP:0.2182\n",
      "Episode:252 meanR:107.7700 R:235.0 loss:222.6165 exploreP:0.2133\n",
      "Episode:253 meanR:109.2600 R:172.0 loss:224.9190 exploreP:0.2099\n",
      "Episode:254 meanR:112.6300 R:352.0 loss:235.3732 exploreP:0.2030\n",
      "Episode:255 meanR:114.6200 R:238.0 loss:248.3972 exploreP:0.1984\n",
      "Episode:256 meanR:115.5700 R:147.0 loss:255.9896 exploreP:0.1957\n",
      "Episode:257 meanR:120.4500 R:500.0 loss:270.0517 exploreP:0.1866\n",
      "Episode:258 meanR:121.2700 R:165.0 loss:283.6152 exploreP:0.1837\n",
      "Episode:259 meanR:122.9700 R:232.0 loss:284.7174 exploreP:0.1797\n",
      "Episode:260 meanR:123.8600 R:173.0 loss:293.4902 exploreP:0.1768\n",
      "Episode:261 meanR:125.2300 R:199.0 loss:285.3953 exploreP:0.1735\n",
      "Episode:262 meanR:126.6800 R:220.0 loss:311.1038 exploreP:0.1700\n",
      "Episode:263 meanR:127.8800 R:163.0 loss:344.1409 exploreP:0.1674\n",
      "Episode:264 meanR:129.5300 R:258.0 loss:329.6748 exploreP:0.1634\n"
     ]
    },
    {
     "name": "stdout",
     "output_type": "stream",
     "text": [
      "Episode:265 meanR:131.6700 R:239.0 loss:354.5482 exploreP:0.1598\n",
      "Episode:266 meanR:134.6600 R:317.0 loss:367.2631 exploreP:0.1551\n",
      "Episode:267 meanR:135.8900 R:184.0 loss:338.8321 exploreP:0.1525\n",
      "Episode:268 meanR:137.4200 R:206.0 loss:406.3560 exploreP:0.1495\n",
      "Episode:269 meanR:138.2100 R:182.0 loss:414.7600 exploreP:0.1470\n",
      "Episode:270 meanR:139.5900 R:179.0 loss:378.4428 exploreP:0.1446\n",
      "Episode:271 meanR:140.0100 R:175.0 loss:412.4065 exploreP:0.1423\n",
      "Episode:272 meanR:141.6500 R:216.0 loss:424.3256 exploreP:0.1394\n",
      "Episode:273 meanR:145.3900 R:423.0 loss:462.8488 exploreP:0.1341\n",
      "Episode:274 meanR:146.8100 R:198.0 loss:520.8839 exploreP:0.1316\n",
      "Episode:275 meanR:148.0200 R:202.0 loss:517.4861 exploreP:0.1292\n",
      "Episode:276 meanR:150.2800 R:253.0 loss:548.5353 exploreP:0.1262\n",
      "Episode:277 meanR:151.8700 R:207.0 loss:602.1033 exploreP:0.1239\n",
      "Episode:278 meanR:152.9200 R:222.0 loss:561.4160 exploreP:0.1214\n",
      "Episode:279 meanR:153.8900 R:170.0 loss:610.4681 exploreP:0.1195\n",
      "Episode:280 meanR:154.3600 R:156.0 loss:644.1346 exploreP:0.1178\n",
      "Episode:281 meanR:155.8500 R:161.0 loss:664.3314 exploreP:0.1161\n",
      "Episode:282 meanR:157.6100 R:229.0 loss:704.5678 exploreP:0.1137\n",
      "Episode:283 meanR:159.6800 R:218.0 loss:828.2538 exploreP:0.1114\n",
      "Episode:284 meanR:161.1500 R:240.0 loss:755.5340 exploreP:0.1090\n",
      "Episode:285 meanR:163.4800 R:253.0 loss:802.3420 exploreP:0.1065\n",
      "Episode:286 meanR:166.7300 R:391.0 loss:890.7885 exploreP:0.1028\n",
      "Episode:287 meanR:168.0000 R:200.0 loss:863.1367 exploreP:0.1010\n",
      "Episode:288 meanR:168.9400 R:175.0 loss:949.8646 exploreP:0.0994\n",
      "Episode:289 meanR:170.4300 R:209.0 loss:931.9789 exploreP:0.0976\n",
      "Episode:290 meanR:171.7400 R:273.0 loss:1028.5502 exploreP:0.0952\n",
      "Episode:291 meanR:173.6500 R:254.0 loss:1059.5612 exploreP:0.0931\n",
      "Episode:292 meanR:174.3100 R:207.0 loss:1126.7301 exploreP:0.0914\n",
      "Episode:293 meanR:175.9300 R:218.0 loss:1160.4915 exploreP:0.0896\n",
      "Episode:294 meanR:177.8700 R:266.0 loss:1351.4054 exploreP:0.0875\n",
      "Episode:295 meanR:180.0600 R:278.0 loss:1332.1182 exploreP:0.0854\n",
      "Episode:296 meanR:180.9700 R:267.0 loss:1453.1268 exploreP:0.0834\n",
      "Episode:297 meanR:181.9100 R:182.0 loss:1472.6753 exploreP:0.0821\n",
      "Episode:298 meanR:184.2100 R:294.0 loss:1452.9515 exploreP:0.0800\n",
      "Episode:299 meanR:184.8400 R:250.0 loss:1634.7812 exploreP:0.0783\n",
      "Episode:300 meanR:185.5300 R:216.0 loss:1572.0062 exploreP:0.0768\n",
      "Episode:301 meanR:187.5300 R:274.0 loss:1770.7080 exploreP:0.0750\n",
      "Episode:302 meanR:191.3700 R:500.0 loss:1963.3540 exploreP:0.0718\n",
      "Episode:303 meanR:192.6400 R:178.0 loss:2337.7903 exploreP:0.0708\n",
      "Episode:304 meanR:193.7900 R:195.0 loss:2244.0469 exploreP:0.0696\n",
      "Episode:305 meanR:195.3800 R:242.0 loss:2154.7627 exploreP:0.0682\n",
      "Episode:306 meanR:196.7600 R:207.0 loss:2285.6121 exploreP:0.0670\n",
      "Episode:307 meanR:199.3000 R:382.0 loss:2480.0625 exploreP:0.0648\n",
      "Episode:308 meanR:200.3200 R:197.0 loss:2567.5210 exploreP:0.0638\n",
      "Episode:309 meanR:201.1900 R:177.0 loss:2822.5295 exploreP:0.0628\n",
      "Episode:310 meanR:201.1400 R:166.0 loss:2870.0842 exploreP:0.0619\n",
      "Episode:311 meanR:203.5700 R:327.0 loss:3277.4705 exploreP:0.0603\n",
      "Episode:312 meanR:206.1100 R:381.0 loss:3331.4358 exploreP:0.0584\n",
      "Episode:313 meanR:207.2600 R:197.0 loss:3666.6863 exploreP:0.0575\n",
      "Episode:314 meanR:208.5400 R:201.0 loss:3648.1504 exploreP:0.0565\n",
      "Episode:315 meanR:209.6700 R:272.0 loss:4127.8975 exploreP:0.0553\n",
      "Episode:316 meanR:212.7300 R:458.0 loss:4777.9067 exploreP:0.0532\n",
      "Episode:317 meanR:214.1700 R:215.0 loss:5295.4707 exploreP:0.0523\n",
      "Episode:318 meanR:214.4500 R:160.0 loss:5841.6753 exploreP:0.0516\n",
      "Episode:319 meanR:215.5400 R:246.0 loss:6255.6333 exploreP:0.0506\n",
      "Episode:320 meanR:217.7500 R:338.0 loss:6808.0620 exploreP:0.0493\n",
      "Episode:321 meanR:219.0500 R:242.0 loss:8202.9053 exploreP:0.0483\n",
      "Episode:322 meanR:220.1600 R:212.0 loss:8755.5811 exploreP:0.0475\n",
      "Episode:323 meanR:221.1200 R:220.0 loss:8963.1924 exploreP:0.0467\n",
      "Episode:324 meanR:221.3100 R:174.0 loss:10370.3252 exploreP:0.0461\n",
      "Episode:325 meanR:222.6500 R:236.0 loss:11505.2402 exploreP:0.0452\n",
      "Episode:326 meanR:223.9200 R:248.0 loss:12361.0527 exploreP:0.0444\n",
      "Episode:327 meanR:225.9200 R:304.0 loss:13924.1895 exploreP:0.0434\n",
      "Episode:328 meanR:226.5100 R:255.0 loss:15196.9023 exploreP:0.0425\n",
      "Episode:329 meanR:228.5000 R:306.0 loss:16921.1094 exploreP:0.0415\n",
      "Episode:330 meanR:229.4600 R:223.0 loss:18953.3633 exploreP:0.0408\n",
      "Episode:331 meanR:230.5000 R:239.0 loss:22361.5312 exploreP:0.0401\n",
      "Episode:332 meanR:233.1500 R:400.0 loss:27331.4707 exploreP:0.0389\n",
      "Episode:333 meanR:233.7300 R:230.0 loss:29037.9473 exploreP:0.0383\n",
      "Episode:334 meanR:233.8400 R:184.0 loss:31328.0137 exploreP:0.0378\n",
      "Episode:335 meanR:233.5900 R:168.0 loss:36614.8867 exploreP:0.0373\n",
      "Episode:336 meanR:234.9000 R:211.0 loss:38878.2383 exploreP:0.0367\n",
      "Episode:337 meanR:235.7100 R:220.0 loss:37994.5898 exploreP:0.0361\n",
      "Episode:338 meanR:235.5300 R:183.0 loss:45730.1484 exploreP:0.0357\n",
      "Episode:339 meanR:235.5300 R:210.0 loss:48212.6602 exploreP:0.0351\n",
      "Episode:340 meanR:235.3600 R:167.0 loss:51411.3672 exploreP:0.0347\n",
      "Episode:341 meanR:236.4300 R:300.0 loss:60456.5469 exploreP:0.0340\n",
      "Episode:342 meanR:237.1600 R:220.0 loss:62544.9961 exploreP:0.0335\n",
      "Episode:343 meanR:237.4500 R:261.0 loss:67048.6094 exploreP:0.0329\n",
      "Episode:344 meanR:237.4100 R:220.0 loss:70251.4609 exploreP:0.0324\n"
     ]
    }
   ],
   "source": [
    "# Save/load the model and save for plotting\n",
    "saver = tf.train.Saver()\n",
    "episode_rewards_list, rewards_list, loss_list = [], [], []\n",
    "\n",
    "# TF session for training\n",
    "with tf.Session(graph=graph) as sess:\n",
    "    sess.run(tf.global_variables_initializer())\n",
    "    #saver.restore(sess, 'checkpoints/model.ckpt')    \n",
    "    #saver.restore(sess, tf.train.latest_checkpoint('checkpoints'))\n",
    "    total_step = 0 # Explore or exploit parameter\n",
    "    episode_reward = deque(maxlen=100) # 100 episodes average/running average/running mean/window\n",
    "    \n",
    "    # Training episodes/epochs\n",
    "    for ep in range(11111):\n",
    "        total_reward = 0\n",
    "        loss_batch = []\n",
    "        state = env.reset()\n",
    "\n",
    "        # Training steps/batches\n",
    "        while True:\n",
    "            # Explore (Env) or Exploit (Model)\n",
    "            total_step += 1\n",
    "            explore_p = explore_stop + (explore_start - explore_stop) * np.exp(-decay_rate * total_step)\n",
    "            \n",
    "            if explore_p > np.random.rand():\n",
    "                action = env.action_space.sample()\n",
    "            else:\n",
    "                action = act(sess, state)\n",
    "                \n",
    "            next_state, reward, done, _ = env.step(action)\n",
    "            \n",
    "            memory.buffer.append([state, action, next_state, reward, float(done)])\n",
    "            \n",
    "            total_reward += reward\n",
    "            state = next_state\n",
    "\n",
    "            # Training\n",
    "            loss = learn(sess, memory, batch_size)\n",
    "            loss_batch.append(loss)\n",
    "            \n",
    "            if done is True:\n",
    "                break\n",
    "                \n",
    "        episode_reward.append(total_reward)\n",
    "        \n",
    "        print('Episode:{}'.format(ep),\n",
    "              'meanR:{:.4f}'.format(np.mean(episode_reward)),\n",
    "              'R:{}'.format(total_reward),\n",
    "              'loss:{:.4f}'.format(np.mean(loss_batch)),\n",
    "              'exploreP:{:.4f}'.format(explore_p))\n",
    "        \n",
    "        # Ploting out\n",
    "        episode_rewards_list.append([ep, np.mean(episode_reward)])\n",
    "        rewards_list.append([ep, total_reward])\n",
    "        loss_list.append([ep, np.mean(loss_batch)])\n",
    "        \n",
    "        # Break episode/epoch loop\n",
    "        if np.mean(episode_reward) >= 500:\n",
    "            break\n",
    "            \n",
    "    # At the end of all training episodes/epochs\n",
    "    saver.save(sess, 'checkpoints/model.ckpt')"
   ]
  },
  {
   "cell_type": "markdown",
   "metadata": {},
   "source": [
    "# Visualizing training\n",
    "\n",
    "Below I'll plot the total rewards for each episode. I'm plotting the rolling average too, in blue."
   ]
  },
  {
   "cell_type": "code",
   "execution_count": 30,
   "metadata": {},
   "outputs": [],
   "source": [
    "%matplotlib inline\n",
    "import matplotlib.pyplot as plt\n",
    "\n",
    "def running_mean(x, N):\n",
    "    cumsum = np.cumsum(np.insert(x, 0, 0)) \n",
    "    return (cumsum[N:] - cumsum[:-N]) / N "
   ]
  },
  {
   "cell_type": "code",
   "execution_count": 31,
   "metadata": {},
   "outputs": [
    {
     "data": {
      "text/plain": [
       "Text(0, 0.5, 'Total rewards')"
      ]
     },
     "execution_count": 31,
     "metadata": {},
     "output_type": "execute_result"
    },
    {
     "data": {
      "image/png": "[encoded data removed]",
      "text/plain": [
       "<Figure size 432x288 with 1 Axes>"
      ]
     },
     "metadata": {
      "needs_background": "light"
     },
     "output_type": "display_data"
    }
   ],
   "source": [
    "eps, arr = np.array(episode_rewards_list).T\n",
    "smoothed_arr = running_mean(arr, 10)\n",
    "plt.plot(eps[-len(smoothed_arr):], smoothed_arr)\n",
    "plt.plot(eps, arr, color='grey', alpha=0.3)\n",
    "plt.xlabel('Episode')\n",
    "plt.ylabel('Total rewards')"
   ]
  },
  {
   "cell_type": "code",
   "execution_count": 32,
   "metadata": {},
   "outputs": [
    {
     "data": {
      "text/plain": [
       "Text(0, 0.5, 'Total rewards')"
      ]
     },
     "execution_count": 32,
     "metadata": {},
     "output_type": "execute_result"
    },
    {
     "data": {
      "image/png": "[encoded data removed]",
      "text/plain": [
       "<Figure size 432x288 with 1 Axes>"
      ]
     },
     "metadata": {
      "needs_background": "light"
     },
     "output_type": "display_data"
    }
   ],
   "source": [
    "eps, arr = np.array(rewards_list).T\n",
    "smoothed_arr = running_mean(arr, 10)\n",
    "plt.plot(eps[-len(smoothed_arr):], smoothed_arr)\n",
    "plt.plot(eps, arr, color='grey', alpha=0.3)\n",
    "plt.xlabel('Episode')\n",
    "plt.ylabel('Total rewards')"
   ]
  },
  {
   "cell_type": "code",
   "execution_count": 20,
   "metadata": {},
   "outputs": [
    {
     "data": {
      "text/plain": [
       "Text(0, 0.5, 'Total rewards')"
      ]
     },
     "execution_count": 20,
     "metadata": {},
     "output_type": "execute_result"
    },
    {
     "data": {
      "image/png": "[encoded data removed]",
      "text/plain": [
       "<Figure size 432x288 with 1 Axes>"
      ]
     },
     "metadata": {
      "needs_background": "light"
     },
     "output_type": "display_data"
    }
   ],
   "source": [
    "eps, arr = np.array(episode_rewards_list).T\n",
    "smoothed_arr = running_mean(arr, 10)\n",
    "plt.plot(eps[-len(smoothed_arr):], smoothed_arr)\n",
    "plt.plot(eps, arr, color='grey', alpha=0.3)\n",
    "plt.xlabel('Episode')\n",
    "plt.ylabel('Total rewards')"
   ]
  },
  {
   "cell_type": "code",
   "execution_count": 21,
   "metadata": {},
   "outputs": [
    {
     "data": {
      "text/plain": [
       "Text(0, 0.5, 'Total rewards')"
      ]
     },
     "execution_count": 21,
     "metadata": {},
     "output_type": "execute_result"
    },
    {
     "data": {
      "image/png": "[encoded data removed]",
      "text/plain": [
       "<Figure size 432x288 with 1 Axes>"
      ]
     },
     "metadata": {
      "needs_background": "light"
     },
     "output_type": "display_data"
    }
   ],
   "source": [
    "eps, arr = np.array(rewards_list).T\n",
    "smoothed_arr = running_mean(arr, 10)\n",
    "plt.plot(eps[-len(smoothed_arr):], smoothed_arr)\n",
    "plt.plot(eps, arr, color='grey', alpha=0.3)\n",
    "plt.xlabel('Episode')\n",
    "plt.ylabel('Total rewards')"
   ]
  },
  {
   "cell_type": "markdown",
   "metadata": {},
   "source": [
    "## Testing\n",
    "\n",
    "Let's checkout how our trained agent plays the game."
   ]
  },
  {
   "cell_type": "code",
   "execution_count": 36,
   "metadata": {},
   "outputs": [
    {
     "name": "stdout",
     "output_type": "stream",
     "text": [
      "INFO:tensorflow:Restoring parameters from checkpoints/model-qn.ckpt\n",
      "total_reward: 10.0\n",
      "total_reward: 10.0\n",
      "total_reward: 9.0\n",
      "total_reward: 9.0\n",
      "total_reward: 9.0\n",
      "total_reward: 9.0\n",
      "total_reward: 9.0\n",
      "total_reward: 10.0\n",
      "total_reward: 9.0\n",
      "total_reward: 10.0\n"
     ]
    }
   ],
   "source": [
    "# Creating a gym env\n",
    "import gym\n",
    "env = gym.make('CartPole-v0')\n",
    "env = gym.make('CartPole-v1')\n",
    "\n",
    "# A training graph session\n",
    "with tf.Session(graph=graph) as sess:\n",
    "    #sess.run(tf.global_variables_initializer())\n",
    "    saver.restore(sess, 'checkpoints/model-qn.ckpt')    \n",
    "    #saver.restore(sess, tf.train.latest_checkpoint('checkpoints'))\n",
    "    \n",
    "    # Episodes/epochs\n",
    "    for _ in range(10):\n",
    "        state = env.reset()\n",
    "        total_reward = 0\n",
    "\n",
    "        # Steps/batches\n",
    "        while True:\n",
    "            env.render()\n",
    "            \n",
    "            action = act(sess, state)\n",
    "            \n",
    "            state, reward, done, _ = env.step(action)\n",
    "            \n",
    "            total_reward += reward\n",
    "            \n",
    "            if done:\n",
    "                break\n",
    "                \n",
    "        # Closing the env\n",
    "        print('total_reward: {}'.format(total_reward))\n",
    "\n",
    "# Close the env at the end\n",
    "env.close()"
   ]
  },
  {
   "cell_type": "markdown",
   "metadata": {},
   "source": [
    "## Extending this\n",
    "\n",
    "So, Cart-Pole is a pretty simple game. However, the same model can be used to train an agent to play something much more complicated like Pong or Space Invaders. Instead of a state like we're using here though, you'd want to use convolutional layers to get the state from the screen images.\n",
    "\n",
    "![Deep Q-Learning Atari](assets/atari-network.png)\n",
    "\n",
    "I'll leave it as a challenge for you to use deep Q-learning to train an agent to play Atari games. Here's the original paper which will get you started: http://www.davidqiu.com:8888/research/nature14236.pdf."
   ]
  },
  {
   "cell_type": "code",
   "execution_count": null,
   "metadata": {},
   "outputs": [],
   "source": []
  }
 ],
 "metadata": {
  "kernelspec": {
   "display_name": "Python 3",
   "language": "python",
   "name": "python3"
  },
  "language_info": {
   "codemirror_mode": {
    "name": "ipython",
    "version": 3
   },
   "file_extension": ".py",
   "mimetype": "text/x-python",
   "name": "python",
   "nbconvert_exporter": "python",
   "pygments_lexer": "ipython3",
   "version": "3.6.8"
  }
 },
 "nbformat": 4,
 "nbformat_minor": 2
}
