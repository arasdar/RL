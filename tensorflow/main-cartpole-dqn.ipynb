{
 "cells": [
  {
   "cell_type": "markdown",
   "metadata": {},
   "source": [
    "# Deep Q-learning or Q-network (DQN)\n",
    "\n",
    "In this notebook, we'll build a neural network that can learn to play games through reinforcement learning. More specifically, we'll use Q-learning to train an agent to play a game called [Cart-Pole](https://gym.openai.com/envs/CartPole-v0). In this game, a freely swinging pole is attached to a cart. The cart can move to the left and right, and the goal is to keep the pole upright as long as possible.\n",
    "\n",
    "![Cart-Pole](assets/cart-pole.jpg)\n",
    "\n",
    "We can simulate this game using [OpenAI Gym](https://gym.openai.com/). First, let's check out how OpenAI Gym works. Then, we'll get into training an agent to play the Cart-Pole game."
   ]
  },
  {
   "cell_type": "code",
   "execution_count": 1,
   "metadata": {},
   "outputs": [],
   "source": [
    "import numpy as np"
   ]
  },
  {
   "cell_type": "code",
   "execution_count": 2,
   "metadata": {},
   "outputs": [
    {
     "name": "stdout",
     "output_type": "stream",
     "text": [
      "TensorFlow Version: 1.12.0\n",
      "Default GPU Device: /device:GPU:0\n"
     ]
    }
   ],
   "source": [
    "import tensorflow as tf\n",
    "print('TensorFlow Version: {}'.format(tf.__version__))\n",
    "print('Default GPU Device: {}'.format(tf.test.gpu_device_name()))"
   ]
  },
  {
   "cell_type": "markdown",
   "metadata": {},
   "source": [
    ">**Note:** Make sure you have OpenAI Gym cloned into the same directory with this notebook. I've included `gym` as a submodule, so you can run `git submodule --init --recursive` to pull the contents into the `gym` repo."
   ]
  },
  {
   "cell_type": "markdown",
   "metadata": {},
   "source": [
    ">**Note:** Make sure you have OpenAI Gym cloned. Then run this command `pip install -e gym/[all]`."
   ]
  },
  {
   "cell_type": "code",
   "execution_count": 3,
   "metadata": {},
   "outputs": [],
   "source": [
    "import gym\n",
    "\n",
    "## Create the Cart-Pole game environment\n",
    "# env = gym.make('CartPole-v0') # 200 total reward as goal\n",
    "env = gym.make('CartPole-v1') # 500 total reward as goal"
   ]
  },
  {
   "cell_type": "markdown",
   "metadata": {},
   "source": [
    "We interact with the simulation through `env`. To show the simulation running, you can use `env.render()` to render one frame. Passing in an action as an integer to `env.step` will generate the next step in the simulation.  You can see how many actions are possible from `env.action_space` and to get a random action you can use `env.action_space.sample()`. This is general to all Gym games. In the Cart-Pole game, there are two possible actions, moving the cart left or right. So there are two actions we can take, encoded as 0 and 1.\n",
    "\n",
    "Run the code below to watch the simulation run."
   ]
  },
  {
   "cell_type": "code",
   "execution_count": 4,
   "metadata": {},
   "outputs": [],
   "source": [
    "# env.reset()\n",
    "# batch = []\n",
    "# for _ in range(1000):\n",
    "#     # env.render()\n",
    "#     action = env.action_space.sample()\n",
    "#     state, reward, done, info = env.step(action) # take a random action\n",
    "#     batch.append([action, state, reward, done, info])\n",
    "#     #print('state, action, reward, done, info:', state, action, reward, done, info)\n",
    "#     if done:\n",
    "#         env.reset()"
   ]
  },
  {
   "cell_type": "markdown",
   "metadata": {},
   "source": [
    "To shut the window showing the simulation, use `env.close()`."
   ]
  },
  {
   "cell_type": "markdown",
   "metadata": {},
   "source": [
    "If you ran the simulation above, we can look at the rewards:"
   ]
  },
  {
   "cell_type": "code",
   "execution_count": 5,
   "metadata": {},
   "outputs": [],
   "source": [
    "# batch[0], batch[0][1].shape"
   ]
  },
  {
   "cell_type": "code",
   "execution_count": 6,
   "metadata": {},
   "outputs": [],
   "source": [
    "# actions = np.array([each[0] for each in batch])\n",
    "# states = np.array([each[1] for each in batch])\n",
    "# rewards = np.array([each[2] for each in batch])\n",
    "# dones = np.array([each[3] for each in batch])\n",
    "# infos = np.array([each[4] for each in batch])"
   ]
  },
  {
   "cell_type": "code",
   "execution_count": 7,
   "metadata": {},
   "outputs": [],
   "source": [
    "# print(rewards[-20:])\n",
    "# print(np.array(rewards).shape, np.array(states).shape, np.array(actions).shape, np.array(dones).shape)\n",
    "# print(np.array(rewards).dtype, np.array(states).dtype, np.array(actions).dtype, np.array(dones).dtype)\n",
    "# print(np.max(np.array(actions)), np.min(np.array(actions)))\n",
    "# print((np.max(np.array(actions)) - np.min(np.array(actions)))+1)\n",
    "# print(np.max(np.array(rewards)), np.min(np.array(rewards)))\n",
    "# print(np.max(np.array(states)), np.min(np.array(states)))"
   ]
  },
  {
   "cell_type": "markdown",
   "metadata": {},
   "source": [
    "The game resets after the pole has fallen past a certain angle. For each frame while the simulation is running, it returns a reward of 1.0. The longer the game runs, the more reward we get. Then, our network's goal is to maximize the reward by keeping the pole vertical. It will do this by moving the cart to the left and the right."
   ]
  },
  {
   "cell_type": "markdown",
   "metadata": {},
   "source": [
    "## Q-Network\n",
    "\n",
    "We train our Q-learning agent using the Bellman Equation:\n",
    "\n",
    "$$\n",
    "Q(s, a) = r + \\gamma \\max{Q(s', a')}\n",
    "$$\n",
    "\n",
    "where $s$ is a state, $a$ is an action, and $s'$ is the next state from state $s$ and action $a$.\n",
    "\n",
    "Before we used this equation to learn values for a Q-_table_. However, for this game there are a huge number of states available. The state has four values: the position and velocity of the cart, and the position and velocity of the pole. These are all real-valued numbers, so ignoring floating point precisions, you practically have infinite states. Instead of using a table then, we'll replace it with a neural network that will approximate the Q-table lookup function.\n",
    "\n",
    "<img src=\"assets/deep-q-learning.png\" width=450px>\n",
    "\n",
    "Now, our Q value, $Q(s, a)$ is calculated by passing in a state to the network. The output will be Q-values for each available action, with fully connected hidden layers.\n",
    "\n",
    "<img src=\"assets/q-network.png\" width=550px>\n",
    "\n",
    "\n",
    "As I showed before, we can define our targets for training as $\\hat{Q}(s,a) = r + \\gamma \\max{Q(s', a')}$. Then we update the weights by minimizing $(\\hat{Q}(s,a) - Q(s,a))^2$. \n",
    "\n",
    "For this Cart-Pole game, we have four inputs, one for each value in the state, and two outputs, one for each action. To get $\\hat{Q}$, we'll first choose an action, then simulate the game using that action. This will get us the next state, $s'$, and the reward. With that, we can calculate $\\hat{Q}$ then pass it back into the $Q$ network to run the optimizer and update the weights.\n",
    "\n",
    "Below is my implementation of the Q-network. I used two fully connected layers with ReLU activations. Two seems to be good enough, three might be better. Feel free to try it out."
   ]
  },
  {
   "cell_type": "code",
   "execution_count": 8,
   "metadata": {},
   "outputs": [],
   "source": [
    "def model_input(state_size):\n",
    "    actions = tf.placeholder(tf.int32, [None], name='actions')\n",
    "    states = tf.placeholder(tf.float32, [None, state_size], name='states')\n",
    "    targetQs = tf.placeholder(tf.float32, [None], name='targetQs')\n",
    "    is_training = tf.placeholder(tf.bool, name='is_training')\n",
    "    return actions, states, targetQs, is_training"
   ]
  },
  {
   "cell_type": "code",
   "execution_count": 9,
   "metadata": {},
   "outputs": [],
   "source": [
    "def init_xavier(random_seed=1, dtype=tf.float32, uniform=False):\n",
    "    xavier = tf.contrib.layers.xavier_initializer(\n",
    "        dtype=dtype,\n",
    "        seed=tf.set_random_seed(random_seed), \n",
    "        uniform=uniform) # False: normal\n",
    "    return xavier"
   ]
  },
  {
   "cell_type": "code",
   "execution_count": 10,
   "metadata": {},
   "outputs": [],
   "source": [
    "def mlp(inputs, units, trainable=True):\n",
    "    outputs = tf.layers.dense(\n",
    "        inputs=inputs,\n",
    "        units=units,\n",
    "        activation=None,\n",
    "        use_bias=True,\n",
    "        kernel_initializer=init_xavier(), # Xavier with normal init\n",
    "        bias_initializer=tf.zeros_initializer(),\n",
    "        kernel_regularizer=None,\n",
    "        bias_regularizer=None,\n",
    "        activity_regularizer=None,\n",
    "        kernel_constraint=None,\n",
    "        bias_constraint=None,\n",
    "        trainable=trainable,\n",
    "        name=None,\n",
    "        reuse=None)\n",
    "    return outputs"
   ]
  },
  {
   "cell_type": "code",
   "execution_count": 11,
   "metadata": {},
   "outputs": [],
   "source": [
    "# tf.nn.leaky_relu(\n",
    "#     features,\n",
    "#     alpha=0.2,\n",
    "#     name=None\n",
    "# )\n",
    "def nl(inputs, alpha=0.2):\n",
    "    outputs = tf.maximum(alpha * inputs, inputs)\n",
    "    return outputs"
   ]
  },
  {
   "cell_type": "code",
   "execution_count": 12,
   "metadata": {},
   "outputs": [],
   "source": [
    "def bn(inputs, training=True):\n",
    "    outputs = tf.layers.batch_normalization(\n",
    "        inputs=inputs,\n",
    "        axis=-1,\n",
    "        momentum=0.99,\n",
    "        epsilon=0.001,\n",
    "        center=True,\n",
    "        scale=True,\n",
    "        beta_initializer=tf.zeros_initializer(),\n",
    "        gamma_initializer=tf.ones_initializer(),\n",
    "        moving_mean_initializer=tf.zeros_initializer(),\n",
    "        moving_variance_initializer=tf.ones_initializer(),\n",
    "        beta_regularizer=None,\n",
    "        gamma_regularizer=None,\n",
    "        beta_constraint=None,\n",
    "        gamma_constraint=None,\n",
    "        training=training,\n",
    "        trainable=True,\n",
    "        name=None,\n",
    "        reuse=None,\n",
    "        renorm=False,\n",
    "        renorm_clipping=None,\n",
    "        renorm_momentum=0.99,\n",
    "        fused=None,\n",
    "        virtual_batch_size=None,\n",
    "        adjustment=None)\n",
    "    return outputs"
   ]
  },
  {
   "cell_type": "code",
   "execution_count": 13,
   "metadata": {},
   "outputs": [],
   "source": [
    "# Actor-Critic/ D/Q\n",
    "def D(states, action_size, hidden_size, reuse=False, alpha=0.2, is_training=False):\n",
    "    with tf.variable_scope('D', reuse=reuse):\n",
    "        # First fully connected layer\n",
    "        h = mlp(inputs=states, units=hidden_size)\n",
    "        h = bn(inputs=h, training=is_training)\n",
    "        h = nl(h)\n",
    "        print(states.shape, h.shape)\n",
    "        \n",
    "        # Second fully connected layer\n",
    "        h = mlp(inputs=h, units=hidden_size)\n",
    "        h = bn(inputs=h, training=is_training)\n",
    "        h = nl(h)\n",
    "        print(h.shape)\n",
    "        \n",
    "        # Output layer\n",
    "        actions = mlp(inputs=h, units=action_size)\n",
    "        return actions"
   ]
  },
  {
   "cell_type": "code",
   "execution_count": 14,
   "metadata": {},
   "outputs": [],
   "source": [
    "def model_loss(actions, states, targetQs, action_size, hidden_size, is_training):\n",
    "    \n",
    "    actions_logits = D(states=states, hidden_size=hidden_size, action_size=action_size, \n",
    "                       is_training=is_training)\n",
    "    \n",
    "    actions_labels = tf.one_hot(indices=actions, depth=action_size, dtype=actions_logits.dtype)\n",
    "    \n",
    "    Qs = tf.reduce_max(actions_logits*actions_labels, axis=1)\n",
    "    \n",
    "    loss = tf.reduce_mean((Qs - targetQs)**2)\n",
    "    \n",
    "    return actions_logits, loss"
   ]
  },
  {
   "cell_type": "code",
   "execution_count": 15,
   "metadata": {},
   "outputs": [],
   "source": [
    "def model_opt(loss, learning_rate):\n",
    "    # Get weights and bias to update\n",
    "    t_vars = tf.trainable_variables()\n",
    "    d_vars = [var for var in t_vars if var.name.startswith('D')]\n",
    "\n",
    "    # Optimize\n",
    "    with tf.control_dependencies(tf.get_collection(tf.GraphKeys.UPDATE_OPS)): # Required for batchnorm (BN)\n",
    "        opt = tf.train.AdamOptimizer(learning_rate).minimize(loss, var_list=d_vars)\n",
    "\n",
    "    return opt"
   ]
  },
  {
   "cell_type": "code",
   "execution_count": 16,
   "metadata": {},
   "outputs": [],
   "source": [
    "class Model:\n",
    "    def __init__(self, state_size, action_size, hidden_size, learning_rate):\n",
    "\n",
    "        # Data of the Model: make the data available inside the framework\n",
    "        self.actions, self.states, self.targetQs, self.is_training = model_input(state_size=state_size)\n",
    "\n",
    "        # Create the Model: calculating the loss and forwad pass\n",
    "        self.actions_logits, self.loss = model_loss(\n",
    "            action_size=action_size, hidden_size=hidden_size,\n",
    "            states=self.states, actions=self.actions, targetQs=self.targetQs, \n",
    "            is_training=self.is_training)\n",
    "\n",
    "        # Update the model: backward pass and backprop\n",
    "        self.opt = model_opt(loss=self.loss, learning_rate=learning_rate)"
   ]
  },
  {
   "cell_type": "markdown",
   "metadata": {},
   "source": [
    "## Experience replay\n",
    "\n",
    "Reinforcement learning algorithms can have stability issues due to correlations between states. To reduce correlations when training, we can store the agent's experiences and later draw a random mini-batch of those experiences to train on. \n",
    "\n",
    "Here, we'll create a `Memory` object that will store our experiences, our transitions $<s, a, r, s'>$. This memory will have a maxmium capacity, so we can keep newer experiences in memory while getting rid of older experiences. Then, we'll sample a random mini-batch of transitions $<s, a, r, s'>$ and train on those.\n",
    "\n",
    "Below, I've implemented a `Memory` object. If you're unfamiliar with `deque`, this is a double-ended queue. You can think of it like a tube open on both sides. You can put objects in either side of the tube. But if it's full, adding anything more will push an object out the other side. This is a great data structure to use for the memory buffer."
   ]
  },
  {
   "cell_type": "code",
   "execution_count": 17,
   "metadata": {},
   "outputs": [],
   "source": [
    "from collections import deque\n",
    "class Memory():\n",
    "    def __init__(self, max_size = 1000):\n",
    "        self.buffer = deque(maxlen=max_size)\n",
    "    def sample(self, batch_size):\n",
    "        idx = np.random.choice(np.arange(len(self.buffer)), \n",
    "                               size=batch_size, \n",
    "                               replace=False)\n",
    "        return [self.buffer[ii] for ii in idx]"
   ]
  },
  {
   "cell_type": "markdown",
   "metadata": {},
   "source": [
    "## Exploration - Exploitation\n",
    "\n",
    "To learn about the environment and rules of the game, the agent needs to explore by taking random actions. We'll do this by choosing a random action with some probability $\\epsilon$ (epsilon).  That is, with some probability $\\epsilon$ the agent will make a random action and with probability $1 - \\epsilon$, the agent will choose an action from $Q(s,a)$. This is called an **$\\epsilon$-greedy policy**.\n",
    "\n",
    "\n",
    "At first, the agent needs to do a lot of exploring. Later when it has learned more, the agent can favor choosing actions based on what it has learned. This is called _exploitation_. We'll set it up so the agent is more likely to explore early in training, then more likely to exploit later in training."
   ]
  },
  {
   "cell_type": "markdown",
   "metadata": {},
   "source": [
    "## Q-Learning training algorithm\n",
    "\n",
    "Putting all this together, we can list out the algorithm we'll use to train the network. We'll train the network in _episodes_. One *episode* is one simulation of the game. For this game, the goal is to keep the pole upright for 195 frames. So we can start a new episode once meeting that goal. The game ends if the pole tilts over too far, or if the cart moves too far the left or right. When a game ends, we'll start a new episode. Now, to train the agent:\n",
    "\n",
    "* Initialize the memory $D$\n",
    "* Initialize the action-value network $Q$ with random weights\n",
    "* **For** episode = 1, $M$ **do**\n",
    "  * **For** $t$, $T$ **do**\n",
    "     * With probability $\\epsilon$ select a random action $a_t$, otherwise select $a_t = \\mathrm{argmax}_a Q(s,a)$\n",
    "     * Execute action $a_t$ in simulator and observe reward $r_{t+1}$ and new state $s_{t+1}$\n",
    "     * Store transition $<s_t, a_t, r_{t+1}, s_{t+1}>$ in memory $D$\n",
    "     * Sample random mini-batch from $D$: $<s_j, a_j, r_j, s'_j>$\n",
    "     * Set $\\hat{Q}_j = r_j$ if the episode ends at $j+1$, otherwise set $\\hat{Q}_j = r_j + \\gamma \\max_{a'}{Q(s'_j, a')}$\n",
    "     * Make a gradient descent step with loss $(\\hat{Q}_j - Q(s_j, a_j))^2$\n",
    "  * **endfor**\n",
    "* **endfor**"
   ]
  },
  {
   "cell_type": "markdown",
   "metadata": {},
   "source": [
    "## Hyperparameters\n",
    "\n",
    "One of the more difficult aspects of reinforcememt learning are the large number of hyperparameters. Not only are we tuning the network, but we're tuning the simulation."
   ]
  },
  {
   "cell_type": "code",
   "execution_count": 18,
   "metadata": {},
   "outputs": [],
   "source": [
    "# print('state size:{}'.format(states.shape), \n",
    "#       'actions:{}'.format(actions.shape)) \n",
    "# print('action size:', np.max(actions) - np.min(actions)+1)"
   ]
  },
  {
   "cell_type": "code",
   "execution_count": 19,
   "metadata": {},
   "outputs": [],
   "source": [
    "# Exploration parameters\n",
    "explore_start = 1.0            # exploration probability at start\n",
    "explore_stop = 0.01            # minimum exploration probability \n",
    "decay_rate = 0.0001            # exponential decay rate for exploration prob\n",
    "\n",
    "# Network parameters\n",
    "action_size = 2\n",
    "state_size = 4\n",
    "hidden_size = 64               # number of units in each Q-network hidden layer\n",
    "learning_rate = 0.0001         # Q-network learning rate\n",
    "\n",
    "# Memory parameters\n",
    "memory_size = 10000            # memory capacity\n",
    "batch_size = 20                # experience mini-batch size\n",
    "gamma = 0.99                   # future reward discount"
   ]
  },
  {
   "cell_type": "code",
   "execution_count": 20,
   "metadata": {},
   "outputs": [
    {
     "name": "stdout",
     "output_type": "stream",
     "text": [
      "(?, 4) (?, 64)\n",
      "(?, 64)\n"
     ]
    }
   ],
   "source": [
    "# Reset/init the graph/session\n",
    "graph = tf.reset_default_graph()\n",
    "\n",
    "# Init the model\n",
    "model = Model(action_size=action_size, hidden_size=hidden_size, state_size=state_size, learning_rate=learning_rate)\n",
    "\n",
    "# Init the memory\n",
    "memory = Memory(max_size=memory_size)"
   ]
  },
  {
   "cell_type": "markdown",
   "metadata": {},
   "source": [
    "## Populate the memory (exprience memory)\n",
    "\n",
    "Here I'm re-initializing the simulation and pre-populating the memory. The agent is taking random actions and storing the transitions in memory. This will help the agent with exploring the game."
   ]
  },
  {
   "cell_type": "code",
   "execution_count": 21,
   "metadata": {},
   "outputs": [],
   "source": [
    "state = env.reset()\n",
    "\n",
    "for _ in range(memory_size):\n",
    "    \n",
    "    action = env.action_space.sample()\n",
    "    \n",
    "    next_state, reward, done, _ = env.step(action)\n",
    "    \n",
    "    memory.buffer.append([state, action, next_state, reward, float(done)])\n",
    "    \n",
    "    state = next_state\n",
    "    \n",
    "    if done is True:\n",
    "        state = env.reset()"
   ]
  },
  {
   "cell_type": "markdown",
   "metadata": {},
   "source": [
    "## Training the model\n",
    "\n",
    "Below we'll train our agent. If you want to watch it train, uncomment the `env.render()` line. This is slow because it's rendering the frames slower than the network can train. But, it's cool to watch the agent get better at the game."
   ]
  },
  {
   "cell_type": "code",
   "execution_count": 22,
   "metadata": {},
   "outputs": [],
   "source": [
    "def learn(sess, memory, batch_size):\n",
    "    batch = memory.sample(batch_size)\n",
    "    states = np.array([each[0] for each in batch])\n",
    "    actions = np.array([each[1] for each in batch])\n",
    "    next_states = np.array([each[2] for each in batch])\n",
    "    rewards = np.array([each[3] for each in batch])\n",
    "    dones = np.array([each[4] for each in batch])\n",
    "    \n",
    "    next_actions_logits = sess.run(model.actions_logits, feed_dict = {model.states: next_states, \n",
    "                                                                      model.is_training: False})\n",
    "    \n",
    "    nextQs = np.max(next_actions_logits, axis=1) * (1-dones)\n",
    "    \n",
    "    targetQs = rewards + (gamma * nextQs)\n",
    "    \n",
    "    loss, _ = sess.run([model.loss, model.opt], feed_dict = {model.states: states, \n",
    "                                                             model.actions: actions,\n",
    "                                                             model.targetQs: targetQs, \n",
    "                                                             model.is_training: True})\n",
    "    return loss"
   ]
  },
  {
   "cell_type": "code",
   "execution_count": 23,
   "metadata": {},
   "outputs": [],
   "source": [
    "def act(sess, state):\n",
    "    \n",
    "    action_logits = sess.run(model.actions_logits, feed_dict={model.states: state.reshape([1, -1]), \n",
    "                                                              model.is_training: False})\n",
    "    \n",
    "    action = np.argmax(action_logits, axis=1)[0]\n",
    "    #print(action)\n",
    "    \n",
    "    return action"
   ]
  },
  {
   "cell_type": "code",
   "execution_count": null,
   "metadata": {},
   "outputs": [
    {
     "name": "stdout",
     "output_type": "stream",
     "text": [
      "Episode:0 meanR:13.0000 R:13.0 loss:0.7316 exploreP:0.9987\n",
      "Episode:1 meanR:19.5000 R:26.0 loss:0.7303 exploreP:0.9961\n",
      "Episode:2 meanR:25.6667 R:38.0 loss:0.6658 exploreP:0.9924\n",
      "Episode:3 meanR:26.7500 R:30.0 loss:0.6524 exploreP:0.9895\n",
      "Episode:4 meanR:24.6000 R:16.0 loss:0.6661 exploreP:0.9879\n",
      "Episode:5 meanR:26.5000 R:36.0 loss:0.6619 exploreP:0.9844\n",
      "Episode:6 meanR:24.8571 R:15.0 loss:0.6307 exploreP:0.9829\n",
      "Episode:7 meanR:25.1250 R:27.0 loss:0.7232 exploreP:0.9803\n",
      "Episode:8 meanR:24.4444 R:19.0 loss:0.6777 exploreP:0.9785\n",
      "Episode:9 meanR:23.5000 R:15.0 loss:0.7151 exploreP:0.9770\n",
      "Episode:10 meanR:23.1818 R:20.0 loss:0.8311 exploreP:0.9751\n",
      "Episode:11 meanR:23.0000 R:21.0 loss:0.7825 exploreP:0.9730\n",
      "Episode:12 meanR:22.9231 R:22.0 loss:0.9048 exploreP:0.9709\n",
      "Episode:13 meanR:22.3571 R:15.0 loss:0.8987 exploreP:0.9695\n",
      "Episode:14 meanR:24.1333 R:49.0 loss:1.0497 exploreP:0.9648\n",
      "Episode:15 meanR:23.5625 R:15.0 loss:1.5216 exploreP:0.9634\n",
      "Episode:16 meanR:23.1176 R:16.0 loss:1.6131 exploreP:0.9618\n",
      "Episode:17 meanR:22.7222 R:16.0 loss:2.3924 exploreP:0.9603\n",
      "Episode:18 meanR:23.5263 R:38.0 loss:2.4661 exploreP:0.9567\n",
      "Episode:19 meanR:22.9500 R:12.0 loss:2.3405 exploreP:0.9556\n",
      "Episode:20 meanR:23.1429 R:27.0 loss:3.8542 exploreP:0.9530\n",
      "Episode:21 meanR:23.8182 R:38.0 loss:4.5692 exploreP:0.9495\n",
      "Episode:22 meanR:23.5652 R:18.0 loss:4.1224 exploreP:0.9478\n",
      "Episode:23 meanR:23.0417 R:11.0 loss:5.0202 exploreP:0.9467\n",
      "Episode:24 meanR:22.8000 R:17.0 loss:5.0468 exploreP:0.9451\n",
      "Episode:25 meanR:22.4615 R:14.0 loss:4.8172 exploreP:0.9438\n",
      "Episode:26 meanR:22.0370 R:11.0 loss:5.4710 exploreP:0.9428\n",
      "Episode:27 meanR:22.7857 R:43.0 loss:5.0513 exploreP:0.9388\n",
      "Episode:28 meanR:23.5517 R:45.0 loss:6.8353 exploreP:0.9346\n",
      "Episode:29 meanR:23.2667 R:15.0 loss:7.4515 exploreP:0.9333\n",
      "Episode:30 meanR:23.0323 R:16.0 loss:6.4679 exploreP:0.9318\n",
      "Episode:31 meanR:23.3125 R:32.0 loss:8.0913 exploreP:0.9288\n",
      "Episode:32 meanR:23.6364 R:34.0 loss:7.7517 exploreP:0.9257\n",
      "Episode:33 meanR:23.9706 R:35.0 loss:9.6669 exploreP:0.9225\n",
      "Episode:34 meanR:23.9143 R:22.0 loss:9.8802 exploreP:0.9205\n",
      "Episode:35 meanR:24.1111 R:31.0 loss:10.0040 exploreP:0.9177\n",
      "Episode:36 meanR:23.7838 R:12.0 loss:10.1840 exploreP:0.9166\n",
      "Episode:37 meanR:23.4737 R:12.0 loss:11.3453 exploreP:0.9155\n",
      "Episode:38 meanR:23.2051 R:13.0 loss:11.6282 exploreP:0.9143\n",
      "Episode:39 meanR:23.0500 R:17.0 loss:9.7533 exploreP:0.9128\n",
      "Episode:40 meanR:22.7317 R:10.0 loss:6.7584 exploreP:0.9119\n",
      "Episode:41 meanR:22.8333 R:27.0 loss:10.1312 exploreP:0.9095\n",
      "Episode:42 meanR:22.5116 R:9.0 loss:9.6028 exploreP:0.9087\n",
      "Episode:43 meanR:22.2727 R:12.0 loss:8.6315 exploreP:0.9076\n",
      "Episode:44 meanR:22.4889 R:32.0 loss:12.4193 exploreP:0.9047\n",
      "Episode:45 meanR:22.3696 R:17.0 loss:13.7138 exploreP:0.9032\n",
      "Episode:46 meanR:22.3830 R:23.0 loss:11.1499 exploreP:0.9011\n",
      "Episode:47 meanR:22.1667 R:12.0 loss:11.8264 exploreP:0.9001\n",
      "Episode:48 meanR:22.2041 R:24.0 loss:12.7225 exploreP:0.8979\n",
      "Episode:49 meanR:22.1400 R:19.0 loss:11.1125 exploreP:0.8963\n",
      "Episode:50 meanR:22.2941 R:30.0 loss:12.5960 exploreP:0.8936\n",
      "Episode:51 meanR:22.2500 R:20.0 loss:15.9525 exploreP:0.8918\n",
      "Episode:52 meanR:22.5094 R:36.0 loss:11.3645 exploreP:0.8887\n",
      "Episode:53 meanR:22.2593 R:9.0 loss:22.2065 exploreP:0.8879\n",
      "Episode:54 meanR:22.3636 R:28.0 loss:16.4467 exploreP:0.8854\n",
      "Episode:55 meanR:22.5357 R:32.0 loss:15.5183 exploreP:0.8826\n",
      "Episode:56 meanR:22.4035 R:15.0 loss:16.1487 exploreP:0.8813\n",
      "Episode:57 meanR:22.7931 R:45.0 loss:15.4934 exploreP:0.8774\n",
      "Episode:58 meanR:22.8305 R:25.0 loss:14.3293 exploreP:0.8752\n",
      "Episode:59 meanR:22.6667 R:13.0 loss:14.5366 exploreP:0.8741\n",
      "Episode:60 meanR:22.5574 R:16.0 loss:12.9760 exploreP:0.8727\n",
      "Episode:61 meanR:22.5806 R:24.0 loss:14.3839 exploreP:0.8707\n",
      "Episode:62 meanR:22.4127 R:12.0 loss:13.7679 exploreP:0.8696\n",
      "Episode:63 meanR:22.2344 R:11.0 loss:14.2334 exploreP:0.8687\n",
      "Episode:64 meanR:22.2923 R:26.0 loss:9.9802 exploreP:0.8665\n",
      "Episode:65 meanR:22.3788 R:28.0 loss:9.8778 exploreP:0.8641\n",
      "Episode:66 meanR:22.2687 R:15.0 loss:6.7229 exploreP:0.8628\n",
      "Episode:67 meanR:22.1029 R:11.0 loss:7.6276 exploreP:0.8618\n",
      "Episode:68 meanR:22.0290 R:17.0 loss:7.1703 exploreP:0.8604\n",
      "Episode:69 meanR:22.3714 R:46.0 loss:7.3504 exploreP:0.8565\n",
      "Episode:70 meanR:22.2958 R:17.0 loss:11.3546 exploreP:0.8551\n",
      "Episode:71 meanR:22.4861 R:36.0 loss:18.0380 exploreP:0.8520\n",
      "Episode:72 meanR:22.4247 R:18.0 loss:23.8505 exploreP:0.8505\n",
      "Episode:73 meanR:22.4730 R:26.0 loss:28.4992 exploreP:0.8483\n",
      "Episode:74 meanR:22.4267 R:19.0 loss:28.6848 exploreP:0.8467\n",
      "Episode:75 meanR:22.3947 R:20.0 loss:28.2318 exploreP:0.8451\n",
      "Episode:76 meanR:22.3117 R:16.0 loss:25.5235 exploreP:0.8437\n",
      "Episode:77 meanR:22.2308 R:16.0 loss:23.1051 exploreP:0.8424\n",
      "Episode:78 meanR:22.1519 R:16.0 loss:28.8992 exploreP:0.8411\n",
      "Episode:79 meanR:22.0750 R:16.0 loss:23.4833 exploreP:0.8397\n",
      "Episode:80 meanR:22.1358 R:27.0 loss:21.0897 exploreP:0.8375\n",
      "Episode:81 meanR:22.0244 R:13.0 loss:20.2307 exploreP:0.8364\n",
      "Episode:82 meanR:21.9036 R:12.0 loss:16.0596 exploreP:0.8354\n",
      "Episode:83 meanR:22.0000 R:30.0 loss:14.0329 exploreP:0.8330\n",
      "Episode:84 meanR:22.4588 R:61.0 loss:13.4691 exploreP:0.8280\n",
      "Episode:85 meanR:22.4186 R:19.0 loss:15.5662 exploreP:0.8264\n",
      "Episode:86 meanR:22.2989 R:12.0 loss:10.3720 exploreP:0.8254\n",
      "Episode:87 meanR:22.2955 R:22.0 loss:10.5643 exploreP:0.8236\n",
      "Episode:88 meanR:22.1910 R:13.0 loss:11.0078 exploreP:0.8226\n",
      "Episode:89 meanR:22.0889 R:13.0 loss:10.8499 exploreP:0.8215\n",
      "Episode:90 meanR:22.0110 R:15.0 loss:9.4535 exploreP:0.8203\n",
      "Episode:91 meanR:22.4130 R:59.0 loss:8.2276 exploreP:0.8155\n",
      "Episode:92 meanR:22.3011 R:12.0 loss:10.1711 exploreP:0.8146\n",
      "Episode:93 meanR:22.2766 R:20.0 loss:8.6120 exploreP:0.8130\n",
      "Episode:94 meanR:22.1684 R:12.0 loss:9.2026 exploreP:0.8120\n",
      "Episode:95 meanR:22.0833 R:14.0 loss:9.7249 exploreP:0.8109\n",
      "Episode:96 meanR:22.1031 R:24.0 loss:8.9364 exploreP:0.8090\n",
      "Episode:97 meanR:22.1020 R:22.0 loss:11.4208 exploreP:0.8072\n",
      "Episode:98 meanR:21.9697 R:9.0 loss:10.1313 exploreP:0.8065\n",
      "Episode:99 meanR:21.9400 R:19.0 loss:9.4506 exploreP:0.8050\n",
      "Episode:100 meanR:21.9400 R:13.0 loss:10.2665 exploreP:0.8039\n",
      "Episode:101 meanR:22.0300 R:35.0 loss:10.3262 exploreP:0.8012\n",
      "Episode:102 meanR:21.7600 R:11.0 loss:15.2442 exploreP:0.8003\n",
      "Episode:103 meanR:21.5900 R:13.0 loss:9.2135 exploreP:0.7993\n",
      "Episode:104 meanR:21.5800 R:15.0 loss:10.6607 exploreP:0.7981\n",
      "Episode:105 meanR:21.3200 R:10.0 loss:12.4496 exploreP:0.7973\n",
      "Episode:106 meanR:21.3900 R:22.0 loss:12.3662 exploreP:0.7956\n",
      "Episode:107 meanR:21.2800 R:16.0 loss:11.9604 exploreP:0.7943\n",
      "Episode:108 meanR:21.2000 R:11.0 loss:15.2991 exploreP:0.7934\n",
      "Episode:109 meanR:21.2600 R:21.0 loss:11.7932 exploreP:0.7918\n",
      "Episode:110 meanR:21.2800 R:22.0 loss:10.7630 exploreP:0.7901\n",
      "Episode:111 meanR:21.2100 R:14.0 loss:12.0660 exploreP:0.7890\n",
      "Episode:112 meanR:21.2600 R:27.0 loss:9.2122 exploreP:0.7869\n",
      "Episode:113 meanR:21.2300 R:12.0 loss:11.4697 exploreP:0.7860\n",
      "Episode:114 meanR:20.9000 R:16.0 loss:10.0149 exploreP:0.7847\n",
      "Episode:115 meanR:21.0500 R:30.0 loss:9.2967 exploreP:0.7824\n",
      "Episode:116 meanR:21.5200 R:63.0 loss:8.8973 exploreP:0.7776\n",
      "Episode:117 meanR:21.9700 R:61.0 loss:7.5769 exploreP:0.7729\n",
      "Episode:118 meanR:22.1300 R:54.0 loss:15.3282 exploreP:0.7688\n",
      "Episode:119 meanR:22.2500 R:24.0 loss:28.6014 exploreP:0.7670\n",
      "Episode:120 meanR:22.4100 R:43.0 loss:28.0665 exploreP:0.7637\n",
      "Episode:121 meanR:22.2200 R:19.0 loss:33.6526 exploreP:0.7623\n",
      "Episode:122 meanR:22.1700 R:13.0 loss:30.4890 exploreP:0.7613\n",
      "Episode:123 meanR:22.4100 R:35.0 loss:21.6394 exploreP:0.7587\n",
      "Episode:124 meanR:22.4800 R:24.0 loss:16.7757 exploreP:0.7569\n",
      "Episode:125 meanR:22.5600 R:22.0 loss:13.8259 exploreP:0.7552\n",
      "Episode:126 meanR:22.7500 R:30.0 loss:13.4051 exploreP:0.7530\n",
      "Episode:127 meanR:22.5400 R:22.0 loss:11.6546 exploreP:0.7514\n",
      "Episode:128 meanR:22.2600 R:17.0 loss:11.8494 exploreP:0.7501\n",
      "Episode:129 meanR:22.7900 R:68.0 loss:9.5069 exploreP:0.7451\n",
      "Episode:130 meanR:23.5400 R:91.0 loss:14.9679 exploreP:0.7384\n",
      "Episode:131 meanR:23.8400 R:62.0 loss:43.3258 exploreP:0.7339\n",
      "Episode:132 meanR:23.8200 R:32.0 loss:43.7003 exploreP:0.7316\n",
      "Episode:133 meanR:23.8500 R:38.0 loss:39.8131 exploreP:0.7289\n",
      "Episode:134 meanR:23.8300 R:20.0 loss:33.2075 exploreP:0.7275\n"
     ]
    },
    {
     "name": "stdout",
     "output_type": "stream",
     "text": [
      "Episode:135 meanR:23.8600 R:34.0 loss:26.9404 exploreP:0.7250\n",
      "Episode:136 meanR:23.9500 R:21.0 loss:20.3799 exploreP:0.7235\n",
      "Episode:137 meanR:24.1500 R:32.0 loss:17.7006 exploreP:0.7212\n",
      "Episode:138 meanR:24.5700 R:55.0 loss:14.7786 exploreP:0.7173\n",
      "Episode:139 meanR:25.0300 R:63.0 loss:10.1156 exploreP:0.7129\n",
      "Episode:140 meanR:25.1900 R:26.0 loss:7.6407 exploreP:0.7111\n",
      "Episode:141 meanR:25.1700 R:25.0 loss:9.1568 exploreP:0.7093\n",
      "Episode:142 meanR:25.5400 R:46.0 loss:7.4909 exploreP:0.7061\n",
      "Episode:143 meanR:25.8000 R:38.0 loss:7.5028 exploreP:0.7035\n",
      "Episode:144 meanR:25.6000 R:12.0 loss:6.1893 exploreP:0.7026\n",
      "Episode:145 meanR:25.6300 R:20.0 loss:6.9465 exploreP:0.7013\n",
      "Episode:146 meanR:26.1300 R:73.0 loss:8.7872 exploreP:0.6962\n",
      "Episode:147 meanR:26.2200 R:21.0 loss:24.1319 exploreP:0.6948\n",
      "Episode:148 meanR:26.1900 R:21.0 loss:22.0682 exploreP:0.6933\n",
      "Episode:149 meanR:26.7500 R:75.0 loss:21.4058 exploreP:0.6882\n",
      "Episode:150 meanR:26.8100 R:36.0 loss:17.6730 exploreP:0.6858\n",
      "Episode:151 meanR:26.7300 R:12.0 loss:13.5307 exploreP:0.6850\n",
      "Episode:152 meanR:26.6700 R:30.0 loss:11.9813 exploreP:0.6830\n",
      "Episode:153 meanR:27.1500 R:57.0 loss:11.4751 exploreP:0.6791\n",
      "Episode:154 meanR:27.1500 R:28.0 loss:9.4431 exploreP:0.6773\n",
      "Episode:155 meanR:26.9700 R:14.0 loss:10.0546 exploreP:0.6763\n",
      "Episode:156 meanR:27.0600 R:24.0 loss:10.2516 exploreP:0.6747\n",
      "Episode:157 meanR:26.7400 R:13.0 loss:12.6512 exploreP:0.6739\n",
      "Episode:158 meanR:26.6700 R:18.0 loss:21.6234 exploreP:0.6727\n",
      "Episode:159 meanR:27.6500 R:111.0 loss:42.0156 exploreP:0.6654\n",
      "Episode:160 meanR:27.6700 R:18.0 loss:37.6702 exploreP:0.6642\n",
      "Episode:161 meanR:27.7100 R:28.0 loss:31.9316 exploreP:0.6624\n",
      "Episode:162 meanR:28.0300 R:44.0 loss:22.1717 exploreP:0.6595\n",
      "Episode:163 meanR:28.3400 R:42.0 loss:17.0785 exploreP:0.6568\n",
      "Episode:164 meanR:28.2600 R:18.0 loss:16.4146 exploreP:0.6556\n",
      "Episode:165 meanR:28.5000 R:52.0 loss:12.9554 exploreP:0.6523\n",
      "Episode:166 meanR:28.7200 R:37.0 loss:9.6663 exploreP:0.6499\n",
      "Episode:167 meanR:29.0100 R:40.0 loss:11.1707 exploreP:0.6473\n",
      "Episode:168 meanR:29.3500 R:51.0 loss:10.1215 exploreP:0.6441\n",
      "Episode:169 meanR:29.1700 R:28.0 loss:9.9194 exploreP:0.6423\n",
      "Episode:170 meanR:29.4800 R:48.0 loss:13.4918 exploreP:0.6393\n",
      "Episode:171 meanR:29.4400 R:32.0 loss:25.5772 exploreP:0.6373\n",
      "Episode:172 meanR:29.4600 R:20.0 loss:29.1079 exploreP:0.6360\n",
      "Episode:173 meanR:29.6000 R:40.0 loss:26.8510 exploreP:0.6335\n",
      "Episode:174 meanR:29.9500 R:54.0 loss:24.2754 exploreP:0.6302\n",
      "Episode:175 meanR:29.9800 R:23.0 loss:28.4027 exploreP:0.6288\n",
      "Episode:176 meanR:30.6600 R:84.0 loss:12.2501 exploreP:0.6236\n",
      "Episode:177 meanR:30.7900 R:29.0 loss:9.3339 exploreP:0.6218\n",
      "Episode:178 meanR:31.2400 R:61.0 loss:13.7390 exploreP:0.6181\n",
      "Episode:179 meanR:31.6900 R:61.0 loss:34.9686 exploreP:0.6144\n",
      "Episode:180 meanR:31.5500 R:13.0 loss:56.5919 exploreP:0.6136\n",
      "Episode:181 meanR:31.6900 R:27.0 loss:38.9388 exploreP:0.6120\n",
      "Episode:182 meanR:31.9700 R:40.0 loss:37.1285 exploreP:0.6096\n",
      "Episode:183 meanR:31.9000 R:23.0 loss:42.1930 exploreP:0.6082\n",
      "Episode:184 meanR:31.4300 R:14.0 loss:33.6705 exploreP:0.6074\n",
      "Episode:185 meanR:31.6100 R:37.0 loss:28.7243 exploreP:0.6051\n",
      "Episode:186 meanR:32.0900 R:60.0 loss:21.6673 exploreP:0.6016\n",
      "Episode:187 meanR:32.4100 R:54.0 loss:16.0226 exploreP:0.5984\n",
      "Episode:188 meanR:32.5300 R:25.0 loss:13.2848 exploreP:0.5969\n",
      "Episode:189 meanR:32.5200 R:12.0 loss:11.4519 exploreP:0.5962\n",
      "Episode:190 meanR:32.6200 R:25.0 loss:13.4011 exploreP:0.5948\n",
      "Episode:191 meanR:32.2500 R:22.0 loss:14.0148 exploreP:0.5935\n",
      "Episode:192 meanR:32.7400 R:61.0 loss:23.7109 exploreP:0.5899\n",
      "Episode:193 meanR:33.1900 R:65.0 loss:40.2368 exploreP:0.5862\n",
      "Episode:194 meanR:33.8600 R:79.0 loss:28.9499 exploreP:0.5816\n",
      "Episode:195 meanR:34.2500 R:53.0 loss:15.8546 exploreP:0.5786\n",
      "Episode:196 meanR:34.6900 R:68.0 loss:13.7684 exploreP:0.5748\n",
      "Episode:197 meanR:35.1900 R:72.0 loss:18.6903 exploreP:0.5707\n",
      "Episode:198 meanR:35.6500 R:55.0 loss:34.5684 exploreP:0.5676\n",
      "Episode:199 meanR:36.3600 R:90.0 loss:29.7238 exploreP:0.5626\n",
      "Episode:200 meanR:36.3500 R:12.0 loss:30.3649 exploreP:0.5620\n",
      "Episode:201 meanR:36.2800 R:28.0 loss:26.2907 exploreP:0.5604\n",
      "Episode:202 meanR:36.8000 R:63.0 loss:21.7420 exploreP:0.5570\n",
      "Episode:203 meanR:37.2400 R:57.0 loss:17.8601 exploreP:0.5539\n",
      "Episode:204 meanR:37.7500 R:66.0 loss:16.2825 exploreP:0.5503\n",
      "Episode:205 meanR:38.0700 R:42.0 loss:23.0068 exploreP:0.5480\n",
      "Episode:206 meanR:38.2000 R:35.0 loss:37.3576 exploreP:0.5461\n",
      "Episode:207 meanR:38.6000 R:56.0 loss:54.0737 exploreP:0.5432\n",
      "Episode:208 meanR:38.7200 R:23.0 loss:50.7840 exploreP:0.5419\n",
      "Episode:209 meanR:38.6800 R:17.0 loss:46.0165 exploreP:0.5410\n",
      "Episode:210 meanR:38.6800 R:22.0 loss:40.0074 exploreP:0.5399\n",
      "Episode:211 meanR:38.6800 R:14.0 loss:49.2231 exploreP:0.5391\n",
      "Episode:212 meanR:38.9900 R:58.0 loss:22.4191 exploreP:0.5361\n",
      "Episode:213 meanR:39.2600 R:39.0 loss:16.4697 exploreP:0.5340\n",
      "Episode:214 meanR:39.9100 R:81.0 loss:16.4089 exploreP:0.5298\n",
      "Episode:215 meanR:40.5000 R:89.0 loss:36.5829 exploreP:0.5252\n",
      "Episode:216 meanR:40.1800 R:31.0 loss:34.1693 exploreP:0.5236\n",
      "Episode:217 meanR:39.8800 R:31.0 loss:38.2997 exploreP:0.5220\n",
      "Episode:218 meanR:39.7800 R:44.0 loss:25.0949 exploreP:0.5197\n",
      "Episode:219 meanR:40.0200 R:48.0 loss:19.6429 exploreP:0.5173\n",
      "Episode:220 meanR:39.8800 R:29.0 loss:20.7429 exploreP:0.5158\n",
      "Episode:221 meanR:40.4000 R:71.0 loss:15.5591 exploreP:0.5123\n",
      "Episode:222 meanR:41.2400 R:97.0 loss:33.6979 exploreP:0.5074\n",
      "Episode:223 meanR:41.3400 R:45.0 loss:55.5925 exploreP:0.5052\n",
      "Episode:224 meanR:41.3800 R:28.0 loss:52.5413 exploreP:0.5038\n",
      "Episode:225 meanR:41.4300 R:27.0 loss:45.0522 exploreP:0.5025\n",
      "Episode:226 meanR:41.7800 R:65.0 loss:34.9378 exploreP:0.4993\n",
      "Episode:227 meanR:42.2000 R:64.0 loss:21.2181 exploreP:0.4961\n",
      "Episode:228 meanR:42.4900 R:46.0 loss:14.4538 exploreP:0.4939\n",
      "Episode:229 meanR:42.5000 R:69.0 loss:27.6003 exploreP:0.4906\n",
      "Episode:230 meanR:42.4000 R:81.0 loss:40.9299 exploreP:0.4867\n",
      "Episode:231 meanR:42.4000 R:62.0 loss:28.0852 exploreP:0.4838\n",
      "Episode:232 meanR:42.9000 R:82.0 loss:23.1552 exploreP:0.4799\n",
      "Episode:233 meanR:42.8000 R:28.0 loss:17.0458 exploreP:0.4786\n",
      "Episode:234 meanR:43.3300 R:73.0 loss:22.3536 exploreP:0.4752\n",
      "Episode:235 meanR:43.4500 R:46.0 loss:41.6983 exploreP:0.4730\n",
      "Episode:236 meanR:44.0400 R:80.0 loss:55.2205 exploreP:0.4693\n",
      "Episode:237 meanR:43.8600 R:14.0 loss:48.4445 exploreP:0.4687\n",
      "Episode:238 meanR:43.5100 R:20.0 loss:52.9140 exploreP:0.4678\n",
      "Episode:239 meanR:43.0100 R:13.0 loss:33.0672 exploreP:0.4672\n",
      "Episode:240 meanR:43.0000 R:25.0 loss:25.5061 exploreP:0.4661\n",
      "Episode:241 meanR:43.2400 R:49.0 loss:19.2495 exploreP:0.4638\n",
      "Episode:242 meanR:43.8800 R:110.0 loss:23.4527 exploreP:0.4589\n",
      "Episode:243 meanR:44.0400 R:54.0 loss:29.3629 exploreP:0.4564\n",
      "Episode:244 meanR:44.6200 R:70.0 loss:31.1185 exploreP:0.4533\n",
      "Episode:245 meanR:44.8600 R:44.0 loss:24.7907 exploreP:0.4514\n",
      "Episode:246 meanR:45.1600 R:103.0 loss:24.8786 exploreP:0.4469\n",
      "Episode:247 meanR:45.8700 R:92.0 loss:36.9903 exploreP:0.4429\n",
      "Episode:248 meanR:46.1000 R:44.0 loss:29.5260 exploreP:0.4410\n",
      "Episode:249 meanR:46.2600 R:91.0 loss:28.6834 exploreP:0.4371\n",
      "Episode:250 meanR:46.2000 R:30.0 loss:19.5014 exploreP:0.4358\n",
      "Episode:251 meanR:47.7700 R:169.0 loss:28.2494 exploreP:0.4286\n",
      "Episode:252 meanR:48.9200 R:145.0 loss:27.1168 exploreP:0.4226\n",
      "Episode:253 meanR:49.5000 R:115.0 loss:43.7191 exploreP:0.4179\n",
      "Episode:254 meanR:49.7000 R:48.0 loss:41.4416 exploreP:0.4159\n",
      "Episode:255 meanR:51.8000 R:224.0 loss:29.3768 exploreP:0.4069\n",
      "Episode:256 meanR:52.9700 R:141.0 loss:29.6865 exploreP:0.4014\n",
      "Episode:257 meanR:53.2300 R:39.0 loss:29.5645 exploreP:0.3999\n",
      "Episode:258 meanR:54.1700 R:112.0 loss:28.1935 exploreP:0.3955\n",
      "Episode:259 meanR:54.6100 R:155.0 loss:30.9564 exploreP:0.3896\n",
      "Episode:260 meanR:54.6800 R:25.0 loss:32.3304 exploreP:0.3886\n",
      "Episode:261 meanR:54.9900 R:59.0 loss:31.6932 exploreP:0.3864\n",
      "Episode:262 meanR:55.5900 R:104.0 loss:33.5207 exploreP:0.3825\n",
      "Episode:263 meanR:55.6100 R:44.0 loss:27.6736 exploreP:0.3809\n",
      "Episode:264 meanR:56.3100 R:88.0 loss:29.9257 exploreP:0.3776\n",
      "Episode:265 meanR:56.5500 R:76.0 loss:31.7132 exploreP:0.3749\n",
      "Episode:266 meanR:57.1900 R:101.0 loss:33.4050 exploreP:0.3712\n",
      "Episode:267 meanR:57.7100 R:92.0 loss:31.1834 exploreP:0.3679\n"
     ]
    },
    {
     "name": "stdout",
     "output_type": "stream",
     "text": [
      "Episode:268 meanR:59.4800 R:228.0 loss:33.2643 exploreP:0.3598\n",
      "Episode:269 meanR:60.8500 R:165.0 loss:38.7922 exploreP:0.3541\n",
      "Episode:270 meanR:61.9200 R:155.0 loss:40.7942 exploreP:0.3488\n",
      "Episode:271 meanR:63.1100 R:151.0 loss:43.6326 exploreP:0.3437\n",
      "Episode:272 meanR:64.8400 R:193.0 loss:45.2881 exploreP:0.3373\n",
      "Episode:273 meanR:65.9400 R:150.0 loss:40.1706 exploreP:0.3325\n",
      "Episode:274 meanR:67.3100 R:191.0 loss:46.0008 exploreP:0.3264\n",
      "Episode:275 meanR:68.3800 R:130.0 loss:47.7376 exploreP:0.3223\n",
      "Episode:276 meanR:70.5400 R:300.0 loss:49.1453 exploreP:0.3131\n",
      "Episode:277 meanR:72.8300 R:258.0 loss:55.5783 exploreP:0.3053\n",
      "Episode:278 meanR:73.4700 R:125.0 loss:59.4734 exploreP:0.3017\n",
      "Episode:279 meanR:73.9400 R:108.0 loss:59.6565 exploreP:0.2985\n",
      "Episode:280 meanR:76.6400 R:283.0 loss:56.1810 exploreP:0.2905\n",
      "Episode:281 meanR:78.4700 R:210.0 loss:55.4755 exploreP:0.2847\n",
      "Episode:282 meanR:80.6400 R:257.0 loss:59.1473 exploreP:0.2777\n",
      "Episode:283 meanR:82.2800 R:187.0 loss:62.9589 exploreP:0.2727\n",
      "Episode:284 meanR:87.0100 R:487.0 loss:64.0570 exploreP:0.2602\n",
      "Episode:285 meanR:88.4400 R:180.0 loss:66.5006 exploreP:0.2558\n",
      "Episode:286 meanR:91.1900 R:335.0 loss:71.2655 exploreP:0.2477\n",
      "Episode:287 meanR:93.9200 R:327.0 loss:65.2898 exploreP:0.2400\n",
      "Episode:288 meanR:95.3100 R:164.0 loss:76.9925 exploreP:0.2363\n",
      "Episode:289 meanR:97.3700 R:218.0 loss:65.4587 exploreP:0.2314\n",
      "Episode:290 meanR:97.5200 R:40.0 loss:70.7037 exploreP:0.2305\n",
      "Episode:291 meanR:99.8300 R:253.0 loss:67.7124 exploreP:0.2250\n",
      "Episode:292 meanR:101.7500 R:253.0 loss:68.5667 exploreP:0.2196\n",
      "Episode:293 meanR:103.4800 R:238.0 loss:72.3806 exploreP:0.2147\n",
      "Episode:294 meanR:106.8500 R:416.0 loss:75.2312 exploreP:0.2064\n",
      "Episode:295 meanR:108.0900 R:177.0 loss:78.5650 exploreP:0.2029\n",
      "Episode:296 meanR:109.6200 R:221.0 loss:87.6110 exploreP:0.1987\n",
      "Episode:297 meanR:110.9400 R:204.0 loss:80.3222 exploreP:0.1949\n",
      "Episode:298 meanR:112.6800 R:229.0 loss:89.1954 exploreP:0.1907\n",
      "Episode:299 meanR:114.4000 R:262.0 loss:84.6552 exploreP:0.1860\n",
      "Episode:300 meanR:116.5500 R:227.0 loss:89.4635 exploreP:0.1821\n",
      "Episode:301 meanR:118.3100 R:204.0 loss:104.7383 exploreP:0.1786\n",
      "Episode:302 meanR:119.9000 R:222.0 loss:106.6154 exploreP:0.1749\n",
      "Episode:303 meanR:121.4100 R:208.0 loss:120.4214 exploreP:0.1715\n",
      "Episode:304 meanR:123.5600 R:281.0 loss:110.7031 exploreP:0.1670\n"
     ]
    }
   ],
   "source": [
    "# Save/load the model and save for plotting\n",
    "saver = tf.train.Saver()\n",
    "episode_rewards_list, rewards_list, loss_list = [], [], []\n",
    "\n",
    "# TF session for training\n",
    "with tf.Session(graph=graph) as sess:\n",
    "    sess.run(tf.global_variables_initializer())\n",
    "    #saver.restore(sess, 'checkpoints/model.ckpt')    \n",
    "    #saver.restore(sess, tf.train.latest_checkpoint('checkpoints'))\n",
    "    total_step = 0 # Explore or exploit parameter\n",
    "    episode_reward = deque(maxlen=100) # 100 episodes average/running average/running mean/window\n",
    "    \n",
    "    # Training episodes/epochs\n",
    "    for ep in range(11111):\n",
    "        total_reward = 0\n",
    "        loss_batch = []\n",
    "        state = env.reset()\n",
    "\n",
    "        # Training steps/batches\n",
    "        while True:\n",
    "            # Explore (Env) or Exploit (Model)\n",
    "            total_step += 1\n",
    "            explore_p = explore_stop + (explore_start - explore_stop) * np.exp(-decay_rate * total_step) \n",
    "            if explore_p > np.random.rand():\n",
    "                action = env.action_space.sample()\n",
    "            else:\n",
    "                action = act(sess, state)\n",
    "            next_state, reward, done, _ = env.step(action)\n",
    "            \n",
    "            memory.buffer.append([state, action, next_state, reward, float(done)])\n",
    "            \n",
    "            total_reward += reward\n",
    "            state = next_state\n",
    "\n",
    "            # Training\n",
    "            loss = learn(sess, memory, batch_size)\n",
    "            loss_batch.append(loss)\n",
    "            \n",
    "            if done is True:\n",
    "                break\n",
    "                \n",
    "        episode_reward.append(total_reward)\n",
    "        print('Episode:{}'.format(ep),\n",
    "              'meanR:{:.4f}'.format(np.mean(episode_reward)),\n",
    "              'R:{}'.format(total_reward),\n",
    "              'loss:{:.4f}'.format(np.mean(loss_batch)),\n",
    "              'exploreP:{:.4f}'.format(explore_p))\n",
    "        # Ploting out\n",
    "        episode_rewards_list.append([ep, np.mean(episode_reward)])\n",
    "        rewards_list.append([ep, total_reward])\n",
    "        loss_list.append([ep, np.mean(loss_batch)])\n",
    "        # Break episode/epoch loop\n",
    "        if np.mean(episode_reward) >= 500:\n",
    "            break\n",
    "            \n",
    "    # At the end of all training episodes/epochs\n",
    "    saver.save(sess, 'checkpoints/model-qn.ckpt')"
   ]
  },
  {
   "cell_type": "markdown",
   "metadata": {},
   "source": [
    "# Visualizing training\n",
    "\n",
    "Below I'll plot the total rewards for each episode. I'm plotting the rolling average too, in blue."
   ]
  },
  {
   "cell_type": "code",
   "execution_count": null,
   "metadata": {},
   "outputs": [],
   "source": [
    "%matplotlib inline\n",
    "import matplotlib.pyplot as plt\n",
    "\n",
    "def running_mean(x, N):\n",
    "    cumsum = np.cumsum(np.insert(x, 0, 0)) \n",
    "    return (cumsum[N:] - cumsum[:-N]) / N "
   ]
  },
  {
   "cell_type": "code",
   "execution_count": null,
   "metadata": {},
   "outputs": [],
   "source": [
    "eps, arr = np.array(episode_rewards_list).T\n",
    "smoothed_arr = running_mean(arr, 10)\n",
    "plt.plot(eps[-len(smoothed_arr):], smoothed_arr)\n",
    "plt.plot(eps, arr, color='grey', alpha=0.3)\n",
    "plt.xlabel('Episode')\n",
    "plt.ylabel('Total rewards')"
   ]
  },
  {
   "cell_type": "code",
   "execution_count": null,
   "metadata": {},
   "outputs": [],
   "source": [
    "eps, arr = np.array(rewards_list).T\n",
    "smoothed_arr = running_mean(arr, 10)\n",
    "plt.plot(eps[-len(smoothed_arr):], smoothed_arr)\n",
    "plt.plot(eps, arr, color='grey', alpha=0.3)\n",
    "plt.xlabel('Episode')\n",
    "plt.ylabel('Total rewards')"
   ]
  },
  {
   "cell_type": "code",
   "execution_count": 20,
   "metadata": {},
   "outputs": [
    {
     "data": {
      "text/plain": [
       "Text(0, 0.5, 'Total rewards')"
      ]
     },
     "execution_count": 20,
     "metadata": {},
     "output_type": "execute_result"
    },
    {
     "data": {
      "image/png": "[encoded data removed]",
      "text/plain": [
       "<Figure size 432x288 with 1 Axes>"
      ]
     },
     "metadata": {
      "needs_background": "light"
     },
     "output_type": "display_data"
    }
   ],
   "source": [
    "eps, arr = np.array(episode_rewards_list).T\n",
    "smoothed_arr = running_mean(arr, 10)\n",
    "plt.plot(eps[-len(smoothed_arr):], smoothed_arr)\n",
    "plt.plot(eps, arr, color='grey', alpha=0.3)\n",
    "plt.xlabel('Episode')\n",
    "plt.ylabel('Total rewards')"
   ]
  },
  {
   "cell_type": "code",
   "execution_count": 21,
   "metadata": {},
   "outputs": [
    {
     "data": {
      "text/plain": [
       "Text(0, 0.5, 'Total rewards')"
      ]
     },
     "execution_count": 21,
     "metadata": {},
     "output_type": "execute_result"
    },
    {
     "data": {
      "image/png": "[encoded data removed]",
      "text/plain": [
       "<Figure size 432x288 with 1 Axes>"
      ]
     },
     "metadata": {
      "needs_background": "light"
     },
     "output_type": "display_data"
    }
   ],
   "source": [
    "eps, arr = np.array(rewards_list).T\n",
    "smoothed_arr = running_mean(arr, 10)\n",
    "plt.plot(eps[-len(smoothed_arr):], smoothed_arr)\n",
    "plt.plot(eps, arr, color='grey', alpha=0.3)\n",
    "plt.xlabel('Episode')\n",
    "plt.ylabel('Total rewards')"
   ]
  },
  {
   "cell_type": "markdown",
   "metadata": {},
   "source": [
    "## Testing\n",
    "\n",
    "Let's checkout how our trained agent plays the game."
   ]
  },
  {
   "cell_type": "code",
   "execution_count": 23,
   "metadata": {},
   "outputs": [
    {
     "name": "stdout",
     "output_type": "stream",
     "text": [
      "INFO:tensorflow:Restoring parameters from checkpoints/model-qn.ckpt\n"
     ]
    },
    {
     "name": "stderr",
     "output_type": "stream",
     "text": [
      "/home/arasdar/anaconda3/lib/python3.6/site-packages/gym/envs/registration.py:14: PkgResourcesDeprecationWarning: Parameters to load are deprecated.  Call .resolve and .require separately.\n",
      "  result = entry_point.load(False)\n"
     ]
    },
    {
     "name": "stdout",
     "output_type": "stream",
     "text": [
      "total_reward: 500.0\n",
      "total_reward: 500.0\n",
      "total_reward: 500.0\n",
      "total_reward: 500.0\n",
      "total_reward: 500.0\n",
      "total_reward: 500.0\n",
      "total_reward: 500.0\n",
      "total_reward: 500.0\n",
      "total_reward: 500.0\n",
      "total_reward: 500.0\n"
     ]
    }
   ],
   "source": [
    "# Creating a gym env\n",
    "import gym\n",
    "env = gym.make('CartPole-v0')\n",
    "env = gym.make('CartPole-v1')\n",
    "\n",
    "# A training graph session\n",
    "with tf.Session(graph=graph) as sess:\n",
    "    #sess.run(tf.global_variables_initializer())\n",
    "    #saver.restore(sess, 'checkpoints/model-qn.ckpt')    \n",
    "    saver.restore(sess, tf.train.latest_checkpoint('checkpoints'))\n",
    "    \n",
    "    # Episodes/epochs\n",
    "    for _ in range(10):\n",
    "        state = env.reset()\n",
    "        total_reward = 0\n",
    "\n",
    "        # Steps/batches\n",
    "        while True:\n",
    "            env.render()\n",
    "            action_logits = sess.run(model.actions_logits, feed_dict={model.states: np.reshape(state, [1, -1])})\n",
    "            action = np.argmax(action_logits)\n",
    "            state, reward, done, _ = env.step(action)\n",
    "            total_reward += reward\n",
    "            if done:\n",
    "                break\n",
    "                \n",
    "        # Closing the env\n",
    "        print('total_reward: {}'.format(total_reward))\n",
    "# Close the env at the end\n",
    "env.close()"
   ]
  },
  {
   "cell_type": "markdown",
   "metadata": {},
   "source": [
    "## Extending this\n",
    "\n",
    "So, Cart-Pole is a pretty simple game. However, the same model can be used to train an agent to play something much more complicated like Pong or Space Invaders. Instead of a state like we're using here though, you'd want to use convolutional layers to get the state from the screen images.\n",
    "\n",
    "![Deep Q-Learning Atari](assets/atari-network.png)\n",
    "\n",
    "I'll leave it as a challenge for you to use deep Q-learning to train an agent to play Atari games. Here's the original paper which will get you started: http://www.davidqiu.com:8888/research/nature14236.pdf."
   ]
  },
  {
   "cell_type": "code",
   "execution_count": null,
   "metadata": {},
   "outputs": [],
   "source": []
  }
 ],
 "metadata": {
  "kernelspec": {
   "display_name": "Python 3",
   "language": "python",
   "name": "python3"
  },
  "language_info": {
   "codemirror_mode": {
    "name": "ipython",
    "version": 3
   },
   "file_extension": ".py",
   "mimetype": "text/x-python",
   "name": "python",
   "nbconvert_exporter": "python",
   "pygments_lexer": "ipython3",
   "version": "3.6.8"
  }
 },
 "nbformat": 4,
 "nbformat_minor": 2
}
