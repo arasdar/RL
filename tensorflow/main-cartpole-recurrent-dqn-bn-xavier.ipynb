{
 "cells": [
  {
   "cell_type": "markdown",
   "metadata": {},
   "source": [
    "# Recurrent DQN\n",
    "\n",
    "In this notebook, we'll build a neural network that can learn to play games through reinforcement learning. More specifically, we'll use Q-learning to train an agent to play a game called [Cart-Pole](https://gym.openai.com/envs/CartPole-v0). In this game, a freely swinging pole is attached to a cart. The cart can move to the left and right, and the goal is to keep the pole upright as long as possible.\n",
    "\n",
    "![Cart-Pole](assets/cart-pole.jpg)\n",
    "\n",
    "We can simulate this game using [OpenAI Gym](https://gym.openai.com/). First, let's check out how OpenAI Gym works. Then, we'll get into training an agent to play the Cart-Pole game."
   ]
  },
  {
   "cell_type": "code",
   "execution_count": 1,
   "metadata": {},
   "outputs": [
    {
     "name": "stdout",
     "output_type": "stream",
     "text": [
      "TensorFlow Version: 1.7.1\n",
      "Default GPU Device: \n"
     ]
    }
   ],
   "source": [
    "import tensorflow as tf\n",
    "print('TensorFlow Version: {}'.format(tf.__version__))\n",
    "print('Default GPU Device: {}'.format(tf.test.gpu_device_name()))"
   ]
  },
  {
   "cell_type": "markdown",
   "metadata": {},
   "source": [
    ">**Note:** Make sure you have OpenAI Gym cloned into the same directory with this notebook. I've included `gym` as a submodule, so you can run `git submodule --init --recursive` to pull the contents into the `gym` repo."
   ]
  },
  {
   "cell_type": "markdown",
   "metadata": {},
   "source": [
    ">**Note:** Make sure you have OpenAI Gym cloned. Then run this command `pip install -e gym/[all]`."
   ]
  },
  {
   "cell_type": "code",
   "execution_count": 2,
   "metadata": {},
   "outputs": [
    {
     "name": "stderr",
     "output_type": "stream",
     "text": [
      "/home/arasdar/anaconda3/lib/python3.6/site-packages/gym/envs/registration.py:14: PkgResourcesDeprecationWarning: Parameters to load are deprecated.  Call .resolve and .require separately.\n",
      "  result = entry_point.load(False)\n"
     ]
    }
   ],
   "source": [
    "import gym\n",
    "\n",
    "# Create the Cart-Pole game environment\n",
    "# env = gym.make('CartPole-v0')\n",
    "env = gym.make('CartPole-v1')"
   ]
  },
  {
   "cell_type": "markdown",
   "metadata": {},
   "source": [
    "We interact with the simulation through `env`. To show the simulation running, you can use `env.render()` to render one frame. Passing in an action as an integer to `env.step` will generate the next step in the simulation.  You can see how many actions are possible from `env.action_space` and to get a random action you can use `env.action_space.sample()`. This is general to all Gym games. In the Cart-Pole game, there are two possible actions, moving the cart left or right. So there are two actions we can take, encoded as 0 and 1.\n",
    "\n",
    "Run the code below to watch the simulation run."
   ]
  },
  {
   "cell_type": "code",
   "execution_count": 3,
   "metadata": {},
   "outputs": [],
   "source": [
    "# import numpy as np\n",
    "# state = env.reset()\n",
    "# for _ in range(10):\n",
    "#     # env.render()\n",
    "#     action = env.action_space.sample()\n",
    "#     next_state, reward, done, info = env.step(action) # take a random action\n",
    "#     #print('state, action, next_state, reward, done, info:', state, action, next_state, reward, done, info)\n",
    "#     state = next_state\n",
    "#     if done:\n",
    "#         state = env.reset()"
   ]
  },
  {
   "cell_type": "markdown",
   "metadata": {},
   "source": [
    "To shut the window showing the simulation, use `env.close()`."
   ]
  },
  {
   "cell_type": "markdown",
   "metadata": {},
   "source": [
    "If you ran the simulation above, we can look at the rewards:"
   ]
  },
  {
   "cell_type": "code",
   "execution_count": 4,
   "metadata": {},
   "outputs": [],
   "source": [
    "# print(rewards[-20:])\n",
    "# print(np.array(rewards).shape, np.array(states).shape, np.array(actions).shape, np.array(dones).shape)\n",
    "# print(np.array(rewards).dtype, np.array(states).dtype, np.array(actions).dtype, np.array(dones).dtype)\n",
    "# print(np.max(np.array(actions)), np.min(np.array(actions)))\n",
    "# print((np.max(np.array(actions)) - np.min(np.array(actions)))+1)\n",
    "# print(np.max(np.array(rewards)), np.min(np.array(rewards)))\n",
    "# print(np.max(np.array(states)), np.min(np.array(states)))"
   ]
  },
  {
   "cell_type": "markdown",
   "metadata": {},
   "source": [
    "The game resets after the pole has fallen past a certain angle. For each frame while the simulation is running, it returns a reward of 1.0. The longer the game runs, the more reward we get. Then, our network's goal is to maximize the reward by keeping the pole vertical. It will do this by moving the cart to the left and the right."
   ]
  },
  {
   "cell_type": "markdown",
   "metadata": {},
   "source": [
    "## Q-Network\n",
    "\n",
    "We train our Q-learning agent using the Bellman Equation:\n",
    "\n",
    "$$\n",
    "Q(s, a) = r + \\gamma \\max{Q(s', a')}\n",
    "$$\n",
    "\n",
    "where $s$ is a state, $a$ is an action, and $s'$ is the next state from state $s$ and action $a$.\n",
    "\n",
    "Before we used this equation to learn values for a Q-_table_. However, for this game there are a huge number of states available. The state has four values: the position and velocity of the cart, and the position and velocity of the pole. These are all real-valued numbers, so ignoring floating point precisions, you practically have infinite states. Instead of using a table then, we'll replace it with a neural network that will approximate the Q-table lookup function.\n",
    "\n",
    "<img src=\"assets/deep-q-learning.png\" width=450px>\n",
    "\n",
    "Now, our Q value, $Q(s, a)$ is calculated by passing in a state to the network. The output will be Q-values for each available action, with fully connected hidden layers.\n",
    "\n",
    "<img src=\"assets/q-network.png\" width=550px>\n",
    "\n",
    "\n",
    "As I showed before, we can define our targets for training as $\\hat{Q}(s,a) = r + \\gamma \\max{Q(s', a')}$. Then we update the weights by minimizing $(\\hat{Q}(s,a) - Q(s,a))^2$. \n",
    "\n",
    "For this Cart-Pole game, we have four inputs, one for each value in the state, and two outputs, one for each action. To get $\\hat{Q}$, we'll first choose an action, then simulate the game using that action. This will get us the next state, $s'$, and the reward. With that, we can calculate $\\hat{Q}$ then pass it back into the $Q$ network to run the optimizer and update the weights.\n",
    "\n",
    "Below is my implementation of the Q-network. I used two fully connected layers with ReLU activations. Two seems to be good enough, three might be better. Feel free to try it out."
   ]
  },
  {
   "cell_type": "code",
   "execution_count": 5,
   "metadata": {},
   "outputs": [],
   "source": [
    "def model_input(state_size, hidden_size, batch_size=1):\n",
    "    states = tf.placeholder(tf.float32, [None, state_size], name='states')\n",
    "    actions = tf.placeholder(tf.int32, [None], name='actions')\n",
    "    targetQs = tf.placeholder(tf.float32, [None], name='targetQs')\n",
    "    # RNN\n",
    "    cell = tf.nn.rnn_cell.GRUCell(hidden_size)\n",
    "    #cell = tf.nn.rnn_cell.LSTMCell(hidden_size)\n",
    "    cells = tf.nn.rnn_cell.MultiRNNCell([cell], state_is_tuple=True)\n",
    "    initial_state = cells.zero_state(batch_size, tf.float32)\n",
    "    is_training = tf.placeholder(dtype=tf.bool, shape=[], name='is_training')\n",
    "    return states, actions, targetQs, cells, initial_state, is_training"
   ]
  },
  {
   "cell_type": "code",
   "execution_count": 6,
   "metadata": {},
   "outputs": [],
   "source": [
    "# RNN generator or sequence generator\n",
    "def generator(states, action_size, initial_state, cells, hidden_size, reuse=False, is_training=True): \n",
    "    with tf.variable_scope('generator', reuse=reuse):\n",
    "        # First fully connected layer\n",
    "        #inputs = tf.layers.dense(inputs=states, units=hidden_size)\n",
    "        inputs = tf.contrib.layers.fully_connected(inputs=states, num_outputs=hidden_size, activation_fn=None)\n",
    "        inputs = tf.layers.batch_normalization(inputs=inputs, training=is_training)\n",
    "        #inputs = tf.maximum(0.1*inputs, inputs)\n",
    "        print(states.shape, inputs.shape)\n",
    "        \n",
    "        # with tf.variable_scope('dynamic_rnn_', reuse=tf.AUTO_REUSE):\n",
    "        # dynamic means adapt to the batch_size and\n",
    "        # static means can NOT adapt to the batch_size\n",
    "        inputs_rnn = tf.reshape(inputs, [1, -1, hidden_size]) # NxH -> 1xNxH\n",
    "        print(inputs_rnn.shape, initial_state)\n",
    "        outputs_rnn, final_state = tf.nn.dynamic_rnn(cell=cells, inputs=inputs_rnn, initial_state=initial_state)\n",
    "        #outputs_rnn = tf.layers.batch_normalization(inputs=outputs_rnn, training=is_training)\n",
    "        #final_state = tf.layers.batch_normalization(inputs=final_state, training=is_training)\n",
    "        print(outputs_rnn.shape, final_state)\n",
    "        outputs = tf.reshape(outputs_rnn, [-1, hidden_size]) # 1xNxH -> NxH\n",
    "        print(outputs.shape)\n",
    "\n",
    "        # Last fully connected layer\n",
    "        #logits = tf.layers.dense(inputs=outputs, units=action_size)\n",
    "        logits = tf.contrib.layers.fully_connected(inputs=outputs, num_outputs=action_size, activation_fn=None)\n",
    "        print(logits.shape)\n",
    "        #predictions = tf.nn.softmax(logits)\n",
    "        \n",
    "        # logits are the action logits\n",
    "        return logits, final_state"
   ]
  },
  {
   "cell_type": "code",
   "execution_count": 7,
   "metadata": {},
   "outputs": [],
   "source": [
    "def model_loss(action_size, hidden_size, states, cells, initial_state, actions, targetQs, is_training):\n",
    "    actions_logits, final_state = generator(states=states, cells=cells, initial_state=initial_state, \n",
    "                                            hidden_size=hidden_size, action_size=action_size, \n",
    "                                            is_training=is_training)\n",
    "    actions_labels = tf.one_hot(indices=actions, depth=action_size, dtype=actions_logits.dtype)\n",
    "    Qs = tf.reduce_max(actions_logits*actions_labels, axis=1)\n",
    "    loss = tf.reduce_mean(tf.square(Qs - targetQs))\n",
    "    return actions_logits, final_state, loss"
   ]
  },
  {
   "cell_type": "code",
   "execution_count": 8,
   "metadata": {},
   "outputs": [],
   "source": [
    "def model_opt(loss, learning_rate):\n",
    "    # Get weights and bias to update\n",
    "    t_vars = tf.trainable_variables()\n",
    "    g_vars = [var for var in t_vars if var.name.startswith('generator')]\n",
    "\n",
    "    # # Optimize MLP/CNN/RNN without clipping grads\n",
    "    with tf.control_dependencies(tf.get_collection(tf.GraphKeys.UPDATE_OPS)): # Required for batchnorm (BN)\n",
    "        opt = tf.train.AdamOptimizer(learning_rate).minimize(loss, var_list=g_vars)\n",
    "\n",
    "    # # Optimize RNN\n",
    "    #grads, _ = tf.clip_by_global_norm(t_list=tf.gradients(loss, g_vars), clip_norm=5) # usually around 1-5\n",
    "    #grads = tf.gradients(loss, g_vars)\n",
    "    #opt = tf.train.AdamOptimizer(learning_rate).apply_gradients(grads_and_vars=zip(grads, g_vars))\n",
    "    return opt"
   ]
  },
  {
   "cell_type": "code",
   "execution_count": 9,
   "metadata": {},
   "outputs": [],
   "source": [
    "class Model:\n",
    "    def __init__(self, state_size, action_size, hidden_size, learning_rate):\n",
    "\n",
    "        # Data of the Model: make the data available inside the framework\n",
    "        self.states, self.actions, self.targetQs, cells, self.initial_state, self.is_training = model_input(\n",
    "                state_size=state_size, hidden_size=hidden_size)\n",
    "        \n",
    "        # Create the Model: calculating the loss and forwad pass\n",
    "        self.actions_logits, self.final_state, self.loss = model_loss(\n",
    "            action_size=action_size, hidden_size=hidden_size, \n",
    "            states=self.states, actions=self.actions, \n",
    "            targetQs=self.targetQs, cells=cells, initial_state=self.initial_state, is_training=self.is_training)\n",
    "\n",
    "        # Update the model: backward pass and backprop\n",
    "        self.opt = model_opt(loss=self.loss, learning_rate=learning_rate)"
   ]
  },
  {
   "cell_type": "markdown",
   "metadata": {},
   "source": [
    "## Experience replay\n",
    "\n",
    "Reinforcement learning algorithms can have stability issues due to correlations between states. To reduce correlations when training, we can store the agent's experiences and later draw a random mini-batch of those experiences to train on. \n",
    "\n",
    "Here, we'll create a `Memory` object that will store our experiences, our transitions $<s, a, r, s'>$. This memory will have a maxmium capacity, so we can keep newer experiences in memory while getting rid of older experiences. Then, we'll sample a random mini-batch of transitions $<s, a, r, s'>$ and train on those.\n",
    "\n",
    "Below, I've implemented a `Memory` object. If you're unfamiliar with `deque`, this is a double-ended queue. You can think of it like a tube open on both sides. You can put objects in either side of the tube. But if it's full, adding anything more will push an object out the other side. This is a great data structure to use for the memory buffer."
   ]
  },
  {
   "cell_type": "code",
   "execution_count": 10,
   "metadata": {},
   "outputs": [],
   "source": [
    "from collections import deque\n",
    "\n",
    "class Memory():    \n",
    "    def __init__(self, max_size = 1000):\n",
    "        self.buffer = deque(maxlen=max_size)\n",
    "        self.states = deque(maxlen=max_size)"
   ]
  },
  {
   "cell_type": "markdown",
   "metadata": {},
   "source": [
    "## Exploration - Exploitation\n",
    "\n",
    "To learn about the environment and rules of the game, the agent needs to explore by taking random actions. We'll do this by choosing a random action with some probability $\\epsilon$ (epsilon).  That is, with some probability $\\epsilon$ the agent will make a random action and with probability $1 - \\epsilon$, the agent will choose an action from $Q(s,a)$. This is called an **$\\epsilon$-greedy policy**.\n",
    "\n",
    "\n",
    "At first, the agent needs to do a lot of exploring. Later when it has learned more, the agent can favor choosing actions based on what it has learned. This is called _exploitation_. We'll set it up so the agent is more likely to explore early in training, then more likely to exploit later in training."
   ]
  },
  {
   "cell_type": "markdown",
   "metadata": {},
   "source": [
    "## Q-Learning training algorithm\n",
    "\n",
    "Putting all this together, we can list out the algorithm we'll use to train the network. We'll train the network in _episodes_. One *episode* is one simulation of the game. For this game, the goal is to keep the pole upright for 195 frames. So we can start a new episode once meeting that goal. The game ends if the pole tilts over too far, or if the cart moves too far the left or right. When a game ends, we'll start a new episode. Now, to train the agent:\n",
    "\n",
    "* Initialize the memory $D$\n",
    "* Initialize the action-value network $Q$ with random weights\n",
    "* **For** episode = 1, $M$ **do**\n",
    "  * **For** $t$, $T$ **do**\n",
    "     * With probability $\\epsilon$ select a random action $a_t$, otherwise select $a_t = \\mathrm{argmax}_a Q(s,a)$\n",
    "     * Execute action $a_t$ in simulator and observe reward $r_{t+1}$ and new state $s_{t+1}$\n",
    "     * Store transition $<s_t, a_t, r_{t+1}, s_{t+1}>$ in memory $D$\n",
    "     * Sample random mini-batch from $D$: $<s_j, a_j, r_j, s'_j>$\n",
    "     * Set $\\hat{Q}_j = r_j$ if the episode ends at $j+1$, otherwise set $\\hat{Q}_j = r_j + \\gamma \\max_{a'}{Q(s'_j, a')}$\n",
    "     * Make a gradient descent step with loss $(\\hat{Q}_j - Q(s_j, a_j))^2$\n",
    "  * **endfor**\n",
    "* **endfor**"
   ]
  },
  {
   "cell_type": "markdown",
   "metadata": {},
   "source": [
    "## Hyperparameters\n",
    "\n",
    "One of the more difficult aspects of reinforcememt learning are the large number of hyperparameters. Not only are we tuning the network, but we're tuning the simulation."
   ]
  },
  {
   "cell_type": "code",
   "execution_count": 11,
   "metadata": {},
   "outputs": [],
   "source": [
    "# Network parameters\n",
    "action_size = 2\n",
    "state_size = 4\n",
    "hidden_size = 64               # number of units in each Q-network hidden layer\n",
    "learning_rate = 0.0001         # Q-network learning rate\n",
    "\n",
    "# Memory parameters\n",
    "memory_size = 128            # memory capacity - 1000 DQN\n",
    "batch_size = 128             # experience mini-batch size - 20 DQN\n",
    "gamma = 0.99                 # future reward discount"
   ]
  },
  {
   "cell_type": "code",
   "execution_count": 12,
   "metadata": {},
   "outputs": [
    {
     "name": "stdout",
     "output_type": "stream",
     "text": [
      "(?, 4) (?, 64)\n",
      "(1, ?, 64) (<tf.Tensor 'MultiRNNCellZeroState/GRUCellZeroState/zeros:0' shape=(1, 64) dtype=float32>,)\n",
      "(1, ?, 64) (<tf.Tensor 'generator/rnn/while/Exit_3:0' shape=(1, 64) dtype=float32>,)\n",
      "(?, 64)\n",
      "(?, 2)\n"
     ]
    }
   ],
   "source": [
    "# Reset/init the graph/session\n",
    "graph = tf.reset_default_graph()\n",
    "\n",
    "# Init the model\n",
    "model = Model(action_size=action_size, hidden_size=hidden_size, state_size=state_size, learning_rate=learning_rate)\n",
    "\n",
    "# Init the memory\n",
    "memory = Memory(max_size=batch_size)"
   ]
  },
  {
   "cell_type": "code",
   "execution_count": 13,
   "metadata": {},
   "outputs": [
    {
     "data": {
      "text/plain": [
       "<tf.Tensor 'MultiRNNCellZeroState/GRUCellZeroState/zeros:0' shape=(1, 64) dtype=float32>"
      ]
     },
     "execution_count": 13,
     "metadata": {},
     "output_type": "execute_result"
    }
   ],
   "source": [
    "model.initial_state[0]"
   ]
  },
  {
   "cell_type": "markdown",
   "metadata": {},
   "source": [
    "## Populate the memory (exprience memory)\n",
    "\n",
    "Here I'm re-initializing the simulation and pre-populating the memory. The agent is taking random actions and storing the transitions in memory. This will help the agent with exploring the game."
   ]
  },
  {
   "cell_type": "code",
   "execution_count": 14,
   "metadata": {},
   "outputs": [],
   "source": [
    "import numpy as np\n",
    "state = env.reset()\n",
    "for _ in range(memory_size):\n",
    "    action = env.action_space.sample()\n",
    "    next_state, reward, done, _ = env.step(action)\n",
    "    memory.buffer.append([state, action, next_state, reward, float(done)])\n",
    "    memory.states.append(np.zeros([1, hidden_size])) # gru\n",
    "    #memory.states.append([np.zeros([1, hidden_size]), np.zeros([1, hidden_size])]) # lstm\n",
    "    state = next_state\n",
    "    if done is True:\n",
    "        # Reseting the env/first state\n",
    "        state = env.reset()"
   ]
  },
  {
   "cell_type": "code",
   "execution_count": 15,
   "metadata": {},
   "outputs": [],
   "source": [
    "# # Training\n",
    "# batch = memory.buffer\n",
    "# states = np.array([each[0] for each in batch])\n",
    "# actions = np.array([each[1] for each in batch])\n",
    "# next_states = np.array([each[2] for each in batch])\n",
    "# rewards = np.array([each[3] for each in batch])\n",
    "# dones = np.array([each[4] for each in batch])"
   ]
  },
  {
   "cell_type": "code",
   "execution_count": 16,
   "metadata": {},
   "outputs": [
    {
     "data": {
      "text/plain": [
       "((1, 64), TensorShape([Dimension(1), Dimension(64)]))"
      ]
     },
     "execution_count": 16,
     "metadata": {},
     "output_type": "execute_result"
    }
   ],
   "source": [
    "memory.states[0].shape, model.initial_state[0].shape # gru\n",
    "# memory.states[0][1].shape, model.initial_state[0][1].shape #lstm"
   ]
  },
  {
   "cell_type": "code",
   "execution_count": 17,
   "metadata": {},
   "outputs": [],
   "source": [
    "# memory.states[0][0].shape, model.initial_state[0][0].shape"
   ]
  },
  {
   "cell_type": "markdown",
   "metadata": {},
   "source": [
    "## Training the model\n",
    "\n",
    "Below we'll train our agent. If you want to watch it train, uncomment the `env.render()` line. This is slow because it's rendering the frames slower than the network can train. But, it's cool to watch the agent get better at the game."
   ]
  },
  {
   "cell_type": "code",
   "execution_count": 18,
   "metadata": {},
   "outputs": [],
   "source": [
    "# initial_states = np.array(memory.states)\n",
    "# initial_states.shape"
   ]
  },
  {
   "cell_type": "code",
   "execution_count": null,
   "metadata": {
    "scrolled": false
   },
   "outputs": [
    {
     "name": "stdout",
     "output_type": "stream",
     "text": [
      "Episode:0 meanR:56.0000 R:56.0000 loss:0.5190\n",
      "Episode:1 meanR:56.5000 R:57.0000 loss:0.1709\n",
      "Episode:2 meanR:57.3333 R:59.0000 loss:0.0558\n",
      "Episode:3 meanR:57.7500 R:59.0000 loss:0.0391\n",
      "Episode:4 meanR:55.4000 R:46.0000 loss:0.0418\n",
      "Episode:5 meanR:55.5000 R:56.0000 loss:0.0729\n",
      "Episode:6 meanR:54.1429 R:46.0000 loss:0.5641\n",
      "Episode:7 meanR:48.5000 R:9.0000 loss:0.5588\n",
      "Episode:8 meanR:44.2222 R:10.0000 loss:0.6894\n",
      "Episode:9 meanR:44.8000 R:50.0000 loss:0.5945\n",
      "Episode:10 meanR:45.9091 R:57.0000 loss:1.2969\n",
      "Episode:11 meanR:49.0000 R:83.0000 loss:16.4563\n",
      "Episode:12 meanR:48.4615 R:42.0000 loss:3.1300\n",
      "Episode:13 meanR:48.3571 R:47.0000 loss:6.4577\n",
      "Episode:14 meanR:47.4667 R:35.0000 loss:1.3252\n",
      "Episode:15 meanR:46.5000 R:32.0000 loss:35.0244\n",
      "Episode:16 meanR:45.1765 R:24.0000 loss:4.9875\n",
      "Episode:17 meanR:44.0000 R:24.0000 loss:10.0883\n",
      "Episode:18 meanR:42.7368 R:20.0000 loss:5.4289\n",
      "Episode:19 meanR:41.6000 R:20.0000 loss:1.4301\n",
      "Episode:20 meanR:40.7143 R:23.0000 loss:1.3822\n",
      "Episode:21 meanR:39.8182 R:21.0000 loss:1.4202\n",
      "Episode:22 meanR:39.0435 R:22.0000 loss:4.4964\n",
      "Episode:23 meanR:38.3750 R:23.0000 loss:4.5652\n",
      "Episode:24 meanR:37.6000 R:19.0000 loss:5.0755\n",
      "Episode:25 meanR:36.9231 R:20.0000 loss:16.9181\n",
      "Episode:26 meanR:36.4815 R:25.0000 loss:4.1040\n",
      "Episode:27 meanR:36.0000 R:23.0000 loss:20.8690\n",
      "Episode:28 meanR:35.3793 R:18.0000 loss:14.7715\n",
      "Episode:29 meanR:34.9333 R:22.0000 loss:9.4328\n",
      "Episode:30 meanR:34.3871 R:18.0000 loss:4.6721\n",
      "Episode:31 meanR:34.0625 R:24.0000 loss:4.7851\n",
      "Episode:32 meanR:33.7576 R:24.0000 loss:4.5714\n",
      "Episode:33 meanR:33.6471 R:30.0000 loss:4.5022\n",
      "Episode:34 meanR:33.4571 R:27.0000 loss:4.4200\n",
      "Episode:35 meanR:33.2222 R:25.0000 loss:4.2403\n",
      "Episode:36 meanR:33.1351 R:30.0000 loss:4.2607\n",
      "Episode:37 meanR:32.8684 R:23.0000 loss:4.4054\n",
      "Episode:38 meanR:32.6667 R:25.0000 loss:4.7608\n",
      "Episode:39 meanR:32.3750 R:21.0000 loss:4.9363\n",
      "Episode:40 meanR:32.0244 R:18.0000 loss:4.9478\n",
      "Episode:41 meanR:32.0238 R:32.0000 loss:5.0467\n",
      "Episode:42 meanR:31.6977 R:18.0000 loss:5.1262\n",
      "Episode:43 meanR:31.4091 R:19.0000 loss:5.1970\n",
      "Episode:44 meanR:31.2889 R:26.0000 loss:5.1417\n",
      "Episode:45 meanR:31.0000 R:18.0000 loss:5.1492\n",
      "Episode:46 meanR:30.8298 R:23.0000 loss:4.9700\n",
      "Episode:47 meanR:30.8125 R:30.0000 loss:5.1517\n",
      "Episode:48 meanR:30.5306 R:17.0000 loss:5.1134\n",
      "Episode:49 meanR:30.4200 R:25.0000 loss:4.9712\n",
      "Episode:50 meanR:30.2941 R:24.0000 loss:4.9730\n",
      "Episode:51 meanR:30.2115 R:26.0000 loss:4.7517\n",
      "Episode:52 meanR:30.1132 R:25.0000 loss:4.7160\n",
      "Episode:53 meanR:30.0741 R:28.0000 loss:4.8235\n",
      "Episode:54 meanR:29.8545 R:18.0000 loss:4.7761\n",
      "Episode:55 meanR:29.6250 R:17.0000 loss:5.0646\n",
      "Episode:56 meanR:29.5439 R:25.0000 loss:5.1470\n",
      "Episode:57 meanR:29.4138 R:22.0000 loss:5.2902\n",
      "Episode:58 meanR:29.3559 R:26.0000 loss:5.2821\n",
      "Episode:59 meanR:29.2833 R:25.0000 loss:5.1725\n",
      "Episode:60 meanR:29.1639 R:22.0000 loss:4.9298\n",
      "Episode:61 meanR:29.0323 R:21.0000 loss:4.7535\n",
      "Episode:62 meanR:28.9048 R:21.0000 loss:4.9191\n",
      "Episode:63 meanR:28.7188 R:17.0000 loss:4.9792\n",
      "Episode:64 meanR:28.5231 R:16.0000 loss:5.1646\n",
      "Episode:65 meanR:28.4697 R:25.0000 loss:5.1939\n",
      "Episode:66 meanR:28.3284 R:19.0000 loss:5.1576\n",
      "Episode:67 meanR:28.1912 R:19.0000 loss:5.2466\n",
      "Episode:68 meanR:28.0725 R:20.0000 loss:5.1339\n",
      "Episode:69 meanR:27.9429 R:19.0000 loss:5.1074\n",
      "Episode:70 meanR:27.8732 R:23.0000 loss:5.1530\n",
      "Episode:71 meanR:27.7639 R:20.0000 loss:5.0694\n",
      "Episode:72 meanR:27.6438 R:19.0000 loss:5.3809\n",
      "Episode:73 meanR:27.5676 R:22.0000 loss:5.3004\n",
      "Episode:74 meanR:27.5200 R:24.0000 loss:4.8745\n",
      "Episode:75 meanR:27.4211 R:20.0000 loss:4.8683\n",
      "Episode:76 meanR:27.3766 R:24.0000 loss:4.7243\n",
      "Episode:77 meanR:27.3974 R:29.0000 loss:4.5104\n",
      "Episode:78 meanR:27.4177 R:29.0000 loss:4.2224\n",
      "Episode:79 meanR:27.3000 R:18.0000 loss:4.2127\n",
      "Episode:80 meanR:27.2469 R:23.0000 loss:4.5434\n",
      "Episode:81 meanR:27.1463 R:19.0000 loss:4.6343\n",
      "Episode:82 meanR:27.1325 R:26.0000 loss:4.6691\n",
      "Episode:83 meanR:27.0357 R:19.0000 loss:4.7214\n",
      "Episode:84 meanR:26.9294 R:18.0000 loss:4.8423\n",
      "Episode:85 meanR:26.8605 R:21.0000 loss:5.0959\n",
      "Episode:86 meanR:26.8046 R:22.0000 loss:5.0971\n",
      "Episode:87 meanR:26.7386 R:21.0000 loss:5.1269\n",
      "Episode:88 meanR:26.6742 R:21.0000 loss:5.0593\n",
      "Episode:89 meanR:26.5556 R:16.0000 loss:5.1768\n",
      "Episode:90 meanR:26.4835 R:20.0000 loss:5.2912\n",
      "Episode:91 meanR:26.3913 R:18.0000 loss:5.0483\n",
      "Episode:92 meanR:26.3226 R:20.0000 loss:5.0885\n",
      "Episode:93 meanR:26.2660 R:21.0000 loss:5.2203\n",
      "Episode:94 meanR:26.1895 R:19.0000 loss:5.2994\n",
      "Episode:95 meanR:26.1771 R:25.0000 loss:5.3305\n",
      "Episode:96 meanR:26.1443 R:23.0000 loss:5.2529\n",
      "Episode:97 meanR:26.1327 R:25.0000 loss:4.7741\n",
      "Episode:98 meanR:26.0909 R:22.0000 loss:4.5670\n",
      "Episode:99 meanR:25.9800 R:15.0000 loss:4.4750\n",
      "Episode:100 meanR:25.6100 R:19.0000 loss:4.3399\n",
      "Episode:101 meanR:25.2200 R:18.0000 loss:4.5072\n",
      "Episode:102 meanR:24.8900 R:26.0000 loss:4.4196\n",
      "Episode:103 meanR:24.5100 R:21.0000 loss:4.5927\n",
      "Episode:104 meanR:24.2300 R:18.0000 loss:4.6654\n",
      "Episode:105 meanR:23.8900 R:22.0000 loss:4.8682\n",
      "Episode:106 meanR:23.6400 R:21.0000 loss:4.8483\n",
      "Episode:107 meanR:23.7900 R:24.0000 loss:4.6547\n",
      "Episode:108 meanR:23.8500 R:16.0000 loss:4.8695\n",
      "Episode:109 meanR:23.6100 R:26.0000 loss:4.6809\n",
      "Episode:110 meanR:23.2300 R:19.0000 loss:4.7027\n",
      "Episode:111 meanR:22.6000 R:20.0000 loss:4.6499\n",
      "Episode:112 meanR:22.3900 R:21.0000 loss:4.8197\n",
      "Episode:113 meanR:22.0700 R:15.0000 loss:4.7568\n",
      "Episode:114 meanR:21.8900 R:17.0000 loss:5.1068\n",
      "Episode:115 meanR:21.7300 R:16.0000 loss:4.9582\n",
      "Episode:116 meanR:21.7000 R:21.0000 loss:5.0119\n",
      "Episode:117 meanR:21.6200 R:16.0000 loss:5.1710\n",
      "Episode:118 meanR:21.6300 R:21.0000 loss:4.8865\n",
      "Episode:119 meanR:21.6100 R:18.0000 loss:4.7564\n",
      "Episode:120 meanR:21.5300 R:15.0000 loss:4.8484\n",
      "Episode:121 meanR:21.4900 R:17.0000 loss:4.8628\n",
      "Episode:122 meanR:21.4300 R:16.0000 loss:4.7613\n",
      "Episode:123 meanR:21.4300 R:23.0000 loss:4.6772\n",
      "Episode:124 meanR:21.4500 R:21.0000 loss:4.3368\n",
      "Episode:125 meanR:21.4300 R:18.0000 loss:4.5881\n",
      "Episode:126 meanR:21.4000 R:22.0000 loss:4.6334\n",
      "Episode:127 meanR:21.4200 R:25.0000 loss:4.3480\n",
      "Episode:128 meanR:21.4300 R:19.0000 loss:4.4632\n",
      "Episode:129 meanR:21.3700 R:16.0000 loss:4.4977\n",
      "Episode:130 meanR:21.4100 R:22.0000 loss:4.9322\n",
      "Episode:131 meanR:21.3900 R:22.0000 loss:4.9358\n",
      "Episode:132 meanR:21.3400 R:19.0000 loss:4.7357\n",
      "Episode:133 meanR:21.2600 R:22.0000 loss:4.5701\n",
      "Episode:134 meanR:21.1500 R:16.0000 loss:4.8659\n",
      "Episode:135 meanR:21.1400 R:24.0000 loss:4.6072\n",
      "Episode:136 meanR:21.0500 R:21.0000 loss:4.3234\n",
      "Episode:137 meanR:20.9800 R:16.0000 loss:4.3882\n",
      "Episode:138 meanR:20.9600 R:23.0000 loss:4.5924\n",
      "Episode:139 meanR:20.9200 R:17.0000 loss:4.5570\n",
      "Episode:140 meanR:20.9500 R:21.0000 loss:4.5057\n",
      "Episode:141 meanR:20.8700 R:24.0000 loss:4.1909\n",
      "Episode:142 meanR:20.8700 R:18.0000 loss:4.5400\n",
      "Episode:143 meanR:20.8700 R:19.0000 loss:4.7054\n",
      "Episode:144 meanR:20.8400 R:23.0000 loss:4.6728\n",
      "Episode:145 meanR:20.8400 R:18.0000 loss:4.4084\n",
      "Episode:146 meanR:20.7600 R:15.0000 loss:4.5685\n",
      "Episode:147 meanR:20.6400 R:18.0000 loss:4.8554\n",
      "Episode:148 meanR:20.6800 R:21.0000 loss:5.0599\n",
      "Episode:149 meanR:20.6000 R:17.0000 loss:5.0224\n",
      "Episode:150 meanR:20.5500 R:19.0000 loss:4.8479\n",
      "Episode:151 meanR:20.5300 R:24.0000 loss:4.6524\n",
      "Episode:152 meanR:20.4300 R:15.0000 loss:4.8213\n",
      "Episode:153 meanR:20.3600 R:21.0000 loss:4.5334\n",
      "Episode:154 meanR:20.3800 R:20.0000 loss:4.5234\n",
      "Episode:155 meanR:20.4100 R:20.0000 loss:4.5639\n",
      "Episode:156 meanR:20.3800 R:22.0000 loss:4.3619\n",
      "Episode:157 meanR:20.3700 R:21.0000 loss:4.2082\n",
      "Episode:158 meanR:20.2600 R:15.0000 loss:4.6357\n",
      "Episode:159 meanR:20.1800 R:17.0000 loss:4.7242\n",
      "Episode:160 meanR:20.2000 R:24.0000 loss:4.6861\n",
      "Episode:161 meanR:20.2200 R:23.0000 loss:4.5281\n",
      "Episode:162 meanR:20.1500 R:14.0000 loss:4.5278\n",
      "Episode:163 meanR:20.1600 R:18.0000 loss:4.8236\n",
      "Episode:164 meanR:20.1600 R:16.0000 loss:5.0624\n",
      "Episode:165 meanR:20.1300 R:22.0000 loss:4.7792\n",
      "Episode:166 meanR:20.1400 R:20.0000 loss:4.6711\n",
      "Episode:167 meanR:20.1800 R:23.0000 loss:4.6935\n",
      "Episode:168 meanR:20.1900 R:21.0000 loss:4.6034\n",
      "Episode:169 meanR:20.2200 R:22.0000 loss:4.1872\n",
      "Episode:170 meanR:20.2100 R:22.0000 loss:3.8266\n",
      "Episode:171 meanR:20.2000 R:19.0000 loss:4.0204\n",
      "Episode:172 meanR:20.2200 R:21.0000 loss:3.9035\n"
     ]
    },
    {
     "name": "stdout",
     "output_type": "stream",
     "text": [
      "Episode:173 meanR:20.1500 R:15.0000 loss:3.8879\n",
      "Episode:174 meanR:20.0800 R:17.0000 loss:4.0692\n",
      "Episode:175 meanR:20.0900 R:21.0000 loss:4.1082\n",
      "Episode:176 meanR:20.0300 R:18.0000 loss:4.3875\n",
      "Episode:177 meanR:19.8800 R:14.0000 loss:4.7769\n",
      "Episode:178 meanR:19.8000 R:21.0000 loss:4.5229\n",
      "Episode:179 meanR:19.7700 R:15.0000 loss:4.5513\n",
      "Episode:180 meanR:19.7600 R:22.0000 loss:4.6462\n",
      "Episode:181 meanR:19.7500 R:18.0000 loss:4.5704\n",
      "Episode:182 meanR:19.7300 R:24.0000 loss:4.3506\n",
      "Episode:183 meanR:19.6900 R:15.0000 loss:4.1399\n",
      "Episode:184 meanR:19.7800 R:27.0000 loss:3.6548\n",
      "Episode:185 meanR:19.7200 R:15.0000 loss:3.6376\n",
      "Episode:186 meanR:19.6900 R:19.0000 loss:3.5432\n",
      "Episode:187 meanR:19.6300 R:15.0000 loss:3.6225\n",
      "Episode:188 meanR:19.5700 R:15.0000 loss:3.6449\n",
      "Episode:189 meanR:19.5700 R:16.0000 loss:3.4997\n",
      "Episode:190 meanR:19.6000 R:23.0000 loss:3.8352\n",
      "Episode:191 meanR:19.5600 R:14.0000 loss:4.0846\n",
      "Episode:192 meanR:19.5900 R:23.0000 loss:4.1328\n",
      "Episode:193 meanR:19.5700 R:19.0000 loss:3.9268\n",
      "Episode:194 meanR:19.6000 R:22.0000 loss:4.0065\n",
      "Episode:195 meanR:19.5200 R:17.0000 loss:3.9324\n",
      "Episode:196 meanR:19.5000 R:21.0000 loss:3.6786\n",
      "Episode:197 meanR:19.4800 R:23.0000 loss:3.5943\n",
      "Episode:198 meanR:19.4300 R:17.0000 loss:3.4570\n",
      "Episode:199 meanR:19.4300 R:15.0000 loss:3.6348\n",
      "Episode:200 meanR:19.4200 R:18.0000 loss:3.5114\n",
      "Episode:201 meanR:19.4200 R:18.0000 loss:3.2985\n",
      "Episode:202 meanR:19.3900 R:23.0000 loss:3.3140\n",
      "Episode:203 meanR:19.3800 R:20.0000 loss:3.3067\n",
      "Episode:204 meanR:19.4200 R:22.0000 loss:3.3273\n",
      "Episode:205 meanR:19.4100 R:21.0000 loss:3.2308\n",
      "Episode:206 meanR:19.3700 R:17.0000 loss:3.0561\n",
      "Episode:207 meanR:19.3400 R:21.0000 loss:3.1056\n",
      "Episode:208 meanR:19.4200 R:24.0000 loss:2.9262\n",
      "Episode:209 meanR:19.3800 R:22.0000 loss:2.7336\n",
      "Episode:210 meanR:19.3400 R:15.0000 loss:2.5728\n",
      "Episode:211 meanR:19.3800 R:24.0000 loss:2.7159\n",
      "Episode:212 meanR:19.3500 R:18.0000 loss:2.7312\n",
      "Episode:213 meanR:19.3400 R:14.0000 loss:2.7721\n",
      "Episode:214 meanR:19.3700 R:20.0000 loss:3.4956\n",
      "Episode:215 meanR:19.4400 R:23.0000 loss:3.5249\n",
      "Episode:216 meanR:19.4000 R:17.0000 loss:3.6290\n",
      "Episode:217 meanR:19.4800 R:24.0000 loss:3.4973\n",
      "Episode:218 meanR:19.4900 R:22.0000 loss:3.2855\n",
      "Episode:219 meanR:19.4600 R:15.0000 loss:3.1708\n",
      "Episode:220 meanR:19.4700 R:16.0000 loss:3.0259\n",
      "Episode:221 meanR:19.5800 R:28.0000 loss:2.9394\n",
      "Episode:222 meanR:19.5700 R:15.0000 loss:2.9849\n",
      "Episode:223 meanR:19.5200 R:18.0000 loss:3.0497\n",
      "Episode:224 meanR:19.4500 R:14.0000 loss:3.2671\n",
      "Episode:225 meanR:19.4500 R:18.0000 loss:3.2961\n",
      "Episode:226 meanR:19.3800 R:15.0000 loss:3.4347\n",
      "Episode:227 meanR:19.3300 R:20.0000 loss:3.3879\n",
      "Episode:228 meanR:19.3700 R:23.0000 loss:3.3448\n",
      "Episode:229 meanR:19.3900 R:18.0000 loss:3.5073\n",
      "Episode:230 meanR:19.4200 R:25.0000 loss:3.2555\n",
      "Episode:231 meanR:19.3900 R:19.0000 loss:2.9445\n",
      "Episode:232 meanR:19.3600 R:16.0000 loss:2.9947\n",
      "Episode:233 meanR:19.3200 R:18.0000 loss:3.0770\n",
      "Episode:234 meanR:19.3500 R:19.0000 loss:3.0415\n",
      "Episode:235 meanR:19.2800 R:17.0000 loss:3.0056\n",
      "Episode:236 meanR:19.2400 R:17.0000 loss:3.0252\n",
      "Episode:237 meanR:19.3400 R:26.0000 loss:2.9327\n",
      "Episode:238 meanR:19.3700 R:26.0000 loss:2.5935\n",
      "Episode:239 meanR:19.4300 R:23.0000 loss:2.2553\n",
      "Episode:240 meanR:19.4300 R:21.0000 loss:2.1277\n",
      "Episode:241 meanR:19.3600 R:17.0000 loss:2.0756\n",
      "Episode:242 meanR:19.4000 R:22.0000 loss:2.1912\n",
      "Episode:243 meanR:19.4600 R:25.0000 loss:2.1976\n",
      "Episode:244 meanR:19.3800 R:15.0000 loss:2.2436\n",
      "Episode:245 meanR:19.3700 R:17.0000 loss:2.1872\n",
      "Episode:246 meanR:19.4500 R:23.0000 loss:2.2675\n",
      "Episode:247 meanR:19.5100 R:24.0000 loss:2.2183\n",
      "Episode:248 meanR:19.5400 R:24.0000 loss:1.9681\n",
      "Episode:249 meanR:19.5800 R:21.0000 loss:1.7460\n",
      "Episode:250 meanR:19.6200 R:23.0000 loss:1.6464\n",
      "Episode:251 meanR:19.6500 R:27.0000 loss:1.2913\n",
      "Episode:252 meanR:19.7300 R:23.0000 loss:1.0353\n",
      "Episode:253 meanR:19.7100 R:19.0000 loss:1.0005\n",
      "Episode:254 meanR:19.6700 R:16.0000 loss:0.8996\n",
      "Episode:255 meanR:19.6400 R:17.0000 loss:0.8997\n",
      "Episode:256 meanR:19.6600 R:24.0000 loss:1.0324\n",
      "Episode:257 meanR:19.6200 R:17.0000 loss:1.4449\n",
      "Episode:258 meanR:19.7400 R:27.0000 loss:1.8154\n",
      "Episode:259 meanR:19.7700 R:20.0000 loss:1.9126\n",
      "Episode:260 meanR:19.7300 R:20.0000 loss:1.8670\n",
      "Episode:261 meanR:19.6700 R:17.0000 loss:1.6986\n",
      "Episode:262 meanR:19.7800 R:25.0000 loss:1.5282\n",
      "Episode:263 meanR:19.7600 R:16.0000 loss:1.2464\n",
      "Episode:264 meanR:19.7500 R:15.0000 loss:1.2572\n",
      "Episode:265 meanR:19.7800 R:25.0000 loss:1.1995\n",
      "Episode:266 meanR:19.8000 R:22.0000 loss:1.0804\n",
      "Episode:267 meanR:19.7900 R:22.0000 loss:0.8603\n",
      "Episode:268 meanR:19.8100 R:23.0000 loss:0.7553\n",
      "Episode:269 meanR:19.7600 R:17.0000 loss:0.7515\n",
      "Episode:270 meanR:19.7800 R:24.0000 loss:0.8136\n",
      "Episode:271 meanR:19.7600 R:17.0000 loss:0.6359\n",
      "Episode:272 meanR:19.7800 R:23.0000 loss:1.2768\n",
      "Episode:273 meanR:19.8400 R:21.0000 loss:2.2314\n",
      "Episode:274 meanR:19.9100 R:24.0000 loss:2.3804\n",
      "Episode:275 meanR:19.9500 R:25.0000 loss:1.5920\n",
      "Episode:276 meanR:19.9400 R:17.0000 loss:0.9982\n",
      "Episode:277 meanR:20.0400 R:24.0000 loss:1.1293\n",
      "Episode:278 meanR:20.0700 R:24.0000 loss:0.9300\n",
      "Episode:279 meanR:20.1600 R:24.0000 loss:0.9982\n",
      "Episode:280 meanR:20.1600 R:22.0000 loss:1.1807\n",
      "Episode:281 meanR:20.3500 R:37.0000 loss:2.2998\n",
      "Episode:282 meanR:20.3500 R:24.0000 loss:2.9480\n",
      "Episode:283 meanR:20.4000 R:20.0000 loss:2.6871\n",
      "Episode:284 meanR:20.3000 R:17.0000 loss:2.4791\n",
      "Episode:285 meanR:20.4400 R:29.0000 loss:2.5797\n",
      "Episode:286 meanR:20.4800 R:23.0000 loss:2.1247\n",
      "Episode:287 meanR:20.5900 R:26.0000 loss:2.0118\n",
      "Episode:288 meanR:20.6700 R:23.0000 loss:0.8788\n",
      "Episode:289 meanR:20.8200 R:31.0000 loss:0.8120\n",
      "Episode:290 meanR:20.8400 R:25.0000 loss:0.8413\n",
      "Episode:291 meanR:20.9000 R:20.0000 loss:0.6897\n",
      "Episode:292 meanR:20.8900 R:22.0000 loss:0.6010\n",
      "Episode:293 meanR:21.8200 R:112.0000 loss:7.5472\n",
      "Episode:294 meanR:22.2400 R:64.0000 loss:10.8318\n",
      "Episode:295 meanR:23.9600 R:189.0000 loss:2.1492\n",
      "Episode:296 meanR:25.0400 R:129.0000 loss:36.0221\n",
      "Episode:297 meanR:26.2700 R:146.0000 loss:15.7300\n",
      "Episode:298 meanR:26.9300 R:83.0000 loss:2.2263\n",
      "Episode:299 meanR:27.6300 R:85.0000 loss:2.3884\n"
     ]
    }
   ],
   "source": [
    "saver = tf.train.Saver()\n",
    "episode_rewards_list, rewards_list, loss_list = [], [], []\n",
    "\n",
    "# TF session for training\n",
    "with tf.Session() as sess:\n",
    "    sess.run(tf.global_variables_initializer())\n",
    "    #saver.restore(sess, 'checkpoints/model.ckpt')    \n",
    "    #saver.restore(sess, tf.train.latest_checkpoint('checkpoints'))\n",
    "    episode_reward = deque(maxlen=100) # 100 episodes average/running average/running mean/window\n",
    "    \n",
    "    # Training episodes/epochs\n",
    "    for ep in range(11111):\n",
    "        total_reward = 0\n",
    "        loss_batch = []\n",
    "        state = env.reset()\n",
    "        initial_state = sess.run(model.initial_state)\n",
    "\n",
    "        # Training steps/batches\n",
    "        while True:\n",
    "            action_logits, final_state = sess.run([model.actions_logits, model.final_state],\n",
    "                                                  feed_dict = {model.states: state.reshape([1, -1]), \n",
    "                                                               model.is_training: False,\n",
    "                                                               model.initial_state: initial_state})\n",
    "            action = np.argmax(action_logits)\n",
    "            next_state, reward, done, _ = env.step(action)\n",
    "            memory.buffer.append([state, action, next_state, reward, float(done)])\n",
    "            memory.states.append(initial_state)\n",
    "            total_reward += reward\n",
    "            state = next_state\n",
    "            initial_state = final_state\n",
    "\n",
    "            # Training\n",
    "            batch = memory.buffer\n",
    "            states = np.array([each[0] for each in batch])\n",
    "            actions = np.array([each[1] for each in batch])\n",
    "            next_states = np.array([each[2] for each in batch])\n",
    "            rewards = np.array([each[3] for each in batch])\n",
    "            dones = np.array([each[4] for each in batch])\n",
    "            initial_states = memory.states\n",
    "            next_actions_logits = sess.run(model.actions_logits, \n",
    "                                           feed_dict = {model.states: next_states,\n",
    "                                                        model.is_training: False,\n",
    "                                                        model.initial_state: initial_states[1]})\n",
    "            nextQs = np.max(next_actions_logits, axis=1) * (1-dones)\n",
    "            targetQs = rewards + (gamma * nextQs)\n",
    "            loss, _ = sess.run([model.loss, model.opt], feed_dict = {model.states: states, \n",
    "                                                                     model.actions: actions,\n",
    "                                                                     model.targetQs: targetQs,\n",
    "                                                                     model.is_training: True,\n",
    "                                                                     model.initial_state: initial_states[0]})\n",
    "            # End of training\n",
    "            loss_batch.append(loss)\n",
    "            if done is True:\n",
    "                break\n",
    "                \n",
    "        # Outputing: priting out/Potting\n",
    "        episode_reward.append(total_reward)\n",
    "        print('Episode:{}'.format(ep),\n",
    "              'meanR:{:.4f}'.format(np.mean(episode_reward)),\n",
    "              'R:{:.4f}'.format(total_reward),\n",
    "              'loss:{:.4f}'.format(np.mean(loss_batch)))\n",
    "        # Ploting out\n",
    "        episode_rewards_list.append([ep, np.mean(episode_reward)])\n",
    "        rewards_list.append([ep, total_reward])\n",
    "        loss_list.append([ep, np.mean(loss_batch)])\n",
    "        # Break episode/epoch loop\n",
    "        if np.mean(episode_reward) >= 500:\n",
    "            break\n",
    "            \n",
    "    # At the end of all training episodes/epochs\n",
    "    saver.save(sess, 'checkpoints/model.ckpt')"
   ]
  },
  {
   "cell_type": "markdown",
   "metadata": {},
   "source": [
    "# Visualizing training\n",
    "\n",
    "Below I'll plot the total rewards for each episode. I'm plotting the rolling average too, in blue."
   ]
  },
  {
   "cell_type": "code",
   "execution_count": 20,
   "metadata": {},
   "outputs": [],
   "source": [
    "%matplotlib inline\n",
    "import matplotlib.pyplot as plt\n",
    "\n",
    "def running_mean(x, N):\n",
    "    cumsum = np.cumsum(np.insert(x, 0, 0)) \n",
    "    return (cumsum[N:] - cumsum[:-N]) / N "
   ]
  },
  {
   "cell_type": "code",
   "execution_count": 21,
   "metadata": {},
   "outputs": [
    {
     "data": {
      "text/plain": [
       "Text(0,0.5,'Total rewards')"
      ]
     },
     "execution_count": 21,
     "metadata": {},
     "output_type": "execute_result"
    },
    {
     "data": {
      "image/png": "[encoded data removed]",
      "text/plain": [
       "<Figure size 432x288 with 1 Axes>"
      ]
     },
     "metadata": {},
     "output_type": "display_data"
    }
   ],
   "source": [
    "eps, arr = np.array(episode_rewards_list).T\n",
    "smoothed_arr = running_mean(arr, 10)\n",
    "plt.plot(eps[-len(smoothed_arr):], smoothed_arr)\n",
    "plt.plot(eps, arr, color='grey', alpha=0.3)\n",
    "plt.xlabel('Episode')\n",
    "plt.ylabel('Total rewards')"
   ]
  },
  {
   "cell_type": "code",
   "execution_count": 22,
   "metadata": {},
   "outputs": [
    {
     "data": {
      "text/plain": [
       "Text(0,0.5,'Total rewards')"
      ]
     },
     "execution_count": 22,
     "metadata": {},
     "output_type": "execute_result"
    },
    {
     "data": {
      "image/png": "[encoded data removed]",
      "text/plain": [
       "<Figure size 432x288 with 1 Axes>"
      ]
     },
     "metadata": {},
     "output_type": "display_data"
    }
   ],
   "source": [
    "eps, arr = np.array(rewards_list).T\n",
    "smoothed_arr = running_mean(arr, 10)\n",
    "plt.plot(eps[-len(smoothed_arr):], smoothed_arr)\n",
    "plt.plot(eps, arr, color='grey', alpha=0.3)\n",
    "plt.xlabel('Episode')\n",
    "plt.ylabel('Total rewards')"
   ]
  },
  {
   "cell_type": "code",
   "execution_count": 23,
   "metadata": {},
   "outputs": [
    {
     "data": {
      "text/plain": [
       "Text(0,0.5,'Average losses')"
      ]
     },
     "execution_count": 23,
     "metadata": {},
     "output_type": "execute_result"
    },
    {
     "data": {
      "image/png": "[encoded data removed]",
      "text/plain": [
       "<Figure size 432x288 with 1 Axes>"
      ]
     },
     "metadata": {},
     "output_type": "display_data"
    }
   ],
   "source": [
    "eps, arr = np.array(loss_list).T\n",
    "smoothed_arr = running_mean(arr, 10)\n",
    "plt.plot(eps[-len(smoothed_arr):], smoothed_arr)\n",
    "plt.plot(eps, arr, color='grey', alpha=0.3)\n",
    "plt.xlabel('Episode')\n",
    "plt.ylabel('Average losses')"
   ]
  },
  {
   "cell_type": "markdown",
   "metadata": {},
   "source": [
    "## Testing\n",
    "\n",
    "Let's checkout how our trained agent plays the game."
   ]
  },
  {
   "cell_type": "code",
   "execution_count": 24,
   "metadata": {},
   "outputs": [
    {
     "name": "stdout",
     "output_type": "stream",
     "text": [
      "INFO:tensorflow:Restoring parameters from checkpoints/model.ckpt\n",
      "total_reward:500.0\n",
      "total_reward:500.0\n",
      "total_reward:500.0\n",
      "total_reward:500.0\n",
      "total_reward:500.0\n",
      "total_reward:500.0\n",
      "total_reward:500.0\n",
      "total_reward:500.0\n",
      "total_reward:500.0\n",
      "total_reward:500.0\n"
     ]
    }
   ],
   "source": [
    "import gym\n",
    "env = gym.make('CartPole-v0')\n",
    "env = gym.make('CartPole-v1')\n",
    "\n",
    "with tf.Session(graph=graph) as sess:\n",
    "    sess.run(tf.global_variables_initializer())\n",
    "    #saver.restore(sess, 'checkpoints/model.ckpt')    \n",
    "    saver.restore(sess, tf.train.latest_checkpoint('checkpoints'))\n",
    "    \n",
    "    # Episode/epoch\n",
    "    for _ in range(10):\n",
    "        total_reward = 0\n",
    "        state = env.reset()\n",
    "        initial_state = sess.run(model.initial_state) # Qs or current batch or states[:-1]\n",
    "        \n",
    "        # Steps/batches\n",
    "        while True:\n",
    "            env.render()\n",
    "            action_logits, initial_state = sess.run([model.actions_logits, model.final_state],\n",
    "                                                    feed_dict = {model.states: state.reshape([1, -1]), \n",
    "                                                                 model.initial_state: initial_state})\n",
    "            action = np.argmax(action_logits)\n",
    "            state, reward, done, _ = env.step(action)\n",
    "            total_reward += reward\n",
    "            if done:\n",
    "                break\n",
    "        # At the end of each episode\n",
    "        print('total_reward:{}'.format(total_reward))\n",
    "\n",
    "# Close the env\n",
    "env.close()"
   ]
  },
  {
   "cell_type": "markdown",
   "metadata": {},
   "source": [
    "## Extending this\n",
    "\n",
    "So, Cart-Pole is a pretty simple game. However, the same model can be used to train an agent to play something much more complicated like Pong or Space Invaders. Instead of a state like we're using here though, you'd want to use convolutional layers to get the state from the screen images.\n",
    "\n",
    "![Deep Q-Learning Atari](assets/atari-network.png)\n",
    "\n",
    "I'll leave it as a challenge for you to use deep Q-learning to train an agent to play Atari games. Here's the original paper which will get you started: http://www.davidqiu.com:8888/research/nature14236.pdf."
   ]
  },
  {
   "cell_type": "code",
   "execution_count": null,
   "metadata": {},
   "outputs": [],
   "source": []
  }
 ],
 "metadata": {
  "kernelspec": {
   "display_name": "Python 3",
   "language": "python",
   "name": "python3"
  },
  "language_info": {
   "codemirror_mode": {
    "name": "ipython",
    "version": 3
   },
   "file_extension": ".py",
   "mimetype": "text/x-python",
   "name": "python",
   "nbconvert_exporter": "python",
   "pygments_lexer": "ipython3",
   "version": "3.6.8"
  }
 },
 "nbformat": 4,
 "nbformat_minor": 2
}
