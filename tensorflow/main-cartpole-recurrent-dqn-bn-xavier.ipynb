{
 "cells": [
  {
   "cell_type": "markdown",
   "metadata": {},
   "source": [
    "# Recurrent DQN\n",
    "\n",
    "In this notebook, we'll build a neural network that can learn to play games through reinforcement learning. More specifically, we'll use Q-learning to train an agent to play a game called [Cart-Pole](https://gym.openai.com/envs/CartPole-v0). In this game, a freely swinging pole is attached to a cart. The cart can move to the left and right, and the goal is to keep the pole upright as long as possible.\n",
    "\n",
    "![Cart-Pole](assets/cart-pole.jpg)\n",
    "\n",
    "We can simulate this game using [OpenAI Gym](https://gym.openai.com/). First, let's check out how OpenAI Gym works. Then, we'll get into training an agent to play the Cart-Pole game."
   ]
  },
  {
   "cell_type": "code",
   "execution_count": 1,
   "metadata": {},
   "outputs": [
    {
     "name": "stdout",
     "output_type": "stream",
     "text": [
      "TensorFlow Version: 1.7.1\n",
      "Default GPU Device: \n"
     ]
    }
   ],
   "source": [
    "import tensorflow as tf\n",
    "print('TensorFlow Version: {}'.format(tf.__version__))\n",
    "print('Default GPU Device: {}'.format(tf.test.gpu_device_name()))"
   ]
  },
  {
   "cell_type": "markdown",
   "metadata": {},
   "source": [
    ">**Note:** Make sure you have OpenAI Gym cloned into the same directory with this notebook. I've included `gym` as a submodule, so you can run `git submodule --init --recursive` to pull the contents into the `gym` repo."
   ]
  },
  {
   "cell_type": "markdown",
   "metadata": {},
   "source": [
    ">**Note:** Make sure you have OpenAI Gym cloned. Then run this command `pip install -e gym/[all]`."
   ]
  },
  {
   "cell_type": "code",
   "execution_count": 2,
   "metadata": {},
   "outputs": [
    {
     "name": "stderr",
     "output_type": "stream",
     "text": [
      "/home/arasdar/anaconda3/lib/python3.6/site-packages/gym/envs/registration.py:14: PkgResourcesDeprecationWarning: Parameters to load are deprecated.  Call .resolve and .require separately.\n",
      "  result = entry_point.load(False)\n"
     ]
    }
   ],
   "source": [
    "import gym\n",
    "\n",
    "# Create the Cart-Pole game environment\n",
    "# env = gym.make('CartPole-v0')\n",
    "env = gym.make('CartPole-v1')"
   ]
  },
  {
   "cell_type": "markdown",
   "metadata": {},
   "source": [
    "We interact with the simulation through `env`. To show the simulation running, you can use `env.render()` to render one frame. Passing in an action as an integer to `env.step` will generate the next step in the simulation.  You can see how many actions are possible from `env.action_space` and to get a random action you can use `env.action_space.sample()`. This is general to all Gym games. In the Cart-Pole game, there are two possible actions, moving the cart left or right. So there are two actions we can take, encoded as 0 and 1.\n",
    "\n",
    "Run the code below to watch the simulation run."
   ]
  },
  {
   "cell_type": "code",
   "execution_count": 3,
   "metadata": {},
   "outputs": [],
   "source": [
    "# import numpy as np\n",
    "# state = env.reset()\n",
    "# for _ in range(10):\n",
    "#     # env.render()\n",
    "#     action = env.action_space.sample()\n",
    "#     next_state, reward, done, info = env.step(action) # take a random action\n",
    "#     #print('state, action, next_state, reward, done, info:', state, action, next_state, reward, done, info)\n",
    "#     state = next_state\n",
    "#     if done:\n",
    "#         state = env.reset()"
   ]
  },
  {
   "cell_type": "markdown",
   "metadata": {},
   "source": [
    "To shut the window showing the simulation, use `env.close()`."
   ]
  },
  {
   "cell_type": "markdown",
   "metadata": {},
   "source": [
    "If you ran the simulation above, we can look at the rewards:"
   ]
  },
  {
   "cell_type": "code",
   "execution_count": 4,
   "metadata": {},
   "outputs": [],
   "source": [
    "# print(rewards[-20:])\n",
    "# print(np.array(rewards).shape, np.array(states).shape, np.array(actions).shape, np.array(dones).shape)\n",
    "# print(np.array(rewards).dtype, np.array(states).dtype, np.array(actions).dtype, np.array(dones).dtype)\n",
    "# print(np.max(np.array(actions)), np.min(np.array(actions)))\n",
    "# print((np.max(np.array(actions)) - np.min(np.array(actions)))+1)\n",
    "# print(np.max(np.array(rewards)), np.min(np.array(rewards)))\n",
    "# print(np.max(np.array(states)), np.min(np.array(states)))"
   ]
  },
  {
   "cell_type": "markdown",
   "metadata": {},
   "source": [
    "The game resets after the pole has fallen past a certain angle. For each frame while the simulation is running, it returns a reward of 1.0. The longer the game runs, the more reward we get. Then, our network's goal is to maximize the reward by keeping the pole vertical. It will do this by moving the cart to the left and the right."
   ]
  },
  {
   "cell_type": "markdown",
   "metadata": {},
   "source": [
    "## Q-Network\n",
    "\n",
    "We train our Q-learning agent using the Bellman Equation:\n",
    "\n",
    "$$\n",
    "Q(s, a) = r + \\gamma \\max{Q(s', a')}\n",
    "$$\n",
    "\n",
    "where $s$ is a state, $a$ is an action, and $s'$ is the next state from state $s$ and action $a$.\n",
    "\n",
    "Before we used this equation to learn values for a Q-_table_. However, for this game there are a huge number of states available. The state has four values: the position and velocity of the cart, and the position and velocity of the pole. These are all real-valued numbers, so ignoring floating point precisions, you practically have infinite states. Instead of using a table then, we'll replace it with a neural network that will approximate the Q-table lookup function.\n",
    "\n",
    "<img src=\"assets/deep-q-learning.png\" width=450px>\n",
    "\n",
    "Now, our Q value, $Q(s, a)$ is calculated by passing in a state to the network. The output will be Q-values for each available action, with fully connected hidden layers.\n",
    "\n",
    "<img src=\"assets/q-network.png\" width=550px>\n",
    "\n",
    "\n",
    "As I showed before, we can define our targets for training as $\\hat{Q}(s,a) = r + \\gamma \\max{Q(s', a')}$. Then we update the weights by minimizing $(\\hat{Q}(s,a) - Q(s,a))^2$. \n",
    "\n",
    "For this Cart-Pole game, we have four inputs, one for each value in the state, and two outputs, one for each action. To get $\\hat{Q}$, we'll first choose an action, then simulate the game using that action. This will get us the next state, $s'$, and the reward. With that, we can calculate $\\hat{Q}$ then pass it back into the $Q$ network to run the optimizer and update the weights.\n",
    "\n",
    "Below is my implementation of the Q-network. I used two fully connected layers with ReLU activations. Two seems to be good enough, three might be better. Feel free to try it out."
   ]
  },
  {
   "cell_type": "code",
   "execution_count": 6,
   "metadata": {},
   "outputs": [],
   "source": [
    "def model_input(state_size, hidden_size, batch_size=1):\n",
    "    states = tf.placeholder(tf.float32, [None, state_size], name='states')\n",
    "    actions = tf.placeholder(tf.int32, [None], name='actions')\n",
    "    targetQs = tf.placeholder(tf.float32, [None], name='targetQs')\n",
    "    # RNN\n",
    "    cell = tf.nn.rnn_cell.GRUCell(hidden_size)\n",
    "    #cell = tf.nn.rnn_cell.LSTMCell(hidden_size)\n",
    "    cells = tf.nn.rnn_cell.MultiRNNCell([cell], state_is_tuple=True)\n",
    "    initial_state = cells.zero_state(batch_size, tf.float32)\n",
    "    is_training = tf.placeholder(dtype=tf.bool, shape=[], name='is_training')\n",
    "    return states, actions, targetQs, cells, initial_state, is_training"
   ]
  },
  {
   "cell_type": "code",
   "execution_count": 7,
   "metadata": {},
   "outputs": [],
   "source": [
    "# RNN generator or sequence generator\n",
    "def generator(states, action_size, initial_state, cells, hidden_size, reuse=False, is_training=True): \n",
    "    with tf.variable_scope('generator', reuse=reuse):\n",
    "        # First fully connected layer\n",
    "        #inputs = tf.layers.dense(inputs=states, units=hidden_size)\n",
    "        inputs = tf.contrib.layers.fully_connected(inputs=states, num_outputs=hidden_size, activation_fn=None)\n",
    "        #inputs = tf.layers.batch_normalization(inputs=inputs, training=is_training)\n",
    "        #inputs = tf.maximum(0.1*inputs, inputs)\n",
    "        print(states.shape, inputs.shape)\n",
    "        \n",
    "        # with tf.variable_scope('dynamic_rnn_', reuse=tf.AUTO_REUSE):\n",
    "        # dynamic means adapt to the batch_size and\n",
    "        # static means can NOT adapt to the batch_size\n",
    "        inputs_rnn = tf.reshape(inputs, [1, -1, hidden_size]) # NxH -> 1xNxH\n",
    "        print(inputs_rnn.shape, initial_state)\n",
    "        outputs_rnn, final_state = tf.nn.dynamic_rnn(cell=cells, inputs=inputs_rnn, initial_state=initial_state)\n",
    "        #outputs_rnn = tf.layers.batch_normalization(inputs=outputs_rnn, training=is_training)\n",
    "        #final_state = tf.layers.batch_normalization(inputs=final_state, training=is_training)\n",
    "        print(outputs_rnn.shape, final_state)\n",
    "        outputs = tf.reshape(outputs_rnn, [-1, hidden_size]) # 1xNxH -> NxH\n",
    "        print(outputs.shape)\n",
    "\n",
    "        # Last fully connected layer\n",
    "        #logits = tf.layers.dense(inputs=outputs, units=action_size)\n",
    "        logits = tf.contrib.layers.fully_connected(inputs=outputs, num_outputs=action_size, activation_fn=None)\n",
    "        print(logits.shape)\n",
    "        #predictions = tf.nn.softmax(logits)\n",
    "        \n",
    "        # logits are the action logits\n",
    "        return logits, final_state"
   ]
  },
  {
   "cell_type": "code",
   "execution_count": 8,
   "metadata": {},
   "outputs": [],
   "source": [
    "def model_loss(action_size, hidden_size, states, cells, initial_state, actions, targetQs, is_training):\n",
    "    actions_logits, final_state = generator(states=states, cells=cells, initial_state=initial_state, \n",
    "                                            hidden_size=hidden_size, action_size=action_size, \n",
    "                                            is_training=is_training)\n",
    "    actions_labels = tf.one_hot(indices=actions, depth=action_size, dtype=actions_logits.dtype)\n",
    "    Qs = tf.reduce_max(actions_logits*actions_labels, axis=1)\n",
    "    loss = tf.reduce_mean(tf.square(Qs - targetQs))\n",
    "    return actions_logits, final_state, loss"
   ]
  },
  {
   "cell_type": "code",
   "execution_count": 9,
   "metadata": {},
   "outputs": [],
   "source": [
    "def model_opt(loss, learning_rate):\n",
    "    # Get weights and bias to update\n",
    "    t_vars = tf.trainable_variables()\n",
    "    g_vars = [var for var in t_vars if var.name.startswith('generator')]\n",
    "\n",
    "    # # Optimize MLP/CNN/RNN without clipping grads\n",
    "    #with tf.control_dependencies(tf.get_collection(tf.GraphKeys.UPDATE_OPS)): # Required for batchnorm (BN)\n",
    "    opt = tf.train.AdamOptimizer(learning_rate).minimize(loss, var_list=g_vars)\n",
    "\n",
    "    # # Optimize RNN\n",
    "    #grads, _ = tf.clip_by_global_norm(t_list=tf.gradients(loss, g_vars), clip_norm=5) # usually around 1-5\n",
    "    #grads = tf.gradients(loss, g_vars)\n",
    "    #opt = tf.train.AdamOptimizer(learning_rate).apply_gradients(grads_and_vars=zip(grads, g_vars))\n",
    "    return opt"
   ]
  },
  {
   "cell_type": "code",
   "execution_count": 10,
   "metadata": {},
   "outputs": [],
   "source": [
    "class Model:\n",
    "    def __init__(self, state_size, action_size, hidden_size, learning_rate):\n",
    "\n",
    "        # Data of the Model: make the data available inside the framework\n",
    "        self.states, self.actions, self.targetQs, cells, self.initial_state, self.is_training = model_input(\n",
    "                state_size=state_size, hidden_size=hidden_size)\n",
    "        \n",
    "        # Create the Model: calculating the loss and forwad pass\n",
    "        self.actions_logits, self.final_state, self.loss = model_loss(\n",
    "            action_size=action_size, hidden_size=hidden_size, \n",
    "            states=self.states, actions=self.actions, \n",
    "            targetQs=self.targetQs, cells=cells, initial_state=self.initial_state, is_training=self.is_training)\n",
    "\n",
    "        # Update the model: backward pass and backprop\n",
    "        self.opt = model_opt(loss=self.loss, learning_rate=learning_rate)"
   ]
  },
  {
   "cell_type": "markdown",
   "metadata": {},
   "source": [
    "## Experience replay\n",
    "\n",
    "Reinforcement learning algorithms can have stability issues due to correlations between states. To reduce correlations when training, we can store the agent's experiences and later draw a random mini-batch of those experiences to train on. \n",
    "\n",
    "Here, we'll create a `Memory` object that will store our experiences, our transitions $<s, a, r, s'>$. This memory will have a maxmium capacity, so we can keep newer experiences in memory while getting rid of older experiences. Then, we'll sample a random mini-batch of transitions $<s, a, r, s'>$ and train on those.\n",
    "\n",
    "Below, I've implemented a `Memory` object. If you're unfamiliar with `deque`, this is a double-ended queue. You can think of it like a tube open on both sides. You can put objects in either side of the tube. But if it's full, adding anything more will push an object out the other side. This is a great data structure to use for the memory buffer."
   ]
  },
  {
   "cell_type": "code",
   "execution_count": 11,
   "metadata": {},
   "outputs": [],
   "source": [
    "from collections import deque\n",
    "\n",
    "class Memory():    \n",
    "    def __init__(self, max_size = 1000):\n",
    "        self.buffer = deque(maxlen=max_size)\n",
    "        self.states = deque(maxlen=max_size)"
   ]
  },
  {
   "cell_type": "markdown",
   "metadata": {},
   "source": [
    "## Exploration - Exploitation\n",
    "\n",
    "To learn about the environment and rules of the game, the agent needs to explore by taking random actions. We'll do this by choosing a random action with some probability $\\epsilon$ (epsilon).  That is, with some probability $\\epsilon$ the agent will make a random action and with probability $1 - \\epsilon$, the agent will choose an action from $Q(s,a)$. This is called an **$\\epsilon$-greedy policy**.\n",
    "\n",
    "\n",
    "At first, the agent needs to do a lot of exploring. Later when it has learned more, the agent can favor choosing actions based on what it has learned. This is called _exploitation_. We'll set it up so the agent is more likely to explore early in training, then more likely to exploit later in training."
   ]
  },
  {
   "cell_type": "markdown",
   "metadata": {},
   "source": [
    "## Q-Learning training algorithm\n",
    "\n",
    "Putting all this together, we can list out the algorithm we'll use to train the network. We'll train the network in _episodes_. One *episode* is one simulation of the game. For this game, the goal is to keep the pole upright for 195 frames. So we can start a new episode once meeting that goal. The game ends if the pole tilts over too far, or if the cart moves too far the left or right. When a game ends, we'll start a new episode. Now, to train the agent:\n",
    "\n",
    "* Initialize the memory $D$\n",
    "* Initialize the action-value network $Q$ with random weights\n",
    "* **For** episode = 1, $M$ **do**\n",
    "  * **For** $t$, $T$ **do**\n",
    "     * With probability $\\epsilon$ select a random action $a_t$, otherwise select $a_t = \\mathrm{argmax}_a Q(s,a)$\n",
    "     * Execute action $a_t$ in simulator and observe reward $r_{t+1}$ and new state $s_{t+1}$\n",
    "     * Store transition $<s_t, a_t, r_{t+1}, s_{t+1}>$ in memory $D$\n",
    "     * Sample random mini-batch from $D$: $<s_j, a_j, r_j, s'_j>$\n",
    "     * Set $\\hat{Q}_j = r_j$ if the episode ends at $j+1$, otherwise set $\\hat{Q}_j = r_j + \\gamma \\max_{a'}{Q(s'_j, a')}$\n",
    "     * Make a gradient descent step with loss $(\\hat{Q}_j - Q(s_j, a_j))^2$\n",
    "  * **endfor**\n",
    "* **endfor**"
   ]
  },
  {
   "cell_type": "markdown",
   "metadata": {},
   "source": [
    "## Hyperparameters\n",
    "\n",
    "One of the more difficult aspects of reinforcememt learning are the large number of hyperparameters. Not only are we tuning the network, but we're tuning the simulation."
   ]
  },
  {
   "cell_type": "code",
   "execution_count": 12,
   "metadata": {},
   "outputs": [],
   "source": [
    "# Network parameters\n",
    "action_size = 2\n",
    "state_size = 4\n",
    "hidden_size = 64               # number of units in each Q-network hidden layer\n",
    "learning_rate = 0.0001         # Q-network learning rate\n",
    "\n",
    "# Memory parameters\n",
    "memory_size = 128            # memory capacity - 1000 DQN\n",
    "batch_size = 128             # experience mini-batch size - 20 DQN\n",
    "gamma = 0.99                 # future reward discount"
   ]
  },
  {
   "cell_type": "code",
   "execution_count": 13,
   "metadata": {},
   "outputs": [
    {
     "name": "stdout",
     "output_type": "stream",
     "text": [
      "(?, 4) (?, 64)\n",
      "(1, ?, 64) (<tf.Tensor 'MultiRNNCellZeroState/GRUCellZeroState/zeros:0' shape=(1, 64) dtype=float32>,)\n",
      "(1, ?, 64) (<tf.Tensor 'generator/rnn/while/Exit_3:0' shape=(1, 64) dtype=float32>,)\n",
      "(?, 64)\n",
      "(?, 2)\n"
     ]
    }
   ],
   "source": [
    "# Reset/init the graph/session\n",
    "graph = tf.reset_default_graph()\n",
    "\n",
    "# Init the model\n",
    "model = Model(action_size=action_size, hidden_size=hidden_size, state_size=state_size, learning_rate=learning_rate)\n",
    "\n",
    "# Init the memory\n",
    "memory = Memory(max_size=batch_size)"
   ]
  },
  {
   "cell_type": "code",
   "execution_count": 14,
   "metadata": {},
   "outputs": [
    {
     "data": {
      "text/plain": [
       "<tf.Tensor 'MultiRNNCellZeroState/GRUCellZeroState/zeros:0' shape=(1, 64) dtype=float32>"
      ]
     },
     "execution_count": 14,
     "metadata": {},
     "output_type": "execute_result"
    }
   ],
   "source": [
    "model.initial_state[0]"
   ]
  },
  {
   "cell_type": "markdown",
   "metadata": {},
   "source": [
    "## Populate the memory (exprience memory)\n",
    "\n",
    "Here I'm re-initializing the simulation and pre-populating the memory. The agent is taking random actions and storing the transitions in memory. This will help the agent with exploring the game."
   ]
  },
  {
   "cell_type": "code",
   "execution_count": 15,
   "metadata": {},
   "outputs": [],
   "source": [
    "import numpy as np\n",
    "state = env.reset()\n",
    "for _ in range(memory_size):\n",
    "    action = env.action_space.sample()\n",
    "    next_state, reward, done, _ = env.step(action)\n",
    "    memory.buffer.append([state, action, next_state, reward, float(done)])\n",
    "    memory.states.append(np.zeros([1, hidden_size])) # gru\n",
    "    #memory.states.append([np.zeros([1, hidden_size]), np.zeros([1, hidden_size])]) # lstm\n",
    "    state = next_state\n",
    "    if done is True:\n",
    "        # Reseting the env/first state\n",
    "        state = env.reset()"
   ]
  },
  {
   "cell_type": "code",
   "execution_count": 16,
   "metadata": {},
   "outputs": [],
   "source": [
    "# # Training\n",
    "# batch = memory.buffer\n",
    "# states = np.array([each[0] for each in batch])\n",
    "# actions = np.array([each[1] for each in batch])\n",
    "# next_states = np.array([each[2] for each in batch])\n",
    "# rewards = np.array([each[3] for each in batch])\n",
    "# dones = np.array([each[4] for each in batch])"
   ]
  },
  {
   "cell_type": "code",
   "execution_count": 17,
   "metadata": {},
   "outputs": [
    {
     "data": {
      "text/plain": [
       "((1, 64), TensorShape([Dimension(1), Dimension(64)]))"
      ]
     },
     "execution_count": 17,
     "metadata": {},
     "output_type": "execute_result"
    }
   ],
   "source": [
    "memory.states[0].shape, model.initial_state[0].shape # gru\n",
    "# memory.states[0][1].shape, model.initial_state[0][1].shape #lstm"
   ]
  },
  {
   "cell_type": "code",
   "execution_count": 18,
   "metadata": {},
   "outputs": [],
   "source": [
    "# memory.states[0][0].shape, model.initial_state[0][0].shape"
   ]
  },
  {
   "cell_type": "markdown",
   "metadata": {},
   "source": [
    "## Training the model\n",
    "\n",
    "Below we'll train our agent. If you want to watch it train, uncomment the `env.render()` line. This is slow because it's rendering the frames slower than the network can train. But, it's cool to watch the agent get better at the game."
   ]
  },
  {
   "cell_type": "code",
   "execution_count": 19,
   "metadata": {},
   "outputs": [],
   "source": [
    "# initial_states = np.array(memory.states)\n",
    "# initial_states.shape"
   ]
  },
  {
   "cell_type": "code",
   "execution_count": null,
   "metadata": {
    "scrolled": false
   },
   "outputs": [
    {
     "name": "stdout",
     "output_type": "stream",
     "text": [
      "Episode:0 meanR:9.0000 R:9.0000 loss:1.0467\n",
      "Episode:1 meanR:9.0000 R:9.0000 loss:0.9682\n",
      "Episode:2 meanR:9.0000 R:9.0000 loss:0.9560\n",
      "Episode:3 meanR:9.0000 R:9.0000 loss:0.9286\n",
      "Episode:4 meanR:8.8000 R:8.0000 loss:0.9060\n",
      "Episode:5 meanR:8.8333 R:9.0000 loss:0.9004\n",
      "Episode:6 meanR:8.7143 R:8.0000 loss:0.8640\n",
      "Episode:7 meanR:8.7500 R:9.0000 loss:0.8014\n",
      "Episode:8 meanR:8.7778 R:9.0000 loss:0.8661\n",
      "Episode:9 meanR:8.8000 R:9.0000 loss:0.9917\n",
      "Episode:10 meanR:8.8182 R:9.0000 loss:0.9834\n",
      "Episode:11 meanR:8.8333 R:9.0000 loss:1.1289\n",
      "Episode:12 meanR:8.8462 R:9.0000 loss:1.4240\n",
      "Episode:13 meanR:8.9286 R:10.0000 loss:1.7760\n",
      "Episode:14 meanR:8.8667 R:8.0000 loss:2.0664\n",
      "Episode:15 meanR:8.9375 R:10.0000 loss:2.4236\n",
      "Episode:16 meanR:8.9412 R:9.0000 loss:2.6084\n",
      "Episode:17 meanR:9.0000 R:10.0000 loss:3.0851\n",
      "Episode:18 meanR:9.0000 R:9.0000 loss:3.2646\n",
      "Episode:19 meanR:8.9500 R:8.0000 loss:3.7522\n",
      "Episode:20 meanR:8.9048 R:8.0000 loss:3.8816\n",
      "Episode:21 meanR:8.9091 R:9.0000 loss:4.2070\n",
      "Episode:22 meanR:8.9565 R:10.0000 loss:4.5362\n",
      "Episode:23 meanR:8.9583 R:9.0000 loss:4.4973\n",
      "Episode:24 meanR:8.9600 R:9.0000 loss:4.7646\n",
      "Episode:25 meanR:8.9231 R:8.0000 loss:4.8270\n",
      "Episode:26 meanR:8.9259 R:9.0000 loss:4.8241\n",
      "Episode:27 meanR:8.8929 R:8.0000 loss:4.8042\n",
      "Episode:28 meanR:8.9310 R:10.0000 loss:4.6709\n",
      "Episode:29 meanR:8.9333 R:9.0000 loss:4.4781\n",
      "Episode:30 meanR:8.9355 R:9.0000 loss:4.2905\n",
      "Episode:31 meanR:8.9375 R:9.0000 loss:4.0760\n",
      "Episode:32 meanR:8.9394 R:9.0000 loss:3.8435\n",
      "Episode:33 meanR:8.9412 R:9.0000 loss:3.5843\n",
      "Episode:34 meanR:8.9714 R:10.0000 loss:3.3505\n",
      "Episode:35 meanR:8.9722 R:9.0000 loss:3.2066\n",
      "Episode:36 meanR:8.9730 R:9.0000 loss:3.1204\n",
      "Episode:37 meanR:8.9737 R:9.0000 loss:3.0116\n",
      "Episode:38 meanR:9.0000 R:10.0000 loss:2.8579\n",
      "Episode:39 meanR:9.0250 R:10.0000 loss:2.6478\n",
      "Episode:40 meanR:9.0244 R:9.0000 loss:2.5364\n",
      "Episode:41 meanR:9.0000 R:8.0000 loss:2.4685\n",
      "Episode:42 meanR:9.0233 R:10.0000 loss:2.4277\n",
      "Episode:43 meanR:9.0455 R:10.0000 loss:2.2658\n",
      "Episode:44 meanR:9.0667 R:10.0000 loss:2.1184\n",
      "Episode:45 meanR:9.0870 R:10.0000 loss:1.9960\n",
      "Episode:46 meanR:9.0638 R:8.0000 loss:1.9142\n",
      "Episode:47 meanR:9.0417 R:8.0000 loss:1.8775\n",
      "Episode:48 meanR:9.0612 R:10.0000 loss:1.7599\n",
      "Episode:49 meanR:9.0600 R:9.0000 loss:1.5673\n",
      "Episode:50 meanR:9.0588 R:9.0000 loss:1.4253\n",
      "Episode:51 meanR:9.0769 R:10.0000 loss:1.3025\n",
      "Episode:52 meanR:9.0755 R:9.0000 loss:1.2056\n",
      "Episode:53 meanR:9.0556 R:8.0000 loss:1.1378\n",
      "Episode:54 meanR:9.0364 R:8.0000 loss:1.0829\n",
      "Episode:55 meanR:9.0357 R:9.0000 loss:1.0193\n",
      "Episode:56 meanR:9.0351 R:9.0000 loss:0.9566\n",
      "Episode:57 meanR:9.0690 R:11.0000 loss:0.8930\n",
      "Episode:58 meanR:9.0847 R:10.0000 loss:0.8629\n",
      "Episode:59 meanR:9.0833 R:9.0000 loss:0.8539\n",
      "Episode:60 meanR:9.0984 R:10.0000 loss:0.8520\n",
      "Episode:61 meanR:9.1290 R:11.0000 loss:0.8984\n",
      "Episode:62 meanR:9.1429 R:10.0000 loss:0.9895\n",
      "Episode:63 meanR:9.2031 R:13.0000 loss:1.2840\n",
      "Episode:64 meanR:9.2769 R:14.0000 loss:1.6673\n",
      "Episode:65 meanR:9.3788 R:16.0000 loss:2.0782\n",
      "Episode:66 meanR:9.4776 R:16.0000 loss:2.7019\n",
      "Episode:67 meanR:9.6029 R:18.0000 loss:2.9749\n",
      "Episode:68 meanR:9.8551 R:27.0000 loss:3.0366\n",
      "Episode:69 meanR:10.0857 R:26.0000 loss:3.1626\n",
      "Episode:70 meanR:10.2958 R:25.0000 loss:3.2843\n",
      "Episode:71 meanR:10.4722 R:23.0000 loss:3.2842\n",
      "Episode:72 meanR:10.6438 R:23.0000 loss:3.2751\n",
      "Episode:73 meanR:10.8378 R:25.0000 loss:3.3346\n",
      "Episode:74 meanR:11.2000 R:38.0000 loss:2.7111\n",
      "Episode:75 meanR:11.5263 R:36.0000 loss:2.5122\n",
      "Episode:76 meanR:12.1558 R:60.0000 loss:2.2244\n",
      "Episode:77 meanR:12.9872 R:77.0000 loss:2.0336\n",
      "Episode:78 meanR:13.3165 R:39.0000 loss:2.2591\n",
      "Episode:79 meanR:13.6875 R:43.0000 loss:2.0067\n",
      "Episode:80 meanR:13.9753 R:37.0000 loss:2.0958\n",
      "Episode:81 meanR:14.2317 R:35.0000 loss:3.0926\n",
      "Episode:82 meanR:14.6145 R:46.0000 loss:2.3911\n",
      "Episode:83 meanR:15.0357 R:50.0000 loss:2.5811\n",
      "Episode:84 meanR:15.4588 R:51.0000 loss:3.5592\n",
      "Episode:85 meanR:15.4651 R:16.0000 loss:4.8067\n",
      "Episode:86 meanR:15.4483 R:14.0000 loss:6.3142\n",
      "Episode:87 meanR:15.4318 R:14.0000 loss:7.2660\n",
      "Episode:88 meanR:15.4494 R:17.0000 loss:8.9477\n",
      "Episode:89 meanR:15.4333 R:14.0000 loss:10.6004\n",
      "Episode:90 meanR:15.4066 R:13.0000 loss:11.0962\n",
      "Episode:91 meanR:15.4239 R:17.0000 loss:12.3918\n",
      "Episode:92 meanR:15.4194 R:15.0000 loss:14.0278\n",
      "Episode:93 meanR:15.4255 R:16.0000 loss:14.9560\n",
      "Episode:94 meanR:15.3684 R:10.0000 loss:16.1132\n",
      "Episode:95 meanR:15.3125 R:10.0000 loss:15.4314\n",
      "Episode:96 meanR:15.2577 R:10.0000 loss:60.8382\n",
      "Episode:97 meanR:15.1939 R:9.0000 loss:64.8423\n",
      "Episode:98 meanR:15.1313 R:9.0000 loss:15.1905\n",
      "Episode:99 meanR:15.1500 R:17.0000 loss:38.5304\n",
      "Episode:100 meanR:15.5000 R:44.0000 loss:50.8221\n",
      "Episode:101 meanR:17.0000 R:159.0000 loss:9.5877\n",
      "Episode:102 meanR:17.3300 R:42.0000 loss:2.2535\n",
      "Episode:103 meanR:17.3200 R:8.0000 loss:3.7309\n",
      "Episode:104 meanR:17.6600 R:42.0000 loss:2.7077\n",
      "Episode:105 meanR:17.6500 R:8.0000 loss:3.3798\n",
      "Episode:106 meanR:18.1000 R:53.0000 loss:2.7892\n",
      "Episode:107 meanR:18.4600 R:45.0000 loss:3.1427\n",
      "Episode:108 meanR:19.2000 R:83.0000 loss:2.7327\n",
      "Episode:109 meanR:19.9100 R:80.0000 loss:1.8467\n",
      "Episode:110 meanR:20.2500 R:43.0000 loss:1.6587\n",
      "Episode:111 meanR:20.6100 R:45.0000 loss:2.6066\n",
      "Episode:112 meanR:21.1100 R:59.0000 loss:2.2652\n",
      "Episode:113 meanR:21.6000 R:59.0000 loss:2.4005\n",
      "Episode:114 meanR:22.0600 R:54.0000 loss:2.0836\n",
      "Episode:115 meanR:22.3100 R:35.0000 loss:1.5944\n",
      "Episode:116 meanR:23.0000 R:78.0000 loss:2.3084\n",
      "Episode:117 meanR:23.5500 R:65.0000 loss:5.4425\n",
      "Episode:118 meanR:23.7400 R:28.0000 loss:2.2771\n",
      "Episode:119 meanR:23.9200 R:26.0000 loss:4.1542\n",
      "Episode:120 meanR:24.1300 R:29.0000 loss:6.6033\n",
      "Episode:121 meanR:24.3400 R:30.0000 loss:6.1458\n",
      "Episode:122 meanR:24.7600 R:52.0000 loss:4.9307\n",
      "Episode:123 meanR:25.4500 R:78.0000 loss:4.9417\n",
      "Episode:124 meanR:25.7100 R:35.0000 loss:3.2009\n",
      "Episode:125 meanR:25.9400 R:31.0000 loss:4.6166\n",
      "Episode:126 meanR:26.1500 R:30.0000 loss:4.7031\n",
      "Episode:127 meanR:26.4000 R:33.0000 loss:5.5643\n",
      "Episode:128 meanR:26.6500 R:35.0000 loss:5.3802\n",
      "Episode:129 meanR:26.9200 R:36.0000 loss:5.1637\n",
      "Episode:130 meanR:27.1500 R:32.0000 loss:5.9171\n",
      "Episode:131 meanR:27.7300 R:67.0000 loss:4.4303\n",
      "Episode:132 meanR:27.9600 R:32.0000 loss:3.2165\n",
      "Episode:133 meanR:28.5700 R:70.0000 loss:3.0748\n",
      "Episode:134 meanR:28.6900 R:22.0000 loss:3.4176\n",
      "Episode:135 meanR:28.8200 R:22.0000 loss:5.5293\n",
      "Episode:136 meanR:28.9900 R:26.0000 loss:4.6912\n",
      "Episode:137 meanR:29.1500 R:25.0000 loss:4.7309\n",
      "Episode:138 meanR:29.8300 R:78.0000 loss:5.9016\n",
      "Episode:139 meanR:30.6900 R:96.0000 loss:2.1627\n",
      "Episode:140 meanR:31.4700 R:87.0000 loss:0.8531\n",
      "Episode:141 meanR:31.8100 R:42.0000 loss:1.0220\n",
      "Episode:142 meanR:32.0500 R:34.0000 loss:3.7866\n",
      "Episode:143 meanR:32.2700 R:32.0000 loss:6.4541\n",
      "Episode:144 meanR:32.9900 R:82.0000 loss:6.0908\n",
      "Episode:145 meanR:33.2300 R:34.0000 loss:3.2962\n",
      "Episode:146 meanR:33.8900 R:74.0000 loss:2.8914\n",
      "Episode:147 meanR:34.4800 R:67.0000 loss:2.4998\n",
      "Episode:148 meanR:34.7100 R:33.0000 loss:0.8158\n",
      "Episode:149 meanR:34.8700 R:25.0000 loss:3.9850\n",
      "Episode:150 meanR:35.3800 R:60.0000 loss:4.7215\n",
      "Episode:151 meanR:35.9800 R:70.0000 loss:3.7750\n",
      "Episode:152 meanR:36.5100 R:62.0000 loss:0.8595\n",
      "Episode:153 meanR:36.7500 R:32.0000 loss:0.7578\n",
      "Episode:154 meanR:37.3000 R:63.0000 loss:4.0740\n",
      "Episode:155 meanR:37.7200 R:51.0000 loss:4.2820\n",
      "Episode:156 meanR:38.1400 R:51.0000 loss:1.8853\n",
      "Episode:157 meanR:38.2700 R:24.0000 loss:0.9610\n",
      "Episode:158 meanR:38.6200 R:45.0000 loss:3.9617\n",
      "Episode:159 meanR:38.9500 R:42.0000 loss:3.3856\n",
      "Episode:160 meanR:39.2800 R:43.0000 loss:3.5508\n",
      "Episode:161 meanR:39.7400 R:57.0000 loss:1.1935\n",
      "Episode:162 meanR:40.9600 R:132.0000 loss:1.9261\n",
      "Episode:163 meanR:41.0600 R:23.0000 loss:2.2988\n",
      "Episode:164 meanR:41.0800 R:16.0000 loss:6.0329\n",
      "Episode:165 meanR:42.1300 R:121.0000 loss:5.8650\n",
      "Episode:166 meanR:42.9800 R:101.0000 loss:1.4407\n",
      "Episode:167 meanR:43.9400 R:114.0000 loss:1.0011\n",
      "Episode:168 meanR:44.8200 R:115.0000 loss:1.1217\n",
      "Episode:169 meanR:44.9100 R:35.0000 loss:1.2932\n",
      "Episode:170 meanR:44.9600 R:30.0000 loss:6.7352\n",
      "Episode:171 meanR:45.0000 R:27.0000 loss:12.0003\n",
      "Episode:172 meanR:45.7500 R:98.0000 loss:11.1920\n",
      "Episode:173 meanR:46.4900 R:99.0000 loss:2.5336\n",
      "Episode:174 meanR:46.4900 R:38.0000 loss:1.5074\n"
     ]
    },
    {
     "name": "stdout",
     "output_type": "stream",
     "text": [
      "Episode:175 meanR:46.4500 R:32.0000 loss:7.0689\n",
      "Episode:176 meanR:46.1300 R:28.0000 loss:13.3467\n",
      "Episode:177 meanR:45.7700 R:41.0000 loss:19.7764\n",
      "Episode:178 meanR:46.5700 R:119.0000 loss:11.6305\n",
      "Episode:179 meanR:47.2000 R:106.0000 loss:1.1850\n",
      "Episode:180 meanR:48.0500 R:122.0000 loss:0.6443\n",
      "Episode:181 meanR:48.0300 R:33.0000 loss:1.6893\n",
      "Episode:182 meanR:48.9100 R:134.0000 loss:5.8248\n",
      "Episode:183 meanR:48.5900 R:18.0000 loss:3.7875\n",
      "Episode:184 meanR:48.2600 R:18.0000 loss:8.9402\n",
      "Episode:185 meanR:48.2700 R:17.0000 loss:40.4200\n",
      "Episode:186 meanR:48.3100 R:18.0000 loss:79.4423\n",
      "Episode:187 meanR:48.4100 R:24.0000 loss:46.5917\n",
      "Episode:188 meanR:48.4000 R:16.0000 loss:65.1895\n",
      "Episode:189 meanR:48.4400 R:18.0000 loss:177.5946\n",
      "Episode:190 meanR:48.4900 R:18.0000 loss:139.4620\n",
      "Episode:191 meanR:48.5200 R:20.0000 loss:126.9098\n",
      "Episode:192 meanR:48.5700 R:20.0000 loss:118.0915\n",
      "Episode:193 meanR:48.5700 R:16.0000 loss:134.6103\n",
      "Episode:194 meanR:48.6800 R:21.0000 loss:111.0099\n",
      "Episode:195 meanR:48.9200 R:34.0000 loss:77.0392\n",
      "Episode:196 meanR:49.6000 R:78.0000 loss:19.6525\n",
      "Episode:197 meanR:49.9600 R:45.0000 loss:15.2238\n",
      "Episode:198 meanR:50.3300 R:46.0000 loss:15.0007\n",
      "Episode:199 meanR:50.6300 R:47.0000 loss:19.7379\n",
      "Episode:200 meanR:51.0600 R:87.0000 loss:16.8129\n",
      "Episode:201 meanR:50.6100 R:114.0000 loss:10.3510\n",
      "Episode:202 meanR:51.2400 R:105.0000 loss:8.7309\n",
      "Episode:203 meanR:52.7400 R:158.0000 loss:7.5982\n",
      "Episode:204 meanR:54.0800 R:176.0000 loss:8.8098\n",
      "Episode:205 meanR:55.7300 R:173.0000 loss:6.5680\n",
      "Episode:206 meanR:57.0600 R:186.0000 loss:2.1085\n",
      "Episode:207 meanR:58.0100 R:140.0000 loss:2.6794\n",
      "Episode:208 meanR:57.4800 R:30.0000 loss:2.8522\n",
      "Episode:209 meanR:56.9100 R:23.0000 loss:7.2290\n",
      "Episode:210 meanR:57.6400 R:116.0000 loss:10.1463\n",
      "Episode:211 meanR:57.5000 R:31.0000 loss:5.7498\n",
      "Episode:212 meanR:57.1600 R:25.0000 loss:10.9585\n",
      "Episode:213 meanR:56.8300 R:26.0000 loss:18.0387\n",
      "Episode:214 meanR:56.5600 R:27.0000 loss:25.4859\n",
      "Episode:215 meanR:57.4500 R:124.0000 loss:13.5534\n",
      "Episode:216 meanR:57.0100 R:34.0000 loss:4.7364\n",
      "Episode:217 meanR:56.7500 R:39.0000 loss:10.9987\n",
      "Episode:218 meanR:56.7100 R:24.0000 loss:18.5393\n",
      "Episode:219 meanR:56.7200 R:27.0000 loss:25.6743\n",
      "Episode:220 meanR:56.7100 R:28.0000 loss:33.6234\n",
      "Episode:221 meanR:56.6700 R:26.0000 loss:34.5442\n",
      "Episode:222 meanR:56.4100 R:26.0000 loss:38.0738\n",
      "Episode:223 meanR:55.9000 R:27.0000 loss:36.5094\n",
      "Episode:224 meanR:55.8700 R:32.0000 loss:35.0326\n",
      "Episode:225 meanR:55.8700 R:31.0000 loss:32.3094\n",
      "Episode:226 meanR:55.8800 R:31.0000 loss:30.1071\n",
      "Episode:227 meanR:56.0000 R:45.0000 loss:25.3528\n",
      "Episode:228 meanR:56.2300 R:58.0000 loss:18.1596\n",
      "Episode:229 meanR:56.8100 R:94.0000 loss:9.5647\n",
      "Episode:230 meanR:59.8100 R:332.0000 loss:1.7788\n",
      "Episode:231 meanR:60.8200 R:168.0000 loss:2.2157\n",
      "Episode:232 meanR:62.1200 R:162.0000 loss:2.3207\n",
      "Episode:233 meanR:63.1100 R:169.0000 loss:2.3759\n",
      "Episode:234 meanR:64.4600 R:157.0000 loss:1.0910\n",
      "Episode:235 meanR:65.8400 R:160.0000 loss:1.2943\n",
      "Episode:236 meanR:65.9100 R:33.0000 loss:9.9787\n",
      "Episode:237 meanR:65.8800 R:22.0000 loss:20.4842\n",
      "Episode:238 meanR:65.3100 R:21.0000 loss:30.2451\n",
      "Episode:239 meanR:66.1600 R:181.0000 loss:13.3654\n",
      "Episode:240 meanR:67.7200 R:243.0000 loss:5.3020\n",
      "Episode:241 meanR:70.2200 R:292.0000 loss:1.8616\n",
      "Episode:242 meanR:73.3600 R:348.0000 loss:2.3749\n",
      "Episode:243 meanR:75.8800 R:284.0000 loss:1.0675\n",
      "Episode:244 meanR:76.5500 R:149.0000 loss:6.4941\n",
      "Episode:245 meanR:76.5100 R:30.0000 loss:14.2593\n",
      "Episode:246 meanR:76.8200 R:105.0000 loss:17.5996\n",
      "Episode:247 meanR:76.3600 R:21.0000 loss:25.2688\n",
      "Episode:248 meanR:76.2200 R:19.0000 loss:32.0829\n",
      "Episode:249 meanR:76.8800 R:91.0000 loss:32.0017\n",
      "Episode:250 meanR:77.5700 R:129.0000 loss:18.7103\n",
      "Episode:251 meanR:77.9900 R:112.0000 loss:5.0365\n",
      "Episode:252 meanR:78.9200 R:155.0000 loss:2.1810\n",
      "Episode:253 meanR:79.7300 R:113.0000 loss:9.0417\n",
      "Episode:254 meanR:84.1000 R:500.0000 loss:0.7141\n",
      "Episode:255 meanR:85.8500 R:226.0000 loss:10.1134\n",
      "Episode:256 meanR:86.3000 R:96.0000 loss:0.4770\n",
      "Episode:257 meanR:88.5200 R:246.0000 loss:1.0775\n",
      "Episode:258 meanR:88.3200 R:25.0000 loss:17.2668\n",
      "Episode:259 meanR:90.4100 R:251.0000 loss:11.9373\n",
      "Episode:260 meanR:93.1400 R:316.0000 loss:3.5254\n",
      "Episode:261 meanR:94.5200 R:195.0000 loss:2.8957\n",
      "Episode:262 meanR:93.5700 R:37.0000 loss:4.4036\n",
      "Episode:263 meanR:93.6600 R:32.0000 loss:21.7796\n",
      "Episode:264 meanR:95.4600 R:196.0000 loss:13.7485\n",
      "Episode:265 meanR:95.8700 R:162.0000 loss:18.9128\n",
      "Episode:266 meanR:99.8600 R:500.0000 loss:2.4754\n",
      "Episode:267 meanR:100.8600 R:214.0000 loss:8.0059\n",
      "Episode:268 meanR:104.7100 R:500.0000 loss:1.3939\n",
      "Episode:269 meanR:106.6100 R:225.0000 loss:16.8429\n",
      "Episode:270 meanR:109.2300 R:292.0000 loss:1.8594\n",
      "Episode:271 meanR:113.4900 R:453.0000 loss:0.9543\n",
      "Episode:272 meanR:112.9500 R:44.0000 loss:20.4056\n",
      "Episode:273 meanR:112.2700 R:31.0000 loss:36.3547\n",
      "Episode:274 meanR:112.9500 R:106.0000 loss:29.7790\n",
      "Episode:275 meanR:112.9400 R:31.0000 loss:45.9497\n",
      "Episode:276 meanR:117.6600 R:500.0000 loss:10.7621\n",
      "Episode:277 meanR:119.9600 R:271.0000 loss:16.2325\n",
      "Episode:278 meanR:123.2100 R:444.0000 loss:1.2874\n",
      "Episode:279 meanR:126.8200 R:467.0000 loss:2.1096\n",
      "Episode:280 meanR:126.9600 R:136.0000 loss:17.7543\n",
      "Episode:281 meanR:127.7300 R:110.0000 loss:23.7052\n",
      "Episode:282 meanR:127.2800 R:89.0000 loss:40.0139\n",
      "Episode:283 meanR:129.6300 R:253.0000 loss:19.4432\n",
      "Episode:284 meanR:134.4500 R:500.0000 loss:0.9893\n",
      "Episode:285 meanR:137.3100 R:303.0000 loss:14.8493\n",
      "Episode:286 meanR:138.3100 R:118.0000 loss:7.7467\n",
      "Episode:287 meanR:140.4500 R:238.0000 loss:3.1302\n",
      "Episode:288 meanR:142.1800 R:189.0000 loss:9.0085\n",
      "Episode:289 meanR:142.8900 R:89.0000 loss:22.2380\n",
      "Episode:290 meanR:143.5500 R:84.0000 loss:9.7708\n",
      "Episode:291 meanR:145.7100 R:236.0000 loss:2.0729\n",
      "Episode:292 meanR:150.5100 R:500.0000 loss:6.4353\n",
      "Episode:293 meanR:155.3500 R:500.0000 loss:7.5054\n",
      "Episode:294 meanR:160.1400 R:500.0000 loss:8.2836\n",
      "Episode:295 meanR:164.8000 R:500.0000 loss:9.7659\n",
      "Episode:296 meanR:165.7700 R:175.0000 loss:28.3907\n",
      "Episode:297 meanR:170.3200 R:500.0000 loss:9.9551\n",
      "Episode:298 meanR:174.8600 R:500.0000 loss:12.4463\n",
      "Episode:299 meanR:175.6700 R:128.0000 loss:49.3316\n",
      "Episode:300 meanR:179.4900 R:469.0000 loss:3.2686\n",
      "Episode:301 meanR:182.5900 R:424.0000 loss:10.1636\n",
      "Episode:302 meanR:182.5500 R:101.0000 loss:35.2522\n",
      "Episode:303 meanR:185.9700 R:500.0000 loss:4.9522\n",
      "Episode:304 meanR:189.2100 R:500.0000 loss:13.1683\n",
      "Episode:305 meanR:192.3000 R:482.0000 loss:14.4772\n",
      "Episode:306 meanR:191.6900 R:125.0000 loss:13.7868\n",
      "Episode:307 meanR:192.3900 R:210.0000 loss:6.6551\n",
      "Episode:308 meanR:197.0900 R:500.0000 loss:14.5179\n",
      "Episode:309 meanR:201.8600 R:500.0000 loss:14.3791\n",
      "Episode:310 meanR:202.0000 R:130.0000 loss:23.8485\n",
      "Episode:311 meanR:204.4700 R:278.0000 loss:4.5389\n",
      "Episode:312 meanR:205.5400 R:132.0000 loss:30.6822\n",
      "Episode:313 meanR:210.2800 R:500.0000 loss:1.3510\n",
      "Episode:314 meanR:215.0100 R:500.0000 loss:4.8590\n",
      "Episode:315 meanR:218.7700 R:500.0000 loss:15.9217\n",
      "Episode:316 meanR:221.5300 R:310.0000 loss:25.3539\n",
      "Episode:317 meanR:226.1400 R:500.0000 loss:1.4309\n",
      "Episode:318 meanR:230.9000 R:500.0000 loss:7.5246\n",
      "Episode:319 meanR:234.9400 R:431.0000 loss:20.6538\n",
      "Episode:320 meanR:237.3100 R:265.0000 loss:23.9707\n",
      "Episode:321 meanR:238.6100 R:156.0000 loss:4.1745\n",
      "Episode:322 meanR:238.6400 R:29.0000 loss:12.0392\n",
      "Episode:323 meanR:239.5300 R:116.0000 loss:25.0883\n",
      "Episode:324 meanR:244.2100 R:500.0000 loss:1.6606\n",
      "Episode:325 meanR:248.0300 R:413.0000 loss:1.9376\n",
      "Episode:326 meanR:251.7100 R:399.0000 loss:1.2902\n",
      "Episode:327 meanR:256.2600 R:500.0000 loss:2.8678\n",
      "Episode:328 meanR:257.0700 R:139.0000 loss:61.5675\n",
      "Episode:329 meanR:261.1300 R:500.0000 loss:3.8072\n",
      "Episode:330 meanR:262.8100 R:500.0000 loss:16.9393\n",
      "Episode:331 meanR:266.1300 R:500.0000 loss:16.8443\n",
      "Episode:332 meanR:266.5400 R:203.0000 loss:41.1115\n",
      "Episode:333 meanR:269.8500 R:500.0000 loss:3.2280\n",
      "Episode:334 meanR:273.2800 R:500.0000 loss:16.7010\n",
      "Episode:335 meanR:276.6800 R:500.0000 loss:16.1772\n",
      "Episode:336 meanR:281.3500 R:500.0000 loss:16.4523\n",
      "Episode:337 meanR:281.4000 R:27.0000 loss:66.8586\n",
      "Episode:338 meanR:282.8700 R:168.0000 loss:56.9723\n",
      "Episode:339 meanR:283.3600 R:230.0000 loss:2.3391\n"
     ]
    },
    {
     "name": "stdout",
     "output_type": "stream",
     "text": [
      "Episode:340 meanR:285.9300 R:500.0000 loss:2.2083\n",
      "Episode:341 meanR:284.4600 R:145.0000 loss:55.0653\n",
      "Episode:342 meanR:285.9800 R:500.0000 loss:2.3889\n"
     ]
    }
   ],
   "source": [
    "saver = tf.train.Saver()\n",
    "episode_rewards_list, rewards_list, loss_list = [], [], []\n",
    "\n",
    "# TF session for training\n",
    "with tf.Session() as sess:\n",
    "    sess.run(tf.global_variables_initializer())\n",
    "    #saver.restore(sess, 'checkpoints/model.ckpt')    \n",
    "    #saver.restore(sess, tf.train.latest_checkpoint('checkpoints'))\n",
    "    episode_reward = deque(maxlen=100) # 100 episodes average/running average/running mean/window\n",
    "    \n",
    "    # Training episodes/epochs\n",
    "    for ep in range(11111):\n",
    "        total_reward = 0\n",
    "        loss_batch = []\n",
    "        state = env.reset()\n",
    "        initial_state = sess.run(model.initial_state)\n",
    "\n",
    "        # Training steps/batches\n",
    "        while True:\n",
    "            action_logits, final_state = sess.run([model.actions_logits, model.final_state],\n",
    "                                                  feed_dict = {model.states: state.reshape([1, -1]), \n",
    "                                                               model.is_training: False,\n",
    "                                                               model.initial_state: initial_state})\n",
    "            action = np.argmax(action_logits)\n",
    "            next_state, reward, done, _ = env.step(action)\n",
    "            memory.buffer.append([state, action, next_state, reward, float(done)])\n",
    "            memory.states.append(initial_state)\n",
    "            total_reward += reward\n",
    "            state = next_state\n",
    "            initial_state = final_state\n",
    "\n",
    "            # Training\n",
    "            batch = memory.buffer\n",
    "            states = np.array([each[0] for each in batch])\n",
    "            actions = np.array([each[1] for each in batch])\n",
    "            next_states = np.array([each[2] for each in batch])\n",
    "            rewards = np.array([each[3] for each in batch])\n",
    "            dones = np.array([each[4] for each in batch])\n",
    "            initial_states = memory.states\n",
    "            next_actions_logits = sess.run(model.actions_logits, \n",
    "                                           feed_dict = {model.states: next_states,\n",
    "                                                        model.is_training: False,\n",
    "                                                        model.initial_state: initial_states[1]})\n",
    "            nextQs = np.max(next_actions_logits, axis=1) * (1-dones)\n",
    "            targetQs = rewards + (gamma * nextQs)\n",
    "            loss, _ = sess.run([model.loss, model.opt], feed_dict = {model.states: states, \n",
    "                                                                     model.actions: actions,\n",
    "                                                                     model.targetQs: targetQs,\n",
    "                                                                     model.is_training: True,\n",
    "                                                                     model.initial_state: initial_states[0]})\n",
    "            # End of training\n",
    "            loss_batch.append(loss)\n",
    "            if done is True:\n",
    "                break\n",
    "                \n",
    "        # Outputing: priting out/Potting\n",
    "        episode_reward.append(total_reward)\n",
    "        print('Episode:{}'.format(ep),\n",
    "              'meanR:{:.4f}'.format(np.mean(episode_reward)),\n",
    "              'R:{:.4f}'.format(total_reward),\n",
    "              'loss:{:.4f}'.format(np.mean(loss_batch)))\n",
    "        # Ploting out\n",
    "        episode_rewards_list.append([ep, np.mean(episode_reward)])\n",
    "        rewards_list.append([ep, total_reward])\n",
    "        loss_list.append([ep, np.mean(loss_batch)])\n",
    "        # Break episode/epoch loop\n",
    "        if np.mean(episode_reward) >= 500:\n",
    "            break\n",
    "            \n",
    "    # At the end of all training episodes/epochs\n",
    "    saver.save(sess, 'checkpoints/model.ckpt')"
   ]
  },
  {
   "cell_type": "markdown",
   "metadata": {},
   "source": [
    "# Visualizing training\n",
    "\n",
    "Below I'll plot the total rewards for each episode. I'm plotting the rolling average too, in blue."
   ]
  },
  {
   "cell_type": "code",
   "execution_count": null,
   "metadata": {},
   "outputs": [],
   "source": [
    "%matplotlib inline\n",
    "import matplotlib.pyplot as plt\n",
    "\n",
    "def running_mean(x, N):\n",
    "    cumsum = np.cumsum(np.insert(x, 0, 0)) \n",
    "    return (cumsum[N:] - cumsum[:-N]) / N "
   ]
  },
  {
   "cell_type": "code",
   "execution_count": null,
   "metadata": {},
   "outputs": [],
   "source": [
    "eps, arr = np.array(episode_rewards_list).T\n",
    "smoothed_arr = running_mean(arr, 10)\n",
    "plt.plot(eps[-len(smoothed_arr):], smoothed_arr)\n",
    "plt.plot(eps, arr, color='grey', alpha=0.3)\n",
    "plt.xlabel('Episode')\n",
    "plt.ylabel('Total rewards')"
   ]
  },
  {
   "cell_type": "code",
   "execution_count": null,
   "metadata": {},
   "outputs": [],
   "source": [
    "eps, arr = np.array(rewards_list).T\n",
    "smoothed_arr = running_mean(arr, 10)\n",
    "plt.plot(eps[-len(smoothed_arr):], smoothed_arr)\n",
    "plt.plot(eps, arr, color='grey', alpha=0.3)\n",
    "plt.xlabel('Episode')\n",
    "plt.ylabel('Total rewards')"
   ]
  },
  {
   "cell_type": "code",
   "execution_count": null,
   "metadata": {},
   "outputs": [],
   "source": [
    "eps, arr = np.array(loss_list).T\n",
    "smoothed_arr = running_mean(arr, 10)\n",
    "plt.plot(eps[-len(smoothed_arr):], smoothed_arr)\n",
    "plt.plot(eps, arr, color='grey', alpha=0.3)\n",
    "plt.xlabel('Episode')\n",
    "plt.ylabel('Average losses')"
   ]
  },
  {
   "cell_type": "markdown",
   "metadata": {},
   "source": [
    "## Testing\n",
    "\n",
    "Let's checkout how our trained agent plays the game."
   ]
  },
  {
   "cell_type": "code",
   "execution_count": 24,
   "metadata": {},
   "outputs": [
    {
     "name": "stdout",
     "output_type": "stream",
     "text": [
      "INFO:tensorflow:Restoring parameters from checkpoints/model.ckpt\n",
      "total_reward:500.0\n",
      "total_reward:500.0\n",
      "total_reward:500.0\n",
      "total_reward:500.0\n",
      "total_reward:500.0\n",
      "total_reward:500.0\n",
      "total_reward:500.0\n",
      "total_reward:500.0\n",
      "total_reward:500.0\n",
      "total_reward:500.0\n"
     ]
    }
   ],
   "source": [
    "import gym\n",
    "env = gym.make('CartPole-v0')\n",
    "env = gym.make('CartPole-v1')\n",
    "\n",
    "with tf.Session(graph=graph) as sess:\n",
    "    sess.run(tf.global_variables_initializer())\n",
    "    #saver.restore(sess, 'checkpoints/model.ckpt')    \n",
    "    saver.restore(sess, tf.train.latest_checkpoint('checkpoints'))\n",
    "    \n",
    "    # Episode/epoch\n",
    "    for _ in range(10):\n",
    "        total_reward = 0\n",
    "        state = env.reset()\n",
    "        initial_state = sess.run(model.initial_state) # Qs or current batch or states[:-1]\n",
    "        \n",
    "        # Steps/batches\n",
    "        while True:\n",
    "            env.render()\n",
    "            action_logits, initial_state = sess.run([model.actions_logits, model.final_state],\n",
    "                                                    feed_dict = {model.states: state.reshape([1, -1]), \n",
    "                                                                 model.initial_state: initial_state})\n",
    "            action = np.argmax(action_logits)\n",
    "            state, reward, done, _ = env.step(action)\n",
    "            total_reward += reward\n",
    "            if done:\n",
    "                break\n",
    "        # At the end of each episode\n",
    "        print('total_reward:{}'.format(total_reward))\n",
    "\n",
    "# Close the env\n",
    "env.close()"
   ]
  },
  {
   "cell_type": "markdown",
   "metadata": {},
   "source": [
    "## Extending this\n",
    "\n",
    "So, Cart-Pole is a pretty simple game. However, the same model can be used to train an agent to play something much more complicated like Pong or Space Invaders. Instead of a state like we're using here though, you'd want to use convolutional layers to get the state from the screen images.\n",
    "\n",
    "![Deep Q-Learning Atari](assets/atari-network.png)\n",
    "\n",
    "I'll leave it as a challenge for you to use deep Q-learning to train an agent to play Atari games. Here's the original paper which will get you started: http://www.davidqiu.com:8888/research/nature14236.pdf."
   ]
  },
  {
   "cell_type": "code",
   "execution_count": null,
   "metadata": {},
   "outputs": [],
   "source": []
  }
 ],
 "metadata": {
  "kernelspec": {
   "display_name": "Python 3",
   "language": "python",
   "name": "python3"
  },
  "language_info": {
   "codemirror_mode": {
    "name": "ipython",
    "version": 3
   },
   "file_extension": ".py",
   "mimetype": "text/x-python",
   "name": "python",
   "nbconvert_exporter": "python",
   "pygments_lexer": "ipython3",
   "version": "3.6.8"
  }
 },
 "nbformat": 4,
 "nbformat_minor": 2
}
