{
 "cells": [
  {
   "cell_type": "markdown",
   "metadata": {},
   "source": [
    "# Deep Q-learning (DQL) or Deep Q-network (DQN)\n",
    "\n",
    "In this notebook, we'll build a neural network that can learn to play games through reinforcement learning. More specifically, we'll use Q-learning to train an agent to play a game called [Cart-Pole](https://gym.openai.com/envs/CartPole-v0). In this game, a freely swinging pole is attached to a cart. The cart can move to the left and right, and the goal is to keep the pole upright as long as possible.\n",
    "\n",
    "![Cart-Pole](assets/cart-pole.jpg)\n",
    "\n",
    "We can simulate this game using [OpenAI Gym](https://gym.openai.com/). First, let's check out how OpenAI Gym works. Then, we'll get into training an agent to play the Cart-Pole game."
   ]
  },
  {
   "cell_type": "code",
   "execution_count": 1,
   "metadata": {},
   "outputs": [],
   "source": [
    "import numpy as np"
   ]
  },
  {
   "cell_type": "code",
   "execution_count": 2,
   "metadata": {},
   "outputs": [
    {
     "name": "stdout",
     "output_type": "stream",
     "text": [
      "TensorFlow Version: 1.12.0\n",
      "Default GPU Device: /device:GPU:0\n"
     ]
    }
   ],
   "source": [
    "import tensorflow as tf\n",
    "print('TensorFlow Version: {}'.format(tf.__version__))\n",
    "print('Default GPU Device: {}'.format(tf.test.gpu_device_name()))"
   ]
  },
  {
   "cell_type": "markdown",
   "metadata": {},
   "source": [
    ">**Note:** Make sure you have OpenAI Gym cloned into the same directory with this notebook. I've included `gym` as a submodule, so you can run `git submodule --init --recursive` to pull the contents into the `gym` repo."
   ]
  },
  {
   "cell_type": "markdown",
   "metadata": {},
   "source": [
    ">**Note:** Make sure you have OpenAI Gym cloned. Then run this command `pip install -e gym/[all]`."
   ]
  },
  {
   "cell_type": "code",
   "execution_count": 3,
   "metadata": {},
   "outputs": [],
   "source": [
    "import gym\n",
    "\n",
    "## Create the Cart-Pole game environment\n",
    "# env = gym.make('CartPole-v0') # 200 total reward as goal\n",
    "env = gym.make('CartPole-v1') # 500 total reward as goal"
   ]
  },
  {
   "cell_type": "markdown",
   "metadata": {},
   "source": [
    "We interact with the simulation through `env`. To show the simulation running, you can use `env.render()` to render one frame. Passing in an action as an integer to `env.step` will generate the next step in the simulation.  You can see how many actions are possible from `env.action_space` and to get a random action you can use `env.action_space.sample()`. This is general to all Gym games. In the Cart-Pole game, there are two possible actions, moving the cart left or right. So there are two actions we can take, encoded as 0 and 1.\n",
    "\n",
    "Run the code below to watch the simulation run."
   ]
  },
  {
   "cell_type": "code",
   "execution_count": 4,
   "metadata": {},
   "outputs": [],
   "source": [
    "# env.reset()\n",
    "# batch = []\n",
    "# for _ in range(1000):\n",
    "#     # env.render()\n",
    "#     action = env.action_space.sample()\n",
    "#     state, reward, done, info = env.step(action) # take a random action\n",
    "#     batch.append([action, state, reward, done, info])\n",
    "#     #print('state, action, reward, done, info:', state, action, reward, done, info)\n",
    "#     if done:\n",
    "#         env.reset()"
   ]
  },
  {
   "cell_type": "markdown",
   "metadata": {},
   "source": [
    "To shut the window showing the simulation, use `env.close()`."
   ]
  },
  {
   "cell_type": "markdown",
   "metadata": {},
   "source": [
    "If you ran the simulation above, we can look at the rewards:"
   ]
  },
  {
   "cell_type": "code",
   "execution_count": 5,
   "metadata": {},
   "outputs": [],
   "source": [
    "# batch[0], batch[0][1].shape"
   ]
  },
  {
   "cell_type": "code",
   "execution_count": 6,
   "metadata": {},
   "outputs": [],
   "source": [
    "# actions = np.array([each[0] for each in batch])\n",
    "# states = np.array([each[1] for each in batch])\n",
    "# rewards = np.array([each[2] for each in batch])\n",
    "# dones = np.array([each[3] for each in batch])\n",
    "# infos = np.array([each[4] for each in batch])"
   ]
  },
  {
   "cell_type": "code",
   "execution_count": 7,
   "metadata": {},
   "outputs": [],
   "source": [
    "# print(rewards[-20:])\n",
    "# print(np.array(rewards).shape, np.array(states).shape, np.array(actions).shape, np.array(dones).shape)\n",
    "# print(np.array(rewards).dtype, np.array(states).dtype, np.array(actions).dtype, np.array(dones).dtype)\n",
    "# print(np.max(np.array(actions)), np.min(np.array(actions)))\n",
    "# print((np.max(np.array(actions)) - np.min(np.array(actions)))+1)\n",
    "# print(np.max(np.array(rewards)), np.min(np.array(rewards)))\n",
    "# print(np.max(np.array(states)), np.min(np.array(states)))"
   ]
  },
  {
   "cell_type": "markdown",
   "metadata": {},
   "source": [
    "The game resets after the pole has fallen past a certain angle. For each frame while the simulation is running, it returns a reward of 1.0. The longer the game runs, the more reward we get. Then, our network's goal is to maximize the reward by keeping the pole vertical. It will do this by moving the cart to the left and the right."
   ]
  },
  {
   "cell_type": "markdown",
   "metadata": {},
   "source": [
    "## Q-Network\n",
    "\n",
    "We train our Q-learning agent using the Bellman Equation:\n",
    "\n",
    "$$\n",
    "Q(s, a) = r + \\gamma \\max{Q(s', a')}\n",
    "$$\n",
    "\n",
    "where $s$ is a state, $a$ is an action, and $s'$ is the next state from state $s$ and action $a$.\n",
    "\n",
    "Before we used this equation to learn values for a Q-_table_. However, for this game there are a huge number of states available. The state has four values: the position and velocity of the cart, and the position and velocity of the pole. These are all real-valued numbers, so ignoring floating point precisions, you practically have infinite states. Instead of using a table then, we'll replace it with a neural network that will approximate the Q-table lookup function.\n",
    "\n",
    "<img src=\"assets/deep-q-learning.png\" width=450px>\n",
    "\n",
    "Now, our Q value, $Q(s, a)$ is calculated by passing in a state to the network. The output will be Q-values for each available action, with fully connected hidden layers.\n",
    "\n",
    "<img src=\"assets/q-network.png\" width=550px>\n",
    "\n",
    "\n",
    "As I showed before, we can define our targets for training as $\\hat{Q}(s,a) = r + \\gamma \\max{Q(s', a')}$. Then we update the weights by minimizing $(\\hat{Q}(s,a) - Q(s,a))^2$. \n",
    "\n",
    "For this Cart-Pole game, we have four inputs, one for each value in the state, and two outputs, one for each action. To get $\\hat{Q}$, we'll first choose an action, then simulate the game using that action. This will get us the next state, $s'$, and the reward. With that, we can calculate $\\hat{Q}$ then pass it back into the $Q$ network to run the optimizer and update the weights.\n",
    "\n",
    "Below is my implementation of the Q-network. I used two fully connected layers with ReLU activations. Two seems to be good enough, three might be better. Feel free to try it out."
   ]
  },
  {
   "cell_type": "code",
   "execution_count": 8,
   "metadata": {},
   "outputs": [],
   "source": [
    "def model_input(state_size, action_size):\n",
    "    actions = tf.placeholder(tf.int32, [None], name='actions')\n",
    "    actions_logits = tf.placeholder(tf.float32, [None, action_size], name='actions_logits')\n",
    "    states = tf.placeholder(tf.float32, [None, state_size], name='states')\n",
    "    next_states = tf.placeholder(tf.float32, [None, state_size], name='next_states')\n",
    "    targetQs = tf.placeholder(tf.float32, [None], name='targetQs')\n",
    "    is_training = tf.placeholder(tf.bool, name='is_training')\n",
    "    return actions, actions_logits, states, next_states, targetQs, is_training"
   ]
  },
  {
   "cell_type": "code",
   "execution_count": 9,
   "metadata": {},
   "outputs": [],
   "source": [
    "def init_xavier(random_seed=1, dtype=tf.float32, uniform=False):\n",
    "    xavier = tf.contrib.layers.xavier_initializer(\n",
    "        dtype=dtype,\n",
    "        seed=tf.set_random_seed(random_seed), \n",
    "        uniform=uniform) # False: normal\n",
    "    return xavier"
   ]
  },
  {
   "cell_type": "code",
   "execution_count": 10,
   "metadata": {},
   "outputs": [],
   "source": [
    "def mlp(inputs, units, trainable=True):\n",
    "    outputs = tf.layers.dense(\n",
    "        inputs=inputs,\n",
    "        units=units,\n",
    "        activation=None,\n",
    "        use_bias=True,\n",
    "        kernel_initializer=init_xavier(), # Xavier with normal init\n",
    "        bias_initializer=tf.zeros_initializer(),\n",
    "        kernel_regularizer=None,\n",
    "        bias_regularizer=None,\n",
    "        activity_regularizer=None,\n",
    "        kernel_constraint=None,\n",
    "        bias_constraint=None,\n",
    "        trainable=trainable,\n",
    "        name=None,\n",
    "        reuse=None)\n",
    "    return outputs"
   ]
  },
  {
   "cell_type": "code",
   "execution_count": 11,
   "metadata": {},
   "outputs": [],
   "source": [
    "# tf.nn.leaky_relu(\n",
    "#     features,\n",
    "#     alpha=0.2,\n",
    "#     name=None\n",
    "# )\n",
    "def nl(inputs, alpha=0.2):\n",
    "    outputs = tf.maximum(alpha * inputs, inputs)\n",
    "    return outputs"
   ]
  },
  {
   "cell_type": "code",
   "execution_count": 12,
   "metadata": {},
   "outputs": [],
   "source": [
    "def bn(inputs, training=False):\n",
    "    outputs = tf.layers.batch_normalization(\n",
    "        inputs=inputs,\n",
    "        axis=-1,\n",
    "        momentum=0.99,\n",
    "        epsilon=0.001,\n",
    "        center=True,\n",
    "        scale=True,\n",
    "        beta_initializer=tf.zeros_initializer(),\n",
    "        gamma_initializer=tf.ones_initializer(),\n",
    "        moving_mean_initializer=tf.zeros_initializer(),\n",
    "        moving_variance_initializer=tf.ones_initializer(),\n",
    "        beta_regularizer=None,\n",
    "        gamma_regularizer=None,\n",
    "        beta_constraint=None,\n",
    "        gamma_constraint=None,\n",
    "        training=training,\n",
    "        trainable=True,\n",
    "        name=None,\n",
    "        reuse=None,\n",
    "        renorm=False,\n",
    "        renorm_clipping=None,\n",
    "        renorm_momentum=0.99,\n",
    "        fused=None,\n",
    "        virtual_batch_size=None,\n",
    "        adjustment=None)\n",
    "    return outputs"
   ]
  },
  {
   "cell_type": "code",
   "execution_count": 14,
   "metadata": {},
   "outputs": [],
   "source": [
    "# Critic\n",
    "def D(states, actions_logits, state_size, hidden_size, reuse=False, alpha=0.2, is_training=False):\n",
    "    with tf.variable_scope('D', reuse=reuse):\n",
    "        # First fully connected layer\n",
    "        h = mlp(inputs=states, units=hidden_size)\n",
    "        h = bn(inputs=h, training=is_training)\n",
    "        h = nl(h)\n",
    "        print(states.shape, h.shape)\n",
    "        \n",
    "        # Second fully connected layer\n",
    "        h = tf.concat([h, actions_logits], axis=1)\n",
    "        h = mlp(inputs=h, units=hidden_size)\n",
    "        h = bn(inputs=h, training=is_training)\n",
    "        h = nl(h)\n",
    "        print(h.shape)\n",
    "        \n",
    "        # Output layer\n",
    "        Qvalues_ = mlp(inputs=h, units=1)\n",
    "        return Qvalues_"
   ]
  },
  {
   "cell_type": "code",
   "execution_count": 18,
   "metadata": {},
   "outputs": [],
   "source": [
    "# Actor\n",
    "def G(states, action_size, hidden_size, reuse=False, alpha=0.2, is_training=False):\n",
    "    with tf.variable_scope('G', reuse=reuse):\n",
    "        # First fully connected layer\n",
    "        h = mlp(inputs=states, units=hidden_size)\n",
    "        h = bn(inputs=h, training=is_training)\n",
    "        h = nl(h)\n",
    "        print(states.shape, h.shape)\n",
    "        \n",
    "        # Second fully connected layer\n",
    "        h = mlp(inputs=h, units=hidden_size)\n",
    "        h = bn(inputs=h, training=is_training)\n",
    "        h = nl(h)\n",
    "        print(h.shape)\n",
    "        \n",
    "        # Output layer\n",
    "        actions_ = mlp(inputs=h, units=action_size)\n",
    "        return actions_"
   ]
  },
  {
   "cell_type": "code",
   "execution_count": 19,
   "metadata": {},
   "outputs": [],
   "source": [
    "def model_loss(actions, actions_logits, states, next_states, targetQs, \n",
    "               state_size, action_size, hidden_size, \n",
    "               is_training=False):\n",
    "\n",
    "    Qvalues_ = D(states=states, actions_logits=actions_logits, hidden_size=hidden_size, \n",
    "                 state_size=state_size, is_training=is_training)\n",
    "    \n",
    "    Qs = tf.reshape(Qvalues_, [-1])\n",
    "    print('Qvalues_.shape, Qs.shape:', Qvalues_.shape, Qs.shape)\n",
    "    \n",
    "    #gloss = tf.reduce_mean(tf.reduce_sum((next_states - next_states_)**2, axis=1))\n",
    "\n",
    "    actions_logits_ = G(states=states, hidden_size=hidden_size, action_size=action_size, \n",
    "                        is_training=is_training)\n",
    "    \n",
    "    gQvalues_ = D(states=states, actions_logits=actions_logits_, hidden_size=hidden_size, \n",
    "                  state_size=state_size, is_training=is_training, reuse=True)\n",
    "    \n",
    "    gQs = tf.reshape(gQvalues_, [-1])\n",
    "    print('Qvalues_.shape, Qs.shape:', gQvalues_.shape, gQs.shape)\n",
    "    \n",
    "    dloss = tf.reduce_mean((Qs - targetQs)**2)\n",
    "    gloss = -tf.reduce_mean(gQs)\n",
    "    \n",
    "    return actions_logits_, gQvalues_, gloss, dloss"
   ]
  },
  {
   "cell_type": "code",
   "execution_count": 20,
   "metadata": {},
   "outputs": [],
   "source": [
    "def model_opt(gloss, dloss, learning_rate):\n",
    "    # Get weights and bias to update\n",
    "    t_vars = tf.trainable_variables()\n",
    "    g_vars = [var for var in t_vars if var.name.startswith('G')]\n",
    "    d_vars = [var for var in t_vars if var.name.startswith('D')]\n",
    "\n",
    "    # Optimize\n",
    "    with tf.control_dependencies(tf.get_collection(tf.GraphKeys.UPDATE_OPS)): # Required for batchnorm (BN)\n",
    "        g_opt = tf.train.AdamOptimizer(learning_rate).minimize(gloss, var_list=g_vars)\n",
    "        d_opt = tf.train.AdamOptimizer(learning_rate).minimize(dloss, var_list=d_vars)\n",
    "\n",
    "    return g_opt, d_opt"
   ]
  },
  {
   "cell_type": "code",
   "execution_count": 21,
   "metadata": {},
   "outputs": [],
   "source": [
    "class Model:\n",
    "    def __init__(self, state_size, action_size, hidden_size, learning_rate):\n",
    "\n",
    "        # Data of the Model: make the data available inside the framework\n",
    "        (self.actions, self.actions_logits, self.states, self.next_states, self.targetQs, \\\n",
    "         self.is_training) = model_input(state_size=state_size, action_size=action_size)\n",
    "\n",
    "        # Create the Model: calculating the loss and forwad pass\n",
    "        self.actions_logits_, self.gQvalues_, self.gloss, self.dloss = model_loss(\n",
    "            action_size=action_size, hidden_size=hidden_size, state_size=state_size,\n",
    "            states=self.states, next_states=self.next_states, \n",
    "            actions=self.actions, actions_logits=self.actions_logits,\n",
    "            targetQs=self.targetQs, is_training=self.is_training)\n",
    "\n",
    "        # Update the model: backward pass and backprop\n",
    "        self.g_opt, self.d_opt = model_opt(gloss=self.gloss, dloss=self.dloss, learning_rate=learning_rate)"
   ]
  },
  {
   "cell_type": "markdown",
   "metadata": {},
   "source": [
    "## Experience replay\n",
    "\n",
    "Reinforcement learning algorithms can have stability issues due to correlations between states. To reduce correlations when training, we can store the agent's experiences and later draw a random mini-batch of those experiences to train on. \n",
    "\n",
    "Here, we'll create a `Memory` object that will store our experiences, our transitions $<s, a, r, s'>$. This memory will have a maxmium capacity, so we can keep newer experiences in memory while getting rid of older experiences. Then, we'll sample a random mini-batch of transitions $<s, a, r, s'>$ and train on those.\n",
    "\n",
    "Below, I've implemented a `Memory` object. If you're unfamiliar with `deque`, this is a double-ended queue. You can think of it like a tube open on both sides. You can put objects in either side of the tube. But if it's full, adding anything more will push an object out the other side. This is a great data structure to use for the memory buffer."
   ]
  },
  {
   "cell_type": "code",
   "execution_count": 22,
   "metadata": {},
   "outputs": [],
   "source": [
    "from collections import deque\n",
    "class Memory():\n",
    "    def __init__(self, max_size = 1000):\n",
    "        self.buffer = deque(maxlen=max_size)\n",
    "    def sample(self, batch_size):\n",
    "        idx = np.random.choice(np.arange(len(self.buffer)), \n",
    "                               size=batch_size, \n",
    "                               replace=False)\n",
    "        return [self.buffer[ii] for ii in idx]"
   ]
  },
  {
   "cell_type": "markdown",
   "metadata": {},
   "source": [
    "## Exploration - Exploitation\n",
    "\n",
    "To learn about the environment and rules of the game, the agent needs to explore by taking random actions. We'll do this by choosing a random action with some probability $\\epsilon$ (epsilon).  That is, with some probability $\\epsilon$ the agent will make a random action and with probability $1 - \\epsilon$, the agent will choose an action from $Q(s,a)$. This is called an **$\\epsilon$-greedy policy**.\n",
    "\n",
    "\n",
    "At first, the agent needs to do a lot of exploring. Later when it has learned more, the agent can favor choosing actions based on what it has learned. This is called _exploitation_. We'll set it up so the agent is more likely to explore early in training, then more likely to exploit later in training."
   ]
  },
  {
   "cell_type": "markdown",
   "metadata": {},
   "source": [
    "## Q-Learning training algorithm\n",
    "\n",
    "Putting all this together, we can list out the algorithm we'll use to train the network. We'll train the network in _episodes_. One *episode* is one simulation of the game. For this game, the goal is to keep the pole upright for 195 frames. So we can start a new episode once meeting that goal. The game ends if the pole tilts over too far, or if the cart moves too far the left or right. When a game ends, we'll start a new episode. Now, to train the agent:\n",
    "\n",
    "* Initialize the memory $D$\n",
    "* Initialize the action-value network $Q$ with random weights\n",
    "* **For** episode = 1, $M$ **do**\n",
    "  * **For** $t$, $T$ **do**\n",
    "     * With probability $\\epsilon$ select a random action $a_t$, otherwise select $a_t = \\mathrm{argmax}_a Q(s,a)$\n",
    "     * Execute action $a_t$ in simulator and observe reward $r_{t+1}$ and new state $s_{t+1}$\n",
    "     * Store transition $<s_t, a_t, r_{t+1}, s_{t+1}>$ in memory $D$\n",
    "     * Sample random mini-batch from $D$: $<s_j, a_j, r_j, s'_j>$\n",
    "     * Set $\\hat{Q}_j = r_j$ if the episode ends at $j+1$, otherwise set $\\hat{Q}_j = r_j + \\gamma \\max_{a'}{Q(s'_j, a')}$\n",
    "     * Make a gradient descent step with loss $(\\hat{Q}_j - Q(s_j, a_j))^2$\n",
    "  * **endfor**\n",
    "* **endfor**"
   ]
  },
  {
   "cell_type": "markdown",
   "metadata": {},
   "source": [
    "## Hyperparameters\n",
    "\n",
    "One of the more difficult aspects of reinforcememt learning are the large number of hyperparameters. Not only are we tuning the network, but we're tuning the simulation."
   ]
  },
  {
   "cell_type": "code",
   "execution_count": 23,
   "metadata": {},
   "outputs": [],
   "source": [
    "# print('state size:{}'.format(states.shape), \n",
    "#       'actions:{}'.format(actions.shape)) \n",
    "# print('action size:', np.max(actions) - np.min(actions)+1)"
   ]
  },
  {
   "cell_type": "code",
   "execution_count": 24,
   "metadata": {},
   "outputs": [],
   "source": [
    "# Network parameters\n",
    "action_size = 2\n",
    "state_size = 4\n",
    "hidden_size = 64               # number of units in each Q-network hidden layer\n",
    "learning_rate = 1e-04         # Q-network learning rate\n",
    "\n",
    "# Memory parameters\n",
    "memory_size = int(1e6)            # memory capacity\n",
    "batch_size = 1024             # experience mini-batch size\n",
    "gamma = 0.99                 # future reward discount"
   ]
  },
  {
   "cell_type": "code",
   "execution_count": 25,
   "metadata": {},
   "outputs": [
    {
     "name": "stdout",
     "output_type": "stream",
     "text": [
      "(?, 4) (?, 64)\n",
      "(?, 64)\n",
      "Qvalues_.shape, Qs.shape: (?, 1) (?,)\n",
      "(?, 4) (?, 64)\n",
      "(?, 64)\n",
      "(?, 4) (?, 64)\n",
      "(?, 64)\n",
      "Qvalues_.shape, Qs.shape: (?, 1) (?,)\n"
     ]
    }
   ],
   "source": [
    "# Reset/init the graph/session\n",
    "graph = tf.reset_default_graph()\n",
    "\n",
    "# Init the model\n",
    "model = Model(action_size=action_size, hidden_size=hidden_size, state_size=state_size, \n",
    "              learning_rate=learning_rate)\n",
    "\n",
    "# Init the memory\n",
    "memory = Memory(max_size=memory_size)"
   ]
  },
  {
   "cell_type": "markdown",
   "metadata": {},
   "source": [
    "## Populate the memory (exprience memory)\n",
    "\n",
    "Here I'm re-initializing the simulation and pre-populating the memory. The agent is taking random actions and storing the transitions in memory. This will help the agent with exploring the game."
   ]
  },
  {
   "cell_type": "code",
   "execution_count": 26,
   "metadata": {},
   "outputs": [],
   "source": [
    "# state = env.reset()\n",
    "\n",
    "# for _ in range(memory_size):\n",
    "    \n",
    "#     action = env.action_space.sample()\n",
    "    \n",
    "#     next_state, reward, done, _ = env.step(action)\n",
    "    \n",
    "#     memory.buffer.append([state, action, next_state, reward, float(done)])\n",
    "    \n",
    "#     state = next_state\n",
    "    \n",
    "#     if done is True:\n",
    "#         state = env.reset()"
   ]
  },
  {
   "cell_type": "markdown",
   "metadata": {},
   "source": [
    "## Training the model\n",
    "\n",
    "Below we'll train our agent. If you want to watch it train, uncomment the `env.render()` line. This is slow because it's rendering the frames slower than the network can train. But, it's cool to watch the agent get better at the game."
   ]
  },
  {
   "cell_type": "code",
   "execution_count": 27,
   "metadata": {},
   "outputs": [
    {
     "data": {
      "text/plain": [
       "<tf.Tensor 'D_1/dense_2/BiasAdd:0' shape=(?, 1) dtype=float32>"
      ]
     },
     "execution_count": 27,
     "metadata": {},
     "output_type": "execute_result"
    }
   ],
   "source": [
    "model.gQvalues_"
   ]
  },
  {
   "cell_type": "code",
   "execution_count": 28,
   "metadata": {},
   "outputs": [],
   "source": [
    "def learn(sess, memory, batch_size):\n",
    "    \n",
    "    batch = memory.sample(batch_size)\n",
    "    states = np.array([each[0] for each in batch])\n",
    "    actions = np.array([each[1] for each in batch])\n",
    "    next_states = np.array([each[2] for each in batch])\n",
    "    rewards = np.array([each[3] for each in batch])\n",
    "    dones = np.array([each[4] for each in batch])\n",
    "    actions_logits = np.array([each[5] for each in batch])\n",
    "    \n",
    "    nextQvalues_ = sess.run(model.gQvalues_, feed_dict = {model.states: next_states,\n",
    "                                                          model.is_training: False})\n",
    "    \n",
    "    #nextQs = np.max(next_actions_logits_, axis=1) * (1-dones)\n",
    "    nextQs = nextQvalues_.reshape(-1) * (1-dones)\n",
    "    \n",
    "    targetQs = rewards + (gamma * nextQs)\n",
    "    \n",
    "    feed_dict = {model.states: states, model.actions: actions, model.actions_logits: actions_logits,\n",
    "                 model.next_states: next_states, model.targetQs: targetQs, model.is_training: True}\n",
    "    \n",
    "    dloss, _ = sess.run([model.dloss, model.d_opt], feed_dict)\n",
    "    gloss, _ = sess.run([model.gloss, model.g_opt], feed_dict)\n",
    "                                                             \n",
    "    return gloss, dloss"
   ]
  },
  {
   "cell_type": "code",
   "execution_count": 29,
   "metadata": {},
   "outputs": [],
   "source": [
    "# def env_(sess, state, action_logits):\n",
    "    \n",
    "#     next_state_ = sess.run(model.next_states_, feed_dict={\n",
    "#         model.states: state.reshape([1, -1]), \n",
    "#         model.actions_logits: action_logits.reshape([1, -1]),\n",
    "#         model.is_training: False})\n",
    "    \n",
    "#     return next_state_.reshape(-1)"
   ]
  },
  {
   "cell_type": "code",
   "execution_count": 30,
   "metadata": {},
   "outputs": [],
   "source": [
    "def act(sess, state):\n",
    "    \n",
    "    action_logits_ = sess.run(model.actions_logits_, feed_dict={model.states: state.reshape([1, -1]), \n",
    "                                                                model.is_training: False})\n",
    "    \n",
    "    action = np.argmax(action_logits_, axis=1)[0]\n",
    "    #print(action)\n",
    "    \n",
    "    return action, action_logits_.reshape(-1)"
   ]
  },
  {
   "cell_type": "code",
   "execution_count": 31,
   "metadata": {},
   "outputs": [],
   "source": [
    "# l = []\n",
    "# l.append([0, 1])"
   ]
  },
  {
   "cell_type": "code",
   "execution_count": 32,
   "metadata": {},
   "outputs": [],
   "source": [
    "# l[0][0]"
   ]
  },
  {
   "cell_type": "code",
   "execution_count": null,
   "metadata": {},
   "outputs": [
    {
     "name": "stdout",
     "output_type": "stream",
     "text": [
      "len(memory.buffer) >= batch_size: 9 1024\n",
      "len(memory.buffer) >= batch_size: 18 1024\n",
      "len(memory.buffer) >= batch_size: 28 1024\n",
      "len(memory.buffer) >= batch_size: 38 1024\n",
      "len(memory.buffer) >= batch_size: 48 1024\n",
      "len(memory.buffer) >= batch_size: 57 1024\n",
      "len(memory.buffer) >= batch_size: 67 1024\n",
      "len(memory.buffer) >= batch_size: 77 1024\n",
      "len(memory.buffer) >= batch_size: 87 1024\n",
      "len(memory.buffer) >= batch_size: 97 1024\n",
      "len(memory.buffer) >= batch_size: 106 1024\n",
      "len(memory.buffer) >= batch_size: 114 1024\n",
      "len(memory.buffer) >= batch_size: 124 1024\n",
      "len(memory.buffer) >= batch_size: 134 1024\n",
      "len(memory.buffer) >= batch_size: 143 1024\n",
      "len(memory.buffer) >= batch_size: 151 1024\n",
      "len(memory.buffer) >= batch_size: 165 1024\n",
      "len(memory.buffer) >= batch_size: 174 1024\n",
      "len(memory.buffer) >= batch_size: 183 1024\n",
      "len(memory.buffer) >= batch_size: 191 1024\n",
      "len(memory.buffer) >= batch_size: 200 1024\n",
      "len(memory.buffer) >= batch_size: 209 1024\n",
      "len(memory.buffer) >= batch_size: 217 1024\n",
      "len(memory.buffer) >= batch_size: 226 1024\n",
      "len(memory.buffer) >= batch_size: 236 1024\n",
      "len(memory.buffer) >= batch_size: 245 1024\n",
      "len(memory.buffer) >= batch_size: 257 1024\n",
      "len(memory.buffer) >= batch_size: 267 1024\n",
      "len(memory.buffer) >= batch_size: 277 1024\n",
      "len(memory.buffer) >= batch_size: 286 1024\n",
      "len(memory.buffer) >= batch_size: 295 1024\n",
      "len(memory.buffer) >= batch_size: 304 1024\n",
      "len(memory.buffer) >= batch_size: 313 1024\n",
      "len(memory.buffer) >= batch_size: 323 1024\n",
      "len(memory.buffer) >= batch_size: 333 1024\n",
      "len(memory.buffer) >= batch_size: 343 1024\n",
      "len(memory.buffer) >= batch_size: 354 1024\n",
      "len(memory.buffer) >= batch_size: 362 1024\n",
      "len(memory.buffer) >= batch_size: 371 1024\n",
      "len(memory.buffer) >= batch_size: 380 1024\n",
      "len(memory.buffer) >= batch_size: 390 1024\n",
      "len(memory.buffer) >= batch_size: 400 1024\n",
      "len(memory.buffer) >= batch_size: 409 1024\n",
      "len(memory.buffer) >= batch_size: 417 1024\n",
      "len(memory.buffer) >= batch_size: 426 1024\n",
      "len(memory.buffer) >= batch_size: 436 1024\n",
      "len(memory.buffer) >= batch_size: 444 1024\n",
      "len(memory.buffer) >= batch_size: 454 1024\n",
      "len(memory.buffer) >= batch_size: 464 1024\n",
      "len(memory.buffer) >= batch_size: 474 1024\n",
      "len(memory.buffer) >= batch_size: 483 1024\n",
      "len(memory.buffer) >= batch_size: 491 1024\n",
      "len(memory.buffer) >= batch_size: 506 1024\n",
      "len(memory.buffer) >= batch_size: 515 1024\n",
      "len(memory.buffer) >= batch_size: 524 1024\n",
      "len(memory.buffer) >= batch_size: 533 1024\n",
      "len(memory.buffer) >= batch_size: 543 1024\n",
      "len(memory.buffer) >= batch_size: 552 1024\n",
      "len(memory.buffer) >= batch_size: 561 1024\n",
      "len(memory.buffer) >= batch_size: 570 1024\n",
      "len(memory.buffer) >= batch_size: 579 1024\n",
      "len(memory.buffer) >= batch_size: 588 1024\n",
      "len(memory.buffer) >= batch_size: 597 1024\n",
      "len(memory.buffer) >= batch_size: 606 1024\n",
      "len(memory.buffer) >= batch_size: 615 1024\n",
      "len(memory.buffer) >= batch_size: 625 1024\n",
      "len(memory.buffer) >= batch_size: 633 1024\n",
      "len(memory.buffer) >= batch_size: 642 1024\n",
      "len(memory.buffer) >= batch_size: 652 1024\n",
      "len(memory.buffer) >= batch_size: 661 1024\n",
      "len(memory.buffer) >= batch_size: 670 1024\n",
      "len(memory.buffer) >= batch_size: 680 1024\n",
      "len(memory.buffer) >= batch_size: 689 1024\n",
      "len(memory.buffer) >= batch_size: 699 1024\n",
      "len(memory.buffer) >= batch_size: 709 1024\n",
      "len(memory.buffer) >= batch_size: 719 1024\n",
      "len(memory.buffer) >= batch_size: 728 1024\n",
      "len(memory.buffer) >= batch_size: 738 1024\n",
      "len(memory.buffer) >= batch_size: 747 1024\n",
      "len(memory.buffer) >= batch_size: 755 1024\n",
      "len(memory.buffer) >= batch_size: 764 1024\n",
      "len(memory.buffer) >= batch_size: 774 1024\n",
      "len(memory.buffer) >= batch_size: 784 1024\n",
      "len(memory.buffer) >= batch_size: 792 1024\n",
      "len(memory.buffer) >= batch_size: 801 1024\n",
      "len(memory.buffer) >= batch_size: 810 1024\n",
      "len(memory.buffer) >= batch_size: 819 1024\n",
      "len(memory.buffer) >= batch_size: 827 1024\n",
      "len(memory.buffer) >= batch_size: 836 1024\n",
      "len(memory.buffer) >= batch_size: 846 1024\n",
      "len(memory.buffer) >= batch_size: 856 1024\n",
      "len(memory.buffer) >= batch_size: 866 1024\n",
      "len(memory.buffer) >= batch_size: 876 1024\n",
      "len(memory.buffer) >= batch_size: 884 1024\n",
      "len(memory.buffer) >= batch_size: 894 1024\n",
      "len(memory.buffer) >= batch_size: 903 1024\n",
      "len(memory.buffer) >= batch_size: 911 1024\n",
      "len(memory.buffer) >= batch_size: 920 1024\n",
      "len(memory.buffer) >= batch_size: 930 1024\n",
      "len(memory.buffer) >= batch_size: 940 1024\n",
      "len(memory.buffer) >= batch_size: 949 1024\n",
      "len(memory.buffer) >= batch_size: 959 1024\n",
      "len(memory.buffer) >= batch_size: 969 1024\n",
      "len(memory.buffer) >= batch_size: 979 1024\n",
      "len(memory.buffer) >= batch_size: 989 1024\n",
      "len(memory.buffer) >= batch_size: 998 1024\n",
      "len(memory.buffer) >= batch_size: 1007 1024\n",
      "len(memory.buffer) >= batch_size: 1017 1024\n",
      "Episode:108 meanR:10.0000 R:10.0 gloss:0.3074 dloss:2.7730\n",
      "Episode:109 meanR:20.0000 R:30.0 gloss:0.2169 dloss:1.5749\n",
      "Episode:110 meanR:17.0000 R:11.0 gloss:0.0738 dloss:0.7535\n",
      "Episode:111 meanR:15.2500 R:10.0 gloss:0.0168 dloss:0.6037\n",
      "Episode:112 meanR:14.2000 R:10.0 gloss:-0.0252 dloss:0.5267\n",
      "Episode:113 meanR:14.0000 R:13.0 gloss:-0.0727 dloss:0.4761\n",
      "Episode:114 meanR:16.2857 R:30.0 gloss:-0.1577 dloss:0.4064\n",
      "Episode:115 meanR:15.5000 R:10.0 gloss:-0.2407 dloss:0.3984\n",
      "Episode:116 meanR:15.1111 R:12.0 gloss:-0.2806 dloss:0.4209\n",
      "Episode:117 meanR:14.9000 R:13.0 gloss:-0.3246 dloss:0.4621\n",
      "Episode:118 meanR:14.4545 R:10.0 gloss:-0.3612 dloss:0.5176\n",
      "Episode:119 meanR:14.0833 R:10.0 gloss:-0.3988 dloss:0.5650\n",
      "Episode:120 meanR:14.1538 R:15.0 gloss:-0.4427 dloss:0.6152\n",
      "Episode:121 meanR:13.9286 R:11.0 gloss:-0.4919 dloss:0.6218\n",
      "Episode:122 meanR:14.0667 R:16.0 gloss:-0.5607 dloss:0.7271\n",
      "Episode:123 meanR:13.9375 R:12.0 gloss:-0.6316 dloss:0.8009\n",
      "Episode:124 meanR:13.8235 R:12.0 gloss:-0.6865 dloss:0.8430\n",
      "Episode:125 meanR:13.7778 R:13.0 gloss:-0.7384 dloss:0.8811\n",
      "Episode:126 meanR:13.6842 R:12.0 gloss:-0.7810 dloss:0.8818\n",
      "Episode:127 meanR:13.6500 R:13.0 gloss:-0.8284 dloss:0.8525\n",
      "Episode:128 meanR:13.6190 R:13.0 gloss:-0.8828 dloss:0.8679\n",
      "Episode:129 meanR:13.7727 R:17.0 gloss:-0.9260 dloss:0.9428\n",
      "Episode:130 meanR:13.7826 R:14.0 gloss:-0.9870 dloss:0.9279\n",
      "Episode:131 meanR:13.7500 R:13.0 gloss:-1.0305 dloss:0.9358\n",
      "Episode:132 meanR:13.6000 R:10.0 gloss:-1.0757 dloss:0.9415\n",
      "Episode:133 meanR:13.4615 R:10.0 gloss:-1.1051 dloss:1.0527\n",
      "Episode:134 meanR:13.3704 R:11.0 gloss:-1.1456 dloss:0.9478\n",
      "Episode:135 meanR:13.2500 R:10.0 gloss:-1.1788 dloss:0.9753\n",
      "Episode:136 meanR:13.1379 R:10.0 gloss:-1.2186 dloss:0.8678\n",
      "Episode:137 meanR:12.9667 R:8.0 gloss:-1.2496 dloss:0.8557\n",
      "Episode:138 meanR:12.8710 R:10.0 gloss:-1.2858 dloss:0.8492\n",
      "Episode:139 meanR:12.7812 R:10.0 gloss:-1.3181 dloss:0.8492\n",
      "Episode:140 meanR:12.7576 R:12.0 gloss:-1.3526 dloss:0.8043\n",
      "Episode:141 meanR:12.6765 R:10.0 gloss:-1.3865 dloss:0.7012\n",
      "Episode:142 meanR:12.5714 R:9.0 gloss:-1.4229 dloss:0.6955\n",
      "Episode:143 meanR:12.6111 R:14.0 gloss:-1.4627 dloss:0.7000\n",
      "Episode:144 meanR:12.5405 R:10.0 gloss:-1.4951 dloss:0.7170\n",
      "Episode:145 meanR:12.4737 R:10.0 gloss:-1.5238 dloss:0.7051\n",
      "Episode:146 meanR:12.4103 R:10.0 gloss:-1.5636 dloss:0.7185\n",
      "Episode:147 meanR:12.3250 R:9.0 gloss:-1.6049 dloss:0.7181\n",
      "Episode:148 meanR:12.2195 R:8.0 gloss:-1.6206 dloss:0.7759\n",
      "Episode:149 meanR:12.1667 R:10.0 gloss:-1.6707 dloss:0.7587\n",
      "Episode:150 meanR:12.1163 R:10.0 gloss:-1.7130 dloss:0.6980\n",
      "Episode:151 meanR:12.0227 R:8.0 gloss:-1.7257 dloss:0.7265\n",
      "Episode:152 meanR:11.9556 R:9.0 gloss:-1.7617 dloss:0.7835\n",
      "Episode:153 meanR:11.9130 R:10.0 gloss:-1.7949 dloss:0.6815\n",
      "Episode:154 meanR:11.9574 R:14.0 gloss:-1.8479 dloss:0.6841\n",
      "Episode:155 meanR:12.0000 R:14.0 gloss:-1.8744 dloss:0.7353\n",
      "Episode:156 meanR:11.9592 R:10.0 gloss:-1.9211 dloss:0.6567\n",
      "Episode:157 meanR:11.9400 R:11.0 gloss:-1.9592 dloss:0.6793\n",
      "Episode:158 meanR:11.8824 R:9.0 gloss:-1.9923 dloss:0.7917\n",
      "Episode:159 meanR:11.8462 R:10.0 gloss:-2.0066 dloss:0.6147\n",
      "Episode:160 meanR:11.7925 R:9.0 gloss:-2.0445 dloss:0.7679\n",
      "Episode:161 meanR:11.7593 R:10.0 gloss:-2.0676 dloss:0.6302\n",
      "Episode:162 meanR:11.7273 R:10.0 gloss:-2.1065 dloss:0.6266\n",
      "Episode:163 meanR:11.6786 R:9.0 gloss:-2.1351 dloss:0.7660\n",
      "Episode:164 meanR:11.6316 R:9.0 gloss:-2.1637 dloss:0.5843\n",
      "Episode:165 meanR:11.6207 R:11.0 gloss:-2.1944 dloss:0.7117\n",
      "Episode:166 meanR:11.5932 R:10.0 gloss:-2.2366 dloss:0.6832\n",
      "Episode:167 meanR:11.5500 R:9.0 gloss:-2.2351 dloss:0.5230\n"
     ]
    },
    {
     "name": "stdout",
     "output_type": "stream",
     "text": [
      "Episode:168 meanR:11.5246 R:10.0 gloss:-2.2800 dloss:1.0268\n",
      "Episode:169 meanR:11.5000 R:10.0 gloss:-2.3155 dloss:0.6442\n",
      "Episode:170 meanR:11.4762 R:10.0 gloss:-2.3164 dloss:0.5485\n",
      "Episode:171 meanR:11.4531 R:10.0 gloss:-2.3584 dloss:1.1065\n",
      "Episode:172 meanR:11.4154 R:9.0 gloss:-2.4079 dloss:0.9967\n",
      "Episode:173 meanR:11.3939 R:10.0 gloss:-2.4097 dloss:0.4786\n",
      "Episode:174 meanR:11.3731 R:10.0 gloss:-2.3999 dloss:0.6714\n",
      "Episode:175 meanR:11.3529 R:10.0 gloss:-2.4668 dloss:1.4253\n",
      "Episode:176 meanR:11.3188 R:9.0 gloss:-2.4971 dloss:1.4587\n",
      "Episode:177 meanR:11.3000 R:10.0 gloss:-2.5321 dloss:0.5312\n",
      "Episode:178 meanR:11.2958 R:11.0 gloss:-2.5492 dloss:0.4013\n",
      "Episode:179 meanR:11.2778 R:10.0 gloss:-2.5811 dloss:0.6086\n",
      "Episode:180 meanR:11.2877 R:12.0 gloss:-2.6124 dloss:1.1243\n",
      "Episode:181 meanR:11.2703 R:10.0 gloss:-2.6568 dloss:0.7817\n",
      "Episode:182 meanR:11.2533 R:10.0 gloss:-2.6721 dloss:0.3712\n",
      "Episode:183 meanR:11.2500 R:11.0 gloss:-2.6928 dloss:0.4314\n",
      "Episode:184 meanR:11.2468 R:11.0 gloss:-2.7295 dloss:0.8036\n",
      "Episode:185 meanR:11.2692 R:13.0 gloss:-2.7743 dloss:0.9132\n",
      "Episode:186 meanR:11.2532 R:10.0 gloss:-2.7947 dloss:0.5912\n",
      "Episode:187 meanR:11.2375 R:10.0 gloss:-2.8253 dloss:0.6086\n",
      "Episode:188 meanR:11.2222 R:10.0 gloss:-2.8777 dloss:0.7009\n",
      "Episode:189 meanR:11.1951 R:9.0 gloss:-2.9094 dloss:0.6836\n",
      "Episode:190 meanR:11.1687 R:9.0 gloss:-2.9399 dloss:0.5654\n",
      "Episode:191 meanR:11.1429 R:9.0 gloss:-2.9719 dloss:0.5079\n",
      "Episode:192 meanR:11.1294 R:10.0 gloss:-2.9893 dloss:0.5219\n",
      "Episode:193 meanR:11.1047 R:9.0 gloss:-3.0166 dloss:0.6389\n",
      "Episode:194 meanR:11.0920 R:10.0 gloss:-3.0457 dloss:0.6009\n",
      "Episode:195 meanR:11.0568 R:8.0 gloss:-3.0712 dloss:0.5875\n",
      "Episode:196 meanR:11.0449 R:10.0 gloss:-3.1098 dloss:0.5687\n",
      "Episode:197 meanR:11.0111 R:8.0 gloss:-3.1390 dloss:0.5730\n",
      "Episode:198 meanR:11.0000 R:10.0 gloss:-3.1588 dloss:0.5857\n",
      "Episode:199 meanR:10.9891 R:10.0 gloss:-3.1754 dloss:0.5880\n",
      "Episode:200 meanR:10.9677 R:9.0 gloss:-3.2289 dloss:0.5174\n",
      "Episode:201 meanR:10.9574 R:10.0 gloss:-3.2502 dloss:0.4358\n",
      "Episode:202 meanR:10.9368 R:9.0 gloss:-3.2716 dloss:0.3936\n",
      "Episode:203 meanR:10.9271 R:10.0 gloss:-3.2892 dloss:0.4253\n",
      "Episode:204 meanR:10.9175 R:10.0 gloss:-3.3257 dloss:0.3994\n",
      "Episode:205 meanR:10.9082 R:10.0 gloss:-3.3383 dloss:0.3830\n",
      "Episode:206 meanR:10.8990 R:10.0 gloss:-3.3665 dloss:0.4584\n",
      "Episode:207 meanR:10.8800 R:9.0 gloss:-3.3953 dloss:0.4688\n",
      "Episode:208 meanR:10.8700 R:9.0 gloss:-3.4117 dloss:0.3866\n",
      "Episode:209 meanR:10.6700 R:10.0 gloss:-3.4470 dloss:0.3636\n",
      "Episode:210 meanR:10.6600 R:10.0 gloss:-3.4584 dloss:0.5855\n",
      "Episode:211 meanR:10.6600 R:10.0 gloss:-3.4935 dloss:0.6169\n",
      "Episode:212 meanR:10.6600 R:10.0 gloss:-3.5220 dloss:0.3708\n",
      "Episode:213 meanR:10.6300 R:10.0 gloss:-3.5438 dloss:0.3603\n",
      "Episode:214 meanR:10.4100 R:8.0 gloss:-3.5801 dloss:0.5247\n",
      "Episode:215 meanR:10.4000 R:9.0 gloss:-3.6186 dloss:0.4265\n",
      "Episode:216 meanR:10.3800 R:10.0 gloss:-3.6080 dloss:0.3909\n",
      "Episode:217 meanR:10.3500 R:10.0 gloss:-3.5873 dloss:0.5816\n",
      "Episode:218 meanR:10.3900 R:14.0 gloss:-3.6592 dloss:1.0831\n",
      "Episode:219 meanR:10.3900 R:10.0 gloss:-3.7069 dloss:0.5039\n",
      "Episode:220 meanR:10.3400 R:10.0 gloss:-3.6414 dloss:1.0699\n",
      "Episode:221 meanR:10.3400 R:11.0 gloss:-3.6032 dloss:0.8579\n",
      "Episode:222 meanR:10.2700 R:9.0 gloss:-3.6534 dloss:2.4540\n",
      "Episode:223 meanR:10.2700 R:12.0 gloss:-3.7587 dloss:1.4658\n",
      "Episode:224 meanR:10.2300 R:8.0 gloss:-3.8422 dloss:0.3593\n",
      "Episode:225 meanR:10.2000 R:10.0 gloss:-3.8464 dloss:0.4972\n",
      "Episode:226 meanR:10.1900 R:11.0 gloss:-3.8394 dloss:0.7768\n",
      "Episode:227 meanR:10.1600 R:10.0 gloss:-3.8086 dloss:0.5549\n",
      "Episode:228 meanR:10.1300 R:10.0 gloss:-3.8324 dloss:0.6200\n",
      "Episode:229 meanR:10.0500 R:9.0 gloss:-3.8747 dloss:0.6601\n",
      "Episode:230 meanR:10.0500 R:14.0 gloss:-3.9256 dloss:0.3798\n",
      "Episode:231 meanR:10.0300 R:11.0 gloss:-3.9342 dloss:0.5227\n",
      "Episode:232 meanR:10.0200 R:9.0 gloss:-3.9204 dloss:0.6746\n",
      "Episode:233 meanR:10.0000 R:8.0 gloss:-3.9090 dloss:0.5575\n",
      "Episode:234 meanR:9.9800 R:9.0 gloss:-3.9310 dloss:0.7878\n",
      "Episode:235 meanR:9.9700 R:9.0 gloss:-3.9869 dloss:0.9301\n",
      "Episode:236 meanR:9.9600 R:9.0 gloss:-4.0370 dloss:0.5682\n",
      "Episode:237 meanR:9.9800 R:10.0 gloss:-4.0468 dloss:0.4030\n",
      "Episode:238 meanR:9.9700 R:9.0 gloss:-4.0575 dloss:0.5814\n",
      "Episode:239 meanR:9.9600 R:9.0 gloss:-4.0385 dloss:0.5843\n",
      "Episode:240 meanR:9.9300 R:9.0 gloss:-4.0403 dloss:0.6661\n",
      "Episode:241 meanR:9.9200 R:9.0 gloss:-4.1085 dloss:0.7925\n",
      "Episode:242 meanR:9.9600 R:13.0 gloss:-4.1441 dloss:0.7350\n",
      "Episode:243 meanR:9.9500 R:13.0 gloss:-4.1653 dloss:0.5477\n",
      "Episode:244 meanR:9.9400 R:9.0 gloss:-4.1823 dloss:0.5339\n",
      "Episode:245 meanR:9.9500 R:11.0 gloss:-4.1918 dloss:0.5647\n",
      "Episode:246 meanR:9.9700 R:12.0 gloss:-4.2003 dloss:0.7070\n",
      "Episode:247 meanR:9.9600 R:8.0 gloss:-4.2286 dloss:0.9022\n",
      "Episode:248 meanR:9.9800 R:10.0 gloss:-4.2506 dloss:1.1626\n",
      "Episode:249 meanR:10.0200 R:14.0 gloss:-4.2914 dloss:1.2178\n",
      "Episode:250 meanR:10.0500 R:13.0 gloss:-4.3683 dloss:0.8412\n",
      "Episode:251 meanR:10.1200 R:15.0 gloss:-4.3635 dloss:0.8205\n",
      "Episode:252 meanR:10.1800 R:15.0 gloss:-4.3307 dloss:0.8909\n",
      "Episode:253 meanR:10.2200 R:14.0 gloss:-4.3971 dloss:0.7007\n",
      "Episode:254 meanR:10.2100 R:13.0 gloss:-4.4067 dloss:0.8132\n",
      "Episode:255 meanR:10.2000 R:13.0 gloss:-4.3835 dloss:1.2337\n",
      "Episode:256 meanR:10.2100 R:11.0 gloss:-4.3944 dloss:1.4909\n",
      "Episode:257 meanR:10.1900 R:9.0 gloss:-4.4458 dloss:1.5994\n",
      "Episode:258 meanR:10.1800 R:8.0 gloss:-4.5064 dloss:1.2309\n",
      "Episode:259 meanR:10.1700 R:9.0 gloss:-4.5322 dloss:0.8470\n",
      "Episode:260 meanR:10.1800 R:10.0 gloss:-4.5157 dloss:0.8695\n",
      "Episode:261 meanR:10.1700 R:9.0 gloss:-4.5008 dloss:1.1500\n",
      "Episode:262 meanR:10.1700 R:10.0 gloss:-4.4933 dloss:1.1770\n",
      "Episode:263 meanR:10.2100 R:13.0 gloss:-4.5378 dloss:0.9523\n",
      "Episode:264 meanR:10.2300 R:11.0 gloss:-4.5475 dloss:0.7447\n",
      "Episode:265 meanR:10.2200 R:10.0 gloss:-4.5288 dloss:0.8623\n",
      "Episode:266 meanR:10.2300 R:11.0 gloss:-4.5167 dloss:1.2398\n",
      "Episode:267 meanR:10.2200 R:8.0 gloss:-4.5221 dloss:1.4974\n",
      "Episode:268 meanR:10.2600 R:14.0 gloss:-4.5455 dloss:1.5928\n",
      "Episode:269 meanR:10.2600 R:10.0 gloss:-4.5806 dloss:1.3043\n",
      "Episode:270 meanR:10.2500 R:9.0 gloss:-4.5791 dloss:1.4951\n",
      "Episode:271 meanR:10.2400 R:9.0 gloss:-4.5800 dloss:1.2056\n",
      "Episode:272 meanR:10.2600 R:11.0 gloss:-4.5941 dloss:0.8957\n",
      "Episode:273 meanR:10.3000 R:14.0 gloss:-4.6590 dloss:0.7864\n",
      "Episode:274 meanR:10.3100 R:11.0 gloss:-4.6824 dloss:0.6407\n",
      "Episode:275 meanR:10.3300 R:12.0 gloss:-4.7066 dloss:0.5833\n",
      "Episode:276 meanR:10.3700 R:13.0 gloss:-4.7425 dloss:0.5875\n",
      "Episode:277 meanR:10.3900 R:12.0 gloss:-4.7710 dloss:0.6534\n",
      "Episode:278 meanR:10.4300 R:15.0 gloss:-4.7850 dloss:0.6242\n",
      "Episode:279 meanR:10.4800 R:15.0 gloss:-4.7931 dloss:0.6581\n",
      "Episode:280 meanR:10.4800 R:12.0 gloss:-4.8205 dloss:0.6464\n",
      "Episode:281 meanR:10.5000 R:12.0 gloss:-4.8565 dloss:0.6096\n",
      "Episode:282 meanR:10.5200 R:12.0 gloss:-4.8964 dloss:0.6048\n",
      "Episode:283 meanR:10.5500 R:14.0 gloss:-4.9042 dloss:0.6508\n",
      "Episode:284 meanR:10.5800 R:14.0 gloss:-4.9142 dloss:0.7106\n",
      "Episode:285 meanR:10.5700 R:12.0 gloss:-4.9242 dloss:0.6439\n",
      "Episode:286 meanR:10.5900 R:12.0 gloss:-4.9505 dloss:0.6233\n",
      "Episode:287 meanR:10.5900 R:10.0 gloss:-4.9642 dloss:0.5937\n",
      "Episode:288 meanR:10.6200 R:13.0 gloss:-4.9783 dloss:0.5790\n",
      "Episode:289 meanR:10.6700 R:14.0 gloss:-4.9801 dloss:0.5491\n",
      "Episode:290 meanR:10.7300 R:15.0 gloss:-4.9994 dloss:0.6557\n",
      "Episode:291 meanR:10.7600 R:12.0 gloss:-4.9852 dloss:0.8598\n",
      "Episode:292 meanR:10.7800 R:12.0 gloss:-4.9612 dloss:1.0188\n",
      "Episode:293 meanR:10.7800 R:9.0 gloss:-4.9546 dloss:0.9248\n",
      "Episode:294 meanR:10.7800 R:10.0 gloss:-4.9638 dloss:0.7330\n",
      "Episode:295 meanR:10.8600 R:16.0 gloss:-4.9756 dloss:0.6749\n",
      "Episode:296 meanR:10.8600 R:10.0 gloss:-4.9957 dloss:0.6484\n",
      "Episode:297 meanR:10.9000 R:12.0 gloss:-4.9767 dloss:0.6395\n",
      "Episode:298 meanR:10.9500 R:15.0 gloss:-4.9879 dloss:0.6958\n",
      "Episode:299 meanR:11.0100 R:16.0 gloss:-4.9907 dloss:0.7559\n",
      "Episode:300 meanR:11.0600 R:14.0 gloss:-4.9863 dloss:0.7826\n",
      "Episode:301 meanR:11.1000 R:14.0 gloss:-4.9887 dloss:0.7404\n",
      "Episode:302 meanR:11.1800 R:17.0 gloss:-5.0010 dloss:0.7709\n",
      "Episode:303 meanR:11.1900 R:11.0 gloss:-5.0382 dloss:0.8073\n",
      "Episode:304 meanR:11.2300 R:14.0 gloss:-5.0571 dloss:0.8432\n",
      "Episode:305 meanR:11.2500 R:12.0 gloss:-5.0956 dloss:0.8816\n"
     ]
    },
    {
     "name": "stdout",
     "output_type": "stream",
     "text": [
      "Episode:306 meanR:11.2600 R:11.0 gloss:-5.1206 dloss:0.8660\n",
      "Episode:307 meanR:11.3200 R:15.0 gloss:-5.1646 dloss:0.8628\n"
     ]
    }
   ],
   "source": [
    "# Save/load the model and save for plotting\n",
    "saver = tf.train.Saver()\n",
    "episode_rewards_list, rewards_list, loss_list = [], [], []\n",
    "\n",
    "# TF session for training\n",
    "with tf.Session(graph=graph) as sess:\n",
    "    sess.run(tf.global_variables_initializer())\n",
    "    #saver.restore(sess, 'checkpoints/model.ckpt')    \n",
    "    #saver.restore(sess, tf.train.latest_checkpoint('checkpoints'))\n",
    "    #total_step = 0 # Explore or exploit parameter\n",
    "    episode_reward = deque(maxlen=100) # 100 episodes average/running average/running mean/window\n",
    "    \n",
    "    # Training episodes/epochs\n",
    "    for ep in range(11111):\n",
    "        total_reward = 0\n",
    "        loss_batch = []\n",
    "        state = env.reset()\n",
    "\n",
    "        # Training steps/batches\n",
    "        while True:\n",
    "            action, action_logits = act(sess, state)\n",
    "                \n",
    "            next_state, reward, done, _ = env.step(action)\n",
    "            \n",
    "            memory.buffer.append([state, action, next_state, reward, float(done), action_logits])\n",
    "            \n",
    "            # # Explore (Env) or Exploit (Model)\n",
    "            # #total_step += 1\n",
    "            # #explore_p = explore_stop + (explore_start - explore_stop) * np.exp(-decay_rate * total_step)\n",
    "            # explore_p = np.random.normal(0, 1)\n",
    "            # if np.abs(explore_p) < 1e-3:\n",
    "            #     print('np.abs(explore_p) < 1e-3:', explore_p)\n",
    "            #     next_state = env_(sess, state=state, action_logits=action_logits)\n",
    "            \n",
    "            total_reward += reward\n",
    "            state = next_state\n",
    "\n",
    "            # Training\n",
    "            if len(memory.buffer) >= batch_size:\n",
    "                gloss, dloss = learn(sess, memory, batch_size)\n",
    "                loss_batch.append([gloss, dloss])\n",
    "            \n",
    "            if done is True:\n",
    "                break\n",
    "                \n",
    "        if len(memory.buffer) >= batch_size:\n",
    "            episode_reward.append(total_reward)\n",
    "\n",
    "            print('Episode:{}'.format(ep),\n",
    "                  'meanR:{:.4f}'.format(np.mean(episode_reward)),\n",
    "                  'R:{}'.format(total_reward),\n",
    "                  'gloss:{:.4f}'.format(np.mean(loss_batch, axis=0)[0]),\n",
    "                  'dloss:{:.4f}'.format(np.mean(loss_batch, axis=0)[1]))\n",
    "            \n",
    "            # Ploting out\n",
    "            episode_rewards_list.append([ep, np.mean(episode_reward)])\n",
    "            rewards_list.append([ep, total_reward])\n",
    "            loss_list.append([ep, np.mean(loss_batch)])\n",
    "\n",
    "            # Break episode/epoch loop\n",
    "            if np.mean(episode_reward) >= 500:\n",
    "                break\n",
    "        \n",
    "        else: print('len(memory.buffer) >= batch_size:', len(memory.buffer), batch_size)\n",
    "            \n",
    "    # At the end of all training episodes/epochs\n",
    "    saver.save(sess, 'checkpoints/model.ckpt')"
   ]
  },
  {
   "cell_type": "code",
   "execution_count": 30,
   "metadata": {},
   "outputs": [],
   "source": [
    "# np.mean(loss_batch, axis=0)"
   ]
  },
  {
   "cell_type": "markdown",
   "metadata": {},
   "source": [
    "# Visualizing training\n",
    "\n",
    "Below I'll plot the total rewards for each episode. I'm plotting the rolling average too, in blue."
   ]
  },
  {
   "cell_type": "code",
   "execution_count": 31,
   "metadata": {},
   "outputs": [],
   "source": [
    "%matplotlib inline\n",
    "import matplotlib.pyplot as plt\n",
    "\n",
    "def running_mean(x, N):\n",
    "    cumsum = np.cumsum(np.insert(x, 0, 0)) \n",
    "    return (cumsum[N:] - cumsum[:-N]) / N "
   ]
  },
  {
   "cell_type": "code",
   "execution_count": 32,
   "metadata": {},
   "outputs": [
    {
     "data": {
      "text/plain": [
       "Text(0, 0.5, 'Total rewards')"
      ]
     },
     "execution_count": 32,
     "metadata": {},
     "output_type": "execute_result"
    },
    {
     "data": {
      "image/png": "[encoded data removed]",
      "text/plain": [
       "<Figure size 432x288 with 1 Axes>"
      ]
     },
     "metadata": {
      "needs_background": "light"
     },
     "output_type": "display_data"
    }
   ],
   "source": [
    "eps, arr = np.array(episode_rewards_list).T\n",
    "smoothed_arr = running_mean(arr, 10)\n",
    "plt.plot(eps[-len(smoothed_arr):], smoothed_arr)\n",
    "plt.plot(eps, arr, color='grey', alpha=0.3)\n",
    "plt.xlabel('Episode')\n",
    "plt.ylabel('Total rewards')"
   ]
  },
  {
   "cell_type": "code",
   "execution_count": 28,
   "metadata": {},
   "outputs": [
    {
     "data": {
      "text/plain": [
       "Text(0, 0.5, 'Total rewards')"
      ]
     },
     "execution_count": 28,
     "metadata": {},
     "output_type": "execute_result"
    },
    {
     "data": {
      "image/png": "[encoded data removed]",
      "text/plain": [
       "<Figure size 432x288 with 1 Axes>"
      ]
     },
     "metadata": {
      "needs_background": "light"
     },
     "output_type": "display_data"
    }
   ],
   "source": [
    "eps, arr = np.array(episode_rewards_list).T\n",
    "smoothed_arr = running_mean(arr, 10)\n",
    "plt.plot(eps[-len(smoothed_arr):], smoothed_arr)\n",
    "plt.plot(eps, arr, color='grey', alpha=0.3)\n",
    "plt.xlabel('Episode')\n",
    "plt.ylabel('Total rewards')"
   ]
  },
  {
   "cell_type": "code",
   "execution_count": 33,
   "metadata": {},
   "outputs": [
    {
     "data": {
      "text/plain": [
       "Text(0, 0.5, 'Total rewards')"
      ]
     },
     "execution_count": 33,
     "metadata": {},
     "output_type": "execute_result"
    },
    {
     "data": {
      "image/png": "[encoded data removed]",
      "text/plain": [
       "<Figure size 432x288 with 1 Axes>"
      ]
     },
     "metadata": {
      "needs_background": "light"
     },
     "output_type": "display_data"
    }
   ],
   "source": [
    "eps, arr = np.array(rewards_list).T\n",
    "smoothed_arr = running_mean(arr, 10)\n",
    "plt.plot(eps[-len(smoothed_arr):], smoothed_arr)\n",
    "plt.plot(eps, arr, color='grey', alpha=0.3)\n",
    "plt.xlabel('Episode')\n",
    "plt.ylabel('Total rewards')"
   ]
  },
  {
   "cell_type": "code",
   "execution_count": 30,
   "metadata": {},
   "outputs": [
    {
     "data": {
      "text/plain": [
       "Text(0, 0.5, 'Total rewards')"
      ]
     },
     "execution_count": 30,
     "metadata": {},
     "output_type": "execute_result"
    },
    {
     "data": {
      "image/png": "[encoded data removed]",
      "text/plain": [
       "<Figure size 432x288 with 1 Axes>"
      ]
     },
     "metadata": {
      "needs_background": "light"
     },
     "output_type": "display_data"
    }
   ],
   "source": [
    "eps, arr = np.array(rewards_list).T\n",
    "smoothed_arr = running_mean(arr, 10)\n",
    "plt.plot(eps[-len(smoothed_arr):], smoothed_arr)\n",
    "plt.plot(eps, arr, color='grey', alpha=0.3)\n",
    "plt.xlabel('Episode')\n",
    "plt.ylabel('Total rewards')"
   ]
  },
  {
   "cell_type": "code",
   "execution_count": 34,
   "metadata": {},
   "outputs": [
    {
     "data": {
      "text/plain": [
       "Text(0, 0.5, 'Total rewards')"
      ]
     },
     "execution_count": 34,
     "metadata": {},
     "output_type": "execute_result"
    },
    {
     "data": {
      "image/png": "[encoded data removed]",
      "text/plain": [
       "<Figure size 432x288 with 1 Axes>"
      ]
     },
     "metadata": {
      "needs_background": "light"
     },
     "output_type": "display_data"
    }
   ],
   "source": [
    "eps, arr = np.array(loss_list).T\n",
    "smoothed_arr = running_mean(arr, 10)\n",
    "plt.plot(eps[-len(smoothed_arr):], smoothed_arr)\n",
    "plt.plot(eps, arr, color='grey', alpha=0.3)\n",
    "plt.xlabel('Episode')\n",
    "plt.ylabel('Total rewards')"
   ]
  },
  {
   "cell_type": "code",
   "execution_count": 31,
   "metadata": {},
   "outputs": [
    {
     "data": {
      "text/plain": [
       "Text(0, 0.5, 'Total rewards')"
      ]
     },
     "execution_count": 31,
     "metadata": {},
     "output_type": "execute_result"
    },
    {
     "data": {
      "image/png": "[encoded data removed]",
      "text/plain": [
       "<Figure size 432x288 with 1 Axes>"
      ]
     },
     "metadata": {
      "needs_background": "light"
     },
     "output_type": "display_data"
    }
   ],
   "source": [
    "eps, arr = np.array(loss_list).T\n",
    "smoothed_arr = running_mean(arr, 10)\n",
    "plt.plot(eps[-len(smoothed_arr):], smoothed_arr)\n",
    "plt.plot(eps, arr, color='grey', alpha=0.3)\n",
    "plt.xlabel('Episode')\n",
    "plt.ylabel('Total rewards')"
   ]
  },
  {
   "cell_type": "markdown",
   "metadata": {},
   "source": [
    "## Testing\n",
    "\n",
    "Let's checkout how our trained agent plays the game."
   ]
  },
  {
   "cell_type": "code",
   "execution_count": 35,
   "metadata": {},
   "outputs": [
    {
     "name": "stdout",
     "output_type": "stream",
     "text": [
      "INFO:tensorflow:Restoring parameters from checkpoints/model.ckpt\n"
     ]
    },
    {
     "name": "stderr",
     "output_type": "stream",
     "text": [
      "/home/arasdar/anaconda3/lib/python3.6/site-packages/gym/envs/registration.py:14: PkgResourcesDeprecationWarning: Parameters to load are deprecated.  Call .resolve and .require separately.\n",
      "  result = entry_point.load(False)\n"
     ]
    },
    {
     "name": "stdout",
     "output_type": "stream",
     "text": [
      "total_reward: 500.0\n",
      "total_reward: 500.0\n",
      "total_reward: 500.0\n",
      "total_reward: 500.0\n",
      "total_reward: 500.0\n",
      "total_reward: 500.0\n",
      "total_reward: 500.0\n",
      "total_reward: 500.0\n",
      "total_reward: 500.0\n",
      "total_reward: 500.0\n"
     ]
    }
   ],
   "source": [
    "# Creating a gym env\n",
    "import gym\n",
    "\n",
    "# env = gym.make('CartPole-v0')\n",
    "env = gym.make('CartPole-v1')\n",
    "\n",
    "# A training graph session\n",
    "with tf.Session(graph=graph) as sess:\n",
    "    #sess.run(tf.global_variables_initializer())\n",
    "    #saver.restore(sess, 'checkpoints/model.ckpt')    \n",
    "    saver.restore(sess, tf.train.latest_checkpoint('checkpoints'))\n",
    "    \n",
    "    # Episodes/epochs\n",
    "    for _ in range(10):\n",
    "        state = env.reset()\n",
    "        total_reward = 0\n",
    "\n",
    "        # Steps/batches\n",
    "        while True:\n",
    "            env.render()\n",
    "            \n",
    "            action, _ = act(sess, state)\n",
    "            \n",
    "            state, reward, done, _ = env.step(action)\n",
    "            \n",
    "            total_reward += reward\n",
    "            \n",
    "            if done:\n",
    "                break\n",
    "                \n",
    "        # Closing the env\n",
    "        print('total_reward: {}'.format(total_reward))\n",
    "\n",
    "# Close the env at the end\n",
    "env.close()"
   ]
  },
  {
   "cell_type": "markdown",
   "metadata": {},
   "source": [
    "## Extending this\n",
    "\n",
    "So, Cart-Pole is a pretty simple game. However, the same model can be used to train an agent to play something much more complicated like Pong or Space Invaders. Instead of a state like we're using here though, you'd want to use convolutional layers to get the state from the screen images.\n",
    "\n",
    "![Deep Q-Learning Atari](assets/atari-network.png)\n",
    "\n",
    "I'll leave it as a challenge for you to use deep Q-learning to train an agent to play Atari games. Here's the original paper which will get you started: http://www.davidqiu.com:8888/research/nature14236.pdf."
   ]
  },
  {
   "cell_type": "code",
   "execution_count": null,
   "metadata": {},
   "outputs": [],
   "source": []
  }
 ],
 "metadata": {
  "kernelspec": {
   "display_name": "Python 3",
   "language": "python",
   "name": "python3"
  },
  "language_info": {
   "codemirror_mode": {
    "name": "ipython",
    "version": 3
   },
   "file_extension": ".py",
   "mimetype": "text/x-python",
   "name": "python",
   "nbconvert_exporter": "python",
   "pygments_lexer": "ipython3",
   "version": "3.6.8"
  }
 },
 "nbformat": 4,
 "nbformat_minor": 2
}
