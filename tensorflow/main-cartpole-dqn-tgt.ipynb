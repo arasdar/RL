{
 "cells": [
  {
   "cell_type": "markdown",
   "metadata": {},
   "source": [
    "# Deep Q-learning or Q-network (DQN)\n",
    "\n",
    "In this notebook, we'll build a neural network that can learn to play games through reinforcement learning. More specifically, we'll use Q-learning to train an agent to play a game called [Cart-Pole](https://gym.openai.com/envs/CartPole-v0). In this game, a freely swinging pole is attached to a cart. The cart can move to the left and right, and the goal is to keep the pole upright as long as possible.\n",
    "\n",
    "![Cart-Pole](assets/cart-pole.jpg)\n",
    "\n",
    "We can simulate this game using [OpenAI Gym](https://gym.openai.com/). First, let's check out how OpenAI Gym works. Then, we'll get into training an agent to play the Cart-Pole game."
   ]
  },
  {
   "cell_type": "code",
   "execution_count": 1,
   "metadata": {},
   "outputs": [],
   "source": [
    "import numpy as np"
   ]
  },
  {
   "cell_type": "code",
   "execution_count": 2,
   "metadata": {},
   "outputs": [
    {
     "name": "stdout",
     "output_type": "stream",
     "text": [
      "TensorFlow Version: 1.12.0\n",
      "Default GPU Device: /device:GPU:0\n"
     ]
    }
   ],
   "source": [
    "import tensorflow as tf\n",
    "print('TensorFlow Version: {}'.format(tf.__version__))\n",
    "print('Default GPU Device: {}'.format(tf.test.gpu_device_name()))"
   ]
  },
  {
   "cell_type": "markdown",
   "metadata": {},
   "source": [
    ">**Note:** Make sure you have OpenAI Gym cloned into the same directory with this notebook. I've included `gym` as a submodule, so you can run `git submodule --init --recursive` to pull the contents into the `gym` repo."
   ]
  },
  {
   "cell_type": "markdown",
   "metadata": {},
   "source": [
    ">**Note:** Make sure you have OpenAI Gym cloned. Then run this command `pip install -e gym/[all]`."
   ]
  },
  {
   "cell_type": "code",
   "execution_count": 3,
   "metadata": {},
   "outputs": [],
   "source": [
    "import gym\n",
    "\n",
    "## Create the Cart-Pole game environment\n",
    "# env = gym.make('CartPole-v0') # 200 total reward as goal\n",
    "env = gym.make('CartPole-v1') # 500 total reward as goal"
   ]
  },
  {
   "cell_type": "markdown",
   "metadata": {},
   "source": [
    "We interact with the simulation through `env`. To show the simulation running, you can use `env.render()` to render one frame. Passing in an action as an integer to `env.step` will generate the next step in the simulation.  You can see how many actions are possible from `env.action_space` and to get a random action you can use `env.action_space.sample()`. This is general to all Gym games. In the Cart-Pole game, there are two possible actions, moving the cart left or right. So there are two actions we can take, encoded as 0 and 1.\n",
    "\n",
    "Run the code below to watch the simulation run."
   ]
  },
  {
   "cell_type": "code",
   "execution_count": 4,
   "metadata": {},
   "outputs": [],
   "source": [
    "# env.reset()\n",
    "# batch = []\n",
    "# for _ in range(1000):\n",
    "#     # env.render()\n",
    "#     action = env.action_space.sample()\n",
    "#     state, reward, done, info = env.step(action) # take a random action\n",
    "#     batch.append([action, state, reward, done, info])\n",
    "#     #print('state, action, reward, done, info:', state, action, reward, done, info)\n",
    "#     if done:\n",
    "#         env.reset()"
   ]
  },
  {
   "cell_type": "markdown",
   "metadata": {},
   "source": [
    "To shut the window showing the simulation, use `env.close()`."
   ]
  },
  {
   "cell_type": "markdown",
   "metadata": {},
   "source": [
    "If you ran the simulation above, we can look at the rewards:"
   ]
  },
  {
   "cell_type": "code",
   "execution_count": 5,
   "metadata": {},
   "outputs": [],
   "source": [
    "# batch[0], batch[0][1].shape"
   ]
  },
  {
   "cell_type": "code",
   "execution_count": 6,
   "metadata": {},
   "outputs": [],
   "source": [
    "# actions = np.array([each[0] for each in batch])\n",
    "# states = np.array([each[1] for each in batch])\n",
    "# rewards = np.array([each[2] for each in batch])\n",
    "# dones = np.array([each[3] for each in batch])\n",
    "# infos = np.array([each[4] for each in batch])"
   ]
  },
  {
   "cell_type": "code",
   "execution_count": 7,
   "metadata": {},
   "outputs": [],
   "source": [
    "# print(rewards[-20:])\n",
    "# print(np.array(rewards).shape, np.array(states).shape, np.array(actions).shape, np.array(dones).shape)\n",
    "# print(np.array(rewards).dtype, np.array(states).dtype, np.array(actions).dtype, np.array(dones).dtype)\n",
    "# print(np.max(np.array(actions)), np.min(np.array(actions)))\n",
    "# print((np.max(np.array(actions)) - np.min(np.array(actions)))+1)\n",
    "# print(np.max(np.array(rewards)), np.min(np.array(rewards)))\n",
    "# print(np.max(np.array(states)), np.min(np.array(states)))"
   ]
  },
  {
   "cell_type": "markdown",
   "metadata": {},
   "source": [
    "The game resets after the pole has fallen past a certain angle. For each frame while the simulation is running, it returns a reward of 1.0. The longer the game runs, the more reward we get. Then, our network's goal is to maximize the reward by keeping the pole vertical. It will do this by moving the cart to the left and the right."
   ]
  },
  {
   "cell_type": "markdown",
   "metadata": {},
   "source": [
    "## Q-Network\n",
    "\n",
    "We train our Q-learning agent using the Bellman Equation:\n",
    "\n",
    "$$\n",
    "Q(s, a) = r + \\gamma \\max{Q(s', a')}\n",
    "$$\n",
    "\n",
    "where $s$ is a state, $a$ is an action, and $s'$ is the next state from state $s$ and action $a$.\n",
    "\n",
    "Before we used this equation to learn values for a Q-_table_. However, for this game there are a huge number of states available. The state has four values: the position and velocity of the cart, and the position and velocity of the pole. These are all real-valued numbers, so ignoring floating point precisions, you practically have infinite states. Instead of using a table then, we'll replace it with a neural network that will approximate the Q-table lookup function.\n",
    "\n",
    "<img src=\"assets/deep-q-learning.png\" width=450px>\n",
    "\n",
    "Now, our Q value, $Q(s, a)$ is calculated by passing in a state to the network. The output will be Q-values for each available action, with fully connected hidden layers.\n",
    "\n",
    "<img src=\"assets/q-network.png\" width=550px>\n",
    "\n",
    "\n",
    "As I showed before, we can define our targets for training as $\\hat{Q}(s,a) = r + \\gamma \\max{Q(s', a')}$. Then we update the weights by minimizing $(\\hat{Q}(s,a) - Q(s,a))^2$. \n",
    "\n",
    "For this Cart-Pole game, we have four inputs, one for each value in the state, and two outputs, one for each action. To get $\\hat{Q}$, we'll first choose an action, then simulate the game using that action. This will get us the next state, $s'$, and the reward. With that, we can calculate $\\hat{Q}$ then pass it back into the $Q$ network to run the optimizer and update the weights.\n",
    "\n",
    "Below is my implementation of the Q-network. I used two fully connected layers with ReLU activations. Two seems to be good enough, three might be better. Feel free to try it out."
   ]
  },
  {
   "cell_type": "code",
   "execution_count": 8,
   "metadata": {},
   "outputs": [],
   "source": [
    "def model_input(state_size):\n",
    "    actions = tf.placeholder(tf.int32, [None], name='actions')\n",
    "    states = tf.placeholder(tf.float32, [None, state_size], name='states')\n",
    "    targetQs = tf.placeholder(tf.float32, [None], name='targetQs')\n",
    "    is_training = tf.placeholder(tf.bool, name='is_training')\n",
    "    return actions, states, targetQs, is_training"
   ]
  },
  {
   "cell_type": "code",
   "execution_count": 9,
   "metadata": {},
   "outputs": [],
   "source": [
    "def init_xavier(random_seed=1, dtype=tf.float32, uniform=False):\n",
    "    xavier = tf.contrib.layers.xavier_initializer(\n",
    "        dtype=dtype,\n",
    "        seed=tf.set_random_seed(random_seed), \n",
    "        uniform=uniform) # False: normal\n",
    "    return xavier"
   ]
  },
  {
   "cell_type": "code",
   "execution_count": 10,
   "metadata": {},
   "outputs": [],
   "source": [
    "def mlp(inputs, units, trainable=True):\n",
    "    outputs = tf.layers.dense(\n",
    "        inputs=inputs,\n",
    "        units=units,\n",
    "        activation=None,\n",
    "        use_bias=True,\n",
    "        kernel_initializer=init_xavier(), # Xavier with normal init\n",
    "        bias_initializer=tf.zeros_initializer(),\n",
    "        kernel_regularizer=None,\n",
    "        bias_regularizer=None,\n",
    "        activity_regularizer=None,\n",
    "        kernel_constraint=None,\n",
    "        bias_constraint=None,\n",
    "        trainable=trainable,\n",
    "        name=None,\n",
    "        reuse=None)\n",
    "    return outputs"
   ]
  },
  {
   "cell_type": "code",
   "execution_count": 11,
   "metadata": {},
   "outputs": [],
   "source": [
    "# tf.nn.leaky_relu(\n",
    "#     features,\n",
    "#     alpha=0.2,\n",
    "#     name=None\n",
    "# )\n",
    "def nl(inputs, alpha=0.2):\n",
    "    outputs = tf.maximum(alpha * inputs, inputs)\n",
    "    return outputs"
   ]
  },
  {
   "cell_type": "code",
   "execution_count": 12,
   "metadata": {},
   "outputs": [],
   "source": [
    "def bn(inputs, training=False):\n",
    "    outputs = tf.layers.batch_normalization(\n",
    "        inputs=inputs,\n",
    "        axis=-1,\n",
    "        momentum=0.99,\n",
    "        epsilon=0.001,\n",
    "        center=True,\n",
    "        scale=True,\n",
    "        beta_initializer=tf.zeros_initializer(),\n",
    "        gamma_initializer=tf.ones_initializer(),\n",
    "        moving_mean_initializer=tf.zeros_initializer(),\n",
    "        moving_variance_initializer=tf.ones_initializer(),\n",
    "        beta_regularizer=None,\n",
    "        gamma_regularizer=None,\n",
    "        beta_constraint=None,\n",
    "        gamma_constraint=None,\n",
    "        training=training,\n",
    "        trainable=True,\n",
    "        name=None,\n",
    "        reuse=None,\n",
    "        renorm=False,\n",
    "        renorm_clipping=None,\n",
    "        renorm_momentum=0.99,\n",
    "        fused=None,\n",
    "        virtual_batch_size=None,\n",
    "        adjustment=None)\n",
    "    return outputs"
   ]
  },
  {
   "cell_type": "code",
   "execution_count": 15,
   "metadata": {},
   "outputs": [],
   "source": [
    "# Actor-Critic/ D/Q\n",
    "def D(states, action_size, hidden_size, reuse=False, alpha=0.2, is_training=False):\n",
    "    with tf.variable_scope('D', reuse=reuse):\n",
    "        # First fully connected layer\n",
    "        h = mlp(inputs=states, units=hidden_size)\n",
    "        h = bn(inputs=h, training=is_training)\n",
    "        h = nl(h)\n",
    "        print(states.shape, h.shape)\n",
    "        \n",
    "        # Second fully connected layer\n",
    "        h = mlp(inputs=h, units=hidden_size)\n",
    "        h = bn(inputs=h, training=is_training)\n",
    "        h = nl(h)\n",
    "        print(h.shape)\n",
    "        \n",
    "        # Output layer\n",
    "        actions = mlp(inputs=h, units=action_size)\n",
    "        return actions"
   ]
  },
  {
   "cell_type": "code",
   "execution_count": 16,
   "metadata": {},
   "outputs": [],
   "source": [
    "# Actor-Critic/ D/Q\n",
    "def D_target(states, action_size, hidden_size, reuse=False, alpha=0.2, is_training=False):\n",
    "    with tf.variable_scope('D_target', reuse=reuse):\n",
    "        # First fully connected layer\n",
    "        h = mlp(inputs=states, units=hidden_size)\n",
    "        h = bn(inputs=h, training=is_training)\n",
    "        h = nl(h)\n",
    "        print(states.shape, h.shape)\n",
    "        \n",
    "        # Second fully connected layer\n",
    "        h = mlp(inputs=h, units=hidden_size)\n",
    "        h = bn(inputs=h, training=is_training)\n",
    "        h = nl(h)\n",
    "        print(h.shape)\n",
    "        \n",
    "        # Output layer\n",
    "        actions = mlp(inputs=h, units=action_size)\n",
    "        return actions"
   ]
  },
  {
   "cell_type": "code",
   "execution_count": 17,
   "metadata": {},
   "outputs": [],
   "source": [
    "def model_loss(actions, states, targetQs, action_size, hidden_size, is_training):\n",
    "    \n",
    "    actions_logits = D(states=states, hidden_size=hidden_size, action_size=action_size, \n",
    "                       is_training=is_training)\n",
    "    actions_target = D_target(states=states, hidden_size=hidden_size, action_size=action_size, \n",
    "                              is_training=is_training)\n",
    "    \n",
    "    actions_labels = tf.one_hot(indices=actions, depth=action_size, dtype=actions_logits.dtype)\n",
    "    \n",
    "    Qs = tf.reduce_max(actions_logits*actions_labels, axis=1)\n",
    "    \n",
    "    loss = tf.reduce_mean((Qs - targetQs)**2)\n",
    "    \n",
    "    return actions_logits, loss, actions_target"
   ]
  },
  {
   "cell_type": "code",
   "execution_count": 18,
   "metadata": {},
   "outputs": [],
   "source": [
    "def model_opt(loss, learning_rate, gamma):\n",
    "    # Get weights and bias to update\n",
    "    t_vars = tf.trainable_variables()\n",
    "    d_vars = [var for var in t_vars if var.name.startswith('D')]\n",
    "    d_vars_tgt = [var for var in t_vars if var.name.startswith('D_target')]\n",
    "\n",
    "    # Optimize\n",
    "    with tf.control_dependencies(tf.get_collection(tf.GraphKeys.UPDATE_OPS)): # Required for batchnorm (BN)\n",
    "        opt = tf.train.AdamOptimizer(learning_rate).minimize(loss, var_list=d_vars)\n",
    "        \n",
    "        opt_tgt = [d_vars_tgt[i].assign((d_vars_tgt[i]*gamma) + (d_vars[i]*(1 - gamma))) \n",
    "                   for i in range(len(d_vars_tgt))]\n",
    "\n",
    "    return opt, opt_tgt"
   ]
  },
  {
   "cell_type": "code",
   "execution_count": 19,
   "metadata": {},
   "outputs": [],
   "source": [
    "class Model:\n",
    "    def __init__(self, state_size, action_size, hidden_size, learning_rate, gamma):\n",
    "\n",
    "        # Data of the Model: make the data available inside the framework\n",
    "        self.actions, self.states, self.targetQs, self.is_training = model_input(state_size=state_size)\n",
    "\n",
    "        # Create the Model: calculating the loss and forwad pass\n",
    "        self.actions_logits, self.loss, self.actions_target = model_loss(\n",
    "            action_size=action_size, hidden_size=hidden_size,\n",
    "            states=self.states, actions=self.actions, targetQs=self.targetQs, \n",
    "            is_training=self.is_training)\n",
    "\n",
    "        # Update the model: backward pass and backprop\n",
    "        self.opt, self.opt_target = model_opt(loss=self.loss, learning_rate=learning_rate, gamma=gamma)"
   ]
  },
  {
   "cell_type": "markdown",
   "metadata": {},
   "source": [
    "## Experience replay\n",
    "\n",
    "Reinforcement learning algorithms can have stability issues due to correlations between states. To reduce correlations when training, we can store the agent's experiences and later draw a random mini-batch of those experiences to train on. \n",
    "\n",
    "Here, we'll create a `Memory` object that will store our experiences, our transitions $<s, a, r, s'>$. This memory will have a maxmium capacity, so we can keep newer experiences in memory while getting rid of older experiences. Then, we'll sample a random mini-batch of transitions $<s, a, r, s'>$ and train on those.\n",
    "\n",
    "Below, I've implemented a `Memory` object. If you're unfamiliar with `deque`, this is a double-ended queue. You can think of it like a tube open on both sides. You can put objects in either side of the tube. But if it's full, adding anything more will push an object out the other side. This is a great data structure to use for the memory buffer."
   ]
  },
  {
   "cell_type": "code",
   "execution_count": 20,
   "metadata": {},
   "outputs": [],
   "source": [
    "from collections import deque\n",
    "class Memory():\n",
    "    def __init__(self, max_size = 1000):\n",
    "        self.buffer = deque(maxlen=max_size)\n",
    "    def sample(self, batch_size):\n",
    "        idx = np.random.choice(np.arange(len(self.buffer)), \n",
    "                               size=batch_size, \n",
    "                               replace=False)\n",
    "        return [self.buffer[ii] for ii in idx]"
   ]
  },
  {
   "cell_type": "markdown",
   "metadata": {},
   "source": [
    "## Exploration - Exploitation\n",
    "\n",
    "To learn about the environment and rules of the game, the agent needs to explore by taking random actions. We'll do this by choosing a random action with some probability $\\epsilon$ (epsilon).  That is, with some probability $\\epsilon$ the agent will make a random action and with probability $1 - \\epsilon$, the agent will choose an action from $Q(s,a)$. This is called an **$\\epsilon$-greedy policy**.\n",
    "\n",
    "\n",
    "At first, the agent needs to do a lot of exploring. Later when it has learned more, the agent can favor choosing actions based on what it has learned. This is called _exploitation_. We'll set it up so the agent is more likely to explore early in training, then more likely to exploit later in training."
   ]
  },
  {
   "cell_type": "markdown",
   "metadata": {},
   "source": [
    "## Q-Learning training algorithm\n",
    "\n",
    "Putting all this together, we can list out the algorithm we'll use to train the network. We'll train the network in _episodes_. One *episode* is one simulation of the game. For this game, the goal is to keep the pole upright for 195 frames. So we can start a new episode once meeting that goal. The game ends if the pole tilts over too far, or if the cart moves too far the left or right. When a game ends, we'll start a new episode. Now, to train the agent:\n",
    "\n",
    "* Initialize the memory $D$\n",
    "* Initialize the action-value network $Q$ with random weights\n",
    "* **For** episode = 1, $M$ **do**\n",
    "  * **For** $t$, $T$ **do**\n",
    "     * With probability $\\epsilon$ select a random action $a_t$, otherwise select $a_t = \\mathrm{argmax}_a Q(s,a)$\n",
    "     * Execute action $a_t$ in simulator and observe reward $r_{t+1}$ and new state $s_{t+1}$\n",
    "     * Store transition $<s_t, a_t, r_{t+1}, s_{t+1}>$ in memory $D$\n",
    "     * Sample random mini-batch from $D$: $<s_j, a_j, r_j, s'_j>$\n",
    "     * Set $\\hat{Q}_j = r_j$ if the episode ends at $j+1$, otherwise set $\\hat{Q}_j = r_j + \\gamma \\max_{a'}{Q(s'_j, a')}$\n",
    "     * Make a gradient descent step with loss $(\\hat{Q}_j - Q(s_j, a_j))^2$\n",
    "  * **endfor**\n",
    "* **endfor**"
   ]
  },
  {
   "cell_type": "markdown",
   "metadata": {},
   "source": [
    "## Hyperparameters\n",
    "\n",
    "One of the more difficult aspects of reinforcememt learning are the large number of hyperparameters. Not only are we tuning the network, but we're tuning the simulation."
   ]
  },
  {
   "cell_type": "code",
   "execution_count": 21,
   "metadata": {},
   "outputs": [],
   "source": [
    "# print('state size:{}'.format(states.shape), \n",
    "#       'actions:{}'.format(actions.shape)) \n",
    "# print('action size:', np.max(actions) - np.min(actions)+1)"
   ]
  },
  {
   "cell_type": "code",
   "execution_count": 22,
   "metadata": {},
   "outputs": [],
   "source": [
    "# Exploration parameters\n",
    "explore_start = 1.0            # exploration probability at start\n",
    "explore_stop = 0.01            # minimum exploration probability \n",
    "decay_rate = 0.0001            # exponential decay rate for exploration prob\n",
    "\n",
    "# Network parameters\n",
    "action_size = 2\n",
    "state_size = 4\n",
    "hidden_size = 64               # number of units in each Q-network hidden layer\n",
    "learning_rate = 1e-4         # Q-network learning rate\n",
    "\n",
    "# Memory parameters\n",
    "memory_size = int(1e5)            # memory capacity\n",
    "batch_size = 20               # experience mini-batch size\n",
    "gamma = 0.99                   # future reward discount"
   ]
  },
  {
   "cell_type": "code",
   "execution_count": 23,
   "metadata": {},
   "outputs": [
    {
     "name": "stdout",
     "output_type": "stream",
     "text": [
      "(?, 4) (?, 64)\n",
      "(?, 64)\n",
      "(?, 4) (?, 64)\n",
      "(?, 64)\n"
     ]
    }
   ],
   "source": [
    "# Reset/init the graph/session\n",
    "graph = tf.reset_default_graph()\n",
    "\n",
    "# Init the model\n",
    "model = Model(action_size=action_size, hidden_size=hidden_size, state_size=state_size, \n",
    "              learning_rate=learning_rate, gamma=gamma)\n",
    "\n",
    "# Init the memory\n",
    "memory = Memory(max_size=memory_size)"
   ]
  },
  {
   "cell_type": "markdown",
   "metadata": {},
   "source": [
    "## Populate the memory (exprience memory)\n",
    "\n",
    "Here I'm re-initializing the simulation and pre-populating the memory. The agent is taking random actions and storing the transitions in memory. This will help the agent with exploring the game."
   ]
  },
  {
   "cell_type": "code",
   "execution_count": 24,
   "metadata": {},
   "outputs": [],
   "source": [
    "state = env.reset()\n",
    "\n",
    "for _ in range(memory_size):\n",
    "    \n",
    "    action = env.action_space.sample()\n",
    "    \n",
    "    next_state, reward, done, _ = env.step(action)\n",
    "    \n",
    "    memory.buffer.append([state, action, next_state, reward, float(done)])\n",
    "    \n",
    "    state = next_state\n",
    "    \n",
    "    if done is True:\n",
    "        state = env.reset()"
   ]
  },
  {
   "cell_type": "markdown",
   "metadata": {},
   "source": [
    "## Training the model\n",
    "\n",
    "Below we'll train our agent. If you want to watch it train, uncomment the `env.render()` line. This is slow because it's rendering the frames slower than the network can train. But, it's cool to watch the agent get better at the game."
   ]
  },
  {
   "cell_type": "code",
   "execution_count": 25,
   "metadata": {},
   "outputs": [],
   "source": [
    "def act(sess, state):\n",
    "    \n",
    "    action_logits = sess.run(model.actions_logits, feed_dict={model.states: state.reshape([1, -1]), \n",
    "                                                              model.is_training: False})\n",
    "    \n",
    "    action = np.argmax(action_logits, axis=1)[0]\n",
    "    #print(action)\n",
    "    \n",
    "    return action"
   ]
  },
  {
   "cell_type": "code",
   "execution_count": 30,
   "metadata": {},
   "outputs": [],
   "source": [
    "def learn(sess, memory, batch_size):\n",
    "    batch = memory.sample(batch_size)\n",
    "    states = np.array([each[0] for each in batch])\n",
    "    actions = np.array([each[1] for each in batch])\n",
    "    next_states = np.array([each[2] for each in batch])\n",
    "    rewards = np.array([each[3] for each in batch])\n",
    "    dones = np.array([each[4] for each in batch])\n",
    "    \n",
    "    next_actions_target = sess.run(model.actions_target, feed_dict = {model.states: next_states, \n",
    "                                                                      model.is_training: False})\n",
    "    \n",
    "    nextQs = np.max(next_actions_target, axis=1) * (1-dones)\n",
    "    \n",
    "    targetQs = rewards + (gamma * nextQs)\n",
    "    \n",
    "    loss, _ = sess.run([model.loss, model.opt], feed_dict = {model.states: states, \n",
    "                                                             model.actions: actions,\n",
    "                                                             model.targetQs: targetQs, \n",
    "                                                             model.is_training: False})\n",
    "    \n",
    "    sess.run(model.opt_target, feed_dict = {model.states: states,\n",
    "                                            model.actions: actions,\n",
    "                                            model.targetQs: targetQs, \n",
    "                                            model.is_training: False})\n",
    "    return loss"
   ]
  },
  {
   "cell_type": "code",
   "execution_count": null,
   "metadata": {},
   "outputs": [
    {
     "name": "stdout",
     "output_type": "stream",
     "text": [
      "Episode:0 meanR:23.0000 R:23.0 loss:0.9476 exploreP:0.9977\n",
      "Episode:1 meanR:22.5000 R:22.0 loss:0.8043 exploreP:0.9956\n",
      "Episode:2 meanR:24.0000 R:27.0 loss:0.7083 exploreP:0.9929\n",
      "Episode:3 meanR:22.5000 R:18.0 loss:0.6422 exploreP:0.9911\n",
      "Episode:4 meanR:24.0000 R:30.0 loss:0.5882 exploreP:0.9882\n",
      "Episode:5 meanR:24.0000 R:24.0 loss:0.5428 exploreP:0.9858\n",
      "Episode:6 meanR:29.2857 R:61.0 loss:0.4775 exploreP:0.9799\n",
      "Episode:7 meanR:28.7500 R:25.0 loss:0.4108 exploreP:0.9775\n",
      "Episode:8 meanR:26.6667 R:10.0 loss:0.3705 exploreP:0.9765\n",
      "Episode:9 meanR:30.8000 R:68.0 loss:0.3474 exploreP:0.9700\n",
      "Episode:10 meanR:29.9091 R:21.0 loss:0.3185 exploreP:0.9680\n",
      "Episode:11 meanR:28.3333 R:11.0 loss:0.2789 exploreP:0.9669\n",
      "Episode:12 meanR:27.0769 R:12.0 loss:0.3609 exploreP:0.9658\n",
      "Episode:13 meanR:26.0000 R:12.0 loss:0.4006 exploreP:0.9646\n",
      "Episode:14 meanR:25.2000 R:14.0 loss:0.3216 exploreP:0.9633\n",
      "Episode:15 meanR:24.3750 R:12.0 loss:0.3489 exploreP:0.9621\n",
      "Episode:16 meanR:23.8235 R:15.0 loss:0.3660 exploreP:0.9607\n",
      "Episode:17 meanR:24.7222 R:40.0 loss:0.3756 exploreP:0.9569\n",
      "Episode:18 meanR:24.1053 R:13.0 loss:0.3153 exploreP:0.9557\n",
      "Episode:19 meanR:23.9000 R:20.0 loss:0.3014 exploreP:0.9538\n",
      "Episode:20 meanR:23.6667 R:19.0 loss:0.3981 exploreP:0.9520\n",
      "Episode:21 meanR:24.3636 R:39.0 loss:0.5562 exploreP:0.9483\n",
      "Episode:22 meanR:24.6087 R:30.0 loss:0.5960 exploreP:0.9455\n",
      "Episode:23 meanR:24.9167 R:32.0 loss:0.5771 exploreP:0.9425\n",
      "Episode:24 meanR:24.5600 R:16.0 loss:0.7637 exploreP:0.9410\n",
      "Episode:25 meanR:24.5385 R:24.0 loss:0.5882 exploreP:0.9388\n",
      "Episode:26 meanR:24.1111 R:13.0 loss:0.4617 exploreP:0.9376\n",
      "Episode:27 meanR:23.7857 R:15.0 loss:0.8198 exploreP:0.9362\n",
      "Episode:28 meanR:23.3793 R:12.0 loss:1.0165 exploreP:0.9351\n",
      "Episode:29 meanR:23.1000 R:15.0 loss:1.2920 exploreP:0.9337\n",
      "Episode:30 meanR:22.9677 R:19.0 loss:0.5338 exploreP:0.9320\n",
      "Episode:31 meanR:24.3750 R:68.0 loss:0.9473 exploreP:0.9257\n",
      "Episode:32 meanR:23.9697 R:11.0 loss:1.1985 exploreP:0.9247\n",
      "Episode:33 meanR:23.6176 R:12.0 loss:0.8940 exploreP:0.9236\n",
      "Episode:34 meanR:23.2857 R:12.0 loss:0.7205 exploreP:0.9225\n",
      "Episode:35 meanR:23.3889 R:27.0 loss:1.4468 exploreP:0.9201\n",
      "Episode:36 meanR:23.0000 R:9.0 loss:1.5968 exploreP:0.9192\n",
      "Episode:37 meanR:22.8158 R:16.0 loss:1.0115 exploreP:0.9178\n",
      "Episode:38 meanR:22.5385 R:12.0 loss:1.2363 exploreP:0.9167\n",
      "Episode:39 meanR:22.6250 R:26.0 loss:1.7748 exploreP:0.9143\n",
      "Episode:40 meanR:22.3659 R:12.0 loss:0.8766 exploreP:0.9133\n",
      "Episode:41 meanR:22.3095 R:20.0 loss:1.4866 exploreP:0.9115\n",
      "Episode:42 meanR:22.0698 R:12.0 loss:1.1695 exploreP:0.9104\n",
      "Episode:43 meanR:21.8409 R:12.0 loss:1.6334 exploreP:0.9093\n",
      "Episode:44 meanR:21.6667 R:14.0 loss:0.7948 exploreP:0.9080\n",
      "Episode:45 meanR:21.5870 R:18.0 loss:1.8717 exploreP:0.9064\n",
      "Episode:46 meanR:21.4043 R:13.0 loss:2.2645 exploreP:0.9053\n",
      "Episode:47 meanR:21.3958 R:21.0 loss:3.0593 exploreP:0.9034\n",
      "Episode:48 meanR:21.1837 R:11.0 loss:2.6853 exploreP:0.9024\n",
      "Episode:49 meanR:21.5000 R:37.0 loss:1.7426 exploreP:0.8991\n",
      "Episode:50 meanR:21.2941 R:11.0 loss:1.8828 exploreP:0.8981\n",
      "Episode:51 meanR:21.1538 R:14.0 loss:1.4726 exploreP:0.8969\n",
      "Episode:52 meanR:21.0000 R:13.0 loss:1.4696 exploreP:0.8957\n",
      "Episode:53 meanR:20.9815 R:20.0 loss:1.7672 exploreP:0.8940\n",
      "Episode:54 meanR:20.9273 R:18.0 loss:1.7825 exploreP:0.8924\n",
      "Episode:55 meanR:20.7679 R:12.0 loss:3.5246 exploreP:0.8913\n",
      "Episode:56 meanR:20.5965 R:11.0 loss:1.3130 exploreP:0.8903\n",
      "Episode:57 meanR:20.4828 R:14.0 loss:2.2570 exploreP:0.8891\n",
      "Episode:58 meanR:20.3220 R:11.0 loss:3.8018 exploreP:0.8881\n",
      "Episode:59 meanR:20.2333 R:15.0 loss:1.5327 exploreP:0.8868\n",
      "Episode:60 meanR:20.2295 R:20.0 loss:3.0039 exploreP:0.8851\n",
      "Episode:61 meanR:20.1290 R:14.0 loss:2.4408 exploreP:0.8838\n",
      "Episode:62 meanR:20.1905 R:24.0 loss:2.8822 exploreP:0.8818\n",
      "Episode:63 meanR:20.1094 R:15.0 loss:2.3215 exploreP:0.8804\n",
      "Episode:64 meanR:20.0308 R:15.0 loss:2.7491 exploreP:0.8791\n",
      "Episode:65 meanR:19.9091 R:12.0 loss:2.0402 exploreP:0.8781\n",
      "Episode:66 meanR:19.9104 R:20.0 loss:4.5038 exploreP:0.8764\n",
      "Episode:67 meanR:19.7794 R:11.0 loss:2.4249 exploreP:0.8754\n",
      "Episode:68 meanR:19.7101 R:15.0 loss:1.6142 exploreP:0.8741\n",
      "Episode:69 meanR:19.6000 R:12.0 loss:3.3310 exploreP:0.8731\n",
      "Episode:70 meanR:19.6056 R:20.0 loss:3.1424 exploreP:0.8714\n",
      "Episode:71 meanR:19.5278 R:14.0 loss:3.8202 exploreP:0.8701\n",
      "Episode:72 meanR:19.4932 R:17.0 loss:2.0269 exploreP:0.8687\n",
      "Episode:73 meanR:19.4459 R:16.0 loss:4.1446 exploreP:0.8673\n",
      "Episode:74 meanR:19.8000 R:46.0 loss:3.6034 exploreP:0.8634\n",
      "Episode:75 meanR:19.6974 R:12.0 loss:1.0603 exploreP:0.8624\n",
      "Episode:76 meanR:19.6104 R:13.0 loss:2.6496 exploreP:0.8612\n",
      "Episode:77 meanR:19.5000 R:11.0 loss:4.3105 exploreP:0.8603\n",
      "Episode:78 meanR:19.4177 R:13.0 loss:6.4328 exploreP:0.8592\n",
      "Episode:79 meanR:19.2875 R:9.0 loss:3.7801 exploreP:0.8584\n",
      "Episode:80 meanR:19.3210 R:22.0 loss:4.2748 exploreP:0.8566\n",
      "Episode:81 meanR:19.2195 R:11.0 loss:1.8214 exploreP:0.8556\n",
      "Episode:82 meanR:19.1446 R:13.0 loss:4.2225 exploreP:0.8546\n",
      "Episode:83 meanR:19.0952 R:15.0 loss:4.1484 exploreP:0.8533\n",
      "Episode:84 meanR:19.4118 R:46.0 loss:2.9145 exploreP:0.8494\n",
      "Episode:85 meanR:19.3023 R:10.0 loss:5.2396 exploreP:0.8486\n",
      "Episode:86 meanR:19.2989 R:19.0 loss:2.1190 exploreP:0.8470\n",
      "Episode:87 meanR:19.2045 R:11.0 loss:2.5024 exploreP:0.8461\n",
      "Episode:88 meanR:19.1461 R:14.0 loss:5.4176 exploreP:0.8449\n",
      "Episode:89 meanR:19.1222 R:17.0 loss:3.3095 exploreP:0.8435\n",
      "Episode:90 meanR:19.0989 R:17.0 loss:3.5574 exploreP:0.8421\n",
      "Episode:91 meanR:19.0543 R:15.0 loss:3.0055 exploreP:0.8408\n",
      "Episode:92 meanR:19.1505 R:28.0 loss:3.9313 exploreP:0.8385\n",
      "Episode:93 meanR:19.1170 R:16.0 loss:5.9438 exploreP:0.8372\n",
      "Episode:94 meanR:19.0211 R:10.0 loss:2.7266 exploreP:0.8363\n",
      "Episode:95 meanR:19.0104 R:18.0 loss:5.5364 exploreP:0.8349\n",
      "Episode:96 meanR:18.8969 R:8.0 loss:5.5915 exploreP:0.8342\n",
      "Episode:97 meanR:19.1327 R:42.0 loss:5.6720 exploreP:0.8307\n",
      "Episode:98 meanR:19.0808 R:14.0 loss:4.0583 exploreP:0.8296\n",
      "Episode:99 meanR:19.0600 R:17.0 loss:5.7062 exploreP:0.8282\n",
      "Episode:100 meanR:19.0600 R:23.0 loss:6.0645 exploreP:0.8263\n",
      "Episode:101 meanR:18.9600 R:12.0 loss:6.9201 exploreP:0.8253\n",
      "Episode:102 meanR:18.8100 R:12.0 loss:4.8455 exploreP:0.8244\n",
      "Episode:103 meanR:18.7300 R:10.0 loss:3.8760 exploreP:0.8235\n",
      "Episode:104 meanR:18.5900 R:16.0 loss:4.9371 exploreP:0.8222\n",
      "Episode:105 meanR:18.5000 R:15.0 loss:5.7750 exploreP:0.8210\n",
      "Episode:106 meanR:18.0700 R:18.0 loss:5.4318 exploreP:0.8196\n",
      "Episode:107 meanR:18.0200 R:20.0 loss:4.7158 exploreP:0.8180\n",
      "Episode:108 meanR:18.0600 R:14.0 loss:4.6762 exploreP:0.8168\n",
      "Episode:109 meanR:17.4900 R:11.0 loss:6.0715 exploreP:0.8159\n",
      "Episode:110 meanR:17.4000 R:12.0 loss:2.2577 exploreP:0.8150\n",
      "Episode:111 meanR:17.4000 R:11.0 loss:7.8627 exploreP:0.8141\n",
      "Episode:112 meanR:17.5500 R:27.0 loss:6.9568 exploreP:0.8119\n",
      "Episode:113 meanR:17.5600 R:13.0 loss:3.2398 exploreP:0.8109\n",
      "Episode:114 meanR:17.5600 R:14.0 loss:7.2694 exploreP:0.8098\n",
      "Episode:115 meanR:17.5800 R:14.0 loss:6.9922 exploreP:0.8086\n",
      "Episode:116 meanR:17.6500 R:22.0 loss:4.2325 exploreP:0.8069\n",
      "Episode:117 meanR:17.4200 R:17.0 loss:7.3036 exploreP:0.8055\n",
      "Episode:118 meanR:17.4800 R:19.0 loss:5.2545 exploreP:0.8040\n",
      "Episode:119 meanR:17.3900 R:11.0 loss:4.6848 exploreP:0.8031\n",
      "Episode:120 meanR:17.4300 R:23.0 loss:4.3210 exploreP:0.8013\n",
      "Episode:121 meanR:17.3000 R:26.0 loss:6.4409 exploreP:0.7993\n",
      "Episode:122 meanR:17.2100 R:21.0 loss:8.7137 exploreP:0.7976\n",
      "Episode:123 meanR:17.0200 R:13.0 loss:5.0674 exploreP:0.7966\n",
      "Episode:124 meanR:16.9800 R:12.0 loss:9.3027 exploreP:0.7956\n",
      "Episode:125 meanR:17.0600 R:32.0 loss:6.6242 exploreP:0.7931\n",
      "Episode:126 meanR:17.0300 R:10.0 loss:4.8234 exploreP:0.7924\n",
      "Episode:127 meanR:17.0100 R:13.0 loss:2.7871 exploreP:0.7913\n",
      "Episode:128 meanR:17.0300 R:14.0 loss:4.1665 exploreP:0.7902\n",
      "Episode:129 meanR:17.0600 R:18.0 loss:5.2074 exploreP:0.7888\n",
      "Episode:130 meanR:17.0000 R:13.0 loss:6.1795 exploreP:0.7878\n",
      "Episode:131 meanR:16.4500 R:13.0 loss:7.0839 exploreP:0.7868\n",
      "Episode:132 meanR:16.6900 R:35.0 loss:6.3730 exploreP:0.7841\n",
      "Episode:133 meanR:16.6600 R:9.0 loss:5.4647 exploreP:0.7834\n",
      "Episode:134 meanR:16.6700 R:13.0 loss:6.1492 exploreP:0.7824\n",
      "Episode:135 meanR:16.5600 R:16.0 loss:6.1867 exploreP:0.7812\n",
      "Episode:136 meanR:16.5700 R:10.0 loss:4.4390 exploreP:0.7804\n"
     ]
    },
    {
     "name": "stdout",
     "output_type": "stream",
     "text": [
      "Episode:137 meanR:16.6700 R:26.0 loss:6.0782 exploreP:0.7784\n",
      "Episode:138 meanR:16.7900 R:24.0 loss:6.1921 exploreP:0.7766\n",
      "Episode:139 meanR:16.6800 R:15.0 loss:8.4367 exploreP:0.7754\n",
      "Episode:140 meanR:16.6900 R:13.0 loss:7.2361 exploreP:0.7744\n",
      "Episode:141 meanR:16.7100 R:22.0 loss:7.2607 exploreP:0.7727\n",
      "Episode:142 meanR:16.9400 R:35.0 loss:7.8141 exploreP:0.7701\n",
      "Episode:143 meanR:17.2400 R:42.0 loss:5.0480 exploreP:0.7669\n",
      "Episode:144 meanR:17.2300 R:13.0 loss:5.4531 exploreP:0.7659\n",
      "Episode:145 meanR:17.5000 R:45.0 loss:6.9017 exploreP:0.7625\n",
      "Episode:146 meanR:17.8000 R:43.0 loss:8.3831 exploreP:0.7593\n",
      "Episode:147 meanR:17.6900 R:10.0 loss:8.3294 exploreP:0.7585\n",
      "Episode:148 meanR:18.0000 R:42.0 loss:4.8450 exploreP:0.7554\n",
      "Episode:149 meanR:17.9500 R:32.0 loss:8.2423 exploreP:0.7530\n",
      "Episode:150 meanR:18.0400 R:20.0 loss:5.0159 exploreP:0.7515\n",
      "Episode:151 meanR:18.0200 R:12.0 loss:6.0064 exploreP:0.7506\n",
      "Episode:152 meanR:18.2300 R:34.0 loss:5.4787 exploreP:0.7481\n",
      "Episode:153 meanR:18.1500 R:12.0 loss:8.4989 exploreP:0.7472\n",
      "Episode:154 meanR:18.1800 R:21.0 loss:5.1570 exploreP:0.7457\n",
      "Episode:155 meanR:18.5100 R:45.0 loss:5.2464 exploreP:0.7424\n",
      "Episode:156 meanR:18.8400 R:44.0 loss:6.2517 exploreP:0.7392\n",
      "Episode:157 meanR:18.8400 R:14.0 loss:7.3931 exploreP:0.7381\n",
      "Episode:158 meanR:19.1300 R:40.0 loss:5.8633 exploreP:0.7352\n",
      "Episode:159 meanR:19.1200 R:14.0 loss:8.3912 exploreP:0.7342\n",
      "Episode:160 meanR:19.0300 R:11.0 loss:13.2945 exploreP:0.7334\n",
      "Episode:161 meanR:19.3900 R:50.0 loss:8.6173 exploreP:0.7298\n",
      "Episode:162 meanR:19.3200 R:17.0 loss:10.5948 exploreP:0.7286\n"
     ]
    }
   ],
   "source": [
    "# Save/load the model and save for plotting\n",
    "saver = tf.train.Saver()\n",
    "episode_rewards_list, rewards_list, loss_list = [], [], []\n",
    "\n",
    "# TF session for training\n",
    "with tf.Session(graph=graph) as sess:\n",
    "    sess.run(tf.global_variables_initializer())\n",
    "    #saver.restore(sess, 'checkpoints/model.ckpt')    \n",
    "    #saver.restore(sess, tf.train.latest_checkpoint('checkpoints'))\n",
    "    total_step = 0 # Explore or exploit parameter\n",
    "    episode_reward = deque(maxlen=100) # 100 episodes average/running average/running mean/window\n",
    "    \n",
    "    # Training episodes/epochs\n",
    "    for ep in range(11111):\n",
    "        total_reward = 0\n",
    "        loss_batch = []\n",
    "        state = env.reset()\n",
    "\n",
    "        # Training steps/batches\n",
    "        while True:\n",
    "            # Explore (Env) or Exploit (Model)\n",
    "            total_step += 1\n",
    "            explore_p = explore_stop + (explore_start - explore_stop) * np.exp(-decay_rate * total_step) \n",
    "            if explore_p > np.random.rand():\n",
    "                action = env.action_space.sample()\n",
    "            else:\n",
    "                action = act(sess, state)\n",
    "                \n",
    "            next_state, reward, done, _ = env.step(action)\n",
    "            \n",
    "            memory.buffer.append([state, action, next_state, reward, float(done)])\n",
    "            \n",
    "            total_reward += reward\n",
    "            state = next_state\n",
    "\n",
    "            # Training\n",
    "            loss = learn(sess, memory, batch_size)\n",
    "            loss_batch.append(loss)\n",
    "            \n",
    "            if done is True:\n",
    "                break\n",
    "                \n",
    "        episode_reward.append(total_reward)\n",
    "        print('Episode:{}'.format(ep),\n",
    "              'meanR:{:.4f}'.format(np.mean(episode_reward)),\n",
    "              'R:{}'.format(total_reward),\n",
    "              'loss:{:.4f}'.format(np.mean(loss_batch)),\n",
    "              'exploreP:{:.4f}'.format(explore_p))\n",
    "        \n",
    "        # Ploting out\n",
    "        episode_rewards_list.append([ep, np.mean(episode_reward)])\n",
    "        rewards_list.append([ep, total_reward])\n",
    "        loss_list.append([ep, np.mean(loss_batch)])\n",
    "        \n",
    "        # Break episode/epoch loop\n",
    "        if np.mean(episode_reward) >= 500:\n",
    "            break\n",
    "            \n",
    "    # At the end of all training episodes/epochs\n",
    "    saver.save(sess, 'checkpoints/model.ckpt')"
   ]
  },
  {
   "cell_type": "markdown",
   "metadata": {},
   "source": [
    "# Visualizing training\n",
    "\n",
    "Below I'll plot the total rewards for each episode. I'm plotting the rolling average too, in blue."
   ]
  },
  {
   "cell_type": "code",
   "execution_count": null,
   "metadata": {},
   "outputs": [],
   "source": [
    "%matplotlib inline\n",
    "import matplotlib.pyplot as plt\n",
    "\n",
    "def running_mean(x, N):\n",
    "    cumsum = np.cumsum(np.insert(x, 0, 0)) \n",
    "    return (cumsum[N:] - cumsum[:-N]) / N "
   ]
  },
  {
   "cell_type": "code",
   "execution_count": null,
   "metadata": {},
   "outputs": [],
   "source": [
    "eps, arr = np.array(episode_rewards_list).T\n",
    "smoothed_arr = running_mean(arr, 10)\n",
    "plt.plot(eps[-len(smoothed_arr):], smoothed_arr)\n",
    "plt.plot(eps, arr, color='grey', alpha=0.3)\n",
    "plt.xlabel('Episode')\n",
    "plt.ylabel('Total rewards')"
   ]
  },
  {
   "cell_type": "code",
   "execution_count": null,
   "metadata": {},
   "outputs": [],
   "source": [
    "eps, arr = np.array(rewards_list).T\n",
    "smoothed_arr = running_mean(arr, 10)\n",
    "plt.plot(eps[-len(smoothed_arr):], smoothed_arr)\n",
    "plt.plot(eps, arr, color='grey', alpha=0.3)\n",
    "plt.xlabel('Episode')\n",
    "plt.ylabel('Total rewards')"
   ]
  },
  {
   "cell_type": "code",
   "execution_count": 20,
   "metadata": {},
   "outputs": [
    {
     "data": {
      "text/plain": [
       "Text(0, 0.5, 'Total rewards')"
      ]
     },
     "execution_count": 20,
     "metadata": {},
     "output_type": "execute_result"
    },
    {
     "data": {
      "image/png": "[encoded data removed]",
      "text/plain": [
       "<Figure size 432x288 with 1 Axes>"
      ]
     },
     "metadata": {
      "needs_background": "light"
     },
     "output_type": "display_data"
    }
   ],
   "source": [
    "eps, arr = np.array(episode_rewards_list).T\n",
    "smoothed_arr = running_mean(arr, 10)\n",
    "plt.plot(eps[-len(smoothed_arr):], smoothed_arr)\n",
    "plt.plot(eps, arr, color='grey', alpha=0.3)\n",
    "plt.xlabel('Episode')\n",
    "plt.ylabel('Total rewards')"
   ]
  },
  {
   "cell_type": "code",
   "execution_count": 21,
   "metadata": {},
   "outputs": [
    {
     "data": {
      "text/plain": [
       "Text(0, 0.5, 'Total rewards')"
      ]
     },
     "execution_count": 21,
     "metadata": {},
     "output_type": "execute_result"
    },
    {
     "data": {
      "image/png": "[encoded data removed]",
      "text/plain": [
       "<Figure size 432x288 with 1 Axes>"
      ]
     },
     "metadata": {
      "needs_background": "light"
     },
     "output_type": "display_data"
    }
   ],
   "source": [
    "eps, arr = np.array(rewards_list).T\n",
    "smoothed_arr = running_mean(arr, 10)\n",
    "plt.plot(eps[-len(smoothed_arr):], smoothed_arr)\n",
    "plt.plot(eps, arr, color='grey', alpha=0.3)\n",
    "plt.xlabel('Episode')\n",
    "plt.ylabel('Total rewards')"
   ]
  },
  {
   "cell_type": "markdown",
   "metadata": {},
   "source": [
    "## Testing\n",
    "\n",
    "Let's checkout how our trained agent plays the game."
   ]
  },
  {
   "cell_type": "code",
   "execution_count": 23,
   "metadata": {},
   "outputs": [
    {
     "name": "stdout",
     "output_type": "stream",
     "text": [
      "INFO:tensorflow:Restoring parameters from checkpoints/model-qn.ckpt\n"
     ]
    },
    {
     "name": "stderr",
     "output_type": "stream",
     "text": [
      "/home/arasdar/anaconda3/lib/python3.6/site-packages/gym/envs/registration.py:14: PkgResourcesDeprecationWarning: Parameters to load are deprecated.  Call .resolve and .require separately.\n",
      "  result = entry_point.load(False)\n"
     ]
    },
    {
     "name": "stdout",
     "output_type": "stream",
     "text": [
      "total_reward: 500.0\n",
      "total_reward: 500.0\n",
      "total_reward: 500.0\n",
      "total_reward: 500.0\n",
      "total_reward: 500.0\n",
      "total_reward: 500.0\n",
      "total_reward: 500.0\n",
      "total_reward: 500.0\n",
      "total_reward: 500.0\n",
      "total_reward: 500.0\n"
     ]
    }
   ],
   "source": [
    "# Creating a gym env\n",
    "import gym\n",
    "env = gym.make('CartPole-v0')\n",
    "env = gym.make('CartPole-v1')\n",
    "\n",
    "# A training graph session\n",
    "with tf.Session(graph=graph) as sess:\n",
    "    #sess.run(tf.global_variables_initializer())\n",
    "    #saver.restore(sess, 'checkpoints/model-qn.ckpt')    \n",
    "    saver.restore(sess, tf.train.latest_checkpoint('checkpoints'))\n",
    "    \n",
    "    # Episodes/epochs\n",
    "    for _ in range(10):\n",
    "        state = env.reset()\n",
    "        total_reward = 0\n",
    "\n",
    "        # Steps/batches\n",
    "        while True:\n",
    "            env.render()\n",
    "            action_logits = sess.run(model.actions_logits, feed_dict={model.states: np.reshape(state, [1, -1])})\n",
    "            action = np.argmax(action_logits)\n",
    "            state, reward, done, _ = env.step(action)\n",
    "            total_reward += reward\n",
    "            if done:\n",
    "                break\n",
    "                \n",
    "        # Closing the env\n",
    "        print('total_reward: {}'.format(total_reward))\n",
    "# Close the env at the end\n",
    "env.close()"
   ]
  },
  {
   "cell_type": "markdown",
   "metadata": {},
   "source": [
    "## Extending this\n",
    "\n",
    "So, Cart-Pole is a pretty simple game. However, the same model can be used to train an agent to play something much more complicated like Pong or Space Invaders. Instead of a state like we're using here though, you'd want to use convolutional layers to get the state from the screen images.\n",
    "\n",
    "![Deep Q-Learning Atari](assets/atari-network.png)\n",
    "\n",
    "I'll leave it as a challenge for you to use deep Q-learning to train an agent to play Atari games. Here's the original paper which will get you started: http://www.davidqiu.com:8888/research/nature14236.pdf."
   ]
  },
  {
   "cell_type": "code",
   "execution_count": null,
   "metadata": {},
   "outputs": [],
   "source": []
  }
 ],
 "metadata": {
  "kernelspec": {
   "display_name": "Python 3",
   "language": "python",
   "name": "python3"
  },
  "language_info": {
   "codemirror_mode": {
    "name": "ipython",
    "version": 3
   },
   "file_extension": ".py",
   "mimetype": "text/x-python",
   "name": "python",
   "nbconvert_exporter": "python",
   "pygments_lexer": "ipython3",
   "version": "3.6.8"
  }
 },
 "nbformat": 4,
 "nbformat_minor": 2
}
