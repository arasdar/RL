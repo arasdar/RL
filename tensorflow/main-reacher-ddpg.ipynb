{
 "cells": [
  {
   "cell_type": "markdown",
   "metadata": {},
   "source": [
    "# Continuous Control with DDPG\n",
    "\n",
    "---\n",
    "\n",
    "In this notebook, you will learn how to use the Unity ML-Agents environment for the second project of the [Deep Reinforcement Learning Nanodegree](https://www.udacity.com/course/deep-reinforcement-learning-nanodegree--nd893) program.\n",
    "\n",
    "### 1. Start the Environment\n",
    "\n",
    "We begin by importing the necessary packages.  If the code cell below returns an error, please revisit the project instructions to double-check that you have installed [Unity ML-Agents](https://github.com/Unity-Technologies/ml-agents/blob/master/docs/Installation.md) and [NumPy](http://www.numpy.org/)."
   ]
  },
  {
   "cell_type": "code",
   "execution_count": 1,
   "metadata": {},
   "outputs": [],
   "source": [
    "from unityagents import UnityEnvironment\n",
    "import numpy as np"
   ]
  },
  {
   "cell_type": "markdown",
   "metadata": {},
   "source": [
    "Next, we will start the environment!  **_Before running the code cell below_**, change the `file_name` parameter to match the location of the Unity environment that you downloaded.\n",
    "\n",
    "- **Mac**: `\"path/to/Reacher.app\"`\n",
    "- **Windows** (x86): `\"path/to/Reacher_Windows_x86/Reacher.exe\"`\n",
    "- **Windows** (x86_64): `\"path/to/Reacher_Windows_x86_64/Reacher.exe\"`\n",
    "- **Linux** (x86): `\"path/to/Reacher_Linux/Reacher.x86\"`\n",
    "- **Linux** (x86_64): `\"path/to/Reacher_Linux/Reacher.x86_64\"`\n",
    "- **Linux** (x86, headless): `\"path/to/Reacher_Linux_NoVis/Reacher.x86\"`\n",
    "- **Linux** (x86_64, headless): `\"path/to/Reacher_Linux_NoVis/Reacher.x86_64\"`\n",
    "\n",
    "For instance, if you are using a Mac, then you downloaded `Reacher.app`.  If this file is in the same folder as the notebook, then the line below should appear as follows:\n",
    "```\n",
    "env = UnityEnvironment(file_name=\"Reacher.app\")\n",
    "```"
   ]
  },
  {
   "cell_type": "code",
   "execution_count": 2,
   "metadata": {},
   "outputs": [
    {
     "name": "stderr",
     "output_type": "stream",
     "text": [
      "INFO:unityagents:\n",
      "'Academy' started successfully!\n",
      "Unity Academy name: Academy\n",
      "        Number of Brains: 1\n",
      "        Number of External Brains : 1\n",
      "        Lesson number : 0\n",
      "        Reset Parameters :\n",
      "\t\tgoal_size -> 5.0\n",
      "\t\tgoal_speed -> 1.0\n",
      "Unity brain name: ReacherBrain\n",
      "        Number of Visual Observations (per agent): 0\n",
      "        Vector Observation space type: continuous\n",
      "        Vector Observation space size (per agent): 33\n",
      "        Number of stacked Vector Observation: 1\n",
      "        Vector Action space type: continuous\n",
      "        Vector Action space size (per agent): 4\n",
      "        Vector Action descriptions: , , , \n"
     ]
    }
   ],
   "source": [
    "# env = UnityEnvironment(file_name='/home/arasdar/unity-envs/Reacher_Linux/Reacher.x86_64')\n",
    "# env = UnityEnvironment(file_name='/home/arasdar/unity-envs/Reacher_Linux_v1/Reacher.x86_64')\n",
    "# env = UnityEnvironment(file_name='/home/arasdar/unity-envs/Reacher_Linux_OneAgent/Reacher_Linux/Reacher.x86_64')\n",
    "# env = UnityEnvironment(file_name='/home/arasdar/unity-envs/Reacher_Linux_NoVis_OneAgent/Reacher_Linux_NoVis/Reacher.x86_64')\n",
    "# env = UnityEnvironment(file_name='/home/arasdar/unity-envs/Reacher_Linux_NoVis/Reacher.x86_64')\n",
    "env = UnityEnvironment(file_name='/home/arasdar/unity-envs/Reacher_Linux_NoVis_MultiAgents/Reacher_Linux_NoVis/Reacher.x86_64')"
   ]
  },
  {
   "cell_type": "markdown",
   "metadata": {},
   "source": [
    "Environments contain **_brains_** which are responsible for deciding the actions of their associated agents. Here we check for the first brain available, and set it as the default brain we will be controlling from Python."
   ]
  },
  {
   "cell_type": "code",
   "execution_count": 3,
   "metadata": {},
   "outputs": [],
   "source": [
    "# get the default brain\n",
    "brain_name = env.brain_names[0]\n",
    "brain = env.brains[brain_name]"
   ]
  },
  {
   "cell_type": "markdown",
   "metadata": {},
   "source": [
    "### 2. Examine the State and Action Spaces\n",
    "\n",
    "In this environment, a double-jointed arm can move to target locations. A reward of `+0.1` is provided for each step that the agent's hand is in the goal location. Thus, the goal of your agent is to maintain its position at the target location for as many time steps as possible.\n",
    "\n",
    "The observation space consists of `33` variables corresponding to position, rotation, velocity, and angular velocities of the arm.  Each action is a vector with four numbers, corresponding to torque applicable to two joints.  Every entry in the action vector must be a number between `-1` and `1`.\n",
    "\n",
    "Run the code cell below to print some information about the environment."
   ]
  },
  {
   "cell_type": "code",
   "execution_count": 4,
   "metadata": {},
   "outputs": [
    {
     "name": "stdout",
     "output_type": "stream",
     "text": [
      "Number of agents: 20\n",
      "Size of each action: 4\n",
      "There are 20 agents. Each observes a state with length: 33\n"
     ]
    }
   ],
   "source": [
    "# reset the environment\n",
    "env_info = env.reset(train_mode=True)[brain_name]\n",
    "\n",
    "# number of agents\n",
    "num_agents = len(env_info.agents)\n",
    "print('Number of agents:', num_agents)\n",
    "\n",
    "# size of each action\n",
    "action_size = brain.vector_action_space_size\n",
    "print('Size of each action:', action_size)\n",
    "\n",
    "# examine the state space \n",
    "states = env_info.vector_observations\n",
    "state_size = states.shape[1]\n",
    "print('There are {} agents. Each observes a state with length: {}'.format(states.shape[0], state_size))\n",
    "# print('The state for the first agent looks like:', states[0])"
   ]
  },
  {
   "cell_type": "markdown",
   "metadata": {},
   "source": [
    "### 3. Take Random Actions in the Environment\n",
    "\n",
    "In the next code cell, you will learn how to use the Python API to control the agent and receive feedback from the environment.\n",
    "\n",
    "Once this cell is executed, you will watch the agent's performance, if it selects an action at random with each time step.  A window should pop up that allows you to observe the agent, as it moves through the environment.  \n",
    "\n",
    "Of course, as part of the project, you'll have to change the code so that the agent is able to use its experience to gradually choose better actions when interacting with the environment!"
   ]
  },
  {
   "cell_type": "code",
   "execution_count": 5,
   "metadata": {},
   "outputs": [],
   "source": [
    "# env_info = env.reset(train_mode=False)[brain_name]     # reset the environment    \n",
    "# states = env_info.vector_observations                  # get the current state (for each agent)\n",
    "# scores = np.zeros(num_agents)                          # initialize the score (for each agent)\n",
    "# while True:\n",
    "#     actions = np.random.randn(num_agents, action_size) # select an action (for each agent)\n",
    "#     actions = np.clip(actions, -1, 1)                  # all actions between -1 and 1\n",
    "#     env_info = env.step(actions)[brain_name]           # send all actions to tne environment\n",
    "#     next_states = env_info.vector_observations         # get next state (for each agent)\n",
    "#     rewards = env_info.rewards                         # get reward (for each agent)\n",
    "#     dones = env_info.local_done                        # see if episode finished\n",
    "#     scores += env_info.rewards                         # update the score (for each agent)\n",
    "#     states = next_states                               # roll over states to next time step\n",
    "#     if np.any(dones):                                  # exit loop if episode finished\n",
    "#         break\n",
    "# print('Total score (averaged over agents) this episode: {}'.format(np.mean(scores)))"
   ]
  },
  {
   "cell_type": "markdown",
   "metadata": {},
   "source": [
    "When finished, you can close the environment."
   ]
  },
  {
   "cell_type": "code",
   "execution_count": 6,
   "metadata": {},
   "outputs": [],
   "source": [
    "# env.close()"
   ]
  },
  {
   "cell_type": "markdown",
   "metadata": {},
   "source": [
    "### 4. It's Your Turn!\n",
    "\n",
    "Now it's your turn to train your own agent to solve the environment!  When training the environment, set `train_mode=True`, so that the line for resetting the environment looks like the following:\n",
    "```python\n",
    "env_info = env.reset(train_mode=True)[brain_name]\n",
    "```"
   ]
  },
  {
   "cell_type": "code",
   "execution_count": 7,
   "metadata": {},
   "outputs": [],
   "source": [
    "# # Testing the train mode\n",
    "# env_info = env.reset(train_mode=True)[brain_name]     # reset the environment    \n",
    "# state = env_info.vector_observations[0]                  # get the current state (for each agent)\n",
    "# #scores = np.zeros(num_agents)                          # initialize the score (for each agent)\n",
    "# num_steps = 0\n",
    "# while True:\n",
    "#     num_steps += 1\n",
    "#     action = np.random.randn(num_agents, action_size) # select an action (for each agent)\n",
    "#     #print(action)\n",
    "#     action = np.clip(action, -1, 1)                  # all actions between -1 and 1\n",
    "#     #print(action)\n",
    "#     env_info = env.step(action)[brain_name]           # send all actions to tne environment\n",
    "#     next_state = env_info.vector_observations[0]         # get next state (for each agent)\n",
    "#     reward = env_info.rewards[0]                         # get reward (for each agent)\n",
    "#     done = env_info.local_done[0]                        # see if episode finished\n",
    "#     #scores += env_info.rewards                         # update the score (for each agent)\n",
    "#     state = next_state                               # roll over states to next time step\n",
    "#     if done is True:                                  # exit loop if episode finished\n",
    "#         #print(action.shape, reward)\n",
    "#         #print(done)\n",
    "#         break\n",
    "# print('Total score (averaged over agents) this episode: {}'.format(np.mean(scores)))\n",
    "# num_steps"
   ]
  },
  {
   "cell_type": "markdown",
   "metadata": {},
   "source": [
    "## Option 1: Solve the First Version\n",
    "The task is episodic, and in order to solve the environment, your agent must get an average score of +30 over 100 consecutive episodes."
   ]
  },
  {
   "cell_type": "code",
   "execution_count": 8,
   "metadata": {},
   "outputs": [
    {
     "name": "stdout",
     "output_type": "stream",
     "text": [
      "TensorFlow Version: 1.7.1\n",
      "Default GPU Device: \n"
     ]
    }
   ],
   "source": [
    "import tensorflow as tf\n",
    "print('TensorFlow Version: {}'.format(tf.__version__))\n",
    "print('Default GPU Device: {}'.format(tf.test.gpu_device_name()))"
   ]
  },
  {
   "cell_type": "code",
   "execution_count": 9,
   "metadata": {},
   "outputs": [],
   "source": [
    "def model_input(state_size, action_size):\n",
    "    #states = tf.placeholder(tf.float32, [None, *state_size], name='states')\n",
    "    states = tf.placeholder(tf.float64, [None, state_size], name='states')\n",
    "    actions = tf.placeholder(tf.float64, [None, action_size], name='actions')\n",
    "    targetQs = tf.placeholder(tf.float64, [None], name='targetQs')\n",
    "    is_training = tf.placeholder(tf.bool, name='is_training')\n",
    "    return states, actions, targetQs, is_training"
   ]
  },
  {
   "cell_type": "code",
   "execution_count": 10,
   "metadata": {},
   "outputs": [],
   "source": [
    "def init_xavier(random_seed=1, dtype=tf.float32, uniform=False):\n",
    "    xavier = tf.contrib.layers.xavier_initializer(\n",
    "        dtype=dtype,\n",
    "        seed=tf.set_random_seed(random_seed), \n",
    "        uniform=uniform) # False: normal\n",
    "    return xavier"
   ]
  },
  {
   "cell_type": "code",
   "execution_count": 11,
   "metadata": {},
   "outputs": [],
   "source": [
    "def mlp(inputs, units, trainable=True):\n",
    "    outputs = tf.layers.dense(\n",
    "        inputs=inputs,\n",
    "        units=units,\n",
    "        activation=None,\n",
    "        use_bias=True,\n",
    "        kernel_initializer=init_xavier(), # Xavier with normal init\n",
    "        bias_initializer=tf.zeros_initializer(),\n",
    "        kernel_regularizer=None,\n",
    "        bias_regularizer=None,\n",
    "        activity_regularizer=None,\n",
    "        kernel_constraint=None,\n",
    "        bias_constraint=None,\n",
    "        trainable=trainable,\n",
    "        name=None,\n",
    "        reuse=None)\n",
    "    return outputs"
   ]
  },
  {
   "cell_type": "code",
   "execution_count": 12,
   "metadata": {},
   "outputs": [],
   "source": [
    "# tf.nn.leaky_relu(\n",
    "#     features,\n",
    "#     alpha=0.2,\n",
    "#     name=None\n",
    "# )\n",
    "def nl(inputs, alpha=0.2):\n",
    "    outputs = tf.maximum(alpha * inputs, inputs)\n",
    "    return outputs"
   ]
  },
  {
   "cell_type": "code",
   "execution_count": 13,
   "metadata": {},
   "outputs": [],
   "source": [
    "def bn(inputs, training=True):\n",
    "    outputs = tf.layers.batch_normalization(\n",
    "        inputs=inputs,\n",
    "        axis=-1,\n",
    "        momentum=0.99,\n",
    "        epsilon=0.001,\n",
    "        center=True,\n",
    "        scale=True,\n",
    "        beta_initializer=tf.zeros_initializer(),\n",
    "        gamma_initializer=tf.ones_initializer(),\n",
    "        moving_mean_initializer=tf.zeros_initializer(),\n",
    "        moving_variance_initializer=tf.ones_initializer(),\n",
    "        beta_regularizer=None,\n",
    "        gamma_regularizer=None,\n",
    "        beta_constraint=None,\n",
    "        gamma_constraint=None,\n",
    "        training=training,\n",
    "        trainable=True,\n",
    "        name=None,\n",
    "        reuse=None,\n",
    "        renorm=False,\n",
    "        renorm_clipping=None,\n",
    "        renorm_momentum=0.99,\n",
    "        fused=None,\n",
    "        virtual_batch_size=None,\n",
    "        adjustment=None)\n",
    "    return outputs"
   ]
  },
  {
   "cell_type": "code",
   "execution_count": 14,
   "metadata": {},
   "outputs": [],
   "source": [
    "def actor(states, action_size, hidden_size, reuse=False, alpha=0.2, training=False):\n",
    "    with tf.variable_scope('actor', reuse=reuse):\n",
    "        # First fully connected layer\n",
    "        h = mlp(inputs=states, units=hidden_size)\n",
    "        h = bn(h, training=training)\n",
    "        h = nl(h, alpha=alpha)\n",
    "        \n",
    "        # Second fully connected layer\n",
    "        h = mlp(inputs=h, units=hidden_size)\n",
    "        h = bn(h, training=training)\n",
    "        h = nl(h, alpha=alpha)\n",
    "        \n",
    "        # Output layer\n",
    "        h = mlp(inputs=h, units=action_size)\n",
    "        actions = tf.tanh(h) # [-1, +1]\n",
    "        return actions"
   ]
  },
  {
   "cell_type": "code",
   "execution_count": 15,
   "metadata": {},
   "outputs": [],
   "source": [
    "def actor_target(states, action_size, hidden_size, reuse=False, alpha=0.2, training=False):\n",
    "    with tf.variable_scope('actor_target', reuse=reuse):\n",
    "        # First fully connected layer\n",
    "        h = mlp(inputs=states, units=hidden_size)\n",
    "        h = bn(h, training=training)\n",
    "        h = nl(h, alpha=alpha)\n",
    "        \n",
    "        # Second fully connected layer\n",
    "        h = mlp(inputs=h, units=hidden_size)\n",
    "        h = bn(h, training=training)\n",
    "        h = nl(h, alpha=alpha)\n",
    "        \n",
    "        # Output layer\n",
    "        h = mlp(inputs=h, units=action_size)\n",
    "        actions = tf.tanh(h) # [-1, +1]\n",
    "        return actions"
   ]
  },
  {
   "cell_type": "code",
   "execution_count": 16,
   "metadata": {},
   "outputs": [],
   "source": [
    "def critic(states, actions, action_size, hidden_size, reuse=False, alpha=0.2, training=False):\n",
    "    with tf.variable_scope('critic', reuse=reuse):\n",
    "        # First fully connected layer\n",
    "        h = mlp(inputs=states, units=hidden_size)\n",
    "        h = bn(h, training=training)\n",
    "        h = nl(h, alpha=alpha)\n",
    "        \n",
    "        # Second fully connected layer\n",
    "        h = tf.concat(axis=1, values=[h, actions])\n",
    "        h = mlp(inputs=h, units=hidden_size)\n",
    "        h = bn(h, training=training)\n",
    "        h = nl(h, alpha=alpha)\n",
    "                \n",
    "        # Third layer\n",
    "        h = mlp(inputs=h, units=hidden_size)\n",
    "        h = bn(h, training=training)\n",
    "        h = nl(h, alpha=alpha)\n",
    "        \n",
    "        # Output layer\n",
    "        values = mlp(inputs=h, units=1)\n",
    "        return values"
   ]
  },
  {
   "cell_type": "code",
   "execution_count": 17,
   "metadata": {},
   "outputs": [],
   "source": [
    "def critic_target(states, actions, action_size, hidden_size, reuse=False, alpha=0.2, training=False):\n",
    "    with tf.variable_scope('critic_target', reuse=reuse):\n",
    "        # First fully connected layer\n",
    "        h = mlp(inputs=states, units=hidden_size)\n",
    "        h = bn(h, training=training)\n",
    "        h = nl(h, alpha=alpha)\n",
    "        \n",
    "        # Second fully connected layer\n",
    "        h = tf.concat(axis=1, values=[h, actions])\n",
    "        h = mlp(inputs=h, units=hidden_size)\n",
    "        h = bn(h, training=training)\n",
    "        h = nl(h, alpha=alpha)\n",
    "                \n",
    "        # Third layer\n",
    "        h = mlp(inputs=h, units=hidden_size)\n",
    "        h = bn(h, training=training)\n",
    "        h = nl(h, alpha=alpha)\n",
    "        \n",
    "        # Output layer\n",
    "        values = mlp(inputs=h, units=1)\n",
    "        return values"
   ]
  },
  {
   "cell_type": "code",
   "execution_count": 18,
   "metadata": {},
   "outputs": [],
   "source": [
    "def model_loss(actions, states, targetQs, action_size, hidden_size, is_training):\n",
    "    #######################################################################\n",
    "    actions_target = actor_target(states=states, hidden_size=hidden_size, action_size=action_size, \n",
    "                                  training=is_training)\n",
    "    values_target = critic_target(states=states, actions=actions_target, hidden_size=hidden_size, \n",
    "                                  action_size=action_size, training=is_training)\n",
    "    ###################################################################\n",
    "    actions_logits = actor(states=states, hidden_size=hidden_size, action_size=action_size, \n",
    "                           training=is_training)\n",
    "    values_logits_ = critic(states=states, actions=actions_logits, hidden_size=hidden_size, \n",
    "                            action_size=action_size, training=is_training)\n",
    "    ###########################################################################\n",
    "    values_logits = critic(states=states, actions=actions, hidden_size=hidden_size, action_size=action_size, \n",
    "                           training=is_training, reuse=True)\n",
    "    ###########################################################################\n",
    "    Qs = tf.reshape(values_logits, shape=[-1])\n",
    "    dloss = tf.reduce_mean(tf.square(Qs - targetQs))\n",
    "    \n",
    "    gQs = tf.reshape(values_logits_, shape=[-1])\n",
    "    gloss = -tf.reduce_mean(gQs)\n",
    "    \n",
    "    return actions_logits, values_target, gloss, dloss"
   ]
  },
  {
   "cell_type": "code",
   "execution_count": 19,
   "metadata": {},
   "outputs": [],
   "source": [
    "def model_opt(gloss, dloss, g_learning_rate, d_learning_rate, gamma):\n",
    "    # Get weights and bias to update\n",
    "    t_vars = tf.trainable_variables()\n",
    "    g_vars = [var for var in t_vars if var.name.startswith('actor')]\n",
    "    d_vars = [var for var in t_vars if var.name.startswith('critic')]\n",
    "    g_vars_tgt = [var for var in t_vars if var.name.startswith('actor_target')]\n",
    "    d_vars_tgt = [var for var in t_vars if var.name.startswith('critic_target')]\n",
    "\n",
    "    #     # # Optimize RNN\n",
    "    #     #grads, _ = tf.clip_by_global_norm(t_list=tf.gradients(loss, g_vars), clip_norm=5) # usually around 1-5\n",
    "    #     g_grads = tf.gradients(gloss, g_vars)\n",
    "    #     d_grads = tf.gradients(dloss, d_vars)\n",
    "    #     g_opt = tf.train.AdamOptimizer(g_learning_rate).apply_gradients(grads_and_vars=zip(g_grads, g_vars))\n",
    "    #     d_opt = tf.train.AdamOptimizer(d_learning_rate).apply_gradients(grads_and_vars=zip(d_grads, d_vars))\n",
    "    \n",
    "    # Optimize\n",
    "    with tf.control_dependencies(tf.get_collection(tf.GraphKeys.UPDATE_OPS)): # Required for batchnorm (BN)\n",
    "        g_opt = tf.train.AdamOptimizer(g_learning_rate).minimize(gloss, var_list=g_vars)\n",
    "        d_opt = tf.train.AdamOptimizer(d_learning_rate).minimize(dloss, var_list=d_vars)\n",
    "    \n",
    "        # Soft update/ NOT hard update\n",
    "        # θ_target = τ*θ + (1 - τ)*θ_target\n",
    "        # θ_target = (1-gamma)*θ + gamma*θ_target\n",
    "        g_opt_tgt = [g_vars_tgt[i].assign((g_vars_tgt[i]*gamma) + (g_vars[i]*(1 - gamma)))\n",
    "                     for i in range(len(g_vars_tgt))]\n",
    "        d_opt_tgt = [d_vars_tgt[i].assign((d_vars_tgt[i]*gamma) + (d_vars[i]*(1 - gamma))) \n",
    "                     for i in range(len(d_vars_tgt))]\n",
    "\n",
    "    return g_opt, d_opt, g_opt_tgt, d_opt_tgt"
   ]
  },
  {
   "cell_type": "code",
   "execution_count": 20,
   "metadata": {},
   "outputs": [],
   "source": [
    "class Model:\n",
    "    def __init__(self, state_size, action_size, hidden_size, g_learning_rate, d_learning_rate, gamma):\n",
    "        \n",
    "        # Data of the Model: make the data available inside the framework\n",
    "        self.states, self.actions, self.targetQs, self.is_training = model_input(state_size=state_size, \n",
    "                                                                                 action_size=action_size)\n",
    "\n",
    "        # Create the Model: calculating the loss and forwad pass\n",
    "        self.actions_logits, self.values_target, self.gloss, self.dloss = model_loss(\n",
    "            action_size=action_size, hidden_size=hidden_size, # model init\n",
    "            states=self.states, actions=self.actions, targetQs=self.targetQs, is_training=self.is_training)\n",
    "        \n",
    "        # Update the model: backward pass and backprop\n",
    "        self.g_opt, self.d_opt, self.g_opt_tgt, self.d_opt_tgt = model_opt(gloss=self.gloss, dloss=self.dloss,\n",
    "                                                                           g_learning_rate=g_learning_rate, \n",
    "                                                                           d_learning_rate=d_learning_rate, \n",
    "                                                                           gamma=gamma)"
   ]
  },
  {
   "cell_type": "code",
   "execution_count": 21,
   "metadata": {},
   "outputs": [],
   "source": [
    "from collections import deque\n",
    "\n",
    "class Memory():\n",
    "    def __init__(self, max_size = 1000):\n",
    "        self.buffer = deque(maxlen=max_size)\n",
    "        \n",
    "    def sample(self, batch_size):\n",
    "        idx = np.random.choice(np.arange(len(self.buffer)), size=batch_size, replace=False)\n",
    "        \n",
    "        return [self.buffer[ii] for ii in idx]"
   ]
  },
  {
   "cell_type": "code",
   "execution_count": 22,
   "metadata": {},
   "outputs": [
    {
     "data": {
      "text/plain": [
       "((20, 33), (20, 4), 4, 0, 4, 33)"
      ]
     },
     "execution_count": 22,
     "metadata": {},
     "output_type": "execute_result"
    }
   ],
   "source": [
    "# reset the environment\n",
    "env_info.vector_observations.shape, env_info.previous_vector_actions.shape, \\\n",
    "brain.vector_action_space_size, brain.number_visual_observations, \\\n",
    "brain.vector_action_space_size, brain.vector_observation_space_size"
   ]
  },
  {
   "cell_type": "code",
   "execution_count": 23,
   "metadata": {},
   "outputs": [],
   "source": [
    "# Network parameters\n",
    "state_size = 33\n",
    "action_size = 4\n",
    "hidden_size = 400             # number of units in each Q-network hidden layer\n",
    "g_learning_rate = 1e-4         # Q-network learning rate\n",
    "d_learning_rate = 1e-4         # Q-network learning rate\n",
    "\n",
    "# Memory parameters\n",
    "memory_size = int(1e6)            # memory capacity\n",
    "batch_size = 1024             # experience mini-batch size\n",
    "gamma=0.99"
   ]
  },
  {
   "cell_type": "code",
   "execution_count": 24,
   "metadata": {},
   "outputs": [],
   "source": [
    "# Reset/init the graph/session\n",
    "graph = tf.reset_default_graph()\n",
    "\n",
    "# Init the model\n",
    "model = Model(action_size=action_size, state_size=state_size, hidden_size=hidden_size, gamma=gamma,\n",
    "              g_learning_rate=g_learning_rate, d_learning_rate=d_learning_rate)\n",
    "\n",
    "# Init the memory\n",
    "memory = Memory(max_size=memory_size)"
   ]
  },
  {
   "cell_type": "code",
   "execution_count": 25,
   "metadata": {},
   "outputs": [],
   "source": [
    "# env_info = env.reset(train_mode=True)[brain_name] # reset the environment\n",
    "# states = env_info.vector_observations   # get the state\n",
    "# for _ in range(memory_size):\n",
    "#     action = np.random.randint(action_size)        # select an action\n",
    "#     env_info = env.step(action)[brain_name]        # send the action to the environment\n",
    "#     next_state = env_info.vector_observations[0]   # get the next state\n",
    "#     reward = env_info.rewards[0]                   # get the reward\n",
    "#     done = env_info.local_done[0]                  # see if episode has finished\n",
    "#     memory.buffer.append([state, action, next_state, reward, float(done)])\n",
    "#     state = next_state\n",
    "#     if done:                                       # exit loop if episode finished\n",
    "#         env_info = env.reset(train_mode=True)[brain_name] # reset the environment\n",
    "#         state = env_info.vector_observations[0]   # get the state\n",
    "#         break"
   ]
  },
  {
   "cell_type": "code",
   "execution_count": 26,
   "metadata": {},
   "outputs": [],
   "source": [
    "def act(sess, states):\n",
    "    actions_logits = sess.run(model.actions_logits, feed_dict={model.states: states, \n",
    "                                                               model.is_training: False})\n",
    "    return actions_logits"
   ]
  },
  {
   "cell_type": "code",
   "execution_count": 28,
   "metadata": {},
   "outputs": [],
   "source": [
    "def learn(sess, memory, batch_size, gamma):\n",
    "    batch = memory.sample(batch_size)\n",
    "    states = np.array([each[0] for each in batch])\n",
    "    actions = np.array([each[1] for each in batch])\n",
    "    next_states = np.array([each[2] for each in batch])\n",
    "    rewards = np.array([each[3] for each in batch])\n",
    "    dones = np.array([each[4] for each in batch])\n",
    "\n",
    "    # TargetQs\n",
    "    next_values_target = sess.run(model.values_target, feed_dict = {model.states: next_states, \n",
    "                                                               model.is_training: False})\n",
    "    nextQs = next_values_target.reshape(-1)\n",
    "    targetQs = rewards + (gamma * nextQs * (1-dones))\n",
    "\n",
    "    feed_dict = {model.states: states, model.actions: actions, model.targetQs: targetQs,\n",
    "                 model.is_training: True}\n",
    "    dloss, _= sess.run([model.dloss, model.d_opt], feed_dict)\n",
    "    gloss, _= sess.run([model.gloss, model.g_opt], feed_dict)\n",
    "\n",
    "    # Update the target networks\n",
    "    sess.run([model.d_opt_tgt, model.g_opt_tgt], feed_dict)\n",
    "    \n",
    "    return gloss, dloss"
   ]
  },
  {
   "cell_type": "code",
   "execution_count": null,
   "metadata": {},
   "outputs": [
    {
     "name": "stdout",
     "output_type": "stream",
     "text": [
      "Episode:0 meanR:0.6515 R:0.6515 gloss:-0.4196 dloss:0.0087\n"
     ]
    }
   ],
   "source": [
    "# Save/load the model and save for plotting\n",
    "saver = tf.train.Saver()\n",
    "episode_rewards_list, rewards_list = [], []\n",
    "gloss_list, dloss_list = [], []\n",
    "\n",
    "# TF session for training\n",
    "with tf.Session(graph=graph) as sess:\n",
    "    sess.run(tf.global_variables_initializer())\n",
    "    #saver.restore(sess, 'checkpoints/model.ckpt')    \n",
    "    #saver.restore(sess, tf.train.latest_checkpoint('checkpoints'))\n",
    "    \n",
    "    episode_reward = deque(maxlen=100) # 100 episodes for running average/running mean/window\n",
    "    n_episodes=2000 \n",
    "    max_t=1000 \n",
    "    # print_every=10, \n",
    "    learn_every=1\n",
    "    num_learn=20 # number of agents\n",
    "    goal_score=30\n",
    "\n",
    "    # Training episodes/epochs\n",
    "    for ep in range(n_episodes):\n",
    "        gloss_batch, dloss_batch = [], []\n",
    "        \n",
    "        #state = env.reset()\n",
    "        env_info = env.reset(train_mode=True)[brain_name]     # reset the environment    \n",
    "        states = env_info.vector_observations                 # get the current state (for each agent)\n",
    "        #print(states.shape)\n",
    "        scores = np.zeros(num_agents)                          # initialize the score (for each agent)\n",
    "        \n",
    "        # Training steps/batches\n",
    "        for t in range(max_t):\n",
    "            \n",
    "            actions = act(sess, states)\n",
    "            \n",
    "            # noise = np.random.normal(loc=0, scale=0.01, size=[num_agents, action_size])\n",
    "            # actions_logits += noise\n",
    "            # actions = np.clip(actions_logits, -1, 1) # [-1, +1]\n",
    "            \n",
    "            #print(actions.shape)\n",
    "            #next_state, reward, done, _ = env.step(action)\n",
    "            env_info = env.step(actions)[brain_name]           # send all actions to tne environment\n",
    "            next_states = env_info.vector_observations         # get next state (for each agent)\n",
    "            rewards = env_info.rewards                        # get reward (for each agent)\n",
    "            dones = env_info.local_done                        # see if episode finished\n",
    "            \n",
    "            for state, action, next_state, reward, done in zip(states, actions, next_states, rewards, dones):\n",
    "                #agent.step(state, action, reward, next_state, done) # send actions to the agent\n",
    "                memory.buffer.append([state, action, next_state, reward, done])\n",
    "\n",
    "            scores += env_info.rewards                         # update the score (for each agent)\n",
    "            states = next_states                               # roll over states to next time step\n",
    "            \n",
    "            # total reward\n",
    "            total_reward = np.mean(scores)\n",
    "            \n",
    "            # Training\n",
    "            if len(memory.buffer) >= batch_size:\n",
    "                if t%learn_every == 0:\n",
    "                    for _ in range(num_learn):\n",
    "                        gloss, dloss = learn(sess, memory, batch_size, gamma)\n",
    "                        gloss_batch.append(gloss)\n",
    "                        dloss_batch.append(dloss)\n",
    "            \n",
    "            # End of episode\n",
    "            if np.any(dones):\n",
    "                print('done')\n",
    "                break\n",
    "                \n",
    "        # Print out\n",
    "        episode_reward.append(total_reward)\n",
    "        print('Episode:{}'.format(ep),\n",
    "              'meanR:{:.4f}'.format(np.mean(episode_reward)),\n",
    "              'R:{:.4f}'.format(total_reward),\n",
    "              'gloss:{:.4f}'.format(np.mean(gloss_batch)),\n",
    "              'dloss:{:.4f}'.format(np.mean(dloss_batch)))\n",
    "        \n",
    "        # Ploting out\n",
    "        episode_rewards_list.append([ep, np.mean(episode_reward)])\n",
    "        rewards_list.append([ep, total_reward])\n",
    "        gloss_list.append([ep, np.mean(gloss_batch)])\n",
    "        dloss_list.append([ep, np.mean(dloss_batch)])\n",
    "        \n",
    "        # Break episode/epoch loop\n",
    "        ## Option 1: Solve the First Version\n",
    "        #The task is episodic, and in order to solve the environment, \n",
    "        #your agent must get an average score of +30 over 100 consecutive episodes.\n",
    "        if np.mean(episode_reward) >= goal_score:\n",
    "            break\n",
    "            \n",
    "    # At the end of all training episodes/epochs\n",
    "    saver.save(sess, 'checkpoints/model.ckpt')"
   ]
  },
  {
   "cell_type": "code",
   "execution_count": null,
   "metadata": {},
   "outputs": [],
   "source": [
    "# fig = plt.figure()\n",
    "# ax = fig.add_subplot(1,1,1)\n",
    "\n",
    "# plt.plot(np.arange(1, len(scores)+1), scores)\n",
    "# plt.ylabel('Score')\n",
    "# plt.xlabel('Episode #')\n",
    "# plt.show()"
   ]
  },
  {
   "cell_type": "code",
   "execution_count": null,
   "metadata": {},
   "outputs": [],
   "source": [
    "%matplotlib inline\n",
    "import matplotlib.pyplot as plt\n",
    "\n",
    "def running_mean(x, N):\n",
    "    cumsum = np.cumsum(np.insert(x, 0, 0)) \n",
    "    return (cumsum[N:] - cumsum[:-N]) / N "
   ]
  },
  {
   "cell_type": "code",
   "execution_count": null,
   "metadata": {},
   "outputs": [],
   "source": [
    "eps, arr = np.array(episode_rewards_list).T\n",
    "smoothed_arr = running_mean(arr, 10)\n",
    "plt.plot(eps[-len(smoothed_arr):], smoothed_arr)\n",
    "plt.plot(eps, arr, color='grey', alpha=0.3)\n",
    "plt.xlabel('Episode')\n",
    "plt.ylabel('Total rewards')"
   ]
  },
  {
   "cell_type": "code",
   "execution_count": null,
   "metadata": {},
   "outputs": [],
   "source": [
    "eps, arr = np.array(rewards_list).T\n",
    "smoothed_arr = running_mean(arr, 10)\n",
    "plt.plot(eps[-len(smoothed_arr):], smoothed_arr)\n",
    "plt.plot(eps, arr, color='grey', alpha=0.3)\n",
    "plt.xlabel('Episode')\n",
    "plt.ylabel('Total rewards')"
   ]
  },
  {
   "cell_type": "code",
   "execution_count": null,
   "metadata": {},
   "outputs": [],
   "source": [
    "eps, arr = np.array(gloss_list).T\n",
    "smoothed_arr = running_mean(arr, 10)\n",
    "plt.plot(eps[-len(smoothed_arr):], smoothed_arr)\n",
    "plt.plot(eps, arr, color='grey', alpha=0.3)\n",
    "plt.xlabel('Episode')\n",
    "plt.ylabel('Average losses')"
   ]
  },
  {
   "cell_type": "code",
   "execution_count": null,
   "metadata": {},
   "outputs": [],
   "source": [
    "eps, arr = np.array(dloss_list).T\n",
    "smoothed_arr = running_mean(arr, 10)\n",
    "plt.plot(eps[-len(smoothed_arr):], smoothed_arr)\n",
    "plt.plot(eps, arr, color='grey', alpha=0.3)\n",
    "plt.xlabel('Episode')\n",
    "plt.ylabel('Average losses')"
   ]
  },
  {
   "cell_type": "code",
   "execution_count": null,
   "metadata": {},
   "outputs": [],
   "source": [
    "# env_info = env.reset(train_mode=False)[brain_name]     # reset the environment    \n",
    "# states = env_info.vector_observations                  # get the current state (for each agent)\n",
    "# scores = np.zeros(num_agents)                          # initialize the score (for each agent)\n",
    "\n",
    "# while True:\n",
    "#     actions = agent.act(states)                        # select actions from loaded model agent\n",
    "#     env_info = env.step(actions)[brain_name]           # send all actions to tne environment\n",
    "#     next_states = env_info.vector_observations         # get next state (for each agent)\n",
    "#     rewards = env_info.rewards                         # get reward (for each agent)\n",
    "#     dones = env_info.local_done                        # see if episode finished\n",
    "#     scores += env_info.rewards                         # update the score (for each agent)\n",
    "#     states = next_states                               # roll over states to next time step\n",
    "#     if np.any(dones):                                  # exit loop if episode finished\n",
    "#         break\n",
    "# print('Total score: {}'.format(np.mean(scores)))"
   ]
  }
 ],
 "metadata": {
  "kernelspec": {
   "display_name": "Python 3",
   "language": "python",
   "name": "python3"
  },
  "language_info": {
   "codemirror_mode": {
    "name": "ipython",
    "version": 3
   },
   "file_extension": ".py",
   "mimetype": "text/x-python",
   "name": "python",
   "nbconvert_exporter": "python",
   "pygments_lexer": "ipython3",
   "version": "3.6.8"
  }
 },
 "nbformat": 4,
 "nbformat_minor": 2
}
