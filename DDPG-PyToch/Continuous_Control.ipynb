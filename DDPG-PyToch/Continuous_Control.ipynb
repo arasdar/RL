{
 "cells": [
  {
   "cell_type": "markdown",
   "metadata": {},
   "source": [
    "# Continuous Control\n",
    "\n",
    "---\n",
    "\n",
    "You are welcome to use this coding environment to train your agent for the project.  Follow the instructions below to get started!\n",
    "\n",
    "### 1. Start the Environment"
   ]
  },
  {
   "cell_type": "code",
   "execution_count": 1,
   "metadata": {},
   "outputs": [
    {
     "name": "stderr",
     "output_type": "stream",
     "text": [
      "INFO:unityagents:\n",
      "'Academy' started successfully!\n",
      "Unity Academy name: Academy\n",
      "        Number of Brains: 1\n",
      "        Number of External Brains : 1\n",
      "        Lesson number : 0\n",
      "        Reset Parameters :\n",
      "\t\tgoal_speed -> 1.0\n",
      "\t\tgoal_size -> 5.0\n",
      "Unity brain name: ReacherBrain\n",
      "        Number of Visual Observations (per agent): 0\n",
      "        Vector Observation space type: continuous\n",
      "        Vector Observation space size (per agent): 33\n",
      "        Number of stacked Vector Observation: 1\n",
      "        Vector Action space type: continuous\n",
      "        Vector Action space size (per agent): 4\n",
      "        Vector Action descriptions: , , , \n"
     ]
    }
   ],
   "source": [
    "import random\n",
    "import torch\n",
    "import time\n",
    "import numpy as np\n",
    "from collections import deque\n",
    "import matplotlib.pyplot as plt\n",
    "%matplotlib inline\n",
    "\n",
    "from ddpg_agent2 import Agent, ReplayBuffer\n",
    "\n",
    "from unityagents import UnityEnvironment\n",
    "import numpy as np\n",
    "\n",
    "\n",
    "# Load Reacher env with 20 agents\n",
    "# env = UnityEnvironment(file_name='Reacher')\n",
    "env = UnityEnvironment(file_name='/home/arasdar/unity-envs/Reacher_Linux_NoVis_MultiAgents/Reacher_Linux_NoVis/Reacher.x86_64')"
   ]
  },
  {
   "cell_type": "markdown",
   "metadata": {},
   "source": [
    "Environments contain **_brains_** which are responsible for deciding the actions of their associated agents. Here we check for the first brain available, and set it as the default brain we will be controlling from Python."
   ]
  },
  {
   "cell_type": "code",
   "execution_count": 2,
   "metadata": {},
   "outputs": [],
   "source": [
    "# get the default brain\n",
    "brain_name = env.brain_names[0]\n",
    "brain = env.brains[brain_name]"
   ]
  },
  {
   "cell_type": "markdown",
   "metadata": {},
   "source": [
    "### 2. Examine the State and Action Spaces\n",
    "\n",
    "Run the code cell below to print some information about the environment."
   ]
  },
  {
   "cell_type": "code",
   "execution_count": 3,
   "metadata": {},
   "outputs": [
    {
     "name": "stdout",
     "output_type": "stream",
     "text": [
      "Number of agents: 20\n",
      "Size of each action: 4\n",
      "There are 20 agents. Each observes a state with length: 33\n"
     ]
    }
   ],
   "source": [
    "# reset the environment\n",
    "env_info = env.reset(train_mode=True)[brain_name]\n",
    "\n",
    "# number of agents\n",
    "num_agents = len(env_info.agents)\n",
    "print('Number of agents:', num_agents)\n",
    "\n",
    "# size of each action\n",
    "action_size = brain.vector_action_space_size\n",
    "print('Size of each action:', action_size)\n",
    "\n",
    "# examine the state space \n",
    "states = env_info.vector_observations\n",
    "state_size = states.shape[1]\n",
    "print('There are {} agents. Each observes a state with length: {}'.format(states.shape[0], state_size))\n",
    "# print('The state for the first agent looks like:', states[0])"
   ]
  },
  {
   "cell_type": "markdown",
   "metadata": {},
   "source": [
    "### 3. Instantiate DDPG Agent"
   ]
  },
  {
   "cell_type": "code",
   "execution_count": 4,
   "metadata": {},
   "outputs": [],
   "source": [
    "random_seed = 7\n",
    "train_mode = True\n",
    "\n",
    "agent = Agent(state_size=state_size, action_size=action_size, random_seed=random_seed)"
   ]
  },
  {
   "cell_type": "markdown",
   "metadata": {},
   "source": [
    "### 4. Train the Agent with DDPG"
   ]
  },
  {
   "cell_type": "code",
   "execution_count": null,
   "metadata": {},
   "outputs": [
    {
     "name": "stdout",
     "output_type": "stream",
     "text": [
      "Episode 1\tTotal Average Score: 0.56\tMean: 0.56\tMin: 0.00\tMax: 1.34\tDuration: 22.13\n",
      "Episode 2\tTotal Average Score: 0.71\tMean: 0.86\tMin: 0.11\tMax: 1.78\tDuration: 23.74\n",
      "Episode 3\tTotal Average Score: 0.81\tMean: 1.02\tMin: 0.14\tMax: 2.20\tDuration: 23.75\n",
      "Episode 4\tTotal Average Score: 0.79\tMean: 0.74\tMin: 0.00\tMax: 1.67\tDuration: 24.35\n",
      "Episode 5\tTotal Average Score: 0.78\tMean: 0.72\tMin: 0.13\tMax: 1.62\tDuration: 23.69\n",
      "Episode 6\tTotal Average Score: 0.77\tMean: 0.72\tMin: 0.21\tMax: 1.47\tDuration: 25.01\n",
      "Episode 7\tTotal Average Score: 0.81\tMean: 1.06\tMin: 0.15\tMax: 3.15\tDuration: 24.80\n",
      "Episode 8\tTotal Average Score: 0.83\tMean: 0.94\tMin: 0.23\tMax: 1.99\tDuration: 25.19\n",
      "Episode 9\tTotal Average Score: 0.86\tMean: 1.08\tMin: 0.31\tMax: 2.60\tDuration: 24.77\n",
      "Episode 10\tTotal Average Score: 0.93\tMean: 1.57\tMin: 0.30\tMax: 3.19\tDuration: 25.26\n",
      "Episode 10\tTotal Average Score: 0.93\n",
      "Episode 11\tTotal Average Score: 0.99\tMean: 1.59\tMin: 0.46\tMax: 2.80\tDuration: 25.60\n",
      "Episode 12\tTotal Average Score: 1.06\tMean: 1.89\tMin: 1.03\tMax: 3.87\tDuration: 26.92\n",
      "Episode 13\tTotal Average Score: 1.17\tMean: 2.43\tMin: 0.67\tMax: 4.72\tDuration: 26.86\n",
      "Episode 14\tTotal Average Score: 1.23\tMean: 1.98\tMin: 0.81\tMax: 3.82\tDuration: 26.08\n",
      "Episode 15\tTotal Average Score: 1.32\tMean: 2.59\tMin: 0.86\tMax: 4.88\tDuration: 28.59\n",
      "Episode 16\tTotal Average Score: 1.43\tMean: 3.18\tMin: 1.47\tMax: 4.94\tDuration: 27.61\n",
      "Episode 17\tTotal Average Score: 1.59\tMean: 4.06\tMin: 1.19\tMax: 8.53\tDuration: 27.41\n",
      "Episode 18\tTotal Average Score: 1.77\tMean: 4.92\tMin: 2.84\tMax: 7.78\tDuration: 29.88\n",
      "Episode 19\tTotal Average Score: 2.07\tMean: 7.35\tMin: 2.09\tMax: 11.64\tDuration: 31.79\n",
      "Episode 20\tTotal Average Score: 2.38\tMean: 8.36\tMin: 2.47\tMax: 15.83\tDuration: 31.00\n",
      "Episode 20\tTotal Average Score: 2.38\n",
      "Episode 21\tTotal Average Score: 2.73\tMean: 9.74\tMin: 3.69\tMax: 13.90\tDuration: 30.14\n",
      "Episode 22\tTotal Average Score: 3.16\tMean: 12.21\tMin: 3.81\tMax: 18.39\tDuration: 31.48\n",
      "Episode 23\tTotal Average Score: 3.78\tMean: 17.31\tMin: 5.68\tMax: 24.20\tDuration: 34.42\n",
      "Episode 24\tTotal Average Score: 4.51\tMean: 21.38\tMin: 12.13\tMax: 30.82\tDuration: 35.81\n",
      "Episode 25\tTotal Average Score: 5.30\tMean: 24.32\tMin: 9.18\tMax: 34.36\tDuration: 34.45\n",
      "Episode 26\tTotal Average Score: 6.13\tMean: 26.84\tMin: 17.83\tMax: 34.27\tDuration: 35.36\n",
      "Episode 27\tTotal Average Score: 7.04\tMean: 30.66\tMin: 20.97\tMax: 36.40\tDuration: 35.89\n",
      "Episode 28\tTotal Average Score: 7.92\tMean: 31.65\tMin: 24.12\tMax: 36.22\tDuration: 35.75\n",
      "Episode 29\tTotal Average Score: 8.83\tMean: 34.31\tMin: 30.53\tMax: 37.90\tDuration: 36.70\n",
      "Episode 30\tTotal Average Score: 9.68\tMean: 34.46\tMin: 27.97\tMax: 37.91\tDuration: 37.22\n",
      "Episode 30\tTotal Average Score: 9.68\n",
      "Episode 31\tTotal Average Score: 10.55\tMean: 36.49\tMin: 32.85\tMax: 38.87\tDuration: 37.97\n",
      "Episode 32\tTotal Average Score: 11.37\tMean: 36.73\tMin: 31.16\tMax: 39.21\tDuration: 39.35\n",
      "Episode 33\tTotal Average Score: 12.13\tMean: 36.62\tMin: 29.28\tMax: 38.46\tDuration: 40.12\n",
      "Episode 34\tTotal Average Score: 12.88\tMean: 37.68\tMin: 35.84\tMax: 39.33\tDuration: 40.48\n",
      "Episode 35\tTotal Average Score: 13.60\tMean: 37.79\tMin: 33.59\tMax: 39.18\tDuration: 41.14\n",
      "Episode 36\tTotal Average Score: 14.28\tMean: 38.30\tMin: 36.29\tMax: 39.53\tDuration: 43.54\n",
      "Episode 37\tTotal Average Score: 14.92\tMean: 38.03\tMin: 34.21\tMax: 39.46\tDuration: 42.67\n"
     ]
    }
   ],
   "source": [
    "def ddpg(n_episodes=2000, max_t=1000, print_every=10, learn_every=20, num_learn=10, goal_score=30):\n",
    "    total_scores_deque = deque(maxlen=100)\n",
    "    total_scores = []\n",
    "    \n",
    "    for i_episode in range(1, n_episodes+1):\n",
    "        # Reset Env and Agent\n",
    "        env_info = env.reset(train_mode=train_mode)[brain_name]       # reset the environment    \n",
    "        states = env_info.vector_observations                   # get the current state (for each agent)\n",
    "        scores = np.zeros(num_agents)                            # initialize the score (for each agent)\n",
    "        agent.reset()\n",
    "        \n",
    "        start_time = time.time()\n",
    "        \n",
    "        for t in range(max_t):\n",
    "            actions = agent.act(states)\n",
    "            \n",
    "            env_info = env.step(actions)[brain_name]            # send all actions to the environment\n",
    "            next_states = env_info.vector_observations          # get next state (for each agent)\n",
    "            rewards = env_info.rewards                          # get reward (for each agent)\n",
    "            \n",
    "            dones = env_info.local_done                         # see if episode finished\n",
    "            \n",
    "            for state, action, reward, next_state, done in zip(states, actions, rewards, next_states, dones):\n",
    "                agent.step(state, action, reward, next_state, done) # send actions to the agent\n",
    "            \n",
    "            scores += env_info.rewards                           # update the score (for each agent)\n",
    "            states = next_states                                # roll over states to next time step\n",
    "            \n",
    "            if t%learn_every == 0:\n",
    "                for _ in range(num_learn):\n",
    "                    agent.start_learn()\n",
    "            \n",
    "            if np.any(dones):                                   # exit loop if episode finished\n",
    "                break\n",
    "    \n",
    "        mean_score = np.mean(scores)\n",
    "        min_score = np.min(scores)\n",
    "        max_score = np.max(scores)\n",
    "        total_scores_deque.append(mean_score)\n",
    "        total_scores.append(mean_score)\n",
    "        total_average_score = np.mean(total_scores_deque)\n",
    "        duration = time.time() - start_time\n",
    "        \n",
    "        print('\\rEpisode {}\\tTotal Average Score: {:.2f}\\tMean: {:.2f}\\tMin: {:.2f}\\tMax: {:.2f}\\tDuration: {:.2f}'\n",
    "              .format(i_episode, total_average_score, mean_score, min_score, max_score, duration))\n",
    "\n",
    "        if i_episode % print_every == 0:\n",
    "            torch.save(agent.actor_local.state_dict(), 'checkpoint_actor.pth')\n",
    "            torch.save(agent.critic_local.state_dict(), 'checkpoint_critic.pth')\n",
    "            print('\\rEpisode {}\\tTotal Average Score: {:.2f}'.format(i_episode, total_average_score))  \n",
    "            \n",
    "        if total_average_score >= goal_score and i_episode >= 100:\n",
    "            print('Problem Solved after {} epsisodes!! Total Average score: {:.2f}'.format(i_episode, total_average_score))\n",
    "            torch.save(agent.actor_local.state_dict(), 'checkpoint_actor.pth')\n",
    "            torch.save(agent.critic_local.state_dict(), 'checkpoint_critic.pth')\n",
    "            break\n",
    "    \n",
    "    return total_scores\n",
    "\n",
    "scores = ddpg()"
   ]
  },
  {
   "cell_type": "markdown",
   "metadata": {},
   "source": [
    "### 5. Plot the result"
   ]
  },
  {
   "cell_type": "code",
   "execution_count": 6,
   "metadata": {},
   "outputs": [
    {
     "data": {
      "image/png": "[encoded data removed]",
      "text/plain": [
       "<Figure size 432x288 with 1 Axes>"
      ]
     },
     "metadata": {
      "needs_background": "light"
     },
     "output_type": "display_data"
    }
   ],
   "source": [
    "fig = plt.figure()\n",
    "ax = fig.add_subplot(1,1,1)\n",
    "\n",
    "plt.plot(np.arange(1, len(scores)+1), scores)\n",
    "plt.ylabel('Score')\n",
    "plt.xlabel('Episode #')\n",
    "plt.show()"
   ]
  },
  {
   "cell_type": "code",
   "execution_count": 6,
   "metadata": {},
   "outputs": [
    {
     "data": {
      "image/png": "[encoded data removed]",
      "text/plain": [
       "<Figure size 432x288 with 1 Axes>"
      ]
     },
     "metadata": {
      "needs_background": "light"
     },
     "output_type": "display_data"
    }
   ],
   "source": [
    "fig = plt.figure()\n",
    "ax = fig.add_subplot(1,1,1)\n",
    "\n",
    "plt.plot(np.arange(1, len(scores)+1), scores)\n",
    "plt.ylabel('Score')\n",
    "plt.xlabel('Episode #')\n",
    "plt.show()"
   ]
  },
  {
   "cell_type": "code",
   "execution_count": 7,
   "metadata": {},
   "outputs": [
    {
     "data": {
      "image/png": "[encoded data removed]",
      "text/plain": [
       "<matplotlib.figure.Figure at 0x7f486b774588>"
      ]
     },
     "metadata": {
      "needs_background": "light"
     },
     "output_type": "display_data"
    }
   ],
   "source": [
    "fig = plt.figure()\n",
    "ax = fig.add_subplot(1,1,1)\n",
    "\n",
    "plt.plot(np.arange(1, len(scores)+1), scores)\n",
    "plt.ylabel('Score')\n",
    "plt.xlabel('Episode #')\n",
    "plt.show()"
   ]
  },
  {
   "cell_type": "markdown",
   "metadata": {},
   "source": [
    "### 6. Watch the agent running with saved weights"
   ]
  },
  {
   "cell_type": "code",
   "execution_count": 7,
   "metadata": {},
   "outputs": [
    {
     "name": "stdout",
     "output_type": "stream",
     "text": [
      "Total score: 38.788499133009466\n"
     ]
    }
   ],
   "source": [
    "# Load the saved weights into Pytorch model\n",
    "agent.actor_local.load_state_dict(torch.load('checkpoint_actor.pth', map_location='cpu'))\n",
    "agent.critic_local.load_state_dict(torch.load('checkpoint_critic.pth', map_location='cpu'))\n",
    "\n",
    "env_info = env.reset(train_mode=False)[brain_name]     # reset the environment    \n",
    "states = env_info.vector_observations                  # get the current state (for each agent)\n",
    "scores = np.zeros(num_agents)                          # initialize the score (for each agent)\n",
    "\n",
    "while True:\n",
    "    actions = agent.act(states)                        # select actions from loaded model agent\n",
    "    env_info = env.step(actions)[brain_name]           # send all actions to tne environment\n",
    "    next_states = env_info.vector_observations         # get next state (for each agent)\n",
    "    rewards = env_info.rewards                         # get reward (for each agent)\n",
    "    dones = env_info.local_done                        # see if episode finished\n",
    "    scores += env_info.rewards                         # update the score (for each agent)\n",
    "    states = next_states                               # roll over states to next time step\n",
    "    if np.any(dones):                                  # exit loop if episode finished\n",
    "        break\n",
    "print('Total score: {}'.format(np.mean(scores)))"
   ]
  },
  {
   "cell_type": "markdown",
   "metadata": {},
   "source": [
    "When finished, you can close the environment."
   ]
  },
  {
   "cell_type": "code",
   "execution_count": 6,
   "metadata": {},
   "outputs": [],
   "source": [
    "env.close()"
   ]
  },
  {
   "cell_type": "code",
   "execution_count": null,
   "metadata": {},
   "outputs": [],
   "source": []
  }
 ],
 "metadata": {
  "kernelspec": {
   "display_name": "Python 3",
   "language": "python",
   "name": "python3"
  },
  "language_info": {
   "codemirror_mode": {
    "name": "ipython",
    "version": 3
   },
   "file_extension": ".py",
   "mimetype": "text/x-python",
   "name": "python",
   "nbconvert_exporter": "python",
   "pygments_lexer": "ipython3",
   "version": "3.6.8"
  }
 },
 "nbformat": 4,
 "nbformat_minor": 2
}
