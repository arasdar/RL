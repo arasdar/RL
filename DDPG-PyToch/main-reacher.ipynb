{
 "cells": [
  {
   "cell_type": "markdown",
   "metadata": {},
   "source": [
    "# Continuous Control\n",
    "\n",
    "---\n",
    "\n",
    "You are welcome to use this coding environment to train your agent for the project.  Follow the instructions below to get started!\n",
    "\n",
    "### 1. Start the Environment"
   ]
  },
  {
   "cell_type": "code",
   "execution_count": 1,
   "metadata": {},
   "outputs": [
    {
     "name": "stderr",
     "output_type": "stream",
     "text": [
      "INFO:unityagents:\n",
      "'Academy' started successfully!\n",
      "Unity Academy name: Academy\n",
      "        Number of Brains: 1\n",
      "        Number of External Brains : 1\n",
      "        Lesson number : 0\n",
      "        Reset Parameters :\n",
      "\t\tgoal_speed -> 1.0\n",
      "\t\tgoal_size -> 5.0\n",
      "Unity brain name: ReacherBrain\n",
      "        Number of Visual Observations (per agent): 0\n",
      "        Vector Observation space type: continuous\n",
      "        Vector Observation space size (per agent): 33\n",
      "        Number of stacked Vector Observation: 1\n",
      "        Vector Action space type: continuous\n",
      "        Vector Action space size (per agent): 4\n",
      "        Vector Action descriptions: , , , \n"
     ]
    }
   ],
   "source": [
    "import random\n",
    "import torch\n",
    "import time\n",
    "import numpy as np\n",
    "from collections import deque\n",
    "import matplotlib.pyplot as plt\n",
    "%matplotlib inline\n",
    "\n",
    "from agent2 import Agent, ReplayBuffer\n",
    "\n",
    "from unityagents import UnityEnvironment\n",
    "import numpy as np\n",
    "\n",
    "\n",
    "# Load Reacher env with 20 agents\n",
    "# env = UnityEnvironment(file_name='Reacher')\n",
    "env = UnityEnvironment(file_name='/home/arasdar/unity-envs/Reacher_Linux_NoVis_MultiAgents/Reacher_Linux_NoVis/Reacher.x86_64')"
   ]
  },
  {
   "cell_type": "markdown",
   "metadata": {},
   "source": [
    "Environments contain **_brains_** which are responsible for deciding the actions of their associated agents. Here we check for the first brain available, and set it as the default brain we will be controlling from Python."
   ]
  },
  {
   "cell_type": "code",
   "execution_count": 2,
   "metadata": {},
   "outputs": [],
   "source": [
    "# get the default brain\n",
    "brain_name = env.brain_names[0]\n",
    "brain = env.brains[brain_name]"
   ]
  },
  {
   "cell_type": "markdown",
   "metadata": {},
   "source": [
    "### 2. Examine the State and Action Spaces\n",
    "\n",
    "Run the code cell below to print some information about the environment."
   ]
  },
  {
   "cell_type": "code",
   "execution_count": 3,
   "metadata": {},
   "outputs": [
    {
     "name": "stdout",
     "output_type": "stream",
     "text": [
      "Number of agents: 20\n",
      "Size of each action: 4\n",
      "There are 20 agents. Each observes a state with length: 33\n"
     ]
    }
   ],
   "source": [
    "# reset the environment\n",
    "env_info = env.reset(train_mode=True)[brain_name]\n",
    "\n",
    "# number of agents\n",
    "num_agents = len(env_info.agents)\n",
    "print('Number of agents:', num_agents)\n",
    "\n",
    "# size of each action\n",
    "action_size = brain.vector_action_space_size\n",
    "print('Size of each action:', action_size)\n",
    "\n",
    "# examine the state space \n",
    "states = env_info.vector_observations\n",
    "state_size = states.shape[1]\n",
    "print('There are {} agents. Each observes a state with length: {}'.format(states.shape[0], state_size))\n",
    "# print('The state for the first agent looks like:', states[0])"
   ]
  },
  {
   "cell_type": "markdown",
   "metadata": {},
   "source": [
    "### 3. Instantiate DDPG Agent"
   ]
  },
  {
   "cell_type": "code",
   "execution_count": 4,
   "metadata": {},
   "outputs": [],
   "source": [
    "random_seed = 7\n",
    "train_mode = True\n",
    "\n",
    "agent = Agent(state_size=state_size, action_size=action_size, random_seed=random_seed)"
   ]
  },
  {
   "cell_type": "markdown",
   "metadata": {},
   "source": [
    "### 4. Train the Agent with DDPG"
   ]
  },
  {
   "cell_type": "code",
   "execution_count": 5,
   "metadata": {},
   "outputs": [
    {
     "name": "stdout",
     "output_type": "stream",
     "text": [
      "Episode 1\tTotal Average Score: 0.67\tMean: 0.67\tMin: 0.05\tMax: 1.27\tDuration: 23.96\n",
      "Episode 2\tTotal Average Score: 0.71\tMean: 0.75\tMin: 0.08\tMax: 1.54\tDuration: 25.89\n",
      "Episode 3\tTotal Average Score: 0.79\tMean: 0.95\tMin: 0.00\tMax: 2.01\tDuration: 25.76\n",
      "Episode 4\tTotal Average Score: 0.82\tMean: 0.89\tMin: 0.15\tMax: 3.05\tDuration: 25.83\n",
      "Episode 5\tTotal Average Score: 0.85\tMean: 0.98\tMin: 0.12\tMax: 2.32\tDuration: 25.78\n",
      "Episode 6\tTotal Average Score: 0.89\tMean: 1.12\tMin: 0.04\tMax: 2.42\tDuration: 26.79\n",
      "Episode 7\tTotal Average Score: 0.95\tMean: 1.27\tMin: 0.06\tMax: 3.68\tDuration: 26.91\n",
      "Episode 8\tTotal Average Score: 1.10\tMean: 2.20\tMin: 0.25\tMax: 4.52\tDuration: 27.60\n",
      "Episode 9\tTotal Average Score: 1.24\tMean: 2.30\tMin: 0.00\tMax: 6.32\tDuration: 27.75\n",
      "Episode 10\tTotal Average Score: 1.38\tMean: 2.67\tMin: 0.62\tMax: 6.05\tDuration: 27.66\n",
      "Episode 10\tTotal Average Score: 1.38\n",
      "Episode 11\tTotal Average Score: 1.48\tMean: 2.42\tMin: 0.37\tMax: 6.46\tDuration: 26.85\n",
      "Episode 12\tTotal Average Score: 1.59\tMean: 2.84\tMin: 0.59\tMax: 7.99\tDuration: 26.70\n",
      "Episode 13\tTotal Average Score: 1.82\tMean: 4.64\tMin: 1.22\tMax: 9.14\tDuration: 29.20\n",
      "Episode 14\tTotal Average Score: 2.19\tMean: 6.90\tMin: 2.00\tMax: 11.57\tDuration: 29.68\n",
      "Episode 15\tTotal Average Score: 2.44\tMean: 6.01\tMin: 1.97\tMax: 13.60\tDuration: 30.57\n",
      "Episode 16\tTotal Average Score: 2.75\tMean: 7.34\tMin: 3.07\tMax: 16.16\tDuration: 30.62\n",
      "Episode 17\tTotal Average Score: 3.14\tMean: 9.47\tMin: 2.27\tMax: 19.17\tDuration: 30.66\n",
      "Episode 18\tTotal Average Score: 3.59\tMean: 11.11\tMin: 2.73\tMax: 16.66\tDuration: 30.09\n",
      "Episode 19\tTotal Average Score: 4.23\tMean: 15.80\tMin: 4.59\tMax: 31.14\tDuration: 30.44\n",
      "Episode 20\tTotal Average Score: 4.94\tMean: 18.53\tMin: 5.65\tMax: 28.65\tDuration: 30.94\n",
      "Episode 20\tTotal Average Score: 4.94\n",
      "Episode 21\tTotal Average Score: 5.68\tMean: 20.34\tMin: 7.14\tMax: 32.58\tDuration: 33.10\n",
      "Episode 22\tTotal Average Score: 6.37\tMean: 20.84\tMin: 6.06\tMax: 35.43\tDuration: 32.52\n",
      "Episode 23\tTotal Average Score: 7.02\tMean: 21.52\tMin: 4.51\tMax: 37.55\tDuration: 33.66\n",
      "Episode 24\tTotal Average Score: 7.74\tMean: 24.18\tMin: 7.68\tMax: 38.30\tDuration: 37.11\n",
      "Episode 25\tTotal Average Score: 8.46\tMean: 25.74\tMin: 7.02\tMax: 38.82\tDuration: 36.04\n",
      "Episode 26\tTotal Average Score: 9.18\tMean: 27.12\tMin: 9.10\tMax: 39.41\tDuration: 35.38\n",
      "Episode 27\tTotal Average Score: 9.85\tMean: 27.28\tMin: 6.82\tMax: 39.52\tDuration: 35.35\n",
      "Episode 28\tTotal Average Score: 10.49\tMean: 27.74\tMin: 8.03\tMax: 38.13\tDuration: 34.83\n",
      "Episode 29\tTotal Average Score: 11.20\tMean: 31.12\tMin: 14.29\tMax: 39.42\tDuration: 39.56\n",
      "Episode 30\tTotal Average Score: 11.88\tMean: 31.63\tMin: 16.10\tMax: 39.26\tDuration: 38.55\n",
      "Episode 30\tTotal Average Score: 11.88\n",
      "Episode 31\tTotal Average Score: 12.64\tMean: 35.53\tMin: 19.36\tMax: 39.52\tDuration: 39.01\n",
      "Episode 32\tTotal Average Score: 13.29\tMean: 33.24\tMin: 17.37\tMax: 39.45\tDuration: 39.24\n",
      "Episode 33\tTotal Average Score: 13.95\tMean: 35.24\tMin: 21.86\tMax: 39.02\tDuration: 40.05\n",
      "Episode 34\tTotal Average Score: 14.63\tMean: 37.02\tMin: 26.68\tMax: 39.64\tDuration: 42.03\n",
      "Episode 35\tTotal Average Score: 15.25\tMean: 36.27\tMin: 30.01\tMax: 39.46\tDuration: 43.39\n",
      "Episode 36\tTotal Average Score: 15.88\tMean: 38.02\tMin: 30.05\tMax: 39.60\tDuration: 43.04\n",
      "Episode 37\tTotal Average Score: 16.47\tMean: 37.81\tMin: 28.83\tMax: 39.55\tDuration: 43.35\n",
      "Episode 38\tTotal Average Score: 17.05\tMean: 38.44\tMin: 34.47\tMax: 39.49\tDuration: 42.90\n",
      "Episode 39\tTotal Average Score: 17.61\tMean: 38.72\tMin: 35.73\tMax: 39.61\tDuration: 44.43\n",
      "Episode 40\tTotal Average Score: 18.12\tMean: 38.16\tMin: 33.78\tMax: 39.61\tDuration: 45.99\n",
      "Episode 40\tTotal Average Score: 18.12\n",
      "Episode 41\tTotal Average Score: 18.59\tMean: 37.54\tMin: 32.65\tMax: 39.62\tDuration: 46.68\n",
      "Episode 42\tTotal Average Score: 19.08\tMean: 39.13\tMin: 36.65\tMax: 39.64\tDuration: 48.01\n",
      "Episode 43\tTotal Average Score: 19.54\tMean: 38.66\tMin: 32.15\tMax: 39.62\tDuration: 48.05\n",
      "Episode 44\tTotal Average Score: 19.98\tMean: 38.84\tMin: 35.57\tMax: 39.64\tDuration: 49.77\n",
      "Episode 45\tTotal Average Score: 20.41\tMean: 39.41\tMin: 37.60\tMax: 39.63\tDuration: 49.73\n",
      "Episode 46\tTotal Average Score: 20.82\tMean: 39.37\tMin: 36.90\tMax: 39.63\tDuration: 50.30\n",
      "Episode 47\tTotal Average Score: 21.22\tMean: 39.55\tMin: 39.35\tMax: 39.63\tDuration: 50.92\n",
      "Episode 48\tTotal Average Score: 21.60\tMean: 39.33\tMin: 37.41\tMax: 39.65\tDuration: 51.83\n",
      "Episode 49\tTotal Average Score: 21.96\tMean: 39.52\tMin: 39.28\tMax: 39.66\tDuration: 53.37\n",
      "Episode 50\tTotal Average Score: 22.31\tMean: 39.11\tMin: 36.59\tMax: 39.63\tDuration: 53.37\n",
      "Episode 50\tTotal Average Score: 22.31\n",
      "Episode 51\tTotal Average Score: 22.64\tMean: 39.39\tMin: 37.45\tMax: 39.68\tDuration: 53.43\n",
      "Episode 52\tTotal Average Score: 22.97\tMean: 39.47\tMin: 38.15\tMax: 39.63\tDuration: 53.40\n",
      "Episode 53\tTotal Average Score: 23.28\tMean: 39.47\tMin: 38.90\tMax: 39.67\tDuration: 58.28\n",
      "Episode 54\tTotal Average Score: 23.57\tMean: 39.13\tMin: 36.17\tMax: 39.68\tDuration: 56.02\n",
      "Episode 55\tTotal Average Score: 23.85\tMean: 39.15\tMin: 36.19\tMax: 39.66\tDuration: 53.88\n",
      "Episode 56\tTotal Average Score: 24.13\tMean: 39.16\tMin: 35.89\tMax: 39.66\tDuration: 54.88\n",
      "Episode 57\tTotal Average Score: 24.40\tMean: 39.46\tMin: 38.18\tMax: 39.67\tDuration: 54.34\n",
      "Episode 58\tTotal Average Score: 24.65\tMean: 39.32\tMin: 37.16\tMax: 39.62\tDuration: 55.92\n",
      "Episode 59\tTotal Average Score: 24.91\tMean: 39.55\tMin: 39.21\tMax: 39.66\tDuration: 54.55\n",
      "Episode 60\tTotal Average Score: 25.14\tMean: 38.98\tMin: 31.39\tMax: 39.64\tDuration: 54.47\n",
      "Episode 60\tTotal Average Score: 25.14\n",
      "Episode 61\tTotal Average Score: 25.37\tMean: 39.18\tMin: 36.44\tMax: 39.62\tDuration: 55.06\n",
      "Episode 62\tTotal Average Score: 25.59\tMean: 39.19\tMin: 37.23\tMax: 39.61\tDuration: 54.97\n",
      "Episode 63\tTotal Average Score: 25.81\tMean: 39.39\tMin: 36.18\tMax: 39.64\tDuration: 55.40\n",
      "Episode 64\tTotal Average Score: 26.01\tMean: 38.67\tMin: 35.77\tMax: 39.68\tDuration: 53.53\n",
      "Episode 65\tTotal Average Score: 26.22\tMean: 39.23\tMin: 37.04\tMax: 39.66\tDuration: 55.15\n",
      "Episode 66\tTotal Average Score: 26.41\tMean: 38.95\tMin: 34.99\tMax: 39.65\tDuration: 54.67\n",
      "Episode 67\tTotal Average Score: 26.60\tMean: 39.17\tMin: 36.35\tMax: 39.66\tDuration: 52.93\n",
      "Episode 68\tTotal Average Score: 26.79\tMean: 39.29\tMin: 37.38\tMax: 39.68\tDuration: 54.84\n",
      "Episode 69\tTotal Average Score: 26.97\tMean: 39.47\tMin: 37.55\tMax: 39.66\tDuration: 54.40\n",
      "Episode 70\tTotal Average Score: 27.14\tMean: 39.05\tMin: 32.70\tMax: 39.64\tDuration: 55.18\n",
      "Episode 70\tTotal Average Score: 27.14\n",
      "Episode 71\tTotal Average Score: 27.32\tMean: 39.45\tMin: 38.02\tMax: 39.69\tDuration: 53.95\n",
      "Episode 72\tTotal Average Score: 27.48\tMean: 39.32\tMin: 37.19\tMax: 39.64\tDuration: 54.48\n",
      "Episode 73\tTotal Average Score: 27.65\tMean: 39.49\tMin: 38.67\tMax: 39.63\tDuration: 54.72\n",
      "Episode 74\tTotal Average Score: 27.80\tMean: 39.26\tMin: 36.93\tMax: 39.65\tDuration: 54.27\n",
      "Episode 75\tTotal Average Score: 27.95\tMean: 39.07\tMin: 34.98\tMax: 39.62\tDuration: 53.75\n",
      "Episode 76\tTotal Average Score: 28.08\tMean: 37.84\tMin: 19.25\tMax: 39.64\tDuration: 55.42\n",
      "Episode 77\tTotal Average Score: 28.23\tMean: 39.24\tMin: 35.78\tMax: 39.65\tDuration: 55.20\n",
      "Episode 78\tTotal Average Score: 28.37\tMean: 39.20\tMin: 35.72\tMax: 39.65\tDuration: 56.04\n",
      "Episode 79\tTotal Average Score: 28.50\tMean: 38.64\tMin: 30.25\tMax: 39.65\tDuration: 54.64\n",
      "Episode 80\tTotal Average Score: 28.63\tMean: 38.88\tMin: 28.17\tMax: 39.61\tDuration: 54.33\n",
      "Episode 80\tTotal Average Score: 28.63\n",
      "Episode 81\tTotal Average Score: 28.75\tMean: 38.41\tMin: 25.33\tMax: 39.62\tDuration: 55.32\n",
      "Episode 82\tTotal Average Score: 28.86\tMean: 38.10\tMin: 27.31\tMax: 39.63\tDuration: 54.87\n",
      "Episode 83\tTotal Average Score: 28.96\tMean: 36.57\tMin: 28.42\tMax: 39.64\tDuration: 55.41\n",
      "Episode 84\tTotal Average Score: 29.04\tMean: 35.89\tMin: 17.10\tMax: 39.69\tDuration: 55.41\n",
      "Episode 85\tTotal Average Score: 29.13\tMean: 36.69\tMin: 21.09\tMax: 39.61\tDuration: 53.22\n",
      "Episode 86\tTotal Average Score: 29.23\tMean: 37.56\tMin: 30.48\tMax: 39.63\tDuration: 53.51\n",
      "Episode 87\tTotal Average Score: 29.31\tMean: 36.68\tMin: 24.20\tMax: 39.65\tDuration: 53.85\n",
      "Episode 88\tTotal Average Score: 29.42\tMean: 38.38\tMin: 30.12\tMax: 39.61\tDuration: 54.44\n",
      "Episode 89\tTotal Average Score: 29.52\tMean: 38.37\tMin: 33.97\tMax: 39.63\tDuration: 54.47\n",
      "Episode 90\tTotal Average Score: 29.60\tMean: 37.30\tMin: 31.17\tMax: 39.65\tDuration: 55.44\n",
      "Episode 90\tTotal Average Score: 29.60\n",
      "Episode 91\tTotal Average Score: 29.70\tMean: 37.93\tMin: 32.96\tMax: 39.66\tDuration: 54.82\n"
     ]
    },
    {
     "name": "stdout",
     "output_type": "stream",
     "text": [
      "Episode 92\tTotal Average Score: 29.77\tMean: 36.39\tMin: 27.61\tMax: 39.66\tDuration: 55.95\n",
      "Episode 93\tTotal Average Score: 29.85\tMean: 37.86\tMin: 27.36\tMax: 39.57\tDuration: 56.55\n",
      "Episode 94\tTotal Average Score: 29.93\tMean: 37.01\tMin: 27.99\tMax: 39.65\tDuration: 54.67\n",
      "Episode 95\tTotal Average Score: 30.01\tMean: 37.43\tMin: 33.46\tMax: 39.66\tDuration: 54.26\n",
      "Episode 96\tTotal Average Score: 30.08\tMean: 36.50\tMin: 25.52\tMax: 39.63\tDuration: 55.93\n",
      "Episode 97\tTotal Average Score: 30.14\tMean: 36.53\tMin: 29.46\tMax: 39.56\tDuration: 55.17\n",
      "Episode 98\tTotal Average Score: 30.22\tMean: 37.70\tMin: 34.95\tMax: 39.60\tDuration: 56.04\n",
      "Episode 99\tTotal Average Score: 30.29\tMean: 37.33\tMin: 31.49\tMax: 39.63\tDuration: 55.09\n",
      "Episode 100\tTotal Average Score: 30.35\tMean: 36.24\tMin: 29.17\tMax: 39.29\tDuration: 53.43\n",
      "Episode 100\tTotal Average Score: 30.35\n",
      "Problem Solved after 100 epsisodes!! Total Average score: 30.35\n"
     ]
    }
   ],
   "source": [
    "def ddpg(n_episodes=2000, max_t=1000, print_every=10, learn_every=20, num_learn=10, goal_score=30):\n",
    "    total_scores_deque = deque(maxlen=100)\n",
    "    total_scores = []\n",
    "    \n",
    "    for i_episode in range(1, n_episodes+1):\n",
    "        # Reset Env and Agent\n",
    "        env_info = env.reset(train_mode=train_mode)[brain_name]       # reset the environment    \n",
    "        states = env_info.vector_observations                   # get the current state (for each agent)\n",
    "        scores = np.zeros(num_agents)                            # initialize the score (for each agent)\n",
    "        agent.reset()\n",
    "        \n",
    "        start_time = time.time()\n",
    "        \n",
    "        for t in range(max_t):\n",
    "            actions = agent.act(states, add_noise=False)\n",
    "            \n",
    "            noise = np.random.normal(loc=0, scale=0.1, size=[num_agents, action_size])\n",
    "            actions += noise\n",
    "            actions = np.clip(a=actions, a_min=-1, a_max=1)\n",
    "            \n",
    "            env_info = env.step(actions)[brain_name]            # send all actions to the environment\n",
    "            next_states = env_info.vector_observations          # get next state (for each agent)\n",
    "            rewards = env_info.rewards                          # get reward (for each agent)\n",
    "            \n",
    "            dones = env_info.local_done                         # see if episode finished\n",
    "            \n",
    "            for state, action, reward, next_state, done in zip(states, actions, rewards, next_states, dones):\n",
    "                agent.step(state, action, reward, next_state, done) # send actions to the agent\n",
    "            \n",
    "            scores += env_info.rewards                           # update the score (for each agent)\n",
    "            states = next_states                                # roll over states to next time step\n",
    "            \n",
    "            if t%learn_every == 0:\n",
    "                for _ in range(num_learn):\n",
    "                    agent.start_learn()\n",
    "            \n",
    "            if np.any(dones):                                   # exit loop if episode finished\n",
    "                break\n",
    "    \n",
    "        mean_score = np.mean(scores)\n",
    "        min_score = np.min(scores)\n",
    "        max_score = np.max(scores)\n",
    "        total_scores_deque.append(mean_score)\n",
    "        total_scores.append(mean_score)\n",
    "        total_average_score = np.mean(total_scores_deque)\n",
    "        duration = time.time() - start_time\n",
    "        \n",
    "        print('\\rEpisode {}\\tTotal Average Score: {:.2f}\\tMean: {:.2f}\\tMin: {:.2f}\\tMax: {:.2f}\\tDuration: {:.2f}'\n",
    "              .format(i_episode, total_average_score, mean_score, min_score, max_score, duration))\n",
    "\n",
    "        if i_episode % print_every == 0:\n",
    "            torch.save(agent.actor_local.state_dict(), 'checkpoint_actor.pth')\n",
    "            torch.save(agent.critic_local.state_dict(), 'checkpoint_critic.pth')\n",
    "            print('\\rEpisode {}\\tTotal Average Score: {:.2f}'.format(i_episode, total_average_score))  \n",
    "            \n",
    "        if total_average_score >= goal_score and i_episode >= 100:\n",
    "            print('Problem Solved after {} epsisodes!! Total Average score: {:.2f}'.format(i_episode, total_average_score))\n",
    "            torch.save(agent.actor_local.state_dict(), 'checkpoint_actor.pth')\n",
    "            torch.save(agent.critic_local.state_dict(), 'checkpoint_critic.pth')\n",
    "            break\n",
    "    \n",
    "    return total_scores\n",
    "\n",
    "scores = ddpg()"
   ]
  },
  {
   "cell_type": "markdown",
   "metadata": {},
   "source": [
    "### 5. Plot the result"
   ]
  },
  {
   "cell_type": "code",
   "execution_count": 6,
   "metadata": {},
   "outputs": [
    {
     "data": {
      "image/png": "[encoded data removed]",
      "text/plain": [
       "<Figure size 432x288 with 1 Axes>"
      ]
     },
     "metadata": {
      "needs_background": "light"
     },
     "output_type": "display_data"
    }
   ],
   "source": [
    "fig = plt.figure()\n",
    "ax = fig.add_subplot(1,1,1)\n",
    "\n",
    "plt.plot(np.arange(1, len(scores)+1), scores)\n",
    "plt.ylabel('Score')\n",
    "plt.xlabel('Episode #')\n",
    "plt.show()"
   ]
  },
  {
   "cell_type": "code",
   "execution_count": 6,
   "metadata": {},
   "outputs": [
    {
     "data": {
      "image/png": "[encoded data removed]",
      "text/plain": [
       "<Figure size 432x288 with 1 Axes>"
      ]
     },
     "metadata": {
      "needs_background": "light"
     },
     "output_type": "display_data"
    }
   ],
   "source": [
    "fig = plt.figure()\n",
    "ax = fig.add_subplot(1,1,1)\n",
    "\n",
    "plt.plot(np.arange(1, len(scores)+1), scores)\n",
    "plt.ylabel('Score')\n",
    "plt.xlabel('Episode #')\n",
    "plt.show()"
   ]
  },
  {
   "cell_type": "code",
   "execution_count": 7,
   "metadata": {},
   "outputs": [
    {
     "data": {
      "image/png": "[encoded data removed]",
      "text/plain": [
       "<Figure size 432x288 with 1 Axes>"
      ]
     },
     "metadata": {
      "needs_background": "light"
     },
     "output_type": "display_data"
    }
   ],
   "source": [
    "fig = plt.figure()\n",
    "ax = fig.add_subplot(1,1,1)\n",
    "\n",
    "plt.plot(np.arange(1, len(scores)+1), scores)\n",
    "plt.ylabel('Score')\n",
    "plt.xlabel('Episode #')\n",
    "plt.show()"
   ]
  },
  {
   "cell_type": "code",
   "execution_count": 6,
   "metadata": {},
   "outputs": [
    {
     "data": {
      "image/png": "[encoded data removed]",
      "text/plain": [
       "<Figure size 432x288 with 1 Axes>"
      ]
     },
     "metadata": {
      "needs_background": "light"
     },
     "output_type": "display_data"
    }
   ],
   "source": [
    "fig = plt.figure()\n",
    "ax = fig.add_subplot(1,1,1)\n",
    "\n",
    "plt.plot(np.arange(1, len(scores)+1), scores)\n",
    "plt.ylabel('Score')\n",
    "plt.xlabel('Episode #')\n",
    "plt.show()"
   ]
  },
  {
   "cell_type": "code",
   "execution_count": 6,
   "metadata": {},
   "outputs": [
    {
     "data": {
      "image/png": "[encoded data removed]",
      "text/plain": [
       "<Figure size 432x288 with 1 Axes>"
      ]
     },
     "metadata": {
      "needs_background": "light"
     },
     "output_type": "display_data"
    }
   ],
   "source": [
    "fig = plt.figure()\n",
    "ax = fig.add_subplot(1,1,1)\n",
    "\n",
    "plt.plot(np.arange(1, len(scores)+1), scores)\n",
    "plt.ylabel('Score')\n",
    "plt.xlabel('Episode #')\n",
    "plt.show()"
   ]
  },
  {
   "cell_type": "code",
   "execution_count": 7,
   "metadata": {},
   "outputs": [
    {
     "data": {
      "image/png": "[encoded data removed]",
      "text/plain": [
       "<matplotlib.figure.Figure at 0x7f486b774588>"
      ]
     },
     "metadata": {
      "needs_background": "light"
     },
     "output_type": "display_data"
    }
   ],
   "source": [
    "fig = plt.figure()\n",
    "ax = fig.add_subplot(1,1,1)\n",
    "\n",
    "plt.plot(np.arange(1, len(scores)+1), scores)\n",
    "plt.ylabel('Score')\n",
    "plt.xlabel('Episode #')\n",
    "plt.show()"
   ]
  },
  {
   "cell_type": "markdown",
   "metadata": {},
   "source": [
    "### 6. Watch the agent running with saved weights"
   ]
  },
  {
   "cell_type": "code",
   "execution_count": 7,
   "metadata": {},
   "outputs": [
    {
     "name": "stdout",
     "output_type": "stream",
     "text": [
      "Total score: 31.20399930253625\n"
     ]
    }
   ],
   "source": [
    "# Load the saved weights into Pytorch model\n",
    "agent.actor_local.load_state_dict(torch.load('checkpoint_actor.pth', map_location='cpu'))\n",
    "agent.critic_local.load_state_dict(torch.load('checkpoint_critic.pth', map_location='cpu'))\n",
    "\n",
    "env_info = env.reset(train_mode=False)[brain_name]     # reset the environment    \n",
    "states = env_info.vector_observations                  # get the current state (for each agent)\n",
    "scores = np.zeros(num_agents)                          # initialize the score (for each agent)\n",
    "\n",
    "while True:\n",
    "    actions = agent.act(states)                        # select actions from loaded model agent\n",
    "    env_info = env.step(actions)[brain_name]           # send all actions to tne environment\n",
    "    next_states = env_info.vector_observations         # get next state (for each agent)\n",
    "    rewards = env_info.rewards                         # get reward (for each agent)\n",
    "    dones = env_info.local_done                        # see if episode finished\n",
    "    scores += env_info.rewards                         # update the score (for each agent)\n",
    "    states = next_states                               # roll over states to next time step\n",
    "    if np.any(dones):                                  # exit loop if episode finished\n",
    "        break\n",
    "print('Total score: {}'.format(np.mean(scores)))"
   ]
  },
  {
   "cell_type": "markdown",
   "metadata": {},
   "source": [
    "When finished, you can close the environment."
   ]
  },
  {
   "cell_type": "code",
   "execution_count": 6,
   "metadata": {},
   "outputs": [],
   "source": [
    "env.close()"
   ]
  },
  {
   "cell_type": "code",
   "execution_count": null,
   "metadata": {},
   "outputs": [],
   "source": []
  }
 ],
 "metadata": {
  "kernelspec": {
   "display_name": "Python 3",
   "language": "python",
   "name": "python3"
  },
  "language_info": {
   "codemirror_mode": {
    "name": "ipython",
    "version": 3
   },
   "file_extension": ".py",
   "mimetype": "text/x-python",
   "name": "python",
   "nbconvert_exporter": "python",
   "pygments_lexer": "ipython3",
   "version": "3.6.8"
  }
 },
 "nbformat": 4,
 "nbformat_minor": 2
}
