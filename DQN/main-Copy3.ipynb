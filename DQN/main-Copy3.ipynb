{
 "cells": [
  {
   "cell_type": "markdown",
   "metadata": {},
   "source": [
    "# Q-learning\n",
    "\n",
    "In this notebook, we'll build a neural network that can learn to play games through reinforcement learning. More specifically, we'll use Q-learning to train an agent to play a game called [Cart-Pole](https://gym.openai.com/envs/CartPole-v0). In this game, a freely swinging pole is attached to a cart. The cart can move to the left and right, and the goal is to keep the pole upright as long as possible.\n",
    "\n",
    "![Cart-Pole](assets/cart-pole.jpg)\n",
    "\n",
    "We can simulate this game using [OpenAI Gym](https://gym.openai.com/). First, let's check out how OpenAI Gym works. Then, we'll get into training an agent to play the Cart-Pole game."
   ]
  },
  {
   "cell_type": "code",
   "execution_count": 1,
   "metadata": {},
   "outputs": [],
   "source": [
    "import gym\n",
    "import numpy as np"
   ]
  },
  {
   "cell_type": "code",
   "execution_count": 2,
   "metadata": {},
   "outputs": [
    {
     "name": "stdout",
     "output_type": "stream",
     "text": [
      "TensorFlow Version: 1.7.1\n",
      "Default GPU Device: \n"
     ]
    }
   ],
   "source": [
    "# In this one we should define and detect GPUs for tensorflow\n",
    "# GPUs or CPU\n",
    "import tensorflow as tf\n",
    "\n",
    "# Check TensorFlow Version\n",
    "print('TensorFlow Version: {}'.format(tf.__version__))\n",
    "\n",
    "# Check for a GPU\n",
    "print('Default GPU Device: {}'.format(tf.test.gpu_device_name()))"
   ]
  },
  {
   "cell_type": "markdown",
   "metadata": {},
   "source": [
    ">**Note:** Make sure you have OpenAI Gym cloned into the same directory with this notebook. I've included `gym` as a submodule, so you can run `git submodule --init --recursive` to pull the contents into the `gym` repo."
   ]
  },
  {
   "cell_type": "markdown",
   "metadata": {},
   "source": [
    ">**Note:** Make sure you have OpenAI Gym cloned. Then run this command `pip install -e gym/[all]`."
   ]
  },
  {
   "cell_type": "code",
   "execution_count": 3,
   "metadata": {},
   "outputs": [
    {
     "name": "stdout",
     "output_type": "stream",
     "text": [
      "\u001b[33mWARN: gym.spaces.Box autodetected dtype as <class 'numpy.float32'>. Please provide explicit dtype.\u001b[0m\n"
     ]
    },
    {
     "name": "stderr",
     "output_type": "stream",
     "text": [
      "/home/arasdar/anaconda3/envs/env/lib/python3.6/site-packages/gym/__init__.py:22: UserWarning: DEPRECATION WARNING: to improve load times, gym no longer automatically loads gym.spaces. Please run \"import gym.spaces\" to load gym.spaces on your own. This warning will turn into an error in a future version of gym.\n",
      "  warnings.warn('DEPRECATION WARNING: to improve load times, gym no longer automatically loads gym.spaces. Please run \"import gym.spaces\" to load gym.spaces on your own. This warning will turn into an error in a future version of gym.')\n"
     ]
    }
   ],
   "source": [
    "import gym\n",
    "\n",
    "## Create the Cart-Pole game environment\n",
    "env = gym.make('CartPole-v0')\n",
    "# env = gym.make('CartPole-v1')\n",
    "# env = gym.make('Acrobot-v1')\n",
    "# env = gym.make('MountainCar-v0')\n",
    "# env = gym.make('Pendulum-v0')\n",
    "# env = gym.make('Blackjack-v0')\n",
    "# env = gym.make('FrozenLake-v0')\n",
    "# env = gym.make('AirRaid-ram-v0')\n",
    "# env = gym.make('AirRaid-v0')\n",
    "# env = gym.make('BipedalWalker-v2')\n",
    "# env = gym.make('Copy-v0')\n",
    "# env = gym.make('CarRacing-v0')\n",
    "# env = gym.make('Ant-v2') #mujoco\n",
    "# env = gym.make('FetchPickAndPlace-v1') # mujoco required!"
   ]
  },
  {
   "cell_type": "markdown",
   "metadata": {},
   "source": [
    "We interact with the simulation through `env`. To show the simulation running, you can use `env.render()` to render one frame. Passing in an action as an integer to `env.step` will generate the next step in the simulation.  You can see how many actions are possible from `env.action_space` and to get a random action you can use `env.action_space.sample()`. This is general to all Gym games. In the Cart-Pole game, there are two possible actions, moving the cart left or right. So there are two actions we can take, encoded as 0 and 1.\n",
    "\n",
    "Run the code below to watch the simulation run."
   ]
  },
  {
   "cell_type": "code",
   "execution_count": 4,
   "metadata": {},
   "outputs": [],
   "source": [
    "env.reset()\n",
    "batch = []\n",
    "for _ in range(1000):\n",
    "    # env.render()\n",
    "    action = env.action_space.sample()\n",
    "    state, reward, done, info = env.step(action) # take a random action\n",
    "    batch.append([action, state, reward, done, info])\n",
    "    #print('state, action, reward, done, info:', state, action, reward, done, info)\n",
    "    if done:\n",
    "        env.reset()"
   ]
  },
  {
   "cell_type": "markdown",
   "metadata": {},
   "source": [
    "To shut the window showing the simulation, use `env.close()`."
   ]
  },
  {
   "cell_type": "markdown",
   "metadata": {},
   "source": [
    "If you ran the simulation above, we can look at the rewards:"
   ]
  },
  {
   "cell_type": "code",
   "execution_count": 5,
   "metadata": {},
   "outputs": [
    {
     "data": {
      "text/plain": [
       "([0,\n",
       "  array([-0.00886683, -0.15846987, -0.00524766,  0.33020063]),\n",
       "  1.0,\n",
       "  False,\n",
       "  {}],\n",
       " (4,))"
      ]
     },
     "execution_count": 5,
     "metadata": {},
     "output_type": "execute_result"
    }
   ],
   "source": [
    "batch[0], batch[0][1].shape"
   ]
  },
  {
   "cell_type": "code",
   "execution_count": 6,
   "metadata": {},
   "outputs": [],
   "source": [
    "actions = np.array([each[0] for each in batch])\n",
    "states = np.array([each[1] for each in batch])\n",
    "rewards = np.array([each[2] for each in batch])\n",
    "dones = np.array([each[3] for each in batch])\n",
    "infos = np.array([each[4] for each in batch])"
   ]
  },
  {
   "cell_type": "code",
   "execution_count": 7,
   "metadata": {},
   "outputs": [
    {
     "name": "stdout",
     "output_type": "stream",
     "text": [
      "[1. 1. 1. 1. 1. 1. 1. 1. 1. 1. 1. 1. 1. 1. 1. 1. 1. 1. 1. 1.]\n",
      "(1000,) (1000, 4) (1000,) (1000,)\n",
      "float64 float64 int64 bool\n",
      "1 0\n",
      "2\n",
      "1.0 1.0\n",
      "2.6112809458837205 -3.001828723123605\n"
     ]
    }
   ],
   "source": [
    "print(rewards[-20:])\n",
    "print(np.array(rewards).shape, np.array(states).shape, np.array(actions).shape, np.array(dones).shape)\n",
    "print(np.array(rewards).dtype, np.array(states).dtype, np.array(actions).dtype, np.array(dones).dtype)\n",
    "print(np.max(np.array(actions)), np.min(np.array(actions)))\n",
    "print((np.max(np.array(actions)) - np.min(np.array(actions)))+1)\n",
    "print(np.max(np.array(rewards)), np.min(np.array(rewards)))\n",
    "print(np.max(np.array(states)), np.min(np.array(states)))"
   ]
  },
  {
   "cell_type": "markdown",
   "metadata": {},
   "source": [
    "The game resets after the pole has fallen past a certain angle. For each frame while the simulation is running, it returns a reward of 1.0. The longer the game runs, the more reward we get. Then, our network's goal is to maximize the reward by keeping the pole vertical. It will do this by moving the cart to the left and the right."
   ]
  },
  {
   "cell_type": "markdown",
   "metadata": {},
   "source": [
    "## Q-Network\n",
    "\n",
    "We train our Q-learning agent using the Bellman Equation:\n",
    "\n",
    "$$\n",
    "Q(s, a) = r + \\gamma \\max{Q(s', a')}\n",
    "$$\n",
    "\n",
    "where $s$ is a state, $a$ is an action, and $s'$ is the next state from state $s$ and action $a$.\n",
    "\n",
    "Before we used this equation to learn values for a Q-_table_. However, for this game there are a huge number of states available. The state has four values: the position and velocity of the cart, and the position and velocity of the pole. These are all real-valued numbers, so ignoring floating point precisions, you practically have infinite states. Instead of using a table then, we'll replace it with a neural network that will approximate the Q-table lookup function.\n",
    "\n",
    "<img src=\"assets/deep-q-learning.png\" width=450px>\n",
    "\n",
    "Now, our Q value, $Q(s, a)$ is calculated by passing in a state to the network. The output will be Q-values for each available action, with fully connected hidden layers.\n",
    "\n",
    "<img src=\"assets/q-network.png\" width=550px>\n",
    "\n",
    "\n",
    "As I showed before, we can define our targets for training as $\\hat{Q}(s,a) = r + \\gamma \\max{Q(s', a')}$. Then we update the weights by minimizing $(\\hat{Q}(s,a) - Q(s,a))^2$. \n",
    "\n",
    "For this Cart-Pole game, we have four inputs, one for each value in the state, and two outputs, one for each action. To get $\\hat{Q}$, we'll first choose an action, then simulate the game using that action. This will get us the next state, $s'$, and the reward. With that, we can calculate $\\hat{Q}$ then pass it back into the $Q$ network to run the optimizer and update the weights.\n",
    "\n",
    "Below is my implementation of the Q-network. I used two fully connected layers with ReLU activations. Two seems to be good enough, three might be better. Feel free to try it out."
   ]
  },
  {
   "cell_type": "code",
   "execution_count": 8,
   "metadata": {},
   "outputs": [],
   "source": [
    "def model_input(state_size):\n",
    "    actions = tf.placeholder(tf.int32, [None], name='actions')\n",
    "    states = tf.placeholder(tf.float32, [None, state_size], name='states')\n",
    "    targetQs = tf.placeholder(tf.float32, [None], name='targetQs')\n",
    "    return actions, states, targetQs"
   ]
  },
  {
   "cell_type": "code",
   "execution_count": 9,
   "metadata": {},
   "outputs": [],
   "source": [
    "# Generator: Generating/prediting the actions\n",
    "def generator(states, action_size, hidden_size, reuse=False, alpha=0.1, training=False):\n",
    "    with tf.variable_scope('generator', reuse=reuse):\n",
    "        # First fully connected layer\n",
    "        h1 = tf.layers.dense(inputs=states, units=hidden_size)\n",
    "        bn1 = tf.layers.batch_normalization(h1, training=training)        \n",
    "        nl1 = tf.maximum(alpha * bn1, bn1)\n",
    "        \n",
    "        # Second fully connected layer\n",
    "        h2 = tf.layers.dense(inputs=nl1, units=hidden_size)\n",
    "        bn2 = tf.layers.batch_normalization(h2, training=training)        \n",
    "        nl2 = tf.maximum(alpha * bn2, bn2)\n",
    "        \n",
    "        # Output layer\n",
    "        logits = tf.layers.dense(inputs=nl2, units=action_size)        \n",
    "        #predictions = tf.nn.softmax(logits)\n",
    "\n",
    "        # return actions logits\n",
    "        return logits"
   ]
  },
  {
   "cell_type": "code",
   "execution_count": 10,
   "metadata": {},
   "outputs": [],
   "source": [
    "def model_loss(actions, states, targetQs, # model input\n",
    "               action_size, hidden_size): # model init\n",
    "    actions_logits = generator(states=states, hidden_size=hidden_size, action_size=action_size)\n",
    "    actions_onehot = tf.one_hot(indices=actions, depth=action_size, dtype=actions_logits.dtype)\n",
    "    Qs = tf.reduce_max(tf.multiply(actions_logits[:-1], actions_onehot[1:]), axis=1)\n",
    "    loss = tf.reduce_mean(tf.square(Qs - targetQs[1:]))\n",
    "    #loss = tf.reduce_mean(tf.nn.sigmoid_cross_entropy_with_logits(logits=Qs, labels=tf.nn.sigmoid(targetQs[1:])))\n",
    "    return actions_logits, loss"
   ]
  },
  {
   "cell_type": "code",
   "execution_count": 11,
   "metadata": {},
   "outputs": [],
   "source": [
    "def model_opt(loss, learning_rate):\n",
    "    \"\"\"\n",
    "    Get optimization operations in order\n",
    "    :param loss: Generator loss Tensor for action prediction\n",
    "    :param learning_rate: Learning Rate Placeholder\n",
    "    :return: A tuple of (qfunction training, generator training, discriminator training)\n",
    "    \"\"\"\n",
    "    # Get weights and bias to update\n",
    "    t_vars = tf.trainable_variables()\n",
    "    g_vars = [var for var in t_vars if var.name.startswith('generator')]\n",
    "\n",
    "    # Optimize\n",
    "    with tf.control_dependencies(tf.get_collection(tf.GraphKeys.UPDATE_OPS)): # Required for batchnorm (BN)\n",
    "        opt = tf.train.AdamOptimizer(learning_rate).minimize(loss, var_list=g_vars)\n",
    "\n",
    "    return opt"
   ]
  },
  {
   "cell_type": "code",
   "execution_count": 12,
   "metadata": {},
   "outputs": [],
   "source": [
    "class Model:\n",
    "    def __init__(self, state_size, action_size, hidden_size, learning_rate):\n",
    "\n",
    "        # Data of the Model: make the data available inside the framework\n",
    "        self.actions, self.states, self.targetQs = model_input(state_size=state_size)\n",
    "\n",
    "        # Create the Model: calculating the loss and forwad pass\n",
    "        self.actions_logits, self.loss = model_loss(\n",
    "            action_size=action_size, hidden_size=hidden_size, # model init parameters\n",
    "            states=self.states, actions=self.actions, targetQs=self.targetQs) # model input\n",
    "\n",
    "        # Update the model: backward pass and backprop\n",
    "        self.opt = model_opt(loss=self.loss, learning_rate=learning_rate)"
   ]
  },
  {
   "cell_type": "markdown",
   "metadata": {},
   "source": [
    "## Experience replay\n",
    "\n",
    "Reinforcement learning algorithms can have stability issues due to correlations between states. To reduce correlations when training, we can store the agent's experiences and later draw a random mini-batch of those experiences to train on. \n",
    "\n",
    "Here, we'll create a `Memory` object that will store our experiences, our transitions $<s, a, r, s'>$. This memory will have a maxmium capacity, so we can keep newer experiences in memory while getting rid of older experiences. Then, we'll sample a random mini-batch of transitions $<s, a, r, s'>$ and train on those.\n",
    "\n",
    "Below, I've implemented a `Memory` object. If you're unfamiliar with `deque`, this is a double-ended queue. You can think of it like a tube open on both sides. You can put objects in either side of the tube. But if it's full, adding anything more will push an object out the other side. This is a great data structure to use for the memory buffer."
   ]
  },
  {
   "cell_type": "code",
   "execution_count": 13,
   "metadata": {},
   "outputs": [],
   "source": [
    "from collections import deque\n",
    "\n",
    "class Memory():    \n",
    "    def __init__(self, max_size = 1000):\n",
    "        self.buffer = deque(maxlen=max_size)"
   ]
  },
  {
   "cell_type": "markdown",
   "metadata": {},
   "source": [
    "## Exploration - Exploitation\n",
    "\n",
    "To learn about the environment and rules of the game, the agent needs to explore by taking random actions. We'll do this by choosing a random action with some probability $\\epsilon$ (epsilon).  That is, with some probability $\\epsilon$ the agent will make a random action and with probability $1 - \\epsilon$, the agent will choose an action from $Q(s,a)$. This is called an **$\\epsilon$-greedy policy**.\n",
    "\n",
    "\n",
    "At first, the agent needs to do a lot of exploring. Later when it has learned more, the agent can favor choosing actions based on what it has learned. This is called _exploitation_. We'll set it up so the agent is more likely to explore early in training, then more likely to exploit later in training."
   ]
  },
  {
   "cell_type": "markdown",
   "metadata": {},
   "source": [
    "## Q-Learning training algorithm\n",
    "\n",
    "Putting all this together, we can list out the algorithm we'll use to train the network. We'll train the network in _episodes_. One *episode* is one simulation of the game. For this game, the goal is to keep the pole upright for 195 frames. So we can start a new episode once meeting that goal. The game ends if the pole tilts over too far, or if the cart moves too far the left or right. When a game ends, we'll start a new episode. Now, to train the agent:\n",
    "\n",
    "* Initialize the memory $D$\n",
    "* Initialize the action-value network $Q$ with random weights\n",
    "* **For** episode = 1, $M$ **do**\n",
    "  * **For** $t$, $T$ **do**\n",
    "     * With probability $\\epsilon$ select a random action $a_t$, otherwise select $a_t = \\mathrm{argmax}_a Q(s,a)$\n",
    "     * Execute action $a_t$ in simulator and observe reward $r_{t+1}$ and new state $s_{t+1}$\n",
    "     * Store transition $<s_t, a_t, r_{t+1}, s_{t+1}>$ in memory $D$\n",
    "     * Sample random mini-batch from $D$: $<s_j, a_j, r_j, s'_j>$\n",
    "     * Set $\\hat{Q}_j = r_j$ if the episode ends at $j+1$, otherwise set $\\hat{Q}_j = r_j + \\gamma \\max_{a'}{Q(s'_j, a')}$\n",
    "     * Make a gradient descent step with loss $(\\hat{Q}_j - Q(s_j, a_j))^2$\n",
    "  * **endfor**\n",
    "* **endfor**"
   ]
  },
  {
   "cell_type": "markdown",
   "metadata": {},
   "source": [
    "## Hyperparameters\n",
    "\n",
    "One of the more difficult aspects of reinforcememt learning are the large number of hyperparameters. Not only are we tuning the network, but we're tuning the simulation."
   ]
  },
  {
   "cell_type": "code",
   "execution_count": 14,
   "metadata": {},
   "outputs": [
    {
     "name": "stdout",
     "output_type": "stream",
     "text": [
      "state size:(1000, 4) actions:(1000,)\n",
      "2\n"
     ]
    }
   ],
   "source": [
    "print('state size:{}'.format(states.shape), \n",
    "      'actions:{}'.format(actions.shape)) \n",
    "print(np.max(actions) - np.min(actions)+1)"
   ]
  },
  {
   "cell_type": "code",
   "execution_count": 15,
   "metadata": {},
   "outputs": [],
   "source": [
    "# Training parameters\n",
    "train_episodes = 1000          # max number of episodes to learn from\n",
    "max_steps = 3000000000         # max steps in an episode\n",
    "learning_rate = 0.001          # learning rate for adam\n",
    "\n",
    "# Exploration parameters\n",
    "explore_start = 1.0            # exploration probability at start\n",
    "explore_stop = 0.01            # minimum exploration probability \n",
    "decay_rate = 0.0001            # exponential decay rate for exploration prob\n",
    "\n",
    "# Network parameters\n",
    "state_size = 4                 # number of units for the input state/observation -- simulation\n",
    "action_size = 2                # number of units for the output actions -- simulation\n",
    "hidden_size = 64               # number of units in each Q-network hidden layer -- simulation\n",
    "batch_size = 500               # number of samples in the memory/ experience as mini-batch size"
   ]
  },
  {
   "cell_type": "code",
   "execution_count": 16,
   "metadata": {},
   "outputs": [],
   "source": [
    "# Reset/init the graph/session\n",
    "tf.reset_default_graph()\n",
    "\n",
    "# Init the model\n",
    "model = Model(action_size=action_size, hidden_size=hidden_size, state_size=state_size, learning_rate=learning_rate)\n",
    "\n",
    "# Init the memory\n",
    "memory = Memory(max_size=batch_size)"
   ]
  },
  {
   "cell_type": "markdown",
   "metadata": {},
   "source": [
    "## Populate the memory (exprience memory)\n",
    "\n",
    "Here I'm re-initializing the simulation and pre-populating the memory. The agent is taking random actions and storing the transitions in memory. This will help the agent with exploring the game."
   ]
  },
  {
   "cell_type": "code",
   "execution_count": 17,
   "metadata": {},
   "outputs": [],
   "source": [
    "# Initialize the simulation\n",
    "state = env.reset()\n",
    "\n",
    "# Make a bunch of random actions and store the experiences\n",
    "for _ in range(batch_size):\n",
    "    \n",
    "    # Take one random step to get the pole and cart moving\n",
    "    action = env.action_space.sample()\n",
    "    state, _, done, _ = env.step(action)\n",
    "    reward = 1 - float(done)\n",
    "    memory.buffer.append((action, state, reward))\n",
    "    \n",
    "    # End of the episodes which defines the goal of the episode/mission\n",
    "    if done is True:\n",
    "        # Start new episode\n",
    "        env.reset()"
   ]
  },
  {
   "cell_type": "markdown",
   "metadata": {},
   "source": [
    "## Training the model\n",
    "\n",
    "Below we'll train our agent. If you want to watch it train, uncomment the `env.render()` line. This is slow because it's rendering the frames slower than the network can train. But, it's cool to watch the agent get better at the game."
   ]
  },
  {
   "cell_type": "code",
   "execution_count": 18,
   "metadata": {},
   "outputs": [
    {
     "data": {
      "text/plain": [
       "(array([-0.06315661, -0.56676313, -0.0051525 ,  0.84768495]), 1.0, 0)"
      ]
     },
     "execution_count": 18,
     "metadata": {},
     "output_type": "execute_result"
    }
   ],
   "source": [
    "state, reward, action"
   ]
  },
  {
   "cell_type": "code",
   "execution_count": null,
   "metadata": {},
   "outputs": [
    {
     "name": "stdout",
     "output_type": "stream",
     "text": [
      "Episode: 0 Total reward: 31.0 Average loss: 0.021354586 Explore P: 0.996837063\n",
      "Episode: 1 Total reward: 39.0 Average loss: 0.521636665 Explore P: 0.992897599\n",
      "Episode: 2 Total reward: 9.0 Average loss: 3.285874128 Explore P: 0.991915193\n",
      "Episode: 3 Total reward: 12.0 Average loss: 7.810454369 Explore P: 0.990639533\n",
      "Episode: 4 Total reward: 23.0 Average loss: 27.658632278 Explore P: 0.988288820\n",
      "Episode: 5 Total reward: 11.0 Average loss: 79.553970337 Explore P: 0.987115577\n",
      "Episode: 6 Total reward: 24.0 Average loss: 231.462066650 Explore P: 0.984675839\n",
      "Episode: 7 Total reward: 15.0 Average loss: 557.103515625 Explore P: 0.983117605\n",
      "Episode: 8 Total reward: 20.0 Average loss: 883.243591309 Explore P: 0.981076202\n",
      "Episode: 9 Total reward: 38.0 Average loss: 702.957702637 Explore P: 0.977296380\n",
      "Episode: 10 Total reward: 58.0 Average loss: 978.366333008 Explore P: 0.971606134\n",
      "Episode: 11 Total reward: 19.0 Average loss: 1243.778564453 Explore P: 0.969684844\n",
      "Episode: 12 Total reward: 13.0 Average loss: 1294.334228516 Explore P: 0.968342225\n",
      "Episode: 13 Total reward: 29.0 Average loss: 1339.915893555 Explore P: 0.965471507\n",
      "Episode: 14 Total reward: 9.0 Average loss: 1518.974365234 Explore P: 0.964516513\n",
      "Episode: 15 Total reward: 12.0 Average loss: 1740.571411133 Explore P: 0.963276448\n",
      "Episode: 16 Total reward: 22.0 Average loss: 1939.419677734 Explore P: 0.961086431\n",
      "Episode: 17 Total reward: 10.0 Average loss: 1992.398315430 Explore P: 0.960040811\n",
      "Episode: 18 Total reward: 26.0 Average loss: 1811.482788086 Explore P: 0.957479161\n",
      "Episode: 19 Total reward: 17.0 Average loss: 1752.880004883 Explore P: 0.955775233\n",
      "Episode: 20 Total reward: 17.0 Average loss: 1617.280883789 Explore P: 0.954074368\n",
      "Episode: 21 Total reward: 27.0 Average loss: 1726.223999023 Explore P: 0.951434657\n",
      "Episode: 22 Total reward: 25.0 Average loss: 1464.912719727 Explore P: 0.948990107\n",
      "Episode: 23 Total reward: 32.0 Average loss: 1467.009399414 Explore P: 0.945896547\n",
      "Episode: 24 Total reward: 28.0 Average loss: 1412.269165039 Explore P: 0.943186378\n",
      "Episode: 25 Total reward: 50.0 Average loss: 1136.579956055 Explore P: 0.938439243\n",
      "Episode: 26 Total reward: 25.0 Average loss: 1010.272521973 Explore P: 0.936028436\n",
      "Episode: 27 Total reward: 36.0 Average loss: 1015.014160156 Explore P: 0.932608462\n",
      "Episode: 28 Total reward: 14.0 Average loss: 1039.494628906 Explore P: 0.931225587\n",
      "Episode: 29 Total reward: 35.0 Average loss: 963.147216797 Explore P: 0.927915137\n",
      "Episode: 30 Total reward: 29.0 Average loss: 885.524291992 Explore P: 0.925165518\n",
      "Episode: 31 Total reward: 21.0 Average loss: 864.910156250 Explore P: 0.923154367\n",
      "Episode: 32 Total reward: 16.0 Average loss: 813.692749023 Explore P: 0.921603323\n",
      "Episode: 33 Total reward: 34.0 Average loss: 876.437438965 Explore P: 0.918418289\n",
      "Episode: 34 Total reward: 23.0 Average loss: 857.408630371 Explore P: 0.916240699\n",
      "Episode: 35 Total reward: 13.0 Average loss: 866.852661133 Explore P: 0.914972850\n",
      "Episode: 36 Total reward: 16.0 Average loss: 830.178710938 Explore P: 0.913435703\n",
      "Episode: 37 Total reward: 23.0 Average loss: 922.219238281 Explore P: 0.911270057\n",
      "Episode: 38 Total reward: 10.0 Average loss: 1012.465393066 Explore P: 0.910279205\n",
      "Episode: 39 Total reward: 16.0 Average loss: 1076.408569336 Explore P: 0.908750031\n",
      "Episode: 40 Total reward: 11.0 Average loss: 1032.727050781 Explore P: 0.907672177\n",
      "Episode: 41 Total reward: 44.0 Average loss: 942.183410645 Explore P: 0.903641728\n",
      "Episode: 42 Total reward: 15.0 Average loss: 933.468994141 Explore P: 0.902213044\n",
      "Episode: 43 Total reward: 17.0 Average loss: 954.814758301 Explore P: 0.900608505\n",
      "Episode: 44 Total reward: 8.0 Average loss: 957.079223633 Explore P: 0.899807318\n",
      "Episode: 45 Total reward: 24.0 Average loss: 1099.978881836 Explore P: 0.897585578\n",
      "Episode: 46 Total reward: 26.0 Average loss: 1334.248535156 Explore P: 0.895192330\n",
      "Episode: 47 Total reward: 21.0 Average loss: 1715.895385742 Explore P: 0.893247047\n",
      "Episode: 48 Total reward: 8.0 Average loss: 1993.376342773 Explore P: 0.892452482\n",
      "Episode: 49 Total reward: 13.0 Average loss: 2184.235595703 Explore P: 0.891217913\n",
      "Episode: 50 Total reward: 46.0 Average loss: 3335.807617188 Explore P: 0.887085907\n",
      "Episode: 51 Total reward: 49.0 Average loss: 11227.976562500 Explore P: 0.882711423\n",
      "Episode: 52 Total reward: 38.0 Average loss: 31758.679687500 Explore P: 0.879314477\n",
      "Episode: 53 Total reward: 42.0 Average loss: 82391.171875000 Explore P: 0.875584450\n",
      "Episode: 54 Total reward: 13.0 Average loss: 153225.093750000 Explore P: 0.874373479\n",
      "Episode: 55 Total reward: 92.0 Average loss: 255453.031250000 Explore P: 0.866372070\n",
      "Episode: 56 Total reward: 14.0 Average loss: 499300.812500000 Explore P: 0.865088475\n",
      "Episode: 57 Total reward: 21.0 Average loss: 671967.062500000 Explore P: 0.863209348\n",
      "Episode: 58 Total reward: 19.0 Average loss: 840266.500000000 Explore P: 0.861504635\n",
      "Episode: 59 Total reward: 25.0 Average loss: 1160652.875000000 Explore P: 0.859293598\n",
      "Episode: 60 Total reward: 24.0 Average loss: 1760708.125000000 Explore P: 0.857173016\n",
      "Episode: 61 Total reward: 12.0 Average loss: 2179709.500000000 Explore P: 0.856072407\n",
      "Episode: 62 Total reward: 46.0 Average loss: 2322941.500000000 Explore P: 0.852105197\n",
      "Episode: 63 Total reward: 16.0 Average loss: 2683137.250000000 Explore P: 0.850674834\n",
      "Episode: 64 Total reward: 9.0 Average loss: 2871975.750000000 Explore P: 0.849834579\n",
      "Episode: 65 Total reward: 30.0 Average loss: 3035479.250000000 Explore P: 0.847235123\n",
      "Episode: 66 Total reward: 28.0 Average loss: 3280907.000000000 Explore P: 0.844810659\n",
      "Episode: 67 Total reward: 66.0 Average loss: 3128343.250000000 Explore P: 0.839236123\n",
      "Episode: 68 Total reward: 43.0 Average loss: 2784027.750000000 Explore P: 0.835595499\n",
      "Episode: 69 Total reward: 17.0 Average loss: 2841419.250000000 Explore P: 0.834110764\n",
      "Episode: 70 Total reward: 33.0 Average loss: 2882731.250000000 Explore P: 0.831313545\n",
      "Episode: 71 Total reward: 25.0 Average loss: 2960552.000000000 Explore P: 0.829180904\n",
      "Episode: 72 Total reward: 47.0 Average loss: 3207771.250000000 Explore P: 0.825258257\n",
      "Episode: 73 Total reward: 20.0 Average loss: 3179732.500000000 Explore P: 0.823548011\n",
      "Episode: 74 Total reward: 18.0 Average loss: 3037702.750000000 Explore P: 0.822003738\n",
      "Episode: 75 Total reward: 30.0 Average loss: 2907002.000000000 Explore P: 0.819490424\n",
      "Episode: 76 Total reward: 11.0 Average loss: 2881186.750000000 Explore P: 0.818519618\n",
      "Episode: 77 Total reward: 14.0 Average loss: 2862066.500000000 Explore P: 0.817307747\n",
      "Episode: 78 Total reward: 41.0 Average loss: 2834248.000000000 Explore P: 0.813924165\n",
      "Episode: 79 Total reward: 17.0 Average loss: 3112555.000000000 Explore P: 0.812478404\n",
      "Episode: 80 Total reward: 12.0 Average loss: 3437125.250000000 Explore P: 0.811435859\n",
      "Episode: 81 Total reward: 41.0 Average loss: 3921522.750000000 Explore P: 0.808076888\n",
      "Episode: 82 Total reward: 15.0 Average loss: 4426077.500000000 Explore P: 0.806800986\n",
      "Episode: 83 Total reward: 34.0 Average loss: 5037723.500000000 Explore P: 0.804017057\n",
      "Episode: 84 Total reward: 29.0 Average loss: 5793764.500000000 Explore P: 0.801638575\n",
      "Episode: 85 Total reward: 105.0 Average loss: 8842968.000000000 Explore P: 0.793291524\n",
      "Episode: 86 Total reward: 18.0 Average loss: 13182356.000000000 Explore P: 0.791804683\n",
      "Episode: 87 Total reward: 15.0 Average loss: 15780970.000000000 Explore P: 0.790554796\n",
      "Episode: 88 Total reward: 60.0 Average loss: 17498922.000000000 Explore P: 0.785807904\n",
      "Episode: 89 Total reward: 43.0 Average loss: 20522688.000000000 Explore P: 0.782401848\n",
      "Episode: 90 Total reward: 12.0 Average loss: 25656712.000000000 Explore P: 0.781398378\n",
      "Episode: 91 Total reward: 35.0 Average loss: 34623124.000000000 Explore P: 0.778626337\n",
      "Episode: 92 Total reward: 62.0 Average loss: 48581772.000000000 Explore P: 0.773799212\n",
      "Episode: 93 Total reward: 39.0 Average loss: 58418984.000000000 Explore P: 0.770750117\n",
      "Episode: 94 Total reward: 49.0 Average loss: 75349248.000000000 Explore P: 0.766955860\n",
      "Episode: 95 Total reward: 34.0 Average loss: 110101616.000000000 Explore P: 0.764311146\n",
      "Episode: 96 Total reward: 61.0 Average loss: 184698880.000000000 Explore P: 0.759648885\n",
      "Episode: 97 Total reward: 11.0 Average loss: 302422272.000000000 Explore P: 0.758749846\n",
      "Episode: 98 Total reward: 13.0 Average loss: 339411936.000000000 Explore P: 0.757702329\n"
     ]
    },
    {
     "name": "stdout",
     "output_type": "stream",
     "text": [
      "Episode: 99 Total reward: 43.0 Average loss: 457020960.000000000 Explore P: 0.754419666\n",
      "Episode: 100 Total reward: 29.0 Average loss: 657949632.000000000 Explore P: 0.752189754\n",
      "Episode: 101 Total reward: 79.0 Average loss: 1174805248.000000000 Explore P: 0.746275922\n",
      "Episode: 102 Total reward: 12.0 Average loss: 1693923584.000000000 Explore P: 0.745319386\n",
      "Episode: 103 Total reward: 19.0 Average loss: 1940101888.000000000 Explore P: 0.743850217\n",
      "Episode: 104 Total reward: 26.0 Average loss: 2228243968.000000000 Explore P: 0.741871493\n",
      "Episode: 105 Total reward: 61.0 Average loss: 2679268096.000000000 Explore P: 0.737347928\n",
      "Episode: 106 Total reward: 37.0 Average loss: 3222674944.000000000 Explore P: 0.734589250\n",
      "Episode: 107 Total reward: 14.0 Average loss: 3505803520.000000000 Explore P: 0.733503181\n",
      "Episode: 108 Total reward: 13.0 Average loss: 3733606144.000000000 Explore P: 0.732490986\n",
      "Episode: 109 Total reward: 20.0 Average loss: 4299396608.000000000 Explore P: 0.730975346\n",
      "Episode: 110 Total reward: 44.0 Average loss: 4644384256.000000000 Explore P: 0.727738246\n",
      "Episode: 111 Total reward: 60.0 Average loss: 5530122240.000000000 Explore P: 0.723373369\n",
      "Episode: 112 Total reward: 19.0 Average loss: 6051382272.000000000 Explore P: 0.721948048\n",
      "Episode: 113 Total reward: 66.0 Average loss: 5650298368.000000000 Explore P: 0.717193941\n",
      "Episode: 114 Total reward: 34.0 Average loss: 5550008832.000000000 Explore P: 0.714723088\n",
      "Episode: 115 Total reward: 32.0 Average loss: 5578633728.000000000 Explore P: 0.712401335\n",
      "Episode: 116 Total reward: 65.0 Average loss: 5168825856.000000000 Explore P: 0.707780751\n",
      "Episode: 117 Total reward: 41.0 Average loss: 4672549888.000000000 Explore P: 0.704856218\n",
      "Episode: 118 Total reward: 27.0 Average loss: 4415048192.000000000 Explore P: 0.702913342\n",
      "Episode: 119 Total reward: 119.0 Average loss: 4506955776.000000000 Explore P: 0.694648072\n",
      "Episode: 120 Total reward: 32.0 Average loss: 5828668416.000000000 Explore P: 0.692392457\n",
      "Episode: 121 Total reward: 40.0 Average loss: 6273077248.000000000 Explore P: 0.689600376\n",
      "Episode: 122 Total reward: 90.0 Average loss: 6585981952.000000000 Explore P: 0.683444066\n",
      "Episode: 123 Total reward: 48.0 Average loss: 9218996224.000000000 Explore P: 0.680152262\n",
      "Episode: 124 Total reward: 42.0 Average loss: 11221621760.000000000 Explore P: 0.677276794\n",
      "Episode: 125 Total reward: 77.0 Average loss: 16556815360.000000000 Explore P: 0.672092281\n",
      "Episode: 126 Total reward: 19.0 Average loss: 23197788160.000000000 Explore P: 0.670769419\n",
      "Episode: 127 Total reward: 13.0 Average loss: 27189465088.000000000 Explore P: 0.669844990\n",
      "Episode: 128 Total reward: 68.0 Average loss: 37045747712.000000000 Explore P: 0.665307731\n",
      "Episode: 129 Total reward: 41.0 Average loss: 53222473728.000000000 Explore P: 0.662561210\n",
      "Episode: 130 Total reward: 54.0 Average loss: 68214181888.000000000 Explore P: 0.658981975\n",
      "Episode: 131 Total reward: 33.0 Average loss: 81379483648.000000000 Explore P: 0.656779183\n",
      "Episode: 132 Total reward: 44.0 Average loss: 87935066112.000000000 Explore P: 0.653875216\n",
      "Episode: 133 Total reward: 55.0 Average loss: 80946470912.000000000 Explore P: 0.650279592\n",
      "Episode: 134 Total reward: 61.0 Average loss: 85297725440.000000000 Explore P: 0.646322139\n",
      "Episode: 135 Total reward: 24.0 Average loss: 98039119872.000000000 Explore P: 0.644733321\n",
      "Episode: 136 Total reward: 61.0 Average loss: 109494763520.000000000 Explore P: 0.640810148\n",
      "Episode: 137 Total reward: 173.0 Average loss: 103615774720.000000000 Explore P: 0.629928992\n",
      "Episode: 138 Total reward: 71.0 Average loss: 109463904256.000000000 Explore P: 0.625481534\n",
      "Episode: 139 Total reward: 120.0 Average loss: 185084739584.000000000 Explore P: 0.618079082\n",
      "Episode: 140 Total reward: 61.0 Average loss: 352815677440.000000000 Explore P: 0.614320655\n",
      "Episode: 141 Total reward: 29.0 Average loss: 517778243584.000000000 Explore P: 0.612510410\n",
      "Episode: 142 Total reward: 20.0 Average loss: 721175838720.000000000 Explore P: 0.611246466\n",
      "Episode: 143 Total reward: 19.0 Average loss: 786425184256.000000000 Explore P: 0.610045174\n",
      "Episode: 144 Total reward: 99.0 Average loss: 619860000768.000000000 Explore P: 0.604074625\n",
      "Episode: 145 Total reward: 20.0 Average loss: 613230706688.000000000 Explore P: 0.602828378\n",
      "Episode: 146 Total reward: 71.0 Average loss: 600823103488.000000000 Explore P: 0.598575342\n",
      "Episode: 147 Total reward: 129.0 Average loss: 499674218496.000000000 Explore P: 0.590973383\n",
      "Episode: 148 Total reward: 21.0 Average loss: 587117166592.000000000 Explore P: 0.589696646\n",
      "Episode: 149 Total reward: 63.0 Average loss: 542606360576.000000000 Explore P: 0.585998435\n",
      "Episode: 150 Total reward: 95.0 Average loss: 449493860352.000000000 Explore P: 0.580495307\n",
      "Episode: 151 Total reward: 170.0 Average loss: 380579545088.000000000 Explore P: 0.570822773\n",
      "Episode: 152 Total reward: 130.0 Average loss: 549814599680.000000000 Explore P: 0.563523907\n",
      "Episode: 153 Total reward: 50.0 Average loss: 848444260352.000000000 Explore P: 0.560708121\n",
      "Episode: 154 Total reward: 199.0 Average loss: 820212662272.000000000 Explore P: 0.549803370\n",
      "Episode: 155 Total reward: 138.0 Average loss: 975570665472.000000000 Explore P: 0.542352010\n",
      "Episode: 156 Total reward: 199.0 Average loss: 916200882176.000000000 Explore P: 0.531810734\n",
      "Episode: 157 Total reward: 49.0 Average loss: 1087518670848.000000000 Explore P: 0.529208192\n",
      "Episode: 158 Total reward: 29.0 Average loss: 1334074015744.000000000 Explore P: 0.527652901\n",
      "Episode: 159 Total reward: 192.0 Average loss: 1268083589120.000000000 Explore P: 0.517757993\n",
      "Episode: 160 Total reward: 46.0 Average loss: 1339415330816.000000000 Explore P: 0.515377130\n",
      "Episode: 161 Total reward: 90.0 Average loss: 2039653203968.000000000 Explore P: 0.510799060\n",
      "Episode: 162 Total reward: 11.0 Average loss: 3423501025280.000000000 Explore P: 0.510198462\n",
      "Episode: 163 Total reward: 9.0 Average loss: 4303121809408.000000000 Explore P: 0.509698513\n",
      "Episode: 164 Total reward: 12.0 Average loss: 5086671011840.000000000 Explore P: 0.509049327\n",
      "Episode: 165 Total reward: 40.0 Average loss: 5094337150976.000000000 Explore P: 0.507007414\n",
      "Episode: 166 Total reward: 191.0 Average loss: 3244437536768.000000000 Explore P: 0.497555896\n",
      "Episode: 167 Total reward: 178.0 Average loss: 2526156161024.000000000 Explore P: 0.488906291\n",
      "Episode: 168 Total reward: 152.0 Average loss: 1725766303744.000000000 Explore P: 0.481634793\n",
      "Episode: 169 Total reward: 175.0 Average loss: 1521732943872.000000000 Explore P: 0.473406641\n",
      "Episode: 170 Total reward: 80.0 Average loss: 1837741506560.000000000 Explore P: 0.469668208\n",
      "Episode: 171 Total reward: 39.0 Average loss: 2626449309696.000000000 Explore P: 0.467833208\n",
      "Episode: 172 Total reward: 122.0 Average loss: 3065723486208.000000000 Explore P: 0.462236351\n",
      "Episode: 173 Total reward: 148.0 Average loss: 2740080345088.000000000 Explore P: 0.455547981\n",
      "Episode: 174 Total reward: 199.0 Average loss: 2416037068800.000000000 Explore P: 0.446725540\n",
      "Episode: 175 Total reward: 104.0 Average loss: 2084435132416.000000000 Explore P: 0.442163912\n",
      "Episode: 176 Total reward: 199.0 Average loss: 2125931610112.000000000 Explore P: 0.433606494\n",
      "Episode: 177 Total reward: 195.0 Average loss: 2256836231168.000000000 Explore P: 0.425384644\n",
      "Episode: 178 Total reward: 128.0 Average loss: 3267489955840.000000000 Explore P: 0.420060596\n",
      "Episode: 179 Total reward: 26.0 Average loss: 7119245934592.000000000 Explore P: 0.418954925\n",
      "Episode: 180 Total reward: 11.0 Average loss: 9235856359424.000000000 Explore P: 0.418464474\n",
      "Episode: 181 Total reward: 18.0 Average loss: 11019957043200.000000000 Explore P: 0.417689128\n",
      "Episode: 182 Total reward: 155.0 Average loss: 20869545984000.000000000 Explore P: 0.411378528\n",
      "Episode: 183 Total reward: 82.0 Average loss: 48551010762752.000000000 Explore P: 0.408060874\n",
      "Episode: 184 Total reward: 33.0 Average loss: 57918271520768.000000000 Explore P: 0.406709765\n"
     ]
    }
   ],
   "source": [
    "# Now train with experiences\n",
    "saver = tf.train.Saver()\n",
    "rewards_list = [] # accuracy\n",
    "loss_list = [] # loss\n",
    "\n",
    "# TF session for training\n",
    "with tf.Session() as sess:\n",
    "    \n",
    "    # Initialize/restore variables\n",
    "    sess.run(tf.global_variables_initializer())\n",
    "    #saver.restore(sess, 'checkpoints/model.ckpt')    \n",
    "    #saver.restore(sess, tf.train.latest_checkpoint('checkpoints'))\n",
    "    \n",
    "    # Explore or exploit parameter\n",
    "    total_step = 0\n",
    "    \n",
    "    # Training episodes/epochs\n",
    "    for ep in range(train_episodes):\n",
    "        \n",
    "        # Start new episode\n",
    "        state=env.reset()\n",
    "        total_reward = 0\n",
    "        loss_batch = []\n",
    "\n",
    "        # Training steps/batches\n",
    "        for _ in range(max_steps): # start=0, step=1, stop=max_steps/done/reward\n",
    "            \n",
    "            # Explore (Env) or Exploit (Model)\n",
    "            total_step += 1\n",
    "            explore_p = explore_stop + (explore_start - explore_stop) * np.exp(-decay_rate * total_step) \n",
    "            if explore_p > np.random.rand():\n",
    "                # Make a random action\n",
    "                action = env.action_space.sample()\n",
    "            else:\n",
    "                # Get action from model\n",
    "                action_logits = sess.run(model.actions_logits, feed_dict={model.states: state.reshape([1, -1])})\n",
    "                action = np.argmax(action_logits)\n",
    "            state, reward, done, _ = env.step(action)\n",
    "            reward *= 1 - float(done)\n",
    "            memory.buffer.append([action, state, reward])\n",
    "\n",
    "            # Batch from NEW memory\n",
    "            batch = memory.buffer\n",
    "            actions = np.array([each[0] for each in batch])\n",
    "            states = np.array([each[1] for each in batch])\n",
    "            rewards = np.array([each[2] for each in batch])\n",
    "            actions_logits = sess.run(model.actions_logits, feed_dict={model.states: states})\n",
    "            Qs = np.max(actions_logits, axis=1)\n",
    "            targetQs = Qs * rewards\n",
    "            loss, _ = sess.run([model.loss, model.opt], feed_dict = {model.actions: actions, \n",
    "                                                                     model.states: states, \n",
    "                                                                     model.targetQs: targetQs})\n",
    "            loss_batch.append(loss)\n",
    "            total_reward += reward\n",
    "            if done is True:\n",
    "                break\n",
    "                \n",
    "        # At the end of each episode/epoch\n",
    "        print('Episode: {}'.format(ep),\n",
    "              'Total reward: {}'.format(total_reward),\n",
    "              'Average loss: {:.9f}'.format(np.mean(loss_batch)),\n",
    "              'Explore P: {:.9f}'.format(explore_p))\n",
    "\n",
    "        # At the end of each episode/epoch\n",
    "        rewards_list.append((ep, total_reward))\n",
    "        loss_list.append((ep, np.mean(loss_batch)))\n",
    "        \n",
    "    # At the end of all training episodes/epochs\n",
    "    saver.save(sess, 'checkpoints/model.ckpt')"
   ]
  },
  {
   "cell_type": "markdown",
   "metadata": {},
   "source": [
    "# Visualizing training\n",
    "\n",
    "Below I'll plot the total rewards for each episode. I'm plotting the rolling average too, in blue."
   ]
  },
  {
   "cell_type": "code",
   "execution_count": null,
   "metadata": {},
   "outputs": [],
   "source": [
    "%matplotlib inline\n",
    "import matplotlib.pyplot as plt\n",
    "\n",
    "def running_mean(x, N):\n",
    "    cumsum = np.cumsum(np.insert(x, 0, 0)) \n",
    "    return (cumsum[N:] - cumsum[:-N]) / N "
   ]
  },
  {
   "cell_type": "code",
   "execution_count": null,
   "metadata": {},
   "outputs": [],
   "source": [
    "eps, arr = np.array(rewards_list).T\n",
    "smoothed_arr = running_mean(arr, 10)\n",
    "plt.plot(eps[-len(smoothed_arr):], smoothed_arr)\n",
    "plt.plot(eps, arr, color='grey', alpha=0.3)\n",
    "plt.xlabel('Episode')\n",
    "plt.ylabel('Total rewards')"
   ]
  },
  {
   "cell_type": "code",
   "execution_count": null,
   "metadata": {},
   "outputs": [],
   "source": [
    "eps, arr = np.array(loss_list).T\n",
    "smoothed_arr = running_mean(arr, 10)\n",
    "plt.plot(eps[-len(smoothed_arr):], smoothed_arr)\n",
    "plt.plot(eps, arr, color='grey', alpha=0.3)\n",
    "plt.xlabel('Episode')\n",
    "plt.ylabel('Average losses')"
   ]
  },
  {
   "cell_type": "markdown",
   "metadata": {},
   "source": [
    "## Testing\n",
    "\n",
    "Let's checkout how our trained agent plays the game."
   ]
  },
  {
   "cell_type": "code",
   "execution_count": null,
   "metadata": {},
   "outputs": [],
   "source": [
    "import gym\n",
    "\n",
    "# Create the Cart-Pole game environment\n",
    "env = gym.make('CartPole-v0')\n",
    "# env = gym.make('CartPole-v1')\n",
    "# env = gym.make('Acrobot-v1')\n",
    "# env = gym.make('MountainCar-v0')\n",
    "# env = gym.make('Pendulum-v0')\n",
    "# env = gym.make('Blackjack-v0')\n",
    "# env = gym.make('FrozenLake-v0')\n",
    "# env = gym.make('AirRaid-ram-v0')\n",
    "# env = gym.make('AirRaid-v0')\n",
    "# env = gym.make('BipedalWalker-v2')\n",
    "# env = gym.make('Copy-v0')\n",
    "# env = gym.make('CarRacing-v0')\n",
    "# env = gym.make('Ant-v2') #mujoco\n",
    "# env = gym.make('FetchPickAndPlace-v1') # mujoco required!\n",
    "\n",
    "with tf.Session() as sess:\n",
    "\n",
    "    # Initialize/restore/load the trained model \n",
    "    #sess.run(tf.global_variables_initializer())\n",
    "    #saver.restore(sess, 'checkpoints/model.ckpt')    \n",
    "    saver.restore(sess, tf.train.latest_checkpoint('checkpoints'))\n",
    "    \n",
    "    # Episodes/epochs\n",
    "    for _ in range(1):\n",
    "        state = env.reset()\n",
    "        \n",
    "        # Steps/batches\n",
    "        for _ in range(111111111111111111111):\n",
    "            env.render()\n",
    "            action_logits = sess.run(model.actions_logits, feed_dict={model.states: state.reshape([1, -1])})\n",
    "            action = np.argmax(action_logits)\n",
    "            state, _, done, _ = env.step(action)\n",
    "            if done:\n",
    "                break\n",
    "                \n",
    "    # Closing the env\n",
    "    env.close()"
   ]
  },
  {
   "cell_type": "markdown",
   "metadata": {},
   "source": [
    "## Extending this\n",
    "\n",
    "So, Cart-Pole is a pretty simple game. However, the same model can be used to train an agent to play something much more complicated like Pong or Space Invaders. Instead of a state like we're using here though, you'd want to use convolutional layers to get the state from the screen images.\n",
    "\n",
    "![Deep Q-Learning Atari](assets/atari-network.png)\n",
    "\n",
    "I'll leave it as a challenge for you to use deep Q-learning to train an agent to play Atari games. Here's the original paper which will get you started: http://www.davidqiu.com:8888/research/nature14236.pdf."
   ]
  },
  {
   "cell_type": "code",
   "execution_count": null,
   "metadata": {},
   "outputs": [],
   "source": []
  }
 ],
 "metadata": {
  "kernelspec": {
   "display_name": "Python 3",
   "language": "python",
   "name": "python3"
  },
  "language_info": {
   "codemirror_mode": {
    "name": "ipython",
    "version": 3
   },
   "file_extension": ".py",
   "mimetype": "text/x-python",
   "name": "python",
   "nbconvert_exporter": "python",
   "pygments_lexer": "ipython3",
   "version": "3.6.5"
  }
 },
 "nbformat": 4,
 "nbformat_minor": 2
}
