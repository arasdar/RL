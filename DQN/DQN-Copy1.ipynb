{
 "cells": [
  {
   "cell_type": "markdown",
   "metadata": {},
   "source": [
    "# DQN (Deep Q-Net) using Q-learning using batchnorm- TEST\n",
    "\n",
    "In this notebook, we'll build a neural network that can learn to play games through reinforcement learning. More specifically, we'll use Q-learning to train an agent to play a game called [Cart-Pole](https://gym.openai.com/envs/CartPole-v0). In this game, a freely swinging pole is attached to a cart. The cart can move to the left and right, and the goal is to keep the pole upright as long as possible.\n",
    "\n",
    "![Cart-Pole](assets/cart-pole.jpg)\n",
    "\n",
    "We can simulate this game using [OpenAI Gym](https://gym.openai.com/). First, let's check out how OpenAI Gym works. Then, we'll get into training an agent to play the Cart-Pole game."
   ]
  },
  {
   "cell_type": "code",
   "execution_count": 4,
   "metadata": {},
   "outputs": [],
   "source": [
    "import gym\n",
    "import numpy as np"
   ]
  },
  {
   "cell_type": "code",
   "execution_count": 5,
   "metadata": {},
   "outputs": [
    {
     "name": "stdout",
     "output_type": "stream",
     "text": [
      "TensorFlow Version: 1.8.0\n",
      "Default GPU Device: /device:GPU:0\n"
     ]
    }
   ],
   "source": [
    "# In this one we should define and detect GPUs for tensorflow\n",
    "# GPUs or CPU\n",
    "import tensorflow as tf\n",
    "\n",
    "# Check TensorFlow Version\n",
    "print('TensorFlow Version: {}'.format(tf.__version__))\n",
    "\n",
    "# Check for a GPU\n",
    "print('Default GPU Device: {}'.format(tf.test.gpu_device_name()))"
   ]
  },
  {
   "cell_type": "markdown",
   "metadata": {},
   "source": [
    ">**Note:** Make sure you have OpenAI Gym cloned into the same directory with this notebook. I've included `gym` as a submodule, so you can run `git submodule --init --recursive` to pull the contents into the `gym` repo."
   ]
  },
  {
   "cell_type": "code",
   "execution_count": 6,
   "metadata": {},
   "outputs": [
    {
     "name": "stdout",
     "output_type": "stream",
     "text": [
      "\u001b[33mWARN: gym.spaces.Box autodetected dtype as <class 'numpy.float32'>. Please provide explicit dtype.\u001b[0m\n"
     ]
    },
    {
     "name": "stderr",
     "output_type": "stream",
     "text": [
      "/home/arasdar/anaconda3/envs/env/lib/python3.6/site-packages/gym/__init__.py:22: UserWarning: DEPRECATION WARNING: to improve load times, gym no longer automatically loads gym.spaces. Please run \"import gym.spaces\" to load gym.spaces on your own. This warning will turn into an error in a future version of gym.\n",
      "  warnings.warn('DEPRECATION WARNING: to improve load times, gym no longer automatically loads gym.spaces. Please run \"import gym.spaces\" to load gym.spaces on your own. This warning will turn into an error in a future version of gym.')\n"
     ]
    }
   ],
   "source": [
    "# Create the Cart-Pole game environment\n",
    "env = gym.make('CartPole-v0')\n",
    "# env = gym.make('CartPole-v1')\n",
    "# env = gym.make('Acrobot-v1')"
   ]
  },
  {
   "cell_type": "markdown",
   "metadata": {},
   "source": [
    "We interact with the simulation through `env`. To show the simulation running, you can use `env.render()` to render one frame. Passing in an action as an integer to `env.step` will generate the next step in the simulation.  You can see how many actions are possible from `env.action_space` and to get a random action you can use `env.action_space.sample()`. This is general to all Gym games. In the Cart-Pole game, there are two possible actions, moving the cart left or right. So there are two actions we can take, encoded as 0 and 1.\n",
    "\n",
    "Run the code below to watch the simulation run."
   ]
  },
  {
   "cell_type": "code",
   "execution_count": 7,
   "metadata": {},
   "outputs": [
    {
     "name": "stdout",
     "output_type": "stream",
     "text": [
      "state, action, reward, done, info\n",
      "[-0.04677656 -0.22918207 -0.02811939  0.27293819] 0 1.0 False {}\n",
      "state, action, reward, done, info\n",
      "[-0.0513602  -0.03367041 -0.02266062 -0.02847937] 1 1.0 False {}\n",
      "state, action, reward, done, info\n",
      "[-0.05203361  0.16176905 -0.02323021 -0.32822496] 1 1.0 False {}\n",
      "state, action, reward, done, info\n",
      "[-0.04879823 -0.03301462 -0.02979471 -0.04295736] 0 1.0 False {}\n",
      "state, action, reward, done, info\n",
      "[-0.04945852  0.16252163 -0.03065386 -0.3448899 ] 1 1.0 False {}\n",
      "state, action, reward, done, info\n",
      "[-0.04620809  0.35806593 -0.03755165 -0.64707937] 1 1.0 False {}\n",
      "state, action, reward, done, info\n",
      "[-0.03904677  0.55369041 -0.05049324 -0.95134682] 1 1.0 False {}\n",
      "state, action, reward, done, info\n",
      "[-0.02797296  0.74945422 -0.06952018 -1.25945699] 1 1.0 False {}\n",
      "state, action, reward, done, info\n",
      "[-0.01298388  0.94539331 -0.09470932 -1.57307813] 1 1.0 False {}\n",
      "state, action, reward, done, info\n",
      "[ 0.00592399  1.14150878 -0.12617088 -1.89373592] 1 1.0 False {}\n"
     ]
    }
   ],
   "source": [
    "env.reset()\n",
    "rewards, states, actions, dones = [], [], [], []\n",
    "for _ in range(10):\n",
    "    # env.render()\n",
    "    action = env.action_space.sample()\n",
    "    state, reward, done, info = env.step(action) # take a random action\n",
    "    states.append(state)\n",
    "    rewards.append(reward)\n",
    "    actions.append(action)\n",
    "    dones.append(done)\n",
    "    print('state, action, reward, done, info')\n",
    "    print(state, action, reward, done, info)\n",
    "    if done:\n",
    "        print('state, action, reward, done, info')\n",
    "        print(state, action, reward, done, info)\n",
    "        states.append(state)\n",
    "        rewards.append(reward)\n",
    "        actions.append(action)\n",
    "        dones.append(done)"
   ]
  },
  {
   "cell_type": "markdown",
   "metadata": {},
   "source": [
    "To shut the window showing the simulation, use `env.close()`."
   ]
  },
  {
   "cell_type": "markdown",
   "metadata": {},
   "source": [
    "If you ran the simulation above, we can look at the rewards:"
   ]
  },
  {
   "cell_type": "code",
   "execution_count": 8,
   "metadata": {},
   "outputs": [
    {
     "name": "stdout",
     "output_type": "stream",
     "text": [
      "[1.0, 1.0, 1.0, 1.0, 1.0, 1.0, 1.0, 1.0, 1.0, 1.0]\n",
      "(10,) (10, 4) (10,) (10,)\n",
      "float64 float64 int64 bool\n",
      "1 0\n",
      "2\n",
      "1.0 1.0\n",
      "1.1415087812978828 -1.8937359168548065\n"
     ]
    }
   ],
   "source": [
    "print(rewards[-20:])\n",
    "print(np.array(rewards).shape, np.array(states).shape, np.array(actions).shape, np.array(dones).shape)\n",
    "print(np.array(rewards).dtype, np.array(states).dtype, np.array(actions).dtype, np.array(dones).dtype)\n",
    "print(np.max(np.array(actions)), np.min(np.array(actions)))\n",
    "print((np.max(np.array(actions)) - np.min(np.array(actions)))+1)\n",
    "print(np.max(np.array(rewards)), np.min(np.array(rewards)))\n",
    "print(np.max(np.array(states)), np.min(np.array(states)))"
   ]
  },
  {
   "cell_type": "markdown",
   "metadata": {},
   "source": [
    "The game resets after the pole has fallen past a certain angle. For each frame while the simulation is running, it returns a reward of 1.0. The longer the game runs, the more reward we get. Then, our network's goal is to maximize the reward by keeping the pole vertical. It will do this by moving the cart to the left and the right."
   ]
  },
  {
   "cell_type": "markdown",
   "metadata": {},
   "source": [
    "## Q-Network\n",
    "\n",
    "We train our Q-learning agent using the Bellman Equation:\n",
    "\n",
    "$$\n",
    "Q(s, a) = r + \\gamma \\max{Q(s', a')}\n",
    "$$\n",
    "\n",
    "where $s$ is a state, $a$ is an action, and $s'$ is the next state from state $s$ and action $a$.\n",
    "\n",
    "Before we used this equation to learn values for a Q-_table_. However, for this game there are a huge number of states available. The state has four values: the position and velocity of the cart, and the position and velocity of the pole. These are all real-valued numbers, so ignoring floating point precisions, you practically have infinite states. Instead of using a table then, we'll replace it with a neural network that will approximate the Q-table lookup function.\n",
    "\n",
    "<img src=\"assets/deep-q-learning.png\" width=450px>\n",
    "\n",
    "Now, our Q value, $Q(s, a)$ is calculated by passing in a state to the network. The output will be Q-values for each available action, with fully connected hidden layers.\n",
    "\n",
    "<img src=\"assets/q-network.png\" width=550px>\n",
    "\n",
    "\n",
    "As I showed before, we can define our targets for training as $\\hat{Q}(s,a) = r + \\gamma \\max{Q(s', a')}$. Then we update the weights by minimizing $(\\hat{Q}(s,a) - Q(s,a))^2$. \n",
    "\n",
    "For this Cart-Pole game, we have four inputs, one for each value in the state, and two outputs, one for each action. To get $\\hat{Q}$, we'll first choose an action, then simulate the game using that action. This will get us the next state, $s'$, and the reward. With that, we can calculate $\\hat{Q}$ then pass it back into the $Q$ network to run the optimizer and update the weights.\n",
    "\n",
    "Below is my implementation of the Q-network. I used two fully connected layers with ReLU activations. Two seems to be good enough, three might be better. Feel free to try it out."
   ]
  },
  {
   "cell_type": "code",
   "execution_count": 9,
   "metadata": {},
   "outputs": [],
   "source": [
    "def model_input(state_size):\n",
    "    # Input states/ observation or internal states\n",
    "    states = tf.placeholder(tf.float32, [None, state_size], name=None)\n",
    "    \n",
    "    # Output actions\n",
    "    actions = tf.placeholder(tf.int32, [None], name=None)\n",
    "\n",
    "    # Target Q values for training\n",
    "    targetQs = tf.placeholder(tf.float32, [None], name=None)\n",
    "    return states, actions, targetQs"
   ]
  },
  {
   "cell_type": "code",
   "execution_count": 10,
   "metadata": {},
   "outputs": [],
   "source": [
    "# tf.layers.batch_normalization(\n",
    "#     inputs, ??????????????????????????????????????\n",
    "#     axis=-1, okkkkkkkkkkkkkkkkkkkkkkkkkkkk\n",
    "#     momentum=0.99, okkkkkkkkkkkkkkkkkkkkkkkk\n",
    "#     epsilon=0.001, okkkkkkkkkkkkkkkkkkkkkkkkkkk\n",
    "#     center=True, OOOOOOOOOOOOOOOOOOOOOOK\n",
    "#     scale=True, OOOOOOOOOOOOOOOOOOOOOOOOOOOOOK\n",
    "#     beta_initializer=tf.zeros_initializer(), OOOOOOOOOOOOOOOOOOOOOOOOOOOOK\n",
    "#     gamma_initializer=tf.ones_initializer(), OOOOOOOOOOOOOOOOOOOOOOOOOOOOK\n",
    "#     moving_mean_initializer=tf.zeros_initializer(), OOOOOOOOOOOOOOOOOOOOOOOOOK\n",
    "#     moving_variance_initializer=tf.ones_initializer(), OOOOOOOOOOOOOOOOOOOOOOK\n",
    "#     beta_regularizer=None,\n",
    "#     gamma_regularizer=None,\n",
    "#     beta_constraint=None,\n",
    "#     gamma_constraint=None,\n",
    "#     training=False, ??????????????????????????????\n",
    "#     trainable=True, ???????????????????????????\n",
    "#     name=None,\n",
    "#     reuse=None,\n",
    "#     renorm=False,\n",
    "#     renorm_clipping=None,\n",
    "#     renorm_momentum=0.99, OOOOOOOOOOOOOOOOOK\n",
    "#     fused=None,\n",
    "#     virtual_batch_size=None,\n",
    "#     adjustment=None\n",
    "# )"
   ]
  },
  {
   "cell_type": "code",
   "execution_count": 11,
   "metadata": {},
   "outputs": [],
   "source": [
    "def generator(states, hidden_size, action_size, reuse=False, is_bn_training=True):\n",
    "    with tf.variable_scope('generator', reuse=reuse):\n",
    "        # First fully connected layer\n",
    "        h1 = tf.layers.dense(inputs=states, units=hidden_size)\n",
    "        bn1 = tf.layers.batch_normalization(h1, training=is_bn_training)\n",
    "        nl1 = tf.maximum(0.01 * bn1, bn1)\n",
    "        \n",
    "        # Second fully connected layer\n",
    "        h2 = tf.layers.dense(inputs=nl1, units=hidden_size)\n",
    "        bn2 = tf.layers.batch_normalization(h2, training=is_bn_training)\n",
    "        nl2 = tf.maximum(0.01 * bn2, bn2)\n",
    "        \n",
    "        # Output layer\n",
    "        logits = tf.layers.dense(inputs=nl2, units=action_size)\n",
    "        # predictions = tf.tanh(logits)\n",
    "\n",
    "        return logits"
   ]
  },
  {
   "cell_type": "code",
   "execution_count": 12,
   "metadata": {},
   "outputs": [],
   "source": [
    "def model_loss(states, hidden_size, actions, action_size, targetQs):\n",
    "    # Output layer\n",
    "    actions_logits = generator(states=states, hidden_size=hidden_size, action_size=action_size)        \n",
    "\n",
    "    # One hot encode the actions to later choose the Q-value for the action\n",
    "    actions_labels = tf.one_hot(actions, action_size)\n",
    "\n",
    "    # Train with loss (targetQ - Q)^2\n",
    "    Qs = tf.reduce_sum(tf.multiply(actions_logits, actions_labels), axis=1)\n",
    "\n",
    "    # error backpropagation: loss and opt\n",
    "    loss = tf.reduce_mean(tf.square(targetQs - Qs))\n",
    "    \n",
    "    return actions_logits, Qs, loss"
   ]
  },
  {
   "cell_type": "code",
   "execution_count": 13,
   "metadata": {},
   "outputs": [],
   "source": [
    "class DQN:\n",
    "    def __init__(self, state_size, action_size, hidden_size, learning_rate):\n",
    "        \n",
    "        # Data of the Model: make the data available inside the framework\n",
    "        self.states, self.actions, self.targetQs = model_input(state_size=state_size)\n",
    "\n",
    "        # Create the Model: calculating the loss and forwad pass\n",
    "        self.actions_logits, self.Qs, self.loss = model_loss(action_size=action_size, actions=self.actions, \n",
    "                                                      states=self.states, hidden_size=hidden_size, \n",
    "                                                      targetQs=self.targetQs)\n",
    "\n",
    "        # Update the model: backward pass and backprop\n",
    "        self.opt = tf.train.AdamOptimizer(learning_rate).minimize(self.loss)"
   ]
  },
  {
   "cell_type": "markdown",
   "metadata": {},
   "source": [
    "## Experience replay\n",
    "\n",
    "Reinforcement learning algorithms can have stability issues due to correlations between states. To reduce correlations when training, we can store the agent's experiences and later draw a random mini-batch of those experiences to train on. \n",
    "\n",
    "Here, we'll create a `Memory` object that will store our experiences, our transitions $<s, a, r, s'>$. This memory will have a maxmium capacity, so we can keep newer experiences in memory while getting rid of older experiences. Then, we'll sample a random mini-batch of transitions $<s, a, r, s'>$ and train on those.\n",
    "\n",
    "Below, I've implemented a `Memory` object. If you're unfamiliar with `deque`, this is a double-ended queue. You can think of it like a tube open on both sides. You can put objects in either side of the tube. But if it's full, adding anything more will push an object out the other side. This is a great data structure to use for the memory buffer."
   ]
  },
  {
   "cell_type": "code",
   "execution_count": 14,
   "metadata": {},
   "outputs": [],
   "source": [
    "from collections import deque\n",
    "\n",
    "class Memory():    \n",
    "    def __init__(self, max_size = 1000):\n",
    "        self.buffer = deque(maxlen=max_size)\n",
    "    \n",
    "    def add(self, experience):\n",
    "        self.buffer.append(experience)\n",
    "            \n",
    "    def sample(self, batch_size):\n",
    "        idx = np.random.choice(np.arange(len(self.buffer)), \n",
    "                               size=batch_size, \n",
    "                               replace=False)\n",
    "        return [self.buffer[ii] for ii in idx]"
   ]
  },
  {
   "cell_type": "markdown",
   "metadata": {},
   "source": [
    "## Exploration - Exploitation\n",
    "\n",
    "To learn about the environment and rules of the game, the agent needs to explore by taking random actions. We'll do this by choosing a random action with some probability $\\epsilon$ (epsilon).  That is, with some probability $\\epsilon$ the agent will make a random action and with probability $1 - \\epsilon$, the agent will choose an action from $Q(s,a)$. This is called an **$\\epsilon$-greedy policy**.\n",
    "\n",
    "\n",
    "At first, the agent needs to do a lot of exploring. Later when it has learned more, the agent can favor choosing actions based on what it has learned. This is called _exploitation_. We'll set it up so the agent is more likely to explore early in training, then more likely to exploit later in training."
   ]
  },
  {
   "cell_type": "markdown",
   "metadata": {},
   "source": [
    "## Q-Learning training algorithm\n",
    "\n",
    "Putting all this together, we can list out the algorithm we'll use to train the network. We'll train the network in _episodes_. One *episode* is one simulation of the game. For this game, the goal is to keep the pole upright for 195 frames. So we can start a new episode once meeting that goal. The game ends if the pole tilts over too far, or if the cart moves too far the left or right. When a game ends, we'll start a new episode. Now, to train the agent:\n",
    "\n",
    "* Initialize the memory $D$\n",
    "* Initialize the action-value network $Q$ with random weights\n",
    "* **For** episode = 1, $M$ **do**\n",
    "  * **For** $t$, $T$ **do**\n",
    "     * With probability $\\epsilon$ select a random action $a_t$, otherwise select $a_t = \\mathrm{argmax}_a Q(s,a)$\n",
    "     * Execute action $a_t$ in simulator and observe reward $r_{t+1}$ and new state $s_{t+1}$\n",
    "     * Store transition $<s_t, a_t, r_{t+1}, s_{t+1}>$ in memory $D$\n",
    "     * Sample random mini-batch from $D$: $<s_j, a_j, r_j, s'_j>$\n",
    "     * Set $\\hat{Q}_j = r_j$ if the episode ends at $j+1$, otherwise set $\\hat{Q}_j = r_j + \\gamma \\max_{a'}{Q(s'_j, a')}$\n",
    "     * Make a gradient descent step with loss $(\\hat{Q}_j - Q(s_j, a_j))^2$\n",
    "  * **endfor**\n",
    "* **endfor**"
   ]
  },
  {
   "cell_type": "markdown",
   "metadata": {},
   "source": [
    "## Hyperparameters\n",
    "\n",
    "One of the more difficult aspects of reinforcememt learning are the large number of hyperparameters. Not only are we tuning the network, but we're tuning the simulation."
   ]
  },
  {
   "cell_type": "code",
   "execution_count": 15,
   "metadata": {},
   "outputs": [],
   "source": [
    "train_episodes = 10          # max number of episodes to learn from\n",
    "max_steps = 200               # max steps in an episode\n",
    "gamma = 0.99                   # future reward discount\n",
    "\n",
    "# Exploration parameters\n",
    "explore_start = 1.0            # exploration probability at start\n",
    "explore_stop = 0.01            # minimum exploration probability \n",
    "decay_rate = 0.0001            # exponential decay rate for exploration prob\n",
    "\n",
    "# Network parameters\n",
    "hidden_size = 64              # number of units in each Q-network hidden layer -- simulation\n",
    "state_size = 4                # number of units for the input state/observation -- simulation\n",
    "action_size = 2               # number of units for the output actions -- simulation\n",
    "\n",
    "# Memory parameters\n",
    "memory_size = 10000            # memory capacity\n",
    "batch_size = 20                # experience mini-batch size\n",
    "learning_rate = 0.001          # learning rate for training/optimization/adam"
   ]
  },
  {
   "cell_type": "code",
   "execution_count": 16,
   "metadata": {},
   "outputs": [],
   "source": [
    "tf.reset_default_graph()\n",
    "model = DQN(action_size=action_size, hidden_size=hidden_size, state_size=state_size, learning_rate=learning_rate)"
   ]
  },
  {
   "cell_type": "markdown",
   "metadata": {},
   "source": [
    "## Populate the experience memory\n",
    "\n",
    "Here I'm re-initializing the simulation and pre-populating the memory. The agent is taking random actions and storing the transitions in memory. This will help the agent with exploring the game."
   ]
  },
  {
   "cell_type": "code",
   "execution_count": 17,
   "metadata": {},
   "outputs": [],
   "source": [
    "# Initialize the simulation\n",
    "env.reset()\n",
    "\n",
    "# Take one random step to get the pole and cart moving\n",
    "state, reward, done, _ = env.step(env.action_space.sample())\n",
    "\n",
    "# init memory\n",
    "memory = Memory(max_size=memory_size)\n",
    "\n",
    "# Make a bunch of random actions and store the experiences\n",
    "for _ in range(batch_size):\n",
    "    # Uncomment the line below to watch the simulation\n",
    "    # env.render()\n",
    "\n",
    "    # Make a random action\n",
    "    action = env.action_space.sample()\n",
    "    next_state, reward, done, _ = env.step(action)\n",
    "\n",
    "    # Episode is done/failed or not;\n",
    "    if done:\n",
    "        # The simulation fails so no next state\n",
    "        next_state = np.zeros(state.shape)\n",
    "        \n",
    "        # Add experience to memory\n",
    "        memory.add((state, action, reward, next_state))\n",
    "        \n",
    "        # Start new episode\n",
    "        env.reset()\n",
    "        \n",
    "        # Take one random step to get the pole and cart moving\n",
    "        state, reward, done, _ = env.step(env.action_space.sample())\n",
    "    else:\n",
    "        # Add experience to memory\n",
    "        memory.add((state, action, reward, next_state))\n",
    "        state = next_state"
   ]
  },
  {
   "cell_type": "markdown",
   "metadata": {},
   "source": [
    "## Training\n",
    "\n",
    "Below we'll train our agent. If you want to watch it train, uncomment the `env.render()` line. This is slow because it's rendering the frames slower than the network can train. But, it's cool to watch the agent get better at the game."
   ]
  },
  {
   "cell_type": "code",
   "execution_count": 23,
   "metadata": {},
   "outputs": [
    {
     "name": "stdout",
     "output_type": "stream",
     "text": [
      "Env/Rob Step: 1 Total reward: 1.0 Each reward: 1.0 Average reward: 1.0 Training loss: 1.0778 Explore P: 0.9999\n",
      "Env/Rob Step: 2 Total reward: 2.0 Each reward: 1.0 Average reward: 1.0 Training loss: 1.0559 Explore P: 0.9998\n",
      "Env/Rob Step: 3 Total reward: 3.0 Each reward: 1.0 Average reward: 1.0 Training loss: 1.0937 Explore P: 0.9997\n",
      "Env/Rob Step: 4 Total reward: 4.0 Each reward: 1.0 Average reward: 1.0 Training loss: 1.0635 Explore P: 0.9996\n",
      "Env/Rob Step: 5 Total reward: 5.0 Each reward: 1.0 Average reward: 1.0 Training loss: 1.1184 Explore P: 0.9995\n",
      "Env/Rob Step: 6 Total reward: 6.0 Each reward: 1.0 Average reward: 1.0 Training loss: 1.1082 Explore P: 0.9994\n",
      "Env/Rob Step: 7 Total reward: 7.0 Each reward: 1.0 Average reward: 1.0 Training loss: 1.0558 Explore P: 0.9993\n",
      "Env/Rob Step: 8 Total reward: 8.0 Each reward: 1.0 Average reward: 1.0 Training loss: 1.0872 Explore P: 0.9992\n",
      "Env/Rob Step: 9 Total reward: 9.0 Each reward: 1.0 Average reward: 1.0 Training loss: 1.1030 Explore P: 0.9991\n",
      "Env/Rob Step: 10 Total reward: 10.0 Each reward: 1.0 Average reward: 1.0 Training loss: 1.2190 Explore P: 0.9990\n",
      "Env/Rob Step: 11 Total reward: 11.0 Each reward: 1.0 Average reward: 1.0 Training loss: 1.1183 Explore P: 0.9989\n",
      "Env/Rob Step: 12 Total reward: 12.0 Each reward: 1.0 Average reward: 1.0 Training loss: 1.2313 Explore P: 0.9988\n",
      "Env/Rob Step: 13 Total reward: 13.0 Each reward: 1.0 Average reward: 1.0 Training loss: 1.2226 Explore P: 0.9987\n",
      "Env/Rob Step: 14 Total reward: 14.0 Each reward: 1.0 Average reward: 1.0 Training loss: 1.3027 Explore P: 0.9986\n",
      "Episode: 0 Total reward: 15.0 Training loss: 1.3027 Explore P: 0.9985\n",
      "Env/Rob Step: 15 Total reward: 15.0 Each reward: 1.0 Average reward: 1.0 Training loss: 1.2590 Explore P: 0.9985\n",
      "Env/Rob Step: 16 Total reward: 1.0 Each reward: 1.0 Average reward: 1.0 Training loss: 1.2141 Explore P: 0.9984\n",
      "Env/Rob Step: 17 Total reward: 2.0 Each reward: 1.0 Average reward: 1.0 Training loss: 1.2100 Explore P: 0.9983\n",
      "Env/Rob Step: 18 Total reward: 3.0 Each reward: 1.0 Average reward: 1.0 Training loss: 1.3448 Explore P: 0.9982\n",
      "Env/Rob Step: 19 Total reward: 4.0 Each reward: 1.0 Average reward: 1.0 Training loss: 1.2358 Explore P: 0.9981\n",
      "Env/Rob Step: 20 Total reward: 5.0 Each reward: 1.0 Average reward: 1.0 Training loss: 1.1657 Explore P: 0.9980\n",
      "Env/Rob Step: 21 Total reward: 6.0 Each reward: 1.0 Average reward: 1.0 Training loss: 1.2028 Explore P: 0.9979\n",
      "Env/Rob Step: 22 Total reward: 7.0 Each reward: 1.0 Average reward: 1.0 Training loss: 1.2723 Explore P: 0.9978\n",
      "Env/Rob Step: 23 Total reward: 8.0 Each reward: 1.0 Average reward: 1.0 Training loss: 1.3668 Explore P: 0.9977\n",
      "Env/Rob Step: 24 Total reward: 9.0 Each reward: 1.0 Average reward: 1.0 Training loss: 1.3195 Explore P: 0.9976\n",
      "Env/Rob Step: 25 Total reward: 10.0 Each reward: 1.0 Average reward: 1.0 Training loss: 1.3149 Explore P: 0.9975\n",
      "Env/Rob Step: 26 Total reward: 11.0 Each reward: 1.0 Average reward: 1.0 Training loss: 1.3322 Explore P: 0.9974\n",
      "Env/Rob Step: 27 Total reward: 12.0 Each reward: 1.0 Average reward: 1.0 Training loss: 1.2553 Explore P: 0.9973\n",
      "Env/Rob Step: 28 Total reward: 13.0 Each reward: 1.0 Average reward: 1.0 Training loss: 1.1688 Explore P: 0.9972\n",
      "Episode: 1 Total reward: 14.0 Training loss: 1.1688 Explore P: 0.9971\n",
      "Env/Rob Step: 29 Total reward: 14.0 Each reward: 1.0 Average reward: 1.0 Training loss: 0.9557 Explore P: 0.9971\n",
      "Env/Rob Step: 30 Total reward: 1.0 Each reward: 1.0 Average reward: 1.0 Training loss: 1.3746 Explore P: 0.9970\n",
      "Env/Rob Step: 31 Total reward: 2.0 Each reward: 1.0 Average reward: 1.0 Training loss: 1.6096 Explore P: 0.9969\n",
      "Env/Rob Step: 32 Total reward: 3.0 Each reward: 1.0 Average reward: 1.0 Training loss: 1.2038 Explore P: 0.9968\n",
      "Env/Rob Step: 33 Total reward: 4.0 Each reward: 1.0 Average reward: 1.0 Training loss: 1.4894 Explore P: 0.9967\n",
      "Env/Rob Step: 34 Total reward: 5.0 Each reward: 1.0 Average reward: 1.0 Training loss: 1.5189 Explore P: 0.9966\n",
      "Env/Rob Step: 35 Total reward: 6.0 Each reward: 1.0 Average reward: 1.0 Training loss: 1.3684 Explore P: 0.9965\n",
      "Env/Rob Step: 36 Total reward: 7.0 Each reward: 1.0 Average reward: 1.0 Training loss: 1.4307 Explore P: 0.9964\n",
      "Env/Rob Step: 37 Total reward: 8.0 Each reward: 1.0 Average reward: 1.0 Training loss: 1.2446 Explore P: 0.9963\n",
      "Env/Rob Step: 38 Total reward: 9.0 Each reward: 1.0 Average reward: 1.0 Training loss: 1.8704 Explore P: 0.9962\n",
      "Env/Rob Step: 39 Total reward: 10.0 Each reward: 1.0 Average reward: 1.0 Training loss: 1.8270 Explore P: 0.9961\n",
      "Env/Rob Step: 40 Total reward: 11.0 Each reward: 1.0 Average reward: 1.0 Training loss: 1.3067 Explore P: 0.9960\n",
      "Env/Rob Step: 41 Total reward: 12.0 Each reward: 1.0 Average reward: 1.0 Training loss: 1.4112 Explore P: 0.9959\n",
      "Env/Rob Step: 42 Total reward: 13.0 Each reward: 1.0 Average reward: 1.0 Training loss: 1.7080 Explore P: 0.9959\n",
      "Env/Rob Step: 43 Total reward: 14.0 Each reward: 1.0 Average reward: 1.0 Training loss: 1.6375 Explore P: 0.9958\n",
      "Env/Rob Step: 44 Total reward: 15.0 Each reward: 1.0 Average reward: 1.0 Training loss: 1.3520 Explore P: 0.9957\n",
      "Env/Rob Step: 45 Total reward: 16.0 Each reward: 1.0 Average reward: 1.0 Training loss: 1.6875 Explore P: 0.9956\n",
      "Env/Rob Step: 46 Total reward: 17.0 Each reward: 1.0 Average reward: 1.0 Training loss: 1.5980 Explore P: 0.9955\n",
      "Env/Rob Step: 47 Total reward: 18.0 Each reward: 1.0 Average reward: 1.0 Training loss: 1.8392 Explore P: 0.9954\n",
      "Env/Rob Step: 48 Total reward: 19.0 Each reward: 1.0 Average reward: 1.0 Training loss: 2.0243 Explore P: 0.9953\n",
      "Env/Rob Step: 49 Total reward: 20.0 Each reward: 1.0 Average reward: 1.0 Training loss: 1.8135 Explore P: 0.9952\n",
      "Env/Rob Step: 50 Total reward: 21.0 Each reward: 1.0 Average reward: 1.0 Training loss: 1.8816 Explore P: 0.9951\n",
      "Env/Rob Step: 51 Total reward: 22.0 Each reward: 1.0 Average reward: 1.0 Training loss: 1.6915 Explore P: 0.9950\n",
      "Env/Rob Step: 52 Total reward: 23.0 Each reward: 1.0 Average reward: 1.0 Training loss: 2.1344 Explore P: 0.9949\n",
      "Env/Rob Step: 53 Total reward: 24.0 Each reward: 1.0 Average reward: 1.0 Training loss: 1.2315 Explore P: 0.9948\n",
      "Env/Rob Step: 54 Total reward: 25.0 Each reward: 1.0 Average reward: 1.0 Training loss: 2.1650 Explore P: 0.9947\n",
      "Env/Rob Step: 55 Total reward: 26.0 Each reward: 1.0 Average reward: 1.0 Training loss: 2.0445 Explore P: 0.9946\n",
      "Env/Rob Step: 56 Total reward: 27.0 Each reward: 1.0 Average reward: 1.0 Training loss: 2.2947 Explore P: 0.9945\n",
      "Env/Rob Step: 57 Total reward: 28.0 Each reward: 1.0 Average reward: 1.0 Training loss: 2.0695 Explore P: 0.9944\n",
      "Env/Rob Step: 58 Total reward: 29.0 Each reward: 1.0 Average reward: 1.0 Training loss: 2.2217 Explore P: 0.9943\n",
      "Env/Rob Step: 59 Total reward: 30.0 Each reward: 1.0 Average reward: 1.0 Training loss: 2.1571 Explore P: 0.9942\n",
      "Env/Rob Step: 60 Total reward: 31.0 Each reward: 1.0 Average reward: 1.0 Training loss: 2.2432 Explore P: 0.9941\n",
      "Env/Rob Step: 61 Total reward: 32.0 Each reward: 1.0 Average reward: 1.0 Training loss: 2.0734 Explore P: 0.9940\n",
      "Episode: 2 Total reward: 33.0 Training loss: 2.0734 Explore P: 0.9939\n",
      "Env/Rob Step: 62 Total reward: 33.0 Each reward: 1.0 Average reward: 1.0 Training loss: 2.6151 Explore P: 0.9939\n",
      "Env/Rob Step: 63 Total reward: 1.0 Each reward: 1.0 Average reward: 1.0 Training loss: 2.0526 Explore P: 0.9938\n",
      "Env/Rob Step: 64 Total reward: 2.0 Each reward: 1.0 Average reward: 1.0 Training loss: 2.7035 Explore P: 0.9937\n",
      "Env/Rob Step: 65 Total reward: 3.0 Each reward: 1.0 Average reward: 1.0 Training loss: 2.6343 Explore P: 0.9936\n",
      "Env/Rob Step: 66 Total reward: 4.0 Each reward: 1.0 Average reward: 1.0 Training loss: 2.5228 Explore P: 0.9935\n",
      "Env/Rob Step: 67 Total reward: 5.0 Each reward: 1.0 Average reward: 1.0 Training loss: 2.6597 Explore P: 0.9934\n",
      "Env/Rob Step: 68 Total reward: 6.0 Each reward: 1.0 Average reward: 1.0 Training loss: 1.9206 Explore P: 0.9933\n",
      "Env/Rob Step: 69 Total reward: 7.0 Each reward: 1.0 Average reward: 1.0 Training loss: 2.7872 Explore P: 0.9932\n",
      "Env/Rob Step: 70 Total reward: 8.0 Each reward: 1.0 Average reward: 1.0 Training loss: 3.1382 Explore P: 0.9931\n",
      "Env/Rob Step: 71 Total reward: 9.0 Each reward: 1.0 Average reward: 1.0 Training loss: 2.8924 Explore P: 0.9930\n",
      "Env/Rob Step: 72 Total reward: 10.0 Each reward: 1.0 Average reward: 1.0 Training loss: 5.2716 Explore P: 0.9929\n"
     ]
    },
    {
     "name": "stdout",
     "output_type": "stream",
     "text": [
      "Env/Rob Step: 73 Total reward: 11.0 Each reward: 1.0 Average reward: 1.0 Training loss: 2.4452 Explore P: 0.9928\n",
      "Env/Rob Step: 74 Total reward: 12.0 Each reward: 1.0 Average reward: 1.0 Training loss: 4.7035 Explore P: 0.9927\n",
      "Env/Rob Step: 75 Total reward: 13.0 Each reward: 1.0 Average reward: 1.0 Training loss: 2.8388 Explore P: 0.9926\n",
      "Env/Rob Step: 76 Total reward: 14.0 Each reward: 1.0 Average reward: 1.0 Training loss: 2.3328 Explore P: 0.9925\n",
      "Env/Rob Step: 77 Total reward: 15.0 Each reward: 1.0 Average reward: 1.0 Training loss: 2.0843 Explore P: 0.9924\n",
      "Env/Rob Step: 78 Total reward: 16.0 Each reward: 1.0 Average reward: 1.0 Training loss: 2.4596 Explore P: 0.9923\n",
      "Env/Rob Step: 79 Total reward: 17.0 Each reward: 1.0 Average reward: 1.0 Training loss: 5.3335 Explore P: 0.9922\n",
      "Env/Rob Step: 80 Total reward: 18.0 Each reward: 1.0 Average reward: 1.0 Training loss: 5.0544 Explore P: 0.9921\n",
      "Env/Rob Step: 81 Total reward: 19.0 Each reward: 1.0 Average reward: 1.0 Training loss: 6.8592 Explore P: 0.9920\n",
      "Env/Rob Step: 82 Total reward: 20.0 Each reward: 1.0 Average reward: 1.0 Training loss: 3.1981 Explore P: 0.9919\n",
      "Env/Rob Step: 83 Total reward: 21.0 Each reward: 1.0 Average reward: 1.0 Training loss: 3.1101 Explore P: 0.9918\n",
      "Env/Rob Step: 84 Total reward: 22.0 Each reward: 1.0 Average reward: 1.0 Training loss: 2.6966 Explore P: 0.9917\n",
      "Env/Rob Step: 85 Total reward: 23.0 Each reward: 1.0 Average reward: 1.0 Training loss: 7.9231 Explore P: 0.9916\n",
      "Env/Rob Step: 86 Total reward: 24.0 Each reward: 1.0 Average reward: 1.0 Training loss: 7.6909 Explore P: 0.9915\n",
      "Env/Rob Step: 87 Total reward: 25.0 Each reward: 1.0 Average reward: 1.0 Training loss: 5.2336 Explore P: 0.9914\n",
      "Env/Rob Step: 88 Total reward: 26.0 Each reward: 1.0 Average reward: 1.0 Training loss: 2.9706 Explore P: 0.9913\n",
      "Env/Rob Step: 89 Total reward: 27.0 Each reward: 1.0 Average reward: 1.0 Training loss: 5.0592 Explore P: 0.9912\n",
      "Env/Rob Step: 90 Total reward: 28.0 Each reward: 1.0 Average reward: 1.0 Training loss: 5.7363 Explore P: 0.9911\n",
      "Env/Rob Step: 91 Total reward: 29.0 Each reward: 1.0 Average reward: 1.0 Training loss: 3.0143 Explore P: 0.9910\n",
      "Env/Rob Step: 92 Total reward: 30.0 Each reward: 1.0 Average reward: 1.0 Training loss: 3.2442 Explore P: 0.9909\n",
      "Env/Rob Step: 93 Total reward: 31.0 Each reward: 1.0 Average reward: 1.0 Training loss: 6.8831 Explore P: 0.9908\n",
      "Env/Rob Step: 94 Total reward: 32.0 Each reward: 1.0 Average reward: 1.0 Training loss: 3.6619 Explore P: 0.9907\n",
      "Env/Rob Step: 95 Total reward: 33.0 Each reward: 1.0 Average reward: 1.0 Training loss: 8.0770 Explore P: 0.9906\n",
      "Env/Rob Step: 96 Total reward: 34.0 Each reward: 1.0 Average reward: 1.0 Training loss: 3.4066 Explore P: 0.9905\n",
      "Env/Rob Step: 97 Total reward: 35.0 Each reward: 1.0 Average reward: 1.0 Training loss: 14.1234 Explore P: 0.9904\n",
      "Env/Rob Step: 98 Total reward: 36.0 Each reward: 1.0 Average reward: 1.0 Training loss: 3.5847 Explore P: 0.9903\n",
      "Env/Rob Step: 99 Total reward: 37.0 Each reward: 1.0 Average reward: 1.0 Training loss: 3.6904 Explore P: 0.9902\n",
      "Episode: 3 Total reward: 38.0 Training loss: 3.6904 Explore P: 0.9901\n",
      "Env/Rob Step: 100 Total reward: 38.0 Each reward: 1.0 Average reward: 1.0 Training loss: 3.6226 Explore P: 0.9901\n",
      "Env/Rob Step: 101 Total reward: 1.0 Each reward: 1.0 Average reward: 1.0 Training loss: 14.7917 Explore P: 0.9901\n",
      "Env/Rob Step: 102 Total reward: 2.0 Each reward: 1.0 Average reward: 1.0 Training loss: 15.2597 Explore P: 0.9900\n",
      "Env/Rob Step: 103 Total reward: 3.0 Each reward: 1.0 Average reward: 1.0 Training loss: 22.3937 Explore P: 0.9899\n",
      "Env/Rob Step: 104 Total reward: 4.0 Each reward: 1.0 Average reward: 1.0 Training loss: 16.0248 Explore P: 0.9898\n",
      "Env/Rob Step: 105 Total reward: 5.0 Each reward: 1.0 Average reward: 1.0 Training loss: 23.9605 Explore P: 0.9897\n",
      "Env/Rob Step: 106 Total reward: 6.0 Each reward: 1.0 Average reward: 1.0 Training loss: 19.7029 Explore P: 0.9896\n",
      "Env/Rob Step: 107 Total reward: 7.0 Each reward: 1.0 Average reward: 1.0 Training loss: 22.3958 Explore P: 0.9895\n",
      "Env/Rob Step: 108 Total reward: 8.0 Each reward: 1.0 Average reward: 1.0 Training loss: 41.4766 Explore P: 0.9894\n",
      "Env/Rob Step: 109 Total reward: 9.0 Each reward: 1.0 Average reward: 1.0 Training loss: 8.6173 Explore P: 0.9893\n",
      "Env/Rob Step: 110 Total reward: 10.0 Each reward: 1.0 Average reward: 1.0 Training loss: 6.2951 Explore P: 0.9892\n",
      "Env/Rob Step: 111 Total reward: 11.0 Each reward: 1.0 Average reward: 1.0 Training loss: 9.8243 Explore P: 0.9891\n",
      "Env/Rob Step: 112 Total reward: 12.0 Each reward: 1.0 Average reward: 1.0 Training loss: 15.8620 Explore P: 0.9890\n",
      "Env/Rob Step: 113 Total reward: 13.0 Each reward: 1.0 Average reward: 1.0 Training loss: 33.9664 Explore P: 0.9889\n",
      "Env/Rob Step: 114 Total reward: 14.0 Each reward: 1.0 Average reward: 1.0 Training loss: 6.3866 Explore P: 0.9888\n",
      "Env/Rob Step: 115 Total reward: 15.0 Each reward: 1.0 Average reward: 1.0 Training loss: 12.0564 Explore P: 0.9887\n",
      "Env/Rob Step: 116 Total reward: 16.0 Each reward: 1.0 Average reward: 1.0 Training loss: 27.4113 Explore P: 0.9886\n",
      "Env/Rob Step: 117 Total reward: 17.0 Each reward: 1.0 Average reward: 1.0 Training loss: 24.7513 Explore P: 0.9885\n",
      "Env/Rob Step: 118 Total reward: 18.0 Each reward: 1.0 Average reward: 1.0 Training loss: 6.5043 Explore P: 0.9884\n",
      "Env/Rob Step: 119 Total reward: 19.0 Each reward: 1.0 Average reward: 1.0 Training loss: 29.0686 Explore P: 0.9883\n",
      "Env/Rob Step: 120 Total reward: 20.0 Each reward: 1.0 Average reward: 1.0 Training loss: 51.9281 Explore P: 0.9882\n",
      "Env/Rob Step: 121 Total reward: 21.0 Each reward: 1.0 Average reward: 1.0 Training loss: 5.2467 Explore P: 0.9881\n",
      "Env/Rob Step: 122 Total reward: 22.0 Each reward: 1.0 Average reward: 1.0 Training loss: 6.2856 Explore P: 0.9880\n",
      "Env/Rob Step: 123 Total reward: 23.0 Each reward: 1.0 Average reward: 1.0 Training loss: 31.5108 Explore P: 0.9879\n",
      "Env/Rob Step: 124 Total reward: 24.0 Each reward: 1.0 Average reward: 1.0 Training loss: 5.8222 Explore P: 0.9878\n",
      "Env/Rob Step: 125 Total reward: 25.0 Each reward: 1.0 Average reward: 1.0 Training loss: 20.2833 Explore P: 0.9877\n",
      "Env/Rob Step: 126 Total reward: 26.0 Each reward: 1.0 Average reward: 1.0 Training loss: 11.6442 Explore P: 0.9876\n",
      "Env/Rob Step: 127 Total reward: 27.0 Each reward: 1.0 Average reward: 1.0 Training loss: 31.2507 Explore P: 0.9875\n",
      "Env/Rob Step: 128 Total reward: 28.0 Each reward: 1.0 Average reward: 1.0 Training loss: 7.5105 Explore P: 0.9874\n",
      "Env/Rob Step: 129 Total reward: 29.0 Each reward: 1.0 Average reward: 1.0 Training loss: 7.3755 Explore P: 0.9873\n",
      "Episode: 4 Total reward: 30.0 Training loss: 7.3755 Explore P: 0.9872\n",
      "Env/Rob Step: 130 Total reward: 30.0 Each reward: 1.0 Average reward: 1.0 Training loss: 5.8696 Explore P: 0.9872\n",
      "Env/Rob Step: 131 Total reward: 1.0 Each reward: 1.0 Average reward: 1.0 Training loss: 76.5731 Explore P: 0.9871\n",
      "Env/Rob Step: 132 Total reward: 2.0 Each reward: 1.0 Average reward: 1.0 Training loss: 107.9927 Explore P: 0.9870\n",
      "Env/Rob Step: 133 Total reward: 3.0 Each reward: 1.0 Average reward: 1.0 Training loss: 25.3684 Explore P: 0.9869\n",
      "Env/Rob Step: 134 Total reward: 4.0 Each reward: 1.0 Average reward: 1.0 Training loss: 7.2024 Explore P: 0.9868\n",
      "Env/Rob Step: 135 Total reward: 5.0 Each reward: 1.0 Average reward: 1.0 Training loss: 75.4191 Explore P: 0.9867\n",
      "Env/Rob Step: 136 Total reward: 6.0 Each reward: 1.0 Average reward: 1.0 Training loss: 47.2910 Explore P: 0.9866\n",
      "Env/Rob Step: 137 Total reward: 7.0 Each reward: 1.0 Average reward: 1.0 Training loss: 92.7556 Explore P: 0.9865\n",
      "Env/Rob Step: 138 Total reward: 8.0 Each reward: 1.0 Average reward: 1.0 Training loss: 103.5386 Explore P: 0.9864\n",
      "Env/Rob Step: 139 Total reward: 9.0 Each reward: 1.0 Average reward: 1.0 Training loss: 50.7633 Explore P: 0.9863\n",
      "Env/Rob Step: 140 Total reward: 10.0 Each reward: 1.0 Average reward: 1.0 Training loss: 23.7009 Explore P: 0.9862\n",
      "Env/Rob Step: 141 Total reward: 11.0 Each reward: 1.0 Average reward: 1.0 Training loss: 4.0848 Explore P: 0.9861\n",
      "Env/Rob Step: 142 Total reward: 12.0 Each reward: 1.0 Average reward: 1.0 Training loss: 44.1200 Explore P: 0.9860\n",
      "Env/Rob Step: 143 Total reward: 13.0 Each reward: 1.0 Average reward: 1.0 Training loss: 18.9798 Explore P: 0.9859\n",
      "Env/Rob Step: 144 Total reward: 14.0 Each reward: 1.0 Average reward: 1.0 Training loss: 29.2045 Explore P: 0.9858\n",
      "Env/Rob Step: 145 Total reward: 15.0 Each reward: 1.0 Average reward: 1.0 Training loss: 5.1284 Explore P: 0.9857\n",
      "Env/Rob Step: 146 Total reward: 16.0 Each reward: 1.0 Average reward: 1.0 Training loss: 4.0703 Explore P: 0.9857\n"
     ]
    },
    {
     "name": "stdout",
     "output_type": "stream",
     "text": [
      "Env/Rob Step: 147 Total reward: 17.0 Each reward: 1.0 Average reward: 1.0 Training loss: 4.0883 Explore P: 0.9856\n",
      "Env/Rob Step: 148 Total reward: 18.0 Each reward: 1.0 Average reward: 1.0 Training loss: 25.3179 Explore P: 0.9855\n",
      "Episode: 5 Total reward: 19.0 Training loss: 25.3179 Explore P: 0.9854\n",
      "Env/Rob Step: 149 Total reward: 19.0 Each reward: 1.0 Average reward: 1.0 Training loss: 4.8036 Explore P: 0.9854\n",
      "Env/Rob Step: 150 Total reward: 1.0 Each reward: 1.0 Average reward: 1.0 Training loss: 26.2625 Explore P: 0.9853\n",
      "Env/Rob Step: 151 Total reward: 2.0 Each reward: 1.0 Average reward: 1.0 Training loss: 11.7249 Explore P: 0.9852\n",
      "Env/Rob Step: 152 Total reward: 3.0 Each reward: 1.0 Average reward: 1.0 Training loss: 2.7366 Explore P: 0.9851\n",
      "Env/Rob Step: 153 Total reward: 4.0 Each reward: 1.0 Average reward: 1.0 Training loss: 4.7928 Explore P: 0.9850\n",
      "Env/Rob Step: 154 Total reward: 5.0 Each reward: 1.0 Average reward: 1.0 Training loss: 36.4132 Explore P: 0.9849\n",
      "Env/Rob Step: 155 Total reward: 6.0 Each reward: 1.0 Average reward: 1.0 Training loss: 56.3705 Explore P: 0.9848\n",
      "Env/Rob Step: 156 Total reward: 7.0 Each reward: 1.0 Average reward: 1.0 Training loss: 93.5919 Explore P: 0.9847\n",
      "Env/Rob Step: 157 Total reward: 8.0 Each reward: 1.0 Average reward: 1.0 Training loss: 4.8279 Explore P: 0.9846\n",
      "Env/Rob Step: 158 Total reward: 9.0 Each reward: 1.0 Average reward: 1.0 Training loss: 2.6628 Explore P: 0.9845\n",
      "Env/Rob Step: 159 Total reward: 10.0 Each reward: 1.0 Average reward: 1.0 Training loss: 19.1595 Explore P: 0.9844\n",
      "Env/Rob Step: 160 Total reward: 11.0 Each reward: 1.0 Average reward: 1.0 Training loss: 26.1522 Explore P: 0.9843\n",
      "Env/Rob Step: 161 Total reward: 12.0 Each reward: 1.0 Average reward: 1.0 Training loss: 103.8392 Explore P: 0.9842\n",
      "Env/Rob Step: 162 Total reward: 13.0 Each reward: 1.0 Average reward: 1.0 Training loss: 4.5257 Explore P: 0.9841\n",
      "Env/Rob Step: 163 Total reward: 14.0 Each reward: 1.0 Average reward: 1.0 Training loss: 4.4175 Explore P: 0.9840\n",
      "Env/Rob Step: 164 Total reward: 15.0 Each reward: 1.0 Average reward: 1.0 Training loss: 2.1613 Explore P: 0.9839\n",
      "Env/Rob Step: 165 Total reward: 16.0 Each reward: 1.0 Average reward: 1.0 Training loss: 36.0248 Explore P: 0.9838\n",
      "Env/Rob Step: 166 Total reward: 17.0 Each reward: 1.0 Average reward: 1.0 Training loss: 59.6546 Explore P: 0.9837\n",
      "Episode: 6 Total reward: 18.0 Training loss: 59.6546 Explore P: 0.9836\n",
      "Env/Rob Step: 167 Total reward: 18.0 Each reward: 1.0 Average reward: 1.0 Training loss: 3.7705 Explore P: 0.9836\n",
      "Env/Rob Step: 168 Total reward: 1.0 Each reward: 1.0 Average reward: 1.0 Training loss: 52.9162 Explore P: 0.9835\n",
      "Env/Rob Step: 169 Total reward: 2.0 Each reward: 1.0 Average reward: 1.0 Training loss: 2.4281 Explore P: 0.9834\n",
      "Env/Rob Step: 170 Total reward: 3.0 Each reward: 1.0 Average reward: 1.0 Training loss: 3.2628 Explore P: 0.9833\n",
      "Env/Rob Step: 171 Total reward: 4.0 Each reward: 1.0 Average reward: 1.0 Training loss: 2.8535 Explore P: 0.9832\n",
      "Env/Rob Step: 172 Total reward: 5.0 Each reward: 1.0 Average reward: 1.0 Training loss: 3.0359 Explore P: 0.9831\n",
      "Env/Rob Step: 173 Total reward: 6.0 Each reward: 1.0 Average reward: 1.0 Training loss: 96.8455 Explore P: 0.9830\n",
      "Env/Rob Step: 174 Total reward: 7.0 Each reward: 1.0 Average reward: 1.0 Training loss: 49.6392 Explore P: 0.9829\n",
      "Env/Rob Step: 175 Total reward: 8.0 Each reward: 1.0 Average reward: 1.0 Training loss: 4.3342 Explore P: 0.9828\n",
      "Env/Rob Step: 176 Total reward: 9.0 Each reward: 1.0 Average reward: 1.0 Training loss: 71.8076 Explore P: 0.9827\n",
      "Env/Rob Step: 177 Total reward: 10.0 Each reward: 1.0 Average reward: 1.0 Training loss: 105.8727 Explore P: 0.9826\n",
      "Env/Rob Step: 178 Total reward: 11.0 Each reward: 1.0 Average reward: 1.0 Training loss: 81.4264 Explore P: 0.9825\n",
      "Env/Rob Step: 179 Total reward: 12.0 Each reward: 1.0 Average reward: 1.0 Training loss: 2.7439 Explore P: 0.9824\n",
      "Episode: 7 Total reward: 13.0 Training loss: 2.7439 Explore P: 0.9823\n",
      "Env/Rob Step: 180 Total reward: 13.0 Each reward: 1.0 Average reward: 1.0 Training loss: 48.4530 Explore P: 0.9823\n",
      "Env/Rob Step: 181 Total reward: 1.0 Each reward: 1.0 Average reward: 1.0 Training loss: 27.4450 Explore P: 0.9822\n",
      "Env/Rob Step: 182 Total reward: 2.0 Each reward: 1.0 Average reward: 1.0 Training loss: 2.2645 Explore P: 0.9821\n",
      "Env/Rob Step: 183 Total reward: 3.0 Each reward: 1.0 Average reward: 1.0 Training loss: 2.3682 Explore P: 0.9820\n",
      "Env/Rob Step: 184 Total reward: 4.0 Each reward: 1.0 Average reward: 1.0 Training loss: 44.8024 Explore P: 0.9820\n",
      "Env/Rob Step: 185 Total reward: 5.0 Each reward: 1.0 Average reward: 1.0 Training loss: 111.3218 Explore P: 0.9819\n",
      "Env/Rob Step: 186 Total reward: 6.0 Each reward: 1.0 Average reward: 1.0 Training loss: 2.6788 Explore P: 0.9818\n",
      "Env/Rob Step: 187 Total reward: 7.0 Each reward: 1.0 Average reward: 1.0 Training loss: 2.4308 Explore P: 0.9817\n",
      "Env/Rob Step: 188 Total reward: 8.0 Each reward: 1.0 Average reward: 1.0 Training loss: 1.6757 Explore P: 0.9816\n",
      "Env/Rob Step: 189 Total reward: 9.0 Each reward: 1.0 Average reward: 1.0 Training loss: 2.6075 Explore P: 0.9815\n",
      "Env/Rob Step: 190 Total reward: 10.0 Each reward: 1.0 Average reward: 1.0 Training loss: 42.3090 Explore P: 0.9814\n",
      "Env/Rob Step: 191 Total reward: 11.0 Each reward: 1.0 Average reward: 1.0 Training loss: 2.0102 Explore P: 0.9813\n",
      "Env/Rob Step: 192 Total reward: 12.0 Each reward: 1.0 Average reward: 1.0 Training loss: 85.6338 Explore P: 0.9812\n",
      "Env/Rob Step: 193 Total reward: 13.0 Each reward: 1.0 Average reward: 1.0 Training loss: 22.1213 Explore P: 0.9811\n",
      "Episode: 8 Total reward: 14.0 Training loss: 22.1213 Explore P: 0.9810\n",
      "Env/Rob Step: 194 Total reward: 14.0 Each reward: 1.0 Average reward: 1.0 Training loss: 40.1307 Explore P: 0.9810\n",
      "Env/Rob Step: 195 Total reward: 1.0 Each reward: 1.0 Average reward: 1.0 Training loss: 2.1367 Explore P: 0.9809\n",
      "Env/Rob Step: 196 Total reward: 2.0 Each reward: 1.0 Average reward: 1.0 Training loss: 47.4646 Explore P: 0.9808\n",
      "Env/Rob Step: 197 Total reward: 3.0 Each reward: 1.0 Average reward: 1.0 Training loss: 1.5767 Explore P: 0.9807\n",
      "Env/Rob Step: 198 Total reward: 4.0 Each reward: 1.0 Average reward: 1.0 Training loss: 39.2428 Explore P: 0.9806\n",
      "Env/Rob Step: 199 Total reward: 5.0 Each reward: 1.0 Average reward: 1.0 Training loss: 45.9059 Explore P: 0.9805\n",
      "Env/Rob Step: 200 Total reward: 6.0 Each reward: 1.0 Average reward: 1.0 Training loss: 44.7298 Explore P: 0.9804\n",
      "Env/Rob Step: 201 Total reward: 7.0 Each reward: 1.0 Average reward: 1.0 Training loss: 16.0778 Explore P: 0.9803\n",
      "Env/Rob Step: 202 Total reward: 8.0 Each reward: 1.0 Average reward: 1.0 Training loss: 16.0003 Explore P: 0.9802\n",
      "Episode: 9 Total reward: 9.0 Training loss: 16.0003 Explore P: 0.9801\n",
      "Env/Rob Step: 203 Total reward: 9.0 Each reward: 1.0 Average reward: 1.0 Training loss: 1.8742 Explore P: 0.9801\n"
     ]
    }
   ],
   "source": [
    "# Now train with experiences\n",
    "saver = tf.train.Saver()\n",
    "\n",
    "# Total rewards and losses list for plotting\n",
    "rewards_list, loss_list = [], []\n",
    "\n",
    "# TF session for training\n",
    "with tf.Session() as sess:\n",
    "    \n",
    "    # Initialize variables\n",
    "    sess.run(tf.global_variables_initializer())\n",
    "\n",
    "    # Training episodes/epochs\n",
    "    step = 0\n",
    "    for ep in range(train_episodes):\n",
    "        \n",
    "        # Env/agent steps/batches/minibatches\n",
    "        total_reward = 0\n",
    "        loss = 0\n",
    "        t = 0\n",
    "        while t < max_steps:\n",
    "            step += 1\n",
    "            \n",
    "            # Uncomment this next line to watch the training\n",
    "            # env.render() \n",
    "            \n",
    "            # Explore or Exploit\n",
    "            explore_p = explore_stop + (explore_start - explore_stop)*np.exp(-decay_rate*step) \n",
    "            if explore_p > np.random.rand():\n",
    "                # Make a random action\n",
    "                action = env.action_space.sample()\n",
    "            else:\n",
    "                # Get action from DQN (the inference mode)\n",
    "                feed_dict = {model.states: state.reshape((1, *state.shape))}\n",
    "                # actions_logits = sess.run(model.actions_logits, feed_dict)\n",
    "                model_actions_logits = generator(action_size=action_size, hidden_size=hidden_size, \n",
    "                                                 is_bn_training=False, reuse=True, states=model.states)\n",
    "                actions_logits = sess.run(model_actions_logits, feed_dict)\n",
    "                action = np.argmax(actions_logits)\n",
    "            \n",
    "            # Take action, get new state and reward\n",
    "            next_state, reward, done, _ = env.step(action)\n",
    "    \n",
    "            # Cumulative reward\n",
    "            total_reward += reward\n",
    "            \n",
    "            # Episode/epoch training is done/failed!\n",
    "            if done:\n",
    "                # the episode ends so no next state\n",
    "                next_state = np.zeros(state.shape)\n",
    "                t = max_steps\n",
    "                \n",
    "                print('Episode: {}'.format(ep),\n",
    "                      'Total reward: {}'.format(total_reward),\n",
    "                      'Training loss: {:.4f}'.format(loss),\n",
    "                      'Explore P: {:.4f}'.format(explore_p))\n",
    "                \n",
    "                # total rewards and losses for plotting\n",
    "                rewards_list.append((ep, total_reward))\n",
    "                loss_list.append((ep, loss))\n",
    "                \n",
    "                # Add experience to memory\n",
    "                memory.add((state, action, reward, next_state))\n",
    "                \n",
    "                # Start new episode\n",
    "                env.reset()\n",
    "                \n",
    "                # Take one random step to get the pole and cart moving\n",
    "                state, reward, done, _ = env.step(env.action_space.sample())\n",
    "\n",
    "            else:\n",
    "                # Add experience to memory\n",
    "                memory.add((state, action, reward, next_state))\n",
    "                state = next_state\n",
    "                t += 1\n",
    "            \n",
    "            # Sample mini-batch from memory\n",
    "            batch = memory.sample(batch_size)\n",
    "            states = np.array([each[0] for each in batch])\n",
    "            actions = np.array([each[1] for each in batch])\n",
    "            rewards = np.array([each[2] for each in batch])\n",
    "            next_states = np.array([each[3] for each in batch])\n",
    "            \n",
    "            # Model in the inference mode\n",
    "            feed_dict={model.states: next_states}\n",
    "            # next_actions_logits = sess.run(model.actions_logits, feed_dict)\n",
    "            model_next_actions_logits = generator(action_size=action_size, hidden_size=hidden_size, \n",
    "                                             is_bn_training=False, reuse=True, states=model.states)\n",
    "            next_actions_logits = sess.run(model_next_actions_logits, feed_dict)\n",
    "\n",
    "            # Set target_Qs to 0 for states where episode ends\n",
    "            episode_ends = (next_states == np.zeros(states[0].shape)).all(axis=1)\n",
    "            next_actions_logits[episode_ends] = (0, 0)\n",
    "\n",
    "            # Bellman equation\n",
    "            targetQs = rewards + (gamma * np.max(next_actions_logits, axis=1))\n",
    "\n",
    "            # Updating the model (the training mode)\n",
    "            loss, _ = sess.run([model.loss, model.opt],\n",
    "                                feed_dict={model.states: states,\n",
    "                                           model.targetQs: targetQs,\n",
    "                                           model.actions: actions})\n",
    "            \n",
    "            # Printing each step before episode is done.\n",
    "            print('Env/Rob Step: {}'.format(step),\n",
    "                  'Total reward: {}'.format(total_reward),\n",
    "                  'Each reward: {}'.format(reward),\n",
    "                  'Average reward: {}'.format(np.mean(rewards)),\n",
    "                  'Training loss: {:.4f}'.format(loss),\n",
    "                  'Explore P: {:.4f}'.format(explore_p))\n",
    "\n",
    "    # Save the trained model \n",
    "    saver.save(sess, \"checkpoints/DQN-cartpole.ckpt\")"
   ]
  },
  {
   "cell_type": "markdown",
   "metadata": {},
   "source": [
    "## Visualizing training\n",
    "\n",
    "Below I'll plot the total rewards for each episode. I'm plotting the rolling average too, in blue."
   ]
  },
  {
   "cell_type": "code",
   "execution_count": 16,
   "metadata": {},
   "outputs": [],
   "source": [
    "%matplotlib inline\n",
    "import matplotlib.pyplot as plt\n",
    "\n",
    "def running_mean(x, N):\n",
    "    cumsum = np.cumsum(np.insert(x, 0, 0)) \n",
    "    return (cumsum[N:] - cumsum[:-N]) / N "
   ]
  },
  {
   "cell_type": "code",
   "execution_count": 17,
   "metadata": {},
   "outputs": [
    {
     "data": {
      "text/plain": [
       "Text(0,0.5,'Total Reward')"
      ]
     },
     "execution_count": 17,
     "metadata": {},
     "output_type": "execute_result"
    },
    {
     "data": {
      "image/png": "[encoded data removed]",
      "text/plain": [
       "<Figure size 432x288 with 1 Axes>"
      ]
     },
     "metadata": {},
     "output_type": "display_data"
    }
   ],
   "source": [
    "eps, rews = np.array(rewards_list).T\n",
    "smoothed_rews = running_mean(rews, 10)\n",
    "plt.plot(eps[-len(smoothed_rews):], smoothed_rews)\n",
    "plt.plot(eps, rews, color='grey', alpha=0.3)\n",
    "plt.xlabel('Episode')\n",
    "plt.ylabel('Total Reward')"
   ]
  },
  {
   "cell_type": "code",
   "execution_count": 18,
   "metadata": {},
   "outputs": [
    {
     "data": {
      "text/plain": [
       "Text(0,0.5,'Training Loss')"
      ]
     },
     "execution_count": 18,
     "metadata": {},
     "output_type": "execute_result"
    },
    {
     "data": {
      "image/png": "[encoded data removed]",
      "text/plain": [
       "<Figure size 432x288 with 1 Axes>"
      ]
     },
     "metadata": {},
     "output_type": "display_data"
    }
   ],
   "source": [
    "eps, loss = np.array(loss_list).T\n",
    "smoothed_loss = running_mean(loss, 10)\n",
    "plt.plot(eps[-len(smoothed_loss):], smoothed_loss)\n",
    "plt.plot(eps, loss, color='grey', alpha=0.3)\n",
    "plt.xlabel('Episode')\n",
    "plt.ylabel('Training Loss')"
   ]
  },
  {
   "cell_type": "markdown",
   "metadata": {},
   "source": [
    "## Testing\n",
    "\n",
    "Let's checkout how our trained agent plays the game."
   ]
  },
  {
   "cell_type": "code",
   "execution_count": 19,
   "metadata": {},
   "outputs": [
    {
     "name": "stdout",
     "output_type": "stream",
     "text": [
      "INFO:tensorflow:Restoring parameters from checkpoints/DQN-cartpole.ckpt\n"
     ]
    }
   ],
   "source": [
    "test_episodes = 10\n",
    "test_max_steps = 10000000\n",
    "env.reset()\n",
    "with tf.Session() as sess:\n",
    "    #saver.restore(sess, tf.train.latest_checkpoint('checkpoints'))\n",
    "    # Restore/load the trained model \n",
    "    saver.restore(sess, \"checkpoints/DQN-cartpole.ckpt\")\n",
    "    \n",
    "    # Training episodes/ epochs\n",
    "    for ep in range(test_episodes):\n",
    "        \n",
    "        # Env/Rob steps for minibatches/batches training\n",
    "        t = 0\n",
    "        while t < test_max_steps:\n",
    "            \n",
    "            # render the graphics\n",
    "            env.render() \n",
    "            \n",
    "            # Get action from DQN\n",
    "            feed_dict = {model.states: state.reshape((1, *state.shape))}\n",
    "            actions_logits = sess.run(model.actions_logits, feed_dict)\n",
    "            action = np.argmax(actions_logits)\n",
    "            \n",
    "            # Take action, get new state and reward\n",
    "            next_state, reward, done, _ = env.step(action)\n",
    "            \n",
    "            # If episode is done/failed;\n",
    "            if done:\n",
    "                t = test_max_steps\n",
    "                env.reset()\n",
    "                # Take one random step to get the pole and cart moving\n",
    "                state, reward, done, _ = env.step(env.action_space.sample())\n",
    "\n",
    "            else:\n",
    "                state = next_state\n",
    "                t += 1\n",
    "\n",
    "# Closing the simulated env\n",
    "env.close()"
   ]
  },
  {
   "cell_type": "markdown",
   "metadata": {},
   "source": [
    "## Extending this\n",
    "\n",
    "So, Cart-Pole is a pretty simple game. However, the same model can be used to train an agent to play something much more complicated like Pong or Space Invaders. Instead of a state like we're using here though, you'd want to use convolutional layers to get the state from the screen images.\n",
    "\n",
    "![Deep Q-Learning Atari](assets/atari-network.png)\n",
    "\n",
    "I'll leave it as a challenge for you to use deep Q-learning to train an agent to play Atari games. Here's the original paper which will get you started: http://www.davidqiu.com:8888/research/nature14236.pdf."
   ]
  }
 ],
 "metadata": {
  "kernelspec": {
   "display_name": "Python 3",
   "language": "python",
   "name": "python3"
  },
  "language_info": {
   "codemirror_mode": {
    "name": "ipython",
    "version": 3
   },
   "file_extension": ".py",
   "mimetype": "text/x-python",
   "name": "python",
   "nbconvert_exporter": "python",
   "pygments_lexer": "ipython3",
   "version": "3.6.5"
  }
 },
 "nbformat": 4,
 "nbformat_minor": 2
}
