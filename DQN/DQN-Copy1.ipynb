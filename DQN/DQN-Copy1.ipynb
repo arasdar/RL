{
 "cells": [
  {
   "cell_type": "markdown",
   "metadata": {},
   "source": [
    "# DQN (Deep Q-Net) using Q-learning using batchnorm- TEST\n",
    "\n",
    "In this notebook, we'll build a neural network that can learn to play games through reinforcement learning. More specifically, we'll use Q-learning to train an agent to play a game called [Cart-Pole](https://gym.openai.com/envs/CartPole-v0). In this game, a freely swinging pole is attached to a cart. The cart can move to the left and right, and the goal is to keep the pole upright as long as possible.\n",
    "\n",
    "![Cart-Pole](assets/cart-pole.jpg)\n",
    "\n",
    "We can simulate this game using [OpenAI Gym](https://gym.openai.com/). First, let's check out how OpenAI Gym works. Then, we'll get into training an agent to play the Cart-Pole game."
   ]
  },
  {
   "cell_type": "code",
   "execution_count": 1,
   "metadata": {},
   "outputs": [],
   "source": [
    "import gym\n",
    "import numpy as np"
   ]
  },
  {
   "cell_type": "code",
   "execution_count": 2,
   "metadata": {},
   "outputs": [
    {
     "name": "stdout",
     "output_type": "stream",
     "text": [
      "TensorFlow Version: 1.8.0\n",
      "Default GPU Device: /device:GPU:0\n"
     ]
    }
   ],
   "source": [
    "# In this one we should define and detect GPUs for tensorflow\n",
    "# GPUs or CPU\n",
    "import tensorflow as tf\n",
    "\n",
    "# Check TensorFlow Version\n",
    "print('TensorFlow Version: {}'.format(tf.__version__))\n",
    "\n",
    "# Check for a GPU\n",
    "print('Default GPU Device: {}'.format(tf.test.gpu_device_name()))"
   ]
  },
  {
   "cell_type": "markdown",
   "metadata": {},
   "source": [
    ">**Note:** Make sure you have OpenAI Gym cloned into the same directory with this notebook. I've included `gym` as a submodule, so you can run `git submodule --init --recursive` to pull the contents into the `gym` repo."
   ]
  },
  {
   "cell_type": "code",
   "execution_count": 3,
   "metadata": {},
   "outputs": [
    {
     "name": "stdout",
     "output_type": "stream",
     "text": [
      "\u001b[33mWARN: gym.spaces.Box autodetected dtype as <class 'numpy.float32'>. Please provide explicit dtype.\u001b[0m\n"
     ]
    },
    {
     "name": "stderr",
     "output_type": "stream",
     "text": [
      "/home/arasdar/anaconda3/envs/env/lib/python3.6/site-packages/gym/__init__.py:22: UserWarning: DEPRECATION WARNING: to improve load times, gym no longer automatically loads gym.spaces. Please run \"import gym.spaces\" to load gym.spaces on your own. This warning will turn into an error in a future version of gym.\n",
      "  warnings.warn('DEPRECATION WARNING: to improve load times, gym no longer automatically loads gym.spaces. Please run \"import gym.spaces\" to load gym.spaces on your own. This warning will turn into an error in a future version of gym.')\n"
     ]
    }
   ],
   "source": [
    "# Create the Cart-Pole game environment\n",
    "env = gym.make('CartPole-v0')\n",
    "# env = gym.make('CartPole-v1')\n",
    "# env = gym.make('Acrobot-v1')"
   ]
  },
  {
   "cell_type": "markdown",
   "metadata": {},
   "source": [
    "We interact with the simulation through `env`. To show the simulation running, you can use `env.render()` to render one frame. Passing in an action as an integer to `env.step` will generate the next step in the simulation.  You can see how many actions are possible from `env.action_space` and to get a random action you can use `env.action_space.sample()`. This is general to all Gym games. In the Cart-Pole game, there are two possible actions, moving the cart left or right. So there are two actions we can take, encoded as 0 and 1.\n",
    "\n",
    "Run the code below to watch the simulation run."
   ]
  },
  {
   "cell_type": "code",
   "execution_count": 4,
   "metadata": {},
   "outputs": [
    {
     "name": "stdout",
     "output_type": "stream",
     "text": [
      "state, action, reward, done, info\n",
      "[-0.02761163 -0.18210196 -0.03206792  0.32645303] 0 1.0 False {}\n",
      "state, action, reward, done, info\n",
      "[-0.03125367  0.01346154 -0.02553886  0.02383225] 1 1.0 False {}\n",
      "state, action, reward, done, info\n",
      "[-0.03098444  0.20894025 -0.02506221 -0.27679781] 1 1.0 False {}\n",
      "state, action, reward, done, info\n",
      "[-0.02680564  0.01418466 -0.03059817  0.00787633] 0 1.0 False {}\n",
      "state, action, reward, done, info\n",
      "[-0.02652194  0.20973176 -0.03044064 -0.29430149] 1 1.0 False {}\n",
      "state, action, reward, done, info\n",
      "[-0.02232731  0.40527418 -0.03632667 -0.5964274 ] 1 1.0 False {}\n",
      "state, action, reward, done, info\n",
      "[-0.01422183  0.60088517 -0.04825522 -0.90032799] 1 1.0 False {}\n",
      "state, action, reward, done, info\n",
      "[-0.00220412  0.79662662 -0.06626178 -1.20777993] 1 1.0 False {}\n",
      "state, action, reward, done, info\n",
      "[ 0.01372841  0.99253901 -0.09041738 -1.52047032] 1 1.0 False {}\n",
      "state, action, reward, done, info\n",
      "[ 0.03357919  1.18862999 -0.12082679 -1.83995178] 1 1.0 False {}\n"
     ]
    }
   ],
   "source": [
    "env.reset()\n",
    "rewards, states, actions, dones = [], [], [], []\n",
    "for _ in range(10):\n",
    "    # env.render()\n",
    "    action = env.action_space.sample()\n",
    "    state, reward, done, info = env.step(action) # take a random action\n",
    "    states.append(state)\n",
    "    rewards.append(reward)\n",
    "    actions.append(action)\n",
    "    dones.append(done)\n",
    "    print('state, action, reward, done, info')\n",
    "    print(state, action, reward, done, info)\n",
    "    if done:\n",
    "        print('state, action, reward, done, info')\n",
    "        print(state, action, reward, done, info)\n",
    "        states.append(state)\n",
    "        rewards.append(reward)\n",
    "        actions.append(action)\n",
    "        dones.append(done)"
   ]
  },
  {
   "cell_type": "markdown",
   "metadata": {},
   "source": [
    "To shut the window showing the simulation, use `env.close()`."
   ]
  },
  {
   "cell_type": "markdown",
   "metadata": {},
   "source": [
    "If you ran the simulation above, we can look at the rewards:"
   ]
  },
  {
   "cell_type": "code",
   "execution_count": 5,
   "metadata": {},
   "outputs": [
    {
     "name": "stdout",
     "output_type": "stream",
     "text": [
      "[1.0, 1.0, 1.0, 1.0, 1.0, 1.0, 1.0, 1.0, 1.0, 1.0]\n",
      "(10,) (10, 4) (10,) (10,)\n",
      "float64 float64 int64 bool\n",
      "1 0\n",
      "2\n",
      "1.0 1.0\n",
      "1.1886299860716203 -1.8399517796564002\n"
     ]
    }
   ],
   "source": [
    "print(rewards[-20:])\n",
    "print(np.array(rewards).shape, np.array(states).shape, np.array(actions).shape, np.array(dones).shape)\n",
    "print(np.array(rewards).dtype, np.array(states).dtype, np.array(actions).dtype, np.array(dones).dtype)\n",
    "print(np.max(np.array(actions)), np.min(np.array(actions)))\n",
    "print((np.max(np.array(actions)) - np.min(np.array(actions)))+1)\n",
    "print(np.max(np.array(rewards)), np.min(np.array(rewards)))\n",
    "print(np.max(np.array(states)), np.min(np.array(states)))"
   ]
  },
  {
   "cell_type": "markdown",
   "metadata": {},
   "source": [
    "The game resets after the pole has fallen past a certain angle. For each frame while the simulation is running, it returns a reward of 1.0. The longer the game runs, the more reward we get. Then, our network's goal is to maximize the reward by keeping the pole vertical. It will do this by moving the cart to the left and the right."
   ]
  },
  {
   "cell_type": "markdown",
   "metadata": {},
   "source": [
    "## Q-Network\n",
    "\n",
    "We train our Q-learning agent using the Bellman Equation:\n",
    "\n",
    "$$\n",
    "Q(s, a) = r + \\gamma \\max{Q(s', a')}\n",
    "$$\n",
    "\n",
    "where $s$ is a state, $a$ is an action, and $s'$ is the next state from state $s$ and action $a$.\n",
    "\n",
    "Before we used this equation to learn values for a Q-_table_. However, for this game there are a huge number of states available. The state has four values: the position and velocity of the cart, and the position and velocity of the pole. These are all real-valued numbers, so ignoring floating point precisions, you practically have infinite states. Instead of using a table then, we'll replace it with a neural network that will approximate the Q-table lookup function.\n",
    "\n",
    "<img src=\"assets/deep-q-learning.png\" width=450px>\n",
    "\n",
    "Now, our Q value, $Q(s, a)$ is calculated by passing in a state to the network. The output will be Q-values for each available action, with fully connected hidden layers.\n",
    "\n",
    "<img src=\"assets/q-network.png\" width=550px>\n",
    "\n",
    "\n",
    "As I showed before, we can define our targets for training as $\\hat{Q}(s,a) = r + \\gamma \\max{Q(s', a')}$. Then we update the weights by minimizing $(\\hat{Q}(s,a) - Q(s,a))^2$. \n",
    "\n",
    "For this Cart-Pole game, we have four inputs, one for each value in the state, and two outputs, one for each action. To get $\\hat{Q}$, we'll first choose an action, then simulate the game using that action. This will get us the next state, $s'$, and the reward. With that, we can calculate $\\hat{Q}$ then pass it back into the $Q$ network to run the optimizer and update the weights.\n",
    "\n",
    "Below is my implementation of the Q-network. I used two fully connected layers with ReLU activations. Two seems to be good enough, three might be better. Feel free to try it out."
   ]
  },
  {
   "cell_type": "code",
   "execution_count": 6,
   "metadata": {},
   "outputs": [],
   "source": [
    "def model_input(state_size):\n",
    "    # Input states/ observation or internal states\n",
    "    states = tf.placeholder(tf.float32, [None, state_size], name=None)\n",
    "    \n",
    "    # Output actions\n",
    "    actions = tf.placeholder(tf.int32, [None], name=None)\n",
    "\n",
    "    # Target Q values for training\n",
    "    targetQs = tf.placeholder(tf.float32, [None], name=None)\n",
    "    return states, actions, targetQs"
   ]
  },
  {
   "cell_type": "code",
   "execution_count": 7,
   "metadata": {},
   "outputs": [],
   "source": [
    "# tf.layers.batch_normalization(\n",
    "#     inputs, ??????????????????????????????????????\n",
    "#     axis=-1, okkkkkkkkkkkkkkkkkkkkkkkkkkkk\n",
    "#     momentum=0.99, okkkkkkkkkkkkkkkkkkkkkkkk\n",
    "#     epsilon=0.001, okkkkkkkkkkkkkkkkkkkkkkkkkkk\n",
    "#     center=True, OOOOOOOOOOOOOOOOOOOOOOK\n",
    "#     scale=True, OOOOOOOOOOOOOOOOOOOOOOOOOOOOOK\n",
    "#     beta_initializer=tf.zeros_initializer(), OOOOOOOOOOOOOOOOOOOOOOOOOOOOK\n",
    "#     gamma_initializer=tf.ones_initializer(), OOOOOOOOOOOOOOOOOOOOOOOOOOOOK\n",
    "#     moving_mean_initializer=tf.zeros_initializer(), OOOOOOOOOOOOOOOOOOOOOOOOOK\n",
    "#     moving_variance_initializer=tf.ones_initializer(), OOOOOOOOOOOOOOOOOOOOOOK\n",
    "#     beta_regularizer=None,\n",
    "#     gamma_regularizer=None,\n",
    "#     beta_constraint=None,\n",
    "#     gamma_constraint=None,\n",
    "#     training=False, ??????????????????????????????\n",
    "#     trainable=True, ???????????????????????????\n",
    "#     name=None,\n",
    "#     reuse=None,\n",
    "#     renorm=False,\n",
    "#     renorm_clipping=None,\n",
    "#     renorm_momentum=0.99, OOOOOOOOOOOOOOOOOK\n",
    "#     fused=None,\n",
    "#     virtual_batch_size=None,\n",
    "#     adjustment=None\n",
    "# )"
   ]
  },
  {
   "cell_type": "code",
   "execution_count": 8,
   "metadata": {},
   "outputs": [],
   "source": [
    "def generator(states, hidden_size, action_size, reuse=False, is_bn_training=True):\n",
    "    with tf.variable_scope('generator', reuse=reuse):\n",
    "        # First fully connected layer\n",
    "        h1 = tf.layers.dense(inputs=states, units=hidden_size)\n",
    "        bn1 = tf.layers.batch_normalization(h1, training=is_bn_training)\n",
    "        nl1 = tf.maximum(0.01 * bn1, bn1)\n",
    "        \n",
    "        # Second fully connected layer\n",
    "        h2 = tf.layers.dense(inputs=nl1, units=hidden_size)\n",
    "        bn2 = tf.layers.batch_normalization(h2, training=is_bn_training)\n",
    "        nl2 = tf.maximum(0.01 * bn2, bn2)\n",
    "        \n",
    "        # Output layer\n",
    "        logits = tf.layers.dense(inputs=nl2, units=action_size)\n",
    "        # predictions = tf.tanh(logits)\n",
    "\n",
    "        return logits"
   ]
  },
  {
   "cell_type": "code",
   "execution_count": 9,
   "metadata": {},
   "outputs": [],
   "source": [
    "def model_loss(states, hidden_size, actions, action_size, targetQs):\n",
    "    # Output layer\n",
    "    actions_logits = generator(states=states, hidden_size=hidden_size, action_size=action_size)        \n",
    "\n",
    "    # One hot encode the actions to later choose the Q-value for the action\n",
    "    actions_labels = tf.one_hot(actions, action_size)\n",
    "\n",
    "    # Train with loss (targetQ - Q)^2\n",
    "    Qs = tf.reduce_sum(tf.multiply(actions_logits, actions_labels), axis=1)\n",
    "\n",
    "    # error backpropagation: loss and opt\n",
    "    loss = tf.reduce_mean(tf.square(targetQs - Qs))\n",
    "    \n",
    "    return actions_logits, Qs, loss"
   ]
  },
  {
   "cell_type": "code",
   "execution_count": 10,
   "metadata": {},
   "outputs": [],
   "source": [
    "class DQN:\n",
    "    def __init__(self, state_size, action_size, hidden_size, learning_rate):\n",
    "        \n",
    "        # Data of the Model: make the data available inside the framework\n",
    "        self.states, self.actions, self.targetQs = model_input(state_size=state_size)\n",
    "\n",
    "        # Create the Model: calculating the loss and forwad pass\n",
    "        self.actions_logits, self.Qs, self.loss = model_loss(action_size=action_size, actions=self.actions, \n",
    "                                                      states=self.states, hidden_size=hidden_size, \n",
    "                                                      targetQs=self.targetQs)\n",
    "\n",
    "        # Update the model: backward pass and backprop\n",
    "        self.opt = tf.train.AdamOptimizer(learning_rate).minimize(self.loss)"
   ]
  },
  {
   "cell_type": "markdown",
   "metadata": {},
   "source": [
    "## Experience replay\n",
    "\n",
    "Reinforcement learning algorithms can have stability issues due to correlations between states. To reduce correlations when training, we can store the agent's experiences and later draw a random mini-batch of those experiences to train on. \n",
    "\n",
    "Here, we'll create a `Memory` object that will store our experiences, our transitions $<s, a, r, s'>$. This memory will have a maxmium capacity, so we can keep newer experiences in memory while getting rid of older experiences. Then, we'll sample a random mini-batch of transitions $<s, a, r, s'>$ and train on those.\n",
    "\n",
    "Below, I've implemented a `Memory` object. If you're unfamiliar with `deque`, this is a double-ended queue. You can think of it like a tube open on both sides. You can put objects in either side of the tube. But if it's full, adding anything more will push an object out the other side. This is a great data structure to use for the memory buffer."
   ]
  },
  {
   "cell_type": "code",
   "execution_count": 11,
   "metadata": {},
   "outputs": [],
   "source": [
    "from collections import deque\n",
    "\n",
    "class Memory():    \n",
    "    def __init__(self, max_size = 1000):\n",
    "        self.buffer = deque(maxlen=max_size)\n",
    "    \n",
    "    def add(self, experience):\n",
    "        self.buffer.append(experience)\n",
    "            \n",
    "    def sample(self, batch_size):\n",
    "        idx = np.random.choice(np.arange(len(self.buffer)), \n",
    "                               size=batch_size, \n",
    "                               replace=False)\n",
    "        return [self.buffer[ii] for ii in idx]"
   ]
  },
  {
   "cell_type": "markdown",
   "metadata": {},
   "source": [
    "## Exploration - Exploitation\n",
    "\n",
    "To learn about the environment and rules of the game, the agent needs to explore by taking random actions. We'll do this by choosing a random action with some probability $\\epsilon$ (epsilon).  That is, with some probability $\\epsilon$ the agent will make a random action and with probability $1 - \\epsilon$, the agent will choose an action from $Q(s,a)$. This is called an **$\\epsilon$-greedy policy**.\n",
    "\n",
    "\n",
    "At first, the agent needs to do a lot of exploring. Later when it has learned more, the agent can favor choosing actions based on what it has learned. This is called _exploitation_. We'll set it up so the agent is more likely to explore early in training, then more likely to exploit later in training."
   ]
  },
  {
   "cell_type": "markdown",
   "metadata": {},
   "source": [
    "## Q-Learning training algorithm\n",
    "\n",
    "Putting all this together, we can list out the algorithm we'll use to train the network. We'll train the network in _episodes_. One *episode* is one simulation of the game. For this game, the goal is to keep the pole upright for 195 frames. So we can start a new episode once meeting that goal. The game ends if the pole tilts over too far, or if the cart moves too far the left or right. When a game ends, we'll start a new episode. Now, to train the agent:\n",
    "\n",
    "* Initialize the memory $D$\n",
    "* Initialize the action-value network $Q$ with random weights\n",
    "* **For** episode = 1, $M$ **do**\n",
    "  * **For** $t$, $T$ **do**\n",
    "     * With probability $\\epsilon$ select a random action $a_t$, otherwise select $a_t = \\mathrm{argmax}_a Q(s,a)$\n",
    "     * Execute action $a_t$ in simulator and observe reward $r_{t+1}$ and new state $s_{t+1}$\n",
    "     * Store transition $<s_t, a_t, r_{t+1}, s_{t+1}>$ in memory $D$\n",
    "     * Sample random mini-batch from $D$: $<s_j, a_j, r_j, s'_j>$\n",
    "     * Set $\\hat{Q}_j = r_j$ if the episode ends at $j+1$, otherwise set $\\hat{Q}_j = r_j + \\gamma \\max_{a'}{Q(s'_j, a')}$\n",
    "     * Make a gradient descent step with loss $(\\hat{Q}_j - Q(s_j, a_j))^2$\n",
    "  * **endfor**\n",
    "* **endfor**"
   ]
  },
  {
   "cell_type": "markdown",
   "metadata": {},
   "source": [
    "## Hyperparameters\n",
    "\n",
    "One of the more difficult aspects of reinforcememt learning are the large number of hyperparameters. Not only are we tuning the network, but we're tuning the simulation."
   ]
  },
  {
   "cell_type": "code",
   "execution_count": 13,
   "metadata": {},
   "outputs": [],
   "source": [
    "train_episodes = 1000          # max number of episodes to learn from\n",
    "max_steps = 200               # max steps in an episode\n",
    "gamma = 0.99                   # future reward discount\n",
    "\n",
    "# Exploration parameters\n",
    "explore_start = 1.0            # exploration probability at start\n",
    "explore_stop = 0.01            # minimum exploration probability \n",
    "decay_rate = 0.0001            # exponential decay rate for exploration prob\n",
    "\n",
    "# Network parameters\n",
    "hidden_size = 64              # number of units in each Q-network hidden layer -- simulation\n",
    "state_size = 4                # number of units for the input state/observation -- simulation\n",
    "action_size = 2               # number of units for the output actions -- simulation\n",
    "\n",
    "# Memory parameters\n",
    "memory_size = 10000            # memory capacity\n",
    "batch_size = 20                # experience mini-batch size\n",
    "learning_rate = 0.001          # learning rate for training/optimization/adam"
   ]
  },
  {
   "cell_type": "code",
   "execution_count": 14,
   "metadata": {},
   "outputs": [],
   "source": [
    "tf.reset_default_graph()\n",
    "model = DQN(action_size=action_size, hidden_size=hidden_size, state_size=state_size, learning_rate=learning_rate)"
   ]
  },
  {
   "cell_type": "markdown",
   "metadata": {},
   "source": [
    "## Populate the experience memory\n",
    "\n",
    "Here I'm re-initializing the simulation and pre-populating the memory. The agent is taking random actions and storing the transitions in memory. This will help the agent with exploring the game."
   ]
  },
  {
   "cell_type": "code",
   "execution_count": 15,
   "metadata": {},
   "outputs": [],
   "source": [
    "# Initialize the simulation\n",
    "env.reset()\n",
    "\n",
    "# Take one random step to get the pole and cart moving\n",
    "state, reward, done, _ = env.step(env.action_space.sample())\n",
    "\n",
    "# init memory\n",
    "memory = Memory(max_size=memory_size)\n",
    "\n",
    "# Make a bunch of random actions and store the experiences\n",
    "for _ in range(batch_size):\n",
    "    # Uncomment the line below to watch the simulation\n",
    "    # env.render()\n",
    "\n",
    "    # Make a random action\n",
    "    action = env.action_space.sample()\n",
    "    next_state, reward, done, _ = env.step(action)\n",
    "\n",
    "    # Episode is done/failed or not;\n",
    "    if done:\n",
    "        # The simulation fails so no next state\n",
    "        next_state = np.zeros(state.shape)\n",
    "        \n",
    "        # Add experience to memory\n",
    "        memory.add((state, action, reward, next_state))\n",
    "        \n",
    "        # Start new episode\n",
    "        env.reset()\n",
    "        \n",
    "        # Take one random step to get the pole and cart moving\n",
    "        state, reward, done, _ = env.step(env.action_space.sample())\n",
    "    else:\n",
    "        # Add experience to memory\n",
    "        memory.add((state, action, reward, next_state))\n",
    "        state = next_state"
   ]
  },
  {
   "cell_type": "markdown",
   "metadata": {},
   "source": [
    "## Training\n",
    "\n",
    "Below we'll train our agent. If you want to watch it train, uncomment the `env.render()` line. This is slow because it's rendering the frames slower than the network can train. But, it's cool to watch the agent get better at the game."
   ]
  },
  {
   "cell_type": "code",
   "execution_count": null,
   "metadata": {},
   "outputs": [
    {
     "name": "stdout",
     "output_type": "stream",
     "text": [
      "Episode: 0 Total reward: 16.0 Training loss: 0.7616 Explore P: 0.9984\n",
      "Episode: 1 Total reward: 16.0 Training loss: 0.3490 Explore P: 0.9968\n",
      "Episode: 2 Total reward: 13.0 Training loss: 0.0975 Explore P: 0.9956\n",
      "Episode: 3 Total reward: 16.0 Training loss: 0.1076 Explore P: 0.9940\n",
      "Episode: 4 Total reward: 15.0 Training loss: 0.0626 Explore P: 0.9925\n",
      "Episode: 5 Total reward: 16.0 Training loss: 0.1440 Explore P: 0.9909\n",
      "Episode: 6 Total reward: 12.0 Training loss: 0.0511 Explore P: 0.9898\n",
      "Episode: 7 Total reward: 19.0 Training loss: 0.0213 Explore P: 0.9879\n",
      "Episode: 8 Total reward: 18.0 Training loss: 0.0342 Explore P: 0.9861\n",
      "Episode: 9 Total reward: 16.0 Training loss: 0.0331 Explore P: 0.9846\n",
      "Episode: 10 Total reward: 16.0 Training loss: 0.0277 Explore P: 0.9830\n",
      "Episode: 11 Total reward: 11.0 Training loss: 0.0149 Explore P: 0.9820\n",
      "Episode: 12 Total reward: 18.0 Training loss: 0.0507 Explore P: 0.9802\n",
      "Episode: 13 Total reward: 15.0 Training loss: 0.0105 Explore P: 0.9787\n",
      "Episode: 14 Total reward: 19.0 Training loss: 0.0057 Explore P: 0.9769\n",
      "Episode: 15 Total reward: 26.0 Training loss: 0.0202 Explore P: 0.9744\n",
      "Episode: 16 Total reward: 19.0 Training loss: 0.0159 Explore P: 0.9726\n",
      "Episode: 17 Total reward: 17.0 Training loss: 0.0257 Explore P: 0.9709\n",
      "Episode: 18 Total reward: 15.0 Training loss: 0.0157 Explore P: 0.9695\n",
      "Episode: 19 Total reward: 16.0 Training loss: 0.0229 Explore P: 0.9680\n",
      "Episode: 20 Total reward: 27.0 Training loss: 0.0160 Explore P: 0.9654\n",
      "Episode: 21 Total reward: 44.0 Training loss: 0.0344 Explore P: 0.9612\n",
      "Episode: 22 Total reward: 17.0 Training loss: 0.0144 Explore P: 0.9596\n",
      "Episode: 23 Total reward: 9.0 Training loss: 0.0262 Explore P: 0.9587\n",
      "Episode: 24 Total reward: 15.0 Training loss: 0.0282 Explore P: 0.9573\n",
      "Episode: 25 Total reward: 45.0 Training loss: 0.0130 Explore P: 0.9530\n",
      "Episode: 26 Total reward: 17.0 Training loss: 0.0216 Explore P: 0.9514\n",
      "Episode: 27 Total reward: 16.0 Training loss: 0.0214 Explore P: 0.9499\n",
      "Episode: 28 Total reward: 14.0 Training loss: 0.0123 Explore P: 0.9486\n",
      "Episode: 29 Total reward: 50.0 Training loss: 0.0205 Explore P: 0.9439\n",
      "Episode: 30 Total reward: 19.0 Training loss: 0.0150 Explore P: 0.9422\n",
      "Episode: 31 Total reward: 18.0 Training loss: 0.0264 Explore P: 0.9405\n",
      "Episode: 32 Total reward: 17.0 Training loss: 0.0212 Explore P: 0.9389\n",
      "Episode: 33 Total reward: 17.0 Training loss: 0.0114 Explore P: 0.9373\n",
      "Episode: 34 Total reward: 26.0 Training loss: 0.0090 Explore P: 0.9349\n",
      "Episode: 35 Total reward: 36.0 Training loss: 0.0122 Explore P: 0.9316\n",
      "Episode: 36 Total reward: 17.0 Training loss: 0.0163 Explore P: 0.9300\n",
      "Episode: 37 Total reward: 19.0 Training loss: 0.0302 Explore P: 0.9283\n",
      "Episode: 38 Total reward: 14.0 Training loss: 0.0196 Explore P: 0.9270\n",
      "Episode: 39 Total reward: 27.0 Training loss: 0.0275 Explore P: 0.9245\n",
      "Episode: 40 Total reward: 17.0 Training loss: 0.0243 Explore P: 0.9230\n",
      "Episode: 41 Total reward: 11.0 Training loss: 0.0282 Explore P: 0.9220\n",
      "Episode: 42 Total reward: 18.0 Training loss: 0.0123 Explore P: 0.9203\n",
      "Episode: 43 Total reward: 22.0 Training loss: 0.0130 Explore P: 0.9183\n",
      "Episode: 44 Total reward: 45.0 Training loss: 0.0157 Explore P: 0.9142\n",
      "Episode: 45 Total reward: 47.0 Training loss: 0.0146 Explore P: 0.9100\n",
      "Episode: 46 Total reward: 16.0 Training loss: 0.0126 Explore P: 0.9086\n",
      "Episode: 47 Total reward: 69.0 Training loss: 0.0120 Explore P: 0.9024\n",
      "Episode: 48 Total reward: 39.0 Training loss: 0.0216 Explore P: 0.8989\n",
      "Episode: 49 Total reward: 10.0 Training loss: 0.0332 Explore P: 0.8980\n",
      "Episode: 50 Total reward: 36.0 Training loss: 0.0138 Explore P: 0.8948\n",
      "Episode: 51 Total reward: 38.0 Training loss: 0.0193 Explore P: 0.8915\n",
      "Episode: 52 Total reward: 35.0 Training loss: 0.0107 Explore P: 0.8884\n",
      "Episode: 53 Total reward: 21.0 Training loss: 0.0231 Explore P: 0.8866\n",
      "Episode: 54 Total reward: 54.0 Training loss: 0.0285 Explore P: 0.8818\n",
      "Episode: 55 Total reward: 48.0 Training loss: 0.0302 Explore P: 0.8777\n",
      "Episode: 56 Total reward: 30.0 Training loss: 0.0218 Explore P: 0.8751\n",
      "Episode: 57 Total reward: 17.0 Training loss: 0.0212 Explore P: 0.8736\n",
      "Episode: 58 Total reward: 32.0 Training loss: 0.0079 Explore P: 0.8708\n",
      "Episode: 59 Total reward: 60.0 Training loss: 0.0235 Explore P: 0.8657\n",
      "Episode: 60 Total reward: 48.0 Training loss: 0.0299 Explore P: 0.8616\n",
      "Episode: 61 Total reward: 14.0 Training loss: 0.0065 Explore P: 0.8604\n",
      "Episode: 62 Total reward: 14.0 Training loss: 0.0666 Explore P: 0.8592\n",
      "Episode: 63 Total reward: 49.0 Training loss: 0.0212 Explore P: 0.8551\n",
      "Episode: 64 Total reward: 12.0 Training loss: 0.0373 Explore P: 0.8540\n",
      "Episode: 65 Total reward: 19.0 Training loss: 0.0545 Explore P: 0.8524\n",
      "Episode: 66 Total reward: 42.0 Training loss: 0.0332 Explore P: 0.8489\n",
      "Episode: 67 Total reward: 11.0 Training loss: 0.0596 Explore P: 0.8480\n",
      "Episode: 68 Total reward: 59.0 Training loss: 0.0270 Explore P: 0.8431\n",
      "Episode: 69 Total reward: 21.0 Training loss: 0.0344 Explore P: 0.8413\n",
      "Episode: 70 Total reward: 15.0 Training loss: 0.0076 Explore P: 0.8401\n"
     ]
    }
   ],
   "source": [
    "# Now train with experiences\n",
    "saver = tf.train.Saver()\n",
    "\n",
    "# Total rewards and losses list for plotting\n",
    "rewards_list, loss_list = [], []\n",
    "\n",
    "# TF session for training\n",
    "with tf.Session() as sess:\n",
    "    \n",
    "    # Initialize variables\n",
    "    sess.run(tf.global_variables_initializer())\n",
    "\n",
    "    # Training episodes/epochs\n",
    "    step = 0\n",
    "    for ep in range(train_episodes):\n",
    "        \n",
    "        # Env/agent steps/batches/minibatches\n",
    "        total_reward = 0\n",
    "        loss = 0\n",
    "        t = 0\n",
    "        while t < max_steps:\n",
    "            step += 1\n",
    "            \n",
    "            # Uncomment this next line to watch the training\n",
    "            # env.render() \n",
    "            \n",
    "            # Explore or Exploit\n",
    "            explore_p = explore_stop + (explore_start - explore_stop)*np.exp(-decay_rate*step) \n",
    "            if explore_p > np.random.rand():\n",
    "                # Make a random action\n",
    "                action = env.action_space.sample()\n",
    "            else:\n",
    "                # Get action from DQN (the inference mode)\n",
    "                feed_dict = {model.states: state.reshape((1, *state.shape))}\n",
    "                # actions_logits = sess.run(model.actions_logits, feed_dict)\n",
    "                model_actions_logits = generator(action_size=action_size, hidden_size=hidden_size, \n",
    "                                                 is_bn_training=False, reuse=True, states=model.states)\n",
    "                actions_logits = sess.run(model_actions_logits, feed_dict)\n",
    "                action = np.argmax(actions_logits)\n",
    "            \n",
    "            # Take action, get new state and reward\n",
    "            next_state, reward, done, _ = env.step(action)\n",
    "    \n",
    "            # Cumulative reward\n",
    "            total_reward += reward\n",
    "            \n",
    "            # Episode/epoch training is done/failed!\n",
    "            if done:\n",
    "                # the episode ends so no next state\n",
    "                next_state = np.zeros(state.shape)\n",
    "                t = max_steps\n",
    "                \n",
    "                print('Episode: {}'.format(ep),\n",
    "                      'Total reward: {}'.format(total_reward),\n",
    "                      'Training loss: {:.4f}'.format(loss),\n",
    "                      'Explore P: {:.4f}'.format(explore_p))\n",
    "                \n",
    "                # total rewards and losses for plotting\n",
    "                rewards_list.append((ep, total_reward))\n",
    "                loss_list.append((ep, loss))\n",
    "                \n",
    "                # Add experience to memory\n",
    "                memory.add((state, action, reward, next_state))\n",
    "                \n",
    "                # Start new episode\n",
    "                env.reset()\n",
    "                \n",
    "                # Take one random step to get the pole and cart moving\n",
    "                state, reward, done, _ = env.step(env.action_space.sample())\n",
    "\n",
    "            else:\n",
    "                # Add experience to memory\n",
    "                memory.add((state, action, reward, next_state))\n",
    "                state = next_state\n",
    "                t += 1\n",
    "            \n",
    "            # Sample mini-batch from memory\n",
    "            batch = memory.sample(batch_size)\n",
    "            states = np.array([each[0] for each in batch])\n",
    "            actions = np.array([each[1] for each in batch])\n",
    "            rewards = np.array([each[2] for each in batch])\n",
    "            next_states = np.array([each[3] for each in batch])\n",
    "            \n",
    "            # Model in the inference mode\n",
    "            feed_dict={model.states: next_states}\n",
    "            # next_actions_logits = sess.run(model.actions_logits, feed_dict)\n",
    "            model_next_actions_logits = generator(action_size=action_size, hidden_size=hidden_size, \n",
    "                                             is_bn_training=False, reuse=True, states=model.states)\n",
    "            next_actions_logits = sess.run(model_next_actions_logits, feed_dict)\n",
    "\n",
    "            # Set target_Qs to 0 for states where episode ends\n",
    "            episode_ends = (next_states == np.zeros(states[0].shape)).all(axis=1)\n",
    "            next_actions_logits[episode_ends] = (0, 0)\n",
    "\n",
    "            # Bellman equation\n",
    "            targetQs = rewards + (gamma * np.max(next_actions_logits, axis=1))\n",
    "\n",
    "            # Updating the model (the training mode)\n",
    "            loss, _ = sess.run([model.loss, model.opt],\n",
    "                                feed_dict={model.states: states,\n",
    "                                           model.targetQs: targetQs,\n",
    "                                           model.actions: actions})\n",
    "            \n",
    "            #             # Printing each step before episode is done.\n",
    "            #             print('Env/Rob Step: {}'.format(step),\n",
    "            #                   'Total reward: {}'.format(total_reward),\n",
    "            #                   'Each reward: {}'.format(reward),\n",
    "            #                   'Average reward: {}'.format(np.mean(rewards)),\n",
    "            #                   'Training loss: {:.4f}'.format(loss),\n",
    "            #                   'Explore P: {:.4f}'.format(explore_p))\n",
    "\n",
    "    # Save the trained model \n",
    "    saver.save(sess, \"checkpoints/DQN-cartpole.ckpt\")"
   ]
  },
  {
   "cell_type": "markdown",
   "metadata": {},
   "source": [
    "## Visualizing training\n",
    "\n",
    "Below I'll plot the total rewards for each episode. I'm plotting the rolling average too, in blue."
   ]
  },
  {
   "cell_type": "code",
   "execution_count": null,
   "metadata": {},
   "outputs": [],
   "source": [
    "%matplotlib inline\n",
    "import matplotlib.pyplot as plt\n",
    "\n",
    "def running_mean(x, N):\n",
    "    cumsum = np.cumsum(np.insert(x, 0, 0)) \n",
    "    return (cumsum[N:] - cumsum[:-N]) / N "
   ]
  },
  {
   "cell_type": "code",
   "execution_count": null,
   "metadata": {},
   "outputs": [],
   "source": [
    "eps, rews = np.array(rewards_list).T\n",
    "smoothed_rews = running_mean(rews, 10)\n",
    "plt.plot(eps[-len(smoothed_rews):], smoothed_rews)\n",
    "plt.plot(eps, rews, color='grey', alpha=0.3)\n",
    "plt.xlabel('Episode')\n",
    "plt.ylabel('Total Reward')"
   ]
  },
  {
   "cell_type": "code",
   "execution_count": null,
   "metadata": {},
   "outputs": [],
   "source": [
    "eps, loss = np.array(loss_list).T\n",
    "smoothed_loss = running_mean(loss, 10)\n",
    "plt.plot(eps[-len(smoothed_loss):], smoothed_loss)\n",
    "plt.plot(eps, loss, color='grey', alpha=0.3)\n",
    "plt.xlabel('Episode')\n",
    "plt.ylabel('Training Loss')"
   ]
  },
  {
   "cell_type": "markdown",
   "metadata": {},
   "source": [
    "## Testing\n",
    "\n",
    "Let's checkout how our trained agent plays the game."
   ]
  },
  {
   "cell_type": "code",
   "execution_count": 19,
   "metadata": {},
   "outputs": [
    {
     "name": "stdout",
     "output_type": "stream",
     "text": [
      "INFO:tensorflow:Restoring parameters from checkpoints/DQN-cartpole.ckpt\n"
     ]
    }
   ],
   "source": [
    "test_episodes = 10\n",
    "test_max_steps = 10000000\n",
    "env.reset()\n",
    "with tf.Session() as sess:\n",
    "    #saver.restore(sess, tf.train.latest_checkpoint('checkpoints'))\n",
    "    # Restore/load the trained model \n",
    "    saver.restore(sess, \"checkpoints/DQN-cartpole.ckpt\")\n",
    "    \n",
    "    # Training episodes/ epochs\n",
    "    for ep in range(test_episodes):\n",
    "        \n",
    "        # Env/Rob steps for minibatches/batches training\n",
    "        t = 0\n",
    "        while t < test_max_steps:\n",
    "            \n",
    "            # render the graphics\n",
    "            env.render() \n",
    "            \n",
    "            # Get action from DQN\n",
    "            feed_dict = {model.states: state.reshape((1, *state.shape))}\n",
    "            actions_logits = sess.run(model.actions_logits, feed_dict)\n",
    "            action = np.argmax(actions_logits)\n",
    "            \n",
    "            # Take action, get new state and reward\n",
    "            next_state, reward, done, _ = env.step(action)\n",
    "            \n",
    "            # If episode is done/failed;\n",
    "            if done:\n",
    "                t = test_max_steps\n",
    "                env.reset()\n",
    "                # Take one random step to get the pole and cart moving\n",
    "                state, reward, done, _ = env.step(env.action_space.sample())\n",
    "\n",
    "            else:\n",
    "                state = next_state\n",
    "                t += 1\n",
    "\n",
    "# Closing the simulated env\n",
    "env.close()"
   ]
  },
  {
   "cell_type": "markdown",
   "metadata": {},
   "source": [
    "## Extending this\n",
    "\n",
    "So, Cart-Pole is a pretty simple game. However, the same model can be used to train an agent to play something much more complicated like Pong or Space Invaders. Instead of a state like we're using here though, you'd want to use convolutional layers to get the state from the screen images.\n",
    "\n",
    "![Deep Q-Learning Atari](assets/atari-network.png)\n",
    "\n",
    "I'll leave it as a challenge for you to use deep Q-learning to train an agent to play Atari games. Here's the original paper which will get you started: http://www.davidqiu.com:8888/research/nature14236.pdf."
   ]
  }
 ],
 "metadata": {
  "kernelspec": {
   "display_name": "Python 3",
   "language": "python",
   "name": "python3"
  },
  "language_info": {
   "codemirror_mode": {
    "name": "ipython",
    "version": 3
   },
   "file_extension": ".py",
   "mimetype": "text/x-python",
   "name": "python",
   "nbconvert_exporter": "python",
   "pygments_lexer": "ipython3",
   "version": "3.6.5"
  }
 },
 "nbformat": 4,
 "nbformat_minor": 2
}
