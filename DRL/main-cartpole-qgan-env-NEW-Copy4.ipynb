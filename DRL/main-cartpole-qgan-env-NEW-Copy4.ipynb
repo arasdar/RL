{
 "cells": [
  {
   "cell_type": "code",
   "execution_count": 1,
   "metadata": {},
   "outputs": [
    {
     "name": "stdout",
     "output_type": "stream",
     "text": [
      "TensorFlow Version: 1.7.1\n",
      "Default GPU Device: \n"
     ]
    }
   ],
   "source": [
    "import tensorflow as tf\n",
    "print('TensorFlow Version: {}'.format(tf.__version__))\n",
    "print('Default GPU Device: {}'.format(tf.test.gpu_device_name()))"
   ]
  },
  {
   "cell_type": "markdown",
   "metadata": {},
   "source": [
    "##### >**Note:** Make sure you have OpenAI Gym cloned. Then run this command `pip install -e gym/[all]`."
   ]
  },
  {
   "cell_type": "code",
   "execution_count": 2,
   "metadata": {},
   "outputs": [],
   "source": [
    "import numpy as np\n",
    "import gym\n",
    "env = gym.make('CartPole-v0')\n",
    "env = gym.make('CartPole-v1')"
   ]
  },
  {
   "cell_type": "code",
   "execution_count": 3,
   "metadata": {},
   "outputs": [],
   "source": [
    "def model_input(state_size):\n",
    "    #states = tf.placeholder(tf.float32, [None, *state_size], name='states')\n",
    "    states = tf.placeholder(tf.float32, [None, state_size], name='states')\n",
    "    actions = tf.placeholder(tf.int32, [None], name='actions')\n",
    "    next_states = tf.placeholder(tf.float32, [None, state_size], name='next_states')\n",
    "    rewards = tf.placeholder(tf.float32, [None], name='rewards')\n",
    "    dones = tf.placeholder(tf.float32, [None], name='dones')\n",
    "    rates = tf.placeholder(tf.float32, [None], name='rates') # success rate\n",
    "    return states, actions, next_states, rewards, dones, rates"
   ]
  },
  {
   "cell_type": "code",
   "execution_count": 4,
   "metadata": {},
   "outputs": [],
   "source": [
    "def Act(states, action_size, hidden_size, reuse=False, alpha=0.1, training=False):\n",
    "    with tf.variable_scope('Act', reuse=reuse):\n",
    "        # First fully connected layer\n",
    "        h1 = tf.layers.dense(inputs=states, units=hidden_size)\n",
    "        bn1 = tf.layers.batch_normalization(h1, training=training)        \n",
    "        nl1 = tf.maximum(alpha * bn1, bn1)\n",
    "        \n",
    "        # Second fully connected layer\n",
    "        h2 = tf.layers.dense(inputs=nl1, units=hidden_size)\n",
    "        bn2 = tf.layers.batch_normalization(h2, training=training)        \n",
    "        nl2 = tf.maximum(alpha * bn2, bn2)\n",
    "        \n",
    "        # Output layer\n",
    "        logits = tf.layers.dense(inputs=nl2, units=action_size)        \n",
    "        return logits"
   ]
  },
  {
   "cell_type": "code",
   "execution_count": 5,
   "metadata": {},
   "outputs": [],
   "source": [
    "def Env(states, actions, state_size, action_size, hidden_size, reuse=False, alpha=0.1, training=False):\n",
    "    with tf.variable_scope('Env', reuse=reuse):\n",
    "        # First fully connected layer\n",
    "        h1 = tf.layers.dense(inputs=states, units=action_size)\n",
    "        bn1 = tf.layers.batch_normalization(h1, training=training)        \n",
    "        nl1 = tf.maximum(alpha * bn1, bn1)\n",
    "        \n",
    "        # Second fully connected layer\n",
    "        nl1_fused = tf.concat(axis=1, values=[nl1, actions])\n",
    "        h2 = tf.layers.dense(inputs=nl1_fused, units=hidden_size)\n",
    "        bn2 = tf.layers.batch_normalization(h2, training=training)        \n",
    "        nl2 = tf.maximum(alpha * bn2, bn2)\n",
    "                \n",
    "        # Output layer\n",
    "        states_logits = tf.layers.dense(inputs=nl2, units=state_size, trainable=False)\n",
    "        Qlogits = tf.layers.dense(inputs=nl2, units=1, trainable=False)\n",
    "        return states_logits, Qlogits"
   ]
  },
  {
   "cell_type": "code",
   "execution_count": 6,
   "metadata": {},
   "outputs": [],
   "source": [
    "def model_loss(state_size, action_size, hidden_size, gamma,\n",
    "               states, actions, next_states, rewards, dones, rates):\n",
    "    ################################################ a = act(s)\n",
    "    actions_logits = Act(states=states, hidden_size=hidden_size, action_size=action_size)\n",
    "    actions_labels = tf.one_hot(indices=actions, depth=action_size, dtype=actions_logits.dtype)\n",
    "    aloss = tf.reduce_mean(tf.nn.softmax_cross_entropy_with_logits_v2(logits=actions_logits, \n",
    "                                                                      labels=actions_labels))\n",
    "    ################################################ s', r = env(s, a)\n",
    "    ################################################ s', Q = env(s, a)\n",
    "    ################################################ ~s', ~Q = env(s, ~a)\n",
    "    e_next_states_logits, eQs = Env(actions=actions_labels, states=states, hidden_size=hidden_size, \n",
    "                                    action_size=action_size, state_size=state_size)\n",
    "    a_next_states_logits, aQs = Env(actions=actions_logits, states=states, hidden_size=hidden_size, \n",
    "                                    action_size=action_size, state_size=state_size, reuse=True)\n",
    "    next_states_labels = tf.nn.sigmoid(next_states)\n",
    "    eloss = tf.reduce_mean(tf.nn.sigmoid_cross_entropy_with_logits(logits=e_next_states_logits, \n",
    "                                                                   labels=next_states_labels)) # real loss\n",
    "    eloss += -tf.reduce_mean(tf.nn.sigmoid_cross_entropy_with_logits(logits=a_next_states_logits, \n",
    "                                                                     labels=next_states_labels)) # maximize loss\n",
    "    aloss2 = tf.reduce_mean(tf.nn.sigmoid_cross_entropy_with_logits(logits=a_next_states_logits, \n",
    "                                                                    labels=next_states_labels)) # minimize loss\n",
    "    eQs_logits = tf.reshape(eQs, shape=[-1])\n",
    "    aQs_logits = tf.reshape(aQs, shape=[-1])\n",
    "    eloss += tf.reduce_mean(tf.nn.sigmoid_cross_entropy_with_logits(logits=eQs_logits, # GAN\n",
    "                                                                    labels=rates)) # 0-1 real\n",
    "#     eloss += tf.reduce_mean(tf.nn.sigmoid_cross_entropy_with_logits(logits=aQs_logits, # GAN\n",
    "#                                                                     labels=tf.zeros_like(rates))) # min\n",
    "#     aloss2 += tf.reduce_mean(tf.nn.sigmoid_cross_entropy_with_logits(logits=aQs_logits, # GAN\n",
    "#                                                                      labels=tf.ones_like(rates))) # max\n",
    "    #################################################### s'', Q' = ~env(s', ~a')\n",
    "    next_actions_logits = Act(states=next_states, hidden_size=hidden_size, action_size=action_size, reuse=True)\n",
    "    _, aQs2 = Env(actions=next_actions_logits, states=next_states, hidden_size=hidden_size, \n",
    "                  action_size=action_size, state_size=state_size, reuse=True)\n",
    "    aQs2_logits = tf.reshape(aQs2, shape=[-1]) * (1-dones)\n",
    "#     eloss += tf.reduce_mean(tf.nn.sigmoid_cross_entropy_with_logits(logits=aQs2_logits, # GAN\n",
    "#                                                                     labels=tf.zeros_like(rates))) # min\n",
    "#     aloss2 += tf.reduce_mean(tf.nn.sigmoid_cross_entropy_with_logits(logits=aQs2_logits, # GAN\n",
    "#                                                                      labels=tf.ones_like(rates))) # max\n",
    "    eloss += tf.reduce_mean(tf.nn.sigmoid_cross_entropy_with_logits(logits=(aQs_logits+aQs2_logits)/2, # GAN\n",
    "                                                                    labels=tf.zeros_like(rates))) # min\n",
    "    aloss2 += tf.reduce_mean(tf.nn.sigmoid_cross_entropy_with_logits(logits=(aQs_logits+aQs2_logits)/2, # GAN\n",
    "                                                                     labels=tf.ones_like(rates))) # max\n",
    "    ###################################################### Q(s,a)= r + Q'(s',a') # max\n",
    "    ###################################################### ~Q(s,~a)= r # min\n",
    "    ###################################################### ~Q(s,~a)= r + Q'(s',a') # max\n",
    "    targetQs = rewards + (gamma * aQs2_logits)\n",
    "    eloss += tf.reduce_mean(tf.square(eQs_logits - targetQs)) # real\n",
    "    eloss += tf.reduce_mean(tf.square(aQs_logits - rewards)) # minimize Q\n",
    "    aloss2 += tf.reduce_mean(tf.square(aQs_logits - targetQs)) # maximize Q\n",
    "    eloss += tf.reduce_mean(targetQs) # minimize Q\n",
    "    aloss2 += -tf.reduce_mean(targetQs) # maxizmie Q\n",
    "    eloss += tf.reduce_mean(eQs_logits) # minimize Q\n",
    "    aloss2 += -tf.reduce_mean(eQs_logits) # maxizmie Q\n",
    "    return actions_logits, aloss, eloss, aloss2"
   ]
  },
  {
   "cell_type": "code",
   "execution_count": 7,
   "metadata": {},
   "outputs": [],
   "source": [
    "def model_opt(a_loss, e_loss, a_loss2, a_learning_rate, e_learning_rate):\n",
    "    # Get weights and bias to update\n",
    "    t_vars = tf.trainable_variables()\n",
    "    a_vars = [var for var in t_vars if var.name.startswith('Act')]\n",
    "    e_vars = [var for var in t_vars if var.name.startswith('Env')]\n",
    "\n",
    "    # Optimize\n",
    "    with tf.control_dependencies(tf.get_collection(tf.GraphKeys.UPDATE_OPS)): # Required for batchnorm (BN)\n",
    "        a_opt = tf.train.AdamOptimizer(a_learning_rate).minimize(a_loss, var_list=a_vars)\n",
    "        e_opt = tf.train.AdamOptimizer(e_learning_rate).minimize(e_loss, var_list=e_vars)\n",
    "        a_opt2 = tf.train.AdamOptimizer(a_learning_rate).minimize(a_loss2, var_list=a_vars)\n",
    "    return a_opt, e_opt, a_opt2"
   ]
  },
  {
   "cell_type": "code",
   "execution_count": 8,
   "metadata": {},
   "outputs": [],
   "source": [
    "class Model:\n",
    "    def __init__(self, state_size, action_size, hidden_size, a_learning_rate, e_learning_rate, gamma):\n",
    "\n",
    "        # Data of the Model: make the data available inside the framework\n",
    "        self.states, self.actions, self.next_states, self.rewards, self.dones, self.rates = model_input(\n",
    "            state_size=state_size)\n",
    "\n",
    "        # Create the Model: calculating the loss and forwad pass\n",
    "        self.actions_logits, self.a_loss, self.e_loss, self.a_loss2 = model_loss(\n",
    "            state_size=state_size, action_size=action_size, hidden_size=hidden_size, gamma=gamma, # model init\n",
    "            states=self.states, actions=self.actions, next_states=self.next_states, \n",
    "            rewards=self.rewards, dones=self.dones, rates=self.rates) # model input\n",
    "        \n",
    "        # Update the model: backward pass and backprop\n",
    "        self.a_opt, self.e_opt, self.a_opt2 = model_opt(a_loss=self.a_loss, \n",
    "                                                        e_loss=self.e_loss,\n",
    "                                                        a_loss2=self.a_loss2, \n",
    "                                                        a_learning_rate=a_learning_rate,\n",
    "                                                        e_learning_rate=e_learning_rate)"
   ]
  },
  {
   "cell_type": "code",
   "execution_count": 9,
   "metadata": {},
   "outputs": [],
   "source": [
    "from collections import deque\n",
    "class Memory():\n",
    "    def __init__(self, max_size = 1000):\n",
    "        self.buffer = deque(maxlen=max_size) # data batch\n",
    "#     def sample(self, batch_size):\n",
    "#         idx = np.random.choice(np.arange(len(self.buffer)), size=batch_size, replace=False)\n",
    "#         return [self.buffer[ii] for ii in idx]"
   ]
  },
  {
   "cell_type": "markdown",
   "metadata": {},
   "source": [
    "## Hyperparameters\n",
    "\n",
    "One of the more difficult aspects of reinforcememt learning are the large number of hyperparameters. Not only are we tuning the network, but we're tuning the simulation."
   ]
  },
  {
   "cell_type": "code",
   "execution_count": 10,
   "metadata": {},
   "outputs": [
    {
     "data": {
      "text/plain": [
       "(Box(4,), Discrete(2))"
      ]
     },
     "execution_count": 10,
     "metadata": {},
     "output_type": "execute_result"
    }
   ],
   "source": [
    "env.observation_space, env.action_space"
   ]
  },
  {
   "cell_type": "code",
   "execution_count": 11,
   "metadata": {},
   "outputs": [],
   "source": [
    "# Exploration parameters\n",
    "explore_start = 1.0            # exploration probability at start\n",
    "explore_stop = 0.01           # minimum exploration probability \n",
    "decay_rate = 0.0001            # exponential decay rate for exploration prob\n",
    "\n",
    "# Network parameters\n",
    "state_size = 4\n",
    "action_size = 2\n",
    "hidden_size = 4*2             # number of units in each Q-network hidden layer\n",
    "a_learning_rate = 1e-4         # Q-network learning rate\n",
    "e_learning_rate = 1e-4         # Q-network learning rate\n",
    "\n",
    "# Memory parameters\n",
    "memory_size = int(1e5)            # memory capacity\n",
    "batch_size = int(1e3)             # experience mini-batch size\n",
    "gamma=0.99"
   ]
  },
  {
   "cell_type": "code",
   "execution_count": 12,
   "metadata": {},
   "outputs": [],
   "source": [
    "# Reset/init the graph/session\n",
    "graph = tf.reset_default_graph()\n",
    "\n",
    "# Init the model\n",
    "model = Model(action_size=action_size, state_size=state_size, hidden_size=hidden_size, gamma=gamma,\n",
    "              a_learning_rate=a_learning_rate, e_learning_rate=e_learning_rate)\n",
    "\n",
    "# Init the memory\n",
    "memory = Memory(max_size=memory_size)"
   ]
  },
  {
   "cell_type": "code",
   "execution_count": 13,
   "metadata": {},
   "outputs": [],
   "source": [
    "state = env.reset()\n",
    "total_reward = 0\n",
    "num_step = 0\n",
    "for _ in range(memory_size):\n",
    "    action = env.action_space.sample()\n",
    "    next_state, reward, done, _ = env.step(action)\n",
    "    rate = -1\n",
    "    memory.buffer.append([state, action, next_state, reward, float(done), rate])\n",
    "    num_step += 1 # memory incremented\n",
    "    total_reward += reward\n",
    "    state = next_state\n",
    "    if done is True:\n",
    "        rate = total_reward/500\n",
    "        for idx in range(num_step): # episode length\n",
    "            if memory.buffer[-1-idx][-1] == -1:\n",
    "                memory.buffer[-1-idx][-1] = rate\n",
    "        state = env.reset()\n",
    "        total_reward = 0 # reset\n",
    "        num_step = 0 # reset"
   ]
  },
  {
   "cell_type": "markdown",
   "metadata": {},
   "source": [
    "## Training the model\n",
    "\n",
    "Below we'll train our agent. If you want to watch it train, uncomment the `env.render()` line. This is slow because it's rendering the frames slower than the network can train. But, it's cool to watch the agent get better at the game."
   ]
  },
  {
   "cell_type": "code",
   "execution_count": null,
   "metadata": {},
   "outputs": [
    {
     "name": "stdout",
     "output_type": "stream",
     "text": [
      "Episode:0 meanR:16.0000 R:16.0000 rate:0.0320 aloss:0.6842 eloss:5.2008 aloss2:2.0389 exploreP:0.9984\n",
      "Episode:1 meanR:23.0000 R:30.0000 rate:0.0600 aloss:0.6839 eloss:5.1570 aloss2:2.0683 exploreP:0.9955\n",
      "Episode:2 meanR:21.6667 R:19.0000 rate:0.0380 aloss:0.6843 eloss:5.1157 aloss2:2.0405 exploreP:0.9936\n",
      "Episode:3 meanR:26.0000 R:39.0000 rate:0.0780 aloss:0.6847 eloss:5.0930 aloss2:2.0294 exploreP:0.9898\n",
      "Episode:4 meanR:31.6000 R:54.0000 rate:0.1080 aloss:0.6831 eloss:5.0705 aloss2:1.9646 exploreP:0.9845\n",
      "Episode:5 meanR:31.3333 R:30.0000 rate:0.0600 aloss:0.6917 eloss:5.0264 aloss2:1.9748 exploreP:0.9816\n",
      "Episode:6 meanR:28.8571 R:14.0000 rate:0.0280 aloss:0.6845 eloss:4.9872 aloss2:1.9671 exploreP:0.9802\n",
      "Episode:7 meanR:28.0000 R:22.0000 rate:0.0440 aloss:0.6812 eloss:4.9982 aloss2:1.9049 exploreP:0.9781\n",
      "Episode:8 meanR:27.7778 R:26.0000 rate:0.0520 aloss:0.6851 eloss:4.9703 aloss2:1.9317 exploreP:0.9756\n",
      "Episode:9 meanR:27.1000 R:21.0000 rate:0.0420 aloss:0.6872 eloss:4.9386 aloss2:1.8978 exploreP:0.9735\n",
      "Episode:10 meanR:26.0000 R:15.0000 rate:0.0300 aloss:0.6889 eloss:4.9125 aloss2:1.9034 exploreP:0.9721\n",
      "Episode:11 meanR:25.2500 R:17.0000 rate:0.0340 aloss:0.6810 eloss:4.8976 aloss2:1.8921 exploreP:0.9705\n",
      "Episode:12 meanR:26.9231 R:47.0000 rate:0.0940 aloss:0.6865 eloss:4.8883 aloss2:1.8675 exploreP:0.9659\n",
      "Episode:13 meanR:26.7143 R:24.0000 rate:0.0480 aloss:0.6807 eloss:4.8442 aloss2:1.8636 exploreP:0.9637\n",
      "Episode:14 meanR:26.5333 R:24.0000 rate:0.0480 aloss:0.6870 eloss:4.8226 aloss2:1.8206 exploreP:0.9614\n",
      "Episode:15 meanR:25.5625 R:11.0000 rate:0.0220 aloss:0.6871 eloss:4.7946 aloss2:1.8191 exploreP:0.9603\n",
      "Episode:16 meanR:25.6471 R:27.0000 rate:0.0540 aloss:0.7053 eloss:4.8310 aloss2:1.8439 exploreP:0.9578\n",
      "Episode:17 meanR:27.3333 R:56.0000 rate:0.1120 aloss:0.6848 eloss:4.7546 aloss2:1.7996 exploreP:0.9525\n",
      "Episode:18 meanR:26.7895 R:17.0000 rate:0.0340 aloss:0.6806 eloss:4.7244 aloss2:1.7693 exploreP:0.9509\n",
      "Episode:19 meanR:26.3000 R:17.0000 rate:0.0340 aloss:0.6905 eloss:4.7285 aloss2:1.7676 exploreP:0.9493\n",
      "Episode:20 meanR:26.7619 R:36.0000 rate:0.0720 aloss:0.6891 eloss:4.7019 aloss2:1.7892 exploreP:0.9459\n",
      "Episode:21 meanR:26.1364 R:13.0000 rate:0.0260 aloss:0.6907 eloss:4.6685 aloss2:1.7761 exploreP:0.9447\n",
      "Episode:22 meanR:25.6087 R:14.0000 rate:0.0280 aloss:0.6826 eloss:4.6562 aloss2:1.7487 exploreP:0.9434\n",
      "Episode:23 meanR:26.4167 R:45.0000 rate:0.0900 aloss:0.6902 eloss:4.6386 aloss2:1.7673 exploreP:0.9392\n",
      "Episode:24 meanR:26.8400 R:37.0000 rate:0.0740 aloss:0.6874 eloss:4.6233 aloss2:1.7366 exploreP:0.9358\n",
      "Episode:25 meanR:27.8846 R:54.0000 rate:0.1080 aloss:0.7014 eloss:4.6069 aloss2:1.7443 exploreP:0.9308\n",
      "Episode:26 meanR:27.3333 R:13.0000 rate:0.0260 aloss:0.6977 eloss:4.5739 aloss2:1.6670 exploreP:0.9296\n",
      "Episode:27 meanR:27.2143 R:24.0000 rate:0.0480 aloss:0.7044 eloss:4.5670 aloss2:1.7278 exploreP:0.9274\n",
      "Episode:28 meanR:27.1379 R:25.0000 rate:0.0500 aloss:0.6829 eloss:4.5404 aloss2:1.6988 exploreP:0.9251\n",
      "Episode:29 meanR:26.8000 R:17.0000 rate:0.0340 aloss:0.7448 eloss:4.5798 aloss2:1.7237 exploreP:0.9235\n",
      "Episode:30 meanR:26.7097 R:24.0000 rate:0.0480 aloss:0.6905 eloss:4.5257 aloss2:1.6975 exploreP:0.9213\n",
      "Episode:31 meanR:26.8125 R:30.0000 rate:0.0600 aloss:0.7111 eloss:4.5294 aloss2:1.6844 exploreP:0.9186\n",
      "Episode:32 meanR:26.2727 R:9.0000 rate:0.0180 aloss:0.6934 eloss:4.5186 aloss2:1.6310 exploreP:0.9178\n",
      "Episode:33 meanR:26.0588 R:19.0000 rate:0.0380 aloss:0.7027 eloss:4.5013 aloss2:1.6506 exploreP:0.9161\n",
      "Episode:34 meanR:26.2000 R:31.0000 rate:0.0620 aloss:0.7105 eloss:4.4912 aloss2:1.6574 exploreP:0.9133\n",
      "Episode:35 meanR:26.0278 R:20.0000 rate:0.0400 aloss:0.7023 eloss:4.4866 aloss2:1.6585 exploreP:0.9115\n",
      "Episode:36 meanR:25.8649 R:20.0000 rate:0.0400 aloss:0.6962 eloss:4.4741 aloss2:1.6333 exploreP:0.9096\n",
      "Episode:37 meanR:25.7632 R:22.0000 rate:0.0440 aloss:0.6963 eloss:4.4648 aloss2:1.6748 exploreP:0.9077\n",
      "Episode:38 meanR:25.4872 R:15.0000 rate:0.0300 aloss:0.6866 eloss:4.4588 aloss2:1.6199 exploreP:0.9063\n",
      "Episode:39 meanR:25.7500 R:36.0000 rate:0.0720 aloss:0.7094 eloss:4.4470 aloss2:1.6533 exploreP:0.9031\n",
      "Episode:40 meanR:25.7805 R:27.0000 rate:0.0540 aloss:0.7111 eloss:4.4325 aloss2:1.6610 exploreP:0.9007\n",
      "Episode:41 meanR:25.5714 R:17.0000 rate:0.0340 aloss:0.6903 eloss:4.4213 aloss2:1.6259 exploreP:0.8992\n",
      "Episode:42 meanR:25.7209 R:32.0000 rate:0.0640 aloss:0.7048 eloss:4.4204 aloss2:1.6303 exploreP:0.8963\n",
      "Episode:43 meanR:25.5455 R:18.0000 rate:0.0360 aloss:0.7190 eloss:4.4278 aloss2:1.6164 exploreP:0.8947\n",
      "Episode:44 meanR:25.3778 R:18.0000 rate:0.0360 aloss:0.6945 eloss:4.4011 aloss2:1.6160 exploreP:0.8932\n",
      "Episode:45 meanR:25.1957 R:17.0000 rate:0.0340 aloss:0.7129 eloss:4.4180 aloss2:1.5979 exploreP:0.8917\n",
      "Episode:46 meanR:26.1702 R:71.0000 rate:0.1420 aloss:0.7053 eloss:4.3993 aloss2:1.6023 exploreP:0.8854\n",
      "Episode:47 meanR:26.1458 R:25.0000 rate:0.0500 aloss:0.7025 eloss:4.3782 aloss2:1.6114 exploreP:0.8832\n",
      "Episode:48 meanR:25.9796 R:18.0000 rate:0.0360 aloss:0.6867 eloss:4.3608 aloss2:1.6239 exploreP:0.8817\n",
      "Episode:49 meanR:26.0800 R:31.0000 rate:0.0620 aloss:0.7109 eloss:4.3688 aloss2:1.6253 exploreP:0.8790\n",
      "Episode:50 meanR:25.8235 R:13.0000 rate:0.0260 aloss:0.7165 eloss:4.3873 aloss2:1.5556 exploreP:0.8778\n",
      "Episode:51 meanR:25.5577 R:12.0000 rate:0.0240 aloss:0.6954 eloss:4.3839 aloss2:1.5670 exploreP:0.8768\n",
      "Episode:52 meanR:25.5283 R:24.0000 rate:0.0480 aloss:0.7045 eloss:4.3593 aloss2:1.6097 exploreP:0.8747\n",
      "Episode:53 meanR:25.4630 R:22.0000 rate:0.0440 aloss:0.7011 eloss:4.3655 aloss2:1.6106 exploreP:0.8728\n",
      "Episode:54 meanR:25.6727 R:37.0000 rate:0.0740 aloss:0.6950 eloss:4.3523 aloss2:1.6097 exploreP:0.8696\n",
      "Episode:55 meanR:25.4643 R:14.0000 rate:0.0280 aloss:0.7079 eloss:4.3686 aloss2:1.5958 exploreP:0.8684\n",
      "Episode:56 meanR:25.2105 R:11.0000 rate:0.0220 aloss:0.7029 eloss:4.3610 aloss2:1.5401 exploreP:0.8675\n",
      "Episode:57 meanR:24.9483 R:10.0000 rate:0.0200 aloss:0.7721 eloss:4.3730 aloss2:1.5635 exploreP:0.8666\n",
      "Episode:58 meanR:24.8644 R:20.0000 rate:0.0400 aloss:0.6984 eloss:4.3244 aloss2:1.6277 exploreP:0.8649\n",
      "Episode:59 meanR:24.7000 R:15.0000 rate:0.0300 aloss:0.7219 eloss:4.3484 aloss2:1.6260 exploreP:0.8636\n",
      "Episode:60 meanR:24.7377 R:27.0000 rate:0.0540 aloss:0.7180 eloss:4.3393 aloss2:1.6230 exploreP:0.8613\n",
      "Episode:61 meanR:24.6613 R:20.0000 rate:0.0400 aloss:0.7104 eloss:4.3508 aloss2:1.5571 exploreP:0.8596\n",
      "Episode:62 meanR:24.6349 R:23.0000 rate:0.0460 aloss:0.7049 eloss:4.3267 aloss2:1.6319 exploreP:0.8577\n",
      "Episode:63 meanR:24.4688 R:14.0000 rate:0.0280 aloss:0.7148 eloss:4.3230 aloss2:1.6350 exploreP:0.8565\n",
      "Episode:64 meanR:24.4000 R:20.0000 rate:0.0400 aloss:0.7062 eloss:4.3337 aloss2:1.6178 exploreP:0.8548\n",
      "Episode:65 meanR:24.6061 R:38.0000 rate:0.0760 aloss:0.7112 eloss:4.3233 aloss2:1.6240 exploreP:0.8516\n",
      "Episode:66 meanR:24.7313 R:33.0000 rate:0.0660 aloss:0.7064 eloss:4.3397 aloss2:1.5761 exploreP:0.8488\n",
      "Episode:67 meanR:24.8529 R:33.0000 rate:0.0660 aloss:0.7143 eloss:4.3439 aloss2:1.5881 exploreP:0.8461\n",
      "Episode:68 meanR:24.8116 R:22.0000 rate:0.0440 aloss:0.6964 eloss:4.3412 aloss2:1.5705 exploreP:0.8442\n",
      "Episode:69 meanR:24.8571 R:28.0000 rate:0.0560 aloss:0.7117 eloss:4.3242 aloss2:1.6367 exploreP:0.8419\n",
      "Episode:70 meanR:25.0282 R:37.0000 rate:0.0740 aloss:0.7267 eloss:4.3434 aloss2:1.5959 exploreP:0.8388\n",
      "Episode:71 meanR:25.3194 R:46.0000 rate:0.0920 aloss:0.7151 eloss:4.3315 aloss2:1.6244 exploreP:0.8350\n",
      "Episode:72 meanR:25.3151 R:25.0000 rate:0.0500 aloss:0.7268 eloss:4.3196 aloss2:1.6351 exploreP:0.8330\n",
      "Episode:73 meanR:25.1351 R:12.0000 rate:0.0240 aloss:0.7378 eloss:4.3056 aloss2:1.6786 exploreP:0.8320\n",
      "Episode:74 meanR:25.3733 R:43.0000 rate:0.0860 aloss:0.7260 eloss:4.3330 aloss2:1.6106 exploreP:0.8284\n",
      "Episode:75 meanR:25.1974 R:12.0000 rate:0.0240 aloss:0.7312 eloss:4.3240 aloss2:1.6651 exploreP:0.8275\n",
      "Episode:76 meanR:25.1688 R:23.0000 rate:0.0460 aloss:0.7182 eloss:4.3254 aloss2:1.6101 exploreP:0.8256\n",
      "Episode:77 meanR:25.1026 R:20.0000 rate:0.0400 aloss:0.7168 eloss:4.3194 aloss2:1.6424 exploreP:0.8240\n",
      "Episode:78 meanR:26.0633 R:101.0000 rate:0.2020 aloss:0.7162 eloss:4.3262 aloss2:1.6367 exploreP:0.8158\n",
      "Episode:79 meanR:26.9125 R:94.0000 rate:0.1880 aloss:0.7289 eloss:4.3138 aloss2:1.6857 exploreP:0.8082\n"
     ]
    },
    {
     "name": "stdout",
     "output_type": "stream",
     "text": [
      "Episode:80 meanR:26.7778 R:16.0000 rate:0.0320 aloss:0.7336 eloss:4.3179 aloss2:1.6663 exploreP:0.8070\n",
      "Episode:81 meanR:26.6098 R:13.0000 rate:0.0260 aloss:0.7217 eloss:4.2965 aloss2:1.7177 exploreP:0.8059\n",
      "Episode:82 meanR:26.5422 R:21.0000 rate:0.0420 aloss:0.7210 eloss:4.3135 aloss2:1.6869 exploreP:0.8043\n",
      "Episode:83 meanR:26.8095 R:49.0000 rate:0.0980 aloss:0.7343 eloss:4.3103 aloss2:1.7338 exploreP:0.8004\n",
      "Episode:84 meanR:26.7647 R:23.0000 rate:0.0460 aloss:0.7219 eloss:4.3024 aloss2:1.7185 exploreP:0.7986\n",
      "Episode:85 meanR:26.6977 R:21.0000 rate:0.0420 aloss:0.7239 eloss:4.3102 aloss2:1.6927 exploreP:0.7969\n",
      "Episode:86 meanR:26.5402 R:13.0000 rate:0.0260 aloss:0.7393 eloss:4.3037 aloss2:1.7491 exploreP:0.7959\n"
     ]
    }
   ],
   "source": [
    "# Save/load the model and save for plotting\n",
    "saver = tf.train.Saver()\n",
    "episode_rewards_list, rewards_list = [], []\n",
    "aloss_list, eloss_list, aloss2_list = [], [], []\n",
    "\n",
    "# TF session for training\n",
    "with tf.Session(graph=graph) as sess:\n",
    "    sess.run(tf.global_variables_initializer())\n",
    "    #saver.restore(sess, 'checkpoints/model.ckpt')    \n",
    "    #saver.restore(sess, tf.train.latest_checkpoint('checkpoints'))\n",
    "    total_step = 0 # Explore or exploit parameter\n",
    "    episode_reward = deque(maxlen=100) # 100 episodes for running average/running mean/window\n",
    "\n",
    "    # Training episodes/epochs\n",
    "    for ep in range(11111):\n",
    "        aloss_batch, eloss_batch, aloss2_batch = [], [], []\n",
    "        total_reward = 0\n",
    "        state = env.reset()\n",
    "        num_step = 0\n",
    "        rate = -1\n",
    "\n",
    "        # Training steps/batches\n",
    "        while True:\n",
    "            # Explore (env) or Exploit (model)\n",
    "            total_step += 1\n",
    "            explore_p = explore_stop + (explore_start - explore_stop) * np.exp(-decay_rate * total_step) \n",
    "            if explore_p > np.random.rand():\n",
    "                action = env.action_space.sample()\n",
    "            else:\n",
    "                action_logits = sess.run(model.actions_logits, feed_dict={model.states: state.reshape([1, -1])})\n",
    "                action = np.argmax(action_logits)\n",
    "            next_state, reward, done, _ = env.step(action)\n",
    "            memory.buffer.append([state, action, next_state, reward, float(done), rate])\n",
    "            num_step += 1 # momory added\n",
    "            total_reward += reward\n",
    "            state = next_state\n",
    "            \n",
    "            # Training with the maxrated minibatch\n",
    "            batch = memory.buffer\n",
    "            #for idx in range(memory_size// batch_size):\n",
    "            while True:\n",
    "                idx = np.random.choice(np.arange(memory_size// batch_size))\n",
    "                states = np.array([each[0] for each in batch])[idx*batch_size:(idx+1)*batch_size]\n",
    "                actions = np.array([each[1] for each in batch])[idx*batch_size:(idx+1)*batch_size]\n",
    "                next_states = np.array([each[2] for each in batch])[idx*batch_size:(idx+1)*batch_size]\n",
    "                rewards = np.array([each[3] for each in batch])[idx*batch_size:(idx+1)*batch_size]\n",
    "                dones = np.array([each[4] for each in batch])[idx*batch_size:(idx+1)*batch_size]\n",
    "                rates = np.array([each[5] for each in batch])[idx*batch_size:(idx+1)*batch_size]\n",
    "                states = states[rates >= np.max(rates)]\n",
    "                actions = actions[rates >= np.max(rates)]\n",
    "                next_states = next_states[rates >= np.max(rates)]\n",
    "                rewards = rewards[rates >= np.max(rates)]\n",
    "                dones = dones[rates >= np.max(rates)]\n",
    "                rates = rates[rates >= np.max(rates)]\n",
    "                if np.count_nonzero(dones) > 0 and len(dones) > 1 and np.max(rates) > 0:\n",
    "                    break\n",
    "            aloss, _ = sess.run([model.a_loss, model.a_opt],\n",
    "                                  feed_dict = {model.states: states, \n",
    "                                               model.actions: actions,\n",
    "                                               model.next_states: next_states,\n",
    "                                               model.rewards: rewards,\n",
    "                                               model.dones: dones,\n",
    "                                               model.rates: rates})\n",
    "            eloss, _ = sess.run([model.e_loss, model.e_opt],\n",
    "                                  feed_dict = {model.states: states, \n",
    "                                               model.actions: actions,\n",
    "                                               model.next_states: next_states,\n",
    "                                               model.rewards: rewards,\n",
    "                                               model.dones: dones,\n",
    "                                               model.rates: rates})\n",
    "            aloss2, _= sess.run([model.a_loss2, model.a_opt2], \n",
    "                                 feed_dict = {model.states: states, \n",
    "                                              model.actions: actions,\n",
    "                                              model.next_states: next_states,\n",
    "                                              model.rewards: rewards,\n",
    "                                              model.dones: dones,\n",
    "                                              model.rates: rates})\n",
    "            # print(len(dones), np.count_nonzero(dones), np.max(rates))\n",
    "            aloss_batch.append(aloss)\n",
    "            eloss_batch.append(eloss)\n",
    "            aloss2_batch.append(aloss2)\n",
    "            if done is True:\n",
    "                break\n",
    "                \n",
    "        # Rating the latest played episode\n",
    "        rate = total_reward/500 # update rate at the end/ when episode is done\n",
    "        for idx in range(num_step): # episode length\n",
    "            if memory.buffer[-1-idx][-1] == -1: # double-check the landmark/marked indexes\n",
    "                memory.buffer[-1-idx][-1] = rate # rate the trajectory/data\n",
    "\n",
    "        # Print out\n",
    "        episode_reward.append(total_reward)\n",
    "        print('Episode:{}'.format(ep),\n",
    "              'meanR:{:.4f}'.format(np.mean(episode_reward)),\n",
    "              'R:{:.4f}'.format(total_reward),\n",
    "              'rate:{:.4f}'.format(rate),\n",
    "              'aloss:{:.4f}'.format(np.mean(aloss_batch)),\n",
    "              'eloss:{:.4f}'.format(np.mean(eloss_batch)),\n",
    "              'aloss2:{:.4f}'.format(np.mean(aloss2_batch)),\n",
    "              'exploreP:{:.4f}'.format(explore_p))\n",
    "\n",
    "        # Ploting out\n",
    "        episode_rewards_list.append([ep, np.mean(episode_reward)])\n",
    "        rewards_list.append([ep, total_reward])\n",
    "        aloss_list.append([ep, np.mean(aloss_batch)])\n",
    "        eloss_list.append([ep, np.mean(eloss_batch)])\n",
    "        aloss2_list.append([ep, np.mean(aloss2_batch)])\n",
    "        \n",
    "        # Break episode/epoch loop\n",
    "        ## Option 1: Solve the First Version\n",
    "        #The task is episodic, and in order to solve the environment, \n",
    "        #your agent must get an average score of +30 over 100 consecutive episodes.\n",
    "        if np.mean(episode_reward) >= 500:\n",
    "            break\n",
    "            \n",
    "    # At the end of all training episodes/epochs\n",
    "    saver.save(sess, 'checkpoints/model.ckpt')"
   ]
  },
  {
   "cell_type": "markdown",
   "metadata": {},
   "source": [
    "# Visualizing training\n",
    "\n",
    "Below I'll plot the total rewards for each episode. I'm plotting the rolling average too, in blue."
   ]
  },
  {
   "cell_type": "code",
   "execution_count": null,
   "metadata": {},
   "outputs": [],
   "source": [
    "import matplotlib.pyplot as plt\n",
    "%matplotlib inline\n",
    "\n",
    "def running_mean(x, N):\n",
    "    cumsum = np.cumsum(np.insert(x, 0, 0)) \n",
    "    return (cumsum[N:] - cumsum[:-N]) / N "
   ]
  },
  {
   "cell_type": "code",
   "execution_count": null,
   "metadata": {},
   "outputs": [],
   "source": [
    "eps, arr = np.array(episode_rewards_list).T\n",
    "smoothed_arr = running_mean(arr, 10)\n",
    "plt.plot(eps[-len(smoothed_arr):], smoothed_arr)\n",
    "plt.plot(eps, arr, color='grey', alpha=0.3)\n",
    "plt.xlabel('Episode')\n",
    "plt.ylabel('Total rewards')"
   ]
  },
  {
   "cell_type": "code",
   "execution_count": null,
   "metadata": {},
   "outputs": [],
   "source": [
    "eps, arr = np.array(rewards_list).T\n",
    "smoothed_arr = running_mean(arr, 10)\n",
    "plt.plot(eps[-len(smoothed_arr):], smoothed_arr)\n",
    "plt.plot(eps, arr, color='grey', alpha=0.3)\n",
    "plt.xlabel('Episode')\n",
    "plt.ylabel('Total rewards')"
   ]
  },
  {
   "cell_type": "code",
   "execution_count": null,
   "metadata": {},
   "outputs": [],
   "source": [
    "eps, arr = np.array(aloss_list).T\n",
    "smoothed_arr = running_mean(arr, 10)\n",
    "plt.plot(eps[-len(smoothed_arr):], smoothed_arr)\n",
    "plt.plot(eps, arr, color='grey', alpha=0.3)\n",
    "plt.xlabel('Episode')\n",
    "plt.ylabel('Act losses')"
   ]
  },
  {
   "cell_type": "code",
   "execution_count": null,
   "metadata": {},
   "outputs": [],
   "source": [
    "eps, arr = np.array(eloss_list).T\n",
    "smoothed_arr = running_mean(arr, 10)\n",
    "plt.plot(eps[-len(smoothed_arr):], smoothed_arr)\n",
    "plt.plot(eps, arr, color='grey', alpha=0.3)\n",
    "plt.xlabel('Episode')\n",
    "plt.ylabel('Env losses')"
   ]
  },
  {
   "cell_type": "code",
   "execution_count": null,
   "metadata": {},
   "outputs": [],
   "source": [
    "eps, arr = np.array(aloss2_list).T\n",
    "smoothed_arr = running_mean(arr, 10)\n",
    "plt.plot(eps[-len(smoothed_arr):], smoothed_arr)\n",
    "plt.plot(eps, arr, color='grey', alpha=0.3)\n",
    "plt.xlabel('Episode')\n",
    "plt.ylabel('Act losses 2')"
   ]
  },
  {
   "cell_type": "markdown",
   "metadata": {},
   "source": [
    "## Testing\n",
    "\n",
    "Let's checkout how our trained agent plays the game."
   ]
  },
  {
   "cell_type": "code",
   "execution_count": 24,
   "metadata": {},
   "outputs": [
    {
     "name": "stdout",
     "output_type": "stream",
     "text": [
      "INFO:tensorflow:Restoring parameters from checkpoints/model.ckpt\n",
      "total_reward: 500.0\n",
      "total_reward: 500.0\n",
      "total_reward: 500.0\n",
      "total_reward: 500.0\n",
      "total_reward: 500.0\n",
      "total_reward: 500.0\n",
      "total_reward: 500.0\n",
      "total_reward: 500.0\n",
      "total_reward: 500.0\n",
      "total_reward: 500.0\n"
     ]
    }
   ],
   "source": [
    "import gym\n",
    "env = gym.make('CartPole-v0')\n",
    "env = gym.make('CartPole-v1')\n",
    "\n",
    "with tf.Session() as sess:\n",
    "    sess.run(tf.global_variables_initializer())\n",
    "    saver.restore(sess, 'checkpoints/model.ckpt')    \n",
    "    #saver.restore(sess, tf.train.latest_checkpoint('checkpoints'))\n",
    "    \n",
    "    # Episodes/epochs\n",
    "    for _ in range(10):\n",
    "        state = env.reset()\n",
    "        total_reward = 0\n",
    "\n",
    "        # Steps/batches\n",
    "        while True:\n",
    "            env.render()\n",
    "            action_logits = sess.run(model.actions_logits, feed_dict={model.states: state.reshape([1, -1])})\n",
    "            action = np.argmax(action_logits)\n",
    "            state, reward, done, _ = env.step(action)\n",
    "            total_reward += reward\n",
    "            if done:\n",
    "                print('total_reward: {}'.format(total_reward))\n",
    "                break\n",
    "                \n",
    "env.close()"
   ]
  },
  {
   "cell_type": "code",
   "execution_count": null,
   "metadata": {},
   "outputs": [],
   "source": []
  }
 ],
 "metadata": {
  "kernelspec": {
   "display_name": "Python 3",
   "language": "python",
   "name": "python3"
  },
  "language_info": {
   "codemirror_mode": {
    "name": "ipython",
    "version": 3
   },
   "file_extension": ".py",
   "mimetype": "text/x-python",
   "name": "python",
   "nbconvert_exporter": "python",
   "pygments_lexer": "ipython3",
   "version": "3.6.6"
  }
 },
 "nbformat": 4,
 "nbformat_minor": 2
}
