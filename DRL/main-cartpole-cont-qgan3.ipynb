{
 "cells": [
  {
   "cell_type": "code",
   "execution_count": 1,
   "metadata": {},
   "outputs": [
    {
     "name": "stdout",
     "output_type": "stream",
     "text": [
      "TensorFlow Version: 1.7.1\n",
      "Default GPU Device: \n"
     ]
    }
   ],
   "source": [
    "# In this one we should define and detect GPUs for tensorflow\n",
    "# GPUs or CPU\n",
    "import tensorflow as tf\n",
    "\n",
    "# Check TensorFlow Version\n",
    "print('TensorFlow Version: {}'.format(tf.__version__))\n",
    "\n",
    "# Check for a GPU\n",
    "print('Default GPU Device: {}'.format(tf.test.gpu_device_name()))"
   ]
  },
  {
   "cell_type": "markdown",
   "metadata": {},
   "source": [
    "##### >**Note:** Make sure you have OpenAI Gym cloned. Then run this command `pip install -e gym/[all]`."
   ]
  },
  {
   "cell_type": "code",
   "execution_count": 2,
   "metadata": {},
   "outputs": [],
   "source": [
    "import numpy as np\n",
    "import gym\n",
    "env = gym.make('CartPole-v0')\n",
    "env = gym.make('CartPole-v1')"
   ]
  },
  {
   "cell_type": "code",
   "execution_count": 3,
   "metadata": {},
   "outputs": [],
   "source": [
    "def model_input(state_size):\n",
    "    #states = tf.placeholder(tf.float32, [None, *state_size], name='states')\n",
    "    states = tf.placeholder(tf.float32, [None, state_size], name='states')\n",
    "    actions = tf.placeholder(tf.int32, [None], name='actions')\n",
    "    targetQs = tf.placeholder(tf.float32, [None], name='targetQs')\n",
    "    rates = tf.placeholder(tf.float32, [None], name='rates')\n",
    "    return states, actions, targetQs, rates"
   ]
  },
  {
   "cell_type": "code",
   "execution_count": 4,
   "metadata": {},
   "outputs": [],
   "source": [
    "# Generator/Controller: Generating/prediting the actions\n",
    "def generator(states, action_size, hidden_size, reuse=False, alpha=0.1, training=False):\n",
    "    with tf.variable_scope('generator', reuse=reuse):\n",
    "        # First fully connected layer\n",
    "        h1 = tf.layers.dense(inputs=states, units=hidden_size)\n",
    "        bn1 = tf.layers.batch_normalization(h1, training=training)        \n",
    "        nl1 = tf.maximum(alpha * bn1, bn1)\n",
    "        \n",
    "        # Second fully connected layer\n",
    "        h2 = tf.layers.dense(inputs=nl1, units=hidden_size)\n",
    "        bn2 = tf.layers.batch_normalization(h2, training=training)        \n",
    "        nl2 = tf.maximum(alpha * bn2, bn2)\n",
    "        \n",
    "        # Output layer\n",
    "        logits = tf.layers.dense(inputs=nl2, units=action_size)        \n",
    "        #predictions = tf.nn.softmax(logits)\n",
    "\n",
    "        # return actions logits\n",
    "        return logits"
   ]
  },
  {
   "cell_type": "code",
   "execution_count": 5,
   "metadata": {},
   "outputs": [],
   "source": [
    "def discriminator(states, actions, hidden_size, reuse=False, alpha=0.1, training=False):\n",
    "    with tf.variable_scope('discriminator', reuse=reuse):\n",
    "        # First fully connected layer\n",
    "        h1 = tf.layers.dense(inputs=states, units=action_size)\n",
    "        bn1 = tf.layers.batch_normalization(h1, training=training)        \n",
    "        nl1 = tf.maximum(alpha * bn1, bn1)\n",
    "        \n",
    "        # Second fully connected layer\n",
    "        nl1_fused = tf.concat(axis=1, values=[nl1, actions])\n",
    "        h2 = tf.layers.dense(inputs=nl1_fused, units=hidden_size)\n",
    "        bn2 = tf.layers.batch_normalization(h2, training=training)        \n",
    "        nl2 = tf.maximum(alpha * bn2, bn2)\n",
    "                \n",
    "        # Output layer\n",
    "        logits = tf.layers.dense(inputs=nl2, units=1)        \n",
    "        #predictions = tf.nn.softmax(logits)\n",
    "\n",
    "        # return rewards logits\n",
    "        return logits"
   ]
  },
  {
   "cell_type": "code",
   "execution_count": 7,
   "metadata": {},
   "outputs": [],
   "source": [
    "def model_loss(action_size, hidden_size, states, actions, targetQs, rates):\n",
    "    actions_logits = generator(states=states, hidden_size=hidden_size, action_size=action_size)\n",
    "    gQs = discriminator(actions=actions_logits, hidden_size=hidden_size, states=states)\n",
    "    rates = tf.reshape(rates, shape=[-1, 1])\n",
    "    gloss = tf.reduce_mean(tf.nn.sigmoid_cross_entropy_with_logits(logits=gQs, # GAN\n",
    "                                                                   labels=rates)) # 0-1\n",
    "    targetQs = tf.reshape(targetQs, shape=[-1, 1])\n",
    "    gloss += tf.reduce_mean(tf.nn.sigmoid_cross_entropy_with_logits(logits=gQs, # GAN\n",
    "                                                                    labels=tf.nn.sigmoid(targetQs))) # 0-1\n",
    "    actions_labels = tf.one_hot(indices=actions, depth=action_size, dtype=actions_logits.dtype)\n",
    "    dQs = discriminator(actions=actions_labels, hidden_size=hidden_size, states=states, reuse=True)\n",
    "    dloss = tf.reduce_mean(tf.nn.sigmoid_cross_entropy_with_logits(logits=dQs, # GAN\n",
    "                                                                   labels=rates)) # 0-1\n",
    "    dloss += tf.reduce_mean(tf.nn.sigmoid_cross_entropy_with_logits(logits=dQs, # GAN\n",
    "                                                                    labels=tf.nn.sigmoid(targetQs))) # 0-1\n",
    "    actions_pred = tf.argmax(input=actions_logits, axis=1, output_type=actions.dtype)\n",
    "    mask_notequal = tf.not_equal(x=actions_pred, y=actions)\n",
    "    gQs_notequal = tf.boolean_mask(mask=mask_notequal, tensor=gQs)\n",
    "    dloss += tf.reduce_mean(tf.nn.sigmoid_cross_entropy_with_logits(logits=gQs_notequal, # GAN\n",
    "                                                                    labels=tf.zeros_like(gQs_notequal))) # 0-1\n",
    "    mask_equal = tf.equal(x=actions_pred, y=actions)\n",
    "    gQs_equal = tf.boolean_mask(mask=mask_equal, tensor=gQs)\n",
    "    #     rates_equal = tf.boolean_mask(mask=mask_equal, tensor=rates)\n",
    "    #     dloss += tf.reduce_mean(tf.nn.sigmoid_cross_entropy_with_logits(logits=gQs_equal, # GAN\n",
    "    #                                                                     labels=rates_equal)) # 0-1\n",
    "    #     targetQs_equal = tf.boolean_mask(mask=mask_equal, tensor=targetQs)\n",
    "    #     dloss += tf.reduce_mean(tf.nn.sigmoid_cross_entropy_with_logits(logits=gQs_equal, # GAN\n",
    "    #                                                                     labels=tf.nn.sigmoid(targetQs_equal))) # 0-1\n",
    "    glossQ = tf.reduce_mean(tf.square(gQs - targetQs)) # DQN\n",
    "    dlossQ = tf.reduce_mean(tf.square(dQs - targetQs)) # DQN\n",
    "    return actions_logits, gQs, gloss, dloss, glossQ, dlossQ, gQs_notequal, gQs_equal"
   ]
  },
  {
   "cell_type": "code",
   "execution_count": 8,
   "metadata": {},
   "outputs": [],
   "source": [
    "# Optimizating/training/learning G & D\n",
    "def model_opt(g_loss, d_loss, g_learning_rate, d_learning_rate):\n",
    "    # Get weights and bias to update\n",
    "    t_vars = tf.trainable_variables()\n",
    "    g_vars = [var for var in t_vars if var.name.startswith('generator')]\n",
    "    d_vars = [var for var in t_vars if var.name.startswith('discriminator')]\n",
    "\n",
    "    # Optimize\n",
    "    with tf.control_dependencies(tf.get_collection(tf.GraphKeys.UPDATE_OPS)): # Required for batchnorm (BN)\n",
    "        g_opt = tf.train.AdamOptimizer(g_learning_rate).minimize(g_loss, var_list=g_vars)\n",
    "        d_opt = tf.train.AdamOptimizer(d_learning_rate).minimize(d_loss, var_list=d_vars)\n",
    "    return g_opt, d_opt"
   ]
  },
  {
   "cell_type": "code",
   "execution_count": 9,
   "metadata": {},
   "outputs": [],
   "source": [
    "class Model:\n",
    "    def __init__(self, state_size, action_size, hidden_size, g_learning_rate, d_learning_rate):\n",
    "\n",
    "        # Data of the Model: make the data available inside the framework\n",
    "        self.states, self.actions, self.targetQs, self.rates = model_input(state_size=state_size)\n",
    "\n",
    "        # Create the Model: calculating the loss and forwad pass\n",
    "        self.actions_logits, self.Qs_logits, self.g_loss, self.d_loss, self.g_lossQ, self.d_lossQ, self.gQs_notequal, self.gQs_equal = model_loss(\n",
    "            action_size=action_size, hidden_size=hidden_size, # model init parameters\n",
    "            states=self.states, actions=self.actions, targetQs=self.targetQs, rates=self.rates) # model input\n",
    "        \n",
    "        # Update the model: backward pass and backprop\n",
    "        self.g_opt, self.d_opt = model_opt(g_loss=self.g_loss, d_loss=self.d_loss,\n",
    "                                           g_learning_rate=g_learning_rate, \n",
    "                                           d_learning_rate=d_learning_rate)"
   ]
  },
  {
   "cell_type": "code",
   "execution_count": 10,
   "metadata": {},
   "outputs": [],
   "source": [
    "from collections import deque\n",
    "class Memory():\n",
    "    def __init__(self, max_size = 1000):\n",
    "        self.buffer = deque(maxlen=max_size) # data batch\n",
    "        self.rates = deque(maxlen=max_size) # rates\n",
    "#     def sample(self, batch_size):\n",
    "#         idx = np.random.choice(np.arange(len(self.buffer)), # ==  self.rates\n",
    "#                                size=batch_size, \n",
    "#                                replace=False)\n",
    "#         return [self.buffer[ii] for ii in idx], [self.rates[ii] for ii in idx]"
   ]
  },
  {
   "cell_type": "markdown",
   "metadata": {},
   "source": [
    "## Hyperparameters\n",
    "\n",
    "One of the more difficult aspects of reinforcememt learning are the large number of hyperparameters. Not only are we tuning the network, but we're tuning the simulation."
   ]
  },
  {
   "cell_type": "code",
   "execution_count": 11,
   "metadata": {},
   "outputs": [
    {
     "data": {
      "text/plain": [
       "(Box(4,), Discrete(2))"
      ]
     },
     "execution_count": 11,
     "metadata": {},
     "output_type": "execute_result"
    }
   ],
   "source": [
    "env.observation_space, env.action_space"
   ]
  },
  {
   "cell_type": "code",
   "execution_count": 12,
   "metadata": {},
   "outputs": [],
   "source": [
    "# Exploration parameters\n",
    "explore_start = 1.0            # exploration probability at start\n",
    "explore_stop = 0.01           # minimum exploration probability \n",
    "decay_rate = 0.0001            # exponential decay rate for exploration prob\n",
    "\n",
    "# Network parameters\n",
    "state_size = 4\n",
    "action_size = 2\n",
    "hidden_size = 4*2             # number of units in each Q-network hidden layer\n",
    "g_learning_rate = 1e-4         # Q-network learning rate\n",
    "d_learning_rate = 1e-4         # Q-network learning rate\n",
    "\n",
    "# Memory parameters\n",
    "memory_size = int(1e5)            # memory capacity\n",
    "batch_size = int(1e3)             # experience mini-batch size: 200/500 a successfull episode size\n",
    "gamma = 0.99                   # future reward discount"
   ]
  },
  {
   "cell_type": "code",
   "execution_count": 13,
   "metadata": {},
   "outputs": [
    {
     "name": "stderr",
     "output_type": "stream",
     "text": [
      "/home/arasdar/miniconda3/envs/env/lib/python3.6/site-packages/tensorflow/python/ops/gradients_impl.py:100: UserWarning: Converting sparse IndexedSlices to a dense Tensor of unknown shape. This may consume a large amount of memory.\n",
      "  \"Converting sparse IndexedSlices to a dense Tensor of unknown shape. \"\n"
     ]
    }
   ],
   "source": [
    "# Reset/init the graph/session\n",
    "graph = tf.reset_default_graph()\n",
    "\n",
    "# Init the model\n",
    "model = Model(action_size=action_size, state_size=state_size, hidden_size=hidden_size,\n",
    "              g_learning_rate=g_learning_rate, d_learning_rate=d_learning_rate)\n",
    "\n",
    "# Init the memory\n",
    "memory = Memory(max_size=memory_size)"
   ]
  },
  {
   "cell_type": "code",
   "execution_count": 14,
   "metadata": {},
   "outputs": [],
   "source": [
    "state = env.reset()\n",
    "total_reward = 0\n",
    "num_step = 0\n",
    "for _ in range(memory_size):\n",
    "    action = env.action_space.sample()\n",
    "    next_state, reward, done, _ = env.step(action)\n",
    "    memory.buffer.append([state, action, next_state, reward, float(done)])\n",
    "    memory.rates.append(-1) # empty\n",
    "    num_step += 1 # memory incremented\n",
    "    total_reward += reward\n",
    "    state = next_state\n",
    "    if done is True:\n",
    "        state = env.reset()\n",
    "        rate = total_reward/500\n",
    "        total_reward = 0 # reset\n",
    "        for idx in range(num_step): # episode length\n",
    "            if memory.rates[-1-idx] == -1:\n",
    "                memory.rates[-1-idx] = rate\n",
    "        num_step = 0 # reset"
   ]
  },
  {
   "cell_type": "markdown",
   "metadata": {},
   "source": [
    "## Training the model\n",
    "\n",
    "Below we'll train our agent. If you want to watch it train, uncomment the `env.render()` line. This is slow because it's rendering the frames slower than the network can train. But, it's cool to watch the agent get better at the game."
   ]
  },
  {
   "cell_type": "code",
   "execution_count": null,
   "metadata": {},
   "outputs": [
    {
     "name": "stdout",
     "output_type": "stream",
     "text": [
      "Episode:0 meanR:19.0000 R:19.0000 rate:0.0380 gloss:1.3858 dloss:2.0559 glossQ:1.0011 dlossQ:1.3932 exploreP:0.9981\n",
      "Episode:1 meanR:18.0000 R:17.0000 rate:0.0340 gloss:1.3832 dloss:2.0477 glossQ:1.0019 dlossQ:1.3962 exploreP:0.9964\n",
      "Episode:2 meanR:16.6667 R:14.0000 rate:0.0280 gloss:1.3819 dloss:2.0403 glossQ:1.0025 dlossQ:1.3764 exploreP:0.9951\n",
      "Episode:3 meanR:16.2500 R:15.0000 rate:0.0300 gloss:1.3794 dloss:2.0332 glossQ:1.0088 dlossQ:1.3714 exploreP:0.9936\n",
      "Episode:4 meanR:16.4000 R:17.0000 rate:0.0340 gloss:1.3775 dloss:2.0271 glossQ:1.0042 dlossQ:1.3526 exploreP:0.9919\n",
      "Episode:5 meanR:16.5000 R:17.0000 rate:0.0340 gloss:1.3744 dloss:2.0106 glossQ:1.0069 dlossQ:1.3410 exploreP:0.9902\n",
      "Episode:6 meanR:21.4286 R:51.0000 rate:0.1020 gloss:1.3701 dloss:1.9940 glossQ:1.0082 dlossQ:1.3036 exploreP:0.9853\n",
      "Episode:7 meanR:20.2500 R:12.0000 rate:0.0240 gloss:1.3593 dloss:1.9588 glossQ:1.0155 dlossQ:1.2414 exploreP:0.9841\n",
      "Episode:8 meanR:20.2222 R:20.0000 rate:0.0400 gloss:1.3612 dloss:nan glossQ:1.0198 dlossQ:1.2134 exploreP:0.9821\n",
      "Episode:9 meanR:21.4000 R:32.0000 rate:0.0640 gloss:1.3567 dloss:1.9382 glossQ:1.0141 dlossQ:1.1891 exploreP:0.9790\n",
      "Episode:10 meanR:21.1818 R:19.0000 rate:0.0380 gloss:1.3480 dloss:1.9168 glossQ:1.0182 dlossQ:1.1501 exploreP:0.9772\n",
      "Episode:11 meanR:21.5833 R:26.0000 rate:0.0520 gloss:1.3471 dloss:1.8993 glossQ:1.0246 dlossQ:1.1289 exploreP:0.9747\n",
      "Episode:12 meanR:21.3077 R:18.0000 rate:0.0360 gloss:1.3423 dloss:1.8791 glossQ:1.0197 dlossQ:1.0728 exploreP:0.9730\n",
      "Episode:13 meanR:21.5000 R:24.0000 rate:0.0480 gloss:1.3404 dloss:1.8710 glossQ:1.0253 dlossQ:1.0788 exploreP:0.9706\n",
      "Episode:14 meanR:21.4000 R:20.0000 rate:0.0400 gloss:1.3323 dloss:1.8532 glossQ:1.0289 dlossQ:1.0404 exploreP:0.9687\n",
      "Episode:15 meanR:21.1875 R:18.0000 rate:0.0360 gloss:1.3342 dloss:1.8383 glossQ:1.0343 dlossQ:1.0441 exploreP:0.9670\n",
      "Episode:16 meanR:20.8235 R:15.0000 rate:0.0300 gloss:1.3253 dloss:1.8265 glossQ:1.0311 dlossQ:1.0204 exploreP:0.9656\n",
      "Episode:17 meanR:21.7222 R:37.0000 rate:0.0740 gloss:1.3245 dloss:1.8140 glossQ:1.0341 dlossQ:0.9874 exploreP:0.9620\n",
      "Episode:18 meanR:21.5263 R:18.0000 rate:0.0360 gloss:1.3185 dloss:1.7985 glossQ:1.0367 dlossQ:0.9973 exploreP:0.9603\n",
      "Episode:19 meanR:21.2500 R:16.0000 rate:0.0320 gloss:1.3186 dloss:1.7934 glossQ:1.0396 dlossQ:0.9723 exploreP:0.9588\n",
      "Episode:20 meanR:20.9048 R:14.0000 rate:0.0280 gloss:1.3203 dloss:1.7887 glossQ:1.0372 dlossQ:0.9576 exploreP:0.9575\n",
      "Episode:21 meanR:20.9091 R:21.0000 rate:0.0420 gloss:1.3157 dloss:1.7747 glossQ:1.0328 dlossQ:0.9765 exploreP:0.9555\n",
      "Episode:22 meanR:20.6087 R:14.0000 rate:0.0280 gloss:1.3144 dloss:1.7701 glossQ:1.0493 dlossQ:0.9796 exploreP:0.9542\n",
      "Episode:23 meanR:20.2917 R:13.0000 rate:0.0260 gloss:1.3074 dloss:1.7597 glossQ:1.0438 dlossQ:0.9758 exploreP:0.9529\n",
      "Episode:24 meanR:20.1200 R:16.0000 rate:0.0320 gloss:1.3266 dloss:1.7794 glossQ:1.0345 dlossQ:0.9786 exploreP:0.9514\n",
      "Episode:25 meanR:20.2308 R:23.0000 rate:0.0460 gloss:1.3162 dloss:1.7658 glossQ:1.0394 dlossQ:0.9931 exploreP:0.9493\n",
      "Episode:26 meanR:20.1111 R:17.0000 rate:0.0340 gloss:1.3096 dloss:1.7573 glossQ:1.0428 dlossQ:1.0003 exploreP:0.9477\n",
      "Episode:27 meanR:21.2500 R:52.0000 rate:0.1040 gloss:1.3048 dloss:1.7480 glossQ:1.0453 dlossQ:1.0239 exploreP:0.9428\n",
      "Episode:28 meanR:21.1034 R:17.0000 rate:0.0340 gloss:1.3023 dloss:1.7338 glossQ:1.0500 dlossQ:1.0205 exploreP:0.9412\n",
      "Episode:29 meanR:20.8333 R:13.0000 rate:0.0260 gloss:1.3090 dloss:1.7359 glossQ:1.1048 dlossQ:1.0745 exploreP:0.9400\n",
      "Episode:30 meanR:20.7742 R:19.0000 rate:0.0380 gloss:1.3077 dloss:1.7434 glossQ:1.0469 dlossQ:1.0517 exploreP:0.9383\n",
      "Episode:31 meanR:20.7188 R:19.0000 rate:0.0380 gloss:1.3020 dloss:1.7327 glossQ:1.0458 dlossQ:1.0880 exploreP:0.9365\n",
      "Episode:32 meanR:21.1818 R:36.0000 rate:0.0720 gloss:1.2975 dloss:1.7283 glossQ:1.0531 dlossQ:1.0706 exploreP:0.9332\n",
      "Episode:33 meanR:20.9118 R:12.0000 rate:0.0240 gloss:1.3019 dloss:1.7239 glossQ:1.0458 dlossQ:1.0484 exploreP:0.9321\n",
      "Episode:34 meanR:20.9714 R:23.0000 rate:0.0460 gloss:1.2993 dloss:1.7109 glossQ:1.1054 dlossQ:1.1304 exploreP:0.9299\n",
      "Episode:35 meanR:21.9722 R:57.0000 rate:0.1140 gloss:1.2951 dloss:1.6997 glossQ:1.0504 dlossQ:1.0476 exploreP:0.9247\n",
      "Episode:36 meanR:21.8378 R:17.0000 rate:0.0340 gloss:1.2933 dloss:1.6946 glossQ:1.0490 dlossQ:1.0655 exploreP:0.9232\n",
      "Episode:37 meanR:22.5000 R:47.0000 rate:0.0940 gloss:1.2879 dloss:1.6751 glossQ:1.0564 dlossQ:1.0701 exploreP:0.9189\n",
      "Episode:38 meanR:22.2051 R:11.0000 rate:0.0220 gloss:1.2869 dloss:1.6649 glossQ:1.0595 dlossQ:1.0737 exploreP:0.9179\n",
      "Episode:39 meanR:21.9500 R:12.0000 rate:0.0240 gloss:1.3043 dloss:1.6695 glossQ:1.0725 dlossQ:1.0771 exploreP:0.9168\n",
      "Episode:40 meanR:21.8780 R:19.0000 rate:0.0380 gloss:1.2860 dloss:1.6538 glossQ:1.0591 dlossQ:1.0456 exploreP:0.9151\n",
      "Episode:41 meanR:22.0952 R:31.0000 rate:0.0620 gloss:1.2880 dloss:1.6497 glossQ:1.0623 dlossQ:1.0852 exploreP:0.9123\n",
      "Episode:42 meanR:21.9535 R:16.0000 rate:0.0320 gloss:1.2732 dloss:1.6328 glossQ:1.0658 dlossQ:1.0817 exploreP:0.9108\n",
      "Episode:43 meanR:22.2273 R:34.0000 rate:0.0680 gloss:1.2704 dloss:1.6221 glossQ:1.0744 dlossQ:1.1001 exploreP:0.9078\n",
      "Episode:44 meanR:22.7778 R:47.0000 rate:0.0940 gloss:1.2746 dloss:1.6188 glossQ:1.0689 dlossQ:1.1118 exploreP:0.9036\n",
      "Episode:45 meanR:22.8913 R:28.0000 rate:0.0560 gloss:1.2733 dloss:1.6115 glossQ:1.0704 dlossQ:1.1038 exploreP:0.9011\n",
      "Episode:46 meanR:22.9149 R:24.0000 rate:0.0480 gloss:1.2685 dloss:1.5979 glossQ:1.0724 dlossQ:1.0983 exploreP:0.8989\n",
      "Episode:47 meanR:23.2500 R:39.0000 rate:0.0780 gloss:1.2663 dloss:1.5822 glossQ:1.0784 dlossQ:1.1003 exploreP:0.8955\n",
      "Episode:48 meanR:23.2245 R:22.0000 rate:0.0440 gloss:1.2613 dloss:1.5754 glossQ:1.0743 dlossQ:1.0880 exploreP:0.8935\n",
      "Episode:49 meanR:22.9800 R:11.0000 rate:0.0220 gloss:1.2485 dloss:1.5588 glossQ:1.0699 dlossQ:1.0515 exploreP:0.8925\n",
      "Episode:50 meanR:23.2941 R:39.0000 rate:0.0780 gloss:1.2546 dloss:nan glossQ:1.1143 dlossQ:1.0985 exploreP:0.8891\n",
      "Episode:51 meanR:23.0962 R:13.0000 rate:0.0260 gloss:1.2491 dloss:1.5407 glossQ:1.0838 dlossQ:1.0344 exploreP:0.8880\n",
      "Episode:52 meanR:22.9434 R:15.0000 rate:0.0300 gloss:1.2393 dloss:1.5282 glossQ:1.0881 dlossQ:1.0396 exploreP:0.8866\n",
      "Episode:53 meanR:22.7778 R:14.0000 rate:0.0280 gloss:1.2455 dloss:1.5273 glossQ:1.0884 dlossQ:1.0336 exploreP:0.8854\n",
      "Episode:54 meanR:22.6182 R:14.0000 rate:0.0280 gloss:1.2566 dloss:1.5334 glossQ:1.0889 dlossQ:1.0383 exploreP:0.8842\n",
      "Episode:55 meanR:22.4821 R:15.0000 rate:0.0300 gloss:1.2334 dloss:1.4934 glossQ:1.1090 dlossQ:1.0357 exploreP:0.8829\n",
      "Episode:56 meanR:22.4211 R:19.0000 rate:0.0380 gloss:1.2237 dloss:1.4729 glossQ:1.0994 dlossQ:1.0240 exploreP:0.8812\n",
      "Episode:57 meanR:22.4655 R:25.0000 rate:0.0500 gloss:1.2303 dloss:1.4914 glossQ:1.0943 dlossQ:0.9971 exploreP:0.8791\n",
      "Episode:58 meanR:22.2712 R:11.0000 rate:0.0220 gloss:1.2291 dloss:1.4682 glossQ:1.0922 dlossQ:0.9658 exploreP:0.8781\n",
      "Episode:59 meanR:22.2000 R:18.0000 rate:0.0360 gloss:1.2123 dloss:1.4637 glossQ:1.1064 dlossQ:1.0085 exploreP:0.8765\n",
      "Episode:60 meanR:22.0656 R:14.0000 rate:0.0280 gloss:1.2041 dloss:1.4474 glossQ:1.1076 dlossQ:1.0068 exploreP:0.8753\n",
      "Episode:61 meanR:22.5161 R:50.0000 rate:0.1000 gloss:1.2057 dloss:1.4372 glossQ:1.1205 dlossQ:0.9989 exploreP:0.8710\n",
      "Episode:62 meanR:22.3968 R:15.0000 rate:0.0300 gloss:1.2073 dloss:1.4355 glossQ:1.1021 dlossQ:0.9949 exploreP:0.8697\n",
      "Episode:63 meanR:22.6562 R:39.0000 rate:0.0780 gloss:1.2063 dloss:1.4263 glossQ:1.1116 dlossQ:0.9852 exploreP:0.8664\n",
      "Episode:64 meanR:22.4615 R:10.0000 rate:0.0200 gloss:1.2045 dloss:1.4369 glossQ:1.1316 dlossQ:1.0453 exploreP:0.8655\n",
      "Episode:65 meanR:22.3333 R:14.0000 rate:0.0280 gloss:1.2036 dloss:1.4332 glossQ:1.1069 dlossQ:1.0039 exploreP:0.8643\n",
      "Episode:66 meanR:22.2985 R:20.0000 rate:0.0400 gloss:1.1870 dloss:1.4104 glossQ:1.1199 dlossQ:1.0230 exploreP:0.8626\n",
      "Episode:67 meanR:22.1471 R:12.0000 rate:0.0240 gloss:1.1869 dloss:1.3858 glossQ:1.1788 dlossQ:1.0856 exploreP:0.8616\n",
      "Episode:68 meanR:22.0000 R:12.0000 rate:0.0240 gloss:1.1890 dloss:1.3931 glossQ:1.1313 dlossQ:1.0200 exploreP:0.8606\n",
      "Episode:69 meanR:21.9143 R:16.0000 rate:0.0320 gloss:1.2026 dloss:1.4165 glossQ:1.1138 dlossQ:1.0298 exploreP:0.8592\n",
      "Episode:70 meanR:21.8310 R:16.0000 rate:0.0320 gloss:1.2014 dloss:1.4134 glossQ:1.1166 dlossQ:1.0320 exploreP:0.8579\n"
     ]
    },
    {
     "name": "stdout",
     "output_type": "stream",
     "text": [
      "Episode:71 meanR:21.7361 R:15.0000 rate:0.0300 gloss:1.2143 dloss:1.4284 glossQ:1.4122 dlossQ:1.2910 exploreP:0.8566\n",
      "Episode:72 meanR:21.5753 R:10.0000 rate:0.0200 gloss:1.2299 dloss:1.4520 glossQ:1.0937 dlossQ:1.0142 exploreP:0.8557\n",
      "Episode:73 meanR:21.5270 R:18.0000 rate:0.0360 gloss:1.1829 dloss:1.3955 glossQ:1.1338 dlossQ:1.0869 exploreP:0.8542\n",
      "Episode:74 meanR:21.4800 R:18.0000 rate:0.0360 gloss:1.1967 dloss:1.4393 glossQ:1.1499 dlossQ:1.1714 exploreP:0.8527\n",
      "Episode:75 meanR:21.4868 R:22.0000 rate:0.0440 gloss:1.1807 dloss:1.4073 glossQ:1.1244 dlossQ:1.1362 exploreP:0.8508\n",
      "Episode:76 meanR:21.5844 R:29.0000 rate:0.0580 gloss:1.1934 dloss:1.4191 glossQ:1.1272 dlossQ:1.1702 exploreP:0.8484\n",
      "Episode:77 meanR:21.4872 R:14.0000 rate:0.0280 gloss:1.1844 dloss:1.4168 glossQ:1.1177 dlossQ:1.1965 exploreP:0.8472\n",
      "Episode:78 meanR:21.3671 R:12.0000 rate:0.0240 gloss:1.1946 dloss:1.4236 glossQ:1.1430 dlossQ:1.2597 exploreP:0.8462\n",
      "Episode:79 meanR:21.2750 R:14.0000 rate:0.0280 gloss:1.1698 dloss:1.4040 glossQ:1.1347 dlossQ:1.2619 exploreP:0.8451\n",
      "Episode:80 meanR:21.2963 R:23.0000 rate:0.0460 gloss:1.1690 dloss:1.3887 glossQ:1.1574 dlossQ:1.2758 exploreP:0.8431\n",
      "Episode:81 meanR:21.4390 R:33.0000 rate:0.0660 gloss:1.1849 dloss:1.4159 glossQ:1.1257 dlossQ:1.2722 exploreP:0.8404\n",
      "Episode:82 meanR:21.4458 R:22.0000 rate:0.0440 gloss:1.1664 dloss:1.3934 glossQ:1.1391 dlossQ:1.3066 exploreP:0.8386\n",
      "Episode:83 meanR:21.3214 R:11.0000 rate:0.0220 gloss:1.1800 dloss:1.4194 glossQ:1.1197 dlossQ:1.3521 exploreP:0.8377\n",
      "Episode:84 meanR:21.3647 R:25.0000 rate:0.0500 gloss:1.1894 dloss:1.4268 glossQ:1.1249 dlossQ:1.3462 exploreP:0.8356\n",
      "Episode:85 meanR:21.3023 R:16.0000 rate:0.0320 gloss:1.1827 dloss:1.4169 glossQ:1.1290 dlossQ:1.3492 exploreP:0.8343\n",
      "Episode:86 meanR:21.2299 R:15.0000 rate:0.0300 gloss:1.1629 dloss:1.3961 glossQ:1.1317 dlossQ:1.3702 exploreP:0.8330\n",
      "Episode:87 meanR:21.2045 R:19.0000 rate:0.0380 gloss:1.2029 dloss:1.4463 glossQ:1.1242 dlossQ:1.3970 exploreP:0.8315\n",
      "Episode:88 meanR:21.1573 R:17.0000 rate:0.0340 gloss:1.1752 dloss:1.4099 glossQ:1.1313 dlossQ:1.4092 exploreP:0.8301\n",
      "Episode:89 meanR:21.0778 R:14.0000 rate:0.0280 gloss:1.1938 dloss:1.4312 glossQ:1.1306 dlossQ:1.3960 exploreP:0.8289\n",
      "Episode:90 meanR:21.0000 R:14.0000 rate:0.0280 gloss:1.1720 dloss:1.4095 glossQ:1.1291 dlossQ:1.4324 exploreP:0.8278\n",
      "Episode:91 meanR:21.0435 R:25.0000 rate:0.0500 gloss:1.1741 dloss:1.4077 glossQ:1.1483 dlossQ:1.4290 exploreP:0.8257\n",
      "Episode:92 meanR:20.9247 R:10.0000 rate:0.0200 gloss:1.1640 dloss:1.3999 glossQ:1.1426 dlossQ:1.4523 exploreP:0.8249\n",
      "Episode:93 meanR:20.8830 R:17.0000 rate:0.0340 gloss:1.1556 dloss:1.3931 glossQ:1.1509 dlossQ:1.4543 exploreP:0.8235\n",
      "Episode:94 meanR:20.7895 R:12.0000 rate:0.0240 gloss:1.1769 dloss:1.4181 glossQ:1.1465 dlossQ:1.4565 exploreP:0.8226\n",
      "Episode:95 meanR:20.7292 R:15.0000 rate:0.0300 gloss:1.1885 dloss:1.4267 glossQ:1.1261 dlossQ:1.4351 exploreP:0.8214\n",
      "Episode:96 meanR:20.7423 R:22.0000 rate:0.0440 gloss:1.1776 dloss:1.4110 glossQ:1.1335 dlossQ:1.4356 exploreP:0.8196\n",
      "Episode:97 meanR:20.6429 R:11.0000 rate:0.0220 gloss:1.1855 dloss:1.4201 glossQ:1.1295 dlossQ:1.4228 exploreP:0.8187\n",
      "Episode:98 meanR:20.5657 R:13.0000 rate:0.0260 gloss:1.1720 dloss:1.4023 glossQ:1.1450 dlossQ:1.4602 exploreP:0.8176\n",
      "Episode:99 meanR:20.4900 R:13.0000 rate:0.0260 gloss:1.1684 dloss:1.4008 glossQ:1.1542 dlossQ:1.4659 exploreP:0.8166\n",
      "Episode:100 meanR:20.5900 R:29.0000 rate:0.0580 gloss:1.1908 dloss:nan glossQ:1.3771 dlossQ:1.6684 exploreP:0.8142\n",
      "Episode:101 meanR:20.5500 R:13.0000 rate:0.0260 gloss:1.1891 dloss:1.4273 glossQ:1.1276 dlossQ:1.4437 exploreP:0.8132\n",
      "Episode:102 meanR:20.5400 R:13.0000 rate:0.0260 gloss:1.1511 dloss:1.3812 glossQ:1.1502 dlossQ:1.4575 exploreP:0.8122\n",
      "Episode:103 meanR:20.4900 R:10.0000 rate:0.0200 gloss:1.1592 dloss:1.3846 glossQ:1.1317 dlossQ:1.4282 exploreP:0.8114\n",
      "Episode:104 meanR:20.4500 R:13.0000 rate:0.0260 gloss:1.1755 dloss:1.4092 glossQ:1.1262 dlossQ:1.4376 exploreP:0.8103\n",
      "Episode:105 meanR:20.3900 R:11.0000 rate:0.0220 gloss:1.1681 dloss:1.3877 glossQ:1.1437 dlossQ:1.3997 exploreP:0.8094\n",
      "Episode:106 meanR:20.0500 R:17.0000 rate:0.0340 gloss:1.1792 dloss:1.4020 glossQ:1.1412 dlossQ:1.4076 exploreP:0.8081\n",
      "Episode:107 meanR:20.0200 R:9.0000 rate:0.0180 gloss:1.1632 dloss:1.3969 glossQ:1.1302 dlossQ:1.4265 exploreP:0.8074\n",
      "Episode:108 meanR:20.0000 R:18.0000 rate:0.0360 gloss:1.1719 dloss:1.4062 glossQ:1.1505 dlossQ:1.4495 exploreP:0.8059\n",
      "Episode:109 meanR:19.8000 R:12.0000 rate:0.0240 gloss:1.1855 dloss:1.4088 glossQ:1.1153 dlossQ:1.3742 exploreP:0.8050\n",
      "Episode:110 meanR:19.7200 R:11.0000 rate:0.0220 gloss:1.1548 dloss:1.3742 glossQ:1.1349 dlossQ:1.4009 exploreP:0.8041\n",
      "Episode:111 meanR:19.5900 R:13.0000 rate:0.0260 gloss:1.1709 dloss:1.3954 glossQ:1.1336 dlossQ:1.4040 exploreP:0.8031\n",
      "Episode:112 meanR:19.5500 R:14.0000 rate:0.0280 gloss:1.1831 dloss:1.4111 glossQ:1.1345 dlossQ:1.3814 exploreP:0.8020\n",
      "Episode:113 meanR:19.7300 R:42.0000 rate:0.0840 gloss:1.1582 dloss:nan glossQ:1.1621 dlossQ:1.3705 exploreP:0.7986\n",
      "Episode:114 meanR:19.6500 R:12.0000 rate:0.0240 gloss:1.1491 dloss:1.3616 glossQ:1.1340 dlossQ:1.3259 exploreP:0.7977\n",
      "Episode:115 meanR:19.6700 R:20.0000 rate:0.0400 gloss:1.1499 dloss:1.3563 glossQ:1.1381 dlossQ:1.3098 exploreP:0.7961\n",
      "Episode:116 meanR:19.6800 R:16.0000 rate:0.0320 gloss:1.1470 dloss:1.3548 glossQ:1.1460 dlossQ:1.3227 exploreP:0.7949\n",
      "Episode:117 meanR:19.5600 R:25.0000 rate:0.0500 gloss:1.1563 dloss:1.3571 glossQ:1.1269 dlossQ:1.2692 exploreP:0.7929\n",
      "Episode:118 meanR:19.5000 R:12.0000 rate:0.0240 gloss:1.1355 dloss:1.3301 glossQ:1.1763 dlossQ:1.3193 exploreP:0.7920\n",
      "Episode:119 meanR:19.4400 R:10.0000 rate:0.0200 gloss:1.1721 dloss:1.3702 glossQ:1.1502 dlossQ:1.2843 exploreP:0.7912\n",
      "Episode:120 meanR:19.7000 R:40.0000 rate:0.0800 gloss:1.1673 dloss:1.3567 glossQ:1.2427 dlossQ:1.3355 exploreP:0.7881\n",
      "Episode:121 meanR:19.6600 R:17.0000 rate:0.0340 gloss:1.1547 dloss:1.3353 glossQ:1.1800 dlossQ:1.2404 exploreP:0.7867\n",
      "Episode:122 meanR:19.6300 R:11.0000 rate:0.0220 gloss:1.1537 dloss:1.3356 glossQ:1.1514 dlossQ:1.2106 exploreP:0.7859\n",
      "Episode:123 meanR:19.6400 R:14.0000 rate:0.0280 gloss:1.1499 dloss:1.3319 glossQ:1.1246 dlossQ:1.1649 exploreP:0.7848\n",
      "Episode:124 meanR:19.6900 R:21.0000 rate:0.0420 gloss:1.1250 dloss:1.3096 glossQ:1.1479 dlossQ:1.1789 exploreP:0.7832\n",
      "Episode:125 meanR:19.6000 R:14.0000 rate:0.0280 gloss:1.1365 dloss:1.3138 glossQ:1.1517 dlossQ:1.1869 exploreP:0.7821\n",
      "Episode:126 meanR:19.6800 R:25.0000 rate:0.0500 gloss:1.1251 dloss:1.2994 glossQ:1.1837 dlossQ:1.1971 exploreP:0.7802\n",
      "Episode:127 meanR:19.2900 R:13.0000 rate:0.0260 gloss:1.1432 dloss:1.3132 glossQ:1.1373 dlossQ:1.1330 exploreP:0.7792\n",
      "Episode:128 meanR:19.2700 R:15.0000 rate:0.0300 gloss:1.1190 dloss:1.2917 glossQ:1.1516 dlossQ:1.1282 exploreP:0.7780\n",
      "Episode:129 meanR:19.3600 R:22.0000 rate:0.0440 gloss:1.1034 dloss:1.2675 glossQ:1.1555 dlossQ:1.1175 exploreP:0.7763\n",
      "Episode:130 meanR:19.2700 R:10.0000 rate:0.0200 gloss:1.1336 dloss:1.3004 glossQ:1.1883 dlossQ:1.1311 exploreP:0.7756\n",
      "Episode:131 meanR:19.2500 R:17.0000 rate:0.0340 gloss:1.1356 dloss:1.2956 glossQ:1.1489 dlossQ:1.0801 exploreP:0.7743\n",
      "Episode:132 meanR:19.0400 R:15.0000 rate:0.0300 gloss:1.1304 dloss:1.2885 glossQ:1.1646 dlossQ:1.1086 exploreP:0.7731\n",
      "Episode:133 meanR:19.0400 R:12.0000 rate:0.0240 gloss:1.0906 dloss:1.2464 glossQ:1.1689 dlossQ:1.0872 exploreP:0.7722\n",
      "Episode:134 meanR:18.9200 R:11.0000 rate:0.0220 gloss:1.1054 dloss:1.2583 glossQ:1.1617 dlossQ:1.0845 exploreP:0.7714\n",
      "Episode:135 meanR:18.6100 R:26.0000 rate:0.0520 gloss:1.1278 dloss:1.2819 glossQ:1.1571 dlossQ:1.0586 exploreP:0.7694\n",
      "Episode:136 meanR:18.5300 R:9.0000 rate:0.0180 gloss:1.1067 dloss:1.2583 glossQ:1.1726 dlossQ:1.0645 exploreP:0.7687\n",
      "Episode:137 meanR:18.1700 R:11.0000 rate:0.0220 gloss:1.1144 dloss:1.2638 glossQ:1.1556 dlossQ:1.0471 exploreP:0.7679\n",
      "Episode:138 meanR:18.1900 R:13.0000 rate:0.0260 gloss:1.1003 dloss:1.2489 glossQ:1.1720 dlossQ:1.0527 exploreP:0.7669\n",
      "Episode:139 meanR:18.2100 R:14.0000 rate:0.0280 gloss:1.1089 dloss:1.2554 glossQ:1.1600 dlossQ:1.0382 exploreP:0.7658\n",
      "Episode:140 meanR:18.1400 R:12.0000 rate:0.0240 gloss:1.1042 dloss:1.2521 glossQ:1.1589 dlossQ:1.0275 exploreP:0.7649\n"
     ]
    },
    {
     "name": "stdout",
     "output_type": "stream",
     "text": [
      "Episode:141 meanR:17.9600 R:13.0000 rate:0.0260 gloss:1.1051 dloss:1.2452 glossQ:1.1460 dlossQ:0.9932 exploreP:0.7639\n",
      "Episode:142 meanR:18.1200 R:32.0000 rate:0.0640 gloss:1.1110 dloss:1.2550 glossQ:1.1953 dlossQ:1.0409 exploreP:0.7615\n",
      "Episode:143 meanR:18.0300 R:25.0000 rate:0.0500 gloss:1.1110 dloss:1.2546 glossQ:1.1691 dlossQ:1.0216 exploreP:0.7596\n",
      "Episode:144 meanR:17.7900 R:23.0000 rate:0.0460 gloss:1.0857 dloss:1.2259 glossQ:1.1642 dlossQ:1.0042 exploreP:0.7579\n",
      "Episode:145 meanR:17.6400 R:13.0000 rate:0.0260 gloss:1.1189 dloss:1.2565 glossQ:1.1543 dlossQ:0.9970 exploreP:0.7570\n",
      "Episode:146 meanR:17.6000 R:20.0000 rate:0.0400 gloss:1.1333 dloss:1.2722 glossQ:1.3147 dlossQ:1.1508 exploreP:0.7555\n",
      "Episode:147 meanR:17.3300 R:12.0000 rate:0.0240 gloss:1.1319 dloss:1.2662 glossQ:1.1388 dlossQ:0.9592 exploreP:0.7546\n",
      "Episode:148 meanR:17.2100 R:10.0000 rate:0.0200 gloss:1.0979 dloss:1.2354 glossQ:1.1656 dlossQ:0.9904 exploreP:0.7538\n",
      "Episode:149 meanR:17.4200 R:32.0000 rate:0.0640 gloss:1.0990 dloss:1.2379 glossQ:1.1597 dlossQ:0.9793 exploreP:0.7514\n",
      "Episode:150 meanR:17.2300 R:20.0000 rate:0.0400 gloss:1.0886 dloss:1.2242 glossQ:1.1659 dlossQ:0.9733 exploreP:0.7500\n",
      "Episode:151 meanR:17.2800 R:18.0000 rate:0.0360 gloss:1.1009 dloss:1.2368 glossQ:1.1952 dlossQ:1.0061 exploreP:0.7486\n",
      "Episode:152 meanR:17.3700 R:24.0000 rate:0.0480 gloss:1.1157 dloss:1.2477 glossQ:1.1655 dlossQ:0.9707 exploreP:0.7469\n",
      "Episode:153 meanR:17.3800 R:15.0000 rate:0.0300 gloss:1.1064 dloss:1.2389 glossQ:1.1676 dlossQ:0.9914 exploreP:0.7458\n",
      "Episode:154 meanR:17.5500 R:31.0000 rate:0.0620 gloss:1.0949 dloss:1.2297 glossQ:1.1720 dlossQ:0.9710 exploreP:0.7435\n",
      "Episode:155 meanR:17.5200 R:12.0000 rate:0.0240 gloss:1.0749 dloss:1.2081 glossQ:1.1787 dlossQ:0.9803 exploreP:0.7426\n",
      "Episode:156 meanR:17.4400 R:11.0000 rate:0.0220 gloss:1.0929 dloss:1.2231 glossQ:1.1920 dlossQ:1.0240 exploreP:0.7418\n",
      "Episode:157 meanR:17.3600 R:17.0000 rate:0.0340 gloss:1.1341 dloss:1.2640 glossQ:1.2102 dlossQ:1.0361 exploreP:0.7406\n",
      "Episode:158 meanR:17.4300 R:18.0000 rate:0.0360 gloss:1.1185 dloss:1.2515 glossQ:1.1941 dlossQ:1.0101 exploreP:0.7392\n",
      "Episode:159 meanR:17.4200 R:17.0000 rate:0.0340 gloss:1.0991 dloss:1.2346 glossQ:1.1686 dlossQ:0.9980 exploreP:0.7380\n",
      "Episode:160 meanR:17.3700 R:9.0000 rate:0.0180 gloss:1.0623 dloss:1.1984 glossQ:1.1934 dlossQ:1.0202 exploreP:0.7373\n",
      "Episode:161 meanR:17.0600 R:19.0000 rate:0.0380 gloss:1.1033 dloss:1.2385 glossQ:1.1658 dlossQ:0.9868 exploreP:0.7360\n",
      "Episode:162 meanR:17.3300 R:42.0000 rate:0.0840 gloss:1.1140 dloss:1.2493 glossQ:1.1611 dlossQ:0.9813 exploreP:0.7329\n",
      "Episode:163 meanR:17.0400 R:10.0000 rate:0.0200 gloss:1.1087 dloss:1.2445 glossQ:1.1870 dlossQ:1.0345 exploreP:0.7322\n",
      "Episode:164 meanR:17.1500 R:21.0000 rate:0.0420 gloss:1.1117 dloss:1.2490 glossQ:1.1538 dlossQ:0.9880 exploreP:0.7307\n",
      "Episode:165 meanR:17.2800 R:27.0000 rate:0.0540 gloss:1.1009 dloss:nan glossQ:1.2067 dlossQ:1.0423 exploreP:0.7287\n",
      "Episode:166 meanR:17.2200 R:14.0000 rate:0.0280 gloss:1.1003 dloss:1.2453 glossQ:1.1638 dlossQ:1.0245 exploreP:0.7277\n",
      "Episode:167 meanR:17.3100 R:21.0000 rate:0.0420 gloss:1.1193 dloss:1.2601 glossQ:1.1645 dlossQ:1.0131 exploreP:0.7262\n",
      "Episode:168 meanR:17.3400 R:15.0000 rate:0.0300 gloss:1.1628 dloss:nan glossQ:1.7144 dlossQ:1.4498 exploreP:0.7252\n",
      "Episode:169 meanR:17.3200 R:14.0000 rate:0.0280 gloss:1.1376 dloss:1.2773 glossQ:1.1492 dlossQ:1.0028 exploreP:0.7242\n",
      "Episode:170 meanR:17.2800 R:12.0000 rate:0.0240 gloss:1.1050 dloss:1.2535 glossQ:1.1426 dlossQ:0.9912 exploreP:0.7233\n",
      "Episode:171 meanR:17.3800 R:25.0000 rate:0.0500 gloss:1.1167 dloss:1.2601 glossQ:1.1511 dlossQ:1.0072 exploreP:0.7215\n",
      "Episode:172 meanR:17.3900 R:11.0000 rate:0.0220 gloss:1.0881 dloss:1.2367 glossQ:1.1756 dlossQ:1.0288 exploreP:0.7207\n",
      "Episode:173 meanR:17.3200 R:11.0000 rate:0.0220 gloss:1.1123 dloss:1.2572 glossQ:1.1593 dlossQ:1.0099 exploreP:0.7200\n",
      "Episode:174 meanR:17.2300 R:9.0000 rate:0.0180 gloss:1.1183 dloss:1.2616 glossQ:1.1487 dlossQ:1.0103 exploreP:0.7193\n",
      "Episode:175 meanR:17.1400 R:13.0000 rate:0.0260 gloss:1.0980 dloss:1.2422 glossQ:1.1616 dlossQ:1.0254 exploreP:0.7184\n",
      "Episode:176 meanR:16.9600 R:11.0000 rate:0.0220 gloss:1.0834 dloss:1.2349 glossQ:1.1736 dlossQ:1.0488 exploreP:0.7176\n",
      "Episode:177 meanR:16.9200 R:10.0000 rate:0.0200 gloss:1.1148 dloss:1.2589 glossQ:1.1643 dlossQ:1.0497 exploreP:0.7169\n",
      "Episode:178 meanR:16.8800 R:8.0000 rate:0.0160 gloss:1.1132 dloss:1.2632 glossQ:1.1543 dlossQ:1.0264 exploreP:0.7163\n",
      "Episode:179 meanR:16.8700 R:13.0000 rate:0.0260 gloss:1.0922 dloss:nan glossQ:1.1781 dlossQ:1.0573 exploreP:0.7154\n",
      "Episode:180 meanR:16.8200 R:18.0000 rate:0.0360 gloss:1.1368 dloss:1.2808 glossQ:1.1416 dlossQ:1.0181 exploreP:0.7142\n",
      "Episode:181 meanR:16.6700 R:18.0000 rate:0.0360 gloss:1.1173 dloss:1.2681 glossQ:1.1726 dlossQ:1.0564 exploreP:0.7129\n",
      "Episode:182 meanR:16.5500 R:10.0000 rate:0.0200 gloss:1.1038 dloss:1.2474 glossQ:1.1653 dlossQ:1.0649 exploreP:0.7122\n",
      "Episode:183 meanR:16.5600 R:12.0000 rate:0.0240 gloss:1.1334 dloss:1.2914 glossQ:1.1936 dlossQ:1.1123 exploreP:0.7113\n",
      "Episode:184 meanR:16.4500 R:14.0000 rate:0.0280 gloss:1.1267 dloss:1.2823 glossQ:1.3046 dlossQ:1.2161 exploreP:0.7104\n",
      "Episode:185 meanR:16.4000 R:11.0000 rate:0.0220 gloss:1.1524 dloss:1.3020 glossQ:1.1547 dlossQ:1.0784 exploreP:0.7096\n",
      "Episode:186 meanR:16.3300 R:8.0000 rate:0.0160 gloss:1.1053 dloss:1.2647 glossQ:1.1724 dlossQ:1.1105 exploreP:0.7090\n",
      "Episode:187 meanR:16.2900 R:15.0000 rate:0.0300 gloss:1.1248 dloss:1.2817 glossQ:1.1613 dlossQ:1.0649 exploreP:0.7080\n",
      "Episode:188 meanR:16.3000 R:18.0000 rate:0.0360 gloss:1.1014 dloss:1.2632 glossQ:1.1499 dlossQ:1.0664 exploreP:0.7067\n",
      "Episode:189 meanR:16.3000 R:14.0000 rate:0.0280 gloss:1.0749 dloss:1.2323 glossQ:1.1751 dlossQ:1.0957 exploreP:0.7058\n",
      "Episode:190 meanR:16.4000 R:24.0000 rate:0.0480 gloss:1.1321 dloss:1.2849 glossQ:1.1493 dlossQ:1.0629 exploreP:0.7041\n",
      "Episode:191 meanR:16.2600 R:11.0000 rate:0.0220 gloss:1.1353 dloss:1.2939 glossQ:1.1511 dlossQ:1.0726 exploreP:0.7033\n",
      "Episode:192 meanR:16.2900 R:13.0000 rate:0.0260 gloss:1.1244 dloss:1.2832 glossQ:1.1446 dlossQ:1.0634 exploreP:0.7024\n",
      "Episode:193 meanR:16.2700 R:15.0000 rate:0.0300 gloss:1.1281 dloss:1.2837 glossQ:1.1629 dlossQ:1.0748 exploreP:0.7014\n",
      "Episode:194 meanR:16.2800 R:13.0000 rate:0.0260 gloss:1.1262 dloss:1.2842 glossQ:1.1472 dlossQ:1.0721 exploreP:0.7005\n",
      "Episode:195 meanR:16.2600 R:13.0000 rate:0.0260 gloss:1.1456 dloss:1.3014 glossQ:1.1473 dlossQ:1.0709 exploreP:0.6996\n",
      "Episode:196 meanR:16.1300 R:9.0000 rate:0.0180 gloss:1.1685 dloss:1.3461 glossQ:1.3160 dlossQ:1.2869 exploreP:0.6990\n",
      "Episode:197 meanR:16.2000 R:18.0000 rate:0.0360 gloss:1.1359 dloss:1.3021 glossQ:1.1518 dlossQ:1.0926 exploreP:0.6977\n",
      "Episode:198 meanR:16.2100 R:14.0000 rate:0.0280 gloss:1.1272 dloss:1.2901 glossQ:1.1516 dlossQ:1.0855 exploreP:0.6968\n",
      "Episode:199 meanR:16.1900 R:11.0000 rate:0.0220 gloss:1.1583 dloss:1.3257 glossQ:1.1284 dlossQ:1.0795 exploreP:0.6960\n",
      "Episode:200 meanR:16.0900 R:19.0000 rate:0.0380 gloss:1.1225 dloss:1.2816 glossQ:1.1596 dlossQ:1.0664 exploreP:0.6947\n",
      "Episode:201 meanR:16.2000 R:24.0000 rate:0.0480 gloss:1.1317 dloss:1.2960 glossQ:1.1678 dlossQ:1.0966 exploreP:0.6931\n",
      "Episode:202 meanR:16.1900 R:12.0000 rate:0.0240 gloss:1.1126 dloss:1.2784 glossQ:1.1547 dlossQ:1.0803 exploreP:0.6923\n",
      "Episode:203 meanR:16.2000 R:11.0000 rate:0.0220 gloss:1.1451 dloss:1.3128 glossQ:1.1454 dlossQ:1.0879 exploreP:0.6915\n",
      "Episode:204 meanR:16.2000 R:13.0000 rate:0.0260 gloss:1.1373 dloss:1.3001 glossQ:1.1497 dlossQ:1.0774 exploreP:0.6906\n",
      "Episode:205 meanR:16.2700 R:18.0000 rate:0.0360 gloss:1.1329 dloss:1.3037 glossQ:1.1596 dlossQ:1.0997 exploreP:0.6894\n",
      "Episode:206 meanR:16.2100 R:11.0000 rate:0.0220 gloss:1.1460 dloss:1.3128 glossQ:1.1393 dlossQ:1.0728 exploreP:0.6886\n",
      "Episode:207 meanR:16.2600 R:14.0000 rate:0.0280 gloss:1.1577 dloss:1.3192 glossQ:1.1458 dlossQ:1.0412 exploreP:0.6877\n",
      "Episode:208 meanR:16.2100 R:13.0000 rate:0.0260 gloss:1.1302 dloss:1.2949 glossQ:1.1357 dlossQ:1.0558 exploreP:0.6868\n",
      "Episode:209 meanR:16.2700 R:18.0000 rate:0.0360 gloss:1.1553 dloss:1.3224 glossQ:1.1364 dlossQ:1.0529 exploreP:0.6856\n",
      "Episode:210 meanR:16.2800 R:12.0000 rate:0.0240 gloss:1.1320 dloss:1.2949 glossQ:1.1617 dlossQ:1.0780 exploreP:0.6848\n"
     ]
    },
    {
     "name": "stdout",
     "output_type": "stream",
     "text": [
      "Episode:211 meanR:16.4200 R:27.0000 rate:0.0540 gloss:1.1212 dloss:1.2890 glossQ:1.1580 dlossQ:1.0709 exploreP:0.6830\n",
      "Episode:212 meanR:16.4300 R:15.0000 rate:0.0300 gloss:1.1534 dloss:1.3167 glossQ:1.1462 dlossQ:1.0645 exploreP:0.6820\n",
      "Episode:213 meanR:16.1900 R:18.0000 rate:0.0360 gloss:1.1380 dloss:1.3048 glossQ:1.1400 dlossQ:1.0508 exploreP:0.6808\n",
      "Episode:214 meanR:16.2500 R:18.0000 rate:0.0360 gloss:1.1485 dloss:1.3092 glossQ:1.1450 dlossQ:1.0298 exploreP:0.6795\n",
      "Episode:215 meanR:16.2100 R:16.0000 rate:0.0320 gloss:1.1305 dloss:1.2910 glossQ:1.1492 dlossQ:1.0376 exploreP:0.6785\n",
      "Episode:216 meanR:16.2500 R:20.0000 rate:0.0400 gloss:1.1270 dloss:1.2882 glossQ:1.1840 dlossQ:1.0722 exploreP:0.6771\n",
      "Episode:217 meanR:16.1800 R:18.0000 rate:0.0360 gloss:1.1265 dloss:1.2901 glossQ:1.1443 dlossQ:1.0354 exploreP:0.6759\n",
      "Episode:218 meanR:16.1700 R:11.0000 rate:0.0220 gloss:1.1271 dloss:1.2900 glossQ:1.1605 dlossQ:1.0344 exploreP:0.6752\n",
      "Episode:219 meanR:16.1700 R:10.0000 rate:0.0200 gloss:1.0959 dloss:1.2582 glossQ:1.1715 dlossQ:1.0536 exploreP:0.6745\n",
      "Episode:220 meanR:16.0000 R:23.0000 rate:0.0460 gloss:1.1546 dloss:1.3122 glossQ:1.1593 dlossQ:1.0288 exploreP:0.6730\n",
      "Episode:221 meanR:15.9300 R:10.0000 rate:0.0200 gloss:1.1353 dloss:1.2896 glossQ:1.1534 dlossQ:1.0123 exploreP:0.6724\n",
      "Episode:222 meanR:15.9400 R:12.0000 rate:0.0240 gloss:1.1257 dloss:1.2858 glossQ:1.1601 dlossQ:1.0260 exploreP:0.6716\n",
      "Episode:223 meanR:15.9000 R:10.0000 rate:0.0200 gloss:1.1379 dloss:1.2955 glossQ:1.1746 dlossQ:1.0404 exploreP:0.6709\n",
      "Episode:224 meanR:15.8100 R:12.0000 rate:0.0240 gloss:1.1314 dloss:1.2937 glossQ:1.2025 dlossQ:1.0639 exploreP:0.6701\n",
      "Episode:225 meanR:15.8000 R:13.0000 rate:0.0260 gloss:1.1246 dloss:1.2850 glossQ:1.1558 dlossQ:1.0190 exploreP:0.6693\n",
      "Episode:226 meanR:15.7000 R:15.0000 rate:0.0300 gloss:1.1097 dloss:1.2666 glossQ:1.1539 dlossQ:1.0170 exploreP:0.6683\n",
      "Episode:227 meanR:15.6700 R:10.0000 rate:0.0200 gloss:1.1277 dloss:1.2858 glossQ:1.1538 dlossQ:0.9949 exploreP:0.6676\n",
      "Episode:228 meanR:15.6400 R:12.0000 rate:0.0240 gloss:1.1383 dloss:1.2925 glossQ:1.1666 dlossQ:1.0216 exploreP:0.6668\n",
      "Episode:229 meanR:15.5800 R:16.0000 rate:0.0320 gloss:1.1103 dloss:1.2638 glossQ:1.1655 dlossQ:1.0017 exploreP:0.6658\n",
      "Episode:230 meanR:15.6000 R:12.0000 rate:0.0240 gloss:1.1172 dloss:1.2692 glossQ:1.1556 dlossQ:1.0027 exploreP:0.6650\n",
      "Episode:231 meanR:15.5500 R:12.0000 rate:0.0240 gloss:1.1394 dloss:1.2841 glossQ:1.2092 dlossQ:1.0193 exploreP:0.6642\n",
      "Episode:232 meanR:15.5300 R:13.0000 rate:0.0260 gloss:1.1275 dloss:1.2776 glossQ:1.1532 dlossQ:1.0054 exploreP:0.6633\n",
      "Episode:233 meanR:15.5100 R:10.0000 rate:0.0200 gloss:1.1138 dloss:1.2649 glossQ:1.1587 dlossQ:0.9852 exploreP:0.6627\n",
      "Episode:234 meanR:15.4900 R:9.0000 rate:0.0180 gloss:1.1077 dloss:1.2617 glossQ:1.2597 dlossQ:1.0821 exploreP:0.6621\n",
      "Episode:235 meanR:15.3800 R:15.0000 rate:0.0300 gloss:1.1139 dloss:1.2612 glossQ:1.1526 dlossQ:0.9666 exploreP:0.6611\n",
      "Episode:236 meanR:15.4400 R:15.0000 rate:0.0300 gloss:1.1288 dloss:1.2773 glossQ:1.1578 dlossQ:0.9880 exploreP:0.6602\n",
      "Episode:237 meanR:15.4500 R:12.0000 rate:0.0240 gloss:1.1417 dloss:1.2894 glossQ:1.1653 dlossQ:0.9831 exploreP:0.6594\n",
      "Episode:238 meanR:15.4200 R:10.0000 rate:0.0200 gloss:1.1404 dloss:1.2878 glossQ:1.1438 dlossQ:0.9618 exploreP:0.6587\n",
      "Episode:239 meanR:15.3900 R:11.0000 rate:0.0220 gloss:1.1141 dloss:1.2598 glossQ:1.1780 dlossQ:0.9718 exploreP:0.6580\n",
      "Episode:240 meanR:15.3900 R:12.0000 rate:0.0240 gloss:1.0925 dloss:1.2471 glossQ:1.2022 dlossQ:1.0440 exploreP:0.6572\n",
      "Episode:241 meanR:15.4000 R:14.0000 rate:0.0280 gloss:1.1250 dloss:1.2693 glossQ:1.2456 dlossQ:1.0543 exploreP:0.6563\n",
      "Episode:242 meanR:15.1800 R:10.0000 rate:0.0200 gloss:1.0804 dloss:1.2328 glossQ:1.1846 dlossQ:1.0009 exploreP:0.6557\n",
      "Episode:243 meanR:15.0500 R:12.0000 rate:0.0240 gloss:1.1139 dloss:1.2610 glossQ:1.1513 dlossQ:0.9607 exploreP:0.6549\n",
      "Episode:244 meanR:14.9400 R:12.0000 rate:0.0240 gloss:1.1396 dloss:1.2825 glossQ:1.1546 dlossQ:0.9633 exploreP:0.6541\n",
      "Episode:245 meanR:14.9400 R:13.0000 rate:0.0260 gloss:1.1308 dloss:1.2762 glossQ:1.1783 dlossQ:0.9769 exploreP:0.6533\n",
      "Episode:246 meanR:14.9500 R:21.0000 rate:0.0420 gloss:1.1175 dloss:1.2656 glossQ:1.2262 dlossQ:1.0325 exploreP:0.6519\n",
      "Episode:247 meanR:14.9600 R:13.0000 rate:0.0260 gloss:1.1183 dloss:1.2617 glossQ:1.1667 dlossQ:0.9642 exploreP:0.6511\n",
      "Episode:248 meanR:14.9500 R:9.0000 rate:0.0180 gloss:1.1408 dloss:1.2878 glossQ:1.1526 dlossQ:0.9563 exploreP:0.6505\n",
      "Episode:249 meanR:14.7900 R:16.0000 rate:0.0320 gloss:1.1266 dloss:1.2706 glossQ:1.1541 dlossQ:0.9743 exploreP:0.6495\n",
      "Episode:250 meanR:14.7600 R:17.0000 rate:0.0340 gloss:1.1078 dloss:1.2584 glossQ:1.1673 dlossQ:0.9696 exploreP:0.6484\n",
      "Episode:251 meanR:14.6800 R:10.0000 rate:0.0200 gloss:1.1055 dloss:1.2522 glossQ:1.2137 dlossQ:1.0225 exploreP:0.6478\n",
      "Episode:252 meanR:14.5400 R:10.0000 rate:0.0200 gloss:1.0989 dloss:1.2480 glossQ:1.1799 dlossQ:0.9691 exploreP:0.6471\n",
      "Episode:253 meanR:14.5200 R:13.0000 rate:0.0260 gloss:1.1053 dloss:1.2465 glossQ:1.1697 dlossQ:0.9796 exploreP:0.6463\n",
      "Episode:254 meanR:14.3200 R:11.0000 rate:0.0220 gloss:1.1108 dloss:1.2548 glossQ:1.1733 dlossQ:0.9728 exploreP:0.6456\n",
      "Episode:255 meanR:14.3900 R:19.0000 rate:0.0380 gloss:1.1152 dloss:1.2540 glossQ:1.1629 dlossQ:0.9576 exploreP:0.6444\n",
      "Episode:256 meanR:14.3900 R:11.0000 rate:0.0220 gloss:1.0990 dloss:1.2463 glossQ:1.1689 dlossQ:0.9723 exploreP:0.6437\n",
      "Episode:257 meanR:14.3500 R:13.0000 rate:0.0260 gloss:1.0893 dloss:1.2330 glossQ:1.1818 dlossQ:0.9844 exploreP:0.6429\n",
      "Episode:258 meanR:14.3500 R:18.0000 rate:0.0360 gloss:1.1282 dloss:1.2677 glossQ:1.1573 dlossQ:0.9538 exploreP:0.6418\n",
      "Episode:259 meanR:14.2800 R:10.0000 rate:0.0200 gloss:1.1149 dloss:1.2554 glossQ:1.1718 dlossQ:0.9655 exploreP:0.6411\n",
      "Episode:260 meanR:14.3000 R:11.0000 rate:0.0220 gloss:1.1391 dloss:1.2852 glossQ:1.1555 dlossQ:0.9761 exploreP:0.6404\n",
      "Episode:261 meanR:14.2400 R:13.0000 rate:0.0260 gloss:1.1093 dloss:1.2515 glossQ:1.1593 dlossQ:0.9595 exploreP:0.6396\n",
      "Episode:262 meanR:13.9200 R:10.0000 rate:0.0200 gloss:1.1063 dloss:1.2503 glossQ:1.1535 dlossQ:0.9591 exploreP:0.6390\n",
      "Episode:263 meanR:14.0100 R:19.0000 rate:0.0380 gloss:1.1169 dloss:1.2592 glossQ:1.1669 dlossQ:0.9642 exploreP:0.6378\n",
      "Episode:264 meanR:13.9200 R:12.0000 rate:0.0240 gloss:1.0801 dloss:1.2187 glossQ:1.1680 dlossQ:0.9713 exploreP:0.6370\n",
      "Episode:265 meanR:13.9000 R:25.0000 rate:0.0500 gloss:1.1105 dloss:1.2515 glossQ:1.1894 dlossQ:0.9919 exploreP:0.6355\n",
      "Episode:266 meanR:13.9100 R:15.0000 rate:0.0300 gloss:1.1160 dloss:1.2531 glossQ:1.1655 dlossQ:0.9720 exploreP:0.6345\n",
      "Episode:267 meanR:13.8000 R:10.0000 rate:0.0200 gloss:1.1020 dloss:1.2459 glossQ:1.1496 dlossQ:0.9658 exploreP:0.6339\n",
      "Episode:268 meanR:13.7500 R:10.0000 rate:0.0200 gloss:1.1747 dloss:1.3013 glossQ:1.6828 dlossQ:1.4287 exploreP:0.6333\n",
      "Episode:269 meanR:13.7200 R:11.0000 rate:0.0220 gloss:1.0895 dloss:1.2385 glossQ:1.1811 dlossQ:1.0093 exploreP:0.6326\n",
      "Episode:270 meanR:13.7200 R:12.0000 rate:0.0240 gloss:1.1138 dloss:1.2596 glossQ:1.1634 dlossQ:0.9983 exploreP:0.6319\n",
      "Episode:271 meanR:13.5500 R:8.0000 rate:0.0160 gloss:1.1085 dloss:1.2515 glossQ:1.1566 dlossQ:0.9807 exploreP:0.6314\n",
      "Episode:272 meanR:13.5400 R:10.0000 rate:0.0200 gloss:1.1162 dloss:1.2621 glossQ:1.1789 dlossQ:0.9980 exploreP:0.6307\n",
      "Episode:273 meanR:13.5200 R:9.0000 rate:0.0180 gloss:1.1258 dloss:1.2548 glossQ:1.1731 dlossQ:0.9506 exploreP:0.6302\n",
      "Episode:274 meanR:13.5200 R:9.0000 rate:0.0180 gloss:1.0926 dloss:1.2376 glossQ:1.1902 dlossQ:1.0147 exploreP:0.6296\n",
      "Episode:275 meanR:13.6400 R:25.0000 rate:0.0500 gloss:1.1056 dloss:1.2487 glossQ:1.2002 dlossQ:1.0169 exploreP:0.6281\n",
      "Episode:276 meanR:13.6400 R:11.0000 rate:0.0220 gloss:1.0862 dloss:1.2326 glossQ:1.1680 dlossQ:1.0036 exploreP:0.6274\n",
      "Episode:277 meanR:13.6600 R:12.0000 rate:0.0240 gloss:1.1376 dloss:1.2854 glossQ:1.2261 dlossQ:1.0707 exploreP:0.6267\n",
      "Episode:278 meanR:13.7000 R:12.0000 rate:0.0240 gloss:1.1287 dloss:1.2766 glossQ:1.1542 dlossQ:1.0057 exploreP:0.6259\n",
      "Episode:279 meanR:13.7800 R:21.0000 rate:0.0420 gloss:1.1031 dloss:1.2493 glossQ:1.1636 dlossQ:1.0062 exploreP:0.6246\n",
      "Episode:280 meanR:13.7000 R:10.0000 rate:0.0200 gloss:1.1477 dloss:1.2947 glossQ:1.1819 dlossQ:1.0145 exploreP:0.6240\n"
     ]
    },
    {
     "name": "stdout",
     "output_type": "stream",
     "text": [
      "Episode:281 meanR:13.6100 R:9.0000 rate:0.0180 gloss:1.0908 dloss:1.2357 glossQ:1.2254 dlossQ:1.0698 exploreP:0.6235\n",
      "Episode:282 meanR:13.6100 R:10.0000 rate:0.0200 gloss:1.1208 dloss:1.2681 glossQ:1.1428 dlossQ:0.9916 exploreP:0.6228\n",
      "Episode:283 meanR:13.5900 R:10.0000 rate:0.0200 gloss:1.1108 dloss:1.2626 glossQ:1.1778 dlossQ:1.0397 exploreP:0.6222\n",
      "Episode:284 meanR:13.5400 R:9.0000 rate:0.0180 gloss:1.1069 dloss:1.2580 glossQ:1.1700 dlossQ:1.0426 exploreP:0.6217\n",
      "Episode:285 meanR:13.5300 R:10.0000 rate:0.0200 gloss:1.1120 dloss:1.2624 glossQ:1.1651 dlossQ:1.0420 exploreP:0.6211\n",
      "Episode:286 meanR:13.6000 R:15.0000 rate:0.0300 gloss:1.1745 dloss:1.3228 glossQ:1.6648 dlossQ:1.5237 exploreP:0.6202\n",
      "Episode:287 meanR:13.5900 R:14.0000 rate:0.0280 gloss:1.1099 dloss:1.2605 glossQ:1.1612 dlossQ:1.0262 exploreP:0.6193\n",
      "Episode:288 meanR:13.5200 R:11.0000 rate:0.0220 gloss:1.1308 dloss:1.2828 glossQ:1.1549 dlossQ:1.0381 exploreP:0.6186\n",
      "Episode:289 meanR:13.5000 R:12.0000 rate:0.0240 gloss:1.1004 dloss:1.2538 glossQ:1.1691 dlossQ:1.0449 exploreP:0.6179\n",
      "Episode:290 meanR:13.3800 R:12.0000 rate:0.0240 gloss:1.1275 dloss:1.2792 glossQ:1.1533 dlossQ:1.0369 exploreP:0.6172\n",
      "Episode:291 meanR:13.5000 R:23.0000 rate:0.0460 gloss:1.1151 dloss:1.2664 glossQ:1.1556 dlossQ:1.0386 exploreP:0.6158\n",
      "Episode:292 meanR:13.4800 R:11.0000 rate:0.0220 gloss:1.1069 dloss:1.2618 glossQ:1.1722 dlossQ:1.0649 exploreP:0.6151\n",
      "Episode:293 meanR:13.4800 R:15.0000 rate:0.0300 gloss:1.0869 dloss:1.2397 glossQ:1.2025 dlossQ:1.0902 exploreP:0.6142\n",
      "Episode:294 meanR:13.4900 R:14.0000 rate:0.0280 gloss:1.1231 dloss:1.2784 glossQ:1.1824 dlossQ:1.0800 exploreP:0.6134\n",
      "Episode:295 meanR:13.4900 R:13.0000 rate:0.0260 gloss:1.1265 dloss:1.2819 glossQ:1.1604 dlossQ:1.0769 exploreP:0.6126\n",
      "Episode:296 meanR:13.5000 R:10.0000 rate:0.0200 gloss:1.1052 dloss:1.2579 glossQ:1.1582 dlossQ:1.0533 exploreP:0.6120\n",
      "Episode:297 meanR:13.4500 R:13.0000 rate:0.0260 gloss:1.1567 dloss:1.3043 glossQ:1.1550 dlossQ:1.0377 exploreP:0.6112\n",
      "Episode:298 meanR:13.4200 R:11.0000 rate:0.0220 gloss:1.1073 dloss:1.2546 glossQ:1.2285 dlossQ:1.0955 exploreP:0.6105\n",
      "Episode:299 meanR:13.5100 R:20.0000 rate:0.0400 gloss:1.1322 dloss:1.2888 glossQ:1.1541 dlossQ:1.0677 exploreP:0.6093\n",
      "Episode:300 meanR:13.4600 R:14.0000 rate:0.0280 gloss:1.1553 dloss:1.2940 glossQ:1.3496 dlossQ:1.1662 exploreP:0.6085\n",
      "Episode:301 meanR:13.3200 R:10.0000 rate:0.0200 gloss:1.1101 dloss:1.2651 glossQ:1.1649 dlossQ:1.0652 exploreP:0.6079\n",
      "Episode:302 meanR:13.3000 R:10.0000 rate:0.0200 gloss:1.1077 dloss:1.2706 glossQ:1.1954 dlossQ:1.1241 exploreP:0.6073\n",
      "Episode:303 meanR:13.3000 R:11.0000 rate:0.0220 gloss:1.1466 dloss:1.3078 glossQ:1.1776 dlossQ:1.0932 exploreP:0.6066\n",
      "Episode:304 meanR:13.3100 R:14.0000 rate:0.0280 gloss:1.1091 dloss:1.2632 glossQ:1.1783 dlossQ:1.0847 exploreP:0.6058\n",
      "Episode:305 meanR:13.2700 R:14.0000 rate:0.0280 gloss:1.1491 dloss:1.3029 glossQ:1.2076 dlossQ:1.1082 exploreP:0.6050\n",
      "Episode:306 meanR:13.2900 R:13.0000 rate:0.0260 gloss:1.1271 dloss:1.2817 glossQ:1.1546 dlossQ:1.0621 exploreP:0.6042\n",
      "Episode:307 meanR:13.2600 R:11.0000 rate:0.0220 gloss:1.1346 dloss:1.2914 glossQ:1.1467 dlossQ:1.0502 exploreP:0.6035\n",
      "Episode:308 meanR:13.2700 R:14.0000 rate:0.0280 gloss:1.1244 dloss:1.2801 glossQ:1.1635 dlossQ:1.0452 exploreP:0.6027\n",
      "Episode:309 meanR:13.2200 R:13.0000 rate:0.0260 gloss:1.1142 dloss:1.2713 glossQ:1.1572 dlossQ:1.0529 exploreP:0.6019\n",
      "Episode:310 meanR:13.2100 R:11.0000 rate:0.0220 gloss:1.1091 dloss:1.2626 glossQ:1.1593 dlossQ:1.0562 exploreP:0.6013\n",
      "Episode:311 meanR:13.0500 R:11.0000 rate:0.0220 gloss:1.1337 dloss:1.2854 glossQ:1.1527 dlossQ:1.0449 exploreP:0.6006\n",
      "Episode:312 meanR:13.0200 R:12.0000 rate:0.0240 gloss:1.0930 dloss:1.2439 glossQ:1.2078 dlossQ:1.0984 exploreP:0.5999\n",
      "Episode:313 meanR:12.9300 R:9.0000 rate:0.0180 gloss:1.1006 dloss:1.2527 glossQ:1.1671 dlossQ:1.0477 exploreP:0.5994\n",
      "Episode:314 meanR:12.8700 R:12.0000 rate:0.0240 gloss:1.1088 dloss:1.2507 glossQ:1.1670 dlossQ:1.0241 exploreP:0.5987\n",
      "Episode:315 meanR:12.8600 R:15.0000 rate:0.0300 gloss:1.1180 dloss:1.2631 glossQ:1.1585 dlossQ:1.0326 exploreP:0.5978\n",
      "Episode:316 meanR:12.7600 R:10.0000 rate:0.0200 gloss:1.1234 dloss:1.2722 glossQ:1.1656 dlossQ:1.0448 exploreP:0.5972\n",
      "Episode:317 meanR:12.7100 R:13.0000 rate:0.0260 gloss:1.1295 dloss:1.2746 glossQ:1.1627 dlossQ:1.0351 exploreP:0.5965\n",
      "Episode:318 meanR:12.7400 R:14.0000 rate:0.0280 gloss:1.1300 dloss:1.2741 glossQ:1.2102 dlossQ:1.0636 exploreP:0.5956\n",
      "Episode:319 meanR:12.7700 R:13.0000 rate:0.0260 gloss:1.1144 dloss:1.2582 glossQ:1.1678 dlossQ:1.0225 exploreP:0.5949\n",
      "Episode:320 meanR:12.6800 R:14.0000 rate:0.0280 gloss:1.1350 dloss:1.2813 glossQ:1.1594 dlossQ:1.0210 exploreP:0.5941\n",
      "Episode:321 meanR:12.6800 R:10.0000 rate:0.0200 gloss:1.1187 dloss:1.2641 glossQ:1.1860 dlossQ:1.0342 exploreP:0.5935\n",
      "Episode:322 meanR:12.6500 R:9.0000 rate:0.0180 gloss:1.1149 dloss:1.2599 glossQ:1.1623 dlossQ:1.0094 exploreP:0.5930\n",
      "Episode:323 meanR:12.6600 R:11.0000 rate:0.0220 gloss:1.1013 dloss:1.2456 glossQ:1.1673 dlossQ:1.0114 exploreP:0.5923\n",
      "Episode:324 meanR:12.6800 R:14.0000 rate:0.0280 gloss:1.0734 dloss:1.2159 glossQ:1.2091 dlossQ:1.0424 exploreP:0.5915\n",
      "Episode:325 meanR:12.6800 R:13.0000 rate:0.0260 gloss:1.1022 dloss:1.2425 glossQ:1.1649 dlossQ:1.0027 exploreP:0.5907\n",
      "Episode:326 meanR:12.8000 R:27.0000 rate:0.0540 gloss:1.0968 dloss:1.2354 glossQ:1.1674 dlossQ:0.9966 exploreP:0.5892\n",
      "Episode:327 meanR:12.8800 R:18.0000 rate:0.0360 gloss:1.0916 dloss:1.2268 glossQ:1.1862 dlossQ:1.0053 exploreP:0.5881\n",
      "Episode:328 meanR:12.8600 R:10.0000 rate:0.0200 gloss:1.1365 dloss:nan glossQ:1.4046 dlossQ:1.1870 exploreP:0.5876\n",
      "Episode:329 meanR:12.8100 R:11.0000 rate:0.0220 gloss:1.0922 dloss:1.2270 glossQ:1.1729 dlossQ:0.9852 exploreP:0.5869\n",
      "Episode:330 meanR:12.7900 R:10.0000 rate:0.0200 gloss:1.0996 dloss:1.2315 glossQ:1.1754 dlossQ:0.9797 exploreP:0.5863\n",
      "Episode:331 meanR:12.9300 R:26.0000 rate:0.0520 gloss:1.0888 dloss:1.2240 glossQ:1.1880 dlossQ:0.9943 exploreP:0.5848\n",
      "Episode:332 meanR:12.8900 R:9.0000 rate:0.0180 gloss:1.0770 dloss:1.2094 glossQ:1.1870 dlossQ:0.9895 exploreP:0.5843\n",
      "Episode:333 meanR:12.9000 R:11.0000 rate:0.0220 gloss:1.0975 dloss:1.2271 glossQ:1.1673 dlossQ:0.9592 exploreP:0.5837\n",
      "Episode:334 meanR:12.9200 R:11.0000 rate:0.0220 gloss:1.1020 dloss:1.2341 glossQ:1.1554 dlossQ:0.9540 exploreP:0.5831\n",
      "Episode:335 meanR:12.8700 R:10.0000 rate:0.0200 gloss:1.0558 dloss:1.1842 glossQ:1.2109 dlossQ:0.9959 exploreP:0.5825\n",
      "Episode:336 meanR:12.8400 R:12.0000 rate:0.0240 gloss:1.0991 dloss:1.2289 glossQ:1.1861 dlossQ:0.9924 exploreP:0.5818\n",
      "Episode:337 meanR:12.8500 R:13.0000 rate:0.0260 gloss:1.0666 dloss:1.1992 glossQ:1.1850 dlossQ:0.9955 exploreP:0.5811\n",
      "Episode:338 meanR:12.8600 R:11.0000 rate:0.0220 gloss:1.0957 dloss:1.2245 glossQ:1.1726 dlossQ:0.9829 exploreP:0.5804\n",
      "Episode:339 meanR:12.8900 R:14.0000 rate:0.0280 gloss:1.1122 dloss:1.2358 glossQ:1.1646 dlossQ:0.9450 exploreP:0.5796\n",
      "Episode:340 meanR:12.9100 R:14.0000 rate:0.0280 gloss:1.0951 dloss:1.2239 glossQ:1.1792 dlossQ:0.9786 exploreP:0.5788\n",
      "Episode:341 meanR:12.8900 R:12.0000 rate:0.0240 gloss:1.1059 dloss:1.2414 glossQ:1.2136 dlossQ:1.0198 exploreP:0.5782\n",
      "Episode:342 meanR:12.9000 R:11.0000 rate:0.0220 gloss:1.0757 dloss:1.2084 glossQ:1.2058 dlossQ:1.0114 exploreP:0.5775\n",
      "Episode:343 meanR:12.9500 R:17.0000 rate:0.0340 gloss:1.0811 dloss:1.2126 glossQ:1.1802 dlossQ:0.9772 exploreP:0.5766\n",
      "Episode:344 meanR:12.9600 R:13.0000 rate:0.0260 gloss:1.0733 dloss:1.2004 glossQ:1.1931 dlossQ:0.9804 exploreP:0.5758\n",
      "Episode:345 meanR:12.9300 R:10.0000 rate:0.0200 gloss:1.0673 dloss:1.1954 glossQ:1.2063 dlossQ:1.0089 exploreP:0.5753\n",
      "Episode:346 meanR:12.8700 R:15.0000 rate:0.0300 gloss:1.0860 dloss:1.2165 glossQ:1.1817 dlossQ:0.9908 exploreP:0.5744\n",
      "Episode:347 meanR:12.9600 R:22.0000 rate:0.0440 gloss:1.0956 dloss:1.2289 glossQ:1.3017 dlossQ:1.1262 exploreP:0.5732\n",
      "Episode:348 meanR:12.9700 R:10.0000 rate:0.0200 gloss:1.0948 dloss:1.2225 glossQ:1.1854 dlossQ:0.9860 exploreP:0.5726\n",
      "Episode:349 meanR:12.9000 R:9.0000 rate:0.0180 gloss:1.0891 dloss:1.2222 glossQ:1.1825 dlossQ:0.9987 exploreP:0.5721\n",
      "Episode:350 meanR:12.8600 R:13.0000 rate:0.0260 gloss:1.1288 dloss:1.2624 glossQ:1.2850 dlossQ:1.1063 exploreP:0.5714\n"
     ]
    },
    {
     "name": "stdout",
     "output_type": "stream",
     "text": [
      "Episode:351 meanR:12.8700 R:11.0000 rate:0.0220 gloss:1.0700 dloss:1.2028 glossQ:1.2216 dlossQ:1.0432 exploreP:0.5708\n",
      "Episode:352 meanR:12.9700 R:20.0000 rate:0.0400 gloss:1.0849 dloss:1.2192 glossQ:1.2066 dlossQ:1.0342 exploreP:0.5696\n",
      "Episode:353 meanR:12.9900 R:15.0000 rate:0.0300 gloss:1.1108 dloss:1.2436 glossQ:1.2020 dlossQ:1.0268 exploreP:0.5688\n",
      "Episode:354 meanR:12.9800 R:10.0000 rate:0.0200 gloss:1.1027 dloss:1.2407 glossQ:1.1626 dlossQ:1.0034 exploreP:0.5682\n",
      "Episode:355 meanR:12.8800 R:9.0000 rate:0.0180 gloss:1.0857 dloss:1.2241 glossQ:1.1901 dlossQ:1.0321 exploreP:0.5677\n",
      "Episode:356 meanR:12.9000 R:13.0000 rate:0.0260 gloss:1.1126 dloss:1.2493 glossQ:1.1712 dlossQ:1.0050 exploreP:0.5670\n",
      "Episode:357 meanR:12.8900 R:12.0000 rate:0.0240 gloss:1.1180 dloss:1.2615 glossQ:1.1802 dlossQ:1.0280 exploreP:0.5664\n",
      "Episode:358 meanR:12.8100 R:10.0000 rate:0.0200 gloss:1.0932 dloss:1.2352 glossQ:1.1935 dlossQ:1.0388 exploreP:0.5658\n",
      "Episode:359 meanR:12.8700 R:16.0000 rate:0.0320 gloss:1.1116 dloss:1.2573 glossQ:1.1743 dlossQ:1.0423 exploreP:0.5649\n",
      "Episode:360 meanR:12.8700 R:11.0000 rate:0.0220 gloss:1.1055 dloss:1.2512 glossQ:1.1757 dlossQ:1.0362 exploreP:0.5643\n",
      "Episode:361 meanR:12.8400 R:10.0000 rate:0.0200 gloss:1.1363 dloss:1.2846 glossQ:1.1706 dlossQ:1.0386 exploreP:0.5637\n",
      "Episode:362 meanR:12.8400 R:10.0000 rate:0.0200 gloss:1.1088 dloss:1.2593 glossQ:1.1729 dlossQ:1.0484 exploreP:0.5632\n",
      "Episode:363 meanR:12.7700 R:12.0000 rate:0.0240 gloss:1.1183 dloss:1.2656 glossQ:1.2489 dlossQ:1.0962 exploreP:0.5625\n",
      "Episode:364 meanR:12.8800 R:23.0000 rate:0.0460 gloss:1.1185 dloss:1.2652 glossQ:1.1720 dlossQ:1.0427 exploreP:0.5613\n",
      "Episode:365 meanR:12.7300 R:10.0000 rate:0.0200 gloss:1.1325 dloss:1.2787 glossQ:1.1449 dlossQ:1.0105 exploreP:0.5607\n",
      "Episode:366 meanR:12.6700 R:9.0000 rate:0.0180 gloss:1.1209 dloss:1.2670 glossQ:1.1643 dlossQ:1.0334 exploreP:0.5602\n",
      "Episode:367 meanR:12.7000 R:13.0000 rate:0.0260 gloss:1.1585 dloss:1.3115 glossQ:1.1554 dlossQ:1.0287 exploreP:0.5595\n",
      "Episode:368 meanR:12.7200 R:12.0000 rate:0.0240 gloss:1.0983 dloss:1.2534 glossQ:1.1781 dlossQ:1.0661 exploreP:0.5588\n",
      "Episode:369 meanR:12.7500 R:14.0000 rate:0.0280 gloss:1.1019 dloss:1.2549 glossQ:1.1825 dlossQ:1.0565 exploreP:0.5581\n",
      "Episode:370 meanR:12.7800 R:15.0000 rate:0.0300 gloss:1.1073 dloss:1.2634 glossQ:1.1846 dlossQ:1.0747 exploreP:0.5572\n",
      "Episode:371 meanR:12.8700 R:17.0000 rate:0.0340 gloss:1.0838 dloss:1.2363 glossQ:1.1874 dlossQ:1.0730 exploreP:0.5563\n",
      "Episode:372 meanR:12.9000 R:13.0000 rate:0.0260 gloss:1.1246 dloss:1.2743 glossQ:1.1881 dlossQ:1.0806 exploreP:0.5556\n",
      "Episode:373 meanR:12.9600 R:15.0000 rate:0.0300 gloss:1.1114 dloss:1.2597 glossQ:1.1749 dlossQ:1.0662 exploreP:0.5548\n",
      "Episode:374 meanR:13.0000 R:13.0000 rate:0.0260 gloss:1.1814 dloss:1.3241 glossQ:1.1542 dlossQ:1.0165 exploreP:0.5541\n",
      "Episode:375 meanR:12.8800 R:13.0000 rate:0.0260 gloss:1.1254 dloss:1.2806 glossQ:1.1639 dlossQ:1.0576 exploreP:0.5534\n",
      "Episode:376 meanR:12.8900 R:12.0000 rate:0.0240 gloss:1.1051 dloss:1.2584 glossQ:1.1763 dlossQ:1.0515 exploreP:0.5527\n",
      "Episode:377 meanR:12.8800 R:11.0000 rate:0.0220 gloss:1.1393 dloss:1.2905 glossQ:1.1513 dlossQ:1.0189 exploreP:0.5521\n",
      "Episode:378 meanR:12.8800 R:12.0000 rate:0.0240 gloss:1.1395 dloss:1.2779 glossQ:1.5923 dlossQ:1.3857 exploreP:0.5515\n",
      "Episode:379 meanR:12.8800 R:21.0000 rate:0.0420 gloss:1.1309 dloss:1.2895 glossQ:1.1493 dlossQ:1.0411 exploreP:0.5503\n",
      "Episode:380 meanR:12.9600 R:18.0000 rate:0.0360 gloss:1.1402 dloss:1.2968 glossQ:1.1576 dlossQ:1.0376 exploreP:0.5494\n",
      "Episode:381 meanR:12.9500 R:8.0000 rate:0.0160 gloss:1.1136 dloss:1.2698 glossQ:1.1631 dlossQ:1.0424 exploreP:0.5489\n",
      "Episode:382 meanR:12.9600 R:11.0000 rate:0.0220 gloss:1.1295 dloss:1.2871 glossQ:1.1583 dlossQ:1.0376 exploreP:0.5483\n",
      "Episode:383 meanR:12.9500 R:9.0000 rate:0.0180 gloss:1.1473 dloss:1.3069 glossQ:1.2414 dlossQ:1.1354 exploreP:0.5479\n",
      "Episode:384 meanR:12.9500 R:9.0000 rate:0.0180 gloss:1.1024 dloss:1.2536 glossQ:1.1819 dlossQ:1.0478 exploreP:0.5474\n",
      "Episode:385 meanR:12.9500 R:10.0000 rate:0.0200 gloss:1.1100 dloss:1.2669 glossQ:1.1667 dlossQ:1.0487 exploreP:0.5468\n",
      "Episode:386 meanR:12.9300 R:13.0000 rate:0.0260 gloss:1.1336 dloss:1.2889 glossQ:1.1482 dlossQ:1.0323 exploreP:0.5461\n",
      "Episode:387 meanR:12.8800 R:9.0000 rate:0.0180 gloss:1.0927 dloss:1.2480 glossQ:1.1852 dlossQ:1.0814 exploreP:0.5457\n",
      "Episode:388 meanR:12.8600 R:9.0000 rate:0.0180 gloss:1.1230 dloss:1.2740 glossQ:1.1563 dlossQ:1.0344 exploreP:0.5452\n",
      "Episode:389 meanR:12.8300 R:9.0000 rate:0.0180 gloss:1.1290 dloss:1.2850 glossQ:1.1683 dlossQ:1.0506 exploreP:0.5447\n",
      "Episode:390 meanR:12.8000 R:9.0000 rate:0.0180 gloss:1.1152 dloss:1.2672 glossQ:1.1720 dlossQ:1.0311 exploreP:0.5442\n",
      "Episode:391 meanR:12.7000 R:13.0000 rate:0.0260 gloss:1.1150 dloss:1.2723 glossQ:1.1646 dlossQ:1.0462 exploreP:0.5435\n",
      "Episode:392 meanR:12.7100 R:12.0000 rate:0.0240 gloss:1.1152 dloss:1.2688 glossQ:1.1727 dlossQ:1.0502 exploreP:0.5429\n",
      "Episode:393 meanR:12.6600 R:10.0000 rate:0.0200 gloss:1.1367 dloss:1.2895 glossQ:1.1583 dlossQ:1.0391 exploreP:0.5424\n",
      "Episode:394 meanR:12.6200 R:10.0000 rate:0.0200 gloss:1.1073 dloss:1.2608 glossQ:1.1732 dlossQ:1.0525 exploreP:0.5418\n",
      "Episode:395 meanR:12.6000 R:11.0000 rate:0.0220 gloss:1.1147 dloss:1.2685 glossQ:1.1814 dlossQ:1.0663 exploreP:0.5412\n",
      "Episode:396 meanR:12.6500 R:15.0000 rate:0.0300 gloss:1.1082 dloss:1.2603 glossQ:1.1737 dlossQ:1.0444 exploreP:0.5404\n",
      "Episode:397 meanR:12.6800 R:16.0000 rate:0.0320 gloss:1.1157 dloss:1.2691 glossQ:1.2179 dlossQ:1.0846 exploreP:0.5396\n",
      "Episode:398 meanR:12.6800 R:11.0000 rate:0.0220 gloss:1.1122 dloss:1.2609 glossQ:1.1608 dlossQ:1.0335 exploreP:0.5390\n",
      "Episode:399 meanR:12.5900 R:11.0000 rate:0.0220 gloss:1.1043 dloss:1.2562 glossQ:1.1852 dlossQ:1.0417 exploreP:0.5384\n",
      "Episode:400 meanR:12.5500 R:10.0000 rate:0.0200 gloss:1.1002 dloss:1.2510 glossQ:1.1971 dlossQ:1.0706 exploreP:0.5379\n",
      "Episode:401 meanR:12.5500 R:10.0000 rate:0.0200 gloss:1.0967 dloss:1.2498 glossQ:1.1766 dlossQ:1.0483 exploreP:0.5374\n",
      "Episode:402 meanR:12.5600 R:11.0000 rate:0.0220 gloss:1.0922 dloss:1.2423 glossQ:1.1873 dlossQ:1.0518 exploreP:0.5368\n",
      "Episode:403 meanR:12.5700 R:12.0000 rate:0.0240 gloss:1.1246 dloss:1.2712 glossQ:1.1807 dlossQ:1.0386 exploreP:0.5362\n",
      "Episode:404 meanR:12.5500 R:12.0000 rate:0.0240 gloss:1.1184 dloss:1.2619 glossQ:1.1917 dlossQ:1.0436 exploreP:0.5355\n",
      "Episode:405 meanR:12.5300 R:12.0000 rate:0.0240 gloss:1.0878 dloss:1.2363 glossQ:1.1932 dlossQ:1.0518 exploreP:0.5349\n",
      "Episode:406 meanR:12.5500 R:15.0000 rate:0.0300 gloss:1.1060 dloss:1.2541 glossQ:1.1933 dlossQ:1.0535 exploreP:0.5341\n",
      "Episode:407 meanR:12.5300 R:9.0000 rate:0.0180 gloss:1.0746 dloss:1.2230 glossQ:1.2009 dlossQ:1.0593 exploreP:0.5336\n",
      "Episode:408 meanR:12.4800 R:9.0000 rate:0.0180 gloss:1.1136 dloss:1.2618 glossQ:1.1584 dlossQ:1.0133 exploreP:0.5332\n",
      "Episode:409 meanR:12.5200 R:17.0000 rate:0.0340 gloss:1.1307 dloss:1.2742 glossQ:1.1526 dlossQ:0.9926 exploreP:0.5323\n",
      "Episode:410 meanR:12.5300 R:12.0000 rate:0.0240 gloss:1.1511 dloss:1.2993 glossQ:1.1542 dlossQ:0.9966 exploreP:0.5317\n",
      "Episode:411 meanR:12.5400 R:12.0000 rate:0.0240 gloss:1.1180 dloss:1.2651 glossQ:1.1822 dlossQ:1.0288 exploreP:0.5310\n",
      "Episode:412 meanR:12.5400 R:12.0000 rate:0.0240 gloss:1.1435 dloss:1.2927 glossQ:1.1489 dlossQ:1.0055 exploreP:0.5304\n",
      "Episode:413 meanR:12.5600 R:11.0000 rate:0.0220 gloss:1.1115 dloss:1.2596 glossQ:1.1912 dlossQ:1.0325 exploreP:0.5298\n",
      "Episode:414 meanR:12.6000 R:16.0000 rate:0.0320 gloss:1.1122 dloss:1.2587 glossQ:1.1833 dlossQ:1.0145 exploreP:0.5290\n",
      "Episode:415 meanR:12.5500 R:10.0000 rate:0.0200 gloss:1.1014 dloss:1.2443 glossQ:1.1881 dlossQ:1.0130 exploreP:0.5285\n",
      "Episode:416 meanR:12.5400 R:9.0000 rate:0.0180 gloss:1.1252 dloss:1.2740 glossQ:1.1563 dlossQ:1.0027 exploreP:0.5280\n",
      "Episode:417 meanR:12.5600 R:15.0000 rate:0.0300 gloss:1.1125 dloss:1.2637 glossQ:1.1768 dlossQ:1.0196 exploreP:0.5272\n",
      "Episode:418 meanR:12.5500 R:13.0000 rate:0.0260 gloss:1.1151 dloss:1.2624 glossQ:1.1782 dlossQ:1.0164 exploreP:0.5266\n",
      "Episode:419 meanR:12.5100 R:9.0000 rate:0.0180 gloss:1.1325 dloss:1.2762 glossQ:1.1522 dlossQ:0.9836 exploreP:0.5261\n",
      "Episode:420 meanR:12.5800 R:21.0000 rate:0.0420 gloss:1.1053 dloss:1.2523 glossQ:1.1750 dlossQ:1.0108 exploreP:0.5250\n"
     ]
    },
    {
     "name": "stdout",
     "output_type": "stream",
     "text": [
      "Episode:421 meanR:12.5600 R:8.0000 rate:0.0160 gloss:1.1440 dloss:1.2841 glossQ:1.1590 dlossQ:0.9720 exploreP:0.5246\n",
      "Episode:422 meanR:12.5700 R:10.0000 rate:0.0200 gloss:1.0990 dloss:1.2451 glossQ:1.1851 dlossQ:1.0130 exploreP:0.5241\n",
      "Episode:423 meanR:12.6200 R:16.0000 rate:0.0320 gloss:1.0991 dloss:1.2488 glossQ:1.1784 dlossQ:1.0156 exploreP:0.5233\n",
      "Episode:424 meanR:12.6100 R:13.0000 rate:0.0260 gloss:1.1427 dloss:1.2846 glossQ:1.1619 dlossQ:0.9884 exploreP:0.5226\n",
      "Episode:425 meanR:12.5800 R:10.0000 rate:0.0200 gloss:1.1136 dloss:1.2586 glossQ:1.1647 dlossQ:1.0080 exploreP:0.5221\n",
      "Episode:426 meanR:12.4300 R:12.0000 rate:0.0240 gloss:1.1213 dloss:1.2654 glossQ:1.1932 dlossQ:1.0393 exploreP:0.5215\n",
      "Episode:427 meanR:12.3700 R:12.0000 rate:0.0240 gloss:1.1157 dloss:1.2570 glossQ:1.2860 dlossQ:1.1143 exploreP:0.5209\n",
      "Episode:428 meanR:12.4000 R:13.0000 rate:0.0260 gloss:1.1162 dloss:1.2634 glossQ:1.1693 dlossQ:1.0142 exploreP:0.5202\n",
      "Episode:429 meanR:12.3800 R:9.0000 rate:0.0180 gloss:1.1098 dloss:1.2588 glossQ:1.1843 dlossQ:1.0257 exploreP:0.5197\n",
      "Episode:430 meanR:12.4000 R:12.0000 rate:0.0240 gloss:1.1105 dloss:1.2543 glossQ:1.2006 dlossQ:1.0291 exploreP:0.5191\n",
      "Episode:431 meanR:12.2200 R:8.0000 rate:0.0160 gloss:1.0861 dloss:1.2355 glossQ:1.2028 dlossQ:1.0346 exploreP:0.5187\n",
      "Episode:432 meanR:12.2400 R:11.0000 rate:0.0220 gloss:1.0897 dloss:1.2377 glossQ:1.1870 dlossQ:1.0286 exploreP:0.5182\n",
      "Episode:433 meanR:12.2300 R:10.0000 rate:0.0200 gloss:1.1084 dloss:1.2552 glossQ:1.1790 dlossQ:1.0167 exploreP:0.5177\n",
      "Episode:434 meanR:12.2200 R:10.0000 rate:0.0200 gloss:1.0989 dloss:1.2455 glossQ:1.1753 dlossQ:1.0315 exploreP:0.5171\n",
      "Episode:435 meanR:12.2200 R:10.0000 rate:0.0200 gloss:1.1163 dloss:1.2568 glossQ:1.1650 dlossQ:0.9947 exploreP:0.5166\n",
      "Episode:436 meanR:12.2300 R:13.0000 rate:0.0260 gloss:1.1212 dloss:1.2651 glossQ:1.1627 dlossQ:1.0035 exploreP:0.5160\n",
      "Episode:437 meanR:12.2200 R:12.0000 rate:0.0240 gloss:1.1117 dloss:1.2578 glossQ:1.1779 dlossQ:1.0101 exploreP:0.5154\n",
      "Episode:438 meanR:12.3800 R:27.0000 rate:0.0540 gloss:1.0937 dloss:1.2383 glossQ:1.1874 dlossQ:1.0235 exploreP:0.5140\n",
      "Episode:439 meanR:12.3500 R:11.0000 rate:0.0220 gloss:1.1343 dloss:1.2769 glossQ:1.1690 dlossQ:0.9980 exploreP:0.5135\n",
      "Episode:440 meanR:12.3200 R:11.0000 rate:0.0220 gloss:1.1030 dloss:1.2492 glossQ:1.1777 dlossQ:1.0432 exploreP:0.5129\n",
      "Episode:441 meanR:12.3200 R:12.0000 rate:0.0240 gloss:1.1188 dloss:1.2664 glossQ:1.1818 dlossQ:1.0246 exploreP:0.5123\n",
      "Episode:442 meanR:12.3200 R:11.0000 rate:0.0220 gloss:1.0872 dloss:1.2332 glossQ:1.1895 dlossQ:1.0475 exploreP:0.5118\n",
      "Episode:443 meanR:12.3000 R:15.0000 rate:0.0300 gloss:1.1122 dloss:1.2580 glossQ:1.1778 dlossQ:1.0490 exploreP:0.5110\n",
      "Episode:444 meanR:12.3100 R:14.0000 rate:0.0280 gloss:1.1188 dloss:1.2639 glossQ:1.1897 dlossQ:1.0488 exploreP:0.5103\n",
      "Episode:445 meanR:12.3300 R:12.0000 rate:0.0240 gloss:1.1058 dloss:1.2515 glossQ:1.1725 dlossQ:1.0231 exploreP:0.5097\n",
      "Episode:446 meanR:12.2800 R:10.0000 rate:0.0200 gloss:1.0864 dloss:1.2363 glossQ:1.2066 dlossQ:1.0700 exploreP:0.5092\n",
      "Episode:447 meanR:12.1500 R:9.0000 rate:0.0180 gloss:1.1314 dloss:1.2800 glossQ:1.1547 dlossQ:1.0375 exploreP:0.5087\n",
      "Episode:448 meanR:12.1600 R:11.0000 rate:0.0220 gloss:1.1323 dloss:1.2790 glossQ:1.1616 dlossQ:1.0312 exploreP:0.5082\n",
      "Episode:449 meanR:12.1800 R:11.0000 rate:0.0220 gloss:1.1104 dloss:1.2594 glossQ:1.1715 dlossQ:1.0369 exploreP:0.5077\n",
      "Episode:450 meanR:12.1400 R:9.0000 rate:0.0180 gloss:1.1168 dloss:1.2696 glossQ:1.1583 dlossQ:1.0309 exploreP:0.5072\n",
      "Episode:451 meanR:12.1900 R:16.0000 rate:0.0320 gloss:1.1375 dloss:1.2884 glossQ:1.1626 dlossQ:1.0312 exploreP:0.5064\n",
      "Episode:452 meanR:12.0900 R:10.0000 rate:0.0200 gloss:1.0991 dloss:1.2535 glossQ:1.2057 dlossQ:1.0902 exploreP:0.5059\n",
      "Episode:453 meanR:12.0800 R:14.0000 rate:0.0280 gloss:1.1044 dloss:1.2531 glossQ:1.1734 dlossQ:1.0364 exploreP:0.5052\n",
      "Episode:454 meanR:12.0900 R:11.0000 rate:0.0220 gloss:1.0873 dloss:1.2398 glossQ:1.2077 dlossQ:1.1032 exploreP:0.5047\n",
      "Episode:455 meanR:12.0900 R:9.0000 rate:0.0180 gloss:1.1115 dloss:1.2630 glossQ:1.1707 dlossQ:1.0525 exploreP:0.5042\n",
      "Episode:456 meanR:12.0800 R:12.0000 rate:0.0240 gloss:1.0996 dloss:1.2480 glossQ:1.1768 dlossQ:1.0649 exploreP:0.5036\n",
      "Episode:457 meanR:12.1200 R:16.0000 rate:0.0320 gloss:1.0976 dloss:1.2483 glossQ:1.1982 dlossQ:1.0869 exploreP:0.5029\n",
      "Episode:458 meanR:12.1800 R:16.0000 rate:0.0320 gloss:1.1059 dloss:1.2521 glossQ:1.1841 dlossQ:1.0538 exploreP:0.5021\n",
      "Episode:459 meanR:12.1600 R:14.0000 rate:0.0280 gloss:1.1099 dloss:1.2573 glossQ:1.1765 dlossQ:1.0474 exploreP:0.5014\n",
      "Episode:460 meanR:12.1400 R:9.0000 rate:0.0180 gloss:1.1152 dloss:1.2645 glossQ:1.1910 dlossQ:1.0744 exploreP:0.5009\n",
      "Episode:461 meanR:12.1500 R:11.0000 rate:0.0220 gloss:1.0998 dloss:1.2403 glossQ:1.2189 dlossQ:1.0745 exploreP:0.5004\n",
      "Episode:462 meanR:12.1600 R:11.0000 rate:0.0220 gloss:1.0757 dloss:1.2251 glossQ:1.2005 dlossQ:1.0939 exploreP:0.4999\n",
      "Episode:463 meanR:12.1200 R:8.0000 rate:0.0160 gloss:1.0734 dloss:1.2218 glossQ:1.1885 dlossQ:1.0822 exploreP:0.4995\n",
      "Episode:464 meanR:12.0500 R:16.0000 rate:0.0320 gloss:1.1003 dloss:1.2452 glossQ:1.1831 dlossQ:1.0532 exploreP:0.4987\n",
      "Episode:465 meanR:12.0500 R:10.0000 rate:0.0200 gloss:1.1482 dloss:1.2959 glossQ:1.4044 dlossQ:1.2962 exploreP:0.4982\n",
      "Episode:466 meanR:12.1100 R:15.0000 rate:0.0300 gloss:1.1006 dloss:1.2430 glossQ:1.1910 dlossQ:1.0636 exploreP:0.4975\n",
      "Episode:467 meanR:12.0800 R:10.0000 rate:0.0200 gloss:1.1041 dloss:1.2518 glossQ:1.1642 dlossQ:1.0493 exploreP:0.4970\n",
      "Episode:468 meanR:12.0600 R:10.0000 rate:0.0200 gloss:1.1474 dloss:1.2885 glossQ:1.4747 dlossQ:1.3138 exploreP:0.4965\n",
      "Episode:469 meanR:12.0400 R:12.0000 rate:0.0240 gloss:1.1066 dloss:1.2517 glossQ:1.1863 dlossQ:1.0518 exploreP:0.4959\n",
      "Episode:470 meanR:11.9800 R:9.0000 rate:0.0180 gloss:1.1226 dloss:1.2686 glossQ:1.1630 dlossQ:1.0468 exploreP:0.4955\n",
      "Episode:471 meanR:11.9500 R:14.0000 rate:0.0280 gloss:1.1061 dloss:1.2524 glossQ:1.1753 dlossQ:1.0516 exploreP:0.4948\n",
      "Episode:472 meanR:11.9100 R:9.0000 rate:0.0180 gloss:1.1154 dloss:1.2602 glossQ:1.1826 dlossQ:1.0457 exploreP:0.4943\n",
      "Episode:473 meanR:11.8600 R:10.0000 rate:0.0200 gloss:1.0863 dloss:1.2356 glossQ:1.2126 dlossQ:1.1036 exploreP:0.4939\n",
      "Episode:474 meanR:11.8200 R:9.0000 rate:0.0180 gloss:1.1136 dloss:1.2569 glossQ:1.1807 dlossQ:1.0456 exploreP:0.4934\n",
      "Episode:475 meanR:11.7900 R:10.0000 rate:0.0200 gloss:1.1058 dloss:1.2550 glossQ:1.1655 dlossQ:1.0416 exploreP:0.4929\n",
      "Episode:476 meanR:11.7600 R:9.0000 rate:0.0180 gloss:1.0866 dloss:1.2304 glossQ:1.1813 dlossQ:1.0492 exploreP:0.4925\n",
      "Episode:477 meanR:11.7800 R:13.0000 rate:0.0260 gloss:1.1276 dloss:1.2745 glossQ:1.1545 dlossQ:1.0282 exploreP:0.4919\n",
      "Episode:478 meanR:11.7800 R:12.0000 rate:0.0240 gloss:1.1071 dloss:1.2534 glossQ:1.1747 dlossQ:1.0455 exploreP:0.4913\n",
      "Episode:479 meanR:11.6700 R:10.0000 rate:0.0200 gloss:1.1254 dloss:1.2663 glossQ:1.1578 dlossQ:1.0286 exploreP:0.4908\n",
      "Episode:480 meanR:11.6300 R:14.0000 rate:0.0280 gloss:1.1247 dloss:1.2680 glossQ:1.1939 dlossQ:1.0662 exploreP:0.4902\n",
      "Episode:481 meanR:11.6800 R:13.0000 rate:0.0260 gloss:1.1207 dloss:1.2665 glossQ:1.2473 dlossQ:1.1025 exploreP:0.4895\n",
      "Episode:482 meanR:11.6700 R:10.0000 rate:0.0200 gloss:1.0792 dloss:1.2273 glossQ:1.1939 dlossQ:1.0670 exploreP:0.4890\n",
      "Episode:483 meanR:11.7500 R:17.0000 rate:0.0340 gloss:1.0992 dloss:1.2455 glossQ:1.1750 dlossQ:1.0354 exploreP:0.4882\n",
      "Episode:484 meanR:11.8000 R:14.0000 rate:0.0280 gloss:1.0955 dloss:1.2392 glossQ:1.1955 dlossQ:1.0619 exploreP:0.4876\n",
      "Episode:485 meanR:11.8000 R:10.0000 rate:0.0200 gloss:1.1094 dloss:1.2556 glossQ:1.1798 dlossQ:1.0415 exploreP:0.4871\n",
      "Episode:486 meanR:11.7600 R:9.0000 rate:0.0180 gloss:1.1258 dloss:1.2691 glossQ:1.1849 dlossQ:1.0503 exploreP:0.4867\n",
      "Episode:487 meanR:11.8200 R:15.0000 rate:0.0300 gloss:1.0887 dloss:1.2320 glossQ:1.2578 dlossQ:1.1309 exploreP:0.4859\n",
      "Episode:488 meanR:11.8100 R:8.0000 rate:0.0160 gloss:1.0831 dloss:1.2269 glossQ:1.1796 dlossQ:1.0364 exploreP:0.4856\n",
      "Episode:489 meanR:11.8300 R:11.0000 rate:0.0220 gloss:1.1265 dloss:1.2668 glossQ:1.1684 dlossQ:1.0223 exploreP:0.4850\n",
      "Episode:490 meanR:11.8500 R:11.0000 rate:0.0220 gloss:1.1272 dloss:1.2684 glossQ:1.1668 dlossQ:1.0121 exploreP:0.4845\n"
     ]
    },
    {
     "name": "stdout",
     "output_type": "stream",
     "text": [
      "Episode:491 meanR:11.8300 R:11.0000 rate:0.0220 gloss:1.1478 dloss:1.2879 glossQ:1.1539 dlossQ:0.9957 exploreP:0.4840\n",
      "Episode:492 meanR:11.8200 R:11.0000 rate:0.0220 gloss:1.1108 dloss:1.2537 glossQ:1.1747 dlossQ:1.0114 exploreP:0.4835\n",
      "Episode:493 meanR:11.8500 R:13.0000 rate:0.0260 gloss:1.1049 dloss:1.2498 glossQ:1.1859 dlossQ:1.0434 exploreP:0.4829\n",
      "Episode:494 meanR:11.9700 R:22.0000 rate:0.0440 gloss:1.1281 dloss:1.2702 glossQ:1.1596 dlossQ:1.0004 exploreP:0.4818\n",
      "Episode:495 meanR:11.9600 R:10.0000 rate:0.0200 gloss:1.1108 dloss:1.2498 glossQ:1.1735 dlossQ:0.9975 exploreP:0.4814\n",
      "Episode:496 meanR:11.9000 R:9.0000 rate:0.0180 gloss:1.1016 dloss:1.2421 glossQ:1.1647 dlossQ:1.0001 exploreP:0.4809\n",
      "Episode:497 meanR:11.8500 R:11.0000 rate:0.0220 gloss:1.0836 dloss:1.2253 glossQ:1.1951 dlossQ:1.0268 exploreP:0.4804\n",
      "Episode:498 meanR:11.8600 R:12.0000 rate:0.0240 gloss:1.1322 dloss:1.2682 glossQ:1.2357 dlossQ:1.0605 exploreP:0.4798\n",
      "Episode:499 meanR:11.8700 R:12.0000 rate:0.0240 gloss:1.1011 dloss:1.2438 glossQ:1.1706 dlossQ:1.0099 exploreP:0.4793\n",
      "Episode:500 meanR:11.8800 R:11.0000 rate:0.0220 gloss:1.1103 dloss:1.2495 glossQ:1.1860 dlossQ:1.0092 exploreP:0.4788\n",
      "Episode:501 meanR:11.9300 R:15.0000 rate:0.0300 gloss:1.0832 dloss:1.2234 glossQ:1.1943 dlossQ:1.0228 exploreP:0.4781\n",
      "Episode:502 meanR:11.9200 R:10.0000 rate:0.0200 gloss:1.1360 dloss:1.2648 glossQ:1.1588 dlossQ:0.9501 exploreP:0.4776\n",
      "Episode:503 meanR:11.8900 R:9.0000 rate:0.0180 gloss:1.0988 dloss:1.2360 glossQ:1.1989 dlossQ:1.0215 exploreP:0.4772\n",
      "Episode:504 meanR:11.9000 R:13.0000 rate:0.0260 gloss:1.1007 dloss:1.2267 glossQ:1.3310 dlossQ:1.0982 exploreP:0.4766\n",
      "Episode:505 meanR:11.9200 R:14.0000 rate:0.0280 gloss:1.1003 dloss:1.2393 glossQ:1.1843 dlossQ:1.0223 exploreP:0.4759\n",
      "Episode:506 meanR:11.8600 R:9.0000 rate:0.0180 gloss:1.1284 dloss:1.2637 glossQ:1.1692 dlossQ:0.9922 exploreP:0.4755\n",
      "Episode:507 meanR:11.8800 R:11.0000 rate:0.0220 gloss:1.1029 dloss:1.2413 glossQ:1.2386 dlossQ:1.0723 exploreP:0.4750\n",
      "Episode:508 meanR:11.8900 R:10.0000 rate:0.0200 gloss:1.1137 dloss:1.2570 glossQ:1.1856 dlossQ:1.0312 exploreP:0.4745\n",
      "Episode:509 meanR:11.8300 R:11.0000 rate:0.0220 gloss:1.0793 dloss:1.2193 glossQ:1.2029 dlossQ:1.0371 exploreP:0.4740\n",
      "Episode:510 meanR:11.8300 R:12.0000 rate:0.0240 gloss:1.0919 dloss:1.2341 glossQ:1.1815 dlossQ:1.0254 exploreP:0.4735\n",
      "Episode:511 meanR:11.8300 R:12.0000 rate:0.0240 gloss:1.1246 dloss:1.2650 glossQ:1.1744 dlossQ:1.0160 exploreP:0.4729\n",
      "Episode:512 meanR:11.8500 R:14.0000 rate:0.0280 gloss:1.0891 dloss:1.2285 glossQ:1.1983 dlossQ:1.0404 exploreP:0.4722\n",
      "Episode:513 meanR:11.8700 R:13.0000 rate:0.0260 gloss:1.0878 dloss:1.2257 glossQ:1.1893 dlossQ:1.0246 exploreP:0.4716\n",
      "Episode:514 meanR:11.8300 R:12.0000 rate:0.0240 gloss:1.0961 dloss:1.2356 glossQ:1.1816 dlossQ:1.0252 exploreP:0.4711\n",
      "Episode:515 meanR:11.8500 R:12.0000 rate:0.0240 gloss:1.1094 dloss:1.2503 glossQ:1.1760 dlossQ:1.0263 exploreP:0.4705\n",
      "Episode:516 meanR:11.8700 R:11.0000 rate:0.0220 gloss:1.0993 dloss:1.2396 glossQ:1.1978 dlossQ:1.0448 exploreP:0.4700\n",
      "Episode:517 meanR:11.8100 R:9.0000 rate:0.0180 gloss:1.0899 dloss:1.2351 glossQ:1.2011 dlossQ:1.0637 exploreP:0.4696\n",
      "Episode:518 meanR:11.7700 R:9.0000 rate:0.0180 gloss:1.0893 dloss:1.2296 glossQ:1.1865 dlossQ:1.0366 exploreP:0.4692\n",
      "Episode:519 meanR:11.8000 R:12.0000 rate:0.0240 gloss:1.0824 dloss:1.2266 glossQ:1.2004 dlossQ:1.0579 exploreP:0.4687\n",
      "Episode:520 meanR:11.7500 R:16.0000 rate:0.0320 gloss:1.1211 dloss:1.2570 glossQ:1.1814 dlossQ:1.0283 exploreP:0.4679\n",
      "Episode:521 meanR:11.8000 R:13.0000 rate:0.0260 gloss:1.1247 dloss:1.2606 glossQ:1.1736 dlossQ:1.0203 exploreP:0.4673\n",
      "Episode:522 meanR:11.8000 R:10.0000 rate:0.0200 gloss:1.0765 dloss:1.2222 glossQ:1.2161 dlossQ:1.0799 exploreP:0.4669\n",
      "Episode:523 meanR:11.7400 R:10.0000 rate:0.0200 gloss:1.1491 dloss:1.2946 glossQ:1.1612 dlossQ:1.0263 exploreP:0.4664\n",
      "Episode:524 meanR:11.7200 R:11.0000 rate:0.0220 gloss:1.1119 dloss:1.2523 glossQ:1.1816 dlossQ:1.0222 exploreP:0.4659\n",
      "Episode:525 meanR:11.7500 R:13.0000 rate:0.0260 gloss:1.1317 dloss:1.2751 glossQ:1.1698 dlossQ:1.0244 exploreP:0.4653\n",
      "Episode:526 meanR:11.7400 R:11.0000 rate:0.0220 gloss:1.0964 dloss:1.2445 glossQ:1.1841 dlossQ:1.0453 exploreP:0.4648\n",
      "Episode:527 meanR:11.7500 R:13.0000 rate:0.0260 gloss:1.1223 dloss:1.2640 glossQ:1.1772 dlossQ:1.0230 exploreP:0.4642\n",
      "Episode:528 meanR:11.7300 R:11.0000 rate:0.0220 gloss:1.0910 dloss:1.2360 glossQ:1.1967 dlossQ:1.0665 exploreP:0.4637\n",
      "Episode:529 meanR:11.7600 R:12.0000 rate:0.0240 gloss:1.1076 dloss:1.2528 glossQ:1.1814 dlossQ:1.0419 exploreP:0.4632\n",
      "Episode:530 meanR:11.7400 R:10.0000 rate:0.0200 gloss:1.1472 dloss:1.3019 glossQ:1.2370 dlossQ:1.1080 exploreP:0.4627\n",
      "Episode:531 meanR:11.7400 R:8.0000 rate:0.0160 gloss:1.1289 dloss:1.2801 glossQ:1.1647 dlossQ:1.0476 exploreP:0.4624\n",
      "Episode:532 meanR:11.7400 R:11.0000 rate:0.0220 gloss:1.1040 dloss:1.2454 glossQ:1.1947 dlossQ:1.0391 exploreP:0.4619\n",
      "Episode:533 meanR:11.7300 R:9.0000 rate:0.0180 gloss:1.0831 dloss:1.2337 glossQ:1.1850 dlossQ:1.0663 exploreP:0.4615\n",
      "Episode:534 meanR:11.7300 R:10.0000 rate:0.0200 gloss:1.0875 dloss:1.2368 glossQ:1.2468 dlossQ:1.1115 exploreP:0.4610\n",
      "Episode:535 meanR:11.7500 R:12.0000 rate:0.0240 gloss:1.1253 dloss:1.2712 glossQ:1.1587 dlossQ:1.0356 exploreP:0.4605\n",
      "Episode:536 meanR:11.7400 R:12.0000 rate:0.0240 gloss:1.1312 dloss:1.2774 glossQ:1.1735 dlossQ:1.0466 exploreP:0.4599\n",
      "Episode:537 meanR:11.7900 R:17.0000 rate:0.0340 gloss:1.1019 dloss:1.2503 glossQ:1.1944 dlossQ:1.0730 exploreP:0.4592\n",
      "Episode:538 meanR:11.6700 R:15.0000 rate:0.0300 gloss:1.1282 dloss:1.2724 glossQ:1.1674 dlossQ:1.0321 exploreP:0.4585\n",
      "Episode:539 meanR:11.6700 R:11.0000 rate:0.0220 gloss:1.1135 dloss:1.2673 glossQ:1.1735 dlossQ:1.0597 exploreP:0.4580\n",
      "Episode:540 meanR:11.6700 R:11.0000 rate:0.0220 gloss:1.1022 dloss:1.2538 glossQ:1.1874 dlossQ:1.0812 exploreP:0.4575\n",
      "Episode:541 meanR:11.6900 R:14.0000 rate:0.0280 gloss:1.1498 dloss:1.3025 glossQ:1.1622 dlossQ:1.0370 exploreP:0.4569\n",
      "Episode:542 meanR:11.6900 R:11.0000 rate:0.0220 gloss:1.1049 dloss:1.2562 glossQ:1.1688 dlossQ:1.0506 exploreP:0.4564\n",
      "Episode:543 meanR:11.6300 R:9.0000 rate:0.0180 gloss:1.1164 dloss:1.2657 glossQ:1.1920 dlossQ:1.0587 exploreP:0.4560\n",
      "Episode:544 meanR:11.6000 R:11.0000 rate:0.0220 gloss:1.1188 dloss:1.2651 glossQ:1.1744 dlossQ:1.0265 exploreP:0.4555\n",
      "Episode:545 meanR:11.6000 R:12.0000 rate:0.0240 gloss:1.1141 dloss:1.2634 glossQ:1.1812 dlossQ:1.0498 exploreP:0.4550\n",
      "Episode:546 meanR:11.6000 R:10.0000 rate:0.0200 gloss:1.1639 dloss:nan glossQ:1.8043 dlossQ:1.5981 exploreP:0.4545\n",
      "Episode:547 meanR:11.6100 R:10.0000 rate:0.0200 gloss:1.1500 dloss:1.3015 glossQ:1.1713 dlossQ:1.0458 exploreP:0.4541\n",
      "Episode:548 meanR:11.6500 R:15.0000 rate:0.0300 gloss:1.1384 dloss:1.2923 glossQ:1.1695 dlossQ:1.0308 exploreP:0.4534\n",
      "Episode:549 meanR:11.6900 R:15.0000 rate:0.0300 gloss:1.1350 dloss:1.2895 glossQ:1.1608 dlossQ:1.0246 exploreP:0.4527\n",
      "Episode:550 meanR:11.7000 R:10.0000 rate:0.0200 gloss:1.1182 dloss:1.2727 glossQ:1.1655 dlossQ:1.0350 exploreP:0.4523\n",
      "Episode:551 meanR:11.6600 R:12.0000 rate:0.0240 gloss:1.1146 dloss:1.2709 glossQ:1.2043 dlossQ:1.0714 exploreP:0.4518\n",
      "Episode:552 meanR:11.6600 R:10.0000 rate:0.0200 gloss:1.1229 dloss:1.2744 glossQ:1.1897 dlossQ:1.0625 exploreP:0.4513\n",
      "Episode:553 meanR:11.6400 R:12.0000 rate:0.0240 gloss:1.1113 dloss:1.2627 glossQ:1.2212 dlossQ:1.0949 exploreP:0.4508\n",
      "Episode:554 meanR:11.6300 R:10.0000 rate:0.0200 gloss:1.1196 dloss:1.2760 glossQ:1.1759 dlossQ:1.0433 exploreP:0.4504\n",
      "Episode:555 meanR:11.6300 R:9.0000 rate:0.0180 gloss:1.1421 dloss:1.2930 glossQ:1.1591 dlossQ:1.0262 exploreP:0.4500\n",
      "Episode:556 meanR:11.5900 R:8.0000 rate:0.0160 gloss:1.1501 dloss:1.3002 glossQ:1.1768 dlossQ:1.0355 exploreP:0.4496\n",
      "Episode:557 meanR:11.5400 R:11.0000 rate:0.0220 gloss:1.1301 dloss:1.2844 glossQ:1.1528 dlossQ:1.0164 exploreP:0.4491\n",
      "Episode:558 meanR:11.5100 R:13.0000 rate:0.0260 gloss:1.1177 dloss:1.2761 glossQ:1.1759 dlossQ:1.0525 exploreP:0.4486\n",
      "Episode:559 meanR:11.4900 R:12.0000 rate:0.0240 gloss:1.1047 dloss:1.2565 glossQ:1.1901 dlossQ:1.0512 exploreP:0.4480\n",
      "Episode:560 meanR:11.5400 R:14.0000 rate:0.0280 gloss:1.1041 dloss:1.2558 glossQ:1.1754 dlossQ:1.0380 exploreP:0.4474\n"
     ]
    },
    {
     "name": "stdout",
     "output_type": "stream",
     "text": [
      "Episode:561 meanR:11.5600 R:13.0000 rate:0.0260 gloss:1.1076 dloss:1.2583 glossQ:1.1761 dlossQ:1.0334 exploreP:0.4469\n",
      "Episode:562 meanR:11.5400 R:9.0000 rate:0.0180 gloss:1.1322 dloss:1.2795 glossQ:1.1648 dlossQ:1.0279 exploreP:0.4465\n",
      "Episode:563 meanR:11.5800 R:12.0000 rate:0.0240 gloss:1.0871 dloss:1.2370 glossQ:1.2101 dlossQ:1.0684 exploreP:0.4459\n",
      "Episode:564 meanR:11.5400 R:12.0000 rate:0.0240 gloss:1.1178 dloss:1.2693 glossQ:1.1722 dlossQ:1.0299 exploreP:0.4454\n",
      "Episode:565 meanR:11.5300 R:9.0000 rate:0.0180 gloss:1.0775 dloss:1.2256 glossQ:1.2171 dlossQ:1.0753 exploreP:0.4450\n",
      "Episode:566 meanR:11.4800 R:10.0000 rate:0.0200 gloss:1.1215 dloss:1.2689 glossQ:1.2043 dlossQ:1.0726 exploreP:0.4446\n",
      "Episode:567 meanR:11.5300 R:15.0000 rate:0.0300 gloss:1.1076 dloss:1.2549 glossQ:1.1827 dlossQ:1.0446 exploreP:0.4439\n",
      "Episode:568 meanR:11.5300 R:10.0000 rate:0.0200 gloss:1.1317 dloss:1.2802 glossQ:1.2264 dlossQ:1.0941 exploreP:0.4435\n",
      "Episode:569 meanR:11.5400 R:13.0000 rate:0.0260 gloss:1.1221 dloss:1.2728 glossQ:1.3137 dlossQ:1.1776 exploreP:0.4429\n",
      "Episode:570 meanR:11.5400 R:9.0000 rate:0.0180 gloss:1.0977 dloss:1.2485 glossQ:1.1925 dlossQ:1.0564 exploreP:0.4426\n",
      "Episode:571 meanR:11.4800 R:8.0000 rate:0.0160 gloss:1.1048 dloss:1.2525 glossQ:1.1781 dlossQ:1.0181 exploreP:0.4422\n",
      "Episode:572 meanR:11.5100 R:12.0000 rate:0.0240 gloss:1.0808 dloss:1.2307 glossQ:1.2037 dlossQ:1.0580 exploreP:0.4417\n",
      "Episode:573 meanR:11.5100 R:10.0000 rate:0.0200 gloss:1.1118 dloss:1.2554 glossQ:1.1765 dlossQ:1.0198 exploreP:0.4413\n",
      "Episode:574 meanR:11.5400 R:12.0000 rate:0.0240 gloss:1.1059 dloss:1.2508 glossQ:1.1794 dlossQ:1.0283 exploreP:0.4407\n",
      "Episode:575 meanR:11.5400 R:10.0000 rate:0.0200 gloss:1.1085 dloss:1.2538 glossQ:1.1780 dlossQ:1.0219 exploreP:0.4403\n",
      "Episode:576 meanR:11.5600 R:11.0000 rate:0.0220 gloss:1.1007 dloss:1.2391 glossQ:1.2035 dlossQ:1.0174 exploreP:0.4398\n",
      "Episode:577 meanR:11.5400 R:11.0000 rate:0.0220 gloss:1.0979 dloss:1.2434 glossQ:1.1892 dlossQ:1.0220 exploreP:0.4394\n"
     ]
    }
   ],
   "source": [
    "# Save/load the model and save for plotting\n",
    "saver = tf.train.Saver()\n",
    "episode_rewards_list, rewards_list = [], []\n",
    "gloss_list, dloss_list = [], []\n",
    "\n",
    "# TF session for training\n",
    "with tf.Session(graph=graph) as sess:\n",
    "    sess.run(tf.global_variables_initializer())\n",
    "    #saver.restore(sess, 'checkpoints/model.ckpt')    \n",
    "    #saver.restore(sess, tf.train.latest_checkpoint('checkpoints'))\n",
    "    total_step = 0 # Explore or exploit parameter\n",
    "    episode_reward = deque(maxlen=100) # 100 episodes average/running average/running mean/window\n",
    "\n",
    "    # Training episodes/epochs\n",
    "    for ep in range(1111*3):\n",
    "        total_reward = 0 # each episode\n",
    "        gloss_batch, dloss_batch, glossQ_batch, dlossQ_batch= [], [], [], []\n",
    "        state = env.reset() # each episode\n",
    "        num_step = 0 # each episode\n",
    "\n",
    "        # Training steps/batches\n",
    "        while True:\n",
    "            # Explore (Env) or Exploit (Model)\n",
    "            total_step += 1\n",
    "            explore_p = explore_stop + (explore_start - explore_stop) * np.exp(-decay_rate * total_step) \n",
    "            if explore_p > np.random.rand():\n",
    "                action = env.action_space.sample()\n",
    "            else:\n",
    "                action_logits = sess.run(model.actions_logits, feed_dict={model.states: state.reshape([1, -1])})\n",
    "                action = np.argmax(action_logits)\n",
    "            next_state, reward, done, _ = env.step(action)\n",
    "            memory.buffer.append([state, action, next_state, reward, float(done)])\n",
    "            memory.rates.append(-1) # empty\n",
    "            num_step += 1 # momory added\n",
    "            total_reward += reward\n",
    "            state = next_state\n",
    "            \n",
    "            # Rating the memory\n",
    "            if done is True:\n",
    "                rate = total_reward/500 # update rate at the end/ when episode is done\n",
    "                for idx in range(num_step): # episode length\n",
    "                    if memory.rates[-1-idx] == -1: # double-check the landmark/marked indexes\n",
    "                        memory.rates[-1-idx] = rate # rate the trajectory/data\n",
    "                        \n",
    "            # Training with the maxrated minibatch\n",
    "            batch = memory.buffer\n",
    "            percentage = 0.9\n",
    "            #for idx in range(memory_size// batch_size):\n",
    "            idx_arr = np.arange(memory_size// batch_size)\n",
    "            idx = np.random.choice(idx_arr)\n",
    "            states = np.array([each[0] for each in batch])[idx*batch_size:(idx+1)*batch_size]\n",
    "            actions = np.array([each[1] for each in batch])[idx*batch_size:(idx+1)*batch_size]\n",
    "            next_states = np.array([each[2] for each in batch])[idx*batch_size:(idx+1)*batch_size]\n",
    "            rewards = np.array([each[3] for each in batch])[idx*batch_size:(idx+1)*batch_size]\n",
    "            dones = np.array([each[4] for each in batch])[idx*batch_size:(idx+1)*batch_size]\n",
    "            rates = np.array(memory.rates)[idx*batch_size:(idx+1)*batch_size]\n",
    "            #print(states.shape, actions.shape, next_states.shape, rewards.shape, dones.shape, rates.shape)\n",
    "            states = states[rates >= (np.max(rates)*percentage)]\n",
    "            actions = actions[rates >= (np.max(rates)*percentage)]\n",
    "            next_states = next_states[rates >= (np.max(rates)*percentage)]\n",
    "            rewards = rewards[rates >= (np.max(rates)*percentage)]\n",
    "            dones = dones[rates >= (np.max(rates)*percentage)]\n",
    "            rates = rates[rates >= (np.max(rates)*percentage)]\n",
    "            #print(states.shape, actions.shape, next_states.shape, rewards.shape, dones.shape, rates.shape)\n",
    "            nextQs_logits = sess.run(model.Qs_logits, feed_dict = {model.states: next_states})\n",
    "            #nextQs = np.max(nextQs_logits, axis=1) * (1-dones) # DQN\n",
    "            nextQs = nextQs_logits.reshape([-1]) * (1-dones) # DPG\n",
    "            targetQs = rewards + (gamma * nextQs)\n",
    "            dloss, _, glossQ, dlossQ = sess.run([model.d_loss, model.d_opt, \n",
    "                                                 model.g_lossQ, model.d_lossQ],\n",
    "                                                feed_dict = {model.states: states, \n",
    "                                                             model.actions: actions,\n",
    "                                                             model.targetQs: targetQs, \n",
    "                                                             model.rates: rates})\n",
    "            gloss, _, gQs_notequal, gQs_equal = sess.run([model.g_loss, model.g_opt, \n",
    "                                                          model.gQs_notequal, model.gQs_equal], \n",
    "                                              feed_dict = {model.states: states, \n",
    "                                                           model.actions: actions,\n",
    "                                                           model.targetQs: targetQs, \n",
    "                                                           model.rates: rates})\n",
    "            #if len(gQs_nonequal) != len(nextQs):\n",
    "            # if dloss is np.nan:            \n",
    "            #     print(gQs_notequal.shape, gQs_notequal.dtype)\n",
    "            #     print(gQs_equal.shape, gQs_equal.dtype)\n",
    "            #     print(nextQs.shape)\n",
    "            gloss_batch.append(gloss)\n",
    "            dloss_batch.append(dloss)\n",
    "            glossQ_batch.append(glossQ)\n",
    "            dlossQ_batch.append(dlossQ)\n",
    "            if done is True:\n",
    "                break\n",
    "                \n",
    "        episode_reward.append(total_reward)\n",
    "        print('Episode:{}'.format(ep),\n",
    "              'meanR:{:.4f}'.format(np.mean(episode_reward)),\n",
    "              'R:{:.4f}'.format(total_reward),\n",
    "              'rate:{:.4f}'.format(rate),\n",
    "              'gloss:{:.4f}'.format(np.mean(gloss_batch)),\n",
    "              'dloss:{:.4f}'.format(np.mean(dloss_batch)),\n",
    "              'glossQ:{:.4f}'.format(np.mean(glossQ_batch)),\n",
    "              'dlossQ:{:.4f}'.format(np.mean(dlossQ_batch)),\n",
    "              'exploreP:{:.4f}'.format(explore_p))\n",
    "\n",
    "        # Ploting out\n",
    "        episode_rewards_list.append([ep, np.mean(episode_reward)])\n",
    "        rewards_list.append([ep, total_reward])\n",
    "        gloss_list.append([ep, np.mean(gloss_batch)])\n",
    "        dloss_list.append([ep, np.mean(dloss_batch)])\n",
    "        \n",
    "        # Break episode/epoch loop\n",
    "        ## Option 1: Solve the First Version\n",
    "        #The task is episodic, and in order to solve the environment, \n",
    "        #your agent must get an average score of +30 over 100 consecutive episodes.\n",
    "        if np.mean(episode_reward) >= 500:\n",
    "            break\n",
    "            \n",
    "    # At the end of all training episodes/epochs\n",
    "    saver.save(sess, 'checkpoints/model.ckpt')"
   ]
  },
  {
   "cell_type": "markdown",
   "metadata": {},
   "source": [
    "# Visualizing training\n",
    "\n",
    "Below I'll plot the total rewards for each episode. I'm plotting the rolling average too, in blue."
   ]
  },
  {
   "cell_type": "code",
   "execution_count": null,
   "metadata": {},
   "outputs": [],
   "source": [
    "import matplotlib.pyplot as plt\n",
    "%matplotlib inline\n",
    "\n",
    "def running_mean(x, N):\n",
    "    cumsum = np.cumsum(np.insert(x, 0, 0)) \n",
    "    return (cumsum[N:] - cumsum[:-N]) / N "
   ]
  },
  {
   "cell_type": "code",
   "execution_count": null,
   "metadata": {},
   "outputs": [],
   "source": [
    "eps, arr = np.array(episode_rewards_list).T\n",
    "smoothed_arr = running_mean(arr, 10)\n",
    "plt.plot(eps[-len(smoothed_arr):], smoothed_arr)\n",
    "plt.plot(eps, arr, color='grey', alpha=0.3)\n",
    "plt.xlabel('Episode')\n",
    "plt.ylabel('Total rewards')"
   ]
  },
  {
   "cell_type": "code",
   "execution_count": 16,
   "metadata": {},
   "outputs": [
    {
     "data": {
      "text/plain": [
       "Text(0, 0.5, 'Total rewards')"
      ]
     },
     "execution_count": 16,
     "metadata": {},
     "output_type": "execute_result"
    },
    {
     "data": {
      "image/png": "[encoded data removed]",
      "text/plain": [
       "<Figure size 432x288 with 1 Axes>"
      ]
     },
     "metadata": {
      "needs_background": "light"
     },
     "output_type": "display_data"
    }
   ],
   "source": [
    "eps, arr = np.array(episode_rewards_list).T\n",
    "smoothed_arr = running_mean(arr, 10)\n",
    "plt.plot(eps[-len(smoothed_arr):], smoothed_arr)\n",
    "plt.plot(eps, arr, color='grey', alpha=0.3)\n",
    "plt.xlabel('Episode')\n",
    "plt.ylabel('Total rewards')"
   ]
  },
  {
   "cell_type": "code",
   "execution_count": 27,
   "metadata": {},
   "outputs": [
    {
     "data": {
      "text/plain": [
       "Text(0, 0.5, 'Total rewards')"
      ]
     },
     "execution_count": 27,
     "metadata": {},
     "output_type": "execute_result"
    },
    {
     "data": {
      "image/png": "[encoded data removed]",
      "text/plain": [
       "<Figure size 432x288 with 1 Axes>"
      ]
     },
     "metadata": {
      "needs_background": "light"
     },
     "output_type": "display_data"
    }
   ],
   "source": [
    "eps, arr = np.array(episode_rewards_list).T\n",
    "smoothed_arr = running_mean(arr, 10)\n",
    "plt.plot(eps[-len(smoothed_arr):], smoothed_arr)\n",
    "plt.plot(eps, arr, color='grey', alpha=0.3)\n",
    "plt.xlabel('Episode')\n",
    "plt.ylabel('Total rewards')"
   ]
  },
  {
   "cell_type": "code",
   "execution_count": 24,
   "metadata": {},
   "outputs": [
    {
     "data": {
      "text/plain": [
       "Text(0, 0.5, 'Total rewards')"
      ]
     },
     "execution_count": 24,
     "metadata": {},
     "output_type": "execute_result"
    },
    {
     "data": {
      "image/png": "[encoded data removed]",
      "text/plain": [
       "<Figure size 432x288 with 1 Axes>"
      ]
     },
     "metadata": {
      "needs_background": "light"
     },
     "output_type": "display_data"
    }
   ],
   "source": [
    "eps, arr = np.array(episode_rewards_list).T\n",
    "smoothed_arr = running_mean(arr, 10)\n",
    "plt.plot(eps[-len(smoothed_arr):], smoothed_arr)\n",
    "plt.plot(eps, arr, color='grey', alpha=0.3)\n",
    "plt.xlabel('Episode')\n",
    "plt.ylabel('Total rewards')"
   ]
  },
  {
   "cell_type": "code",
   "execution_count": 26,
   "metadata": {},
   "outputs": [
    {
     "data": {
      "text/plain": [
       "Text(0, 0.5, 'Total rewards')"
      ]
     },
     "execution_count": 26,
     "metadata": {},
     "output_type": "execute_result"
    },
    {
     "data": {
      "image/png": "[encoded data removed]",
      "text/plain": [
       "<Figure size 432x288 with 1 Axes>"
      ]
     },
     "metadata": {
      "needs_background": "light"
     },
     "output_type": "display_data"
    }
   ],
   "source": [
    "eps, arr = np.array(episode_rewards_list).T\n",
    "smoothed_arr = running_mean(arr, 10)\n",
    "plt.plot(eps[-len(smoothed_arr):], smoothed_arr)\n",
    "plt.plot(eps, arr, color='grey', alpha=0.3)\n",
    "plt.xlabel('Episode')\n",
    "plt.ylabel('Total rewards')"
   ]
  },
  {
   "cell_type": "code",
   "execution_count": 16,
   "metadata": {},
   "outputs": [
    {
     "data": {
      "text/plain": [
       "Text(0, 0.5, 'Total rewards')"
      ]
     },
     "execution_count": 16,
     "metadata": {},
     "output_type": "execute_result"
    },
    {
     "data": {
      "image/png": "[encoded data removed]",
      "text/plain": [
       "<Figure size 432x288 with 1 Axes>"
      ]
     },
     "metadata": {
      "needs_background": "light"
     },
     "output_type": "display_data"
    }
   ],
   "source": [
    "eps, arr = np.array(episode_rewards_list).T\n",
    "smoothed_arr = running_mean(arr, 10)\n",
    "plt.plot(eps[-len(smoothed_arr):], smoothed_arr)\n",
    "plt.plot(eps, arr, color='grey', alpha=0.3)\n",
    "plt.xlabel('Episode')\n",
    "plt.ylabel('Total rewards')"
   ]
  },
  {
   "cell_type": "code",
   "execution_count": 62,
   "metadata": {},
   "outputs": [
    {
     "data": {
      "text/plain": [
       "Text(0,0.5,'Total rewards')"
      ]
     },
     "execution_count": 62,
     "metadata": {},
     "output_type": "execute_result"
    },
    {
     "data": {
      "image/png": "[encoded data removed]",
      "text/plain": [
       "<Figure size 432x288 with 1 Axes>"
      ]
     },
     "metadata": {},
     "output_type": "display_data"
    }
   ],
   "source": [
    "# eps, arr = np.array(episode_rewards_list).T\n",
    "# smoothed_arr = running_mean(arr, 10)\n",
    "# plt.plot(eps[-len(smoothed_arr):], smoothed_arr)\n",
    "# plt.plot(eps, arr, color='grey', alpha=0.3)\n",
    "# plt.xlabel('Episode')\n",
    "# plt.ylabel('Total rewards')"
   ]
  },
  {
   "cell_type": "code",
   "execution_count": 29,
   "metadata": {},
   "outputs": [
    {
     "data": {
      "text/plain": [
       "Text(0, 0.5, 'Total rewards')"
      ]
     },
     "execution_count": 29,
     "metadata": {},
     "output_type": "execute_result"
    },
    {
     "data": {
      "image/png": "[encoded data removed]",
      "text/plain": [
       "<Figure size 432x288 with 1 Axes>"
      ]
     },
     "metadata": {
      "needs_background": "light"
     },
     "output_type": "display_data"
    }
   ],
   "source": [
    "eps, arr = np.array(rewards_list).T\n",
    "smoothed_arr = running_mean(arr, 10)\n",
    "plt.plot(eps[-len(smoothed_arr):], smoothed_arr)\n",
    "plt.plot(eps, arr, color='grey', alpha=0.3)\n",
    "plt.xlabel('Episode')\n",
    "plt.ylabel('Total rewards')"
   ]
  },
  {
   "cell_type": "code",
   "execution_count": 63,
   "metadata": {},
   "outputs": [
    {
     "data": {
      "text/plain": [
       "Text(0,0.5,'Total rewards')"
      ]
     },
     "execution_count": 63,
     "metadata": {},
     "output_type": "execute_result"
    },
    {
     "data": {
      "image/png": "[encoded data removed]",
      "text/plain": [
       "<Figure size 432x288 with 1 Axes>"
      ]
     },
     "metadata": {},
     "output_type": "display_data"
    }
   ],
   "source": [
    "# eps, arr = np.array(rewards_list).T\n",
    "# smoothed_arr = running_mean(arr, 10)\n",
    "# plt.plot(eps[-len(smoothed_arr):], smoothed_arr)\n",
    "# plt.plot(eps, arr, color='grey', alpha=0.3)\n",
    "# plt.xlabel('Episode')\n",
    "# plt.ylabel('Total rewards')"
   ]
  },
  {
   "cell_type": "code",
   "execution_count": 19,
   "metadata": {},
   "outputs": [],
   "source": [
    "eps, arr = np.array(gloss_list).T\n",
    "smoothed_arr = running_mean(arr, 10)\n",
    "plt.plot(eps[-len(smoothed_arr):], smoothed_arr)\n",
    "plt.plot(eps, arr, color='grey', alpha=0.3)\n",
    "plt.xlabel('Episode')\n",
    "plt.ylabel('G losses')"
   ]
  },
  {
   "cell_type": "code",
   "execution_count": null,
   "metadata": {},
   "outputs": [],
   "source": [
    "eps, arr = np.array(dloss_list).T\n",
    "smoothed_arr = running_mean(arr, 10)\n",
    "plt.plot(eps[-len(smoothed_arr):], smoothed_arr)\n",
    "plt.plot(eps, arr, color='grey', alpha=0.3)\n",
    "plt.xlabel('Episode')\n",
    "plt.ylabel('D losses')"
   ]
  },
  {
   "cell_type": "markdown",
   "metadata": {},
   "source": [
    "## Testing\n",
    "\n",
    "Let's checkout how our trained agent plays the game."
   ]
  },
  {
   "cell_type": "code",
   "execution_count": 36,
   "metadata": {},
   "outputs": [
    {
     "name": "stdout",
     "output_type": "stream",
     "text": [
      "\u001b[33mWARN: gym.spaces.Box autodetected dtype as <class 'numpy.float32'>. Please provide explicit dtype.\u001b[0m\n",
      "\u001b[33mWARN: gym.spaces.Box autodetected dtype as <class 'numpy.float32'>. Please provide explicit dtype.\u001b[0m\n",
      "INFO:tensorflow:Restoring parameters from checkpoints/model.ckpt\n"
     ]
    },
    {
     "name": "stderr",
     "output_type": "stream",
     "text": [
      "/home/arasdar/anaconda3/envs/env/lib/python3.6/site-packages/gym/__init__.py:22: UserWarning: DEPRECATION WARNING: to improve load times, gym no longer automatically loads gym.spaces. Please run \"import gym.spaces\" to load gym.spaces on your own. This warning will turn into an error in a future version of gym.\n",
      "  warnings.warn('DEPRECATION WARNING: to improve load times, gym no longer automatically loads gym.spaces. Please run \"import gym.spaces\" to load gym.spaces on your own. This warning will turn into an error in a future version of gym.')\n"
     ]
    },
    {
     "name": "stdout",
     "output_type": "stream",
     "text": [
      "total_reward: 500.0\n"
     ]
    }
   ],
   "source": [
    "import gym\n",
    "env = gym.make('CartPole-v0')\n",
    "env = gym.make('CartPole-v1')\n",
    "# env = gym.make('Acrobot-v1')\n",
    "# env = gym.make('MountainCar-v0')\n",
    "# env = gym.make('Pendulum-v0')\n",
    "# env = gym.make('Blackjack-v0')\n",
    "# env = gym.make('FrozenLake-v0')\n",
    "# env = gym.make('AirRaid-ram-v0')\n",
    "# env = gym.make('AirRaid-v0')\n",
    "# env = gym.make('BipedalWalker-v2')\n",
    "# env = gym.make('Copy-v0')\n",
    "# env = gym.make('CarRacing-v0')\n",
    "# env = gym.make('Ant-v2') #mujoco\n",
    "# env = gym.make('FetchPickAndPlace-v1') # mujoco required!\n",
    "\n",
    "with tf.Session() as sess:\n",
    "    sess.run(tf.global_variables_initializer())\n",
    "    saver.restore(sess, 'checkpoints/model.ckpt')    \n",
    "    #saver.restore(sess, tf.train.latest_checkpoint('checkpoints'))\n",
    "    \n",
    "    # Episodes/epochs\n",
    "    for _ in range(1):\n",
    "        state = env.reset()\n",
    "        total_reward = 0\n",
    "\n",
    "        # Steps/batches\n",
    "        while True:\n",
    "            env.render()\n",
    "            action_logits = sess.run(model.actions_logits, feed_dict={model.states: state.reshape([1, -1])})\n",
    "            action = np.argmax(action_logits)\n",
    "            state, reward, done, _ = env.step(action)\n",
    "            total_reward += reward\n",
    "            if done:\n",
    "                print('total_reward: {}'.format(total_reward))\n",
    "                break\n",
    "                \n",
    "env.close()"
   ]
  },
  {
   "cell_type": "markdown",
   "metadata": {},
   "source": [
    "## Extending this\n",
    "\n",
    "So, Cart-Pole is a pretty simple game. However, the same model can be used to train an agent to play something much more complicated like Pong or Space Invaders. Instead of a state like we're using here though, you'd want to use convolutional layers to get the state from the screen images.\n",
    "\n",
    "![Deep Q-Learning Atari](assets/atari-network.png)\n",
    "\n",
    "I'll leave it as a challenge for you to use deep Q-learning to train an agent to play Atari games. Here's the original paper which will get you started: http://www.davidqiu.com:8888/research/nature14236.pdf."
   ]
  },
  {
   "cell_type": "code",
   "execution_count": null,
   "metadata": {},
   "outputs": [],
   "source": []
  }
 ],
 "metadata": {
  "kernelspec": {
   "display_name": "Python 3",
   "language": "python",
   "name": "python3"
  },
  "language_info": {
   "codemirror_mode": {
    "name": "ipython",
    "version": 3
   },
   "file_extension": ".py",
   "mimetype": "text/x-python",
   "name": "python",
   "nbconvert_exporter": "python",
   "pygments_lexer": "ipython3",
   "version": "3.6.6"
  }
 },
 "nbformat": 4,
 "nbformat_minor": 2
}
