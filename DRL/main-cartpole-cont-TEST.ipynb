{
 "cells": [
  {
   "cell_type": "markdown",
   "metadata": {},
   "source": [
    "# DPG for Cartpole\n",
    "\n",
    "\n",
    "In this notebook, we'll build a neural network that can learn to play games through reinforcement learning. More specifically, we'll use Q-learning to train an agent to play a game called [Cart-Pole](https://gym.openai.com/envs/CartPole-v0). In this game, a freely swinging pole is attached to a cart. The cart can move to the left and right, and the goal is to keep the pole upright as long as possible.\n",
    "\n",
    "![Cart-Pole](assets/cart-pole.jpg)\n",
    "\n",
    "We can simulate this game using [OpenAI Gym](https://gym.openai.com/). First, let's check out how OpenAI Gym works. Then, we'll get into training an agent to play the Cart-Pole game."
   ]
  },
  {
   "cell_type": "code",
   "execution_count": 1,
   "metadata": {},
   "outputs": [
    {
     "name": "stderr",
     "output_type": "stream",
     "text": [
      "/home/aras/anaconda3/lib/python3.6/site-packages/h5py/__init__.py:36: FutureWarning: Conversion of the second argument of issubdtype from `float` to `np.floating` is deprecated. In future, it will be treated as `np.float64 == np.dtype(float).type`.\n",
      "  from ._conv import register_converters as _register_converters\n"
     ]
    },
    {
     "name": "stdout",
     "output_type": "stream",
     "text": [
      "TensorFlow Version: 1.7.1\n",
      "Default GPU Device: \n"
     ]
    }
   ],
   "source": [
    "# In this one we should define and detect GPUs for tensorflow\n",
    "# GPUs or CPU\n",
    "import tensorflow as tf\n",
    "\n",
    "# Check TensorFlow Version\n",
    "print('TensorFlow Version: {}'.format(tf.__version__))\n",
    "\n",
    "# Check for a GPU\n",
    "print('Default GPU Device: {}'.format(tf.test.gpu_device_name()))"
   ]
  },
  {
   "cell_type": "markdown",
   "metadata": {},
   "source": [
    ">**Note:** Make sure you have OpenAI Gym cloned into the same directory with this notebook. I've included `gym` as a submodule, so you can run `git submodule --init --recursive` to pull the contents into the `gym` repo."
   ]
  },
  {
   "cell_type": "markdown",
   "metadata": {},
   "source": [
    "##### >**Note:** Make sure you have OpenAI Gym cloned. Then run this command `pip install -e gym/[all]`."
   ]
  },
  {
   "cell_type": "code",
   "execution_count": 2,
   "metadata": {},
   "outputs": [],
   "source": [
    "import gym\n",
    "env = gym.make('CartPole-v0')\n",
    "env = gym.make('CartPole-v1')"
   ]
  },
  {
   "cell_type": "markdown",
   "metadata": {},
   "source": [
    "We interact with the simulation through `env`. To show the simulation running, you can use `env.render()` to render one frame. Passing in an action as an integer to `env.step` will generate the next step in the simulation.  You can see how many actions are possible from `env.action_space` and to get a random action you can use `env.action_space.sample()`. This is general to all Gym games. In the Cart-Pole game, there are two possible actions, moving the cart left or right. So there are two actions we can take, encoded as 0 and 1.\n",
    "\n",
    "Run the code below to watch the simulation run."
   ]
  },
  {
   "cell_type": "code",
   "execution_count": 3,
   "metadata": {},
   "outputs": [],
   "source": [
    "env.reset()\n",
    "batch = []\n",
    "for _ in range(1111):\n",
    "    #env.render()\n",
    "    action = env.action_space.sample()\n",
    "    state, reward, done, info = env.step(action) # take a random action\n",
    "    batch.append([action, state, reward, done, info])\n",
    "    #print('state, action, reward, done, info:', state, action, reward, done, info)\n",
    "    if done:\n",
    "        env.reset()"
   ]
  },
  {
   "cell_type": "markdown",
   "metadata": {},
   "source": [
    "To shut the window showing the simulation, use `env.close()`."
   ]
  },
  {
   "cell_type": "code",
   "execution_count": 4,
   "metadata": {},
   "outputs": [],
   "source": [
    "# env.close()"
   ]
  },
  {
   "cell_type": "markdown",
   "metadata": {},
   "source": [
    "If you ran the simulation above, we can look at the rewards:"
   ]
  },
  {
   "cell_type": "code",
   "execution_count": 5,
   "metadata": {},
   "outputs": [],
   "source": [
    "import numpy as np\n",
    "actions = np.array([each[0] for each in batch])\n",
    "states = np.array([each[1] for each in batch])\n",
    "rewards = np.array([each[2] for each in batch])\n",
    "dones = np.array([each[3] for each in batch])\n",
    "infos = np.array([each[4] for each in batch])"
   ]
  },
  {
   "cell_type": "code",
   "execution_count": 6,
   "metadata": {},
   "outputs": [
    {
     "name": "stdout",
     "output_type": "stream",
     "text": [
      "shapes: (1111,) (1111, 4) (1111,) (1111,)\n",
      "dtypes: float64 float64 int64 bool\n",
      "states: 2.2556878097289843 -3.0057814537353345\n",
      "actions: 1 0\n",
      "rewards: 1.0 1.0\n"
     ]
    }
   ],
   "source": [
    "# print(rewards[-20:])\n",
    "print('shapes:', np.array(rewards).shape, np.array(states).shape, np.array(actions).shape, np.array(dones).shape)\n",
    "print('dtypes:', np.array(rewards).dtype, np.array(states).dtype, np.array(actions).dtype, np.array(dones).dtype)\n",
    "print('states:', np.max(np.array(states)), np.min(np.array(states)))\n",
    "print('actions:', np.max(np.array(actions)), np.min(np.array(actions)))\n",
    "# print((np.max(np.array(actions)) - np.min(np.array(actions)))+1)\n",
    "print('rewards:', np.max(np.array(rewards)), np.min(np.array(rewards)))"
   ]
  },
  {
   "cell_type": "code",
   "execution_count": 7,
   "metadata": {},
   "outputs": [
    {
     "data": {
      "text/plain": [
       "array([0, 1, 1, 0, 1, 1, 1, 1, 1, 1])"
      ]
     },
     "execution_count": 7,
     "metadata": {},
     "output_type": "execute_result"
    }
   ],
   "source": [
    "actions[:10]"
   ]
  },
  {
   "cell_type": "code",
   "execution_count": 8,
   "metadata": {},
   "outputs": [
    {
     "data": {
      "text/plain": [
       "array([1., 1., 1., 1., 1., 1., 1., 1., 1., 1.])"
      ]
     },
     "execution_count": 8,
     "metadata": {},
     "output_type": "execute_result"
    }
   ],
   "source": [
    "rewards[:10]"
   ]
  },
  {
   "cell_type": "code",
   "execution_count": 9,
   "metadata": {},
   "outputs": [
    {
     "name": "stdout",
     "output_type": "stream",
     "text": [
      "rewards: 0.01 0.01\n"
     ]
    }
   ],
   "source": [
    "print('rewards:', np.max(np.array(rewards))/100, np.min(np.array(rewards))/100)"
   ]
  },
  {
   "cell_type": "markdown",
   "metadata": {},
   "source": [
    "The game resets after the pole has fallen past a certain angle. For each frame while the simulation is running, it returns a reward of 1.0. The longer the game runs, the more reward we get. Then, our network's goal is to maximize the reward by keeping the pole vertical. It will do this by moving the cart to the left and the right."
   ]
  },
  {
   "cell_type": "markdown",
   "metadata": {},
   "source": [
    "## Q-Network\n",
    "\n",
    "We train our Q-learning agent using the Bellman Equation:\n",
    "\n",
    "$$\n",
    "Q(s, a) = r + \\gamma \\max{Q(s', a')}\n",
    "$$\n",
    "\n",
    "where $s$ is a state, $a$ is an action, and $s'$ is the next state from state $s$ and action $a$.\n",
    "\n",
    "Before we used this equation to learn values for a Q-_table_. However, for this game there are a huge number of states available. The state has four values: the position and velocity of the cart, and the position and velocity of the pole. These are all real-valued numbers, so ignoring floating point precisions, you practically have infinite states. Instead of using a table then, we'll replace it with a neural network that will approximate the Q-table lookup function.\n",
    "\n",
    "<img src=\"assets/deep-q-learning.png\" width=450px>\n",
    "\n",
    "Now, our Q value, $Q(s, a)$ is calculated by passing in a state to the network. The output will be Q-values for each available action, with fully connected hidden layers.\n",
    "\n",
    "<img src=\"assets/q-network.png\" width=550px>\n",
    "\n",
    "\n",
    "As I showed before, we can define our targets for training as $\\hat{Q}(s,a) = r + \\gamma \\max{Q(s', a')}$. Then we update the weights by minimizing $(\\hat{Q}(s,a) - Q(s,a))^2$. \n",
    "\n",
    "For this Cart-Pole game, we have four inputs, one for each value in the state, and two outputs, one for each action. To get $\\hat{Q}$, we'll first choose an action, then simulate the game using that action. This will get us the next state, $s'$, and the reward. With that, we can calculate $\\hat{Q}$ then pass it back into the $Q$ network to run the optimizer and update the weights.\n",
    "\n",
    "Below is my implementation of the Q-network. I used two fully connected layers with ReLU activations. Two seems to be good enough, three might be better. Feel free to try it out."
   ]
  },
  {
   "cell_type": "code",
   "execution_count": 10,
   "metadata": {},
   "outputs": [],
   "source": [
    "def model_input(state_size):\n",
    "    #states = tf.placeholder(tf.float32, [None, *state_size], name='states')\n",
    "    states = tf.placeholder(tf.float32, [None, state_size], name='states')\n",
    "    actions = tf.placeholder(tf.int32, [None], name='actions')\n",
    "    targetQs = tf.placeholder(tf.float32, [None], name='targetQs')\n",
    "    rates = tf.placeholder(tf.float32, [None], name='rates')\n",
    "    return states, actions, targetQs, rates"
   ]
  },
  {
   "cell_type": "code",
   "execution_count": 11,
   "metadata": {},
   "outputs": [],
   "source": [
    "# Generator/Controller: Generating/prediting the actions\n",
    "def generator(states, action_size, hidden_size, reuse=False, alpha=0.1, training=False):\n",
    "    with tf.variable_scope('generator', reuse=reuse):\n",
    "        # First fully connected layer\n",
    "        h1 = tf.layers.dense(inputs=states, units=hidden_size)\n",
    "        bn1 = tf.layers.batch_normalization(h1, training=training)        \n",
    "        nl1 = tf.maximum(alpha * bn1, bn1)\n",
    "        \n",
    "        # Second fully connected layer\n",
    "        h2 = tf.layers.dense(inputs=nl1, units=hidden_size)\n",
    "        bn2 = tf.layers.batch_normalization(h2, training=training)        \n",
    "        nl2 = tf.maximum(alpha * bn2, bn2)\n",
    "        \n",
    "        # Output layer\n",
    "        logits = tf.layers.dense(inputs=nl2, units=action_size)        \n",
    "        #predictions = tf.nn.softmax(logits)\n",
    "\n",
    "        # return actions logits\n",
    "        return logits"
   ]
  },
  {
   "cell_type": "code",
   "execution_count": 12,
   "metadata": {},
   "outputs": [],
   "source": [
    "# Discriminator/Dopamine: Reward function/planner/naviator/advisor/supervisor/cortical columns\n",
    "def discriminator(states, actions, hidden_size, reuse=False, alpha=0.1, training=False):\n",
    "    with tf.variable_scope('discriminator', reuse=reuse):\n",
    "        # First fully connected layer\n",
    "        h1 = tf.layers.dense(inputs=states, units=action_size)\n",
    "        bn1 = tf.layers.batch_normalization(h1, training=training)        \n",
    "        nl1 = tf.maximum(alpha * bn1, bn1)\n",
    "        \n",
    "        # Second fully connected layer\n",
    "        fused = tf.concat(axis=1, values=[nl1, actions])\n",
    "        h2 = tf.layers.dense(inputs=fused, units=hidden_size)\n",
    "        bn2 = tf.layers.batch_normalization(h2, training=training)        \n",
    "        nl2 = tf.maximum(alpha * bn2, bn2)\n",
    "                \n",
    "        # Output layer\n",
    "        logits = tf.layers.dense(inputs=nl2, units=1)        \n",
    "        #predictions = tf.nn.softmax(logits)\n",
    "\n",
    "        # return rewards logits\n",
    "        return logits"
   ]
  },
  {
   "cell_type": "code",
   "execution_count": 13,
   "metadata": {},
   "outputs": [],
   "source": [
    "def model_loss(action_size, hidden_size, states, actions, targetQs, rates):\n",
    "    actions_logits = generator(states=states, hidden_size=hidden_size, action_size=action_size)\n",
    "    actions_labels = tf.one_hot(indices=actions, depth=action_size, dtype=actions_logits.dtype)\n",
    "    neg_log_prob = tf.nn.softmax_cross_entropy_with_logits_v2(logits=actions_logits, \n",
    "                                                              labels=actions_labels)\n",
    "    targetQs = tf.reshape(targetQs, shape=[-1, 1])\n",
    "    gloss = tf.reduce_mean(neg_log_prob * targetQs) # DPG: r+(gamma*nextQ)\n",
    "    gQs = discriminator(actions=actions_logits, hidden_size=hidden_size, states=states)\n",
    "    dQs = discriminator(actions=actions_labels, hidden_size=hidden_size, states=states, reuse=True) # Qs\n",
    "    rates = tf.reshape(rates, shape=[-1, 1])\n",
    "    dlossA = tf.reduce_mean(tf.nn.sigmoid_cross_entropy_with_logits(logits=gQs, # GAN\n",
    "                                                                    labels=rates)) # 0-1\n",
    "    dlossA += tf.reduce_mean(tf.nn.sigmoid_cross_entropy_with_logits(logits=dQs, # GAN\n",
    "                                                                     labels=rates)) # 0-1\n",
    "    dlossA /= 2\n",
    "    dlossQ = tf.reduce_mean(tf.square(gQs - targetQs)) # DQN\n",
    "    dlossQ += tf.reduce_mean(tf.square(dQs - targetQs)) # DQN\n",
    "    dlossQ /= 2\n",
    "    return actions_logits, gQs, gloss, dlossA, dlossQ"
   ]
  },
  {
   "cell_type": "code",
   "execution_count": 14,
   "metadata": {},
   "outputs": [],
   "source": [
    "# Optimizating/training/learning G & D\n",
    "def model_opt(g_loss, d_lossA, d_lossQ, g_learning_rate, d_learning_rate):\n",
    "    # Get weights and bias to update\n",
    "    t_vars = tf.trainable_variables()\n",
    "    g_vars = [var for var in t_vars if var.name.startswith('generator')]\n",
    "    d_vars = [var for var in t_vars if var.name.startswith('discriminator')]\n",
    "\n",
    "    # Optimize\n",
    "    with tf.control_dependencies(tf.get_collection(tf.GraphKeys.UPDATE_OPS)): # Required for batchnorm (BN)\n",
    "        g_opt = tf.train.AdamOptimizer(g_learning_rate).minimize(g_loss, var_list=g_vars)\n",
    "        d_optA = tf.train.AdamOptimizer(d_learning_rate).minimize(d_lossA, var_list=d_vars)\n",
    "        d_optQ = tf.train.AdamOptimizer(d_learning_rate).minimize(d_lossQ, var_list=d_vars)\n",
    "\n",
    "    return g_opt, d_optA, d_optQ"
   ]
  },
  {
   "cell_type": "code",
   "execution_count": 15,
   "metadata": {},
   "outputs": [],
   "source": [
    "class Model:\n",
    "    def __init__(self, state_size, action_size, hidden_size, g_learning_rate, d_learning_rate):\n",
    "\n",
    "        # Data of the Model: make the data available inside the framework\n",
    "        self.states, self.actions, self.targetQs, self.rates = model_input(state_size=state_size)\n",
    "\n",
    "        # Create the Model: calculating the loss and forwad pass\n",
    "        self.actions_logits, self.Qs_logits, self.g_loss, self.d_lossA, self.d_lossQ = model_loss(\n",
    "            action_size=action_size, hidden_size=hidden_size, # model init parameters\n",
    "            states=self.states, actions=self.actions, \n",
    "            targetQs=self.targetQs, rates=self.rates) # model input\n",
    "        \n",
    "        # Update the model: backward pass and backprop\n",
    "        self.g_opt, self.d_optA, self.d_optQ = model_opt(g_loss=self.g_loss, \n",
    "                                                         d_lossA=self.d_lossA, \n",
    "                                                         d_lossQ=self.d_lossQ, \n",
    "                                                         g_learning_rate=g_learning_rate, \n",
    "                                                         d_learning_rate=d_learning_rate)"
   ]
  },
  {
   "cell_type": "code",
   "execution_count": 16,
   "metadata": {},
   "outputs": [],
   "source": [
    "from collections import deque\n",
    "class Memory():\n",
    "    def __init__(self, max_size = 1000):\n",
    "        self.buffer = deque(maxlen=max_size) # data batch"
   ]
  },
  {
   "cell_type": "markdown",
   "metadata": {},
   "source": [
    "## Hyperparameters\n",
    "\n",
    "One of the more difficult aspects of reinforcememt learning are the large number of hyperparameters. Not only are we tuning the network, but we're tuning the simulation."
   ]
  },
  {
   "cell_type": "code",
   "execution_count": 17,
   "metadata": {},
   "outputs": [
    {
     "data": {
      "text/plain": [
       "(Box(4,), Discrete(2))"
      ]
     },
     "execution_count": 17,
     "metadata": {},
     "output_type": "execute_result"
    }
   ],
   "source": [
    "env.observation_space, env.action_space"
   ]
  },
  {
   "cell_type": "code",
   "execution_count": 18,
   "metadata": {},
   "outputs": [],
   "source": [
    "# Exploration parameters\n",
    "explore_start = 1.0            # exploration probability at start\n",
    "explore_stop = 0.01           # minimum exploration probability \n",
    "decay_rate = 0.0001            # exponential decay rate for exploration prob\n",
    "\n",
    "# Network parameters\n",
    "state_size = 4\n",
    "action_size = 2\n",
    "hidden_size = 4*2             # number of units in each Q-network hidden layer\n",
    "g_learning_rate = 1e-4         # Q-network learning rate\n",
    "d_learning_rate = 1e-4         # Q-network learning rate\n",
    "\n",
    "# Memory parameters\n",
    "memory_size = int(1e5)            # memory capacity\n",
    "batch_size = int(1e3)             # experience mini-batch size: 200/500 a successfull episode size\n",
    "gamma = 0.99                   # future reward discount"
   ]
  },
  {
   "cell_type": "code",
   "execution_count": 19,
   "metadata": {},
   "outputs": [],
   "source": [
    "# Reset/init the graph/session\n",
    "graph = tf.reset_default_graph()\n",
    "\n",
    "# Init the model\n",
    "model = Model(action_size=action_size, state_size=state_size, hidden_size=hidden_size,\n",
    "              g_learning_rate=g_learning_rate, d_learning_rate=d_learning_rate)\n",
    "\n",
    "# Init the memory\n",
    "memory = Memory(max_size=memory_size)"
   ]
  },
  {
   "cell_type": "code",
   "execution_count": 20,
   "metadata": {},
   "outputs": [],
   "source": [
    "goal = 500\n",
    "state = env.reset()\n",
    "total_reward = 0\n",
    "num_step = 0\n",
    "for _ in range(memory_size):\n",
    "    action = env.action_space.sample()\n",
    "    next_state, reward, done, _ = env.step(action)\n",
    "    memory.buffer.append([state, action, next_state, reward, float(done), -1])\n",
    "    num_step += 1 # memory incremented\n",
    "    total_reward += reward\n",
    "    state = next_state\n",
    "    if done is True:\n",
    "        state = env.reset()\n",
    "        rate = total_reward/goal\n",
    "        total_reward = 0 # reset\n",
    "        for idx in range(num_step): # episode length\n",
    "            if memory.buffer[-1-idx][-1] == -1:\n",
    "                memory.buffer[-1-idx][-1] = rate\n",
    "        num_step = 0 # reset"
   ]
  },
  {
   "cell_type": "code",
   "execution_count": 21,
   "metadata": {},
   "outputs": [],
   "source": [
    "idx = np.random.choice(np.arange(memory_size// batch_size))\n",
    "batch = np.array(memory.buffer)[idx*batch_size:(idx+1)*batch_size]\n",
    "rates = np.array([each[5] for each in batch])\n",
    "batch = batch[rates >= (np.max(rates)*0.9)]\n",
    "states = np.array([each[0] for each in batch])\n",
    "actions = np.array([each[1] for each in batch])\n",
    "next_states = np.array([each[2] for each in batch])\n",
    "rewards = np.array([each[3] for each in batch])\n",
    "dones = np.array([each[4] for each in batch])\n",
    "rates = np.array([each[5] for each in batch])"
   ]
  },
  {
   "cell_type": "code",
   "execution_count": 22,
   "metadata": {},
   "outputs": [
    {
     "data": {
      "text/plain": [
       "((88, 6), (88, 4), (88,), (88, 4), (88,), (88,), (88,))"
      ]
     },
     "execution_count": 22,
     "metadata": {},
     "output_type": "execute_result"
    }
   ],
   "source": [
    "batch.shape, \\\n",
    "states.shape, actions.shape, next_states.shape, rewards.shape, dones.shape, rates.shape"
   ]
  },
  {
   "cell_type": "markdown",
   "metadata": {},
   "source": [
    "## Training the model\n",
    "\n",
    "Below we'll train our agent. If you want to watch it train, uncomment the `env.render()` line. This is slow because it's rendering the frames slower than the network can train. But, it's cool to watch the agent get better at the game."
   ]
  },
  {
   "cell_type": "code",
   "execution_count": 23,
   "metadata": {},
   "outputs": [
    {
     "name": "stdout",
     "output_type": "stream",
     "text": [
      "Episode:0 meanR:24.0000 R:24.0000 rate:0.0480 gloss:0.6888 dlossA:0.7103 dlossQ:0.9459 exploreP:0.9976\n",
      "Episode:1 meanR:20.5000 R:17.0000 rate:0.0340 gloss:0.6900 dlossA:0.7110 dlossQ:0.9479 exploreP:0.9959\n",
      "Episode:2 meanR:17.6667 R:12.0000 rate:0.0240 gloss:0.6904 dlossA:0.7089 dlossQ:0.9624 exploreP:0.9948\n",
      "Episode:3 meanR:19.7500 R:26.0000 rate:0.0520 gloss:0.6893 dlossA:0.7074 dlossQ:0.9616 exploreP:0.9922\n",
      "Episode:4 meanR:19.0000 R:16.0000 rate:0.0320 gloss:0.6892 dlossA:0.7084 dlossQ:0.9682 exploreP:0.9906\n",
      "Episode:5 meanR:19.5000 R:22.0000 rate:0.0440 gloss:0.6915 dlossA:0.7131 dlossQ:0.9491 exploreP:0.9885\n",
      "Episode:6 meanR:18.1429 R:10.0000 rate:0.0200 gloss:0.6932 dlossA:0.7142 dlossQ:0.9582 exploreP:0.9875\n",
      "Episode:7 meanR:19.8750 R:32.0000 rate:0.0640 gloss:0.6922 dlossA:0.7103 dlossQ:0.9691 exploreP:0.9844\n",
      "Episode:8 meanR:23.8889 R:56.0000 rate:0.1120 gloss:0.6952 dlossA:0.7141 dlossQ:0.9646 exploreP:0.9789\n",
      "Episode:9 meanR:23.9000 R:24.0000 rate:0.0480 gloss:0.6976 dlossA:0.7152 dlossQ:0.9584 exploreP:0.9766\n",
      "Episode:10 meanR:24.5455 R:31.0000 rate:0.0620 gloss:0.6962 dlossA:0.7146 dlossQ:0.9722 exploreP:0.9736\n",
      "Episode:11 meanR:24.5833 R:25.0000 rate:0.0500 gloss:0.6991 dlossA:0.7160 dlossQ:0.9685 exploreP:0.9712\n",
      "Episode:12 meanR:25.3846 R:35.0000 rate:0.0700 gloss:0.6991 dlossA:0.7155 dlossQ:0.9818 exploreP:0.9679\n",
      "Episode:13 meanR:26.3571 R:39.0000 rate:0.0780 gloss:0.6996 dlossA:0.7159 dlossQ:0.9799 exploreP:0.9641\n",
      "Episode:14 meanR:25.9333 R:20.0000 rate:0.0400 gloss:0.7027 dlossA:0.7141 dlossQ:0.9970 exploreP:0.9622\n",
      "Episode:15 meanR:25.2500 R:15.0000 rate:0.0300 gloss:0.6985 dlossA:0.7143 dlossQ:0.9927 exploreP:0.9608\n",
      "Episode:16 meanR:25.3529 R:27.0000 rate:0.0540 gloss:0.7019 dlossA:0.7163 dlossQ:0.9903 exploreP:0.9582\n",
      "Episode:17 meanR:25.2778 R:24.0000 rate:0.0480 gloss:0.7083 dlossA:0.7196 dlossQ:0.9893 exploreP:0.9560\n",
      "Episode:18 meanR:25.0000 R:20.0000 rate:0.0400 gloss:0.7080 dlossA:0.7206 dlossQ:0.9854 exploreP:0.9541\n",
      "Episode:19 meanR:24.5000 R:15.0000 rate:0.0300 gloss:0.7029 dlossA:0.7162 dlossQ:0.9977 exploreP:0.9527\n",
      "Episode:20 meanR:24.2857 R:20.0000 rate:0.0400 gloss:0.7104 dlossA:0.7224 dlossQ:0.9922 exploreP:0.9508\n",
      "Episode:21 meanR:24.5909 R:31.0000 rate:0.0620 gloss:0.7058 dlossA:0.7185 dlossQ:0.9932 exploreP:0.9479\n",
      "Episode:22 meanR:24.7826 R:29.0000 rate:0.0580 gloss:0.7078 dlossA:0.7212 dlossQ:0.9938 exploreP:0.9451\n",
      "Episode:23 meanR:24.7083 R:23.0000 rate:0.0460 gloss:0.7113 dlossA:0.7224 dlossQ:0.9893 exploreP:0.9430\n",
      "Episode:24 meanR:25.6400 R:48.0000 rate:0.0960 gloss:0.7085 dlossA:0.7202 dlossQ:0.9999 exploreP:0.9385\n",
      "Episode:25 meanR:25.6923 R:27.0000 rate:0.0540 gloss:0.7160 dlossA:0.7218 dlossQ:1.0051 exploreP:0.9360\n",
      "Episode:26 meanR:26.3704 R:44.0000 rate:0.0880 gloss:0.7141 dlossA:0.7223 dlossQ:1.0100 exploreP:0.9320\n",
      "Episode:27 meanR:27.1429 R:48.0000 rate:0.0960 gloss:0.7193 dlossA:0.7231 dlossQ:1.0113 exploreP:0.9275\n",
      "Episode:28 meanR:26.7931 R:17.0000 rate:0.0340 gloss:0.7168 dlossA:0.7230 dlossQ:1.0218 exploreP:0.9260\n",
      "Episode:29 meanR:26.8000 R:27.0000 rate:0.0540 gloss:0.7157 dlossA:0.7250 dlossQ:1.0026 exploreP:0.9235\n",
      "Episode:30 meanR:26.3871 R:14.0000 rate:0.0280 gloss:0.7142 dlossA:0.7216 dlossQ:1.0187 exploreP:0.9222\n",
      "Episode:31 meanR:26.3125 R:24.0000 rate:0.0480 gloss:0.7220 dlossA:0.7262 dlossQ:1.0194 exploreP:0.9201\n",
      "Episode:32 meanR:26.2121 R:23.0000 rate:0.0460 gloss:0.7288 dlossA:0.7316 dlossQ:1.0119 exploreP:0.9180\n",
      "Episode:33 meanR:25.9118 R:16.0000 rate:0.0320 gloss:0.7244 dlossA:0.7290 dlossQ:1.0285 exploreP:0.9165\n",
      "Episode:34 meanR:25.6286 R:16.0000 rate:0.0320 gloss:0.7192 dlossA:0.7240 dlossQ:1.0219 exploreP:0.9151\n",
      "Episode:35 meanR:25.2500 R:12.0000 rate:0.0240 gloss:0.7174 dlossA:0.7270 dlossQ:1.0166 exploreP:0.9140\n",
      "Episode:36 meanR:25.1892 R:23.0000 rate:0.0460 gloss:0.7166 dlossA:0.7262 dlossQ:1.0088 exploreP:0.9119\n",
      "Episode:37 meanR:25.1842 R:25.0000 rate:0.0500 gloss:0.7204 dlossA:0.7268 dlossQ:1.0236 exploreP:0.9096\n",
      "Episode:38 meanR:25.0513 R:20.0000 rate:0.0400 gloss:0.7239 dlossA:0.7298 dlossQ:1.0241 exploreP:0.9079\n",
      "Episode:39 meanR:24.7250 R:12.0000 rate:0.0240 gloss:0.7231 dlossA:0.7313 dlossQ:1.0139 exploreP:0.9068\n",
      "Episode:40 meanR:24.5122 R:16.0000 rate:0.0320 gloss:0.7225 dlossA:0.7271 dlossQ:1.0287 exploreP:0.9053\n",
      "Episode:41 meanR:24.5476 R:26.0000 rate:0.0520 gloss:0.7185 dlossA:0.7267 dlossQ:1.0271 exploreP:0.9030\n",
      "Episode:42 meanR:24.7674 R:34.0000 rate:0.0680 gloss:0.7291 dlossA:0.7309 dlossQ:1.0185 exploreP:0.9000\n",
      "Episode:43 meanR:25.1364 R:41.0000 rate:0.0820 gloss:0.7280 dlossA:0.7297 dlossQ:1.0282 exploreP:0.8963\n",
      "Episode:44 meanR:25.3111 R:33.0000 rate:0.0660 gloss:0.7182 dlossA:0.7253 dlossQ:1.0356 exploreP:0.8934\n",
      "Episode:45 meanR:26.5652 R:83.0000 rate:0.1660 gloss:0.7241 dlossA:0.7296 dlossQ:1.0298 exploreP:0.8861\n",
      "Episode:46 meanR:26.4894 R:23.0000 rate:0.0460 gloss:0.7249 dlossA:0.7265 dlossQ:1.0465 exploreP:0.8841\n",
      "Episode:47 meanR:26.9375 R:48.0000 rate:0.0960 gloss:0.7250 dlossA:0.7280 dlossQ:1.0437 exploreP:0.8799\n",
      "Episode:48 meanR:26.7755 R:19.0000 rate:0.0380 gloss:0.7236 dlossA:0.7278 dlossQ:1.0360 exploreP:0.8783\n",
      "Episode:49 meanR:26.6000 R:18.0000 rate:0.0360 gloss:0.7320 dlossA:0.7344 dlossQ:1.0373 exploreP:0.8767\n",
      "Episode:50 meanR:26.3725 R:15.0000 rate:0.0300 gloss:0.7241 dlossA:0.7292 dlossQ:1.0337 exploreP:0.8754\n",
      "Episode:51 meanR:26.3462 R:25.0000 rate:0.0500 gloss:0.7228 dlossA:0.7298 dlossQ:1.0305 exploreP:0.8733\n",
      "Episode:52 meanR:26.1132 R:14.0000 rate:0.0280 gloss:0.7309 dlossA:0.7339 dlossQ:1.0381 exploreP:0.8720\n",
      "Episode:53 meanR:26.1481 R:28.0000 rate:0.0560 gloss:0.7326 dlossA:0.7351 dlossQ:1.0385 exploreP:0.8696\n",
      "Episode:54 meanR:26.0545 R:21.0000 rate:0.0420 gloss:0.7169 dlossA:0.7297 dlossQ:1.0342 exploreP:0.8678\n",
      "Episode:55 meanR:26.0536 R:26.0000 rate:0.0520 gloss:0.7266 dlossA:0.7310 dlossQ:1.0479 exploreP:0.8656\n",
      "Episode:56 meanR:26.0702 R:27.0000 rate:0.0540 gloss:0.7259 dlossA:0.7323 dlossQ:1.0326 exploreP:0.8633\n",
      "Episode:57 meanR:26.2931 R:39.0000 rate:0.0780 gloss:0.7317 dlossA:0.7327 dlossQ:1.0423 exploreP:0.8600\n",
      "Episode:58 meanR:26.8983 R:62.0000 rate:0.1240 gloss:0.7336 dlossA:0.7339 dlossQ:1.0482 exploreP:0.8547\n",
      "Episode:59 meanR:27.0500 R:36.0000 rate:0.0720 gloss:0.7272 dlossA:0.7325 dlossQ:1.0412 exploreP:0.8517\n",
      "Episode:60 meanR:27.0820 R:29.0000 rate:0.0580 gloss:0.7326 dlossA:0.7342 dlossQ:1.0456 exploreP:0.8492\n",
      "Episode:61 meanR:27.4032 R:47.0000 rate:0.0940 gloss:0.7325 dlossA:0.7356 dlossQ:1.0386 exploreP:0.8453\n",
      "Episode:62 meanR:27.2222 R:16.0000 rate:0.0320 gloss:0.7420 dlossA:0.7354 dlossQ:1.0652 exploreP:0.8440\n",
      "Episode:63 meanR:27.1562 R:23.0000 rate:0.0460 gloss:0.7401 dlossA:0.7375 dlossQ:1.0552 exploreP:0.8421\n",
      "Episode:64 meanR:27.2769 R:35.0000 rate:0.0700 gloss:0.7404 dlossA:0.7367 dlossQ:1.0632 exploreP:0.8392\n",
      "Episode:65 meanR:27.2879 R:28.0000 rate:0.0560 gloss:0.7326 dlossA:0.7345 dlossQ:1.0503 exploreP:0.8368\n",
      "Episode:66 meanR:28.2836 R:94.0000 rate:0.1880 gloss:0.7392 dlossA:0.7360 dlossQ:1.0564 exploreP:0.8291\n",
      "Episode:67 meanR:28.1765 R:21.0000 rate:0.0420 gloss:0.7412 dlossA:0.7372 dlossQ:1.0561 exploreP:0.8274\n",
      "Episode:68 meanR:27.9710 R:14.0000 rate:0.0280 gloss:0.7533 dlossA:0.7443 dlossQ:1.0829 exploreP:0.8262\n",
      "Episode:69 meanR:28.3571 R:55.0000 rate:0.1100 gloss:0.7464 dlossA:0.7402 dlossQ:1.0648 exploreP:0.8218\n",
      "Episode:70 meanR:28.5070 R:39.0000 rate:0.0780 gloss:0.7471 dlossA:0.7405 dlossQ:1.0667 exploreP:0.8186\n",
      "Episode:71 meanR:28.3750 R:19.0000 rate:0.0380 gloss:0.7359 dlossA:0.7382 dlossQ:1.0556 exploreP:0.8171\n",
      "Episode:72 meanR:28.3973 R:30.0000 rate:0.0600 gloss:0.7376 dlossA:0.7371 dlossQ:1.0620 exploreP:0.8146\n",
      "Episode:73 meanR:28.3108 R:22.0000 rate:0.0440 gloss:0.7330 dlossA:0.7394 dlossQ:1.0380 exploreP:0.8129\n",
      "Episode:74 meanR:28.0667 R:10.0000 rate:0.0200 gloss:0.7471 dlossA:0.7415 dlossQ:1.0744 exploreP:0.8121\n",
      "Episode:75 meanR:28.1184 R:32.0000 rate:0.0640 gloss:0.7467 dlossA:0.7402 dlossQ:1.0727 exploreP:0.8095\n",
      "Episode:76 meanR:28.0909 R:26.0000 rate:0.0520 gloss:0.7304 dlossA:0.7366 dlossQ:1.0572 exploreP:0.8074\n",
      "Episode:77 meanR:28.0128 R:22.0000 rate:0.0440 gloss:0.7560 dlossA:0.7429 dlossQ:1.0806 exploreP:0.8057\n",
      "Episode:78 meanR:28.1519 R:39.0000 rate:0.0780 gloss:0.7577 dlossA:0.7470 dlossQ:1.0806 exploreP:0.8026\n"
     ]
    },
    {
     "name": "stdout",
     "output_type": "stream",
     "text": [
      "Episode:79 meanR:28.1250 R:26.0000 rate:0.0520 gloss:0.7439 dlossA:0.7415 dlossQ:1.0651 exploreP:0.8005\n",
      "Episode:80 meanR:28.5556 R:63.0000 rate:0.1260 gloss:0.7415 dlossA:0.7373 dlossQ:1.0717 exploreP:0.7956\n",
      "Episode:81 meanR:28.4878 R:23.0000 rate:0.0460 gloss:0.7294 dlossA:0.7347 dlossQ:1.0530 exploreP:0.7938\n",
      "Episode:82 meanR:28.7470 R:50.0000 rate:0.1000 gloss:0.7491 dlossA:0.7432 dlossQ:1.0732 exploreP:0.7899\n",
      "Episode:83 meanR:28.6429 R:20.0000 rate:0.0400 gloss:0.7486 dlossA:0.7417 dlossQ:1.0695 exploreP:0.7883\n",
      "Episode:84 meanR:29.0824 R:66.0000 rate:0.1320 gloss:0.7385 dlossA:0.7384 dlossQ:1.0639 exploreP:0.7832\n",
      "Episode:85 meanR:29.3023 R:48.0000 rate:0.0960 gloss:0.7448 dlossA:0.7391 dlossQ:1.0653 exploreP:0.7795\n",
      "Episode:86 meanR:29.5862 R:54.0000 rate:0.1080 gloss:0.7414 dlossA:0.7422 dlossQ:1.0578 exploreP:0.7753\n",
      "Episode:87 meanR:29.6364 R:34.0000 rate:0.0680 gloss:0.7563 dlossA:0.7399 dlossQ:1.0822 exploreP:0.7727\n",
      "Episode:88 meanR:30.0000 R:62.0000 rate:0.1240 gloss:0.7513 dlossA:0.7436 dlossQ:1.0742 exploreP:0.7680\n",
      "Episode:89 meanR:29.7889 R:11.0000 rate:0.0220 gloss:0.7596 dlossA:0.7431 dlossQ:1.0807 exploreP:0.7672\n",
      "Episode:90 meanR:29.7033 R:22.0000 rate:0.0440 gloss:0.7541 dlossA:0.7431 dlossQ:1.0781 exploreP:0.7655\n",
      "Episode:91 meanR:30.5543 R:108.0000 rate:0.2160 gloss:0.7532 dlossA:0.7444 dlossQ:1.0815 exploreP:0.7574\n",
      "Episode:92 meanR:30.7527 R:49.0000 rate:0.0980 gloss:0.7476 dlossA:0.7412 dlossQ:1.0666 exploreP:0.7537\n",
      "Episode:93 meanR:31.0106 R:55.0000 rate:0.1100 gloss:0.7471 dlossA:0.7412 dlossQ:1.0658 exploreP:0.7497\n",
      "Episode:94 meanR:30.9474 R:25.0000 rate:0.0500 gloss:0.7563 dlossA:0.7472 dlossQ:1.0791 exploreP:0.7478\n",
      "Episode:95 meanR:30.7188 R:9.0000 rate:0.0180 gloss:0.7458 dlossA:0.7425 dlossQ:1.0673 exploreP:0.7472\n",
      "Episode:96 meanR:30.9072 R:49.0000 rate:0.0980 gloss:0.7644 dlossA:0.7485 dlossQ:1.0940 exploreP:0.7436\n",
      "Episode:97 meanR:30.7755 R:18.0000 rate:0.0360 gloss:0.7376 dlossA:0.7428 dlossQ:1.0547 exploreP:0.7422\n",
      "Episode:98 meanR:30.7273 R:26.0000 rate:0.0520 gloss:0.7670 dlossA:0.7448 dlossQ:1.0791 exploreP:0.7403\n",
      "Episode:99 meanR:30.6700 R:25.0000 rate:0.0500 gloss:0.7555 dlossA:0.7447 dlossQ:1.0757 exploreP:0.7385\n",
      "Episode:100 meanR:30.5600 R:13.0000 rate:0.0260 gloss:0.7442 dlossA:0.7433 dlossQ:1.0417 exploreP:0.7376\n",
      "Episode:101 meanR:32.2200 R:183.0000 rate:0.3660 gloss:0.7532 dlossA:0.7448 dlossQ:1.0780 exploreP:0.7244\n",
      "Episode:102 meanR:32.5200 R:42.0000 rate:0.0840 gloss:0.7559 dlossA:0.7459 dlossQ:1.0858 exploreP:0.7214\n",
      "Episode:103 meanR:32.3700 R:11.0000 rate:0.0220 gloss:0.7585 dlossA:0.7441 dlossQ:1.0879 exploreP:0.7206\n",
      "Episode:104 meanR:32.4500 R:24.0000 rate:0.0480 gloss:0.7404 dlossA:0.7401 dlossQ:1.0536 exploreP:0.7189\n",
      "Episode:105 meanR:33.1400 R:91.0000 rate:0.1820 gloss:0.7520 dlossA:0.7439 dlossQ:1.0716 exploreP:0.7125\n",
      "Episode:106 meanR:33.2800 R:24.0000 rate:0.0480 gloss:0.7452 dlossA:0.7417 dlossQ:1.0730 exploreP:0.7108\n",
      "Episode:107 meanR:33.3000 R:34.0000 rate:0.0680 gloss:0.7549 dlossA:0.7462 dlossQ:1.0627 exploreP:0.7084\n",
      "Episode:108 meanR:33.0800 R:34.0000 rate:0.0680 gloss:0.7601 dlossA:0.7457 dlossQ:1.0945 exploreP:0.7060\n",
      "Episode:109 meanR:33.5000 R:66.0000 rate:0.1320 gloss:0.7651 dlossA:0.7459 dlossQ:1.0687 exploreP:0.7015\n",
      "Episode:110 meanR:33.4800 R:29.0000 rate:0.0580 gloss:0.7576 dlossA:0.7479 dlossQ:1.0765 exploreP:0.6995\n",
      "Episode:111 meanR:33.4400 R:21.0000 rate:0.0420 gloss:0.7460 dlossA:0.7426 dlossQ:1.0704 exploreP:0.6980\n",
      "Episode:112 meanR:33.4100 R:32.0000 rate:0.0640 gloss:0.7628 dlossA:0.7503 dlossQ:1.0712 exploreP:0.6958\n",
      "Episode:113 meanR:33.3800 R:36.0000 rate:0.0720 gloss:0.7594 dlossA:0.7445 dlossQ:1.0770 exploreP:0.6933\n",
      "Episode:114 meanR:34.0500 R:87.0000 rate:0.1740 gloss:0.7617 dlossA:0.7475 dlossQ:1.0811 exploreP:0.6874\n",
      "Episode:115 meanR:34.8100 R:91.0000 rate:0.1820 gloss:0.7585 dlossA:0.7468 dlossQ:1.0700 exploreP:0.6813\n",
      "Episode:116 meanR:34.9500 R:41.0000 rate:0.0820 gloss:0.7495 dlossA:0.7447 dlossQ:1.0558 exploreP:0.6785\n",
      "Episode:117 meanR:35.0800 R:37.0000 rate:0.0740 gloss:0.7608 dlossA:0.7499 dlossQ:1.0779 exploreP:0.6761\n",
      "Episode:118 meanR:35.7000 R:82.0000 rate:0.1640 gloss:0.7625 dlossA:0.7465 dlossQ:1.0797 exploreP:0.6706\n",
      "Episode:119 meanR:36.4000 R:85.0000 rate:0.1700 gloss:0.7558 dlossA:0.7452 dlossQ:1.0719 exploreP:0.6650\n",
      "Episode:120 meanR:36.3900 R:19.0000 rate:0.0380 gloss:0.7504 dlossA:0.7411 dlossQ:1.0846 exploreP:0.6638\n",
      "Episode:121 meanR:36.5800 R:50.0000 rate:0.1000 gloss:0.7652 dlossA:0.7507 dlossQ:1.0882 exploreP:0.6605\n",
      "Episode:122 meanR:36.5300 R:24.0000 rate:0.0480 gloss:0.7651 dlossA:0.7528 dlossQ:1.0881 exploreP:0.6590\n",
      "Episode:123 meanR:37.9900 R:169.0000 rate:0.3380 gloss:0.7551 dlossA:0.7455 dlossQ:1.0707 exploreP:0.6481\n",
      "Episode:124 meanR:37.8300 R:32.0000 rate:0.0640 gloss:0.7539 dlossA:0.7488 dlossQ:1.0625 exploreP:0.6461\n",
      "Episode:125 meanR:37.9400 R:38.0000 rate:0.0760 gloss:0.7424 dlossA:0.7430 dlossQ:1.0614 exploreP:0.6437\n",
      "Episode:126 meanR:38.6400 R:114.0000 rate:0.2280 gloss:0.7556 dlossA:0.7471 dlossQ:1.0654 exploreP:0.6365\n",
      "Episode:127 meanR:40.3400 R:218.0000 rate:0.4360 gloss:0.7588 dlossA:0.7483 dlossQ:1.0752 exploreP:0.6230\n",
      "Episode:128 meanR:40.4700 R:30.0000 rate:0.0600 gloss:0.7589 dlossA:0.7472 dlossQ:1.0638 exploreP:0.6211\n",
      "Episode:129 meanR:40.6700 R:47.0000 rate:0.0940 gloss:0.7617 dlossA:0.7500 dlossQ:1.0705 exploreP:0.6183\n",
      "Episode:130 meanR:40.9800 R:45.0000 rate:0.0900 gloss:0.7523 dlossA:0.7445 dlossQ:1.0753 exploreP:0.6155\n",
      "Episode:131 meanR:41.6700 R:93.0000 rate:0.1860 gloss:0.7563 dlossA:0.7474 dlossQ:1.0752 exploreP:0.6099\n",
      "Episode:132 meanR:42.1500 R:71.0000 rate:0.1420 gloss:0.7584 dlossA:0.7486 dlossQ:1.0690 exploreP:0.6057\n",
      "Episode:133 meanR:42.8100 R:82.0000 rate:0.1640 gloss:0.7616 dlossA:0.7500 dlossQ:1.0749 exploreP:0.6008\n",
      "Episode:134 meanR:44.0700 R:142.0000 rate:0.2840 gloss:0.7609 dlossA:0.7482 dlossQ:1.0751 exploreP:0.5925\n",
      "Episode:135 meanR:44.7900 R:84.0000 rate:0.1680 gloss:0.7552 dlossA:0.7483 dlossQ:1.0616 exploreP:0.5876\n",
      "Episode:136 meanR:45.0500 R:49.0000 rate:0.0980 gloss:0.7552 dlossA:0.7458 dlossQ:1.0645 exploreP:0.5848\n",
      "Episode:137 meanR:46.1200 R:132.0000 rate:0.2640 gloss:0.7600 dlossA:0.7478 dlossQ:1.0713 exploreP:0.5773\n",
      "Episode:138 meanR:46.2100 R:29.0000 rate:0.0580 gloss:0.7619 dlossA:0.7510 dlossQ:1.0660 exploreP:0.5756\n",
      "Episode:139 meanR:47.5300 R:144.0000 rate:0.2880 gloss:0.7564 dlossA:0.7483 dlossQ:1.0645 exploreP:0.5675\n",
      "Episode:140 meanR:49.3900 R:202.0000 rate:0.4040 gloss:0.7654 dlossA:0.7507 dlossQ:1.0743 exploreP:0.5564\n",
      "Episode:141 meanR:51.0000 R:187.0000 rate:0.3740 gloss:0.7654 dlossA:0.7533 dlossQ:1.0699 exploreP:0.5463\n",
      "Episode:142 meanR:53.3800 R:272.0000 rate:0.5440 gloss:0.7658 dlossA:0.7519 dlossQ:1.0669 exploreP:0.5319\n",
      "Episode:143 meanR:54.5800 R:161.0000 rate:0.3220 gloss:0.7629 dlossA:0.7532 dlossQ:1.0602 exploreP:0.5235\n",
      "Episode:144 meanR:55.9000 R:165.0000 rate:0.3300 gloss:0.7686 dlossA:0.7529 dlossQ:1.0659 exploreP:0.5151\n",
      "Episode:145 meanR:57.1500 R:208.0000 rate:0.4160 gloss:0.7738 dlossA:0.7541 dlossQ:1.0628 exploreP:0.5047\n",
      "Episode:146 meanR:58.2600 R:134.0000 rate:0.2680 gloss:0.7692 dlossA:0.7557 dlossQ:1.0578 exploreP:0.4981\n",
      "Episode:147 meanR:61.4200 R:364.0000 rate:0.7280 gloss:0.7773 dlossA:0.7573 dlossQ:1.0659 exploreP:0.4807\n",
      "Episode:148 meanR:62.1700 R:94.0000 rate:0.1880 gloss:0.7765 dlossA:0.7605 dlossQ:1.0518 exploreP:0.4763\n",
      "Episode:149 meanR:62.7100 R:72.0000 rate:0.1440 gloss:0.7785 dlossA:0.7593 dlossQ:1.0725 exploreP:0.4729\n",
      "Episode:150 meanR:63.3800 R:82.0000 rate:0.1640 gloss:0.7780 dlossA:0.7583 dlossQ:1.0595 exploreP:0.4692\n",
      "Episode:151 meanR:66.0500 R:292.0000 rate:0.5840 gloss:0.7800 dlossA:0.7599 dlossQ:1.0574 exploreP:0.4559\n",
      "Episode:152 meanR:70.4800 R:457.0000 rate:0.9140 gloss:0.7880 dlossA:0.7650 dlossQ:1.0628 exploreP:0.4360\n",
      "Episode:153 meanR:71.4200 R:122.0000 rate:0.2440 gloss:0.7840 dlossA:0.7614 dlossQ:1.0531 exploreP:0.4309\n",
      "Episode:154 meanR:72.8100 R:160.0000 rate:0.3200 gloss:0.7933 dlossA:0.7665 dlossQ:1.0558 exploreP:0.4242\n",
      "Episode:155 meanR:77.5500 R:500.0000 rate:1.0000 gloss:0.8016 dlossA:0.7709 dlossQ:1.0555 exploreP:0.4040\n",
      "Episode:156 meanR:80.3500 R:307.0000 rate:0.6140 gloss:0.8135 dlossA:0.7804 dlossQ:1.0536 exploreP:0.3921\n",
      "Episode:157 meanR:82.7200 R:276.0000 rate:0.5520 gloss:0.8190 dlossA:0.7811 dlossQ:1.0508 exploreP:0.3817\n"
     ]
    },
    {
     "name": "stdout",
     "output_type": "stream",
     "text": [
      "Episode:158 meanR:84.6600 R:256.0000 rate:0.5120 gloss:0.8243 dlossA:0.7859 dlossQ:1.0565 exploreP:0.3723\n",
      "Episode:159 meanR:85.4100 R:111.0000 rate:0.2220 gloss:0.8285 dlossA:0.7865 dlossQ:1.0491 exploreP:0.3683\n",
      "Episode:160 meanR:88.3400 R:322.0000 rate:0.6440 gloss:0.8364 dlossA:0.7917 dlossQ:1.0540 exploreP:0.3569\n",
      "Episode:161 meanR:89.9300 R:206.0000 rate:0.4120 gloss:0.8480 dlossA:0.7966 dlossQ:1.0510 exploreP:0.3499\n",
      "Episode:162 meanR:93.6100 R:384.0000 rate:0.7680 gloss:0.8632 dlossA:0.8042 dlossQ:1.0458 exploreP:0.3370\n",
      "Episode:163 meanR:98.3800 R:500.0000 rate:1.0000 gloss:0.8713 dlossA:0.8121 dlossQ:1.0442 exploreP:0.3211\n",
      "Episode:164 meanR:99.5000 R:147.0000 rate:0.2940 gloss:0.8850 dlossA:0.8196 dlossQ:1.0440 exploreP:0.3166\n",
      "Episode:165 meanR:100.9900 R:177.0000 rate:0.3540 gloss:0.8829 dlossA:0.8177 dlossQ:1.0359 exploreP:0.3112\n",
      "Episode:166 meanR:101.9200 R:187.0000 rate:0.3740 gloss:0.9000 dlossA:0.8310 dlossQ:1.0467 exploreP:0.3056\n",
      "Episode:167 meanR:103.5900 R:188.0000 rate:0.3760 gloss:0.9010 dlossA:0.8236 dlossQ:1.0402 exploreP:0.3001\n",
      "Episode:168 meanR:105.5300 R:208.0000 rate:0.4160 gloss:0.9151 dlossA:0.8379 dlossQ:1.0415 exploreP:0.2941\n",
      "Episode:169 meanR:106.3800 R:140.0000 rate:0.2800 gloss:0.9206 dlossA:0.8412 dlossQ:1.0351 exploreP:0.2902\n",
      "Episode:170 meanR:110.0100 R:402.0000 rate:0.8040 gloss:0.9340 dlossA:0.8432 dlossQ:1.0395 exploreP:0.2791\n",
      "Episode:171 meanR:112.7200 R:290.0000 rate:0.5800 gloss:0.9592 dlossA:0.8567 dlossQ:1.0354 exploreP:0.2714\n",
      "Episode:172 meanR:117.4200 R:500.0000 rate:1.0000 gloss:0.9786 dlossA:0.8742 dlossQ:1.0311 exploreP:0.2587\n",
      "Episode:173 meanR:120.6600 R:346.0000 rate:0.6920 gloss:0.9927 dlossA:0.8774 dlossQ:1.0266 exploreP:0.2502\n",
      "Episode:174 meanR:125.5600 R:500.0000 rate:1.0000 gloss:1.0180 dlossA:0.8954 dlossQ:1.0237 exploreP:0.2385\n",
      "Episode:175 meanR:129.2900 R:405.0000 rate:0.8100 gloss:1.0472 dlossA:0.9136 dlossQ:1.0233 exploreP:0.2294\n",
      "Episode:176 meanR:131.5900 R:256.0000 rate:0.5120 gloss:1.0645 dlossA:0.9233 dlossQ:1.0221 exploreP:0.2239\n",
      "Episode:177 meanR:135.3400 R:397.0000 rate:0.7940 gloss:1.0909 dlossA:0.9363 dlossQ:1.0110 exploreP:0.2156\n",
      "Episode:178 meanR:139.4000 R:445.0000 rate:0.8900 gloss:1.1175 dlossA:0.9553 dlossQ:1.0161 exploreP:0.2066\n",
      "Episode:179 meanR:142.9600 R:382.0000 rate:0.7640 gloss:1.1486 dlossA:0.9716 dlossQ:1.0141 exploreP:0.1993\n",
      "Episode:180 meanR:147.3300 R:500.0000 rate:1.0000 gloss:1.1846 dlossA:1.0076 dlossQ:1.0088 exploreP:0.1900\n",
      "Episode:181 meanR:152.1000 R:500.0000 rate:1.0000 gloss:1.2047 dlossA:1.0053 dlossQ:1.0098 exploreP:0.1812\n",
      "Episode:182 meanR:155.8800 R:428.0000 rate:0.8560 gloss:1.2512 dlossA:1.0459 dlossQ:1.0036 exploreP:0.1741\n",
      "Episode:183 meanR:160.6800 R:500.0000 rate:1.0000 gloss:1.2756 dlossA:1.0514 dlossQ:1.0072 exploreP:0.1661\n",
      "Episode:184 meanR:164.1800 R:416.0000 rate:0.8320 gloss:1.3108 dlossA:1.0701 dlossQ:1.0046 exploreP:0.1597\n",
      "Episode:185 meanR:168.3200 R:462.0000 rate:0.9240 gloss:1.3520 dlossA:1.1089 dlossQ:1.0065 exploreP:0.1530\n",
      "Episode:186 meanR:172.7800 R:500.0000 rate:1.0000 gloss:1.3953 dlossA:1.1259 dlossQ:1.0013 exploreP:0.1460\n",
      "Episode:187 meanR:177.4400 R:500.0000 rate:1.0000 gloss:1.4449 dlossA:1.1763 dlossQ:1.0084 exploreP:0.1393\n",
      "Episode:188 meanR:181.8200 R:500.0000 rate:1.0000 gloss:1.4747 dlossA:1.2196 dlossQ:1.0029 exploreP:0.1330\n",
      "Episode:189 meanR:185.5900 R:388.0000 rate:0.7760 gloss:1.5111 dlossA:1.2042 dlossQ:1.0173 exploreP:0.1284\n",
      "Episode:190 meanR:190.3700 R:500.0000 rate:1.0000 gloss:1.5534 dlossA:1.2370 dlossQ:1.0141 exploreP:0.1226\n",
      "Episode:191 meanR:194.2900 R:500.0000 rate:1.0000 gloss:1.6061 dlossA:1.3136 dlossQ:1.0247 exploreP:0.1171\n",
      "Episode:192 meanR:198.8000 R:500.0000 rate:1.0000 gloss:1.6613 dlossA:1.3061 dlossQ:1.0289 exploreP:0.1119\n",
      "Episode:193 meanR:200.7700 R:252.0000 rate:0.5040 gloss:1.7048 dlossA:1.3417 dlossQ:1.0396 exploreP:0.1093\n",
      "Episode:194 meanR:203.8800 R:336.0000 rate:0.6720 gloss:1.7477 dlossA:1.3557 dlossQ:1.0526 exploreP:0.1061\n",
      "Episode:195 meanR:205.7800 R:199.0000 rate:0.3980 gloss:1.7977 dlossA:1.4340 dlossQ:1.0706 exploreP:0.1042\n",
      "Episode:196 meanR:210.2900 R:500.0000 rate:1.0000 gloss:1.8317 dlossA:1.4424 dlossQ:1.0714 exploreP:0.0996\n",
      "Episode:197 meanR:215.1100 R:500.0000 rate:1.0000 gloss:1.9059 dlossA:1.4926 dlossQ:1.0787 exploreP:0.0952\n",
      "Episode:198 meanR:219.8500 R:500.0000 rate:1.0000 gloss:1.9383 dlossA:1.5180 dlossQ:1.0848 exploreP:0.0910\n",
      "Episode:199 meanR:224.6000 R:500.0000 rate:1.0000 gloss:1.9932 dlossA:1.5896 dlossQ:1.0870 exploreP:0.0871\n",
      "Episode:200 meanR:228.1700 R:370.0000 rate:0.7400 gloss:2.0458 dlossA:1.5932 dlossQ:1.0962 exploreP:0.0843\n",
      "Episode:201 meanR:231.3400 R:500.0000 rate:1.0000 gloss:2.0977 dlossA:1.6739 dlossQ:1.1045 exploreP:0.0807\n",
      "Episode:202 meanR:235.9200 R:500.0000 rate:1.0000 gloss:2.1716 dlossA:1.6762 dlossQ:1.1188 exploreP:0.0772\n",
      "Episode:203 meanR:238.3000 R:249.0000 rate:0.4980 gloss:2.2438 dlossA:1.7061 dlossQ:1.1331 exploreP:0.0756\n",
      "Episode:204 meanR:243.0600 R:500.0000 rate:1.0000 gloss:2.3057 dlossA:1.8412 dlossQ:1.1552 exploreP:0.0724\n",
      "Episode:205 meanR:246.9900 R:484.0000 rate:0.9680 gloss:2.3658 dlossA:1.8290 dlossQ:1.1589 exploreP:0.0694\n",
      "Episode:206 meanR:251.7500 R:500.0000 rate:1.0000 gloss:2.4428 dlossA:1.9284 dlossQ:1.1885 exploreP:0.0665\n",
      "Episode:207 meanR:256.4100 R:500.0000 rate:1.0000 gloss:2.5310 dlossA:1.9847 dlossQ:1.2104 exploreP:0.0638\n",
      "Episode:208 meanR:261.0700 R:500.0000 rate:1.0000 gloss:2.6217 dlossA:2.0728 dlossQ:1.2368 exploreP:0.0611\n",
      "Episode:209 meanR:262.9600 R:255.0000 rate:0.5100 gloss:2.6886 dlossA:2.1512 dlossQ:1.2361 exploreP:0.0599\n",
      "Episode:210 meanR:267.6700 R:500.0000 rate:1.0000 gloss:2.7582 dlossA:2.2157 dlossQ:1.2773 exploreP:0.0574\n",
      "Episode:211 meanR:272.4600 R:500.0000 rate:1.0000 gloss:2.8347 dlossA:2.2034 dlossQ:1.2841 exploreP:0.0551\n",
      "Episode:212 meanR:277.1400 R:500.0000 rate:1.0000 gloss:2.9620 dlossA:2.3438 dlossQ:1.3457 exploreP:0.0529\n",
      "Episode:213 meanR:281.7800 R:500.0000 rate:1.0000 gloss:3.0497 dlossA:2.4211 dlossQ:1.3884 exploreP:0.0508\n",
      "Episode:214 meanR:285.9100 R:500.0000 rate:1.0000 gloss:3.1683 dlossA:2.4843 dlossQ:1.3871 exploreP:0.0488\n",
      "Episode:215 meanR:290.0000 R:500.0000 rate:1.0000 gloss:3.2885 dlossA:2.6035 dlossQ:1.4281 exploreP:0.0469\n",
      "Episode:216 meanR:292.7300 R:314.0000 rate:0.6280 gloss:3.4010 dlossA:2.6370 dlossQ:1.4605 exploreP:0.0458\n",
      "Episode:217 meanR:297.3600 R:500.0000 rate:1.0000 gloss:3.5295 dlossA:2.7847 dlossQ:1.5705 exploreP:0.0440\n",
      "Episode:218 meanR:301.5400 R:500.0000 rate:1.0000 gloss:3.6430 dlossA:2.8535 dlossQ:1.5684 exploreP:0.0424\n",
      "Episode:219 meanR:305.6900 R:500.0000 rate:1.0000 gloss:3.8554 dlossA:3.0943 dlossQ:1.7302 exploreP:0.0408\n",
      "Episode:220 meanR:308.8700 R:337.0000 rate:0.6740 gloss:3.9337 dlossA:3.2789 dlossQ:1.6762 exploreP:0.0398\n",
      "Episode:221 meanR:313.3700 R:500.0000 rate:1.0000 gloss:4.0149 dlossA:3.3536 dlossQ:1.7512 exploreP:0.0383\n",
      "Episode:222 meanR:318.1300 R:500.0000 rate:1.0000 gloss:4.1215 dlossA:3.1792 dlossQ:1.9011 exploreP:0.0370\n",
      "Episode:223 meanR:321.4400 R:500.0000 rate:1.0000 gloss:4.3650 dlossA:3.4121 dlossQ:1.9014 exploreP:0.0356\n",
      "Episode:224 meanR:326.1200 R:500.0000 rate:1.0000 gloss:4.5331 dlossA:3.5888 dlossQ:1.9979 exploreP:0.0344\n",
      "Episode:225 meanR:330.7400 R:500.0000 rate:1.0000 gloss:4.7223 dlossA:3.8529 dlossQ:2.1108 exploreP:0.0332\n",
      "Episode:226 meanR:334.6000 R:500.0000 rate:1.0000 gloss:4.8220 dlossA:3.9198 dlossQ:2.1218 exploreP:0.0321\n",
      "Episode:227 meanR:335.2100 R:279.0000 rate:0.5580 gloss:4.9688 dlossA:4.0425 dlossQ:2.2652 exploreP:0.0315\n",
      "Episode:228 meanR:339.9100 R:500.0000 rate:1.0000 gloss:5.1946 dlossA:4.1625 dlossQ:2.3928 exploreP:0.0304\n",
      "Episode:229 meanR:344.4400 R:500.0000 rate:1.0000 gloss:5.2982 dlossA:4.3639 dlossQ:2.5399 exploreP:0.0294\n",
      "Episode:230 meanR:346.3100 R:232.0000 rate:0.4640 gloss:5.4255 dlossA:4.3754 dlossQ:2.6079 exploreP:0.0290\n",
      "Episode:231 meanR:350.3800 R:500.0000 rate:1.0000 gloss:5.4970 dlossA:4.3342 dlossQ:2.5467 exploreP:0.0280\n",
      "Episode:232 meanR:352.3200 R:265.0000 rate:0.5300 gloss:5.7751 dlossA:4.4427 dlossQ:2.8395 exploreP:0.0276\n",
      "Episode:233 meanR:356.5000 R:500.0000 rate:1.0000 gloss:6.0104 dlossA:4.6070 dlossQ:3.0819 exploreP:0.0267\n",
      "Episode:234 meanR:360.0800 R:500.0000 rate:1.0000 gloss:6.2089 dlossA:5.1504 dlossQ:3.0377 exploreP:0.0259\n"
     ]
    },
    {
     "name": "stdout",
     "output_type": "stream",
     "text": [
      "Episode:235 meanR:364.2400 R:500.0000 rate:1.0000 gloss:6.5525 dlossA:5.1140 dlossQ:3.5825 exploreP:0.0251\n",
      "Episode:236 meanR:368.7500 R:500.0000 rate:1.0000 gloss:6.6001 dlossA:5.0678 dlossQ:3.7415 exploreP:0.0244\n",
      "Episode:237 meanR:372.4300 R:500.0000 rate:1.0000 gloss:6.9043 dlossA:5.4634 dlossQ:3.7174 exploreP:0.0237\n",
      "Episode:238 meanR:377.1400 R:500.0000 rate:1.0000 gloss:7.1222 dlossA:5.5503 dlossQ:4.1031 exploreP:0.0230\n",
      "Episode:239 meanR:380.7000 R:500.0000 rate:1.0000 gloss:7.4029 dlossA:5.7215 dlossQ:4.2929 exploreP:0.0224\n",
      "Episode:240 meanR:383.6800 R:500.0000 rate:1.0000 gloss:7.6852 dlossA:5.9864 dlossQ:4.5288 exploreP:0.0218\n",
      "Episode:241 meanR:385.2600 R:345.0000 rate:0.6900 gloss:7.8948 dlossA:6.1228 dlossQ:4.7433 exploreP:0.0214\n",
      "Episode:242 meanR:387.5400 R:500.0000 rate:1.0000 gloss:8.0402 dlossA:6.1384 dlossQ:4.6235 exploreP:0.0208\n",
      "Episode:243 meanR:390.9300 R:500.0000 rate:1.0000 gloss:8.4995 dlossA:6.2340 dlossQ:5.4241 exploreP:0.0203\n",
      "Episode:244 meanR:394.2800 R:500.0000 rate:1.0000 gloss:8.8748 dlossA:6.4428 dlossQ:5.8611 exploreP:0.0198\n",
      "Episode:245 meanR:397.2000 R:500.0000 rate:1.0000 gloss:9.6128 dlossA:7.0053 dlossQ:7.0343 exploreP:0.0193\n",
      "Episode:246 meanR:400.8600 R:500.0000 rate:1.0000 gloss:9.9182 dlossA:7.6429 dlossQ:6.9907 exploreP:0.0189\n",
      "Episode:247 meanR:402.2200 R:500.0000 rate:1.0000 gloss:10.1350 dlossA:7.6964 dlossQ:8.2462 exploreP:0.0184\n",
      "Episode:248 meanR:406.2800 R:500.0000 rate:1.0000 gloss:10.3063 dlossA:7.7345 dlossQ:7.8849 exploreP:0.0180\n",
      "Episode:249 meanR:410.5600 R:500.0000 rate:1.0000 gloss:10.6914 dlossA:7.9054 dlossQ:9.4008 exploreP:0.0176\n",
      "Episode:250 meanR:414.7400 R:500.0000 rate:1.0000 gloss:10.6364 dlossA:7.4492 dlossQ:8.1502 exploreP:0.0173\n",
      "Episode:251 meanR:416.8200 R:500.0000 rate:1.0000 gloss:11.4578 dlossA:7.7364 dlossQ:10.3291 exploreP:0.0169\n",
      "Episode:252 meanR:417.2500 R:500.0000 rate:1.0000 gloss:11.7605 dlossA:8.6772 dlossQ:10.5128 exploreP:0.0166\n",
      "Episode:253 meanR:421.0300 R:500.0000 rate:1.0000 gloss:11.9580 dlossA:8.6257 dlossQ:10.4034 exploreP:0.0162\n",
      "Episode:254 meanR:424.4300 R:500.0000 rate:1.0000 gloss:11.9716 dlossA:8.6048 dlossQ:9.3983 exploreP:0.0159\n",
      "Episode:255 meanR:422.1600 R:273.0000 rate:0.5460 gloss:12.0547 dlossA:8.6595 dlossQ:9.4305 exploreP:0.0158\n",
      "Episode:256 meanR:424.0900 R:500.0000 rate:1.0000 gloss:12.4144 dlossA:8.5738 dlossQ:9.4613 exploreP:0.0155\n",
      "Episode:257 meanR:426.3300 R:500.0000 rate:1.0000 gloss:13.1201 dlossA:9.0000 dlossQ:10.7582 exploreP:0.0152\n",
      "Episode:258 meanR:428.7700 R:500.0000 rate:1.0000 gloss:13.6427 dlossA:10.4536 dlossQ:11.8805 exploreP:0.0150\n",
      "Episode:259 meanR:431.5300 R:387.0000 rate:0.7740 gloss:13.4783 dlossA:9.4373 dlossQ:10.9704 exploreP:0.0148\n",
      "Episode:260 meanR:433.3100 R:500.0000 rate:1.0000 gloss:14.1093 dlossA:10.3894 dlossQ:12.5940 exploreP:0.0146\n",
      "Episode:261 meanR:436.2500 R:500.0000 rate:1.0000 gloss:14.3923 dlossA:9.9297 dlossQ:14.7222 exploreP:0.0143\n",
      "Episode:262 meanR:437.4100 R:500.0000 rate:1.0000 gloss:14.4843 dlossA:9.7509 dlossQ:12.8092 exploreP:0.0141\n",
      "Episode:263 meanR:437.4100 R:500.0000 rate:1.0000 gloss:15.1591 dlossA:9.9788 dlossQ:14.0628 exploreP:0.0139\n",
      "Episode:264 meanR:440.9400 R:500.0000 rate:1.0000 gloss:15.7559 dlossA:10.4347 dlossQ:18.0489 exploreP:0.0137\n",
      "Episode:265 meanR:444.1700 R:500.0000 rate:1.0000 gloss:16.0013 dlossA:11.3002 dlossQ:17.6301 exploreP:0.0135\n",
      "Episode:266 meanR:447.3000 R:500.0000 rate:1.0000 gloss:16.4320 dlossA:11.6070 dlossQ:17.5455 exploreP:0.0134\n",
      "Episode:267 meanR:449.9800 R:456.0000 rate:0.9120 gloss:16.5037 dlossA:11.0276 dlossQ:15.5598 exploreP:0.0132\n",
      "Episode:268 meanR:452.9000 R:500.0000 rate:1.0000 gloss:17.0142 dlossA:11.6839 dlossQ:17.4356 exploreP:0.0131\n",
      "Episode:269 meanR:456.5000 R:500.0000 rate:1.0000 gloss:17.1137 dlossA:11.2124 dlossQ:16.0442 exploreP:0.0129\n",
      "Episode:270 meanR:457.4800 R:500.0000 rate:1.0000 gloss:17.5596 dlossA:11.9946 dlossQ:16.8365 exploreP:0.0128\n",
      "Episode:271 meanR:459.5800 R:500.0000 rate:1.0000 gloss:17.9123 dlossA:11.7692 dlossQ:18.6011 exploreP:0.0126\n",
      "Episode:272 meanR:459.5800 R:500.0000 rate:1.0000 gloss:18.4032 dlossA:12.1295 dlossQ:17.2988 exploreP:0.0125\n",
      "Episode:273 meanR:461.1200 R:500.0000 rate:1.0000 gloss:18.8640 dlossA:11.9993 dlossQ:19.0905 exploreP:0.0124\n",
      "Episode:274 meanR:461.1200 R:500.0000 rate:1.0000 gloss:19.4573 dlossA:12.8458 dlossQ:18.6893 exploreP:0.0123\n",
      "Episode:275 meanR:462.0700 R:500.0000 rate:1.0000 gloss:19.8942 dlossA:12.9973 dlossQ:19.1149 exploreP:0.0122\n",
      "Episode:276 meanR:464.5100 R:500.0000 rate:1.0000 gloss:20.7243 dlossA:12.9208 dlossQ:21.5373 exploreP:0.0121\n",
      "Episode:277 meanR:465.5400 R:500.0000 rate:1.0000 gloss:21.5680 dlossA:13.2088 dlossQ:22.0100 exploreP:0.0120\n",
      "Episode:278 meanR:465.6900 R:460.0000 rate:0.9200 gloss:22.6850 dlossA:14.4125 dlossQ:24.1848 exploreP:0.0119\n",
      "Episode:279 meanR:466.8700 R:500.0000 rate:1.0000 gloss:22.9045 dlossA:14.8749 dlossQ:23.0800 exploreP:0.0118\n",
      "Episode:280 meanR:466.8700 R:500.0000 rate:1.0000 gloss:23.2945 dlossA:15.1903 dlossQ:28.8068 exploreP:0.0117\n",
      "Episode:281 meanR:466.8700 R:500.0000 rate:1.0000 gloss:22.6120 dlossA:14.1918 dlossQ:21.2768 exploreP:0.0116\n",
      "Episode:282 meanR:467.5900 R:500.0000 rate:1.0000 gloss:22.4171 dlossA:13.6015 dlossQ:21.3165 exploreP:0.0115\n",
      "Episode:283 meanR:467.5900 R:500.0000 rate:1.0000 gloss:21.7646 dlossA:12.8038 dlossQ:18.9313 exploreP:0.0115\n",
      "Episode:284 meanR:468.4300 R:500.0000 rate:1.0000 gloss:22.1799 dlossA:12.4524 dlossQ:19.4897 exploreP:0.0114\n",
      "Episode:285 meanR:468.8100 R:500.0000 rate:1.0000 gloss:22.3676 dlossA:12.7357 dlossQ:19.1924 exploreP:0.0113\n",
      "Episode:286 meanR:468.8100 R:500.0000 rate:1.0000 gloss:22.7719 dlossA:12.9024 dlossQ:22.0648 exploreP:0.0113\n",
      "Episode:287 meanR:468.8100 R:500.0000 rate:1.0000 gloss:23.7750 dlossA:14.7918 dlossQ:22.1281 exploreP:0.0112\n",
      "Episode:288 meanR:468.8100 R:500.0000 rate:1.0000 gloss:23.3560 dlossA:13.5662 dlossQ:25.2812 exploreP:0.0111\n",
      "Episode:289 meanR:469.9300 R:500.0000 rate:1.0000 gloss:23.2996 dlossA:13.4805 dlossQ:25.3974 exploreP:0.0111\n",
      "Episode:290 meanR:469.9300 R:500.0000 rate:1.0000 gloss:21.9960 dlossA:12.8960 dlossQ:25.3983 exploreP:0.0110\n",
      "Episode:291 meanR:469.9300 R:500.0000 rate:1.0000 gloss:20.8946 dlossA:11.8846 dlossQ:23.1170 exploreP:0.0110\n",
      "Episode:292 meanR:469.9300 R:500.0000 rate:1.0000 gloss:19.7251 dlossA:11.0027 dlossQ:24.3961 exploreP:0.0109\n",
      "Episode:293 meanR:472.4100 R:500.0000 rate:1.0000 gloss:17.5216 dlossA:10.4505 dlossQ:24.6754 exploreP:0.0109\n",
      "Episode:294 meanR:474.0500 R:500.0000 rate:1.0000 gloss:15.9992 dlossA:9.0865 dlossQ:23.6216 exploreP:0.0108\n",
      "Episode:295 meanR:477.0600 R:500.0000 rate:1.0000 gloss:13.2053 dlossA:7.2091 dlossQ:24.5509 exploreP:0.0108\n",
      "Episode:296 meanR:477.0600 R:500.0000 rate:1.0000 gloss:10.2341 dlossA:5.4094 dlossQ:28.7866 exploreP:0.0108\n",
      "Episode:297 meanR:477.0600 R:500.0000 rate:1.0000 gloss:7.9186 dlossA:4.4449 dlossQ:25.0759 exploreP:0.0107\n",
      "Episode:298 meanR:477.0600 R:500.0000 rate:1.0000 gloss:5.3265 dlossA:3.0676 dlossQ:27.7786 exploreP:0.0107\n",
      "Episode:299 meanR:477.0600 R:500.0000 rate:1.0000 gloss:3.0106 dlossA:1.9200 dlossQ:25.9384 exploreP:0.0107\n",
      "Episode:300 meanR:478.3600 R:500.0000 rate:1.0000 gloss:0.8650 dlossA:1.2993 dlossQ:30.2959 exploreP:0.0106\n",
      "Episode:301 meanR:478.3600 R:500.0000 rate:1.0000 gloss:-0.7458 dlossA:1.1132 dlossQ:27.6891 exploreP:0.0106\n",
      "Episode:302 meanR:478.3600 R:500.0000 rate:1.0000 gloss:-1.4189 dlossA:1.1172 dlossQ:24.7769 exploreP:0.0106\n",
      "Episode:303 meanR:480.0600 R:419.0000 rate:0.8380 gloss:-1.5731 dlossA:1.0536 dlossQ:20.6827 exploreP:0.0105\n",
      "Episode:304 meanR:476.7800 R:172.0000 rate:0.3440 gloss:-0.8348 dlossA:0.9801 dlossQ:17.2082 exploreP:0.0105\n",
      "Episode:305 meanR:473.7200 R:178.0000 rate:0.3560 gloss:-0.9753 dlossA:1.0308 dlossQ:16.4814 exploreP:0.0105\n",
      "Episode:306 meanR:472.6100 R:389.0000 rate:0.7780 gloss:-0.9899 dlossA:0.9357 dlossQ:15.2269 exploreP:0.0105\n",
      "Episode:307 meanR:470.6000 R:299.0000 rate:0.5980 gloss:-0.4792 dlossA:0.8985 dlossQ:13.1417 exploreP:0.0105\n",
      "Episode:308 meanR:470.6000 R:500.0000 rate:1.0000 gloss:-0.1990 dlossA:0.8283 dlossQ:9.7723 exploreP:0.0105\n",
      "Episode:309 meanR:473.0500 R:500.0000 rate:1.0000 gloss:0.6168 dlossA:0.7278 dlossQ:5.4270 exploreP:0.0104\n",
      "Episode:310 meanR:473.0500 R:500.0000 rate:1.0000 gloss:1.3562 dlossA:0.6952 dlossQ:2.8592 exploreP:0.0104\n"
     ]
    },
    {
     "name": "stdout",
     "output_type": "stream",
     "text": [
      "Episode:311 meanR:473.0500 R:500.0000 rate:1.0000 gloss:2.3683 dlossA:0.7926 dlossQ:1.7137 exploreP:0.0104\n",
      "Episode:312 meanR:473.0500 R:500.0000 rate:1.0000 gloss:3.2104 dlossA:1.0121 dlossQ:1.7048 exploreP:0.0104\n",
      "Episode:313 meanR:473.0500 R:500.0000 rate:1.0000 gloss:4.0950 dlossA:1.4826 dlossQ:2.1137 exploreP:0.0104\n",
      "Episode:314 meanR:473.0500 R:500.0000 rate:1.0000 gloss:5.0501 dlossA:1.7677 dlossQ:2.6955 exploreP:0.0103\n",
      "Episode:315 meanR:473.0500 R:500.0000 rate:1.0000 gloss:6.3846 dlossA:2.3778 dlossQ:3.8662 exploreP:0.0103\n",
      "Episode:316 meanR:474.9100 R:500.0000 rate:1.0000 gloss:7.6884 dlossA:2.7761 dlossQ:5.4986 exploreP:0.0103\n",
      "Episode:317 meanR:474.9100 R:500.0000 rate:1.0000 gloss:9.2876 dlossA:3.7144 dlossQ:7.8351 exploreP:0.0103\n",
      "Episode:318 meanR:474.9100 R:500.0000 rate:1.0000 gloss:10.8816 dlossA:3.7770 dlossQ:11.5222 exploreP:0.0103\n",
      "Episode:319 meanR:474.9100 R:500.0000 rate:1.0000 gloss:13.0233 dlossA:4.9359 dlossQ:16.1032 exploreP:0.0103\n",
      "Episode:320 meanR:476.5400 R:500.0000 rate:1.0000 gloss:15.3656 dlossA:5.5410 dlossQ:23.0099 exploreP:0.0103\n",
      "Episode:321 meanR:476.5400 R:500.0000 rate:1.0000 gloss:16.7828 dlossA:6.4931 dlossQ:26.8418 exploreP:0.0102\n",
      "Episode:322 meanR:476.5400 R:500.0000 rate:1.0000 gloss:19.4784 dlossA:7.0257 dlossQ:39.0096 exploreP:0.0102\n",
      "Episode:323 meanR:476.5400 R:500.0000 rate:1.0000 gloss:21.2892 dlossA:7.2703 dlossQ:46.4876 exploreP:0.0102\n",
      "Episode:324 meanR:476.5400 R:500.0000 rate:1.0000 gloss:24.5097 dlossA:8.8515 dlossQ:57.5485 exploreP:0.0102\n",
      "Episode:325 meanR:476.5400 R:500.0000 rate:1.0000 gloss:26.5063 dlossA:9.7443 dlossQ:68.2975 exploreP:0.0102\n",
      "Episode:326 meanR:476.5400 R:500.0000 rate:1.0000 gloss:29.1954 dlossA:9.5799 dlossQ:80.7224 exploreP:0.0102\n",
      "Episode:327 meanR:478.7500 R:500.0000 rate:1.0000 gloss:31.4377 dlossA:11.0813 dlossQ:88.1114 exploreP:0.0102\n",
      "Episode:328 meanR:478.7500 R:500.0000 rate:1.0000 gloss:36.2337 dlossA:13.7790 dlossQ:132.6861 exploreP:0.0102\n",
      "Episode:329 meanR:478.7500 R:500.0000 rate:1.0000 gloss:36.6801 dlossA:12.1381 dlossQ:118.1594 exploreP:0.0102\n",
      "Episode:330 meanR:481.4300 R:500.0000 rate:1.0000 gloss:39.8651 dlossA:12.1306 dlossQ:139.2635 exploreP:0.0102\n",
      "Episode:331 meanR:481.4300 R:500.0000 rate:1.0000 gloss:42.0436 dlossA:13.1194 dlossQ:146.8670 exploreP:0.0101\n",
      "Episode:332 meanR:483.7800 R:500.0000 rate:1.0000 gloss:47.1889 dlossA:15.2842 dlossQ:178.7742 exploreP:0.0101\n",
      "Episode:333 meanR:483.7800 R:500.0000 rate:1.0000 gloss:49.1739 dlossA:16.4440 dlossQ:176.0665 exploreP:0.0101\n",
      "Episode:334 meanR:483.7800 R:500.0000 rate:1.0000 gloss:52.6477 dlossA:13.6376 dlossQ:209.7062 exploreP:0.0101\n",
      "Episode:335 meanR:483.7800 R:500.0000 rate:1.0000 gloss:59.0743 dlossA:19.9095 dlossQ:242.5209 exploreP:0.0101\n",
      "Episode:336 meanR:483.7800 R:500.0000 rate:1.0000 gloss:63.1808 dlossA:20.9885 dlossQ:260.4606 exploreP:0.0101\n",
      "Episode:337 meanR:483.7800 R:500.0000 rate:1.0000 gloss:64.5197 dlossA:18.8700 dlossQ:264.3833 exploreP:0.0101\n",
      "Episode:338 meanR:483.7800 R:500.0000 rate:1.0000 gloss:68.1537 dlossA:16.1216 dlossQ:302.1062 exploreP:0.0101\n",
      "Episode:339 meanR:483.7800 R:500.0000 rate:1.0000 gloss:72.4918 dlossA:18.0199 dlossQ:317.2578 exploreP:0.0101\n",
      "Episode:340 meanR:483.7800 R:500.0000 rate:1.0000 gloss:81.3894 dlossA:24.1749 dlossQ:489.6526 exploreP:0.0101\n",
      "Episode:341 meanR:485.3300 R:500.0000 rate:1.0000 gloss:79.5713 dlossA:19.9597 dlossQ:358.5812 exploreP:0.0101\n",
      "Episode:342 meanR:485.3300 R:500.0000 rate:1.0000 gloss:83.2238 dlossA:19.2633 dlossQ:407.6127 exploreP:0.0101\n",
      "Episode:343 meanR:485.3300 R:500.0000 rate:1.0000 gloss:83.9865 dlossA:18.7257 dlossQ:394.7220 exploreP:0.0101\n",
      "Episode:344 meanR:485.3300 R:500.0000 rate:1.0000 gloss:95.9179 dlossA:23.2785 dlossQ:553.8143 exploreP:0.0101\n",
      "Episode:345 meanR:485.3300 R:500.0000 rate:1.0000 gloss:96.6524 dlossA:25.8317 dlossQ:507.3092 exploreP:0.0101\n",
      "Episode:346 meanR:485.3300 R:500.0000 rate:1.0000 gloss:100.1463 dlossA:22.6735 dlossQ:661.1932 exploreP:0.0101\n",
      "Episode:347 meanR:485.3300 R:500.0000 rate:1.0000 gloss:102.0027 dlossA:23.2742 dlossQ:520.3627 exploreP:0.0101\n",
      "Episode:348 meanR:485.3300 R:500.0000 rate:1.0000 gloss:109.0850 dlossA:23.8629 dlossQ:736.9058 exploreP:0.0101\n",
      "Episode:349 meanR:485.3300 R:500.0000 rate:1.0000 gloss:109.5838 dlossA:24.8451 dlossQ:544.5945 exploreP:0.0101\n",
      "Episode:350 meanR:485.3300 R:500.0000 rate:1.0000 gloss:108.6131 dlossA:15.6967 dlossQ:527.3299 exploreP:0.0101\n",
      "Episode:351 meanR:485.3300 R:500.0000 rate:1.0000 gloss:114.8449 dlossA:18.4733 dlossQ:597.6336 exploreP:0.0101\n",
      "Episode:352 meanR:485.3300 R:500.0000 rate:1.0000 gloss:126.5643 dlossA:24.5557 dlossQ:667.7980 exploreP:0.0101\n",
      "Episode:353 meanR:485.3300 R:500.0000 rate:1.0000 gloss:126.3468 dlossA:18.7306 dlossQ:669.9673 exploreP:0.0100\n",
      "Episode:354 meanR:485.3300 R:500.0000 rate:1.0000 gloss:137.1758 dlossA:18.4403 dlossQ:821.1334 exploreP:0.0100\n",
      "Episode:355 meanR:487.6000 R:500.0000 rate:1.0000 gloss:144.1933 dlossA:19.4324 dlossQ:862.6694 exploreP:0.0100\n",
      "Episode:356 meanR:487.6000 R:500.0000 rate:1.0000 gloss:157.9212 dlossA:23.7791 dlossQ:915.5387 exploreP:0.0100\n",
      "Episode:357 meanR:487.6000 R:500.0000 rate:1.0000 gloss:159.6938 dlossA:19.1128 dlossQ:1017.8544 exploreP:0.0100\n",
      "Episode:358 meanR:487.6000 R:500.0000 rate:1.0000 gloss:178.1995 dlossA:23.1143 dlossQ:1690.8977 exploreP:0.0100\n",
      "Episode:359 meanR:488.7300 R:500.0000 rate:1.0000 gloss:170.3087 dlossA:16.8226 dlossQ:928.3571 exploreP:0.0100\n",
      "Episode:360 meanR:488.7300 R:500.0000 rate:1.0000 gloss:173.2371 dlossA:14.1428 dlossQ:1274.1951 exploreP:0.0100\n",
      "Episode:361 meanR:488.7300 R:500.0000 rate:1.0000 gloss:170.6348 dlossA:12.4918 dlossQ:984.5536 exploreP:0.0100\n",
      "Episode:362 meanR:488.7300 R:500.0000 rate:1.0000 gloss:181.8884 dlossA:13.0554 dlossQ:985.6251 exploreP:0.0100\n",
      "Episode:363 meanR:488.7300 R:500.0000 rate:1.0000 gloss:183.7876 dlossA:14.2723 dlossQ:1106.5227 exploreP:0.0100\n",
      "Episode:364 meanR:488.7300 R:500.0000 rate:1.0000 gloss:181.6679 dlossA:11.0576 dlossQ:1314.6063 exploreP:0.0100\n",
      "Episode:365 meanR:488.7300 R:500.0000 rate:1.0000 gloss:173.5807 dlossA:13.8243 dlossQ:1014.7146 exploreP:0.0100\n",
      "Episode:366 meanR:488.7300 R:500.0000 rate:1.0000 gloss:168.0380 dlossA:5.2271 dlossQ:967.8118 exploreP:0.0100\n",
      "Episode:367 meanR:489.1700 R:500.0000 rate:1.0000 gloss:172.5433 dlossA:9.9287 dlossQ:941.3515 exploreP:0.0100\n",
      "Episode:368 meanR:489.1700 R:500.0000 rate:1.0000 gloss:164.8185 dlossA:9.4602 dlossQ:865.7228 exploreP:0.0100\n",
      "Episode:369 meanR:489.1700 R:500.0000 rate:1.0000 gloss:138.8725 dlossA:4.3655 dlossQ:609.1244 exploreP:0.0100\n",
      "Episode:370 meanR:489.1700 R:500.0000 rate:1.0000 gloss:124.1464 dlossA:4.3688 dlossQ:512.9044 exploreP:0.0100\n",
      "Episode:371 meanR:489.1700 R:500.0000 rate:1.0000 gloss:95.8965 dlossA:2.3049 dlossQ:359.4132 exploreP:0.0100\n",
      "Episode:372 meanR:489.1700 R:500.0000 rate:1.0000 gloss:82.4244 dlossA:2.6787 dlossQ:534.6848 exploreP:0.0100\n",
      "Episode:373 meanR:489.1700 R:500.0000 rate:1.0000 gloss:67.7789 dlossA:1.2932 dlossQ:376.1118 exploreP:0.0100\n",
      "Episode:374 meanR:489.1700 R:500.0000 rate:1.0000 gloss:55.7608 dlossA:1.9746 dlossQ:431.0138 exploreP:0.0100\n",
      "Episode:375 meanR:489.1700 R:500.0000 rate:1.0000 gloss:41.4615 dlossA:2.4646 dlossQ:510.7706 exploreP:0.0100\n",
      "Episode:376 meanR:489.1700 R:500.0000 rate:1.0000 gloss:26.7114 dlossA:0.3977 dlossQ:664.7985 exploreP:0.0100\n",
      "Episode:377 meanR:489.1700 R:500.0000 rate:1.0000 gloss:16.4073 dlossA:0.8702 dlossQ:852.2856 exploreP:0.0100\n",
      "Episode:378 meanR:489.5700 R:500.0000 rate:1.0000 gloss:8.8351 dlossA:0.6218 dlossQ:951.0274 exploreP:0.0100\n",
      "Episode:379 meanR:489.5700 R:500.0000 rate:1.0000 gloss:4.7622 dlossA:1.0706 dlossQ:1030.9984 exploreP:0.0100\n",
      "Episode:380 meanR:489.5700 R:500.0000 rate:1.0000 gloss:3.5234 dlossA:0.9179 dlossQ:1066.1931 exploreP:0.0100\n",
      "Episode:381 meanR:489.5700 R:500.0000 rate:1.0000 gloss:2.9010 dlossA:1.1692 dlossQ:1028.1110 exploreP:0.0100\n",
      "Episode:382 meanR:489.5700 R:500.0000 rate:1.0000 gloss:2.7855 dlossA:0.9216 dlossQ:1046.8367 exploreP:0.0100\n",
      "Episode:383 meanR:489.5700 R:500.0000 rate:1.0000 gloss:2.4855 dlossA:1.0924 dlossQ:1049.4807 exploreP:0.0100\n",
      "Episode:384 meanR:489.5700 R:500.0000 rate:1.0000 gloss:2.4057 dlossA:0.9810 dlossQ:1084.6207 exploreP:0.0100\n",
      "Episode:385 meanR:489.5700 R:500.0000 rate:1.0000 gloss:2.2462 dlossA:1.0921 dlossQ:1068.4409 exploreP:0.0100\n"
     ]
    },
    {
     "name": "stdout",
     "output_type": "stream",
     "text": [
      "Episode:386 meanR:489.5700 R:500.0000 rate:1.0000 gloss:1.9813 dlossA:0.9467 dlossQ:1052.9614 exploreP:0.0100\n",
      "Episode:387 meanR:489.5700 R:500.0000 rate:1.0000 gloss:2.0598 dlossA:1.0800 dlossQ:1038.4426 exploreP:0.0100\n",
      "Episode:388 meanR:489.5700 R:500.0000 rate:1.0000 gloss:1.7582 dlossA:1.0107 dlossQ:1089.0941 exploreP:0.0100\n",
      "Episode:389 meanR:489.5700 R:500.0000 rate:1.0000 gloss:1.8108 dlossA:1.0575 dlossQ:1051.8445 exploreP:0.0100\n",
      "Episode:390 meanR:489.5700 R:500.0000 rate:1.0000 gloss:1.6902 dlossA:0.9980 dlossQ:1064.5778 exploreP:0.0100\n",
      "Episode:391 meanR:489.5700 R:500.0000 rate:1.0000 gloss:1.5692 dlossA:0.9708 dlossQ:1066.8135 exploreP:0.0100\n",
      "Episode:392 meanR:489.5700 R:500.0000 rate:1.0000 gloss:1.4487 dlossA:1.0435 dlossQ:1158.5687 exploreP:0.0100\n",
      "Episode:393 meanR:489.5700 R:500.0000 rate:1.0000 gloss:1.4516 dlossA:0.9903 dlossQ:1138.7810 exploreP:0.0100\n",
      "Episode:394 meanR:489.5700 R:500.0000 rate:1.0000 gloss:1.4539 dlossA:0.9616 dlossQ:1117.0834 exploreP:0.0100\n",
      "Episode:395 meanR:489.5700 R:500.0000 rate:1.0000 gloss:1.4800 dlossA:0.9986 dlossQ:1151.7115 exploreP:0.0100\n",
      "Episode:396 meanR:489.5700 R:500.0000 rate:1.0000 gloss:1.3325 dlossA:1.0469 dlossQ:1186.8986 exploreP:0.0100\n",
      "Episode:397 meanR:489.5700 R:500.0000 rate:1.0000 gloss:1.3541 dlossA:1.0317 dlossQ:1189.9771 exploreP:0.0100\n",
      "Episode:398 meanR:489.5700 R:500.0000 rate:1.0000 gloss:1.2590 dlossA:1.1112 dlossQ:1233.3046 exploreP:0.0100\n",
      "Episode:399 meanR:489.5700 R:500.0000 rate:1.0000 gloss:1.3644 dlossA:1.1021 dlossQ:1228.3948 exploreP:0.0100\n",
      "Episode:400 meanR:489.5700 R:500.0000 rate:1.0000 gloss:1.2887 dlossA:1.0544 dlossQ:1228.7762 exploreP:0.0100\n",
      "Episode:401 meanR:489.5700 R:500.0000 rate:1.0000 gloss:1.2956 dlossA:1.0755 dlossQ:1232.9098 exploreP:0.0100\n",
      "Episode:402 meanR:489.5700 R:500.0000 rate:1.0000 gloss:1.2694 dlossA:1.0675 dlossQ:1265.1652 exploreP:0.0100\n",
      "Episode:403 meanR:490.3800 R:500.0000 rate:1.0000 gloss:1.3177 dlossA:1.1448 dlossQ:1262.3407 exploreP:0.0100\n",
      "Episode:404 meanR:493.6600 R:500.0000 rate:1.0000 gloss:1.2239 dlossA:1.1107 dlossQ:1269.9514 exploreP:0.0100\n",
      "Episode:405 meanR:496.8800 R:500.0000 rate:1.0000 gloss:1.2790 dlossA:1.1394 dlossQ:1275.3495 exploreP:0.0100\n",
      "Episode:406 meanR:497.9900 R:500.0000 rate:1.0000 gloss:1.2517 dlossA:1.0978 dlossQ:1274.8888 exploreP:0.0100\n",
      "Episode:407 meanR:500.0000 R:500.0000 rate:1.0000 gloss:1.2521 dlossA:1.2532 dlossQ:1299.5292 exploreP:0.0100\n"
     ]
    }
   ],
   "source": [
    "# Save/load the model and save for plotting\n",
    "saver = tf.train.Saver()\n",
    "episode_rewards_list = [] # goal\n",
    "rewards_list, gloss_list, dloss_list = [], [], []\n",
    "\n",
    "# TF session for training\n",
    "with tf.Session(graph=graph) as sess:\n",
    "    sess.run(tf.global_variables_initializer())\n",
    "    #saver.restore(sess, 'checkpoints/model.ckpt')    \n",
    "    #saver.restore(sess, tf.train.latest_checkpoint('checkpoints'))\n",
    "    total_step = 0 # Explore or exploit parameter\n",
    "    episode_reward = deque(maxlen=100) # 100 episodes average/running average/running mean/window\n",
    "\n",
    "    # Training episodes/epochs\n",
    "    for ep in range(1111):\n",
    "        gloss_batch, dlossA_batch, dlossQ_batch= [], [], []\n",
    "        state = env.reset() # each episode\n",
    "        num_step = 0 # each episode\n",
    "        total_reward = 0 # each episode\n",
    "\n",
    "        # Training steps/batches\n",
    "        while True:\n",
    "            # Explore (Env) or Exploit (Model)\n",
    "            total_step += 1\n",
    "            explore_p = explore_stop + (explore_start - explore_stop) * np.exp(-decay_rate * total_step) \n",
    "            if explore_p > np.random.rand():\n",
    "                action = env.action_space.sample()\n",
    "                #print(action)\n",
    "            else:\n",
    "                action_logits = sess.run(model.actions_logits, feed_dict={model.states: state.reshape([1, -1])})\n",
    "                action = np.argmax(action_logits) # adding epsilon*noise\n",
    "                #print(action)\n",
    "            next_state, reward, done, _ = env.step(action)\n",
    "            memory.buffer.append([state, action, next_state, reward, float(done), -1])\n",
    "            num_step += 1 # momory added\n",
    "            total_reward += reward\n",
    "            state = next_state\n",
    "            \n",
    "            # Rating the last played episode\n",
    "            if done is True:\n",
    "                rate = total_reward/ goal # update rate at the end/ when episode is done\n",
    "                for idx in range(num_step): # episode length\n",
    "                    if memory.buffer[-1-idx][5] == -1: # double-check if it is empty and it is not rated!\n",
    "                        memory.buffer[-1-idx][5] = rate # rate each SA pair\n",
    "            \n",
    "            # Training using a max rated batch\n",
    "            idx = np.random.choice(np.arange(memory_size// batch_size))\n",
    "            batch = np.array(memory.buffer)[idx*batch_size:(idx+1)*batch_size]\n",
    "            rates = np.array([each[5] for each in batch])\n",
    "            batch = batch[rates >= (np.max(rates)*0.9)]\n",
    "            states = np.array([each[0] for each in batch])\n",
    "            actions = np.array([each[1] for each in batch])\n",
    "            next_states = np.array([each[2] for each in batch])\n",
    "            rewards = np.array([each[3] for each in batch])\n",
    "            dones = np.array([each[4] for each in batch])\n",
    "            rates = np.array([each[5] for each in batch])            \n",
    "            #print(states.shape, actions.shape, next_states.shape, rewards.shape, dones.shape, rates.shape)\n",
    "            nextQs_logits = sess.run(model.Qs_logits, feed_dict = {model.states: next_states})\n",
    "            #nextQs = np.max(nextQs_logits, axis=1) * (1-dones) # DQN\n",
    "            nextQs = nextQs_logits.reshape([-1]) * (1-dones) # DPG\n",
    "            targetQs = rewards + (gamma * nextQs)\n",
    "            gloss, dlossA, dlossQ, _, _, _ = sess.run([model.g_loss, model.d_lossA, model.d_lossQ, \n",
    "                                                       model.g_opt, model.d_optA, model.d_optQ],\n",
    "                                                      feed_dict = {model.states: states, \n",
    "                                                                   model.actions: actions,\n",
    "                                                                   model.targetQs: targetQs, \n",
    "                                                                   model.rates: rates})\n",
    "            gloss_batch.append(gloss)\n",
    "            dlossA_batch.append(dlossA)\n",
    "            dlossQ_batch.append(dlossQ)\n",
    "            if done is True:\n",
    "                break\n",
    "                \n",
    "        episode_reward.append(total_reward)\n",
    "        print('Episode:{}'.format(ep),\n",
    "              'meanR:{:.4f}'.format(np.mean(episode_reward)),\n",
    "              'R:{:.4f}'.format(total_reward),\n",
    "              'rate:{:.4f}'.format(rate),\n",
    "              'gloss:{:.4f}'.format(np.mean(gloss_batch)),\n",
    "              'dlossA:{:.4f}'.format(np.mean(dlossA_batch)),\n",
    "              'dlossQ:{:.4f}'.format(np.mean(dlossQ_batch)),\n",
    "              'exploreP:{:.4f}'.format(explore_p))\n",
    "\n",
    "        # Ploting out\n",
    "        episode_rewards_list.append([ep, np.mean(episode_reward)])\n",
    "        rewards_list.append([ep, total_reward])\n",
    "        #gloss_list.append([ep, np.mean(gloss_batch)])\n",
    "        #dloss_list.append([ep, np.mean(dloss_batch)])\n",
    "        \n",
    "        # Break episode/epoch loop\n",
    "        ## Option 1: Solve the First Version\n",
    "        #The task is episodic, and in order to solve the environment, \n",
    "        #your agent must get an average score of +30 over 100 consecutive episodes.\n",
    "        if np.mean(episode_reward) >= 500:\n",
    "            break\n",
    "            \n",
    "    # At the end of all training episodes/epochs\n",
    "    saver.save(sess, 'checkpoints/model.ckpt')"
   ]
  },
  {
   "cell_type": "markdown",
   "metadata": {},
   "source": [
    "# Visualizing training\n",
    "\n",
    "Below I'll plot the total rewards for each episode. I'm plotting the rolling average too, in blue."
   ]
  },
  {
   "cell_type": "code",
   "execution_count": 24,
   "metadata": {},
   "outputs": [],
   "source": [
    "import matplotlib.pyplot as plt\n",
    "%matplotlib inline\n",
    "\n",
    "def running_mean(x, N):\n",
    "    cumsum = np.cumsum(np.insert(x, 0, 0)) \n",
    "    return (cumsum[N:] - cumsum[:-N]) / N "
   ]
  },
  {
   "cell_type": "code",
   "execution_count": 25,
   "metadata": {},
   "outputs": [
    {
     "data": {
      "text/plain": [
       "Text(0,0.5,'Total rewards')"
      ]
     },
     "execution_count": 25,
     "metadata": {},
     "output_type": "execute_result"
    },
    {
     "data": {
      "image/png": "[encoded data removed]",
      "text/plain": [
       "<Figure size 432x288 with 1 Axes>"
      ]
     },
     "metadata": {},
     "output_type": "display_data"
    }
   ],
   "source": [
    "eps, arr = np.array(episode_rewards_list).T\n",
    "smoothed_arr = running_mean(arr, 10)\n",
    "plt.plot(eps[-len(smoothed_arr):], smoothed_arr)\n",
    "plt.plot(eps, arr, color='grey', alpha=0.3)\n",
    "plt.xlabel('Episode')\n",
    "plt.ylabel('Total rewards')"
   ]
  },
  {
   "cell_type": "code",
   "execution_count": 26,
   "metadata": {},
   "outputs": [
    {
     "data": {
      "text/plain": [
       "Text(0,0.5,'Total rewards')"
      ]
     },
     "execution_count": 26,
     "metadata": {},
     "output_type": "execute_result"
    },
    {
     "data": {
      "image/png": "[encoded data removed]",
      "text/plain": [
       "<Figure size 432x288 with 1 Axes>"
      ]
     },
     "metadata": {},
     "output_type": "display_data"
    }
   ],
   "source": [
    "eps, arr = np.array(rewards_list).T\n",
    "smoothed_arr = running_mean(arr, 10)\n",
    "plt.plot(eps[-len(smoothed_arr):], smoothed_arr)\n",
    "plt.plot(eps, arr, color='grey', alpha=0.3)\n",
    "plt.xlabel('Episode')\n",
    "plt.ylabel('Total rewards')"
   ]
  },
  {
   "cell_type": "code",
   "execution_count": 27,
   "metadata": {},
   "outputs": [
    {
     "ename": "SyntaxError",
     "evalue": "invalid syntax (<ipython-input-27-a0b0af09d9f3>, line 6)",
     "output_type": "error",
     "traceback": [
      "\u001b[0;36m  File \u001b[0;32m\"<ipython-input-27-a0b0af09d9f3>\"\u001b[0;36m, line \u001b[0;32m6\u001b[0m\n\u001b[0;31m    plt.ylabel('G losses')`\u001b[0m\n\u001b[0m                          ^\u001b[0m\n\u001b[0;31mSyntaxError\u001b[0m\u001b[0;31m:\u001b[0m invalid syntax\n"
     ]
    }
   ],
   "source": [
    "eps, arr = np.array(gloss_list).T\n",
    "smoothed_arr = running_mean(arr, 10)\n",
    "plt.plot(eps[-len(smoothed_arr):], smoothed_arr)\n",
    "plt.plot(eps, arr, color='grey', alpha=0.3)\n",
    "plt.xlabel('Episode')\n",
    "plt.ylabel('G losses')`"
   ]
  },
  {
   "cell_type": "code",
   "execution_count": 67,
   "metadata": {},
   "outputs": [],
   "source": [
    "eps, arr = np.array(dloss_list).T\n",
    "smoothed_arr = running_mean(arr, 10)\n",
    "plt.plot(eps[-len(smoothed_arr):], smoothed_arr)\n",
    "plt.plot(eps, arr, color='grey', alpha=0.3)\n",
    "plt.xlabel('Episode')\n",
    "plt.ylabel('D losses')"
   ]
  },
  {
   "cell_type": "markdown",
   "metadata": {},
   "source": [
    "## Testing\n",
    "\n",
    "Let's checkout how our trained agent plays the game."
   ]
  },
  {
   "cell_type": "code",
   "execution_count": 62,
   "metadata": {},
   "outputs": [
    {
     "name": "stdout",
     "output_type": "stream",
     "text": [
      "INFO:tensorflow:Restoring parameters from checkpoints/model.ckpt\n",
      "total_reward: 500.0\n",
      "total_reward: 500.0\n",
      "total_reward: 500.0\n",
      "total_reward: 500.0\n",
      "total_reward: 500.0\n",
      "total_reward: 500.0\n",
      "total_reward: 500.0\n",
      "total_reward: 500.0\n",
      "total_reward: 500.0\n",
      "total_reward: 500.0\n"
     ]
    }
   ],
   "source": [
    "import gym\n",
    "env = gym.make('CartPole-v0')\n",
    "env = gym.make('CartPole-v1')\n",
    "# env = gym.make('Acrobot-v1')\n",
    "# env = gym.make('MountainCar-v0')\n",
    "# env = gym.make('Pendulum-v0')\n",
    "# env = gym.make('Blackjack-v0')\n",
    "# env = gym.make('FrozenLake-v0')\n",
    "# env = gym.make('AirRaid-ram-v0')\n",
    "# env = gym.make('AirRaid-v0')\n",
    "# env = gym.make('BipedalWalker-v2')\n",
    "# env = gym.make('Copy-v0')\n",
    "# env = gym.make('CarRacing-v0')\n",
    "# env = gym.make('Ant-v2') #mujoco\n",
    "# env = gym.make('FetchPickAndPlace-v1') # mujoco required!\n",
    "\n",
    "with tf.Session() as sess:\n",
    "    sess.run(tf.global_variables_initializer())\n",
    "    saver.restore(sess, 'checkpoints/model.ckpt')    \n",
    "    #saver.restore(sess, tf.train.latest_checkpoint('checkpoints'))\n",
    "    \n",
    "    # Episodes/epochs\n",
    "    for _ in range(10):\n",
    "        state = env.reset()\n",
    "        total_reward = 0\n",
    "\n",
    "        # Steps/batches\n",
    "        while True:\n",
    "            env.render()\n",
    "            action_logits = sess.run(model.actions_logits, feed_dict={model.states: state.reshape([1, -1])})\n",
    "            action = np.argmax(action_logits)\n",
    "            state, reward, done, _ = env.step(action)\n",
    "            total_reward += reward\n",
    "            if done:\n",
    "                print('total_reward: {}'.format(total_reward))\n",
    "                break\n",
    "                \n",
    "env.close()"
   ]
  },
  {
   "cell_type": "markdown",
   "metadata": {},
   "source": [
    "## Extending this\n",
    "\n",
    "So, Cart-Pole is a pretty simple game. However, the same model can be used to train an agent to play something much more complicated like Pong or Space Invaders. Instead of a state like we're using here though, you'd want to use convolutional layers to get the state from the screen images.\n",
    "\n",
    "![Deep Q-Learning Atari](assets/atari-network.png)\n",
    "\n",
    "I'll leave it as a challenge for you to use deep Q-learning to train an agent to play Atari games. Here's the original paper which will get you started: http://www.davidqiu.com:8888/research/nature14236.pdf."
   ]
  },
  {
   "cell_type": "code",
   "execution_count": null,
   "metadata": {},
   "outputs": [],
   "source": []
  }
 ],
 "metadata": {
  "kernelspec": {
   "display_name": "Python 3",
   "language": "python",
   "name": "python3"
  },
  "language_info": {
   "codemirror_mode": {
    "name": "ipython",
    "version": 3
   },
   "file_extension": ".py",
   "mimetype": "text/x-python",
   "name": "python",
   "nbconvert_exporter": "python",
   "pygments_lexer": "ipython3",
   "version": "3.6.5"
  }
 },
 "nbformat": 4,
 "nbformat_minor": 2
}
