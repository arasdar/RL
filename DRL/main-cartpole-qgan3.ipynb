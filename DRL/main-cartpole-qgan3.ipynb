{
 "cells": [
  {
   "cell_type": "code",
   "execution_count": 1,
   "metadata": {},
   "outputs": [
    {
     "name": "stdout",
     "output_type": "stream",
     "text": [
      "TensorFlow Version: 1.7.1\n",
      "Default GPU Device: \n"
     ]
    }
   ],
   "source": [
    "import tensorflow as tf\n",
    "print('TensorFlow Version: {}'.format(tf.__version__))\n",
    "print('Default GPU Device: {}'.format(tf.test.gpu_device_name()))"
   ]
  },
  {
   "cell_type": "markdown",
   "metadata": {},
   "source": [
    "##### >**Note:** Make sure you have OpenAI Gym cloned. Then run this command `pip install -e gym/[all]`."
   ]
  },
  {
   "cell_type": "code",
   "execution_count": 2,
   "metadata": {},
   "outputs": [],
   "source": [
    "import numpy as np\n",
    "import gym\n",
    "env = gym.make('CartPole-v0')\n",
    "env = gym.make('CartPole-v1')"
   ]
  },
  {
   "cell_type": "code",
   "execution_count": 3,
   "metadata": {},
   "outputs": [],
   "source": [
    "def model_input(state_size):\n",
    "    #states = tf.placeholder(tf.float32, [None, *state_size], name='states')\n",
    "    states = tf.placeholder(tf.float32, [None, state_size], name='states')\n",
    "    actions = tf.placeholder(tf.int32, [None], name='actions')\n",
    "    next_states = tf.placeholder(tf.float32, [None, state_size], name='next_states')\n",
    "    rewards = tf.placeholder(tf.float32, [None], name='rewards')\n",
    "    dones = tf.placeholder(tf.float32, [None], name='dones')\n",
    "    rates = tf.placeholder(tf.float32, [None], name='rates') # success rate\n",
    "    return states, actions, next_states, rewards, dones, rates"
   ]
  },
  {
   "cell_type": "code",
   "execution_count": 4,
   "metadata": {},
   "outputs": [],
   "source": [
    "def actor(states, action_size, hidden_size, reuse=False, alpha=0.1, training=False):\n",
    "    with tf.variable_scope('actor', reuse=reuse):\n",
    "        # First fully connected layer\n",
    "        h1 = tf.layers.dense(inputs=states, units=hidden_size)\n",
    "        bn1 = tf.layers.batch_normalization(h1, training=training)        \n",
    "        nl1 = tf.maximum(alpha * bn1, bn1)\n",
    "        \n",
    "        # Second fully connected layer\n",
    "        h2 = tf.layers.dense(inputs=nl1, units=hidden_size)\n",
    "        bn2 = tf.layers.batch_normalization(h2, training=training)        \n",
    "        nl2 = tf.maximum(alpha * bn2, bn2)\n",
    "        \n",
    "        # Output layer\n",
    "        logits = tf.layers.dense(inputs=nl2, units=action_size)        \n",
    "        return logits"
   ]
  },
  {
   "cell_type": "code",
   "execution_count": 5,
   "metadata": {},
   "outputs": [],
   "source": [
    "def generator(actions, state_size, hidden_size, reuse=False, alpha=0.1, training=False):\n",
    "    with tf.variable_scope('generator', reuse=reuse):\n",
    "        # First fully connected layer\n",
    "        h1 = tf.layers.dense(inputs=actions, units=hidden_size)\n",
    "        bn1 = tf.layers.batch_normalization(h1, training=training)        \n",
    "        nl1 = tf.maximum(alpha * bn1, bn1)\n",
    "        \n",
    "        # Second fully connected layer\n",
    "        h2 = tf.layers.dense(inputs=nl1, units=hidden_size)\n",
    "        bn2 = tf.layers.batch_normalization(h2, training=training)        \n",
    "        nl2 = tf.maximum(alpha * bn2, bn2)\n",
    "        \n",
    "        # Output layer\n",
    "        logits = tf.layers.dense(inputs=nl2, units=state_size)        \n",
    "        return logits"
   ]
  },
  {
   "cell_type": "code",
   "execution_count": 6,
   "metadata": {},
   "outputs": [],
   "source": [
    "def discriminator(states, actions, action_size, hidden_size, reuse=False, alpha=0.1, training=False):\n",
    "    with tf.variable_scope('discriminator', reuse=reuse):\n",
    "        # First fully connected layer\n",
    "        h1 = tf.layers.dense(inputs=states, units=action_size)\n",
    "        bn1 = tf.layers.batch_normalization(h1, training=training)        \n",
    "        nl1 = tf.maximum(alpha * bn1, bn1)\n",
    "        \n",
    "        # Second fully connected layer\n",
    "        nl1_fused = tf.concat(axis=1, values=[nl1, actions])\n",
    "        h2 = tf.layers.dense(inputs=nl1_fused, units=hidden_size)\n",
    "        bn2 = tf.layers.batch_normalization(h2, training=training)        \n",
    "        nl2 = tf.maximum(alpha * bn2, bn2)\n",
    "                \n",
    "        # Output layer\n",
    "        logits = tf.layers.dense(inputs=nl2, units=1)        \n",
    "        return logits"
   ]
  },
  {
   "cell_type": "code",
   "execution_count": 7,
   "metadata": {},
   "outputs": [],
   "source": [
    "def model_loss(state_size, action_size, hidden_size, \n",
    "               states, actions, next_states, rewards, dones, rates):\n",
    "    actions_logits = actor(states=states, hidden_size=hidden_size, action_size=action_size)\n",
    "    actions_labels = tf.one_hot(indices=actions, depth=action_size, dtype=actions_logits.dtype)\n",
    "    aloss = tf.reduce_mean(tf.nn.softmax_cross_entropy_with_logits_v2(logits=actions_logits, \n",
    "                                                                      labels=actions_labels))\n",
    "    ###############################################\n",
    "    next_states_logits = generator(actions=actions_logits, hidden_size=hidden_size, state_size=state_size)\n",
    "    next_states_labels = tf.nn.sigmoid(next_states)\n",
    "    aloss += tf.reduce_mean(tf.nn.sigmoid_cross_entropy_with_logits(logits=next_states_logits, \n",
    "                                                                    labels=next_states_labels))\n",
    "    ####################################################\n",
    "    Qs = discriminator(actions=actions_labels, hidden_size=hidden_size, states=states, action_size=action_size)\n",
    "    rates = tf.reshape(rates, shape=[-1, 1])\n",
    "    dloss = tf.reduce_mean(tf.nn.sigmoid_cross_entropy_with_logits(logits=Qs, # GAN\n",
    "                                                                   labels=rates)) # 0-1\n",
    "    ############################################################################\n",
    "    next_actions_logits = actor(states=next_states, hidden_size=hidden_size, action_size=action_size, reuse=True)\n",
    "    nextQs_logits = discriminator(actions=next_actions_logits, hidden_size=hidden_size, states=next_states, \n",
    "                                  action_size=action_size, reuse=True)\n",
    "    nextQs = tf.reshape(nextQs_logits, shape=[-1]) * (1-dones)\n",
    "    targetQs = rewards + (0.99 * nextQs)\n",
    "    aloss2 = tf.reduce_mean(tf.square(Qs - targetQs)) # DQN\n",
    "    return actions_logits, aloss, dloss, aloss2"
   ]
  },
  {
   "cell_type": "code",
   "execution_count": 8,
   "metadata": {},
   "outputs": [],
   "source": [
    "def model_opt(a_loss, a_loss2, d_loss, a_learning_rate, d_learning_rate):\n",
    "    # Get weights and bias to update\n",
    "    t_vars = tf.trainable_variables()\n",
    "    a_vars = [var for var in t_vars if var.name.startswith('actor')]\n",
    "    g_vars = [var for var in t_vars if var.name.startswith('generator')]\n",
    "    d_vars = [var for var in t_vars if var.name.startswith('discriminator')]\n",
    "\n",
    "    # Optimize\n",
    "    with tf.control_dependencies(tf.get_collection(tf.GraphKeys.UPDATE_OPS)): # Required for batchnorm (BN)\n",
    "        a_opt = tf.train.AdamOptimizer(a_learning_rate).minimize(a_loss, var_list=a_vars)\n",
    "        d_opt = tf.train.AdamOptimizer(d_learning_rate).minimize(d_loss, var_list=d_vars)\n",
    "        a_opt2 = tf.train.AdamOptimizer(a_learning_rate).minimize(a_loss2, var_list=a_vars)\n",
    "    return a_opt, d_opt, a_opt2"
   ]
  },
  {
   "cell_type": "code",
   "execution_count": 9,
   "metadata": {},
   "outputs": [],
   "source": [
    "class Model:\n",
    "    def __init__(self, state_size, action_size, hidden_size, a_learning_rate, d_learning_rate):\n",
    "\n",
    "        # Data of the Model: make the data available inside the framework\n",
    "        self.states, self.actions, self.next_states, self.rewards, self.dones, self.rates = model_input(\n",
    "            state_size=state_size)\n",
    "\n",
    "        # Create the Model: calculating the loss and forwad pass\n",
    "        self.actions_logits, self.a_loss, self.d_loss, self.a_loss2 = model_loss(\n",
    "            state_size=state_size, action_size=action_size, hidden_size=hidden_size, # model init\n",
    "            states=self.states, actions=self.actions, next_states=self.next_states, #model input \n",
    "            rewards=self.rewards, dones=self.dones, rates=self.rates) # model input\n",
    "        \n",
    "        # Update the model: backward pass and backprop\n",
    "        self.a_opt, self.d_opt, self.a_opt2 = model_opt(a_loss=self.a_loss, \n",
    "                                                        a_loss2=self.a_loss2, \n",
    "                                                        d_loss=self.d_loss,\n",
    "                                                        a_learning_rate=a_learning_rate,\n",
    "                                                        d_learning_rate=d_learning_rate)"
   ]
  },
  {
   "cell_type": "code",
   "execution_count": 10,
   "metadata": {},
   "outputs": [],
   "source": [
    "from collections import deque\n",
    "class Memory():\n",
    "    def __init__(self, max_size = 1000):\n",
    "        self.buffer = deque(maxlen=max_size) # data batch\n",
    "        self.rates = deque(maxlen=max_size) # rates\n",
    "#     def sample(self, batch_size):\n",
    "#         idx = np.random.choice(np.arange(len(self.buffer)), # ==  self.rates\n",
    "#                                size=batch_size, \n",
    "#                                replace=False)\n",
    "#         return [self.buffer[ii] for ii in idx], [self.rates[ii] for ii in idx]"
   ]
  },
  {
   "cell_type": "markdown",
   "metadata": {},
   "source": [
    "## Hyperparameters\n",
    "\n",
    "One of the more difficult aspects of reinforcememt learning are the large number of hyperparameters. Not only are we tuning the network, but we're tuning the simulation."
   ]
  },
  {
   "cell_type": "code",
   "execution_count": 11,
   "metadata": {},
   "outputs": [
    {
     "data": {
      "text/plain": [
       "(Box(4,), Discrete(2))"
      ]
     },
     "execution_count": 11,
     "metadata": {},
     "output_type": "execute_result"
    }
   ],
   "source": [
    "env.observation_space, env.action_space"
   ]
  },
  {
   "cell_type": "code",
   "execution_count": 12,
   "metadata": {},
   "outputs": [],
   "source": [
    "# Exploration parameters\n",
    "explore_start = 1.0            # exploration probability at start\n",
    "explore_stop = 0.01           # minimum exploration probability \n",
    "decay_rate = 0.0001            # exponential decay rate for exploration prob\n",
    "\n",
    "# Network parameters\n",
    "state_size = 4\n",
    "action_size = 2\n",
    "hidden_size = 4*2             # number of units in each Q-network hidden layer\n",
    "a_learning_rate = 1e-4         # Q-network learning rate\n",
    "d_learning_rate = 1e-4         # Q-network learning rate\n",
    "\n",
    "# Memory parameters\n",
    "memory_size = int(1e5)            # memory capacity\n",
    "batch_size = int(1e3)             # experience mini-batch size: 200/500 a successfull episode size\n",
    "gamma = 0.99                   # future reward discount"
   ]
  },
  {
   "cell_type": "code",
   "execution_count": 13,
   "metadata": {},
   "outputs": [],
   "source": [
    "# Reset/init the graph/session\n",
    "graph = tf.reset_default_graph()\n",
    "\n",
    "# Init the model\n",
    "model = Model(action_size=action_size, state_size=state_size, hidden_size=hidden_size,\n",
    "              a_learning_rate=a_learning_rate, d_learning_rate=d_learning_rate)\n",
    "\n",
    "# Init the memory\n",
    "memory = Memory(max_size=memory_size)"
   ]
  },
  {
   "cell_type": "code",
   "execution_count": 14,
   "metadata": {},
   "outputs": [],
   "source": [
    "state = env.reset()\n",
    "total_reward = 0\n",
    "num_step = 0\n",
    "for _ in range(memory_size):\n",
    "    action = env.action_space.sample()\n",
    "    next_state, reward, done, _ = env.step(action)\n",
    "    memory.buffer.append([state, action, next_state, reward, float(done)])\n",
    "    memory.rates.append(-1) # empty\n",
    "    num_step += 1 # memory incremented\n",
    "    total_reward += reward\n",
    "    state = next_state\n",
    "    if done is True:\n",
    "        state = env.reset()\n",
    "        rate = total_reward/500\n",
    "        total_reward = 0 # reset\n",
    "        for idx in range(num_step): # episode length\n",
    "            if memory.rates[-1-idx] == -1:\n",
    "                memory.rates[-1-idx] = rate\n",
    "        num_step = 0 # reset"
   ]
  },
  {
   "cell_type": "markdown",
   "metadata": {},
   "source": [
    "## Training the model\n",
    "\n",
    "Below we'll train our agent. If you want to watch it train, uncomment the `env.render()` line. This is slow because it's rendering the frames slower than the network can train. But, it's cool to watch the agent get better at the game."
   ]
  },
  {
   "cell_type": "code",
   "execution_count": null,
   "metadata": {},
   "outputs": [
    {
     "name": "stdout",
     "output_type": "stream",
     "text": [
      "Episode:0 meanR:20.0000 R:20.0000 rate:0.0400 aloss:1.4323 dloss:0.7676 aloss2:0.6770 exploreP:0.9980\n",
      "Episode:1 meanR:20.0000 R:20.0000 rate:0.0400 aloss:1.4279 dloss:0.7633 aloss2:0.6859 exploreP:0.9960\n",
      "Episode:2 meanR:26.6667 R:40.0000 rate:0.0800 aloss:1.4170 dloss:0.7485 aloss2:0.7142 exploreP:0.9921\n",
      "Episode:3 meanR:24.2500 R:17.0000 rate:0.0340 aloss:1.4093 dloss:0.7404 aloss2:0.7274 exploreP:0.9904\n",
      "Episode:4 meanR:22.4000 R:15.0000 rate:0.0300 aloss:1.3989 dloss:0.7361 aloss2:0.7155 exploreP:0.9890\n",
      "Episode:5 meanR:21.0000 R:14.0000 rate:0.0280 aloss:1.4015 dloss:0.7342 aloss2:0.7012 exploreP:0.9876\n",
      "Episode:6 meanR:20.2857 R:16.0000 rate:0.0320 aloss:1.3974 dloss:0.7234 aloss2:0.7376 exploreP:0.9860\n",
      "Episode:7 meanR:19.6250 R:15.0000 rate:0.0300 aloss:1.4005 dloss:0.7229 aloss2:0.7175 exploreP:0.9846\n",
      "Episode:8 meanR:19.6667 R:20.0000 rate:0.0400 aloss:1.3872 dloss:0.7042 aloss2:0.7900 exploreP:0.9826\n",
      "Episode:9 meanR:19.2000 R:15.0000 rate:0.0300 aloss:1.3959 dloss:0.7079 aloss2:0.7492 exploreP:0.9812\n",
      "Episode:10 meanR:19.4545 R:22.0000 rate:0.0440 aloss:1.3905 dloss:0.6982 aloss2:0.7749 exploreP:0.9790\n",
      "Episode:11 meanR:19.5833 R:21.0000 rate:0.0420 aloss:1.3886 dloss:0.6931 aloss2:0.7803 exploreP:0.9770\n",
      "Episode:12 meanR:19.4615 R:18.0000 rate:0.0360 aloss:1.3933 dloss:0.6939 aloss2:0.7447 exploreP:0.9753\n",
      "Episode:13 meanR:19.7143 R:23.0000 rate:0.0460 aloss:1.3900 dloss:0.6871 aloss2:0.7601 exploreP:0.9730\n",
      "Episode:14 meanR:20.2667 R:28.0000 rate:0.0560 aloss:1.3852 dloss:0.6738 aloss2:0.7946 exploreP:0.9704\n",
      "Episode:15 meanR:20.0625 R:17.0000 rate:0.0340 aloss:1.3903 dloss:0.6715 aloss2:0.7769 exploreP:0.9687\n",
      "Episode:16 meanR:20.5294 R:28.0000 rate:0.0560 aloss:1.3949 dloss:0.6680 aloss2:0.7676 exploreP:0.9660\n",
      "Episode:17 meanR:20.1111 R:13.0000 rate:0.0260 aloss:1.3901 dloss:0.6600 aloss2:0.7898 exploreP:0.9648\n",
      "Episode:18 meanR:19.8421 R:15.0000 rate:0.0300 aloss:1.3858 dloss:0.6549 aloss2:0.8078 exploreP:0.9634\n",
      "Episode:19 meanR:20.7000 R:37.0000 rate:0.0740 aloss:1.3921 dloss:0.6569 aloss2:0.7588 exploreP:0.9599\n",
      "Episode:20 meanR:20.1905 R:10.0000 rate:0.0200 aloss:1.4055 dloss:0.6507 aloss2:0.7532 exploreP:0.9589\n",
      "Episode:21 meanR:20.3182 R:23.0000 rate:0.0460 aloss:1.3961 dloss:0.6361 aloss2:0.8308 exploreP:0.9567\n",
      "Episode:22 meanR:21.0000 R:36.0000 rate:0.0720 aloss:1.3998 dloss:0.6311 aloss2:0.8210 exploreP:0.9533\n",
      "Episode:23 meanR:20.5417 R:10.0000 rate:0.0200 aloss:1.3993 dloss:0.6266 aloss2:0.8154 exploreP:0.9524\n",
      "Episode:24 meanR:21.6400 R:48.0000 rate:0.0960 aloss:1.3982 dloss:0.6190 aloss2:0.8346 exploreP:0.9479\n",
      "Episode:25 meanR:21.5000 R:18.0000 rate:0.0360 aloss:1.4166 dloss:0.6155 aloss2:0.8326 exploreP:0.9462\n",
      "Episode:26 meanR:21.2963 R:16.0000 rate:0.0320 aloss:1.3923 dloss:0.6033 aloss2:0.8633 exploreP:0.9447\n",
      "Episode:27 meanR:21.0357 R:14.0000 rate:0.0280 aloss:1.3857 dloss:0.6033 aloss2:0.8761 exploreP:0.9434\n",
      "Episode:28 meanR:21.4483 R:33.0000 rate:0.0660 aloss:1.4030 dloss:0.5947 aloss2:0.8740 exploreP:0.9403\n",
      "Episode:29 meanR:21.5000 R:23.0000 rate:0.0460 aloss:1.4058 dloss:0.5979 aloss2:0.8340 exploreP:0.9382\n",
      "Episode:30 meanR:21.4839 R:21.0000 rate:0.0420 aloss:1.4092 dloss:0.5948 aloss2:0.8197 exploreP:0.9362\n",
      "Episode:31 meanR:21.3438 R:17.0000 rate:0.0340 aloss:1.4107 dloss:0.5805 aloss2:0.8689 exploreP:0.9346\n",
      "Episode:32 meanR:21.2727 R:19.0000 rate:0.0380 aloss:1.4204 dloss:0.5804 aloss2:0.8482 exploreP:0.9329\n",
      "Episode:33 meanR:21.0294 R:13.0000 rate:0.0260 aloss:1.4313 dloss:0.5766 aloss2:0.8829 exploreP:0.9317\n",
      "Episode:34 meanR:20.8286 R:14.0000 rate:0.0280 aloss:1.4145 dloss:0.5739 aloss2:0.8570 exploreP:0.9304\n",
      "Episode:35 meanR:20.5556 R:11.0000 rate:0.0220 aloss:1.4191 dloss:0.5765 aloss2:0.8538 exploreP:0.9294\n",
      "Episode:36 meanR:20.6757 R:25.0000 rate:0.0500 aloss:1.4337 dloss:0.5697 aloss2:0.8686 exploreP:0.9271\n",
      "Episode:37 meanR:20.7895 R:25.0000 rate:0.0500 aloss:1.4103 dloss:0.5637 aloss2:0.8867 exploreP:0.9248\n",
      "Episode:38 meanR:20.7436 R:19.0000 rate:0.0380 aloss:1.4212 dloss:0.5623 aloss2:0.8688 exploreP:0.9231\n",
      "Episode:39 meanR:20.9000 R:27.0000 rate:0.0540 aloss:1.4080 dloss:0.5507 aloss2:0.9137 exploreP:0.9206\n",
      "Episode:40 meanR:20.7073 R:13.0000 rate:0.0260 aloss:1.4218 dloss:0.5537 aloss2:0.8690 exploreP:0.9194\n",
      "Episode:41 meanR:20.5476 R:14.0000 rate:0.0280 aloss:1.4268 dloss:0.5539 aloss2:0.8811 exploreP:0.9181\n",
      "Episode:42 meanR:20.5814 R:22.0000 rate:0.0440 aloss:1.4166 dloss:0.5446 aloss2:0.9016 exploreP:0.9162\n",
      "Episode:43 meanR:21.0455 R:41.0000 rate:0.0820 aloss:1.4341 dloss:0.5421 aloss2:0.8879 exploreP:0.9124\n",
      "Episode:44 meanR:20.8889 R:14.0000 rate:0.0280 aloss:1.4326 dloss:0.5373 aloss2:0.8772 exploreP:0.9112\n",
      "Episode:45 meanR:21.4783 R:48.0000 rate:0.0960 aloss:1.4314 dloss:0.5339 aloss2:0.9067 exploreP:0.9069\n",
      "Episode:46 meanR:21.8085 R:37.0000 rate:0.0740 aloss:1.4316 dloss:0.5254 aloss2:0.9207 exploreP:0.9036\n",
      "Episode:47 meanR:21.7292 R:18.0000 rate:0.0360 aloss:1.4158 dloss:0.5186 aloss2:0.9572 exploreP:0.9019\n",
      "Episode:48 meanR:21.8163 R:26.0000 rate:0.0520 aloss:1.4288 dloss:0.5172 aloss2:0.9600 exploreP:0.8996\n",
      "Episode:49 meanR:21.8200 R:22.0000 rate:0.0440 aloss:1.4279 dloss:0.5051 aloss2:0.9836 exploreP:0.8977\n",
      "Episode:50 meanR:21.6275 R:12.0000 rate:0.0240 aloss:1.4465 dloss:0.5157 aloss2:0.9359 exploreP:0.8966\n",
      "Episode:51 meanR:21.7885 R:30.0000 rate:0.0600 aloss:1.4389 dloss:0.5114 aloss2:0.9527 exploreP:0.8940\n",
      "Episode:52 meanR:21.8302 R:24.0000 rate:0.0480 aloss:1.4067 dloss:0.4950 aloss2:1.0323 exploreP:0.8918\n",
      "Episode:53 meanR:22.2407 R:44.0000 rate:0.0880 aloss:1.4392 dloss:0.5031 aloss2:0.9927 exploreP:0.8880\n",
      "Episode:54 meanR:22.0909 R:14.0000 rate:0.0280 aloss:1.4499 dloss:0.4940 aloss2:0.9900 exploreP:0.8867\n",
      "Episode:55 meanR:21.9286 R:13.0000 rate:0.0260 aloss:1.4139 dloss:0.4859 aloss2:1.0399 exploreP:0.8856\n",
      "Episode:56 meanR:21.9298 R:22.0000 rate:0.0440 aloss:1.4585 dloss:0.4928 aloss2:1.0771 exploreP:0.8837\n",
      "Episode:57 meanR:21.8621 R:18.0000 rate:0.0360 aloss:1.4169 dloss:0.4827 aloss2:1.0528 exploreP:0.8821\n",
      "Episode:58 meanR:21.8136 R:19.0000 rate:0.0380 aloss:1.4540 dloss:0.4783 aloss2:1.0386 exploreP:0.8804\n",
      "Episode:59 meanR:21.9667 R:31.0000 rate:0.0620 aloss:1.4152 dloss:0.4774 aloss2:1.0810 exploreP:0.8778\n",
      "Episode:60 meanR:21.9016 R:18.0000 rate:0.0360 aloss:1.4410 dloss:0.4846 aloss2:1.0458 exploreP:0.8762\n",
      "Episode:61 meanR:21.7258 R:11.0000 rate:0.0220 aloss:1.4070 dloss:0.4704 aloss2:1.0947 exploreP:0.8752\n",
      "Episode:62 meanR:21.6032 R:14.0000 rate:0.0280 aloss:1.4160 dloss:0.4754 aloss2:1.0740 exploreP:0.8740\n",
      "Episode:63 meanR:21.5156 R:16.0000 rate:0.0320 aloss:1.4263 dloss:0.4770 aloss2:1.0758 exploreP:0.8726\n",
      "Episode:64 meanR:21.4462 R:17.0000 rate:0.0340 aloss:1.4268 dloss:0.4640 aloss2:1.0746 exploreP:0.8712\n",
      "Episode:65 meanR:21.7121 R:39.0000 rate:0.0780 aloss:1.4324 dloss:0.4692 aloss2:1.0850 exploreP:0.8678\n",
      "Episode:66 meanR:22.1045 R:48.0000 rate:0.0960 aloss:1.4422 dloss:0.4559 aloss2:1.1056 exploreP:0.8637\n",
      "Episode:67 meanR:21.9265 R:10.0000 rate:0.0200 aloss:1.4107 dloss:0.4554 aloss2:1.1522 exploreP:0.8629\n",
      "Episode:68 meanR:21.9130 R:21.0000 rate:0.0420 aloss:1.4289 dloss:0.4524 aloss2:1.1298 exploreP:0.8611\n",
      "Episode:69 meanR:21.8286 R:16.0000 rate:0.0320 aloss:1.4024 dloss:0.4476 aloss2:1.1732 exploreP:0.8597\n",
      "Episode:70 meanR:21.6620 R:10.0000 rate:0.0200 aloss:1.4136 dloss:0.4435 aloss2:1.1916 exploreP:0.8589\n",
      "Episode:71 meanR:21.7639 R:29.0000 rate:0.0580 aloss:1.4271 dloss:0.4374 aloss2:1.1908 exploreP:0.8564\n",
      "Episode:72 meanR:21.8219 R:26.0000 rate:0.0520 aloss:1.4177 dloss:0.4325 aloss2:1.2285 exploreP:0.8542\n",
      "Episode:73 meanR:21.7973 R:20.0000 rate:0.0400 aloss:1.4336 dloss:0.4349 aloss2:1.2040 exploreP:0.8525\n",
      "Episode:74 meanR:21.6933 R:14.0000 rate:0.0280 aloss:1.4135 dloss:0.4494 aloss2:1.2215 exploreP:0.8513\n",
      "Episode:75 meanR:22.1316 R:55.0000 rate:0.1100 aloss:1.4349 dloss:0.4242 aloss2:1.2567 exploreP:0.8467\n",
      "Episode:76 meanR:22.2597 R:32.0000 rate:0.0640 aloss:1.4389 dloss:0.4375 aloss2:1.2616 exploreP:0.8441\n",
      "Episode:77 meanR:22.2821 R:24.0000 rate:0.0480 aloss:1.4167 dloss:0.4364 aloss2:1.2809 exploreP:0.8421\n",
      "Episode:78 meanR:22.2025 R:16.0000 rate:0.0320 aloss:1.4316 dloss:0.4327 aloss2:1.2673 exploreP:0.8407\n",
      "Episode:79 meanR:22.3500 R:34.0000 rate:0.0680 aloss:1.4208 dloss:0.4222 aloss2:1.2783 exploreP:0.8379\n"
     ]
    },
    {
     "name": "stdout",
     "output_type": "stream",
     "text": [
      "Episode:80 meanR:22.2469 R:14.0000 rate:0.0280 aloss:1.4212 dloss:0.4227 aloss2:1.2746 exploreP:0.8368\n",
      "Episode:81 meanR:22.2805 R:25.0000 rate:0.0500 aloss:1.4347 dloss:0.4221 aloss2:1.2780 exploreP:0.8347\n",
      "Episode:82 meanR:22.4217 R:34.0000 rate:0.0680 aloss:1.4074 dloss:0.4197 aloss2:1.2994 exploreP:0.8319\n",
      "Episode:83 meanR:22.4762 R:27.0000 rate:0.0540 aloss:1.3970 dloss:0.4187 aloss2:1.4988 exploreP:0.8297\n",
      "Episode:84 meanR:22.4353 R:19.0000 rate:0.0380 aloss:1.4379 dloss:0.4184 aloss2:1.2639 exploreP:0.8281\n",
      "Episode:85 meanR:22.3140 R:12.0000 rate:0.0240 aloss:1.4199 dloss:0.4213 aloss2:1.3081 exploreP:0.8271\n",
      "Episode:86 meanR:22.2184 R:14.0000 rate:0.0280 aloss:1.3974 dloss:0.4117 aloss2:1.2861 exploreP:0.8260\n",
      "Episode:87 meanR:22.1591 R:17.0000 rate:0.0340 aloss:1.4201 dloss:0.4142 aloss2:1.2696 exploreP:0.8246\n",
      "Episode:88 meanR:22.0899 R:16.0000 rate:0.0320 aloss:1.4147 dloss:0.4202 aloss2:1.2522 exploreP:0.8233\n",
      "Episode:89 meanR:21.9889 R:13.0000 rate:0.0260 aloss:1.4078 dloss:0.3904 aloss2:1.2978 exploreP:0.8222\n",
      "Episode:90 meanR:21.8571 R:10.0000 rate:0.0200 aloss:1.3987 dloss:0.4218 aloss2:1.2601 exploreP:0.8214\n",
      "Episode:91 meanR:21.7283 R:10.0000 rate:0.0200 aloss:1.3878 dloss:0.4169 aloss2:1.2088 exploreP:0.8206\n",
      "Episode:92 meanR:21.7312 R:22.0000 rate:0.0440 aloss:1.3975 dloss:0.4008 aloss2:1.2012 exploreP:0.8188\n",
      "Episode:93 meanR:21.9362 R:41.0000 rate:0.0820 aloss:1.3962 dloss:0.4108 aloss2:1.2219 exploreP:0.8155\n",
      "Episode:94 meanR:22.1474 R:42.0000 rate:0.0840 aloss:1.3952 dloss:0.4060 aloss2:1.1893 exploreP:0.8122\n",
      "Episode:95 meanR:22.0833 R:16.0000 rate:0.0320 aloss:1.4238 dloss:0.4082 aloss2:1.1177 exploreP:0.8109\n",
      "Episode:96 meanR:22.0619 R:20.0000 rate:0.0400 aloss:1.4665 dloss:0.4113 aloss2:1.1695 exploreP:0.8093\n",
      "Episode:97 meanR:22.0204 R:18.0000 rate:0.0360 aloss:1.4118 dloss:0.4289 aloss2:1.0944 exploreP:0.8078\n",
      "Episode:98 meanR:21.9293 R:13.0000 rate:0.0260 aloss:1.3767 dloss:0.4245 aloss2:1.0198 exploreP:0.8068\n",
      "Episode:99 meanR:21.8500 R:14.0000 rate:0.0280 aloss:1.3910 dloss:0.4049 aloss2:1.2138 exploreP:0.8057\n",
      "Episode:100 meanR:21.8200 R:17.0000 rate:0.0340 aloss:1.3757 dloss:0.4052 aloss2:1.0422 exploreP:0.8043\n",
      "Episode:101 meanR:22.6000 R:98.0000 rate:0.1960 aloss:1.3836 dloss:0.4012 aloss2:0.9594 exploreP:0.7966\n",
      "Episode:102 meanR:22.3100 R:11.0000 rate:0.0220 aloss:1.3658 dloss:0.3888 aloss2:0.9374 exploreP:0.7957\n",
      "Episode:103 meanR:22.3200 R:18.0000 rate:0.0360 aloss:1.3842 dloss:0.3954 aloss2:0.8994 exploreP:0.7943\n",
      "Episode:104 meanR:22.3100 R:14.0000 rate:0.0280 aloss:1.3828 dloss:0.4000 aloss2:0.8427 exploreP:0.7932\n",
      "Episode:105 meanR:22.6400 R:47.0000 rate:0.0940 aloss:1.3781 dloss:0.3957 aloss2:0.8368 exploreP:0.7895\n",
      "Episode:106 meanR:22.8100 R:33.0000 rate:0.0660 aloss:1.3748 dloss:0.3876 aloss2:0.7658 exploreP:0.7870\n",
      "Episode:107 meanR:23.4700 R:81.0000 rate:0.1620 aloss:1.3786 dloss:0.3997 aloss2:0.7375 exploreP:0.7807\n",
      "Episode:108 meanR:23.5200 R:25.0000 rate:0.0500 aloss:1.3634 dloss:0.4008 aloss2:0.6364 exploreP:0.7788\n",
      "Episode:109 meanR:23.5100 R:14.0000 rate:0.0280 aloss:1.3756 dloss:0.3874 aloss2:0.5601 exploreP:0.7777\n",
      "Episode:110 meanR:23.4400 R:15.0000 rate:0.0300 aloss:1.3722 dloss:0.4177 aloss2:0.6413 exploreP:0.7766\n",
      "Episode:111 meanR:23.4800 R:25.0000 rate:0.0500 aloss:1.3642 dloss:0.3990 aloss2:0.5368 exploreP:0.7746\n",
      "Episode:112 meanR:23.7900 R:49.0000 rate:0.0980 aloss:1.3735 dloss:0.3828 aloss2:0.5883 exploreP:0.7709\n",
      "Episode:113 meanR:23.6700 R:11.0000 rate:0.0220 aloss:1.3665 dloss:0.3881 aloss2:0.5674 exploreP:0.7701\n",
      "Episode:114 meanR:23.5400 R:15.0000 rate:0.0300 aloss:1.3712 dloss:0.3846 aloss2:0.6020 exploreP:0.7689\n",
      "Episode:115 meanR:23.5900 R:22.0000 rate:0.0440 aloss:1.3732 dloss:0.3907 aloss2:0.6078 exploreP:0.7673\n",
      "Episode:116 meanR:23.4600 R:15.0000 rate:0.0300 aloss:1.3818 dloss:0.3685 aloss2:0.5996 exploreP:0.7661\n",
      "Episode:117 meanR:23.5300 R:20.0000 rate:0.0400 aloss:1.3700 dloss:0.4097 aloss2:0.5128 exploreP:0.7646\n",
      "Episode:118 meanR:23.7100 R:33.0000 rate:0.0660 aloss:1.3660 dloss:0.3913 aloss2:0.4701 exploreP:0.7621\n",
      "Episode:119 meanR:23.9100 R:57.0000 rate:0.1140 aloss:1.3698 dloss:0.3825 aloss2:0.4868 exploreP:0.7579\n",
      "Episode:120 meanR:23.9300 R:12.0000 rate:0.0240 aloss:1.3765 dloss:0.4014 aloss2:0.4696 exploreP:0.7570\n",
      "Episode:121 meanR:24.1800 R:48.0000 rate:0.0960 aloss:1.3888 dloss:0.3882 aloss2:0.4946 exploreP:0.7534\n",
      "Episode:122 meanR:24.4600 R:64.0000 rate:0.1280 aloss:1.3715 dloss:0.3871 aloss2:0.3977 exploreP:0.7486\n",
      "Episode:123 meanR:25.1900 R:83.0000 rate:0.1660 aloss:1.3804 dloss:0.3859 aloss2:0.3863 exploreP:0.7425\n",
      "Episode:124 meanR:25.4400 R:73.0000 rate:0.1460 aloss:1.3791 dloss:0.3874 aloss2:0.3547 exploreP:0.7372\n",
      "Episode:125 meanR:25.4400 R:18.0000 rate:0.0360 aloss:1.3741 dloss:0.3770 aloss2:0.3208 exploreP:0.7359\n",
      "Episode:126 meanR:26.1800 R:90.0000 rate:0.1800 aloss:1.3775 dloss:0.3996 aloss2:0.3736 exploreP:0.7294\n",
      "Episode:127 meanR:27.1800 R:114.0000 rate:0.2280 aloss:1.3715 dloss:0.3855 aloss2:0.2723 exploreP:0.7212\n",
      "Episode:128 meanR:27.3500 R:50.0000 rate:0.1000 aloss:1.3719 dloss:0.3936 aloss2:0.2883 exploreP:0.7177\n",
      "Episode:129 meanR:28.1700 R:105.0000 rate:0.2100 aloss:1.3681 dloss:0.3865 aloss2:0.2536 exploreP:0.7103\n",
      "Episode:130 meanR:28.2000 R:24.0000 rate:0.0480 aloss:1.3646 dloss:0.3816 aloss2:0.2130 exploreP:0.7086\n",
      "Episode:131 meanR:28.2100 R:18.0000 rate:0.0360 aloss:1.3633 dloss:0.4065 aloss2:0.2358 exploreP:0.7074\n",
      "Episode:132 meanR:28.5500 R:53.0000 rate:0.1060 aloss:1.3780 dloss:0.3970 aloss2:0.2494 exploreP:0.7037\n",
      "Episode:133 meanR:29.3400 R:92.0000 rate:0.1840 aloss:1.3682 dloss:0.3936 aloss2:0.2310 exploreP:0.6973\n",
      "Episode:134 meanR:29.6300 R:43.0000 rate:0.0860 aloss:1.3658 dloss:0.3932 aloss2:0.2231 exploreP:0.6944\n",
      "Episode:135 meanR:29.9200 R:40.0000 rate:0.0800 aloss:1.3632 dloss:0.3869 aloss2:0.2067 exploreP:0.6916\n",
      "Episode:136 meanR:30.5100 R:84.0000 rate:0.1680 aloss:1.3744 dloss:0.3914 aloss2:0.2130 exploreP:0.6859\n",
      "Episode:137 meanR:30.8900 R:63.0000 rate:0.1260 aloss:1.3678 dloss:0.3850 aloss2:0.2160 exploreP:0.6817\n",
      "Episode:138 meanR:31.0000 R:30.0000 rate:0.0600 aloss:1.3621 dloss:0.3974 aloss2:0.1946 exploreP:0.6797\n",
      "Episode:139 meanR:31.9500 R:122.0000 rate:0.2440 aloss:1.3706 dloss:0.3819 aloss2:0.2234 exploreP:0.6716\n",
      "Episode:140 meanR:33.0200 R:120.0000 rate:0.2400 aloss:1.3717 dloss:0.3852 aloss2:0.2063 exploreP:0.6637\n",
      "Episode:141 meanR:33.1700 R:29.0000 rate:0.0580 aloss:1.3698 dloss:0.3815 aloss2:0.2088 exploreP:0.6618\n",
      "Episode:142 meanR:33.7600 R:81.0000 rate:0.1620 aloss:1.3658 dloss:0.3874 aloss2:0.1886 exploreP:0.6565\n",
      "Episode:143 meanR:33.5200 R:17.0000 rate:0.0340 aloss:1.3632 dloss:0.3990 aloss2:0.1594 exploreP:0.6554\n",
      "Episode:144 meanR:34.9100 R:153.0000 rate:0.3060 aloss:1.3657 dloss:0.3863 aloss2:0.1861 exploreP:0.6456\n",
      "Episode:145 meanR:34.8800 R:45.0000 rate:0.0900 aloss:1.3665 dloss:0.3963 aloss2:0.1962 exploreP:0.6428\n",
      "Episode:146 meanR:34.8500 R:34.0000 rate:0.0680 aloss:1.3704 dloss:0.3864 aloss2:0.1755 exploreP:0.6406\n",
      "Episode:147 meanR:35.4000 R:73.0000 rate:0.1460 aloss:1.3746 dloss:0.3885 aloss2:0.2325 exploreP:0.6360\n",
      "Episode:148 meanR:35.8500 R:71.0000 rate:0.1420 aloss:1.3635 dloss:0.4105 aloss2:0.1661 exploreP:0.6316\n",
      "Episode:149 meanR:35.8500 R:22.0000 rate:0.0440 aloss:1.3670 dloss:0.3934 aloss2:0.1772 exploreP:0.6302\n",
      "Episode:150 meanR:36.0400 R:31.0000 rate:0.0620 aloss:1.3691 dloss:0.3965 aloss2:0.2996 exploreP:0.6283\n",
      "Episode:151 meanR:36.0800 R:34.0000 rate:0.0680 aloss:1.3572 dloss:0.4025 aloss2:0.1558 exploreP:0.6262\n",
      "Episode:152 meanR:37.1100 R:127.0000 rate:0.2540 aloss:1.3684 dloss:0.3937 aloss2:0.1760 exploreP:0.6184\n",
      "Episode:153 meanR:37.4700 R:80.0000 rate:0.1600 aloss:1.3697 dloss:0.3956 aloss2:0.1621 exploreP:0.6136\n",
      "Episode:154 meanR:39.0000 R:167.0000 rate:0.3340 aloss:1.3667 dloss:0.3966 aloss2:0.1905 exploreP:0.6036\n",
      "Episode:155 meanR:39.6500 R:78.0000 rate:0.1560 aloss:1.3751 dloss:0.3893 aloss2:0.2350 exploreP:0.5990\n",
      "Episode:156 meanR:39.7100 R:28.0000 rate:0.0560 aloss:1.3624 dloss:0.3795 aloss2:0.1687 exploreP:0.5973\n",
      "Episode:157 meanR:39.8500 R:32.0000 rate:0.0640 aloss:1.3696 dloss:0.3831 aloss2:0.1654 exploreP:0.5955\n",
      "Episode:158 meanR:40.2700 R:61.0000 rate:0.1220 aloss:1.3612 dloss:0.3917 aloss2:0.1656 exploreP:0.5919\n"
     ]
    },
    {
     "name": "stdout",
     "output_type": "stream",
     "text": [
      "Episode:159 meanR:40.8300 R:87.0000 rate:0.1740 aloss:1.3650 dloss:0.3984 aloss2:0.1683 exploreP:0.5869\n",
      "Episode:160 meanR:41.1400 R:49.0000 rate:0.0980 aloss:1.3656 dloss:0.3815 aloss2:0.1717 exploreP:0.5840\n",
      "Episode:161 meanR:42.3100 R:128.0000 rate:0.2560 aloss:1.3674 dloss:0.3937 aloss2:0.1973 exploreP:0.5767\n",
      "Episode:162 meanR:42.6300 R:46.0000 rate:0.0920 aloss:1.3677 dloss:0.3927 aloss2:0.1588 exploreP:0.5741\n",
      "Episode:163 meanR:43.6900 R:122.0000 rate:0.2440 aloss:1.3639 dloss:0.3788 aloss2:0.1601 exploreP:0.5673\n",
      "Episode:164 meanR:44.6500 R:113.0000 rate:0.2260 aloss:1.3622 dloss:0.4053 aloss2:0.1567 exploreP:0.5610\n",
      "Episode:165 meanR:45.1000 R:84.0000 rate:0.1680 aloss:1.3701 dloss:0.3899 aloss2:0.1704 exploreP:0.5564\n",
      "Episode:166 meanR:46.7000 R:208.0000 rate:0.4160 aloss:1.3643 dloss:0.3947 aloss2:0.1710 exploreP:0.5452\n",
      "Episode:167 meanR:48.1200 R:152.0000 rate:0.3040 aloss:1.3637 dloss:0.3986 aloss2:0.1528 exploreP:0.5371\n",
      "Episode:168 meanR:49.3400 R:143.0000 rate:0.2860 aloss:1.3647 dloss:0.3951 aloss2:0.1734 exploreP:0.5296\n",
      "Episode:169 meanR:51.1400 R:196.0000 rate:0.3920 aloss:1.3623 dloss:0.4048 aloss2:0.1634 exploreP:0.5195\n",
      "Episode:170 meanR:52.1500 R:111.0000 rate:0.2220 aloss:1.3645 dloss:0.4038 aloss2:0.1464 exploreP:0.5139\n",
      "Episode:171 meanR:53.0500 R:119.0000 rate:0.2380 aloss:1.3630 dloss:0.3961 aloss2:0.1700 exploreP:0.5080\n",
      "Episode:172 meanR:54.3800 R:159.0000 rate:0.3180 aloss:1.3590 dloss:0.4054 aloss2:0.1481 exploreP:0.5001\n",
      "Episode:173 meanR:55.0500 R:87.0000 rate:0.1740 aloss:1.3625 dloss:0.3955 aloss2:0.1467 exploreP:0.4959\n",
      "Episode:174 meanR:55.3400 R:43.0000 rate:0.0860 aloss:1.3824 dloss:0.3927 aloss2:0.2251 exploreP:0.4938\n",
      "Episode:175 meanR:56.4300 R:164.0000 rate:0.3280 aloss:1.3614 dloss:0.3936 aloss2:0.1563 exploreP:0.4859\n",
      "Episode:176 meanR:57.2100 R:110.0000 rate:0.2200 aloss:1.3600 dloss:0.4168 aloss2:0.1329 exploreP:0.4807\n",
      "Episode:177 meanR:58.0100 R:104.0000 rate:0.2080 aloss:1.3583 dloss:0.4169 aloss2:0.1848 exploreP:0.4758\n",
      "Episode:178 meanR:58.5100 R:66.0000 rate:0.1320 aloss:1.3600 dloss:0.4017 aloss2:0.1549 exploreP:0.4728\n",
      "Episode:179 meanR:59.6800 R:151.0000 rate:0.3020 aloss:1.3669 dloss:0.3934 aloss2:0.1495 exploreP:0.4658\n",
      "Episode:180 meanR:60.4900 R:95.0000 rate:0.1900 aloss:1.3667 dloss:0.4011 aloss2:0.1595 exploreP:0.4615\n",
      "Episode:181 meanR:61.2800 R:104.0000 rate:0.2080 aloss:1.3626 dloss:0.4075 aloss2:0.1357 exploreP:0.4568\n",
      "Episode:182 meanR:61.6800 R:74.0000 rate:0.1480 aloss:1.3629 dloss:0.4041 aloss2:0.1594 exploreP:0.4535\n",
      "Episode:183 meanR:63.6300 R:222.0000 rate:0.4440 aloss:1.3589 dloss:0.4086 aloss2:0.1896 exploreP:0.4438\n",
      "Episode:184 meanR:65.0100 R:157.0000 rate:0.3140 aloss:1.3609 dloss:0.4063 aloss2:0.1586 exploreP:0.4371\n",
      "Episode:185 meanR:66.5700 R:168.0000 rate:0.3360 aloss:1.3622 dloss:0.4198 aloss2:0.1737 exploreP:0.4299\n",
      "Episode:186 meanR:67.6700 R:124.0000 rate:0.2480 aloss:1.3668 dloss:0.4089 aloss2:0.1693 exploreP:0.4248\n",
      "Episode:187 meanR:67.6300 R:13.0000 rate:0.0260 aloss:1.3656 dloss:0.3953 aloss2:0.2604 exploreP:0.4242\n",
      "Episode:188 meanR:68.6300 R:116.0000 rate:0.2320 aloss:1.3628 dloss:0.4145 aloss2:0.1362 exploreP:0.4194\n",
      "Episode:189 meanR:70.9100 R:241.0000 rate:0.4820 aloss:1.3620 dloss:0.4069 aloss2:0.1379 exploreP:0.4097\n",
      "Episode:190 meanR:73.8700 R:306.0000 rate:0.6120 aloss:1.3668 dloss:0.4195 aloss2:0.1873 exploreP:0.3977\n",
      "Episode:191 meanR:75.9400 R:217.0000 rate:0.4340 aloss:1.3603 dloss:0.4059 aloss2:0.1390 exploreP:0.3893\n",
      "Episode:192 meanR:77.6300 R:191.0000 rate:0.3820 aloss:1.3650 dloss:0.4009 aloss2:0.1562 exploreP:0.3822\n",
      "Episode:193 meanR:81.4700 R:425.0000 rate:0.8500 aloss:1.3635 dloss:0.4142 aloss2:0.1474 exploreP:0.3667\n",
      "Episode:194 meanR:83.1100 R:206.0000 rate:0.4120 aloss:1.3628 dloss:0.4557 aloss2:0.1448 exploreP:0.3594\n",
      "Episode:195 meanR:85.8000 R:285.0000 rate:0.5700 aloss:1.3635 dloss:0.4267 aloss2:0.1282 exploreP:0.3496\n",
      "Episode:196 meanR:90.6000 R:500.0000 rate:1.0000 aloss:1.3609 dloss:0.4326 aloss2:0.1397 exploreP:0.3330\n",
      "Episode:197 meanR:92.4100 R:199.0000 rate:0.3980 aloss:1.3566 dloss:0.4495 aloss2:0.1272 exploreP:0.3267\n",
      "Episode:198 meanR:93.3200 R:104.0000 rate:0.2080 aloss:1.3650 dloss:0.4322 aloss2:0.1662 exploreP:0.3234\n",
      "Episode:199 meanR:95.6600 R:248.0000 rate:0.4960 aloss:1.3576 dloss:0.4631 aloss2:0.1143 exploreP:0.3157\n",
      "Episode:200 meanR:97.6100 R:212.0000 rate:0.4240 aloss:1.3531 dloss:0.4504 aloss2:0.1107 exploreP:0.3093\n",
      "Episode:201 meanR:99.4200 R:279.0000 rate:0.5580 aloss:1.3576 dloss:0.4661 aloss2:0.1155 exploreP:0.3011\n",
      "Episode:202 meanR:104.0500 R:474.0000 rate:0.9480 aloss:1.3574 dloss:0.4431 aloss2:0.1210 exploreP:0.2876\n",
      "Episode:203 meanR:108.8700 R:500.0000 rate:1.0000 aloss:1.3601 dloss:0.4862 aloss2:0.1123 exploreP:0.2740\n",
      "Episode:204 meanR:111.6300 R:290.0000 rate:0.5800 aloss:1.3571 dloss:0.4670 aloss2:0.1194 exploreP:0.2665\n",
      "Episode:205 meanR:114.4000 R:324.0000 rate:0.6480 aloss:1.3575 dloss:0.4735 aloss2:0.1208 exploreP:0.2583\n",
      "Episode:206 meanR:115.3000 R:123.0000 rate:0.2460 aloss:1.3578 dloss:0.4568 aloss2:0.1030 exploreP:0.2553\n",
      "Episode:207 meanR:119.4900 R:500.0000 rate:1.0000 aloss:1.3569 dloss:0.4580 aloss2:0.1131 exploreP:0.2433\n",
      "Episode:208 meanR:123.0900 R:385.0000 rate:0.7700 aloss:1.3584 dloss:0.4710 aloss2:0.1075 exploreP:0.2345\n",
      "Episode:209 meanR:126.3400 R:339.0000 rate:0.6780 aloss:1.3608 dloss:0.4846 aloss2:0.1224 exploreP:0.2270\n",
      "Episode:210 meanR:130.4300 R:424.0000 rate:0.8480 aloss:1.3591 dloss:0.4812 aloss2:0.1274 exploreP:0.2180\n",
      "Episode:211 meanR:134.3800 R:420.0000 rate:0.8400 aloss:1.3588 dloss:0.4962 aloss2:0.1015 exploreP:0.2095\n",
      "Episode:212 meanR:135.0800 R:119.0000 rate:0.2380 aloss:1.3556 dloss:0.4998 aloss2:0.1045 exploreP:0.2071\n",
      "Episode:213 meanR:138.9400 R:397.0000 rate:0.7940 aloss:1.3552 dloss:0.4927 aloss2:0.1283 exploreP:0.1994\n",
      "Episode:214 meanR:141.5800 R:279.0000 rate:0.5580 aloss:1.3596 dloss:0.5054 aloss2:0.1303 exploreP:0.1942\n",
      "Episode:215 meanR:146.1700 R:481.0000 rate:0.9620 aloss:1.3566 dloss:0.5124 aloss2:0.0952 exploreP:0.1856\n",
      "Episode:216 meanR:148.9100 R:289.0000 rate:0.5780 aloss:1.3533 dloss:0.5313 aloss2:0.0955 exploreP:0.1806\n",
      "Episode:217 meanR:151.2000 R:249.0000 rate:0.4980 aloss:1.3565 dloss:0.4997 aloss2:0.0900 exploreP:0.1764\n",
      "Episode:218 meanR:153.8200 R:295.0000 rate:0.5900 aloss:1.3511 dloss:0.5343 aloss2:0.1085 exploreP:0.1715\n",
      "Episode:219 meanR:156.0600 R:281.0000 rate:0.5620 aloss:1.3516 dloss:0.5243 aloss2:0.0862 exploreP:0.1671\n",
      "Episode:220 meanR:158.4500 R:251.0000 rate:0.5020 aloss:1.3571 dloss:0.4907 aloss2:0.0920 exploreP:0.1632\n",
      "Episode:221 meanR:161.0400 R:307.0000 rate:0.6140 aloss:1.3558 dloss:0.5161 aloss2:0.0938 exploreP:0.1585\n",
      "Episode:222 meanR:164.4100 R:401.0000 rate:0.8020 aloss:1.3517 dloss:0.5349 aloss2:0.0874 exploreP:0.1527\n",
      "Episode:223 meanR:167.9000 R:432.0000 rate:0.8640 aloss:1.3579 dloss:0.5089 aloss2:0.0947 exploreP:0.1467\n",
      "Episode:224 meanR:170.3000 R:313.0000 rate:0.6260 aloss:1.3572 dloss:0.5476 aloss2:0.1049 exploreP:0.1424\n",
      "Episode:225 meanR:174.5400 R:442.0000 rate:0.8840 aloss:1.3540 dloss:0.5354 aloss2:0.1050 exploreP:0.1367\n",
      "Episode:226 meanR:175.8500 R:221.0000 rate:0.4420 aloss:1.3506 dloss:0.5796 aloss2:0.1133 exploreP:0.1340\n",
      "Episode:227 meanR:177.4800 R:277.0000 rate:0.5540 aloss:1.3527 dloss:0.5333 aloss2:0.1067 exploreP:0.1306\n",
      "Episode:228 meanR:179.6800 R:270.0000 rate:0.5400 aloss:1.3538 dloss:0.5705 aloss2:0.0937 exploreP:0.1274\n",
      "Episode:229 meanR:181.5800 R:295.0000 rate:0.5900 aloss:1.3567 dloss:0.5471 aloss2:0.0974 exploreP:0.1239\n",
      "Episode:230 meanR:183.4500 R:211.0000 rate:0.4220 aloss:1.3524 dloss:0.5778 aloss2:0.0883 exploreP:0.1216\n",
      "Episode:231 meanR:185.8800 R:261.0000 rate:0.5220 aloss:1.3536 dloss:0.5448 aloss2:0.0862 exploreP:0.1187\n",
      "Episode:232 meanR:189.4800 R:413.0000 rate:0.8260 aloss:1.3527 dloss:0.5451 aloss2:0.0929 exploreP:0.1143\n",
      "Episode:233 meanR:192.9600 R:440.0000 rate:0.8800 aloss:1.3545 dloss:0.5661 aloss2:0.0986 exploreP:0.1098\n",
      "Episode:234 meanR:197.4500 R:492.0000 rate:0.9840 aloss:1.3529 dloss:0.5614 aloss2:0.1198 exploreP:0.1050\n",
      "Episode:235 meanR:198.8900 R:184.0000 rate:0.3680 aloss:1.3497 dloss:0.5345 aloss2:0.0972 exploreP:0.1033\n",
      "Episode:236 meanR:203.0500 R:500.0000 rate:1.0000 aloss:1.3582 dloss:0.5461 aloss2:0.1330 exploreP:0.0987\n"
     ]
    },
    {
     "name": "stdout",
     "output_type": "stream",
     "text": [
      "Episode:237 meanR:207.4200 R:500.0000 rate:1.0000 aloss:1.3520 dloss:0.5764 aloss2:0.1073 exploreP:0.0944\n",
      "Episode:238 meanR:212.1200 R:500.0000 rate:1.0000 aloss:1.3524 dloss:0.5566 aloss2:0.1168 exploreP:0.0903\n",
      "Episode:239 meanR:215.9000 R:500.0000 rate:1.0000 aloss:1.3565 dloss:0.5607 aloss2:0.1173 exploreP:0.0864\n",
      "Episode:240 meanR:219.7000 R:500.0000 rate:1.0000 aloss:1.3551 dloss:0.5706 aloss2:0.1145 exploreP:0.0826\n",
      "Episode:241 meanR:221.3400 R:193.0000 rate:0.3860 aloss:1.3578 dloss:0.5990 aloss2:0.1315 exploreP:0.0813\n",
      "Episode:242 meanR:222.1500 R:162.0000 rate:0.3240 aloss:1.3587 dloss:0.5930 aloss2:0.1168 exploreP:0.0801\n",
      "Episode:243 meanR:224.5600 R:258.0000 rate:0.5160 aloss:1.3580 dloss:0.5813 aloss2:0.1180 exploreP:0.0783\n",
      "Episode:244 meanR:227.2800 R:425.0000 rate:0.8500 aloss:1.3617 dloss:0.5778 aloss2:0.1175 exploreP:0.0755\n",
      "Episode:245 meanR:228.5300 R:170.0000 rate:0.3400 aloss:1.3596 dloss:0.6260 aloss2:0.1235 exploreP:0.0744\n",
      "Episode:246 meanR:230.7800 R:259.0000 rate:0.5180 aloss:1.3642 dloss:0.5546 aloss2:0.1337 exploreP:0.0727\n",
      "Episode:247 meanR:232.2600 R:221.0000 rate:0.4420 aloss:1.3636 dloss:0.6044 aloss2:0.1347 exploreP:0.0714\n",
      "Episode:248 meanR:232.8700 R:132.0000 rate:0.2640 aloss:1.3724 dloss:0.5704 aloss2:0.1340 exploreP:0.0706\n",
      "Episode:249 meanR:233.9000 R:125.0000 rate:0.2500 aloss:1.3654 dloss:0.6144 aloss2:0.1213 exploreP:0.0698\n",
      "Episode:250 meanR:234.8400 R:125.0000 rate:0.2500 aloss:1.3742 dloss:0.5386 aloss2:0.1655 exploreP:0.0691\n",
      "Episode:251 meanR:235.5000 R:100.0000 rate:0.2000 aloss:1.3670 dloss:0.6033 aloss2:0.1354 exploreP:0.0685\n",
      "Episode:252 meanR:235.3000 R:107.0000 rate:0.2140 aloss:1.3689 dloss:0.5756 aloss2:0.1484 exploreP:0.0679\n",
      "Episode:253 meanR:235.6600 R:116.0000 rate:0.2320 aloss:1.3655 dloss:0.5914 aloss2:0.1695 exploreP:0.0672\n",
      "Episode:254 meanR:235.0400 R:105.0000 rate:0.2100 aloss:1.3735 dloss:0.5717 aloss2:0.1604 exploreP:0.0666\n",
      "Episode:255 meanR:235.3500 R:109.0000 rate:0.2180 aloss:1.3764 dloss:0.5993 aloss2:0.2163 exploreP:0.0660\n",
      "Episode:256 meanR:235.8000 R:73.0000 rate:0.1460 aloss:1.3766 dloss:0.5800 aloss2:0.1394 exploreP:0.0656\n",
      "Episode:257 meanR:236.1400 R:66.0000 rate:0.1320 aloss:1.3718 dloss:0.5721 aloss2:0.1596 exploreP:0.0652\n",
      "Episode:258 meanR:236.6600 R:113.0000 rate:0.2260 aloss:1.3748 dloss:0.5453 aloss2:0.1407 exploreP:0.0646\n",
      "Episode:259 meanR:237.0200 R:123.0000 rate:0.2460 aloss:1.3677 dloss:0.5745 aloss2:0.1377 exploreP:0.0639\n",
      "Episode:260 meanR:237.9200 R:139.0000 rate:0.2780 aloss:1.3645 dloss:0.5638 aloss2:0.1410 exploreP:0.0632\n",
      "Episode:261 meanR:237.8400 R:120.0000 rate:0.2400 aloss:1.3666 dloss:0.6017 aloss2:0.1619 exploreP:0.0625\n",
      "Episode:262 meanR:238.2500 R:87.0000 rate:0.1740 aloss:1.3678 dloss:0.6256 aloss2:0.1502 exploreP:0.0621\n",
      "Episode:263 meanR:237.7200 R:69.0000 rate:0.1380 aloss:1.3750 dloss:0.5824 aloss2:0.1523 exploreP:0.0617\n",
      "Episode:264 meanR:237.3900 R:80.0000 rate:0.1600 aloss:1.3748 dloss:0.5868 aloss2:0.1555 exploreP:0.0613\n",
      "Episode:265 meanR:237.4300 R:88.0000 rate:0.1760 aloss:1.3824 dloss:0.5897 aloss2:0.1837 exploreP:0.0609\n",
      "Episode:266 meanR:236.4700 R:112.0000 rate:0.2240 aloss:1.3718 dloss:0.5598 aloss2:0.1673 exploreP:0.0603\n",
      "Episode:267 meanR:235.7300 R:78.0000 rate:0.1560 aloss:1.3708 dloss:0.6107 aloss2:0.1583 exploreP:0.0599\n",
      "Episode:268 meanR:235.1200 R:82.0000 rate:0.1640 aloss:1.3681 dloss:0.6174 aloss2:0.1517 exploreP:0.0595\n",
      "Episode:269 meanR:233.8500 R:69.0000 rate:0.1380 aloss:1.3742 dloss:0.5735 aloss2:0.1491 exploreP:0.0592\n",
      "Episode:270 meanR:233.4600 R:72.0000 rate:0.1440 aloss:1.3745 dloss:0.5732 aloss2:0.1509 exploreP:0.0588\n",
      "Episode:271 meanR:233.2700 R:100.0000 rate:0.2000 aloss:1.3723 dloss:0.5928 aloss2:0.1536 exploreP:0.0583\n",
      "Episode:272 meanR:232.6800 R:100.0000 rate:0.2000 aloss:1.3723 dloss:0.6069 aloss2:0.1664 exploreP:0.0578\n",
      "Episode:273 meanR:232.5500 R:74.0000 rate:0.1480 aloss:1.3703 dloss:0.5992 aloss2:0.1771 exploreP:0.0575\n",
      "Episode:274 meanR:232.8400 R:72.0000 rate:0.1440 aloss:1.3730 dloss:0.5534 aloss2:0.1600 exploreP:0.0571\n",
      "Episode:275 meanR:232.1000 R:90.0000 rate:0.1800 aloss:1.3647 dloss:0.5558 aloss2:0.1635 exploreP:0.0567\n",
      "Episode:276 meanR:232.3100 R:131.0000 rate:0.2620 aloss:1.3678 dloss:0.5822 aloss2:0.1926 exploreP:0.0561\n",
      "Episode:277 meanR:232.3100 R:104.0000 rate:0.2080 aloss:1.3622 dloss:0.5502 aloss2:0.1769 exploreP:0.0556\n",
      "Episode:278 meanR:233.0400 R:139.0000 rate:0.2780 aloss:1.3639 dloss:0.5506 aloss2:0.1786 exploreP:0.0550\n",
      "Episode:279 meanR:232.6400 R:111.0000 rate:0.2220 aloss:1.3699 dloss:0.5888 aloss2:0.1582 exploreP:0.0545\n",
      "Episode:280 meanR:232.9300 R:124.0000 rate:0.2480 aloss:1.3696 dloss:0.5822 aloss2:0.1491 exploreP:0.0540\n",
      "Episode:281 meanR:232.8400 R:95.0000 rate:0.1900 aloss:1.3666 dloss:0.6279 aloss2:0.2047 exploreP:0.0535\n",
      "Episode:282 meanR:233.0400 R:94.0000 rate:0.1880 aloss:1.3657 dloss:0.6166 aloss2:0.1619 exploreP:0.0531\n",
      "Episode:283 meanR:232.0800 R:126.0000 rate:0.2520 aloss:1.3736 dloss:0.5932 aloss2:0.1869 exploreP:0.0526\n",
      "Episode:284 meanR:231.6300 R:112.0000 rate:0.2240 aloss:1.3755 dloss:0.5620 aloss2:0.2282 exploreP:0.0521\n",
      "Episode:285 meanR:231.0800 R:113.0000 rate:0.2260 aloss:1.3665 dloss:0.5496 aloss2:0.2100 exploreP:0.0517\n",
      "Episode:286 meanR:231.1300 R:129.0000 rate:0.2580 aloss:1.3722 dloss:0.5660 aloss2:0.1764 exploreP:0.0511\n",
      "Episode:287 meanR:232.1200 R:112.0000 rate:0.2240 aloss:1.3668 dloss:0.5738 aloss2:0.1795 exploreP:0.0507\n",
      "Episode:288 meanR:232.4000 R:144.0000 rate:0.2880 aloss:1.3632 dloss:0.5880 aloss2:0.1690 exploreP:0.0501\n",
      "Episode:289 meanR:231.2900 R:130.0000 rate:0.2600 aloss:1.3674 dloss:0.5978 aloss2:0.1729 exploreP:0.0496\n",
      "Episode:290 meanR:229.2700 R:104.0000 rate:0.2080 aloss:1.3641 dloss:0.5706 aloss2:0.2297 exploreP:0.0492\n",
      "Episode:291 meanR:228.2500 R:115.0000 rate:0.2300 aloss:1.3630 dloss:0.6122 aloss2:0.1889 exploreP:0.0487\n",
      "Episode:292 meanR:227.6700 R:133.0000 rate:0.2660 aloss:1.3673 dloss:0.6237 aloss2:0.1909 exploreP:0.0482\n",
      "Episode:293 meanR:224.1600 R:74.0000 rate:0.1480 aloss:1.3707 dloss:0.5987 aloss2:0.1788 exploreP:0.0479\n",
      "Episode:294 meanR:222.8800 R:78.0000 rate:0.1560 aloss:1.3792 dloss:0.5918 aloss2:0.2165 exploreP:0.0476\n",
      "Episode:295 meanR:220.8200 R:79.0000 rate:0.1580 aloss:1.3719 dloss:0.5546 aloss2:0.2117 exploreP:0.0473\n",
      "Episode:296 meanR:216.9600 R:114.0000 rate:0.2280 aloss:1.3697 dloss:0.5577 aloss2:0.2505 exploreP:0.0469\n",
      "Episode:297 meanR:216.4000 R:143.0000 rate:0.2860 aloss:1.3634 dloss:0.5944 aloss2:0.1748 exploreP:0.0464\n",
      "Episode:298 meanR:216.8200 R:146.0000 rate:0.2920 aloss:1.3657 dloss:0.5835 aloss2:0.1819 exploreP:0.0458\n",
      "Episode:299 meanR:215.5500 R:121.0000 rate:0.2420 aloss:1.3657 dloss:0.5757 aloss2:0.1737 exploreP:0.0454\n",
      "Episode:300 meanR:214.5500 R:112.0000 rate:0.2240 aloss:1.3598 dloss:0.6092 aloss2:0.1864 exploreP:0.0450\n",
      "Episode:301 meanR:213.0200 R:126.0000 rate:0.2520 aloss:1.3667 dloss:0.6079 aloss2:0.2603 exploreP:0.0446\n",
      "Episode:302 meanR:209.3100 R:103.0000 rate:0.2060 aloss:1.3651 dloss:0.6372 aloss2:0.2164 exploreP:0.0442\n",
      "Episode:303 meanR:205.1700 R:86.0000 rate:0.1720 aloss:1.3695 dloss:0.5689 aloss2:0.2226 exploreP:0.0439\n",
      "Episode:304 meanR:203.5100 R:124.0000 rate:0.2480 aloss:1.3692 dloss:0.5968 aloss2:0.1942 exploreP:0.0435\n",
      "Episode:305 meanR:201.3700 R:110.0000 rate:0.2200 aloss:1.3638 dloss:0.6001 aloss2:0.1904 exploreP:0.0431\n",
      "Episode:306 meanR:201.3000 R:116.0000 rate:0.2320 aloss:1.3659 dloss:0.6025 aloss2:0.1872 exploreP:0.0428\n",
      "Episode:307 meanR:197.1300 R:83.0000 rate:0.1660 aloss:1.3729 dloss:0.6113 aloss2:0.1963 exploreP:0.0425\n",
      "Episode:308 meanR:194.2100 R:93.0000 rate:0.1860 aloss:1.3770 dloss:0.5948 aloss2:0.1941 exploreP:0.0422\n",
      "Episode:309 meanR:191.9100 R:109.0000 rate:0.2180 aloss:1.3709 dloss:0.5626 aloss2:0.1894 exploreP:0.0418\n",
      "Episode:310 meanR:188.7400 R:107.0000 rate:0.2140 aloss:1.3677 dloss:0.5531 aloss2:0.2059 exploreP:0.0415\n",
      "Episode:311 meanR:185.5600 R:102.0000 rate:0.2040 aloss:1.3612 dloss:0.5885 aloss2:0.2147 exploreP:0.0412\n",
      "Episode:312 meanR:185.7700 R:140.0000 rate:0.2800 aloss:1.3643 dloss:0.5646 aloss2:0.2523 exploreP:0.0408\n",
      "Episode:313 meanR:183.0700 R:127.0000 rate:0.2540 aloss:1.3616 dloss:0.6117 aloss2:0.2244 exploreP:0.0404\n",
      "Episode:314 meanR:181.5100 R:123.0000 rate:0.2460 aloss:1.3589 dloss:0.5990 aloss2:0.1877 exploreP:0.0400\n"
     ]
    },
    {
     "name": "stdout",
     "output_type": "stream",
     "text": [
      "Episode:315 meanR:178.3600 R:166.0000 rate:0.3320 aloss:1.3667 dloss:0.5844 aloss2:0.1953 exploreP:0.0395\n",
      "Episode:316 meanR:176.6400 R:117.0000 rate:0.2340 aloss:1.3656 dloss:0.6060 aloss2:0.2322 exploreP:0.0392\n",
      "Episode:317 meanR:175.5700 R:142.0000 rate:0.2840 aloss:1.3614 dloss:0.5836 aloss2:0.1923 exploreP:0.0387\n",
      "Episode:318 meanR:173.9000 R:128.0000 rate:0.2560 aloss:1.3664 dloss:0.5898 aloss2:0.2265 exploreP:0.0384\n",
      "Episode:319 meanR:174.0600 R:297.0000 rate:0.5940 aloss:1.3593 dloss:0.5736 aloss2:0.2480 exploreP:0.0376\n"
     ]
    }
   ],
   "source": [
    "# Save/load the model and save for plotting\n",
    "saver = tf.train.Saver()\n",
    "episode_rewards_list, rewards_list = [], []\n",
    "# aloss_list, dloss_list, aloss2_list = [], []\n",
    "\n",
    "# TF session for training\n",
    "with tf.Session(graph=graph) as sess:\n",
    "    sess.run(tf.global_variables_initializer())\n",
    "    #saver.restore(sess, 'checkpoints/model.ckpt')    \n",
    "    #saver.restore(sess, tf.train.latest_checkpoint('checkpoints'))\n",
    "    total_step = 0 # Explore or exploit parameter\n",
    "    episode_reward = deque(maxlen=100) # 100 episodes average/running average/running mean/window\n",
    "\n",
    "    # Training episodes/epochs\n",
    "    for ep in range(11111):\n",
    "        total_reward = 0 # each episode\n",
    "        aloss_batch, dloss_batch, aloss2_batch = [], [], []\n",
    "        state = env.reset() # each episode\n",
    "        num_step = 0 # each episode\n",
    "\n",
    "        # Training steps/batches\n",
    "        while True:\n",
    "            # Explore (Env) or Exploit (Model)\n",
    "            total_step += 1\n",
    "            explore_p = explore_stop + (explore_start - explore_stop) * np.exp(-decay_rate * total_step) \n",
    "            if explore_p > np.random.rand():\n",
    "                action = env.action_space.sample()\n",
    "            else:\n",
    "                action_logits = sess.run(model.actions_logits, feed_dict={model.states: state.reshape([1, -1])})\n",
    "                action = np.argmax(action_logits)\n",
    "            next_state, reward, done, _ = env.step(action)\n",
    "            memory.buffer.append([state, action, next_state, reward, float(done)])\n",
    "            memory.rates.append(-1) # empty\n",
    "            num_step += 1 # momory added\n",
    "            total_reward += reward\n",
    "            state = next_state\n",
    "            \n",
    "            # Rating the memory\n",
    "            if done is True:\n",
    "                rate = total_reward/500 # update rate at the end/ when episode is done\n",
    "                for idx in range(num_step): # episode length\n",
    "                    if memory.rates[-1-idx] == -1: # double-check the landmark/marked indexes\n",
    "                        memory.rates[-1-idx] = rate # rate the trajectory/data\n",
    "                        \n",
    "            # Training with the maxrated minibatch\n",
    "            batch = memory.buffer\n",
    "            percentage = 1.0\n",
    "            #for idx in range(memory_size// batch_size):\n",
    "            idx_arr = np.arange(memory_size// batch_size)\n",
    "            idx = np.random.choice(idx_arr)\n",
    "            states = np.array([each[0] for each in batch])[idx*batch_size:(idx+1)*batch_size]\n",
    "            actions = np.array([each[1] for each in batch])[idx*batch_size:(idx+1)*batch_size]\n",
    "            next_states = np.array([each[2] for each in batch])[idx*batch_size:(idx+1)*batch_size]\n",
    "            rewards = np.array([each[3] for each in batch])[idx*batch_size:(idx+1)*batch_size]\n",
    "            dones = np.array([each[4] for each in batch])[idx*batch_size:(idx+1)*batch_size]\n",
    "            rates = np.array(memory.rates)[idx*batch_size:(idx+1)*batch_size]\n",
    "            #print(states.shape, actions.shape, next_states.shape, rewards.shape, dones.shape, rates.shape)\n",
    "            states = states[rates >= (np.max(rates)*percentage)]\n",
    "            actions = actions[rates >= (np.max(rates)*percentage)]\n",
    "            next_states = next_states[rates >= (np.max(rates)*percentage)]\n",
    "            rewards = rewards[rates >= (np.max(rates)*percentage)]\n",
    "            dones = dones[rates >= (np.max(rates)*percentage)]\n",
    "            rates = rates[rates >= (np.max(rates)*percentage)]\n",
    "            aloss, dloss, _, _ = sess.run([model.a_loss, model.d_loss, model.a_opt, model.d_opt],\n",
    "                                          feed_dict = {model.states: states, \n",
    "                                                       model.actions: actions,\n",
    "                                                       model.next_states: next_states,\n",
    "                                                       model.rewards: rewards,\n",
    "                                                       model.dones: dones,\n",
    "                                                       model.rates: rates})\n",
    "            aloss2, _ = sess.run([model.a_loss2, model.a_opt2], \n",
    "                                          feed_dict = {model.states: states, \n",
    "                                                       model.actions: actions,\n",
    "                                                       model.next_states: next_states,\n",
    "                                                       model.rewards: rewards,\n",
    "                                                       model.dones: dones,\n",
    "                                                       model.rates: rates})\n",
    "            aloss_batch.append(aloss)\n",
    "            dloss_batch.append(dloss)\n",
    "            aloss2_batch.append(aloss2)\n",
    "            if done is True:\n",
    "                break\n",
    "                \n",
    "        episode_reward.append(total_reward)\n",
    "        print('Episode:{}'.format(ep),\n",
    "              'meanR:{:.4f}'.format(np.mean(episode_reward)),\n",
    "              'R:{:.4f}'.format(total_reward),\n",
    "              'rate:{:.4f}'.format(rate),\n",
    "              'aloss:{:.4f}'.format(np.mean(aloss_batch)),\n",
    "              'dloss:{:.4f}'.format(np.mean(dloss_batch)),\n",
    "              'aloss2:{:.4f}'.format(np.mean(aloss2_batch)),\n",
    "              'exploreP:{:.4f}'.format(explore_p))\n",
    "\n",
    "        # Ploting out\n",
    "        episode_rewards_list.append([ep, np.mean(episode_reward)])\n",
    "        rewards_list.append([ep, total_reward])\n",
    "        # gloss_list.append([ep, np.mean(gloss_batch)])\n",
    "        # dloss_list.append([ep, np.mean(dloss_batch)])\n",
    "        \n",
    "        # Break episode/epoch loop\n",
    "        ## Option 1: Solve the First Version\n",
    "        #The task is episodic, and in order to solve the environment, \n",
    "        #your agent must get an average score of +30 over 100 consecutive episodes.\n",
    "        if np.mean(episode_reward) >= 500:\n",
    "            break\n",
    "            \n",
    "    # At the end of all training episodes/epochs\n",
    "    saver.save(sess, 'checkpoints/model.ckpt')"
   ]
  },
  {
   "cell_type": "markdown",
   "metadata": {},
   "source": [
    "# Visualizing training\n",
    "\n",
    "Below I'll plot the total rewards for each episode. I'm plotting the rolling average too, in blue."
   ]
  },
  {
   "cell_type": "code",
   "execution_count": null,
   "metadata": {},
   "outputs": [],
   "source": [
    "import matplotlib.pyplot as plt\n",
    "%matplotlib inline\n",
    "\n",
    "def running_mean(x, N):\n",
    "    cumsum = np.cumsum(np.insert(x, 0, 0)) \n",
    "    return (cumsum[N:] - cumsum[:-N]) / N "
   ]
  },
  {
   "cell_type": "code",
   "execution_count": null,
   "metadata": {},
   "outputs": [],
   "source": [
    "eps, arr = np.array(episode_rewards_list).T\n",
    "smoothed_arr = running_mean(arr, 10)\n",
    "plt.plot(eps[-len(smoothed_arr):], smoothed_arr)\n",
    "plt.plot(eps, arr, color='grey', alpha=0.3)\n",
    "plt.xlabel('Episode')\n",
    "plt.ylabel('Total rewards')"
   ]
  },
  {
   "cell_type": "code",
   "execution_count": 41,
   "metadata": {},
   "outputs": [
    {
     "data": {
      "text/plain": [
       "Text(0, 0.5, 'Total rewards')"
      ]
     },
     "execution_count": 41,
     "metadata": {},
     "output_type": "execute_result"
    },
    {
     "data": {
      "image/png": "[encoded data removed]",
      "text/plain": [
       "<Figure size 432x288 with 1 Axes>"
      ]
     },
     "metadata": {
      "needs_background": "light"
     },
     "output_type": "display_data"
    }
   ],
   "source": [
    "eps, arr = np.array(episode_rewards_list).T\n",
    "smoothed_arr = running_mean(arr, 10)\n",
    "plt.plot(eps[-len(smoothed_arr):], smoothed_arr)\n",
    "plt.plot(eps, arr, color='grey', alpha=0.3)\n",
    "plt.xlabel('Episode')\n",
    "plt.ylabel('Total rewards')"
   ]
  },
  {
   "cell_type": "code",
   "execution_count": 19,
   "metadata": {},
   "outputs": [
    {
     "data": {
      "text/plain": [
       "Text(0, 0.5, 'Total rewards')"
      ]
     },
     "execution_count": 19,
     "metadata": {},
     "output_type": "execute_result"
    },
    {
     "data": {
      "image/png": "[encoded data removed]",
      "text/plain": [
       "<Figure size 432x288 with 1 Axes>"
      ]
     },
     "metadata": {
      "needs_background": "light"
     },
     "output_type": "display_data"
    }
   ],
   "source": [
    "eps, arr = np.array(episode_rewards_list).T\n",
    "smoothed_arr = running_mean(arr, 10)\n",
    "plt.plot(eps[-len(smoothed_arr):], smoothed_arr)\n",
    "plt.plot(eps, arr, color='grey', alpha=0.3)\n",
    "plt.xlabel('Episode')\n",
    "plt.ylabel('Total rewards')"
   ]
  },
  {
   "cell_type": "code",
   "execution_count": 17,
   "metadata": {},
   "outputs": [
    {
     "data": {
      "text/plain": [
       "Text(0, 0.5, 'Total rewards')"
      ]
     },
     "execution_count": 17,
     "metadata": {},
     "output_type": "execute_result"
    },
    {
     "data": {
      "image/png": "[encoded data removed]",
      "text/plain": [
       "<Figure size 432x288 with 1 Axes>"
      ]
     },
     "metadata": {
      "needs_background": "light"
     },
     "output_type": "display_data"
    }
   ],
   "source": [
    "eps, arr = np.array(episode_rewards_list).T\n",
    "smoothed_arr = running_mean(arr, 10)\n",
    "plt.plot(eps[-len(smoothed_arr):], smoothed_arr)\n",
    "plt.plot(eps, arr, color='grey', alpha=0.3)\n",
    "plt.xlabel('Episode')\n",
    "plt.ylabel('Total rewards')"
   ]
  },
  {
   "cell_type": "code",
   "execution_count": 59,
   "metadata": {},
   "outputs": [
    {
     "data": {
      "text/plain": [
       "Text(0, 0.5, 'Total rewards')"
      ]
     },
     "execution_count": 59,
     "metadata": {},
     "output_type": "execute_result"
    },
    {
     "data": {
      "image/png": "[encoded data removed]",
      "text/plain": [
       "<Figure size 432x288 with 1 Axes>"
      ]
     },
     "metadata": {
      "needs_background": "light"
     },
     "output_type": "display_data"
    }
   ],
   "source": [
    "eps, arr = np.array(episode_rewards_list).T\n",
    "smoothed_arr = running_mean(arr, 10)\n",
    "plt.plot(eps[-len(smoothed_arr):], smoothed_arr)\n",
    "plt.plot(eps, arr, color='grey', alpha=0.3)\n",
    "plt.xlabel('Episode')\n",
    "plt.ylabel('Total rewards')"
   ]
  },
  {
   "cell_type": "code",
   "execution_count": 42,
   "metadata": {},
   "outputs": [
    {
     "data": {
      "text/plain": [
       "Text(0, 0.5, 'Total rewards')"
      ]
     },
     "execution_count": 42,
     "metadata": {},
     "output_type": "execute_result"
    },
    {
     "data": {
      "image/png": "[encoded data removed]",
      "text/plain": [
       "<Figure size 432x288 with 1 Axes>"
      ]
     },
     "metadata": {
      "needs_background": "light"
     },
     "output_type": "display_data"
    }
   ],
   "source": [
    "eps, arr = np.array(rewards_list).T\n",
    "smoothed_arr = running_mean(arr, 10)\n",
    "plt.plot(eps[-len(smoothed_arr):], smoothed_arr)\n",
    "plt.plot(eps, arr, color='grey', alpha=0.3)\n",
    "plt.xlabel('Episode')\n",
    "plt.ylabel('Total rewards')"
   ]
  },
  {
   "cell_type": "code",
   "execution_count": 20,
   "metadata": {},
   "outputs": [
    {
     "data": {
      "text/plain": [
       "Text(0, 0.5, 'Total rewards')"
      ]
     },
     "execution_count": 20,
     "metadata": {},
     "output_type": "execute_result"
    },
    {
     "data": {
      "image/png": "[encoded data removed]",
      "text/plain": [
       "<Figure size 432x288 with 1 Axes>"
      ]
     },
     "metadata": {
      "needs_background": "light"
     },
     "output_type": "display_data"
    }
   ],
   "source": [
    "eps, arr = np.array(rewards_list).T\n",
    "smoothed_arr = running_mean(arr, 10)\n",
    "plt.plot(eps[-len(smoothed_arr):], smoothed_arr)\n",
    "plt.plot(eps, arr, color='grey', alpha=0.3)\n",
    "plt.xlabel('Episode')\n",
    "plt.ylabel('Total rewards')"
   ]
  },
  {
   "cell_type": "code",
   "execution_count": 61,
   "metadata": {},
   "outputs": [
    {
     "data": {
      "text/plain": [
       "Text(0, 0.5, 'Total rewards')"
      ]
     },
     "execution_count": 61,
     "metadata": {},
     "output_type": "execute_result"
    },
    {
     "data": {
      "image/png": "[encoded data removed]",
      "text/plain": [
       "<Figure size 432x288 with 1 Axes>"
      ]
     },
     "metadata": {
      "needs_background": "light"
     },
     "output_type": "display_data"
    }
   ],
   "source": [
    "eps, arr = np.array(rewards_list).T\n",
    "smoothed_arr = running_mean(arr, 10)\n",
    "plt.plot(eps[-len(smoothed_arr):], smoothed_arr)\n",
    "plt.plot(eps, arr, color='grey', alpha=0.3)\n",
    "plt.xlabel('Episode')\n",
    "plt.ylabel('Total rewards')"
   ]
  },
  {
   "cell_type": "code",
   "execution_count": null,
   "metadata": {},
   "outputs": [],
   "source": [
    "eps, arr = np.array(gloss_list).T\n",
    "smoothed_arr = running_mean(arr, 10)\n",
    "plt.plot(eps[-len(smoothed_arr):], smoothed_arr)\n",
    "plt.plot(eps, arr, color='grey', alpha=0.3)\n",
    "plt.xlabel('Episode')\n",
    "plt.ylabel('G losses')`"
   ]
  },
  {
   "cell_type": "code",
   "execution_count": null,
   "metadata": {},
   "outputs": [],
   "source": [
    "eps, arr = np.array(dloss_list).T\n",
    "smoothed_arr = running_mean(arr, 10)\n",
    "plt.plot(eps[-len(smoothed_arr):], smoothed_arr)\n",
    "plt.plot(eps, arr, color='grey', alpha=0.3)\n",
    "plt.xlabel('Episode')\n",
    "plt.ylabel('D losses')"
   ]
  },
  {
   "cell_type": "markdown",
   "metadata": {},
   "source": [
    "## Testing\n",
    "\n",
    "Let's checkout how our trained agent plays the game."
   ]
  },
  {
   "cell_type": "code",
   "execution_count": 22,
   "metadata": {},
   "outputs": [
    {
     "name": "stdout",
     "output_type": "stream",
     "text": [
      "INFO:tensorflow:Restoring parameters from checkpoints/model.ckpt\n",
      "total_reward: 500.0\n",
      "total_reward: 500.0\n",
      "total_reward: 500.0\n",
      "total_reward: 500.0\n",
      "total_reward: 500.0\n",
      "total_reward: 500.0\n",
      "total_reward: 500.0\n",
      "total_reward: 500.0\n",
      "total_reward: 500.0\n",
      "total_reward: 500.0\n",
      "total_reward: 500.0\n"
     ]
    }
   ],
   "source": [
    "import gym\n",
    "env = gym.make('CartPole-v0')\n",
    "env = gym.make('CartPole-v1')\n",
    "# env = gym.make('Acrobot-v1')\n",
    "# env = gym.make('MountainCar-v0')\n",
    "# env = gym.make('Pendulum-v0')\n",
    "# env = gym.make('Blackjack-v0')\n",
    "# env = gym.make('FrozenLake-v0')\n",
    "# env = gym.make('AirRaid-ram-v0')\n",
    "# env = gym.make('AirRaid-v0')\n",
    "# env = gym.make('BipedalWalker-v2')\n",
    "# env = gym.make('Copy-v0')\n",
    "# env = gym.make('CarRacing-v0')\n",
    "# env = gym.make('Ant-v2') #mujoco\n",
    "# env = gym.make('FetchPickAndPlace-v1') # mujoco required!\n",
    "\n",
    "with tf.Session() as sess:\n",
    "    sess.run(tf.global_variables_initializer())\n",
    "    saver.restore(sess, 'checkpoints/model.ckpt')    \n",
    "    #saver.restore(sess, tf.train.latest_checkpoint('checkpoints'))\n",
    "    \n",
    "    # Episodes/epochs\n",
    "    for _ in range(11):\n",
    "        state = env.reset()\n",
    "        total_reward = 0\n",
    "\n",
    "        # Steps/batches\n",
    "        while True:\n",
    "            env.render()\n",
    "            action_logits = sess.run(model.actions_logits, feed_dict={model.states: state.reshape([1, -1])})\n",
    "            action = np.argmax(action_logits)\n",
    "            state, reward, done, _ = env.step(action)\n",
    "            total_reward += reward\n",
    "            if done:\n",
    "                print('total_reward: {}'.format(total_reward))\n",
    "                break\n",
    "                \n",
    "env.close()"
   ]
  },
  {
   "cell_type": "markdown",
   "metadata": {},
   "source": [
    "## Extending this\n",
    "\n",
    "So, Cart-Pole is a pretty simple game. However, the same model can be used to train an agent to play something much more complicated like Pong or Space Invaders. Instead of a state like we're using here though, you'd want to use convolutional layers to get the state from the screen images.\n",
    "\n",
    "![Deep Q-Learning Atari](assets/atari-network.png)\n",
    "\n",
    "I'll leave it as a challenge for you to use deep Q-learning to train an agent to play Atari games. Here's the original paper which will get you started: http://www.davidqiu.com:8888/research/nature14236.pdf."
   ]
  },
  {
   "cell_type": "code",
   "execution_count": null,
   "metadata": {},
   "outputs": [],
   "source": []
  }
 ],
 "metadata": {
  "kernelspec": {
   "display_name": "Python 3",
   "language": "python",
   "name": "python3"
  },
  "language_info": {
   "codemirror_mode": {
    "name": "ipython",
    "version": 3
   },
   "file_extension": ".py",
   "mimetype": "text/x-python",
   "name": "python",
   "nbconvert_exporter": "python",
   "pygments_lexer": "ipython3",
   "version": "3.6.6"
  }
 },
 "nbformat": 4,
 "nbformat_minor": 2
}
