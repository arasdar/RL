{
 "cells": [
  {
   "cell_type": "code",
   "execution_count": 1,
   "metadata": {},
   "outputs": [
    {
     "name": "stdout",
     "output_type": "stream",
     "text": [
      "TensorFlow Version: 1.7.1\n",
      "Default GPU Device: \n"
     ]
    }
   ],
   "source": [
    "import tensorflow as tf\n",
    "print('TensorFlow Version: {}'.format(tf.__version__))\n",
    "print('Default GPU Device: {}'.format(tf.test.gpu_device_name()))"
   ]
  },
  {
   "cell_type": "markdown",
   "metadata": {},
   "source": [
    "##### >**Note:** Make sure you have OpenAI Gym cloned. Then run this command `pip install -e gym/[all]`."
   ]
  },
  {
   "cell_type": "code",
   "execution_count": 2,
   "metadata": {},
   "outputs": [],
   "source": [
    "import numpy as np\n",
    "import gym\n",
    "env = gym.make('CartPole-v0')\n",
    "env = gym.make('CartPole-v1')"
   ]
  },
  {
   "cell_type": "code",
   "execution_count": 3,
   "metadata": {},
   "outputs": [],
   "source": [
    "def model_input(state_size):\n",
    "    #states = tf.placeholder(tf.float32, [None, *state_size], name='states')\n",
    "    states = tf.placeholder(tf.float32, [None, state_size], name='states')\n",
    "    actions = tf.placeholder(tf.int32, [None], name='actions')\n",
    "    next_states = tf.placeholder(tf.float32, [None, state_size], name='next_states')\n",
    "    rewards = tf.placeholder(tf.float32, [None], name='rewards')\n",
    "    dones = tf.placeholder(tf.float32, [None], name='dones')\n",
    "    rates = tf.placeholder(tf.float32, [None], name='rates') # success rate\n",
    "    return states, actions, next_states, rewards, dones, rates"
   ]
  },
  {
   "cell_type": "code",
   "execution_count": 4,
   "metadata": {},
   "outputs": [],
   "source": [
    "def Act(states, action_size, hidden_size, reuse=False, alpha=0.1, training=False):\n",
    "    with tf.variable_scope('Act', reuse=reuse):\n",
    "        # First fully connected layer\n",
    "        h1 = tf.layers.dense(inputs=states, units=hidden_size)\n",
    "        bn1 = tf.layers.batch_normalization(h1, training=training)        \n",
    "        nl1 = tf.maximum(alpha * bn1, bn1)\n",
    "        \n",
    "        # Second fully connected layer\n",
    "        h2 = tf.layers.dense(inputs=nl1, units=hidden_size)\n",
    "        bn2 = tf.layers.batch_normalization(h2, training=training)        \n",
    "        nl2 = tf.maximum(alpha * bn2, bn2)\n",
    "        \n",
    "        # Output layer\n",
    "        logits = tf.layers.dense(inputs=nl2, units=action_size)        \n",
    "        return logits"
   ]
  },
  {
   "cell_type": "code",
   "execution_count": 5,
   "metadata": {},
   "outputs": [],
   "source": [
    "def Env(states, actions, state_size, action_size, hidden_size, reuse=False, alpha=0.1, training=False):\n",
    "    with tf.variable_scope('Env', reuse=reuse):\n",
    "        # First fully connected layer\n",
    "        h1 = tf.layers.dense(inputs=states, units=action_size)\n",
    "        bn1 = tf.layers.batch_normalization(h1, training=training)        \n",
    "        nl1 = tf.maximum(alpha * bn1, bn1)\n",
    "        \n",
    "        # Second fully connected layer\n",
    "        nl1_fused = tf.concat(axis=1, values=[nl1, actions])\n",
    "        h2 = tf.layers.dense(inputs=nl1_fused, units=hidden_size)\n",
    "        bn2 = tf.layers.batch_normalization(h2, training=training)        \n",
    "        nl2 = tf.maximum(alpha * bn2, bn2)\n",
    "                \n",
    "        # Output layer\n",
    "        states_logits = tf.layers.dense(inputs=nl2, units=state_size, trainable=False)\n",
    "        Qlogits = tf.layers.dense(inputs=nl2, units=1, trainable=False)\n",
    "        return states_logits, Qlogits"
   ]
  },
  {
   "cell_type": "code",
   "execution_count": 6,
   "metadata": {},
   "outputs": [],
   "source": [
    "def model_loss(state_size, action_size, hidden_size, gamma,\n",
    "               states, actions, next_states, rewards, dones, rates):\n",
    "    ################################################ a = act(s)\n",
    "    actions_logits = Act(states=states, hidden_size=hidden_size, action_size=action_size)\n",
    "    actions_labels = tf.one_hot(indices=actions, depth=action_size, dtype=actions_logits.dtype)\n",
    "    aloss = tf.reduce_mean(tf.nn.softmax_cross_entropy_with_logits_v2(logits=actions_logits, \n",
    "                                                                      labels=actions_labels))\n",
    "    ################################################ s', r = env(s, a)\n",
    "    ################################################ s', Q = env(s, a)\n",
    "    ################################################ ~s', ~Q = env(s, ~a)\n",
    "    e_next_states_logits, eQs = Env(actions=actions_labels, states=states, hidden_size=hidden_size, \n",
    "                                    action_size=action_size, state_size=state_size)\n",
    "    a_next_states_logits, aQs = Env(actions=actions_logits, states=states, hidden_size=hidden_size, \n",
    "                                    action_size=action_size, state_size=state_size, reuse=True)\n",
    "    next_states_labels = tf.nn.sigmoid(next_states)\n",
    "    eloss = tf.reduce_mean(tf.nn.sigmoid_cross_entropy_with_logits(logits=e_next_states_logits, \n",
    "                                                                   labels=next_states_labels))\n",
    "    aloss2 = tf.reduce_mean(tf.nn.sigmoid_cross_entropy_with_logits(logits=a_next_states_logits, \n",
    "                                                                    labels=next_states_labels))\n",
    "    eQs_logits = tf.reshape(eQs, shape=[-1])\n",
    "    aQs_logits = tf.reshape(aQs, shape=[-1])\n",
    "    eloss += tf.reduce_mean(tf.nn.sigmoid_cross_entropy_with_logits(logits=eQs_logits, # GAN\n",
    "                                                                    labels=rates)) # 0-1\n",
    "    #################################################### s'', Q' = ~env(s', ~a')\n",
    "    next_actions_logits = Act(states=next_states, hidden_size=hidden_size, action_size=action_size, reuse=True)\n",
    "    _, aQs2 = Env(actions=next_actions_logits, states=next_states, hidden_size=hidden_size, \n",
    "                  action_size=action_size, state_size=state_size, reuse=True)\n",
    "    aQs2_logits = tf.reshape(aQs2, shape=[-1]) * (1-dones)\n",
    "    eloss += tf.reduce_mean(tf.nn.sigmoid_cross_entropy_with_logits(logits=(aQs_logits+aQs2_logits)/2, # GAN\n",
    "                                                                    labels=tf.zeros_like(rates))) # min\n",
    "    aloss2 += tf.reduce_mean(tf.nn.sigmoid_cross_entropy_with_logits(logits=(aQs_logits+aQs2_logits)/2, # GAN\n",
    "                                                                     labels=tf.ones_like(rates))) # max\n",
    "    ###################################################### Q(s,a)= r + Q'(s',a') # max\n",
    "    ###################################################### ~Q(s,~a)= r # min\n",
    "    ###################################################### ~Q(s,~a)= r + Q'(s',a') # max\n",
    "    targetQs = rewards + (gamma * aQs2_logits)\n",
    "    eloss += tf.reduce_mean(tf.square(eQs_logits - targetQs)) # real\n",
    "    eloss += tf.reduce_mean((aQs_logits+aQs2_logits)/2) # min\n",
    "    aloss2 += -tf.reduce_mean((aQs_logits+aQs2_logits)/2) # max\n",
    "    return actions_logits, aloss, eloss, aloss2"
   ]
  },
  {
   "cell_type": "code",
   "execution_count": 7,
   "metadata": {},
   "outputs": [],
   "source": [
    "def model_opt(a_loss, e_loss, a_loss2, a_learning_rate, e_learning_rate):\n",
    "    # Get weights and bias to update\n",
    "    t_vars = tf.trainable_variables()\n",
    "    a_vars = [var for var in t_vars if var.name.startswith('Act')]\n",
    "    e_vars = [var for var in t_vars if var.name.startswith('Env')]\n",
    "\n",
    "    # Optimize\n",
    "    with tf.control_dependencies(tf.get_collection(tf.GraphKeys.UPDATE_OPS)): # Required for batchnorm (BN)\n",
    "        a_opt = tf.train.AdamOptimizer(a_learning_rate).minimize(a_loss, var_list=a_vars)\n",
    "        e_opt = tf.train.AdamOptimizer(e_learning_rate).minimize(e_loss, var_list=e_vars)\n",
    "        a_opt2 = tf.train.AdamOptimizer(a_learning_rate).minimize(a_loss2, var_list=a_vars)\n",
    "    return a_opt, e_opt, a_opt2"
   ]
  },
  {
   "cell_type": "code",
   "execution_count": 8,
   "metadata": {},
   "outputs": [],
   "source": [
    "class Model:\n",
    "    def __init__(self, state_size, action_size, hidden_size, a_learning_rate, e_learning_rate, gamma):\n",
    "\n",
    "        # Data of the Model: make the data available inside the framework\n",
    "        self.states, self.actions, self.next_states, self.rewards, self.dones, self.rates = model_input(\n",
    "            state_size=state_size)\n",
    "\n",
    "        # Create the Model: calculating the loss and forwad pass\n",
    "        self.actions_logits, self.a_loss, self.e_loss, self.a_loss2 = model_loss(\n",
    "            state_size=state_size, action_size=action_size, hidden_size=hidden_size, gamma=gamma, # model init\n",
    "            states=self.states, actions=self.actions, next_states=self.next_states, \n",
    "            rewards=self.rewards, dones=self.dones, rates=self.rates) # model input\n",
    "        \n",
    "        # Update the model: backward pass and backprop\n",
    "        self.a_opt, self.e_opt, self.a_opt2 = model_opt(a_loss=self.a_loss, \n",
    "                                                        e_loss=self.e_loss,\n",
    "                                                        a_loss2=self.a_loss2, \n",
    "                                                        a_learning_rate=a_learning_rate,\n",
    "                                                        e_learning_rate=e_learning_rate)"
   ]
  },
  {
   "cell_type": "code",
   "execution_count": 9,
   "metadata": {},
   "outputs": [],
   "source": [
    "from collections import deque\n",
    "class Memory():\n",
    "    def __init__(self, max_size = 1000):\n",
    "        self.buffer = deque(maxlen=max_size) # data batch\n",
    "#     def sample(self, batch_size):\n",
    "#         idx = np.random.choice(np.arange(len(self.buffer)), size=batch_size, replace=False)\n",
    "#         return [self.buffer[ii] for ii in idx]"
   ]
  },
  {
   "cell_type": "markdown",
   "metadata": {},
   "source": [
    "## Hyperparameters\n",
    "\n",
    "One of the more difficult aspects of reinforcememt learning are the large number of hyperparameters. Not only are we tuning the network, but we're tuning the simulation."
   ]
  },
  {
   "cell_type": "code",
   "execution_count": 10,
   "metadata": {},
   "outputs": [
    {
     "data": {
      "text/plain": [
       "(Box(4,), Discrete(2))"
      ]
     },
     "execution_count": 10,
     "metadata": {},
     "output_type": "execute_result"
    }
   ],
   "source": [
    "env.observation_space, env.action_space"
   ]
  },
  {
   "cell_type": "code",
   "execution_count": 11,
   "metadata": {},
   "outputs": [],
   "source": [
    "# Exploration parameters\n",
    "explore_start = 1.0            # exploration probability at start\n",
    "explore_stop = 0.01           # minimum exploration probability \n",
    "decay_rate = 0.0001            # exponential decay rate for exploration prob\n",
    "\n",
    "# Network parameters\n",
    "state_size = 4\n",
    "action_size = 2\n",
    "hidden_size = 4*2             # number of units in each Q-network hidden layer\n",
    "a_learning_rate = 1e-4         # Q-network learning rate\n",
    "e_learning_rate = 1e-4         # Q-network learning rate\n",
    "\n",
    "# Memory parameters\n",
    "memory_size = int(1e5)            # memory capacity\n",
    "batch_size = int(1e3)             # experience mini-batch size\n",
    "gamma=0.99"
   ]
  },
  {
   "cell_type": "code",
   "execution_count": 12,
   "metadata": {},
   "outputs": [],
   "source": [
    "# Reset/init the graph/session\n",
    "graph = tf.reset_default_graph()\n",
    "\n",
    "# Init the model\n",
    "model = Model(action_size=action_size, state_size=state_size, hidden_size=hidden_size, gamma=gamma,\n",
    "              a_learning_rate=a_learning_rate, e_learning_rate=e_learning_rate)\n",
    "\n",
    "# Init the memory\n",
    "memory = Memory(max_size=memory_size)"
   ]
  },
  {
   "cell_type": "code",
   "execution_count": 13,
   "metadata": {},
   "outputs": [],
   "source": [
    "state = env.reset()\n",
    "total_reward = 0\n",
    "num_step = 0\n",
    "for _ in range(memory_size):\n",
    "    action = env.action_space.sample()\n",
    "    next_state, reward, done, _ = env.step(action)\n",
    "    rate = -1\n",
    "    memory.buffer.append([state, action, next_state, reward, float(done), rate])\n",
    "    num_step += 1 # memory incremented\n",
    "    total_reward += reward\n",
    "    state = next_state\n",
    "    if done is True:\n",
    "        rate = total_reward/500\n",
    "        for idx in range(num_step): # episode length\n",
    "            if memory.buffer[-1-idx][-1] == -1:\n",
    "                memory.buffer[-1-idx][-1] = rate\n",
    "        state = env.reset()\n",
    "        total_reward = 0 # reset\n",
    "        num_step = 0 # reset"
   ]
  },
  {
   "cell_type": "markdown",
   "metadata": {},
   "source": [
    "## Training the model\n",
    "\n",
    "Below we'll train our agent. If you want to watch it train, uncomment the `env.render()` line. This is slow because it's rendering the frames slower than the network can train. But, it's cool to watch the agent get better at the game."
   ]
  },
  {
   "cell_type": "code",
   "execution_count": null,
   "metadata": {},
   "outputs": [
    {
     "name": "stdout",
     "output_type": "stream",
     "text": [
      "Episode:0 meanR:15.0000 R:15.0000 rate:0.0300 aloss:0.7389 eloss:3.0248 aloss2:1.9455 exploreP:0.9985\n",
      "Episode:1 meanR:18.0000 R:21.0000 rate:0.0420 aloss:0.7251 eloss:3.0529 aloss2:1.9267 exploreP:0.9964\n",
      "Episode:2 meanR:17.3333 R:16.0000 rate:0.0320 aloss:0.6867 eloss:3.1421 aloss2:1.8413 exploreP:0.9949\n",
      "Episode:3 meanR:18.7500 R:23.0000 rate:0.0460 aloss:0.6970 eloss:3.1357 aloss2:1.8500 exploreP:0.9926\n",
      "Episode:4 meanR:20.4000 R:27.0000 rate:0.0540 aloss:0.7230 eloss:3.0678 aloss2:1.9106 exploreP:0.9900\n",
      "Episode:5 meanR:23.1667 R:37.0000 rate:0.0740 aloss:0.6884 eloss:3.1930 aloss2:1.8026 exploreP:0.9863\n",
      "Episode:6 meanR:22.1429 R:16.0000 rate:0.0320 aloss:0.6881 eloss:3.1236 aloss2:1.8727 exploreP:0.9848\n",
      "Episode:7 meanR:23.2500 R:31.0000 rate:0.0620 aloss:0.7127 eloss:3.0247 aloss2:1.9503 exploreP:0.9818\n",
      "Episode:8 meanR:22.1111 R:13.0000 rate:0.0260 aloss:0.6842 eloss:3.0576 aloss2:1.9631 exploreP:0.9805\n",
      "Episode:9 meanR:23.6000 R:37.0000 rate:0.0740 aloss:0.6944 eloss:3.1817 aloss2:1.8007 exploreP:0.9769\n",
      "Episode:10 meanR:22.7273 R:14.0000 rate:0.0280 aloss:0.7061 eloss:3.0782 aloss2:1.9051 exploreP:0.9756\n",
      "Episode:11 meanR:22.9167 R:25.0000 rate:0.0500 aloss:0.6881 eloss:3.1068 aloss2:1.8619 exploreP:0.9731\n",
      "Episode:12 meanR:22.4615 R:17.0000 rate:0.0340 aloss:0.6919 eloss:3.2200 aloss2:1.7259 exploreP:0.9715\n",
      "Episode:13 meanR:23.0000 R:30.0000 rate:0.0600 aloss:0.6858 eloss:3.1366 aloss2:1.7865 exploreP:0.9686\n",
      "Episode:14 meanR:23.6000 R:32.0000 rate:0.0640 aloss:0.6869 eloss:3.0714 aloss2:1.9641 exploreP:0.9656\n",
      "Episode:15 meanR:23.1875 R:17.0000 rate:0.0340 aloss:0.6919 eloss:3.0212 aloss2:1.8317 exploreP:0.9639\n",
      "Episode:16 meanR:22.5882 R:13.0000 rate:0.0260 aloss:0.6984 eloss:3.0581 aloss2:1.7449 exploreP:0.9627\n",
      "Episode:17 meanR:23.3333 R:36.0000 rate:0.0720 aloss:0.6901 eloss:2.9734 aloss2:1.8311 exploreP:0.9593\n",
      "Episode:18 meanR:22.6316 R:10.0000 rate:0.0200 aloss:0.6936 eloss:2.8898 aloss2:1.8796 exploreP:0.9583\n",
      "Episode:19 meanR:22.7500 R:25.0000 rate:0.0500 aloss:0.6914 eloss:2.8553 aloss2:1.9212 exploreP:0.9560\n",
      "Episode:20 meanR:22.6667 R:21.0000 rate:0.0420 aloss:0.6885 eloss:2.8043 aloss2:1.9661 exploreP:0.9540\n",
      "Episode:21 meanR:22.1818 R:12.0000 rate:0.0240 aloss:0.6955 eloss:2.8182 aloss2:1.8789 exploreP:0.9528\n",
      "Episode:22 meanR:22.0870 R:20.0000 rate:0.0400 aloss:0.6959 eloss:2.7593 aloss2:1.9279 exploreP:0.9510\n",
      "Episode:23 meanR:24.0000 R:68.0000 rate:0.1360 aloss:0.6981 eloss:2.6888 aloss2:1.9558 exploreP:0.9446\n",
      "Episode:24 meanR:23.7600 R:18.0000 rate:0.0360 aloss:0.6949 eloss:2.5639 aloss2:2.0184 exploreP:0.9429\n",
      "Episode:25 meanR:24.0769 R:32.0000 rate:0.0640 aloss:0.6945 eloss:2.5126 aloss2:2.0435 exploreP:0.9399\n",
      "Episode:26 meanR:23.7778 R:16.0000 rate:0.0320 aloss:0.6986 eloss:2.4938 aloss2:2.0078 exploreP:0.9384\n",
      "Episode:27 meanR:23.6786 R:21.0000 rate:0.0420 aloss:0.6967 eloss:2.4365 aloss2:2.0605 exploreP:0.9365\n",
      "Episode:28 meanR:23.4483 R:17.0000 rate:0.0340 aloss:0.6973 eloss:2.3537 aloss2:2.1557 exploreP:0.9349\n",
      "Episode:29 meanR:23.4333 R:23.0000 rate:0.0460 aloss:0.6956 eloss:2.3418 aloss2:2.1276 exploreP:0.9328\n",
      "Episode:30 meanR:23.2903 R:19.0000 rate:0.0380 aloss:0.6965 eloss:2.3417 aloss2:2.1005 exploreP:0.9310\n",
      "Episode:31 meanR:22.9688 R:13.0000 rate:0.0260 aloss:0.6988 eloss:2.3235 aloss2:2.0976 exploreP:0.9298\n",
      "Episode:32 meanR:23.1515 R:29.0000 rate:0.0580 aloss:0.6978 eloss:2.2827 aloss2:2.1249 exploreP:0.9272\n",
      "Episode:33 meanR:23.3824 R:31.0000 rate:0.0620 aloss:0.6931 eloss:2.1723 aloss2:2.2369 exploreP:0.9243\n",
      "Episode:34 meanR:23.0571 R:12.0000 rate:0.0240 aloss:0.7011 eloss:2.2412 aloss2:2.1324 exploreP:0.9232\n",
      "Episode:35 meanR:23.3611 R:34.0000 rate:0.0680 aloss:0.6955 eloss:2.1460 aloss2:2.2369 exploreP:0.9201\n",
      "Episode:36 meanR:23.2432 R:19.0000 rate:0.0380 aloss:0.6929 eloss:2.1136 aloss2:2.2750 exploreP:0.9184\n",
      "Episode:37 meanR:23.0789 R:17.0000 rate:0.0340 aloss:0.6909 eloss:2.0929 aloss2:2.2831 exploreP:0.9169\n",
      "Episode:38 meanR:23.1026 R:24.0000 rate:0.0480 aloss:0.6947 eloss:2.0856 aloss2:2.2878 exploreP:0.9147\n",
      "Episode:39 meanR:22.9250 R:16.0000 rate:0.0320 aloss:0.6970 eloss:2.1292 aloss2:2.2106 exploreP:0.9133\n",
      "Episode:40 meanR:22.9268 R:23.0000 rate:0.0460 aloss:0.6967 eloss:2.0768 aloss2:2.2845 exploreP:0.9112\n",
      "Episode:41 meanR:23.0476 R:28.0000 rate:0.0560 aloss:0.6968 eloss:2.0669 aloss2:2.3276 exploreP:0.9087\n",
      "Episode:42 meanR:22.8372 R:14.0000 rate:0.0280 aloss:0.6936 eloss:2.0003 aloss2:2.3826 exploreP:0.9074\n",
      "Episode:43 meanR:23.2500 R:41.0000 rate:0.0820 aloss:0.6891 eloss:2.0058 aloss2:2.4005 exploreP:0.9037\n",
      "Episode:44 meanR:24.2000 R:66.0000 rate:0.1320 aloss:0.6917 eloss:2.0235 aloss2:2.4003 exploreP:0.8979\n",
      "Episode:45 meanR:24.2826 R:28.0000 rate:0.0560 aloss:0.6922 eloss:1.9828 aloss2:2.5001 exploreP:0.8954\n",
      "Episode:46 meanR:24.0426 R:13.0000 rate:0.0260 aloss:0.6884 eloss:1.9336 aloss2:2.5224 exploreP:0.8942\n",
      "Episode:47 meanR:23.7917 R:12.0000 rate:0.0240 aloss:0.6966 eloss:1.9846 aloss2:2.4808 exploreP:0.8932\n",
      "Episode:48 meanR:23.7959 R:24.0000 rate:0.0480 aloss:0.6909 eloss:2.0321 aloss2:2.4442 exploreP:0.8910\n",
      "Episode:49 meanR:23.8400 R:26.0000 rate:0.0520 aloss:0.6929 eloss:1.9944 aloss2:2.5048 exploreP:0.8888\n",
      "Episode:50 meanR:23.8431 R:24.0000 rate:0.0480 aloss:0.6923 eloss:2.0158 aloss2:2.4862 exploreP:0.8866\n",
      "Episode:51 meanR:23.8077 R:22.0000 rate:0.0440 aloss:0.6919 eloss:2.0596 aloss2:2.4599 exploreP:0.8847\n",
      "Episode:52 meanR:23.6792 R:17.0000 rate:0.0340 aloss:0.6929 eloss:1.8559 aloss2:2.7369 exploreP:0.8832\n",
      "Episode:53 meanR:23.5556 R:17.0000 rate:0.0340 aloss:0.6996 eloss:1.9589 aloss2:2.6647 exploreP:0.8818\n",
      "Episode:54 meanR:23.3636 R:13.0000 rate:0.0260 aloss:0.6901 eloss:1.9195 aloss2:2.6422 exploreP:0.8806\n",
      "Episode:55 meanR:23.2679 R:18.0000 rate:0.0360 aloss:0.6882 eloss:1.8607 aloss2:2.7061 exploreP:0.8791\n",
      "Episode:56 meanR:23.1404 R:16.0000 rate:0.0320 aloss:0.6896 eloss:1.9899 aloss2:2.5806 exploreP:0.8777\n",
      "Episode:57 meanR:23.0172 R:16.0000 rate:0.0320 aloss:0.6895 eloss:1.9512 aloss2:2.6508 exploreP:0.8763\n",
      "Episode:58 meanR:23.2373 R:36.0000 rate:0.0720 aloss:0.6881 eloss:1.9998 aloss2:2.7732 exploreP:0.8732\n",
      "Episode:59 meanR:23.1500 R:18.0000 rate:0.0360 aloss:0.6924 eloss:2.0310 aloss2:2.6471 exploreP:0.8716\n",
      "Episode:60 meanR:23.1475 R:23.0000 rate:0.0460 aloss:0.6912 eloss:1.9487 aloss2:2.7243 exploreP:0.8696\n",
      "Episode:61 meanR:23.1290 R:22.0000 rate:0.0440 aloss:0.6884 eloss:1.9707 aloss2:2.7196 exploreP:0.8677\n",
      "Episode:62 meanR:22.9524 R:12.0000 rate:0.0240 aloss:0.6896 eloss:1.9372 aloss2:2.7521 exploreP:0.8667\n",
      "Episode:63 meanR:22.7969 R:13.0000 rate:0.0260 aloss:0.6916 eloss:1.9647 aloss2:2.6983 exploreP:0.8656\n",
      "Episode:64 meanR:22.9538 R:33.0000 rate:0.0660 aloss:0.6906 eloss:2.0573 aloss2:2.6630 exploreP:0.8628\n",
      "Episode:65 meanR:23.3939 R:52.0000 rate:0.1040 aloss:0.6956 eloss:2.0313 aloss2:2.8404 exploreP:0.8584\n",
      "Episode:66 meanR:23.2836 R:16.0000 rate:0.0320 aloss:0.6869 eloss:1.8583 aloss2:2.9803 exploreP:0.8570\n",
      "Episode:67 meanR:23.5294 R:40.0000 rate:0.0800 aloss:0.6925 eloss:1.9877 aloss2:2.8175 exploreP:0.8536\n",
      "Episode:68 meanR:23.5652 R:26.0000 rate:0.0520 aloss:0.6891 eloss:1.8715 aloss2:2.9594 exploreP:0.8514\n",
      "Episode:69 meanR:23.5143 R:20.0000 rate:0.0400 aloss:0.6907 eloss:1.7958 aloss2:3.0786 exploreP:0.8498\n",
      "Episode:70 meanR:23.4507 R:19.0000 rate:0.0380 aloss:0.6917 eloss:1.8197 aloss2:3.0541 exploreP:0.8482\n",
      "Episode:71 meanR:23.3056 R:13.0000 rate:0.0260 aloss:0.6890 eloss:1.9850 aloss2:2.8164 exploreP:0.8471\n",
      "Episode:72 meanR:23.7397 R:55.0000 rate:0.1100 aloss:0.6896 eloss:1.7347 aloss2:3.1661 exploreP:0.8425\n",
      "Episode:73 meanR:23.6622 R:18.0000 rate:0.0360 aloss:0.6897 eloss:1.6964 aloss2:3.1368 exploreP:0.8410\n",
      "Episode:74 meanR:23.5200 R:13.0000 rate:0.0260 aloss:0.6893 eloss:1.4969 aloss2:3.4537 exploreP:0.8399\n",
      "Episode:75 meanR:23.6842 R:36.0000 rate:0.0720 aloss:0.6907 eloss:1.6324 aloss2:3.3686 exploreP:0.8369\n",
      "Episode:76 meanR:23.6883 R:24.0000 rate:0.0480 aloss:0.6913 eloss:1.4426 aloss2:3.4016 exploreP:0.8349\n",
      "Episode:77 meanR:23.8333 R:35.0000 rate:0.0700 aloss:0.6902 eloss:1.3142 aloss2:3.5805 exploreP:0.8321\n",
      "Episode:78 meanR:23.7848 R:20.0000 rate:0.0400 aloss:0.6908 eloss:1.2194 aloss2:3.6821 exploreP:0.8304\n",
      "Episode:79 meanR:23.8000 R:25.0000 rate:0.0500 aloss:0.6899 eloss:1.1961 aloss2:3.6896 exploreP:0.8284\n"
     ]
    },
    {
     "name": "stdout",
     "output_type": "stream",
     "text": [
      "Episode:80 meanR:23.7778 R:22.0000 rate:0.0440 aloss:0.6918 eloss:1.1293 aloss2:3.7189 exploreP:0.8266\n",
      "Episode:81 meanR:23.6707 R:15.0000 rate:0.0300 aloss:0.6937 eloss:1.1158 aloss2:3.7128 exploreP:0.8253\n",
      "Episode:82 meanR:23.7108 R:27.0000 rate:0.0540 aloss:0.6928 eloss:1.0210 aloss2:4.0031 exploreP:0.8231\n",
      "Episode:83 meanR:23.7262 R:25.0000 rate:0.0500 aloss:0.6939 eloss:0.9947 aloss2:3.9997 exploreP:0.8211\n",
      "Episode:84 meanR:23.6000 R:13.0000 rate:0.0260 aloss:0.6925 eloss:0.9933 aloss2:3.9277 exploreP:0.8201\n",
      "Episode:85 meanR:23.6977 R:32.0000 rate:0.0640 aloss:0.6930 eloss:0.9447 aloss2:4.1358 exploreP:0.8175\n",
      "Episode:86 meanR:23.6322 R:18.0000 rate:0.0360 aloss:0.6935 eloss:0.9096 aloss2:4.1261 exploreP:0.8160\n",
      "Episode:87 meanR:23.6136 R:22.0000 rate:0.0440 aloss:0.6938 eloss:0.8833 aloss2:4.1356 exploreP:0.8142\n",
      "Episode:88 meanR:23.5393 R:17.0000 rate:0.0340 aloss:0.6925 eloss:0.8818 aloss2:4.1977 exploreP:0.8129\n",
      "Episode:89 meanR:23.4667 R:17.0000 rate:0.0340 aloss:0.6941 eloss:0.8068 aloss2:4.2902 exploreP:0.8115\n",
      "Episode:90 meanR:23.4945 R:26.0000 rate:0.0520 aloss:0.6951 eloss:0.8739 aloss2:4.1879 exploreP:0.8094\n",
      "Episode:91 meanR:23.3478 R:10.0000 rate:0.0200 aloss:0.6962 eloss:0.8303 aloss2:4.1804 exploreP:0.8086\n",
      "Episode:92 meanR:23.2366 R:13.0000 rate:0.0260 aloss:0.6965 eloss:0.8264 aloss2:4.3136 exploreP:0.8076\n"
     ]
    }
   ],
   "source": [
    "# Save/load the model and save for plotting\n",
    "saver = tf.train.Saver()\n",
    "episode_rewards_list, rewards_list = [], []\n",
    "aloss_list, eloss_list, aloss2_list = [], [], []\n",
    "\n",
    "# TF session for training\n",
    "with tf.Session(graph=graph) as sess:\n",
    "    sess.run(tf.global_variables_initializer())\n",
    "    #saver.restore(sess, 'checkpoints/model.ckpt')    \n",
    "    #saver.restore(sess, tf.train.latest_checkpoint('checkpoints'))\n",
    "    total_step = 0 # Explore or exploit parameter\n",
    "    episode_reward = deque(maxlen=100) # 100 episodes for running average/running mean/window\n",
    "\n",
    "    # Training episodes/epochs\n",
    "    for ep in range(11111):\n",
    "        aloss_batch, eloss_batch, aloss2_batch = [], [], []\n",
    "        total_reward = 0\n",
    "        state = env.reset()\n",
    "        num_step = 0\n",
    "        rate = -1\n",
    "\n",
    "        # Training steps/batches\n",
    "        while True:\n",
    "            # Explore (env) or Exploit (model)\n",
    "            total_step += 1\n",
    "            explore_p = explore_stop + (explore_start - explore_stop) * np.exp(-decay_rate * total_step) \n",
    "            if explore_p > np.random.rand():\n",
    "                action = env.action_space.sample()\n",
    "            else:\n",
    "                action_logits = sess.run(model.actions_logits, feed_dict={model.states: state.reshape([1, -1])})\n",
    "                action = np.argmax(action_logits)\n",
    "            next_state, reward, done, _ = env.step(action)\n",
    "            memory.buffer.append([state, action, next_state, reward, float(done), rate])\n",
    "            num_step += 1 # momory added\n",
    "            total_reward += reward\n",
    "            state = next_state\n",
    "            \n",
    "            # Training with the maxrated minibatch\n",
    "            batch = memory.buffer\n",
    "            #for idx in range(memory_size// batch_size):\n",
    "            while True:\n",
    "                idx = np.random.choice(np.arange(memory_size// batch_size))\n",
    "                states = np.array([each[0] for each in batch])[idx*batch_size:(idx+1)*batch_size]\n",
    "                actions = np.array([each[1] for each in batch])[idx*batch_size:(idx+1)*batch_size]\n",
    "                next_states = np.array([each[2] for each in batch])[idx*batch_size:(idx+1)*batch_size]\n",
    "                rewards = np.array([each[3] for each in batch])[idx*batch_size:(idx+1)*batch_size]\n",
    "                dones = np.array([each[4] for each in batch])[idx*batch_size:(idx+1)*batch_size]\n",
    "                rates = np.array([each[5] for each in batch])[idx*batch_size:(idx+1)*batch_size]\n",
    "                states = states[rates >= np.max(rates)]\n",
    "                actions = actions[rates >= np.max(rates)]\n",
    "                next_states = next_states[rates >= np.max(rates)]\n",
    "                rewards = rewards[rates >= np.max(rates)]\n",
    "                dones = dones[rates >= np.max(rates)]\n",
    "                rates = rates[rates >= np.max(rates)]\n",
    "                if np.count_nonzero(dones) > 0 and len(dones) > 1 and np.max(rates) > 0:\n",
    "                    break\n",
    "            aloss, _ = sess.run([model.a_loss, model.a_opt],\n",
    "                                  feed_dict = {model.states: states, \n",
    "                                               model.actions: actions,\n",
    "                                               model.next_states: next_states,\n",
    "                                               model.rewards: rewards,\n",
    "                                               model.dones: dones,\n",
    "                                               model.rates: rates})\n",
    "            eloss, _ = sess.run([model.e_loss, model.e_opt],\n",
    "                                  feed_dict = {model.states: states, \n",
    "                                               model.actions: actions,\n",
    "                                               model.next_states: next_states,\n",
    "                                               model.rewards: rewards,\n",
    "                                               model.dones: dones,\n",
    "                                               model.rates: rates})\n",
    "            aloss2, _= sess.run([model.a_loss2, model.a_opt2], \n",
    "                                 feed_dict = {model.states: states, \n",
    "                                              model.actions: actions,\n",
    "                                              model.next_states: next_states,\n",
    "                                              model.rewards: rewards,\n",
    "                                              model.dones: dones,\n",
    "                                              model.rates: rates})\n",
    "            # print(len(dones), np.count_nonzero(dones), np.max(rates))\n",
    "            aloss_batch.append(aloss)\n",
    "            eloss_batch.append(eloss)\n",
    "            aloss2_batch.append(aloss2)\n",
    "            if done is True:\n",
    "                break\n",
    "                \n",
    "        # Rating the latest played episode\n",
    "        rate = total_reward/500 # update rate at the end/ when episode is done\n",
    "        for idx in range(num_step): # episode length\n",
    "            if memory.buffer[-1-idx][-1] == -1: # double-check the landmark/marked indexes\n",
    "                memory.buffer[-1-idx][-1] = rate # rate the trajectory/data\n",
    "\n",
    "        # Print out\n",
    "        episode_reward.append(total_reward)\n",
    "        print('Episode:{}'.format(ep),\n",
    "              'meanR:{:.4f}'.format(np.mean(episode_reward)),\n",
    "              'R:{:.4f}'.format(total_reward),\n",
    "              'rate:{:.4f}'.format(rate),\n",
    "              'aloss:{:.4f}'.format(np.mean(aloss_batch)),\n",
    "              'eloss:{:.4f}'.format(np.mean(eloss_batch)),\n",
    "              'aloss2:{:.4f}'.format(np.mean(aloss2_batch)),\n",
    "              'exploreP:{:.4f}'.format(explore_p))\n",
    "\n",
    "        # Ploting out\n",
    "        episode_rewards_list.append([ep, np.mean(episode_reward)])\n",
    "        rewards_list.append([ep, total_reward])\n",
    "        aloss_list.append([ep, np.mean(aloss_batch)])\n",
    "        eloss_list.append([ep, np.mean(eloss_batch)])\n",
    "        aloss2_list.append([ep, np.mean(aloss2_batch)])\n",
    "        \n",
    "        # Break episode/epoch loop\n",
    "        ## Option 1: Solve the First Version\n",
    "        #The task is episodic, and in order to solve the environment, \n",
    "        #your agent must get an average score of +30 over 100 consecutive episodes.\n",
    "        if np.mean(episode_reward) >= 500:\n",
    "            break\n",
    "            \n",
    "    # At the end of all training episodes/epochs\n",
    "    saver.save(sess, 'checkpoints/model.ckpt')"
   ]
  },
  {
   "cell_type": "markdown",
   "metadata": {},
   "source": [
    "# Visualizing training\n",
    "\n",
    "Below I'll plot the total rewards for each episode. I'm plotting the rolling average too, in blue."
   ]
  },
  {
   "cell_type": "code",
   "execution_count": null,
   "metadata": {},
   "outputs": [],
   "source": [
    "import matplotlib.pyplot as plt\n",
    "%matplotlib inline\n",
    "\n",
    "def running_mean(x, N):\n",
    "    cumsum = np.cumsum(np.insert(x, 0, 0)) \n",
    "    return (cumsum[N:] - cumsum[:-N]) / N "
   ]
  },
  {
   "cell_type": "code",
   "execution_count": null,
   "metadata": {},
   "outputs": [],
   "source": [
    "eps, arr = np.array(episode_rewards_list).T\n",
    "smoothed_arr = running_mean(arr, 10)\n",
    "plt.plot(eps[-len(smoothed_arr):], smoothed_arr)\n",
    "plt.plot(eps, arr, color='grey', alpha=0.3)\n",
    "plt.xlabel('Episode')\n",
    "plt.ylabel('Total rewards')"
   ]
  },
  {
   "cell_type": "code",
   "execution_count": null,
   "metadata": {},
   "outputs": [],
   "source": [
    "eps, arr = np.array(rewards_list).T\n",
    "smoothed_arr = running_mean(arr, 10)\n",
    "plt.plot(eps[-len(smoothed_arr):], smoothed_arr)\n",
    "plt.plot(eps, arr, color='grey', alpha=0.3)\n",
    "plt.xlabel('Episode')\n",
    "plt.ylabel('Total rewards')"
   ]
  },
  {
   "cell_type": "code",
   "execution_count": null,
   "metadata": {},
   "outputs": [],
   "source": [
    "eps, arr = np.array(aloss_list).T\n",
    "smoothed_arr = running_mean(arr, 10)\n",
    "plt.plot(eps[-len(smoothed_arr):], smoothed_arr)\n",
    "plt.plot(eps, arr, color='grey', alpha=0.3)\n",
    "plt.xlabel('Episode')\n",
    "plt.ylabel('Act losses')"
   ]
  },
  {
   "cell_type": "code",
   "execution_count": null,
   "metadata": {},
   "outputs": [],
   "source": [
    "eps, arr = np.array(eloss_list).T\n",
    "smoothed_arr = running_mean(arr, 10)\n",
    "plt.plot(eps[-len(smoothed_arr):], smoothed_arr)\n",
    "plt.plot(eps, arr, color='grey', alpha=0.3)\n",
    "plt.xlabel('Episode')\n",
    "plt.ylabel('Env losses')"
   ]
  },
  {
   "cell_type": "code",
   "execution_count": null,
   "metadata": {},
   "outputs": [],
   "source": [
    "eps, arr = np.array(aloss2_list).T\n",
    "smoothed_arr = running_mean(arr, 10)\n",
    "plt.plot(eps[-len(smoothed_arr):], smoothed_arr)\n",
    "plt.plot(eps, arr, color='grey', alpha=0.3)\n",
    "plt.xlabel('Episode')\n",
    "plt.ylabel('Act losses 2')"
   ]
  },
  {
   "cell_type": "markdown",
   "metadata": {},
   "source": [
    "## Testing\n",
    "\n",
    "Let's checkout how our trained agent plays the game."
   ]
  },
  {
   "cell_type": "code",
   "execution_count": 24,
   "metadata": {},
   "outputs": [
    {
     "name": "stdout",
     "output_type": "stream",
     "text": [
      "INFO:tensorflow:Restoring parameters from checkpoints/model.ckpt\n",
      "total_reward: 500.0\n",
      "total_reward: 500.0\n",
      "total_reward: 500.0\n",
      "total_reward: 500.0\n",
      "total_reward: 500.0\n",
      "total_reward: 500.0\n",
      "total_reward: 500.0\n",
      "total_reward: 500.0\n",
      "total_reward: 500.0\n",
      "total_reward: 500.0\n"
     ]
    }
   ],
   "source": [
    "import gym\n",
    "env = gym.make('CartPole-v0')\n",
    "env = gym.make('CartPole-v1')\n",
    "\n",
    "with tf.Session() as sess:\n",
    "    sess.run(tf.global_variables_initializer())\n",
    "    saver.restore(sess, 'checkpoints/model.ckpt')    \n",
    "    #saver.restore(sess, tf.train.latest_checkpoint('checkpoints'))\n",
    "    \n",
    "    # Episodes/epochs\n",
    "    for _ in range(10):\n",
    "        state = env.reset()\n",
    "        total_reward = 0\n",
    "\n",
    "        # Steps/batches\n",
    "        while True:\n",
    "            env.render()\n",
    "            action_logits = sess.run(model.actions_logits, feed_dict={model.states: state.reshape([1, -1])})\n",
    "            action = np.argmax(action_logits)\n",
    "            state, reward, done, _ = env.step(action)\n",
    "            total_reward += reward\n",
    "            if done:\n",
    "                print('total_reward: {}'.format(total_reward))\n",
    "                break\n",
    "                \n",
    "env.close()"
   ]
  },
  {
   "cell_type": "code",
   "execution_count": null,
   "metadata": {},
   "outputs": [],
   "source": []
  }
 ],
 "metadata": {
  "kernelspec": {
   "display_name": "Python 3",
   "language": "python",
   "name": "python3"
  },
  "language_info": {
   "codemirror_mode": {
    "name": "ipython",
    "version": 3
   },
   "file_extension": ".py",
   "mimetype": "text/x-python",
   "name": "python",
   "nbconvert_exporter": "python",
   "pygments_lexer": "ipython3",
   "version": "3.6.6"
  }
 },
 "nbformat": 4,
 "nbformat_minor": 2
}
