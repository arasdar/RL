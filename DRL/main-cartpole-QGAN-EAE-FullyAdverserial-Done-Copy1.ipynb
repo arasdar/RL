{
 "cells": [
  {
   "cell_type": "code",
   "execution_count": 1,
   "metadata": {},
   "outputs": [
    {
     "name": "stdout",
     "output_type": "stream",
     "text": [
      "TensorFlow Version: 1.7.1\n",
      "Default GPU Device: \n"
     ]
    }
   ],
   "source": [
    "import tensorflow as tf\n",
    "print('TensorFlow Version: {}'.format(tf.__version__))\n",
    "print('Default GPU Device: {}'.format(tf.test.gpu_device_name()))"
   ]
  },
  {
   "cell_type": "markdown",
   "metadata": {},
   "source": [
    "##### >**Note:** Make sure you have OpenAI Gym cloned. Then run this command `pip install -e gym/[all]`."
   ]
  },
  {
   "cell_type": "code",
   "execution_count": 2,
   "metadata": {},
   "outputs": [],
   "source": [
    "import numpy as np\n",
    "import gym\n",
    "env = gym.make('CartPole-v0')\n",
    "env = gym.make('CartPole-v1')"
   ]
  },
  {
   "cell_type": "code",
   "execution_count": 3,
   "metadata": {},
   "outputs": [],
   "source": [
    "def model_input(state_size):\n",
    "    #states = tf.placeholder(tf.float32, [None, *state_size], name='states')\n",
    "    states = tf.placeholder(tf.float32, [None, state_size], name='states')\n",
    "    actions = tf.placeholder(tf.int32, [None], name='actions')\n",
    "    next_states = tf.placeholder(tf.float32, [None, state_size], name='next_states')\n",
    "    rewards = tf.placeholder(tf.float32, [None], name='rewards')\n",
    "    dones = tf.placeholder(tf.float32, [None], name='dones')\n",
    "    rates = tf.placeholder(tf.float32, [None], name='rates') # success rate\n",
    "    return states, actions, next_states, rewards, dones, rates"
   ]
  },
  {
   "cell_type": "code",
   "execution_count": 4,
   "metadata": {},
   "outputs": [],
   "source": [
    "def Act(states, action_size, hidden_size, reuse=False, alpha=0.1, training=False):\n",
    "    with tf.variable_scope('Act', reuse=reuse):\n",
    "        # First fully connected layer\n",
    "        h1 = tf.layers.dense(inputs=states, units=hidden_size)\n",
    "        bn1 = tf.layers.batch_normalization(h1, training=training)        \n",
    "        nl1 = tf.maximum(alpha * bn1, bn1)\n",
    "        \n",
    "        # Second fully connected layer\n",
    "        h2 = tf.layers.dense(inputs=nl1, units=hidden_size)\n",
    "        bn2 = tf.layers.batch_normalization(h2, training=training)        \n",
    "        nl2 = tf.maximum(alpha * bn2, bn2)\n",
    "        \n",
    "        # Output layer\n",
    "        logits = tf.layers.dense(inputs=nl2, units=action_size)        \n",
    "        return logits"
   ]
  },
  {
   "cell_type": "code",
   "execution_count": 5,
   "metadata": {},
   "outputs": [],
   "source": [
    "def Env(states, actions, state_size, action_size, hidden_size, reuse=False, alpha=0.1, training=False):\n",
    "    with tf.variable_scope('Env', reuse=reuse):\n",
    "        # First fully connected layer\n",
    "        h1 = tf.layers.dense(inputs=states, units=action_size)\n",
    "        bn1 = tf.layers.batch_normalization(h1, training=training)        \n",
    "        nl1 = tf.maximum(alpha * bn1, bn1)\n",
    "        \n",
    "        # Second fully connected layer\n",
    "        nl1_fused = tf.concat(axis=1, values=[nl1, actions])\n",
    "        h2 = tf.layers.dense(inputs=nl1_fused, units=hidden_size)\n",
    "        bn2 = tf.layers.batch_normalization(h2, training=training)        \n",
    "        nl2 = tf.maximum(alpha * bn2, bn2)\n",
    "                \n",
    "        # Output layer\n",
    "        states_logits = tf.layers.dense(inputs=nl2, units=state_size, trainable=False)\n",
    "        Qlogits = tf.layers.dense(inputs=nl2, units=1, trainable=False)\n",
    "        return states_logits, Qlogits"
   ]
  },
  {
   "cell_type": "code",
   "execution_count": 6,
   "metadata": {},
   "outputs": [],
   "source": [
    "def model_loss(state_size, action_size, hidden_size, gamma,\n",
    "               states, actions, next_states, rewards, dones, rates):\n",
    "    ################################################ a = act(s)\n",
    "    actions_logits = Act(states=states, hidden_size=hidden_size, action_size=action_size)\n",
    "    actions_labels = tf.one_hot(indices=actions, depth=action_size, dtype=actions_logits.dtype)\n",
    "    aloss = tf.reduce_mean(tf.nn.softmax_cross_entropy_with_logits_v2(logits=actions_logits, \n",
    "                                                                      labels=actions_labels))\n",
    "    ################################################ s', r = env(s, a)\n",
    "    ################################################ s', Q = env(s, a)\n",
    "    ################################################ ~s', ~Q = env(s, ~a)\n",
    "    e_next_states_logits, eQs = Env(actions=actions_labels, states=states, hidden_size=hidden_size, \n",
    "                                    action_size=action_size, state_size=state_size)\n",
    "    a_next_states_logits, aQs = Env(actions=actions_logits, states=states, hidden_size=hidden_size, \n",
    "                                    action_size=action_size, state_size=state_size, reuse=True)\n",
    "    next_states_labels = tf.nn.sigmoid(next_states)\n",
    "    eloss = tf.reduce_mean(tf.nn.sigmoid_cross_entropy_with_logits(logits=e_next_states_logits, \n",
    "                                                                   labels=next_states_labels))\n",
    "#     eloss += -tf.reduce_mean(tf.nn.sigmoid_cross_entropy_with_logits(logits=a_next_states_logits, \n",
    "#                                                                      labels=next_states_labels)) # maximize loss\n",
    "    aloss2 = tf.reduce_mean(tf.nn.sigmoid_cross_entropy_with_logits(logits=a_next_states_logits, \n",
    "                                                                    labels=next_states_labels)) # minimize loss\n",
    "    eQs_logits = tf.reshape(eQs, shape=[-1])\n",
    "    aQs_logits = tf.reshape(aQs, shape=[-1])\n",
    "    #################################################### s'', Q' = ~env(s', ~a')\n",
    "    next_actions_logits = Act(states=next_states, hidden_size=hidden_size, action_size=action_size, reuse=True)\n",
    "    _, aQs2 = Env(actions=next_actions_logits, states=next_states, hidden_size=hidden_size, \n",
    "                  action_size=action_size, state_size=state_size, reuse=True)\n",
    "    aQs2_logits = tf.reshape(aQs2, shape=[-1]) * (1-dones)\n",
    "    eloss += tf.reduce_mean(tf.nn.sigmoid_cross_entropy_with_logits(logits=eQs_logits, # GAN\n",
    "                                                                    labels=rates)) # 0-1 real\n",
    "    eloss += tf.reduce_mean(tf.nn.sigmoid_cross_entropy_with_logits(logits=(aQs_logits+aQs2_logits)/2, # GAN\n",
    "                                                                    labels=tf.zeros_like(rates))) # min\n",
    "    aloss2 += tf.reduce_mean(tf.nn.sigmoid_cross_entropy_with_logits(logits=(aQs_logits+aQs2_logits)/2, # GAN\n",
    "                                                                     labels=tf.ones_like(rates))) # max\n",
    "#     ###################################################### Q(s,a)= r + Q'(s',a') # max\n",
    "#     ###################################################### ~Q(s,~a)= r # min\n",
    "#     ###################################################### ~Q(s,~a)= r + Q'(s',a') # max\n",
    "#     targetQs = rewards + (gamma * aQs2_logits)\n",
    "#     eloss += tf.reduce_mean(tf.square(eQs_logits - targetQs)) # real\n",
    "#     eloss += tf.reduce_mean((aQs_logits+aQs2_logits)/2) # min\n",
    "#     aloss2 += -tf.reduce_mean((aQs_logits+aQs2_logits)/2) # max\n",
    "    return actions_logits, aloss, eloss, aloss2"
   ]
  },
  {
   "cell_type": "code",
   "execution_count": 7,
   "metadata": {},
   "outputs": [],
   "source": [
    "def model_opt(a_loss, e_loss, a_loss2, a_learning_rate, e_learning_rate):\n",
    "    # Get weights and bias to update\n",
    "    t_vars = tf.trainable_variables()\n",
    "    a_vars = [var for var in t_vars if var.name.startswith('Act')]\n",
    "    e_vars = [var for var in t_vars if var.name.startswith('Env')]\n",
    "\n",
    "    # Optimize\n",
    "    with tf.control_dependencies(tf.get_collection(tf.GraphKeys.UPDATE_OPS)): # Required for batchnorm (BN)\n",
    "        a_opt = tf.train.AdamOptimizer(a_learning_rate).minimize(a_loss, var_list=a_vars)\n",
    "        e_opt = tf.train.AdamOptimizer(e_learning_rate).minimize(e_loss, var_list=e_vars)\n",
    "        a_opt2 = tf.train.AdamOptimizer(a_learning_rate).minimize(a_loss2, var_list=a_vars)\n",
    "    return a_opt, e_opt, a_opt2"
   ]
  },
  {
   "cell_type": "code",
   "execution_count": 8,
   "metadata": {},
   "outputs": [],
   "source": [
    "class Model:\n",
    "    def __init__(self, state_size, action_size, hidden_size, a_learning_rate, e_learning_rate, gamma):\n",
    "\n",
    "        # Data of the Model: make the data available inside the framework\n",
    "        self.states, self.actions, self.next_states, self.rewards, self.dones, self.rates = model_input(\n",
    "            state_size=state_size)\n",
    "\n",
    "        # Create the Model: calculating the loss and forwad pass\n",
    "        self.actions_logits, self.a_loss, self.e_loss, self.a_loss2 = model_loss(\n",
    "            state_size=state_size, action_size=action_size, hidden_size=hidden_size, gamma=gamma, # model init\n",
    "            states=self.states, actions=self.actions, next_states=self.next_states, \n",
    "            rewards=self.rewards, dones=self.dones, rates=self.rates) # model input\n",
    "        \n",
    "        # Update the model: backward pass and backprop\n",
    "        self.a_opt, self.e_opt, self.a_opt2 = model_opt(a_loss=self.a_loss, \n",
    "                                                        e_loss=self.e_loss,\n",
    "                                                        a_loss2=self.a_loss2, \n",
    "                                                        a_learning_rate=a_learning_rate,\n",
    "                                                        e_learning_rate=e_learning_rate)"
   ]
  },
  {
   "cell_type": "code",
   "execution_count": 9,
   "metadata": {},
   "outputs": [],
   "source": [
    "from collections import deque\n",
    "class Memory():\n",
    "    def __init__(self, max_size = 1000):\n",
    "        self.buffer = deque(maxlen=max_size) # data batch\n",
    "#     def sample(self, batch_size):\n",
    "#         idx = np.random.choice(np.arange(len(self.buffer)), size=batch_size, replace=False)\n",
    "#         return [self.buffer[ii] for ii in idx]"
   ]
  },
  {
   "cell_type": "markdown",
   "metadata": {},
   "source": [
    "## Hyperparameters\n",
    "\n",
    "One of the more difficult aspects of reinforcememt learning are the large number of hyperparameters. Not only are we tuning the network, but we're tuning the simulation."
   ]
  },
  {
   "cell_type": "code",
   "execution_count": 10,
   "metadata": {},
   "outputs": [
    {
     "data": {
      "text/plain": [
       "(Box(4,), Discrete(2))"
      ]
     },
     "execution_count": 10,
     "metadata": {},
     "output_type": "execute_result"
    }
   ],
   "source": [
    "env.observation_space, env.action_space"
   ]
  },
  {
   "cell_type": "code",
   "execution_count": 11,
   "metadata": {},
   "outputs": [],
   "source": [
    "# Exploration parameters\n",
    "explore_start = 1.0            # exploration probability at start\n",
    "explore_stop = 0.01           # minimum exploration probability \n",
    "decay_rate = 0.0001            # exponential decay rate for exploration prob\n",
    "\n",
    "# Network parameters\n",
    "state_size = 4\n",
    "action_size = 2\n",
    "hidden_size = 4*2             # number of units in each Q-network hidden layer\n",
    "a_learning_rate = 1e-4         # Q-network learning rate\n",
    "e_learning_rate = 1e-4         # Q-network learning rate\n",
    "\n",
    "# Memory parameters\n",
    "memory_size = int(1e5)            # memory capacity\n",
    "batch_size = int(1e3)             # experience mini-batch size\n",
    "gamma=0.99"
   ]
  },
  {
   "cell_type": "code",
   "execution_count": 12,
   "metadata": {},
   "outputs": [],
   "source": [
    "# Reset/init the graph/session\n",
    "graph = tf.reset_default_graph()\n",
    "\n",
    "# Init the model\n",
    "model = Model(action_size=action_size, state_size=state_size, hidden_size=hidden_size, gamma=gamma,\n",
    "              a_learning_rate=a_learning_rate, e_learning_rate=e_learning_rate)\n",
    "\n",
    "# Init the memory\n",
    "memory = Memory(max_size=memory_size)"
   ]
  },
  {
   "cell_type": "code",
   "execution_count": 13,
   "metadata": {},
   "outputs": [],
   "source": [
    "state = env.reset()\n",
    "total_reward = 0\n",
    "num_step = 0\n",
    "for _ in range(memory_size):\n",
    "    action = env.action_space.sample()\n",
    "    next_state, reward, done, _ = env.step(action)\n",
    "    rate = -1\n",
    "    memory.buffer.append([state, action, next_state, reward, float(done), rate])\n",
    "    num_step += 1 # memory incremented\n",
    "    total_reward += reward\n",
    "    state = next_state\n",
    "    if done is True:\n",
    "        rate = total_reward/500\n",
    "        for idx in range(num_step): # episode length\n",
    "            if memory.buffer[-1-idx][-1] == -1:\n",
    "                memory.buffer[-1-idx][-1] = rate\n",
    "        state = env.reset()\n",
    "        total_reward = 0 # reset\n",
    "        num_step = 0 # reset"
   ]
  },
  {
   "cell_type": "markdown",
   "metadata": {},
   "source": [
    "## Training the model\n",
    "\n",
    "Below we'll train our agent. If you want to watch it train, uncomment the `env.render()` line. This is slow because it's rendering the frames slower than the network can train. But, it's cool to watch the agent get better at the game."
   ]
  },
  {
   "cell_type": "code",
   "execution_count": null,
   "metadata": {},
   "outputs": [
    {
     "name": "stdout",
     "output_type": "stream",
     "text": [
      "Episode:0 meanR:14.0000 R:14.0000 rate:0.0280 aloss:0.7291 eloss:2.4625 aloss2:1.3461 exploreP:0.9986\n",
      "Episode:1 meanR:21.5000 R:29.0000 rate:0.0580 aloss:0.7250 eloss:2.4825 aloss2:1.3327 exploreP:0.9958\n",
      "Episode:2 meanR:19.3333 R:15.0000 rate:0.0300 aloss:0.7236 eloss:2.4452 aloss2:1.3372 exploreP:0.9943\n",
      "Episode:3 meanR:21.2500 R:27.0000 rate:0.0540 aloss:0.7037 eloss:2.5052 aloss2:1.3106 exploreP:0.9916\n",
      "Episode:4 meanR:23.0000 R:30.0000 rate:0.0600 aloss:0.7174 eloss:2.4462 aloss2:1.3211 exploreP:0.9887\n",
      "Episode:5 meanR:24.6667 R:33.0000 rate:0.0660 aloss:0.7107 eloss:2.4544 aloss2:1.3120 exploreP:0.9855\n",
      "Episode:6 meanR:23.0000 R:13.0000 rate:0.0260 aloss:0.7109 eloss:2.4418 aloss2:1.3110 exploreP:0.9842\n",
      "Episode:7 meanR:23.1250 R:24.0000 rate:0.0480 aloss:0.7079 eloss:2.4537 aloss2:1.2988 exploreP:0.9819\n",
      "Episode:8 meanR:22.0000 R:13.0000 rate:0.0260 aloss:0.7066 eloss:2.4500 aloss2:1.3004 exploreP:0.9806\n",
      "Episode:9 meanR:21.8000 R:20.0000 rate:0.0400 aloss:0.7022 eloss:2.4887 aloss2:1.2819 exploreP:0.9787\n",
      "Episode:10 meanR:21.0000 R:13.0000 rate:0.0260 aloss:0.6989 eloss:2.4805 aloss2:1.2813 exploreP:0.9774\n",
      "Episode:11 meanR:22.6667 R:41.0000 rate:0.0820 aloss:0.6968 eloss:2.4572 aloss2:1.2834 exploreP:0.9734\n",
      "Episode:12 meanR:26.4615 R:72.0000 rate:0.1440 aloss:0.6928 eloss:2.4618 aloss2:1.2715 exploreP:0.9665\n",
      "Episode:13 meanR:27.5000 R:41.0000 rate:0.0820 aloss:0.6921 eloss:2.4432 aloss2:1.2649 exploreP:0.9626\n",
      "Episode:14 meanR:27.8667 R:33.0000 rate:0.0660 aloss:0.6888 eloss:2.4382 aloss2:1.2636 exploreP:0.9595\n",
      "Episode:15 meanR:26.7500 R:10.0000 rate:0.0200 aloss:0.6839 eloss:2.4385 aloss2:1.2556 exploreP:0.9585\n",
      "Episode:16 meanR:26.6471 R:25.0000 rate:0.0500 aloss:0.6864 eloss:2.4319 aloss2:1.2577 exploreP:0.9562\n",
      "Episode:17 meanR:27.2778 R:38.0000 rate:0.0760 aloss:0.6852 eloss:2.4323 aloss2:1.2524 exploreP:0.9526\n",
      "Episode:18 meanR:27.2632 R:27.0000 rate:0.0540 aloss:0.6832 eloss:2.4159 aloss2:1.2552 exploreP:0.9500\n",
      "Episode:19 meanR:27.0500 R:23.0000 rate:0.0460 aloss:0.6812 eloss:2.4462 aloss2:1.2446 exploreP:0.9479\n",
      "Episode:20 meanR:26.3810 R:13.0000 rate:0.0260 aloss:0.6811 eloss:2.4344 aloss2:1.2503 exploreP:0.9466\n",
      "Episode:21 meanR:26.6364 R:32.0000 rate:0.0640 aloss:0.6845 eloss:2.4332 aloss2:1.2384 exploreP:0.9437\n",
      "Episode:22 meanR:26.0435 R:13.0000 rate:0.0260 aloss:0.6813 eloss:2.4473 aloss2:1.2293 exploreP:0.9424\n",
      "Episode:23 meanR:25.8750 R:22.0000 rate:0.0440 aloss:0.6837 eloss:2.4232 aloss2:1.2327 exploreP:0.9404\n",
      "Episode:24 meanR:26.0000 R:29.0000 rate:0.0580 aloss:0.6768 eloss:2.4296 aloss2:1.2311 exploreP:0.9377\n",
      "Episode:25 meanR:25.8462 R:22.0000 rate:0.0440 aloss:0.6759 eloss:2.4311 aloss2:1.2274 exploreP:0.9357\n",
      "Episode:26 meanR:25.9259 R:28.0000 rate:0.0560 aloss:0.6763 eloss:2.4513 aloss2:1.2168 exploreP:0.9331\n",
      "Episode:27 meanR:25.8571 R:24.0000 rate:0.0480 aloss:0.6780 eloss:2.4289 aloss2:1.2189 exploreP:0.9309\n",
      "Episode:28 meanR:25.4828 R:15.0000 rate:0.0300 aloss:0.6779 eloss:2.4898 aloss2:1.1905 exploreP:0.9295\n",
      "Episode:29 meanR:25.6667 R:31.0000 rate:0.0620 aloss:0.6760 eloss:2.4027 aloss2:1.2263 exploreP:0.9266\n",
      "Episode:30 meanR:25.7097 R:27.0000 rate:0.0540 aloss:0.6775 eloss:2.4366 aloss2:1.2032 exploreP:0.9242\n",
      "Episode:31 meanR:25.5938 R:22.0000 rate:0.0440 aloss:0.6785 eloss:2.4417 aloss2:1.1963 exploreP:0.9222\n",
      "Episode:32 meanR:25.2121 R:13.0000 rate:0.0260 aloss:0.6746 eloss:2.4230 aloss2:1.2059 exploreP:0.9210\n",
      "Episode:33 meanR:25.1471 R:23.0000 rate:0.0460 aloss:0.6789 eloss:2.4476 aloss2:1.1914 exploreP:0.9189\n",
      "Episode:34 meanR:24.7429 R:11.0000 rate:0.0220 aloss:0.6697 eloss:2.4218 aloss2:1.2030 exploreP:0.9179\n",
      "Episode:35 meanR:25.6389 R:57.0000 rate:0.1140 aloss:0.6750 eloss:2.4385 aloss2:1.1920 exploreP:0.9127\n",
      "Episode:36 meanR:25.4865 R:20.0000 rate:0.0400 aloss:0.6720 eloss:2.4064 aloss2:1.1987 exploreP:0.9109\n",
      "Episode:37 meanR:25.7632 R:36.0000 rate:0.0720 aloss:0.6765 eloss:2.4350 aloss2:1.1840 exploreP:0.9077\n",
      "Episode:38 meanR:25.8718 R:30.0000 rate:0.0600 aloss:0.6776 eloss:2.4343 aloss2:1.1823 exploreP:0.9050\n",
      "Episode:39 meanR:25.5750 R:14.0000 rate:0.0280 aloss:0.6729 eloss:2.4400 aloss2:1.1751 exploreP:0.9037\n",
      "Episode:40 meanR:26.1463 R:49.0000 rate:0.0980 aloss:0.6732 eloss:2.4287 aloss2:1.1747 exploreP:0.8994\n",
      "Episode:41 meanR:26.0952 R:24.0000 rate:0.0480 aloss:0.6735 eloss:2.3902 aloss2:1.1906 exploreP:0.8972\n",
      "Episode:42 meanR:26.7907 R:56.0000 rate:0.1120 aloss:0.6782 eloss:2.4393 aloss2:1.1620 exploreP:0.8923\n",
      "Episode:43 meanR:26.4773 R:13.0000 rate:0.0260 aloss:0.6725 eloss:2.4808 aloss2:1.1466 exploreP:0.8911\n",
      "Episode:44 meanR:26.7111 R:37.0000 rate:0.0740 aloss:0.6777 eloss:2.4220 aloss2:1.1651 exploreP:0.8879\n",
      "Episode:45 meanR:26.8478 R:33.0000 rate:0.0660 aloss:0.6717 eloss:2.4138 aloss2:1.1643 exploreP:0.8850\n",
      "Episode:46 meanR:27.2553 R:46.0000 rate:0.0920 aloss:0.6696 eloss:2.4490 aloss2:1.1474 exploreP:0.8810\n",
      "Episode:47 meanR:27.2083 R:25.0000 rate:0.0500 aloss:0.6893 eloss:2.4506 aloss2:1.1417 exploreP:0.8788\n",
      "Episode:48 meanR:26.9184 R:13.0000 rate:0.0260 aloss:0.6681 eloss:2.4146 aloss2:1.1558 exploreP:0.8777\n",
      "Episode:49 meanR:27.0600 R:34.0000 rate:0.0680 aloss:0.6818 eloss:2.4242 aloss2:1.1509 exploreP:0.8747\n",
      "Episode:50 meanR:26.7451 R:11.0000 rate:0.0220 aloss:0.6997 eloss:2.4410 aloss2:1.1394 exploreP:0.8738\n",
      "Episode:51 meanR:26.5577 R:17.0000 rate:0.0340 aloss:0.6691 eloss:2.4523 aloss2:1.1372 exploreP:0.8723\n",
      "Episode:52 meanR:27.1698 R:59.0000 rate:0.1180 aloss:0.6816 eloss:2.4338 aloss2:1.1448 exploreP:0.8672\n",
      "Episode:53 meanR:26.9630 R:16.0000 rate:0.0320 aloss:0.6797 eloss:2.4281 aloss2:1.1421 exploreP:0.8659\n",
      "Episode:54 meanR:27.0182 R:30.0000 rate:0.0600 aloss:0.6724 eloss:2.3788 aloss2:1.1599 exploreP:0.8633\n",
      "Episode:55 meanR:27.4286 R:50.0000 rate:0.1000 aloss:0.6718 eloss:2.4111 aloss2:1.1457 exploreP:0.8590\n",
      "Episode:56 meanR:27.1930 R:14.0000 rate:0.0280 aloss:0.6808 eloss:2.4252 aloss2:1.1424 exploreP:0.8579\n",
      "Episode:57 meanR:27.1379 R:24.0000 rate:0.0480 aloss:0.6787 eloss:2.3876 aloss2:1.1531 exploreP:0.8558\n",
      "Episode:58 meanR:27.5254 R:50.0000 rate:0.1000 aloss:0.6758 eloss:2.4232 aloss2:1.1387 exploreP:0.8516\n",
      "Episode:59 meanR:27.7500 R:41.0000 rate:0.0820 aloss:0.6903 eloss:2.3825 aloss2:1.1542 exploreP:0.8482\n",
      "Episode:60 meanR:27.6885 R:24.0000 rate:0.0480 aloss:0.6749 eloss:2.3828 aloss2:1.1592 exploreP:0.8461\n",
      "Episode:61 meanR:27.5806 R:21.0000 rate:0.0420 aloss:0.6711 eloss:2.3498 aloss2:1.1687 exploreP:0.8444\n",
      "Episode:62 meanR:27.4762 R:21.0000 rate:0.0420 aloss:0.6790 eloss:2.3593 aloss2:1.1640 exploreP:0.8426\n",
      "Episode:63 meanR:27.5781 R:34.0000 rate:0.0680 aloss:0.6722 eloss:2.3805 aloss2:1.1612 exploreP:0.8398\n",
      "Episode:64 meanR:28.0308 R:57.0000 rate:0.1140 aloss:0.6820 eloss:2.3644 aloss2:1.1717 exploreP:0.8351\n",
      "Episode:65 meanR:28.7273 R:74.0000 rate:0.1480 aloss:0.6783 eloss:2.3018 aloss2:1.1984 exploreP:0.8290\n",
      "Episode:66 meanR:28.5373 R:16.0000 rate:0.0320 aloss:0.6860 eloss:2.2848 aloss2:1.2116 exploreP:0.8277\n",
      "Episode:67 meanR:28.6176 R:34.0000 rate:0.0680 aloss:0.6820 eloss:2.2678 aloss2:1.2271 exploreP:0.8249\n",
      "Episode:68 meanR:28.7391 R:37.0000 rate:0.0740 aloss:0.6781 eloss:2.2342 aloss2:1.2485 exploreP:0.8219\n",
      "Episode:69 meanR:28.8429 R:36.0000 rate:0.0720 aloss:0.6889 eloss:2.1883 aloss2:1.2676 exploreP:0.8190\n",
      "Episode:70 meanR:28.9718 R:38.0000 rate:0.0760 aloss:0.6835 eloss:2.1716 aloss2:1.2872 exploreP:0.8159\n",
      "Episode:71 meanR:28.9583 R:28.0000 rate:0.0560 aloss:0.6783 eloss:2.1552 aloss2:1.3046 exploreP:0.8137\n",
      "Episode:72 meanR:28.7260 R:12.0000 rate:0.0240 aloss:0.6688 eloss:2.1188 aloss2:1.3249 exploreP:0.8127\n",
      "Episode:73 meanR:28.5270 R:14.0000 rate:0.0280 aloss:0.6919 eloss:2.1316 aloss2:1.3303 exploreP:0.8116\n",
      "Episode:74 meanR:28.3600 R:16.0000 rate:0.0320 aloss:0.6815 eloss:2.0931 aloss2:1.3400 exploreP:0.8103\n",
      "Episode:75 meanR:28.5132 R:40.0000 rate:0.0800 aloss:0.6797 eloss:2.0775 aloss2:1.3559 exploreP:0.8071\n",
      "Episode:76 meanR:28.7403 R:46.0000 rate:0.0920 aloss:0.6947 eloss:2.0527 aloss2:1.3872 exploreP:0.8035\n",
      "Episode:77 meanR:28.6410 R:21.0000 rate:0.0420 aloss:0.6977 eloss:2.0180 aloss2:1.4137 exploreP:0.8018\n"
     ]
    }
   ],
   "source": [
    "# Save/load the model and save for plotting\n",
    "saver = tf.train.Saver()\n",
    "episode_rewards_list, rewards_list = [], []\n",
    "aloss_list, eloss_list, aloss2_list = [], [], []\n",
    "\n",
    "# TF session for training\n",
    "with tf.Session(graph=graph) as sess:\n",
    "    sess.run(tf.global_variables_initializer())\n",
    "    #saver.restore(sess, 'checkpoints/model.ckpt')    \n",
    "    #saver.restore(sess, tf.train.latest_checkpoint('checkpoints'))\n",
    "    total_step = 0 # Explore or exploit parameter\n",
    "    episode_reward = deque(maxlen=100) # 100 episodes for running average/running mean/window\n",
    "\n",
    "    # Training episodes/epochs\n",
    "    for ep in range(11111):\n",
    "        aloss_batch, eloss_batch, aloss2_batch = [], [], []\n",
    "        total_reward = 0\n",
    "        state = env.reset()\n",
    "        num_step = 0\n",
    "        rate = -1\n",
    "\n",
    "        # Training steps/batches\n",
    "        while True:\n",
    "            # Explore (env) or Exploit (model)\n",
    "            total_step += 1\n",
    "            explore_p = explore_stop + (explore_start - explore_stop) * np.exp(-decay_rate * total_step) \n",
    "            if explore_p > np.random.rand():\n",
    "                action = env.action_space.sample()\n",
    "            else:\n",
    "                action_logits = sess.run(model.actions_logits, feed_dict={model.states: state.reshape([1, -1])})\n",
    "                action = np.argmax(action_logits)\n",
    "            next_state, reward, done, _ = env.step(action)\n",
    "            memory.buffer.append([state, action, next_state, reward, float(done), rate])\n",
    "            num_step += 1 # momory added\n",
    "            total_reward += reward\n",
    "            state = next_state\n",
    "            \n",
    "            # Training with the maxrated minibatch\n",
    "            batch = memory.buffer\n",
    "            #for idx in range(memory_size// batch_size):\n",
    "            while True:\n",
    "                idx = np.random.choice(np.arange(memory_size// batch_size))\n",
    "                states = np.array([each[0] for each in batch])[idx*batch_size:(idx+1)*batch_size]\n",
    "                actions = np.array([each[1] for each in batch])[idx*batch_size:(idx+1)*batch_size]\n",
    "                next_states = np.array([each[2] for each in batch])[idx*batch_size:(idx+1)*batch_size]\n",
    "                rewards = np.array([each[3] for each in batch])[idx*batch_size:(idx+1)*batch_size]\n",
    "                dones = np.array([each[4] for each in batch])[idx*batch_size:(idx+1)*batch_size]\n",
    "                rates = np.array([each[5] for each in batch])[idx*batch_size:(idx+1)*batch_size]\n",
    "                states = states[rates >= np.max(rates)]\n",
    "                actions = actions[rates >= np.max(rates)]\n",
    "                next_states = next_states[rates >= np.max(rates)]\n",
    "                rewards = rewards[rates >= np.max(rates)]\n",
    "                dones = dones[rates >= np.max(rates)]\n",
    "                rates = rates[rates >= np.max(rates)]\n",
    "                if np.count_nonzero(dones) > 0 and len(dones) > 1 and np.max(rates) > 0:\n",
    "                    break\n",
    "            aloss, _ = sess.run([model.a_loss, model.a_opt],\n",
    "                                  feed_dict = {model.states: states, \n",
    "                                               model.actions: actions,\n",
    "                                               model.next_states: next_states,\n",
    "                                               model.rewards: rewards,\n",
    "                                               model.dones: dones,\n",
    "                                               model.rates: rates})\n",
    "            eloss, _ = sess.run([model.e_loss, model.e_opt],\n",
    "                                  feed_dict = {model.states: states, \n",
    "                                               model.actions: actions,\n",
    "                                               model.next_states: next_states,\n",
    "                                               model.rewards: rewards,\n",
    "                                               model.dones: dones,\n",
    "                                               model.rates: rates})\n",
    "            aloss2, _= sess.run([model.a_loss2, model.a_opt2], \n",
    "                                 feed_dict = {model.states: states, \n",
    "                                              model.actions: actions,\n",
    "                                              model.next_states: next_states,\n",
    "                                              model.rewards: rewards,\n",
    "                                              model.dones: dones,\n",
    "                                              model.rates: rates})\n",
    "            # print(len(dones), np.count_nonzero(dones), np.max(rates))\n",
    "            aloss_batch.append(aloss)\n",
    "            eloss_batch.append(eloss)\n",
    "            aloss2_batch.append(aloss2)\n",
    "            if done is True:\n",
    "                break\n",
    "                \n",
    "        # Rating the latest played episode\n",
    "        rate = total_reward/500 # update rate at the end/ when episode is done\n",
    "        for idx in range(num_step): # episode length\n",
    "            if memory.buffer[-1-idx][-1] == -1: # double-check the landmark/marked indexes\n",
    "                memory.buffer[-1-idx][-1] = rate # rate the trajectory/data\n",
    "\n",
    "        # Print out\n",
    "        episode_reward.append(total_reward)\n",
    "        print('Episode:{}'.format(ep),\n",
    "              'meanR:{:.4f}'.format(np.mean(episode_reward)),\n",
    "              'R:{:.4f}'.format(total_reward),\n",
    "              'rate:{:.4f}'.format(rate),\n",
    "              'aloss:{:.4f}'.format(np.mean(aloss_batch)),\n",
    "              'eloss:{:.4f}'.format(np.mean(eloss_batch)),\n",
    "              'aloss2:{:.4f}'.format(np.mean(aloss2_batch)),\n",
    "              'exploreP:{:.4f}'.format(explore_p))\n",
    "\n",
    "        # Ploting out\n",
    "        episode_rewards_list.append([ep, np.mean(episode_reward)])\n",
    "        rewards_list.append([ep, total_reward])\n",
    "        aloss_list.append([ep, np.mean(aloss_batch)])\n",
    "        eloss_list.append([ep, np.mean(eloss_batch)])\n",
    "        aloss2_list.append([ep, np.mean(aloss2_batch)])\n",
    "        \n",
    "        # Break episode/epoch loop\n",
    "        ## Option 1: Solve the First Version\n",
    "        #The task is episodic, and in order to solve the environment, \n",
    "        #your agent must get an average score of +30 over 100 consecutive episodes.\n",
    "        if np.mean(episode_reward) >= 500:\n",
    "            break\n",
    "            \n",
    "    # At the end of all training episodes/epochs\n",
    "    saver.save(sess, 'checkpoints/model.ckpt')"
   ]
  },
  {
   "cell_type": "markdown",
   "metadata": {},
   "source": [
    "# Visualizing training\n",
    "\n",
    "Below I'll plot the total rewards for each episode. I'm plotting the rolling average too, in blue."
   ]
  },
  {
   "cell_type": "code",
   "execution_count": null,
   "metadata": {},
   "outputs": [],
   "source": [
    "import matplotlib.pyplot as plt\n",
    "%matplotlib inline\n",
    "\n",
    "def running_mean(x, N):\n",
    "    cumsum = np.cumsum(np.insert(x, 0, 0)) \n",
    "    return (cumsum[N:] - cumsum[:-N]) / N "
   ]
  },
  {
   "cell_type": "code",
   "execution_count": null,
   "metadata": {},
   "outputs": [],
   "source": [
    "eps, arr = np.array(episode_rewards_list).T\n",
    "smoothed_arr = running_mean(arr, 10)\n",
    "plt.plot(eps[-len(smoothed_arr):], smoothed_arr)\n",
    "plt.plot(eps, arr, color='grey', alpha=0.3)\n",
    "plt.xlabel('Episode')\n",
    "plt.ylabel('Total rewards')"
   ]
  },
  {
   "cell_type": "code",
   "execution_count": null,
   "metadata": {},
   "outputs": [],
   "source": [
    "eps, arr = np.array(rewards_list).T\n",
    "smoothed_arr = running_mean(arr, 10)\n",
    "plt.plot(eps[-len(smoothed_arr):], smoothed_arr)\n",
    "plt.plot(eps, arr, color='grey', alpha=0.3)\n",
    "plt.xlabel('Episode')\n",
    "plt.ylabel('Total rewards')"
   ]
  },
  {
   "cell_type": "code",
   "execution_count": null,
   "metadata": {},
   "outputs": [],
   "source": [
    "eps, arr = np.array(aloss_list).T\n",
    "smoothed_arr = running_mean(arr, 10)\n",
    "plt.plot(eps[-len(smoothed_arr):], smoothed_arr)\n",
    "plt.plot(eps, arr, color='grey', alpha=0.3)\n",
    "plt.xlabel('Episode')\n",
    "plt.ylabel('Act losses')"
   ]
  },
  {
   "cell_type": "code",
   "execution_count": null,
   "metadata": {},
   "outputs": [],
   "source": [
    "eps, arr = np.array(eloss_list).T\n",
    "smoothed_arr = running_mean(arr, 10)\n",
    "plt.plot(eps[-len(smoothed_arr):], smoothed_arr)\n",
    "plt.plot(eps, arr, color='grey', alpha=0.3)\n",
    "plt.xlabel('Episode')\n",
    "plt.ylabel('Env losses')"
   ]
  },
  {
   "cell_type": "code",
   "execution_count": null,
   "metadata": {},
   "outputs": [],
   "source": [
    "eps, arr = np.array(aloss2_list).T\n",
    "smoothed_arr = running_mean(arr, 10)\n",
    "plt.plot(eps[-len(smoothed_arr):], smoothed_arr)\n",
    "plt.plot(eps, arr, color='grey', alpha=0.3)\n",
    "plt.xlabel('Episode')\n",
    "plt.ylabel('Act losses 2')"
   ]
  },
  {
   "cell_type": "markdown",
   "metadata": {},
   "source": [
    "## Testing\n",
    "\n",
    "Let's checkout how our trained agent plays the game."
   ]
  },
  {
   "cell_type": "code",
   "execution_count": 21,
   "metadata": {},
   "outputs": [
    {
     "name": "stdout",
     "output_type": "stream",
     "text": [
      "INFO:tensorflow:Restoring parameters from checkpoints/model.ckpt\n",
      "total_reward: 500.0\n",
      "total_reward: 500.0\n",
      "total_reward: 500.0\n",
      "total_reward: 500.0\n",
      "total_reward: 500.0\n",
      "total_reward: 500.0\n",
      "total_reward: 500.0\n",
      "total_reward: 500.0\n",
      "total_reward: 500.0\n",
      "total_reward: 500.0\n"
     ]
    }
   ],
   "source": [
    "import gym\n",
    "env = gym.make('CartPole-v0')\n",
    "env = gym.make('CartPole-v1')\n",
    "\n",
    "with tf.Session() as sess:\n",
    "    sess.run(tf.global_variables_initializer())\n",
    "    saver.restore(sess, 'checkpoints/model.ckpt')    \n",
    "    #saver.restore(sess, tf.train.latest_checkpoint('checkpoints'))\n",
    "    \n",
    "    # Episodes/epochs\n",
    "    for _ in range(10):\n",
    "        state = env.reset()\n",
    "        total_reward = 0\n",
    "\n",
    "        # Steps/batches\n",
    "        while True:\n",
    "            env.render()\n",
    "            action_logits = sess.run(model.actions_logits, feed_dict={model.states: state.reshape([1, -1])})\n",
    "            action = np.argmax(action_logits)\n",
    "            state, reward, done, _ = env.step(action)\n",
    "            total_reward += reward\n",
    "            if done:\n",
    "                print('total_reward: {}'.format(total_reward))\n",
    "                break\n",
    "                \n",
    "env.close()"
   ]
  },
  {
   "cell_type": "code",
   "execution_count": null,
   "metadata": {},
   "outputs": [],
   "source": []
  }
 ],
 "metadata": {
  "kernelspec": {
   "display_name": "Python 3",
   "language": "python",
   "name": "python3"
  },
  "language_info": {
   "codemirror_mode": {
    "name": "ipython",
    "version": 3
   },
   "file_extension": ".py",
   "mimetype": "text/x-python",
   "name": "python",
   "nbconvert_exporter": "python",
   "pygments_lexer": "ipython3",
   "version": "3.6.6"
  }
 },
 "nbformat": 4,
 "nbformat_minor": 2
}
