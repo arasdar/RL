{
 "cells": [
  {
   "cell_type": "markdown",
   "metadata": {},
   "source": [
    "# DPG for Cartpole\n",
    "\n",
    "\n",
    "In this notebook, we'll build a neural network that can learn to play games through reinforcement learning. More specifically, we'll use Q-learning to train an agent to play a game called [Cart-Pole](https://gym.openai.com/envs/CartPole-v0). In this game, a freely swinging pole is attached to a cart. The cart can move to the left and right, and the goal is to keep the pole upright as long as possible.\n",
    "\n",
    "![Cart-Pole](assets/cart-pole.jpg)\n",
    "\n",
    "We can simulate this game using [OpenAI Gym](https://gym.openai.com/). First, let's check out how OpenAI Gym works. Then, we'll get into training an agent to play the Cart-Pole game."
   ]
  },
  {
   "cell_type": "code",
   "execution_count": 1,
   "metadata": {},
   "outputs": [
    {
     "name": "stderr",
     "output_type": "stream",
     "text": [
      "/home/aras/anaconda3/lib/python3.6/site-packages/h5py/__init__.py:36: FutureWarning: Conversion of the second argument of issubdtype from `float` to `np.floating` is deprecated. In future, it will be treated as `np.float64 == np.dtype(float).type`.\n",
      "  from ._conv import register_converters as _register_converters\n"
     ]
    },
    {
     "name": "stdout",
     "output_type": "stream",
     "text": [
      "TensorFlow Version: 1.7.1\n",
      "Default GPU Device: \n"
     ]
    }
   ],
   "source": [
    "# In this one we should define and detect GPUs for tensorflow\n",
    "# GPUs or CPU\n",
    "import tensorflow as tf\n",
    "\n",
    "# Check TensorFlow Version\n",
    "print('TensorFlow Version: {}'.format(tf.__version__))\n",
    "\n",
    "# Check for a GPU\n",
    "print('Default GPU Device: {}'.format(tf.test.gpu_device_name()))"
   ]
  },
  {
   "cell_type": "markdown",
   "metadata": {},
   "source": [
    ">**Note:** Make sure you have OpenAI Gym cloned into the same directory with this notebook. I've included `gym` as a submodule, so you can run `git submodule --init --recursive` to pull the contents into the `gym` repo."
   ]
  },
  {
   "cell_type": "markdown",
   "metadata": {},
   "source": [
    "##### >**Note:** Make sure you have OpenAI Gym cloned. Then run this command `pip install -e gym/[all]`."
   ]
  },
  {
   "cell_type": "code",
   "execution_count": 2,
   "metadata": {},
   "outputs": [],
   "source": [
    "import gym\n",
    "env = gym.make('CartPole-v0')\n",
    "env = gym.make('CartPole-v1')"
   ]
  },
  {
   "cell_type": "markdown",
   "metadata": {},
   "source": [
    "We interact with the simulation through `env`. To show the simulation running, you can use `env.render()` to render one frame. Passing in an action as an integer to `env.step` will generate the next step in the simulation.  You can see how many actions are possible from `env.action_space` and to get a random action you can use `env.action_space.sample()`. This is general to all Gym games. In the Cart-Pole game, there are two possible actions, moving the cart left or right. So there are two actions we can take, encoded as 0 and 1.\n",
    "\n",
    "Run the code below to watch the simulation run."
   ]
  },
  {
   "cell_type": "code",
   "execution_count": 3,
   "metadata": {},
   "outputs": [],
   "source": [
    "env.reset()\n",
    "batch = []\n",
    "for _ in range(1111):\n",
    "    #env.render()\n",
    "    action = env.action_space.sample()\n",
    "    state, reward, done, info = env.step(action) # take a random action\n",
    "    batch.append([action, state, reward, done, info])\n",
    "    #print('state, action, reward, done, info:', state, action, reward, done, info)\n",
    "    if done:\n",
    "        env.reset()"
   ]
  },
  {
   "cell_type": "markdown",
   "metadata": {},
   "source": [
    "To shut the window showing the simulation, use `env.close()`."
   ]
  },
  {
   "cell_type": "code",
   "execution_count": 4,
   "metadata": {},
   "outputs": [],
   "source": [
    "# env.close()"
   ]
  },
  {
   "cell_type": "markdown",
   "metadata": {},
   "source": [
    "If you ran the simulation above, we can look at the rewards:"
   ]
  },
  {
   "cell_type": "code",
   "execution_count": 5,
   "metadata": {},
   "outputs": [
    {
     "data": {
      "text/plain": [
       "((4,), (4,))"
      ]
     },
     "execution_count": 5,
     "metadata": {},
     "output_type": "execute_result"
    }
   ],
   "source": [
    "batch[0], \n",
    "batch[0][1].shape, state.shape"
   ]
  },
  {
   "cell_type": "code",
   "execution_count": 6,
   "metadata": {},
   "outputs": [],
   "source": [
    "import numpy as np\n",
    "actions = np.array([each[0] for each in batch])\n",
    "states = np.array([each[1] for each in batch])\n",
    "rewards = np.array([each[2] for each in batch])\n",
    "dones = np.array([each[3] for each in batch])\n",
    "infos = np.array([each[4] for each in batch])"
   ]
  },
  {
   "cell_type": "code",
   "execution_count": 7,
   "metadata": {},
   "outputs": [
    {
     "name": "stdout",
     "output_type": "stream",
     "text": [
      "shapes: (1111,) (1111, 4) (1111,) (1111,)\n",
      "dtypes: float64 float64 int64 bool\n",
      "states: 2.807323835759526 -2.7194676066659635\n",
      "actions: 1 0\n",
      "rewards: 1.0 1.0\n"
     ]
    }
   ],
   "source": [
    "# print(rewards[-20:])\n",
    "print('shapes:', np.array(rewards).shape, np.array(states).shape, np.array(actions).shape, np.array(dones).shape)\n",
    "print('dtypes:', np.array(rewards).dtype, np.array(states).dtype, np.array(actions).dtype, np.array(dones).dtype)\n",
    "print('states:', np.max(np.array(states)), np.min(np.array(states)))\n",
    "print('actions:', np.max(np.array(actions)), np.min(np.array(actions)))\n",
    "# print((np.max(np.array(actions)) - np.min(np.array(actions)))+1)\n",
    "print('rewards:', np.max(np.array(rewards)), np.min(np.array(rewards)))"
   ]
  },
  {
   "cell_type": "code",
   "execution_count": 8,
   "metadata": {},
   "outputs": [
    {
     "data": {
      "text/plain": [
       "array([0, 1, 1, 0, 1, 1, 1, 1, 1, 1])"
      ]
     },
     "execution_count": 8,
     "metadata": {},
     "output_type": "execute_result"
    }
   ],
   "source": [
    "actions[:10]"
   ]
  },
  {
   "cell_type": "code",
   "execution_count": 9,
   "metadata": {},
   "outputs": [
    {
     "data": {
      "text/plain": [
       "array([1., 1., 1., 1., 1., 1., 1., 1., 1., 1.])"
      ]
     },
     "execution_count": 9,
     "metadata": {},
     "output_type": "execute_result"
    }
   ],
   "source": [
    "rewards[:10]"
   ]
  },
  {
   "cell_type": "code",
   "execution_count": 10,
   "metadata": {},
   "outputs": [
    {
     "name": "stdout",
     "output_type": "stream",
     "text": [
      "rewards: 0.01 0.01\n"
     ]
    }
   ],
   "source": [
    "print('rewards:', np.max(np.array(rewards))/100, np.min(np.array(rewards))/100)"
   ]
  },
  {
   "cell_type": "markdown",
   "metadata": {},
   "source": [
    "The game resets after the pole has fallen past a certain angle. For each frame while the simulation is running, it returns a reward of 1.0. The longer the game runs, the more reward we get. Then, our network's goal is to maximize the reward by keeping the pole vertical. It will do this by moving the cart to the left and the right."
   ]
  },
  {
   "cell_type": "markdown",
   "metadata": {},
   "source": [
    "## Q-Network\n",
    "\n",
    "We train our Q-learning agent using the Bellman Equation:\n",
    "\n",
    "$$\n",
    "Q(s, a) = r + \\gamma \\max{Q(s', a')}\n",
    "$$\n",
    "\n",
    "where $s$ is a state, $a$ is an action, and $s'$ is the next state from state $s$ and action $a$.\n",
    "\n",
    "Before we used this equation to learn values for a Q-_table_. However, for this game there are a huge number of states available. The state has four values: the position and velocity of the cart, and the position and velocity of the pole. These are all real-valued numbers, so ignoring floating point precisions, you practically have infinite states. Instead of using a table then, we'll replace it with a neural network that will approximate the Q-table lookup function.\n",
    "\n",
    "<img src=\"assets/deep-q-learning.png\" width=450px>\n",
    "\n",
    "Now, our Q value, $Q(s, a)$ is calculated by passing in a state to the network. The output will be Q-values for each available action, with fully connected hidden layers.\n",
    "\n",
    "<img src=\"assets/q-network.png\" width=550px>\n",
    "\n",
    "\n",
    "As I showed before, we can define our targets for training as $\\hat{Q}(s,a) = r + \\gamma \\max{Q(s', a')}$. Then we update the weights by minimizing $(\\hat{Q}(s,a) - Q(s,a))^2$. \n",
    "\n",
    "For this Cart-Pole game, we have four inputs, one for each value in the state, and two outputs, one for each action. To get $\\hat{Q}$, we'll first choose an action, then simulate the game using that action. This will get us the next state, $s'$, and the reward. With that, we can calculate $\\hat{Q}$ then pass it back into the $Q$ network to run the optimizer and update the weights.\n",
    "\n",
    "Below is my implementation of the Q-network. I used two fully connected layers with ReLU activations. Two seems to be good enough, three might be better. Feel free to try it out."
   ]
  },
  {
   "cell_type": "code",
   "execution_count": 11,
   "metadata": {},
   "outputs": [],
   "source": [
    "def model_input(state_size):\n",
    "    #states = tf.placeholder(tf.float32, [None, *state_size], name='states')\n",
    "    states = tf.placeholder(tf.float32, [None, state_size], name='states')\n",
    "    actions = tf.placeholder(tf.int32, [None], name='actions')\n",
    "    targetQs = tf.placeholder(tf.float32, [None], name='targetQs')\n",
    "    return states, actions, targetQs"
   ]
  },
  {
   "cell_type": "code",
   "execution_count": 12,
   "metadata": {},
   "outputs": [],
   "source": [
    "# Generator/Controller: Generating/prediting the actions\n",
    "def generator(states, action_size, hidden_size, reuse=False, alpha=0.1, training=False):\n",
    "    with tf.variable_scope('generator', reuse=reuse):\n",
    "        # First fully connected layer\n",
    "        h1 = tf.layers.dense(inputs=states, units=hidden_size)\n",
    "        bn1 = tf.layers.batch_normalization(h1, training=training)        \n",
    "        nl1 = tf.maximum(alpha * bn1, bn1)\n",
    "        \n",
    "        # Second fully connected layer\n",
    "        h2 = tf.layers.dense(inputs=nl1, units=hidden_size)\n",
    "        bn2 = tf.layers.batch_normalization(h2, training=training)        \n",
    "        nl2 = tf.maximum(alpha * bn2, bn2)\n",
    "        \n",
    "        # Output layer\n",
    "        logits = tf.layers.dense(inputs=nl2, units=action_size)        \n",
    "        #predictions = tf.nn.softmax(logits)\n",
    "\n",
    "        # return actions logits\n",
    "        return logits"
   ]
  },
  {
   "cell_type": "code",
   "execution_count": 13,
   "metadata": {},
   "outputs": [],
   "source": [
    "# Discriminator/Dopamine: Reward function/planner/naviator/advisor/supervisor/cortical columns\n",
    "def discriminator(states, actions, hidden_size, reuse=False, alpha=0.1, training=False):\n",
    "    with tf.variable_scope('discriminator', reuse=reuse):\n",
    "        # First fully connected layer\n",
    "        h1 = tf.layers.dense(inputs=states, units=action_size)\n",
    "        bn1 = tf.layers.batch_normalization(h1, training=training)        \n",
    "        nl1 = tf.maximum(alpha * bn1, bn1)\n",
    "        \n",
    "        # Second fully connected layer\n",
    "        fused = tf.concat(axis=1, values=[nl1, actions])\n",
    "        h2 = tf.layers.dense(inputs=fused, units=hidden_size)\n",
    "        bn2 = tf.layers.batch_normalization(h2, training=training)        \n",
    "        nl2 = tf.maximum(alpha * bn2, bn2)\n",
    "                \n",
    "        # Output layer\n",
    "        logits = tf.layers.dense(inputs=nl2, units=1)        \n",
    "        #predictions = tf.nn.softmax(logits)\n",
    "\n",
    "        # return rewards logits\n",
    "        return logits"
   ]
  },
  {
   "cell_type": "code",
   "execution_count": 14,
   "metadata": {},
   "outputs": [],
   "source": [
    "def model_loss(action_size, hidden_size, states, actions, targetQs):\n",
    "    actions_logits = generator(states=states, hidden_size=hidden_size, action_size=action_size)\n",
    "    gQs = discriminator(actions=actions_logits, hidden_size=hidden_size, states=states) # nextQs\n",
    "    gloss = -tf.reduce_mean(gQs) # DPG\n",
    "    actions_labels = tf.one_hot(indices=actions, depth=action_size, dtype=actions_logits.dtype)\n",
    "    dQs = discriminator(actions=actions_labels, hidden_size=hidden_size, states=states, reuse=True) # Qs\n",
    "    targetQs = tf.reshape(targetQs, shape=[-1, 1])\n",
    "    dloss = tf.reduce_mean(tf.square(dQs - targetQs)) # DQN\n",
    "    return actions_logits, gQs, gloss, dloss"
   ]
  },
  {
   "cell_type": "code",
   "execution_count": 15,
   "metadata": {},
   "outputs": [],
   "source": [
    "# Optimizating/training/learning G & D\n",
    "def model_opt(g_loss, d_loss, g_learning_rate, d_learning_rate):\n",
    "    # Get weights and bias to update\n",
    "    t_vars = tf.trainable_variables()\n",
    "    g_vars = [var for var in t_vars if var.name.startswith('generator')]\n",
    "    d_vars = [var for var in t_vars if var.name.startswith('discriminator')]\n",
    "\n",
    "    # Optimize\n",
    "    with tf.control_dependencies(tf.get_collection(tf.GraphKeys.UPDATE_OPS)): # Required for batchnorm (BN)\n",
    "        g_opt = tf.train.AdamOptimizer(g_learning_rate).minimize(g_loss, var_list=g_vars)\n",
    "        d_opt = tf.train.AdamOptimizer(d_learning_rate).minimize(d_loss, var_list=d_vars)\n",
    "\n",
    "    return g_opt, d_opt"
   ]
  },
  {
   "cell_type": "code",
   "execution_count": 16,
   "metadata": {},
   "outputs": [],
   "source": [
    "class Model:\n",
    "    def __init__(self, state_size, action_size, hidden_size, g_learning_rate, d_learning_rate):\n",
    "\n",
    "        # Data of the Model: make the data available inside the framework\n",
    "        self.states, self.actions, self.targetQs = model_input(state_size=state_size)\n",
    "\n",
    "        # Create the Model: calculating the loss and forwad pass\n",
    "        self.actions_logits, self.Qs_logits, self.g_loss, self.d_loss = model_loss(\n",
    "            action_size=action_size, hidden_size=hidden_size, # model init parameters\n",
    "            states=self.states, actions=self.actions, targetQs=self.targetQs) # model input\n",
    "        \n",
    "        # Update the model: backward pass and backprop\n",
    "        self.g_opt, self.d_opt = model_opt(g_loss=self.g_loss, d_loss=self.d_loss, \n",
    "                                           g_learning_rate=g_learning_rate, d_learning_rate=d_learning_rate)"
   ]
  },
  {
   "cell_type": "code",
   "execution_count": 17,
   "metadata": {},
   "outputs": [],
   "source": [
    "from collections import deque\n",
    "class Memory():\n",
    "    def __init__(self, max_size = 1000):\n",
    "        self.buffer = deque(maxlen=max_size)\n",
    "    def sample(self, batch_size):\n",
    "        idx = np.random.choice(np.arange(len(self.buffer)), \n",
    "                               size=batch_size, \n",
    "                               replace=False)\n",
    "        return [self.buffer[ii] for ii in idx]"
   ]
  },
  {
   "cell_type": "markdown",
   "metadata": {},
   "source": [
    "## Hyperparameters\n",
    "\n",
    "One of the more difficult aspects of reinforcememt learning are the large number of hyperparameters. Not only are we tuning the network, but we're tuning the simulation."
   ]
  },
  {
   "cell_type": "code",
   "execution_count": 18,
   "metadata": {},
   "outputs": [
    {
     "data": {
      "text/plain": [
       "(Box(4,), Discrete(2))"
      ]
     },
     "execution_count": 18,
     "metadata": {},
     "output_type": "execute_result"
    }
   ],
   "source": [
    "env.observation_space, env.action_space"
   ]
  },
  {
   "cell_type": "code",
   "execution_count": 20,
   "metadata": {},
   "outputs": [],
   "source": [
    "# Exploration parameters\n",
    "explore_start = 1.0            # exploration probability at start\n",
    "explore_stop = 0.001           # minimum exploration probability \n",
    "decay_rate = 0.0001            # exponential decay rate for exploration prob\n",
    "\n",
    "# Network parameters\n",
    "state_size = 4\n",
    "action_size = 2\n",
    "hidden_size = 24*2             # number of units in each Q-network hidden layer\n",
    "g_learning_rate = 1e-5         # Q-network learning rate\n",
    "d_learning_rate = 1e-5         # Q-network learning rate\n",
    "\n",
    "# Memory parameters\n",
    "memory_size = int(1e6)            # memory capacity\n",
    "batch_size = 64                # experience mini-batch size\n",
    "gamma = 0.99                   # future reward discount"
   ]
  },
  {
   "cell_type": "code",
   "execution_count": 21,
   "metadata": {},
   "outputs": [],
   "source": [
    "# Reset/init the graph/session\n",
    "graph = tf.reset_default_graph()\n",
    "\n",
    "# Init the model\n",
    "model = Model(action_size=action_size, state_size=state_size, hidden_size=hidden_size,\n",
    "              g_learning_rate=g_learning_rate, d_learning_rate=d_learning_rate)\n",
    "\n",
    "# Init the memory\n",
    "memory = Memory(max_size=memory_size)"
   ]
  },
  {
   "cell_type": "code",
   "execution_count": 22,
   "metadata": {},
   "outputs": [],
   "source": [
    "state = env.reset()\n",
    "for _ in range(memory_size):\n",
    "    action = env.action_space.sample()\n",
    "    next_state, reward, done, _ = env.step(action)\n",
    "    memory.buffer.append([state, action, next_state, reward, float(done)])\n",
    "    state = next_state\n",
    "    if done is True:\n",
    "        state = env.reset()"
   ]
  },
  {
   "cell_type": "markdown",
   "metadata": {},
   "source": [
    "## Training the model\n",
    "\n",
    "Below we'll train our agent. If you want to watch it train, uncomment the `env.render()` line. This is slow because it's rendering the frames slower than the network can train. But, it's cool to watch the agent get better at the game."
   ]
  },
  {
   "cell_type": "code",
   "execution_count": null,
   "metadata": {},
   "outputs": [
    {
     "name": "stdout",
     "output_type": "stream",
     "text": [
      "Episode:0 meanR:10.0000 R:10.0000 gloss:0.0101 dloss:0.9945 exploreP:0.9990\n",
      "Episode:1 meanR:24.5000 R:39.0000 gloss:0.0069 dloss:0.9918 exploreP:0.9951\n",
      "Episode:2 meanR:21.6667 R:16.0000 gloss:0.0029 dloss:0.9877 exploreP:0.9935\n",
      "Episode:3 meanR:24.2500 R:32.0000 gloss:-0.0003 dloss:0.9855 exploreP:0.9904\n",
      "Episode:4 meanR:26.2000 R:34.0000 gloss:-0.0055 dloss:0.9803 exploreP:0.9870\n",
      "Episode:5 meanR:25.8333 R:24.0000 gloss:-0.0103 dloss:0.9765 exploreP:0.9846\n",
      "Episode:6 meanR:24.1429 R:14.0000 gloss:-0.0130 dloss:0.9744 exploreP:0.9833\n",
      "Episode:7 meanR:23.3750 R:18.0000 gloss:-0.0149 dloss:0.9740 exploreP:0.9815\n",
      "Episode:8 meanR:22.2222 R:13.0000 gloss:-0.0173 dloss:0.9735 exploreP:0.9802\n",
      "Episode:9 meanR:23.7000 R:37.0000 gloss:-0.0211 dloss:0.9685 exploreP:0.9766\n",
      "Episode:10 meanR:23.0909 R:17.0000 gloss:-0.0244 dloss:0.9669 exploreP:0.9749\n",
      "Episode:11 meanR:22.2500 R:13.0000 gloss:-0.0271 dloss:0.9633 exploreP:0.9737\n",
      "Episode:12 meanR:23.6923 R:41.0000 gloss:-0.0311 dloss:0.9628 exploreP:0.9697\n",
      "Episode:13 meanR:25.2857 R:46.0000 gloss:-0.0383 dloss:0.9575 exploreP:0.9653\n",
      "Episode:14 meanR:25.4000 R:27.0000 gloss:-0.0439 dloss:0.9539 exploreP:0.9627\n",
      "Episode:15 meanR:26.3125 R:40.0000 gloss:-0.0480 dloss:0.9508 exploreP:0.9588\n",
      "Episode:16 meanR:25.7647 R:17.0000 gloss:-0.0533 dloss:0.9470 exploreP:0.9572\n",
      "Episode:17 meanR:25.2778 R:17.0000 gloss:-0.0561 dloss:0.9457 exploreP:0.9556\n",
      "Episode:18 meanR:24.7368 R:15.0000 gloss:-0.0576 dloss:0.9466 exploreP:0.9541\n",
      "Episode:19 meanR:26.9500 R:69.0000 gloss:-0.0644 dloss:0.9404 exploreP:0.9476\n",
      "Episode:20 meanR:26.1905 R:11.0000 gloss:-0.0714 dloss:0.9382 exploreP:0.9465\n",
      "Episode:21 meanR:25.9091 R:20.0000 gloss:-0.0727 dloss:0.9335 exploreP:0.9446\n",
      "Episode:22 meanR:25.4348 R:15.0000 gloss:-0.0750 dloss:0.9309 exploreP:0.9432\n",
      "Episode:23 meanR:26.0417 R:40.0000 gloss:-0.0795 dloss:0.9324 exploreP:0.9395\n",
      "Episode:24 meanR:25.4400 R:11.0000 gloss:-0.0831 dloss:0.9264 exploreP:0.9384\n",
      "Episode:25 meanR:24.9615 R:13.0000 gloss:-0.0855 dloss:0.9254 exploreP:0.9372\n",
      "Episode:26 meanR:25.0370 R:27.0000 gloss:-0.0885 dloss:0.9272 exploreP:0.9347\n",
      "Episode:27 meanR:24.7143 R:16.0000 gloss:-0.0917 dloss:0.9251 exploreP:0.9332\n",
      "Episode:28 meanR:24.2414 R:11.0000 gloss:-0.0937 dloss:0.9214 exploreP:0.9322\n",
      "Episode:29 meanR:23.9333 R:15.0000 gloss:-0.0947 dloss:0.9210 exploreP:0.9308\n",
      "Episode:30 meanR:24.1935 R:32.0000 gloss:-0.0982 dloss:0.9204 exploreP:0.9278\n",
      "Episode:31 meanR:23.7188 R:9.0000 gloss:-0.1008 dloss:0.9139 exploreP:0.9270\n",
      "Episode:32 meanR:24.9091 R:63.0000 gloss:-0.1076 dloss:0.9144 exploreP:0.9212\n",
      "Episode:33 meanR:24.7353 R:19.0000 gloss:-0.1141 dloss:0.9087 exploreP:0.9194\n",
      "Episode:34 meanR:26.5429 R:88.0000 gloss:-0.1213 dloss:0.9057 exploreP:0.9114\n",
      "Episode:35 meanR:26.2778 R:17.0000 gloss:-0.1300 dloss:0.9050 exploreP:0.9098\n",
      "Episode:36 meanR:26.2162 R:24.0000 gloss:-0.1338 dloss:0.9001 exploreP:0.9076\n",
      "Episode:37 meanR:26.0789 R:21.0000 gloss:-0.1378 dloss:0.9000 exploreP:0.9057\n",
      "Episode:38 meanR:25.7692 R:14.0000 gloss:-0.1393 dloss:0.8974 exploreP:0.9045\n",
      "Episode:39 meanR:25.4250 R:12.0000 gloss:-0.1424 dloss:0.9002 exploreP:0.9034\n",
      "Episode:40 meanR:25.0976 R:12.0000 gloss:-0.1440 dloss:0.8963 exploreP:0.9023\n",
      "Episode:41 meanR:25.2381 R:31.0000 gloss:-0.1478 dloss:0.8957 exploreP:0.8995\n",
      "Episode:42 meanR:25.2791 R:27.0000 gloss:-0.1520 dloss:0.8963 exploreP:0.8971\n",
      "Episode:43 meanR:25.3864 R:30.0000 gloss:-0.1553 dloss:0.8910 exploreP:0.8944\n",
      "Episode:44 meanR:25.0889 R:12.0000 gloss:-0.1590 dloss:0.8916 exploreP:0.8933\n",
      "Episode:45 meanR:24.9783 R:20.0000 gloss:-0.1625 dloss:0.8856 exploreP:0.8916\n",
      "Episode:46 meanR:24.9149 R:22.0000 gloss:-0.1656 dloss:0.8855 exploreP:0.8896\n",
      "Episode:47 meanR:24.6667 R:13.0000 gloss:-0.1713 dloss:0.8941 exploreP:0.8885\n",
      "Episode:48 meanR:24.4286 R:13.0000 gloss:-0.1711 dloss:0.8852 exploreP:0.8873\n",
      "Episode:49 meanR:24.3000 R:18.0000 gloss:-0.1756 dloss:0.8916 exploreP:0.8857\n",
      "Episode:50 meanR:24.2353 R:21.0000 gloss:-0.1775 dloss:0.8890 exploreP:0.8838\n",
      "Episode:51 meanR:24.0769 R:16.0000 gloss:-0.1812 dloss:0.8933 exploreP:0.8824\n",
      "Episode:52 meanR:24.5094 R:47.0000 gloss:-0.1874 dloss:0.8826 exploreP:0.8783\n",
      "Episode:53 meanR:24.5000 R:24.0000 gloss:-0.1922 dloss:0.8864 exploreP:0.8762\n",
      "Episode:54 meanR:24.4545 R:22.0000 gloss:-0.1974 dloss:0.8845 exploreP:0.8743\n",
      "Episode:55 meanR:24.5357 R:29.0000 gloss:-0.2031 dloss:0.8809 exploreP:0.8717\n",
      "Episode:56 meanR:24.6316 R:30.0000 gloss:-0.2094 dloss:0.8912 exploreP:0.8691\n",
      "Episode:57 meanR:24.3793 R:10.0000 gloss:-0.2127 dloss:0.8925 exploreP:0.8683\n",
      "Episode:58 meanR:24.2712 R:18.0000 gloss:-0.2158 dloss:0.8888 exploreP:0.8667\n",
      "Episode:59 meanR:24.2167 R:21.0000 gloss:-0.2203 dloss:0.8868 exploreP:0.8649\n",
      "Episode:60 meanR:24.1311 R:19.0000 gloss:-0.2282 dloss:0.8912 exploreP:0.8633\n",
      "Episode:61 meanR:24.1452 R:25.0000 gloss:-0.2304 dloss:0.8917 exploreP:0.8611\n",
      "Episode:62 meanR:24.2540 R:31.0000 gloss:-0.2355 dloss:0.8912 exploreP:0.8584\n",
      "Episode:63 meanR:24.3438 R:30.0000 gloss:-0.2404 dloss:0.8968 exploreP:0.8559\n",
      "Episode:64 meanR:24.4769 R:33.0000 gloss:-0.2490 dloss:0.8974 exploreP:0.8531\n",
      "Episode:65 meanR:24.3182 R:14.0000 gloss:-0.2530 dloss:0.8971 exploreP:0.8519\n",
      "Episode:66 meanR:24.2836 R:22.0000 gloss:-0.2573 dloss:0.8951 exploreP:0.8500\n",
      "Episode:67 meanR:24.0882 R:11.0000 gloss:-0.2591 dloss:0.8975 exploreP:0.8491\n",
      "Episode:68 meanR:23.9420 R:14.0000 gloss:-0.2616 dloss:0.8867 exploreP:0.8479\n",
      "Episode:69 meanR:23.7429 R:10.0000 gloss:-0.2673 dloss:0.9036 exploreP:0.8470\n",
      "Episode:70 meanR:24.0141 R:43.0000 gloss:-0.2744 dloss:0.8983 exploreP:0.8434\n",
      "Episode:71 meanR:24.1389 R:33.0000 gloss:-0.2819 dloss:0.8966 exploreP:0.8406\n",
      "Episode:72 meanR:24.0959 R:21.0000 gloss:-0.2888 dloss:0.9100 exploreP:0.8389\n",
      "Episode:73 meanR:24.7027 R:69.0000 gloss:-0.2982 dloss:0.9104 exploreP:0.8331\n",
      "Episode:74 meanR:24.5467 R:13.0000 gloss:-0.3107 dloss:0.9096 exploreP:0.8320\n",
      "Episode:75 meanR:24.5000 R:21.0000 gloss:-0.3145 dloss:0.9205 exploreP:0.8303\n",
      "Episode:76 meanR:24.4935 R:24.0000 gloss:-0.3195 dloss:0.9241 exploreP:0.8283\n",
      "Episode:77 meanR:24.2949 R:9.0000 gloss:-0.3174 dloss:0.9069 exploreP:0.8275\n",
      "Episode:78 meanR:24.4430 R:36.0000 gloss:-0.3278 dloss:0.9261 exploreP:0.8246\n",
      "Episode:79 meanR:24.4750 R:27.0000 gloss:-0.3337 dloss:0.9302 exploreP:0.8224\n",
      "Episode:80 meanR:24.3457 R:14.0000 gloss:-0.3463 dloss:0.9407 exploreP:0.8212\n",
      "Episode:81 meanR:24.3171 R:22.0000 gloss:-0.3532 dloss:0.9442 exploreP:0.8194\n",
      "Episode:82 meanR:24.1928 R:14.0000 gloss:-0.3522 dloss:0.9467 exploreP:0.8183\n",
      "Episode:83 meanR:24.0952 R:16.0000 gloss:-0.3581 dloss:0.9391 exploreP:0.8170\n",
      "Episode:84 meanR:23.9412 R:11.0000 gloss:-0.3637 dloss:0.9474 exploreP:0.8161\n",
      "Episode:85 meanR:24.0814 R:36.0000 gloss:-0.3735 dloss:0.9593 exploreP:0.8131\n",
      "Episode:86 meanR:24.0460 R:21.0000 gloss:-0.3776 dloss:0.9612 exploreP:0.8114\n",
      "Episode:87 meanR:23.9091 R:12.0000 gloss:-0.3836 dloss:0.9733 exploreP:0.8104\n",
      "Episode:88 meanR:23.7865 R:13.0000 gloss:-0.3866 dloss:0.9742 exploreP:0.8094\n",
      "Episode:89 meanR:23.8667 R:31.0000 gloss:-0.3937 dloss:0.9639 exploreP:0.8069\n",
      "Episode:90 meanR:23.7692 R:15.0000 gloss:-0.3937 dloss:0.9652 exploreP:0.8057\n",
      "Episode:91 meanR:23.6196 R:10.0000 gloss:-0.4018 dloss:0.9756 exploreP:0.8049\n",
      "Episode:92 meanR:23.4624 R:9.0000 gloss:-0.4086 dloss:0.9757 exploreP:0.8042\n",
      "Episode:93 meanR:23.3191 R:10.0000 gloss:-0.4074 dloss:0.9735 exploreP:0.8034\n",
      "Episode:94 meanR:23.2316 R:15.0000 gloss:-0.4236 dloss:1.0025 exploreP:0.8022\n",
      "Episode:95 meanR:23.1146 R:12.0000 gloss:-0.4318 dloss:1.0104 exploreP:0.8012\n",
      "Episode:96 meanR:23.0722 R:19.0000 gloss:-0.4137 dloss:0.9922 exploreP:0.7997\n",
      "Episode:97 meanR:22.9898 R:15.0000 gloss:-0.4208 dloss:0.9903 exploreP:0.7985\n",
      "Episode:98 meanR:22.9091 R:15.0000 gloss:-0.4329 dloss:0.9957 exploreP:0.7973\n",
      "Episode:99 meanR:22.7700 R:9.0000 gloss:-0.4341 dloss:1.0137 exploreP:0.7966\n",
      "Episode:100 meanR:22.8400 R:17.0000 gloss:-0.4409 dloss:1.0171 exploreP:0.7952\n",
      "Episode:101 meanR:22.6000 R:15.0000 gloss:-0.4354 dloss:0.9992 exploreP:0.7940\n",
      "Episode:102 meanR:22.6400 R:20.0000 gloss:-0.4614 dloss:1.0283 exploreP:0.7924\n",
      "Episode:103 meanR:22.5900 R:27.0000 gloss:-0.4585 dloss:1.0273 exploreP:0.7903\n",
      "Episode:104 meanR:22.3900 R:14.0000 gloss:-0.4596 dloss:1.0150 exploreP:0.7892\n",
      "Episode:105 meanR:22.3900 R:24.0000 gloss:-0.4744 dloss:1.0191 exploreP:0.7873\n"
     ]
    },
    {
     "name": "stdout",
     "output_type": "stream",
     "text": [
      "Episode:106 meanR:22.4300 R:18.0000 gloss:-0.4808 dloss:1.0512 exploreP:0.7859\n",
      "Episode:107 meanR:22.3800 R:13.0000 gloss:-0.4832 dloss:1.0396 exploreP:0.7849\n",
      "Episode:108 meanR:22.6600 R:41.0000 gloss:-0.5018 dloss:1.0765 exploreP:0.7817\n",
      "Episode:109 meanR:22.5400 R:25.0000 gloss:-0.5110 dloss:1.0916 exploreP:0.7797\n",
      "Episode:110 meanR:22.5000 R:13.0000 gloss:-0.5004 dloss:1.0437 exploreP:0.7787\n",
      "Episode:111 meanR:22.5000 R:13.0000 gloss:-0.5266 dloss:1.1050 exploreP:0.7777\n",
      "Episode:112 meanR:22.3100 R:22.0000 gloss:-0.5232 dloss:1.0946 exploreP:0.7760\n",
      "Episode:113 meanR:21.9600 R:11.0000 gloss:-0.5290 dloss:1.0860 exploreP:0.7751\n",
      "Episode:114 meanR:21.8100 R:12.0000 gloss:-0.5277 dloss:1.0908 exploreP:0.7742\n",
      "Episode:115 meanR:21.6200 R:21.0000 gloss:-0.5487 dloss:1.1285 exploreP:0.7726\n",
      "Episode:116 meanR:21.6000 R:15.0000 gloss:-0.5522 dloss:1.1372 exploreP:0.7714\n",
      "Episode:117 meanR:21.5900 R:16.0000 gloss:-0.5543 dloss:1.1520 exploreP:0.7702\n",
      "Episode:118 meanR:21.5400 R:10.0000 gloss:-0.5684 dloss:1.1322 exploreP:0.7694\n",
      "Episode:119 meanR:21.0500 R:20.0000 gloss:-0.5729 dloss:1.1639 exploreP:0.7679\n",
      "Episode:120 meanR:21.3900 R:45.0000 gloss:-0.5843 dloss:1.1599 exploreP:0.7645\n",
      "Episode:121 meanR:21.4800 R:29.0000 gloss:-0.6050 dloss:1.2067 exploreP:0.7622\n",
      "Episode:122 meanR:21.4800 R:15.0000 gloss:-0.6137 dloss:1.2147 exploreP:0.7611\n",
      "Episode:123 meanR:21.2000 R:12.0000 gloss:-0.6159 dloss:1.1778 exploreP:0.7602\n",
      "Episode:124 meanR:21.2100 R:12.0000 gloss:-0.6225 dloss:1.2044 exploreP:0.7593\n",
      "Episode:125 meanR:21.2000 R:12.0000 gloss:-0.6368 dloss:1.2638 exploreP:0.7584\n",
      "Episode:126 meanR:21.0200 R:9.0000 gloss:-0.6407 dloss:1.2381 exploreP:0.7577\n",
      "Episode:127 meanR:21.0200 R:16.0000 gloss:-0.6331 dloss:1.2232 exploreP:0.7565\n",
      "Episode:128 meanR:21.0600 R:15.0000 gloss:-0.6623 dloss:1.2799 exploreP:0.7553\n",
      "Episode:129 meanR:21.0000 R:9.0000 gloss:-0.6542 dloss:1.2852 exploreP:0.7547\n",
      "Episode:130 meanR:21.0000 R:32.0000 gloss:-0.6703 dloss:1.2857 exploreP:0.7523\n",
      "Episode:131 meanR:21.0400 R:13.0000 gloss:-0.7052 dloss:1.3484 exploreP:0.7513\n",
      "Episode:132 meanR:20.5600 R:15.0000 gloss:-0.7022 dloss:1.3342 exploreP:0.7502\n",
      "Episode:133 meanR:20.5200 R:15.0000 gloss:-0.6895 dloss:1.2969 exploreP:0.7490\n",
      "Episode:134 meanR:19.8400 R:20.0000 gloss:-0.7106 dloss:1.3791 exploreP:0.7475\n",
      "Episode:135 meanR:19.8100 R:14.0000 gloss:-0.7171 dloss:1.3580 exploreP:0.7465\n",
      "Episode:136 meanR:19.6800 R:11.0000 gloss:-0.7324 dloss:1.3909 exploreP:0.7457\n",
      "Episode:137 meanR:19.6300 R:16.0000 gloss:-0.7163 dloss:1.3504 exploreP:0.7445\n",
      "Episode:138 meanR:19.6700 R:18.0000 gloss:-0.7388 dloss:1.3837 exploreP:0.7432\n",
      "Episode:139 meanR:19.6400 R:9.0000 gloss:-0.7641 dloss:1.4345 exploreP:0.7425\n",
      "Episode:140 meanR:19.7000 R:18.0000 gloss:-0.7614 dloss:1.4221 exploreP:0.7412\n",
      "Episode:141 meanR:19.5000 R:11.0000 gloss:-0.7646 dloss:1.3921 exploreP:0.7403\n",
      "Episode:142 meanR:19.3600 R:13.0000 gloss:-0.7865 dloss:1.4528 exploreP:0.7394\n",
      "Episode:143 meanR:19.1700 R:11.0000 gloss:-0.7838 dloss:1.4971 exploreP:0.7386\n",
      "Episode:144 meanR:19.2200 R:17.0000 gloss:-0.7929 dloss:1.4470 exploreP:0.7373\n",
      "Episode:145 meanR:19.1400 R:12.0000 gloss:-0.7902 dloss:1.5085 exploreP:0.7364\n",
      "Episode:146 meanR:19.0500 R:13.0000 gloss:-0.8166 dloss:1.5408 exploreP:0.7355\n",
      "Episode:147 meanR:19.1600 R:24.0000 gloss:-0.8202 dloss:1.5215 exploreP:0.7337\n",
      "Episode:148 meanR:19.1600 R:13.0000 gloss:-0.8248 dloss:1.5062 exploreP:0.7328\n",
      "Episode:149 meanR:19.0900 R:11.0000 gloss:-0.8492 dloss:1.6134 exploreP:0.7320\n",
      "Episode:150 meanR:18.9900 R:11.0000 gloss:-0.8457 dloss:1.5587 exploreP:0.7312\n",
      "Episode:151 meanR:18.9300 R:10.0000 gloss:-0.8613 dloss:1.6049 exploreP:0.7304\n",
      "Episode:152 meanR:18.5900 R:13.0000 gloss:-0.8764 dloss:1.6339 exploreP:0.7295\n",
      "Episode:153 meanR:18.4800 R:13.0000 gloss:-0.8715 dloss:1.5838 exploreP:0.7285\n",
      "Episode:154 meanR:18.3900 R:13.0000 gloss:-0.8802 dloss:1.6049 exploreP:0.7276\n",
      "Episode:155 meanR:18.2400 R:14.0000 gloss:-0.8888 dloss:1.6415 exploreP:0.7266\n",
      "Episode:156 meanR:18.0300 R:9.0000 gloss:-0.8889 dloss:1.5893 exploreP:0.7259\n",
      "Episode:157 meanR:18.1300 R:20.0000 gloss:-0.9029 dloss:1.6958 exploreP:0.7245\n",
      "Episode:158 meanR:18.0900 R:14.0000 gloss:-0.9108 dloss:1.6509 exploreP:0.7235\n",
      "Episode:159 meanR:18.0800 R:20.0000 gloss:-0.9471 dloss:1.7526 exploreP:0.7220\n",
      "Episode:160 meanR:18.0800 R:19.0000 gloss:-0.9448 dloss:1.7611 exploreP:0.7206\n",
      "Episode:161 meanR:18.1400 R:31.0000 gloss:-0.9455 dloss:1.7179 exploreP:0.7184\n",
      "Episode:162 meanR:17.9800 R:15.0000 gloss:-1.0017 dloss:1.8909 exploreP:0.7173\n",
      "Episode:163 meanR:18.0400 R:36.0000 gloss:-0.9999 dloss:1.8640 exploreP:0.7148\n",
      "Episode:164 meanR:17.8700 R:16.0000 gloss:-1.0134 dloss:1.9323 exploreP:0.7136\n",
      "Episode:165 meanR:17.8400 R:11.0000 gloss:-1.0374 dloss:1.8279 exploreP:0.7128\n",
      "Episode:166 meanR:17.8600 R:24.0000 gloss:-1.0232 dloss:1.8590 exploreP:0.7111\n",
      "Episode:167 meanR:18.1600 R:41.0000 gloss:-1.0579 dloss:1.9647 exploreP:0.7082\n",
      "Episode:168 meanR:18.1900 R:17.0000 gloss:-1.0808 dloss:2.0154 exploreP:0.7070\n",
      "Episode:169 meanR:18.1900 R:10.0000 gloss:-1.1034 dloss:2.0551 exploreP:0.7063\n",
      "Episode:170 meanR:17.8900 R:13.0000 gloss:-1.1415 dloss:2.1712 exploreP:0.7054\n",
      "Episode:171 meanR:17.8100 R:25.0000 gloss:-1.1266 dloss:2.1226 exploreP:0.7036\n",
      "Episode:172 meanR:17.7600 R:16.0000 gloss:-1.1389 dloss:2.1151 exploreP:0.7025\n",
      "Episode:173 meanR:17.3100 R:24.0000 gloss:-1.1726 dloss:2.2277 exploreP:0.7008\n",
      "Episode:174 meanR:17.2900 R:11.0000 gloss:-1.1872 dloss:2.2839 exploreP:0.7001\n",
      "Episode:175 meanR:17.2400 R:16.0000 gloss:-1.2113 dloss:2.3223 exploreP:0.6990\n",
      "Episode:176 meanR:17.1300 R:13.0000 gloss:-1.2021 dloss:2.2275 exploreP:0.6980\n",
      "Episode:177 meanR:17.3200 R:28.0000 gloss:-1.2394 dloss:2.3217 exploreP:0.6961\n",
      "Episode:178 meanR:17.1300 R:17.0000 gloss:-1.2582 dloss:2.4323 exploreP:0.6949\n",
      "Episode:179 meanR:17.0200 R:16.0000 gloss:-1.2675 dloss:2.4308 exploreP:0.6938\n",
      "Episode:180 meanR:17.0000 R:12.0000 gloss:-1.2651 dloss:2.3467 exploreP:0.6930\n",
      "Episode:181 meanR:16.8900 R:11.0000 gloss:-1.2610 dloss:2.4146 exploreP:0.6922\n",
      "Episode:182 meanR:16.8500 R:10.0000 gloss:-1.2730 dloss:2.4579 exploreP:0.6915\n",
      "Episode:183 meanR:16.8500 R:16.0000 gloss:-1.2805 dloss:2.4476 exploreP:0.6904\n",
      "Episode:184 meanR:16.8900 R:15.0000 gloss:-1.2987 dloss:2.4505 exploreP:0.6894\n",
      "Episode:185 meanR:16.6200 R:9.0000 gloss:-1.3489 dloss:2.5568 exploreP:0.6888\n",
      "Episode:186 meanR:16.8100 R:40.0000 gloss:-1.3508 dloss:2.5994 exploreP:0.6860\n",
      "Episode:187 meanR:16.8500 R:16.0000 gloss:-1.3699 dloss:2.7453 exploreP:0.6849\n",
      "Episode:188 meanR:16.8800 R:16.0000 gloss:-1.3852 dloss:2.6897 exploreP:0.6838\n",
      "Episode:189 meanR:16.7200 R:15.0000 gloss:-1.4071 dloss:2.7950 exploreP:0.6828\n",
      "Episode:190 meanR:16.6800 R:11.0000 gloss:-1.4033 dloss:2.7623 exploreP:0.6821\n",
      "Episode:191 meanR:16.7800 R:20.0000 gloss:-1.4405 dloss:2.8585 exploreP:0.6807\n",
      "Episode:192 meanR:16.8100 R:12.0000 gloss:-1.4638 dloss:2.9829 exploreP:0.6799\n",
      "Episode:193 meanR:16.8200 R:11.0000 gloss:-1.4589 dloss:2.9080 exploreP:0.6791\n",
      "Episode:194 meanR:16.8200 R:15.0000 gloss:-1.4790 dloss:2.9422 exploreP:0.6781\n",
      "Episode:195 meanR:16.9100 R:21.0000 gloss:-1.5231 dloss:3.0831 exploreP:0.6767\n",
      "Episode:196 meanR:16.8900 R:17.0000 gloss:-1.5170 dloss:3.0596 exploreP:0.6756\n",
      "Episode:197 meanR:16.9000 R:16.0000 gloss:-1.5137 dloss:3.0290 exploreP:0.6745\n",
      "Episode:198 meanR:16.8400 R:9.0000 gloss:-1.5605 dloss:3.2147 exploreP:0.6739\n",
      "Episode:199 meanR:16.8600 R:11.0000 gloss:-1.5432 dloss:3.1919 exploreP:0.6731\n",
      "Episode:200 meanR:16.8100 R:12.0000 gloss:-1.5766 dloss:3.1442 exploreP:0.6723\n",
      "Episode:201 meanR:16.9500 R:29.0000 gloss:-1.5742 dloss:3.1726 exploreP:0.6704\n",
      "Episode:202 meanR:16.8800 R:13.0000 gloss:-1.6364 dloss:3.4801 exploreP:0.6695\n",
      "Episode:203 meanR:16.7100 R:10.0000 gloss:-1.6553 dloss:3.4464 exploreP:0.6688\n",
      "Episode:204 meanR:16.7600 R:19.0000 gloss:-1.6688 dloss:3.4805 exploreP:0.6676\n",
      "Episode:205 meanR:16.6900 R:17.0000 gloss:-1.6468 dloss:3.3692 exploreP:0.6664\n",
      "Episode:206 meanR:16.6500 R:14.0000 gloss:-1.6709 dloss:3.5372 exploreP:0.6655\n",
      "Episode:207 meanR:16.7000 R:18.0000 gloss:-1.7338 dloss:3.7527 exploreP:0.6643\n",
      "Episode:208 meanR:16.5300 R:24.0000 gloss:-1.7196 dloss:3.7051 exploreP:0.6627\n",
      "Episode:209 meanR:16.4200 R:14.0000 gloss:-1.7535 dloss:3.7819 exploreP:0.6618\n"
     ]
    },
    {
     "name": "stdout",
     "output_type": "stream",
     "text": [
      "Episode:210 meanR:16.4400 R:15.0000 gloss:-1.7721 dloss:3.9616 exploreP:0.6608\n",
      "Episode:211 meanR:16.4900 R:18.0000 gloss:-1.7799 dloss:3.7287 exploreP:0.6596\n",
      "Episode:212 meanR:16.4200 R:15.0000 gloss:-1.8098 dloss:3.8904 exploreP:0.6586\n",
      "Episode:213 meanR:16.6000 R:29.0000 gloss:-1.8416 dloss:3.9153 exploreP:0.6567\n",
      "Episode:214 meanR:16.5800 R:10.0000 gloss:-1.8481 dloss:4.0348 exploreP:0.6561\n",
      "Episode:215 meanR:16.4800 R:11.0000 gloss:-1.8764 dloss:4.3060 exploreP:0.6554\n",
      "Episode:216 meanR:16.4400 R:11.0000 gloss:-1.9325 dloss:4.3840 exploreP:0.6546\n",
      "Episode:217 meanR:16.4100 R:13.0000 gloss:-1.9188 dloss:4.3820 exploreP:0.6538\n",
      "Episode:218 meanR:16.4400 R:13.0000 gloss:-1.9335 dloss:4.2162 exploreP:0.6529\n",
      "Episode:219 meanR:16.4000 R:16.0000 gloss:-1.9094 dloss:4.2287 exploreP:0.6519\n",
      "Episode:220 meanR:16.1400 R:19.0000 gloss:-1.9573 dloss:4.4850 exploreP:0.6507\n",
      "Episode:221 meanR:15.9900 R:14.0000 gloss:-1.9959 dloss:4.4751 exploreP:0.6498\n",
      "Episode:222 meanR:16.1100 R:27.0000 gloss:-1.9666 dloss:4.3848 exploreP:0.6480\n",
      "Episode:223 meanR:16.1200 R:13.0000 gloss:-2.0558 dloss:4.7982 exploreP:0.6472\n",
      "Episode:224 meanR:16.1600 R:16.0000 gloss:-2.0249 dloss:4.5571 exploreP:0.6461\n",
      "Episode:225 meanR:16.2600 R:22.0000 gloss:-2.0220 dloss:4.4728 exploreP:0.6447\n",
      "Episode:226 meanR:16.2500 R:8.0000 gloss:-2.0797 dloss:4.8739 exploreP:0.6442\n",
      "Episode:227 meanR:16.2100 R:12.0000 gloss:-2.0805 dloss:4.8077 exploreP:0.6434\n",
      "Episode:228 meanR:16.1600 R:10.0000 gloss:-2.1163 dloss:4.8032 exploreP:0.6428\n",
      "Episode:229 meanR:16.2800 R:21.0000 gloss:-2.1286 dloss:4.9584 exploreP:0.6414\n",
      "Episode:230 meanR:16.1900 R:23.0000 gloss:-2.1494 dloss:4.9571 exploreP:0.6400\n",
      "Episode:231 meanR:16.1500 R:9.0000 gloss:-2.1706 dloss:5.2731 exploreP:0.6394\n",
      "Episode:232 meanR:16.2600 R:26.0000 gloss:-2.2081 dloss:5.3308 exploreP:0.6377\n",
      "Episode:233 meanR:16.3000 R:19.0000 gloss:-2.2335 dloss:5.4262 exploreP:0.6365\n",
      "Episode:234 meanR:16.4000 R:30.0000 gloss:-2.2706 dloss:5.4147 exploreP:0.6346\n",
      "Episode:235 meanR:16.4000 R:14.0000 gloss:-2.3137 dloss:5.7819 exploreP:0.6337\n",
      "Episode:236 meanR:16.6900 R:40.0000 gloss:-2.3321 dloss:5.6384 exploreP:0.6312\n",
      "Episode:237 meanR:16.6900 R:16.0000 gloss:-2.3892 dloss:6.1494 exploreP:0.6302\n",
      "Episode:238 meanR:16.6200 R:11.0000 gloss:-2.3881 dloss:6.0783 exploreP:0.6295\n",
      "Episode:239 meanR:16.6800 R:15.0000 gloss:-2.4463 dloss:6.1275 exploreP:0.6286\n",
      "Episode:240 meanR:16.7000 R:20.0000 gloss:-2.4578 dloss:6.3106 exploreP:0.6273\n",
      "Episode:241 meanR:16.7400 R:15.0000 gloss:-2.4685 dloss:6.2554 exploreP:0.6264\n",
      "Episode:242 meanR:16.7700 R:16.0000 gloss:-2.4918 dloss:6.3078 exploreP:0.6254\n",
      "Episode:243 meanR:17.0700 R:41.0000 gloss:-2.5538 dloss:6.7707 exploreP:0.6228\n",
      "Episode:244 meanR:17.0400 R:14.0000 gloss:-2.5592 dloss:6.6444 exploreP:0.6220\n",
      "Episode:245 meanR:17.1500 R:23.0000 gloss:-2.6200 dloss:6.9246 exploreP:0.6205\n",
      "Episode:246 meanR:17.1300 R:11.0000 gloss:-2.6573 dloss:7.2571 exploreP:0.6198\n",
      "Episode:247 meanR:17.2100 R:32.0000 gloss:-2.6968 dloss:7.3001 exploreP:0.6179\n",
      "Episode:248 meanR:17.1800 R:10.0000 gloss:-2.7617 dloss:7.5189 exploreP:0.6173\n",
      "Episode:249 meanR:17.1900 R:12.0000 gloss:-2.7647 dloss:7.6176 exploreP:0.6165\n",
      "Episode:250 meanR:17.2100 R:13.0000 gloss:-2.7826 dloss:7.8265 exploreP:0.6157\n",
      "Episode:251 meanR:17.2700 R:16.0000 gloss:-2.8003 dloss:7.8497 exploreP:0.6147\n",
      "Episode:252 meanR:17.2600 R:12.0000 gloss:-2.8391 dloss:8.0349 exploreP:0.6140\n",
      "Episode:253 meanR:17.2800 R:15.0000 gloss:-2.7815 dloss:7.7754 exploreP:0.6131\n",
      "Episode:254 meanR:17.3900 R:24.0000 gloss:-2.8733 dloss:8.1991 exploreP:0.6116\n",
      "Episode:255 meanR:17.3600 R:11.0000 gloss:-2.9191 dloss:8.6412 exploreP:0.6109\n",
      "Episode:256 meanR:17.4500 R:18.0000 gloss:-2.9609 dloss:8.4877 exploreP:0.6098\n",
      "Episode:257 meanR:17.3600 R:11.0000 gloss:-2.9697 dloss:8.4402 exploreP:0.6092\n",
      "Episode:258 meanR:17.4500 R:23.0000 gloss:-2.9814 dloss:8.5168 exploreP:0.6078\n",
      "Episode:259 meanR:17.4300 R:18.0000 gloss:-3.0726 dloss:9.1687 exploreP:0.6067\n",
      "Episode:260 meanR:17.3600 R:12.0000 gloss:-3.1009 dloss:9.4615 exploreP:0.6060\n",
      "Episode:261 meanR:17.2300 R:18.0000 gloss:-3.0912 dloss:9.4212 exploreP:0.6049\n",
      "Episode:262 meanR:17.2900 R:21.0000 gloss:-3.1347 dloss:9.6027 exploreP:0.6036\n",
      "Episode:263 meanR:17.0200 R:9.0000 gloss:-3.1300 dloss:9.6185 exploreP:0.6031\n",
      "Episode:264 meanR:17.0100 R:15.0000 gloss:-3.1331 dloss:9.4966 exploreP:0.6022\n",
      "Episode:265 meanR:17.0900 R:19.0000 gloss:-3.1566 dloss:9.6307 exploreP:0.6010\n",
      "Episode:266 meanR:17.1000 R:25.0000 gloss:-3.2469 dloss:9.9180 exploreP:0.5995\n",
      "Episode:267 meanR:16.7900 R:10.0000 gloss:-3.3000 dloss:10.5689 exploreP:0.5989\n",
      "Episode:268 meanR:16.8600 R:24.0000 gloss:-3.2850 dloss:10.3645 exploreP:0.5975\n",
      "Episode:269 meanR:16.9100 R:15.0000 gloss:-3.3450 dloss:10.6495 exploreP:0.5966\n",
      "Episode:270 meanR:16.8900 R:11.0000 gloss:-3.3643 dloss:10.7377 exploreP:0.5959\n",
      "Episode:271 meanR:16.7600 R:12.0000 gloss:-3.4225 dloss:10.8429 exploreP:0.5952\n",
      "Episode:272 meanR:16.7500 R:15.0000 gloss:-3.4298 dloss:11.4923 exploreP:0.5943\n",
      "Episode:273 meanR:16.7200 R:21.0000 gloss:-3.4738 dloss:11.6055 exploreP:0.5931\n",
      "Episode:274 meanR:16.7100 R:10.0000 gloss:-3.4608 dloss:11.0116 exploreP:0.5925\n",
      "Episode:275 meanR:16.6800 R:13.0000 gloss:-3.5478 dloss:11.9365 exploreP:0.5917\n",
      "Episode:276 meanR:16.6800 R:13.0000 gloss:-3.6441 dloss:12.5444 exploreP:0.5910\n",
      "Episode:277 meanR:16.4900 R:9.0000 gloss:-3.5587 dloss:12.0478 exploreP:0.5904\n",
      "Episode:278 meanR:16.6300 R:31.0000 gloss:-3.5996 dloss:12.1649 exploreP:0.5886\n",
      "Episode:279 meanR:16.5700 R:10.0000 gloss:-3.6653 dloss:12.5501 exploreP:0.5880\n",
      "Episode:280 meanR:16.5600 R:11.0000 gloss:-3.7036 dloss:12.3043 exploreP:0.5874\n",
      "Episode:281 meanR:16.6300 R:18.0000 gloss:-3.7234 dloss:12.8151 exploreP:0.5863\n",
      "Episode:282 meanR:16.6700 R:14.0000 gloss:-3.7117 dloss:13.2379 exploreP:0.5855\n",
      "Episode:283 meanR:16.6900 R:18.0000 gloss:-3.7814 dloss:13.1607 exploreP:0.5844\n",
      "Episode:284 meanR:16.6300 R:9.0000 gloss:-3.8411 dloss:13.9139 exploreP:0.5839\n",
      "Episode:285 meanR:16.6800 R:14.0000 gloss:-3.8089 dloss:13.4142 exploreP:0.5831\n",
      "Episode:286 meanR:16.3800 R:10.0000 gloss:-3.8877 dloss:13.9689 exploreP:0.5825\n",
      "Episode:287 meanR:16.3300 R:11.0000 gloss:-3.8734 dloss:13.4493 exploreP:0.5819\n",
      "Episode:288 meanR:16.3500 R:18.0000 gloss:-3.9686 dloss:14.6030 exploreP:0.5808\n",
      "Episode:289 meanR:16.2900 R:9.0000 gloss:-3.9806 dloss:14.2644 exploreP:0.5803\n",
      "Episode:290 meanR:16.3000 R:12.0000 gloss:-3.8895 dloss:14.0989 exploreP:0.5796\n",
      "Episode:291 meanR:16.2300 R:13.0000 gloss:-4.0176 dloss:14.6213 exploreP:0.5789\n",
      "Episode:292 meanR:16.2100 R:10.0000 gloss:-4.0539 dloss:15.3092 exploreP:0.5783\n",
      "Episode:293 meanR:16.2400 R:14.0000 gloss:-3.9886 dloss:14.8506 exploreP:0.5775\n",
      "Episode:294 meanR:16.2500 R:16.0000 gloss:-4.0407 dloss:15.2960 exploreP:0.5766\n",
      "Episode:295 meanR:16.2100 R:17.0000 gloss:-4.0712 dloss:15.0789 exploreP:0.5756\n",
      "Episode:296 meanR:16.2000 R:16.0000 gloss:-4.0824 dloss:15.2469 exploreP:0.5747\n",
      "Episode:297 meanR:16.2000 R:16.0000 gloss:-4.1649 dloss:15.6722 exploreP:0.5738\n",
      "Episode:298 meanR:16.2500 R:14.0000 gloss:-4.1793 dloss:16.0039 exploreP:0.5730\n",
      "Episode:299 meanR:16.3000 R:16.0000 gloss:-4.2758 dloss:16.3896 exploreP:0.5720\n",
      "Episode:300 meanR:16.2800 R:10.0000 gloss:-4.2311 dloss:16.0675 exploreP:0.5715\n",
      "Episode:301 meanR:16.1000 R:11.0000 gloss:-4.3611 dloss:17.9984 exploreP:0.5708\n",
      "Episode:302 meanR:16.0800 R:11.0000 gloss:-4.3377 dloss:16.6727 exploreP:0.5702\n",
      "Episode:303 meanR:16.1100 R:13.0000 gloss:-4.4516 dloss:17.7331 exploreP:0.5695\n",
      "Episode:304 meanR:16.0600 R:14.0000 gloss:-4.3285 dloss:16.5725 exploreP:0.5687\n",
      "Episode:305 meanR:16.0300 R:14.0000 gloss:-4.4585 dloss:17.1604 exploreP:0.5679\n",
      "Episode:306 meanR:16.0100 R:12.0000 gloss:-4.5414 dloss:18.9447 exploreP:0.5672\n",
      "Episode:307 meanR:15.9200 R:9.0000 gloss:-4.5054 dloss:18.5238 exploreP:0.5667\n",
      "Episode:308 meanR:15.8100 R:13.0000 gloss:-4.6060 dloss:17.9289 exploreP:0.5660\n",
      "Episode:309 meanR:15.8100 R:14.0000 gloss:-4.5233 dloss:18.2686 exploreP:0.5652\n",
      "Episode:310 meanR:15.8400 R:18.0000 gloss:-4.5952 dloss:19.1191 exploreP:0.5642\n",
      "Episode:311 meanR:15.7600 R:10.0000 gloss:-4.5805 dloss:18.9139 exploreP:0.5636\n",
      "Episode:312 meanR:15.7600 R:15.0000 gloss:-4.6280 dloss:19.2721 exploreP:0.5627\n",
      "Episode:313 meanR:15.6100 R:14.0000 gloss:-4.6995 dloss:19.5979 exploreP:0.5620\n"
     ]
    },
    {
     "name": "stdout",
     "output_type": "stream",
     "text": [
      "Episode:314 meanR:15.6300 R:12.0000 gloss:-4.7236 dloss:19.6362 exploreP:0.5613\n",
      "Episode:315 meanR:15.6100 R:9.0000 gloss:-4.8051 dloss:20.6231 exploreP:0.5608\n",
      "Episode:316 meanR:15.6200 R:12.0000 gloss:-4.7572 dloss:20.6636 exploreP:0.5601\n",
      "Episode:317 meanR:15.5900 R:10.0000 gloss:-4.8292 dloss:21.3820 exploreP:0.5596\n",
      "Episode:318 meanR:15.5800 R:12.0000 gloss:-4.8252 dloss:20.9067 exploreP:0.5589\n",
      "Episode:319 meanR:15.5500 R:13.0000 gloss:-4.8063 dloss:21.7294 exploreP:0.5582\n",
      "Episode:320 meanR:15.4900 R:13.0000 gloss:-4.9549 dloss:22.3808 exploreP:0.5574\n",
      "Episode:321 meanR:15.4500 R:10.0000 gloss:-4.9366 dloss:22.0884 exploreP:0.5569\n",
      "Episode:322 meanR:15.2800 R:10.0000 gloss:-4.9248 dloss:22.0638 exploreP:0.5563\n",
      "Episode:323 meanR:15.2700 R:12.0000 gloss:-4.9965 dloss:22.0624 exploreP:0.5557\n",
      "Episode:324 meanR:15.3300 R:22.0000 gloss:-5.0180 dloss:22.2611 exploreP:0.5544\n",
      "Episode:325 meanR:15.2200 R:11.0000 gloss:-5.0824 dloss:22.9231 exploreP:0.5538\n",
      "Episode:326 meanR:15.2600 R:12.0000 gloss:-5.1130 dloss:23.5507 exploreP:0.5532\n",
      "Episode:327 meanR:15.2800 R:14.0000 gloss:-5.0634 dloss:23.0389 exploreP:0.5524\n",
      "Episode:328 meanR:15.3200 R:14.0000 gloss:-5.2331 dloss:23.6645 exploreP:0.5516\n",
      "Episode:329 meanR:15.2300 R:12.0000 gloss:-5.2663 dloss:24.1590 exploreP:0.5510\n",
      "Episode:330 meanR:15.1400 R:14.0000 gloss:-5.2834 dloss:24.8245 exploreP:0.5502\n",
      "Episode:331 meanR:15.1400 R:9.0000 gloss:-5.2883 dloss:25.3050 exploreP:0.5497\n",
      "Episode:332 meanR:15.0200 R:14.0000 gloss:-5.4051 dloss:25.0338 exploreP:0.5489\n",
      "Episode:333 meanR:14.9200 R:9.0000 gloss:-5.4308 dloss:26.3660 exploreP:0.5484\n",
      "Episode:334 meanR:14.7900 R:17.0000 gloss:-5.4240 dloss:26.0840 exploreP:0.5475\n",
      "Episode:335 meanR:14.7800 R:13.0000 gloss:-5.4305 dloss:25.4755 exploreP:0.5468\n",
      "Episode:336 meanR:14.4800 R:10.0000 gloss:-5.4284 dloss:25.8446 exploreP:0.5463\n",
      "Episode:337 meanR:14.4500 R:13.0000 gloss:-5.4659 dloss:26.0276 exploreP:0.5455\n",
      "Episode:338 meanR:14.4700 R:13.0000 gloss:-5.5343 dloss:27.1480 exploreP:0.5448\n",
      "Episode:339 meanR:14.4500 R:13.0000 gloss:-5.5778 dloss:26.7435 exploreP:0.5441\n",
      "Episode:340 meanR:14.4100 R:16.0000 gloss:-5.6541 dloss:27.8736 exploreP:0.5433\n",
      "Episode:341 meanR:14.4000 R:14.0000 gloss:-5.7833 dloss:28.6530 exploreP:0.5425\n",
      "Episode:342 meanR:14.3900 R:15.0000 gloss:-5.7031 dloss:28.0031 exploreP:0.5417\n",
      "Episode:343 meanR:14.1000 R:12.0000 gloss:-5.7709 dloss:29.1750 exploreP:0.5410\n"
     ]
    }
   ],
   "source": [
    "# Save/load the model and save for plotting\n",
    "saver = tf.train.Saver()\n",
    "episode_rewards_list = [] # goal\n",
    "rewards_list, gloss_list, dloss_list = [], [], []\n",
    "\n",
    "# TF session for training\n",
    "with tf.Session(graph=graph) as sess:\n",
    "    sess.run(tf.global_variables_initializer())\n",
    "    #saver.restore(sess, 'checkpoints/model.ckpt')    \n",
    "    #saver.restore(sess, tf.train.latest_checkpoint('checkpoints'))\n",
    "    total_step = 0 # Explore or exploit parameter\n",
    "    episode_reward = deque(maxlen=100) # 100 episodes average/running average/running mean/window\n",
    "\n",
    "    # Training episodes/epochs\n",
    "    for ep in range(11111):\n",
    "        total_reward = 0 # success rate\n",
    "        gloss_batch, dloss_batch= [], []\n",
    "        state = env.reset()\n",
    "\n",
    "        # Training steps/batches\n",
    "        while True:\n",
    "            # Explore (Env) or Exploit (Model)\n",
    "            total_step += 1\n",
    "            explore_p = explore_stop + (explore_start - explore_stop) * np.exp(-decay_rate * total_step) \n",
    "            if explore_p > np.random.rand():\n",
    "                action = env.action_space.sample()\n",
    "            else:\n",
    "                action_logits = sess.run(model.actions_logits, feed_dict={model.states: state.reshape([1, -1])})\n",
    "                action = np.argmax(action_logits) # adding epsilon*noise\n",
    "            next_state, reward, done, _ = env.step(action)\n",
    "            memory.buffer.append([state, action, next_state, reward, float(done)])\n",
    "            total_reward += reward\n",
    "            state = next_state\n",
    "\n",
    "            # Training\n",
    "            batch = memory.sample(batch_size)\n",
    "            states = np.array([each[0] for each in batch])\n",
    "            actions = np.array([each[1] for each in batch])\n",
    "            next_states = np.array([each[2] for each in batch])\n",
    "            rewards = np.array([each[3] for each in batch])\n",
    "            dones = np.array([each[4] for each in batch])\n",
    "            nextQs_logits = sess.run(model.Qs_logits, feed_dict = {model.states: next_states})\n",
    "            #nextQs = np.max(nextQs_logits, axis=1) * (1-dones)\n",
    "            nextQs = nextQs_logits.reshape([-1]) * (1-dones)\n",
    "            targetQs = rewards + (gamma * nextQs)\n",
    "            gloss, dloss, _, _ = sess.run([model.g_loss, model.d_loss, model.g_opt, model.d_opt],\n",
    "                                           feed_dict = {model.states: states, \n",
    "                                                        model.actions: actions,\n",
    "                                                        model.targetQs: targetQs})\n",
    "            gloss_batch.append(gloss)\n",
    "            dloss_batch.append(dloss)\n",
    "            if done is True:\n",
    "                break\n",
    "                \n",
    "        episode_reward.append(total_reward)\n",
    "        print('Episode:{}'.format(ep),\n",
    "              'meanR:{:.4f}'.format(np.mean(episode_reward)),\n",
    "              'R:{:.4f}'.format(total_reward),\n",
    "              'gloss:{:.4f}'.format(np.mean(gloss_batch)),\n",
    "              'dloss:{:.4f}'.format(np.mean(dloss_batch)),\n",
    "              'exploreP:{:.4f}'.format(explore_p))\n",
    "\n",
    "        # Ploting out\n",
    "        episode_rewards_list.append([ep, np.mean(episode_reward)])\n",
    "        rewards_list.append([ep, total_reward])\n",
    "        gloss_list.append([ep, np.mean(gloss_batch)])\n",
    "        dloss_list.append([ep, np.mean(dloss_batch)])\n",
    "        \n",
    "        # Break episode/epoch loop\n",
    "        ## Option 1: Solve the First Version\n",
    "        #The task is episodic, and in order to solve the environment, \n",
    "        #your agent must get an average score of +30 over 100 consecutive episodes.\n",
    "        if np.mean(episode_reward) >= 500:\n",
    "            break\n",
    "            \n",
    "    # At the end of all training episodes/epochs\n",
    "    saver.save(sess, 'checkpoints/model.ckpt')"
   ]
  },
  {
   "cell_type": "markdown",
   "metadata": {},
   "source": [
    "# Visualizing training\n",
    "\n",
    "Below I'll plot the total rewards for each episode. I'm plotting the rolling average too, in blue."
   ]
  },
  {
   "cell_type": "code",
   "execution_count": 40,
   "metadata": {},
   "outputs": [],
   "source": [
    "import matplotlib.pyplot as plt\n",
    "%matplotlib inline\n",
    "\n",
    "def running_mean(x, N):\n",
    "    cumsum = np.cumsum(np.insert(x, 0, 0)) \n",
    "    return (cumsum[N:] - cumsum[:-N]) / N "
   ]
  },
  {
   "cell_type": "code",
   "execution_count": 41,
   "metadata": {},
   "outputs": [
    {
     "data": {
      "text/plain": [
       "Text(0,0.5,'Total rewards')"
      ]
     },
     "execution_count": 41,
     "metadata": {},
     "output_type": "execute_result"
    },
    {
     "data": {
      "image/png": "[encoded data removed]",
      "text/plain": [
       "<Figure size 432x288 with 1 Axes>"
      ]
     },
     "metadata": {},
     "output_type": "display_data"
    }
   ],
   "source": [
    "eps, arr = np.array(episode_rewards_list).T\n",
    "smoothed_arr = running_mean(arr, 10)\n",
    "plt.plot(eps[-len(smoothed_arr):], smoothed_arr)\n",
    "plt.plot(eps, arr, color='grey', alpha=0.3)\n",
    "plt.xlabel('Episode')\n",
    "plt.ylabel('Total rewards')"
   ]
  },
  {
   "cell_type": "code",
   "execution_count": 42,
   "metadata": {},
   "outputs": [
    {
     "data": {
      "text/plain": [
       "Text(0,0.5,'Total rewards')"
      ]
     },
     "execution_count": 42,
     "metadata": {},
     "output_type": "execute_result"
    },
    {
     "data": {
      "image/png": "[encoded data removed]",
      "text/plain": [
       "<Figure size 432x288 with 1 Axes>"
      ]
     },
     "metadata": {},
     "output_type": "display_data"
    }
   ],
   "source": [
    "eps, arr = np.array(rewards_list).T\n",
    "smoothed_arr = running_mean(arr, 10)\n",
    "plt.plot(eps[-len(smoothed_arr):], smoothed_arr)\n",
    "plt.plot(eps, arr, color='grey', alpha=0.3)\n",
    "plt.xlabel('Episode')\n",
    "plt.ylabel('Total rewards')"
   ]
  },
  {
   "cell_type": "code",
   "execution_count": 43,
   "metadata": {},
   "outputs": [
    {
     "data": {
      "text/plain": [
       "Text(0,0.5,'G losses')"
      ]
     },
     "execution_count": 43,
     "metadata": {},
     "output_type": "execute_result"
    },
    {
     "data": {
      "image/png": "[encoded data removed]",
      "text/plain": [
       "<Figure size 432x288 with 1 Axes>"
      ]
     },
     "metadata": {},
     "output_type": "display_data"
    }
   ],
   "source": [
    "eps, arr = np.array(gloss_list).T\n",
    "smoothed_arr = running_mean(arr, 10)\n",
    "plt.plot(eps[-len(smoothed_arr):], smoothed_arr)\n",
    "plt.plot(eps, arr, color='grey', alpha=0.3)\n",
    "plt.xlabel('Episode')\n",
    "plt.ylabel('G losses')"
   ]
  },
  {
   "cell_type": "code",
   "execution_count": 44,
   "metadata": {},
   "outputs": [
    {
     "data": {
      "text/plain": [
       "Text(0,0.5,'D losses')"
      ]
     },
     "execution_count": 44,
     "metadata": {},
     "output_type": "execute_result"
    },
    {
     "data": {
      "image/png": "[encoded data removed]",
      "text/plain": [
       "<Figure size 432x288 with 1 Axes>"
      ]
     },
     "metadata": {},
     "output_type": "display_data"
    }
   ],
   "source": [
    "eps, arr = np.array(dloss_list).T\n",
    "smoothed_arr = running_mean(arr, 10)\n",
    "plt.plot(eps[-len(smoothed_arr):], smoothed_arr)\n",
    "plt.plot(eps, arr, color='grey', alpha=0.3)\n",
    "plt.xlabel('Episode')\n",
    "plt.ylabel('D losses')"
   ]
  },
  {
   "cell_type": "markdown",
   "metadata": {},
   "source": [
    "## Testing\n",
    "\n",
    "Let's checkout how our trained agent plays the game."
   ]
  },
  {
   "cell_type": "code",
   "execution_count": 36,
   "metadata": {},
   "outputs": [
    {
     "name": "stdout",
     "output_type": "stream",
     "text": [
      "\u001b[33mWARN: gym.spaces.Box autodetected dtype as <class 'numpy.float32'>. Please provide explicit dtype.\u001b[0m\n",
      "\u001b[33mWARN: gym.spaces.Box autodetected dtype as <class 'numpy.float32'>. Please provide explicit dtype.\u001b[0m\n",
      "INFO:tensorflow:Restoring parameters from checkpoints/model.ckpt\n"
     ]
    },
    {
     "name": "stderr",
     "output_type": "stream",
     "text": [
      "/home/arasdar/anaconda3/envs/env/lib/python3.6/site-packages/gym/__init__.py:22: UserWarning: DEPRECATION WARNING: to improve load times, gym no longer automatically loads gym.spaces. Please run \"import gym.spaces\" to load gym.spaces on your own. This warning will turn into an error in a future version of gym.\n",
      "  warnings.warn('DEPRECATION WARNING: to improve load times, gym no longer automatically loads gym.spaces. Please run \"import gym.spaces\" to load gym.spaces on your own. This warning will turn into an error in a future version of gym.')\n"
     ]
    },
    {
     "name": "stdout",
     "output_type": "stream",
     "text": [
      "total_reward: 500.0\n"
     ]
    }
   ],
   "source": [
    "import gym\n",
    "env = gym.make('CartPole-v0')\n",
    "env = gym.make('CartPole-v1')\n",
    "# env = gym.make('Acrobot-v1')\n",
    "# env = gym.make('MountainCar-v0')\n",
    "# env = gym.make('Pendulum-v0')\n",
    "# env = gym.make('Blackjack-v0')\n",
    "# env = gym.make('FrozenLake-v0')\n",
    "# env = gym.make('AirRaid-ram-v0')\n",
    "# env = gym.make('AirRaid-v0')\n",
    "# env = gym.make('BipedalWalker-v2')\n",
    "# env = gym.make('Copy-v0')\n",
    "# env = gym.make('CarRacing-v0')\n",
    "# env = gym.make('Ant-v2') #mujoco\n",
    "# env = gym.make('FetchPickAndPlace-v1') # mujoco required!\n",
    "\n",
    "with tf.Session() as sess:\n",
    "    sess.run(tf.global_variables_initializer())\n",
    "    saver.restore(sess, 'checkpoints/model.ckpt')    \n",
    "    #saver.restore(sess, tf.train.latest_checkpoint('checkpoints'))\n",
    "    \n",
    "    # Episodes/epochs\n",
    "    for _ in range(1):\n",
    "        state = env.reset()\n",
    "        total_reward = 0\n",
    "\n",
    "        # Steps/batches\n",
    "        while True:\n",
    "            env.render()\n",
    "            action_logits = sess.run(model.actions_logits, feed_dict={model.states: state.reshape([1, -1])})\n",
    "            action = np.argmax(action_logits)\n",
    "            state, reward, done, _ = env.step(action)\n",
    "            total_reward += reward\n",
    "            if done:\n",
    "                print('total_reward: {}'.format(total_reward))\n",
    "                break\n",
    "                \n",
    "env.close()"
   ]
  },
  {
   "cell_type": "markdown",
   "metadata": {},
   "source": [
    "## Extending this\n",
    "\n",
    "So, Cart-Pole is a pretty simple game. However, the same model can be used to train an agent to play something much more complicated like Pong or Space Invaders. Instead of a state like we're using here though, you'd want to use convolutional layers to get the state from the screen images.\n",
    "\n",
    "![Deep Q-Learning Atari](assets/atari-network.png)\n",
    "\n",
    "I'll leave it as a challenge for you to use deep Q-learning to train an agent to play Atari games. Here's the original paper which will get you started: http://www.davidqiu.com:8888/research/nature14236.pdf."
   ]
  },
  {
   "cell_type": "code",
   "execution_count": null,
   "metadata": {},
   "outputs": [],
   "source": []
  }
 ],
 "metadata": {
  "kernelspec": {
   "display_name": "Python 3",
   "language": "python",
   "name": "python3"
  },
  "language_info": {
   "codemirror_mode": {
    "name": "ipython",
    "version": 3
   },
   "file_extension": ".py",
   "mimetype": "text/x-python",
   "name": "python",
   "nbconvert_exporter": "python",
   "pygments_lexer": "ipython3",
   "version": "3.6.5"
  }
 },
 "nbformat": 4,
 "nbformat_minor": 2
}
