{
 "cells": [
  {
   "cell_type": "markdown",
   "metadata": {},
   "source": [
    "# DQN for continuous action space\n",
    "\n",
    "\n",
    "In this notebook, we'll build a neural network that can learn to play games through reinforcement learning. More specifically, we'll use Q-learning to train an agent to play a game called [Cart-Pole](https://gym.openai.com/envs/CartPole-v0). In this game, a freely swinging pole is attached to a cart. The cart can move to the left and right, and the goal is to keep the pole upright as long as possible.\n",
    "\n",
    "![Cart-Pole](assets/cart-pole.jpg)\n",
    "\n",
    "We can simulate this game using [OpenAI Gym](https://gym.openai.com/). First, let's check out how OpenAI Gym works. Then, we'll get into training an agent to play the Cart-Pole game."
   ]
  },
  {
   "cell_type": "code",
   "execution_count": 1,
   "metadata": {},
   "outputs": [
    {
     "name": "stdout",
     "output_type": "stream",
     "text": [
      "TensorFlow Version: 1.7.1\n",
      "Default GPU Device: \n"
     ]
    }
   ],
   "source": [
    "# In this one we should define and detect GPUs for tensorflow\n",
    "# GPUs or CPU\n",
    "import tensorflow as tf\n",
    "\n",
    "# Check TensorFlow Version\n",
    "print('TensorFlow Version: {}'.format(tf.__version__))\n",
    "\n",
    "# Check for a GPU\n",
    "print('Default GPU Device: {}'.format(tf.test.gpu_device_name()))"
   ]
  },
  {
   "cell_type": "markdown",
   "metadata": {},
   "source": [
    ">**Note:** Make sure you have OpenAI Gym cloned into the same directory with this notebook. I've included `gym` as a submodule, so you can run `git submodule --init --recursive` to pull the contents into the `gym` repo."
   ]
  },
  {
   "cell_type": "markdown",
   "metadata": {},
   "source": [
    "##### >**Note:** Make sure you have OpenAI Gym cloned. Then run this command `pip install -e gym/[all]`."
   ]
  },
  {
   "cell_type": "code",
   "execution_count": 2,
   "metadata": {},
   "outputs": [],
   "source": [
    "import gym\n",
    "\n",
    "## Create the Cart-Pole game environment\n",
    "env = gym.make('CartPole-v0')\n",
    "env = gym.make('CartPole-v1')\n",
    "# env = gym.make('Acrobot-v1')\n",
    "# env = gym.make('MountainCar-v0')\n",
    "# env = gym.make('MountainCarContinuous-v0')\n",
    "# env = gym.make('Pendulum-v0')\n",
    "# env = gym.make('Blackjack-v0')\n",
    "# env = gym.make('FrozenLake-v0')\n",
    "# env = gym.make('AirRaid-ram-v0')\n",
    "# env = gym.make('AirRaid-v0')\n",
    "# env = gym.make('BipedalWalker-v2')\n",
    "# env = gym.make('Copy-v0')\n",
    "# env = gym.make('CarRacing-v0')\n",
    "# env = gym.make('Ant-v2') #mujoco\n",
    "# env = gym.make('FetchPickAndPlace-v1') # mujoco required!"
   ]
  },
  {
   "cell_type": "markdown",
   "metadata": {},
   "source": [
    "We interact with the simulation through `env`. To show the simulation running, you can use `env.render()` to render one frame. Passing in an action as an integer to `env.step` will generate the next step in the simulation.  You can see how many actions are possible from `env.action_space` and to get a random action you can use `env.action_space.sample()`. This is general to all Gym games. In the Cart-Pole game, there are two possible actions, moving the cart left or right. So there are two actions we can take, encoded as 0 and 1.\n",
    "\n",
    "Run the code below to watch the simulation run."
   ]
  },
  {
   "cell_type": "code",
   "execution_count": 3,
   "metadata": {},
   "outputs": [],
   "source": [
    "env.reset()\n",
    "batch = []\n",
    "for _ in range(1111):\n",
    "    #env.render()\n",
    "    action = env.action_space.sample()\n",
    "    state, reward, done, info = env.step(action) # take a random action\n",
    "    batch.append([action, state, reward, done, info])\n",
    "    #print('state, action, reward, done, info:', state, action, reward, done, info)\n",
    "    if done:\n",
    "        env.reset()"
   ]
  },
  {
   "cell_type": "markdown",
   "metadata": {},
   "source": [
    "To shut the window showing the simulation, use `env.close()`."
   ]
  },
  {
   "cell_type": "code",
   "execution_count": 4,
   "metadata": {},
   "outputs": [],
   "source": [
    "# env.close()"
   ]
  },
  {
   "cell_type": "markdown",
   "metadata": {},
   "source": [
    "If you ran the simulation above, we can look at the rewards:"
   ]
  },
  {
   "cell_type": "code",
   "execution_count": 5,
   "metadata": {},
   "outputs": [
    {
     "data": {
      "text/plain": [
       "((4,), (4,))"
      ]
     },
     "execution_count": 5,
     "metadata": {},
     "output_type": "execute_result"
    }
   ],
   "source": [
    "batch[0], \n",
    "batch[0][1].shape, state.shape"
   ]
  },
  {
   "cell_type": "code",
   "execution_count": 6,
   "metadata": {},
   "outputs": [],
   "source": [
    "import numpy as np\n",
    "actions = np.array([each[0] for each in batch])\n",
    "states = np.array([each[1] for each in batch])\n",
    "rewards = np.array([each[2] for each in batch])\n",
    "dones = np.array([each[3] for each in batch])\n",
    "infos = np.array([each[4] for each in batch])"
   ]
  },
  {
   "cell_type": "code",
   "execution_count": 7,
   "metadata": {},
   "outputs": [
    {
     "name": "stdout",
     "output_type": "stream",
     "text": [
      "shapes: (1111,) (1111, 4) (1111,) (1111,)\n",
      "dtypes: float64 float64 int64 bool\n",
      "states: 2.821082861555377 -2.692583012889245\n",
      "actions: 1 0\n",
      "rewards: 1.0 1.0\n"
     ]
    }
   ],
   "source": [
    "# print(rewards[-20:])\n",
    "print('shapes:', np.array(rewards).shape, np.array(states).shape, np.array(actions).shape, np.array(dones).shape)\n",
    "print('dtypes:', np.array(rewards).dtype, np.array(states).dtype, np.array(actions).dtype, np.array(dones).dtype)\n",
    "print('states:', np.max(np.array(states)), np.min(np.array(states)))\n",
    "print('actions:', np.max(np.array(actions)), np.min(np.array(actions)))\n",
    "# print((np.max(np.array(actions)) - np.min(np.array(actions)))+1)\n",
    "print('rewards:', np.max(np.array(rewards)), np.min(np.array(rewards)))"
   ]
  },
  {
   "cell_type": "code",
   "execution_count": 8,
   "metadata": {},
   "outputs": [
    {
     "data": {
      "text/plain": [
       "array([0, 1, 1, 0, 1, 1, 1, 1, 1, 1])"
      ]
     },
     "execution_count": 8,
     "metadata": {},
     "output_type": "execute_result"
    }
   ],
   "source": [
    "actions[:10]"
   ]
  },
  {
   "cell_type": "code",
   "execution_count": 9,
   "metadata": {},
   "outputs": [
    {
     "data": {
      "text/plain": [
       "array([1., 1., 1., 1., 1., 1., 1., 1., 1., 1.])"
      ]
     },
     "execution_count": 9,
     "metadata": {},
     "output_type": "execute_result"
    }
   ],
   "source": [
    "rewards[:10]"
   ]
  },
  {
   "cell_type": "code",
   "execution_count": 10,
   "metadata": {},
   "outputs": [],
   "source": [
    "# import numpy as np\n",
    "def sigmoid(x, derivative=False):\n",
    "  return x*(1-x) if derivative else 1/(1+np.exp(-x))"
   ]
  },
  {
   "cell_type": "code",
   "execution_count": 11,
   "metadata": {},
   "outputs": [
    {
     "data": {
      "text/plain": [
       "(0.7310585786300049, 0.7310585786300049)"
      ]
     },
     "execution_count": 11,
     "metadata": {},
     "output_type": "execute_result"
    }
   ],
   "source": [
    "sigmoid(np.max(np.array(rewards))), sigmoid(np.min(np.array(rewards)))"
   ]
  },
  {
   "cell_type": "code",
   "execution_count": 12,
   "metadata": {},
   "outputs": [
    {
     "name": "stdout",
     "output_type": "stream",
     "text": [
      "rewards: 0.01 0.01\n"
     ]
    }
   ],
   "source": [
    "print('rewards:', np.max(np.array(rewards))/100, np.min(np.array(rewards))/100)"
   ]
  },
  {
   "cell_type": "markdown",
   "metadata": {},
   "source": [
    "The game resets after the pole has fallen past a certain angle. For each frame while the simulation is running, it returns a reward of 1.0. The longer the game runs, the more reward we get. Then, our network's goal is to maximize the reward by keeping the pole vertical. It will do this by moving the cart to the left and the right."
   ]
  },
  {
   "cell_type": "markdown",
   "metadata": {},
   "source": [
    "## Q-Network\n",
    "\n",
    "We train our Q-learning agent using the Bellman Equation:\n",
    "\n",
    "$$\n",
    "Q(s, a) = r + \\gamma \\max{Q(s', a')}\n",
    "$$\n",
    "\n",
    "where $s$ is a state, $a$ is an action, and $s'$ is the next state from state $s$ and action $a$.\n",
    "\n",
    "Before we used this equation to learn values for a Q-_table_. However, for this game there are a huge number of states available. The state has four values: the position and velocity of the cart, and the position and velocity of the pole. These are all real-valued numbers, so ignoring floating point precisions, you practically have infinite states. Instead of using a table then, we'll replace it with a neural network that will approximate the Q-table lookup function.\n",
    "\n",
    "<img src=\"assets/deep-q-learning.png\" width=450px>\n",
    "\n",
    "Now, our Q value, $Q(s, a)$ is calculated by passing in a state to the network. The output will be Q-values for each available action, with fully connected hidden layers.\n",
    "\n",
    "<img src=\"assets/q-network.png\" width=550px>\n",
    "\n",
    "\n",
    "As I showed before, we can define our targets for training as $\\hat{Q}(s,a) = r + \\gamma \\max{Q(s', a')}$. Then we update the weights by minimizing $(\\hat{Q}(s,a) - Q(s,a))^2$. \n",
    "\n",
    "For this Cart-Pole game, we have four inputs, one for each value in the state, and two outputs, one for each action. To get $\\hat{Q}$, we'll first choose an action, then simulate the game using that action. This will get us the next state, $s'$, and the reward. With that, we can calculate $\\hat{Q}$ then pass it back into the $Q$ network to run the optimizer and update the weights.\n",
    "\n",
    "Below is my implementation of the Q-network. I used two fully connected layers with ReLU activations. Two seems to be good enough, three might be better. Feel free to try it out."
   ]
  },
  {
   "cell_type": "code",
   "execution_count": 13,
   "metadata": {},
   "outputs": [],
   "source": [
    "def model_input(state_size):\n",
    "    #states = tf.placeholder(tf.float32, [None, *state_size], name='states')\n",
    "    states = tf.placeholder(tf.float64, [None, state_size], name='states')\n",
    "    actions = tf.placeholder(tf.int32, [None], name='actions')\n",
    "    targetQs = tf.placeholder(tf.float64, [None], name='targetQs')\n",
    "    return states, actions, targetQs"
   ]
  },
  {
   "cell_type": "code",
   "execution_count": 14,
   "metadata": {},
   "outputs": [],
   "source": [
    "# Generator/Controller: Generating/prediting the actions\n",
    "def generator(states, action_size, hidden_size, reuse=False, alpha=0.1, training=False):\n",
    "    with tf.variable_scope('generator', reuse=reuse):\n",
    "        # First fully connected layer\n",
    "        h1 = tf.layers.dense(inputs=states, units=hidden_size)\n",
    "        bn1 = tf.layers.batch_normalization(h1, training=training)        \n",
    "        nl1 = tf.maximum(alpha * bn1, bn1)\n",
    "        \n",
    "        # Second fully connected layer\n",
    "        h2 = tf.layers.dense(inputs=nl1, units=hidden_size)\n",
    "        bn2 = tf.layers.batch_normalization(h2, training=training)        \n",
    "        nl2 = tf.maximum(alpha * bn2, bn2)\n",
    "        \n",
    "        # Output layer\n",
    "        logits = tf.layers.dense(inputs=nl2, units=action_size)        \n",
    "        #predictions = tf.nn.softmax(logits)\n",
    "\n",
    "        # return actions logits\n",
    "        return logits"
   ]
  },
  {
   "cell_type": "code",
   "execution_count": 15,
   "metadata": {},
   "outputs": [],
   "source": [
    "# Discriminator/Dopamine: Reward function/planner/naviator/advisor/supervisor/cortical columns\n",
    "def discriminator(states, actions, hidden_size, reuse=False, alpha=0.1, training=False):\n",
    "    with tf.variable_scope('discriminator', reuse=reuse):\n",
    "        # Fusion/merge states and actions/ SA/ SM\n",
    "        x_fused = tf.concat(axis=1, values=[states, actions])\n",
    "        \n",
    "        # First fully connected layer\n",
    "        h1 = tf.layers.dense(inputs=x_fused, units=hidden_size)\n",
    "        bn1 = tf.layers.batch_normalization(h1, training=training)        \n",
    "        nl1 = tf.maximum(alpha * bn1, bn1)\n",
    "        \n",
    "        # Second fully connected layer\n",
    "        h2 = tf.layers.dense(inputs=nl1, units=hidden_size)\n",
    "        bn2 = tf.layers.batch_normalization(h2, training=training)        \n",
    "        nl2 = tf.maximum(alpha * bn2, bn2)\n",
    "        \n",
    "        # Output layer\n",
    "        logits = tf.layers.dense(inputs=nl2, units=1)        \n",
    "        #predictions = tf.nn.softmax(logits)\n",
    "\n",
    "        # return rewards logits\n",
    "        return logits"
   ]
  },
  {
   "cell_type": "code",
   "execution_count": 17,
   "metadata": {},
   "outputs": [],
   "source": [
    "def model_loss(action_size, hidden_size, states, actions, targetQs):\n",
    "    actions_logits = generator(states=states, hidden_size=hidden_size, action_size=action_size)\n",
    "    actions_labels = tf.one_hot(indices=actions, depth=action_size, dtype=actions_logits.dtype)\n",
    "    neg_log_prob_actions = tf.nn.softmax_cross_entropy_with_logits_v2(logits=actions_logits, \n",
    "                                                                      labels=actions_labels)\n",
    "    Qs = discriminator(actions=actions_logits, hidden_size=hidden_size, states=states) # nextQs\n",
    "    targetQs = tf.reshape(targetQs, shape=[-1, 1])\n",
    "    gloss = tf.reduce_mean(neg_log_prob_actions * targetQs) # DPG\n",
    "    #dloss = tf.reduce_mean(tf.square(Qs - targetQs)) # DQN\n",
    "    dloss = tf.nn.sigmoid_cross_entropy_with_logits(logits=Qs,\n",
    "                                                    labels=tf.nn.sigmoid(targetQs))\n",
    "    dQs = discriminator(actions=actions_labels, hidden_size=hidden_size, states=states, reuse=True) # Qs\n",
    "    dloss += tf.nn.sigmoid_cross_entropy_with_logits(logits=dQs,\n",
    "                                                     labels=tf.nn.sigmoid(targetQs))\n",
    "    gloss1 = tf.reduce_mean(neg_log_prob_actions)\n",
    "    gloss2 = tf.reduce_mean(Qs)\n",
    "    gloss3 = tf.reduce_mean(dQs)\n",
    "    gloss4 = tf.reduce_mean(targetQs)\n",
    "    return actions_logits, Qs, gloss, dloss, gloss1, gloss2, gloss3, gloss4"
   ]
  },
  {
   "cell_type": "code",
   "execution_count": 18,
   "metadata": {},
   "outputs": [],
   "source": [
    "# Optimizating/training/learning G & D\n",
    "def model_opt(g_loss, d_loss, learning_rate):\n",
    "    # Get weights and bias to update\n",
    "    t_vars = tf.trainable_variables()\n",
    "    g_vars = [var for var in t_vars if var.name.startswith('generator')]\n",
    "    d_vars = [var for var in t_vars if var.name.startswith('discriminator')]\n",
    "\n",
    "    # Optimize\n",
    "    with tf.control_dependencies(tf.get_collection(tf.GraphKeys.UPDATE_OPS)): # Required for batchnorm (BN)\n",
    "        g_opt = tf.train.AdamOptimizer(learning_rate).minimize(g_loss, var_list=g_vars)\n",
    "        d_opt = tf.train.AdamOptimizer(learning_rate).minimize(d_loss, var_list=d_vars)\n",
    "\n",
    "    return g_opt, d_opt"
   ]
  },
  {
   "cell_type": "code",
   "execution_count": 19,
   "metadata": {},
   "outputs": [],
   "source": [
    "class Model:\n",
    "    def __init__(self, state_size, action_size, hidden_size, learning_rate):\n",
    "\n",
    "        # Data of the Model: make the data available inside the framework\n",
    "        self.states, self.actions, self.targetQs = model_input(state_size=state_size)\n",
    "\n",
    "        # Create the Model: calculating the loss and forwad pass\n",
    "        self.actions_logits, self.Qs_logits, self.g_loss, self.d_loss, self.g_loss1, self.g_loss2, self.g_loss3, self.g_loss4 = model_loss(\n",
    "            action_size=action_size, hidden_size=hidden_size, # model init parameters\n",
    "            states=self.states, actions=self.actions, targetQs=self.targetQs) # model input\n",
    "        \n",
    "        # Update the model: backward pass and backprop\n",
    "        self.g_opt, self.d_opt = model_opt(g_loss=self.g_loss, d_loss=self.d_loss, learning_rate=learning_rate)"
   ]
  },
  {
   "cell_type": "code",
   "execution_count": 20,
   "metadata": {},
   "outputs": [],
   "source": [
    "from collections import deque\n",
    "class Memory():\n",
    "    def __init__(self, max_size = 1000):\n",
    "        self.buffer = deque(maxlen=max_size)\n",
    "    def sample(self, batch_size):\n",
    "        idx = np.random.choice(np.arange(len(self.buffer)), \n",
    "                               size=batch_size, \n",
    "                               replace=False)\n",
    "        return [self.buffer[ii] for ii in idx]"
   ]
  },
  {
   "cell_type": "markdown",
   "metadata": {},
   "source": [
    "## Hyperparameters\n",
    "\n",
    "One of the more difficult aspects of reinforcememt learning are the large number of hyperparameters. Not only are we tuning the network, but we're tuning the simulation."
   ]
  },
  {
   "cell_type": "code",
   "execution_count": 21,
   "metadata": {},
   "outputs": [
    {
     "name": "stdout",
     "output_type": "stream",
     "text": [
      "state size:(1111, 4) actions:(1111,)\n",
      "action size:2\n"
     ]
    }
   ],
   "source": [
    "print('state size:{}'.format(states.shape), \n",
    "      'actions:{}'.format(actions.shape)) \n",
    "print('action size:{}'.format(np.max(actions) - np.min(actions)+1))"
   ]
  },
  {
   "cell_type": "code",
   "execution_count": 22,
   "metadata": {},
   "outputs": [],
   "source": [
    "# Exploration parameters\n",
    "explore_start = 1.0            # exploration probability at start\n",
    "explore_stop = 0.01            # minimum exploration probability \n",
    "decay_rate = 0.0001            # exponential decay rate for exploration prob\n",
    "\n",
    "# Network parameters\n",
    "action_size = 2\n",
    "state_size = 4\n",
    "hidden_size = 64               # number of units in each Q-network hidden layer\n",
    "learning_rate = 0.0001         # Q-network learning rate\n",
    "\n",
    "# Memory parameters\n",
    "memory_size = 10000            # memory capacity\n",
    "batch_size = 200                # experience mini-batch size\n",
    "gamma = 0.99                   # future reward discount"
   ]
  },
  {
   "cell_type": "code",
   "execution_count": 23,
   "metadata": {},
   "outputs": [],
   "source": [
    "# Reset/init the graph/session\n",
    "graph = tf.reset_default_graph()\n",
    "\n",
    "# Init the model\n",
    "model = Model(action_size=action_size, state_size=state_size, hidden_size=hidden_size, learning_rate=learning_rate)\n",
    "\n",
    "# Init the memory\n",
    "memory = Memory(max_size=memory_size)"
   ]
  },
  {
   "cell_type": "code",
   "execution_count": 24,
   "metadata": {},
   "outputs": [],
   "source": [
    "state = env.reset()\n",
    "for _ in range(memory_size):\n",
    "    action = env.action_space.sample()\n",
    "    next_state, reward, done, _ = env.step(action)\n",
    "    memory.buffer.append([state, action, next_state, reward, float(done)])\n",
    "    state = next_state\n",
    "    if done is True:\n",
    "        state = env.reset()"
   ]
  },
  {
   "cell_type": "markdown",
   "metadata": {},
   "source": [
    "## Training the model\n",
    "\n",
    "Below we'll train our agent. If you want to watch it train, uncomment the `env.render()` line. This is slow because it's rendering the frames slower than the network can train. But, it's cool to watch the agent get better at the game."
   ]
  },
  {
   "cell_type": "code",
   "execution_count": null,
   "metadata": {},
   "outputs": [
    {
     "name": "stdout",
     "output_type": "stream",
     "text": [
      "Episode:0 Steps:12 meanR:13.0000 R:13.0000 gloss:0.6837 gloss1-lgP:0.6970 gloss2-gQs:-0.0190 gloss3-dQs:0.0373 gloss4-tgtQ:0.9809 dloss:1.3832 exploreP:1.0000\n",
      "Episode:1 Steps:22 meanR:18.0000 R:23.0000 gloss:0.7295 gloss1-lgP:0.6972 gloss2-gQs:0.0486 gloss3-dQs:0.1385 gloss4-tgtQ:1.0464 dloss:1.3446 exploreP:1.0000\n",
      "Episode:2 Steps:19 meanR:18.6667 R:20.0000 gloss:0.7833 gloss1-lgP:0.6938 gloss2-gQs:0.1349 gloss3-dQs:0.2649 gloss4-tgtQ:1.1290 dloss:1.2956 exploreP:1.0000\n",
      "Episode:3 Steps:13 meanR:17.5000 R:14.0000 gloss:0.8341 gloss1-lgP:0.6930 gloss2-gQs:0.2097 gloss3-dQs:0.3721 gloss4-tgtQ:1.2036 dloss:1.2529 exploreP:1.0000\n",
      "Episode:4 Steps:20 meanR:18.2000 R:21.0000 gloss:0.8848 gloss1-lgP:0.6931 gloss2-gQs:0.2900 gloss3-dQs:0.4855 gloss4-tgtQ:1.2767 dloss:1.2087 exploreP:1.0000\n",
      "Episode:5 Steps:24 meanR:19.3333 R:25.0000 gloss:0.9602 gloss1-lgP:0.6933 gloss2-gQs:0.4005 gloss3-dQs:0.6425 gloss4-tgtQ:1.3850 dloss:1.1468 exploreP:1.0000\n",
      "Episode:6 Steps:20 meanR:19.5714 R:21.0000 gloss:1.0372 gloss1-lgP:0.6938 gloss2-gQs:0.5162 gloss3-dQs:0.8003 gloss4-tgtQ:1.4950 dloss:1.0847 exploreP:1.0000\n",
      "Episode:7 Steps:24 meanR:20.2500 R:25.0000 gloss:1.1124 gloss1-lgP:0.6927 gloss2-gQs:0.6366 gloss3-dQs:0.9665 gloss4-tgtQ:1.6059 dloss:1.0233 exploreP:1.0000\n",
      "Episode:8 Steps:25 meanR:20.8889 R:26.0000 gloss:1.1985 gloss1-lgP:0.6926 gloss2-gQs:0.7598 gloss3-dQs:1.1420 gloss4-tgtQ:1.7305 dloss:0.9595 exploreP:1.0000\n",
      "Episode:9 Steps:26 meanR:21.5000 R:27.0000 gloss:1.2997 gloss1-lgP:0.6928 gloss2-gQs:0.9058 gloss3-dQs:1.3364 gloss4-tgtQ:1.8760 dloss:0.8868 exploreP:1.0000\n",
      "Episode:10 Steps:20 meanR:21.4545 R:21.0000 gloss:1.3867 gloss1-lgP:0.6934 gloss2-gQs:1.0465 gloss3-dQs:1.5200 gloss4-tgtQ:2.0001 dloss:0.8282 exploreP:1.0000\n",
      "Episode:11 Steps:9 meanR:20.5000 R:10.0000 gloss:1.4381 gloss1-lgP:0.6926 gloss2-gQs:1.1201 gloss3-dQs:1.6268 gloss4-tgtQ:2.0764 dloss:0.7934 exploreP:1.0000\n",
      "Episode:12 Steps:9 meanR:19.6923 R:10.0000 gloss:1.4846 gloss1-lgP:0.6925 gloss2-gQs:1.1836 gloss3-dQs:1.7040 gloss4-tgtQ:2.1438 dloss:0.7659 exploreP:1.0000\n",
      "Episode:13 Steps:21 meanR:19.8571 R:22.0000 gloss:1.5323 gloss1-lgP:0.6932 gloss2-gQs:1.2762 gloss3-dQs:1.8223 gloss4-tgtQ:2.2104 dloss:0.7371 exploreP:1.0000\n",
      "Episode:14 Steps:19 meanR:19.8667 R:20.0000 gloss:1.6133 gloss1-lgP:0.6926 gloss2-gQs:1.3959 gloss3-dQs:1.9757 gloss4-tgtQ:2.3293 dloss:0.6916 exploreP:1.0000\n",
      "Episode:15 Steps:20 meanR:19.9375 R:21.0000 gloss:1.6890 gloss1-lgP:0.6925 gloss2-gQs:1.5044 gloss3-dQs:2.1136 gloss4-tgtQ:2.4391 dloss:0.6506 exploreP:1.0000\n",
      "Episode:16 Steps:90 meanR:24.1176 R:91.0000 gloss:1.8791 gloss1-lgP:0.6928 gloss2-gQs:1.7939 gloss3-dQs:2.4674 gloss4-tgtQ:2.7123 dloss:0.5576 exploreP:1.0000\n",
      "Episode:17 Steps:27 meanR:24.3333 R:28.0000 gloss:2.0675 gloss1-lgP:0.6923 gloss2-gQs:2.0760 gloss3-dQs:2.8088 gloss4-tgtQ:2.9863 dloss:0.4774 exploreP:1.0000\n",
      "Episode:18 Steps:11 meanR:23.6842 R:12.0000 gloss:2.1247 gloss1-lgP:0.6924 gloss2-gQs:2.1873 gloss3-dQs:2.9251 gloss4-tgtQ:3.0686 dloss:0.4615 exploreP:1.0000\n",
      "Episode:19 Steps:22 meanR:23.6500 R:23.0000 gloss:2.1803 gloss1-lgP:0.6931 gloss2-gQs:2.2499 gloss3-dQs:2.9995 gloss4-tgtQ:3.1457 dloss:0.4359 exploreP:1.0000\n",
      "Episode:20 Steps:52 meanR:25.0476 R:53.0000 gloss:2.2645 gloss1-lgP:0.6927 gloss2-gQs:2.3749 gloss3-dQs:3.1432 gloss4-tgtQ:3.2689 dloss:0.4065 exploreP:0.9999\n",
      "Episode:21 Steps:10 meanR:24.4091 R:11.0000 gloss:2.3115 gloss1-lgP:0.6922 gloss2-gQs:2.4983 gloss3-dQs:3.2696 gloss4-tgtQ:3.3394 dloss:0.4007 exploreP:0.9999\n",
      "Episode:22 Steps:31 meanR:24.7391 R:32.0000 gloss:2.3684 gloss1-lgP:0.6929 gloss2-gQs:2.5491 gloss3-dQs:3.3256 gloss4-tgtQ:3.4182 dloss:0.3770 exploreP:0.9999\n",
      "Episode:23 Steps:51 meanR:25.8750 R:52.0000 gloss:2.4475 gloss1-lgP:0.6927 gloss2-gQs:2.6606 gloss3-dQs:3.4359 gloss4-tgtQ:3.5333 dloss:0.3523 exploreP:0.9999\n",
      "Episode:24 Steps:10 meanR:25.2800 R:11.0000 gloss:2.4945 gloss1-lgP:0.6932 gloss2-gQs:2.7261 gloss3-dQs:3.4959 gloss4-tgtQ:3.5984 dloss:0.3348 exploreP:0.9999\n",
      "Episode:25 Steps:17 meanR:25.0000 R:18.0000 gloss:2.5084 gloss1-lgP:0.6925 gloss2-gQs:2.7598 gloss3-dQs:3.5267 gloss4-tgtQ:3.6221 dloss:0.3358 exploreP:0.9999\n",
      "Episode:26 Steps:12 meanR:24.5556 R:13.0000 gloss:2.5388 gloss1-lgP:0.6923 gloss2-gQs:2.7931 gloss3-dQs:3.5506 gloss4-tgtQ:3.6674 dloss:0.3234 exploreP:0.9999\n",
      "Episode:27 Steps:21 meanR:24.4643 R:22.0000 gloss:2.5572 gloss1-lgP:0.6924 gloss2-gQs:2.8341 gloss3-dQs:3.5879 gloss4-tgtQ:3.6936 dloss:0.3223 exploreP:0.9999\n",
      "Episode:28 Steps:22 meanR:24.4138 R:23.0000 gloss:2.5923 gloss1-lgP:0.6930 gloss2-gQs:2.8786 gloss3-dQs:3.6224 gloss4-tgtQ:3.7409 dloss:0.3114 exploreP:0.9999\n",
      "Episode:29 Steps:13 meanR:24.0667 R:14.0000 gloss:2.6068 gloss1-lgP:0.6932 gloss2-gQs:2.9043 gloss3-dQs:3.6365 gloss4-tgtQ:3.7604 dloss:0.3061 exploreP:0.9999\n",
      "Episode:30 Steps:23 meanR:24.0645 R:24.0000 gloss:2.6132 gloss1-lgP:0.6922 gloss2-gQs:2.9344 gloss3-dQs:3.6594 gloss4-tgtQ:3.7752 dloss:0.3102 exploreP:0.9999\n",
      "Episode:31 Steps:12 meanR:23.7188 R:13.0000 gloss:2.6275 gloss1-lgP:0.6930 gloss2-gQs:2.9602 gloss3-dQs:3.6677 gloss4-tgtQ:3.7915 dloss:0.3111 exploreP:0.9999\n",
      "Episode:32 Steps:12 meanR:23.3939 R:13.0000 gloss:2.6430 gloss1-lgP:0.6926 gloss2-gQs:2.9661 gloss3-dQs:3.6702 gloss4-tgtQ:3.8161 dloss:0.2972 exploreP:0.9999\n",
      "Episode:33 Steps:41 meanR:23.9412 R:42.0000 gloss:2.6726 gloss1-lgP:0.6925 gloss2-gQs:3.0159 gloss3-dQs:3.6962 gloss4-tgtQ:3.8595 dloss:0.2905 exploreP:0.9999\n",
      "Episode:34 Steps:12 meanR:23.6286 R:13.0000 gloss:2.6998 gloss1-lgP:0.6920 gloss2-gQs:3.0474 gloss3-dQs:3.7166 gloss4-tgtQ:3.9017 dloss:0.2779 exploreP:0.9999\n",
      "Episode:35 Steps:29 meanR:23.8056 R:30.0000 gloss:2.7199 gloss1-lgP:0.6932 gloss2-gQs:3.0848 gloss3-dQs:3.7362 gloss4-tgtQ:3.9239 dloss:0.2790 exploreP:0.9999\n",
      "Episode:36 Steps:15 meanR:23.5946 R:16.0000 gloss:2.7439 gloss1-lgP:0.6924 gloss2-gQs:3.1079 gloss3-dQs:3.7481 gloss4-tgtQ:3.9627 dloss:0.2669 exploreP:0.9999\n",
      "Episode:37 Steps:17 meanR:23.4474 R:18.0000 gloss:2.7622 gloss1-lgP:0.6927 gloss2-gQs:3.1389 gloss3-dQs:3.7677 gloss4-tgtQ:3.9876 dloss:0.2643 exploreP:0.9999\n",
      "Episode:38 Steps:23 meanR:23.4615 R:24.0000 gloss:2.7764 gloss1-lgP:0.6927 gloss2-gQs:3.1712 gloss3-dQs:3.7851 gloss4-tgtQ:4.0081 dloss:0.2642 exploreP:0.9999\n",
      "Episode:39 Steps:15 meanR:23.2750 R:16.0000 gloss:2.8056 gloss1-lgP:0.6926 gloss2-gQs:3.1945 gloss3-dQs:3.8025 gloss4-tgtQ:4.0510 dloss:0.2497 exploreP:0.9999\n",
      "Episode:40 Steps:12 meanR:23.0244 R:13.0000 gloss:2.8120 gloss1-lgP:0.6925 gloss2-gQs:3.2176 gloss3-dQs:3.8162 gloss4-tgtQ:4.0608 dloss:0.2525 exploreP:0.9999\n",
      "Episode:41 Steps:28 meanR:23.1667 R:29.0000 gloss:2.8150 gloss1-lgP:0.6922 gloss2-gQs:3.2406 gloss3-dQs:3.8251 gloss4-tgtQ:4.0670 dloss:0.2567 exploreP:0.9999\n",
      "Episode:42 Steps:22 meanR:23.1628 R:23.0000 gloss:2.8245 gloss1-lgP:0.6920 gloss2-gQs:3.2647 gloss3-dQs:3.8229 gloss4-tgtQ:4.0816 dloss:0.2597 exploreP:0.9999\n",
      "Episode:43 Steps:13 meanR:22.9545 R:14.0000 gloss:2.8447 gloss1-lgP:0.6934 gloss2-gQs:3.2716 gloss3-dQs:3.8065 gloss4-tgtQ:4.1026 dloss:0.2459 exploreP:0.9999\n",
      "Episode:44 Steps:10 meanR:22.6889 R:11.0000 gloss:2.8481 gloss1-lgP:0.6931 gloss2-gQs:3.2855 gloss3-dQs:3.8137 gloss4-tgtQ:4.1094 dloss:0.2499 exploreP:0.9999\n",
      "Episode:45 Steps:16 meanR:22.5652 R:17.0000 gloss:2.8530 gloss1-lgP:0.6932 gloss2-gQs:3.2912 gloss3-dQs:3.8161 gloss4-tgtQ:4.1154 dloss:0.2492 exploreP:0.9999\n",
      "Episode:46 Steps:23 meanR:22.5957 R:24.0000 gloss:2.8715 gloss1-lgP:0.6923 gloss2-gQs:3.3129 gloss3-dQs:3.8268 gloss4-tgtQ:4.1481 dloss:0.2382 exploreP:0.9999\n",
      "Episode:47 Steps:18 meanR:22.5208 R:19.0000 gloss:2.8874 gloss1-lgP:0.6929 gloss2-gQs:3.3403 gloss3-dQs:3.8321 gloss4-tgtQ:4.1674 dloss:0.2375 exploreP:0.9999\n",
      "Episode:48 Steps:17 meanR:22.4286 R:18.0000 gloss:2.8708 gloss1-lgP:0.6922 gloss2-gQs:3.3481 gloss3-dQs:3.8279 gloss4-tgtQ:4.1474 dloss:0.2505 exploreP:0.9999\n",
      "Episode:49 Steps:39 meanR:22.7800 R:40.0000 gloss:2.9016 gloss1-lgP:0.6920 gloss2-gQs:3.3754 gloss3-dQs:3.8302 gloss4-tgtQ:4.1928 dloss:0.2347 exploreP:0.9999\n",
      "Episode:50 Steps:21 meanR:22.7647 R:22.0000 gloss:2.9238 gloss1-lgP:0.6921 gloss2-gQs:3.4052 gloss3-dQs:3.8320 gloss4-tgtQ:4.2243 dloss:0.2287 exploreP:0.9999\n",
      "Episode:51 Steps:33 meanR:22.9808 R:34.0000 gloss:2.9217 gloss1-lgP:0.6922 gloss2-gQs:3.4183 gloss3-dQs:3.8186 gloss4-tgtQ:4.2207 dloss:0.2340 exploreP:0.9999\n",
      "Episode:52 Steps:23 meanR:23.0000 R:24.0000 gloss:2.9091 gloss1-lgP:0.6921 gloss2-gQs:3.4180 gloss3-dQs:3.8002 gloss4-tgtQ:4.2035 dloss:0.2408 exploreP:0.9999\n"
     ]
    },
    {
     "name": "stdout",
     "output_type": "stream",
     "text": [
      "Episode:53 Steps:43 meanR:23.3889 R:44.0000 gloss:2.9147 gloss1-lgP:0.6921 gloss2-gQs:3.4126 gloss3-dQs:3.7677 gloss4-tgtQ:4.2115 dloss:0.2320 exploreP:0.9999\n",
      "Episode:54 Steps:13 meanR:23.2182 R:14.0000 gloss:2.9532 gloss1-lgP:0.6931 gloss2-gQs:3.4428 gloss3-dQs:3.7754 gloss4-tgtQ:4.2609 dloss:0.2162 exploreP:0.9999\n",
      "Episode:55 Steps:9 meanR:22.9821 R:10.0000 gloss:2.9555 gloss1-lgP:0.6918 gloss2-gQs:3.4611 gloss3-dQs:3.7921 gloss4-tgtQ:4.2720 dloss:0.2163 exploreP:0.9999\n",
      "Episode:56 Steps:25 meanR:23.0351 R:26.0000 gloss:2.9744 gloss1-lgP:0.6928 gloss2-gQs:3.4915 gloss3-dQs:3.8157 gloss4-tgtQ:4.2934 dloss:0.2173 exploreP:0.9999\n",
      "Episode:57 Steps:9 meanR:22.8103 R:10.0000 gloss:2.9843 gloss1-lgP:0.6926 gloss2-gQs:3.5124 gloss3-dQs:3.8281 gloss4-tgtQ:4.3087 dloss:0.2187 exploreP:0.9999\n",
      "Episode:58 Steps:23 meanR:22.8305 R:24.0000 gloss:3.0122 gloss1-lgP:0.6925 gloss2-gQs:3.5377 gloss3-dQs:3.8409 gloss4-tgtQ:4.3495 dloss:0.2056 exploreP:0.9999\n",
      "Episode:59 Steps:23 meanR:22.8500 R:24.0000 gloss:3.0218 gloss1-lgP:0.6928 gloss2-gQs:3.5723 gloss3-dQs:3.8637 gloss4-tgtQ:4.3620 dloss:0.2130 exploreP:0.9999\n",
      "Episode:60 Steps:16 meanR:22.7541 R:17.0000 gloss:3.0122 gloss1-lgP:0.6917 gloss2-gQs:3.5737 gloss3-dQs:3.8542 gloss4-tgtQ:4.3550 dloss:0.2163 exploreP:0.9999\n",
      "Episode:61 Steps:24 meanR:22.7903 R:25.0000 gloss:2.9958 gloss1-lgP:0.6914 gloss2-gQs:3.5519 gloss3-dQs:3.8098 gloss4-tgtQ:4.3329 dloss:0.2180 exploreP:0.9999\n",
      "Episode:62 Steps:14 meanR:22.6667 R:15.0000 gloss:3.0198 gloss1-lgP:0.6922 gloss2-gQs:3.5706 gloss3-dQs:3.8175 gloss4-tgtQ:4.3625 dloss:0.2074 exploreP:0.9999\n",
      "Episode:63 Steps:21 meanR:22.6562 R:22.0000 gloss:3.0177 gloss1-lgP:0.6921 gloss2-gQs:3.5851 gloss3-dQs:3.8251 gloss4-tgtQ:4.3599 dloss:0.2147 exploreP:0.9999\n",
      "Episode:64 Steps:16 meanR:22.5692 R:17.0000 gloss:3.0349 gloss1-lgP:0.6927 gloss2-gQs:3.5978 gloss3-dQs:3.8212 gloss4-tgtQ:4.3813 dloss:0.2098 exploreP:0.9999\n",
      "Episode:65 Steps:54 meanR:23.0606 R:55.0000 gloss:3.0574 gloss1-lgP:0.6920 gloss2-gQs:3.6356 gloss3-dQs:3.8440 gloss4-tgtQ:4.4185 dloss:0.2018 exploreP:0.9998\n",
      "Episode:66 Steps:22 meanR:23.0597 R:23.0000 gloss:3.0734 gloss1-lgP:0.6916 gloss2-gQs:3.6832 gloss3-dQs:3.8761 gloss4-tgtQ:4.4438 dloss:0.2090 exploreP:0.9998\n",
      "Episode:67 Steps:29 meanR:23.1618 R:30.0000 gloss:3.1174 gloss1-lgP:0.6924 gloss2-gQs:3.7192 gloss3-dQs:3.8997 gloss4-tgtQ:4.5024 dloss:0.1927 exploreP:0.9998\n",
      "Episode:68 Steps:28 meanR:23.2464 R:29.0000 gloss:3.1549 gloss1-lgP:0.6926 gloss2-gQs:3.7640 gloss3-dQs:3.9339 gloss4-tgtQ:4.5552 dloss:0.1853 exploreP:0.9998\n",
      "Episode:69 Steps:13 meanR:23.1143 R:14.0000 gloss:3.1353 gloss1-lgP:0.6919 gloss2-gQs:3.7902 gloss3-dQs:3.9532 gloss4-tgtQ:4.5314 dloss:0.2059 exploreP:0.9998\n",
      "Episode:70 Steps:10 meanR:22.9437 R:11.0000 gloss:3.1750 gloss1-lgP:0.6927 gloss2-gQs:3.8012 gloss3-dQs:3.9510 gloss4-tgtQ:4.5835 dloss:0.1831 exploreP:0.9998\n",
      "Episode:71 Steps:26 meanR:23.0000 R:27.0000 gloss:3.1648 gloss1-lgP:0.6931 gloss2-gQs:3.8005 gloss3-dQs:3.9447 gloss4-tgtQ:4.5661 dloss:0.1952 exploreP:0.9998\n",
      "Episode:72 Steps:12 meanR:22.8630 R:13.0000 gloss:3.1530 gloss1-lgP:0.6928 gloss2-gQs:3.8037 gloss3-dQs:3.9313 gloss4-tgtQ:4.5509 dloss:0.1982 exploreP:0.9998\n",
      "Episode:73 Steps:41 meanR:23.1216 R:42.0000 gloss:3.1870 gloss1-lgP:0.6923 gloss2-gQs:3.8428 gloss3-dQs:3.9621 gloss4-tgtQ:4.6032 dloss:0.1884 exploreP:0.9998\n",
      "Episode:74 Steps:34 meanR:23.2800 R:35.0000 gloss:3.2260 gloss1-lgP:0.6925 gloss2-gQs:3.9070 gloss3-dQs:4.0158 gloss4-tgtQ:4.6587 dloss:0.1867 exploreP:0.9998\n",
      "Episode:75 Steps:17 meanR:23.2105 R:18.0000 gloss:3.2347 gloss1-lgP:0.6925 gloss2-gQs:3.9127 gloss3-dQs:4.0022 gloss4-tgtQ:4.6712 dloss:0.1836 exploreP:0.9998\n",
      "Episode:76 Steps:8 meanR:23.0260 R:9.0000 gloss:3.2309 gloss1-lgP:0.6926 gloss2-gQs:3.9282 gloss3-dQs:4.0142 gloss4-tgtQ:4.6650 dloss:0.1929 exploreP:0.9998\n",
      "Episode:77 Steps:16 meanR:22.9487 R:17.0000 gloss:3.2415 gloss1-lgP:0.6924 gloss2-gQs:3.9208 gloss3-dQs:4.0050 gloss4-tgtQ:4.6814 dloss:0.1855 exploreP:0.9998\n",
      "Episode:78 Steps:13 meanR:22.8354 R:14.0000 gloss:3.2425 gloss1-lgP:0.6923 gloss2-gQs:3.9340 gloss3-dQs:4.0181 gloss4-tgtQ:4.6834 dloss:0.1884 exploreP:0.9998\n",
      "Episode:79 Steps:37 meanR:23.0250 R:38.0000 gloss:3.3076 gloss1-lgP:0.6926 gloss2-gQs:4.0177 gloss3-dQs:4.0863 gloss4-tgtQ:4.7756 dloss:0.1750 exploreP:0.9998\n",
      "Episode:80 Steps:10 meanR:22.8765 R:11.0000 gloss:3.3040 gloss1-lgP:0.6917 gloss2-gQs:4.0553 gloss3-dQs:4.1192 gloss4-tgtQ:4.7769 dloss:0.1862 exploreP:0.9998\n",
      "Episode:81 Steps:11 meanR:22.7439 R:12.0000 gloss:3.3231 gloss1-lgP:0.6917 gloss2-gQs:4.0587 gloss3-dQs:4.1158 gloss4-tgtQ:4.8041 dloss:0.1779 exploreP:0.9998\n",
      "Episode:82 Steps:14 meanR:22.6506 R:15.0000 gloss:3.3304 gloss1-lgP:0.6907 gloss2-gQs:4.0696 gloss3-dQs:4.1203 gloss4-tgtQ:4.8216 dloss:0.1755 exploreP:0.9998\n",
      "Episode:83 Steps:31 meanR:22.7619 R:32.0000 gloss:3.3155 gloss1-lgP:0.6921 gloss2-gQs:4.0605 gloss3-dQs:4.1056 gloss4-tgtQ:4.7907 dloss:0.1833 exploreP:0.9998\n",
      "Episode:84 Steps:53 meanR:23.1294 R:54.0000 gloss:3.3381 gloss1-lgP:0.6926 gloss2-gQs:4.0893 gloss3-dQs:4.1202 gloss4-tgtQ:4.8196 dloss:0.1841 exploreP:0.9998\n",
      "Episode:85 Steps:27 meanR:23.1860 R:28.0000 gloss:3.3749 gloss1-lgP:0.6923 gloss2-gQs:4.1401 gloss3-dQs:4.1599 gloss4-tgtQ:4.8749 dloss:0.1773 exploreP:0.9998\n",
      "Episode:86 Steps:21 meanR:23.1724 R:22.0000 gloss:3.4309 gloss1-lgP:0.6925 gloss2-gQs:4.2146 gloss3-dQs:4.2298 gloss4-tgtQ:4.9543 dloss:0.1681 exploreP:0.9998\n",
      "Episode:87 Steps:8 meanR:23.0114 R:9.0000 gloss:3.4600 gloss1-lgP:0.6914 gloss2-gQs:4.2559 gloss3-dQs:4.2743 gloss4-tgtQ:5.0047 dloss:0.1612 exploreP:0.9998\n",
      "Episode:88 Steps:21 meanR:23.0000 R:22.0000 gloss:3.4292 gloss1-lgP:0.6931 gloss2-gQs:4.2299 gloss3-dQs:4.2398 gloss4-tgtQ:4.9475 dloss:0.1749 exploreP:0.9998\n",
      "Episode:89 Steps:25 meanR:23.0333 R:26.0000 gloss:3.4203 gloss1-lgP:0.6921 gloss2-gQs:4.2229 gloss3-dQs:4.2190 gloss4-tgtQ:4.9418 dloss:0.1760 exploreP:0.9998\n",
      "Episode:90 Steps:21 meanR:23.0220 R:22.0000 gloss:3.4255 gloss1-lgP:0.6917 gloss2-gQs:4.2212 gloss3-dQs:4.2142 gloss4-tgtQ:4.9521 dloss:0.1725 exploreP:0.9998\n",
      "Episode:91 Steps:25 meanR:23.0543 R:26.0000 gloss:3.4386 gloss1-lgP:0.6928 gloss2-gQs:4.2587 gloss3-dQs:4.2492 gloss4-tgtQ:4.9633 dloss:0.1786 exploreP:0.9998\n",
      "Episode:92 Steps:36 meanR:23.2043 R:37.0000 gloss:3.4345 gloss1-lgP:0.6927 gloss2-gQs:4.2453 gloss3-dQs:4.2239 gloss4-tgtQ:4.9584 dloss:0.1823 exploreP:0.9998\n",
      "Episode:93 Steps:21 meanR:23.1915 R:22.0000 gloss:3.4745 gloss1-lgP:0.6929 gloss2-gQs:4.3035 gloss3-dQs:4.2764 gloss4-tgtQ:5.0146 dloss:0.1761 exploreP:0.9998\n",
      "Episode:94 Steps:15 meanR:23.1158 R:16.0000 gloss:3.4900 gloss1-lgP:0.6922 gloss2-gQs:4.3132 gloss3-dQs:4.2923 gloss4-tgtQ:5.0418 dloss:0.1648 exploreP:0.9998\n",
      "Episode:95 Steps:47 meanR:23.3750 R:48.0000 gloss:3.5533 gloss1-lgP:0.6926 gloss2-gQs:4.4106 gloss3-dQs:4.3835 gloss4-tgtQ:5.1300 dloss:0.1605 exploreP:0.9998\n",
      "Episode:96 Steps:25 meanR:23.4021 R:26.0000 gloss:3.5319 gloss1-lgP:0.6925 gloss2-gQs:4.3957 gloss3-dQs:4.3606 gloss4-tgtQ:5.1005 dloss:0.1706 exploreP:0.9998\n",
      "Episode:97 Steps:9 meanR:23.2653 R:10.0000 gloss:3.5065 gloss1-lgP:0.6930 gloss2-gQs:4.3416 gloss3-dQs:4.3008 gloss4-tgtQ:5.0602 dloss:0.1699 exploreP:0.9998\n",
      "Episode:98 Steps:20 meanR:23.2424 R:21.0000 gloss:3.5396 gloss1-lgP:0.6921 gloss2-gQs:4.4241 gloss3-dQs:4.3716 gloss4-tgtQ:5.1143 dloss:0.1668 exploreP:0.9998\n",
      "Episode:99 Steps:12 meanR:23.1400 R:13.0000 gloss:3.5840 gloss1-lgP:0.6932 gloss2-gQs:4.4173 gloss3-dQs:4.3820 gloss4-tgtQ:5.1704 dloss:0.1524 exploreP:0.9998\n",
      "Episode:100 Steps:13 meanR:23.1500 R:14.0000 gloss:3.5734 gloss1-lgP:0.6922 gloss2-gQs:4.4449 gloss3-dQs:4.4119 gloss4-tgtQ:5.1626 dloss:0.1655 exploreP:0.9998\n",
      "Episode:101 Steps:13 meanR:23.0600 R:14.0000 gloss:3.6099 gloss1-lgP:0.6922 gloss2-gQs:4.4983 gloss3-dQs:4.4484 gloss4-tgtQ:5.2154 dloss:0.1571 exploreP:0.9998\n",
      "Episode:102 Steps:33 meanR:23.2000 R:34.0000 gloss:3.5493 gloss1-lgP:0.6928 gloss2-gQs:4.4265 gloss3-dQs:4.3605 gloss4-tgtQ:5.1231 dloss:0.1740 exploreP:0.9998\n",
      "Episode:103 Steps:29 meanR:23.3600 R:30.0000 gloss:3.5901 gloss1-lgP:0.6921 gloss2-gQs:4.4734 gloss3-dQs:4.4072 gloss4-tgtQ:5.1874 dloss:0.1606 exploreP:0.9998\n",
      "Episode:104 Steps:20 meanR:23.3600 R:21.0000 gloss:3.6106 gloss1-lgP:0.6918 gloss2-gQs:4.4979 gloss3-dQs:4.4350 gloss4-tgtQ:5.2188 dloss:0.1576 exploreP:0.9998\n"
     ]
    },
    {
     "name": "stdout",
     "output_type": "stream",
     "text": [
      "Episode:105 Steps:14 meanR:23.2600 R:15.0000 gloss:3.6275 gloss1-lgP:0.6929 gloss2-gQs:4.5314 gloss3-dQs:4.4645 gloss4-tgtQ:5.2356 dloss:0.1591 exploreP:0.9998\n",
      "Episode:106 Steps:23 meanR:23.2900 R:24.0000 gloss:3.6249 gloss1-lgP:0.6919 gloss2-gQs:4.5362 gloss3-dQs:4.4705 gloss4-tgtQ:5.2388 dloss:0.1602 exploreP:0.9998\n",
      "Episode:107 Steps:49 meanR:23.5400 R:50.0000 gloss:3.6242 gloss1-lgP:0.6920 gloss2-gQs:4.5404 gloss3-dQs:4.4680 gloss4-tgtQ:5.2371 dloss:0.1613 exploreP:0.9998\n",
      "Episode:108 Steps:8 meanR:23.3700 R:9.0000 gloss:3.5992 gloss1-lgP:0.6913 gloss2-gQs:4.5216 gloss3-dQs:4.4376 gloss4-tgtQ:5.2066 dloss:0.1697 exploreP:0.9998\n",
      "Episode:109 Steps:18 meanR:23.2900 R:19.0000 gloss:3.6078 gloss1-lgP:0.6921 gloss2-gQs:4.5246 gloss3-dQs:4.4446 gloss4-tgtQ:5.2127 dloss:0.1670 exploreP:0.9997\n",
      "Episode:110 Steps:25 meanR:23.3400 R:26.0000 gloss:3.6357 gloss1-lgP:0.6916 gloss2-gQs:4.5421 gloss3-dQs:4.4641 gloss4-tgtQ:5.2566 dloss:0.1566 exploreP:0.9997\n",
      "Episode:111 Steps:14 meanR:23.3900 R:15.0000 gloss:3.7065 gloss1-lgP:0.6920 gloss2-gQs:4.6551 gloss3-dQs:4.5712 gloss4-tgtQ:5.3559 dloss:0.1461 exploreP:0.9997\n",
      "Episode:112 Steps:16 meanR:23.4600 R:17.0000 gloss:3.7112 gloss1-lgP:0.6928 gloss2-gQs:4.6440 gloss3-dQs:4.5751 gloss4-tgtQ:5.3573 dloss:0.1483 exploreP:0.9997\n",
      "Episode:113 Steps:19 meanR:23.4400 R:20.0000 gloss:3.7362 gloss1-lgP:0.6919 gloss2-gQs:4.6885 gloss3-dQs:4.6112 gloss4-tgtQ:5.3998 dloss:0.1500 exploreP:0.9997\n",
      "Episode:114 Steps:20 meanR:23.4500 R:21.0000 gloss:3.6886 gloss1-lgP:0.6916 gloss2-gQs:4.6469 gloss3-dQs:4.5549 gloss4-tgtQ:5.3332 dloss:0.1550 exploreP:0.9997\n",
      "Episode:115 Steps:21 meanR:23.4600 R:22.0000 gloss:3.7027 gloss1-lgP:0.6915 gloss2-gQs:4.6638 gloss3-dQs:4.5786 gloss4-tgtQ:5.3548 dloss:0.1547 exploreP:0.9997\n",
      "Episode:116 Steps:35 meanR:22.9100 R:36.0000 gloss:3.6810 gloss1-lgP:0.6927 gloss2-gQs:4.6189 gloss3-dQs:4.5371 gloss4-tgtQ:5.3140 dloss:0.1597 exploreP:0.9997\n",
      "Episode:117 Steps:31 meanR:22.9500 R:32.0000 gloss:3.6891 gloss1-lgP:0.6918 gloss2-gQs:4.6416 gloss3-dQs:4.5436 gloss4-tgtQ:5.3329 dloss:0.1573 exploreP:0.9997\n",
      "Episode:118 Steps:28 meanR:23.1200 R:29.0000 gloss:3.7212 gloss1-lgP:0.6921 gloss2-gQs:4.6765 gloss3-dQs:4.5823 gloss4-tgtQ:5.3769 dloss:0.1545 exploreP:0.9997\n",
      "Episode:119 Steps:30 meanR:23.2000 R:31.0000 gloss:3.6602 gloss1-lgP:0.6923 gloss2-gQs:4.6055 gloss3-dQs:4.4943 gloss4-tgtQ:5.2871 dloss:0.1673 exploreP:0.9997\n",
      "Episode:120 Steps:20 meanR:22.8800 R:21.0000 gloss:3.6858 gloss1-lgP:0.6929 gloss2-gQs:4.6186 gloss3-dQs:4.5009 gloss4-tgtQ:5.3195 dloss:0.1584 exploreP:0.9997\n",
      "Episode:121 Steps:24 meanR:23.0200 R:25.0000 gloss:3.6981 gloss1-lgP:0.6916 gloss2-gQs:4.6546 gloss3-dQs:4.5462 gloss4-tgtQ:5.3472 dloss:0.1631 exploreP:0.9997\n",
      "Episode:122 Steps:31 meanR:23.0200 R:32.0000 gloss:3.6895 gloss1-lgP:0.6921 gloss2-gQs:4.6322 gloss3-dQs:4.5041 gloss4-tgtQ:5.3311 dloss:0.1557 exploreP:0.9997\n",
      "Episode:123 Steps:13 meanR:22.6400 R:14.0000 gloss:3.7662 gloss1-lgP:0.6930 gloss2-gQs:4.7103 gloss3-dQs:4.6061 gloss4-tgtQ:5.4348 dloss:0.1429 exploreP:0.9997\n",
      "Episode:124 Steps:10 meanR:22.6400 R:11.0000 gloss:3.7407 gloss1-lgP:0.6913 gloss2-gQs:4.7170 gloss3-dQs:4.6169 gloss4-tgtQ:5.4107 dloss:0.1643 exploreP:0.9997\n",
      "Episode:125 Steps:20 meanR:22.6700 R:21.0000 gloss:3.7577 gloss1-lgP:0.6920 gloss2-gQs:4.7574 gloss3-dQs:4.6344 gloss4-tgtQ:5.4305 dloss:0.1544 exploreP:0.9997\n",
      "Episode:126 Steps:9 meanR:22.6400 R:10.0000 gloss:3.7484 gloss1-lgP:0.6934 gloss2-gQs:4.7178 gloss3-dQs:4.5997 gloss4-tgtQ:5.4055 dloss:0.1549 exploreP:0.9997\n",
      "Episode:127 Steps:15 meanR:22.5800 R:16.0000 gloss:3.6961 gloss1-lgP:0.6924 gloss2-gQs:4.6539 gloss3-dQs:4.5323 gloss4-tgtQ:5.3383 dloss:0.1643 exploreP:0.9997\n",
      "Episode:128 Steps:17 meanR:22.5300 R:18.0000 gloss:3.7329 gloss1-lgP:0.6928 gloss2-gQs:4.6977 gloss3-dQs:4.5772 gloss4-tgtQ:5.3883 dloss:0.1577 exploreP:0.9997\n",
      "Episode:129 Steps:33 meanR:22.7300 R:34.0000 gloss:3.7603 gloss1-lgP:0.6920 gloss2-gQs:4.7311 gloss3-dQs:4.6059 gloss4-tgtQ:5.4343 dloss:0.1484 exploreP:0.9997\n",
      "Episode:130 Steps:10 meanR:22.6000 R:11.0000 gloss:3.7694 gloss1-lgP:0.6915 gloss2-gQs:4.7428 gloss3-dQs:4.6223 gloss4-tgtQ:5.4513 dloss:0.1467 exploreP:0.9997\n",
      "Episode:131 Steps:24 meanR:22.7200 R:25.0000 gloss:3.7603 gloss1-lgP:0.6919 gloss2-gQs:4.7563 gloss3-dQs:4.6333 gloss4-tgtQ:5.4345 dloss:0.1503 exploreP:0.9997\n",
      "Episode:132 Steps:32 meanR:22.9200 R:33.0000 gloss:3.7902 gloss1-lgP:0.6919 gloss2-gQs:4.7826 gloss3-dQs:4.6522 gloss4-tgtQ:5.4776 dloss:0.1501 exploreP:0.9997\n",
      "Episode:133 Steps:12 meanR:22.6300 R:13.0000 gloss:3.7438 gloss1-lgP:0.6927 gloss2-gQs:4.7209 gloss3-dQs:4.5884 gloss4-tgtQ:5.4050 dloss:0.1485 exploreP:0.9997\n",
      "Episode:134 Steps:10 meanR:22.6100 R:11.0000 gloss:3.7443 gloss1-lgP:0.6922 gloss2-gQs:4.7320 gloss3-dQs:4.6101 gloss4-tgtQ:5.4092 dloss:0.1645 exploreP:0.9997\n",
      "Episode:135 Steps:15 meanR:22.4700 R:16.0000 gloss:3.7946 gloss1-lgP:0.6932 gloss2-gQs:4.7729 gloss3-dQs:4.6533 gloss4-tgtQ:5.4744 dloss:0.1488 exploreP:0.9997\n",
      "Episode:136 Steps:11 meanR:22.4300 R:12.0000 gloss:3.8022 gloss1-lgP:0.6919 gloss2-gQs:4.8014 gloss3-dQs:4.6724 gloss4-tgtQ:5.4950 dloss:0.1494 exploreP:0.9997\n",
      "Episode:137 Steps:11 meanR:22.3700 R:12.0000 gloss:3.8204 gloss1-lgP:0.6916 gloss2-gQs:4.8296 gloss3-dQs:4.7135 gloss4-tgtQ:5.5244 dloss:0.1469 exploreP:0.9997\n",
      "Episode:138 Steps:29 meanR:22.4300 R:30.0000 gloss:3.7626 gloss1-lgP:0.6925 gloss2-gQs:4.7606 gloss3-dQs:4.6309 gloss4-tgtQ:5.4337 dloss:0.1598 exploreP:0.9997\n",
      "Episode:139 Steps:45 meanR:22.7300 R:46.0000 gloss:3.7608 gloss1-lgP:0.6922 gloss2-gQs:4.7616 gloss3-dQs:4.6165 gloss4-tgtQ:5.4334 dloss:0.1574 exploreP:0.9997\n",
      "Episode:140 Steps:30 meanR:22.9100 R:31.0000 gloss:3.7885 gloss1-lgP:0.6920 gloss2-gQs:4.7909 gloss3-dQs:4.6503 gloss4-tgtQ:5.4750 dloss:0.1509 exploreP:0.9997\n",
      "Episode:141 Steps:33 meanR:22.9600 R:34.0000 gloss:3.7699 gloss1-lgP:0.6926 gloss2-gQs:4.7892 gloss3-dQs:4.6471 gloss4-tgtQ:5.4435 dloss:0.1585 exploreP:0.9997\n",
      "Episode:142 Steps:16 meanR:22.9000 R:17.0000 gloss:3.7662 gloss1-lgP:0.6916 gloss2-gQs:4.7733 gloss3-dQs:4.6223 gloss4-tgtQ:5.4459 dloss:0.1523 exploreP:0.9997\n",
      "Episode:143 Steps:13 meanR:22.9000 R:14.0000 gloss:3.7502 gloss1-lgP:0.6925 gloss2-gQs:4.7554 gloss3-dQs:4.6058 gloss4-tgtQ:5.4157 dloss:0.1667 exploreP:0.9997\n",
      "Episode:144 Steps:17 meanR:22.9700 R:18.0000 gloss:3.7859 gloss1-lgP:0.6926 gloss2-gQs:4.7817 gloss3-dQs:4.6304 gloss4-tgtQ:5.4662 dloss:0.1479 exploreP:0.9997\n",
      "Episode:145 Steps:7 meanR:22.8800 R:8.0000 gloss:3.7682 gloss1-lgP:0.6933 gloss2-gQs:4.7701 gloss3-dQs:4.6231 gloss4-tgtQ:5.4352 dloss:0.1566 exploreP:0.9997\n",
      "Episode:146 Steps:19 meanR:22.8400 R:20.0000 gloss:3.8074 gloss1-lgP:0.6920 gloss2-gQs:4.8220 gloss3-dQs:4.6842 gloss4-tgtQ:5.5017 dloss:0.1529 exploreP:0.9997\n",
      "Episode:147 Steps:37 meanR:23.0300 R:38.0000 gloss:3.8214 gloss1-lgP:0.6924 gloss2-gQs:4.8419 gloss3-dQs:4.7000 gloss4-tgtQ:5.5187 dloss:0.1500 exploreP:0.9997\n",
      "Episode:148 Steps:35 meanR:23.2100 R:36.0000 gloss:3.8156 gloss1-lgP:0.6919 gloss2-gQs:4.8294 gloss3-dQs:4.6833 gloss4-tgtQ:5.5144 dloss:0.1537 exploreP:0.9997\n",
      "Episode:149 Steps:10 meanR:22.9200 R:11.0000 gloss:3.8065 gloss1-lgP:0.6909 gloss2-gQs:4.8363 gloss3-dQs:4.6884 gloss4-tgtQ:5.5093 dloss:0.1497 exploreP:0.9997\n",
      "Episode:150 Steps:49 meanR:23.2000 R:50.0000 gloss:3.8669 gloss1-lgP:0.6915 gloss2-gQs:4.9017 gloss3-dQs:4.7618 gloss4-tgtQ:5.5924 dloss:0.1440 exploreP:0.9997\n",
      "Episode:151 Steps:26 meanR:23.1300 R:27.0000 gloss:3.8807 gloss1-lgP:0.6920 gloss2-gQs:4.9258 gloss3-dQs:4.7755 gloss4-tgtQ:5.6084 dloss:0.1446 exploreP:0.9997\n",
      "Episode:152 Steps:35 meanR:23.2500 R:36.0000 gloss:3.8532 gloss1-lgP:0.6923 gloss2-gQs:4.8961 gloss3-dQs:4.7391 gloss4-tgtQ:5.5654 dloss:0.1489 exploreP:0.9996\n",
      "Episode:153 Steps:11 meanR:22.9300 R:12.0000 gloss:3.8664 gloss1-lgP:0.6928 gloss2-gQs:4.9078 gloss3-dQs:4.7454 gloss4-tgtQ:5.5806 dloss:0.1419 exploreP:0.9996\n",
      "Episode:154 Steps:22 meanR:23.0200 R:23.0000 gloss:3.8625 gloss1-lgP:0.6920 gloss2-gQs:4.9017 gloss3-dQs:4.7501 gloss4-tgtQ:5.5818 dloss:0.1472 exploreP:0.9996\n",
      "Episode:155 Steps:39 meanR:23.3200 R:40.0000 gloss:3.8685 gloss1-lgP:0.6926 gloss2-gQs:4.9102 gloss3-dQs:4.7532 gloss4-tgtQ:5.5853 dloss:0.1451 exploreP:0.9996\n",
      "Episode:156 Steps:10 meanR:23.1700 R:11.0000 gloss:3.9333 gloss1-lgP:0.6929 gloss2-gQs:5.0071 gloss3-dQs:4.8709 gloss4-tgtQ:5.6764 dloss:0.1431 exploreP:0.9996\n"
     ]
    },
    {
     "name": "stdout",
     "output_type": "stream",
     "text": [
      "Episode:157 Steps:22 meanR:23.3000 R:23.0000 gloss:3.8756 gloss1-lgP:0.6907 gloss2-gQs:4.9234 gloss3-dQs:4.7709 gloss4-tgtQ:5.6112 dloss:0.1475 exploreP:0.9996\n",
      "Episode:158 Steps:39 meanR:23.4600 R:40.0000 gloss:3.9223 gloss1-lgP:0.6919 gloss2-gQs:5.0006 gloss3-dQs:4.8386 gloss4-tgtQ:5.6686 dloss:0.1421 exploreP:0.9996\n",
      "Episode:159 Steps:13 meanR:23.3600 R:14.0000 gloss:3.9108 gloss1-lgP:0.6920 gloss2-gQs:4.9604 gloss3-dQs:4.8144 gloss4-tgtQ:5.6512 dloss:0.1421 exploreP:0.9996\n",
      "Episode:160 Steps:39 meanR:23.5900 R:40.0000 gloss:3.8409 gloss1-lgP:0.6925 gloss2-gQs:4.8846 gloss3-dQs:4.7217 gloss4-tgtQ:5.5462 dloss:0.1566 exploreP:0.9996\n",
      "Episode:161 Steps:14 meanR:23.4900 R:15.0000 gloss:3.8689 gloss1-lgP:0.6926 gloss2-gQs:4.9004 gloss3-dQs:4.7394 gloss4-tgtQ:5.5864 dloss:0.1490 exploreP:0.9996\n",
      "Episode:162 Steps:22 meanR:23.5700 R:23.0000 gloss:3.8784 gloss1-lgP:0.6930 gloss2-gQs:4.9352 gloss3-dQs:4.7664 gloss4-tgtQ:5.5969 dloss:0.1502 exploreP:0.9996\n",
      "Episode:163 Steps:30 meanR:23.6600 R:31.0000 gloss:3.9310 gloss1-lgP:0.6917 gloss2-gQs:5.0087 gloss3-dQs:4.8450 gloss4-tgtQ:5.6832 dloss:0.1392 exploreP:0.9996\n",
      "Episode:164 Steps:23 meanR:23.7300 R:24.0000 gloss:3.9451 gloss1-lgP:0.6916 gloss2-gQs:5.0410 gloss3-dQs:4.8854 gloss4-tgtQ:5.7041 dloss:0.1422 exploreP:0.9996\n",
      "Episode:165 Steps:22 meanR:23.4100 R:23.0000 gloss:3.9211 gloss1-lgP:0.6930 gloss2-gQs:4.9928 gloss3-dQs:4.8156 gloss4-tgtQ:5.6586 dloss:0.1424 exploreP:0.9996\n",
      "Episode:166 Steps:39 meanR:23.5800 R:40.0000 gloss:3.9397 gloss1-lgP:0.6920 gloss2-gQs:5.0371 gloss3-dQs:4.8746 gloss4-tgtQ:5.6933 dloss:0.1425 exploreP:0.9996\n",
      "Episode:167 Steps:15 meanR:23.4400 R:16.0000 gloss:3.9228 gloss1-lgP:0.6919 gloss2-gQs:5.0115 gloss3-dQs:4.8391 gloss4-tgtQ:5.6694 dloss:0.1466 exploreP:0.9996\n",
      "Episode:168 Steps:11 meanR:23.2700 R:12.0000 gloss:3.9179 gloss1-lgP:0.6928 gloss2-gQs:4.9961 gloss3-dQs:4.8190 gloss4-tgtQ:5.6555 dloss:0.1435 exploreP:0.9996\n",
      "Episode:169 Steps:37 meanR:23.5100 R:38.0000 gloss:3.9057 gloss1-lgP:0.6925 gloss2-gQs:4.9922 gloss3-dQs:4.8162 gloss4-tgtQ:5.6403 dloss:0.1481 exploreP:0.9996\n",
      "Episode:170 Steps:18 meanR:23.5900 R:19.0000 gloss:3.9624 gloss1-lgP:0.6927 gloss2-gQs:5.0375 gloss3-dQs:4.8724 gloss4-tgtQ:5.7206 dloss:0.1366 exploreP:0.9996\n",
      "Episode:171 Steps:41 meanR:23.7400 R:42.0000 gloss:3.9112 gloss1-lgP:0.6926 gloss2-gQs:4.9931 gloss3-dQs:4.8128 gloss4-tgtQ:5.6471 dloss:0.1504 exploreP:0.9996\n",
      "Episode:172 Steps:25 meanR:23.8700 R:26.0000 gloss:3.9577 gloss1-lgP:0.6916 gloss2-gQs:5.0564 gloss3-dQs:4.8757 gloss4-tgtQ:5.7226 dloss:0.1374 exploreP:0.9996\n",
      "Episode:173 Steps:19 meanR:23.6500 R:20.0000 gloss:3.9691 gloss1-lgP:0.6914 gloss2-gQs:5.0901 gloss3-dQs:4.9179 gloss4-tgtQ:5.7403 dloss:0.1404 exploreP:0.9996\n",
      "Episode:174 Steps:33 meanR:23.6400 R:34.0000 gloss:3.9964 gloss1-lgP:0.6927 gloss2-gQs:5.1155 gloss3-dQs:4.9443 gloss4-tgtQ:5.7697 dloss:0.1353 exploreP:0.9996\n",
      "Episode:175 Steps:34 meanR:23.8100 R:35.0000 gloss:4.0180 gloss1-lgP:0.6922 gloss2-gQs:5.1420 gloss3-dQs:4.9628 gloss4-tgtQ:5.8048 dloss:0.1355 exploreP:0.9996\n",
      "Episode:176 Steps:10 meanR:23.8300 R:11.0000 gloss:4.0071 gloss1-lgP:0.6921 gloss2-gQs:5.1074 gloss3-dQs:4.9500 gloss4-tgtQ:5.7893 dloss:0.1336 exploreP:0.9996\n",
      "Episode:177 Steps:21 meanR:23.8800 R:22.0000 gloss:3.9919 gloss1-lgP:0.6916 gloss2-gQs:5.1217 gloss3-dQs:4.9583 gloss4-tgtQ:5.7721 dloss:0.1435 exploreP:0.9996\n",
      "Episode:178 Steps:49 meanR:24.2400 R:50.0000 gloss:3.9766 gloss1-lgP:0.6913 gloss2-gQs:5.0963 gloss3-dQs:4.9127 gloss4-tgtQ:5.7525 dloss:0.1453 exploreP:0.9996\n",
      "Episode:179 Steps:9 meanR:23.9600 R:10.0000 gloss:4.0229 gloss1-lgP:0.6936 gloss2-gQs:5.1413 gloss3-dQs:4.9515 gloss4-tgtQ:5.7998 dloss:0.1364 exploreP:0.9996\n",
      "Episode:180 Steps:18 meanR:24.0400 R:19.0000 gloss:4.0371 gloss1-lgP:0.6921 gloss2-gQs:5.1760 gloss3-dQs:4.9870 gloss4-tgtQ:5.8332 dloss:0.1290 exploreP:0.9996\n",
      "Episode:181 Steps:14 meanR:24.0700 R:15.0000 gloss:4.0148 gloss1-lgP:0.6926 gloss2-gQs:5.1436 gloss3-dQs:4.9730 gloss4-tgtQ:5.7967 dloss:0.1409 exploreP:0.9996\n",
      "Episode:182 Steps:44 meanR:24.3700 R:45.0000 gloss:3.9744 gloss1-lgP:0.6919 gloss2-gQs:5.1046 gloss3-dQs:4.9233 gloss4-tgtQ:5.7443 dloss:0.1480 exploreP:0.9996\n",
      "Episode:183 Steps:8 meanR:24.1400 R:9.0000 gloss:3.9623 gloss1-lgP:0.6926 gloss2-gQs:5.0939 gloss3-dQs:4.9064 gloss4-tgtQ:5.7207 dloss:0.1444 exploreP:0.9996\n",
      "Episode:184 Steps:41 meanR:24.0200 R:42.0000 gloss:3.9752 gloss1-lgP:0.6918 gloss2-gQs:5.0924 gloss3-dQs:4.9146 gloss4-tgtQ:5.7464 dloss:0.1439 exploreP:0.9996\n",
      "Episode:185 Steps:21 meanR:23.9600 R:22.0000 gloss:4.0576 gloss1-lgP:0.6911 gloss2-gQs:5.1978 gloss3-dQs:5.0371 gloss4-tgtQ:5.8708 dloss:0.1269 exploreP:0.9996\n",
      "Episode:186 Steps:22 meanR:23.9700 R:23.0000 gloss:4.0853 gloss1-lgP:0.6927 gloss2-gQs:5.2467 gloss3-dQs:5.0629 gloss4-tgtQ:5.8978 dloss:0.1302 exploreP:0.9996\n",
      "Episode:187 Steps:18 meanR:24.0700 R:19.0000 gloss:4.0368 gloss1-lgP:0.6915 gloss2-gQs:5.1721 gloss3-dQs:5.0083 gloss4-tgtQ:5.8375 dloss:0.1391 exploreP:0.9996\n",
      "Episode:188 Steps:24 meanR:24.1000 R:25.0000 gloss:4.0370 gloss1-lgP:0.6931 gloss2-gQs:5.1730 gloss3-dQs:4.9990 gloss4-tgtQ:5.8248 dloss:0.1341 exploreP:0.9996\n",
      "Episode:189 Steps:25 meanR:24.1000 R:26.0000 gloss:4.0218 gloss1-lgP:0.6919 gloss2-gQs:5.1666 gloss3-dQs:4.9892 gloss4-tgtQ:5.8127 dloss:0.1392 exploreP:0.9996\n",
      "Episode:190 Steps:9 meanR:23.9800 R:10.0000 gloss:4.0109 gloss1-lgP:0.6922 gloss2-gQs:5.1417 gloss3-dQs:4.9449 gloss4-tgtQ:5.7942 dloss:0.1365 exploreP:0.9996\n",
      "Episode:191 Steps:24 meanR:23.9700 R:25.0000 gloss:4.0299 gloss1-lgP:0.6913 gloss2-gQs:5.1805 gloss3-dQs:5.0043 gloss4-tgtQ:5.8291 dloss:0.1382 exploreP:0.9996\n",
      "Episode:192 Steps:27 meanR:23.8800 R:28.0000 gloss:4.0261 gloss1-lgP:0.6915 gloss2-gQs:5.1744 gloss3-dQs:5.0147 gloss4-tgtQ:5.8221 dloss:0.1399 exploreP:0.9996\n",
      "Episode:193 Steps:19 meanR:23.8600 R:20.0000 gloss:4.0537 gloss1-lgP:0.6911 gloss2-gQs:5.2044 gloss3-dQs:5.0284 gloss4-tgtQ:5.8654 dloss:0.1376 exploreP:0.9995\n",
      "Episode:194 Steps:25 meanR:23.9600 R:26.0000 gloss:4.0515 gloss1-lgP:0.6918 gloss2-gQs:5.2047 gloss3-dQs:5.0244 gloss4-tgtQ:5.8562 dloss:0.1377 exploreP:0.9995\n",
      "Episode:195 Steps:9 meanR:23.5800 R:10.0000 gloss:4.0970 gloss1-lgP:0.6923 gloss2-gQs:5.2542 gloss3-dQs:5.0802 gloss4-tgtQ:5.9179 dloss:0.1340 exploreP:0.9995\n",
      "Episode:196 Steps:13 meanR:23.4600 R:14.0000 gloss:4.0154 gloss1-lgP:0.6937 gloss2-gQs:5.1605 gloss3-dQs:4.9960 gloss4-tgtQ:5.7882 dloss:0.1538 exploreP:0.9995\n",
      "Episode:197 Steps:54 meanR:23.9100 R:55.0000 gloss:4.0673 gloss1-lgP:0.6916 gloss2-gQs:5.2493 gloss3-dQs:5.0788 gloss4-tgtQ:5.8812 dloss:0.1409 exploreP:0.9995\n",
      "Episode:198 Steps:18 meanR:23.8900 R:19.0000 gloss:4.0939 gloss1-lgP:0.6929 gloss2-gQs:5.2595 gloss3-dQs:5.0796 gloss4-tgtQ:5.9082 dloss:0.1348 exploreP:0.9995\n",
      "Episode:199 Steps:22 meanR:23.9900 R:23.0000 gloss:4.0836 gloss1-lgP:0.6924 gloss2-gQs:5.2648 gloss3-dQs:5.0862 gloss4-tgtQ:5.8982 dloss:0.1372 exploreP:0.9995\n",
      "Episode:200 Steps:15 meanR:24.0100 R:16.0000 gloss:4.1166 gloss1-lgP:0.6911 gloss2-gQs:5.3090 gloss3-dQs:5.1410 gloss4-tgtQ:5.9564 dloss:0.1270 exploreP:0.9995\n",
      "Episode:201 Steps:30 meanR:24.1800 R:31.0000 gloss:4.0353 gloss1-lgP:0.6923 gloss2-gQs:5.1999 gloss3-dQs:5.0203 gloss4-tgtQ:5.8293 dloss:0.1484 exploreP:0.9995\n",
      "Episode:202 Steps:37 meanR:24.2200 R:38.0000 gloss:4.1150 gloss1-lgP:0.6926 gloss2-gQs:5.3020 gloss3-dQs:5.1230 gloss4-tgtQ:5.9412 dloss:0.1351 exploreP:0.9995\n",
      "Episode:203 Steps:9 meanR:24.0200 R:10.0000 gloss:4.1480 gloss1-lgP:0.6926 gloss2-gQs:5.3436 gloss3-dQs:5.1824 gloss4-tgtQ:5.9894 dloss:0.1319 exploreP:0.9995\n",
      "Episode:204 Steps:15 meanR:23.9700 R:16.0000 gloss:4.1111 gloss1-lgP:0.6921 gloss2-gQs:5.3077 gloss3-dQs:5.1268 gloss4-tgtQ:5.9401 dloss:0.1352 exploreP:0.9995\n",
      "Episode:205 Steps:53 meanR:24.3600 R:54.0000 gloss:4.1164 gloss1-lgP:0.6922 gloss2-gQs:5.3201 gloss3-dQs:5.1451 gloss4-tgtQ:5.9473 dloss:0.1349 exploreP:0.9995\n",
      "Episode:206 Steps:49 meanR:24.6200 R:50.0000 gloss:4.1549 gloss1-lgP:0.6917 gloss2-gQs:5.3682 gloss3-dQs:5.2009 gloss4-tgtQ:6.0066 dloss:0.1352 exploreP:0.9995\n",
      "Episode:207 Steps:20 meanR:24.3300 R:21.0000 gloss:4.1096 gloss1-lgP:0.6921 gloss2-gQs:5.3089 gloss3-dQs:5.1284 gloss4-tgtQ:5.9377 dloss:0.1412 exploreP:0.9995\n",
      "Episode:208 Steps:13 meanR:24.3800 R:14.0000 gloss:4.1527 gloss1-lgP:0.6920 gloss2-gQs:5.3650 gloss3-dQs:5.1980 gloss4-tgtQ:6.0014 dloss:0.1333 exploreP:0.9995\n"
     ]
    },
    {
     "name": "stdout",
     "output_type": "stream",
     "text": [
      "Episode:209 Steps:53 meanR:24.7300 R:54.0000 gloss:4.1617 gloss1-lgP:0.6925 gloss2-gQs:5.3781 gloss3-dQs:5.1958 gloss4-tgtQ:6.0102 dloss:0.1361 exploreP:0.9995\n",
      "Episode:210 Steps:20 meanR:24.6800 R:21.0000 gloss:4.1935 gloss1-lgP:0.6925 gloss2-gQs:5.4144 gloss3-dQs:5.2477 gloss4-tgtQ:6.0560 dloss:0.1341 exploreP:0.9995\n",
      "Episode:211 Steps:21 meanR:24.7500 R:22.0000 gloss:4.2422 gloss1-lgP:0.6923 gloss2-gQs:5.4841 gloss3-dQs:5.3258 gloss4-tgtQ:6.1275 dloss:0.1230 exploreP:0.9995\n",
      "Episode:212 Steps:20 meanR:24.7900 R:21.0000 gloss:4.2201 gloss1-lgP:0.6921 gloss2-gQs:5.4789 gloss3-dQs:5.3131 gloss4-tgtQ:6.0978 dloss:0.1336 exploreP:0.9995\n",
      "Episode:213 Steps:20 meanR:24.8000 R:21.0000 gloss:4.1992 gloss1-lgP:0.6917 gloss2-gQs:5.4197 gloss3-dQs:5.2418 gloss4-tgtQ:6.0710 dloss:0.1311 exploreP:0.9995\n",
      "Episode:214 Steps:22 meanR:24.8200 R:23.0000 gloss:4.2510 gloss1-lgP:0.6922 gloss2-gQs:5.4924 gloss3-dQs:5.3308 gloss4-tgtQ:6.1418 dloss:0.1284 exploreP:0.9995\n",
      "Episode:215 Steps:10 meanR:24.7100 R:11.0000 gloss:4.1996 gloss1-lgP:0.6909 gloss2-gQs:5.4643 gloss3-dQs:5.2848 gloss4-tgtQ:6.0786 dloss:0.1302 exploreP:0.9995\n",
      "Episode:216 Steps:20 meanR:24.5600 R:21.0000 gloss:4.1721 gloss1-lgP:0.6918 gloss2-gQs:5.4195 gloss3-dQs:5.2313 gloss4-tgtQ:6.0311 dloss:0.1413 exploreP:0.9995\n",
      "Episode:217 Steps:41 meanR:24.6600 R:42.0000 gloss:4.2246 gloss1-lgP:0.6916 gloss2-gQs:5.4733 gloss3-dQs:5.2909 gloss4-tgtQ:6.1087 dloss:0.1323 exploreP:0.9995\n",
      "Episode:218 Steps:20 meanR:24.5800 R:21.0000 gloss:4.1982 gloss1-lgP:0.6917 gloss2-gQs:5.4428 gloss3-dQs:5.2548 gloss4-tgtQ:6.0695 dloss:0.1350 exploreP:0.9995\n",
      "Episode:219 Steps:25 meanR:24.5300 R:26.0000 gloss:4.2198 gloss1-lgP:0.6920 gloss2-gQs:5.4912 gloss3-dQs:5.3058 gloss4-tgtQ:6.0982 dloss:0.1293 exploreP:0.9995\n",
      "Episode:220 Steps:30 meanR:24.6300 R:31.0000 gloss:4.2349 gloss1-lgP:0.6918 gloss2-gQs:5.4998 gloss3-dQs:5.3363 gloss4-tgtQ:6.1217 dloss:0.1328 exploreP:0.9995\n",
      "Episode:221 Steps:11 meanR:24.5000 R:12.0000 gloss:4.2381 gloss1-lgP:0.6912 gloss2-gQs:5.5225 gloss3-dQs:5.3541 gloss4-tgtQ:6.1308 dloss:0.1316 exploreP:0.9995\n",
      "Episode:222 Steps:24 meanR:24.4300 R:25.0000 gloss:4.2344 gloss1-lgP:0.6922 gloss2-gQs:5.4960 gloss3-dQs:5.3306 gloss4-tgtQ:6.1171 dloss:0.1320 exploreP:0.9995\n",
      "Episode:223 Steps:13 meanR:24.4300 R:14.0000 gloss:4.2898 gloss1-lgP:0.6928 gloss2-gQs:5.5688 gloss3-dQs:5.3999 gloss4-tgtQ:6.1923 dloss:0.1335 exploreP:0.9995\n",
      "Episode:224 Steps:8 meanR:24.4100 R:9.0000 gloss:4.2160 gloss1-lgP:0.6917 gloss2-gQs:5.5092 gloss3-dQs:5.3184 gloss4-tgtQ:6.0951 dloss:0.1363 exploreP:0.9995\n",
      "Episode:225 Steps:12 meanR:24.3300 R:13.0000 gloss:4.1977 gloss1-lgP:0.6925 gloss2-gQs:5.4562 gloss3-dQs:5.2603 gloss4-tgtQ:6.0617 dloss:0.1394 exploreP:0.9995\n",
      "Episode:226 Steps:11 meanR:24.3500 R:12.0000 gloss:4.2703 gloss1-lgP:0.6920 gloss2-gQs:5.5297 gloss3-dQs:5.3503 gloss4-tgtQ:6.1712 dloss:0.1300 exploreP:0.9995\n",
      "Episode:227 Steps:15 meanR:24.3500 R:16.0000 gloss:4.2963 gloss1-lgP:0.6928 gloss2-gQs:5.5852 gloss3-dQs:5.4043 gloss4-tgtQ:6.2018 dloss:0.1253 exploreP:0.9995\n",
      "Episode:228 Steps:14 meanR:24.3200 R:15.0000 gloss:4.2660 gloss1-lgP:0.6914 gloss2-gQs:5.5520 gloss3-dQs:5.3739 gloss4-tgtQ:6.1699 dloss:0.1310 exploreP:0.9995\n",
      "Episode:229 Steps:16 meanR:24.1500 R:17.0000 gloss:4.3054 gloss1-lgP:0.6924 gloss2-gQs:5.6077 gloss3-dQs:5.4433 gloss4-tgtQ:6.2178 dloss:0.1274 exploreP:0.9995\n",
      "Episode:230 Steps:15 meanR:24.2000 R:16.0000 gloss:4.3170 gloss1-lgP:0.6921 gloss2-gQs:5.6183 gloss3-dQs:5.4380 gloss4-tgtQ:6.2371 dloss:0.1323 exploreP:0.9995\n",
      "Episode:231 Steps:10 meanR:24.0600 R:11.0000 gloss:4.2162 gloss1-lgP:0.6908 gloss2-gQs:5.4973 gloss3-dQs:5.3013 gloss4-tgtQ:6.1030 dloss:0.1340 exploreP:0.9995\n",
      "Episode:232 Steps:27 meanR:24.0100 R:28.0000 gloss:4.2902 gloss1-lgP:0.6920 gloss2-gQs:5.5694 gloss3-dQs:5.3934 gloss4-tgtQ:6.1995 dloss:0.1338 exploreP:0.9995\n",
      "Episode:233 Steps:35 meanR:24.2400 R:36.0000 gloss:4.2816 gloss1-lgP:0.6918 gloss2-gQs:5.5621 gloss3-dQs:5.3770 gloss4-tgtQ:6.1890 dloss:0.1311 exploreP:0.9995\n",
      "Episode:234 Steps:14 meanR:24.2800 R:15.0000 gloss:4.3228 gloss1-lgP:0.6921 gloss2-gQs:5.6304 gloss3-dQs:5.4479 gloss4-tgtQ:6.2463 dloss:0.1251 exploreP:0.9995\n",
      "Episode:235 Steps:12 meanR:24.2500 R:13.0000 gloss:4.3500 gloss1-lgP:0.6923 gloss2-gQs:5.6583 gloss3-dQs:5.4848 gloss4-tgtQ:6.2831 dloss:0.1249 exploreP:0.9995\n",
      "Episode:236 Steps:13 meanR:24.2700 R:14.0000 gloss:4.3182 gloss1-lgP:0.6900 gloss2-gQs:5.6327 gloss3-dQs:5.4594 gloss4-tgtQ:6.2583 dloss:0.1232 exploreP:0.9995\n",
      "Episode:237 Steps:64 meanR:24.8000 R:65.0000 gloss:4.3143 gloss1-lgP:0.6915 gloss2-gQs:5.6195 gloss3-dQs:5.4527 gloss4-tgtQ:6.2390 dloss:0.1288 exploreP:0.9994\n",
      "Episode:238 Steps:17 meanR:24.6800 R:18.0000 gloss:4.2800 gloss1-lgP:0.6915 gloss2-gQs:5.5962 gloss3-dQs:5.4151 gloss4-tgtQ:6.1895 dloss:0.1351 exploreP:0.9994\n",
      "Episode:239 Steps:12 meanR:24.3500 R:13.0000 gloss:4.2918 gloss1-lgP:0.6923 gloss2-gQs:5.5614 gloss3-dQs:5.4121 gloss4-tgtQ:6.1990 dloss:0.1315 exploreP:0.9994\n",
      "Episode:240 Steps:62 meanR:24.6700 R:63.0000 gloss:4.3503 gloss1-lgP:0.6920 gloss2-gQs:5.6688 gloss3-dQs:5.5115 gloss4-tgtQ:6.2863 dloss:0.1293 exploreP:0.9994\n",
      "Episode:241 Steps:19 meanR:24.5300 R:20.0000 gloss:4.3375 gloss1-lgP:0.6917 gloss2-gQs:5.6622 gloss3-dQs:5.5037 gloss4-tgtQ:6.2704 dloss:0.1292 exploreP:0.9994\n",
      "Episode:242 Steps:8 meanR:24.4500 R:9.0000 gloss:4.3703 gloss1-lgP:0.6908 gloss2-gQs:5.7161 gloss3-dQs:5.5753 gloss4-tgtQ:6.3263 dloss:0.1276 exploreP:0.9994\n",
      "Episode:243 Steps:15 meanR:24.4700 R:16.0000 gloss:4.3623 gloss1-lgP:0.6917 gloss2-gQs:5.7042 gloss3-dQs:5.5565 gloss4-tgtQ:6.3069 dloss:0.1290 exploreP:0.9994\n",
      "Episode:244 Steps:41 meanR:24.7100 R:42.0000 gloss:4.3405 gloss1-lgP:0.6921 gloss2-gQs:5.6672 gloss3-dQs:5.4976 gloss4-tgtQ:6.2714 dloss:0.1343 exploreP:0.9994\n",
      "Episode:245 Steps:19 meanR:24.8300 R:20.0000 gloss:4.4030 gloss1-lgP:0.6910 gloss2-gQs:5.7689 gloss3-dQs:5.6017 gloss4-tgtQ:6.3721 dloss:0.1224 exploreP:0.9994\n",
      "Episode:246 Steps:35 meanR:24.9900 R:36.0000 gloss:4.4209 gloss1-lgP:0.6915 gloss2-gQs:5.7877 gloss3-dQs:5.6199 gloss4-tgtQ:6.3931 dloss:0.1185 exploreP:0.9994\n",
      "Episode:247 Steps:12 meanR:24.7400 R:13.0000 gloss:4.3851 gloss1-lgP:0.6910 gloss2-gQs:5.7460 gloss3-dQs:5.5727 gloss4-tgtQ:6.3455 dloss:0.1278 exploreP:0.9994\n",
      "Episode:248 Steps:42 meanR:24.8100 R:43.0000 gloss:4.3550 gloss1-lgP:0.6909 gloss2-gQs:5.7007 gloss3-dQs:5.5461 gloss4-tgtQ:6.3037 dloss:0.1383 exploreP:0.9994\n",
      "Episode:249 Steps:14 meanR:24.8500 R:15.0000 gloss:4.4181 gloss1-lgP:0.6932 gloss2-gQs:5.7801 gloss3-dQs:5.6248 gloss4-tgtQ:6.3736 dloss:0.1224 exploreP:0.9994\n",
      "Episode:250 Steps:20 meanR:24.5600 R:21.0000 gloss:4.4541 gloss1-lgP:0.6916 gloss2-gQs:5.8396 gloss3-dQs:5.6792 gloss4-tgtQ:6.4404 dloss:0.1232 exploreP:0.9994\n",
      "Episode:251 Steps:11 meanR:24.4100 R:12.0000 gloss:4.4103 gloss1-lgP:0.6915 gloss2-gQs:5.7847 gloss3-dQs:5.6038 gloss4-tgtQ:6.3785 dloss:0.1253 exploreP:0.9994\n",
      "Episode:252 Steps:25 meanR:24.3100 R:26.0000 gloss:4.4495 gloss1-lgP:0.6910 gloss2-gQs:5.8230 gloss3-dQs:5.6767 gloss4-tgtQ:6.4391 dloss:0.1230 exploreP:0.9994\n",
      "Episode:253 Steps:15 meanR:24.3500 R:16.0000 gloss:4.4106 gloss1-lgP:0.6907 gloss2-gQs:5.7765 gloss3-dQs:5.6087 gloss4-tgtQ:6.3855 dloss:0.1271 exploreP:0.9994\n",
      "Episode:254 Steps:29 meanR:24.4200 R:30.0000 gloss:4.3880 gloss1-lgP:0.6909 gloss2-gQs:5.7574 gloss3-dQs:5.5984 gloss4-tgtQ:6.3511 dloss:0.1353 exploreP:0.9994\n",
      "Episode:255 Steps:25 meanR:24.2800 R:26.0000 gloss:4.4147 gloss1-lgP:0.6920 gloss2-gQs:5.7786 gloss3-dQs:5.6115 gloss4-tgtQ:6.3797 dloss:0.1315 exploreP:0.9994\n",
      "Episode:256 Steps:31 meanR:24.4900 R:32.0000 gloss:4.4078 gloss1-lgP:0.6921 gloss2-gQs:5.7653 gloss3-dQs:5.6013 gloss4-tgtQ:6.3684 dloss:0.1366 exploreP:0.9994\n",
      "Episode:257 Steps:32 meanR:24.5900 R:33.0000 gloss:4.3826 gloss1-lgP:0.6914 gloss2-gQs:5.7493 gloss3-dQs:5.5888 gloss4-tgtQ:6.3388 dloss:0.1350 exploreP:0.9994\n",
      "Episode:258 Steps:27 meanR:24.4700 R:28.0000 gloss:4.4133 gloss1-lgP:0.6921 gloss2-gQs:5.7816 gloss3-dQs:5.6248 gloss4-tgtQ:6.3766 dloss:0.1299 exploreP:0.9994\n",
      "Episode:259 Steps:17 meanR:24.5100 R:18.0000 gloss:4.3797 gloss1-lgP:0.6917 gloss2-gQs:5.7421 gloss3-dQs:5.5993 gloss4-tgtQ:6.3314 dloss:0.1336 exploreP:0.9994\n",
      "Episode:260 Steps:33 meanR:24.4500 R:34.0000 gloss:4.4285 gloss1-lgP:0.6910 gloss2-gQs:5.8071 gloss3-dQs:5.6559 gloss4-tgtQ:6.4084 dloss:0.1328 exploreP:0.9994\n",
      "Episode:261 Steps:19 meanR:24.5000 R:20.0000 gloss:4.4617 gloss1-lgP:0.6921 gloss2-gQs:5.8635 gloss3-dQs:5.6996 gloss4-tgtQ:6.4466 dloss:0.1297 exploreP:0.9994\n"
     ]
    },
    {
     "name": "stdout",
     "output_type": "stream",
     "text": [
      "Episode:262 Steps:15 meanR:24.4300 R:16.0000 gloss:4.4527 gloss1-lgP:0.6915 gloss2-gQs:5.8580 gloss3-dQs:5.7047 gloss4-tgtQ:6.4392 dloss:0.1249 exploreP:0.9994\n",
      "Episode:263 Steps:30 meanR:24.4300 R:31.0000 gloss:4.4978 gloss1-lgP:0.6918 gloss2-gQs:5.8986 gloss3-dQs:5.7517 gloss4-tgtQ:6.5014 dloss:0.1293 exploreP:0.9994\n",
      "Episode:264 Steps:30 meanR:24.5000 R:31.0000 gloss:4.4402 gloss1-lgP:0.6915 gloss2-gQs:5.8346 gloss3-dQs:5.6710 gloss4-tgtQ:6.4213 dloss:0.1336 exploreP:0.9994\n",
      "Episode:265 Steps:30 meanR:24.5800 R:31.0000 gloss:4.5045 gloss1-lgP:0.6923 gloss2-gQs:5.9037 gloss3-dQs:5.7477 gloss4-tgtQ:6.5064 dloss:0.1269 exploreP:0.9994\n",
      "Episode:266 Steps:21 meanR:24.4000 R:22.0000 gloss:4.4783 gloss1-lgP:0.6917 gloss2-gQs:5.8875 gloss3-dQs:5.7230 gloss4-tgtQ:6.4747 dloss:0.1316 exploreP:0.9994\n",
      "Episode:267 Steps:18 meanR:24.4300 R:19.0000 gloss:4.4940 gloss1-lgP:0.6922 gloss2-gQs:5.9138 gloss3-dQs:5.7628 gloss4-tgtQ:6.4925 dloss:0.1291 exploreP:0.9994\n",
      "Episode:268 Steps:21 meanR:24.5300 R:22.0000 gloss:4.5415 gloss1-lgP:0.6915 gloss2-gQs:5.9714 gloss3-dQs:5.8426 gloss4-tgtQ:6.5678 dloss:0.1227 exploreP:0.9994\n",
      "Episode:269 Steps:14 meanR:24.3000 R:15.0000 gloss:4.5600 gloss1-lgP:0.6919 gloss2-gQs:5.9911 gloss3-dQs:5.8564 gloss4-tgtQ:6.5903 dloss:0.1276 exploreP:0.9994\n",
      "Episode:270 Steps:26 meanR:24.3800 R:27.0000 gloss:4.5276 gloss1-lgP:0.6924 gloss2-gQs:5.9547 gloss3-dQs:5.7869 gloss4-tgtQ:6.5390 dloss:0.1278 exploreP:0.9994\n",
      "Episode:271 Steps:12 meanR:24.0900 R:13.0000 gloss:4.5864 gloss1-lgP:0.6910 gloss2-gQs:6.0635 gloss3-dQs:5.9230 gloss4-tgtQ:6.6370 dloss:0.1192 exploreP:0.9994\n",
      "Episode:272 Steps:29 meanR:24.1300 R:30.0000 gloss:4.6229 gloss1-lgP:0.6921 gloss2-gQs:6.1026 gloss3-dQs:5.9572 gloss4-tgtQ:6.6790 dloss:0.1172 exploreP:0.9994\n",
      "Episode:273 Steps:8 meanR:24.0200 R:9.0000 gloss:4.5466 gloss1-lgP:0.6909 gloss2-gQs:6.0069 gloss3-dQs:5.8615 gloss4-tgtQ:6.5803 dloss:0.1325 exploreP:0.9994\n",
      "Episode:274 Steps:34 meanR:24.0300 R:35.0000 gloss:4.5698 gloss1-lgP:0.6914 gloss2-gQs:6.0282 gloss3-dQs:5.8680 gloss4-tgtQ:6.6091 dloss:0.1251 exploreP:0.9994\n",
      "Episode:275 Steps:10 meanR:23.7900 R:11.0000 gloss:4.6071 gloss1-lgP:0.6909 gloss2-gQs:6.0779 gloss3-dQs:5.9378 gloss4-tgtQ:6.6681 dloss:0.1210 exploreP:0.9994\n",
      "Episode:276 Steps:15 meanR:23.8400 R:16.0000 gloss:4.6130 gloss1-lgP:0.6917 gloss2-gQs:6.0828 gloss3-dQs:5.9298 gloss4-tgtQ:6.6688 dloss:0.1262 exploreP:0.9994\n",
      "Episode:277 Steps:14 meanR:23.7700 R:15.0000 gloss:4.5755 gloss1-lgP:0.6916 gloss2-gQs:6.0182 gloss3-dQs:5.8709 gloss4-tgtQ:6.6160 dloss:0.1204 exploreP:0.9994\n",
      "Episode:278 Steps:12 meanR:23.4000 R:13.0000 gloss:4.5446 gloss1-lgP:0.6914 gloss2-gQs:6.0129 gloss3-dQs:5.8459 gloss4-tgtQ:6.5733 dloss:0.1345 exploreP:0.9993\n",
      "Episode:279 Steps:42 meanR:23.7300 R:43.0000 gloss:4.5876 gloss1-lgP:0.6918 gloss2-gQs:6.0475 gloss3-dQs:5.8888 gloss4-tgtQ:6.6318 dloss:0.1271 exploreP:0.9993\n",
      "Episode:280 Steps:21 meanR:23.7600 R:22.0000 gloss:4.5674 gloss1-lgP:0.6920 gloss2-gQs:6.0081 gloss3-dQs:5.8479 gloss4-tgtQ:6.6000 dloss:0.1292 exploreP:0.9993\n",
      "Episode:281 Steps:25 meanR:23.8700 R:26.0000 gloss:4.6212 gloss1-lgP:0.6912 gloss2-gQs:6.1014 gloss3-dQs:5.9526 gloss4-tgtQ:6.6854 dloss:0.1245 exploreP:0.9993\n",
      "Episode:282 Steps:13 meanR:23.5600 R:14.0000 gloss:4.5253 gloss1-lgP:0.6918 gloss2-gQs:5.9783 gloss3-dQs:5.8070 gloss4-tgtQ:6.5413 dloss:0.1296 exploreP:0.9993\n",
      "Episode:283 Steps:16 meanR:23.6400 R:17.0000 gloss:4.5213 gloss1-lgP:0.6919 gloss2-gQs:5.9730 gloss3-dQs:5.8076 gloss4-tgtQ:6.5347 dloss:0.1330 exploreP:0.9993\n",
      "Episode:284 Steps:42 meanR:23.6500 R:43.0000 gloss:4.5741 gloss1-lgP:0.6917 gloss2-gQs:6.0272 gloss3-dQs:5.8756 gloss4-tgtQ:6.6125 dloss:0.1301 exploreP:0.9993\n",
      "Episode:285 Steps:52 meanR:23.9600 R:53.0000 gloss:4.6058 gloss1-lgP:0.6919 gloss2-gQs:6.0725 gloss3-dQs:5.9084 gloss4-tgtQ:6.6569 dloss:0.1236 exploreP:0.9993\n",
      "Episode:286 Steps:20 meanR:23.9400 R:21.0000 gloss:4.6048 gloss1-lgP:0.6919 gloss2-gQs:6.0691 gloss3-dQs:5.9095 gloss4-tgtQ:6.6548 dloss:0.1280 exploreP:0.9993\n",
      "Episode:287 Steps:16 meanR:23.9200 R:17.0000 gloss:4.6194 gloss1-lgP:0.6910 gloss2-gQs:6.0957 gloss3-dQs:5.9310 gloss4-tgtQ:6.6855 dloss:0.1258 exploreP:0.9993\n",
      "Episode:288 Steps:15 meanR:23.8300 R:16.0000 gloss:4.5939 gloss1-lgP:0.6916 gloss2-gQs:6.0631 gloss3-dQs:5.8791 gloss4-tgtQ:6.6429 dloss:0.1216 exploreP:0.9993\n",
      "Episode:289 Steps:17 meanR:23.7500 R:18.0000 gloss:4.6171 gloss1-lgP:0.6916 gloss2-gQs:6.0906 gloss3-dQs:5.9261 gloss4-tgtQ:6.6764 dloss:0.1251 exploreP:0.9993\n",
      "Episode:290 Steps:28 meanR:23.9400 R:29.0000 gloss:4.6124 gloss1-lgP:0.6917 gloss2-gQs:6.0845 gloss3-dQs:5.9270 gloss4-tgtQ:6.6681 dloss:0.1315 exploreP:0.9993\n",
      "Episode:291 Steps:21 meanR:23.9100 R:22.0000 gloss:4.5853 gloss1-lgP:0.6926 gloss2-gQs:6.0284 gloss3-dQs:5.8634 gloss4-tgtQ:6.6204 dloss:0.1338 exploreP:0.9993\n",
      "Episode:292 Steps:76 meanR:24.4000 R:77.0000 gloss:4.6557 gloss1-lgP:0.6922 gloss2-gQs:6.1488 gloss3-dQs:5.9855 gloss4-tgtQ:6.7260 dloss:0.1245 exploreP:0.9993\n",
      "Episode:293 Steps:10 meanR:24.3100 R:11.0000 gloss:4.6553 gloss1-lgP:0.6916 gloss2-gQs:6.1546 gloss3-dQs:6.0017 gloss4-tgtQ:6.7312 dloss:0.1242 exploreP:0.9993\n",
      "Episode:294 Steps:17 meanR:24.2300 R:18.0000 gloss:4.6138 gloss1-lgP:0.6915 gloss2-gQs:6.1020 gloss3-dQs:5.9568 gloss4-tgtQ:6.6725 dloss:0.1336 exploreP:0.9993\n",
      "Episode:295 Steps:26 meanR:24.4000 R:27.0000 gloss:4.7175 gloss1-lgP:0.6914 gloss2-gQs:6.2339 gloss3-dQs:6.0875 gloss4-tgtQ:6.8233 dloss:0.1208 exploreP:0.9993\n",
      "Episode:296 Steps:31 meanR:24.5800 R:32.0000 gloss:4.7776 gloss1-lgP:0.6925 gloss2-gQs:6.3058 gloss3-dQs:6.1545 gloss4-tgtQ:6.8988 dloss:0.1105 exploreP:0.9993\n",
      "Episode:297 Steps:14 meanR:24.1800 R:15.0000 gloss:4.7882 gloss1-lgP:0.6908 gloss2-gQs:6.3545 gloss3-dQs:6.2053 gloss4-tgtQ:6.9317 dloss:0.1189 exploreP:0.9993\n",
      "Episode:298 Steps:12 meanR:24.1200 R:13.0000 gloss:4.7269 gloss1-lgP:0.6923 gloss2-gQs:6.2401 gloss3-dQs:6.0660 gloss4-tgtQ:6.8280 dloss:0.1158 exploreP:0.9993\n",
      "Episode:299 Steps:9 meanR:23.9900 R:10.0000 gloss:4.6293 gloss1-lgP:0.6914 gloss2-gQs:6.1300 gloss3-dQs:5.9620 gloss4-tgtQ:6.6949 dloss:0.1302 exploreP:0.9993\n",
      "Episode:300 Steps:26 meanR:24.1000 R:27.0000 gloss:4.7150 gloss1-lgP:0.6931 gloss2-gQs:6.2396 gloss3-dQs:6.0823 gloss4-tgtQ:6.8025 dloss:0.1279 exploreP:0.9993\n",
      "Episode:301 Steps:15 meanR:23.9500 R:16.0000 gloss:4.6795 gloss1-lgP:0.6910 gloss2-gQs:6.1881 gloss3-dQs:6.0261 gloss4-tgtQ:6.7724 dloss:0.1351 exploreP:0.9993\n",
      "Episode:302 Steps:31 meanR:23.8900 R:32.0000 gloss:4.6850 gloss1-lgP:0.6924 gloss2-gQs:6.2074 gloss3-dQs:6.0356 gloss4-tgtQ:6.7664 dloss:0.1296 exploreP:0.9993\n",
      "Episode:303 Steps:14 meanR:23.9400 R:15.0000 gloss:4.6093 gloss1-lgP:0.6930 gloss2-gQs:6.1079 gloss3-dQs:5.9449 gloss4-tgtQ:6.6516 dloss:0.1405 exploreP:0.9993\n",
      "Episode:304 Steps:14 meanR:23.9300 R:15.0000 gloss:4.7042 gloss1-lgP:0.6905 gloss2-gQs:6.2109 gloss3-dQs:6.0389 gloss4-tgtQ:6.8132 dloss:0.1184 exploreP:0.9993\n",
      "Episode:305 Steps:34 meanR:23.7400 R:35.0000 gloss:4.7080 gloss1-lgP:0.6923 gloss2-gQs:6.2425 gloss3-dQs:6.0741 gloss4-tgtQ:6.8011 dloss:0.1222 exploreP:0.9993\n",
      "Episode:306 Steps:22 meanR:23.4700 R:23.0000 gloss:4.6698 gloss1-lgP:0.6919 gloss2-gQs:6.1809 gloss3-dQs:6.0326 gloss4-tgtQ:6.7497 dloss:0.1249 exploreP:0.9993\n",
      "Episode:307 Steps:19 meanR:23.4600 R:20.0000 gloss:4.7571 gloss1-lgP:0.6916 gloss2-gQs:6.3038 gloss3-dQs:6.1475 gloss4-tgtQ:6.8784 dloss:0.1193 exploreP:0.9993\n",
      "Episode:308 Steps:48 meanR:23.8100 R:49.0000 gloss:4.7441 gloss1-lgP:0.6913 gloss2-gQs:6.2883 gloss3-dQs:6.1244 gloss4-tgtQ:6.8622 dloss:0.1270 exploreP:0.9993\n",
      "Episode:309 Steps:18 meanR:23.4600 R:19.0000 gloss:4.7491 gloss1-lgP:0.6918 gloss2-gQs:6.2861 gloss3-dQs:6.1203 gloss4-tgtQ:6.8645 dloss:0.1226 exploreP:0.9993\n",
      "Episode:310 Steps:19 meanR:23.4500 R:20.0000 gloss:4.7747 gloss1-lgP:0.6932 gloss2-gQs:6.3118 gloss3-dQs:6.1425 gloss4-tgtQ:6.8880 dloss:0.1204 exploreP:0.9993\n",
      "Episode:311 Steps:14 meanR:23.3800 R:15.0000 gloss:4.6694 gloss1-lgP:0.6920 gloss2-gQs:6.1858 gloss3-dQs:6.0093 gloss4-tgtQ:6.7480 dloss:0.1318 exploreP:0.9993\n",
      "Episode:312 Steps:22 meanR:23.4000 R:23.0000 gloss:4.6842 gloss1-lgP:0.6913 gloss2-gQs:6.1980 gloss3-dQs:6.0445 gloss4-tgtQ:6.7755 dloss:0.1306 exploreP:0.9993\n",
      "Episode:313 Steps:17 meanR:23.3700 R:18.0000 gloss:4.6613 gloss1-lgP:0.6924 gloss2-gQs:6.1817 gloss3-dQs:6.0203 gloss4-tgtQ:6.7316 dloss:0.1373 exploreP:0.9993\n"
     ]
    },
    {
     "name": "stdout",
     "output_type": "stream",
     "text": [
      "Episode:314 Steps:15 meanR:23.3000 R:16.0000 gloss:4.7121 gloss1-lgP:0.6918 gloss2-gQs:6.2686 gloss3-dQs:6.0981 gloss4-tgtQ:6.8111 dloss:0.1334 exploreP:0.9993\n",
      "Episode:315 Steps:24 meanR:23.4400 R:25.0000 gloss:4.7678 gloss1-lgP:0.6920 gloss2-gQs:6.2999 gloss3-dQs:6.1290 gloss4-tgtQ:6.8895 dloss:0.1279 exploreP:0.9993\n",
      "Episode:316 Steps:13 meanR:23.3700 R:14.0000 gloss:4.8301 gloss1-lgP:0.6917 gloss2-gQs:6.3816 gloss3-dQs:6.2234 gloss4-tgtQ:6.9831 dloss:0.1159 exploreP:0.9993\n",
      "Episode:317 Steps:18 meanR:23.1400 R:19.0000 gloss:4.7046 gloss1-lgP:0.6916 gloss2-gQs:6.2516 gloss3-dQs:6.0897 gloss4-tgtQ:6.8025 dloss:0.1298 exploreP:0.9993\n",
      "Episode:318 Steps:16 meanR:23.1000 R:17.0000 gloss:4.8034 gloss1-lgP:0.6916 gloss2-gQs:6.3578 gloss3-dQs:6.2001 gloss4-tgtQ:6.9451 dloss:0.1239 exploreP:0.9993\n",
      "Episode:319 Steps:25 meanR:23.1000 R:26.0000 gloss:4.8198 gloss1-lgP:0.6910 gloss2-gQs:6.4079 gloss3-dQs:6.2662 gloss4-tgtQ:6.9752 dloss:0.1215 exploreP:0.9993\n",
      "Episode:320 Steps:20 meanR:23.0000 R:21.0000 gloss:4.7690 gloss1-lgP:0.6931 gloss2-gQs:6.3328 gloss3-dQs:6.1704 gloss4-tgtQ:6.8804 dloss:0.1261 exploreP:0.9993\n",
      "Episode:321 Steps:17 meanR:23.0600 R:18.0000 gloss:4.8192 gloss1-lgP:0.6917 gloss2-gQs:6.4030 gloss3-dQs:6.2562 gloss4-tgtQ:6.9668 dloss:0.1250 exploreP:0.9992\n",
      "Episode:322 Steps:18 meanR:23.0000 R:19.0000 gloss:4.7697 gloss1-lgP:0.6914 gloss2-gQs:6.3451 gloss3-dQs:6.2023 gloss4-tgtQ:6.8989 dloss:0.1253 exploreP:0.9992\n",
      "Episode:323 Steps:18 meanR:23.0500 R:19.0000 gloss:4.7706 gloss1-lgP:0.6921 gloss2-gQs:6.3343 gloss3-dQs:6.1918 gloss4-tgtQ:6.8929 dloss:0.1269 exploreP:0.9992\n",
      "Episode:324 Steps:47 meanR:23.4400 R:48.0000 gloss:4.8164 gloss1-lgP:0.6909 gloss2-gQs:6.4109 gloss3-dQs:6.2573 gloss4-tgtQ:6.9712 dloss:0.1204 exploreP:0.9992\n",
      "Episode:325 Steps:39 meanR:23.7100 R:40.0000 gloss:4.8648 gloss1-lgP:0.6917 gloss2-gQs:6.4699 gloss3-dQs:6.3036 gloss4-tgtQ:7.0332 dloss:0.1199 exploreP:0.9992\n",
      "Episode:326 Steps:11 meanR:23.7100 R:12.0000 gloss:4.8012 gloss1-lgP:0.6915 gloss2-gQs:6.4118 gloss3-dQs:6.2240 gloss4-tgtQ:6.9434 dloss:0.1270 exploreP:0.9992\n",
      "Episode:327 Steps:48 meanR:24.0400 R:49.0000 gloss:4.8410 gloss1-lgP:0.6917 gloss2-gQs:6.4371 gloss3-dQs:6.2765 gloss4-tgtQ:6.9987 dloss:0.1198 exploreP:0.9992\n",
      "Episode:328 Steps:16 meanR:24.0600 R:17.0000 gloss:4.7775 gloss1-lgP:0.6916 gloss2-gQs:6.3534 gloss3-dQs:6.1938 gloss4-tgtQ:6.9076 dloss:0.1279 exploreP:0.9992\n",
      "Episode:329 Steps:13 meanR:24.0300 R:14.0000 gloss:4.8349 gloss1-lgP:0.6921 gloss2-gQs:6.4233 gloss3-dQs:6.2647 gloss4-tgtQ:6.9858 dloss:0.1192 exploreP:0.9992\n",
      "Episode:330 Steps:11 meanR:23.9900 R:12.0000 gloss:4.8207 gloss1-lgP:0.6917 gloss2-gQs:6.4016 gloss3-dQs:6.2316 gloss4-tgtQ:6.9693 dloss:0.1225 exploreP:0.9992\n",
      "Episode:331 Steps:46 meanR:24.3500 R:47.0000 gloss:4.8111 gloss1-lgP:0.6918 gloss2-gQs:6.4000 gloss3-dQs:6.2247 gloss4-tgtQ:6.9547 dloss:0.1276 exploreP:0.9992\n",
      "Episode:332 Steps:37 meanR:24.4500 R:38.0000 gloss:4.8586 gloss1-lgP:0.6915 gloss2-gQs:6.4638 gloss3-dQs:6.3100 gloss4-tgtQ:7.0261 dloss:0.1240 exploreP:0.9992\n",
      "Episode:333 Steps:27 meanR:24.3700 R:28.0000 gloss:4.8447 gloss1-lgP:0.6918 gloss2-gQs:6.4440 gloss3-dQs:6.2974 gloss4-tgtQ:7.0025 dloss:0.1249 exploreP:0.9992\n",
      "Episode:334 Steps:21 meanR:24.4400 R:22.0000 gloss:4.8557 gloss1-lgP:0.6920 gloss2-gQs:6.4603 gloss3-dQs:6.3053 gloss4-tgtQ:7.0168 dloss:0.1263 exploreP:0.9992\n",
      "Episode:335 Steps:18 meanR:24.5000 R:19.0000 gloss:4.8625 gloss1-lgP:0.6923 gloss2-gQs:6.4698 gloss3-dQs:6.3030 gloss4-tgtQ:7.0241 dloss:0.1201 exploreP:0.9992\n",
      "Episode:336 Steps:28 meanR:24.6500 R:29.0000 gloss:4.8149 gloss1-lgP:0.6923 gloss2-gQs:6.4136 gloss3-dQs:6.2427 gloss4-tgtQ:6.9553 dloss:0.1312 exploreP:0.9992\n",
      "Episode:337 Steps:13 meanR:24.1400 R:14.0000 gloss:4.8692 gloss1-lgP:0.6920 gloss2-gQs:6.5191 gloss3-dQs:6.3346 gloss4-tgtQ:7.0368 dloss:0.1222 exploreP:0.9992\n",
      "Episode:338 Steps:22 meanR:24.1900 R:23.0000 gloss:4.8913 gloss1-lgP:0.6924 gloss2-gQs:6.5219 gloss3-dQs:6.3597 gloss4-tgtQ:7.0642 dloss:0.1198 exploreP:0.9992\n",
      "Episode:339 Steps:21 meanR:24.2800 R:22.0000 gloss:4.8646 gloss1-lgP:0.6925 gloss2-gQs:6.4780 gloss3-dQs:6.3178 gloss4-tgtQ:7.0241 dloss:0.1323 exploreP:0.9992\n",
      "Episode:340 Steps:14 meanR:23.8000 R:15.0000 gloss:4.8219 gloss1-lgP:0.6914 gloss2-gQs:6.4390 gloss3-dQs:6.2682 gloss4-tgtQ:6.9743 dloss:0.1335 exploreP:0.9992\n",
      "Episode:341 Steps:15 meanR:23.7600 R:16.0000 gloss:4.8976 gloss1-lgP:0.6912 gloss2-gQs:6.5504 gloss3-dQs:6.3752 gloss4-tgtQ:7.0853 dloss:0.1194 exploreP:0.9992\n",
      "Episode:342 Steps:11 meanR:23.7900 R:12.0000 gloss:4.8589 gloss1-lgP:0.6923 gloss2-gQs:6.4537 gloss3-dQs:6.2797 gloss4-tgtQ:7.0187 dloss:0.1196 exploreP:0.9992\n",
      "Episode:343 Steps:30 meanR:23.9400 R:31.0000 gloss:4.8925 gloss1-lgP:0.6923 gloss2-gQs:6.5175 gloss3-dQs:6.3382 gloss4-tgtQ:7.0673 dloss:0.1246 exploreP:0.9992\n",
      "Episode:344 Steps:19 meanR:23.7200 R:20.0000 gloss:4.8876 gloss1-lgP:0.6918 gloss2-gQs:6.5040 gloss3-dQs:6.3581 gloss4-tgtQ:7.0655 dloss:0.1220 exploreP:0.9992\n",
      "Episode:345 Steps:12 meanR:23.6500 R:13.0000 gloss:4.8705 gloss1-lgP:0.6920 gloss2-gQs:6.4925 gloss3-dQs:6.3321 gloss4-tgtQ:7.0378 dloss:0.1307 exploreP:0.9992\n",
      "Episode:346 Steps:21 meanR:23.5100 R:22.0000 gloss:4.9094 gloss1-lgP:0.6915 gloss2-gQs:6.5495 gloss3-dQs:6.3822 gloss4-tgtQ:7.0996 dloss:0.1196 exploreP:0.9992\n",
      "Episode:347 Steps:27 meanR:23.6600 R:28.0000 gloss:4.9022 gloss1-lgP:0.6922 gloss2-gQs:6.5404 gloss3-dQs:6.3631 gloss4-tgtQ:7.0819 dloss:0.1230 exploreP:0.9992\n",
      "Episode:348 Steps:10 meanR:23.3400 R:11.0000 gloss:4.9110 gloss1-lgP:0.6930 gloss2-gQs:6.5261 gloss3-dQs:6.3566 gloss4-tgtQ:7.0862 dloss:0.1235 exploreP:0.9992\n",
      "Episode:349 Steps:42 meanR:23.6200 R:43.0000 gloss:4.9434 gloss1-lgP:0.6916 gloss2-gQs:6.5975 gloss3-dQs:6.4433 gloss4-tgtQ:7.1481 dloss:0.1175 exploreP:0.9992\n",
      "Episode:350 Steps:27 meanR:23.6900 R:28.0000 gloss:4.8904 gloss1-lgP:0.6913 gloss2-gQs:6.5206 gloss3-dQs:6.3524 gloss4-tgtQ:7.0739 dloss:0.1305 exploreP:0.9992\n",
      "Episode:351 Steps:19 meanR:23.7700 R:20.0000 gloss:4.9006 gloss1-lgP:0.6916 gloss2-gQs:6.5359 gloss3-dQs:6.3943 gloss4-tgtQ:7.0855 dloss:0.1304 exploreP:0.9992\n",
      "Episode:352 Steps:21 meanR:23.7300 R:22.0000 gloss:4.8724 gloss1-lgP:0.6921 gloss2-gQs:6.4792 gloss3-dQs:6.3119 gloss4-tgtQ:7.0400 dloss:0.1326 exploreP:0.9992\n",
      "Episode:353 Steps:23 meanR:23.8100 R:24.0000 gloss:4.9286 gloss1-lgP:0.6916 gloss2-gQs:6.5790 gloss3-dQs:6.4162 gloss4-tgtQ:7.1261 dloss:0.1184 exploreP:0.9992\n",
      "Episode:354 Steps:28 meanR:23.8000 R:29.0000 gloss:4.9404 gloss1-lgP:0.6920 gloss2-gQs:6.5919 gloss3-dQs:6.4165 gloss4-tgtQ:7.1395 dloss:0.1215 exploreP:0.9992\n",
      "Episode:355 Steps:19 meanR:23.7400 R:20.0000 gloss:4.9258 gloss1-lgP:0.6914 gloss2-gQs:6.5556 gloss3-dQs:6.3969 gloss4-tgtQ:7.1248 dloss:0.1237 exploreP:0.9992\n",
      "Episode:356 Steps:38 meanR:23.8100 R:39.0000 gloss:4.9347 gloss1-lgP:0.6914 gloss2-gQs:6.5795 gloss3-dQs:6.4217 gloss4-tgtQ:7.1378 dloss:0.1218 exploreP:0.9992\n",
      "Episode:357 Steps:13 meanR:23.6200 R:14.0000 gloss:4.9197 gloss1-lgP:0.6929 gloss2-gQs:6.5733 gloss3-dQs:6.3947 gloss4-tgtQ:7.1007 dloss:0.1279 exploreP:0.9992\n",
      "Episode:358 Steps:17 meanR:23.5200 R:18.0000 gloss:4.8618 gloss1-lgP:0.6921 gloss2-gQs:6.4773 gloss3-dQs:6.3181 gloss4-tgtQ:7.0244 dloss:0.1325 exploreP:0.9992\n",
      "Episode:359 Steps:13 meanR:23.4800 R:14.0000 gloss:4.9518 gloss1-lgP:0.6921 gloss2-gQs:6.6079 gloss3-dQs:6.4273 gloss4-tgtQ:7.1554 dloss:0.1229 exploreP:0.9992\n",
      "Episode:360 Steps:13 meanR:23.2800 R:14.0000 gloss:4.9955 gloss1-lgP:0.6914 gloss2-gQs:6.6487 gloss3-dQs:6.5004 gloss4-tgtQ:7.2247 dloss:0.1170 exploreP:0.9992\n",
      "Episode:361 Steps:12 meanR:23.2100 R:13.0000 gloss:4.9121 gloss1-lgP:0.6900 gloss2-gQs:6.5571 gloss3-dQs:6.4227 gloss4-tgtQ:7.1189 dloss:0.1244 exploreP:0.9992\n",
      "Episode:362 Steps:30 meanR:23.3600 R:31.0000 gloss:4.9844 gloss1-lgP:0.6914 gloss2-gQs:6.6512 gloss3-dQs:6.4820 gloss4-tgtQ:7.2093 dloss:0.1209 exploreP:0.9992\n",
      "Episode:363 Steps:27 meanR:23.3300 R:28.0000 gloss:4.8971 gloss1-lgP:0.6918 gloss2-gQs:6.5507 gloss3-dQs:6.3734 gloss4-tgtQ:7.0786 dloss:0.1352 exploreP:0.9991\n",
      "Episode:364 Steps:16 meanR:23.1900 R:17.0000 gloss:5.0081 gloss1-lgP:0.6928 gloss2-gQs:6.6957 gloss3-dQs:6.5152 gloss4-tgtQ:7.2286 dloss:0.1151 exploreP:0.9991\n",
      "Episode:365 Steps:45 meanR:23.3400 R:46.0000 gloss:4.9737 gloss1-lgP:0.6917 gloss2-gQs:6.6431 gloss3-dQs:6.4805 gloss4-tgtQ:7.1907 dloss:0.1234 exploreP:0.9991\n",
      "Episode:366 Steps:9 meanR:23.2200 R:10.0000 gloss:4.9362 gloss1-lgP:0.6915 gloss2-gQs:6.5854 gloss3-dQs:6.4057 gloss4-tgtQ:7.1381 dloss:0.1249 exploreP:0.9991\n"
     ]
    },
    {
     "name": "stdout",
     "output_type": "stream",
     "text": [
      "Episode:367 Steps:22 meanR:23.2600 R:23.0000 gloss:4.9305 gloss1-lgP:0.6917 gloss2-gQs:6.5919 gloss3-dQs:6.4102 gloss4-tgtQ:7.1284 dloss:0.1240 exploreP:0.9991\n",
      "Episode:368 Steps:21 meanR:23.2600 R:22.0000 gloss:4.9852 gloss1-lgP:0.6922 gloss2-gQs:6.6741 gloss3-dQs:6.5163 gloss4-tgtQ:7.2023 dloss:0.1242 exploreP:0.9991\n",
      "Episode:369 Steps:11 meanR:23.2300 R:12.0000 gloss:4.9955 gloss1-lgP:0.6929 gloss2-gQs:6.6503 gloss3-dQs:6.4736 gloss4-tgtQ:7.2094 dloss:0.1180 exploreP:0.9991\n",
      "Episode:370 Steps:8 meanR:23.0500 R:9.0000 gloss:4.9784 gloss1-lgP:0.6910 gloss2-gQs:6.6775 gloss3-dQs:6.5031 gloss4-tgtQ:7.2044 dloss:0.1266 exploreP:0.9991\n",
      "Episode:371 Steps:21 meanR:23.1400 R:22.0000 gloss:5.0702 gloss1-lgP:0.6919 gloss2-gQs:6.7776 gloss3-dQs:6.6168 gloss4-tgtQ:7.3278 dloss:0.1111 exploreP:0.9991\n",
      "Episode:372 Steps:11 meanR:22.9600 R:12.0000 gloss:4.9082 gloss1-lgP:0.6901 gloss2-gQs:6.5796 gloss3-dQs:6.4054 gloss4-tgtQ:7.1126 dloss:0.1333 exploreP:0.9991\n",
      "Episode:373 Steps:17 meanR:23.0500 R:18.0000 gloss:4.9024 gloss1-lgP:0.6907 gloss2-gQs:6.5645 gloss3-dQs:6.3816 gloss4-tgtQ:7.0982 dloss:0.1278 exploreP:0.9991\n",
      "Episode:374 Steps:21 meanR:22.9200 R:22.0000 gloss:4.9824 gloss1-lgP:0.6912 gloss2-gQs:6.6729 gloss3-dQs:6.4901 gloss4-tgtQ:7.2085 dloss:0.1198 exploreP:0.9991\n",
      "Episode:375 Steps:26 meanR:23.0800 R:27.0000 gloss:5.0109 gloss1-lgP:0.6920 gloss2-gQs:6.6874 gloss3-dQs:6.5351 gloss4-tgtQ:7.2407 dloss:0.1182 exploreP:0.9991\n",
      "Episode:376 Steps:24 meanR:23.1700 R:25.0000 gloss:5.0812 gloss1-lgP:0.6909 gloss2-gQs:6.7998 gloss3-dQs:6.6529 gloss4-tgtQ:7.3543 dloss:0.1102 exploreP:0.9991\n",
      "Episode:377 Steps:13 meanR:23.1600 R:14.0000 gloss:4.9749 gloss1-lgP:0.6920 gloss2-gQs:6.6508 gloss3-dQs:6.4802 gloss4-tgtQ:7.1889 dloss:0.1290 exploreP:0.9991\n",
      "Episode:378 Steps:12 meanR:23.1600 R:13.0000 gloss:5.0752 gloss1-lgP:0.6941 gloss2-gQs:6.7840 gloss3-dQs:6.6021 gloss4-tgtQ:7.3122 dloss:0.1144 exploreP:0.9991\n",
      "Episode:379 Steps:32 meanR:23.0600 R:33.0000 gloss:4.9952 gloss1-lgP:0.6910 gloss2-gQs:6.6801 gloss3-dQs:6.5173 gloss4-tgtQ:7.2283 dloss:0.1178 exploreP:0.9991\n",
      "Episode:380 Steps:19 meanR:23.0400 R:20.0000 gloss:4.9969 gloss1-lgP:0.6919 gloss2-gQs:6.6864 gloss3-dQs:6.5215 gloss4-tgtQ:7.2221 dloss:0.1213 exploreP:0.9991\n",
      "Episode:381 Steps:17 meanR:22.9600 R:18.0000 gloss:4.9661 gloss1-lgP:0.6925 gloss2-gQs:6.6405 gloss3-dQs:6.4881 gloss4-tgtQ:7.1715 dloss:0.1277 exploreP:0.9991\n",
      "Episode:382 Steps:22 meanR:23.0500 R:23.0000 gloss:5.0362 gloss1-lgP:0.6925 gloss2-gQs:6.7114 gloss3-dQs:6.5541 gloss4-tgtQ:7.2722 dloss:0.1167 exploreP:0.9991\n",
      "Episode:383 Steps:32 meanR:23.2100 R:33.0000 gloss:5.0441 gloss1-lgP:0.6920 gloss2-gQs:6.7538 gloss3-dQs:6.5894 gloss4-tgtQ:7.2897 dloss:0.1179 exploreP:0.9991\n",
      "Episode:384 Steps:14 meanR:22.9300 R:15.0000 gloss:5.0886 gloss1-lgP:0.6918 gloss2-gQs:6.7964 gloss3-dQs:6.6268 gloss4-tgtQ:7.3550 dloss:0.1150 exploreP:0.9991\n",
      "Episode:385 Steps:20 meanR:22.6100 R:21.0000 gloss:5.0203 gloss1-lgP:0.6924 gloss2-gQs:6.7129 gloss3-dQs:6.5418 gloss4-tgtQ:7.2504 dloss:0.1205 exploreP:0.9991\n",
      "Episode:386 Steps:28 meanR:22.6900 R:29.0000 gloss:5.0446 gloss1-lgP:0.6911 gloss2-gQs:6.7352 gloss3-dQs:6.5755 gloss4-tgtQ:7.2995 dloss:0.1214 exploreP:0.9991\n",
      "Episode:387 Steps:28 meanR:22.8100 R:29.0000 gloss:5.0982 gloss1-lgP:0.6907 gloss2-gQs:6.8309 gloss3-dQs:6.6719 gloss4-tgtQ:7.3811 dloss:0.1154 exploreP:0.9991\n",
      "Episode:388 Steps:22 meanR:22.8800 R:23.0000 gloss:5.0305 gloss1-lgP:0.6913 gloss2-gQs:6.7352 gloss3-dQs:6.5720 gloss4-tgtQ:7.2770 dloss:0.1248 exploreP:0.9991\n",
      "Episode:389 Steps:27 meanR:22.9800 R:28.0000 gloss:5.0514 gloss1-lgP:0.6918 gloss2-gQs:6.7696 gloss3-dQs:6.6158 gloss4-tgtQ:7.3013 dloss:0.1229 exploreP:0.9991\n",
      "Episode:390 Steps:11 meanR:22.8100 R:12.0000 gloss:5.1022 gloss1-lgP:0.6909 gloss2-gQs:6.8362 gloss3-dQs:6.6805 gloss4-tgtQ:7.3854 dloss:0.1088 exploreP:0.9991\n",
      "Episode:391 Steps:18 meanR:22.7800 R:19.0000 gloss:5.0955 gloss1-lgP:0.6918 gloss2-gQs:6.8450 gloss3-dQs:6.6826 gloss4-tgtQ:7.3653 dloss:0.1173 exploreP:0.9991\n",
      "Episode:392 Steps:60 meanR:22.6200 R:61.0000 gloss:5.0283 gloss1-lgP:0.6919 gloss2-gQs:6.7223 gloss3-dQs:6.5535 gloss4-tgtQ:7.2676 dloss:0.1211 exploreP:0.9991\n",
      "Episode:393 Steps:9 meanR:22.6100 R:10.0000 gloss:5.0780 gloss1-lgP:0.6912 gloss2-gQs:6.7963 gloss3-dQs:6.6310 gloss4-tgtQ:7.3472 dloss:0.1217 exploreP:0.9991\n",
      "Episode:394 Steps:18 meanR:22.6200 R:19.0000 gloss:5.0069 gloss1-lgP:0.6914 gloss2-gQs:6.6885 gloss3-dQs:6.5168 gloss4-tgtQ:7.2410 dloss:0.1234 exploreP:0.9991\n",
      "Episode:395 Steps:12 meanR:22.4800 R:13.0000 gloss:5.0044 gloss1-lgP:0.6919 gloss2-gQs:6.6979 gloss3-dQs:6.5279 gloss4-tgtQ:7.2337 dloss:0.1248 exploreP:0.9991\n",
      "Episode:396 Steps:14 meanR:22.3100 R:15.0000 gloss:5.0743 gloss1-lgP:0.6931 gloss2-gQs:6.7966 gloss3-dQs:6.6343 gloss4-tgtQ:7.3210 dloss:0.1273 exploreP:0.9991\n",
      "Episode:397 Steps:20 meanR:22.3700 R:21.0000 gloss:4.9851 gloss1-lgP:0.6918 gloss2-gQs:6.6774 gloss3-dQs:6.4902 gloss4-tgtQ:7.2060 dloss:0.1304 exploreP:0.9991\n",
      "Episode:398 Steps:35 meanR:22.6000 R:36.0000 gloss:5.0264 gloss1-lgP:0.6912 gloss2-gQs:6.7379 gloss3-dQs:6.5731 gloss4-tgtQ:7.2725 dloss:0.1253 exploreP:0.9991\n",
      "Episode:399 Steps:23 meanR:22.7400 R:24.0000 gloss:5.0131 gloss1-lgP:0.6921 gloss2-gQs:6.7221 gloss3-dQs:6.5555 gloss4-tgtQ:7.2428 dloss:0.1234 exploreP:0.9991\n",
      "Episode:400 Steps:22 meanR:22.7000 R:23.0000 gloss:4.9791 gloss1-lgP:0.6904 gloss2-gQs:6.6772 gloss3-dQs:6.5064 gloss4-tgtQ:7.2125 dloss:0.1285 exploreP:0.9991\n",
      "Episode:401 Steps:26 meanR:22.8100 R:27.0000 gloss:5.0565 gloss1-lgP:0.6926 gloss2-gQs:6.7796 gloss3-dQs:6.6039 gloss4-tgtQ:7.3004 dloss:0.1230 exploreP:0.9991\n",
      "Episode:402 Steps:10 meanR:22.6000 R:11.0000 gloss:5.1300 gloss1-lgP:0.6914 gloss2-gQs:6.8716 gloss3-dQs:6.7185 gloss4-tgtQ:7.4201 dloss:0.1172 exploreP:0.9991\n",
      "Episode:403 Steps:30 meanR:22.7600 R:31.0000 gloss:5.0732 gloss1-lgP:0.6907 gloss2-gQs:6.7999 gloss3-dQs:6.6299 gloss4-tgtQ:7.3452 dloss:0.1208 exploreP:0.9991\n",
      "Episode:404 Steps:14 meanR:22.7600 R:15.0000 gloss:5.0653 gloss1-lgP:0.6914 gloss2-gQs:6.7873 gloss3-dQs:6.6161 gloss4-tgtQ:7.3265 dloss:0.1196 exploreP:0.9991\n",
      "Episode:405 Steps:81 meanR:23.2300 R:82.0000 gloss:5.0491 gloss1-lgP:0.6916 gloss2-gQs:6.7707 gloss3-dQs:6.5931 gloss4-tgtQ:7.3008 dloss:0.1202 exploreP:0.9991\n",
      "Episode:406 Steps:25 meanR:23.2600 R:26.0000 gloss:5.1177 gloss1-lgP:0.6916 gloss2-gQs:6.8737 gloss3-dQs:6.7205 gloss4-tgtQ:7.4003 dloss:0.1147 exploreP:0.9990\n",
      "Episode:407 Steps:30 meanR:23.3700 R:31.0000 gloss:5.0523 gloss1-lgP:0.6908 gloss2-gQs:6.7810 gloss3-dQs:6.6208 gloss4-tgtQ:7.3138 dloss:0.1257 exploreP:0.9990\n",
      "Episode:408 Steps:10 meanR:22.9900 R:11.0000 gloss:4.9947 gloss1-lgP:0.6905 gloss2-gQs:6.6916 gloss3-dQs:6.5210 gloss4-tgtQ:7.2336 dloss:0.1297 exploreP:0.9990\n",
      "Episode:409 Steps:30 meanR:23.1100 R:31.0000 gloss:5.1333 gloss1-lgP:0.6924 gloss2-gQs:6.8798 gloss3-dQs:6.7227 gloss4-tgtQ:7.4138 dloss:0.1162 exploreP:0.9990\n",
      "Episode:410 Steps:53 meanR:23.4500 R:54.0000 gloss:5.0550 gloss1-lgP:0.6910 gloss2-gQs:6.7904 gloss3-dQs:6.6098 gloss4-tgtQ:7.3158 dloss:0.1255 exploreP:0.9990\n",
      "Episode:411 Steps:38 meanR:23.6900 R:39.0000 gloss:5.0943 gloss1-lgP:0.6914 gloss2-gQs:6.8235 gloss3-dQs:6.6699 gloss4-tgtQ:7.3677 dloss:0.1176 exploreP:0.9990\n",
      "Episode:412 Steps:35 meanR:23.8200 R:36.0000 gloss:5.1139 gloss1-lgP:0.6910 gloss2-gQs:6.8510 gloss3-dQs:6.6819 gloss4-tgtQ:7.4013 dloss:0.1195 exploreP:0.9990\n",
      "Episode:413 Steps:40 meanR:24.0500 R:41.0000 gloss:5.1237 gloss1-lgP:0.6916 gloss2-gQs:6.8791 gloss3-dQs:6.7138 gloss4-tgtQ:7.4084 dloss:0.1201 exploreP:0.9990\n",
      "Episode:414 Steps:33 meanR:24.2300 R:34.0000 gloss:5.1428 gloss1-lgP:0.6906 gloss2-gQs:6.9063 gloss3-dQs:6.7248 gloss4-tgtQ:7.4469 dloss:0.1132 exploreP:0.9990\n",
      "Episode:415 Steps:15 meanR:24.1400 R:16.0000 gloss:5.1211 gloss1-lgP:0.6915 gloss2-gQs:6.8577 gloss3-dQs:6.6742 gloss4-tgtQ:7.4059 dloss:0.1225 exploreP:0.9990\n",
      "Episode:416 Steps:42 meanR:24.4300 R:43.0000 gloss:5.0999 gloss1-lgP:0.6911 gloss2-gQs:6.8418 gloss3-dQs:6.6412 gloss4-tgtQ:7.3795 dloss:0.1212 exploreP:0.9990\n",
      "Episode:417 Steps:32 meanR:24.5700 R:33.0000 gloss:5.1227 gloss1-lgP:0.6907 gloss2-gQs:6.8712 gloss3-dQs:6.6952 gloss4-tgtQ:7.4168 dloss:0.1197 exploreP:0.9990\n",
      "Episode:418 Steps:27 meanR:24.6800 R:28.0000 gloss:5.0978 gloss1-lgP:0.6909 gloss2-gQs:6.8514 gloss3-dQs:6.6594 gloss4-tgtQ:7.3786 dloss:0.1246 exploreP:0.9990\n",
      "Episode:419 Steps:13 meanR:24.5600 R:14.0000 gloss:5.1380 gloss1-lgP:0.6916 gloss2-gQs:6.8877 gloss3-dQs:6.6901 gloss4-tgtQ:7.4288 dloss:0.1133 exploreP:0.9990\n"
     ]
    },
    {
     "name": "stdout",
     "output_type": "stream",
     "text": [
      "Episode:420 Steps:17 meanR:24.5300 R:18.0000 gloss:5.1332 gloss1-lgP:0.6921 gloss2-gQs:6.8929 gloss3-dQs:6.7160 gloss4-tgtQ:7.4169 dloss:0.1241 exploreP:0.9990\n",
      "Episode:421 Steps:37 meanR:24.7300 R:38.0000 gloss:5.1173 gloss1-lgP:0.6916 gloss2-gQs:6.8691 gloss3-dQs:6.6851 gloss4-tgtQ:7.3993 dloss:0.1194 exploreP:0.9990\n",
      "Episode:422 Steps:18 meanR:24.7300 R:19.0000 gloss:5.1411 gloss1-lgP:0.6911 gloss2-gQs:6.8842 gloss3-dQs:6.7128 gloss4-tgtQ:7.4388 dloss:0.1127 exploreP:0.9990\n",
      "Episode:423 Steps:10 meanR:24.6500 R:11.0000 gloss:5.0902 gloss1-lgP:0.6904 gloss2-gQs:6.8449 gloss3-dQs:6.6489 gloss4-tgtQ:7.3725 dloss:0.1171 exploreP:0.9990\n",
      "Episode:424 Steps:12 meanR:24.3000 R:13.0000 gloss:5.1465 gloss1-lgP:0.6904 gloss2-gQs:6.9235 gloss3-dQs:6.7467 gloss4-tgtQ:7.4548 dloss:0.1162 exploreP:0.9990\n",
      "Episode:425 Steps:54 meanR:24.4500 R:55.0000 gloss:5.1353 gloss1-lgP:0.6909 gloss2-gQs:6.8929 gloss3-dQs:6.7192 gloss4-tgtQ:7.4327 dloss:0.1176 exploreP:0.9990\n",
      "Episode:426 Steps:13 meanR:24.4700 R:14.0000 gloss:5.2176 gloss1-lgP:0.6915 gloss2-gQs:6.9892 gloss3-dQs:6.8242 gloss4-tgtQ:7.5457 dloss:0.1081 exploreP:0.9990\n",
      "Episode:427 Steps:30 meanR:24.2900 R:31.0000 gloss:5.1192 gloss1-lgP:0.6905 gloss2-gQs:6.8767 gloss3-dQs:6.7069 gloss4-tgtQ:7.4137 dloss:0.1248 exploreP:0.9990\n",
      "Episode:428 Steps:18 meanR:24.3100 R:19.0000 gloss:5.1105 gloss1-lgP:0.6924 gloss2-gQs:6.8607 gloss3-dQs:6.6762 gloss4-tgtQ:7.3818 dloss:0.1181 exploreP:0.9990\n",
      "Episode:429 Steps:17 meanR:24.3500 R:18.0000 gloss:5.1574 gloss1-lgP:0.6926 gloss2-gQs:6.9407 gloss3-dQs:6.7505 gloss4-tgtQ:7.4464 dloss:0.1179 exploreP:0.9990\n",
      "Episode:430 Steps:18 meanR:24.4200 R:19.0000 gloss:5.1368 gloss1-lgP:0.6900 gloss2-gQs:6.8849 gloss3-dQs:6.7221 gloss4-tgtQ:7.4446 dloss:0.1240 exploreP:0.9990\n",
      "Episode:431 Steps:32 meanR:24.2800 R:33.0000 gloss:5.1397 gloss1-lgP:0.6911 gloss2-gQs:6.9053 gloss3-dQs:6.7066 gloss4-tgtQ:7.4372 dloss:0.1184 exploreP:0.9990\n",
      "Episode:432 Steps:16 meanR:24.0700 R:17.0000 gloss:5.1964 gloss1-lgP:0.6896 gloss2-gQs:7.0009 gloss3-dQs:6.8298 gloss4-tgtQ:7.5352 dloss:0.1086 exploreP:0.9990\n",
      "Episode:433 Steps:13 meanR:23.9300 R:14.0000 gloss:5.1230 gloss1-lgP:0.6903 gloss2-gQs:6.8784 gloss3-dQs:6.7166 gloss4-tgtQ:7.4206 dloss:0.1221 exploreP:0.9990\n",
      "Episode:434 Steps:12 meanR:23.8400 R:13.0000 gloss:5.1180 gloss1-lgP:0.6891 gloss2-gQs:6.8925 gloss3-dQs:6.6990 gloss4-tgtQ:7.4277 dloss:0.1199 exploreP:0.9990\n",
      "Episode:435 Steps:56 meanR:24.2200 R:57.0000 gloss:5.1992 gloss1-lgP:0.6905 gloss2-gQs:6.9944 gloss3-dQs:6.8110 gloss4-tgtQ:7.5297 dloss:0.1139 exploreP:0.9990\n",
      "Episode:436 Steps:21 meanR:24.1500 R:22.0000 gloss:5.1841 gloss1-lgP:0.6905 gloss2-gQs:6.9674 gloss3-dQs:6.7687 gloss4-tgtQ:7.5079 dloss:0.1156 exploreP:0.9990\n",
      "Episode:437 Steps:10 meanR:24.1200 R:11.0000 gloss:5.2692 gloss1-lgP:0.6911 gloss2-gQs:7.0632 gloss3-dQs:6.8939 gloss4-tgtQ:7.6241 dloss:0.1090 exploreP:0.9990\n",
      "Episode:438 Steps:43 meanR:24.3300 R:44.0000 gloss:5.1687 gloss1-lgP:0.6922 gloss2-gQs:6.9422 gloss3-dQs:6.7616 gloss4-tgtQ:7.4672 dloss:0.1200 exploreP:0.9990\n",
      "Episode:439 Steps:19 meanR:24.3100 R:20.0000 gloss:5.1981 gloss1-lgP:0.6901 gloss2-gQs:6.9753 gloss3-dQs:6.8188 gloss4-tgtQ:7.5321 dloss:0.1149 exploreP:0.9990\n",
      "Episode:440 Steps:14 meanR:24.3100 R:15.0000 gloss:5.1241 gloss1-lgP:0.6917 gloss2-gQs:6.8865 gloss3-dQs:6.7084 gloss4-tgtQ:7.4079 dloss:0.1224 exploreP:0.9990\n",
      "Episode:441 Steps:17 meanR:24.3300 R:18.0000 gloss:5.2202 gloss1-lgP:0.6905 gloss2-gQs:7.0225 gloss3-dQs:6.8427 gloss4-tgtQ:7.5605 dloss:0.1104 exploreP:0.9990\n",
      "Episode:442 Steps:32 meanR:24.5400 R:33.0000 gloss:5.2101 gloss1-lgP:0.6919 gloss2-gQs:7.0042 gloss3-dQs:6.8012 gloss4-tgtQ:7.5299 dloss:0.1185 exploreP:0.9990\n",
      "Episode:443 Steps:16 meanR:24.4000 R:17.0000 gloss:5.1564 gloss1-lgP:0.6921 gloss2-gQs:6.9405 gloss3-dQs:6.7302 gloss4-tgtQ:7.4504 dloss:0.1168 exploreP:0.9990\n",
      "Episode:444 Steps:13 meanR:24.3400 R:14.0000 gloss:5.0828 gloss1-lgP:0.6904 gloss2-gQs:6.8273 gloss3-dQs:6.6410 gloss4-tgtQ:7.3619 dloss:0.1230 exploreP:0.9990\n",
      "Episode:445 Steps:26 meanR:24.4800 R:27.0000 gloss:5.2384 gloss1-lgP:0.6903 gloss2-gQs:7.0630 gloss3-dQs:6.8775 gloss4-tgtQ:7.5889 dloss:0.1148 exploreP:0.9989\n",
      "Episode:446 Steps:23 meanR:24.5000 R:24.0000 gloss:5.2207 gloss1-lgP:0.6926 gloss2-gQs:6.9953 gloss3-dQs:6.8054 gloss4-tgtQ:7.5375 dloss:0.1177 exploreP:0.9989\n",
      "Episode:447 Steps:12 meanR:24.3500 R:13.0000 gloss:5.2478 gloss1-lgP:0.6895 gloss2-gQs:7.0338 gloss3-dQs:6.8624 gloss4-tgtQ:7.6110 dloss:0.1087 exploreP:0.9989\n",
      "Episode:448 Steps:23 meanR:24.4800 R:24.0000 gloss:5.1489 gloss1-lgP:0.6900 gloss2-gQs:6.9294 gloss3-dQs:6.7386 gloss4-tgtQ:7.4626 dloss:0.1183 exploreP:0.9989\n",
      "Episode:449 Steps:13 meanR:24.1900 R:14.0000 gloss:5.2143 gloss1-lgP:0.6918 gloss2-gQs:7.0256 gloss3-dQs:6.8471 gloss4-tgtQ:7.5378 dloss:0.1171 exploreP:0.9989\n",
      "Episode:450 Steps:10 meanR:24.0200 R:11.0000 gloss:5.2382 gloss1-lgP:0.6903 gloss2-gQs:7.0344 gloss3-dQs:6.8708 gloss4-tgtQ:7.5892 dloss:0.1136 exploreP:0.9989\n",
      "Episode:451 Steps:42 meanR:24.2500 R:43.0000 gloss:5.1782 gloss1-lgP:0.6910 gloss2-gQs:6.9711 gloss3-dQs:6.7874 gloss4-tgtQ:7.4944 dloss:0.1196 exploreP:0.9989\n",
      "Episode:452 Steps:30 meanR:24.3400 R:31.0000 gloss:5.2523 gloss1-lgP:0.6907 gloss2-gQs:7.0731 gloss3-dQs:6.8993 gloss4-tgtQ:7.6045 dloss:0.1127 exploreP:0.9989\n",
      "Episode:453 Steps:59 meanR:24.7000 R:60.0000 gloss:5.2216 gloss1-lgP:0.6917 gloss2-gQs:7.0231 gloss3-dQs:6.8336 gloss4-tgtQ:7.5485 dloss:0.1187 exploreP:0.9989\n",
      "Episode:454 Steps:39 meanR:24.8100 R:40.0000 gloss:5.2440 gloss1-lgP:0.6908 gloss2-gQs:7.0652 gloss3-dQs:6.8861 gloss4-tgtQ:7.5917 dloss:0.1166 exploreP:0.9989\n",
      "Episode:455 Steps:22 meanR:24.8400 R:23.0000 gloss:5.1825 gloss1-lgP:0.6920 gloss2-gQs:6.9559 gloss3-dQs:6.7583 gloss4-tgtQ:7.4885 dloss:0.1257 exploreP:0.9989\n",
      "Episode:456 Steps:31 meanR:24.7700 R:32.0000 gloss:5.2739 gloss1-lgP:0.6901 gloss2-gQs:7.0923 gloss3-dQs:6.9004 gloss4-tgtQ:7.6421 dloss:0.1097 exploreP:0.9989\n",
      "Episode:457 Steps:22 meanR:24.8600 R:23.0000 gloss:5.2334 gloss1-lgP:0.6905 gloss2-gQs:7.0663 gloss3-dQs:6.8539 gloss4-tgtQ:7.5786 dloss:0.1189 exploreP:0.9989\n",
      "Episode:458 Steps:24 meanR:24.9300 R:25.0000 gloss:5.2230 gloss1-lgP:0.6910 gloss2-gQs:7.0335 gloss3-dQs:6.8284 gloss4-tgtQ:7.5587 dloss:0.1150 exploreP:0.9989\n",
      "Episode:459 Steps:30 meanR:25.1000 R:31.0000 gloss:5.2370 gloss1-lgP:0.6916 gloss2-gQs:7.0431 gloss3-dQs:6.8539 gloss4-tgtQ:7.5723 dloss:0.1144 exploreP:0.9989\n",
      "Episode:460 Steps:12 meanR:25.0900 R:13.0000 gloss:5.2171 gloss1-lgP:0.6910 gloss2-gQs:7.0380 gloss3-dQs:6.8571 gloss4-tgtQ:7.5499 dloss:0.1284 exploreP:0.9989\n",
      "Episode:461 Steps:25 meanR:25.2200 R:26.0000 gloss:5.3096 gloss1-lgP:0.6921 gloss2-gQs:7.1456 gloss3-dQs:6.9589 gloss4-tgtQ:7.6715 dloss:0.1090 exploreP:0.9989\n",
      "Episode:462 Steps:19 meanR:25.1100 R:20.0000 gloss:5.2388 gloss1-lgP:0.6911 gloss2-gQs:7.0492 gloss3-dQs:6.8421 gloss4-tgtQ:7.5810 dloss:0.1157 exploreP:0.9989\n",
      "Episode:463 Steps:14 meanR:24.9800 R:15.0000 gloss:5.3226 gloss1-lgP:0.6921 gloss2-gQs:7.1396 gloss3-dQs:6.9336 gloss4-tgtQ:7.6903 dloss:0.1114 exploreP:0.9989\n",
      "Episode:464 Steps:10 meanR:24.9200 R:11.0000 gloss:5.2227 gloss1-lgP:0.6893 gloss2-gQs:7.0527 gloss3-dQs:6.8459 gloss4-tgtQ:7.5765 dloss:0.1127 exploreP:0.9989\n",
      "Episode:465 Steps:14 meanR:24.6100 R:15.0000 gloss:5.3131 gloss1-lgP:0.6908 gloss2-gQs:7.1675 gloss3-dQs:6.9544 gloss4-tgtQ:7.6914 dloss:0.1133 exploreP:0.9989\n",
      "Episode:466 Steps:9 meanR:24.6100 R:10.0000 gloss:5.2830 gloss1-lgP:0.6888 gloss2-gQs:7.1592 gloss3-dQs:6.9364 gloss4-tgtQ:7.6697 dloss:0.1136 exploreP:0.9989\n",
      "Episode:467 Steps:25 meanR:24.6400 R:26.0000 gloss:5.2758 gloss1-lgP:0.6905 gloss2-gQs:7.1073 gloss3-dQs:6.8912 gloss4-tgtQ:7.6405 dloss:0.1196 exploreP:0.9989\n",
      "Episode:468 Steps:41 meanR:24.8400 R:42.0000 gloss:5.3016 gloss1-lgP:0.6906 gloss2-gQs:7.1456 gloss3-dQs:6.9469 gloss4-tgtQ:7.6762 dloss:0.1145 exploreP:0.9989\n",
      "Episode:469 Steps:32 meanR:25.0500 R:33.0000 gloss:5.2404 gloss1-lgP:0.6913 gloss2-gQs:7.0623 gloss3-dQs:6.8737 gloss4-tgtQ:7.5809 dloss:0.1226 exploreP:0.9989\n",
      "Episode:470 Steps:34 meanR:25.3100 R:35.0000 gloss:5.2373 gloss1-lgP:0.6902 gloss2-gQs:7.0544 gloss3-dQs:6.8586 gloss4-tgtQ:7.5890 dloss:0.1170 exploreP:0.9989\n",
      "Episode:471 Steps:13 meanR:25.2300 R:14.0000 gloss:5.3089 gloss1-lgP:0.6928 gloss2-gQs:7.1624 gloss3-dQs:6.9684 gloss4-tgtQ:7.6634 dloss:0.1094 exploreP:0.9989\n"
     ]
    },
    {
     "name": "stdout",
     "output_type": "stream",
     "text": [
      "Episode:472 Steps:13 meanR:25.2500 R:14.0000 gloss:5.2853 gloss1-lgP:0.6914 gloss2-gQs:7.1332 gloss3-dQs:6.9478 gloss4-tgtQ:7.6446 dloss:0.1136 exploreP:0.9989\n",
      "Episode:473 Steps:26 meanR:25.3400 R:27.0000 gloss:5.2387 gloss1-lgP:0.6920 gloss2-gQs:7.0517 gloss3-dQs:6.8690 gloss4-tgtQ:7.5708 dloss:0.1207 exploreP:0.9989\n",
      "Episode:474 Steps:47 meanR:25.6000 R:48.0000 gloss:5.2742 gloss1-lgP:0.6907 gloss2-gQs:7.1038 gloss3-dQs:6.9258 gloss4-tgtQ:7.6366 dloss:0.1171 exploreP:0.9989\n",
      "Episode:475 Steps:14 meanR:25.4800 R:15.0000 gloss:5.3029 gloss1-lgP:0.6921 gloss2-gQs:7.1693 gloss3-dQs:6.9550 gloss4-tgtQ:7.6616 dloss:0.1139 exploreP:0.9989\n",
      "Episode:476 Steps:10 meanR:25.3400 R:11.0000 gloss:5.2939 gloss1-lgP:0.6914 gloss2-gQs:7.1405 gloss3-dQs:6.9360 gloss4-tgtQ:7.6569 dloss:0.1122 exploreP:0.9989\n",
      "Episode:477 Steps:38 meanR:25.5900 R:39.0000 gloss:5.2965 gloss1-lgP:0.6905 gloss2-gQs:7.1467 gloss3-dQs:6.9385 gloss4-tgtQ:7.6702 dloss:0.1177 exploreP:0.9989\n",
      "Episode:478 Steps:13 meanR:25.6000 R:14.0000 gloss:5.2440 gloss1-lgP:0.6908 gloss2-gQs:7.0730 gloss3-dQs:6.8684 gloss4-tgtQ:7.5911 dloss:0.1235 exploreP:0.9989\n",
      "Episode:479 Steps:16 meanR:25.4400 R:17.0000 gloss:5.2648 gloss1-lgP:0.6910 gloss2-gQs:7.0949 gloss3-dQs:6.8854 gloss4-tgtQ:7.6196 dloss:0.1188 exploreP:0.9989\n",
      "Episode:480 Steps:11 meanR:25.3600 R:12.0000 gloss:5.3235 gloss1-lgP:0.6895 gloss2-gQs:7.1923 gloss3-dQs:6.9732 gloss4-tgtQ:7.7205 dloss:0.1137 exploreP:0.9989\n",
      "Episode:481 Steps:40 meanR:25.5900 R:41.0000 gloss:5.3235 gloss1-lgP:0.6908 gloss2-gQs:7.1894 gloss3-dQs:6.9875 gloss4-tgtQ:7.7062 dloss:0.1147 exploreP:0.9989\n",
      "Episode:482 Steps:45 meanR:25.8200 R:46.0000 gloss:5.3369 gloss1-lgP:0.6912 gloss2-gQs:7.2035 gloss3-dQs:7.0092 gloss4-tgtQ:7.7210 dloss:0.1121 exploreP:0.9989\n",
      "Episode:483 Steps:15 meanR:25.6500 R:16.0000 gloss:5.3427 gloss1-lgP:0.6921 gloss2-gQs:7.1941 gloss3-dQs:6.9768 gloss4-tgtQ:7.7197 dloss:0.1117 exploreP:0.9989\n",
      "Episode:484 Steps:10 meanR:25.6100 R:11.0000 gloss:5.3313 gloss1-lgP:0.6909 gloss2-gQs:7.1924 gloss3-dQs:6.9983 gloss4-tgtQ:7.7168 dloss:0.1118 exploreP:0.9989\n",
      "Episode:485 Steps:21 meanR:25.6200 R:22.0000 gloss:5.3505 gloss1-lgP:0.6904 gloss2-gQs:7.2108 gloss3-dQs:7.0310 gloss4-tgtQ:7.7490 dloss:0.1105 exploreP:0.9989\n",
      "Episode:486 Steps:42 meanR:25.7600 R:43.0000 gloss:5.3348 gloss1-lgP:0.6902 gloss2-gQs:7.2117 gloss3-dQs:7.0072 gloss4-tgtQ:7.7289 dloss:0.1130 exploreP:0.9988\n",
      "Episode:487 Steps:14 meanR:25.6200 R:15.0000 gloss:5.3134 gloss1-lgP:0.6911 gloss2-gQs:7.1651 gloss3-dQs:6.9678 gloss4-tgtQ:7.6883 dloss:0.1142 exploreP:0.9988\n",
      "Episode:488 Steps:17 meanR:25.5700 R:18.0000 gloss:5.3887 gloss1-lgP:0.6901 gloss2-gQs:7.2540 gloss3-dQs:7.0600 gloss4-tgtQ:7.8090 dloss:0.1058 exploreP:0.9988\n",
      "Episode:489 Steps:8 meanR:25.3800 R:9.0000 gloss:5.3457 gloss1-lgP:0.6925 gloss2-gQs:7.2016 gloss3-dQs:6.9844 gloss4-tgtQ:7.7198 dloss:0.1135 exploreP:0.9988\n",
      "Episode:490 Steps:16 meanR:25.4300 R:17.0000 gloss:5.3399 gloss1-lgP:0.6915 gloss2-gQs:7.2054 gloss3-dQs:7.0089 gloss4-tgtQ:7.7222 dloss:0.1124 exploreP:0.9988\n",
      "Episode:491 Steps:8 meanR:25.3300 R:9.0000 gloss:5.3728 gloss1-lgP:0.6905 gloss2-gQs:7.2721 gloss3-dQs:7.0808 gloss4-tgtQ:7.7815 dloss:0.1110 exploreP:0.9988\n",
      "Episode:492 Steps:10 meanR:24.8300 R:11.0000 gloss:5.2835 gloss1-lgP:0.6908 gloss2-gQs:7.1101 gloss3-dQs:6.9227 gloss4-tgtQ:7.6485 dloss:0.1187 exploreP:0.9988\n",
      "Episode:493 Steps:17 meanR:24.9100 R:18.0000 gloss:5.2824 gloss1-lgP:0.6919 gloss2-gQs:7.1340 gloss3-dQs:6.9173 gloss4-tgtQ:7.6344 dloss:0.1213 exploreP:0.9988\n",
      "Episode:494 Steps:8 meanR:24.8100 R:9.0000 gloss:5.2474 gloss1-lgP:0.6931 gloss2-gQs:7.0908 gloss3-dQs:6.8679 gloss4-tgtQ:7.5708 dloss:0.1343 exploreP:0.9988\n",
      "Episode:495 Steps:13 meanR:24.8200 R:14.0000 gloss:5.2935 gloss1-lgP:0.6908 gloss2-gQs:7.1433 gloss3-dQs:6.9321 gloss4-tgtQ:7.6627 dloss:0.1161 exploreP:0.9988\n",
      "Episode:496 Steps:12 meanR:24.8000 R:13.0000 gloss:5.3089 gloss1-lgP:0.6886 gloss2-gQs:7.1785 gloss3-dQs:6.9670 gloss4-tgtQ:7.7102 dloss:0.1167 exploreP:0.9988\n"
     ]
    }
   ],
   "source": [
    "# Save/load the model and save for plotting\n",
    "saver = tf.train.Saver()\n",
    "episode_rewards_list, rewards_list, gloss_list, dloss_list = [], [], [], []\n",
    "\n",
    "# TF session for training\n",
    "with tf.Session(graph=graph) as sess:\n",
    "    sess.run(tf.global_variables_initializer())\n",
    "    #saver.restore(sess, 'checkpoints/model.ckpt')    \n",
    "    #saver.restore(sess, tf.train.latest_checkpoint('checkpoints'))\n",
    "    total_step = 0 # Explore or exploit parameter\n",
    "    episode_reward = deque(maxlen=100) # 100 episodes average/running average/running mean/window\n",
    "    \n",
    "    # Training episodes/epochs\n",
    "    for ep in range(11111):\n",
    "        total_reward = 0\n",
    "        gloss_batch, dloss_batch = [], []\n",
    "        gloss1_batch, gloss2_batch, gloss3_batch, gloss4_batch = [], [], [], []\n",
    "        state = env.reset()\n",
    "\n",
    "        # Training steps/batches\n",
    "        for num_steps in range(1111111111):\n",
    "            # Explore (Env) or Exploit (Model)\n",
    "            total_step += 0.001\n",
    "            explore_p = explore_stop + (explore_start - explore_stop) * np.exp(-decay_rate * total_step) \n",
    "            if explore_p > np.random.rand():\n",
    "                action = env.action_space.sample()\n",
    "            else:\n",
    "                action_logits = sess.run(model.actions_logits, feed_dict={model.states: state.reshape([1, -1])})\n",
    "                action = np.argmax(action_logits)\n",
    "            next_state, reward, done, _ = env.step(action)\n",
    "            memory.buffer.append([state, action, next_state, reward, float(done)])\n",
    "            total_reward += reward\n",
    "            state = next_state\n",
    "\n",
    "            # Training\n",
    "            batch = memory.sample(batch_size)\n",
    "            states = np.array([each[0] for each in batch])\n",
    "            actions = np.array([each[1] for each in batch])\n",
    "            next_states = np.array([each[2] for each in batch])\n",
    "            rewards = np.array([each[3] for each in batch])\n",
    "            dones = np.array([each[4] for each in batch])\n",
    "            nextQs_logits = sess.run(model.Qs_logits, feed_dict = {model.states: next_states})\n",
    "            #nextQs = np.max(nextQs_logits, axis=1) * (1-dones)\n",
    "            nextQs = nextQs_logits.reshape([-1]) * (1-dones)\n",
    "            targetQs = rewards + (gamma * nextQs)\n",
    "            gloss, dloss, gloss1, gloss2, gloss3, gloss4, _, _ = sess.run([model.g_loss, model.d_loss,\n",
    "                                                                           model.g_loss1, model.g_loss2, \n",
    "                                                                           model.g_loss3, model.g_loss4,\n",
    "                                                                           model.g_opt, model.d_opt],\n",
    "                                                                          feed_dict = {model.states: states, \n",
    "                                                                                       model.actions: actions,\n",
    "                                                                                       model.targetQs: targetQs})\n",
    "            gloss_batch.append(gloss)\n",
    "            dloss_batch.append(dloss)\n",
    "            gloss1_batch.append(gloss1)\n",
    "            gloss2_batch.append(gloss2)\n",
    "            gloss3_batch.append(gloss3)\n",
    "            gloss4_batch.append(gloss4)\n",
    "            if done is True:\n",
    "                break\n",
    "                \n",
    "        episode_reward.append(total_reward)\n",
    "        print('Episode:{}'.format(ep),\n",
    "              'Steps:{}'.format(num_steps),\n",
    "              'meanR:{:.4f}'.format(np.mean(episode_reward)),\n",
    "              'R:{:.4f}'.format(total_reward),\n",
    "              'gloss:{:.4f}'.format(np.mean(gloss_batch)),\n",
    "              'gloss1-lgP:{:.4f}'.format(np.mean(gloss1_batch)), #-logp\n",
    "              'gloss2-gQs:{:.4f}'.format(np.mean(gloss2_batch)),#gQs\n",
    "              'gloss3-dQs:{:.4f}'.format(np.mean(gloss3_batch)),#dQs\n",
    "              'gloss4-tgtQ:{:.4f}'.format(np.mean(gloss4_batch)),#tgtQs\n",
    "              'dloss:{:.4f}'.format(np.mean(dloss_batch)),\n",
    "              'exploreP:{:.4f}'.format(explore_p))\n",
    "\n",
    "        # Ploting out\n",
    "        episode_rewards_list.append([ep, np.mean(episode_reward)])\n",
    "        rewards_list.append([ep, total_reward])\n",
    "        gloss_list.append([ep, np.mean(gloss_batch)])\n",
    "        dloss_list.append([ep, np.mean(dloss_batch)])\n",
    "        # Break episode/epoch loop\n",
    "        ## Option 1: Solve the First Version\n",
    "        #The task is episodic, and in order to solve the environment, \n",
    "        #your agent must get an average score of +30 over 100 consecutive episodes.        \n",
    "        if np.mean(episode_reward) >= 500:\n",
    "            break\n",
    "            \n",
    "    # At the end of all training episodes/epochs\n",
    "    saver.save(sess, 'checkpoints/model.ckpt')"
   ]
  },
  {
   "cell_type": "markdown",
   "metadata": {},
   "source": [
    "# Visualizing training\n",
    "\n",
    "Below I'll plot the total rewards for each episode. I'm plotting the rolling average too, in blue."
   ]
  },
  {
   "cell_type": "code",
   "execution_count": 86,
   "metadata": {},
   "outputs": [],
   "source": [
    "import matplotlib.pyplot as plt\n",
    "%matplotlib inline\n",
    "\n",
    "def running_mean(x, N):\n",
    "    cumsum = np.cumsum(np.insert(x, 0, 0)) \n",
    "    return (cumsum[N:] - cumsum[:-N]) / N "
   ]
  },
  {
   "cell_type": "code",
   "execution_count": 87,
   "metadata": {},
   "outputs": [
    {
     "data": {
      "text/plain": [
       "Text(0, 0.5, 'Total rewards')"
      ]
     },
     "execution_count": 87,
     "metadata": {},
     "output_type": "execute_result"
    },
    {
     "data": {
      "image/png": "[encoded data removed]",
      "text/plain": [
       "<Figure size 432x288 with 1 Axes>"
      ]
     },
     "metadata": {
      "needs_background": "light"
     },
     "output_type": "display_data"
    }
   ],
   "source": [
    "eps, arr = np.array(episode_rewards_list).T\n",
    "smoothed_arr = running_mean(arr, 10)\n",
    "plt.plot(eps[-len(smoothed_arr):], smoothed_arr)\n",
    "plt.plot(eps, arr, color='grey', alpha=0.3)\n",
    "plt.xlabel('Episode')\n",
    "plt.ylabel('Total rewards')"
   ]
  },
  {
   "cell_type": "code",
   "execution_count": 88,
   "metadata": {},
   "outputs": [
    {
     "data": {
      "text/plain": [
       "Text(0, 0.5, 'Total rewards')"
      ]
     },
     "execution_count": 88,
     "metadata": {},
     "output_type": "execute_result"
    },
    {
     "data": {
      "image/png": "[encoded data removed]",
      "text/plain": [
       "<Figure size 432x288 with 1 Axes>"
      ]
     },
     "metadata": {
      "needs_background": "light"
     },
     "output_type": "display_data"
    }
   ],
   "source": [
    "eps, arr = np.array(rewards_list).T\n",
    "smoothed_arr = running_mean(arr, 10)\n",
    "plt.plot(eps[-len(smoothed_arr):], smoothed_arr)\n",
    "plt.plot(eps, arr, color='grey', alpha=0.3)\n",
    "plt.xlabel('Episode')\n",
    "plt.ylabel('Total rewards')"
   ]
  },
  {
   "cell_type": "code",
   "execution_count": 89,
   "metadata": {},
   "outputs": [
    {
     "data": {
      "text/plain": [
       "Text(0, 0.5, 'G losses')"
      ]
     },
     "execution_count": 89,
     "metadata": {},
     "output_type": "execute_result"
    },
    {
     "data": {
      "image/png": "[encoded data removed]",
      "text/plain": [
       "<Figure size 432x288 with 1 Axes>"
      ]
     },
     "metadata": {
      "needs_background": "light"
     },
     "output_type": "display_data"
    }
   ],
   "source": [
    "eps, arr = np.array(gloss_list).T\n",
    "smoothed_arr = running_mean(arr, 10)\n",
    "plt.plot(eps[-len(smoothed_arr):], smoothed_arr)\n",
    "plt.plot(eps, arr, color='grey', alpha=0.3)\n",
    "plt.xlabel('Episode')\n",
    "plt.ylabel('G losses')"
   ]
  },
  {
   "cell_type": "code",
   "execution_count": 90,
   "metadata": {},
   "outputs": [
    {
     "data": {
      "text/plain": [
       "Text(0, 0.5, 'D losses')"
      ]
     },
     "execution_count": 90,
     "metadata": {},
     "output_type": "execute_result"
    },
    {
     "data": {
      "image/png": "[encoded data removed]",
      "text/plain": [
       "<Figure size 432x288 with 1 Axes>"
      ]
     },
     "metadata": {
      "needs_background": "light"
     },
     "output_type": "display_data"
    }
   ],
   "source": [
    "eps, arr = np.array(dloss_list).T\n",
    "smoothed_arr = running_mean(arr, 10)\n",
    "plt.plot(eps[-len(smoothed_arr):], smoothed_arr)\n",
    "plt.plot(eps, arr, color='grey', alpha=0.3)\n",
    "plt.xlabel('Episode')\n",
    "plt.ylabel('D losses')"
   ]
  },
  {
   "cell_type": "markdown",
   "metadata": {},
   "source": [
    "## Testing\n",
    "\n",
    "Let's checkout how our trained agent plays the game."
   ]
  },
  {
   "cell_type": "code",
   "execution_count": 36,
   "metadata": {},
   "outputs": [
    {
     "name": "stdout",
     "output_type": "stream",
     "text": [
      "\u001b[33mWARN: gym.spaces.Box autodetected dtype as <class 'numpy.float32'>. Please provide explicit dtype.\u001b[0m\n",
      "\u001b[33mWARN: gym.spaces.Box autodetected dtype as <class 'numpy.float32'>. Please provide explicit dtype.\u001b[0m\n",
      "INFO:tensorflow:Restoring parameters from checkpoints/model.ckpt\n"
     ]
    },
    {
     "name": "stderr",
     "output_type": "stream",
     "text": [
      "/home/arasdar/anaconda3/envs/env/lib/python3.6/site-packages/gym/__init__.py:22: UserWarning: DEPRECATION WARNING: to improve load times, gym no longer automatically loads gym.spaces. Please run \"import gym.spaces\" to load gym.spaces on your own. This warning will turn into an error in a future version of gym.\n",
      "  warnings.warn('DEPRECATION WARNING: to improve load times, gym no longer automatically loads gym.spaces. Please run \"import gym.spaces\" to load gym.spaces on your own. This warning will turn into an error in a future version of gym.')\n"
     ]
    },
    {
     "name": "stdout",
     "output_type": "stream",
     "text": [
      "total_reward: 500.0\n"
     ]
    }
   ],
   "source": [
    "import gym\n",
    "env = gym.make('CartPole-v0')\n",
    "env = gym.make('CartPole-v1')\n",
    "# env = gym.make('Acrobot-v1')\n",
    "# env = gym.make('MountainCar-v0')\n",
    "# env = gym.make('Pendulum-v0')\n",
    "# env = gym.make('Blackjack-v0')\n",
    "# env = gym.make('FrozenLake-v0')\n",
    "# env = gym.make('AirRaid-ram-v0')\n",
    "# env = gym.make('AirRaid-v0')\n",
    "# env = gym.make('BipedalWalker-v2')\n",
    "# env = gym.make('Copy-v0')\n",
    "# env = gym.make('CarRacing-v0')\n",
    "# env = gym.make('Ant-v2') #mujoco\n",
    "# env = gym.make('FetchPickAndPlace-v1') # mujoco required!\n",
    "\n",
    "with tf.Session() as sess:\n",
    "    sess.run(tf.global_variables_initializer())\n",
    "    saver.restore(sess, 'checkpoints/model.ckpt')    \n",
    "    #saver.restore(sess, tf.train.latest_checkpoint('checkpoints'))\n",
    "    \n",
    "    # Episodes/epochs\n",
    "    for _ in range(1):\n",
    "        state = env.reset()\n",
    "        total_reward = 0\n",
    "\n",
    "        # Steps/batches\n",
    "        while True:\n",
    "            env.render()\n",
    "            action_logits = sess.run(model.actions_logits, feed_dict={model.states: state.reshape([1, -1])})\n",
    "            action = np.argmax(action_logits)\n",
    "            state, reward, done, _ = env.step(action)\n",
    "            total_reward += reward\n",
    "            if done:\n",
    "                print('total_reward: {}'.format(total_reward))\n",
    "                break\n",
    "                \n",
    "env.close()"
   ]
  },
  {
   "cell_type": "markdown",
   "metadata": {},
   "source": [
    "## Extending this\n",
    "\n",
    "So, Cart-Pole is a pretty simple game. However, the same model can be used to train an agent to play something much more complicated like Pong or Space Invaders. Instead of a state like we're using here though, you'd want to use convolutional layers to get the state from the screen images.\n",
    "\n",
    "![Deep Q-Learning Atari](assets/atari-network.png)\n",
    "\n",
    "I'll leave it as a challenge for you to use deep Q-learning to train an agent to play Atari games. Here's the original paper which will get you started: http://www.davidqiu.com:8888/research/nature14236.pdf."
   ]
  },
  {
   "cell_type": "code",
   "execution_count": null,
   "metadata": {},
   "outputs": [],
   "source": []
  }
 ],
 "metadata": {
  "kernelspec": {
   "display_name": "Python 3",
   "language": "python",
   "name": "python3"
  },
  "language_info": {
   "codemirror_mode": {
    "name": "ipython",
    "version": 3
   },
   "file_extension": ".py",
   "mimetype": "text/x-python",
   "name": "python",
   "nbconvert_exporter": "python",
   "pygments_lexer": "ipython3",
   "version": "3.6.6"
  }
 },
 "nbformat": 4,
 "nbformat_minor": 2
}
