{
 "cells": [
  {
   "cell_type": "markdown",
   "metadata": {},
   "source": [
    "# Deep cortical reinforcement learning: Policy gradients + Q-learning + GAN\n",
    "\n",
    "\n",
    "In this notebook, we'll build a neural network that can learn to play games through reinforcement learning. More specifically, we'll use Q-learning to train an agent to play a game called [Cart-Pole](https://gym.openai.com/envs/CartPole-v0). In this game, a freely swinging pole is attached to a cart. The cart can move to the left and right, and the goal is to keep the pole upright as long as possible.\n",
    "\n",
    "![Cart-Pole](assets/cart-pole.jpg)\n",
    "\n",
    "We can simulate this game using [OpenAI Gym](https://gym.openai.com/). First, let's check out how OpenAI Gym works. Then, we'll get into training an agent to play the Cart-Pole game."
   ]
  },
  {
   "cell_type": "code",
   "execution_count": 2,
   "metadata": {},
   "outputs": [
    {
     "name": "stdout",
     "output_type": "stream",
     "text": [
      "TensorFlow Version: 1.7.1\n",
      "Default GPU Device: \n"
     ]
    }
   ],
   "source": [
    "# In this one we should define and detect GPUs for tensorflow\n",
    "# GPUs or CPU\n",
    "import tensorflow as tf\n",
    "\n",
    "# Check TensorFlow Version\n",
    "print('TensorFlow Version: {}'.format(tf.__version__))\n",
    "\n",
    "# Check for a GPU\n",
    "print('Default GPU Device: {}'.format(tf.test.gpu_device_name()))"
   ]
  },
  {
   "cell_type": "markdown",
   "metadata": {},
   "source": [
    ">**Note:** Make sure you have OpenAI Gym cloned into the same directory with this notebook. I've included `gym` as a submodule, so you can run `git submodule --init --recursive` to pull the contents into the `gym` repo."
   ]
  },
  {
   "cell_type": "markdown",
   "metadata": {},
   "source": [
    "##### >**Note:** Make sure you have OpenAI Gym cloned. Then run this command `pip install -e gym/[all]`."
   ]
  },
  {
   "cell_type": "code",
   "execution_count": 3,
   "metadata": {},
   "outputs": [
    {
     "name": "stdout",
     "output_type": "stream",
     "text": [
      "\u001b[33mWARN: gym.spaces.Box autodetected dtype as <class 'numpy.float32'>. Please provide explicit dtype.\u001b[0m\n",
      "\u001b[33mWARN: gym.spaces.Box autodetected dtype as <class 'numpy.float32'>. Please provide explicit dtype.\u001b[0m\n"
     ]
    },
    {
     "name": "stderr",
     "output_type": "stream",
     "text": [
      "/home/arasdar/anaconda3/envs/env/lib/python3.6/site-packages/gym/__init__.py:22: UserWarning: DEPRECATION WARNING: to improve load times, gym no longer automatically loads gym.spaces. Please run \"import gym.spaces\" to load gym.spaces on your own. This warning will turn into an error in a future version of gym.\n",
      "  warnings.warn('DEPRECATION WARNING: to improve load times, gym no longer automatically loads gym.spaces. Please run \"import gym.spaces\" to load gym.spaces on your own. This warning will turn into an error in a future version of gym.')\n"
     ]
    }
   ],
   "source": [
    "import gym\n",
    "\n",
    "## Create the Cart-Pole game environment\n",
    "env = gym.make('CartPole-v0')\n",
    "env = gym.make('CartPole-v1')\n",
    "# env = gym.make('Acrobot-v1')\n",
    "# env = gym.make('MountainCar-v0')\n",
    "# env = gym.make('MountainCarContinuous-v0')\n",
    "# env = gym.make('Pendulum-v0')\n",
    "# env = gym.make('Blackjack-v0')\n",
    "# env = gym.make('FrozenLake-v0')\n",
    "# env = gym.make('AirRaid-ram-v0')\n",
    "# env = gym.make('AirRaid-v0')\n",
    "# env = gym.make('BipedalWalker-v2')\n",
    "# env = gym.make('Copy-v0')\n",
    "# env = gym.make('CarRacing-v0')\n",
    "# env = gym.make('Ant-v2') #mujoco\n",
    "# env = gym.make('FetchPickAndPlace-v1') # mujoco required!"
   ]
  },
  {
   "cell_type": "markdown",
   "metadata": {},
   "source": [
    "We interact with the simulation through `env`. To show the simulation running, you can use `env.render()` to render one frame. Passing in an action as an integer to `env.step` will generate the next step in the simulation.  You can see how many actions are possible from `env.action_space` and to get a random action you can use `env.action_space.sample()`. This is general to all Gym games. In the Cart-Pole game, there are two possible actions, moving the cart left or right. So there are two actions we can take, encoded as 0 and 1.\n",
    "\n",
    "Run the code below to watch the simulation run."
   ]
  },
  {
   "cell_type": "code",
   "execution_count": 4,
   "metadata": {},
   "outputs": [],
   "source": [
    "env.reset()\n",
    "batch = []\n",
    "for _ in range(1111):\n",
    "    #env.render()\n",
    "    action = env.action_space.sample()\n",
    "    state, reward, done, info = env.step(action) # take a random action\n",
    "    batch.append([action, state, reward, done, info])\n",
    "    #print('state, action, reward, done, info:', state, action, reward, done, info)\n",
    "    if done:\n",
    "        env.reset()"
   ]
  },
  {
   "cell_type": "markdown",
   "metadata": {},
   "source": [
    "To shut the window showing the simulation, use `env.close()`."
   ]
  },
  {
   "cell_type": "code",
   "execution_count": 5,
   "metadata": {},
   "outputs": [],
   "source": [
    "# env.close()"
   ]
  },
  {
   "cell_type": "markdown",
   "metadata": {},
   "source": [
    "If you ran the simulation above, we can look at the rewards:"
   ]
  },
  {
   "cell_type": "code",
   "execution_count": 6,
   "metadata": {},
   "outputs": [
    {
     "data": {
      "text/plain": [
       "((4,), (4,))"
      ]
     },
     "execution_count": 6,
     "metadata": {},
     "output_type": "execute_result"
    }
   ],
   "source": [
    "batch[0], \n",
    "batch[0][1].shape, state.shape"
   ]
  },
  {
   "cell_type": "code",
   "execution_count": 7,
   "metadata": {},
   "outputs": [],
   "source": [
    "import numpy as np\n",
    "actions = np.array([each[0] for each in batch])\n",
    "states = np.array([each[1] for each in batch])\n",
    "rewards = np.array([each[2] for each in batch])\n",
    "dones = np.array([each[3] for each in batch])\n",
    "infos = np.array([each[4] for each in batch])"
   ]
  },
  {
   "cell_type": "code",
   "execution_count": 8,
   "metadata": {},
   "outputs": [
    {
     "name": "stdout",
     "output_type": "stream",
     "text": [
      "shapes: (1111,) (1111, 4) (1111,) (1111,)\n",
      "dtypes: float64 float64 int64 bool\n",
      "states: 2.349380847965382 -2.602122511534467\n",
      "actions: 1 0\n",
      "rewards: 1.0 1.0\n"
     ]
    }
   ],
   "source": [
    "# print(rewards[-20:])\n",
    "print('shapes:', np.array(rewards).shape, np.array(states).shape, np.array(actions).shape, np.array(dones).shape)\n",
    "print('dtypes:', np.array(rewards).dtype, np.array(states).dtype, np.array(actions).dtype, np.array(dones).dtype)\n",
    "print('states:', np.max(np.array(states)), np.min(np.array(states)))\n",
    "print('actions:', np.max(np.array(actions)), np.min(np.array(actions)))\n",
    "# print((np.max(np.array(actions)) - np.min(np.array(actions)))+1)\n",
    "print('rewards:', np.max(np.array(rewards)), np.min(np.array(rewards)))"
   ]
  },
  {
   "cell_type": "code",
   "execution_count": 9,
   "metadata": {},
   "outputs": [
    {
     "data": {
      "text/plain": [
       "array([0, 1, 1, 0, 1, 1, 1, 1, 1, 1])"
      ]
     },
     "execution_count": 9,
     "metadata": {},
     "output_type": "execute_result"
    }
   ],
   "source": [
    "actions[:10]"
   ]
  },
  {
   "cell_type": "code",
   "execution_count": 10,
   "metadata": {},
   "outputs": [
    {
     "data": {
      "text/plain": [
       "array([1., 1., 1., 1., 1., 1., 1., 1., 1., 1.])"
      ]
     },
     "execution_count": 10,
     "metadata": {},
     "output_type": "execute_result"
    }
   ],
   "source": [
    "rewards[:10]"
   ]
  },
  {
   "cell_type": "code",
   "execution_count": 11,
   "metadata": {},
   "outputs": [],
   "source": [
    "# import numpy as np\n",
    "def sigmoid(x, derivative=False):\n",
    "  return x*(1-x) if derivative else 1/(1+np.exp(-x))"
   ]
  },
  {
   "cell_type": "code",
   "execution_count": 12,
   "metadata": {},
   "outputs": [
    {
     "data": {
      "text/plain": [
       "(0.7310585786300049, 0.7310585786300049)"
      ]
     },
     "execution_count": 12,
     "metadata": {},
     "output_type": "execute_result"
    }
   ],
   "source": [
    "sigmoid(np.max(np.array(rewards))), sigmoid(np.min(np.array(rewards)))"
   ]
  },
  {
   "cell_type": "code",
   "execution_count": 13,
   "metadata": {},
   "outputs": [
    {
     "name": "stdout",
     "output_type": "stream",
     "text": [
      "rewards: 0.01 0.01\n"
     ]
    }
   ],
   "source": [
    "print('rewards:', np.max(np.array(rewards))/100, np.min(np.array(rewards))/100)"
   ]
  },
  {
   "cell_type": "markdown",
   "metadata": {},
   "source": [
    "The game resets after the pole has fallen past a certain angle. For each frame while the simulation is running, it returns a reward of 1.0. The longer the game runs, the more reward we get. Then, our network's goal is to maximize the reward by keeping the pole vertical. It will do this by moving the cart to the left and the right."
   ]
  },
  {
   "cell_type": "markdown",
   "metadata": {},
   "source": [
    "## Q-Network\n",
    "\n",
    "We train our Q-learning agent using the Bellman Equation:\n",
    "\n",
    "$$\n",
    "Q(s, a) = r + \\gamma \\max{Q(s', a')}\n",
    "$$\n",
    "\n",
    "where $s$ is a state, $a$ is an action, and $s'$ is the next state from state $s$ and action $a$.\n",
    "\n",
    "Before we used this equation to learn values for a Q-_table_. However, for this game there are a huge number of states available. The state has four values: the position and velocity of the cart, and the position and velocity of the pole. These are all real-valued numbers, so ignoring floating point precisions, you practically have infinite states. Instead of using a table then, we'll replace it with a neural network that will approximate the Q-table lookup function.\n",
    "\n",
    "<img src=\"assets/deep-q-learning.png\" width=450px>\n",
    "\n",
    "Now, our Q value, $Q(s, a)$ is calculated by passing in a state to the network. The output will be Q-values for each available action, with fully connected hidden layers.\n",
    "\n",
    "<img src=\"assets/q-network.png\" width=550px>\n",
    "\n",
    "\n",
    "As I showed before, we can define our targets for training as $\\hat{Q}(s,a) = r + \\gamma \\max{Q(s', a')}$. Then we update the weights by minimizing $(\\hat{Q}(s,a) - Q(s,a))^2$. \n",
    "\n",
    "For this Cart-Pole game, we have four inputs, one for each value in the state, and two outputs, one for each action. To get $\\hat{Q}$, we'll first choose an action, then simulate the game using that action. This will get us the next state, $s'$, and the reward. With that, we can calculate $\\hat{Q}$ then pass it back into the $Q$ network to run the optimizer and update the weights.\n",
    "\n",
    "Below is my implementation of the Q-network. I used two fully connected layers with ReLU activations. Two seems to be good enough, three might be better. Feel free to try it out."
   ]
  },
  {
   "cell_type": "code",
   "execution_count": 120,
   "metadata": {},
   "outputs": [],
   "source": [
    "def model_input(state_size):\n",
    "    #states = tf.placeholder(tf.float32, [None, *state_size], name='states')\n",
    "    states = tf.placeholder(tf.float32, [None, state_size], name='states')\n",
    "    actions = tf.placeholder(tf.int32, [None], name='actions')\n",
    "    targetQs = tf.placeholder(tf.float32, [None], name='targetQs')\n",
    "    return states, actions, targetQs"
   ]
  },
  {
   "cell_type": "code",
   "execution_count": 121,
   "metadata": {},
   "outputs": [],
   "source": [
    "# How to use batch-norm\n",
    "#   x_norm = tf.layers.batch_normalization(x, training=training)\n",
    "\n",
    "#   # ...\n",
    "\n",
    "#   update_ops = tf.get_collection(tf.GraphKeys.UPDATE_OPS)\n",
    "#   with tf.control_dependencies(update_ops):\n",
    "#     train_op = optimizer.minimize(loss)"
   ]
  },
  {
   "cell_type": "code",
   "execution_count": 122,
   "metadata": {},
   "outputs": [],
   "source": [
    "# training: Either a Python boolean, or a TensorFlow boolean scalar tensor (e.g. a placeholder). \n",
    "# Whether to return the output in: \n",
    "# training mode (normalized with statistics of the current batch) or \n",
    "# inference mode (normalized with moving statistics). \n",
    "# NOTE: make sure to set this parameter correctly, or else your training/inference will not work properly."
   ]
  },
  {
   "cell_type": "code",
   "execution_count": 123,
   "metadata": {},
   "outputs": [],
   "source": [
    "# Generator/Controller: Generating/prediting the actions\n",
    "def generator(states, action_size, hidden_size, reuse=False, alpha=0.1, training=False):\n",
    "    with tf.variable_scope('generator', reuse=reuse):\n",
    "        # First fully connected layer\n",
    "        h1 = tf.layers.dense(inputs=states, units=hidden_size)\n",
    "        bn1 = tf.layers.batch_normalization(h1, training=training)        \n",
    "        nl1 = tf.maximum(alpha * bn1, bn1)\n",
    "        \n",
    "        # Second fully connected layer\n",
    "        h2 = tf.layers.dense(inputs=nl1, units=hidden_size)\n",
    "        bn2 = tf.layers.batch_normalization(h2, training=training)        \n",
    "        nl2 = tf.maximum(alpha * bn2, bn2)\n",
    "        \n",
    "        # Output layer\n",
    "        logits = tf.layers.dense(inputs=nl2, units=action_size)        \n",
    "        #predictions = tf.nn.softmax(logits)\n",
    "\n",
    "        # return actions logits\n",
    "        return logits"
   ]
  },
  {
   "cell_type": "code",
   "execution_count": 124,
   "metadata": {},
   "outputs": [],
   "source": [
    "# Discriminator/Dopamine: Reward function/planner/naviator/advisor/supervisor/cortical columns\n",
    "def discriminator(states, actions, hidden_size, reuse=False, alpha=0.1, training=False):\n",
    "    with tf.variable_scope('discriminator', reuse=reuse):\n",
    "        # Fusion/merge states and actions/ SA/ SM\n",
    "        x_fused = tf.concat(axis=1, values=[states, actions])\n",
    "        \n",
    "        # First fully connected layer\n",
    "        h1 = tf.layers.dense(inputs=x_fused, units=hidden_size)\n",
    "        bn1 = tf.layers.batch_normalization(h1, training=training)        \n",
    "        nl1 = tf.maximum(alpha * bn1, bn1)\n",
    "        \n",
    "        # Second fully connected layer\n",
    "        h2 = tf.layers.dense(inputs=nl1, units=hidden_size)\n",
    "        bn2 = tf.layers.batch_normalization(h2, training=training)        \n",
    "        nl2 = tf.maximum(alpha * bn2, bn2)\n",
    "        \n",
    "        # Output layer\n",
    "        logits = tf.layers.dense(inputs=nl2, units=1)        \n",
    "        #predictions = tf.nn.softmax(logits)\n",
    "\n",
    "        # return rewards logits\n",
    "        return logits"
   ]
  },
  {
   "cell_type": "code",
   "execution_count": 126,
   "metadata": {},
   "outputs": [],
   "source": [
    "def model_loss(action_size, hidden_size, states, actions, targetQs):\n",
    "    # G\n",
    "    actions_logits = generator(states=states, hidden_size=hidden_size, action_size=action_size)\n",
    "    actions_labels = tf.one_hot(indices=actions, depth=action_size, dtype=actions_logits.dtype)\n",
    "    neg_log_prob_actions = tf.nn.softmax_cross_entropy_with_logits_v2(logits=actions_logits, \n",
    "                                                                      labels=actions_labels)\n",
    "    #g_loss = tf.reduce_mean(neg_log_prob_actions * targetQs)\n",
    "    #g_loss = -tf.reduce_mean(Qs)\n",
    "    \n",
    "    # D\n",
    "    Qs = discriminator(actions=actions_logits, hidden_size=hidden_size, states=states)\n",
    "    d_loss = tf.reduce_mean(tf.square(Qs - targetQs))\n",
    "    g_loss = tf.reduce_mean(neg_log_prob_actions * Qs)\n",
    "    return actions_logits, Qs, g_loss, d_loss"
   ]
  },
  {
   "cell_type": "code",
   "execution_count": 127,
   "metadata": {},
   "outputs": [],
   "source": [
    "# Optimizating/training/learning G & D\n",
    "def model_opt(g_loss, d_loss, learning_rate):\n",
    "    # Get weights and bias to update\n",
    "    t_vars = tf.trainable_variables()\n",
    "    g_vars = [var for var in t_vars if var.name.startswith('generator')]\n",
    "    d_vars = [var for var in t_vars if var.name.startswith('discriminator')]\n",
    "\n",
    "    # Optimize\n",
    "    with tf.control_dependencies(tf.get_collection(tf.GraphKeys.UPDATE_OPS)): # Required for batchnorm (BN)\n",
    "        g_opt = tf.train.AdamOptimizer(learning_rate).minimize(g_loss, var_list=g_vars)\n",
    "        d_opt = tf.train.AdamOptimizer(learning_rate).minimize(d_loss, var_list=d_vars)\n",
    "\n",
    "    return g_opt, d_opt"
   ]
  },
  {
   "cell_type": "code",
   "execution_count": 128,
   "metadata": {},
   "outputs": [],
   "source": [
    "class Model:\n",
    "    def __init__(self, state_size, action_size, hidden_size, learning_rate):\n",
    "\n",
    "        # Data of the Model: make the data available inside the framework\n",
    "        self.states, self.actions, self.targetQs = model_input(state_size=state_size)\n",
    "\n",
    "        # Create the Model: calculating the loss and forwad pass\n",
    "        self.actions_logits, self.Qs_logits, self.g_loss, self.d_loss = model_loss(\n",
    "            action_size=action_size, hidden_size=hidden_size, # model init parameters\n",
    "            states=self.states, actions=self.actions, targetQs=self.targetQs) # model input\n",
    "        \n",
    "        # Update the model: backward pass and backprop\n",
    "        self.g_opt, self.d_opt = model_opt(g_loss=self.g_loss, d_loss=self.d_loss, learning_rate=learning_rate)"
   ]
  },
  {
   "cell_type": "code",
   "execution_count": 129,
   "metadata": {},
   "outputs": [],
   "source": [
    "from collections import deque\n",
    "class Memory():\n",
    "    def __init__(self, max_size = 1000):\n",
    "        self.buffer = deque(maxlen=max_size)"
   ]
  },
  {
   "cell_type": "markdown",
   "metadata": {},
   "source": [
    "## Hyperparameters\n",
    "\n",
    "One of the more difficult aspects of reinforcememt learning are the large number of hyperparameters. Not only are we tuning the network, but we're tuning the simulation."
   ]
  },
  {
   "cell_type": "code",
   "execution_count": 130,
   "metadata": {},
   "outputs": [
    {
     "name": "stdout",
     "output_type": "stream",
     "text": [
      "state size:(1000, 4) actions:(1000,)\n",
      "action size:2\n"
     ]
    }
   ],
   "source": [
    "print('state size:{}'.format(states.shape), \n",
    "      'actions:{}'.format(actions.shape)) \n",
    "print('action size:{}'.format(np.max(actions) - np.min(actions)+1))"
   ]
  },
  {
   "cell_type": "code",
   "execution_count": 131,
   "metadata": {},
   "outputs": [],
   "source": [
    "# Exploration parameters\n",
    "explore_start = 1.0            # exploration probability at start\n",
    "explore_stop = 0.01            # minimum exploration probability \n",
    "decay_rate = 0.0001            # exponential decay rate for exploration prob\n",
    "\n",
    "# Network parameters\n",
    "# state_size = 37\n",
    "# state_size_ = (84, 84, 3)\n",
    "state_size = 4\n",
    "action_size = 2\n",
    "hidden_size = 64             # number of units in each Q-network hidden layer\n",
    "learning_rate = 0.0001         # Q-network learning rate\n",
    "\n",
    "# Memory parameters\n",
    "gamma = 0.99                   # future reward discount\n",
    "memory_size = 1000            # memory capacity\n",
    "batch_size = 1000             # experience mini-batch size"
   ]
  },
  {
   "cell_type": "code",
   "execution_count": 132,
   "metadata": {},
   "outputs": [],
   "source": [
    "# Reset/init the graph/session\n",
    "graph = tf.reset_default_graph()\n",
    "\n",
    "# Init the model\n",
    "model = Model(action_size=action_size, state_size=state_size, hidden_size=hidden_size, learning_rate=learning_rate)\n",
    "\n",
    "# Init the memory\n",
    "memory = Memory(max_size=memory_size)"
   ]
  },
  {
   "cell_type": "code",
   "execution_count": 133,
   "metadata": {},
   "outputs": [],
   "source": [
    "state = env.reset()\n",
    "for _ in range(memory_size):\n",
    "    action = env.action_space.sample()\n",
    "    next_state, reward, done, _ = env.step(action)\n",
    "    memory.buffer.append([state, action, next_state, reward, float(done)])\n",
    "    state = next_state\n",
    "    if done is True:\n",
    "        state = env.reset()"
   ]
  },
  {
   "cell_type": "markdown",
   "metadata": {},
   "source": [
    "## Training the model\n",
    "\n",
    "Below we'll train our agent. If you want to watch it train, uncomment the `env.render()` line. This is slow because it's rendering the frames slower than the network can train. But, it's cool to watch the agent get better at the game."
   ]
  },
  {
   "cell_type": "code",
   "execution_count": null,
   "metadata": {},
   "outputs": [
    {
     "name": "stdout",
     "output_type": "stream",
     "text": [
      "Episode:0 meanR:23.0000 R:23.0 gloss:-0.0007 dloss:1.0030 exploreP:0.9977\n",
      "Episode:1 meanR:17.0000 R:11.0 gloss:0.0363 dloss:1.0008 exploreP:0.9966\n",
      "Episode:2 meanR:18.6667 R:22.0 gloss:0.0768 dloss:1.0006 exploreP:0.9945\n",
      "Episode:3 meanR:18.0000 R:16.0 gloss:0.1302 dloss:1.0024 exploreP:0.9929\n",
      "Episode:4 meanR:25.0000 R:53.0 gloss:0.2474 dloss:1.0169 exploreP:0.9877\n",
      "Episode:5 meanR:26.3333 R:33.0 gloss:0.4136 dloss:1.0568 exploreP:0.9845\n",
      "Episode:6 meanR:24.5714 R:14.0 gloss:0.5086 dloss:1.0915 exploreP:0.9831\n",
      "Episode:7 meanR:23.2500 R:14.0 gloss:0.5681 dloss:1.1156 exploreP:0.9818\n",
      "Episode:8 meanR:22.6667 R:18.0 gloss:0.6377 dloss:1.1432 exploreP:0.9800\n",
      "Episode:9 meanR:22.6000 R:22.0 gloss:0.7414 dloss:1.1884 exploreP:0.9779\n",
      "Episode:10 meanR:21.8182 R:14.0 gloss:0.8487 dloss:1.2355 exploreP:0.9765\n",
      "Episode:11 meanR:21.9167 R:23.0 gloss:0.9704 dloss:1.2932 exploreP:0.9743\n",
      "Episode:12 meanR:22.7692 R:33.0 gloss:1.1725 dloss:1.3939 exploreP:0.9711\n",
      "Episode:13 meanR:22.9286 R:25.0 gloss:1.4139 dloss:1.5436 exploreP:0.9687\n",
      "Episode:14 meanR:23.6000 R:33.0 gloss:1.6782 dloss:1.6789 exploreP:0.9656\n",
      "Episode:15 meanR:23.8125 R:27.0 gloss:2.0048 dloss:1.8716 exploreP:0.9630\n",
      "Episode:16 meanR:24.5294 R:36.0 gloss:2.4003 dloss:2.1583 exploreP:0.9596\n",
      "Episode:17 meanR:25.3889 R:40.0 gloss:2.9407 dloss:2.5719 exploreP:0.9558\n",
      "Episode:18 meanR:24.7368 R:13.0 gloss:3.3481 dloss:2.8448 exploreP:0.9545\n",
      "Episode:19 meanR:27.8000 R:86.0 gloss:4.2269 dloss:3.3880 exploreP:0.9465\n",
      "Episode:20 meanR:28.0000 R:32.0 gloss:5.4172 dloss:4.1100 exploreP:0.9435\n",
      "Episode:21 meanR:28.2273 R:33.0 gloss:6.1266 dloss:4.5065 exploreP:0.9404\n",
      "Episode:22 meanR:29.2609 R:52.0 gloss:7.2059 dloss:5.2992 exploreP:0.9356\n",
      "Episode:23 meanR:28.7083 R:16.0 gloss:8.0565 dloss:5.9205 exploreP:0.9341\n",
      "Episode:24 meanR:28.2000 R:16.0 gloss:8.4907 dloss:6.3385 exploreP:0.9326\n",
      "Episode:25 meanR:28.6154 R:39.0 gloss:9.1942 dloss:7.0036 exploreP:0.9290\n",
      "Episode:26 meanR:28.7037 R:31.0 gloss:10.0654 dloss:8.0430 exploreP:0.9262\n",
      "Episode:27 meanR:28.2857 R:17.0 gloss:10.7483 dloss:8.9736 exploreP:0.9246\n",
      "Episode:28 meanR:28.3793 R:31.0 gloss:11.3518 dloss:9.7673 exploreP:0.9218\n",
      "Episode:29 meanR:28.5667 R:34.0 gloss:12.0702 dloss:10.6740 exploreP:0.9187\n",
      "Episode:30 meanR:28.0323 R:12.0 gloss:12.5730 dloss:11.4454 exploreP:0.9176\n",
      "Episode:31 meanR:27.5312 R:12.0 gloss:12.8351 dloss:12.0195 exploreP:0.9165\n",
      "Episode:32 meanR:28.3939 R:56.0 gloss:13.3681 dloss:12.9582 exploreP:0.9115\n",
      "Episode:33 meanR:27.8235 R:9.0 gloss:13.8459 dloss:14.1195 exploreP:0.9106\n",
      "Episode:34 meanR:27.9714 R:33.0 gloss:14.0125 dloss:14.4507 exploreP:0.9077\n",
      "Episode:35 meanR:27.4722 R:10.0 gloss:14.2159 dloss:15.0180 exploreP:0.9068\n",
      "Episode:36 meanR:28.0270 R:48.0 gloss:14.3355 dloss:15.1801 exploreP:0.9025\n",
      "Episode:37 meanR:27.5526 R:10.0 gloss:14.5086 dloss:15.3220 exploreP:0.9016\n",
      "Episode:38 meanR:27.1282 R:11.0 gloss:14.5831 dloss:15.7730 exploreP:0.9006\n",
      "Episode:39 meanR:27.1000 R:26.0 gloss:14.6519 dloss:15.7953 exploreP:0.8983\n",
      "Episode:40 meanR:27.0000 R:23.0 gloss:14.7225 dloss:16.1517 exploreP:0.8963\n",
      "Episode:41 meanR:26.5952 R:10.0 gloss:14.7357 dloss:16.6118 exploreP:0.8954\n",
      "Episode:42 meanR:26.5814 R:26.0 gloss:14.6482 dloss:16.5107 exploreP:0.8931\n",
      "Episode:43 meanR:27.5682 R:70.0 gloss:14.5102 dloss:15.8392 exploreP:0.8869\n",
      "Episode:44 meanR:27.2000 R:11.0 gloss:14.6991 dloss:15.9939 exploreP:0.8859\n",
      "Episode:45 meanR:26.8696 R:12.0 gloss:14.7591 dloss:16.1524 exploreP:0.8849\n",
      "Episode:46 meanR:26.6383 R:16.0 gloss:14.7709 dloss:16.2531 exploreP:0.8835\n",
      "Episode:47 meanR:26.4167 R:16.0 gloss:14.7723 dloss:16.4746 exploreP:0.8821\n",
      "Episode:48 meanR:26.8776 R:49.0 gloss:14.7032 dloss:16.3727 exploreP:0.8778\n",
      "Episode:49 meanR:26.6400 R:15.0 gloss:14.7661 dloss:16.3275 exploreP:0.8765\n",
      "Episode:50 meanR:26.6863 R:29.0 gloss:14.7635 dloss:16.5530 exploreP:0.8740\n",
      "Episode:51 meanR:27.0000 R:43.0 gloss:14.7013 dloss:16.3777 exploreP:0.8703\n",
      "Episode:52 meanR:26.9623 R:25.0 gloss:14.6806 dloss:16.4851 exploreP:0.8682\n",
      "Episode:53 meanR:26.9074 R:24.0 gloss:14.6725 dloss:16.6954 exploreP:0.8661\n",
      "Episode:54 meanR:26.6727 R:14.0 gloss:14.6039 dloss:16.6823 exploreP:0.8649\n",
      "Episode:55 meanR:26.8214 R:35.0 gloss:14.5223 dloss:16.4740 exploreP:0.8619\n",
      "Episode:56 meanR:26.5263 R:10.0 gloss:14.4840 dloss:16.8598 exploreP:0.8611\n",
      "Episode:57 meanR:26.3793 R:18.0 gloss:14.3856 dloss:17.0558 exploreP:0.8595\n",
      "Episode:58 meanR:26.2542 R:19.0 gloss:14.2194 dloss:17.0009 exploreP:0.8579\n",
      "Episode:59 meanR:26.4000 R:35.0 gloss:13.9492 dloss:16.3566 exploreP:0.8550\n",
      "Episode:60 meanR:26.8525 R:54.0 gloss:13.7077 dloss:15.6935 exploreP:0.8504\n",
      "Episode:61 meanR:26.5645 R:9.0 gloss:13.6749 dloss:15.8899 exploreP:0.8497\n",
      "Episode:62 meanR:26.5397 R:25.0 gloss:13.6253 dloss:16.0623 exploreP:0.8476\n",
      "Episode:63 meanR:26.7188 R:38.0 gloss:13.4551 dloss:15.3780 exploreP:0.8444\n",
      "Episode:64 meanR:26.7385 R:28.0 gloss:13.5164 dloss:15.4795 exploreP:0.8421\n",
      "Episode:65 meanR:26.5758 R:16.0 gloss:13.5562 dloss:15.6211 exploreP:0.8407\n",
      "Episode:66 meanR:26.4328 R:17.0 gloss:13.5160 dloss:15.7902 exploreP:0.8393\n",
      "Episode:67 meanR:26.2647 R:15.0 gloss:13.4161 dloss:15.6664 exploreP:0.8381\n",
      "Episode:68 meanR:26.0290 R:10.0 gloss:13.3496 dloss:15.6338 exploreP:0.8372\n",
      "Episode:69 meanR:26.1571 R:35.0 gloss:13.2004 dloss:15.4088 exploreP:0.8344\n",
      "Episode:70 meanR:26.1408 R:25.0 gloss:13.0977 dloss:15.3505 exploreP:0.8323\n",
      "Episode:71 meanR:26.0139 R:17.0 gloss:13.0355 dloss:15.1448 exploreP:0.8309\n",
      "Episode:72 meanR:25.8493 R:14.0 gloss:13.0390 dloss:15.0881 exploreP:0.8298\n",
      "Episode:73 meanR:25.8378 R:25.0 gloss:13.0602 dloss:15.3011 exploreP:0.8277\n",
      "Episode:74 meanR:25.7600 R:20.0 gloss:12.9905 dloss:15.4611 exploreP:0.8261\n",
      "Episode:75 meanR:25.8421 R:32.0 gloss:12.8332 dloss:14.9082 exploreP:0.8235\n",
      "Episode:76 meanR:25.6623 R:12.0 gloss:12.8758 dloss:15.1975 exploreP:0.8225\n",
      "Episode:77 meanR:25.8205 R:38.0 gloss:12.8388 dloss:14.8973 exploreP:0.8194\n",
      "Episode:78 meanR:25.8228 R:26.0 gloss:12.8694 dloss:15.1775 exploreP:0.8173\n",
      "Episode:79 meanR:25.7250 R:18.0 gloss:12.8279 dloss:14.8629 exploreP:0.8159\n",
      "Episode:80 meanR:25.7037 R:24.0 gloss:12.9091 dloss:14.9432 exploreP:0.8139\n",
      "Episode:81 meanR:25.5732 R:15.0 gloss:12.9681 dloss:15.1049 exploreP:0.8127\n",
      "Episode:82 meanR:25.3976 R:11.0 gloss:12.9676 dloss:15.3571 exploreP:0.8118\n",
      "Episode:83 meanR:25.2857 R:16.0 gloss:12.8907 dloss:15.0812 exploreP:0.8106\n",
      "Episode:84 meanR:25.2118 R:19.0 gloss:12.8518 dloss:15.1314 exploreP:0.8090\n",
      "Episode:85 meanR:25.1860 R:23.0 gloss:12.7729 dloss:15.0149 exploreP:0.8072\n",
      "Episode:86 meanR:25.1034 R:18.0 gloss:12.7174 dloss:15.1838 exploreP:0.8058\n",
      "Episode:87 meanR:25.1818 R:32.0 gloss:12.4911 dloss:14.8717 exploreP:0.8032\n",
      "Episode:88 meanR:25.0112 R:10.0 gloss:12.3458 dloss:14.4785 exploreP:0.8024\n",
      "Episode:89 meanR:24.8667 R:12.0 gloss:12.3168 dloss:14.4770 exploreP:0.8015\n",
      "Episode:90 meanR:24.8681 R:25.0 gloss:12.3113 dloss:14.4042 exploreP:0.7995\n",
      "Episode:91 meanR:24.7065 R:10.0 gloss:12.3461 dloss:14.5159 exploreP:0.7987\n",
      "Episode:92 meanR:24.7097 R:25.0 gloss:12.3730 dloss:14.6615 exploreP:0.7967\n",
      "Episode:93 meanR:24.5745 R:12.0 gloss:12.3313 dloss:14.7524 exploreP:0.7958\n",
      "Episode:94 meanR:24.5158 R:19.0 gloss:12.0888 dloss:14.3925 exploreP:0.7943\n",
      "Episode:95 meanR:24.4062 R:14.0 gloss:11.9647 dloss:14.1102 exploreP:0.7932\n",
      "Episode:96 meanR:24.2990 R:14.0 gloss:11.9085 dloss:14.3168 exploreP:0.7921\n",
      "Episode:97 meanR:24.3163 R:26.0 gloss:11.7763 dloss:14.0411 exploreP:0.7901\n",
      "Episode:98 meanR:24.6465 R:57.0 gloss:11.7861 dloss:13.8831 exploreP:0.7857\n",
      "Episode:99 meanR:24.6200 R:22.0 gloss:11.9961 dloss:14.1503 exploreP:0.7839\n",
      "Episode:100 meanR:24.5000 R:11.0 gloss:11.9846 dloss:14.1189 exploreP:0.7831\n",
      "Episode:101 meanR:24.5100 R:12.0 gloss:11.9698 dloss:14.2909 exploreP:0.7822\n",
      "Episode:102 meanR:24.5200 R:23.0 gloss:11.8226 dloss:14.1031 exploreP:0.7804\n",
      "Episode:103 meanR:24.5500 R:19.0 gloss:11.7340 dloss:13.7666 exploreP:0.7789\n",
      "Episode:104 meanR:24.1600 R:14.0 gloss:11.8123 dloss:13.9653 exploreP:0.7779\n",
      "Episode:105 meanR:24.0200 R:19.0 gloss:11.8005 dloss:14.0116 exploreP:0.7764\n",
      "Episode:106 meanR:24.1100 R:23.0 gloss:11.7446 dloss:14.0369 exploreP:0.7746\n",
      "Episode:107 meanR:24.1700 R:20.0 gloss:11.6409 dloss:13.8082 exploreP:0.7731\n",
      "Episode:108 meanR:24.2100 R:22.0 gloss:11.5683 dloss:13.8593 exploreP:0.7714\n"
     ]
    },
    {
     "name": "stdout",
     "output_type": "stream",
     "text": [
      "Episode:109 meanR:24.1100 R:12.0 gloss:11.4179 dloss:13.7543 exploreP:0.7705\n",
      "Episode:110 meanR:24.2100 R:24.0 gloss:11.2950 dloss:13.3022 exploreP:0.7687\n",
      "Episode:111 meanR:24.1400 R:16.0 gloss:11.3596 dloss:13.5755 exploreP:0.7675\n",
      "Episode:112 meanR:23.9600 R:15.0 gloss:11.3259 dloss:13.5977 exploreP:0.7664\n",
      "Episode:113 meanR:23.9100 R:20.0 gloss:11.1753 dloss:13.4543 exploreP:0.7648\n",
      "Episode:114 meanR:24.1600 R:58.0 gloss:11.1796 dloss:13.2092 exploreP:0.7605\n",
      "Episode:115 meanR:24.0800 R:19.0 gloss:11.5199 dloss:13.6644 exploreP:0.7590\n",
      "Episode:116 meanR:23.9100 R:19.0 gloss:11.5084 dloss:13.6340 exploreP:0.7576\n",
      "Episode:117 meanR:23.6600 R:15.0 gloss:11.5398 dloss:13.9141 exploreP:0.7565\n",
      "Episode:118 meanR:23.6600 R:13.0 gloss:11.4187 dloss:13.7802 exploreP:0.7555\n",
      "Episode:119 meanR:22.9600 R:16.0 gloss:11.2712 dloss:13.5774 exploreP:0.7543\n",
      "Episode:120 meanR:22.8300 R:19.0 gloss:11.1522 dloss:13.3770 exploreP:0.7529\n",
      "Episode:121 meanR:22.6800 R:18.0 gloss:11.1184 dloss:13.3168 exploreP:0.7516\n",
      "Episode:122 meanR:22.3300 R:17.0 gloss:11.1296 dloss:13.4534 exploreP:0.7503\n",
      "Episode:123 meanR:22.4300 R:26.0 gloss:11.0677 dloss:13.3654 exploreP:0.7484\n",
      "Episode:124 meanR:22.4100 R:14.0 gloss:11.0796 dloss:13.3863 exploreP:0.7474\n",
      "Episode:125 meanR:22.3400 R:32.0 gloss:10.9989 dloss:13.2984 exploreP:0.7450\n",
      "Episode:126 meanR:22.1300 R:10.0 gloss:11.0401 dloss:13.3531 exploreP:0.7443\n",
      "Episode:127 meanR:22.1200 R:16.0 gloss:11.0114 dloss:13.5882 exploreP:0.7431\n",
      "Episode:128 meanR:22.0200 R:21.0 gloss:10.8123 dloss:13.2034 exploreP:0.7416\n",
      "Episode:129 meanR:22.1200 R:44.0 gloss:10.7732 dloss:13.0392 exploreP:0.7384\n",
      "Episode:130 meanR:22.2900 R:29.0 gloss:10.9191 dloss:13.2788 exploreP:0.7363\n",
      "Episode:131 meanR:22.3600 R:19.0 gloss:11.0203 dloss:13.2716 exploreP:0.7349\n",
      "Episode:132 meanR:21.9100 R:11.0 gloss:11.1150 dloss:13.5255 exploreP:0.7341\n",
      "Episode:133 meanR:21.9900 R:17.0 gloss:11.0933 dloss:13.5400 exploreP:0.7329\n",
      "Episode:134 meanR:21.8100 R:15.0 gloss:11.0762 dloss:13.4425 exploreP:0.7318\n",
      "Episode:135 meanR:21.8600 R:15.0 gloss:11.0028 dloss:13.3757 exploreP:0.7307\n",
      "Episode:136 meanR:21.5400 R:16.0 gloss:10.9184 dloss:13.2891 exploreP:0.7295\n",
      "Episode:137 meanR:21.6100 R:17.0 gloss:10.8653 dloss:13.3481 exploreP:0.7283\n",
      "Episode:138 meanR:21.9300 R:43.0 gloss:10.8089 dloss:13.0709 exploreP:0.7252\n",
      "Episode:139 meanR:21.8100 R:14.0 gloss:11.0626 dloss:13.6742 exploreP:0.7242\n",
      "Episode:140 meanR:21.8000 R:22.0 gloss:11.0160 dloss:13.3985 exploreP:0.7227\n",
      "Episode:141 meanR:21.9200 R:22.0 gloss:10.9720 dloss:13.4739 exploreP:0.7211\n",
      "Episode:142 meanR:21.7900 R:13.0 gloss:10.9877 dloss:13.4415 exploreP:0.7202\n",
      "Episode:143 meanR:21.3400 R:25.0 gloss:11.0185 dloss:13.4596 exploreP:0.7184\n",
      "Episode:144 meanR:21.4300 R:20.0 gloss:11.1126 dloss:13.5006 exploreP:0.7170\n",
      "Episode:145 meanR:21.4100 R:10.0 gloss:11.1885 dloss:13.8416 exploreP:0.7163\n",
      "Episode:146 meanR:21.8700 R:62.0 gloss:11.0808 dloss:13.5399 exploreP:0.7119\n",
      "Episode:147 meanR:21.8900 R:18.0 gloss:11.0222 dloss:13.5274 exploreP:0.7106\n",
      "Episode:148 meanR:21.8300 R:43.0 gloss:11.0430 dloss:13.4146 exploreP:0.7076\n",
      "Episode:149 meanR:21.8300 R:15.0 gloss:11.3243 dloss:13.9971 exploreP:0.7066\n",
      "Episode:150 meanR:21.7000 R:16.0 gloss:11.3682 dloss:14.0146 exploreP:0.7055\n",
      "Episode:151 meanR:21.4600 R:19.0 gloss:11.2844 dloss:13.7868 exploreP:0.7042\n",
      "Episode:152 meanR:21.3200 R:11.0 gloss:11.3320 dloss:13.9178 exploreP:0.7034\n",
      "Episode:153 meanR:21.2800 R:20.0 gloss:11.3233 dloss:13.8689 exploreP:0.7020\n",
      "Episode:154 meanR:21.5500 R:41.0 gloss:11.2320 dloss:13.6657 exploreP:0.6992\n",
      "Episode:155 meanR:21.3000 R:10.0 gloss:11.3906 dloss:13.9729 exploreP:0.6985\n",
      "Episode:156 meanR:21.4200 R:22.0 gloss:11.4069 dloss:13.9548 exploreP:0.6970\n",
      "Episode:157 meanR:21.5800 R:34.0 gloss:11.3817 dloss:13.8275 exploreP:0.6946\n",
      "Episode:158 meanR:21.5400 R:15.0 gloss:11.5642 dloss:14.0276 exploreP:0.6936\n",
      "Episode:159 meanR:21.3800 R:19.0 gloss:11.6009 dloss:14.1791 exploreP:0.6923\n",
      "Episode:160 meanR:21.0900 R:25.0 gloss:11.5247 dloss:14.1933 exploreP:0.6906\n",
      "Episode:161 meanR:21.1700 R:17.0 gloss:11.3967 dloss:14.1214 exploreP:0.6895\n",
      "Episode:162 meanR:21.0600 R:14.0 gloss:11.2582 dloss:13.8099 exploreP:0.6885\n",
      "Episode:163 meanR:20.8300 R:15.0 gloss:11.1860 dloss:13.6533 exploreP:0.6875\n",
      "Episode:164 meanR:20.7000 R:15.0 gloss:11.1403 dloss:13.6137 exploreP:0.6865\n",
      "Episode:165 meanR:20.7700 R:23.0 gloss:11.0874 dloss:13.4440 exploreP:0.6849\n",
      "Episode:166 meanR:20.8300 R:23.0 gloss:11.1721 dloss:13.5465 exploreP:0.6834\n",
      "Episode:167 meanR:20.8000 R:12.0 gloss:11.2732 dloss:13.8109 exploreP:0.6826\n",
      "Episode:168 meanR:20.8600 R:16.0 gloss:11.2785 dloss:13.8293 exploreP:0.6815\n",
      "Episode:169 meanR:20.6100 R:10.0 gloss:11.2120 dloss:13.8108 exploreP:0.6808\n",
      "Episode:170 meanR:20.6500 R:29.0 gloss:11.1494 dloss:13.5631 exploreP:0.6789\n",
      "Episode:171 meanR:20.6500 R:17.0 gloss:11.1604 dloss:13.7166 exploreP:0.6777\n",
      "Episode:172 meanR:20.6500 R:14.0 gloss:11.1300 dloss:13.6443 exploreP:0.6768\n",
      "Episode:173 meanR:20.9000 R:50.0 gloss:11.1396 dloss:13.5326 exploreP:0.6735\n",
      "Episode:174 meanR:20.8600 R:16.0 gloss:11.4402 dloss:13.9382 exploreP:0.6724\n",
      "Episode:175 meanR:20.7700 R:23.0 gloss:11.4296 dloss:14.0093 exploreP:0.6709\n",
      "Episode:176 meanR:20.8000 R:15.0 gloss:11.3581 dloss:14.0903 exploreP:0.6699\n",
      "Episode:177 meanR:20.6600 R:24.0 gloss:11.1491 dloss:13.7415 exploreP:0.6683\n",
      "Episode:178 meanR:20.4900 R:9.0 gloss:11.0898 dloss:13.7523 exploreP:0.6677\n",
      "Episode:179 meanR:20.5600 R:25.0 gloss:10.9691 dloss:13.5474 exploreP:0.6661\n",
      "Episode:180 meanR:20.5000 R:18.0 gloss:10.9290 dloss:13.3790 exploreP:0.6649\n",
      "Episode:181 meanR:20.4700 R:12.0 gloss:10.9937 dloss:13.6284 exploreP:0.6641\n",
      "Episode:182 meanR:20.5700 R:21.0 gloss:10.9327 dloss:13.5391 exploreP:0.6628\n",
      "Episode:183 meanR:20.5500 R:14.0 gloss:10.8983 dloss:13.5839 exploreP:0.6618\n",
      "Episode:184 meanR:20.6200 R:26.0 gloss:10.9158 dloss:13.5823 exploreP:0.6602\n",
      "Episode:185 meanR:20.6000 R:21.0 gloss:10.9831 dloss:13.7184 exploreP:0.6588\n",
      "Episode:186 meanR:20.5500 R:13.0 gloss:10.9938 dloss:13.9752 exploreP:0.6579\n",
      "Episode:187 meanR:20.3800 R:15.0 gloss:10.8393 dloss:13.7385 exploreP:0.6570\n",
      "Episode:188 meanR:20.4500 R:17.0 gloss:10.6556 dloss:13.2965 exploreP:0.6559\n",
      "Episode:189 meanR:20.5000 R:17.0 gloss:10.6585 dloss:13.4082 exploreP:0.6548\n",
      "Episode:190 meanR:20.3800 R:13.0 gloss:10.6572 dloss:13.4228 exploreP:0.6539\n",
      "Episode:191 meanR:20.5100 R:23.0 gloss:10.5845 dloss:13.2645 exploreP:0.6525\n",
      "Episode:192 meanR:20.5400 R:28.0 gloss:10.6136 dloss:13.3137 exploreP:0.6507\n",
      "Episode:193 meanR:20.5500 R:13.0 gloss:10.6423 dloss:13.5144 exploreP:0.6498\n",
      "Episode:194 meanR:20.5300 R:17.0 gloss:10.5659 dloss:13.3180 exploreP:0.6487\n",
      "Episode:195 meanR:20.7400 R:35.0 gloss:10.5701 dloss:13.4129 exploreP:0.6465\n",
      "Episode:196 meanR:20.7100 R:11.0 gloss:10.5191 dloss:13.5297 exploreP:0.6458\n",
      "Episode:197 meanR:20.8400 R:39.0 gloss:10.3472 dloss:13.0123 exploreP:0.6433\n",
      "Episode:198 meanR:20.4100 R:14.0 gloss:10.4942 dloss:13.4490 exploreP:0.6425\n",
      "Episode:199 meanR:20.8400 R:65.0 gloss:10.3862 dloss:13.1111 exploreP:0.6384\n",
      "Episode:200 meanR:20.8700 R:14.0 gloss:10.6479 dloss:13.6832 exploreP:0.6375\n",
      "Episode:201 meanR:21.1800 R:43.0 gloss:10.6402 dloss:13.5655 exploreP:0.6348\n",
      "Episode:202 meanR:21.1100 R:16.0 gloss:10.7793 dloss:13.9946 exploreP:0.6338\n",
      "Episode:203 meanR:21.1900 R:27.0 gloss:10.5840 dloss:13.4661 exploreP:0.6321\n",
      "Episode:204 meanR:21.2200 R:17.0 gloss:10.6817 dloss:13.7330 exploreP:0.6310\n",
      "Episode:205 meanR:21.1700 R:14.0 gloss:10.6771 dloss:13.8940 exploreP:0.6302\n",
      "Episode:206 meanR:21.1900 R:25.0 gloss:10.4504 dloss:13.5135 exploreP:0.6286\n",
      "Episode:207 meanR:21.1100 R:12.0 gloss:10.4157 dloss:13.4271 exploreP:0.6279\n",
      "Episode:208 meanR:21.0900 R:20.0 gloss:10.4227 dloss:13.5518 exploreP:0.6267\n",
      "Episode:209 meanR:21.3300 R:36.0 gloss:10.3758 dloss:13.4183 exploreP:0.6244\n",
      "Episode:210 meanR:21.2500 R:16.0 gloss:10.5071 dloss:13.6434 exploreP:0.6235\n",
      "Episode:211 meanR:21.3200 R:23.0 gloss:10.5059 dloss:13.6865 exploreP:0.6220\n",
      "Episode:212 meanR:21.4100 R:24.0 gloss:10.5336 dloss:13.7734 exploreP:0.6206\n",
      "Episode:213 meanR:21.5100 R:30.0 gloss:10.5275 dloss:13.7513 exploreP:0.6187\n",
      "Episode:214 meanR:21.0800 R:15.0 gloss:10.5671 dloss:13.8433 exploreP:0.6178\n",
      "Episode:215 meanR:21.0100 R:12.0 gloss:10.5945 dloss:14.0005 exploreP:0.6171\n"
     ]
    },
    {
     "name": "stdout",
     "output_type": "stream",
     "text": [
      "Episode:216 meanR:21.2600 R:44.0 gloss:10.6012 dloss:13.8935 exploreP:0.6144\n",
      "Episode:217 meanR:21.2400 R:13.0 gloss:10.7112 dloss:14.1547 exploreP:0.6137\n",
      "Episode:218 meanR:21.2000 R:9.0 gloss:10.7099 dloss:14.2473 exploreP:0.6131\n",
      "Episode:219 meanR:21.3100 R:27.0 gloss:10.5986 dloss:14.1003 exploreP:0.6115\n",
      "Episode:220 meanR:21.2500 R:13.0 gloss:10.4463 dloss:14.0754 exploreP:0.6107\n",
      "Episode:221 meanR:21.2500 R:18.0 gloss:10.2974 dloss:13.7140 exploreP:0.6096\n",
      "Episode:222 meanR:21.2100 R:13.0 gloss:10.2407 dloss:13.6147 exploreP:0.6088\n",
      "Episode:223 meanR:21.0600 R:11.0 gloss:10.2193 dloss:13.8577 exploreP:0.6082\n",
      "Episode:224 meanR:21.0500 R:13.0 gloss:10.1104 dloss:13.6401 exploreP:0.6074\n",
      "Episode:225 meanR:20.9200 R:19.0 gloss:10.0594 dloss:13.4247 exploreP:0.6063\n",
      "Episode:226 meanR:21.0000 R:18.0 gloss:10.0431 dloss:13.4911 exploreP:0.6052\n",
      "Episode:227 meanR:21.0400 R:20.0 gloss:10.1277 dloss:13.4572 exploreP:0.6040\n",
      "Episode:228 meanR:21.0100 R:18.0 gloss:10.1188 dloss:13.5535 exploreP:0.6029\n",
      "Episode:229 meanR:20.6900 R:12.0 gloss:10.0674 dloss:13.5063 exploreP:0.6022\n",
      "Episode:230 meanR:20.5500 R:15.0 gloss:10.0696 dloss:13.4190 exploreP:0.6013\n",
      "Episode:231 meanR:20.5500 R:19.0 gloss:10.1178 dloss:13.4582 exploreP:0.6002\n",
      "Episode:232 meanR:20.6100 R:17.0 gloss:10.1287 dloss:13.4006 exploreP:0.5992\n",
      "Episode:233 meanR:20.6300 R:19.0 gloss:10.0949 dloss:13.5249 exploreP:0.5981\n",
      "Episode:234 meanR:20.7000 R:22.0 gloss:10.0385 dloss:13.3411 exploreP:0.5968\n",
      "Episode:235 meanR:20.7000 R:15.0 gloss:10.0282 dloss:13.3537 exploreP:0.5959\n",
      "Episode:236 meanR:20.6800 R:14.0 gloss:10.0288 dloss:13.4637 exploreP:0.5951\n",
      "Episode:237 meanR:20.6200 R:11.0 gloss:10.0372 dloss:13.5629 exploreP:0.5945\n",
      "Episode:238 meanR:20.4800 R:29.0 gloss:9.9838 dloss:13.2763 exploreP:0.5928\n",
      "Episode:239 meanR:20.4500 R:11.0 gloss:10.0761 dloss:13.4986 exploreP:0.5921\n",
      "Episode:240 meanR:20.3500 R:12.0 gloss:10.0735 dloss:13.7623 exploreP:0.5914\n",
      "Episode:241 meanR:20.2500 R:12.0 gloss:9.8880 dloss:13.4159 exploreP:0.5907\n",
      "Episode:242 meanR:20.3000 R:18.0 gloss:9.7452 dloss:13.2815 exploreP:0.5897\n",
      "Episode:243 meanR:20.1500 R:10.0 gloss:9.6563 dloss:13.1072 exploreP:0.5891\n",
      "Episode:244 meanR:20.3200 R:37.0 gloss:9.7012 dloss:13.1010 exploreP:0.5870\n",
      "Episode:245 meanR:20.4300 R:21.0 gloss:9.7541 dloss:13.4143 exploreP:0.5858\n",
      "Episode:246 meanR:19.9500 R:14.0 gloss:9.6671 dloss:13.0815 exploreP:0.5850\n",
      "Episode:247 meanR:20.1100 R:34.0 gloss:9.6530 dloss:13.2341 exploreP:0.5830\n",
      "Episode:248 meanR:19.8500 R:17.0 gloss:9.6426 dloss:13.1157 exploreP:0.5820\n",
      "Episode:249 meanR:20.0600 R:36.0 gloss:9.6608 dloss:13.2257 exploreP:0.5800\n",
      "Episode:250 meanR:20.1600 R:26.0 gloss:9.5607 dloss:13.0728 exploreP:0.5785\n",
      "Episode:251 meanR:20.0700 R:10.0 gloss:9.5091 dloss:12.9212 exploreP:0.5779\n",
      "Episode:252 meanR:20.2000 R:24.0 gloss:9.5304 dloss:12.9318 exploreP:0.5766\n",
      "Episode:253 meanR:20.1700 R:17.0 gloss:9.4781 dloss:13.0045 exploreP:0.5756\n",
      "Episode:254 meanR:19.9800 R:22.0 gloss:9.3676 dloss:12.6211 exploreP:0.5744\n",
      "Episode:255 meanR:20.0600 R:18.0 gloss:9.4430 dloss:12.8352 exploreP:0.5734\n",
      "Episode:256 meanR:20.1300 R:29.0 gloss:9.3385 dloss:12.6663 exploreP:0.5717\n",
      "Episode:257 meanR:20.2600 R:47.0 gloss:9.5411 dloss:12.8979 exploreP:0.5691\n",
      "Episode:258 meanR:20.3000 R:19.0 gloss:9.7468 dloss:13.2259 exploreP:0.5680\n",
      "Episode:259 meanR:20.2700 R:16.0 gloss:9.6794 dloss:13.1741 exploreP:0.5671\n",
      "Episode:260 meanR:20.1700 R:15.0 gloss:9.5615 dloss:13.2038 exploreP:0.5663\n",
      "Episode:261 meanR:20.2800 R:28.0 gloss:9.4383 dloss:12.7946 exploreP:0.5647\n",
      "Episode:262 meanR:20.2800 R:14.0 gloss:9.5850 dloss:13.2017 exploreP:0.5640\n",
      "Episode:263 meanR:20.4600 R:33.0 gloss:9.5233 dloss:12.8941 exploreP:0.5621\n",
      "Episode:264 meanR:20.4900 R:18.0 gloss:9.5877 dloss:13.1597 exploreP:0.5611\n",
      "Episode:265 meanR:20.4600 R:20.0 gloss:9.4212 dloss:12.8813 exploreP:0.5600\n",
      "Episode:266 meanR:20.3800 R:15.0 gloss:9.4162 dloss:12.8781 exploreP:0.5592\n",
      "Episode:267 meanR:20.3700 R:11.0 gloss:9.4233 dloss:13.0938 exploreP:0.5586\n",
      "Episode:268 meanR:20.3500 R:14.0 gloss:9.3499 dloss:13.0979 exploreP:0.5579\n",
      "Episode:269 meanR:20.3900 R:14.0 gloss:9.1912 dloss:12.7651 exploreP:0.5571\n",
      "Episode:270 meanR:20.2500 R:15.0 gloss:9.0667 dloss:12.4558 exploreP:0.5563\n",
      "Episode:271 meanR:20.2700 R:19.0 gloss:9.1596 dloss:12.5089 exploreP:0.5552\n",
      "Episode:272 meanR:20.3600 R:23.0 gloss:9.2140 dloss:12.7462 exploreP:0.5540\n",
      "Episode:273 meanR:19.9700 R:11.0 gloss:9.1690 dloss:12.6317 exploreP:0.5534\n",
      "Episode:274 meanR:20.0000 R:19.0 gloss:9.1610 dloss:12.6600 exploreP:0.5523\n",
      "Episode:275 meanR:19.9100 R:14.0 gloss:9.1769 dloss:12.6328 exploreP:0.5516\n",
      "Episode:276 meanR:19.8800 R:12.0 gloss:9.1773 dloss:12.6780 exploreP:0.5509\n",
      "Episode:277 meanR:19.7900 R:15.0 gloss:9.1585 dloss:12.7072 exploreP:0.5501\n",
      "Episode:278 meanR:19.8700 R:17.0 gloss:9.1789 dloss:12.7089 exploreP:0.5492\n",
      "Episode:279 meanR:19.7700 R:15.0 gloss:9.1859 dloss:12.6825 exploreP:0.5484\n",
      "Episode:280 meanR:19.9500 R:36.0 gloss:9.1619 dloss:12.6262 exploreP:0.5465\n",
      "Episode:281 meanR:20.1400 R:31.0 gloss:9.3710 dloss:12.8230 exploreP:0.5448\n",
      "Episode:282 meanR:20.1700 R:24.0 gloss:9.4861 dloss:13.0602 exploreP:0.5435\n",
      "Episode:283 meanR:20.1500 R:12.0 gloss:9.4846 dloss:13.1108 exploreP:0.5429\n",
      "Episode:284 meanR:20.1200 R:23.0 gloss:9.4358 dloss:12.9984 exploreP:0.5417\n",
      "Episode:285 meanR:20.2200 R:31.0 gloss:9.4316 dloss:13.0219 exploreP:0.5400\n",
      "Episode:286 meanR:20.3200 R:23.0 gloss:9.6035 dloss:13.2101 exploreP:0.5388\n",
      "Episode:287 meanR:20.3600 R:19.0 gloss:9.6950 dloss:13.4324 exploreP:0.5378\n",
      "Episode:288 meanR:20.3700 R:18.0 gloss:9.6113 dloss:13.2971 exploreP:0.5368\n",
      "Episode:289 meanR:20.3500 R:15.0 gloss:9.6154 dloss:13.1898 exploreP:0.5361\n",
      "Episode:290 meanR:20.3800 R:16.0 gloss:9.7070 dloss:13.3746 exploreP:0.5352\n",
      "Episode:291 meanR:20.3300 R:18.0 gloss:9.6916 dloss:13.4536 exploreP:0.5343\n",
      "Episode:292 meanR:20.2900 R:24.0 gloss:9.7402 dloss:13.4459 exploreP:0.5330\n",
      "Episode:293 meanR:20.4000 R:24.0 gloss:9.7319 dloss:13.4905 exploreP:0.5318\n",
      "Episode:294 meanR:20.4300 R:20.0 gloss:9.6794 dloss:13.3937 exploreP:0.5307\n",
      "Episode:295 meanR:20.4500 R:37.0 gloss:9.7836 dloss:13.4908 exploreP:0.5288\n",
      "Episode:296 meanR:20.5300 R:19.0 gloss:9.7932 dloss:13.5139 exploreP:0.5278\n",
      "Episode:297 meanR:20.2500 R:11.0 gloss:9.7617 dloss:13.4905 exploreP:0.5272\n",
      "Episode:298 meanR:20.3100 R:20.0 gloss:9.7570 dloss:13.5267 exploreP:0.5262\n",
      "Episode:299 meanR:19.8000 R:14.0 gloss:9.6129 dloss:13.2755 exploreP:0.5255\n",
      "Episode:300 meanR:19.7800 R:12.0 gloss:9.5543 dloss:13.2532 exploreP:0.5249\n",
      "Episode:301 meanR:19.4500 R:10.0 gloss:9.4591 dloss:13.2610 exploreP:0.5244\n",
      "Episode:302 meanR:19.5500 R:26.0 gloss:9.3976 dloss:12.9194 exploreP:0.5230\n",
      "Episode:303 meanR:19.3800 R:10.0 gloss:9.4635 dloss:13.3204 exploreP:0.5225\n",
      "Episode:304 meanR:19.3600 R:15.0 gloss:9.3532 dloss:13.0664 exploreP:0.5217\n",
      "Episode:305 meanR:19.3900 R:17.0 gloss:9.2183 dloss:12.9323 exploreP:0.5209\n",
      "Episode:306 meanR:19.3100 R:17.0 gloss:9.1623 dloss:12.9288 exploreP:0.5200\n",
      "Episode:307 meanR:19.4000 R:21.0 gloss:9.1277 dloss:12.9041 exploreP:0.5189\n",
      "Episode:308 meanR:19.3200 R:12.0 gloss:9.1641 dloss:13.0808 exploreP:0.5183\n",
      "Episode:309 meanR:19.1900 R:23.0 gloss:9.0152 dloss:12.7086 exploreP:0.5171\n",
      "Episode:310 meanR:19.2300 R:20.0 gloss:8.9792 dloss:12.7592 exploreP:0.5161\n",
      "Episode:311 meanR:19.1200 R:12.0 gloss:8.8017 dloss:12.4822 exploreP:0.5155\n",
      "Episode:312 meanR:19.0100 R:13.0 gloss:8.7400 dloss:12.5223 exploreP:0.5149\n",
      "Episode:313 meanR:18.8300 R:12.0 gloss:8.7060 dloss:12.4465 exploreP:0.5143\n",
      "Episode:314 meanR:18.8500 R:17.0 gloss:8.6667 dloss:12.3666 exploreP:0.5134\n",
      "Episode:315 meanR:19.0000 R:27.0 gloss:8.6723 dloss:12.4306 exploreP:0.5121\n",
      "Episode:316 meanR:18.7400 R:18.0 gloss:8.6467 dloss:12.3679 exploreP:0.5111\n",
      "Episode:317 meanR:18.7800 R:17.0 gloss:8.6287 dloss:12.5043 exploreP:0.5103\n",
      "Episode:318 meanR:18.8300 R:14.0 gloss:8.5341 dloss:12.4531 exploreP:0.5096\n",
      "Episode:319 meanR:18.7500 R:19.0 gloss:8.4468 dloss:12.1514 exploreP:0.5087\n",
      "Episode:320 meanR:18.7100 R:9.0 gloss:8.5082 dloss:12.3264 exploreP:0.5082\n",
      "Episode:321 meanR:18.6800 R:15.0 gloss:8.4687 dloss:12.2467 exploreP:0.5075\n",
      "Episode:322 meanR:18.8700 R:32.0 gloss:8.4629 dloss:12.1242 exploreP:0.5059\n",
      "Episode:323 meanR:18.9500 R:19.0 gloss:8.5998 dloss:12.4732 exploreP:0.5049\n"
     ]
    },
    {
     "name": "stdout",
     "output_type": "stream",
     "text": [
      "Episode:324 meanR:19.0000 R:18.0 gloss:8.5882 dloss:12.4234 exploreP:0.5040\n",
      "Episode:325 meanR:18.9400 R:13.0 gloss:8.6113 dloss:12.5891 exploreP:0.5034\n",
      "Episode:326 meanR:18.9300 R:17.0 gloss:8.5228 dloss:12.3996 exploreP:0.5026\n",
      "Episode:327 meanR:18.9000 R:17.0 gloss:8.4864 dloss:12.3412 exploreP:0.5017\n",
      "Episode:328 meanR:18.9000 R:18.0 gloss:8.5536 dloss:12.4110 exploreP:0.5008\n",
      "Episode:329 meanR:19.0000 R:22.0 gloss:8.5479 dloss:12.3668 exploreP:0.4998\n",
      "Episode:330 meanR:19.0800 R:23.0 gloss:8.6460 dloss:12.5370 exploreP:0.4986\n",
      "Episode:331 meanR:19.1800 R:29.0 gloss:8.6928 dloss:12.6438 exploreP:0.4972\n",
      "Episode:332 meanR:19.1700 R:16.0 gloss:8.8287 dloss:12.8509 exploreP:0.4964\n",
      "Episode:333 meanR:19.3100 R:33.0 gloss:8.6522 dloss:12.6131 exploreP:0.4948\n",
      "Episode:334 meanR:19.3400 R:25.0 gloss:8.6446 dloss:12.7246 exploreP:0.4936\n",
      "Episode:335 meanR:19.6400 R:45.0 gloss:8.7551 dloss:12.7011 exploreP:0.4915\n",
      "Episode:336 meanR:19.6200 R:12.0 gloss:8.9186 dloss:13.1051 exploreP:0.4909\n",
      "Episode:337 meanR:19.6400 R:13.0 gloss:8.7870 dloss:12.8260 exploreP:0.4902\n",
      "Episode:338 meanR:19.5600 R:21.0 gloss:8.7020 dloss:12.6143 exploreP:0.4892\n",
      "Episode:339 meanR:19.6000 R:15.0 gloss:8.7026 dloss:12.7691 exploreP:0.4885\n",
      "Episode:340 meanR:19.7400 R:26.0 gloss:8.6324 dloss:12.5244 exploreP:0.4873\n",
      "Episode:341 meanR:19.7700 R:15.0 gloss:8.7055 dloss:12.7653 exploreP:0.4866\n",
      "Episode:342 meanR:19.6800 R:9.0 gloss:8.6752 dloss:12.7251 exploreP:0.4861\n",
      "Episode:343 meanR:19.8000 R:22.0 gloss:8.6300 dloss:12.5047 exploreP:0.4851\n",
      "Episode:344 meanR:19.6300 R:20.0 gloss:8.6519 dloss:12.6713 exploreP:0.4841\n",
      "Episode:345 meanR:19.5500 R:13.0 gloss:8.6398 dloss:12.7507 exploreP:0.4835\n",
      "Episode:346 meanR:19.6700 R:26.0 gloss:8.5830 dloss:12.5147 exploreP:0.4823\n",
      "Episode:347 meanR:19.5300 R:20.0 gloss:8.5861 dloss:12.6044 exploreP:0.4814\n",
      "Episode:348 meanR:19.5000 R:14.0 gloss:8.5308 dloss:12.5626 exploreP:0.4807\n",
      "Episode:349 meanR:19.4300 R:29.0 gloss:8.4315 dloss:12.4613 exploreP:0.4793\n",
      "Episode:350 meanR:19.3100 R:14.0 gloss:8.4502 dloss:12.5134 exploreP:0.4787\n",
      "Episode:351 meanR:19.4500 R:24.0 gloss:8.3505 dloss:12.3569 exploreP:0.4775\n",
      "Episode:352 meanR:19.4400 R:23.0 gloss:8.4211 dloss:12.5863 exploreP:0.4765\n",
      "Episode:353 meanR:19.6900 R:42.0 gloss:8.6784 dloss:12.7442 exploreP:0.4745\n",
      "Episode:354 meanR:19.5800 R:11.0 gloss:8.7707 dloss:13.0732 exploreP:0.4740\n",
      "Episode:355 meanR:19.7200 R:32.0 gloss:8.7055 dloss:12.8515 exploreP:0.4725\n",
      "Episode:356 meanR:19.6400 R:21.0 gloss:8.8073 dloss:13.1768 exploreP:0.4716\n",
      "Episode:357 meanR:19.3200 R:15.0 gloss:8.7991 dloss:13.1350 exploreP:0.4709\n",
      "Episode:358 meanR:19.2800 R:15.0 gloss:8.7417 dloss:13.1201 exploreP:0.4702\n",
      "Episode:359 meanR:19.6000 R:48.0 gloss:8.7951 dloss:13.1721 exploreP:0.4680\n",
      "Episode:360 meanR:19.7000 R:25.0 gloss:9.0953 dloss:13.3918 exploreP:0.4668\n",
      "Episode:361 meanR:19.6600 R:24.0 gloss:9.2557 dloss:13.5920 exploreP:0.4657\n",
      "Episode:362 meanR:19.6200 R:10.0 gloss:9.3258 dloss:13.8104 exploreP:0.4653\n",
      "Episode:363 meanR:19.6600 R:37.0 gloss:9.2472 dloss:13.5542 exploreP:0.4636\n",
      "Episode:364 meanR:19.6800 R:20.0 gloss:9.4548 dloss:13.7894 exploreP:0.4627\n",
      "Episode:365 meanR:19.6700 R:19.0 gloss:9.4788 dloss:13.6609 exploreP:0.4618\n",
      "Episode:366 meanR:19.6100 R:9.0 gloss:9.5045 dloss:13.9821 exploreP:0.4614\n",
      "Episode:367 meanR:19.6800 R:18.0 gloss:9.4053 dloss:13.6197 exploreP:0.4606\n",
      "Episode:368 meanR:19.6600 R:12.0 gloss:9.4580 dloss:13.8075 exploreP:0.4601\n",
      "Episode:369 meanR:19.7200 R:20.0 gloss:9.4627 dloss:13.8214 exploreP:0.4592\n",
      "Episode:370 meanR:19.6800 R:11.0 gloss:9.3047 dloss:13.7711 exploreP:0.4587\n",
      "Episode:371 meanR:19.6600 R:17.0 gloss:9.1978 dloss:13.4523 exploreP:0.4579\n",
      "Episode:372 meanR:19.5900 R:16.0 gloss:9.1877 dloss:13.5054 exploreP:0.4572\n",
      "Episode:373 meanR:19.7400 R:26.0 gloss:9.1330 dloss:13.4424 exploreP:0.4560\n",
      "Episode:374 meanR:19.7800 R:23.0 gloss:9.1900 dloss:13.7124 exploreP:0.4550\n",
      "Episode:375 meanR:19.7600 R:12.0 gloss:9.1102 dloss:13.7181 exploreP:0.4545\n",
      "Episode:376 meanR:19.7800 R:14.0 gloss:9.0331 dloss:13.6677 exploreP:0.4539\n",
      "Episode:377 meanR:19.9300 R:30.0 gloss:8.9817 dloss:13.5284 exploreP:0.4525\n",
      "Episode:378 meanR:20.1200 R:36.0 gloss:9.1040 dloss:13.6863 exploreP:0.4509\n",
      "Episode:379 meanR:20.1400 R:17.0 gloss:9.1333 dloss:13.7039 exploreP:0.4502\n",
      "Episode:380 meanR:19.9300 R:15.0 gloss:9.1273 dloss:13.6706 exploreP:0.4495\n",
      "Episode:381 meanR:20.0000 R:38.0 gloss:9.0496 dloss:13.5696 exploreP:0.4479\n",
      "Episode:382 meanR:19.8800 R:12.0 gloss:9.1494 dloss:13.8131 exploreP:0.4473\n",
      "Episode:383 meanR:19.9300 R:17.0 gloss:8.9206 dloss:13.5764 exploreP:0.4466\n",
      "Episode:384 meanR:20.0400 R:34.0 gloss:8.6823 dloss:13.3149 exploreP:0.4451\n",
      "Episode:385 meanR:19.8500 R:12.0 gloss:8.7967 dloss:13.6587 exploreP:0.4446\n",
      "Episode:386 meanR:19.7200 R:10.0 gloss:8.7594 dloss:13.5624 exploreP:0.4442\n",
      "Episode:387 meanR:19.6200 R:9.0 gloss:8.6493 dloss:13.6001 exploreP:0.4438\n",
      "Episode:388 meanR:19.7300 R:29.0 gloss:8.5600 dloss:13.2182 exploreP:0.4425\n",
      "Episode:389 meanR:19.8900 R:31.0 gloss:8.5603 dloss:13.4212 exploreP:0.4412\n",
      "Episode:390 meanR:19.9400 R:21.0 gloss:8.6509 dloss:13.6090 exploreP:0.4403\n",
      "Episode:391 meanR:19.9100 R:15.0 gloss:8.6742 dloss:13.7156 exploreP:0.4396\n",
      "Episode:392 meanR:19.8000 R:13.0 gloss:8.6620 dloss:13.6496 exploreP:0.4391\n",
      "Episode:393 meanR:19.7100 R:15.0 gloss:8.5678 dloss:13.4402 exploreP:0.4384\n",
      "Episode:394 meanR:19.7700 R:26.0 gloss:8.6329 dloss:13.5367 exploreP:0.4373\n",
      "Episode:395 meanR:19.5300 R:13.0 gloss:8.7448 dloss:13.5717 exploreP:0.4368\n",
      "Episode:396 meanR:19.4300 R:9.0 gloss:8.7444 dloss:13.5714 exploreP:0.4364\n",
      "Episode:397 meanR:19.4300 R:11.0 gloss:8.6515 dloss:13.3956 exploreP:0.4359\n",
      "Episode:398 meanR:19.4200 R:19.0 gloss:8.6444 dloss:13.3068 exploreP:0.4351\n",
      "Episode:399 meanR:19.4100 R:13.0 gloss:8.5900 dloss:13.3269 exploreP:0.4345\n",
      "Episode:400 meanR:19.4600 R:17.0 gloss:8.6393 dloss:13.0968 exploreP:0.4338\n",
      "Episode:401 meanR:19.5300 R:17.0 gloss:8.7115 dloss:13.3247 exploreP:0.4331\n",
      "Episode:402 meanR:19.4000 R:13.0 gloss:8.6793 dloss:13.0833 exploreP:0.4325\n",
      "Episode:403 meanR:19.4100 R:11.0 gloss:8.6374 dloss:13.1889 exploreP:0.4321\n",
      "Episode:404 meanR:19.5400 R:28.0 gloss:8.6078 dloss:12.9331 exploreP:0.4309\n",
      "Episode:405 meanR:19.5200 R:15.0 gloss:8.6127 dloss:12.9503 exploreP:0.4303\n",
      "Episode:406 meanR:19.6000 R:25.0 gloss:8.6643 dloss:12.7609 exploreP:0.4292\n",
      "Episode:407 meanR:19.5100 R:12.0 gloss:8.7047 dloss:13.1323 exploreP:0.4287\n",
      "Episode:408 meanR:19.5200 R:13.0 gloss:8.5089 dloss:12.6383 exploreP:0.4282\n",
      "Episode:409 meanR:19.5600 R:27.0 gloss:8.5084 dloss:12.6405 exploreP:0.4270\n",
      "Episode:410 meanR:19.6600 R:30.0 gloss:8.5717 dloss:12.8026 exploreP:0.4258\n",
      "Episode:411 meanR:19.7500 R:21.0 gloss:8.5825 dloss:12.9486 exploreP:0.4249\n",
      "Episode:412 meanR:19.7300 R:11.0 gloss:8.4885 dloss:12.7626 exploreP:0.4245\n",
      "Episode:413 meanR:19.9200 R:31.0 gloss:8.4120 dloss:12.5328 exploreP:0.4232\n",
      "Episode:414 meanR:19.9400 R:19.0 gloss:8.4788 dloss:12.7205 exploreP:0.4224\n",
      "Episode:415 meanR:20.1100 R:44.0 gloss:8.5871 dloss:12.6957 exploreP:0.4206\n",
      "Episode:416 meanR:20.0800 R:15.0 gloss:8.5030 dloss:12.6967 exploreP:0.4200\n",
      "Episode:417 meanR:20.0200 R:11.0 gloss:8.3937 dloss:12.7706 exploreP:0.4195\n",
      "Episode:418 meanR:20.0200 R:14.0 gloss:8.2722 dloss:12.6460 exploreP:0.4190\n",
      "Episode:419 meanR:19.9200 R:9.0 gloss:8.2649 dloss:12.5667 exploreP:0.4186\n",
      "Episode:420 meanR:20.1700 R:34.0 gloss:8.2336 dloss:12.5594 exploreP:0.4172\n",
      "Episode:421 meanR:20.1700 R:15.0 gloss:8.3195 dloss:12.9175 exploreP:0.4166\n",
      "Episode:422 meanR:19.9600 R:11.0 gloss:8.2303 dloss:12.7418 exploreP:0.4161\n",
      "Episode:423 meanR:19.8900 R:12.0 gloss:8.2049 dloss:12.6479 exploreP:0.4157\n",
      "Episode:424 meanR:20.1800 R:47.0 gloss:8.3929 dloss:12.8171 exploreP:0.4138\n",
      "Episode:425 meanR:20.1700 R:12.0 gloss:8.4226 dloss:12.9333 exploreP:0.4133\n",
      "Episode:426 meanR:20.1100 R:11.0 gloss:8.3062 dloss:12.9341 exploreP:0.4128\n",
      "Episode:427 meanR:20.2700 R:33.0 gloss:8.2962 dloss:12.7429 exploreP:0.4115\n",
      "Episode:428 meanR:20.2300 R:14.0 gloss:8.4683 dloss:13.1765 exploreP:0.4109\n",
      "Episode:429 meanR:20.0900 R:8.0 gloss:8.3213 dloss:13.0588 exploreP:0.4106\n",
      "Episode:430 meanR:19.9800 R:12.0 gloss:8.1120 dloss:12.6401 exploreP:0.4101\n",
      "Episode:431 meanR:19.8300 R:14.0 gloss:8.0211 dloss:12.6888 exploreP:0.4096\n"
     ]
    },
    {
     "name": "stdout",
     "output_type": "stream",
     "text": [
      "Episode:432 meanR:19.7900 R:12.0 gloss:7.8947 dloss:12.6389 exploreP:0.4091\n",
      "Episode:433 meanR:19.7900 R:33.0 gloss:7.7488 dloss:12.3727 exploreP:0.4078\n",
      "Episode:434 meanR:19.6400 R:10.0 gloss:7.8297 dloss:12.6979 exploreP:0.4074\n",
      "Episode:435 meanR:19.3100 R:12.0 gloss:7.7504 dloss:12.6295 exploreP:0.4069\n",
      "Episode:436 meanR:19.2900 R:10.0 gloss:7.6111 dloss:12.4111 exploreP:0.4065\n",
      "Episode:437 meanR:19.3000 R:14.0 gloss:7.4766 dloss:12.1018 exploreP:0.4060\n",
      "Episode:438 meanR:19.2200 R:13.0 gloss:7.5436 dloss:12.1304 exploreP:0.4054\n",
      "Episode:439 meanR:19.2000 R:13.0 gloss:7.6032 dloss:12.2553 exploreP:0.4049\n",
      "Episode:440 meanR:19.1700 R:23.0 gloss:7.5319 dloss:12.1198 exploreP:0.4040\n",
      "Episode:441 meanR:19.1900 R:17.0 gloss:7.4189 dloss:12.0107 exploreP:0.4034\n",
      "Episode:442 meanR:19.2500 R:15.0 gloss:7.4658 dloss:12.0125 exploreP:0.4028\n",
      "Episode:443 meanR:19.1500 R:12.0 gloss:7.5394 dloss:12.1398 exploreP:0.4023\n",
      "Episode:444 meanR:19.0400 R:9.0 gloss:7.4756 dloss:12.3139 exploreP:0.4019\n",
      "Episode:445 meanR:19.0900 R:18.0 gloss:7.3467 dloss:11.9932 exploreP:0.4012\n",
      "Episode:446 meanR:18.9900 R:16.0 gloss:7.2812 dloss:11.9671 exploreP:0.4006\n",
      "Episode:447 meanR:19.1400 R:35.0 gloss:7.2287 dloss:11.8584 exploreP:0.3992\n",
      "Episode:448 meanR:19.1400 R:14.0 gloss:7.2822 dloss:12.0356 exploreP:0.3987\n",
      "Episode:449 meanR:19.0500 R:20.0 gloss:7.2487 dloss:11.8960 exploreP:0.3979\n",
      "Episode:450 meanR:19.1800 R:27.0 gloss:7.3508 dloss:12.0730 exploreP:0.3969\n",
      "Episode:451 meanR:19.0200 R:8.0 gloss:7.2704 dloss:12.1782 exploreP:0.3966\n",
      "Episode:452 meanR:18.9900 R:20.0 gloss:7.1590 dloss:11.8827 exploreP:0.3958\n",
      "Episode:453 meanR:18.8000 R:23.0 gloss:7.2525 dloss:12.1434 exploreP:0.3949\n",
      "Episode:454 meanR:18.8900 R:20.0 gloss:7.2930 dloss:12.2061 exploreP:0.3941\n",
      "Episode:455 meanR:18.7700 R:20.0 gloss:7.2537 dloss:12.2625 exploreP:0.3934\n",
      "Episode:456 meanR:18.7100 R:15.0 gloss:7.2414 dloss:12.3289 exploreP:0.3928\n",
      "Episode:457 meanR:18.7800 R:22.0 gloss:7.1578 dloss:12.2372 exploreP:0.3920\n",
      "Episode:458 meanR:18.8000 R:17.0 gloss:7.1995 dloss:12.4892 exploreP:0.3913\n",
      "Episode:459 meanR:18.5000 R:18.0 gloss:7.0587 dloss:12.3084 exploreP:0.3906\n",
      "Episode:460 meanR:18.4600 R:21.0 gloss:6.9976 dloss:12.3248 exploreP:0.3898\n",
      "Episode:461 meanR:18.6400 R:42.0 gloss:7.1370 dloss:12.3952 exploreP:0.3882\n",
      "Episode:462 meanR:18.7400 R:20.0 gloss:7.2590 dloss:12.7410 exploreP:0.3875\n",
      "Episode:463 meanR:18.6300 R:26.0 gloss:7.2466 dloss:12.5534 exploreP:0.3865\n",
      "Episode:464 meanR:18.6100 R:18.0 gloss:7.2226 dloss:12.5315 exploreP:0.3858\n",
      "Episode:465 meanR:18.7600 R:34.0 gloss:7.2204 dloss:12.5493 exploreP:0.3845\n",
      "Episode:466 meanR:18.8400 R:17.0 gloss:7.3017 dloss:12.8426 exploreP:0.3839\n",
      "Episode:467 meanR:18.8100 R:15.0 gloss:7.1723 dloss:12.4732 exploreP:0.3833\n",
      "Episode:468 meanR:18.9800 R:29.0 gloss:7.1544 dloss:12.5858 exploreP:0.3823\n",
      "Episode:469 meanR:18.9600 R:18.0 gloss:7.0666 dloss:12.5574 exploreP:0.3816\n",
      "Episode:470 meanR:18.9800 R:13.0 gloss:6.9842 dloss:12.3139 exploreP:0.3811\n",
      "Episode:471 meanR:18.9700 R:16.0 gloss:7.0586 dloss:12.3673 exploreP:0.3805\n",
      "Episode:472 meanR:19.3100 R:50.0 gloss:7.3245 dloss:12.6359 exploreP:0.3787\n",
      "Episode:473 meanR:19.3000 R:25.0 gloss:7.3515 dloss:12.6761 exploreP:0.3778\n",
      "Episode:474 meanR:19.2500 R:18.0 gloss:7.4070 dloss:12.9291 exploreP:0.3771\n",
      "Episode:475 meanR:19.3400 R:21.0 gloss:7.3770 dloss:12.9830 exploreP:0.3763\n",
      "Episode:476 meanR:19.2800 R:8.0 gloss:7.3233 dloss:13.1057 exploreP:0.3760\n",
      "Episode:477 meanR:19.1600 R:18.0 gloss:7.1585 dloss:12.6516 exploreP:0.3754\n",
      "Episode:478 meanR:18.9400 R:14.0 gloss:7.1301 dloss:12.5209 exploreP:0.3749\n",
      "Episode:479 meanR:19.1500 R:38.0 gloss:7.2060 dloss:12.7410 exploreP:0.3735\n",
      "Episode:480 meanR:19.1900 R:19.0 gloss:7.1899 dloss:12.6857 exploreP:0.3728\n",
      "Episode:481 meanR:18.9500 R:14.0 gloss:7.2812 dloss:12.7750 exploreP:0.3723\n",
      "Episode:482 meanR:19.0200 R:19.0 gloss:7.3854 dloss:12.9232 exploreP:0.3716\n",
      "Episode:483 meanR:19.0600 R:21.0 gloss:7.4546 dloss:12.9406 exploreP:0.3708\n",
      "Episode:484 meanR:18.9600 R:24.0 gloss:7.4827 dloss:13.0790 exploreP:0.3700\n",
      "Episode:485 meanR:19.0100 R:17.0 gloss:7.3991 dloss:12.8640 exploreP:0.3694\n",
      "Episode:486 meanR:19.1600 R:25.0 gloss:7.5365 dloss:13.0877 exploreP:0.3685\n",
      "Episode:487 meanR:19.1900 R:12.0 gloss:7.5891 dloss:13.3836 exploreP:0.3680\n",
      "Episode:488 meanR:19.0700 R:17.0 gloss:7.4553 dloss:13.2202 exploreP:0.3674\n",
      "Episode:489 meanR:18.9200 R:16.0 gloss:7.4615 dloss:13.3390 exploreP:0.3668\n",
      "Episode:490 meanR:19.0200 R:31.0 gloss:7.5217 dloss:13.2288 exploreP:0.3657\n",
      "Episode:491 meanR:19.1600 R:29.0 gloss:7.5937 dloss:13.4279 exploreP:0.3647\n",
      "Episode:492 meanR:19.2400 R:21.0 gloss:7.7280 dloss:13.7685 exploreP:0.3640\n",
      "Episode:493 meanR:19.2100 R:12.0 gloss:7.7037 dloss:13.7806 exploreP:0.3635\n",
      "Episode:494 meanR:19.1700 R:22.0 gloss:7.6628 dloss:13.6800 exploreP:0.3628\n",
      "Episode:495 meanR:19.1700 R:13.0 gloss:7.6413 dloss:13.7891 exploreP:0.3623\n",
      "Episode:496 meanR:19.3600 R:28.0 gloss:7.5385 dloss:13.4197 exploreP:0.3613\n",
      "Episode:497 meanR:19.4600 R:21.0 gloss:7.5734 dloss:13.6896 exploreP:0.3606\n",
      "Episode:498 meanR:19.3800 R:11.0 gloss:7.5588 dloss:13.8134 exploreP:0.3602\n",
      "Episode:499 meanR:19.4200 R:17.0 gloss:7.4680 dloss:13.3469 exploreP:0.3596\n",
      "Episode:500 meanR:19.4100 R:16.0 gloss:7.5484 dloss:13.6952 exploreP:0.3590\n",
      "Episode:501 meanR:19.3400 R:10.0 gloss:7.5268 dloss:13.5944 exploreP:0.3587\n",
      "Episode:502 meanR:19.3300 R:12.0 gloss:7.4234 dloss:13.5192 exploreP:0.3583\n",
      "Episode:503 meanR:19.5000 R:28.0 gloss:7.2703 dloss:13.2591 exploreP:0.3573\n",
      "Episode:504 meanR:19.4400 R:22.0 gloss:7.2914 dloss:13.4429 exploreP:0.3565\n",
      "Episode:505 meanR:19.4600 R:17.0 gloss:7.2930 dloss:13.4903 exploreP:0.3560\n",
      "Episode:506 meanR:19.5500 R:34.0 gloss:7.2643 dloss:13.4375 exploreP:0.3548\n",
      "Episode:507 meanR:19.6200 R:19.0 gloss:7.3438 dloss:13.6755 exploreP:0.3541\n",
      "Episode:508 meanR:19.6300 R:14.0 gloss:7.3558 dloss:13.6784 exploreP:0.3536\n",
      "Episode:509 meanR:19.4800 R:12.0 gloss:7.2983 dloss:13.5537 exploreP:0.3532\n",
      "Episode:510 meanR:19.3300 R:15.0 gloss:7.1230 dloss:13.5013 exploreP:0.3527\n",
      "Episode:511 meanR:19.2200 R:10.0 gloss:7.0345 dloss:13.3186 exploreP:0.3524\n",
      "Episode:512 meanR:19.2600 R:15.0 gloss:6.9947 dloss:12.9855 exploreP:0.3519\n",
      "Episode:513 meanR:19.1200 R:17.0 gloss:7.1030 dloss:13.0423 exploreP:0.3513\n",
      "Episode:514 meanR:19.1500 R:22.0 gloss:7.0530 dloss:13.0109 exploreP:0.3505\n",
      "Episode:515 meanR:18.9000 R:19.0 gloss:6.9857 dloss:12.9880 exploreP:0.3499\n",
      "Episode:516 meanR:18.8500 R:10.0 gloss:7.0044 dloss:13.1513 exploreP:0.3495\n",
      "Episode:517 meanR:18.8800 R:14.0 gloss:6.8965 dloss:12.9664 exploreP:0.3491\n",
      "Episode:518 meanR:18.9000 R:16.0 gloss:6.7780 dloss:12.5968 exploreP:0.3485\n",
      "Episode:519 meanR:18.9200 R:11.0 gloss:6.8168 dloss:12.7669 exploreP:0.3482\n",
      "Episode:520 meanR:18.6600 R:8.0 gloss:6.8091 dloss:12.8267 exploreP:0.3479\n",
      "Episode:521 meanR:18.6200 R:11.0 gloss:6.7326 dloss:12.5596 exploreP:0.3475\n",
      "Episode:522 meanR:18.6200 R:11.0 gloss:6.6634 dloss:12.5847 exploreP:0.3471\n",
      "Episode:523 meanR:18.7200 R:22.0 gloss:6.6054 dloss:12.2845 exploreP:0.3464\n",
      "Episode:524 meanR:18.3900 R:14.0 gloss:6.6520 dloss:12.4362 exploreP:0.3459\n",
      "Episode:525 meanR:18.4600 R:19.0 gloss:6.5636 dloss:12.3750 exploreP:0.3453\n",
      "Episode:526 meanR:18.6800 R:33.0 gloss:6.6232 dloss:12.4386 exploreP:0.3442\n",
      "Episode:527 meanR:18.6000 R:25.0 gloss:6.5485 dloss:12.2700 exploreP:0.3434\n",
      "Episode:528 meanR:18.6000 R:14.0 gloss:6.5481 dloss:12.4469 exploreP:0.3429\n",
      "Episode:529 meanR:18.8600 R:34.0 gloss:6.5621 dloss:12.2098 exploreP:0.3418\n",
      "Episode:530 meanR:18.8500 R:11.0 gloss:6.6723 dloss:12.5235 exploreP:0.3414\n",
      "Episode:531 meanR:18.9000 R:19.0 gloss:6.6162 dloss:12.2272 exploreP:0.3408\n",
      "Episode:532 meanR:18.9800 R:20.0 gloss:6.6394 dloss:12.4116 exploreP:0.3401\n",
      "Episode:533 meanR:18.8500 R:20.0 gloss:6.6665 dloss:12.4684 exploreP:0.3394\n",
      "Episode:534 meanR:18.9700 R:22.0 gloss:6.5780 dloss:12.2770 exploreP:0.3387\n",
      "Episode:535 meanR:19.0400 R:19.0 gloss:6.6099 dloss:12.3118 exploreP:0.3381\n",
      "Episode:536 meanR:19.0800 R:14.0 gloss:6.5604 dloss:12.3203 exploreP:0.3376\n",
      "Episode:537 meanR:19.1600 R:22.0 gloss:6.6021 dloss:12.2872 exploreP:0.3369\n",
      "Episode:538 meanR:19.2100 R:18.0 gloss:6.6476 dloss:12.3473 exploreP:0.3363\n",
      "Episode:539 meanR:19.2500 R:17.0 gloss:6.5929 dloss:12.3448 exploreP:0.3358\n"
     ]
    },
    {
     "name": "stdout",
     "output_type": "stream",
     "text": [
      "Episode:540 meanR:19.1400 R:12.0 gloss:6.5714 dloss:12.2111 exploreP:0.3354\n",
      "Episode:541 meanR:19.2300 R:26.0 gloss:6.4754 dloss:12.1993 exploreP:0.3345\n",
      "Episode:542 meanR:19.2500 R:17.0 gloss:6.4172 dloss:12.2232 exploreP:0.3340\n",
      "Episode:543 meanR:19.3300 R:20.0 gloss:6.4596 dloss:12.2280 exploreP:0.3333\n",
      "Episode:544 meanR:19.4000 R:16.0 gloss:6.5191 dloss:12.3056 exploreP:0.3328\n",
      "Episode:545 meanR:19.3600 R:14.0 gloss:6.5684 dloss:12.3181 exploreP:0.3324\n",
      "Episode:546 meanR:19.5100 R:31.0 gloss:6.6065 dloss:12.1423 exploreP:0.3314\n",
      "Episode:547 meanR:19.2600 R:10.0 gloss:6.5943 dloss:12.4508 exploreP:0.3311\n",
      "Episode:548 meanR:19.2400 R:12.0 gloss:6.4533 dloss:12.0015 exploreP:0.3307\n",
      "Episode:549 meanR:19.2200 R:18.0 gloss:6.4450 dloss:11.9424 exploreP:0.3301\n",
      "Episode:550 meanR:19.1200 R:17.0 gloss:6.5615 dloss:12.0354 exploreP:0.3295\n",
      "Episode:551 meanR:19.3700 R:33.0 gloss:6.4961 dloss:12.0240 exploreP:0.3285\n",
      "Episode:552 meanR:19.3200 R:15.0 gloss:6.5615 dloss:12.3579 exploreP:0.3280\n",
      "Episode:553 meanR:19.3200 R:23.0 gloss:6.5221 dloss:11.9872 exploreP:0.3273\n",
      "Episode:554 meanR:19.2300 R:11.0 gloss:6.5473 dloss:12.1443 exploreP:0.3269\n",
      "Episode:555 meanR:19.1400 R:11.0 gloss:6.5137 dloss:12.0659 exploreP:0.3266\n",
      "Episode:556 meanR:19.1400 R:15.0 gloss:6.4520 dloss:11.9998 exploreP:0.3261\n",
      "Episode:557 meanR:19.0800 R:16.0 gloss:6.4541 dloss:11.9915 exploreP:0.3256\n",
      "Episode:558 meanR:19.0400 R:13.0 gloss:6.5176 dloss:12.0542 exploreP:0.3252\n",
      "Episode:559 meanR:19.0600 R:20.0 gloss:6.6113 dloss:12.1029 exploreP:0.3246\n",
      "Episode:560 meanR:18.9700 R:12.0 gloss:6.5996 dloss:12.0874 exploreP:0.3242\n",
      "Episode:561 meanR:18.9000 R:35.0 gloss:6.6811 dloss:11.9456 exploreP:0.3231\n",
      "Episode:562 meanR:19.0100 R:31.0 gloss:6.8052 dloss:12.1115 exploreP:0.3221\n",
      "Episode:563 meanR:18.8500 R:10.0 gloss:6.7996 dloss:12.0868 exploreP:0.3218\n",
      "Episode:564 meanR:18.9000 R:23.0 gloss:6.7167 dloss:11.9327 exploreP:0.3211\n",
      "Episode:565 meanR:18.7400 R:18.0 gloss:6.7458 dloss:12.0740 exploreP:0.3205\n",
      "Episode:566 meanR:18.7000 R:13.0 gloss:6.8467 dloss:12.1677 exploreP:0.3201\n",
      "Episode:567 meanR:18.7500 R:20.0 gloss:6.8330 dloss:12.0442 exploreP:0.3195\n",
      "Episode:568 meanR:18.6100 R:15.0 gloss:6.8025 dloss:12.2609 exploreP:0.3191\n",
      "Episode:569 meanR:18.7100 R:28.0 gloss:6.7662 dloss:12.2059 exploreP:0.3182\n",
      "Episode:570 meanR:18.8200 R:24.0 gloss:6.8390 dloss:12.2388 exploreP:0.3174\n",
      "Episode:571 meanR:18.7900 R:13.0 gloss:6.9269 dloss:12.3137 exploreP:0.3170\n",
      "Episode:572 meanR:18.4000 R:11.0 gloss:6.9822 dloss:12.4187 exploreP:0.3167\n",
      "Episode:573 meanR:18.5600 R:41.0 gloss:7.0900 dloss:12.3708 exploreP:0.3155\n",
      "Episode:574 meanR:18.5500 R:17.0 gloss:7.3648 dloss:12.8156 exploreP:0.3149\n",
      "Episode:575 meanR:18.4800 R:14.0 gloss:7.3348 dloss:12.9072 exploreP:0.3145\n",
      "Episode:576 meanR:18.7300 R:33.0 gloss:7.3494 dloss:12.7608 exploreP:0.3135\n",
      "Episode:577 meanR:18.7700 R:22.0 gloss:7.5530 dloss:12.9650 exploreP:0.3128\n",
      "Episode:578 meanR:18.7600 R:13.0 gloss:7.5183 dloss:12.9954 exploreP:0.3124\n",
      "Episode:579 meanR:18.6800 R:30.0 gloss:7.4582 dloss:12.7069 exploreP:0.3115\n",
      "Episode:580 meanR:18.6900 R:20.0 gloss:7.5051 dloss:12.8286 exploreP:0.3109\n",
      "Episode:581 meanR:18.7200 R:17.0 gloss:7.5078 dloss:12.9617 exploreP:0.3104\n",
      "Episode:582 meanR:18.7100 R:18.0 gloss:7.3470 dloss:12.6062 exploreP:0.3099\n",
      "Episode:583 meanR:18.6400 R:14.0 gloss:7.4644 dloss:12.8154 exploreP:0.3095\n",
      "Episode:584 meanR:18.6900 R:29.0 gloss:7.4250 dloss:12.7310 exploreP:0.3086\n",
      "Episode:585 meanR:18.6200 R:10.0 gloss:7.4765 dloss:13.0600 exploreP:0.3083\n",
      "Episode:586 meanR:18.6000 R:23.0 gloss:7.2944 dloss:12.6371 exploreP:0.3076\n",
      "Episode:587 meanR:18.7600 R:28.0 gloss:7.2747 dloss:12.7256 exploreP:0.3068\n",
      "Episode:588 meanR:18.8600 R:27.0 gloss:7.2922 dloss:12.8758 exploreP:0.3060\n",
      "Episode:589 meanR:18.8300 R:13.0 gloss:7.2427 dloss:12.9827 exploreP:0.3056\n",
      "Episode:590 meanR:18.6400 R:12.0 gloss:7.1826 dloss:12.8826 exploreP:0.3052\n",
      "Episode:591 meanR:18.6500 R:30.0 gloss:7.2598 dloss:12.7757 exploreP:0.3044\n",
      "Episode:592 meanR:18.5500 R:11.0 gloss:7.4026 dloss:13.1905 exploreP:0.3040\n",
      "Episode:593 meanR:18.5800 R:15.0 gloss:7.2904 dloss:12.8963 exploreP:0.3036\n",
      "Episode:594 meanR:18.5700 R:21.0 gloss:7.3545 dloss:12.7360 exploreP:0.3030\n",
      "Episode:595 meanR:18.5400 R:10.0 gloss:7.3682 dloss:13.0633 exploreP:0.3027\n",
      "Episode:596 meanR:18.5000 R:24.0 gloss:7.2187 dloss:12.6734 exploreP:0.3020\n",
      "Episode:597 meanR:18.5100 R:22.0 gloss:7.2329 dloss:12.9025 exploreP:0.3013\n",
      "Episode:598 meanR:18.5700 R:17.0 gloss:7.1148 dloss:12.9622 exploreP:0.3008\n",
      "Episode:599 meanR:18.5000 R:10.0 gloss:7.0718 dloss:12.6606 exploreP:0.3006\n",
      "Episode:600 meanR:18.5500 R:21.0 gloss:7.1650 dloss:12.7238 exploreP:0.2999\n",
      "Episode:601 meanR:18.7400 R:29.0 gloss:7.1900 dloss:12.8995 exploreP:0.2991\n",
      "Episode:602 meanR:18.8400 R:22.0 gloss:7.2790 dloss:13.0475 exploreP:0.2985\n",
      "Episode:603 meanR:18.8900 R:33.0 gloss:7.1741 dloss:12.8706 exploreP:0.2975\n",
      "Episode:604 meanR:18.9700 R:30.0 gloss:7.2153 dloss:13.0283 exploreP:0.2967\n",
      "Episode:605 meanR:18.9900 R:19.0 gloss:7.4292 dloss:13.3398 exploreP:0.2961\n",
      "Episode:606 meanR:18.8500 R:20.0 gloss:7.4181 dloss:13.2901 exploreP:0.2955\n",
      "Episode:607 meanR:18.8400 R:18.0 gloss:7.4941 dloss:13.3438 exploreP:0.2950\n",
      "Episode:608 meanR:19.0100 R:31.0 gloss:7.4293 dloss:13.3976 exploreP:0.2942\n",
      "Episode:609 meanR:19.1500 R:26.0 gloss:7.3586 dloss:13.6661 exploreP:0.2934\n",
      "Episode:610 meanR:19.2700 R:27.0 gloss:7.3175 dloss:13.4913 exploreP:0.2926\n",
      "Episode:611 meanR:19.2900 R:12.0 gloss:7.2464 dloss:13.5236 exploreP:0.2923\n",
      "Episode:612 meanR:19.2700 R:13.0 gloss:7.2262 dloss:13.2938 exploreP:0.2919\n",
      "Episode:613 meanR:19.2400 R:14.0 gloss:7.2966 dloss:13.5694 exploreP:0.2915\n",
      "Episode:614 meanR:19.2200 R:20.0 gloss:7.1979 dloss:13.2429 exploreP:0.2910\n",
      "Episode:615 meanR:19.3500 R:32.0 gloss:7.2289 dloss:13.4201 exploreP:0.2901\n",
      "Episode:616 meanR:19.4700 R:22.0 gloss:7.3133 dloss:13.4902 exploreP:0.2895\n",
      "Episode:617 meanR:19.4200 R:9.0 gloss:7.3844 dloss:13.8294 exploreP:0.2892\n",
      "Episode:618 meanR:19.4600 R:20.0 gloss:7.1986 dloss:13.3671 exploreP:0.2887\n",
      "Episode:619 meanR:19.6300 R:28.0 gloss:7.1579 dloss:13.3977 exploreP:0.2879\n",
      "Episode:620 meanR:19.6900 R:14.0 gloss:7.1768 dloss:13.5447 exploreP:0.2875\n",
      "Episode:621 meanR:19.6900 R:11.0 gloss:7.1117 dloss:13.6234 exploreP:0.2872\n",
      "Episode:622 meanR:19.7900 R:21.0 gloss:6.9476 dloss:13.4132 exploreP:0.2866\n",
      "Episode:623 meanR:19.7200 R:15.0 gloss:6.8661 dloss:13.2022 exploreP:0.2862\n",
      "Episode:624 meanR:19.8600 R:28.0 gloss:6.8107 dloss:13.2110 exploreP:0.2854\n",
      "Episode:625 meanR:19.9500 R:28.0 gloss:6.8411 dloss:13.4236 exploreP:0.2847\n",
      "Episode:626 meanR:19.8700 R:25.0 gloss:6.7404 dloss:13.2949 exploreP:0.2840\n",
      "Episode:627 meanR:19.8000 R:18.0 gloss:6.6908 dloss:13.3455 exploreP:0.2835\n",
      "Episode:628 meanR:19.7700 R:11.0 gloss:6.7734 dloss:13.6029 exploreP:0.2832\n",
      "Episode:629 meanR:19.7800 R:35.0 gloss:6.6818 dloss:13.2122 exploreP:0.2822\n",
      "Episode:630 meanR:19.8800 R:21.0 gloss:6.8064 dloss:13.3884 exploreP:0.2816\n",
      "Episode:631 meanR:20.0000 R:31.0 gloss:6.8171 dloss:13.4173 exploreP:0.2808\n",
      "Episode:632 meanR:20.0300 R:23.0 gloss:6.9278 dloss:13.6741 exploreP:0.2802\n",
      "Episode:633 meanR:20.0700 R:24.0 gloss:7.0016 dloss:13.5099 exploreP:0.2795\n",
      "Episode:634 meanR:19.9900 R:14.0 gloss:7.1082 dloss:13.7823 exploreP:0.2792\n",
      "Episode:635 meanR:20.0400 R:24.0 gloss:7.1062 dloss:13.5179 exploreP:0.2785\n",
      "Episode:636 meanR:20.0200 R:12.0 gloss:7.1122 dloss:13.5948 exploreP:0.2782\n",
      "Episode:637 meanR:20.0600 R:26.0 gloss:6.9829 dloss:13.3525 exploreP:0.2775\n",
      "Episode:638 meanR:19.9800 R:10.0 gloss:7.0566 dloss:13.5862 exploreP:0.2772\n",
      "Episode:639 meanR:20.1100 R:30.0 gloss:7.1282 dloss:13.5093 exploreP:0.2764\n",
      "Episode:640 meanR:20.2000 R:21.0 gloss:7.1079 dloss:13.4360 exploreP:0.2759\n",
      "Episode:641 meanR:20.0600 R:12.0 gloss:7.0558 dloss:13.7454 exploreP:0.2756\n",
      "Episode:642 meanR:20.0900 R:20.0 gloss:6.8561 dloss:13.5551 exploreP:0.2750\n",
      "Episode:643 meanR:20.0400 R:15.0 gloss:6.8657 dloss:13.5472 exploreP:0.2746\n",
      "Episode:644 meanR:20.0100 R:13.0 gloss:6.9040 dloss:13.8183 exploreP:0.2743\n",
      "Episode:645 meanR:20.0100 R:14.0 gloss:6.8937 dloss:13.3960 exploreP:0.2739\n",
      "Episode:646 meanR:19.8100 R:11.0 gloss:6.8870 dloss:13.5326 exploreP:0.2736\n",
      "Episode:647 meanR:20.0500 R:34.0 gloss:6.8508 dloss:13.3120 exploreP:0.2727\n"
     ]
    },
    {
     "name": "stdout",
     "output_type": "stream",
     "text": [
      "Episode:648 meanR:20.0800 R:15.0 gloss:6.8681 dloss:13.8148 exploreP:0.2723\n",
      "Episode:649 meanR:20.0800 R:18.0 gloss:6.7177 dloss:13.4930 exploreP:0.2719\n",
      "Episode:650 meanR:20.0000 R:9.0 gloss:6.6588 dloss:13.6607 exploreP:0.2716\n",
      "Episode:651 meanR:19.8800 R:21.0 gloss:6.5765 dloss:13.2598 exploreP:0.2711\n",
      "Episode:652 meanR:19.9100 R:18.0 gloss:6.6052 dloss:13.3429 exploreP:0.2706\n",
      "Episode:653 meanR:19.7900 R:11.0 gloss:6.6001 dloss:13.4133 exploreP:0.2703\n",
      "Episode:654 meanR:19.8800 R:20.0 gloss:6.4238 dloss:12.9927 exploreP:0.2698\n",
      "Episode:655 meanR:20.0000 R:23.0 gloss:6.4139 dloss:13.0466 exploreP:0.2692\n",
      "Episode:656 meanR:19.9800 R:13.0 gloss:6.4376 dloss:13.1192 exploreP:0.2689\n",
      "Episode:657 meanR:19.9800 R:16.0 gloss:6.3730 dloss:13.0055 exploreP:0.2685\n",
      "Episode:658 meanR:20.1300 R:28.0 gloss:6.2791 dloss:12.9066 exploreP:0.2677\n",
      "Episode:659 meanR:20.0500 R:12.0 gloss:6.3856 dloss:13.2528 exploreP:0.2674\n",
      "Episode:660 meanR:20.0200 R:9.0 gloss:6.2632 dloss:13.0557 exploreP:0.2672\n",
      "Episode:661 meanR:19.9300 R:26.0 gloss:6.1567 dloss:12.6935 exploreP:0.2665\n",
      "Episode:662 meanR:19.8000 R:18.0 gloss:6.1251 dloss:12.7796 exploreP:0.2661\n",
      "Episode:663 meanR:20.0900 R:39.0 gloss:6.2662 dloss:12.7373 exploreP:0.2651\n",
      "Episode:664 meanR:20.0500 R:19.0 gloss:6.4413 dloss:13.0408 exploreP:0.2646\n",
      "Episode:665 meanR:20.0100 R:14.0 gloss:6.4565 dloss:13.1339 exploreP:0.2642\n",
      "Episode:666 meanR:19.9900 R:11.0 gloss:6.3665 dloss:12.9916 exploreP:0.2639\n",
      "Episode:667 meanR:20.0300 R:24.0 gloss:6.3675 dloss:12.7929 exploreP:0.2633\n",
      "Episode:668 meanR:20.0000 R:12.0 gloss:6.3600 dloss:12.9369 exploreP:0.2630\n",
      "Episode:669 meanR:19.9000 R:18.0 gloss:6.2254 dloss:12.6421 exploreP:0.2626\n",
      "Episode:670 meanR:19.7900 R:13.0 gloss:6.2545 dloss:12.9548 exploreP:0.2622\n",
      "Episode:671 meanR:20.0100 R:35.0 gloss:6.3373 dloss:12.7420 exploreP:0.2614\n",
      "Episode:672 meanR:20.0600 R:16.0 gloss:6.4298 dloss:12.8130 exploreP:0.2610\n",
      "Episode:673 meanR:19.8200 R:17.0 gloss:6.4715 dloss:12.8803 exploreP:0.2605\n",
      "Episode:674 meanR:19.9800 R:33.0 gloss:6.4864 dloss:12.8959 exploreP:0.2597\n",
      "Episode:675 meanR:19.9500 R:11.0 gloss:6.7089 dloss:13.2936 exploreP:0.2594\n",
      "Episode:676 meanR:19.9500 R:33.0 gloss:6.5780 dloss:12.8893 exploreP:0.2586\n",
      "Episode:677 meanR:19.9800 R:25.0 gloss:6.5678 dloss:12.9116 exploreP:0.2580\n",
      "Episode:678 meanR:19.9900 R:14.0 gloss:6.5032 dloss:12.9426 exploreP:0.2576\n",
      "Episode:679 meanR:19.9000 R:21.0 gloss:6.4516 dloss:12.8223 exploreP:0.2571\n",
      "Episode:680 meanR:19.8200 R:12.0 gloss:6.5239 dloss:13.1255 exploreP:0.2568\n",
      "Episode:681 meanR:19.8600 R:21.0 gloss:6.3849 dloss:12.8224 exploreP:0.2563\n",
      "Episode:682 meanR:19.8700 R:19.0 gloss:6.3124 dloss:12.8002 exploreP:0.2558\n",
      "Episode:683 meanR:19.8400 R:11.0 gloss:6.2263 dloss:12.7347 exploreP:0.2556\n",
      "Episode:684 meanR:19.7000 R:15.0 gloss:6.1965 dloss:12.7305 exploreP:0.2552\n",
      "Episode:685 meanR:19.8500 R:25.0 gloss:6.0604 dloss:12.5099 exploreP:0.2546\n",
      "Episode:686 meanR:19.8300 R:21.0 gloss:6.0643 dloss:12.5581 exploreP:0.2541\n",
      "Episode:687 meanR:19.6700 R:12.0 gloss:6.0670 dloss:12.5952 exploreP:0.2538\n",
      "Episode:688 meanR:19.5100 R:11.0 gloss:5.9914 dloss:12.4719 exploreP:0.2535\n",
      "Episode:689 meanR:19.5600 R:18.0 gloss:5.9372 dloss:12.4516 exploreP:0.2531\n",
      "Episode:690 meanR:19.6500 R:21.0 gloss:5.9047 dloss:12.3225 exploreP:0.2526\n",
      "Episode:691 meanR:19.4600 R:11.0 gloss:5.9534 dloss:12.6585 exploreP:0.2523\n",
      "Episode:692 meanR:19.4800 R:13.0 gloss:5.8771 dloss:12.3594 exploreP:0.2520\n",
      "Episode:693 meanR:19.5100 R:18.0 gloss:5.8594 dloss:12.2317 exploreP:0.2516\n",
      "Episode:694 meanR:19.5300 R:23.0 gloss:5.8635 dloss:12.3289 exploreP:0.2510\n",
      "Episode:695 meanR:19.6200 R:19.0 gloss:5.8269 dloss:12.3301 exploreP:0.2505\n",
      "Episode:696 meanR:19.4800 R:10.0 gloss:5.7780 dloss:12.2945 exploreP:0.2503\n",
      "Episode:697 meanR:19.4300 R:17.0 gloss:5.7145 dloss:12.2447 exploreP:0.2499\n",
      "Episode:698 meanR:19.5800 R:32.0 gloss:5.7104 dloss:12.2469 exploreP:0.2491\n",
      "Episode:699 meanR:19.7700 R:29.0 gloss:5.7294 dloss:12.4482 exploreP:0.2484\n",
      "Episode:700 meanR:19.7000 R:14.0 gloss:5.8236 dloss:12.8334 exploreP:0.2481\n",
      "Episode:701 meanR:19.5500 R:14.0 gloss:5.9075 dloss:12.5075 exploreP:0.2478\n",
      "Episode:702 meanR:19.6800 R:35.0 gloss:6.0024 dloss:12.4421 exploreP:0.2469\n",
      "Episode:703 meanR:19.5400 R:19.0 gloss:5.9973 dloss:12.5814 exploreP:0.2465\n",
      "Episode:704 meanR:19.3700 R:13.0 gloss:5.9365 dloss:12.8164 exploreP:0.2462\n",
      "Episode:705 meanR:19.3000 R:12.0 gloss:5.8630 dloss:12.6052 exploreP:0.2459\n",
      "Episode:706 meanR:19.3700 R:27.0 gloss:5.8495 dloss:12.5575 exploreP:0.2453\n",
      "Episode:707 meanR:19.3600 R:17.0 gloss:5.9091 dloss:12.7432 exploreP:0.2449\n",
      "Episode:708 meanR:19.2400 R:19.0 gloss:5.8495 dloss:12.6450 exploreP:0.2444\n",
      "Episode:709 meanR:19.1600 R:18.0 gloss:5.8816 dloss:12.6680 exploreP:0.2440\n",
      "Episode:710 meanR:19.0100 R:12.0 gloss:5.9154 dloss:12.7619 exploreP:0.2437\n",
      "Episode:711 meanR:19.1700 R:28.0 gloss:5.8419 dloss:12.5967 exploreP:0.2431\n",
      "Episode:712 meanR:19.3100 R:27.0 gloss:5.9537 dloss:12.7504 exploreP:0.2424\n",
      "Episode:713 meanR:19.3200 R:15.0 gloss:6.0420 dloss:12.9987 exploreP:0.2421\n",
      "Episode:714 meanR:19.2200 R:10.0 gloss:5.9455 dloss:12.7023 exploreP:0.2419\n",
      "Episode:715 meanR:19.0900 R:19.0 gloss:5.8910 dloss:12.6849 exploreP:0.2414\n",
      "Episode:716 meanR:19.1800 R:31.0 gloss:5.9275 dloss:12.6166 exploreP:0.2407\n",
      "Episode:717 meanR:19.3000 R:21.0 gloss:6.0328 dloss:12.6586 exploreP:0.2402\n",
      "Episode:718 meanR:19.2500 R:15.0 gloss:6.0168 dloss:12.6753 exploreP:0.2399\n",
      "Episode:719 meanR:19.1100 R:14.0 gloss:6.0346 dloss:12.7290 exploreP:0.2395\n",
      "Episode:720 meanR:19.2500 R:28.0 gloss:6.0060 dloss:12.6374 exploreP:0.2389\n",
      "Episode:721 meanR:19.4200 R:28.0 gloss:6.1710 dloss:12.8397 exploreP:0.2383\n",
      "Episode:722 meanR:19.3500 R:14.0 gloss:6.2215 dloss:13.0327 exploreP:0.2379\n",
      "Episode:723 meanR:19.3200 R:12.0 gloss:6.0542 dloss:12.9879 exploreP:0.2377\n",
      "Episode:724 meanR:19.2400 R:20.0 gloss:5.9002 dloss:12.5832 exploreP:0.2372\n",
      "Episode:725 meanR:19.0900 R:13.0 gloss:5.8793 dloss:12.7834 exploreP:0.2369\n",
      "Episode:726 meanR:19.0600 R:22.0 gloss:5.7850 dloss:12.6522 exploreP:0.2364\n"
     ]
    }
   ],
   "source": [
    "# Save/load the model and save for plotting\n",
    "saver = tf.train.Saver()\n",
    "episode_rewards_list, rewards_list, gloss_list, dloss_list = [], [], [], []\n",
    "\n",
    "# TF session for training\n",
    "with tf.Session(graph=graph) as sess:\n",
    "    sess.run(tf.global_variables_initializer())\n",
    "    #saver.restore(sess, 'checkpoints/model.ckpt')    \n",
    "    #saver.restore(sess, tf.train.latest_checkpoint('checkpoints'))\n",
    "    total_step = 0 # Explore or exploit parameter\n",
    "    episode_reward = deque(maxlen=100) # 100 episodes average/running average/running mean/window\n",
    "    \n",
    "    # Training episodes/epochs\n",
    "    for ep in range(11111):\n",
    "        total_reward = 0\n",
    "        gloss_batch, dloss_batch = [], []\n",
    "        state = env.reset()\n",
    "\n",
    "        # Training steps/batches\n",
    "        while True:\n",
    "            # Explore (Env) or Exploit (Model)\n",
    "            total_step += 1\n",
    "            explore_p = explore_stop + (explore_start - explore_stop) * np.exp(-decay_rate * total_step) \n",
    "            if explore_p > np.random.rand():\n",
    "                action = env.action_space.sample()\n",
    "            else:\n",
    "                action_logits = sess.run(model.actions_logits, feed_dict={model.states: state.reshape([1, -1])})\n",
    "                action = np.argmax(action_logits)\n",
    "            next_state, reward, done, _ = env.step(action)\n",
    "            memory.buffer.append([state, action, next_state, reward, float(done)])\n",
    "            total_reward += reward\n",
    "            state = next_state\n",
    "\n",
    "            # Training\n",
    "            #batch = memory.sample(batch_size)\n",
    "            batch = memory.buffer\n",
    "            states = np.array([each[0] for each in batch])\n",
    "            actions = np.array([each[1] for each in batch])\n",
    "            next_states = np.array([each[2] for each in batch])\n",
    "            rewards = np.array([each[3] for each in batch])\n",
    "            dones = np.array([each[4] for each in batch])\n",
    "            nextQs_logits = sess.run(model.Qs_logits, feed_dict = {model.states: next_states})\n",
    "            #nextQs = np.max(nextQs_logits, axis=1) * (1-dones)\n",
    "            nextQs = nextQs_logits.reshape([-1]) * (1-dones)\n",
    "            targetQs = rewards + (gamma * nextQs)\n",
    "            gloss, dloss, _, _ = sess.run([model.g_loss, model.d_loss, model.g_opt, model.d_opt],\n",
    "                                            feed_dict = {model.states: states, \n",
    "                                                         model.actions: actions,\n",
    "                                                         model.targetQs: targetQs})\n",
    "            gloss_batch.append(gloss)\n",
    "            dloss_batch.append(dloss)\n",
    "            if done is True:\n",
    "                break\n",
    "                \n",
    "        episode_reward.append(total_reward)\n",
    "        print('Episode:{}'.format(ep),\n",
    "              'meanR:{:.4f}'.format(np.mean(episode_reward)),\n",
    "              'R:{}'.format(total_reward),\n",
    "              'gloss:{:.4f}'.format(np.mean(gloss_batch)),\n",
    "              'dloss:{:.4f}'.format(np.mean(dloss_batch)),\n",
    "              'exploreP:{:.4f}'.format(explore_p))\n",
    "        # Ploting out\n",
    "        episode_rewards_list.append([ep, np.mean(episode_reward)])\n",
    "        rewards_list.append([ep, total_reward])\n",
    "        gloss_list.append([ep, np.mean(gloss_batch)])\n",
    "        dloss_list.append([ep, np.mean(dloss_batch)])\n",
    "        # Break episode/epoch loop\n",
    "        if np.mean(episode_reward) >= 500:\n",
    "            break\n",
    "            \n",
    "    # At the end of all training episodes/epochs\n",
    "    saver.save(sess, 'checkpoints/model.ckpt')"
   ]
  },
  {
   "cell_type": "markdown",
   "metadata": {},
   "source": [
    "# Visualizing training\n",
    "\n",
    "Below I'll plot the total rewards for each episode. I'm plotting the rolling average too, in blue."
   ]
  },
  {
   "cell_type": "code",
   "execution_count": 105,
   "metadata": {},
   "outputs": [],
   "source": [
    "import matplotlib.pyplot as plt\n",
    "%matplotlib inline\n",
    "\n",
    "def running_mean(x, N):\n",
    "    cumsum = np.cumsum(np.insert(x, 0, 0)) \n",
    "    return (cumsum[N:] - cumsum[:-N]) / N "
   ]
  },
  {
   "cell_type": "code",
   "execution_count": 106,
   "metadata": {},
   "outputs": [
    {
     "data": {
      "text/plain": [
       "Text(0,0.5,'Total rewards')"
      ]
     },
     "execution_count": 106,
     "metadata": {},
     "output_type": "execute_result"
    },
    {
     "data": {
      "image/png": "[encoded data removed]",
      "text/plain": [
       "<Figure size 432x288 with 1 Axes>"
      ]
     },
     "metadata": {},
     "output_type": "display_data"
    }
   ],
   "source": [
    "eps, arr = np.array(episode_rewards_list).T\n",
    "smoothed_arr = running_mean(arr, 10)\n",
    "plt.plot(eps[-len(smoothed_arr):], smoothed_arr)\n",
    "plt.plot(eps, arr, color='grey', alpha=0.3)\n",
    "plt.xlabel('Episode')\n",
    "plt.ylabel('Total rewards')"
   ]
  },
  {
   "cell_type": "code",
   "execution_count": 102,
   "metadata": {},
   "outputs": [
    {
     "data": {
      "text/plain": [
       "Text(0,0.5,'Total rewards')"
      ]
     },
     "execution_count": 102,
     "metadata": {},
     "output_type": "execute_result"
    },
    {
     "data": {
      "image/png": "[encoded data removed]",
      "text/plain": [
       "<Figure size 432x288 with 1 Axes>"
      ]
     },
     "metadata": {},
     "output_type": "display_data"
    }
   ],
   "source": [
    "eps, arr = np.array(rewards_list).T\n",
    "smoothed_arr = running_mean(arr, 10)\n",
    "plt.plot(eps[-len(smoothed_arr):], smoothed_arr)\n",
    "plt.plot(eps, arr, color='grey', alpha=0.3)\n",
    "plt.xlabel('Episode')\n",
    "plt.ylabel('Total rewards')"
   ]
  },
  {
   "cell_type": "code",
   "execution_count": 103,
   "metadata": {},
   "outputs": [
    {
     "data": {
      "text/plain": [
       "Text(0,0.5,'G losses')"
      ]
     },
     "execution_count": 103,
     "metadata": {},
     "output_type": "execute_result"
    },
    {
     "data": {
      "image/png": "[encoded data removed]",
      "text/plain": [
       "<Figure size 432x288 with 1 Axes>"
      ]
     },
     "metadata": {},
     "output_type": "display_data"
    }
   ],
   "source": [
    "eps, arr = np.array(gloss_list).T\n",
    "smoothed_arr = running_mean(arr, 10)\n",
    "plt.plot(eps[-len(smoothed_arr):], smoothed_arr)\n",
    "plt.plot(eps, arr, color='grey', alpha=0.3)\n",
    "plt.xlabel('Episode')\n",
    "plt.ylabel('G losses')"
   ]
  },
  {
   "cell_type": "code",
   "execution_count": 104,
   "metadata": {},
   "outputs": [
    {
     "data": {
      "text/plain": [
       "Text(0,0.5,'D losses')"
      ]
     },
     "execution_count": 104,
     "metadata": {},
     "output_type": "execute_result"
    },
    {
     "data": {
      "image/png": "[encoded data removed]",
      "text/plain": [
       "<Figure size 432x288 with 1 Axes>"
      ]
     },
     "metadata": {},
     "output_type": "display_data"
    }
   ],
   "source": [
    "eps, arr = np.array(dloss_list).T\n",
    "smoothed_arr = running_mean(arr, 10)\n",
    "plt.plot(eps[-len(smoothed_arr):], smoothed_arr)\n",
    "plt.plot(eps, arr, color='grey', alpha=0.3)\n",
    "plt.xlabel('Episode')\n",
    "plt.ylabel('D losses')"
   ]
  },
  {
   "cell_type": "markdown",
   "metadata": {},
   "source": [
    "## Testing\n",
    "\n",
    "Let's checkout how our trained agent plays the game."
   ]
  },
  {
   "cell_type": "code",
   "execution_count": 36,
   "metadata": {},
   "outputs": [
    {
     "name": "stdout",
     "output_type": "stream",
     "text": [
      "\u001b[33mWARN: gym.spaces.Box autodetected dtype as <class 'numpy.float32'>. Please provide explicit dtype.\u001b[0m\n",
      "\u001b[33mWARN: gym.spaces.Box autodetected dtype as <class 'numpy.float32'>. Please provide explicit dtype.\u001b[0m\n",
      "INFO:tensorflow:Restoring parameters from checkpoints/model.ckpt\n"
     ]
    },
    {
     "name": "stderr",
     "output_type": "stream",
     "text": [
      "/home/arasdar/anaconda3/envs/env/lib/python3.6/site-packages/gym/__init__.py:22: UserWarning: DEPRECATION WARNING: to improve load times, gym no longer automatically loads gym.spaces. Please run \"import gym.spaces\" to load gym.spaces on your own. This warning will turn into an error in a future version of gym.\n",
      "  warnings.warn('DEPRECATION WARNING: to improve load times, gym no longer automatically loads gym.spaces. Please run \"import gym.spaces\" to load gym.spaces on your own. This warning will turn into an error in a future version of gym.')\n"
     ]
    },
    {
     "name": "stdout",
     "output_type": "stream",
     "text": [
      "total_reward: 500.0\n"
     ]
    }
   ],
   "source": [
    "import gym\n",
    "env = gym.make('CartPole-v0')\n",
    "env = gym.make('CartPole-v1')\n",
    "# env = gym.make('Acrobot-v1')\n",
    "# env = gym.make('MountainCar-v0')\n",
    "# env = gym.make('Pendulum-v0')\n",
    "# env = gym.make('Blackjack-v0')\n",
    "# env = gym.make('FrozenLake-v0')\n",
    "# env = gym.make('AirRaid-ram-v0')\n",
    "# env = gym.make('AirRaid-v0')\n",
    "# env = gym.make('BipedalWalker-v2')\n",
    "# env = gym.make('Copy-v0')\n",
    "# env = gym.make('CarRacing-v0')\n",
    "# env = gym.make('Ant-v2') #mujoco\n",
    "# env = gym.make('FetchPickAndPlace-v1') # mujoco required!\n",
    "\n",
    "with tf.Session() as sess:\n",
    "    sess.run(tf.global_variables_initializer())\n",
    "    saver.restore(sess, 'checkpoints/model.ckpt')    \n",
    "    #saver.restore(sess, tf.train.latest_checkpoint('checkpoints'))\n",
    "    \n",
    "    # Episodes/epochs\n",
    "    for _ in range(1):\n",
    "        state = env.reset()\n",
    "        total_reward = 0\n",
    "\n",
    "        # Steps/batches\n",
    "        while True:\n",
    "            env.render()\n",
    "            action_logits = sess.run(model.actions_logits, feed_dict={model.states: state.reshape([1, -1])})\n",
    "            action = np.argmax(action_logits)\n",
    "            state, reward, done, _ = env.step(action)\n",
    "            total_reward += reward\n",
    "            if done:\n",
    "                print('total_reward: {}'.format(total_reward))\n",
    "                break\n",
    "                \n",
    "env.close()"
   ]
  },
  {
   "cell_type": "markdown",
   "metadata": {},
   "source": [
    "## Extending this\n",
    "\n",
    "So, Cart-Pole is a pretty simple game. However, the same model can be used to train an agent to play something much more complicated like Pong or Space Invaders. Instead of a state like we're using here though, you'd want to use convolutional layers to get the state from the screen images.\n",
    "\n",
    "![Deep Q-Learning Atari](assets/atari-network.png)\n",
    "\n",
    "I'll leave it as a challenge for you to use deep Q-learning to train an agent to play Atari games. Here's the original paper which will get you started: http://www.davidqiu.com:8888/research/nature14236.pdf."
   ]
  },
  {
   "cell_type": "code",
   "execution_count": null,
   "metadata": {},
   "outputs": [],
   "source": []
  }
 ],
 "metadata": {
  "kernelspec": {
   "display_name": "Python 3",
   "language": "python",
   "name": "python3"
  },
  "language_info": {
   "codemirror_mode": {
    "name": "ipython",
    "version": 3
   },
   "file_extension": ".py",
   "mimetype": "text/x-python",
   "name": "python",
   "nbconvert_exporter": "python",
   "pygments_lexer": "ipython3",
   "version": "3.6.5"
  }
 },
 "nbformat": 4,
 "nbformat_minor": 2
}
