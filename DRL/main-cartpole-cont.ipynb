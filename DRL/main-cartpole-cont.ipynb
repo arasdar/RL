{
 "cells": [
  {
   "cell_type": "markdown",
   "metadata": {},
   "source": [
    "# DPG for Cartpole\n",
    "\n",
    "\n",
    "In this notebook, we'll build a neural network that can learn to play games through reinforcement learning. More specifically, we'll use Q-learning to train an agent to play a game called [Cart-Pole](https://gym.openai.com/envs/CartPole-v0). In this game, a freely swinging pole is attached to a cart. The cart can move to the left and right, and the goal is to keep the pole upright as long as possible.\n",
    "\n",
    "![Cart-Pole](assets/cart-pole.jpg)\n",
    "\n",
    "We can simulate this game using [OpenAI Gym](https://gym.openai.com/). First, let's check out how OpenAI Gym works. Then, we'll get into training an agent to play the Cart-Pole game."
   ]
  },
  {
   "cell_type": "code",
   "execution_count": 1,
   "metadata": {},
   "outputs": [
    {
     "name": "stdout",
     "output_type": "stream",
     "text": [
      "TensorFlow Version: 1.7.1\n",
      "Default GPU Device: /device:GPU:0\n"
     ]
    }
   ],
   "source": [
    "# In this one we should define and detect GPUs for tensorflow\n",
    "# GPUs or CPU\n",
    "import tensorflow as tf\n",
    "\n",
    "# Check TensorFlow Version\n",
    "print('TensorFlow Version: {}'.format(tf.__version__))\n",
    "\n",
    "# Check for a GPU\n",
    "print('Default GPU Device: {}'.format(tf.test.gpu_device_name()))"
   ]
  },
  {
   "cell_type": "markdown",
   "metadata": {},
   "source": [
    ">**Note:** Make sure you have OpenAI Gym cloned into the same directory with this notebook. I've included `gym` as a submodule, so you can run `git submodule --init --recursive` to pull the contents into the `gym` repo."
   ]
  },
  {
   "cell_type": "markdown",
   "metadata": {},
   "source": [
    "##### >**Note:** Make sure you have OpenAI Gym cloned. Then run this command `pip install -e gym/[all]`."
   ]
  },
  {
   "cell_type": "code",
   "execution_count": 2,
   "metadata": {},
   "outputs": [],
   "source": [
    "import gym\n",
    "env = gym.make('CartPole-v0')\n",
    "env = gym.make('CartPole-v1')"
   ]
  },
  {
   "cell_type": "markdown",
   "metadata": {},
   "source": [
    "We interact with the simulation through `env`. To show the simulation running, you can use `env.render()` to render one frame. Passing in an action as an integer to `env.step` will generate the next step in the simulation.  You can see how many actions are possible from `env.action_space` and to get a random action you can use `env.action_space.sample()`. This is general to all Gym games. In the Cart-Pole game, there are two possible actions, moving the cart left or right. So there are two actions we can take, encoded as 0 and 1.\n",
    "\n",
    "Run the code below to watch the simulation run."
   ]
  },
  {
   "cell_type": "code",
   "execution_count": 3,
   "metadata": {},
   "outputs": [],
   "source": [
    "env.reset()\n",
    "batch = []\n",
    "for _ in range(1111):\n",
    "    #env.render()\n",
    "    action = env.action_space.sample()\n",
    "    state, reward, done, info = env.step(action) # take a random action\n",
    "    batch.append([action, state, reward, done, info])\n",
    "    #print('state, action, reward, done, info:', state, action, reward, done, info)\n",
    "    if done:\n",
    "        env.reset()"
   ]
  },
  {
   "cell_type": "markdown",
   "metadata": {},
   "source": [
    "To shut the window showing the simulation, use `env.close()`."
   ]
  },
  {
   "cell_type": "code",
   "execution_count": 4,
   "metadata": {},
   "outputs": [],
   "source": [
    "# env.close()"
   ]
  },
  {
   "cell_type": "markdown",
   "metadata": {},
   "source": [
    "If you ran the simulation above, we can look at the rewards:"
   ]
  },
  {
   "cell_type": "code",
   "execution_count": 5,
   "metadata": {},
   "outputs": [
    {
     "data": {
      "text/plain": [
       "((4,), (4,))"
      ]
     },
     "execution_count": 5,
     "metadata": {},
     "output_type": "execute_result"
    }
   ],
   "source": [
    "batch[0], \n",
    "batch[0][1].shape, state.shape"
   ]
  },
  {
   "cell_type": "code",
   "execution_count": 6,
   "metadata": {},
   "outputs": [],
   "source": [
    "import numpy as np\n",
    "actions = np.array([each[0] for each in batch])\n",
    "states = np.array([each[1] for each in batch])\n",
    "rewards = np.array([each[2] for each in batch])\n",
    "dones = np.array([each[3] for each in batch])\n",
    "infos = np.array([each[4] for each in batch])"
   ]
  },
  {
   "cell_type": "code",
   "execution_count": 7,
   "metadata": {},
   "outputs": [
    {
     "name": "stdout",
     "output_type": "stream",
     "text": [
      "shapes: (1111,) (1111, 4) (1111,) (1111,)\n",
      "dtypes: float64 float64 int64 bool\n",
      "states: 2.776214582593902 -2.9865507933148012\n",
      "actions: 1 0\n",
      "rewards: 1.0 1.0\n"
     ]
    }
   ],
   "source": [
    "# print(rewards[-20:])\n",
    "print('shapes:', np.array(rewards).shape, np.array(states).shape, np.array(actions).shape, np.array(dones).shape)\n",
    "print('dtypes:', np.array(rewards).dtype, np.array(states).dtype, np.array(actions).dtype, np.array(dones).dtype)\n",
    "print('states:', np.max(np.array(states)), np.min(np.array(states)))\n",
    "print('actions:', np.max(np.array(actions)), np.min(np.array(actions)))\n",
    "# print((np.max(np.array(actions)) - np.min(np.array(actions)))+1)\n",
    "print('rewards:', np.max(np.array(rewards)), np.min(np.array(rewards)))"
   ]
  },
  {
   "cell_type": "code",
   "execution_count": 8,
   "metadata": {},
   "outputs": [
    {
     "data": {
      "text/plain": [
       "array([0, 1, 1, 0, 1, 1, 1, 1, 1, 1])"
      ]
     },
     "execution_count": 8,
     "metadata": {},
     "output_type": "execute_result"
    }
   ],
   "source": [
    "actions[:10]"
   ]
  },
  {
   "cell_type": "code",
   "execution_count": 9,
   "metadata": {},
   "outputs": [
    {
     "data": {
      "text/plain": [
       "array([1., 1., 1., 1., 1., 1., 1., 1., 1., 1.])"
      ]
     },
     "execution_count": 9,
     "metadata": {},
     "output_type": "execute_result"
    }
   ],
   "source": [
    "rewards[:10]"
   ]
  },
  {
   "cell_type": "code",
   "execution_count": 10,
   "metadata": {},
   "outputs": [
    {
     "name": "stdout",
     "output_type": "stream",
     "text": [
      "rewards: 0.01 0.01\n"
     ]
    }
   ],
   "source": [
    "print('rewards:', np.max(np.array(rewards))/100, np.min(np.array(rewards))/100)"
   ]
  },
  {
   "cell_type": "markdown",
   "metadata": {},
   "source": [
    "The game resets after the pole has fallen past a certain angle. For each frame while the simulation is running, it returns a reward of 1.0. The longer the game runs, the more reward we get. Then, our network's goal is to maximize the reward by keeping the pole vertical. It will do this by moving the cart to the left and the right."
   ]
  },
  {
   "cell_type": "markdown",
   "metadata": {},
   "source": [
    "## Q-Network\n",
    "\n",
    "We train our Q-learning agent using the Bellman Equation:\n",
    "\n",
    "$$\n",
    "Q(s, a) = r + \\gamma \\max{Q(s', a')}\n",
    "$$\n",
    "\n",
    "where $s$ is a state, $a$ is an action, and $s'$ is the next state from state $s$ and action $a$.\n",
    "\n",
    "Before we used this equation to learn values for a Q-_table_. However, for this game there are a huge number of states available. The state has four values: the position and velocity of the cart, and the position and velocity of the pole. These are all real-valued numbers, so ignoring floating point precisions, you practically have infinite states. Instead of using a table then, we'll replace it with a neural network that will approximate the Q-table lookup function.\n",
    "\n",
    "<img src=\"assets/deep-q-learning.png\" width=450px>\n",
    "\n",
    "Now, our Q value, $Q(s, a)$ is calculated by passing in a state to the network. The output will be Q-values for each available action, with fully connected hidden layers.\n",
    "\n",
    "<img src=\"assets/q-network.png\" width=550px>\n",
    "\n",
    "\n",
    "As I showed before, we can define our targets for training as $\\hat{Q}(s,a) = r + \\gamma \\max{Q(s', a')}$. Then we update the weights by minimizing $(\\hat{Q}(s,a) - Q(s,a))^2$. \n",
    "\n",
    "For this Cart-Pole game, we have four inputs, one for each value in the state, and two outputs, one for each action. To get $\\hat{Q}$, we'll first choose an action, then simulate the game using that action. This will get us the next state, $s'$, and the reward. With that, we can calculate $\\hat{Q}$ then pass it back into the $Q$ network to run the optimizer and update the weights.\n",
    "\n",
    "Below is my implementation of the Q-network. I used two fully connected layers with ReLU activations. Two seems to be good enough, three might be better. Feel free to try it out."
   ]
  },
  {
   "cell_type": "code",
   "execution_count": 11,
   "metadata": {},
   "outputs": [],
   "source": [
    "def model_input(state_size):\n",
    "    #states = tf.placeholder(tf.float32, [None, *state_size], name='states')\n",
    "    states = tf.placeholder(tf.float32, [None, state_size], name='states')\n",
    "    actions = tf.placeholder(tf.int32, [None], name='actions')\n",
    "    targetQs = tf.placeholder(tf.float32, [None], name='targetQs')\n",
    "    rates = tf.placeholder(tf.float32, [None], name='rates')\n",
    "    return states, actions, targetQs, rates"
   ]
  },
  {
   "cell_type": "code",
   "execution_count": 12,
   "metadata": {},
   "outputs": [],
   "source": [
    "# Generator/Controller: Generating/prediting the actions\n",
    "def generator(states, action_size, hidden_size, reuse=False, alpha=0.1, training=False):\n",
    "    with tf.variable_scope('generator', reuse=reuse):\n",
    "        # First fully connected layer\n",
    "        h1 = tf.layers.dense(inputs=states, units=hidden_size)\n",
    "        bn1 = tf.layers.batch_normalization(h1, training=training)        \n",
    "        nl1 = tf.maximum(alpha * bn1, bn1)\n",
    "        \n",
    "        # Second fully connected layer\n",
    "        h2 = tf.layers.dense(inputs=nl1, units=hidden_size)\n",
    "        bn2 = tf.layers.batch_normalization(h2, training=training)        \n",
    "        nl2 = tf.maximum(alpha * bn2, bn2)\n",
    "        \n",
    "        # Output layer\n",
    "        logits = tf.layers.dense(inputs=nl2, units=action_size)        \n",
    "        #predictions = tf.nn.softmax(logits)\n",
    "\n",
    "        # return actions logits\n",
    "        return logits"
   ]
  },
  {
   "cell_type": "code",
   "execution_count": 13,
   "metadata": {},
   "outputs": [],
   "source": [
    "# Discriminator/Dopamine: Reward function/planner/naviator/advisor/supervisor/cortical columns\n",
    "def discriminator(states, actions, hidden_size, reuse=False, alpha=0.1, training=False):\n",
    "    with tf.variable_scope('discriminator', reuse=reuse):\n",
    "        # First fully connected layer\n",
    "        h1 = tf.layers.dense(inputs=states, units=action_size)\n",
    "        bn1 = tf.layers.batch_normalization(h1, training=training)        \n",
    "        nl1 = tf.maximum(alpha * bn1, bn1)\n",
    "        \n",
    "        # Second fully connected layer\n",
    "        fused = tf.concat(axis=1, values=[nl1, actions])\n",
    "        h2 = tf.layers.dense(inputs=fused, units=hidden_size)\n",
    "        bn2 = tf.layers.batch_normalization(h2, training=training)        \n",
    "        nl2 = tf.maximum(alpha * bn2, bn2)\n",
    "                \n",
    "        # Output layer\n",
    "        logits = tf.layers.dense(inputs=nl2, units=1)        \n",
    "        #predictions = tf.nn.softmax(logits)\n",
    "\n",
    "        # return rewards logits\n",
    "        return logits"
   ]
  },
  {
   "cell_type": "code",
   "execution_count": 15,
   "metadata": {},
   "outputs": [],
   "source": [
    "def model_loss(action_size, hidden_size, states, actions, targetQs, rates):\n",
    "    actions_logits = generator(states=states, hidden_size=hidden_size, action_size=action_size)\n",
    "    actions_labels = tf.one_hot(indices=actions, depth=action_size, dtype=actions_logits.dtype)\n",
    "    neg_log_prob = tf.nn.softmax_cross_entropy_with_logits_v2(logits=actions_logits, \n",
    "                                                              labels=actions_labels)\n",
    "    targetQs = tf.reshape(targetQs, shape=[-1, 1])\n",
    "    gloss = tf.reduce_mean(neg_log_prob * targetQs) # DPG: r+(gamma*nextQ)\n",
    "    gQs = discriminator(actions=actions_logits, hidden_size=hidden_size, states=states)\n",
    "    rates = tf.reshape(rates, shape=[-1, 1])\n",
    "    dlossA = tf.reduce_mean(tf.nn.sigmoid_cross_entropy_with_logits(logits=gQs, # GAN\n",
    "                                                                    labels=rates)) # 0-1\n",
    "    dQs = discriminator(actions=actions_labels, hidden_size=hidden_size, states=states, reuse=True) # Qs\n",
    "    dlossQ = tf.reduce_mean(tf.square(dQs - targetQs)) # DQN\n",
    "    return actions_logits, gQs, gloss, dlossA, dlossQ"
   ]
  },
  {
   "cell_type": "code",
   "execution_count": 16,
   "metadata": {},
   "outputs": [],
   "source": [
    "# Optimizating/training/learning G & D\n",
    "def model_opt(g_loss, d_lossA, d_lossQ, g_learning_rate, d_learning_rate):\n",
    "    # Get weights and bias to update\n",
    "    t_vars = tf.trainable_variables()\n",
    "    g_vars = [var for var in t_vars if var.name.startswith('generator')]\n",
    "    d_vars = [var for var in t_vars if var.name.startswith('discriminator')]\n",
    "\n",
    "    # Optimize\n",
    "    with tf.control_dependencies(tf.get_collection(tf.GraphKeys.UPDATE_OPS)): # Required for batchnorm (BN)\n",
    "        g_opt = tf.train.AdamOptimizer(g_learning_rate).minimize(g_loss, var_list=g_vars)\n",
    "        d_optA = tf.train.AdamOptimizer(d_learning_rate).minimize(d_lossA, var_list=d_vars)\n",
    "        d_optQ = tf.train.AdamOptimizer(d_learning_rate).minimize(d_lossQ, var_list=d_vars)\n",
    "\n",
    "    return g_opt, d_optA, d_optQ"
   ]
  },
  {
   "cell_type": "code",
   "execution_count": 17,
   "metadata": {},
   "outputs": [],
   "source": [
    "class Model:\n",
    "    def __init__(self, state_size, action_size, hidden_size, g_learning_rate, d_learning_rate):\n",
    "\n",
    "        # Data of the Model: make the data available inside the framework\n",
    "        self.states, self.actions, self.targetQs, self.rates = model_input(state_size=state_size)\n",
    "\n",
    "        # Create the Model: calculating the loss and forwad pass\n",
    "        self.actions_logits, self.Qs_logits, self.g_loss, self.d_lossA, self.d_lossQ = model_loss(\n",
    "            action_size=action_size, hidden_size=hidden_size, # model init parameters\n",
    "            states=self.states, actions=self.actions, \n",
    "            targetQs=self.targetQs, rates=self.rates) # model input\n",
    "        \n",
    "        # Update the model: backward pass and backprop\n",
    "        self.g_opt, self.d_optA, self.d_optQ = model_opt(g_loss=self.g_loss, \n",
    "                                                         d_lossA=self.d_lossA, \n",
    "                                                         d_lossQ=self.d_lossQ, \n",
    "                                                         g_learning_rate=g_learning_rate, \n",
    "                                                         d_learning_rate=d_learning_rate)"
   ]
  },
  {
   "cell_type": "code",
   "execution_count": 18,
   "metadata": {},
   "outputs": [],
   "source": [
    "from collections import deque\n",
    "class Memory():\n",
    "    def __init__(self, max_size = 1000):\n",
    "        self.buffer = deque(maxlen=max_size) # data\n",
    "        self.rates = deque(maxlen=max_size) # rate"
   ]
  },
  {
   "cell_type": "markdown",
   "metadata": {},
   "source": [
    "## Hyperparameters\n",
    "\n",
    "One of the more difficult aspects of reinforcememt learning are the large number of hyperparameters. Not only are we tuning the network, but we're tuning the simulation."
   ]
  },
  {
   "cell_type": "code",
   "execution_count": 19,
   "metadata": {},
   "outputs": [
    {
     "data": {
      "text/plain": [
       "(Box(4,), Discrete(2))"
      ]
     },
     "execution_count": 19,
     "metadata": {},
     "output_type": "execute_result"
    }
   ],
   "source": [
    "env.observation_space, env.action_space"
   ]
  },
  {
   "cell_type": "code",
   "execution_count": 41,
   "metadata": {},
   "outputs": [],
   "source": [
    "# Exploration parameters\n",
    "explore_start = 1.0            # exploration probability at start\n",
    "explore_stop = 0.01           # minimum exploration probability \n",
    "decay_rate = 0.0001            # exponential decay rate for exploration prob\n",
    "\n",
    "# Network parameters\n",
    "state_size = 4\n",
    "action_size = 2\n",
    "hidden_size = 24*2             # number of units in each Q-network hidden layer\n",
    "g_learning_rate = 1e-4         # Q-network learning rate\n",
    "d_learning_rate = 1e-4         # Q-network learning rate\n",
    "\n",
    "# Memory parameters\n",
    "memory_size = int(1e6)            # memory capacity\n",
    "# batch_size = 64                # experience mini-batch size\n",
    "gamma = 0.99                   # future reward discount"
   ]
  },
  {
   "cell_type": "code",
   "execution_count": 42,
   "metadata": {},
   "outputs": [],
   "source": [
    "# Reset/init the graph/session\n",
    "graph = tf.reset_default_graph()\n",
    "\n",
    "# Init the model\n",
    "model = Model(action_size=action_size, state_size=state_size, hidden_size=hidden_size,\n",
    "              g_learning_rate=g_learning_rate, d_learning_rate=d_learning_rate)\n",
    "\n",
    "# Init the memory\n",
    "memory = Memory(max_size=memory_size)"
   ]
  },
  {
   "cell_type": "code",
   "execution_count": 43,
   "metadata": {},
   "outputs": [],
   "source": [
    "state = env.reset()\n",
    "total_reward = 0\n",
    "num_step = 0\n",
    "for _ in range(memory_size):\n",
    "    action = env.action_space.sample()\n",
    "    next_state, reward, done, _ = env.step(action)\n",
    "    memory.buffer.append([state, action, next_state, reward, float(done)])\n",
    "    memory.rates.append(-1) # empty\n",
    "    num_step += 1 # memory incremented\n",
    "    total_reward += reward\n",
    "    state = next_state\n",
    "    if done is True:\n",
    "        state = env.reset()\n",
    "        rate = total_reward/500\n",
    "        total_reward = 0 # reset\n",
    "        for idx in range(num_step): # episode length\n",
    "            if memory.rates[-1-idx] == -1:\n",
    "                memory.rates[-1-idx] = rate\n",
    "        num_step = 0 # reset"
   ]
  },
  {
   "cell_type": "code",
   "execution_count": 44,
   "metadata": {},
   "outputs": [
    {
     "data": {
      "text/plain": [
       "15"
      ]
     },
     "execution_count": 44,
     "metadata": {},
     "output_type": "execute_result"
    }
   ],
   "source": [
    "num_step"
   ]
  },
  {
   "cell_type": "code",
   "execution_count": 45,
   "metadata": {},
   "outputs": [],
   "source": [
    "batch = memory.buffer\n",
    "# states = np.array([each[0] for each in batch])\n",
    "# actions = np.array([each[1] for each in batch])\n",
    "# next_states = np.array([each[2] for each in batch])\n",
    "# rewards = np.array([each[3] for each in batch])\n",
    "dones = np.array([each[4] for each in batch])"
   ]
  },
  {
   "cell_type": "code",
   "execution_count": 46,
   "metadata": {},
   "outputs": [
    {
     "data": {
      "text/plain": [
       "(array([0., 0., 0., ..., 0., 0., 0.]), 27, 1.0, 0.0)"
      ]
     },
     "execution_count": 46,
     "metadata": {},
     "output_type": "execute_result"
    }
   ],
   "source": [
    "dones, np.argmax(dones), dones[np.argmax(dones)], dones[0]"
   ]
  },
  {
   "cell_type": "code",
   "execution_count": 55,
   "metadata": {},
   "outputs": [],
   "source": [
    "rates = np.array(memory.rates)"
   ]
  },
  {
   "cell_type": "code",
   "execution_count": 56,
   "metadata": {},
   "outputs": [
    {
     "data": {
      "text/plain": [
       "array([ 0.056,  0.056,  0.056, ..., -1.   , -1.   , -1.   ])"
      ]
     },
     "execution_count": 56,
     "metadata": {},
     "output_type": "execute_result"
    }
   ],
   "source": [
    "rates"
   ]
  },
  {
   "cell_type": "code",
   "execution_count": 57,
   "metadata": {},
   "outputs": [
    {
     "data": {
      "text/plain": [
       "(0.298, -1.0)"
      ]
     },
     "execution_count": 57,
     "metadata": {},
     "output_type": "execute_result"
    }
   ],
   "source": [
    "np.max(rates), np.min(rates)"
   ]
  },
  {
   "cell_type": "code",
   "execution_count": 58,
   "metadata": {},
   "outputs": [
    {
     "data": {
      "text/plain": [
       "15"
      ]
     },
     "execution_count": 58,
     "metadata": {},
     "output_type": "execute_result"
    }
   ],
   "source": [
    "num_step"
   ]
  },
  {
   "cell_type": "code",
   "execution_count": 59,
   "metadata": {},
   "outputs": [
    {
     "data": {
      "text/plain": [
       "array([0.298, 0.298, 0.298, 0.298, 0.298, 0.298, 0.298, 0.298, 0.298,\n",
       "       0.298, 0.298, 0.298, 0.298, 0.298, 0.298, 0.298, 0.298, 0.298,\n",
       "       0.298, 0.298, 0.298, 0.298, 0.298, 0.298, 0.298, 0.298, 0.298,\n",
       "       0.298, 0.298, 0.298, 0.298, 0.298, 0.298, 0.298, 0.298, 0.298,\n",
       "       0.298, 0.298, 0.298, 0.298, 0.298, 0.298, 0.298, 0.298, 0.298,\n",
       "       0.298, 0.298, 0.298, 0.298, 0.298, 0.298, 0.298, 0.298, 0.298,\n",
       "       0.298, 0.298, 0.298, 0.298, 0.298, 0.298, 0.298, 0.298, 0.298,\n",
       "       0.298, 0.298, 0.298, 0.298, 0.298, 0.298, 0.298, 0.298, 0.298,\n",
       "       0.298, 0.298, 0.298, 0.298, 0.298, 0.298, 0.298, 0.298, 0.298,\n",
       "       0.298, 0.298, 0.298, 0.298, 0.298, 0.298, 0.298, 0.298, 0.298,\n",
       "       0.298, 0.298, 0.298, 0.298, 0.298, 0.298, 0.298, 0.298, 0.298,\n",
       "       0.298, 0.298, 0.298, 0.298, 0.298, 0.298, 0.298, 0.298, 0.298,\n",
       "       0.298, 0.298, 0.298, 0.298, 0.298, 0.298, 0.298, 0.298, 0.298,\n",
       "       0.298, 0.298, 0.298, 0.298, 0.298, 0.298, 0.298, 0.298, 0.298,\n",
       "       0.298, 0.298, 0.298, 0.298, 0.298, 0.298, 0.298, 0.298, 0.298,\n",
       "       0.298, 0.298, 0.298, 0.298, 0.298, 0.298, 0.298, 0.298, 0.298,\n",
       "       0.298, 0.298, 0.298, 0.298, 0.298])"
      ]
     },
     "execution_count": 59,
     "metadata": {},
     "output_type": "execute_result"
    }
   ],
   "source": [
    "rates[rates == np.max(rates)]"
   ]
  },
  {
   "cell_type": "code",
   "execution_count": 67,
   "metadata": {},
   "outputs": [],
   "source": [
    "batch = memory.buffer\n",
    "percentage = 0.8\n",
    "states = np.array([each[0] for each in batch])[rates >= (np.max(rates)*percentage)]\n",
    "actions = np.array([each[1] for each in batch])[rates >= (np.max(rates)*percentage)]\n",
    "next_states = np.array([each[2] for each in batch])[rates >= (np.max(rates)*percentage)]\n",
    "rewards = np.array([each[3] for each in batch])[rates >= (np.max(rates)*percentage)]\n",
    "dones = np.array([each[4] for each in batch])[rates >= (np.max(rates)*percentage)]\n",
    "maxrates = np.array(memory.rates)[rates >= (np.max(rates)*percentage)]"
   ]
  },
  {
   "cell_type": "code",
   "execution_count": 68,
   "metadata": {},
   "outputs": [],
   "source": [
    "# batch = memory.buffer\n",
    "# states = np.array([each[0] for each in batch])[allrates >= 0]\n",
    "# actions = np.array([each[1] for each in batch])[allrates >= 0]\n",
    "# next_states = np.array([each[2] for each in batch])[allrates >= 0]\n",
    "# rewards = np.array([each[3] for each in batch])[allrates >= 0]\n",
    "# dones = np.array([each[4] for each in batch])[allrates >= 0]\n",
    "# rates = np.array(memory.rates)[allrates >= 0]"
   ]
  },
  {
   "cell_type": "code",
   "execution_count": 69,
   "metadata": {},
   "outputs": [
    {
     "data": {
      "text/plain": [
       "((766, 4), (766,), (766, 4), (766,), (766,), (766,))"
      ]
     },
     "execution_count": 69,
     "metadata": {},
     "output_type": "execute_result"
    }
   ],
   "source": [
    "states.shape, actions.shape, next_states.shape, rewards.shape, dones.shape, maxrates.shape"
   ]
  },
  {
   "cell_type": "code",
   "execution_count": 70,
   "metadata": {},
   "outputs": [
    {
     "data": {
      "text/plain": [
       "15"
      ]
     },
     "execution_count": 70,
     "metadata": {},
     "output_type": "execute_result"
    }
   ],
   "source": [
    "num_step"
   ]
  },
  {
   "cell_type": "markdown",
   "metadata": {},
   "source": [
    "## Training the model\n",
    "\n",
    "Below we'll train our agent. If you want to watch it train, uncomment the `env.render()` line. This is slow because it's rendering the frames slower than the network can train. But, it's cool to watch the agent get better at the game."
   ]
  },
  {
   "cell_type": "code",
   "execution_count": null,
   "metadata": {},
   "outputs": [
    {
     "name": "stdout",
     "output_type": "stream",
     "text": [
      "Episode:0 meanR:13.0000 R:13.0 rate:0.026 maxrate:0.298 mbsize:766 gloss:0.6169 dlossA:0.6680 dlossQ:1.9668 exploreP:0.9987\n",
      "Episode:1 meanR:22.0000 R:31.0 rate:0.062 maxrate:0.298 mbsize:766 gloss:0.6165 dlossA:0.6680 dlossQ:1.9629 exploreP:0.9957\n",
      "Episode:2 meanR:18.6667 R:12.0 rate:0.024 maxrate:0.298 mbsize:766 gloss:0.6161 dlossA:0.6680 dlossQ:1.9591 exploreP:0.9945\n",
      "Episode:3 meanR:26.2500 R:49.0 rate:0.098 maxrate:0.298 mbsize:766 gloss:0.6156 dlossA:0.6679 dlossQ:1.9552 exploreP:0.9897\n",
      "Episode:4 meanR:26.2000 R:26.0 rate:0.052 maxrate:0.298 mbsize:766 gloss:0.6152 dlossA:0.6679 dlossQ:1.9514 exploreP:0.9871\n",
      "Episode:5 meanR:25.5000 R:22.0 rate:0.044 maxrate:0.298 mbsize:766 gloss:0.6148 dlossA:0.6678 dlossQ:1.9476 exploreP:0.9850\n",
      "Episode:6 meanR:25.2857 R:24.0 rate:0.048 maxrate:0.298 mbsize:766 gloss:0.6144 dlossA:0.6678 dlossQ:1.9437 exploreP:0.9826\n",
      "Episode:7 meanR:23.3750 R:10.0 rate:0.02 maxrate:0.298 mbsize:766 gloss:0.6140 dlossA:0.6678 dlossQ:1.9399 exploreP:0.9817\n",
      "Episode:8 meanR:21.8889 R:10.0 rate:0.02 maxrate:0.298 mbsize:766 gloss:0.6136 dlossA:0.6678 dlossQ:1.9360 exploreP:0.9807\n",
      "Episode:9 meanR:21.7000 R:20.0 rate:0.04 maxrate:0.298 mbsize:766 gloss:0.6132 dlossA:0.6678 dlossQ:1.9321 exploreP:0.9787\n",
      "Episode:10 meanR:21.2727 R:17.0 rate:0.034 maxrate:0.298 mbsize:766 gloss:0.6128 dlossA:0.6677 dlossQ:1.9282 exploreP:0.9771\n",
      "Episode:11 meanR:20.8333 R:16.0 rate:0.032 maxrate:0.298 mbsize:766 gloss:0.6124 dlossA:0.6676 dlossQ:1.9243 exploreP:0.9756\n",
      "Episode:12 meanR:20.6923 R:19.0 rate:0.038 maxrate:0.298 mbsize:766 gloss:0.6120 dlossA:0.6676 dlossQ:1.9205 exploreP:0.9737\n",
      "Episode:13 meanR:20.6429 R:20.0 rate:0.04 maxrate:0.298 mbsize:766 gloss:0.6116 dlossA:0.6675 dlossQ:1.9166 exploreP:0.9718\n",
      "Episode:14 meanR:20.0000 R:11.0 rate:0.022 maxrate:0.298 mbsize:766 gloss:0.6111 dlossA:0.6675 dlossQ:1.9126 exploreP:0.9707\n",
      "Episode:15 meanR:20.1250 R:22.0 rate:0.044 maxrate:0.298 mbsize:766 gloss:0.6107 dlossA:0.6675 dlossQ:1.9087 exploreP:0.9686\n",
      "Episode:16 meanR:20.1176 R:20.0 rate:0.04 maxrate:0.298 mbsize:766 gloss:0.6103 dlossA:0.6675 dlossQ:1.9048 exploreP:0.9667\n",
      "Episode:17 meanR:20.4444 R:26.0 rate:0.052 maxrate:0.298 mbsize:766 gloss:0.6099 dlossA:0.6674 dlossQ:1.9009 exploreP:0.9642\n",
      "Episode:18 meanR:19.9474 R:11.0 rate:0.022 maxrate:0.298 mbsize:766 gloss:0.6095 dlossA:0.6674 dlossQ:1.8970 exploreP:0.9632\n",
      "Episode:19 meanR:19.7500 R:16.0 rate:0.032 maxrate:0.298 mbsize:766 gloss:0.6091 dlossA:0.6673 dlossQ:1.8930 exploreP:0.9617\n",
      "Episode:20 meanR:19.7143 R:19.0 rate:0.038 maxrate:0.298 mbsize:766 gloss:0.6087 dlossA:0.6673 dlossQ:1.8891 exploreP:0.9599\n",
      "Episode:21 meanR:19.2727 R:10.0 rate:0.02 maxrate:0.298 mbsize:766 gloss:0.6082 dlossA:0.6672 dlossQ:1.8851 exploreP:0.9589\n",
      "Episode:22 meanR:19.5652 R:26.0 rate:0.052 maxrate:0.298 mbsize:766 gloss:0.6078 dlossA:0.6672 dlossQ:1.8812 exploreP:0.9564\n",
      "Episode:23 meanR:19.2083 R:11.0 rate:0.022 maxrate:0.298 mbsize:766 gloss:0.6074 dlossA:0.6671 dlossQ:1.8772 exploreP:0.9554\n",
      "Episode:24 meanR:19.4000 R:24.0 rate:0.048 maxrate:0.298 mbsize:766 gloss:0.6070 dlossA:0.6670 dlossQ:1.8733 exploreP:0.9531\n",
      "Episode:25 meanR:19.7308 R:28.0 rate:0.056 maxrate:0.298 mbsize:766 gloss:0.6066 dlossA:0.6670 dlossQ:1.8693 exploreP:0.9505\n",
      "Episode:26 meanR:19.9259 R:25.0 rate:0.05 maxrate:0.298 mbsize:766 gloss:0.6062 dlossA:0.6669 dlossQ:1.8654 exploreP:0.9481\n",
      "Episode:27 meanR:19.8929 R:19.0 rate:0.038 maxrate:0.298 mbsize:766 gloss:0.6057 dlossA:0.6669 dlossQ:1.8614 exploreP:0.9464\n",
      "Episode:28 meanR:19.7586 R:16.0 rate:0.032 maxrate:0.298 mbsize:766 gloss:0.6053 dlossA:0.6668 dlossQ:1.8575 exploreP:0.9449\n",
      "Episode:29 meanR:19.8000 R:21.0 rate:0.042 maxrate:0.298 mbsize:766 gloss:0.6049 dlossA:0.6668 dlossQ:1.8536 exploreP:0.9429\n",
      "Episode:30 meanR:19.8710 R:22.0 rate:0.044 maxrate:0.298 mbsize:766 gloss:0.6045 dlossA:0.6667 dlossQ:1.8496 exploreP:0.9409\n",
      "Episode:31 meanR:19.9688 R:23.0 rate:0.046 maxrate:0.298 mbsize:766 gloss:0.6041 dlossA:0.6667 dlossQ:1.8457 exploreP:0.9387\n",
      "Episode:32 meanR:19.7576 R:13.0 rate:0.026 maxrate:0.298 mbsize:766 gloss:0.6037 dlossA:0.6666 dlossQ:1.8418 exploreP:0.9375\n",
      "Episode:33 meanR:19.4706 R:10.0 rate:0.02 maxrate:0.298 mbsize:766 gloss:0.6033 dlossA:0.6666 dlossQ:1.8379 exploreP:0.9366\n",
      "Episode:34 meanR:19.5429 R:22.0 rate:0.044 maxrate:0.298 mbsize:766 gloss:0.6029 dlossA:0.6666 dlossQ:1.8339 exploreP:0.9345\n",
      "Episode:35 meanR:19.5000 R:18.0 rate:0.036 maxrate:0.298 mbsize:766 gloss:0.6024 dlossA:0.6664 dlossQ:1.8300 exploreP:0.9329\n",
      "Episode:36 meanR:19.8649 R:33.0 rate:0.066 maxrate:0.298 mbsize:766 gloss:0.6020 dlossA:0.6664 dlossQ:1.8261 exploreP:0.9298\n",
      "Episode:37 meanR:21.2895 R:74.0 rate:0.148 maxrate:0.298 mbsize:766 gloss:0.6016 dlossA:0.6664 dlossQ:1.8222 exploreP:0.9231\n",
      "Episode:38 meanR:22.2051 R:57.0 rate:0.114 maxrate:0.298 mbsize:766 gloss:0.6012 dlossA:0.6663 dlossQ:1.8183 exploreP:0.9179\n",
      "Episode:39 meanR:22.1750 R:21.0 rate:0.042 maxrate:0.298 mbsize:766 gloss:0.6008 dlossA:0.6662 dlossQ:1.8145 exploreP:0.9160\n",
      "Episode:40 meanR:22.0244 R:16.0 rate:0.032 maxrate:0.298 mbsize:766 gloss:0.6004 dlossA:0.6662 dlossQ:1.8106 exploreP:0.9145\n",
      "Episode:41 meanR:21.8810 R:16.0 rate:0.032 maxrate:0.298 mbsize:766 gloss:0.6000 dlossA:0.6661 dlossQ:1.8067 exploreP:0.9131\n",
      "Episode:42 meanR:21.6977 R:14.0 rate:0.028 maxrate:0.298 mbsize:766 gloss:0.5996 dlossA:0.6661 dlossQ:1.8029 exploreP:0.9118\n",
      "Episode:43 meanR:22.9773 R:78.0 rate:0.156 maxrate:0.298 mbsize:766 gloss:0.5992 dlossA:0.6661 dlossQ:1.7990 exploreP:0.9048\n",
      "Episode:44 meanR:23.0000 R:24.0 rate:0.048 maxrate:0.298 mbsize:766 gloss:0.5988 dlossA:0.6660 dlossQ:1.7952 exploreP:0.9027\n",
      "Episode:45 meanR:23.1304 R:29.0 rate:0.058 maxrate:0.298 mbsize:766 gloss:0.5984 dlossA:0.6660 dlossQ:1.7914 exploreP:0.9001\n",
      "Episode:46 meanR:23.7872 R:54.0 rate:0.108 maxrate:0.298 mbsize:766 gloss:0.5980 dlossA:0.6659 dlossQ:1.7876 exploreP:0.8953\n",
      "Episode:47 meanR:23.8750 R:28.0 rate:0.056 maxrate:0.298 mbsize:766 gloss:0.5976 dlossA:0.6658 dlossQ:1.7838 exploreP:0.8928\n",
      "Episode:48 meanR:23.6531 R:13.0 rate:0.026 maxrate:0.298 mbsize:766 gloss:0.5972 dlossA:0.6657 dlossQ:1.7800 exploreP:0.8917\n",
      "Episode:49 meanR:23.5400 R:18.0 rate:0.036 maxrate:0.298 mbsize:766 gloss:0.5968 dlossA:0.6657 dlossQ:1.7762 exploreP:0.8901\n",
      "Episode:50 meanR:23.8039 R:37.0 rate:0.074 maxrate:0.298 mbsize:766 gloss:0.5964 dlossA:0.6656 dlossQ:1.7725 exploreP:0.8868\n",
      "Episode:51 meanR:23.8269 R:25.0 rate:0.05 maxrate:0.298 mbsize:766 gloss:0.5960 dlossA:0.6656 dlossQ:1.7687 exploreP:0.8846\n",
      "Episode:52 meanR:24.2642 R:47.0 rate:0.094 maxrate:0.298 mbsize:766 gloss:0.5957 dlossA:0.6655 dlossQ:1.7650 exploreP:0.8805\n",
      "Episode:53 meanR:24.1852 R:20.0 rate:0.04 maxrate:0.298 mbsize:766 gloss:0.5953 dlossA:0.6655 dlossQ:1.7613 exploreP:0.8788\n",
      "Episode:54 meanR:24.3273 R:32.0 rate:0.064 maxrate:0.298 mbsize:766 gloss:0.5949 dlossA:0.6654 dlossQ:1.7575 exploreP:0.8760\n",
      "Episode:55 meanR:24.3214 R:24.0 rate:0.048 maxrate:0.298 mbsize:766 gloss:0.5945 dlossA:0.6654 dlossQ:1.7538 exploreP:0.8739\n",
      "Episode:56 meanR:24.4737 R:33.0 rate:0.066 maxrate:0.298 mbsize:766 gloss:0.5941 dlossA:0.6654 dlossQ:1.7501 exploreP:0.8711\n",
      "Episode:57 meanR:24.5690 R:30.0 rate:0.06 maxrate:0.298 mbsize:766 gloss:0.5937 dlossA:0.6653 dlossQ:1.7465 exploreP:0.8685\n",
      "Episode:58 meanR:24.6441 R:29.0 rate:0.058 maxrate:0.298 mbsize:766 gloss:0.5933 dlossA:0.6652 dlossQ:1.7428 exploreP:0.8660\n",
      "Episode:59 meanR:24.5333 R:18.0 rate:0.036 maxrate:0.298 mbsize:766 gloss:0.5929 dlossA:0.6652 dlossQ:1.7391 exploreP:0.8645\n",
      "Episode:60 meanR:24.7213 R:36.0 rate:0.072 maxrate:0.298 mbsize:766 gloss:0.5925 dlossA:0.6651 dlossQ:1.7355 exploreP:0.8614\n",
      "Episode:61 meanR:24.6935 R:23.0 rate:0.046 maxrate:0.298 mbsize:766 gloss:0.5921 dlossA:0.6651 dlossQ:1.7318 exploreP:0.8595\n",
      "Episode:62 meanR:24.4921 R:12.0 rate:0.024 maxrate:0.298 mbsize:766 gloss:0.5917 dlossA:0.6650 dlossQ:1.7282 exploreP:0.8584\n",
      "Episode:63 meanR:24.6406 R:34.0 rate:0.068 maxrate:0.298 mbsize:766 gloss:0.5913 dlossA:0.6650 dlossQ:1.7246 exploreP:0.8556\n",
      "Episode:64 meanR:24.6000 R:22.0 rate:0.044 maxrate:0.298 mbsize:766 gloss:0.5910 dlossA:0.6648 dlossQ:1.7210 exploreP:0.8537\n",
      "Episode:65 meanR:24.7121 R:32.0 rate:0.064 maxrate:0.298 mbsize:766 gloss:0.5906 dlossA:0.6648 dlossQ:1.7174 exploreP:0.8510\n"
     ]
    },
    {
     "name": "stdout",
     "output_type": "stream",
     "text": [
      "Episode:66 meanR:24.9851 R:43.0 rate:0.086 maxrate:0.298 mbsize:766 gloss:0.5902 dlossA:0.6647 dlossQ:1.7138 exploreP:0.8474\n",
      "Episode:67 meanR:25.1471 R:36.0 rate:0.072 maxrate:0.298 mbsize:766 gloss:0.5898 dlossA:0.6647 dlossQ:1.7102 exploreP:0.8444\n",
      "Episode:68 meanR:25.0435 R:18.0 rate:0.036 maxrate:0.298 mbsize:766 gloss:0.5894 dlossA:0.6647 dlossQ:1.7067 exploreP:0.8429\n",
      "Episode:69 meanR:25.0857 R:28.0 rate:0.056 maxrate:0.298 mbsize:766 gloss:0.5890 dlossA:0.6646 dlossQ:1.7031 exploreP:0.8406\n",
      "Episode:70 meanR:24.9155 R:13.0 rate:0.026 maxrate:0.298 mbsize:766 gloss:0.5886 dlossA:0.6645 dlossQ:1.6995 exploreP:0.8395\n",
      "Episode:71 meanR:24.7917 R:16.0 rate:0.032 maxrate:0.298 mbsize:766 gloss:0.5883 dlossA:0.6645 dlossQ:1.6960 exploreP:0.8382\n",
      "Episode:72 meanR:24.6575 R:15.0 rate:0.03 maxrate:0.298 mbsize:766 gloss:0.5879 dlossA:0.6644 dlossQ:1.6924 exploreP:0.8369\n",
      "Episode:73 meanR:24.5811 R:19.0 rate:0.038 maxrate:0.298 mbsize:766 gloss:0.5875 dlossA:0.6643 dlossQ:1.6889 exploreP:0.8353\n",
      "Episode:74 meanR:24.4667 R:16.0 rate:0.032 maxrate:0.298 mbsize:766 gloss:0.5871 dlossA:0.6643 dlossQ:1.6854 exploreP:0.8340\n",
      "Episode:75 meanR:25.0000 R:65.0 rate:0.13 maxrate:0.298 mbsize:766 gloss:0.5867 dlossA:0.6643 dlossQ:1.6819 exploreP:0.8287\n",
      "Episode:76 meanR:24.8182 R:11.0 rate:0.022 maxrate:0.298 mbsize:766 gloss:0.5863 dlossA:0.6642 dlossQ:1.6784 exploreP:0.8278\n",
      "Episode:77 meanR:24.6795 R:14.0 rate:0.028 maxrate:0.298 mbsize:766 gloss:0.5859 dlossA:0.6642 dlossQ:1.6750 exploreP:0.8266\n",
      "Episode:78 meanR:24.5696 R:16.0 rate:0.032 maxrate:0.298 mbsize:766 gloss:0.5856 dlossA:0.6640 dlossQ:1.6715 exploreP:0.8253\n",
      "Episode:79 meanR:24.4625 R:16.0 rate:0.032 maxrate:0.298 mbsize:766 gloss:0.5852 dlossA:0.6640 dlossQ:1.6681 exploreP:0.8240\n",
      "Episode:80 meanR:24.6296 R:38.0 rate:0.076 maxrate:0.298 mbsize:766 gloss:0.5848 dlossA:0.6639 dlossQ:1.6646 exploreP:0.8209\n",
      "Episode:81 meanR:24.4634 R:11.0 rate:0.022 maxrate:0.298 mbsize:766 gloss:0.5844 dlossA:0.6639 dlossQ:1.6612 exploreP:0.8201\n",
      "Episode:82 meanR:24.5301 R:30.0 rate:0.06 maxrate:0.298 mbsize:766 gloss:0.5840 dlossA:0.6638 dlossQ:1.6578 exploreP:0.8176\n",
      "Episode:83 meanR:24.3929 R:13.0 rate:0.026 maxrate:0.298 mbsize:766 gloss:0.5836 dlossA:0.6638 dlossQ:1.6544 exploreP:0.8166\n",
      "Episode:84 meanR:24.4941 R:33.0 rate:0.066 maxrate:0.298 mbsize:766 gloss:0.5833 dlossA:0.6637 dlossQ:1.6511 exploreP:0.8139\n",
      "Episode:85 meanR:24.4070 R:17.0 rate:0.034 maxrate:0.298 mbsize:766 gloss:0.5829 dlossA:0.6637 dlossQ:1.6477 exploreP:0.8126\n",
      "Episode:86 meanR:24.4138 R:25.0 rate:0.05 maxrate:0.298 mbsize:766 gloss:0.5825 dlossA:0.6636 dlossQ:1.6443 exploreP:0.8106\n",
      "Episode:87 meanR:24.2955 R:14.0 rate:0.028 maxrate:0.298 mbsize:766 gloss:0.5821 dlossA:0.6635 dlossQ:1.6410 exploreP:0.8094\n",
      "Episode:88 meanR:24.4270 R:36.0 rate:0.072 maxrate:0.298 mbsize:766 gloss:0.5817 dlossA:0.6634 dlossQ:1.6377 exploreP:0.8066\n",
      "Episode:89 meanR:24.2444 R:8.0 rate:0.016 maxrate:0.298 mbsize:766 gloss:0.5813 dlossA:0.6634 dlossQ:1.6344 exploreP:0.8059\n",
      "Episode:90 meanR:24.4286 R:41.0 rate:0.082 maxrate:0.298 mbsize:766 gloss:0.5809 dlossA:0.6633 dlossQ:1.6311 exploreP:0.8027\n",
      "Episode:91 meanR:24.4239 R:24.0 rate:0.048 maxrate:0.298 mbsize:766 gloss:0.5805 dlossA:0.6632 dlossQ:1.6278 exploreP:0.8008\n",
      "Episode:92 meanR:25.1935 R:96.0 rate:0.192 maxrate:0.298 mbsize:766 gloss:0.5801 dlossA:0.6632 dlossQ:1.6245 exploreP:0.7932\n",
      "Episode:93 meanR:25.2660 R:32.0 rate:0.064 maxrate:0.298 mbsize:766 gloss:0.5797 dlossA:0.6631 dlossQ:1.6213 exploreP:0.7907\n",
      "Episode:94 meanR:25.2000 R:19.0 rate:0.038 maxrate:0.298 mbsize:766 gloss:0.5793 dlossA:0.6631 dlossQ:1.6180 exploreP:0.7892\n",
      "Episode:95 meanR:25.0417 R:10.0 rate:0.02 maxrate:0.298 mbsize:766 gloss:0.5789 dlossA:0.6630 dlossQ:1.6148 exploreP:0.7885\n",
      "Episode:96 meanR:25.4021 R:60.0 rate:0.12 maxrate:0.298 mbsize:766 gloss:0.5785 dlossA:0.6630 dlossQ:1.6116 exploreP:0.7838\n",
      "Episode:97 meanR:25.8673 R:71.0 rate:0.142 maxrate:0.298 mbsize:766 gloss:0.5781 dlossA:0.6629 dlossQ:1.6084 exploreP:0.7783\n",
      "Episode:98 meanR:26.4545 R:84.0 rate:0.168 maxrate:0.298 mbsize:766 gloss:0.5777 dlossA:0.6628 dlossQ:1.6052 exploreP:0.7719\n",
      "Episode:99 meanR:26.6500 R:46.0 rate:0.092 maxrate:0.298 mbsize:766 gloss:0.5773 dlossA:0.6628 dlossQ:1.6021 exploreP:0.7684\n",
      "Episode:100 meanR:26.9600 R:44.0 rate:0.088 maxrate:0.298 mbsize:766 gloss:0.5769 dlossA:0.6626 dlossQ:1.5989 exploreP:0.7651\n",
      "Episode:101 meanR:26.7900 R:14.0 rate:0.028 maxrate:0.298 mbsize:766 gloss:0.5765 dlossA:0.6626 dlossQ:1.5958 exploreP:0.7640\n",
      "Episode:102 meanR:27.0000 R:33.0 rate:0.066 maxrate:0.298 mbsize:766 gloss:0.5761 dlossA:0.6625 dlossQ:1.5927 exploreP:0.7615\n",
      "Episode:103 meanR:26.8200 R:31.0 rate:0.062 maxrate:0.298 mbsize:766 gloss:0.5757 dlossA:0.6624 dlossQ:1.5896 exploreP:0.7592\n",
      "Episode:104 meanR:27.0600 R:50.0 rate:0.1 maxrate:0.298 mbsize:766 gloss:0.5753 dlossA:0.6624 dlossQ:1.5866 exploreP:0.7555\n",
      "Episode:105 meanR:27.1800 R:34.0 rate:0.068 maxrate:0.298 mbsize:766 gloss:0.5749 dlossA:0.6623 dlossQ:1.5835 exploreP:0.7529\n",
      "Episode:106 meanR:27.4600 R:52.0 rate:0.104 maxrate:0.298 mbsize:766 gloss:0.5745 dlossA:0.6622 dlossQ:1.5805 exploreP:0.7491\n",
      "Episode:107 meanR:27.8400 R:48.0 rate:0.096 maxrate:0.298 mbsize:766 gloss:0.5741 dlossA:0.6621 dlossQ:1.5774 exploreP:0.7455\n",
      "Episode:108 meanR:27.9700 R:23.0 rate:0.046 maxrate:0.298 mbsize:766 gloss:0.5737 dlossA:0.6621 dlossQ:1.5744 exploreP:0.7439\n",
      "Episode:109 meanR:28.4900 R:72.0 rate:0.144 maxrate:0.298 mbsize:766 gloss:0.5733 dlossA:0.6621 dlossQ:1.5714 exploreP:0.7386\n",
      "Episode:110 meanR:28.5200 R:20.0 rate:0.04 maxrate:0.298 mbsize:766 gloss:0.5729 dlossA:0.6619 dlossQ:1.5685 exploreP:0.7371\n",
      "Episode:111 meanR:28.6000 R:24.0 rate:0.048 maxrate:0.298 mbsize:766 gloss:0.5725 dlossA:0.6619 dlossQ:1.5655 exploreP:0.7354\n",
      "Episode:112 meanR:28.6300 R:22.0 rate:0.044 maxrate:0.298 mbsize:766 gloss:0.5721 dlossA:0.6618 dlossQ:1.5625 exploreP:0.7338\n",
      "Episode:113 meanR:28.6200 R:19.0 rate:0.038 maxrate:0.298 mbsize:766 gloss:0.5717 dlossA:0.6617 dlossQ:1.5596 exploreP:0.7324\n",
      "Episode:114 meanR:29.2100 R:70.0 rate:0.14 maxrate:0.298 mbsize:766 gloss:0.5713 dlossA:0.6617 dlossQ:1.5567 exploreP:0.7274\n",
      "Episode:115 meanR:29.3900 R:40.0 rate:0.08 maxrate:0.298 mbsize:766 gloss:0.5708 dlossA:0.6616 dlossQ:1.5538 exploreP:0.7245\n",
      "Episode:116 meanR:29.3300 R:14.0 rate:0.028 maxrate:0.298 mbsize:766 gloss:0.5704 dlossA:0.6615 dlossQ:1.5509 exploreP:0.7235\n",
      "Episode:117 meanR:29.1600 R:9.0 rate:0.018 maxrate:0.298 mbsize:766 gloss:0.5700 dlossA:0.6615 dlossQ:1.5480 exploreP:0.7229\n",
      "Episode:118 meanR:29.2700 R:22.0 rate:0.044 maxrate:0.298 mbsize:766 gloss:0.5696 dlossA:0.6613 dlossQ:1.5452 exploreP:0.7213\n",
      "Episode:119 meanR:29.4100 R:30.0 rate:0.06 maxrate:0.298 mbsize:766 gloss:0.5692 dlossA:0.6613 dlossQ:1.5423 exploreP:0.7192\n",
      "Episode:120 meanR:29.6300 R:41.0 rate:0.082 maxrate:0.298 mbsize:766 gloss:0.5688 dlossA:0.6612 dlossQ:1.5395 exploreP:0.7163\n",
      "Episode:121 meanR:30.1100 R:58.0 rate:0.116 maxrate:0.298 mbsize:766 gloss:0.5684 dlossA:0.6612 dlossQ:1.5367 exploreP:0.7122\n",
      "Episode:122 meanR:30.1800 R:33.0 rate:0.066 maxrate:0.298 mbsize:766 gloss:0.5680 dlossA:0.6611 dlossQ:1.5339 exploreP:0.7099\n",
      "Episode:123 meanR:30.4100 R:34.0 rate:0.068 maxrate:0.298 mbsize:766 gloss:0.5675 dlossA:0.6610 dlossQ:1.5311 exploreP:0.7075\n",
      "Episode:124 meanR:30.5200 R:35.0 rate:0.07 maxrate:0.298 mbsize:766 gloss:0.5671 dlossA:0.6609 dlossQ:1.5284 exploreP:0.7051\n",
      "Episode:125 meanR:31.1500 R:91.0 rate:0.182 maxrate:0.298 mbsize:766 gloss:0.5667 dlossA:0.6608 dlossQ:1.5256 exploreP:0.6988\n",
      "Episode:126 meanR:31.3600 R:46.0 rate:0.092 maxrate:0.298 mbsize:766 gloss:0.5663 dlossA:0.6608 dlossQ:1.5229 exploreP:0.6956\n",
      "Episode:127 meanR:31.8400 R:67.0 rate:0.134 maxrate:0.298 mbsize:766 gloss:0.5659 dlossA:0.6607 dlossQ:1.5202 exploreP:0.6910\n",
      "Episode:128 meanR:31.8300 R:15.0 rate:0.03 maxrate:0.298 mbsize:766 gloss:0.5655 dlossA:0.6606 dlossQ:1.5175 exploreP:0.6900\n",
      "Episode:129 meanR:32.1700 R:55.0 rate:0.11 maxrate:0.298 mbsize:766 gloss:0.5651 dlossA:0.6605 dlossQ:1.5148 exploreP:0.6863\n",
      "Episode:130 meanR:32.3400 R:39.0 rate:0.078 maxrate:0.298 mbsize:766 gloss:0.5646 dlossA:0.6605 dlossQ:1.5121 exploreP:0.6836\n",
      "Episode:131 meanR:32.4700 R:36.0 rate:0.072 maxrate:0.298 mbsize:766 gloss:0.5642 dlossA:0.6604 dlossQ:1.5095 exploreP:0.6812\n"
     ]
    },
    {
     "name": "stdout",
     "output_type": "stream",
     "text": [
      "Episode:132 meanR:32.5300 R:19.0 rate:0.038 maxrate:0.298 mbsize:766 gloss:0.5638 dlossA:0.6602 dlossQ:1.5068 exploreP:0.6800\n",
      "Episode:133 meanR:32.6000 R:17.0 rate:0.034 maxrate:0.298 mbsize:766 gloss:0.5634 dlossA:0.6602 dlossQ:1.5042 exploreP:0.6788\n",
      "Episode:134 meanR:32.4900 R:11.0 rate:0.022 maxrate:0.298 mbsize:766 gloss:0.5630 dlossA:0.6601 dlossQ:1.5016 exploreP:0.6781\n",
      "Episode:135 meanR:32.9200 R:61.0 rate:0.122 maxrate:0.298 mbsize:766 gloss:0.5626 dlossA:0.6600 dlossQ:1.4990 exploreP:0.6740\n",
      "Episode:136 meanR:33.4300 R:84.0 rate:0.168 maxrate:0.298 mbsize:766 gloss:0.5621 dlossA:0.6599 dlossQ:1.4964 exploreP:0.6685\n",
      "Episode:137 meanR:33.5800 R:89.0 rate:0.178 maxrate:0.298 mbsize:766 gloss:0.5617 dlossA:0.6599 dlossQ:1.4939 exploreP:0.6626\n",
      "Episode:138 meanR:33.1900 R:18.0 rate:0.036 maxrate:0.298 mbsize:766 gloss:0.5613 dlossA:0.6598 dlossQ:1.4913 exploreP:0.6615\n",
      "Episode:139 meanR:33.0700 R:9.0 rate:0.018 maxrate:0.298 mbsize:766 gloss:0.5609 dlossA:0.6597 dlossQ:1.4888 exploreP:0.6609\n",
      "Episode:140 meanR:33.8800 R:97.0 rate:0.194 maxrate:0.298 mbsize:766 gloss:0.5605 dlossA:0.6596 dlossQ:1.4863 exploreP:0.6546\n",
      "Episode:141 meanR:33.9300 R:21.0 rate:0.042 maxrate:0.298 mbsize:766 gloss:0.5601 dlossA:0.6595 dlossQ:1.4838 exploreP:0.6532\n",
      "Episode:142 meanR:34.0700 R:28.0 rate:0.056 maxrate:0.298 mbsize:766 gloss:0.5597 dlossA:0.6595 dlossQ:1.4813 exploreP:0.6514\n",
      "Episode:143 meanR:33.8000 R:51.0 rate:0.102 maxrate:0.298 mbsize:766 gloss:0.5592 dlossA:0.6594 dlossQ:1.4788 exploreP:0.6482\n",
      "Episode:144 meanR:33.7200 R:16.0 rate:0.032 maxrate:0.298 mbsize:766 gloss:0.5588 dlossA:0.6593 dlossQ:1.4763 exploreP:0.6471\n",
      "Episode:145 meanR:34.2400 R:81.0 rate:0.162 maxrate:0.298 mbsize:766 gloss:0.5584 dlossA:0.6592 dlossQ:1.4739 exploreP:0.6420\n",
      "Episode:146 meanR:34.7000 R:100.0 rate:0.2 maxrate:0.298 mbsize:766 gloss:0.5580 dlossA:0.6592 dlossQ:1.4715 exploreP:0.6357\n",
      "Episode:147 meanR:34.9700 R:55.0 rate:0.11 maxrate:0.298 mbsize:766 gloss:0.5576 dlossA:0.6591 dlossQ:1.4690 exploreP:0.6323\n",
      "Episode:148 meanR:35.7400 R:90.0 rate:0.18 maxrate:0.298 mbsize:766 gloss:0.5571 dlossA:0.6590 dlossQ:1.4666 exploreP:0.6267\n",
      "Episode:149 meanR:36.5400 R:98.0 rate:0.196 maxrate:0.298 mbsize:766 gloss:0.5567 dlossA:0.6589 dlossQ:1.4642 exploreP:0.6207\n",
      "Episode:150 meanR:37.1600 R:99.0 rate:0.198 maxrate:0.298 mbsize:766 gloss:0.5563 dlossA:0.6588 dlossQ:1.4619 exploreP:0.6147\n",
      "Episode:151 meanR:37.5300 R:62.0 rate:0.124 maxrate:0.298 mbsize:766 gloss:0.5559 dlossA:0.6587 dlossQ:1.4595 exploreP:0.6109\n",
      "Episode:152 meanR:37.7800 R:72.0 rate:0.144 maxrate:0.298 mbsize:766 gloss:0.5555 dlossA:0.6586 dlossQ:1.4571 exploreP:0.6066\n",
      "Episode:153 meanR:38.3600 R:78.0 rate:0.156 maxrate:0.298 mbsize:766 gloss:0.5550 dlossA:0.6586 dlossQ:1.4548 exploreP:0.6020\n",
      "Episode:154 meanR:39.2400 R:120.0 rate:0.24 maxrate:0.298 mbsize:886 gloss:0.5548 dlossA:0.6583 dlossQ:1.4567 exploreP:0.5949\n",
      "Episode:155 meanR:39.3400 R:34.0 rate:0.068 maxrate:0.298 mbsize:886 gloss:0.5544 dlossA:0.6583 dlossQ:1.4544 exploreP:0.5930\n",
      "Episode:156 meanR:39.5200 R:51.0 rate:0.102 maxrate:0.298 mbsize:886 gloss:0.5540 dlossA:0.6583 dlossQ:1.4521 exploreP:0.5900\n",
      "Episode:157 meanR:39.3800 R:16.0 rate:0.032 maxrate:0.298 mbsize:886 gloss:0.5536 dlossA:0.6581 dlossQ:1.4497 exploreP:0.5891\n",
      "Episode:158 meanR:39.8800 R:79.0 rate:0.158 maxrate:0.298 mbsize:886 gloss:0.5531 dlossA:0.6580 dlossQ:1.4474 exploreP:0.5845\n",
      "Episode:159 meanR:40.1400 R:44.0 rate:0.088 maxrate:0.298 mbsize:886 gloss:0.5527 dlossA:0.6579 dlossQ:1.4450 exploreP:0.5820\n",
      "Episode:160 meanR:41.2900 R:151.0 rate:0.302 maxrate:0.302 mbsize:677 gloss:0.5539 dlossA:0.6615 dlossQ:1.4549 exploreP:0.5734\n",
      "Episode:161 meanR:41.7700 R:71.0 rate:0.142 maxrate:0.302 mbsize:677 gloss:0.5535 dlossA:0.6614 dlossQ:1.4526 exploreP:0.5694\n",
      "Episode:162 meanR:41.8400 R:19.0 rate:0.038 maxrate:0.302 mbsize:677 gloss:0.5531 dlossA:0.6613 dlossQ:1.4502 exploreP:0.5684\n",
      "Episode:163 meanR:41.7500 R:25.0 rate:0.05 maxrate:0.302 mbsize:677 gloss:0.5527 dlossA:0.6613 dlossQ:1.4479 exploreP:0.5670\n",
      "Episode:164 meanR:42.6700 R:114.0 rate:0.228 maxrate:0.302 mbsize:677 gloss:0.5523 dlossA:0.6612 dlossQ:1.4456 exploreP:0.5607\n",
      "Episode:165 meanR:43.1300 R:78.0 rate:0.156 maxrate:0.302 mbsize:677 gloss:0.5519 dlossA:0.6611 dlossQ:1.4432 exploreP:0.5564\n",
      "Episode:166 meanR:43.5300 R:83.0 rate:0.166 maxrate:0.302 mbsize:677 gloss:0.5515 dlossA:0.6611 dlossQ:1.4409 exploreP:0.5519\n",
      "Episode:167 meanR:44.0700 R:90.0 rate:0.18 maxrate:0.302 mbsize:677 gloss:0.5511 dlossA:0.6611 dlossQ:1.4386 exploreP:0.5470\n",
      "Episode:168 meanR:45.2400 R:135.0 rate:0.27 maxrate:0.302 mbsize:812 gloss:0.5499 dlossA:0.6609 dlossQ:1.4394 exploreP:0.5398\n",
      "Episode:169 meanR:45.3400 R:38.0 rate:0.076 maxrate:0.302 mbsize:812 gloss:0.5495 dlossA:0.6608 dlossQ:1.4371 exploreP:0.5378\n",
      "Episode:170 meanR:45.4800 R:27.0 rate:0.054 maxrate:0.302 mbsize:812 gloss:0.5492 dlossA:0.6608 dlossQ:1.4347 exploreP:0.5364\n",
      "Episode:171 meanR:46.8200 R:150.0 rate:0.3 maxrate:0.302 mbsize:962 gloss:0.5497 dlossA:0.6620 dlossQ:1.4393 exploreP:0.5285\n",
      "Episode:172 meanR:47.1800 R:51.0 rate:0.102 maxrate:0.302 mbsize:962 gloss:0.5493 dlossA:0.6619 dlossQ:1.4368 exploreP:0.5259\n",
      "Episode:173 meanR:47.8400 R:85.0 rate:0.17 maxrate:0.302 mbsize:962 gloss:0.5489 dlossA:0.6619 dlossQ:1.4343 exploreP:0.5215\n",
      "Episode:174 meanR:47.8600 R:18.0 rate:0.036 maxrate:0.302 mbsize:962 gloss:0.5484 dlossA:0.6618 dlossQ:1.4318 exploreP:0.5206\n",
      "Episode:175 meanR:48.1600 R:95.0 rate:0.19 maxrate:0.302 mbsize:962 gloss:0.5480 dlossA:0.6617 dlossQ:1.4293 exploreP:0.5158\n",
      "Episode:176 meanR:48.4000 R:35.0 rate:0.07 maxrate:0.302 mbsize:962 gloss:0.5476 dlossA:0.6617 dlossQ:1.4267 exploreP:0.5140\n",
      "Episode:177 meanR:49.4200 R:116.0 rate:0.232 maxrate:0.302 mbsize:962 gloss:0.5471 dlossA:0.6616 dlossQ:1.4241 exploreP:0.5082\n",
      "Episode:178 meanR:50.8600 R:160.0 rate:0.32 maxrate:0.32 mbsize:873 gloss:0.5498 dlossA:0.6654 dlossQ:1.4408 exploreP:0.5003\n",
      "Episode:179 meanR:51.6400 R:94.0 rate:0.188 maxrate:0.32 mbsize:873 gloss:0.5492 dlossA:0.6653 dlossQ:1.4382 exploreP:0.4957\n",
      "Episode:180 meanR:51.6600 R:40.0 rate:0.08 maxrate:0.32 mbsize:873 gloss:0.5487 dlossA:0.6653 dlossQ:1.4355 exploreP:0.4938\n",
      "Episode:181 meanR:52.9700 R:142.0 rate:0.284 maxrate:0.32 mbsize:1015 gloss:0.5464 dlossA:0.6645 dlossQ:1.4279 exploreP:0.4869\n",
      "Episode:182 meanR:52.9500 R:28.0 rate:0.056 maxrate:0.32 mbsize:1015 gloss:0.5458 dlossA:0.6644 dlossQ:1.4251 exploreP:0.4856\n",
      "Episode:183 meanR:53.5000 R:68.0 rate:0.136 maxrate:0.32 mbsize:1015 gloss:0.5452 dlossA:0.6644 dlossQ:1.4224 exploreP:0.4824\n",
      "Episode:184 meanR:53.6600 R:49.0 rate:0.098 maxrate:0.32 mbsize:1015 gloss:0.5446 dlossA:0.6644 dlossQ:1.4195 exploreP:0.4801\n",
      "Episode:185 meanR:54.5700 R:108.0 rate:0.216 maxrate:0.32 mbsize:1015 gloss:0.5440 dlossA:0.6642 dlossQ:1.4167 exploreP:0.4750\n",
      "Episode:186 meanR:55.3900 R:107.0 rate:0.214 maxrate:0.32 mbsize:1015 gloss:0.5433 dlossA:0.6642 dlossQ:1.4139 exploreP:0.4701\n",
      "Episode:187 meanR:56.0900 R:84.0 rate:0.168 maxrate:0.32 mbsize:1015 gloss:0.5427 dlossA:0.6641 dlossQ:1.4110 exploreP:0.4662\n",
      "Episode:188 meanR:57.0600 R:133.0 rate:0.266 maxrate:0.32 mbsize:1148 gloss:0.5459 dlossA:0.6650 dlossQ:1.4162 exploreP:0.4602\n",
      "Episode:189 meanR:58.0600 R:108.0 rate:0.216 maxrate:0.32 mbsize:1148 gloss:0.5453 dlossA:0.6649 dlossQ:1.4134 exploreP:0.4554\n",
      "Episode:190 meanR:58.7700 R:112.0 rate:0.224 maxrate:0.32 mbsize:1148 gloss:0.5446 dlossA:0.6649 dlossQ:1.4105 exploreP:0.4504\n",
      "Episode:191 meanR:59.2900 R:76.0 rate:0.152 maxrate:0.32 mbsize:1148 gloss:0.5439 dlossA:0.6648 dlossQ:1.4077 exploreP:0.4471\n",
      "Episode:192 meanR:59.2300 R:90.0 rate:0.18 maxrate:0.32 mbsize:1148 gloss:0.5433 dlossA:0.6647 dlossQ:1.4048 exploreP:0.4432\n",
      "Episode:193 meanR:60.1600 R:125.0 rate:0.25 maxrate:0.32 mbsize:1148 gloss:0.5426 dlossA:0.6646 dlossQ:1.4020 exploreP:0.4378\n",
      "Episode:194 meanR:61.3400 R:137.0 rate:0.274 maxrate:0.32 mbsize:1285 gloss:0.5395 dlossA:0.6636 dlossQ:1.3939 exploreP:0.4320\n",
      "Episode:195 meanR:62.4600 R:122.0 rate:0.244 maxrate:0.32 mbsize:1285 gloss:0.5388 dlossA:0.6635 dlossQ:1.3912 exploreP:0.4268\n",
      "Episode:196 meanR:62.6700 R:81.0 rate:0.162 maxrate:0.32 mbsize:1285 gloss:0.5382 dlossA:0.6634 dlossQ:1.3884 exploreP:0.4235\n",
      "Episode:197 meanR:63.0400 R:108.0 rate:0.216 maxrate:0.32 mbsize:1285 gloss:0.5375 dlossA:0.6634 dlossQ:1.3857 exploreP:0.4190\n"
     ]
    },
    {
     "name": "stdout",
     "output_type": "stream",
     "text": [
      "Episode:198 meanR:63.6200 R:142.0 rate:0.284 maxrate:0.32 mbsize:1427 gloss:0.5366 dlossA:0.6632 dlossQ:1.3806 exploreP:0.4133\n",
      "Episode:199 meanR:64.6200 R:146.0 rate:0.292 maxrate:0.32 mbsize:1573 gloss:0.5381 dlossA:0.6642 dlossQ:1.3846 exploreP:0.4074\n",
      "Episode:200 meanR:65.1700 R:99.0 rate:0.198 maxrate:0.32 mbsize:1573 gloss:0.5375 dlossA:0.6642 dlossQ:1.3819 exploreP:0.4035\n",
      "Episode:201 meanR:65.5400 R:51.0 rate:0.102 maxrate:0.32 mbsize:1573 gloss:0.5368 dlossA:0.6641 dlossQ:1.3793 exploreP:0.4015\n",
      "Episode:202 meanR:66.1900 R:98.0 rate:0.196 maxrate:0.32 mbsize:1573 gloss:0.5362 dlossA:0.6641 dlossQ:1.3766 exploreP:0.3977\n",
      "Episode:203 meanR:67.0000 R:112.0 rate:0.224 maxrate:0.32 mbsize:1573 gloss:0.5355 dlossA:0.6639 dlossQ:1.3740 exploreP:0.3934\n",
      "Episode:204 meanR:66.8800 R:38.0 rate:0.076 maxrate:0.32 mbsize:1573 gloss:0.5349 dlossA:0.6639 dlossQ:1.3714 exploreP:0.3919\n",
      "Episode:205 meanR:67.7400 R:120.0 rate:0.24 maxrate:0.32 mbsize:1573 gloss:0.5342 dlossA:0.6639 dlossQ:1.3688 exploreP:0.3874\n",
      "Episode:206 meanR:67.4900 R:27.0 rate:0.054 maxrate:0.32 mbsize:1573 gloss:0.5335 dlossA:0.6637 dlossQ:1.3662 exploreP:0.3863\n",
      "Episode:207 meanR:67.7800 R:77.0 rate:0.154 maxrate:0.32 mbsize:1573 gloss:0.5329 dlossA:0.6637 dlossQ:1.3637 exploreP:0.3835\n",
      "Episode:208 meanR:67.8000 R:25.0 rate:0.05 maxrate:0.32 mbsize:1573 gloss:0.5322 dlossA:0.6636 dlossQ:1.3611 exploreP:0.3825\n",
      "Episode:209 meanR:67.9200 R:84.0 rate:0.168 maxrate:0.32 mbsize:1573 gloss:0.5316 dlossA:0.6635 dlossQ:1.3586 exploreP:0.3794\n",
      "Episode:210 meanR:67.9700 R:25.0 rate:0.05 maxrate:0.32 mbsize:1573 gloss:0.5309 dlossA:0.6635 dlossQ:1.3561 exploreP:0.3785\n",
      "Episode:211 meanR:68.5000 R:77.0 rate:0.154 maxrate:0.32 mbsize:1573 gloss:0.5303 dlossA:0.6634 dlossQ:1.3536 exploreP:0.3757\n",
      "Episode:212 meanR:68.9800 R:70.0 rate:0.14 maxrate:0.32 mbsize:1573 gloss:0.5296 dlossA:0.6633 dlossQ:1.3512 exploreP:0.3731\n",
      "Episode:213 meanR:69.8800 R:109.0 rate:0.218 maxrate:0.32 mbsize:1573 gloss:0.5290 dlossA:0.6632 dlossQ:1.3487 exploreP:0.3692\n",
      "Episode:214 meanR:69.5800 R:40.0 rate:0.08 maxrate:0.32 mbsize:1573 gloss:0.5284 dlossA:0.6631 dlossQ:1.3462 exploreP:0.3677\n",
      "Episode:215 meanR:69.8300 R:65.0 rate:0.13 maxrate:0.32 mbsize:1573 gloss:0.5277 dlossA:0.6631 dlossQ:1.3438 exploreP:0.3654\n",
      "Episode:216 meanR:70.2300 R:54.0 rate:0.108 maxrate:0.32 mbsize:1573 gloss:0.5271 dlossA:0.6630 dlossQ:1.3414 exploreP:0.3635\n",
      "Episode:217 meanR:71.7000 R:156.0 rate:0.312 maxrate:0.32 mbsize:1729 gloss:0.5281 dlossA:0.6641 dlossQ:1.3461 exploreP:0.3580\n",
      "Episode:218 meanR:72.0200 R:54.0 rate:0.108 maxrate:0.32 mbsize:1729 gloss:0.5275 dlossA:0.6640 dlossQ:1.3437 exploreP:0.3562\n",
      "Episode:219 meanR:72.6000 R:88.0 rate:0.176 maxrate:0.32 mbsize:1729 gloss:0.5268 dlossA:0.6638 dlossQ:1.3413 exploreP:0.3531\n",
      "Episode:220 meanR:74.0800 R:189.0 rate:0.378 maxrate:0.378 mbsize:505 gloss:0.5179 dlossA:0.6765 dlossQ:1.3644 exploreP:0.3467\n",
      "Episode:221 meanR:73.9300 R:43.0 rate:0.086 maxrate:0.378 mbsize:505 gloss:0.5171 dlossA:0.6765 dlossQ:1.3619 exploreP:0.3453\n",
      "Episode:222 meanR:74.8000 R:120.0 rate:0.24 maxrate:0.378 mbsize:505 gloss:0.5162 dlossA:0.6764 dlossQ:1.3595 exploreP:0.3413\n",
      "Episode:223 meanR:75.3300 R:87.0 rate:0.174 maxrate:0.378 mbsize:505 gloss:0.5153 dlossA:0.6764 dlossQ:1.3570 exploreP:0.3384\n",
      "Episode:224 meanR:75.5700 R:59.0 rate:0.118 maxrate:0.378 mbsize:505 gloss:0.5144 dlossA:0.6763 dlossQ:1.3545 exploreP:0.3365\n",
      "Episode:225 meanR:76.6500 R:199.0 rate:0.398 maxrate:0.398 mbsize:548 gloss:0.5122 dlossA:0.6791 dlossQ:1.3419 exploreP:0.3300\n",
      "Episode:226 meanR:76.7500 R:56.0 rate:0.112 maxrate:0.398 mbsize:548 gloss:0.5113 dlossA:0.6791 dlossQ:1.3394 exploreP:0.3282\n",
      "Episode:227 meanR:77.5400 R:146.0 rate:0.292 maxrate:0.398 mbsize:548 gloss:0.5104 dlossA:0.6790 dlossQ:1.3369 exploreP:0.3236\n",
      "Episode:228 meanR:78.4500 R:106.0 rate:0.212 maxrate:0.398 mbsize:548 gloss:0.5095 dlossA:0.6790 dlossQ:1.3344 exploreP:0.3203\n",
      "Episode:229 meanR:80.1300 R:223.0 rate:0.446 maxrate:0.446 mbsize:611 gloss:0.5074 dlossA:0.6833 dlossQ:1.3333 exploreP:0.3135\n",
      "Episode:230 meanR:80.9100 R:117.0 rate:0.234 maxrate:0.446 mbsize:611 gloss:0.5066 dlossA:0.6833 dlossQ:1.3311 exploreP:0.3099\n",
      "Episode:231 meanR:81.4000 R:85.0 rate:0.17 maxrate:0.446 mbsize:611 gloss:0.5059 dlossA:0.6833 dlossQ:1.3288 exploreP:0.3074\n",
      "Episode:232 meanR:83.6700 R:246.0 rate:0.492 maxrate:0.492 mbsize:668 gloss:0.5349 dlossA:0.6889 dlossQ:1.3732 exploreP:0.3002\n",
      "Episode:233 meanR:85.7200 R:222.0 rate:0.444 maxrate:0.492 mbsize:890 gloss:0.5324 dlossA:0.6889 dlossQ:1.3711 exploreP:0.2938\n",
      "Episode:234 meanR:86.5400 R:93.0 rate:0.186 maxrate:0.492 mbsize:890 gloss:0.5317 dlossA:0.6889 dlossQ:1.3685 exploreP:0.2912\n",
      "Episode:235 meanR:86.8800 R:95.0 rate:0.19 maxrate:0.492 mbsize:890 gloss:0.5310 dlossA:0.6889 dlossQ:1.3659 exploreP:0.2885\n",
      "Episode:236 meanR:88.1700 R:213.0 rate:0.426 maxrate:0.492 mbsize:1103 gloss:0.5273 dlossA:0.6884 dlossQ:1.3572 exploreP:0.2827\n",
      "Episode:237 meanR:87.8400 R:56.0 rate:0.112 maxrate:0.492 mbsize:1103 gloss:0.5266 dlossA:0.6884 dlossQ:1.3544 exploreP:0.2811\n",
      "Episode:238 meanR:88.5000 R:84.0 rate:0.168 maxrate:0.492 mbsize:1103 gloss:0.5259 dlossA:0.6884 dlossQ:1.3515 exploreP:0.2789\n",
      "Episode:239 meanR:89.4700 R:106.0 rate:0.212 maxrate:0.492 mbsize:1103 gloss:0.5253 dlossA:0.6884 dlossQ:1.3485 exploreP:0.2760\n",
      "Episode:240 meanR:89.4700 R:97.0 rate:0.194 maxrate:0.492 mbsize:1103 gloss:0.5246 dlossA:0.6884 dlossQ:1.3454 exploreP:0.2735\n",
      "Episode:241 meanR:90.5400 R:128.0 rate:0.256 maxrate:0.492 mbsize:1103 gloss:0.5240 dlossA:0.6885 dlossQ:1.3424 exploreP:0.2701\n",
      "Episode:242 meanR:91.1300 R:87.0 rate:0.174 maxrate:0.492 mbsize:1103 gloss:0.5233 dlossA:0.6885 dlossQ:1.3393 exploreP:0.2679\n",
      "Episode:243 meanR:92.7600 R:214.0 rate:0.428 maxrate:0.492 mbsize:1317 gloss:0.5223 dlossA:0.6883 dlossQ:1.3378 exploreP:0.2624\n",
      "Episode:244 meanR:93.8800 R:128.0 rate:0.256 maxrate:0.492 mbsize:1317 gloss:0.5217 dlossA:0.6883 dlossQ:1.3346 exploreP:0.2592\n",
      "Episode:245 meanR:93.7800 R:71.0 rate:0.142 maxrate:0.492 mbsize:1317 gloss:0.5211 dlossA:0.6883 dlossQ:1.3314 exploreP:0.2574\n",
      "Episode:246 meanR:93.6200 R:84.0 rate:0.168 maxrate:0.492 mbsize:1317 gloss:0.5205 dlossA:0.6883 dlossQ:1.3282 exploreP:0.2554\n",
      "Episode:247 meanR:94.1400 R:107.0 rate:0.214 maxrate:0.492 mbsize:1317 gloss:0.5199 dlossA:0.6883 dlossQ:1.3249 exploreP:0.2527\n",
      "Episode:248 meanR:94.3400 R:110.0 rate:0.22 maxrate:0.492 mbsize:1317 gloss:0.5193 dlossA:0.6884 dlossQ:1.3217 exploreP:0.2501\n",
      "Episode:249 meanR:94.1000 R:74.0 rate:0.148 maxrate:0.492 mbsize:1317 gloss:0.5188 dlossA:0.6884 dlossQ:1.3185 exploreP:0.2483\n",
      "Episode:250 meanR:95.0200 R:191.0 rate:0.382 maxrate:0.492 mbsize:1317 gloss:0.5182 dlossA:0.6884 dlossQ:1.3152 exploreP:0.2438\n",
      "Episode:251 meanR:95.8000 R:140.0 rate:0.28 maxrate:0.492 mbsize:1317 gloss:0.5177 dlossA:0.6884 dlossQ:1.3120 exploreP:0.2406\n",
      "Episode:252 meanR:95.8200 R:74.0 rate:0.148 maxrate:0.492 mbsize:1317 gloss:0.5171 dlossA:0.6884 dlossQ:1.3087 exploreP:0.2389\n",
      "Episode:253 meanR:95.9800 R:94.0 rate:0.188 maxrate:0.492 mbsize:1317 gloss:0.5166 dlossA:0.6884 dlossQ:1.3055 exploreP:0.2367\n",
      "Episode:254 meanR:95.5500 R:77.0 rate:0.154 maxrate:0.492 mbsize:1317 gloss:0.5161 dlossA:0.6884 dlossQ:1.3023 exploreP:0.2350\n",
      "Episode:255 meanR:96.1700 R:96.0 rate:0.192 maxrate:0.492 mbsize:1317 gloss:0.5156 dlossA:0.6884 dlossQ:1.2991 exploreP:0.2328\n",
      "Episode:256 meanR:96.6600 R:100.0 rate:0.2 maxrate:0.492 mbsize:1317 gloss:0.5151 dlossA:0.6885 dlossQ:1.2959 exploreP:0.2306\n",
      "Episode:257 meanR:97.2400 R:74.0 rate:0.148 maxrate:0.492 mbsize:1317 gloss:0.5146 dlossA:0.6885 dlossQ:1.2927 exploreP:0.2290\n",
      "Episode:258 meanR:97.1700 R:72.0 rate:0.144 maxrate:0.492 mbsize:1317 gloss:0.5141 dlossA:0.6885 dlossQ:1.2895 exploreP:0.2274\n",
      "Episode:259 meanR:97.7300 R:100.0 rate:0.2 maxrate:0.492 mbsize:1317 gloss:0.5136 dlossA:0.6885 dlossQ:1.2863 exploreP:0.2253\n",
      "Episode:260 meanR:97.0500 R:83.0 rate:0.166 maxrate:0.492 mbsize:1317 gloss:0.5131 dlossA:0.6885 dlossQ:1.2831 exploreP:0.2235\n",
      "Episode:261 meanR:97.5400 R:120.0 rate:0.24 maxrate:0.492 mbsize:1317 gloss:0.5127 dlossA:0.6885 dlossQ:1.2800 exploreP:0.2209\n",
      "Episode:262 meanR:98.1400 R:79.0 rate:0.158 maxrate:0.492 mbsize:1317 gloss:0.5122 dlossA:0.6885 dlossQ:1.2768 exploreP:0.2193\n"
     ]
    },
    {
     "name": "stdout",
     "output_type": "stream",
     "text": [
      "Episode:263 meanR:98.5400 R:65.0 rate:0.13 maxrate:0.492 mbsize:1317 gloss:0.5117 dlossA:0.6886 dlossQ:1.2737 exploreP:0.2179\n",
      "Episode:264 meanR:98.5700 R:117.0 rate:0.234 maxrate:0.492 mbsize:1317 gloss:0.5113 dlossA:0.6886 dlossQ:1.2706 exploreP:0.2155\n",
      "Episode:265 meanR:99.1400 R:135.0 rate:0.27 maxrate:0.492 mbsize:1317 gloss:0.5108 dlossA:0.6886 dlossQ:1.2674 exploreP:0.2127\n",
      "Episode:266 meanR:99.1900 R:88.0 rate:0.176 maxrate:0.492 mbsize:1317 gloss:0.5104 dlossA:0.6886 dlossQ:1.2643 exploreP:0.2110\n",
      "Episode:267 meanR:99.2000 R:91.0 rate:0.182 maxrate:0.492 mbsize:1317 gloss:0.5100 dlossA:0.6886 dlossQ:1.2612 exploreP:0.2091\n",
      "Episode:268 meanR:99.1600 R:131.0 rate:0.262 maxrate:0.492 mbsize:1317 gloss:0.5095 dlossA:0.6886 dlossQ:1.2581 exploreP:0.2065\n",
      "Episode:269 meanR:99.8700 R:109.0 rate:0.218 maxrate:0.492 mbsize:1317 gloss:0.5091 dlossA:0.6887 dlossQ:1.2550 exploreP:0.2044\n",
      "Episode:270 meanR:100.9500 R:135.0 rate:0.27 maxrate:0.492 mbsize:1317 gloss:0.5087 dlossA:0.6887 dlossQ:1.2520 exploreP:0.2018\n",
      "Episode:271 meanR:100.1200 R:67.0 rate:0.134 maxrate:0.492 mbsize:1317 gloss:0.5082 dlossA:0.6887 dlossQ:1.2489 exploreP:0.2005\n",
      "Episode:272 meanR:100.8700 R:126.0 rate:0.252 maxrate:0.492 mbsize:1317 gloss:0.5078 dlossA:0.6887 dlossQ:1.2459 exploreP:0.1981\n",
      "Episode:273 meanR:101.2900 R:127.0 rate:0.254 maxrate:0.492 mbsize:1317 gloss:0.5074 dlossA:0.6887 dlossQ:1.2428 exploreP:0.1958\n",
      "Episode:274 meanR:102.6300 R:152.0 rate:0.304 maxrate:0.492 mbsize:1317 gloss:0.5070 dlossA:0.6887 dlossQ:1.2398 exploreP:0.1930\n",
      "Episode:275 meanR:102.8200 R:114.0 rate:0.228 maxrate:0.492 mbsize:1317 gloss:0.5066 dlossA:0.6888 dlossQ:1.2368 exploreP:0.1909\n",
      "Episode:276 meanR:104.1900 R:172.0 rate:0.344 maxrate:0.492 mbsize:1317 gloss:0.5062 dlossA:0.6888 dlossQ:1.2338 exploreP:0.1878\n",
      "Episode:277 meanR:104.1200 R:109.0 rate:0.218 maxrate:0.492 mbsize:1317 gloss:0.5057 dlossA:0.6888 dlossQ:1.2308 exploreP:0.1859\n",
      "Episode:278 meanR:103.3500 R:83.0 rate:0.166 maxrate:0.492 mbsize:1317 gloss:0.5053 dlossA:0.6888 dlossQ:1.2278 exploreP:0.1844\n",
      "Episode:279 meanR:104.2800 R:187.0 rate:0.374 maxrate:0.492 mbsize:1317 gloss:0.5049 dlossA:0.6888 dlossQ:1.2248 exploreP:0.1812\n",
      "Episode:280 meanR:104.8800 R:100.0 rate:0.2 maxrate:0.492 mbsize:1317 gloss:0.5045 dlossA:0.6888 dlossQ:1.2218 exploreP:0.1795\n",
      "Episode:281 meanR:104.2400 R:78.0 rate:0.156 maxrate:0.492 mbsize:1317 gloss:0.5041 dlossA:0.6889 dlossQ:1.2189 exploreP:0.1782\n",
      "Episode:282 meanR:105.0300 R:107.0 rate:0.214 maxrate:0.492 mbsize:1317 gloss:0.5037 dlossA:0.6889 dlossQ:1.2159 exploreP:0.1764\n",
      "Episode:283 meanR:105.5900 R:124.0 rate:0.248 maxrate:0.492 mbsize:1317 gloss:0.5033 dlossA:0.6889 dlossQ:1.2130 exploreP:0.1743\n",
      "Episode:284 meanR:106.8400 R:174.0 rate:0.348 maxrate:0.492 mbsize:1317 gloss:0.5030 dlossA:0.6889 dlossQ:1.2101 exploreP:0.1715\n",
      "Episode:285 meanR:107.0500 R:129.0 rate:0.258 maxrate:0.492 mbsize:1317 gloss:0.5026 dlossA:0.6889 dlossQ:1.2072 exploreP:0.1694\n",
      "Episode:286 meanR:107.9100 R:193.0 rate:0.386 maxrate:0.492 mbsize:1317 gloss:0.5022 dlossA:0.6889 dlossQ:1.2042 exploreP:0.1664\n",
      "Episode:287 meanR:108.4800 R:141.0 rate:0.282 maxrate:0.492 mbsize:1317 gloss:0.5018 dlossA:0.6890 dlossQ:1.2013 exploreP:0.1642\n",
      "Episode:288 meanR:108.4500 R:130.0 rate:0.26 maxrate:0.492 mbsize:1317 gloss:0.5014 dlossA:0.6890 dlossQ:1.1984 exploreP:0.1622\n",
      "Episode:289 meanR:108.2700 R:90.0 rate:0.18 maxrate:0.492 mbsize:1317 gloss:0.5010 dlossA:0.6890 dlossQ:1.1955 exploreP:0.1608\n",
      "Episode:290 meanR:108.4100 R:126.0 rate:0.252 maxrate:0.492 mbsize:1317 gloss:0.5006 dlossA:0.6890 dlossQ:1.1926 exploreP:0.1589\n",
      "Episode:291 meanR:109.0500 R:140.0 rate:0.28 maxrate:0.492 mbsize:1317 gloss:0.5002 dlossA:0.6890 dlossQ:1.1898 exploreP:0.1569\n",
      "Episode:292 meanR:109.2100 R:106.0 rate:0.212 maxrate:0.492 mbsize:1317 gloss:0.4998 dlossA:0.6890 dlossQ:1.1869 exploreP:0.1553\n",
      "Episode:293 meanR:109.5600 R:160.0 rate:0.32 maxrate:0.492 mbsize:1317 gloss:0.4995 dlossA:0.6891 dlossQ:1.1840 exploreP:0.1530\n",
      "Episode:294 meanR:109.5800 R:139.0 rate:0.278 maxrate:0.492 mbsize:1317 gloss:0.4991 dlossA:0.6891 dlossQ:1.1812 exploreP:0.1510\n",
      "Episode:295 meanR:110.8600 R:250.0 rate:0.5 maxrate:0.5 mbsize:1368 gloss:0.4967 dlossA:0.6909 dlossQ:1.1907 exploreP:0.1476\n",
      "Episode:296 meanR:111.5600 R:151.0 rate:0.302 maxrate:0.5 mbsize:1368 gloss:0.4962 dlossA:0.6909 dlossQ:1.1878 exploreP:0.1455\n",
      "Episode:297 meanR:111.5600 R:108.0 rate:0.216 maxrate:0.5 mbsize:1368 gloss:0.4958 dlossA:0.6909 dlossQ:1.1848 exploreP:0.1440\n",
      "Episode:298 meanR:111.1100 R:97.0 rate:0.194 maxrate:0.5 mbsize:1368 gloss:0.4953 dlossA:0.6909 dlossQ:1.1818 exploreP:0.1428\n",
      "Episode:299 meanR:110.8000 R:115.0 rate:0.23 maxrate:0.5 mbsize:1368 gloss:0.4948 dlossA:0.6909 dlossQ:1.1788 exploreP:0.1412\n",
      "Episode:300 meanR:111.8800 R:207.0 rate:0.414 maxrate:0.5 mbsize:1575 gloss:0.4925 dlossA:0.6906 dlossQ:1.1794 exploreP:0.1385\n",
      "Episode:301 meanR:112.8900 R:152.0 rate:0.304 maxrate:0.5 mbsize:1575 gloss:0.4920 dlossA:0.6906 dlossQ:1.1763 exploreP:0.1366\n",
      "Episode:302 meanR:112.7200 R:81.0 rate:0.162 maxrate:0.5 mbsize:1575 gloss:0.4914 dlossA:0.6906 dlossQ:1.1732 exploreP:0.1356\n",
      "Episode:303 meanR:112.5800 R:98.0 rate:0.196 maxrate:0.5 mbsize:1575 gloss:0.4909 dlossA:0.6907 dlossQ:1.1700 exploreP:0.1344\n",
      "Episode:304 meanR:112.9000 R:70.0 rate:0.14 maxrate:0.5 mbsize:1575 gloss:0.4904 dlossA:0.6907 dlossQ:1.1668 exploreP:0.1335\n",
      "Episode:305 meanR:113.5900 R:189.0 rate:0.378 maxrate:0.5 mbsize:1575 gloss:0.4898 dlossA:0.6907 dlossQ:1.1636 exploreP:0.1312\n",
      "Episode:306 meanR:114.5600 R:124.0 rate:0.248 maxrate:0.5 mbsize:1575 gloss:0.4893 dlossA:0.6907 dlossQ:1.1604 exploreP:0.1297\n",
      "Episode:307 meanR:114.9800 R:119.0 rate:0.238 maxrate:0.5 mbsize:1575 gloss:0.4887 dlossA:0.6907 dlossQ:1.1572 exploreP:0.1283\n",
      "Episode:308 meanR:115.3900 R:66.0 rate:0.132 maxrate:0.5 mbsize:1575 gloss:0.4881 dlossA:0.6907 dlossQ:1.1540 exploreP:0.1275\n",
      "Episode:309 meanR:115.1900 R:64.0 rate:0.128 maxrate:0.5 mbsize:1575 gloss:0.4876 dlossA:0.6908 dlossQ:1.1508 exploreP:0.1267\n",
      "Episode:310 meanR:116.3200 R:138.0 rate:0.276 maxrate:0.5 mbsize:1575 gloss:0.4870 dlossA:0.6908 dlossQ:1.1476 exploreP:0.1251\n",
      "Episode:311 meanR:116.5500 R:100.0 rate:0.2 maxrate:0.5 mbsize:1575 gloss:0.4865 dlossA:0.6908 dlossQ:1.1444 exploreP:0.1240\n",
      "Episode:312 meanR:116.5100 R:66.0 rate:0.132 maxrate:0.5 mbsize:1575 gloss:0.4860 dlossA:0.6908 dlossQ:1.1413 exploreP:0.1233\n",
      "Episode:313 meanR:116.9400 R:152.0 rate:0.304 maxrate:0.5 mbsize:1575 gloss:0.4854 dlossA:0.6908 dlossQ:1.1382 exploreP:0.1215\n",
      "Episode:314 meanR:117.8800 R:134.0 rate:0.268 maxrate:0.5 mbsize:1575 gloss:0.4849 dlossA:0.6909 dlossQ:1.1351 exploreP:0.1201\n",
      "Episode:315 meanR:118.5000 R:127.0 rate:0.254 maxrate:0.5 mbsize:1575 gloss:0.4844 dlossA:0.6909 dlossQ:1.1320 exploreP:0.1187\n",
      "Episode:316 meanR:119.3300 R:137.0 rate:0.274 maxrate:0.5 mbsize:1575 gloss:0.4839 dlossA:0.6909 dlossQ:1.1290 exploreP:0.1172\n",
      "Episode:317 meanR:118.4800 R:71.0 rate:0.142 maxrate:0.5 mbsize:1575 gloss:0.4833 dlossA:0.6909 dlossQ:1.1259 exploreP:0.1164\n",
      "Episode:318 meanR:118.6700 R:73.0 rate:0.146 maxrate:0.5 mbsize:1575 gloss:0.4828 dlossA:0.6909 dlossQ:1.1229 exploreP:0.1157\n"
     ]
    }
   ],
   "source": [
    "# Save/load the model and save for plotting\n",
    "saver = tf.train.Saver()\n",
    "episode_rewards_list = [] # goal\n",
    "rewards_list, gloss_list, dloss_list = [], [], []\n",
    "\n",
    "# TF session for training\n",
    "with tf.Session(graph=graph) as sess:\n",
    "    sess.run(tf.global_variables_initializer())\n",
    "    #saver.restore(sess, 'checkpoints/model.ckpt')    \n",
    "    #saver.restore(sess, tf.train.latest_checkpoint('checkpoints'))\n",
    "    total_step = 0 # Explore or exploit parameter\n",
    "    episode_reward = deque(maxlen=100) # 100 episodes average/running average/running mean/window\n",
    "\n",
    "    # Training episodes/epochs\n",
    "    for ep in range(1111):\n",
    "        total_reward = 0 # each episode\n",
    "        #gloss_batch, dloss_batch= [], []\n",
    "        state = env.reset() # each episode\n",
    "        num_step = 0 # each episode\n",
    "\n",
    "        # Training steps/batches\n",
    "        while True:\n",
    "            # Explore (Env) or Exploit (Model)\n",
    "            total_step += 1\n",
    "            explore_p = explore_stop + (explore_start - explore_stop) * np.exp(-decay_rate * total_step) \n",
    "            if explore_p > np.random.rand():\n",
    "                action = env.action_space.sample()\n",
    "            else:\n",
    "                action_logits = sess.run(model.actions_logits, feed_dict={model.states: state.reshape([1, -1])})\n",
    "                action = np.argmax(action_logits) # adding epsilon*noise\n",
    "            next_state, reward, done, _ = env.step(action)\n",
    "            memory.buffer.append([state, action, next_state, reward, float(done)])\n",
    "            memory.rates.append(-1) # empty\n",
    "            num_step += 1 # momory added\n",
    "            total_reward += reward\n",
    "            state = next_state\n",
    "            #gloss_batch.append(gloss)\n",
    "            #dloss_batch.append(dlossA)\n",
    "            if done is True:\n",
    "                break\n",
    "                \n",
    "        # Rating the memory\n",
    "        #if done is True:\n",
    "        rate = total_reward/500 # update rate at the end/ when episode is done\n",
    "        for idx in range(num_step): # episode length\n",
    "            if memory.rates[-1-idx] == -1: # double-check the landmark/marked indexes\n",
    "                memory.rates[-1-idx] = rate # rate the trajectory/data\n",
    "\n",
    "        # Training maxrated batch\n",
    "        batch = memory.buffer\n",
    "        rates = np.array(memory.rates)\n",
    "        percentage = 0.8\n",
    "        states = np.array([each[0] for each in batch])[rates >= (np.max(rates)*percentage)]\n",
    "        actions = np.array([each[1] for each in batch])[rates >= (np.max(rates)*percentage)]\n",
    "        next_states = np.array([each[2] for each in batch])[rates >= (np.max(rates)*percentage)]\n",
    "        rewards = np.array([each[3] for each in batch])[rates >= (np.max(rates)*percentage)]\n",
    "        dones = np.array([each[4] for each in batch])[rates >= (np.max(rates)*percentage)]\n",
    "        maxrates = np.array(memory.rates)[rates >= (np.max(rates)*percentage)]            \n",
    "        nextQs_logits = sess.run(model.Qs_logits, feed_dict = {model.states: next_states})\n",
    "        #nextQs = np.max(nextQs_logits, axis=1) * (1-dones) # DQN\n",
    "        nextQs = nextQs_logits.reshape([-1]) * (1-dones) # DPG\n",
    "        targetQs = rewards + (gamma * nextQs)\n",
    "        gloss, dlossA, dlossQ, _, _, _ = sess.run([model.g_loss, model.d_lossA, model.d_lossQ, \n",
    "                                                   model.g_opt, model.d_optA, model.d_optQ],\n",
    "                                                  feed_dict = {model.states: states, \n",
    "                                                               model.actions: actions,\n",
    "                                                               model.targetQs: targetQs, \n",
    "                                                               model.rates: maxrates})\n",
    "        episode_reward.append(total_reward)\n",
    "        print('Episode:{}'.format(ep),\n",
    "              'meanR:{:.4f}'.format(np.mean(episode_reward)),\n",
    "              'R:{:}'.format(total_reward),\n",
    "              'rate:{}'.format(rate),\n",
    "              'maxrate:{}'.format(np.max(maxrates)),\n",
    "              'mbsize:{}'.format(len(maxrates)),\n",
    "              'gloss:{:.4f}'.format(gloss),\n",
    "              'dlossA:{:.4f}'.format(dlossA),\n",
    "              'dlossQ:{:.4f}'.format(dlossQ),\n",
    "              'exploreP:{:.4f}'.format(explore_p))\n",
    "\n",
    "        # Ploting out\n",
    "        episode_rewards_list.append([ep, np.mean(episode_reward)])\n",
    "        rewards_list.append([ep, total_reward])\n",
    "        #gloss_list.append([ep, np.mean(gloss_batch)])\n",
    "        #dloss_list.append([ep, np.mean(dloss_batch)])\n",
    "        \n",
    "        # Break episode/epoch loop\n",
    "        ## Option 1: Solve the First Version\n",
    "        #The task is episodic, and in order to solve the environment, \n",
    "        #your agent must get an average score of +30 over 100 consecutive episodes.\n",
    "        if np.mean(episode_reward) >= 500:\n",
    "            break\n",
    "            \n",
    "    # At the end of all training episodes/epochs\n",
    "    saver.save(sess, 'checkpoints/model.ckpt')"
   ]
  },
  {
   "cell_type": "markdown",
   "metadata": {},
   "source": [
    "# Visualizing training\n",
    "\n",
    "Below I'll plot the total rewards for each episode. I'm plotting the rolling average too, in blue."
   ]
  },
  {
   "cell_type": "code",
   "execution_count": 81,
   "metadata": {},
   "outputs": [],
   "source": [
    "import matplotlib.pyplot as plt\n",
    "%matplotlib inline\n",
    "\n",
    "def running_mean(x, N):\n",
    "    cumsum = np.cumsum(np.insert(x, 0, 0)) \n",
    "    return (cumsum[N:] - cumsum[:-N]) / N "
   ]
  },
  {
   "cell_type": "code",
   "execution_count": 82,
   "metadata": {},
   "outputs": [
    {
     "data": {
      "text/plain": [
       "Text(0, 0.5, 'Total rewards')"
      ]
     },
     "execution_count": 82,
     "metadata": {},
     "output_type": "execute_result"
    },
    {
     "data": {
      "image/png": "[encoded data removed]",
      "text/plain": [
       "<Figure size 432x288 with 1 Axes>"
      ]
     },
     "metadata": {
      "needs_background": "light"
     },
     "output_type": "display_data"
    }
   ],
   "source": [
    "eps, arr = np.array(episode_rewards_list).T\n",
    "smoothed_arr = running_mean(arr, 10)\n",
    "plt.plot(eps[-len(smoothed_arr):], smoothed_arr)\n",
    "plt.plot(eps, arr, color='grey', alpha=0.3)\n",
    "plt.xlabel('Episode')\n",
    "plt.ylabel('Total rewards')"
   ]
  },
  {
   "cell_type": "code",
   "execution_count": 42,
   "metadata": {},
   "outputs": [
    {
     "data": {
      "text/plain": [
       "Text(0,0.5,'Total rewards')"
      ]
     },
     "execution_count": 42,
     "metadata": {},
     "output_type": "execute_result"
    },
    {
     "data": {
      "image/png": "[encoded data removed]",
      "text/plain": [
       "<Figure size 432x288 with 1 Axes>"
      ]
     },
     "metadata": {},
     "output_type": "display_data"
    }
   ],
   "source": [
    "eps, arr = np.array(rewards_list).T\n",
    "smoothed_arr = running_mean(arr, 10)\n",
    "plt.plot(eps[-len(smoothed_arr):], smoothed_arr)\n",
    "plt.plot(eps, arr, color='grey', alpha=0.3)\n",
    "plt.xlabel('Episode')\n",
    "plt.ylabel('Total rewards')"
   ]
  },
  {
   "cell_type": "code",
   "execution_count": 43,
   "metadata": {},
   "outputs": [
    {
     "data": {
      "text/plain": [
       "Text(0,0.5,'G losses')"
      ]
     },
     "execution_count": 43,
     "metadata": {},
     "output_type": "execute_result"
    },
    {
     "data": {
      "image/png": "[encoded data removed]",
      "text/plain": [
       "<Figure size 432x288 with 1 Axes>"
      ]
     },
     "metadata": {},
     "output_type": "display_data"
    }
   ],
   "source": [
    "eps, arr = np.array(gloss_list).T\n",
    "smoothed_arr = running_mean(arr, 10)\n",
    "plt.plot(eps[-len(smoothed_arr):], smoothed_arr)\n",
    "plt.plot(eps, arr, color='grey', alpha=0.3)\n",
    "plt.xlabel('Episode')\n",
    "plt.ylabel('G losses')"
   ]
  },
  {
   "cell_type": "code",
   "execution_count": 44,
   "metadata": {},
   "outputs": [
    {
     "data": {
      "text/plain": [
       "Text(0,0.5,'D losses')"
      ]
     },
     "execution_count": 44,
     "metadata": {},
     "output_type": "execute_result"
    },
    {
     "data": {
      "image/png": "[encoded data removed]",
      "text/plain": [
       "<Figure size 432x288 with 1 Axes>"
      ]
     },
     "metadata": {},
     "output_type": "display_data"
    }
   ],
   "source": [
    "eps, arr = np.array(dloss_list).T\n",
    "smoothed_arr = running_mean(arr, 10)\n",
    "plt.plot(eps[-len(smoothed_arr):], smoothed_arr)\n",
    "plt.plot(eps, arr, color='grey', alpha=0.3)\n",
    "plt.xlabel('Episode')\n",
    "plt.ylabel('D losses')"
   ]
  },
  {
   "cell_type": "markdown",
   "metadata": {},
   "source": [
    "## Testing\n",
    "\n",
    "Let's checkout how our trained agent plays the game."
   ]
  },
  {
   "cell_type": "code",
   "execution_count": 36,
   "metadata": {},
   "outputs": [
    {
     "name": "stdout",
     "output_type": "stream",
     "text": [
      "\u001b[33mWARN: gym.spaces.Box autodetected dtype as <class 'numpy.float32'>. Please provide explicit dtype.\u001b[0m\n",
      "\u001b[33mWARN: gym.spaces.Box autodetected dtype as <class 'numpy.float32'>. Please provide explicit dtype.\u001b[0m\n",
      "INFO:tensorflow:Restoring parameters from checkpoints/model.ckpt\n"
     ]
    },
    {
     "name": "stderr",
     "output_type": "stream",
     "text": [
      "/home/arasdar/anaconda3/envs/env/lib/python3.6/site-packages/gym/__init__.py:22: UserWarning: DEPRECATION WARNING: to improve load times, gym no longer automatically loads gym.spaces. Please run \"import gym.spaces\" to load gym.spaces on your own. This warning will turn into an error in a future version of gym.\n",
      "  warnings.warn('DEPRECATION WARNING: to improve load times, gym no longer automatically loads gym.spaces. Please run \"import gym.spaces\" to load gym.spaces on your own. This warning will turn into an error in a future version of gym.')\n"
     ]
    },
    {
     "name": "stdout",
     "output_type": "stream",
     "text": [
      "total_reward: 500.0\n"
     ]
    }
   ],
   "source": [
    "import gym\n",
    "env = gym.make('CartPole-v0')\n",
    "env = gym.make('CartPole-v1')\n",
    "# env = gym.make('Acrobot-v1')\n",
    "# env = gym.make('MountainCar-v0')\n",
    "# env = gym.make('Pendulum-v0')\n",
    "# env = gym.make('Blackjack-v0')\n",
    "# env = gym.make('FrozenLake-v0')\n",
    "# env = gym.make('AirRaid-ram-v0')\n",
    "# env = gym.make('AirRaid-v0')\n",
    "# env = gym.make('BipedalWalker-v2')\n",
    "# env = gym.make('Copy-v0')\n",
    "# env = gym.make('CarRacing-v0')\n",
    "# env = gym.make('Ant-v2') #mujoco\n",
    "# env = gym.make('FetchPickAndPlace-v1') # mujoco required!\n",
    "\n",
    "with tf.Session() as sess:\n",
    "    sess.run(tf.global_variables_initializer())\n",
    "    saver.restore(sess, 'checkpoints/model.ckpt')    \n",
    "    #saver.restore(sess, tf.train.latest_checkpoint('checkpoints'))\n",
    "    \n",
    "    # Episodes/epochs\n",
    "    for _ in range(1):\n",
    "        state = env.reset()\n",
    "        total_reward = 0\n",
    "\n",
    "        # Steps/batches\n",
    "        while True:\n",
    "            env.render()\n",
    "            action_logits = sess.run(model.actions_logits, feed_dict={model.states: state.reshape([1, -1])})\n",
    "            action = np.argmax(action_logits)\n",
    "            state, reward, done, _ = env.step(action)\n",
    "            total_reward += reward\n",
    "            if done:\n",
    "                print('total_reward: {}'.format(total_reward))\n",
    "                break\n",
    "                \n",
    "env.close()"
   ]
  },
  {
   "cell_type": "markdown",
   "metadata": {},
   "source": [
    "## Extending this\n",
    "\n",
    "So, Cart-Pole is a pretty simple game. However, the same model can be used to train an agent to play something much more complicated like Pong or Space Invaders. Instead of a state like we're using here though, you'd want to use convolutional layers to get the state from the screen images.\n",
    "\n",
    "![Deep Q-Learning Atari](assets/atari-network.png)\n",
    "\n",
    "I'll leave it as a challenge for you to use deep Q-learning to train an agent to play Atari games. Here's the original paper which will get you started: http://www.davidqiu.com:8888/research/nature14236.pdf."
   ]
  },
  {
   "cell_type": "code",
   "execution_count": null,
   "metadata": {},
   "outputs": [],
   "source": []
  }
 ],
 "metadata": {
  "kernelspec": {
   "display_name": "Python 3",
   "language": "python",
   "name": "python3"
  },
  "language_info": {
   "codemirror_mode": {
    "name": "ipython",
    "version": 3
   },
   "file_extension": ".py",
   "mimetype": "text/x-python",
   "name": "python",
   "nbconvert_exporter": "python",
   "pygments_lexer": "ipython3",
   "version": "3.6.6"
  }
 },
 "nbformat": 4,
 "nbformat_minor": 2
}
