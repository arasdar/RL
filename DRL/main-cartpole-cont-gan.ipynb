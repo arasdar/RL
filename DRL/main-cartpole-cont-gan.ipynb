{
 "cells": [
  {
   "cell_type": "markdown",
   "metadata": {},
   "source": [
    "# DPG for Cartpole\n",
    "\n",
    "\n",
    "In this notebook, we'll build a neural network that can learn to play games through reinforcement learning. More specifically, we'll use Q-learning to train an agent to play a game called [Cart-Pole](https://gym.openai.com/envs/CartPole-v0). In this game, a freely swinging pole is attached to a cart. The cart can move to the left and right, and the goal is to keep the pole upright as long as possible.\n",
    "\n",
    "![Cart-Pole](assets/cart-pole.jpg)\n",
    "\n",
    "We can simulate this game using [OpenAI Gym](https://gym.openai.com/). First, let's check out how OpenAI Gym works. Then, we'll get into training an agent to play the Cart-Pole game."
   ]
  },
  {
   "cell_type": "code",
   "execution_count": 1,
   "metadata": {},
   "outputs": [
    {
     "name": "stdout",
     "output_type": "stream",
     "text": [
      "TensorFlow Version: 1.11.0\n",
      "Default GPU Device: /device:GPU:0\n"
     ]
    }
   ],
   "source": [
    "# In this one we should define and detect GPUs for tensorflow\n",
    "# GPUs or CPU\n",
    "import tensorflow as tf\n",
    "\n",
    "# Check TensorFlow Version\n",
    "print('TensorFlow Version: {}'.format(tf.__version__))\n",
    "\n",
    "# Check for a GPU\n",
    "print('Default GPU Device: {}'.format(tf.test.gpu_device_name()))"
   ]
  },
  {
   "cell_type": "markdown",
   "metadata": {},
   "source": [
    ">**Note:** Make sure you have OpenAI Gym cloned into the same directory with this notebook. I've included `gym` as a submodule, so you can run `git submodule --init --recursive` to pull the contents into the `gym` repo."
   ]
  },
  {
   "cell_type": "markdown",
   "metadata": {},
   "source": [
    "##### >**Note:** Make sure you have OpenAI Gym cloned. Then run this command `pip install -e gym/[all]`."
   ]
  },
  {
   "cell_type": "code",
   "execution_count": 3,
   "metadata": {},
   "outputs": [],
   "source": [
    "import gym\n",
    "env = gym.make('CartPole-v0')\n",
    "env = gym.make('CartPole-v1')"
   ]
  },
  {
   "cell_type": "markdown",
   "metadata": {},
   "source": [
    "We interact with the simulation through `env`. To show the simulation running, you can use `env.render()` to render one frame. Passing in an action as an integer to `env.step` will generate the next step in the simulation.  You can see how many actions are possible from `env.action_space` and to get a random action you can use `env.action_space.sample()`. This is general to all Gym games. In the Cart-Pole game, there are two possible actions, moving the cart left or right. So there are two actions we can take, encoded as 0 and 1.\n",
    "\n",
    "Run the code below to watch the simulation run."
   ]
  },
  {
   "cell_type": "code",
   "execution_count": 4,
   "metadata": {},
   "outputs": [],
   "source": [
    "env.reset()\n",
    "batch = []\n",
    "for _ in range(1111):\n",
    "    #env.render()\n",
    "    action = env.action_space.sample()\n",
    "    state, reward, done, info = env.step(action) # take a random action\n",
    "    batch.append([action, state, reward, done, info])\n",
    "    #print('state, action, reward, done, info:', state, action, reward, done, info)\n",
    "    if done:\n",
    "        env.reset()"
   ]
  },
  {
   "cell_type": "markdown",
   "metadata": {},
   "source": [
    "To shut the window showing the simulation, use `env.close()`."
   ]
  },
  {
   "cell_type": "code",
   "execution_count": 5,
   "metadata": {},
   "outputs": [],
   "source": [
    "# env.close()"
   ]
  },
  {
   "cell_type": "markdown",
   "metadata": {},
   "source": [
    "If you ran the simulation above, we can look at the rewards:"
   ]
  },
  {
   "cell_type": "code",
   "execution_count": 6,
   "metadata": {},
   "outputs": [],
   "source": [
    "import numpy as np\n",
    "actions = np.array([each[0] for each in batch])\n",
    "states = np.array([each[1] for each in batch])\n",
    "rewards = np.array([each[2] for each in batch])\n",
    "dones = np.array([each[3] for each in batch])\n",
    "infos = np.array([each[4] for each in batch])"
   ]
  },
  {
   "cell_type": "code",
   "execution_count": 7,
   "metadata": {},
   "outputs": [
    {
     "name": "stdout",
     "output_type": "stream",
     "text": [
      "shapes: (1111,) (1111, 4) (1111,) (1111,)\n",
      "dtypes: float64 float64 int64 bool\n",
      "states: 2.5241856479297082 -2.4869053002172326\n",
      "actions: 1 0\n",
      "rewards: 1.0 1.0\n"
     ]
    }
   ],
   "source": [
    "# print(rewards[-20:])\n",
    "print('shapes:', np.array(rewards).shape, np.array(states).shape, np.array(actions).shape, np.array(dones).shape)\n",
    "print('dtypes:', np.array(rewards).dtype, np.array(states).dtype, np.array(actions).dtype, np.array(dones).dtype)\n",
    "print('states:', np.max(np.array(states)), np.min(np.array(states)))\n",
    "print('actions:', np.max(np.array(actions)), np.min(np.array(actions)))\n",
    "# print((np.max(np.array(actions)) - np.min(np.array(actions)))+1)\n",
    "print('rewards:', np.max(np.array(rewards)), np.min(np.array(rewards)))"
   ]
  },
  {
   "cell_type": "code",
   "execution_count": 8,
   "metadata": {},
   "outputs": [
    {
     "data": {
      "text/plain": [
       "array([0, 1, 1, 0, 1, 1, 1, 1, 1, 1])"
      ]
     },
     "execution_count": 8,
     "metadata": {},
     "output_type": "execute_result"
    }
   ],
   "source": [
    "actions[:10]"
   ]
  },
  {
   "cell_type": "code",
   "execution_count": 9,
   "metadata": {},
   "outputs": [
    {
     "data": {
      "text/plain": [
       "array([1., 1., 1., 1., 1., 1., 1., 1., 1., 1.])"
      ]
     },
     "execution_count": 9,
     "metadata": {},
     "output_type": "execute_result"
    }
   ],
   "source": [
    "rewards[:10]"
   ]
  },
  {
   "cell_type": "code",
   "execution_count": 10,
   "metadata": {},
   "outputs": [
    {
     "name": "stdout",
     "output_type": "stream",
     "text": [
      "rewards: 0.01 0.01\n"
     ]
    }
   ],
   "source": [
    "print('rewards:', np.max(np.array(rewards))/100, np.min(np.array(rewards))/100)"
   ]
  },
  {
   "cell_type": "markdown",
   "metadata": {},
   "source": [
    "The game resets after the pole has fallen past a certain angle. For each frame while the simulation is running, it returns a reward of 1.0. The longer the game runs, the more reward we get. Then, our network's goal is to maximize the reward by keeping the pole vertical. It will do this by moving the cart to the left and the right."
   ]
  },
  {
   "cell_type": "markdown",
   "metadata": {},
   "source": [
    "## Q-Network\n",
    "\n",
    "We train our Q-learning agent using the Bellman Equation:\n",
    "\n",
    "$$\n",
    "Q(s, a) = r + \\gamma \\max{Q(s', a')}\n",
    "$$\n",
    "\n",
    "where $s$ is a state, $a$ is an action, and $s'$ is the next state from state $s$ and action $a$.\n",
    "\n",
    "Before we used this equation to learn values for a Q-_table_. However, for this game there are a huge number of states available. The state has four values: the position and velocity of the cart, and the position and velocity of the pole. These are all real-valued numbers, so ignoring floating point precisions, you practically have infinite states. Instead of using a table then, we'll replace it with a neural network that will approximate the Q-table lookup function.\n",
    "\n",
    "<img src=\"assets/deep-q-learning.png\" width=450px>\n",
    "\n",
    "Now, our Q value, $Q(s, a)$ is calculated by passing in a state to the network. The output will be Q-values for each available action, with fully connected hidden layers.\n",
    "\n",
    "<img src=\"assets/q-network.png\" width=550px>\n",
    "\n",
    "\n",
    "As I showed before, we can define our targets for training as $\\hat{Q}(s,a) = r + \\gamma \\max{Q(s', a')}$. Then we update the weights by minimizing $(\\hat{Q}(s,a) - Q(s,a))^2$. \n",
    "\n",
    "For this Cart-Pole game, we have four inputs, one for each value in the state, and two outputs, one for each action. To get $\\hat{Q}$, we'll first choose an action, then simulate the game using that action. This will get us the next state, $s'$, and the reward. With that, we can calculate $\\hat{Q}$ then pass it back into the $Q$ network to run the optimizer and update the weights.\n",
    "\n",
    "Below is my implementation of the Q-network. I used two fully connected layers with ReLU activations. Two seems to be good enough, three might be better. Feel free to try it out."
   ]
  },
  {
   "cell_type": "code",
   "execution_count": 182,
   "metadata": {},
   "outputs": [],
   "source": [
    "def model_input(state_size):\n",
    "    #states = tf.placeholder(tf.float32, [None, *state_size], name='states')\n",
    "    states = tf.placeholder(tf.float32, [None, state_size], name='states')\n",
    "    actions = tf.placeholder(tf.int32, [None], name='actions')\n",
    "    targetQs = tf.placeholder(tf.float32, [None], name='targetQs')\n",
    "    rates = tf.placeholder(tf.float32, [None], name='rates')\n",
    "    training = tf.placeholder(tf.bool, [], name='training')\n",
    "    return states, actions, targetQs, rates, training"
   ]
  },
  {
   "cell_type": "code",
   "execution_count": 183,
   "metadata": {},
   "outputs": [],
   "source": [
    "# Generator/Controller: Generating/prediting the actions\n",
    "def generator(states, action_size, hidden_size, reuse=False, alpha=0.1, training=False):\n",
    "    with tf.variable_scope('generator', reuse=reuse):\n",
    "        # First fully connected layer\n",
    "        h1 = tf.layers.dense(inputs=states, units=hidden_size)\n",
    "        bn1 = tf.layers.batch_normalization(h1, training=training)        \n",
    "        nl1 = tf.maximum(alpha * bn1, bn1)\n",
    "        \n",
    "        # Second fully connected layer\n",
    "        h2 = tf.layers.dense(inputs=nl1, units=hidden_size)\n",
    "        bn2 = tf.layers.batch_normalization(h2, training=training)        \n",
    "        nl2 = tf.maximum(alpha * bn2, bn2)\n",
    "        \n",
    "        # Output layer\n",
    "        logits = tf.layers.dense(inputs=nl2, units=action_size)        \n",
    "        #predictions = tf.nn.softmax(logits)\n",
    "\n",
    "        # return actions logits\n",
    "        return logits"
   ]
  },
  {
   "cell_type": "code",
   "execution_count": 184,
   "metadata": {},
   "outputs": [],
   "source": [
    "# Discriminator/Dopamine: Reward function/planner/naviator/advisor/supervisor/cortical columns\n",
    "def discriminator(states, actions, hidden_size, reuse=False, alpha=0.1, training=False):\n",
    "    with tf.variable_scope('discriminator', reuse=reuse):\n",
    "        # First fully connected layer\n",
    "        h1 = tf.layers.dense(inputs=states, units=action_size)\n",
    "        bn1 = tf.layers.batch_normalization(h1, training=training)        \n",
    "        nl1 = tf.maximum(alpha * bn1, bn1)\n",
    "        \n",
    "        # Second fully connected layer\n",
    "        fused = tf.concat(axis=1, values=[nl1, actions])\n",
    "        h2 = tf.layers.dense(inputs=fused, units=hidden_size)\n",
    "        bn2 = tf.layers.batch_normalization(h2, training=training)        \n",
    "        nl2 = tf.maximum(alpha * bn2, bn2)\n",
    "                \n",
    "        # Output layer\n",
    "        logits = tf.layers.dense(inputs=nl2, units=1)        \n",
    "        #predictions = tf.nn.softmax(logits)\n",
    "\n",
    "        # return rewards logits\n",
    "        return logits"
   ]
  },
  {
   "cell_type": "code",
   "execution_count": 186,
   "metadata": {},
   "outputs": [],
   "source": [
    "def model_loss(action_size, hidden_size, states, actions, targetQs, rates, training):\n",
    "    actions_logits = generator(states=states, hidden_size=hidden_size, action_size=action_size, training=training)\n",
    "    gQs = discriminator(actions=actions_logits, hidden_size=hidden_size, states=states, training=training) # nextQs/targetQs\n",
    "    rates = tf.reshape(rates, shape=[-1, 1])\n",
    "    gloss = tf.reduce_mean(tf.nn.sigmoid_cross_entropy_with_logits(logits=gQs, # GAN\n",
    "                                                                   labels=rates)) # 0-1\n",
    "    targetQs = tf.reshape(targetQs, shape=[-1, 1])\n",
    "    gloss += tf.reduce_mean(tf.nn.sigmoid_cross_entropy_with_logits(logits=gQs, # GAN\n",
    "                                                                    labels=tf.nn.sigmoid(targetQs))) # 0-1\n",
    "    actions_labels = tf.one_hot(indices=actions, depth=action_size, dtype=actions_logits.dtype)\n",
    "    dQs = discriminator(actions=actions_labels, hidden_size=hidden_size, states=states, training=training, \n",
    "                        reuse=True) # Qs\n",
    "    dloss = tf.reduce_mean(tf.nn.sigmoid_cross_entropy_with_logits(logits=dQs, # GAN\n",
    "                                                                   labels=rates)) # 0-1\n",
    "    dloss += tf.reduce_mean(tf.nn.sigmoid_cross_entropy_with_logits(logits=dQs, # GAN\n",
    "                                                                    labels=tf.nn.sigmoid(targetQs))) # 0-1\n",
    "    return actions_logits, gQs, gloss, dloss"
   ]
  },
  {
   "cell_type": "code",
   "execution_count": 187,
   "metadata": {},
   "outputs": [],
   "source": [
    "# Optimizating/training/learning G & D\n",
    "def model_opt(g_loss, d_loss, g_learning_rate, d_learning_rate):\n",
    "    # Get weights and bias to update\n",
    "    t_vars = tf.trainable_variables()\n",
    "    g_vars = [var for var in t_vars if var.name.startswith('generator')]\n",
    "    d_vars = [var for var in t_vars if var.name.startswith('discriminator')]\n",
    "\n",
    "    # Optimize\n",
    "    with tf.control_dependencies(tf.get_collection(tf.GraphKeys.UPDATE_OPS)): # Required for batchnorm (BN)\n",
    "        g_opt = tf.train.AdamOptimizer(g_learning_rate).minimize(g_loss, var_list=g_vars)\n",
    "        d_opt = tf.train.AdamOptimizer(d_learning_rate).minimize(d_loss, var_list=d_vars)\n",
    "    return g_opt, d_opt"
   ]
  },
  {
   "cell_type": "code",
   "execution_count": 188,
   "metadata": {},
   "outputs": [],
   "source": [
    "class Model:\n",
    "    def __init__(self, state_size, action_size, hidden_size, g_learning_rate, d_learning_rate):\n",
    "\n",
    "        # Data of the Model: make the data available inside the framework\n",
    "        self.states, self.actions, self.targetQs, self.rates, self.training = model_input(state_size=state_size)\n",
    "\n",
    "        # Create the Model: calculating the loss and forwad pass\n",
    "        self.actions_logits, self.Qs_logits, self.g_loss, self.d_loss = model_loss(\n",
    "            action_size=action_size, hidden_size=hidden_size, # model init parameters\n",
    "            states=self.states, actions=self.actions, targetQs=self.targetQs, \n",
    "            rates=self.rates, training=self.training) # model input\n",
    "        \n",
    "        # Update the model: backward pass and backprop\n",
    "        self.g_opt, self.d_opt = model_opt(g_loss=self.g_loss, d_loss=self.d_loss,\n",
    "                                           g_learning_rate=g_learning_rate, d_learning_rate=d_learning_rate)"
   ]
  },
  {
   "cell_type": "code",
   "execution_count": 189,
   "metadata": {},
   "outputs": [],
   "source": [
    "def sample(buffer, batch_size):\n",
    "    idx = np.random.choice(np.arange(len(buffer)), size=batch_size, replace=False)\n",
    "    return np.array([buffer[ii] for ii in idx])"
   ]
  },
  {
   "cell_type": "code",
   "execution_count": 190,
   "metadata": {},
   "outputs": [],
   "source": [
    "from collections import deque\n",
    "class Memory():\n",
    "    def __init__(self, max_size = 1000):\n",
    "        self.buffer = deque(maxlen=max_size) # data batch"
   ]
  },
  {
   "cell_type": "markdown",
   "metadata": {},
   "source": [
    "## Hyperparameters\n",
    "\n",
    "One of the more difficult aspects of reinforcememt learning are the large number of hyperparameters. Not only are we tuning the network, but we're tuning the simulation."
   ]
  },
  {
   "cell_type": "code",
   "execution_count": 191,
   "metadata": {},
   "outputs": [
    {
     "data": {
      "text/plain": [
       "(Box(4,), Discrete(2))"
      ]
     },
     "execution_count": 191,
     "metadata": {},
     "output_type": "execute_result"
    }
   ],
   "source": [
    "env.observation_space, env.action_space"
   ]
  },
  {
   "cell_type": "code",
   "execution_count": 192,
   "metadata": {},
   "outputs": [],
   "source": [
    "# Exploration parameters\n",
    "explore_start = 1.0            # exploration probability at start\n",
    "explore_stop = 0.01           # minimum exploration probability \n",
    "decay_rate = 0.0001            # exponential decay rate for exploration prob\n",
    "\n",
    "# Network parameters\n",
    "state_size = 4\n",
    "action_size = 2\n",
    "hidden_size = 4*2             # number of units in each Q-network hidden layer\n",
    "g_learning_rate = 1e-4         # Q-network learning rate\n",
    "d_learning_rate = 1e-4         # Q-network learning rate\n",
    "\n",
    "# Memory parameters\n",
    "memory_size = int(1e5)            # memory capacity\n",
    "batch_size = int(1e2)             # experience mini-batch size: 200/500 a successfull episode size\n",
    "gamma = 0.99                   # future reward discount"
   ]
  },
  {
   "cell_type": "code",
   "execution_count": 193,
   "metadata": {},
   "outputs": [],
   "source": [
    "# Reset/init the graph/session\n",
    "graph = tf.reset_default_graph()\n",
    "\n",
    "# Init the model\n",
    "model = Model(action_size=action_size, state_size=state_size, hidden_size=hidden_size,\n",
    "              g_learning_rate=g_learning_rate, d_learning_rate=d_learning_rate)\n",
    "\n",
    "# Init the memory\n",
    "memory = Memory(max_size=memory_size)"
   ]
  },
  {
   "cell_type": "code",
   "execution_count": 194,
   "metadata": {},
   "outputs": [],
   "source": [
    "state = env.reset()\n",
    "total_reward = 0\n",
    "num_step = 0\n",
    "for _ in range(memory_size):\n",
    "    action = env.action_space.sample()\n",
    "    next_state, reward, done, _ = env.step(action)\n",
    "    rate = -1 # [-1, +1] or [0, 1]\n",
    "    memory.buffer.append([state, action, next_state, reward, float(done), rate])\n",
    "    num_step += 1 # memory incremented\n",
    "    total_reward += reward\n",
    "    state = next_state\n",
    "    if done is True:\n",
    "        state = env.reset()\n",
    "        rate = total_reward/500 # [0, 1]\n",
    "        total_reward = 0\n",
    "        for idx in range(num_step):\n",
    "            if memory.buffer[-1-idx][-1] == -1:\n",
    "                memory.buffer[-1-idx][-1] = rate\n",
    "        num_step = 0 # reset"
   ]
  },
  {
   "cell_type": "markdown",
   "metadata": {},
   "source": [
    "## Training the model\n",
    "\n",
    "Below we'll train our agent. If you want to watch it train, uncomment the `env.render()` line. This is slow because it's rendering the frames slower than the network can train. But, it's cool to watch the agent get better at the game."
   ]
  },
  {
   "cell_type": "code",
   "execution_count": 195,
   "metadata": {},
   "outputs": [],
   "source": [
    "def minibatch(batch):\n",
    "    #batch = memory.buffer\n",
    "    rates = np.array([each[-1] for each in batch])\n",
    "    ##############################\n",
    "    states = np.array([each[0] for each in batch])[rates > 0]\n",
    "    actions = np.array([each[1] for each in batch])[rates > 0]\n",
    "    next_states = np.array([each[2] for each in batch])[rates > 0]\n",
    "    rewards = np.array([each[3] for each in batch])[rates > 0]\n",
    "    dones = np.array([each[4] for each in batch])[rates > 0]\n",
    "    rates = np.array([each[5] for each in batch])[rates > 0]\n",
    "    ##########################################\n",
    "    maxstates = states[rates > (max(rates)*0.5)]\n",
    "    maxactions = actions[rates > (max(rates)*0.5)]\n",
    "    maxnext_states = next_states[rates > (max(rates)*0.5)]\n",
    "    maxrewards = rewards[rates > (max(rates)*0.5)]\n",
    "    maxdones = dones[rates > (max(rates)*0.5)]\n",
    "    maxrates = rates[rates > (max(rates)*0.5)]\n",
    "    ##################################################\n",
    "    minstates = states[rates < (max(rates)*0.5)]\n",
    "    minactions = actions[rates < (max(rates)*0.5)]\n",
    "    minnext_states = next_states[rates < (max(rates)*0.5)]\n",
    "    minrewards = rewards[rates < (max(rates)*0.5)]\n",
    "    mindones = dones[rates < (max(rates)*0.5)]\n",
    "    minrates = rates[rates < (max(rates)*0.5)]\n",
    "    #################################################\n",
    "    maxstates = sample(batch_size=batch_size, buffer=maxstates)\n",
    "    minstates = sample(batch_size=batch_size, buffer=minstates)\n",
    "    maxactions = sample(batch_size=batch_size, buffer=maxactions)\n",
    "    minactions = sample(batch_size=batch_size, buffer=minactions)\n",
    "    maxnext_states = sample(batch_size=batch_size, buffer=maxnext_states)\n",
    "    minnext_states = sample(batch_size=batch_size, buffer=minnext_states)\n",
    "    maxrewards = sample(batch_size=batch_size, buffer=maxrewards)\n",
    "    minrewards = sample(batch_size=batch_size, buffer=minrewards)\n",
    "    maxdones = sample(batch_size=batch_size, buffer=maxdones)\n",
    "    mindones = sample(batch_size=batch_size, buffer=mindones)\n",
    "    maxrates = sample(batch_size=batch_size, buffer=maxrates)\n",
    "    minrates = sample(batch_size=batch_size, buffer=minrates)\n",
    "    #################################################################\n",
    "    states = np.concatenate([maxstates, minstates], axis=0)\n",
    "    actions = np.concatenate([maxactions, minactions], axis=0)\n",
    "    next_states = np.concatenate([maxnext_states, minnext_states], axis=0)\n",
    "    rewards = np.concatenate([maxrewards, minrewards], axis=0)\n",
    "    dones = np.concatenate([maxdones, mindones], axis=0)\n",
    "    rates = np.concatenate([maxrates, minrates], axis=0)\n",
    "    return states, actions, next_states, rewards, dones, rates"
   ]
  },
  {
   "cell_type": "code",
   "execution_count": 196,
   "metadata": {},
   "outputs": [],
   "source": [
    "batch = memory.buffer\n",
    "states, actions, next_states, rewards, dones, rates = minibatch(batch=batch)"
   ]
  },
  {
   "cell_type": "code",
   "execution_count": 197,
   "metadata": {},
   "outputs": [
    {
     "data": {
      "text/plain": [
       "((200, 4),\n",
       " (200,),\n",
       " (200, 4),\n",
       " (200,),\n",
       " (200,),\n",
       " (200,),\n",
       " dtype('float64'),\n",
       " dtype('int64'),\n",
       " dtype('float64'),\n",
       " dtype('float64'),\n",
       " dtype('float64'),\n",
       " dtype('float64'))"
      ]
     },
     "execution_count": 197,
     "metadata": {},
     "output_type": "execute_result"
    }
   ],
   "source": [
    "states.shape, actions.shape, next_states.shape, rewards.shape, dones.shape, rates.shape, \\\n",
    "states.dtype, actions.dtype, next_states.dtype, rewards.dtype, dones.dtype, rates.dtype"
   ]
  },
  {
   "cell_type": "code",
   "execution_count": null,
   "metadata": {},
   "outputs": [
    {
     "name": "stdout",
     "output_type": "stream",
     "text": [
      "Episode:0 meanR:30.0000 R:30.0000 rate:0.0600 gloss:1.4582 dloss:1.3881 exploreP:0.9970\n",
      "Episode:1 meanR:22.5000 R:15.0000 rate:0.0300 gloss:1.4380 dloss:1.3713 exploreP:0.9956\n",
      "Episode:2 meanR:26.6667 R:35.0000 rate:0.0700 gloss:1.4199 dloss:1.3549 exploreP:0.9921\n",
      "Episode:3 meanR:28.5000 R:34.0000 rate:0.0680 gloss:1.3990 dloss:1.3345 exploreP:0.9888\n",
      "Episode:4 meanR:27.4000 R:23.0000 rate:0.0460 gloss:1.3790 dloss:1.3165 exploreP:0.9865\n",
      "Episode:5 meanR:25.6667 R:17.0000 rate:0.0340 gloss:1.3748 dloss:1.3153 exploreP:0.9849\n",
      "Episode:6 meanR:23.7143 R:12.0000 rate:0.0240 gloss:1.3627 dloss:1.3060 exploreP:0.9837\n",
      "Episode:7 meanR:23.3750 R:21.0000 rate:0.0420 gloss:1.3519 dloss:1.2976 exploreP:0.9817\n",
      "Episode:8 meanR:22.0000 R:11.0000 rate:0.0220 gloss:1.3482 dloss:1.2957 exploreP:0.9806\n",
      "Episode:9 meanR:21.1000 R:13.0000 rate:0.0260 gloss:1.3312 dloss:1.2834 exploreP:0.9793\n",
      "Episode:10 meanR:20.8182 R:18.0000 rate:0.0360 gloss:1.3443 dloss:1.2880 exploreP:0.9776\n",
      "Episode:11 meanR:21.0000 R:23.0000 rate:0.0460 gloss:1.3328 dloss:1.2815 exploreP:0.9754\n",
      "Episode:12 meanR:20.2308 R:11.0000 rate:0.0220 gloss:1.3322 dloss:1.2790 exploreP:0.9743\n",
      "Episode:13 meanR:19.8571 R:15.0000 rate:0.0300 gloss:1.3208 dloss:1.2739 exploreP:0.9729\n",
      "Episode:14 meanR:20.0000 R:22.0000 rate:0.0440 gloss:1.3210 dloss:1.2713 exploreP:0.9707\n",
      "Episode:15 meanR:19.5625 R:13.0000 rate:0.0260 gloss:1.3162 dloss:1.2684 exploreP:0.9695\n",
      "Episode:16 meanR:19.2941 R:15.0000 rate:0.0300 gloss:1.3151 dloss:1.2684 exploreP:0.9681\n",
      "Episode:17 meanR:19.5556 R:24.0000 rate:0.0480 gloss:1.3109 dloss:1.2656 exploreP:0.9658\n",
      "Episode:18 meanR:19.5789 R:20.0000 rate:0.0400 gloss:1.2929 dloss:1.2569 exploreP:0.9638\n",
      "Episode:19 meanR:19.5500 R:19.0000 rate:0.0380 gloss:1.2947 dloss:1.2540 exploreP:0.9620\n",
      "Episode:20 meanR:20.7143 R:44.0000 rate:0.0880 gloss:1.2901 dloss:1.2514 exploreP:0.9579\n",
      "Episode:21 meanR:20.5000 R:16.0000 rate:0.0320 gloss:1.2878 dloss:1.2519 exploreP:0.9563\n",
      "Episode:22 meanR:20.4783 R:20.0000 rate:0.0400 gloss:1.2839 dloss:1.2492 exploreP:0.9545\n",
      "Episode:23 meanR:20.8750 R:30.0000 rate:0.0600 gloss:1.2779 dloss:1.2449 exploreP:0.9516\n",
      "Episode:24 meanR:20.7600 R:18.0000 rate:0.0360 gloss:1.2733 dloss:1.2411 exploreP:0.9499\n",
      "Episode:25 meanR:20.8077 R:22.0000 rate:0.0440 gloss:1.2692 dloss:1.2402 exploreP:0.9479\n",
      "Episode:26 meanR:20.5556 R:14.0000 rate:0.0280 gloss:1.2636 dloss:1.2392 exploreP:0.9466\n",
      "Episode:27 meanR:20.8214 R:28.0000 rate:0.0560 gloss:1.2629 dloss:1.2342 exploreP:0.9439\n",
      "Episode:28 meanR:22.2069 R:61.0000 rate:0.1220 gloss:1.2650 dloss:1.2374 exploreP:0.9383\n",
      "Episode:29 meanR:22.4667 R:30.0000 rate:0.0600 gloss:1.2574 dloss:1.2326 exploreP:0.9355\n",
      "Episode:30 meanR:22.4839 R:23.0000 rate:0.0460 gloss:1.2554 dloss:1.2310 exploreP:0.9333\n",
      "Episode:31 meanR:22.4062 R:20.0000 rate:0.0400 gloss:1.2523 dloss:1.2287 exploreP:0.9315\n",
      "Episode:32 meanR:22.7879 R:35.0000 rate:0.0700 gloss:1.2518 dloss:1.2285 exploreP:0.9283\n",
      "Episode:33 meanR:22.8529 R:25.0000 rate:0.0500 gloss:1.2538 dloss:1.2311 exploreP:0.9260\n",
      "Episode:34 meanR:22.7143 R:18.0000 rate:0.0360 gloss:1.2531 dloss:1.2327 exploreP:0.9243\n",
      "Episode:35 meanR:22.4722 R:14.0000 rate:0.0280 gloss:1.2503 dloss:1.2273 exploreP:0.9231\n",
      "Episode:36 meanR:22.6757 R:30.0000 rate:0.0600 gloss:1.2478 dloss:1.2262 exploreP:0.9203\n",
      "Episode:37 meanR:22.3947 R:12.0000 rate:0.0240 gloss:1.2439 dloss:1.2230 exploreP:0.9192\n",
      "Episode:38 meanR:22.7949 R:38.0000 rate:0.0760 gloss:1.2445 dloss:1.2244 exploreP:0.9158\n",
      "Episode:39 meanR:22.7500 R:21.0000 rate:0.0420 gloss:1.2457 dloss:1.2241 exploreP:0.9139\n",
      "Episode:40 meanR:22.5610 R:15.0000 rate:0.0300 gloss:1.2452 dloss:1.2234 exploreP:0.9125\n",
      "Episode:41 meanR:22.5000 R:20.0000 rate:0.0400 gloss:1.2416 dloss:1.2208 exploreP:0.9107\n",
      "Episode:42 meanR:22.3256 R:15.0000 rate:0.0300 gloss:1.2403 dloss:1.2201 exploreP:0.9094\n",
      "Episode:43 meanR:22.0909 R:12.0000 rate:0.0240 gloss:1.2455 dloss:1.2248 exploreP:0.9083\n",
      "Episode:44 meanR:22.0444 R:20.0000 rate:0.0400 gloss:1.2442 dloss:1.2234 exploreP:0.9065\n",
      "Episode:45 meanR:22.2826 R:33.0000 rate:0.0660 gloss:1.2453 dloss:1.2251 exploreP:0.9036\n",
      "Episode:46 meanR:22.0638 R:12.0000 rate:0.0240 gloss:1.2464 dloss:1.2257 exploreP:0.9025\n",
      "Episode:47 meanR:21.9167 R:15.0000 rate:0.0300 gloss:1.2420 dloss:1.2222 exploreP:0.9011\n",
      "Episode:48 meanR:21.8776 R:20.0000 rate:0.0400 gloss:1.2476 dloss:1.2251 exploreP:0.8994\n",
      "Episode:49 meanR:21.7000 R:13.0000 rate:0.0260 gloss:1.2367 dloss:1.2160 exploreP:0.8982\n",
      "Episode:50 meanR:21.4902 R:11.0000 rate:0.0220 gloss:1.2420 dloss:1.2225 exploreP:0.8972\n",
      "Episode:51 meanR:21.5385 R:24.0000 rate:0.0480 gloss:1.2420 dloss:1.2229 exploreP:0.8951\n",
      "Episode:52 meanR:21.7547 R:33.0000 rate:0.0660 gloss:1.2404 dloss:1.2194 exploreP:0.8922\n",
      "Episode:53 meanR:21.7963 R:24.0000 rate:0.0480 gloss:1.2404 dloss:1.2224 exploreP:0.8901\n",
      "Episode:54 meanR:21.6909 R:16.0000 rate:0.0320 gloss:1.2411 dloss:1.2207 exploreP:0.8887\n",
      "Episode:55 meanR:21.5179 R:12.0000 rate:0.0240 gloss:1.2344 dloss:1.2155 exploreP:0.8876\n",
      "Episode:56 meanR:21.3684 R:13.0000 rate:0.0260 gloss:1.2393 dloss:1.2175 exploreP:0.8865\n",
      "Episode:57 meanR:21.1724 R:10.0000 rate:0.0200 gloss:1.2344 dloss:1.2148 exploreP:0.8856\n",
      "Episode:58 meanR:21.4746 R:39.0000 rate:0.0780 gloss:1.2398 dloss:1.2202 exploreP:0.8822\n",
      "Episode:59 meanR:21.4833 R:22.0000 rate:0.0440 gloss:1.2403 dloss:1.2210 exploreP:0.8803\n",
      "Episode:60 meanR:21.8033 R:41.0000 rate:0.0820 gloss:1.2382 dloss:1.2196 exploreP:0.8767\n",
      "Episode:61 meanR:21.9677 R:32.0000 rate:0.0640 gloss:1.2335 dloss:1.2157 exploreP:0.8739\n",
      "Episode:62 meanR:21.9365 R:20.0000 rate:0.0400 gloss:1.2351 dloss:1.2192 exploreP:0.8722\n",
      "Episode:63 meanR:22.0469 R:29.0000 rate:0.0580 gloss:1.2389 dloss:1.2196 exploreP:0.8697\n",
      "Episode:64 meanR:21.9846 R:18.0000 rate:0.0360 gloss:1.2351 dloss:1.2151 exploreP:0.8682\n",
      "Episode:65 meanR:21.8485 R:13.0000 rate:0.0260 gloss:1.2377 dloss:1.2178 exploreP:0.8671\n",
      "Episode:66 meanR:21.7164 R:13.0000 rate:0.0260 gloss:1.2380 dloss:1.2192 exploreP:0.8659\n",
      "Episode:67 meanR:21.6765 R:19.0000 rate:0.0380 gloss:1.2351 dloss:1.2167 exploreP:0.8643\n",
      "Episode:68 meanR:21.6667 R:21.0000 rate:0.0420 gloss:1.2355 dloss:1.2186 exploreP:0.8625\n",
      "Episode:69 meanR:21.5714 R:15.0000 rate:0.0300 gloss:1.2323 dloss:1.2151 exploreP:0.8612\n",
      "Episode:70 meanR:21.7183 R:32.0000 rate:0.0640 gloss:1.2359 dloss:1.2192 exploreP:0.8585\n",
      "Episode:71 meanR:22.3889 R:70.0000 rate:0.1400 gloss:1.2356 dloss:1.2192 exploreP:0.8526\n",
      "Episode:72 meanR:22.5068 R:31.0000 rate:0.0620 gloss:1.2361 dloss:1.2183 exploreP:0.8500\n",
      "Episode:73 meanR:22.4054 R:15.0000 rate:0.0300 gloss:1.2359 dloss:1.2183 exploreP:0.8487\n",
      "Episode:74 meanR:22.3733 R:20.0000 rate:0.0400 gloss:1.2311 dloss:1.2163 exploreP:0.8471\n",
      "Episode:75 meanR:22.5132 R:33.0000 rate:0.0660 gloss:1.2340 dloss:1.2165 exploreP:0.8443\n",
      "Episode:76 meanR:23.2208 R:77.0000 rate:0.1540 gloss:1.2350 dloss:1.2185 exploreP:0.8379\n",
      "Episode:77 meanR:23.1795 R:20.0000 rate:0.0400 gloss:1.2348 dloss:1.2184 exploreP:0.8363\n",
      "Episode:78 meanR:23.3165 R:34.0000 rate:0.0680 gloss:1.2325 dloss:1.2171 exploreP:0.8335\n",
      "Episode:79 meanR:23.2625 R:19.0000 rate:0.0380 gloss:1.2325 dloss:1.2151 exploreP:0.8319\n",
      "Episode:80 meanR:23.7037 R:59.0000 rate:0.1180 gloss:1.2332 dloss:1.2175 exploreP:0.8271\n",
      "Episode:81 meanR:23.9512 R:44.0000 rate:0.0880 gloss:1.2327 dloss:1.2169 exploreP:0.8235\n",
      "Episode:82 meanR:24.1807 R:43.0000 rate:0.0860 gloss:1.2323 dloss:1.2172 exploreP:0.8200\n",
      "Episode:83 meanR:24.0357 R:12.0000 rate:0.0240 gloss:1.2357 dloss:1.2228 exploreP:0.8190\n",
      "Episode:84 meanR:24.0706 R:27.0000 rate:0.0540 gloss:1.2345 dloss:1.2189 exploreP:0.8168\n",
      "Episode:85 meanR:24.0930 R:26.0000 rate:0.0520 gloss:1.2303 dloss:1.2147 exploreP:0.8147\n",
      "Episode:86 meanR:23.9770 R:14.0000 rate:0.0280 gloss:1.2347 dloss:1.2189 exploreP:0.8136\n",
      "Episode:87 meanR:24.0000 R:26.0000 rate:0.0520 gloss:1.2334 dloss:1.2160 exploreP:0.8115\n",
      "Episode:88 meanR:24.1236 R:35.0000 rate:0.0700 gloss:1.2345 dloss:1.2185 exploreP:0.8087\n",
      "Episode:89 meanR:24.0222 R:15.0000 rate:0.0300 gloss:1.2261 dloss:1.2113 exploreP:0.8075\n",
      "Episode:90 meanR:23.9451 R:17.0000 rate:0.0340 gloss:1.2308 dloss:1.2165 exploreP:0.8062\n",
      "Episode:91 meanR:24.5870 R:83.0000 rate:0.1660 gloss:1.2299 dloss:1.2145 exploreP:0.7996\n",
      "Episode:92 meanR:24.7204 R:37.0000 rate:0.0740 gloss:1.2287 dloss:1.2137 exploreP:0.7967\n"
     ]
    },
    {
     "name": "stdout",
     "output_type": "stream",
     "text": [
      "Episode:93 meanR:25.1170 R:62.0000 rate:0.1240 gloss:1.2278 dloss:1.2129 exploreP:0.7918\n",
      "Episode:94 meanR:25.1263 R:26.0000 rate:0.0520 gloss:1.2296 dloss:1.2137 exploreP:0.7898\n",
      "Episode:95 meanR:25.0729 R:20.0000 rate:0.0400 gloss:1.2273 dloss:1.2109 exploreP:0.7882\n",
      "Episode:96 meanR:25.3608 R:53.0000 rate:0.1060 gloss:1.2243 dloss:1.2101 exploreP:0.7841\n",
      "Episode:97 meanR:26.1122 R:99.0000 rate:0.1980 gloss:1.2219 dloss:1.2077 exploreP:0.7765\n",
      "Episode:98 meanR:26.0101 R:16.0000 rate:0.0320 gloss:1.2206 dloss:1.2075 exploreP:0.7753\n",
      "Episode:99 meanR:25.9400 R:19.0000 rate:0.0380 gloss:1.2243 dloss:1.2094 exploreP:0.7738\n",
      "Episode:100 meanR:25.8600 R:22.0000 rate:0.0440 gloss:1.2196 dloss:1.2062 exploreP:0.7721\n",
      "Episode:101 meanR:26.1200 R:41.0000 rate:0.0820 gloss:1.2192 dloss:1.2074 exploreP:0.7690\n",
      "Episode:102 meanR:25.9600 R:19.0000 rate:0.0380 gloss:1.2197 dloss:1.2065 exploreP:0.7676\n",
      "Episode:103 meanR:25.7600 R:14.0000 rate:0.0280 gloss:1.2183 dloss:1.2071 exploreP:0.7665\n",
      "Episode:104 meanR:25.6500 R:12.0000 rate:0.0240 gloss:1.2163 dloss:1.2056 exploreP:0.7656\n",
      "Episode:105 meanR:25.6300 R:15.0000 rate:0.0300 gloss:1.2163 dloss:1.2033 exploreP:0.7645\n",
      "Episode:106 meanR:25.6800 R:17.0000 rate:0.0340 gloss:1.2145 dloss:1.2030 exploreP:0.7632\n",
      "Episode:107 meanR:25.6100 R:14.0000 rate:0.0280 gloss:1.2161 dloss:1.2029 exploreP:0.7621\n",
      "Episode:108 meanR:25.7600 R:26.0000 rate:0.0520 gloss:1.2141 dloss:1.2023 exploreP:0.7602\n",
      "Episode:109 meanR:25.8400 R:21.0000 rate:0.0420 gloss:1.2167 dloss:1.2045 exploreP:0.7586\n",
      "Episode:110 meanR:25.8800 R:22.0000 rate:0.0440 gloss:1.2126 dloss:1.2021 exploreP:0.7570\n",
      "Episode:111 meanR:25.9000 R:25.0000 rate:0.0500 gloss:1.2121 dloss:1.2009 exploreP:0.7551\n",
      "Episode:112 meanR:25.9700 R:18.0000 rate:0.0360 gloss:1.2079 dloss:1.1956 exploreP:0.7537\n",
      "Episode:113 meanR:26.1300 R:31.0000 rate:0.0620 gloss:1.2082 dloss:1.1975 exploreP:0.7514\n",
      "Episode:114 meanR:26.2900 R:38.0000 rate:0.0760 gloss:1.2081 dloss:1.1975 exploreP:0.7486\n",
      "Episode:115 meanR:26.4500 R:29.0000 rate:0.0580 gloss:1.2020 dloss:1.1918 exploreP:0.7465\n",
      "Episode:116 meanR:26.5300 R:23.0000 rate:0.0460 gloss:1.2003 dloss:1.1909 exploreP:0.7448\n",
      "Episode:117 meanR:26.4700 R:18.0000 rate:0.0360 gloss:1.2016 dloss:1.1916 exploreP:0.7435\n",
      "Episode:118 meanR:26.7500 R:48.0000 rate:0.0960 gloss:1.1943 dloss:1.1841 exploreP:0.7400\n",
      "Episode:119 meanR:26.7800 R:22.0000 rate:0.0440 gloss:1.1962 dloss:1.1867 exploreP:0.7384\n",
      "Episode:120 meanR:26.7500 R:41.0000 rate:0.0820 gloss:1.1904 dloss:1.1807 exploreP:0.7354\n",
      "Episode:121 meanR:26.7700 R:18.0000 rate:0.0360 gloss:1.1860 dloss:1.1760 exploreP:0.7341\n",
      "Episode:122 meanR:26.6900 R:12.0000 rate:0.0240 gloss:1.1838 dloss:1.1745 exploreP:0.7332\n",
      "Episode:123 meanR:26.6400 R:25.0000 rate:0.0500 gloss:1.1862 dloss:1.1789 exploreP:0.7314\n",
      "Episode:124 meanR:26.5600 R:10.0000 rate:0.0200 gloss:1.1785 dloss:1.1708 exploreP:0.7307\n",
      "Episode:125 meanR:26.5900 R:25.0000 rate:0.0500 gloss:1.1849 dloss:1.1769 exploreP:0.7289\n",
      "Episode:126 meanR:26.7800 R:33.0000 rate:0.0660 gloss:1.1789 dloss:1.1708 exploreP:0.7265\n",
      "Episode:127 meanR:26.9000 R:40.0000 rate:0.0800 gloss:1.1767 dloss:1.1688 exploreP:0.7237\n",
      "Episode:128 meanR:26.5600 R:27.0000 rate:0.0540 gloss:1.1757 dloss:1.1683 exploreP:0.7217\n",
      "Episode:129 meanR:26.3700 R:11.0000 rate:0.0220 gloss:1.1737 dloss:1.1663 exploreP:0.7210\n",
      "Episode:130 meanR:26.7400 R:60.0000 rate:0.1200 gloss:1.1725 dloss:1.1653 exploreP:0.7167\n",
      "Episode:131 meanR:26.8100 R:27.0000 rate:0.0540 gloss:1.1665 dloss:1.1591 exploreP:0.7148\n",
      "Episode:132 meanR:26.7400 R:28.0000 rate:0.0560 gloss:1.1692 dloss:1.1624 exploreP:0.7128\n",
      "Episode:133 meanR:26.8300 R:34.0000 rate:0.0680 gloss:1.1689 dloss:1.1625 exploreP:0.7104\n",
      "Episode:134 meanR:26.8600 R:21.0000 rate:0.0420 gloss:1.1624 dloss:1.1554 exploreP:0.7090\n",
      "Episode:135 meanR:27.0700 R:35.0000 rate:0.0700 gloss:1.1619 dloss:1.1555 exploreP:0.7065\n",
      "Episode:136 meanR:27.3500 R:58.0000 rate:0.1160 gloss:1.1651 dloss:1.1590 exploreP:0.7025\n",
      "Episode:137 meanR:27.4000 R:17.0000 rate:0.0340 gloss:1.1613 dloss:1.1546 exploreP:0.7013\n",
      "Episode:138 meanR:27.4900 R:47.0000 rate:0.0940 gloss:1.1571 dloss:1.1503 exploreP:0.6981\n",
      "Episode:139 meanR:27.4900 R:21.0000 rate:0.0420 gloss:1.1584 dloss:1.1527 exploreP:0.6966\n",
      "Episode:140 meanR:27.5200 R:18.0000 rate:0.0360 gloss:1.1549 dloss:1.1481 exploreP:0.6954\n",
      "Episode:141 meanR:27.7400 R:42.0000 rate:0.0840 gloss:1.1584 dloss:1.1526 exploreP:0.6925\n",
      "Episode:142 meanR:27.9400 R:35.0000 rate:0.0700 gloss:1.1592 dloss:1.1534 exploreP:0.6901\n",
      "Episode:143 meanR:28.2700 R:45.0000 rate:0.0900 gloss:1.1561 dloss:1.1500 exploreP:0.6871\n",
      "Episode:144 meanR:28.8700 R:80.0000 rate:0.1600 gloss:1.1564 dloss:1.1509 exploreP:0.6817\n",
      "Episode:145 meanR:28.6600 R:12.0000 rate:0.0240 gloss:1.1521 dloss:1.1468 exploreP:0.6809\n",
      "Episode:146 meanR:28.8800 R:34.0000 rate:0.0680 gloss:1.1559 dloss:1.1507 exploreP:0.6786\n",
      "Episode:147 meanR:29.0100 R:28.0000 rate:0.0560 gloss:1.1573 dloss:1.1525 exploreP:0.6767\n",
      "Episode:148 meanR:29.0200 R:21.0000 rate:0.0420 gloss:1.1573 dloss:1.1533 exploreP:0.6753\n",
      "Episode:149 meanR:29.0700 R:18.0000 rate:0.0360 gloss:1.1522 dloss:1.1458 exploreP:0.6741\n",
      "Episode:150 meanR:29.1900 R:23.0000 rate:0.0460 gloss:1.1562 dloss:1.1515 exploreP:0.6726\n",
      "Episode:151 meanR:29.3300 R:38.0000 rate:0.0760 gloss:1.1572 dloss:1.1530 exploreP:0.6701\n",
      "Episode:152 meanR:29.4400 R:44.0000 rate:0.0880 gloss:1.1543 dloss:1.1497 exploreP:0.6672\n",
      "Episode:153 meanR:29.4800 R:28.0000 rate:0.0560 gloss:1.1561 dloss:1.1516 exploreP:0.6654\n",
      "Episode:154 meanR:29.5000 R:18.0000 rate:0.0360 gloss:1.1523 dloss:1.1484 exploreP:0.6642\n",
      "Episode:155 meanR:29.6300 R:25.0000 rate:0.0500 gloss:1.1532 dloss:1.1485 exploreP:0.6626\n",
      "Episode:156 meanR:29.7300 R:23.0000 rate:0.0460 gloss:1.1513 dloss:1.1469 exploreP:0.6611\n",
      "Episode:157 meanR:30.1900 R:56.0000 rate:0.1120 gloss:1.1515 dloss:1.1469 exploreP:0.6574\n",
      "Episode:158 meanR:30.3300 R:53.0000 rate:0.1060 gloss:1.1492 dloss:1.1452 exploreP:0.6540\n",
      "Episode:159 meanR:30.5800 R:47.0000 rate:0.0940 gloss:1.1497 dloss:1.1459 exploreP:0.6510\n",
      "Episode:160 meanR:30.4100 R:24.0000 rate:0.0480 gloss:1.1475 dloss:1.1443 exploreP:0.6494\n",
      "Episode:161 meanR:30.4000 R:31.0000 rate:0.0620 gloss:1.1481 dloss:1.1438 exploreP:0.6475\n",
      "Episode:162 meanR:30.5200 R:32.0000 rate:0.0640 gloss:1.1436 dloss:1.1392 exploreP:0.6454\n",
      "Episode:163 meanR:30.4800 R:25.0000 rate:0.0500 gloss:1.1436 dloss:1.1397 exploreP:0.6438\n",
      "Episode:164 meanR:30.4900 R:19.0000 rate:0.0380 gloss:1.1446 dloss:1.1411 exploreP:0.6426\n",
      "Episode:165 meanR:30.5400 R:18.0000 rate:0.0360 gloss:1.1412 dloss:1.1375 exploreP:0.6415\n",
      "Episode:166 meanR:30.6500 R:24.0000 rate:0.0480 gloss:1.1439 dloss:1.1407 exploreP:0.6400\n",
      "Episode:167 meanR:30.7700 R:31.0000 rate:0.0620 gloss:1.1447 dloss:1.1413 exploreP:0.6380\n",
      "Episode:168 meanR:30.7400 R:18.0000 rate:0.0360 gloss:1.1457 dloss:1.1422 exploreP:0.6369\n",
      "Episode:169 meanR:30.9700 R:38.0000 rate:0.0760 gloss:1.1451 dloss:1.1410 exploreP:0.6345\n",
      "Episode:170 meanR:30.9300 R:28.0000 rate:0.0560 gloss:1.1470 dloss:1.1435 exploreP:0.6328\n",
      "Episode:171 meanR:30.5300 R:30.0000 rate:0.0600 gloss:1.1437 dloss:1.1405 exploreP:0.6309\n",
      "Episode:172 meanR:30.4300 R:21.0000 rate:0.0420 gloss:1.1415 dloss:1.1378 exploreP:0.6296\n",
      "Episode:173 meanR:31.0400 R:76.0000 rate:0.1520 gloss:1.1423 dloss:1.1386 exploreP:0.6249\n",
      "Episode:174 meanR:31.1900 R:35.0000 rate:0.0700 gloss:1.1413 dloss:1.1382 exploreP:0.6228\n",
      "Episode:175 meanR:31.1000 R:24.0000 rate:0.0480 gloss:1.1430 dloss:1.1397 exploreP:0.6213\n",
      "Episode:176 meanR:30.6100 R:28.0000 rate:0.0560 gloss:1.1427 dloss:1.1398 exploreP:0.6196\n",
      "Episode:177 meanR:30.5400 R:13.0000 rate:0.0260 gloss:1.1456 dloss:1.1428 exploreP:0.6188\n",
      "Episode:178 meanR:30.5700 R:37.0000 rate:0.0740 gloss:1.1444 dloss:1.1412 exploreP:0.6166\n",
      "Episode:179 meanR:30.6900 R:31.0000 rate:0.0620 gloss:1.1481 dloss:1.1448 exploreP:0.6147\n",
      "Episode:180 meanR:30.4500 R:35.0000 rate:0.0700 gloss:1.1474 dloss:1.1444 exploreP:0.6126\n",
      "Episode:181 meanR:30.2700 R:26.0000 rate:0.0520 gloss:1.1416 dloss:1.1377 exploreP:0.6110\n",
      "Episode:182 meanR:29.9900 R:15.0000 rate:0.0300 gloss:1.1440 dloss:1.1412 exploreP:0.6101\n",
      "Episode:183 meanR:30.1200 R:25.0000 rate:0.0500 gloss:1.1436 dloss:1.1404 exploreP:0.6086\n",
      "Episode:184 meanR:30.1900 R:34.0000 rate:0.0680 gloss:1.1446 dloss:1.1417 exploreP:0.6066\n"
     ]
    },
    {
     "name": "stdout",
     "output_type": "stream",
     "text": [
      "Episode:185 meanR:30.1700 R:24.0000 rate:0.0480 gloss:1.1422 dloss:1.1390 exploreP:0.6051\n",
      "Episode:186 meanR:30.2400 R:21.0000 rate:0.0420 gloss:1.1410 dloss:1.1379 exploreP:0.6039\n",
      "Episode:187 meanR:30.4300 R:45.0000 rate:0.0900 gloss:1.1392 dloss:1.1361 exploreP:0.6012\n",
      "Episode:188 meanR:30.4600 R:38.0000 rate:0.0760 gloss:1.1419 dloss:1.1390 exploreP:0.5990\n",
      "Episode:189 meanR:30.6500 R:34.0000 rate:0.0680 gloss:1.1379 dloss:1.1343 exploreP:0.5970\n",
      "Episode:190 meanR:30.9900 R:51.0000 rate:0.1020 gloss:1.1394 dloss:1.1363 exploreP:0.5940\n",
      "Episode:191 meanR:30.4300 R:27.0000 rate:0.0540 gloss:1.1385 dloss:1.1358 exploreP:0.5924\n",
      "Episode:192 meanR:30.4300 R:37.0000 rate:0.0740 gloss:1.1402 dloss:1.1376 exploreP:0.5903\n",
      "Episode:193 meanR:29.9900 R:18.0000 rate:0.0360 gloss:1.1384 dloss:1.1347 exploreP:0.5892\n",
      "Episode:194 meanR:29.9800 R:25.0000 rate:0.0500 gloss:1.1383 dloss:1.1355 exploreP:0.5878\n",
      "Episode:195 meanR:30.1900 R:41.0000 rate:0.0820 gloss:1.1389 dloss:1.1361 exploreP:0.5854\n",
      "Episode:196 meanR:29.9200 R:26.0000 rate:0.0520 gloss:1.1389 dloss:1.1357 exploreP:0.5839\n",
      "Episode:197 meanR:29.2900 R:36.0000 rate:0.0720 gloss:1.1369 dloss:1.1340 exploreP:0.5819\n",
      "Episode:198 meanR:29.3500 R:22.0000 rate:0.0440 gloss:1.1365 dloss:1.1338 exploreP:0.5806\n",
      "Episode:199 meanR:29.8500 R:69.0000 rate:0.1380 gloss:1.1383 dloss:1.1356 exploreP:0.5767\n",
      "Episode:200 meanR:29.8900 R:26.0000 rate:0.0520 gloss:1.1382 dloss:1.1350 exploreP:0.5752\n",
      "Episode:201 meanR:30.0100 R:53.0000 rate:0.1060 gloss:1.1404 dloss:1.1373 exploreP:0.5722\n",
      "Episode:202 meanR:30.0500 R:23.0000 rate:0.0460 gloss:1.1394 dloss:1.1361 exploreP:0.5709\n",
      "Episode:203 meanR:30.3000 R:39.0000 rate:0.0780 gloss:1.1368 dloss:1.1342 exploreP:0.5688\n",
      "Episode:204 meanR:30.4900 R:31.0000 rate:0.0620 gloss:1.1409 dloss:1.1386 exploreP:0.5670\n",
      "Episode:205 meanR:30.5000 R:16.0000 rate:0.0320 gloss:1.1398 dloss:1.1374 exploreP:0.5661\n",
      "Episode:206 meanR:30.6200 R:29.0000 rate:0.0580 gloss:1.1371 dloss:1.1340 exploreP:0.5645\n",
      "Episode:207 meanR:30.9900 R:51.0000 rate:0.1020 gloss:1.1388 dloss:1.1360 exploreP:0.5617\n",
      "Episode:208 meanR:30.8900 R:16.0000 rate:0.0320 gloss:1.1381 dloss:1.1350 exploreP:0.5608\n",
      "Episode:209 meanR:30.9200 R:24.0000 rate:0.0480 gloss:1.1380 dloss:1.1350 exploreP:0.5595\n",
      "Episode:210 meanR:30.9300 R:23.0000 rate:0.0460 gloss:1.1401 dloss:1.1378 exploreP:0.5582\n",
      "Episode:211 meanR:30.9700 R:29.0000 rate:0.0580 gloss:1.1380 dloss:1.1348 exploreP:0.5566\n",
      "Episode:212 meanR:31.0400 R:25.0000 rate:0.0500 gloss:1.1387 dloss:1.1357 exploreP:0.5553\n",
      "Episode:213 meanR:31.3000 R:57.0000 rate:0.1140 gloss:1.1355 dloss:1.1332 exploreP:0.5522\n",
      "Episode:214 meanR:31.1800 R:26.0000 rate:0.0520 gloss:1.1357 dloss:1.1331 exploreP:0.5508\n",
      "Episode:215 meanR:31.1400 R:25.0000 rate:0.0500 gloss:1.1340 dloss:1.1319 exploreP:0.5494\n",
      "Episode:216 meanR:31.3400 R:43.0000 rate:0.0860 gloss:1.1368 dloss:1.1341 exploreP:0.5471\n",
      "Episode:217 meanR:31.4400 R:28.0000 rate:0.0560 gloss:1.1368 dloss:1.1343 exploreP:0.5456\n",
      "Episode:218 meanR:31.7100 R:75.0000 rate:0.1500 gloss:1.1356 dloss:1.1334 exploreP:0.5416\n",
      "Episode:219 meanR:31.6600 R:17.0000 rate:0.0340 gloss:1.1420 dloss:1.1399 exploreP:0.5407\n",
      "Episode:220 meanR:31.4300 R:18.0000 rate:0.0360 gloss:1.1393 dloss:1.1372 exploreP:0.5397\n",
      "Episode:221 meanR:31.7100 R:46.0000 rate:0.0920 gloss:1.1388 dloss:1.1364 exploreP:0.5373\n",
      "Episode:222 meanR:31.7800 R:19.0000 rate:0.0380 gloss:1.1365 dloss:1.1337 exploreP:0.5363\n",
      "Episode:223 meanR:31.9500 R:42.0000 rate:0.0840 gloss:1.1360 dloss:1.1329 exploreP:0.5341\n",
      "Episode:224 meanR:32.1900 R:34.0000 rate:0.0680 gloss:1.1314 dloss:1.1280 exploreP:0.5323\n",
      "Episode:225 meanR:32.3800 R:44.0000 rate:0.0880 gloss:1.1369 dloss:1.1346 exploreP:0.5300\n",
      "Episode:226 meanR:32.3600 R:31.0000 rate:0.0620 gloss:1.1358 dloss:1.1333 exploreP:0.5284\n",
      "Episode:227 meanR:32.1500 R:19.0000 rate:0.0380 gloss:1.1328 dloss:1.1297 exploreP:0.5274\n",
      "Episode:228 meanR:32.0100 R:13.0000 rate:0.0260 gloss:1.1357 dloss:1.1334 exploreP:0.5268\n",
      "Episode:229 meanR:32.1100 R:21.0000 rate:0.0420 gloss:1.1354 dloss:1.1331 exploreP:0.5257\n",
      "Episode:230 meanR:32.0500 R:54.0000 rate:0.1080 gloss:1.1335 dloss:1.1310 exploreP:0.5229\n",
      "Episode:231 meanR:32.0300 R:25.0000 rate:0.0500 gloss:1.1290 dloss:1.1265 exploreP:0.5216\n",
      "Episode:232 meanR:32.0400 R:29.0000 rate:0.0580 gloss:1.1341 dloss:1.1320 exploreP:0.5202\n",
      "Episode:233 meanR:32.1500 R:45.0000 rate:0.0900 gloss:1.1300 dloss:1.1273 exploreP:0.5179\n",
      "Episode:234 meanR:32.1500 R:21.0000 rate:0.0420 gloss:1.1351 dloss:1.1328 exploreP:0.5168\n",
      "Episode:235 meanR:32.1500 R:35.0000 rate:0.0700 gloss:1.1337 dloss:1.1317 exploreP:0.5150\n",
      "Episode:236 meanR:31.9100 R:34.0000 rate:0.0680 gloss:1.1362 dloss:1.1338 exploreP:0.5133\n",
      "Episode:237 meanR:32.6900 R:95.0000 rate:0.1900 gloss:1.1306 dloss:1.1282 exploreP:0.5086\n",
      "Episode:238 meanR:32.5400 R:32.0000 rate:0.0640 gloss:1.1327 dloss:1.1303 exploreP:0.5070\n",
      "Episode:239 meanR:33.0500 R:72.0000 rate:0.1440 gloss:1.1350 dloss:1.1326 exploreP:0.5034\n",
      "Episode:240 meanR:33.0800 R:21.0000 rate:0.0420 gloss:1.1353 dloss:1.1336 exploreP:0.5024\n",
      "Episode:241 meanR:33.2700 R:61.0000 rate:0.1220 gloss:1.1344 dloss:1.1318 exploreP:0.4994\n",
      "Episode:242 meanR:33.0900 R:17.0000 rate:0.0340 gloss:1.1302 dloss:1.1275 exploreP:0.4985\n",
      "Episode:243 meanR:32.9100 R:27.0000 rate:0.0540 gloss:1.1342 dloss:1.1320 exploreP:0.4972\n",
      "Episode:244 meanR:32.2300 R:12.0000 rate:0.0240 gloss:1.1295 dloss:1.1269 exploreP:0.4966\n",
      "Episode:245 meanR:32.4000 R:29.0000 rate:0.0580 gloss:1.1351 dloss:1.1325 exploreP:0.4952\n",
      "Episode:246 meanR:32.3900 R:33.0000 rate:0.0660 gloss:1.1334 dloss:1.1314 exploreP:0.4936\n",
      "Episode:247 meanR:32.2900 R:18.0000 rate:0.0360 gloss:1.1337 dloss:1.1313 exploreP:0.4928\n",
      "Episode:248 meanR:32.3600 R:28.0000 rate:0.0560 gloss:1.1346 dloss:1.1324 exploreP:0.4914\n",
      "Episode:249 meanR:32.4600 R:28.0000 rate:0.0560 gloss:1.1307 dloss:1.1284 exploreP:0.4901\n",
      "Episode:250 meanR:32.5600 R:33.0000 rate:0.0660 gloss:1.1341 dloss:1.1319 exploreP:0.4885\n",
      "Episode:251 meanR:32.5000 R:32.0000 rate:0.0640 gloss:1.1296 dloss:1.1274 exploreP:0.4869\n",
      "Episode:252 meanR:32.7600 R:70.0000 rate:0.1400 gloss:1.1292 dloss:1.1267 exploreP:0.4836\n",
      "Episode:253 meanR:32.6800 R:20.0000 rate:0.0400 gloss:1.1314 dloss:1.1293 exploreP:0.4827\n",
      "Episode:254 meanR:32.7800 R:28.0000 rate:0.0560 gloss:1.1323 dloss:1.1300 exploreP:0.4814\n",
      "Episode:255 meanR:32.8700 R:34.0000 rate:0.0680 gloss:1.1275 dloss:1.1250 exploreP:0.4798\n",
      "Episode:256 meanR:33.1500 R:51.0000 rate:0.1020 gloss:1.1316 dloss:1.1295 exploreP:0.4774\n",
      "Episode:257 meanR:32.9000 R:31.0000 rate:0.0620 gloss:1.1282 dloss:1.1257 exploreP:0.4759\n",
      "Episode:258 meanR:32.7100 R:34.0000 rate:0.0680 gloss:1.1295 dloss:1.1271 exploreP:0.4743\n",
      "Episode:259 meanR:32.4700 R:23.0000 rate:0.0460 gloss:1.1240 dloss:1.1216 exploreP:0.4733\n",
      "Episode:260 meanR:32.5400 R:31.0000 rate:0.0620 gloss:1.1291 dloss:1.1269 exploreP:0.4718\n",
      "Episode:261 meanR:32.6300 R:40.0000 rate:0.0800 gloss:1.1279 dloss:1.1264 exploreP:0.4700\n",
      "Episode:262 meanR:32.5800 R:27.0000 rate:0.0540 gloss:1.1263 dloss:1.1244 exploreP:0.4687\n",
      "Episode:263 meanR:32.6900 R:36.0000 rate:0.0720 gloss:1.1298 dloss:1.1277 exploreP:0.4671\n",
      "Episode:264 meanR:32.7900 R:29.0000 rate:0.0580 gloss:1.1340 dloss:1.1319 exploreP:0.4658\n",
      "Episode:265 meanR:32.9000 R:29.0000 rate:0.0580 gloss:1.1301 dloss:1.1276 exploreP:0.4645\n",
      "Episode:266 meanR:32.7600 R:10.0000 rate:0.0200 gloss:1.1282 dloss:1.1261 exploreP:0.4640\n",
      "Episode:267 meanR:32.6400 R:19.0000 rate:0.0380 gloss:1.1306 dloss:1.1285 exploreP:0.4631\n",
      "Episode:268 meanR:32.8600 R:40.0000 rate:0.0800 gloss:1.1336 dloss:1.1318 exploreP:0.4613\n",
      "Episode:269 meanR:32.7400 R:26.0000 rate:0.0520 gloss:1.1357 dloss:1.1340 exploreP:0.4602\n",
      "Episode:270 meanR:32.9200 R:46.0000 rate:0.0920 gloss:1.1297 dloss:1.1272 exploreP:0.4581\n",
      "Episode:271 meanR:33.3600 R:74.0000 rate:0.1480 gloss:1.1292 dloss:1.1268 exploreP:0.4548\n",
      "Episode:272 meanR:33.4400 R:29.0000 rate:0.0580 gloss:1.1271 dloss:1.1250 exploreP:0.4535\n",
      "Episode:273 meanR:32.7900 R:11.0000 rate:0.0220 gloss:1.1327 dloss:1.1310 exploreP:0.4530\n",
      "Episode:274 meanR:33.0700 R:63.0000 rate:0.1260 gloss:1.1257 dloss:1.1231 exploreP:0.4502\n",
      "Episode:275 meanR:33.2600 R:43.0000 rate:0.0860 gloss:1.1290 dloss:1.1271 exploreP:0.4483\n",
      "Episode:276 meanR:33.2000 R:22.0000 rate:0.0440 gloss:1.1221 dloss:1.1197 exploreP:0.4474\n"
     ]
    },
    {
     "name": "stdout",
     "output_type": "stream",
     "text": [
      "Episode:277 meanR:33.3800 R:31.0000 rate:0.0620 gloss:1.1232 dloss:1.1208 exploreP:0.4460\n",
      "Episode:278 meanR:33.4600 R:45.0000 rate:0.0900 gloss:1.1260 dloss:1.1239 exploreP:0.4441\n",
      "Episode:279 meanR:33.5300 R:38.0000 rate:0.0760 gloss:1.1240 dloss:1.1220 exploreP:0.4424\n",
      "Episode:280 meanR:33.6100 R:43.0000 rate:0.0860 gloss:1.1307 dloss:1.1288 exploreP:0.4406\n",
      "Episode:281 meanR:33.8000 R:45.0000 rate:0.0900 gloss:1.1276 dloss:1.1254 exploreP:0.4386\n",
      "Episode:282 meanR:34.3300 R:68.0000 rate:0.1360 gloss:1.1255 dloss:1.1234 exploreP:0.4357\n",
      "Episode:283 meanR:34.2600 R:18.0000 rate:0.0360 gloss:1.1222 dloss:1.1196 exploreP:0.4350\n",
      "Episode:284 meanR:34.2300 R:31.0000 rate:0.0620 gloss:1.1250 dloss:1.1229 exploreP:0.4336\n",
      "Episode:285 meanR:34.3600 R:37.0000 rate:0.0740 gloss:1.1234 dloss:1.1214 exploreP:0.4321\n",
      "Episode:286 meanR:34.3800 R:23.0000 rate:0.0460 gloss:1.1253 dloss:1.1231 exploreP:0.4311\n",
      "Episode:287 meanR:34.1400 R:21.0000 rate:0.0420 gloss:1.1269 dloss:1.1250 exploreP:0.4302\n",
      "Episode:288 meanR:33.9600 R:20.0000 rate:0.0400 gloss:1.1256 dloss:1.1235 exploreP:0.4294\n",
      "Episode:289 meanR:33.9000 R:28.0000 rate:0.0560 gloss:1.1239 dloss:1.1216 exploreP:0.4282\n",
      "Episode:290 meanR:33.7600 R:37.0000 rate:0.0740 gloss:1.1272 dloss:1.1256 exploreP:0.4267\n",
      "Episode:291 meanR:33.8700 R:38.0000 rate:0.0760 gloss:1.1258 dloss:1.1240 exploreP:0.4251\n",
      "Episode:292 meanR:33.7900 R:29.0000 rate:0.0580 gloss:1.1262 dloss:1.1243 exploreP:0.4239\n",
      "Episode:293 meanR:34.1100 R:50.0000 rate:0.1000 gloss:1.1309 dloss:1.1290 exploreP:0.4218\n",
      "Episode:294 meanR:34.1300 R:27.0000 rate:0.0540 gloss:1.1283 dloss:1.1265 exploreP:0.4207\n",
      "Episode:295 meanR:34.2000 R:48.0000 rate:0.0960 gloss:1.1276 dloss:1.1258 exploreP:0.4188\n",
      "Episode:296 meanR:34.2100 R:27.0000 rate:0.0540 gloss:1.1268 dloss:1.1252 exploreP:0.4176\n",
      "Episode:297 meanR:34.3400 R:49.0000 rate:0.0980 gloss:1.1277 dloss:1.1256 exploreP:0.4157\n",
      "Episode:298 meanR:34.7600 R:64.0000 rate:0.1280 gloss:1.1252 dloss:1.1232 exploreP:0.4131\n",
      "Episode:299 meanR:34.2600 R:19.0000 rate:0.0380 gloss:1.1289 dloss:1.1270 exploreP:0.4123\n",
      "Episode:300 meanR:34.2500 R:25.0000 rate:0.0500 gloss:1.1302 dloss:1.1281 exploreP:0.4113\n",
      "Episode:301 meanR:34.8100 R:109.0000 rate:0.2180 gloss:1.1273 dloss:1.1255 exploreP:0.4069\n",
      "Episode:302 meanR:34.8500 R:27.0000 rate:0.0540 gloss:1.1355 dloss:1.1333 exploreP:0.4059\n",
      "Episode:303 meanR:34.7000 R:24.0000 rate:0.0480 gloss:1.1373 dloss:1.1352 exploreP:0.4049\n",
      "Episode:304 meanR:34.7300 R:34.0000 rate:0.0680 gloss:1.1345 dloss:1.1333 exploreP:0.4036\n",
      "Episode:305 meanR:34.7800 R:21.0000 rate:0.0420 gloss:1.1360 dloss:1.1342 exploreP:0.4028\n",
      "Episode:306 meanR:34.8200 R:33.0000 rate:0.0660 gloss:1.1386 dloss:1.1369 exploreP:0.4015\n",
      "Episode:307 meanR:34.4400 R:13.0000 rate:0.0260 gloss:1.1456 dloss:1.1438 exploreP:0.4010\n",
      "Episode:308 meanR:34.5400 R:26.0000 rate:0.0520 gloss:1.1392 dloss:1.1373 exploreP:0.3999\n",
      "Episode:309 meanR:34.6500 R:35.0000 rate:0.0700 gloss:1.1354 dloss:1.1334 exploreP:0.3986\n",
      "Episode:310 meanR:34.6100 R:19.0000 rate:0.0380 gloss:1.1394 dloss:1.1382 exploreP:0.3978\n",
      "Episode:311 meanR:34.7100 R:39.0000 rate:0.0780 gloss:1.1386 dloss:1.1372 exploreP:0.3963\n",
      "Episode:312 meanR:34.7100 R:25.0000 rate:0.0500 gloss:1.1380 dloss:1.1357 exploreP:0.3954\n",
      "Episode:313 meanR:34.4000 R:26.0000 rate:0.0520 gloss:1.1402 dloss:1.1387 exploreP:0.3944\n",
      "Episode:314 meanR:34.6900 R:55.0000 rate:0.1100 gloss:1.1401 dloss:1.1385 exploreP:0.3923\n",
      "Episode:315 meanR:34.9000 R:46.0000 rate:0.0920 gloss:1.1399 dloss:1.1381 exploreP:0.3905\n",
      "Episode:316 meanR:34.7600 R:29.0000 rate:0.0580 gloss:1.1368 dloss:1.1351 exploreP:0.3894\n",
      "Episode:317 meanR:35.0900 R:61.0000 rate:0.1220 gloss:1.1381 dloss:1.1365 exploreP:0.3871\n",
      "Episode:318 meanR:34.5700 R:23.0000 rate:0.0460 gloss:1.1402 dloss:1.1385 exploreP:0.3862\n",
      "Episode:319 meanR:34.6200 R:22.0000 rate:0.0440 gloss:1.1427 dloss:1.1406 exploreP:0.3854\n",
      "Episode:320 meanR:34.6400 R:20.0000 rate:0.0400 gloss:1.1413 dloss:1.1396 exploreP:0.3847\n",
      "Episode:321 meanR:34.4100 R:23.0000 rate:0.0460 gloss:1.1401 dloss:1.1386 exploreP:0.3838\n",
      "Episode:322 meanR:34.4600 R:24.0000 rate:0.0480 gloss:1.1384 dloss:1.1362 exploreP:0.3829\n",
      "Episode:323 meanR:34.2900 R:25.0000 rate:0.0500 gloss:1.1405 dloss:1.1383 exploreP:0.3820\n"
     ]
    }
   ],
   "source": [
    "# Save/load the model and save for plotting\n",
    "saver = tf.train.Saver()\n",
    "episode_rewards_list, rewards_list = [], [] # goal\n",
    "gloss_list, dloss_list = [], []\n",
    "\n",
    "# TF session for training\n",
    "with tf.Session(graph=graph) as sess:\n",
    "    sess.run(tf.global_variables_initializer())\n",
    "    #saver.restore(sess, 'checkpoints/model.ckpt')    \n",
    "    #saver.restore(sess, tf.train.latest_checkpoint('checkpoints'))\n",
    "    total_step = 0 # Explore or exploit parameter\n",
    "    episode_reward = deque(maxlen=100) # 100 episodes average/running average/running mean/window\n",
    "\n",
    "    # Training episodes/epochs\n",
    "    for ep in range(1111):\n",
    "        total_reward = 0 # each episode\n",
    "        gloss_batch, dloss_batch = [], []\n",
    "        state = env.reset() # each episode\n",
    "        num_step = 0 # each episode\n",
    "\n",
    "        # Training steps/batches\n",
    "        while True:\n",
    "            # Explore (Env) or Exploit (Model)\n",
    "            total_step += 1\n",
    "            explore_p = explore_stop + (explore_start - explore_stop) * np.exp(-decay_rate * total_step) \n",
    "            if explore_p > np.random.rand():\n",
    "                action = env.action_space.sample()\n",
    "            else:\n",
    "                action_logits = sess.run(model.actions_logits, feed_dict={model.states: state.reshape([1, -1]), \n",
    "                                                                          model.training: False})\n",
    "                action = np.argmax(action_logits)\n",
    "            next_state, reward, done, _ = env.step(action)\n",
    "            rate = -1 # [-1, +1] or [0, 1]\n",
    "            memory.buffer.append([state, action, next_state, reward, float(done), rate])\n",
    "            num_step += 1 # memory incremented\n",
    "            total_reward += reward\n",
    "            state = next_state\n",
    "            \n",
    "            # Rating\n",
    "            if done is True:\n",
    "                rate = total_reward/500 # [0, 1]\n",
    "                for idx in range(num_step): # episode length\n",
    "                    if memory.buffer[-1-idx][-1] == -1:\n",
    "                        memory.buffer[-1-idx][-1] = rate\n",
    "                        \n",
    "            # Training\n",
    "            batch = memory.buffer\n",
    "            states, actions, next_states, rewards, dones, rates = minibatch(batch=batch)\n",
    "            nextQs_logits = sess.run(model.Qs_logits, feed_dict = {model.states: next_states,\n",
    "                                                                   model.training: False})\n",
    "            #nextQs = np.max(nextQs_logits, axis=1) * (1-dones) # DQN\n",
    "            nextQs = nextQs_logits.reshape([-1]) * (1-dones) # DPG\n",
    "            targetQs = rewards + (gamma * nextQs)\n",
    "            dloss, _ = sess.run([model.d_loss, model.d_opt],feed_dict = {model.states: states, \n",
    "                                                                         model.actions: actions,\n",
    "                                                                         model.targetQs: targetQs, \n",
    "                                                                         model.rates: rates,\n",
    "                                                                         model.training: True})\n",
    "            gloss, _ = sess.run([model.g_loss, model.g_opt],feed_dict = {model.states: states, \n",
    "                                                                         model.actions: actions,\n",
    "                                                                         model.targetQs: targetQs, \n",
    "                                                                         model.rates: rates,\n",
    "                                                                         model.training: True})\n",
    "            gloss_batch.append(gloss)\n",
    "            dloss_batch.append(dloss)\n",
    "            if done is True:\n",
    "                break\n",
    "                \n",
    "        episode_reward.append(total_reward)\n",
    "        print('Episode:{}'.format(ep),\n",
    "              'meanR:{:.4f}'.format(np.mean(episode_reward)),\n",
    "              'R:{:.4f}'.format(total_reward),\n",
    "              'rate:{:.4f}'.format(rate),\n",
    "              'gloss:{:.4f}'.format(np.mean(gloss_batch)),\n",
    "              'dloss:{:.4f}'.format(np.mean(dloss_batch)),\n",
    "              'exploreP:{:.4f}'.format(explore_p))\n",
    "\n",
    "        # Ploting out\n",
    "        episode_rewards_list.append([ep, np.mean(episode_reward)])\n",
    "        rewards_list.append([ep, total_reward])\n",
    "        gloss_list.append([ep, np.mean(gloss_batch)])\n",
    "        dloss_list.append([ep, np.mean(dloss_batch)])\n",
    "        \n",
    "        # Break episode/epoch loop\n",
    "        ## Option 1: Solve the First Version\n",
    "        #The task is episodic, and in order to solve the environment, \n",
    "        #your agent must get an average score of +30 over 100 consecutive episodes.\n",
    "        if np.mean(episode_reward) >= 500:\n",
    "            break\n",
    "            \n",
    "    # At the end of all training episodes/epochs\n",
    "    saver.save(sess, 'checkpoints/model.ckpt')"
   ]
  },
  {
   "cell_type": "markdown",
   "metadata": {},
   "source": [
    "# Visualizing training\n",
    "\n",
    "Below I'll plot the total rewards for each episode. I'm plotting the rolling average too, in blue."
   ]
  },
  {
   "cell_type": "code",
   "execution_count": 154,
   "metadata": {},
   "outputs": [],
   "source": [
    "import matplotlib.pyplot as plt\n",
    "%matplotlib inline\n",
    "\n",
    "def running_mean(x, N):\n",
    "    cumsum = np.cumsum(np.insert(x, 0, 0)) \n",
    "    return (cumsum[N:] - cumsum[:-N]) / N "
   ]
  },
  {
   "cell_type": "code",
   "execution_count": 155,
   "metadata": {},
   "outputs": [
    {
     "data": {
      "text/plain": [
       "Text(0, 0.5, 'Total rewards')"
      ]
     },
     "execution_count": 155,
     "metadata": {},
     "output_type": "execute_result"
    },
    {
     "data": {
      "image/png": "[encoded data removed]",
      "text/plain": [
       "<Figure size 432x288 with 1 Axes>"
      ]
     },
     "metadata": {
      "needs_background": "light"
     },
     "output_type": "display_data"
    }
   ],
   "source": [
    "eps, arr = np.array(episode_rewards_list).T\n",
    "smoothed_arr = running_mean(arr, 10)\n",
    "plt.plot(eps[-len(smoothed_arr):], smoothed_arr)\n",
    "plt.plot(eps, arr, color='grey', alpha=0.3)\n",
    "plt.xlabel('Episode')\n",
    "plt.ylabel('Total rewards')"
   ]
  },
  {
   "cell_type": "code",
   "execution_count": 158,
   "metadata": {},
   "outputs": [
    {
     "data": {
      "text/plain": [
       "Text(0, 0.5, 'Total rewards')"
      ]
     },
     "execution_count": 158,
     "metadata": {},
     "output_type": "execute_result"
    },
    {
     "data": {
      "image/png": "[encoded data removed]",
      "text/plain": [
       "<Figure size 432x288 with 1 Axes>"
      ]
     },
     "metadata": {
      "needs_background": "light"
     },
     "output_type": "display_data"
    }
   ],
   "source": [
    "eps, arr = np.array(rewards_list).T\n",
    "smoothed_arr = running_mean(arr, 10)\n",
    "plt.plot(eps[-len(smoothed_arr):], smoothed_arr)\n",
    "plt.plot(eps, arr, color='grey', alpha=0.3)\n",
    "plt.xlabel('Episode')\n",
    "plt.ylabel('Total rewards')"
   ]
  },
  {
   "cell_type": "code",
   "execution_count": 160,
   "metadata": {},
   "outputs": [
    {
     "data": {
      "text/plain": [
       "Text(0, 0.5, 'G losses')"
      ]
     },
     "execution_count": 160,
     "metadata": {},
     "output_type": "execute_result"
    },
    {
     "data": {
      "image/png": "[encoded data removed]",
      "text/plain": [
       "<Figure size 432x288 with 1 Axes>"
      ]
     },
     "metadata": {
      "needs_background": "light"
     },
     "output_type": "display_data"
    }
   ],
   "source": [
    "eps, arr = np.array(gloss_list).T\n",
    "smoothed_arr = running_mean(arr, 10)\n",
    "plt.plot(eps[-len(smoothed_arr):], smoothed_arr)\n",
    "plt.plot(eps, arr, color='grey', alpha=0.3)\n",
    "plt.xlabel('Episode')\n",
    "plt.ylabel('G losses')"
   ]
  },
  {
   "cell_type": "code",
   "execution_count": 161,
   "metadata": {},
   "outputs": [
    {
     "data": {
      "text/plain": [
       "Text(0, 0.5, 'D losses')"
      ]
     },
     "execution_count": 161,
     "metadata": {},
     "output_type": "execute_result"
    },
    {
     "data": {
      "image/png": "[encoded data removed]",
      "text/plain": [
       "<Figure size 432x288 with 1 Axes>"
      ]
     },
     "metadata": {
      "needs_background": "light"
     },
     "output_type": "display_data"
    }
   ],
   "source": [
    "eps, arr = np.array(dloss_list).T\n",
    "smoothed_arr = running_mean(arr, 10)\n",
    "plt.plot(eps[-len(smoothed_arr):], smoothed_arr)\n",
    "plt.plot(eps, arr, color='grey', alpha=0.3)\n",
    "plt.xlabel('Episode')\n",
    "plt.ylabel('D losses')"
   ]
  },
  {
   "cell_type": "markdown",
   "metadata": {},
   "source": [
    "## Testing\n",
    "\n",
    "Let's checkout how our trained agent plays the game."
   ]
  },
  {
   "cell_type": "code",
   "execution_count": 36,
   "metadata": {},
   "outputs": [
    {
     "name": "stdout",
     "output_type": "stream",
     "text": [
      "\u001b[33mWARN: gym.spaces.Box autodetected dtype as <class 'numpy.float32'>. Please provide explicit dtype.\u001b[0m\n",
      "\u001b[33mWARN: gym.spaces.Box autodetected dtype as <class 'numpy.float32'>. Please provide explicit dtype.\u001b[0m\n",
      "INFO:tensorflow:Restoring parameters from checkpoints/model.ckpt\n"
     ]
    },
    {
     "name": "stderr",
     "output_type": "stream",
     "text": [
      "/home/arasdar/anaconda3/envs/env/lib/python3.6/site-packages/gym/__init__.py:22: UserWarning: DEPRECATION WARNING: to improve load times, gym no longer automatically loads gym.spaces. Please run \"import gym.spaces\" to load gym.spaces on your own. This warning will turn into an error in a future version of gym.\n",
      "  warnings.warn('DEPRECATION WARNING: to improve load times, gym no longer automatically loads gym.spaces. Please run \"import gym.spaces\" to load gym.spaces on your own. This warning will turn into an error in a future version of gym.')\n"
     ]
    },
    {
     "name": "stdout",
     "output_type": "stream",
     "text": [
      "total_reward: 500.0\n"
     ]
    }
   ],
   "source": [
    "import gym\n",
    "env = gym.make('CartPole-v0')\n",
    "env = gym.make('CartPole-v1')\n",
    "# env = gym.make('Acrobot-v1')\n",
    "# env = gym.make('MountainCar-v0')\n",
    "# env = gym.make('Pendulum-v0')\n",
    "# env = gym.make('Blackjack-v0')\n",
    "# env = gym.make('FrozenLake-v0')\n",
    "# env = gym.make('AirRaid-ram-v0')\n",
    "# env = gym.make('AirRaid-v0')\n",
    "# env = gym.make('BipedalWalker-v2')\n",
    "# env = gym.make('Copy-v0')\n",
    "# env = gym.make('CarRacing-v0')\n",
    "# env = gym.make('Ant-v2') #mujoco\n",
    "# env = gym.make('FetchPickAndPlace-v1') # mujoco required!\n",
    "\n",
    "with tf.Session() as sess:\n",
    "    sess.run(tf.global_variables_initializer())\n",
    "    saver.restore(sess, 'checkpoints/model.ckpt')    \n",
    "    #saver.restore(sess, tf.train.latest_checkpoint('checkpoints'))\n",
    "    \n",
    "    # Episodes/epochs\n",
    "    for _ in range(1):\n",
    "        state = env.reset()\n",
    "        total_reward = 0\n",
    "\n",
    "        # Steps/batches\n",
    "        while True:\n",
    "            env.render()\n",
    "            action_logits = sess.run(model.actions_logits, feed_dict={model.states: state.reshape([1, -1])})\n",
    "            action = np.argmax(action_logits)\n",
    "            state, reward, done, _ = env.step(action)\n",
    "            total_reward += reward\n",
    "            if done:\n",
    "                print('total_reward: {}'.format(total_reward))\n",
    "                break\n",
    "                \n",
    "env.close()"
   ]
  },
  {
   "cell_type": "markdown",
   "metadata": {},
   "source": [
    "## Extending this\n",
    "\n",
    "So, Cart-Pole is a pretty simple game. However, the same model can be used to train an agent to play something much more complicated like Pong or Space Invaders. Instead of a state like we're using here though, you'd want to use convolutional layers to get the state from the screen images.\n",
    "\n",
    "![Deep Q-Learning Atari](assets/atari-network.png)\n",
    "\n",
    "I'll leave it as a challenge for you to use deep Q-learning to train an agent to play Atari games. Here's the original paper which will get you started: http://www.davidqiu.com:8888/research/nature14236.pdf."
   ]
  },
  {
   "cell_type": "code",
   "execution_count": null,
   "metadata": {},
   "outputs": [],
   "source": []
  }
 ],
 "metadata": {
  "kernelspec": {
   "display_name": "Python 3",
   "language": "python",
   "name": "python3"
  },
  "language_info": {
   "codemirror_mode": {
    "name": "ipython",
    "version": 3
   },
   "file_extension": ".py",
   "mimetype": "text/x-python",
   "name": "python",
   "nbconvert_exporter": "python",
   "pygments_lexer": "ipython3",
   "version": "3.6.6"
  }
 },
 "nbformat": 4,
 "nbformat_minor": 2
}
