{
 "cells": [
  {
   "cell_type": "markdown",
   "metadata": {},
   "source": [
    "# DPG for Cartpole\n",
    "\n",
    "\n",
    "In this notebook, we'll build a neural network that can learn to play games through reinforcement learning. More specifically, we'll use Q-learning to train an agent to play a game called [Cart-Pole](https://gym.openai.com/envs/CartPole-v0). In this game, a freely swinging pole is attached to a cart. The cart can move to the left and right, and the goal is to keep the pole upright as long as possible.\n",
    "\n",
    "![Cart-Pole](assets/cart-pole.jpg)\n",
    "\n",
    "We can simulate this game using [OpenAI Gym](https://gym.openai.com/). First, let's check out how OpenAI Gym works. Then, we'll get into training an agent to play the Cart-Pole game."
   ]
  },
  {
   "cell_type": "code",
   "execution_count": 1,
   "metadata": {},
   "outputs": [
    {
     "name": "stdout",
     "output_type": "stream",
     "text": [
      "TensorFlow Version: 1.11.0\n",
      "Default GPU Device: /device:GPU:0\n"
     ]
    }
   ],
   "source": [
    "# In this one we should define and detect GPUs for tensorflow\n",
    "# GPUs or CPU\n",
    "import tensorflow as tf\n",
    "\n",
    "# Check TensorFlow Version\n",
    "print('TensorFlow Version: {}'.format(tf.__version__))\n",
    "\n",
    "# Check for a GPU\n",
    "print('Default GPU Device: {}'.format(tf.test.gpu_device_name()))"
   ]
  },
  {
   "cell_type": "markdown",
   "metadata": {},
   "source": [
    ">**Note:** Make sure you have OpenAI Gym cloned into the same directory with this notebook. I've included `gym` as a submodule, so you can run `git submodule --init --recursive` to pull the contents into the `gym` repo."
   ]
  },
  {
   "cell_type": "markdown",
   "metadata": {},
   "source": [
    "##### >**Note:** Make sure you have OpenAI Gym cloned. Then run this command `pip install -e gym/[all]`."
   ]
  },
  {
   "cell_type": "code",
   "execution_count": 3,
   "metadata": {},
   "outputs": [],
   "source": [
    "import gym\n",
    "env = gym.make('CartPole-v0')\n",
    "env = gym.make('CartPole-v1')"
   ]
  },
  {
   "cell_type": "markdown",
   "metadata": {},
   "source": [
    "We interact with the simulation through `env`. To show the simulation running, you can use `env.render()` to render one frame. Passing in an action as an integer to `env.step` will generate the next step in the simulation.  You can see how many actions are possible from `env.action_space` and to get a random action you can use `env.action_space.sample()`. This is general to all Gym games. In the Cart-Pole game, there are two possible actions, moving the cart left or right. So there are two actions we can take, encoded as 0 and 1.\n",
    "\n",
    "Run the code below to watch the simulation run."
   ]
  },
  {
   "cell_type": "code",
   "execution_count": 4,
   "metadata": {},
   "outputs": [],
   "source": [
    "env.reset()\n",
    "batch = []\n",
    "for _ in range(1111):\n",
    "    #env.render()\n",
    "    action = env.action_space.sample()\n",
    "    state, reward, done, info = env.step(action) # take a random action\n",
    "    batch.append([action, state, reward, done, info])\n",
    "    #print('state, action, reward, done, info:', state, action, reward, done, info)\n",
    "    if done:\n",
    "        env.reset()"
   ]
  },
  {
   "cell_type": "markdown",
   "metadata": {},
   "source": [
    "To shut the window showing the simulation, use `env.close()`."
   ]
  },
  {
   "cell_type": "code",
   "execution_count": 5,
   "metadata": {},
   "outputs": [],
   "source": [
    "# env.close()"
   ]
  },
  {
   "cell_type": "markdown",
   "metadata": {},
   "source": [
    "If you ran the simulation above, we can look at the rewards:"
   ]
  },
  {
   "cell_type": "code",
   "execution_count": 6,
   "metadata": {},
   "outputs": [],
   "source": [
    "import numpy as np\n",
    "actions = np.array([each[0] for each in batch])\n",
    "states = np.array([each[1] for each in batch])\n",
    "rewards = np.array([each[2] for each in batch])\n",
    "dones = np.array([each[3] for each in batch])\n",
    "infos = np.array([each[4] for each in batch])"
   ]
  },
  {
   "cell_type": "code",
   "execution_count": 7,
   "metadata": {},
   "outputs": [
    {
     "name": "stdout",
     "output_type": "stream",
     "text": [
      "shapes: (1111,) (1111, 4) (1111,) (1111,)\n",
      "dtypes: float64 float64 int64 bool\n",
      "states: 2.5241856479297082 -2.4869053002172326\n",
      "actions: 1 0\n",
      "rewards: 1.0 1.0\n"
     ]
    }
   ],
   "source": [
    "# print(rewards[-20:])\n",
    "print('shapes:', np.array(rewards).shape, np.array(states).shape, np.array(actions).shape, np.array(dones).shape)\n",
    "print('dtypes:', np.array(rewards).dtype, np.array(states).dtype, np.array(actions).dtype, np.array(dones).dtype)\n",
    "print('states:', np.max(np.array(states)), np.min(np.array(states)))\n",
    "print('actions:', np.max(np.array(actions)), np.min(np.array(actions)))\n",
    "# print((np.max(np.array(actions)) - np.min(np.array(actions)))+1)\n",
    "print('rewards:', np.max(np.array(rewards)), np.min(np.array(rewards)))"
   ]
  },
  {
   "cell_type": "code",
   "execution_count": 8,
   "metadata": {},
   "outputs": [
    {
     "data": {
      "text/plain": [
       "array([0, 1, 1, 0, 1, 1, 1, 1, 1, 1])"
      ]
     },
     "execution_count": 8,
     "metadata": {},
     "output_type": "execute_result"
    }
   ],
   "source": [
    "actions[:10]"
   ]
  },
  {
   "cell_type": "code",
   "execution_count": 9,
   "metadata": {},
   "outputs": [
    {
     "data": {
      "text/plain": [
       "array([1., 1., 1., 1., 1., 1., 1., 1., 1., 1.])"
      ]
     },
     "execution_count": 9,
     "metadata": {},
     "output_type": "execute_result"
    }
   ],
   "source": [
    "rewards[:10]"
   ]
  },
  {
   "cell_type": "code",
   "execution_count": 10,
   "metadata": {},
   "outputs": [
    {
     "name": "stdout",
     "output_type": "stream",
     "text": [
      "rewards: 0.01 0.01\n"
     ]
    }
   ],
   "source": [
    "print('rewards:', np.max(np.array(rewards))/100, np.min(np.array(rewards))/100)"
   ]
  },
  {
   "cell_type": "markdown",
   "metadata": {},
   "source": [
    "The game resets after the pole has fallen past a certain angle. For each frame while the simulation is running, it returns a reward of 1.0. The longer the game runs, the more reward we get. Then, our network's goal is to maximize the reward by keeping the pole vertical. It will do this by moving the cart to the left and the right."
   ]
  },
  {
   "cell_type": "markdown",
   "metadata": {},
   "source": [
    "## Q-Network\n",
    "\n",
    "We train our Q-learning agent using the Bellman Equation:\n",
    "\n",
    "$$\n",
    "Q(s, a) = r + \\gamma \\max{Q(s', a')}\n",
    "$$\n",
    "\n",
    "where $s$ is a state, $a$ is an action, and $s'$ is the next state from state $s$ and action $a$.\n",
    "\n",
    "Before we used this equation to learn values for a Q-_table_. However, for this game there are a huge number of states available. The state has four values: the position and velocity of the cart, and the position and velocity of the pole. These are all real-valued numbers, so ignoring floating point precisions, you practically have infinite states. Instead of using a table then, we'll replace it with a neural network that will approximate the Q-table lookup function.\n",
    "\n",
    "<img src=\"assets/deep-q-learning.png\" width=450px>\n",
    "\n",
    "Now, our Q value, $Q(s, a)$ is calculated by passing in a state to the network. The output will be Q-values for each available action, with fully connected hidden layers.\n",
    "\n",
    "<img src=\"assets/q-network.png\" width=550px>\n",
    "\n",
    "\n",
    "As I showed before, we can define our targets for training as $\\hat{Q}(s,a) = r + \\gamma \\max{Q(s', a')}$. Then we update the weights by minimizing $(\\hat{Q}(s,a) - Q(s,a))^2$. \n",
    "\n",
    "For this Cart-Pole game, we have four inputs, one for each value in the state, and two outputs, one for each action. To get $\\hat{Q}$, we'll first choose an action, then simulate the game using that action. This will get us the next state, $s'$, and the reward. With that, we can calculate $\\hat{Q}$ then pass it back into the $Q$ network to run the optimizer and update the weights.\n",
    "\n",
    "Below is my implementation of the Q-network. I used two fully connected layers with ReLU activations. Two seems to be good enough, three might be better. Feel free to try it out."
   ]
  },
  {
   "cell_type": "code",
   "execution_count": 11,
   "metadata": {},
   "outputs": [],
   "source": [
    "def model_input(state_size):\n",
    "    #states = tf.placeholder(tf.float32, [None, *state_size], name='states')\n",
    "    states = tf.placeholder(tf.float32, [None, state_size], name='states')\n",
    "    actions = tf.placeholder(tf.int32, [None], name='actions')\n",
    "    targetQs = tf.placeholder(tf.float32, [None], name='targetQs')\n",
    "    rates = tf.placeholder(tf.float32, [None], name='rates')\n",
    "    return states, actions, targetQs, rates"
   ]
  },
  {
   "cell_type": "code",
   "execution_count": 12,
   "metadata": {},
   "outputs": [],
   "source": [
    "# Generator/Controller: Generating/prediting the actions\n",
    "def generator(states, action_size, hidden_size, reuse=False, alpha=0.1, training=False):\n",
    "    with tf.variable_scope('generator', reuse=reuse):\n",
    "        # First fully connected layer\n",
    "        h1 = tf.layers.dense(inputs=states, units=hidden_size)\n",
    "        bn1 = tf.layers.batch_normalization(h1, training=training)        \n",
    "        nl1 = tf.maximum(alpha * bn1, bn1)\n",
    "        \n",
    "        # Second fully connected layer\n",
    "        h2 = tf.layers.dense(inputs=nl1, units=hidden_size)\n",
    "        bn2 = tf.layers.batch_normalization(h2, training=training)        \n",
    "        nl2 = tf.maximum(alpha * bn2, bn2)\n",
    "        \n",
    "        # Output layer\n",
    "        logits = tf.layers.dense(inputs=nl2, units=action_size)        \n",
    "        #predictions = tf.nn.softmax(logits)\n",
    "\n",
    "        # return actions logits\n",
    "        return logits"
   ]
  },
  {
   "cell_type": "code",
   "execution_count": 13,
   "metadata": {},
   "outputs": [],
   "source": [
    "# Discriminator/Dopamine: Reward function/planner/naviator/advisor/supervisor/cortical columns\n",
    "def discriminator(states, actions, hidden_size, reuse=False, alpha=0.1, training=False):\n",
    "    with tf.variable_scope('discriminator', reuse=reuse):\n",
    "        # First fully connected layer\n",
    "        h1 = tf.layers.dense(inputs=states, units=action_size)\n",
    "        bn1 = tf.layers.batch_normalization(h1, training=training)        \n",
    "        nl1 = tf.maximum(alpha * bn1, bn1)\n",
    "        \n",
    "        # Second fully connected layer\n",
    "        fused = tf.concat(axis=1, values=[nl1, actions])\n",
    "        h2 = tf.layers.dense(inputs=fused, units=hidden_size)\n",
    "        bn2 = tf.layers.batch_normalization(h2, training=training)        \n",
    "        nl2 = tf.maximum(alpha * bn2, bn2)\n",
    "                \n",
    "        # Output layer\n",
    "        logits = tf.layers.dense(inputs=nl2, units=1)        \n",
    "        #predictions = tf.nn.softmax(logits)\n",
    "\n",
    "        # return rewards logits\n",
    "        return logits"
   ]
  },
  {
   "cell_type": "code",
   "execution_count": 14,
   "metadata": {},
   "outputs": [],
   "source": [
    "def model_loss(action_size, hidden_size, states, actions, targetQs, rates):\n",
    "    actions_logits = generator(states=states, hidden_size=hidden_size, action_size=action_size)\n",
    "    gQs = discriminator(actions=actions_logits, hidden_size=hidden_size, states=states) # nextQs/targetQs\n",
    "    rates = tf.reshape(rates, shape=[-1, 1])\n",
    "    gloss = tf.reduce_mean(tf.nn.sigmoid_cross_entropy_with_logits(logits=gQs, # GAN\n",
    "                                                                   labels=rates)) # 0-1\n",
    "    targetQs = tf.reshape(targetQs, shape=[-1, 1])\n",
    "    gloss += tf.reduce_mean(tf.nn.sigmoid_cross_entropy_with_logits(logits=gQs, # GAN\n",
    "                                                                    labels=tf.nn.sigmoid(targetQs))) # 0-1\n",
    "    actions_labels = tf.one_hot(indices=actions, depth=action_size, dtype=actions_logits.dtype)\n",
    "    dQs = discriminator(actions=actions_labels, hidden_size=hidden_size, states=states, reuse=True) # Qs\n",
    "    dloss = tf.reduce_mean(tf.nn.sigmoid_cross_entropy_with_logits(logits=dQs, # GAN\n",
    "                                                                   labels=rates)) # 0-1\n",
    "    dloss += tf.reduce_mean(tf.nn.sigmoid_cross_entropy_with_logits(logits=dQs, # GAN\n",
    "                                                                    labels=tf.nn.sigmoid(targetQs))) # 0-1\n",
    "    return actions_logits, gQs, gloss, dloss"
   ]
  },
  {
   "cell_type": "code",
   "execution_count": 15,
   "metadata": {},
   "outputs": [],
   "source": [
    "# Optimizating/training/learning G & D\n",
    "def model_opt(g_loss, d_loss, g_learning_rate, d_learning_rate):\n",
    "    # Get weights and bias to update\n",
    "    t_vars = tf.trainable_variables()\n",
    "    g_vars = [var for var in t_vars if var.name.startswith('generator')]\n",
    "    d_vars = [var for var in t_vars if var.name.startswith('discriminator')]\n",
    "\n",
    "    # Optimize\n",
    "    with tf.control_dependencies(tf.get_collection(tf.GraphKeys.UPDATE_OPS)): # Required for batchnorm (BN)\n",
    "        g_opt = tf.train.AdamOptimizer(g_learning_rate).minimize(g_loss, var_list=g_vars)\n",
    "        d_opt = tf.train.AdamOptimizer(d_learning_rate).minimize(d_loss, var_list=d_vars)\n",
    "    return g_opt, d_opt"
   ]
  },
  {
   "cell_type": "code",
   "execution_count": 16,
   "metadata": {},
   "outputs": [],
   "source": [
    "class Model:\n",
    "    def __init__(self, state_size, action_size, hidden_size, g_learning_rate, d_learning_rate):\n",
    "\n",
    "        # Data of the Model: make the data available inside the framework\n",
    "        self.states, self.actions, self.targetQs, self.rates = model_input(state_size=state_size)\n",
    "\n",
    "        # Create the Model: calculating the loss and forwad pass\n",
    "        self.actions_logits, self.Qs_logits, self.g_loss, self.d_loss = model_loss(\n",
    "            action_size=action_size, hidden_size=hidden_size, # model init parameters\n",
    "            states=self.states, actions=self.actions, \n",
    "            targetQs=self.targetQs, rates=self.rates) # model input\n",
    "        \n",
    "        # Update the model: backward pass and backprop\n",
    "        self.g_opt, self.d_opt = model_opt(g_loss=self.g_loss, d_loss=self.d_loss,\n",
    "                                           g_learning_rate=g_learning_rate, d_learning_rate=d_learning_rate)"
   ]
  },
  {
   "cell_type": "code",
   "execution_count": 88,
   "metadata": {},
   "outputs": [],
   "source": [
    "def sample(buffer, batch_size):\n",
    "    idx = np.random.choice(np.arange(len(buffer)), size=batch_size, replace=False)\n",
    "    return np.array([buffer[ii] for ii in idx])"
   ]
  },
  {
   "cell_type": "code",
   "execution_count": 89,
   "metadata": {},
   "outputs": [],
   "source": [
    "from collections import deque\n",
    "class Memory():\n",
    "    def __init__(self, max_size = 1000):\n",
    "        self.buffer = deque(maxlen=max_size) # data batch"
   ]
  },
  {
   "cell_type": "markdown",
   "metadata": {},
   "source": [
    "## Hyperparameters\n",
    "\n",
    "One of the more difficult aspects of reinforcememt learning are the large number of hyperparameters. Not only are we tuning the network, but we're tuning the simulation."
   ]
  },
  {
   "cell_type": "code",
   "execution_count": 90,
   "metadata": {},
   "outputs": [
    {
     "data": {
      "text/plain": [
       "(Box(4,), Discrete(2))"
      ]
     },
     "execution_count": 90,
     "metadata": {},
     "output_type": "execute_result"
    }
   ],
   "source": [
    "env.observation_space, env.action_space"
   ]
  },
  {
   "cell_type": "code",
   "execution_count": 91,
   "metadata": {},
   "outputs": [],
   "source": [
    "# Exploration parameters\n",
    "explore_start = 1.0            # exploration probability at start\n",
    "explore_stop = 0.01           # minimum exploration probability \n",
    "decay_rate = 0.0001            # exponential decay rate for exploration prob\n",
    "\n",
    "# Network parameters\n",
    "state_size = 4\n",
    "action_size = 2\n",
    "hidden_size = 4*2             # number of units in each Q-network hidden layer\n",
    "g_learning_rate = 1e-4         # Q-network learning rate\n",
    "d_learning_rate = 1e-4         # Q-network learning rate\n",
    "\n",
    "# Memory parameters\n",
    "memory_size = int(1e5)            # memory capacity\n",
    "batch_size = int(1e2)             # experience mini-batch size: 200/500 a successfull episode size\n",
    "gamma = 0.99                   # future reward discount"
   ]
  },
  {
   "cell_type": "code",
   "execution_count": 92,
   "metadata": {},
   "outputs": [],
   "source": [
    "# Reset/init the graph/session\n",
    "graph = tf.reset_default_graph()\n",
    "\n",
    "# Init the model\n",
    "model = Model(action_size=action_size, state_size=state_size, hidden_size=hidden_size,\n",
    "              g_learning_rate=g_learning_rate, d_learning_rate=d_learning_rate)\n",
    "\n",
    "# Init the memory\n",
    "memory = Memory(max_size=memory_size)"
   ]
  },
  {
   "cell_type": "code",
   "execution_count": 93,
   "metadata": {},
   "outputs": [],
   "source": [
    "state = env.reset()\n",
    "total_reward = 0\n",
    "num_step = 0\n",
    "for _ in range(memory_size):\n",
    "    action = env.action_space.sample()\n",
    "    next_state, reward, done, _ = env.step(action)\n",
    "    rate = -1 # [-1, +1] or [0, 1]\n",
    "    memory.buffer.append([state, action, next_state, reward, float(done), rate])\n",
    "    num_step += 1 # memory incremented\n",
    "    total_reward += reward\n",
    "    state = next_state\n",
    "    if done is True:\n",
    "        state = env.reset()\n",
    "        rate = total_reward/500 # [0, 1]\n",
    "        total_reward = 0\n",
    "        for idx in range(num_step):\n",
    "            if memory.buffer[-1-idx][-1] == -1:\n",
    "                memory.buffer[-1-idx][-1] = rate\n",
    "        num_step = 0 # reset"
   ]
  },
  {
   "cell_type": "markdown",
   "metadata": {},
   "source": [
    "## Training the model\n",
    "\n",
    "Below we'll train our agent. If you want to watch it train, uncomment the `env.render()` line. This is slow because it's rendering the frames slower than the network can train. But, it's cool to watch the agent get better at the game."
   ]
  },
  {
   "cell_type": "code",
   "execution_count": 150,
   "metadata": {},
   "outputs": [],
   "source": [
    "def minibatch(batch):\n",
    "    #batch = memory.buffer\n",
    "    rates = np.array([each[-1] for each in batch])\n",
    "    ##############################\n",
    "    states = np.array([each[0] for each in batch])[rates > 0]\n",
    "    actions = np.array([each[1] for each in batch])[rates > 0]\n",
    "    next_states = np.array([each[2] for each in batch])[rates > 0]\n",
    "    rewards = np.array([each[3] for each in batch])[rates > 0]\n",
    "    dones = np.array([each[4] for each in batch])[rates > 0]\n",
    "    rates = np.array([each[5] for each in batch])[rates > 0]\n",
    "    ##########################################\n",
    "    maxstates = states[rates > (max(rates)*0.5)]\n",
    "    maxactions = actions[rates > (max(rates)*0.5)]\n",
    "    maxnext_states = next_states[rates > (max(rates)*0.5)]\n",
    "    maxrewards = rewards[rates > (max(rates)*0.5)]\n",
    "    maxdones = dones[rates > (max(rates)*0.5)]\n",
    "    maxrates = rates[rates > (max(rates)*0.5)]\n",
    "    ##################################################\n",
    "    minstates = states[rates < (max(rates)*0.5)]\n",
    "    minactions = actions[rates < (max(rates)*0.5)]\n",
    "    minnext_states = next_states[rates < (max(rates)*0.5)]\n",
    "    minrewards = rewards[rates < (max(rates)*0.5)]\n",
    "    mindones = dones[rates < (max(rates)*0.5)]\n",
    "    minrates = rates[rates < (max(rates)*0.5)]\n",
    "    #################################################\n",
    "    maxstates = sample(batch_size=batch_size, buffer=maxstates)\n",
    "    minstates = sample(batch_size=batch_size, buffer=minstates)\n",
    "    maxactions = sample(batch_size=batch_size, buffer=maxactions)\n",
    "    minactions = sample(batch_size=batch_size, buffer=minactions)\n",
    "    maxnext_states = sample(batch_size=batch_size, buffer=maxnext_states)\n",
    "    minnext_states = sample(batch_size=batch_size, buffer=minnext_states)\n",
    "    maxrewards = sample(batch_size=batch_size, buffer=maxrewards)\n",
    "    minrewards = sample(batch_size=batch_size, buffer=minrewards)\n",
    "    maxdones = sample(batch_size=batch_size, buffer=maxdones)\n",
    "    mindones = sample(batch_size=batch_size, buffer=mindones)\n",
    "    maxrates = sample(batch_size=batch_size, buffer=maxrates)\n",
    "    minrates = sample(batch_size=batch_size, buffer=minrates)\n",
    "    #################################################################\n",
    "    states = np.concatenate([maxstates, minstates], axis=0)\n",
    "    actions = np.concatenate([maxactions, minactions], axis=0)\n",
    "    next_states = np.concatenate([maxnext_states, minnext_states], axis=0)\n",
    "    rewards = np.concatenate([maxrewards, minrewards], axis=0)\n",
    "    dones = np.concatenate([maxdones, mindones], axis=0)\n",
    "    rates = np.concatenate([maxrates, minrates], axis=0)\n",
    "    return states, actions, next_states, rewards, dones, rates"
   ]
  },
  {
   "cell_type": "code",
   "execution_count": 151,
   "metadata": {},
   "outputs": [],
   "source": [
    "batch = memory.buffer\n",
    "states, actions, next_states, rewards, dones, rates = minibatch(batch=batch)"
   ]
  },
  {
   "cell_type": "code",
   "execution_count": 152,
   "metadata": {},
   "outputs": [
    {
     "data": {
      "text/plain": [
       "((200, 4),\n",
       " (200,),\n",
       " (200, 4),\n",
       " (200,),\n",
       " (200,),\n",
       " (200,),\n",
       " dtype('float64'),\n",
       " dtype('int64'),\n",
       " dtype('float64'),\n",
       " dtype('float64'),\n",
       " dtype('float64'),\n",
       " dtype('float64'))"
      ]
     },
     "execution_count": 152,
     "metadata": {},
     "output_type": "execute_result"
    }
   ],
   "source": [
    "states.shape, actions.shape, next_states.shape, rewards.shape, dones.shape, rates.shape, \\\n",
    "states.dtype, actions.dtype, next_states.dtype, rewards.dtype, dones.dtype, rates.dtype"
   ]
  },
  {
   "cell_type": "code",
   "execution_count": null,
   "metadata": {},
   "outputs": [
    {
     "name": "stdout",
     "output_type": "stream",
     "text": [
      "Episode:0 meanR:19.0000 R:19.0000 rate:0.0380 gloss:1.5659 dloss:1.5109 exploreP:0.9981\n",
      "Episode:1 meanR:19.5000 R:20.0000 rate:0.0400 gloss:1.5608 dloss:1.5058 exploreP:0.9961\n",
      "Episode:2 meanR:19.6667 R:20.0000 rate:0.0400 gloss:1.5318 dloss:1.4977 exploreP:0.9942\n",
      "Episode:3 meanR:20.0000 R:21.0000 rate:0.0420 gloss:1.5300 dloss:1.4938 exploreP:0.9921\n",
      "Episode:4 meanR:17.8000 R:9.0000 rate:0.0180 gloss:1.5241 dloss:1.4938 exploreP:0.9912\n",
      "Episode:5 meanR:17.1667 R:14.0000 rate:0.0280 gloss:1.5133 dloss:1.4849 exploreP:0.9899\n",
      "Episode:6 meanR:16.0000 R:9.0000 rate:0.0180 gloss:1.5081 dloss:1.4841 exploreP:0.9890\n",
      "Episode:7 meanR:15.8750 R:15.0000 rate:0.0300 gloss:1.5062 dloss:1.4861 exploreP:0.9875\n",
      "Episode:8 meanR:15.6667 R:14.0000 rate:0.0280 gloss:1.4949 dloss:1.4774 exploreP:0.9861\n",
      "Episode:9 meanR:15.8000 R:17.0000 rate:0.0340 gloss:1.4860 dloss:1.4708 exploreP:0.9845\n",
      "Episode:10 meanR:15.5455 R:13.0000 rate:0.0260 gloss:1.4859 dloss:1.4723 exploreP:0.9832\n",
      "Episode:11 meanR:15.9167 R:20.0000 rate:0.0400 gloss:1.4730 dloss:1.4653 exploreP:0.9813\n",
      "Episode:12 meanR:15.9231 R:16.0000 rate:0.0320 gloss:1.4718 dloss:1.4662 exploreP:0.9797\n",
      "Episode:13 meanR:15.7143 R:13.0000 rate:0.0260 gloss:1.4604 dloss:1.4567 exploreP:0.9785\n",
      "Episode:14 meanR:16.0667 R:21.0000 rate:0.0420 gloss:1.4586 dloss:1.4549 exploreP:0.9764\n",
      "Episode:15 meanR:16.3750 R:21.0000 rate:0.0420 gloss:1.4471 dloss:1.4525 exploreP:0.9744\n",
      "Episode:16 meanR:16.1176 R:12.0000 rate:0.0240 gloss:1.4418 dloss:1.4443 exploreP:0.9732\n",
      "Episode:17 meanR:17.3889 R:39.0000 rate:0.0780 gloss:1.4386 dloss:1.4440 exploreP:0.9695\n",
      "Episode:18 meanR:17.2632 R:15.0000 rate:0.0300 gloss:1.4314 dloss:1.4370 exploreP:0.9681\n",
      "Episode:19 meanR:18.4000 R:40.0000 rate:0.0800 gloss:1.4185 dloss:1.4302 exploreP:0.9642\n",
      "Episode:20 meanR:18.9524 R:30.0000 rate:0.0600 gloss:1.4102 dloss:1.4262 exploreP:0.9614\n",
      "Episode:21 meanR:18.9091 R:18.0000 rate:0.0360 gloss:1.4074 dloss:1.4247 exploreP:0.9597\n",
      "Episode:22 meanR:18.9565 R:20.0000 rate:0.0400 gloss:1.3937 dloss:1.4163 exploreP:0.9578\n",
      "Episode:23 meanR:19.4583 R:31.0000 rate:0.0620 gloss:1.3875 dloss:1.4137 exploreP:0.9548\n",
      "Episode:24 meanR:19.5200 R:21.0000 rate:0.0420 gloss:1.3828 dloss:1.4114 exploreP:0.9528\n",
      "Episode:25 meanR:19.8462 R:28.0000 rate:0.0560 gloss:1.3753 dloss:1.4065 exploreP:0.9502\n",
      "Episode:26 meanR:19.9259 R:22.0000 rate:0.0440 gloss:1.3730 dloss:1.4072 exploreP:0.9481\n",
      "Episode:27 meanR:20.0714 R:24.0000 rate:0.0480 gloss:1.3655 dloss:1.4018 exploreP:0.9459\n",
      "Episode:28 meanR:20.1724 R:23.0000 rate:0.0460 gloss:1.3611 dloss:1.3974 exploreP:0.9437\n",
      "Episode:29 meanR:19.9333 R:13.0000 rate:0.0260 gloss:1.3582 dloss:1.4001 exploreP:0.9425\n",
      "Episode:30 meanR:19.8387 R:17.0000 rate:0.0340 gloss:1.3532 dloss:1.3941 exploreP:0.9409\n",
      "Episode:31 meanR:19.6562 R:14.0000 rate:0.0280 gloss:1.3489 dloss:1.3901 exploreP:0.9396\n",
      "Episode:32 meanR:20.5152 R:48.0000 rate:0.0960 gloss:1.3438 dloss:1.3892 exploreP:0.9352\n",
      "Episode:33 meanR:20.5294 R:21.0000 rate:0.0420 gloss:1.3381 dloss:1.3841 exploreP:0.9333\n",
      "Episode:34 meanR:20.4000 R:16.0000 rate:0.0320 gloss:1.3343 dloss:1.3813 exploreP:0.9318\n",
      "Episode:35 meanR:20.0556 R:8.0000 rate:0.0160 gloss:1.3336 dloss:1.3785 exploreP:0.9310\n",
      "Episode:36 meanR:20.0270 R:19.0000 rate:0.0380 gloss:1.3312 dloss:1.3765 exploreP:0.9293\n",
      "Episode:37 meanR:19.8421 R:13.0000 rate:0.0260 gloss:1.3302 dloss:1.3772 exploreP:0.9281\n",
      "Episode:38 meanR:20.0000 R:26.0000 rate:0.0520 gloss:1.3270 dloss:1.3742 exploreP:0.9257\n",
      "Episode:39 meanR:20.1000 R:24.0000 rate:0.0480 gloss:1.3259 dloss:1.3704 exploreP:0.9235\n",
      "Episode:40 meanR:19.9268 R:13.0000 rate:0.0260 gloss:1.3228 dloss:1.3670 exploreP:0.9223\n",
      "Episode:41 meanR:19.9524 R:21.0000 rate:0.0420 gloss:1.3208 dloss:1.3664 exploreP:0.9204\n",
      "Episode:42 meanR:19.9302 R:19.0000 rate:0.0380 gloss:1.3193 dloss:1.3662 exploreP:0.9187\n",
      "Episode:43 meanR:19.8182 R:15.0000 rate:0.0300 gloss:1.3187 dloss:1.3636 exploreP:0.9173\n",
      "Episode:44 meanR:19.9556 R:26.0000 rate:0.0520 gloss:1.3162 dloss:1.3614 exploreP:0.9150\n",
      "Episode:45 meanR:19.8478 R:15.0000 rate:0.0300 gloss:1.3143 dloss:1.3564 exploreP:0.9136\n",
      "Episode:46 meanR:19.7234 R:14.0000 rate:0.0280 gloss:1.3126 dloss:1.3559 exploreP:0.9124\n",
      "Episode:47 meanR:20.0625 R:36.0000 rate:0.0720 gloss:1.3112 dloss:1.3549 exploreP:0.9091\n",
      "Episode:48 meanR:19.9592 R:15.0000 rate:0.0300 gloss:1.3091 dloss:1.3514 exploreP:0.9078\n",
      "Episode:49 meanR:20.1600 R:30.0000 rate:0.0600 gloss:1.3087 dloss:1.3503 exploreP:0.9051\n",
      "Episode:50 meanR:20.0784 R:16.0000 rate:0.0320 gloss:1.3077 dloss:1.3495 exploreP:0.9036\n",
      "Episode:51 meanR:20.5192 R:43.0000 rate:0.0860 gloss:1.3051 dloss:1.3452 exploreP:0.8998\n",
      "Episode:52 meanR:20.4528 R:17.0000 rate:0.0340 gloss:1.3037 dloss:1.3430 exploreP:0.8983\n",
      "Episode:53 meanR:20.3519 R:15.0000 rate:0.0300 gloss:1.3027 dloss:1.3412 exploreP:0.8970\n",
      "Episode:54 meanR:20.3818 R:22.0000 rate:0.0440 gloss:1.3022 dloss:1.3401 exploreP:0.8950\n",
      "Episode:55 meanR:20.2679 R:14.0000 rate:0.0280 gloss:1.3017 dloss:1.3395 exploreP:0.8938\n",
      "Episode:56 meanR:20.1404 R:13.0000 rate:0.0260 gloss:1.3009 dloss:1.3371 exploreP:0.8926\n",
      "Episode:57 meanR:20.1724 R:22.0000 rate:0.0440 gloss:1.3005 dloss:1.3374 exploreP:0.8907\n",
      "Episode:58 meanR:20.2034 R:22.0000 rate:0.0440 gloss:1.2991 dloss:1.3325 exploreP:0.8888\n",
      "Episode:59 meanR:20.3333 R:28.0000 rate:0.0560 gloss:1.2982 dloss:1.3313 exploreP:0.8863\n",
      "Episode:60 meanR:20.1475 R:9.0000 rate:0.0180 gloss:1.2978 dloss:1.3313 exploreP:0.8855\n",
      "Episode:61 meanR:20.0484 R:14.0000 rate:0.0280 gloss:1.2973 dloss:1.3303 exploreP:0.8843\n",
      "Episode:62 meanR:19.8889 R:10.0000 rate:0.0200 gloss:1.2964 dloss:1.3275 exploreP:0.8834\n",
      "Episode:63 meanR:19.8750 R:19.0000 rate:0.0380 gloss:1.2962 dloss:1.3278 exploreP:0.8818\n",
      "Episode:64 meanR:19.8615 R:19.0000 rate:0.0380 gloss:1.2952 dloss:1.3261 exploreP:0.8801\n",
      "Episode:65 meanR:19.7727 R:14.0000 rate:0.0280 gloss:1.2944 dloss:1.3245 exploreP:0.8789\n",
      "Episode:66 meanR:19.7015 R:15.0000 rate:0.0300 gloss:1.2945 dloss:1.3244 exploreP:0.8776\n",
      "Episode:67 meanR:19.6471 R:16.0000 rate:0.0320 gloss:1.2947 dloss:1.3228 exploreP:0.8762\n",
      "Episode:68 meanR:19.6232 R:18.0000 rate:0.0360 gloss:1.2935 dloss:1.3215 exploreP:0.8746\n",
      "Episode:69 meanR:19.6714 R:23.0000 rate:0.0460 gloss:1.2928 dloss:1.3200 exploreP:0.8726\n",
      "Episode:70 meanR:19.5352 R:10.0000 rate:0.0200 gloss:1.2917 dloss:1.3189 exploreP:0.8718\n",
      "Episode:71 meanR:19.3750 R:8.0000 rate:0.0160 gloss:1.2927 dloss:1.3209 exploreP:0.8711\n",
      "Episode:72 meanR:19.3151 R:15.0000 rate:0.0300 gloss:1.2919 dloss:1.3182 exploreP:0.8698\n",
      "Episode:73 meanR:19.3919 R:25.0000 rate:0.0500 gloss:1.2913 dloss:1.3184 exploreP:0.8677\n",
      "Episode:74 meanR:19.2800 R:11.0000 rate:0.0220 gloss:1.2905 dloss:1.3153 exploreP:0.8667\n",
      "Episode:75 meanR:19.2763 R:19.0000 rate:0.0380 gloss:1.2904 dloss:1.3159 exploreP:0.8651\n",
      "Episode:76 meanR:19.5974 R:44.0000 rate:0.0880 gloss:1.2898 dloss:1.3136 exploreP:0.8613\n",
      "Episode:77 meanR:19.4744 R:10.0000 rate:0.0200 gloss:1.2890 dloss:1.3129 exploreP:0.8605\n",
      "Episode:78 meanR:19.4430 R:17.0000 rate:0.0340 gloss:1.2890 dloss:1.3120 exploreP:0.8590\n",
      "Episode:79 meanR:19.3625 R:13.0000 rate:0.0260 gloss:1.2885 dloss:1.3102 exploreP:0.8579\n",
      "Episode:80 meanR:19.6790 R:45.0000 rate:0.0900 gloss:1.2882 dloss:1.3089 exploreP:0.8541\n",
      "Episode:81 meanR:19.6098 R:14.0000 rate:0.0280 gloss:1.2873 dloss:1.3066 exploreP:0.8529\n",
      "Episode:82 meanR:20.0241 R:54.0000 rate:0.1080 gloss:1.2863 dloss:1.3059 exploreP:0.8484\n",
      "Episode:83 meanR:19.9405 R:13.0000 rate:0.0260 gloss:1.2853 dloss:1.3029 exploreP:0.8473\n",
      "Episode:84 meanR:20.1412 R:37.0000 rate:0.0740 gloss:1.2851 dloss:1.3024 exploreP:0.8442\n",
      "Episode:85 meanR:20.0116 R:9.0000 rate:0.0180 gloss:1.2845 dloss:1.3014 exploreP:0.8435\n",
      "Episode:86 meanR:20.0920 R:27.0000 rate:0.0540 gloss:1.2837 dloss:1.3007 exploreP:0.8412\n",
      "Episode:87 meanR:20.0114 R:13.0000 rate:0.0260 gloss:1.2827 dloss:1.2982 exploreP:0.8401\n",
      "Episode:88 meanR:20.0000 R:19.0000 rate:0.0380 gloss:1.2829 dloss:1.2990 exploreP:0.8386\n",
      "Episode:89 meanR:19.9556 R:16.0000 rate:0.0320 gloss:1.2829 dloss:1.2984 exploreP:0.8372\n",
      "Episode:90 meanR:19.8681 R:12.0000 rate:0.0240 gloss:1.2822 dloss:1.2973 exploreP:0.8363\n",
      "Episode:91 meanR:19.9565 R:28.0000 rate:0.0560 gloss:1.2812 dloss:1.2957 exploreP:0.8339\n",
      "Episode:92 meanR:20.0108 R:25.0000 rate:0.0500 gloss:1.2809 dloss:1.2949 exploreP:0.8319\n"
     ]
    },
    {
     "name": "stdout",
     "output_type": "stream",
     "text": [
      "Episode:93 meanR:19.9681 R:16.0000 rate:0.0320 gloss:1.2801 dloss:1.2936 exploreP:0.8306\n",
      "Episode:94 meanR:20.0211 R:25.0000 rate:0.0500 gloss:1.2799 dloss:1.2929 exploreP:0.8285\n",
      "Episode:95 meanR:19.9583 R:14.0000 rate:0.0280 gloss:1.2801 dloss:1.2923 exploreP:0.8274\n",
      "Episode:96 meanR:19.9278 R:17.0000 rate:0.0340 gloss:1.2795 dloss:1.2917 exploreP:0.8260\n",
      "Episode:97 meanR:19.8776 R:15.0000 rate:0.0300 gloss:1.2797 dloss:1.2912 exploreP:0.8248\n",
      "Episode:98 meanR:19.8182 R:14.0000 rate:0.0280 gloss:1.2772 dloss:1.2890 exploreP:0.8236\n",
      "Episode:99 meanR:19.7300 R:11.0000 rate:0.0220 gloss:1.2772 dloss:1.2881 exploreP:0.8227\n",
      "Episode:100 meanR:19.8300 R:29.0000 rate:0.0580 gloss:1.2772 dloss:1.2887 exploreP:0.8204\n",
      "Episode:101 meanR:19.9900 R:36.0000 rate:0.0720 gloss:1.2761 dloss:1.2866 exploreP:0.8175\n",
      "Episode:102 meanR:19.9000 R:11.0000 rate:0.0220 gloss:1.2742 dloss:1.2840 exploreP:0.8166\n",
      "Episode:103 meanR:19.8500 R:16.0000 rate:0.0320 gloss:1.2744 dloss:1.2836 exploreP:0.8153\n",
      "Episode:104 meanR:20.1000 R:34.0000 rate:0.0680 gloss:1.2737 dloss:1.2829 exploreP:0.8126\n",
      "Episode:105 meanR:20.3000 R:34.0000 rate:0.0680 gloss:1.2741 dloss:1.2824 exploreP:0.8098\n",
      "Episode:106 meanR:20.4300 R:22.0000 rate:0.0440 gloss:1.2727 dloss:1.2800 exploreP:0.8081\n",
      "Episode:107 meanR:20.6400 R:36.0000 rate:0.0720 gloss:1.2735 dloss:1.2804 exploreP:0.8052\n",
      "Episode:108 meanR:20.6500 R:15.0000 rate:0.0300 gloss:1.2725 dloss:1.2788 exploreP:0.8040\n",
      "Episode:109 meanR:20.7200 R:24.0000 rate:0.0480 gloss:1.2734 dloss:1.2799 exploreP:0.8021\n",
      "Episode:110 meanR:20.7000 R:11.0000 rate:0.0220 gloss:1.2727 dloss:1.2783 exploreP:0.8012\n",
      "Episode:111 meanR:20.6400 R:14.0000 rate:0.0280 gloss:1.2739 dloss:1.2794 exploreP:0.8001\n",
      "Episode:112 meanR:20.6500 R:17.0000 rate:0.0340 gloss:1.2747 dloss:1.2800 exploreP:0.7988\n",
      "Episode:113 meanR:20.6500 R:13.0000 rate:0.0260 gloss:1.2733 dloss:1.2785 exploreP:0.7978\n",
      "Episode:114 meanR:20.6300 R:19.0000 rate:0.0380 gloss:1.2734 dloss:1.2788 exploreP:0.7963\n",
      "Episode:115 meanR:20.5700 R:15.0000 rate:0.0300 gloss:1.2733 dloss:1.2777 exploreP:0.7951\n",
      "Episode:116 meanR:20.5800 R:13.0000 rate:0.0260 gloss:1.2739 dloss:1.2788 exploreP:0.7941\n",
      "Episode:117 meanR:20.2900 R:10.0000 rate:0.0200 gloss:1.2740 dloss:1.2791 exploreP:0.7933\n",
      "Episode:118 meanR:20.3500 R:21.0000 rate:0.0420 gloss:1.2741 dloss:1.2785 exploreP:0.7916\n",
      "Episode:119 meanR:20.1700 R:22.0000 rate:0.0440 gloss:1.2745 dloss:1.2787 exploreP:0.7899\n",
      "Episode:120 meanR:20.0000 R:13.0000 rate:0.0260 gloss:1.2749 dloss:1.2791 exploreP:0.7889\n",
      "Episode:121 meanR:19.9200 R:10.0000 rate:0.0200 gloss:1.2750 dloss:1.2789 exploreP:0.7881\n",
      "Episode:122 meanR:19.9600 R:24.0000 rate:0.0480 gloss:1.2758 dloss:1.2796 exploreP:0.7863\n",
      "Episode:123 meanR:19.8200 R:17.0000 rate:0.0340 gloss:1.2748 dloss:1.2786 exploreP:0.7850\n",
      "Episode:124 meanR:19.7200 R:11.0000 rate:0.0220 gloss:1.2761 dloss:1.2796 exploreP:0.7841\n",
      "Episode:125 meanR:19.5700 R:13.0000 rate:0.0260 gloss:1.2769 dloss:1.2802 exploreP:0.7831\n",
      "Episode:126 meanR:19.4700 R:12.0000 rate:0.0240 gloss:1.2768 dloss:1.2800 exploreP:0.7822\n",
      "Episode:127 meanR:19.3600 R:13.0000 rate:0.0260 gloss:1.2781 dloss:1.2812 exploreP:0.7812\n"
     ]
    }
   ],
   "source": [
    "# Save/load the model and save for plotting\n",
    "saver = tf.train.Saver()\n",
    "episode_rewards_list, rewards_list = [], [] # goal\n",
    "gloss_list, dloss_list = [], []\n",
    "\n",
    "# TF session for training\n",
    "with tf.Session(graph=graph) as sess:\n",
    "    sess.run(tf.global_variables_initializer())\n",
    "    #saver.restore(sess, 'checkpoints/model.ckpt')    \n",
    "    #saver.restore(sess, tf.train.latest_checkpoint('checkpoints'))\n",
    "    total_step = 0 # Explore or exploit parameter\n",
    "    episode_reward = deque(maxlen=100) # 100 episodes average/running average/running mean/window\n",
    "\n",
    "    # Training episodes/epochs\n",
    "    for ep in range(1111):\n",
    "        total_reward = 0 # each episode\n",
    "        gloss_batch, dloss_batch = [], []\n",
    "        state = env.reset() # each episode\n",
    "        num_step = 0 # each episode\n",
    "\n",
    "        # Training steps/batches\n",
    "        while True:\n",
    "            # Explore (Env) or Exploit (Model)\n",
    "            total_step += 1\n",
    "            explore_p = explore_stop + (explore_start - explore_stop) * np.exp(-decay_rate * total_step) \n",
    "            if explore_p > np.random.rand():\n",
    "                action = env.action_space.sample()\n",
    "                #print(action)\n",
    "            else:\n",
    "                action_logits = sess.run(model.actions_logits, feed_dict={model.states: state.reshape([1, -1])})\n",
    "                action = np.argmax(action_logits) # adding epsilon*noise\n",
    "                #print(action)\n",
    "            next_state, reward, done, _ = env.step(action)\n",
    "            rate = -1 # [-1, +1] or [0, 1]\n",
    "            memory.buffer.append([state, action, next_state, reward, float(done), rate])\n",
    "            num_step += 1 # memory incremented\n",
    "            total_reward += reward\n",
    "            state = next_state\n",
    "            \n",
    "            # Rating the last episode/unrated episode\n",
    "            if done is True:\n",
    "                rate = total_reward/500 # [0, 1]\n",
    "                for idx in range(num_step): # episode length\n",
    "                    if memory.buffer[-1-idx][-1] == -1:\n",
    "                        memory.buffer[-1-idx][-1] = rate\n",
    "                        \n",
    "            # Training with max and min rated minibatches\n",
    "            batch = memory.buffer\n",
    "            states, actions, next_states, rewards, dones, rates = minibatch(batch=batch)\n",
    "            nextQs_logits = sess.run(model.Qs_logits, feed_dict = {model.states: next_states})\n",
    "            #nextQs = np.max(nextQs_logits, axis=1) * (1-dones) # DQN\n",
    "            nextQs = nextQs_logits.reshape([-1]) * (1-dones) # DPG\n",
    "            targetQs = rewards + (gamma * nextQs)\n",
    "            dloss, _ = sess.run([model.d_loss, model.d_opt],feed_dict = {model.states: states, \n",
    "                                                                         model.actions: actions,\n",
    "                                                                         model.targetQs: targetQs, \n",
    "                                                                         model.rates: rates})\n",
    "            gloss, _ = sess.run([model.g_loss, model.g_opt],feed_dict = {model.states: states, \n",
    "                                                                         model.actions: actions,\n",
    "                                                                         model.targetQs: targetQs, \n",
    "                                                                         model.rates: rates})\n",
    "            gloss_batch.append(gloss)\n",
    "            dloss_batch.append(dloss)\n",
    "            if done is True:\n",
    "                break\n",
    "                \n",
    "        episode_reward.append(total_reward)\n",
    "        print('Episode:{}'.format(ep),\n",
    "              'meanR:{:.4f}'.format(np.mean(episode_reward)),\n",
    "              'R:{:.4f}'.format(total_reward),\n",
    "              'rate:{:.4f}'.format(rate),\n",
    "              'gloss:{:.4f}'.format(np.mean(gloss_batch)),\n",
    "              'dloss:{:.4f}'.format(np.mean(dloss_batch)),\n",
    "              'exploreP:{:.4f}'.format(explore_p))\n",
    "\n",
    "        # Ploting out\n",
    "        episode_rewards_list.append([ep, np.mean(episode_reward)])\n",
    "        rewards_list.append([ep, total_reward])\n",
    "        gloss_list.append([ep, np.mean(gloss_batch)])\n",
    "        dloss_list.append([ep, np.mean(dloss_batch)])\n",
    "        \n",
    "        # Break episode/epoch loop\n",
    "        ## Option 1: Solve the First Version\n",
    "        #The task is episodic, and in order to solve the environment, \n",
    "        #your agent must get an average score of +30 over 100 consecutive episodes.\n",
    "        if np.mean(episode_reward) >= 500:\n",
    "            break\n",
    "            \n",
    "    # At the end of all training episodes/epochs\n",
    "    saver.save(sess, 'checkpoints/model.ckpt')"
   ]
  },
  {
   "cell_type": "markdown",
   "metadata": {},
   "source": [
    "# Visualizing training\n",
    "\n",
    "Below I'll plot the total rewards for each episode. I'm plotting the rolling average too, in blue."
   ]
  },
  {
   "cell_type": "code",
   "execution_count": null,
   "metadata": {},
   "outputs": [],
   "source": [
    "import matplotlib.pyplot as plt\n",
    "%matplotlib inline\n",
    "\n",
    "def running_mean(x, N):\n",
    "    cumsum = np.cumsum(np.insert(x, 0, 0)) \n",
    "    return (cumsum[N:] - cumsum[:-N]) / N "
   ]
  },
  {
   "cell_type": "code",
   "execution_count": null,
   "metadata": {},
   "outputs": [],
   "source": [
    "eps, arr = np.array(episode_rewards_list).T\n",
    "smoothed_arr = running_mean(arr, 10)\n",
    "plt.plot(eps[-len(smoothed_arr):], smoothed_arr)\n",
    "plt.plot(eps, arr, color='grey', alpha=0.3)\n",
    "plt.xlabel('Episode')\n",
    "plt.ylabel('Total rewards')"
   ]
  },
  {
   "cell_type": "code",
   "execution_count": null,
   "metadata": {},
   "outputs": [],
   "source": [
    "eps, arr = np.array(rewards_list).T\n",
    "smoothed_arr = running_mean(arr, 10)\n",
    "plt.plot(eps[-len(smoothed_arr):], smoothed_arr)\n",
    "plt.plot(eps, arr, color='grey', alpha=0.3)\n",
    "plt.xlabel('Episode')\n",
    "plt.ylabel('Total rewards')"
   ]
  },
  {
   "cell_type": "code",
   "execution_count": null,
   "metadata": {},
   "outputs": [],
   "source": [
    "eps, arr = np.array(gloss_list).T\n",
    "smoothed_arr = running_mean(arr, 10)\n",
    "plt.plot(eps[-len(smoothed_arr):], smoothed_arr)\n",
    "plt.plot(eps, arr, color='grey', alpha=0.3)\n",
    "plt.xlabel('Episode')\n",
    "plt.ylabel('G losses')`"
   ]
  },
  {
   "cell_type": "code",
   "execution_count": null,
   "metadata": {},
   "outputs": [],
   "source": [
    "eps, arr = np.array(dloss_list).T\n",
    "smoothed_arr = running_mean(arr, 10)\n",
    "plt.plot(eps[-len(smoothed_arr):], smoothed_arr)\n",
    "plt.plot(eps, arr, color='grey', alpha=0.3)\n",
    "plt.xlabel('Episode')\n",
    "plt.ylabel('D losses')"
   ]
  },
  {
   "cell_type": "markdown",
   "metadata": {},
   "source": [
    "## Testing\n",
    "\n",
    "Let's checkout how our trained agent plays the game."
   ]
  },
  {
   "cell_type": "code",
   "execution_count": 36,
   "metadata": {},
   "outputs": [
    {
     "name": "stdout",
     "output_type": "stream",
     "text": [
      "\u001b[33mWARN: gym.spaces.Box autodetected dtype as <class 'numpy.float32'>. Please provide explicit dtype.\u001b[0m\n",
      "\u001b[33mWARN: gym.spaces.Box autodetected dtype as <class 'numpy.float32'>. Please provide explicit dtype.\u001b[0m\n",
      "INFO:tensorflow:Restoring parameters from checkpoints/model.ckpt\n"
     ]
    },
    {
     "name": "stderr",
     "output_type": "stream",
     "text": [
      "/home/arasdar/anaconda3/envs/env/lib/python3.6/site-packages/gym/__init__.py:22: UserWarning: DEPRECATION WARNING: to improve load times, gym no longer automatically loads gym.spaces. Please run \"import gym.spaces\" to load gym.spaces on your own. This warning will turn into an error in a future version of gym.\n",
      "  warnings.warn('DEPRECATION WARNING: to improve load times, gym no longer automatically loads gym.spaces. Please run \"import gym.spaces\" to load gym.spaces on your own. This warning will turn into an error in a future version of gym.')\n"
     ]
    },
    {
     "name": "stdout",
     "output_type": "stream",
     "text": [
      "total_reward: 500.0\n"
     ]
    }
   ],
   "source": [
    "import gym\n",
    "env = gym.make('CartPole-v0')\n",
    "env = gym.make('CartPole-v1')\n",
    "# env = gym.make('Acrobot-v1')\n",
    "# env = gym.make('MountainCar-v0')\n",
    "# env = gym.make('Pendulum-v0')\n",
    "# env = gym.make('Blackjack-v0')\n",
    "# env = gym.make('FrozenLake-v0')\n",
    "# env = gym.make('AirRaid-ram-v0')\n",
    "# env = gym.make('AirRaid-v0')\n",
    "# env = gym.make('BipedalWalker-v2')\n",
    "# env = gym.make('Copy-v0')\n",
    "# env = gym.make('CarRacing-v0')\n",
    "# env = gym.make('Ant-v2') #mujoco\n",
    "# env = gym.make('FetchPickAndPlace-v1') # mujoco required!\n",
    "\n",
    "with tf.Session() as sess:\n",
    "    sess.run(tf.global_variables_initializer())\n",
    "    saver.restore(sess, 'checkpoints/model.ckpt')    \n",
    "    #saver.restore(sess, tf.train.latest_checkpoint('checkpoints'))\n",
    "    \n",
    "    # Episodes/epochs\n",
    "    for _ in range(1):\n",
    "        state = env.reset()\n",
    "        total_reward = 0\n",
    "\n",
    "        # Steps/batches\n",
    "        while True:\n",
    "            env.render()\n",
    "            action_logits = sess.run(model.actions_logits, feed_dict={model.states: state.reshape([1, -1])})\n",
    "            action = np.argmax(action_logits)\n",
    "            state, reward, done, _ = env.step(action)\n",
    "            total_reward += reward\n",
    "            if done:\n",
    "                print('total_reward: {}'.format(total_reward))\n",
    "                break\n",
    "                \n",
    "env.close()"
   ]
  },
  {
   "cell_type": "markdown",
   "metadata": {},
   "source": [
    "## Extending this\n",
    "\n",
    "So, Cart-Pole is a pretty simple game. However, the same model can be used to train an agent to play something much more complicated like Pong or Space Invaders. Instead of a state like we're using here though, you'd want to use convolutional layers to get the state from the screen images.\n",
    "\n",
    "![Deep Q-Learning Atari](assets/atari-network.png)\n",
    "\n",
    "I'll leave it as a challenge for you to use deep Q-learning to train an agent to play Atari games. Here's the original paper which will get you started: http://www.davidqiu.com:8888/research/nature14236.pdf."
   ]
  },
  {
   "cell_type": "code",
   "execution_count": null,
   "metadata": {},
   "outputs": [],
   "source": []
  }
 ],
 "metadata": {
  "kernelspec": {
   "display_name": "Python 3",
   "language": "python",
   "name": "python3"
  },
  "language_info": {
   "codemirror_mode": {
    "name": "ipython",
    "version": 3
   },
   "file_extension": ".py",
   "mimetype": "text/x-python",
   "name": "python",
   "nbconvert_exporter": "python",
   "pygments_lexer": "ipython3",
   "version": "3.6.6"
  }
 },
 "nbformat": 4,
 "nbformat_minor": 2
}
