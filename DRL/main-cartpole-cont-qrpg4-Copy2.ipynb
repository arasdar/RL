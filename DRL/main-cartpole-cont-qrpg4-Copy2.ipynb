{
 "cells": [
  {
   "cell_type": "code",
   "execution_count": 1,
   "metadata": {},
   "outputs": [
    {
     "name": "stdout",
     "output_type": "stream",
     "text": [
      "TensorFlow Version: 1.7.1\n",
      "Default GPU Device: \n"
     ]
    }
   ],
   "source": [
    "# In this one we should define and detect GPUs for tensorflow\n",
    "# GPUs or CPU\n",
    "import tensorflow as tf\n",
    "\n",
    "# Check TensorFlow Version\n",
    "print('TensorFlow Version: {}'.format(tf.__version__))\n",
    "\n",
    "# Check for a GPU\n",
    "print('Default GPU Device: {}'.format(tf.test.gpu_device_name()))"
   ]
  },
  {
   "cell_type": "markdown",
   "metadata": {},
   "source": [
    "##### >**Note:** Make sure you have OpenAI Gym cloned. Then run this command `pip install -e gym/[all]`."
   ]
  },
  {
   "cell_type": "code",
   "execution_count": 2,
   "metadata": {},
   "outputs": [],
   "source": [
    "import numpy as np\n",
    "import gym\n",
    "env = gym.make('CartPole-v0')\n",
    "env = gym.make('CartPole-v1')"
   ]
  },
  {
   "cell_type": "code",
   "execution_count": 3,
   "metadata": {},
   "outputs": [],
   "source": [
    "def model_input(state_size):\n",
    "    states = tf.placeholder(tf.float32, [None, state_size], name='states')\n",
    "    actions = tf.placeholder(tf.int32, [None], name='actions')\n",
    "    next_states = tf.placeholder(tf.float32, [None, state_size], name='next_states')\n",
    "    rewards = tf.placeholder(tf.float32, [None], name='rewards')\n",
    "    dones = tf.placeholder(tf.float32, [None], name='dones')\n",
    "    rates = tf.placeholder(tf.float32, [None], name='rates')\n",
    "    return states, actions, next_states, rewards, dones, rates"
   ]
  },
  {
   "cell_type": "code",
   "execution_count": 4,
   "metadata": {},
   "outputs": [],
   "source": [
    "def generator(states, action_size, hidden_size, reuse=False, alpha=0.1, training=False):\n",
    "    with tf.variable_scope('generator', reuse=reuse):\n",
    "        # Input layer\n",
    "        h1 = tf.layers.dense(inputs=states, units=hidden_size)\n",
    "        bn1 = tf.layers.batch_normalization(h1, training=training)        \n",
    "        nl1 = tf.maximum(alpha * bn1, bn1)\n",
    "        \n",
    "        # Hidden layer\n",
    "        h2 = tf.layers.dense(inputs=nl1, units=hidden_size)\n",
    "        bn2 = tf.layers.batch_normalization(h2, training=training)        \n",
    "        nl2 = tf.maximum(alpha * bn2, bn2)\n",
    "        \n",
    "        # Output layer\n",
    "        actions_logits = tf.layers.dense(inputs=nl2, units=action_size)\n",
    "        return actions_logits"
   ]
  },
  {
   "cell_type": "code",
   "execution_count": 5,
   "metadata": {},
   "outputs": [],
   "source": [
    "def discriminator(states, actions, action_size, hidden_size, reuse=False, alpha=0.1, training=False):\n",
    "    with tf.variable_scope('discriminator', reuse=reuse):\n",
    "        # Input layer\n",
    "        h1 = tf.layers.dense(inputs=states, units=action_size)\n",
    "        bn1 = tf.layers.batch_normalization(h1, training=training)        \n",
    "        nl1 = tf.maximum(alpha * bn1, bn1)\n",
    "        \n",
    "        # Hidden layer\n",
    "        nl1_fused = tf.concat(axis=1, values=[nl1, actions])\n",
    "        h2 = tf.layers.dense(inputs=nl1_fused, units=hidden_size)\n",
    "        bn2 = tf.layers.batch_normalization(h2, training=training)        \n",
    "        nl2 = tf.maximum(alpha * bn2, bn2)\n",
    "        \n",
    "        # Output layer\n",
    "        Qs_logits = tf.layers.dense(inputs=nl2, units=1)\n",
    "        return Qs_logits"
   ]
  },
  {
   "cell_type": "code",
   "execution_count": 6,
   "metadata": {},
   "outputs": [],
   "source": [
    "def model_loss(state_size, action_size, hidden_size, \n",
    "               states, actions, next_states, rewards, dones, rates):\n",
    "    actions_logits = generator(states=states, hidden_size=hidden_size, action_size=action_size)\n",
    "    actions_labels = tf.one_hot(indices=actions, depth=action_size, dtype=actions_logits.dtype)\n",
    "    gloss = tf.reduce_mean(tf.nn.softmax_cross_entropy_with_logits_v2(logits=actions_logits, \n",
    "                                                                      labels=actions_labels))\n",
    "    dQs = discriminator(states=states, actions=actions_labels, action_size=action_size, hidden_size=hidden_size)\n",
    "    rates = tf.reshape(rates, shape=[-1, 1])\n",
    "    dloss = tf.reduce_mean(tf.nn.sigmoid_cross_entropy_with_logits(logits=dQs,\n",
    "                                                                   labels=rates)) # [0, 1]\n",
    "    next_actions_logits = generator(states=next_states, hidden_size=hidden_size, action_size=action_size, \n",
    "                                    reuse=True)\n",
    "    nextQs_logits = discriminator(states=next_states, actions=next_actions_logits, action_size=action_size, \n",
    "                                  hidden_size=hidden_size, reuse=True)\n",
    "    nextQs = tf.reshape(nextQs_logits, shape=[-1])\n",
    "    targetQs = rewards + (0.99 * nextQs * (1-dones))\n",
    "    targetQs = tf.reshape(targetQs, shape=[-1, 1])\n",
    "    glossQ = tf.reduce_mean(tf.nn.sigmoid_cross_entropy_with_logits(logits=dQs,\n",
    "                                                                    labels=tf.nn.sigmoid(targetQs))) # [0, 1]\n",
    "    return actions_logits, gloss, dloss, glossQ"
   ]
  },
  {
   "cell_type": "code",
   "execution_count": 8,
   "metadata": {},
   "outputs": [],
   "source": [
    "def model_opt(g_loss, d_loss, g_lossQ, g_learning_rate, d_learning_rate):\n",
    "    # Get weights and bias to update\n",
    "    t_vars = tf.trainable_variables()\n",
    "    g_vars = [var for var in t_vars if var.name.startswith('generator')]\n",
    "    d_vars = [var for var in t_vars if var.name.startswith('discriminator')]\n",
    "\n",
    "    # Optimize\n",
    "    with tf.control_dependencies(tf.get_collection(tf.GraphKeys.UPDATE_OPS)): # Required for batchnorm (BN)\n",
    "        g_opt = tf.train.AdamOptimizer(g_learning_rate).minimize(g_loss, var_list=g_vars)\n",
    "        d_opt = tf.train.AdamOptimizer(d_learning_rate).minimize(d_loss, var_list=d_vars)\n",
    "        g_optQ = tf.train.AdamOptimizer(g_learning_rate).minimize(g_lossQ, var_list=g_vars)\n",
    "    return g_opt, d_opt, g_optQ"
   ]
  },
  {
   "cell_type": "code",
   "execution_count": 9,
   "metadata": {},
   "outputs": [],
   "source": [
    "class Model:\n",
    "    def __init__(self, state_size, action_size, hidden_size, g_learning_rate, d_learning_rate):\n",
    "\n",
    "        # Data of the Model: make the data available inside the framework\n",
    "        self.states, self.actions, self.next_states, self.rewards, self.dones, self.rates = model_input(state_size=state_size)\n",
    "\n",
    "        # Create the Model: calculating the loss and forwad pass\n",
    "        self.actions_logits, self.g_loss, self.d_loss, self.g_lossQ = model_loss(\n",
    "            action_size=action_size, hidden_size=hidden_size, state_size=state_size, # model init parameters\n",
    "            states=self.states, actions=self.actions, next_states=self.next_states, rewards=self.rewards, \n",
    "            dones=self.dones, rates=self.rates) # model input\n",
    "        \n",
    "        # Update the model: backward pass and backprop\n",
    "        self.g_opt, self.d_opt, self.g_optQ = model_opt(g_loss=self.g_loss, \n",
    "                                                        d_loss=self.d_loss,\n",
    "                                                        g_lossQ=self.g_lossQ,\n",
    "                                                        g_learning_rate=g_learning_rate, \n",
    "                                                        d_learning_rate=d_learning_rate)"
   ]
  },
  {
   "cell_type": "code",
   "execution_count": 10,
   "metadata": {},
   "outputs": [],
   "source": [
    "from collections import deque\n",
    "class Memory():\n",
    "    def __init__(self, max_size = 1000):\n",
    "        self.buffer = deque(maxlen=max_size) # data batch\n",
    "#     def sample(self, batch_size):\n",
    "#         idx = np.random.choice(np.arange(len(self.buffer)), # ==  self.rates\n",
    "#                                size=batch_size, \n",
    "#                                replace=False)\n",
    "#         return [self.buffer[ii] for ii in idx], [self.rates[ii] for ii in idx]"
   ]
  },
  {
   "cell_type": "markdown",
   "metadata": {},
   "source": [
    "## Hyperparameters\n",
    "\n",
    "One of the more difficult aspects of reinforcememt learning are the large number of hyperparameters. Not only are we tuning the network, but we're tuning the simulation."
   ]
  },
  {
   "cell_type": "code",
   "execution_count": 12,
   "metadata": {},
   "outputs": [
    {
     "data": {
      "text/plain": [
       "(Box(4,), Discrete(2))"
      ]
     },
     "execution_count": 12,
     "metadata": {},
     "output_type": "execute_result"
    }
   ],
   "source": [
    "env.observation_space, env.action_space"
   ]
  },
  {
   "cell_type": "code",
   "execution_count": 13,
   "metadata": {},
   "outputs": [],
   "source": [
    "# Exploration parameters\n",
    "explore_start = 1.0            # exploration probability at start\n",
    "explore_stop = 0.01           # minimum exploration probability \n",
    "decay_rate = 0.0001            # exponential decay rate for exploration prob\n",
    "\n",
    "# Network parameters\n",
    "state_size = 4\n",
    "action_size = 2\n",
    "hidden_size = 4*2             # number of units in each Q-network hidden layer\n",
    "g_learning_rate = 1e-4         # Q-network learning rate\n",
    "d_learning_rate = 1e-4         # Q-network learning rate\n",
    "\n",
    "# Memory parameters\n",
    "memory_size = int(1e5)            # memory capacity\n",
    "batch_size = int(1e3)             # experience mini-batch size: 200/500 a successfull episode size\n",
    "gamma = 0.99                   # future reward discount"
   ]
  },
  {
   "cell_type": "code",
   "execution_count": 14,
   "metadata": {},
   "outputs": [],
   "source": [
    "# Reset/init the graph/session\n",
    "graph = tf.reset_default_graph()\n",
    "\n",
    "# Init the model\n",
    "model = Model(action_size=action_size, state_size=state_size, hidden_size=hidden_size,\n",
    "              g_learning_rate=g_learning_rate, d_learning_rate=d_learning_rate)\n",
    "\n",
    "# Init the memory\n",
    "memory = Memory(max_size=memory_size)"
   ]
  },
  {
   "cell_type": "code",
   "execution_count": 15,
   "metadata": {},
   "outputs": [],
   "source": [
    "state = env.reset()\n",
    "total_reward = 0\n",
    "num_step = 0\n",
    "for _ in range(memory_size):\n",
    "    action = env.action_space.sample()\n",
    "    next_state, reward, done, _ = env.step(action)\n",
    "    rate = -1\n",
    "    memory.buffer.append([state, action, next_state, reward, float(done), rate])\n",
    "    num_step += 1 # memory incremented\n",
    "    total_reward += reward\n",
    "    state = next_state\n",
    "    if done is True:\n",
    "        state = env.reset()\n",
    "        rate = total_reward/500 # [0, 1]\n",
    "        for idx in range(num_step): # episode length\n",
    "            if memory.buffer[-1-idx][-1] == -1:\n",
    "                memory.buffer[-1-idx][-1] = rate\n",
    "        total_reward = 0 # reset\n",
    "        num_step = 0 # reset"
   ]
  },
  {
   "cell_type": "markdown",
   "metadata": {},
   "source": [
    "## Training the model\n",
    "\n",
    "Below we'll train our agent. If you want to watch it train, uncomment the `env.render()` line. This is slow because it's rendering the frames slower than the network can train. But, it's cool to watch the agent get better at the game."
   ]
  },
  {
   "cell_type": "code",
   "execution_count": null,
   "metadata": {},
   "outputs": [
    {
     "name": "stdout",
     "output_type": "stream",
     "text": [
      "Episode:0 meanR:20.0000 R:20.0000 rate:0.0400 gloss:0.6906 dloss:0.7023 glossQ:0.7080 exploreP:0.9980\n",
      "Episode:1 meanR:21.0000 R:22.0000 rate:0.0440 gloss:0.6866 dloss:0.6958 glossQ:0.7111 exploreP:0.9959\n",
      "Episode:2 meanR:18.3333 R:13.0000 rate:0.0260 gloss:0.6864 dloss:0.6909 glossQ:0.7139 exploreP:0.9946\n",
      "Episode:3 meanR:20.0000 R:25.0000 rate:0.0500 gloss:0.6892 dloss:0.6886 glossQ:0.7168 exploreP:0.9921\n",
      "Episode:4 meanR:19.4000 R:17.0000 rate:0.0340 gloss:0.6899 dloss:0.6876 glossQ:0.7194 exploreP:0.9904\n",
      "Episode:5 meanR:22.1667 R:36.0000 rate:0.0720 gloss:0.6863 dloss:0.6797 glossQ:0.7239 exploreP:0.9869\n",
      "Episode:6 meanR:21.4286 R:17.0000 rate:0.0340 gloss:0.6872 dloss:0.6767 glossQ:0.7266 exploreP:0.9853\n",
      "Episode:7 meanR:20.8750 R:17.0000 rate:0.0340 gloss:0.6868 dloss:0.6726 glossQ:0.7285 exploreP:0.9836\n",
      "Episode:8 meanR:20.0000 R:13.0000 rate:0.0260 gloss:0.6852 dloss:0.6706 glossQ:0.7288 exploreP:0.9823\n",
      "Episode:9 meanR:22.5000 R:45.0000 rate:0.0900 gloss:0.6889 dloss:0.6661 glossQ:0.7330 exploreP:0.9780\n",
      "Episode:10 meanR:23.8182 R:37.0000 rate:0.0740 gloss:0.6880 dloss:0.6600 glossQ:0.7360 exploreP:0.9744\n",
      "Episode:11 meanR:24.7500 R:35.0000 rate:0.0700 gloss:0.6875 dloss:0.6498 glossQ:0.7434 exploreP:0.9710\n",
      "Episode:12 meanR:25.3077 R:32.0000 rate:0.0640 gloss:0.6924 dloss:0.6516 glossQ:0.7426 exploreP:0.9680\n",
      "Episode:13 meanR:25.2857 R:25.0000 rate:0.0500 gloss:0.6899 dloss:0.6415 glossQ:0.7495 exploreP:0.9656\n",
      "Episode:14 meanR:24.7333 R:17.0000 rate:0.0340 gloss:0.6908 dloss:0.6413 glossQ:0.7503 exploreP:0.9639\n",
      "Episode:15 meanR:24.4375 R:20.0000 rate:0.0400 gloss:0.6873 dloss:0.6338 glossQ:0.7560 exploreP:0.9620\n",
      "Episode:16 meanR:23.7059 R:12.0000 rate:0.0240 gloss:0.6904 dloss:0.6327 glossQ:0.7584 exploreP:0.9609\n",
      "Episode:17 meanR:24.1667 R:32.0000 rate:0.0640 gloss:0.6994 dloss:0.6317 glossQ:0.7582 exploreP:0.9579\n",
      "Episode:18 meanR:23.8421 R:18.0000 rate:0.0360 gloss:0.6914 dloss:0.6172 glossQ:0.7645 exploreP:0.9562\n",
      "Episode:19 meanR:24.0000 R:27.0000 rate:0.0540 gloss:0.6958 dloss:0.6236 glossQ:0.7623 exploreP:0.9536\n",
      "Episode:20 meanR:23.2857 R:9.0000 rate:0.0180 gloss:0.6970 dloss:0.6208 glossQ:0.7627 exploreP:0.9528\n",
      "Episode:21 meanR:22.9091 R:15.0000 rate:0.0300 gloss:0.7012 dloss:0.6166 glossQ:0.7651 exploreP:0.9513\n",
      "Episode:22 meanR:22.9565 R:24.0000 rate:0.0480 gloss:0.6991 dloss:0.6156 glossQ:0.7683 exploreP:0.9491\n",
      "Episode:23 meanR:22.4583 R:11.0000 rate:0.0220 gloss:0.7072 dloss:0.6116 glossQ:0.7698 exploreP:0.9481\n",
      "Episode:24 meanR:22.1200 R:14.0000 rate:0.0280 gloss:0.7091 dloss:0.6096 glossQ:0.7690 exploreP:0.9467\n",
      "Episode:25 meanR:21.8462 R:15.0000 rate:0.0300 gloss:0.6990 dloss:0.6057 glossQ:0.7716 exploreP:0.9453\n",
      "Episode:26 meanR:21.4444 R:11.0000 rate:0.0220 gloss:0.7058 dloss:0.6038 glossQ:0.7729 exploreP:0.9443\n",
      "Episode:27 meanR:21.0000 R:9.0000 rate:0.0180 gloss:0.6981 dloss:0.5886 glossQ:0.7838 exploreP:0.9435\n",
      "Episode:28 meanR:21.2414 R:28.0000 rate:0.0560 gloss:0.6976 dloss:0.6003 glossQ:0.7762 exploreP:0.9409\n",
      "Episode:29 meanR:21.2000 R:20.0000 rate:0.0400 gloss:0.7064 dloss:0.5960 glossQ:0.7782 exploreP:0.9390\n",
      "Episode:30 meanR:21.2903 R:24.0000 rate:0.0480 gloss:0.6979 dloss:0.5883 glossQ:0.7808 exploreP:0.9368\n",
      "Episode:31 meanR:21.6250 R:32.0000 rate:0.0640 gloss:0.7093 dloss:0.5823 glossQ:0.7838 exploreP:0.9338\n",
      "Episode:32 meanR:21.6061 R:21.0000 rate:0.0420 gloss:0.7115 dloss:0.5817 glossQ:0.7851 exploreP:0.9319\n",
      "Episode:33 meanR:21.3824 R:14.0000 rate:0.0280 gloss:0.7238 dloss:0.5720 glossQ:0.7878 exploreP:0.9306\n",
      "Episode:34 meanR:21.2000 R:15.0000 rate:0.0300 gloss:0.7169 dloss:0.5742 glossQ:0.7852 exploreP:0.9292\n",
      "Episode:35 meanR:20.9444 R:12.0000 rate:0.0240 gloss:0.7195 dloss:0.5717 glossQ:0.7843 exploreP:0.9281\n",
      "Episode:36 meanR:20.8649 R:18.0000 rate:0.0360 gloss:0.7143 dloss:0.5712 glossQ:0.7891 exploreP:0.9264\n",
      "Episode:37 meanR:20.6053 R:11.0000 rate:0.0220 gloss:0.7232 dloss:0.5668 glossQ:0.7902 exploreP:0.9254\n",
      "Episode:38 meanR:20.4359 R:14.0000 rate:0.0280 gloss:0.7373 dloss:0.5715 glossQ:0.7836 exploreP:0.9242\n",
      "Episode:39 meanR:20.7750 R:34.0000 rate:0.0680 gloss:0.7183 dloss:0.5609 glossQ:0.7923 exploreP:0.9211\n",
      "Episode:40 meanR:21.7805 R:62.0000 rate:0.1240 gloss:0.7219 dloss:0.5501 glossQ:0.7943 exploreP:0.9154\n",
      "Episode:41 meanR:21.7143 R:19.0000 rate:0.0380 gloss:0.7188 dloss:0.5407 glossQ:0.7984 exploreP:0.9137\n",
      "Episode:42 meanR:21.5581 R:15.0000 rate:0.0300 gloss:0.7365 dloss:0.5358 glossQ:0.7952 exploreP:0.9124\n",
      "Episode:43 meanR:21.3409 R:12.0000 rate:0.0240 gloss:0.7383 dloss:0.5392 glossQ:0.7929 exploreP:0.9113\n",
      "Episode:44 meanR:21.2889 R:19.0000 rate:0.0380 gloss:0.7364 dloss:0.5360 glossQ:0.7942 exploreP:0.9096\n",
      "Episode:45 meanR:21.4783 R:30.0000 rate:0.0600 gloss:0.7379 dloss:0.5233 glossQ:0.7963 exploreP:0.9069\n",
      "Episode:46 meanR:21.5319 R:24.0000 rate:0.0480 gloss:0.7492 dloss:0.5192 glossQ:0.7946 exploreP:0.9047\n",
      "Episode:47 meanR:21.3125 R:11.0000 rate:0.0220 gloss:0.7277 dloss:0.5113 glossQ:0.7955 exploreP:0.9037\n",
      "Episode:48 meanR:21.3061 R:21.0000 rate:0.0420 gloss:0.7359 dloss:0.5192 glossQ:0.7937 exploreP:0.9019\n",
      "Episode:49 meanR:21.4000 R:26.0000 rate:0.0520 gloss:0.7373 dloss:0.5013 glossQ:0.7971 exploreP:0.8995\n",
      "Episode:50 meanR:21.2157 R:12.0000 rate:0.0240 gloss:0.7609 dloss:0.5161 glossQ:0.7877 exploreP:0.8985\n",
      "Episode:51 meanR:21.1346 R:17.0000 rate:0.0340 gloss:0.7578 dloss:0.5051 glossQ:0.7881 exploreP:0.8970\n",
      "Episode:52 meanR:21.0000 R:14.0000 rate:0.0280 gloss:0.7809 dloss:0.5052 glossQ:0.7855 exploreP:0.8957\n",
      "Episode:53 meanR:20.9630 R:19.0000 rate:0.0380 gloss:0.7614 dloss:0.5093 glossQ:0.7832 exploreP:0.8940\n",
      "Episode:54 meanR:20.8364 R:14.0000 rate:0.0280 gloss:0.7511 dloss:0.4948 glossQ:0.7876 exploreP:0.8928\n",
      "Episode:55 meanR:20.9107 R:25.0000 rate:0.0500 gloss:0.7401 dloss:0.4793 glossQ:0.7857 exploreP:0.8906\n",
      "Episode:56 meanR:20.8596 R:18.0000 rate:0.0360 gloss:0.7623 dloss:0.4785 glossQ:0.7790 exploreP:0.8890\n",
      "Episode:57 meanR:20.8276 R:19.0000 rate:0.0380 gloss:0.7654 dloss:0.4735 glossQ:0.7746 exploreP:0.8873\n",
      "Episode:58 meanR:20.6441 R:10.0000 rate:0.0200 gloss:0.7116 dloss:0.4780 glossQ:0.7809 exploreP:0.8865\n",
      "Episode:59 meanR:20.4500 R:9.0000 rate:0.0180 gloss:0.7503 dloss:0.4663 glossQ:0.7773 exploreP:0.8857\n",
      "Episode:60 meanR:20.4918 R:23.0000 rate:0.0460 gloss:0.7736 dloss:0.4656 glossQ:0.7678 exploreP:0.8837\n",
      "Episode:61 meanR:20.4355 R:17.0000 rate:0.0340 gloss:0.7499 dloss:0.4632 glossQ:0.7679 exploreP:0.8822\n",
      "Episode:62 meanR:20.6508 R:34.0000 rate:0.0680 gloss:0.7340 dloss:0.4674 glossQ:0.7628 exploreP:0.8792\n",
      "Episode:63 meanR:20.5312 R:13.0000 rate:0.0260 gloss:0.7531 dloss:0.4642 glossQ:0.7512 exploreP:0.8781\n",
      "Episode:64 meanR:20.3692 R:10.0000 rate:0.0200 gloss:0.7627 dloss:0.4467 glossQ:0.7486 exploreP:0.8772\n",
      "Episode:65 meanR:20.3333 R:18.0000 rate:0.0360 gloss:0.7773 dloss:0.4626 glossQ:0.7415 exploreP:0.8757\n",
      "Episode:66 meanR:20.1493 R:8.0000 rate:0.0160 gloss:0.7600 dloss:0.4466 glossQ:0.7456 exploreP:0.8750\n",
      "Episode:67 meanR:20.0294 R:12.0000 rate:0.0240 gloss:0.7961 dloss:0.4632 glossQ:0.7318 exploreP:0.8739\n",
      "Episode:68 meanR:20.0435 R:21.0000 rate:0.0420 gloss:0.7915 dloss:0.4461 glossQ:0.7349 exploreP:0.8721\n",
      "Episode:69 meanR:19.9286 R:12.0000 rate:0.0240 gloss:0.8013 dloss:0.4743 glossQ:0.7334 exploreP:0.8711\n",
      "Episode:70 meanR:20.0845 R:31.0000 rate:0.0620 gloss:0.7446 dloss:0.4472 glossQ:0.7319 exploreP:0.8684\n",
      "Episode:71 meanR:20.0000 R:14.0000 rate:0.0280 gloss:0.7724 dloss:0.4500 glossQ:0.7193 exploreP:0.8672\n",
      "Episode:72 meanR:20.0548 R:24.0000 rate:0.0480 gloss:0.7741 dloss:0.4374 glossQ:0.7097 exploreP:0.8652\n",
      "Episode:73 meanR:20.0541 R:20.0000 rate:0.0400 gloss:0.7741 dloss:0.4374 glossQ:0.7028 exploreP:0.8635\n",
      "Episode:74 meanR:19.9600 R:13.0000 rate:0.0260 gloss:0.7480 dloss:0.4093 glossQ:0.6973 exploreP:0.8624\n",
      "Episode:75 meanR:20.0921 R:30.0000 rate:0.0600 gloss:0.7626 dloss:0.4373 glossQ:0.6852 exploreP:0.8598\n",
      "Episode:76 meanR:20.2338 R:31.0000 rate:0.0620 gloss:0.7691 dloss:0.4281 glossQ:0.6701 exploreP:0.8572\n",
      "Episode:77 meanR:20.2564 R:22.0000 rate:0.0440 gloss:0.7618 dloss:0.4214 glossQ:0.6582 exploreP:0.8553\n",
      "Episode:78 meanR:20.4557 R:36.0000 rate:0.0720 gloss:0.7510 dloss:0.4195 glossQ:0.6465 exploreP:0.8523\n",
      "Episode:79 meanR:20.4875 R:23.0000 rate:0.0460 gloss:0.7671 dloss:0.4050 glossQ:0.6270 exploreP:0.8503\n"
     ]
    },
    {
     "name": "stdout",
     "output_type": "stream",
     "text": [
      "Episode:80 meanR:20.4444 R:17.0000 rate:0.0340 gloss:0.7588 dloss:0.4205 glossQ:0.6254 exploreP:0.8489\n",
      "Episode:81 meanR:20.4024 R:17.0000 rate:0.0340 gloss:0.7390 dloss:0.4406 glossQ:0.6054 exploreP:0.8475\n",
      "Episode:82 meanR:20.3373 R:15.0000 rate:0.0300 gloss:0.7484 dloss:0.4210 glossQ:0.6047 exploreP:0.8462\n",
      "Episode:83 meanR:20.2500 R:13.0000 rate:0.0260 gloss:0.7544 dloss:0.4061 glossQ:0.5967 exploreP:0.8451\n",
      "Episode:84 meanR:20.1647 R:13.0000 rate:0.0260 gloss:0.7334 dloss:0.4131 glossQ:0.5879 exploreP:0.8441\n",
      "Episode:85 meanR:20.3256 R:34.0000 rate:0.0680 gloss:0.7259 dloss:0.4172 glossQ:0.5848 exploreP:0.8412\n",
      "Episode:86 meanR:20.5862 R:43.0000 rate:0.0860 gloss:0.7424 dloss:0.3972 glossQ:0.5597 exploreP:0.8377\n",
      "Episode:87 meanR:20.6023 R:22.0000 rate:0.0440 gloss:0.7099 dloss:0.3991 glossQ:0.5330 exploreP:0.8358\n",
      "Episode:88 meanR:20.5393 R:15.0000 rate:0.0300 gloss:0.7527 dloss:0.3797 glossQ:0.5369 exploreP:0.8346\n",
      "Episode:89 meanR:20.7444 R:39.0000 rate:0.0780 gloss:0.7469 dloss:0.4058 glossQ:0.5190 exploreP:0.8314\n",
      "Episode:90 meanR:20.8462 R:30.0000 rate:0.0600 gloss:0.7537 dloss:0.4123 glossQ:0.5001 exploreP:0.8289\n",
      "Episode:91 meanR:20.7609 R:13.0000 rate:0.0260 gloss:0.7288 dloss:0.4094 glossQ:0.4985 exploreP:0.8279\n",
      "Episode:92 meanR:20.6774 R:13.0000 rate:0.0260 gloss:0.7337 dloss:0.4299 glossQ:0.4914 exploreP:0.8268\n",
      "Episode:93 meanR:20.7979 R:32.0000 rate:0.0640 gloss:0.7521 dloss:0.3888 glossQ:0.4844 exploreP:0.8242\n",
      "Episode:94 meanR:20.7158 R:13.0000 rate:0.0260 gloss:0.7949 dloss:0.4072 glossQ:0.4763 exploreP:0.8231\n",
      "Episode:95 meanR:20.7188 R:21.0000 rate:0.0420 gloss:0.7525 dloss:0.4086 glossQ:0.4674 exploreP:0.8214\n",
      "Episode:96 meanR:21.0515 R:53.0000 rate:0.1060 gloss:0.7465 dloss:0.4065 glossQ:0.4533 exploreP:0.8171\n",
      "Episode:97 meanR:21.1837 R:34.0000 rate:0.0680 gloss:0.7243 dloss:0.3920 glossQ:0.4343 exploreP:0.8144\n"
     ]
    }
   ],
   "source": [
    "# Save/load the model and save for plotting\n",
    "saver = tf.train.Saver()\n",
    "episode_rewards_list, rewards_list = [], []\n",
    "# gloss_list, dloss_list = [], []\n",
    "\n",
    "# TF session for training\n",
    "with tf.Session(graph=graph) as sess:\n",
    "    sess.run(tf.global_variables_initializer())\n",
    "    #saver.restore(sess, 'checkpoints/model.ckpt')    \n",
    "    #saver.restore(sess, tf.train.latest_checkpoint('checkpoints'))\n",
    "    total_step = 0 # Explore or exploit parameter\n",
    "    episode_reward = deque(maxlen=100) # 100 episodes average/running average/running mean/window\n",
    "\n",
    "    # Training episodes/epochs\n",
    "    for ep in range(1111*3):\n",
    "        total_reward = 0 # each episode\n",
    "        gloss_batch, dloss_batch, glossQ_batch = [], [], []\n",
    "        state = env.reset() # each episode\n",
    "        num_step = 0 # each episode\n",
    "\n",
    "        # Training steps/batches\n",
    "        while True:\n",
    "            # Explore (Env) or Exploit (Model)\n",
    "            total_step += 1\n",
    "            explore_p = explore_stop + (explore_start - explore_stop) * np.exp(-decay_rate * total_step) \n",
    "            if explore_p > np.random.rand():\n",
    "                action = env.action_space.sample()\n",
    "            else:\n",
    "                action_logits = sess.run(model.actions_logits, feed_dict={model.states: state.reshape([1, -1])})\n",
    "                action = np.argmax(action_logits)\n",
    "            next_state, reward, done, _ = env.step(action)\n",
    "            rate = -1\n",
    "            memory.buffer.append([state, action, next_state, reward, float(done), rate])\n",
    "            num_step += 1 # momory added\n",
    "            total_reward += reward\n",
    "            state = next_state\n",
    "            \n",
    "            # Rating the memory\n",
    "            if done is True:\n",
    "                rate = total_reward/500 # [0, 1]\n",
    "                for idx in range(num_step): # episode length\n",
    "                    if memory.buffer[-1-idx][-1] == -1:\n",
    "                        memory.buffer[-1-idx][-1] = rate\n",
    "                        \n",
    "            # Training with the maxrated minibatch\n",
    "            while True:\n",
    "                batch = memory.buffer\n",
    "                percentage = 0.9\n",
    "                #for idx in range(memory_size// batch_size):\n",
    "                idx_arr = np.arange(memory_size// batch_size)\n",
    "                idx = np.random.choice(idx_arr)\n",
    "                rates = np.array([each[5] for each in batch])[idx*batch_size:(idx+1)*batch_size]\n",
    "                if np.max(rates) > 0:\n",
    "                    break\n",
    "            states = np.array([each[0] for each in batch])[idx*batch_size:(idx+1)*batch_size]\n",
    "            actions = np.array([each[1] for each in batch])[idx*batch_size:(idx+1)*batch_size]\n",
    "            next_states = np.array([each[2] for each in batch])[idx*batch_size:(idx+1)*batch_size]\n",
    "            rewards = np.array([each[3] for each in batch])[idx*batch_size:(idx+1)*batch_size]\n",
    "            dones = np.array([each[4] for each in batch])[idx*batch_size:(idx+1)*batch_size]\n",
    "            #print(states.shape, actions.shape, next_states.shape, rewards.shape, dones.shape, rates.shape)\n",
    "            states = states[rates >= (np.max(rates)*percentage)]\n",
    "            actions = actions[rates >= (np.max(rates)*percentage)]\n",
    "            next_states = next_states[rates >= (np.max(rates)*percentage)]\n",
    "            rewards = rewards[rates >= (np.max(rates)*percentage)]\n",
    "            dones = dones[rates >= (np.max(rates)*percentage)]\n",
    "            rates = rates[rates >= (np.max(rates)*percentage)]\n",
    "            gloss, _, dloss, _ = sess.run([model.g_loss, model.g_opt, model.d_loss, model.d_opt], \n",
    "                                          feed_dict = {model.states: states, \n",
    "                                                       model.actions: actions,\n",
    "                                                       model.next_states: next_states,\n",
    "                                                       model.rewards: rewards,\n",
    "                                                       model.dones: dones, \n",
    "                                                       model.rates: rates})\n",
    "            glossQ, _ = sess.run([model.g_lossQ, model.g_optQ], \n",
    "                                          feed_dict = {model.states: states, \n",
    "                                                       model.actions: actions,\n",
    "                                                       model.next_states: next_states,\n",
    "                                                       model.rewards: rewards,\n",
    "                                                       model.dones: dones, \n",
    "                                                       model.rates: rates})\n",
    "            dloss_batch.append(dloss)\n",
    "            gloss_batch.append(gloss)\n",
    "            glossQ_batch.append(glossQ)\n",
    "            if done is True:\n",
    "                break\n",
    "                \n",
    "        episode_reward.append(total_reward)\n",
    "        print('Episode:{}'.format(ep),\n",
    "              'meanR:{:.4f}'.format(np.mean(episode_reward)),\n",
    "              'R:{:.4f}'.format(total_reward),\n",
    "              'rate:{:.4f}'.format(rate),\n",
    "              'gloss:{:.4f}'.format(np.mean(gloss_batch)),\n",
    "              'dloss:{:.4f}'.format(np.mean(dloss_batch)),\n",
    "              'glossQ:{:.4f}'.format(np.mean(glossQ_batch)),\n",
    "              'exploreP:{:.4f}'.format(explore_p))\n",
    "\n",
    "        # Ploting out\n",
    "        episode_rewards_list.append([ep, np.mean(episode_reward)])\n",
    "        rewards_list.append([ep, total_reward])\n",
    "        # gloss_list.append([ep, np.mean(gloss_batch)])\n",
    "        # dloss_list.append([ep, np.mean(dloss_batch)])\n",
    "        \n",
    "        # Break episode/epoch loop\n",
    "        ## Option 1: Solve the First Version\n",
    "        #The task is episodic, and in order to solve the environment, \n",
    "        #your agent must get an average score of +30 over 100 consecutive episodes.\n",
    "        if np.mean(episode_reward) >= 500:\n",
    "            break\n",
    "            \n",
    "    # At the end of all training episodes/epochs\n",
    "    saver.save(sess, 'checkpoints/model.ckpt')"
   ]
  },
  {
   "cell_type": "markdown",
   "metadata": {},
   "source": [
    "# Visualizing training\n",
    "\n",
    "Below I'll plot the total rewards for each episode. I'm plotting the rolling average too, in blue."
   ]
  },
  {
   "cell_type": "code",
   "execution_count": null,
   "metadata": {},
   "outputs": [],
   "source": [
    "import matplotlib.pyplot as plt\n",
    "%matplotlib inline\n",
    "\n",
    "def running_mean(x, N):\n",
    "    cumsum = np.cumsum(np.insert(x, 0, 0)) \n",
    "    return (cumsum[N:] - cumsum[:-N]) / N "
   ]
  },
  {
   "cell_type": "code",
   "execution_count": null,
   "metadata": {},
   "outputs": [],
   "source": [
    "eps, arr = np.array(episode_rewards_list).T\n",
    "smoothed_arr = running_mean(arr, 10)\n",
    "plt.plot(eps[-len(smoothed_arr):], smoothed_arr)\n",
    "plt.plot(eps, arr, color='grey', alpha=0.3)\n",
    "plt.xlabel('Episode')\n",
    "plt.ylabel('Total rewards')"
   ]
  },
  {
   "cell_type": "code",
   "execution_count": 16,
   "metadata": {},
   "outputs": [
    {
     "data": {
      "text/plain": [
       "Text(0, 0.5, 'Total rewards')"
      ]
     },
     "execution_count": 16,
     "metadata": {},
     "output_type": "execute_result"
    },
    {
     "data": {
      "image/png": "[encoded data removed]",
      "text/plain": [
       "<Figure size 432x288 with 1 Axes>"
      ]
     },
     "metadata": {
      "needs_background": "light"
     },
     "output_type": "display_data"
    }
   ],
   "source": [
    "eps, arr = np.array(episode_rewards_list).T\n",
    "smoothed_arr = running_mean(arr, 10)\n",
    "plt.plot(eps[-len(smoothed_arr):], smoothed_arr)\n",
    "plt.plot(eps, arr, color='grey', alpha=0.3)\n",
    "plt.xlabel('Episode')\n",
    "plt.ylabel('Total rewards')"
   ]
  },
  {
   "cell_type": "code",
   "execution_count": null,
   "metadata": {},
   "outputs": [],
   "source": [
    "eps, arr = np.array(rewards_list).T\n",
    "smoothed_arr = running_mean(arr, 10)\n",
    "plt.plot(eps[-len(smoothed_arr):], smoothed_arr)\n",
    "plt.plot(eps, arr, color='grey', alpha=0.3)\n",
    "plt.xlabel('Episode')\n",
    "plt.ylabel('Total rewards')"
   ]
  },
  {
   "cell_type": "code",
   "execution_count": 17,
   "metadata": {},
   "outputs": [
    {
     "data": {
      "text/plain": [
       "Text(0, 0.5, 'Total rewards')"
      ]
     },
     "execution_count": 17,
     "metadata": {},
     "output_type": "execute_result"
    },
    {
     "data": {
      "image/png": "[encoded data removed]",
      "text/plain": [
       "<Figure size 432x288 with 1 Axes>"
      ]
     },
     "metadata": {
      "needs_background": "light"
     },
     "output_type": "display_data"
    }
   ],
   "source": [
    "eps, arr = np.array(rewards_list).T\n",
    "smoothed_arr = running_mean(arr, 10)\n",
    "plt.plot(eps[-len(smoothed_arr):], smoothed_arr)\n",
    "plt.plot(eps, arr, color='grey', alpha=0.3)\n",
    "plt.xlabel('Episode')\n",
    "plt.ylabel('Total rewards')"
   ]
  },
  {
   "cell_type": "code",
   "execution_count": 18,
   "metadata": {},
   "outputs": [],
   "source": [
    "eps, arr = np.array(gloss_list).T\n",
    "smoothed_arr = running_mean(arr, 10)\n",
    "plt.plot(eps[-len(smoothed_arr):], smoothed_arr)\n",
    "plt.plot(eps, arr, color='grey', alpha=0.3)\n",
    "plt.xlabel('Episode')\n",
    "plt.ylabel('G losses')"
   ]
  },
  {
   "cell_type": "code",
   "execution_count": null,
   "metadata": {},
   "outputs": [],
   "source": [
    "eps, arr = np.array(dloss_list).T\n",
    "smoothed_arr = running_mean(arr, 10)\n",
    "plt.plot(eps[-len(smoothed_arr):], smoothed_arr)\n",
    "plt.plot(eps, arr, color='grey', alpha=0.3)\n",
    "plt.xlabel('Episode')\n",
    "plt.ylabel('D losses')"
   ]
  },
  {
   "cell_type": "markdown",
   "metadata": {},
   "source": [
    "## Testing\n",
    "\n",
    "Let's checkout how our trained agent plays the game."
   ]
  },
  {
   "cell_type": "code",
   "execution_count": 20,
   "metadata": {},
   "outputs": [
    {
     "name": "stdout",
     "output_type": "stream",
     "text": [
      "INFO:tensorflow:Restoring parameters from checkpoints/model.ckpt\n",
      "total_reward: 500.0\n",
      "total_reward: 500.0\n",
      "total_reward: 500.0\n",
      "total_reward: 200.0\n",
      "total_reward: 500.0\n",
      "total_reward: 500.0\n",
      "total_reward: 500.0\n",
      "total_reward: 500.0\n",
      "total_reward: 500.0\n",
      "total_reward: 500.0\n",
      "total_reward: 11.0\n"
     ]
    }
   ],
   "source": [
    "import gym\n",
    "env = gym.make('CartPole-v0')\n",
    "env = gym.make('CartPole-v1')\n",
    "# env = gym.make('Acrobot-v1')\n",
    "# env = gym.make('MountainCar-v0')\n",
    "# env = gym.make('Pendulum-v0')\n",
    "# env = gym.make('Blackjack-v0')\n",
    "# env = gym.make('FrozenLake-v0')\n",
    "# env = gym.make('AirRaid-ram-v0')\n",
    "# env = gym.make('AirRaid-v0')\n",
    "# env = gym.make('BipedalWalker-v2')\n",
    "# env = gym.make('Copy-v0')\n",
    "# env = gym.make('CarRacing-v0')\n",
    "# env = gym.make('Ant-v2') #mujoco\n",
    "# env = gym.make('FetchPickAndPlace-v1') # mujoco required!\n",
    "\n",
    "with tf.Session() as sess:\n",
    "    sess.run(tf.global_variables_initializer())\n",
    "    saver.restore(sess, 'checkpoints/model.ckpt')    \n",
    "    #saver.restore(sess, tf.train.latest_checkpoint('checkpoints'))\n",
    "    \n",
    "    # Episodes/epochs\n",
    "    for _ in range(11):\n",
    "        state = env.reset()\n",
    "        total_reward = 0\n",
    "\n",
    "        # Steps/batches\n",
    "        while True:\n",
    "            env.render()\n",
    "            action_logits = sess.run(model.actions_logits, feed_dict={model.states: state.reshape([1, -1])})\n",
    "            action = np.argmax(action_logits)\n",
    "            state, reward, done, _ = env.step(action)\n",
    "            total_reward += reward\n",
    "            if done:\n",
    "                print('total_reward: {}'.format(total_reward))\n",
    "                break\n",
    "                \n",
    "env.close()"
   ]
  },
  {
   "cell_type": "markdown",
   "metadata": {},
   "source": [
    "## Extending this\n",
    "\n",
    "So, Cart-Pole is a pretty simple game. However, the same model can be used to train an agent to play something much more complicated like Pong or Space Invaders. Instead of a state like we're using here though, you'd want to use convolutional layers to get the state from the screen images.\n",
    "\n",
    "![Deep Q-Learning Atari](assets/atari-network.png)\n",
    "\n",
    "I'll leave it as a challenge for you to use deep Q-learning to train an agent to play Atari games. Here's the original paper which will get you started: http://www.davidqiu.com:8888/research/nature14236.pdf."
   ]
  },
  {
   "cell_type": "code",
   "execution_count": null,
   "metadata": {},
   "outputs": [],
   "source": []
  }
 ],
 "metadata": {
  "kernelspec": {
   "display_name": "Python 3",
   "language": "python",
   "name": "python3"
  },
  "language_info": {
   "codemirror_mode": {
    "name": "ipython",
    "version": 3
   },
   "file_extension": ".py",
   "mimetype": "text/x-python",
   "name": "python",
   "nbconvert_exporter": "python",
   "pygments_lexer": "ipython3",
   "version": "3.6.6"
  }
 },
 "nbformat": 4,
 "nbformat_minor": 2
}
