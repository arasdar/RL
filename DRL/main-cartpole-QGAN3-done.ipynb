{
 "cells": [
  {
   "cell_type": "code",
   "execution_count": 1,
   "metadata": {},
   "outputs": [
    {
     "name": "stdout",
     "output_type": "stream",
     "text": [
      "TensorFlow Version: 1.7.1\n",
      "Default GPU Device: \n"
     ]
    }
   ],
   "source": [
    "import tensorflow as tf\n",
    "print('TensorFlow Version: {}'.format(tf.__version__))\n",
    "print('Default GPU Device: {}'.format(tf.test.gpu_device_name()))"
   ]
  },
  {
   "cell_type": "markdown",
   "metadata": {},
   "source": [
    "##### >**Note:** Make sure you have OpenAI Gym cloned. Then run this command `pip install -e gym/[all]`."
   ]
  },
  {
   "cell_type": "code",
   "execution_count": 2,
   "metadata": {},
   "outputs": [],
   "source": [
    "import numpy as np\n",
    "import gym\n",
    "env = gym.make('CartPole-v0')\n",
    "env = gym.make('CartPole-v1')"
   ]
  },
  {
   "cell_type": "code",
   "execution_count": 3,
   "metadata": {},
   "outputs": [],
   "source": [
    "def model_input(state_size):\n",
    "    #states = tf.placeholder(tf.float32, [None, *state_size], name='states')\n",
    "    states = tf.placeholder(tf.float32, [None, state_size], name='states')\n",
    "    actions = tf.placeholder(tf.int32, [None], name='actions')\n",
    "    next_states = tf.placeholder(tf.float32, [None, state_size], name='next_states')\n",
    "    rewards = tf.placeholder(tf.float32, [None], name='rewards')\n",
    "    dones = tf.placeholder(tf.float32, [None], name='dones')\n",
    "    rates = tf.placeholder(tf.float32, [None], name='rates') # success rate\n",
    "    return states, actions, next_states, rewards, dones, rates"
   ]
  },
  {
   "cell_type": "code",
   "execution_count": 4,
   "metadata": {},
   "outputs": [],
   "source": [
    "def Act(states, action_size, hidden_size, reuse=False, alpha=0.1, training=False):\n",
    "    with tf.variable_scope('Act', reuse=reuse):\n",
    "        # First fully connected layer\n",
    "        h1 = tf.layers.dense(inputs=states, units=hidden_size)\n",
    "        bn1 = tf.layers.batch_normalization(h1, training=training)        \n",
    "        nl1 = tf.maximum(alpha * bn1, bn1)\n",
    "        \n",
    "        # Second fully connected layer\n",
    "        h2 = tf.layers.dense(inputs=nl1, units=hidden_size)\n",
    "        bn2 = tf.layers.batch_normalization(h2, training=training)        \n",
    "        nl2 = tf.maximum(alpha * bn2, bn2)\n",
    "        \n",
    "        # Output layer\n",
    "        logits = tf.layers.dense(inputs=nl2, units=action_size)        \n",
    "        return logits"
   ]
  },
  {
   "cell_type": "code",
   "execution_count": 5,
   "metadata": {},
   "outputs": [],
   "source": [
    "def Env(states, actions, state_size, action_size, hidden_size, reuse=False, alpha=0.1, training=False):\n",
    "    with tf.variable_scope('Env', reuse=reuse):\n",
    "        # First fully connected layer\n",
    "        h1 = tf.layers.dense(inputs=states, units=action_size)\n",
    "        bn1 = tf.layers.batch_normalization(h1, training=training)        \n",
    "        nl1 = tf.maximum(alpha * bn1, bn1)\n",
    "        \n",
    "        # Second fully connected layer\n",
    "        nl1_fused = tf.concat(axis=1, values=[nl1, actions])\n",
    "        h2 = tf.layers.dense(inputs=nl1_fused, units=hidden_size)\n",
    "        bn2 = tf.layers.batch_normalization(h2, training=training)        \n",
    "        nl2 = tf.maximum(alpha * bn2, bn2)\n",
    "                \n",
    "        # Output layer\n",
    "        states_logits = tf.layers.dense(inputs=nl2, units=state_size, trainable=False)\n",
    "        Qlogits = tf.layers.dense(inputs=nl2, units=1, trainable=False)\n",
    "        return states_logits, Qlogits"
   ]
  },
  {
   "cell_type": "code",
   "execution_count": 7,
   "metadata": {},
   "outputs": [],
   "source": [
    "def model_loss(state_size, action_size, hidden_size, gamma,\n",
    "               states, actions, next_states, rewards, dones, rates):\n",
    "    ################################################ a = act(s)\n",
    "    actions_logits = Act(states=states, hidden_size=hidden_size, action_size=action_size)\n",
    "    actions_labels = tf.one_hot(indices=actions, depth=action_size, dtype=actions_logits.dtype)\n",
    "    aloss = tf.reduce_mean(tf.nn.softmax_cross_entropy_with_logits_v2(logits=actions_logits, \n",
    "                                                                      labels=actions_labels))\n",
    "    ################################################ s', r = env(s, a)\n",
    "    e_next_states_logits, eQs = Env(actions=actions_labels, states=states, hidden_size=hidden_size, \n",
    "                                    action_size=action_size, state_size=state_size)\n",
    "    a_next_states_logits, aQs = Env(actions=actions_logits, states=states, hidden_size=hidden_size, \n",
    "                                    action_size=action_size, state_size=state_size, reuse=True)\n",
    "    next_states_labels = tf.nn.sigmoid(next_states)\n",
    "    eloss = tf.reduce_mean(tf.nn.sigmoid_cross_entropy_with_logits(logits=e_next_states_logits, # GQN\n",
    "                                                                   labels=next_states_labels))\n",
    "#     eloss += -tf.reduce_mean(tf.nn.sigmoid_cross_entropy_with_logits(logits=a_next_states_logits, \n",
    "#                                                                      labels=next_states_labels)) # maximize loss\n",
    "    aloss2 = tf.reduce_mean(tf.nn.sigmoid_cross_entropy_with_logits(logits=a_next_states_logits, \n",
    "                                                                    labels=next_states_labels)) # minimize loss\n",
    "    eQs_logits = tf.reshape(eQs, shape=[-1])\n",
    "    aQs_logits = tf.reshape(aQs, shape=[-1])\n",
    "    #################################################### s'', Q' = ~env(s', ~a')\n",
    "    next_actions_logits = Act(states=next_states, hidden_size=hidden_size, action_size=action_size, reuse=True)\n",
    "    _, aQs2 = Env(actions=next_actions_logits, states=next_states, hidden_size=hidden_size, \n",
    "                  action_size=action_size, state_size=state_size, reuse=True)\n",
    "    aQs2_logits = tf.reshape(aQs2, shape=[-1]) * (1-dones)\n",
    "    eloss += tf.reduce_mean(tf.nn.sigmoid_cross_entropy_with_logits(logits=eQs_logits, # GAN\n",
    "                                                                    labels=rates)) # 0-1 real\n",
    "#     eloss += tf.reduce_mean(tf.nn.sigmoid_cross_entropy_with_logits(logits=(aQs_logits+aQs2_logits)/2, # GAN\n",
    "#                                                                     labels=tf.zeros_like(rates))) # min\n",
    "#     aloss2 += tf.reduce_mean(tf.nn.sigmoid_cross_entropy_with_logits(logits=(aQs_logits+aQs2_logits)/2, # GAN\n",
    "#                                                                      labels=tf.ones_like(rates))) # max\n",
    "    ###################################################### Q(s,a)= r + Q'(s',a')\n",
    "    targetQs = rewards + (gamma * aQs2_logits) # DQN/Qlearning\n",
    "    eloss += tf.reduce_mean(tf.square(eQs_logits - targetQs)) # real\n",
    "#     eloss += tf.reduce_mean(tf.square(aQs_logits - rewards)) # min\n",
    "#     aloss2 += tf.reduce_mean(tf.square(aQs_logits - targetQs)) # max\n",
    "    eloss += tf.reduce_mean((aQs_logits+aQs2_logits)/2) # min\n",
    "    aloss2 += -tf.reduce_mean((aQs_logits+aQs2_logits)/2) # max\n",
    "    return actions_logits, aloss, eloss, aloss2"
   ]
  },
  {
   "cell_type": "code",
   "execution_count": 8,
   "metadata": {},
   "outputs": [],
   "source": [
    "def model_opt(a_loss, e_loss, a_loss2, a_learning_rate, e_learning_rate):\n",
    "    # Get weights and bias to update\n",
    "    t_vars = tf.trainable_variables()\n",
    "    a_vars = [var for var in t_vars if var.name.startswith('Act')]\n",
    "    e_vars = [var for var in t_vars if var.name.startswith('Env')]\n",
    "\n",
    "    # Optimize\n",
    "    with tf.control_dependencies(tf.get_collection(tf.GraphKeys.UPDATE_OPS)): # Required for batchnorm (BN)\n",
    "        a_opt = tf.train.AdamOptimizer(a_learning_rate).minimize(a_loss, var_list=a_vars)\n",
    "        e_opt = tf.train.AdamOptimizer(e_learning_rate).minimize(e_loss, var_list=e_vars)\n",
    "        a_opt2 = tf.train.AdamOptimizer(a_learning_rate).minimize(a_loss2, var_list=a_vars)\n",
    "    return a_opt, e_opt, a_opt2"
   ]
  },
  {
   "cell_type": "code",
   "execution_count": 9,
   "metadata": {},
   "outputs": [],
   "source": [
    "class Model:\n",
    "    def __init__(self, state_size, action_size, hidden_size, a_learning_rate, e_learning_rate, gamma):\n",
    "\n",
    "        # Data of the Model: make the data available inside the framework\n",
    "        self.states, self.actions, self.next_states, self.rewards, self.dones, self.rates = model_input(\n",
    "            state_size=state_size)\n",
    "\n",
    "        # Create the Model: calculating the loss and forwad pass\n",
    "        self.actions_logits, self.a_loss, self.e_loss, self.a_loss2 = model_loss(\n",
    "            state_size=state_size, action_size=action_size, hidden_size=hidden_size, gamma=gamma, # model init\n",
    "            states=self.states, actions=self.actions, next_states=self.next_states, \n",
    "            rewards=self.rewards, dones=self.dones, rates=self.rates) # model input\n",
    "        \n",
    "        # Update the model: backward pass and backprop\n",
    "        self.a_opt, self.e_opt, self.a_opt2 = model_opt(a_loss=self.a_loss, \n",
    "                                                        e_loss=self.e_loss,\n",
    "                                                        a_loss2=self.a_loss2, \n",
    "                                                        a_learning_rate=a_learning_rate,\n",
    "                                                        e_learning_rate=e_learning_rate)"
   ]
  },
  {
   "cell_type": "code",
   "execution_count": 10,
   "metadata": {},
   "outputs": [],
   "source": [
    "from collections import deque\n",
    "class Memory():\n",
    "    def __init__(self, max_size = 1000):\n",
    "        self.buffer = deque(maxlen=max_size) # data batch\n",
    "#     def sample(self, batch_size):\n",
    "#         idx = np.random.choice(np.arange(len(self.buffer)), size=batch_size, replace=False)\n",
    "#         return [self.buffer[ii] for ii in idx]"
   ]
  },
  {
   "cell_type": "markdown",
   "metadata": {},
   "source": [
    "## Hyperparameters\n",
    "\n",
    "One of the more difficult aspects of reinforcememt learning are the large number of hyperparameters. Not only are we tuning the network, but we're tuning the simulation."
   ]
  },
  {
   "cell_type": "code",
   "execution_count": 11,
   "metadata": {},
   "outputs": [
    {
     "data": {
      "text/plain": [
       "(Box(4,), Discrete(2))"
      ]
     },
     "execution_count": 11,
     "metadata": {},
     "output_type": "execute_result"
    }
   ],
   "source": [
    "env.observation_space, env.action_space"
   ]
  },
  {
   "cell_type": "code",
   "execution_count": 12,
   "metadata": {},
   "outputs": [],
   "source": [
    "# Exploration parameters\n",
    "explore_start = 1.0            # exploration probability at start\n",
    "explore_stop = 0.01           # minimum exploration probability \n",
    "decay_rate = 0.0001            # exponential decay rate for exploration prob\n",
    "\n",
    "# Network parameters\n",
    "state_size = 4\n",
    "action_size = 2\n",
    "hidden_size = 4*2             # number of units in each Q-network hidden layer\n",
    "a_learning_rate = 1e-4         # Q-network learning rate\n",
    "e_learning_rate = 1e-4         # Q-network learning rate\n",
    "\n",
    "# Memory parameters\n",
    "memory_size = int(1e5)            # memory capacity\n",
    "batch_size = int(1e3)             # experience mini-batch size\n",
    "gamma=0.99"
   ]
  },
  {
   "cell_type": "code",
   "execution_count": 13,
   "metadata": {},
   "outputs": [],
   "source": [
    "# Reset/init the graph/session\n",
    "graph = tf.reset_default_graph()\n",
    "\n",
    "# Init the model\n",
    "model = Model(action_size=action_size, state_size=state_size, hidden_size=hidden_size, gamma=gamma,\n",
    "              a_learning_rate=a_learning_rate, e_learning_rate=e_learning_rate)\n",
    "\n",
    "# Init the memory\n",
    "memory = Memory(max_size=memory_size)"
   ]
  },
  {
   "cell_type": "code",
   "execution_count": 14,
   "metadata": {},
   "outputs": [],
   "source": [
    "state = env.reset()\n",
    "total_reward = 0\n",
    "num_step = 0\n",
    "for _ in range(memory_size):\n",
    "    action = env.action_space.sample()\n",
    "    next_state, reward, done, _ = env.step(action)\n",
    "    rate = -1\n",
    "    memory.buffer.append([state, action, next_state, reward, float(done), rate])\n",
    "    num_step += 1 # memory incremented\n",
    "    total_reward += reward\n",
    "    state = next_state\n",
    "    if done is True:\n",
    "        rate = total_reward/500\n",
    "        for idx in range(num_step): # episode length\n",
    "            if memory.buffer[-1-idx][-1] == -1:\n",
    "                memory.buffer[-1-idx][-1] = rate\n",
    "        state = env.reset()\n",
    "        total_reward = 0 # reset\n",
    "        num_step = 0 # reset"
   ]
  },
  {
   "cell_type": "markdown",
   "metadata": {},
   "source": [
    "## Training the model\n",
    "\n",
    "Below we'll train our agent. If you want to watch it train, uncomment the `env.render()` line. This is slow because it's rendering the frames slower than the network can train. But, it's cool to watch the agent get better at the game."
   ]
  },
  {
   "cell_type": "code",
   "execution_count": null,
   "metadata": {},
   "outputs": [
    {
     "name": "stdout",
     "output_type": "stream",
     "text": [
      "Episode:0 meanR:17.0000 R:17.0000 rate:0.0340 aloss:0.7147 eloss:2.3710 aloss2:0.7306 exploreP:0.9983\n",
      "Episode:1 meanR:41.5000 R:66.0000 rate:0.1320 aloss:0.7014 eloss:2.3767 aloss2:0.7368 exploreP:0.9918\n",
      "Episode:2 meanR:34.0000 R:19.0000 rate:0.0380 aloss:0.6858 eloss:2.3865 aloss2:0.7342 exploreP:0.9900\n",
      "Episode:3 meanR:35.0000 R:38.0000 rate:0.0760 aloss:0.6879 eloss:2.3741 aloss2:0.7372 exploreP:0.9862\n",
      "Episode:4 meanR:31.2000 R:16.0000 rate:0.0320 aloss:0.6882 eloss:2.3817 aloss2:0.7353 exploreP:0.9847\n",
      "Episode:5 meanR:31.6667 R:34.0000 rate:0.0680 aloss:0.6890 eloss:2.3750 aloss2:0.7443 exploreP:0.9814\n",
      "Episode:6 meanR:32.2857 R:36.0000 rate:0.0720 aloss:0.6872 eloss:2.3725 aloss2:0.7449 exploreP:0.9779\n",
      "Episode:7 meanR:31.7500 R:28.0000 rate:0.0560 aloss:0.6902 eloss:2.3530 aloss2:0.7502 exploreP:0.9752\n",
      "Episode:8 meanR:32.3333 R:37.0000 rate:0.0740 aloss:0.6873 eloss:2.3623 aloss2:0.7353 exploreP:0.9716\n",
      "Episode:9 meanR:31.5000 R:24.0000 rate:0.0480 aloss:0.6993 eloss:2.3349 aloss2:0.7431 exploreP:0.9693\n",
      "Episode:10 meanR:29.8182 R:13.0000 rate:0.0260 aloss:0.6932 eloss:2.3247 aloss2:0.7423 exploreP:0.9681\n",
      "Episode:11 meanR:29.0833 R:21.0000 rate:0.0420 aloss:0.6843 eloss:2.3355 aloss2:0.7412 exploreP:0.9660\n",
      "Episode:12 meanR:29.3077 R:32.0000 rate:0.0640 aloss:0.6920 eloss:2.3337 aloss2:0.7566 exploreP:0.9630\n",
      "Episode:13 meanR:29.7143 R:35.0000 rate:0.0700 aloss:0.6920 eloss:2.3122 aloss2:0.7526 exploreP:0.9597\n",
      "Episode:14 meanR:28.4667 R:11.0000 rate:0.0220 aloss:0.6944 eloss:2.3187 aloss2:0.7428 exploreP:0.9586\n",
      "Episode:15 meanR:28.0625 R:22.0000 rate:0.0440 aloss:0.6864 eloss:2.2986 aloss2:0.7552 exploreP:0.9565\n",
      "Episode:16 meanR:28.6471 R:38.0000 rate:0.0760 aloss:0.6884 eloss:2.2964 aloss2:0.7443 exploreP:0.9529\n",
      "Episode:17 meanR:27.7778 R:13.0000 rate:0.0260 aloss:0.6842 eloss:2.3106 aloss2:0.7554 exploreP:0.9517\n",
      "Episode:18 meanR:27.1579 R:16.0000 rate:0.0320 aloss:0.6919 eloss:2.3075 aloss2:0.7462 exploreP:0.9502\n",
      "Episode:19 meanR:28.4500 R:53.0000 rate:0.1060 aloss:0.6900 eloss:2.2679 aloss2:0.7579 exploreP:0.9452\n",
      "Episode:20 meanR:27.8571 R:16.0000 rate:0.0320 aloss:0.6926 eloss:2.2611 aloss2:0.7616 exploreP:0.9437\n",
      "Episode:21 meanR:27.2727 R:15.0000 rate:0.0300 aloss:0.7001 eloss:2.2533 aloss2:0.7629 exploreP:0.9423\n",
      "Episode:22 meanR:27.0870 R:23.0000 rate:0.0460 aloss:0.6893 eloss:2.2406 aloss2:0.7691 exploreP:0.9402\n",
      "Episode:23 meanR:27.4583 R:36.0000 rate:0.0720 aloss:0.6898 eloss:2.2421 aloss2:0.7662 exploreP:0.9369\n",
      "Episode:24 meanR:27.4000 R:26.0000 rate:0.0520 aloss:0.6899 eloss:2.2226 aloss2:0.7836 exploreP:0.9345\n",
      "Episode:25 meanR:27.0385 R:18.0000 rate:0.0360 aloss:0.6866 eloss:2.2307 aloss2:0.7675 exploreP:0.9328\n",
      "Episode:26 meanR:26.8889 R:23.0000 rate:0.0460 aloss:0.6888 eloss:2.2243 aloss2:0.7794 exploreP:0.9307\n",
      "Episode:27 meanR:26.2857 R:10.0000 rate:0.0200 aloss:0.6780 eloss:2.2195 aloss2:0.7822 exploreP:0.9298\n",
      "Episode:28 meanR:26.9310 R:45.0000 rate:0.0900 aloss:0.6795 eloss:2.2186 aloss2:0.7831 exploreP:0.9256\n",
      "Episode:29 meanR:26.5667 R:16.0000 rate:0.0320 aloss:0.6858 eloss:2.2172 aloss2:0.7779 exploreP:0.9242\n",
      "Episode:30 meanR:26.1613 R:14.0000 rate:0.0280 aloss:0.6812 eloss:2.2220 aloss2:0.7926 exploreP:0.9229\n",
      "Episode:31 meanR:25.7188 R:12.0000 rate:0.0240 aloss:0.6891 eloss:2.2231 aloss2:0.7859 exploreP:0.9218\n",
      "Episode:32 meanR:25.3636 R:14.0000 rate:0.0280 aloss:0.6761 eloss:2.2059 aloss2:0.7891 exploreP:0.9205\n",
      "Episode:33 meanR:25.0588 R:15.0000 rate:0.0300 aloss:0.6891 eloss:2.2016 aloss2:0.7905 exploreP:0.9191\n",
      "Episode:34 meanR:24.6571 R:11.0000 rate:0.0220 aloss:0.6892 eloss:2.2274 aloss2:0.7777 exploreP:0.9181\n",
      "Episode:35 meanR:24.7222 R:27.0000 rate:0.0540 aloss:0.6938 eloss:2.2017 aloss2:0.7925 exploreP:0.9157\n",
      "Episode:36 meanR:24.7027 R:24.0000 rate:0.0480 aloss:0.6952 eloss:2.1964 aloss2:0.7976 exploreP:0.9135\n",
      "Episode:37 meanR:24.3947 R:13.0000 rate:0.0260 aloss:0.6810 eloss:2.1992 aloss2:0.8064 exploreP:0.9124\n",
      "Episode:38 meanR:24.1538 R:15.0000 rate:0.0300 aloss:0.6879 eloss:2.1846 aloss2:0.7910 exploreP:0.9110\n",
      "Episode:39 meanR:24.1000 R:22.0000 rate:0.0440 aloss:0.6876 eloss:2.1910 aloss2:0.8082 exploreP:0.9090\n",
      "Episode:40 meanR:23.7805 R:11.0000 rate:0.0220 aloss:0.6832 eloss:2.1842 aloss2:0.7906 exploreP:0.9080\n",
      "Episode:41 meanR:23.8095 R:25.0000 rate:0.0500 aloss:0.6816 eloss:2.1818 aloss2:0.8072 exploreP:0.9058\n",
      "Episode:42 meanR:23.8372 R:25.0000 rate:0.0500 aloss:0.6973 eloss:2.1656 aloss2:0.8255 exploreP:0.9036\n",
      "Episode:43 meanR:23.5000 R:9.0000 rate:0.0180 aloss:0.6737 eloss:2.2205 aloss2:0.8155 exploreP:0.9027\n",
      "Episode:44 meanR:23.5111 R:24.0000 rate:0.0480 aloss:0.7106 eloss:2.1644 aloss2:0.8285 exploreP:0.9006\n",
      "Episode:45 meanR:23.4348 R:20.0000 rate:0.0400 aloss:0.6818 eloss:2.1600 aloss2:0.8307 exploreP:0.8988\n",
      "Episode:46 meanR:24.6383 R:80.0000 rate:0.1600 aloss:0.6905 eloss:2.1702 aloss2:0.8225 exploreP:0.8917\n",
      "Episode:47 meanR:24.3750 R:12.0000 rate:0.0240 aloss:0.6982 eloss:2.1513 aloss2:0.8392 exploreP:0.8907\n",
      "Episode:48 meanR:24.6939 R:40.0000 rate:0.0800 aloss:0.6864 eloss:2.1519 aloss2:0.8572 exploreP:0.8872\n",
      "Episode:49 meanR:24.5000 R:15.0000 rate:0.0300 aloss:0.7038 eloss:2.1449 aloss2:0.8640 exploreP:0.8859\n",
      "Episode:50 meanR:24.5098 R:25.0000 rate:0.0500 aloss:0.6894 eloss:2.1482 aloss2:0.8573 exploreP:0.8837\n",
      "Episode:51 meanR:24.3462 R:16.0000 rate:0.0320 aloss:0.6787 eloss:2.1328 aloss2:0.8811 exploreP:0.8823\n",
      "Episode:52 meanR:24.1509 R:14.0000 rate:0.0280 aloss:0.6786 eloss:2.1383 aloss2:0.8860 exploreP:0.8811\n",
      "Episode:53 meanR:24.2963 R:32.0000 rate:0.0640 aloss:0.6890 eloss:2.1459 aloss2:0.8618 exploreP:0.8783\n",
      "Episode:54 meanR:24.1818 R:18.0000 rate:0.0360 aloss:0.6704 eloss:2.1286 aloss2:0.8914 exploreP:0.8767\n",
      "Episode:55 meanR:24.0179 R:15.0000 rate:0.0300 aloss:0.6786 eloss:2.1311 aloss2:0.9183 exploreP:0.8754\n",
      "Episode:56 meanR:23.8070 R:12.0000 rate:0.0240 aloss:0.6857 eloss:2.1112 aloss2:0.8864 exploreP:0.8744\n",
      "Episode:57 meanR:23.6724 R:16.0000 rate:0.0320 aloss:0.6821 eloss:2.1121 aloss2:0.8906 exploreP:0.8730\n",
      "Episode:58 meanR:23.7797 R:30.0000 rate:0.0600 aloss:0.6737 eloss:2.1047 aloss2:0.9035 exploreP:0.8704\n",
      "Episode:59 meanR:23.5833 R:12.0000 rate:0.0240 aloss:0.6843 eloss:2.1319 aloss2:0.8944 exploreP:0.8694\n",
      "Episode:60 meanR:23.6393 R:27.0000 rate:0.0540 aloss:0.6797 eloss:2.1063 aloss2:0.9229 exploreP:0.8671\n",
      "Episode:61 meanR:23.5161 R:16.0000 rate:0.0320 aloss:0.6768 eloss:2.1010 aloss2:0.9161 exploreP:0.8657\n",
      "Episode:62 meanR:23.3651 R:14.0000 rate:0.0280 aloss:0.6949 eloss:2.0902 aloss2:0.9083 exploreP:0.8645\n",
      "Episode:63 meanR:23.2500 R:16.0000 rate:0.0320 aloss:0.6793 eloss:2.0862 aloss2:0.9226 exploreP:0.8631\n",
      "Episode:64 meanR:23.3692 R:31.0000 rate:0.0620 aloss:0.6823 eloss:2.0807 aloss2:0.9358 exploreP:0.8605\n",
      "Episode:65 meanR:23.5000 R:32.0000 rate:0.0640 aloss:0.6773 eloss:2.0854 aloss2:0.9275 exploreP:0.8578\n",
      "Episode:66 meanR:23.5224 R:25.0000 rate:0.0500 aloss:0.6780 eloss:2.0534 aloss2:0.9577 exploreP:0.8556\n",
      "Episode:67 meanR:23.6618 R:33.0000 rate:0.0660 aloss:0.7307 eloss:2.1200 aloss2:0.9422 exploreP:0.8529\n",
      "Episode:68 meanR:23.6087 R:20.0000 rate:0.0400 aloss:0.7068 eloss:2.0548 aloss2:0.9660 exploreP:0.8512\n",
      "Episode:69 meanR:23.7714 R:35.0000 rate:0.0700 aloss:0.6897 eloss:2.0326 aloss2:0.9979 exploreP:0.8482\n",
      "Episode:70 meanR:23.7042 R:19.0000 rate:0.0380 aloss:0.7032 eloss:2.0583 aloss2:1.0028 exploreP:0.8466\n",
      "Episode:71 meanR:23.6806 R:22.0000 rate:0.0440 aloss:0.6881 eloss:2.0255 aloss2:1.0041 exploreP:0.8448\n",
      "Episode:72 meanR:23.6438 R:21.0000 rate:0.0420 aloss:0.6776 eloss:2.0317 aloss2:1.0052 exploreP:0.8431\n",
      "Episode:73 meanR:24.3919 R:79.0000 rate:0.1580 aloss:0.6883 eloss:2.0226 aloss2:1.0254 exploreP:0.8365\n",
      "Episode:74 meanR:25.1600 R:82.0000 rate:0.1640 aloss:0.6800 eloss:1.9919 aloss2:1.0564 exploreP:0.8298\n",
      "Episode:75 meanR:25.1711 R:26.0000 rate:0.0520 aloss:0.6945 eloss:1.9693 aloss2:1.0853 exploreP:0.8276\n",
      "Episode:76 meanR:25.4286 R:45.0000 rate:0.0900 aloss:0.6923 eloss:1.9545 aloss2:1.0859 exploreP:0.8240\n",
      "Episode:77 meanR:25.3333 R:18.0000 rate:0.0360 aloss:0.6671 eloss:1.9577 aloss2:1.1048 exploreP:0.8225\n",
      "Episode:78 meanR:25.5063 R:39.0000 rate:0.0780 aloss:0.6774 eloss:1.9397 aloss2:1.1114 exploreP:0.8193\n",
      "Episode:79 meanR:25.8625 R:54.0000 rate:0.1080 aloss:0.6897 eloss:1.9361 aloss2:1.1294 exploreP:0.8150\n"
     ]
    },
    {
     "name": "stdout",
     "output_type": "stream",
     "text": [
      "Episode:80 meanR:25.7531 R:17.0000 rate:0.0340 aloss:0.6842 eloss:1.9064 aloss2:1.1570 exploreP:0.8136\n",
      "Episode:81 meanR:25.5976 R:13.0000 rate:0.0260 aloss:0.7574 eloss:1.9689 aloss2:1.1412 exploreP:0.8126\n",
      "Episode:82 meanR:25.4819 R:16.0000 rate:0.0320 aloss:0.6844 eloss:1.9056 aloss2:1.1475 exploreP:0.8113\n",
      "Episode:83 meanR:25.5476 R:31.0000 rate:0.0620 aloss:0.6894 eloss:1.9035 aloss2:1.1573 exploreP:0.8088\n",
      "Episode:84 meanR:26.0235 R:66.0000 rate:0.1320 aloss:0.6889 eloss:1.8766 aloss2:1.1963 exploreP:0.8035\n",
      "Episode:85 meanR:26.0000 R:24.0000 rate:0.0480 aloss:0.6897 eloss:1.8462 aloss2:1.2195 exploreP:0.8016\n",
      "Episode:86 meanR:26.1609 R:40.0000 rate:0.0800 aloss:0.6758 eloss:1.8786 aloss2:1.2242 exploreP:0.7985\n",
      "Episode:87 meanR:26.0795 R:19.0000 rate:0.0380 aloss:0.6773 eloss:1.8526 aloss2:1.2371 exploreP:0.7970\n",
      "Episode:88 meanR:26.2921 R:45.0000 rate:0.0900 aloss:0.6850 eloss:1.8220 aloss2:1.2387 exploreP:0.7934\n",
      "Episode:89 meanR:26.2667 R:24.0000 rate:0.0480 aloss:0.6749 eloss:1.8424 aloss2:1.2505 exploreP:0.7916\n",
      "Episode:90 meanR:26.2088 R:21.0000 rate:0.0420 aloss:0.6789 eloss:1.8229 aloss2:1.2583 exploreP:0.7899\n",
      "Episode:91 meanR:26.0109 R:8.0000 rate:0.0160 aloss:0.6924 eloss:1.8377 aloss2:1.2360 exploreP:0.7893\n",
      "Episode:92 meanR:26.0323 R:28.0000 rate:0.0560 aloss:0.7072 eloss:1.8366 aloss2:1.2648 exploreP:0.7871\n",
      "Episode:93 meanR:25.9255 R:16.0000 rate:0.0320 aloss:0.6589 eloss:1.7718 aloss2:1.2944 exploreP:0.7859\n",
      "Episode:94 meanR:25.7684 R:11.0000 rate:0.0220 aloss:0.6895 eloss:1.8592 aloss2:1.2551 exploreP:0.7850\n",
      "Episode:95 meanR:27.0312 R:147.0000 rate:0.2940 aloss:0.6898 eloss:1.7918 aloss2:1.3068 exploreP:0.7737\n",
      "Episode:96 meanR:27.4639 R:69.0000 rate:0.1380 aloss:0.6905 eloss:1.7536 aloss2:1.3464 exploreP:0.7685\n",
      "Episode:97 meanR:27.6122 R:42.0000 rate:0.0840 aloss:0.7079 eloss:1.7699 aloss2:1.3687 exploreP:0.7653\n",
      "Episode:98 meanR:27.5556 R:22.0000 rate:0.0440 aloss:0.6862 eloss:1.7278 aloss2:1.4002 exploreP:0.7636\n",
      "Episode:99 meanR:27.7800 R:50.0000 rate:0.1000 aloss:0.6764 eloss:1.6971 aloss2:1.3893 exploreP:0.7599\n",
      "Episode:100 meanR:27.9700 R:36.0000 rate:0.0720 aloss:0.6793 eloss:1.6992 aloss2:1.3891 exploreP:0.7572\n",
      "Episode:101 meanR:27.8500 R:54.0000 rate:0.1080 aloss:0.6869 eloss:1.6795 aloss2:1.4157 exploreP:0.7532\n",
      "Episode:102 meanR:27.8300 R:17.0000 rate:0.0340 aloss:0.6889 eloss:1.6800 aloss2:1.4202 exploreP:0.7519\n",
      "Episode:103 meanR:27.5700 R:12.0000 rate:0.0240 aloss:0.7126 eloss:1.6998 aloss2:1.4023 exploreP:0.7510\n",
      "Episode:104 meanR:27.6300 R:22.0000 rate:0.0440 aloss:0.7056 eloss:1.6966 aloss2:1.4447 exploreP:0.7494\n",
      "Episode:105 meanR:28.0600 R:77.0000 rate:0.1540 aloss:0.7066 eloss:1.6585 aloss2:1.4698 exploreP:0.7437\n",
      "Episode:106 meanR:28.0600 R:36.0000 rate:0.0720 aloss:0.6896 eloss:1.6249 aloss2:1.4978 exploreP:0.7411\n",
      "Episode:107 meanR:28.1900 R:41.0000 rate:0.0820 aloss:0.7021 eloss:1.6312 aloss2:1.5104 exploreP:0.7381\n",
      "Episode:108 meanR:28.1700 R:35.0000 rate:0.0700 aloss:0.6817 eloss:1.5967 aloss2:1.5241 exploreP:0.7355\n",
      "Episode:109 meanR:28.5100 R:58.0000 rate:0.1160 aloss:0.6996 eloss:1.5854 aloss2:1.5697 exploreP:0.7313\n",
      "Episode:110 meanR:28.5200 R:14.0000 rate:0.0280 aloss:0.6844 eloss:1.5555 aloss2:1.5688 exploreP:0.7303\n",
      "Episode:111 meanR:28.4500 R:14.0000 rate:0.0280 aloss:0.6936 eloss:1.5333 aloss2:1.5967 exploreP:0.7293\n",
      "Episode:112 meanR:28.4900 R:36.0000 rate:0.0720 aloss:0.6925 eloss:1.5511 aloss2:1.5964 exploreP:0.7267\n",
      "Episode:113 meanR:28.7700 R:63.0000 rate:0.1260 aloss:0.6956 eloss:1.5391 aloss2:1.6304 exploreP:0.7222\n",
      "Episode:114 meanR:29.1800 R:52.0000 rate:0.1040 aloss:0.6945 eloss:1.5217 aloss2:1.6357 exploreP:0.7185\n",
      "Episode:115 meanR:29.5700 R:61.0000 rate:0.1220 aloss:0.6995 eloss:1.4962 aloss2:1.7032 exploreP:0.7142\n",
      "Episode:116 meanR:29.3300 R:14.0000 rate:0.0280 aloss:0.6733 eloss:1.5171 aloss2:1.7288 exploreP:0.7132\n",
      "Episode:117 meanR:29.9400 R:74.0000 rate:0.1480 aloss:0.6900 eloss:1.4642 aloss2:1.7299 exploreP:0.7081\n",
      "Episode:118 meanR:29.9500 R:17.0000 rate:0.0340 aloss:0.6922 eloss:1.4354 aloss2:1.7674 exploreP:0.7069\n",
      "Episode:119 meanR:29.9300 R:51.0000 rate:0.1020 aloss:0.6983 eloss:1.4486 aloss2:1.7989 exploreP:0.7033\n",
      "Episode:120 meanR:30.0900 R:32.0000 rate:0.0640 aloss:0.6908 eloss:1.3820 aloss2:1.8328 exploreP:0.7011\n",
      "Episode:121 meanR:30.4900 R:55.0000 rate:0.1100 aloss:0.6882 eloss:1.4051 aloss2:1.8588 exploreP:0.6973\n",
      "Episode:122 meanR:30.7600 R:50.0000 rate:0.1000 aloss:0.7008 eloss:1.3779 aloss2:1.8756 exploreP:0.6939\n",
      "Episode:123 meanR:31.4300 R:103.0000 rate:0.2060 aloss:0.6866 eloss:1.3504 aloss2:1.9322 exploreP:0.6869\n",
      "Episode:124 meanR:31.7500 R:58.0000 rate:0.1160 aloss:0.6855 eloss:1.3208 aloss2:1.9848 exploreP:0.6830\n",
      "Episode:125 meanR:31.7700 R:20.0000 rate:0.0400 aloss:0.6806 eloss:1.2681 aloss2:2.0487 exploreP:0.6816\n",
      "Episode:126 meanR:32.8500 R:131.0000 rate:0.2620 aloss:0.7081 eloss:1.2844 aloss2:2.0562 exploreP:0.6729\n",
      "Episode:127 meanR:33.6200 R:87.0000 rate:0.1740 aloss:0.6941 eloss:1.1855 aloss2:2.1813 exploreP:0.6671\n",
      "Episode:128 meanR:33.7500 R:58.0000 rate:0.1160 aloss:0.6883 eloss:1.1936 aloss2:2.1831 exploreP:0.6633\n",
      "Episode:129 meanR:34.0300 R:44.0000 rate:0.0880 aloss:0.6802 eloss:1.1672 aloss2:2.2263 exploreP:0.6605\n",
      "Episode:130 meanR:34.4500 R:56.0000 rate:0.1120 aloss:0.6946 eloss:1.1148 aloss2:2.2828 exploreP:0.6568\n",
      "Episode:131 meanR:35.1800 R:85.0000 rate:0.1700 aloss:0.7023 eloss:1.0986 aloss2:2.3213 exploreP:0.6514\n",
      "Episode:132 meanR:35.4200 R:38.0000 rate:0.0760 aloss:0.7193 eloss:1.1206 aloss2:2.3415 exploreP:0.6489\n",
      "Episode:133 meanR:35.9600 R:69.0000 rate:0.1380 aloss:0.6913 eloss:1.0568 aloss2:2.4015 exploreP:0.6445\n",
      "Episode:134 meanR:36.3200 R:47.0000 rate:0.0940 aloss:0.6884 eloss:1.0255 aloss2:2.4442 exploreP:0.6416\n",
      "Episode:135 meanR:36.9200 R:87.0000 rate:0.1740 aloss:0.6843 eloss:1.0013 aloss2:2.5259 exploreP:0.6361\n",
      "Episode:136 meanR:37.2800 R:60.0000 rate:0.1200 aloss:0.6902 eloss:0.9673 aloss2:2.5798 exploreP:0.6324\n",
      "Episode:137 meanR:37.6100 R:46.0000 rate:0.0920 aloss:0.6817 eloss:0.9545 aloss2:2.5891 exploreP:0.6295\n",
      "Episode:138 meanR:37.7100 R:25.0000 rate:0.0500 aloss:0.7153 eloss:0.9582 aloss2:2.7152 exploreP:0.6279\n",
      "Episode:139 meanR:38.4900 R:100.0000 rate:0.2000 aloss:0.6890 eloss:0.9027 aloss2:2.7032 exploreP:0.6218\n",
      "Episode:140 meanR:38.5900 R:21.0000 rate:0.0420 aloss:0.6926 eloss:0.8942 aloss2:2.7166 exploreP:0.6205\n",
      "Episode:141 meanR:39.0500 R:71.0000 rate:0.1420 aloss:0.6985 eloss:0.8691 aloss2:2.7700 exploreP:0.6162\n",
      "Episode:142 meanR:38.9700 R:17.0000 rate:0.0340 aloss:0.6710 eloss:0.8208 aloss2:2.8455 exploreP:0.6152\n",
      "Episode:143 meanR:39.4900 R:61.0000 rate:0.1220 aloss:0.6899 eloss:0.8237 aloss2:2.8718 exploreP:0.6115\n",
      "Episode:144 meanR:39.4500 R:20.0000 rate:0.0400 aloss:0.6870 eloss:0.7611 aloss2:2.9734 exploreP:0.6103\n",
      "Episode:145 meanR:40.3300 R:108.0000 rate:0.2160 aloss:0.7076 eloss:0.8398 aloss2:2.9323 exploreP:0.6038\n",
      "Episode:146 meanR:39.7200 R:19.0000 rate:0.0380 aloss:0.7073 eloss:0.8062 aloss2:2.9551 exploreP:0.6027\n",
      "Episode:147 meanR:39.8500 R:25.0000 rate:0.0500 aloss:0.6798 eloss:0.7346 aloss2:3.0518 exploreP:0.6012\n",
      "Episode:148 meanR:39.7700 R:32.0000 rate:0.0640 aloss:0.6859 eloss:0.6935 aloss2:3.1138 exploreP:0.5993\n",
      "Episode:149 meanR:39.8400 R:22.0000 rate:0.0440 aloss:0.7007 eloss:0.7404 aloss2:3.0635 exploreP:0.5980\n",
      "Episode:150 meanR:39.9000 R:31.0000 rate:0.0620 aloss:0.6982 eloss:0.7332 aloss2:3.0979 exploreP:0.5962\n",
      "Episode:151 meanR:40.3500 R:61.0000 rate:0.1220 aloss:0.6982 eloss:0.6846 aloss2:3.1743 exploreP:0.5927\n",
      "Episode:152 meanR:40.7100 R:50.0000 rate:0.1000 aloss:0.7255 eloss:0.7401 aloss2:3.1901 exploreP:0.5898\n",
      "Episode:153 meanR:41.8700 R:148.0000 rate:0.2960 aloss:0.6977 eloss:0.6354 aloss2:3.3229 exploreP:0.5812\n",
      "Episode:154 meanR:43.1200 R:143.0000 rate:0.2860 aloss:0.6956 eloss:0.5538 aloss2:3.5061 exploreP:0.5731\n",
      "Episode:155 meanR:44.2600 R:129.0000 rate:0.2580 aloss:0.7024 eloss:0.5557 aloss2:3.5920 exploreP:0.5659\n",
      "Episode:156 meanR:45.3800 R:124.0000 rate:0.2480 aloss:0.6931 eloss:0.4493 aloss2:3.7443 exploreP:0.5591\n",
      "Episode:157 meanR:45.6300 R:41.0000 rate:0.0820 aloss:0.7000 eloss:0.4028 aloss2:3.8583 exploreP:0.5568\n",
      "Episode:158 meanR:45.7900 R:46.0000 rate:0.0920 aloss:0.7210 eloss:0.3707 aloss2:3.9495 exploreP:0.5543\n"
     ]
    },
    {
     "name": "stdout",
     "output_type": "stream",
     "text": [
      "Episode:159 meanR:46.8300 R:116.0000 rate:0.2320 aloss:0.7169 eloss:0.4363 aloss2:4.0177 exploreP:0.5480\n",
      "Episode:160 meanR:47.8900 R:133.0000 rate:0.2660 aloss:0.7117 eloss:0.3156 aloss2:4.1190 exploreP:0.5409\n",
      "Episode:161 meanR:48.0100 R:28.0000 rate:0.0560 aloss:0.7422 eloss:0.5028 aloss2:4.1975 exploreP:0.5394\n",
      "Episode:162 meanR:48.6500 R:78.0000 rate:0.1560 aloss:0.7184 eloss:0.2733 aloss2:4.2554 exploreP:0.5353\n",
      "Episode:163 meanR:50.1900 R:170.0000 rate:0.3400 aloss:0.7243 eloss:0.2393 aloss2:4.4357 exploreP:0.5265\n",
      "Episode:164 meanR:50.3900 R:51.0000 rate:0.1020 aloss:0.7260 eloss:0.2643 aloss2:4.5062 exploreP:0.5238\n",
      "Episode:165 meanR:50.4600 R:39.0000 rate:0.0780 aloss:0.7257 eloss:0.2210 aloss2:4.5946 exploreP:0.5218\n",
      "Episode:166 meanR:51.5900 R:138.0000 rate:0.2760 aloss:0.7042 eloss:0.0810 aloss2:4.6879 exploreP:0.5148\n",
      "Episode:167 meanR:52.2200 R:96.0000 rate:0.1920 aloss:0.7109 eloss:0.0366 aloss2:4.8400 exploreP:0.5100\n",
      "Episode:168 meanR:53.4300 R:141.0000 rate:0.2820 aloss:0.7139 eloss:-0.0274 aloss2:4.9436 exploreP:0.5030\n",
      "Episode:169 meanR:54.3200 R:124.0000 rate:0.2480 aloss:0.7218 eloss:-0.0627 aloss2:5.1412 exploreP:0.4969\n",
      "Episode:170 meanR:54.4200 R:29.0000 rate:0.0580 aloss:0.7112 eloss:-0.0051 aloss2:5.0974 exploreP:0.4955\n",
      "Episode:171 meanR:54.6100 R:41.0000 rate:0.0820 aloss:0.7048 eloss:-0.0857 aloss2:5.2457 exploreP:0.4935\n",
      "Episode:172 meanR:55.0500 R:65.0000 rate:0.1300 aloss:0.7197 eloss:-0.1040 aloss2:5.2795 exploreP:0.4904\n",
      "Episode:173 meanR:54.5100 R:25.0000 rate:0.0500 aloss:0.7785 eloss:0.1259 aloss2:5.3674 exploreP:0.4892\n",
      "Episode:174 meanR:53.8700 R:18.0000 rate:0.0360 aloss:0.7197 eloss:-0.1567 aloss2:5.3439 exploreP:0.4883\n",
      "Episode:175 meanR:53.8000 R:19.0000 rate:0.0380 aloss:0.7370 eloss:-0.1313 aloss2:5.3528 exploreP:0.4874\n",
      "Episode:176 meanR:54.6600 R:131.0000 rate:0.2620 aloss:0.7292 eloss:-0.0784 aloss2:5.4954 exploreP:0.4812\n",
      "Episode:177 meanR:54.9500 R:47.0000 rate:0.0940 aloss:0.7392 eloss:-0.1149 aloss2:5.6095 exploreP:0.4790\n",
      "Episode:178 meanR:54.8400 R:28.0000 rate:0.0560 aloss:0.7180 eloss:-0.3531 aloss2:5.6992 exploreP:0.4777\n",
      "Episode:179 meanR:56.2800 R:198.0000 rate:0.3960 aloss:0.7154 eloss:-0.3321 aloss2:5.7578 exploreP:0.4685\n",
      "Episode:180 meanR:56.8800 R:77.0000 rate:0.1540 aloss:0.7022 eloss:-0.3140 aloss2:5.8467 exploreP:0.4650\n",
      "Episode:181 meanR:58.5000 R:175.0000 rate:0.3500 aloss:0.7280 eloss:-0.3835 aloss2:6.0051 exploreP:0.4571\n",
      "Episode:182 meanR:61.6900 R:335.0000 rate:0.6700 aloss:0.7454 eloss:-0.4911 aloss2:6.3790 exploreP:0.4424\n",
      "Episode:183 meanR:64.6600 R:328.0000 rate:0.6560 aloss:0.7319 eloss:-0.7107 aloss2:6.8350 exploreP:0.4284\n",
      "Episode:184 meanR:65.4300 R:143.0000 rate:0.2860 aloss:0.7644 eloss:-0.6026 aloss2:7.1208 exploreP:0.4225\n",
      "Episode:185 meanR:67.1300 R:194.0000 rate:0.3880 aloss:0.7566 eloss:-0.8579 aloss2:7.3721 exploreP:0.4146\n",
      "Episode:186 meanR:66.9000 R:17.0000 rate:0.0340 aloss:0.7237 eloss:-0.9828 aloss2:7.5889 exploreP:0.4139\n",
      "Episode:187 meanR:68.2500 R:154.0000 rate:0.3080 aloss:0.7547 eloss:-0.9198 aloss2:7.6200 exploreP:0.4077\n",
      "Episode:188 meanR:69.1200 R:132.0000 rate:0.2640 aloss:0.7336 eloss:-1.0777 aloss2:7.8382 exploreP:0.4025\n",
      "Episode:189 meanR:71.1300 R:225.0000 rate:0.4500 aloss:0.7561 eloss:-1.1799 aloss2:8.1250 exploreP:0.3938\n",
      "Episode:190 meanR:72.0500 R:113.0000 rate:0.2260 aloss:0.7470 eloss:-1.2182 aloss2:8.3610 exploreP:0.3894\n",
      "Episode:191 meanR:75.8300 R:386.0000 rate:0.7720 aloss:0.7390 eloss:-1.1655 aloss2:8.7911 exploreP:0.3751\n",
      "Episode:192 meanR:78.0000 R:245.0000 rate:0.4900 aloss:0.7448 eloss:-1.4973 aloss2:9.2305 exploreP:0.3662\n",
      "Episode:193 meanR:78.0100 R:17.0000 rate:0.0340 aloss:0.7093 eloss:-1.4619 aloss2:9.5077 exploreP:0.3656\n",
      "Episode:194 meanR:80.6500 R:275.0000 rate:0.5500 aloss:0.7406 eloss:-1.6976 aloss2:9.7024 exploreP:0.3560\n",
      "Episode:195 meanR:81.5100 R:233.0000 rate:0.4660 aloss:0.7458 eloss:-1.3540 aloss2:10.1016 exploreP:0.3480\n",
      "Episode:196 meanR:83.1300 R:231.0000 rate:0.4620 aloss:0.7229 eloss:-1.6770 aloss2:10.2663 exploreP:0.3403\n",
      "Episode:197 meanR:84.0800 R:137.0000 rate:0.2740 aloss:0.7408 eloss:-1.6122 aloss2:10.6117 exploreP:0.3358\n",
      "Episode:198 meanR:86.8200 R:296.0000 rate:0.5920 aloss:0.7376 eloss:-1.8514 aloss2:10.7730 exploreP:0.3263\n",
      "Episode:199 meanR:88.6700 R:235.0000 rate:0.4700 aloss:0.7196 eloss:-1.9554 aloss2:11.1416 exploreP:0.3190\n",
      "Episode:200 meanR:88.5900 R:28.0000 rate:0.0560 aloss:0.7201 eloss:-1.2473 aloss2:11.3223 exploreP:0.3181\n",
      "Episode:201 meanR:89.9800 R:193.0000 rate:0.3860 aloss:0.7339 eloss:-2.0258 aloss2:11.3897 exploreP:0.3122\n",
      "Episode:202 meanR:91.5500 R:174.0000 rate:0.3480 aloss:0.7343 eloss:-1.8474 aloss2:11.6562 exploreP:0.3070\n",
      "Episode:203 meanR:93.7000 R:227.0000 rate:0.4540 aloss:0.7290 eloss:-2.0844 aloss2:11.8974 exploreP:0.3003\n",
      "Episode:204 meanR:96.4100 R:293.0000 rate:0.5860 aloss:0.7412 eloss:-2.0150 aloss2:12.1440 exploreP:0.2919\n",
      "Episode:205 meanR:97.8400 R:220.0000 rate:0.4400 aloss:0.7427 eloss:-1.4645 aloss2:12.3692 exploreP:0.2858\n",
      "Episode:206 meanR:99.4100 R:193.0000 rate:0.3860 aloss:0.7422 eloss:-2.0829 aloss2:12.3441 exploreP:0.2805\n",
      "Episode:207 meanR:101.1900 R:219.0000 rate:0.4380 aloss:0.7480 eloss:-2.3363 aloss2:12.5742 exploreP:0.2747\n",
      "Episode:208 meanR:102.4000 R:156.0000 rate:0.3120 aloss:0.7608 eloss:-2.2501 aloss2:12.7172 exploreP:0.2706\n",
      "Episode:209 meanR:103.7800 R:196.0000 rate:0.3920 aloss:0.7509 eloss:-2.1197 aloss2:12.9016 exploreP:0.2655\n",
      "Episode:210 meanR:106.3800 R:274.0000 rate:0.5480 aloss:0.7660 eloss:-1.7742 aloss2:12.8569 exploreP:0.2586\n",
      "Episode:211 meanR:108.6100 R:237.0000 rate:0.4740 aloss:0.7453 eloss:-2.4876 aloss2:13.0508 exploreP:0.2528\n",
      "Episode:212 meanR:110.0100 R:176.0000 rate:0.3520 aloss:0.7558 eloss:-2.6482 aloss2:13.2622 exploreP:0.2486\n",
      "Episode:213 meanR:111.8600 R:248.0000 rate:0.4960 aloss:0.7670 eloss:-2.3445 aloss2:13.4712 exploreP:0.2427\n",
      "Episode:214 meanR:113.5600 R:222.0000 rate:0.4440 aloss:0.7501 eloss:-2.3026 aloss2:13.5394 exploreP:0.2376\n",
      "Episode:215 meanR:115.0000 R:205.0000 rate:0.4100 aloss:0.7502 eloss:-2.3818 aloss2:13.6119 exploreP:0.2330\n",
      "Episode:216 meanR:116.6800 R:182.0000 rate:0.3640 aloss:0.7378 eloss:-2.5625 aloss2:13.7367 exploreP:0.2290\n",
      "Episode:217 meanR:117.8600 R:192.0000 rate:0.3840 aloss:0.7594 eloss:-2.6056 aloss2:13.8349 exploreP:0.2248\n",
      "Episode:218 meanR:119.5200 R:183.0000 rate:0.3660 aloss:0.7636 eloss:-2.9090 aloss2:14.0919 exploreP:0.2209\n",
      "Episode:219 meanR:121.5500 R:254.0000 rate:0.5080 aloss:0.7666 eloss:-2.5654 aloss2:14.3557 exploreP:0.2156\n",
      "Episode:220 meanR:122.7800 R:155.0000 rate:0.3100 aloss:0.7392 eloss:-2.3132 aloss2:14.3272 exploreP:0.2125\n",
      "Episode:221 meanR:123.7400 R:151.0000 rate:0.3020 aloss:0.7492 eloss:-2.7696 aloss2:14.4672 exploreP:0.2094\n",
      "Episode:222 meanR:124.9000 R:166.0000 rate:0.3320 aloss:0.7549 eloss:-2.9194 aloss2:14.5612 exploreP:0.2061\n",
      "Episode:223 meanR:125.9100 R:204.0000 rate:0.4080 aloss:0.7677 eloss:-2.9681 aloss2:14.6906 exploreP:0.2022\n",
      "Episode:224 meanR:127.8200 R:249.0000 rate:0.4980 aloss:0.7237 eloss:-2.9671 aloss2:14.9932 exploreP:0.1974\n",
      "Episode:225 meanR:129.5100 R:189.0000 rate:0.3780 aloss:0.7431 eloss:-2.9021 aloss2:15.0727 exploreP:0.1939\n",
      "Episode:226 meanR:129.6900 R:149.0000 rate:0.2980 aloss:0.7848 eloss:-2.6450 aloss2:15.0831 exploreP:0.1912\n",
      "Episode:227 meanR:128.9700 R:15.0000 rate:0.0300 aloss:0.7478 eloss:-2.8182 aloss2:15.0397 exploreP:0.1909\n",
      "Episode:228 meanR:130.1600 R:177.0000 rate:0.3540 aloss:0.7367 eloss:-2.4549 aloss2:15.2659 exploreP:0.1878\n",
      "Episode:229 meanR:132.2400 R:252.0000 rate:0.5040 aloss:0.7495 eloss:-3.2603 aloss2:15.2299 exploreP:0.1833\n",
      "Episode:230 meanR:134.0100 R:233.0000 rate:0.4660 aloss:0.7500 eloss:-3.0122 aloss2:15.4689 exploreP:0.1794\n",
      "Episode:231 meanR:134.6800 R:152.0000 rate:0.3040 aloss:0.7731 eloss:-2.6459 aloss2:15.4415 exploreP:0.1768\n",
      "Episode:232 meanR:135.7800 R:148.0000 rate:0.2960 aloss:0.7379 eloss:-2.9816 aloss2:15.6411 exploreP:0.1744\n",
      "Episode:233 meanR:136.9100 R:182.0000 rate:0.3640 aloss:0.7427 eloss:-3.0364 aloss2:15.7606 exploreP:0.1714\n",
      "Episode:234 meanR:138.4700 R:203.0000 rate:0.4060 aloss:0.8017 eloss:-3.1020 aloss2:15.6816 exploreP:0.1681\n",
      "Episode:235 meanR:140.0800 R:248.0000 rate:0.4960 aloss:0.7426 eloss:-2.7290 aloss2:15.7918 exploreP:0.1643\n"
     ]
    },
    {
     "name": "stdout",
     "output_type": "stream",
     "text": [
      "Episode:236 meanR:141.3700 R:189.0000 rate:0.3780 aloss:0.7657 eloss:-3.0641 aloss2:15.9197 exploreP:0.1614\n",
      "Episode:237 meanR:142.3200 R:141.0000 rate:0.2820 aloss:0.7698 eloss:-3.1455 aloss2:16.0069 exploreP:0.1593\n",
      "Episode:238 meanR:143.7300 R:166.0000 rate:0.3320 aloss:0.7798 eloss:-2.5700 aloss2:15.9076 exploreP:0.1568\n",
      "Episode:239 meanR:144.4600 R:173.0000 rate:0.3460 aloss:0.7974 eloss:-2.3606 aloss2:15.9538 exploreP:0.1543\n",
      "Episode:240 meanR:146.6100 R:236.0000 rate:0.4720 aloss:0.7585 eloss:-3.0874 aloss2:15.9542 exploreP:0.1509\n",
      "Episode:241 meanR:147.7700 R:187.0000 rate:0.3740 aloss:0.7859 eloss:-3.1636 aloss2:16.0089 exploreP:0.1483\n",
      "Episode:242 meanR:149.0500 R:145.0000 rate:0.2900 aloss:0.8125 eloss:-1.3101 aloss2:15.9628 exploreP:0.1463\n",
      "Episode:243 meanR:149.7700 R:133.0000 rate:0.2660 aloss:0.8347 eloss:-2.5614 aloss2:15.7836 exploreP:0.1445\n",
      "Episode:244 meanR:151.2400 R:167.0000 rate:0.3340 aloss:0.7871 eloss:-3.2749 aloss2:15.8953 exploreP:0.1423\n",
      "Episode:245 meanR:152.1500 R:199.0000 rate:0.3980 aloss:0.7696 eloss:-3.5268 aloss2:15.8550 exploreP:0.1397\n",
      "Episode:246 meanR:153.9600 R:200.0000 rate:0.4000 aloss:0.7977 eloss:-3.4813 aloss2:16.0182 exploreP:0.1371\n",
      "Episode:247 meanR:155.2200 R:151.0000 rate:0.3020 aloss:0.8053 eloss:-2.9939 aloss2:16.0868 exploreP:0.1352\n",
      "Episode:248 meanR:156.4100 R:151.0000 rate:0.3020 aloss:0.8232 eloss:-2.0707 aloss2:15.9660 exploreP:0.1333\n",
      "Episode:249 meanR:158.1800 R:199.0000 rate:0.3980 aloss:0.8117 eloss:-3.1798 aloss2:15.8902 exploreP:0.1309\n",
      "Episode:250 meanR:159.7500 R:188.0000 rate:0.3760 aloss:0.7994 eloss:-3.6002 aloss2:15.9941 exploreP:0.1287\n",
      "Episode:251 meanR:160.9200 R:178.0000 rate:0.3560 aloss:0.7915 eloss:-3.3906 aloss2:16.0828 exploreP:0.1266\n",
      "Episode:252 meanR:161.7800 R:136.0000 rate:0.2720 aloss:0.8102 eloss:-3.3108 aloss2:16.1380 exploreP:0.1250\n",
      "Episode:253 meanR:161.8500 R:155.0000 rate:0.3100 aloss:0.8091 eloss:-3.6902 aloss2:16.1692 exploreP:0.1232\n",
      "Episode:254 meanR:162.1400 R:172.0000 rate:0.3440 aloss:0.7809 eloss:-3.2072 aloss2:16.2383 exploreP:0.1213\n",
      "Episode:255 meanR:162.5700 R:172.0000 rate:0.3440 aloss:0.7866 eloss:-3.2312 aloss2:16.3541 exploreP:0.1194\n",
      "Episode:256 meanR:162.9500 R:162.0000 rate:0.3240 aloss:0.8173 eloss:-3.9337 aloss2:16.2113 exploreP:0.1176\n",
      "Episode:257 meanR:163.8500 R:131.0000 rate:0.2620 aloss:0.8755 eloss:-1.6103 aloss2:16.2020 exploreP:0.1162\n",
      "Episode:258 meanR:165.2100 R:182.0000 rate:0.3640 aloss:0.7613 eloss:-3.1837 aloss2:16.1811 exploreP:0.1143\n",
      "Episode:259 meanR:165.9600 R:191.0000 rate:0.3820 aloss:0.8245 eloss:-3.3562 aloss2:16.0979 exploreP:0.1123\n",
      "Episode:260 meanR:166.0900 R:146.0000 rate:0.2920 aloss:0.7752 eloss:-3.4512 aloss2:16.1716 exploreP:0.1109\n",
      "Episode:261 meanR:167.1200 R:131.0000 rate:0.2620 aloss:0.7845 eloss:-3.2237 aloss2:16.2446 exploreP:0.1095\n",
      "Episode:262 meanR:167.8600 R:152.0000 rate:0.3040 aloss:0.7865 eloss:-3.6689 aloss2:16.2603 exploreP:0.1080\n",
      "Episode:263 meanR:167.8600 R:170.0000 rate:0.3400 aloss:0.7893 eloss:-4.1922 aloss2:16.3044 exploreP:0.1064\n",
      "Episode:264 meanR:168.7400 R:139.0000 rate:0.2780 aloss:0.7854 eloss:-3.3109 aloss2:16.4340 exploreP:0.1051\n",
      "Episode:265 meanR:169.7000 R:135.0000 rate:0.2700 aloss:0.7834 eloss:-3.5939 aloss2:16.4874 exploreP:0.1038\n",
      "Episode:266 meanR:169.9600 R:164.0000 rate:0.3280 aloss:0.7969 eloss:-3.4096 aloss2:16.3373 exploreP:0.1023\n",
      "Episode:267 meanR:171.1200 R:212.0000 rate:0.4240 aloss:0.7638 eloss:-3.8025 aloss2:16.5003 exploreP:0.1003\n",
      "Episode:268 meanR:171.2100 R:150.0000 rate:0.3000 aloss:0.7935 eloss:-4.0979 aloss2:16.5083 exploreP:0.0990\n",
      "Episode:269 meanR:171.4000 R:143.0000 rate:0.2860 aloss:0.8546 eloss:-3.4260 aloss2:16.6410 exploreP:0.0977\n",
      "Episode:270 meanR:172.6600 R:155.0000 rate:0.3100 aloss:0.8068 eloss:-4.1075 aloss2:16.6382 exploreP:0.0964\n",
      "Episode:271 meanR:173.7700 R:152.0000 rate:0.3040 aloss:0.7580 eloss:-3.9500 aloss2:16.8057 exploreP:0.0951\n",
      "Episode:272 meanR:174.5500 R:143.0000 rate:0.2860 aloss:0.7636 eloss:-3.9547 aloss2:16.6882 exploreP:0.0939\n",
      "Episode:273 meanR:175.4600 R:116.0000 rate:0.2320 aloss:0.8760 eloss:-2.2462 aloss2:16.7217 exploreP:0.0929\n",
      "Episode:274 meanR:176.4500 R:117.0000 rate:0.2340 aloss:0.7644 eloss:-4.1220 aloss2:16.7437 exploreP:0.0919\n",
      "Episode:275 meanR:177.6800 R:142.0000 rate:0.2840 aloss:0.7650 eloss:-2.8812 aloss2:16.6289 exploreP:0.0908\n",
      "Episode:276 meanR:178.2500 R:188.0000 rate:0.3760 aloss:0.7520 eloss:-4.4211 aloss2:16.7014 exploreP:0.0893\n",
      "Episode:277 meanR:179.2700 R:149.0000 rate:0.2980 aloss:0.8021 eloss:-3.4445 aloss2:16.7794 exploreP:0.0881\n",
      "Episode:278 meanR:180.0900 R:110.0000 rate:0.2200 aloss:0.8188 eloss:-2.5614 aloss2:16.7739 exploreP:0.0872\n",
      "Episode:279 meanR:179.2200 R:111.0000 rate:0.2220 aloss:0.7810 eloss:-4.4673 aloss2:16.5868 exploreP:0.0864\n",
      "Episode:280 meanR:179.8900 R:144.0000 rate:0.2880 aloss:0.7661 eloss:-3.7916 aloss2:16.7835 exploreP:0.0853\n",
      "Episode:281 meanR:179.8300 R:169.0000 rate:0.3380 aloss:0.7909 eloss:-2.7841 aloss2:16.4553 exploreP:0.0840\n",
      "Episode:282 meanR:178.0400 R:156.0000 rate:0.3120 aloss:0.7892 eloss:-4.1589 aloss2:16.6177 exploreP:0.0829\n",
      "Episode:283 meanR:175.9200 R:116.0000 rate:0.2320 aloss:0.8403 eloss:-3.8949 aloss2:16.7354 exploreP:0.0820\n",
      "Episode:284 meanR:175.9300 R:144.0000 rate:0.2880 aloss:0.8054 eloss:-4.0351 aloss2:16.7579 exploreP:0.0810\n",
      "Episode:285 meanR:175.5700 R:158.0000 rate:0.3160 aloss:0.7783 eloss:-3.7415 aloss2:16.8631 exploreP:0.0799\n",
      "Episode:286 meanR:176.9800 R:158.0000 rate:0.3160 aloss:0.7676 eloss:-4.4888 aloss2:16.7791 exploreP:0.0788\n",
      "Episode:287 meanR:176.6900 R:125.0000 rate:0.2500 aloss:0.8081 eloss:-3.6520 aloss2:16.7250 exploreP:0.0780\n",
      "Episode:288 meanR:176.4800 R:111.0000 rate:0.2220 aloss:0.7785 eloss:-4.3247 aloss2:16.8610 exploreP:0.0772\n",
      "Episode:289 meanR:175.4800 R:125.0000 rate:0.2500 aloss:0.8207 eloss:-3.2031 aloss2:16.9077 exploreP:0.0764\n",
      "Episode:290 meanR:175.4800 R:113.0000 rate:0.2260 aloss:0.7623 eloss:-4.2916 aloss2:16.9696 exploreP:0.0756\n",
      "Episode:291 meanR:173.1100 R:149.0000 rate:0.2980 aloss:0.8171 eloss:-3.8311 aloss2:16.9421 exploreP:0.0747\n",
      "Episode:292 meanR:172.3800 R:172.0000 rate:0.3440 aloss:0.7642 eloss:-3.7018 aloss2:16.8848 exploreP:0.0735\n",
      "Episode:293 meanR:173.5100 R:130.0000 rate:0.2600 aloss:0.7815 eloss:-2.9293 aloss2:16.8966 exploreP:0.0727\n",
      "Episode:294 meanR:172.0700 R:131.0000 rate:0.2620 aloss:0.8069 eloss:-2.5324 aloss2:16.8559 exploreP:0.0719\n",
      "Episode:295 meanR:170.8900 R:115.0000 rate:0.2300 aloss:0.7375 eloss:-3.5937 aloss2:16.7719 exploreP:0.0712\n",
      "Episode:296 meanR:170.0200 R:144.0000 rate:0.2880 aloss:0.7491 eloss:-4.0683 aloss2:16.9302 exploreP:0.0703\n",
      "Episode:297 meanR:170.7800 R:213.0000 rate:0.4260 aloss:0.7888 eloss:-4.1670 aloss2:16.8586 exploreP:0.0691\n",
      "Episode:298 meanR:169.3300 R:151.0000 rate:0.3020 aloss:0.7673 eloss:-4.5108 aloss2:16.8585 exploreP:0.0682\n",
      "Episode:299 meanR:168.2500 R:127.0000 rate:0.2540 aloss:0.7810 eloss:-4.0541 aloss2:16.9144 exploreP:0.0674\n",
      "Episode:300 meanR:169.5200 R:155.0000 rate:0.3100 aloss:0.7777 eloss:-4.2792 aloss2:16.8899 exploreP:0.0666\n",
      "Episode:301 meanR:169.6700 R:208.0000 rate:0.4160 aloss:0.7616 eloss:-4.1855 aloss2:17.0349 exploreP:0.0654\n",
      "Episode:302 meanR:169.4200 R:149.0000 rate:0.2980 aloss:0.7560 eloss:-3.8923 aloss2:17.0926 exploreP:0.0646\n",
      "Episode:303 meanR:168.3300 R:118.0000 rate:0.2360 aloss:0.8005 eloss:-4.8497 aloss2:17.0376 exploreP:0.0639\n",
      "Episode:304 meanR:167.3000 R:190.0000 rate:0.3800 aloss:0.7597 eloss:-4.4632 aloss2:17.2636 exploreP:0.0629\n",
      "Episode:305 meanR:166.6800 R:158.0000 rate:0.3160 aloss:0.7618 eloss:-4.2080 aloss2:17.3471 exploreP:0.0621\n",
      "Episode:306 meanR:166.3500 R:160.0000 rate:0.3200 aloss:0.7322 eloss:-4.7162 aloss2:17.3218 exploreP:0.0613\n",
      "Episode:307 meanR:165.7800 R:162.0000 rate:0.3240 aloss:0.7260 eloss:-4.1884 aloss2:17.4287 exploreP:0.0604\n",
      "Episode:308 meanR:165.5300 R:131.0000 rate:0.2620 aloss:0.7654 eloss:-2.9487 aloss2:17.3422 exploreP:0.0598\n",
      "Episode:309 meanR:165.5100 R:194.0000 rate:0.3880 aloss:0.7550 eloss:-4.5275 aloss2:17.4210 exploreP:0.0588\n",
      "Episode:310 meanR:164.1000 R:133.0000 rate:0.2660 aloss:0.7246 eloss:-3.6827 aloss2:17.3725 exploreP:0.0582\n",
      "Episode:311 meanR:163.0600 R:133.0000 rate:0.2660 aloss:0.7622 eloss:-4.7665 aloss2:17.4714 exploreP:0.0575\n"
     ]
    },
    {
     "name": "stdout",
     "output_type": "stream",
     "text": [
      "Episode:312 meanR:162.8900 R:159.0000 rate:0.3180 aloss:0.7377 eloss:-4.5315 aloss2:17.5514 exploreP:0.0568\n",
      "Episode:313 meanR:162.1200 R:171.0000 rate:0.3420 aloss:0.7371 eloss:-4.1561 aloss2:17.5439 exploreP:0.0560\n",
      "Episode:314 meanR:161.8400 R:194.0000 rate:0.3880 aloss:0.7246 eloss:-4.5906 aloss2:17.5583 exploreP:0.0551\n",
      "Episode:315 meanR:161.6500 R:186.0000 rate:0.3720 aloss:0.7304 eloss:-4.7075 aloss2:17.7081 exploreP:0.0543\n",
      "Episode:316 meanR:162.3300 R:250.0000 rate:0.5000 aloss:0.7327 eloss:-3.9555 aloss2:17.7510 exploreP:0.0532\n",
      "Episode:317 meanR:162.0200 R:161.0000 rate:0.3220 aloss:0.7442 eloss:-4.6894 aloss2:17.8050 exploreP:0.0525\n",
      "Episode:318 meanR:161.8400 R:165.0000 rate:0.3300 aloss:0.7154 eloss:-3.2537 aloss2:17.7951 exploreP:0.0518\n",
      "Episode:319 meanR:160.9800 R:168.0000 rate:0.3360 aloss:0.7103 eloss:-3.2145 aloss2:17.8102 exploreP:0.0511\n",
      "Episode:320 meanR:161.6500 R:222.0000 rate:0.4440 aloss:0.7197 eloss:-4.9454 aloss2:17.7233 exploreP:0.0502\n",
      "Episode:321 meanR:161.6400 R:150.0000 rate:0.3000 aloss:0.7698 eloss:-4.2770 aloss2:17.7697 exploreP:0.0496\n",
      "Episode:322 meanR:161.7600 R:178.0000 rate:0.3560 aloss:0.7287 eloss:-4.5664 aloss2:17.8088 exploreP:0.0489\n",
      "Episode:323 meanR:161.5200 R:180.0000 rate:0.3600 aloss:0.7265 eloss:-4.3350 aloss2:17.8538 exploreP:0.0482\n",
      "Episode:324 meanR:162.1500 R:312.0000 rate:0.6240 aloss:0.7108 eloss:-4.6746 aloss2:17.9794 exploreP:0.0470\n",
      "Episode:325 meanR:161.6500 R:139.0000 rate:0.2780 aloss:0.6976 eloss:-3.9644 aloss2:18.0419 exploreP:0.0465\n",
      "Episode:326 meanR:162.2700 R:211.0000 rate:0.4220 aloss:0.7144 eloss:-4.8790 aloss2:18.1245 exploreP:0.0458\n",
      "Episode:327 meanR:164.0600 R:194.0000 rate:0.3880 aloss:0.7211 eloss:-3.9165 aloss2:18.1952 exploreP:0.0451\n",
      "Episode:328 meanR:163.9700 R:168.0000 rate:0.3360 aloss:0.7069 eloss:-5.1506 aloss2:18.1513 exploreP:0.0445\n",
      "Episode:329 meanR:164.0000 R:255.0000 rate:0.5100 aloss:0.7217 eloss:-5.1766 aloss2:18.2569 exploreP:0.0436\n",
      "Episode:330 meanR:163.8900 R:222.0000 rate:0.4440 aloss:0.7179 eloss:-5.2913 aloss2:18.4863 exploreP:0.0429\n",
      "Episode:331 meanR:165.5500 R:318.0000 rate:0.6360 aloss:0.7378 eloss:-4.1785 aloss2:18.6764 exploreP:0.0419\n",
      "Episode:332 meanR:166.1500 R:208.0000 rate:0.4160 aloss:0.7104 eloss:-4.3873 aloss2:18.6851 exploreP:0.0412\n",
      "Episode:333 meanR:167.2200 R:289.0000 rate:0.5780 aloss:0.7032 eloss:-4.4093 aloss2:18.6771 exploreP:0.0403\n",
      "Episode:334 meanR:167.1200 R:193.0000 rate:0.3860 aloss:0.7028 eloss:-4.7201 aloss2:18.7686 exploreP:0.0397\n",
      "Episode:335 meanR:168.9100 R:427.0000 rate:0.8540 aloss:0.7115 eloss:-4.4082 aloss2:18.8242 exploreP:0.0385\n",
      "Episode:336 meanR:170.0200 R:300.0000 rate:0.6000 aloss:0.7098 eloss:-4.7651 aloss2:18.7859 exploreP:0.0376\n",
      "Episode:337 meanR:170.8200 R:221.0000 rate:0.4420 aloss:0.6883 eloss:-4.3690 aloss2:19.0010 exploreP:0.0370\n",
      "Episode:338 meanR:172.2300 R:307.0000 rate:0.6140 aloss:0.7199 eloss:-5.0031 aloss2:19.0159 exploreP:0.0362\n",
      "Episode:339 meanR:173.1600 R:266.0000 rate:0.5320 aloss:0.7071 eloss:-3.8331 aloss2:19.0278 exploreP:0.0355\n",
      "Episode:340 meanR:173.5200 R:272.0000 rate:0.5440 aloss:0.7066 eloss:-5.1115 aloss2:19.0945 exploreP:0.0349\n",
      "Episode:341 meanR:176.6500 R:500.0000 rate:1.0000 aloss:0.7112 eloss:-4.9587 aloss2:19.3044 exploreP:0.0336\n",
      "Episode:342 meanR:177.9400 R:274.0000 rate:0.5480 aloss:0.7080 eloss:-4.4662 aloss2:19.4037 exploreP:0.0330\n",
      "Episode:343 meanR:180.3800 R:377.0000 rate:0.7540 aloss:0.7141 eloss:-4.8294 aloss2:19.4601 exploreP:0.0322\n",
      "Episode:344 meanR:183.7100 R:500.0000 rate:1.0000 aloss:0.7218 eloss:-4.8925 aloss2:19.6847 exploreP:0.0311\n",
      "Episode:345 meanR:185.8400 R:412.0000 rate:0.8240 aloss:0.6951 eloss:-3.9164 aloss2:19.6858 exploreP:0.0302\n",
      "Episode:346 meanR:187.5800 R:374.0000 rate:0.7480 aloss:0.7464 eloss:-4.3726 aloss2:19.6653 exploreP:0.0295\n",
      "Episode:347 meanR:187.4900 R:142.0000 rate:0.2840 aloss:0.7429 eloss:-3.6391 aloss2:19.5972 exploreP:0.0292\n",
      "Episode:348 meanR:190.9800 R:500.0000 rate:1.0000 aloss:0.6907 eloss:-4.5267 aloss2:19.7330 exploreP:0.0283\n",
      "Episode:349 meanR:193.9900 R:500.0000 rate:1.0000 aloss:0.6956 eloss:-4.6992 aloss2:19.7211 exploreP:0.0274\n",
      "Episode:350 meanR:196.1700 R:406.0000 rate:0.8120 aloss:0.6847 eloss:-4.0958 aloss2:19.8779 exploreP:0.0267\n",
      "Episode:351 meanR:197.9100 R:352.0000 rate:0.7040 aloss:0.6963 eloss:-5.0452 aloss2:19.8899 exploreP:0.0261\n",
      "Episode:352 meanR:200.0100 R:346.0000 rate:0.6920 aloss:0.7003 eloss:-4.3833 aloss2:20.0306 exploreP:0.0256\n",
      "Episode:353 meanR:203.4600 R:500.0000 rate:1.0000 aloss:0.6865 eloss:-4.3006 aloss2:20.0152 exploreP:0.0248\n",
      "Episode:354 meanR:206.7400 R:500.0000 rate:1.0000 aloss:0.7093 eloss:-4.6079 aloss2:20.0534 exploreP:0.0241\n",
      "Episode:355 meanR:209.1300 R:411.0000 rate:0.8220 aloss:0.6745 eloss:-4.7104 aloss2:20.1911 exploreP:0.0235\n",
      "Episode:356 meanR:212.5100 R:500.0000 rate:1.0000 aloss:0.7012 eloss:-4.6864 aloss2:20.3101 exploreP:0.0229\n",
      "Episode:357 meanR:216.2000 R:500.0000 rate:1.0000 aloss:0.6864 eloss:-4.8415 aloss2:20.4579 exploreP:0.0222\n",
      "Episode:358 meanR:218.4500 R:407.0000 rate:0.8140 aloss:0.6951 eloss:-4.5210 aloss2:20.5494 exploreP:0.0217\n",
      "Episode:359 meanR:221.5400 R:500.0000 rate:1.0000 aloss:0.6903 eloss:-3.7603 aloss2:20.6153 exploreP:0.0212\n",
      "Episode:360 meanR:225.0800 R:500.0000 rate:1.0000 aloss:0.6986 eloss:-3.4518 aloss2:20.3838 exploreP:0.0206\n",
      "Episode:361 meanR:228.7700 R:500.0000 rate:1.0000 aloss:0.6972 eloss:-4.5780 aloss2:20.4078 exploreP:0.0201\n",
      "Episode:362 meanR:231.0700 R:382.0000 rate:0.7640 aloss:0.7048 eloss:-4.3775 aloss2:20.4685 exploreP:0.0197\n",
      "Episode:363 meanR:232.9600 R:359.0000 rate:0.7180 aloss:0.7083 eloss:-3.1793 aloss2:20.3520 exploreP:0.0194\n",
      "Episode:364 meanR:234.2000 R:263.0000 rate:0.5260 aloss:0.6837 eloss:-2.6976 aloss2:20.2937 exploreP:0.0191\n",
      "Episode:365 meanR:235.4000 R:255.0000 rate:0.5100 aloss:0.6777 eloss:-4.0211 aloss2:20.1595 exploreP:0.0189\n",
      "Episode:366 meanR:237.7900 R:403.0000 rate:0.8060 aloss:0.6810 eloss:-4.0993 aloss2:20.2329 exploreP:0.0186\n",
      "Episode:367 meanR:238.6500 R:298.0000 rate:0.5960 aloss:0.6677 eloss:-4.3250 aloss2:20.2219 exploreP:0.0183\n",
      "Episode:368 meanR:240.3700 R:322.0000 rate:0.6440 aloss:0.6630 eloss:-4.6663 aloss2:20.3255 exploreP:0.0180\n",
      "Episode:369 meanR:241.9500 R:301.0000 rate:0.6020 aloss:0.6779 eloss:-3.8780 aloss2:20.4069 exploreP:0.0178\n",
      "Episode:370 meanR:242.8300 R:243.0000 rate:0.4860 aloss:0.6694 eloss:-3.6966 aloss2:20.3479 exploreP:0.0176\n",
      "Episode:371 meanR:244.0600 R:275.0000 rate:0.5500 aloss:0.6527 eloss:-4.1709 aloss2:20.3355 exploreP:0.0174\n",
      "Episode:372 meanR:246.0600 R:343.0000 rate:0.6860 aloss:0.6637 eloss:-4.3505 aloss2:20.4124 exploreP:0.0172\n",
      "Episode:373 meanR:247.4500 R:255.0000 rate:0.5100 aloss:0.6618 eloss:-3.8720 aloss2:20.4654 exploreP:0.0170\n",
      "Episode:374 meanR:248.9700 R:269.0000 rate:0.5380 aloss:0.6409 eloss:-4.8449 aloss2:20.5193 exploreP:0.0168\n",
      "Episode:375 meanR:250.5000 R:295.0000 rate:0.5900 aloss:0.6443 eloss:-4.4365 aloss2:20.6206 exploreP:0.0166\n",
      "Episode:376 meanR:251.7000 R:308.0000 rate:0.6160 aloss:0.6526 eloss:-4.2332 aloss2:20.6639 exploreP:0.0164\n",
      "Episode:377 meanR:253.8100 R:360.0000 rate:0.7200 aloss:0.6500 eloss:-2.9599 aloss2:20.6333 exploreP:0.0162\n",
      "Episode:378 meanR:255.6100 R:290.0000 rate:0.5800 aloss:0.6336 eloss:-3.2314 aloss2:20.4340 exploreP:0.0160\n",
      "Episode:379 meanR:257.8400 R:334.0000 rate:0.6680 aloss:0.6504 eloss:-3.6047 aloss2:20.4317 exploreP:0.0158\n",
      "Episode:380 meanR:259.4100 R:301.0000 rate:0.6020 aloss:0.6362 eloss:-4.2533 aloss2:20.4285 exploreP:0.0156\n",
      "Episode:381 meanR:260.5500 R:283.0000 rate:0.5660 aloss:0.6371 eloss:-3.9336 aloss2:20.5115 exploreP:0.0155\n",
      "Episode:382 meanR:262.1000 R:311.0000 rate:0.6220 aloss:0.6495 eloss:-3.5673 aloss2:20.4822 exploreP:0.0153\n",
      "Episode:383 meanR:264.4700 R:353.0000 rate:0.7060 aloss:0.6399 eloss:-4.2228 aloss2:20.4559 exploreP:0.0151\n",
      "Episode:384 meanR:265.5400 R:251.0000 rate:0.5020 aloss:0.6342 eloss:-3.8218 aloss2:20.5028 exploreP:0.0150\n",
      "Episode:385 meanR:267.3200 R:336.0000 rate:0.6720 aloss:0.6539 eloss:-3.9005 aloss2:20.4704 exploreP:0.0148\n",
      "Episode:386 meanR:269.0400 R:330.0000 rate:0.6600 aloss:0.6526 eloss:-3.4409 aloss2:20.4859 exploreP:0.0147\n",
      "Episode:387 meanR:270.6100 R:282.0000 rate:0.5640 aloss:0.6382 eloss:-3.0493 aloss2:20.3432 exploreP:0.0145\n"
     ]
    },
    {
     "name": "stdout",
     "output_type": "stream",
     "text": [
      "Episode:388 meanR:273.7700 R:427.0000 rate:0.8540 aloss:0.6318 eloss:-3.6483 aloss2:20.3670 exploreP:0.0143\n",
      "Episode:389 meanR:275.5300 R:301.0000 rate:0.6020 aloss:0.6324 eloss:-1.8226 aloss2:20.2134 exploreP:0.0142\n",
      "Episode:390 meanR:277.8500 R:345.0000 rate:0.6900 aloss:0.6318 eloss:-3.6629 aloss2:20.0950 exploreP:0.0141\n",
      "Episode:391 meanR:279.7700 R:341.0000 rate:0.6820 aloss:0.6361 eloss:-4.3971 aloss2:20.2301 exploreP:0.0139\n"
     ]
    }
   ],
   "source": [
    "# Save/load the model and save for plotting\n",
    "saver = tf.train.Saver()\n",
    "episode_rewards_list, rewards_list = [], []\n",
    "aloss_list, eloss_list, aloss2_list = [], [], []\n",
    "\n",
    "# TF session for training\n",
    "with tf.Session(graph=graph) as sess:\n",
    "    sess.run(tf.global_variables_initializer())\n",
    "    #saver.restore(sess, 'checkpoints/model.ckpt')    \n",
    "    #saver.restore(sess, tf.train.latest_checkpoint('checkpoints'))\n",
    "    total_step = 0 # Explore or exploit parameter\n",
    "    episode_reward = deque(maxlen=100) # 100 episodes for running average/running mean/window\n",
    "\n",
    "    # Training episodes/epochs\n",
    "    for ep in range(11111):\n",
    "        aloss_batch, eloss_batch, aloss2_batch = [], [], []\n",
    "        total_reward = 0\n",
    "        state = env.reset()\n",
    "        num_step = 0\n",
    "        rate = -1\n",
    "\n",
    "        # Training steps/batches\n",
    "        while True:\n",
    "            # Explore (env) or Exploit (model)\n",
    "            total_step += 1\n",
    "            explore_p = explore_stop + (explore_start - explore_stop) * np.exp(-decay_rate * total_step) \n",
    "            if explore_p > np.random.rand():\n",
    "                action = env.action_space.sample()\n",
    "            else:\n",
    "                action_logits = sess.run(model.actions_logits, feed_dict={model.states: state.reshape([1, -1])})\n",
    "                action = np.argmax(action_logits)\n",
    "            next_state, reward, done, _ = env.step(action)\n",
    "            memory.buffer.append([state, action, next_state, reward, float(done), rate])\n",
    "            num_step += 1 # momory added\n",
    "            total_reward += reward\n",
    "            state = next_state\n",
    "            \n",
    "            # Training with the maxrated minibatch\n",
    "            batch = memory.buffer\n",
    "            #for idx in range(memory_size// batch_size):\n",
    "            while True:\n",
    "                idx = np.random.choice(np.arange(memory_size// batch_size))\n",
    "                states = np.array([each[0] for each in batch])[idx*batch_size:(idx+1)*batch_size]\n",
    "                actions = np.array([each[1] for each in batch])[idx*batch_size:(idx+1)*batch_size]\n",
    "                next_states = np.array([each[2] for each in batch])[idx*batch_size:(idx+1)*batch_size]\n",
    "                rewards = np.array([each[3] for each in batch])[idx*batch_size:(idx+1)*batch_size]\n",
    "                dones = np.array([each[4] for each in batch])[idx*batch_size:(idx+1)*batch_size]\n",
    "                rates = np.array([each[5] for each in batch])[idx*batch_size:(idx+1)*batch_size]\n",
    "                states = states[rates >= np.max(rates)]\n",
    "                actions = actions[rates >= np.max(rates)]\n",
    "                next_states = next_states[rates >= np.max(rates)]\n",
    "                rewards = rewards[rates >= np.max(rates)]\n",
    "                dones = dones[rates >= np.max(rates)]\n",
    "                rates = rates[rates >= np.max(rates)]\n",
    "                if np.count_nonzero(dones) > 0 and len(dones) > 1 and np.max(rates) > 0:\n",
    "                    break\n",
    "            aloss, _ = sess.run([model.a_loss, model.a_opt],\n",
    "                                  feed_dict = {model.states: states, \n",
    "                                               model.actions: actions,\n",
    "                                               model.next_states: next_states,\n",
    "                                               model.rewards: rewards,\n",
    "                                               model.dones: dones,\n",
    "                                               model.rates: rates})\n",
    "            eloss, _ = sess.run([model.e_loss, model.e_opt],\n",
    "                                  feed_dict = {model.states: states, \n",
    "                                               model.actions: actions,\n",
    "                                               model.next_states: next_states,\n",
    "                                               model.rewards: rewards,\n",
    "                                               model.dones: dones,\n",
    "                                               model.rates: rates})\n",
    "            aloss2, _= sess.run([model.a_loss2, model.a_opt2], \n",
    "                                 feed_dict = {model.states: states, \n",
    "                                              model.actions: actions,\n",
    "                                              model.next_states: next_states,\n",
    "                                              model.rewards: rewards,\n",
    "                                              model.dones: dones,\n",
    "                                              model.rates: rates})\n",
    "            # print(len(dones), np.count_nonzero(dones), np.max(rates))\n",
    "            aloss_batch.append(aloss)\n",
    "            eloss_batch.append(eloss)\n",
    "            aloss2_batch.append(aloss2)\n",
    "            if done is True:\n",
    "                break\n",
    "                \n",
    "        # Rating the latest played episode\n",
    "        rate = total_reward/500 # update rate at the end/ when episode is done\n",
    "        for idx in range(num_step): # episode length\n",
    "            if memory.buffer[-1-idx][-1] == -1: # double-check the landmark/marked indexes\n",
    "                memory.buffer[-1-idx][-1] = rate # rate the trajectory/data\n",
    "\n",
    "        # Print out\n",
    "        episode_reward.append(total_reward)\n",
    "        print('Episode:{}'.format(ep),\n",
    "              'meanR:{:.4f}'.format(np.mean(episode_reward)),\n",
    "              'R:{:.4f}'.format(total_reward),\n",
    "              'rate:{:.4f}'.format(rate),\n",
    "              'aloss:{:.4f}'.format(np.mean(aloss_batch)),\n",
    "              'eloss:{:.4f}'.format(np.mean(eloss_batch)),\n",
    "              'aloss2:{:.4f}'.format(np.mean(aloss2_batch)),\n",
    "              'exploreP:{:.4f}'.format(explore_p))\n",
    "\n",
    "        # Ploting out\n",
    "        episode_rewards_list.append([ep, np.mean(episode_reward)])\n",
    "        rewards_list.append([ep, total_reward])\n",
    "        aloss_list.append([ep, np.mean(aloss_batch)])\n",
    "        eloss_list.append([ep, np.mean(eloss_batch)])\n",
    "        aloss2_list.append([ep, np.mean(aloss2_batch)])\n",
    "        \n",
    "        # Break episode/epoch loop\n",
    "        ## Option 1: Solve the First Version\n",
    "        #The task is episodic, and in order to solve the environment, \n",
    "        #your agent must get an average score of +30 over 100 consecutive episodes.\n",
    "        if np.mean(episode_reward) >= 500:\n",
    "            break\n",
    "            \n",
    "    # At the end of all training episodes/epochs\n",
    "    saver.save(sess, 'checkpoints/model.ckpt')"
   ]
  },
  {
   "cell_type": "markdown",
   "metadata": {},
   "source": [
    "# Visualizing training\n",
    "\n",
    "Below I'll plot the total rewards for each episode. I'm plotting the rolling average too, in blue."
   ]
  },
  {
   "cell_type": "code",
   "execution_count": null,
   "metadata": {},
   "outputs": [],
   "source": [
    "import matplotlib.pyplot as plt\n",
    "%matplotlib inline\n",
    "\n",
    "def running_mean(x, N):\n",
    "    cumsum = np.cumsum(np.insert(x, 0, 0)) \n",
    "    return (cumsum[N:] - cumsum[:-N]) / N "
   ]
  },
  {
   "cell_type": "code",
   "execution_count": null,
   "metadata": {},
   "outputs": [],
   "source": [
    "eps, arr = np.array(episode_rewards_list).T\n",
    "smoothed_arr = running_mean(arr, 10)\n",
    "plt.plot(eps[-len(smoothed_arr):], smoothed_arr)\n",
    "plt.plot(eps, arr, color='grey', alpha=0.3)\n",
    "plt.xlabel('Episode')\n",
    "plt.ylabel('Total rewards')"
   ]
  },
  {
   "cell_type": "code",
   "execution_count": 18,
   "metadata": {},
   "outputs": [
    {
     "data": {
      "text/plain": [
       "Text(0, 0.5, 'Total rewards')"
      ]
     },
     "execution_count": 18,
     "metadata": {},
     "output_type": "execute_result"
    },
    {
     "data": {
      "image/png": "[encoded data removed]",
      "text/plain": [
       "<Figure size 432x288 with 1 Axes>"
      ]
     },
     "metadata": {
      "needs_background": "light"
     },
     "output_type": "display_data"
    }
   ],
   "source": [
    "eps, arr = np.array(episode_rewards_list).T\n",
    "smoothed_arr = running_mean(arr, 10)\n",
    "plt.plot(eps[-len(smoothed_arr):], smoothed_arr)\n",
    "plt.plot(eps, arr, color='grey', alpha=0.3)\n",
    "plt.xlabel('Episode')\n",
    "plt.ylabel('Total rewards')"
   ]
  },
  {
   "cell_type": "code",
   "execution_count": 19,
   "metadata": {},
   "outputs": [
    {
     "data": {
      "text/plain": [
       "Text(0, 0.5, 'Total rewards')"
      ]
     },
     "execution_count": 19,
     "metadata": {},
     "output_type": "execute_result"
    },
    {
     "data": {
      "image/png": "[encoded data removed]",
      "text/plain": [
       "<Figure size 432x288 with 1 Axes>"
      ]
     },
     "metadata": {
      "needs_background": "light"
     },
     "output_type": "display_data"
    }
   ],
   "source": [
    "eps, arr = np.array(episode_rewards_list).T\n",
    "smoothed_arr = running_mean(arr, 10)\n",
    "plt.plot(eps[-len(smoothed_arr):], smoothed_arr)\n",
    "plt.plot(eps, arr, color='grey', alpha=0.3)\n",
    "plt.xlabel('Episode')\n",
    "plt.ylabel('Total rewards')"
   ]
  },
  {
   "cell_type": "code",
   "execution_count": 20,
   "metadata": {},
   "outputs": [
    {
     "data": {
      "text/plain": [
       "Text(0, 0.5, 'Total rewards')"
      ]
     },
     "execution_count": 20,
     "metadata": {},
     "output_type": "execute_result"
    },
    {
     "data": {
      "image/png": "[encoded data removed]",
      "text/plain": [
       "<Figure size 432x288 with 1 Axes>"
      ]
     },
     "metadata": {
      "needs_background": "light"
     },
     "output_type": "display_data"
    }
   ],
   "source": [
    "eps, arr = np.array(rewards_list).T\n",
    "smoothed_arr = running_mean(arr, 10)\n",
    "plt.plot(eps[-len(smoothed_arr):], smoothed_arr)\n",
    "plt.plot(eps, arr, color='grey', alpha=0.3)\n",
    "plt.xlabel('Episode')\n",
    "plt.ylabel('Total rewards')"
   ]
  },
  {
   "cell_type": "code",
   "execution_count": 18,
   "metadata": {},
   "outputs": [
    {
     "data": {
      "text/plain": [
       "Text(0, 0.5, 'Total rewards')"
      ]
     },
     "execution_count": 18,
     "metadata": {},
     "output_type": "execute_result"
    },
    {
     "data": {
      "image/png": "[encoded data removed]",
      "text/plain": [
       "<Figure size 432x288 with 1 Axes>"
      ]
     },
     "metadata": {
      "needs_background": "light"
     },
     "output_type": "display_data"
    }
   ],
   "source": [
    "eps, arr = np.array(rewards_list).T\n",
    "smoothed_arr = running_mean(arr, 10)\n",
    "plt.plot(eps[-len(smoothed_arr):], smoothed_arr)\n",
    "plt.plot(eps, arr, color='grey', alpha=0.3)\n",
    "plt.xlabel('Episode')\n",
    "plt.ylabel('Total rewards')"
   ]
  },
  {
   "cell_type": "code",
   "execution_count": 19,
   "metadata": {},
   "outputs": [
    {
     "data": {
      "text/plain": [
       "Text(0, 0.5, 'Act losses')"
      ]
     },
     "execution_count": 19,
     "metadata": {},
     "output_type": "execute_result"
    },
    {
     "data": {
      "image/png": "[encoded data removed]",
      "text/plain": [
       "<Figure size 432x288 with 1 Axes>"
      ]
     },
     "metadata": {
      "needs_background": "light"
     },
     "output_type": "display_data"
    }
   ],
   "source": [
    "eps, arr = np.array(aloss_list).T\n",
    "smoothed_arr = running_mean(arr, 10)\n",
    "plt.plot(eps[-len(smoothed_arr):], smoothed_arr)\n",
    "plt.plot(eps, arr, color='grey', alpha=0.3)\n",
    "plt.xlabel('Episode')\n",
    "plt.ylabel('Act losses')"
   ]
  },
  {
   "cell_type": "code",
   "execution_count": 20,
   "metadata": {},
   "outputs": [
    {
     "data": {
      "text/plain": [
       "Text(0, 0.5, 'Env losses')"
      ]
     },
     "execution_count": 20,
     "metadata": {},
     "output_type": "execute_result"
    },
    {
     "data": {
      "image/png": "[encoded data removed]",
      "text/plain": [
       "<Figure size 432x288 with 1 Axes>"
      ]
     },
     "metadata": {
      "needs_background": "light"
     },
     "output_type": "display_data"
    }
   ],
   "source": [
    "eps, arr = np.array(eloss_list).T\n",
    "smoothed_arr = running_mean(arr, 10)\n",
    "plt.plot(eps[-len(smoothed_arr):], smoothed_arr)\n",
    "plt.plot(eps, arr, color='grey', alpha=0.3)\n",
    "plt.xlabel('Episode')\n",
    "plt.ylabel('Env losses')"
   ]
  },
  {
   "cell_type": "code",
   "execution_count": 21,
   "metadata": {},
   "outputs": [
    {
     "data": {
      "text/plain": [
       "Text(0, 0.5, 'Act losses 2')"
      ]
     },
     "execution_count": 21,
     "metadata": {},
     "output_type": "execute_result"
    },
    {
     "data": {
      "image/png": "[encoded data removed]",
      "text/plain": [
       "<Figure size 432x288 with 1 Axes>"
      ]
     },
     "metadata": {
      "needs_background": "light"
     },
     "output_type": "display_data"
    }
   ],
   "source": [
    "eps, arr = np.array(aloss2_list).T\n",
    "smoothed_arr = running_mean(arr, 10)\n",
    "plt.plot(eps[-len(smoothed_arr):], smoothed_arr)\n",
    "plt.plot(eps, arr, color='grey', alpha=0.3)\n",
    "plt.xlabel('Episode')\n",
    "plt.ylabel('Act losses 2')"
   ]
  },
  {
   "cell_type": "markdown",
   "metadata": {},
   "source": [
    "## Testing\n",
    "\n",
    "Let's checkout how our trained agent plays the game."
   ]
  },
  {
   "cell_type": "code",
   "execution_count": 24,
   "metadata": {},
   "outputs": [
    {
     "name": "stdout",
     "output_type": "stream",
     "text": [
      "INFO:tensorflow:Restoring parameters from checkpoints/model.ckpt\n",
      "total_reward: 500.0\n",
      "total_reward: 500.0\n",
      "total_reward: 500.0\n",
      "total_reward: 500.0\n",
      "total_reward: 500.0\n",
      "total_reward: 500.0\n",
      "total_reward: 500.0\n",
      "total_reward: 500.0\n",
      "total_reward: 500.0\n",
      "total_reward: 500.0\n"
     ]
    }
   ],
   "source": [
    "import gym\n",
    "env = gym.make('CartPole-v0')\n",
    "env = gym.make('CartPole-v1')\n",
    "\n",
    "with tf.Session() as sess:\n",
    "    sess.run(tf.global_variables_initializer())\n",
    "    saver.restore(sess, 'checkpoints/model.ckpt')    \n",
    "    #saver.restore(sess, tf.train.latest_checkpoint('checkpoints'))\n",
    "    \n",
    "    # Episodes/epochs\n",
    "    for _ in range(10):\n",
    "        state = env.reset()\n",
    "        total_reward = 0\n",
    "\n",
    "        # Steps/batches\n",
    "        while True:\n",
    "            env.render()\n",
    "            action_logits = sess.run(model.actions_logits, feed_dict={model.states: state.reshape([1, -1])})\n",
    "            action = np.argmax(action_logits)\n",
    "            state, reward, done, _ = env.step(action)\n",
    "            total_reward += reward\n",
    "            if done:\n",
    "                print('total_reward: {}'.format(total_reward))\n",
    "                break\n",
    "                \n",
    "env.close()"
   ]
  },
  {
   "cell_type": "code",
   "execution_count": null,
   "metadata": {},
   "outputs": [],
   "source": []
  }
 ],
 "metadata": {
  "kernelspec": {
   "display_name": "Python 3",
   "language": "python",
   "name": "python3"
  },
  "language_info": {
   "codemirror_mode": {
    "name": "ipython",
    "version": 3
   },
   "file_extension": ".py",
   "mimetype": "text/x-python",
   "name": "python",
   "nbconvert_exporter": "python",
   "pygments_lexer": "ipython3",
   "version": "3.6.6"
  }
 },
 "nbformat": 4,
 "nbformat_minor": 2
}
