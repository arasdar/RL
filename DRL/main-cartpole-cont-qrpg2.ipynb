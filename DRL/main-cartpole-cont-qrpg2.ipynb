{
 "cells": [
  {
   "cell_type": "code",
   "execution_count": 1,
   "metadata": {},
   "outputs": [
    {
     "name": "stdout",
     "output_type": "stream",
     "text": [
      "TensorFlow Version: 1.7.1\n",
      "Default GPU Device: \n"
     ]
    }
   ],
   "source": [
    "# In this one we should define and detect GPUs for tensorflow\n",
    "# GPUs or CPU\n",
    "import tensorflow as tf\n",
    "\n",
    "# Check TensorFlow Version\n",
    "print('TensorFlow Version: {}'.format(tf.__version__))\n",
    "\n",
    "# Check for a GPU\n",
    "print('Default GPU Device: {}'.format(tf.test.gpu_device_name()))"
   ]
  },
  {
   "cell_type": "markdown",
   "metadata": {},
   "source": [
    "##### >**Note:** Make sure you have OpenAI Gym cloned. Then run this command `pip install -e gym/[all]`."
   ]
  },
  {
   "cell_type": "code",
   "execution_count": 2,
   "metadata": {},
   "outputs": [],
   "source": [
    "import numpy as np\n",
    "import gym\n",
    "env = gym.make('CartPole-v0')\n",
    "env = gym.make('CartPole-v1')"
   ]
  },
  {
   "cell_type": "code",
   "execution_count": 3,
   "metadata": {},
   "outputs": [],
   "source": [
    "def model_input(state_size):\n",
    "    #states = tf.placeholder(tf.float32, [None, *state_size], name='states')\n",
    "    states = tf.placeholder(tf.float32, [None, state_size], name='states')\n",
    "    actions = tf.placeholder(tf.int32, [None], name='actions')\n",
    "    targetQs = tf.placeholder(tf.float32, [None], name='targetQs')\n",
    "    rates = tf.placeholder(tf.float32, [None], name='rates')\n",
    "    return states, actions, targetQs, rates"
   ]
  },
  {
   "cell_type": "code",
   "execution_count": 4,
   "metadata": {},
   "outputs": [],
   "source": [
    "# Generator/Controller: Generating/prediting the actions\n",
    "def generator(states, action_size, hidden_size, reuse=False, alpha=0.1, training=False):\n",
    "    with tf.variable_scope('generator', reuse=reuse):\n",
    "        # First fully connected layer\n",
    "        h1 = tf.layers.dense(inputs=states, units=hidden_size)\n",
    "        bn1 = tf.layers.batch_normalization(h1, training=training)        \n",
    "        nl1 = tf.maximum(alpha * bn1, bn1)\n",
    "        \n",
    "        # Second fully connected layer\n",
    "        h2 = tf.layers.dense(inputs=nl1, units=hidden_size)\n",
    "        bn2 = tf.layers.batch_normalization(h2, training=training)        \n",
    "        nl2 = tf.maximum(alpha * bn2, bn2)\n",
    "        \n",
    "        # Output layer\n",
    "        logits = tf.layers.dense(inputs=nl2, units=action_size)        \n",
    "        #predictions = tf.nn.softmax(logits)\n",
    "\n",
    "        # return actions logits\n",
    "        return logits"
   ]
  },
  {
   "cell_type": "code",
   "execution_count": 5,
   "metadata": {},
   "outputs": [],
   "source": [
    "def discriminator(states, actions, hidden_size, reuse=False, alpha=0.1, training=False):\n",
    "    with tf.variable_scope('discriminator', reuse=reuse):\n",
    "        # First fully connected layer\n",
    "        h1 = tf.layers.dense(inputs=states, units=action_size)\n",
    "        bn1 = tf.layers.batch_normalization(h1, training=training)        \n",
    "        nl1 = tf.maximum(alpha * bn1, bn1)\n",
    "        \n",
    "        # Second fully connected layer\n",
    "        nl1_fused = tf.concat(axis=1, values=[nl1, actions])\n",
    "        h2 = tf.layers.dense(inputs=nl1_fused, units=hidden_size)\n",
    "        bn2 = tf.layers.batch_normalization(h2, training=training)        \n",
    "        nl2 = tf.maximum(alpha * bn2, bn2)\n",
    "                \n",
    "        # Output layer\n",
    "        logits = tf.layers.dense(inputs=nl2, units=1)        \n",
    "        #predictions = tf.nn.softmax(logits)\n",
    "\n",
    "        # return rewards logits\n",
    "        return logits"
   ]
  },
  {
   "cell_type": "code",
   "execution_count": 6,
   "metadata": {},
   "outputs": [],
   "source": [
    "def model_loss(action_size, hidden_size, states, actions, targetQs, rates):\n",
    "    actions_logits = generator(states=states, hidden_size=hidden_size, action_size=action_size)\n",
    "    actions_labels = tf.one_hot(indices=actions, depth=action_size, dtype=actions_logits.dtype)\n",
    "    neg_log_prob = tf.nn.softmax_cross_entropy_with_logits_v2(logits=actions_logits, \n",
    "                                                              labels=actions_labels)\n",
    "    targetQs = tf.reshape(targetQs, shape=[-1, 1])\n",
    "    gloss = tf.reduce_mean(neg_log_prob * targetQs) # DPG\n",
    "    gQs = discriminator(actions=actions_logits, hidden_size=hidden_size, states=states)\n",
    "    dQs = discriminator(actions=actions_labels, hidden_size=hidden_size, states=states, reuse=True)\n",
    "    rates = tf.reshape(rates, shape=[-1, 1])\n",
    "    dloss = tf.reduce_mean(tf.nn.sigmoid_cross_entropy_with_logits(logits=dQs, # GAN\n",
    "                                                                   labels=rates)) # 0-1\n",
    "    # dloss += tf.reduce_mean(tf.nn.sigmoid_cross_entropy_with_logits(logits=dQs, # GAN\n",
    "    #                                                                 labels=tf.nn.sigmoid(targetQs))) # 0-1\n",
    "    glossQ = tf.reduce_mean(tf.square(gQs - targetQs)) # DQN\n",
    "    dlossQ = tf.reduce_mean(tf.square(dQs - targetQs)) # DQN\n",
    "    return actions_logits, gQs, gloss, dloss, glossQ, dlossQ"
   ]
  },
  {
   "cell_type": "code",
   "execution_count": 7,
   "metadata": {},
   "outputs": [],
   "source": [
    "# Optimizating/training/learning G & D\n",
    "def model_opt(g_loss, d_loss, d_lossQ, g_learning_rate, d_learning_rate):\n",
    "    # Get weights and bias to update\n",
    "    t_vars = tf.trainable_variables()\n",
    "    g_vars = [var for var in t_vars if var.name.startswith('generator')]\n",
    "    d_vars = [var for var in t_vars if var.name.startswith('discriminator')]\n",
    "\n",
    "    # Optimize\n",
    "    with tf.control_dependencies(tf.get_collection(tf.GraphKeys.UPDATE_OPS)): # Required for batchnorm (BN)\n",
    "        g_opt = tf.train.AdamOptimizer(g_learning_rate).minimize(g_loss, var_list=g_vars)\n",
    "        d_opt = tf.train.AdamOptimizer(d_learning_rate).minimize(d_loss, var_list=d_vars)\n",
    "        d_optQ = tf.train.AdamOptimizer(d_learning_rate).minimize(d_lossQ, var_list=d_vars)\n",
    "    return g_opt, d_opt, d_optQ"
   ]
  },
  {
   "cell_type": "code",
   "execution_count": 8,
   "metadata": {},
   "outputs": [],
   "source": [
    "class Model:\n",
    "    def __init__(self, state_size, action_size, hidden_size, g_learning_rate, d_learning_rate):\n",
    "\n",
    "        # Data of the Model: make the data available inside the framework\n",
    "        self.states, self.actions, self.targetQs, self.rates = model_input(state_size=state_size)\n",
    "\n",
    "        # Create the Model: calculating the loss and forwad pass\n",
    "        self.actions_logits, self.Qs_logits, self.g_loss, self.d_loss, self.g_lossQ, self.d_lossQ = model_loss(\n",
    "            action_size=action_size, hidden_size=hidden_size, # model init parameters\n",
    "            states=self.states, actions=self.actions, targetQs=self.targetQs, rates=self.rates) # model input\n",
    "        \n",
    "        # Update the model: backward pass and backprop\n",
    "        self.g_opt, self.d_opt, self.d_optQ = model_opt(g_loss=self.g_loss, \n",
    "                                                        d_loss=self.d_loss, \n",
    "                                                        d_lossQ=self.d_lossQ,\n",
    "                                                        g_learning_rate=g_learning_rate, \n",
    "                                                        d_learning_rate=d_learning_rate)"
   ]
  },
  {
   "cell_type": "code",
   "execution_count": 9,
   "metadata": {},
   "outputs": [],
   "source": [
    "from collections import deque\n",
    "class Memory():\n",
    "    def __init__(self, max_size = 1000):\n",
    "        self.buffer = deque(maxlen=max_size) # data batch\n",
    "        self.rates = deque(maxlen=max_size) # rates\n",
    "#     def sample(self, batch_size):\n",
    "#         idx = np.random.choice(np.arange(len(self.buffer)), # ==  self.rates\n",
    "#                                size=batch_size, \n",
    "#                                replace=False)\n",
    "#         return [self.buffer[ii] for ii in idx], [self.rates[ii] for ii in idx]"
   ]
  },
  {
   "cell_type": "markdown",
   "metadata": {},
   "source": [
    "## Hyperparameters\n",
    "\n",
    "One of the more difficult aspects of reinforcememt learning are the large number of hyperparameters. Not only are we tuning the network, but we're tuning the simulation."
   ]
  },
  {
   "cell_type": "code",
   "execution_count": 10,
   "metadata": {},
   "outputs": [
    {
     "data": {
      "text/plain": [
       "(Box(4,), Discrete(2))"
      ]
     },
     "execution_count": 10,
     "metadata": {},
     "output_type": "execute_result"
    }
   ],
   "source": [
    "env.observation_space, env.action_space"
   ]
  },
  {
   "cell_type": "code",
   "execution_count": 11,
   "metadata": {},
   "outputs": [],
   "source": [
    "# Exploration parameters\n",
    "explore_start = 1.0            # exploration probability at start\n",
    "explore_stop = 0.01           # minimum exploration probability \n",
    "decay_rate = 0.0001            # exponential decay rate for exploration prob\n",
    "\n",
    "# Network parameters\n",
    "state_size = 4\n",
    "action_size = 2\n",
    "hidden_size = 4*2             # number of units in each Q-network hidden layer\n",
    "g_learning_rate = 1e-4         # Q-network learning rate\n",
    "d_learning_rate = 1e-4         # Q-network learning rate\n",
    "\n",
    "# Memory parameters\n",
    "memory_size = int(1e5)            # memory capacity\n",
    "batch_size = int(1e3)             # experience mini-batch size: 200/500 a successfull episode size\n",
    "gamma = 0.99                   # future reward discount"
   ]
  },
  {
   "cell_type": "code",
   "execution_count": 12,
   "metadata": {},
   "outputs": [],
   "source": [
    "# Reset/init the graph/session\n",
    "graph = tf.reset_default_graph()\n",
    "\n",
    "# Init the model\n",
    "model = Model(action_size=action_size, state_size=state_size, hidden_size=hidden_size,\n",
    "              g_learning_rate=g_learning_rate, d_learning_rate=d_learning_rate)\n",
    "\n",
    "# Init the memory\n",
    "memory = Memory(max_size=memory_size)"
   ]
  },
  {
   "cell_type": "code",
   "execution_count": 13,
   "metadata": {},
   "outputs": [],
   "source": [
    "state = env.reset()\n",
    "total_reward = 0\n",
    "num_step = 0\n",
    "for _ in range(memory_size):\n",
    "    action = env.action_space.sample()\n",
    "    next_state, reward, done, _ = env.step(action)\n",
    "    memory.buffer.append([state, action, next_state, reward, float(done)])\n",
    "    memory.rates.append(-1) # empty\n",
    "    num_step += 1 # memory incremented\n",
    "    total_reward += reward\n",
    "    state = next_state\n",
    "    if done is True:\n",
    "        state = env.reset()\n",
    "        rate = total_reward/500\n",
    "        total_reward = 0 # reset\n",
    "        for idx in range(num_step): # episode length\n",
    "            if memory.rates[-1-idx] == -1:\n",
    "                memory.rates[-1-idx] = rate\n",
    "        num_step = 0 # reset"
   ]
  },
  {
   "cell_type": "markdown",
   "metadata": {},
   "source": [
    "## Training the model\n",
    "\n",
    "Below we'll train our agent. If you want to watch it train, uncomment the `env.render()` line. This is slow because it's rendering the frames slower than the network can train. But, it's cool to watch the agent get better at the game."
   ]
  },
  {
   "cell_type": "code",
   "execution_count": null,
   "metadata": {},
   "outputs": [
    {
     "name": "stdout",
     "output_type": "stream",
     "text": [
      "Episode:0 meanR:15.0000 R:15.0000 rate:0.0300 gloss:0.6903 dloss:0.7296 glossQ:1.0079 dlossQ:0.8866 exploreP:0.9985\n",
      "Episode:1 meanR:16.5000 R:18.0000 rate:0.0360 gloss:0.6998 dloss:0.7332 glossQ:1.0080 dlossQ:0.8868 exploreP:0.9967\n",
      "Episode:2 meanR:15.6667 R:14.0000 rate:0.0280 gloss:0.6590 dloss:0.7093 glossQ:1.0108 dlossQ:0.9041 exploreP:0.9954\n",
      "Episode:3 meanR:15.5000 R:15.0000 rate:0.0300 gloss:0.6844 dloss:0.7246 glossQ:1.0099 dlossQ:0.8969 exploreP:0.9939\n",
      "Episode:4 meanR:17.8000 R:27.0000 rate:0.0540 gloss:0.6917 dloss:0.7390 glossQ:0.9964 dlossQ:0.8831 exploreP:0.9912\n",
      "Episode:5 meanR:19.8333 R:30.0000 rate:0.0600 gloss:0.6919 dloss:0.7304 glossQ:1.0091 dlossQ:0.8924 exploreP:0.9883\n",
      "Episode:6 meanR:22.5714 R:39.0000 rate:0.0780 gloss:0.6908 dloss:0.7288 glossQ:1.0099 dlossQ:0.8978 exploreP:0.9845\n",
      "Episode:7 meanR:22.3750 R:21.0000 rate:0.0420 gloss:0.6858 dloss:0.7258 glossQ:1.0086 dlossQ:0.8959 exploreP:0.9824\n",
      "Episode:8 meanR:22.2222 R:21.0000 rate:0.0420 gloss:0.6647 dloss:0.7158 glossQ:1.0177 dlossQ:0.9055 exploreP:0.9804\n",
      "Episode:9 meanR:27.8000 R:78.0000 rate:0.1560 gloss:0.6860 dloss:0.7293 glossQ:1.0115 dlossQ:0.8957 exploreP:0.9729\n",
      "Episode:10 meanR:28.2727 R:33.0000 rate:0.0660 gloss:0.6784 dloss:0.7264 glossQ:1.0114 dlossQ:0.8933 exploreP:0.9697\n",
      "Episode:11 meanR:26.9167 R:12.0000 rate:0.0240 gloss:0.6829 dloss:0.7252 glossQ:1.0088 dlossQ:0.8880 exploreP:0.9685\n",
      "Episode:12 meanR:25.8462 R:13.0000 rate:0.0260 gloss:0.6755 dloss:0.7203 glossQ:1.0100 dlossQ:0.8883 exploreP:0.9673\n",
      "Episode:13 meanR:24.8571 R:12.0000 rate:0.0240 gloss:0.6703 dloss:0.7209 glossQ:1.0130 dlossQ:0.8959 exploreP:0.9661\n",
      "Episode:14 meanR:24.1333 R:14.0000 rate:0.0280 gloss:0.7164 dloss:0.7548 glossQ:1.0055 dlossQ:0.8726 exploreP:0.9648\n",
      "Episode:15 meanR:24.0000 R:22.0000 rate:0.0440 gloss:0.6908 dloss:0.7314 glossQ:1.0107 dlossQ:0.8973 exploreP:0.9627\n",
      "Episode:16 meanR:23.6471 R:18.0000 rate:0.0360 gloss:0.6721 dloss:0.7233 glossQ:1.0144 dlossQ:0.9014 exploreP:0.9610\n",
      "Episode:17 meanR:23.7222 R:25.0000 rate:0.0500 gloss:0.6764 dloss:0.7251 glossQ:1.0127 dlossQ:0.8917 exploreP:0.9586\n",
      "Episode:18 meanR:23.2105 R:14.0000 rate:0.0280 gloss:0.6925 dloss:0.7362 glossQ:1.0102 dlossQ:0.8858 exploreP:0.9573\n",
      "Episode:19 meanR:23.3500 R:26.0000 rate:0.0520 gloss:0.6829 dloss:0.7281 glossQ:1.0113 dlossQ:0.8926 exploreP:0.9548\n",
      "Episode:20 meanR:23.4762 R:26.0000 rate:0.0520 gloss:0.6903 dloss:0.7337 glossQ:1.0112 dlossQ:0.8915 exploreP:0.9524\n",
      "Episode:21 meanR:23.4545 R:23.0000 rate:0.0460 gloss:0.6781 dloss:0.7266 glossQ:1.0133 dlossQ:0.8931 exploreP:0.9502\n",
      "Episode:22 meanR:23.1739 R:17.0000 rate:0.0340 gloss:0.6765 dloss:0.7288 glossQ:1.0126 dlossQ:0.8927 exploreP:0.9486\n",
      "Episode:23 meanR:22.7083 R:12.0000 rate:0.0240 gloss:0.6902 dloss:0.7319 glossQ:1.0098 dlossQ:0.8952 exploreP:0.9475\n",
      "Episode:24 meanR:22.3600 R:14.0000 rate:0.0280 gloss:0.6628 dloss:0.7181 glossQ:1.0162 dlossQ:0.9099 exploreP:0.9462\n",
      "Episode:25 meanR:22.0769 R:15.0000 rate:0.0300 gloss:0.6591 dloss:0.7105 glossQ:1.0318 dlossQ:0.9288 exploreP:0.9448\n",
      "Episode:26 meanR:21.7778 R:14.0000 rate:0.0280 gloss:0.6554 dloss:0.7191 glossQ:1.0188 dlossQ:0.9018 exploreP:0.9435\n",
      "Episode:27 meanR:22.6071 R:45.0000 rate:0.0900 gloss:0.6789 dloss:0.7267 glossQ:1.0137 dlossQ:0.9025 exploreP:0.9393\n",
      "Episode:28 meanR:23.3448 R:44.0000 rate:0.0880 gloss:0.6734 dloss:0.7242 glossQ:1.0148 dlossQ:0.9078 exploreP:0.9352\n",
      "Episode:29 meanR:23.1333 R:17.0000 rate:0.0340 gloss:0.6862 dloss:0.7284 glossQ:1.0125 dlossQ:0.9021 exploreP:0.9336\n",
      "Episode:30 meanR:23.3871 R:31.0000 rate:0.0620 gloss:0.6741 dloss:0.7268 glossQ:1.0150 dlossQ:0.8997 exploreP:0.9308\n",
      "Episode:31 meanR:23.0000 R:11.0000 rate:0.0220 gloss:0.6903 dloss:0.7350 glossQ:1.0131 dlossQ:0.9016 exploreP:0.9298\n",
      "Episode:32 meanR:23.0000 R:23.0000 rate:0.0460 gloss:0.6785 dloss:0.7282 glossQ:1.0152 dlossQ:0.9061 exploreP:0.9276\n",
      "Episode:33 meanR:22.7941 R:16.0000 rate:0.0320 gloss:0.6860 dloss:0.7311 glossQ:1.0120 dlossQ:0.9055 exploreP:0.9262\n",
      "Episode:34 meanR:22.6000 R:16.0000 rate:0.0320 gloss:0.6828 dloss:0.7310 glossQ:1.0120 dlossQ:0.9077 exploreP:0.9247\n",
      "Episode:35 meanR:22.7222 R:27.0000 rate:0.0540 gloss:0.6595 dloss:0.7250 glossQ:1.0172 dlossQ:0.9008 exploreP:0.9222\n",
      "Episode:36 meanR:22.6486 R:20.0000 rate:0.0400 gloss:0.6939 dloss:0.7364 glossQ:1.0163 dlossQ:0.9134 exploreP:0.9204\n",
      "Episode:37 meanR:22.4474 R:15.0000 rate:0.0300 gloss:0.6954 dloss:0.7388 glossQ:1.0132 dlossQ:0.8966 exploreP:0.9191\n",
      "Episode:38 meanR:22.2308 R:14.0000 rate:0.0280 gloss:0.6775 dloss:0.7259 glossQ:1.0124 dlossQ:0.9060 exploreP:0.9178\n",
      "Episode:39 meanR:24.9750 R:132.0000 rate:0.2640 gloss:0.6817 dloss:0.7290 glossQ:1.0190 dlossQ:0.9213 exploreP:0.9059\n",
      "Episode:40 meanR:25.0488 R:28.0000 rate:0.0560 gloss:0.6793 dloss:0.7257 glossQ:1.0147 dlossQ:0.9192 exploreP:0.9034\n",
      "Episode:41 meanR:25.1429 R:29.0000 rate:0.0580 gloss:0.6894 dloss:0.7330 glossQ:1.0160 dlossQ:0.9277 exploreP:0.9008\n",
      "Episode:42 meanR:25.0698 R:22.0000 rate:0.0440 gloss:0.7228 dloss:0.7516 glossQ:1.0167 dlossQ:0.9209 exploreP:0.8988\n",
      "Episode:43 meanR:25.6364 R:50.0000 rate:0.1000 gloss:0.6884 dloss:0.7318 glossQ:1.0172 dlossQ:0.9252 exploreP:0.8944\n",
      "Episode:44 meanR:25.3333 R:12.0000 rate:0.0240 gloss:0.6429 dloss:0.7154 glossQ:1.0502 dlossQ:0.9542 exploreP:0.8933\n",
      "Episode:45 meanR:25.0870 R:14.0000 rate:0.0280 gloss:0.6735 dloss:0.7244 glossQ:1.0183 dlossQ:0.9286 exploreP:0.8921\n",
      "Episode:46 meanR:25.1277 R:27.0000 rate:0.0540 gloss:0.6875 dloss:0.7333 glossQ:1.0173 dlossQ:0.9203 exploreP:0.8897\n",
      "Episode:47 meanR:25.1250 R:25.0000 rate:0.0500 gloss:0.6719 dloss:0.7243 glossQ:1.0247 dlossQ:0.9197 exploreP:0.8875\n",
      "Episode:48 meanR:24.9184 R:15.0000 rate:0.0300 gloss:0.6984 dloss:0.7389 glossQ:1.0130 dlossQ:0.9221 exploreP:0.8862\n",
      "Episode:49 meanR:24.6200 R:10.0000 rate:0.0200 gloss:0.7049 dloss:0.7391 glossQ:1.0157 dlossQ:0.9430 exploreP:0.8853\n",
      "Episode:50 meanR:25.5294 R:71.0000 rate:0.1420 gloss:0.6750 dloss:0.7255 glossQ:1.0174 dlossQ:0.9330 exploreP:0.8791\n",
      "Episode:51 meanR:25.2692 R:12.0000 rate:0.0240 gloss:0.6940 dloss:0.7325 glossQ:1.0173 dlossQ:0.9373 exploreP:0.8781\n",
      "Episode:52 meanR:25.3208 R:28.0000 rate:0.0560 gloss:0.6939 dloss:0.7366 glossQ:1.0201 dlossQ:0.9185 exploreP:0.8757\n",
      "Episode:53 meanR:25.3148 R:25.0000 rate:0.0500 gloss:0.6664 dloss:0.7246 glossQ:1.0185 dlossQ:0.9201 exploreP:0.8735\n",
      "Episode:54 meanR:25.3818 R:29.0000 rate:0.0580 gloss:0.6544 dloss:0.7165 glossQ:1.0203 dlossQ:0.9213 exploreP:0.8710\n",
      "Episode:55 meanR:25.6786 R:42.0000 rate:0.0840 gloss:0.6710 dloss:0.7229 glossQ:1.0182 dlossQ:0.9344 exploreP:0.8674\n",
      "Episode:56 meanR:25.5263 R:17.0000 rate:0.0340 gloss:0.6984 dloss:0.7343 glossQ:1.0132 dlossQ:0.9374 exploreP:0.8659\n",
      "Episode:57 meanR:25.5172 R:25.0000 rate:0.0500 gloss:0.6855 dloss:0.7348 glossQ:1.0185 dlossQ:0.9248 exploreP:0.8638\n",
      "Episode:58 meanR:26.3220 R:73.0000 rate:0.1460 gloss:0.6839 dloss:0.7295 glossQ:1.0189 dlossQ:0.9456 exploreP:0.8576\n",
      "Episode:59 meanR:26.6667 R:47.0000 rate:0.0940 gloss:0.6957 dloss:0.7358 glossQ:1.0179 dlossQ:0.9528 exploreP:0.8536\n",
      "Episode:60 meanR:26.6066 R:23.0000 rate:0.0460 gloss:0.6935 dloss:0.7322 glossQ:1.0164 dlossQ:0.9445 exploreP:0.8517\n",
      "Episode:61 meanR:26.8871 R:44.0000 rate:0.0880 gloss:0.6890 dloss:0.7309 glossQ:1.0187 dlossQ:0.9471 exploreP:0.8480\n",
      "Episode:62 meanR:26.6667 R:13.0000 rate:0.0260 gloss:0.6770 dloss:0.7304 glossQ:1.0241 dlossQ:0.9397 exploreP:0.8469\n",
      "Episode:63 meanR:26.5156 R:17.0000 rate:0.0340 gloss:0.6760 dloss:0.7273 glossQ:1.0171 dlossQ:0.9280 exploreP:0.8455\n",
      "Episode:64 meanR:26.5231 R:27.0000 rate:0.0540 gloss:0.7016 dloss:0.7549 glossQ:1.0035 dlossQ:0.9097 exploreP:0.8432\n",
      "Episode:65 meanR:26.8788 R:50.0000 rate:0.1000 gloss:0.7019 dloss:0.7411 glossQ:1.0116 dlossQ:0.9291 exploreP:0.8391\n",
      "Episode:66 meanR:26.9104 R:29.0000 rate:0.0580 gloss:0.6781 dloss:0.7224 glossQ:1.0356 dlossQ:0.9531 exploreP:0.8367\n",
      "Episode:67 meanR:27.1324 R:42.0000 rate:0.0840 gloss:0.7007 dloss:0.7398 glossQ:1.0189 dlossQ:0.9384 exploreP:0.8332\n",
      "Episode:68 meanR:27.1884 R:31.0000 rate:0.0620 gloss:0.7003 dloss:0.7345 glossQ:1.0219 dlossQ:0.9590 exploreP:0.8307\n",
      "Episode:69 meanR:27.1000 R:21.0000 rate:0.0420 gloss:0.6865 dloss:0.7288 glossQ:1.0190 dlossQ:0.9505 exploreP:0.8289\n",
      "Episode:70 meanR:26.8873 R:12.0000 rate:0.0240 gloss:0.7088 dloss:0.7408 glossQ:1.0128 dlossQ:0.9630 exploreP:0.8280\n"
     ]
    },
    {
     "name": "stdout",
     "output_type": "stream",
     "text": [
      "Episode:71 meanR:26.8750 R:26.0000 rate:0.0520 gloss:0.6965 dloss:0.7342 glossQ:1.0197 dlossQ:0.9414 exploreP:0.8258\n",
      "Episode:72 meanR:26.9452 R:32.0000 rate:0.0640 gloss:0.6925 dloss:0.7359 glossQ:1.0176 dlossQ:0.9403 exploreP:0.8232\n",
      "Episode:73 meanR:26.7432 R:12.0000 rate:0.0240 gloss:0.6965 dloss:0.7326 glossQ:1.0239 dlossQ:0.9591 exploreP:0.8222\n",
      "Episode:74 meanR:27.2000 R:61.0000 rate:0.1220 gloss:0.7027 dloss:0.7380 glossQ:1.0172 dlossQ:0.9512 exploreP:0.8173\n",
      "Episode:75 meanR:27.1447 R:23.0000 rate:0.0460 gloss:0.7129 dloss:0.7517 glossQ:1.0141 dlossQ:0.9424 exploreP:0.8155\n",
      "Episode:76 meanR:27.0779 R:22.0000 rate:0.0440 gloss:0.7316 dloss:0.7491 glossQ:1.0169 dlossQ:0.9539 exploreP:0.8137\n",
      "Episode:77 meanR:27.1154 R:30.0000 rate:0.0600 gloss:0.6988 dloss:0.7376 glossQ:1.0180 dlossQ:0.9410 exploreP:0.8113\n",
      "Episode:78 meanR:26.9241 R:12.0000 rate:0.0240 gloss:0.6778 dloss:0.7255 glossQ:1.0180 dlossQ:0.9290 exploreP:0.8103\n",
      "Episode:79 meanR:26.9000 R:25.0000 rate:0.0500 gloss:0.7258 dloss:0.7284 glossQ:1.1101 dlossQ:1.0314 exploreP:0.8083\n",
      "Episode:80 meanR:26.8765 R:25.0000 rate:0.0500 gloss:0.6967 dloss:0.7343 glossQ:1.0177 dlossQ:0.9493 exploreP:0.8063\n",
      "Episode:81 meanR:26.7683 R:18.0000 rate:0.0360 gloss:0.7013 dloss:0.7346 glossQ:1.0187 dlossQ:0.9572 exploreP:0.8049\n",
      "Episode:82 meanR:26.7349 R:24.0000 rate:0.0480 gloss:0.7219 dloss:0.7406 glossQ:1.0197 dlossQ:0.9560 exploreP:0.8030\n",
      "Episode:83 meanR:26.9048 R:41.0000 rate:0.0820 gloss:0.6995 dloss:0.7332 glossQ:1.0222 dlossQ:0.9601 exploreP:0.7997\n",
      "Episode:84 meanR:26.9882 R:34.0000 rate:0.0680 gloss:0.6957 dloss:0.7356 glossQ:1.0196 dlossQ:0.9457 exploreP:0.7971\n",
      "Episode:85 meanR:27.0349 R:31.0000 rate:0.0620 gloss:0.6989 dloss:0.7401 glossQ:1.0186 dlossQ:0.9380 exploreP:0.7946\n",
      "Episode:86 meanR:27.7126 R:86.0000 rate:0.1720 gloss:0.6917 dloss:0.7333 glossQ:1.0204 dlossQ:0.9415 exploreP:0.7879\n",
      "Episode:87 meanR:27.9432 R:48.0000 rate:0.0960 gloss:0.6943 dloss:0.7337 glossQ:1.0204 dlossQ:0.9545 exploreP:0.7842\n",
      "Episode:88 meanR:29.6292 R:178.0000 rate:0.3560 gloss:0.6883 dloss:0.7315 glossQ:1.0210 dlossQ:0.9544 exploreP:0.7705\n",
      "Episode:89 meanR:29.9111 R:55.0000 rate:0.1100 gloss:0.6927 dloss:0.7327 glossQ:1.0196 dlossQ:0.9534 exploreP:0.7664\n",
      "Episode:90 meanR:29.9560 R:34.0000 rate:0.0680 gloss:0.6888 dloss:0.7382 glossQ:1.0147 dlossQ:0.9414 exploreP:0.7638\n",
      "Episode:91 meanR:29.8261 R:18.0000 rate:0.0360 gloss:0.7049 dloss:0.7361 glossQ:1.0176 dlossQ:0.9718 exploreP:0.7624\n",
      "Episode:92 meanR:29.9570 R:42.0000 rate:0.0840 gloss:0.7220 dloss:0.7382 glossQ:1.0414 dlossQ:0.9776 exploreP:0.7593\n",
      "Episode:93 meanR:30.1064 R:44.0000 rate:0.0880 gloss:0.6987 dloss:0.7386 glossQ:1.0211 dlossQ:0.9629 exploreP:0.7560\n",
      "Episode:94 meanR:31.2947 R:143.0000 rate:0.2860 gloss:0.7013 dloss:0.7366 glossQ:1.0216 dlossQ:0.9622 exploreP:0.7454\n",
      "Episode:95 meanR:31.6146 R:62.0000 rate:0.1240 gloss:0.7044 dloss:0.7421 glossQ:1.0227 dlossQ:0.9589 exploreP:0.7408\n",
      "Episode:96 meanR:31.4742 R:18.0000 rate:0.0360 gloss:0.7285 dloss:0.7506 glossQ:1.0198 dlossQ:0.9545 exploreP:0.7395\n",
      "Episode:97 meanR:31.4694 R:31.0000 rate:0.0620 gloss:0.7124 dloss:0.7448 glossQ:1.0214 dlossQ:0.9659 exploreP:0.7373\n",
      "Episode:98 meanR:31.5253 R:37.0000 rate:0.0740 gloss:0.7110 dloss:0.7455 glossQ:1.0209 dlossQ:0.9522 exploreP:0.7346\n",
      "Episode:99 meanR:31.7300 R:52.0000 rate:0.1040 gloss:0.6994 dloss:0.7335 glossQ:1.0247 dlossQ:0.9583 exploreP:0.7308\n",
      "Episode:100 meanR:31.8700 R:29.0000 rate:0.0580 gloss:0.6862 dloss:0.7354 glossQ:1.0274 dlossQ:0.9523 exploreP:0.7287\n",
      "Episode:101 meanR:31.8400 R:15.0000 rate:0.0300 gloss:0.7125 dloss:0.7456 glossQ:1.0200 dlossQ:0.9506 exploreP:0.7277\n",
      "Episode:102 meanR:32.4800 R:78.0000 rate:0.1560 gloss:0.6879 dloss:0.7308 glossQ:1.0308 dlossQ:0.9620 exploreP:0.7221\n",
      "Episode:103 meanR:32.9700 R:64.0000 rate:0.1280 gloss:0.6965 dloss:0.7354 glossQ:1.0223 dlossQ:0.9552 exploreP:0.7175\n",
      "Episode:104 meanR:32.8400 R:14.0000 rate:0.0280 gloss:0.6886 dloss:0.7347 glossQ:1.0185 dlossQ:0.9490 exploreP:0.7166\n",
      "Episode:105 meanR:32.7300 R:19.0000 rate:0.0380 gloss:0.6944 dloss:0.7338 glossQ:1.0235 dlossQ:0.9614 exploreP:0.7152\n",
      "Episode:106 meanR:32.5300 R:19.0000 rate:0.0380 gloss:0.7090 dloss:0.7390 glossQ:1.0213 dlossQ:0.9707 exploreP:0.7139\n",
      "Episode:107 meanR:32.4200 R:10.0000 rate:0.0200 gloss:0.6919 dloss:0.7371 glossQ:1.0293 dlossQ:0.9628 exploreP:0.7132\n",
      "Episode:108 meanR:32.4700 R:26.0000 rate:0.0520 gloss:0.7157 dloss:0.7435 glossQ:1.0158 dlossQ:0.9782 exploreP:0.7113\n",
      "Episode:109 meanR:32.1600 R:47.0000 rate:0.0940 gloss:0.6958 dloss:0.7374 glossQ:1.0197 dlossQ:0.9472 exploreP:0.7081\n",
      "Episode:110 meanR:32.1700 R:34.0000 rate:0.0680 gloss:0.6977 dloss:0.7340 glossQ:1.0195 dlossQ:0.9612 exploreP:0.7057\n",
      "Episode:111 meanR:32.9300 R:88.0000 rate:0.1760 gloss:0.7011 dloss:0.7381 glossQ:1.0202 dlossQ:0.9585 exploreP:0.6996\n",
      "Episode:112 meanR:33.3800 R:58.0000 rate:0.1160 gloss:0.6936 dloss:0.7355 glossQ:1.0206 dlossQ:0.9536 exploreP:0.6956\n",
      "Episode:113 meanR:34.0000 R:74.0000 rate:0.1480 gloss:0.7024 dloss:0.7376 glossQ:1.0209 dlossQ:0.9595 exploreP:0.6906\n",
      "Episode:114 meanR:34.6300 R:77.0000 rate:0.1540 gloss:0.7061 dloss:0.7412 glossQ:1.0234 dlossQ:0.9602 exploreP:0.6853\n",
      "Episode:115 meanR:34.8200 R:41.0000 rate:0.0820 gloss:0.7008 dloss:0.7406 glossQ:1.0244 dlossQ:0.9591 exploreP:0.6826\n",
      "Episode:116 meanR:34.9200 R:28.0000 rate:0.0560 gloss:0.7287 dloss:0.7511 glossQ:1.0240 dlossQ:0.9752 exploreP:0.6807\n",
      "Episode:117 meanR:34.9500 R:28.0000 rate:0.0560 gloss:0.7046 dloss:0.7412 glossQ:1.0232 dlossQ:0.9686 exploreP:0.6788\n",
      "Episode:118 meanR:35.1100 R:30.0000 rate:0.0600 gloss:0.6949 dloss:0.7408 glossQ:1.0236 dlossQ:0.9522 exploreP:0.6768\n",
      "Episode:119 meanR:35.7500 R:90.0000 rate:0.1800 gloss:0.7043 dloss:0.7429 glossQ:1.0264 dlossQ:0.9613 exploreP:0.6708\n",
      "Episode:120 meanR:35.6200 R:13.0000 rate:0.0260 gloss:0.7029 dloss:0.7385 glossQ:1.0270 dlossQ:0.9638 exploreP:0.6700\n",
      "Episode:121 meanR:35.5100 R:12.0000 rate:0.0240 gloss:0.7403 dloss:0.7593 glossQ:1.0209 dlossQ:0.9559 exploreP:0.6692\n",
      "Episode:122 meanR:35.9800 R:64.0000 rate:0.1280 gloss:0.7221 dloss:0.7507 glossQ:1.0212 dlossQ:0.9592 exploreP:0.6650\n",
      "Episode:123 meanR:37.1500 R:129.0000 rate:0.2580 gloss:0.6998 dloss:0.7386 glossQ:1.0224 dlossQ:0.9650 exploreP:0.6566\n",
      "Episode:124 meanR:38.7200 R:171.0000 rate:0.3420 gloss:0.6990 dloss:0.7348 glossQ:1.0217 dlossQ:0.9648 exploreP:0.6456\n",
      "Episode:125 meanR:38.9300 R:36.0000 rate:0.0720 gloss:0.6950 dloss:0.7340 glossQ:1.0213 dlossQ:0.9621 exploreP:0.6433\n",
      "Episode:126 meanR:39.3900 R:60.0000 rate:0.1200 gloss:0.7022 dloss:0.7367 glossQ:1.0492 dlossQ:0.9901 exploreP:0.6395\n",
      "Episode:127 meanR:40.1600 R:122.0000 rate:0.2440 gloss:0.6936 dloss:0.7363 glossQ:1.0251 dlossQ:0.9633 exploreP:0.6319\n",
      "Episode:128 meanR:39.9000 R:18.0000 rate:0.0360 gloss:0.6988 dloss:0.7376 glossQ:1.0213 dlossQ:0.9461 exploreP:0.6308\n",
      "Episode:129 meanR:40.2900 R:56.0000 rate:0.1120 gloss:0.7051 dloss:0.7406 glossQ:1.0165 dlossQ:0.9625 exploreP:0.6273\n",
      "Episode:130 meanR:41.0600 R:108.0000 rate:0.2160 gloss:0.7066 dloss:0.7414 glossQ:1.0223 dlossQ:0.9634 exploreP:0.6207\n",
      "Episode:131 meanR:41.9500 R:100.0000 rate:0.2000 gloss:0.7235 dloss:0.7483 glossQ:1.0252 dlossQ:0.9741 exploreP:0.6146\n",
      "Episode:132 meanR:42.7000 R:98.0000 rate:0.1960 gloss:0.6929 dloss:0.7347 glossQ:1.0351 dlossQ:0.9672 exploreP:0.6087\n",
      "Episode:133 meanR:42.8700 R:33.0000 rate:0.0660 gloss:0.6880 dloss:0.7350 glossQ:1.0259 dlossQ:0.9709 exploreP:0.6068\n",
      "Episode:134 meanR:43.7500 R:104.0000 rate:0.2080 gloss:0.7119 dloss:0.7446 glossQ:1.0231 dlossQ:0.9678 exploreP:0.6006\n",
      "Episode:135 meanR:43.7800 R:30.0000 rate:0.0600 gloss:0.7006 dloss:0.7334 glossQ:1.0410 dlossQ:0.9828 exploreP:0.5988\n",
      "Episode:136 meanR:44.7800 R:120.0000 rate:0.2400 gloss:0.7036 dloss:0.7424 glossQ:1.0239 dlossQ:0.9568 exploreP:0.5918\n",
      "Episode:137 meanR:45.4000 R:77.0000 rate:0.1540 gloss:0.6951 dloss:0.7370 glossQ:1.0228 dlossQ:0.9691 exploreP:0.5873\n",
      "Episode:138 meanR:45.5200 R:26.0000 rate:0.0520 gloss:0.6918 dloss:0.7373 glossQ:1.0258 dlossQ:0.9626 exploreP:0.5858\n",
      "Episode:139 meanR:45.0300 R:83.0000 rate:0.1660 gloss:0.7042 dloss:0.7411 glossQ:1.0262 dlossQ:0.9612 exploreP:0.5811\n",
      "Episode:140 meanR:45.0200 R:27.0000 rate:0.0540 gloss:0.7137 dloss:0.7474 glossQ:1.0284 dlossQ:0.9704 exploreP:0.5795\n"
     ]
    },
    {
     "name": "stdout",
     "output_type": "stream",
     "text": [
      "Episode:141 meanR:45.5600 R:83.0000 rate:0.1660 gloss:0.6935 dloss:0.7360 glossQ:1.0298 dlossQ:0.9656 exploreP:0.5748\n",
      "Episode:142 meanR:46.2900 R:95.0000 rate:0.1900 gloss:0.7022 dloss:0.7386 glossQ:1.0224 dlossQ:0.9690 exploreP:0.5695\n",
      "Episode:143 meanR:47.2200 R:143.0000 rate:0.2860 gloss:0.7119 dloss:0.7488 glossQ:1.0194 dlossQ:0.9599 exploreP:0.5615\n",
      "Episode:144 meanR:47.6000 R:50.0000 rate:0.1000 gloss:0.7262 dloss:0.7495 glossQ:1.0160 dlossQ:0.9632 exploreP:0.5588\n",
      "Episode:145 meanR:47.9000 R:44.0000 rate:0.0880 gloss:0.7245 dloss:0.7501 glossQ:1.0198 dlossQ:0.9716 exploreP:0.5564\n",
      "Episode:146 meanR:49.1200 R:149.0000 rate:0.2980 gloss:0.7168 dloss:0.7471 glossQ:1.0257 dlossQ:0.9720 exploreP:0.5483\n",
      "Episode:147 meanR:49.0000 R:13.0000 rate:0.0260 gloss:0.6989 dloss:0.7425 glossQ:1.0346 dlossQ:0.9749 exploreP:0.5476\n",
      "Episode:148 meanR:49.9000 R:105.0000 rate:0.2100 gloss:0.7101 dloss:0.7432 glossQ:1.0267 dlossQ:0.9700 exploreP:0.5420\n",
      "Episode:149 meanR:50.8600 R:106.0000 rate:0.2120 gloss:0.7133 dloss:0.7422 glossQ:1.0226 dlossQ:0.9634 exploreP:0.5364\n",
      "Episode:150 meanR:51.6700 R:152.0000 rate:0.3040 gloss:0.6935 dloss:0.7379 glossQ:1.0285 dlossQ:0.9684 exploreP:0.5284\n",
      "Episode:151 meanR:52.2400 R:69.0000 rate:0.1380 gloss:0.6964 dloss:0.7346 glossQ:1.0304 dlossQ:0.9753 exploreP:0.5249\n",
      "Episode:152 meanR:52.2100 R:25.0000 rate:0.0500 gloss:0.7079 dloss:0.7439 glossQ:1.0255 dlossQ:0.9671 exploreP:0.5236\n",
      "Episode:153 meanR:52.6600 R:70.0000 rate:0.1400 gloss:0.6988 dloss:0.7401 glossQ:1.0224 dlossQ:0.9546 exploreP:0.5200\n",
      "Episode:154 meanR:53.4200 R:105.0000 rate:0.2100 gloss:0.7197 dloss:0.7508 glossQ:1.0183 dlossQ:0.9642 exploreP:0.5147\n",
      "Episode:155 meanR:54.1100 R:111.0000 rate:0.2220 gloss:0.7206 dloss:0.7474 glossQ:1.0249 dlossQ:0.9659 exploreP:0.5091\n",
      "Episode:156 meanR:54.6800 R:74.0000 rate:0.1480 gloss:0.7274 dloss:0.7527 glossQ:1.0226 dlossQ:0.9762 exploreP:0.5054\n",
      "Episode:157 meanR:55.3200 R:89.0000 rate:0.1780 gloss:0.7135 dloss:0.7475 glossQ:1.0356 dlossQ:0.9728 exploreP:0.5010\n",
      "Episode:158 meanR:56.0600 R:147.0000 rate:0.2940 gloss:0.7160 dloss:0.7484 glossQ:1.0264 dlossQ:0.9651 exploreP:0.4939\n",
      "Episode:159 meanR:55.7300 R:14.0000 rate:0.0280 gloss:0.7414 dloss:0.7602 glossQ:1.0213 dlossQ:0.9597 exploreP:0.4932\n",
      "Episode:160 meanR:56.9500 R:145.0000 rate:0.2900 gloss:0.7000 dloss:0.7394 glossQ:1.0261 dlossQ:0.9624 exploreP:0.4862\n",
      "Episode:161 meanR:57.8400 R:133.0000 rate:0.2660 gloss:0.7203 dloss:0.7510 glossQ:1.0237 dlossQ:0.9665 exploreP:0.4799\n",
      "Episode:162 meanR:58.4700 R:76.0000 rate:0.1520 gloss:0.6965 dloss:0.7394 glossQ:1.0290 dlossQ:0.9675 exploreP:0.4764\n",
      "Episode:163 meanR:59.1200 R:82.0000 rate:0.1640 gloss:0.7236 dloss:0.7520 glossQ:1.0253 dlossQ:0.9737 exploreP:0.4726\n",
      "Episode:164 meanR:60.6000 R:175.0000 rate:0.3500 gloss:0.7160 dloss:0.7533 glossQ:1.0281 dlossQ:0.9520 exploreP:0.4645\n",
      "Episode:165 meanR:60.9000 R:80.0000 rate:0.1600 gloss:0.7163 dloss:0.7501 glossQ:1.0262 dlossQ:0.9691 exploreP:0.4609\n",
      "Episode:166 meanR:61.7100 R:110.0000 rate:0.2200 gloss:0.7134 dloss:0.7507 glossQ:1.0250 dlossQ:0.9643 exploreP:0.4560\n",
      "Episode:167 meanR:62.5600 R:127.0000 rate:0.2540 gloss:0.7196 dloss:0.7513 glossQ:1.0282 dlossQ:0.9630 exploreP:0.4504\n",
      "Episode:168 meanR:63.7400 R:149.0000 rate:0.2980 gloss:0.7189 dloss:0.7515 glossQ:1.0262 dlossQ:0.9621 exploreP:0.4439\n",
      "Episode:169 meanR:64.5900 R:106.0000 rate:0.2120 gloss:0.7249 dloss:0.7556 glossQ:1.0264 dlossQ:0.9652 exploreP:0.4393\n",
      "Episode:170 meanR:65.4900 R:102.0000 rate:0.2040 gloss:0.7177 dloss:0.7518 glossQ:1.0244 dlossQ:0.9577 exploreP:0.4349\n",
      "Episode:171 meanR:66.2200 R:99.0000 rate:0.1980 gloss:0.7084 dloss:0.7450 glossQ:1.0292 dlossQ:0.9603 exploreP:0.4307\n",
      "Episode:172 meanR:67.0200 R:112.0000 rate:0.2240 gloss:0.7042 dloss:0.7467 glossQ:1.0284 dlossQ:0.9615 exploreP:0.4260\n",
      "Episode:173 meanR:67.8000 R:90.0000 rate:0.1800 gloss:0.7180 dloss:0.7530 glossQ:1.0236 dlossQ:0.9541 exploreP:0.4223\n",
      "Episode:174 meanR:68.2600 R:107.0000 rate:0.2140 gloss:0.6996 dloss:0.7470 glossQ:1.0299 dlossQ:0.9569 exploreP:0.4179\n",
      "Episode:175 meanR:68.8400 R:81.0000 rate:0.1620 gloss:0.7194 dloss:0.7543 glossQ:1.0253 dlossQ:0.9602 exploreP:0.4146\n",
      "Episode:176 meanR:69.5100 R:89.0000 rate:0.1780 gloss:0.7202 dloss:0.7547 glossQ:1.0389 dlossQ:0.9707 exploreP:0.4111\n",
      "Episode:177 meanR:70.3900 R:118.0000 rate:0.2360 gloss:0.7287 dloss:0.7581 glossQ:1.0277 dlossQ:0.9622 exploreP:0.4064\n",
      "Episode:178 meanR:71.0400 R:77.0000 rate:0.1540 gloss:0.7164 dloss:0.7544 glossQ:1.0297 dlossQ:0.9530 exploreP:0.4033\n",
      "Episode:179 meanR:72.0400 R:125.0000 rate:0.2500 gloss:0.7200 dloss:0.7551 glossQ:1.0265 dlossQ:0.9581 exploreP:0.3984\n",
      "Episode:180 meanR:73.7800 R:199.0000 rate:0.3980 gloss:0.7129 dloss:0.7486 glossQ:1.0272 dlossQ:0.9537 exploreP:0.3908\n",
      "Episode:181 meanR:75.0100 R:141.0000 rate:0.2820 gloss:0.7118 dloss:0.7520 glossQ:1.0272 dlossQ:0.9561 exploreP:0.3854\n",
      "Episode:182 meanR:76.9500 R:218.0000 rate:0.4360 gloss:0.7173 dloss:0.7583 glossQ:1.0328 dlossQ:0.9572 exploreP:0.3773\n",
      "Episode:183 meanR:77.7500 R:121.0000 rate:0.2420 gloss:0.7218 dloss:0.7567 glossQ:1.0449 dlossQ:0.9676 exploreP:0.3729\n",
      "Episode:184 meanR:78.5900 R:118.0000 rate:0.2360 gloss:0.7240 dloss:0.7598 glossQ:1.0283 dlossQ:0.9593 exploreP:0.3687\n",
      "Episode:185 meanR:79.2100 R:93.0000 rate:0.1860 gloss:0.7182 dloss:0.7556 glossQ:1.0264 dlossQ:0.9500 exploreP:0.3654\n",
      "Episode:186 meanR:78.5800 R:23.0000 rate:0.0460 gloss:0.7031 dloss:0.7419 glossQ:1.0249 dlossQ:0.9362 exploreP:0.3645\n",
      "Episode:187 meanR:79.2300 R:113.0000 rate:0.2260 gloss:0.7200 dloss:0.7586 glossQ:1.0297 dlossQ:0.9527 exploreP:0.3606\n",
      "Episode:188 meanR:77.6000 R:15.0000 rate:0.0300 gloss:0.7095 dloss:0.7493 glossQ:1.0335 dlossQ:0.9445 exploreP:0.3600\n",
      "Episode:189 meanR:77.7700 R:72.0000 rate:0.1440 gloss:0.7218 dloss:0.7507 glossQ:1.0413 dlossQ:0.9700 exploreP:0.3575\n",
      "Episode:190 meanR:78.1300 R:70.0000 rate:0.1400 gloss:0.7127 dloss:0.7547 glossQ:1.0284 dlossQ:0.9530 exploreP:0.3551\n",
      "Episode:191 meanR:80.2000 R:225.0000 rate:0.4500 gloss:0.7201 dloss:0.7562 glossQ:1.0274 dlossQ:0.9452 exploreP:0.3474\n",
      "Episode:192 meanR:80.7300 R:95.0000 rate:0.1900 gloss:0.7155 dloss:0.7544 glossQ:1.0254 dlossQ:0.9435 exploreP:0.3442\n",
      "Episode:193 meanR:82.4900 R:220.0000 rate:0.4400 gloss:0.7261 dloss:0.7626 glossQ:1.0286 dlossQ:0.9507 exploreP:0.3369\n",
      "Episode:194 meanR:82.6500 R:159.0000 rate:0.3180 gloss:0.7141 dloss:0.7546 glossQ:1.0297 dlossQ:0.9471 exploreP:0.3318\n",
      "Episode:195 meanR:83.1100 R:108.0000 rate:0.2160 gloss:0.7160 dloss:0.7550 glossQ:1.0252 dlossQ:0.9407 exploreP:0.3283\n",
      "Episode:196 meanR:83.9700 R:104.0000 rate:0.2080 gloss:0.7113 dloss:0.7563 glossQ:1.0312 dlossQ:0.9510 exploreP:0.3250\n",
      "Episode:197 meanR:85.4200 R:176.0000 rate:0.3520 gloss:0.7220 dloss:0.7589 glossQ:1.0284 dlossQ:0.9453 exploreP:0.3195\n",
      "Episode:198 meanR:86.3100 R:126.0000 rate:0.2520 gloss:0.7335 dloss:0.7672 glossQ:1.0279 dlossQ:0.9397 exploreP:0.3157\n",
      "Episode:199 meanR:86.8100 R:102.0000 rate:0.2040 gloss:0.7051 dloss:0.7501 glossQ:1.0319 dlossQ:0.9445 exploreP:0.3126\n",
      "Episode:200 meanR:87.7400 R:122.0000 rate:0.2440 gloss:0.7460 dloss:0.7723 glossQ:1.0320 dlossQ:0.9553 exploreP:0.3089\n",
      "Episode:201 meanR:88.9900 R:140.0000 rate:0.2800 gloss:0.7244 dloss:0.7623 glossQ:1.0510 dlossQ:0.9621 exploreP:0.3047\n",
      "Episode:202 meanR:89.2100 R:100.0000 rate:0.2000 gloss:0.7378 dloss:0.7713 glossQ:1.0250 dlossQ:0.9269 exploreP:0.3018\n",
      "Episode:203 meanR:90.1600 R:159.0000 rate:0.3180 gloss:0.6981 dloss:0.7529 glossQ:1.0363 dlossQ:0.9424 exploreP:0.2972\n",
      "Episode:204 meanR:91.5800 R:156.0000 rate:0.3120 gloss:0.7189 dloss:0.7602 glossQ:1.0261 dlossQ:0.9390 exploreP:0.2928\n",
      "Episode:205 meanR:92.9300 R:154.0000 rate:0.3080 gloss:0.7211 dloss:0.7642 glossQ:1.0292 dlossQ:0.9344 exploreP:0.2884\n",
      "Episode:206 meanR:95.3400 R:260.0000 rate:0.5200 gloss:0.7274 dloss:0.7690 glossQ:1.0372 dlossQ:0.9327 exploreP:0.2813\n",
      "Episode:207 meanR:96.0600 R:82.0000 rate:0.1640 gloss:0.7332 dloss:0.7680 glossQ:1.0319 dlossQ:0.9386 exploreP:0.2791\n",
      "Episode:208 meanR:97.6100 R:181.0000 rate:0.3620 gloss:0.7286 dloss:0.7685 glossQ:1.0295 dlossQ:0.9281 exploreP:0.2743\n",
      "Episode:209 meanR:98.8000 R:166.0000 rate:0.3320 gloss:0.7277 dloss:0.7702 glossQ:1.0320 dlossQ:0.9250 exploreP:0.2699\n",
      "Episode:210 meanR:99.9700 R:151.0000 rate:0.3020 gloss:0.7093 dloss:0.7629 glossQ:1.0292 dlossQ:0.9181 exploreP:0.2660\n"
     ]
    },
    {
     "name": "stdout",
     "output_type": "stream",
     "text": [
      "Episode:211 meanR:100.1500 R:106.0000 rate:0.2120 gloss:0.7241 dloss:0.7677 glossQ:1.0281 dlossQ:0.9166 exploreP:0.2633\n",
      "Episode:212 meanR:101.5300 R:196.0000 rate:0.3920 gloss:0.7293 dloss:0.7683 glossQ:1.0247 dlossQ:0.9076 exploreP:0.2584\n",
      "Episode:213 meanR:102.2700 R:148.0000 rate:0.2960 gloss:0.7462 dloss:0.7783 glossQ:1.0273 dlossQ:0.9092 exploreP:0.2547\n",
      "Episode:214 meanR:102.5900 R:109.0000 rate:0.2180 gloss:0.7432 dloss:0.7888 glossQ:1.0163 dlossQ:0.9013 exploreP:0.2521\n",
      "Episode:215 meanR:103.8100 R:163.0000 rate:0.3260 gloss:0.7326 dloss:0.7721 glossQ:1.0221 dlossQ:0.9048 exploreP:0.2482\n",
      "Episode:216 meanR:105.6700 R:214.0000 rate:0.4280 gloss:0.7247 dloss:0.7703 glossQ:1.0261 dlossQ:0.9036 exploreP:0.2431\n",
      "Episode:217 meanR:106.3700 R:98.0000 rate:0.1960 gloss:0.7296 dloss:0.7670 glossQ:1.0234 dlossQ:0.9120 exploreP:0.2409\n",
      "Episode:218 meanR:107.8100 R:174.0000 rate:0.3480 gloss:0.7248 dloss:0.7738 glossQ:1.0308 dlossQ:0.8973 exploreP:0.2369\n",
      "Episode:219 meanR:108.0900 R:118.0000 rate:0.2360 gloss:0.7334 dloss:0.7767 glossQ:1.0371 dlossQ:0.9148 exploreP:0.2342\n",
      "Episode:220 meanR:109.1500 R:119.0000 rate:0.2380 gloss:0.7581 dloss:0.7896 glossQ:1.0344 dlossQ:0.8956 exploreP:0.2316\n",
      "Episode:221 meanR:111.6900 R:266.0000 rate:0.5320 gloss:0.7341 dloss:0.7791 glossQ:1.0330 dlossQ:0.9042 exploreP:0.2257\n",
      "Episode:222 meanR:112.5900 R:154.0000 rate:0.3080 gloss:0.7289 dloss:0.7766 glossQ:1.0314 dlossQ:0.9006 exploreP:0.2224\n",
      "Episode:223 meanR:112.9000 R:160.0000 rate:0.3200 gloss:0.7449 dloss:0.7802 glossQ:1.0282 dlossQ:0.8908 exploreP:0.2191\n",
      "Episode:224 meanR:112.9200 R:173.0000 rate:0.3460 gloss:0.7290 dloss:0.7824 glossQ:1.0328 dlossQ:0.8838 exploreP:0.2155\n",
      "Episode:225 meanR:114.0900 R:153.0000 rate:0.3060 gloss:0.7348 dloss:0.7830 glossQ:1.0339 dlossQ:0.8848 exploreP:0.2124\n",
      "Episode:226 meanR:116.3600 R:287.0000 rate:0.5740 gloss:0.7519 dloss:0.7920 glossQ:1.0368 dlossQ:0.8911 exploreP:0.2066\n",
      "Episode:227 meanR:116.6800 R:154.0000 rate:0.3080 gloss:0.7444 dloss:0.7887 glossQ:1.0308 dlossQ:0.8855 exploreP:0.2036\n",
      "Episode:228 meanR:117.9600 R:146.0000 rate:0.2920 gloss:0.7270 dloss:0.7841 glossQ:1.0323 dlossQ:0.8765 exploreP:0.2008\n",
      "Episode:229 meanR:118.4200 R:102.0000 rate:0.2040 gloss:0.7393 dloss:0.7903 glossQ:1.0296 dlossQ:0.8811 exploreP:0.1989\n",
      "Episode:230 meanR:120.2200 R:288.0000 rate:0.5760 gloss:0.7572 dloss:0.7997 glossQ:1.0330 dlossQ:0.8705 exploreP:0.1935\n",
      "Episode:231 meanR:121.2500 R:203.0000 rate:0.4060 gloss:0.7720 dloss:0.8067 glossQ:1.0328 dlossQ:0.8733 exploreP:0.1898\n",
      "Episode:232 meanR:121.6600 R:139.0000 rate:0.2780 gloss:0.7709 dloss:0.8001 glossQ:1.0311 dlossQ:0.8749 exploreP:0.1874\n",
      "Episode:233 meanR:123.3200 R:199.0000 rate:0.3980 gloss:0.7500 dloss:0.7972 glossQ:1.0308 dlossQ:0.8688 exploreP:0.1839\n",
      "Episode:234 meanR:124.0800 R:180.0000 rate:0.3600 gloss:0.7421 dloss:0.7946 glossQ:1.0309 dlossQ:0.8559 exploreP:0.1808\n",
      "Episode:235 meanR:125.4200 R:164.0000 rate:0.3280 gloss:0.7753 dloss:0.8189 glossQ:1.0325 dlossQ:0.8487 exploreP:0.1780\n",
      "Episode:236 meanR:125.6200 R:140.0000 rate:0.2800 gloss:0.7568 dloss:0.8092 glossQ:1.0317 dlossQ:0.8527 exploreP:0.1757\n",
      "Episode:237 meanR:126.4500 R:160.0000 rate:0.3200 gloss:0.7721 dloss:0.8176 glossQ:1.0327 dlossQ:0.8518 exploreP:0.1730\n",
      "Episode:238 meanR:127.3400 R:115.0000 rate:0.2300 gloss:0.7720 dloss:0.8123 glossQ:1.0347 dlossQ:0.8509 exploreP:0.1712\n",
      "Episode:239 meanR:128.7000 R:219.0000 rate:0.4380 gloss:0.7761 dloss:0.8146 glossQ:1.0322 dlossQ:0.8515 exploreP:0.1677\n",
      "Episode:240 meanR:130.3300 R:190.0000 rate:0.3800 gloss:0.7560 dloss:0.8097 glossQ:1.0349 dlossQ:0.8461 exploreP:0.1647\n",
      "Episode:241 meanR:130.8400 R:134.0000 rate:0.2680 gloss:0.7806 dloss:0.8209 glossQ:1.0311 dlossQ:0.8338 exploreP:0.1626\n",
      "Episode:242 meanR:130.7000 R:81.0000 rate:0.1620 gloss:0.7851 dloss:0.8232 glossQ:1.0301 dlossQ:0.8215 exploreP:0.1614\n",
      "Episode:243 meanR:130.4500 R:118.0000 rate:0.2360 gloss:0.8118 dloss:0.8370 glossQ:1.0355 dlossQ:0.8422 exploreP:0.1596\n",
      "Episode:244 meanR:133.1600 R:321.0000 rate:0.6420 gloss:0.7849 dloss:0.8235 glossQ:1.0319 dlossQ:0.8333 exploreP:0.1549\n",
      "Episode:245 meanR:134.7800 R:206.0000 rate:0.4120 gloss:0.7745 dloss:0.8172 glossQ:1.0294 dlossQ:0.8295 exploreP:0.1520\n",
      "Episode:246 meanR:134.2400 R:95.0000 rate:0.1900 gloss:0.7778 dloss:0.8228 glossQ:1.0336 dlossQ:0.8216 exploreP:0.1506\n",
      "Episode:247 meanR:135.0200 R:91.0000 rate:0.1820 gloss:0.7790 dloss:0.8274 glossQ:1.0381 dlossQ:0.8331 exploreP:0.1493\n",
      "Episode:248 meanR:137.0200 R:305.0000 rate:0.6100 gloss:0.7913 dloss:0.8324 glossQ:1.0498 dlossQ:0.8300 exploreP:0.1452\n",
      "Episode:249 meanR:137.2300 R:127.0000 rate:0.2540 gloss:0.8037 dloss:0.8424 glossQ:1.0364 dlossQ:0.8099 exploreP:0.1434\n",
      "Episode:250 meanR:137.2700 R:156.0000 rate:0.3120 gloss:0.8110 dloss:0.8528 glossQ:1.0352 dlossQ:0.8019 exploreP:0.1414\n",
      "Episode:251 meanR:138.0700 R:149.0000 rate:0.2980 gloss:0.8106 dloss:0.8516 glossQ:1.0780 dlossQ:0.8404 exploreP:0.1394\n",
      "Episode:252 meanR:139.8600 R:204.0000 rate:0.4080 gloss:0.8000 dloss:0.8424 glossQ:1.0345 dlossQ:0.8039 exploreP:0.1368\n",
      "Episode:253 meanR:140.6500 R:149.0000 rate:0.2980 gloss:0.7929 dloss:0.8344 glossQ:1.0320 dlossQ:0.7931 exploreP:0.1349\n",
      "Episode:254 meanR:140.9300 R:133.0000 rate:0.2660 gloss:0.7861 dloss:0.8426 glossQ:1.0488 dlossQ:0.8072 exploreP:0.1333\n",
      "Episode:255 meanR:141.2800 R:146.0000 rate:0.2920 gloss:0.8192 dloss:0.8581 glossQ:1.0327 dlossQ:0.7935 exploreP:0.1315\n",
      "Episode:256 meanR:141.9300 R:139.0000 rate:0.2780 gloss:0.8172 dloss:0.8518 glossQ:1.0317 dlossQ:0.7943 exploreP:0.1298\n",
      "Episode:257 meanR:143.1300 R:209.0000 rate:0.4180 gloss:0.8007 dloss:0.8503 glossQ:1.0341 dlossQ:0.7906 exploreP:0.1274\n",
      "Episode:258 meanR:143.1100 R:145.0000 rate:0.2900 gloss:0.8049 dloss:0.8528 glossQ:1.0328 dlossQ:0.7886 exploreP:0.1257\n",
      "Episode:259 meanR:144.7300 R:176.0000 rate:0.3520 gloss:0.8144 dloss:0.8531 glossQ:1.0341 dlossQ:0.7877 exploreP:0.1236\n",
      "Episode:260 meanR:144.3900 R:111.0000 rate:0.2220 gloss:0.8312 dloss:0.8721 glossQ:1.0308 dlossQ:0.7675 exploreP:0.1224\n",
      "Episode:261 meanR:144.1400 R:108.0000 rate:0.2160 gloss:0.8054 dloss:0.8461 glossQ:1.0284 dlossQ:0.7715 exploreP:0.1212\n",
      "Episode:262 meanR:145.5200 R:214.0000 rate:0.4280 gloss:0.7983 dloss:0.8544 glossQ:1.0358 dlossQ:0.7807 exploreP:0.1188\n",
      "Episode:263 meanR:146.5800 R:188.0000 rate:0.3760 gloss:0.7987 dloss:0.8554 glossQ:1.0462 dlossQ:0.7849 exploreP:0.1168\n",
      "Episode:264 meanR:146.9400 R:211.0000 rate:0.4220 gloss:0.8281 dloss:0.8692 glossQ:1.0322 dlossQ:0.7654 exploreP:0.1146\n",
      "Episode:265 meanR:147.8100 R:167.0000 rate:0.3340 gloss:0.8243 dloss:0.8691 glossQ:1.0337 dlossQ:0.7646 exploreP:0.1128\n",
      "Episode:266 meanR:149.3800 R:267.0000 rate:0.5340 gloss:0.8240 dloss:0.8711 glossQ:1.0498 dlossQ:0.7794 exploreP:0.1101\n",
      "Episode:267 meanR:149.4100 R:130.0000 rate:0.2600 gloss:0.8265 dloss:0.8697 glossQ:1.0473 dlossQ:0.7717 exploreP:0.1088\n",
      "Episode:268 meanR:149.3100 R:139.0000 rate:0.2780 gloss:0.8562 dloss:0.8929 glossQ:1.0393 dlossQ:0.7492 exploreP:0.1075\n",
      "Episode:269 meanR:149.6800 R:143.0000 rate:0.2860 gloss:0.8279 dloss:0.8713 glossQ:1.0396 dlossQ:0.7621 exploreP:0.1061\n",
      "Episode:270 meanR:150.5700 R:191.0000 rate:0.3820 gloss:0.8442 dloss:0.8881 glossQ:1.0332 dlossQ:0.7399 exploreP:0.1043\n",
      "Episode:271 meanR:151.1800 R:160.0000 rate:0.3200 gloss:0.8305 dloss:0.8818 glossQ:1.0362 dlossQ:0.7363 exploreP:0.1028\n",
      "Episode:272 meanR:151.8900 R:183.0000 rate:0.3660 gloss:0.8511 dloss:0.8943 glossQ:1.0999 dlossQ:0.8172 exploreP:0.1011\n",
      "Episode:273 meanR:152.8400 R:185.0000 rate:0.3700 gloss:0.8728 dloss:0.8956 glossQ:1.0351 dlossQ:0.7373 exploreP:0.0994\n",
      "Episode:274 meanR:153.9200 R:215.0000 rate:0.4300 gloss:0.8378 dloss:0.8831 glossQ:1.0386 dlossQ:0.7308 exploreP:0.0975\n",
      "Episode:275 meanR:154.8800 R:177.0000 rate:0.3540 gloss:0.8407 dloss:0.8934 glossQ:1.0344 dlossQ:0.7298 exploreP:0.0960\n",
      "Episode:276 meanR:156.4400 R:245.0000 rate:0.4900 gloss:0.8512 dloss:0.9047 glossQ:1.0371 dlossQ:0.7283 exploreP:0.0939\n",
      "Episode:277 meanR:156.4900 R:123.0000 rate:0.2460 gloss:0.8570 dloss:0.8963 glossQ:1.0373 dlossQ:0.7223 exploreP:0.0929\n",
      "Episode:278 meanR:157.5100 R:179.0000 rate:0.3580 gloss:0.8562 dloss:0.9039 glossQ:1.0355 dlossQ:0.7182 exploreP:0.0914\n",
      "Episode:279 meanR:157.5600 R:130.0000 rate:0.2600 gloss:0.8623 dloss:0.9044 glossQ:1.0342 dlossQ:0.7104 exploreP:0.0904\n"
     ]
    },
    {
     "name": "stdout",
     "output_type": "stream",
     "text": [
      "Episode:280 meanR:157.0800 R:151.0000 rate:0.3020 gloss:0.8652 dloss:0.9178 glossQ:1.0318 dlossQ:0.7041 exploreP:0.0892\n",
      "Episode:281 meanR:157.1000 R:143.0000 rate:0.2860 gloss:0.8554 dloss:0.9041 glossQ:1.0350 dlossQ:0.7139 exploreP:0.0880\n",
      "Episode:282 meanR:156.4600 R:154.0000 rate:0.3080 gloss:0.8584 dloss:0.9051 glossQ:1.0351 dlossQ:0.7076 exploreP:0.0868\n",
      "Episode:283 meanR:156.7700 R:152.0000 rate:0.3040 gloss:0.8614 dloss:0.9134 glossQ:1.0355 dlossQ:0.7025 exploreP:0.0857\n",
      "Episode:284 meanR:157.1600 R:157.0000 rate:0.3140 gloss:0.8837 dloss:0.9182 glossQ:1.0391 dlossQ:0.6978 exploreP:0.0845\n",
      "Episode:285 meanR:157.4400 R:121.0000 rate:0.2420 gloss:0.8558 dloss:0.9158 glossQ:1.0287 dlossQ:0.6971 exploreP:0.0836\n",
      "Episode:286 meanR:160.6400 R:343.0000 rate:0.6860 gloss:0.8759 dloss:0.9241 glossQ:1.0408 dlossQ:0.7028 exploreP:0.0811\n",
      "Episode:287 meanR:161.5000 R:199.0000 rate:0.3980 gloss:0.8819 dloss:0.9271 glossQ:1.0432 dlossQ:0.6979 exploreP:0.0797\n",
      "Episode:288 meanR:162.6100 R:126.0000 rate:0.2520 gloss:0.8987 dloss:0.9425 glossQ:1.0421 dlossQ:0.6910 exploreP:0.0788\n",
      "Episode:289 meanR:164.2100 R:232.0000 rate:0.4640 gloss:0.9079 dloss:0.9518 glossQ:1.0502 dlossQ:0.6970 exploreP:0.0773\n",
      "Episode:290 meanR:165.5800 R:207.0000 rate:0.4140 gloss:0.9175 dloss:0.9552 glossQ:1.0397 dlossQ:0.6808 exploreP:0.0759\n",
      "Episode:291 meanR:165.7600 R:243.0000 rate:0.4860 gloss:0.9041 dloss:0.9469 glossQ:1.0406 dlossQ:0.6788 exploreP:0.0743\n",
      "Episode:292 meanR:168.2700 R:346.0000 rate:0.6920 gloss:0.8999 dloss:0.9430 glossQ:1.0363 dlossQ:0.6655 exploreP:0.0721\n",
      "Episode:293 meanR:167.8100 R:174.0000 rate:0.3480 gloss:0.9187 dloss:0.9511 glossQ:1.0447 dlossQ:0.6629 exploreP:0.0711\n",
      "Episode:294 meanR:169.0500 R:283.0000 rate:0.5660 gloss:0.9155 dloss:0.9664 glossQ:1.0390 dlossQ:0.6507 exploreP:0.0693\n",
      "Episode:295 meanR:170.8500 R:288.0000 rate:0.5760 gloss:0.9050 dloss:0.9539 glossQ:1.0353 dlossQ:0.6482 exploreP:0.0677\n",
      "Episode:296 meanR:170.8200 R:101.0000 rate:0.2020 gloss:0.9162 dloss:0.9648 glossQ:1.0346 dlossQ:0.6363 exploreP:0.0671\n",
      "Episode:297 meanR:171.6800 R:262.0000 rate:0.5240 gloss:0.9212 dloss:0.9616 glossQ:1.0383 dlossQ:0.6481 exploreP:0.0656\n",
      "Episode:298 meanR:171.9900 R:157.0000 rate:0.3140 gloss:0.9285 dloss:0.9563 glossQ:1.0421 dlossQ:0.6472 exploreP:0.0647\n",
      "Episode:299 meanR:172.2700 R:130.0000 rate:0.2600 gloss:0.9405 dloss:0.9748 glossQ:1.0579 dlossQ:0.6695 exploreP:0.0640\n",
      "Episode:300 meanR:173.0200 R:197.0000 rate:0.3940 gloss:0.9240 dloss:0.9736 glossQ:1.0410 dlossQ:0.6350 exploreP:0.0630\n",
      "Episode:301 meanR:173.3100 R:169.0000 rate:0.3380 gloss:0.9415 dloss:0.9744 glossQ:1.0374 dlossQ:0.6222 exploreP:0.0621\n",
      "Episode:302 meanR:174.1700 R:186.0000 rate:0.3720 gloss:0.9377 dloss:0.9805 glossQ:1.0371 dlossQ:0.6254 exploreP:0.0611\n",
      "Episode:303 meanR:174.5200 R:194.0000 rate:0.3880 gloss:0.9327 dloss:0.9759 glossQ:1.0472 dlossQ:0.6421 exploreP:0.0601\n",
      "Episode:304 meanR:175.6200 R:266.0000 rate:0.5320 gloss:0.9582 dloss:1.0034 glossQ:1.0385 dlossQ:0.6148 exploreP:0.0588\n",
      "Episode:305 meanR:176.1400 R:206.0000 rate:0.4120 gloss:0.9423 dloss:0.9841 glossQ:1.0383 dlossQ:0.6113 exploreP:0.0578\n",
      "Episode:306 meanR:176.2200 R:268.0000 rate:0.5360 gloss:0.9555 dloss:0.9886 glossQ:1.0421 dlossQ:0.6337 exploreP:0.0566\n",
      "Episode:307 meanR:177.1500 R:175.0000 rate:0.3500 gloss:0.9732 dloss:1.0015 glossQ:1.0376 dlossQ:0.5950 exploreP:0.0558\n",
      "Episode:308 meanR:176.7800 R:144.0000 rate:0.2880 gloss:0.9575 dloss:1.0089 glossQ:1.0391 dlossQ:0.6080 exploreP:0.0551\n",
      "Episode:309 meanR:177.0800 R:196.0000 rate:0.3920 gloss:0.9490 dloss:0.9995 glossQ:1.0339 dlossQ:0.5981 exploreP:0.0542\n",
      "Episode:310 meanR:179.4600 R:389.0000 rate:0.7780 gloss:0.9343 dloss:0.9766 glossQ:1.0395 dlossQ:0.5945 exploreP:0.0525\n",
      "Episode:311 meanR:179.8800 R:148.0000 rate:0.2960 gloss:0.9550 dloss:1.0159 glossQ:1.0350 dlossQ:0.5763 exploreP:0.0519\n",
      "Episode:312 meanR:179.8200 R:190.0000 rate:0.3800 gloss:0.9518 dloss:1.0118 glossQ:1.0382 dlossQ:0.5803 exploreP:0.0511\n",
      "Episode:313 meanR:180.8900 R:255.0000 rate:0.5100 gloss:0.9711 dloss:1.0256 glossQ:1.0342 dlossQ:0.5773 exploreP:0.0501\n",
      "Episode:314 meanR:181.3500 R:155.0000 rate:0.3100 gloss:0.9611 dloss:1.0193 glossQ:1.0298 dlossQ:0.5687 exploreP:0.0495\n",
      "Episode:315 meanR:181.8900 R:217.0000 rate:0.4340 gloss:0.9567 dloss:0.9991 glossQ:1.0342 dlossQ:0.5736 exploreP:0.0486\n",
      "Episode:316 meanR:180.9400 R:119.0000 rate:0.2380 gloss:0.9739 dloss:1.0162 glossQ:1.0299 dlossQ:0.5619 exploreP:0.0482\n",
      "Episode:317 meanR:182.1300 R:217.0000 rate:0.4340 gloss:0.9855 dloss:1.0222 glossQ:1.0368 dlossQ:0.5547 exploreP:0.0474\n",
      "Episode:318 meanR:182.1500 R:176.0000 rate:0.3520 gloss:0.9663 dloss:1.0219 glossQ:1.0326 dlossQ:0.5578 exploreP:0.0467\n",
      "Episode:319 meanR:182.4400 R:147.0000 rate:0.2940 gloss:0.9755 dloss:1.0052 glossQ:1.0360 dlossQ:0.5552 exploreP:0.0462\n",
      "Episode:320 meanR:182.7600 R:151.0000 rate:0.3020 gloss:0.9833 dloss:1.0271 glossQ:1.0336 dlossQ:0.5450 exploreP:0.0456\n",
      "Episode:321 meanR:181.7000 R:160.0000 rate:0.3200 gloss:0.9977 dloss:1.0360 glossQ:1.0389 dlossQ:0.5445 exploreP:0.0451\n",
      "Episode:322 meanR:181.6200 R:146.0000 rate:0.2920 gloss:0.9837 dloss:1.0377 glossQ:1.0360 dlossQ:0.5432 exploreP:0.0446\n",
      "Episode:323 meanR:182.7900 R:277.0000 rate:0.5540 gloss:0.9839 dloss:1.0239 glossQ:1.0430 dlossQ:0.5497 exploreP:0.0436\n",
      "Episode:324 meanR:182.7300 R:167.0000 rate:0.3340 gloss:1.0134 dloss:1.0657 glossQ:1.0305 dlossQ:0.5307 exploreP:0.0431\n",
      "Episode:325 meanR:185.5200 R:432.0000 rate:0.8640 gloss:1.0001 dloss:1.0439 glossQ:1.0386 dlossQ:0.5275 exploreP:0.0417\n",
      "Episode:326 meanR:184.0900 R:144.0000 rate:0.2880 gloss:1.0277 dloss:1.0730 glossQ:1.0380 dlossQ:0.5104 exploreP:0.0412\n",
      "Episode:327 meanR:186.3900 R:384.0000 rate:0.7680 gloss:1.0102 dloss:1.0704 glossQ:1.0346 dlossQ:0.5195 exploreP:0.0400\n",
      "Episode:328 meanR:186.1300 R:120.0000 rate:0.2400 gloss:1.0201 dloss:1.0444 glossQ:1.0309 dlossQ:0.5094 exploreP:0.0397\n",
      "Episode:329 meanR:188.0700 R:296.0000 rate:0.5920 gloss:1.0153 dloss:1.0593 glossQ:1.0380 dlossQ:0.5107 exploreP:0.0388\n",
      "Episode:330 meanR:186.6000 R:141.0000 rate:0.2820 gloss:1.0027 dloss:1.0463 glossQ:1.0465 dlossQ:0.5188 exploreP:0.0384\n",
      "Episode:331 meanR:186.8300 R:226.0000 rate:0.4520 gloss:1.0142 dloss:1.0646 glossQ:1.0401 dlossQ:0.4978 exploreP:0.0378\n",
      "Episode:332 meanR:187.9300 R:249.0000 rate:0.4980 gloss:1.0398 dloss:1.0831 glossQ:1.0407 dlossQ:0.4927 exploreP:0.0371\n",
      "Episode:333 meanR:188.0000 R:206.0000 rate:0.4120 gloss:1.0458 dloss:1.0972 glossQ:1.0404 dlossQ:0.4912 exploreP:0.0365\n",
      "Episode:334 meanR:189.4800 R:328.0000 rate:0.6560 gloss:1.0269 dloss:1.0881 glossQ:1.0428 dlossQ:0.4947 exploreP:0.0357\n",
      "Episode:335 meanR:189.0900 R:125.0000 rate:0.2500 gloss:1.0107 dloss:1.0258 glossQ:1.0509 dlossQ:0.5060 exploreP:0.0354\n",
      "Episode:336 meanR:191.3900 R:370.0000 rate:0.7400 gloss:1.0417 dloss:1.0867 glossQ:1.0537 dlossQ:0.5010 exploreP:0.0344\n",
      "Episode:337 meanR:191.2400 R:145.0000 rate:0.2900 gloss:1.0667 dloss:1.0942 glossQ:1.0541 dlossQ:0.4854 exploreP:0.0341\n",
      "Episode:338 meanR:192.7800 R:269.0000 rate:0.5380 gloss:1.0447 dloss:1.0950 glossQ:1.0484 dlossQ:0.4717 exploreP:0.0334\n",
      "Episode:339 meanR:193.0800 R:249.0000 rate:0.4980 gloss:1.0485 dloss:1.0867 glossQ:1.0543 dlossQ:0.4753 exploreP:0.0329\n",
      "Episode:340 meanR:193.9700 R:279.0000 rate:0.5580 gloss:1.0594 dloss:1.1120 glossQ:1.0621 dlossQ:0.4982 exploreP:0.0322\n",
      "Episode:341 meanR:194.9200 R:229.0000 rate:0.4580 gloss:1.0636 dloss:1.1095 glossQ:1.0545 dlossQ:0.4652 exploreP:0.0317\n",
      "Episode:342 meanR:195.8100 R:170.0000 rate:0.3400 gloss:1.0449 dloss:1.1052 glossQ:1.0635 dlossQ:0.4948 exploreP:0.0314\n",
      "Episode:343 meanR:195.9000 R:127.0000 rate:0.2540 gloss:1.0622 dloss:1.1279 glossQ:1.0533 dlossQ:0.4577 exploreP:0.0311\n",
      "Episode:344 meanR:195.4800 R:279.0000 rate:0.5580 gloss:1.0635 dloss:1.1095 glossQ:1.0611 dlossQ:0.4637 exploreP:0.0305\n",
      "Episode:345 meanR:198.4200 R:500.0000 rate:1.0000 gloss:1.0692 dloss:1.1239 glossQ:1.0625 dlossQ:0.4642 exploreP:0.0295\n",
      "Episode:346 meanR:200.7300 R:326.0000 rate:0.6520 gloss:1.0630 dloss:1.1179 glossQ:1.0702 dlossQ:0.4878 exploreP:0.0289\n",
      "Episode:347 meanR:204.8200 R:500.0000 rate:1.0000 gloss:1.0622 dloss:1.1105 glossQ:1.0741 dlossQ:0.4744 exploreP:0.0280\n",
      "Episode:348 meanR:203.6800 R:191.0000 rate:0.3820 gloss:1.0725 dloss:1.1385 glossQ:1.0768 dlossQ:0.4807 exploreP:0.0276\n"
     ]
    },
    {
     "name": "stdout",
     "output_type": "stream",
     "text": [
      "Episode:349 meanR:204.8500 R:244.0000 rate:0.4880 gloss:1.0873 dloss:1.1450 glossQ:1.0770 dlossQ:0.4685 exploreP:0.0272\n",
      "Episode:350 meanR:205.2500 R:196.0000 rate:0.3920 gloss:1.0808 dloss:1.1234 glossQ:1.0806 dlossQ:0.4791 exploreP:0.0269\n",
      "Episode:351 meanR:205.2600 R:150.0000 rate:0.3000 gloss:1.0876 dloss:1.1578 glossQ:1.0770 dlossQ:0.5498 exploreP:0.0266\n",
      "Episode:352 meanR:204.5800 R:136.0000 rate:0.2720 gloss:1.0946 dloss:1.1157 glossQ:1.1036 dlossQ:0.4918 exploreP:0.0264\n",
      "Episode:353 meanR:204.4700 R:138.0000 rate:0.2760 gloss:1.1144 dloss:1.1521 glossQ:1.0764 dlossQ:0.4598 exploreP:0.0262\n",
      "Episode:354 meanR:207.6800 R:454.0000 rate:0.9080 gloss:1.0910 dloss:1.1639 glossQ:1.0746 dlossQ:0.4522 exploreP:0.0255\n",
      "Episode:355 meanR:209.1400 R:292.0000 rate:0.5840 gloss:1.0779 dloss:1.1569 glossQ:1.0730 dlossQ:0.4736 exploreP:0.0250\n",
      "Episode:356 meanR:209.4200 R:167.0000 rate:0.3340 gloss:1.0716 dloss:1.1324 glossQ:1.0786 dlossQ:0.4913 exploreP:0.0248\n",
      "Episode:357 meanR:212.3300 R:500.0000 rate:1.0000 gloss:1.0707 dloss:1.1295 glossQ:1.0878 dlossQ:0.4845 exploreP:0.0240\n",
      "Episode:358 meanR:212.7900 R:191.0000 rate:0.3820 gloss:1.1083 dloss:1.1781 glossQ:1.0887 dlossQ:0.4749 exploreP:0.0238\n",
      "Episode:359 meanR:212.8300 R:180.0000 rate:0.3600 gloss:1.0875 dloss:1.1545 glossQ:1.1018 dlossQ:0.5109 exploreP:0.0235\n",
      "Episode:360 meanR:212.9100 R:119.0000 rate:0.2380 gloss:1.0647 dloss:1.1410 glossQ:1.1012 dlossQ:0.4926 exploreP:0.0234\n",
      "Episode:361 meanR:214.0600 R:223.0000 rate:0.4460 gloss:1.0868 dloss:1.1528 glossQ:1.1048 dlossQ:0.4928 exploreP:0.0231\n",
      "Episode:362 meanR:215.5700 R:365.0000 rate:0.7300 gloss:1.1157 dloss:1.1888 glossQ:1.0884 dlossQ:0.4775 exploreP:0.0226\n",
      "Episode:363 meanR:214.8900 R:120.0000 rate:0.2400 gloss:1.0991 dloss:1.1446 glossQ:1.2454 dlossQ:0.8987 exploreP:0.0225\n",
      "Episode:364 meanR:216.6400 R:386.0000 rate:0.7720 gloss:1.1269 dloss:1.1672 glossQ:1.0975 dlossQ:0.4948 exploreP:0.0220\n",
      "Episode:365 meanR:218.9900 R:402.0000 rate:0.8040 gloss:1.0744 dloss:1.1051 glossQ:1.1248 dlossQ:0.5154 exploreP:0.0215\n",
      "Episode:366 meanR:219.7800 R:346.0000 rate:0.6920 gloss:1.0690 dloss:1.1737 glossQ:1.1416 dlossQ:0.5528 exploreP:0.0211\n",
      "Episode:367 meanR:223.1500 R:467.0000 rate:0.9340 gloss:1.0674 dloss:1.1521 glossQ:1.1482 dlossQ:0.5683 exploreP:0.0206\n",
      "Episode:368 meanR:223.1900 R:143.0000 rate:0.2860 gloss:1.0830 dloss:1.1518 glossQ:1.1635 dlossQ:0.5476 exploreP:0.0205\n",
      "Episode:369 meanR:224.9200 R:316.0000 rate:0.6320 gloss:1.0785 dloss:1.1554 glossQ:1.1829 dlossQ:0.6082 exploreP:0.0201\n",
      "Episode:370 meanR:226.4300 R:342.0000 rate:0.6840 gloss:1.1235 dloss:1.1729 glossQ:1.1437 dlossQ:0.5518 exploreP:0.0198\n",
      "Episode:371 meanR:229.8300 R:500.0000 rate:1.0000 gloss:1.1240 dloss:1.1922 glossQ:1.1422 dlossQ:0.5526 exploreP:0.0193\n",
      "Episode:372 meanR:229.0600 R:106.0000 rate:0.2120 gloss:1.1545 dloss:1.1582 glossQ:1.1389 dlossQ:0.5615 exploreP:0.0192\n",
      "Episode:373 meanR:228.4800 R:127.0000 rate:0.2540 gloss:1.1176 dloss:1.1969 glossQ:1.1610 dlossQ:0.6013 exploreP:0.0191\n",
      "Episode:374 meanR:230.2000 R:387.0000 rate:0.7740 gloss:1.1764 dloss:1.1845 glossQ:1.1431 dlossQ:0.5509 exploreP:0.0188\n",
      "Episode:375 meanR:230.4100 R:198.0000 rate:0.3960 gloss:1.2106 dloss:1.2416 glossQ:1.1348 dlossQ:0.5286 exploreP:0.0186\n",
      "Episode:376 meanR:230.4900 R:253.0000 rate:0.5060 gloss:1.1992 dloss:1.2253 glossQ:1.1440 dlossQ:0.5359 exploreP:0.0184\n",
      "Episode:377 meanR:232.0500 R:279.0000 rate:0.5580 gloss:1.1888 dloss:1.2490 glossQ:1.1497 dlossQ:0.5413 exploreP:0.0181\n",
      "Episode:378 meanR:231.5700 R:131.0000 rate:0.2620 gloss:1.2403 dloss:1.2369 glossQ:1.1330 dlossQ:0.5154 exploreP:0.0180\n",
      "Episode:379 meanR:233.4000 R:313.0000 rate:0.6260 gloss:1.2214 dloss:1.2465 glossQ:1.1330 dlossQ:0.5245 exploreP:0.0178\n",
      "Episode:380 meanR:233.3700 R:148.0000 rate:0.2960 gloss:1.2420 dloss:1.2650 glossQ:1.1346 dlossQ:0.5218 exploreP:0.0177\n",
      "Episode:381 meanR:233.4900 R:155.0000 rate:0.3100 gloss:1.2227 dloss:1.1890 glossQ:1.1492 dlossQ:0.5210 exploreP:0.0176\n",
      "Episode:382 meanR:235.3000 R:335.0000 rate:0.6700 gloss:1.2476 dloss:1.2708 glossQ:1.2006 dlossQ:0.6865 exploreP:0.0173\n",
      "Episode:383 meanR:236.5300 R:275.0000 rate:0.5500 gloss:1.2619 dloss:1.2626 glossQ:1.1351 dlossQ:0.5446 exploreP:0.0171\n",
      "Episode:384 meanR:237.9600 R:300.0000 rate:0.6000 gloss:1.2130 dloss:1.2332 glossQ:1.1560 dlossQ:0.5487 exploreP:0.0169\n",
      "Episode:385 meanR:238.1800 R:143.0000 rate:0.2860 gloss:1.2367 dloss:1.2097 glossQ:1.1529 dlossQ:0.5466 exploreP:0.0168\n",
      "Episode:386 meanR:236.8200 R:207.0000 rate:0.4140 gloss:1.2121 dloss:1.2138 glossQ:1.1658 dlossQ:0.5433 exploreP:0.0167\n",
      "Episode:387 meanR:236.3200 R:149.0000 rate:0.2980 gloss:1.1996 dloss:1.1801 glossQ:1.1808 dlossQ:0.5604 exploreP:0.0166\n",
      "Episode:388 meanR:236.1300 R:107.0000 rate:0.2140 gloss:1.2474 dloss:1.2610 glossQ:1.1642 dlossQ:0.5731 exploreP:0.0165\n",
      "Episode:389 meanR:235.4500 R:164.0000 rate:0.3280 gloss:1.2970 dloss:1.2789 glossQ:1.1534 dlossQ:0.5416 exploreP:0.0164\n",
      "Episode:390 meanR:236.3700 R:299.0000 rate:0.5980 gloss:1.2511 dloss:1.2442 glossQ:1.1724 dlossQ:0.5500 exploreP:0.0162\n",
      "Episode:391 meanR:235.7200 R:178.0000 rate:0.3560 gloss:1.2426 dloss:1.2589 glossQ:1.2034 dlossQ:0.6426 exploreP:0.0161\n",
      "Episode:392 meanR:235.6900 R:343.0000 rate:0.6860 gloss:1.2694 dloss:1.2589 glossQ:1.1633 dlossQ:0.5394 exploreP:0.0159\n",
      "Episode:393 meanR:234.9800 R:103.0000 rate:0.2060 gloss:1.2435 dloss:1.2072 glossQ:1.1951 dlossQ:0.5715 exploreP:0.0158\n",
      "Episode:394 meanR:235.9400 R:379.0000 rate:0.7580 gloss:1.2960 dloss:1.2883 glossQ:1.1629 dlossQ:0.5514 exploreP:0.0156\n",
      "Episode:395 meanR:235.4600 R:240.0000 rate:0.4800 gloss:1.3013 dloss:1.3012 glossQ:1.1716 dlossQ:0.5776 exploreP:0.0155\n",
      "Episode:396 meanR:238.5700 R:412.0000 rate:0.8240 gloss:1.3053 dloss:1.2997 glossQ:1.2332 dlossQ:0.6589 exploreP:0.0153\n",
      "Episode:397 meanR:240.9500 R:500.0000 rate:1.0000 gloss:1.3119 dloss:1.3182 glossQ:1.1595 dlossQ:0.5357 exploreP:0.0150\n",
      "Episode:398 meanR:244.3800 R:500.0000 rate:1.0000 gloss:1.2830 dloss:1.2615 glossQ:1.1847 dlossQ:0.5685 exploreP:0.0148\n",
      "Episode:399 meanR:244.5800 R:150.0000 rate:0.3000 gloss:1.3222 dloss:1.2587 glossQ:1.1717 dlossQ:0.5165 exploreP:0.0147\n",
      "Episode:400 meanR:247.5100 R:490.0000 rate:0.9800 gloss:1.3281 dloss:1.3380 glossQ:1.1663 dlossQ:0.5873 exploreP:0.0145\n",
      "Episode:401 meanR:248.6800 R:286.0000 rate:0.5720 gloss:1.3642 dloss:1.3945 glossQ:1.1487 dlossQ:0.5545 exploreP:0.0143\n",
      "Episode:402 meanR:250.2300 R:341.0000 rate:0.6820 gloss:1.3154 dloss:1.3043 glossQ:1.1579 dlossQ:0.5214 exploreP:0.0142\n",
      "Episode:403 meanR:253.2900 R:500.0000 rate:1.0000 gloss:1.3527 dloss:1.3287 glossQ:1.1860 dlossQ:0.6049 exploreP:0.0140\n",
      "Episode:404 meanR:252.2000 R:157.0000 rate:0.3140 gloss:1.3300 dloss:1.2854 glossQ:1.1685 dlossQ:0.5522 exploreP:0.0139\n",
      "Episode:405 meanR:251.8900 R:175.0000 rate:0.3500 gloss:1.3772 dloss:1.2907 glossQ:1.1474 dlossQ:0.4869 exploreP:0.0139\n",
      "Episode:406 meanR:253.3700 R:416.0000 rate:0.8320 gloss:1.3481 dloss:1.2644 glossQ:1.1501 dlossQ:0.5169 exploreP:0.0137\n",
      "Episode:407 meanR:253.1900 R:157.0000 rate:0.3140 gloss:1.3131 dloss:1.2699 glossQ:1.1760 dlossQ:0.5616 exploreP:0.0136\n",
      "Episode:408 meanR:256.7500 R:500.0000 rate:1.0000 gloss:1.3667 dloss:1.2979 glossQ:1.1643 dlossQ:0.5107 exploreP:0.0135\n",
      "Episode:409 meanR:257.5500 R:276.0000 rate:0.5520 gloss:1.3888 dloss:1.3265 glossQ:1.1982 dlossQ:0.5893 exploreP:0.0134\n",
      "Episode:410 meanR:257.0400 R:338.0000 rate:0.6760 gloss:1.4049 dloss:1.3417 glossQ:1.1469 dlossQ:0.5120 exploreP:0.0133\n",
      "Episode:411 meanR:259.8700 R:431.0000 rate:0.8620 gloss:1.3802 dloss:1.3648 glossQ:1.1478 dlossQ:0.5112 exploreP:0.0131\n",
      "Episode:412 meanR:262.9700 R:500.0000 rate:1.0000 gloss:1.4008 dloss:1.3264 glossQ:1.1417 dlossQ:0.4850 exploreP:0.0130\n",
      "Episode:413 meanR:261.8800 R:146.0000 rate:0.2920 gloss:1.3848 dloss:1.3269 glossQ:1.1495 dlossQ:0.4831 exploreP:0.0129\n",
      "Episode:414 meanR:265.3300 R:500.0000 rate:1.0000 gloss:1.4448 dloss:1.3692 glossQ:1.1316 dlossQ:0.4626 exploreP:0.0128\n",
      "Episode:415 meanR:265.9300 R:277.0000 rate:0.5540 gloss:1.3861 dloss:1.3020 glossQ:1.1393 dlossQ:0.4586 exploreP:0.0127\n",
      "Episode:416 meanR:267.0500 R:231.0000 rate:0.4620 gloss:1.4354 dloss:1.3615 glossQ:1.1215 dlossQ:0.4251 exploreP:0.0126\n",
      "Episode:417 meanR:269.8800 R:500.0000 rate:1.0000 gloss:1.4650 dloss:1.3768 glossQ:1.1141 dlossQ:0.4304 exploreP:0.0125\n"
     ]
    },
    {
     "name": "stdout",
     "output_type": "stream",
     "text": [
      "Episode:418 meanR:272.7100 R:459.0000 rate:0.9180 gloss:1.4517 dloss:1.3270 glossQ:1.1059 dlossQ:0.3785 exploreP:0.0124\n",
      "Episode:419 meanR:276.2400 R:500.0000 rate:1.0000 gloss:1.4874 dloss:1.3939 glossQ:1.1055 dlossQ:0.3967 exploreP:0.0123\n",
      "Episode:420 meanR:276.8200 R:209.0000 rate:0.4180 gloss:1.4802 dloss:1.4057 glossQ:1.0901 dlossQ:0.3735 exploreP:0.0122\n",
      "Episode:421 meanR:277.0400 R:182.0000 rate:0.3640 gloss:1.4566 dloss:1.3423 glossQ:1.0852 dlossQ:0.3336 exploreP:0.0122\n",
      "Episode:422 meanR:278.2500 R:267.0000 rate:0.5340 gloss:1.4633 dloss:1.3397 glossQ:1.0977 dlossQ:0.3556 exploreP:0.0121\n",
      "Episode:423 meanR:280.2300 R:475.0000 rate:0.9500 gloss:1.5029 dloss:1.3809 glossQ:1.0922 dlossQ:0.3524 exploreP:0.0120\n",
      "Episode:424 meanR:282.2400 R:368.0000 rate:0.7360 gloss:1.5085 dloss:1.3781 glossQ:1.0816 dlossQ:0.3526 exploreP:0.0120\n",
      "Episode:425 meanR:280.2000 R:228.0000 rate:0.4560 gloss:1.5045 dloss:1.4151 glossQ:1.0772 dlossQ:0.3153 exploreP:0.0119\n",
      "Episode:426 meanR:282.1100 R:335.0000 rate:0.6700 gloss:1.4738 dloss:1.3099 glossQ:1.0848 dlossQ:0.3244 exploreP:0.0119\n",
      "Episode:427 meanR:281.8200 R:355.0000 rate:0.7100 gloss:1.5120 dloss:1.3991 glossQ:1.0843 dlossQ:0.3305 exploreP:0.0118\n",
      "Episode:428 meanR:281.8600 R:124.0000 rate:0.2480 gloss:1.4961 dloss:1.4171 glossQ:1.0806 dlossQ:0.3120 exploreP:0.0118\n",
      "Episode:429 meanR:280.0200 R:112.0000 rate:0.2240 gloss:1.5502 dloss:1.4125 glossQ:1.0783 dlossQ:0.3150 exploreP:0.0118\n",
      "Episode:430 meanR:280.0400 R:143.0000 rate:0.2860 gloss:1.4898 dloss:1.3950 glossQ:1.0810 dlossQ:0.2938 exploreP:0.0117\n",
      "Episode:431 meanR:280.2000 R:242.0000 rate:0.4840 gloss:1.5402 dloss:1.4727 glossQ:1.0741 dlossQ:0.3238 exploreP:0.0117\n",
      "Episode:432 meanR:282.4900 R:478.0000 rate:0.9560 gloss:1.5106 dloss:1.4135 glossQ:1.0794 dlossQ:0.3439 exploreP:0.0116\n",
      "Episode:433 meanR:282.0200 R:159.0000 rate:0.3180 gloss:1.5123 dloss:1.4665 glossQ:1.2825 dlossQ:0.5926 exploreP:0.0116\n",
      "Episode:434 meanR:279.8900 R:115.0000 rate:0.2300 gloss:1.4756 dloss:1.3014 glossQ:1.0731 dlossQ:0.2771 exploreP:0.0116\n",
      "Episode:435 meanR:282.7700 R:413.0000 rate:0.8260 gloss:1.4289 dloss:1.2716 glossQ:1.0828 dlossQ:0.3169 exploreP:0.0115\n",
      "Episode:436 meanR:280.7500 R:168.0000 rate:0.3360 gloss:1.4367 dloss:1.2749 glossQ:1.1070 dlossQ:0.3567 exploreP:0.0115\n",
      "Episode:437 meanR:280.8000 R:150.0000 rate:0.3000 gloss:1.3998 dloss:1.2176 glossQ:1.1118 dlossQ:0.3491 exploreP:0.0115\n",
      "Episode:438 meanR:282.8400 R:473.0000 rate:0.9460 gloss:1.4828 dloss:1.3734 glossQ:1.1023 dlossQ:0.3703 exploreP:0.0114\n",
      "Episode:439 meanR:285.1000 R:475.0000 rate:0.9500 gloss:1.4825 dloss:1.3492 glossQ:1.1407 dlossQ:0.4371 exploreP:0.0113\n",
      "Episode:440 meanR:287.3100 R:500.0000 rate:1.0000 gloss:1.4771 dloss:1.2877 glossQ:1.1456 dlossQ:0.3837 exploreP:0.0113\n",
      "Episode:441 meanR:288.0200 R:300.0000 rate:0.6000 gloss:1.4001 dloss:1.1886 glossQ:1.1579 dlossQ:0.3405 exploreP:0.0112\n",
      "Episode:442 meanR:291.0800 R:476.0000 rate:0.9520 gloss:1.4853 dloss:1.2745 glossQ:1.1529 dlossQ:0.3741 exploreP:0.0112\n",
      "Episode:443 meanR:294.5900 R:478.0000 rate:0.9560 gloss:1.5442 dloss:1.3858 glossQ:1.1350 dlossQ:0.3805 exploreP:0.0111\n",
      "Episode:444 meanR:296.3200 R:452.0000 rate:0.9040 gloss:1.5195 dloss:1.3227 glossQ:1.1533 dlossQ:0.3771 exploreP:0.0111\n",
      "Episode:445 meanR:296.3200 R:500.0000 rate:1.0000 gloss:1.5532 dloss:1.3571 glossQ:1.1392 dlossQ:0.3742 exploreP:0.0110\n",
      "Episode:446 meanR:294.0500 R:99.0000 rate:0.1980 gloss:1.5156 dloss:1.3543 glossQ:1.1467 dlossQ:0.3571 exploreP:0.0110\n",
      "Episode:447 meanR:294.0500 R:500.0000 rate:1.0000 gloss:1.5795 dloss:1.4099 glossQ:1.1465 dlossQ:0.3640 exploreP:0.0109\n",
      "Episode:448 meanR:294.3500 R:221.0000 rate:0.4420 gloss:1.5422 dloss:1.4084 glossQ:1.1417 dlossQ:0.3367 exploreP:0.0109\n",
      "Episode:449 meanR:292.9100 R:100.0000 rate:0.2000 gloss:1.5552 dloss:1.4117 glossQ:1.1329 dlossQ:0.3487 exploreP:0.0109\n",
      "Episode:450 meanR:292.5500 R:160.0000 rate:0.3200 gloss:1.5944 dloss:1.3740 glossQ:1.1255 dlossQ:0.3318 exploreP:0.0109\n",
      "Episode:451 meanR:294.0200 R:297.0000 rate:0.5940 gloss:1.5901 dloss:1.3963 glossQ:1.1333 dlossQ:0.3469 exploreP:0.0109\n",
      "Episode:452 meanR:296.1000 R:344.0000 rate:0.6880 gloss:1.5896 dloss:1.3603 glossQ:1.1275 dlossQ:0.3331 exploreP:0.0108\n",
      "Episode:453 meanR:295.6300 R:91.0000 rate:0.1820 gloss:1.5607 dloss:1.3317 glossQ:1.1373 dlossQ:0.2968 exploreP:0.0108\n",
      "Episode:454 meanR:294.0200 R:293.0000 rate:0.5860 gloss:1.5655 dloss:1.3443 glossQ:1.1442 dlossQ:0.3431 exploreP:0.0108\n"
     ]
    }
   ],
   "source": [
    "# Save/load the model and save for plotting\n",
    "saver = tf.train.Saver()\n",
    "episode_rewards_list, rewards_list = [], []\n",
    "# gloss_list, dloss_list = [], []\n",
    "\n",
    "# TF session for training\n",
    "with tf.Session(graph=graph) as sess:\n",
    "    sess.run(tf.global_variables_initializer())\n",
    "    #saver.restore(sess, 'checkpoints/model.ckpt')    \n",
    "    #saver.restore(sess, tf.train.latest_checkpoint('checkpoints'))\n",
    "    total_step = 0 # Explore or exploit parameter\n",
    "    episode_reward = deque(maxlen=100) # 100 episodes average/running average/running mean/window\n",
    "\n",
    "    # Training episodes/epochs\n",
    "    for ep in range(1111*3):\n",
    "        total_reward = 0 # each episode\n",
    "        gloss_batch, dloss_batch, glossQ_batch, dlossQ_batch= [], [], [], []\n",
    "        state = env.reset() # each episode\n",
    "        num_step = 0 # each episode\n",
    "\n",
    "        # Training steps/batches\n",
    "        while True:\n",
    "            # Explore (Env) or Exploit (Model)\n",
    "            total_step += 1\n",
    "            explore_p = explore_stop + (explore_start - explore_stop) * np.exp(-decay_rate * total_step) \n",
    "            if explore_p > np.random.rand():\n",
    "                action = env.action_space.sample()\n",
    "            else:\n",
    "                action_logits = sess.run(model.actions_logits, feed_dict={model.states: state.reshape([1, -1])})\n",
    "                action = np.argmax(action_logits)\n",
    "            next_state, reward, done, _ = env.step(action)\n",
    "            memory.buffer.append([state, action, next_state, reward, float(done)])\n",
    "            memory.rates.append(-1) # empty\n",
    "            num_step += 1 # momory added\n",
    "            total_reward += reward\n",
    "            state = next_state\n",
    "            \n",
    "            # Rating the memory\n",
    "            if done is True:\n",
    "                rate = total_reward/500 # update rate at the end/ when episode is done\n",
    "                for idx in range(num_step): # episode length\n",
    "                    if memory.rates[-1-idx] == -1: # double-check the landmark/marked indexes\n",
    "                        memory.rates[-1-idx] = rate # rate the trajectory/data\n",
    "                        \n",
    "            # Training with the maxrated minibatch\n",
    "            batch = memory.buffer\n",
    "            percentage = 0.9\n",
    "            #for idx in range(memory_size// batch_size):\n",
    "            idx_arr = np.arange(memory_size// batch_size)\n",
    "            idx = np.random.choice(idx_arr)\n",
    "            states = np.array([each[0] for each in batch])[idx*batch_size:(idx+1)*batch_size]\n",
    "            actions = np.array([each[1] for each in batch])[idx*batch_size:(idx+1)*batch_size]\n",
    "            next_states = np.array([each[2] for each in batch])[idx*batch_size:(idx+1)*batch_size]\n",
    "            rewards = np.array([each[3] for each in batch])[idx*batch_size:(idx+1)*batch_size]\n",
    "            dones = np.array([each[4] for each in batch])[idx*batch_size:(idx+1)*batch_size]\n",
    "            rates = np.array(memory.rates)[idx*batch_size:(idx+1)*batch_size]\n",
    "            #print(states.shape, actions.shape, next_states.shape, rewards.shape, dones.shape, rates.shape)\n",
    "            states = states[rates >= (np.max(rates)*percentage)]\n",
    "            actions = actions[rates >= (np.max(rates)*percentage)]\n",
    "            next_states = next_states[rates >= (np.max(rates)*percentage)]\n",
    "            rewards = rewards[rates >= (np.max(rates)*percentage)]\n",
    "            dones = dones[rates >= (np.max(rates)*percentage)]\n",
    "            rates = rates[rates >= (np.max(rates)*percentage)]\n",
    "            #print(states.shape, actions.shape, next_states.shape, rewards.shape, dones.shape, rates.shape)\n",
    "            nextQs_logits = sess.run(model.Qs_logits, feed_dict = {model.states: next_states})\n",
    "            #nextQs = np.max(nextQs_logits, axis=1) * (1-dones) # DQN\n",
    "            nextQs = nextQs_logits.reshape([-1]) * (1-dones) # DPG\n",
    "            targetQs = rewards + (gamma * nextQs)\n",
    "            dloss, _ = sess.run([model.d_loss, model.d_opt], feed_dict = {model.states: states, \n",
    "                                                                          model.actions: actions,\n",
    "                                                                          model.targetQs: targetQs, \n",
    "                                                                          model.rates: rates})\n",
    "            glossQ, dlossQ, _ = sess.run([model.g_lossQ, model.d_lossQ, model.d_optQ], \n",
    "                                         feed_dict = {model.states: states, \n",
    "                                                      model.actions: actions,\n",
    "                                                      model.targetQs: targetQs, \n",
    "                                                      model.rates: rates})\n",
    "            gloss, _ = sess.run([model.g_loss, model.g_opt], feed_dict = {model.states: states, \n",
    "                                                                          model.actions: actions,\n",
    "                                                                          model.targetQs: targetQs, \n",
    "                                                                          model.rates: rates})\n",
    "            gloss_batch.append(gloss)\n",
    "            dloss_batch.append(dloss)\n",
    "            glossQ_batch.append(glossQ)\n",
    "            dlossQ_batch.append(dlossQ)\n",
    "            if done is True:\n",
    "                break\n",
    "                \n",
    "        episode_reward.append(total_reward)\n",
    "        print('Episode:{}'.format(ep),\n",
    "              'meanR:{:.4f}'.format(np.mean(episode_reward)),\n",
    "              'R:{:.4f}'.format(total_reward),\n",
    "              'rate:{:.4f}'.format(rate),\n",
    "              'gloss:{:.4f}'.format(np.mean(gloss_batch)),\n",
    "              'dloss:{:.4f}'.format(np.mean(dloss_batch)),\n",
    "              'glossQ:{:.4f}'.format(np.mean(glossQ_batch)),\n",
    "              'dlossQ:{:.4f}'.format(np.mean(dlossQ_batch)),\n",
    "              'exploreP:{:.4f}'.format(explore_p))\n",
    "\n",
    "        # Ploting out\n",
    "        episode_rewards_list.append([ep, np.mean(episode_reward)])\n",
    "        rewards_list.append([ep, total_reward])\n",
    "        # gloss_list.append([ep, np.mean(gloss_batch)])\n",
    "        # dloss_list.append([ep, np.mean(dloss_batch)])\n",
    "        \n",
    "        # Break episode/epoch loop\n",
    "        ## Option 1: Solve the First Version\n",
    "        #The task is episodic, and in order to solve the environment, \n",
    "        #your agent must get an average score of +30 over 100 consecutive episodes.\n",
    "        if np.mean(episode_reward) >= 500:\n",
    "            break\n",
    "            \n",
    "    # At the end of all training episodes/epochs\n",
    "    saver.save(sess, 'checkpoints/model.ckpt')"
   ]
  },
  {
   "cell_type": "markdown",
   "metadata": {},
   "source": [
    "# Visualizing training\n",
    "\n",
    "Below I'll plot the total rewards for each episode. I'm plotting the rolling average too, in blue."
   ]
  },
  {
   "cell_type": "code",
   "execution_count": null,
   "metadata": {},
   "outputs": [],
   "source": [
    "import matplotlib.pyplot as plt\n",
    "%matplotlib inline\n",
    "\n",
    "def running_mean(x, N):\n",
    "    cumsum = np.cumsum(np.insert(x, 0, 0)) \n",
    "    return (cumsum[N:] - cumsum[:-N]) / N "
   ]
  },
  {
   "cell_type": "code",
   "execution_count": null,
   "metadata": {},
   "outputs": [],
   "source": [
    "eps, arr = np.array(episode_rewards_list).T\n",
    "smoothed_arr = running_mean(arr, 10)\n",
    "plt.plot(eps[-len(smoothed_arr):], smoothed_arr)\n",
    "plt.plot(eps, arr, color='grey', alpha=0.3)\n",
    "plt.xlabel('Episode')\n",
    "plt.ylabel('Total rewards')"
   ]
  },
  {
   "cell_type": "code",
   "execution_count": 18,
   "metadata": {},
   "outputs": [
    {
     "data": {
      "text/plain": [
       "Text(0, 0.5, 'Total rewards')"
      ]
     },
     "execution_count": 18,
     "metadata": {},
     "output_type": "execute_result"
    },
    {
     "data": {
      "image/png": "[encoded data removed]",
      "text/plain": [
       "<Figure size 432x288 with 1 Axes>"
      ]
     },
     "metadata": {
      "needs_background": "light"
     },
     "output_type": "display_data"
    }
   ],
   "source": [
    "eps, arr = np.array(rewards_list).T\n",
    "smoothed_arr = running_mean(arr, 10)\n",
    "plt.plot(eps[-len(smoothed_arr):], smoothed_arr)\n",
    "plt.plot(eps, arr, color='grey', alpha=0.3)\n",
    "plt.xlabel('Episode')\n",
    "plt.ylabel('Total rewards')"
   ]
  },
  {
   "cell_type": "code",
   "execution_count": 26,
   "metadata": {},
   "outputs": [
    {
     "data": {
      "text/plain": [
       "Text(0, 0.5, 'Total rewards')"
      ]
     },
     "execution_count": 26,
     "metadata": {},
     "output_type": "execute_result"
    },
    {
     "data": {
      "image/png": "[encoded data removed]",
      "text/plain": [
       "<Figure size 432x288 with 1 Axes>"
      ]
     },
     "metadata": {
      "needs_background": "light"
     },
     "output_type": "display_data"
    }
   ],
   "source": [
    "eps, arr = np.array(episode_rewards_list).T\n",
    "smoothed_arr = running_mean(arr, 10)\n",
    "plt.plot(eps[-len(smoothed_arr):], smoothed_arr)\n",
    "plt.plot(eps, arr, color='grey', alpha=0.3)\n",
    "plt.xlabel('Episode')\n",
    "plt.ylabel('Total rewards')"
   ]
  },
  {
   "cell_type": "code",
   "execution_count": 16,
   "metadata": {},
   "outputs": [
    {
     "data": {
      "text/plain": [
       "Text(0, 0.5, 'Total rewards')"
      ]
     },
     "execution_count": 16,
     "metadata": {},
     "output_type": "execute_result"
    },
    {
     "data": {
      "image/png": "[encoded data removed]",
      "text/plain": [
       "<Figure size 432x288 with 1 Axes>"
      ]
     },
     "metadata": {
      "needs_background": "light"
     },
     "output_type": "display_data"
    }
   ],
   "source": [
    "eps, arr = np.array(episode_rewards_list).T\n",
    "smoothed_arr = running_mean(arr, 10)\n",
    "plt.plot(eps[-len(smoothed_arr):], smoothed_arr)\n",
    "plt.plot(eps, arr, color='grey', alpha=0.3)\n",
    "plt.xlabel('Episode')\n",
    "plt.ylabel('Total rewards')"
   ]
  },
  {
   "cell_type": "code",
   "execution_count": 21,
   "metadata": {},
   "outputs": [
    {
     "data": {
      "text/plain": [
       "Text(0, 0.5, 'Total rewards')"
      ]
     },
     "execution_count": 21,
     "metadata": {},
     "output_type": "execute_result"
    },
    {
     "data": {
      "image/png": "[encoded data removed]",
      "text/plain": [
       "<Figure size 432x288 with 1 Axes>"
      ]
     },
     "metadata": {
      "needs_background": "light"
     },
     "output_type": "display_data"
    }
   ],
   "source": [
    "eps, arr = np.array(episode_rewards_list).T\n",
    "smoothed_arr = running_mean(arr, 10)\n",
    "plt.plot(eps[-len(smoothed_arr):], smoothed_arr)\n",
    "plt.plot(eps, arr, color='grey', alpha=0.3)\n",
    "plt.xlabel('Episode')\n",
    "plt.ylabel('Total rewards')"
   ]
  },
  {
   "cell_type": "code",
   "execution_count": 62,
   "metadata": {},
   "outputs": [
    {
     "data": {
      "text/plain": [
       "Text(0,0.5,'Total rewards')"
      ]
     },
     "execution_count": 62,
     "metadata": {},
     "output_type": "execute_result"
    },
    {
     "data": {
      "image/png": "[encoded data removed]",
      "text/plain": [
       "<Figure size 432x288 with 1 Axes>"
      ]
     },
     "metadata": {},
     "output_type": "display_data"
    }
   ],
   "source": [
    "# eps, arr = np.array(episode_rewards_list).T\n",
    "# smoothed_arr = running_mean(arr, 10)\n",
    "# plt.plot(eps[-len(smoothed_arr):], smoothed_arr)\n",
    "# plt.plot(eps, arr, color='grey', alpha=0.3)\n",
    "# plt.xlabel('Episode')\n",
    "# plt.ylabel('Total rewards')"
   ]
  },
  {
   "cell_type": "code",
   "execution_count": 27,
   "metadata": {},
   "outputs": [
    {
     "data": {
      "text/plain": [
       "Text(0, 0.5, 'Total rewards')"
      ]
     },
     "execution_count": 27,
     "metadata": {},
     "output_type": "execute_result"
    },
    {
     "data": {
      "image/png": "[encoded data removed]",
      "text/plain": [
       "<Figure size 432x288 with 1 Axes>"
      ]
     },
     "metadata": {
      "needs_background": "light"
     },
     "output_type": "display_data"
    }
   ],
   "source": [
    "eps, arr = np.array(rewards_list).T\n",
    "smoothed_arr = running_mean(arr, 10)\n",
    "plt.plot(eps[-len(smoothed_arr):], smoothed_arr)\n",
    "plt.plot(eps, arr, color='grey', alpha=0.3)\n",
    "plt.xlabel('Episode')\n",
    "plt.ylabel('Total rewards')"
   ]
  },
  {
   "cell_type": "code",
   "execution_count": 17,
   "metadata": {},
   "outputs": [
    {
     "data": {
      "text/plain": [
       "Text(0, 0.5, 'Total rewards')"
      ]
     },
     "execution_count": 17,
     "metadata": {},
     "output_type": "execute_result"
    },
    {
     "data": {
      "image/png": "[encoded data removed]",
      "text/plain": [
       "<Figure size 432x288 with 1 Axes>"
      ]
     },
     "metadata": {
      "needs_background": "light"
     },
     "output_type": "display_data"
    }
   ],
   "source": [
    "eps, arr = np.array(rewards_list).T\n",
    "smoothed_arr = running_mean(arr, 10)\n",
    "plt.plot(eps[-len(smoothed_arr):], smoothed_arr)\n",
    "plt.plot(eps, arr, color='grey', alpha=0.3)\n",
    "plt.xlabel('Episode')\n",
    "plt.ylabel('Total rewards')"
   ]
  },
  {
   "cell_type": "code",
   "execution_count": 22,
   "metadata": {},
   "outputs": [
    {
     "data": {
      "text/plain": [
       "Text(0, 0.5, 'Total rewards')"
      ]
     },
     "execution_count": 22,
     "metadata": {},
     "output_type": "execute_result"
    },
    {
     "data": {
      "image/png": "[encoded data removed]",
      "text/plain": [
       "<Figure size 432x288 with 1 Axes>"
      ]
     },
     "metadata": {
      "needs_background": "light"
     },
     "output_type": "display_data"
    }
   ],
   "source": [
    "eps, arr = np.array(rewards_list).T\n",
    "smoothed_arr = running_mean(arr, 10)\n",
    "plt.plot(eps[-len(smoothed_arr):], smoothed_arr)\n",
    "plt.plot(eps, arr, color='grey', alpha=0.3)\n",
    "plt.xlabel('Episode')\n",
    "plt.ylabel('Total rewards')"
   ]
  },
  {
   "cell_type": "code",
   "execution_count": 63,
   "metadata": {},
   "outputs": [
    {
     "data": {
      "text/plain": [
       "Text(0,0.5,'Total rewards')"
      ]
     },
     "execution_count": 63,
     "metadata": {},
     "output_type": "execute_result"
    },
    {
     "data": {
      "image/png": "[encoded data removed]",
      "text/plain": [
       "<Figure size 432x288 with 1 Axes>"
      ]
     },
     "metadata": {},
     "output_type": "display_data"
    }
   ],
   "source": [
    "eps, arr = np.array(rewards_list).T\n",
    "smoothed_arr = running_mean(arr, 10)\n",
    "plt.plot(eps[-len(smoothed_arr):], smoothed_arr)\n",
    "plt.plot(eps, arr, color='grey', alpha=0.3)\n",
    "plt.xlabel('Episode')\n",
    "plt.ylabel('Total rewards')"
   ]
  },
  {
   "cell_type": "code",
   "execution_count": null,
   "metadata": {},
   "outputs": [],
   "source": [
    "eps, arr = np.array(gloss_list).T\n",
    "smoothed_arr = running_mean(arr, 10)\n",
    "plt.plot(eps[-len(smoothed_arr):], smoothed_arr)\n",
    "plt.plot(eps, arr, color='grey', alpha=0.3)\n",
    "plt.xlabel('Episode')\n",
    "plt.ylabel('G losses')`"
   ]
  },
  {
   "cell_type": "code",
   "execution_count": null,
   "metadata": {},
   "outputs": [],
   "source": [
    "eps, arr = np.array(dloss_list).T\n",
    "smoothed_arr = running_mean(arr, 10)\n",
    "plt.plot(eps[-len(smoothed_arr):], smoothed_arr)\n",
    "plt.plot(eps, arr, color='grey', alpha=0.3)\n",
    "plt.xlabel('Episode')\n",
    "plt.ylabel('D losses')"
   ]
  },
  {
   "cell_type": "markdown",
   "metadata": {},
   "source": [
    "## Testing\n",
    "\n",
    "Let's checkout how our trained agent plays the game."
   ]
  },
  {
   "cell_type": "code",
   "execution_count": 36,
   "metadata": {},
   "outputs": [
    {
     "name": "stdout",
     "output_type": "stream",
     "text": [
      "\u001b[33mWARN: gym.spaces.Box autodetected dtype as <class 'numpy.float32'>. Please provide explicit dtype.\u001b[0m\n",
      "\u001b[33mWARN: gym.spaces.Box autodetected dtype as <class 'numpy.float32'>. Please provide explicit dtype.\u001b[0m\n",
      "INFO:tensorflow:Restoring parameters from checkpoints/model.ckpt\n"
     ]
    },
    {
     "name": "stderr",
     "output_type": "stream",
     "text": [
      "/home/arasdar/anaconda3/envs/env/lib/python3.6/site-packages/gym/__init__.py:22: UserWarning: DEPRECATION WARNING: to improve load times, gym no longer automatically loads gym.spaces. Please run \"import gym.spaces\" to load gym.spaces on your own. This warning will turn into an error in a future version of gym.\n",
      "  warnings.warn('DEPRECATION WARNING: to improve load times, gym no longer automatically loads gym.spaces. Please run \"import gym.spaces\" to load gym.spaces on your own. This warning will turn into an error in a future version of gym.')\n"
     ]
    },
    {
     "name": "stdout",
     "output_type": "stream",
     "text": [
      "total_reward: 500.0\n"
     ]
    }
   ],
   "source": [
    "import gym\n",
    "env = gym.make('CartPole-v0')\n",
    "env = gym.make('CartPole-v1')\n",
    "# env = gym.make('Acrobot-v1')\n",
    "# env = gym.make('MountainCar-v0')\n",
    "# env = gym.make('Pendulum-v0')\n",
    "# env = gym.make('Blackjack-v0')\n",
    "# env = gym.make('FrozenLake-v0')\n",
    "# env = gym.make('AirRaid-ram-v0')\n",
    "# env = gym.make('AirRaid-v0')\n",
    "# env = gym.make('BipedalWalker-v2')\n",
    "# env = gym.make('Copy-v0')\n",
    "# env = gym.make('CarRacing-v0')\n",
    "# env = gym.make('Ant-v2') #mujoco\n",
    "# env = gym.make('FetchPickAndPlace-v1') # mujoco required!\n",
    "\n",
    "with tf.Session() as sess:\n",
    "    sess.run(tf.global_variables_initializer())\n",
    "    saver.restore(sess, 'checkpoints/model.ckpt')    \n",
    "    #saver.restore(sess, tf.train.latest_checkpoint('checkpoints'))\n",
    "    \n",
    "    # Episodes/epochs\n",
    "    for _ in range(1):\n",
    "        state = env.reset()\n",
    "        total_reward = 0\n",
    "\n",
    "        # Steps/batches\n",
    "        while True:\n",
    "            env.render()\n",
    "            action_logits = sess.run(model.actions_logits, feed_dict={model.states: state.reshape([1, -1])})\n",
    "            action = np.argmax(action_logits)\n",
    "            state, reward, done, _ = env.step(action)\n",
    "            total_reward += reward\n",
    "            if done:\n",
    "                print('total_reward: {}'.format(total_reward))\n",
    "                break\n",
    "                \n",
    "env.close()"
   ]
  },
  {
   "cell_type": "markdown",
   "metadata": {},
   "source": [
    "## Extending this\n",
    "\n",
    "So, Cart-Pole is a pretty simple game. However, the same model can be used to train an agent to play something much more complicated like Pong or Space Invaders. Instead of a state like we're using here though, you'd want to use convolutional layers to get the state from the screen images.\n",
    "\n",
    "![Deep Q-Learning Atari](assets/atari-network.png)\n",
    "\n",
    "I'll leave it as a challenge for you to use deep Q-learning to train an agent to play Atari games. Here's the original paper which will get you started: http://www.davidqiu.com:8888/research/nature14236.pdf."
   ]
  },
  {
   "cell_type": "code",
   "execution_count": null,
   "metadata": {},
   "outputs": [],
   "source": []
  }
 ],
 "metadata": {
  "kernelspec": {
   "display_name": "Python 3",
   "language": "python",
   "name": "python3"
  },
  "language_info": {
   "codemirror_mode": {
    "name": "ipython",
    "version": 3
   },
   "file_extension": ".py",
   "mimetype": "text/x-python",
   "name": "python",
   "nbconvert_exporter": "python",
   "pygments_lexer": "ipython3",
   "version": "3.6.6"
  }
 },
 "nbformat": 4,
 "nbformat_minor": 2
}
