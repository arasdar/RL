{
 "cells": [
  {
   "cell_type": "code",
   "execution_count": 1,
   "metadata": {},
   "outputs": [
    {
     "name": "stdout",
     "output_type": "stream",
     "text": [
      "TensorFlow Version: 1.7.1\n",
      "Default GPU Device: \n"
     ]
    }
   ],
   "source": [
    "# In this one we should define and detect GPUs for tensorflow\n",
    "# GPUs or CPU\n",
    "import tensorflow as tf\n",
    "\n",
    "# Check TensorFlow Version\n",
    "print('TensorFlow Version: {}'.format(tf.__version__))\n",
    "\n",
    "# Check for a GPU\n",
    "print('Default GPU Device: {}'.format(tf.test.gpu_device_name()))"
   ]
  },
  {
   "cell_type": "markdown",
   "metadata": {},
   "source": [
    "##### >**Note:** Make sure you have OpenAI Gym cloned. Then run this command `pip install -e gym/[all]`."
   ]
  },
  {
   "cell_type": "code",
   "execution_count": 2,
   "metadata": {},
   "outputs": [],
   "source": [
    "import numpy as np\n",
    "import gym\n",
    "env = gym.make('CartPole-v0')\n",
    "env = gym.make('CartPole-v1')"
   ]
  },
  {
   "cell_type": "code",
   "execution_count": 3,
   "metadata": {},
   "outputs": [],
   "source": [
    "def model_input(state_size):\n",
    "    #states = tf.placeholder(tf.float32, [None, *state_size], name='states')\n",
    "    states = tf.placeholder(tf.float32, [None, state_size], name='states')\n",
    "    actions = tf.placeholder(tf.int32, [None], name='actions')\n",
    "    targetQs = tf.placeholder(tf.float32, [None], name='targetQs')\n",
    "    rates = tf.placeholder(tf.float32, [None], name='rates')\n",
    "    return states, actions, targetQs, rates"
   ]
  },
  {
   "cell_type": "code",
   "execution_count": 4,
   "metadata": {},
   "outputs": [],
   "source": [
    "# Generator/Controller: Generating/prediting the actions\n",
    "def generator(states, action_size, hidden_size, reuse=False, alpha=0.1, training=False):\n",
    "    with tf.variable_scope('generator', reuse=reuse):\n",
    "        # First fully connected layer\n",
    "        h1 = tf.layers.dense(inputs=states, units=hidden_size)\n",
    "        bn1 = tf.layers.batch_normalization(h1, training=training)        \n",
    "        nl1 = tf.maximum(alpha * bn1, bn1)\n",
    "        \n",
    "        # Second fully connected layer\n",
    "        h2 = tf.layers.dense(inputs=nl1, units=hidden_size)\n",
    "        bn2 = tf.layers.batch_normalization(h2, training=training)        \n",
    "        nl2 = tf.maximum(alpha * bn2, bn2)\n",
    "        \n",
    "        # Output layer\n",
    "        logits = tf.layers.dense(inputs=nl2, units=action_size)        \n",
    "        #predictions = tf.nn.softmax(logits)\n",
    "\n",
    "        # return actions logits\n",
    "        return logits"
   ]
  },
  {
   "cell_type": "code",
   "execution_count": 5,
   "metadata": {},
   "outputs": [],
   "source": [
    "def discriminator(states, actions, hidden_size, reuse=False, alpha=0.1, training=False):\n",
    "    with tf.variable_scope('discriminator', reuse=reuse):\n",
    "        # First fully connected layer\n",
    "        h1 = tf.layers.dense(inputs=states, units=action_size)\n",
    "        bn1 = tf.layers.batch_normalization(h1, training=training)        \n",
    "        nl1 = tf.maximum(alpha * bn1, bn1)\n",
    "        \n",
    "        # Second fully connected layer\n",
    "        nl1_fused = tf.concat(axis=1, values=[nl1, actions])\n",
    "        h2 = tf.layers.dense(inputs=nl1_fused, units=hidden_size)\n",
    "        bn2 = tf.layers.batch_normalization(h2, training=training)        \n",
    "        nl2 = tf.maximum(alpha * bn2, bn2)\n",
    "                \n",
    "        # Output layer\n",
    "        logits = tf.layers.dense(inputs=nl2, units=1)        \n",
    "        #predictions = tf.nn.softmax(logits)\n",
    "\n",
    "        # return rewards logits\n",
    "        return logits"
   ]
  },
  {
   "cell_type": "code",
   "execution_count": 6,
   "metadata": {},
   "outputs": [],
   "source": [
    "def model_loss(action_size, hidden_size, states, actions, targetQs, rates):\n",
    "    actions_logits = generator(states=states, hidden_size=hidden_size, action_size=action_size)\n",
    "    actions_labels = tf.one_hot(indices=actions, depth=action_size, dtype=actions_logits.dtype)\n",
    "    neg_log_prob = tf.nn.softmax_cross_entropy_with_logits_v2(logits=actions_logits, \n",
    "                                                              labels=actions_labels)\n",
    "    targetQs = tf.reshape(targetQs, shape=[-1, 1])\n",
    "    gloss = tf.reduce_mean(neg_log_prob * targetQs) # DPG\n",
    "    gQs = discriminator(actions=actions_logits, hidden_size=hidden_size, states=states)\n",
    "    dQs = discriminator(actions=actions_labels, hidden_size=hidden_size, states=states, reuse=True)\n",
    "    rates = tf.reshape(rates, shape=[-1, 1])\n",
    "    dloss = tf.reduce_mean(tf.nn.sigmoid_cross_entropy_with_logits(logits=dQs, # GAN\n",
    "                                                                   labels=rates)) # 0-1\n",
    "    dloss += tf.reduce_mean(tf.nn.sigmoid_cross_entropy_with_logits(logits=dQs, # GAN\n",
    "                                                                    labels=tf.nn.sigmoid(targetQs))) # 0-1\n",
    "    glossQ = tf.reduce_mean(tf.square(gQs - targetQs)) # DQN\n",
    "    dlossQ = tf.reduce_mean(tf.square(dQs - targetQs)) # DQN\n",
    "    return actions_logits, gQs, gloss, dloss, glossQ, dlossQ"
   ]
  },
  {
   "cell_type": "code",
   "execution_count": 7,
   "metadata": {},
   "outputs": [],
   "source": [
    "# Optimizating/training/learning G & D\n",
    "def model_opt(g_loss, d_loss, g_learning_rate, d_learning_rate):\n",
    "    # Get weights and bias to update\n",
    "    t_vars = tf.trainable_variables()\n",
    "    g_vars = [var for var in t_vars if var.name.startswith('generator')]\n",
    "    d_vars = [var for var in t_vars if var.name.startswith('discriminator')]\n",
    "\n",
    "    # Optimize\n",
    "    with tf.control_dependencies(tf.get_collection(tf.GraphKeys.UPDATE_OPS)): # Required for batchnorm (BN)\n",
    "        g_opt = tf.train.AdamOptimizer(g_learning_rate).minimize(g_loss, var_list=g_vars)\n",
    "        d_opt = tf.train.AdamOptimizer(d_learning_rate).minimize(d_loss, var_list=d_vars)\n",
    "    return g_opt, d_opt"
   ]
  },
  {
   "cell_type": "code",
   "execution_count": 8,
   "metadata": {},
   "outputs": [],
   "source": [
    "class Model:\n",
    "    def __init__(self, state_size, action_size, hidden_size, g_learning_rate, d_learning_rate):\n",
    "\n",
    "        # Data of the Model: make the data available inside the framework\n",
    "        self.states, self.actions, self.targetQs, self.rates = model_input(state_size=state_size)\n",
    "\n",
    "        # Create the Model: calculating the loss and forwad pass\n",
    "        self.actions_logits, self.Qs_logits, self.g_loss, self.d_loss, self.g_lossQ, self.d_lossQ = model_loss(\n",
    "            action_size=action_size, hidden_size=hidden_size, # model init parameters\n",
    "            states=self.states, actions=self.actions, targetQs=self.targetQs, rates=self.rates) # model input\n",
    "        \n",
    "        # Update the model: backward pass and backprop\n",
    "        self.g_opt, self.d_opt = model_opt(g_loss=self.g_loss, d_loss=self.d_loss,\n",
    "                                           g_learning_rate=g_learning_rate, \n",
    "                                           d_learning_rate=d_learning_rate)"
   ]
  },
  {
   "cell_type": "code",
   "execution_count": 9,
   "metadata": {},
   "outputs": [],
   "source": [
    "from collections import deque\n",
    "class Memory():\n",
    "    def __init__(self, max_size = 1000):\n",
    "        self.buffer = deque(maxlen=max_size) # data batch\n",
    "        self.rates = deque(maxlen=max_size) # rates\n",
    "#     def sample(self, batch_size):\n",
    "#         idx = np.random.choice(np.arange(len(self.buffer)), # ==  self.rates\n",
    "#                                size=batch_size, \n",
    "#                                replace=False)\n",
    "#         return [self.buffer[ii] for ii in idx], [self.rates[ii] for ii in idx]"
   ]
  },
  {
   "cell_type": "markdown",
   "metadata": {},
   "source": [
    "## Hyperparameters\n",
    "\n",
    "One of the more difficult aspects of reinforcememt learning are the large number of hyperparameters. Not only are we tuning the network, but we're tuning the simulation."
   ]
  },
  {
   "cell_type": "code",
   "execution_count": 10,
   "metadata": {},
   "outputs": [
    {
     "data": {
      "text/plain": [
       "(Box(4,), Discrete(2))"
      ]
     },
     "execution_count": 10,
     "metadata": {},
     "output_type": "execute_result"
    }
   ],
   "source": [
    "env.observation_space, env.action_space"
   ]
  },
  {
   "cell_type": "code",
   "execution_count": 11,
   "metadata": {},
   "outputs": [],
   "source": [
    "# Exploration parameters\n",
    "explore_start = 1.0            # exploration probability at start\n",
    "explore_stop = 0.01           # minimum exploration probability \n",
    "decay_rate = 0.0001            # exponential decay rate for exploration prob\n",
    "\n",
    "# Network parameters\n",
    "state_size = 4\n",
    "action_size = 2\n",
    "hidden_size = 4*2             # number of units in each Q-network hidden layer\n",
    "g_learning_rate = 1e-4         # Q-network learning rate\n",
    "d_learning_rate = 1e-4         # Q-network learning rate\n",
    "\n",
    "# Memory parameters\n",
    "memory_size = int(1e5)            # memory capacity\n",
    "batch_size = int(1e3)             # experience mini-batch size: 200/500 a successfull episode size\n",
    "gamma = 0.99                   # future reward discount"
   ]
  },
  {
   "cell_type": "code",
   "execution_count": 12,
   "metadata": {},
   "outputs": [],
   "source": [
    "# Reset/init the graph/session\n",
    "graph = tf.reset_default_graph()\n",
    "\n",
    "# Init the model\n",
    "model = Model(action_size=action_size, state_size=state_size, hidden_size=hidden_size,\n",
    "              g_learning_rate=g_learning_rate, d_learning_rate=d_learning_rate)\n",
    "\n",
    "# Init the memory\n",
    "memory = Memory(max_size=memory_size)"
   ]
  },
  {
   "cell_type": "code",
   "execution_count": 13,
   "metadata": {},
   "outputs": [],
   "source": [
    "state = env.reset()\n",
    "total_reward = 0\n",
    "num_step = 0\n",
    "for _ in range(memory_size):\n",
    "    action = env.action_space.sample()\n",
    "    next_state, reward, done, _ = env.step(action)\n",
    "    memory.buffer.append([state, action, next_state, reward, float(done)])\n",
    "    memory.rates.append(-1) # empty\n",
    "    num_step += 1 # memory incremented\n",
    "    total_reward += reward\n",
    "    state = next_state\n",
    "    if done is True:\n",
    "        state = env.reset()\n",
    "        rate = total_reward/500\n",
    "        total_reward = 0 # reset\n",
    "        for idx in range(num_step): # episode length\n",
    "            if memory.rates[-1-idx] == -1:\n",
    "                memory.rates[-1-idx] = rate\n",
    "        num_step = 0 # reset"
   ]
  },
  {
   "cell_type": "markdown",
   "metadata": {},
   "source": [
    "## Training the model\n",
    "\n",
    "Below we'll train our agent. If you want to watch it train, uncomment the `env.render()` line. This is slow because it's rendering the frames slower than the network can train. But, it's cool to watch the agent get better at the game."
   ]
  },
  {
   "cell_type": "code",
   "execution_count": null,
   "metadata": {},
   "outputs": [
    {
     "name": "stdout",
     "output_type": "stream",
     "text": [
      "Episode:0 meanR:16.0000 R:16.0000 rate:0.0320 gloss:0.7352 dloss:1.4144 glossQ:1.0032 dlossQ:0.9291 exploreP:0.9984\n",
      "Episode:1 meanR:22.5000 R:29.0000 rate:0.0580 gloss:0.7639 dloss:1.4147 glossQ:1.0050 dlossQ:1.0407 exploreP:0.9956\n",
      "Episode:2 meanR:22.0000 R:21.0000 rate:0.0420 gloss:0.7114 dloss:1.4101 glossQ:1.0038 dlossQ:0.9391 exploreP:0.9935\n",
      "Episode:3 meanR:21.2500 R:19.0000 rate:0.0380 gloss:0.7119 dloss:1.4072 glossQ:1.0200 dlossQ:1.0015 exploreP:0.9916\n",
      "Episode:4 meanR:25.6000 R:43.0000 rate:0.0860 gloss:0.7031 dloss:1.4031 glossQ:1.0058 dlossQ:1.0041 exploreP:0.9874\n",
      "Episode:5 meanR:24.0000 R:16.0000 rate:0.0320 gloss:0.7242 dloss:1.4008 glossQ:1.0069 dlossQ:1.1000 exploreP:0.9858\n",
      "Episode:6 meanR:22.1429 R:11.0000 rate:0.0220 gloss:0.6856 dloss:1.3966 glossQ:1.0046 dlossQ:0.9754 exploreP:0.9848\n",
      "Episode:7 meanR:22.8750 R:28.0000 rate:0.0560 gloss:0.6996 dloss:1.3972 glossQ:1.0113 dlossQ:1.0955 exploreP:0.9820\n",
      "Episode:8 meanR:24.3333 R:36.0000 rate:0.0720 gloss:0.6877 dloss:1.3936 glossQ:1.0076 dlossQ:1.0783 exploreP:0.9786\n",
      "Episode:9 meanR:23.1000 R:12.0000 rate:0.0240 gloss:0.6540 dloss:1.3886 glossQ:1.0065 dlossQ:0.9880 exploreP:0.9774\n",
      "Episode:10 meanR:24.0000 R:33.0000 rate:0.0660 gloss:0.6640 dloss:1.3879 glossQ:1.0076 dlossQ:1.0591 exploreP:0.9742\n",
      "Episode:11 meanR:24.2500 R:27.0000 rate:0.0540 gloss:0.6705 dloss:1.3883 glossQ:1.0084 dlossQ:1.1374 exploreP:0.9716\n",
      "Episode:12 meanR:26.7692 R:57.0000 rate:0.1140 gloss:0.6308 dloss:1.3799 glossQ:1.0092 dlossQ:1.0646 exploreP:0.9661\n",
      "Episode:13 meanR:26.6429 R:25.0000 rate:0.0500 gloss:0.6206 dloss:1.3784 glossQ:1.0112 dlossQ:1.1009 exploreP:0.9638\n",
      "Episode:14 meanR:26.0667 R:18.0000 rate:0.0360 gloss:0.6237 dloss:1.3796 glossQ:1.0018 dlossQ:1.1559 exploreP:0.9620\n",
      "Episode:15 meanR:26.3750 R:31.0000 rate:0.0620 gloss:0.6105 dloss:1.3753 glossQ:1.0110 dlossQ:1.1214 exploreP:0.9591\n",
      "Episode:16 meanR:25.8824 R:18.0000 rate:0.0360 gloss:0.6032 dloss:1.3737 glossQ:1.0115 dlossQ:1.1229 exploreP:0.9574\n",
      "Episode:17 meanR:26.0000 R:28.0000 rate:0.0560 gloss:0.5939 dloss:1.3695 glossQ:1.0110 dlossQ:1.0965 exploreP:0.9547\n",
      "Episode:18 meanR:26.0000 R:26.0000 rate:0.0520 gloss:0.5939 dloss:1.3716 glossQ:1.0116 dlossQ:1.1295 exploreP:0.9523\n",
      "Episode:19 meanR:26.0000 R:26.0000 rate:0.0520 gloss:0.5972 dloss:1.3678 glossQ:1.0120 dlossQ:1.1462 exploreP:0.9498\n",
      "Episode:20 meanR:25.6667 R:19.0000 rate:0.0380 gloss:0.6228 dloss:1.3718 glossQ:1.0104 dlossQ:1.2417 exploreP:0.9481\n",
      "Episode:21 meanR:25.0455 R:12.0000 rate:0.0240 gloss:0.5813 dloss:1.3696 glossQ:1.0133 dlossQ:1.1734 exploreP:0.9469\n",
      "Episode:22 meanR:24.6957 R:17.0000 rate:0.0340 gloss:0.5880 dloss:1.3660 glossQ:1.0132 dlossQ:1.1795 exploreP:0.9453\n",
      "Episode:23 meanR:24.8750 R:29.0000 rate:0.0580 gloss:0.5605 dloss:1.3662 glossQ:1.0133 dlossQ:1.1279 exploreP:0.9426\n",
      "Episode:24 meanR:24.6400 R:19.0000 rate:0.0380 gloss:0.5710 dloss:1.3678 glossQ:1.0132 dlossQ:1.1657 exploreP:0.9409\n",
      "Episode:25 meanR:24.2692 R:15.0000 rate:0.0300 gloss:0.5445 dloss:1.3603 glossQ:1.0146 dlossQ:1.1188 exploreP:0.9395\n",
      "Episode:26 meanR:23.8519 R:13.0000 rate:0.0260 gloss:0.5462 dloss:1.3594 glossQ:1.0117 dlossQ:1.1178 exploreP:0.9383\n",
      "Episode:27 meanR:23.6071 R:17.0000 rate:0.0340 gloss:0.5470 dloss:1.3594 glossQ:1.0145 dlossQ:1.1331 exploreP:0.9367\n",
      "Episode:28 meanR:24.2759 R:43.0000 rate:0.0860 gloss:0.5497 dloss:1.3596 glossQ:1.0156 dlossQ:1.1766 exploreP:0.9327\n",
      "Episode:29 meanR:24.0333 R:17.0000 rate:0.0340 gloss:0.5523 dloss:1.3591 glossQ:1.0151 dlossQ:1.2204 exploreP:0.9311\n",
      "Episode:30 meanR:23.6129 R:11.0000 rate:0.0220 gloss:0.5343 dloss:1.3623 glossQ:1.0137 dlossQ:1.1462 exploreP:0.9301\n",
      "Episode:31 meanR:23.7188 R:27.0000 rate:0.0540 gloss:0.5418 dloss:1.3573 glossQ:1.0155 dlossQ:1.1990 exploreP:0.9276\n",
      "Episode:32 meanR:23.6364 R:21.0000 rate:0.0420 gloss:0.5303 dloss:1.3541 glossQ:1.0156 dlossQ:1.1667 exploreP:0.9257\n",
      "Episode:33 meanR:23.3235 R:13.0000 rate:0.0260 gloss:0.5468 dloss:1.3549 glossQ:1.0179 dlossQ:1.2704 exploreP:0.9245\n",
      "Episode:34 meanR:23.2857 R:22.0000 rate:0.0440 gloss:0.5236 dloss:1.3550 glossQ:1.0157 dlossQ:1.2019 exploreP:0.9225\n",
      "Episode:35 meanR:23.0556 R:15.0000 rate:0.0300 gloss:0.5397 dloss:1.3566 glossQ:1.0166 dlossQ:1.2605 exploreP:0.9211\n",
      "Episode:36 meanR:23.1081 R:25.0000 rate:0.0500 gloss:0.5271 dloss:1.3547 glossQ:1.0153 dlossQ:1.2208 exploreP:0.9189\n",
      "Episode:37 meanR:22.7895 R:11.0000 rate:0.0220 gloss:0.5198 dloss:1.3542 glossQ:1.0164 dlossQ:1.1934 exploreP:0.9179\n",
      "Episode:38 meanR:22.8462 R:25.0000 rate:0.0500 gloss:0.5220 dloss:1.3563 glossQ:1.0167 dlossQ:1.2320 exploreP:0.9156\n",
      "Episode:39 meanR:23.1000 R:33.0000 rate:0.0660 gloss:0.5224 dloss:1.3519 glossQ:1.0168 dlossQ:1.2335 exploreP:0.9126\n",
      "Episode:40 meanR:23.0976 R:23.0000 rate:0.0460 gloss:0.5086 dloss:1.3541 glossQ:1.0148 dlossQ:1.1886 exploreP:0.9105\n",
      "Episode:41 meanR:23.5714 R:43.0000 rate:0.0860 gloss:0.5112 dloss:1.3508 glossQ:1.0174 dlossQ:1.2286 exploreP:0.9067\n",
      "Episode:42 meanR:23.8140 R:34.0000 rate:0.0680 gloss:0.5077 dloss:1.3489 glossQ:1.0171 dlossQ:1.2118 exploreP:0.9036\n",
      "Episode:43 meanR:23.5000 R:10.0000 rate:0.0200 gloss:0.4845 dloss:1.3462 glossQ:1.0597 dlossQ:1.2783 exploreP:0.9027\n",
      "Episode:44 meanR:23.4667 R:22.0000 rate:0.0440 gloss:0.5061 dloss:1.3546 glossQ:1.0170 dlossQ:1.2557 exploreP:0.9008\n",
      "Episode:45 meanR:23.3913 R:20.0000 rate:0.0400 gloss:0.4936 dloss:1.3498 glossQ:1.0157 dlossQ:1.2148 exploreP:0.8990\n",
      "Episode:46 meanR:23.2340 R:16.0000 rate:0.0320 gloss:0.4981 dloss:1.3525 glossQ:1.0175 dlossQ:1.2380 exploreP:0.8976\n",
      "Episode:47 meanR:23.9167 R:56.0000 rate:0.1120 gloss:0.4986 dloss:1.3508 glossQ:1.0175 dlossQ:1.2331 exploreP:0.8926\n",
      "Episode:48 meanR:23.8367 R:20.0000 rate:0.0400 gloss:0.5076 dloss:1.3495 glossQ:1.0168 dlossQ:1.2630 exploreP:0.8909\n",
      "Episode:49 meanR:23.5600 R:10.0000 rate:0.0200 gloss:0.4980 dloss:1.3447 glossQ:1.0182 dlossQ:1.2318 exploreP:0.8900\n",
      "Episode:50 meanR:23.7059 R:31.0000 rate:0.0620 gloss:0.4961 dloss:1.3533 glossQ:1.0166 dlossQ:1.2299 exploreP:0.8873\n",
      "Episode:51 meanR:23.7115 R:24.0000 rate:0.0480 gloss:0.5010 dloss:1.3523 glossQ:1.0184 dlossQ:1.2684 exploreP:0.8852\n",
      "Episode:52 meanR:24.6792 R:75.0000 rate:0.1500 gloss:0.4942 dloss:1.3484 glossQ:1.0178 dlossQ:1.2401 exploreP:0.8786\n",
      "Episode:53 meanR:24.5000 R:15.0000 rate:0.0300 gloss:0.4918 dloss:1.3494 glossQ:1.0168 dlossQ:1.2229 exploreP:0.8773\n",
      "Episode:54 meanR:24.5455 R:27.0000 rate:0.0540 gloss:0.4860 dloss:1.3486 glossQ:1.0174 dlossQ:1.2362 exploreP:0.8750\n",
      "Episode:55 meanR:24.4464 R:19.0000 rate:0.0380 gloss:0.4869 dloss:1.3455 glossQ:1.0221 dlossQ:1.2725 exploreP:0.8733\n",
      "Episode:56 meanR:24.4912 R:27.0000 rate:0.0540 gloss:0.4825 dloss:1.3480 glossQ:1.0180 dlossQ:1.2463 exploreP:0.8710\n",
      "Episode:57 meanR:24.4655 R:23.0000 rate:0.0460 gloss:0.4831 dloss:1.3500 glossQ:1.0171 dlossQ:1.2540 exploreP:0.8690\n",
      "Episode:58 meanR:24.5763 R:31.0000 rate:0.0620 gloss:0.4868 dloss:1.3459 glossQ:1.0176 dlossQ:1.2408 exploreP:0.8664\n",
      "Episode:59 meanR:24.8333 R:40.0000 rate:0.0800 gloss:0.4865 dloss:1.3508 glossQ:1.0185 dlossQ:1.2828 exploreP:0.8630\n",
      "Episode:60 meanR:24.7049 R:17.0000 rate:0.0340 gloss:0.4832 dloss:1.3525 glossQ:1.0177 dlossQ:1.2274 exploreP:0.8615\n",
      "Episode:61 meanR:25.0161 R:44.0000 rate:0.0880 gloss:0.4860 dloss:1.3452 glossQ:1.0181 dlossQ:1.2478 exploreP:0.8578\n",
      "Episode:62 meanR:25.0317 R:26.0000 rate:0.0520 gloss:0.4826 dloss:1.3449 glossQ:1.0186 dlossQ:1.2460 exploreP:0.8556\n",
      "Episode:63 meanR:24.9531 R:20.0000 rate:0.0400 gloss:0.4882 dloss:1.3509 glossQ:1.0190 dlossQ:1.2600 exploreP:0.8539\n",
      "Episode:64 meanR:25.2308 R:43.0000 rate:0.0860 gloss:0.4798 dloss:1.3446 glossQ:1.0192 dlossQ:1.2224 exploreP:0.8503\n",
      "Episode:65 meanR:25.6667 R:54.0000 rate:0.1080 gloss:0.4791 dloss:1.3475 glossQ:1.0208 dlossQ:1.2490 exploreP:0.8457\n",
      "Episode:66 meanR:25.6119 R:22.0000 rate:0.0440 gloss:0.4783 dloss:1.3426 glossQ:1.0195 dlossQ:1.2496 exploreP:0.8439\n",
      "Episode:67 meanR:26.1912 R:65.0000 rate:0.1300 gloss:0.4803 dloss:1.3482 glossQ:1.0173 dlossQ:1.2392 exploreP:0.8385\n",
      "Episode:68 meanR:26.7826 R:67.0000 rate:0.1340 gloss:0.4817 dloss:1.3467 glossQ:1.0220 dlossQ:1.2441 exploreP:0.8330\n",
      "Episode:69 meanR:26.8429 R:31.0000 rate:0.0620 gloss:0.4780 dloss:1.3426 glossQ:1.0189 dlossQ:1.2481 exploreP:0.8304\n",
      "Episode:70 meanR:26.9014 R:31.0000 rate:0.0620 gloss:0.4729 dloss:1.3440 glossQ:1.0263 dlossQ:1.2424 exploreP:0.8279\n"
     ]
    },
    {
     "name": "stdout",
     "output_type": "stream",
     "text": [
      "Episode:71 meanR:26.9861 R:33.0000 rate:0.0660 gloss:0.4797 dloss:1.3449 glossQ:1.0196 dlossQ:1.2615 exploreP:0.8252\n",
      "Episode:72 meanR:26.8356 R:16.0000 rate:0.0320 gloss:0.4712 dloss:1.3471 glossQ:1.0182 dlossQ:1.2327 exploreP:0.8239\n",
      "Episode:73 meanR:26.8649 R:29.0000 rate:0.0580 gloss:0.4766 dloss:1.3509 glossQ:1.0175 dlossQ:1.2466 exploreP:0.8215\n",
      "Episode:74 meanR:27.1200 R:46.0000 rate:0.0920 gloss:0.4748 dloss:1.3462 glossQ:1.0181 dlossQ:1.2355 exploreP:0.8178\n",
      "Episode:75 meanR:27.2368 R:36.0000 rate:0.0720 gloss:0.4725 dloss:1.3480 glossQ:1.0187 dlossQ:1.2474 exploreP:0.8149\n",
      "Episode:76 meanR:27.0649 R:14.0000 rate:0.0280 gloss:0.4721 dloss:1.3435 glossQ:1.0187 dlossQ:1.2578 exploreP:0.8138\n",
      "Episode:77 meanR:27.0769 R:28.0000 rate:0.0560 gloss:0.4754 dloss:1.3441 glossQ:1.0202 dlossQ:1.2406 exploreP:0.8115\n",
      "Episode:78 meanR:26.8608 R:10.0000 rate:0.0200 gloss:0.4703 dloss:1.3495 glossQ:1.0179 dlossQ:1.2232 exploreP:0.8107\n",
      "Episode:79 meanR:26.6875 R:13.0000 rate:0.0260 gloss:0.4833 dloss:1.3406 glossQ:1.0260 dlossQ:1.2614 exploreP:0.8097\n",
      "Episode:80 meanR:26.7284 R:30.0000 rate:0.0600 gloss:0.4777 dloss:1.3487 glossQ:1.0176 dlossQ:1.2345 exploreP:0.8073\n",
      "Episode:81 meanR:27.1098 R:58.0000 rate:0.1160 gloss:0.4754 dloss:1.3475 glossQ:1.0187 dlossQ:1.2364 exploreP:0.8027\n",
      "Episode:82 meanR:27.0120 R:19.0000 rate:0.0380 gloss:0.4740 dloss:1.3458 glossQ:1.0193 dlossQ:1.2225 exploreP:0.8012\n",
      "Episode:83 meanR:27.0357 R:29.0000 rate:0.0580 gloss:0.4749 dloss:1.3419 glossQ:1.0192 dlossQ:1.2440 exploreP:0.7989\n",
      "Episode:84 meanR:27.1294 R:35.0000 rate:0.0700 gloss:0.4705 dloss:1.3412 glossQ:1.0189 dlossQ:1.2274 exploreP:0.7961\n",
      "Episode:85 meanR:28.2442 R:123.0000 rate:0.2460 gloss:0.4694 dloss:1.3448 glossQ:1.0193 dlossQ:1.2430 exploreP:0.7865\n",
      "Episode:86 meanR:28.1954 R:24.0000 rate:0.0480 gloss:0.4716 dloss:1.3429 glossQ:1.0190 dlossQ:1.2459 exploreP:0.7846\n",
      "Episode:87 meanR:28.0568 R:16.0000 rate:0.0320 gloss:0.4630 dloss:1.3478 glossQ:1.0185 dlossQ:1.2479 exploreP:0.7834\n",
      "Episode:88 meanR:28.9101 R:104.0000 rate:0.2080 gloss:0.4710 dloss:1.3449 glossQ:1.0185 dlossQ:1.2389 exploreP:0.7754\n",
      "Episode:89 meanR:28.9000 R:28.0000 rate:0.0560 gloss:0.4724 dloss:1.3432 glossQ:1.0242 dlossQ:1.2417 exploreP:0.7733\n",
      "Episode:90 meanR:28.8242 R:22.0000 rate:0.0440 gloss:0.4678 dloss:1.3425 glossQ:1.0186 dlossQ:1.2279 exploreP:0.7716\n",
      "Episode:91 meanR:28.7609 R:23.0000 rate:0.0460 gloss:0.4660 dloss:1.3447 glossQ:1.0187 dlossQ:1.2313 exploreP:0.7698\n",
      "Episode:92 meanR:28.6774 R:21.0000 rate:0.0420 gloss:0.4649 dloss:1.3401 glossQ:1.0201 dlossQ:1.2343 exploreP:0.7682\n",
      "Episode:93 meanR:28.6277 R:24.0000 rate:0.0480 gloss:0.4623 dloss:1.3400 glossQ:1.0189 dlossQ:1.2340 exploreP:0.7664\n",
      "Episode:94 meanR:28.8737 R:52.0000 rate:0.1040 gloss:0.4617 dloss:1.3454 glossQ:1.0195 dlossQ:1.2403 exploreP:0.7625\n",
      "Episode:95 meanR:29.5104 R:90.0000 rate:0.1800 gloss:0.4657 dloss:1.3456 glossQ:1.0180 dlossQ:1.2375 exploreP:0.7558\n",
      "Episode:96 meanR:29.9381 R:71.0000 rate:0.1420 gloss:0.4711 dloss:1.3417 glossQ:1.0227 dlossQ:1.2415 exploreP:0.7505\n",
      "Episode:97 meanR:30.7041 R:105.0000 rate:0.2100 gloss:0.4684 dloss:1.3461 glossQ:1.0186 dlossQ:1.2320 exploreP:0.7428\n",
      "Episode:98 meanR:30.7576 R:36.0000 rate:0.0720 gloss:0.4675 dloss:1.3448 glossQ:1.0183 dlossQ:1.2314 exploreP:0.7401\n",
      "Episode:99 meanR:30.8000 R:35.0000 rate:0.0700 gloss:0.4641 dloss:1.3451 glossQ:1.0180 dlossQ:1.2233 exploreP:0.7376\n",
      "Episode:100 meanR:31.1300 R:49.0000 rate:0.0980 gloss:0.4672 dloss:1.3439 glossQ:1.0206 dlossQ:1.2380 exploreP:0.7340\n",
      "Episode:101 meanR:31.3700 R:53.0000 rate:0.1060 gloss:0.4695 dloss:1.3460 glossQ:1.0186 dlossQ:1.2261 exploreP:0.7302\n",
      "Episode:102 meanR:31.3500 R:19.0000 rate:0.0380 gloss:0.5022 dloss:1.3413 glossQ:1.0536 dlossQ:1.2955 exploreP:0.7288\n",
      "Episode:103 meanR:31.8600 R:70.0000 rate:0.1400 gloss:0.4641 dloss:1.3473 glossQ:1.0177 dlossQ:1.2182 exploreP:0.7238\n",
      "Episode:104 meanR:32.1700 R:74.0000 rate:0.1480 gloss:0.4672 dloss:1.3430 glossQ:1.0196 dlossQ:1.2231 exploreP:0.7185\n",
      "Episode:105 meanR:32.2000 R:19.0000 rate:0.0380 gloss:0.4600 dloss:1.3460 glossQ:1.0181 dlossQ:1.2115 exploreP:0.7172\n",
      "Episode:106 meanR:32.2900 R:20.0000 rate:0.0400 gloss:0.4759 dloss:1.3478 glossQ:1.0233 dlossQ:1.2283 exploreP:0.7158\n",
      "Episode:107 meanR:32.6300 R:62.0000 rate:0.1240 gloss:0.4672 dloss:1.3455 glossQ:1.0176 dlossQ:1.2207 exploreP:0.7114\n",
      "Episode:108 meanR:32.7800 R:51.0000 rate:0.1020 gloss:0.4613 dloss:1.3423 glossQ:1.0187 dlossQ:1.2214 exploreP:0.7079\n",
      "Episode:109 meanR:32.9300 R:27.0000 rate:0.0540 gloss:0.4609 dloss:1.3413 glossQ:1.0197 dlossQ:1.2348 exploreP:0.7060\n",
      "Episode:110 meanR:32.8500 R:25.0000 rate:0.0500 gloss:0.4623 dloss:1.3442 glossQ:1.0191 dlossQ:1.2328 exploreP:0.7042\n",
      "Episode:111 meanR:33.0600 R:48.0000 rate:0.0960 gloss:0.4605 dloss:1.3427 glossQ:1.0188 dlossQ:1.2273 exploreP:0.7009\n",
      "Episode:112 meanR:32.6400 R:15.0000 rate:0.0300 gloss:0.4586 dloss:1.3501 glossQ:1.0184 dlossQ:1.2186 exploreP:0.6999\n",
      "Episode:113 meanR:32.5400 R:15.0000 rate:0.0300 gloss:0.4627 dloss:1.3414 glossQ:1.0195 dlossQ:1.2300 exploreP:0.6988\n",
      "Episode:114 meanR:32.9500 R:59.0000 rate:0.1180 gloss:0.4652 dloss:1.3413 glossQ:1.0207 dlossQ:1.2355 exploreP:0.6948\n",
      "Episode:115 meanR:32.9000 R:26.0000 rate:0.0520 gloss:0.4577 dloss:1.3431 glossQ:1.0194 dlossQ:1.2345 exploreP:0.6930\n",
      "Episode:116 meanR:33.3000 R:58.0000 rate:0.1160 gloss:0.4597 dloss:1.3446 glossQ:1.0209 dlossQ:1.2268 exploreP:0.6891\n",
      "Episode:117 meanR:34.2600 R:124.0000 rate:0.2480 gloss:0.4621 dloss:1.3437 glossQ:1.0225 dlossQ:1.2283 exploreP:0.6807\n",
      "Episode:118 meanR:34.3200 R:32.0000 rate:0.0640 gloss:0.4694 dloss:1.3413 glossQ:1.0210 dlossQ:1.2502 exploreP:0.6785\n",
      "Episode:119 meanR:35.1600 R:110.0000 rate:0.2200 gloss:0.4653 dloss:1.3447 glossQ:1.0191 dlossQ:1.2246 exploreP:0.6712\n",
      "Episode:120 meanR:35.1600 R:19.0000 rate:0.0380 gloss:0.4607 dloss:1.3435 glossQ:1.0198 dlossQ:1.2247 exploreP:0.6700\n",
      "Episode:121 meanR:35.3300 R:29.0000 rate:0.0580 gloss:0.4649 dloss:1.3440 glossQ:1.0195 dlossQ:1.2302 exploreP:0.6681\n",
      "Episode:122 meanR:35.4900 R:33.0000 rate:0.0660 gloss:0.4651 dloss:1.3426 glossQ:1.0186 dlossQ:1.2140 exploreP:0.6659\n",
      "Episode:123 meanR:36.2900 R:109.0000 rate:0.2180 gloss:0.4605 dloss:1.3431 glossQ:1.0201 dlossQ:1.2196 exploreP:0.6588\n",
      "Episode:124 meanR:36.2100 R:11.0000 rate:0.0220 gloss:0.4647 dloss:1.3437 glossQ:1.0187 dlossQ:1.2204 exploreP:0.6581\n",
      "Episode:125 meanR:36.2500 R:19.0000 rate:0.0380 gloss:0.4697 dloss:1.3390 glossQ:1.0220 dlossQ:1.2240 exploreP:0.6568\n",
      "Episode:126 meanR:37.1800 R:106.0000 rate:0.2120 gloss:0.4559 dloss:1.3442 glossQ:1.0191 dlossQ:1.2303 exploreP:0.6500\n",
      "Episode:127 meanR:38.4200 R:141.0000 rate:0.2820 gloss:0.4597 dloss:1.3441 glossQ:1.0191 dlossQ:1.2270 exploreP:0.6411\n",
      "Episode:128 meanR:39.2200 R:123.0000 rate:0.2460 gloss:0.4661 dloss:1.3422 glossQ:1.0209 dlossQ:1.2220 exploreP:0.6333\n",
      "Episode:129 meanR:39.1800 R:13.0000 rate:0.0260 gloss:0.4570 dloss:1.3394 glossQ:1.0210 dlossQ:1.2372 exploreP:0.6325\n",
      "Episode:130 meanR:39.3800 R:31.0000 rate:0.0620 gloss:0.4565 dloss:1.3454 glossQ:1.0199 dlossQ:1.2220 exploreP:0.6306\n",
      "Episode:131 meanR:39.3000 R:19.0000 rate:0.0380 gloss:0.4601 dloss:1.3414 glossQ:1.0223 dlossQ:1.2183 exploreP:0.6294\n",
      "Episode:132 meanR:39.4100 R:32.0000 rate:0.0640 gloss:0.4559 dloss:1.3446 glossQ:1.0188 dlossQ:1.2173 exploreP:0.6275\n",
      "Episode:133 meanR:39.7300 R:45.0000 rate:0.0900 gloss:0.4602 dloss:1.3433 glossQ:1.0197 dlossQ:1.2209 exploreP:0.6247\n",
      "Episode:134 meanR:39.8400 R:33.0000 rate:0.0660 gloss:0.4615 dloss:1.3440 glossQ:1.0188 dlossQ:1.2194 exploreP:0.6227\n",
      "Episode:135 meanR:39.7800 R:9.0000 rate:0.0180 gloss:0.4617 dloss:1.3476 glossQ:1.0171 dlossQ:1.2256 exploreP:0.6221\n",
      "Episode:136 meanR:39.7000 R:17.0000 rate:0.0340 gloss:0.4587 dloss:1.3493 glossQ:1.0181 dlossQ:1.2168 exploreP:0.6211\n",
      "Episode:137 meanR:40.4500 R:86.0000 rate:0.1720 gloss:0.4674 dloss:1.3473 glossQ:1.0233 dlossQ:1.2183 exploreP:0.6158\n",
      "Episode:138 meanR:40.6600 R:46.0000 rate:0.0920 gloss:0.4633 dloss:1.3434 glossQ:1.0182 dlossQ:1.2077 exploreP:0.6131\n",
      "Episode:139 meanR:40.9200 R:59.0000 rate:0.1180 gloss:0.4632 dloss:1.3457 glossQ:1.0245 dlossQ:1.2102 exploreP:0.6095\n",
      "Episode:140 meanR:41.4100 R:72.0000 rate:0.1440 gloss:0.4626 dloss:1.3458 glossQ:1.0226 dlossQ:1.2116 exploreP:0.6052\n"
     ]
    },
    {
     "name": "stdout",
     "output_type": "stream",
     "text": [
      "Episode:141 meanR:41.5300 R:55.0000 rate:0.1100 gloss:0.4634 dloss:1.3451 glossQ:1.0186 dlossQ:1.2103 exploreP:0.6019\n",
      "Episode:142 meanR:41.4000 R:21.0000 rate:0.0420 gloss:0.4586 dloss:1.3425 glossQ:1.0193 dlossQ:1.1884 exploreP:0.6007\n",
      "Episode:143 meanR:41.4200 R:12.0000 rate:0.0240 gloss:0.4626 dloss:1.3503 glossQ:1.0178 dlossQ:1.2189 exploreP:0.6000\n",
      "Episode:144 meanR:41.3900 R:19.0000 rate:0.0380 gloss:0.4585 dloss:1.3516 glossQ:1.0176 dlossQ:1.2101 exploreP:0.5989\n",
      "Episode:145 meanR:41.5500 R:36.0000 rate:0.0720 gloss:0.4616 dloss:1.3429 glossQ:1.0192 dlossQ:1.2043 exploreP:0.5968\n",
      "Episode:146 meanR:42.4000 R:101.0000 rate:0.2020 gloss:0.4606 dloss:1.3451 glossQ:1.0185 dlossQ:1.2068 exploreP:0.5909\n",
      "Episode:147 meanR:42.0600 R:22.0000 rate:0.0440 gloss:0.4588 dloss:1.3427 glossQ:1.0185 dlossQ:1.2104 exploreP:0.5896\n",
      "Episode:148 meanR:42.1200 R:26.0000 rate:0.0520 gloss:0.4555 dloss:1.3435 glossQ:1.0178 dlossQ:1.2070 exploreP:0.5881\n",
      "Episode:149 meanR:42.4600 R:44.0000 rate:0.0880 gloss:0.4554 dloss:1.3437 glossQ:1.0210 dlossQ:1.1995 exploreP:0.5855\n",
      "Episode:150 meanR:42.9200 R:77.0000 rate:0.1540 gloss:0.4545 dloss:1.3430 glossQ:1.0191 dlossQ:1.2136 exploreP:0.5811\n",
      "Episode:151 meanR:43.9600 R:128.0000 rate:0.2560 gloss:0.4573 dloss:1.3441 glossQ:1.0196 dlossQ:1.2176 exploreP:0.5739\n",
      "Episode:152 meanR:44.3700 R:116.0000 rate:0.2320 gloss:0.4629 dloss:1.3453 glossQ:1.0202 dlossQ:1.2108 exploreP:0.5674\n",
      "Episode:153 meanR:44.5400 R:32.0000 rate:0.0640 gloss:0.4571 dloss:1.3486 glossQ:1.0181 dlossQ:1.2029 exploreP:0.5656\n",
      "Episode:154 meanR:45.4300 R:116.0000 rate:0.2320 gloss:0.4587 dloss:1.3452 glossQ:1.0204 dlossQ:1.2029 exploreP:0.5592\n",
      "Episode:155 meanR:46.0500 R:81.0000 rate:0.1620 gloss:0.4585 dloss:1.3433 glossQ:1.0216 dlossQ:1.2020 exploreP:0.5547\n",
      "Episode:156 meanR:45.9100 R:13.0000 rate:0.0260 gloss:0.4601 dloss:1.3401 glossQ:1.0199 dlossQ:1.2155 exploreP:0.5540\n",
      "Episode:157 meanR:47.2200 R:154.0000 rate:0.3080 gloss:0.4544 dloss:1.3444 glossQ:1.0223 dlossQ:1.2064 exploreP:0.5457\n",
      "Episode:158 meanR:47.1300 R:22.0000 rate:0.0440 gloss:0.4555 dloss:1.3406 glossQ:1.0202 dlossQ:1.2108 exploreP:0.5445\n",
      "Episode:159 meanR:47.4300 R:70.0000 rate:0.1400 gloss:0.4581 dloss:1.3456 glossQ:1.0205 dlossQ:1.2057 exploreP:0.5408\n",
      "Episode:160 meanR:49.0000 R:174.0000 rate:0.3480 gloss:0.4586 dloss:1.3452 glossQ:1.0192 dlossQ:1.2082 exploreP:0.5317\n",
      "Episode:161 meanR:49.3900 R:83.0000 rate:0.1660 gloss:0.4605 dloss:1.3433 glossQ:1.0195 dlossQ:1.2101 exploreP:0.5273\n",
      "Episode:162 meanR:49.7300 R:60.0000 rate:0.1200 gloss:0.4568 dloss:1.3449 glossQ:1.0195 dlossQ:1.2103 exploreP:0.5242\n",
      "Episode:163 meanR:50.2900 R:76.0000 rate:0.1520 gloss:0.4566 dloss:1.3426 glossQ:1.0287 dlossQ:1.2247 exploreP:0.5204\n",
      "Episode:164 meanR:53.2700 R:341.0000 rate:0.6820 gloss:0.4595 dloss:1.3475 glossQ:1.0214 dlossQ:1.2016 exploreP:0.5032\n",
      "Episode:165 meanR:53.3600 R:63.0000 rate:0.1260 gloss:0.4625 dloss:1.3451 glossQ:1.0188 dlossQ:1.1959 exploreP:0.5001\n",
      "Episode:166 meanR:53.4400 R:30.0000 rate:0.0600 gloss:0.4626 dloss:1.3480 glossQ:1.0184 dlossQ:1.2014 exploreP:0.4987\n",
      "Episode:167 meanR:53.1500 R:36.0000 rate:0.0720 gloss:0.4643 dloss:1.3502 glossQ:1.0202 dlossQ:1.1972 exploreP:0.4969\n",
      "Episode:168 meanR:53.9700 R:149.0000 rate:0.2980 gloss:0.4676 dloss:1.3482 glossQ:1.0193 dlossQ:1.1917 exploreP:0.4897\n",
      "Episode:169 meanR:53.9000 R:24.0000 rate:0.0480 gloss:0.4565 dloss:1.3484 glossQ:1.0168 dlossQ:1.1828 exploreP:0.4886\n",
      "Episode:170 meanR:54.1900 R:60.0000 rate:0.1200 gloss:0.4663 dloss:1.3538 glossQ:1.0184 dlossQ:1.1957 exploreP:0.4857\n",
      "Episode:171 meanR:55.4800 R:162.0000 rate:0.3240 gloss:0.4695 dloss:1.3525 glossQ:1.0203 dlossQ:1.1828 exploreP:0.4781\n",
      "Episode:172 meanR:55.6000 R:28.0000 rate:0.0560 gloss:0.4757 dloss:1.3470 glossQ:1.0176 dlossQ:1.1752 exploreP:0.4768\n",
      "Episode:173 meanR:56.2000 R:89.0000 rate:0.1780 gloss:0.4718 dloss:1.3485 glossQ:1.0182 dlossQ:1.1862 exploreP:0.4726\n",
      "Episode:174 meanR:58.3300 R:259.0000 rate:0.5180 gloss:0.4678 dloss:1.3527 glossQ:1.0192 dlossQ:1.1869 exploreP:0.4608\n",
      "Episode:175 meanR:59.4900 R:152.0000 rate:0.3040 gloss:0.4768 dloss:1.3500 glossQ:1.0200 dlossQ:1.1718 exploreP:0.4540\n",
      "Episode:176 meanR:60.9200 R:157.0000 rate:0.3140 gloss:0.4698 dloss:1.3515 glossQ:1.0177 dlossQ:1.1801 exploreP:0.4471\n",
      "Episode:177 meanR:61.4400 R:80.0000 rate:0.1600 gloss:0.4712 dloss:1.3527 glossQ:1.0170 dlossQ:1.1696 exploreP:0.4436\n",
      "Episode:178 meanR:63.1000 R:176.0000 rate:0.3520 gloss:0.4723 dloss:1.3502 glossQ:1.0170 dlossQ:1.1787 exploreP:0.4360\n",
      "Episode:179 meanR:63.9700 R:100.0000 rate:0.2000 gloss:0.4698 dloss:1.3509 glossQ:1.0172 dlossQ:1.1882 exploreP:0.4318\n",
      "Episode:180 meanR:64.7200 R:105.0000 rate:0.2100 gloss:0.4702 dloss:1.3502 glossQ:1.0173 dlossQ:1.1756 exploreP:0.4274\n",
      "Episode:181 meanR:65.1500 R:101.0000 rate:0.2020 gloss:0.4739 dloss:1.3528 glossQ:1.0191 dlossQ:1.1806 exploreP:0.4232\n",
      "Episode:182 meanR:67.2800 R:232.0000 rate:0.4640 gloss:0.4767 dloss:1.3518 glossQ:1.0234 dlossQ:1.1883 exploreP:0.4137\n",
      "Episode:183 meanR:68.0000 R:101.0000 rate:0.2020 gloss:0.4700 dloss:1.3502 glossQ:1.0171 dlossQ:1.1805 exploreP:0.4097\n",
      "Episode:184 meanR:69.2300 R:158.0000 rate:0.3160 gloss:0.4696 dloss:1.3528 glossQ:1.0170 dlossQ:1.1787 exploreP:0.4034\n",
      "Episode:185 meanR:69.0400 R:104.0000 rate:0.2080 gloss:0.4753 dloss:1.3543 glossQ:1.0190 dlossQ:1.1851 exploreP:0.3993\n",
      "Episode:186 meanR:69.1400 R:34.0000 rate:0.0680 gloss:0.4767 dloss:1.3594 glossQ:1.0160 dlossQ:1.1770 exploreP:0.3980\n",
      "Episode:187 meanR:71.0400 R:206.0000 rate:0.4120 gloss:0.4775 dloss:1.3506 glossQ:1.0175 dlossQ:1.1755 exploreP:0.3901\n",
      "Episode:188 meanR:73.8900 R:389.0000 rate:0.7780 gloss:0.4795 dloss:1.3556 glossQ:1.0174 dlossQ:1.1734 exploreP:0.3756\n",
      "Episode:189 meanR:75.7500 R:214.0000 rate:0.4280 gloss:0.4800 dloss:1.3530 glossQ:1.0170 dlossQ:1.1756 exploreP:0.3678\n",
      "Episode:190 meanR:76.0300 R:50.0000 rate:0.1000 gloss:0.4772 dloss:1.3511 glossQ:1.0164 dlossQ:1.1719 exploreP:0.3661\n",
      "Episode:191 meanR:77.3200 R:152.0000 rate:0.3040 gloss:0.4766 dloss:1.3537 glossQ:1.0174 dlossQ:1.1790 exploreP:0.3607\n",
      "Episode:192 meanR:77.7600 R:65.0000 rate:0.1300 gloss:0.4764 dloss:1.3579 glossQ:1.0162 dlossQ:1.1678 exploreP:0.3584\n",
      "Episode:193 meanR:79.6200 R:210.0000 rate:0.4200 gloss:0.4813 dloss:1.3590 glossQ:1.0165 dlossQ:1.1659 exploreP:0.3512\n",
      "Episode:194 meanR:81.7800 R:268.0000 rate:0.5360 gloss:0.4855 dloss:1.3530 glossQ:1.0167 dlossQ:1.1635 exploreP:0.3422\n",
      "Episode:195 meanR:85.8800 R:500.0000 rate:1.0000 gloss:0.4905 dloss:1.3610 glossQ:1.0175 dlossQ:1.1579 exploreP:0.3260\n",
      "Episode:196 meanR:87.1300 R:196.0000 rate:0.3920 gloss:0.5018 dloss:1.3595 glossQ:1.0181 dlossQ:1.1574 exploreP:0.3198\n",
      "Episode:197 meanR:89.8400 R:376.0000 rate:0.7520 gloss:0.5061 dloss:1.3664 glossQ:1.0155 dlossQ:1.1375 exploreP:0.3084\n",
      "Episode:198 meanR:91.6700 R:219.0000 rate:0.4380 gloss:0.5070 dloss:1.3655 glossQ:1.0149 dlossQ:1.1248 exploreP:0.3019\n",
      "Episode:199 meanR:91.7500 R:43.0000 rate:0.0860 gloss:0.5060 dloss:1.3654 glossQ:1.0135 dlossQ:1.1265 exploreP:0.3007\n",
      "Episode:200 meanR:95.4600 R:420.0000 rate:0.8400 gloss:0.4982 dloss:1.3577 glossQ:1.0151 dlossQ:1.1451 exploreP:0.2887\n",
      "Episode:201 meanR:97.1500 R:222.0000 rate:0.4440 gloss:0.5013 dloss:1.3650 glossQ:1.0161 dlossQ:1.1410 exploreP:0.2826\n",
      "Episode:202 meanR:101.9600 R:500.0000 rate:1.0000 gloss:0.5085 dloss:1.3679 glossQ:1.0141 dlossQ:1.1304 exploreP:0.2693\n",
      "Episode:203 meanR:106.2600 R:500.0000 rate:1.0000 gloss:0.5202 dloss:1.3726 glossQ:1.0148 dlossQ:1.1147 exploreP:0.2567\n",
      "Episode:204 meanR:110.5200 R:500.0000 rate:1.0000 gloss:0.5301 dloss:1.3723 glossQ:1.0118 dlossQ:1.0948 exploreP:0.2446\n",
      "Episode:205 meanR:115.3300 R:500.0000 rate:1.0000 gloss:0.5348 dloss:1.3730 glossQ:1.0130 dlossQ:1.0936 exploreP:0.2332\n",
      "Episode:206 meanR:116.4200 R:129.0000 rate:0.2580 gloss:0.5323 dloss:1.3739 glossQ:1.0143 dlossQ:1.0883 exploreP:0.2303\n",
      "Episode:207 meanR:120.8000 R:500.0000 rate:1.0000 gloss:0.5413 dloss:1.3759 glossQ:1.0106 dlossQ:1.0768 exploreP:0.2196\n",
      "Episode:208 meanR:125.2900 R:500.0000 rate:1.0000 gloss:0.5452 dloss:1.3781 glossQ:1.0111 dlossQ:1.0730 exploreP:0.2094\n",
      "Episode:209 meanR:130.0200 R:500.0000 rate:1.0000 gloss:0.5524 dloss:1.3785 glossQ:1.0099 dlossQ:1.0623 exploreP:0.1996\n",
      "Episode:210 meanR:134.7700 R:500.0000 rate:1.0000 gloss:0.5597 dloss:1.3780 glossQ:1.0096 dlossQ:1.0587 exploreP:0.1904\n"
     ]
    },
    {
     "name": "stdout",
     "output_type": "stream",
     "text": [
      "Episode:211 meanR:139.2900 R:500.0000 rate:1.0000 gloss:0.5574 dloss:1.3785 glossQ:1.0103 dlossQ:1.0529 exploreP:0.1816\n",
      "Episode:212 meanR:143.7200 R:458.0000 rate:0.9160 gloss:0.5580 dloss:1.3797 glossQ:1.0091 dlossQ:1.0506 exploreP:0.1739\n",
      "Episode:213 meanR:148.5700 R:500.0000 rate:1.0000 gloss:0.5618 dloss:1.3796 glossQ:1.0086 dlossQ:1.0450 exploreP:0.1659\n",
      "Episode:214 meanR:152.9800 R:500.0000 rate:1.0000 gloss:0.5641 dloss:1.3825 glossQ:1.0084 dlossQ:1.0421 exploreP:0.1583\n",
      "Episode:215 meanR:157.7200 R:500.0000 rate:1.0000 gloss:0.5774 dloss:1.3823 glossQ:1.0079 dlossQ:1.0273 exploreP:0.1511\n",
      "Episode:216 meanR:162.1400 R:500.0000 rate:1.0000 gloss:0.5784 dloss:1.3824 glossQ:1.0076 dlossQ:1.0254 exploreP:0.1442\n",
      "Episode:217 meanR:165.9000 R:500.0000 rate:1.0000 gloss:0.5791 dloss:1.3824 glossQ:1.0075 dlossQ:1.0201 exploreP:0.1377\n",
      "Episode:218 meanR:170.5800 R:500.0000 rate:1.0000 gloss:0.5851 dloss:1.3851 glossQ:1.0075 dlossQ:1.0173 exploreP:0.1314\n",
      "Episode:219 meanR:174.4800 R:500.0000 rate:1.0000 gloss:0.5959 dloss:1.3863 glossQ:1.0059 dlossQ:0.9975 exploreP:0.1255\n",
      "Episode:220 meanR:179.2900 R:500.0000 rate:1.0000 gloss:0.6119 dloss:1.3860 glossQ:1.0058 dlossQ:0.9890 exploreP:0.1199\n",
      "Episode:221 meanR:184.0000 R:500.0000 rate:1.0000 gloss:0.6220 dloss:1.3863 glossQ:1.0046 dlossQ:0.9710 exploreP:0.1145\n",
      "Episode:222 meanR:188.6700 R:500.0000 rate:1.0000 gloss:0.6351 dloss:1.3856 glossQ:1.0044 dlossQ:0.9704 exploreP:0.1094\n",
      "Episode:223 meanR:192.5800 R:500.0000 rate:1.0000 gloss:0.6307 dloss:1.3861 glossQ:1.0043 dlossQ:0.9738 exploreP:0.1046\n",
      "Episode:224 meanR:197.4700 R:500.0000 rate:1.0000 gloss:0.6355 dloss:1.3851 glossQ:1.0044 dlossQ:0.9765 exploreP:0.1000\n",
      "Episode:225 meanR:202.2800 R:500.0000 rate:1.0000 gloss:0.6398 dloss:1.3852 glossQ:1.0039 dlossQ:0.9761 exploreP:0.0956\n",
      "Episode:226 meanR:206.2200 R:500.0000 rate:1.0000 gloss:0.6417 dloss:1.3847 glossQ:1.0037 dlossQ:0.9791 exploreP:0.0914\n",
      "Episode:227 meanR:209.8100 R:500.0000 rate:1.0000 gloss:0.6490 dloss:1.3837 glossQ:1.0035 dlossQ:0.9821 exploreP:0.0874\n",
      "Episode:228 meanR:213.5800 R:500.0000 rate:1.0000 gloss:0.6604 dloss:1.3837 glossQ:1.0033 dlossQ:0.9779 exploreP:0.0836\n",
      "Episode:229 meanR:218.4500 R:500.0000 rate:1.0000 gloss:0.6597 dloss:1.3827 glossQ:1.0031 dlossQ:0.9829 exploreP:0.0801\n"
     ]
    }
   ],
   "source": [
    "# Save/load the model and save for plotting\n",
    "saver = tf.train.Saver()\n",
    "episode_rewards_list, rewards_list = [], []\n",
    "gloss_list, dloss_list = [], []\n",
    "\n",
    "# TF session for training\n",
    "with tf.Session(graph=graph) as sess:\n",
    "    sess.run(tf.global_variables_initializer())\n",
    "    #saver.restore(sess, 'checkpoints/model.ckpt')    \n",
    "    #saver.restore(sess, tf.train.latest_checkpoint('checkpoints'))\n",
    "    total_step = 0 # Explore or exploit parameter\n",
    "    episode_reward = deque(maxlen=100) # 100 episodes average/running average/running mean/window\n",
    "\n",
    "    # Training episodes/epochs\n",
    "    for ep in range(1111*3):\n",
    "        total_reward = 0 # each episode\n",
    "        gloss_batch, dloss_batch, glossQ_batch, dlossQ_batch= [], [], [], []\n",
    "        state = env.reset() # each episode\n",
    "        num_step = 0 # each episode\n",
    "\n",
    "        # Training steps/batches\n",
    "        while True:\n",
    "            # Explore (Env) or Exploit (Model)\n",
    "            total_step += 1\n",
    "            explore_p = explore_stop + (explore_start - explore_stop) * np.exp(-decay_rate * total_step) \n",
    "            if explore_p > np.random.rand():\n",
    "                action = env.action_space.sample()\n",
    "            else:\n",
    "                action_logits = sess.run(model.actions_logits, feed_dict={model.states: state.reshape([1, -1])})\n",
    "                action = np.argmax(action_logits)\n",
    "            next_state, reward, done, _ = env.step(action)\n",
    "            memory.buffer.append([state, action, next_state, reward, float(done)])\n",
    "            memory.rates.append(-1) # empty\n",
    "            num_step += 1 # momory added\n",
    "            total_reward += reward\n",
    "            state = next_state\n",
    "            \n",
    "            # Rating the memory\n",
    "            if done is True:\n",
    "                rate = total_reward/500 # update rate at the end/ when episode is done\n",
    "                for idx in range(num_step): # episode length\n",
    "                    if memory.rates[-1-idx] == -1: # double-check the landmark/marked indexes\n",
    "                        memory.rates[-1-idx] = rate # rate the trajectory/data\n",
    "                        \n",
    "            # Training with the maxrated minibatch\n",
    "            batch = memory.buffer\n",
    "            percentage = 0.9\n",
    "            #for idx in range(memory_size// batch_size):\n",
    "            idx_arr = np.arange(memory_size// batch_size)\n",
    "            idx = np.random.choice(idx_arr)\n",
    "            states = np.array([each[0] for each in batch])[idx*batch_size:(idx+1)*batch_size]\n",
    "            actions = np.array([each[1] for each in batch])[idx*batch_size:(idx+1)*batch_size]\n",
    "            next_states = np.array([each[2] for each in batch])[idx*batch_size:(idx+1)*batch_size]\n",
    "            rewards = np.array([each[3] for each in batch])[idx*batch_size:(idx+1)*batch_size]\n",
    "            dones = np.array([each[4] for each in batch])[idx*batch_size:(idx+1)*batch_size]\n",
    "            rates = np.array(memory.rates)[idx*batch_size:(idx+1)*batch_size]\n",
    "            #print(states.shape, actions.shape, next_states.shape, rewards.shape, dones.shape, rates.shape)\n",
    "            states = states[rates >= (np.max(rates)*percentage)]\n",
    "            actions = actions[rates >= (np.max(rates)*percentage)]\n",
    "            next_states = next_states[rates >= (np.max(rates)*percentage)]\n",
    "            rewards = rewards[rates >= (np.max(rates)*percentage)]\n",
    "            dones = dones[rates >= (np.max(rates)*percentage)]\n",
    "            rates = rates[rates >= (np.max(rates)*percentage)]\n",
    "            #print(states.shape, actions.shape, next_states.shape, rewards.shape, dones.shape, rates.shape)\n",
    "            nextQs_logits = sess.run(model.Qs_logits, feed_dict = {model.states: next_states})\n",
    "            #nextQs = np.max(nextQs_logits, axis=1) * (1-dones) # DQN\n",
    "            nextQs = nextQs_logits.reshape([-1]) * (1-dones) # DPG\n",
    "            targetQs = rewards + (gamma * nextQs)\n",
    "            gloss, dloss, glossQ, dlossQ, _, _ = sess.run([model.g_loss, model.d_loss, \n",
    "                                                           model.g_lossQ, model.d_lossQ,\n",
    "                                                           model.g_opt, model.d_opt],\n",
    "                                                          feed_dict = {model.states: states, \n",
    "                                                                       model.actions: actions,\n",
    "                                                                       model.targetQs: targetQs, \n",
    "                                                                       model.rates: rates})\n",
    "            gloss_batch.append(gloss)\n",
    "            dloss_batch.append(dloss)\n",
    "            glossQ_batch.append(glossQ)\n",
    "            dlossQ_batch.append(dlossQ)\n",
    "            if done is True:\n",
    "                break\n",
    "                \n",
    "        episode_reward.append(total_reward)\n",
    "        print('Episode:{}'.format(ep),\n",
    "              'meanR:{:.4f}'.format(np.mean(episode_reward)),\n",
    "              'R:{:.4f}'.format(total_reward),\n",
    "              'rate:{:.4f}'.format(rate),\n",
    "              'gloss:{:.4f}'.format(np.mean(gloss_batch)),\n",
    "              'dloss:{:.4f}'.format(np.mean(dloss_batch)),\n",
    "              'glossQ:{:.4f}'.format(np.mean(glossQ_batch)),\n",
    "              'dlossQ:{:.4f}'.format(np.mean(dlossQ_batch)),\n",
    "              'exploreP:{:.4f}'.format(explore_p))\n",
    "\n",
    "        # Ploting out\n",
    "        episode_rewards_list.append([ep, np.mean(episode_reward)])\n",
    "        rewards_list.append([ep, total_reward])\n",
    "        gloss_list.append([ep, np.mean(gloss_batch)])\n",
    "        dloss_list.append([ep, np.mean(dloss_batch)])\n",
    "        \n",
    "        # Break episode/epoch loop\n",
    "        ## Option 1: Solve the First Version\n",
    "        #The task is episodic, and in order to solve the environment, \n",
    "        #your agent must get an average score of +30 over 100 consecutive episodes.\n",
    "        if np.mean(episode_reward) >= 500:\n",
    "            break\n",
    "            \n",
    "    # At the end of all training episodes/epochs\n",
    "    saver.save(sess, 'checkpoints/model.ckpt')"
   ]
  },
  {
   "cell_type": "markdown",
   "metadata": {},
   "source": [
    "# Visualizing training\n",
    "\n",
    "Below I'll plot the total rewards for each episode. I'm plotting the rolling average too, in blue."
   ]
  },
  {
   "cell_type": "code",
   "execution_count": null,
   "metadata": {},
   "outputs": [],
   "source": [
    "import matplotlib.pyplot as plt\n",
    "%matplotlib inline\n",
    "\n",
    "def running_mean(x, N):\n",
    "    cumsum = np.cumsum(np.insert(x, 0, 0)) \n",
    "    return (cumsum[N:] - cumsum[:-N]) / N "
   ]
  },
  {
   "cell_type": "code",
   "execution_count": null,
   "metadata": {},
   "outputs": [],
   "source": [
    "eps, arr = np.array(episode_rewards_list).T\n",
    "smoothed_arr = running_mean(arr, 10)\n",
    "plt.plot(eps[-len(smoothed_arr):], smoothed_arr)\n",
    "plt.plot(eps, arr, color='grey', alpha=0.3)\n",
    "plt.xlabel('Episode')\n",
    "plt.ylabel('Total rewards')"
   ]
  },
  {
   "cell_type": "code",
   "execution_count": 16,
   "metadata": {},
   "outputs": [
    {
     "data": {
      "text/plain": [
       "Text(0, 0.5, 'Total rewards')"
      ]
     },
     "execution_count": 16,
     "metadata": {},
     "output_type": "execute_result"
    },
    {
     "data": {
      "image/png": "[encoded data removed]",
      "text/plain": [
       "<Figure size 432x288 with 1 Axes>"
      ]
     },
     "metadata": {
      "needs_background": "light"
     },
     "output_type": "display_data"
    }
   ],
   "source": [
    "eps, arr = np.array(episode_rewards_list).T\n",
    "smoothed_arr = running_mean(arr, 10)\n",
    "plt.plot(eps[-len(smoothed_arr):], smoothed_arr)\n",
    "plt.plot(eps, arr, color='grey', alpha=0.3)\n",
    "plt.xlabel('Episode')\n",
    "plt.ylabel('Total rewards')"
   ]
  },
  {
   "cell_type": "code",
   "execution_count": 18,
   "metadata": {},
   "outputs": [
    {
     "data": {
      "text/plain": [
       "Text(0, 0.5, 'Total rewards')"
      ]
     },
     "execution_count": 18,
     "metadata": {},
     "output_type": "execute_result"
    },
    {
     "data": {
      "image/png": "[encoded data removed]",
      "text/plain": [
       "<Figure size 432x288 with 1 Axes>"
      ]
     },
     "metadata": {
      "needs_background": "light"
     },
     "output_type": "display_data"
    }
   ],
   "source": [
    "eps, arr = np.array(rewards_list).T\n",
    "smoothed_arr = running_mean(arr, 10)\n",
    "plt.plot(eps[-len(smoothed_arr):], smoothed_arr)\n",
    "plt.plot(eps, arr, color='grey', alpha=0.3)\n",
    "plt.xlabel('Episode')\n",
    "plt.ylabel('Total rewards')"
   ]
  },
  {
   "cell_type": "code",
   "execution_count": 26,
   "metadata": {},
   "outputs": [
    {
     "data": {
      "text/plain": [
       "Text(0, 0.5, 'Total rewards')"
      ]
     },
     "execution_count": 26,
     "metadata": {},
     "output_type": "execute_result"
    },
    {
     "data": {
      "image/png": "[encoded data removed]",
      "text/plain": [
       "<Figure size 432x288 with 1 Axes>"
      ]
     },
     "metadata": {
      "needs_background": "light"
     },
     "output_type": "display_data"
    }
   ],
   "source": [
    "eps, arr = np.array(episode_rewards_list).T\n",
    "smoothed_arr = running_mean(arr, 10)\n",
    "plt.plot(eps[-len(smoothed_arr):], smoothed_arr)\n",
    "plt.plot(eps, arr, color='grey', alpha=0.3)\n",
    "plt.xlabel('Episode')\n",
    "plt.ylabel('Total rewards')"
   ]
  },
  {
   "cell_type": "code",
   "execution_count": 16,
   "metadata": {},
   "outputs": [
    {
     "data": {
      "text/plain": [
       "Text(0, 0.5, 'Total rewards')"
      ]
     },
     "execution_count": 16,
     "metadata": {},
     "output_type": "execute_result"
    },
    {
     "data": {
      "image/png": "[encoded data removed]",
      "text/plain": [
       "<Figure size 432x288 with 1 Axes>"
      ]
     },
     "metadata": {
      "needs_background": "light"
     },
     "output_type": "display_data"
    }
   ],
   "source": [
    "eps, arr = np.array(episode_rewards_list).T\n",
    "smoothed_arr = running_mean(arr, 10)\n",
    "plt.plot(eps[-len(smoothed_arr):], smoothed_arr)\n",
    "plt.plot(eps, arr, color='grey', alpha=0.3)\n",
    "plt.xlabel('Episode')\n",
    "plt.ylabel('Total rewards')"
   ]
  },
  {
   "cell_type": "code",
   "execution_count": 21,
   "metadata": {},
   "outputs": [
    {
     "data": {
      "text/plain": [
       "Text(0, 0.5, 'Total rewards')"
      ]
     },
     "execution_count": 21,
     "metadata": {},
     "output_type": "execute_result"
    },
    {
     "data": {
      "image/png": "[encoded data removed]",
      "text/plain": [
       "<Figure size 432x288 with 1 Axes>"
      ]
     },
     "metadata": {
      "needs_background": "light"
     },
     "output_type": "display_data"
    }
   ],
   "source": [
    "eps, arr = np.array(episode_rewards_list).T\n",
    "smoothed_arr = running_mean(arr, 10)\n",
    "plt.plot(eps[-len(smoothed_arr):], smoothed_arr)\n",
    "plt.plot(eps, arr, color='grey', alpha=0.3)\n",
    "plt.xlabel('Episode')\n",
    "plt.ylabel('Total rewards')"
   ]
  },
  {
   "cell_type": "code",
   "execution_count": 62,
   "metadata": {},
   "outputs": [
    {
     "data": {
      "text/plain": [
       "Text(0,0.5,'Total rewards')"
      ]
     },
     "execution_count": 62,
     "metadata": {},
     "output_type": "execute_result"
    },
    {
     "data": {
      "image/png": "[encoded data removed]",
      "text/plain": [
       "<Figure size 432x288 with 1 Axes>"
      ]
     },
     "metadata": {},
     "output_type": "display_data"
    }
   ],
   "source": [
    "# eps, arr = np.array(episode_rewards_list).T\n",
    "# smoothed_arr = running_mean(arr, 10)\n",
    "# plt.plot(eps[-len(smoothed_arr):], smoothed_arr)\n",
    "# plt.plot(eps, arr, color='grey', alpha=0.3)\n",
    "# plt.xlabel('Episode')\n",
    "# plt.ylabel('Total rewards')"
   ]
  },
  {
   "cell_type": "code",
   "execution_count": 27,
   "metadata": {},
   "outputs": [
    {
     "data": {
      "text/plain": [
       "Text(0, 0.5, 'Total rewards')"
      ]
     },
     "execution_count": 27,
     "metadata": {},
     "output_type": "execute_result"
    },
    {
     "data": {
      "image/png": "[encoded data removed]",
      "text/plain": [
       "<Figure size 432x288 with 1 Axes>"
      ]
     },
     "metadata": {
      "needs_background": "light"
     },
     "output_type": "display_data"
    }
   ],
   "source": [
    "eps, arr = np.array(rewards_list).T\n",
    "smoothed_arr = running_mean(arr, 10)\n",
    "plt.plot(eps[-len(smoothed_arr):], smoothed_arr)\n",
    "plt.plot(eps, arr, color='grey', alpha=0.3)\n",
    "plt.xlabel('Episode')\n",
    "plt.ylabel('Total rewards')"
   ]
  },
  {
   "cell_type": "code",
   "execution_count": 17,
   "metadata": {},
   "outputs": [
    {
     "data": {
      "text/plain": [
       "Text(0, 0.5, 'Total rewards')"
      ]
     },
     "execution_count": 17,
     "metadata": {},
     "output_type": "execute_result"
    },
    {
     "data": {
      "image/png": "[encoded data removed]",
      "text/plain": [
       "<Figure size 432x288 with 1 Axes>"
      ]
     },
     "metadata": {
      "needs_background": "light"
     },
     "output_type": "display_data"
    }
   ],
   "source": [
    "eps, arr = np.array(rewards_list).T\n",
    "smoothed_arr = running_mean(arr, 10)\n",
    "plt.plot(eps[-len(smoothed_arr):], smoothed_arr)\n",
    "plt.plot(eps, arr, color='grey', alpha=0.3)\n",
    "plt.xlabel('Episode')\n",
    "plt.ylabel('Total rewards')"
   ]
  },
  {
   "cell_type": "code",
   "execution_count": 22,
   "metadata": {},
   "outputs": [
    {
     "data": {
      "text/plain": [
       "Text(0, 0.5, 'Total rewards')"
      ]
     },
     "execution_count": 22,
     "metadata": {},
     "output_type": "execute_result"
    },
    {
     "data": {
      "image/png": "[encoded data removed]",
      "text/plain": [
       "<Figure size 432x288 with 1 Axes>"
      ]
     },
     "metadata": {
      "needs_background": "light"
     },
     "output_type": "display_data"
    }
   ],
   "source": [
    "eps, arr = np.array(rewards_list).T\n",
    "smoothed_arr = running_mean(arr, 10)\n",
    "plt.plot(eps[-len(smoothed_arr):], smoothed_arr)\n",
    "plt.plot(eps, arr, color='grey', alpha=0.3)\n",
    "plt.xlabel('Episode')\n",
    "plt.ylabel('Total rewards')"
   ]
  },
  {
   "cell_type": "code",
   "execution_count": 63,
   "metadata": {},
   "outputs": [
    {
     "data": {
      "text/plain": [
       "Text(0,0.5,'Total rewards')"
      ]
     },
     "execution_count": 63,
     "metadata": {},
     "output_type": "execute_result"
    },
    {
     "data": {
      "image/png": "[encoded data removed]",
      "text/plain": [
       "<Figure size 432x288 with 1 Axes>"
      ]
     },
     "metadata": {},
     "output_type": "display_data"
    }
   ],
   "source": [
    "eps, arr = np.array(rewards_list).T\n",
    "smoothed_arr = running_mean(arr, 10)\n",
    "plt.plot(eps[-len(smoothed_arr):], smoothed_arr)\n",
    "plt.plot(eps, arr, color='grey', alpha=0.3)\n",
    "plt.xlabel('Episode')\n",
    "plt.ylabel('Total rewards')"
   ]
  },
  {
   "cell_type": "code",
   "execution_count": null,
   "metadata": {},
   "outputs": [],
   "source": [
    "eps, arr = np.array(gloss_list).T\n",
    "smoothed_arr = running_mean(arr, 10)\n",
    "plt.plot(eps[-len(smoothed_arr):], smoothed_arr)\n",
    "plt.plot(eps, arr, color='grey', alpha=0.3)\n",
    "plt.xlabel('Episode')\n",
    "plt.ylabel('G losses')`"
   ]
  },
  {
   "cell_type": "code",
   "execution_count": null,
   "metadata": {},
   "outputs": [],
   "source": [
    "eps, arr = np.array(dloss_list).T\n",
    "smoothed_arr = running_mean(arr, 10)\n",
    "plt.plot(eps[-len(smoothed_arr):], smoothed_arr)\n",
    "plt.plot(eps, arr, color='grey', alpha=0.3)\n",
    "plt.xlabel('Episode')\n",
    "plt.ylabel('D losses')"
   ]
  },
  {
   "cell_type": "markdown",
   "metadata": {},
   "source": [
    "## Testing\n",
    "\n",
    "Let's checkout how our trained agent plays the game."
   ]
  },
  {
   "cell_type": "code",
   "execution_count": 36,
   "metadata": {},
   "outputs": [
    {
     "name": "stdout",
     "output_type": "stream",
     "text": [
      "\u001b[33mWARN: gym.spaces.Box autodetected dtype as <class 'numpy.float32'>. Please provide explicit dtype.\u001b[0m\n",
      "\u001b[33mWARN: gym.spaces.Box autodetected dtype as <class 'numpy.float32'>. Please provide explicit dtype.\u001b[0m\n",
      "INFO:tensorflow:Restoring parameters from checkpoints/model.ckpt\n"
     ]
    },
    {
     "name": "stderr",
     "output_type": "stream",
     "text": [
      "/home/arasdar/anaconda3/envs/env/lib/python3.6/site-packages/gym/__init__.py:22: UserWarning: DEPRECATION WARNING: to improve load times, gym no longer automatically loads gym.spaces. Please run \"import gym.spaces\" to load gym.spaces on your own. This warning will turn into an error in a future version of gym.\n",
      "  warnings.warn('DEPRECATION WARNING: to improve load times, gym no longer automatically loads gym.spaces. Please run \"import gym.spaces\" to load gym.spaces on your own. This warning will turn into an error in a future version of gym.')\n"
     ]
    },
    {
     "name": "stdout",
     "output_type": "stream",
     "text": [
      "total_reward: 500.0\n"
     ]
    }
   ],
   "source": [
    "import gym\n",
    "env = gym.make('CartPole-v0')\n",
    "env = gym.make('CartPole-v1')\n",
    "# env = gym.make('Acrobot-v1')\n",
    "# env = gym.make('MountainCar-v0')\n",
    "# env = gym.make('Pendulum-v0')\n",
    "# env = gym.make('Blackjack-v0')\n",
    "# env = gym.make('FrozenLake-v0')\n",
    "# env = gym.make('AirRaid-ram-v0')\n",
    "# env = gym.make('AirRaid-v0')\n",
    "# env = gym.make('BipedalWalker-v2')\n",
    "# env = gym.make('Copy-v0')\n",
    "# env = gym.make('CarRacing-v0')\n",
    "# env = gym.make('Ant-v2') #mujoco\n",
    "# env = gym.make('FetchPickAndPlace-v1') # mujoco required!\n",
    "\n",
    "with tf.Session() as sess:\n",
    "    sess.run(tf.global_variables_initializer())\n",
    "    saver.restore(sess, 'checkpoints/model.ckpt')    \n",
    "    #saver.restore(sess, tf.train.latest_checkpoint('checkpoints'))\n",
    "    \n",
    "    # Episodes/epochs\n",
    "    for _ in range(1):\n",
    "        state = env.reset()\n",
    "        total_reward = 0\n",
    "\n",
    "        # Steps/batches\n",
    "        while True:\n",
    "            env.render()\n",
    "            action_logits = sess.run(model.actions_logits, feed_dict={model.states: state.reshape([1, -1])})\n",
    "            action = np.argmax(action_logits)\n",
    "            state, reward, done, _ = env.step(action)\n",
    "            total_reward += reward\n",
    "            if done:\n",
    "                print('total_reward: {}'.format(total_reward))\n",
    "                break\n",
    "                \n",
    "env.close()"
   ]
  },
  {
   "cell_type": "markdown",
   "metadata": {},
   "source": [
    "## Extending this\n",
    "\n",
    "So, Cart-Pole is a pretty simple game. However, the same model can be used to train an agent to play something much more complicated like Pong or Space Invaders. Instead of a state like we're using here though, you'd want to use convolutional layers to get the state from the screen images.\n",
    "\n",
    "![Deep Q-Learning Atari](assets/atari-network.png)\n",
    "\n",
    "I'll leave it as a challenge for you to use deep Q-learning to train an agent to play Atari games. Here's the original paper which will get you started: http://www.davidqiu.com:8888/research/nature14236.pdf."
   ]
  },
  {
   "cell_type": "code",
   "execution_count": null,
   "metadata": {},
   "outputs": [],
   "source": []
  }
 ],
 "metadata": {
  "kernelspec": {
   "display_name": "Python 3",
   "language": "python",
   "name": "python3"
  },
  "language_info": {
   "codemirror_mode": {
    "name": "ipython",
    "version": 3
   },
   "file_extension": ".py",
   "mimetype": "text/x-python",
   "name": "python",
   "nbconvert_exporter": "python",
   "pygments_lexer": "ipython3",
   "version": "3.6.6"
  }
 },
 "nbformat": 4,
 "nbformat_minor": 2
}
