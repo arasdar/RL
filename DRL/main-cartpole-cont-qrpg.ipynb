{
 "cells": [
  {
   "cell_type": "code",
   "execution_count": 1,
   "metadata": {},
   "outputs": [
    {
     "name": "stdout",
     "output_type": "stream",
     "text": [
      "TensorFlow Version: 1.7.1\n",
      "Default GPU Device: \n"
     ]
    }
   ],
   "source": [
    "# In this one we should define and detect GPUs for tensorflow\n",
    "# GPUs or CPU\n",
    "import tensorflow as tf\n",
    "\n",
    "# Check TensorFlow Version\n",
    "print('TensorFlow Version: {}'.format(tf.__version__))\n",
    "\n",
    "# Check for a GPU\n",
    "print('Default GPU Device: {}'.format(tf.test.gpu_device_name()))"
   ]
  },
  {
   "cell_type": "markdown",
   "metadata": {},
   "source": [
    "##### >**Note:** Make sure you have OpenAI Gym cloned. Then run this command `pip install -e gym/[all]`."
   ]
  },
  {
   "cell_type": "code",
   "execution_count": 2,
   "metadata": {},
   "outputs": [],
   "source": [
    "import numpy as np\n",
    "import gym\n",
    "env = gym.make('CartPole-v0')\n",
    "env = gym.make('CartPole-v1')"
   ]
  },
  {
   "cell_type": "code",
   "execution_count": 3,
   "metadata": {},
   "outputs": [],
   "source": [
    "def model_input(state_size):\n",
    "    #states = tf.placeholder(tf.float32, [None, *state_size], name='states')\n",
    "    states = tf.placeholder(tf.float32, [None, state_size], name='states')\n",
    "    actions = tf.placeholder(tf.int32, [None], name='actions')\n",
    "    targetQs = tf.placeholder(tf.float32, [None], name='targetQs')\n",
    "    rates = tf.placeholder(tf.float32, [None], name='rates')\n",
    "    return states, actions, targetQs, rates"
   ]
  },
  {
   "cell_type": "code",
   "execution_count": 4,
   "metadata": {},
   "outputs": [],
   "source": [
    "# Generator/Controller: Generating/prediting the actions\n",
    "def generator(states, action_size, hidden_size, reuse=False, alpha=0.1, training=False):\n",
    "    with tf.variable_scope('generator', reuse=reuse):\n",
    "        # First fully connected layer\n",
    "        h1 = tf.layers.dense(inputs=states, units=hidden_size)\n",
    "        bn1 = tf.layers.batch_normalization(h1, training=training)        \n",
    "        nl1 = tf.maximum(alpha * bn1, bn1)\n",
    "        \n",
    "        # Second fully connected layer\n",
    "        h2 = tf.layers.dense(inputs=nl1, units=hidden_size)\n",
    "        bn2 = tf.layers.batch_normalization(h2, training=training)        \n",
    "        nl2 = tf.maximum(alpha * bn2, bn2)\n",
    "        \n",
    "        # Output layer\n",
    "        logits = tf.layers.dense(inputs=nl2, units=action_size)        \n",
    "        #predictions = tf.nn.softmax(logits)\n",
    "\n",
    "        # return actions logits\n",
    "        return logits"
   ]
  },
  {
   "cell_type": "code",
   "execution_count": 5,
   "metadata": {},
   "outputs": [],
   "source": [
    "def discriminator(states, actions, hidden_size, reuse=False, alpha=0.1, training=False):\n",
    "    with tf.variable_scope('discriminator', reuse=reuse):\n",
    "        # First fully connected layer\n",
    "        h1 = tf.layers.dense(inputs=states, units=action_size)\n",
    "        bn1 = tf.layers.batch_normalization(h1, training=training)        \n",
    "        nl1 = tf.maximum(alpha * bn1, bn1)\n",
    "        \n",
    "        # Second fully connected layer\n",
    "        nl1_fused = tf.concat(axis=1, values=[nl1, actions])\n",
    "        h2 = tf.layers.dense(inputs=nl1_fused, units=hidden_size)\n",
    "        bn2 = tf.layers.batch_normalization(h2, training=training)        \n",
    "        nl2 = tf.maximum(alpha * bn2, bn2)\n",
    "                \n",
    "        # Output layer\n",
    "        logits = tf.layers.dense(inputs=nl2, units=1)        \n",
    "        #predictions = tf.nn.softmax(logits)\n",
    "\n",
    "        # return rewards logits\n",
    "        return logits"
   ]
  },
  {
   "cell_type": "code",
   "execution_count": 6,
   "metadata": {},
   "outputs": [],
   "source": [
    "def model_loss(action_size, hidden_size, states, actions, targetQs, rates):\n",
    "    actions_logits = generator(states=states, hidden_size=hidden_size, action_size=action_size)\n",
    "    actions_labels = tf.one_hot(indices=actions, depth=action_size, dtype=actions_logits.dtype)\n",
    "    neg_log_prob = tf.nn.softmax_cross_entropy_with_logits_v2(logits=actions_logits, \n",
    "                                                              labels=actions_labels)\n",
    "    targetQs = tf.reshape(targetQs, shape=[-1, 1])\n",
    "    gloss = tf.reduce_mean(neg_log_prob * targetQs) # DPG\n",
    "    gQs = discriminator(actions=actions_logits, hidden_size=hidden_size, states=states)\n",
    "    dQs = discriminator(actions=actions_labels, hidden_size=hidden_size, states=states, reuse=True)\n",
    "    rates = tf.reshape(rates, shape=[-1, 1])\n",
    "    dloss = tf.reduce_mean(tf.nn.sigmoid_cross_entropy_with_logits(logits=dQs, # GAN\n",
    "                                                                   labels=rates)) # 0-1\n",
    "    dloss += tf.reduce_mean(tf.nn.sigmoid_cross_entropy_with_logits(logits=dQs, # GAN\n",
    "                                                                    labels=tf.nn.sigmoid(targetQs))) # 0-1\n",
    "    glossQ = tf.reduce_mean(tf.square(gQs - targetQs)) # DQN\n",
    "    dlossQ = tf.reduce_mean(tf.square(dQs - targetQs)) # DQN\n",
    "    return actions_logits, gQs, gloss, dloss, glossQ, dlossQ"
   ]
  },
  {
   "cell_type": "code",
   "execution_count": 7,
   "metadata": {},
   "outputs": [],
   "source": [
    "# Optimizating/training/learning G & D\n",
    "def model_opt(g_loss, d_loss, g_learning_rate, d_learning_rate):\n",
    "    # Get weights and bias to update\n",
    "    t_vars = tf.trainable_variables()\n",
    "    g_vars = [var for var in t_vars if var.name.startswith('generator')]\n",
    "    d_vars = [var for var in t_vars if var.name.startswith('discriminator')]\n",
    "\n",
    "    # Optimize\n",
    "    with tf.control_dependencies(tf.get_collection(tf.GraphKeys.UPDATE_OPS)): # Required for batchnorm (BN)\n",
    "        g_opt = tf.train.AdamOptimizer(g_learning_rate).minimize(g_loss, var_list=g_vars)\n",
    "        d_opt = tf.train.AdamOptimizer(d_learning_rate).minimize(d_loss, var_list=d_vars)\n",
    "    return g_opt, d_opt"
   ]
  },
  {
   "cell_type": "code",
   "execution_count": 8,
   "metadata": {},
   "outputs": [],
   "source": [
    "class Model:\n",
    "    def __init__(self, state_size, action_size, hidden_size, g_learning_rate, d_learning_rate):\n",
    "\n",
    "        # Data of the Model: make the data available inside the framework\n",
    "        self.states, self.actions, self.targetQs, self.rates = model_input(state_size=state_size)\n",
    "\n",
    "        # Create the Model: calculating the loss and forwad pass\n",
    "        self.actions_logits, self.Qs_logits, self.g_loss, self.d_loss, self.g_lossQ, self.d_lossQ = model_loss(\n",
    "            action_size=action_size, hidden_size=hidden_size, # model init parameters\n",
    "            states=self.states, actions=self.actions, targetQs=self.targetQs, rates=self.rates) # model input\n",
    "        \n",
    "        # Update the model: backward pass and backprop\n",
    "        self.g_opt, self.d_opt = model_opt(g_loss=self.g_loss, d_loss=self.d_loss,\n",
    "                                           g_learning_rate=g_learning_rate, \n",
    "                                           d_learning_rate=d_learning_rate)"
   ]
  },
  {
   "cell_type": "code",
   "execution_count": 9,
   "metadata": {},
   "outputs": [],
   "source": [
    "from collections import deque\n",
    "class Memory():\n",
    "    def __init__(self, max_size = 1000):\n",
    "        self.buffer = deque(maxlen=max_size) # data batch\n",
    "        self.rates = deque(maxlen=max_size) # rates\n",
    "#     def sample(self, batch_size):\n",
    "#         idx = np.random.choice(np.arange(len(self.buffer)), # ==  self.rates\n",
    "#                                size=batch_size, \n",
    "#                                replace=False)\n",
    "#         return [self.buffer[ii] for ii in idx], [self.rates[ii] for ii in idx]"
   ]
  },
  {
   "cell_type": "markdown",
   "metadata": {},
   "source": [
    "## Hyperparameters\n",
    "\n",
    "One of the more difficult aspects of reinforcememt learning are the large number of hyperparameters. Not only are we tuning the network, but we're tuning the simulation."
   ]
  },
  {
   "cell_type": "code",
   "execution_count": 10,
   "metadata": {},
   "outputs": [
    {
     "data": {
      "text/plain": [
       "(Box(4,), Discrete(2))"
      ]
     },
     "execution_count": 10,
     "metadata": {},
     "output_type": "execute_result"
    }
   ],
   "source": [
    "env.observation_space, env.action_space"
   ]
  },
  {
   "cell_type": "code",
   "execution_count": 11,
   "metadata": {},
   "outputs": [],
   "source": [
    "# Exploration parameters\n",
    "explore_start = 1.0            # exploration probability at start\n",
    "explore_stop = 0.01           # minimum exploration probability \n",
    "decay_rate = 0.0001            # exponential decay rate for exploration prob\n",
    "\n",
    "# Network parameters\n",
    "state_size = 4\n",
    "action_size = 2\n",
    "hidden_size = 4*2             # number of units in each Q-network hidden layer\n",
    "g_learning_rate = 1e-4         # Q-network learning rate\n",
    "d_learning_rate = 1e-4         # Q-network learning rate\n",
    "\n",
    "# Memory parameters\n",
    "memory_size = int(1e5)            # memory capacity\n",
    "batch_size = int(1e3)             # experience mini-batch size: 200/500 a successfull episode size\n",
    "gamma = 0.99                   # future reward discount"
   ]
  },
  {
   "cell_type": "code",
   "execution_count": 12,
   "metadata": {},
   "outputs": [],
   "source": [
    "# Reset/init the graph/session\n",
    "graph = tf.reset_default_graph()\n",
    "\n",
    "# Init the model\n",
    "model = Model(action_size=action_size, state_size=state_size, hidden_size=hidden_size,\n",
    "              g_learning_rate=g_learning_rate, d_learning_rate=d_learning_rate)\n",
    "\n",
    "# Init the memory\n",
    "memory = Memory(max_size=memory_size)"
   ]
  },
  {
   "cell_type": "code",
   "execution_count": 13,
   "metadata": {},
   "outputs": [],
   "source": [
    "state = env.reset()\n",
    "total_reward = 0\n",
    "num_step = 0\n",
    "for _ in range(memory_size):\n",
    "    action = env.action_space.sample()\n",
    "    next_state, reward, done, _ = env.step(action)\n",
    "    memory.buffer.append([state, action, next_state, reward, float(done)])\n",
    "    memory.rates.append(-1) # empty\n",
    "    num_step += 1 # memory incremented\n",
    "    total_reward += reward\n",
    "    state = next_state\n",
    "    if done is True:\n",
    "        state = env.reset()\n",
    "        rate = total_reward/500\n",
    "        total_reward = 0 # reset\n",
    "        for idx in range(num_step): # episode length\n",
    "            if memory.rates[-1-idx] == -1:\n",
    "                memory.rates[-1-idx] = rate\n",
    "        num_step = 0 # reset"
   ]
  },
  {
   "cell_type": "markdown",
   "metadata": {},
   "source": [
    "## Training the model\n",
    "\n",
    "Below we'll train our agent. If you want to watch it train, uncomment the `env.render()` line. This is slow because it's rendering the frames slower than the network can train. But, it's cool to watch the agent get better at the game."
   ]
  },
  {
   "cell_type": "code",
   "execution_count": null,
   "metadata": {},
   "outputs": [
    {
     "name": "stdout",
     "output_type": "stream",
     "text": [
      "Episode:0 meanR:15.0000 R:15.0000 rate:0.0300 gloss:0.7026 dloss:1.4154 glossQ:1.0024 dlossQ:0.8398 exploreP:0.9985\n",
      "Episode:1 meanR:18.0000 R:21.0000 rate:0.0420 gloss:0.7005 dloss:1.4110 glossQ:1.0026 dlossQ:0.8468 exploreP:0.9964\n",
      "Episode:2 meanR:17.0000 R:15.0000 rate:0.0300 gloss:0.6845 dloss:1.4089 glossQ:1.0032 dlossQ:0.8170 exploreP:0.9950\n",
      "Episode:3 meanR:16.2500 R:14.0000 rate:0.0280 gloss:0.6917 dloss:1.4046 glossQ:1.0029 dlossQ:0.8848 exploreP:0.9936\n",
      "Episode:4 meanR:20.2000 R:36.0000 rate:0.0720 gloss:0.6745 dloss:1.4011 glossQ:1.0038 dlossQ:0.8656 exploreP:0.9901\n",
      "Episode:5 meanR:19.6667 R:17.0000 rate:0.0340 gloss:0.6533 dloss:1.3963 glossQ:1.0037 dlossQ:0.8563 exploreP:0.9884\n",
      "Episode:6 meanR:23.0000 R:43.0000 rate:0.0860 gloss:0.6475 dloss:1.3923 glossQ:1.0045 dlossQ:0.9061 exploreP:0.9842\n",
      "Episode:7 meanR:24.6250 R:36.0000 rate:0.0720 gloss:0.6232 dloss:1.3877 glossQ:1.0050 dlossQ:0.9032 exploreP:0.9807\n",
      "Episode:8 meanR:23.7778 R:17.0000 rate:0.0340 gloss:0.6112 dloss:1.3842 glossQ:1.0060 dlossQ:0.9011 exploreP:0.9790\n",
      "Episode:9 meanR:23.5000 R:21.0000 rate:0.0420 gloss:0.6057 dloss:1.3823 glossQ:1.0062 dlossQ:0.9307 exploreP:0.9770\n",
      "Episode:10 meanR:23.0000 R:18.0000 rate:0.0360 gloss:0.6044 dloss:1.3805 glossQ:1.0062 dlossQ:0.9038 exploreP:0.9753\n",
      "Episode:11 meanR:22.5000 R:17.0000 rate:0.0340 gloss:0.5955 dloss:1.3782 glossQ:1.0070 dlossQ:0.9574 exploreP:0.9736\n",
      "Episode:12 meanR:21.7692 R:13.0000 rate:0.0260 gloss:0.5915 dloss:1.3734 glossQ:1.0094 dlossQ:0.9977 exploreP:0.9724\n",
      "Episode:13 meanR:22.1429 R:27.0000 rate:0.0540 gloss:0.5799 dloss:1.3745 glossQ:1.0084 dlossQ:0.9359 exploreP:0.9698\n",
      "Episode:14 meanR:21.6667 R:15.0000 rate:0.0300 gloss:0.5695 dloss:1.3716 glossQ:1.0087 dlossQ:0.9515 exploreP:0.9683\n",
      "Episode:15 meanR:21.8125 R:24.0000 rate:0.0480 gloss:0.5641 dloss:1.3691 glossQ:1.0103 dlossQ:0.9603 exploreP:0.9660\n",
      "Episode:16 meanR:23.4706 R:50.0000 rate:0.1000 gloss:0.5582 dloss:1.3638 glossQ:1.0104 dlossQ:1.0053 exploreP:0.9613\n",
      "Episode:17 meanR:22.7778 R:11.0000 rate:0.0220 gloss:0.5443 dloss:1.3648 glossQ:1.0120 dlossQ:0.9995 exploreP:0.9602\n",
      "Episode:18 meanR:23.0526 R:28.0000 rate:0.0560 gloss:0.5403 dloss:1.3614 glossQ:1.0112 dlossQ:1.0184 exploreP:0.9576\n",
      "Episode:19 meanR:23.6000 R:34.0000 rate:0.0680 gloss:0.5281 dloss:1.3598 glossQ:1.0112 dlossQ:1.0233 exploreP:0.9544\n",
      "Episode:20 meanR:23.7143 R:26.0000 rate:0.0520 gloss:0.5301 dloss:1.3571 glossQ:1.0126 dlossQ:1.0496 exploreP:0.9519\n",
      "Episode:21 meanR:23.7273 R:24.0000 rate:0.0480 gloss:0.5148 dloss:1.3555 glossQ:1.0146 dlossQ:1.0290 exploreP:0.9496\n",
      "Episode:22 meanR:23.6957 R:23.0000 rate:0.0460 gloss:0.5158 dloss:1.3615 glossQ:1.0117 dlossQ:1.0492 exploreP:0.9475\n",
      "Episode:23 meanR:23.4583 R:18.0000 rate:0.0360 gloss:0.5063 dloss:1.3574 glossQ:1.0138 dlossQ:1.1064 exploreP:0.9458\n",
      "Episode:24 meanR:23.0000 R:12.0000 rate:0.0240 gloss:0.5044 dloss:1.3543 glossQ:1.0166 dlossQ:1.0613 exploreP:0.9447\n",
      "Episode:25 meanR:22.6923 R:15.0000 rate:0.0300 gloss:0.5105 dloss:1.3527 glossQ:1.0234 dlossQ:1.0937 exploreP:0.9433\n",
      "Episode:26 meanR:23.5556 R:46.0000 rate:0.0920 gloss:0.4880 dloss:1.3535 glossQ:1.0257 dlossQ:1.0848 exploreP:0.9390\n",
      "Episode:27 meanR:23.7857 R:30.0000 rate:0.0600 gloss:0.4933 dloss:1.3512 glossQ:1.0161 dlossQ:1.0778 exploreP:0.9362\n",
      "Episode:28 meanR:25.0345 R:60.0000 rate:0.1200 gloss:0.4836 dloss:1.3464 glossQ:1.0174 dlossQ:1.0895 exploreP:0.9307\n",
      "Episode:29 meanR:24.6000 R:12.0000 rate:0.0240 gloss:0.4772 dloss:1.3535 glossQ:1.0153 dlossQ:1.1030 exploreP:0.9296\n",
      "Episode:30 meanR:25.6452 R:57.0000 rate:0.1140 gloss:0.4720 dloss:1.3477 glossQ:1.0176 dlossQ:1.1122 exploreP:0.9243\n",
      "Episode:31 meanR:25.5312 R:22.0000 rate:0.0440 gloss:0.4647 dloss:1.3487 glossQ:1.0171 dlossQ:1.1374 exploreP:0.9223\n",
      "Episode:32 meanR:25.0606 R:10.0000 rate:0.0200 gloss:0.4629 dloss:1.3474 glossQ:1.0176 dlossQ:1.0879 exploreP:0.9214\n",
      "Episode:33 meanR:25.1471 R:28.0000 rate:0.0560 gloss:0.4690 dloss:1.3464 glossQ:1.0214 dlossQ:1.1329 exploreP:0.9189\n",
      "Episode:34 meanR:24.7714 R:12.0000 rate:0.0240 gloss:0.4619 dloss:1.3534 glossQ:1.0250 dlossQ:1.1702 exploreP:0.9178\n",
      "Episode:35 meanR:24.7500 R:24.0000 rate:0.0480 gloss:0.4604 dloss:1.3397 glossQ:1.0199 dlossQ:1.1241 exploreP:0.9156\n",
      "Episode:36 meanR:24.5676 R:18.0000 rate:0.0360 gloss:0.4744 dloss:1.3454 glossQ:1.0194 dlossQ:1.1390 exploreP:0.9140\n",
      "Episode:37 meanR:24.1842 R:10.0000 rate:0.0200 gloss:0.4564 dloss:1.3395 glossQ:1.0227 dlossQ:1.0975 exploreP:0.9131\n",
      "Episode:38 meanR:24.2051 R:25.0000 rate:0.0500 gloss:0.4600 dloss:1.3440 glossQ:1.0188 dlossQ:1.1277 exploreP:0.9108\n",
      "Episode:39 meanR:24.0250 R:17.0000 rate:0.0340 gloss:0.4544 dloss:1.3426 glossQ:1.0203 dlossQ:1.1647 exploreP:0.9093\n",
      "Episode:40 meanR:25.0488 R:66.0000 rate:0.1320 gloss:0.4532 dloss:1.3414 glossQ:1.0213 dlossQ:1.1542 exploreP:0.9034\n",
      "Episode:41 meanR:25.2143 R:32.0000 rate:0.0640 gloss:0.4547 dloss:1.3421 glossQ:1.0208 dlossQ:1.1677 exploreP:0.9005\n",
      "Episode:42 meanR:25.1163 R:21.0000 rate:0.0420 gloss:0.4439 dloss:1.3418 glossQ:1.0220 dlossQ:1.1502 exploreP:0.8987\n",
      "Episode:43 meanR:25.0227 R:21.0000 rate:0.0420 gloss:0.4460 dloss:1.3421 glossQ:1.0208 dlossQ:1.1578 exploreP:0.8968\n",
      "Episode:44 meanR:25.7556 R:58.0000 rate:0.1160 gloss:0.4498 dloss:1.3405 glossQ:1.0210 dlossQ:1.1620 exploreP:0.8917\n",
      "Episode:45 meanR:25.5217 R:15.0000 rate:0.0300 gloss:0.4451 dloss:1.3409 glossQ:1.0230 dlossQ:1.1362 exploreP:0.8903\n",
      "Episode:46 meanR:25.7447 R:36.0000 rate:0.0720 gloss:0.4316 dloss:1.3376 glossQ:1.0232 dlossQ:1.1567 exploreP:0.8872\n",
      "Episode:47 meanR:25.9583 R:36.0000 rate:0.0720 gloss:0.4484 dloss:1.3426 glossQ:1.0236 dlossQ:1.1810 exploreP:0.8840\n",
      "Episode:48 meanR:26.1224 R:34.0000 rate:0.0680 gloss:0.4368 dloss:1.3385 glossQ:1.0223 dlossQ:1.1649 exploreP:0.8811\n",
      "Episode:49 meanR:26.0600 R:23.0000 rate:0.0460 gloss:0.4362 dloss:1.3395 glossQ:1.0224 dlossQ:1.1647 exploreP:0.8791\n",
      "Episode:50 meanR:25.7451 R:10.0000 rate:0.0200 gloss:0.4296 dloss:1.3440 glossQ:1.0201 dlossQ:1.1670 exploreP:0.8782\n",
      "Episode:51 meanR:25.4423 R:10.0000 rate:0.0200 gloss:0.4427 dloss:1.3391 glossQ:1.0203 dlossQ:1.1788 exploreP:0.8773\n",
      "Episode:52 meanR:25.3585 R:21.0000 rate:0.0420 gloss:0.4333 dloss:1.3410 glossQ:1.0213 dlossQ:1.1932 exploreP:0.8755\n",
      "Episode:53 meanR:25.1111 R:12.0000 rate:0.0240 gloss:0.4586 dloss:1.3409 glossQ:1.0300 dlossQ:1.2222 exploreP:0.8745\n",
      "Episode:54 meanR:26.1636 R:83.0000 rate:0.1660 gloss:0.4382 dloss:1.3415 glossQ:1.0217 dlossQ:1.1712 exploreP:0.8673\n",
      "Episode:55 meanR:26.1071 R:23.0000 rate:0.0460 gloss:0.4366 dloss:1.3409 glossQ:1.0191 dlossQ:1.1788 exploreP:0.8653\n",
      "Episode:56 meanR:26.0702 R:24.0000 rate:0.0480 gloss:0.4344 dloss:1.3435 glossQ:1.0206 dlossQ:1.1812 exploreP:0.8633\n",
      "Episode:57 meanR:26.1034 R:28.0000 rate:0.0560 gloss:0.4419 dloss:1.3423 glossQ:1.0188 dlossQ:1.2011 exploreP:0.8609\n",
      "Episode:58 meanR:26.0678 R:24.0000 rate:0.0480 gloss:0.4384 dloss:1.3421 glossQ:1.0196 dlossQ:1.1806 exploreP:0.8589\n",
      "Episode:59 meanR:26.2167 R:35.0000 rate:0.0700 gloss:0.4498 dloss:1.3444 glossQ:1.0184 dlossQ:1.2048 exploreP:0.8559\n",
      "Episode:60 meanR:26.8852 R:67.0000 rate:0.1340 gloss:0.4407 dloss:1.3417 glossQ:1.0228 dlossQ:1.1904 exploreP:0.8503\n",
      "Episode:61 meanR:26.6613 R:13.0000 rate:0.0260 gloss:0.4430 dloss:1.3445 glossQ:1.0208 dlossQ:1.1703 exploreP:0.8492\n",
      "Episode:62 meanR:27.4603 R:77.0000 rate:0.1540 gloss:0.4457 dloss:1.3410 glossQ:1.0194 dlossQ:1.1866 exploreP:0.8427\n",
      "Episode:63 meanR:27.4688 R:28.0000 rate:0.0560 gloss:0.4379 dloss:1.3407 glossQ:1.0259 dlossQ:1.1765 exploreP:0.8404\n",
      "Episode:64 meanR:27.6769 R:41.0000 rate:0.0820 gloss:0.4404 dloss:1.3445 glossQ:1.0204 dlossQ:1.1892 exploreP:0.8370\n",
      "Episode:65 meanR:27.4848 R:15.0000 rate:0.0300 gloss:0.4544 dloss:1.3430 glossQ:1.0204 dlossQ:1.1972 exploreP:0.8358\n",
      "Episode:66 meanR:27.4776 R:27.0000 rate:0.0540 gloss:0.4502 dloss:1.3435 glossQ:1.0190 dlossQ:1.1990 exploreP:0.8335\n",
      "Episode:67 meanR:27.8088 R:50.0000 rate:0.1000 gloss:0.4436 dloss:1.3429 glossQ:1.0221 dlossQ:1.1884 exploreP:0.8294\n",
      "Episode:68 meanR:28.0580 R:45.0000 rate:0.0900 gloss:0.4549 dloss:1.3407 glossQ:1.0205 dlossQ:1.2088 exploreP:0.8257\n",
      "Episode:69 meanR:28.0286 R:26.0000 rate:0.0520 gloss:0.4572 dloss:1.3436 glossQ:1.0212 dlossQ:1.2172 exploreP:0.8236\n",
      "Episode:70 meanR:28.2254 R:42.0000 rate:0.0840 gloss:0.4421 dloss:1.3403 glossQ:1.0203 dlossQ:1.2023 exploreP:0.8202\n"
     ]
    },
    {
     "name": "stdout",
     "output_type": "stream",
     "text": [
      "Episode:71 meanR:28.0833 R:18.0000 rate:0.0360 gloss:0.4382 dloss:1.3410 glossQ:1.0209 dlossQ:1.1775 exploreP:0.8188\n",
      "Episode:72 meanR:27.9726 R:20.0000 rate:0.0400 gloss:0.4553 dloss:1.3452 glossQ:1.0192 dlossQ:1.2011 exploreP:0.8171\n",
      "Episode:73 meanR:27.9730 R:28.0000 rate:0.0560 gloss:0.4409 dloss:1.3436 glossQ:1.0199 dlossQ:1.1808 exploreP:0.8149\n",
      "Episode:74 meanR:28.1867 R:44.0000 rate:0.0880 gloss:0.4561 dloss:1.3424 glossQ:1.0198 dlossQ:1.2145 exploreP:0.8114\n",
      "Episode:75 meanR:28.1316 R:24.0000 rate:0.0480 gloss:0.4566 dloss:1.3398 glossQ:1.0195 dlossQ:1.2224 exploreP:0.8094\n",
      "Episode:76 meanR:28.0130 R:19.0000 rate:0.0380 gloss:0.4584 dloss:1.3459 glossQ:1.0201 dlossQ:1.2143 exploreP:0.8079\n",
      "Episode:77 meanR:27.8590 R:16.0000 rate:0.0320 gloss:0.4467 dloss:1.3429 glossQ:1.0208 dlossQ:1.1988 exploreP:0.8066\n",
      "Episode:78 meanR:27.7848 R:22.0000 rate:0.0440 gloss:0.4521 dloss:1.3442 glossQ:1.0203 dlossQ:1.2061 exploreP:0.8049\n",
      "Episode:79 meanR:27.7625 R:26.0000 rate:0.0520 gloss:0.4487 dloss:1.3420 glossQ:1.0190 dlossQ:1.1990 exploreP:0.8028\n",
      "Episode:80 meanR:27.8889 R:38.0000 rate:0.0760 gloss:0.4580 dloss:1.3457 glossQ:1.0185 dlossQ:1.2124 exploreP:0.7998\n",
      "Episode:81 meanR:28.0122 R:38.0000 rate:0.0760 gloss:0.4530 dloss:1.3460 glossQ:1.0201 dlossQ:1.2116 exploreP:0.7968\n",
      "Episode:82 meanR:27.8916 R:18.0000 rate:0.0360 gloss:0.4565 dloss:1.3379 glossQ:1.0184 dlossQ:1.2164 exploreP:0.7954\n",
      "Episode:83 meanR:27.7738 R:18.0000 rate:0.0360 gloss:0.4434 dloss:1.3404 glossQ:1.0214 dlossQ:1.1909 exploreP:0.7940\n",
      "Episode:84 meanR:27.7059 R:22.0000 rate:0.0440 gloss:0.4560 dloss:1.3474 glossQ:1.0206 dlossQ:1.2196 exploreP:0.7923\n",
      "Episode:85 meanR:28.7791 R:120.0000 rate:0.2400 gloss:0.4592 dloss:1.3454 glossQ:1.0202 dlossQ:1.2174 exploreP:0.7829\n",
      "Episode:86 meanR:29.6207 R:102.0000 rate:0.2040 gloss:0.4552 dloss:1.3436 glossQ:1.0207 dlossQ:1.2084 exploreP:0.7751\n",
      "Episode:87 meanR:29.5455 R:23.0000 rate:0.0460 gloss:0.4635 dloss:1.3422 glossQ:1.0184 dlossQ:1.2259 exploreP:0.7733\n",
      "Episode:88 meanR:29.6292 R:37.0000 rate:0.0740 gloss:0.4536 dloss:1.3447 glossQ:1.0190 dlossQ:1.2024 exploreP:0.7705\n",
      "Episode:89 meanR:29.7444 R:40.0000 rate:0.0800 gloss:0.4592 dloss:1.3411 glossQ:1.0192 dlossQ:1.2129 exploreP:0.7675\n",
      "Episode:90 meanR:30.1758 R:69.0000 rate:0.1380 gloss:0.4574 dloss:1.3447 glossQ:1.0188 dlossQ:1.2245 exploreP:0.7623\n",
      "Episode:91 meanR:30.0870 R:22.0000 rate:0.0440 gloss:0.4392 dloss:1.3454 glossQ:1.0431 dlossQ:1.1982 exploreP:0.7606\n",
      "Episode:92 meanR:30.6129 R:79.0000 rate:0.1580 gloss:0.4632 dloss:1.3430 glossQ:1.0209 dlossQ:1.2283 exploreP:0.7547\n",
      "Episode:93 meanR:31.4149 R:106.0000 rate:0.2120 gloss:0.4653 dloss:1.3446 glossQ:1.0191 dlossQ:1.2336 exploreP:0.7469\n",
      "Episode:94 meanR:32.1579 R:102.0000 rate:0.2040 gloss:0.4625 dloss:1.3436 glossQ:1.0189 dlossQ:1.2196 exploreP:0.7394\n",
      "Episode:95 meanR:32.6979 R:84.0000 rate:0.1680 gloss:0.4642 dloss:1.3471 glossQ:1.0177 dlossQ:1.2290 exploreP:0.7333\n",
      "Episode:96 meanR:32.6701 R:30.0000 rate:0.0600 gloss:0.4619 dloss:1.3460 glossQ:1.0212 dlossQ:1.2069 exploreP:0.7311\n",
      "Episode:97 meanR:32.7959 R:45.0000 rate:0.0900 gloss:0.4710 dloss:1.3442 glossQ:1.0184 dlossQ:1.2333 exploreP:0.7279\n",
      "Episode:98 meanR:32.6364 R:17.0000 rate:0.0340 gloss:0.4701 dloss:1.3462 glossQ:1.0173 dlossQ:1.2489 exploreP:0.7267\n",
      "Episode:99 meanR:32.8000 R:49.0000 rate:0.0980 gloss:0.4647 dloss:1.3414 glossQ:1.0201 dlossQ:1.2243 exploreP:0.7232\n",
      "Episode:100 meanR:33.1000 R:45.0000 rate:0.0900 gloss:0.4650 dloss:1.3462 glossQ:1.0176 dlossQ:1.2418 exploreP:0.7200\n",
      "Episode:101 meanR:33.0700 R:18.0000 rate:0.0360 gloss:0.4676 dloss:1.3419 glossQ:1.0201 dlossQ:1.2326 exploreP:0.7187\n",
      "Episode:102 meanR:33.1400 R:22.0000 rate:0.0440 gloss:0.4638 dloss:1.3432 glossQ:1.0173 dlossQ:1.2382 exploreP:0.7171\n",
      "Episode:103 meanR:33.2800 R:28.0000 rate:0.0560 gloss:0.4730 dloss:1.3402 glossQ:1.0178 dlossQ:1.2621 exploreP:0.7151\n",
      "Episode:104 meanR:33.0600 R:14.0000 rate:0.0280 gloss:0.4390 dloss:1.3455 glossQ:1.0185 dlossQ:1.2062 exploreP:0.7142\n",
      "Episode:105 meanR:33.5600 R:67.0000 rate:0.1340 gloss:0.4653 dloss:1.3451 glossQ:1.0268 dlossQ:1.2437 exploreP:0.7095\n",
      "Episode:106 meanR:33.4200 R:29.0000 rate:0.0580 gloss:0.4698 dloss:1.3432 glossQ:1.0186 dlossQ:1.2447 exploreP:0.7074\n",
      "Episode:107 meanR:33.4900 R:43.0000 rate:0.0860 gloss:0.4653 dloss:1.3489 glossQ:1.0177 dlossQ:1.2288 exploreP:0.7044\n",
      "Episode:108 meanR:33.7300 R:41.0000 rate:0.0820 gloss:0.4755 dloss:1.3468 glossQ:1.0208 dlossQ:1.2357 exploreP:0.7016\n",
      "Episode:109 meanR:34.3200 R:80.0000 rate:0.1600 gloss:0.4668 dloss:1.3470 glossQ:1.0338 dlossQ:1.2352 exploreP:0.6961\n",
      "Episode:110 meanR:35.6500 R:151.0000 rate:0.3020 gloss:0.4803 dloss:1.3493 glossQ:1.0157 dlossQ:1.2393 exploreP:0.6858\n",
      "Episode:111 meanR:36.2700 R:79.0000 rate:0.1580 gloss:0.4806 dloss:1.3456 glossQ:1.0174 dlossQ:1.2458 exploreP:0.6805\n",
      "Episode:112 meanR:36.9900 R:85.0000 rate:0.1700 gloss:0.4796 dloss:1.3465 glossQ:1.0189 dlossQ:1.2387 exploreP:0.6748\n",
      "Episode:113 meanR:37.5100 R:79.0000 rate:0.1580 gloss:0.4813 dloss:1.3483 glossQ:1.0166 dlossQ:1.2589 exploreP:0.6696\n",
      "Episode:114 meanR:37.5200 R:16.0000 rate:0.0320 gloss:0.4728 dloss:1.3448 glossQ:1.0177 dlossQ:1.2325 exploreP:0.6685\n",
      "Episode:115 meanR:37.5600 R:28.0000 rate:0.0560 gloss:0.4753 dloss:1.3484 glossQ:1.0167 dlossQ:1.2320 exploreP:0.6667\n",
      "Episode:116 meanR:37.5600 R:50.0000 rate:0.1000 gloss:0.4809 dloss:1.3488 glossQ:1.0157 dlossQ:1.2518 exploreP:0.6634\n",
      "Episode:117 meanR:38.6200 R:117.0000 rate:0.2340 gloss:0.4800 dloss:1.3472 glossQ:1.0168 dlossQ:1.2441 exploreP:0.6558\n",
      "Episode:118 meanR:39.3400 R:100.0000 rate:0.2000 gloss:0.4798 dloss:1.3469 glossQ:1.0183 dlossQ:1.2530 exploreP:0.6494\n",
      "Episode:119 meanR:39.6400 R:64.0000 rate:0.1280 gloss:0.4846 dloss:1.3487 glossQ:1.0158 dlossQ:1.2634 exploreP:0.6453\n",
      "Episode:120 meanR:40.3300 R:95.0000 rate:0.1900 gloss:0.4854 dloss:1.3481 glossQ:1.0168 dlossQ:1.2570 exploreP:0.6393\n",
      "Episode:121 meanR:40.6500 R:56.0000 rate:0.1120 gloss:0.4838 dloss:1.3464 glossQ:1.0174 dlossQ:1.2563 exploreP:0.6358\n",
      "Episode:122 meanR:41.4800 R:106.0000 rate:0.2120 gloss:0.4816 dloss:1.3480 glossQ:1.0169 dlossQ:1.2500 exploreP:0.6292\n",
      "Episode:123 meanR:41.6200 R:32.0000 rate:0.0640 gloss:0.4835 dloss:1.3469 glossQ:1.0141 dlossQ:1.2710 exploreP:0.6272\n",
      "Episode:124 meanR:41.7000 R:20.0000 rate:0.0400 gloss:0.4789 dloss:1.3526 glossQ:1.0140 dlossQ:1.2593 exploreP:0.6260\n",
      "Episode:125 meanR:41.9400 R:39.0000 rate:0.0780 gloss:0.4955 dloss:1.3545 glossQ:1.0143 dlossQ:1.2728 exploreP:0.6236\n",
      "Episode:126 meanR:42.4000 R:92.0000 rate:0.1840 gloss:0.4994 dloss:1.3537 glossQ:1.0145 dlossQ:1.2676 exploreP:0.6180\n",
      "Episode:127 meanR:42.8300 R:73.0000 rate:0.1460 gloss:0.5024 dloss:1.3483 glossQ:1.0148 dlossQ:1.2662 exploreP:0.6135\n",
      "Episode:128 meanR:43.0700 R:84.0000 rate:0.1680 gloss:0.4936 dloss:1.3487 glossQ:1.0165 dlossQ:1.2595 exploreP:0.6085\n",
      "Episode:129 meanR:43.9800 R:103.0000 rate:0.2060 gloss:0.4953 dloss:1.3498 glossQ:1.0157 dlossQ:1.2714 exploreP:0.6024\n",
      "Episode:130 meanR:43.7600 R:35.0000 rate:0.0700 gloss:0.4903 dloss:1.3537 glossQ:1.0145 dlossQ:1.2567 exploreP:0.6003\n",
      "Episode:131 meanR:43.8100 R:27.0000 rate:0.0540 gloss:0.4909 dloss:1.3549 glossQ:1.0285 dlossQ:1.2600 exploreP:0.5987\n",
      "Episode:132 meanR:43.8900 R:18.0000 rate:0.0360 gloss:0.4809 dloss:1.3511 glossQ:1.0168 dlossQ:1.2324 exploreP:0.5976\n",
      "Episode:133 meanR:43.9200 R:31.0000 rate:0.0620 gloss:0.5049 dloss:1.3480 glossQ:1.0150 dlossQ:1.2657 exploreP:0.5958\n",
      "Episode:134 meanR:44.7200 R:92.0000 rate:0.1840 gloss:0.4973 dloss:1.3497 glossQ:1.0147 dlossQ:1.2714 exploreP:0.5905\n",
      "Episode:135 meanR:45.1200 R:64.0000 rate:0.1280 gloss:0.4952 dloss:1.3495 glossQ:1.0142 dlossQ:1.2682 exploreP:0.5867\n",
      "Episode:136 meanR:45.1200 R:18.0000 rate:0.0360 gloss:0.4984 dloss:1.3519 glossQ:1.0152 dlossQ:1.2843 exploreP:0.5857\n",
      "Episode:137 meanR:45.5600 R:54.0000 rate:0.1080 gloss:0.5029 dloss:1.3477 glossQ:1.0151 dlossQ:1.2862 exploreP:0.5826\n",
      "Episode:138 meanR:46.2200 R:91.0000 rate:0.1820 gloss:0.4960 dloss:1.3479 glossQ:1.0158 dlossQ:1.2804 exploreP:0.5774\n",
      "Episode:139 meanR:47.3300 R:128.0000 rate:0.2560 gloss:0.4890 dloss:1.3489 glossQ:1.0166 dlossQ:1.2703 exploreP:0.5702\n",
      "Episode:140 meanR:46.9000 R:23.0000 rate:0.0460 gloss:0.4989 dloss:1.3462 glossQ:1.0148 dlossQ:1.2805 exploreP:0.5689\n"
     ]
    },
    {
     "name": "stdout",
     "output_type": "stream",
     "text": [
      "Episode:141 meanR:47.5000 R:92.0000 rate:0.1840 gloss:0.5055 dloss:1.3509 glossQ:1.0196 dlossQ:1.2989 exploreP:0.5638\n",
      "Episode:142 meanR:47.7400 R:45.0000 rate:0.0900 gloss:0.5067 dloss:1.3494 glossQ:1.0145 dlossQ:1.2926 exploreP:0.5613\n",
      "Episode:143 meanR:48.5700 R:104.0000 rate:0.2080 gloss:0.4991 dloss:1.3484 glossQ:1.0151 dlossQ:1.2862 exploreP:0.5556\n",
      "Episode:144 meanR:48.2300 R:24.0000 rate:0.0480 gloss:0.4988 dloss:1.3498 glossQ:1.0159 dlossQ:1.2907 exploreP:0.5543\n",
      "Episode:145 meanR:48.9000 R:82.0000 rate:0.1640 gloss:0.5002 dloss:1.3521 glossQ:1.0147 dlossQ:1.2907 exploreP:0.5499\n",
      "Episode:146 meanR:49.6300 R:109.0000 rate:0.2180 gloss:0.5006 dloss:1.3533 glossQ:1.0151 dlossQ:1.2716 exploreP:0.5440\n",
      "Episode:147 meanR:49.8500 R:58.0000 rate:0.1160 gloss:0.5091 dloss:1.3517 glossQ:1.0160 dlossQ:1.2820 exploreP:0.5409\n",
      "Episode:148 meanR:49.8400 R:33.0000 rate:0.0660 gloss:0.5086 dloss:1.3495 glossQ:1.0144 dlossQ:1.2874 exploreP:0.5392\n",
      "Episode:149 meanR:51.2200 R:161.0000 rate:0.3220 gloss:0.5040 dloss:1.3531 glossQ:1.0140 dlossQ:1.2777 exploreP:0.5307\n",
      "Episode:150 meanR:51.9800 R:86.0000 rate:0.1720 gloss:0.5129 dloss:1.3498 glossQ:1.0138 dlossQ:1.2929 exploreP:0.5263\n",
      "Episode:151 meanR:53.8500 R:197.0000 rate:0.3940 gloss:0.5005 dloss:1.3514 glossQ:1.0142 dlossQ:1.2798 exploreP:0.5162\n",
      "Episode:152 meanR:54.3400 R:70.0000 rate:0.1400 gloss:0.5045 dloss:1.3539 glossQ:1.0127 dlossQ:1.2921 exploreP:0.5127\n",
      "Episode:153 meanR:54.4600 R:24.0000 rate:0.0480 gloss:0.5057 dloss:1.3545 glossQ:1.0129 dlossQ:1.2803 exploreP:0.5115\n",
      "Episode:154 meanR:55.0500 R:142.0000 rate:0.2840 gloss:0.5142 dloss:1.3536 glossQ:1.0127 dlossQ:1.2968 exploreP:0.5044\n",
      "Episode:155 meanR:55.7300 R:91.0000 rate:0.1820 gloss:0.5174 dloss:1.3540 glossQ:1.0144 dlossQ:1.2989 exploreP:0.4999\n",
      "Episode:156 meanR:56.9300 R:144.0000 rate:0.2880 gloss:0.5168 dloss:1.3525 glossQ:1.0127 dlossQ:1.3028 exploreP:0.4929\n",
      "Episode:157 meanR:56.7500 R:10.0000 rate:0.0200 gloss:0.5153 dloss:1.3611 glossQ:1.0110 dlossQ:1.3150 exploreP:0.4924\n",
      "Episode:158 meanR:58.0700 R:156.0000 rate:0.3120 gloss:0.5198 dloss:1.3559 glossQ:1.0124 dlossQ:1.2987 exploreP:0.4849\n",
      "Episode:159 meanR:58.7400 R:102.0000 rate:0.2040 gloss:0.5335 dloss:1.3544 glossQ:1.0217 dlossQ:1.3202 exploreP:0.4801\n",
      "Episode:160 meanR:59.6900 R:162.0000 rate:0.3240 gloss:0.5247 dloss:1.3579 glossQ:1.0116 dlossQ:1.3049 exploreP:0.4726\n",
      "Episode:161 meanR:60.8700 R:131.0000 rate:0.2620 gloss:0.5288 dloss:1.3561 glossQ:1.0114 dlossQ:1.3091 exploreP:0.4666\n",
      "Episode:162 meanR:61.3700 R:127.0000 rate:0.2540 gloss:0.5412 dloss:1.3598 glossQ:1.0115 dlossQ:1.3143 exploreP:0.4608\n",
      "Episode:163 meanR:62.4500 R:136.0000 rate:0.2720 gloss:0.5390 dloss:1.3560 glossQ:1.0124 dlossQ:1.3221 exploreP:0.4547\n",
      "Episode:164 meanR:62.1600 R:12.0000 rate:0.0240 gloss:0.5311 dloss:1.3501 glossQ:1.0121 dlossQ:1.3107 exploreP:0.4542\n",
      "Episode:165 meanR:63.1900 R:118.0000 rate:0.2360 gloss:0.5383 dloss:1.3569 glossQ:1.0110 dlossQ:1.3210 exploreP:0.4490\n",
      "Episode:166 meanR:63.7500 R:83.0000 rate:0.1660 gloss:0.5393 dloss:1.3578 glossQ:1.0105 dlossQ:1.3313 exploreP:0.4453\n",
      "Episode:167 meanR:63.6500 R:40.0000 rate:0.0800 gloss:0.5391 dloss:1.3538 glossQ:1.0112 dlossQ:1.3301 exploreP:0.4436\n",
      "Episode:168 meanR:64.4100 R:121.0000 rate:0.2420 gloss:0.5365 dloss:1.3576 glossQ:1.0123 dlossQ:1.3312 exploreP:0.4384\n",
      "Episode:169 meanR:65.3100 R:116.0000 rate:0.2320 gloss:0.5438 dloss:1.3605 glossQ:1.0105 dlossQ:1.3426 exploreP:0.4334\n",
      "Episode:170 meanR:66.0900 R:120.0000 rate:0.2400 gloss:0.5613 dloss:1.3589 glossQ:1.0171 dlossQ:1.3435 exploreP:0.4284\n",
      "Episode:171 meanR:67.1200 R:121.0000 rate:0.2420 gloss:0.5504 dloss:1.3597 glossQ:1.0095 dlossQ:1.3493 exploreP:0.4234\n",
      "Episode:172 meanR:67.8200 R:90.0000 rate:0.1800 gloss:0.5578 dloss:1.3627 glossQ:1.0086 dlossQ:1.3462 exploreP:0.4197\n",
      "Episode:173 meanR:68.6000 R:106.0000 rate:0.2120 gloss:0.5605 dloss:1.3609 glossQ:1.0093 dlossQ:1.3457 exploreP:0.4153\n",
      "Episode:174 meanR:68.8600 R:70.0000 rate:0.1400 gloss:0.5619 dloss:1.3601 glossQ:1.0088 dlossQ:1.3526 exploreP:0.4125\n",
      "Episode:175 meanR:69.7300 R:111.0000 rate:0.2220 gloss:0.5615 dloss:1.3603 glossQ:1.0090 dlossQ:1.3524 exploreP:0.4081\n",
      "Episode:176 meanR:70.6200 R:108.0000 rate:0.2160 gloss:0.5601 dloss:1.3556 glossQ:1.0100 dlossQ:1.3635 exploreP:0.4038\n",
      "Episode:177 meanR:71.5300 R:107.0000 rate:0.2140 gloss:0.5489 dloss:1.3598 glossQ:1.0093 dlossQ:1.3538 exploreP:0.3996\n",
      "Episode:178 meanR:73.1100 R:180.0000 rate:0.3600 gloss:0.5644 dloss:1.3600 glossQ:1.0096 dlossQ:1.3751 exploreP:0.3926\n",
      "Episode:179 meanR:74.1700 R:132.0000 rate:0.2640 gloss:0.5598 dloss:1.3601 glossQ:1.0093 dlossQ:1.3712 exploreP:0.3876\n",
      "Episode:180 meanR:75.5300 R:174.0000 rate:0.3480 gloss:0.5746 dloss:1.3663 glossQ:1.0079 dlossQ:1.3598 exploreP:0.3811\n",
      "Episode:181 meanR:76.4100 R:126.0000 rate:0.2520 gloss:0.5791 dloss:1.3611 glossQ:1.0072 dlossQ:1.3672 exploreP:0.3765\n",
      "Episode:182 meanR:79.1800 R:295.0000 rate:0.5900 gloss:0.5620 dloss:1.3594 glossQ:1.0091 dlossQ:1.3622 exploreP:0.3658\n",
      "Episode:183 meanR:80.2000 R:120.0000 rate:0.2400 gloss:0.5585 dloss:1.3601 glossQ:1.0089 dlossQ:1.3629 exploreP:0.3616\n",
      "Episode:184 meanR:81.2100 R:123.0000 rate:0.2460 gloss:0.5612 dloss:1.3577 glossQ:1.0096 dlossQ:1.3783 exploreP:0.3573\n",
      "Episode:185 meanR:80.1600 R:15.0000 rate:0.0300 gloss:0.5657 dloss:1.3612 glossQ:1.0083 dlossQ:1.3895 exploreP:0.3568\n",
      "Episode:186 meanR:80.0100 R:87.0000 rate:0.1740 gloss:0.5651 dloss:1.3635 glossQ:1.0079 dlossQ:1.3697 exploreP:0.3537\n",
      "Episode:187 meanR:80.6300 R:85.0000 rate:0.1700 gloss:0.5770 dloss:1.3619 glossQ:1.0078 dlossQ:1.3781 exploreP:0.3508\n",
      "Episode:188 meanR:81.2000 R:94.0000 rate:0.1880 gloss:0.5701 dloss:1.3626 glossQ:1.0084 dlossQ:1.3733 exploreP:0.3476\n",
      "Episode:189 meanR:82.0400 R:124.0000 rate:0.2480 gloss:0.5918 dloss:1.3662 glossQ:1.0273 dlossQ:1.3965 exploreP:0.3435\n",
      "Episode:190 meanR:82.8100 R:146.0000 rate:0.2920 gloss:0.5874 dloss:1.3641 glossQ:1.0068 dlossQ:1.3727 exploreP:0.3387\n",
      "Episode:191 meanR:83.6800 R:109.0000 rate:0.2180 gloss:0.5822 dloss:1.3637 glossQ:1.0088 dlossQ:1.3694 exploreP:0.3351\n",
      "Episode:192 meanR:84.5500 R:166.0000 rate:0.3320 gloss:0.5842 dloss:1.3647 glossQ:1.0075 dlossQ:1.3768 exploreP:0.3297\n",
      "Episode:193 meanR:84.3700 R:88.0000 rate:0.1760 gloss:0.5794 dloss:1.3660 glossQ:1.0079 dlossQ:1.3754 exploreP:0.3269\n",
      "Episode:194 meanR:84.4200 R:107.0000 rate:0.2140 gloss:0.5941 dloss:1.3668 glossQ:1.0058 dlossQ:1.3817 exploreP:0.3236\n",
      "Episode:195 meanR:85.2900 R:171.0000 rate:0.3420 gloss:0.5892 dloss:1.3637 glossQ:1.0076 dlossQ:1.3714 exploreP:0.3182\n",
      "Episode:196 meanR:85.8300 R:84.0000 rate:0.1680 gloss:0.5932 dloss:1.3701 glossQ:1.0073 dlossQ:1.3731 exploreP:0.3157\n",
      "Episode:197 meanR:85.8500 R:47.0000 rate:0.0940 gloss:0.5966 dloss:1.3652 glossQ:1.0060 dlossQ:1.3616 exploreP:0.3142\n",
      "Episode:198 meanR:86.7900 R:111.0000 rate:0.2220 gloss:0.5892 dloss:1.3645 glossQ:1.0096 dlossQ:1.3683 exploreP:0.3109\n",
      "Episode:199 meanR:87.3400 R:104.0000 rate:0.2080 gloss:0.5891 dloss:1.3627 glossQ:1.0084 dlossQ:1.3683 exploreP:0.3078\n",
      "Episode:200 meanR:87.8100 R:92.0000 rate:0.1840 gloss:0.5937 dloss:1.3697 glossQ:1.0070 dlossQ:1.3824 exploreP:0.3050\n",
      "Episode:201 meanR:88.6200 R:99.0000 rate:0.1980 gloss:0.5855 dloss:1.3625 glossQ:1.0071 dlossQ:1.3635 exploreP:0.3021\n",
      "Episode:202 meanR:90.0100 R:161.0000 rate:0.3220 gloss:0.5917 dloss:1.3664 glossQ:1.0076 dlossQ:1.3775 exploreP:0.2975\n",
      "Episode:203 meanR:90.1200 R:39.0000 rate:0.0780 gloss:0.6017 dloss:1.3663 glossQ:1.0059 dlossQ:1.4045 exploreP:0.2963\n",
      "Episode:204 meanR:91.1700 R:119.0000 rate:0.2380 gloss:0.5881 dloss:1.3648 glossQ:1.0075 dlossQ:1.3686 exploreP:0.2930\n",
      "Episode:205 meanR:92.9300 R:243.0000 rate:0.4860 gloss:0.5815 dloss:1.3650 glossQ:1.0086 dlossQ:1.3663 exploreP:0.2862\n",
      "Episode:206 meanR:94.8700 R:223.0000 rate:0.4460 gloss:0.5862 dloss:1.3661 glossQ:1.0074 dlossQ:1.3631 exploreP:0.2801\n",
      "Episode:207 meanR:96.3800 R:194.0000 rate:0.3880 gloss:0.5930 dloss:1.3631 glossQ:1.0090 dlossQ:1.3861 exploreP:0.2749\n",
      "Episode:208 meanR:96.3400 R:37.0000 rate:0.0740 gloss:0.5741 dloss:1.3656 glossQ:1.0097 dlossQ:1.3726 exploreP:0.2739\n",
      "Episode:209 meanR:96.9400 R:140.0000 rate:0.2800 gloss:0.5888 dloss:1.3630 glossQ:1.0075 dlossQ:1.3842 exploreP:0.2702\n",
      "Episode:210 meanR:96.9200 R:149.0000 rate:0.2980 gloss:0.5774 dloss:1.3664 glossQ:1.0071 dlossQ:1.3659 exploreP:0.2664\n"
     ]
    },
    {
     "name": "stdout",
     "output_type": "stream",
     "text": [
      "Episode:211 meanR:97.5900 R:146.0000 rate:0.2920 gloss:0.5959 dloss:1.3693 glossQ:1.0067 dlossQ:1.3674 exploreP:0.2627\n",
      "Episode:212 meanR:97.5900 R:85.0000 rate:0.1700 gloss:0.6003 dloss:1.3658 glossQ:1.0053 dlossQ:1.3635 exploreP:0.2605\n",
      "Episode:213 meanR:98.2700 R:147.0000 rate:0.2940 gloss:0.6012 dloss:1.3671 glossQ:1.0085 dlossQ:1.3864 exploreP:0.2569\n",
      "Episode:214 meanR:99.2200 R:111.0000 rate:0.2220 gloss:0.6025 dloss:1.3665 glossQ:1.0079 dlossQ:1.3868 exploreP:0.2542\n",
      "Episode:215 meanR:100.0700 R:113.0000 rate:0.2260 gloss:0.5937 dloss:1.3663 glossQ:1.0080 dlossQ:1.3726 exploreP:0.2514\n",
      "Episode:216 meanR:101.4600 R:189.0000 rate:0.3780 gloss:0.5931 dloss:1.3654 glossQ:1.0080 dlossQ:1.3731 exploreP:0.2469\n",
      "Episode:217 meanR:101.3400 R:105.0000 rate:0.2100 gloss:0.6054 dloss:1.3698 glossQ:1.0087 dlossQ:1.3814 exploreP:0.2444\n",
      "Episode:218 meanR:101.8600 R:152.0000 rate:0.3040 gloss:0.5959 dloss:1.3661 glossQ:1.0116 dlossQ:1.3623 exploreP:0.2409\n",
      "Episode:219 meanR:103.0000 R:178.0000 rate:0.3560 gloss:0.5976 dloss:1.3665 glossQ:1.0069 dlossQ:1.3625 exploreP:0.2368\n",
      "Episode:220 meanR:104.8300 R:278.0000 rate:0.5560 gloss:0.5975 dloss:1.3687 glossQ:1.0077 dlossQ:1.3700 exploreP:0.2306\n",
      "Episode:221 meanR:105.7500 R:148.0000 rate:0.2960 gloss:0.6022 dloss:1.3696 glossQ:1.0077 dlossQ:1.3618 exploreP:0.2273\n",
      "Episode:222 meanR:105.9400 R:125.0000 rate:0.2500 gloss:0.6022 dloss:1.3663 glossQ:1.0071 dlossQ:1.3718 exploreP:0.2246\n",
      "Episode:223 meanR:108.4400 R:282.0000 rate:0.5640 gloss:0.6037 dloss:1.3692 glossQ:1.0073 dlossQ:1.3797 exploreP:0.2187\n",
      "Episode:224 meanR:109.6400 R:140.0000 rate:0.2800 gloss:0.6067 dloss:1.3698 glossQ:1.0081 dlossQ:1.3660 exploreP:0.2158\n",
      "Episode:225 meanR:110.7600 R:151.0000 rate:0.3020 gloss:0.6041 dloss:1.3678 glossQ:1.0080 dlossQ:1.3705 exploreP:0.2127\n",
      "Episode:226 meanR:111.5600 R:172.0000 rate:0.3440 gloss:0.5963 dloss:1.3681 glossQ:1.0076 dlossQ:1.3634 exploreP:0.2092\n",
      "Episode:227 meanR:113.0300 R:220.0000 rate:0.4400 gloss:0.6061 dloss:1.3680 glossQ:1.0074 dlossQ:1.3696 exploreP:0.2049\n",
      "Episode:228 meanR:113.8200 R:163.0000 rate:0.3260 gloss:0.6023 dloss:1.3683 glossQ:1.0083 dlossQ:1.3691 exploreP:0.2018\n",
      "Episode:229 meanR:114.1700 R:138.0000 rate:0.2760 gloss:0.6202 dloss:1.3692 glossQ:1.0112 dlossQ:1.3956 exploreP:0.1991\n",
      "Episode:230 meanR:115.3300 R:151.0000 rate:0.3020 gloss:0.6125 dloss:1.3750 glossQ:1.0058 dlossQ:1.3712 exploreP:0.1963\n",
      "Episode:231 meanR:117.1600 R:210.0000 rate:0.4200 gloss:0.6279 dloss:1.3729 glossQ:1.0068 dlossQ:1.3778 exploreP:0.1924\n",
      "Episode:232 meanR:118.4100 R:143.0000 rate:0.2860 gloss:0.6281 dloss:1.3700 glossQ:1.0000 dlossQ:1.3731 exploreP:0.1898\n",
      "Episode:233 meanR:119.5500 R:145.0000 rate:0.2900 gloss:0.6238 dloss:1.3683 glossQ:1.0078 dlossQ:1.3773 exploreP:0.1872\n",
      "Episode:234 meanR:120.4500 R:182.0000 rate:0.3640 gloss:0.6150 dloss:1.3681 glossQ:1.0093 dlossQ:1.3901 exploreP:0.1840\n",
      "Episode:235 meanR:120.9700 R:116.0000 rate:0.2320 gloss:0.6078 dloss:1.3679 glossQ:1.0132 dlossQ:1.3876 exploreP:0.1820\n",
      "Episode:236 meanR:122.1200 R:133.0000 rate:0.2660 gloss:0.6166 dloss:1.3686 glossQ:1.0064 dlossQ:1.3850 exploreP:0.1798\n",
      "Episode:237 meanR:123.1400 R:156.0000 rate:0.3120 gloss:0.6156 dloss:1.3722 glossQ:1.0085 dlossQ:1.3799 exploreP:0.1771\n",
      "Episode:238 meanR:124.1400 R:191.0000 rate:0.3820 gloss:0.6309 dloss:1.3711 glossQ:1.0091 dlossQ:1.3795 exploreP:0.1740\n",
      "Episode:239 meanR:124.4800 R:162.0000 rate:0.3240 gloss:0.6137 dloss:1.3716 glossQ:1.0067 dlossQ:1.3676 exploreP:0.1713\n",
      "Episode:240 meanR:126.0100 R:176.0000 rate:0.3520 gloss:0.6238 dloss:1.3728 glossQ:1.0086 dlossQ:1.3644 exploreP:0.1685\n",
      "Episode:241 meanR:126.8100 R:172.0000 rate:0.3440 gloss:0.6304 dloss:1.3697 glossQ:1.0081 dlossQ:1.3844 exploreP:0.1658\n",
      "Episode:242 meanR:129.3600 R:300.0000 rate:0.6000 gloss:0.6118 dloss:1.3706 glossQ:1.0066 dlossQ:1.3675 exploreP:0.1612\n",
      "Episode:243 meanR:129.5100 R:119.0000 rate:0.2380 gloss:0.6257 dloss:1.3713 glossQ:1.0086 dlossQ:1.3860 exploreP:0.1594\n",
      "Episode:244 meanR:130.7100 R:144.0000 rate:0.2880 gloss:0.6232 dloss:1.3666 glossQ:1.0094 dlossQ:1.3895 exploreP:0.1573\n",
      "Episode:245 meanR:131.2500 R:136.0000 rate:0.2720 gloss:0.6148 dloss:1.3688 glossQ:1.0100 dlossQ:1.3863 exploreP:0.1553\n",
      "Episode:246 meanR:131.9000 R:174.0000 rate:0.3480 gloss:0.6280 dloss:1.3728 glossQ:1.0078 dlossQ:1.3825 exploreP:0.1528\n",
      "Episode:247 meanR:133.6100 R:229.0000 rate:0.4580 gloss:0.6300 dloss:1.3701 glossQ:1.0083 dlossQ:1.3833 exploreP:0.1496\n",
      "Episode:248 meanR:134.7600 R:148.0000 rate:0.2960 gloss:0.6277 dloss:1.3733 glossQ:1.0073 dlossQ:1.3680 exploreP:0.1475\n",
      "Episode:249 meanR:134.3800 R:123.0000 rate:0.2460 gloss:0.6245 dloss:1.3706 glossQ:1.0096 dlossQ:1.3728 exploreP:0.1458\n",
      "Episode:250 meanR:135.2900 R:177.0000 rate:0.3540 gloss:0.6178 dloss:1.3693 glossQ:1.0102 dlossQ:1.3795 exploreP:0.1434\n",
      "Episode:251 meanR:134.7000 R:138.0000 rate:0.2760 gloss:0.6107 dloss:1.3690 glossQ:1.0101 dlossQ:1.3685 exploreP:0.1416\n",
      "Episode:252 meanR:135.2700 R:127.0000 rate:0.2540 gloss:0.6119 dloss:1.3742 glossQ:1.0098 dlossQ:1.3720 exploreP:0.1400\n",
      "Episode:253 meanR:137.2500 R:222.0000 rate:0.4440 gloss:0.6221 dloss:1.3720 glossQ:1.0095 dlossQ:1.3665 exploreP:0.1371\n",
      "Episode:254 meanR:138.2100 R:238.0000 rate:0.4760 gloss:0.6226 dloss:1.3718 glossQ:1.0117 dlossQ:1.3584 exploreP:0.1341\n",
      "Episode:255 meanR:138.7800 R:148.0000 rate:0.2960 gloss:0.6259 dloss:1.3762 glossQ:1.0109 dlossQ:1.3641 exploreP:0.1323\n",
      "Episode:256 meanR:138.9400 R:160.0000 rate:0.3200 gloss:0.6380 dloss:1.3721 glossQ:1.0091 dlossQ:1.3625 exploreP:0.1304\n",
      "Episode:257 meanR:140.1800 R:134.0000 rate:0.2680 gloss:0.6381 dloss:1.3730 glossQ:1.0067 dlossQ:1.3832 exploreP:0.1287\n",
      "Episode:258 meanR:140.1900 R:157.0000 rate:0.3140 gloss:0.6237 dloss:1.3741 glossQ:1.0064 dlossQ:1.3711 exploreP:0.1269\n",
      "Episode:259 meanR:141.7600 R:259.0000 rate:0.5180 gloss:0.6418 dloss:1.3740 glossQ:1.0098 dlossQ:1.3700 exploreP:0.1239\n",
      "Episode:260 meanR:141.0800 R:94.0000 rate:0.1880 gloss:0.6362 dloss:1.3741 glossQ:1.0095 dlossQ:1.3644 exploreP:0.1228\n",
      "Episode:261 meanR:141.7300 R:196.0000 rate:0.3920 gloss:0.6381 dloss:1.3747 glossQ:1.0135 dlossQ:1.3710 exploreP:0.1207\n",
      "Episode:262 meanR:142.1000 R:164.0000 rate:0.3280 gloss:0.6330 dloss:1.3733 glossQ:1.0104 dlossQ:1.3632 exploreP:0.1189\n",
      "Episode:263 meanR:142.8300 R:209.0000 rate:0.4180 gloss:0.6328 dloss:1.3791 glossQ:1.0105 dlossQ:1.3603 exploreP:0.1166\n",
      "Episode:264 meanR:143.9800 R:127.0000 rate:0.2540 gloss:0.6532 dloss:1.3778 glossQ:1.0101 dlossQ:1.3727 exploreP:0.1153\n",
      "Episode:265 meanR:144.5300 R:173.0000 rate:0.3460 gloss:0.6641 dloss:1.3759 glossQ:1.0099 dlossQ:1.3779 exploreP:0.1135\n",
      "Episode:266 meanR:145.7100 R:201.0000 rate:0.4020 gloss:0.6447 dloss:1.3748 glossQ:1.0095 dlossQ:1.3636 exploreP:0.1114\n",
      "Episode:267 meanR:147.5300 R:222.0000 rate:0.4440 gloss:0.6430 dloss:1.3757 glossQ:1.0108 dlossQ:1.3794 exploreP:0.1092\n",
      "Episode:268 meanR:147.5800 R:126.0000 rate:0.2520 gloss:0.6401 dloss:1.3762 glossQ:1.0107 dlossQ:1.3710 exploreP:0.1079\n",
      "Episode:269 meanR:148.2800 R:186.0000 rate:0.3720 gloss:0.6432 dloss:1.3765 glossQ:1.0113 dlossQ:1.3662 exploreP:0.1061\n",
      "Episode:270 meanR:148.5700 R:149.0000 rate:0.2980 gloss:0.6543 dloss:1.3760 glossQ:1.0125 dlossQ:1.3794 exploreP:0.1047\n",
      "Episode:271 meanR:148.7600 R:140.0000 rate:0.2800 gloss:0.6539 dloss:1.3761 glossQ:1.0111 dlossQ:1.3923 exploreP:0.1034\n",
      "Episode:272 meanR:149.2700 R:141.0000 rate:0.2820 gloss:0.6536 dloss:1.3764 glossQ:1.0108 dlossQ:1.3864 exploreP:0.1021\n",
      "Episode:273 meanR:150.3100 R:210.0000 rate:0.4200 gloss:0.6503 dloss:1.3757 glossQ:1.0121 dlossQ:1.3840 exploreP:0.1002\n",
      "Episode:274 meanR:152.2700 R:266.0000 rate:0.5320 gloss:0.6432 dloss:1.3764 glossQ:1.0124 dlossQ:1.3722 exploreP:0.0978\n",
      "Episode:275 meanR:153.3100 R:215.0000 rate:0.4300 gloss:0.6620 dloss:1.3787 glossQ:1.0132 dlossQ:1.3816 exploreP:0.0959\n",
      "Episode:276 meanR:153.6200 R:139.0000 rate:0.2780 gloss:0.6591 dloss:1.3741 glossQ:1.0149 dlossQ:1.4019 exploreP:0.0947\n",
      "Episode:277 meanR:155.1300 R:258.0000 rate:0.5160 gloss:0.6518 dloss:1.3773 glossQ:1.0148 dlossQ:1.3773 exploreP:0.0926\n",
      "Episode:278 meanR:155.6100 R:228.0000 rate:0.4560 gloss:0.6594 dloss:1.3776 glossQ:1.0135 dlossQ:1.3955 exploreP:0.0907\n",
      "Episode:279 meanR:155.8000 R:151.0000 rate:0.3020 gloss:0.6624 dloss:1.3775 glossQ:1.0133 dlossQ:1.3894 exploreP:0.0895\n"
     ]
    },
    {
     "name": "stdout",
     "output_type": "stream",
     "text": [
      "Episode:280 meanR:157.3000 R:324.0000 rate:0.6480 gloss:0.6582 dloss:1.3765 glossQ:1.0142 dlossQ:1.3835 exploreP:0.0870\n",
      "Episode:281 meanR:157.7700 R:173.0000 rate:0.3460 gloss:0.6708 dloss:1.3772 glossQ:1.0205 dlossQ:1.3988 exploreP:0.0857\n",
      "Episode:282 meanR:158.0000 R:318.0000 rate:0.6360 gloss:0.6722 dloss:1.3787 glossQ:1.0182 dlossQ:1.3911 exploreP:0.0833\n",
      "Episode:283 meanR:158.4700 R:167.0000 rate:0.3340 gloss:0.6672 dloss:1.3784 glossQ:1.0153 dlossQ:1.3832 exploreP:0.0821\n",
      "Episode:284 meanR:158.9300 R:169.0000 rate:0.3380 gloss:0.6749 dloss:1.3779 glossQ:1.0149 dlossQ:1.4171 exploreP:0.0809\n",
      "Episode:285 meanR:161.0900 R:231.0000 rate:0.4620 gloss:0.6746 dloss:1.3758 glossQ:1.0157 dlossQ:1.4132 exploreP:0.0792\n",
      "Episode:286 meanR:162.5300 R:231.0000 rate:0.4620 gloss:0.6697 dloss:1.3786 glossQ:1.0177 dlossQ:1.3798 exploreP:0.0777\n",
      "Episode:287 meanR:164.8300 R:315.0000 rate:0.6300 gloss:0.6709 dloss:1.3776 glossQ:1.0151 dlossQ:1.3883 exploreP:0.0756\n",
      "Episode:288 meanR:166.3000 R:241.0000 rate:0.4820 gloss:0.6658 dloss:1.3788 glossQ:1.0157 dlossQ:1.3727 exploreP:0.0740\n",
      "Episode:289 meanR:166.8300 R:177.0000 rate:0.3540 gloss:0.6825 dloss:1.3763 glossQ:1.0177 dlossQ:1.3955 exploreP:0.0729\n",
      "Episode:290 meanR:166.5800 R:121.0000 rate:0.2420 gloss:0.6770 dloss:1.3788 glossQ:1.0222 dlossQ:1.3892 exploreP:0.0721\n",
      "Episode:291 meanR:166.8000 R:131.0000 rate:0.2620 gloss:0.6769 dloss:1.3812 glossQ:1.0170 dlossQ:1.3829 exploreP:0.0713\n",
      "Episode:292 meanR:166.4400 R:130.0000 rate:0.2600 gloss:0.6876 dloss:1.3787 glossQ:1.0168 dlossQ:1.4012 exploreP:0.0705\n",
      "Episode:293 meanR:166.8300 R:127.0000 rate:0.2540 gloss:0.6781 dloss:1.3789 glossQ:1.0164 dlossQ:1.3779 exploreP:0.0698\n",
      "Episode:294 meanR:166.9400 R:118.0000 rate:0.2360 gloss:0.6842 dloss:1.3749 glossQ:1.0181 dlossQ:1.4069 exploreP:0.0691\n",
      "Episode:295 meanR:167.3200 R:209.0000 rate:0.4180 gloss:0.6819 dloss:1.3784 glossQ:1.0164 dlossQ:1.3909 exploreP:0.0678\n",
      "Episode:296 meanR:168.0000 R:152.0000 rate:0.3040 gloss:0.6923 dloss:1.3788 glossQ:1.0177 dlossQ:1.3979 exploreP:0.0670\n",
      "Episode:297 meanR:169.0100 R:148.0000 rate:0.2960 gloss:0.6832 dloss:1.3774 glossQ:1.0153 dlossQ:1.3803 exploreP:0.0661\n",
      "Episode:298 meanR:170.0600 R:216.0000 rate:0.4320 gloss:0.6903 dloss:1.3789 glossQ:1.0184 dlossQ:1.4110 exploreP:0.0649\n",
      "Episode:299 meanR:170.6000 R:158.0000 rate:0.3160 gloss:0.6835 dloss:1.3794 glossQ:1.0190 dlossQ:1.3935 exploreP:0.0641\n",
      "Episode:300 meanR:171.3400 R:166.0000 rate:0.3320 gloss:0.6828 dloss:1.3780 glossQ:1.0173 dlossQ:1.3658 exploreP:0.0632\n",
      "Episode:301 meanR:171.6800 R:133.0000 rate:0.2660 gloss:0.6942 dloss:1.3789 glossQ:1.0185 dlossQ:1.3924 exploreP:0.0625\n",
      "Episode:302 meanR:171.5700 R:150.0000 rate:0.3000 gloss:0.7089 dloss:1.3780 glossQ:1.0200 dlossQ:1.4249 exploreP:0.0617\n",
      "Episode:303 meanR:173.4500 R:227.0000 rate:0.4540 gloss:0.6935 dloss:1.3761 glossQ:1.0182 dlossQ:1.3885 exploreP:0.0605\n",
      "Episode:304 meanR:173.5600 R:130.0000 rate:0.2600 gloss:0.6970 dloss:1.3790 glossQ:1.0196 dlossQ:1.4355 exploreP:0.0599\n",
      "Episode:305 meanR:174.5400 R:341.0000 rate:0.6820 gloss:0.6817 dloss:1.3781 glossQ:1.0209 dlossQ:1.3998 exploreP:0.0582\n",
      "Episode:306 meanR:174.8500 R:254.0000 rate:0.5080 gloss:0.6883 dloss:1.3788 glossQ:1.0222 dlossQ:1.4126 exploreP:0.0570\n",
      "Episode:307 meanR:174.4700 R:156.0000 rate:0.3120 gloss:0.6906 dloss:1.3785 glossQ:1.0224 dlossQ:1.3874 exploreP:0.0563\n",
      "Episode:308 meanR:175.5300 R:143.0000 rate:0.2860 gloss:0.6963 dloss:1.3795 glossQ:1.0221 dlossQ:1.4114 exploreP:0.0556\n",
      "Episode:309 meanR:176.3500 R:222.0000 rate:0.4440 gloss:0.7040 dloss:1.3787 glossQ:1.0222 dlossQ:1.4134 exploreP:0.0546\n",
      "Episode:310 meanR:176.5900 R:173.0000 rate:0.3460 gloss:0.6836 dloss:1.3789 glossQ:1.0206 dlossQ:1.3634 exploreP:0.0539\n",
      "Episode:311 meanR:176.3800 R:125.0000 rate:0.2500 gloss:0.6950 dloss:1.3807 glossQ:1.0214 dlossQ:1.3710 exploreP:0.0533\n",
      "Episode:312 meanR:177.7100 R:218.0000 rate:0.4360 gloss:0.7085 dloss:1.3804 glossQ:1.0213 dlossQ:1.3908 exploreP:0.0524\n",
      "Episode:313 meanR:177.8100 R:157.0000 rate:0.3140 gloss:0.6977 dloss:1.3809 glossQ:1.0226 dlossQ:1.3780 exploreP:0.0517\n",
      "Episode:314 meanR:178.1800 R:148.0000 rate:0.2960 gloss:0.7044 dloss:1.3795 glossQ:1.0229 dlossQ:1.4012 exploreP:0.0511\n",
      "Episode:315 meanR:179.8500 R:280.0000 rate:0.5600 gloss:0.7047 dloss:1.3801 glossQ:1.0237 dlossQ:1.3971 exploreP:0.0500\n",
      "Episode:316 meanR:179.2700 R:131.0000 rate:0.2620 gloss:0.7171 dloss:1.3793 glossQ:1.0270 dlossQ:1.4338 exploreP:0.0494\n",
      "Episode:317 meanR:180.8400 R:262.0000 rate:0.5240 gloss:0.7276 dloss:1.3794 glossQ:1.0215 dlossQ:1.4502 exploreP:0.0484\n",
      "Episode:318 meanR:180.6800 R:136.0000 rate:0.2720 gloss:0.7262 dloss:1.3798 glossQ:1.0279 dlossQ:1.4578 exploreP:0.0479\n",
      "Episode:319 meanR:180.8600 R:196.0000 rate:0.3920 gloss:0.7164 dloss:1.3785 glossQ:1.0267 dlossQ:1.4325 exploreP:0.0472\n",
      "Episode:320 meanR:179.7100 R:163.0000 rate:0.3260 gloss:0.7230 dloss:1.3805 glossQ:1.0270 dlossQ:1.4415 exploreP:0.0466\n",
      "Episode:321 meanR:180.7500 R:252.0000 rate:0.5040 gloss:0.7058 dloss:1.3793 glossQ:1.0251 dlossQ:1.3847 exploreP:0.0457\n",
      "Episode:322 meanR:181.2000 R:170.0000 rate:0.3400 gloss:0.7395 dloss:1.3784 glossQ:1.0262 dlossQ:1.4415 exploreP:0.0451\n",
      "Episode:323 meanR:181.6800 R:330.0000 rate:0.6600 gloss:0.7299 dloss:1.3791 glossQ:1.0286 dlossQ:1.4364 exploreP:0.0439\n",
      "Episode:324 meanR:183.1000 R:282.0000 rate:0.5640 gloss:0.7312 dloss:1.3805 glossQ:1.0281 dlossQ:1.4014 exploreP:0.0430\n",
      "Episode:325 meanR:183.9800 R:239.0000 rate:0.4780 gloss:0.7338 dloss:1.3789 glossQ:1.0326 dlossQ:1.4684 exploreP:0.0422\n",
      "Episode:326 meanR:184.6200 R:236.0000 rate:0.4720 gloss:0.7241 dloss:1.3800 glossQ:1.0309 dlossQ:1.4609 exploreP:0.0414\n",
      "Episode:327 meanR:185.5300 R:311.0000 rate:0.6220 gloss:0.7519 dloss:1.3785 glossQ:1.0305 dlossQ:1.4782 exploreP:0.0405\n",
      "Episode:328 meanR:185.5400 R:164.0000 rate:0.3280 gloss:0.7407 dloss:1.3782 glossQ:1.0348 dlossQ:1.4855 exploreP:0.0400\n",
      "Episode:329 meanR:186.2300 R:207.0000 rate:0.4140 gloss:0.7275 dloss:1.3795 glossQ:1.0319 dlossQ:1.4613 exploreP:0.0394\n",
      "Episode:330 meanR:189.1600 R:444.0000 rate:0.8880 gloss:0.7331 dloss:1.3795 glossQ:1.0333 dlossQ:1.4524 exploreP:0.0381\n",
      "Episode:331 meanR:188.9700 R:191.0000 rate:0.3820 gloss:0.7407 dloss:1.3790 glossQ:1.0294 dlossQ:1.4436 exploreP:0.0376\n",
      "Episode:332 meanR:188.9200 R:138.0000 rate:0.2760 gloss:0.7658 dloss:1.3813 glossQ:1.0349 dlossQ:1.5016 exploreP:0.0372\n",
      "Episode:333 meanR:189.5200 R:205.0000 rate:0.4100 gloss:0.7635 dloss:1.3799 glossQ:1.0396 dlossQ:1.5187 exploreP:0.0366\n",
      "Episode:334 meanR:189.2400 R:154.0000 rate:0.3080 gloss:0.7615 dloss:1.3799 glossQ:1.0316 dlossQ:1.4791 exploreP:0.0362\n",
      "Episode:335 meanR:191.2300 R:315.0000 rate:0.6300 gloss:0.7621 dloss:1.3799 glossQ:1.0349 dlossQ:1.5006 exploreP:0.0354\n",
      "Episode:336 meanR:192.1700 R:227.0000 rate:0.4540 gloss:0.7542 dloss:1.3786 glossQ:1.0358 dlossQ:1.4823 exploreP:0.0348\n",
      "Episode:337 meanR:193.0900 R:248.0000 rate:0.4960 gloss:0.7613 dloss:1.3761 glossQ:1.0366 dlossQ:1.4891 exploreP:0.0342\n",
      "Episode:338 meanR:193.5900 R:241.0000 rate:0.4820 gloss:0.7652 dloss:1.3761 glossQ:1.0364 dlossQ:1.4871 exploreP:0.0337\n",
      "Episode:339 meanR:193.7100 R:174.0000 rate:0.3480 gloss:0.8031 dloss:1.3783 glossQ:1.0393 dlossQ:1.5593 exploreP:0.0333\n",
      "Episode:340 meanR:193.7400 R:179.0000 rate:0.3580 gloss:0.7768 dloss:1.3765 glossQ:1.0420 dlossQ:1.4844 exploreP:0.0328\n",
      "Episode:341 meanR:193.8400 R:182.0000 rate:0.3640 gloss:0.7932 dloss:1.3790 glossQ:1.0437 dlossQ:1.5756 exploreP:0.0324\n",
      "Episode:342 meanR:195.0600 R:422.0000 rate:0.8440 gloss:0.7664 dloss:1.3777 glossQ:1.0406 dlossQ:1.4999 exploreP:0.0315\n",
      "Episode:343 meanR:195.1500 R:128.0000 rate:0.2560 gloss:0.7903 dloss:1.3766 glossQ:1.0402 dlossQ:1.5236 exploreP:0.0312\n",
      "Episode:344 meanR:197.2600 R:355.0000 rate:0.7100 gloss:0.7871 dloss:1.3753 glossQ:1.0407 dlossQ:1.5216 exploreP:0.0305\n",
      "Episode:345 meanR:198.4900 R:259.0000 rate:0.5180 gloss:0.7733 dloss:1.3731 glossQ:1.0431 dlossQ:1.4998 exploreP:0.0300\n",
      "Episode:346 meanR:201.7500 R:500.0000 rate:1.0000 gloss:0.8089 dloss:1.3761 glossQ:1.0453 dlossQ:1.5360 exploreP:0.0290\n",
      "Episode:347 meanR:201.3800 R:192.0000 rate:0.3840 gloss:0.8283 dloss:1.3754 glossQ:1.0479 dlossQ:1.6130 exploreP:0.0286\n",
      "Episode:348 meanR:202.4000 R:250.0000 rate:0.5000 gloss:0.7869 dloss:1.3745 glossQ:1.0409 dlossQ:1.4967 exploreP:0.0282\n"
     ]
    },
    {
     "name": "stdout",
     "output_type": "stream",
     "text": [
      "Episode:349 meanR:206.1700 R:500.0000 rate:1.0000 gloss:0.8048 dloss:1.3742 glossQ:1.0411 dlossQ:1.5117 exploreP:0.0273\n",
      "Episode:350 meanR:207.6000 R:320.0000 rate:0.6400 gloss:0.8354 dloss:1.3713 glossQ:1.0477 dlossQ:1.5771 exploreP:0.0267\n",
      "Episode:351 meanR:208.7000 R:248.0000 rate:0.4960 gloss:0.8221 dloss:1.3739 glossQ:1.0450 dlossQ:1.5425 exploreP:0.0263\n",
      "Episode:352 meanR:208.9800 R:155.0000 rate:0.3100 gloss:0.8243 dloss:1.3787 glossQ:1.0458 dlossQ:1.5620 exploreP:0.0261\n",
      "Episode:353 meanR:208.2400 R:148.0000 rate:0.2960 gloss:0.8081 dloss:1.3715 glossQ:1.0381 dlossQ:1.5068 exploreP:0.0258\n",
      "Episode:354 meanR:208.1800 R:232.0000 rate:0.4640 gloss:0.8283 dloss:1.3689 glossQ:1.0385 dlossQ:1.5274 exploreP:0.0255\n",
      "Episode:355 meanR:211.7000 R:500.0000 rate:1.0000 gloss:0.8243 dloss:1.3707 glossQ:1.0429 dlossQ:1.5271 exploreP:0.0247\n",
      "Episode:356 meanR:213.1100 R:301.0000 rate:0.6020 gloss:0.8271 dloss:1.3657 glossQ:1.0470 dlossQ:1.5436 exploreP:0.0243\n",
      "Episode:357 meanR:215.2300 R:346.0000 rate:0.6920 gloss:0.8683 dloss:1.3660 glossQ:1.0526 dlossQ:1.6169 exploreP:0.0238\n",
      "Episode:358 meanR:215.4400 R:178.0000 rate:0.3560 gloss:0.8518 dloss:1.3739 glossQ:1.0450 dlossQ:1.5489 exploreP:0.0236\n",
      "Episode:359 meanR:215.7500 R:290.0000 rate:0.5800 gloss:0.8378 dloss:1.3644 glossQ:1.0461 dlossQ:1.5270 exploreP:0.0232\n",
      "Episode:360 meanR:219.8100 R:500.0000 rate:1.0000 gloss:0.8372 dloss:1.3678 glossQ:1.0446 dlossQ:1.5425 exploreP:0.0225\n",
      "Episode:361 meanR:219.4900 R:164.0000 rate:0.3280 gloss:0.8490 dloss:1.3659 glossQ:1.0463 dlossQ:1.5687 exploreP:0.0223\n",
      "Episode:362 meanR:222.8500 R:500.0000 rate:1.0000 gloss:0.8363 dloss:1.3599 glossQ:1.0453 dlossQ:1.5293 exploreP:0.0217\n",
      "Episode:363 meanR:222.3100 R:155.0000 rate:0.3100 gloss:0.8754 dloss:1.3586 glossQ:1.0483 dlossQ:1.5590 exploreP:0.0215\n",
      "Episode:364 meanR:226.0400 R:500.0000 rate:1.0000 gloss:0.8734 dloss:1.3588 glossQ:1.0495 dlossQ:1.5939 exploreP:0.0210\n",
      "Episode:365 meanR:227.3000 R:299.0000 rate:0.5980 gloss:0.8577 dloss:1.3612 glossQ:1.0420 dlossQ:1.5159 exploreP:0.0207\n",
      "Episode:366 meanR:230.2900 R:500.0000 rate:1.0000 gloss:0.8596 dloss:1.3567 glossQ:1.0449 dlossQ:1.5190 exploreP:0.0201\n",
      "Episode:367 meanR:231.6300 R:356.0000 rate:0.7120 gloss:0.8737 dloss:1.3626 glossQ:1.0429 dlossQ:1.5357 exploreP:0.0198\n",
      "Episode:368 meanR:233.8700 R:350.0000 rate:0.7000 gloss:0.8824 dloss:1.3580 glossQ:1.0455 dlossQ:1.5521 exploreP:0.0194\n",
      "Episode:369 meanR:234.1000 R:209.0000 rate:0.4180 gloss:0.8892 dloss:1.3520 glossQ:1.0431 dlossQ:1.5381 exploreP:0.0192\n",
      "Episode:370 meanR:237.3000 R:469.0000 rate:0.9380 gloss:0.8780 dloss:1.3553 glossQ:1.0477 dlossQ:1.5580 exploreP:0.0188\n",
      "Episode:371 meanR:239.0700 R:317.0000 rate:0.6340 gloss:0.8741 dloss:1.3567 glossQ:1.0447 dlossQ:1.5306 exploreP:0.0186\n",
      "Episode:372 meanR:241.1800 R:352.0000 rate:0.7040 gloss:0.8899 dloss:1.3384 glossQ:1.0501 dlossQ:1.5782 exploreP:0.0183\n",
      "Episode:373 meanR:242.2100 R:313.0000 rate:0.6260 gloss:0.8909 dloss:1.3308 glossQ:1.0500 dlossQ:1.5414 exploreP:0.0180\n",
      "Episode:374 meanR:240.9500 R:140.0000 rate:0.2800 gloss:0.9260 dloss:1.3394 glossQ:1.0418 dlossQ:1.5446 exploreP:0.0179\n",
      "Episode:375 meanR:240.5800 R:178.0000 rate:0.3560 gloss:0.9449 dloss:1.3647 glossQ:1.0439 dlossQ:1.6088 exploreP:0.0178\n",
      "Episode:376 meanR:240.9600 R:177.0000 rate:0.3540 gloss:0.8833 dloss:1.3551 glossQ:1.0449 dlossQ:1.4989 exploreP:0.0176\n",
      "Episode:377 meanR:240.4500 R:207.0000 rate:0.4140 gloss:0.8946 dloss:1.3505 glossQ:1.0517 dlossQ:1.5951 exploreP:0.0175\n",
      "Episode:378 meanR:243.1700 R:500.0000 rate:1.0000 gloss:0.8998 dloss:1.3388 glossQ:1.0494 dlossQ:1.5577 exploreP:0.0171\n",
      "Episode:379 meanR:245.5800 R:392.0000 rate:0.7840 gloss:0.9148 dloss:1.3355 glossQ:1.0504 dlossQ:1.5734 exploreP:0.0168\n",
      "Episode:380 meanR:247.0900 R:475.0000 rate:0.9500 gloss:0.9117 dloss:1.3305 glossQ:1.0460 dlossQ:1.5476 exploreP:0.0165\n",
      "Episode:381 meanR:249.6100 R:425.0000 rate:0.8500 gloss:0.9450 dloss:1.3484 glossQ:1.0454 dlossQ:1.6212 exploreP:0.0162\n",
      "Episode:382 meanR:251.4300 R:500.0000 rate:1.0000 gloss:0.9082 dloss:1.3300 glossQ:1.0408 dlossQ:1.5320 exploreP:0.0159\n",
      "Episode:383 meanR:254.7600 R:500.0000 rate:1.0000 gloss:0.9358 dloss:1.3339 glossQ:1.0549 dlossQ:1.5803 exploreP:0.0156\n",
      "Episode:384 meanR:256.4700 R:340.0000 rate:0.6800 gloss:0.9398 dloss:1.3309 glossQ:1.0492 dlossQ:1.5925 exploreP:0.0155\n",
      "Episode:385 meanR:255.9800 R:182.0000 rate:0.3640 gloss:0.9134 dloss:1.3390 glossQ:1.0445 dlossQ:1.5443 exploreP:0.0154\n",
      "Episode:386 meanR:258.6700 R:500.0000 rate:1.0000 gloss:0.9210 dloss:1.3274 glossQ:1.0450 dlossQ:1.5283 exploreP:0.0151\n",
      "Episode:387 meanR:259.8100 R:429.0000 rate:0.8580 gloss:0.9352 dloss:1.3076 glossQ:1.0499 dlossQ:1.5417 exploreP:0.0149\n",
      "Episode:388 meanR:262.4000 R:500.0000 rate:1.0000 gloss:0.9590 dloss:1.3178 glossQ:1.0454 dlossQ:1.5746 exploreP:0.0146\n",
      "Episode:389 meanR:265.6300 R:500.0000 rate:1.0000 gloss:0.9429 dloss:1.3163 glossQ:1.0466 dlossQ:1.5516 exploreP:0.0144\n",
      "Episode:390 meanR:269.4200 R:500.0000 rate:1.0000 gloss:0.9630 dloss:1.3135 glossQ:1.0482 dlossQ:1.5857 exploreP:0.0142\n",
      "Episode:391 meanR:270.0200 R:191.0000 rate:0.3820 gloss:1.0083 dloss:1.3143 glossQ:1.0526 dlossQ:1.6719 exploreP:0.0141\n",
      "Episode:392 meanR:273.2900 R:457.0000 rate:0.9140 gloss:0.9662 dloss:1.3002 glossQ:1.0530 dlossQ:1.5879 exploreP:0.0139\n",
      "Episode:393 meanR:274.7100 R:269.0000 rate:0.5380 gloss:1.0028 dloss:1.3134 glossQ:1.0569 dlossQ:1.6206 exploreP:0.0138\n",
      "Episode:394 meanR:278.5300 R:500.0000 rate:1.0000 gloss:0.9755 dloss:1.2971 glossQ:1.0507 dlossQ:1.5959 exploreP:0.0136\n",
      "Episode:395 meanR:280.9100 R:447.0000 rate:0.8940 gloss:1.0067 dloss:1.2896 glossQ:1.0572 dlossQ:1.6519 exploreP:0.0135\n",
      "Episode:396 meanR:284.3900 R:500.0000 rate:1.0000 gloss:0.9948 dloss:1.2856 glossQ:1.0563 dlossQ:1.6318 exploreP:0.0133\n",
      "Episode:397 meanR:287.2300 R:432.0000 rate:0.8640 gloss:1.0195 dloss:1.3005 glossQ:1.0585 dlossQ:1.6849 exploreP:0.0132\n",
      "Episode:398 meanR:290.0700 R:500.0000 rate:1.0000 gloss:1.0175 dloss:1.3002 glossQ:1.0580 dlossQ:1.7024 exploreP:0.0130\n",
      "Episode:399 meanR:293.4900 R:500.0000 rate:1.0000 gloss:0.9987 dloss:1.3017 glossQ:1.0619 dlossQ:1.6575 exploreP:0.0129\n",
      "Episode:400 meanR:296.8300 R:500.0000 rate:1.0000 gloss:1.0011 dloss:1.2957 glossQ:1.0632 dlossQ:1.6978 exploreP:0.0127\n",
      "Episode:401 meanR:299.5500 R:405.0000 rate:0.8100 gloss:0.9976 dloss:1.2798 glossQ:1.0603 dlossQ:1.6443 exploreP:0.0126\n",
      "Episode:402 meanR:299.6600 R:161.0000 rate:0.3220 gloss:1.0434 dloss:1.2859 glossQ:1.0739 dlossQ:1.7697 exploreP:0.0126\n",
      "Episode:403 meanR:302.3100 R:492.0000 rate:0.9840 gloss:1.0400 dloss:1.2866 glossQ:1.0682 dlossQ:1.7463 exploreP:0.0125\n",
      "Episode:404 meanR:306.0100 R:500.0000 rate:1.0000 gloss:1.0166 dloss:1.2815 glossQ:1.0594 dlossQ:1.6774 exploreP:0.0123\n",
      "Episode:405 meanR:307.6000 R:500.0000 rate:1.0000 gloss:1.0249 dloss:1.2711 glossQ:1.0663 dlossQ:1.7352 exploreP:0.0122\n",
      "Episode:406 meanR:310.0600 R:500.0000 rate:1.0000 gloss:1.0426 dloss:1.2823 glossQ:1.0709 dlossQ:1.7488 exploreP:0.0121\n",
      "Episode:407 meanR:313.5000 R:500.0000 rate:1.0000 gloss:1.0333 dloss:1.2701 glossQ:1.0732 dlossQ:1.7490 exploreP:0.0120\n",
      "Episode:408 meanR:316.4900 R:442.0000 rate:0.8840 gloss:1.0367 dloss:1.2551 glossQ:1.0664 dlossQ:1.6954 exploreP:0.0119\n",
      "Episode:409 meanR:319.2700 R:500.0000 rate:1.0000 gloss:1.0441 dloss:1.2252 glossQ:1.0750 dlossQ:1.7218 exploreP:0.0118\n",
      "Episode:410 meanR:322.5400 R:500.0000 rate:1.0000 gloss:1.0984 dloss:1.2544 glossQ:1.0800 dlossQ:1.8186 exploreP:0.0117\n",
      "Episode:411 meanR:326.2900 R:500.0000 rate:1.0000 gloss:1.0654 dloss:1.2563 glossQ:1.0823 dlossQ:1.7704 exploreP:0.0117\n",
      "Episode:412 meanR:329.1100 R:500.0000 rate:1.0000 gloss:1.0546 dloss:1.2326 glossQ:1.0753 dlossQ:1.7438 exploreP:0.0116\n",
      "Episode:413 meanR:332.3500 R:481.0000 rate:0.9620 gloss:1.0879 dloss:1.2422 glossQ:1.0842 dlossQ:1.8020 exploreP:0.0115\n",
      "Episode:414 meanR:332.6300 R:176.0000 rate:0.3520 gloss:1.0661 dloss:1.2384 glossQ:1.1117 dlossQ:1.8557 exploreP:0.0115\n",
      "Episode:415 meanR:331.2600 R:143.0000 rate:0.2860 gloss:1.0343 dloss:1.2081 glossQ:1.0926 dlossQ:1.7903 exploreP:0.0115\n",
      "Episode:416 meanR:331.5400 R:159.0000 rate:0.3180 gloss:1.0750 dloss:1.2087 glossQ:1.0839 dlossQ:1.7530 exploreP:0.0114\n",
      "Episode:417 meanR:333.9200 R:500.0000 rate:1.0000 gloss:1.0986 dloss:1.2267 glossQ:1.0902 dlossQ:1.8490 exploreP:0.0114\n"
     ]
    },
    {
     "name": "stdout",
     "output_type": "stream",
     "text": [
      "Episode:418 meanR:337.5600 R:500.0000 rate:1.0000 gloss:1.0860 dloss:1.2234 glossQ:1.0874 dlossQ:1.7814 exploreP:0.0113\n",
      "Episode:419 meanR:340.6000 R:500.0000 rate:1.0000 gloss:1.0906 dloss:1.2325 glossQ:1.0955 dlossQ:1.8615 exploreP:0.0112\n",
      "Episode:420 meanR:340.2000 R:123.0000 rate:0.2460 gloss:1.0838 dloss:1.2064 glossQ:1.0870 dlossQ:1.7848 exploreP:0.0112\n",
      "Episode:421 meanR:342.5400 R:486.0000 rate:0.9720 gloss:1.0951 dloss:1.1930 glossQ:1.1363 dlossQ:1.8693 exploreP:0.0112\n",
      "Episode:422 meanR:345.8400 R:500.0000 rate:1.0000 gloss:1.1054 dloss:1.1869 glossQ:1.1050 dlossQ:1.8618 exploreP:0.0111\n",
      "Episode:423 meanR:347.5400 R:500.0000 rate:1.0000 gloss:1.1470 dloss:1.2028 glossQ:1.1218 dlossQ:1.9739 exploreP:0.0110\n",
      "Episode:424 meanR:349.7200 R:500.0000 rate:1.0000 gloss:1.1113 dloss:1.1808 glossQ:1.1134 dlossQ:1.9183 exploreP:0.0110\n",
      "Episode:425 meanR:351.3700 R:404.0000 rate:0.8080 gloss:1.1463 dloss:1.1719 glossQ:1.1357 dlossQ:2.0053 exploreP:0.0110\n",
      "Episode:426 meanR:354.0100 R:500.0000 rate:1.0000 gloss:1.1559 dloss:1.1854 glossQ:1.1314 dlossQ:2.0113 exploreP:0.0109\n",
      "Episode:427 meanR:355.9000 R:500.0000 rate:1.0000 gloss:1.1635 dloss:1.1842 glossQ:1.1228 dlossQ:1.9768 exploreP:0.0109\n",
      "Episode:428 meanR:359.2600 R:500.0000 rate:1.0000 gloss:1.1159 dloss:1.1936 glossQ:1.1612 dlossQ:1.9557 exploreP:0.0108\n",
      "Episode:429 meanR:362.1900 R:500.0000 rate:1.0000 gloss:1.1654 dloss:1.1571 glossQ:1.1351 dlossQ:2.0405 exploreP:0.0108\n",
      "Episode:430 meanR:359.0800 R:133.0000 rate:0.2660 gloss:1.1579 dloss:1.1560 glossQ:1.1342 dlossQ:2.0143 exploreP:0.0108\n",
      "Episode:431 meanR:358.7500 R:158.0000 rate:0.3160 gloss:1.1772 dloss:1.1582 glossQ:1.1918 dlossQ:2.3661 exploreP:0.0108\n",
      "Episode:432 meanR:359.1200 R:175.0000 rate:0.3500 gloss:1.2003 dloss:1.1804 glossQ:1.1502 dlossQ:2.1689 exploreP:0.0107\n",
      "Episode:433 meanR:362.0700 R:500.0000 rate:1.0000 gloss:1.1384 dloss:1.1460 glossQ:1.1426 dlossQ:1.9619 exploreP:0.0107\n",
      "Episode:434 meanR:365.5300 R:500.0000 rate:1.0000 gloss:1.1640 dloss:1.1227 glossQ:1.1564 dlossQ:2.0516 exploreP:0.0107\n",
      "Episode:435 meanR:367.3800 R:500.0000 rate:1.0000 gloss:1.1460 dloss:1.0788 glossQ:1.1479 dlossQ:1.9492 exploreP:0.0106\n",
      "Episode:436 meanR:369.7700 R:466.0000 rate:0.9320 gloss:1.2356 dloss:1.1213 glossQ:1.1811 dlossQ:2.2255 exploreP:0.0106\n",
      "Episode:437 meanR:369.0900 R:180.0000 rate:0.3600 gloss:1.2353 dloss:1.1113 glossQ:1.2255 dlossQ:2.3145 exploreP:0.0106\n",
      "Episode:438 meanR:369.4000 R:272.0000 rate:0.5440 gloss:1.2125 dloss:1.1181 glossQ:1.1788 dlossQ:2.1984 exploreP:0.0106\n",
      "Episode:439 meanR:372.6600 R:500.0000 rate:1.0000 gloss:1.2089 dloss:1.0862 glossQ:1.1770 dlossQ:2.1848 exploreP:0.0106\n",
      "Episode:440 meanR:375.8700 R:500.0000 rate:1.0000 gloss:1.2566 dloss:1.1027 glossQ:1.1887 dlossQ:2.2352 exploreP:0.0105\n",
      "Episode:441 meanR:379.0500 R:500.0000 rate:1.0000 gloss:1.1969 dloss:1.1072 glossQ:1.1862 dlossQ:2.1600 exploreP:0.0105\n",
      "Episode:442 meanR:379.8300 R:500.0000 rate:1.0000 gloss:1.2055 dloss:1.1040 glossQ:1.1787 dlossQ:2.1120 exploreP:0.0105\n",
      "Episode:443 meanR:383.5500 R:500.0000 rate:1.0000 gloss:1.2072 dloss:1.0651 glossQ:1.1768 dlossQ:2.1166 exploreP:0.0105\n",
      "Episode:444 meanR:381.7400 R:174.0000 rate:0.3480 gloss:1.2317 dloss:1.0716 glossQ:1.2682 dlossQ:2.5463 exploreP:0.0105\n",
      "Episode:445 meanR:384.1500 R:500.0000 rate:1.0000 gloss:1.2269 dloss:1.0831 glossQ:1.1752 dlossQ:2.1495 exploreP:0.0104\n",
      "Episode:446 meanR:380.7000 R:155.0000 rate:0.3100 gloss:1.2702 dloss:1.0958 glossQ:1.2038 dlossQ:2.4405 exploreP:0.0104\n",
      "Episode:447 meanR:383.7800 R:500.0000 rate:1.0000 gloss:1.2270 dloss:1.0671 glossQ:1.1981 dlossQ:2.1991 exploreP:0.0104\n",
      "Episode:448 meanR:384.0600 R:278.0000 rate:0.5560 gloss:1.1979 dloss:1.0573 glossQ:1.1808 dlossQ:2.0616 exploreP:0.0104\n",
      "Episode:449 meanR:384.0600 R:500.0000 rate:1.0000 gloss:1.2306 dloss:1.0920 glossQ:1.1977 dlossQ:2.2984 exploreP:0.0104\n",
      "Episode:450 meanR:385.8600 R:500.0000 rate:1.0000 gloss:1.2503 dloss:1.0629 glossQ:1.2111 dlossQ:2.3185 exploreP:0.0104\n",
      "Episode:451 meanR:384.6400 R:126.0000 rate:0.2520 gloss:1.1908 dloss:0.9833 glossQ:1.2361 dlossQ:2.3636 exploreP:0.0103\n",
      "Episode:452 meanR:388.0900 R:500.0000 rate:1.0000 gloss:1.2496 dloss:1.0595 glossQ:1.2663 dlossQ:2.4426 exploreP:0.0103\n",
      "Episode:453 meanR:391.6100 R:500.0000 rate:1.0000 gloss:1.2541 dloss:1.0367 glossQ:1.2182 dlossQ:2.2873 exploreP:0.0103\n",
      "Episode:454 meanR:394.2900 R:500.0000 rate:1.0000 gloss:1.3125 dloss:1.0594 glossQ:1.2937 dlossQ:2.6871 exploreP:0.0103\n",
      "Episode:455 meanR:394.2900 R:500.0000 rate:1.0000 gloss:1.2412 dloss:1.0096 glossQ:1.2190 dlossQ:2.2851 exploreP:0.0103\n",
      "Episode:456 meanR:396.2800 R:500.0000 rate:1.0000 gloss:1.2441 dloss:1.0059 glossQ:1.2479 dlossQ:2.3801 exploreP:0.0103\n",
      "Episode:457 meanR:397.8200 R:500.0000 rate:1.0000 gloss:1.2947 dloss:1.0304 glossQ:1.2632 dlossQ:2.4699 exploreP:0.0103\n",
      "Episode:458 meanR:401.0400 R:500.0000 rate:1.0000 gloss:1.2644 dloss:1.0116 glossQ:1.2907 dlossQ:2.5576 exploreP:0.0102\n",
      "Episode:459 meanR:403.1400 R:500.0000 rate:1.0000 gloss:1.2736 dloss:1.0020 glossQ:1.2612 dlossQ:2.3828 exploreP:0.0102\n",
      "Episode:460 meanR:399.8600 R:172.0000 rate:0.3440 gloss:1.2241 dloss:0.9485 glossQ:1.2827 dlossQ:2.3843 exploreP:0.0102\n",
      "Episode:461 meanR:401.3300 R:311.0000 rate:0.6220 gloss:1.2909 dloss:0.9728 glossQ:1.2855 dlossQ:2.4779 exploreP:0.0102\n",
      "Episode:462 meanR:398.0300 R:170.0000 rate:0.3400 gloss:1.2789 dloss:0.9572 glossQ:1.2658 dlossQ:2.3193 exploreP:0.0102\n",
      "Episode:463 meanR:398.0800 R:160.0000 rate:0.3200 gloss:1.3049 dloss:0.9636 glossQ:1.2934 dlossQ:2.5255 exploreP:0.0102\n",
      "Episode:464 meanR:394.9700 R:189.0000 rate:0.3780 gloss:1.2446 dloss:0.9549 glossQ:1.2970 dlossQ:2.4377 exploreP:0.0102\n",
      "Episode:465 meanR:396.9800 R:500.0000 rate:1.0000 gloss:1.2926 dloss:0.9509 glossQ:1.3393 dlossQ:2.7298 exploreP:0.0102\n",
      "Episode:466 meanR:396.9800 R:500.0000 rate:1.0000 gloss:1.2906 dloss:0.9741 glossQ:1.3435 dlossQ:2.6964 exploreP:0.0102\n",
      "Episode:467 meanR:398.4200 R:500.0000 rate:1.0000 gloss:1.2824 dloss:0.9196 glossQ:1.3741 dlossQ:2.7612 exploreP:0.0102\n",
      "Episode:468 meanR:396.4100 R:149.0000 rate:0.2980 gloss:1.3169 dloss:0.9139 glossQ:1.3334 dlossQ:2.7015 exploreP:0.0102\n",
      "Episode:469 meanR:399.3200 R:500.0000 rate:1.0000 gloss:1.3536 dloss:0.9705 glossQ:1.3570 dlossQ:2.8580 exploreP:0.0102\n",
      "Episode:470 meanR:399.6300 R:500.0000 rate:1.0000 gloss:1.3325 dloss:0.9720 glossQ:1.3868 dlossQ:2.9467 exploreP:0.0102\n",
      "Episode:471 meanR:401.4600 R:500.0000 rate:1.0000 gloss:1.3150 dloss:0.9667 glossQ:1.4140 dlossQ:3.0868 exploreP:0.0102\n",
      "Episode:472 meanR:402.9400 R:500.0000 rate:1.0000 gloss:1.3357 dloss:0.9569 glossQ:1.4267 dlossQ:2.9691 exploreP:0.0101\n",
      "Episode:473 meanR:404.8100 R:500.0000 rate:1.0000 gloss:1.3212 dloss:0.9421 glossQ:1.4557 dlossQ:3.0075 exploreP:0.0101\n",
      "Episode:474 meanR:407.5600 R:415.0000 rate:0.8300 gloss:1.3433 dloss:0.9166 glossQ:1.4539 dlossQ:2.8682 exploreP:0.0101\n",
      "Episode:475 meanR:410.7800 R:500.0000 rate:1.0000 gloss:1.3153 dloss:0.8966 glossQ:1.4258 dlossQ:2.8531 exploreP:0.0101\n",
      "Episode:476 meanR:414.0100 R:500.0000 rate:1.0000 gloss:1.3582 dloss:0.9260 glossQ:1.4564 dlossQ:3.0300 exploreP:0.0101\n",
      "Episode:477 meanR:416.9400 R:500.0000 rate:1.0000 gloss:1.3191 dloss:0.9037 glossQ:1.5326 dlossQ:3.1101 exploreP:0.0101\n",
      "Episode:478 meanR:413.6900 R:175.0000 rate:0.3500 gloss:1.3101 dloss:0.8433 glossQ:1.4650 dlossQ:3.0721 exploreP:0.0101\n",
      "Episode:479 meanR:411.4000 R:163.0000 rate:0.3260 gloss:1.2831 dloss:0.7573 glossQ:1.4425 dlossQ:2.7664 exploreP:0.0101\n",
      "Episode:480 meanR:411.6500 R:500.0000 rate:1.0000 gloss:1.3940 dloss:0.8998 glossQ:1.5664 dlossQ:3.1023 exploreP:0.0101\n",
      "Episode:481 meanR:409.1600 R:176.0000 rate:0.3520 gloss:1.2857 dloss:0.8403 glossQ:1.5367 dlossQ:3.0814 exploreP:0.0101\n",
      "Episode:482 meanR:406.1000 R:194.0000 rate:0.3880 gloss:1.3595 dloss:0.8886 glossQ:1.5017 dlossQ:3.1977 exploreP:0.0101\n",
      "Episode:483 meanR:402.5800 R:148.0000 rate:0.2960 gloss:1.4564 dloss:0.9517 glossQ:1.5064 dlossQ:3.2849 exploreP:0.0101\n",
      "Episode:484 meanR:404.1800 R:500.0000 rate:1.0000 gloss:1.2947 dloss:0.8309 glossQ:1.4744 dlossQ:2.8838 exploreP:0.0101\n",
      "Episode:485 meanR:404.0200 R:166.0000 rate:0.3320 gloss:1.3424 dloss:0.8463 glossQ:1.4807 dlossQ:3.0392 exploreP:0.0101\n",
      "Episode:486 meanR:404.0200 R:500.0000 rate:1.0000 gloss:1.3677 dloss:0.8470 glossQ:1.6110 dlossQ:3.0877 exploreP:0.0101\n"
     ]
    },
    {
     "name": "stdout",
     "output_type": "stream",
     "text": [
      "Episode:487 meanR:404.7300 R:500.0000 rate:1.0000 gloss:1.3478 dloss:0.8185 glossQ:1.5182 dlossQ:3.0226 exploreP:0.0101\n",
      "Episode:488 meanR:404.7300 R:500.0000 rate:1.0000 gloss:1.3402 dloss:0.8021 glossQ:1.6775 dlossQ:3.5139 exploreP:0.0101\n",
      "Episode:489 meanR:401.9900 R:226.0000 rate:0.4520 gloss:1.3835 dloss:0.7865 glossQ:1.6294 dlossQ:3.3266 exploreP:0.0101\n",
      "Episode:490 meanR:401.9900 R:500.0000 rate:1.0000 gloss:1.3895 dloss:0.8341 glossQ:1.7291 dlossQ:3.7422 exploreP:0.0101\n",
      "Episode:491 meanR:405.0800 R:500.0000 rate:1.0000 gloss:1.3420 dloss:0.7956 glossQ:1.7395 dlossQ:3.4089 exploreP:0.0101\n",
      "Episode:492 meanR:405.5100 R:500.0000 rate:1.0000 gloss:1.3577 dloss:0.7671 glossQ:1.6331 dlossQ:3.3592 exploreP:0.0101\n",
      "Episode:493 meanR:407.8200 R:500.0000 rate:1.0000 gloss:1.3860 dloss:0.7551 glossQ:1.6863 dlossQ:3.5458 exploreP:0.0101\n",
      "Episode:494 meanR:405.8200 R:300.0000 rate:0.6000 gloss:1.4287 dloss:0.7810 glossQ:1.7426 dlossQ:3.8650 exploreP:0.0101\n",
      "Episode:495 meanR:406.3500 R:500.0000 rate:1.0000 gloss:1.3725 dloss:0.7422 glossQ:1.6951 dlossQ:3.4055 exploreP:0.0101\n",
      "Episode:496 meanR:402.8500 R:150.0000 rate:0.3000 gloss:1.3734 dloss:0.7187 glossQ:1.7634 dlossQ:3.7178 exploreP:0.0101\n",
      "Episode:497 meanR:403.5300 R:500.0000 rate:1.0000 gloss:1.4234 dloss:0.7176 glossQ:1.8230 dlossQ:4.0153 exploreP:0.0101\n",
      "Episode:498 meanR:403.5300 R:500.0000 rate:1.0000 gloss:1.4034 dloss:0.7918 glossQ:1.8643 dlossQ:3.9689 exploreP:0.0101\n",
      "Episode:499 meanR:403.5300 R:500.0000 rate:1.0000 gloss:1.3484 dloss:0.7196 glossQ:1.7765 dlossQ:3.7356 exploreP:0.0101\n",
      "Episode:500 meanR:403.5300 R:500.0000 rate:1.0000 gloss:1.4144 dloss:0.7161 glossQ:1.8215 dlossQ:3.9608 exploreP:0.0100\n",
      "Episode:501 meanR:401.2100 R:173.0000 rate:0.3460 gloss:1.4687 dloss:0.8427 glossQ:1.8569 dlossQ:4.1479 exploreP:0.0100\n",
      "Episode:502 meanR:404.6000 R:500.0000 rate:1.0000 gloss:1.4150 dloss:0.7073 glossQ:1.8183 dlossQ:3.7761 exploreP:0.0100\n",
      "Episode:503 meanR:404.6800 R:500.0000 rate:1.0000 gloss:1.4052 dloss:0.6938 glossQ:2.0319 dlossQ:4.3697 exploreP:0.0100\n",
      "Episode:504 meanR:404.6800 R:500.0000 rate:1.0000 gloss:1.4526 dloss:0.7462 glossQ:1.9527 dlossQ:4.3276 exploreP:0.0100\n",
      "Episode:505 meanR:403.5000 R:382.0000 rate:0.7640 gloss:1.3999 dloss:0.6869 glossQ:1.9225 dlossQ:4.0621 exploreP:0.0100\n",
      "Episode:506 meanR:400.2400 R:174.0000 rate:0.3480 gloss:1.3902 dloss:0.7009 glossQ:1.9899 dlossQ:4.2899 exploreP:0.0100\n",
      "Episode:507 meanR:400.2400 R:500.0000 rate:1.0000 gloss:1.4278 dloss:0.6371 glossQ:2.0192 dlossQ:4.4061 exploreP:0.0100\n",
      "Episode:508 meanR:400.8200 R:500.0000 rate:1.0000 gloss:1.3905 dloss:0.6683 glossQ:2.0795 dlossQ:4.2556 exploreP:0.0100\n",
      "Episode:509 meanR:400.8200 R:500.0000 rate:1.0000 gloss:1.4120 dloss:0.6789 glossQ:2.1457 dlossQ:4.5173 exploreP:0.0100\n",
      "Episode:510 meanR:400.8200 R:500.0000 rate:1.0000 gloss:1.4273 dloss:0.5994 glossQ:2.1639 dlossQ:4.6752 exploreP:0.0100\n",
      "Episode:511 meanR:400.8200 R:500.0000 rate:1.0000 gloss:1.4070 dloss:0.6264 glossQ:2.4384 dlossQ:5.1528 exploreP:0.0100\n",
      "Episode:512 meanR:397.7800 R:196.0000 rate:0.3920 gloss:1.3933 dloss:0.6501 glossQ:2.2466 dlossQ:4.6141 exploreP:0.0100\n",
      "Episode:513 meanR:397.9700 R:500.0000 rate:1.0000 gloss:1.4200 dloss:0.6306 glossQ:2.2971 dlossQ:5.0036 exploreP:0.0100\n",
      "Episode:514 meanR:401.2100 R:500.0000 rate:1.0000 gloss:1.4169 dloss:0.5981 glossQ:3.2018 dlossQ:4.9172 exploreP:0.0100\n",
      "Episode:515 meanR:401.5600 R:178.0000 rate:0.3560 gloss:1.4668 dloss:0.6989 glossQ:2.4122 dlossQ:4.9887 exploreP:0.0100\n",
      "Episode:516 meanR:404.9700 R:500.0000 rate:1.0000 gloss:1.4191 dloss:0.5969 glossQ:2.6290 dlossQ:5.2051 exploreP:0.0100\n",
      "Episode:517 meanR:404.9700 R:500.0000 rate:1.0000 gloss:1.3915 dloss:0.5722 glossQ:2.5058 dlossQ:4.7413 exploreP:0.0100\n",
      "Episode:518 meanR:404.9700 R:500.0000 rate:1.0000 gloss:1.4617 dloss:0.5817 glossQ:2.7479 dlossQ:5.6746 exploreP:0.0100\n",
      "Episode:519 meanR:401.7300 R:176.0000 rate:0.3520 gloss:1.3848 dloss:0.6028 glossQ:2.5869 dlossQ:4.6918 exploreP:0.0100\n",
      "Episode:520 meanR:405.5000 R:500.0000 rate:1.0000 gloss:1.4119 dloss:0.5763 glossQ:2.6048 dlossQ:4.7606 exploreP:0.0100\n",
      "Episode:521 meanR:405.6400 R:500.0000 rate:1.0000 gloss:1.3881 dloss:0.5738 glossQ:2.7863 dlossQ:5.3471 exploreP:0.0100\n",
      "Episode:522 meanR:405.6400 R:500.0000 rate:1.0000 gloss:1.4071 dloss:0.5776 glossQ:2.7455 dlossQ:5.1999 exploreP:0.0100\n",
      "Episode:523 meanR:402.1000 R:146.0000 rate:0.2920 gloss:1.4238 dloss:0.6396 glossQ:2.8291 dlossQ:5.4411 exploreP:0.0100\n",
      "Episode:524 meanR:402.1000 R:500.0000 rate:1.0000 gloss:1.3862 dloss:0.4793 glossQ:2.9673 dlossQ:5.4076 exploreP:0.0100\n",
      "Episode:525 meanR:403.0600 R:500.0000 rate:1.0000 gloss:1.4041 dloss:0.5520 glossQ:3.0206 dlossQ:5.6739 exploreP:0.0100\n",
      "Episode:526 meanR:403.0600 R:500.0000 rate:1.0000 gloss:1.4404 dloss:0.4953 glossQ:3.5158 dlossQ:7.0309 exploreP:0.0100\n",
      "Episode:527 meanR:403.0600 R:500.0000 rate:1.0000 gloss:1.4278 dloss:0.5319 glossQ:3.3350 dlossQ:6.2686 exploreP:0.0100\n",
      "Episode:528 meanR:400.2600 R:220.0000 rate:0.4400 gloss:1.4026 dloss:0.5344 glossQ:3.1041 dlossQ:5.2815 exploreP:0.0100\n",
      "Episode:529 meanR:400.2600 R:500.0000 rate:1.0000 gloss:1.4134 dloss:0.5044 glossQ:3.1766 dlossQ:5.4621 exploreP:0.0100\n",
      "Episode:530 meanR:400.3500 R:142.0000 rate:0.2840 gloss:1.4498 dloss:0.6063 glossQ:3.2774 dlossQ:6.3130 exploreP:0.0100\n",
      "Episode:531 meanR:403.7700 R:500.0000 rate:1.0000 gloss:1.4174 dloss:0.4922 glossQ:3.2085 dlossQ:5.6124 exploreP:0.0100\n",
      "Episode:532 meanR:407.0200 R:500.0000 rate:1.0000 gloss:1.3886 dloss:0.5080 glossQ:3.2467 dlossQ:5.8015 exploreP:0.0100\n",
      "Episode:533 meanR:403.8500 R:183.0000 rate:0.3660 gloss:1.4235 dloss:0.4691 glossQ:3.4455 dlossQ:6.0543 exploreP:0.0100\n",
      "Episode:534 meanR:400.4100 R:156.0000 rate:0.3120 gloss:1.4425 dloss:0.4754 glossQ:3.6256 dlossQ:6.5612 exploreP:0.0100\n",
      "Episode:535 meanR:400.4100 R:500.0000 rate:1.0000 gloss:1.4108 dloss:0.4516 glossQ:3.3522 dlossQ:5.5051 exploreP:0.0100\n",
      "Episode:536 meanR:400.7500 R:500.0000 rate:1.0000 gloss:1.4506 dloss:0.4725 glossQ:3.6143 dlossQ:6.2968 exploreP:0.0100\n",
      "Episode:537 meanR:403.9500 R:500.0000 rate:1.0000 gloss:1.3902 dloss:0.4807 glossQ:3.7164 dlossQ:6.1191 exploreP:0.0100\n",
      "Episode:538 meanR:406.2300 R:500.0000 rate:1.0000 gloss:1.4360 dloss:0.4676 glossQ:3.8359 dlossQ:6.3059 exploreP:0.0100\n",
      "Episode:539 meanR:406.2300 R:500.0000 rate:1.0000 gloss:1.4242 dloss:0.4308 glossQ:3.8462 dlossQ:6.2197 exploreP:0.0100\n",
      "Episode:540 meanR:403.1000 R:187.0000 rate:0.3740 gloss:1.4263 dloss:0.5000 glossQ:4.1504 dlossQ:6.7434 exploreP:0.0100\n",
      "Episode:541 meanR:403.1000 R:500.0000 rate:1.0000 gloss:1.4144 dloss:0.4548 glossQ:4.1628 dlossQ:6.3762 exploreP:0.0100\n",
      "Episode:542 meanR:403.1000 R:500.0000 rate:1.0000 gloss:1.4298 dloss:0.4254 glossQ:4.3231 dlossQ:6.4786 exploreP:0.0100\n",
      "Episode:543 meanR:403.1000 R:500.0000 rate:1.0000 gloss:1.4426 dloss:0.4252 glossQ:6.4789 dlossQ:7.1135 exploreP:0.0100\n",
      "Episode:544 meanR:403.1900 R:183.0000 rate:0.3660 gloss:1.4501 dloss:0.3846 glossQ:4.6145 dlossQ:7.1208 exploreP:0.0100\n",
      "Episode:545 meanR:403.1900 R:500.0000 rate:1.0000 gloss:1.4452 dloss:0.4136 glossQ:4.5728 dlossQ:6.5873 exploreP:0.0100\n",
      "Episode:546 meanR:403.3800 R:174.0000 rate:0.3480 gloss:1.4213 dloss:0.4114 glossQ:4.6541 dlossQ:6.1640 exploreP:0.0100\n",
      "Episode:547 meanR:400.7900 R:241.0000 rate:0.4820 gloss:1.4178 dloss:0.4174 glossQ:4.7161 dlossQ:6.6013 exploreP:0.0100\n",
      "Episode:548 meanR:400.5300 R:252.0000 rate:0.5040 gloss:1.4026 dloss:0.4155 glossQ:4.8551 dlossQ:6.9247 exploreP:0.0100\n",
      "Episode:549 meanR:400.5300 R:500.0000 rate:1.0000 gloss:1.4487 dloss:0.4057 glossQ:4.9691 dlossQ:7.1802 exploreP:0.0100\n",
      "Episode:550 meanR:398.0000 R:247.0000 rate:0.4940 gloss:1.4401 dloss:0.3332 glossQ:5.1013 dlossQ:6.6229 exploreP:0.0100\n",
      "Episode:551 meanR:401.7400 R:500.0000 rate:1.0000 gloss:1.4561 dloss:0.3861 glossQ:5.5231 dlossQ:7.5841 exploreP:0.0100\n",
      "Episode:552 meanR:401.7400 R:500.0000 rate:1.0000 gloss:1.4645 dloss:0.3700 glossQ:5.8724 dlossQ:8.1000 exploreP:0.0100\n",
      "Episode:553 meanR:398.4700 R:173.0000 rate:0.3460 gloss:1.4287 dloss:0.3312 glossQ:5.7381 dlossQ:6.9351 exploreP:0.0100\n",
      "Episode:554 meanR:398.4700 R:500.0000 rate:1.0000 gloss:1.4962 dloss:0.3258 glossQ:6.0799 dlossQ:8.1086 exploreP:0.0100\n",
      "Episode:555 meanR:398.4700 R:500.0000 rate:1.0000 gloss:1.4996 dloss:0.3123 glossQ:11.2806 dlossQ:10.8961 exploreP:0.0100\n"
     ]
    },
    {
     "name": "stdout",
     "output_type": "stream",
     "text": [
      "Episode:556 meanR:398.4700 R:500.0000 rate:1.0000 gloss:1.5344 dloss:0.3914 glossQ:6.8204 dlossQ:9.0291 exploreP:0.0100\n",
      "Episode:557 meanR:395.5600 R:209.0000 rate:0.4180 gloss:1.5201 dloss:0.3028 glossQ:6.6873 dlossQ:8.0257 exploreP:0.0100\n",
      "Episode:558 meanR:392.3900 R:183.0000 rate:0.3660 gloss:1.5168 dloss:0.3193 glossQ:7.0430 dlossQ:9.3150 exploreP:0.0100\n",
      "Episode:559 meanR:392.3900 R:500.0000 rate:1.0000 gloss:1.5342 dloss:0.3273 glossQ:7.1728 dlossQ:9.0971 exploreP:0.0100\n",
      "Episode:560 meanR:395.6700 R:500.0000 rate:1.0000 gloss:1.5256 dloss:0.3202 glossQ:7.2976 dlossQ:8.6268 exploreP:0.0100\n",
      "Episode:561 meanR:397.5600 R:500.0000 rate:1.0000 gloss:1.5501 dloss:0.3177 glossQ:7.8537 dlossQ:10.1191 exploreP:0.0100\n",
      "Episode:562 meanR:397.5800 R:172.0000 rate:0.3440 gloss:1.5697 dloss:0.3524 glossQ:8.3521 dlossQ:11.2800 exploreP:0.0100\n",
      "Episode:563 meanR:400.9800 R:500.0000 rate:1.0000 gloss:1.5404 dloss:0.3006 glossQ:7.9976 dlossQ:9.3345 exploreP:0.0100\n",
      "Episode:564 meanR:400.3600 R:127.0000 rate:0.2540 gloss:1.5938 dloss:0.3575 glossQ:7.7546 dlossQ:9.9470 exploreP:0.0100\n",
      "Episode:565 meanR:396.8700 R:151.0000 rate:0.3020 gloss:1.5637 dloss:0.2203 glossQ:7.9664 dlossQ:9.7866 exploreP:0.0100\n",
      "Episode:566 meanR:396.8700 R:500.0000 rate:1.0000 gloss:1.5664 dloss:0.2765 glossQ:8.5532 dlossQ:10.6227 exploreP:0.0100\n",
      "Episode:567 meanR:396.8700 R:500.0000 rate:1.0000 gloss:1.5860 dloss:0.2533 glossQ:8.3595 dlossQ:9.5541 exploreP:0.0100\n",
      "Episode:568 meanR:400.3800 R:500.0000 rate:1.0000 gloss:1.6298 dloss:0.2758 glossQ:9.7458 dlossQ:12.7961 exploreP:0.0100\n",
      "Episode:569 meanR:400.3800 R:500.0000 rate:1.0000 gloss:1.6191 dloss:0.2875 glossQ:8.9315 dlossQ:11.3206 exploreP:0.0100\n",
      "Episode:570 meanR:397.0700 R:169.0000 rate:0.3380 gloss:1.6104 dloss:0.1995 glossQ:8.7544 dlossQ:9.9795 exploreP:0.0100\n",
      "Episode:571 meanR:397.0700 R:500.0000 rate:1.0000 gloss:1.6120 dloss:0.2530 glossQ:9.4449 dlossQ:11.4033 exploreP:0.0100\n",
      "Episode:572 meanR:397.0700 R:500.0000 rate:1.0000 gloss:1.6644 dloss:0.2533 glossQ:9.4467 dlossQ:11.0878 exploreP:0.0100\n",
      "Episode:573 meanR:397.0700 R:500.0000 rate:1.0000 gloss:1.6702 dloss:0.2082 glossQ:9.8234 dlossQ:10.8264 exploreP:0.0100\n",
      "Episode:574 meanR:397.9200 R:500.0000 rate:1.0000 gloss:1.6870 dloss:0.2409 glossQ:10.2719 dlossQ:11.6580 exploreP:0.0100\n",
      "Episode:575 meanR:397.9200 R:500.0000 rate:1.0000 gloss:1.7090 dloss:0.1870 glossQ:11.0231 dlossQ:13.2780 exploreP:0.0100\n",
      "Episode:576 meanR:397.9200 R:500.0000 rate:1.0000 gloss:1.7273 dloss:0.1854 glossQ:10.8196 dlossQ:11.9101 exploreP:0.0100\n",
      "Episode:577 meanR:397.9200 R:500.0000 rate:1.0000 gloss:1.7395 dloss:0.2035 glossQ:10.9556 dlossQ:12.0488 exploreP:0.0100\n",
      "Episode:578 meanR:401.1700 R:500.0000 rate:1.0000 gloss:1.7268 dloss:0.2178 glossQ:11.2855 dlossQ:13.3499 exploreP:0.0100\n",
      "Episode:579 meanR:404.5400 R:500.0000 rate:1.0000 gloss:1.7069 dloss:0.1748 glossQ:10.9924 dlossQ:11.5404 exploreP:0.0100\n",
      "Episode:580 meanR:404.5400 R:500.0000 rate:1.0000 gloss:1.7448 dloss:0.1680 glossQ:11.8542 dlossQ:13.4142 exploreP:0.0100\n",
      "Episode:581 meanR:407.7800 R:500.0000 rate:1.0000 gloss:1.7540 dloss:0.1592 glossQ:11.7079 dlossQ:12.5873 exploreP:0.0100\n",
      "Episode:582 meanR:410.8400 R:500.0000 rate:1.0000 gloss:1.7765 dloss:0.1392 glossQ:13.1131 dlossQ:16.3143 exploreP:0.0100\n",
      "Episode:583 meanR:411.4300 R:207.0000 rate:0.4140 gloss:1.7772 dloss:0.1299 glossQ:11.9193 dlossQ:11.6203 exploreP:0.0100\n",
      "Episode:584 meanR:411.4300 R:500.0000 rate:1.0000 gloss:1.8233 dloss:0.1223 glossQ:12.8690 dlossQ:13.3243 exploreP:0.0100\n",
      "Episode:585 meanR:414.7700 R:500.0000 rate:1.0000 gloss:1.8326 dloss:0.1199 glossQ:13.2791 dlossQ:15.6137 exploreP:0.0100\n",
      "Episode:586 meanR:414.7700 R:500.0000 rate:1.0000 gloss:1.8447 dloss:0.1101 glossQ:13.0174 dlossQ:14.0071 exploreP:0.0100\n",
      "Episode:587 meanR:414.7700 R:500.0000 rate:1.0000 gloss:1.8267 dloss:0.1110 glossQ:14.5048 dlossQ:16.6378 exploreP:0.0100\n",
      "Episode:588 meanR:414.7700 R:500.0000 rate:1.0000 gloss:1.8141 dloss:0.1225 glossQ:14.2187 dlossQ:16.8577 exploreP:0.0100\n",
      "Episode:589 meanR:417.5100 R:500.0000 rate:1.0000 gloss:1.8401 dloss:0.1158 glossQ:13.0360 dlossQ:12.9248 exploreP:0.0100\n",
      "Episode:590 meanR:414.8200 R:231.0000 rate:0.4620 gloss:1.8980 dloss:0.0988 glossQ:13.7984 dlossQ:16.3469 exploreP:0.0100\n",
      "Episode:591 meanR:414.8200 R:500.0000 rate:1.0000 gloss:1.8292 dloss:0.0998 glossQ:13.1244 dlossQ:12.7467 exploreP:0.0100\n",
      "Episode:592 meanR:414.8200 R:500.0000 rate:1.0000 gloss:1.8527 dloss:0.0880 glossQ:13.4617 dlossQ:12.7659 exploreP:0.0100\n",
      "Episode:593 meanR:414.8200 R:500.0000 rate:1.0000 gloss:1.8415 dloss:0.0917 glossQ:13.2553 dlossQ:13.1861 exploreP:0.0100\n",
      "Episode:594 meanR:416.8200 R:500.0000 rate:1.0000 gloss:1.8717 dloss:0.0821 glossQ:15.1512 dlossQ:18.0166 exploreP:0.0100\n",
      "Episode:595 meanR:416.8200 R:500.0000 rate:1.0000 gloss:1.8663 dloss:0.0736 glossQ:13.3258 dlossQ:12.6491 exploreP:0.0100\n",
      "Episode:596 meanR:420.3200 R:500.0000 rate:1.0000 gloss:1.8975 dloss:0.0701 glossQ:13.7323 dlossQ:13.4624 exploreP:0.0100\n",
      "Episode:597 meanR:418.1700 R:285.0000 rate:0.5700 gloss:1.9084 dloss:0.0992 glossQ:13.8621 dlossQ:14.3475 exploreP:0.0100\n",
      "Episode:598 meanR:418.1700 R:500.0000 rate:1.0000 gloss:1.8597 dloss:0.0717 glossQ:13.4796 dlossQ:12.8408 exploreP:0.0100\n",
      "Episode:599 meanR:418.1700 R:500.0000 rate:1.0000 gloss:1.8701 dloss:0.0835 glossQ:13.4684 dlossQ:14.8501 exploreP:0.0100\n",
      "Episode:600 meanR:416.1500 R:298.0000 rate:0.5960 gloss:1.8636 dloss:0.0727 glossQ:13.2468 dlossQ:12.9352 exploreP:0.0100\n",
      "Episode:601 meanR:419.4200 R:500.0000 rate:1.0000 gloss:1.8700 dloss:0.0782 glossQ:12.9749 dlossQ:12.5755 exploreP:0.0100\n",
      "Episode:602 meanR:419.4200 R:500.0000 rate:1.0000 gloss:1.8399 dloss:0.0770 glossQ:13.1915 dlossQ:12.6468 exploreP:0.0100\n",
      "Episode:603 meanR:419.4200 R:500.0000 rate:1.0000 gloss:1.8430 dloss:0.0919 glossQ:13.5928 dlossQ:14.1064 exploreP:0.0100\n",
      "Episode:604 meanR:419.4200 R:500.0000 rate:1.0000 gloss:1.8250 dloss:0.0815 glossQ:14.5934 dlossQ:16.8505 exploreP:0.0100\n",
      "Episode:605 meanR:420.6000 R:500.0000 rate:1.0000 gloss:1.8060 dloss:0.0716 glossQ:13.0555 dlossQ:12.7526 exploreP:0.0100\n",
      "Episode:606 meanR:423.8600 R:500.0000 rate:1.0000 gloss:1.7843 dloss:0.0808 glossQ:12.9849 dlossQ:12.6249 exploreP:0.0100\n",
      "Episode:607 meanR:423.8600 R:500.0000 rate:1.0000 gloss:1.8050 dloss:0.0785 glossQ:13.3463 dlossQ:13.3695 exploreP:0.0100\n",
      "Episode:608 meanR:423.8600 R:500.0000 rate:1.0000 gloss:1.8140 dloss:0.0756 glossQ:13.1260 dlossQ:13.3039 exploreP:0.0100\n",
      "Episode:609 meanR:423.8600 R:500.0000 rate:1.0000 gloss:1.7875 dloss:0.0746 glossQ:13.4805 dlossQ:12.7848 exploreP:0.0100\n",
      "Episode:610 meanR:421.1400 R:228.0000 rate:0.4560 gloss:1.7952 dloss:0.1093 glossQ:13.8961 dlossQ:13.8486 exploreP:0.0100\n",
      "Episode:611 meanR:418.8200 R:268.0000 rate:0.5360 gloss:1.7959 dloss:0.0781 glossQ:15.8304 dlossQ:20.4216 exploreP:0.0100\n",
      "Episode:612 meanR:421.8600 R:500.0000 rate:1.0000 gloss:1.7613 dloss:0.0702 glossQ:13.5851 dlossQ:12.7288 exploreP:0.0100\n",
      "Episode:613 meanR:421.8600 R:500.0000 rate:1.0000 gloss:1.7341 dloss:0.0829 glossQ:13.7346 dlossQ:13.2848 exploreP:0.0100\n",
      "Episode:614 meanR:421.8600 R:500.0000 rate:1.0000 gloss:1.7659 dloss:0.0727 glossQ:13.7974 dlossQ:13.8533 exploreP:0.0100\n",
      "Episode:615 meanR:425.0800 R:500.0000 rate:1.0000 gloss:1.7610 dloss:0.0874 glossQ:13.9677 dlossQ:13.8217 exploreP:0.0100\n",
      "Episode:616 meanR:423.0500 R:297.0000 rate:0.5940 gloss:1.6906 dloss:0.0703 glossQ:13.4193 dlossQ:11.5700 exploreP:0.0100\n",
      "Episode:617 meanR:421.4500 R:340.0000 rate:0.6800 gloss:1.7290 dloss:0.0758 glossQ:13.5774 dlossQ:12.2815 exploreP:0.0100\n",
      "Episode:618 meanR:419.4100 R:296.0000 rate:0.5920 gloss:1.7242 dloss:0.0714 glossQ:13.6623 dlossQ:12.4077 exploreP:0.0100\n",
      "Episode:619 meanR:422.6500 R:500.0000 rate:1.0000 gloss:1.6543 dloss:0.0903 glossQ:13.3783 dlossQ:11.6543 exploreP:0.0100\n",
      "Episode:620 meanR:422.6500 R:500.0000 rate:1.0000 gloss:1.6746 dloss:0.0743 glossQ:13.6572 dlossQ:12.6145 exploreP:0.0100\n",
      "Episode:621 meanR:420.4000 R:275.0000 rate:0.5500 gloss:1.6618 dloss:0.0756 glossQ:14.1456 dlossQ:12.2042 exploreP:0.0100\n",
      "Episode:622 meanR:420.4000 R:500.0000 rate:1.0000 gloss:1.6608 dloss:0.0835 glossQ:14.4322 dlossQ:12.3225 exploreP:0.0100\n",
      "Episode:623 meanR:423.9400 R:500.0000 rate:1.0000 gloss:1.6983 dloss:0.0762 glossQ:14.5491 dlossQ:13.0363 exploreP:0.0100\n"
     ]
    },
    {
     "name": "stdout",
     "output_type": "stream",
     "text": [
      "Episode:624 meanR:422.1900 R:325.0000 rate:0.6500 gloss:1.7019 dloss:0.0708 glossQ:15.6473 dlossQ:12.8053 exploreP:0.0100\n",
      "Episode:625 meanR:422.1900 R:500.0000 rate:1.0000 gloss:1.7095 dloss:0.0730 glossQ:15.8622 dlossQ:14.0397 exploreP:0.0100\n",
      "Episode:626 meanR:422.1900 R:500.0000 rate:1.0000 gloss:1.7222 dloss:0.0765 glossQ:17.1220 dlossQ:13.7166 exploreP:0.0100\n",
      "Episode:627 meanR:422.1900 R:500.0000 rate:1.0000 gloss:1.7016 dloss:0.0864 glossQ:17.7577 dlossQ:14.4818 exploreP:0.0100\n",
      "Episode:628 meanR:424.9900 R:500.0000 rate:1.0000 gloss:1.7031 dloss:0.0727 glossQ:18.2284 dlossQ:14.6711 exploreP:0.0100\n",
      "Episode:629 meanR:422.4000 R:241.0000 rate:0.4820 gloss:1.6555 dloss:0.0919 glossQ:18.2332 dlossQ:14.8565 exploreP:0.0100\n",
      "Episode:630 meanR:425.9800 R:500.0000 rate:1.0000 gloss:1.7016 dloss:0.0773 glossQ:18.9996 dlossQ:15.9875 exploreP:0.0100\n",
      "Episode:631 meanR:425.9800 R:500.0000 rate:1.0000 gloss:1.6811 dloss:0.0883 glossQ:19.8738 dlossQ:15.8313 exploreP:0.0100\n",
      "Episode:632 meanR:424.1500 R:317.0000 rate:0.6340 gloss:1.6721 dloss:0.0634 glossQ:19.6114 dlossQ:15.5488 exploreP:0.0100\n",
      "Episode:633 meanR:425.5000 R:318.0000 rate:0.6360 gloss:1.6960 dloss:0.0795 glossQ:21.0209 dlossQ:16.6758 exploreP:0.0100\n",
      "Episode:634 meanR:428.9400 R:500.0000 rate:1.0000 gloss:1.6796 dloss:0.0870 glossQ:21.5682 dlossQ:17.0735 exploreP:0.0100\n",
      "Episode:635 meanR:428.9400 R:500.0000 rate:1.0000 gloss:1.6222 dloss:0.0718 glossQ:21.1536 dlossQ:15.7233 exploreP:0.0100\n",
      "Episode:636 meanR:428.9400 R:500.0000 rate:1.0000 gloss:1.6041 dloss:0.0846 glossQ:22.1047 dlossQ:16.5821 exploreP:0.0100\n",
      "Episode:637 meanR:428.9400 R:500.0000 rate:1.0000 gloss:1.6425 dloss:0.0722 glossQ:24.1473 dlossQ:18.3156 exploreP:0.0100\n",
      "Episode:638 meanR:428.9400 R:500.0000 rate:1.0000 gloss:1.6821 dloss:0.0784 glossQ:25.3204 dlossQ:19.3439 exploreP:0.0100\n",
      "Episode:639 meanR:428.9400 R:500.0000 rate:1.0000 gloss:1.6619 dloss:0.0676 glossQ:26.5129 dlossQ:20.5801 exploreP:0.0100\n",
      "Episode:640 meanR:432.0700 R:500.0000 rate:1.0000 gloss:1.6624 dloss:0.0772 glossQ:28.2785 dlossQ:20.6892 exploreP:0.0100\n",
      "Episode:641 meanR:432.0700 R:500.0000 rate:1.0000 gloss:1.6786 dloss:0.0768 glossQ:30.8366 dlossQ:23.0145 exploreP:0.0100\n",
      "Episode:642 meanR:432.0700 R:500.0000 rate:1.0000 gloss:1.6414 dloss:0.0855 glossQ:32.5917 dlossQ:23.3184 exploreP:0.0100\n",
      "Episode:643 meanR:432.0700 R:500.0000 rate:1.0000 gloss:1.6809 dloss:0.0650 glossQ:35.6662 dlossQ:25.3528 exploreP:0.0100\n",
      "Episode:644 meanR:435.2400 R:500.0000 rate:1.0000 gloss:1.6350 dloss:0.0802 glossQ:38.1922 dlossQ:26.2569 exploreP:0.0100\n",
      "Episode:645 meanR:432.6700 R:243.0000 rate:0.4860 gloss:1.6322 dloss:0.0758 glossQ:40.0665 dlossQ:26.9393 exploreP:0.0100\n",
      "Episode:646 meanR:435.9300 R:500.0000 rate:1.0000 gloss:1.6584 dloss:0.0767 glossQ:42.4382 dlossQ:28.3760 exploreP:0.0100\n",
      "Episode:647 meanR:437.9500 R:443.0000 rate:0.8860 gloss:1.6349 dloss:0.0744 glossQ:44.8451 dlossQ:28.6430 exploreP:0.0100\n",
      "Episode:648 meanR:438.4500 R:302.0000 rate:0.6040 gloss:1.7020 dloss:0.0699 glossQ:46.9448 dlossQ:30.5935 exploreP:0.0100\n",
      "Episode:649 meanR:435.8900 R:244.0000 rate:0.4880 gloss:1.6831 dloss:0.0721 glossQ:48.4626 dlossQ:31.9858 exploreP:0.0100\n",
      "Episode:650 meanR:438.4200 R:500.0000 rate:1.0000 gloss:1.6320 dloss:0.0924 glossQ:47.8210 dlossQ:31.7421 exploreP:0.0100\n",
      "Episode:651 meanR:438.4200 R:500.0000 rate:1.0000 gloss:1.6493 dloss:0.0758 glossQ:49.5600 dlossQ:33.1735 exploreP:0.0100\n",
      "Episode:652 meanR:438.4200 R:500.0000 rate:1.0000 gloss:1.6039 dloss:0.0799 glossQ:52.4239 dlossQ:33.5822 exploreP:0.0100\n",
      "Episode:653 meanR:441.6900 R:500.0000 rate:1.0000 gloss:1.6264 dloss:0.0730 glossQ:55.1335 dlossQ:35.0258 exploreP:0.0100\n",
      "Episode:654 meanR:441.6900 R:500.0000 rate:1.0000 gloss:1.6454 dloss:0.0692 glossQ:58.1628 dlossQ:37.5423 exploreP:0.0100\n",
      "Episode:655 meanR:441.6900 R:500.0000 rate:1.0000 gloss:1.6621 dloss:0.0681 glossQ:62.8096 dlossQ:37.9640 exploreP:0.0100\n",
      "Episode:656 meanR:441.6900 R:500.0000 rate:1.0000 gloss:1.6864 dloss:0.0669 glossQ:66.8719 dlossQ:42.2044 exploreP:0.0100\n",
      "Episode:657 meanR:444.6000 R:500.0000 rate:1.0000 gloss:1.6717 dloss:0.0658 glossQ:68.2056 dlossQ:41.6207 exploreP:0.0100\n",
      "Episode:658 meanR:447.7700 R:500.0000 rate:1.0000 gloss:1.6864 dloss:0.0657 glossQ:71.1760 dlossQ:43.8378 exploreP:0.0100\n",
      "Episode:659 meanR:444.7900 R:202.0000 rate:0.4040 gloss:1.7251 dloss:0.0704 glossQ:74.3909 dlossQ:46.5949 exploreP:0.0100\n",
      "Episode:660 meanR:444.7900 R:500.0000 rate:1.0000 gloss:1.6545 dloss:0.0636 glossQ:76.2459 dlossQ:45.8229 exploreP:0.0100\n",
      "Episode:661 meanR:444.7900 R:500.0000 rate:1.0000 gloss:1.6644 dloss:0.0675 glossQ:79.2349 dlossQ:48.2405 exploreP:0.0100\n",
      "Episode:662 meanR:448.0700 R:500.0000 rate:1.0000 gloss:1.6775 dloss:0.0679 glossQ:82.6998 dlossQ:49.1769 exploreP:0.0100\n",
      "Episode:663 meanR:448.0700 R:500.0000 rate:1.0000 gloss:1.6916 dloss:0.0589 glossQ:85.5635 dlossQ:51.5849 exploreP:0.0100\n",
      "Episode:664 meanR:451.8000 R:500.0000 rate:1.0000 gloss:1.6981 dloss:0.0627 glossQ:89.3799 dlossQ:54.7339 exploreP:0.0100\n",
      "Episode:665 meanR:455.2900 R:500.0000 rate:1.0000 gloss:1.6606 dloss:0.0593 glossQ:92.1579 dlossQ:54.3875 exploreP:0.0100\n",
      "Episode:666 meanR:455.2900 R:500.0000 rate:1.0000 gloss:1.6869 dloss:0.0594 glossQ:98.1873 dlossQ:59.6506 exploreP:0.0100\n",
      "Episode:667 meanR:455.2900 R:500.0000 rate:1.0000 gloss:1.6763 dloss:0.0652 glossQ:100.3087 dlossQ:58.1666 exploreP:0.0100\n",
      "Episode:668 meanR:455.2900 R:500.0000 rate:1.0000 gloss:1.6999 dloss:0.0713 glossQ:102.5746 dlossQ:60.7692 exploreP:0.0100\n",
      "Episode:669 meanR:452.7800 R:249.0000 rate:0.4980 gloss:1.6361 dloss:0.0635 glossQ:103.8455 dlossQ:60.8436 exploreP:0.0100\n",
      "Episode:670 meanR:456.0900 R:500.0000 rate:1.0000 gloss:1.6330 dloss:0.0700 glossQ:107.0840 dlossQ:61.5719 exploreP:0.0100\n",
      "Episode:671 meanR:453.6500 R:256.0000 rate:0.5120 gloss:1.6314 dloss:0.0718 glossQ:108.2741 dlossQ:64.6055 exploreP:0.0100\n",
      "Episode:672 meanR:453.6500 R:500.0000 rate:1.0000 gloss:1.6180 dloss:0.0673 glossQ:111.5083 dlossQ:64.1313 exploreP:0.0100\n",
      "Episode:673 meanR:453.6500 R:500.0000 rate:1.0000 gloss:1.6501 dloss:0.0616 glossQ:115.6884 dlossQ:67.4320 exploreP:0.0100\n",
      "Episode:674 meanR:453.6500 R:500.0000 rate:1.0000 gloss:1.6464 dloss:0.0711 glossQ:121.5669 dlossQ:67.9923 exploreP:0.0100\n",
      "Episode:675 meanR:450.6300 R:198.0000 rate:0.3960 gloss:1.7215 dloss:0.0659 glossQ:123.4287 dlossQ:69.9948 exploreP:0.0100\n",
      "Episode:676 meanR:450.6300 R:500.0000 rate:1.0000 gloss:1.6897 dloss:0.0590 glossQ:130.1595 dlossQ:73.3829 exploreP:0.0100\n",
      "Episode:677 meanR:450.6300 R:500.0000 rate:1.0000 gloss:1.6730 dloss:0.0630 glossQ:134.7063 dlossQ:76.2366 exploreP:0.0100\n",
      "Episode:678 meanR:450.6300 R:500.0000 rate:1.0000 gloss:1.7288 dloss:0.0646 glossQ:140.4798 dlossQ:79.4171 exploreP:0.0100\n",
      "Episode:679 meanR:450.6300 R:500.0000 rate:1.0000 gloss:1.7546 dloss:0.0515 glossQ:146.9813 dlossQ:82.7287 exploreP:0.0100\n",
      "Episode:680 meanR:450.6300 R:500.0000 rate:1.0000 gloss:1.7558 dloss:0.0596 glossQ:151.6685 dlossQ:85.4642 exploreP:0.0100\n",
      "Episode:681 meanR:450.6300 R:500.0000 rate:1.0000 gloss:1.7965 dloss:0.0559 glossQ:157.8311 dlossQ:89.0887 exploreP:0.0100\n",
      "Episode:682 meanR:450.6300 R:500.0000 rate:1.0000 gloss:1.7914 dloss:0.0596 glossQ:161.5852 dlossQ:90.9157 exploreP:0.0100\n",
      "Episode:683 meanR:453.5600 R:500.0000 rate:1.0000 gloss:1.7543 dloss:0.0577 glossQ:165.5089 dlossQ:93.1275 exploreP:0.0100\n",
      "Episode:684 meanR:453.5600 R:500.0000 rate:1.0000 gloss:1.7817 dloss:0.0564 glossQ:168.5985 dlossQ:94.8872 exploreP:0.0100\n",
      "Episode:685 meanR:451.1000 R:254.0000 rate:0.5080 gloss:1.7816 dloss:0.0552 glossQ:170.4410 dlossQ:96.2496 exploreP:0.0100\n",
      "Episode:686 meanR:448.3800 R:228.0000 rate:0.4560 gloss:1.8151 dloss:0.0588 glossQ:172.5928 dlossQ:97.3981 exploreP:0.0100\n",
      "Episode:687 meanR:447.9000 R:452.0000 rate:0.9040 gloss:1.7347 dloss:0.0584 glossQ:176.3760 dlossQ:98.2155 exploreP:0.0100\n",
      "Episode:688 meanR:447.9000 R:500.0000 rate:1.0000 gloss:1.7808 dloss:0.0622 glossQ:177.1280 dlossQ:99.1970 exploreP:0.0100\n",
      "Episode:689 meanR:447.9000 R:500.0000 rate:1.0000 gloss:1.7329 dloss:0.0698 glossQ:181.1447 dlossQ:100.4840 exploreP:0.0100\n",
      "Episode:690 meanR:450.5900 R:500.0000 rate:1.0000 gloss:1.7436 dloss:0.0566 glossQ:181.4234 dlossQ:101.9275 exploreP:0.0100\n"
     ]
    },
    {
     "name": "stdout",
     "output_type": "stream",
     "text": [
      "Episode:691 meanR:450.5900 R:500.0000 rate:1.0000 gloss:1.7156 dloss:0.0637 glossQ:186.0959 dlossQ:103.2990 exploreP:0.0100\n",
      "Episode:692 meanR:450.5900 R:500.0000 rate:1.0000 gloss:1.7240 dloss:0.0632 glossQ:190.4989 dlossQ:106.2574 exploreP:0.0100\n",
      "Episode:693 meanR:450.5900 R:500.0000 rate:1.0000 gloss:1.7237 dloss:0.0548 glossQ:197.4707 dlossQ:109.6822 exploreP:0.0100\n",
      "Episode:694 meanR:448.7900 R:320.0000 rate:0.6400 gloss:1.7322 dloss:0.0676 glossQ:196.6063 dlossQ:108.9703 exploreP:0.0100\n",
      "Episode:695 meanR:448.7900 R:500.0000 rate:1.0000 gloss:1.7016 dloss:0.0622 glossQ:199.7969 dlossQ:110.7434 exploreP:0.0100\n",
      "Episode:696 meanR:445.2900 R:150.0000 rate:0.3000 gloss:1.7738 dloss:0.0455 glossQ:204.5674 dlossQ:114.2200 exploreP:0.0100\n",
      "Episode:697 meanR:447.4400 R:500.0000 rate:1.0000 gloss:1.7391 dloss:0.0545 glossQ:206.1919 dlossQ:115.0074 exploreP:0.0100\n",
      "Episode:698 meanR:447.4400 R:500.0000 rate:1.0000 gloss:1.7977 dloss:0.0611 glossQ:208.5428 dlossQ:116.2747 exploreP:0.0100\n",
      "Episode:699 meanR:447.4400 R:500.0000 rate:1.0000 gloss:1.7190 dloss:0.0569 glossQ:212.3279 dlossQ:117.9351 exploreP:0.0100\n",
      "Episode:700 meanR:449.4600 R:500.0000 rate:1.0000 gloss:1.7270 dloss:0.0631 glossQ:216.8493 dlossQ:120.8600 exploreP:0.0100\n",
      "Episode:701 meanR:447.1600 R:270.0000 rate:0.5400 gloss:1.7170 dloss:0.0636 glossQ:216.7204 dlossQ:122.1137 exploreP:0.0100\n",
      "Episode:702 meanR:447.1600 R:500.0000 rate:1.0000 gloss:1.7896 dloss:0.0512 glossQ:223.9436 dlossQ:125.3347 exploreP:0.0100\n",
      "Episode:703 meanR:447.1600 R:500.0000 rate:1.0000 gloss:1.7209 dloss:0.0502 glossQ:230.4564 dlossQ:129.2937 exploreP:0.0100\n",
      "Episode:704 meanR:447.1600 R:500.0000 rate:1.0000 gloss:1.7813 dloss:0.0498 glossQ:236.3064 dlossQ:132.1177 exploreP:0.0100\n",
      "Episode:705 meanR:447.1600 R:500.0000 rate:1.0000 gloss:1.7670 dloss:0.0573 glossQ:239.0691 dlossQ:133.2659 exploreP:0.0100\n",
      "Episode:706 meanR:447.1600 R:500.0000 rate:1.0000 gloss:1.7708 dloss:0.0559 glossQ:241.5632 dlossQ:135.0840 exploreP:0.0100\n",
      "Episode:707 meanR:447.1600 R:500.0000 rate:1.0000 gloss:1.7711 dloss:0.0515 glossQ:249.3865 dlossQ:139.0723 exploreP:0.0100\n",
      "Episode:708 meanR:447.1600 R:500.0000 rate:1.0000 gloss:1.7421 dloss:0.0526 glossQ:255.1387 dlossQ:142.0915 exploreP:0.0100\n",
      "Episode:709 meanR:447.1600 R:500.0000 rate:1.0000 gloss:1.7391 dloss:0.0563 glossQ:256.7526 dlossQ:143.5729 exploreP:0.0100\n",
      "Episode:710 meanR:449.8800 R:500.0000 rate:1.0000 gloss:1.6895 dloss:0.0569 glossQ:260.3250 dlossQ:144.5637 exploreP:0.0100\n",
      "Episode:711 meanR:452.2000 R:500.0000 rate:1.0000 gloss:1.7226 dloss:0.0570 glossQ:266.7249 dlossQ:148.8270 exploreP:0.0100\n",
      "Episode:712 meanR:452.2000 R:500.0000 rate:1.0000 gloss:1.7320 dloss:0.0505 glossQ:274.8248 dlossQ:153.4043 exploreP:0.0100\n",
      "Episode:713 meanR:452.2000 R:500.0000 rate:1.0000 gloss:1.7226 dloss:0.0543 glossQ:279.6638 dlossQ:156.0632 exploreP:0.0100\n",
      "Episode:714 meanR:450.1800 R:298.0000 rate:0.5960 gloss:1.7376 dloss:0.0408 glossQ:288.4391 dlossQ:162.7845 exploreP:0.0100\n",
      "Episode:715 meanR:450.1800 R:500.0000 rate:1.0000 gloss:1.6696 dloss:0.0578 glossQ:284.5529 dlossQ:159.1275 exploreP:0.0100\n",
      "Episode:716 meanR:452.2100 R:500.0000 rate:1.0000 gloss:1.6548 dloss:0.0593 glossQ:286.3259 dlossQ:159.7561 exploreP:0.0100\n",
      "Episode:717 meanR:453.8100 R:500.0000 rate:1.0000 gloss:1.6778 dloss:0.0586 glossQ:294.8477 dlossQ:164.5014 exploreP:0.0100\n",
      "Episode:718 meanR:455.8500 R:500.0000 rate:1.0000 gloss:1.6538 dloss:0.0577 glossQ:297.6016 dlossQ:166.2160 exploreP:0.0100\n",
      "Episode:719 meanR:455.8500 R:500.0000 rate:1.0000 gloss:1.6546 dloss:0.0572 glossQ:306.4568 dlossQ:171.8510 exploreP:0.0100\n",
      "Episode:720 meanR:455.8500 R:500.0000 rate:1.0000 gloss:1.7008 dloss:0.0516 glossQ:317.4884 dlossQ:177.0659 exploreP:0.0100\n",
      "Episode:721 meanR:458.1000 R:500.0000 rate:1.0000 gloss:1.7084 dloss:0.0504 glossQ:322.9576 dlossQ:180.8411 exploreP:0.0100\n",
      "Episode:722 meanR:458.1000 R:500.0000 rate:1.0000 gloss:1.6711 dloss:0.0549 glossQ:321.4233 dlossQ:179.3007 exploreP:0.0100\n",
      "Episode:723 meanR:458.1000 R:500.0000 rate:1.0000 gloss:1.6189 dloss:0.0616 glossQ:327.0445 dlossQ:181.3473 exploreP:0.0100\n",
      "Episode:724 meanR:459.8500 R:500.0000 rate:1.0000 gloss:1.6492 dloss:0.0550 glossQ:330.8380 dlossQ:184.9245 exploreP:0.0100\n",
      "Episode:725 meanR:459.8500 R:500.0000 rate:1.0000 gloss:1.5787 dloss:0.0621 glossQ:333.2397 dlossQ:184.7542 exploreP:0.0100\n",
      "Episode:726 meanR:459.8500 R:500.0000 rate:1.0000 gloss:1.5858 dloss:0.0702 glossQ:336.3352 dlossQ:186.2336 exploreP:0.0100\n",
      "Episode:727 meanR:459.8500 R:500.0000 rate:1.0000 gloss:1.6072 dloss:0.0623 glossQ:340.7977 dlossQ:189.7078 exploreP:0.0100\n",
      "Episode:728 meanR:459.8500 R:500.0000 rate:1.0000 gloss:1.6134 dloss:0.0512 glossQ:348.8572 dlossQ:194.2188 exploreP:0.0100\n",
      "Episode:729 meanR:460.5000 R:306.0000 rate:0.6120 gloss:1.6571 dloss:0.0527 glossQ:349.9349 dlossQ:195.7245 exploreP:0.0100\n",
      "Episode:730 meanR:460.5000 R:500.0000 rate:1.0000 gloss:1.6341 dloss:0.0587 glossQ:354.0768 dlossQ:198.0717 exploreP:0.0100\n",
      "Episode:731 meanR:458.7800 R:328.0000 rate:0.6560 gloss:1.6090 dloss:0.0579 glossQ:358.2550 dlossQ:199.1397 exploreP:0.0100\n",
      "Episode:732 meanR:459.4900 R:388.0000 rate:0.7760 gloss:1.5584 dloss:0.0557 glossQ:360.9762 dlossQ:200.0876 exploreP:0.0100\n"
     ]
    }
   ],
   "source": [
    "# Save/load the model and save for plotting\n",
    "saver = tf.train.Saver()\n",
    "episode_rewards_list, rewards_list = [], []\n",
    "gloss_list, dloss_list = [], []\n",
    "\n",
    "# TF session for training\n",
    "with tf.Session(graph=graph) as sess:\n",
    "    sess.run(tf.global_variables_initializer())\n",
    "    #saver.restore(sess, 'checkpoints/model.ckpt')    \n",
    "    #saver.restore(sess, tf.train.latest_checkpoint('checkpoints'))\n",
    "    total_step = 0 # Explore or exploit parameter\n",
    "    episode_reward = deque(maxlen=100) # 100 episodes average/running average/running mean/window\n",
    "\n",
    "    # Training episodes/epochs\n",
    "    for ep in range(1111*3):\n",
    "        total_reward = 0 # each episode\n",
    "        gloss_batch, dloss_batch, glossQ_batch, dlossQ_batch= [], [], [], []\n",
    "        state = env.reset() # each episode\n",
    "        num_step = 0 # each episode\n",
    "\n",
    "        # Training steps/batches\n",
    "        while True:\n",
    "            # Explore (Env) or Exploit (Model)\n",
    "            total_step += 1\n",
    "            explore_p = explore_stop + (explore_start - explore_stop) * np.exp(-decay_rate * total_step) \n",
    "            if explore_p > np.random.rand():\n",
    "                action = env.action_space.sample()\n",
    "            else:\n",
    "                action_logits = sess.run(model.actions_logits, feed_dict={model.states: state.reshape([1, -1])})\n",
    "                action = np.argmax(action_logits)\n",
    "            next_state, reward, done, _ = env.step(action)\n",
    "            memory.buffer.append([state, action, next_state, reward, float(done)])\n",
    "            memory.rates.append(-1) # empty\n",
    "            num_step += 1 # momory added\n",
    "            total_reward += reward\n",
    "            state = next_state\n",
    "            \n",
    "            # Rating the memory\n",
    "            if done is True:\n",
    "                rate = total_reward/500 # update rate at the end/ when episode is done\n",
    "                for idx in range(num_step): # episode length\n",
    "                    if memory.rates[-1-idx] == -1: # double-check the landmark/marked indexes\n",
    "                        memory.rates[-1-idx] = rate # rate the trajectory/data\n",
    "                        \n",
    "            # Training with the maxrated minibatch\n",
    "            batch = memory.buffer\n",
    "            percentage = 0.9\n",
    "            #for idx in range(memory_size// batch_size):\n",
    "            idx_arr = np.arange(memory_size// batch_size)\n",
    "            idx = np.random.choice(idx_arr)\n",
    "            states = np.array([each[0] for each in batch])[idx*batch_size:(idx+1)*batch_size]\n",
    "            actions = np.array([each[1] for each in batch])[idx*batch_size:(idx+1)*batch_size]\n",
    "            next_states = np.array([each[2] for each in batch])[idx*batch_size:(idx+1)*batch_size]\n",
    "            rewards = np.array([each[3] for each in batch])[idx*batch_size:(idx+1)*batch_size]\n",
    "            dones = np.array([each[4] for each in batch])[idx*batch_size:(idx+1)*batch_size]\n",
    "            rates = np.array(memory.rates)[idx*batch_size:(idx+1)*batch_size]\n",
    "            #print(states.shape, actions.shape, next_states.shape, rewards.shape, dones.shape, rates.shape)\n",
    "            states = states[rates >= (np.max(rates)*percentage)]\n",
    "            actions = actions[rates >= (np.max(rates)*percentage)]\n",
    "            next_states = next_states[rates >= (np.max(rates)*percentage)]\n",
    "            rewards = rewards[rates >= (np.max(rates)*percentage)]\n",
    "            dones = dones[rates >= (np.max(rates)*percentage)]\n",
    "            rates = rates[rates >= (np.max(rates)*percentage)]\n",
    "            #print(states.shape, actions.shape, next_states.shape, rewards.shape, dones.shape, rates.shape)\n",
    "            nextQs_logits = sess.run(model.Qs_logits, feed_dict = {model.states: next_states})\n",
    "            #nextQs = np.max(nextQs_logits, axis=1) * (1-dones) # DQN\n",
    "            nextQs = nextQs_logits.reshape([-1]) * (1-dones) # DPG\n",
    "            targetQs = rewards + (gamma * nextQs)\n",
    "            gloss, dloss, glossQ, dlossQ, _, _ = sess.run([model.g_loss, model.d_loss, \n",
    "                                                           model.g_lossQ, model.d_lossQ,\n",
    "                                                           model.g_opt, model.d_opt],\n",
    "                                                          feed_dict = {model.states: states, \n",
    "                                                                       model.actions: actions,\n",
    "                                                                       model.targetQs: targetQs, \n",
    "                                                                       model.rates: rates})\n",
    "            gloss_batch.append(gloss)\n",
    "            dloss_batch.append(dloss)\n",
    "            glossQ_batch.append(glossQ)\n",
    "            dlossQ_batch.append(dlossQ)\n",
    "            if done is True:\n",
    "                break\n",
    "                \n",
    "        episode_reward.append(total_reward)\n",
    "        print('Episode:{}'.format(ep),\n",
    "              'meanR:{:.4f}'.format(np.mean(episode_reward)),\n",
    "              'R:{:.4f}'.format(total_reward),\n",
    "              'rate:{:.4f}'.format(rate),\n",
    "              'gloss:{:.4f}'.format(np.mean(gloss_batch)),\n",
    "              'dloss:{:.4f}'.format(np.mean(dloss_batch)),\n",
    "              'glossQ:{:.4f}'.format(np.mean(glossQ_batch)),\n",
    "              'dlossQ:{:.4f}'.format(np.mean(dlossQ_batch)),\n",
    "              'exploreP:{:.4f}'.format(explore_p))\n",
    "\n",
    "        # Ploting out\n",
    "        episode_rewards_list.append([ep, np.mean(episode_reward)])\n",
    "        rewards_list.append([ep, total_reward])\n",
    "        gloss_list.append([ep, np.mean(gloss_batch)])\n",
    "        dloss_list.append([ep, np.mean(dloss_batch)])\n",
    "        \n",
    "        # Break episode/epoch loop\n",
    "        ## Option 1: Solve the First Version\n",
    "        #The task is episodic, and in order to solve the environment, \n",
    "        #your agent must get an average score of +30 over 100 consecutive episodes.\n",
    "        if np.mean(episode_reward) >= 500:\n",
    "            break\n",
    "            \n",
    "    # At the end of all training episodes/epochs\n",
    "    saver.save(sess, 'checkpoints/model.ckpt')"
   ]
  },
  {
   "cell_type": "markdown",
   "metadata": {},
   "source": [
    "# Visualizing training\n",
    "\n",
    "Below I'll plot the total rewards for each episode. I'm plotting the rolling average too, in blue."
   ]
  },
  {
   "cell_type": "code",
   "execution_count": null,
   "metadata": {},
   "outputs": [],
   "source": [
    "import matplotlib.pyplot as plt\n",
    "%matplotlib inline\n",
    "\n",
    "def running_mean(x, N):\n",
    "    cumsum = np.cumsum(np.insert(x, 0, 0)) \n",
    "    return (cumsum[N:] - cumsum[:-N]) / N "
   ]
  },
  {
   "cell_type": "code",
   "execution_count": null,
   "metadata": {},
   "outputs": [],
   "source": [
    "eps, arr = np.array(episode_rewards_list).T\n",
    "smoothed_arr = running_mean(arr, 10)\n",
    "plt.plot(eps[-len(smoothed_arr):], smoothed_arr)\n",
    "plt.plot(eps, arr, color='grey', alpha=0.3)\n",
    "plt.xlabel('Episode')\n",
    "plt.ylabel('Total rewards')"
   ]
  },
  {
   "cell_type": "code",
   "execution_count": 16,
   "metadata": {},
   "outputs": [
    {
     "data": {
      "text/plain": [
       "Text(0, 0.5, 'Total rewards')"
      ]
     },
     "execution_count": 16,
     "metadata": {},
     "output_type": "execute_result"
    },
    {
     "data": {
      "image/png": "[encoded data removed]",
      "text/plain": [
       "<Figure size 432x288 with 1 Axes>"
      ]
     },
     "metadata": {
      "needs_background": "light"
     },
     "output_type": "display_data"
    }
   ],
   "source": [
    "eps, arr = np.array(episode_rewards_list).T\n",
    "smoothed_arr = running_mean(arr, 10)\n",
    "plt.plot(eps[-len(smoothed_arr):], smoothed_arr)\n",
    "plt.plot(eps, arr, color='grey', alpha=0.3)\n",
    "plt.xlabel('Episode')\n",
    "plt.ylabel('Total rewards')"
   ]
  },
  {
   "cell_type": "code",
   "execution_count": 18,
   "metadata": {},
   "outputs": [
    {
     "data": {
      "text/plain": [
       "Text(0, 0.5, 'Total rewards')"
      ]
     },
     "execution_count": 18,
     "metadata": {},
     "output_type": "execute_result"
    },
    {
     "data": {
      "image/png": "[encoded data removed]",
      "text/plain": [
       "<Figure size 432x288 with 1 Axes>"
      ]
     },
     "metadata": {
      "needs_background": "light"
     },
     "output_type": "display_data"
    }
   ],
   "source": [
    "eps, arr = np.array(rewards_list).T\n",
    "smoothed_arr = running_mean(arr, 10)\n",
    "plt.plot(eps[-len(smoothed_arr):], smoothed_arr)\n",
    "plt.plot(eps, arr, color='grey', alpha=0.3)\n",
    "plt.xlabel('Episode')\n",
    "plt.ylabel('Total rewards')"
   ]
  },
  {
   "cell_type": "code",
   "execution_count": 26,
   "metadata": {},
   "outputs": [
    {
     "data": {
      "text/plain": [
       "Text(0, 0.5, 'Total rewards')"
      ]
     },
     "execution_count": 26,
     "metadata": {},
     "output_type": "execute_result"
    },
    {
     "data": {
      "image/png": "[encoded data removed]",
      "text/plain": [
       "<Figure size 432x288 with 1 Axes>"
      ]
     },
     "metadata": {
      "needs_background": "light"
     },
     "output_type": "display_data"
    }
   ],
   "source": [
    "eps, arr = np.array(episode_rewards_list).T\n",
    "smoothed_arr = running_mean(arr, 10)\n",
    "plt.plot(eps[-len(smoothed_arr):], smoothed_arr)\n",
    "plt.plot(eps, arr, color='grey', alpha=0.3)\n",
    "plt.xlabel('Episode')\n",
    "plt.ylabel('Total rewards')"
   ]
  },
  {
   "cell_type": "code",
   "execution_count": 16,
   "metadata": {},
   "outputs": [
    {
     "data": {
      "text/plain": [
       "Text(0, 0.5, 'Total rewards')"
      ]
     },
     "execution_count": 16,
     "metadata": {},
     "output_type": "execute_result"
    },
    {
     "data": {
      "image/png": "[encoded data removed]",
      "text/plain": [
       "<Figure size 432x288 with 1 Axes>"
      ]
     },
     "metadata": {
      "needs_background": "light"
     },
     "output_type": "display_data"
    }
   ],
   "source": [
    "eps, arr = np.array(episode_rewards_list).T\n",
    "smoothed_arr = running_mean(arr, 10)\n",
    "plt.plot(eps[-len(smoothed_arr):], smoothed_arr)\n",
    "plt.plot(eps, arr, color='grey', alpha=0.3)\n",
    "plt.xlabel('Episode')\n",
    "plt.ylabel('Total rewards')"
   ]
  },
  {
   "cell_type": "code",
   "execution_count": 21,
   "metadata": {},
   "outputs": [
    {
     "data": {
      "text/plain": [
       "Text(0, 0.5, 'Total rewards')"
      ]
     },
     "execution_count": 21,
     "metadata": {},
     "output_type": "execute_result"
    },
    {
     "data": {
      "image/png": "[encoded data removed]",
      "text/plain": [
       "<Figure size 432x288 with 1 Axes>"
      ]
     },
     "metadata": {
      "needs_background": "light"
     },
     "output_type": "display_data"
    }
   ],
   "source": [
    "eps, arr = np.array(episode_rewards_list).T\n",
    "smoothed_arr = running_mean(arr, 10)\n",
    "plt.plot(eps[-len(smoothed_arr):], smoothed_arr)\n",
    "plt.plot(eps, arr, color='grey', alpha=0.3)\n",
    "plt.xlabel('Episode')\n",
    "plt.ylabel('Total rewards')"
   ]
  },
  {
   "cell_type": "code",
   "execution_count": 62,
   "metadata": {},
   "outputs": [
    {
     "data": {
      "text/plain": [
       "Text(0,0.5,'Total rewards')"
      ]
     },
     "execution_count": 62,
     "metadata": {},
     "output_type": "execute_result"
    },
    {
     "data": {
      "image/png": "[encoded data removed]",
      "text/plain": [
       "<Figure size 432x288 with 1 Axes>"
      ]
     },
     "metadata": {},
     "output_type": "display_data"
    }
   ],
   "source": [
    "# eps, arr = np.array(episode_rewards_list).T\n",
    "# smoothed_arr = running_mean(arr, 10)\n",
    "# plt.plot(eps[-len(smoothed_arr):], smoothed_arr)\n",
    "# plt.plot(eps, arr, color='grey', alpha=0.3)\n",
    "# plt.xlabel('Episode')\n",
    "# plt.ylabel('Total rewards')"
   ]
  },
  {
   "cell_type": "code",
   "execution_count": 27,
   "metadata": {},
   "outputs": [
    {
     "data": {
      "text/plain": [
       "Text(0, 0.5, 'Total rewards')"
      ]
     },
     "execution_count": 27,
     "metadata": {},
     "output_type": "execute_result"
    },
    {
     "data": {
      "image/png": "[encoded data removed]",
      "text/plain": [
       "<Figure size 432x288 with 1 Axes>"
      ]
     },
     "metadata": {
      "needs_background": "light"
     },
     "output_type": "display_data"
    }
   ],
   "source": [
    "eps, arr = np.array(rewards_list).T\n",
    "smoothed_arr = running_mean(arr, 10)\n",
    "plt.plot(eps[-len(smoothed_arr):], smoothed_arr)\n",
    "plt.plot(eps, arr, color='grey', alpha=0.3)\n",
    "plt.xlabel('Episode')\n",
    "plt.ylabel('Total rewards')"
   ]
  },
  {
   "cell_type": "code",
   "execution_count": 17,
   "metadata": {},
   "outputs": [
    {
     "data": {
      "text/plain": [
       "Text(0, 0.5, 'Total rewards')"
      ]
     },
     "execution_count": 17,
     "metadata": {},
     "output_type": "execute_result"
    },
    {
     "data": {
      "image/png": "[encoded data removed]",
      "text/plain": [
       "<Figure size 432x288 with 1 Axes>"
      ]
     },
     "metadata": {
      "needs_background": "light"
     },
     "output_type": "display_data"
    }
   ],
   "source": [
    "eps, arr = np.array(rewards_list).T\n",
    "smoothed_arr = running_mean(arr, 10)\n",
    "plt.plot(eps[-len(smoothed_arr):], smoothed_arr)\n",
    "plt.plot(eps, arr, color='grey', alpha=0.3)\n",
    "plt.xlabel('Episode')\n",
    "plt.ylabel('Total rewards')"
   ]
  },
  {
   "cell_type": "code",
   "execution_count": 22,
   "metadata": {},
   "outputs": [
    {
     "data": {
      "text/plain": [
       "Text(0, 0.5, 'Total rewards')"
      ]
     },
     "execution_count": 22,
     "metadata": {},
     "output_type": "execute_result"
    },
    {
     "data": {
      "image/png": "[encoded data removed]",
      "text/plain": [
       "<Figure size 432x288 with 1 Axes>"
      ]
     },
     "metadata": {
      "needs_background": "light"
     },
     "output_type": "display_data"
    }
   ],
   "source": [
    "eps, arr = np.array(rewards_list).T\n",
    "smoothed_arr = running_mean(arr, 10)\n",
    "plt.plot(eps[-len(smoothed_arr):], smoothed_arr)\n",
    "plt.plot(eps, arr, color='grey', alpha=0.3)\n",
    "plt.xlabel('Episode')\n",
    "plt.ylabel('Total rewards')"
   ]
  },
  {
   "cell_type": "code",
   "execution_count": 63,
   "metadata": {},
   "outputs": [
    {
     "data": {
      "text/plain": [
       "Text(0,0.5,'Total rewards')"
      ]
     },
     "execution_count": 63,
     "metadata": {},
     "output_type": "execute_result"
    },
    {
     "data": {
      "image/png": "[encoded data removed]",
      "text/plain": [
       "<Figure size 432x288 with 1 Axes>"
      ]
     },
     "metadata": {},
     "output_type": "display_data"
    }
   ],
   "source": [
    "eps, arr = np.array(rewards_list).T\n",
    "smoothed_arr = running_mean(arr, 10)\n",
    "plt.plot(eps[-len(smoothed_arr):], smoothed_arr)\n",
    "plt.plot(eps, arr, color='grey', alpha=0.3)\n",
    "plt.xlabel('Episode')\n",
    "plt.ylabel('Total rewards')"
   ]
  },
  {
   "cell_type": "code",
   "execution_count": null,
   "metadata": {},
   "outputs": [],
   "source": [
    "eps, arr = np.array(gloss_list).T\n",
    "smoothed_arr = running_mean(arr, 10)\n",
    "plt.plot(eps[-len(smoothed_arr):], smoothed_arr)\n",
    "plt.plot(eps, arr, color='grey', alpha=0.3)\n",
    "plt.xlabel('Episode')\n",
    "plt.ylabel('G losses')`"
   ]
  },
  {
   "cell_type": "code",
   "execution_count": null,
   "metadata": {},
   "outputs": [],
   "source": [
    "eps, arr = np.array(dloss_list).T\n",
    "smoothed_arr = running_mean(arr, 10)\n",
    "plt.plot(eps[-len(smoothed_arr):], smoothed_arr)\n",
    "plt.plot(eps, arr, color='grey', alpha=0.3)\n",
    "plt.xlabel('Episode')\n",
    "plt.ylabel('D losses')"
   ]
  },
  {
   "cell_type": "markdown",
   "metadata": {},
   "source": [
    "## Testing\n",
    "\n",
    "Let's checkout how our trained agent plays the game."
   ]
  },
  {
   "cell_type": "code",
   "execution_count": 36,
   "metadata": {},
   "outputs": [
    {
     "name": "stdout",
     "output_type": "stream",
     "text": [
      "\u001b[33mWARN: gym.spaces.Box autodetected dtype as <class 'numpy.float32'>. Please provide explicit dtype.\u001b[0m\n",
      "\u001b[33mWARN: gym.spaces.Box autodetected dtype as <class 'numpy.float32'>. Please provide explicit dtype.\u001b[0m\n",
      "INFO:tensorflow:Restoring parameters from checkpoints/model.ckpt\n"
     ]
    },
    {
     "name": "stderr",
     "output_type": "stream",
     "text": [
      "/home/arasdar/anaconda3/envs/env/lib/python3.6/site-packages/gym/__init__.py:22: UserWarning: DEPRECATION WARNING: to improve load times, gym no longer automatically loads gym.spaces. Please run \"import gym.spaces\" to load gym.spaces on your own. This warning will turn into an error in a future version of gym.\n",
      "  warnings.warn('DEPRECATION WARNING: to improve load times, gym no longer automatically loads gym.spaces. Please run \"import gym.spaces\" to load gym.spaces on your own. This warning will turn into an error in a future version of gym.')\n"
     ]
    },
    {
     "name": "stdout",
     "output_type": "stream",
     "text": [
      "total_reward: 500.0\n"
     ]
    }
   ],
   "source": [
    "import gym\n",
    "env = gym.make('CartPole-v0')\n",
    "env = gym.make('CartPole-v1')\n",
    "# env = gym.make('Acrobot-v1')\n",
    "# env = gym.make('MountainCar-v0')\n",
    "# env = gym.make('Pendulum-v0')\n",
    "# env = gym.make('Blackjack-v0')\n",
    "# env = gym.make('FrozenLake-v0')\n",
    "# env = gym.make('AirRaid-ram-v0')\n",
    "# env = gym.make('AirRaid-v0')\n",
    "# env = gym.make('BipedalWalker-v2')\n",
    "# env = gym.make('Copy-v0')\n",
    "# env = gym.make('CarRacing-v0')\n",
    "# env = gym.make('Ant-v2') #mujoco\n",
    "# env = gym.make('FetchPickAndPlace-v1') # mujoco required!\n",
    "\n",
    "with tf.Session() as sess:\n",
    "    sess.run(tf.global_variables_initializer())\n",
    "    saver.restore(sess, 'checkpoints/model.ckpt')    \n",
    "    #saver.restore(sess, tf.train.latest_checkpoint('checkpoints'))\n",
    "    \n",
    "    # Episodes/epochs\n",
    "    for _ in range(1):\n",
    "        state = env.reset()\n",
    "        total_reward = 0\n",
    "\n",
    "        # Steps/batches\n",
    "        while True:\n",
    "            env.render()\n",
    "            action_logits = sess.run(model.actions_logits, feed_dict={model.states: state.reshape([1, -1])})\n",
    "            action = np.argmax(action_logits)\n",
    "            state, reward, done, _ = env.step(action)\n",
    "            total_reward += reward\n",
    "            if done:\n",
    "                print('total_reward: {}'.format(total_reward))\n",
    "                break\n",
    "                \n",
    "env.close()"
   ]
  },
  {
   "cell_type": "markdown",
   "metadata": {},
   "source": [
    "## Extending this\n",
    "\n",
    "So, Cart-Pole is a pretty simple game. However, the same model can be used to train an agent to play something much more complicated like Pong or Space Invaders. Instead of a state like we're using here though, you'd want to use convolutional layers to get the state from the screen images.\n",
    "\n",
    "![Deep Q-Learning Atari](assets/atari-network.png)\n",
    "\n",
    "I'll leave it as a challenge for you to use deep Q-learning to train an agent to play Atari games. Here's the original paper which will get you started: http://www.davidqiu.com:8888/research/nature14236.pdf."
   ]
  },
  {
   "cell_type": "code",
   "execution_count": null,
   "metadata": {},
   "outputs": [],
   "source": []
  }
 ],
 "metadata": {
  "kernelspec": {
   "display_name": "Python 3",
   "language": "python",
   "name": "python3"
  },
  "language_info": {
   "codemirror_mode": {
    "name": "ipython",
    "version": 3
   },
   "file_extension": ".py",
   "mimetype": "text/x-python",
   "name": "python",
   "nbconvert_exporter": "python",
   "pygments_lexer": "ipython3",
   "version": "3.6.6"
  }
 },
 "nbformat": 4,
 "nbformat_minor": 2
}
