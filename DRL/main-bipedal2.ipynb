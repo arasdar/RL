{
 "cells": [
  {
   "cell_type": "markdown",
   "metadata": {},
   "source": [
    "# DPG for BipedalWalker\n",
    "\n",
    "In this notebook, we'll build a neural network that can learn to play games through reinforcement learning. More specifically, we'll use Q-learning to train an agent to play a game called [Cart-Pole](https://gym.openai.com/envs/CartPole-v0). In this game, a freely swinging pole is attached to a cart. The cart can move to the left and right, and the goal is to keep the pole upright as long as possible.\n",
    "\n",
    "We can simulate this game using [OpenAI Gym](https://gym.openai.com/). First, let's check out how OpenAI Gym works. Then, we'll get into training an agent to play the Cart-Pole game."
   ]
  },
  {
   "cell_type": "code",
   "execution_count": 13,
   "metadata": {},
   "outputs": [
    {
     "name": "stdout",
     "output_type": "stream",
     "text": [
      "TensorFlow Version: 1.11.0\n",
      "Default GPU Device: /device:GPU:0\n"
     ]
    }
   ],
   "source": [
    "# In this one we should define and detect GPUs for tensorflow\n",
    "# GPUs or CPU\n",
    "import tensorflow as tf\n",
    "\n",
    "# Check TensorFlow Version\n",
    "print('TensorFlow Version: {}'.format(tf.__version__))\n",
    "\n",
    "# Check for a GPU\n",
    "print('Default GPU Device: {}'.format(tf.test.gpu_device_name()))"
   ]
  },
  {
   "cell_type": "markdown",
   "metadata": {},
   "source": [
    ">**Note:** Make sure you have OpenAI Gym cloned into the same directory with this notebook. I've included `gym` as a submodule, so you can run `git submodule --init --recursive` to pull the contents into the `gym` repo."
   ]
  },
  {
   "cell_type": "markdown",
   "metadata": {},
   "source": [
    "##### >**Note:** Make sure you have OpenAI Gym cloned. Then run this command `pip install -e gym/[all]`."
   ]
  },
  {
   "cell_type": "code",
   "execution_count": 15,
   "metadata": {},
   "outputs": [
    {
     "name": "stdout",
     "output_type": "stream",
     "text": [
      "\u001b[33mWARN: gym.spaces.Box autodetected dtype as <class 'numpy.float32'>. Please provide explicit dtype.\u001b[0m\n",
      "\u001b[33mWARN: gym.spaces.Box autodetected dtype as <class 'numpy.float32'>. Please provide explicit dtype.\u001b[0m\n"
     ]
    }
   ],
   "source": [
    "import gym\n",
    "env = gym.make('BipedalWalker-v2')"
   ]
  },
  {
   "cell_type": "markdown",
   "metadata": {},
   "source": [
    "We interact with the simulation through `env`. To show the simulation running, you can use `env.render()` to render one frame. Passing in an action as an integer to `env.step` will generate the next step in the simulation.  You can see how many actions are possible from `env.action_space` and to get a random action you can use `env.action_space.sample()`. This is general to all Gym games. In the Cart-Pole game, there are two possible actions, moving the cart left or right. So there are two actions we can take, encoded as 0 and 1.\n",
    "\n",
    "Run the code below to watch the simulation run."
   ]
  },
  {
   "cell_type": "code",
   "execution_count": 18,
   "metadata": {},
   "outputs": [
    {
     "data": {
      "text/plain": [
       "(Box(24,), Box(4,))"
      ]
     },
     "execution_count": 18,
     "metadata": {},
     "output_type": "execute_result"
    }
   ],
   "source": [
    "env.observation_space, env.action_space"
   ]
  },
  {
   "cell_type": "code",
   "execution_count": 19,
   "metadata": {},
   "outputs": [],
   "source": [
    "state = env.reset()\n",
    "batch = []\n",
    "for _ in range(1111):\n",
    "    #env.render()\n",
    "    action = env.action_space.sample()\n",
    "    next_state, reward, done, _ = env.step(action) # take a random action\n",
    "    batch.append([state, action, next_state, reward, float(done)])\n",
    "    state = next_state\n",
    "    if done:\n",
    "        state = env.reset()"
   ]
  },
  {
   "cell_type": "markdown",
   "metadata": {},
   "source": [
    "To shut the window showing the simulation, use `env.close()`."
   ]
  },
  {
   "cell_type": "code",
   "execution_count": 20,
   "metadata": {},
   "outputs": [],
   "source": [
    "# env.close()"
   ]
  },
  {
   "cell_type": "markdown",
   "metadata": {},
   "source": [
    "If you ran the simulation above, we can look at the rewards:"
   ]
  },
  {
   "cell_type": "code",
   "execution_count": 21,
   "metadata": {},
   "outputs": [],
   "source": [
    "import numpy as np\n",
    "actions = np.array([each[0] for each in batch])\n",
    "states = np.array([each[1] for each in batch])\n",
    "rewards = np.array([each[2] for each in batch])\n",
    "dones = np.array([each[3] for each in batch])\n",
    "infos = np.array([each[4] for each in batch])"
   ]
  },
  {
   "cell_type": "code",
   "execution_count": 22,
   "metadata": {},
   "outputs": [
    {
     "name": "stdout",
     "output_type": "stream",
     "text": [
      "states: 0.9999559 -0.99969923\n",
      "actions: 2.3322839736938477 -2.0839174588521323\n",
      "rewards: 2.3322839736938477 -2.0839174588521323\n"
     ]
    }
   ],
   "source": [
    "print('states:', np.max(np.array(states)), np.min(np.array(states)))\n",
    "print('actions:', np.max(np.array(actions)), np.min(np.array(actions)))\n",
    "print('rewards:', np.max(np.array(rewards)), np.min(np.array(rewards)))"
   ]
  },
  {
   "cell_type": "code",
   "execution_count": 23,
   "metadata": {},
   "outputs": [
    {
     "data": {
      "text/plain": [
       "(array([1., 1., 1., 1.], dtype=float32),\n",
       " array([-1., -1., -1., -1.], dtype=float32))"
      ]
     },
     "execution_count": 23,
     "metadata": {},
     "output_type": "execute_result"
    }
   ],
   "source": [
    "env.action_space.high, env.action_space.low"
   ]
  },
  {
   "cell_type": "markdown",
   "metadata": {},
   "source": [
    "The game resets after the pole has fallen past a certain angle. For each frame while the simulation is running, it returns a reward of 1.0. The longer the game runs, the more reward we get. Then, our network's goal is to maximize the reward by keeping the pole vertical. It will do this by moving the cart to the left and the right."
   ]
  },
  {
   "cell_type": "markdown",
   "metadata": {},
   "source": [
    "## Q-Network\n",
    "\n",
    "We train our Q-learning agent using the Bellman Equation:\n",
    "\n",
    "$$\n",
    "Q(s, a) = r + \\gamma \\max{Q(s', a')}\n",
    "$$\n",
    "\n",
    "where $s$ is a state, $a$ is an action, and $s'$ is the next state from state $s$ and action $a$.\n",
    "\n",
    "Before we used this equation to learn values for a Q-_table_. However, for this game there are a huge number of states available. The state has four values: the position and velocity of the cart, and the position and velocity of the pole. These are all real-valued numbers, so ignoring floating point precisions, you practically have infinite states. Instead of using a table then, we'll replace it with a neural network that will approximate the Q-table lookup function.\n",
    "\n",
    "<img src=\"assets/deep-q-learning.png\" width=450px>\n",
    "\n",
    "Now, our Q value, $Q(s, a)$ is calculated by passing in a state to the network. The output will be Q-values for each available action, with fully connected hidden layers.\n",
    "\n",
    "<img src=\"assets/q-network.png\" width=550px>\n",
    "\n",
    "\n",
    "As I showed before, we can define our targets for training as $\\hat{Q}(s,a) = r + \\gamma \\max{Q(s', a')}$. Then we update the weights by minimizing $(\\hat{Q}(s,a) - Q(s,a))^2$. \n",
    "\n",
    "For this Cart-Pole game, we have four inputs, one for each value in the state, and two outputs, one for each action. To get $\\hat{Q}$, we'll first choose an action, then simulate the game using that action. This will get us the next state, $s'$, and the reward. With that, we can calculate $\\hat{Q}$ then pass it back into the $Q$ network to run the optimizer and update the weights.\n",
    "\n",
    "Below is my implementation of the Q-network. I used two fully connected layers with ReLU activations. Two seems to be good enough, three might be better. Feel free to try it out."
   ]
  },
  {
   "cell_type": "code",
   "execution_count": 65,
   "metadata": {},
   "outputs": [],
   "source": [
    "def model_input(state_size, action_size):\n",
    "    #states = tf.placeholder(tf.float32, [None, *state_shape], name='states')\n",
    "    states = tf.placeholder(tf.float32, [None, state_size], name='states')\n",
    "    actions = tf.placeholder(tf.float32, [None, action_size], name='actions')\n",
    "    targetQs = tf.placeholder(tf.float32, [None], name='targetQs')\n",
    "    rates = tf.placeholder(tf.float32, [None], name='rates')\n",
    "    #training = tf.placeholder(tf.bool, [], name='training')\n",
    "    return states, actions, targetQs, rates"
   ]
  },
  {
   "cell_type": "code",
   "execution_count": 66,
   "metadata": {},
   "outputs": [],
   "source": [
    "# Generator/Controller: Generating/prediting the actions\n",
    "def generator(states, action_size, hidden_size, reuse=False, alpha=0.1, training=False):\n",
    "    with tf.variable_scope('generator', reuse=reuse):\n",
    "        # First fully connected layer\n",
    "        h1 = tf.layers.dense(inputs=states, units=hidden_size)\n",
    "        bn1 = tf.layers.batch_normalization(h1, training=training)        \n",
    "        nl1 = tf.maximum(alpha * bn1, bn1)\n",
    "        \n",
    "        # Second fully connected layer\n",
    "        h2 = tf.layers.dense(inputs=nl1, units=hidden_size)\n",
    "        bn2 = tf.layers.batch_normalization(h2, training=training)        \n",
    "        nl2 = tf.maximum(alpha * bn2, bn2)\n",
    "        \n",
    "        # Output layer\n",
    "        logits = tf.layers.dense(inputs=nl2, units=action_size)        \n",
    "        predictions = tf.nn.tanh(logits) # [-1, +1]\n",
    "\n",
    "        # return actions logits\n",
    "        return predictions"
   ]
  },
  {
   "cell_type": "code",
   "execution_count": 67,
   "metadata": {},
   "outputs": [],
   "source": [
    "# Discriminator/Dopamine: Reward function/planner/naviator/advisor/supervisor/cortical columns\n",
    "def discriminator(states, actions, hidden_size, reuse=False, alpha=0.1, training=False):\n",
    "    with tf.variable_scope('discriminator', reuse=reuse):\n",
    "        # First fully connected layer\n",
    "        h1 = tf.layers.dense(inputs=states, units=action_size)\n",
    "        bn1 = tf.layers.batch_normalization(h1, training=training)        \n",
    "        nl1 = tf.maximum(alpha * bn1, bn1)\n",
    "        \n",
    "        # Second fully connected layer\n",
    "        fused = tf.concat(axis=1, values=[nl1, actions])\n",
    "        h2 = tf.layers.dense(inputs=fused, units=hidden_size)\n",
    "        bn2 = tf.layers.batch_normalization(h2, training=training)        \n",
    "        nl2 = tf.maximum(alpha * bn2, bn2)\n",
    "                \n",
    "        # Output layer\n",
    "        logits = tf.layers.dense(inputs=nl2, units=1)        \n",
    "        #predictions = tf.nn.softmax(logits)\n",
    "\n",
    "        # return rewards logits\n",
    "        return logits"
   ]
  },
  {
   "cell_type": "code",
   "execution_count": 68,
   "metadata": {},
   "outputs": [],
   "source": [
    "# # DDPG\n",
    "# def model_loss(action_size, hidden_size, states, actions, targetQs, rates):\n",
    "#     actions_preds = generator(states=states, hidden_size=hidden_size, action_size=action_size)\n",
    "#     gQs = discriminator(actions=actions_preds, hidden_size=hidden_size, states=states) # nextQs/targetQs\n",
    "#     gloss = -tf.reduce_mean(gQs)\n",
    "#     dQs = discriminator(actions=actions, hidden_size=hidden_size, states=states, reuse=True) # Qs\n",
    "#     targetQs = tf.reshape(targetQs, shape=[-1, 1]) # gQs\n",
    "#     dloss = tf.reduce_mean(tf.square(dQs - targetQs)) # DQN\n",
    "#     rates = tf.reshape(rates, shape=[-1, 1]) # [-1,+1]\n",
    "#     dloss += tf.reduce_mean(tf.square(tf.nn.tanh(dQs) - rates)) # DQN\n",
    "#     return actions_preds, gQs, gloss, dloss"
   ]
  },
  {
   "cell_type": "code",
   "execution_count": 69,
   "metadata": {},
   "outputs": [],
   "source": [
    "# Adverseial Q-learning\n",
    "def model_loss(action_size, hidden_size, states, actions, targetQs, rates):\n",
    "    actions_preds = generator(states=states, hidden_size=hidden_size, action_size=action_size)\n",
    "    gQs = discriminator(actions=actions_preds, hidden_size=hidden_size, states=states) # nextQs/targetQs\n",
    "    dQs = discriminator(actions=actions, hidden_size=hidden_size, states=states, reuse=True) # Qs\n",
    "    targetQs = tf.reshape(targetQs, shape=[-1, 1]) # gQs\n",
    "    gloss = tf.reduce_mean(tf.square(gQs - targetQs)) # DQN\n",
    "    dloss = tf.reduce_mean(tf.square(dQs - targetQs)) # DQN\n",
    "    dloss += tf.reduce_mean(tf.square(dQs - rates)) # DQN\n",
    "    return actions_preds, gQs, gloss, dloss"
   ]
  },
  {
   "cell_type": "code",
   "execution_count": 70,
   "metadata": {},
   "outputs": [],
   "source": [
    "# Optimizating/training/learning G & D\n",
    "def model_opt(g_loss, d_loss, g_learning_rate, d_learning_rate):\n",
    "    # Get weights and bias to update\n",
    "    t_vars = tf.trainable_variables()\n",
    "    g_vars = [var for var in t_vars if var.name.startswith('generator')]\n",
    "    d_vars = [var for var in t_vars if var.name.startswith('discriminator')]\n",
    "\n",
    "    # Optimize\n",
    "    with tf.control_dependencies(tf.get_collection(tf.GraphKeys.UPDATE_OPS)): # Required for batchnorm (BN)\n",
    "        g_opt = tf.train.AdamOptimizer(g_learning_rate).minimize(g_loss, var_list=g_vars)\n",
    "        d_opt = tf.train.AdamOptimizer(d_learning_rate).minimize(d_loss, var_list=d_vars)\n",
    "    return g_opt, d_opt"
   ]
  },
  {
   "cell_type": "code",
   "execution_count": 71,
   "metadata": {},
   "outputs": [],
   "source": [
    "class Model:\n",
    "    def __init__(self, state_size, action_size, hidden_size, g_learning_rate, d_learning_rate):\n",
    "\n",
    "        # Data of the Model: make the data available inside the framework\n",
    "        self.states, self.actions, self.targetQs, self.rates = model_input(state_size=state_size, \n",
    "                                                                           action_size=action_size)\n",
    "\n",
    "        # Create the Model: calculating the loss and forwad pass\n",
    "        self.actions_preds, self.Qs_logits, self.g_loss, self.d_loss = model_loss(\n",
    "            action_size=action_size, hidden_size=hidden_size, # model init parameters\n",
    "            states=self.states, actions=self.actions, targetQs=self.targetQs, rates=self.rates) # model input\n",
    "        \n",
    "        # Update the model: backward pass and backprop\n",
    "        self.g_opt, self.d_opt = model_opt(g_loss=self.g_loss, \n",
    "                                           d_loss=self.d_loss,\n",
    "                                           g_learning_rate=g_learning_rate, \n",
    "                                           d_learning_rate=d_learning_rate)"
   ]
  },
  {
   "cell_type": "code",
   "execution_count": 72,
   "metadata": {},
   "outputs": [],
   "source": [
    "from collections import deque\n",
    "class Memory():\n",
    "    def __init__(self, max_size = 1000):\n",
    "        self.buffer = deque(maxlen=max_size)\n",
    "    def sample(self, batch_size):\n",
    "        idx = np.random.choice(np.arange(len(self.buffer)), \n",
    "                               size=batch_size, \n",
    "                               replace=False)\n",
    "        return [self.buffer[ii] for ii in idx]"
   ]
  },
  {
   "cell_type": "markdown",
   "metadata": {},
   "source": [
    "## Hyperparameters\n",
    "\n",
    "One of the more difficult aspects of reinforcememt learning are the large number of hyperparameters. Not only are we tuning the network, but we're tuning the simulation."
   ]
  },
  {
   "cell_type": "code",
   "execution_count": 73,
   "metadata": {},
   "outputs": [
    {
     "data": {
      "text/plain": [
       "(Box(24,), Box(4,))"
      ]
     },
     "execution_count": 73,
     "metadata": {},
     "output_type": "execute_result"
    }
   ],
   "source": [
    "env.observation_space, env.action_space"
   ]
  },
  {
   "cell_type": "code",
   "execution_count": 74,
   "metadata": {},
   "outputs": [],
   "source": [
    "# Exploration parameters\n",
    "explore_start = 1.0            # exploration probability at start\n",
    "explore_stop = 0.01           # minimum exploration probability \n",
    "decay_rate = 0.0001            # exponential decay rate for exploration prob\n",
    "\n",
    "# Network parameters\n",
    "state_size = 24\n",
    "action_size = 4\n",
    "hidden_size = 24*2             # number of units in each Q-network hidden layer\n",
    "g_learning_rate = 1e-4         # Q-network learning rate\n",
    "d_learning_rate = 1e-4         # Q-network learning rate\n",
    "\n",
    "# Memory parameters\n",
    "memory_size = int(1e5)            # memory capacity\n",
    "batch_size = int(1e2)             # experience mini-batch size == one episode size is 1000/int(1e3) steps\n",
    "gamma = 0.99                   # future reward discount"
   ]
  },
  {
   "cell_type": "code",
   "execution_count": 75,
   "metadata": {},
   "outputs": [],
   "source": [
    "# Reset/init the graph/session\n",
    "graph = tf.reset_default_graph()\n",
    "\n",
    "# Init the model\n",
    "model = Model(action_size=action_size, state_size=state_size, hidden_size=hidden_size,\n",
    "              g_learning_rate=g_learning_rate, d_learning_rate=d_learning_rate)\n",
    "\n",
    "# Init the memory\n",
    "memory = Memory(max_size=memory_size)"
   ]
  },
  {
   "cell_type": "code",
   "execution_count": 76,
   "metadata": {},
   "outputs": [
    {
     "data": {
      "text/plain": [
       "(array([1., 1., 1., 1.], dtype=float32),\n",
       " array([-1., -1., -1., -1.], dtype=float32),\n",
       " (4,),\n",
       " (-inf, inf),\n",
       " Box(4,))"
      ]
     },
     "execution_count": 76,
     "metadata": {},
     "output_type": "execute_result"
    }
   ],
   "source": [
    "env.action_space.high, env.action_space.low, env.action_space.shape, \\\n",
    "env.reward_range, env.action_space"
   ]
  },
  {
   "cell_type": "code",
   "execution_count": 77,
   "metadata": {},
   "outputs": [
    {
     "name": "stdout",
     "output_type": "stream",
     "text": [
      "states: 1.4384199778238933 -1.1877236366271973\n",
      "actions: 1.0 -1.0\n",
      "rewards: 0.2584633557473608 -0.5476339890559521\n"
     ]
    }
   ],
   "source": [
    "print('states:', np.max(np.array(states)), np.min(np.array(states)))\n",
    "print('actions:', np.max(np.array(actions)), np.min(np.array(actions)))\n",
    "print('rewards:', np.max(np.array(rewards)), np.min(np.array(rewards)))"
   ]
  },
  {
   "cell_type": "code",
   "execution_count": 78,
   "metadata": {},
   "outputs": [
    {
     "name": "stdout",
     "output_type": "stream",
     "text": [
      "Progress: 0.00054\n",
      "Progress: 0.00113\n",
      "Progress: 0.01713\n",
      "Progress: 0.01761\n",
      "Progress: 0.01807\n",
      "Progress: 0.01873\n",
      "Progress: 0.03473\n",
      "Progress: 0.05073\n",
      "Progress: 0.05152\n",
      "Progress: 0.05209\n",
      "Progress: 0.05309\n",
      "Progress: 0.06909\n",
      "Progress: 0.06988\n",
      "Progress: 0.07081\n",
      "Progress: 0.07143\n",
      "Progress: 0.07224\n",
      "Progress: 0.08824\n",
      "Progress: 0.10424\n",
      "Progress: 0.10513\n",
      "Progress: 0.10876\n",
      "Progress: 0.10964\n",
      "Progress: 0.12564\n",
      "Progress: 0.14164\n",
      "Progress: 0.15764\n",
      "Progress: 0.15836\n",
      "Progress: 0.17436\n",
      "Progress: 0.17495\n",
      "Progress: 0.17543\n",
      "Progress: 0.17613\n",
      "Progress: 0.19213\n",
      "Progress: 0.19305\n",
      "Progress: 0.19373\n",
      "Progress: 0.19464\n",
      "Progress: 0.21064\n",
      "Progress: 0.22664\n",
      "Progress: 0.22739\n",
      "Progress: 0.2286\n",
      "Progress: 0.22971\n",
      "Progress: 0.23053\n",
      "Progress: 0.23143\n",
      "Progress: 0.23219\n",
      "Progress: 0.23275\n",
      "Progress: 0.23387\n",
      "Progress: 0.24987\n",
      "Progress: 0.25041\n",
      "Progress: 0.25135\n",
      "Progress: 0.25216\n",
      "Progress: 0.25287\n",
      "Progress: 0.25408\n",
      "Progress: 0.25469\n",
      "Progress: 0.2553\n",
      "Progress: 0.2713\n",
      "Progress: 0.2873\n",
      "Progress: 0.28794\n",
      "Progress: 0.30394\n",
      "Progress: 0.31994\n",
      "Progress: 0.32069\n",
      "Progress: 0.32129\n",
      "Progress: 0.33729\n",
      "Progress: 0.33787\n",
      "Progress: 0.33867\n",
      "Progress: 0.33925\n",
      "Progress: 0.33988\n",
      "Progress: 0.34064\n",
      "Progress: 0.34142\n",
      "Progress: 0.34249\n",
      "Progress: 0.35849\n",
      "Progress: 0.35947\n",
      "Progress: 0.37547\n",
      "Progress: 0.39147\n",
      "Progress: 0.40747\n",
      "Progress: 0.40828\n",
      "Progress: 0.40906\n",
      "Progress: 0.42506\n",
      "Progress: 0.42589\n",
      "Progress: 0.42704\n",
      "Progress: 0.42772\n",
      "Progress: 0.42852\n",
      "Progress: 0.42943\n",
      "Progress: 0.42991\n",
      "Progress: 0.43069\n",
      "Progress: 0.43189\n",
      "Progress: 0.44789\n",
      "Progress: 0.44872\n",
      "Progress: 0.46472\n",
      "Progress: 0.4653\n",
      "Progress: 0.46599\n",
      "Progress: 0.46683\n",
      "Progress: 0.46763\n",
      "Progress: 0.4687\n",
      "Progress: 0.4847\n",
      "Progress: 0.48599\n",
      "Progress: 0.48676\n",
      "Progress: 0.50276\n",
      "Progress: 0.50328\n",
      "Progress: 0.50394\n",
      "Progress: 0.50458\n",
      "Progress: 0.50519\n",
      "Progress: 0.52119\n",
      "Progress: 0.52167\n",
      "Progress: 0.5223\n",
      "Progress: 0.52296\n",
      "Progress: 0.52347\n",
      "Progress: 0.53947\n",
      "Progress: 0.55547\n",
      "Progress: 0.55608\n",
      "Progress: 0.57208\n",
      "Progress: 0.58808\n",
      "Progress: 0.58889\n",
      "Progress: 0.58976\n",
      "Progress: 0.60576\n",
      "Progress: 0.60626\n",
      "Progress: 0.60673\n",
      "Progress: 0.60735\n",
      "Progress: 0.60817\n",
      "Progress: 0.60874\n",
      "Progress: 0.61042\n",
      "Progress: 0.61112\n",
      "Progress: 0.61195\n",
      "Progress: 0.61313\n",
      "Progress: 0.61412\n",
      "Progress: 0.63012\n",
      "Progress: 0.64612\n",
      "Progress: 0.64679\n",
      "Progress: 0.6475\n",
      "Progress: 0.64842\n",
      "Progress: 0.66442\n",
      "Progress: 0.68042\n",
      "Progress: 0.69642\n",
      "Progress: 0.71242\n",
      "Progress: 0.71425\n",
      "Progress: 0.715\n",
      "Progress: 0.71613\n",
      "Progress: 0.71729\n",
      "Progress: 0.71821\n",
      "Progress: 0.73421\n",
      "Progress: 0.73486\n",
      "Progress: 0.75086\n",
      "Progress: 0.75133\n",
      "Progress: 0.75225\n",
      "Progress: 0.76825\n",
      "Progress: 0.76894\n",
      "Progress: 0.7697\n",
      "Progress: 0.7857\n",
      "Progress: 0.78677\n",
      "Progress: 0.78785\n",
      "Progress: 0.78905\n",
      "Progress: 0.78962\n",
      "Progress: 0.80562\n",
      "Progress: 0.80648\n",
      "Progress: 0.82248\n",
      "Progress: 0.82331\n",
      "Progress: 0.83931\n",
      "Progress: 0.84095\n",
      "Progress: 0.84156\n",
      "Progress: 0.84215\n",
      "Progress: 0.85815\n",
      "Progress: 0.85877\n",
      "Progress: 0.85952\n",
      "Progress: 0.87552\n",
      "Progress: 0.87617\n",
      "Progress: 0.89217\n",
      "Progress: 0.89305\n",
      "Progress: 0.89372\n",
      "Progress: 0.89442\n",
      "Progress: 0.89535\n",
      "Progress: 0.91135\n",
      "Progress: 0.91247\n",
      "Progress: 0.91316\n",
      "Progress: 0.91401\n",
      "Progress: 0.91482\n",
      "Progress: 0.93082\n",
      "Progress: 0.93131\n",
      "Progress: 0.9323\n",
      "Progress: 0.9328\n",
      "Progress: 0.9488\n",
      "Progress: 0.9648\n",
      "Progress: 0.96553\n",
      "Progress: 0.9668\n",
      "Progress: 0.96766\n",
      "Progress: 0.98366\n",
      "Progress: 0.98455\n"
     ]
    }
   ],
   "source": [
    "state = env.reset()\n",
    "total_reward = 0\n",
    "num_step = 0\n",
    "for each_step in range(memory_size):\n",
    "    action = env.action_space.sample() # randomness\n",
    "    action = np.clip(action, -1, 1) # clipped: [-1, +1]\n",
    "    next_state, reward, done, _ = env.step(action)\n",
    "    rate = -1 # success rate: [-1, +1]\n",
    "    memory.buffer.append([state, action, next_state, reward, float(done), rate])\n",
    "    num_step += 1 # memory updated\n",
    "    total_reward += reward # max reward 300\n",
    "    state = next_state\n",
    "    if done is True:\n",
    "        print('Progress:', each_step/memory_size)\n",
    "        state = env.reset()\n",
    "        # Best 100-episode average reward was 220.62 ± 0.69. \n",
    "        # (BipedalWalker-v2 is considered \"solved\" \n",
    "        #  when the agent obtains an average reward of at least 300 over 100 consecutive episodes.)        \n",
    "        rate = total_reward/300\n",
    "        rate = np.clip(rate, -1, 1) \n",
    "        total_reward = 0 # reset\n",
    "        for idx in range(num_step): # episode length\n",
    "            if memory.buffer[-1-idx][-1] == -1:\n",
    "                memory.buffer[-1-idx][-1] = rate\n",
    "        num_step = 0 # reset"
   ]
  },
  {
   "cell_type": "markdown",
   "metadata": {},
   "source": [
    "## Training the model\n",
    "\n",
    "Below we'll train our agent. If you want to watch it train, uncomment the `env.render()` line. This is slow because it's rendering the frames slower than the network can train. But, it's cool to watch the agent get better at the game."
   ]
  },
  {
   "cell_type": "code",
   "execution_count": 79,
   "metadata": {},
   "outputs": [
    {
     "name": "stdout",
     "output_type": "stream",
     "text": [
      "Episode:0 meanR:-105.0810 R:-105.0810 gloss:9.6885 dloss:19.5605\n",
      "Episode:1 meanR:-107.4824 R:-109.8838 gloss:19.5432 dloss:39.3230\n",
      "Episode:2 meanR:-107.4221 R:-107.3015 gloss:9.7995 dloss:19.9239\n",
      "Episode:3 meanR:-107.9657 R:-109.5965 gloss:13.1455 dloss:26.8188\n",
      "Episode:4 meanR:-118.0846 R:-158.5604 gloss:12.7504 dloss:26.3640\n",
      "Episode:5 meanR:-127.0676 R:-171.9825 gloss:11.4446 dloss:23.3819\n",
      "Episode:6 meanR:-132.3294 R:-163.8998 gloss:12.4697 dloss:25.4616\n",
      "Episode:7 meanR:-129.1102 R:-106.5759 gloss:19.6181 dloss:39.9439\n",
      "Episode:8 meanR:-126.5406 R:-105.9841 gloss:12.2676 dloss:25.1319\n",
      "Episode:9 meanR:-124.4823 R:-105.9577 gloss:16.6749 dloss:34.0601\n",
      "Episode:10 meanR:-122.4653 R:-102.2948 gloss:9.9344 dloss:20.4668\n",
      "Episode:11 meanR:-121.1478 R:-106.6556 gloss:8.3509 dloss:17.2455\n",
      "Episode:12 meanR:-120.0314 R:-106.6344 gloss:12.7644 dloss:26.1725\n",
      "Episode:13 meanR:-119.0739 R:-106.6268 gloss:19.1744 dloss:39.0631\n",
      "Episode:14 meanR:-117.9405 R:-102.0735 gloss:7.2763 dloss:15.0757\n",
      "Episode:15 meanR:-117.1234 R:-104.8668 gloss:13.0827 dloss:26.7421\n",
      "Episode:16 meanR:-116.2445 R:-102.1815 gloss:11.1001 dloss:22.7716\n",
      "Episode:17 meanR:-115.4282 R:-101.5505 gloss:13.7778 dloss:28.1447\n",
      "Episode:18 meanR:-114.7265 R:-102.0975 gloss:12.7372 dloss:26.0436\n",
      "Episode:19 meanR:-114.0881 R:-101.9580 gloss:14.5231 dloss:29.7027\n",
      "Episode:20 meanR:-113.5107 R:-101.9630 gloss:16.0359 dloss:32.7602\n",
      "Episode:21 meanR:-112.9979 R:-102.2277 gloss:12.9652 dloss:26.5094\n",
      "Episode:22 meanR:-112.5017 R:-101.5849 gloss:17.1678 dloss:35.0332\n",
      "Episode:23 meanR:-112.0472 R:-101.5957 gloss:12.0474 dloss:24.6789\n",
      "Episode:24 meanR:-111.8306 R:-106.6306 gloss:10.9093 dloss:22.3845\n",
      "Episode:25 meanR:-111.4878 R:-102.9192 gloss:14.2181 dloss:29.1316\n",
      "Episode:26 meanR:-111.2694 R:-105.5901 gloss:17.9822 dloss:36.7024\n",
      "Episode:27 meanR:-111.0645 R:-105.5316 gloss:17.6398 dloss:35.9939\n",
      "Episode:28 meanR:-110.9153 R:-106.7379 gloss:8.5269 dloss:17.6771\n",
      "Episode:29 meanR:-110.7709 R:-106.5850 gloss:13.0787 dloss:26.8186\n",
      "Episode:30 meanR:-110.6370 R:-106.6186 gloss:8.7152 dloss:18.0248\n",
      "Episode:31 meanR:-110.5025 R:-106.3349 gloss:10.4402 dloss:21.5103\n",
      "Episode:32 meanR:-110.3763 R:-106.3368 gloss:8.3518 dloss:17.3141\n",
      "Episode:33 meanR:-110.1378 R:-102.2668 gloss:11.1993 dloss:23.0207\n",
      "Episode:34 meanR:-110.0414 R:-106.7643 gloss:17.0003 dloss:34.8026\n",
      "Episode:35 meanR:-109.9502 R:-106.7588 gloss:19.1418 dloss:39.1132\n",
      "Episode:36 meanR:-109.8229 R:-105.2385 gloss:15.3054 dloss:31.4361\n",
      "Episode:37 meanR:-109.7426 R:-106.7721 gloss:10.6133 dloss:21.9472\n",
      "Episode:38 meanR:-109.6627 R:-106.6253 gloss:10.6069 dloss:22.0057\n",
      "Episode:39 meanR:-109.5813 R:-106.4079 gloss:10.6043 dloss:21.9758\n",
      "Episode:40 meanR:-109.5020 R:-106.3305 gloss:18.6774 dloss:38.2934\n",
      "Episode:41 meanR:-109.4255 R:-106.2906 gloss:10.4185 dloss:21.5656\n",
      "Episode:42 meanR:-109.2738 R:-102.9012 gloss:9.7935 dloss:20.2728\n",
      "Episode:43 meanR:-109.1309 R:-102.9863 gloss:19.2096 dloss:39.3124\n",
      "Episode:44 meanR:-109.0761 R:-106.6650 gloss:10.6209 dloss:22.0223\n",
      "Episode:45 meanR:-108.9709 R:-104.2346 gloss:27.0582 dloss:55.2593\n",
      "Episode:46 meanR:-108.9170 R:-106.4372 gloss:24.8478 dloss:50.9059\n",
      "Episode:47 meanR:-108.8666 R:-106.4977 gloss:28.9441 dloss:59.2263\n",
      "Episode:48 meanR:-108.8134 R:-106.2598 gloss:14.7488 dloss:30.6998\n",
      "Episode:49 meanR:-108.6844 R:-102.3629 gloss:10.4787 dloss:21.9271\n",
      "Episode:50 meanR:-108.6365 R:-106.2432 gloss:12.4251 dloss:25.8207\n",
      "Episode:51 meanR:-108.5140 R:-102.2682 gloss:11.6387 dloss:24.2109\n",
      "Episode:52 meanR:-108.4777 R:-106.5906 gloss:4.3860 dloss:9.4687\n",
      "Episode:53 meanR:-108.4465 R:-106.7896 gloss:16.9631 dloss:34.8117\n",
      "Episode:54 meanR:-108.3339 R:-102.2581 gloss:9.2341 dloss:19.2433\n",
      "Episode:55 meanR:-108.2722 R:-104.8738 gloss:28.1376 dloss:57.4294\n",
      "Episode:56 meanR:-108.1549 R:-101.5888 gloss:17.0408 dloss:35.2071\n",
      "Episode:57 meanR:-108.0417 R:-101.5897 gloss:18.7581 dloss:38.6513\n",
      "Episode:58 meanR:-107.9876 R:-104.8461 gloss:13.2804 dloss:27.5715\n",
      "Episode:59 meanR:-107.8806 R:-101.5730 gloss:18.7524 dloss:38.7381\n",
      "Episode:60 meanR:-107.7842 R:-101.9955 gloss:17.9593 dloss:37.1163\n",
      "Episode:61 meanR:-107.6930 R:-102.1332 gloss:16.1863 dloss:33.5627\n",
      "Episode:62 meanR:-107.6240 R:-103.3439 gloss:17.8629 dloss:36.8882\n",
      "Episode:63 meanR:-107.5442 R:-102.5169 gloss:13.2951 dloss:27.7839\n",
      "Episode:64 meanR:-107.4781 R:-103.2460 gloss:13.8748 dloss:28.8976\n",
      "Episode:65 meanR:-107.4621 R:-106.4256 gloss:12.6559 dloss:26.5168\n",
      "Episode:66 meanR:-107.3853 R:-102.3139 gloss:14.9074 dloss:31.0314\n",
      "Episode:67 meanR:-107.3773 R:-106.8450 gloss:18.9399 dloss:39.1881\n",
      "Episode:68 meanR:-107.3656 R:-106.5678 gloss:25.7815 dloss:53.0310\n",
      "Episode:69 meanR:-107.3570 R:-106.7604 gloss:17.2515 dloss:35.7979\n",
      "Episode:70 meanR:-107.3488 R:-106.7781 gloss:21.0319 dloss:43.5597\n",
      "Episode:71 meanR:-107.3415 R:-106.8244 gloss:18.9196 dloss:39.2800\n",
      "Episode:72 meanR:-107.3317 R:-106.6260 gloss:15.0807 dloss:31.4846\n",
      "Episode:73 meanR:-107.2642 R:-102.3367 gloss:16.3502 dloss:34.0471\n",
      "Episode:74 meanR:-107.2700 R:-107.6948 gloss:18.9161 dloss:39.2223\n",
      "Episode:75 meanR:-107.2638 R:-106.8036 gloss:25.2350 dloss:52.0548\n",
      "Episode:76 meanR:-107.2549 R:-106.5769 gloss:14.6763 dloss:30.8181\n",
      "Episode:77 meanR:-107.2420 R:-106.2475 gloss:23.1112 dloss:47.8513\n",
      "Episode:78 meanR:-107.1791 R:-102.2710 gloss:24.5008 dloss:50.6001\n",
      "Episode:79 meanR:-107.1690 R:-106.3699 gloss:12.3435 dloss:26.0627\n",
      "Episode:80 meanR:-107.1621 R:-106.6138 gloss:16.8091 dloss:35.0317\n",
      "Episode:81 meanR:-107.1204 R:-103.7389 gloss:22.8886 dloss:47.4252\n",
      "Episode:82 meanR:-107.1129 R:-106.5006 gloss:23.6175 dloss:48.8564\n",
      "Episode:83 meanR:-107.1094 R:-106.8194 gloss:16.7744 dloss:35.1456\n",
      "Episode:84 meanR:-107.1044 R:-106.6812 gloss:12.8802 dloss:27.1277\n",
      "Episode:85 meanR:-107.0992 R:-106.6598 gloss:25.1889 dloss:52.0532\n",
      "Episode:86 meanR:-107.0944 R:-106.6833 gloss:27.8926 dloss:57.5958\n",
      "Episode:87 meanR:-107.0842 R:-106.1925 gloss:26.6299 dloss:55.1480\n",
      "Episode:88 meanR:-107.0752 R:-106.2911 gloss:12.3055 dloss:26.0274\n",
      "Episode:89 meanR:-107.0691 R:-106.5215 gloss:17.1520 dloss:35.7881\n",
      "Episode:90 meanR:-107.0632 R:-106.5301 gloss:21.4164 dloss:44.4522\n",
      "Episode:91 meanR:-107.0117 R:-102.3321 gloss:18.3281 dloss:38.2208\n",
      "Episode:92 meanR:-107.0099 R:-106.8413 gloss:23.1071 dloss:47.7828\n",
      "Episode:93 meanR:-107.0070 R:-106.7353 gloss:18.7581 dloss:39.2247\n",
      "Episode:94 meanR:-106.9566 R:-102.2223 gloss:29.0494 dloss:60.0150\n",
      "Episode:95 meanR:-106.9371 R:-105.0796 gloss:13.1722 dloss:27.8313\n",
      "Episode:96 meanR:-106.9018 R:-103.5167 gloss:19.6284 dloss:40.9609\n",
      "Episode:97 meanR:-106.8578 R:-102.5918 gloss:22.6835 dloss:47.1147\n",
      "Episode:98 meanR:-106.8048 R:-101.6086 gloss:27.0172 dloss:55.8917\n",
      "Episode:99 meanR:-106.7588 R:-102.2085 gloss:14.5494 dloss:30.6785\n",
      "Episode:100 meanR:-106.7305 R:-102.2492 gloss:23.5566 dloss:48.9333\n",
      "Episode:101 meanR:-106.6827 R:-105.0998 gloss:28.4163 dloss:58.8010\n",
      "Episode:102 meanR:-106.6254 R:-101.5747 gloss:13.5544 dloss:28.6087\n",
      "Episode:103 meanR:-106.5517 R:-102.2298 gloss:21.7652 dloss:45.3643\n",
      "Episode:104 meanR:-105.9851 R:-101.8975 gloss:12.4864 dloss:26.4237\n",
      "Episode:105 meanR:-105.2876 R:-102.2342 gloss:23.5848 dloss:49.0107\n",
      "Episode:106 meanR:-104.6716 R:-102.2987 gloss:25.1812 dloss:52.1371\n",
      "Episode:107 meanR:-104.6376 R:-103.1756 gloss:20.3846 dloss:42.7235\n",
      "Episode:108 meanR:-104.6018 R:-102.4046 gloss:22.1667 dloss:46.2177\n",
      "Episode:109 meanR:-104.6089 R:-106.6695 gloss:19.2007 dloss:40.2029\n",
      "Episode:110 meanR:-104.6511 R:-106.5080 gloss:17.0487 dloss:35.7870\n"
     ]
    }
   ],
   "source": [
    "# Save/load the model and save for plotting\n",
    "saver = tf.train.Saver()\n",
    "episode_rewards_list, rewards_list, gloss_list, dloss_list = [], [], [], []\n",
    "\n",
    "# TF session for training\n",
    "with tf.Session(graph=graph) as sess:\n",
    "    sess.run(tf.global_variables_initializer())\n",
    "    #saver.restore(sess, 'checkpoints/model2.ckpt')    \n",
    "    #saver.restore(sess, tf.train.latest_checkpoint('checkpoints'))\n",
    "    episode_reward = deque(maxlen=100) # 100 episodes average/running average/running mean/window\n",
    "    \n",
    "    # Training episodes/epochs\n",
    "    for ep in range(111):\n",
    "        total_reward = 0\n",
    "        num_step = 0\n",
    "        gloss_batch, dloss_batch = [], []\n",
    "        state = env.reset()\n",
    "\n",
    "        # Training steps/batches\n",
    "        while True:\n",
    "            action_preds = sess.run(model.actions_preds, feed_dict={model.states: state.reshape([1, -1])})\n",
    "            noise = np.random.normal(loc=0, scale=0.1, size=action_size) # randomness\n",
    "            action = action_preds.reshape([-1]) + noise\n",
    "            #print(action.shape, action_logits.shape, noise.shape)\n",
    "            action = np.clip(action, -1, 1) # clipped\n",
    "            next_state, reward, done, _ = env.step(action)\n",
    "            rate = -1 # success rate: -1 to +1\n",
    "            memory.buffer.append([state, action, next_state, reward, float(done), rate])\n",
    "            num_step += 1 # memory updated\n",
    "            total_reward += reward # max reward 300\n",
    "            state = next_state\n",
    "            \n",
    "            if done is True:\n",
    "                # Best 100-episode average reward was 220.62 ± 0.69. \n",
    "                # (BipedalWalker-v2 is considered \"solved\" \n",
    "                #  when the agent obtains an average reward of at least 300 over 100 consecutive episodes.)        \n",
    "                rate = total_reward/300\n",
    "                rate = np.clip(rate, -1, 1)\n",
    "                for idx in range(num_step): # episode length\n",
    "                    if memory.buffer[-1-idx][-1] == -1:\n",
    "                        memory.buffer[-1-idx][-1] = rate\n",
    "                        \n",
    "            # Training\n",
    "            batch = memory.sample(batch_size)\n",
    "            states = np.array([each[0] for each in batch])\n",
    "            actions = np.array([each[1] for each in batch])\n",
    "            next_states = np.array([each[2] for each in batch])\n",
    "            rewards = np.array([each[3] for each in batch])\n",
    "            dones = np.array([each[4] for each in batch])\n",
    "            #rates = np.array([each[5] for each in batch])\n",
    "            nextQs_logits = sess.run(model.Qs_logits, feed_dict = {model.states: next_states})\n",
    "            #nextQs = np.max(nextQs_logits, axis=1) * (1-dones) # discrete DQN\n",
    "            nextQs = nextQs_logits.reshape([-1]) * (1-dones) # continuous DPG\n",
    "            targetQs = rewards + (gamma * nextQs)\n",
    "            gloss, dloss, _, _ = sess.run([model.g_loss, model.d_loss, model.g_opt, model.d_opt],\n",
    "                                          feed_dict = {model.states: states, \n",
    "                                                       model.actions: actions,\n",
    "                                                       model.targetQs: targetQs, \n",
    "                                                       model.rates: rewards})\n",
    "            gloss_batch.append(gloss)\n",
    "            dloss_batch.append(dloss)\n",
    "            if done is True:\n",
    "                break\n",
    "                \n",
    "        episode_reward.append(total_reward)\n",
    "        print('Episode:{}'.format(ep),\n",
    "              'meanR:{:.4f}'.format(np.mean(episode_reward)),\n",
    "              'R:{:.4f}'.format(total_reward),\n",
    "              'gloss:{:.4f}'.format(np.mean(gloss_batch)),\n",
    "              'dloss:{:.4f}'.format(np.mean(dloss_batch)))\n",
    "        # Ploting out\n",
    "        episode_rewards_list.append([ep, np.mean(episode_reward)])\n",
    "        rewards_list.append([ep, total_reward])\n",
    "        gloss_list.append([ep, np.mean(gloss_batch)])\n",
    "        dloss_list.append([ep, np.mean(dloss_batch)])\n",
    "        # Break episode/epoch loop\n",
    "        # Did not solve the environment. \n",
    "        # Best 100-episode average reward was 220.62 ± 0.69. \n",
    "        # (BipedalWalker-v2 is considered \"solved\" \n",
    "        #  when the agent obtains an average reward of at least 300 over 100 consecutive episodes.)        \n",
    "        if np.mean(episode_reward) >= 300:\n",
    "            break\n",
    "            \n",
    "    # At the end of all training episodes/epochs\n",
    "    saver.save(sess, 'checkpoints/model.ckpt')"
   ]
  },
  {
   "cell_type": "markdown",
   "metadata": {},
   "source": [
    "# Visualizing training\n",
    "\n",
    "Below I'll plot the total rewards for each episode. I'm plotting the rolling average too, in blue."
   ]
  },
  {
   "cell_type": "code",
   "execution_count": 80,
   "metadata": {},
   "outputs": [],
   "source": [
    "import matplotlib.pyplot as plt\n",
    "%matplotlib inline\n",
    "\n",
    "def running_mean(x, N):\n",
    "    cumsum = np.cumsum(np.insert(x, 0, 0)) \n",
    "    return (cumsum[N:] - cumsum[:-N]) / N "
   ]
  },
  {
   "cell_type": "code",
   "execution_count": 81,
   "metadata": {},
   "outputs": [
    {
     "data": {
      "text/plain": [
       "Text(0, 0.5, 'Total rewards')"
      ]
     },
     "execution_count": 81,
     "metadata": {},
     "output_type": "execute_result"
    },
    {
     "data": {
      "image/png": "[encoded data removed]",
      "text/plain": [
       "<Figure size 432x288 with 1 Axes>"
      ]
     },
     "metadata": {
      "needs_background": "light"
     },
     "output_type": "display_data"
    }
   ],
   "source": [
    "eps, arr = np.array(episode_rewards_list).T\n",
    "smoothed_arr = running_mean(arr, 10)\n",
    "plt.plot(eps[-len(smoothed_arr):], smoothed_arr)\n",
    "plt.plot(eps, arr, color='grey', alpha=0.3)\n",
    "plt.xlabel('Episode')\n",
    "plt.ylabel('Total rewards')"
   ]
  },
  {
   "cell_type": "code",
   "execution_count": 82,
   "metadata": {},
   "outputs": [
    {
     "data": {
      "text/plain": [
       "Text(0, 0.5, 'Total rewards')"
      ]
     },
     "execution_count": 82,
     "metadata": {},
     "output_type": "execute_result"
    },
    {
     "data": {
      "image/png": "[encoded data removed]",
      "text/plain": [
       "<Figure size 432x288 with 1 Axes>"
      ]
     },
     "metadata": {
      "needs_background": "light"
     },
     "output_type": "display_data"
    }
   ],
   "source": [
    "eps, arr = np.array(rewards_list).T\n",
    "smoothed_arr = running_mean(arr, 10)\n",
    "plt.plot(eps[-len(smoothed_arr):], smoothed_arr)\n",
    "plt.plot(eps, arr, color='grey', alpha=0.3)\n",
    "plt.xlabel('Episode')\n",
    "plt.ylabel('Total rewards')"
   ]
  },
  {
   "cell_type": "code",
   "execution_count": 83,
   "metadata": {},
   "outputs": [
    {
     "data": {
      "text/plain": [
       "Text(0, 0.5, 'G losses')"
      ]
     },
     "execution_count": 83,
     "metadata": {},
     "output_type": "execute_result"
    },
    {
     "data": {
      "image/png": "[encoded data removed]",
      "text/plain": [
       "<Figure size 432x288 with 1 Axes>"
      ]
     },
     "metadata": {
      "needs_background": "light"
     },
     "output_type": "display_data"
    }
   ],
   "source": [
    "eps, arr = np.array(gloss_list).T\n",
    "smoothed_arr = running_mean(arr, 10)\n",
    "plt.plot(eps[-len(smoothed_arr):], smoothed_arr)\n",
    "plt.plot(eps, arr, color='grey', alpha=0.3)\n",
    "plt.xlabel('Episode')\n",
    "plt.ylabel('G losses')"
   ]
  },
  {
   "cell_type": "code",
   "execution_count": 84,
   "metadata": {},
   "outputs": [
    {
     "data": {
      "text/plain": [
       "Text(0, 0.5, 'D losses')"
      ]
     },
     "execution_count": 84,
     "metadata": {},
     "output_type": "execute_result"
    },
    {
     "data": {
      "image/png": "[encoded data removed]",
      "text/plain": [
       "<Figure size 432x288 with 1 Axes>"
      ]
     },
     "metadata": {
      "needs_background": "light"
     },
     "output_type": "display_data"
    }
   ],
   "source": [
    "eps, arr = np.array(dloss_list).T\n",
    "smoothed_arr = running_mean(arr, 10)\n",
    "plt.plot(eps[-len(smoothed_arr):], smoothed_arr)\n",
    "plt.plot(eps, arr, color='grey', alpha=0.3)\n",
    "plt.xlabel('Episode')\n",
    "plt.ylabel('D losses')"
   ]
  },
  {
   "cell_type": "markdown",
   "metadata": {},
   "source": [
    "## Testing\n",
    "\n",
    "Let's checkout how our trained agent plays the game."
   ]
  },
  {
   "cell_type": "code",
   "execution_count": 85,
   "metadata": {},
   "outputs": [
    {
     "name": "stdout",
     "output_type": "stream",
     "text": [
      "\u001b[33mWARN: gym.spaces.Box autodetected dtype as <class 'numpy.float32'>. Please provide explicit dtype.\u001b[0m\n",
      "\u001b[33mWARN: gym.spaces.Box autodetected dtype as <class 'numpy.float32'>. Please provide explicit dtype.\u001b[0m\n",
      "INFO:tensorflow:Restoring parameters from checkpoints/model.ckpt\n",
      "total_reward: -103.43347330792993\n"
     ]
    }
   ],
   "source": [
    "import gym\n",
    "env = gym.make('BipedalWalker-v2')\n",
    "\n",
    "with tf.Session() as sess:\n",
    "    sess.run(tf.global_variables_initializer())\n",
    "    #saver.restore(sess, 'checkpoints/model.ckpt')    \n",
    "    saver.restore(sess, tf.train.latest_checkpoint('checkpoints'))\n",
    "    \n",
    "    # Episodes/epochs\n",
    "    for _ in range(1):\n",
    "        state = env.reset()\n",
    "        total_reward = 0\n",
    "\n",
    "        # Steps/batches\n",
    "        while True:\n",
    "            env.render()\n",
    "            action_preds = sess.run(model.actions_preds, feed_dict={model.states: state.reshape([1, -1])})\n",
    "            action = np.reshape(action_preds, [-1]) # For continuous action space\n",
    "            state, reward, done, _ = env.step(action)\n",
    "            total_reward += reward\n",
    "            if done:\n",
    "                print('total_reward: {}'.format(total_reward))\n",
    "                break\n",
    "# End the env                \n",
    "env.close()"
   ]
  },
  {
   "cell_type": "markdown",
   "metadata": {},
   "source": [
    "## Extending this\n",
    "\n",
    "So, Cart-Pole is a pretty simple game. However, the same model can be used to train an agent to play something much more complicated like Pong or Space Invaders. Instead of a state like we're using here though, you'd want to use convolutional layers to get the state from the screen images.\n",
    "\n",
    "![Deep Q-Learning Atari](assets/atari-network.png)\n",
    "\n",
    "I'll leave it as a challenge for you to use deep Q-learning to train an agent to play Atari games. Here's the original paper which will get you started: http://www.davidqiu.com:8888/research/nature14236.pdf."
   ]
  },
  {
   "cell_type": "code",
   "execution_count": null,
   "metadata": {},
   "outputs": [],
   "source": []
  }
 ],
 "metadata": {
  "kernelspec": {
   "display_name": "Python 3",
   "language": "python",
   "name": "python3"
  },
  "language_info": {
   "codemirror_mode": {
    "name": "ipython",
    "version": 3
   },
   "file_extension": ".py",
   "mimetype": "text/x-python",
   "name": "python",
   "nbconvert_exporter": "python",
   "pygments_lexer": "ipython3",
   "version": "3.6.6"
  }
 },
 "nbformat": 4,
 "nbformat_minor": 2
}
