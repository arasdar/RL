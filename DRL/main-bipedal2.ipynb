{
 "cells": [
  {
   "cell_type": "markdown",
   "metadata": {},
   "source": [
    "# DPG for BipedalWalker\n",
    "\n",
    "In this notebook, we'll build a neural network that can learn to play games through reinforcement learning. More specifically, we'll use Q-learning to train an agent to play a game called [Cart-Pole](https://gym.openai.com/envs/CartPole-v0). In this game, a freely swinging pole is attached to a cart. The cart can move to the left and right, and the goal is to keep the pole upright as long as possible.\n",
    "\n",
    "We can simulate this game using [OpenAI Gym](https://gym.openai.com/). First, let's check out how OpenAI Gym works. Then, we'll get into training an agent to play the Cart-Pole game."
   ]
  },
  {
   "cell_type": "code",
   "execution_count": 1,
   "metadata": {},
   "outputs": [
    {
     "name": "stdout",
     "output_type": "stream",
     "text": [
      "TensorFlow Version: 1.11.0\n",
      "Default GPU Device: /device:GPU:0\n"
     ]
    }
   ],
   "source": [
    "# In this one we should define and detect GPUs for tensorflow\n",
    "# GPUs or CPU\n",
    "import tensorflow as tf\n",
    "\n",
    "# Check TensorFlow Version\n",
    "print('TensorFlow Version: {}'.format(tf.__version__))\n",
    "\n",
    "# Check for a GPU\n",
    "print('Default GPU Device: {}'.format(tf.test.gpu_device_name()))"
   ]
  },
  {
   "cell_type": "markdown",
   "metadata": {},
   "source": [
    ">**Note:** Make sure you have OpenAI Gym cloned into the same directory with this notebook. I've included `gym` as a submodule, so you can run `git submodule --init --recursive` to pull the contents into the `gym` repo."
   ]
  },
  {
   "cell_type": "markdown",
   "metadata": {},
   "source": [
    "##### >**Note:** Make sure you have OpenAI Gym cloned. Then run this command `pip install -e gym/[all]`."
   ]
  },
  {
   "cell_type": "code",
   "execution_count": 2,
   "metadata": {},
   "outputs": [
    {
     "name": "stdout",
     "output_type": "stream",
     "text": [
      "\u001b[33mWARN: gym.spaces.Box autodetected dtype as <class 'numpy.float32'>. Please provide explicit dtype.\u001b[0m\n",
      "\u001b[33mWARN: gym.spaces.Box autodetected dtype as <class 'numpy.float32'>. Please provide explicit dtype.\u001b[0m\n"
     ]
    }
   ],
   "source": [
    "import gym\n",
    "env = gym.make('BipedalWalker-v2')"
   ]
  },
  {
   "cell_type": "markdown",
   "metadata": {},
   "source": [
    "We interact with the simulation through `env`. To show the simulation running, you can use `env.render()` to render one frame. Passing in an action as an integer to `env.step` will generate the next step in the simulation.  You can see how many actions are possible from `env.action_space` and to get a random action you can use `env.action_space.sample()`. This is general to all Gym games. In the Cart-Pole game, there are two possible actions, moving the cart left or right. So there are two actions we can take, encoded as 0 and 1.\n",
    "\n",
    "Run the code below to watch the simulation run."
   ]
  },
  {
   "cell_type": "code",
   "execution_count": 3,
   "metadata": {},
   "outputs": [
    {
     "data": {
      "text/plain": [
       "(Box(24,), Box(4,))"
      ]
     },
     "execution_count": 3,
     "metadata": {},
     "output_type": "execute_result"
    }
   ],
   "source": [
    "env.observation_space, env.action_space"
   ]
  },
  {
   "cell_type": "code",
   "execution_count": 4,
   "metadata": {},
   "outputs": [],
   "source": [
    "state = env.reset()\n",
    "batch = []\n",
    "for _ in range(1111):\n",
    "    #env.render()\n",
    "    action = env.action_space.sample()\n",
    "    next_state, reward, done, _ = env.step(action) # take a random action\n",
    "    batch.append([state, action, next_state, reward, float(done)])\n",
    "    state = next_state\n",
    "    if done:\n",
    "        state = env.reset()"
   ]
  },
  {
   "cell_type": "markdown",
   "metadata": {},
   "source": [
    "To shut the window showing the simulation, use `env.close()`."
   ]
  },
  {
   "cell_type": "code",
   "execution_count": 5,
   "metadata": {},
   "outputs": [],
   "source": [
    "# env.close()"
   ]
  },
  {
   "cell_type": "markdown",
   "metadata": {},
   "source": [
    "If you ran the simulation above, we can look at the rewards:"
   ]
  },
  {
   "cell_type": "code",
   "execution_count": 6,
   "metadata": {},
   "outputs": [],
   "source": [
    "import numpy as np\n",
    "actions = np.array([each[0] for each in batch])\n",
    "states = np.array([each[1] for each in batch])\n",
    "rewards = np.array([each[2] for each in batch])\n",
    "dones = np.array([each[3] for each in batch])\n",
    "infos = np.array([each[4] for each in batch])"
   ]
  },
  {
   "cell_type": "code",
   "execution_count": 7,
   "metadata": {},
   "outputs": [
    {
     "name": "stdout",
     "output_type": "stream",
     "text": [
      "states: 0.99992806 -0.9998551\n",
      "actions: 2.36963160832723 -2.2635299364725747\n",
      "rewards: 2.36963160832723 -2.2635299364725747\n"
     ]
    }
   ],
   "source": [
    "print('states:', np.max(np.array(states)), np.min(np.array(states)))\n",
    "print('actions:', np.max(np.array(actions)), np.min(np.array(actions)))\n",
    "print('rewards:', np.max(np.array(rewards)), np.min(np.array(rewards)))"
   ]
  },
  {
   "cell_type": "code",
   "execution_count": 8,
   "metadata": {},
   "outputs": [
    {
     "data": {
      "text/plain": [
       "(array([1., 1., 1., 1.], dtype=float32),\n",
       " array([-1., -1., -1., -1.], dtype=float32))"
      ]
     },
     "execution_count": 8,
     "metadata": {},
     "output_type": "execute_result"
    }
   ],
   "source": [
    "env.action_space.high, env.action_space.low"
   ]
  },
  {
   "cell_type": "markdown",
   "metadata": {},
   "source": [
    "The game resets after the pole has fallen past a certain angle. For each frame while the simulation is running, it returns a reward of 1.0. The longer the game runs, the more reward we get. Then, our network's goal is to maximize the reward by keeping the pole vertical. It will do this by moving the cart to the left and the right."
   ]
  },
  {
   "cell_type": "markdown",
   "metadata": {},
   "source": [
    "## Q-Network\n",
    "\n",
    "We train our Q-learning agent using the Bellman Equation:\n",
    "\n",
    "$$\n",
    "Q(s, a) = r + \\gamma \\max{Q(s', a')}\n",
    "$$\n",
    "\n",
    "where $s$ is a state, $a$ is an action, and $s'$ is the next state from state $s$ and action $a$.\n",
    "\n",
    "Before we used this equation to learn values for a Q-_table_. However, for this game there are a huge number of states available. The state has four values: the position and velocity of the cart, and the position and velocity of the pole. These are all real-valued numbers, so ignoring floating point precisions, you practically have infinite states. Instead of using a table then, we'll replace it with a neural network that will approximate the Q-table lookup function.\n",
    "\n",
    "<img src=\"assets/deep-q-learning.png\" width=450px>\n",
    "\n",
    "Now, our Q value, $Q(s, a)$ is calculated by passing in a state to the network. The output will be Q-values for each available action, with fully connected hidden layers.\n",
    "\n",
    "<img src=\"assets/q-network.png\" width=550px>\n",
    "\n",
    "\n",
    "As I showed before, we can define our targets for training as $\\hat{Q}(s,a) = r + \\gamma \\max{Q(s', a')}$. Then we update the weights by minimizing $(\\hat{Q}(s,a) - Q(s,a))^2$. \n",
    "\n",
    "For this Cart-Pole game, we have four inputs, one for each value in the state, and two outputs, one for each action. To get $\\hat{Q}$, we'll first choose an action, then simulate the game using that action. This will get us the next state, $s'$, and the reward. With that, we can calculate $\\hat{Q}$ then pass it back into the $Q$ network to run the optimizer and update the weights.\n",
    "\n",
    "Below is my implementation of the Q-network. I used two fully connected layers with ReLU activations. Two seems to be good enough, three might be better. Feel free to try it out."
   ]
  },
  {
   "cell_type": "code",
   "execution_count": 15,
   "metadata": {},
   "outputs": [],
   "source": [
    "def model_input(state_size, action_size):\n",
    "    #states = tf.placeholder(tf.float32, [None, *state_shape], name='states')\n",
    "    states = tf.placeholder(tf.float32, [None, state_size], name='states')\n",
    "    actions = tf.placeholder(tf.float32, [None, action_size], name='actions')\n",
    "    targetQs = tf.placeholder(tf.float32, [None], name='targetQs')\n",
    "    rewards = tf.placeholder(tf.float32, [None], name='rewards')\n",
    "    rates = tf.placeholder(tf.float32, [None], name='rates')\n",
    "    training = tf.placeholder(tf.bool, [], name='training')\n",
    "    return states, actions, targetQs, rewards, rates, training"
   ]
  },
  {
   "cell_type": "code",
   "execution_count": 16,
   "metadata": {},
   "outputs": [],
   "source": [
    "# Generator/Controller: Generating/prediting the actions\n",
    "def generator(states, action_size, hidden_size, reuse=False, alpha=0.1, training=False):\n",
    "    with tf.variable_scope('generator', reuse=reuse):\n",
    "        # First fully connected layer\n",
    "        h1 = tf.layers.dense(inputs=states, units=hidden_size)\n",
    "        bn1 = tf.layers.batch_normalization(h1, training=training)        \n",
    "        nl1 = tf.maximum(alpha * bn1, bn1)\n",
    "        \n",
    "        # Second fully connected layer\n",
    "        h2 = tf.layers.dense(inputs=nl1, units=hidden_size)\n",
    "        bn2 = tf.layers.batch_normalization(h2, training=training)        \n",
    "        nl2 = tf.maximum(alpha * bn2, bn2)\n",
    "        \n",
    "        # Output layer\n",
    "        logits = tf.layers.dense(inputs=nl2, units=action_size)        \n",
    "        predictions = tf.nn.tanh(logits) # [-1, +1]\n",
    "\n",
    "        # return actions logits\n",
    "        return predictions"
   ]
  },
  {
   "cell_type": "code",
   "execution_count": 17,
   "metadata": {},
   "outputs": [],
   "source": [
    "# Discriminator/Dopamine: Reward function/planner/naviator/advisor/supervisor/cortical columns\n",
    "def discriminator(states, actions, hidden_size, reuse=False, alpha=0.1, training=False):\n",
    "    with tf.variable_scope('discriminator', reuse=reuse):\n",
    "        # First fully connected layer\n",
    "        h1 = tf.layers.dense(inputs=states, units=action_size)\n",
    "        bn1 = tf.layers.batch_normalization(h1, training=training)        \n",
    "        nl1 = tf.maximum(alpha * bn1, bn1)\n",
    "        \n",
    "        # Second fully connected layer\n",
    "        fused = tf.concat(axis=1, values=[nl1, actions])\n",
    "        h2 = tf.layers.dense(inputs=fused, units=hidden_size)\n",
    "        bn2 = tf.layers.batch_normalization(h2, training=training)        \n",
    "        nl2 = tf.maximum(alpha * bn2, bn2)\n",
    "                \n",
    "        # Output layer\n",
    "        logits = tf.layers.dense(inputs=nl2, units=1)        \n",
    "        #predictions = tf.nn.softmax(logits)\n",
    "\n",
    "        # return rewards logits\n",
    "        return logits"
   ]
  },
  {
   "cell_type": "code",
   "execution_count": 20,
   "metadata": {},
   "outputs": [],
   "source": [
    "# Adverseial Q-learning\n",
    "def model_loss(action_size, hidden_size, states, actions, targetQs, rewards, rates, training):\n",
    "    actions_preds = generator(states=states, hidden_size=hidden_size, action_size=action_size, training=training)\n",
    "    gQs = discriminator(actions=actions_preds, hidden_size=hidden_size, states=states, training=training) #nextQs\n",
    "    dQs = discriminator(actions=actions, hidden_size=hidden_size, states=states, training=training, reuse=True)#Qs\n",
    "    targetQs = tf.reshape(targetQs, shape=[-1, 1]) # gQs\n",
    "    gloss = tf.reduce_mean(tf.square(gQs - targetQs)) # DQN\n",
    "    dlossA = tf.reduce_mean(tf.square(tf.tanh(dQs)- rates))\n",
    "    dlossQ = tf.reduce_mean(tf.square(dQs - targetQs)) # DQN\n",
    "    rewards = tf.reshape(rewards, shape=[-1, 1]) # gQs\n",
    "    dlossQ += tf.reduce_mean(tf.square(dQs - rewards)) # DQN\n",
    "    return actions_preds, gQs, gloss, dlossA, dlossQ"
   ]
  },
  {
   "cell_type": "code",
   "execution_count": 21,
   "metadata": {},
   "outputs": [],
   "source": [
    "# Optimizating/training/learning G & D\n",
    "def model_opt(g_loss, d_lossA, d_lossQ, g_learning_rate, d_learning_rate):\n",
    "    # Get weights and bias to update\n",
    "    t_vars = tf.trainable_variables()\n",
    "    g_vars = [var for var in t_vars if var.name.startswith('generator')]\n",
    "    d_vars = [var for var in t_vars if var.name.startswith('discriminator')]\n",
    "\n",
    "    # Optimize\n",
    "    with tf.control_dependencies(tf.get_collection(tf.GraphKeys.UPDATE_OPS)): # Required for batchnorm (BN)\n",
    "        g_opt = tf.train.AdamOptimizer(g_learning_rate).minimize(g_loss, var_list=g_vars)\n",
    "        d_optA = tf.train.AdamOptimizer(d_learning_rate).minimize(d_lossA, var_list=d_vars)\n",
    "        d_optQ = tf.train.AdamOptimizer(d_learning_rate).minimize(d_lossQ, var_list=d_vars)\n",
    "    return g_opt, d_optA, d_optQ"
   ]
  },
  {
   "cell_type": "code",
   "execution_count": 22,
   "metadata": {},
   "outputs": [],
   "source": [
    "class Model:\n",
    "    def __init__(self, state_size, action_size, hidden_size, g_learning_rate, d_learning_rate):\n",
    "\n",
    "        # Data of the Model: make the data available inside the framework\n",
    "        self.states, self.actions, self.targetQs, self.rewards, self.rates, self.training = model_input(\n",
    "            state_size=state_size, action_size=action_size)\n",
    "\n",
    "        # Create the Model: calculating the loss and forwad pass\n",
    "        self.actions_preds, self.Qs_logits, self.g_loss, self.d_lossA, self.d_lossQ = model_loss(\n",
    "            action_size=action_size, hidden_size=hidden_size, # model init parameters\n",
    "            states=self.states, actions=self.actions, targetQs=self.targetQs, # model input \n",
    "            rewards=self.rewards, rates=self.rates, training=self.training) # model input\n",
    "        \n",
    "        # Update the model: backward pass and backprop\n",
    "        self.g_opt, self.d_optA, self.d_optQ = model_opt(g_loss=self.g_loss, \n",
    "                                                         d_lossA=self.d_lossA,\n",
    "                                                         d_lossQ=self.d_lossQ,\n",
    "                                                         g_learning_rate=g_learning_rate, \n",
    "                                                         d_learning_rate=d_learning_rate)"
   ]
  },
  {
   "cell_type": "code",
   "execution_count": 23,
   "metadata": {},
   "outputs": [],
   "source": [
    "from collections import deque\n",
    "class Memory():\n",
    "    def __init__(self, max_size = 1000):\n",
    "        self.buffer = deque(maxlen=max_size)\n",
    "    def sample(self, batch_size):\n",
    "        idx = np.random.choice(np.arange(len(self.buffer)), \n",
    "                               size=batch_size, \n",
    "                               replace=False)\n",
    "        return [self.buffer[ii] for ii in idx]"
   ]
  },
  {
   "cell_type": "markdown",
   "metadata": {},
   "source": [
    "## Hyperparameters\n",
    "\n",
    "One of the more difficult aspects of reinforcememt learning are the large number of hyperparameters. Not only are we tuning the network, but we're tuning the simulation."
   ]
  },
  {
   "cell_type": "code",
   "execution_count": 24,
   "metadata": {},
   "outputs": [
    {
     "data": {
      "text/plain": [
       "(Box(24,), Box(4,))"
      ]
     },
     "execution_count": 24,
     "metadata": {},
     "output_type": "execute_result"
    }
   ],
   "source": [
    "env.observation_space, env.action_space"
   ]
  },
  {
   "cell_type": "code",
   "execution_count": 25,
   "metadata": {},
   "outputs": [],
   "source": [
    "# Exploration parameters\n",
    "explore_start = 1.0            # exploration probability at start\n",
    "explore_stop = 0.01           # minimum exploration probability \n",
    "decay_rate = 0.0001            # exponential decay rate for exploration prob\n",
    "\n",
    "# Network parameters\n",
    "state_size = 24\n",
    "action_size = 4\n",
    "hidden_size = 24*2             # number of units in each Q-network hidden layer\n",
    "g_learning_rate = 1e-4         # Q-network learning rate\n",
    "d_learning_rate = 1e-4         # Q-network learning rate\n",
    "\n",
    "# Memory parameters\n",
    "memory_size = int(1e5)            # memory capacity\n",
    "batch_size = int(1e2)             # experience mini-batch size == one episode size is 1000/int(1e3) steps\n",
    "gamma = 0.99                   # future reward discount"
   ]
  },
  {
   "cell_type": "code",
   "execution_count": 26,
   "metadata": {},
   "outputs": [],
   "source": [
    "# Reset/init the graph/session\n",
    "graph = tf.reset_default_graph()\n",
    "\n",
    "# Init the model\n",
    "model = Model(action_size=action_size, state_size=state_size, hidden_size=hidden_size,\n",
    "              g_learning_rate=g_learning_rate, d_learning_rate=d_learning_rate)\n",
    "\n",
    "# Init the memory\n",
    "memory = Memory(max_size=memory_size)"
   ]
  },
  {
   "cell_type": "code",
   "execution_count": 27,
   "metadata": {},
   "outputs": [
    {
     "data": {
      "text/plain": [
       "(array([1., 1., 1., 1.], dtype=float32),\n",
       " array([-1., -1., -1., -1.], dtype=float32),\n",
       " (4,),\n",
       " (-inf, inf),\n",
       " Box(4,))"
      ]
     },
     "execution_count": 27,
     "metadata": {},
     "output_type": "execute_result"
    }
   ],
   "source": [
    "env.action_space.high, env.action_space.low, env.action_space.shape, \\\n",
    "env.reward_range, env.action_space"
   ]
  },
  {
   "cell_type": "code",
   "execution_count": 28,
   "metadata": {},
   "outputs": [
    {
     "name": "stdout",
     "output_type": "stream",
     "text": [
      "states: 0.99992806 -0.9998551\n",
      "actions: 2.36963160832723 -2.2635299364725747\n",
      "rewards: 2.36963160832723 -2.2635299364725747\n"
     ]
    }
   ],
   "source": [
    "print('states:', np.max(np.array(states)), np.min(np.array(states)))\n",
    "print('actions:', np.max(np.array(actions)), np.min(np.array(actions)))\n",
    "print('rewards:', np.max(np.array(rewards)), np.min(np.array(rewards)))"
   ]
  },
  {
   "cell_type": "code",
   "execution_count": 29,
   "metadata": {},
   "outputs": [
    {
     "name": "stdout",
     "output_type": "stream",
     "text": [
      "Progress: 0.01599\n",
      "Progress: 0.03199\n",
      "Progress: 0.03279\n",
      "Progress: 0.03341\n",
      "Progress: 0.04941\n",
      "Progress: 0.06541\n",
      "Progress: 0.06677\n",
      "Progress: 0.06752\n",
      "Progress: 0.06827\n",
      "Progress: 0.06903\n",
      "Progress: 0.0698\n",
      "Progress: 0.07056\n",
      "Progress: 0.07137\n",
      "Progress: 0.07228\n",
      "Progress: 0.08828\n",
      "Progress: 0.08906\n",
      "Progress: 0.08963\n",
      "Progress: 0.10563\n",
      "Progress: 0.10641\n",
      "Progress: 0.12241\n",
      "Progress: 0.12323\n",
      "Progress: 0.12392\n",
      "Progress: 0.12456\n",
      "Progress: 0.12541\n",
      "Progress: 0.126\n",
      "Progress: 0.12682\n",
      "Progress: 0.12761\n",
      "Progress: 0.12862\n",
      "Progress: 0.12916\n",
      "Progress: 0.12981\n",
      "Progress: 0.14581\n",
      "Progress: 0.14644\n",
      "Progress: 0.1472\n",
      "Progress: 0.14766\n",
      "Progress: 0.16366\n",
      "Progress: 0.16442\n",
      "Progress: 0.16515\n",
      "Progress: 0.18115\n",
      "Progress: 0.18202\n",
      "Progress: 0.19802\n",
      "Progress: 0.19853\n",
      "Progress: 0.21453\n",
      "Progress: 0.21508\n",
      "Progress: 0.21586\n",
      "Progress: 0.23186\n",
      "Progress: 0.24786\n",
      "Progress: 0.26386\n",
      "Progress: 0.26461\n",
      "Progress: 0.26555\n",
      "Progress: 0.26668\n",
      "Progress: 0.26739\n",
      "Progress: 0.2681\n",
      "Progress: 0.26889\n",
      "Progress: 0.26936\n",
      "Progress: 0.27032\n",
      "Progress: 0.27116\n",
      "Progress: 0.28716\n",
      "Progress: 0.28793\n",
      "Progress: 0.30393\n",
      "Progress: 0.30457\n",
      "Progress: 0.30547\n",
      "Progress: 0.30592\n",
      "Progress: 0.30804\n",
      "Progress: 0.309\n",
      "Progress: 0.325\n",
      "Progress: 0.341\n",
      "Progress: 0.357\n",
      "Progress: 0.373\n",
      "Progress: 0.389\n",
      "Progress: 0.405\n",
      "Progress: 0.40577\n",
      "Progress: 0.42177\n",
      "Progress: 0.42248\n",
      "Progress: 0.42304\n",
      "Progress: 0.43904\n",
      "Progress: 0.45504\n",
      "Progress: 0.47104\n",
      "Progress: 0.47192\n",
      "Progress: 0.47237\n",
      "Progress: 0.47314\n",
      "Progress: 0.48914\n",
      "Progress: 0.48986\n",
      "Progress: 0.50586\n",
      "Progress: 0.52186\n",
      "Progress: 0.52264\n",
      "Progress: 0.53864\n",
      "Progress: 0.55464\n",
      "Progress: 0.57064\n",
      "Progress: 0.57139\n",
      "Progress: 0.57276\n",
      "Progress: 0.5735\n",
      "Progress: 0.57436\n",
      "Progress: 0.59036\n",
      "Progress: 0.59108\n",
      "Progress: 0.59241\n",
      "Progress: 0.59285\n",
      "Progress: 0.59351\n",
      "Progress: 0.59423\n",
      "Progress: 0.59501\n",
      "Progress: 0.61101\n",
      "Progress: 0.62701\n",
      "Progress: 0.62803\n",
      "Progress: 0.64403\n",
      "Progress: 0.66003\n",
      "Progress: 0.66075\n",
      "Progress: 0.67675\n",
      "Progress: 0.67726\n",
      "Progress: 0.67797\n",
      "Progress: 0.69397\n",
      "Progress: 0.69456\n",
      "Progress: 0.71056\n",
      "Progress: 0.71106\n",
      "Progress: 0.72706\n",
      "Progress: 0.74306\n",
      "Progress: 0.74375\n",
      "Progress: 0.74445\n",
      "Progress: 0.76045\n",
      "Progress: 0.77645\n",
      "Progress: 0.77802\n",
      "Progress: 0.79402\n",
      "Progress: 0.81002\n",
      "Progress: 0.82602\n",
      "Progress: 0.82667\n",
      "Progress: 0.82726\n",
      "Progress: 0.82777\n",
      "Progress: 0.84377\n",
      "Progress: 0.85977\n",
      "Progress: 0.87577\n",
      "Progress: 0.87652\n",
      "Progress: 0.87777\n",
      "Progress: 0.87854\n",
      "Progress: 0.87905\n",
      "Progress: 0.89505\n",
      "Progress: 0.91105\n",
      "Progress: 0.92705\n",
      "Progress: 0.92762\n",
      "Progress: 0.92849\n",
      "Progress: 0.92931\n",
      "Progress: 0.94531\n",
      "Progress: 0.96131\n",
      "Progress: 0.96265\n",
      "Progress: 0.97865\n",
      "Progress: 0.99465\n",
      "Progress: 0.99507\n",
      "Progress: 0.99586\n",
      "Progress: 0.99684\n"
     ]
    }
   ],
   "source": [
    "state = env.reset()\n",
    "total_reward = 0\n",
    "num_step = 0\n",
    "for each_step in range(memory_size):\n",
    "    action = env.action_space.sample() # randomness\n",
    "    action = np.clip(action, -1, 1) # clipped: [-1, +1]\n",
    "    next_state, reward, done, _ = env.step(action)\n",
    "    rate = -1 # success rate: [-1, +1]\n",
    "    memory.buffer.append([state, action, next_state, reward, float(done), rate])\n",
    "    num_step += 1 # memory updated\n",
    "    total_reward += reward # max reward 300\n",
    "    state = next_state\n",
    "    if done is True:\n",
    "        print('Progress:', each_step/memory_size)\n",
    "        state = env.reset()\n",
    "        # Best 100-episode average reward was 220.62 ± 0.69. \n",
    "        # (BipedalWalker-v2 is considered \"solved\" \n",
    "        #  when the agent obtains an average reward of at least 300 over 100 consecutive episodes.)        \n",
    "        rate = total_reward/300\n",
    "        rate = np.clip(rate, -1, 1) \n",
    "        total_reward = 0 # reset\n",
    "        for idx in range(num_step): # episode length\n",
    "            if memory.buffer[-1-idx][-1] == -1:\n",
    "                memory.buffer[-1-idx][-1] = rate\n",
    "        num_step = 0 # reset"
   ]
  },
  {
   "cell_type": "markdown",
   "metadata": {},
   "source": [
    "## Training the model\n",
    "\n",
    "Below we'll train our agent. If you want to watch it train, uncomment the `env.render()` line. This is slow because it's rendering the frames slower than the network can train. But, it's cool to watch the agent get better at the game."
   ]
  },
  {
   "cell_type": "code",
   "execution_count": null,
   "metadata": {},
   "outputs": [
    {
     "name": "stdout",
     "output_type": "stream",
     "text": [
      "Episode:0 meanR:-118.5105 R:-118.5105 gloss:7.6582 dlossA:0.0166 dlossQ:15.4058\n",
      "Episode:1 meanR:-112.2357 R:-105.9610 gloss:8.8655 dlossA:0.0056 dlossQ:17.8259\n",
      "Episode:2 meanR:-118.6875 R:-131.5911 gloss:9.0373 dlossA:0.0050 dlossQ:18.1677\n",
      "Episode:3 meanR:-121.2551 R:-128.9577 gloss:6.4160 dlossA:0.0048 dlossQ:12.9159\n",
      "Episode:4 meanR:-122.5654 R:-127.8065 gloss:7.7173 dlossA:0.0048 dlossQ:15.5020\n",
      "Episode:5 meanR:-119.2423 R:-102.6271 gloss:12.3311 dlossA:0.0042 dlossQ:24.7449\n",
      "Episode:6 meanR:-120.5162 R:-128.1598 gloss:9.0344 dlossA:0.0045 dlossQ:18.1573\n",
      "Episode:7 meanR:-118.7836 R:-106.6549 gloss:9.3789 dlossA:0.0075 dlossQ:18.8397\n",
      "Episode:8 meanR:-120.6010 R:-135.1401 gloss:6.3674 dlossA:0.0039 dlossQ:12.8044\n",
      "Episode:9 meanR:-122.0881 R:-135.4724 gloss:6.5218 dlossA:0.0041 dlossQ:13.1117\n",
      "Episode:10 meanR:-120.5037 R:-104.6598 gloss:7.2158 dlossA:0.0038 dlossQ:14.4969\n",
      "Episode:11 meanR:-119.9076 R:-113.3505 gloss:11.5157 dlossA:0.0035 dlossQ:23.1179\n",
      "Episode:12 meanR:-118.7401 R:-104.7303 gloss:5.6841 dlossA:0.0036 dlossQ:11.4364\n",
      "Episode:13 meanR:-117.9067 R:-107.0729 gloss:11.7777 dlossA:0.0030 dlossQ:23.6523\n",
      "Episode:14 meanR:-117.0126 R:-104.4953 gloss:5.8592 dlossA:0.0036 dlossQ:11.7818\n",
      "Episode:15 meanR:-116.0141 R:-101.0355 gloss:9.7452 dlossA:0.0033 dlossQ:19.5616\n",
      "Episode:16 meanR:-115.4061 R:-105.6791 gloss:11.6006 dlossA:0.0036 dlossQ:23.2689\n",
      "Episode:17 meanR:-116.4869 R:-134.8603 gloss:10.1090 dlossA:0.0034 dlossQ:20.2931\n",
      "Episode:18 meanR:-116.6016 R:-118.6651 gloss:9.1989 dlossA:0.0032 dlossQ:18.4663\n",
      "Episode:19 meanR:-116.3076 R:-110.7219 gloss:8.2917 dlossA:0.0033 dlossQ:16.6436\n",
      "Episode:20 meanR:-115.8474 R:-106.6437 gloss:9.1763 dlossA:0.0037 dlossQ:18.4230\n",
      "Episode:21 meanR:-116.7330 R:-135.3315 gloss:6.5779 dlossA:0.0034 dlossQ:13.2188\n",
      "Episode:22 meanR:-117.4936 R:-134.2270 gloss:13.9452 dlossA:0.0037 dlossQ:27.9696\n",
      "Episode:23 meanR:-118.4032 R:-139.3240 gloss:10.5320 dlossA:0.0031 dlossQ:21.1363\n",
      "Episode:24 meanR:-119.1041 R:-135.9251 gloss:8.2179 dlossA:0.0038 dlossQ:16.5003\n",
      "Episode:25 meanR:-119.7024 R:-134.6589 gloss:7.8478 dlossA:0.0033 dlossQ:15.7627\n",
      "Episode:26 meanR:-120.3097 R:-136.1007 gloss:11.7338 dlossA:0.0040 dlossQ:23.5429\n",
      "Episode:27 meanR:-120.8539 R:-135.5462 gloss:6.6327 dlossA:0.0031 dlossQ:13.3293\n",
      "Episode:28 meanR:-121.4881 R:-139.2458 gloss:10.6051 dlossA:0.0038 dlossQ:21.2735\n",
      "Episode:29 meanR:-122.0529 R:-138.4337 gloss:7.1034 dlossA:0.0038 dlossQ:14.2689\n",
      "Episode:30 meanR:-121.6600 R:-109.8726 gloss:17.7971 dlossA:0.0035 dlossQ:35.6767\n",
      "Episode:31 meanR:-121.3446 R:-111.5680 gloss:18.9157 dlossA:0.0037 dlossQ:37.9146\n",
      "Episode:32 meanR:-121.7664 R:-135.2611 gloss:13.4707 dlossA:0.0038 dlossQ:27.0141\n",
      "Episode:33 meanR:-121.2078 R:-102.7751 gloss:14.5380 dlossA:0.0039 dlossQ:29.1564\n",
      "Episode:34 meanR:-121.6249 R:-135.8078 gloss:9.8508 dlossA:0.0038 dlossQ:19.7728\n",
      "Episode:35 meanR:-121.9780 R:-134.3358 gloss:15.8305 dlossA:0.0040 dlossQ:31.7325\n",
      "Episode:36 meanR:-122.3011 R:-133.9340 gloss:14.2001 dlossA:0.0035 dlossQ:28.4635\n",
      "Episode:37 meanR:-122.6376 R:-135.0861 gloss:6.6870 dlossA:0.0043 dlossQ:13.4348\n",
      "Episode:38 meanR:-123.0000 R:-136.7714 gloss:11.7421 dlossA:0.0045 dlossQ:23.5497\n",
      "Episode:39 meanR:-123.3844 R:-138.3779 gloss:10.8848 dlossA:0.0038 dlossQ:21.8369\n",
      "Episode:40 meanR:-123.6403 R:-133.8755 gloss:9.5892 dlossA:0.0047 dlossQ:19.2478\n",
      "Episode:41 meanR:-123.9541 R:-136.8175 gloss:8.4124 dlossA:0.0045 dlossQ:16.8869\n",
      "Episode:42 meanR:-124.2016 R:-134.5985 gloss:18.3520 dlossA:0.0039 dlossQ:36.7920\n",
      "Episode:43 meanR:-123.8505 R:-108.7521 gloss:3.5157 dlossA:0.0041 dlossQ:7.0894\n",
      "Episode:44 meanR:-123.5535 R:-110.4868 gloss:4.6671 dlossA:0.0036 dlossQ:9.3881\n",
      "Episode:45 meanR:-123.7509 R:-132.6340 gloss:9.8447 dlossA:0.0044 dlossQ:19.7559\n",
      "Episode:46 meanR:-124.0056 R:-135.7190 gloss:10.7050 dlossA:0.0047 dlossQ:21.4678\n",
      "Episode:47 meanR:-124.2227 R:-134.4293 gloss:10.2783 dlossA:0.0040 dlossQ:20.6174\n",
      "Episode:48 meanR:-123.8846 R:-107.6551 gloss:9.2457 dlossA:0.0042 dlossQ:18.5503\n",
      "Episode:49 meanR:-124.0748 R:-133.3942 gloss:12.0942 dlossA:0.0037 dlossQ:24.2525\n",
      "Episode:50 meanR:-124.2402 R:-132.5083 gloss:11.7893 dlossA:0.0046 dlossQ:23.6389\n",
      "Episode:51 meanR:-124.4427 R:-134.7744 gloss:7.2786 dlossA:0.0042 dlossQ:14.6158\n",
      "Episode:52 meanR:-124.1161 R:-107.1327 gloss:7.2346 dlossA:0.0040 dlossQ:14.5198\n",
      "Episode:53 meanR:-123.7683 R:-105.3317 gloss:4.9757 dlossA:0.0043 dlossQ:10.0045\n",
      "Episode:54 meanR:-123.4595 R:-106.7853 gloss:19.1770 dlossA:0.0043 dlossQ:38.4222\n",
      "Episode:55 meanR:-123.1015 R:-103.4091 gloss:11.8363 dlossA:0.0039 dlossQ:23.7311\n",
      "Episode:56 meanR:-122.7593 R:-103.5970 gloss:16.7735 dlossA:0.0034 dlossQ:33.6158\n",
      "Episode:57 meanR:-122.4218 R:-103.1870 gloss:7.5391 dlossA:0.0039 dlossQ:15.1325\n",
      "Episode:58 meanR:-122.1651 R:-107.2751 gloss:8.1808 dlossA:0.0039 dlossQ:16.4165\n",
      "Episode:59 meanR:-121.9138 R:-107.0847 gloss:10.7818 dlossA:0.0039 dlossQ:21.6234\n",
      "Episode:60 meanR:-122.1378 R:-135.5780 gloss:9.6987 dlossA:0.0047 dlossQ:19.4580\n",
      "Episode:61 meanR:-121.9011 R:-107.4651 gloss:10.9248 dlossA:0.0051 dlossQ:21.9085\n",
      "Episode:62 meanR:-122.1206 R:-135.7313 gloss:15.1717 dlossA:0.0043 dlossQ:30.4039\n",
      "Episode:63 meanR:-122.3283 R:-135.4112 gloss:11.6137 dlossA:0.0046 dlossQ:23.2876\n",
      "Episode:64 meanR:-122.4456 R:-129.9559 gloss:11.8545 dlossA:0.0040 dlossQ:23.7694\n",
      "Episode:65 meanR:-122.5864 R:-131.7343 gloss:17.0063 dlossA:0.0046 dlossQ:34.0730\n",
      "Episode:66 meanR:-122.7362 R:-132.6260 gloss:15.5052 dlossA:0.0045 dlossQ:31.0732\n",
      "Episode:67 meanR:-122.8705 R:-131.8693 gloss:10.4643 dlossA:0.0045 dlossQ:20.9852\n",
      "Episode:68 meanR:-122.9813 R:-130.5150 gloss:13.8268 dlossA:0.0046 dlossQ:27.7112\n",
      "Episode:69 meanR:-123.1866 R:-137.3493 gloss:13.1947 dlossA:0.0045 dlossQ:26.4514\n",
      "Episode:70 meanR:-123.2784 R:-129.7058 gloss:12.4250 dlossA:0.0045 dlossQ:24.9071\n",
      "Episode:71 meanR:-123.4895 R:-138.4777 gloss:10.9768 dlossA:0.0049 dlossQ:22.0096\n",
      "Episode:72 meanR:-123.5763 R:-129.8263 gloss:12.8972 dlossA:0.0046 dlossQ:25.8546\n",
      "Episode:73 meanR:-123.2157 R:-96.8892 gloss:13.9696 dlossA:0.0083 dlossQ:28.0034\n",
      "Episode:74 meanR:-122.8966 R:-99.2851 gloss:13.1211 dlossA:0.0047 dlossQ:26.3082\n",
      "Episode:75 meanR:-122.5665 R:-97.8121 gloss:13.4164 dlossA:0.0042 dlossQ:26.8968\n",
      "Episode:76 meanR:-122.2343 R:-96.9854 gloss:13.7498 dlossA:0.0050 dlossQ:27.5626\n",
      "Episode:77 meanR:-121.9843 R:-102.7338 gloss:25.4510 dlossA:0.0044 dlossQ:50.9777\n",
      "Episode:78 meanR:-121.6518 R:-95.7145 gloss:14.9419 dlossA:0.0049 dlossQ:29.9439\n",
      "Episode:79 meanR:-121.3739 R:-99.4217 gloss:14.2981 dlossA:0.0049 dlossQ:28.6573\n",
      "Episode:80 meanR:-121.0747 R:-97.1390 gloss:12.0989 dlossA:0.0045 dlossQ:24.2588\n",
      "Episode:81 meanR:-120.7820 R:-97.0746 gloss:15.8218 dlossA:0.0048 dlossQ:31.7084\n",
      "Episode:82 meanR:-120.4920 R:-96.7066 gloss:12.2149 dlossA:0.0045 dlossQ:24.4907\n",
      "Episode:83 meanR:-120.2105 R:-96.8514 gloss:13.6719 dlossA:0.0045 dlossQ:27.4093\n",
      "Episode:84 meanR:-119.8884 R:-92.8298 gloss:13.5953 dlossA:0.0083 dlossQ:27.2577\n",
      "Episode:85 meanR:-119.8074 R:-112.9257 gloss:10.1865 dlossA:0.0043 dlossQ:20.4377\n",
      "Episode:86 meanR:-119.4074 R:-85.0051 gloss:14.0239 dlossA:0.0084 dlossQ:28.1233\n",
      "Episode:87 meanR:-119.3971 R:-118.5044 gloss:15.7550 dlossA:0.0050 dlossQ:31.5908\n",
      "Episode:88 meanR:-119.3969 R:-119.3744 gloss:19.2939 dlossA:0.0049 dlossQ:38.6732\n",
      "Episode:89 meanR:-119.4047 R:-120.0970 gloss:13.0602 dlossA:0.0050 dlossQ:26.1958\n",
      "Episode:90 meanR:-118.9216 R:-75.4415 gloss:15.3205 dlossA:0.0086 dlossQ:30.7235\n",
      "Episode:91 meanR:-118.4260 R:-73.3275 gloss:15.0085 dlossA:0.0083 dlossQ:30.0978\n",
      "Episode:92 meanR:-118.4420 R:-119.9127 gloss:12.1100 dlossA:0.0042 dlossQ:24.2908\n",
      "Episode:93 meanR:-117.7042 R:-49.0949 gloss:14.8227 dlossA:0.0085 dlossQ:29.7291\n",
      "Episode:94 meanR:-117.0650 R:-56.9826 gloss:13.3374 dlossA:0.0088 dlossQ:26.7573\n",
      "Episode:95 meanR:-117.0842 R:-118.9031 gloss:13.6535 dlossA:0.0056 dlossQ:27.3879\n",
      "Episode:96 meanR:-116.4713 R:-57.6357 gloss:15.4422 dlossA:0.0089 dlossQ:30.9700\n",
      "Episode:97 meanR:-115.8716 R:-57.7022 gloss:12.6574 dlossA:0.0089 dlossQ:25.3907\n",
      "Episode:98 meanR:-115.1473 R:-44.1607 gloss:12.2234 dlossA:0.0093 dlossQ:24.5196\n",
      "Episode:99 meanR:-114.5137 R:-51.7932 gloss:15.1336 dlossA:0.0094 dlossQ:30.3459\n",
      "Episode:100 meanR:-113.8558 R:-52.7114 gloss:13.1523 dlossA:0.0099 dlossQ:26.3779\n"
     ]
    },
    {
     "name": "stdout",
     "output_type": "stream",
     "text": [
      "Episode:101 meanR:-113.3198 R:-52.3615 gloss:13.6466 dlossA:0.0099 dlossQ:27.3638\n",
      "Episode:102 meanR:-112.3958 R:-39.1989 gloss:11.9736 dlossA:0.0100 dlossQ:24.0142\n",
      "Episode:103 meanR:-111.4964 R:-39.0093 gloss:12.6536 dlossA:0.0107 dlossQ:25.3741\n",
      "Episode:104 meanR:-110.6354 R:-41.7091 gloss:13.7686 dlossA:0.0107 dlossQ:27.6098\n",
      "Episode:105 meanR:-110.0674 R:-45.8331 gloss:13.3955 dlossA:0.0115 dlossQ:26.8654\n",
      "Episode:106 meanR:-109.8111 R:-102.5257 gloss:14.7540 dlossA:0.0072 dlossQ:29.5758\n",
      "Episode:107 meanR:-109.1636 R:-41.9026 gloss:11.8464 dlossA:0.0114 dlossQ:23.7634\n",
      "Episode:108 meanR:-108.8004 R:-98.8238 gloss:12.9893 dlossA:0.0082 dlossQ:26.0486\n",
      "Episode:109 meanR:-108.4503 R:-100.4637 gloss:12.0045 dlossA:0.0078 dlossQ:24.0761\n",
      "Episode:110 meanR:-108.4153 R:-101.1554 gloss:13.2387 dlossA:0.0077 dlossQ:26.5404\n",
      "Episode:111 meanR:-108.2771 R:-99.5295 gloss:17.1902 dlossA:0.0076 dlossQ:34.4557\n",
      "Episode:112 meanR:-108.2080 R:-97.8188 gloss:16.9163 dlossA:0.0077 dlossQ:33.9147\n",
      "Episode:113 meanR:-108.1092 R:-97.2005 gloss:14.7688 dlossA:0.0077 dlossQ:29.6090\n",
      "Episode:114 meanR:-108.0747 R:-101.0397 gloss:8.6344 dlossA:0.0076 dlossQ:17.3269\n",
      "Episode:115 meanR:-108.0479 R:-98.3605 gloss:12.7472 dlossA:0.0074 dlossQ:25.5602\n",
      "Episode:116 meanR:-107.9602 R:-96.9107 gloss:8.0114 dlossA:0.0075 dlossQ:16.0844\n",
      "Episode:117 meanR:-107.5979 R:-98.6272 gloss:12.7517 dlossA:0.0079 dlossQ:25.5695\n",
      "Episode:118 meanR:-107.3922 R:-98.0928 gloss:12.6303 dlossA:0.0077 dlossQ:25.3262\n",
      "Episode:119 meanR:-107.2835 R:-99.8566 gloss:10.7669 dlossA:0.0082 dlossQ:21.5946\n",
      "Episode:120 meanR:-107.2207 R:-100.3553 gloss:13.0874 dlossA:0.0085 dlossQ:26.2427\n",
      "Episode:121 meanR:-106.8623 R:-99.4968 gloss:15.0671 dlossA:0.0077 dlossQ:30.2141\n",
      "Episode:122 meanR:-106.4820 R:-96.1998 gloss:11.0276 dlossA:0.0077 dlossQ:22.1189\n",
      "Episode:123 meanR:-106.3180 R:-122.9203 gloss:12.3037 dlossA:0.0086 dlossQ:24.6665\n",
      "Episode:124 meanR:-105.8965 R:-93.7729 gloss:13.8257 dlossA:0.0073 dlossQ:27.7232\n",
      "Episode:125 meanR:-105.4728 R:-92.2916 gloss:21.5200 dlossA:0.0079 dlossQ:43.1262\n",
      "Episode:126 meanR:-105.0410 R:-92.9215 gloss:14.8375 dlossA:0.0076 dlossQ:29.7506\n",
      "Episode:127 meanR:-104.6558 R:-97.0294 gloss:16.2244 dlossA:0.0073 dlossQ:32.5143\n",
      "Episode:128 meanR:-104.1902 R:-92.6799 gloss:14.0429 dlossA:0.0078 dlossQ:28.1650\n",
      "Episode:129 meanR:-103.7151 R:-90.9247 gloss:18.0333 dlossA:0.0078 dlossQ:36.1343\n",
      "Episode:130 meanR:-103.7946 R:-117.8248 gloss:15.7077 dlossA:0.0078 dlossQ:31.4847\n",
      "Episode:131 meanR:-103.6185 R:-93.9527 gloss:13.7257 dlossA:0.0085 dlossQ:27.5168\n",
      "Episode:132 meanR:-103.1643 R:-89.8496 gloss:15.7143 dlossA:0.0081 dlossQ:31.5053\n",
      "Episode:133 meanR:-103.0901 R:-95.3458 gloss:11.7346 dlossA:0.0082 dlossQ:23.5345\n",
      "Episode:134 meanR:-102.6807 R:-94.8770 gloss:15.3521 dlossA:0.0075 dlossQ:30.7752\n",
      "Episode:135 meanR:-102.2579 R:-92.0526 gloss:12.7437 dlossA:0.0081 dlossQ:25.5600\n",
      "Episode:136 meanR:-101.8503 R:-93.1724 gloss:14.3024 dlossA:0.0078 dlossQ:28.6699\n",
      "Episode:137 meanR:-101.4428 R:-94.3377 gloss:24.7902 dlossA:0.0079 dlossQ:49.6767\n",
      "Episode:138 meanR:-100.9828 R:-90.7732 gloss:18.7069 dlossA:0.0084 dlossQ:37.5053\n",
      "Episode:139 meanR:-100.5410 R:-94.1929 gloss:17.3366 dlossA:0.0085 dlossQ:34.7494\n",
      "Episode:140 meanR:-100.3996 R:-119.7364 gloss:18.3691 dlossA:0.0080 dlossQ:36.8255\n",
      "Episode:141 meanR:-100.3990 R:-136.7532 gloss:19.5665 dlossA:0.0088 dlossQ:39.2088\n",
      "Episode:142 meanR:-99.9917 R:-93.8756 gloss:14.8927 dlossA:0.0078 dlossQ:29.8540\n",
      "Episode:143 meanR:-99.8611 R:-95.6922 gloss:16.1575 dlossA:0.0076 dlossQ:32.3881\n",
      "Episode:144 meanR:-99.6889 R:-93.2674 gloss:15.2591 dlossA:0.0080 dlossQ:30.5896\n",
      "Episode:145 meanR:-99.2799 R:-91.7308 gloss:14.6596 dlossA:0.0081 dlossQ:29.3960\n",
      "Episode:146 meanR:-99.1664 R:-124.3728 gloss:24.1790 dlossA:0.0081 dlossQ:48.4462\n",
      "Episode:147 meanR:-98.7325 R:-91.0325 gloss:17.2535 dlossA:0.0084 dlossQ:34.5812\n",
      "Episode:148 meanR:-98.5508 R:-89.4929 gloss:26.2501 dlossA:0.0084 dlossQ:52.5826\n",
      "Episode:149 meanR:-98.1078 R:-89.0925 gloss:16.3917 dlossA:0.0080 dlossQ:32.8515\n",
      "Episode:150 meanR:-97.6878 R:-90.5036 gloss:12.6295 dlossA:0.0082 dlossQ:25.3237\n",
      "Episode:151 meanR:-97.2430 R:-90.2968 gloss:17.8723 dlossA:0.0082 dlossQ:35.8201\n",
      "Episode:152 meanR:-97.0715 R:-89.9773 gloss:20.8792 dlossA:0.0079 dlossQ:41.8354\n",
      "Episode:153 meanR:-96.9105 R:-89.2397 gloss:14.0601 dlossA:0.0081 dlossQ:28.1905\n",
      "Episode:154 meanR:-96.7464 R:-90.3697 gloss:17.6488 dlossA:0.0075 dlossQ:35.3704\n",
      "Episode:155 meanR:-96.6229 R:-91.0622 gloss:19.3730 dlossA:0.0084 dlossQ:38.8244\n",
      "Episode:156 meanR:-96.4953 R:-90.8335 gloss:15.8726 dlossA:0.0082 dlossQ:31.8206\n",
      "Episode:157 meanR:-96.4783 R:-101.4889 gloss:29.5892 dlossA:0.0079 dlossQ:59.2784\n",
      "Episode:158 meanR:-96.4094 R:-100.3817 gloss:19.5565 dlossA:0.0079 dlossQ:39.1859\n",
      "Episode:159 meanR:-96.3404 R:-100.1916 gloss:26.2357 dlossA:0.0089 dlossQ:52.5596\n",
      "Episode:160 meanR:-95.9764 R:-99.1708 gloss:13.2308 dlossA:0.0078 dlossQ:26.5359\n",
      "Episode:161 meanR:-95.8807 R:-97.9036 gloss:24.4899 dlossA:0.0079 dlossQ:49.0667\n",
      "Episode:162 meanR:-95.5031 R:-97.9725 gloss:20.0681 dlossA:0.0079 dlossQ:40.2218\n",
      "Episode:163 meanR:-95.1274 R:-97.8372 gloss:16.0574 dlossA:0.0084 dlossQ:32.1888\n",
      "Episode:164 meanR:-94.8310 R:-100.3147 gloss:14.1737 dlossA:0.0081 dlossQ:28.4129\n",
      "Episode:165 meanR:-94.4943 R:-98.0654 gloss:15.7183 dlossA:0.0079 dlossQ:31.5173\n",
      "Episode:166 meanR:-94.1477 R:-97.9619 gloss:17.0352 dlossA:0.0081 dlossQ:34.1429\n",
      "Episode:167 meanR:-93.8083 R:-97.9311 gloss:22.7235 dlossA:0.0081 dlossQ:45.5258\n",
      "Episode:168 meanR:-93.4885 R:-98.5339 gloss:21.4118 dlossA:0.0079 dlossQ:42.9076\n",
      "Episode:169 meanR:-93.1011 R:-98.6169 gloss:22.4819 dlossA:0.0077 dlossQ:45.0608\n",
      "Episode:170 meanR:-92.7918 R:-98.7720 gloss:19.0319 dlossA:0.0085 dlossQ:38.1424\n",
      "Episode:171 meanR:-92.3996 R:-99.2573 gloss:23.7489 dlossA:0.0077 dlossQ:47.5841\n",
      "Episode:172 meanR:-92.0867 R:-98.5339 gloss:17.0486 dlossA:0.0080 dlossQ:34.1628\n",
      "Episode:173 meanR:-92.1167 R:-99.8940 gloss:23.8616 dlossA:0.0085 dlossQ:47.8245\n",
      "Episode:174 meanR:-92.1123 R:-98.8428 gloss:21.1350 dlossA:0.0086 dlossQ:42.3545\n",
      "Episode:175 meanR:-92.1232 R:-98.8987 gloss:6.5134 dlossA:0.0083 dlossQ:13.0800\n",
      "Episode:176 meanR:-92.1401 R:-98.6812 gloss:19.1922 dlossA:0.0083 dlossQ:38.4642\n",
      "Episode:177 meanR:-92.1041 R:-99.1273 gloss:18.8009 dlossA:0.0085 dlossQ:37.6791\n",
      "Episode:178 meanR:-92.1342 R:-98.7279 gloss:14.6363 dlossA:0.0080 dlossQ:29.3510\n",
      "Episode:179 meanR:-92.1333 R:-99.3300 gloss:10.2621 dlossA:0.0081 dlossQ:20.5916\n",
      "Episode:180 meanR:-92.1528 R:-99.0931 gloss:24.7918 dlossA:0.0081 dlossQ:49.6662\n",
      "Episode:181 meanR:-92.1762 R:-99.4088 gloss:25.2937 dlossA:0.0081 dlossQ:50.6723\n",
      "Episode:182 meanR:-92.2016 R:-99.2521 gloss:17.5624 dlossA:0.0082 dlossQ:35.2040\n",
      "Episode:183 meanR:-92.2342 R:-100.1118 gloss:17.3565 dlossA:0.0083 dlossQ:34.7887\n",
      "Episode:184 meanR:-92.3122 R:-100.6292 gloss:8.7585 dlossA:0.0083 dlossQ:17.5812\n",
      "Episode:185 meanR:-92.1809 R:-99.7967 gloss:24.5556 dlossA:0.0091 dlossQ:49.1980\n",
      "Episode:186 meanR:-92.3358 R:-100.4948 gloss:18.3979 dlossA:0.0086 dlossQ:36.8701\n",
      "Episode:187 meanR:-92.1571 R:-100.6364 gloss:12.7533 dlossA:0.0082 dlossQ:25.5678\n",
      "Episode:188 meanR:-91.9684 R:-100.5037 gloss:16.5377 dlossA:0.0081 dlossQ:33.1441\n",
      "Episode:189 meanR:-91.7650 R:-99.7525 gloss:21.6066 dlossA:0.0081 dlossQ:43.2908\n",
      "Episode:190 meanR:-92.0070 R:-99.6435 gloss:23.0949 dlossA:0.0082 dlossQ:46.2650\n",
      "Episode:191 meanR:-92.2972 R:-102.3464 gloss:19.1150 dlossA:0.0085 dlossQ:38.3058\n",
      "Episode:192 meanR:-92.0933 R:-99.5204 gloss:18.3242 dlossA:0.0078 dlossQ:36.7259\n",
      "Episode:193 meanR:-92.5983 R:-99.5992 gloss:22.2664 dlossA:0.0078 dlossQ:44.6181\n",
      "Episode:194 meanR:-93.0244 R:-99.5880 gloss:13.1575 dlossA:0.0082 dlossQ:26.3765\n",
      "Episode:195 meanR:-92.8374 R:-100.2054 gloss:17.0693 dlossA:0.0082 dlossQ:34.2108\n",
      "Episode:196 meanR:-93.2599 R:-99.8813 gloss:27.4449 dlossA:0.0086 dlossQ:54.9804\n",
      "Episode:197 meanR:-93.6792 R:-99.6397 gloss:17.4510 dlossA:0.0084 dlossQ:34.9693\n",
      "Episode:198 meanR:-94.2347 R:-99.7034 gloss:13.7733 dlossA:0.0079 dlossQ:27.6088\n",
      "Episode:199 meanR:-94.7164 R:-99.9671 gloss:24.5704 dlossA:0.0089 dlossQ:49.2239\n",
      "Episode:200 meanR:-95.1897 R:-100.0432 gloss:19.1478 dlossA:0.0085 dlossQ:38.3768\n",
      "Episode:201 meanR:-95.6632 R:-99.7088 gloss:15.9118 dlossA:0.0078 dlossQ:31.8855\n"
     ]
    },
    {
     "name": "stdout",
     "output_type": "stream",
     "text": [
      "Episode:202 meanR:-96.2655 R:-99.4279 gloss:18.6648 dlossA:0.0088 dlossQ:37.4018\n",
      "Episode:203 meanR:-96.8707 R:-99.5304 gloss:20.2268 dlossA:0.0082 dlossQ:40.5392\n",
      "Episode:204 meanR:-97.4491 R:-99.5462 gloss:20.4889 dlossA:0.0078 dlossQ:41.0542\n",
      "Episode:205 meanR:-97.9884 R:-99.7663 gloss:18.1450 dlossA:0.0085 dlossQ:36.3540\n",
      "Episode:206 meanR:-97.9616 R:-99.8458 gloss:15.9163 dlossA:0.0085 dlossQ:31.9028\n",
      "Episode:207 meanR:-98.5364 R:-99.3840 gloss:17.5077 dlossA:0.0078 dlossQ:35.0842\n",
      "Episode:208 meanR:-98.5562 R:-100.8028 gloss:23.6870 dlossA:0.0082 dlossQ:47.4483\n",
      "Episode:209 meanR:-98.5528 R:-100.1190 gloss:29.6256 dlossA:0.0084 dlossQ:59.3397\n",
      "Episode:210 meanR:-98.5327 R:-99.1524 gloss:27.3174 dlossA:0.0086 dlossQ:54.7210\n",
      "Episode:211 meanR:-98.5282 R:-99.0781 gloss:26.4479 dlossA:0.0088 dlossQ:52.9725\n",
      "Episode:212 meanR:-98.5394 R:-98.9427 gloss:15.2672 dlossA:0.0078 dlossQ:30.5974\n",
      "Episode:213 meanR:-98.5590 R:-99.1555 gloss:19.5198 dlossA:0.0086 dlossQ:39.1215\n",
      "Episode:214 meanR:-98.5787 R:-103.0137 gloss:17.8523 dlossA:0.0086 dlossQ:35.7746\n",
      "Episode:215 meanR:-98.5798 R:-98.4633 gloss:34.5554 dlossA:0.0090 dlossQ:69.2030\n",
      "Episode:216 meanR:-98.6365 R:-102.5860 gloss:19.8293 dlossA:0.0080 dlossQ:39.7258\n",
      "Episode:217 meanR:-98.6835 R:-103.3225 gloss:16.8818 dlossA:0.0081 dlossQ:33.8466\n",
      "Episode:218 meanR:-98.6987 R:-99.6156 gloss:23.9907 dlossA:0.0081 dlossQ:48.0545\n",
      "Episode:219 meanR:-98.7071 R:-100.6955 gloss:21.8529 dlossA:0.0084 dlossQ:43.7896\n",
      "Episode:220 meanR:-98.6692 R:-96.5647 gloss:18.1566 dlossA:0.0082 dlossQ:36.3830\n",
      "Episode:221 meanR:-98.6484 R:-97.4220 gloss:22.7610 dlossA:0.0089 dlossQ:45.5946\n",
      "Episode:222 meanR:-98.7194 R:-103.2936 gloss:20.7253 dlossA:0.0081 dlossQ:41.5372\n",
      "Episode:223 meanR:-98.6748 R:-118.4581 gloss:24.7897 dlossA:0.0087 dlossQ:49.6582\n",
      "Episode:224 meanR:-98.7618 R:-102.4762 gloss:24.0169 dlossA:0.0085 dlossQ:48.1117\n",
      "Episode:225 meanR:-98.8420 R:-100.3111 gloss:21.9579 dlossA:0.0090 dlossQ:43.9879\n",
      "Episode:226 meanR:-99.0777 R:-116.4906 gloss:22.8854 dlossA:0.0085 dlossQ:45.8492\n",
      "Episode:227 meanR:-99.3703 R:-126.2887 gloss:21.3812 dlossA:0.0084 dlossQ:42.8359\n",
      "Episode:228 meanR:-99.7001 R:-125.6624 gloss:25.2613 dlossA:0.0084 dlossQ:50.6101\n",
      "Episode:229 meanR:-100.0450 R:-125.4138 gloss:29.8863 dlossA:0.0086 dlossQ:59.8630\n",
      "Episode:230 meanR:-99.9412 R:-107.4483 gloss:25.7594 dlossA:0.0089 dlossQ:51.6036\n",
      "Episode:231 meanR:-100.1403 R:-113.8579 gloss:29.5405 dlossA:0.0083 dlossQ:59.1705\n",
      "Episode:232 meanR:-100.5232 R:-128.1421 gloss:24.9357 dlossA:0.0087 dlossQ:49.9531\n",
      "Episode:233 meanR:-100.8216 R:-125.1885 gloss:23.2357 dlossA:0.0084 dlossQ:46.5581\n",
      "Episode:234 meanR:-100.9352 R:-106.2390 gloss:30.5161 dlossA:0.0088 dlossQ:61.1218\n",
      "Episode:235 meanR:-101.2613 R:-124.6591 gloss:43.6746 dlossA:0.0088 dlossQ:87.4518\n",
      "Episode:236 meanR:-101.5492 R:-121.9572 gloss:40.2444 dlossA:0.0089 dlossQ:80.5898\n",
      "Episode:237 meanR:-101.8681 R:-126.2356 gloss:28.2323 dlossA:0.0093 dlossQ:56.5543\n",
      "Episode:238 meanR:-102.1646 R:-120.4169 gloss:29.1031 dlossA:0.0091 dlossQ:58.2988\n",
      "Episode:239 meanR:-102.3413 R:-111.8711 gloss:21.6012 dlossA:0.0093 dlossQ:43.2826\n",
      "Episode:240 meanR:-102.2384 R:-109.4409 gloss:26.4818 dlossA:0.0092 dlossQ:53.0500\n",
      "Episode:241 meanR:-102.1215 R:-125.0658 gloss:19.5380 dlossA:0.0087 dlossQ:39.1612\n",
      "Episode:242 meanR:-102.3231 R:-114.0349 gloss:19.1174 dlossA:0.0084 dlossQ:38.3143\n",
      "Episode:243 meanR:-102.5004 R:-113.4191 gloss:24.8004 dlossA:0.0082 dlossQ:49.6774\n",
      "Episode:244 meanR:-102.6279 R:-106.0215 gloss:18.4943 dlossA:0.0092 dlossQ:37.0652\n",
      "Episode:245 meanR:-102.9535 R:-124.2875 gloss:25.1527 dlossA:0.0085 dlossQ:50.3898\n",
      "Episode:246 meanR:-102.7332 R:-102.3423 gloss:28.7925 dlossA:0.0092 dlossQ:57.6702\n",
      "Episode:247 meanR:-103.0271 R:-120.4191 gloss:24.7959 dlossA:0.0087 dlossQ:49.6692\n"
     ]
    }
   ],
   "source": [
    "# Save/load the model and save for plotting\n",
    "saver = tf.train.Saver()\n",
    "episode_rewards_list, rewards_list, gloss_list, dlossA_list, dlossQ_list = [], [], [], [], []\n",
    "\n",
    "# TF session for training\n",
    "with tf.Session(graph=graph) as sess:\n",
    "    sess.run(tf.global_variables_initializer())\n",
    "    #saver.restore(sess, 'checkpoints/model2.ckpt')    \n",
    "    #saver.restore(sess, tf.train.latest_checkpoint('checkpoints'))\n",
    "    episode_reward = deque(maxlen=100) # 100 episodes average/running average/running mean/window\n",
    "    \n",
    "    # Training episodes/epochs\n",
    "    for ep in range(11111):\n",
    "        total_reward = 0\n",
    "        num_step = 0\n",
    "        gloss_batch, dlossA_batch, dlossQ_batch = [], [], []\n",
    "        state = env.reset()\n",
    "\n",
    "        # Training steps/batches\n",
    "        while True:\n",
    "            action_preds = sess.run(model.actions_preds, feed_dict={model.states: state.reshape([1, -1]), \n",
    "                                                                    model.training: False})\n",
    "            noise = np.random.normal(loc=0, scale=0.1, size=action_size) # randomness\n",
    "            action = action_preds.reshape([-1]) + noise\n",
    "            #print(action.shape, action_logits.shape, noise.shape)\n",
    "            action = np.clip(action, -1, 1) # clipped\n",
    "            next_state, reward, done, _ = env.step(action)\n",
    "            rate = -1 # success rate: -1 to +1\n",
    "            memory.buffer.append([state, action, next_state, reward, float(done), rate])\n",
    "            num_step += 1 # memory updated\n",
    "            total_reward += reward # max reward 300\n",
    "            state = next_state\n",
    "            \n",
    "            if done is True:\n",
    "                # Best 100-episode average reward was 220.62 ± 0.69. \n",
    "                # (BipedalWalker-v2 is considered \"solved\" \n",
    "                #  when the agent obtains an average reward of at least 300 over 100 consecutive episodes.)        \n",
    "                rate = total_reward/300\n",
    "                rate = np.clip(rate, -1, 1)\n",
    "                for idx in range(num_step): # episode length\n",
    "                    if memory.buffer[-1-idx][-1] == -1:\n",
    "                        memory.buffer[-1-idx][-1] = rate\n",
    "                        \n",
    "            # Training\n",
    "            batch = memory.sample(batch_size)\n",
    "            states = np.array([each[0] for each in batch])\n",
    "            actions = np.array([each[1] for each in batch])\n",
    "            next_states = np.array([each[2] for each in batch])\n",
    "            rewards = np.array([each[3] for each in batch])\n",
    "            dones = np.array([each[4] for each in batch])\n",
    "            rates = np.array([each[5] for each in batch])\n",
    "            nextQs_logits = sess.run(model.Qs_logits, feed_dict = {model.states: next_states, \n",
    "                                                                   model.training: False})\n",
    "            #nextQs = np.max(nextQs_logits, axis=1) * (1-dones) # discrete DQN\n",
    "            nextQs = nextQs_logits.reshape([-1]) * (1-dones) # continuous DPG\n",
    "            targetQs = rewards + (gamma * nextQs)\n",
    "            dlossA, _ = sess.run([model.d_lossA, model.d_optA],\n",
    "                                 feed_dict = {model.states: states, \n",
    "                                              model.actions: actions,\n",
    "                                              model.targetQs: targetQs, \n",
    "                                              model.rewards: rewards, \n",
    "                                              model.rates: rates, \n",
    "                                              model.training: False})\n",
    "            dlossQ, _ = sess.run([model.d_lossQ, model.d_optQ],\n",
    "                                  feed_dict = {model.states: states, \n",
    "                                               model.actions: actions,\n",
    "                                               model.targetQs: targetQs, \n",
    "                                               model.rewards: rewards, \n",
    "                                               model.rates: rates, \n",
    "                                               model.training: False})\n",
    "            gloss, _ = sess.run([model.g_loss, model.g_opt],\n",
    "                                  feed_dict = {model.states: states, \n",
    "                                               model.actions: actions,\n",
    "                                               model.targetQs: targetQs, \n",
    "                                               model.rewards: rewards, \n",
    "                                               model.rates: rates, \n",
    "                                               model.training: False})\n",
    "            gloss_batch.append(gloss)\n",
    "            dlossA_batch.append(dlossA)\n",
    "            dlossQ_batch.append(dlossQ)\n",
    "            if done is True:\n",
    "                break\n",
    "                \n",
    "        episode_reward.append(total_reward)\n",
    "        print('Episode:{}'.format(ep),\n",
    "              'meanR:{:.4f}'.format(np.mean(episode_reward)),\n",
    "              'R:{:.4f}'.format(total_reward),\n",
    "              'gloss:{:.4f}'.format(np.mean(gloss_batch)),\n",
    "              'dlossA:{:.4f}'.format(np.mean(dlossA_batch)),\n",
    "              'dlossQ:{:.4f}'.format(np.mean(dlossQ_batch)))\n",
    "        # Ploting out\n",
    "        episode_rewards_list.append([ep, np.mean(episode_reward)])\n",
    "        rewards_list.append([ep, total_reward])\n",
    "        gloss_list.append([ep, np.mean(gloss_batch)])\n",
    "        #dloss_list.append([ep, np.mean(dloss_batch)])\n",
    "        # Break episode/epoch loop\n",
    "        # Did not solve the environment. \n",
    "        # Best 100-episode average reward was 220.62 ± 0.69. \n",
    "        # (BipedalWalker-v2 is considered \"solved\" \n",
    "        #  when the agent obtains an average reward of at least 300 over 100 consecutive episodes.)        \n",
    "        if np.mean(episode_reward) >= 300:\n",
    "            break\n",
    "            \n",
    "    # At the end of all training episodes/epochs\n",
    "    saver.save(sess, 'checkpoints/model.ckpt')"
   ]
  },
  {
   "cell_type": "markdown",
   "metadata": {},
   "source": [
    "# Visualizing training\n",
    "\n",
    "Below I'll plot the total rewards for each episode. I'm plotting the rolling average too, in blue."
   ]
  },
  {
   "cell_type": "code",
   "execution_count": null,
   "metadata": {},
   "outputs": [],
   "source": [
    "import matplotlib.pyplot as plt\n",
    "%matplotlib inline\n",
    "\n",
    "def running_mean(x, N):\n",
    "    cumsum = np.cumsum(np.insert(x, 0, 0)) \n",
    "    return (cumsum[N:] - cumsum[:-N]) / N "
   ]
  },
  {
   "cell_type": "code",
   "execution_count": null,
   "metadata": {},
   "outputs": [],
   "source": [
    "eps, arr = np.array(episode_rewards_list).T\n",
    "smoothed_arr = running_mean(arr, 10)\n",
    "plt.plot(eps[-len(smoothed_arr):], smoothed_arr)\n",
    "plt.plot(eps, arr, color='grey', alpha=0.3)\n",
    "plt.xlabel('Episode')\n",
    "plt.ylabel('Total rewards')"
   ]
  },
  {
   "cell_type": "code",
   "execution_count": null,
   "metadata": {},
   "outputs": [],
   "source": [
    "eps, arr = np.array(rewards_list).T\n",
    "smoothed_arr = running_mean(arr, 10)\n",
    "plt.plot(eps[-len(smoothed_arr):], smoothed_arr)\n",
    "plt.plot(eps, arr, color='grey', alpha=0.3)\n",
    "plt.xlabel('Episode')\n",
    "plt.ylabel('Total rewards')"
   ]
  },
  {
   "cell_type": "code",
   "execution_count": null,
   "metadata": {},
   "outputs": [],
   "source": [
    "eps, arr = np.array(gloss_list).T\n",
    "smoothed_arr = running_mean(arr, 10)\n",
    "plt.plot(eps[-len(smoothed_arr):], smoothed_arr)\n",
    "plt.plot(eps, arr, color='grey', alpha=0.3)\n",
    "plt.xlabel('Episode')\n",
    "plt.ylabel('G losses')"
   ]
  },
  {
   "cell_type": "code",
   "execution_count": null,
   "metadata": {},
   "outputs": [],
   "source": [
    "eps, arr = np.array(dloss_list).T\n",
    "smoothed_arr = running_mean(arr, 10)\n",
    "plt.plot(eps[-len(smoothed_arr):], smoothed_arr)\n",
    "plt.plot(eps, arr, color='grey', alpha=0.3)\n",
    "plt.xlabel('Episode')\n",
    "plt.ylabel('D losses')"
   ]
  },
  {
   "cell_type": "markdown",
   "metadata": {},
   "source": [
    "## Testing\n",
    "\n",
    "Let's checkout how our trained agent plays the game."
   ]
  },
  {
   "cell_type": "code",
   "execution_count": 85,
   "metadata": {},
   "outputs": [
    {
     "name": "stdout",
     "output_type": "stream",
     "text": [
      "\u001b[33mWARN: gym.spaces.Box autodetected dtype as <class 'numpy.float32'>. Please provide explicit dtype.\u001b[0m\n",
      "\u001b[33mWARN: gym.spaces.Box autodetected dtype as <class 'numpy.float32'>. Please provide explicit dtype.\u001b[0m\n",
      "INFO:tensorflow:Restoring parameters from checkpoints/model.ckpt\n",
      "total_reward: -103.43347330792993\n"
     ]
    }
   ],
   "source": [
    "import gym\n",
    "env = gym.make('BipedalWalker-v2')\n",
    "\n",
    "with tf.Session() as sess:\n",
    "    sess.run(tf.global_variables_initializer())\n",
    "    #saver.restore(sess, 'checkpoints/model.ckpt')    \n",
    "    saver.restore(sess, tf.train.latest_checkpoint('checkpoints'))\n",
    "    \n",
    "    # Episodes/epochs\n",
    "    for _ in range(1):\n",
    "        state = env.reset()\n",
    "        total_reward = 0\n",
    "\n",
    "        # Steps/batches\n",
    "        while True:\n",
    "            env.render()\n",
    "            action_preds = sess.run(model.actions_preds, feed_dict={model.states: state.reshape([1, -1])})\n",
    "            action = np.reshape(action_preds, [-1]) # For continuous action space\n",
    "            state, reward, done, _ = env.step(action)\n",
    "            total_reward += reward\n",
    "            if done:\n",
    "                print('total_reward: {}'.format(total_reward))\n",
    "                break\n",
    "# End the env                \n",
    "env.close()"
   ]
  },
  {
   "cell_type": "markdown",
   "metadata": {},
   "source": [
    "## Extending this\n",
    "\n",
    "So, Cart-Pole is a pretty simple game. However, the same model can be used to train an agent to play something much more complicated like Pong or Space Invaders. Instead of a state like we're using here though, you'd want to use convolutional layers to get the state from the screen images.\n",
    "\n",
    "![Deep Q-Learning Atari](assets/atari-network.png)\n",
    "\n",
    "I'll leave it as a challenge for you to use deep Q-learning to train an agent to play Atari games. Here's the original paper which will get you started: http://www.davidqiu.com:8888/research/nature14236.pdf."
   ]
  },
  {
   "cell_type": "code",
   "execution_count": null,
   "metadata": {},
   "outputs": [],
   "source": []
  }
 ],
 "metadata": {
  "kernelspec": {
   "display_name": "Python 3",
   "language": "python",
   "name": "python3"
  },
  "language_info": {
   "codemirror_mode": {
    "name": "ipython",
    "version": 3
   },
   "file_extension": ".py",
   "mimetype": "text/x-python",
   "name": "python",
   "nbconvert_exporter": "python",
   "pygments_lexer": "ipython3",
   "version": "3.6.6"
  }
 },
 "nbformat": 4,
 "nbformat_minor": 2
}
