{
 "cells": [
  {
   "cell_type": "code",
   "execution_count": 1,
   "metadata": {},
   "outputs": [
    {
     "name": "stdout",
     "output_type": "stream",
     "text": [
      "TensorFlow Version: 1.7.1\n",
      "Default GPU Device: \n"
     ]
    }
   ],
   "source": [
    "import tensorflow as tf\n",
    "print('TensorFlow Version: {}'.format(tf.__version__))\n",
    "print('Default GPU Device: {}'.format(tf.test.gpu_device_name()))"
   ]
  },
  {
   "cell_type": "markdown",
   "metadata": {},
   "source": [
    "##### >**Note:** Make sure you have OpenAI Gym cloned. Then run this command `pip install -e gym/[all]`."
   ]
  },
  {
   "cell_type": "code",
   "execution_count": 2,
   "metadata": {},
   "outputs": [],
   "source": [
    "import numpy as np\n",
    "import gym\n",
    "env = gym.make('CartPole-v0')\n",
    "env = gym.make('CartPole-v1')"
   ]
  },
  {
   "cell_type": "code",
   "execution_count": 3,
   "metadata": {},
   "outputs": [],
   "source": [
    "def model_input(state_size):\n",
    "    #states = tf.placeholder(tf.float32, [None, *state_size], name='states')\n",
    "    states = tf.placeholder(tf.float32, [None, state_size], name='states')\n",
    "    actions = tf.placeholder(tf.int32, [None], name='actions')\n",
    "    next_states = tf.placeholder(tf.float32, [None, state_size], name='next_states')\n",
    "    rewards = tf.placeholder(tf.float32, [None], name='rewards')\n",
    "    dones = tf.placeholder(tf.float32, [None], name='dones')\n",
    "    rates = tf.placeholder(tf.float32, [None], name='rates') # success rate\n",
    "    return states, actions, next_states, rewards, dones, rates"
   ]
  },
  {
   "cell_type": "code",
   "execution_count": 4,
   "metadata": {},
   "outputs": [],
   "source": [
    "def Act(states, action_size, hidden_size, reuse=False, alpha=0.1, training=False):\n",
    "    with tf.variable_scope('Act', reuse=reuse):\n",
    "        # First fully connected layer\n",
    "        h1 = tf.layers.dense(inputs=states, units=hidden_size)\n",
    "        bn1 = tf.layers.batch_normalization(h1, training=training)        \n",
    "        nl1 = tf.maximum(alpha * bn1, bn1)\n",
    "        \n",
    "        # Second fully connected layer\n",
    "        h2 = tf.layers.dense(inputs=nl1, units=hidden_size)\n",
    "        bn2 = tf.layers.batch_normalization(h2, training=training)        \n",
    "        nl2 = tf.maximum(alpha * bn2, bn2)\n",
    "        \n",
    "        # Output layer\n",
    "        logits = tf.layers.dense(inputs=nl2, units=action_size)        \n",
    "        return logits"
   ]
  },
  {
   "cell_type": "code",
   "execution_count": 5,
   "metadata": {},
   "outputs": [],
   "source": [
    "def Env(states, actions, state_size, action_size, hidden_size, reuse=False, alpha=0.1, training=False):\n",
    "    with tf.variable_scope('Env', reuse=reuse):\n",
    "        # First fully connected layer\n",
    "        h1 = tf.layers.dense(inputs=states, units=action_size)\n",
    "        bn1 = tf.layers.batch_normalization(h1, training=training)        \n",
    "        nl1 = tf.maximum(alpha * bn1, bn1)\n",
    "        \n",
    "        # Second fully connected layer\n",
    "        nl1_fused = tf.concat(axis=1, values=[nl1, actions])\n",
    "        h2 = tf.layers.dense(inputs=nl1_fused, units=hidden_size)\n",
    "        bn2 = tf.layers.batch_normalization(h2, training=training)        \n",
    "        nl2 = tf.maximum(alpha * bn2, bn2)\n",
    "                \n",
    "        # Output layer\n",
    "        states_logits = tf.layers.dense(inputs=nl2, units=state_size, trainable=False)\n",
    "        Qlogits = tf.layers.dense(inputs=nl2, units=1, trainable=False)\n",
    "        return states_logits, Qlogits"
   ]
  },
  {
   "cell_type": "code",
   "execution_count": 6,
   "metadata": {},
   "outputs": [],
   "source": [
    "def model_loss(state_size, action_size, hidden_size, gamma,\n",
    "               states, actions, next_states, rewards, dones, rates):\n",
    "    ################################################ a = act(s)\n",
    "    actions_logits = Act(states=states, hidden_size=hidden_size, action_size=action_size)\n",
    "    actions_labels = tf.one_hot(indices=actions, depth=action_size, dtype=actions_logits.dtype)\n",
    "    aloss = tf.reduce_mean(tf.nn.softmax_cross_entropy_with_logits_v2(logits=actions_logits, \n",
    "                                                                      labels=actions_labels))\n",
    "    ################################################ s', r = env(s, a)\n",
    "    ################################################ s', Q = env(s, a)\n",
    "    ################################################ ~s', ~Q = env(s, ~a)\n",
    "    e_next_states_logits, eQs = Env(actions=actions_labels, states=states, hidden_size=hidden_size, \n",
    "                                    action_size=action_size, state_size=state_size)\n",
    "    a_next_states_logits, aQs = Env(actions=actions_logits, states=states, hidden_size=hidden_size, \n",
    "                                    action_size=action_size, state_size=state_size, reuse=True)\n",
    "    next_states_labels = tf.nn.sigmoid(next_states)\n",
    "    eloss = tf.reduce_mean(tf.nn.sigmoid_cross_entropy_with_logits(logits=e_next_states_logits, \n",
    "                                                                   labels=next_states_labels))\n",
    "    aloss2 = tf.reduce_mean(tf.nn.sigmoid_cross_entropy_with_logits(logits=a_next_states_logits, \n",
    "                                                                    labels=next_states_labels))\n",
    "    eQs_logits = tf.reshape(eQs, shape=[-1])\n",
    "    aQs_logits = tf.reshape(aQs, shape=[-1])\n",
    "    eloss += tf.reduce_mean(tf.nn.sigmoid_cross_entropy_with_logits(logits=eQs_logits, # GAN\n",
    "                                                                    labels=rates)) # 0-1 real\n",
    "    #################################################### s'', Q' = ~env(s', ~a')\n",
    "    next_actions_logits = Act(states=next_states, hidden_size=hidden_size, action_size=action_size, reuse=True)\n",
    "    _, aQs2 = Env(actions=next_actions_logits, states=next_states, hidden_size=hidden_size, \n",
    "                  action_size=action_size, state_size=state_size, reuse=True)\n",
    "    aQs2_logits = tf.reshape(aQs2, shape=[-1]) * (1-dones)\n",
    "#     eloss += tf.reduce_mean(tf.nn.sigmoid_cross_entropy_with_logits(logits=(aQs_logits+aQs2_logits)/2, # GAN\n",
    "#                                                                     labels=tf.zeros_like(rates))) # min\n",
    "#     aloss2 += tf.reduce_mean(tf.nn.sigmoid_cross_entropy_with_logits(logits=(aQs_logits+aQs2_logits)/2, # GAN\n",
    "#                                                                      labels=tf.ones_like(rates))) # max\n",
    "    ###################################################### Q(s,a)= r + Q'(s',a') # max\n",
    "    ###################################################### ~Q(s,~a)= r # min\n",
    "    ###################################################### ~Q(s,~a)= r + Q'(s',a') # max\n",
    "    targetQs = rewards + (gamma * aQs2_logits)\n",
    "    eloss += tf.reduce_mean(tf.square(eQs_logits - targetQs)) # real\n",
    "    eloss += tf.reduce_mean((aQs_logits+aQs2_logits)/2) # min\n",
    "    aloss2 += -tf.reduce_mean((aQs_logits+aQs2_logits)/2) # max\n",
    "    return actions_logits, aloss, eloss, aloss2"
   ]
  },
  {
   "cell_type": "code",
   "execution_count": 7,
   "metadata": {},
   "outputs": [],
   "source": [
    "def model_opt(a_loss, e_loss, a_loss2, a_learning_rate, e_learning_rate):\n",
    "    # Get weights and bias to update\n",
    "    t_vars = tf.trainable_variables()\n",
    "    a_vars = [var for var in t_vars if var.name.startswith('Act')]\n",
    "    e_vars = [var for var in t_vars if var.name.startswith('Env')]\n",
    "\n",
    "    # Optimize\n",
    "    with tf.control_dependencies(tf.get_collection(tf.GraphKeys.UPDATE_OPS)): # Required for batchnorm (BN)\n",
    "        a_opt = tf.train.AdamOptimizer(a_learning_rate).minimize(a_loss, var_list=a_vars)\n",
    "        e_opt = tf.train.AdamOptimizer(e_learning_rate).minimize(e_loss, var_list=e_vars)\n",
    "        a_opt2 = tf.train.AdamOptimizer(a_learning_rate).minimize(a_loss2, var_list=a_vars)\n",
    "    return a_opt, e_opt, a_opt2"
   ]
  },
  {
   "cell_type": "code",
   "execution_count": 8,
   "metadata": {},
   "outputs": [],
   "source": [
    "class Model:\n",
    "    def __init__(self, state_size, action_size, hidden_size, a_learning_rate, e_learning_rate, gamma):\n",
    "\n",
    "        # Data of the Model: make the data available inside the framework\n",
    "        self.states, self.actions, self.next_states, self.rewards, self.dones, self.rates = model_input(\n",
    "            state_size=state_size)\n",
    "\n",
    "        # Create the Model: calculating the loss and forwad pass\n",
    "        self.actions_logits, self.a_loss, self.e_loss, self.a_loss2 = model_loss(\n",
    "            state_size=state_size, action_size=action_size, hidden_size=hidden_size, gamma=gamma, # model init\n",
    "            states=self.states, actions=self.actions, next_states=self.next_states, \n",
    "            rewards=self.rewards, dones=self.dones, rates=self.rates) # model input\n",
    "        \n",
    "        # Update the model: backward pass and backprop\n",
    "        self.a_opt, self.e_opt, self.a_opt2 = model_opt(a_loss=self.a_loss, \n",
    "                                                        e_loss=self.e_loss,\n",
    "                                                        a_loss2=self.a_loss2, \n",
    "                                                        a_learning_rate=a_learning_rate,\n",
    "                                                        e_learning_rate=e_learning_rate)"
   ]
  },
  {
   "cell_type": "code",
   "execution_count": 9,
   "metadata": {},
   "outputs": [],
   "source": [
    "from collections import deque\n",
    "class Memory():\n",
    "    def __init__(self, max_size = 1000):\n",
    "        self.buffer = deque(maxlen=max_size) # data batch\n",
    "#     def sample(self, batch_size):\n",
    "#         idx = np.random.choice(np.arange(len(self.buffer)), size=batch_size, replace=False)\n",
    "#         return [self.buffer[ii] for ii in idx]"
   ]
  },
  {
   "cell_type": "markdown",
   "metadata": {},
   "source": [
    "## Hyperparameters\n",
    "\n",
    "One of the more difficult aspects of reinforcememt learning are the large number of hyperparameters. Not only are we tuning the network, but we're tuning the simulation."
   ]
  },
  {
   "cell_type": "code",
   "execution_count": 10,
   "metadata": {},
   "outputs": [
    {
     "data": {
      "text/plain": [
       "(Box(4,), Discrete(2))"
      ]
     },
     "execution_count": 10,
     "metadata": {},
     "output_type": "execute_result"
    }
   ],
   "source": [
    "env.observation_space, env.action_space"
   ]
  },
  {
   "cell_type": "code",
   "execution_count": 11,
   "metadata": {},
   "outputs": [],
   "source": [
    "# Exploration parameters\n",
    "explore_start = 1.0            # exploration probability at start\n",
    "explore_stop = 0.01           # minimum exploration probability \n",
    "decay_rate = 0.0001            # exponential decay rate for exploration prob\n",
    "\n",
    "# Network parameters\n",
    "state_size = 4\n",
    "action_size = 2\n",
    "hidden_size = 4*2             # number of units in each Q-network hidden layer\n",
    "a_learning_rate = 1e-4         # Q-network learning rate\n",
    "e_learning_rate = 1e-4         # Q-network learning rate\n",
    "\n",
    "# Memory parameters\n",
    "memory_size = int(1e5)            # memory capacity\n",
    "batch_size = int(1e3)             # experience mini-batch size\n",
    "gamma=0.99"
   ]
  },
  {
   "cell_type": "code",
   "execution_count": 12,
   "metadata": {},
   "outputs": [],
   "source": [
    "# Reset/init the graph/session\n",
    "graph = tf.reset_default_graph()\n",
    "\n",
    "# Init the model\n",
    "model = Model(action_size=action_size, state_size=state_size, hidden_size=hidden_size, gamma=gamma,\n",
    "              a_learning_rate=a_learning_rate, e_learning_rate=e_learning_rate)\n",
    "\n",
    "# Init the memory\n",
    "memory = Memory(max_size=memory_size)"
   ]
  },
  {
   "cell_type": "code",
   "execution_count": 13,
   "metadata": {},
   "outputs": [],
   "source": [
    "state = env.reset()\n",
    "total_reward = 0\n",
    "num_step = 0\n",
    "for _ in range(memory_size):\n",
    "    action = env.action_space.sample()\n",
    "    next_state, reward, done, _ = env.step(action)\n",
    "    rate = -1\n",
    "    memory.buffer.append([state, action, next_state, reward, float(done), rate])\n",
    "    num_step += 1 # memory incremented\n",
    "    total_reward += reward\n",
    "    state = next_state\n",
    "    if done is True:\n",
    "        rate = total_reward/500\n",
    "        for idx in range(num_step): # episode length\n",
    "            if memory.buffer[-1-idx][-1] == -1:\n",
    "                memory.buffer[-1-idx][-1] = rate\n",
    "        state = env.reset()\n",
    "        total_reward = 0 # reset\n",
    "        num_step = 0 # reset"
   ]
  },
  {
   "cell_type": "markdown",
   "metadata": {},
   "source": [
    "## Training the model\n",
    "\n",
    "Below we'll train our agent. If you want to watch it train, uncomment the `env.render()` line. This is slow because it's rendering the frames slower than the network can train. But, it's cool to watch the agent get better at the game."
   ]
  },
  {
   "cell_type": "code",
   "execution_count": null,
   "metadata": {},
   "outputs": [
    {
     "name": "stdout",
     "output_type": "stream",
     "text": [
      "Episode:0 meanR:21.0000 R:21.0000 rate:0.0420 aloss:0.7003 eloss:2.3959 aloss2:0.6393 exploreP:0.9979\n",
      "Episode:1 meanR:18.0000 R:15.0000 rate:0.0300 aloss:0.6861 eloss:2.3674 aloss2:0.6511 exploreP:0.9964\n",
      "Episode:2 meanR:16.3333 R:13.0000 rate:0.0260 aloss:0.7003 eloss:2.3578 aloss2:0.6562 exploreP:0.9952\n",
      "Episode:3 meanR:15.2500 R:12.0000 rate:0.0240 aloss:0.7087 eloss:2.3579 aloss2:0.6587 exploreP:0.9940\n",
      "Episode:4 meanR:19.0000 R:34.0000 rate:0.0680 aloss:0.7076 eloss:2.3625 aloss2:0.6529 exploreP:0.9906\n",
      "Episode:5 meanR:19.6667 R:23.0000 rate:0.0460 aloss:0.7019 eloss:2.3480 aloss2:0.6596 exploreP:0.9884\n",
      "Episode:6 meanR:22.0000 R:36.0000 rate:0.0720 aloss:0.6892 eloss:2.3360 aloss2:0.6601 exploreP:0.9849\n",
      "Episode:7 meanR:21.0000 R:14.0000 rate:0.0280 aloss:0.6995 eloss:2.3322 aloss2:0.6632 exploreP:0.9835\n",
      "Episode:8 meanR:19.7778 R:10.0000 rate:0.0200 aloss:0.6933 eloss:2.3344 aloss2:0.6604 exploreP:0.9825\n",
      "Episode:9 meanR:20.5000 R:27.0000 rate:0.0540 aloss:0.7047 eloss:2.3271 aloss2:0.6672 exploreP:0.9799\n",
      "Episode:10 meanR:20.8182 R:24.0000 rate:0.0480 aloss:0.6866 eloss:2.3276 aloss2:0.6644 exploreP:0.9776\n",
      "Episode:11 meanR:21.0833 R:24.0000 rate:0.0480 aloss:0.6894 eloss:2.3200 aloss2:0.6720 exploreP:0.9753\n",
      "Episode:12 meanR:21.0769 R:21.0000 rate:0.0420 aloss:0.6928 eloss:2.2956 aloss2:0.6831 exploreP:0.9732\n",
      "Episode:13 meanR:21.9286 R:33.0000 rate:0.0660 aloss:0.6930 eloss:2.2911 aloss2:0.6853 exploreP:0.9701\n",
      "Episode:14 meanR:21.3333 R:13.0000 rate:0.0260 aloss:0.6892 eloss:2.2969 aloss2:0.6854 exploreP:0.9688\n",
      "Episode:15 meanR:21.1250 R:18.0000 rate:0.0360 aloss:0.6938 eloss:2.2883 aloss2:0.6889 exploreP:0.9671\n",
      "Episode:16 meanR:21.2353 R:23.0000 rate:0.0460 aloss:0.6957 eloss:2.2930 aloss2:0.6909 exploreP:0.9649\n",
      "Episode:17 meanR:23.7778 R:67.0000 rate:0.1340 aloss:0.7033 eloss:2.2949 aloss2:0.6961 exploreP:0.9585\n",
      "Episode:18 meanR:25.6316 R:59.0000 rate:0.1180 aloss:0.6966 eloss:2.2641 aloss2:0.7175 exploreP:0.9529\n",
      "Episode:19 meanR:25.3000 R:19.0000 rate:0.0380 aloss:0.6997 eloss:2.2553 aloss2:0.7219 exploreP:0.9512\n",
      "Episode:20 meanR:26.1905 R:44.0000 rate:0.0880 aloss:0.6923 eloss:2.2606 aloss2:0.7268 exploreP:0.9470\n",
      "Episode:21 meanR:25.7273 R:16.0000 rate:0.0320 aloss:0.6908 eloss:2.2619 aloss2:0.7355 exploreP:0.9455\n",
      "Episode:22 meanR:25.7391 R:26.0000 rate:0.0520 aloss:0.6928 eloss:2.2727 aloss2:0.7398 exploreP:0.9431\n",
      "Episode:23 meanR:25.2083 R:13.0000 rate:0.0260 aloss:0.6815 eloss:2.2145 aloss2:0.7561 exploreP:0.9419\n",
      "Episode:24 meanR:24.7600 R:14.0000 rate:0.0280 aloss:0.6885 eloss:2.2380 aloss2:0.7541 exploreP:0.9406\n",
      "Episode:25 meanR:24.6154 R:21.0000 rate:0.0420 aloss:0.6957 eloss:2.2672 aloss2:0.7413 exploreP:0.9386\n",
      "Episode:26 meanR:24.5185 R:22.0000 rate:0.0440 aloss:0.6796 eloss:2.2438 aloss2:0.7522 exploreP:0.9366\n",
      "Episode:27 meanR:24.6786 R:29.0000 rate:0.0580 aloss:0.6859 eloss:2.2479 aloss2:0.7606 exploreP:0.9339\n",
      "Episode:28 meanR:24.2414 R:12.0000 rate:0.0240 aloss:0.6898 eloss:2.2641 aloss2:0.7622 exploreP:0.9328\n",
      "Episode:29 meanR:24.0000 R:17.0000 rate:0.0340 aloss:0.6889 eloss:2.2420 aloss2:0.7724 exploreP:0.9312\n",
      "Episode:30 meanR:23.6129 R:12.0000 rate:0.0240 aloss:0.6812 eloss:2.2342 aloss2:0.7738 exploreP:0.9301\n",
      "Episode:31 meanR:24.0938 R:39.0000 rate:0.0780 aloss:0.6892 eloss:2.2582 aloss2:0.7735 exploreP:0.9265\n",
      "Episode:32 meanR:24.3939 R:34.0000 rate:0.0680 aloss:0.6973 eloss:2.2555 aloss2:0.7859 exploreP:0.9234\n",
      "Episode:33 meanR:24.2353 R:19.0000 rate:0.0380 aloss:0.6873 eloss:2.2243 aloss2:0.8015 exploreP:0.9217\n",
      "Episode:34 meanR:24.0286 R:17.0000 rate:0.0340 aloss:0.6880 eloss:2.2304 aloss2:0.8040 exploreP:0.9201\n",
      "Episode:35 meanR:23.6389 R:10.0000 rate:0.0200 aloss:0.6891 eloss:2.2721 aloss2:0.7989 exploreP:0.9192\n",
      "Episode:36 meanR:23.5135 R:19.0000 rate:0.0380 aloss:0.6923 eloss:2.2522 aloss2:0.8073 exploreP:0.9175\n",
      "Episode:37 meanR:23.5526 R:25.0000 rate:0.0500 aloss:0.6887 eloss:2.2169 aloss2:0.8299 exploreP:0.9152\n",
      "Episode:38 meanR:23.2051 R:10.0000 rate:0.0200 aloss:0.6859 eloss:2.2378 aloss2:0.8108 exploreP:0.9143\n",
      "Episode:39 meanR:23.2500 R:25.0000 rate:0.0500 aloss:0.6843 eloss:2.2124 aloss2:0.8343 exploreP:0.9121\n",
      "Episode:40 meanR:23.1707 R:20.0000 rate:0.0400 aloss:0.6878 eloss:2.2349 aloss2:0.8242 exploreP:0.9103\n",
      "Episode:41 meanR:22.8571 R:10.0000 rate:0.0200 aloss:0.6894 eloss:2.2075 aloss2:0.8442 exploreP:0.9094\n",
      "Episode:42 meanR:22.7907 R:20.0000 rate:0.0400 aloss:0.6946 eloss:2.2234 aloss2:0.8450 exploreP:0.9076\n",
      "Episode:43 meanR:23.1364 R:38.0000 rate:0.0760 aloss:0.6893 eloss:2.2013 aloss2:0.8561 exploreP:0.9042\n",
      "Episode:44 meanR:23.1111 R:22.0000 rate:0.0440 aloss:0.6896 eloss:2.1838 aloss2:0.8693 exploreP:0.9022\n",
      "Episode:45 meanR:23.1739 R:26.0000 rate:0.0520 aloss:0.6900 eloss:2.1914 aloss2:0.8740 exploreP:0.8999\n",
      "Episode:46 meanR:23.9574 R:60.0000 rate:0.1200 aloss:0.6937 eloss:2.2008 aloss2:0.8840 exploreP:0.8946\n",
      "Episode:47 meanR:23.6458 R:9.0000 rate:0.0180 aloss:0.6822 eloss:2.1621 aloss2:0.9060 exploreP:0.8938\n",
      "Episode:48 meanR:23.7551 R:29.0000 rate:0.0580 aloss:0.6936 eloss:2.1530 aloss2:0.9109 exploreP:0.8912\n",
      "Episode:49 meanR:23.7000 R:21.0000 rate:0.0420 aloss:0.6845 eloss:2.1655 aloss2:0.9151 exploreP:0.8894\n",
      "Episode:50 meanR:24.0196 R:40.0000 rate:0.0800 aloss:0.6805 eloss:2.1319 aloss2:0.9339 exploreP:0.8859\n",
      "Episode:51 meanR:23.7692 R:11.0000 rate:0.0220 aloss:0.6862 eloss:2.1422 aloss2:0.9385 exploreP:0.8849\n",
      "Episode:52 meanR:23.6604 R:18.0000 rate:0.0360 aloss:0.6942 eloss:2.1192 aloss2:0.9520 exploreP:0.8833\n",
      "Episode:53 meanR:23.7963 R:31.0000 rate:0.0620 aloss:0.6860 eloss:2.1076 aloss2:0.9660 exploreP:0.8806\n",
      "Episode:54 meanR:24.9455 R:87.0000 rate:0.1740 aloss:0.6851 eloss:2.0735 aloss2:0.9863 exploreP:0.8731\n",
      "Episode:55 meanR:24.9821 R:27.0000 rate:0.0540 aloss:0.6976 eloss:2.0511 aloss2:1.0048 exploreP:0.8708\n",
      "Episode:56 meanR:25.3860 R:48.0000 rate:0.0960 aloss:0.6885 eloss:2.0251 aloss2:1.0241 exploreP:0.8666\n",
      "Episode:57 meanR:26.2414 R:75.0000 rate:0.1500 aloss:0.6855 eloss:2.0037 aloss2:1.0380 exploreP:0.8602\n",
      "Episode:58 meanR:26.2373 R:26.0000 rate:0.0520 aloss:0.6824 eloss:1.9923 aloss2:1.0514 exploreP:0.8580\n",
      "Episode:59 meanR:26.9833 R:71.0000 rate:0.1420 aloss:0.6855 eloss:1.9620 aloss2:1.0688 exploreP:0.8520\n",
      "Episode:60 meanR:26.8525 R:19.0000 rate:0.0380 aloss:0.6864 eloss:1.9695 aloss2:1.0744 exploreP:0.8504\n",
      "Episode:61 meanR:26.9355 R:32.0000 rate:0.0640 aloss:0.6892 eloss:1.9417 aloss2:1.0894 exploreP:0.8477\n",
      "Episode:62 meanR:27.5714 R:67.0000 rate:0.1340 aloss:0.6865 eloss:1.9225 aloss2:1.0934 exploreP:0.8421\n",
      "Episode:63 meanR:27.5156 R:24.0000 rate:0.0480 aloss:0.7216 eloss:1.9121 aloss2:1.0920 exploreP:0.8401\n",
      "Episode:64 meanR:27.8615 R:50.0000 rate:0.1000 aloss:0.6826 eloss:1.8749 aloss2:1.1198 exploreP:0.8360\n",
      "Episode:65 meanR:27.8333 R:26.0000 rate:0.0520 aloss:0.6892 eloss:1.8787 aloss2:1.1239 exploreP:0.8339\n",
      "Episode:66 meanR:28.0597 R:43.0000 rate:0.0860 aloss:0.6885 eloss:1.8620 aloss2:1.1341 exploreP:0.8303\n",
      "Episode:67 meanR:27.8971 R:17.0000 rate:0.0340 aloss:0.6889 eloss:1.8389 aloss2:1.1476 exploreP:0.8289\n",
      "Episode:68 meanR:28.1159 R:43.0000 rate:0.0860 aloss:0.6857 eloss:1.8374 aloss2:1.1480 exploreP:0.8254\n",
      "Episode:69 meanR:27.8714 R:11.0000 rate:0.0220 aloss:0.6839 eloss:1.8387 aloss2:1.1434 exploreP:0.8245\n",
      "Episode:70 meanR:27.8169 R:24.0000 rate:0.0480 aloss:0.6922 eloss:1.8467 aloss2:1.1465 exploreP:0.8226\n",
      "Episode:71 meanR:27.6111 R:13.0000 rate:0.0260 aloss:0.6845 eloss:1.8173 aloss2:1.1581 exploreP:0.8215\n",
      "Episode:72 meanR:27.4521 R:16.0000 rate:0.0320 aloss:0.6894 eloss:1.8108 aloss2:1.1558 exploreP:0.8202\n",
      "Episode:73 meanR:27.2568 R:13.0000 rate:0.0260 aloss:0.6920 eloss:1.8169 aloss2:1.1613 exploreP:0.8192\n",
      "Episode:74 meanR:27.1467 R:19.0000 rate:0.0380 aloss:0.6905 eloss:1.8014 aloss2:1.1687 exploreP:0.8176\n",
      "Episode:75 meanR:26.9342 R:11.0000 rate:0.0220 aloss:0.6937 eloss:1.8021 aloss2:1.1621 exploreP:0.8167\n",
      "Episode:76 meanR:26.8182 R:18.0000 rate:0.0360 aloss:0.6906 eloss:1.7872 aloss2:1.1789 exploreP:0.8153\n",
      "Episode:77 meanR:26.6282 R:12.0000 rate:0.0240 aloss:0.6914 eloss:1.7845 aloss2:1.1802 exploreP:0.8143\n",
      "Episode:78 meanR:26.4177 R:10.0000 rate:0.0200 aloss:0.6907 eloss:1.7693 aloss2:1.1810 exploreP:0.8135\n"
     ]
    }
   ],
   "source": [
    "# Save/load the model and save for plotting\n",
    "saver = tf.train.Saver()\n",
    "episode_rewards_list, rewards_list = [], []\n",
    "aloss_list, eloss_list, aloss2_list = [], [], []\n",
    "\n",
    "# TF session for training\n",
    "with tf.Session(graph=graph) as sess:\n",
    "    sess.run(tf.global_variables_initializer())\n",
    "    #saver.restore(sess, 'checkpoints/model.ckpt')    \n",
    "    #saver.restore(sess, tf.train.latest_checkpoint('checkpoints'))\n",
    "    total_step = 0 # Explore or exploit parameter\n",
    "    episode_reward = deque(maxlen=100) # 100 episodes for running average/running mean/window\n",
    "\n",
    "    # Training episodes/epochs\n",
    "    for ep in range(11111):\n",
    "        aloss_batch, eloss_batch, aloss2_batch = [], [], []\n",
    "        total_reward = 0\n",
    "        state = env.reset()\n",
    "        num_step = 0\n",
    "        rate = -1\n",
    "\n",
    "        # Training steps/batches\n",
    "        while True:\n",
    "            # Explore (env) or Exploit (model)\n",
    "            total_step += 1\n",
    "            explore_p = explore_stop + (explore_start - explore_stop) * np.exp(-decay_rate * total_step) \n",
    "            if explore_p > np.random.rand():\n",
    "                action = env.action_space.sample()\n",
    "            else:\n",
    "                action_logits = sess.run(model.actions_logits, feed_dict={model.states: state.reshape([1, -1])})\n",
    "                action = np.argmax(action_logits)\n",
    "            next_state, reward, done, _ = env.step(action)\n",
    "            memory.buffer.append([state, action, next_state, reward, float(done), rate])\n",
    "            num_step += 1 # momory added\n",
    "            total_reward += reward\n",
    "            state = next_state\n",
    "            \n",
    "            # Training with the maxrated minibatch\n",
    "            batch = memory.buffer\n",
    "            #for idx in range(memory_size// batch_size):\n",
    "            while True:\n",
    "                idx = np.random.choice(np.arange(memory_size// batch_size))\n",
    "                states = np.array([each[0] for each in batch])[idx*batch_size:(idx+1)*batch_size]\n",
    "                actions = np.array([each[1] for each in batch])[idx*batch_size:(idx+1)*batch_size]\n",
    "                next_states = np.array([each[2] for each in batch])[idx*batch_size:(idx+1)*batch_size]\n",
    "                rewards = np.array([each[3] for each in batch])[idx*batch_size:(idx+1)*batch_size]\n",
    "                dones = np.array([each[4] for each in batch])[idx*batch_size:(idx+1)*batch_size]\n",
    "                rates = np.array([each[5] for each in batch])[idx*batch_size:(idx+1)*batch_size]\n",
    "                states = states[rates >= np.max(rates)]\n",
    "                actions = actions[rates >= np.max(rates)]\n",
    "                next_states = next_states[rates >= np.max(rates)]\n",
    "                rewards = rewards[rates >= np.max(rates)]\n",
    "                dones = dones[rates >= np.max(rates)]\n",
    "                rates = rates[rates >= np.max(rates)]\n",
    "                if np.count_nonzero(dones) > 0 and len(dones) > 1 and np.max(rates) > 0:\n",
    "                    break\n",
    "            aloss, _ = sess.run([model.a_loss, model.a_opt],\n",
    "                                  feed_dict = {model.states: states, \n",
    "                                               model.actions: actions,\n",
    "                                               model.next_states: next_states,\n",
    "                                               model.rewards: rewards,\n",
    "                                               model.dones: dones,\n",
    "                                               model.rates: rates})\n",
    "            eloss, _ = sess.run([model.e_loss, model.e_opt],\n",
    "                                  feed_dict = {model.states: states, \n",
    "                                               model.actions: actions,\n",
    "                                               model.next_states: next_states,\n",
    "                                               model.rewards: rewards,\n",
    "                                               model.dones: dones,\n",
    "                                               model.rates: rates})\n",
    "            aloss2, _= sess.run([model.a_loss2, model.a_opt2], \n",
    "                                 feed_dict = {model.states: states, \n",
    "                                              model.actions: actions,\n",
    "                                              model.next_states: next_states,\n",
    "                                              model.rewards: rewards,\n",
    "                                              model.dones: dones,\n",
    "                                              model.rates: rates})\n",
    "            # print(len(dones), np.count_nonzero(dones), np.max(rates))\n",
    "            aloss_batch.append(aloss)\n",
    "            eloss_batch.append(eloss)\n",
    "            aloss2_batch.append(aloss2)\n",
    "            if done is True:\n",
    "                break\n",
    "                \n",
    "        # Rating the latest played episode\n",
    "        rate = total_reward/500 # update rate at the end/ when episode is done\n",
    "        for idx in range(num_step): # episode length\n",
    "            if memory.buffer[-1-idx][-1] == -1: # double-check the landmark/marked indexes\n",
    "                memory.buffer[-1-idx][-1] = rate # rate the trajectory/data\n",
    "\n",
    "        # Print out\n",
    "        episode_reward.append(total_reward)\n",
    "        print('Episode:{}'.format(ep),\n",
    "              'meanR:{:.4f}'.format(np.mean(episode_reward)),\n",
    "              'R:{:.4f}'.format(total_reward),\n",
    "              'rate:{:.4f}'.format(rate),\n",
    "              'aloss:{:.4f}'.format(np.mean(aloss_batch)),\n",
    "              'eloss:{:.4f}'.format(np.mean(eloss_batch)),\n",
    "              'aloss2:{:.4f}'.format(np.mean(aloss2_batch)),\n",
    "              'exploreP:{:.4f}'.format(explore_p))\n",
    "\n",
    "        # Ploting out\n",
    "        episode_rewards_list.append([ep, np.mean(episode_reward)])\n",
    "        rewards_list.append([ep, total_reward])\n",
    "        aloss_list.append([ep, np.mean(aloss_batch)])\n",
    "        eloss_list.append([ep, np.mean(eloss_batch)])\n",
    "        aloss2_list.append([ep, np.mean(aloss2_batch)])\n",
    "        \n",
    "        # Break episode/epoch loop\n",
    "        ## Option 1: Solve the First Version\n",
    "        #The task is episodic, and in order to solve the environment, \n",
    "        #your agent must get an average score of +30 over 100 consecutive episodes.\n",
    "        if np.mean(episode_reward) >= 500:\n",
    "            break\n",
    "            \n",
    "    # At the end of all training episodes/epochs\n",
    "    saver.save(sess, 'checkpoints/model.ckpt')"
   ]
  },
  {
   "cell_type": "markdown",
   "metadata": {},
   "source": [
    "# Visualizing training\n",
    "\n",
    "Below I'll plot the total rewards for each episode. I'm plotting the rolling average too, in blue."
   ]
  },
  {
   "cell_type": "code",
   "execution_count": null,
   "metadata": {},
   "outputs": [],
   "source": [
    "import matplotlib.pyplot as plt\n",
    "%matplotlib inline\n",
    "\n",
    "def running_mean(x, N):\n",
    "    cumsum = np.cumsum(np.insert(x, 0, 0)) \n",
    "    return (cumsum[N:] - cumsum[:-N]) / N "
   ]
  },
  {
   "cell_type": "code",
   "execution_count": null,
   "metadata": {},
   "outputs": [],
   "source": [
    "eps, arr = np.array(episode_rewards_list).T\n",
    "smoothed_arr = running_mean(arr, 10)\n",
    "plt.plot(eps[-len(smoothed_arr):], smoothed_arr)\n",
    "plt.plot(eps, arr, color='grey', alpha=0.3)\n",
    "plt.xlabel('Episode')\n",
    "plt.ylabel('Total rewards')"
   ]
  },
  {
   "cell_type": "code",
   "execution_count": null,
   "metadata": {},
   "outputs": [],
   "source": [
    "eps, arr = np.array(rewards_list).T\n",
    "smoothed_arr = running_mean(arr, 10)\n",
    "plt.plot(eps[-len(smoothed_arr):], smoothed_arr)\n",
    "plt.plot(eps, arr, color='grey', alpha=0.3)\n",
    "plt.xlabel('Episode')\n",
    "plt.ylabel('Total rewards')"
   ]
  },
  {
   "cell_type": "code",
   "execution_count": null,
   "metadata": {},
   "outputs": [],
   "source": [
    "eps, arr = np.array(aloss_list).T\n",
    "smoothed_arr = running_mean(arr, 10)\n",
    "plt.plot(eps[-len(smoothed_arr):], smoothed_arr)\n",
    "plt.plot(eps, arr, color='grey', alpha=0.3)\n",
    "plt.xlabel('Episode')\n",
    "plt.ylabel('Act losses')"
   ]
  },
  {
   "cell_type": "code",
   "execution_count": null,
   "metadata": {},
   "outputs": [],
   "source": [
    "eps, arr = np.array(eloss_list).T\n",
    "smoothed_arr = running_mean(arr, 10)\n",
    "plt.plot(eps[-len(smoothed_arr):], smoothed_arr)\n",
    "plt.plot(eps, arr, color='grey', alpha=0.3)\n",
    "plt.xlabel('Episode')\n",
    "plt.ylabel('Env losses')"
   ]
  },
  {
   "cell_type": "code",
   "execution_count": null,
   "metadata": {},
   "outputs": [],
   "source": [
    "eps, arr = np.array(aloss2_list).T\n",
    "smoothed_arr = running_mean(arr, 10)\n",
    "plt.plot(eps[-len(smoothed_arr):], smoothed_arr)\n",
    "plt.plot(eps, arr, color='grey', alpha=0.3)\n",
    "plt.xlabel('Episode')\n",
    "plt.ylabel('Act losses 2')"
   ]
  },
  {
   "cell_type": "markdown",
   "metadata": {},
   "source": [
    "## Testing\n",
    "\n",
    "Let's checkout how our trained agent plays the game."
   ]
  },
  {
   "cell_type": "code",
   "execution_count": 24,
   "metadata": {},
   "outputs": [
    {
     "name": "stdout",
     "output_type": "stream",
     "text": [
      "INFO:tensorflow:Restoring parameters from checkpoints/model.ckpt\n",
      "total_reward: 500.0\n",
      "total_reward: 500.0\n",
      "total_reward: 500.0\n",
      "total_reward: 500.0\n",
      "total_reward: 500.0\n",
      "total_reward: 500.0\n",
      "total_reward: 500.0\n",
      "total_reward: 500.0\n",
      "total_reward: 500.0\n",
      "total_reward: 500.0\n"
     ]
    }
   ],
   "source": [
    "import gym\n",
    "env = gym.make('CartPole-v0')\n",
    "env = gym.make('CartPole-v1')\n",
    "\n",
    "with tf.Session() as sess:\n",
    "    sess.run(tf.global_variables_initializer())\n",
    "    saver.restore(sess, 'checkpoints/model.ckpt')    \n",
    "    #saver.restore(sess, tf.train.latest_checkpoint('checkpoints'))\n",
    "    \n",
    "    # Episodes/epochs\n",
    "    for _ in range(10):\n",
    "        state = env.reset()\n",
    "        total_reward = 0\n",
    "\n",
    "        # Steps/batches\n",
    "        while True:\n",
    "            env.render()\n",
    "            action_logits = sess.run(model.actions_logits, feed_dict={model.states: state.reshape([1, -1])})\n",
    "            action = np.argmax(action_logits)\n",
    "            state, reward, done, _ = env.step(action)\n",
    "            total_reward += reward\n",
    "            if done:\n",
    "                print('total_reward: {}'.format(total_reward))\n",
    "                break\n",
    "                \n",
    "env.close()"
   ]
  },
  {
   "cell_type": "code",
   "execution_count": null,
   "metadata": {},
   "outputs": [],
   "source": []
  }
 ],
 "metadata": {
  "kernelspec": {
   "display_name": "Python 3",
   "language": "python",
   "name": "python3"
  },
  "language_info": {
   "codemirror_mode": {
    "name": "ipython",
    "version": 3
   },
   "file_extension": ".py",
   "mimetype": "text/x-python",
   "name": "python",
   "nbconvert_exporter": "python",
   "pygments_lexer": "ipython3",
   "version": "3.6.6"
  }
 },
 "nbformat": 4,
 "nbformat_minor": 2
}
