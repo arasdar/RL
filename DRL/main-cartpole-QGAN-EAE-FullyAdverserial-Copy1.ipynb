{
 "cells": [
  {
   "cell_type": "code",
   "execution_count": 1,
   "metadata": {},
   "outputs": [
    {
     "name": "stdout",
     "output_type": "stream",
     "text": [
      "TensorFlow Version: 1.7.1\n",
      "Default GPU Device: \n"
     ]
    }
   ],
   "source": [
    "import tensorflow as tf\n",
    "print('TensorFlow Version: {}'.format(tf.__version__))\n",
    "print('Default GPU Device: {}'.format(tf.test.gpu_device_name()))"
   ]
  },
  {
   "cell_type": "markdown",
   "metadata": {},
   "source": [
    "##### >**Note:** Make sure you have OpenAI Gym cloned. Then run this command `pip install -e gym/[all]`."
   ]
  },
  {
   "cell_type": "code",
   "execution_count": 2,
   "metadata": {},
   "outputs": [],
   "source": [
    "import numpy as np\n",
    "import gym\n",
    "env = gym.make('CartPole-v0')\n",
    "env = gym.make('CartPole-v1')"
   ]
  },
  {
   "cell_type": "code",
   "execution_count": 3,
   "metadata": {},
   "outputs": [],
   "source": [
    "def model_input(state_size):\n",
    "    #states = tf.placeholder(tf.float32, [None, *state_size], name='states')\n",
    "    states = tf.placeholder(tf.float32, [None, state_size], name='states')\n",
    "    actions = tf.placeholder(tf.int32, [None], name='actions')\n",
    "    next_states = tf.placeholder(tf.float32, [None, state_size], name='next_states')\n",
    "    rewards = tf.placeholder(tf.float32, [None], name='rewards')\n",
    "    dones = tf.placeholder(tf.float32, [None], name='dones')\n",
    "    rates = tf.placeholder(tf.float32, [None], name='rates') # success rate\n",
    "    return states, actions, next_states, rewards, dones, rates"
   ]
  },
  {
   "cell_type": "code",
   "execution_count": 4,
   "metadata": {},
   "outputs": [],
   "source": [
    "def Act(states, action_size, hidden_size, reuse=False, alpha=0.1, training=False):\n",
    "    with tf.variable_scope('Act', reuse=reuse):\n",
    "        # First fully connected layer\n",
    "        h1 = tf.layers.dense(inputs=states, units=hidden_size)\n",
    "        bn1 = tf.layers.batch_normalization(h1, training=training)        \n",
    "        nl1 = tf.maximum(alpha * bn1, bn1)\n",
    "        \n",
    "        # Second fully connected layer\n",
    "        h2 = tf.layers.dense(inputs=nl1, units=hidden_size)\n",
    "        bn2 = tf.layers.batch_normalization(h2, training=training)        \n",
    "        nl2 = tf.maximum(alpha * bn2, bn2)\n",
    "        \n",
    "        # Output layer\n",
    "        logits = tf.layers.dense(inputs=nl2, units=action_size)        \n",
    "        return logits"
   ]
  },
  {
   "cell_type": "code",
   "execution_count": 5,
   "metadata": {},
   "outputs": [],
   "source": [
    "def Env(states, actions, state_size, action_size, hidden_size, reuse=False, alpha=0.1, training=False):\n",
    "    with tf.variable_scope('Env', reuse=reuse):\n",
    "        # First fully connected layer\n",
    "        h1 = tf.layers.dense(inputs=states, units=action_size)\n",
    "        bn1 = tf.layers.batch_normalization(h1, training=training)        \n",
    "        nl1 = tf.maximum(alpha * bn1, bn1)\n",
    "        \n",
    "        # Second fully connected layer\n",
    "        nl1_fused = tf.concat(axis=1, values=[nl1, actions])\n",
    "        h2 = tf.layers.dense(inputs=nl1_fused, units=hidden_size)\n",
    "        bn2 = tf.layers.batch_normalization(h2, training=training)        \n",
    "        nl2 = tf.maximum(alpha * bn2, bn2)\n",
    "                \n",
    "        # Output layer\n",
    "        states_logits = tf.layers.dense(inputs=nl2, units=state_size, trainable=False)\n",
    "        Qlogits = tf.layers.dense(inputs=nl2, units=1, trainable=False)\n",
    "        return states_logits, Qlogits"
   ]
  },
  {
   "cell_type": "code",
   "execution_count": 7,
   "metadata": {},
   "outputs": [],
   "source": [
    "def model_loss(state_size, action_size, hidden_size, gamma,\n",
    "               states, actions, next_states, rewards, dones, rates):\n",
    "    ################################################ a = act(s)\n",
    "    actions_logits = Act(states=states, hidden_size=hidden_size, action_size=action_size)\n",
    "    actions_labels = tf.one_hot(indices=actions, depth=action_size, dtype=actions_logits.dtype)\n",
    "    aloss = tf.reduce_mean(tf.nn.softmax_cross_entropy_with_logits_v2(logits=actions_logits, \n",
    "                                                                      labels=actions_labels))\n",
    "    ################################################ s', r = env(s, a)\n",
    "    ################################################ s', Q = env(s, a)\n",
    "    ################################################ ~s', ~Q = env(s, ~a)\n",
    "    e_next_states_logits, eQs = Env(actions=actions_labels, states=states, hidden_size=hidden_size, \n",
    "                                    action_size=action_size, state_size=state_size)\n",
    "    a_next_states_logits, aQs = Env(actions=actions_logits, states=states, hidden_size=hidden_size, \n",
    "                                    action_size=action_size, state_size=state_size, reuse=True)\n",
    "    next_states_labels = tf.nn.sigmoid(next_states)\n",
    "    eloss = tf.reduce_mean(tf.nn.sigmoid_cross_entropy_with_logits(logits=e_next_states_logits, \n",
    "                                                                   labels=next_states_labels))\n",
    "    eloss += -tf.reduce_mean(tf.nn.sigmoid_cross_entropy_with_logits(logits=a_next_states_logits, \n",
    "                                                                     labels=next_states_labels)) # maximize loss\n",
    "    aloss2 = tf.reduce_mean(tf.nn.sigmoid_cross_entropy_with_logits(logits=a_next_states_logits, \n",
    "                                                                    labels=next_states_labels)) # minimize loss\n",
    "    eQs_logits = tf.reshape(eQs, shape=[-1])\n",
    "    aQs_logits = tf.reshape(aQs, shape=[-1])\n",
    "    #################################################### s'', Q' = ~env(s', ~a')\n",
    "    next_actions_logits = Act(states=next_states, hidden_size=hidden_size, action_size=action_size, reuse=True)\n",
    "    _, aQs2 = Env(actions=next_actions_logits, states=next_states, hidden_size=hidden_size, \n",
    "                  action_size=action_size, state_size=state_size, reuse=True)\n",
    "    aQs2_logits = tf.reshape(aQs2, shape=[-1]) * (1-dones)\n",
    "    eloss += tf.reduce_mean(tf.nn.sigmoid_cross_entropy_with_logits(logits=eQs_logits, # GAN\n",
    "                                                                    labels=rates)) # 0-1 real\n",
    "    eloss += tf.reduce_mean(tf.nn.sigmoid_cross_entropy_with_logits(logits=(aQs_logits+aQs2_logits)/2, # GAN\n",
    "                                                                    labels=tf.zeros_like(rates))) # min\n",
    "    aloss2 += tf.reduce_mean(tf.nn.sigmoid_cross_entropy_with_logits(logits=(aQs_logits+aQs2_logits)/2, # GAN\n",
    "                                                                     labels=tf.ones_like(rates))) # max\n",
    "    ###################################################### Q(s,a)= r + Q'(s',a') # max\n",
    "    targetQs = rewards + (gamma * aQs2_logits)\n",
    "    eloss += tf.reduce_mean(tf.square(eQs_logits - targetQs)) # real\n",
    "    eloss += tf.reduce_mean(tf.square(aQs_logits - rewards)) # min Q\n",
    "    aloss2 += tf.reduce_mean(tf.square(aQs_logits - targetQs)) # max Q\n",
    "    eloss += tf.reduce_mean((aQs_logits+aQs2_logits)/2) # minimize Q\n",
    "    aloss2 += -tf.reduce_mean((aQs_logits+aQs2_logits)/2) # maximize Q\n",
    "    return actions_logits, aloss, eloss, aloss2"
   ]
  },
  {
   "cell_type": "code",
   "execution_count": 8,
   "metadata": {},
   "outputs": [],
   "source": [
    "def model_opt(a_loss, e_loss, a_loss2, a_learning_rate, e_learning_rate):\n",
    "    # Get weights and bias to update\n",
    "    t_vars = tf.trainable_variables()\n",
    "    a_vars = [var for var in t_vars if var.name.startswith('Act')]\n",
    "    e_vars = [var for var in t_vars if var.name.startswith('Env')]\n",
    "\n",
    "    # Optimize\n",
    "    with tf.control_dependencies(tf.get_collection(tf.GraphKeys.UPDATE_OPS)): # Required for batchnorm (BN)\n",
    "        a_opt = tf.train.AdamOptimizer(a_learning_rate).minimize(a_loss, var_list=a_vars)\n",
    "        e_opt = tf.train.AdamOptimizer(e_learning_rate).minimize(e_loss, var_list=e_vars)\n",
    "        a_opt2 = tf.train.AdamOptimizer(a_learning_rate).minimize(a_loss2, var_list=a_vars)\n",
    "    return a_opt, e_opt, a_opt2"
   ]
  },
  {
   "cell_type": "code",
   "execution_count": 9,
   "metadata": {},
   "outputs": [],
   "source": [
    "class Model:\n",
    "    def __init__(self, state_size, action_size, hidden_size, a_learning_rate, e_learning_rate, gamma):\n",
    "\n",
    "        # Data of the Model: make the data available inside the framework\n",
    "        self.states, self.actions, self.next_states, self.rewards, self.dones, self.rates = model_input(\n",
    "            state_size=state_size)\n",
    "\n",
    "        # Create the Model: calculating the loss and forwad pass\n",
    "        self.actions_logits, self.a_loss, self.e_loss, self.a_loss2 = model_loss(\n",
    "            state_size=state_size, action_size=action_size, hidden_size=hidden_size, gamma=gamma, # model init\n",
    "            states=self.states, actions=self.actions, next_states=self.next_states, \n",
    "            rewards=self.rewards, dones=self.dones, rates=self.rates) # model input\n",
    "        \n",
    "        # Update the model: backward pass and backprop\n",
    "        self.a_opt, self.e_opt, self.a_opt2 = model_opt(a_loss=self.a_loss, \n",
    "                                                        e_loss=self.e_loss,\n",
    "                                                        a_loss2=self.a_loss2, \n",
    "                                                        a_learning_rate=a_learning_rate,\n",
    "                                                        e_learning_rate=e_learning_rate)"
   ]
  },
  {
   "cell_type": "code",
   "execution_count": 10,
   "metadata": {},
   "outputs": [],
   "source": [
    "from collections import deque\n",
    "class Memory():\n",
    "    def __init__(self, max_size = 1000):\n",
    "        self.buffer = deque(maxlen=max_size) # data batch\n",
    "#     def sample(self, batch_size):\n",
    "#         idx = np.random.choice(np.arange(len(self.buffer)), size=batch_size, replace=False)\n",
    "#         return [self.buffer[ii] for ii in idx]"
   ]
  },
  {
   "cell_type": "markdown",
   "metadata": {},
   "source": [
    "## Hyperparameters\n",
    "\n",
    "One of the more difficult aspects of reinforcememt learning are the large number of hyperparameters. Not only are we tuning the network, but we're tuning the simulation."
   ]
  },
  {
   "cell_type": "code",
   "execution_count": 11,
   "metadata": {},
   "outputs": [
    {
     "data": {
      "text/plain": [
       "(Box(4,), Discrete(2))"
      ]
     },
     "execution_count": 11,
     "metadata": {},
     "output_type": "execute_result"
    }
   ],
   "source": [
    "env.observation_space, env.action_space"
   ]
  },
  {
   "cell_type": "code",
   "execution_count": 12,
   "metadata": {},
   "outputs": [],
   "source": [
    "# Exploration parameters\n",
    "explore_start = 1.0            # exploration probability at start\n",
    "explore_stop = 0.01           # minimum exploration probability \n",
    "decay_rate = 0.0001            # exponential decay rate for exploration prob\n",
    "\n",
    "# Network parameters\n",
    "state_size = 4\n",
    "action_size = 2\n",
    "hidden_size = 4*2             # number of units in each Q-network hidden layer\n",
    "a_learning_rate = 1e-4         # Q-network learning rate\n",
    "e_learning_rate = 1e-4         # Q-network learning rate\n",
    "\n",
    "# Memory parameters\n",
    "memory_size = int(1e5)            # memory capacity\n",
    "batch_size = int(1e3)             # experience mini-batch size\n",
    "gamma=0.99"
   ]
  },
  {
   "cell_type": "code",
   "execution_count": 13,
   "metadata": {},
   "outputs": [],
   "source": [
    "# Reset/init the graph/session\n",
    "graph = tf.reset_default_graph()\n",
    "\n",
    "# Init the model\n",
    "model = Model(action_size=action_size, state_size=state_size, hidden_size=hidden_size, gamma=gamma,\n",
    "              a_learning_rate=a_learning_rate, e_learning_rate=e_learning_rate)\n",
    "\n",
    "# Init the memory\n",
    "memory = Memory(max_size=memory_size)"
   ]
  },
  {
   "cell_type": "code",
   "execution_count": 14,
   "metadata": {},
   "outputs": [],
   "source": [
    "state = env.reset()\n",
    "total_reward = 0\n",
    "num_step = 0\n",
    "for _ in range(memory_size):\n",
    "    action = env.action_space.sample()\n",
    "    next_state, reward, done, _ = env.step(action)\n",
    "    rate = -1\n",
    "    memory.buffer.append([state, action, next_state, reward, float(done), rate])\n",
    "    num_step += 1 # memory incremented\n",
    "    total_reward += reward\n",
    "    state = next_state\n",
    "    if done is True:\n",
    "        rate = total_reward/500\n",
    "        for idx in range(num_step): # episode length\n",
    "            if memory.buffer[-1-idx][-1] == -1:\n",
    "                memory.buffer[-1-idx][-1] = rate\n",
    "        state = env.reset()\n",
    "        total_reward = 0 # reset\n",
    "        num_step = 0 # reset"
   ]
  },
  {
   "cell_type": "markdown",
   "metadata": {},
   "source": [
    "## Training the model\n",
    "\n",
    "Below we'll train our agent. If you want to watch it train, uncomment the `env.render()` line. This is slow because it's rendering the frames slower than the network can train. But, it's cool to watch the agent get better at the game."
   ]
  },
  {
   "cell_type": "code",
   "execution_count": null,
   "metadata": {},
   "outputs": [
    {
     "name": "stdout",
     "output_type": "stream",
     "text": [
      "Episode:0 meanR:20.0000 R:20.0000 rate:0.0400 aloss:0.7096 eloss:3.5596 aloss2:2.3476 exploreP:0.9980\n",
      "Episode:1 meanR:20.5000 R:21.0000 rate:0.0420 aloss:0.6977 eloss:3.6005 aloss2:2.3310 exploreP:0.9959\n",
      "Episode:2 meanR:18.0000 R:13.0000 rate:0.0260 aloss:0.7075 eloss:3.5387 aloss2:2.3253 exploreP:0.9947\n",
      "Episode:3 meanR:20.0000 R:26.0000 rate:0.0520 aloss:0.7058 eloss:3.5654 aloss2:2.3059 exploreP:0.9921\n",
      "Episode:4 meanR:19.6000 R:18.0000 rate:0.0360 aloss:0.7132 eloss:3.5379 aloss2:2.2931 exploreP:0.9903\n",
      "Episode:5 meanR:23.0000 R:40.0000 rate:0.0800 aloss:0.7033 eloss:3.5678 aloss2:2.2756 exploreP:0.9864\n",
      "Episode:6 meanR:21.4286 R:12.0000 rate:0.0240 aloss:0.6987 eloss:3.5159 aloss2:2.2951 exploreP:0.9853\n",
      "Episode:7 meanR:20.7500 R:16.0000 rate:0.0320 aloss:0.7110 eloss:3.5731 aloss2:2.2345 exploreP:0.9837\n",
      "Episode:8 meanR:21.0000 R:23.0000 rate:0.0460 aloss:0.6993 eloss:3.4712 aloss2:2.2814 exploreP:0.9815\n",
      "Episode:9 meanR:23.1000 R:42.0000 rate:0.0840 aloss:0.6983 eloss:3.4844 aloss2:2.2611 exploreP:0.9774\n",
      "Episode:10 meanR:22.3636 R:15.0000 rate:0.0300 aloss:0.6969 eloss:3.3910 aloss2:2.2925 exploreP:0.9759\n",
      "Episode:11 meanR:23.6667 R:38.0000 rate:0.0760 aloss:0.6945 eloss:3.4147 aloss2:2.2740 exploreP:0.9723\n",
      "Episode:12 meanR:23.1538 R:17.0000 rate:0.0340 aloss:0.6934 eloss:3.3404 aloss2:2.2954 exploreP:0.9706\n",
      "Episode:13 meanR:23.0714 R:22.0000 rate:0.0440 aloss:0.7003 eloss:3.4670 aloss2:2.2003 exploreP:0.9685\n",
      "Episode:14 meanR:23.8667 R:35.0000 rate:0.0700 aloss:0.6965 eloss:3.3964 aloss2:2.2237 exploreP:0.9652\n",
      "Episode:15 meanR:24.1875 R:29.0000 rate:0.0580 aloss:0.6935 eloss:3.3663 aloss2:2.2370 exploreP:0.9624\n",
      "Episode:16 meanR:23.8824 R:19.0000 rate:0.0380 aloss:0.6903 eloss:3.3547 aloss2:2.2250 exploreP:0.9606\n",
      "Episode:17 meanR:24.2778 R:31.0000 rate:0.0620 aloss:0.6943 eloss:3.3146 aloss2:2.2326 exploreP:0.9577\n",
      "Episode:18 meanR:24.2105 R:23.0000 rate:0.0460 aloss:0.6920 eloss:3.3201 aloss2:2.2071 exploreP:0.9555\n",
      "Episode:19 meanR:24.0000 R:20.0000 rate:0.0400 aloss:0.6934 eloss:3.2919 aloss2:2.2179 exploreP:0.9536\n",
      "Episode:20 meanR:23.8095 R:20.0000 rate:0.0400 aloss:0.6914 eloss:3.3589 aloss2:2.1726 exploreP:0.9517\n",
      "Episode:21 meanR:24.3636 R:36.0000 rate:0.0720 aloss:0.6897 eloss:3.3158 aloss2:2.1923 exploreP:0.9483\n",
      "Episode:22 meanR:23.9565 R:15.0000 rate:0.0300 aloss:0.6838 eloss:3.3337 aloss2:2.1866 exploreP:0.9469\n",
      "Episode:23 meanR:23.9167 R:23.0000 rate:0.0460 aloss:0.6916 eloss:3.2512 aloss2:2.2002 exploreP:0.9448\n",
      "Episode:24 meanR:23.5200 R:14.0000 rate:0.0280 aloss:0.6860 eloss:3.2640 aloss2:2.1866 exploreP:0.9435\n",
      "Episode:25 meanR:23.0385 R:11.0000 rate:0.0220 aloss:0.6844 eloss:3.3351 aloss2:2.1558 exploreP:0.9424\n",
      "Episode:26 meanR:22.6667 R:13.0000 rate:0.0260 aloss:0.6899 eloss:3.2302 aloss2:2.1960 exploreP:0.9412\n",
      "Episode:27 meanR:22.3929 R:15.0000 rate:0.0300 aloss:0.6893 eloss:3.2189 aloss2:2.2045 exploreP:0.9398\n",
      "Episode:28 meanR:22.0000 R:11.0000 rate:0.0220 aloss:0.6917 eloss:3.2234 aloss2:2.1874 exploreP:0.9388\n",
      "Episode:29 meanR:21.8667 R:18.0000 rate:0.0360 aloss:0.6870 eloss:3.2588 aloss2:2.1581 exploreP:0.9371\n",
      "Episode:30 meanR:23.3548 R:68.0000 rate:0.1360 aloss:0.6845 eloss:3.2324 aloss2:2.1632 exploreP:0.9309\n",
      "Episode:31 meanR:22.9375 R:10.0000 rate:0.0200 aloss:0.6903 eloss:3.1940 aloss2:2.1750 exploreP:0.9299\n",
      "Episode:32 meanR:23.0909 R:28.0000 rate:0.0560 aloss:0.6910 eloss:3.1968 aloss2:2.1529 exploreP:0.9274\n",
      "Episode:33 meanR:23.3824 R:33.0000 rate:0.0660 aloss:0.6868 eloss:3.2339 aloss2:2.1285 exploreP:0.9243\n",
      "Episode:34 meanR:23.3714 R:23.0000 rate:0.0460 aloss:0.6873 eloss:3.1984 aloss2:2.1469 exploreP:0.9222\n",
      "Episode:35 meanR:23.0833 R:13.0000 rate:0.0260 aloss:0.6862 eloss:3.1836 aloss2:2.1454 exploreP:0.9211\n",
      "Episode:36 meanR:23.1892 R:27.0000 rate:0.0540 aloss:0.6857 eloss:3.1993 aloss2:2.1310 exploreP:0.9186\n",
      "Episode:37 meanR:23.0526 R:18.0000 rate:0.0360 aloss:0.6865 eloss:3.1673 aloss2:2.1372 exploreP:0.9170\n",
      "Episode:38 meanR:22.8462 R:15.0000 rate:0.0300 aloss:0.6852 eloss:3.2373 aloss2:2.0950 exploreP:0.9156\n",
      "Episode:39 meanR:23.2000 R:37.0000 rate:0.0740 aloss:0.6843 eloss:3.1984 aloss2:2.1206 exploreP:0.9123\n",
      "Episode:40 meanR:23.0244 R:16.0000 rate:0.0320 aloss:0.6822 eloss:3.1977 aloss2:2.1131 exploreP:0.9108\n",
      "Episode:41 meanR:23.0476 R:24.0000 rate:0.0480 aloss:0.6856 eloss:3.2336 aloss2:2.0983 exploreP:0.9087\n",
      "Episode:42 meanR:23.1628 R:28.0000 rate:0.0560 aloss:0.6845 eloss:3.2033 aloss2:2.1014 exploreP:0.9061\n",
      "Episode:43 meanR:23.2045 R:25.0000 rate:0.0500 aloss:0.6845 eloss:3.2056 aloss2:2.0898 exploreP:0.9039\n",
      "Episode:44 meanR:22.9111 R:10.0000 rate:0.0200 aloss:0.6801 eloss:3.1803 aloss2:2.1076 exploreP:0.9030\n",
      "Episode:45 meanR:23.2174 R:37.0000 rate:0.0740 aloss:0.6816 eloss:3.1990 aloss2:2.0919 exploreP:0.8997\n",
      "Episode:46 meanR:22.9574 R:11.0000 rate:0.0220 aloss:0.6886 eloss:3.2063 aloss2:2.0861 exploreP:0.8987\n",
      "Episode:47 meanR:23.3542 R:42.0000 rate:0.0840 aloss:0.6822 eloss:3.2261 aloss2:2.0831 exploreP:0.8950\n",
      "Episode:48 meanR:23.2653 R:19.0000 rate:0.0380 aloss:0.6859 eloss:3.1765 aloss2:2.1044 exploreP:0.8933\n",
      "Episode:49 meanR:23.1200 R:16.0000 rate:0.0320 aloss:0.6841 eloss:3.2015 aloss2:2.0789 exploreP:0.8919\n",
      "Episode:50 meanR:22.9804 R:16.0000 rate:0.0320 aloss:0.6852 eloss:3.2240 aloss2:2.0567 exploreP:0.8905\n",
      "Episode:51 meanR:22.8269 R:15.0000 rate:0.0300 aloss:0.6886 eloss:3.2282 aloss2:2.0494 exploreP:0.8892\n",
      "Episode:52 meanR:22.6415 R:13.0000 rate:0.0260 aloss:0.6826 eloss:3.1938 aloss2:2.0765 exploreP:0.8881\n",
      "Episode:53 meanR:22.8148 R:32.0000 rate:0.0640 aloss:0.6957 eloss:3.2228 aloss2:2.0687 exploreP:0.8852\n",
      "Episode:54 meanR:22.6727 R:15.0000 rate:0.0300 aloss:0.6842 eloss:3.2475 aloss2:2.0677 exploreP:0.8839\n",
      "Episode:55 meanR:22.9286 R:37.0000 rate:0.0740 aloss:0.6817 eloss:3.2637 aloss2:2.0532 exploreP:0.8807\n",
      "Episode:56 meanR:22.8070 R:16.0000 rate:0.0320 aloss:0.6807 eloss:3.2315 aloss2:2.0900 exploreP:0.8793\n",
      "Episode:57 meanR:22.7069 R:17.0000 rate:0.0340 aloss:0.6840 eloss:3.2345 aloss2:2.0838 exploreP:0.8778\n",
      "Episode:58 meanR:22.5254 R:12.0000 rate:0.0240 aloss:0.6815 eloss:3.2462 aloss2:2.0833 exploreP:0.8768\n",
      "Episode:59 meanR:22.5500 R:24.0000 rate:0.0480 aloss:0.6813 eloss:3.2551 aloss2:2.0744 exploreP:0.8747\n",
      "Episode:60 meanR:22.3607 R:11.0000 rate:0.0220 aloss:0.6848 eloss:3.2624 aloss2:2.0533 exploreP:0.8738\n",
      "Episode:61 meanR:22.2581 R:16.0000 rate:0.0320 aloss:0.6804 eloss:3.2363 aloss2:2.0725 exploreP:0.8724\n",
      "Episode:62 meanR:22.5238 R:39.0000 rate:0.0780 aloss:0.6809 eloss:3.2301 aloss2:2.0912 exploreP:0.8690\n",
      "Episode:63 meanR:22.7969 R:40.0000 rate:0.0800 aloss:0.6818 eloss:3.2270 aloss2:2.1157 exploreP:0.8656\n",
      "Episode:64 meanR:23.4308 R:64.0000 rate:0.1280 aloss:0.6833 eloss:3.2136 aloss2:2.1212 exploreP:0.8601\n",
      "Episode:65 meanR:23.4848 R:27.0000 rate:0.0540 aloss:0.6835 eloss:3.2253 aloss2:2.1098 exploreP:0.8579\n",
      "Episode:66 meanR:24.0149 R:59.0000 rate:0.1180 aloss:0.6841 eloss:3.2230 aloss2:2.1224 exploreP:0.8529\n",
      "Episode:67 meanR:24.2647 R:41.0000 rate:0.0820 aloss:0.6870 eloss:3.2174 aloss2:2.1312 exploreP:0.8494\n",
      "Episode:68 meanR:24.1304 R:15.0000 rate:0.0300 aloss:0.6844 eloss:3.1900 aloss2:2.1347 exploreP:0.8482\n",
      "Episode:69 meanR:24.3571 R:40.0000 rate:0.0800 aloss:0.6859 eloss:3.2078 aloss2:2.1446 exploreP:0.8448\n",
      "Episode:70 meanR:24.3944 R:27.0000 rate:0.0540 aloss:0.6815 eloss:3.2116 aloss2:2.1587 exploreP:0.8426\n",
      "Episode:71 meanR:24.7361 R:49.0000 rate:0.0980 aloss:0.6888 eloss:3.2070 aloss2:2.1433 exploreP:0.8385\n",
      "Episode:72 meanR:24.6849 R:21.0000 rate:0.0420 aloss:0.6943 eloss:3.1567 aloss2:2.2020 exploreP:0.8368\n",
      "Episode:73 meanR:24.8649 R:38.0000 rate:0.0760 aloss:0.6840 eloss:3.1868 aloss2:2.2082 exploreP:0.8336\n",
      "Episode:74 meanR:24.8133 R:21.0000 rate:0.0420 aloss:0.6863 eloss:3.1735 aloss2:2.1995 exploreP:0.8319\n",
      "Episode:75 meanR:24.7500 R:20.0000 rate:0.0400 aloss:0.6874 eloss:3.1635 aloss2:2.2238 exploreP:0.8302\n",
      "Episode:76 meanR:24.7662 R:26.0000 rate:0.0520 aloss:0.6932 eloss:3.1824 aloss2:2.1855 exploreP:0.8281\n",
      "Episode:77 meanR:25.2949 R:66.0000 rate:0.1320 aloss:0.6890 eloss:3.1622 aloss2:2.2275 exploreP:0.8227\n",
      "Episode:78 meanR:25.1519 R:14.0000 rate:0.0280 aloss:0.6878 eloss:3.1650 aloss2:2.2361 exploreP:0.8216\n",
      "Episode:79 meanR:25.0250 R:15.0000 rate:0.0300 aloss:0.6839 eloss:3.1593 aloss2:2.2469 exploreP:0.8204\n"
     ]
    },
    {
     "name": "stdout",
     "output_type": "stream",
     "text": [
      "Episode:80 meanR:24.9630 R:20.0000 rate:0.0400 aloss:0.6895 eloss:3.1338 aloss2:2.2443 exploreP:0.8188\n",
      "Episode:81 meanR:24.8902 R:19.0000 rate:0.0380 aloss:0.6872 eloss:3.1618 aloss2:2.1847 exploreP:0.8172\n",
      "Episode:82 meanR:24.7831 R:16.0000 rate:0.0320 aloss:0.6860 eloss:3.1555 aloss2:2.2287 exploreP:0.8159\n",
      "Episode:83 meanR:24.6548 R:14.0000 rate:0.0280 aloss:0.6918 eloss:3.1356 aloss2:2.2118 exploreP:0.8148\n",
      "Episode:84 meanR:24.6000 R:20.0000 rate:0.0400 aloss:0.6902 eloss:3.1273 aloss2:2.2454 exploreP:0.8132\n",
      "Episode:85 meanR:24.7093 R:34.0000 rate:0.0680 aloss:0.6888 eloss:3.1194 aloss2:2.2690 exploreP:0.8105\n",
      "Episode:86 meanR:24.7241 R:26.0000 rate:0.0520 aloss:0.6851 eloss:3.1317 aloss2:2.2572 exploreP:0.8084\n",
      "Episode:87 meanR:24.5909 R:13.0000 rate:0.0260 aloss:0.6881 eloss:3.0986 aloss2:2.2683 exploreP:0.8074\n",
      "Episode:88 meanR:24.5056 R:17.0000 rate:0.0340 aloss:0.6878 eloss:3.1345 aloss2:2.2133 exploreP:0.8060\n",
      "Episode:89 meanR:24.4778 R:22.0000 rate:0.0440 aloss:0.6898 eloss:3.1070 aloss2:2.2512 exploreP:0.8043\n",
      "Episode:90 meanR:24.5055 R:27.0000 rate:0.0540 aloss:0.6842 eloss:3.0995 aloss2:2.2699 exploreP:0.8021\n"
     ]
    }
   ],
   "source": [
    "# Save/load the model and save for plotting\n",
    "saver = tf.train.Saver()\n",
    "episode_rewards_list, rewards_list = [], []\n",
    "aloss_list, eloss_list, aloss2_list = [], [], []\n",
    "\n",
    "# TF session for training\n",
    "with tf.Session(graph=graph) as sess:\n",
    "    sess.run(tf.global_variables_initializer())\n",
    "    #saver.restore(sess, 'checkpoints/model.ckpt')    \n",
    "    #saver.restore(sess, tf.train.latest_checkpoint('checkpoints'))\n",
    "    total_step = 0 # Explore or exploit parameter\n",
    "    episode_reward = deque(maxlen=100) # 100 episodes for running average/running mean/window\n",
    "\n",
    "    # Training episodes/epochs\n",
    "    for ep in range(11111):\n",
    "        aloss_batch, eloss_batch, aloss2_batch = [], [], []\n",
    "        total_reward = 0\n",
    "        state = env.reset()\n",
    "        num_step = 0\n",
    "        rate = -1\n",
    "\n",
    "        # Training steps/batches\n",
    "        while True:\n",
    "            # Explore (env) or Exploit (model)\n",
    "            total_step += 1\n",
    "            explore_p = explore_stop + (explore_start - explore_stop) * np.exp(-decay_rate * total_step) \n",
    "            if explore_p > np.random.rand():\n",
    "                action = env.action_space.sample()\n",
    "            else:\n",
    "                action_logits = sess.run(model.actions_logits, feed_dict={model.states: state.reshape([1, -1])})\n",
    "                action = np.argmax(action_logits)\n",
    "            next_state, reward, done, _ = env.step(action)\n",
    "            memory.buffer.append([state, action, next_state, reward, float(done), rate])\n",
    "            num_step += 1 # momory added\n",
    "            total_reward += reward\n",
    "            state = next_state\n",
    "            \n",
    "            # Training with the maxrated minibatch\n",
    "            batch = memory.buffer\n",
    "            #for idx in range(memory_size// batch_size):\n",
    "            while True:\n",
    "                idx = np.random.choice(np.arange(memory_size// batch_size))\n",
    "                states = np.array([each[0] for each in batch])[idx*batch_size:(idx+1)*batch_size]\n",
    "                actions = np.array([each[1] for each in batch])[idx*batch_size:(idx+1)*batch_size]\n",
    "                next_states = np.array([each[2] for each in batch])[idx*batch_size:(idx+1)*batch_size]\n",
    "                rewards = np.array([each[3] for each in batch])[idx*batch_size:(idx+1)*batch_size]\n",
    "                dones = np.array([each[4] for each in batch])[idx*batch_size:(idx+1)*batch_size]\n",
    "                rates = np.array([each[5] for each in batch])[idx*batch_size:(idx+1)*batch_size]\n",
    "                states = states[rates >= np.max(rates)]\n",
    "                actions = actions[rates >= np.max(rates)]\n",
    "                next_states = next_states[rates >= np.max(rates)]\n",
    "                rewards = rewards[rates >= np.max(rates)]\n",
    "                dones = dones[rates >= np.max(rates)]\n",
    "                rates = rates[rates >= np.max(rates)]\n",
    "                if np.count_nonzero(dones) > 0 and len(dones) > 1 and np.max(rates) > 0:\n",
    "                    break\n",
    "            aloss, _ = sess.run([model.a_loss, model.a_opt],\n",
    "                                  feed_dict = {model.states: states, \n",
    "                                               model.actions: actions,\n",
    "                                               model.next_states: next_states,\n",
    "                                               model.rewards: rewards,\n",
    "                                               model.dones: dones,\n",
    "                                               model.rates: rates})\n",
    "            eloss, _ = sess.run([model.e_loss, model.e_opt],\n",
    "                                  feed_dict = {model.states: states, \n",
    "                                               model.actions: actions,\n",
    "                                               model.next_states: next_states,\n",
    "                                               model.rewards: rewards,\n",
    "                                               model.dones: dones,\n",
    "                                               model.rates: rates})\n",
    "            aloss2, _= sess.run([model.a_loss2, model.a_opt2], \n",
    "                                 feed_dict = {model.states: states, \n",
    "                                              model.actions: actions,\n",
    "                                              model.next_states: next_states,\n",
    "                                              model.rewards: rewards,\n",
    "                                              model.dones: dones,\n",
    "                                              model.rates: rates})\n",
    "            # print(len(dones), np.count_nonzero(dones), np.max(rates))\n",
    "            aloss_batch.append(aloss)\n",
    "            eloss_batch.append(eloss)\n",
    "            aloss2_batch.append(aloss2)\n",
    "            if done is True:\n",
    "                break\n",
    "                \n",
    "        # Rating the latest played episode\n",
    "        rate = total_reward/500 # update rate at the end/ when episode is done\n",
    "        for idx in range(num_step): # episode length\n",
    "            if memory.buffer[-1-idx][-1] == -1: # double-check the landmark/marked indexes\n",
    "                memory.buffer[-1-idx][-1] = rate # rate the trajectory/data\n",
    "\n",
    "        # Print out\n",
    "        episode_reward.append(total_reward)\n",
    "        print('Episode:{}'.format(ep),\n",
    "              'meanR:{:.4f}'.format(np.mean(episode_reward)),\n",
    "              'R:{:.4f}'.format(total_reward),\n",
    "              'rate:{:.4f}'.format(rate),\n",
    "              'aloss:{:.4f}'.format(np.mean(aloss_batch)),\n",
    "              'eloss:{:.4f}'.format(np.mean(eloss_batch)),\n",
    "              'aloss2:{:.4f}'.format(np.mean(aloss2_batch)),\n",
    "              'exploreP:{:.4f}'.format(explore_p))\n",
    "\n",
    "        # Ploting out\n",
    "        episode_rewards_list.append([ep, np.mean(episode_reward)])\n",
    "        rewards_list.append([ep, total_reward])\n",
    "        aloss_list.append([ep, np.mean(aloss_batch)])\n",
    "        eloss_list.append([ep, np.mean(eloss_batch)])\n",
    "        aloss2_list.append([ep, np.mean(aloss2_batch)])\n",
    "        \n",
    "        # Break episode/epoch loop\n",
    "        ## Option 1: Solve the First Version\n",
    "        #The task is episodic, and in order to solve the environment, \n",
    "        #your agent must get an average score of +30 over 100 consecutive episodes.\n",
    "        if np.mean(episode_reward) >= 500:\n",
    "            break\n",
    "            \n",
    "    # At the end of all training episodes/epochs\n",
    "    saver.save(sess, 'checkpoints/model.ckpt')"
   ]
  },
  {
   "cell_type": "markdown",
   "metadata": {},
   "source": [
    "# Visualizing training\n",
    "\n",
    "Below I'll plot the total rewards for each episode. I'm plotting the rolling average too, in blue."
   ]
  },
  {
   "cell_type": "code",
   "execution_count": null,
   "metadata": {},
   "outputs": [],
   "source": [
    "import matplotlib.pyplot as plt\n",
    "%matplotlib inline\n",
    "\n",
    "def running_mean(x, N):\n",
    "    cumsum = np.cumsum(np.insert(x, 0, 0)) \n",
    "    return (cumsum[N:] - cumsum[:-N]) / N "
   ]
  },
  {
   "cell_type": "code",
   "execution_count": null,
   "metadata": {},
   "outputs": [],
   "source": [
    "eps, arr = np.array(episode_rewards_list).T\n",
    "smoothed_arr = running_mean(arr, 10)\n",
    "plt.plot(eps[-len(smoothed_arr):], smoothed_arr)\n",
    "plt.plot(eps, arr, color='grey', alpha=0.3)\n",
    "plt.xlabel('Episode')\n",
    "plt.ylabel('Total rewards')"
   ]
  },
  {
   "cell_type": "code",
   "execution_count": null,
   "metadata": {},
   "outputs": [],
   "source": [
    "eps, arr = np.array(rewards_list).T\n",
    "smoothed_arr = running_mean(arr, 10)\n",
    "plt.plot(eps[-len(smoothed_arr):], smoothed_arr)\n",
    "plt.plot(eps, arr, color='grey', alpha=0.3)\n",
    "plt.xlabel('Episode')\n",
    "plt.ylabel('Total rewards')"
   ]
  },
  {
   "cell_type": "code",
   "execution_count": null,
   "metadata": {},
   "outputs": [],
   "source": [
    "eps, arr = np.array(aloss_list).T\n",
    "smoothed_arr = running_mean(arr, 10)\n",
    "plt.plot(eps[-len(smoothed_arr):], smoothed_arr)\n",
    "plt.plot(eps, arr, color='grey', alpha=0.3)\n",
    "plt.xlabel('Episode')\n",
    "plt.ylabel('Act losses')"
   ]
  },
  {
   "cell_type": "code",
   "execution_count": null,
   "metadata": {},
   "outputs": [],
   "source": [
    "eps, arr = np.array(eloss_list).T\n",
    "smoothed_arr = running_mean(arr, 10)\n",
    "plt.plot(eps[-len(smoothed_arr):], smoothed_arr)\n",
    "plt.plot(eps, arr, color='grey', alpha=0.3)\n",
    "plt.xlabel('Episode')\n",
    "plt.ylabel('Env losses')"
   ]
  },
  {
   "cell_type": "code",
   "execution_count": null,
   "metadata": {},
   "outputs": [],
   "source": [
    "eps, arr = np.array(aloss2_list).T\n",
    "smoothed_arr = running_mean(arr, 10)\n",
    "plt.plot(eps[-len(smoothed_arr):], smoothed_arr)\n",
    "plt.plot(eps, arr, color='grey', alpha=0.3)\n",
    "plt.xlabel('Episode')\n",
    "plt.ylabel('Act losses 2')"
   ]
  },
  {
   "cell_type": "markdown",
   "metadata": {},
   "source": [
    "## Testing\n",
    "\n",
    "Let's checkout how our trained agent plays the game."
   ]
  },
  {
   "cell_type": "code",
   "execution_count": 21,
   "metadata": {},
   "outputs": [
    {
     "name": "stdout",
     "output_type": "stream",
     "text": [
      "INFO:tensorflow:Restoring parameters from checkpoints/model.ckpt\n",
      "total_reward: 500.0\n",
      "total_reward: 500.0\n",
      "total_reward: 500.0\n",
      "total_reward: 500.0\n",
      "total_reward: 500.0\n",
      "total_reward: 500.0\n",
      "total_reward: 500.0\n",
      "total_reward: 500.0\n",
      "total_reward: 500.0\n",
      "total_reward: 500.0\n"
     ]
    }
   ],
   "source": [
    "import gym\n",
    "env = gym.make('CartPole-v0')\n",
    "env = gym.make('CartPole-v1')\n",
    "\n",
    "with tf.Session() as sess:\n",
    "    sess.run(tf.global_variables_initializer())\n",
    "    saver.restore(sess, 'checkpoints/model.ckpt')    \n",
    "    #saver.restore(sess, tf.train.latest_checkpoint('checkpoints'))\n",
    "    \n",
    "    # Episodes/epochs\n",
    "    for _ in range(10):\n",
    "        state = env.reset()\n",
    "        total_reward = 0\n",
    "\n",
    "        # Steps/batches\n",
    "        while True:\n",
    "            env.render()\n",
    "            action_logits = sess.run(model.actions_logits, feed_dict={model.states: state.reshape([1, -1])})\n",
    "            action = np.argmax(action_logits)\n",
    "            state, reward, done, _ = env.step(action)\n",
    "            total_reward += reward\n",
    "            if done:\n",
    "                print('total_reward: {}'.format(total_reward))\n",
    "                break\n",
    "                \n",
    "env.close()"
   ]
  },
  {
   "cell_type": "code",
   "execution_count": null,
   "metadata": {},
   "outputs": [],
   "source": []
  }
 ],
 "metadata": {
  "kernelspec": {
   "display_name": "Python 3",
   "language": "python",
   "name": "python3"
  },
  "language_info": {
   "codemirror_mode": {
    "name": "ipython",
    "version": 3
   },
   "file_extension": ".py",
   "mimetype": "text/x-python",
   "name": "python",
   "nbconvert_exporter": "python",
   "pygments_lexer": "ipython3",
   "version": "3.6.6"
  }
 },
 "nbformat": 4,
 "nbformat_minor": 2
}
