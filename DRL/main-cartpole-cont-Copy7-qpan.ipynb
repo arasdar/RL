{
 "cells": [
  {
   "cell_type": "code",
   "execution_count": 1,
   "metadata": {},
   "outputs": [
    {
     "name": "stdout",
     "output_type": "stream",
     "text": [
      "TensorFlow Version: 1.7.1\n",
      "Default GPU Device: \n"
     ]
    }
   ],
   "source": [
    "# In this one we should define and detect GPUs for tensorflow\n",
    "# GPUs or CPU\n",
    "import tensorflow as tf\n",
    "\n",
    "# Check TensorFlow Version\n",
    "print('TensorFlow Version: {}'.format(tf.__version__))\n",
    "\n",
    "# Check for a GPU\n",
    "print('Default GPU Device: {}'.format(tf.test.gpu_device_name()))"
   ]
  },
  {
   "cell_type": "markdown",
   "metadata": {},
   "source": [
    "##### >**Note:** Make sure you have OpenAI Gym cloned. Then run this command `pip install -e gym/[all]`."
   ]
  },
  {
   "cell_type": "code",
   "execution_count": 2,
   "metadata": {},
   "outputs": [],
   "source": [
    "import numpy as np\n",
    "import gym\n",
    "env = gym.make('CartPole-v0')\n",
    "env = gym.make('CartPole-v1')"
   ]
  },
  {
   "cell_type": "code",
   "execution_count": 3,
   "metadata": {},
   "outputs": [],
   "source": [
    "def model_input(state_size):\n",
    "    #states = tf.placeholder(tf.float32, [None, *state_size], name='states')\n",
    "    states = tf.placeholder(tf.float32, [None, state_size], name='states')\n",
    "    actions = tf.placeholder(tf.int32, [None], name='actions')\n",
    "    targetQs = tf.placeholder(tf.float32, [None], name='targetQs')\n",
    "    rates = tf.placeholder(tf.float32, [None], name='rates')\n",
    "    return states, actions, targetQs, rates"
   ]
  },
  {
   "cell_type": "code",
   "execution_count": 4,
   "metadata": {},
   "outputs": [],
   "source": [
    "# Generator/Controller: Generating/prediting the actions\n",
    "def generator(states, action_size, hidden_size, reuse=False, alpha=0.1, training=False):\n",
    "    with tf.variable_scope('generator', reuse=reuse):\n",
    "        # First fully connected layer\n",
    "        h1 = tf.layers.dense(inputs=states, units=hidden_size)\n",
    "        bn1 = tf.layers.batch_normalization(h1, training=training)        \n",
    "        nl1 = tf.maximum(alpha * bn1, bn1)\n",
    "        \n",
    "        # Second fully connected layer\n",
    "        h2 = tf.layers.dense(inputs=nl1, units=hidden_size)\n",
    "        bn2 = tf.layers.batch_normalization(h2, training=training)        \n",
    "        nl2 = tf.maximum(alpha * bn2, bn2)\n",
    "        \n",
    "        # Output layer\n",
    "        logits = tf.layers.dense(inputs=nl2, units=action_size)        \n",
    "        #predictions = tf.nn.softmax(logits)\n",
    "\n",
    "        # return actions logits\n",
    "        return logits"
   ]
  },
  {
   "cell_type": "code",
   "execution_count": 5,
   "metadata": {},
   "outputs": [],
   "source": [
    "def discriminator(states, actions, hidden_size, reuse=False, alpha=0.1, training=False):\n",
    "    with tf.variable_scope('discriminator', reuse=reuse):\n",
    "        # First fully connected layer\n",
    "        h1 = tf.layers.dense(inputs=states, units=action_size)\n",
    "        bn1 = tf.layers.batch_normalization(h1, training=training)        \n",
    "        nl1 = tf.maximum(alpha * bn1, bn1)\n",
    "        \n",
    "        # Second fully connected layer\n",
    "        nl1_fused = tf.concat(axis=1, values=[nl1, actions])\n",
    "        h2 = tf.layers.dense(inputs=nl1_fused, units=hidden_size)\n",
    "        bn2 = tf.layers.batch_normalization(h2, training=training)        \n",
    "        nl2 = tf.maximum(alpha * bn2, bn2)\n",
    "                \n",
    "        # Output layer\n",
    "        logits = tf.layers.dense(inputs=nl2, units=1)        \n",
    "        #predictions = tf.nn.softmax(logits)\n",
    "\n",
    "        # return rewards logits\n",
    "        return logits"
   ]
  },
  {
   "cell_type": "code",
   "execution_count": 6,
   "metadata": {},
   "outputs": [],
   "source": [
    "def model_loss(action_size, hidden_size, states, actions, targetQs, rates):\n",
    "    actions_logits = generator(states=states, hidden_size=hidden_size, action_size=action_size)\n",
    "    actions_labels = tf.one_hot(indices=actions, depth=action_size, dtype=actions_logits.dtype)\n",
    "    neg_log_prob = tf.nn.softmax_cross_entropy_with_logits_v2(logits=actions_logits, \n",
    "                                                              labels=actions_labels)\n",
    "    targetQs = tf.reshape(targetQs, shape=[-1, 1])\n",
    "    glossP = tf.reduce_mean(neg_log_prob * targetQs) # DPG\n",
    "    gQs = discriminator(actions=actions_logits, hidden_size=hidden_size, states=states)\n",
    "    rates = tf.reshape(rates, shape=[-1, 1])\n",
    "    glossA = tf.reduce_mean(tf.nn.sigmoid_cross_entropy_with_logits(logits=gQs, # GAN\n",
    "                                                                    labels=rates)) # 0-1\n",
    "    glossA += tf.reduce_mean(tf.nn.sigmoid_cross_entropy_with_logits(logits=gQs, # GAN\n",
    "                                                                     labels=tf.nn.sigmoid(targetQs))) # 0-1\n",
    "    dQs = discriminator(actions=actions_labels, hidden_size=hidden_size, states=states, reuse=True)\n",
    "    dlossA = tf.reduce_mean(tf.nn.sigmoid_cross_entropy_with_logits(logits=dQs, # GAN\n",
    "                                                                    labels=rates)) # 0-1\n",
    "    dlossA += tf.reduce_mean(tf.nn.sigmoid_cross_entropy_with_logits(logits=dQs, # GAN\n",
    "                                                                     labels=tf.nn.sigmoid(targetQs))) # 0-1\n",
    "    dlossA += tf.reduce_mean(tf.nn.sigmoid_cross_entropy_with_logits(logits=gQs, # GAN\n",
    "                                                                     labels=tf.zeros_like(targetQs))) # 0-1\n",
    "    glossQ = tf.reduce_mean(tf.square(gQs - targetQs)) # DQN\n",
    "    dlossQ = tf.reduce_mean(tf.square(dQs - targetQs)) # DQN\n",
    "    return actions_logits, gQs, glossP, glossA, dlossA, glossQ, dlossQ"
   ]
  },
  {
   "cell_type": "code",
   "execution_count": 8,
   "metadata": {},
   "outputs": [],
   "source": [
    "def model_opt(g_lossP, g_lossA, d_lossA, g_learning_rate, d_learning_rate):\n",
    "    # Get weights and bias to update\n",
    "    t_vars = tf.trainable_variables()\n",
    "    g_vars = [var for var in t_vars if var.name.startswith('generator')]\n",
    "    d_vars = [var for var in t_vars if var.name.startswith('discriminator')]\n",
    "\n",
    "    # Optimize\n",
    "    with tf.control_dependencies(tf.get_collection(tf.GraphKeys.UPDATE_OPS)): # Required for batchnorm (BN)\n",
    "        g_optP = tf.train.AdamOptimizer(g_learning_rate).minimize(g_lossP, var_list=g_vars)\n",
    "        g_optA = tf.train.AdamOptimizer(g_learning_rate).minimize(g_lossA, var_list=g_vars)\n",
    "        d_optA = tf.train.AdamOptimizer(d_learning_rate).minimize(d_lossA, var_list=d_vars)\n",
    "    return g_optP, g_optA, d_optA"
   ]
  },
  {
   "cell_type": "code",
   "execution_count": 9,
   "metadata": {},
   "outputs": [],
   "source": [
    "class Model:\n",
    "    def __init__(self, state_size, action_size, hidden_size, g_learning_rate, d_learning_rate):\n",
    "\n",
    "        # Data of the Model: make the data available inside the framework\n",
    "        self.states, self.actions, self.targetQs, self.rates = model_input(state_size=state_size)\n",
    "\n",
    "        # Create the Model: calculating the loss and forwad pass\n",
    "        self.actions_logits, self.Qs_logits, self.g_lossP, self.g_lossA, self.d_lossA, self.g_lossQ, self.d_lossQ = model_loss(\n",
    "            action_size=action_size, hidden_size=hidden_size, # model init parameters\n",
    "            states=self.states, actions=self.actions, targetQs=self.targetQs, rates=self.rates) # model input\n",
    "        \n",
    "        # Update the model: backward pass and backprop\n",
    "        self.g_optP, self.g_optA, self.d_optA = model_opt(g_lossP=self.g_lossP, \n",
    "                                                          g_lossA=self.g_lossA, \n",
    "                                                          d_lossA=self.d_lossA, \n",
    "                                                          g_learning_rate=g_learning_rate, \n",
    "                                                          d_learning_rate=d_learning_rate)"
   ]
  },
  {
   "cell_type": "code",
   "execution_count": 10,
   "metadata": {},
   "outputs": [],
   "source": [
    "from collections import deque\n",
    "class Memory():\n",
    "    def __init__(self, max_size = 1000):\n",
    "        self.buffer = deque(maxlen=max_size) # data batch\n",
    "        self.rates = deque(maxlen=max_size) # rates\n",
    "#     def sample(self, batch_size):\n",
    "#         idx = np.random.choice(np.arange(len(self.buffer)), # ==  self.rates\n",
    "#                                size=batch_size, \n",
    "#                                replace=False)\n",
    "#         return [self.buffer[ii] for ii in idx], [self.rates[ii] for ii in idx]"
   ]
  },
  {
   "cell_type": "markdown",
   "metadata": {},
   "source": [
    "## Hyperparameters\n",
    "\n",
    "One of the more difficult aspects of reinforcememt learning are the large number of hyperparameters. Not only are we tuning the network, but we're tuning the simulation."
   ]
  },
  {
   "cell_type": "code",
   "execution_count": 11,
   "metadata": {},
   "outputs": [
    {
     "data": {
      "text/plain": [
       "(Box(4,), Discrete(2))"
      ]
     },
     "execution_count": 11,
     "metadata": {},
     "output_type": "execute_result"
    }
   ],
   "source": [
    "env.observation_space, env.action_space"
   ]
  },
  {
   "cell_type": "code",
   "execution_count": 12,
   "metadata": {},
   "outputs": [],
   "source": [
    "# Exploration parameters\n",
    "explore_start = 1.0            # exploration probability at start\n",
    "explore_stop = 0.01           # minimum exploration probability \n",
    "decay_rate = 0.0001            # exponential decay rate for exploration prob\n",
    "\n",
    "# Network parameters\n",
    "state_size = 4\n",
    "action_size = 2\n",
    "hidden_size = 4*2             # number of units in each Q-network hidden layer\n",
    "g_learning_rate = 1e-4         # Q-network learning rate\n",
    "d_learning_rate = 1e-4         # Q-network learning rate\n",
    "\n",
    "# Memory parameters\n",
    "memory_size = int(1e5)            # memory capacity\n",
    "batch_size = int(1e3)             # experience mini-batch size: 200/500 a successfull episode size\n",
    "gamma = 0.99                   # future reward discount"
   ]
  },
  {
   "cell_type": "code",
   "execution_count": 13,
   "metadata": {},
   "outputs": [],
   "source": [
    "# Reset/init the graph/session\n",
    "graph = tf.reset_default_graph()\n",
    "\n",
    "# Init the model\n",
    "model = Model(action_size=action_size, state_size=state_size, hidden_size=hidden_size,\n",
    "              g_learning_rate=g_learning_rate, d_learning_rate=d_learning_rate)\n",
    "\n",
    "# Init the memory\n",
    "memory = Memory(max_size=memory_size)"
   ]
  },
  {
   "cell_type": "code",
   "execution_count": 14,
   "metadata": {},
   "outputs": [],
   "source": [
    "state = env.reset()\n",
    "total_reward = 0\n",
    "num_step = 0\n",
    "for _ in range(memory_size):\n",
    "    action = env.action_space.sample()\n",
    "    next_state, reward, done, _ = env.step(action)\n",
    "    memory.buffer.append([state, action, next_state, reward, float(done)])\n",
    "    memory.rates.append(-1) # empty\n",
    "    num_step += 1 # memory incremented\n",
    "    total_reward += reward\n",
    "    state = next_state\n",
    "    if done is True:\n",
    "        state = env.reset()\n",
    "        rate = total_reward/500\n",
    "        total_reward = 0 # reset\n",
    "        for idx in range(num_step): # episode length\n",
    "            if memory.rates[-1-idx] == -1:\n",
    "                memory.rates[-1-idx] = rate\n",
    "        num_step = 0 # reset"
   ]
  },
  {
   "cell_type": "markdown",
   "metadata": {},
   "source": [
    "## Training the model\n",
    "\n",
    "Below we'll train our agent. If you want to watch it train, uncomment the `env.render()` line. This is slow because it's rendering the frames slower than the network can train. But, it's cool to watch the agent get better at the game."
   ]
  },
  {
   "cell_type": "code",
   "execution_count": null,
   "metadata": {},
   "outputs": [
    {
     "name": "stdout",
     "output_type": "stream",
     "text": [
      "Episode:0 meanR:15.0000 R:15.0000 rate:0.0300 glossP:0.7149 dlossA:2.1780 glossA:1.3908 glossQ:1.0005 dlossQ:0.6405 exploreP:0.9985\n",
      "Episode:1 meanR:18.0000 R:21.0000 rate:0.0420 glossP:0.7084 dlossA:2.1718 glossA:1.3898 glossQ:1.0005 dlossQ:0.6566 exploreP:0.9964\n",
      "Episode:2 meanR:17.3333 R:16.0000 rate:0.0320 glossP:0.6999 dlossA:2.1604 glossA:1.3889 glossQ:1.0007 dlossQ:0.6765 exploreP:0.9949\n",
      "Episode:3 meanR:17.7500 R:19.0000 rate:0.0380 glossP:0.7004 dlossA:2.1477 glossA:1.3871 glossQ:1.0000 dlossQ:0.6809 exploreP:0.9930\n",
      "Episode:4 meanR:17.2000 R:15.0000 rate:0.0300 glossP:0.6900 dlossA:2.1454 glossA:1.3861 glossQ:1.0009 dlossQ:0.6772 exploreP:0.9915\n",
      "Episode:5 meanR:20.1667 R:35.0000 rate:0.0700 glossP:0.6861 dlossA:2.1352 glossA:1.3853 glossQ:1.0011 dlossQ:0.7023 exploreP:0.9881\n",
      "Episode:6 meanR:20.7143 R:24.0000 rate:0.0480 glossP:0.6782 dlossA:2.1242 glossA:1.3835 glossQ:1.0014 dlossQ:0.7188 exploreP:0.9857\n",
      "Episode:7 meanR:19.3750 R:10.0000 rate:0.0200 glossP:0.6709 dlossA:2.1211 glossA:1.3825 glossQ:1.0016 dlossQ:0.7240 exploreP:0.9848\n",
      "Episode:8 meanR:20.3333 R:28.0000 rate:0.0560 glossP:0.6718 dlossA:2.1128 glossA:1.3822 glossQ:1.0018 dlossQ:0.7222 exploreP:0.9820\n",
      "Episode:9 meanR:22.6000 R:43.0000 rate:0.0860 glossP:0.6639 dlossA:2.1032 glossA:1.3810 glossQ:1.0022 dlossQ:0.7590 exploreP:0.9779\n",
      "Episode:10 meanR:25.5455 R:55.0000 rate:0.1100 glossP:0.6551 dlossA:2.0866 glossA:1.3793 glossQ:1.0028 dlossQ:0.7835 exploreP:0.9726\n",
      "Episode:11 meanR:26.2500 R:34.0000 rate:0.0680 glossP:0.6494 dlossA:2.0745 glossA:1.3782 glossQ:1.0036 dlossQ:0.8204 exploreP:0.9693\n",
      "Episode:12 meanR:25.4615 R:16.0000 rate:0.0320 glossP:0.6419 dlossA:2.0686 glossA:1.3766 glossQ:1.0037 dlossQ:0.8286 exploreP:0.9678\n",
      "Episode:13 meanR:24.7143 R:15.0000 rate:0.0300 glossP:0.6425 dlossA:2.0614 glossA:1.3754 glossQ:1.0041 dlossQ:0.8369 exploreP:0.9663\n",
      "Episode:14 meanR:25.2000 R:32.0000 rate:0.0640 glossP:0.6326 dlossA:2.0582 glossA:1.3760 glossQ:1.0045 dlossQ:0.8526 exploreP:0.9633\n",
      "Episode:15 meanR:24.9375 R:21.0000 rate:0.0420 glossP:0.6299 dlossA:2.0499 glossA:1.3744 glossQ:1.0050 dlossQ:0.8575 exploreP:0.9613\n",
      "Episode:16 meanR:25.4118 R:33.0000 rate:0.0660 glossP:0.6322 dlossA:2.0427 glossA:1.3718 glossQ:1.0092 dlossQ:0.8648 exploreP:0.9581\n",
      "Episode:17 meanR:24.9444 R:17.0000 rate:0.0340 glossP:0.6199 dlossA:2.0362 glossA:1.3720 glossQ:1.0057 dlossQ:0.8811 exploreP:0.9565\n",
      "Episode:18 meanR:24.4737 R:16.0000 rate:0.0320 glossP:0.6121 dlossA:2.0316 glossA:1.3725 glossQ:1.0059 dlossQ:0.8897 exploreP:0.9550\n",
      "Episode:19 meanR:23.8500 R:12.0000 rate:0.0240 glossP:0.6057 dlossA:2.0281 glossA:1.3689 glossQ:1.0070 dlossQ:0.8876 exploreP:0.9539\n",
      "Episode:20 meanR:24.3810 R:35.0000 rate:0.0700 glossP:0.6016 dlossA:2.0193 glossA:1.3685 glossQ:1.0094 dlossQ:0.8953 exploreP:0.9506\n",
      "Episode:21 meanR:24.3182 R:23.0000 rate:0.0460 glossP:0.5908 dlossA:2.0125 glossA:1.3685 glossQ:1.0079 dlossQ:0.8971 exploreP:0.9484\n",
      "Episode:22 meanR:24.1304 R:20.0000 rate:0.0400 glossP:0.5821 dlossA:2.0017 glossA:1.3625 glossQ:1.0099 dlossQ:0.8713 exploreP:0.9466\n",
      "Episode:23 meanR:24.8333 R:41.0000 rate:0.0820 glossP:0.5685 dlossA:1.9907 glossA:1.3626 glossQ:1.0108 dlossQ:0.8838 exploreP:0.9427\n",
      "Episode:24 meanR:24.4000 R:14.0000 rate:0.0280 glossP:0.5615 dlossA:1.9798 glossA:1.3583 glossQ:1.0120 dlossQ:0.8768 exploreP:0.9414\n",
      "Episode:25 meanR:24.1154 R:17.0000 rate:0.0340 glossP:0.5449 dlossA:1.9669 glossA:1.3542 glossQ:1.0130 dlossQ:0.8493 exploreP:0.9398\n",
      "Episode:26 meanR:23.8519 R:17.0000 rate:0.0340 glossP:0.5394 dlossA:1.9671 glossA:1.3598 glossQ:1.0144 dlossQ:0.8497 exploreP:0.9383\n",
      "Episode:27 meanR:23.6786 R:19.0000 rate:0.0380 glossP:0.5341 dlossA:1.9599 glossA:1.3575 glossQ:1.0132 dlossQ:0.8576 exploreP:0.9365\n",
      "Episode:28 meanR:23.2759 R:12.0000 rate:0.0240 glossP:0.5200 dlossA:1.9488 glossA:1.3533 glossQ:1.0150 dlossQ:0.8415 exploreP:0.9354\n",
      "Episode:29 meanR:23.7000 R:36.0000 rate:0.0720 glossP:0.4999 dlossA:1.9323 glossA:1.3484 glossQ:1.0175 dlossQ:0.8004 exploreP:0.9321\n",
      "Episode:30 meanR:23.7097 R:24.0000 rate:0.0480 glossP:0.4879 dlossA:1.9221 glossA:1.3484 glossQ:1.0185 dlossQ:0.7916 exploreP:0.9298\n",
      "Episode:31 meanR:23.4688 R:16.0000 rate:0.0320 glossP:0.4750 dlossA:1.9125 glossA:1.3466 glossQ:1.0198 dlossQ:0.7748 exploreP:0.9284\n",
      "Episode:32 meanR:23.3939 R:21.0000 rate:0.0420 glossP:0.4496 dlossA:1.8924 glossA:1.3420 glossQ:1.0305 dlossQ:0.7245 exploreP:0.9264\n",
      "Episode:33 meanR:23.1765 R:16.0000 rate:0.0320 glossP:0.4295 dlossA:1.8802 glossA:1.3359 glossQ:1.0248 dlossQ:0.6947 exploreP:0.9250\n",
      "Episode:34 meanR:23.4857 R:34.0000 rate:0.0680 glossP:0.4221 dlossA:1.8721 glossA:1.3345 glossQ:1.0234 dlossQ:0.6894 exploreP:0.9219\n",
      "Episode:35 meanR:23.4167 R:21.0000 rate:0.0420 glossP:0.3954 dlossA:1.8554 glossA:1.3332 glossQ:1.0243 dlossQ:0.6533 exploreP:0.9200\n",
      "Episode:36 meanR:23.3784 R:22.0000 rate:0.0440 glossP:0.3746 dlossA:1.8351 glossA:1.3233 glossQ:1.0384 dlossQ:0.6136 exploreP:0.9180\n",
      "Episode:37 meanR:23.7632 R:38.0000 rate:0.0760 glossP:0.3553 dlossA:1.8227 glossA:1.3229 glossQ:1.0326 dlossQ:0.5960 exploreP:0.9145\n",
      "Episode:38 meanR:23.6667 R:20.0000 rate:0.0400 glossP:0.3396 dlossA:1.8096 glossA:1.3190 glossQ:1.0352 dlossQ:0.5883 exploreP:0.9127\n",
      "Episode:39 meanR:23.5000 R:17.0000 rate:0.0340 glossP:0.3194 dlossA:1.7950 glossA:1.3159 glossQ:1.0376 dlossQ:0.5453 exploreP:0.9112\n",
      "Episode:40 meanR:24.2927 R:56.0000 rate:0.1120 glossP:0.3089 dlossA:1.7885 glossA:1.3167 glossQ:1.0367 dlossQ:0.5597 exploreP:0.9061\n",
      "Episode:41 meanR:24.5714 R:36.0000 rate:0.0720 glossP:0.2942 dlossA:1.7727 glossA:1.3090 glossQ:1.0424 dlossQ:0.5622 exploreP:0.9029\n",
      "Episode:42 meanR:24.6279 R:27.0000 rate:0.0540 glossP:0.2816 dlossA:1.7652 glossA:1.3120 glossQ:1.0407 dlossQ:0.5623 exploreP:0.9005\n",
      "Episode:43 meanR:24.4773 R:18.0000 rate:0.0360 glossP:0.2751 dlossA:1.7616 glossA:1.3123 glossQ:1.0439 dlossQ:0.5598 exploreP:0.8989\n",
      "Episode:44 meanR:24.8889 R:43.0000 rate:0.0860 glossP:0.2784 dlossA:1.7553 glossA:1.3076 glossQ:1.0613 dlossQ:0.5936 exploreP:0.8951\n",
      "Episode:45 meanR:24.5870 R:11.0000 rate:0.0220 glossP:0.2568 dlossA:1.7457 glossA:1.3049 glossQ:1.0334 dlossQ:0.5522 exploreP:0.8941\n",
      "Episode:46 meanR:24.3191 R:12.0000 rate:0.0240 glossP:0.2679 dlossA:1.7494 glossA:1.3059 glossQ:1.0390 dlossQ:0.5883 exploreP:0.8931\n",
      "Episode:47 meanR:24.3333 R:25.0000 rate:0.0500 glossP:0.2610 dlossA:1.7425 glossA:1.3031 glossQ:1.0453 dlossQ:0.5893 exploreP:0.8909\n",
      "Episode:48 meanR:24.1020 R:13.0000 rate:0.0260 glossP:0.2871 dlossA:1.7594 glossA:1.3095 glossQ:1.0405 dlossQ:0.6687 exploreP:0.8897\n",
      "Episode:49 meanR:24.3000 R:34.0000 rate:0.0680 glossP:0.2532 dlossA:1.7362 glossA:1.3025 glossQ:1.0427 dlossQ:0.6034 exploreP:0.8867\n",
      "Episode:50 meanR:24.2941 R:24.0000 rate:0.0480 glossP:0.2568 dlossA:1.7406 glossA:1.3094 glossQ:1.0410 dlossQ:0.6329 exploreP:0.8846\n",
      "Episode:51 meanR:24.5962 R:40.0000 rate:0.0800 glossP:0.2524 dlossA:1.7365 glossA:1.3070 glossQ:1.0420 dlossQ:0.6415 exploreP:0.8811\n",
      "Episode:52 meanR:24.4717 R:18.0000 rate:0.0360 glossP:0.2626 dlossA:1.7362 glossA:1.3095 glossQ:1.0809 dlossQ:0.6866 exploreP:0.8796\n",
      "Episode:53 meanR:24.4815 R:25.0000 rate:0.0500 glossP:0.2646 dlossA:1.7393 glossA:1.3054 glossQ:1.0455 dlossQ:0.7029 exploreP:0.8774\n",
      "Episode:54 meanR:24.2545 R:12.0000 rate:0.0240 glossP:0.2471 dlossA:1.7284 glossA:1.3020 glossQ:1.0446 dlossQ:0.6763 exploreP:0.8764\n",
      "Episode:55 meanR:24.3571 R:30.0000 rate:0.0600 glossP:0.2652 dlossA:1.7381 glossA:1.3069 glossQ:1.0443 dlossQ:0.7310 exploreP:0.8738\n",
      "Episode:56 meanR:24.5263 R:34.0000 rate:0.0680 glossP:0.2596 dlossA:1.7382 glossA:1.3095 glossQ:1.0423 dlossQ:0.7383 exploreP:0.8708\n",
      "Episode:57 meanR:24.3793 R:16.0000 rate:0.0320 glossP:0.2504 dlossA:1.7325 glossA:1.3081 glossQ:1.0451 dlossQ:0.7320 exploreP:0.8695\n",
      "Episode:58 meanR:24.4915 R:31.0000 rate:0.0620 glossP:0.2725 dlossA:1.7447 glossA:1.3122 glossQ:1.0416 dlossQ:0.8068 exploreP:0.8668\n",
      "Episode:59 meanR:24.3167 R:14.0000 rate:0.0280 glossP:0.2644 dlossA:1.7383 glossA:1.3080 glossQ:1.0419 dlossQ:0.7946 exploreP:0.8656\n",
      "Episode:60 meanR:24.4098 R:30.0000 rate:0.0600 glossP:0.2641 dlossA:1.7386 glossA:1.3090 glossQ:1.0429 dlossQ:0.8126 exploreP:0.8630\n",
      "Episode:61 meanR:24.3548 R:21.0000 rate:0.0420 glossP:0.2689 dlossA:1.7440 glossA:1.3131 glossQ:1.0502 dlossQ:0.8521 exploreP:0.8612\n"
     ]
    },
    {
     "name": "stdout",
     "output_type": "stream",
     "text": [
      "Episode:62 meanR:25.0159 R:66.0000 rate:0.1320 glossP:0.2624 dlossA:1.7325 glossA:1.3050 glossQ:1.0455 dlossQ:0.8549 exploreP:0.8556\n",
      "Episode:63 meanR:24.9375 R:20.0000 rate:0.0400 glossP:0.2502 dlossA:1.7307 glossA:1.3096 glossQ:1.0411 dlossQ:0.8587 exploreP:0.8540\n",
      "Episode:64 meanR:25.5077 R:62.0000 rate:0.1240 glossP:0.2348 dlossA:1.7187 glossA:1.3058 glossQ:1.0428 dlossQ:0.8387 exploreP:0.8487\n",
      "Episode:65 meanR:25.2879 R:11.0000 rate:0.0220 glossP:0.2302 dlossA:1.7068 glossA:1.2972 glossQ:1.0508 dlossQ:0.8569 exploreP:0.8478\n",
      "Episode:66 meanR:25.1194 R:14.0000 rate:0.0280 glossP:0.2176 dlossA:1.6990 glossA:1.2944 glossQ:1.0446 dlossQ:0.8423 exploreP:0.8466\n"
     ]
    }
   ],
   "source": [
    "# Save/load the model and save for plotting\n",
    "saver = tf.train.Saver()\n",
    "episode_rewards_list, rewards_list = [], []\n",
    "# gloss_list, dloss_list = [], []\n",
    "\n",
    "# TF session for training\n",
    "with tf.Session(graph=graph) as sess:\n",
    "    sess.run(tf.global_variables_initializer())\n",
    "    #saver.restore(sess, 'checkpoints/model.ckpt')    \n",
    "    #saver.restore(sess, tf.train.latest_checkpoint('checkpoints'))\n",
    "    total_step = 0 # Explore or exploit parameter\n",
    "    episode_reward = deque(maxlen=100) # 100 episodes average/running average/running mean/window\n",
    "\n",
    "    # Training episodes/epochs\n",
    "    for ep in range(1111*3):\n",
    "        total_reward = 0 # each episode\n",
    "        glossP_batch, glossA_batch, dlossA_batch= [], [], []\n",
    "        glossQ_batch, dlossQ_batch= [], []\n",
    "        state = env.reset() # each episode\n",
    "        num_step = 0 # each episode\n",
    "\n",
    "        # Training steps/batches\n",
    "        while True:\n",
    "            # Explore (Env) or Exploit (Model)\n",
    "            total_step += 1\n",
    "            explore_p = explore_stop + (explore_start - explore_stop) * np.exp(-decay_rate * total_step) \n",
    "            if explore_p > np.random.rand():\n",
    "                action = env.action_space.sample()\n",
    "            else:\n",
    "                action_logits = sess.run(model.actions_logits, feed_dict={model.states: state.reshape([1, -1])})\n",
    "                action = np.argmax(action_logits)\n",
    "            next_state, reward, done, _ = env.step(action)\n",
    "            memory.buffer.append([state, action, next_state, reward, float(done)])\n",
    "            memory.rates.append(-1) # empty\n",
    "            num_step += 1 # momory added\n",
    "            total_reward += reward\n",
    "            state = next_state\n",
    "            \n",
    "            # Rating the memory\n",
    "            if done is True:\n",
    "                rate = total_reward/500 # update rate at the end/ when episode is done\n",
    "                for idx in range(num_step): # episode length\n",
    "                    if memory.rates[-1-idx] == -1: # double-check the landmark/marked indexes\n",
    "                        memory.rates[-1-idx] = rate # rate the trajectory/data\n",
    "                        \n",
    "            # Training with the maxrated minibatch\n",
    "            batch = memory.buffer\n",
    "            percentage = 0.9\n",
    "            #for idx in range(memory_size// batch_size):\n",
    "            idx_arr = np.arange(memory_size// batch_size)\n",
    "            idx = np.random.choice(idx_arr)\n",
    "            states = np.array([each[0] for each in batch])[idx*batch_size:(idx+1)*batch_size]\n",
    "            actions = np.array([each[1] for each in batch])[idx*batch_size:(idx+1)*batch_size]\n",
    "            next_states = np.array([each[2] for each in batch])[idx*batch_size:(idx+1)*batch_size]\n",
    "            rewards = np.array([each[3] for each in batch])[idx*batch_size:(idx+1)*batch_size]\n",
    "            dones = np.array([each[4] for each in batch])[idx*batch_size:(idx+1)*batch_size]\n",
    "            rates = np.array(memory.rates)[idx*batch_size:(idx+1)*batch_size]\n",
    "            #print(states.shape, actions.shape, next_states.shape, rewards.shape, dones.shape, rates.shape)\n",
    "            states = states[rates >= (np.max(rates)*percentage)]\n",
    "            actions = actions[rates >= (np.max(rates)*percentage)]\n",
    "            next_states = next_states[rates >= (np.max(rates)*percentage)]\n",
    "            rewards = rewards[rates >= (np.max(rates)*percentage)]\n",
    "            dones = dones[rates >= (np.max(rates)*percentage)]\n",
    "            rates = rates[rates >= (np.max(rates)*percentage)]\n",
    "            #print(states.shape, actions.shape, next_states.shape, rewards.shape, dones.shape, rates.shape)\n",
    "            nextQs_logits = sess.run(model.Qs_logits, feed_dict = {model.states: next_states})\n",
    "            #nextQs = np.max(nextQs_logits, axis=1) * (1-dones) # DQN\n",
    "            nextQs = nextQs_logits.reshape([-1]) * (1-dones) # DPG\n",
    "            targetQs = rewards + (gamma * nextQs)\n",
    "            dlossA, _, glossQ, dlossQ = sess.run([model.d_lossA, model.d_optA,\n",
    "                                                  model.g_lossQ, model.d_lossQ],\n",
    "                                                 feed_dict = {model.states: states, \n",
    "                                                              model.actions: actions,\n",
    "                                                              model.targetQs: targetQs, \n",
    "                                                              model.rates: rates})\n",
    "            glossA, _ = sess.run([model.g_lossA, model.g_optA], feed_dict = {model.states: states, \n",
    "                                                                             model.actions: actions,\n",
    "                                                                             model.targetQs: targetQs, \n",
    "                                                                             model.rates: rates})\n",
    "            glossP, _ = sess.run([model.g_lossP, model.g_optP], feed_dict = {model.states: states, \n",
    "                                                                             model.actions: actions,\n",
    "                                                                             model.targetQs: targetQs, \n",
    "                                                                             model.rates: rates})\n",
    "            glossP_batch.append(glossP)\n",
    "            dlossA_batch.append(dlossA)\n",
    "            glossA_batch.append(glossA)\n",
    "            glossQ_batch.append(glossQ)\n",
    "            dlossQ_batch.append(dlossQ)\n",
    "            if done is True:\n",
    "                break\n",
    "                \n",
    "        episode_reward.append(total_reward)\n",
    "        print('Episode:{}'.format(ep),\n",
    "              'meanR:{:.4f}'.format(np.mean(episode_reward)),\n",
    "              'R:{:.4f}'.format(total_reward),\n",
    "              'rate:{:.4f}'.format(rate),\n",
    "              'glossP:{:.4f}'.format(np.mean(glossP_batch)),\n",
    "              'dlossA:{:.4f}'.format(np.mean(dlossA_batch)),\n",
    "              'glossA:{:.4f}'.format(np.mean(glossA_batch)),\n",
    "              'glossQ:{:.4f}'.format(np.mean(glossQ_batch)),\n",
    "              'dlossQ:{:.4f}'.format(np.mean(dlossQ_batch)),\n",
    "              'exploreP:{:.4f}'.format(explore_p))\n",
    "\n",
    "        # Ploting out\n",
    "        episode_rewards_list.append([ep, np.mean(episode_reward)])\n",
    "        rewards_list.append([ep, total_reward])\n",
    "        #gloss_list.append([ep, np.mean(gloss_batch)])\n",
    "        #dloss_list.append([ep, np.mean(dloss_batch)])\n",
    "        \n",
    "        # Break episode/epoch loop\n",
    "        ## Option 1: Solve the First Version\n",
    "        #The task is episodic, and in order to solve the environment, \n",
    "        #your agent must get an average score of +30 over 100 consecutive episodes.\n",
    "        if np.mean(episode_reward) >= 500:\n",
    "            break\n",
    "            \n",
    "    # At the end of all training episodes/epochs\n",
    "    saver.save(sess, 'checkpoints/model.ckpt')"
   ]
  },
  {
   "cell_type": "markdown",
   "metadata": {},
   "source": [
    "# Visualizing training\n",
    "\n",
    "Below I'll plot the total rewards for each episode. I'm plotting the rolling average too, in blue."
   ]
  },
  {
   "cell_type": "code",
   "execution_count": null,
   "metadata": {},
   "outputs": [],
   "source": [
    "import matplotlib.pyplot as plt\n",
    "%matplotlib inline\n",
    "\n",
    "def running_mean(x, N):\n",
    "    cumsum = np.cumsum(np.insert(x, 0, 0)) \n",
    "    return (cumsum[N:] - cumsum[:-N]) / N "
   ]
  },
  {
   "cell_type": "code",
   "execution_count": null,
   "metadata": {},
   "outputs": [],
   "source": [
    "eps, arr = np.array(episode_rewards_list).T\n",
    "smoothed_arr = running_mean(arr, 10)\n",
    "plt.plot(eps[-len(smoothed_arr):], smoothed_arr)\n",
    "plt.plot(eps, arr, color='grey', alpha=0.3)\n",
    "plt.xlabel('Episode')\n",
    "plt.ylabel('Total rewards')"
   ]
  },
  {
   "cell_type": "code",
   "execution_count": 16,
   "metadata": {},
   "outputs": [
    {
     "data": {
      "text/plain": [
       "Text(0, 0.5, 'Total rewards')"
      ]
     },
     "execution_count": 16,
     "metadata": {},
     "output_type": "execute_result"
    },
    {
     "data": {
      "image/png": "[encoded data removed]",
      "text/plain": [
       "<Figure size 432x288 with 1 Axes>"
      ]
     },
     "metadata": {
      "needs_background": "light"
     },
     "output_type": "display_data"
    }
   ],
   "source": [
    "eps, arr = np.array(episode_rewards_list).T\n",
    "smoothed_arr = running_mean(arr, 10)\n",
    "plt.plot(eps[-len(smoothed_arr):], smoothed_arr)\n",
    "plt.plot(eps, arr, color='grey', alpha=0.3)\n",
    "plt.xlabel('Episode')\n",
    "plt.ylabel('Total rewards')"
   ]
  },
  {
   "cell_type": "code",
   "execution_count": 17,
   "metadata": {},
   "outputs": [
    {
     "data": {
      "text/plain": [
       "Text(0, 0.5, 'Total rewards')"
      ]
     },
     "execution_count": 17,
     "metadata": {},
     "output_type": "execute_result"
    },
    {
     "data": {
      "image/png": "[encoded data removed]",
      "text/plain": [
       "<Figure size 432x288 with 1 Axes>"
      ]
     },
     "metadata": {
      "needs_background": "light"
     },
     "output_type": "display_data"
    }
   ],
   "source": [
    "eps, arr = np.array(episode_rewards_list).T\n",
    "smoothed_arr = running_mean(arr, 10)\n",
    "plt.plot(eps[-len(smoothed_arr):], smoothed_arr)\n",
    "plt.plot(eps, arr, color='grey', alpha=0.3)\n",
    "plt.xlabel('Episode')\n",
    "plt.ylabel('Total rewards')"
   ]
  },
  {
   "cell_type": "code",
   "execution_count": null,
   "metadata": {},
   "outputs": [],
   "source": [
    "eps, arr = np.array(rewards_list).T\n",
    "smoothed_arr = running_mean(arr, 10)\n",
    "plt.plot(eps[-len(smoothed_arr):], smoothed_arr)\n",
    "plt.plot(eps, arr, color='grey', alpha=0.3)\n",
    "plt.xlabel('Episode')\n",
    "plt.ylabel('Total rewards')"
   ]
  },
  {
   "cell_type": "code",
   "execution_count": null,
   "metadata": {},
   "outputs": [],
   "source": [
    "eps, arr = np.array(gloss_list).T\n",
    "smoothed_arr = running_mean(arr, 10)\n",
    "plt.plot(eps[-len(smoothed_arr):], smoothed_arr)\n",
    "plt.plot(eps, arr, color='grey', alpha=0.3)\n",
    "plt.xlabel('Episode')\n",
    "plt.ylabel('G losses')`"
   ]
  },
  {
   "cell_type": "code",
   "execution_count": null,
   "metadata": {},
   "outputs": [],
   "source": [
    "eps, arr = np.array(dloss_list).T\n",
    "smoothed_arr = running_mean(arr, 10)\n",
    "plt.plot(eps[-len(smoothed_arr):], smoothed_arr)\n",
    "plt.plot(eps, arr, color='grey', alpha=0.3)\n",
    "plt.xlabel('Episode')\n",
    "plt.ylabel('D losses')"
   ]
  },
  {
   "cell_type": "markdown",
   "metadata": {},
   "source": [
    "## Testing\n",
    "\n",
    "Let's checkout how our trained agent plays the game."
   ]
  },
  {
   "cell_type": "code",
   "execution_count": 36,
   "metadata": {},
   "outputs": [
    {
     "name": "stdout",
     "output_type": "stream",
     "text": [
      "\u001b[33mWARN: gym.spaces.Box autodetected dtype as <class 'numpy.float32'>. Please provide explicit dtype.\u001b[0m\n",
      "\u001b[33mWARN: gym.spaces.Box autodetected dtype as <class 'numpy.float32'>. Please provide explicit dtype.\u001b[0m\n",
      "INFO:tensorflow:Restoring parameters from checkpoints/model.ckpt\n"
     ]
    },
    {
     "name": "stderr",
     "output_type": "stream",
     "text": [
      "/home/arasdar/anaconda3/envs/env/lib/python3.6/site-packages/gym/__init__.py:22: UserWarning: DEPRECATION WARNING: to improve load times, gym no longer automatically loads gym.spaces. Please run \"import gym.spaces\" to load gym.spaces on your own. This warning will turn into an error in a future version of gym.\n",
      "  warnings.warn('DEPRECATION WARNING: to improve load times, gym no longer automatically loads gym.spaces. Please run \"import gym.spaces\" to load gym.spaces on your own. This warning will turn into an error in a future version of gym.')\n"
     ]
    },
    {
     "name": "stdout",
     "output_type": "stream",
     "text": [
      "total_reward: 500.0\n"
     ]
    }
   ],
   "source": [
    "import gym\n",
    "env = gym.make('CartPole-v0')\n",
    "env = gym.make('CartPole-v1')\n",
    "# env = gym.make('Acrobot-v1')\n",
    "# env = gym.make('MountainCar-v0')\n",
    "# env = gym.make('Pendulum-v0')\n",
    "# env = gym.make('Blackjack-v0')\n",
    "# env = gym.make('FrozenLake-v0')\n",
    "# env = gym.make('AirRaid-ram-v0')\n",
    "# env = gym.make('AirRaid-v0')\n",
    "# env = gym.make('BipedalWalker-v2')\n",
    "# env = gym.make('Copy-v0')\n",
    "# env = gym.make('CarRacing-v0')\n",
    "# env = gym.make('Ant-v2') #mujoco\n",
    "# env = gym.make('FetchPickAndPlace-v1') # mujoco required!\n",
    "\n",
    "with tf.Session() as sess:\n",
    "    sess.run(tf.global_variables_initializer())\n",
    "    saver.restore(sess, 'checkpoints/model.ckpt')    \n",
    "    #saver.restore(sess, tf.train.latest_checkpoint('checkpoints'))\n",
    "    \n",
    "    # Episodes/epochs\n",
    "    for _ in range(1):\n",
    "        state = env.reset()\n",
    "        total_reward = 0\n",
    "\n",
    "        # Steps/batches\n",
    "        while True:\n",
    "            env.render()\n",
    "            action_logits = sess.run(model.actions_logits, feed_dict={model.states: state.reshape([1, -1])})\n",
    "            action = np.argmax(action_logits)\n",
    "            state, reward, done, _ = env.step(action)\n",
    "            total_reward += reward\n",
    "            if done:\n",
    "                print('total_reward: {}'.format(total_reward))\n",
    "                break\n",
    "                \n",
    "env.close()"
   ]
  },
  {
   "cell_type": "markdown",
   "metadata": {},
   "source": [
    "## Extending this\n",
    "\n",
    "So, Cart-Pole is a pretty simple game. However, the same model can be used to train an agent to play something much more complicated like Pong or Space Invaders. Instead of a state like we're using here though, you'd want to use convolutional layers to get the state from the screen images.\n",
    "\n",
    "![Deep Q-Learning Atari](assets/atari-network.png)\n",
    "\n",
    "I'll leave it as a challenge for you to use deep Q-learning to train an agent to play Atari games. Here's the original paper which will get you started: http://www.davidqiu.com:8888/research/nature14236.pdf."
   ]
  },
  {
   "cell_type": "code",
   "execution_count": null,
   "metadata": {},
   "outputs": [],
   "source": []
  }
 ],
 "metadata": {
  "kernelspec": {
   "display_name": "Python 3",
   "language": "python",
   "name": "python3"
  },
  "language_info": {
   "codemirror_mode": {
    "name": "ipython",
    "version": 3
   },
   "file_extension": ".py",
   "mimetype": "text/x-python",
   "name": "python",
   "nbconvert_exporter": "python",
   "pygments_lexer": "ipython3",
   "version": "3.6.6"
  }
 },
 "nbformat": 4,
 "nbformat_minor": 2
}
