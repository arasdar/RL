{
 "cells": [
  {
   "cell_type": "markdown",
   "metadata": {},
   "source": [
    "# Policy gradients\n",
    "\n",
    "\n",
    "In this notebook, we'll build a neural network that can learn to play games through reinforcement learning. More specifically, we'll use Q-learning to train an agent to play a game called [Cart-Pole](https://gym.openai.com/envs/CartPole-v0). In this game, a freely swinging pole is attached to a cart. The cart can move to the left and right, and the goal is to keep the pole upright as long as possible.\n",
    "\n",
    "![Cart-Pole](assets/cart-pole.jpg)\n",
    "\n",
    "We can simulate this game using [OpenAI Gym](https://gym.openai.com/). First, let's check out how OpenAI Gym works. Then, we'll get into training an agent to play the Cart-Pole game."
   ]
  },
  {
   "cell_type": "code",
   "execution_count": 1,
   "metadata": {},
   "outputs": [
    {
     "name": "stdout",
     "output_type": "stream",
     "text": [
      "TensorFlow Version: 1.7.1\n",
      "Default GPU Device: \n"
     ]
    }
   ],
   "source": [
    "# In this one we should define and detect GPUs for tensorflow\n",
    "# GPUs or CPU\n",
    "import tensorflow as tf\n",
    "\n",
    "# Check TensorFlow Version\n",
    "print('TensorFlow Version: {}'.format(tf.__version__))\n",
    "\n",
    "# Check for a GPU\n",
    "print('Default GPU Device: {}'.format(tf.test.gpu_device_name()))"
   ]
  },
  {
   "cell_type": "markdown",
   "metadata": {},
   "source": [
    ">**Note:** Make sure you have OpenAI Gym cloned into the same directory with this notebook. I've included `gym` as a submodule, so you can run `git submodule --init --recursive` to pull the contents into the `gym` repo."
   ]
  },
  {
   "cell_type": "markdown",
   "metadata": {},
   "source": [
    "##### >**Note:** Make sure you have OpenAI Gym cloned. Then run this command `pip install -e gym/[all]`."
   ]
  },
  {
   "cell_type": "code",
   "execution_count": 2,
   "metadata": {},
   "outputs": [
    {
     "name": "stdout",
     "output_type": "stream",
     "text": [
      "\u001b[33mWARN: gym.spaces.Box autodetected dtype as <class 'numpy.float32'>. Please provide explicit dtype.\u001b[0m\n",
      "\u001b[33mWARN: gym.spaces.Box autodetected dtype as <class 'numpy.float32'>. Please provide explicit dtype.\u001b[0m\n"
     ]
    },
    {
     "name": "stderr",
     "output_type": "stream",
     "text": [
      "/home/arasdar/anaconda3/envs/env/lib/python3.6/site-packages/gym/__init__.py:22: UserWarning: DEPRECATION WARNING: to improve load times, gym no longer automatically loads gym.spaces. Please run \"import gym.spaces\" to load gym.spaces on your own. This warning will turn into an error in a future version of gym.\n",
      "  warnings.warn('DEPRECATION WARNING: to improve load times, gym no longer automatically loads gym.spaces. Please run \"import gym.spaces\" to load gym.spaces on your own. This warning will turn into an error in a future version of gym.')\n"
     ]
    }
   ],
   "source": [
    "import gym\n",
    "\n",
    "## Create the Cart-Pole game environment\n",
    "env = gym.make('CartPole-v0')\n",
    "env = gym.make('CartPole-v1')\n",
    "# env = gym.make('Acrobot-v1')\n",
    "# env = gym.make('MountainCar-v0')\n",
    "# env = gym.make('Pendulum-v0')\n",
    "# env = gym.make('Blackjack-v0')\n",
    "# env = gym.make('FrozenLake-v0')\n",
    "# env = gym.make('AirRaid-ram-v0')\n",
    "# env = gym.make('AirRaid-v0')\n",
    "# env = gym.make('BipedalWalker-v2')\n",
    "# env = gym.make('Copy-v0')\n",
    "# env = gym.make('CarRacing-v0')\n",
    "# env = gym.make('Ant-v2') #mujoco\n",
    "# env = gym.make('FetchPickAndPlace-v1') # mujoco required!"
   ]
  },
  {
   "cell_type": "markdown",
   "metadata": {},
   "source": [
    "We interact with the simulation through `env`. To show the simulation running, you can use `env.render()` to render one frame. Passing in an action as an integer to `env.step` will generate the next step in the simulation.  You can see how many actions are possible from `env.action_space` and to get a random action you can use `env.action_space.sample()`. This is general to all Gym games. In the Cart-Pole game, there are two possible actions, moving the cart left or right. So there are two actions we can take, encoded as 0 and 1.\n",
    "\n",
    "Run the code below to watch the simulation run."
   ]
  },
  {
   "cell_type": "code",
   "execution_count": 3,
   "metadata": {},
   "outputs": [],
   "source": [
    "env.reset()\n",
    "batch = []\n",
    "for _ in range(1000):\n",
    "    # env.render()\n",
    "    action = env.action_space.sample()\n",
    "    state, reward, done, info = env.step(action) # take a random action\n",
    "    batch.append([action, state, reward, done, info])\n",
    "    #print('state, action, reward, done, info:', state, action, reward, done, info)\n",
    "    if done:\n",
    "        env.reset()"
   ]
  },
  {
   "cell_type": "markdown",
   "metadata": {},
   "source": [
    "To shut the window showing the simulation, use `env.close()`."
   ]
  },
  {
   "cell_type": "markdown",
   "metadata": {},
   "source": [
    "If you ran the simulation above, we can look at the rewards:"
   ]
  },
  {
   "cell_type": "code",
   "execution_count": 4,
   "metadata": {},
   "outputs": [
    {
     "data": {
      "text/plain": [
       "([0,\n",
       "  array([ 0.03020761, -0.2157501 , -0.00576536,  0.24520287]),\n",
       "  1.0,\n",
       "  False,\n",
       "  {}],\n",
       " (4,))"
      ]
     },
     "execution_count": 4,
     "metadata": {},
     "output_type": "execute_result"
    }
   ],
   "source": [
    "batch[0], batch[0][1].shape"
   ]
  },
  {
   "cell_type": "code",
   "execution_count": 5,
   "metadata": {},
   "outputs": [],
   "source": [
    "import numpy as np\n",
    "actions = np.array([each[0] for each in batch])\n",
    "states = np.array([each[1] for each in batch])\n",
    "rewards = np.array([each[2] for each in batch])\n",
    "dones = np.array([each[3] for each in batch])\n",
    "infos = np.array([each[4] for each in batch])"
   ]
  },
  {
   "cell_type": "code",
   "execution_count": 6,
   "metadata": {},
   "outputs": [
    {
     "name": "stdout",
     "output_type": "stream",
     "text": [
      "[1. 1. 1. 1. 1. 1. 1. 1. 1. 1. 1. 1. 1. 1. 1. 1. 1. 1. 1. 1.]\n",
      "(1000,) (1000, 4) (1000,) (1000,)\n",
      "float64 float64 int64 bool\n",
      "1 0\n",
      "2\n",
      "1.0 1.0\n",
      "2.4834737163325626 -3.1271435970056705\n"
     ]
    }
   ],
   "source": [
    "print(rewards[-20:])\n",
    "print(np.array(rewards).shape, np.array(states).shape, np.array(actions).shape, np.array(dones).shape)\n",
    "print(np.array(rewards).dtype, np.array(states).dtype, np.array(actions).dtype, np.array(dones).dtype)\n",
    "print(np.max(np.array(actions)), np.min(np.array(actions)))\n",
    "print((np.max(np.array(actions)) - np.min(np.array(actions)))+1)\n",
    "print(np.max(np.array(rewards)), np.min(np.array(rewards)))\n",
    "print(np.max(np.array(states)), np.min(np.array(states)))"
   ]
  },
  {
   "cell_type": "code",
   "execution_count": 7,
   "metadata": {},
   "outputs": [],
   "source": [
    "# import numpy as np\n",
    "def sigmoid(x, derivative=False):\n",
    "  return x*(1-x) if derivative else 1/(1+np.exp(-x))"
   ]
  },
  {
   "cell_type": "code",
   "execution_count": 8,
   "metadata": {},
   "outputs": [
    {
     "data": {
      "text/plain": [
       "0.8807970779778823"
      ]
     },
     "execution_count": 8,
     "metadata": {},
     "output_type": "execute_result"
    }
   ],
   "source": [
    "sigmoid(200/100)"
   ]
  },
  {
   "cell_type": "markdown",
   "metadata": {},
   "source": [
    "The game resets after the pole has fallen past a certain angle. For each frame while the simulation is running, it returns a reward of 1.0. The longer the game runs, the more reward we get. Then, our network's goal is to maximize the reward by keeping the pole vertical. It will do this by moving the cart to the left and the right."
   ]
  },
  {
   "cell_type": "markdown",
   "metadata": {},
   "source": [
    "## Q-Network\n",
    "\n",
    "We train our Q-learning agent using the Bellman Equation:\n",
    "\n",
    "$$\n",
    "Q(s, a) = r + \\gamma \\max{Q(s', a')}\n",
    "$$\n",
    "\n",
    "where $s$ is a state, $a$ is an action, and $s'$ is the next state from state $s$ and action $a$.\n",
    "\n",
    "Before we used this equation to learn values for a Q-_table_. However, for this game there are a huge number of states available. The state has four values: the position and velocity of the cart, and the position and velocity of the pole. These are all real-valued numbers, so ignoring floating point precisions, you practically have infinite states. Instead of using a table then, we'll replace it with a neural network that will approximate the Q-table lookup function.\n",
    "\n",
    "<img src=\"assets/deep-q-learning.png\" width=450px>\n",
    "\n",
    "Now, our Q value, $Q(s, a)$ is calculated by passing in a state to the network. The output will be Q-values for each available action, with fully connected hidden layers.\n",
    "\n",
    "<img src=\"assets/q-network.png\" width=550px>\n",
    "\n",
    "\n",
    "As I showed before, we can define our targets for training as $\\hat{Q}(s,a) = r + \\gamma \\max{Q(s', a')}$. Then we update the weights by minimizing $(\\hat{Q}(s,a) - Q(s,a))^2$. \n",
    "\n",
    "For this Cart-Pole game, we have four inputs, one for each value in the state, and two outputs, one for each action. To get $\\hat{Q}$, we'll first choose an action, then simulate the game using that action. This will get us the next state, $s'$, and the reward. With that, we can calculate $\\hat{Q}$ then pass it back into the $Q$ network to run the optimizer and update the weights.\n",
    "\n",
    "Below is my implementation of the Q-network. I used two fully connected layers with ReLU activations. Two seems to be good enough, three might be better. Feel free to try it out."
   ]
  },
  {
   "cell_type": "code",
   "execution_count": 53,
   "metadata": {},
   "outputs": [],
   "source": [
    "# Data of the model\n",
    "def model_input(state_size):\n",
    "    states = tf.placeholder(tf.float32, [None, state_size], name='states')\n",
    "    actions = tf.placeholder(tf.int32, [None], name='actions')\n",
    "    reward = tf.placeholder(tf.float32, [], name='reward')\n",
    "    return states, actions, reward"
   ]
  },
  {
   "cell_type": "code",
   "execution_count": 54,
   "metadata": {},
   "outputs": [],
   "source": [
    "# Generator: Generating/prediting the actions\n",
    "def generator(states, action_size, hidden_size, reuse=False, alpha=0.1, training=False):\n",
    "    with tf.variable_scope('generator', reuse=reuse):\n",
    "        # First fully connected layer\n",
    "        h1 = tf.layers.dense(inputs=states, units=hidden_size)\n",
    "        bn1 = tf.layers.batch_normalization(h1, training=training)        \n",
    "        nl1 = tf.maximum(alpha * bn1, bn1)\n",
    "        \n",
    "        # Second fully connected layer\n",
    "        h2 = tf.layers.dense(inputs=nl1, units=hidden_size)\n",
    "        bn2 = tf.layers.batch_normalization(h2, training=training)        \n",
    "        nl2 = tf.maximum(alpha * bn2, bn2)\n",
    "        \n",
    "        # Output layer\n",
    "        logits = tf.layers.dense(inputs=nl2, units=action_size)        \n",
    "        #predictions = tf.nn.softmax(logits)\n",
    "\n",
    "        # return actions logits\n",
    "        return logits"
   ]
  },
  {
   "cell_type": "code",
   "execution_count": 68,
   "metadata": {},
   "outputs": [],
   "source": [
    "def model_loss(states, actions, reward, # model input\n",
    "               action_size, hidden_size): # model init\n",
    "    actions_logits = generator(states=states, hidden_size=hidden_size, action_size=action_size)\n",
    "    actions_labels = tf.one_hot(indices=actions, depth=action_size, dtype=actions_logits.dtype)\n",
    "    loss = tf.reduce_mean(tf.nn.softmax_cross_entropy_with_logits_v2(logits=actions_logits, \n",
    "                                                                     labels=actions_labels))\n",
    "    reward_prob = tf.nn.sigmoid(reward/10)\n",
    "    loss *= -reward_prob\n",
    "    return actions_logits, loss, reward_prob"
   ]
  },
  {
   "cell_type": "code",
   "execution_count": 69,
   "metadata": {},
   "outputs": [],
   "source": [
    "def model_opt(loss, learning_rate):\n",
    "    \"\"\"\n",
    "    Get optimization operations in order\n",
    "    :param loss: Generator loss Tensor for action prediction\n",
    "    :param learning_rate: Learning Rate Placeholder\n",
    "    :return: A tuple of (qfunction training, generator training, discriminator training)\n",
    "    \"\"\"\n",
    "    # Get weights and bias to update\n",
    "    t_vars = tf.trainable_variables()\n",
    "    g_vars = [var for var in t_vars if var.name.startswith('generator')]\n",
    "\n",
    "    # Optimize\n",
    "    with tf.control_dependencies(tf.get_collection(tf.GraphKeys.UPDATE_OPS)): # Required for batchnorm (BN)\n",
    "        opt = tf.train.AdamOptimizer(learning_rate).minimize(loss, var_list=g_vars)\n",
    "\n",
    "    return opt"
   ]
  },
  {
   "cell_type": "code",
   "execution_count": 70,
   "metadata": {},
   "outputs": [],
   "source": [
    "class Model:\n",
    "    def __init__(self, state_size, action_size, hidden_size, learning_rate):\n",
    "\n",
    "        # Data of the Model: make the data available inside the framework\n",
    "        self.states, self.actions, self.reward = model_input(state_size=state_size)\n",
    "\n",
    "        # Create the Model: calculating the loss and forwad pass\n",
    "        self.actions_logits, self.loss, self.reward_prob = model_loss(\n",
    "            action_size=action_size, hidden_size=hidden_size, # model init parameters\n",
    "            states=self.states, actions=self.actions, reward=self.reward) # model input\n",
    "        \n",
    "        # Update the model: backward pass and backprop\n",
    "        self.opt = model_opt(loss=self.loss, learning_rate=learning_rate)"
   ]
  },
  {
   "cell_type": "markdown",
   "metadata": {},
   "source": [
    "## Hyperparameters\n",
    "\n",
    "One of the more difficult aspects of reinforcememt learning are the large number of hyperparameters. Not only are we tuning the network, but we're tuning the simulation."
   ]
  },
  {
   "cell_type": "code",
   "execution_count": 71,
   "metadata": {},
   "outputs": [
    {
     "name": "stdout",
     "output_type": "stream",
     "text": [
      "state size:(500, 4) actions:(500,)\n",
      "action size:2\n"
     ]
    }
   ],
   "source": [
    "print('state size:{}'.format(states.shape), \n",
    "      'actions:{}'.format(actions.shape)) \n",
    "print('action size:{}'.format(np.max(actions) - np.min(actions)+1))"
   ]
  },
  {
   "cell_type": "code",
   "execution_count": 72,
   "metadata": {},
   "outputs": [],
   "source": [
    "# Training parameters\n",
    "# Network parameters\n",
    "state_size = 4                 # number of units for the input state/observation -- simulation\n",
    "action_size = 2                # number of units for the output actions -- simulation\n",
    "hidden_size = 64               # number of units in each Q-network hidden layer -- simulation\n",
    "learning_rate = 0.001          # learning rate for adam"
   ]
  },
  {
   "cell_type": "code",
   "execution_count": 73,
   "metadata": {},
   "outputs": [],
   "source": [
    "# Reset/init the graph/session\n",
    "graph = tf.reset_default_graph()\n",
    "\n",
    "# Init the model\n",
    "model = Model(action_size=action_size, hidden_size=hidden_size, state_size=state_size, learning_rate=learning_rate)"
   ]
  },
  {
   "cell_type": "markdown",
   "metadata": {},
   "source": [
    "## Training the model\n",
    "\n",
    "Below we'll train our agent. If you want to watch it train, uncomment the `env.render()` line. This is slow because it's rendering the frames slower than the network can train. But, it's cool to watch the agent get better at the game."
   ]
  },
  {
   "cell_type": "code",
   "execution_count": 76,
   "metadata": {},
   "outputs": [
    {
     "name": "stdout",
     "output_type": "stream",
     "text": [
      "INFO:tensorflow:Restoring parameters from checkpoints/model.ckpt\n",
      "Episode: 0 total_reward: 60.0 reward_prob: 0.9975 loss: -0.6889\n",
      "Episode: 1 total_reward: 48.0 reward_prob: 0.9918 loss: -0.6849\n",
      "Episode: 2 total_reward: 19.0 reward_prob: 0.8699 loss: -0.6020\n",
      "Episode: 3 total_reward: 26.0 reward_prob: 0.9309 loss: -0.6438\n",
      "Episode: 4 total_reward: 10.0 reward_prob: 0.7311 loss: -0.5057\n",
      "Episode: 5 total_reward: 12.0 reward_prob: 0.7685 loss: -0.5317\n",
      "Episode: 6 total_reward: 70.0 reward_prob: 0.9991 loss: -0.6903\n",
      "Episode: 7 total_reward: 92.0 reward_prob: 0.9999 loss: -0.6896\n",
      "Episode: 8 total_reward: 58.0 reward_prob: 0.9970 loss: -0.6889\n",
      "Episode: 9 total_reward: 73.0 reward_prob: 0.9993 loss: -0.6905\n",
      "Episode: 10 total_reward: 68.0 reward_prob: 0.9989 loss: -0.6904\n",
      "Episode: 11 total_reward: 95.0 reward_prob: 0.9999 loss: -0.6900\n",
      "Episode: 12 total_reward: 49.0 reward_prob: 0.9926 loss: -0.6858\n",
      "Episode: 13 total_reward: 25.0 reward_prob: 0.9241 loss: -0.6387\n",
      "Episode: 14 total_reward: 15.0 reward_prob: 0.8176 loss: -0.5650\n",
      "Episode: 15 total_reward: 9.0 reward_prob: 0.7109 loss: -0.4906\n",
      "Episode: 16 total_reward: 11.0 reward_prob: 0.7503 loss: -0.5182\n",
      "Episode: 17 total_reward: 16.0 reward_prob: 0.8320 loss: -0.5750\n",
      "Episode: 18 total_reward: 35.0 reward_prob: 0.9707 loss: -0.6716\n",
      "Episode: 19 total_reward: 133.0 reward_prob: 1.0000 loss: -0.6911\n",
      "Episode: 20 total_reward: 214.0 reward_prob: 1.0000 loss: -0.6915\n",
      "Episode: 21 total_reward: 45.0 reward_prob: 0.9890 loss: -0.6846\n",
      "Episode: 22 total_reward: 296.0 reward_prob: 1.0000 loss: -0.6916\n",
      "Episode: 23 total_reward: 58.0 reward_prob: 0.9970 loss: -0.6892\n",
      "Episode: 24 total_reward: 38.0 reward_prob: 0.9781 loss: -0.6769\n",
      "Episode: 25 total_reward: 19.0 reward_prob: 0.8699 loss: -0.6025\n",
      "Episode: 26 total_reward: 37.0 reward_prob: 0.9759 loss: -0.6747\n",
      "Episode: 27 total_reward: 66.0 reward_prob: 0.9986 loss: -0.6894\n",
      "Episode: 28 total_reward: 46.0 reward_prob: 0.9900 loss: -0.6848\n",
      "Episode: 29 total_reward: 54.0 reward_prob: 0.9955 loss: -0.6880\n",
      "Episode: 30 total_reward: 17.0 reward_prob: 0.8455 loss: -0.5841\n",
      "Episode: 31 total_reward: 14.0 reward_prob: 0.8022 loss: -0.5542\n",
      "Episode: 32 total_reward: 11.0 reward_prob: 0.7503 loss: -0.5178\n",
      "Episode: 33 total_reward: 34.0 reward_prob: 0.9677 loss: -0.6679\n",
      "Episode: 34 total_reward: 15.0 reward_prob: 0.8176 loss: -0.5651\n",
      "Episode: 35 total_reward: 8.0 reward_prob: 0.6900 loss: -0.4760\n",
      "Episode: 36 total_reward: 17.0 reward_prob: 0.8455 loss: -0.5848\n",
      "Episode: 37 total_reward: 19.0 reward_prob: 0.8699 loss: -0.6021\n",
      "Episode: 38 total_reward: 69.0 reward_prob: 0.9990 loss: -0.6901\n",
      "Episode: 39 total_reward: 83.0 reward_prob: 0.9998 loss: -0.6901\n",
      "Episode: 40 total_reward: 34.0 reward_prob: 0.9677 loss: -0.6695\n",
      "Episode: 41 total_reward: 26.0 reward_prob: 0.9309 loss: -0.6442\n",
      "Episode: 42 total_reward: 17.0 reward_prob: 0.8455 loss: -0.5849\n",
      "Episode: 43 total_reward: 16.0 reward_prob: 0.8320 loss: -0.5746\n",
      "Episode: 44 total_reward: 13.0 reward_prob: 0.7858 loss: -0.5429\n",
      "Episode: 45 total_reward: 13.0 reward_prob: 0.7858 loss: -0.5426\n",
      "Episode: 46 total_reward: 13.0 reward_prob: 0.7858 loss: -0.5424\n",
      "Episode: 47 total_reward: 9.0 reward_prob: 0.7109 loss: -0.4910\n",
      "Episode: 48 total_reward: 10.0 reward_prob: 0.7311 loss: -0.5055\n",
      "Episode: 49 total_reward: 43.0 reward_prob: 0.9866 loss: -0.6823\n",
      "Episode: 50 total_reward: 77.0 reward_prob: 0.9995 loss: -0.6909\n",
      "Episode: 51 total_reward: 24.0 reward_prob: 0.9168 loss: -0.6338\n",
      "Episode: 52 total_reward: 49.0 reward_prob: 0.9926 loss: -0.6855\n",
      "Episode: 53 total_reward: 30.0 reward_prob: 0.9526 loss: -0.6588\n",
      "Episode: 54 total_reward: 13.0 reward_prob: 0.7858 loss: -0.5420\n",
      "Episode: 55 total_reward: 15.0 reward_prob: 0.8176 loss: -0.5637\n",
      "Episode: 56 total_reward: 15.0 reward_prob: 0.8176 loss: -0.5636\n",
      "Episode: 57 total_reward: 12.0 reward_prob: 0.7685 loss: -0.5287\n",
      "Episode: 58 total_reward: 9.0 reward_prob: 0.7109 loss: -0.4890\n",
      "Episode: 59 total_reward: 12.0 reward_prob: 0.7685 loss: -0.5295\n",
      "Episode: 60 total_reward: 13.0 reward_prob: 0.7858 loss: -0.5426\n",
      "Episode: 61 total_reward: 10.0 reward_prob: 0.7311 loss: -0.5049\n",
      "Episode: 62 total_reward: 20.0 reward_prob: 0.8808 loss: -0.6094\n",
      "Episode: 63 total_reward: 38.0 reward_prob: 0.9781 loss: -0.6764\n",
      "Episode: 64 total_reward: 84.0 reward_prob: 0.9998 loss: -0.6914\n",
      "Episode: 65 total_reward: 55.0 reward_prob: 0.9959 loss: -0.6884\n",
      "Episode: 66 total_reward: 19.0 reward_prob: 0.8699 loss: -0.6017\n",
      "Episode: 67 total_reward: 29.0 reward_prob: 0.9478 loss: -0.6552\n",
      "Episode: 68 total_reward: 11.0 reward_prob: 0.7503 loss: -0.5183\n",
      "Episode: 69 total_reward: 14.0 reward_prob: 0.8022 loss: -0.5534\n",
      "Episode: 70 total_reward: 28.0 reward_prob: 0.9427 loss: -0.6518\n",
      "Episode: 71 total_reward: 23.0 reward_prob: 0.9089 loss: -0.6281\n",
      "Episode: 72 total_reward: 40.0 reward_prob: 0.9820 loss: -0.6784\n",
      "Episode: 73 total_reward: 28.0 reward_prob: 0.9427 loss: -0.6515\n",
      "Episode: 74 total_reward: 25.0 reward_prob: 0.9241 loss: -0.6391\n",
      "Episode: 75 total_reward: 30.0 reward_prob: 0.9526 loss: -0.6589\n",
      "Episode: 76 total_reward: 28.0 reward_prob: 0.9427 loss: -0.6526\n",
      "Episode: 77 total_reward: 24.0 reward_prob: 0.9168 loss: -0.6345\n",
      "Episode: 78 total_reward: 15.0 reward_prob: 0.8176 loss: -0.5653\n",
      "Episode: 79 total_reward: 16.0 reward_prob: 0.8320 loss: -0.5749\n",
      "Episode: 80 total_reward: 17.0 reward_prob: 0.8455 loss: -0.5840\n",
      "Episode: 81 total_reward: 21.0 reward_prob: 0.8909 loss: -0.6149\n",
      "Episode: 82 total_reward: 13.0 reward_prob: 0.7858 loss: -0.5424\n",
      "Episode: 83 total_reward: 22.0 reward_prob: 0.9002 loss: -0.6219\n",
      "Episode: 84 total_reward: 31.0 reward_prob: 0.9569 loss: -0.6616\n",
      "Episode: 85 total_reward: 10.0 reward_prob: 0.7311 loss: -0.5035\n",
      "Episode: 86 total_reward: 15.0 reward_prob: 0.8176 loss: -0.5654\n",
      "Episode: 87 total_reward: 19.0 reward_prob: 0.8699 loss: -0.6017\n",
      "Episode: 88 total_reward: 24.0 reward_prob: 0.9168 loss: -0.6331\n",
      "Episode: 89 total_reward: 41.0 reward_prob: 0.9837 loss: -0.6796\n",
      "Episode: 90 total_reward: 17.0 reward_prob: 0.8455 loss: -0.5837\n",
      "Episode: 91 total_reward: 20.0 reward_prob: 0.8808 loss: -0.6088\n",
      "Episode: 92 total_reward: 22.0 reward_prob: 0.9002 loss: -0.6221\n",
      "Episode: 93 total_reward: 18.0 reward_prob: 0.8581 loss: -0.5923\n",
      "Episode: 94 total_reward: 14.0 reward_prob: 0.8022 loss: -0.5536\n",
      "Episode: 95 total_reward: 10.0 reward_prob: 0.7311 loss: -0.5043\n",
      "Episode: 96 total_reward: 9.0 reward_prob: 0.7109 loss: -0.4900\n",
      "Episode: 97 total_reward: 9.0 reward_prob: 0.7109 loss: -0.4903\n",
      "Episode: 98 total_reward: 40.0 reward_prob: 0.9820 loss: -0.6787\n",
      "Episode: 99 total_reward: 21.0 reward_prob: 0.8909 loss: -0.6160\n",
      "Episode: 100 total_reward: 205.0 reward_prob: 1.0000 loss: -0.6918\n",
      "Episode: 101 total_reward: 18.0 reward_prob: 0.8581 loss: -0.5933\n",
      "Episode: 102 total_reward: 16.0 reward_prob: 0.8320 loss: -0.5747\n",
      "Episode: 103 total_reward: 13.0 reward_prob: 0.7858 loss: -0.5422\n",
      "Episode: 104 total_reward: 10.0 reward_prob: 0.7311 loss: -0.5044\n",
      "Episode: 105 total_reward: 11.0 reward_prob: 0.7503 loss: -0.5181\n",
      "Episode: 106 total_reward: 13.0 reward_prob: 0.7858 loss: -0.5429\n",
      "Episode: 107 total_reward: 21.0 reward_prob: 0.8909 loss: -0.6165\n",
      "Episode: 108 total_reward: 27.0 reward_prob: 0.9370 loss: -0.6483\n",
      "Episode: 109 total_reward: 33.0 reward_prob: 0.9644 loss: -0.6663\n",
      "Episode: 110 total_reward: 64.0 reward_prob: 0.9983 loss: -0.6906\n",
      "Episode: 111 total_reward: 81.0 reward_prob: 0.9997 loss: -0.6912\n",
      "Episode: 112 total_reward: 89.0 reward_prob: 0.9999 loss: -0.6918\n",
      "Episode: 113 total_reward: 121.0 reward_prob: 1.0000 loss: -0.6920\n",
      "Episode: 114 total_reward: 25.0 reward_prob: 0.9241 loss: -0.6381\n",
      "Episode: 115 total_reward: 176.0 reward_prob: 1.0000 loss: -0.6915\n",
      "Episode: 116 total_reward: 17.0 reward_prob: 0.8455 loss: -0.5847\n",
      "Episode: 117 total_reward: 12.0 reward_prob: 0.7685 loss: -0.5310\n",
      "Episode: 118 total_reward: 13.0 reward_prob: 0.7858 loss: -0.5434\n",
      "Episode: 119 total_reward: 42.0 reward_prob: 0.9852 loss: -0.6812\n",
      "Episode: 120 total_reward: 35.0 reward_prob: 0.9707 loss: -0.6716\n",
      "Episode: 121 total_reward: 41.0 reward_prob: 0.9837 loss: -0.6802\n",
      "Episode: 122 total_reward: 74.0 reward_prob: 0.9994 loss: -0.6903\n",
      "Episode: 123 total_reward: 16.0 reward_prob: 0.8320 loss: -0.5758\n",
      "Episode: 124 total_reward: 13.0 reward_prob: 0.7858 loss: -0.5432\n",
      "Episode: 125 total_reward: 15.0 reward_prob: 0.8176 loss: -0.5654\n",
      "Episode: 126 total_reward: 13.0 reward_prob: 0.7858 loss: -0.5437\n",
      "Episode: 127 total_reward: 44.0 reward_prob: 0.9879 loss: -0.6836\n",
      "Episode: 128 total_reward: 51.0 reward_prob: 0.9939 loss: -0.6874\n",
      "Episode: 129 total_reward: 12.0 reward_prob: 0.7685 loss: -0.5321\n",
      "Episode: 130 total_reward: 41.0 reward_prob: 0.9837 loss: -0.6806\n"
     ]
    },
    {
     "name": "stdout",
     "output_type": "stream",
     "text": [
      "Episode: 131 total_reward: 52.0 reward_prob: 0.9945 loss: -0.6877\n",
      "Episode: 132 total_reward: 11.0 reward_prob: 0.7503 loss: -0.5192\n",
      "Episode: 133 total_reward: 24.0 reward_prob: 0.9168 loss: -0.6348\n",
      "Episode: 134 total_reward: 10.0 reward_prob: 0.7311 loss: -0.5055\n",
      "Episode: 135 total_reward: 20.0 reward_prob: 0.8808 loss: -0.6100\n",
      "Episode: 136 total_reward: 28.0 reward_prob: 0.9427 loss: -0.6528\n",
      "Episode: 137 total_reward: 126.0 reward_prob: 1.0000 loss: -0.6927\n",
      "Episode: 138 total_reward: 210.0 reward_prob: 1.0000 loss: -0.6921\n",
      "Episode: 139 total_reward: 50.0 reward_prob: 0.9933 loss: -0.6869\n",
      "Episode: 140 total_reward: 10.0 reward_prob: 0.7311 loss: -0.5058\n",
      "Episode: 141 total_reward: 24.0 reward_prob: 0.9168 loss: -0.6346\n",
      "Episode: 142 total_reward: 19.0 reward_prob: 0.8699 loss: -0.6022\n",
      "Episode: 143 total_reward: 15.0 reward_prob: 0.8176 loss: -0.5663\n",
      "Episode: 144 total_reward: 35.0 reward_prob: 0.9707 loss: -0.6707\n",
      "Episode: 145 total_reward: 143.0 reward_prob: 1.0000 loss: -0.6918\n",
      "Episode: 146 total_reward: 70.0 reward_prob: 0.9991 loss: -0.6908\n",
      "Episode: 147 total_reward: 46.0 reward_prob: 0.9900 loss: -0.6842\n",
      "Episode: 148 total_reward: 44.0 reward_prob: 0.9879 loss: -0.6827\n",
      "Episode: 149 total_reward: 42.0 reward_prob: 0.9852 loss: -0.6806\n",
      "Episode: 150 total_reward: 37.0 reward_prob: 0.9759 loss: -0.6741\n",
      "Episode: 151 total_reward: 25.0 reward_prob: 0.9241 loss: -0.6381\n",
      "Episode: 152 total_reward: 188.0 reward_prob: 1.0000 loss: -0.6898\n",
      "Episode: 153 total_reward: 24.0 reward_prob: 0.9168 loss: -0.6318\n",
      "Episode: 154 total_reward: 17.0 reward_prob: 0.8455 loss: -0.5829\n",
      "Episode: 155 total_reward: 14.0 reward_prob: 0.8022 loss: -0.5530\n",
      "Episode: 156 total_reward: 15.0 reward_prob: 0.8176 loss: -0.5633\n",
      "Episode: 157 total_reward: 12.0 reward_prob: 0.7685 loss: -0.5287\n",
      "Episode: 158 total_reward: 12.0 reward_prob: 0.7685 loss: -0.5287\n",
      "Episode: 159 total_reward: 10.0 reward_prob: 0.7311 loss: -0.5024\n",
      "Episode: 160 total_reward: 10.0 reward_prob: 0.7311 loss: -0.5012\n",
      "Episode: 161 total_reward: 10.0 reward_prob: 0.7311 loss: -0.5031\n",
      "Episode: 162 total_reward: 9.0 reward_prob: 0.7109 loss: -0.4862\n",
      "Episode: 163 total_reward: 12.0 reward_prob: 0.7685 loss: -0.5296\n",
      "Episode: 164 total_reward: 14.0 reward_prob: 0.8022 loss: -0.5537\n",
      "Episode: 165 total_reward: 16.0 reward_prob: 0.8320 loss: -0.5744\n",
      "Episode: 166 total_reward: 16.0 reward_prob: 0.8320 loss: -0.5740\n",
      "Episode: 167 total_reward: 12.0 reward_prob: 0.7685 loss: -0.5308\n",
      "Episode: 168 total_reward: 14.0 reward_prob: 0.8022 loss: -0.5540\n",
      "Episode: 169 total_reward: 12.0 reward_prob: 0.7685 loss: -0.5309\n",
      "Episode: 170 total_reward: 12.0 reward_prob: 0.7685 loss: -0.5301\n",
      "Episode: 171 total_reward: 12.0 reward_prob: 0.7685 loss: -0.5307\n",
      "Episode: 172 total_reward: 12.0 reward_prob: 0.7685 loss: -0.5314\n",
      "Episode: 173 total_reward: 15.0 reward_prob: 0.8176 loss: -0.5661\n",
      "Episode: 174 total_reward: 24.0 reward_prob: 0.9168 loss: -0.6347\n",
      "Episode: 175 total_reward: 45.0 reward_prob: 0.9890 loss: -0.6836\n",
      "Episode: 176 total_reward: 53.0 reward_prob: 0.9950 loss: -0.6878\n",
      "Episode: 177 total_reward: 77.0 reward_prob: 0.9995 loss: -0.6912\n",
      "Episode: 178 total_reward: 62.0 reward_prob: 0.9980 loss: -0.6898\n",
      "Episode: 179 total_reward: 49.0 reward_prob: 0.9926 loss: -0.6852\n",
      "Episode: 180 total_reward: 48.0 reward_prob: 0.9918 loss: -0.6845\n",
      "Episode: 181 total_reward: 24.0 reward_prob: 0.9168 loss: -0.6320\n",
      "Episode: 182 total_reward: 18.0 reward_prob: 0.8581 loss: -0.5905\n",
      "Episode: 183 total_reward: 12.0 reward_prob: 0.7685 loss: -0.5288\n",
      "Episode: 184 total_reward: 19.0 reward_prob: 0.8699 loss: -0.5989\n",
      "Episode: 185 total_reward: 14.0 reward_prob: 0.8022 loss: -0.5527\n",
      "Episode: 186 total_reward: 13.0 reward_prob: 0.7858 loss: -0.5409\n",
      "Episode: 187 total_reward: 12.0 reward_prob: 0.7685 loss: -0.5289\n",
      "Episode: 188 total_reward: 9.0 reward_prob: 0.7109 loss: -0.4889\n",
      "Episode: 189 total_reward: 11.0 reward_prob: 0.7503 loss: -0.5159\n",
      "Episode: 190 total_reward: 10.0 reward_prob: 0.7311 loss: -0.5034\n",
      "Episode: 191 total_reward: 10.0 reward_prob: 0.7311 loss: -0.4900\n",
      "Episode: 192 total_reward: 10.0 reward_prob: 0.7311 loss: -0.4939\n",
      "Episode: 193 total_reward: 82.0 reward_prob: 0.9997 loss: -0.6904\n",
      "Episode: 194 total_reward: 115.0 reward_prob: 1.0000 loss: -0.6902\n",
      "Episode: 195 total_reward: 45.0 reward_prob: 0.9890 loss: -0.6826\n",
      "Episode: 196 total_reward: 67.0 reward_prob: 0.9988 loss: -0.6890\n",
      "Episode: 197 total_reward: 42.0 reward_prob: 0.9852 loss: -0.6796\n",
      "Episode: 198 total_reward: 85.0 reward_prob: 0.9998 loss: -0.6899\n",
      "Episode: 199 total_reward: 67.0 reward_prob: 0.9988 loss: -0.6890\n",
      "Episode: 200 total_reward: 61.0 reward_prob: 0.9978 loss: -0.6883\n",
      "Episode: 201 total_reward: 43.0 reward_prob: 0.9866 loss: -0.6798\n",
      "Episode: 202 total_reward: 30.0 reward_prob: 0.9526 loss: -0.6567\n",
      "Episode: 203 total_reward: 23.0 reward_prob: 0.9089 loss: -0.6256\n",
      "Episode: 204 total_reward: 22.0 reward_prob: 0.9002 loss: -0.6197\n",
      "Episode: 205 total_reward: 17.0 reward_prob: 0.8455 loss: -0.5817\n",
      "Episode: 206 total_reward: 21.0 reward_prob: 0.8909 loss: -0.6125\n",
      "Episode: 207 total_reward: 17.0 reward_prob: 0.8455 loss: -0.5815\n",
      "Episode: 208 total_reward: 15.0 reward_prob: 0.8176 loss: -0.5624\n",
      "Episode: 209 total_reward: 12.0 reward_prob: 0.7685 loss: -0.5289\n",
      "Episode: 210 total_reward: 13.0 reward_prob: 0.7858 loss: -0.5410\n",
      "Episode: 211 total_reward: 14.0 reward_prob: 0.8022 loss: -0.5521\n",
      "Episode: 212 total_reward: 10.0 reward_prob: 0.7311 loss: -0.5026\n",
      "Episode: 213 total_reward: 12.0 reward_prob: 0.7685 loss: -0.5278\n",
      "Episode: 214 total_reward: 10.0 reward_prob: 0.7311 loss: -0.5025\n",
      "Episode: 215 total_reward: 12.0 reward_prob: 0.7685 loss: -0.5283\n",
      "Episode: 216 total_reward: 10.0 reward_prob: 0.7311 loss: -0.5030\n",
      "Episode: 217 total_reward: 36.0 reward_prob: 0.9734 loss: -0.6720\n",
      "Episode: 218 total_reward: 12.0 reward_prob: 0.7685 loss: -0.5306\n",
      "Episode: 219 total_reward: 15.0 reward_prob: 0.8176 loss: -0.5645\n",
      "Episode: 220 total_reward: 12.0 reward_prob: 0.7685 loss: -0.5301\n",
      "Episode: 221 total_reward: 13.0 reward_prob: 0.7858 loss: -0.5422\n",
      "Episode: 222 total_reward: 11.0 reward_prob: 0.7503 loss: -0.5178\n",
      "Episode: 223 total_reward: 10.0 reward_prob: 0.7311 loss: -0.5049\n",
      "Episode: 224 total_reward: 14.0 reward_prob: 0.8022 loss: -0.5544\n",
      "Episode: 225 total_reward: 61.0 reward_prob: 0.9978 loss: -0.6903\n",
      "Episode: 226 total_reward: 19.0 reward_prob: 0.8699 loss: -0.6020\n",
      "Episode: 227 total_reward: 26.0 reward_prob: 0.9309 loss: -0.6439\n",
      "Episode: 228 total_reward: 16.0 reward_prob: 0.8320 loss: -0.5756\n",
      "Episode: 229 total_reward: 24.0 reward_prob: 0.9168 loss: -0.6344\n",
      "Episode: 230 total_reward: 24.0 reward_prob: 0.9168 loss: -0.6344\n",
      "Episode: 231 total_reward: 34.0 reward_prob: 0.9677 loss: -0.6696\n",
      "Episode: 232 total_reward: 43.0 reward_prob: 0.9866 loss: -0.6831\n",
      "Episode: 233 total_reward: 33.0 reward_prob: 0.9644 loss: -0.6671\n",
      "Episode: 234 total_reward: 30.0 reward_prob: 0.9526 loss: -0.6594\n",
      "Episode: 235 total_reward: 39.0 reward_prob: 0.9802 loss: -0.6781\n",
      "Episode: 236 total_reward: 36.0 reward_prob: 0.9734 loss: -0.6736\n",
      "Episode: 237 total_reward: 37.0 reward_prob: 0.9759 loss: -0.6754\n",
      "Episode: 238 total_reward: 31.0 reward_prob: 0.9569 loss: -0.6619\n",
      "Episode: 239 total_reward: 53.0 reward_prob: 0.9950 loss: -0.6885\n",
      "Episode: 240 total_reward: 27.0 reward_prob: 0.9370 loss: -0.6487\n",
      "Episode: 241 total_reward: 14.0 reward_prob: 0.8022 loss: -0.5553\n",
      "Episode: 242 total_reward: 17.0 reward_prob: 0.8455 loss: -0.5853\n",
      "Episode: 243 total_reward: 82.0 reward_prob: 0.9997 loss: -0.6918\n",
      "Episode: 244 total_reward: 43.0 reward_prob: 0.9866 loss: -0.6826\n",
      "Episode: 245 total_reward: 39.0 reward_prob: 0.9802 loss: -0.6778\n",
      "Episode: 246 total_reward: 47.0 reward_prob: 0.9910 loss: -0.6851\n",
      "Episode: 247 total_reward: 35.0 reward_prob: 0.9707 loss: -0.6712\n",
      "Episode: 248 total_reward: 14.0 reward_prob: 0.8022 loss: -0.5550\n",
      "Episode: 249 total_reward: 14.0 reward_prob: 0.8022 loss: -0.5551\n",
      "Episode: 250 total_reward: 10.0 reward_prob: 0.7311 loss: -0.5027\n",
      "Episode: 251 total_reward: 14.0 reward_prob: 0.8022 loss: -0.5547\n",
      "Episode: 252 total_reward: 77.0 reward_prob: 0.9995 loss: -0.6914\n",
      "Episode: 253 total_reward: 96.0 reward_prob: 0.9999 loss: -0.6916\n",
      "Episode: 254 total_reward: 39.0 reward_prob: 0.9802 loss: -0.6782\n",
      "Episode: 255 total_reward: 159.0 reward_prob: 1.0000 loss: -0.6916\n",
      "Episode: 256 total_reward: 32.0 reward_prob: 0.9608 loss: -0.6642\n",
      "Episode: 257 total_reward: 31.0 reward_prob: 0.9569 loss: -0.6615\n",
      "Episode: 258 total_reward: 26.0 reward_prob: 0.9309 loss: -0.6434\n",
      "Episode: 259 total_reward: 29.0 reward_prob: 0.9478 loss: -0.6554\n",
      "Episode: 260 total_reward: 13.0 reward_prob: 0.7858 loss: -0.5430\n",
      "Episode: 261 total_reward: 11.0 reward_prob: 0.7503 loss: -0.5182\n",
      "Episode: 262 total_reward: 12.0 reward_prob: 0.7685 loss: -0.5299\n",
      "Episode: 263 total_reward: 10.0 reward_prob: 0.7311 loss: -0.5042\n",
      "Episode: 264 total_reward: 8.0 reward_prob: 0.6900 loss: -0.4760\n",
      "Episode: 265 total_reward: 10.0 reward_prob: 0.7311 loss: -0.5053\n"
     ]
    },
    {
     "name": "stdout",
     "output_type": "stream",
     "text": [
      "Episode: 266 total_reward: 68.0 reward_prob: 0.9989 loss: -0.6910\n",
      "Episode: 267 total_reward: 13.0 reward_prob: 0.7858 loss: -0.5440\n",
      "Episode: 268 total_reward: 10.0 reward_prob: 0.7311 loss: -0.5061\n",
      "Episode: 269 total_reward: 11.0 reward_prob: 0.7503 loss: -0.5191\n",
      "Episode: 270 total_reward: 24.0 reward_prob: 0.9168 loss: -0.6342\n",
      "Episode: 271 total_reward: 20.0 reward_prob: 0.8808 loss: -0.6093\n",
      "Episode: 272 total_reward: 38.0 reward_prob: 0.9781 loss: -0.6762\n",
      "Episode: 273 total_reward: 38.0 reward_prob: 0.9781 loss: -0.6764\n",
      "Episode: 274 total_reward: 39.0 reward_prob: 0.9802 loss: -0.6781\n",
      "Episode: 275 total_reward: 129.0 reward_prob: 1.0000 loss: -0.6919\n",
      "Episode: 276 total_reward: 78.0 reward_prob: 0.9996 loss: -0.6915\n",
      "Episode: 277 total_reward: 368.0 reward_prob: 1.0000 loss: -0.6916\n",
      "Episode: 278 total_reward: 88.0 reward_prob: 0.9998 loss: -0.6919\n",
      "Episode: 279 total_reward: 52.0 reward_prob: 0.9945 loss: -0.6880\n",
      "Episode: 280 total_reward: 54.0 reward_prob: 0.9955 loss: -0.6884\n",
      "Episode: 281 total_reward: 38.0 reward_prob: 0.9781 loss: -0.6769\n",
      "Episode: 282 total_reward: 44.0 reward_prob: 0.9879 loss: -0.6831\n",
      "Episode: 283 total_reward: 12.0 reward_prob: 0.7685 loss: -0.5315\n",
      "Episode: 284 total_reward: 10.0 reward_prob: 0.7311 loss: -0.5054\n",
      "Episode: 285 total_reward: 11.0 reward_prob: 0.7503 loss: -0.5184\n",
      "Episode: 286 total_reward: 30.0 reward_prob: 0.9526 loss: -0.6585\n",
      "Episode: 287 total_reward: 36.0 reward_prob: 0.9734 loss: -0.6731\n",
      "Episode: 288 total_reward: 21.0 reward_prob: 0.8909 loss: -0.6164\n",
      "Episode: 289 total_reward: 37.0 reward_prob: 0.9759 loss: -0.6750\n",
      "Episode: 290 total_reward: 18.0 reward_prob: 0.8581 loss: -0.5937\n",
      "Episode: 291 total_reward: 15.0 reward_prob: 0.8176 loss: -0.5659\n",
      "Episode: 292 total_reward: 12.0 reward_prob: 0.7685 loss: -0.5316\n",
      "Episode: 293 total_reward: 11.0 reward_prob: 0.7503 loss: -0.5190\n",
      "Episode: 294 total_reward: 11.0 reward_prob: 0.7503 loss: -0.5193\n",
      "Episode: 295 total_reward: 11.0 reward_prob: 0.7503 loss: -0.5196\n",
      "Episode: 296 total_reward: 17.0 reward_prob: 0.8455 loss: -0.5847\n",
      "Episode: 297 total_reward: 18.0 reward_prob: 0.8581 loss: -0.5930\n",
      "Episode: 298 total_reward: 18.0 reward_prob: 0.8581 loss: -0.5930\n",
      "Episode: 299 total_reward: 9.0 reward_prob: 0.7109 loss: -0.4909\n",
      "Episode: 300 total_reward: 18.0 reward_prob: 0.8581 loss: -0.5932\n",
      "Episode: 301 total_reward: 18.0 reward_prob: 0.8581 loss: -0.5931\n",
      "Episode: 302 total_reward: 18.0 reward_prob: 0.8581 loss: -0.5931\n",
      "Episode: 303 total_reward: 16.0 reward_prob: 0.8320 loss: -0.5752\n",
      "Episode: 304 total_reward: 22.0 reward_prob: 0.9002 loss: -0.6226\n",
      "Episode: 305 total_reward: 28.0 reward_prob: 0.9427 loss: -0.6520\n",
      "Episode: 306 total_reward: 33.0 reward_prob: 0.9644 loss: -0.6675\n",
      "Episode: 307 total_reward: 23.0 reward_prob: 0.9089 loss: -0.6290\n",
      "Episode: 308 total_reward: 30.0 reward_prob: 0.9526 loss: -0.6595\n",
      "Episode: 309 total_reward: 25.0 reward_prob: 0.9241 loss: -0.6394\n",
      "Episode: 310 total_reward: 45.0 reward_prob: 0.9890 loss: -0.6847\n",
      "Episode: 311 total_reward: 22.0 reward_prob: 0.9002 loss: -0.6233\n",
      "Episode: 312 total_reward: 53.0 reward_prob: 0.9950 loss: -0.6888\n",
      "Episode: 313 total_reward: 33.0 reward_prob: 0.9644 loss: -0.6673\n",
      "Episode: 314 total_reward: 19.0 reward_prob: 0.8699 loss: -0.6017\n",
      "Episode: 315 total_reward: 22.0 reward_prob: 0.9002 loss: -0.6221\n",
      "Episode: 316 total_reward: 16.0 reward_prob: 0.8320 loss: -0.5753\n",
      "Episode: 317 total_reward: 10.0 reward_prob: 0.7311 loss: -0.5056\n",
      "Episode: 318 total_reward: 19.0 reward_prob: 0.8699 loss: -0.6016\n",
      "Episode: 319 total_reward: 15.0 reward_prob: 0.8176 loss: -0.5658\n",
      "Episode: 320 total_reward: 32.0 reward_prob: 0.9608 loss: -0.6645\n",
      "Episode: 321 total_reward: 17.0 reward_prob: 0.8455 loss: -0.5855\n",
      "Episode: 322 total_reward: 34.0 reward_prob: 0.9677 loss: -0.6694\n",
      "Episode: 323 total_reward: 12.0 reward_prob: 0.7685 loss: -0.5315\n",
      "Episode: 324 total_reward: 10.0 reward_prob: 0.7311 loss: -0.5058\n",
      "Episode: 325 total_reward: 10.0 reward_prob: 0.7311 loss: -0.5056\n",
      "Episode: 326 total_reward: 10.0 reward_prob: 0.7311 loss: -0.5055\n",
      "Episode: 327 total_reward: 44.0 reward_prob: 0.9879 loss: -0.6840\n",
      "Episode: 328 total_reward: 22.0 reward_prob: 0.9002 loss: -0.6230\n",
      "Episode: 329 total_reward: 27.0 reward_prob: 0.9370 loss: -0.6486\n",
      "Episode: 330 total_reward: 17.0 reward_prob: 0.8455 loss: -0.5852\n",
      "Episode: 331 total_reward: 15.0 reward_prob: 0.8176 loss: -0.5651\n",
      "Episode: 332 total_reward: 16.0 reward_prob: 0.8320 loss: -0.5759\n",
      "Episode: 333 total_reward: 14.0 reward_prob: 0.8022 loss: -0.5546\n",
      "Episode: 334 total_reward: 17.0 reward_prob: 0.8455 loss: -0.5849\n",
      "Episode: 335 total_reward: 26.0 reward_prob: 0.9309 loss: -0.6441\n",
      "Episode: 336 total_reward: 12.0 reward_prob: 0.7685 loss: -0.5317\n",
      "Episode: 337 total_reward: 34.0 reward_prob: 0.9677 loss: -0.6699\n",
      "Episode: 338 total_reward: 33.0 reward_prob: 0.9644 loss: -0.6671\n",
      "Episode: 339 total_reward: 93.0 reward_prob: 0.9999 loss: -0.6919\n",
      "Episode: 340 total_reward: 48.0 reward_prob: 0.9918 loss: -0.6867\n",
      "Episode: 341 total_reward: 75.0 reward_prob: 0.9994 loss: -0.6915\n",
      "Episode: 342 total_reward: 19.0 reward_prob: 0.8699 loss: -0.6018\n",
      "Episode: 343 total_reward: 47.0 reward_prob: 0.9910 loss: -0.6857\n",
      "Episode: 344 total_reward: 72.0 reward_prob: 0.9993 loss: -0.6916\n",
      "Episode: 345 total_reward: 20.0 reward_prob: 0.8808 loss: -0.6099\n",
      "Episode: 346 total_reward: 18.0 reward_prob: 0.8581 loss: -0.5941\n",
      "Episode: 347 total_reward: 12.0 reward_prob: 0.7685 loss: -0.5319\n",
      "Episode: 348 total_reward: 13.0 reward_prob: 0.7858 loss: -0.5437\n",
      "Episode: 349 total_reward: 12.0 reward_prob: 0.7685 loss: -0.5315\n",
      "Episode: 350 total_reward: 10.0 reward_prob: 0.7311 loss: -0.5058\n",
      "Episode: 351 total_reward: 10.0 reward_prob: 0.7311 loss: -0.5050\n",
      "Episode: 352 total_reward: 72.0 reward_prob: 0.9993 loss: -0.6922\n",
      "Episode: 353 total_reward: 53.0 reward_prob: 0.9950 loss: -0.6894\n",
      "Episode: 354 total_reward: 42.0 reward_prob: 0.9852 loss: -0.6822\n",
      "Episode: 355 total_reward: 84.0 reward_prob: 0.9998 loss: -0.6920\n",
      "Episode: 356 total_reward: 63.0 reward_prob: 0.9982 loss: -0.6911\n",
      "Episode: 357 total_reward: 102.0 reward_prob: 1.0000 loss: -0.6921\n",
      "Episode: 358 total_reward: 329.0 reward_prob: 1.0000 loss: -0.6921\n",
      "Episode: 359 total_reward: 121.0 reward_prob: 1.0000 loss: -0.6925\n",
      "Episode: 360 total_reward: 26.0 reward_prob: 0.9309 loss: -0.6442\n",
      "Episode: 361 total_reward: 42.0 reward_prob: 0.9852 loss: -0.6820\n",
      "Episode: 362 total_reward: 10.0 reward_prob: 0.7311 loss: -0.5061\n",
      "Episode: 363 total_reward: 31.0 reward_prob: 0.9569 loss: -0.6625\n",
      "Episode: 364 total_reward: 14.0 reward_prob: 0.8022 loss: -0.5554\n",
      "Episode: 365 total_reward: 12.0 reward_prob: 0.7685 loss: -0.5320\n",
      "Episode: 366 total_reward: 13.0 reward_prob: 0.7858 loss: -0.5440\n",
      "Episode: 367 total_reward: 21.0 reward_prob: 0.8909 loss: -0.6163\n",
      "Episode: 368 total_reward: 11.0 reward_prob: 0.7503 loss: -0.5182\n",
      "Episode: 369 total_reward: 20.0 reward_prob: 0.8808 loss: -0.6099\n",
      "Episode: 370 total_reward: 19.0 reward_prob: 0.8699 loss: -0.6020\n",
      "Episode: 371 total_reward: 11.0 reward_prob: 0.7503 loss: -0.5189\n",
      "Episode: 372 total_reward: 10.0 reward_prob: 0.7311 loss: -0.5058\n",
      "Episode: 373 total_reward: 18.0 reward_prob: 0.8581 loss: -0.5937\n",
      "Episode: 374 total_reward: 20.0 reward_prob: 0.8808 loss: -0.6095\n",
      "Episode: 375 total_reward: 20.0 reward_prob: 0.8808 loss: -0.6097\n",
      "Episode: 376 total_reward: 15.0 reward_prob: 0.8176 loss: -0.5658\n",
      "Episode: 377 total_reward: 9.0 reward_prob: 0.7109 loss: -0.4922\n",
      "Episode: 378 total_reward: 11.0 reward_prob: 0.7503 loss: -0.5193\n",
      "Episode: 379 total_reward: 10.0 reward_prob: 0.7311 loss: -0.5021\n",
      "Episode: 380 total_reward: 29.0 reward_prob: 0.9478 loss: -0.6553\n",
      "Episode: 381 total_reward: 33.0 reward_prob: 0.9644 loss: -0.6679\n",
      "Episode: 382 total_reward: 38.0 reward_prob: 0.9781 loss: -0.6769\n",
      "Episode: 383 total_reward: 86.0 reward_prob: 0.9998 loss: -0.6917\n",
      "Episode: 384 total_reward: 32.0 reward_prob: 0.9608 loss: -0.6645\n",
      "Episode: 385 total_reward: 57.0 reward_prob: 0.9967 loss: -0.6893\n",
      "Episode: 386 total_reward: 50.0 reward_prob: 0.9933 loss: -0.6872\n",
      "Episode: 387 total_reward: 75.0 reward_prob: 0.9994 loss: -0.6912\n",
      "Episode: 388 total_reward: 180.0 reward_prob: 1.0000 loss: -0.6921\n",
      "Episode: 389 total_reward: 72.0 reward_prob: 0.9993 loss: -0.6917\n",
      "Episode: 390 total_reward: 206.0 reward_prob: 1.0000 loss: -0.6924\n"
     ]
    },
    {
     "name": "stdout",
     "output_type": "stream",
     "text": [
      "Episode: 391 total_reward: 175.0 reward_prob: 1.0000 loss: -0.6920\n",
      "Episode: 392 total_reward: 113.0 reward_prob: 1.0000 loss: -0.6915\n",
      "Episode: 393 total_reward: 350.0 reward_prob: 1.0000 loss: -0.6917\n",
      "Episode: 394 total_reward: 65.0 reward_prob: 0.9985 loss: -0.6905\n",
      "Episode: 395 total_reward: 13.0 reward_prob: 0.7858 loss: -0.5440\n",
      "Episode: 396 total_reward: 16.0 reward_prob: 0.8320 loss: -0.5754\n",
      "Episode: 397 total_reward: 13.0 reward_prob: 0.7858 loss: -0.5437\n",
      "Episode: 398 total_reward: 10.0 reward_prob: 0.7311 loss: -0.5051\n",
      "Episode: 399 total_reward: 13.0 reward_prob: 0.7858 loss: -0.5419\n",
      "Episode: 400 total_reward: 15.0 reward_prob: 0.8176 loss: -0.5639\n",
      "Episode: 401 total_reward: 14.0 reward_prob: 0.8022 loss: -0.5527\n",
      "Episode: 402 total_reward: 14.0 reward_prob: 0.8022 loss: -0.5527\n",
      "Episode: 403 total_reward: 13.0 reward_prob: 0.7858 loss: -0.5411\n",
      "Episode: 404 total_reward: 10.0 reward_prob: 0.7311 loss: -0.5035\n",
      "Episode: 405 total_reward: 12.0 reward_prob: 0.7685 loss: -0.5288\n",
      "Episode: 406 total_reward: 12.0 reward_prob: 0.7685 loss: -0.5291\n",
      "Episode: 407 total_reward: 13.0 reward_prob: 0.7858 loss: -0.5412\n",
      "Episode: 408 total_reward: 9.0 reward_prob: 0.7109 loss: -0.4897\n",
      "Episode: 409 total_reward: 10.0 reward_prob: 0.7311 loss: -0.5031\n",
      "Episode: 410 total_reward: 11.0 reward_prob: 0.7503 loss: -0.5167\n",
      "Episode: 411 total_reward: 21.0 reward_prob: 0.8909 loss: -0.6154\n",
      "Episode: 412 total_reward: 47.0 reward_prob: 0.9910 loss: -0.6842\n",
      "Episode: 413 total_reward: 19.0 reward_prob: 0.8699 loss: -0.5999\n",
      "Episode: 414 total_reward: 22.0 reward_prob: 0.9002 loss: -0.6205\n",
      "Episode: 415 total_reward: 15.0 reward_prob: 0.8176 loss: -0.5634\n",
      "Episode: 416 total_reward: 14.0 reward_prob: 0.8022 loss: -0.5530\n",
      "Episode: 417 total_reward: 16.0 reward_prob: 0.8320 loss: -0.5733\n",
      "Episode: 418 total_reward: 14.0 reward_prob: 0.8022 loss: -0.5526\n",
      "Episode: 419 total_reward: 11.0 reward_prob: 0.7503 loss: -0.5164\n",
      "Episode: 420 total_reward: 12.0 reward_prob: 0.7685 loss: -0.5290\n",
      "Episode: 421 total_reward: 9.0 reward_prob: 0.7109 loss: -0.4886\n",
      "Episode: 422 total_reward: 10.0 reward_prob: 0.7311 loss: -0.5021\n",
      "Episode: 423 total_reward: 9.0 reward_prob: 0.7109 loss: -0.4882\n",
      "Episode: 424 total_reward: 9.0 reward_prob: 0.7109 loss: -0.4898\n",
      "Episode: 425 total_reward: 10.0 reward_prob: 0.7311 loss: -0.5049\n",
      "Episode: 426 total_reward: 21.0 reward_prob: 0.8909 loss: -0.6168\n",
      "Episode: 427 total_reward: 31.0 reward_prob: 0.9569 loss: -0.6622\n",
      "Episode: 428 total_reward: 18.0 reward_prob: 0.8581 loss: -0.5939\n",
      "Episode: 429 total_reward: 15.0 reward_prob: 0.8176 loss: -0.5656\n",
      "Episode: 430 total_reward: 12.0 reward_prob: 0.7685 loss: -0.5316\n",
      "Episode: 431 total_reward: 13.0 reward_prob: 0.7858 loss: -0.5433\n",
      "Episode: 432 total_reward: 11.0 reward_prob: 0.7503 loss: -0.5181\n",
      "Episode: 433 total_reward: 11.0 reward_prob: 0.7503 loss: -0.5189\n",
      "Episode: 434 total_reward: 9.0 reward_prob: 0.7109 loss: -0.4912\n",
      "Episode: 435 total_reward: 12.0 reward_prob: 0.7685 loss: -0.5314\n",
      "Episode: 436 total_reward: 16.0 reward_prob: 0.8320 loss: -0.5750\n",
      "Episode: 437 total_reward: 86.0 reward_prob: 0.9998 loss: -0.6910\n",
      "Episode: 438 total_reward: 70.0 reward_prob: 0.9991 loss: -0.6903\n",
      "Episode: 439 total_reward: 34.0 reward_prob: 0.9677 loss: -0.6685\n",
      "Episode: 440 total_reward: 29.0 reward_prob: 0.9478 loss: -0.6549\n",
      "Episode: 441 total_reward: 42.0 reward_prob: 0.9852 loss: -0.6807\n",
      "Episode: 442 total_reward: 48.0 reward_prob: 0.9918 loss: -0.6851\n",
      "Episode: 443 total_reward: 60.0 reward_prob: 0.9975 loss: -0.6894\n",
      "Episode: 444 total_reward: 126.0 reward_prob: 1.0000 loss: -0.6912\n",
      "Episode: 445 total_reward: 56.0 reward_prob: 0.9963 loss: -0.6888\n",
      "Episode: 446 total_reward: 70.0 reward_prob: 0.9991 loss: -0.6901\n",
      "Episode: 447 total_reward: 67.0 reward_prob: 0.9988 loss: -0.6905\n",
      "Episode: 448 total_reward: 25.0 reward_prob: 0.9241 loss: -0.6383\n",
      "Episode: 449 total_reward: 41.0 reward_prob: 0.9837 loss: -0.6790\n",
      "Episode: 450 total_reward: 27.0 reward_prob: 0.9370 loss: -0.6463\n",
      "Episode: 451 total_reward: 20.0 reward_prob: 0.8808 loss: -0.6077\n",
      "Episode: 452 total_reward: 20.0 reward_prob: 0.8808 loss: -0.6078\n",
      "Episode: 453 total_reward: 21.0 reward_prob: 0.8909 loss: -0.6147\n",
      "Episode: 454 total_reward: 17.0 reward_prob: 0.8455 loss: -0.5828\n",
      "Episode: 455 total_reward: 14.0 reward_prob: 0.8022 loss: -0.5528\n",
      "Episode: 456 total_reward: 10.0 reward_prob: 0.7311 loss: -0.5038\n",
      "Episode: 457 total_reward: 12.0 reward_prob: 0.7685 loss: -0.5298\n",
      "Episode: 458 total_reward: 11.0 reward_prob: 0.7503 loss: -0.5171\n",
      "Episode: 459 total_reward: 10.0 reward_prob: 0.7311 loss: -0.5031\n",
      "Episode: 460 total_reward: 11.0 reward_prob: 0.7503 loss: -0.5174\n",
      "Episode: 461 total_reward: 11.0 reward_prob: 0.7503 loss: -0.5184\n",
      "Episode: 462 total_reward: 14.0 reward_prob: 0.8022 loss: -0.5555\n",
      "Episode: 463 total_reward: 11.0 reward_prob: 0.7503 loss: -0.5192\n",
      "Episode: 464 total_reward: 11.0 reward_prob: 0.7503 loss: -0.5182\n",
      "Episode: 465 total_reward: 16.0 reward_prob: 0.8320 loss: -0.5755\n",
      "Episode: 466 total_reward: 18.0 reward_prob: 0.8581 loss: -0.5929\n",
      "Episode: 467 total_reward: 21.0 reward_prob: 0.8909 loss: -0.6155\n",
      "Episode: 468 total_reward: 25.0 reward_prob: 0.9241 loss: -0.6386\n",
      "Episode: 469 total_reward: 18.0 reward_prob: 0.8581 loss: -0.5930\n",
      "Episode: 470 total_reward: 28.0 reward_prob: 0.9427 loss: -0.6513\n",
      "Episode: 471 total_reward: 19.0 reward_prob: 0.8699 loss: -0.6014\n",
      "Episode: 472 total_reward: 21.0 reward_prob: 0.8909 loss: -0.6157\n",
      "Episode: 473 total_reward: 22.0 reward_prob: 0.9002 loss: -0.6228\n",
      "Episode: 474 total_reward: 22.0 reward_prob: 0.9002 loss: -0.6228\n",
      "Episode: 475 total_reward: 17.0 reward_prob: 0.8455 loss: -0.5851\n",
      "Episode: 476 total_reward: 20.0 reward_prob: 0.8808 loss: -0.6097\n",
      "Episode: 477 total_reward: 12.0 reward_prob: 0.7685 loss: -0.5320\n",
      "Episode: 478 total_reward: 19.0 reward_prob: 0.8699 loss: -0.6021\n",
      "Episode: 479 total_reward: 33.0 reward_prob: 0.9644 loss: -0.6677\n",
      "Episode: 480 total_reward: 51.0 reward_prob: 0.9939 loss: -0.6879\n",
      "Episode: 481 total_reward: 25.0 reward_prob: 0.9241 loss: -0.6391\n",
      "Episode: 482 total_reward: 16.0 reward_prob: 0.8320 loss: -0.5750\n",
      "Episode: 483 total_reward: 13.0 reward_prob: 0.7858 loss: -0.5411\n",
      "Episode: 484 total_reward: 14.0 reward_prob: 0.8022 loss: -0.5525\n",
      "Episode: 485 total_reward: 14.0 reward_prob: 0.8022 loss: -0.5529\n",
      "Episode: 486 total_reward: 19.0 reward_prob: 0.8699 loss: -0.5999\n",
      "Episode: 487 total_reward: 14.0 reward_prob: 0.8022 loss: -0.5535\n",
      "Episode: 488 total_reward: 16.0 reward_prob: 0.8320 loss: -0.5742\n",
      "Episode: 489 total_reward: 11.0 reward_prob: 0.7503 loss: -0.5177\n",
      "Episode: 490 total_reward: 11.0 reward_prob: 0.7503 loss: -0.5184\n",
      "Episode: 491 total_reward: 9.0 reward_prob: 0.7109 loss: -0.4913\n",
      "Episode: 492 total_reward: 21.0 reward_prob: 0.8909 loss: -0.6163\n",
      "Episode: 493 total_reward: 32.0 reward_prob: 0.9608 loss: -0.6647\n",
      "Episode: 494 total_reward: 57.0 reward_prob: 0.9967 loss: -0.6893\n",
      "Episode: 495 total_reward: 36.0 reward_prob: 0.9734 loss: -0.6732\n",
      "Episode: 496 total_reward: 18.0 reward_prob: 0.8581 loss: -0.5941\n",
      "Episode: 497 total_reward: 13.0 reward_prob: 0.7858 loss: -0.5437\n",
      "Episode: 498 total_reward: 9.0 reward_prob: 0.7109 loss: -0.4915\n",
      "Episode: 499 total_reward: 10.0 reward_prob: 0.7311 loss: -0.5054\n",
      "Episode: 500 total_reward: 14.0 reward_prob: 0.8022 loss: -0.5553\n",
      "Episode: 501 total_reward: 21.0 reward_prob: 0.8909 loss: -0.6167\n",
      "Episode: 502 total_reward: 21.0 reward_prob: 0.8909 loss: -0.6168\n",
      "Episode: 503 total_reward: 40.0 reward_prob: 0.9820 loss: -0.6798\n",
      "Episode: 504 total_reward: 50.0 reward_prob: 0.9933 loss: -0.6878\n",
      "Episode: 505 total_reward: 40.0 reward_prob: 0.9820 loss: -0.6799\n",
      "Episode: 506 total_reward: 81.0 reward_prob: 0.9997 loss: -0.6922\n",
      "Episode: 507 total_reward: 36.0 reward_prob: 0.9734 loss: -0.6733\n",
      "Episode: 508 total_reward: 120.0 reward_prob: 1.0000 loss: -0.6923\n",
      "Episode: 509 total_reward: 37.0 reward_prob: 0.9759 loss: -0.6749\n",
      "Episode: 510 total_reward: 30.0 reward_prob: 0.9526 loss: -0.6589\n",
      "Episode: 511 total_reward: 20.0 reward_prob: 0.8808 loss: -0.6088\n",
      "Episode: 512 total_reward: 41.0 reward_prob: 0.9837 loss: -0.6805\n",
      "Episode: 513 total_reward: 32.0 reward_prob: 0.9608 loss: -0.6646\n",
      "Episode: 514 total_reward: 23.0 reward_prob: 0.9089 loss: -0.6287\n",
      "Episode: 515 total_reward: 36.0 reward_prob: 0.9734 loss: -0.6734\n",
      "Episode: 516 total_reward: 26.0 reward_prob: 0.9309 loss: -0.6440\n",
      "Episode: 517 total_reward: 30.0 reward_prob: 0.9526 loss: -0.6591\n",
      "Episode: 518 total_reward: 23.0 reward_prob: 0.9089 loss: -0.6292\n",
      "Episode: 519 total_reward: 25.0 reward_prob: 0.9241 loss: -0.6398\n"
     ]
    },
    {
     "name": "stdout",
     "output_type": "stream",
     "text": [
      "Episode: 520 total_reward: 66.0 reward_prob: 0.9986 loss: -0.6905\n",
      "Episode: 521 total_reward: 500.0 reward_prob: 1.0000 loss: -0.6921\n"
     ]
    }
   ],
   "source": [
    "# Now train with experiences\n",
    "saver = tf.train.Saver()\n",
    "rewards_list, loss_list = [], []\n",
    "\n",
    "# TF session for training\n",
    "with tf.Session(graph=graph) as sess:\n",
    "    sess.run(tf.global_variables_initializer())\n",
    "    #saver.restore(sess, 'checkpoints/model.ckpt')    \n",
    "    saver.restore(sess, tf.train.latest_checkpoint('checkpoints'))\n",
    "    \n",
    "    # Training episodes/epochs\n",
    "    for ep in range(1000):\n",
    "        state = env.reset() # env first state\n",
    "        batch = [] # every data batch\n",
    "        total_reward = 0\n",
    "\n",
    "        # Training steps\n",
    "        #for _ in range(max_steps): # start=0, step=1, stop=max_steps/done/reward\n",
    "        while True:\n",
    "            action_logits = sess.run(model.actions_logits, feed_dict={model.states: np.reshape(state, [1, -1])})\n",
    "            action = np.argmax(action_logits)\n",
    "            batch.append([state, action])\n",
    "            state, reward, done, _ = env.step(action)\n",
    "            total_reward += reward\n",
    "            if done is True:\n",
    "                break\n",
    "        \n",
    "        # Training batches\n",
    "        #batch = memory.buffer\n",
    "        states = np.array([each[0] for each in batch])\n",
    "        actions = np.array([each[1] for each in batch])\n",
    "        loss, _, reward_prob = sess.run([model.loss, model.opt, model.reward_prob],\n",
    "                                        feed_dict = {model.states: states, \n",
    "                                                     model.actions: actions,\n",
    "                                                     model.reward: total_reward})\n",
    "        print('Episode: {}'.format(ep),\n",
    "              'total_reward: {}'.format(total_reward),\n",
    "              'reward_prob: {:.4f}'.format(reward_prob),\n",
    "              'loss: {:.4f}'.format(loss))\n",
    "        rewards_list.append([ep, total_reward])\n",
    "        loss_list.append([ep, loss])\n",
    "        if total_reward == 500:\n",
    "            break\n",
    "            \n",
    "    # At the end of all training episodes/epochs\n",
    "    saver.save(sess, 'checkpoints/model.ckpt')"
   ]
  },
  {
   "cell_type": "markdown",
   "metadata": {},
   "source": [
    "# Visualizing training\n",
    "\n",
    "Below I'll plot the total rewards for each episode. I'm plotting the rolling average too, in blue."
   ]
  },
  {
   "cell_type": "code",
   "execution_count": 77,
   "metadata": {},
   "outputs": [],
   "source": [
    "import matplotlib.pyplot as plt\n",
    "%matplotlib inline\n",
    "\n",
    "def running_mean(x, N):\n",
    "    cumsum = np.cumsum(np.insert(x, 0, 0)) \n",
    "    return (cumsum[N:] - cumsum[:-N]) / N "
   ]
  },
  {
   "cell_type": "code",
   "execution_count": 78,
   "metadata": {},
   "outputs": [
    {
     "data": {
      "text/plain": [
       "Text(0,0.5,'Total rewards')"
      ]
     },
     "execution_count": 78,
     "metadata": {},
     "output_type": "execute_result"
    },
    {
     "data": {
      "image/png": "[encoded data removed]",
      "text/plain": [
       "<Figure size 432x288 with 1 Axes>"
      ]
     },
     "metadata": {},
     "output_type": "display_data"
    }
   ],
   "source": [
    "eps, arr = np.array(rewards_list).T\n",
    "smoothed_arr = running_mean(arr, 10)\n",
    "plt.plot(eps[-len(smoothed_arr):], smoothed_arr)\n",
    "plt.plot(eps, arr, color='grey', alpha=0.3)\n",
    "plt.xlabel('Episode')\n",
    "plt.ylabel('Total rewards')"
   ]
  },
  {
   "cell_type": "code",
   "execution_count": 79,
   "metadata": {},
   "outputs": [
    {
     "data": {
      "text/plain": [
       "Text(0,0.5,'Batch losses')"
      ]
     },
     "execution_count": 79,
     "metadata": {},
     "output_type": "execute_result"
    },
    {
     "data": {
      "image/png": "[encoded data removed]",
      "text/plain": [
       "<Figure size 432x288 with 1 Axes>"
      ]
     },
     "metadata": {},
     "output_type": "display_data"
    }
   ],
   "source": [
    "eps, arr = np.array(loss_list).T\n",
    "smoothed_arr = running_mean(arr, 10)\n",
    "plt.plot(eps[-len(smoothed_arr):], smoothed_arr)\n",
    "plt.plot(eps, arr, color='grey', alpha=0.3)\n",
    "plt.xlabel('Episode')\n",
    "plt.ylabel('Batch losses')"
   ]
  },
  {
   "cell_type": "markdown",
   "metadata": {},
   "source": [
    "## Testing\n",
    "\n",
    "Let's checkout how our trained agent plays the game."
   ]
  },
  {
   "cell_type": "code",
   "execution_count": 80,
   "metadata": {},
   "outputs": [
    {
     "name": "stdout",
     "output_type": "stream",
     "text": [
      "\u001b[33mWARN: gym.spaces.Box autodetected dtype as <class 'numpy.float32'>. Please provide explicit dtype.\u001b[0m\n",
      "\u001b[33mWARN: gym.spaces.Box autodetected dtype as <class 'numpy.float32'>. Please provide explicit dtype.\u001b[0m\n",
      "INFO:tensorflow:Restoring parameters from checkpoints/model.ckpt\n"
     ]
    },
    {
     "name": "stderr",
     "output_type": "stream",
     "text": [
      "/home/arasdar/anaconda3/envs/env/lib/python3.6/site-packages/gym/__init__.py:22: UserWarning: DEPRECATION WARNING: to improve load times, gym no longer automatically loads gym.spaces. Please run \"import gym.spaces\" to load gym.spaces on your own. This warning will turn into an error in a future version of gym.\n",
      "  warnings.warn('DEPRECATION WARNING: to improve load times, gym no longer automatically loads gym.spaces. Please run \"import gym.spaces\" to load gym.spaces on your own. This warning will turn into an error in a future version of gym.')\n"
     ]
    },
    {
     "name": "stdout",
     "output_type": "stream",
     "text": [
      "total_reward: 500.00\n"
     ]
    }
   ],
   "source": [
    "import gym\n",
    "env = gym.make('CartPole-v0')\n",
    "env = gym.make('CartPole-v1')\n",
    "# env = gym.make('Acrobot-v1')\n",
    "# env = gym.make('MountainCar-v0')\n",
    "# env = gym.make('Pendulum-v0')\n",
    "# env = gym.make('Blackjack-v0')\n",
    "# env = gym.make('FrozenLake-v0')\n",
    "# env = gym.make('AirRaid-ram-v0')\n",
    "# env = gym.make('AirRaid-v0')\n",
    "# env = gym.make('BipedalWalker-v2')\n",
    "# env = gym.make('Copy-v0')\n",
    "# env = gym.make('CarRacing-v0')\n",
    "# env = gym.make('Ant-v2') #mujoco\n",
    "# env = gym.make('FetchPickAndPlace-v1') # mujoco required!\n",
    "\n",
    "with tf.Session() as sess:\n",
    "    #sess.run(tf.global_variables_initializer())\n",
    "    saver.restore(sess, 'checkpoints/model.ckpt')    \n",
    "    #saver.restore(sess, tf.train.latest_checkpoint('checkpoints'))\n",
    "    \n",
    "    # Episodes/epochs\n",
    "    for _ in range(1):\n",
    "        state = env.reset()\n",
    "        total_reward = 0\n",
    "\n",
    "        # Steps/batches\n",
    "        #for _ in range(111111111111111111):\n",
    "        while True:\n",
    "            env.render()\n",
    "            action_logits = sess.run(model.actions_logits, feed_dict={model.states: np.reshape(state, [1, -1])})\n",
    "            action = np.argmax(action_logits)\n",
    "            state, reward, done, _ = env.step(action)\n",
    "            total_reward += reward\n",
    "            if done:\n",
    "                break\n",
    "                \n",
    "        # Closing the env\n",
    "        print('total_reward: {:.2f}'.format(total_reward))\n",
    "        env.close()"
   ]
  },
  {
   "cell_type": "markdown",
   "metadata": {},
   "source": [
    "## Extending this\n",
    "\n",
    "So, Cart-Pole is a pretty simple game. However, the same model can be used to train an agent to play something much more complicated like Pong or Space Invaders. Instead of a state like we're using here though, you'd want to use convolutional layers to get the state from the screen images.\n",
    "\n",
    "![Deep Q-Learning Atari](assets/atari-network.png)\n",
    "\n",
    "I'll leave it as a challenge for you to use deep Q-learning to train an agent to play Atari games. Here's the original paper which will get you started: http://www.davidqiu.com:8888/research/nature14236.pdf."
   ]
  },
  {
   "cell_type": "code",
   "execution_count": null,
   "metadata": {},
   "outputs": [],
   "source": []
  }
 ],
 "metadata": {
  "kernelspec": {
   "display_name": "Python 3",
   "language": "python",
   "name": "python3"
  },
  "language_info": {
   "codemirror_mode": {
    "name": "ipython",
    "version": 3
   },
   "file_extension": ".py",
   "mimetype": "text/x-python",
   "name": "python",
   "nbconvert_exporter": "python",
   "pygments_lexer": "ipython3",
   "version": "3.6.5"
  }
 },
 "nbformat": 4,
 "nbformat_minor": 2
}
