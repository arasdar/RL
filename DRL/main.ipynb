{
 "cells": [
  {
   "cell_type": "markdown",
   "metadata": {},
   "source": [
    "# Deep cortical reinforcement learning: Policy gradients + Q-learning + GAN\n",
    "\n",
    "\n",
    "In this notebook, we'll build a neural network that can learn to play games through reinforcement learning. More specifically, we'll use Q-learning to train an agent to play a game called [Cart-Pole](https://gym.openai.com/envs/CartPole-v0). In this game, a freely swinging pole is attached to a cart. The cart can move to the left and right, and the goal is to keep the pole upright as long as possible.\n",
    "\n",
    "![Cart-Pole](assets/cart-pole.jpg)\n",
    "\n",
    "We can simulate this game using [OpenAI Gym](https://gym.openai.com/). First, let's check out how OpenAI Gym works. Then, we'll get into training an agent to play the Cart-Pole game."
   ]
  },
  {
   "cell_type": "code",
   "execution_count": 1,
   "metadata": {},
   "outputs": [
    {
     "name": "stdout",
     "output_type": "stream",
     "text": [
      "TensorFlow Version: 1.7.1\n",
      "Default GPU Device: \n"
     ]
    }
   ],
   "source": [
    "# In this one we should define and detect GPUs for tensorflow\n",
    "# GPUs or CPU\n",
    "import tensorflow as tf\n",
    "\n",
    "# Check TensorFlow Version\n",
    "print('TensorFlow Version: {}'.format(tf.__version__))\n",
    "\n",
    "# Check for a GPU\n",
    "print('Default GPU Device: {}'.format(tf.test.gpu_device_name()))"
   ]
  },
  {
   "cell_type": "markdown",
   "metadata": {},
   "source": [
    ">**Note:** Make sure you have OpenAI Gym cloned into the same directory with this notebook. I've included `gym` as a submodule, so you can run `git submodule --init --recursive` to pull the contents into the `gym` repo."
   ]
  },
  {
   "cell_type": "markdown",
   "metadata": {},
   "source": [
    "##### >**Note:** Make sure you have OpenAI Gym cloned. Then run this command `pip install -e gym/[all]`."
   ]
  },
  {
   "cell_type": "code",
   "execution_count": 2,
   "metadata": {},
   "outputs": [
    {
     "name": "stdout",
     "output_type": "stream",
     "text": [
      "\u001b[33mWARN: gym.spaces.Box autodetected dtype as <class 'numpy.float32'>. Please provide explicit dtype.\u001b[0m\n",
      "\u001b[33mWARN: gym.spaces.Box autodetected dtype as <class 'numpy.float32'>. Please provide explicit dtype.\u001b[0m\n"
     ]
    },
    {
     "name": "stderr",
     "output_type": "stream",
     "text": [
      "/home/arasdar/anaconda3/envs/env/lib/python3.6/site-packages/gym/__init__.py:22: UserWarning: DEPRECATION WARNING: to improve load times, gym no longer automatically loads gym.spaces. Please run \"import gym.spaces\" to load gym.spaces on your own. This warning will turn into an error in a future version of gym.\n",
      "  warnings.warn('DEPRECATION WARNING: to improve load times, gym no longer automatically loads gym.spaces. Please run \"import gym.spaces\" to load gym.spaces on your own. This warning will turn into an error in a future version of gym.')\n"
     ]
    }
   ],
   "source": [
    "import gym\n",
    "\n",
    "## Create the Cart-Pole game environment\n",
    "env = gym.make('CartPole-v0')\n",
    "env = gym.make('CartPole-v1')\n",
    "# env = gym.make('Acrobot-v1')\n",
    "# env = gym.make('MountainCar-v0')\n",
    "# env = gym.make('MountainCarContinuous-v0')\n",
    "# env = gym.make('Pendulum-v0')\n",
    "# env = gym.make('Blackjack-v0')\n",
    "# env = gym.make('FrozenLake-v0')\n",
    "# env = gym.make('AirRaid-ram-v0')\n",
    "# env = gym.make('AirRaid-v0')\n",
    "# env = gym.make('BipedalWalker-v2')\n",
    "# env = gym.make('Copy-v0')\n",
    "# env = gym.make('CarRacing-v0')\n",
    "# env = gym.make('Ant-v2') #mujoco\n",
    "# env = gym.make('FetchPickAndPlace-v1') # mujoco required!"
   ]
  },
  {
   "cell_type": "markdown",
   "metadata": {},
   "source": [
    "We interact with the simulation through `env`. To show the simulation running, you can use `env.render()` to render one frame. Passing in an action as an integer to `env.step` will generate the next step in the simulation.  You can see how many actions are possible from `env.action_space` and to get a random action you can use `env.action_space.sample()`. This is general to all Gym games. In the Cart-Pole game, there are two possible actions, moving the cart left or right. So there are two actions we can take, encoded as 0 and 1.\n",
    "\n",
    "Run the code below to watch the simulation run."
   ]
  },
  {
   "cell_type": "code",
   "execution_count": 3,
   "metadata": {},
   "outputs": [],
   "source": [
    "env.reset()\n",
    "batch = []\n",
    "for _ in range(1111):\n",
    "    #env.render()\n",
    "    action = env.action_space.sample()\n",
    "    state, reward, done, info = env.step(action) # take a random action\n",
    "    batch.append([action, state, reward, done, info])\n",
    "    #print('state, action, reward, done, info:', state, action, reward, done, info)\n",
    "    if done:\n",
    "        env.reset()"
   ]
  },
  {
   "cell_type": "markdown",
   "metadata": {},
   "source": [
    "To shut the window showing the simulation, use `env.close()`."
   ]
  },
  {
   "cell_type": "code",
   "execution_count": 4,
   "metadata": {},
   "outputs": [],
   "source": [
    "# env.close()"
   ]
  },
  {
   "cell_type": "markdown",
   "metadata": {},
   "source": [
    "If you ran the simulation above, we can look at the rewards:"
   ]
  },
  {
   "cell_type": "code",
   "execution_count": 5,
   "metadata": {},
   "outputs": [
    {
     "data": {
      "text/plain": [
       "((4,), (4,))"
      ]
     },
     "execution_count": 5,
     "metadata": {},
     "output_type": "execute_result"
    }
   ],
   "source": [
    "batch[0], \n",
    "batch[0][1].shape, state.shape"
   ]
  },
  {
   "cell_type": "code",
   "execution_count": 6,
   "metadata": {},
   "outputs": [],
   "source": [
    "import numpy as np\n",
    "actions = np.array([each[0] for each in batch])\n",
    "states = np.array([each[1] for each in batch])\n",
    "rewards = np.array([each[2] for each in batch])\n",
    "dones = np.array([each[3] for each in batch])\n",
    "infos = np.array([each[4] for each in batch])"
   ]
  },
  {
   "cell_type": "code",
   "execution_count": 7,
   "metadata": {},
   "outputs": [
    {
     "name": "stdout",
     "output_type": "stream",
     "text": [
      "shapes: (1111,) (1111, 4) (1111,) (1111,)\n",
      "dtypes: float64 float64 int64 bool\n",
      "states: 2.5133374675157323 -2.6909381116309703\n",
      "actions: 1 0\n",
      "rewards: 1.0 1.0\n"
     ]
    }
   ],
   "source": [
    "# print(rewards[-20:])\n",
    "print('shapes:', np.array(rewards).shape, np.array(states).shape, np.array(actions).shape, np.array(dones).shape)\n",
    "print('dtypes:', np.array(rewards).dtype, np.array(states).dtype, np.array(actions).dtype, np.array(dones).dtype)\n",
    "print('states:', np.max(np.array(states)), np.min(np.array(states)))\n",
    "print('actions:', np.max(np.array(actions)), np.min(np.array(actions)))\n",
    "# print((np.max(np.array(actions)) - np.min(np.array(actions)))+1)\n",
    "print('rewards:', np.max(np.array(rewards)), np.min(np.array(rewards)))"
   ]
  },
  {
   "cell_type": "code",
   "execution_count": 8,
   "metadata": {},
   "outputs": [
    {
     "data": {
      "text/plain": [
       "array([0, 1, 1, 0, 1, 1, 1, 1, 1, 1])"
      ]
     },
     "execution_count": 8,
     "metadata": {},
     "output_type": "execute_result"
    }
   ],
   "source": [
    "actions[:10]"
   ]
  },
  {
   "cell_type": "code",
   "execution_count": 9,
   "metadata": {},
   "outputs": [
    {
     "data": {
      "text/plain": [
       "array([1., 1., 1., 1., 1., 1., 1., 1., 1., 1.])"
      ]
     },
     "execution_count": 9,
     "metadata": {},
     "output_type": "execute_result"
    }
   ],
   "source": [
    "rewards[:10]"
   ]
  },
  {
   "cell_type": "code",
   "execution_count": 10,
   "metadata": {},
   "outputs": [],
   "source": [
    "# import numpy as np\n",
    "def sigmoid(x, derivative=False):\n",
    "  return x*(1-x) if derivative else 1/(1+np.exp(-x))"
   ]
  },
  {
   "cell_type": "code",
   "execution_count": 11,
   "metadata": {},
   "outputs": [
    {
     "data": {
      "text/plain": [
       "(0.7310585786300049, 0.7310585786300049)"
      ]
     },
     "execution_count": 11,
     "metadata": {},
     "output_type": "execute_result"
    }
   ],
   "source": [
    "sigmoid(np.max(np.array(rewards))), sigmoid(np.min(np.array(rewards)))"
   ]
  },
  {
   "cell_type": "code",
   "execution_count": 12,
   "metadata": {},
   "outputs": [
    {
     "name": "stdout",
     "output_type": "stream",
     "text": [
      "rewards: 0.01 0.01\n"
     ]
    }
   ],
   "source": [
    "print('rewards:', np.max(np.array(rewards))/100, np.min(np.array(rewards))/100)"
   ]
  },
  {
   "cell_type": "markdown",
   "metadata": {},
   "source": [
    "The game resets after the pole has fallen past a certain angle. For each frame while the simulation is running, it returns a reward of 1.0. The longer the game runs, the more reward we get. Then, our network's goal is to maximize the reward by keeping the pole vertical. It will do this by moving the cart to the left and the right."
   ]
  },
  {
   "cell_type": "markdown",
   "metadata": {},
   "source": [
    "## Q-Network\n",
    "\n",
    "We train our Q-learning agent using the Bellman Equation:\n",
    "\n",
    "$$\n",
    "Q(s, a) = r + \\gamma \\max{Q(s', a')}\n",
    "$$\n",
    "\n",
    "where $s$ is a state, $a$ is an action, and $s'$ is the next state from state $s$ and action $a$.\n",
    "\n",
    "Before we used this equation to learn values for a Q-_table_. However, for this game there are a huge number of states available. The state has four values: the position and velocity of the cart, and the position and velocity of the pole. These are all real-valued numbers, so ignoring floating point precisions, you practically have infinite states. Instead of using a table then, we'll replace it with a neural network that will approximate the Q-table lookup function.\n",
    "\n",
    "<img src=\"assets/deep-q-learning.png\" width=450px>\n",
    "\n",
    "Now, our Q value, $Q(s, a)$ is calculated by passing in a state to the network. The output will be Q-values for each available action, with fully connected hidden layers.\n",
    "\n",
    "<img src=\"assets/q-network.png\" width=550px>\n",
    "\n",
    "\n",
    "As I showed before, we can define our targets for training as $\\hat{Q}(s,a) = r + \\gamma \\max{Q(s', a')}$. Then we update the weights by minimizing $(\\hat{Q}(s,a) - Q(s,a))^2$. \n",
    "\n",
    "For this Cart-Pole game, we have four inputs, one for each value in the state, and two outputs, one for each action. To get $\\hat{Q}$, we'll first choose an action, then simulate the game using that action. This will get us the next state, $s'$, and the reward. With that, we can calculate $\\hat{Q}$ then pass it back into the $Q$ network to run the optimizer and update the weights.\n",
    "\n",
    "Below is my implementation of the Q-network. I used two fully connected layers with ReLU activations. Two seems to be good enough, three might be better. Feel free to try it out."
   ]
  },
  {
   "cell_type": "code",
   "execution_count": 26,
   "metadata": {},
   "outputs": [],
   "source": [
    "# Data of the model\n",
    "def model_input(state_size):\n",
    "    states = tf.placeholder(tf.float32, [None, state_size], name='states')\n",
    "    actions = tf.placeholder(tf.int32, [None], name='actions')\n",
    "    targetQs = tf.placeholder(tf.float32, [None], name='targetQs')\n",
    "    rewards = tf.placeholder(tf.float32, [None], name='rewards')\n",
    "    rate = tf.placeholder(tf.float32, [], name='rate')\n",
    "    return states, actions, targetQs, rewards, rate"
   ]
  },
  {
   "cell_type": "code",
   "execution_count": 27,
   "metadata": {},
   "outputs": [],
   "source": [
    "# How to use batch-norm\n",
    "#   x_norm = tf.layers.batch_normalization(x, training=training)\n",
    "\n",
    "#   # ...\n",
    "\n",
    "#   update_ops = tf.get_collection(tf.GraphKeys.UPDATE_OPS)\n",
    "#   with tf.control_dependencies(update_ops):\n",
    "#     train_op = optimizer.minimize(loss)"
   ]
  },
  {
   "cell_type": "code",
   "execution_count": 28,
   "metadata": {},
   "outputs": [],
   "source": [
    "# training: Either a Python boolean, or a TensorFlow boolean scalar tensor (e.g. a placeholder). \n",
    "# Whether to return the output in: \n",
    "# training mode (normalized with statistics of the current batch) or \n",
    "# inference mode (normalized with moving statistics). \n",
    "# NOTE: make sure to set this parameter correctly, or else your training/inference will not work properly."
   ]
  },
  {
   "cell_type": "code",
   "execution_count": 29,
   "metadata": {},
   "outputs": [],
   "source": [
    "# Generator/Controller: Generating/prediting the actions\n",
    "def generator(states, action_size, hidden_size, reuse=False, alpha=0.1, training=False):\n",
    "    with tf.variable_scope('generator', reuse=reuse):\n",
    "        # First fully connected layer\n",
    "        h1 = tf.layers.dense(inputs=states, units=hidden_size)\n",
    "        bn1 = tf.layers.batch_normalization(h1, training=training)        \n",
    "        nl1 = tf.maximum(alpha * bn1, bn1)\n",
    "        \n",
    "        # Second fully connected layer\n",
    "        h2 = tf.layers.dense(inputs=nl1, units=hidden_size)\n",
    "        bn2 = tf.layers.batch_normalization(h2, training=training)        \n",
    "        nl2 = tf.maximum(alpha * bn2, bn2)\n",
    "        \n",
    "        # Output layer\n",
    "        logits = tf.layers.dense(inputs=nl2, units=action_size)        \n",
    "        #predictions = tf.nn.softmax(logits)\n",
    "\n",
    "        # return actions logits\n",
    "        return logits"
   ]
  },
  {
   "cell_type": "code",
   "execution_count": 30,
   "metadata": {},
   "outputs": [],
   "source": [
    "# Discriminator/Dopamine: Reward function/planner/naviator/advisor/supervisor/cortical columns\n",
    "def discriminator(states, actions, hidden_size, reuse=False, alpha=0.1, training=False):\n",
    "    with tf.variable_scope('discriminator', reuse=reuse):\n",
    "        # Fusion/merge states and actions/ SA/ SM\n",
    "        x_fused = tf.concat(axis=1, values=[states, actions])\n",
    "        \n",
    "        # First fully connected layer\n",
    "        h1 = tf.layers.dense(inputs=x_fused, units=hidden_size)\n",
    "        bn1 = tf.layers.batch_normalization(h1, training=training)        \n",
    "        nl1 = tf.maximum(alpha * bn1, bn1)\n",
    "        \n",
    "        # Second fully connected layer\n",
    "        h2 = tf.layers.dense(inputs=nl1, units=hidden_size)\n",
    "        bn2 = tf.layers.batch_normalization(h2, training=training)        \n",
    "        nl2 = tf.maximum(alpha * bn2, bn2)\n",
    "        \n",
    "        # Output layer\n",
    "        logits = tf.layers.dense(inputs=nl2, units=1)        \n",
    "        #predictions = tf.nn.softmax(logits)\n",
    "\n",
    "        # return rewards logits\n",
    "        return logits"
   ]
  },
  {
   "cell_type": "code",
   "execution_count": 40,
   "metadata": {},
   "outputs": [],
   "source": [
    "def model_loss(action_size, hidden_size, states, actions, targetQs, rewards, rate):\n",
    "    # G\n",
    "    actions_logits = generator(states=states, hidden_size=hidden_size, action_size=action_size)\n",
    "    actions_labels = tf.one_hot(indices=actions, depth=action_size, dtype=actions_logits.dtype)\n",
    "    neg_log_prob_actions = tf.nn.softmax_cross_entropy_with_logits_v2(logits=actions_logits, \n",
    "                                                                      labels=actions_labels)\n",
    "    Qs_labels = rewards[:-1] + (0.99 * targetQs[1:])\n",
    "    #g_loss = tf.reduce_mean(neg_log_prob_actions[:-1] * targetQs[1:])\n",
    "    g_loss = tf.reduce_mean(neg_log_prob_actions[:-1] * Qs_labels)\n",
    "    \n",
    "    # D\n",
    "    Qs_logits = discriminator(actions=actions_logits, hidden_size=hidden_size, states=states)\n",
    "    d_lossR = tf.reduce_mean(tf.nn.sigmoid_cross_entropy_with_logits(logits=Qs_logits,\n",
    "                                                                     labels=rate * tf.ones_like(Qs_logits)))\n",
    "    d_lossQ = tf.reduce_mean(tf.nn.sigmoid_cross_entropy_with_logits(logits=tf.reshape(Qs_logits[:-1], shape=[-1]),\n",
    "                                                                     labels=tf.nn.sigmoid(Qs_labels)))\n",
    "    d_loss = d_lossR + d_lossQ\n",
    "\n",
    "    return actions_logits, Qs_logits, g_loss, d_loss, d_lossR, d_lossQ"
   ]
  },
  {
   "cell_type": "code",
   "execution_count": 41,
   "metadata": {},
   "outputs": [],
   "source": [
    "# Optimizating/training/learning G & D\n",
    "def model_opt(g_loss, d_loss, learning_rate):\n",
    "    \"\"\"\n",
    "    Get optimization operations in order\n",
    "    :param g_loss: Generator loss Tensor for action prediction\n",
    "    :param d_loss: Discriminator loss Tensor for reward prediction for generated/prob/logits action\n",
    "    :param learning_rate: Learning Rate Placeholder\n",
    "    :return: A tuple of (qfunction training, generator training, discriminator training)\n",
    "    \"\"\"\n",
    "    # Get weights and bias to update\n",
    "    t_vars = tf.trainable_variables()\n",
    "    g_vars = [var for var in t_vars if var.name.startswith('generator')]\n",
    "    d_vars = [var for var in t_vars if var.name.startswith('discriminator')]\n",
    "\n",
    "    # Optimize\n",
    "    with tf.control_dependencies(tf.get_collection(tf.GraphKeys.UPDATE_OPS)): # Required for batchnorm (BN)\n",
    "        g_opt = tf.train.AdamOptimizer(learning_rate).minimize(g_loss, var_list=g_vars)\n",
    "        d_opt = tf.train.AdamOptimizer(learning_rate).minimize(d_loss, var_list=d_vars)\n",
    "\n",
    "    return g_opt, d_opt"
   ]
  },
  {
   "cell_type": "code",
   "execution_count": 42,
   "metadata": {},
   "outputs": [],
   "source": [
    "class Model:\n",
    "    def __init__(self, state_size, action_size, hidden_size, learning_rate):\n",
    "\n",
    "        # Data of the Model: make the data available inside the framework\n",
    "        self.states, self.actions, self.targetQs, self.rewards, self.rate = model_input(state_size=state_size)\n",
    "\n",
    "        # Create the Model: calculating the loss and forwad pass\n",
    "        self.actions_logits, self.Qs_logits, self.g_loss, self.d_loss, self.d_lossR, self.d_lossQ = model_loss(\n",
    "            action_size=action_size, hidden_size=hidden_size, # model init parameters\n",
    "            states=self.states, actions=self.actions, # model input\n",
    "            targetQs=self.targetQs, rewards=self.rewards, rate=self.rate) # model input\n",
    "        \n",
    "        # Update the model: backward pass and backprop\n",
    "        self.g_opt, self.d_opt = model_opt(g_loss=self.g_loss, d_loss=self.d_loss, learning_rate=learning_rate)"
   ]
  },
  {
   "cell_type": "markdown",
   "metadata": {},
   "source": [
    "## Hyperparameters\n",
    "\n",
    "One of the more difficult aspects of reinforcememt learning are the large number of hyperparameters. Not only are we tuning the network, but we're tuning the simulation."
   ]
  },
  {
   "cell_type": "code",
   "execution_count": 43,
   "metadata": {},
   "outputs": [
    {
     "name": "stdout",
     "output_type": "stream",
     "text": [
      "state size:(500, 4) actions:(500,)\n",
      "action size:2\n"
     ]
    }
   ],
   "source": [
    "print('state size:{}'.format(states.shape), \n",
    "      'actions:{}'.format(actions.shape)) \n",
    "print('action size:{}'.format(np.max(actions) - np.min(actions)+1))"
   ]
  },
  {
   "cell_type": "code",
   "execution_count": 44,
   "metadata": {},
   "outputs": [],
   "source": [
    "# Training parameters\n",
    "# Network parameters\n",
    "state_size = 4               # number of units for the input state/observation -- simulation\n",
    "action_size = 2              # number of units for the output actions -- simulation\n",
    "hidden_size = 64             # number of units in each Q-network hidden layer -- simulation\n",
    "learning_rate = 0.001          # learning rate for adam"
   ]
  },
  {
   "cell_type": "code",
   "execution_count": 45,
   "metadata": {},
   "outputs": [],
   "source": [
    "# Reset/init the graph/session\n",
    "graph = tf.reset_default_graph()\n",
    "\n",
    "# Init the model\n",
    "model = Model(action_size=action_size, hidden_size=hidden_size, state_size=state_size, learning_rate=learning_rate)"
   ]
  },
  {
   "cell_type": "markdown",
   "metadata": {},
   "source": [
    "## Training the model\n",
    "\n",
    "Below we'll train our agent. If you want to watch it train, uncomment the `env.render()` line. This is slow because it's rendering the frames slower than the network can train. But, it's cool to watch the agent get better at the game."
   ]
  },
  {
   "cell_type": "code",
   "execution_count": 46,
   "metadata": {},
   "outputs": [],
   "source": [
    "# import gym\n",
    "\n",
    "# ## Create the Cart-Pole game environment\n",
    "# env = gym.make('CartPole-v0')\n",
    "# env = gym.make('CartPole-v1')\n",
    "# env = gym.make('Acrobot-v1')\n",
    "# # env = gym.make('MountainCar-v0')\n",
    "# # env = gym.make('Pendulum-v0')\n",
    "# # env = gym.make('Blackjack-v0')\n",
    "# # env = gym.make('FrozenLake-v0')\n",
    "# # env = gym.make('AirRaid-ram-v0')\n",
    "# # env = gym.make('AirRaid-v0')\n",
    "# # env = gym.make('BipedalWalker-v2')\n",
    "# # env = gym.make('Copy-v0')\n",
    "# # env = gym.make('CarRacing-v0')\n",
    "# # env = gym.make('Ant-v2') #mujoco\n",
    "# # env = gym.make('FetchPickAndPlace-v1') # mujoco required!"
   ]
  },
  {
   "cell_type": "code",
   "execution_count": null,
   "metadata": {},
   "outputs": [
    {
     "name": "stdout",
     "output_type": "stream",
     "text": [
      "Episode:0 meanR:11.0000 rate:0.0220 gloss:0.3409 dloss:1.2658 dlossR:0.5112 dlossQ:0.7545\n",
      "Episode:1 meanR:10.5000 rate:0.0200 gloss:0.2893 dloss:1.2516 dlossR:0.4940 dlossQ:0.7576\n",
      "Episode:2 meanR:10.3333 rate:0.0200 gloss:0.2439 dloss:1.2372 dlossR:0.4781 dlossQ:0.7591\n",
      "Episode:3 meanR:10.0000 rate:0.0180 gloss:0.2123 dloss:1.2246 dlossR:0.4661 dlossQ:0.7585\n",
      "Episode:4 meanR:9.8000 rate:0.0180 gloss:0.1701 dloss:1.2059 dlossR:0.4457 dlossQ:0.7602\n",
      "Episode:5 meanR:9.8333 rate:0.0200 gloss:0.1222 dloss:1.1769 dlossR:0.4203 dlossQ:0.7566\n",
      "Episode:6 meanR:9.7143 rate:0.0180 gloss:0.1103 dloss:1.1690 dlossR:0.4143 dlossQ:0.7547\n",
      "Episode:7 meanR:9.7500 rate:0.0200 gloss:0.0479 dloss:1.1227 dlossR:0.3773 dlossQ:0.7454\n",
      "Episode:8 meanR:9.6667 rate:0.0180 gloss:0.0362 dloss:1.1148 dlossR:0.3733 dlossQ:0.7416\n",
      "Episode:9 meanR:9.7000 rate:0.0200 gloss:-0.0135 dloss:1.0677 dlossR:0.3433 dlossQ:0.7244\n",
      "Episode:10 meanR:9.6364 rate:0.0180 gloss:-0.0437 dloss:1.0489 dlossR:0.3312 dlossQ:0.7176\n",
      "Episode:11 meanR:9.7500 rate:0.0220 gloss:-0.1173 dloss:0.9683 dlossR:0.2967 dlossQ:0.6716\n",
      "Episode:12 meanR:9.6923 rate:0.0180 gloss:-0.1351 dloss:0.9822 dlossR:0.2958 dlossQ:0.6864\n",
      "Episode:13 meanR:9.6429 rate:0.0180 gloss:-0.2022 dloss:0.9374 dlossR:0.2761 dlossQ:0.6613\n",
      "Episode:14 meanR:9.6667 rate:0.0200 gloss:-0.2649 dloss:0.8957 dlossR:0.2648 dlossQ:0.6309\n",
      "Episode:15 meanR:9.5625 rate:0.0160 gloss:-0.2585 dloss:0.9327 dlossR:0.2745 dlossQ:0.6582\n",
      "Episode:16 meanR:9.5882 rate:0.0200 gloss:-0.4210 dloss:0.8251 dlossR:0.2366 dlossQ:0.5885\n",
      "Episode:17 meanR:9.6111 rate:0.0200 gloss:-0.5063 dloss:0.8032 dlossR:0.2325 dlossQ:0.5707\n",
      "Episode:18 meanR:9.6316 rate:0.0200 gloss:-0.6561 dloss:0.7488 dlossR:0.2123 dlossQ:0.5365\n",
      "Episode:19 meanR:9.6000 rate:0.0180 gloss:-0.6570 dloss:0.7821 dlossR:0.2208 dlossQ:0.5613\n",
      "Episode:20 meanR:9.5714 rate:0.0180 gloss:-0.7765 dloss:0.7550 dlossR:0.2121 dlossQ:0.5429\n",
      "Episode:21 meanR:9.6818 rate:0.0240 gloss:-0.5125 dloss:0.9308 dlossR:0.2339 dlossQ:0.6969\n",
      "Episode:22 meanR:9.8696 rate:0.0280 gloss:-0.3218 dloss:1.0343 dlossR:0.2640 dlossQ:0.7703\n",
      "Episode:23 meanR:10.5000 rate:0.0500 gloss:-0.1457 dloss:1.1394 dlossR:0.3281 dlossQ:0.8112\n",
      "Episode:24 meanR:11.2400 rate:0.0580 gloss:0.0331 dloss:1.2087 dlossR:0.3890 dlossQ:0.8197\n",
      "Episode:25 meanR:12.0000 rate:0.0620 gloss:0.0366 dloss:1.2180 dlossR:0.3914 dlossQ:0.8266\n",
      "Episode:26 meanR:13.7407 rate:0.1180 gloss:0.1230 dloss:1.2892 dlossR:0.4664 dlossQ:0.8227\n",
      "Episode:27 meanR:15.4286 rate:0.1220 gloss:0.1208 dloss:1.2915 dlossR:0.4694 dlossQ:0.8221\n",
      "Episode:28 meanR:16.3448 rate:0.0840 gloss:0.1797 dloss:1.2743 dlossR:0.4588 dlossQ:0.8154\n",
      "Episode:29 meanR:17.3333 rate:0.0920 gloss:0.1964 dloss:1.2828 dlossR:0.4707 dlossQ:0.8121\n",
      "Episode:30 meanR:20.3871 rate:0.2240 gloss:0.0627 dloss:1.3700 dlossR:0.5471 dlossQ:0.8228\n",
      "Episode:31 meanR:21.6250 rate:0.1200 gloss:0.2442 dloss:1.3097 dlossR:0.5056 dlossQ:0.8042\n",
      "Episode:32 meanR:23.1818 rate:0.1460 gloss:0.2427 dloss:1.3257 dlossR:0.5224 dlossQ:0.8033\n",
      "Episode:33 meanR:25.6471 rate:0.2140 gloss:0.2459 dloss:1.3677 dlossR:0.5657 dlossQ:0.8020\n",
      "Episode:34 meanR:30.8286 rate:0.4140 gloss:-0.0628 dloss:1.5442 dlossR:0.7731 dlossQ:0.7711\n",
      "Episode:35 meanR:33.5000 rate:0.2540 gloss:-0.2811 dloss:1.3493 dlossR:0.6198 dlossQ:0.7295\n",
      "Episode:36 meanR:35.3243 rate:0.2020 gloss:0.3133 dloss:1.3618 dlossR:0.5750 dlossQ:0.7868\n",
      "Episode:37 meanR:37.2895 rate:0.2200 gloss:0.3258 dloss:1.3711 dlossR:0.5877 dlossQ:0.7835\n",
      "Episode:38 meanR:38.7179 rate:0.1860 gloss:0.2588 dloss:1.3482 dlossR:0.5565 dlossQ:0.7917\n",
      "Episode:39 meanR:39.7500 rate:0.1600 gloss:0.2608 dloss:1.3343 dlossR:0.5409 dlossQ:0.7934\n",
      "Episode:40 meanR:40.9512 rate:0.1780 gloss:0.3119 dloss:1.3496 dlossR:0.5682 dlossQ:0.7814\n",
      "Episode:41 meanR:41.7143 rate:0.1460 gloss:0.3258 dloss:1.3376 dlossR:0.5568 dlossQ:0.7808\n",
      "Episode:42 meanR:42.9070 rate:0.1860 gloss:0.3417 dloss:1.3579 dlossR:0.5826 dlossQ:0.7753\n",
      "Episode:43 meanR:43.6818 rate:0.1540 gloss:0.3450 dloss:1.3448 dlossR:0.5694 dlossQ:0.7754\n",
      "Episode:44 meanR:44.0667 rate:0.1220 gloss:0.3554 dloss:1.3336 dlossR:0.5617 dlossQ:0.7718\n",
      "Episode:45 meanR:44.2826 rate:0.1080 gloss:0.3629 dloss:1.3300 dlossR:0.5625 dlossQ:0.7674\n",
      "Episode:46 meanR:44.7447 rate:0.1320 gloss:0.3683 dloss:1.3412 dlossR:0.5763 dlossQ:0.7649\n",
      "Episode:47 meanR:45.1875 rate:0.1320 gloss:0.3674 dloss:1.3421 dlossR:0.5784 dlossQ:0.7637\n",
      "Episode:48 meanR:45.7959 rate:0.1500 gloss:0.3657 dloss:1.3497 dlossR:0.5865 dlossQ:0.7632\n",
      "Episode:49 meanR:46.0400 rate:0.1160 gloss:0.3583 dloss:1.3360 dlossR:0.5715 dlossQ:0.7645\n",
      "Episode:50 meanR:46.2941 rate:0.1180 gloss:0.3523 dloss:1.3369 dlossR:0.5717 dlossQ:0.7652\n",
      "Episode:51 meanR:47.0385 rate:0.1700 gloss:0.3494 dloss:1.3573 dlossR:0.5931 dlossQ:0.7642\n",
      "Episode:52 meanR:47.6604 rate:0.1600 gloss:0.3356 dloss:1.3506 dlossR:0.5825 dlossQ:0.7681\n",
      "Episode:53 meanR:48.8704 rate:0.2260 gloss:0.3635 dloss:1.3787 dlossR:0.6207 dlossQ:0.7580\n",
      "Episode:54 meanR:50.0364 rate:0.2260 gloss:0.3223 dloss:1.3768 dlossR:0.6078 dlossQ:0.7690\n",
      "Episode:55 meanR:51.1071 rate:0.2200 gloss:0.3139 dloss:1.3753 dlossR:0.6058 dlossQ:0.7694\n",
      "Episode:56 meanR:51.1930 rate:0.1120 gloss:0.3524 dloss:1.3430 dlossR:0.5847 dlossQ:0.7583\n",
      "Episode:57 meanR:51.5345 rate:0.1420 gloss:0.3441 dloss:1.3524 dlossR:0.5935 dlossQ:0.7589\n",
      "Episode:58 meanR:51.4407 rate:0.0920 gloss:0.3431 dloss:1.3357 dlossR:0.5766 dlossQ:0.7592\n",
      "Episode:59 meanR:51.3833 rate:0.0960 gloss:0.3298 dloss:1.3352 dlossR:0.5738 dlossQ:0.7614\n",
      "Episode:60 meanR:51.6885 rate:0.1400 gloss:0.3254 dloss:1.3484 dlossR:0.5865 dlossQ:0.7619\n",
      "Episode:61 meanR:52.8226 rate:0.2440 gloss:0.2685 dloss:1.3829 dlossR:0.6039 dlossQ:0.7790\n",
      "Episode:62 meanR:52.9206 rate:0.1180 gloss:0.2974 dloss:1.3365 dlossR:0.5690 dlossQ:0.7676\n",
      "Episode:63 meanR:54.1719 rate:0.2660 gloss:0.2723 dloss:1.3928 dlossR:0.6187 dlossQ:0.7741\n",
      "Episode:64 meanR:54.2308 rate:0.1160 gloss:0.2776 dloss:1.3342 dlossR:0.5645 dlossQ:0.7697\n",
      "Episode:65 meanR:54.1212 rate:0.0940 gloss:0.2688 dloss:1.3238 dlossR:0.5523 dlossQ:0.7715\n",
      "Episode:66 meanR:54.0746 rate:0.1020 gloss:0.2628 dloss:1.3244 dlossR:0.5511 dlossQ:0.7734\n",
      "Episode:67 meanR:53.9706 rate:0.0940 gloss:0.2534 dloss:1.3200 dlossR:0.5454 dlossQ:0.7746\n",
      "Episode:68 meanR:53.6957 rate:0.0700 gloss:0.2390 dloss:1.3070 dlossR:0.5298 dlossQ:0.7772\n",
      "Episode:69 meanR:53.5429 rate:0.0860 gloss:0.2270 dloss:1.3108 dlossR:0.5310 dlossQ:0.7797\n",
      "Episode:70 meanR:53.6338 rate:0.1200 gloss:0.2004 dloss:1.3254 dlossR:0.5442 dlossQ:0.7813\n",
      "Episode:71 meanR:53.6667 rate:0.1120 gloss:0.1903 dloss:1.3180 dlossR:0.5337 dlossQ:0.7842\n",
      "Episode:72 meanR:53.5342 rate:0.0880 gloss:0.1891 dloss:1.3027 dlossR:0.5165 dlossQ:0.7862\n",
      "Episode:73 meanR:53.2027 rate:0.0580 gloss:0.1757 dloss:1.2830 dlossR:0.4926 dlossQ:0.7904\n",
      "Episode:74 meanR:53.0800 rate:0.0880 gloss:0.1581 dloss:1.2949 dlossR:0.5029 dlossQ:0.7920\n",
      "Episode:75 meanR:52.9474 rate:0.0860 gloss:0.1455 dloss:1.2920 dlossR:0.4971 dlossQ:0.7949\n",
      "Episode:76 meanR:52.6234 rate:0.0560 gloss:0.1400 dloss:1.2673 dlossR:0.4698 dlossQ:0.7974\n",
      "Episode:77 meanR:52.9744 rate:0.1600 gloss:0.1351 dloss:1.3337 dlossR:0.5363 dlossQ:0.7974\n",
      "Episode:78 meanR:52.6835 rate:0.0600 gloss:0.1160 dloss:1.2623 dlossR:0.4606 dlossQ:0.8017\n",
      "Episode:79 meanR:52.3750 rate:0.0560 gloss:0.1079 dloss:1.2564 dlossR:0.4531 dlossQ:0.8033\n",
      "Episode:80 meanR:52.4198 rate:0.1120 gloss:0.1075 dloss:1.2978 dlossR:0.4962 dlossQ:0.8016\n",
      "Episode:81 meanR:52.3293 rate:0.0900 gloss:0.0950 dloss:1.2772 dlossR:0.4724 dlossQ:0.8048\n",
      "Episode:82 meanR:52.3735 rate:0.1120 gloss:0.1024 dloss:1.2922 dlossR:0.4865 dlossQ:0.8057\n",
      "Episode:83 meanR:52.0833 rate:0.0560 gloss:0.0824 dloss:1.2462 dlossR:0.4387 dlossQ:0.8075\n",
      "Episode:84 meanR:51.9412 rate:0.0800 gloss:0.0820 dloss:1.2642 dlossR:0.4581 dlossQ:0.8061\n",
      "Episode:85 meanR:51.6744 rate:0.0580 gloss:0.0763 dloss:1.2448 dlossR:0.4347 dlossQ:0.8101\n",
      "Episode:86 meanR:51.5402 rate:0.0800 gloss:0.0680 dloss:1.2613 dlossR:0.4527 dlossQ:0.8087\n",
      "Episode:87 meanR:51.6591 rate:0.1240 gloss:0.0782 dloss:1.2958 dlossR:0.4876 dlossQ:0.8083\n",
      "Episode:88 meanR:51.7303 rate:0.1160 gloss:0.0685 dloss:1.2873 dlossR:0.4797 dlossQ:0.8076\n",
      "Episode:89 meanR:51.5222 rate:0.0660 gloss:0.0626 dloss:1.2474 dlossR:0.4375 dlossQ:0.8099\n",
      "Episode:90 meanR:51.4835 rate:0.0960 gloss:0.0612 dloss:1.2705 dlossR:0.4624 dlossQ:0.8082\n",
      "Episode:91 meanR:51.2717 rate:0.0640 gloss:0.0626 dloss:1.2434 dlossR:0.4348 dlossQ:0.8086\n",
      "Episode:92 meanR:51.1290 rate:0.0760 gloss:0.0541 dloss:1.2510 dlossR:0.4416 dlossQ:0.8094\n"
     ]
    },
    {
     "name": "stdout",
     "output_type": "stream",
     "text": [
      "Episode:93 meanR:51.0426 rate:0.0860 gloss:0.0587 dloss:1.2634 dlossR:0.4548 dlossQ:0.8087\n",
      "Episode:94 meanR:50.8316 rate:0.0620 gloss:0.0575 dloss:1.2421 dlossR:0.4321 dlossQ:0.8101\n",
      "Episode:95 meanR:50.7396 rate:0.0840 gloss:0.0540 dloss:1.2597 dlossR:0.4513 dlossQ:0.8084\n",
      "Episode:96 meanR:50.5979 rate:0.0740 gloss:0.0537 dloss:1.2530 dlossR:0.4441 dlossQ:0.8089\n",
      "Episode:97 meanR:50.4184 rate:0.0660 gloss:0.0538 dloss:1.2472 dlossR:0.4383 dlossQ:0.8089\n",
      "Episode:98 meanR:50.1717 rate:0.0520 gloss:0.0589 dloss:1.2353 dlossR:0.4266 dlossQ:0.8087\n",
      "Episode:99 meanR:50.0200 rate:0.0700 gloss:0.0499 dloss:1.2489 dlossR:0.4397 dlossQ:0.8092\n",
      "Episode:100 meanR:50.2500 rate:0.0680 gloss:0.0525 dloss:1.2477 dlossR:0.4392 dlossQ:0.8085\n",
      "Episode:101 meanR:50.6100 rate:0.0920 gloss:0.0525 dloss:1.2696 dlossR:0.4626 dlossQ:0.8070\n",
      "Episode:102 meanR:50.8600 rate:0.0700 gloss:0.0495 dloss:1.2482 dlossR:0.4396 dlossQ:0.8086\n",
      "Episode:103 meanR:51.1200 rate:0.0700 gloss:0.0537 dloss:1.2496 dlossR:0.4413 dlossQ:0.8082\n",
      "Episode:104 meanR:51.3600 rate:0.0660 gloss:0.0482 dloss:1.2460 dlossR:0.4382 dlossQ:0.8078\n",
      "Episode:105 meanR:51.8700 rate:0.1220 gloss:0.0547 dloss:1.2940 dlossR:0.4892 dlossQ:0.8048\n",
      "Episode:106 meanR:52.4700 rate:0.1380 gloss:0.0682 dloss:1.3077 dlossR:0.5045 dlossQ:0.8032\n",
      "Episode:107 meanR:52.6700 rate:0.0600 gloss:0.0484 dloss:1.2386 dlossR:0.4313 dlossQ:0.8073\n",
      "Episode:108 meanR:53.1900 rate:0.1220 gloss:0.0575 dloss:1.2978 dlossR:0.4955 dlossQ:0.8023\n",
      "Episode:109 meanR:53.5900 rate:0.1000 gloss:0.0545 dloss:1.2821 dlossR:0.4799 dlossQ:0.8022\n",
      "Episode:110 meanR:53.9200 rate:0.0840 gloss:0.0622 dloss:1.2699 dlossR:0.4669 dlossQ:0.8030\n",
      "Episode:111 meanR:54.3900 rate:0.1160 gloss:0.0607 dloss:1.2984 dlossR:0.4996 dlossQ:0.7988\n",
      "Episode:112 meanR:54.7100 rate:0.0820 gloss:0.0624 dloss:1.2727 dlossR:0.4721 dlossQ:0.8006\n",
      "Episode:113 meanR:54.9900 rate:0.0740 gloss:0.0600 dloss:1.2648 dlossR:0.4632 dlossQ:0.8015\n",
      "Episode:114 meanR:55.2700 rate:0.0760 gloss:0.0580 dloss:1.2682 dlossR:0.4673 dlossQ:0.8010\n",
      "Episode:115 meanR:55.9800 rate:0.1580 gloss:0.0729 dloss:1.3291 dlossR:0.5338 dlossQ:0.7952\n",
      "Episode:116 meanR:56.2800 rate:0.0800 gloss:0.0609 dloss:1.2710 dlossR:0.4695 dlossQ:0.8015\n",
      "Episode:117 meanR:56.4800 rate:0.0600 gloss:0.0648 dloss:1.2569 dlossR:0.4551 dlossQ:0.8018\n",
      "Episode:118 meanR:57.0600 rate:0.1360 gloss:0.0850 dloss:1.3139 dlossR:0.5161 dlossQ:0.7978\n",
      "Episode:119 meanR:57.7900 rate:0.1640 gloss:0.0656 dloss:1.3336 dlossR:0.5396 dlossQ:0.7941\n",
      "Episode:120 meanR:58.3200 rate:0.1240 gloss:0.0809 dloss:1.3059 dlossR:0.5080 dlossQ:0.7980\n",
      "Episode:121 meanR:58.4900 rate:0.0580 gloss:0.0631 dloss:1.2556 dlossR:0.4552 dlossQ:0.8004\n",
      "Episode:122 meanR:58.7500 rate:0.0800 gloss:0.0643 dloss:1.2774 dlossR:0.4802 dlossQ:0.7972\n",
      "Episode:123 meanR:58.8300 rate:0.0660 gloss:0.0568 dloss:1.2616 dlossR:0.4613 dlossQ:0.8003\n",
      "Episode:124 meanR:59.0000 rate:0.0920 gloss:0.0520 dloss:1.2808 dlossR:0.4808 dlossQ:0.8000\n",
      "Episode:125 meanR:59.2300 rate:0.1080 gloss:0.0491 dloss:1.2929 dlossR:0.4938 dlossQ:0.7991\n",
      "Episode:126 meanR:58.9400 rate:0.0600 gloss:0.0511 dloss:1.2498 dlossR:0.4457 dlossQ:0.8042\n",
      "Episode:127 meanR:58.8000 rate:0.0940 gloss:0.0371 dloss:1.2767 dlossR:0.4742 dlossQ:0.8024\n",
      "Episode:128 meanR:58.7200 rate:0.0680 gloss:0.0416 dloss:1.2495 dlossR:0.4436 dlossQ:0.8059\n",
      "Episode:129 meanR:58.7800 rate:0.1040 gloss:0.0298 dloss:1.2778 dlossR:0.4722 dlossQ:0.8056\n",
      "Episode:130 meanR:58.0300 rate:0.0740 gloss:0.0299 dloss:1.2498 dlossR:0.4420 dlossQ:0.8078\n",
      "Episode:131 meanR:57.7900 rate:0.0720 gloss:0.0311 dloss:1.2434 dlossR:0.4349 dlossQ:0.8085\n",
      "Episode:132 meanR:57.3700 rate:0.0620 gloss:0.0272 dloss:1.2345 dlossR:0.4249 dlossQ:0.8096\n",
      "Episode:133 meanR:56.6200 rate:0.0640 gloss:0.0216 dloss:1.2316 dlossR:0.4218 dlossQ:0.8099\n",
      "Episode:134 meanR:54.8500 rate:0.0600 gloss:0.0230 dloss:1.2260 dlossR:0.4154 dlossQ:0.8106\n",
      "Episode:135 meanR:54.0500 rate:0.0940 gloss:0.0195 dloss:1.2589 dlossR:0.4486 dlossQ:0.8103\n",
      "Episode:136 meanR:53.5300 rate:0.0980 gloss:0.0198 dloss:1.2647 dlossR:0.4553 dlossQ:0.8094\n",
      "Episode:137 meanR:52.7700 rate:0.0680 gloss:0.0227 dloss:1.2351 dlossR:0.4254 dlossQ:0.8097\n",
      "Episode:138 meanR:52.6200 rate:0.1560 gloss:0.0457 dloss:1.3176 dlossR:0.5114 dlossQ:0.8061\n",
      "Episode:139 meanR:52.1100 rate:0.0580 gloss:0.0270 dloss:1.2312 dlossR:0.4230 dlossQ:0.8082\n",
      "Episode:140 meanR:52.0800 rate:0.1720 gloss:0.0432 dloss:1.3337 dlossR:0.5351 dlossQ:0.7987\n",
      "Episode:141 meanR:51.6900 rate:0.0680 gloss:0.0412 dloss:1.2572 dlossR:0.4556 dlossQ:0.8017\n",
      "Episode:142 meanR:51.0800 rate:0.0640 gloss:0.0432 dloss:1.2590 dlossR:0.4591 dlossQ:0.7999\n",
      "Episode:143 meanR:50.7200 rate:0.0820 gloss:0.0416 dloss:1.2768 dlossR:0.4797 dlossQ:0.7971\n",
      "Episode:144 meanR:50.4100 rate:0.0600 gloss:0.0548 dloss:1.2570 dlossR:0.4565 dlossQ:0.8005\n",
      "Episode:145 meanR:50.1900 rate:0.0640 gloss:0.0487 dloss:1.2611 dlossR:0.4619 dlossQ:0.7992\n",
      "Episode:146 meanR:49.9900 rate:0.0920 gloss:0.0398 dloss:1.2803 dlossR:0.4805 dlossQ:0.7998\n",
      "Episode:147 meanR:49.8200 rate:0.0980 gloss:0.0339 dloss:1.2812 dlossR:0.4795 dlossQ:0.8017\n",
      "Episode:148 meanR:49.4000 rate:0.0660 gloss:0.0355 dloss:1.2523 dlossR:0.4477 dlossQ:0.8046\n",
      "Episode:149 meanR:49.1600 rate:0.0680 gloss:0.0347 dloss:1.2485 dlossR:0.4419 dlossQ:0.8066\n",
      "Episode:150 meanR:49.2400 rate:0.1340 gloss:0.0230 dloss:1.3020 dlossR:0.4969 dlossQ:0.8051\n",
      "Episode:151 meanR:48.7200 rate:0.0660 gloss:0.0262 dloss:1.2391 dlossR:0.4294 dlossQ:0.8097\n",
      "Episode:152 meanR:48.8300 rate:0.1820 gloss:0.0339 dloss:1.3362 dlossR:0.5316 dlossQ:0.8046\n",
      "Episode:153 meanR:48.0700 rate:0.0740 gloss:0.0260 dloss:1.2491 dlossR:0.4411 dlossQ:0.8080\n",
      "Episode:154 meanR:47.6800 rate:0.1480 gloss:0.0500 dloss:1.3143 dlossR:0.5123 dlossQ:0.8020\n"
     ]
    }
   ],
   "source": [
    "from collections import deque\n",
    "episodes_total_reward = deque(maxlen=100) # 100 episodes average/running average/running mean/window\n",
    "saver = tf.train.Saver()\n",
    "rewards_list, g_loss_list, d_loss_list = [], [], []\n",
    "\n",
    "# TF session for training\n",
    "with tf.Session(graph=graph) as sess:\n",
    "    sess.run(tf.global_variables_initializer())\n",
    "    #saver.restore(sess, 'checkpoints/model.ckpt')    \n",
    "    #saver.restore(sess, tf.train.latest_checkpoint('checkpoints'))\n",
    "    \n",
    "    # Training episodes/epochs\n",
    "    for ep in range(111111):\n",
    "        batch = [] # every data batch\n",
    "        total_reward = 0\n",
    "        state = env.reset() # env first state\n",
    "\n",
    "        # Training steps/batches\n",
    "        while True:\n",
    "            action_logits, Q_logits = sess.run(fetches=[model.actions_logits, model.Qs_logits], \n",
    "                                               feed_dict={model.states: np.reshape(state, [1, -1])})\n",
    "            action = np.argmax(action_logits)\n",
    "            next_state, reward, done, _ = env.step(action)\n",
    "            batch.append([state, action, Q_logits, reward])\n",
    "            total_reward += reward\n",
    "            state = next_state\n",
    "            if done is True: # episode ended success/failure\n",
    "                episodes_total_reward.append(total_reward) # stopping criteria\n",
    "                rate = total_reward/ 500 # success is 500 points: 0-1\n",
    "                break\n",
    "\n",
    "        # Training using batches\n",
    "        #batch = memory.buffer\n",
    "        states = np.array([each[0] for each in batch])\n",
    "        actions = np.array([each[1] for each in batch])\n",
    "        targetQs = np.array([each[2] for each in batch])\n",
    "        rewards = np.array([each[3] for each in batch])\n",
    "        g_loss, d_loss, d_lossR, d_lossQ, _, _ = sess.run([model.g_loss, model.d_loss, \n",
    "                                                           model.d_lossR, model.d_lossQ, \n",
    "                                                           model.g_opt, model.d_opt],\n",
    "                                                          feed_dict = {model.states: states, \n",
    "                                                                       model.actions: actions,\n",
    "                                                                       model.targetQs: targetQs.reshape([-1]),\n",
    "                                                                       model.rewards: rewards, \n",
    "                                                                       model.rate: rate})\n",
    "        # Average 100 episode total reward\n",
    "        # Print out\n",
    "        print('Episode:{}'.format(ep),\n",
    "              'meanR:{:.4f}'.format(np.mean(episodes_total_reward)),\n",
    "              'rate:{:.4f}'.format(rate),\n",
    "              'gloss:{:.4f}'.format(g_loss),\n",
    "              'dloss:{:.4f}'.format(d_loss),\n",
    "              'dlossR:{:.4f}'.format(d_lossR),\n",
    "              'dlossQ:{:.4f}'.format(d_lossQ))\n",
    "        # Ploting out\n",
    "        rewards_list.append([ep, np.mean(episodes_total_reward)])\n",
    "        g_loss_list.append([ep, g_loss])\n",
    "        d_loss_list.append([ep, d_loss])\n",
    "        # Break episode/epoch loop\n",
    "        if np.mean(episodes_total_reward) >= 500:\n",
    "            break\n",
    "            \n",
    "    # At the end of all training episodes/epochs\n",
    "    saver.save(sess, 'checkpoints/model.ckpt')"
   ]
  },
  {
   "cell_type": "markdown",
   "metadata": {},
   "source": [
    "# Visualizing training\n",
    "\n",
    "Below I'll plot the total rewards for each episode. I'm plotting the rolling average too, in blue."
   ]
  },
  {
   "cell_type": "code",
   "execution_count": 38,
   "metadata": {},
   "outputs": [],
   "source": [
    "import matplotlib.pyplot as plt\n",
    "%matplotlib inline\n",
    "\n",
    "def running_mean(x, N):\n",
    "    cumsum = np.cumsum(np.insert(x, 0, 0)) \n",
    "    return (cumsum[N:] - cumsum[:-N]) / N "
   ]
  },
  {
   "cell_type": "code",
   "execution_count": 39,
   "metadata": {},
   "outputs": [
    {
     "data": {
      "text/plain": [
       "Text(0,0.5,'Total rewards')"
      ]
     },
     "execution_count": 39,
     "metadata": {},
     "output_type": "execute_result"
    },
    {
     "data": {
      "image/png": "[encoded data removed]",
      "text/plain": [
       "<Figure size 432x288 with 1 Axes>"
      ]
     },
     "metadata": {},
     "output_type": "display_data"
    }
   ],
   "source": [
    "eps, arr = np.array(rewards_list).T\n",
    "smoothed_arr = running_mean(arr, 10)\n",
    "plt.plot(eps[-len(smoothed_arr):], smoothed_arr)\n",
    "plt.plot(eps, arr, color='grey', alpha=0.3)\n",
    "plt.xlabel('Episode')\n",
    "plt.ylabel('Total rewards')"
   ]
  },
  {
   "cell_type": "code",
   "execution_count": 54,
   "metadata": {},
   "outputs": [
    {
     "data": {
      "text/plain": [
       "Text(0,0.5,'Total rewards')"
      ]
     },
     "execution_count": 54,
     "metadata": {},
     "output_type": "execute_result"
    },
    {
     "data": {
      "image/png": "[encoded data removed]",
      "text/plain": [
       "<Figure size 432x288 with 1 Axes>"
      ]
     },
     "metadata": {},
     "output_type": "display_data"
    }
   ],
   "source": [
    "eps, arr = np.array(rewards_list).T\n",
    "smoothed_arr = running_mean(arr, 10)\n",
    "plt.plot(eps[-len(smoothed_arr):], smoothed_arr)\n",
    "plt.plot(eps, arr, color='grey', alpha=0.3)\n",
    "plt.xlabel('Episode')\n",
    "plt.ylabel('Total rewards')"
   ]
  },
  {
   "cell_type": "code",
   "execution_count": 55,
   "metadata": {},
   "outputs": [
    {
     "data": {
      "text/plain": [
       "Text(0,0.5,'G losses')"
      ]
     },
     "execution_count": 55,
     "metadata": {},
     "output_type": "execute_result"
    },
    {
     "data": {
      "image/png": "[encoded data removed]",
      "text/plain": [
       "<Figure size 432x288 with 1 Axes>"
      ]
     },
     "metadata": {},
     "output_type": "display_data"
    }
   ],
   "source": [
    "eps, arr = np.array(g_loss_list).T\n",
    "smoothed_arr = running_mean(arr, 10)\n",
    "plt.plot(eps[-len(smoothed_arr):], smoothed_arr)\n",
    "plt.plot(eps, arr, color='grey', alpha=0.3)\n",
    "plt.xlabel('Episode')\n",
    "plt.ylabel('G losses')"
   ]
  },
  {
   "cell_type": "code",
   "execution_count": 56,
   "metadata": {},
   "outputs": [
    {
     "data": {
      "text/plain": [
       "Text(0,0.5,'D losses')"
      ]
     },
     "execution_count": 56,
     "metadata": {},
     "output_type": "execute_result"
    },
    {
     "data": {
      "image/png": "[encoded data removed]",
      "text/plain": [
       "<Figure size 432x288 with 1 Axes>"
      ]
     },
     "metadata": {},
     "output_type": "display_data"
    }
   ],
   "source": [
    "eps, arr = np.array(d_loss_list).T\n",
    "smoothed_arr = running_mean(arr, 10)\n",
    "plt.plot(eps[-len(smoothed_arr):], smoothed_arr)\n",
    "plt.plot(eps, arr, color='grey', alpha=0.3)\n",
    "plt.xlabel('Episode')\n",
    "plt.ylabel('D losses')"
   ]
  },
  {
   "cell_type": "markdown",
   "metadata": {},
   "source": [
    "## Testing\n",
    "\n",
    "Let's checkout how our trained agent plays the game."
   ]
  },
  {
   "cell_type": "code",
   "execution_count": 36,
   "metadata": {},
   "outputs": [
    {
     "name": "stderr",
     "output_type": "stream",
     "text": [
      "/home/arasdar/anaconda3/envs/env/lib/python3.6/site-packages/gym/__init__.py:22: UserWarning: DEPRECATION WARNING: to improve load times, gym no longer automatically loads gym.spaces. Please run \"import gym.spaces\" to load gym.spaces on your own. This warning will turn into an error in a future version of gym.\n",
      "  warnings.warn('DEPRECATION WARNING: to improve load times, gym no longer automatically loads gym.spaces. Please run \"import gym.spaces\" to load gym.spaces on your own. This warning will turn into an error in a future version of gym.')\n"
     ]
    },
    {
     "name": "stdout",
     "output_type": "stream",
     "text": [
      "\u001b[33mWARN: gym.spaces.Box autodetected dtype as <class 'numpy.float32'>. Please provide explicit dtype.\u001b[0m\n",
      "\u001b[33mWARN: gym.spaces.Box autodetected dtype as <class 'numpy.float32'>. Please provide explicit dtype.\u001b[0m\n",
      "INFO:tensorflow:Restoring parameters from checkpoints/model.ckpt\n",
      "total_reward: 500.0\n",
      "total_reward: 500.0\n",
      "total_reward: 500.0\n",
      "total_reward: 500.0\n",
      "total_reward: 500.0\n",
      "total_reward: 500.0\n",
      "total_reward: 500.0\n",
      "total_reward: 500.0\n",
      "total_reward: 500.0\n",
      "total_reward: 500.0\n",
      "total_reward: 500.0\n",
      "total_reward: 500.0\n",
      "total_reward: 500.0\n",
      "total_reward: 500.0\n",
      "total_reward: 500.0\n",
      "total_reward: 500.0\n",
      "total_reward: 500.0\n",
      "total_reward: 500.0\n",
      "total_reward: 500.0\n",
      "total_reward: 500.0\n",
      "total_reward: 500.0\n",
      "total_reward: 500.0\n",
      "total_reward: 500.0\n",
      "total_reward: 500.0\n",
      "total_reward: 500.0\n",
      "total_reward: 500.0\n",
      "total_reward: 500.0\n",
      "total_reward: 500.0\n",
      "total_reward: 500.0\n",
      "total_reward: 500.0\n",
      "total_reward: 487.0\n",
      "total_reward: 500.0\n",
      "total_reward: 500.0\n",
      "total_reward: 500.0\n",
      "total_reward: 500.0\n",
      "total_reward: 500.0\n",
      "total_reward: 500.0\n",
      "total_reward: 500.0\n",
      "total_reward: 500.0\n",
      "total_reward: 500.0\n",
      "total_reward: 500.0\n",
      "total_reward: 500.0\n",
      "total_reward: 500.0\n",
      "total_reward: 500.0\n",
      "total_reward: 500.0\n",
      "total_reward: 500.0\n",
      "total_reward: 500.0\n",
      "total_reward: 500.0\n",
      "total_reward: 500.0\n",
      "total_reward: 500.0\n",
      "total_reward: 500.0\n",
      "total_reward: 500.0\n",
      "total_reward: 500.0\n",
      "total_reward: 500.0\n",
      "total_reward: 500.0\n",
      "total_reward: 500.0\n",
      "total_reward: 500.0\n",
      "total_reward: 500.0\n",
      "total_reward: 500.0\n",
      "total_reward: 500.0\n",
      "total_reward: 500.0\n",
      "total_reward: 500.0\n",
      "total_reward: 500.0\n",
      "total_reward: 500.0\n",
      "total_reward: 500.0\n",
      "total_reward: 500.0\n",
      "total_reward: 500.0\n",
      "total_reward: 500.0\n",
      "total_reward: 500.0\n",
      "total_reward: 500.0\n",
      "total_reward: 500.0\n",
      "total_reward: 500.0\n",
      "total_reward: 500.0\n",
      "total_reward: 500.0\n",
      "total_reward: 500.0\n",
      "total_reward: 500.0\n",
      "total_reward: 500.0\n",
      "total_reward: 500.0\n",
      "total_reward: 500.0\n",
      "total_reward: 500.0\n",
      "total_reward: 500.0\n",
      "total_reward: 500.0\n",
      "total_reward: 500.0\n",
      "total_reward: 500.0\n",
      "total_reward: 500.0\n",
      "total_reward: 500.0\n",
      "total_reward: 500.0\n",
      "total_reward: 500.0\n",
      "total_reward: 500.0\n",
      "total_reward: 500.0\n",
      "total_reward: 367.0\n",
      "total_reward: 350.0\n",
      "total_reward: 500.0\n",
      "total_reward: 500.0\n",
      "total_reward: 500.0\n",
      "total_reward: 404.0\n",
      "total_reward: 500.0\n",
      "total_reward: 500.0\n",
      "total_reward: 500.0\n",
      "total_reward: 500.0\n"
     ]
    }
   ],
   "source": [
    "import gym\n",
    "env = gym.make('CartPole-v0')\n",
    "env = gym.make('CartPole-v1')\n",
    "# env = gym.make('Acrobot-v1')\n",
    "# env = gym.make('MountainCar-v0')\n",
    "# env = gym.make('Pendulum-v0')\n",
    "# env = gym.make('Blackjack-v0')\n",
    "# env = gym.make('FrozenLake-v0')\n",
    "# env = gym.make('AirRaid-ram-v0')\n",
    "# env = gym.make('AirRaid-v0')\n",
    "# env = gym.make('BipedalWalker-v2')\n",
    "# env = gym.make('Copy-v0')\n",
    "# env = gym.make('CarRacing-v0')\n",
    "# env = gym.make('Ant-v2') #mujoco\n",
    "# env = gym.make('FetchPickAndPlace-v1') # mujoco required!\n",
    "\n",
    "with tf.Session() as sess:\n",
    "    sess.run(tf.global_variables_initializer())\n",
    "    #saver.restore(sess, 'checkpoints/model.ckpt')    \n",
    "    saver.restore(sess, tf.train.latest_checkpoint('checkpoints'))\n",
    "    \n",
    "    # Episodes/epochs\n",
    "    for _ in range(100):\n",
    "    #while True:\n",
    "        state = env.reset()\n",
    "        total_reward = 0\n",
    "\n",
    "        # Steps/batches\n",
    "        #for _ in range(111111111111111111):\n",
    "        while True:\n",
    "            env.render()\n",
    "            action_logits = sess.run(model.actions_logits, feed_dict={model.states: np.reshape(state, [1, -1])})\n",
    "            action = np.argmax(action_logits)\n",
    "            state, reward, done, _ = env.step(action)\n",
    "            total_reward += reward\n",
    "            if done:\n",
    "                break\n",
    "        # Print and break condition\n",
    "        print('total_reward: {}'.format(total_reward))\n",
    "        # if total_reward == 500:\n",
    "        #     break\n",
    "                \n",
    "# Closing the env\n",
    "env.close()"
   ]
  },
  {
   "cell_type": "markdown",
   "metadata": {},
   "source": [
    "## Extending this\n",
    "\n",
    "So, Cart-Pole is a pretty simple game. However, the same model can be used to train an agent to play something much more complicated like Pong or Space Invaders. Instead of a state like we're using here though, you'd want to use convolutional layers to get the state from the screen images.\n",
    "\n",
    "![Deep Q-Learning Atari](assets/atari-network.png)\n",
    "\n",
    "I'll leave it as a challenge for you to use deep Q-learning to train an agent to play Atari games. Here's the original paper which will get you started: http://www.davidqiu.com:8888/research/nature14236.pdf."
   ]
  },
  {
   "cell_type": "code",
   "execution_count": null,
   "metadata": {},
   "outputs": [],
   "source": []
  }
 ],
 "metadata": {
  "kernelspec": {
   "display_name": "Python 3",
   "language": "python",
   "name": "python3"
  },
  "language_info": {
   "codemirror_mode": {
    "name": "ipython",
    "version": 3
   },
   "file_extension": ".py",
   "mimetype": "text/x-python",
   "name": "python",
   "nbconvert_exporter": "python",
   "pygments_lexer": "ipython3",
   "version": "3.6.5"
  }
 },
 "nbformat": 4,
 "nbformat_minor": 2
}
