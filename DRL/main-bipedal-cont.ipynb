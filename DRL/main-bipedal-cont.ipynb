{
 "cells": [
  {
   "cell_type": "markdown",
   "metadata": {},
   "source": [
    "# Deep cortical reinforcement learning: Policy gradients + Q-learning + GAN\n",
    "\n",
    "\n",
    "In this notebook, we'll build a neural network that can learn to play games through reinforcement learning. More specifically, we'll use Q-learning to train an agent to play a game called [Cart-Pole](https://gym.openai.com/envs/CartPole-v0). In this game, a freely swinging pole is attached to a cart. The cart can move to the left and right, and the goal is to keep the pole upright as long as possible.\n",
    "\n",
    "![Cart-Pole](assets/cart-pole.jpg)\n",
    "\n",
    "We can simulate this game using [OpenAI Gym](https://gym.openai.com/). First, let's check out how OpenAI Gym works. Then, we'll get into training an agent to play the Cart-Pole game."
   ]
  },
  {
   "cell_type": "code",
   "execution_count": 63,
   "metadata": {},
   "outputs": [
    {
     "name": "stdout",
     "output_type": "stream",
     "text": [
      "TensorFlow Version: 1.7.1\n",
      "Default GPU Device: \n"
     ]
    }
   ],
   "source": [
    "# In this one we should define and detect GPUs for tensorflow\n",
    "# GPUs or CPU\n",
    "import tensorflow as tf\n",
    "\n",
    "# Check TensorFlow Version\n",
    "print('TensorFlow Version: {}'.format(tf.__version__))\n",
    "\n",
    "# Check for a GPU\n",
    "print('Default GPU Device: {}'.format(tf.test.gpu_device_name()))"
   ]
  },
  {
   "cell_type": "markdown",
   "metadata": {},
   "source": [
    ">**Note:** Make sure you have OpenAI Gym cloned into the same directory with this notebook. I've included `gym` as a submodule, so you can run `git submodule --init --recursive` to pull the contents into the `gym` repo."
   ]
  },
  {
   "cell_type": "markdown",
   "metadata": {},
   "source": [
    "##### >**Note:** Make sure you have OpenAI Gym cloned. Then run this command `pip install -e gym/[all]`."
   ]
  },
  {
   "cell_type": "code",
   "execution_count": 64,
   "metadata": {},
   "outputs": [
    {
     "name": "stdout",
     "output_type": "stream",
     "text": [
      "\u001b[33mWARN: gym.spaces.Box autodetected dtype as <class 'numpy.float32'>. Please provide explicit dtype.\u001b[0m\n",
      "\u001b[33mWARN: gym.spaces.Box autodetected dtype as <class 'numpy.float32'>. Please provide explicit dtype.\u001b[0m\n"
     ]
    },
    {
     "name": "stderr",
     "output_type": "stream",
     "text": [
      "/home/arasdar/anaconda3/envs/env/lib/python3.6/site-packages/gym/__init__.py:22: UserWarning: DEPRECATION WARNING: to improve load times, gym no longer automatically loads gym.spaces. Please run \"import gym.spaces\" to load gym.spaces on your own. This warning will turn into an error in a future version of gym.\n",
      "  warnings.warn('DEPRECATION WARNING: to improve load times, gym no longer automatically loads gym.spaces. Please run \"import gym.spaces\" to load gym.spaces on your own. This warning will turn into an error in a future version of gym.')\n"
     ]
    },
    {
     "data": {
      "text/plain": [
       "dtype('float32')"
      ]
     },
     "execution_count": 64,
     "metadata": {},
     "output_type": "execute_result"
    }
   ],
   "source": [
    "import gym\n",
    "\n",
    "## Create the Cart-Pole game environment\n",
    "# env = gym.make('CartPole-v0')\n",
    "# env = gym.make('CartPole-v1')\n",
    "# env = gym.make('Acrobot-v1')\n",
    "# env = gym.make('MountainCar-v0')\n",
    "# env = gym.make('MountainCarContinuous-v0')\n",
    "# env = gym.make('Pendulum-v0')\n",
    "# env = gym.make('Blackjack-v0')\n",
    "# env = gym.make('FrozenLake-v0')\n",
    "# env = gym.make('AirRaid-ram-v0')\n",
    "# env = gym.make('AirRaid-v0')\n",
    "env = gym.make('BipedalWalker-v2')\n",
    "# env = gym.make('Copy-v0')\n",
    "# env = gym.make('CarRacing-v0')\n",
    "# env = gym.make('Ant-v2') #mujoco\n",
    "# env = gym.make('FetchPickAndPlace-v1') # mujoco required!\n",
    "\n",
    "# Discrete/int or continuos/float\n",
    "env.action_space.dtype"
   ]
  },
  {
   "cell_type": "markdown",
   "metadata": {},
   "source": [
    "We interact with the simulation through `env`. To show the simulation running, you can use `env.render()` to render one frame. Passing in an action as an integer to `env.step` will generate the next step in the simulation.  You can see how many actions are possible from `env.action_space` and to get a random action you can use `env.action_space.sample()`. This is general to all Gym games. In the Cart-Pole game, there are two possible actions, moving the cart left or right. So there are two actions we can take, encoded as 0 and 1.\n",
    "\n",
    "Run the code below to watch the simulation run."
   ]
  },
  {
   "cell_type": "code",
   "execution_count": 65,
   "metadata": {},
   "outputs": [
    {
     "data": {
      "text/plain": [
       "Box(24,)"
      ]
     },
     "execution_count": 65,
     "metadata": {},
     "output_type": "execute_result"
    }
   ],
   "source": [
    "env.observation_space"
   ]
  },
  {
   "cell_type": "code",
   "execution_count": 66,
   "metadata": {},
   "outputs": [],
   "source": [
    "state = env.reset()\n",
    "batch = []\n",
    "for _ in range(1111):\n",
    "    #env.render()\n",
    "    action = env.action_space.sample()\n",
    "    next_state, reward, done, _ = env.step(action) # take a random action\n",
    "    batch.append([state, action, next_state, reward, float(done)])\n",
    "    state = next_state\n",
    "    if done:\n",
    "        state = env.reset()"
   ]
  },
  {
   "cell_type": "markdown",
   "metadata": {},
   "source": [
    "To shut the window showing the simulation, use `env.close()`."
   ]
  },
  {
   "cell_type": "code",
   "execution_count": 67,
   "metadata": {},
   "outputs": [],
   "source": [
    "# env.close()"
   ]
  },
  {
   "cell_type": "markdown",
   "metadata": {},
   "source": [
    "If you ran the simulation above, we can look at the rewards:"
   ]
  },
  {
   "cell_type": "code",
   "execution_count": 68,
   "metadata": {},
   "outputs": [
    {
     "data": {
      "text/plain": [
       "((4,), (24,))"
      ]
     },
     "execution_count": 68,
     "metadata": {},
     "output_type": "execute_result"
    }
   ],
   "source": [
    "batch[0], \n",
    "batch[0][1].shape, state.shape"
   ]
  },
  {
   "cell_type": "code",
   "execution_count": 69,
   "metadata": {},
   "outputs": [],
   "source": [
    "import numpy as np\n",
    "actions = np.array([each[0] for each in batch])\n",
    "states = np.array([each[1] for each in batch])\n",
    "rewards = np.array([each[2] for each in batch])\n",
    "dones = np.array([each[3] for each in batch])\n",
    "infos = np.array([each[4] for each in batch])"
   ]
  },
  {
   "cell_type": "code",
   "execution_count": 70,
   "metadata": {},
   "outputs": [
    {
     "name": "stdout",
     "output_type": "stream",
     "text": [
      "shapes: (1111, 24) (1111, 4) (1111, 24) (1111,)\n",
      "dtypes: float64 float32 float64 float64\n",
      "states: 0.9999491 -0.99980396\n",
      "actions: 2.0423901875813804 -1.386185646057129\n",
      "rewards: 2.0423901875813804 -1.386185646057129\n"
     ]
    }
   ],
   "source": [
    "# print(rewards[-20:])\n",
    "print('shapes:', np.array(rewards).shape, np.array(states).shape, np.array(actions).shape, np.array(dones).shape)\n",
    "print('dtypes:', np.array(rewards).dtype, np.array(states).dtype, np.array(actions).dtype, np.array(dones).dtype)\n",
    "print('states:', np.max(np.array(states)), np.min(np.array(states)))\n",
    "print('actions:', np.max(np.array(actions)), np.min(np.array(actions)))\n",
    "# print((np.max(np.array(actions)) - np.min(np.array(actions)))+1)\n",
    "print('rewards:', np.max(np.array(rewards)), np.min(np.array(rewards)))"
   ]
  },
  {
   "cell_type": "code",
   "execution_count": 71,
   "metadata": {},
   "outputs": [
    {
     "data": {
      "text/plain": [
       "array([[ 2.74739973e-03, -1.31684646e-05,  1.02436312e-03,\n",
       "        -1.59999108e-02,  9.19683278e-02, -1.35180948e-03,\n",
       "         8.60266164e-01,  2.40187673e-03,  1.00000000e+00,\n",
       "         3.23748849e-02, -1.35171739e-03,  8.53814155e-01,\n",
       "         9.56013566e-04,  1.00000000e+00,  4.40814108e-01,\n",
       "         4.45820212e-01,  4.61422890e-01,  4.89550292e-01,\n",
       "         5.34102917e-01,  6.02461159e-01,  7.09149063e-01,\n",
       "         8.85932028e-01,  1.00000000e+00,  1.00000000e+00],\n",
       "       [ 1.81099847e-02,  2.27325392e-02,  1.50036299e-02,\n",
       "         1.87298584e-02, -3.19512904e-01, -9.25155520e-01,\n",
       "         1.48349273e+00,  9.93954817e-01,  1.00000000e+00,\n",
       "         2.91940302e-01,  1.52260810e-01,  1.36669636e-01,\n",
       "        -9.99908447e-01,  1.00000000e+00,  4.51477766e-01,\n",
       "         4.56604987e-01,  4.72585082e-01,  5.01392901e-01,\n",
       "         5.47023296e-01,  6.17035210e-01,  7.26303935e-01,\n",
       "         9.07363415e-01,  1.00000000e+00,  1.00000000e+00],\n",
       "       [ 3.07344068e-02,  2.62205172e-02,  1.24771661e-02,\n",
       "        -8.54406476e-03, -8.12581480e-02, -8.26262236e-01,\n",
       "         1.10302541e+00,  0.00000000e+00,  1.00000000e+00,\n",
       "         3.13992411e-01,  3.77926439e-01,  4.68376875e-02,\n",
       "        -1.00000008e+00,  0.00000000e+00,  4.53954518e-01,\n",
       "         4.59109843e-01,  4.75177616e-01,  5.04143476e-01,\n",
       "         5.50024211e-01,  6.20420158e-01,  7.30288327e-01,\n",
       "         9.12341118e-01,  1.00000000e+00,  1.00000000e+00],\n",
       "       [ 3.42181735e-02,  6.00428879e-03,  1.74115118e-03,\n",
       "        -2.08169699e-02, -1.00796551e-01, -2.84780532e-01,\n",
       "         1.08299808e+00,  1.24659449e-01,  1.00000000e+00,\n",
       "         3.42793912e-01,  4.23488110e-01, -6.10747337e-02,\n",
       "        -1.00000000e+00,  0.00000000e+00,  4.53910172e-01,\n",
       "         4.59064990e-01,  4.75131214e-01,  5.04094243e-01,\n",
       "         5.49970448e-01,  6.20359540e-01,  7.30217040e-01,\n",
       "         9.12252009e-01,  1.00000000e+00,  1.00000000e+00],\n",
       "       [ 4.29945737e-02,  1.34849405e-02, -2.10812978e-03,\n",
       "        -1.70794189e-03, -1.35364942e-02, -9.19704065e-02,\n",
       "         5.33687174e-01,  7.96914411e-04,  1.00000000e+00,\n",
       "         3.68321717e-01,  5.07333159e-01, -8.06138515e-02,\n",
       "        -4.63431040e-01,  0.00000000e+00,  4.57188994e-01,\n",
       "         4.62381065e-01,  4.78563309e-01,  5.07735550e-01,\n",
       "         5.53943157e-01,  6.24840736e-01,  7.35491753e-01,\n",
       "         9.18841660e-01,  1.00000000e+00,  1.00000000e+00],\n",
       "       [ 5.11216745e-02,  1.59745646e-02, -7.28304908e-03,\n",
       "        -9.47883308e-03,  1.87761001e-02,  1.87744886e-01,\n",
       "         3.66843343e-01, -1.00000000e+00,  1.00000000e+00,\n",
       "         3.97704542e-01,  4.48675483e-01,  5.23123145e-02,\n",
       "         9.99999682e-01,  0.00000000e+00,  4.57119256e-01,\n",
       "         4.62310523e-01,  4.78490323e-01,  5.07658124e-01,\n",
       "         5.53858697e-01,  6.24745429e-01,  7.35379577e-01,\n",
       "         9.18701530e-01,  1.00000000e+00,  1.00000000e+00],\n",
       "       [ 5.68850227e-02,  1.14313006e-02, -1.09251308e-02,\n",
       "        -3.84191489e-02,  3.19660418e-02,  1.93201646e-01,\n",
       "         2.52373815e-01, -9.76759434e-01,  0.00000000e+00,\n",
       "         4.76646543e-01,  9.99999940e-01,  2.41836309e-02,\n",
       "        -2.62507637e-01,  0.00000000e+00,  4.55326557e-01,\n",
       "         4.60497469e-01,  4.76613820e-01,  5.05667210e-01,\n",
       "         5.51686585e-01,  6.22295320e-01,  7.32495606e-01,\n",
       "         9.15098608e-01,  1.00000000e+00,  1.00000000e+00],\n",
       "       [ 9.45695266e-02,  7.52870750e-02,  2.73487741e-02,\n",
       "        -4.79907703e-02, -2.77377926e-02, -7.05641508e-01,\n",
       "         1.39653802e-01, -9.99999921e-01,  0.00000000e+00,\n",
       "         4.46633965e-01, -3.55625510e-01,  8.13146830e-02,\n",
       "         4.31703170e-01,  0.00000000e+00,  4.53183919e-01,\n",
       "         4.58330512e-01,  4.74370986e-01,  5.03287673e-01,\n",
       "         5.49090505e-01,  6.19367003e-01,  7.29048669e-01,\n",
       "         9.10792410e-01,  1.00000000e+00,  1.00000000e+00],\n",
       "       [ 1.20687373e-01,  5.22167683e-02,  1.65904319e-02,\n",
       "        -5.87387133e-02, -5.46926223e-02, -3.31065416e-01,\n",
       "         8.83360505e-02, -4.37286456e-01,  0.00000000e+00,\n",
       "         4.20236886e-01, -3.21830779e-01,  1.44968808e-01,\n",
       "         5.20707806e-01,  0.00000000e+00,  4.50518161e-01,\n",
       "         4.55634475e-01,  4.71580625e-01,  5.00327229e-01,\n",
       "         5.45860589e-01,  6.15723670e-01,  7.24760175e-01,\n",
       "         9.05434847e-01,  1.00000000e+00,  1.00000000e+00],\n",
       "       [ 1.32699654e-01,  2.39258003e-02,  9.21388686e-03,\n",
       "        -8.20059872e-02, -1.14065900e-01, -7.22284615e-01,\n",
       "         2.11568892e-01,  1.00000008e+00,  0.00000000e+00,\n",
       "         4.97384012e-01,  9.76247907e-01,  2.84463763e-02,\n",
       "        -1.00000016e+00,  0.00000000e+00,  4.46687341e-01,\n",
       "         4.51760143e-01,  4.67570692e-01,  4.96072859e-01,\n",
       "         5.41219056e-01,  6.10488117e-01,  7.18597472e-01,\n",
       "         8.97735834e-01,  1.00000000e+00,  1.00000000e+00]])"
      ]
     },
     "execution_count": 71,
     "metadata": {},
     "output_type": "execute_result"
    }
   ],
   "source": [
    "actions[:10]"
   ]
  },
  {
   "cell_type": "code",
   "execution_count": 72,
   "metadata": {},
   "outputs": [
    {
     "data": {
      "text/plain": [
       "array([[ 1.81099847e-02,  2.27325392e-02,  1.50036299e-02,\n",
       "         1.87298584e-02, -3.19512904e-01, -9.25155520e-01,\n",
       "         1.48349273e+00,  9.93954817e-01,  1.00000000e+00,\n",
       "         2.91940302e-01,  1.52260810e-01,  1.36669636e-01,\n",
       "        -9.99908447e-01,  1.00000000e+00,  4.51477766e-01,\n",
       "         4.56604987e-01,  4.72585082e-01,  5.01392901e-01,\n",
       "         5.47023296e-01,  6.17035210e-01,  7.26303935e-01,\n",
       "         9.07363415e-01,  1.00000000e+00,  1.00000000e+00],\n",
       "       [ 3.07344068e-02,  2.62205172e-02,  1.24771661e-02,\n",
       "        -8.54406476e-03, -8.12581480e-02, -8.26262236e-01,\n",
       "         1.10302541e+00,  0.00000000e+00,  1.00000000e+00,\n",
       "         3.13992411e-01,  3.77926439e-01,  4.68376875e-02,\n",
       "        -1.00000008e+00,  0.00000000e+00,  4.53954518e-01,\n",
       "         4.59109843e-01,  4.75177616e-01,  5.04143476e-01,\n",
       "         5.50024211e-01,  6.20420158e-01,  7.30288327e-01,\n",
       "         9.12341118e-01,  1.00000000e+00,  1.00000000e+00],\n",
       "       [ 3.42181735e-02,  6.00428879e-03,  1.74115118e-03,\n",
       "        -2.08169699e-02, -1.00796551e-01, -2.84780532e-01,\n",
       "         1.08299808e+00,  1.24659449e-01,  1.00000000e+00,\n",
       "         3.42793912e-01,  4.23488110e-01, -6.10747337e-02,\n",
       "        -1.00000000e+00,  0.00000000e+00,  4.53910172e-01,\n",
       "         4.59064990e-01,  4.75131214e-01,  5.04094243e-01,\n",
       "         5.49970448e-01,  6.20359540e-01,  7.30217040e-01,\n",
       "         9.12252009e-01,  1.00000000e+00,  1.00000000e+00],\n",
       "       [ 4.29945737e-02,  1.34849405e-02, -2.10812978e-03,\n",
       "        -1.70794189e-03, -1.35364942e-02, -9.19704065e-02,\n",
       "         5.33687174e-01,  7.96914411e-04,  1.00000000e+00,\n",
       "         3.68321717e-01,  5.07333159e-01, -8.06138515e-02,\n",
       "        -4.63431040e-01,  0.00000000e+00,  4.57188994e-01,\n",
       "         4.62381065e-01,  4.78563309e-01,  5.07735550e-01,\n",
       "         5.53943157e-01,  6.24840736e-01,  7.35491753e-01,\n",
       "         9.18841660e-01,  1.00000000e+00,  1.00000000e+00],\n",
       "       [ 5.11216745e-02,  1.59745646e-02, -7.28304908e-03,\n",
       "        -9.47883308e-03,  1.87761001e-02,  1.87744886e-01,\n",
       "         3.66843343e-01, -1.00000000e+00,  1.00000000e+00,\n",
       "         3.97704542e-01,  4.48675483e-01,  5.23123145e-02,\n",
       "         9.99999682e-01,  0.00000000e+00,  4.57119256e-01,\n",
       "         4.62310523e-01,  4.78490323e-01,  5.07658124e-01,\n",
       "         5.53858697e-01,  6.24745429e-01,  7.35379577e-01,\n",
       "         9.18701530e-01,  1.00000000e+00,  1.00000000e+00],\n",
       "       [ 5.68850227e-02,  1.14313006e-02, -1.09251308e-02,\n",
       "        -3.84191489e-02,  3.19660418e-02,  1.93201646e-01,\n",
       "         2.52373815e-01, -9.76759434e-01,  0.00000000e+00,\n",
       "         4.76646543e-01,  9.99999940e-01,  2.41836309e-02,\n",
       "        -2.62507637e-01,  0.00000000e+00,  4.55326557e-01,\n",
       "         4.60497469e-01,  4.76613820e-01,  5.05667210e-01,\n",
       "         5.51686585e-01,  6.22295320e-01,  7.32495606e-01,\n",
       "         9.15098608e-01,  1.00000000e+00,  1.00000000e+00],\n",
       "       [ 9.45695266e-02,  7.52870750e-02,  2.73487741e-02,\n",
       "        -4.79907703e-02, -2.77377926e-02, -7.05641508e-01,\n",
       "         1.39653802e-01, -9.99999921e-01,  0.00000000e+00,\n",
       "         4.46633965e-01, -3.55625510e-01,  8.13146830e-02,\n",
       "         4.31703170e-01,  0.00000000e+00,  4.53183919e-01,\n",
       "         4.58330512e-01,  4.74370986e-01,  5.03287673e-01,\n",
       "         5.49090505e-01,  6.19367003e-01,  7.29048669e-01,\n",
       "         9.10792410e-01,  1.00000000e+00,  1.00000000e+00],\n",
       "       [ 1.20687373e-01,  5.22167683e-02,  1.65904319e-02,\n",
       "        -5.87387133e-02, -5.46926223e-02, -3.31065416e-01,\n",
       "         8.83360505e-02, -4.37286456e-01,  0.00000000e+00,\n",
       "         4.20236886e-01, -3.21830779e-01,  1.44968808e-01,\n",
       "         5.20707806e-01,  0.00000000e+00,  4.50518161e-01,\n",
       "         4.55634475e-01,  4.71580625e-01,  5.00327229e-01,\n",
       "         5.45860589e-01,  6.15723670e-01,  7.24760175e-01,\n",
       "         9.05434847e-01,  1.00000000e+00,  1.00000000e+00],\n",
       "       [ 1.32699654e-01,  2.39258003e-02,  9.21388686e-03,\n",
       "        -8.20059872e-02, -1.14065900e-01, -7.22284615e-01,\n",
       "         2.11568892e-01,  1.00000008e+00,  0.00000000e+00,\n",
       "         4.97384012e-01,  9.76247907e-01,  2.84463763e-02,\n",
       "        -1.00000016e+00,  0.00000000e+00,  4.46687341e-01,\n",
       "         4.51760143e-01,  4.67570692e-01,  4.96072859e-01,\n",
       "         5.41219056e-01,  6.10488117e-01,  7.18597472e-01,\n",
       "         8.97735834e-01,  1.00000000e+00,  1.00000000e+00],\n",
       "       [ 1.37958676e-01,  1.03588390e-02,  2.28509322e-03,\n",
       "        -9.80742836e-02, -1.42003432e-01, -3.29994768e-01,\n",
       "         3.35121095e-01,  1.00000008e+00,  0.00000000e+00,\n",
       "         5.75514615e-01,  9.99999940e-01, -8.17687511e-02,\n",
       "        -1.00000000e+00,  0.00000000e+00,  4.42066252e-01,\n",
       "         4.47086573e-01,  4.62733567e-01,  4.90940869e-01,\n",
       "         5.35620034e-01,  6.04172468e-01,  7.11163402e-01,\n",
       "         8.88448536e-01,  1.00000000e+00,  1.00000000e+00]])"
      ]
     },
     "execution_count": 72,
     "metadata": {},
     "output_type": "execute_result"
    }
   ],
   "source": [
    "rewards[:10]"
   ]
  },
  {
   "cell_type": "code",
   "execution_count": 73,
   "metadata": {},
   "outputs": [],
   "source": [
    "# import numpy as np\n",
    "def sigmoid(x, derivative=False):\n",
    "  return x*(1-x) if derivative else 1/(1+np.exp(-x))"
   ]
  },
  {
   "cell_type": "code",
   "execution_count": 74,
   "metadata": {},
   "outputs": [
    {
     "data": {
      "text/plain": [
       "(0.8851764282630248, 0.20001739497735352)"
      ]
     },
     "execution_count": 74,
     "metadata": {},
     "output_type": "execute_result"
    }
   ],
   "source": [
    "sigmoid(np.max(np.array(rewards))), sigmoid(np.min(np.array(rewards)))"
   ]
  },
  {
   "cell_type": "code",
   "execution_count": 75,
   "metadata": {},
   "outputs": [
    {
     "name": "stdout",
     "output_type": "stream",
     "text": [
      "rewards: 0.020423901875813805 -0.013861856460571288\n"
     ]
    }
   ],
   "source": [
    "print('rewards:', np.max(np.array(rewards))/100, np.min(np.array(rewards))/100)"
   ]
  },
  {
   "cell_type": "markdown",
   "metadata": {},
   "source": [
    "The game resets after the pole has fallen past a certain angle. For each frame while the simulation is running, it returns a reward of 1.0. The longer the game runs, the more reward we get. Then, our network's goal is to maximize the reward by keeping the pole vertical. It will do this by moving the cart to the left and the right."
   ]
  },
  {
   "cell_type": "markdown",
   "metadata": {},
   "source": [
    "## Q-Network\n",
    "\n",
    "We train our Q-learning agent using the Bellman Equation:\n",
    "\n",
    "$$\n",
    "Q(s, a) = r + \\gamma \\max{Q(s', a')}\n",
    "$$\n",
    "\n",
    "where $s$ is a state, $a$ is an action, and $s'$ is the next state from state $s$ and action $a$.\n",
    "\n",
    "Before we used this equation to learn values for a Q-_table_. However, for this game there are a huge number of states available. The state has four values: the position and velocity of the cart, and the position and velocity of the pole. These are all real-valued numbers, so ignoring floating point precisions, you practically have infinite states. Instead of using a table then, we'll replace it with a neural network that will approximate the Q-table lookup function.\n",
    "\n",
    "<img src=\"assets/deep-q-learning.png\" width=450px>\n",
    "\n",
    "Now, our Q value, $Q(s, a)$ is calculated by passing in a state to the network. The output will be Q-values for each available action, with fully connected hidden layers.\n",
    "\n",
    "<img src=\"assets/q-network.png\" width=550px>\n",
    "\n",
    "\n",
    "As I showed before, we can define our targets for training as $\\hat{Q}(s,a) = r + \\gamma \\max{Q(s', a')}$. Then we update the weights by minimizing $(\\hat{Q}(s,a) - Q(s,a))^2$. \n",
    "\n",
    "For this Cart-Pole game, we have four inputs, one for each value in the state, and two outputs, one for each action. To get $\\hat{Q}$, we'll first choose an action, then simulate the game using that action. This will get us the next state, $s'$, and the reward. With that, we can calculate $\\hat{Q}$ then pass it back into the $Q$ network to run the optimizer and update the weights.\n",
    "\n",
    "Below is my implementation of the Q-network. I used two fully connected layers with ReLU activations. Two seems to be good enough, three might be better. Feel free to try it out."
   ]
  },
  {
   "cell_type": "code",
   "execution_count": 76,
   "metadata": {},
   "outputs": [],
   "source": [
    "def model_input(state_size, action_size):\n",
    "    #states = tf.placeholder(tf.float32, [None, *state_size], name='states')\n",
    "    states = tf.placeholder(tf.float32, [None, state_size], name='states')\n",
    "    actions = tf.placeholder(tf.float32, [None, action_size], name='actions')\n",
    "    targetQs = tf.placeholder(tf.float32, [None], name='targetQs')\n",
    "    return states, actions, targetQs"
   ]
  },
  {
   "cell_type": "code",
   "execution_count": 77,
   "metadata": {},
   "outputs": [],
   "source": [
    "# How to use batch-norm\n",
    "#   x_norm = tf.layers.batch_normalization(x, training=training)\n",
    "\n",
    "#   # ...\n",
    "\n",
    "#   update_ops = tf.get_collection(tf.GraphKeys.UPDATE_OPS)\n",
    "#   with tf.control_dependencies(update_ops):\n",
    "#     train_op = optimizer.minimize(loss)"
   ]
  },
  {
   "cell_type": "code",
   "execution_count": 78,
   "metadata": {},
   "outputs": [],
   "source": [
    "# training: Either a Python boolean, or a TensorFlow boolean scalar tensor (e.g. a placeholder). \n",
    "# Whether to return the output in: \n",
    "# training mode (normalized with statistics of the current batch) or \n",
    "# inference mode (normalized with moving statistics). \n",
    "# NOTE: make sure to set this parameter correctly, or else your training/inference will not work properly."
   ]
  },
  {
   "cell_type": "code",
   "execution_count": 79,
   "metadata": {},
   "outputs": [],
   "source": [
    "# Generator/Controller: Generating/prediting the actions\n",
    "def generator(states, action_size, hidden_size, reuse=False, alpha=0.1, training=False):\n",
    "    with tf.variable_scope('generator', reuse=reuse):\n",
    "        # First fully connected layer\n",
    "        h1 = tf.layers.dense(inputs=states, units=hidden_size)\n",
    "        bn1 = tf.layers.batch_normalization(h1, training=training)        \n",
    "        nl1 = tf.maximum(alpha * bn1, bn1)\n",
    "        \n",
    "        # Second fully connected layer\n",
    "        h2 = tf.layers.dense(inputs=nl1, units=hidden_size)\n",
    "        bn2 = tf.layers.batch_normalization(h2, training=training)        \n",
    "        nl2 = tf.maximum(alpha * bn2, bn2)\n",
    "        \n",
    "        # Output layer\n",
    "        logits = tf.layers.dense(inputs=nl2, units=action_size)        \n",
    "        #predictions = tf.nn.softmax(logits)\n",
    "\n",
    "        # return actions logits\n",
    "        return logits"
   ]
  },
  {
   "cell_type": "code",
   "execution_count": 80,
   "metadata": {},
   "outputs": [],
   "source": [
    "# Discriminator/Dopamine: Reward function/planner/naviator/advisor/supervisor/cortical columns\n",
    "def discriminator(states, actions, hidden_size, reuse=False, alpha=0.1, training=False):\n",
    "    with tf.variable_scope('discriminator', reuse=reuse):\n",
    "        # Fusion/merge states and actions/ SA/ SM\n",
    "        x_fused = tf.concat(axis=1, values=[states, actions])\n",
    "        \n",
    "        # First fully connected layer\n",
    "        h1 = tf.layers.dense(inputs=x_fused, units=hidden_size)\n",
    "        bn1 = tf.layers.batch_normalization(h1, training=training)        \n",
    "        nl1 = tf.maximum(alpha * bn1, bn1)\n",
    "        \n",
    "        # Second fully connected layer\n",
    "        h2 = tf.layers.dense(inputs=nl1, units=hidden_size)\n",
    "        bn2 = tf.layers.batch_normalization(h2, training=training)        \n",
    "        nl2 = tf.maximum(alpha * bn2, bn2)\n",
    "        \n",
    "        # Output layer\n",
    "        logits = tf.layers.dense(inputs=nl2, units=1)        \n",
    "        #predictions = tf.nn.softmax(logits)\n",
    "\n",
    "        # return rewards logits\n",
    "        return logits"
   ]
  },
  {
   "cell_type": "code",
   "execution_count": 81,
   "metadata": {},
   "outputs": [
    {
     "data": {
      "text/plain": [
       "(array([-0.6857498 , -0.1863178 ,  0.5463643 , -0.48135957], dtype=float32),\n",
       " array([ 0.76391673,  0.2900372 , -0.20683765, -0.2392354 ], dtype=float32),\n",
       " array([2.101533  , 0.22691411, 0.5673132 , 0.05862411], dtype=float32))"
      ]
     },
     "execution_count": 81,
     "metadata": {},
     "output_type": "execute_result"
    }
   ],
   "source": [
    "batch[1][1], batch[2][1], np.square(batch[1][1] - batch[2][1])"
   ]
  },
  {
   "cell_type": "code",
   "execution_count": 82,
   "metadata": {},
   "outputs": [],
   "source": [
    "def model_loss(action_size, hidden_size, states, actions, targetQs):\n",
    "    # G\n",
    "    actions_logits = generator(states=states, hidden_size=hidden_size, action_size=action_size)\n",
    "    #actions_labels = tf.one_hot(indices=actions, depth=action_size, dtype=actions_logits.dtype)\n",
    "    actions_labels = tf.nn.sigmoid(actions)\n",
    "    # neg_log_prob_actions = tf.nn.softmax_cross_entropy_with_logits_v2(logits=actions_logits, \n",
    "    #                                                                   labels=actions_labels)\n",
    "    neg_log_prob_actions = tf.nn.sigmoid_cross_entropy_with_logits(logits=actions_logits, \n",
    "                                                                   labels=actions_labels)\n",
    "    #g_loss = tf.reduce_mean(neg_log_prob_actions * targetQs) # error!\n",
    "    \n",
    "    # D\n",
    "    Qs = discriminator(actions=actions_logits, hidden_size=hidden_size, states=states)\n",
    "    d_loss = tf.reduce_mean(tf.square(Qs - targetQs))\n",
    "    g_loss = tf.reduce_mean(neg_log_prob_actions * Qs)\n",
    "    return actions_logits, Qs, g_loss, d_loss"
   ]
  },
  {
   "cell_type": "code",
   "execution_count": 90,
   "metadata": {},
   "outputs": [],
   "source": [
    "# Optimizating/training/learning G & D\n",
    "def model_opt(g_loss, d_loss, learning_rate):\n",
    "    # Get weights and bias to update\n",
    "    t_vars = tf.trainable_variables()\n",
    "    g_vars = [var for var in t_vars if var.name.startswith('generator')]\n",
    "    d_vars = [var for var in t_vars if var.name.startswith('discriminator')]\n",
    "\n",
    "    # Optimize\n",
    "    with tf.control_dependencies(tf.get_collection(tf.GraphKeys.UPDATE_OPS)): # Required for batchnorm (BN)\n",
    "        g_opt = tf.train.AdamOptimizer(learning_rate).minimize(g_loss, var_list=g_vars)\n",
    "        d_opt = tf.train.AdamOptimizer(learning_rate).minimize(d_loss, var_list=d_vars)\n",
    "\n",
    "    return g_opt, d_opt"
   ]
  },
  {
   "cell_type": "code",
   "execution_count": 91,
   "metadata": {},
   "outputs": [],
   "source": [
    "class Model:\n",
    "    def __init__(self, state_size, action_size, hidden_size, learning_rate):\n",
    "\n",
    "        # Data of the Model: make the data available inside the framework\n",
    "        self.states, self.actions, self.targetQs = model_input(state_size=state_size, action_size=action_size)\n",
    "\n",
    "        # Create the Model: calculating the loss and forwad pass\n",
    "        self.actions_logits, self.Qs_logits, self.g_loss, self.d_loss = model_loss(\n",
    "            action_size=action_size, hidden_size=hidden_size, # model init parameters\n",
    "            states=self.states, actions=self.actions, targetQs=self.targetQs) # model input\n",
    "        \n",
    "        # Update the model: backward pass and backprop\n",
    "        self.g_opt, self.d_opt = model_opt(g_loss=self.g_loss, d_loss=self.d_loss, learning_rate=learning_rate)"
   ]
  },
  {
   "cell_type": "code",
   "execution_count": 92,
   "metadata": {},
   "outputs": [],
   "source": [
    "from collections import deque\n",
    "class Memory():\n",
    "    def __init__(self, max_size = 1000):\n",
    "        self.buffer = deque(maxlen=max_size)"
   ]
  },
  {
   "cell_type": "markdown",
   "metadata": {},
   "source": [
    "## Hyperparameters\n",
    "\n",
    "One of the more difficult aspects of reinforcememt learning are the large number of hyperparameters. Not only are we tuning the network, but we're tuning the simulation."
   ]
  },
  {
   "cell_type": "code",
   "execution_count": 93,
   "metadata": {},
   "outputs": [
    {
     "name": "stdout",
     "output_type": "stream",
     "text": [
      "state size:(1111, 4) actions:(1111, 24)\n",
      "action size:4.42857583363851\n"
     ]
    }
   ],
   "source": [
    "print('state size:{}'.format(states.shape), \n",
    "      'actions:{}'.format(actions.shape)) \n",
    "print('action size:{}'.format(np.max(actions) - np.min(actions)+1))"
   ]
  },
  {
   "cell_type": "code",
   "execution_count": 94,
   "metadata": {},
   "outputs": [],
   "source": [
    "# Exploration parameters\n",
    "explore_start = 1.0            # exploration probability at start\n",
    "explore_stop = 0.01            # minimum exploration probability \n",
    "decay_rate = 0.0001            # exponential decay rate for exploration prob\n",
    "\n",
    "# Network parameters\n",
    "# state_size = 37\n",
    "# state_size_ = (84, 84, 3)\n",
    "state_size = 24\n",
    "action_size = 4\n",
    "hidden_size = 24*2             # number of units in each Q-network hidden layer\n",
    "learning_rate = 0.0001         # Q-network learning rate\n",
    "\n",
    "# Memory parameters\n",
    "gamma = 0.99                   # future reward discount\n",
    "memory_size = 1000            # memory capacity\n",
    "batch_size = 1000             # experience mini-batch size"
   ]
  },
  {
   "cell_type": "code",
   "execution_count": 95,
   "metadata": {},
   "outputs": [],
   "source": [
    "# Reset/init the graph/session\n",
    "graph = tf.reset_default_graph()\n",
    "\n",
    "# Init the model\n",
    "model = Model(action_size=action_size, state_size=state_size, hidden_size=hidden_size, learning_rate=learning_rate)\n",
    "\n",
    "# Init the memory\n",
    "memory = Memory(max_size=memory_size)"
   ]
  },
  {
   "cell_type": "code",
   "execution_count": 96,
   "metadata": {},
   "outputs": [],
   "source": [
    "state = env.reset()\n",
    "for _ in range(memory_size):\n",
    "    action = env.action_space.sample()\n",
    "    next_state, reward, done, _ = env.step(action)\n",
    "    memory.buffer.append([state, action, next_state, reward, float(done)])\n",
    "    state = next_state\n",
    "    if done is True:\n",
    "        state = env.reset()"
   ]
  },
  {
   "cell_type": "markdown",
   "metadata": {},
   "source": [
    "## Training the model\n",
    "\n",
    "Below we'll train our agent. If you want to watch it train, uncomment the `env.render()` line. This is slow because it's rendering the frames slower than the network can train. But, it's cool to watch the agent get better at the game."
   ]
  },
  {
   "cell_type": "code",
   "execution_count": null,
   "metadata": {},
   "outputs": [
    {
     "name": "stdout",
     "output_type": "stream",
     "text": [
      "Episode:0 meanR:-82.3067 R:-82.3067 gloss:-134.2165 dloss:1.8306 exploreP:0.8536\n",
      "Episode:1 meanR:-91.3119 R:-100.3171 gloss:-388.0928 dloss:0.2071 exploreP:0.8484\n",
      "Episode:2 meanR:-100.4618 R:-118.7616 gloss:-753.1843 dloss:9.0228 exploreP:0.8412\n",
      "Episode:3 meanR:-100.9111 R:-102.2588 gloss:-2239.4990 dloss:8.6724 exploreP:0.7183\n",
      "Episode:4 meanR:-106.8413 R:-130.5623 gloss:-1098.4009 dloss:0.0550 exploreP:0.6136\n",
      "Episode:5 meanR:-107.8460 R:-112.8692 gloss:-1225.1321 dloss:0.1985 exploreP:0.6091\n",
      "Episode:6 meanR:-108.6487 R:-113.4653 gloss:-2143.2043 dloss:8.4064 exploreP:0.6054\n",
      "Episode:7 meanR:-109.5934 R:-116.2061 gloss:-3168.9819 dloss:14.7852 exploreP:0.6002\n",
      "Episode:8 meanR:-109.6470 R:-110.0754 gloss:-4279.8823 dloss:19.6476 exploreP:0.5953\n",
      "Episode:9 meanR:-109.9836 R:-113.0138 gloss:-5097.3779 dloss:23.9260 exploreP:0.5917\n",
      "Episode:10 meanR:-109.9658 R:-109.7870 gloss:-5920.8799 dloss:27.3604 exploreP:0.5894\n",
      "Episode:11 meanR:-110.5111 R:-116.5096 gloss:-6912.3984 dloss:29.5833 exploreP:0.5850\n",
      "Episode:12 meanR:-110.7281 R:-113.3321 gloss:-8565.4414 dloss:30.9621 exploreP:0.5813\n",
      "Episode:13 meanR:-111.1316 R:-116.3768 gloss:-10347.8252 dloss:31.7598 exploreP:0.5769\n",
      "Episode:14 meanR:-111.7310 R:-120.1239 gloss:-12009.8223 dloss:35.1498 exploreP:0.5725\n",
      "Episode:15 meanR:-112.3663 R:-121.8950 gloss:-13923.2246 dloss:35.1219 exploreP:0.5670\n",
      "Episode:16 meanR:-112.7447 R:-118.7995 gloss:-15146.3916 dloss:38.9941 exploreP:0.5629\n",
      "Episode:17 meanR:-112.7568 R:-112.9619 gloss:-17015.3457 dloss:38.3996 exploreP:0.5585\n",
      "Episode:18 meanR:-112.9284 R:-116.0178 gloss:-18639.5488 dloss:36.0792 exploreP:0.5545\n",
      "Episode:19 meanR:-113.0815 R:-115.9892 gloss:-19068.4922 dloss:32.3912 exploreP:0.5508\n",
      "Episode:20 meanR:-113.1234 R:-113.9612 gloss:-20093.4570 dloss:32.5406 exploreP:0.5457\n",
      "Episode:21 meanR:-113.2231 R:-115.3169 gloss:-21173.1191 dloss:30.2267 exploreP:0.5381\n",
      "Episode:22 meanR:-113.2942 R:-114.8584 gloss:-20196.3926 dloss:28.5394 exploreP:0.5335\n",
      "Episode:23 meanR:-112.9441 R:-104.8923 gloss:-9004.2246 dloss:15.4106 exploreP:0.4561\n",
      "Episode:24 meanR:-112.7925 R:-109.1544 gloss:-1772.0922 dloss:0.2843 exploreP:0.3902\n"
     ]
    }
   ],
   "source": [
    "# Save/load the model and save for plotting\n",
    "saver = tf.train.Saver()\n",
    "episode_rewards_list, rewards_list, gloss_list, dloss_list = [], [], [], []\n",
    "\n",
    "# TF session for training\n",
    "with tf.Session(graph=graph) as sess:\n",
    "    sess.run(tf.global_variables_initializer())\n",
    "    #saver.restore(sess, 'checkpoints/model.ckpt')    \n",
    "    #saver.restore(sess, tf.train.latest_checkpoint('checkpoints'))\n",
    "    total_step = 0 # Explore or exploit parameter\n",
    "    episode_reward = deque(maxlen=100) # 100 episodes average/running average/running mean/window\n",
    "    \n",
    "    # Training episodes/epochs\n",
    "    for ep in range(11111):\n",
    "        total_reward = 0\n",
    "        gloss_batch, dloss_batch = [], []\n",
    "        state = env.reset()\n",
    "\n",
    "        # Training steps/batches\n",
    "        while True:\n",
    "            # Explore (Env) or Exploit (Model)\n",
    "            total_step += 1\n",
    "            explore_p = explore_stop + (explore_start - explore_stop) * np.exp(-decay_rate * total_step) \n",
    "            if explore_p > np.random.rand():\n",
    "                action = env.action_space.sample()\n",
    "            else:\n",
    "                action_logits = sess.run(model.actions_logits, feed_dict={model.states: state.reshape([1, -1])})\n",
    "                action = np.reshape(action_logits, [-1]) # For continuous action space\n",
    "                #action = np.argmax(action_logits) # For discrete action space\n",
    "            next_state, reward, done, _ = env.step(action)\n",
    "            memory.buffer.append([state, action, next_state, reward, float(done)])\n",
    "            total_reward += reward\n",
    "            state = next_state\n",
    "\n",
    "            # Training\n",
    "            #batch = memory.sample(batch_size)\n",
    "            batch = memory.buffer\n",
    "            states = np.array([each[0] for each in batch])\n",
    "            actions = np.array([each[1] for each in batch])\n",
    "            next_states = np.array([each[2] for each in batch])\n",
    "            rewards = np.array([each[3] for each in batch])\n",
    "            dones = np.array([each[4] for each in batch])\n",
    "            nextQs_logits = sess.run(model.Qs_logits, feed_dict = {model.states: next_states})\n",
    "            #nextQs = np.max(nextQs_logits, axis=1) * (1-dones)\n",
    "            nextQs = nextQs_logits.reshape([-1]) * (1-dones)\n",
    "            targetQs = rewards + (gamma * nextQs)\n",
    "            gloss, dloss, _, _ = sess.run([model.g_loss, model.d_loss, model.g_opt, model.d_opt],\n",
    "                                            feed_dict = {model.states: states, \n",
    "                                                         model.actions: actions,\n",
    "                                                         model.targetQs: targetQs})\n",
    "            gloss_batch.append(gloss)\n",
    "            dloss_batch.append(dloss)\n",
    "            if done is True:\n",
    "                break\n",
    "                \n",
    "        episode_reward.append(total_reward)\n",
    "        print('Episode:{}'.format(ep),\n",
    "              'meanR:{:.4f}'.format(np.mean(episode_reward)),\n",
    "              'R:{:.4f}'.format(total_reward),\n",
    "              'gloss:{:.4f}'.format(np.mean(gloss_batch)),\n",
    "              'dloss:{:.4f}'.format(np.mean(dloss_batch)),\n",
    "              'exploreP:{:.4f}'.format(explore_p))\n",
    "        # Ploting out\n",
    "        episode_rewards_list.append([ep, np.mean(episode_reward)])\n",
    "        rewards_list.append([ep, total_reward])\n",
    "        gloss_list.append([ep, np.mean(gloss_batch)])\n",
    "        dloss_list.append([ep, np.mean(dloss_batch)])\n",
    "        # Break episode/epoch loop\n",
    "        if np.mean(episode_reward) <= -150:\n",
    "            break\n",
    "            \n",
    "    # At the end of all training episodes/epochs\n",
    "    saver.save(sess, 'checkpoints/model2.ckpt')"
   ]
  },
  {
   "cell_type": "markdown",
   "metadata": {},
   "source": [
    "# Visualizing training\n",
    "\n",
    "Below I'll plot the total rewards for each episode. I'm plotting the rolling average too, in blue."
   ]
  },
  {
   "cell_type": "code",
   "execution_count": null,
   "metadata": {},
   "outputs": [],
   "source": [
    "import matplotlib.pyplot as plt\n",
    "%matplotlib inline\n",
    "\n",
    "def running_mean(x, N):\n",
    "    cumsum = np.cumsum(np.insert(x, 0, 0)) \n",
    "    return (cumsum[N:] - cumsum[:-N]) / N "
   ]
  },
  {
   "cell_type": "code",
   "execution_count": null,
   "metadata": {},
   "outputs": [],
   "source": [
    "eps, arr = np.array(episode_rewards_list).T\n",
    "smoothed_arr = running_mean(arr, 10)\n",
    "plt.plot(eps[-len(smoothed_arr):], smoothed_arr)\n",
    "plt.plot(eps, arr, color='grey', alpha=0.3)\n",
    "plt.xlabel('Episode')\n",
    "plt.ylabel('Total rewards')"
   ]
  },
  {
   "cell_type": "code",
   "execution_count": null,
   "metadata": {},
   "outputs": [],
   "source": [
    "eps, arr = np.array(rewards_list).T\n",
    "smoothed_arr = running_mean(arr, 10)\n",
    "plt.plot(eps[-len(smoothed_arr):], smoothed_arr)\n",
    "plt.plot(eps, arr, color='grey', alpha=0.3)\n",
    "plt.xlabel('Episode')\n",
    "plt.ylabel('Total rewards')"
   ]
  },
  {
   "cell_type": "code",
   "execution_count": null,
   "metadata": {},
   "outputs": [],
   "source": [
    "eps, arr = np.array(gloss_list).T\n",
    "smoothed_arr = running_mean(arr, 10)\n",
    "plt.plot(eps[-len(smoothed_arr):], smoothed_arr)\n",
    "plt.plot(eps, arr, color='grey', alpha=0.3)\n",
    "plt.xlabel('Episode')\n",
    "plt.ylabel('G losses')"
   ]
  },
  {
   "cell_type": "code",
   "execution_count": null,
   "metadata": {},
   "outputs": [],
   "source": [
    "eps, arr = np.array(dloss_list).T\n",
    "smoothed_arr = running_mean(arr, 10)\n",
    "plt.plot(eps[-len(smoothed_arr):], smoothed_arr)\n",
    "plt.plot(eps, arr, color='grey', alpha=0.3)\n",
    "plt.xlabel('Episode')\n",
    "plt.ylabel('D losses')"
   ]
  },
  {
   "cell_type": "markdown",
   "metadata": {},
   "source": [
    "## Testing\n",
    "\n",
    "Let's checkout how our trained agent plays the game."
   ]
  },
  {
   "cell_type": "code",
   "execution_count": 36,
   "metadata": {},
   "outputs": [
    {
     "name": "stdout",
     "output_type": "stream",
     "text": [
      "\u001b[33mWARN: gym.spaces.Box autodetected dtype as <class 'numpy.float32'>. Please provide explicit dtype.\u001b[0m\n",
      "\u001b[33mWARN: gym.spaces.Box autodetected dtype as <class 'numpy.float32'>. Please provide explicit dtype.\u001b[0m\n",
      "INFO:tensorflow:Restoring parameters from checkpoints/model.ckpt\n"
     ]
    },
    {
     "name": "stderr",
     "output_type": "stream",
     "text": [
      "/home/arasdar/anaconda3/envs/env/lib/python3.6/site-packages/gym/__init__.py:22: UserWarning: DEPRECATION WARNING: to improve load times, gym no longer automatically loads gym.spaces. Please run \"import gym.spaces\" to load gym.spaces on your own. This warning will turn into an error in a future version of gym.\n",
      "  warnings.warn('DEPRECATION WARNING: to improve load times, gym no longer automatically loads gym.spaces. Please run \"import gym.spaces\" to load gym.spaces on your own. This warning will turn into an error in a future version of gym.')\n"
     ]
    },
    {
     "name": "stdout",
     "output_type": "stream",
     "text": [
      "total_reward: 500.0\n"
     ]
    }
   ],
   "source": [
    "import gym\n",
    "env = gym.make('CartPole-v0')\n",
    "env = gym.make('CartPole-v1')\n",
    "# env = gym.make('Acrobot-v1')\n",
    "# env = gym.make('MountainCar-v0')\n",
    "# env = gym.make('Pendulum-v0')\n",
    "# env = gym.make('Blackjack-v0')\n",
    "# env = gym.make('FrozenLake-v0')\n",
    "# env = gym.make('AirRaid-ram-v0')\n",
    "# env = gym.make('AirRaid-v0')\n",
    "# env = gym.make('BipedalWalker-v2')\n",
    "# env = gym.make('Copy-v0')\n",
    "# env = gym.make('CarRacing-v0')\n",
    "# env = gym.make('Ant-v2') #mujoco\n",
    "# env = gym.make('FetchPickAndPlace-v1') # mujoco required!\n",
    "\n",
    "with tf.Session() as sess:\n",
    "    sess.run(tf.global_variables_initializer())\n",
    "    saver.restore(sess, 'checkpoints/model.ckpt')    \n",
    "    #saver.restore(sess, tf.train.latest_checkpoint('checkpoints'))\n",
    "    \n",
    "    # Episodes/epochs\n",
    "    for _ in range(1):\n",
    "        state = env.reset()\n",
    "        total_reward = 0\n",
    "\n",
    "        # Steps/batches\n",
    "        while True:\n",
    "            env.render()\n",
    "            action_logits = sess.run(model.actions_logits, feed_dict={model.states: state.reshape([1, -1])})\n",
    "            action = np.argmax(action_logits)\n",
    "            state, reward, done, _ = env.step(action)\n",
    "            total_reward += reward\n",
    "            if done:\n",
    "                print('total_reward: {}'.format(total_reward))\n",
    "                break\n",
    "                \n",
    "env.close()"
   ]
  },
  {
   "cell_type": "markdown",
   "metadata": {},
   "source": [
    "## Extending this\n",
    "\n",
    "So, Cart-Pole is a pretty simple game. However, the same model can be used to train an agent to play something much more complicated like Pong or Space Invaders. Instead of a state like we're using here though, you'd want to use convolutional layers to get the state from the screen images.\n",
    "\n",
    "![Deep Q-Learning Atari](assets/atari-network.png)\n",
    "\n",
    "I'll leave it as a challenge for you to use deep Q-learning to train an agent to play Atari games. Here's the original paper which will get you started: http://www.davidqiu.com:8888/research/nature14236.pdf."
   ]
  },
  {
   "cell_type": "code",
   "execution_count": null,
   "metadata": {},
   "outputs": [],
   "source": []
  }
 ],
 "metadata": {
  "kernelspec": {
   "display_name": "Python 3",
   "language": "python",
   "name": "python3"
  },
  "language_info": {
   "codemirror_mode": {
    "name": "ipython",
    "version": 3
   },
   "file_extension": ".py",
   "mimetype": "text/x-python",
   "name": "python",
   "nbconvert_exporter": "python",
   "pygments_lexer": "ipython3",
   "version": "3.6.5"
  }
 },
 "nbformat": 4,
 "nbformat_minor": 2
}
