{
 "cells": [
  {
   "cell_type": "markdown",
   "metadata": {},
   "source": [
    "# Deep cortical reinforcement learning: Policy gradients + Q-learning + GAN\n",
    "\n",
    "\n",
    "In this notebook, we'll build a neural network that can learn to play games through reinforcement learning. More specifically, we'll use Q-learning to train an agent to play a game called [Cart-Pole](https://gym.openai.com/envs/CartPole-v0). In this game, a freely swinging pole is attached to a cart. The cart can move to the left and right, and the goal is to keep the pole upright as long as possible.\n",
    "\n",
    "![Cart-Pole](assets/cart-pole.jpg)\n",
    "\n",
    "We can simulate this game using [OpenAI Gym](https://gym.openai.com/). First, let's check out how OpenAI Gym works. Then, we'll get into training an agent to play the Cart-Pole game."
   ]
  },
  {
   "cell_type": "code",
   "execution_count": 63,
   "metadata": {},
   "outputs": [
    {
     "name": "stdout",
     "output_type": "stream",
     "text": [
      "TensorFlow Version: 1.7.1\n",
      "Default GPU Device: \n"
     ]
    }
   ],
   "source": [
    "# In this one we should define and detect GPUs for tensorflow\n",
    "# GPUs or CPU\n",
    "import tensorflow as tf\n",
    "\n",
    "# Check TensorFlow Version\n",
    "print('TensorFlow Version: {}'.format(tf.__version__))\n",
    "\n",
    "# Check for a GPU\n",
    "print('Default GPU Device: {}'.format(tf.test.gpu_device_name()))"
   ]
  },
  {
   "cell_type": "markdown",
   "metadata": {},
   "source": [
    ">**Note:** Make sure you have OpenAI Gym cloned into the same directory with this notebook. I've included `gym` as a submodule, so you can run `git submodule --init --recursive` to pull the contents into the `gym` repo."
   ]
  },
  {
   "cell_type": "markdown",
   "metadata": {},
   "source": [
    "##### >**Note:** Make sure you have OpenAI Gym cloned. Then run this command `pip install -e gym/[all]`."
   ]
  },
  {
   "cell_type": "code",
   "execution_count": 64,
   "metadata": {},
   "outputs": [
    {
     "name": "stdout",
     "output_type": "stream",
     "text": [
      "\u001b[33mWARN: gym.spaces.Box autodetected dtype as <class 'numpy.float32'>. Please provide explicit dtype.\u001b[0m\n",
      "\u001b[33mWARN: gym.spaces.Box autodetected dtype as <class 'numpy.float32'>. Please provide explicit dtype.\u001b[0m\n"
     ]
    },
    {
     "name": "stderr",
     "output_type": "stream",
     "text": [
      "/home/arasdar/anaconda3/envs/env/lib/python3.6/site-packages/gym/__init__.py:22: UserWarning: DEPRECATION WARNING: to improve load times, gym no longer automatically loads gym.spaces. Please run \"import gym.spaces\" to load gym.spaces on your own. This warning will turn into an error in a future version of gym.\n",
      "  warnings.warn('DEPRECATION WARNING: to improve load times, gym no longer automatically loads gym.spaces. Please run \"import gym.spaces\" to load gym.spaces on your own. This warning will turn into an error in a future version of gym.')\n"
     ]
    },
    {
     "data": {
      "text/plain": [
       "dtype('float32')"
      ]
     },
     "execution_count": 64,
     "metadata": {},
     "output_type": "execute_result"
    }
   ],
   "source": [
    "import gym\n",
    "\n",
    "## Create the Cart-Pole game environment\n",
    "# env = gym.make('CartPole-v0')\n",
    "# env = gym.make('CartPole-v1')\n",
    "# env = gym.make('Acrobot-v1')\n",
    "# env = gym.make('MountainCar-v0')\n",
    "# env = gym.make('MountainCarContinuous-v0')\n",
    "# env = gym.make('Pendulum-v0')\n",
    "# env = gym.make('Blackjack-v0')\n",
    "# env = gym.make('FrozenLake-v0')\n",
    "# env = gym.make('AirRaid-ram-v0')\n",
    "# env = gym.make('AirRaid-v0')\n",
    "env = gym.make('BipedalWalker-v2')\n",
    "# env = gym.make('Copy-v0')\n",
    "# env = gym.make('CarRacing-v0')\n",
    "# env = gym.make('Ant-v2') #mujoco\n",
    "# env = gym.make('FetchPickAndPlace-v1') # mujoco required!\n",
    "\n",
    "# Discrete/int or continuos/float\n",
    "env.action_space.dtype"
   ]
  },
  {
   "cell_type": "markdown",
   "metadata": {},
   "source": [
    "We interact with the simulation through `env`. To show the simulation running, you can use `env.render()` to render one frame. Passing in an action as an integer to `env.step` will generate the next step in the simulation.  You can see how many actions are possible from `env.action_space` and to get a random action you can use `env.action_space.sample()`. This is general to all Gym games. In the Cart-Pole game, there are two possible actions, moving the cart left or right. So there are two actions we can take, encoded as 0 and 1.\n",
    "\n",
    "Run the code below to watch the simulation run."
   ]
  },
  {
   "cell_type": "code",
   "execution_count": 65,
   "metadata": {},
   "outputs": [
    {
     "data": {
      "text/plain": [
       "Box(24,)"
      ]
     },
     "execution_count": 65,
     "metadata": {},
     "output_type": "execute_result"
    }
   ],
   "source": [
    "env.observation_space"
   ]
  },
  {
   "cell_type": "code",
   "execution_count": 66,
   "metadata": {},
   "outputs": [],
   "source": [
    "state = env.reset()\n",
    "batch = []\n",
    "for _ in range(1111):\n",
    "    #env.render()\n",
    "    action = env.action_space.sample()\n",
    "    next_state, reward, done, _ = env.step(action) # take a random action\n",
    "    batch.append([state, action, next_state, reward, float(done)])\n",
    "    state = next_state\n",
    "    if done:\n",
    "        state = env.reset()"
   ]
  },
  {
   "cell_type": "markdown",
   "metadata": {},
   "source": [
    "To shut the window showing the simulation, use `env.close()`."
   ]
  },
  {
   "cell_type": "code",
   "execution_count": 67,
   "metadata": {},
   "outputs": [],
   "source": [
    "# env.close()"
   ]
  },
  {
   "cell_type": "markdown",
   "metadata": {},
   "source": [
    "If you ran the simulation above, we can look at the rewards:"
   ]
  },
  {
   "cell_type": "code",
   "execution_count": 68,
   "metadata": {},
   "outputs": [
    {
     "data": {
      "text/plain": [
       "((4,), (24,))"
      ]
     },
     "execution_count": 68,
     "metadata": {},
     "output_type": "execute_result"
    }
   ],
   "source": [
    "batch[0], \n",
    "batch[0][1].shape, state.shape"
   ]
  },
  {
   "cell_type": "code",
   "execution_count": 69,
   "metadata": {},
   "outputs": [],
   "source": [
    "import numpy as np\n",
    "actions = np.array([each[0] for each in batch])\n",
    "states = np.array([each[1] for each in batch])\n",
    "rewards = np.array([each[2] for each in batch])\n",
    "dones = np.array([each[3] for each in batch])\n",
    "infos = np.array([each[4] for each in batch])"
   ]
  },
  {
   "cell_type": "code",
   "execution_count": 70,
   "metadata": {},
   "outputs": [
    {
     "name": "stdout",
     "output_type": "stream",
     "text": [
      "shapes: (1111, 24) (1111, 4) (1111, 24) (1111,)\n",
      "dtypes: float64 float32 float64 float64\n",
      "states: 0.9999491 -0.99980396\n",
      "actions: 2.0423901875813804 -1.386185646057129\n",
      "rewards: 2.0423901875813804 -1.386185646057129\n"
     ]
    }
   ],
   "source": [
    "# print(rewards[-20:])\n",
    "print('shapes:', np.array(rewards).shape, np.array(states).shape, np.array(actions).shape, np.array(dones).shape)\n",
    "print('dtypes:', np.array(rewards).dtype, np.array(states).dtype, np.array(actions).dtype, np.array(dones).dtype)\n",
    "print('states:', np.max(np.array(states)), np.min(np.array(states)))\n",
    "print('actions:', np.max(np.array(actions)), np.min(np.array(actions)))\n",
    "# print((np.max(np.array(actions)) - np.min(np.array(actions)))+1)\n",
    "print('rewards:', np.max(np.array(rewards)), np.min(np.array(rewards)))"
   ]
  },
  {
   "cell_type": "code",
   "execution_count": 71,
   "metadata": {},
   "outputs": [
    {
     "data": {
      "text/plain": [
       "array([[ 2.74739973e-03, -1.31684646e-05,  1.02436312e-03,\n",
       "        -1.59999108e-02,  9.19683278e-02, -1.35180948e-03,\n",
       "         8.60266164e-01,  2.40187673e-03,  1.00000000e+00,\n",
       "         3.23748849e-02, -1.35171739e-03,  8.53814155e-01,\n",
       "         9.56013566e-04,  1.00000000e+00,  4.40814108e-01,\n",
       "         4.45820212e-01,  4.61422890e-01,  4.89550292e-01,\n",
       "         5.34102917e-01,  6.02461159e-01,  7.09149063e-01,\n",
       "         8.85932028e-01,  1.00000000e+00,  1.00000000e+00],\n",
       "       [ 1.81099847e-02,  2.27325392e-02,  1.50036299e-02,\n",
       "         1.87298584e-02, -3.19512904e-01, -9.25155520e-01,\n",
       "         1.48349273e+00,  9.93954817e-01,  1.00000000e+00,\n",
       "         2.91940302e-01,  1.52260810e-01,  1.36669636e-01,\n",
       "        -9.99908447e-01,  1.00000000e+00,  4.51477766e-01,\n",
       "         4.56604987e-01,  4.72585082e-01,  5.01392901e-01,\n",
       "         5.47023296e-01,  6.17035210e-01,  7.26303935e-01,\n",
       "         9.07363415e-01,  1.00000000e+00,  1.00000000e+00],\n",
       "       [ 3.07344068e-02,  2.62205172e-02,  1.24771661e-02,\n",
       "        -8.54406476e-03, -8.12581480e-02, -8.26262236e-01,\n",
       "         1.10302541e+00,  0.00000000e+00,  1.00000000e+00,\n",
       "         3.13992411e-01,  3.77926439e-01,  4.68376875e-02,\n",
       "        -1.00000008e+00,  0.00000000e+00,  4.53954518e-01,\n",
       "         4.59109843e-01,  4.75177616e-01,  5.04143476e-01,\n",
       "         5.50024211e-01,  6.20420158e-01,  7.30288327e-01,\n",
       "         9.12341118e-01,  1.00000000e+00,  1.00000000e+00],\n",
       "       [ 3.42181735e-02,  6.00428879e-03,  1.74115118e-03,\n",
       "        -2.08169699e-02, -1.00796551e-01, -2.84780532e-01,\n",
       "         1.08299808e+00,  1.24659449e-01,  1.00000000e+00,\n",
       "         3.42793912e-01,  4.23488110e-01, -6.10747337e-02,\n",
       "        -1.00000000e+00,  0.00000000e+00,  4.53910172e-01,\n",
       "         4.59064990e-01,  4.75131214e-01,  5.04094243e-01,\n",
       "         5.49970448e-01,  6.20359540e-01,  7.30217040e-01,\n",
       "         9.12252009e-01,  1.00000000e+00,  1.00000000e+00],\n",
       "       [ 4.29945737e-02,  1.34849405e-02, -2.10812978e-03,\n",
       "        -1.70794189e-03, -1.35364942e-02, -9.19704065e-02,\n",
       "         5.33687174e-01,  7.96914411e-04,  1.00000000e+00,\n",
       "         3.68321717e-01,  5.07333159e-01, -8.06138515e-02,\n",
       "        -4.63431040e-01,  0.00000000e+00,  4.57188994e-01,\n",
       "         4.62381065e-01,  4.78563309e-01,  5.07735550e-01,\n",
       "         5.53943157e-01,  6.24840736e-01,  7.35491753e-01,\n",
       "         9.18841660e-01,  1.00000000e+00,  1.00000000e+00],\n",
       "       [ 5.11216745e-02,  1.59745646e-02, -7.28304908e-03,\n",
       "        -9.47883308e-03,  1.87761001e-02,  1.87744886e-01,\n",
       "         3.66843343e-01, -1.00000000e+00,  1.00000000e+00,\n",
       "         3.97704542e-01,  4.48675483e-01,  5.23123145e-02,\n",
       "         9.99999682e-01,  0.00000000e+00,  4.57119256e-01,\n",
       "         4.62310523e-01,  4.78490323e-01,  5.07658124e-01,\n",
       "         5.53858697e-01,  6.24745429e-01,  7.35379577e-01,\n",
       "         9.18701530e-01,  1.00000000e+00,  1.00000000e+00],\n",
       "       [ 5.68850227e-02,  1.14313006e-02, -1.09251308e-02,\n",
       "        -3.84191489e-02,  3.19660418e-02,  1.93201646e-01,\n",
       "         2.52373815e-01, -9.76759434e-01,  0.00000000e+00,\n",
       "         4.76646543e-01,  9.99999940e-01,  2.41836309e-02,\n",
       "        -2.62507637e-01,  0.00000000e+00,  4.55326557e-01,\n",
       "         4.60497469e-01,  4.76613820e-01,  5.05667210e-01,\n",
       "         5.51686585e-01,  6.22295320e-01,  7.32495606e-01,\n",
       "         9.15098608e-01,  1.00000000e+00,  1.00000000e+00],\n",
       "       [ 9.45695266e-02,  7.52870750e-02,  2.73487741e-02,\n",
       "        -4.79907703e-02, -2.77377926e-02, -7.05641508e-01,\n",
       "         1.39653802e-01, -9.99999921e-01,  0.00000000e+00,\n",
       "         4.46633965e-01, -3.55625510e-01,  8.13146830e-02,\n",
       "         4.31703170e-01,  0.00000000e+00,  4.53183919e-01,\n",
       "         4.58330512e-01,  4.74370986e-01,  5.03287673e-01,\n",
       "         5.49090505e-01,  6.19367003e-01,  7.29048669e-01,\n",
       "         9.10792410e-01,  1.00000000e+00,  1.00000000e+00],\n",
       "       [ 1.20687373e-01,  5.22167683e-02,  1.65904319e-02,\n",
       "        -5.87387133e-02, -5.46926223e-02, -3.31065416e-01,\n",
       "         8.83360505e-02, -4.37286456e-01,  0.00000000e+00,\n",
       "         4.20236886e-01, -3.21830779e-01,  1.44968808e-01,\n",
       "         5.20707806e-01,  0.00000000e+00,  4.50518161e-01,\n",
       "         4.55634475e-01,  4.71580625e-01,  5.00327229e-01,\n",
       "         5.45860589e-01,  6.15723670e-01,  7.24760175e-01,\n",
       "         9.05434847e-01,  1.00000000e+00,  1.00000000e+00],\n",
       "       [ 1.32699654e-01,  2.39258003e-02,  9.21388686e-03,\n",
       "        -8.20059872e-02, -1.14065900e-01, -7.22284615e-01,\n",
       "         2.11568892e-01,  1.00000008e+00,  0.00000000e+00,\n",
       "         4.97384012e-01,  9.76247907e-01,  2.84463763e-02,\n",
       "        -1.00000016e+00,  0.00000000e+00,  4.46687341e-01,\n",
       "         4.51760143e-01,  4.67570692e-01,  4.96072859e-01,\n",
       "         5.41219056e-01,  6.10488117e-01,  7.18597472e-01,\n",
       "         8.97735834e-01,  1.00000000e+00,  1.00000000e+00]])"
      ]
     },
     "execution_count": 71,
     "metadata": {},
     "output_type": "execute_result"
    }
   ],
   "source": [
    "actions[:10]"
   ]
  },
  {
   "cell_type": "code",
   "execution_count": 72,
   "metadata": {},
   "outputs": [
    {
     "data": {
      "text/plain": [
       "array([[ 1.81099847e-02,  2.27325392e-02,  1.50036299e-02,\n",
       "         1.87298584e-02, -3.19512904e-01, -9.25155520e-01,\n",
       "         1.48349273e+00,  9.93954817e-01,  1.00000000e+00,\n",
       "         2.91940302e-01,  1.52260810e-01,  1.36669636e-01,\n",
       "        -9.99908447e-01,  1.00000000e+00,  4.51477766e-01,\n",
       "         4.56604987e-01,  4.72585082e-01,  5.01392901e-01,\n",
       "         5.47023296e-01,  6.17035210e-01,  7.26303935e-01,\n",
       "         9.07363415e-01,  1.00000000e+00,  1.00000000e+00],\n",
       "       [ 3.07344068e-02,  2.62205172e-02,  1.24771661e-02,\n",
       "        -8.54406476e-03, -8.12581480e-02, -8.26262236e-01,\n",
       "         1.10302541e+00,  0.00000000e+00,  1.00000000e+00,\n",
       "         3.13992411e-01,  3.77926439e-01,  4.68376875e-02,\n",
       "        -1.00000008e+00,  0.00000000e+00,  4.53954518e-01,\n",
       "         4.59109843e-01,  4.75177616e-01,  5.04143476e-01,\n",
       "         5.50024211e-01,  6.20420158e-01,  7.30288327e-01,\n",
       "         9.12341118e-01,  1.00000000e+00,  1.00000000e+00],\n",
       "       [ 3.42181735e-02,  6.00428879e-03,  1.74115118e-03,\n",
       "        -2.08169699e-02, -1.00796551e-01, -2.84780532e-01,\n",
       "         1.08299808e+00,  1.24659449e-01,  1.00000000e+00,\n",
       "         3.42793912e-01,  4.23488110e-01, -6.10747337e-02,\n",
       "        -1.00000000e+00,  0.00000000e+00,  4.53910172e-01,\n",
       "         4.59064990e-01,  4.75131214e-01,  5.04094243e-01,\n",
       "         5.49970448e-01,  6.20359540e-01,  7.30217040e-01,\n",
       "         9.12252009e-01,  1.00000000e+00,  1.00000000e+00],\n",
       "       [ 4.29945737e-02,  1.34849405e-02, -2.10812978e-03,\n",
       "        -1.70794189e-03, -1.35364942e-02, -9.19704065e-02,\n",
       "         5.33687174e-01,  7.96914411e-04,  1.00000000e+00,\n",
       "         3.68321717e-01,  5.07333159e-01, -8.06138515e-02,\n",
       "        -4.63431040e-01,  0.00000000e+00,  4.57188994e-01,\n",
       "         4.62381065e-01,  4.78563309e-01,  5.07735550e-01,\n",
       "         5.53943157e-01,  6.24840736e-01,  7.35491753e-01,\n",
       "         9.18841660e-01,  1.00000000e+00,  1.00000000e+00],\n",
       "       [ 5.11216745e-02,  1.59745646e-02, -7.28304908e-03,\n",
       "        -9.47883308e-03,  1.87761001e-02,  1.87744886e-01,\n",
       "         3.66843343e-01, -1.00000000e+00,  1.00000000e+00,\n",
       "         3.97704542e-01,  4.48675483e-01,  5.23123145e-02,\n",
       "         9.99999682e-01,  0.00000000e+00,  4.57119256e-01,\n",
       "         4.62310523e-01,  4.78490323e-01,  5.07658124e-01,\n",
       "         5.53858697e-01,  6.24745429e-01,  7.35379577e-01,\n",
       "         9.18701530e-01,  1.00000000e+00,  1.00000000e+00],\n",
       "       [ 5.68850227e-02,  1.14313006e-02, -1.09251308e-02,\n",
       "        -3.84191489e-02,  3.19660418e-02,  1.93201646e-01,\n",
       "         2.52373815e-01, -9.76759434e-01,  0.00000000e+00,\n",
       "         4.76646543e-01,  9.99999940e-01,  2.41836309e-02,\n",
       "        -2.62507637e-01,  0.00000000e+00,  4.55326557e-01,\n",
       "         4.60497469e-01,  4.76613820e-01,  5.05667210e-01,\n",
       "         5.51686585e-01,  6.22295320e-01,  7.32495606e-01,\n",
       "         9.15098608e-01,  1.00000000e+00,  1.00000000e+00],\n",
       "       [ 9.45695266e-02,  7.52870750e-02,  2.73487741e-02,\n",
       "        -4.79907703e-02, -2.77377926e-02, -7.05641508e-01,\n",
       "         1.39653802e-01, -9.99999921e-01,  0.00000000e+00,\n",
       "         4.46633965e-01, -3.55625510e-01,  8.13146830e-02,\n",
       "         4.31703170e-01,  0.00000000e+00,  4.53183919e-01,\n",
       "         4.58330512e-01,  4.74370986e-01,  5.03287673e-01,\n",
       "         5.49090505e-01,  6.19367003e-01,  7.29048669e-01,\n",
       "         9.10792410e-01,  1.00000000e+00,  1.00000000e+00],\n",
       "       [ 1.20687373e-01,  5.22167683e-02,  1.65904319e-02,\n",
       "        -5.87387133e-02, -5.46926223e-02, -3.31065416e-01,\n",
       "         8.83360505e-02, -4.37286456e-01,  0.00000000e+00,\n",
       "         4.20236886e-01, -3.21830779e-01,  1.44968808e-01,\n",
       "         5.20707806e-01,  0.00000000e+00,  4.50518161e-01,\n",
       "         4.55634475e-01,  4.71580625e-01,  5.00327229e-01,\n",
       "         5.45860589e-01,  6.15723670e-01,  7.24760175e-01,\n",
       "         9.05434847e-01,  1.00000000e+00,  1.00000000e+00],\n",
       "       [ 1.32699654e-01,  2.39258003e-02,  9.21388686e-03,\n",
       "        -8.20059872e-02, -1.14065900e-01, -7.22284615e-01,\n",
       "         2.11568892e-01,  1.00000008e+00,  0.00000000e+00,\n",
       "         4.97384012e-01,  9.76247907e-01,  2.84463763e-02,\n",
       "        -1.00000016e+00,  0.00000000e+00,  4.46687341e-01,\n",
       "         4.51760143e-01,  4.67570692e-01,  4.96072859e-01,\n",
       "         5.41219056e-01,  6.10488117e-01,  7.18597472e-01,\n",
       "         8.97735834e-01,  1.00000000e+00,  1.00000000e+00],\n",
       "       [ 1.37958676e-01,  1.03588390e-02,  2.28509322e-03,\n",
       "        -9.80742836e-02, -1.42003432e-01, -3.29994768e-01,\n",
       "         3.35121095e-01,  1.00000008e+00,  0.00000000e+00,\n",
       "         5.75514615e-01,  9.99999940e-01, -8.17687511e-02,\n",
       "        -1.00000000e+00,  0.00000000e+00,  4.42066252e-01,\n",
       "         4.47086573e-01,  4.62733567e-01,  4.90940869e-01,\n",
       "         5.35620034e-01,  6.04172468e-01,  7.11163402e-01,\n",
       "         8.88448536e-01,  1.00000000e+00,  1.00000000e+00]])"
      ]
     },
     "execution_count": 72,
     "metadata": {},
     "output_type": "execute_result"
    }
   ],
   "source": [
    "rewards[:10]"
   ]
  },
  {
   "cell_type": "code",
   "execution_count": 73,
   "metadata": {},
   "outputs": [],
   "source": [
    "# import numpy as np\n",
    "def sigmoid(x, derivative=False):\n",
    "  return x*(1-x) if derivative else 1/(1+np.exp(-x))"
   ]
  },
  {
   "cell_type": "code",
   "execution_count": 74,
   "metadata": {},
   "outputs": [
    {
     "data": {
      "text/plain": [
       "(0.8851764282630248, 0.20001739497735352)"
      ]
     },
     "execution_count": 74,
     "metadata": {},
     "output_type": "execute_result"
    }
   ],
   "source": [
    "sigmoid(np.max(np.array(rewards))), sigmoid(np.min(np.array(rewards)))"
   ]
  },
  {
   "cell_type": "code",
   "execution_count": 75,
   "metadata": {},
   "outputs": [
    {
     "name": "stdout",
     "output_type": "stream",
     "text": [
      "rewards: 0.020423901875813805 -0.013861856460571288\n"
     ]
    }
   ],
   "source": [
    "print('rewards:', np.max(np.array(rewards))/100, np.min(np.array(rewards))/100)"
   ]
  },
  {
   "cell_type": "markdown",
   "metadata": {},
   "source": [
    "The game resets after the pole has fallen past a certain angle. For each frame while the simulation is running, it returns a reward of 1.0. The longer the game runs, the more reward we get. Then, our network's goal is to maximize the reward by keeping the pole vertical. It will do this by moving the cart to the left and the right."
   ]
  },
  {
   "cell_type": "markdown",
   "metadata": {},
   "source": [
    "## Q-Network\n",
    "\n",
    "We train our Q-learning agent using the Bellman Equation:\n",
    "\n",
    "$$\n",
    "Q(s, a) = r + \\gamma \\max{Q(s', a')}\n",
    "$$\n",
    "\n",
    "where $s$ is a state, $a$ is an action, and $s'$ is the next state from state $s$ and action $a$.\n",
    "\n",
    "Before we used this equation to learn values for a Q-_table_. However, for this game there are a huge number of states available. The state has four values: the position and velocity of the cart, and the position and velocity of the pole. These are all real-valued numbers, so ignoring floating point precisions, you practically have infinite states. Instead of using a table then, we'll replace it with a neural network that will approximate the Q-table lookup function.\n",
    "\n",
    "<img src=\"assets/deep-q-learning.png\" width=450px>\n",
    "\n",
    "Now, our Q value, $Q(s, a)$ is calculated by passing in a state to the network. The output will be Q-values for each available action, with fully connected hidden layers.\n",
    "\n",
    "<img src=\"assets/q-network.png\" width=550px>\n",
    "\n",
    "\n",
    "As I showed before, we can define our targets for training as $\\hat{Q}(s,a) = r + \\gamma \\max{Q(s', a')}$. Then we update the weights by minimizing $(\\hat{Q}(s,a) - Q(s,a))^2$. \n",
    "\n",
    "For this Cart-Pole game, we have four inputs, one for each value in the state, and two outputs, one for each action. To get $\\hat{Q}$, we'll first choose an action, then simulate the game using that action. This will get us the next state, $s'$, and the reward. With that, we can calculate $\\hat{Q}$ then pass it back into the $Q$ network to run the optimizer and update the weights.\n",
    "\n",
    "Below is my implementation of the Q-network. I used two fully connected layers with ReLU activations. Two seems to be good enough, three might be better. Feel free to try it out."
   ]
  },
  {
   "cell_type": "code",
   "execution_count": 76,
   "metadata": {},
   "outputs": [],
   "source": [
    "def model_input(state_size, action_size):\n",
    "    #states = tf.placeholder(tf.float32, [None, *state_size], name='states')\n",
    "    states = tf.placeholder(tf.float32, [None, state_size], name='states')\n",
    "    actions = tf.placeholder(tf.float32, [None, action_size], name='actions')\n",
    "    targetQs = tf.placeholder(tf.float32, [None], name='targetQs')\n",
    "    return states, actions, targetQs"
   ]
  },
  {
   "cell_type": "code",
   "execution_count": 77,
   "metadata": {},
   "outputs": [],
   "source": [
    "# How to use batch-norm\n",
    "#   x_norm = tf.layers.batch_normalization(x, training=training)\n",
    "\n",
    "#   # ...\n",
    "\n",
    "#   update_ops = tf.get_collection(tf.GraphKeys.UPDATE_OPS)\n",
    "#   with tf.control_dependencies(update_ops):\n",
    "#     train_op = optimizer.minimize(loss)"
   ]
  },
  {
   "cell_type": "code",
   "execution_count": 78,
   "metadata": {},
   "outputs": [],
   "source": [
    "# training: Either a Python boolean, or a TensorFlow boolean scalar tensor (e.g. a placeholder). \n",
    "# Whether to return the output in: \n",
    "# training mode (normalized with statistics of the current batch) or \n",
    "# inference mode (normalized with moving statistics). \n",
    "# NOTE: make sure to set this parameter correctly, or else your training/inference will not work properly."
   ]
  },
  {
   "cell_type": "code",
   "execution_count": 79,
   "metadata": {},
   "outputs": [],
   "source": [
    "# Generator/Controller: Generating/prediting the actions\n",
    "def generator(states, action_size, hidden_size, reuse=False, alpha=0.1, training=False):\n",
    "    with tf.variable_scope('generator', reuse=reuse):\n",
    "        # First fully connected layer\n",
    "        h1 = tf.layers.dense(inputs=states, units=hidden_size)\n",
    "        bn1 = tf.layers.batch_normalization(h1, training=training)        \n",
    "        nl1 = tf.maximum(alpha * bn1, bn1)\n",
    "        \n",
    "        # Second fully connected layer\n",
    "        h2 = tf.layers.dense(inputs=nl1, units=hidden_size)\n",
    "        bn2 = tf.layers.batch_normalization(h2, training=training)        \n",
    "        nl2 = tf.maximum(alpha * bn2, bn2)\n",
    "        \n",
    "        # Output layer\n",
    "        logits = tf.layers.dense(inputs=nl2, units=action_size)        \n",
    "        #predictions = tf.nn.softmax(logits)\n",
    "\n",
    "        # return actions logits\n",
    "        return logits"
   ]
  },
  {
   "cell_type": "code",
   "execution_count": 80,
   "metadata": {},
   "outputs": [],
   "source": [
    "# Discriminator/Dopamine: Reward function/planner/naviator/advisor/supervisor/cortical columns\n",
    "def discriminator(states, actions, hidden_size, reuse=False, alpha=0.1, training=False):\n",
    "    with tf.variable_scope('discriminator', reuse=reuse):\n",
    "        # Fusion/merge states and actions/ SA/ SM\n",
    "        x_fused = tf.concat(axis=1, values=[states, actions])\n",
    "        \n",
    "        # First fully connected layer\n",
    "        h1 = tf.layers.dense(inputs=x_fused, units=hidden_size)\n",
    "        bn1 = tf.layers.batch_normalization(h1, training=training)        \n",
    "        nl1 = tf.maximum(alpha * bn1, bn1)\n",
    "        \n",
    "        # Second fully connected layer\n",
    "        h2 = tf.layers.dense(inputs=nl1, units=hidden_size)\n",
    "        bn2 = tf.layers.batch_normalization(h2, training=training)        \n",
    "        nl2 = tf.maximum(alpha * bn2, bn2)\n",
    "        \n",
    "        # Output layer\n",
    "        logits = tf.layers.dense(inputs=nl2, units=1)        \n",
    "        #predictions = tf.nn.softmax(logits)\n",
    "\n",
    "        # return rewards logits\n",
    "        return logits"
   ]
  },
  {
   "cell_type": "code",
   "execution_count": 81,
   "metadata": {},
   "outputs": [
    {
     "data": {
      "text/plain": [
       "(array([-0.6857498 , -0.1863178 ,  0.5463643 , -0.48135957], dtype=float32),\n",
       " array([ 0.76391673,  0.2900372 , -0.20683765, -0.2392354 ], dtype=float32),\n",
       " array([2.101533  , 0.22691411, 0.5673132 , 0.05862411], dtype=float32))"
      ]
     },
     "execution_count": 81,
     "metadata": {},
     "output_type": "execute_result"
    }
   ],
   "source": [
    "batch[1][1], batch[2][1], np.square(batch[1][1] - batch[2][1])"
   ]
  },
  {
   "cell_type": "code",
   "execution_count": 82,
   "metadata": {},
   "outputs": [],
   "source": [
    "def model_loss(action_size, hidden_size, states, actions, targetQs):\n",
    "    # G\n",
    "    actions_logits = generator(states=states, hidden_size=hidden_size, action_size=action_size)\n",
    "    #actions_labels = tf.one_hot(indices=actions, depth=action_size, dtype=actions_logits.dtype)\n",
    "    actions_labels = tf.nn.sigmoid(actions)\n",
    "    # neg_log_prob_actions = tf.nn.softmax_cross_entropy_with_logits_v2(logits=actions_logits, \n",
    "    #                                                                   labels=actions_labels)\n",
    "    neg_log_prob_actions = tf.nn.sigmoid_cross_entropy_with_logits(logits=actions_logits, \n",
    "                                                                   labels=actions_labels)\n",
    "    #g_loss = tf.reduce_mean(neg_log_prob_actions * targetQs) # error!\n",
    "    \n",
    "    # D\n",
    "    Qs = discriminator(actions=actions_logits, hidden_size=hidden_size, states=states)\n",
    "    d_loss = tf.reduce_mean(tf.square(Qs - targetQs))\n",
    "    g_loss = tf.reduce_mean(neg_log_prob_actions * Qs)\n",
    "    return actions_logits, Qs, g_loss, d_loss"
   ]
  },
  {
   "cell_type": "code",
   "execution_count": 90,
   "metadata": {},
   "outputs": [],
   "source": [
    "# Optimizating/training/learning G & D\n",
    "def model_opt(g_loss, d_loss, learning_rate):\n",
    "    # Get weights and bias to update\n",
    "    t_vars = tf.trainable_variables()\n",
    "    g_vars = [var for var in t_vars if var.name.startswith('generator')]\n",
    "    d_vars = [var for var in t_vars if var.name.startswith('discriminator')]\n",
    "\n",
    "    # Optimize\n",
    "    with tf.control_dependencies(tf.get_collection(tf.GraphKeys.UPDATE_OPS)): # Required for batchnorm (BN)\n",
    "        g_opt = tf.train.AdamOptimizer(learning_rate).minimize(g_loss, var_list=g_vars)\n",
    "        d_opt = tf.train.AdamOptimizer(learning_rate).minimize(d_loss, var_list=d_vars)\n",
    "\n",
    "    return g_opt, d_opt"
   ]
  },
  {
   "cell_type": "code",
   "execution_count": 91,
   "metadata": {},
   "outputs": [],
   "source": [
    "class Model:\n",
    "    def __init__(self, state_size, action_size, hidden_size, learning_rate):\n",
    "\n",
    "        # Data of the Model: make the data available inside the framework\n",
    "        self.states, self.actions, self.targetQs = model_input(state_size=state_size, action_size=action_size)\n",
    "\n",
    "        # Create the Model: calculating the loss and forwad pass\n",
    "        self.actions_logits, self.Qs_logits, self.g_loss, self.d_loss = model_loss(\n",
    "            action_size=action_size, hidden_size=hidden_size, # model init parameters\n",
    "            states=self.states, actions=self.actions, targetQs=self.targetQs) # model input\n",
    "        \n",
    "        # Update the model: backward pass and backprop\n",
    "        self.g_opt, self.d_opt = model_opt(g_loss=self.g_loss, d_loss=self.d_loss, learning_rate=learning_rate)"
   ]
  },
  {
   "cell_type": "code",
   "execution_count": 92,
   "metadata": {},
   "outputs": [],
   "source": [
    "from collections import deque\n",
    "class Memory():\n",
    "    def __init__(self, max_size = 1000):\n",
    "        self.buffer = deque(maxlen=max_size)"
   ]
  },
  {
   "cell_type": "markdown",
   "metadata": {},
   "source": [
    "## Hyperparameters\n",
    "\n",
    "One of the more difficult aspects of reinforcememt learning are the large number of hyperparameters. Not only are we tuning the network, but we're tuning the simulation."
   ]
  },
  {
   "cell_type": "code",
   "execution_count": 93,
   "metadata": {},
   "outputs": [
    {
     "name": "stdout",
     "output_type": "stream",
     "text": [
      "state size:(1111, 4) actions:(1111, 24)\n",
      "action size:4.42857583363851\n"
     ]
    }
   ],
   "source": [
    "print('state size:{}'.format(states.shape), \n",
    "      'actions:{}'.format(actions.shape)) \n",
    "print('action size:{}'.format(np.max(actions) - np.min(actions)+1))"
   ]
  },
  {
   "cell_type": "code",
   "execution_count": 94,
   "metadata": {},
   "outputs": [],
   "source": [
    "# Exploration parameters\n",
    "explore_start = 1.0            # exploration probability at start\n",
    "explore_stop = 0.01            # minimum exploration probability \n",
    "decay_rate = 0.0001            # exponential decay rate for exploration prob\n",
    "\n",
    "# Network parameters\n",
    "# state_size = 37\n",
    "# state_size_ = (84, 84, 3)\n",
    "state_size = 24\n",
    "action_size = 4\n",
    "hidden_size = 24*2             # number of units in each Q-network hidden layer\n",
    "learning_rate = 0.0001         # Q-network learning rate\n",
    "\n",
    "# Memory parameters\n",
    "gamma = 0.99                   # future reward discount\n",
    "memory_size = 1000            # memory capacity\n",
    "batch_size = 1000             # experience mini-batch size"
   ]
  },
  {
   "cell_type": "code",
   "execution_count": 95,
   "metadata": {},
   "outputs": [],
   "source": [
    "# Reset/init the graph/session\n",
    "graph = tf.reset_default_graph()\n",
    "\n",
    "# Init the model\n",
    "model = Model(action_size=action_size, state_size=state_size, hidden_size=hidden_size, learning_rate=learning_rate)\n",
    "\n",
    "# Init the memory\n",
    "memory = Memory(max_size=memory_size)"
   ]
  },
  {
   "cell_type": "code",
   "execution_count": 96,
   "metadata": {},
   "outputs": [],
   "source": [
    "state = env.reset()\n",
    "for _ in range(memory_size):\n",
    "    action = env.action_space.sample()\n",
    "    next_state, reward, done, _ = env.step(action)\n",
    "    memory.buffer.append([state, action, next_state, reward, float(done)])\n",
    "    state = next_state\n",
    "    if done is True:\n",
    "        state = env.reset()"
   ]
  },
  {
   "cell_type": "markdown",
   "metadata": {},
   "source": [
    "## Training the model\n",
    "\n",
    "Below we'll train our agent. If you want to watch it train, uncomment the `env.render()` line. This is slow because it's rendering the frames slower than the network can train. But, it's cool to watch the agent get better at the game."
   ]
  },
  {
   "cell_type": "code",
   "execution_count": null,
   "metadata": {},
   "outputs": [
    {
     "name": "stdout",
     "output_type": "stream",
     "text": [
      "INFO:tensorflow:Restoring parameters from checkpoints/model2.ckpt\n",
      "Episode:0 meanR:-88.2133 R:-88.2133 gloss:-389846.0938 dloss:9.9608 exploreP:0.9984\n",
      "Episode:1 meanR:-94.2325 R:-100.2517 gloss:-331404.3750 dloss:1.5237 exploreP:0.9984\n",
      "Episode:2 meanR:-96.4102 R:-100.7656 gloss:-363605.2812 dloss:23.7952 exploreP:0.9983\n",
      "Episode:3 meanR:-98.4605 R:-104.6115 gloss:-414799.5938 dloss:26.5658 exploreP:0.9982\n",
      "Episode:4 meanR:-99.4357 R:-103.3366 gloss:-595896.9375 dloss:31.7453 exploreP:0.9981\n",
      "Episode:5 meanR:-95.7094 R:-77.0776 gloss:-640706.3125 dloss:17.1744 exploreP:0.9965\n",
      "Episode:6 meanR:-92.8701 R:-75.8340 gloss:-336758.5312 dloss:1.4524 exploreP:0.9950\n",
      "Episode:7 meanR:-95.7288 R:-115.7404 gloss:-477331.0312 dloss:2.1073 exploreP:0.9949\n",
      "Episode:8 meanR:-97.1276 R:-108.3172 gloss:-729405.4375 dloss:11.9283 exploreP:0.9948\n",
      "Episode:9 meanR:-100.2295 R:-128.1474 gloss:-877467.3125 dloss:17.7400 exploreP:0.9947\n",
      "Episode:10 meanR:-101.9083 R:-118.6963 gloss:-976531.1875 dloss:33.2929 exploreP:0.9947\n",
      "Episode:11 meanR:-99.5132 R:-73.1665 gloss:-768818.3750 dloss:17.8939 exploreP:0.9931\n",
      "Episode:12 meanR:-99.6905 R:-101.8181 gloss:-419880.7500 dloss:0.8331 exploreP:0.9930\n",
      "Episode:13 meanR:-99.6955 R:-99.7601 gloss:-611205.0000 dloss:8.0825 exploreP:0.9929\n",
      "Episode:14 meanR:-100.9293 R:-118.2026 gloss:-805507.8750 dloss:14.9003 exploreP:0.9928\n",
      "Episode:15 meanR:-100.2360 R:-89.8367 gloss:-710389.1875 dloss:12.7541 exploreP:0.9913\n",
      "Episode:16 meanR:-99.6187 R:-89.7422 gloss:-415154.4688 dloss:8.9458 exploreP:0.9897\n",
      "Episode:17 meanR:-98.4540 R:-78.6545 gloss:-504566.9062 dloss:5.0423 exploreP:0.9881\n",
      "Episode:18 meanR:-98.8139 R:-105.2920 gloss:-496725.6250 dloss:2.0773 exploreP:0.9881\n",
      "Episode:19 meanR:-100.0204 R:-122.9429 gloss:-797110.3750 dloss:10.9021 exploreP:0.9880\n",
      "Episode:20 meanR:-100.4573 R:-109.1955 gloss:-962991.0000 dloss:22.7829 exploreP:0.9879\n",
      "Episode:21 meanR:-101.2762 R:-118.4729 gloss:-1087574.2500 dloss:22.7538 exploreP:0.9878\n",
      "Episode:22 meanR:-101.5436 R:-107.4264 gloss:-1219801.3750 dloss:31.5881 exploreP:0.9877\n",
      "Episode:23 meanR:-101.4538 R:-99.3892 gloss:-1379949.3750 dloss:36.8677 exploreP:0.9876\n",
      "Episode:24 meanR:-102.3254 R:-123.2428 gloss:-1513364.8750 dloss:42.5976 exploreP:0.9875\n",
      "Episode:25 meanR:-101.6383 R:-84.4607 gloss:-1109321.8750 dloss:21.4821 exploreP:0.9859\n",
      "Episode:26 meanR:-101.5690 R:-99.7691 gloss:-530156.0625 dloss:1.7020 exploreP:0.9859\n",
      "Episode:27 meanR:-102.3580 R:-123.6598 gloss:-791260.9375 dloss:8.5781 exploreP:0.9857\n",
      "Episode:28 meanR:-103.0668 R:-122.9134 gloss:-968900.6875 dloss:15.1148 exploreP:0.9856\n",
      "Episode:29 meanR:-103.0026 R:-101.1406 gloss:-1098496.8750 dloss:24.7555 exploreP:0.9855\n",
      "Episode:30 meanR:-103.4800 R:-117.8012 gloss:-1207423.5000 dloss:31.6388 exploreP:0.9854\n",
      "Episode:31 meanR:-102.7014 R:-78.5648 gloss:-1013041.1250 dloss:17.3075 exploreP:0.9839\n",
      "Episode:32 meanR:-101.7544 R:-71.4507 gloss:-430599.6875 dloss:0.7106 exploreP:0.9823\n",
      "Episode:33 meanR:-101.7117 R:-100.3028 gloss:-377737.5000 dloss:1.1699 exploreP:0.9822\n",
      "Episode:34 meanR:-101.3016 R:-87.3573 gloss:-546864.3750 dloss:5.7293 exploreP:0.9807\n",
      "Episode:35 meanR:-103.0900 R:-165.6848 gloss:-529076.5000 dloss:2.0496 exploreP:0.9799\n",
      "Episode:36 meanR:-102.3949 R:-77.3735 gloss:-685040.6250 dloss:8.4370 exploreP:0.9784\n",
      "Episode:37 meanR:-102.3331 R:-100.0446 gloss:-551883.8125 dloss:3.5763 exploreP:0.9783\n",
      "Episode:38 meanR:-102.6741 R:-115.6320 gloss:-654446.0000 dloss:11.2863 exploreP:0.9782\n",
      "Episode:39 meanR:-103.1649 R:-122.3059 gloss:-955036.8750 dloss:25.5533 exploreP:0.9781\n",
      "Episode:40 meanR:-103.0051 R:-96.6127 gloss:-1185201.1250 dloss:22.7499 exploreP:0.9780\n",
      "Episode:41 meanR:-103.6456 R:-129.9077 gloss:-1298448.7500 dloss:28.0499 exploreP:0.9779\n",
      "Episode:42 meanR:-103.5885 R:-101.1894 gloss:-1408521.7500 dloss:41.5720 exploreP:0.9778\n",
      "Episode:43 meanR:-103.2066 R:-86.7837 gloss:-1086549.0000 dloss:19.2059 exploreP:0.9763\n",
      "Episode:44 meanR:-103.5864 R:-120.2989 gloss:-643119.8125 dloss:1.1680 exploreP:0.9762\n",
      "Episode:45 meanR:-103.8755 R:-116.8872 gloss:-969494.5625 dloss:17.7759 exploreP:0.9761\n",
      "Episode:46 meanR:-103.5191 R:-87.1231 gloss:-953391.0625 dloss:11.5547 exploreP:0.9745\n",
      "Episode:47 meanR:-103.4536 R:-100.3725 gloss:-639969.8125 dloss:2.3899 exploreP:0.9744\n",
      "Episode:48 meanR:-103.3653 R:-99.1284 gloss:-902813.1875 dloss:24.8821 exploreP:0.9743\n",
      "Episode:49 meanR:-103.2717 R:-98.6883 gloss:-1042950.4375 dloss:17.1852 exploreP:0.9743\n",
      "Episode:50 meanR:-103.5536 R:-117.6480 gloss:-1250387.1250 dloss:21.9658 exploreP:0.9741\n",
      "Episode:51 meanR:-103.5036 R:-100.9514 gloss:-1415741.1250 dloss:40.5616 exploreP:0.9740\n",
      "Episode:52 meanR:-103.4824 R:-102.3799 gloss:-1555712.5000 dloss:38.4733 exploreP:0.9740\n",
      "Episode:53 meanR:-103.3750 R:-97.6852 gloss:-1693538.6250 dloss:43.8179 exploreP:0.9739\n",
      "Episode:54 meanR:-103.5934 R:-115.3832 gloss:-1833011.7500 dloss:62.3279 exploreP:0.9738\n",
      "Episode:55 meanR:-103.9468 R:-123.3874 gloss:-1962579.1250 dloss:47.4192 exploreP:0.9737\n",
      "Episode:56 meanR:-103.4531 R:-75.8030 gloss:-1275156.8750 dloss:28.0325 exploreP:0.9722\n",
      "Episode:57 meanR:-103.6521 R:-114.9968 gloss:-673239.3750 dloss:1.6176 exploreP:0.9721\n",
      "Episode:58 meanR:-103.2269 R:-78.5626 gloss:-808709.7500 dloss:5.1336 exploreP:0.9706\n",
      "Episode:59 meanR:-103.3346 R:-109.6891 gloss:-617513.5000 dloss:4.0680 exploreP:0.9705\n",
      "Episode:60 meanR:-103.5737 R:-117.9218 gloss:-992474.3750 dloss:13.2302 exploreP:0.9705\n",
      "Episode:61 meanR:-103.6148 R:-106.1228 gloss:-1209045.0000 dloss:46.3296 exploreP:0.9704\n",
      "Episode:62 meanR:-103.5572 R:-99.9848 gloss:-1383444.8750 dloss:20.8702 exploreP:0.9703\n",
      "Episode:63 meanR:-103.7573 R:-116.3633 gloss:-1537003.3750 dloss:26.7442 exploreP:0.9702\n",
      "Episode:64 meanR:-103.7528 R:-103.4639 gloss:-1677793.0000 dloss:39.6212 exploreP:0.9701\n",
      "Episode:65 meanR:-103.6675 R:-98.1216 gloss:-1886683.1250 dloss:56.8227 exploreP:0.9700\n",
      "Episode:66 meanR:-103.6082 R:-99.6986 gloss:-1829298.3750 dloss:47.8663 exploreP:0.9699\n",
      "Episode:67 meanR:-103.7515 R:-113.3518 gloss:-1916890.5000 dloss:50.8454 exploreP:0.9699\n",
      "Episode:68 meanR:-103.7228 R:-101.7734 gloss:-2096713.7500 dloss:86.7740 exploreP:0.9698\n",
      "Episode:69 meanR:-103.6572 R:-99.1302 gloss:-2334676.0000 dloss:60.1432 exploreP:0.9697\n",
      "Episode:70 meanR:-103.4189 R:-86.7326 gloss:-1265718.2500 dloss:28.1886 exploreP:0.9682\n",
      "Episode:71 meanR:-103.3909 R:-101.4096 gloss:-647569.6875 dloss:40.8012 exploreP:0.9681\n",
      "Episode:72 meanR:-103.0813 R:-80.7879 gloss:-735130.3125 dloss:14.4107 exploreP:0.9666\n",
      "Episode:73 meanR:-103.0795 R:-102.9487 gloss:-425255.1875 dloss:8.2322 exploreP:0.9665\n",
      "Episode:74 meanR:-103.0749 R:-102.7359 gloss:-714292.0625 dloss:20.9486 exploreP:0.9665\n",
      "Episode:75 meanR:-103.0421 R:-100.5807 gloss:-914055.4375 dloss:28.9402 exploreP:0.9664\n",
      "Episode:76 meanR:-103.2392 R:-118.2137 gloss:-1129940.0000 dloss:27.8782 exploreP:0.9663\n",
      "Episode:77 meanR:-103.1847 R:-98.9938 gloss:-1346286.8750 dloss:30.3100 exploreP:0.9663\n",
      "Episode:78 meanR:-103.4297 R:-122.5404 gloss:-1416137.8750 dloss:74.3716 exploreP:0.9662\n",
      "Episode:79 meanR:-103.5639 R:-114.1661 gloss:-1535036.8750 dloss:52.7233 exploreP:0.9661\n",
      "Episode:80 meanR:-103.5182 R:-99.8596 gloss:-1618874.2500 dloss:59.4350 exploreP:0.9660\n",
      "Episode:81 meanR:-103.6821 R:-116.9559 gloss:-1693424.0000 dloss:94.5476 exploreP:0.9660\n",
      "Episode:82 meanR:-103.4408 R:-83.6537 gloss:-1139436.0000 dloss:26.9775 exploreP:0.9644\n",
      "Episode:83 meanR:-103.1343 R:-77.6955 gloss:-455846.9062 dloss:1.7187 exploreP:0.9629\n",
      "Episode:84 meanR:-103.0763 R:-98.2041 gloss:-389195.2812 dloss:2.0762 exploreP:0.9628\n",
      "Episode:85 meanR:-103.2445 R:-117.5425 gloss:-668841.6250 dloss:15.0990 exploreP:0.9627\n",
      "Episode:86 meanR:-103.3437 R:-111.8764 gloss:-941869.8125 dloss:28.2572 exploreP:0.9627\n",
      "Episode:87 meanR:-103.1113 R:-82.8897 gloss:-858104.3125 dloss:13.9065 exploreP:0.9611\n",
      "Episode:88 meanR:-102.8691 R:-81.5576 gloss:-483508.8438 dloss:5.5332 exploreP:0.9596\n",
      "Episode:89 meanR:-102.7319 R:-90.5187 gloss:-467205.5312 dloss:4.9590 exploreP:0.9581\n",
      "Episode:90 meanR:-102.5119 R:-82.7155 gloss:-509079.1562 dloss:8.7793 exploreP:0.9566\n",
      "Episode:91 meanR:-102.6454 R:-114.7941 gloss:-664657.1250 dloss:36.6182 exploreP:0.9565\n",
      "Episode:92 meanR:-102.6553 R:-103.5655 gloss:-937074.1875 dloss:14.1129 exploreP:0.9564\n"
     ]
    },
    {
     "name": "stdout",
     "output_type": "stream",
     "text": [
      "Episode:93 meanR:-102.4584 R:-84.1474 gloss:-1017349.4375 dloss:18.9019 exploreP:0.9549\n",
      "Episode:94 meanR:-102.6443 R:-120.1133 gloss:-693027.7500 dloss:7.8274 exploreP:0.9548\n",
      "Episode:95 meanR:-102.7346 R:-111.3153 gloss:-1011729.6875 dloss:17.5739 exploreP:0.9548\n",
      "Episode:96 meanR:-102.6191 R:-91.5311 gloss:-957103.0625 dloss:10.1482 exploreP:0.9533\n",
      "Episode:97 meanR:-102.7295 R:-113.4418 gloss:-652215.6875 dloss:2.3589 exploreP:0.9532\n",
      "Episode:98 meanR:-102.7408 R:-103.8508 gloss:-976273.6875 dloss:19.7690 exploreP:0.9531\n",
      "Episode:99 meanR:-102.5701 R:-85.6703 gloss:-835633.1250 dloss:12.5485 exploreP:0.9516\n",
      "Episode:100 meanR:-102.5863 R:-89.8270 gloss:-561155.7500 dloss:2.0234 exploreP:0.9501\n",
      "Episode:101 meanR:-102.5837 R:-99.9968 gloss:-541385.5000 dloss:15.6648 exploreP:0.9500\n",
      "Episode:102 meanR:-102.3974 R:-82.1363 gloss:-703626.5000 dloss:9.4716 exploreP:0.9485\n",
      "Episode:103 meanR:-102.5384 R:-118.7096 gloss:-533902.7500 dloss:31.7762 exploreP:0.9485\n",
      "Episode:104 meanR:-102.5544 R:-104.9375 gloss:-871861.3125 dloss:34.2749 exploreP:0.9484\n",
      "Episode:105 meanR:-102.6046 R:-82.0957 gloss:-857017.5000 dloss:14.1939 exploreP:0.9469\n",
      "Episode:106 meanR:-102.8472 R:-100.0904 gloss:-496821.3438 dloss:1.0711 exploreP:0.9468\n",
      "Episode:107 meanR:-102.5731 R:-88.3342 gloss:-721922.6250 dloss:7.3110 exploreP:0.9453\n",
      "Episode:108 meanR:-102.5848 R:-109.4903 gloss:-633655.4375 dloss:23.2650 exploreP:0.9453\n",
      "Episode:109 meanR:-102.2621 R:-95.8778 gloss:-780247.3750 dloss:9.1390 exploreP:0.9438\n",
      "Episode:110 meanR:-102.2458 R:-117.0576 gloss:-602566.8125 dloss:0.8145 exploreP:0.9437\n",
      "Episode:111 meanR:-102.5941 R:-107.9968 gloss:-790439.0625 dloss:13.6891 exploreP:0.9422\n",
      "Episode:112 meanR:-102.4988 R:-92.2938 gloss:-662326.5625 dloss:11.0750 exploreP:0.9407\n",
      "Episode:113 meanR:-102.4735 R:-97.2247 gloss:-671642.2500 dloss:8.6386 exploreP:0.9392\n",
      "Episode:114 meanR:-102.2838 R:-99.2413 gloss:-551332.3125 dloss:42.5602 exploreP:0.9392\n",
      "Episode:115 meanR:-102.4824 R:-109.6919 gloss:-1050376.5000 dloss:109.7607 exploreP:0.9391\n",
      "Episode:116 meanR:-102.5827 R:-99.7759 gloss:-908980.8750 dloss:19.2097 exploreP:0.9376\n",
      "Episode:117 meanR:-102.6818 R:-88.5627 gloss:-626737.1875 dloss:15.4965 exploreP:0.9362\n",
      "Episode:118 meanR:-102.7185 R:-108.9624 gloss:-608171.5625 dloss:2.1627 exploreP:0.9361\n",
      "Episode:119 meanR:-102.5073 R:-101.8198 gloss:-929010.3750 dloss:11.9417 exploreP:0.9360\n",
      "Episode:120 meanR:-102.3320 R:-91.6674 gloss:-942322.5625 dloss:11.8104 exploreP:0.9345\n",
      "Episode:121 meanR:-102.1485 R:-100.1261 gloss:-625707.8125 dloss:15.7351 exploreP:0.9330\n",
      "Episode:122 meanR:-102.0375 R:-96.3256 gloss:-603254.0625 dloss:28.1926 exploreP:0.9316\n",
      "Episode:123 meanR:-102.0462 R:-100.2520 gloss:-627963.6875 dloss:65.1219 exploreP:0.9315\n",
      "Episode:124 meanR:-101.8261 R:-101.2339 gloss:-925611.8125 dloss:12.5145 exploreP:0.9314\n",
      "Episode:125 meanR:-102.1491 R:-116.7601 gloss:-1216161.5000 dloss:81.8816 exploreP:0.9314\n",
      "Episode:126 meanR:-102.1359 R:-98.4568 gloss:-1197611.6250 dloss:23.6072 exploreP:0.9299\n",
      "Episode:127 meanR:-102.5795 R:-168.0139 gloss:-761589.3750 dloss:14.0416 exploreP:0.9293\n",
      "Episode:128 meanR:-102.4982 R:-114.7823 gloss:-907488.9375 dloss:89.1375 exploreP:0.9292\n",
      "Episode:129 meanR:-102.4732 R:-98.6474 gloss:-1129754.3750 dloss:57.0724 exploreP:0.9292\n",
      "Episode:130 meanR:-102.4918 R:-119.6536 gloss:-1248535.8750 dloss:71.7968 exploreP:0.9291\n",
      "Episode:131 meanR:-102.7574 R:-105.1262 gloss:-1308842.3750 dloss:126.1901 exploreP:0.9291\n",
      "Episode:132 meanR:-103.0451 R:-100.2257 gloss:-1402179.7500 dloss:92.5403 exploreP:0.9290\n",
      "Episode:133 meanR:-103.0735 R:-103.1366 gloss:-1541380.6250 dloss:64.2615 exploreP:0.9289\n",
      "Episode:134 meanR:-103.1984 R:-99.8486 gloss:-1814197.7500 dloss:148.4705 exploreP:0.9289\n",
      "Episode:135 meanR:-102.4585 R:-91.6966 gloss:-1353488.5000 dloss:31.7412 exploreP:0.9274\n",
      "Episode:136 meanR:-102.7131 R:-102.8337 gloss:-788716.1875 dloss:6.7996 exploreP:0.9273\n",
      "Episode:137 meanR:-102.7870 R:-107.4306 gloss:-984508.0000 dloss:21.7822 exploreP:0.9259\n",
      "Episode:138 meanR:-102.7260 R:-109.5362 gloss:-788783.6875 dloss:3.4612 exploreP:0.9244\n",
      "Episode:139 meanR:-102.5109 R:-100.7983 gloss:-717042.4375 dloss:43.0034 exploreP:0.9243\n",
      "Episode:140 meanR:-103.2411 R:-169.6337 gloss:-1057536.7500 dloss:37.7145 exploreP:0.9236\n",
      "Episode:141 meanR:-103.1134 R:-117.1340 gloss:-1260604.5000 dloss:14.3951 exploreP:0.9235\n",
      "Episode:142 meanR:-103.1433 R:-104.1830 gloss:-1069153.7500 dloss:21.5163 exploreP:0.9221\n",
      "Episode:143 meanR:-103.2774 R:-100.1902 gloss:-715334.1250 dloss:1.9023 exploreP:0.9220\n",
      "Episode:144 meanR:-103.0671 R:-99.2727 gloss:-963416.6875 dloss:8.8446 exploreP:0.9219\n",
      "Episode:145 meanR:-102.9262 R:-102.7963 gloss:-1234831.2500 dloss:199.8618 exploreP:0.9218\n",
      "Episode:146 meanR:-102.9810 R:-92.6015 gloss:-1108863.2500 dloss:16.6872 exploreP:0.9204\n",
      "Episode:147 meanR:-103.0230 R:-104.5714 gloss:-652592.8125 dloss:12.5946 exploreP:0.9189\n",
      "Episode:148 meanR:-103.0373 R:-100.5542 gloss:-677545.5625 dloss:1.7280 exploreP:0.9189\n",
      "Episode:149 meanR:-103.0187 R:-96.8305 gloss:-848066.5000 dloss:14.3523 exploreP:0.9174\n",
      "Episode:150 meanR:-102.8403 R:-99.8080 gloss:-647179.1250 dloss:1.2466 exploreP:0.9173\n",
      "Episode:151 meanR:-102.8293 R:-99.8507 gloss:-957196.6875 dloss:65.0709 exploreP:0.9172\n",
      "Episode:152 meanR:-102.8089 R:-100.3427 gloss:-1210378.3750 dloss:89.8471 exploreP:0.9172\n",
      "Episode:153 meanR:-102.9567 R:-112.4692 gloss:-1279568.8750 dloss:118.4019 exploreP:0.9171\n",
      "Episode:154 meanR:-102.8393 R:-103.6415 gloss:-1505979.1250 dloss:95.9593 exploreP:0.9170\n",
      "Episode:155 meanR:-102.6339 R:-102.8457 gloss:-1502590.1250 dloss:172.4908 exploreP:0.9170\n",
      "Episode:156 meanR:-102.8699 R:-99.4034 gloss:-1572706.2500 dloss:41.1383 exploreP:0.9169\n",
      "Episode:157 meanR:-102.7106 R:-99.0689 gloss:-1674413.1250 dloss:288.6531 exploreP:0.9169\n",
      "Episode:158 meanR:-102.9312 R:-100.6148 gloss:-1792349.2500 dloss:49.6642 exploreP:0.9168\n",
      "Episode:159 meanR:-102.8815 R:-104.7248 gloss:-1860985.2500 dloss:92.7099 exploreP:0.9167\n",
      "Episode:160 meanR:-102.7402 R:-103.7888 gloss:-1946915.1250 dloss:57.5935 exploreP:0.9166\n",
      "Episode:161 meanR:-102.7079 R:-102.8898 gloss:-2010746.0000 dloss:96.9873 exploreP:0.9166\n",
      "Episode:162 meanR:-102.7169 R:-100.8894 gloss:-1234592.6250 dloss:50.7408 exploreP:0.9151\n",
      "Episode:163 meanR:-102.5324 R:-97.9094 gloss:-782394.9375 dloss:9.4402 exploreP:0.9150\n",
      "Episode:164 meanR:-102.4965 R:-99.8806 gloss:-718195.2500 dloss:15.6827 exploreP:0.9150\n",
      "Episode:165 meanR:-102.5311 R:-101.5819 gloss:-895588.5000 dloss:39.9938 exploreP:0.9149\n",
      "Episode:166 meanR:-102.5376 R:-100.3488 gloss:-1038295.6250 dloss:47.3055 exploreP:0.9148\n",
      "Episode:167 meanR:-102.3486 R:-94.4514 gloss:-960913.7500 dloss:17.4928 exploreP:0.9134\n",
      "Episode:168 meanR:-102.3779 R:-104.6966 gloss:-608140.3750 dloss:5.3687 exploreP:0.9133\n",
      "Episode:169 meanR:-102.3710 R:-98.4417 gloss:-805609.0000 dloss:9.5512 exploreP:0.9132\n",
      "Episode:170 meanR:-102.6017 R:-109.8060 gloss:-997295.3125 dloss:131.4809 exploreP:0.9132\n",
      "Episode:171 meanR:-102.5740 R:-98.6343 gloss:-1173823.1250 dloss:23.8974 exploreP:0.9131\n",
      "Episode:172 meanR:-102.9610 R:-119.4889 gloss:-1273187.8750 dloss:50.6669 exploreP:0.9131\n",
      "Episode:173 meanR:-102.7977 R:-86.6213 gloss:-905085.7500 dloss:21.2718 exploreP:0.9116\n",
      "Episode:174 meanR:-102.7453 R:-97.4970 gloss:-487013.8125 dloss:2.3054 exploreP:0.9116\n",
      "Episode:175 meanR:-102.6930 R:-95.3483 gloss:-619635.5000 dloss:8.7619 exploreP:0.9101\n",
      "Episode:176 meanR:-102.6537 R:-114.2831 gloss:-641046.3750 dloss:63.4602 exploreP:0.9101\n",
      "Episode:177 meanR:-102.6693 R:-100.5602 gloss:-883870.1875 dloss:62.5604 exploreP:0.9100\n",
      "Episode:178 meanR:-102.4055 R:-96.1563 gloss:-986009.9375 dloss:20.2378 exploreP:0.9099\n",
      "Episode:179 meanR:-102.4995 R:-123.5655 gloss:-1072235.3750 dloss:81.1814 exploreP:0.9099\n",
      "Episode:180 meanR:-102.5000 R:-99.9121 gloss:-1144330.8750 dloss:70.8151 exploreP:0.9097\n",
      "Episode:181 meanR:-102.6460 R:-131.5572 gloss:-1283168.6250 dloss:42.1440 exploreP:0.9095\n",
      "Episode:182 meanR:-103.0208 R:-121.1257 gloss:-1363998.8750 dloss:236.8878 exploreP:0.9095\n",
      "Episode:183 meanR:-103.2100 R:-96.6158 gloss:-955149.9375 dloss:17.6090 exploreP:0.9080\n",
      "Episode:184 meanR:-103.2274 R:-99.9522 gloss:-579278.0000 dloss:1.6529 exploreP:0.9080\n",
      "Episode:185 meanR:-103.0686 R:-101.6607 gloss:-781675.3750 dloss:27.4543 exploreP:0.9079\n"
     ]
    },
    {
     "name": "stdout",
     "output_type": "stream",
     "text": [
      "Episode:186 meanR:-102.9492 R:-99.9304 gloss:-933117.4375 dloss:45.8053 exploreP:0.9079\n",
      "Episode:187 meanR:-103.0937 R:-97.3455 gloss:-1131799.2500 dloss:321.7954 exploreP:0.9078\n",
      "Episode:188 meanR:-103.3452 R:-106.7061 gloss:-1259506.5000 dloss:26.2662 exploreP:0.9077\n",
      "Episode:189 meanR:-103.4513 R:-101.1320 gloss:-1305399.6250 dloss:29.4824 exploreP:0.9076\n",
      "Episode:190 meanR:-103.5926 R:-96.8395 gloss:-1089398.3750 dloss:101.3902 exploreP:0.9061\n",
      "Episode:191 meanR:-103.6992 R:-125.4555 gloss:-544012.5625 dloss:3.6129 exploreP:0.9060\n",
      "Episode:192 meanR:-103.6942 R:-103.0622 gloss:-749745.2500 dloss:10.3790 exploreP:0.9060\n",
      "Episode:193 meanR:-103.8254 R:-97.2689 gloss:-914639.1875 dloss:18.1007 exploreP:0.9059\n",
      "Episode:194 meanR:-103.6034 R:-97.9153 gloss:-973219.6875 dloss:25.3398 exploreP:0.9058\n",
      "Episode:195 meanR:-103.4937 R:-100.3508 gloss:-1033338.5000 dloss:28.3195 exploreP:0.9057\n",
      "Episode:196 meanR:-103.5945 R:-101.6086 gloss:-1096971.7500 dloss:36.6706 exploreP:0.9056\n",
      "Episode:197 meanR:-103.4683 R:-100.8211 gloss:-1179530.6250 dloss:44.3263 exploreP:0.9055\n",
      "Episode:198 meanR:-103.6311 R:-120.1305 gloss:-1242012.8750 dloss:49.8757 exploreP:0.9055\n",
      "Episode:199 meanR:-103.6150 R:-84.0542 gloss:-811706.6250 dloss:25.0045 exploreP:0.9040\n",
      "Episode:200 meanR:-103.6506 R:-93.3900 gloss:-403801.6875 dloss:0.5293 exploreP:0.9026\n",
      "Episode:201 meanR:-103.6862 R:-103.5589 gloss:-441427.0625 dloss:0.6800 exploreP:0.9026\n",
      "Episode:202 meanR:-104.0770 R:-121.2199 gloss:-683085.9375 dloss:9.2846 exploreP:0.9025\n",
      "Episode:203 meanR:-103.9001 R:-101.0189 gloss:-837271.6250 dloss:15.8712 exploreP:0.9024\n",
      "Episode:204 meanR:-103.8505 R:-99.9748 gloss:-942892.1875 dloss:26.7796 exploreP:0.9023\n",
      "Episode:205 meanR:-104.0514 R:-102.1852 gloss:-1012488.8125 dloss:30.5119 exploreP:0.9023\n",
      "Episode:206 meanR:-104.0573 R:-100.6771 gloss:-1111358.7500 dloss:44.0126 exploreP:0.9022\n",
      "Episode:207 meanR:-104.3577 R:-118.3801 gloss:-1195880.7500 dloss:42.6605 exploreP:0.9021\n",
      "Episode:208 meanR:-104.4267 R:-116.3878 gloss:-1243034.3750 dloss:58.2644 exploreP:0.9021\n",
      "Episode:209 meanR:-104.4844 R:-101.6457 gloss:-1282973.2500 dloss:54.3409 exploreP:0.9020\n",
      "Episode:210 meanR:-104.4514 R:-113.7606 gloss:-1236007.7500 dloss:80.1100 exploreP:0.9020\n",
      "Episode:211 meanR:-104.1867 R:-81.5250 gloss:-888606.3125 dloss:31.5786 exploreP:0.9005\n",
      "Episode:212 meanR:-104.4168 R:-115.3082 gloss:-379366.8750 dloss:0.5739 exploreP:0.9005\n",
      "Episode:213 meanR:-104.6533 R:-120.8724 gloss:-616445.1250 dloss:9.2886 exploreP:0.9004\n",
      "Episode:214 meanR:-104.5453 R:-88.4371 gloss:-627081.6875 dloss:10.1370 exploreP:0.8990\n",
      "Episode:215 meanR:-104.2806 R:-83.2216 gloss:-544393.2500 dloss:5.0753 exploreP:0.8976\n",
      "Episode:216 meanR:-104.4594 R:-117.6626 gloss:-650653.1875 dloss:2.7541 exploreP:0.8974\n",
      "Episode:217 meanR:-104.7884 R:-121.4595 gloss:-1028276.0625 dloss:13.9285 exploreP:0.8974\n",
      "Episode:218 meanR:-104.8428 R:-114.4001 gloss:-1201283.0000 dloss:50.6583 exploreP:0.8973\n",
      "Episode:219 meanR:-104.8843 R:-105.9680 gloss:-1285410.0000 dloss:20.2790 exploreP:0.8972\n",
      "Episode:220 meanR:-104.8582 R:-89.0606 gloss:-1065084.6250 dloss:15.5972 exploreP:0.8958\n",
      "Episode:221 meanR:-105.0926 R:-123.5674 gloss:-718479.6875 dloss:2.2701 exploreP:0.8957\n",
      "Episode:222 meanR:-105.1600 R:-103.0660 gloss:-920525.4375 dloss:10.4515 exploreP:0.8956\n",
      "Episode:223 meanR:-105.2943 R:-113.6810 gloss:-1070261.0000 dloss:36.3138 exploreP:0.8955\n",
      "Episode:224 meanR:-105.5014 R:-121.9396 gloss:-1288164.5000 dloss:47.9470 exploreP:0.8955\n",
      "Episode:225 meanR:-105.1888 R:-85.5058 gloss:-1093440.1250 dloss:16.9915 exploreP:0.8941\n",
      "Episode:226 meanR:-105.0020 R:-79.7763 gloss:-599222.1875 dloss:2.1965 exploreP:0.8927\n",
      "Episode:227 meanR:-104.1664 R:-84.4512 gloss:-557286.0000 dloss:3.8819 exploreP:0.8912\n",
      "Episode:228 meanR:-104.0974 R:-107.8836 gloss:-483906.8750 dloss:1.5216 exploreP:0.8912\n",
      "Episode:229 meanR:-104.1037 R:-99.2747 gloss:-696638.0000 dloss:19.8960 exploreP:0.8911\n",
      "Episode:230 meanR:-104.0838 R:-117.6659 gloss:-828308.5000 dloss:23.7204 exploreP:0.8910\n",
      "Episode:231 meanR:-104.0903 R:-105.7793 gloss:-921691.8125 dloss:40.8527 exploreP:0.8910\n",
      "Episode:232 meanR:-103.8993 R:-81.1194 gloss:-899654.0000 dloss:17.0567 exploreP:0.8896\n",
      "Episode:233 meanR:-103.9687 R:-110.0814 gloss:-599957.4375 dloss:93.9968 exploreP:0.8895\n",
      "Episode:234 meanR:-103.7799 R:-80.9663 gloss:-669385.6250 dloss:5.2985 exploreP:0.8881\n",
      "Episode:235 meanR:-103.7533 R:-89.0421 gloss:-455115.5938 dloss:1.1927 exploreP:0.8867\n",
      "Episode:236 meanR:-103.5901 R:-86.5057 gloss:-416707.5312 dloss:2.1663 exploreP:0.8853\n",
      "Episode:237 meanR:-103.3409 R:-82.5180 gloss:-391944.4062 dloss:1.2161 exploreP:0.8839\n",
      "Episode:238 meanR:-103.2875 R:-104.1887 gloss:-345542.9688 dloss:15.8413 exploreP:0.8838\n",
      "Episode:239 meanR:-103.0994 R:-81.9897 gloss:-504995.4375 dloss:6.9511 exploreP:0.8824\n",
      "Episode:240 meanR:-102.3064 R:-90.3325 gloss:-346802.1562 dloss:2.3551 exploreP:0.8810\n",
      "Episode:241 meanR:-101.9520 R:-81.6975 gloss:-283230.2188 dloss:1.3210 exploreP:0.8796\n",
      "Episode:242 meanR:-101.7395 R:-82.9339 gloss:-289818.8438 dloss:1.9408 exploreP:0.8783\n",
      "Episode:243 meanR:-101.8664 R:-112.8839 gloss:-283691.3125 dloss:4.9629 exploreP:0.8781\n",
      "Episode:244 meanR:-101.9000 R:-102.6285 gloss:-469856.2500 dloss:15.6215 exploreP:0.8780\n",
      "Episode:245 meanR:-101.8568 R:-98.4747 gloss:-578751.7500 dloss:18.2331 exploreP:0.8766\n",
      "Episode:246 meanR:-101.9518 R:-102.1058 gloss:-360545.4375 dloss:0.5981 exploreP:0.8766\n",
      "Episode:247 meanR:-101.9650 R:-105.8849 gloss:-498736.1875 dloss:7.4735 exploreP:0.8752\n",
      "Episode:248 meanR:-101.9843 R:-102.4935 gloss:-384446.7188 dloss:0.5466 exploreP:0.8752\n",
      "Episode:249 meanR:-102.2013 R:-118.5246 gloss:-513752.7188 dloss:7.4687 exploreP:0.8738\n",
      "Episode:250 meanR:-102.3295 R:-112.6280 gloss:-422031.8438 dloss:4.6883 exploreP:0.8724\n",
      "Episode:251 meanR:-103.2296 R:-189.8639 gloss:-292635.8438 dloss:5.5528 exploreP:0.8715\n",
      "Episode:252 meanR:-103.2635 R:-103.7307 gloss:-422878.5625 dloss:9.7538 exploreP:0.8714\n",
      "Episode:253 meanR:-103.3330 R:-119.4178 gloss:-499793.8125 dloss:21.0333 exploreP:0.8713\n",
      "Episode:254 meanR:-103.3345 R:-103.7964 gloss:-585216.5625 dloss:37.4470 exploreP:0.8713\n",
      "Episode:255 meanR:-103.3433 R:-103.7182 gloss:-661058.5625 dloss:31.4199 exploreP:0.8712\n",
      "Episode:256 meanR:-103.3608 R:-101.1562 gloss:-723147.5000 dloss:55.7010 exploreP:0.8711\n",
      "Episode:257 meanR:-103.3542 R:-98.4057 gloss:-717908.6250 dloss:48.7207 exploreP:0.8711\n",
      "Episode:258 meanR:-103.5707 R:-122.2650 gloss:-775125.8125 dloss:55.6843 exploreP:0.8710\n",
      "Episode:259 meanR:-103.7462 R:-122.2828 gloss:-794784.0625 dloss:82.7084 exploreP:0.8709\n",
      "Episode:260 meanR:-103.7251 R:-101.6719 gloss:-841714.3125 dloss:59.0098 exploreP:0.8709\n",
      "Episode:261 meanR:-103.7456 R:-104.9430 gloss:-861207.6875 dloss:70.3082 exploreP:0.8708\n",
      "Episode:262 meanR:-103.7655 R:-102.8769 gloss:-908067.7500 dloss:75.6488 exploreP:0.8707\n",
      "Episode:263 meanR:-103.7665 R:-98.0111 gloss:-727094.5625 dloss:57.3873 exploreP:0.8694\n",
      "Episode:264 meanR:-103.7183 R:-95.0623 gloss:-310880.9375 dloss:0.4557 exploreP:0.8680\n",
      "Episode:265 meanR:-103.8494 R:-114.6882 gloss:-364813.2812 dloss:1.0112 exploreP:0.8666\n",
      "Episode:266 meanR:-103.9437 R:-109.7842 gloss:-366527.5312 dloss:0.6976 exploreP:0.8652\n",
      "Episode:267 meanR:-104.0715 R:-107.2240 gloss:-367297.7500 dloss:3.1847 exploreP:0.8639\n",
      "Episode:268 meanR:-104.0377 R:-101.3221 gloss:-334440.2188 dloss:1.4993 exploreP:0.8638\n",
      "Episode:269 meanR:-104.2262 R:-117.2904 gloss:-430390.8750 dloss:6.1817 exploreP:0.8625\n",
      "Episode:270 meanR:-104.1680 R:-103.9839 gloss:-314853.1562 dloss:0.3978 exploreP:0.8624\n",
      "Episode:271 meanR:-104.3468 R:-116.5180 gloss:-530317.5625 dloss:8.4351 exploreP:0.8623\n",
      "Episode:272 meanR:-104.2743 R:-112.2390 gloss:-507495.0312 dloss:11.2718 exploreP:0.8610\n",
      "Episode:273 meanR:-104.5091 R:-110.0989 gloss:-287202.5000 dloss:0.6997 exploreP:0.8609\n",
      "Episode:274 meanR:-104.6337 R:-109.9561 gloss:-433792.7188 dloss:7.4863 exploreP:0.8595\n",
      "Episode:275 meanR:-104.7178 R:-103.7604 gloss:-320655.0938 dloss:0.8481 exploreP:0.8594\n",
      "Episode:276 meanR:-104.6831 R:-110.8085 gloss:-454855.0938 dloss:5.8799 exploreP:0.8581\n",
      "Episode:277 meanR:-104.9248 R:-124.7322 gloss:-334096.1250 dloss:0.9868 exploreP:0.8567\n",
      "Episode:278 meanR:-106.2254 R:-226.2240 gloss:-385065.5625 dloss:2.3226 exploreP:0.8554\n"
     ]
    },
    {
     "name": "stdout",
     "output_type": "stream",
     "text": [
      "Episode:279 meanR:-106.1719 R:-118.2072 gloss:-484461.8438 dloss:5.2548 exploreP:0.8541\n",
      "Episode:280 meanR:-106.1964 R:-102.3698 gloss:-345806.5312 dloss:12.3780 exploreP:0.8540\n",
      "Episode:281 meanR:-106.0191 R:-113.8256 gloss:-457761.6250 dloss:5.3901 exploreP:0.8526\n",
      "Episode:282 meanR:-105.8253 R:-101.7458 gloss:-337758.2188 dloss:2.4177 exploreP:0.8526\n",
      "Episode:283 meanR:-106.0205 R:-116.1290 gloss:-454003.5312 dloss:5.8978 exploreP:0.8512\n",
      "Episode:284 meanR:-106.1280 R:-110.7026 gloss:-297739.2500 dloss:0.6259 exploreP:0.8499\n",
      "Episode:285 meanR:-106.9296 R:-181.8283 gloss:-299329.3438 dloss:3.2533 exploreP:0.8490\n",
      "Episode:286 meanR:-107.0737 R:-114.3363 gloss:-425992.8125 dloss:5.4201 exploreP:0.8477\n",
      "Episode:287 meanR:-107.2193 R:-111.9102 gloss:-289395.1250 dloss:1.5252 exploreP:0.8464\n",
      "Episode:288 meanR:-108.2681 R:-211.5770 gloss:-293778.0938 dloss:1.3453 exploreP:0.8452\n",
      "Episode:289 meanR:-108.4786 R:-122.1840 gloss:-459276.4062 dloss:5.1847 exploreP:0.8439\n",
      "Episode:290 meanR:-108.5492 R:-103.9063 gloss:-353535.4062 dloss:2.7399 exploreP:0.8438\n",
      "Episode:291 meanR:-109.3903 R:-209.5626 gloss:-425627.7500 dloss:7.1100 exploreP:0.8427\n",
      "Episode:292 meanR:-109.5768 R:-121.7143 gloss:-452559.9062 dloss:5.3475 exploreP:0.8413\n",
      "Episode:293 meanR:-109.7303 R:-112.6197 gloss:-340984.2812 dloss:0.9087 exploreP:0.8400\n",
      "Episode:294 meanR:-109.9067 R:-115.5487 gloss:-330485.3750 dloss:0.8252 exploreP:0.8387\n",
      "Episode:295 meanR:-110.6194 R:-171.6265 gloss:-292249.2500 dloss:0.7950 exploreP:0.8381\n",
      "Episode:296 meanR:-111.5821 R:-197.8738 gloss:-490732.5312 dloss:8.0738 exploreP:0.8371\n",
      "Episode:297 meanR:-112.6429 R:-206.9006 gloss:-533234.4375 dloss:6.3292 exploreP:0.8361\n",
      "Episode:298 meanR:-112.6690 R:-122.7381 gloss:-495702.6250 dloss:5.7951 exploreP:0.8347\n",
      "Episode:299 meanR:-112.9612 R:-113.2779 gloss:-331675.9062 dloss:0.2195 exploreP:0.8334\n",
      "Episode:300 meanR:-113.1062 R:-107.8877 gloss:-347537.1875 dloss:1.4630 exploreP:0.8321\n",
      "Episode:301 meanR:-113.1048 R:-103.4262 gloss:-284872.0312 dloss:0.2753 exploreP:0.8308\n",
      "Episode:302 meanR:-114.0293 R:-213.6652 gloss:-312264.2188 dloss:0.9803 exploreP:0.8297\n",
      "Episode:303 meanR:-114.7111 R:-169.2005 gloss:-575013.4375 dloss:9.2233 exploreP:0.8291\n",
      "Episode:304 meanR:-114.6517 R:-94.0339 gloss:-569877.0625 dloss:10.6856 exploreP:0.8278\n",
      "Episode:305 meanR:-114.6247 R:-99.4811 gloss:-423092.4375 dloss:0.7250 exploreP:0.8277\n",
      "Episode:306 meanR:-114.6129 R:-99.5004 gloss:-614349.0000 dloss:11.2561 exploreP:0.8277\n",
      "Episode:307 meanR:-114.4347 R:-100.5604 gloss:-657394.5625 dloss:112.3191 exploreP:0.8276\n",
      "Episode:308 meanR:-114.4777 R:-120.6856 gloss:-821857.1875 dloss:22.0928 exploreP:0.8276\n",
      "Episode:309 meanR:-114.6381 R:-117.6917 gloss:-891092.9375 dloss:28.4906 exploreP:0.8275\n",
      "Episode:310 meanR:-114.9233 R:-142.2772 gloss:-962450.8125 dloss:49.7711 exploreP:0.8272\n",
      "Episode:311 meanR:-115.1434 R:-103.5379 gloss:-1044897.4375 dloss:168.6977 exploreP:0.8271\n",
      "Episode:312 meanR:-115.0265 R:-103.6198 gloss:-887372.8750 dloss:109.1543 exploreP:0.8271\n",
      "Episode:313 meanR:-115.0228 R:-120.4995 gloss:-771900.3750 dloss:62.2866 exploreP:0.8270\n",
      "Episode:314 meanR:-115.1565 R:-101.8102 gloss:-757224.9375 dloss:74.1168 exploreP:0.8270\n",
      "Episode:315 meanR:-115.3416 R:-101.7255 gloss:-836006.1875 dloss:73.6653 exploreP:0.8269\n",
      "Episode:316 meanR:-115.3731 R:-120.8163 gloss:-905912.6875 dloss:69.4711 exploreP:0.8268\n",
      "Episode:317 meanR:-115.1964 R:-103.7909 gloss:-1023911.0625 dloss:66.2324 exploreP:0.8267\n",
      "Episode:318 meanR:-116.0453 R:-199.2895 gloss:-770477.0000 dloss:40.6878 exploreP:0.8258\n",
      "Episode:319 meanR:-116.0939 R:-110.8230 gloss:-601866.3750 dloss:8.1256 exploreP:0.8257\n",
      "Episode:320 meanR:-116.3831 R:-117.9849 gloss:-741489.3125 dloss:14.7670 exploreP:0.8257\n",
      "Episode:321 meanR:-116.2266 R:-107.9146 gloss:-834162.1250 dloss:22.0951 exploreP:0.8256\n",
      "Episode:322 meanR:-116.2690 R:-107.3086 gloss:-927313.7500 dloss:29.5419 exploreP:0.8255\n",
      "Episode:323 meanR:-116.1757 R:-104.3459 gloss:-1021917.6875 dloss:35.4638 exploreP:0.8254\n",
      "Episode:324 meanR:-116.0358 R:-107.9551 gloss:-1107696.7500 dloss:44.6581 exploreP:0.8254\n",
      "Episode:325 meanR:-116.3093 R:-112.8494 gloss:-1209824.6250 dloss:50.4528 exploreP:0.8253\n",
      "Episode:326 meanR:-116.5384 R:-102.6876 gloss:-1319589.5000 dloss:55.6837 exploreP:0.8253\n",
      "Episode:327 meanR:-116.7466 R:-105.2712 gloss:-1450418.0000 dloss:56.5208 exploreP:0.8252\n",
      "Episode:328 meanR:-116.7913 R:-112.3576 gloss:-1583365.5000 dloss:116.8159 exploreP:0.8251\n",
      "Episode:329 meanR:-117.9662 R:-216.7674 gloss:-953221.5000 dloss:35.7223 exploreP:0.8240\n",
      "Episode:330 meanR:-117.7080 R:-91.8402 gloss:-399720.7188 dloss:5.1013 exploreP:0.8227\n",
      "Episode:331 meanR:-117.6485 R:-99.8351 gloss:-326317.0625 dloss:0.6296 exploreP:0.8227\n",
      "Episode:332 meanR:-117.9290 R:-109.1681 gloss:-455669.9062 dloss:8.2906 exploreP:0.8226\n",
      "Episode:333 meanR:-117.7582 R:-92.9994 gloss:-473716.3750 dloss:9.7954 exploreP:0.8213\n",
      "Episode:334 meanR:-117.8908 R:-94.2221 gloss:-314210.0312 dloss:0.4431 exploreP:0.8200\n",
      "Episode:335 meanR:-117.8621 R:-86.1733 gloss:-282172.2812 dloss:0.4578 exploreP:0.8187\n",
      "Episode:336 meanR:-117.7933 R:-79.6321 gloss:-261611.5625 dloss:0.5655 exploreP:0.8174\n",
      "Episode:337 meanR:-118.1129 R:-114.4735 gloss:-268428.6250 dloss:10.4620 exploreP:0.8174\n",
      "Episode:338 meanR:-118.2855 R:-121.4491 gloss:-443056.0938 dloss:8.4339 exploreP:0.8173\n",
      "Episode:339 meanR:-118.5431 R:-107.7498 gloss:-542701.8125 dloss:30.9046 exploreP:0.8172\n",
      "Episode:340 meanR:-118.9856 R:-134.5768 gloss:-729407.6250 dloss:35.3158 exploreP:0.8168\n",
      "Episode:341 meanR:-119.2312 R:-106.2639 gloss:-916333.1875 dloss:30.9662 exploreP:0.8168\n",
      "Episode:342 meanR:-119.5049 R:-110.3044 gloss:-960346.0000 dloss:40.4526 exploreP:0.8167\n",
      "Episode:343 meanR:-119.4318 R:-105.5716 gloss:-1059505.0000 dloss:46.7980 exploreP:0.8166\n",
      "Episode:344 meanR:-119.5112 R:-110.5693 gloss:-1091940.3750 dloss:43.4313 exploreP:0.8165\n",
      "Episode:345 meanR:-119.6365 R:-111.0041 gloss:-1130328.8750 dloss:42.2001 exploreP:0.8164\n",
      "Episode:346 meanR:-119.7560 R:-114.0542 gloss:-1193956.1250 dloss:49.0681 exploreP:0.8163\n",
      "Episode:347 meanR:-119.8313 R:-113.4162 gloss:-1352876.2500 dloss:51.3236 exploreP:0.8163\n",
      "Episode:348 meanR:-119.9214 R:-111.5080 gloss:-1569521.7500 dloss:76.5620 exploreP:0.8162\n",
      "Episode:349 meanR:-119.7986 R:-106.2444 gloss:-1813183.5000 dloss:59.6335 exploreP:0.8161\n",
      "Episode:350 meanR:-119.7960 R:-112.3623 gloss:-2060138.2500 dloss:55.7580 exploreP:0.8161\n",
      "Episode:351 meanR:-118.9507 R:-105.3370 gloss:-2200026.7500 dloss:56.9250 exploreP:0.8160\n",
      "Episode:352 meanR:-118.9938 R:-108.0427 gloss:-2205681.7500 dloss:57.0669 exploreP:0.8159\n",
      "Episode:353 meanR:-118.9202 R:-112.0541 gloss:-972120.3125 dloss:24.4652 exploreP:0.8146\n",
      "Episode:354 meanR:-119.0527 R:-117.0442 gloss:-379294.6250 dloss:1.0795 exploreP:0.8133\n",
      "Episode:355 meanR:-118.9470 R:-93.1507 gloss:-301884.9688 dloss:1.4241 exploreP:0.8121\n",
      "Episode:356 meanR:-119.1599 R:-122.4417 gloss:-311643.0625 dloss:5.6433 exploreP:0.8120\n",
      "Episode:357 meanR:-119.2439 R:-106.8069 gloss:-536524.6875 dloss:38.5799 exploreP:0.8119\n",
      "Episode:358 meanR:-119.1051 R:-108.3847 gloss:-648578.1875 dloss:15.6986 exploreP:0.8118\n",
      "Episode:359 meanR:-119.0380 R:-115.5742 gloss:-845008.6875 dloss:22.8341 exploreP:0.8118\n",
      "Episode:360 meanR:-119.1778 R:-115.6527 gloss:-920219.4375 dloss:39.9761 exploreP:0.8117\n",
      "Episode:361 meanR:-118.9718 R:-84.3408 gloss:-665696.8125 dloss:20.0381 exploreP:0.8104\n",
      "Episode:362 meanR:-118.9822 R:-103.9175 gloss:-334549.5312 dloss:0.5795 exploreP:0.8104\n",
      "Episode:363 meanR:-118.8906 R:-88.8499 gloss:-457059.7500 dloss:5.3070 exploreP:0.8091\n",
      "Episode:364 meanR:-119.0750 R:-113.5063 gloss:-375832.2500 dloss:4.2382 exploreP:0.8090\n",
      "Episode:365 meanR:-118.9948 R:-106.6653 gloss:-582122.1250 dloss:12.2915 exploreP:0.8089\n",
      "Episode:366 meanR:-119.0109 R:-111.3947 gloss:-716576.2500 dloss:58.7067 exploreP:0.8089\n",
      "Episode:367 meanR:-119.0200 R:-108.1333 gloss:-773839.8125 dloss:26.4265 exploreP:0.8089\n",
      "Episode:368 meanR:-118.9030 R:-89.6281 gloss:-779561.6250 dloss:18.2545 exploreP:0.8076\n",
      "Episode:369 meanR:-118.8136 R:-108.3456 gloss:-399119.2500 dloss:0.3541 exploreP:0.8075\n",
      "Episode:370 meanR:-118.6764 R:-90.2627 gloss:-541639.1250 dloss:5.0579 exploreP:0.8062\n",
      "Episode:371 meanR:-118.4757 R:-96.4537 gloss:-400802.1562 dloss:1.3203 exploreP:0.8050\n"
     ]
    },
    {
     "name": "stdout",
     "output_type": "stream",
     "text": [
      "Episode:372 meanR:-118.3219 R:-96.8572 gloss:-448878.8125 dloss:1.3108 exploreP:0.8037\n",
      "Episode:373 meanR:-118.2102 R:-98.9320 gloss:-414518.8125 dloss:6.4528 exploreP:0.8024\n",
      "Episode:374 meanR:-118.1763 R:-106.5608 gloss:-459332.6250 dloss:3.1876 exploreP:0.8011\n",
      "Episode:375 meanR:-118.1014 R:-96.2724 gloss:-443425.4375 dloss:9.6269 exploreP:0.7999\n",
      "Episode:376 meanR:-118.0128 R:-101.9529 gloss:-370140.0312 dloss:2.0593 exploreP:0.7998\n",
      "Episode:377 meanR:-117.7923 R:-102.6769 gloss:-555463.0000 dloss:16.7037 exploreP:0.7998\n",
      "Episode:378 meanR:-116.7474 R:-121.7341 gloss:-710880.8125 dloss:23.4022 exploreP:0.7997\n",
      "Episode:379 meanR:-116.3827 R:-81.7416 gloss:-685739.6250 dloss:14.1473 exploreP:0.7985\n",
      "Episode:380 meanR:-116.3861 R:-102.7095 gloss:-409422.7188 dloss:0.7289 exploreP:0.7984\n",
      "Episode:381 meanR:-116.0736 R:-82.5733 gloss:-566993.4375 dloss:7.3069 exploreP:0.7972\n",
      "Episode:382 meanR:-116.0807 R:-102.4557 gloss:-415516.3438 dloss:2.3211 exploreP:0.7971\n",
      "Episode:383 meanR:-115.9415 R:-102.2082 gloss:-588171.4375 dloss:14.9227 exploreP:0.7970\n",
      "Episode:384 meanR:-116.2863 R:-145.1839 gloss:-698100.9375 dloss:30.4887 exploreP:0.7965\n",
      "Episode:385 meanR:-115.4574 R:-98.9318 gloss:-813126.7500 dloss:30.1719 exploreP:0.7964\n",
      "Episode:386 meanR:-115.3093 R:-99.5335 gloss:-883600.6250 dloss:29.8209 exploreP:0.7964\n",
      "Episode:387 meanR:-115.3844 R:-119.4202 gloss:-995237.1250 dloss:85.6286 exploreP:0.7963\n",
      "Episode:388 meanR:-114.5301 R:-126.1459 gloss:-1042104.2500 dloss:35.0595 exploreP:0.7962\n",
      "Episode:389 meanR:-114.3011 R:-99.2848 gloss:-1118853.0000 dloss:53.4812 exploreP:0.7962\n",
      "Episode:390 meanR:-114.2662 R:-100.4146 gloss:-1090923.5000 dloss:39.2066 exploreP:0.7961\n",
      "Episode:391 meanR:-113.1830 R:-101.2441 gloss:-1126779.8750 dloss:44.5242 exploreP:0.7961\n",
      "Episode:392 meanR:-113.1650 R:-119.9121 gloss:-1184786.8750 dloss:50.0103 exploreP:0.7960\n",
      "Episode:393 meanR:-113.0422 R:-100.3409 gloss:-1223822.1250 dloss:59.2939 exploreP:0.7960\n",
      "Episode:394 meanR:-112.8619 R:-97.5175 gloss:-1231010.1250 dloss:200.3133 exploreP:0.7959\n",
      "Episode:395 meanR:-112.1530 R:-100.7356 gloss:-1288777.2500 dloss:67.4073 exploreP:0.7959\n",
      "Episode:396 meanR:-111.1538 R:-97.9527 gloss:-1324664.6250 dloss:71.4858 exploreP:0.7958\n",
      "Episode:397 meanR:-110.0669 R:-98.2130 gloss:-1406674.3750 dloss:77.0736 exploreP:0.7957\n",
      "Episode:398 meanR:-109.8228 R:-98.3266 gloss:-1374992.2500 dloss:112.9314 exploreP:0.7957\n",
      "Episode:399 meanR:-109.6811 R:-99.1109 gloss:-1162247.0000 dloss:90.4565 exploreP:0.7956\n",
      "Episode:400 meanR:-109.6191 R:-101.6847 gloss:-1270815.8750 dloss:82.9769 exploreP:0.7955\n",
      "Episode:401 meanR:-109.6100 R:-102.5156 gloss:-1364046.5000 dloss:136.8568 exploreP:0.7955\n",
      "Episode:402 meanR:-108.7289 R:-125.5616 gloss:-1501323.0000 dloss:106.7204 exploreP:0.7954\n",
      "Episode:403 meanR:-108.0323 R:-99.5387 gloss:-1480523.0000 dloss:234.9932 exploreP:0.7953\n",
      "Episode:404 meanR:-108.1035 R:-101.1525 gloss:-1400552.1250 dloss:170.8272 exploreP:0.7953\n",
      "Episode:405 meanR:-108.1300 R:-102.1280 gloss:-1427892.5000 dloss:71.1418 exploreP:0.7952\n",
      "Episode:406 meanR:-108.1860 R:-105.0970 gloss:-1448822.6250 dloss:69.9808 exploreP:0.7952\n",
      "Episode:407 meanR:-108.1636 R:-98.3218 gloss:-1421889.1250 dloss:69.8144 exploreP:0.7952\n",
      "Episode:408 meanR:-108.1171 R:-116.0370 gloss:-1383087.1250 dloss:156.5484 exploreP:0.7951\n",
      "Episode:409 meanR:-107.9426 R:-100.2416 gloss:-1242861.8750 dloss:76.0784 exploreP:0.7951\n",
      "Episode:410 meanR:-107.4926 R:-97.2767 gloss:-1214254.5000 dloss:74.4145 exploreP:0.7950\n",
      "Episode:411 meanR:-107.4828 R:-102.5578 gloss:-1188206.2500 dloss:73.0403 exploreP:0.7949\n",
      "Episode:412 meanR:-107.4460 R:-99.9433 gloss:-1225256.5000 dloss:71.6787 exploreP:0.7949\n",
      "Episode:413 meanR:-107.2501 R:-100.9078 gloss:-1227660.8750 dloss:69.5335 exploreP:0.7948\n",
      "Episode:414 meanR:-107.2390 R:-100.6978 gloss:-1240735.8750 dloss:67.8191 exploreP:0.7947\n",
      "Episode:415 meanR:-107.0995 R:-87.7776 gloss:-939781.0625 dloss:45.4257 exploreP:0.7935\n",
      "Episode:416 meanR:-106.9519 R:-106.0531 gloss:-558328.7500 dloss:3.5849 exploreP:0.7934\n",
      "Episode:417 meanR:-107.0832 R:-116.9268 gloss:-750814.1875 dloss:21.1647 exploreP:0.7934\n",
      "Episode:418 meanR:-105.9419 R:-85.1531 gloss:-684666.5625 dloss:11.6918 exploreP:0.7921\n",
      "Episode:419 meanR:-105.8496 R:-101.5967 gloss:-458581.1250 dloss:4.7107 exploreP:0.7921\n",
      "Episode:420 meanR:-105.6529 R:-98.3153 gloss:-611403.0625 dloss:26.5334 exploreP:0.7920\n",
      "Episode:421 meanR:-105.3803 R:-80.6592 gloss:-698034.6250 dloss:18.2860 exploreP:0.7908\n",
      "Episode:422 meanR:-105.4946 R:-118.7337 gloss:-509543.1562 dloss:2.2477 exploreP:0.7907\n",
      "Episode:423 meanR:-105.9023 R:-145.1169 gloss:-748259.4375 dloss:13.1301 exploreP:0.7904\n",
      "Episode:424 meanR:-105.8011 R:-97.8363 gloss:-916606.4375 dloss:69.3042 exploreP:0.7904\n",
      "Episode:425 meanR:-105.6833 R:-101.0704 gloss:-1007392.1250 dloss:21.5991 exploreP:0.7903\n",
      "Episode:426 meanR:-105.6461 R:-98.9696 gloss:-1103908.3750 dloss:51.1064 exploreP:0.7902\n",
      "Episode:427 meanR:-105.8259 R:-123.2478 gloss:-1235343.0000 dloss:65.9632 exploreP:0.7902\n",
      "Episode:428 meanR:-106.0078 R:-130.5452 gloss:-1299752.0000 dloss:50.0175 exploreP:0.7901\n",
      "Episode:429 meanR:-105.6652 R:-182.5105 gloss:-1215270.5000 dloss:24.4699 exploreP:0.7892\n",
      "Episode:430 meanR:-105.7517 R:-100.4911 gloss:-852267.9375 dloss:6.9810 exploreP:0.7891\n",
      "Episode:431 meanR:-105.7561 R:-100.2736 gloss:-984353.2500 dloss:12.3797 exploreP:0.7890\n",
      "Episode:432 meanR:-105.7059 R:-104.1452 gloss:-1053201.3750 dloss:29.3173 exploreP:0.7890\n",
      "Episode:433 meanR:-105.7512 R:-97.5348 gloss:-1092695.3750 dloss:29.9589 exploreP:0.7889\n",
      "Episode:434 meanR:-105.8522 R:-104.3235 gloss:-1100035.0000 dloss:97.6468 exploreP:0.7889\n",
      "Episode:435 meanR:-106.1447 R:-115.4232 gloss:-1078942.0000 dloss:36.4797 exploreP:0.7888\n",
      "Episode:436 meanR:-106.6076 R:-125.9175 gloss:-1151691.1250 dloss:41.8829 exploreP:0.7887\n",
      "Episode:437 meanR:-106.4950 R:-103.2182 gloss:-1232794.5000 dloss:49.3375 exploreP:0.7886\n",
      "Episode:438 meanR:-106.4867 R:-120.6177 gloss:-1307022.2500 dloss:59.5404 exploreP:0.7886\n",
      "Episode:439 meanR:-106.4401 R:-103.0828 gloss:-1381740.1250 dloss:64.9012 exploreP:0.7885\n",
      "Episode:440 meanR:-106.0787 R:-98.4454 gloss:-1499801.1250 dloss:67.0259 exploreP:0.7884\n",
      "Episode:441 meanR:-106.0394 R:-102.3333 gloss:-1585281.1250 dloss:90.0413 exploreP:0.7884\n",
      "Episode:442 meanR:-105.9463 R:-100.9889 gloss:-1651750.1250 dloss:62.0441 exploreP:0.7883\n",
      "Episode:443 meanR:-106.1013 R:-121.0750 gloss:-1845508.5000 dloss:164.4092 exploreP:0.7883\n",
      "Episode:444 meanR:-106.2432 R:-124.7611 gloss:-1780993.0000 dloss:58.7652 exploreP:0.7882\n",
      "Episode:445 meanR:-106.3035 R:-117.0254 gloss:-1734288.0000 dloss:58.4856 exploreP:0.7881\n",
      "Episode:446 meanR:-106.1832 R:-102.0287 gloss:-1745220.8750 dloss:63.1659 exploreP:0.7881\n",
      "Episode:447 meanR:-106.0879 R:-103.8908 gloss:-1771992.8750 dloss:64.6345 exploreP:0.7880\n",
      "Episode:448 meanR:-105.9699 R:-99.7010 gloss:-1837419.6250 dloss:67.7168 exploreP:0.7880\n",
      "Episode:449 meanR:-105.9201 R:-101.2711 gloss:-1895239.3750 dloss:97.2554 exploreP:0.7879\n",
      "Episode:450 meanR:-106.2292 R:-143.2657 gloss:-1757686.7500 dloss:62.7890 exploreP:0.7877\n",
      "Episode:451 meanR:-106.3756 R:-119.9755 gloss:-1663587.1250 dloss:53.4725 exploreP:0.7876\n",
      "Episode:452 meanR:-106.4205 R:-112.5371 gloss:-1648282.7500 dloss:51.1187 exploreP:0.7876\n",
      "Episode:453 meanR:-106.3242 R:-102.4196 gloss:-1689066.6250 dloss:52.7889 exploreP:0.7875\n",
      "Episode:454 meanR:-106.9711 R:-181.7405 gloss:-1222204.3750 dloss:24.9151 exploreP:0.7865\n",
      "Episode:455 meanR:-107.0372 R:-99.7583 gloss:-791578.2500 dloss:7.6190 exploreP:0.7865\n",
      "Episode:456 meanR:-106.8288 R:-101.6033 gloss:-865549.0000 dloss:13.7338 exploreP:0.7864\n",
      "Episode:457 meanR:-106.7464 R:-98.5694 gloss:-928602.8750 dloss:19.7090 exploreP:0.7863\n",
      "Episode:458 meanR:-106.5396 R:-87.7033 gloss:-808848.8125 dloss:14.5187 exploreP:0.7851\n",
      "Episode:459 meanR:-106.9469 R:-156.2967 gloss:-564488.1250 dloss:5.0350 exploreP:0.7843\n",
      "Episode:460 meanR:-106.7879 R:-99.7605 gloss:-794502.2500 dloss:7.7364 exploreP:0.7842\n",
      "Episode:461 meanR:-106.9653 R:-102.0788 gloss:-905463.3125 dloss:13.4889 exploreP:0.7842\n",
      "Episode:462 meanR:-106.9399 R:-101.3807 gloss:-996119.5625 dloss:19.2253 exploreP:0.7841\n",
      "Episode:463 meanR:-107.2442 R:-119.2731 gloss:-1072556.6250 dloss:81.5688 exploreP:0.7841\n"
     ]
    },
    {
     "name": "stdout",
     "output_type": "stream",
     "text": [
      "Episode:464 meanR:-107.1131 R:-100.3943 gloss:-1117460.3750 dloss:30.0956 exploreP:0.7841\n",
      "Episode:465 meanR:-107.2649 R:-121.8545 gloss:-1208710.6250 dloss:34.8826 exploreP:0.7840\n",
      "Episode:466 meanR:-107.1324 R:-98.1397 gloss:-1241062.6250 dloss:40.6092 exploreP:0.7839\n",
      "Episode:467 meanR:-107.2925 R:-124.1464 gloss:-1348820.5000 dloss:63.4977 exploreP:0.7838\n",
      "Episode:468 meanR:-107.4088 R:-101.2587 gloss:-1481105.5000 dloss:49.5644 exploreP:0.7838\n",
      "Episode:469 meanR:-107.3318 R:-100.6445 gloss:-1585079.1250 dloss:67.7770 exploreP:0.7837\n",
      "Episode:470 meanR:-107.4702 R:-104.0989 gloss:-1679622.3750 dloss:79.0604 exploreP:0.7837\n",
      "Episode:471 meanR:-107.5386 R:-103.2985 gloss:-1815437.2500 dloss:73.9789 exploreP:0.7836\n",
      "Episode:472 meanR:-107.8465 R:-127.6469 gloss:-1954595.7500 dloss:144.9041 exploreP:0.7835\n",
      "Episode:473 meanR:-108.0468 R:-118.9552 gloss:-1990684.6250 dloss:65.5165 exploreP:0.7835\n",
      "Episode:474 meanR:-107.9916 R:-101.0467 gloss:-2208809.5000 dloss:64.2831 exploreP:0.7834\n",
      "Episode:475 meanR:-108.2393 R:-121.0431 gloss:-2301776.2500 dloss:82.1796 exploreP:0.7834\n",
      "Episode:476 meanR:-108.3833 R:-116.3460 gloss:-2391557.0000 dloss:59.0288 exploreP:0.7833\n",
      "Episode:477 meanR:-108.5404 R:-118.3928 gloss:-2544053.0000 dloss:69.4562 exploreP:0.7833\n",
      "Episode:478 meanR:-108.3591 R:-103.6036 gloss:-2537071.0000 dloss:58.7766 exploreP:0.7832\n",
      "Episode:479 meanR:-108.3648 R:-82.3125 gloss:-1383987.6250 dloss:31.5236 exploreP:0.7820\n",
      "Episode:480 meanR:-108.1762 R:-83.8437 gloss:-638470.0625 dloss:2.5589 exploreP:0.7807\n",
      "Episode:481 meanR:-108.5313 R:-118.0847 gloss:-679250.0625 dloss:5.6232 exploreP:0.7807\n",
      "Episode:482 meanR:-108.5303 R:-102.3614 gloss:-973179.5625 dloss:16.0401 exploreP:0.7807\n",
      "Episode:483 meanR:-108.3853 R:-87.7053 gloss:-804861.9375 dloss:13.0687 exploreP:0.7794\n",
      "Episode:484 meanR:-107.7317 R:-79.8207 gloss:-510562.2812 dloss:1.1347 exploreP:0.7782\n",
      "Episode:485 meanR:-107.6176 R:-87.5277 gloss:-500265.5938 dloss:2.0579 exploreP:0.7770\n",
      "Episode:486 meanR:-107.4584 R:-83.6099 gloss:-455776.5625 dloss:1.8347 exploreP:0.7757\n",
      "Episode:487 meanR:-107.3503 R:-108.6120 gloss:-445215.1562 dloss:9.6499 exploreP:0.7757\n",
      "Episode:488 meanR:-106.9048 R:-81.5946 gloss:-603699.6875 dloss:6.9682 exploreP:0.7745\n",
      "Episode:489 meanR:-106.7720 R:-86.0028 gloss:-418891.0938 dloss:1.3922 exploreP:0.7732\n",
      "Episode:490 meanR:-106.7899 R:-102.2025 gloss:-378641.6562 dloss:6.8884 exploreP:0.7732\n",
      "Episode:491 meanR:-106.8662 R:-108.8804 gloss:-605329.2500 dloss:20.4251 exploreP:0.7732\n",
      "Episode:492 meanR:-106.5226 R:-85.5544 gloss:-714996.7500 dloss:15.6367 exploreP:0.7719\n",
      "Episode:493 meanR:-106.4273 R:-90.8024 gloss:-437487.1875 dloss:2.4108 exploreP:0.7707\n",
      "Episode:494 meanR:-106.2749 R:-82.2794 gloss:-376625.3125 dloss:4.9469 exploreP:0.7695\n",
      "Episode:495 meanR:-106.4030 R:-113.5437 gloss:-280404.0000 dloss:15.0705 exploreP:0.7695\n",
      "Episode:496 meanR:-106.5910 R:-116.7530 gloss:-463102.6250 dloss:35.7299 exploreP:0.7694\n",
      "Episode:497 meanR:-106.7502 R:-114.1345 gloss:-646155.6250 dloss:59.7577 exploreP:0.7693\n",
      "Episode:498 meanR:-106.7630 R:-99.6066 gloss:-608984.0000 dloss:20.1580 exploreP:0.7681\n",
      "Episode:499 meanR:-106.8757 R:-110.3798 gloss:-363596.1250 dloss:15.8967 exploreP:0.7681\n",
      "Episode:500 meanR:-107.0419 R:-118.3098 gloss:-527284.3750 dloss:66.5771 exploreP:0.7680\n",
      "Episode:501 meanR:-107.0859 R:-106.9159 gloss:-621681.0625 dloss:98.1838 exploreP:0.7679\n",
      "Episode:502 meanR:-106.9540 R:-112.3673 gloss:-676234.2500 dloss:140.8999 exploreP:0.7679\n",
      "Episode:503 meanR:-107.1224 R:-116.3830 gloss:-798631.4375 dloss:46.3613 exploreP:0.7678\n",
      "Episode:504 meanR:-107.2018 R:-109.0910 gloss:-863467.2500 dloss:81.2044 exploreP:0.7678\n",
      "Episode:505 meanR:-107.3486 R:-116.8052 gloss:-968335.9375 dloss:166.7887 exploreP:0.7677\n",
      "Episode:506 meanR:-107.4663 R:-116.8681 gloss:-1011879.8750 dloss:56.7501 exploreP:0.7677\n",
      "Episode:507 meanR:-107.6351 R:-115.2063 gloss:-1145464.1250 dloss:71.4998 exploreP:0.7676\n",
      "Episode:508 meanR:-107.5806 R:-110.5864 gloss:-885477.7500 dloss:238.0120 exploreP:0.7676\n",
      "Episode:509 meanR:-107.7314 R:-115.3153 gloss:-1112444.7500 dloss:121.7992 exploreP:0.7675\n",
      "Episode:510 meanR:-107.8937 R:-113.5093 gloss:-1477009.3750 dloss:146.4209 exploreP:0.7675\n",
      "Episode:511 meanR:-108.1056 R:-123.7473 gloss:-2122037.0000 dloss:111.9834 exploreP:0.7673\n",
      "Episode:512 meanR:-108.2693 R:-116.3142 gloss:-2541693.7500 dloss:88.8141 exploreP:0.7673\n",
      "Episode:513 meanR:-108.3715 R:-111.1323 gloss:-2579825.0000 dloss:78.4872 exploreP:0.7672\n",
      "Episode:514 meanR:-108.6911 R:-132.6492 gloss:-2483655.0000 dloss:92.4337 exploreP:0.7671\n",
      "Episode:515 meanR:-109.0203 R:-120.7015 gloss:-2543654.7500 dloss:61.5183 exploreP:0.7670\n",
      "Episode:516 meanR:-109.1209 R:-116.1116 gloss:-2474425.0000 dloss:63.8506 exploreP:0.7670\n",
      "Episode:517 meanR:-109.0361 R:-108.4475 gloss:-2641674.5000 dloss:55.7374 exploreP:0.7669\n",
      "Episode:518 meanR:-109.3491 R:-116.4504 gloss:-2584405.2500 dloss:51.7142 exploreP:0.7669\n",
      "Episode:519 meanR:-109.4966 R:-116.3469 gloss:-2558088.5000 dloss:62.7484 exploreP:0.7668\n",
      "Episode:520 meanR:-109.6322 R:-111.8779 gloss:-2610109.5000 dloss:50.4391 exploreP:0.7668\n",
      "Episode:521 meanR:-109.9299 R:-110.4341 gloss:-2577354.0000 dloss:49.5471 exploreP:0.7667\n",
      "Episode:522 meanR:-109.9065 R:-116.3924 gloss:-2596728.0000 dloss:50.7357 exploreP:0.7667\n",
      "Episode:523 meanR:-109.6012 R:-114.5817 gloss:-2614487.7500 dloss:50.9009 exploreP:0.7667\n",
      "Episode:524 meanR:-109.8252 R:-120.2397 gloss:-2632958.5000 dloss:52.1157 exploreP:0.7666\n",
      "Episode:525 meanR:-109.8869 R:-107.2370 gloss:-2580848.5000 dloss:51.7971 exploreP:0.7665\n",
      "Episode:526 meanR:-110.1456 R:-124.8382 gloss:-2682896.2500 dloss:46.1084 exploreP:0.7664\n",
      "Episode:527 meanR:-109.9703 R:-105.7247 gloss:-2738440.0000 dloss:60.1650 exploreP:0.7663\n",
      "Episode:528 meanR:-109.7319 R:-106.7070 gloss:-2718266.7500 dloss:47.0434 exploreP:0.7663\n",
      "Episode:529 meanR:-109.0695 R:-116.2630 gloss:-2764606.5000 dloss:49.3432 exploreP:0.7663\n",
      "Episode:530 meanR:-109.1879 R:-112.3342 gloss:-965882.0625 dloss:38.9693 exploreP:0.7651\n",
      "Episode:531 meanR:-109.2379 R:-105.2770 gloss:-219853.1562 dloss:0.5577 exploreP:0.7650\n",
      "Episode:532 meanR:-109.4168 R:-122.0361 gloss:-349585.9062 dloss:8.3516 exploreP:0.7649\n",
      "Episode:533 meanR:-109.5689 R:-112.7411 gloss:-473022.6875 dloss:16.1785 exploreP:0.7649\n",
      "Episode:534 meanR:-109.6233 R:-109.7616 gloss:-583496.1250 dloss:22.7953 exploreP:0.7649\n",
      "Episode:535 meanR:-109.4063 R:-93.7294 gloss:-646508.6875 dloss:18.7887 exploreP:0.7637\n",
      "Episode:536 meanR:-109.0253 R:-87.8085 gloss:-286143.9688 dloss:0.3938 exploreP:0.7625\n",
      "Episode:537 meanR:-109.0533 R:-106.0213 gloss:-293315.0938 dloss:0.8355 exploreP:0.7624\n",
      "Episode:538 meanR:-108.6861 R:-83.9012 gloss:-352213.8438 dloss:5.0955 exploreP:0.7612\n",
      "Episode:539 meanR:-108.6803 R:-102.5043 gloss:-285123.5625 dloss:1.0380 exploreP:0.7600\n",
      "Episode:540 meanR:-108.9628 R:-126.6963 gloss:-309129.9375 dloss:0.5900 exploreP:0.7588\n",
      "Episode:541 meanR:-109.1937 R:-125.4141 gloss:-269235.5312 dloss:0.5127 exploreP:0.7576\n",
      "Episode:542 meanR:-110.2826 R:-209.8839 gloss:-285976.0938 dloss:0.3615 exploreP:0.7567\n",
      "Episode:543 meanR:-111.3195 R:-224.7657 gloss:-454189.8438 dloss:5.8597 exploreP:0.7556\n",
      "Episode:544 meanR:-111.3496 R:-127.7748 gloss:-399113.0312 dloss:4.8325 exploreP:0.7544\n",
      "Episode:545 meanR:-111.4764 R:-129.6987 gloss:-331308.2188 dloss:0.3443 exploreP:0.7532\n",
      "Episode:546 meanR:-112.2999 R:-184.3803 gloss:-289438.6250 dloss:1.1451 exploreP:0.7526\n",
      "Episode:547 meanR:-112.4312 R:-117.0191 gloss:-324586.8750 dloss:5.5518 exploreP:0.7514\n",
      "Episode:548 meanR:-112.5724 R:-113.8271 gloss:-251343.1875 dloss:0.3770 exploreP:0.7502\n",
      "Episode:549 meanR:-112.7191 R:-115.9356 gloss:-257098.4219 dloss:0.5007 exploreP:0.7490\n",
      "Episode:550 meanR:-112.4688 R:-118.2326 gloss:-262945.0000 dloss:0.3343 exploreP:0.7490\n",
      "Episode:551 meanR:-112.3505 R:-108.1525 gloss:-343116.8125 dloss:6.1413 exploreP:0.7478\n",
      "Episode:552 meanR:-113.5059 R:-228.0698 gloss:-270037.0625 dloss:0.2659 exploreP:0.7467\n",
      "Episode:553 meanR:-113.7514 R:-126.9732 gloss:-488787.0312 dloss:9.2613 exploreP:0.7464\n",
      "Episode:554 meanR:-113.0296 R:-109.5628 gloss:-663076.8750 dloss:20.0376 exploreP:0.7463\n",
      "Episode:555 meanR:-113.1688 R:-113.6761 gloss:-771937.2500 dloss:22.6185 exploreP:0.7463\n",
      "Episode:556 meanR:-113.2983 R:-114.5528 gloss:-834949.6250 dloss:69.8622 exploreP:0.7462\n"
     ]
    },
    {
     "name": "stdout",
     "output_type": "stream",
     "text": [
      "Episode:557 meanR:-113.4580 R:-114.5457 gloss:-1003218.6875 dloss:35.5469 exploreP:0.7462\n",
      "Episode:558 meanR:-113.7315 R:-115.0518 gloss:-1121890.6250 dloss:42.4346 exploreP:0.7461\n",
      "Episode:559 meanR:-113.3060 R:-113.7443 gloss:-1304426.0000 dloss:51.1232 exploreP:0.7460\n",
      "Episode:560 meanR:-113.4388 R:-113.0412 gloss:-1415088.6250 dloss:55.1303 exploreP:0.7460\n",
      "Episode:561 meanR:-113.5186 R:-110.0569 gloss:-1480148.6250 dloss:106.1428 exploreP:0.7459\n",
      "Episode:562 meanR:-114.0378 R:-153.2984 gloss:-1492435.5000 dloss:62.9204 exploreP:0.7455\n",
      "Episode:563 meanR:-113.9654 R:-112.0386 gloss:-1348577.6250 dloss:61.6014 exploreP:0.7455\n",
      "Episode:564 meanR:-114.0473 R:-108.5811 gloss:-1309585.0000 dloss:49.6019 exploreP:0.7454\n",
      "Episode:565 meanR:-113.9363 R:-110.7564 gloss:-1371934.3750 dloss:45.2001 exploreP:0.7454\n",
      "Episode:566 meanR:-114.0037 R:-104.8775 gloss:-1370187.6250 dloss:43.1432 exploreP:0.7453\n",
      "Episode:567 meanR:-113.8842 R:-112.1971 gloss:-1342028.7500 dloss:45.3041 exploreP:0.7453\n",
      "Episode:568 meanR:-113.9417 R:-107.0121 gloss:-1237779.1250 dloss:60.1407 exploreP:0.7452\n",
      "Episode:569 meanR:-114.0863 R:-115.1045 gloss:-1160513.3750 dloss:45.3603 exploreP:0.7451\n",
      "Episode:570 meanR:-114.1138 R:-106.8484 gloss:-1218862.3750 dloss:49.3986 exploreP:0.7451\n",
      "Episode:571 meanR:-114.1755 R:-109.4640 gloss:-1285943.5000 dloss:54.3685 exploreP:0.7450\n",
      "Episode:572 meanR:-114.1858 R:-128.6780 gloss:-903415.3750 dloss:27.6556 exploreP:0.7438\n",
      "Episode:573 meanR:-114.2367 R:-124.0468 gloss:-497393.4688 dloss:0.3645 exploreP:0.7427\n",
      "Episode:574 meanR:-114.3126 R:-108.6314 gloss:-509041.4062 dloss:5.5133 exploreP:0.7426\n",
      "Episode:575 meanR:-115.0830 R:-198.0894 gloss:-699735.6250 dloss:7.5064 exploreP:0.7418\n",
      "Episode:576 meanR:-115.9155 R:-199.5893 gloss:-762239.6875 dloss:7.0091 exploreP:0.7411\n",
      "Episode:577 meanR:-116.0168 R:-128.5243 gloss:-722975.5000 dloss:5.2750 exploreP:0.7399\n",
      "Episode:578 meanR:-116.2749 R:-129.4176 gloss:-561177.8750 dloss:0.4606 exploreP:0.7387\n",
      "Episode:579 meanR:-116.7647 R:-131.2905 gloss:-514391.0938 dloss:0.4648 exploreP:0.7376\n",
      "Episode:580 meanR:-118.0074 R:-208.1155 gloss:-507786.4062 dloss:0.8933 exploreP:0.7367\n",
      "Episode:581 meanR:-118.0481 R:-122.1518 gloss:-685860.2500 dloss:4.9027 exploreP:0.7355\n",
      "Episode:582 meanR:-118.2932 R:-126.8775 gloss:-499046.2500 dloss:0.6052 exploreP:0.7344\n",
      "Episode:583 meanR:-118.7510 R:-133.4849 gloss:-494983.5625 dloss:0.4808 exploreP:0.7332\n",
      "Episode:584 meanR:-119.2553 R:-130.2474 gloss:-483475.4375 dloss:0.2840 exploreP:0.7321\n",
      "Episode:585 meanR:-119.5698 R:-118.9751 gloss:-486036.0000 dloss:0.4931 exploreP:0.7309\n",
      "Episode:586 meanR:-121.0019 R:-226.8228 gloss:-489314.2812 dloss:0.4339 exploreP:0.7298\n",
      "Episode:587 meanR:-121.2198 R:-130.3996 gloss:-713884.3750 dloss:5.2851 exploreP:0.7287\n",
      "Episode:588 meanR:-121.7647 R:-136.0818 gloss:-532694.9375 dloss:0.5368 exploreP:0.7275\n",
      "Episode:589 meanR:-122.1788 R:-127.4124 gloss:-558626.3750 dloss:0.4639 exploreP:0.7264\n",
      "Episode:590 meanR:-122.4154 R:-125.8707 gloss:-544032.5625 dloss:0.8337 exploreP:0.7253\n",
      "Episode:591 meanR:-122.6654 R:-133.8752 gloss:-598124.5000 dloss:2.9933 exploreP:0.7241\n",
      "Episode:592 meanR:-123.0585 R:-124.8662 gloss:-579316.5625 dloss:0.0877 exploreP:0.7230\n",
      "Episode:593 meanR:-123.4642 R:-131.3743 gloss:-558476.8750 dloss:0.4174 exploreP:0.7218\n",
      "Episode:594 meanR:-124.7693 R:-212.7893 gloss:-535192.6875 dloss:1.2970 exploreP:0.7210\n",
      "Episode:595 meanR:-124.9855 R:-135.1585 gloss:-752472.8125 dloss:5.4033 exploreP:0.7198\n",
      "Episode:596 meanR:-125.0635 R:-124.5604 gloss:-565320.0000 dloss:0.5639 exploreP:0.7187\n",
      "Episode:597 meanR:-126.2548 R:-233.2581 gloss:-609856.5625 dloss:0.7044 exploreP:0.7176\n",
      "Episode:598 meanR:-126.5833 R:-132.4605 gloss:-829375.8125 dloss:6.6882 exploreP:0.7165\n",
      "Episode:599 meanR:-126.6802 R:-120.0720 gloss:-518357.0312 dloss:1.4111 exploreP:0.7153\n",
      "Episode:600 meanR:-126.4097 R:-91.2604 gloss:-508161.0000 dloss:2.0185 exploreP:0.7142\n",
      "Episode:601 meanR:-126.2707 R:-93.0080 gloss:-497350.8438 dloss:2.8906 exploreP:0.7131\n",
      "Episode:602 meanR:-125.9845 R:-83.7521 gloss:-495630.5312 dloss:1.0722 exploreP:0.7120\n",
      "Episode:603 meanR:-126.4578 R:-163.7120 gloss:-494651.6875 dloss:0.6352 exploreP:0.7111\n",
      "Episode:604 meanR:-126.3123 R:-94.5372 gloss:-706122.8750 dloss:6.1242 exploreP:0.7100\n",
      "Episode:605 meanR:-126.3303 R:-118.6124 gloss:-563673.5625 dloss:33.1469 exploreP:0.7099\n",
      "Episode:606 meanR:-126.0277 R:-86.6075 gloss:-744908.9375 dloss:5.3983 exploreP:0.7088\n",
      "Episode:607 meanR:-125.8257 R:-95.0081 gloss:-536754.2500 dloss:1.1308 exploreP:0.7077\n",
      "Episode:608 meanR:-125.5596 R:-83.9746 gloss:-547968.2500 dloss:0.7813 exploreP:0.7066\n",
      "Episode:609 meanR:-125.6430 R:-123.6544 gloss:-545800.1250 dloss:3.5229 exploreP:0.7063\n",
      "Episode:610 meanR:-125.4728 R:-96.4858 gloss:-868529.4375 dloss:14.3077 exploreP:0.7062\n",
      "Episode:611 meanR:-125.7480 R:-151.2691 gloss:-1157852.7500 dloss:16.6706 exploreP:0.7055\n",
      "Episode:612 meanR:-125.6064 R:-102.1546 gloss:-1021464.9375 dloss:9.9219 exploreP:0.7055\n",
      "Episode:613 meanR:-126.3481 R:-185.3041 gloss:-1171469.2500 dloss:14.4863 exploreP:0.7046\n",
      "Episode:614 meanR:-126.2453 R:-122.3645 gloss:-1045780.8125 dloss:8.2647 exploreP:0.7045\n",
      "Episode:615 meanR:-126.0276 R:-98.9363 gloss:-1066009.5000 dloss:15.0752 exploreP:0.7034\n",
      "Episode:616 meanR:-126.2985 R:-143.2033 gloss:-709636.6250 dloss:0.7865 exploreP:0.7029\n",
      "Episode:617 meanR:-125.9922 R:-77.8177 gloss:-896572.2500 dloss:7.6383 exploreP:0.7018\n",
      "Episode:618 meanR:-125.8348 R:-100.7077 gloss:-720993.0625 dloss:4.7343 exploreP:0.7017\n",
      "Episode:619 meanR:-125.9265 R:-125.5157 gloss:-1067414.3750 dloss:11.0316 exploreP:0.7014\n",
      "Episode:620 meanR:-125.7808 R:-97.3087 gloss:-1109875.3750 dloss:9.0462 exploreP:0.7003\n",
      "Episode:621 meanR:-125.7069 R:-103.0439 gloss:-766443.1875 dloss:2.2544 exploreP:0.6992\n",
      "Episode:622 meanR:-126.3654 R:-182.2379 gloss:-762407.3125 dloss:2.8230 exploreP:0.6982\n",
      "Episode:623 meanR:-126.4623 R:-124.2708 gloss:-1239358.3750 dloss:12.2653 exploreP:0.6980\n",
      "Episode:624 meanR:-126.3180 R:-105.8109 gloss:-1693497.5000 dloss:48.1050 exploreP:0.6979\n",
      "Episode:625 meanR:-126.0496 R:-80.4004 gloss:-1444561.5000 dloss:28.8297 exploreP:0.6968\n",
      "Episode:626 meanR:-126.2148 R:-141.3599 gloss:-793468.2500 dloss:0.3848 exploreP:0.6963\n",
      "Episode:627 meanR:-125.8730 R:-71.5389 gloss:-1042591.3750 dloss:6.2688 exploreP:0.6952\n"
     ]
    }
   ],
   "source": [
    "# Save/load the model and save for plotting\n",
    "saver = tf.train.Saver()\n",
    "episode_rewards_list, rewards_list, gloss_list, dloss_list = [], [], [], []\n",
    "\n",
    "# TF session for training\n",
    "with tf.Session(graph=graph) as sess:\n",
    "    sess.run(tf.global_variables_initializer())\n",
    "    saver.restore(sess, 'checkpoints/model2.ckpt')    \n",
    "    #saver.restore(sess, tf.train.latest_checkpoint('checkpoints'))\n",
    "    total_step = 0 # Explore or exploit parameter\n",
    "    episode_reward = deque(maxlen=100) # 100 episodes average/running average/running mean/window\n",
    "    \n",
    "    # Training episodes/epochs\n",
    "    for ep in range(11111):\n",
    "        total_reward = 0\n",
    "        gloss_batch, dloss_batch = [], []\n",
    "        state = env.reset()\n",
    "\n",
    "        # Training steps/batches\n",
    "        while True:\n",
    "            # Explore (Env) or Exploit (Model)\n",
    "            total_step += 0.01\n",
    "            explore_p = explore_stop + (explore_start - explore_stop) * np.exp(-decay_rate * total_step) \n",
    "            if explore_p > np.random.rand():\n",
    "                action = env.action_space.sample()\n",
    "            else:\n",
    "                action_logits = sess.run(model.actions_logits, feed_dict={model.states: state.reshape([1, -1])})\n",
    "                action = np.reshape(action_logits, [-1]) # For continuous action space\n",
    "                #action = np.argmax(action_logits) # For discrete action space\n",
    "            next_state, reward, done, _ = env.step(action)\n",
    "            memory.buffer.append([state, action, next_state, reward, float(done)])\n",
    "            total_reward += reward\n",
    "            state = next_state\n",
    "\n",
    "            # Training\n",
    "            #batch = memory.sample(batch_size)\n",
    "            batch = memory.buffer\n",
    "            states = np.array([each[0] for each in batch])\n",
    "            actions = np.array([each[1] for each in batch])\n",
    "            next_states = np.array([each[2] for each in batch])\n",
    "            rewards = np.array([each[3] for each in batch])\n",
    "            dones = np.array([each[4] for each in batch])\n",
    "            nextQs_logits = sess.run(model.Qs_logits, feed_dict = {model.states: next_states})\n",
    "            #nextQs = np.max(nextQs_logits, axis=1) * (1-dones)\n",
    "            nextQs = nextQs_logits.reshape([-1]) * (1-dones)\n",
    "            targetQs = rewards + (gamma * nextQs)\n",
    "            gloss, dloss, _, _ = sess.run([model.g_loss, model.d_loss, model.g_opt, model.d_opt],\n",
    "                                            feed_dict = {model.states: states, \n",
    "                                                         model.actions: actions,\n",
    "                                                         model.targetQs: targetQs})\n",
    "            gloss_batch.append(gloss)\n",
    "            dloss_batch.append(dloss)\n",
    "            if done is True:\n",
    "                break\n",
    "                \n",
    "        episode_reward.append(total_reward)\n",
    "        print('Episode:{}'.format(ep),\n",
    "              'meanR:{:.4f}'.format(np.mean(episode_reward)),\n",
    "              'R:{:.4f}'.format(total_reward),\n",
    "              'gloss:{:.4f}'.format(np.mean(gloss_batch)),\n",
    "              'dloss:{:.4f}'.format(np.mean(dloss_batch)),\n",
    "              'exploreP:{:.4f}'.format(explore_p))\n",
    "        # Ploting out\n",
    "        episode_rewards_list.append([ep, np.mean(episode_reward)])\n",
    "        rewards_list.append([ep, total_reward])\n",
    "        gloss_list.append([ep, np.mean(gloss_batch)])\n",
    "        dloss_list.append([ep, np.mean(dloss_batch)])\n",
    "        # Break episode/epoch loop\n",
    "        if np.mean(episode_reward) <= -200:\n",
    "            break\n",
    "            \n",
    "    # At the end of all training episodes/epochs\n",
    "    saver.save(sess, 'checkpoints/model2.ckpt')"
   ]
  },
  {
   "cell_type": "markdown",
   "metadata": {},
   "source": [
    "# Visualizing training\n",
    "\n",
    "Below I'll plot the total rewards for each episode. I'm plotting the rolling average too, in blue."
   ]
  },
  {
   "cell_type": "code",
   "execution_count": 103,
   "metadata": {},
   "outputs": [],
   "source": [
    "import matplotlib.pyplot as plt\n",
    "%matplotlib inline\n",
    "\n",
    "def running_mean(x, N):\n",
    "    cumsum = np.cumsum(np.insert(x, 0, 0)) \n",
    "    return (cumsum[N:] - cumsum[:-N]) / N "
   ]
  },
  {
   "cell_type": "code",
   "execution_count": 106,
   "metadata": {},
   "outputs": [
    {
     "data": {
      "text/plain": [
       "Text(0,0.5,'Total rewards')"
      ]
     },
     "execution_count": 106,
     "metadata": {},
     "output_type": "execute_result"
    },
    {
     "data": {
      "image/png": "[encoded data removed]",
      "text/plain": [
       "<Figure size 432x288 with 1 Axes>"
      ]
     },
     "metadata": {},
     "output_type": "display_data"
    }
   ],
   "source": [
    "eps, arr = np.array(episode_rewards_list).T\n",
    "smoothed_arr = running_mean(arr, 10)\n",
    "plt.plot(eps[-len(smoothed_arr):], smoothed_arr)\n",
    "plt.plot(eps, arr, color='grey', alpha=0.3)\n",
    "plt.xlabel('Episode')\n",
    "plt.ylabel('Total rewards')"
   ]
  },
  {
   "cell_type": "code",
   "execution_count": 107,
   "metadata": {},
   "outputs": [
    {
     "data": {
      "text/plain": [
       "Text(0,0.5,'Total rewards')"
      ]
     },
     "execution_count": 107,
     "metadata": {},
     "output_type": "execute_result"
    },
    {
     "data": {
      "image/png": "[encoded data removed]",
      "text/plain": [
       "<Figure size 432x288 with 1 Axes>"
      ]
     },
     "metadata": {},
     "output_type": "display_data"
    }
   ],
   "source": [
    "eps, arr = np.array(rewards_list).T\n",
    "smoothed_arr = running_mean(arr, 10)\n",
    "plt.plot(eps[-len(smoothed_arr):], smoothed_arr)\n",
    "plt.plot(eps, arr, color='grey', alpha=0.3)\n",
    "plt.xlabel('Episode')\n",
    "plt.ylabel('Total rewards')"
   ]
  },
  {
   "cell_type": "code",
   "execution_count": 108,
   "metadata": {},
   "outputs": [
    {
     "data": {
      "text/plain": [
       "Text(0,0.5,'G losses')"
      ]
     },
     "execution_count": 108,
     "metadata": {},
     "output_type": "execute_result"
    },
    {
     "data": {
      "image/png": "[encoded data removed]",
      "text/plain": [
       "<Figure size 432x288 with 1 Axes>"
      ]
     },
     "metadata": {},
     "output_type": "display_data"
    }
   ],
   "source": [
    "eps, arr = np.array(gloss_list).T\n",
    "smoothed_arr = running_mean(arr, 10)\n",
    "plt.plot(eps[-len(smoothed_arr):], smoothed_arr)\n",
    "plt.plot(eps, arr, color='grey', alpha=0.3)\n",
    "plt.xlabel('Episode')\n",
    "plt.ylabel('G losses')"
   ]
  },
  {
   "cell_type": "code",
   "execution_count": 109,
   "metadata": {},
   "outputs": [
    {
     "data": {
      "text/plain": [
       "Text(0,0.5,'D losses')"
      ]
     },
     "execution_count": 109,
     "metadata": {},
     "output_type": "execute_result"
    },
    {
     "data": {
      "image/png": "[encoded data removed]",
      "text/plain": [
       "<Figure size 432x288 with 1 Axes>"
      ]
     },
     "metadata": {},
     "output_type": "display_data"
    }
   ],
   "source": [
    "eps, arr = np.array(dloss_list).T\n",
    "smoothed_arr = running_mean(arr, 10)\n",
    "plt.plot(eps[-len(smoothed_arr):], smoothed_arr)\n",
    "plt.plot(eps, arr, color='grey', alpha=0.3)\n",
    "plt.xlabel('Episode')\n",
    "plt.ylabel('D losses')"
   ]
  },
  {
   "cell_type": "markdown",
   "metadata": {},
   "source": [
    "## Testing\n",
    "\n",
    "Let's checkout how our trained agent plays the game."
   ]
  },
  {
   "cell_type": "code",
   "execution_count": 112,
   "metadata": {},
   "outputs": [
    {
     "name": "stderr",
     "output_type": "stream",
     "text": [
      "/home/arasdar/anaconda3/envs/env/lib/python3.6/site-packages/gym/__init__.py:22: UserWarning: DEPRECATION WARNING: to improve load times, gym no longer automatically loads gym.spaces. Please run \"import gym.spaces\" to load gym.spaces on your own. This warning will turn into an error in a future version of gym.\n",
      "  warnings.warn('DEPRECATION WARNING: to improve load times, gym no longer automatically loads gym.spaces. Please run \"import gym.spaces\" to load gym.spaces on your own. This warning will turn into an error in a future version of gym.')\n"
     ]
    },
    {
     "name": "stdout",
     "output_type": "stream",
     "text": [
      "\u001b[33mWARN: gym.spaces.Box autodetected dtype as <class 'numpy.float32'>. Please provide explicit dtype.\u001b[0m\n",
      "\u001b[33mWARN: gym.spaces.Box autodetected dtype as <class 'numpy.float32'>. Please provide explicit dtype.\u001b[0m\n",
      "INFO:tensorflow:Restoring parameters from checkpoints/model2.ckpt\n",
      "total_reward: -180.71856785841393\n"
     ]
    }
   ],
   "source": [
    "import gym\n",
    "env = gym.make('BipedalWalker-v2')\n",
    "\n",
    "with tf.Session() as sess:\n",
    "    sess.run(tf.global_variables_initializer())\n",
    "    saver.restore(sess, 'checkpoints/model2.ckpt')    \n",
    "    #saver.restore(sess, tf.train.latest_checkpoint('checkpoints'))\n",
    "    \n",
    "    # Episodes/epochs\n",
    "    for _ in range(1):\n",
    "        state = env.reset()\n",
    "        total_reward = 0\n",
    "\n",
    "        # Steps/batches\n",
    "        while True:\n",
    "            env.render()\n",
    "            action_logits = sess.run(model.actions_logits, feed_dict={model.states: state.reshape([1, -1])})\n",
    "            action = np.reshape(action_logits, [-1]) # For continuous action space\n",
    "            #action = np.argmax(action_logits)\n",
    "            state, reward, done, _ = env.step(action)\n",
    "            total_reward += reward\n",
    "            if done:\n",
    "                print('total_reward: {}'.format(total_reward))\n",
    "                break\n",
    "                \n",
    "env.close()"
   ]
  },
  {
   "cell_type": "markdown",
   "metadata": {},
   "source": [
    "## Extending this\n",
    "\n",
    "So, Cart-Pole is a pretty simple game. However, the same model can be used to train an agent to play something much more complicated like Pong or Space Invaders. Instead of a state like we're using here though, you'd want to use convolutional layers to get the state from the screen images.\n",
    "\n",
    "![Deep Q-Learning Atari](assets/atari-network.png)\n",
    "\n",
    "I'll leave it as a challenge for you to use deep Q-learning to train an agent to play Atari games. Here's the original paper which will get you started: http://www.davidqiu.com:8888/research/nature14236.pdf."
   ]
  },
  {
   "cell_type": "code",
   "execution_count": null,
   "metadata": {},
   "outputs": [],
   "source": []
  }
 ],
 "metadata": {
  "kernelspec": {
   "display_name": "Python 3",
   "language": "python",
   "name": "python3"
  },
  "language_info": {
   "codemirror_mode": {
    "name": "ipython",
    "version": 3
   },
   "file_extension": ".py",
   "mimetype": "text/x-python",
   "name": "python",
   "nbconvert_exporter": "python",
   "pygments_lexer": "ipython3",
   "version": "3.6.5"
  }
 },
 "nbformat": 4,
 "nbformat_minor": 2
}
