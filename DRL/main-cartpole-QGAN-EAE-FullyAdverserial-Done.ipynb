{
 "cells": [
  {
   "cell_type": "code",
   "execution_count": 1,
   "metadata": {},
   "outputs": [
    {
     "name": "stdout",
     "output_type": "stream",
     "text": [
      "TensorFlow Version: 1.7.1\n",
      "Default GPU Device: \n"
     ]
    }
   ],
   "source": [
    "import tensorflow as tf\n",
    "print('TensorFlow Version: {}'.format(tf.__version__))\n",
    "print('Default GPU Device: {}'.format(tf.test.gpu_device_name()))"
   ]
  },
  {
   "cell_type": "markdown",
   "metadata": {},
   "source": [
    "##### >**Note:** Make sure you have OpenAI Gym cloned. Then run this command `pip install -e gym/[all]`."
   ]
  },
  {
   "cell_type": "code",
   "execution_count": 2,
   "metadata": {},
   "outputs": [],
   "source": [
    "import numpy as np\n",
    "import gym\n",
    "env = gym.make('CartPole-v0')\n",
    "env = gym.make('CartPole-v1')"
   ]
  },
  {
   "cell_type": "code",
   "execution_count": 3,
   "metadata": {},
   "outputs": [],
   "source": [
    "def model_input(state_size):\n",
    "    #states = tf.placeholder(tf.float32, [None, *state_size], name='states')\n",
    "    states = tf.placeholder(tf.float32, [None, state_size], name='states')\n",
    "    actions = tf.placeholder(tf.int32, [None], name='actions')\n",
    "    next_states = tf.placeholder(tf.float32, [None, state_size], name='next_states')\n",
    "    rewards = tf.placeholder(tf.float32, [None], name='rewards')\n",
    "    dones = tf.placeholder(tf.float32, [None], name='dones')\n",
    "    rates = tf.placeholder(tf.float32, [None], name='rates') # success rate\n",
    "    return states, actions, next_states, rewards, dones, rates"
   ]
  },
  {
   "cell_type": "code",
   "execution_count": 4,
   "metadata": {},
   "outputs": [],
   "source": [
    "def Act(states, action_size, hidden_size, reuse=False, alpha=0.1, training=False):\n",
    "    with tf.variable_scope('Act', reuse=reuse):\n",
    "        # First fully connected layer\n",
    "        h1 = tf.layers.dense(inputs=states, units=hidden_size)\n",
    "        bn1 = tf.layers.batch_normalization(h1, training=training)        \n",
    "        nl1 = tf.maximum(alpha * bn1, bn1)\n",
    "        \n",
    "        # Second fully connected layer\n",
    "        h2 = tf.layers.dense(inputs=nl1, units=hidden_size)\n",
    "        bn2 = tf.layers.batch_normalization(h2, training=training)        \n",
    "        nl2 = tf.maximum(alpha * bn2, bn2)\n",
    "        \n",
    "        # Output layer\n",
    "        logits = tf.layers.dense(inputs=nl2, units=action_size)        \n",
    "        return logits"
   ]
  },
  {
   "cell_type": "code",
   "execution_count": 5,
   "metadata": {},
   "outputs": [],
   "source": [
    "def Env(states, actions, state_size, action_size, hidden_size, reuse=False, alpha=0.1, training=False):\n",
    "    with tf.variable_scope('Env', reuse=reuse):\n",
    "        # First fully connected layer\n",
    "        h1 = tf.layers.dense(inputs=states, units=action_size)\n",
    "        bn1 = tf.layers.batch_normalization(h1, training=training)        \n",
    "        nl1 = tf.maximum(alpha * bn1, bn1)\n",
    "        \n",
    "        # Second fully connected layer\n",
    "        nl1_fused = tf.concat(axis=1, values=[nl1, actions])\n",
    "        h2 = tf.layers.dense(inputs=nl1_fused, units=hidden_size)\n",
    "        bn2 = tf.layers.batch_normalization(h2, training=training)        \n",
    "        nl2 = tf.maximum(alpha * bn2, bn2)\n",
    "                \n",
    "        # Output layer\n",
    "        states_logits = tf.layers.dense(inputs=nl2, units=state_size, trainable=False)\n",
    "        Qlogits = tf.layers.dense(inputs=nl2, units=1, trainable=False)\n",
    "        return states_logits, Qlogits"
   ]
  },
  {
   "cell_type": "code",
   "execution_count": 6,
   "metadata": {},
   "outputs": [],
   "source": [
    "def model_loss(state_size, action_size, hidden_size, gamma,\n",
    "               states, actions, next_states, rewards, dones, rates):\n",
    "    ################################################ a = act(s)\n",
    "    actions_logits = Act(states=states, hidden_size=hidden_size, action_size=action_size)\n",
    "    actions_labels = tf.one_hot(indices=actions, depth=action_size, dtype=actions_logits.dtype)\n",
    "    aloss = tf.reduce_mean(tf.nn.softmax_cross_entropy_with_logits_v2(logits=actions_logits, \n",
    "                                                                      labels=actions_labels))\n",
    "    ################################################ s', r = env(s, a)\n",
    "    ################################################ s', Q = env(s, a)\n",
    "    ################################################ ~s', ~Q = env(s, ~a)\n",
    "    e_next_states_logits, eQs = Env(actions=actions_labels, states=states, hidden_size=hidden_size, \n",
    "                                    action_size=action_size, state_size=state_size)\n",
    "    a_next_states_logits, aQs = Env(actions=actions_logits, states=states, hidden_size=hidden_size, \n",
    "                                    action_size=action_size, state_size=state_size, reuse=True)\n",
    "    next_states_labels = tf.nn.sigmoid(next_states)\n",
    "    eloss = tf.reduce_mean(tf.nn.sigmoid_cross_entropy_with_logits(logits=e_next_states_logits, \n",
    "                                                                   labels=next_states_labels))\n",
    "    eloss += -tf.reduce_mean(tf.nn.sigmoid_cross_entropy_with_logits(logits=a_next_states_logits, \n",
    "                                                                     labels=next_states_labels)) # maximize loss\n",
    "    aloss2 = tf.reduce_mean(tf.nn.sigmoid_cross_entropy_with_logits(logits=a_next_states_logits, \n",
    "                                                                    labels=next_states_labels)) # minimize loss\n",
    "    eQs_logits = tf.reshape(eQs, shape=[-1])\n",
    "    aQs_logits = tf.reshape(aQs, shape=[-1])\n",
    "    #################################################### s'', Q' = ~env(s', ~a')\n",
    "    next_actions_logits = Act(states=next_states, hidden_size=hidden_size, action_size=action_size, reuse=True)\n",
    "    _, aQs2 = Env(actions=next_actions_logits, states=next_states, hidden_size=hidden_size, \n",
    "                  action_size=action_size, state_size=state_size, reuse=True)\n",
    "    aQs2_logits = tf.reshape(aQs2, shape=[-1]) * (1-dones)\n",
    "    eloss += tf.reduce_mean(tf.nn.sigmoid_cross_entropy_with_logits(logits=eQs_logits, # GAN\n",
    "                                                                    labels=rates)) # 0-1 real\n",
    "    eloss += tf.reduce_mean(tf.nn.sigmoid_cross_entropy_with_logits(logits=(aQs_logits+aQs2_logits)/2, # GAN\n",
    "                                                                    labels=tf.zeros_like(rates))) # min\n",
    "    aloss2 += tf.reduce_mean(tf.nn.sigmoid_cross_entropy_with_logits(logits=(aQs_logits+aQs2_logits)/2, # GAN\n",
    "                                                                     labels=tf.ones_like(rates))) # max\n",
    "#     ###################################################### Q(s,a)= r + Q'(s',a') # max\n",
    "#     ###################################################### ~Q(s,~a)= r # min\n",
    "#     ###################################################### ~Q(s,~a)= r + Q'(s',a') # max\n",
    "#     targetQs = rewards + (gamma * aQs2_logits)\n",
    "#     eloss += tf.reduce_mean(tf.square(eQs_logits - targetQs)) # real\n",
    "#     eloss += tf.reduce_mean((aQs_logits+aQs2_logits)/2) # min\n",
    "#     aloss2 += -tf.reduce_mean((aQs_logits+aQs2_logits)/2) # max\n",
    "    return actions_logits, aloss, eloss, aloss2"
   ]
  },
  {
   "cell_type": "code",
   "execution_count": 7,
   "metadata": {},
   "outputs": [],
   "source": [
    "def model_opt(a_loss, e_loss, a_loss2, a_learning_rate, e_learning_rate):\n",
    "    # Get weights and bias to update\n",
    "    t_vars = tf.trainable_variables()\n",
    "    a_vars = [var for var in t_vars if var.name.startswith('Act')]\n",
    "    e_vars = [var for var in t_vars if var.name.startswith('Env')]\n",
    "\n",
    "    # Optimize\n",
    "    with tf.control_dependencies(tf.get_collection(tf.GraphKeys.UPDATE_OPS)): # Required for batchnorm (BN)\n",
    "        a_opt = tf.train.AdamOptimizer(a_learning_rate).minimize(a_loss, var_list=a_vars)\n",
    "        e_opt = tf.train.AdamOptimizer(e_learning_rate).minimize(e_loss, var_list=e_vars)\n",
    "        a_opt2 = tf.train.AdamOptimizer(a_learning_rate).minimize(a_loss2, var_list=a_vars)\n",
    "    return a_opt, e_opt, a_opt2"
   ]
  },
  {
   "cell_type": "code",
   "execution_count": 8,
   "metadata": {},
   "outputs": [],
   "source": [
    "class Model:\n",
    "    def __init__(self, state_size, action_size, hidden_size, a_learning_rate, e_learning_rate, gamma):\n",
    "\n",
    "        # Data of the Model: make the data available inside the framework\n",
    "        self.states, self.actions, self.next_states, self.rewards, self.dones, self.rates = model_input(\n",
    "            state_size=state_size)\n",
    "\n",
    "        # Create the Model: calculating the loss and forwad pass\n",
    "        self.actions_logits, self.a_loss, self.e_loss, self.a_loss2 = model_loss(\n",
    "            state_size=state_size, action_size=action_size, hidden_size=hidden_size, gamma=gamma, # model init\n",
    "            states=self.states, actions=self.actions, next_states=self.next_states, \n",
    "            rewards=self.rewards, dones=self.dones, rates=self.rates) # model input\n",
    "        \n",
    "        # Update the model: backward pass and backprop\n",
    "        self.a_opt, self.e_opt, self.a_opt2 = model_opt(a_loss=self.a_loss, \n",
    "                                                        e_loss=self.e_loss,\n",
    "                                                        a_loss2=self.a_loss2, \n",
    "                                                        a_learning_rate=a_learning_rate,\n",
    "                                                        e_learning_rate=e_learning_rate)"
   ]
  },
  {
   "cell_type": "code",
   "execution_count": 9,
   "metadata": {},
   "outputs": [],
   "source": [
    "from collections import deque\n",
    "class Memory():\n",
    "    def __init__(self, max_size = 1000):\n",
    "        self.buffer = deque(maxlen=max_size) # data batch\n",
    "#     def sample(self, batch_size):\n",
    "#         idx = np.random.choice(np.arange(len(self.buffer)), size=batch_size, replace=False)\n",
    "#         return [self.buffer[ii] for ii in idx]"
   ]
  },
  {
   "cell_type": "markdown",
   "metadata": {},
   "source": [
    "## Hyperparameters\n",
    "\n",
    "One of the more difficult aspects of reinforcememt learning are the large number of hyperparameters. Not only are we tuning the network, but we're tuning the simulation."
   ]
  },
  {
   "cell_type": "code",
   "execution_count": 10,
   "metadata": {},
   "outputs": [
    {
     "data": {
      "text/plain": [
       "(Box(4,), Discrete(2))"
      ]
     },
     "execution_count": 10,
     "metadata": {},
     "output_type": "execute_result"
    }
   ],
   "source": [
    "env.observation_space, env.action_space"
   ]
  },
  {
   "cell_type": "code",
   "execution_count": 11,
   "metadata": {},
   "outputs": [],
   "source": [
    "# Exploration parameters\n",
    "explore_start = 1.0            # exploration probability at start\n",
    "explore_stop = 0.01           # minimum exploration probability \n",
    "decay_rate = 0.0001            # exponential decay rate for exploration prob\n",
    "\n",
    "# Network parameters\n",
    "state_size = 4\n",
    "action_size = 2\n",
    "hidden_size = 4*2             # number of units in each Q-network hidden layer\n",
    "a_learning_rate = 1e-4         # Q-network learning rate\n",
    "e_learning_rate = 1e-4         # Q-network learning rate\n",
    "\n",
    "# Memory parameters\n",
    "memory_size = int(1e5)            # memory capacity\n",
    "batch_size = int(1e3)             # experience mini-batch size\n",
    "gamma=0.99"
   ]
  },
  {
   "cell_type": "code",
   "execution_count": 12,
   "metadata": {},
   "outputs": [],
   "source": [
    "# Reset/init the graph/session\n",
    "graph = tf.reset_default_graph()\n",
    "\n",
    "# Init the model\n",
    "model = Model(action_size=action_size, state_size=state_size, hidden_size=hidden_size, gamma=gamma,\n",
    "              a_learning_rate=a_learning_rate, e_learning_rate=e_learning_rate)\n",
    "\n",
    "# Init the memory\n",
    "memory = Memory(max_size=memory_size)"
   ]
  },
  {
   "cell_type": "code",
   "execution_count": 13,
   "metadata": {},
   "outputs": [],
   "source": [
    "state = env.reset()\n",
    "total_reward = 0\n",
    "num_step = 0\n",
    "for _ in range(memory_size):\n",
    "    action = env.action_space.sample()\n",
    "    next_state, reward, done, _ = env.step(action)\n",
    "    rate = -1\n",
    "    memory.buffer.append([state, action, next_state, reward, float(done), rate])\n",
    "    num_step += 1 # memory incremented\n",
    "    total_reward += reward\n",
    "    state = next_state\n",
    "    if done is True:\n",
    "        rate = total_reward/500\n",
    "        for idx in range(num_step): # episode length\n",
    "            if memory.buffer[-1-idx][-1] == -1:\n",
    "                memory.buffer[-1-idx][-1] = rate\n",
    "        state = env.reset()\n",
    "        total_reward = 0 # reset\n",
    "        num_step = 0 # reset"
   ]
  },
  {
   "cell_type": "markdown",
   "metadata": {},
   "source": [
    "## Training the model\n",
    "\n",
    "Below we'll train our agent. If you want to watch it train, uncomment the `env.render()` line. This is slow because it's rendering the frames slower than the network can train. But, it's cool to watch the agent get better at the game."
   ]
  },
  {
   "cell_type": "code",
   "execution_count": null,
   "metadata": {},
   "outputs": [
    {
     "name": "stdout",
     "output_type": "stream",
     "text": [
      "Episode:0 meanR:22.0000 R:22.0000 rate:0.0440 aloss:0.6922 eloss:1.4337 aloss2:1.3301 exploreP:0.9978\n",
      "Episode:1 meanR:20.5000 R:19.0000 rate:0.0380 aloss:0.6921 eloss:1.4111 aloss2:1.3433 exploreP:0.9959\n",
      "Episode:2 meanR:32.0000 R:55.0000 rate:0.1100 aloss:0.6909 eloss:1.4137 aloss2:1.3373 exploreP:0.9905\n",
      "Episode:3 meanR:30.0000 R:24.0000 rate:0.0480 aloss:0.6889 eloss:1.4132 aloss2:1.3353 exploreP:0.9882\n",
      "Episode:4 meanR:32.2000 R:41.0000 rate:0.0820 aloss:0.6892 eloss:1.4185 aloss2:1.3259 exploreP:0.9842\n",
      "Episode:5 meanR:33.1667 R:38.0000 rate:0.0760 aloss:0.6898 eloss:1.4136 aloss2:1.3246 exploreP:0.9805\n",
      "Episode:6 meanR:31.0000 R:18.0000 rate:0.0360 aloss:0.6904 eloss:1.4090 aloss2:1.3268 exploreP:0.9787\n",
      "Episode:7 meanR:37.5000 R:83.0000 rate:0.1660 aloss:0.6871 eloss:1.3977 aloss2:1.3261 exploreP:0.9707\n",
      "Episode:8 meanR:38.1111 R:43.0000 rate:0.0860 aloss:0.6898 eloss:1.3981 aloss2:1.3210 exploreP:0.9666\n",
      "Episode:9 meanR:36.0000 R:17.0000 rate:0.0340 aloss:0.6909 eloss:1.3910 aloss2:1.3206 exploreP:0.9650\n",
      "Episode:10 meanR:37.6364 R:54.0000 rate:0.1080 aloss:0.6911 eloss:1.3852 aloss2:1.3242 exploreP:0.9599\n",
      "Episode:11 meanR:35.8333 R:16.0000 rate:0.0320 aloss:0.6879 eloss:1.3841 aloss2:1.3258 exploreP:0.9583\n",
      "Episode:12 meanR:34.8462 R:23.0000 rate:0.0460 aloss:0.6807 eloss:1.3329 aloss2:1.3655 exploreP:0.9562\n",
      "Episode:13 meanR:33.6429 R:18.0000 rate:0.0360 aloss:0.6896 eloss:1.3586 aloss2:1.3402 exploreP:0.9545\n",
      "Episode:14 meanR:33.8667 R:37.0000 rate:0.0740 aloss:0.6869 eloss:1.3474 aloss2:1.3508 exploreP:0.9510\n",
      "Episode:15 meanR:34.1250 R:38.0000 rate:0.0760 aloss:0.6819 eloss:1.3163 aloss2:1.3774 exploreP:0.9474\n",
      "Episode:16 meanR:32.8824 R:13.0000 rate:0.0260 aloss:0.6850 eloss:1.3120 aloss2:1.3706 exploreP:0.9462\n",
      "Episode:17 meanR:31.7778 R:13.0000 rate:0.0260 aloss:0.6833 eloss:1.3155 aloss2:1.3714 exploreP:0.9450\n",
      "Episode:18 meanR:31.0526 R:18.0000 rate:0.0360 aloss:0.6899 eloss:1.2595 aloss2:1.4327 exploreP:0.9433\n",
      "Episode:19 meanR:31.1000 R:32.0000 rate:0.0640 aloss:0.6837 eloss:1.2778 aloss2:1.4036 exploreP:0.9403\n",
      "Episode:20 meanR:30.4762 R:18.0000 rate:0.0360 aloss:0.6824 eloss:1.2738 aloss2:1.4018 exploreP:0.9386\n",
      "Episode:21 meanR:30.0000 R:20.0000 rate:0.0400 aloss:0.6928 eloss:1.2711 aloss2:1.4080 exploreP:0.9368\n",
      "Episode:22 meanR:30.0870 R:32.0000 rate:0.0640 aloss:0.6837 eloss:1.2346 aloss2:1.4408 exploreP:0.9338\n",
      "Episode:23 meanR:29.2083 R:9.0000 rate:0.0180 aloss:0.6846 eloss:1.2351 aloss2:1.4304 exploreP:0.9330\n",
      "Episode:24 meanR:28.8800 R:21.0000 rate:0.0420 aloss:0.6881 eloss:1.2217 aloss2:1.4481 exploreP:0.9310\n",
      "Episode:25 meanR:28.2308 R:12.0000 rate:0.0240 aloss:0.6818 eloss:1.2139 aloss2:1.4695 exploreP:0.9299\n",
      "Episode:26 meanR:28.7407 R:42.0000 rate:0.0840 aloss:0.6914 eloss:1.2076 aloss2:1.4671 exploreP:0.9261\n",
      "Episode:27 meanR:28.5714 R:24.0000 rate:0.0480 aloss:0.6842 eloss:1.1568 aloss2:1.5130 exploreP:0.9239\n",
      "Episode:28 meanR:28.3103 R:21.0000 rate:0.0420 aloss:0.6985 eloss:1.1144 aloss2:1.5770 exploreP:0.9220\n",
      "Episode:29 meanR:27.9000 R:16.0000 rate:0.0320 aloss:0.6973 eloss:1.1743 aloss2:1.4927 exploreP:0.9205\n",
      "Episode:30 meanR:27.9032 R:28.0000 rate:0.0560 aloss:0.6910 eloss:1.1003 aloss2:1.5827 exploreP:0.9180\n",
      "Episode:31 meanR:28.6250 R:51.0000 rate:0.1020 aloss:0.6896 eloss:1.0992 aloss2:1.5573 exploreP:0.9133\n",
      "Episode:32 meanR:28.3333 R:19.0000 rate:0.0380 aloss:0.6810 eloss:1.0317 aloss2:1.6265 exploreP:0.9116\n",
      "Episode:33 meanR:28.5882 R:37.0000 rate:0.0740 aloss:0.6854 eloss:1.0662 aloss2:1.5910 exploreP:0.9083\n",
      "Episode:34 meanR:28.9429 R:41.0000 rate:0.0820 aloss:0.6945 eloss:1.0223 aloss2:1.6335 exploreP:0.9046\n",
      "Episode:35 meanR:28.5000 R:13.0000 rate:0.0260 aloss:0.6751 eloss:0.9660 aloss2:1.7094 exploreP:0.9035\n",
      "Episode:36 meanR:28.3784 R:24.0000 rate:0.0480 aloss:0.7045 eloss:1.0403 aloss2:1.6204 exploreP:0.9013\n",
      "Episode:37 meanR:28.4211 R:30.0000 rate:0.0600 aloss:0.7045 eloss:1.0203 aloss2:1.6439 exploreP:0.8987\n",
      "Episode:38 meanR:28.6410 R:37.0000 rate:0.0740 aloss:0.6908 eloss:1.0007 aloss2:1.6646 exploreP:0.8954\n",
      "Episode:39 meanR:28.2500 R:13.0000 rate:0.0260 aloss:0.7070 eloss:0.9708 aloss2:1.6837 exploreP:0.8942\n",
      "Episode:40 meanR:28.3659 R:33.0000 rate:0.0660 aloss:0.6794 eloss:0.9224 aloss2:1.7626 exploreP:0.8913\n",
      "Episode:41 meanR:28.1429 R:19.0000 rate:0.0380 aloss:0.6821 eloss:0.9386 aloss2:1.7366 exploreP:0.8896\n",
      "Episode:42 meanR:28.1163 R:27.0000 rate:0.0540 aloss:0.6889 eloss:0.9045 aloss2:1.7824 exploreP:0.8873\n",
      "Episode:43 meanR:28.0455 R:25.0000 rate:0.0500 aloss:0.7104 eloss:0.9366 aloss2:1.7385 exploreP:0.8851\n",
      "Episode:44 meanR:28.0222 R:27.0000 rate:0.0540 aloss:0.6847 eloss:0.9037 aloss2:1.7949 exploreP:0.8827\n",
      "Episode:45 meanR:28.0217 R:28.0000 rate:0.0560 aloss:0.7144 eloss:0.8938 aloss2:1.8033 exploreP:0.8803\n",
      "Episode:46 meanR:27.9574 R:25.0000 rate:0.0500 aloss:0.6915 eloss:0.8396 aloss2:1.8990 exploreP:0.8781\n",
      "Episode:47 meanR:27.6458 R:13.0000 rate:0.0260 aloss:0.7562 eloss:0.8062 aloss2:1.9279 exploreP:0.8770\n",
      "Episode:48 meanR:27.6327 R:27.0000 rate:0.0540 aloss:0.6879 eloss:0.8001 aloss2:1.9416 exploreP:0.8746\n",
      "Episode:49 meanR:27.5000 R:21.0000 rate:0.0420 aloss:0.7017 eloss:0.8203 aloss2:1.9225 exploreP:0.8728\n",
      "Episode:50 meanR:27.4314 R:24.0000 rate:0.0480 aloss:0.6816 eloss:0.8142 aloss2:1.9267 exploreP:0.8708\n",
      "Episode:51 meanR:27.6923 R:41.0000 rate:0.0820 aloss:0.7241 eloss:0.7835 aloss2:1.9995 exploreP:0.8672\n",
      "Episode:52 meanR:27.4717 R:16.0000 rate:0.0320 aloss:0.6976 eloss:0.7501 aloss2:2.0020 exploreP:0.8659\n",
      "Episode:53 meanR:27.4259 R:25.0000 rate:0.0500 aloss:0.7138 eloss:0.8111 aloss2:1.9337 exploreP:0.8637\n",
      "Episode:54 meanR:27.1636 R:13.0000 rate:0.0260 aloss:0.6944 eloss:0.8350 aloss2:1.8853 exploreP:0.8626\n",
      "Episode:55 meanR:27.2679 R:33.0000 rate:0.0660 aloss:0.6897 eloss:0.7325 aloss2:2.0607 exploreP:0.8598\n",
      "Episode:56 meanR:27.2456 R:26.0000 rate:0.0520 aloss:0.6978 eloss:0.7651 aloss2:1.9853 exploreP:0.8576\n",
      "Episode:57 meanR:27.0862 R:18.0000 rate:0.0360 aloss:0.6949 eloss:0.7814 aloss2:1.9713 exploreP:0.8561\n",
      "Episode:58 meanR:27.6780 R:62.0000 rate:0.1240 aloss:0.7061 eloss:0.7598 aloss2:2.0174 exploreP:0.8508\n",
      "Episode:59 meanR:27.6167 R:24.0000 rate:0.0480 aloss:0.6962 eloss:0.6994 aloss2:2.1739 exploreP:0.8488\n",
      "Episode:60 meanR:27.5082 R:21.0000 rate:0.0420 aloss:0.7093 eloss:0.7358 aloss2:2.0965 exploreP:0.8471\n",
      "Episode:61 meanR:27.2258 R:10.0000 rate:0.0200 aloss:0.6992 eloss:0.7483 aloss2:2.0364 exploreP:0.8462\n",
      "Episode:62 meanR:27.0794 R:18.0000 rate:0.0360 aloss:0.7253 eloss:0.7225 aloss2:2.1317 exploreP:0.8447\n",
      "Episode:63 meanR:26.9688 R:20.0000 rate:0.0400 aloss:0.7017 eloss:0.7850 aloss2:1.9966 exploreP:0.8431\n",
      "Episode:64 meanR:27.2000 R:42.0000 rate:0.0840 aloss:0.7082 eloss:0.7482 aloss2:2.0713 exploreP:0.8396\n",
      "Episode:65 meanR:27.8636 R:71.0000 rate:0.1420 aloss:0.7206 eloss:0.7390 aloss2:2.1054 exploreP:0.8337\n",
      "Episode:66 meanR:27.8806 R:29.0000 rate:0.0580 aloss:0.7172 eloss:0.6820 aloss2:2.1875 exploreP:0.8313\n",
      "Episode:67 meanR:27.7206 R:17.0000 rate:0.0340 aloss:0.7225 eloss:0.6832 aloss2:2.2367 exploreP:0.8299\n",
      "Episode:68 meanR:27.5797 R:18.0000 rate:0.0360 aloss:0.7280 eloss:0.6753 aloss2:2.2423 exploreP:0.8284\n",
      "Episode:69 meanR:27.3286 R:10.0000 rate:0.0200 aloss:0.7047 eloss:0.6535 aloss2:2.2471 exploreP:0.8276\n",
      "Episode:70 meanR:27.2535 R:22.0000 rate:0.0440 aloss:0.7113 eloss:0.6701 aloss2:2.2314 exploreP:0.8258\n",
      "Episode:71 meanR:27.2917 R:30.0000 rate:0.0600 aloss:0.7041 eloss:0.6775 aloss2:2.2754 exploreP:0.8234\n",
      "Episode:72 meanR:27.2329 R:23.0000 rate:0.0460 aloss:0.7311 eloss:0.7090 aloss2:2.1452 exploreP:0.8215\n",
      "Episode:73 meanR:27.0135 R:11.0000 rate:0.0220 aloss:0.6960 eloss:0.6474 aloss2:2.3052 exploreP:0.8206\n",
      "Episode:74 meanR:27.2533 R:45.0000 rate:0.0900 aloss:0.7160 eloss:0.6798 aloss2:2.2659 exploreP:0.8170\n",
      "Episode:75 meanR:27.3816 R:37.0000 rate:0.0740 aloss:0.7202 eloss:0.6783 aloss2:2.2211 exploreP:0.8140\n",
      "Episode:76 meanR:27.3506 R:25.0000 rate:0.0500 aloss:0.6942 eloss:0.6475 aloss2:2.3088 exploreP:0.8120\n",
      "Episode:77 meanR:27.2436 R:19.0000 rate:0.0380 aloss:0.6891 eloss:0.5963 aloss2:2.4589 exploreP:0.8105\n",
      "Episode:78 meanR:27.0506 R:12.0000 rate:0.0240 aloss:0.7152 eloss:0.6371 aloss2:2.4610 exploreP:0.8095\n",
      "Episode:79 meanR:27.0625 R:28.0000 rate:0.0560 aloss:0.6938 eloss:0.6341 aloss2:2.3669 exploreP:0.8073\n"
     ]
    },
    {
     "name": "stdout",
     "output_type": "stream",
     "text": [
      "Episode:80 meanR:26.9506 R:18.0000 rate:0.0360 aloss:0.6954 eloss:0.6128 aloss2:2.4410 exploreP:0.8058\n",
      "Episode:81 meanR:27.0732 R:37.0000 rate:0.0740 aloss:0.7052 eloss:0.6354 aloss2:2.3722 exploreP:0.8029\n",
      "Episode:82 meanR:27.1928 R:37.0000 rate:0.0740 aloss:0.7099 eloss:0.6702 aloss2:2.3541 exploreP:0.8000\n",
      "Episode:83 meanR:27.1429 R:23.0000 rate:0.0460 aloss:0.7075 eloss:0.6232 aloss2:2.4283 exploreP:0.7982\n",
      "Episode:84 meanR:27.0706 R:21.0000 rate:0.0420 aloss:0.6787 eloss:0.6290 aloss2:2.3999 exploreP:0.7965\n",
      "Episode:85 meanR:26.8721 R:10.0000 rate:0.0200 aloss:0.6793 eloss:0.6106 aloss2:2.4409 exploreP:0.7957\n",
      "Episode:86 meanR:26.9080 R:30.0000 rate:0.0600 aloss:0.7006 eloss:0.6318 aloss2:2.4069 exploreP:0.7934\n",
      "Episode:87 meanR:27.1364 R:47.0000 rate:0.0940 aloss:0.7188 eloss:0.6387 aloss2:2.4541 exploreP:0.7897\n",
      "Episode:88 meanR:27.1348 R:27.0000 rate:0.0540 aloss:0.6879 eloss:0.6581 aloss2:2.3596 exploreP:0.7876\n",
      "Episode:89 meanR:27.1889 R:32.0000 rate:0.0640 aloss:0.6900 eloss:0.5992 aloss2:2.5340 exploreP:0.7851\n",
      "Episode:90 meanR:27.0659 R:16.0000 rate:0.0320 aloss:0.7081 eloss:0.6358 aloss2:2.5448 exploreP:0.7839\n",
      "Episode:91 meanR:27.6522 R:81.0000 rate:0.1620 aloss:0.7142 eloss:0.6160 aloss2:2.4853 exploreP:0.7776\n",
      "Episode:92 meanR:27.6129 R:24.0000 rate:0.0480 aloss:0.6962 eloss:0.6076 aloss2:2.4779 exploreP:0.7758\n",
      "Episode:93 meanR:27.6064 R:27.0000 rate:0.0540 aloss:0.6776 eloss:0.5919 aloss2:2.7153 exploreP:0.7737\n",
      "Episode:94 meanR:27.7895 R:45.0000 rate:0.0900 aloss:0.7001 eloss:0.6145 aloss2:2.5684 exploreP:0.7703\n",
      "Episode:95 meanR:27.9271 R:41.0000 rate:0.0820 aloss:0.6908 eloss:0.6237 aloss2:2.5901 exploreP:0.7672\n",
      "Episode:96 meanR:28.2268 R:57.0000 rate:0.1140 aloss:0.6912 eloss:0.5776 aloss2:2.6272 exploreP:0.7629\n",
      "Episode:97 meanR:28.8061 R:85.0000 rate:0.1700 aloss:0.6889 eloss:0.5906 aloss2:2.6838 exploreP:0.7565\n",
      "Episode:98 meanR:28.9293 R:41.0000 rate:0.0820 aloss:0.6830 eloss:0.5907 aloss2:2.9452 exploreP:0.7535\n",
      "Episode:99 meanR:29.0600 R:42.0000 rate:0.0840 aloss:0.6820 eloss:0.5702 aloss2:2.6369 exploreP:0.7503\n",
      "Episode:100 meanR:29.5900 R:75.0000 rate:0.1500 aloss:0.6841 eloss:0.5849 aloss2:2.7840 exploreP:0.7448\n",
      "Episode:101 meanR:29.7100 R:31.0000 rate:0.0620 aloss:0.6825 eloss:0.6145 aloss2:2.5653 exploreP:0.7425\n",
      "Episode:102 meanR:29.3100 R:15.0000 rate:0.0300 aloss:0.6804 eloss:0.5668 aloss2:2.6627 exploreP:0.7414\n",
      "Episode:103 meanR:29.2600 R:19.0000 rate:0.0380 aloss:0.6856 eloss:0.5686 aloss2:2.7456 exploreP:0.7400\n",
      "Episode:104 meanR:29.0500 R:20.0000 rate:0.0400 aloss:0.6897 eloss:0.5779 aloss2:2.6953 exploreP:0.7386\n",
      "Episode:105 meanR:29.0500 R:38.0000 rate:0.0760 aloss:0.6842 eloss:0.5913 aloss2:2.6957 exploreP:0.7358\n",
      "Episode:106 meanR:29.4000 R:53.0000 rate:0.1060 aloss:0.6774 eloss:0.5425 aloss2:2.9388 exploreP:0.7320\n",
      "Episode:107 meanR:28.8300 R:26.0000 rate:0.0520 aloss:0.6810 eloss:0.5768 aloss2:2.8190 exploreP:0.7301\n",
      "Episode:108 meanR:28.6800 R:28.0000 rate:0.0560 aloss:0.6744 eloss:0.5530 aloss2:2.7930 exploreP:0.7281\n",
      "Episode:109 meanR:29.0400 R:53.0000 rate:0.1060 aloss:0.6798 eloss:0.5675 aloss2:2.8896 exploreP:0.7243\n",
      "Episode:110 meanR:29.1100 R:61.0000 rate:0.1220 aloss:0.6780 eloss:0.5637 aloss2:2.9407 exploreP:0.7200\n",
      "Episode:111 meanR:29.4400 R:49.0000 rate:0.0980 aloss:0.6779 eloss:0.5750 aloss2:2.8858 exploreP:0.7165\n",
      "Episode:112 meanR:29.3700 R:16.0000 rate:0.0320 aloss:0.6714 eloss:0.5631 aloss2:2.9690 exploreP:0.7154\n",
      "Episode:113 meanR:29.4100 R:22.0000 rate:0.0440 aloss:0.6790 eloss:0.5802 aloss2:2.9036 exploreP:0.7138\n",
      "Episode:114 meanR:29.7500 R:71.0000 rate:0.1420 aloss:0.6814 eloss:0.5631 aloss2:2.9919 exploreP:0.7088\n",
      "Episode:115 meanR:29.6100 R:24.0000 rate:0.0480 aloss:0.6810 eloss:0.6048 aloss2:2.9711 exploreP:0.7072\n",
      "Episode:116 meanR:29.9700 R:49.0000 rate:0.0980 aloss:0.6787 eloss:0.5204 aloss2:3.2147 exploreP:0.7037\n",
      "Episode:117 meanR:30.5700 R:73.0000 rate:0.1460 aloss:0.6790 eloss:0.5465 aloss2:3.1419 exploreP:0.6987\n",
      "Episode:118 meanR:30.5400 R:15.0000 rate:0.0300 aloss:0.6831 eloss:0.5362 aloss2:3.2708 exploreP:0.6977\n",
      "Episode:119 meanR:30.9000 R:68.0000 rate:0.1360 aloss:0.6816 eloss:0.5732 aloss2:3.0203 exploreP:0.6930\n",
      "Episode:120 meanR:30.9400 R:22.0000 rate:0.0440 aloss:0.6732 eloss:0.5329 aloss2:3.0341 exploreP:0.6915\n",
      "Episode:121 meanR:31.5400 R:80.0000 rate:0.1600 aloss:0.6829 eloss:0.5317 aloss2:3.1651 exploreP:0.6861\n",
      "Episode:122 meanR:31.5600 R:34.0000 rate:0.0680 aloss:0.6766 eloss:0.5618 aloss2:3.3006 exploreP:0.6838\n",
      "Episode:123 meanR:31.9500 R:48.0000 rate:0.0960 aloss:0.6762 eloss:0.5483 aloss2:3.1778 exploreP:0.6806\n",
      "Episode:124 meanR:32.0800 R:34.0000 rate:0.0680 aloss:0.6772 eloss:0.5509 aloss2:3.1511 exploreP:0.6783\n",
      "Episode:125 meanR:32.4100 R:45.0000 rate:0.0900 aloss:0.6748 eloss:0.5314 aloss2:3.2306 exploreP:0.6753\n",
      "Episode:126 meanR:32.1300 R:14.0000 rate:0.0280 aloss:0.6753 eloss:0.5191 aloss2:3.2784 exploreP:0.6743\n",
      "Episode:127 meanR:32.2200 R:33.0000 rate:0.0660 aloss:0.6805 eloss:0.5360 aloss2:3.0915 exploreP:0.6722\n",
      "Episode:128 meanR:32.8200 R:81.0000 rate:0.1620 aloss:0.6804 eloss:0.5147 aloss2:3.2240 exploreP:0.6668\n",
      "Episode:129 meanR:33.2700 R:61.0000 rate:0.1220 aloss:0.6753 eloss:0.5326 aloss2:3.2875 exploreP:0.6628\n",
      "Episode:130 meanR:33.1500 R:16.0000 rate:0.0320 aloss:0.6774 eloss:0.5286 aloss2:3.3503 exploreP:0.6618\n",
      "Episode:131 meanR:32.9400 R:30.0000 rate:0.0600 aloss:0.6795 eloss:0.5065 aloss2:3.2946 exploreP:0.6598\n",
      "Episode:132 meanR:33.0200 R:27.0000 rate:0.0540 aloss:0.6830 eloss:0.5156 aloss2:3.1626 exploreP:0.6581\n",
      "Episode:133 meanR:33.6400 R:99.0000 rate:0.1980 aloss:0.6755 eloss:0.5107 aloss2:3.3459 exploreP:0.6517\n",
      "Episode:134 meanR:33.4500 R:22.0000 rate:0.0440 aloss:0.6767 eloss:0.5518 aloss2:3.6462 exploreP:0.6503\n",
      "Episode:135 meanR:33.6200 R:30.0000 rate:0.0600 aloss:0.6749 eloss:0.5471 aloss2:3.5538 exploreP:0.6484\n",
      "Episode:136 meanR:33.6000 R:22.0000 rate:0.0440 aloss:0.6838 eloss:0.5801 aloss2:3.2159 exploreP:0.6470\n",
      "Episode:137 meanR:33.7300 R:43.0000 rate:0.0860 aloss:0.6786 eloss:0.5423 aloss2:3.5333 exploreP:0.6442\n",
      "Episode:138 meanR:33.8400 R:48.0000 rate:0.0960 aloss:0.6734 eloss:0.5121 aloss2:3.3841 exploreP:0.6412\n",
      "Episode:139 meanR:34.5500 R:84.0000 rate:0.1680 aloss:0.6807 eloss:0.5347 aloss2:3.4802 exploreP:0.6359\n",
      "Episode:140 meanR:34.3600 R:14.0000 rate:0.0280 aloss:0.7053 eloss:0.5645 aloss2:3.5947 exploreP:0.6350\n",
      "Episode:141 meanR:34.3200 R:15.0000 rate:0.0300 aloss:0.7001 eloss:0.5203 aloss2:3.5700 exploreP:0.6341\n",
      "Episode:142 meanR:34.1800 R:13.0000 rate:0.0260 aloss:0.6928 eloss:0.5313 aloss2:3.3820 exploreP:0.6333\n",
      "Episode:143 meanR:34.1100 R:18.0000 rate:0.0360 aloss:0.7052 eloss:0.5359 aloss2:3.5057 exploreP:0.6322\n",
      "Episode:144 meanR:34.5100 R:67.0000 rate:0.1340 aloss:0.7001 eloss:0.5062 aloss2:3.5112 exploreP:0.6280\n",
      "Episode:145 meanR:34.4200 R:19.0000 rate:0.0380 aloss:0.6921 eloss:0.5368 aloss2:3.3093 exploreP:0.6268\n",
      "Episode:146 meanR:34.4300 R:26.0000 rate:0.0520 aloss:0.6803 eloss:0.5308 aloss2:3.7265 exploreP:0.6252\n",
      "Episode:147 meanR:34.4300 R:13.0000 rate:0.0260 aloss:0.6895 eloss:0.5332 aloss2:3.6957 exploreP:0.6244\n",
      "Episode:148 meanR:35.1800 R:102.0000 rate:0.2040 aloss:0.7078 eloss:0.5268 aloss2:3.5580 exploreP:0.6182\n",
      "Episode:149 meanR:35.3800 R:41.0000 rate:0.0820 aloss:0.6794 eloss:0.5118 aloss2:3.5450 exploreP:0.6157\n",
      "Episode:150 meanR:35.3600 R:22.0000 rate:0.0440 aloss:0.6817 eloss:0.5191 aloss2:3.3517 exploreP:0.6144\n",
      "Episode:151 meanR:35.1000 R:15.0000 rate:0.0300 aloss:0.6996 eloss:0.5042 aloss2:3.5194 exploreP:0.6135\n",
      "Episode:152 meanR:35.0800 R:14.0000 rate:0.0280 aloss:0.6936 eloss:0.5281 aloss2:3.4032 exploreP:0.6126\n",
      "Episode:153 meanR:35.0700 R:24.0000 rate:0.0480 aloss:0.6913 eloss:0.5064 aloss2:3.5549 exploreP:0.6112\n",
      "Episode:154 meanR:35.7800 R:84.0000 rate:0.1680 aloss:0.6943 eloss:0.4984 aloss2:3.4877 exploreP:0.6062\n",
      "Episode:155 meanR:35.5600 R:11.0000 rate:0.0220 aloss:0.6910 eloss:0.5304 aloss2:3.4915 exploreP:0.6055\n",
      "Episode:156 meanR:35.4100 R:11.0000 rate:0.0220 aloss:0.6734 eloss:0.5327 aloss2:3.6187 exploreP:0.6048\n",
      "Episode:157 meanR:35.9200 R:69.0000 rate:0.1380 aloss:0.6937 eloss:0.4808 aloss2:3.5622 exploreP:0.6008\n",
      "Episode:158 meanR:36.8600 R:156.0000 rate:0.3120 aloss:0.6808 eloss:0.5029 aloss2:3.5620 exploreP:0.5916\n"
     ]
    },
    {
     "name": "stdout",
     "output_type": "stream",
     "text": [
      "Episode:159 meanR:36.9800 R:36.0000 rate:0.0720 aloss:0.6870 eloss:0.5333 aloss2:3.6090 exploreP:0.5895\n",
      "Episode:160 meanR:37.6000 R:83.0000 rate:0.1660 aloss:0.6984 eloss:0.5165 aloss2:3.6529 exploreP:0.5847\n",
      "Episode:161 meanR:37.9000 R:40.0000 rate:0.0800 aloss:0.6854 eloss:0.5381 aloss2:3.5750 exploreP:0.5824\n",
      "Episode:162 meanR:38.1900 R:47.0000 rate:0.0940 aloss:0.6920 eloss:0.5289 aloss2:3.6414 exploreP:0.5798\n",
      "Episode:163 meanR:38.4800 R:49.0000 rate:0.0980 aloss:0.6875 eloss:0.4977 aloss2:3.6231 exploreP:0.5770\n",
      "Episode:164 meanR:38.9100 R:85.0000 rate:0.1700 aloss:0.6765 eloss:0.5597 aloss2:3.6486 exploreP:0.5722\n",
      "Episode:165 meanR:38.7800 R:58.0000 rate:0.1160 aloss:0.6667 eloss:0.5580 aloss2:3.6729 exploreP:0.5689\n",
      "Episode:166 meanR:39.8200 R:133.0000 rate:0.2660 aloss:0.6872 eloss:0.5242 aloss2:3.6298 exploreP:0.5615\n",
      "Episode:167 meanR:40.4000 R:75.0000 rate:0.1500 aloss:0.6818 eloss:0.5330 aloss2:3.5809 exploreP:0.5574\n",
      "Episode:168 meanR:41.3800 R:116.0000 rate:0.2320 aloss:0.6756 eloss:0.5261 aloss2:3.5523 exploreP:0.5511\n",
      "Episode:169 meanR:41.4400 R:16.0000 rate:0.0320 aloss:0.6892 eloss:0.5549 aloss2:3.7383 exploreP:0.5502\n",
      "Episode:170 meanR:41.4400 R:22.0000 rate:0.0440 aloss:0.7040 eloss:0.5481 aloss2:3.8373 exploreP:0.5490\n",
      "Episode:171 meanR:42.4700 R:133.0000 rate:0.2660 aloss:0.6911 eloss:0.5185 aloss2:3.7053 exploreP:0.5419\n",
      "Episode:172 meanR:42.5500 R:31.0000 rate:0.0620 aloss:0.6897 eloss:0.5720 aloss2:3.6758 exploreP:0.5403\n",
      "Episode:173 meanR:43.7700 R:133.0000 rate:0.2660 aloss:0.6969 eloss:0.5196 aloss2:3.6009 exploreP:0.5333\n",
      "Episode:174 meanR:44.4300 R:111.0000 rate:0.2220 aloss:0.6941 eloss:0.5415 aloss2:3.7085 exploreP:0.5275\n",
      "Episode:175 meanR:44.5400 R:48.0000 rate:0.0960 aloss:0.6811 eloss:0.5231 aloss2:3.7434 exploreP:0.5250\n",
      "Episode:176 meanR:44.9700 R:68.0000 rate:0.1360 aloss:0.6882 eloss:0.5246 aloss2:3.6869 exploreP:0.5215\n",
      "Episode:177 meanR:45.9100 R:113.0000 rate:0.2260 aloss:0.6960 eloss:0.5121 aloss2:3.6935 exploreP:0.5158\n",
      "Episode:178 meanR:46.8800 R:109.0000 rate:0.2180 aloss:0.7091 eloss:0.5236 aloss2:3.7472 exploreP:0.5103\n",
      "Episode:179 meanR:48.3900 R:179.0000 rate:0.3580 aloss:0.6937 eloss:0.5018 aloss2:3.6659 exploreP:0.5014\n",
      "Episode:180 meanR:48.9000 R:69.0000 rate:0.1380 aloss:0.6981 eloss:0.4948 aloss2:3.6349 exploreP:0.4980\n",
      "Episode:181 meanR:48.8400 R:31.0000 rate:0.0620 aloss:0.7242 eloss:0.4945 aloss2:3.7296 exploreP:0.4965\n",
      "Episode:182 meanR:49.3000 R:83.0000 rate:0.1660 aloss:0.6985 eloss:0.4956 aloss2:3.7156 exploreP:0.4925\n",
      "Episode:183 meanR:49.6300 R:56.0000 rate:0.1120 aloss:0.7180 eloss:0.5224 aloss2:3.6613 exploreP:0.4898\n",
      "Episode:184 meanR:50.1600 R:74.0000 rate:0.1480 aloss:0.7028 eloss:0.5103 aloss2:3.6602 exploreP:0.4863\n",
      "Episode:185 meanR:51.0300 R:97.0000 rate:0.1940 aloss:0.7118 eloss:0.5086 aloss2:3.7141 exploreP:0.4817\n",
      "Episode:186 meanR:51.5400 R:81.0000 rate:0.1620 aloss:0.7141 eloss:0.4889 aloss2:3.6297 exploreP:0.4779\n",
      "Episode:187 meanR:51.8100 R:74.0000 rate:0.1480 aloss:0.7092 eloss:0.4998 aloss2:3.6584 exploreP:0.4744\n",
      "Episode:188 meanR:53.2500 R:171.0000 rate:0.3420 aloss:0.7190 eloss:0.4985 aloss2:3.7057 exploreP:0.4666\n",
      "Episode:189 meanR:53.7700 R:84.0000 rate:0.1680 aloss:0.7292 eloss:0.5303 aloss2:3.7049 exploreP:0.4627\n",
      "Episode:190 meanR:54.6300 R:102.0000 rate:0.2040 aloss:0.7158 eloss:0.5087 aloss2:3.6953 exploreP:0.4581\n",
      "Episode:191 meanR:54.8300 R:101.0000 rate:0.2020 aloss:0.7185 eloss:0.4953 aloss2:3.6085 exploreP:0.4536\n",
      "Episode:192 meanR:55.6800 R:109.0000 rate:0.2180 aloss:0.7313 eloss:0.5123 aloss2:3.6650 exploreP:0.4488\n",
      "Episode:193 meanR:56.5200 R:111.0000 rate:0.2220 aloss:0.7237 eloss:0.5112 aloss2:3.7025 exploreP:0.4440\n",
      "Episode:194 meanR:56.9700 R:90.0000 rate:0.1800 aloss:0.7526 eloss:0.4917 aloss2:3.6660 exploreP:0.4401\n",
      "Episode:195 meanR:58.0100 R:145.0000 rate:0.2900 aloss:0.7310 eloss:0.5093 aloss2:3.6857 exploreP:0.4339\n",
      "Episode:196 meanR:58.2100 R:77.0000 rate:0.1540 aloss:0.7209 eloss:0.5158 aloss2:3.6700 exploreP:0.4307\n",
      "Episode:197 meanR:57.8100 R:45.0000 rate:0.0900 aloss:0.7251 eloss:0.5126 aloss2:3.7424 exploreP:0.4288\n",
      "Episode:198 meanR:59.1700 R:177.0000 rate:0.3540 aloss:0.7234 eloss:0.5158 aloss2:3.6745 exploreP:0.4214\n",
      "Episode:199 meanR:59.1500 R:40.0000 rate:0.0800 aloss:0.7521 eloss:0.5072 aloss2:3.7040 exploreP:0.4198\n",
      "Episode:200 meanR:59.5600 R:116.0000 rate:0.2320 aloss:0.7344 eloss:0.5074 aloss2:3.6954 exploreP:0.4150\n",
      "Episode:201 meanR:61.4300 R:218.0000 rate:0.4360 aloss:0.7316 eloss:0.4953 aloss2:3.6413 exploreP:0.4063\n",
      "Episode:202 meanR:63.7700 R:249.0000 rate:0.4980 aloss:0.7480 eloss:0.5034 aloss2:3.6868 exploreP:0.3966\n",
      "Episode:203 meanR:64.0300 R:45.0000 rate:0.0900 aloss:0.7211 eloss:0.5858 aloss2:3.6928 exploreP:0.3948\n",
      "Episode:204 meanR:64.6700 R:84.0000 rate:0.1680 aloss:0.7507 eloss:0.5251 aloss2:3.6425 exploreP:0.3916\n",
      "Episode:205 meanR:66.2400 R:195.0000 rate:0.3900 aloss:0.7612 eloss:0.5081 aloss2:3.6009 exploreP:0.3842\n",
      "Episode:206 meanR:66.3800 R:67.0000 rate:0.1340 aloss:0.7432 eloss:0.5063 aloss2:3.6434 exploreP:0.3817\n",
      "Episode:207 meanR:67.2500 R:113.0000 rate:0.2260 aloss:0.7626 eloss:0.5339 aloss2:3.6455 exploreP:0.3776\n",
      "Episode:208 meanR:68.0900 R:112.0000 rate:0.2240 aloss:0.7528 eloss:0.4928 aloss2:3.5880 exploreP:0.3735\n",
      "Episode:209 meanR:68.8300 R:127.0000 rate:0.2540 aloss:0.7595 eloss:0.5301 aloss2:3.6372 exploreP:0.3689\n",
      "Episode:210 meanR:69.5600 R:134.0000 rate:0.2680 aloss:0.7677 eloss:0.5216 aloss2:3.5748 exploreP:0.3641\n",
      "Episode:211 meanR:70.2000 R:113.0000 rate:0.2260 aloss:0.7734 eloss:0.5413 aloss2:3.5607 exploreP:0.3601\n",
      "Episode:212 meanR:70.4900 R:45.0000 rate:0.0900 aloss:0.7537 eloss:0.5265 aloss2:3.5889 exploreP:0.3586\n",
      "Episode:213 meanR:71.3300 R:106.0000 rate:0.2120 aloss:0.7619 eloss:0.5114 aloss2:3.5791 exploreP:0.3549\n",
      "Episode:214 meanR:73.0500 R:243.0000 rate:0.4860 aloss:0.7364 eloss:0.5212 aloss2:3.5966 exploreP:0.3466\n",
      "Episode:215 meanR:74.4600 R:165.0000 rate:0.3300 aloss:0.7537 eloss:0.4936 aloss2:3.6008 exploreP:0.3411\n",
      "Episode:216 meanR:75.4800 R:151.0000 rate:0.3020 aloss:0.7559 eloss:0.4974 aloss2:3.6100 exploreP:0.3361\n",
      "Episode:217 meanR:75.3800 R:63.0000 rate:0.1260 aloss:0.7414 eloss:0.5351 aloss2:3.6009 exploreP:0.3341\n",
      "Episode:218 meanR:76.8300 R:160.0000 rate:0.3200 aloss:0.7453 eloss:0.5309 aloss2:3.5920 exploreP:0.3289\n",
      "Episode:219 meanR:77.5100 R:136.0000 rate:0.2720 aloss:0.7478 eloss:0.5342 aloss2:3.5529 exploreP:0.3246\n",
      "Episode:220 meanR:78.9300 R:164.0000 rate:0.3280 aloss:0.7510 eloss:0.5056 aloss2:3.5697 exploreP:0.3195\n",
      "Episode:221 meanR:79.9100 R:178.0000 rate:0.3560 aloss:0.7465 eloss:0.4892 aloss2:3.6093 exploreP:0.3141\n",
      "Episode:222 meanR:81.0400 R:147.0000 rate:0.2940 aloss:0.7301 eloss:0.5049 aloss2:3.6318 exploreP:0.3096\n",
      "Episode:223 meanR:83.2100 R:265.0000 rate:0.5300 aloss:0.7656 eloss:0.4955 aloss2:3.6013 exploreP:0.3018\n",
      "Episode:224 meanR:83.8200 R:95.0000 rate:0.1900 aloss:0.7535 eloss:0.4982 aloss2:3.6209 exploreP:0.2990\n",
      "Episode:225 meanR:85.1900 R:182.0000 rate:0.3640 aloss:0.7375 eloss:0.5131 aloss2:3.5926 exploreP:0.2938\n",
      "Episode:226 meanR:85.7900 R:74.0000 rate:0.1480 aloss:0.7231 eloss:0.5390 aloss2:3.6431 exploreP:0.2917\n",
      "Episode:227 meanR:88.1900 R:273.0000 rate:0.5460 aloss:0.7257 eloss:0.5475 aloss2:3.5887 exploreP:0.2841\n",
      "Episode:228 meanR:88.2600 R:88.0000 rate:0.1760 aloss:0.7235 eloss:0.5065 aloss2:3.5386 exploreP:0.2817\n",
      "Episode:229 meanR:89.4900 R:184.0000 rate:0.3680 aloss:0.7350 eloss:0.5172 aloss2:3.5442 exploreP:0.2768\n",
      "Episode:230 meanR:90.8000 R:147.0000 rate:0.2940 aloss:0.7382 eloss:0.5503 aloss2:3.5387 exploreP:0.2729\n",
      "Episode:231 meanR:93.4800 R:298.0000 rate:0.5960 aloss:0.7246 eloss:0.5474 aloss2:3.5188 exploreP:0.2652\n",
      "Episode:232 meanR:93.9300 R:72.0000 rate:0.1440 aloss:0.7081 eloss:0.5713 aloss2:3.5127 exploreP:0.2633\n",
      "Episode:233 meanR:97.4600 R:452.0000 rate:0.9040 aloss:0.7167 eloss:0.5176 aloss2:3.5232 exploreP:0.2521\n",
      "Episode:234 meanR:99.4300 R:219.0000 rate:0.4380 aloss:0.7101 eloss:0.5714 aloss2:3.5071 exploreP:0.2469\n",
      "Episode:235 meanR:100.7900 R:166.0000 rate:0.3320 aloss:0.7171 eloss:0.5410 aloss2:3.4884 exploreP:0.2430\n",
      "Episode:236 meanR:103.2800 R:271.0000 rate:0.5420 aloss:0.7028 eloss:0.5685 aloss2:3.4714 exploreP:0.2368\n",
      "Episode:237 meanR:104.8600 R:201.0000 rate:0.4020 aloss:0.7004 eloss:0.5554 aloss2:3.4712 exploreP:0.2323\n"
     ]
    },
    {
     "name": "stdout",
     "output_type": "stream",
     "text": [
      "Episode:238 meanR:109.3800 R:500.0000 rate:1.0000 aloss:0.7106 eloss:0.5411 aloss2:3.4738 exploreP:0.2214\n",
      "Episode:239 meanR:111.9000 R:336.0000 rate:0.6720 aloss:0.7095 eloss:0.5430 aloss2:3.4569 exploreP:0.2144\n",
      "Episode:240 meanR:116.7600 R:500.0000 rate:1.0000 aloss:0.7036 eloss:0.5396 aloss2:3.4848 exploreP:0.2045\n",
      "Episode:241 meanR:121.6100 R:500.0000 rate:1.0000 aloss:0.7017 eloss:0.5484 aloss2:3.4950 exploreP:0.1950\n",
      "Episode:242 meanR:126.4800 R:500.0000 rate:1.0000 aloss:0.6959 eloss:0.5671 aloss2:3.4617 exploreP:0.1860\n",
      "Episode:243 meanR:131.3000 R:500.0000 rate:1.0000 aloss:0.6971 eloss:0.5931 aloss2:3.3924 exploreP:0.1774\n",
      "Episode:244 meanR:133.1900 R:256.0000 rate:0.5120 aloss:0.6926 eloss:0.5590 aloss2:3.4002 exploreP:0.1731\n",
      "Episode:245 meanR:134.0300 R:103.0000 rate:0.2060 aloss:0.6911 eloss:0.5792 aloss2:3.4033 exploreP:0.1715\n",
      "Episode:246 meanR:138.7700 R:500.0000 rate:1.0000 aloss:0.6817 eloss:0.6463 aloss2:3.3545 exploreP:0.1636\n",
      "Episode:247 meanR:143.6400 R:500.0000 rate:1.0000 aloss:0.6825 eloss:0.6354 aloss2:3.3050 exploreP:0.1561\n",
      "Episode:248 meanR:147.6200 R:500.0000 rate:1.0000 aloss:0.6789 eloss:0.6518 aloss2:3.2746 exploreP:0.1490\n",
      "Episode:249 meanR:149.4400 R:223.0000 rate:0.4460 aloss:0.6823 eloss:0.6384 aloss2:3.2465 exploreP:0.1459\n",
      "Episode:250 meanR:154.2200 R:500.0000 rate:1.0000 aloss:0.6788 eloss:0.6649 aloss2:3.2295 exploreP:0.1393\n"
     ]
    }
   ],
   "source": [
    "# Save/load the model and save for plotting\n",
    "saver = tf.train.Saver()\n",
    "episode_rewards_list, rewards_list = [], []\n",
    "aloss_list, eloss_list, aloss2_list = [], [], []\n",
    "\n",
    "# TF session for training\n",
    "with tf.Session(graph=graph) as sess:\n",
    "    sess.run(tf.global_variables_initializer())\n",
    "    #saver.restore(sess, 'checkpoints/model.ckpt')    \n",
    "    #saver.restore(sess, tf.train.latest_checkpoint('checkpoints'))\n",
    "    total_step = 0 # Explore or exploit parameter\n",
    "    episode_reward = deque(maxlen=100) # 100 episodes for running average/running mean/window\n",
    "\n",
    "    # Training episodes/epochs\n",
    "    for ep in range(11111):\n",
    "        aloss_batch, eloss_batch, aloss2_batch = [], [], []\n",
    "        total_reward = 0\n",
    "        state = env.reset()\n",
    "        num_step = 0\n",
    "        rate = -1\n",
    "\n",
    "        # Training steps/batches\n",
    "        while True:\n",
    "            # Explore (env) or Exploit (model)\n",
    "            total_step += 1\n",
    "            explore_p = explore_stop + (explore_start - explore_stop) * np.exp(-decay_rate * total_step) \n",
    "            if explore_p > np.random.rand():\n",
    "                action = env.action_space.sample()\n",
    "            else:\n",
    "                action_logits = sess.run(model.actions_logits, feed_dict={model.states: state.reshape([1, -1])})\n",
    "                action = np.argmax(action_logits)\n",
    "            next_state, reward, done, _ = env.step(action)\n",
    "            memory.buffer.append([state, action, next_state, reward, float(done), rate])\n",
    "            num_step += 1 # momory added\n",
    "            total_reward += reward\n",
    "            state = next_state\n",
    "            \n",
    "            # Training with the maxrated minibatch\n",
    "            batch = memory.buffer\n",
    "            #for idx in range(memory_size// batch_size):\n",
    "            while True:\n",
    "                idx = np.random.choice(np.arange(memory_size// batch_size))\n",
    "                states = np.array([each[0] for each in batch])[idx*batch_size:(idx+1)*batch_size]\n",
    "                actions = np.array([each[1] for each in batch])[idx*batch_size:(idx+1)*batch_size]\n",
    "                next_states = np.array([each[2] for each in batch])[idx*batch_size:(idx+1)*batch_size]\n",
    "                rewards = np.array([each[3] for each in batch])[idx*batch_size:(idx+1)*batch_size]\n",
    "                dones = np.array([each[4] for each in batch])[idx*batch_size:(idx+1)*batch_size]\n",
    "                rates = np.array([each[5] for each in batch])[idx*batch_size:(idx+1)*batch_size]\n",
    "                states = states[rates >= np.max(rates)]\n",
    "                actions = actions[rates >= np.max(rates)]\n",
    "                next_states = next_states[rates >= np.max(rates)]\n",
    "                rewards = rewards[rates >= np.max(rates)]\n",
    "                dones = dones[rates >= np.max(rates)]\n",
    "                rates = rates[rates >= np.max(rates)]\n",
    "                if np.count_nonzero(dones) > 0 and len(dones) > 1 and np.max(rates) > 0:\n",
    "                    break\n",
    "            aloss, _ = sess.run([model.a_loss, model.a_opt],\n",
    "                                  feed_dict = {model.states: states, \n",
    "                                               model.actions: actions,\n",
    "                                               model.next_states: next_states,\n",
    "                                               model.rewards: rewards,\n",
    "                                               model.dones: dones,\n",
    "                                               model.rates: rates})\n",
    "            eloss, _ = sess.run([model.e_loss, model.e_opt],\n",
    "                                  feed_dict = {model.states: states, \n",
    "                                               model.actions: actions,\n",
    "                                               model.next_states: next_states,\n",
    "                                               model.rewards: rewards,\n",
    "                                               model.dones: dones,\n",
    "                                               model.rates: rates})\n",
    "            aloss2, _= sess.run([model.a_loss2, model.a_opt2], \n",
    "                                 feed_dict = {model.states: states, \n",
    "                                              model.actions: actions,\n",
    "                                              model.next_states: next_states,\n",
    "                                              model.rewards: rewards,\n",
    "                                              model.dones: dones,\n",
    "                                              model.rates: rates})\n",
    "            # print(len(dones), np.count_nonzero(dones), np.max(rates))\n",
    "            aloss_batch.append(aloss)\n",
    "            eloss_batch.append(eloss)\n",
    "            aloss2_batch.append(aloss2)\n",
    "            if done is True:\n",
    "                break\n",
    "                \n",
    "        # Rating the latest played episode\n",
    "        rate = total_reward/500 # update rate at the end/ when episode is done\n",
    "        for idx in range(num_step): # episode length\n",
    "            if memory.buffer[-1-idx][-1] == -1: # double-check the landmark/marked indexes\n",
    "                memory.buffer[-1-idx][-1] = rate # rate the trajectory/data\n",
    "\n",
    "        # Print out\n",
    "        episode_reward.append(total_reward)\n",
    "        print('Episode:{}'.format(ep),\n",
    "              'meanR:{:.4f}'.format(np.mean(episode_reward)),\n",
    "              'R:{:.4f}'.format(total_reward),\n",
    "              'rate:{:.4f}'.format(rate),\n",
    "              'aloss:{:.4f}'.format(np.mean(aloss_batch)),\n",
    "              'eloss:{:.4f}'.format(np.mean(eloss_batch)),\n",
    "              'aloss2:{:.4f}'.format(np.mean(aloss2_batch)),\n",
    "              'exploreP:{:.4f}'.format(explore_p))\n",
    "\n",
    "        # Ploting out\n",
    "        episode_rewards_list.append([ep, np.mean(episode_reward)])\n",
    "        rewards_list.append([ep, total_reward])\n",
    "        aloss_list.append([ep, np.mean(aloss_batch)])\n",
    "        eloss_list.append([ep, np.mean(eloss_batch)])\n",
    "        aloss2_list.append([ep, np.mean(aloss2_batch)])\n",
    "        \n",
    "        # Break episode/epoch loop\n",
    "        ## Option 1: Solve the First Version\n",
    "        #The task is episodic, and in order to solve the environment, \n",
    "        #your agent must get an average score of +30 over 100 consecutive episodes.\n",
    "        if np.mean(episode_reward) >= 500:\n",
    "            break\n",
    "            \n",
    "    # At the end of all training episodes/epochs\n",
    "    saver.save(sess, 'checkpoints/model.ckpt')"
   ]
  },
  {
   "cell_type": "markdown",
   "metadata": {},
   "source": [
    "# Visualizing training\n",
    "\n",
    "Below I'll plot the total rewards for each episode. I'm plotting the rolling average too, in blue."
   ]
  },
  {
   "cell_type": "code",
   "execution_count": 21,
   "metadata": {},
   "outputs": [],
   "source": [
    "import matplotlib.pyplot as plt\n",
    "%matplotlib inline\n",
    "\n",
    "def running_mean(x, N):\n",
    "    cumsum = np.cumsum(np.insert(x, 0, 0)) \n",
    "    return (cumsum[N:] - cumsum[:-N]) / N "
   ]
  },
  {
   "cell_type": "code",
   "execution_count": 22,
   "metadata": {},
   "outputs": [
    {
     "data": {
      "text/plain": [
       "Text(0, 0.5, 'Total rewards')"
      ]
     },
     "execution_count": 22,
     "metadata": {},
     "output_type": "execute_result"
    },
    {
     "data": {
      "image/png": "[encoded data removed]",
      "text/plain": [
       "<Figure size 432x288 with 1 Axes>"
      ]
     },
     "metadata": {
      "needs_background": "light"
     },
     "output_type": "display_data"
    }
   ],
   "source": [
    "eps, arr = np.array(episode_rewards_list).T\n",
    "smoothed_arr = running_mean(arr, 10)\n",
    "plt.plot(eps[-len(smoothed_arr):], smoothed_arr)\n",
    "plt.plot(eps, arr, color='grey', alpha=0.3)\n",
    "plt.xlabel('Episode')\n",
    "plt.ylabel('Total rewards')"
   ]
  },
  {
   "cell_type": "code",
   "execution_count": 23,
   "metadata": {},
   "outputs": [
    {
     "data": {
      "text/plain": [
       "Text(0, 0.5, 'Total rewards')"
      ]
     },
     "execution_count": 23,
     "metadata": {},
     "output_type": "execute_result"
    },
    {
     "data": {
      "image/png": "[encoded data removed]",
      "text/plain": [
       "<Figure size 432x288 with 1 Axes>"
      ]
     },
     "metadata": {
      "needs_background": "light"
     },
     "output_type": "display_data"
    }
   ],
   "source": [
    "eps, arr = np.array(rewards_list).T\n",
    "smoothed_arr = running_mean(arr, 10)\n",
    "plt.plot(eps[-len(smoothed_arr):], smoothed_arr)\n",
    "plt.plot(eps, arr, color='grey', alpha=0.3)\n",
    "plt.xlabel('Episode')\n",
    "plt.ylabel('Total rewards')"
   ]
  },
  {
   "cell_type": "code",
   "execution_count": 24,
   "metadata": {},
   "outputs": [
    {
     "data": {
      "text/plain": [
       "Text(0, 0.5, 'Act losses')"
      ]
     },
     "execution_count": 24,
     "metadata": {},
     "output_type": "execute_result"
    },
    {
     "data": {
      "image/png": "[encoded data removed]",
      "text/plain": [
       "<Figure size 432x288 with 1 Axes>"
      ]
     },
     "metadata": {
      "needs_background": "light"
     },
     "output_type": "display_data"
    }
   ],
   "source": [
    "eps, arr = np.array(aloss_list).T\n",
    "smoothed_arr = running_mean(arr, 10)\n",
    "plt.plot(eps[-len(smoothed_arr):], smoothed_arr)\n",
    "plt.plot(eps, arr, color='grey', alpha=0.3)\n",
    "plt.xlabel('Episode')\n",
    "plt.ylabel('Act losses')"
   ]
  },
  {
   "cell_type": "code",
   "execution_count": 25,
   "metadata": {},
   "outputs": [
    {
     "data": {
      "text/plain": [
       "Text(0, 0.5, 'Env losses')"
      ]
     },
     "execution_count": 25,
     "metadata": {},
     "output_type": "execute_result"
    },
    {
     "data": {
      "image/png": "[encoded data removed]",
      "text/plain": [
       "<Figure size 432x288 with 1 Axes>"
      ]
     },
     "metadata": {
      "needs_background": "light"
     },
     "output_type": "display_data"
    }
   ],
   "source": [
    "eps, arr = np.array(eloss_list).T\n",
    "smoothed_arr = running_mean(arr, 10)\n",
    "plt.plot(eps[-len(smoothed_arr):], smoothed_arr)\n",
    "plt.plot(eps, arr, color='grey', alpha=0.3)\n",
    "plt.xlabel('Episode')\n",
    "plt.ylabel('Env losses')"
   ]
  },
  {
   "cell_type": "code",
   "execution_count": 26,
   "metadata": {},
   "outputs": [
    {
     "data": {
      "text/plain": [
       "Text(0, 0.5, 'Act losses 2')"
      ]
     },
     "execution_count": 26,
     "metadata": {},
     "output_type": "execute_result"
    },
    {
     "data": {
      "image/png": "[encoded data removed]",
      "text/plain": [
       "<Figure size 432x288 with 1 Axes>"
      ]
     },
     "metadata": {
      "needs_background": "light"
     },
     "output_type": "display_data"
    }
   ],
   "source": [
    "eps, arr = np.array(aloss2_list).T\n",
    "smoothed_arr = running_mean(arr, 10)\n",
    "plt.plot(eps[-len(smoothed_arr):], smoothed_arr)\n",
    "plt.plot(eps, arr, color='grey', alpha=0.3)\n",
    "plt.xlabel('Episode')\n",
    "plt.ylabel('Act losses 2')"
   ]
  },
  {
   "cell_type": "markdown",
   "metadata": {},
   "source": [
    "## Testing\n",
    "\n",
    "Let's checkout how our trained agent plays the game."
   ]
  },
  {
   "cell_type": "code",
   "execution_count": 21,
   "metadata": {},
   "outputs": [
    {
     "name": "stdout",
     "output_type": "stream",
     "text": [
      "INFO:tensorflow:Restoring parameters from checkpoints/model.ckpt\n",
      "total_reward: 500.0\n",
      "total_reward: 500.0\n",
      "total_reward: 500.0\n",
      "total_reward: 500.0\n",
      "total_reward: 500.0\n",
      "total_reward: 500.0\n",
      "total_reward: 500.0\n",
      "total_reward: 500.0\n",
      "total_reward: 500.0\n",
      "total_reward: 500.0\n"
     ]
    }
   ],
   "source": [
    "import gym\n",
    "env = gym.make('CartPole-v0')\n",
    "env = gym.make('CartPole-v1')\n",
    "\n",
    "with tf.Session() as sess:\n",
    "    sess.run(tf.global_variables_initializer())\n",
    "    saver.restore(sess, 'checkpoints/model.ckpt')    \n",
    "    #saver.restore(sess, tf.train.latest_checkpoint('checkpoints'))\n",
    "    \n",
    "    # Episodes/epochs\n",
    "    for _ in range(10):\n",
    "        state = env.reset()\n",
    "        total_reward = 0\n",
    "\n",
    "        # Steps/batches\n",
    "        while True:\n",
    "            env.render()\n",
    "            action_logits = sess.run(model.actions_logits, feed_dict={model.states: state.reshape([1, -1])})\n",
    "            action = np.argmax(action_logits)\n",
    "            state, reward, done, _ = env.step(action)\n",
    "            total_reward += reward\n",
    "            if done:\n",
    "                print('total_reward: {}'.format(total_reward))\n",
    "                break\n",
    "                \n",
    "env.close()"
   ]
  },
  {
   "cell_type": "code",
   "execution_count": null,
   "metadata": {},
   "outputs": [],
   "source": []
  }
 ],
 "metadata": {
  "kernelspec": {
   "display_name": "Python 3",
   "language": "python",
   "name": "python3"
  },
  "language_info": {
   "codemirror_mode": {
    "name": "ipython",
    "version": 3
   },
   "file_extension": ".py",
   "mimetype": "text/x-python",
   "name": "python",
   "nbconvert_exporter": "python",
   "pygments_lexer": "ipython3",
   "version": "3.6.6"
  }
 },
 "nbformat": 4,
 "nbformat_minor": 2
}
