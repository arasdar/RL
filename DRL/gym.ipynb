{
 "cells": [
  {
   "cell_type": "code",
   "execution_count": 3,
   "metadata": {},
   "outputs": [
    {
     "name": "stdout",
     "output_type": "stream",
     "text": [
      "\u001b[33mWARN: gym.spaces.Box autodetected dtype as <class 'numpy.float32'>. Please provide explicit dtype.\u001b[0m\n",
      "\u001b[33mWARN: gym.spaces.Box autodetected dtype as <class 'numpy.float32'>. Please provide explicit dtype.\u001b[0m\n"
     ]
    },
    {
     "data": {
      "text/plain": [
       "(24, 4)"
      ]
     },
     "execution_count": 3,
     "metadata": {},
     "output_type": "execute_result"
    }
   ],
   "source": [
    "import gym\n",
    "env = gym.make('BipedalWalker-v2')\n",
    "env.seed(10)\n",
    "env.observation_space.shape[0], env.action_space.shape[0]"
   ]
  },
  {
   "cell_type": "code",
   "execution_count": 4,
   "metadata": {},
   "outputs": [],
   "source": [
    "# # import gym\n",
    "# # env = gym.make('FetchPush-v1')\n",
    "# # env = gym.make('HandManipulateBlock-v0')\n",
    "# # env = gym.make('HandManipulateBlock-v0')\n",
    "# # env = gym.make('Ant-v2')\n",
    "# # env = gym.make('HumanoidStandup-v2')\n",
    "# # env = gym.make('Pendulum-v0')\n",
    "# env.reset()\n",
    "# for _ in range(100):\n",
    "#     env.render()\n",
    "#     action = env.action_space.sample()\n",
    "#     state, reward, done, _ = env.step(action) # take a random action\n",
    "#     print(action)\n",
    "#     if done:\n",
    "#         break\n",
    "# env.close()"
   ]
  },
  {
   "cell_type": "code",
   "execution_count": 17,
   "metadata": {},
   "outputs": [
    {
     "name": "stdout",
     "output_type": "stream",
     "text": [
      "\u001b[33mWARN: gym.spaces.Box autodetected dtype as <class 'numpy.float32'>. Please provide explicit dtype.\u001b[0m\n",
      "1 [ 0.99998495  0.00548565  0.99896194  0.04555274  0.09448203 -0.07564451] -1.0 False\n",
      "2 [ 0.99994573  0.01041811  0.99809988  0.06161685 -0.04543057  0.23409088] -1.0 False\n",
      "1 [ 0.99999823  0.00187917  0.99488846  0.10097992 -0.03706464  0.15288641] -1.0 False\n",
      "0 [ 0.99995182  0.00981573  0.99630437  0.085893    0.11414862 -0.30019095] -1.0 False\n",
      "0 [ 0.99898871  0.0449618   0.99990947 -0.01345541  0.22707643 -0.67146943] -1.0 False\n",
      "1 [ 0.99664806  0.08180855  0.99076637 -0.13558022  0.13093955 -0.52736223] -1.0 False\n",
      "0 [ 0.99428313  0.10677574  0.96904982 -0.24686522  0.11108941 -0.58357169] -1.0 False\n",
      "1 [ 0.99394921  0.1098406   0.94722355 -0.32057377 -0.08232812 -0.17350291] -1.0 False\n",
      "0 [ 0.99612963  0.0878963   0.93895193 -0.34404836 -0.13431163 -0.07485274] -1.0 False\n",
      "2 [ 0.99946914  0.03257976  0.95828029 -0.28583017 -0.40716415  0.6707285 ] -1.0 False\n",
      "0 [ 0.99916912 -0.04075625  0.98656856 -0.16334772 -0.30768589  0.5541501 ] -1.0 False\n",
      "1 [ 0.9952847  -0.09699677  0.99894757 -0.04586657 -0.24117326  0.59891692] -1.0 False\n",
      "1 [ 0.99133976 -0.13132205  0.99795359  0.0639424  -0.09407705  0.47576164] -1.0 False\n",
      "2 [ 0.98948081 -0.14466422  0.98546295  0.1698905  -0.03434249  0.57078355] -1.0 False\n",
      "0 [ 0.99314859 -0.1168584   0.97679293  0.21418584  0.30966427 -0.12153278] -1.0 False\n",
      "1 [ 0.99920891 -0.03976881  0.98700699  0.16067732  0.44639702 -0.40219094] -1.0 False\n",
      "0 [ 0.99780084  0.06628335  0.99949162  0.0318825   0.5891398  -0.85375904] -1.0 False\n",
      "2 [ 0.98762457  0.15683654  0.99576755 -0.09190749  0.30060741 -0.35084265] -1.0 False\n",
      "1 [ 0.98124252  0.19277735  0.99102616 -0.13366809  0.05622626 -0.057568  ] -1.0 False\n",
      "2 [ 0.98631162  0.16489203  0.99685612 -0.07923302 -0.33200236  0.5910994 ] -1.0 False\n",
      "1 [ 0.99670287  0.08113814  0.99843097  0.05599636 -0.49078044  0.72560696] -1.0 False\n",
      "0 [ 0.99997178 -0.00751202  0.98718712  0.15956686 -0.3758148   0.28582383] -1.0 False\n",
      "1 [ 0.9971622  -0.07528316  0.98090132  0.19450602 -0.28791502  0.05311308] -1.0 False\n",
      "2 [ 0.99144187 -0.13054894  0.9777881   0.20959588 -0.25616564  0.0900504 ] -1.0 False\n",
      "1 [ 0.98718412 -0.15958544  0.98134962  0.19223143 -0.03217479 -0.26815716] -1.0 False\n",
      "2 [ 0.98769456 -0.1563952   0.99005108  0.14070839  0.0620473  -0.2447943 ] -1.0 False\n",
      "1 [ 0.99233817 -0.12355141  0.99785626  0.06544374  0.26050356 -0.49389442] -1.0 False\n",
      "2 [ 0.99743865 -0.07152721  0.99992778 -0.01201803  0.24937054 -0.25993868] -1.0 False\n",
      "0 [ 0.99999714 -0.00239357  0.99498674 -0.10000689  0.42548684 -0.59497204] -1.0 False\n",
      "1 [ 0.99704818  0.07677838  0.9796612  -0.20065873  0.34806363 -0.39443576] -1.0 False\n",
      "0 [ 0.98975615  0.14276825  0.9604604  -0.27841665  0.30025782 -0.38326467] -1.0 False\n",
      "1 [ 0.98417194  0.17721622  0.95144584 -0.30781619  0.04134581  0.08481969] -1.0 False\n",
      "1 [ 0.98735359  0.15853354  0.96923602 -0.24613318 -0.22526192  0.54405866] -1.0 False\n",
      "0 [ 0.99438624  0.10581121  0.99034932 -0.13859377 -0.29247768  0.5255139 ] -1.0 False\n",
      "2 [ 0.99976004  0.02190558  0.99982077  0.01893216 -0.52633348  1.01350931] -1.0 False\n",
      "0 [ 0.99777565 -0.06666146  0.98441272  0.17587382 -0.33753134  0.52525253] -1.0 False\n",
      "0 [ 0.99434921 -0.10615859  0.97636684  0.21611987 -0.05030656 -0.12639335] -1.0 False\n",
      "1 [ 0.99507088 -0.09916623  0.98704012  0.16047367  0.11741244 -0.42952532] -1.0 False\n",
      "2 [ 0.99714762 -0.07547596  0.99617589  0.08737045  0.11324268 -0.29098926] -1.0 False\n",
      "2 [ 0.99839413 -0.05664954  0.99873268  0.05032932  0.07053009 -0.07118512] -1.0 False\n",
      "0 [ 0.99975395 -0.02218174  0.99997099 -0.00761679  0.26538201 -0.4927035 ] -1.0 False\n",
      "0 [ 0.99903903  0.04382947  0.99070447 -0.1360318   0.37710724 -0.76241393] -1.0 False\n",
      "2 [ 0.9955686   0.09403811  0.97388756 -0.22703086  0.11414055 -0.14177849] -1.0 False\n",
      "0 [ 0.99356516  0.11326198  0.96696282 -0.25491744  0.07442887 -0.13787561] -1.0 False\n",
      "1 [ 0.99402931  0.10911338  0.96951607 -0.24502772 -0.11483203  0.23733747] -1.0 False\n",
      "1 [ 0.99755719  0.06985449  0.98605027 -0.16644777 -0.26902786  0.54648848] -1.0 False\n",
      "0 [ 0.99978665  0.02065543  0.99726865 -0.07385962 -0.21062438  0.36279295] -1.0 False\n",
      "1 [ 0.99973238 -0.02313385  0.99999081  0.00428753 -0.21598258  0.39906358] -1.0 False\n",
      "2 [ 0.99723447 -0.07431971  0.99377994  0.11136172 -0.28255718  0.64704139] -1.0 False\n",
      "0 [ 9.94652509e-01 -1.03278196e-01  9.83442124e-01  1.81222486e-01\n",
      " -8.72462338e-04  4.42625518e-02] -1.0 False\n",
      "1 [ 0.9961519  -0.0876436   0.9867912   0.16199729  0.15401285 -0.23347027] -1.0 False\n",
      "0 [ 0.9994982  -0.03167575  0.99822182  0.05960863  0.39214295 -0.77092048] -1.0 False\n",
      "2 [ 0.99941484  0.0342048   0.9981128  -0.06140715  0.24980458 -0.40912623] -1.0 False\n",
      "1 [ 0.99709101  0.07622022  0.99165108 -0.1289501   0.16057951 -0.25173064] -1.0 False\n",
      "2 [ 0.99664354  0.08186363  0.9925092  -0.12216991 -0.10457346  0.31912403] -1.0 False\n",
      "0 [ 0.99799414  0.06330634  0.99714053 -0.07556958 -0.07629502  0.13837802] -1.0 False\n",
      "0 [ 0.998592    0.05304725  0.99754566 -0.07001899 -0.02432333 -0.0850394 ] -1.0 False\n",
      "1 [ 0.99917703  0.04056178  0.99722194 -0.07448755 -0.09817197  0.03891522] -1.0 False\n",
      "2 [ 0.99999746  0.00225382  0.99975818 -0.0219907  -0.27540216  0.47137462] -1.0 False\n",
      "0 [ 0.99930218 -0.03735171  0.99937309  0.03540374 -0.11117856  0.08712416] -1.0 False\n",
      "2 [ 0.99778075 -0.06658515  0.99690447  0.07862232 -0.17414323  0.33352456] -1.0 False\n",
      "2 [ 0.99467113 -0.10309869  0.98691816  0.16122206 -0.18219792  0.47851313] -1.0 False\n",
      "1 [ 0.99254952 -0.1218419   0.97431627  0.22518394 -0.00109861  0.16045303] -1.0 False\n",
      "2 [ 0.99323261 -0.11614211  0.96694572  0.25498231  0.05823866  0.14223916] -1.0 False\n",
      "0 [ 0.99731242 -0.07326615  0.97696553  0.21339719  0.36237514 -0.55639411] -1.0 False\n",
      "0 [ 0.99976828  0.0215263   0.99890787  0.04672322  0.5619244  -1.08341838] -1.0 False\n",
      "1 [ 0.99206253  0.12574556  0.98698869 -0.16078971  0.45573192 -0.94622177] -1.0 False\n",
      "2 [ 0.98368251  0.17991309  0.96129775 -0.27551159  0.07932332 -0.20501403] -1.0 False\n",
      "0 [ 0.98345238  0.18116682  0.95307494 -0.30273448 -0.06749711 -0.07472552] -1.0 False\n",
      "0 [ 0.98804512  0.15416497  0.95271754 -0.30385734 -0.20085625  0.05905469] -1.0 False\n",
      "1 [ 0.99575144  0.09208185  0.9680904  -0.25060121 -0.41058321  0.4770178 ] -1.0 False\n",
      "2 [ 0.99988933 -0.01487687  0.99548613 -0.09490709 -0.63411588  1.0627071 ] -1.0 False\n",
      "2 [ 0.9890231  -0.14776097  0.98895705  0.14820238 -0.66471135  1.31030455] -1.0 False\n",
      "2 [ 0.96480111 -0.26298063  0.92045308  0.39085307 -0.48205481  1.15778168] -1.0 False\n",
      "0 [ 0.95357255 -0.3011634   0.86458431  0.50248779  0.09147962  0.07381479] -1.0 False\n",
      "0 [ 0.97344114 -0.22893744  0.90847255  0.41794452  0.64208918 -1.00643247] -1.0 False\n",
      "1 [ 0.99731868 -0.073181    0.98476512  0.1738898   0.89695213 -1.49291142] -1.0 False\n",
      "0 [ 0.99252694  0.12202568  0.98605148 -0.16644063  1.00644312 -1.83133361] -1.0 False\n",
      "1 [ 0.95697663  0.29016499  0.88528951 -0.46504029  0.67260223 -1.25943477] -1.0 False\n",
      "1 [ 0.92895302  0.37019764  0.79572282 -0.60566095  0.15913525 -0.38298714] -1.0 False\n",
      "2 [ 0.94160414  0.33672191  0.82499972 -0.56513314 -0.51008742  0.87486133] -1.0 False\n",
      "1 [ 0.98096268  0.19419634  0.94127593 -0.33763832 -0.93701835  1.63383834] -1.0 False\n",
      "2 [ 0.9996595  -0.02609376  0.9984897   0.05493914 -1.21948538  2.25147557] -1.0 False\n",
      "2 [ 0.96522518 -0.26141988  0.87593876  0.48242231 -1.09989505  2.11225336] -1.0 False\n",
      "0 [ 0.91286402 -0.40826375  0.69751893  0.71656636 -0.43462282  0.80435059] -1.0 False\n",
      "0 [ 0.90764651 -0.4197354   0.68291417  0.73049862  0.30994427 -0.60348983] -1.0 False\n",
      "1 [ 0.95172528 -0.30695112  0.82924031  0.55889221  0.87966203 -1.62490014] -1.0 False\n",
      "1 [ 0.99539796 -0.09582746  0.98148693  0.19152914  1.22769466 -2.28450415] -1.0 False\n",
      "1 [ 0.98849027  0.15128446  0.9638756  -0.26635281  1.18126358 -2.20659834] -1.0 False\n",
      "1 [ 0.9389922   0.34393845  0.80041296 -0.59944899  0.76596242 -1.44717552] -1.0 False\n",
      "0 [ 0.89709284  0.44184209  0.65235034 -0.75791756  0.27964235 -0.69528855] -1.0 False\n",
      "1 [ 0.90138739  0.43301359  0.63363207 -0.77363454 -0.37469813  0.45076445] -1.0 False\n",
      "2 [ 0.95501714  0.29655061  0.79432919 -0.60748756 -1.06938342  1.84017102] -1.0 False\n",
      "0 [ 0.99810014  0.0616126   0.97169413 -0.23624251 -1.26563212  2.19986916] -1.0 False\n"
     ]
    },
    {
     "name": "stdout",
     "output_type": "stream",
     "text": [
      "2 [ 0.97931598 -0.20233689  0.97038715  0.24155494 -1.31392462  2.48361117] -1.0 False\n",
      "1 [ 0.91232135 -0.40947498  0.78584443  0.61842423 -0.81776359  1.65691192] -1.0 False\n",
      "0 [ 0.87434608 -0.48530293  0.65521662  0.75544105 -0.02008092  0.22473051] -1.0 False\n",
      "2 [ 0.8990493  -0.43784742  0.68451271  0.72900092  0.54509286 -0.61214338] -1.0 False\n",
      "0 [ 0.96302918 -0.26939712  0.84937875  0.5277838   1.22777199 -1.96003987] -1.0 False\n",
      "2 [ 0.99996671 -0.00815997  0.99145107  0.13047902  1.35104394 -2.17301376] -1.0 False\n"
     ]
    }
   ],
   "source": [
    "env = gym.make('Acrobot-v1')\n",
    "# env = gym.make('MountainCar-v0')\n",
    "# env = gym.make('Pendulum-v0')\n",
    "# env = gym.make('Blackjack-v0')\n",
    "# env = gym.make('FrozenLake-v0')\n",
    "# env = gym.make('AirRaid-ram-v0')\n",
    "# env = gym.make('AirRaid-v0')\n",
    "# env = gym.make('BipedalWalker-v2')\n",
    "# env = gym.make('Copy-v0')\n",
    "# # env = gym.make('CarRacing-v0')\n",
    "# env = gym.make('Ant-v2') #mujoco\n",
    "# env = gym.make('FetchPickAndPlace-v1') # mujoco required!\n",
    "\n",
    "env.reset()\n",
    "for _ in range(100):\n",
    "    env.render()\n",
    "    action = env.action_space.sample()\n",
    "    state, reward, done, _ = env.step(action) # take a random action\n",
    "    print(action, state, reward, done)\n",
    "    if done:\n",
    "        break\n",
    "env.close()"
   ]
  },
  {
   "cell_type": "code",
   "execution_count": 3,
   "metadata": {},
   "outputs": [
    {
     "name": "stderr",
     "output_type": "stream",
     "text": [
      "/home/arasdar/github/arasdar-DL-git/reinforcement/gym/gym/__init__.py:22: UserWarning: DEPRECATION WARNING: to improve load times, gym no longer automatically loads gym.spaces. Please run \"import gym.spaces\" to load gym.spaces on your own. This warning will turn into an error in a future version of gym.\n",
      "  warnings.warn('DEPRECATION WARNING: to improve load times, gym no longer automatically loads gym.spaces. Please run \"import gym.spaces\" to load gym.spaces on your own. This warning will turn into an error in a future version of gym.')\n"
     ]
    },
    {
     "name": "stdout",
     "output_type": "stream",
     "text": [
      "\u001b[33mWARN: gym.spaces.Box autodetected dtype as <class 'numpy.float32'>. Please provide explicit dtype.\u001b[0m\n",
      "state, reward, done, info:\n",
      "0 [ 0.12084135  1.20601221 -0.22400571 -2.02638155] 1.0 True {}\n",
      "Episode finished after 12 timesteps\n",
      "state, reward, done, info:\n",
      "0 [-0.15777311 -0.77561598  0.23145726  1.45869557] 1.0 True {}\n",
      "Episode finished after 12 timesteps\n"
     ]
    }
   ],
   "source": [
    "import gym\n",
    "\n",
    "# Choose the env\n",
    "env = gym.make('CartPole-v0')\n",
    "\n",
    "# Number of episodes to play\n",
    "for _ in range(2):\n",
    "    \n",
    "    # reser the env or restart the env after being done: done=True\n",
    "    env.reset()\n",
    "    \n",
    "    # max number of env step: it should be done til done=True\n",
    "    for t in range(100):\n",
    "        env.render()\n",
    "        a = env.action_space.sample()\n",
    "        s, r, d, i = env.step(a)\n",
    "        if d:\n",
    "            print('state, reward, done, info:')\n",
    "            print(a, s, r, d, i)\n",
    "            print(\"Episode finished after {} timesteps\".format(t+1))\n",
    "            break\n",
    "env.close()"
   ]
  },
  {
   "cell_type": "code",
   "execution_count": 9,
   "metadata": {},
   "outputs": [
    {
     "data": {
      "text/plain": [
       "(1571, 0.4154382306933403, -100)"
      ]
     },
     "execution_count": 9,
     "metadata": {},
     "output_type": "execute_result"
    }
   ],
   "source": [
    "len(rewards), max(rewards), min(rewards)"
   ]
  },
  {
   "cell_type": "code",
   "execution_count": 12,
   "metadata": {},
   "outputs": [],
   "source": [
    "import numpy as np"
   ]
  },
  {
   "cell_type": "code",
   "execution_count": 13,
   "metadata": {},
   "outputs": [
    {
     "data": {
      "text/plain": [
       "((150,), dtype('int64'))"
      ]
     },
     "execution_count": 13,
     "metadata": {},
     "output_type": "execute_result"
    }
   ],
   "source": [
    "np.array(observations).shape, np.array(observations).dtype"
   ]
  },
  {
   "cell_type": "code",
   "execution_count": 14,
   "metadata": {},
   "outputs": [
    {
     "data": {
      "text/plain": [
       "((150,), dtype('float64'))"
      ]
     },
     "execution_count": 14,
     "metadata": {},
     "output_type": "execute_result"
    }
   ],
   "source": [
    "np.array(rewards).shape, np.array(rewards).dtype"
   ]
  },
  {
   "cell_type": "code",
   "execution_count": 15,
   "metadata": {},
   "outputs": [
    {
     "data": {
      "text/plain": [
       "(0.0, 0.0)"
      ]
     },
     "execution_count": 15,
     "metadata": {},
     "output_type": "execute_result"
    }
   ],
   "source": [
    "max(rewards), min(rewards)"
   ]
  },
  {
   "cell_type": "code",
   "execution_count": 16,
   "metadata": {},
   "outputs": [
    {
     "data": {
      "text/plain": [
       "((150,), (150,))"
      ]
     },
     "execution_count": 16,
     "metadata": {},
     "output_type": "execute_result"
    }
   ],
   "source": [
    "np.array(dones).shape, np.array(infos).shape"
   ]
  },
  {
   "cell_type": "code",
   "execution_count": 17,
   "metadata": {},
   "outputs": [
    {
     "data": {
      "text/plain": [
       "(dtype('bool'), dtype('O'))"
      ]
     },
     "execution_count": 17,
     "metadata": {},
     "output_type": "execute_result"
    }
   ],
   "source": [
    "np.array(dones).dtype, np.array(infos).dtype"
   ]
  },
  {
   "cell_type": "code",
   "execution_count": 23,
   "metadata": {},
   "outputs": [],
   "source": [
    "# infos, dones"
   ]
  },
  {
   "cell_type": "code",
   "execution_count": 11,
   "metadata": {},
   "outputs": [],
   "source": [
    "# observations"
   ]
  },
  {
   "cell_type": "code",
   "execution_count": null,
   "metadata": {},
   "outputs": [],
   "source": []
  }
 ],
 "metadata": {
  "kernelspec": {
   "display_name": "Python 3",
   "language": "python",
   "name": "python3"
  },
  "language_info": {
   "codemirror_mode": {
    "name": "ipython",
    "version": 3
   },
   "file_extension": ".py",
   "mimetype": "text/x-python",
   "name": "python",
   "nbconvert_exporter": "python",
   "pygments_lexer": "ipython3",
   "version": "3.6.6"
  }
 },
 "nbformat": 4,
 "nbformat_minor": 2
}
