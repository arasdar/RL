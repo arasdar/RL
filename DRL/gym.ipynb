{
 "cells": [
  {
   "cell_type": "code",
   "execution_count": 3,
   "metadata": {},
   "outputs": [
    {
     "name": "stdout",
     "output_type": "stream",
     "text": [
      "\u001b[33mWARN: gym.spaces.Box autodetected dtype as <class 'numpy.float32'>. Please provide explicit dtype.\u001b[0m\n",
      "\u001b[33mWARN: gym.spaces.Box autodetected dtype as <class 'numpy.float32'>. Please provide explicit dtype.\u001b[0m\n"
     ]
    },
    {
     "name": "stderr",
     "output_type": "stream",
     "text": [
      "/home/arasdar/anaconda3/envs/env/lib/python3.6/site-packages/gym/__init__.py:22: UserWarning: DEPRECATION WARNING: to improve load times, gym no longer automatically loads gym.spaces. Please run \"import gym.spaces\" to load gym.spaces on your own. This warning will turn into an error in a future version of gym.\n",
      "  warnings.warn('DEPRECATION WARNING: to improve load times, gym no longer automatically loads gym.spaces. Please run \"import gym.spaces\" to load gym.spaces on your own. This warning will turn into an error in a future version of gym.')\n"
     ]
    },
    {
     "data": {
      "text/plain": [
       "(24, 4)"
      ]
     },
     "execution_count": 3,
     "metadata": {},
     "output_type": "execute_result"
    }
   ],
   "source": [
    "import gym\n",
    "env = gym.make('BipedalWalker-v2')\n",
    "env.seed(10)\n",
    "env.observation_space.shape[0], env.action_space.shape[0]"
   ]
  },
  {
   "cell_type": "code",
   "execution_count": 10,
   "metadata": {},
   "outputs": [
    {
     "name": "stdout",
     "output_type": "stream",
     "text": [
      "\u001b[33mWARN: gym.spaces.Box autodetected dtype as <class 'numpy.float32'>. Please provide explicit dtype.\u001b[0m\n",
      "\u001b[33mWARN: gym.spaces.Box autodetected dtype as <class 'numpy.float32'>. Please provide explicit dtype.\u001b[0m\n",
      "[1.5630574]\n",
      "[1.2244966]\n",
      "[-1.5707959]\n",
      "[-1.96376]\n",
      "[-1.2331035]\n",
      "[-0.91809064]\n",
      "[0.46473196]\n",
      "[-0.46290728]\n",
      "[0.81362814]\n",
      "[-0.5877001]\n",
      "[-1.3822984]\n",
      "[-0.74924064]\n",
      "[1.5372969]\n",
      "[1.8341293]\n",
      "[-1.169949]\n",
      "[1.1538736]\n",
      "[-0.90660506]\n",
      "[1.5485262]\n",
      "[-1.3378175]\n",
      "[0.6638397]\n",
      "[-1.663155]\n",
      "[1.8955733]\n",
      "[0.8025334]\n",
      "[1.367263]\n",
      "[0.26667735]\n",
      "[-0.09279454]\n",
      "[0.48752958]\n",
      "[0.11496605]\n",
      "[-0.12246258]\n",
      "[1.037801]\n",
      "[-1.2871962]\n",
      "[-1.3153118]\n",
      "[-0.2726294]\n",
      "[-0.71700835]\n",
      "[-1.7035019]\n",
      "[1.377882]\n",
      "[1.0864112]\n",
      "[0.175686]\n",
      "[1.9172982]\n",
      "[-1.7095997]\n",
      "[1.0666772]\n",
      "[-0.93451846]\n",
      "[-0.5256043]\n",
      "[-1.1228825]\n",
      "[1.1561515]\n",
      "[-1.4230396]\n",
      "[1.3600668]\n",
      "[0.64631057]\n",
      "[-1.7639071]\n",
      "[1.2439269]\n",
      "[0.51102287]\n",
      "[1.6199293]\n",
      "[0.9948892]\n",
      "[0.24448371]\n",
      "[1.3461887]\n",
      "[-0.887799]\n",
      "[0.18780024]\n",
      "[-0.82553273]\n",
      "[1.8728175]\n",
      "[-1.0952148]\n",
      "[-1.937047]\n",
      "[-0.69658065]\n",
      "[0.01003759]\n",
      "[-1.8865483]\n",
      "[0.2369932]\n",
      "[1.4971311]\n",
      "[0.8189288]\n",
      "[0.4918733]\n",
      "[1.823847]\n",
      "[1.8331174]\n",
      "[1.2970659]\n",
      "[0.4309674]\n",
      "[-0.04894176]\n",
      "[-1.9467355]\n",
      "[0.42504764]\n",
      "[1.9563524]\n",
      "[1.2724042]\n",
      "[-0.6375814]\n",
      "[-1.3918118]\n",
      "[1.1362344]\n",
      "[0.9757513]\n",
      "[1.8681872]\n",
      "[1.4993695]\n",
      "[0.2226505]\n",
      "[-1.594863]\n",
      "[-0.06599737]\n",
      "[-0.74521977]\n",
      "[0.04963393]\n",
      "[-0.7931937]\n",
      "[1.447292]\n",
      "[1.377308]\n",
      "[-0.7381394]\n",
      "[0.39832538]\n",
      "[-0.27927658]\n",
      "[1.636371]\n",
      "[-1.2505563]\n",
      "[0.7909136]\n",
      "[1.8815013]\n",
      "[-1.2988979]\n",
      "[-1.1921343]\n"
     ]
    }
   ],
   "source": [
    "# import gym\n",
    "# env = gym.make('FetchPush-v1')\n",
    "# env = gym.make('HandManipulateBlock-v0')\n",
    "# env = gym.make('HandManipulateBlock-v0')\n",
    "# env = gym.make('Ant-v2')\n",
    "# env = gym.make('HumanoidStandup-v2')\n",
    "env = gym.make('Pendulum-v0')\n",
    "env.reset()\n",
    "for _ in range(100):\n",
    "    env.render()\n",
    "    action = env.action_space.sample()\n",
    "    state, reward, done, _ = env.step(action) # take a random action\n",
    "    print(action)\n",
    "    if done:\n",
    "        break\n",
    "env.close()"
   ]
  },
  {
   "cell_type": "code",
   "execution_count": 2,
   "metadata": {},
   "outputs": [],
   "source": [
    "# env = gym.make('Acrobot-v1')\n",
    "# env = gym.make('MountainCar-v0')\n",
    "# env = gym.make('Pendulum-v0')\n",
    "# env = gym.make('Blackjack-v0')\n",
    "# env = gym.make('FrozenLake-v0')\n",
    "# env = gym.make('AirRaid-ram-v0')\n",
    "# env = gym.make('AirRaid-v0')\n",
    "# env = gym.make('BipedalWalker-v2')\n",
    "# env = gym.make('Copy-v0')\n",
    "# # env = gym.make('CarRacing-v0')\n",
    "# env = gym.make('Ant-v2') #mujoco\n",
    "# env = gym.make('FetchPickAndPlace-v1') # mujoco required!"
   ]
  },
  {
   "cell_type": "code",
   "execution_count": 3,
   "metadata": {},
   "outputs": [
    {
     "name": "stderr",
     "output_type": "stream",
     "text": [
      "/home/arasdar/github/arasdar-DL-git/reinforcement/gym/gym/__init__.py:22: UserWarning: DEPRECATION WARNING: to improve load times, gym no longer automatically loads gym.spaces. Please run \"import gym.spaces\" to load gym.spaces on your own. This warning will turn into an error in a future version of gym.\n",
      "  warnings.warn('DEPRECATION WARNING: to improve load times, gym no longer automatically loads gym.spaces. Please run \"import gym.spaces\" to load gym.spaces on your own. This warning will turn into an error in a future version of gym.')\n"
     ]
    },
    {
     "name": "stdout",
     "output_type": "stream",
     "text": [
      "\u001b[33mWARN: gym.spaces.Box autodetected dtype as <class 'numpy.float32'>. Please provide explicit dtype.\u001b[0m\n",
      "state, reward, done, info:\n",
      "0 [ 0.12084135  1.20601221 -0.22400571 -2.02638155] 1.0 True {}\n",
      "Episode finished after 12 timesteps\n",
      "state, reward, done, info:\n",
      "0 [-0.15777311 -0.77561598  0.23145726  1.45869557] 1.0 True {}\n",
      "Episode finished after 12 timesteps\n"
     ]
    }
   ],
   "source": [
    "import gym\n",
    "\n",
    "# Choose the env\n",
    "env = gym.make('CartPole-v0')\n",
    "\n",
    "# Number of episodes to play\n",
    "for _ in range(2):\n",
    "    \n",
    "    # reser the env or restart the env after being done: done=True\n",
    "    env.reset()\n",
    "    \n",
    "    # max number of env step: it should be done til done=True\n",
    "    for t in range(100):\n",
    "        env.render()\n",
    "        a = env.action_space.sample()\n",
    "        s, r, d, i = env.step(a)\n",
    "        if d:\n",
    "            print('state, reward, done, info:')\n",
    "            print(a, s, r, d, i)\n",
    "            print(\"Episode finished after {} timesteps\".format(t+1))\n",
    "            break\n",
    "env.close()"
   ]
  },
  {
   "cell_type": "code",
   "execution_count": 9,
   "metadata": {},
   "outputs": [
    {
     "data": {
      "text/plain": [
       "(1571, 0.4154382306933403, -100)"
      ]
     },
     "execution_count": 9,
     "metadata": {},
     "output_type": "execute_result"
    }
   ],
   "source": [
    "len(rewards), max(rewards), min(rewards)"
   ]
  },
  {
   "cell_type": "code",
   "execution_count": 12,
   "metadata": {},
   "outputs": [],
   "source": [
    "import numpy as np"
   ]
  },
  {
   "cell_type": "code",
   "execution_count": 13,
   "metadata": {},
   "outputs": [
    {
     "data": {
      "text/plain": [
       "((150,), dtype('int64'))"
      ]
     },
     "execution_count": 13,
     "metadata": {},
     "output_type": "execute_result"
    }
   ],
   "source": [
    "np.array(observations).shape, np.array(observations).dtype"
   ]
  },
  {
   "cell_type": "code",
   "execution_count": 14,
   "metadata": {},
   "outputs": [
    {
     "data": {
      "text/plain": [
       "((150,), dtype('float64'))"
      ]
     },
     "execution_count": 14,
     "metadata": {},
     "output_type": "execute_result"
    }
   ],
   "source": [
    "np.array(rewards).shape, np.array(rewards).dtype"
   ]
  },
  {
   "cell_type": "code",
   "execution_count": 15,
   "metadata": {},
   "outputs": [
    {
     "data": {
      "text/plain": [
       "(0.0, 0.0)"
      ]
     },
     "execution_count": 15,
     "metadata": {},
     "output_type": "execute_result"
    }
   ],
   "source": [
    "max(rewards), min(rewards)"
   ]
  },
  {
   "cell_type": "code",
   "execution_count": 16,
   "metadata": {},
   "outputs": [
    {
     "data": {
      "text/plain": [
       "((150,), (150,))"
      ]
     },
     "execution_count": 16,
     "metadata": {},
     "output_type": "execute_result"
    }
   ],
   "source": [
    "np.array(dones).shape, np.array(infos).shape"
   ]
  },
  {
   "cell_type": "code",
   "execution_count": 17,
   "metadata": {},
   "outputs": [
    {
     "data": {
      "text/plain": [
       "(dtype('bool'), dtype('O'))"
      ]
     },
     "execution_count": 17,
     "metadata": {},
     "output_type": "execute_result"
    }
   ],
   "source": [
    "np.array(dones).dtype, np.array(infos).dtype"
   ]
  },
  {
   "cell_type": "code",
   "execution_count": 23,
   "metadata": {},
   "outputs": [],
   "source": [
    "# infos, dones"
   ]
  },
  {
   "cell_type": "code",
   "execution_count": 11,
   "metadata": {},
   "outputs": [],
   "source": [
    "# observations"
   ]
  },
  {
   "cell_type": "code",
   "execution_count": null,
   "metadata": {},
   "outputs": [],
   "source": []
  }
 ],
 "metadata": {
  "kernelspec": {
   "display_name": "Python 3",
   "language": "python",
   "name": "python3"
  },
  "language_info": {
   "codemirror_mode": {
    "name": "ipython",
    "version": 3
   },
   "file_extension": ".py",
   "mimetype": "text/x-python",
   "name": "python",
   "nbconvert_exporter": "python",
   "pygments_lexer": "ipython3",
   "version": "3.6.5"
  }
 },
 "nbformat": 4,
 "nbformat_minor": 2
}
