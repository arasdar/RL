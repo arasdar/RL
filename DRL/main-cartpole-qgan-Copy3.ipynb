{
 "cells": [
  {
   "cell_type": "code",
   "execution_count": 1,
   "metadata": {},
   "outputs": [
    {
     "name": "stdout",
     "output_type": "stream",
     "text": [
      "TensorFlow Version: 1.7.1\n",
      "Default GPU Device: \n"
     ]
    }
   ],
   "source": [
    "import tensorflow as tf\n",
    "print('TensorFlow Version: {}'.format(tf.__version__))\n",
    "print('Default GPU Device: {}'.format(tf.test.gpu_device_name()))"
   ]
  },
  {
   "cell_type": "markdown",
   "metadata": {},
   "source": [
    "##### >**Note:** Make sure you have OpenAI Gym cloned. Then run this command `pip install -e gym/[all]`."
   ]
  },
  {
   "cell_type": "code",
   "execution_count": 2,
   "metadata": {},
   "outputs": [],
   "source": [
    "import numpy as np\n",
    "import gym\n",
    "env = gym.make('CartPole-v0')\n",
    "env = gym.make('CartPole-v1')"
   ]
  },
  {
   "cell_type": "code",
   "execution_count": 3,
   "metadata": {},
   "outputs": [],
   "source": [
    "def model_input(state_size):\n",
    "    #states = tf.placeholder(tf.float32, [None, *state_size], name='states')\n",
    "    states = tf.placeholder(tf.float32, [None, state_size], name='states')\n",
    "    actions = tf.placeholder(tf.int32, [None], name='actions')\n",
    "    next_states = tf.placeholder(tf.float32, [None, state_size], name='next_states')\n",
    "    rewards = tf.placeholder(tf.float32, [None], name='rewards')\n",
    "    dones = tf.placeholder(tf.float32, [None], name='dones')\n",
    "    rates = tf.placeholder(tf.float32, [None], name='rates') # success rate\n",
    "    return states, actions, next_states, rewards, dones, rates"
   ]
  },
  {
   "cell_type": "code",
   "execution_count": 4,
   "metadata": {},
   "outputs": [],
   "source": [
    "def actor(states, action_size, hidden_size, reuse=False, alpha=0.1, training=False):\n",
    "    with tf.variable_scope('actor', reuse=reuse):\n",
    "        # First fully connected layer\n",
    "        h1 = tf.layers.dense(inputs=states, units=hidden_size)\n",
    "        bn1 = tf.layers.batch_normalization(h1, training=training)        \n",
    "        nl1 = tf.maximum(alpha * bn1, bn1)\n",
    "        \n",
    "        # Second fully connected layer\n",
    "        h2 = tf.layers.dense(inputs=nl1, units=hidden_size)\n",
    "        bn2 = tf.layers.batch_normalization(h2, training=training)        \n",
    "        nl2 = tf.maximum(alpha * bn2, bn2)\n",
    "        \n",
    "        # Output layer\n",
    "        logits = tf.layers.dense(inputs=nl2, units=action_size)        \n",
    "        return logits"
   ]
  },
  {
   "cell_type": "code",
   "execution_count": 5,
   "metadata": {},
   "outputs": [],
   "source": [
    "def generator(actions, state_size, hidden_size, reuse=False, alpha=0.1, training=False):\n",
    "    with tf.variable_scope('generator', reuse=reuse):\n",
    "        # First fully connected layer\n",
    "        h1 = tf.layers.dense(inputs=actions, units=hidden_size)\n",
    "        bn1 = tf.layers.batch_normalization(h1, training=training)        \n",
    "        nl1 = tf.maximum(alpha * bn1, bn1)\n",
    "        \n",
    "        # Second fully connected layer\n",
    "        h2 = tf.layers.dense(inputs=nl1, units=hidden_size)\n",
    "        bn2 = tf.layers.batch_normalization(h2, training=training)        \n",
    "        nl2 = tf.maximum(alpha * bn2, bn2)\n",
    "        \n",
    "        # Output layer\n",
    "        logits = tf.layers.dense(inputs=nl2, units=state_size)        \n",
    "        return logits"
   ]
  },
  {
   "cell_type": "code",
   "execution_count": 6,
   "metadata": {},
   "outputs": [],
   "source": [
    "def discriminator(states, actions, action_size, hidden_size, reuse=False, alpha=0.1, training=False):\n",
    "    with tf.variable_scope('discriminator', reuse=reuse):\n",
    "        # First fully connected layer\n",
    "        h1 = tf.layers.dense(inputs=states, units=action_size)\n",
    "        bn1 = tf.layers.batch_normalization(h1, training=training)        \n",
    "        nl1 = tf.maximum(alpha * bn1, bn1)\n",
    "        \n",
    "        # Second fully connected layer\n",
    "        nl1_fused = tf.concat(axis=1, values=[nl1, actions])\n",
    "        h2 = tf.layers.dense(inputs=nl1_fused, units=hidden_size)\n",
    "        bn2 = tf.layers.batch_normalization(h2, training=training)        \n",
    "        nl2 = tf.maximum(alpha * bn2, bn2)\n",
    "                \n",
    "        # Output layer\n",
    "        logits = tf.layers.dense(inputs=nl2, units=1)        \n",
    "        return logits"
   ]
  },
  {
   "cell_type": "code",
   "execution_count": 7,
   "metadata": {},
   "outputs": [],
   "source": [
    "def model_loss(state_size, action_size, hidden_size, gamma,\n",
    "               states, actions, next_states, rewards, dones, rates):\n",
    "    actions_logits = actor(states=states, hidden_size=hidden_size, action_size=action_size)\n",
    "    actions_labels = tf.one_hot(indices=actions, depth=action_size, dtype=actions_logits.dtype)\n",
    "    aloss = tf.reduce_mean(tf.nn.softmax_cross_entropy_with_logits_v2(logits=actions_logits, \n",
    "                                                                      labels=actions_labels))\n",
    "    ###############################################\n",
    "    next_states_logits = generator(actions=actions_logits, hidden_size=hidden_size, state_size=state_size)\n",
    "    next_states_labels = tf.nn.sigmoid(next_states)\n",
    "    aloss += tf.reduce_mean(tf.nn.sigmoid_cross_entropy_with_logits(logits=next_states_logits, \n",
    "                                                                    labels=next_states_labels))\n",
    "    ####################################################\n",
    "    dQs = discriminator(actions=actions_labels, hidden_size=hidden_size, states=states, action_size=action_size)\n",
    "    rates = tf.reshape(rates, shape=[-1, 1])\n",
    "    dloss = tf.reduce_mean(tf.nn.sigmoid_cross_entropy_with_logits(logits=dQs, # GAN\n",
    "                                                                   labels=rates)) # 0-1\n",
    "    ####################################################\n",
    "    gQs = discriminator(actions=actions_logits, hidden_size=hidden_size, states=states, action_size=action_size, \n",
    "                        reuse=True)\n",
    "    dloss += tf.reduce_mean(tf.nn.sigmoid_cross_entropy_with_logits(logits=gQs, # GAN\n",
    "                                                                    labels=tf.zeros_like(gQs))) # 0-1\n",
    "    aloss2 = tf.reduce_mean(tf.nn.sigmoid_cross_entropy_with_logits(logits=gQs, # GAN\n",
    "                                                                    labels=tf.ones_like(gQs))) # 0-1\n",
    "    #####################################################\n",
    "    next_actions_logits = actor(states=next_states, hidden_size=hidden_size, action_size=action_size, reuse=True)\n",
    "    gQs2 = discriminator(actions=next_actions_logits, hidden_size=hidden_size, states=next_states, \n",
    "                         action_size=action_size, reuse=True)\n",
    "    gQs2 = tf.reshape(gQs2, shape=[-1]) * (1-dones)\n",
    "    dloss += tf.reduce_mean(tf.nn.sigmoid_cross_entropy_with_logits(logits=gQs2, # GAN\n",
    "                                                                    labels=tf.zeros_like(gQs2))) # 0-1\n",
    "    aloss2 += tf.reduce_mean(tf.nn.sigmoid_cross_entropy_with_logits(logits=gQs2, # GAN\n",
    "                                                                     labels=tf.ones_like(gQs2))) # 0-1\n",
    "    ##################################################### REPEAT 1\n",
    "    next_states_logits = generator(actions=next_actions_logits, hidden_size=hidden_size, state_size=state_size, \n",
    "                                   reuse=True)\n",
    "    next_actions_logits = actor(states=next_states_logits, hidden_size=hidden_size, action_size=action_size, \n",
    "                                reuse=True)\n",
    "    gQs3 = discriminator(actions=next_actions_logits, hidden_size=hidden_size, states=next_states_logits,\n",
    "                         action_size=action_size, reuse=True)\n",
    "    gQs3 = tf.reshape(gQs3, shape=[-1]) * (1-dones)\n",
    "    dloss += tf.reduce_mean(tf.nn.sigmoid_cross_entropy_with_logits(logits=gQs3, # GAN\n",
    "                                                                    labels=tf.zeros_like(gQs3))) # 0-1\n",
    "    aloss2 += tf.reduce_mean(tf.nn.sigmoid_cross_entropy_with_logits(logits=gQs3, # GAN\n",
    "                                                                     labels=tf.ones_like(gQs3))) # 0-1\n",
    "    ##################################################### REPEAT 2\n",
    "    next_states_logits = generator(actions=next_actions_logits, hidden_size=hidden_size, state_size=state_size, \n",
    "                                   reuse=True)\n",
    "    next_actions_logits = actor(states=next_states_logits, hidden_size=hidden_size, action_size=action_size, \n",
    "                                reuse=True)\n",
    "    gQs3 = discriminator(actions=next_actions_logits, hidden_size=hidden_size, states=next_states_logits,\n",
    "                         action_size=action_size, reuse=True)\n",
    "    gQs3 = tf.reshape(gQs3, shape=[-1]) * (1-dones)\n",
    "    dloss += tf.reduce_mean(tf.nn.sigmoid_cross_entropy_with_logits(logits=gQs3, # GAN\n",
    "                                                                    labels=tf.zeros_like(gQs3))) # 0-1\n",
    "    aloss2 += tf.reduce_mean(tf.nn.sigmoid_cross_entropy_with_logits(logits=gQs3, # GAN\n",
    "                                                                     labels=tf.ones_like(gQs3))) # 0-1\n",
    "    return actions_logits, aloss, dloss, aloss2, (1-dones)"
   ]
  },
  {
   "cell_type": "code",
   "execution_count": 8,
   "metadata": {},
   "outputs": [],
   "source": [
    "def model_opt(a_loss, a_loss2, d_loss, a_learning_rate, d_learning_rate):\n",
    "    # Get weights and bias to update\n",
    "    t_vars = tf.trainable_variables()\n",
    "    a_vars = [var for var in t_vars if var.name.startswith('actor')]\n",
    "    g_vars = [var for var in t_vars if var.name.startswith('generator')]\n",
    "    d_vars = [var for var in t_vars if var.name.startswith('discriminator')]\n",
    "\n",
    "    # Optimize\n",
    "    with tf.control_dependencies(tf.get_collection(tf.GraphKeys.UPDATE_OPS)): # Required for batchnorm (BN)\n",
    "        a_opt = tf.train.AdamOptimizer(a_learning_rate).minimize(a_loss, var_list=a_vars)\n",
    "        d_opt = tf.train.AdamOptimizer(d_learning_rate).minimize(d_loss, var_list=d_vars)\n",
    "        a_opt2 = tf.train.AdamOptimizer(a_learning_rate).minimize(a_loss2, var_list=a_vars)\n",
    "    return a_opt, d_opt, a_opt2"
   ]
  },
  {
   "cell_type": "code",
   "execution_count": 9,
   "metadata": {},
   "outputs": [],
   "source": [
    "class Model:\n",
    "    def __init__(self, state_size, action_size, hidden_size, a_learning_rate, d_learning_rate, gamma):\n",
    "\n",
    "        # Data of the Model: make the data available inside the framework\n",
    "        self.states, self.actions, self.next_states, self.rewards, self.dones, self.rates = model_input(\n",
    "            state_size=state_size)\n",
    "\n",
    "        # Create the Model: calculating the loss and forwad pass\n",
    "        self.actions_logits, self.a_loss, self.d_loss, self.a_loss2, self.dones__ = model_loss(\n",
    "            state_size=state_size, action_size=action_size, hidden_size=hidden_size, gamma=gamma, # model init\n",
    "            states=self.states, actions=self.actions, next_states=self.next_states, #model input \n",
    "            rewards=self.rewards, dones=self.dones, rates=self.rates) # model input\n",
    "        \n",
    "        # Update the model: backward pass and backprop\n",
    "        self.a_opt, self.d_opt, self.a_opt2 = model_opt(a_loss=self.a_loss, \n",
    "                                                        a_loss2=self.a_loss2, \n",
    "                                                        d_loss=self.d_loss,\n",
    "                                                        a_learning_rate=a_learning_rate,\n",
    "                                                        d_learning_rate=d_learning_rate)"
   ]
  },
  {
   "cell_type": "code",
   "execution_count": 10,
   "metadata": {},
   "outputs": [],
   "source": [
    "# def sample(buffer, batch_size):\n",
    "#     idx = np.random.choice(np.arange(len(buffer)), size=batch_size, replace=False)\n",
    "#     return [buffer[ii] for ii in idx]"
   ]
  },
  {
   "cell_type": "code",
   "execution_count": 11,
   "metadata": {},
   "outputs": [],
   "source": [
    "from collections import deque\n",
    "class Memory():\n",
    "    def __init__(self, max_size = 1000):\n",
    "        self.buffer = deque(maxlen=max_size) # data batch"
   ]
  },
  {
   "cell_type": "markdown",
   "metadata": {},
   "source": [
    "## Hyperparameters\n",
    "\n",
    "One of the more difficult aspects of reinforcememt learning are the large number of hyperparameters. Not only are we tuning the network, but we're tuning the simulation."
   ]
  },
  {
   "cell_type": "code",
   "execution_count": 12,
   "metadata": {},
   "outputs": [
    {
     "data": {
      "text/plain": [
       "(Box(4,), Discrete(2))"
      ]
     },
     "execution_count": 12,
     "metadata": {},
     "output_type": "execute_result"
    }
   ],
   "source": [
    "env.observation_space, env.action_space"
   ]
  },
  {
   "cell_type": "code",
   "execution_count": 13,
   "metadata": {},
   "outputs": [],
   "source": [
    "# Exploration parameters\n",
    "explore_start = 1.0            # exploration probability at start\n",
    "explore_stop = 0.01           # minimum exploration probability \n",
    "decay_rate = 0.0001            # exponential decay rate for exploration prob\n",
    "\n",
    "# Network parameters\n",
    "state_size = 4\n",
    "action_size = 2\n",
    "hidden_size = 4*2             # number of units in each Q-network hidden layer\n",
    "a_learning_rate = 1e-4         # Q-network learning rate\n",
    "d_learning_rate = 1e-4         # Q-network learning rate\n",
    "\n",
    "# Memory parameters\n",
    "memory_size = int(1e5)            # memory capacity\n",
    "batch_size = int(1e3)             # experience mini-batch size: 200/500 a successfull episode size\n",
    "gamma = 0.99                   # future reward discount"
   ]
  },
  {
   "cell_type": "code",
   "execution_count": 14,
   "metadata": {},
   "outputs": [],
   "source": [
    "# Reset/init the graph/session\n",
    "graph = tf.reset_default_graph()\n",
    "\n",
    "# Init the model\n",
    "model = Model(action_size=action_size, state_size=state_size, hidden_size=hidden_size,\n",
    "              a_learning_rate=a_learning_rate, d_learning_rate=d_learning_rate, gamma=gamma)\n",
    "\n",
    "# Init the memory\n",
    "memory = Memory(max_size=memory_size)"
   ]
  },
  {
   "cell_type": "code",
   "execution_count": 15,
   "metadata": {},
   "outputs": [],
   "source": [
    "state = env.reset()\n",
    "total_reward = 0\n",
    "num_step = 0\n",
    "for _ in range(memory_size):\n",
    "    action = env.action_space.sample()\n",
    "    next_state, reward, done, _ = env.step(action)\n",
    "    rate = -1\n",
    "    memory.buffer.append([state, action, next_state, reward, float(done), rate])\n",
    "    num_step += 1 # memory incremented\n",
    "    total_reward += reward\n",
    "    state = next_state\n",
    "    if done is True:\n",
    "        state = env.reset()\n",
    "        rate = total_reward/500\n",
    "        for idx in range(num_step): # episode length\n",
    "            if memory.buffer[-1-idx][-1] == -1:\n",
    "                memory.buffer[-1-idx][-1] = rate\n",
    "        total_reward = 0 # reset\n",
    "        num_step = 0 # reset"
   ]
  },
  {
   "cell_type": "markdown",
   "metadata": {},
   "source": [
    "## Training the model\n",
    "\n",
    "Below we'll train our agent. If you want to watch it train, uncomment the `env.render()` line. This is slow because it's rendering the frames slower than the network can train. But, it's cool to watch the agent get better at the game."
   ]
  },
  {
   "cell_type": "code",
   "execution_count": null,
   "metadata": {},
   "outputs": [
    {
     "name": "stdout",
     "output_type": "stream",
     "text": [
      "Episode:0 meanR:14.0000 R:14.0000 rate:0.0280 aloss:1.3858 dloss:3.5442 aloss2:2.7283 exploreP:0.9986\n",
      "Episode:1 meanR:19.0000 R:24.0000 rate:0.0480 aloss:1.3919 dloss:3.5237 aloss2:2.7479 exploreP:0.9962\n",
      "Episode:2 meanR:25.6667 R:39.0000 rate:0.0780 aloss:1.3921 dloss:3.4992 aloss2:2.7626 exploreP:0.9924\n",
      "Episode:3 meanR:25.5000 R:25.0000 rate:0.0500 aloss:1.3903 dloss:3.5097 aloss2:2.7531 exploreP:0.9900\n",
      "Episode:4 meanR:26.2000 R:29.0000 rate:0.0580 aloss:1.3834 dloss:3.4550 aloss2:2.7978 exploreP:0.9871\n",
      "Episode:5 meanR:23.8333 R:12.0000 rate:0.0240 aloss:1.3884 dloss:3.4658 aloss2:2.7834 exploreP:0.9859\n",
      "Episode:6 meanR:22.1429 R:12.0000 rate:0.0240 aloss:1.3785 dloss:3.4860 aloss2:2.7691 exploreP:0.9848\n",
      "Episode:7 meanR:31.3750 R:96.0000 rate:0.1920 aloss:1.3795 dloss:3.4311 aloss2:2.8109 exploreP:0.9755\n",
      "Episode:8 meanR:31.5556 R:33.0000 rate:0.0660 aloss:1.3755 dloss:3.3838 aloss2:2.8474 exploreP:0.9723\n",
      "Episode:9 meanR:33.9000 R:55.0000 rate:0.1100 aloss:1.3778 dloss:3.3717 aloss2:2.8559 exploreP:0.9670\n",
      "Episode:10 meanR:32.5455 R:19.0000 rate:0.0380 aloss:1.3771 dloss:3.3679 aloss2:2.8566 exploreP:0.9652\n",
      "Episode:11 meanR:34.3333 R:54.0000 rate:0.1080 aloss:1.3770 dloss:3.3067 aloss2:2.9102 exploreP:0.9600\n",
      "Episode:12 meanR:32.6923 R:13.0000 rate:0.0260 aloss:1.3765 dloss:3.3028 aloss2:2.9118 exploreP:0.9588\n",
      "Episode:13 meanR:33.5000 R:44.0000 rate:0.0880 aloss:1.3728 dloss:3.2723 aloss2:2.9385 exploreP:0.9546\n",
      "Episode:14 meanR:33.4000 R:32.0000 rate:0.0640 aloss:1.3721 dloss:3.2479 aloss2:2.9593 exploreP:0.9516\n",
      "Episode:15 meanR:32.8125 R:24.0000 rate:0.0480 aloss:1.3764 dloss:3.2227 aloss2:2.9811 exploreP:0.9494\n",
      "Episode:16 meanR:32.2941 R:24.0000 rate:0.0480 aloss:1.3733 dloss:3.2041 aloss2:2.9966 exploreP:0.9471\n",
      "Episode:17 meanR:31.3889 R:16.0000 rate:0.0320 aloss:1.3697 dloss:3.1817 aloss2:3.0203 exploreP:0.9456\n",
      "Episode:18 meanR:31.0000 R:24.0000 rate:0.0480 aloss:1.3834 dloss:3.1726 aloss2:3.0232 exploreP:0.9434\n",
      "Episode:19 meanR:30.5000 R:21.0000 rate:0.0420 aloss:1.3929 dloss:3.1669 aloss2:3.0314 exploreP:0.9414\n",
      "Episode:20 meanR:29.9524 R:19.0000 rate:0.0380 aloss:1.3761 dloss:3.1548 aloss2:3.0435 exploreP:0.9396\n",
      "Episode:21 meanR:29.0455 R:10.0000 rate:0.0200 aloss:1.3878 dloss:3.1557 aloss2:3.0450 exploreP:0.9387\n",
      "Episode:22 meanR:28.6522 R:20.0000 rate:0.0400 aloss:1.3743 dloss:3.1122 aloss2:3.0845 exploreP:0.9369\n",
      "Episode:23 meanR:28.5000 R:25.0000 rate:0.0500 aloss:1.3747 dloss:3.1006 aloss2:3.0955 exploreP:0.9345\n",
      "Episode:24 meanR:28.2400 R:22.0000 rate:0.0440 aloss:1.3748 dloss:3.0729 aloss2:3.1212 exploreP:0.9325\n",
      "Episode:25 meanR:28.3462 R:31.0000 rate:0.0620 aloss:1.3838 dloss:3.0834 aloss2:3.1059 exploreP:0.9297\n",
      "Episode:26 meanR:29.1852 R:51.0000 rate:0.1020 aloss:1.3801 dloss:3.0331 aloss2:3.1604 exploreP:0.9250\n",
      "Episode:27 meanR:28.8214 R:19.0000 rate:0.0380 aloss:1.3732 dloss:2.9917 aloss2:3.2006 exploreP:0.9232\n",
      "Episode:28 meanR:28.3103 R:14.0000 rate:0.0280 aloss:1.3817 dloss:2.9992 aloss2:3.1952 exploreP:0.9220\n",
      "Episode:29 meanR:28.0000 R:19.0000 rate:0.0380 aloss:1.3754 dloss:2.9745 aloss2:3.2204 exploreP:0.9202\n",
      "Episode:30 meanR:28.0323 R:29.0000 rate:0.0580 aloss:1.3750 dloss:2.9505 aloss2:3.2449 exploreP:0.9176\n",
      "Episode:31 meanR:27.7500 R:19.0000 rate:0.0380 aloss:1.3746 dloss:2.9497 aloss2:3.2501 exploreP:0.9159\n",
      "Episode:32 meanR:28.0606 R:38.0000 rate:0.0760 aloss:1.3917 dloss:2.9228 aloss2:3.2752 exploreP:0.9124\n",
      "Episode:33 meanR:27.5000 R:9.0000 rate:0.0180 aloss:1.3831 dloss:2.8792 aloss2:3.3178 exploreP:0.9116\n",
      "Episode:34 meanR:27.5143 R:28.0000 rate:0.0560 aloss:1.3842 dloss:2.8778 aloss2:3.3207 exploreP:0.9091\n",
      "Episode:35 meanR:27.5833 R:30.0000 rate:0.0600 aloss:1.3811 dloss:2.8599 aloss2:3.3458 exploreP:0.9064\n",
      "Episode:36 meanR:27.4324 R:22.0000 rate:0.0440 aloss:1.3837 dloss:2.8346 aloss2:3.3639 exploreP:0.9044\n",
      "Episode:37 meanR:27.2632 R:21.0000 rate:0.0420 aloss:1.3927 dloss:2.8157 aloss2:3.3914 exploreP:0.9026\n",
      "Episode:38 meanR:27.2308 R:26.0000 rate:0.0520 aloss:1.3819 dloss:2.8078 aloss2:3.3951 exploreP:0.9003\n",
      "Episode:39 meanR:26.9000 R:14.0000 rate:0.0280 aloss:1.3830 dloss:2.7801 aloss2:3.4269 exploreP:0.8990\n",
      "Episode:40 meanR:26.7073 R:19.0000 rate:0.0380 aloss:1.3818 dloss:2.7718 aloss2:3.4347 exploreP:0.8973\n",
      "Episode:41 meanR:26.5952 R:22.0000 rate:0.0440 aloss:1.3773 dloss:2.7422 aloss2:3.4746 exploreP:0.8954\n",
      "Episode:42 meanR:26.3721 R:17.0000 rate:0.0340 aloss:1.3755 dloss:2.7265 aloss2:3.4943 exploreP:0.8939\n",
      "Episode:43 meanR:26.1818 R:18.0000 rate:0.0360 aloss:1.3759 dloss:2.6953 aloss2:3.5264 exploreP:0.8923\n",
      "Episode:44 meanR:25.8444 R:11.0000 rate:0.0220 aloss:1.3828 dloss:2.6846 aloss2:3.5420 exploreP:0.8913\n",
      "Episode:45 meanR:25.7609 R:22.0000 rate:0.0440 aloss:1.4237 dloss:2.7037 aloss2:3.5173 exploreP:0.8894\n",
      "Episode:46 meanR:25.6596 R:21.0000 rate:0.0420 aloss:1.3819 dloss:2.6793 aloss2:3.5478 exploreP:0.8875\n",
      "Episode:47 meanR:25.3958 R:13.0000 rate:0.0260 aloss:1.3983 dloss:2.6514 aloss2:3.5879 exploreP:0.8864\n",
      "Episode:48 meanR:25.5102 R:31.0000 rate:0.0620 aloss:1.3810 dloss:2.6117 aloss2:3.6356 exploreP:0.8837\n",
      "Episode:49 meanR:26.3200 R:66.0000 rate:0.1320 aloss:1.3836 dloss:2.5766 aloss2:3.6815 exploreP:0.8779\n",
      "Episode:50 meanR:26.1373 R:17.0000 rate:0.0340 aloss:1.3724 dloss:2.5236 aloss2:3.7472 exploreP:0.8765\n",
      "Episode:51 meanR:25.8462 R:11.0000 rate:0.0220 aloss:1.3885 dloss:2.5126 aloss2:3.7643 exploreP:0.8755\n",
      "Episode:52 meanR:25.7925 R:23.0000 rate:0.0460 aloss:1.3837 dloss:2.5083 aloss2:3.7765 exploreP:0.8735\n",
      "Episode:53 meanR:25.6481 R:18.0000 rate:0.0360 aloss:1.3837 dloss:2.4712 aloss2:3.8233 exploreP:0.8720\n",
      "Episode:54 meanR:26.0000 R:45.0000 rate:0.0900 aloss:1.3849 dloss:2.4446 aloss2:3.8585 exploreP:0.8681\n",
      "Episode:55 meanR:25.9643 R:24.0000 rate:0.0480 aloss:1.3689 dloss:2.4146 aloss2:3.8973 exploreP:0.8660\n",
      "Episode:56 meanR:26.0351 R:30.0000 rate:0.0600 aloss:1.3864 dloss:2.3872 aloss2:3.9444 exploreP:0.8635\n",
      "Episode:57 meanR:25.8448 R:15.0000 rate:0.0300 aloss:1.3777 dloss:2.3708 aloss2:3.9680 exploreP:0.8622\n",
      "Episode:58 meanR:25.7288 R:19.0000 rate:0.0380 aloss:1.3794 dloss:2.3369 aloss2:4.0149 exploreP:0.8606\n"
     ]
    }
   ],
   "source": [
    "# Save/load the model and save for plotting\n",
    "saver = tf.train.Saver()\n",
    "episode_rewards_list, rewards_list = [], []\n",
    "# aloss_list, dloss_list, aloss2_list = [], []\n",
    "\n",
    "# TF session for training\n",
    "with tf.Session(graph=graph) as sess:\n",
    "    sess.run(tf.global_variables_initializer())\n",
    "    #saver.restore(sess, 'checkpoints/model.ckpt')    \n",
    "    #saver.restore(sess, tf.train.latest_checkpoint('checkpoints'))\n",
    "    total_step = 0 # Explore or exploit parameter\n",
    "    episode_reward = deque(maxlen=100) # 100 episodes average/running average/running mean/window\n",
    "\n",
    "    # Training episodes/epochs\n",
    "    for ep in range(11111):\n",
    "        total_reward = 0 # each episode\n",
    "        aloss_batch, dloss_batch, aloss2_batch = [], [], []\n",
    "        state = env.reset() # each episode\n",
    "        num_step = 0 # each episode\n",
    "\n",
    "        # Training steps/batches\n",
    "        while True:\n",
    "            # Explore (Env) or Exploit (Model)\n",
    "            total_step += 1\n",
    "            explore_p = explore_stop + (explore_start - explore_stop) * np.exp(-decay_rate * total_step) \n",
    "            if explore_p > np.random.rand():\n",
    "                action = env.action_space.sample()\n",
    "            else:\n",
    "                action_logits = sess.run(model.actions_logits, feed_dict={model.states: state.reshape([1, -1])})\n",
    "                action = np.argmax(action_logits)\n",
    "            next_state, reward, done, _ = env.step(action)\n",
    "            rate = -1\n",
    "            memory.buffer.append([state, action, next_state, reward, float(done), rate])\n",
    "            num_step += 1 # momory added\n",
    "            total_reward += reward\n",
    "            state = next_state\n",
    "            \n",
    "            # Rating the memory\n",
    "            if done is True:\n",
    "                rate = total_reward/500 # update rate at the end/ when episode is done\n",
    "                for idx in range(num_step): # episode length\n",
    "                    if memory.buffer[-1-idx][-1] == -1: # double-check the landmark/marked indexes\n",
    "                        memory.buffer[-1-idx][-1] = rate # rate the trajectory/data\n",
    "                        \n",
    "            # Training with the maxrated minibatch\n",
    "            batch = memory.buffer\n",
    "            #for idx in range(memory_size// batch_size):\n",
    "            idx = np.random.choice(np.arange(memory_size// batch_size))\n",
    "            states = np.array([each[0] for each in batch])[idx*batch_size:(idx+1)*batch_size]\n",
    "            actions = np.array([each[1] for each in batch])[idx*batch_size:(idx+1)*batch_size]\n",
    "            next_states = np.array([each[2] for each in batch])[idx*batch_size:(idx+1)*batch_size]\n",
    "            rewards = np.array([each[3] for each in batch])[idx*batch_size:(idx+1)*batch_size]\n",
    "            dones = np.array([each[4] for each in batch])[idx*batch_size:(idx+1)*batch_size]\n",
    "            rates = np.array([each[5] for each in batch])[idx*batch_size:(idx+1)*batch_size]\n",
    "            states = states[rates == np.max(rates)]\n",
    "            actions = actions[rates == np.max(rates)]\n",
    "            next_states = next_states[rates == np.max(rates)]\n",
    "            rewards = rewards[rates == np.max(rates)]\n",
    "            dones = dones[rates == np.max(rates)]\n",
    "            rates = rates[rates == np.max(rates)]\n",
    "            aloss, _ = sess.run([model.a_loss, model.a_opt],\n",
    "                                  feed_dict = {model.states: states, \n",
    "                                               model.actions: actions,\n",
    "                                               model.next_states: next_states,\n",
    "                                               model.rewards: rewards,\n",
    "                                               model.dones: dones,\n",
    "                                               model.rates: rates})\n",
    "            dloss, _ = sess.run([model.d_loss, model.d_opt],\n",
    "                                  feed_dict = {model.states: states, \n",
    "                                               model.actions: actions,\n",
    "                                               model.next_states: next_states,\n",
    "                                               model.rewards: rewards,\n",
    "                                               model.dones: dones,\n",
    "                                               model.rates: rates})\n",
    "            aloss2, _ = sess.run([model.a_loss2, model.a_opt2], \n",
    "                                 feed_dict = {model.states: states, \n",
    "                                              model.actions: actions,\n",
    "                                              model.next_states: next_states,\n",
    "                                              model.rewards: rewards,\n",
    "                                              model.dones: dones,\n",
    "                                              model.rates: rates})\n",
    "            #print(dones__, np.max(rates), rates.shape, dones)\n",
    "            aloss_batch.append(aloss)\n",
    "            dloss_batch.append(dloss)\n",
    "            aloss2_batch.append(aloss2)\n",
    "            if done is True:\n",
    "                break\n",
    "                \n",
    "        episode_reward.append(total_reward)\n",
    "        print('Episode:{}'.format(ep),\n",
    "              'meanR:{:.4f}'.format(np.mean(episode_reward)),\n",
    "              'R:{:.4f}'.format(total_reward),\n",
    "              'rate:{:.4f}'.format(rate),\n",
    "              'aloss:{:.4f}'.format(np.mean(aloss_batch)),\n",
    "              'dloss:{:.4f}'.format(np.mean(dloss_batch)),\n",
    "              'aloss2:{:.4f}'.format(np.mean(aloss2_batch)),\n",
    "              'exploreP:{:.4f}'.format(explore_p))\n",
    "\n",
    "        # Ploting out\n",
    "        episode_rewards_list.append([ep, np.mean(episode_reward)])\n",
    "        rewards_list.append([ep, total_reward])\n",
    "        # gloss_list.append([ep, np.mean(gloss_batch)])\n",
    "        # dloss_list.append([ep, np.mean(dloss_batch)])\n",
    "        \n",
    "        # Break episode/epoch loop\n",
    "        ## Option 1: Solve the First Version\n",
    "        #The task is episodic, and in order to solve the environment, \n",
    "        #your agent must get an average score of +30 over 100 consecutive episodes.\n",
    "        if np.mean(episode_reward) >= 500:\n",
    "            break\n",
    "            \n",
    "    # At the end of all training episodes/epochs\n",
    "    saver.save(sess, 'checkpoints/model.ckpt')"
   ]
  },
  {
   "cell_type": "markdown",
   "metadata": {},
   "source": [
    "# Visualizing training\n",
    "\n",
    "Below I'll plot the total rewards for each episode. I'm plotting the rolling average too, in blue."
   ]
  },
  {
   "cell_type": "code",
   "execution_count": null,
   "metadata": {},
   "outputs": [],
   "source": [
    "import matplotlib.pyplot as plt\n",
    "%matplotlib inline\n",
    "\n",
    "def running_mean(x, N):\n",
    "    cumsum = np.cumsum(np.insert(x, 0, 0)) \n",
    "    return (cumsum[N:] - cumsum[:-N]) / N "
   ]
  },
  {
   "cell_type": "code",
   "execution_count": null,
   "metadata": {},
   "outputs": [],
   "source": [
    "eps, arr = np.array(episode_rewards_list).T\n",
    "smoothed_arr = running_mean(arr, 10)\n",
    "plt.plot(eps[-len(smoothed_arr):], smoothed_arr)\n",
    "plt.plot(eps, arr, color='grey', alpha=0.3)\n",
    "plt.xlabel('Episode')\n",
    "plt.ylabel('Total rewards')"
   ]
  },
  {
   "cell_type": "code",
   "execution_count": null,
   "metadata": {},
   "outputs": [],
   "source": [
    "eps, arr = np.array(rewards_list).T\n",
    "smoothed_arr = running_mean(arr, 10)\n",
    "plt.plot(eps[-len(smoothed_arr):], smoothed_arr)\n",
    "plt.plot(eps, arr, color='grey', alpha=0.3)\n",
    "plt.xlabel('Episode')\n",
    "plt.ylabel('Total rewards')"
   ]
  },
  {
   "cell_type": "code",
   "execution_count": null,
   "metadata": {},
   "outputs": [],
   "source": [
    "eps, arr = np.array(gloss_list).T\n",
    "smoothed_arr = running_mean(arr, 10)\n",
    "plt.plot(eps[-len(smoothed_arr):], smoothed_arr)\n",
    "plt.plot(eps, arr, color='grey', alpha=0.3)\n",
    "plt.xlabel('Episode')\n",
    "plt.ylabel('G losses')`"
   ]
  },
  {
   "cell_type": "code",
   "execution_count": null,
   "metadata": {},
   "outputs": [],
   "source": [
    "eps, arr = np.array(dloss_list).T\n",
    "smoothed_arr = running_mean(arr, 10)\n",
    "plt.plot(eps[-len(smoothed_arr):], smoothed_arr)\n",
    "plt.plot(eps, arr, color='grey', alpha=0.3)\n",
    "plt.xlabel('Episode')\n",
    "plt.ylabel('D losses')"
   ]
  },
  {
   "cell_type": "markdown",
   "metadata": {},
   "source": [
    "## Testing\n",
    "\n",
    "Let's checkout how our trained agent plays the game."
   ]
  },
  {
   "cell_type": "code",
   "execution_count": 24,
   "metadata": {},
   "outputs": [
    {
     "name": "stdout",
     "output_type": "stream",
     "text": [
      "INFO:tensorflow:Restoring parameters from checkpoints/model.ckpt\n",
      "total_reward: 500.0\n",
      "total_reward: 500.0\n",
      "total_reward: 500.0\n",
      "total_reward: 500.0\n",
      "total_reward: 481.0\n",
      "total_reward: 481.0\n",
      "total_reward: 500.0\n",
      "total_reward: 500.0\n",
      "total_reward: 500.0\n",
      "total_reward: 500.0\n"
     ]
    }
   ],
   "source": [
    "import gym\n",
    "env = gym.make('CartPole-v0')\n",
    "env = gym.make('CartPole-v1')\n",
    "# env = gym.make('Acrobot-v1')\n",
    "# env = gym.make('MountainCar-v0')\n",
    "# env = gym.make('Pendulum-v0')\n",
    "# env = gym.make('Blackjack-v0')\n",
    "# env = gym.make('FrozenLake-v0')\n",
    "# env = gym.make('AirRaid-ram-v0')\n",
    "# env = gym.make('AirRaid-v0')\n",
    "# env = gym.make('BipedalWalker-v2')\n",
    "# env = gym.make('Copy-v0')\n",
    "# env = gym.make('CarRacing-v0')\n",
    "# env = gym.make('Ant-v2') #mujoco\n",
    "# env = gym.make('FetchPickAndPlace-v1') # mujoco required!\n",
    "\n",
    "with tf.Session() as sess:\n",
    "    sess.run(tf.global_variables_initializer())\n",
    "    saver.restore(sess, 'checkpoints/model.ckpt')    \n",
    "    #saver.restore(sess, tf.train.latest_checkpoint('checkpoints'))\n",
    "    \n",
    "    # Episodes/epochs\n",
    "    for _ in range(10):\n",
    "        state = env.reset()\n",
    "        total_reward = 0\n",
    "\n",
    "        # Steps/batches\n",
    "        while True:\n",
    "            env.render()\n",
    "            action_logits = sess.run(model.actions_logits, feed_dict={model.states: state.reshape([1, -1])})\n",
    "            action = np.argmax(action_logits)\n",
    "            state, reward, done, _ = env.step(action)\n",
    "            total_reward += reward\n",
    "            if done:\n",
    "                print('total_reward: {}'.format(total_reward))\n",
    "                break\n",
    "                \n",
    "env.close()"
   ]
  },
  {
   "cell_type": "markdown",
   "metadata": {},
   "source": [
    "## Extending this\n",
    "\n",
    "So, Cart-Pole is a pretty simple game. However, the same model can be used to train an agent to play something much more complicated like Pong or Space Invaders. Instead of a state like we're using here though, you'd want to use convolutional layers to get the state from the screen images.\n",
    "\n",
    "![Deep Q-Learning Atari](assets/atari-network.png)\n",
    "\n",
    "I'll leave it as a challenge for you to use deep Q-learning to train an agent to play Atari games. Here's the original paper which will get you started: http://www.davidqiu.com:8888/research/nature14236.pdf."
   ]
  },
  {
   "cell_type": "code",
   "execution_count": null,
   "metadata": {},
   "outputs": [],
   "source": []
  }
 ],
 "metadata": {
  "kernelspec": {
   "display_name": "Python 3",
   "language": "python",
   "name": "python3"
  },
  "language_info": {
   "codemirror_mode": {
    "name": "ipython",
    "version": 3
   },
   "file_extension": ".py",
   "mimetype": "text/x-python",
   "name": "python",
   "nbconvert_exporter": "python",
   "pygments_lexer": "ipython3",
   "version": "3.6.6"
  }
 },
 "nbformat": 4,
 "nbformat_minor": 2
}
