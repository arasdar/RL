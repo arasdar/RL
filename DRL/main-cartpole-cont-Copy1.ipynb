{
 "cells": [
  {
   "cell_type": "markdown",
   "metadata": {},
   "source": [
    "# DPG for Cartpole\n",
    "\n",
    "\n",
    "In this notebook, we'll build a neural network that can learn to play games through reinforcement learning. More specifically, we'll use Q-learning to train an agent to play a game called [Cart-Pole](https://gym.openai.com/envs/CartPole-v0). In this game, a freely swinging pole is attached to a cart. The cart can move to the left and right, and the goal is to keep the pole upright as long as possible.\n",
    "\n",
    "![Cart-Pole](assets/cart-pole.jpg)\n",
    "\n",
    "We can simulate this game using [OpenAI Gym](https://gym.openai.com/). First, let's check out how OpenAI Gym works. Then, we'll get into training an agent to play the Cart-Pole game."
   ]
  },
  {
   "cell_type": "code",
   "execution_count": 1,
   "metadata": {},
   "outputs": [
    {
     "name": "stdout",
     "output_type": "stream",
     "text": [
      "TensorFlow Version: 1.11.0\n",
      "Default GPU Device: /device:GPU:0\n"
     ]
    }
   ],
   "source": [
    "# In this one we should define and detect GPUs for tensorflow\n",
    "# GPUs or CPU\n",
    "import tensorflow as tf\n",
    "\n",
    "# Check TensorFlow Version\n",
    "print('TensorFlow Version: {}'.format(tf.__version__))\n",
    "\n",
    "# Check for a GPU\n",
    "print('Default GPU Device: {}'.format(tf.test.gpu_device_name()))"
   ]
  },
  {
   "cell_type": "markdown",
   "metadata": {},
   "source": [
    ">**Note:** Make sure you have OpenAI Gym cloned into the same directory with this notebook. I've included `gym` as a submodule, so you can run `git submodule --init --recursive` to pull the contents into the `gym` repo."
   ]
  },
  {
   "cell_type": "markdown",
   "metadata": {},
   "source": [
    "##### >**Note:** Make sure you have OpenAI Gym cloned. Then run this command `pip install -e gym/[all]`."
   ]
  },
  {
   "cell_type": "code",
   "execution_count": 2,
   "metadata": {},
   "outputs": [],
   "source": [
    "import gym\n",
    "env = gym.make('CartPole-v0')\n",
    "env = gym.make('CartPole-v1')"
   ]
  },
  {
   "cell_type": "markdown",
   "metadata": {},
   "source": [
    "We interact with the simulation through `env`. To show the simulation running, you can use `env.render()` to render one frame. Passing in an action as an integer to `env.step` will generate the next step in the simulation.  You can see how many actions are possible from `env.action_space` and to get a random action you can use `env.action_space.sample()`. This is general to all Gym games. In the Cart-Pole game, there are two possible actions, moving the cart left or right. So there are two actions we can take, encoded as 0 and 1.\n",
    "\n",
    "Run the code below to watch the simulation run."
   ]
  },
  {
   "cell_type": "code",
   "execution_count": 3,
   "metadata": {},
   "outputs": [],
   "source": [
    "env.reset()\n",
    "batch = []\n",
    "for _ in range(1111):\n",
    "    #env.render()\n",
    "    action = env.action_space.sample()\n",
    "    state, reward, done, info = env.step(action) # take a random action\n",
    "    batch.append([action, state, reward, done, info])\n",
    "    #print('state, action, reward, done, info:', state, action, reward, done, info)\n",
    "    if done:\n",
    "        env.reset()"
   ]
  },
  {
   "cell_type": "markdown",
   "metadata": {},
   "source": [
    "To shut the window showing the simulation, use `env.close()`."
   ]
  },
  {
   "cell_type": "code",
   "execution_count": 4,
   "metadata": {},
   "outputs": [],
   "source": [
    "# env.close()"
   ]
  },
  {
   "cell_type": "markdown",
   "metadata": {},
   "source": [
    "If you ran the simulation above, we can look at the rewards:"
   ]
  },
  {
   "cell_type": "code",
   "execution_count": 5,
   "metadata": {},
   "outputs": [],
   "source": [
    "import numpy as np\n",
    "actions = np.array([each[0] for each in batch])\n",
    "states = np.array([each[1] for each in batch])\n",
    "rewards = np.array([each[2] for each in batch])\n",
    "dones = np.array([each[3] for each in batch])\n",
    "infos = np.array([each[4] for each in batch])"
   ]
  },
  {
   "cell_type": "code",
   "execution_count": 6,
   "metadata": {},
   "outputs": [
    {
     "name": "stdout",
     "output_type": "stream",
     "text": [
      "shapes: (1111,) (1111, 4) (1111,) (1111,)\n",
      "dtypes: float64 float64 int64 bool\n",
      "states: 2.598382748165233 -2.4623703992637225\n",
      "actions: 1 0\n",
      "rewards: 1.0 1.0\n"
     ]
    }
   ],
   "source": [
    "# print(rewards[-20:])\n",
    "print('shapes:', np.array(rewards).shape, np.array(states).shape, np.array(actions).shape, np.array(dones).shape)\n",
    "print('dtypes:', np.array(rewards).dtype, np.array(states).dtype, np.array(actions).dtype, np.array(dones).dtype)\n",
    "print('states:', np.max(np.array(states)), np.min(np.array(states)))\n",
    "print('actions:', np.max(np.array(actions)), np.min(np.array(actions)))\n",
    "# print((np.max(np.array(actions)) - np.min(np.array(actions)))+1)\n",
    "print('rewards:', np.max(np.array(rewards)), np.min(np.array(rewards)))"
   ]
  },
  {
   "cell_type": "code",
   "execution_count": 7,
   "metadata": {},
   "outputs": [
    {
     "data": {
      "text/plain": [
       "array([0, 1, 1, 0, 1, 1, 1, 1, 1, 1])"
      ]
     },
     "execution_count": 7,
     "metadata": {},
     "output_type": "execute_result"
    }
   ],
   "source": [
    "actions[:10]"
   ]
  },
  {
   "cell_type": "code",
   "execution_count": 8,
   "metadata": {},
   "outputs": [
    {
     "data": {
      "text/plain": [
       "array([1., 1., 1., 1., 1., 1., 1., 1., 1., 1.])"
      ]
     },
     "execution_count": 8,
     "metadata": {},
     "output_type": "execute_result"
    }
   ],
   "source": [
    "rewards[:10]"
   ]
  },
  {
   "cell_type": "code",
   "execution_count": 9,
   "metadata": {},
   "outputs": [
    {
     "name": "stdout",
     "output_type": "stream",
     "text": [
      "rewards: 0.01 0.01\n"
     ]
    }
   ],
   "source": [
    "print('rewards:', np.max(np.array(rewards))/100, np.min(np.array(rewards))/100)"
   ]
  },
  {
   "cell_type": "markdown",
   "metadata": {},
   "source": [
    "The game resets after the pole has fallen past a certain angle. For each frame while the simulation is running, it returns a reward of 1.0. The longer the game runs, the more reward we get. Then, our network's goal is to maximize the reward by keeping the pole vertical. It will do this by moving the cart to the left and the right."
   ]
  },
  {
   "cell_type": "markdown",
   "metadata": {},
   "source": [
    "## Q-Network\n",
    "\n",
    "We train our Q-learning agent using the Bellman Equation:\n",
    "\n",
    "$$\n",
    "Q(s, a) = r + \\gamma \\max{Q(s', a')}\n",
    "$$\n",
    "\n",
    "where $s$ is a state, $a$ is an action, and $s'$ is the next state from state $s$ and action $a$.\n",
    "\n",
    "Before we used this equation to learn values for a Q-_table_. However, for this game there are a huge number of states available. The state has four values: the position and velocity of the cart, and the position and velocity of the pole. These are all real-valued numbers, so ignoring floating point precisions, you practically have infinite states. Instead of using a table then, we'll replace it with a neural network that will approximate the Q-table lookup function.\n",
    "\n",
    "<img src=\"assets/deep-q-learning.png\" width=450px>\n",
    "\n",
    "Now, our Q value, $Q(s, a)$ is calculated by passing in a state to the network. The output will be Q-values for each available action, with fully connected hidden layers.\n",
    "\n",
    "<img src=\"assets/q-network.png\" width=550px>\n",
    "\n",
    "\n",
    "As I showed before, we can define our targets for training as $\\hat{Q}(s,a) = r + \\gamma \\max{Q(s', a')}$. Then we update the weights by minimizing $(\\hat{Q}(s,a) - Q(s,a))^2$. \n",
    "\n",
    "For this Cart-Pole game, we have four inputs, one for each value in the state, and two outputs, one for each action. To get $\\hat{Q}$, we'll first choose an action, then simulate the game using that action. This will get us the next state, $s'$, and the reward. With that, we can calculate $\\hat{Q}$ then pass it back into the $Q$ network to run the optimizer and update the weights.\n",
    "\n",
    "Below is my implementation of the Q-network. I used two fully connected layers with ReLU activations. Two seems to be good enough, three might be better. Feel free to try it out."
   ]
  },
  {
   "cell_type": "code",
   "execution_count": 10,
   "metadata": {},
   "outputs": [],
   "source": [
    "def model_input(state_size):\n",
    "    #states = tf.placeholder(tf.float32, [None, *state_size], name='states')\n",
    "    states = tf.placeholder(tf.float32, [None, state_size], name='states')\n",
    "    actions = tf.placeholder(tf.int32, [None], name='actions')\n",
    "    targetQs = tf.placeholder(tf.float32, [None], name='targetQs')\n",
    "    rates = tf.placeholder(tf.float32, [None], name='rates')\n",
    "    return states, actions, targetQs, rates"
   ]
  },
  {
   "cell_type": "code",
   "execution_count": 11,
   "metadata": {},
   "outputs": [],
   "source": [
    "# Generator/Controller: Generating/prediting the actions\n",
    "def generator(states, action_size, hidden_size, reuse=False, alpha=0.1, training=False):\n",
    "    with tf.variable_scope('generator', reuse=reuse):\n",
    "        # First fully connected layer\n",
    "        h1 = tf.layers.dense(inputs=states, units=hidden_size)\n",
    "        bn1 = tf.layers.batch_normalization(h1, training=training)        \n",
    "        nl1 = tf.maximum(alpha * bn1, bn1)\n",
    "        \n",
    "        # Second fully connected layer\n",
    "        h2 = tf.layers.dense(inputs=nl1, units=hidden_size)\n",
    "        bn2 = tf.layers.batch_normalization(h2, training=training)        \n",
    "        nl2 = tf.maximum(alpha * bn2, bn2)\n",
    "        \n",
    "        # Output layer\n",
    "        logits = tf.layers.dense(inputs=nl2, units=action_size)        \n",
    "        #predictions = tf.nn.softmax(logits)\n",
    "\n",
    "        # return actions logits\n",
    "        return logits"
   ]
  },
  {
   "cell_type": "code",
   "execution_count": 13,
   "metadata": {},
   "outputs": [],
   "source": [
    "# Discriminator/Dopamine: Reward function/planner/naviator/advisor/supervisor/cortical columns\n",
    "def discriminator(states, actions, hidden_size, reuse=False, alpha=0.1, training=False):\n",
    "    with tf.variable_scope('discriminator', reuse=reuse):\n",
    "        # First fully connected layer\n",
    "        h1 = tf.layers.dense(inputs=states, units=action_size)\n",
    "        bn1 = tf.layers.batch_normalization(h1, training=training)        \n",
    "        nl1 = tf.maximum(alpha * bn1, bn1)\n",
    "        \n",
    "        # Second fully connected layer\n",
    "        fused = tf.concat(axis=1, values=[nl1, actions])\n",
    "        h2 = tf.layers.dense(inputs=fused, units=hidden_size)\n",
    "        bn2 = tf.layers.batch_normalization(h2, training=training)        \n",
    "        nl2 = tf.maximum(alpha * bn2, bn2)\n",
    "                \n",
    "        # Output layer\n",
    "        logits = tf.layers.dense(inputs=nl2, units=1)        \n",
    "        #predictions = tf.nn.softmax(logits)\n",
    "\n",
    "        # return rewards logits\n",
    "        return logits"
   ]
  },
  {
   "cell_type": "code",
   "execution_count": 14,
   "metadata": {},
   "outputs": [],
   "source": [
    "def model_loss(action_size, hidden_size, states, actions, targetQs, rates):\n",
    "    actions_logits = generator(states=states, hidden_size=hidden_size, action_size=action_size)\n",
    "    actions_labels = tf.one_hot(indices=actions, depth=action_size, dtype=actions_logits.dtype)\n",
    "    neg_log_prob = tf.nn.softmax_cross_entropy_with_logits_v2(logits=actions_logits, \n",
    "                                                              labels=actions_labels)\n",
    "    targetQs = tf.reshape(targetQs, shape=[-1, 1])\n",
    "    gloss = tf.reduce_mean(neg_log_prob * targetQs) # DPG\n",
    "    gQs = discriminator(actions=actions_logits, hidden_size=hidden_size, states=states) # targetQs/nextQs\n",
    "    dQs = discriminator(actions=actions_labels, hidden_size=hidden_size, states=states, reuse=True) # Qs\n",
    "    rates = tf.reshape(rates, shape=[-1, 1])\n",
    "    dlossA = tf.reduce_mean(tf.nn.sigmoid_cross_entropy_with_logits(logits=dQs, # GAN\n",
    "                                                                    labels=rates)) # 0-1\n",
    "    dlossQ = tf.reduce_mean(tf.square(dQs - targetQs)) # DQN\n",
    "    return actions_logits, gQs, gloss, dlossA, dlossQ"
   ]
  },
  {
   "cell_type": "code",
   "execution_count": 15,
   "metadata": {},
   "outputs": [],
   "source": [
    "# Optimizating/training/learning G & D\n",
    "def model_opt(g_loss, d_lossA, d_lossQ, g_learning_rate, d_learning_rate):\n",
    "    # Get weights and bias to update\n",
    "    t_vars = tf.trainable_variables()\n",
    "    g_vars = [var for var in t_vars if var.name.startswith('generator')]\n",
    "    d_vars = [var for var in t_vars if var.name.startswith('discriminator')]\n",
    "\n",
    "    # Optimize\n",
    "    with tf.control_dependencies(tf.get_collection(tf.GraphKeys.UPDATE_OPS)): # Required for batchnorm (BN)\n",
    "        g_opt = tf.train.AdamOptimizer(g_learning_rate).minimize(g_loss, var_list=g_vars)\n",
    "        d_optA = tf.train.AdamOptimizer(d_learning_rate).minimize(d_lossA, var_list=d_vars)\n",
    "        d_optQ = tf.train.AdamOptimizer(d_learning_rate).minimize(d_lossQ, var_list=d_vars)\n",
    "\n",
    "    return g_opt, d_optA, d_optQ"
   ]
  },
  {
   "cell_type": "code",
   "execution_count": 16,
   "metadata": {},
   "outputs": [],
   "source": [
    "class Model:\n",
    "    def __init__(self, state_size, action_size, hidden_size, g_learning_rate, d_learning_rate):\n",
    "\n",
    "        # Data of the Model: make the data available inside the framework\n",
    "        self.states, self.actions, self.targetQs, self.rates = model_input(state_size=state_size)\n",
    "\n",
    "        # Create the Model: calculating the loss and forwad pass\n",
    "        self.actions_logits, self.Qs_logits, self.g_loss, self.d_lossA, self.d_lossQ = model_loss(\n",
    "            action_size=action_size, hidden_size=hidden_size, # model init parameters\n",
    "            states=self.states, actions=self.actions, \n",
    "            targetQs=self.targetQs, rates=self.rates) # model input\n",
    "        \n",
    "        # Update the model: backward pass and backprop\n",
    "        self.g_opt, self.d_optA, self.d_optQ = model_opt(g_loss=self.g_loss, \n",
    "                                                         d_lossA=self.d_lossA, \n",
    "                                                         d_lossQ=self.d_lossQ, \n",
    "                                                         g_learning_rate=g_learning_rate, \n",
    "                                                         d_learning_rate=d_learning_rate)"
   ]
  },
  {
   "cell_type": "code",
   "execution_count": 17,
   "metadata": {},
   "outputs": [],
   "source": [
    "from collections import deque\n",
    "class Memory():\n",
    "    def __init__(self, max_size = 1000):\n",
    "        self.buffer = deque(maxlen=max_size) # data batch\n",
    "        self.rates = deque(maxlen=max_size) # rates\n",
    "    def sample(self, batch_size):\n",
    "        idx = np.random.choice(np.arange(len(self.buffer)), # ==  self.rates\n",
    "                               size=batch_size, \n",
    "                               replace=False)\n",
    "        return [self.buffer[ii] for ii in idx], [self.rates[ii] for ii in idx]"
   ]
  },
  {
   "cell_type": "markdown",
   "metadata": {},
   "source": [
    "## Hyperparameters\n",
    "\n",
    "One of the more difficult aspects of reinforcememt learning are the large number of hyperparameters. Not only are we tuning the network, but we're tuning the simulation."
   ]
  },
  {
   "cell_type": "code",
   "execution_count": 18,
   "metadata": {},
   "outputs": [
    {
     "data": {
      "text/plain": [
       "(Box(4,), Discrete(2))"
      ]
     },
     "execution_count": 18,
     "metadata": {},
     "output_type": "execute_result"
    }
   ],
   "source": [
    "env.observation_space, env.action_space"
   ]
  },
  {
   "cell_type": "code",
   "execution_count": 19,
   "metadata": {},
   "outputs": [],
   "source": [
    "# Exploration parameters\n",
    "explore_start = 1.0            # exploration probability at start\n",
    "explore_stop = 0.01           # minimum exploration probability \n",
    "decay_rate = 0.0001            # exponential decay rate for exploration prob\n",
    "\n",
    "# Network parameters\n",
    "state_size = 4\n",
    "action_size = 2\n",
    "hidden_size = 4*2             # number of units in each Q-network hidden layer\n",
    "g_learning_rate = 1e-4         # Q-network learning rate\n",
    "d_learning_rate = 1e-4         # Q-network learning rate\n",
    "\n",
    "# Memory parameters\n",
    "memory_size = int(1e5)            # memory capacity\n",
    "batch_size = int(1e2)             # experience mini-batch size: 200/500 a successfull episode size\n",
    "gamma = 0.99                   # future reward discount"
   ]
  },
  {
   "cell_type": "code",
   "execution_count": 20,
   "metadata": {},
   "outputs": [],
   "source": [
    "# Reset/init the graph/session\n",
    "graph = tf.reset_default_graph()\n",
    "\n",
    "# Init the model\n",
    "model = Model(action_size=action_size, state_size=state_size, hidden_size=hidden_size,\n",
    "              g_learning_rate=g_learning_rate, d_learning_rate=d_learning_rate)\n",
    "\n",
    "# Init the memory\n",
    "memory = Memory(max_size=memory_size)"
   ]
  },
  {
   "cell_type": "code",
   "execution_count": 21,
   "metadata": {},
   "outputs": [],
   "source": [
    "state = env.reset()\n",
    "total_reward = 0\n",
    "num_step = 0\n",
    "for _ in range(memory_size):\n",
    "    action = env.action_space.sample()\n",
    "    next_state, reward, done, _ = env.step(action)\n",
    "    memory.buffer.append([state, action, next_state, reward, float(done)])\n",
    "    memory.rates.append(-1) # empty\n",
    "    num_step += 1 # memory incremented\n",
    "    total_reward += reward\n",
    "    state = next_state\n",
    "    if done is True:\n",
    "        state = env.reset()\n",
    "        rate = total_reward/500\n",
    "        total_reward = 0 # reset\n",
    "        for idx in range(num_step): # episode length\n",
    "            if memory.rates[-1-idx] == -1:\n",
    "                memory.rates[-1-idx] = rate\n",
    "        num_step = 0 # reset"
   ]
  },
  {
   "cell_type": "markdown",
   "metadata": {},
   "source": [
    "## Training the model\n",
    "\n",
    "Below we'll train our agent. If you want to watch it train, uncomment the `env.render()` line. This is slow because it's rendering the frames slower than the network can train. But, it's cool to watch the agent get better at the game."
   ]
  },
  {
   "cell_type": "code",
   "execution_count": null,
   "metadata": {},
   "outputs": [
    {
     "name": "stdout",
     "output_type": "stream",
     "text": [
      "Episode:0 meanR:17.0000 R:17.0000 rate:0.0340 gloss:0.5156 dlossA:0.5944 dlossQ:1.0084 exploreP:0.9983\n",
      "Episode:1 meanR:16.5000 R:16.0000 rate:0.0320 gloss:0.5319 dlossA:0.5954 dlossQ:1.0005 exploreP:0.9967\n",
      "Episode:2 meanR:14.6667 R:11.0000 rate:0.0220 gloss:0.4916 dlossA:0.5883 dlossQ:1.0120 exploreP:0.9957\n",
      "Episode:3 meanR:17.0000 R:24.0000 rate:0.0480 gloss:0.5030 dlossA:0.5884 dlossQ:1.0604 exploreP:0.9933\n",
      "Episode:4 meanR:20.8000 R:36.0000 rate:0.0720 gloss:0.5255 dlossA:0.5933 dlossQ:1.0234 exploreP:0.9898\n",
      "Episode:5 meanR:21.5000 R:25.0000 rate:0.0500 gloss:0.5298 dlossA:0.5870 dlossQ:1.0553 exploreP:0.9873\n",
      "Episode:6 meanR:21.7143 R:23.0000 rate:0.0460 gloss:0.5142 dlossA:0.5804 dlossQ:1.0952 exploreP:0.9851\n",
      "Episode:7 meanR:21.3750 R:19.0000 rate:0.0380 gloss:0.5133 dlossA:0.5803 dlossQ:1.3128 exploreP:0.9832\n",
      "Episode:8 meanR:23.2222 R:38.0000 rate:0.0760 gloss:0.5373 dlossA:0.5984 dlossQ:1.0660 exploreP:0.9795\n",
      "Episode:9 meanR:22.6000 R:17.0000 rate:0.0340 gloss:0.5541 dlossA:0.6006 dlossQ:1.0906 exploreP:0.9779\n",
      "Episode:10 meanR:21.9091 R:15.0000 rate:0.0300 gloss:0.5091 dlossA:0.5803 dlossQ:1.0639 exploreP:0.9764\n",
      "Episode:11 meanR:22.0000 R:23.0000 rate:0.0460 gloss:0.5510 dlossA:0.5953 dlossQ:1.1237 exploreP:0.9742\n",
      "Episode:12 meanR:21.9231 R:21.0000 rate:0.0420 gloss:0.5430 dlossA:0.5898 dlossQ:1.1112 exploreP:0.9722\n",
      "Episode:13 meanR:21.9286 R:22.0000 rate:0.0440 gloss:0.4806 dlossA:0.5669 dlossQ:1.2731 exploreP:0.9701\n",
      "Episode:14 meanR:22.3333 R:28.0000 rate:0.0560 gloss:0.5377 dlossA:0.5946 dlossQ:1.0982 exploreP:0.9674\n",
      "Episode:15 meanR:21.9375 R:16.0000 rate:0.0320 gloss:0.5045 dlossA:0.5854 dlossQ:1.1243 exploreP:0.9659\n",
      "Episode:16 meanR:21.7647 R:19.0000 rate:0.0380 gloss:0.5104 dlossA:0.5786 dlossQ:1.1191 exploreP:0.9640\n",
      "Episode:17 meanR:23.0556 R:45.0000 rate:0.0900 gloss:0.5351 dlossA:0.5965 dlossQ:1.1250 exploreP:0.9598\n",
      "Episode:18 meanR:22.4737 R:12.0000 rate:0.0240 gloss:0.4713 dlossA:0.5663 dlossQ:1.2737 exploreP:0.9586\n",
      "Episode:19 meanR:21.8000 R:9.0000 rate:0.0180 gloss:0.5277 dlossA:0.5956 dlossQ:1.1409 exploreP:0.9578\n",
      "Episode:20 meanR:21.6667 R:19.0000 rate:0.0380 gloss:0.5274 dlossA:0.5852 dlossQ:1.1365 exploreP:0.9560\n",
      "Episode:21 meanR:22.0455 R:30.0000 rate:0.0600 gloss:0.5688 dlossA:0.6097 dlossQ:1.1305 exploreP:0.9531\n",
      "Episode:22 meanR:22.0435 R:22.0000 rate:0.0440 gloss:0.5563 dlossA:0.5960 dlossQ:1.1957 exploreP:0.9511\n",
      "Episode:23 meanR:21.7917 R:16.0000 rate:0.0320 gloss:0.5650 dlossA:0.6116 dlossQ:1.1074 exploreP:0.9496\n",
      "Episode:24 meanR:21.5600 R:16.0000 rate:0.0320 gloss:0.5380 dlossA:0.5979 dlossQ:1.1537 exploreP:0.9481\n",
      "Episode:25 meanR:21.5769 R:22.0000 rate:0.0440 gloss:0.5348 dlossA:0.5930 dlossQ:1.1278 exploreP:0.9460\n",
      "Episode:26 meanR:21.1852 R:11.0000 rate:0.0220 gloss:0.5571 dlossA:0.6003 dlossQ:1.1372 exploreP:0.9450\n",
      "Episode:27 meanR:21.1786 R:21.0000 rate:0.0420 gloss:0.5426 dlossA:0.5981 dlossQ:1.1345 exploreP:0.9430\n",
      "Episode:28 meanR:21.6207 R:34.0000 rate:0.0680 gloss:0.5203 dlossA:0.5822 dlossQ:1.1345 exploreP:0.9398\n",
      "Episode:29 meanR:21.4333 R:16.0000 rate:0.0320 gloss:0.5501 dlossA:0.5946 dlossQ:1.1315 exploreP:0.9383\n",
      "Episode:30 meanR:21.5161 R:24.0000 rate:0.0480 gloss:0.5744 dlossA:0.5748 dlossQ:1.3279 exploreP:0.9361\n",
      "Episode:31 meanR:21.3125 R:15.0000 rate:0.0300 gloss:0.5011 dlossA:0.5672 dlossQ:1.2010 exploreP:0.9347\n",
      "Episode:32 meanR:21.1818 R:17.0000 rate:0.0340 gloss:0.5389 dlossA:0.5840 dlossQ:1.2622 exploreP:0.9332\n",
      "Episode:33 meanR:21.0882 R:18.0000 rate:0.0360 gloss:0.5592 dlossA:0.6034 dlossQ:1.1542 exploreP:0.9315\n",
      "Episode:34 meanR:21.3143 R:29.0000 rate:0.0580 gloss:0.5037 dlossA:0.5723 dlossQ:1.2357 exploreP:0.9288\n",
      "Episode:35 meanR:21.9167 R:43.0000 rate:0.0860 gloss:0.5191 dlossA:0.5886 dlossQ:1.1908 exploreP:0.9249\n",
      "Episode:36 meanR:22.1351 R:30.0000 rate:0.0600 gloss:0.5260 dlossA:0.5818 dlossQ:1.2402 exploreP:0.9222\n",
      "Episode:37 meanR:22.1579 R:23.0000 rate:0.0460 gloss:0.5365 dlossA:0.5926 dlossQ:1.1656 exploreP:0.9201\n",
      "Episode:38 meanR:22.7949 R:47.0000 rate:0.0940 gloss:0.5449 dlossA:0.5985 dlossQ:1.1483 exploreP:0.9158\n",
      "Episode:39 meanR:22.5750 R:14.0000 rate:0.0280 gloss:0.4959 dlossA:0.5688 dlossQ:1.2458 exploreP:0.9145\n",
      "Episode:40 meanR:22.3902 R:15.0000 rate:0.0300 gloss:0.5267 dlossA:0.5842 dlossQ:1.1693 exploreP:0.9132\n",
      "Episode:41 meanR:22.2381 R:16.0000 rate:0.0320 gloss:0.4997 dlossA:0.5831 dlossQ:1.1908 exploreP:0.9117\n",
      "Episode:42 meanR:22.4419 R:31.0000 rate:0.0620 gloss:0.5387 dlossA:0.5927 dlossQ:1.1619 exploreP:0.9089\n",
      "Episode:43 meanR:22.2955 R:16.0000 rate:0.0320 gloss:0.5334 dlossA:0.5917 dlossQ:1.1656 exploreP:0.9075\n",
      "Episode:44 meanR:22.0000 R:9.0000 rate:0.0180 gloss:0.5587 dlossA:0.6064 dlossQ:1.1559 exploreP:0.9067\n",
      "Episode:45 meanR:22.8043 R:59.0000 rate:0.1180 gloss:0.5305 dlossA:0.5890 dlossQ:1.1733 exploreP:0.9014\n",
      "Episode:46 meanR:23.0213 R:33.0000 rate:0.0660 gloss:0.5561 dlossA:0.6038 dlossQ:1.1323 exploreP:0.8985\n",
      "Episode:47 meanR:22.8542 R:15.0000 rate:0.0300 gloss:0.5395 dlossA:0.5957 dlossQ:1.1632 exploreP:0.8971\n",
      "Episode:48 meanR:22.7143 R:16.0000 rate:0.0320 gloss:0.5507 dlossA:0.5970 dlossQ:1.1522 exploreP:0.8957\n",
      "Episode:49 meanR:22.7000 R:22.0000 rate:0.0440 gloss:0.5138 dlossA:0.5824 dlossQ:1.1846 exploreP:0.8938\n",
      "Episode:50 meanR:22.7255 R:24.0000 rate:0.0480 gloss:0.5429 dlossA:0.5947 dlossQ:1.1584 exploreP:0.8917\n",
      "Episode:51 meanR:22.9615 R:35.0000 rate:0.0700 gloss:0.5453 dlossA:0.5978 dlossQ:1.1749 exploreP:0.8886\n",
      "Episode:52 meanR:22.8868 R:19.0000 rate:0.0380 gloss:0.5052 dlossA:0.5789 dlossQ:1.1864 exploreP:0.8869\n",
      "Episode:53 meanR:22.7778 R:17.0000 rate:0.0340 gloss:0.5497 dlossA:0.6037 dlossQ:1.1144 exploreP:0.8854\n",
      "Episode:54 meanR:23.0182 R:36.0000 rate:0.0720 gloss:0.5493 dlossA:0.6013 dlossQ:1.1604 exploreP:0.8823\n",
      "Episode:55 meanR:23.0714 R:26.0000 rate:0.0520 gloss:0.5111 dlossA:0.5851 dlossQ:1.1644 exploreP:0.8800\n",
      "Episode:56 meanR:23.0175 R:20.0000 rate:0.0400 gloss:0.5739 dlossA:0.5837 dlossQ:1.2759 exploreP:0.8783\n",
      "Episode:57 meanR:23.0862 R:27.0000 rate:0.0540 gloss:0.5438 dlossA:0.5974 dlossQ:1.1750 exploreP:0.8759\n",
      "Episode:58 meanR:23.0169 R:19.0000 rate:0.0380 gloss:0.5206 dlossA:0.5813 dlossQ:1.2153 exploreP:0.8743\n",
      "Episode:59 meanR:23.0500 R:25.0000 rate:0.0500 gloss:0.5197 dlossA:0.5816 dlossQ:1.2049 exploreP:0.8721\n",
      "Episode:60 meanR:23.2459 R:35.0000 rate:0.0700 gloss:0.5355 dlossA:0.5897 dlossQ:1.1698 exploreP:0.8691\n",
      "Episode:61 meanR:23.2258 R:22.0000 rate:0.0440 gloss:0.5345 dlossA:0.5865 dlossQ:1.2418 exploreP:0.8672\n",
      "Episode:62 meanR:23.2857 R:27.0000 rate:0.0540 gloss:0.5270 dlossA:0.5811 dlossQ:1.2006 exploreP:0.8649\n",
      "Episode:63 meanR:23.2656 R:22.0000 rate:0.0440 gloss:0.5350 dlossA:0.5909 dlossQ:1.1839 exploreP:0.8630\n",
      "Episode:64 meanR:23.1231 R:14.0000 rate:0.0280 gloss:0.5286 dlossA:0.5883 dlossQ:1.1770 exploreP:0.8618\n",
      "Episode:65 meanR:23.0455 R:18.0000 rate:0.0360 gloss:0.5709 dlossA:0.6080 dlossQ:1.1394 exploreP:0.8603\n",
      "Episode:66 meanR:23.4776 R:52.0000 rate:0.1040 gloss:0.5315 dlossA:0.5934 dlossQ:1.1792 exploreP:0.8559\n",
      "Episode:67 meanR:23.7353 R:41.0000 rate:0.0820 gloss:0.5544 dlossA:0.5918 dlossQ:1.1994 exploreP:0.8524\n",
      "Episode:68 meanR:23.6522 R:18.0000 rate:0.0360 gloss:0.5428 dlossA:0.5909 dlossQ:1.1797 exploreP:0.8509\n",
      "Episode:69 meanR:23.5143 R:14.0000 rate:0.0280 gloss:0.5325 dlossA:0.5896 dlossQ:1.1647 exploreP:0.8498\n",
      "Episode:70 meanR:23.6056 R:30.0000 rate:0.0600 gloss:0.5437 dlossA:0.5922 dlossQ:1.1735 exploreP:0.8472\n",
      "Episode:71 meanR:23.5417 R:19.0000 rate:0.0380 gloss:0.5098 dlossA:0.5723 dlossQ:1.2201 exploreP:0.8456\n",
      "Episode:72 meanR:24.0685 R:62.0000 rate:0.1240 gloss:0.5274 dlossA:0.5863 dlossQ:1.1857 exploreP:0.8405\n",
      "Episode:73 meanR:23.8919 R:11.0000 rate:0.0220 gloss:0.5143 dlossA:0.5825 dlossQ:1.1853 exploreP:0.8396\n",
      "Episode:74 meanR:23.8667 R:22.0000 rate:0.0440 gloss:0.5523 dlossA:0.5995 dlossQ:1.1618 exploreP:0.8377\n",
      "Episode:75 meanR:24.6053 R:80.0000 rate:0.1600 gloss:0.5339 dlossA:0.5914 dlossQ:1.1992 exploreP:0.8311\n",
      "Episode:76 meanR:24.6234 R:26.0000 rate:0.0520 gloss:0.5395 dlossA:0.6011 dlossQ:1.1476 exploreP:0.8290\n",
      "Episode:77 meanR:24.5128 R:16.0000 rate:0.0320 gloss:0.5283 dlossA:0.5891 dlossQ:1.1913 exploreP:0.8277\n",
      "Episode:78 meanR:25.0000 R:63.0000 rate:0.1260 gloss:0.5483 dlossA:0.5951 dlossQ:1.1790 exploreP:0.8226\n"
     ]
    },
    {
     "name": "stdout",
     "output_type": "stream",
     "text": [
      "Episode:79 meanR:24.8375 R:12.0000 rate:0.0240 gloss:0.4904 dlossA:0.5904 dlossQ:1.1639 exploreP:0.8216\n",
      "Episode:80 meanR:24.7901 R:21.0000 rate:0.0420 gloss:0.5839 dlossA:0.5865 dlossQ:1.3526 exploreP:0.8199\n",
      "Episode:81 meanR:24.6098 R:10.0000 rate:0.0200 gloss:0.5016 dlossA:0.5647 dlossQ:1.2515 exploreP:0.8191\n",
      "Episode:82 meanR:24.5060 R:16.0000 rate:0.0320 gloss:0.5582 dlossA:0.6112 dlossQ:1.1511 exploreP:0.8178\n",
      "Episode:83 meanR:24.5595 R:29.0000 rate:0.0580 gloss:0.5373 dlossA:0.5895 dlossQ:1.1786 exploreP:0.8155\n",
      "Episode:84 meanR:24.6000 R:28.0000 rate:0.0560 gloss:0.5486 dlossA:0.5973 dlossQ:1.2826 exploreP:0.8132\n",
      "Episode:85 meanR:24.4535 R:12.0000 rate:0.0240 gloss:0.4561 dlossA:0.5532 dlossQ:1.2828 exploreP:0.8122\n",
      "Episode:86 meanR:24.3678 R:17.0000 rate:0.0340 gloss:0.5340 dlossA:0.5958 dlossQ:1.1662 exploreP:0.8109\n",
      "Episode:87 meanR:24.3977 R:27.0000 rate:0.0540 gloss:0.5246 dlossA:0.5880 dlossQ:1.1912 exploreP:0.8087\n",
      "Episode:88 meanR:24.3708 R:22.0000 rate:0.0440 gloss:0.5305 dlossA:0.5816 dlossQ:1.2131 exploreP:0.8070\n",
      "Episode:89 meanR:24.3889 R:26.0000 rate:0.0520 gloss:0.5367 dlossA:0.5885 dlossQ:1.1709 exploreP:0.8049\n",
      "Episode:90 meanR:24.3516 R:21.0000 rate:0.0420 gloss:0.5527 dlossA:0.6008 dlossQ:1.1726 exploreP:0.8032\n",
      "Episode:91 meanR:24.2065 R:11.0000 rate:0.0220 gloss:0.5646 dlossA:0.6019 dlossQ:1.1393 exploreP:0.8024\n",
      "Episode:92 meanR:24.3441 R:37.0000 rate:0.0740 gloss:0.5415 dlossA:0.5923 dlossQ:1.1858 exploreP:0.7994\n",
      "Episode:93 meanR:24.3830 R:28.0000 rate:0.0560 gloss:0.5320 dlossA:0.5942 dlossQ:1.1535 exploreP:0.7972\n",
      "Episode:94 meanR:24.7053 R:55.0000 rate:0.1100 gloss:0.5277 dlossA:0.5858 dlossQ:1.1890 exploreP:0.7929\n",
      "Episode:95 meanR:24.6042 R:15.0000 rate:0.0300 gloss:0.5618 dlossA:0.6045 dlossQ:1.1690 exploreP:0.7917\n",
      "Episode:96 meanR:24.9381 R:57.0000 rate:0.1140 gloss:0.5564 dlossA:0.6003 dlossQ:1.1546 exploreP:0.7873\n",
      "Episode:97 meanR:24.9286 R:24.0000 rate:0.0480 gloss:0.5214 dlossA:0.5859 dlossQ:1.2043 exploreP:0.7854\n",
      "Episode:98 meanR:26.2323 R:154.0000 rate:0.3080 gloss:0.5241 dlossA:0.5862 dlossQ:1.2171 exploreP:0.7736\n",
      "Episode:99 meanR:26.4500 R:48.0000 rate:0.0960 gloss:0.5193 dlossA:0.5866 dlossQ:1.2529 exploreP:0.7699\n",
      "Episode:100 meanR:26.5000 R:22.0000 rate:0.0440 gloss:0.5558 dlossA:0.6008 dlossQ:1.1710 exploreP:0.7682\n",
      "Episode:101 meanR:26.6800 R:34.0000 rate:0.0680 gloss:0.5537 dlossA:0.5986 dlossQ:1.1856 exploreP:0.7657\n",
      "Episode:102 meanR:26.7900 R:22.0000 rate:0.0440 gloss:0.5537 dlossA:0.6012 dlossQ:1.1978 exploreP:0.7640\n",
      "Episode:103 meanR:26.7800 R:23.0000 rate:0.0460 gloss:0.5114 dlossA:0.5819 dlossQ:1.2041 exploreP:0.7623\n",
      "Episode:104 meanR:26.8200 R:40.0000 rate:0.0800 gloss:0.5465 dlossA:0.5942 dlossQ:1.2316 exploreP:0.7593\n",
      "Episode:105 meanR:26.7200 R:15.0000 rate:0.0300 gloss:0.5010 dlossA:0.5815 dlossQ:1.2304 exploreP:0.7582\n",
      "Episode:106 meanR:27.0200 R:53.0000 rate:0.1060 gloss:0.5361 dlossA:0.5903 dlossQ:1.2219 exploreP:0.7542\n",
      "Episode:107 meanR:27.0500 R:22.0000 rate:0.0440 gloss:0.5646 dlossA:0.6034 dlossQ:1.1610 exploreP:0.7526\n",
      "Episode:108 meanR:26.8000 R:13.0000 rate:0.0260 gloss:0.5649 dlossA:0.6078 dlossQ:1.1664 exploreP:0.7516\n",
      "Episode:109 meanR:27.0800 R:45.0000 rate:0.0900 gloss:0.5369 dlossA:0.5909 dlossQ:1.1966 exploreP:0.7483\n",
      "Episode:110 meanR:27.7300 R:80.0000 rate:0.1600 gloss:0.5079 dlossA:0.5770 dlossQ:1.2324 exploreP:0.7424\n",
      "Episode:111 meanR:27.6200 R:12.0000 rate:0.0240 gloss:0.5521 dlossA:0.5959 dlossQ:1.1780 exploreP:0.7415\n",
      "Episode:112 meanR:27.7000 R:29.0000 rate:0.0580 gloss:0.5205 dlossA:0.5756 dlossQ:1.2484 exploreP:0.7394\n",
      "Episode:113 meanR:27.7400 R:26.0000 rate:0.0520 gloss:0.5441 dlossA:0.5962 dlossQ:1.1928 exploreP:0.7375\n",
      "Episode:114 meanR:28.0500 R:59.0000 rate:0.1180 gloss:0.5210 dlossA:0.5799 dlossQ:1.2327 exploreP:0.7332\n",
      "Episode:115 meanR:28.1400 R:25.0000 rate:0.0500 gloss:0.5241 dlossA:0.5789 dlossQ:1.2502 exploreP:0.7314\n",
      "Episode:116 meanR:28.2000 R:25.0000 rate:0.0500 gloss:0.5079 dlossA:0.5668 dlossQ:1.2751 exploreP:0.7296\n",
      "Episode:117 meanR:28.0500 R:30.0000 rate:0.0600 gloss:0.5295 dlossA:0.5878 dlossQ:1.2066 exploreP:0.7275\n",
      "Episode:118 meanR:28.0700 R:14.0000 rate:0.0280 gloss:0.5354 dlossA:0.5925 dlossQ:1.2023 exploreP:0.7264\n",
      "Episode:119 meanR:28.4700 R:49.0000 rate:0.0980 gloss:0.5433 dlossA:0.5931 dlossQ:1.1972 exploreP:0.7229\n",
      "Episode:120 meanR:28.6200 R:34.0000 rate:0.0680 gloss:0.5109 dlossA:0.5813 dlossQ:1.2555 exploreP:0.7205\n",
      "Episode:121 meanR:28.8600 R:54.0000 rate:0.1080 gloss:0.5502 dlossA:0.5960 dlossQ:1.2017 exploreP:0.7167\n",
      "Episode:122 meanR:29.0500 R:41.0000 rate:0.0820 gloss:0.5386 dlossA:0.5981 dlossQ:1.1933 exploreP:0.7138\n",
      "Episode:123 meanR:29.2000 R:31.0000 rate:0.0620 gloss:0.5419 dlossA:0.5985 dlossQ:1.1761 exploreP:0.7116\n",
      "Episode:124 meanR:29.1600 R:12.0000 rate:0.0240 gloss:0.5746 dlossA:0.6160 dlossQ:1.1310 exploreP:0.7108\n",
      "Episode:125 meanR:29.1700 R:23.0000 rate:0.0460 gloss:0.5178 dlossA:0.5894 dlossQ:1.2575 exploreP:0.7092\n",
      "Episode:126 meanR:29.4900 R:43.0000 rate:0.0860 gloss:0.5327 dlossA:0.5921 dlossQ:1.1921 exploreP:0.7062\n",
      "Episode:127 meanR:29.7600 R:48.0000 rate:0.0960 gloss:0.5483 dlossA:0.5988 dlossQ:1.1979 exploreP:0.7028\n",
      "Episode:128 meanR:30.2700 R:85.0000 rate:0.1700 gloss:0.5394 dlossA:0.5963 dlossQ:1.1820 exploreP:0.6970\n",
      "Episode:129 meanR:30.2200 R:11.0000 rate:0.0220 gloss:0.4531 dlossA:0.5477 dlossQ:1.2856 exploreP:0.6962\n",
      "Episode:130 meanR:30.4000 R:42.0000 rate:0.0840 gloss:0.5310 dlossA:0.5865 dlossQ:1.2140 exploreP:0.6933\n",
      "Episode:131 meanR:30.5600 R:31.0000 rate:0.0620 gloss:0.5540 dlossA:0.6054 dlossQ:1.1739 exploreP:0.6912\n",
      "Episode:132 meanR:30.5800 R:19.0000 rate:0.0380 gloss:0.5191 dlossA:0.5760 dlossQ:1.2173 exploreP:0.6899\n",
      "Episode:133 meanR:30.6300 R:23.0000 rate:0.0460 gloss:0.5439 dlossA:0.5882 dlossQ:1.2101 exploreP:0.6884\n",
      "Episode:134 meanR:31.3000 R:96.0000 rate:0.1920 gloss:0.5191 dlossA:0.5861 dlossQ:1.2212 exploreP:0.6819\n",
      "Episode:135 meanR:31.0000 R:13.0000 rate:0.0260 gloss:0.5406 dlossA:0.5916 dlossQ:1.1954 exploreP:0.6810\n",
      "Episode:136 meanR:31.3000 R:60.0000 rate:0.1200 gloss:0.5083 dlossA:0.5814 dlossQ:1.2305 exploreP:0.6770\n",
      "Episode:137 meanR:31.4200 R:35.0000 rate:0.0700 gloss:0.5440 dlossA:0.5996 dlossQ:1.1679 exploreP:0.6747\n",
      "Episode:138 meanR:31.2700 R:32.0000 rate:0.0640 gloss:0.4989 dlossA:0.5786 dlossQ:1.2480 exploreP:0.6726\n",
      "Episode:139 meanR:31.6900 R:56.0000 rate:0.1120 gloss:0.5256 dlossA:0.5896 dlossQ:1.2086 exploreP:0.6689\n",
      "Episode:140 meanR:31.8000 R:26.0000 rate:0.0520 gloss:0.5212 dlossA:0.5896 dlossQ:1.2052 exploreP:0.6671\n",
      "Episode:141 meanR:32.3100 R:67.0000 rate:0.1340 gloss:0.5227 dlossA:0.5849 dlossQ:1.2205 exploreP:0.6628\n",
      "Episode:142 meanR:32.4800 R:48.0000 rate:0.0960 gloss:0.5356 dlossA:0.5899 dlossQ:1.2252 exploreP:0.6596\n",
      "Episode:143 meanR:32.7700 R:45.0000 rate:0.0900 gloss:0.5386 dlossA:0.5962 dlossQ:1.1840 exploreP:0.6567\n",
      "Episode:144 meanR:33.0000 R:32.0000 rate:0.0640 gloss:0.5467 dlossA:0.5983 dlossQ:1.1744 exploreP:0.6546\n",
      "Episode:145 meanR:32.6600 R:25.0000 rate:0.0500 gloss:0.5421 dlossA:0.5949 dlossQ:1.1985 exploreP:0.6530\n",
      "Episode:146 meanR:33.2200 R:89.0000 rate:0.1780 gloss:0.5345 dlossA:0.5971 dlossQ:1.2244 exploreP:0.6473\n",
      "Episode:147 meanR:34.1800 R:111.0000 rate:0.2220 gloss:0.5320 dlossA:0.5917 dlossQ:1.2464 exploreP:0.6403\n",
      "Episode:148 meanR:34.3900 R:37.0000 rate:0.0740 gloss:0.5352 dlossA:0.5907 dlossQ:1.1946 exploreP:0.6380\n",
      "Episode:149 meanR:35.0500 R:88.0000 rate:0.1760 gloss:0.5344 dlossA:0.5833 dlossQ:1.2868 exploreP:0.6325\n",
      "Episode:150 meanR:35.7100 R:90.0000 rate:0.1800 gloss:0.5143 dlossA:0.5882 dlossQ:1.2059 exploreP:0.6269\n",
      "Episode:151 meanR:35.6100 R:25.0000 rate:0.0500 gloss:0.5311 dlossA:0.5956 dlossQ:1.1959 exploreP:0.6254\n",
      "Episode:152 meanR:35.7700 R:35.0000 rate:0.0700 gloss:0.4902 dlossA:0.5776 dlossQ:1.3014 exploreP:0.6232\n",
      "Episode:153 meanR:36.2300 R:63.0000 rate:0.1260 gloss:0.5163 dlossA:0.5817 dlossQ:1.2258 exploreP:0.6194\n",
      "Episode:154 meanR:36.1400 R:27.0000 rate:0.0540 gloss:0.5094 dlossA:0.5959 dlossQ:1.2183 exploreP:0.6177\n",
      "Episode:155 meanR:36.0800 R:20.0000 rate:0.0400 gloss:0.5200 dlossA:0.5946 dlossQ:1.2287 exploreP:0.6165\n",
      "Episode:156 meanR:36.1600 R:28.0000 rate:0.0560 gloss:0.5183 dlossA:0.5814 dlossQ:1.2508 exploreP:0.6148\n",
      "Episode:157 meanR:36.0600 R:17.0000 rate:0.0340 gloss:0.5054 dlossA:0.5843 dlossQ:1.2312 exploreP:0.6138\n"
     ]
    },
    {
     "name": "stdout",
     "output_type": "stream",
     "text": [
      "Episode:158 meanR:36.6700 R:80.0000 rate:0.1600 gloss:0.5483 dlossA:0.5987 dlossQ:1.2060 exploreP:0.6090\n",
      "Episode:159 meanR:36.5900 R:17.0000 rate:0.0340 gloss:0.5358 dlossA:0.5867 dlossQ:1.2269 exploreP:0.6079\n",
      "Episode:160 meanR:36.5400 R:30.0000 rate:0.0600 gloss:0.4980 dlossA:0.5777 dlossQ:1.2415 exploreP:0.6062\n",
      "Episode:161 meanR:36.7300 R:41.0000 rate:0.0820 gloss:0.5383 dlossA:0.5944 dlossQ:1.1931 exploreP:0.6037\n",
      "Episode:162 meanR:37.0500 R:59.0000 rate:0.1180 gloss:0.5347 dlossA:0.5944 dlossQ:1.1912 exploreP:0.6002\n",
      "Episode:163 meanR:37.2200 R:39.0000 rate:0.0780 gloss:0.5480 dlossA:0.5962 dlossQ:1.2035 exploreP:0.5979\n",
      "Episode:164 meanR:37.3600 R:28.0000 rate:0.0560 gloss:0.5246 dlossA:0.5910 dlossQ:1.2028 exploreP:0.5963\n",
      "Episode:165 meanR:37.3600 R:18.0000 rate:0.0360 gloss:0.5626 dlossA:0.5933 dlossQ:1.3393 exploreP:0.5952\n",
      "Episode:166 meanR:37.1600 R:32.0000 rate:0.0640 gloss:0.5468 dlossA:0.5951 dlossQ:1.1993 exploreP:0.5934\n",
      "Episode:167 meanR:37.1300 R:38.0000 rate:0.0760 gloss:0.5464 dlossA:0.6017 dlossQ:1.1814 exploreP:0.5911\n",
      "Episode:168 meanR:37.2900 R:34.0000 rate:0.0680 gloss:0.5137 dlossA:0.5863 dlossQ:1.2911 exploreP:0.5892\n",
      "Episode:169 meanR:37.6400 R:49.0000 rate:0.0980 gloss:0.5091 dlossA:0.5803 dlossQ:1.2395 exploreP:0.5863\n",
      "Episode:170 meanR:37.7700 R:43.0000 rate:0.0860 gloss:0.5508 dlossA:0.6044 dlossQ:1.1817 exploreP:0.5839\n",
      "Episode:171 meanR:38.1100 R:53.0000 rate:0.1060 gloss:0.5190 dlossA:0.5761 dlossQ:1.2891 exploreP:0.5808\n",
      "Episode:172 meanR:37.9100 R:42.0000 rate:0.0840 gloss:0.5375 dlossA:0.5961 dlossQ:1.2391 exploreP:0.5784\n",
      "Episode:173 meanR:37.9200 R:12.0000 rate:0.0240 gloss:0.5411 dlossA:0.5967 dlossQ:1.1812 exploreP:0.5778\n",
      "Episode:174 meanR:38.3100 R:61.0000 rate:0.1220 gloss:0.5379 dlossA:0.5840 dlossQ:1.3630 exploreP:0.5743\n",
      "Episode:175 meanR:38.0500 R:54.0000 rate:0.1080 gloss:0.5476 dlossA:0.5996 dlossQ:1.1803 exploreP:0.5713\n",
      "Episode:176 meanR:37.9300 R:14.0000 rate:0.0280 gloss:0.5146 dlossA:0.5811 dlossQ:1.3640 exploreP:0.5705\n",
      "Episode:177 meanR:38.7400 R:97.0000 rate:0.1940 gloss:0.5302 dlossA:0.5896 dlossQ:1.2183 exploreP:0.5651\n",
      "Episode:178 meanR:40.0500 R:194.0000 rate:0.3880 gloss:0.5203 dlossA:0.5868 dlossQ:1.2288 exploreP:0.5544\n",
      "Episode:179 meanR:40.5100 R:58.0000 rate:0.1160 gloss:0.5260 dlossA:0.5910 dlossQ:1.2126 exploreP:0.5513\n",
      "Episode:180 meanR:40.4700 R:17.0000 rate:0.0340 gloss:0.4764 dlossA:0.5722 dlossQ:1.3297 exploreP:0.5503\n",
      "Episode:181 meanR:41.7300 R:136.0000 rate:0.2720 gloss:0.5274 dlossA:0.5878 dlossQ:1.2184 exploreP:0.5430\n",
      "Episode:182 meanR:42.0200 R:45.0000 rate:0.0900 gloss:0.5191 dlossA:0.5806 dlossQ:1.2721 exploreP:0.5407\n",
      "Episode:183 meanR:42.5200 R:79.0000 rate:0.1580 gloss:0.5170 dlossA:0.5771 dlossQ:1.2809 exploreP:0.5365\n",
      "Episode:184 meanR:42.6600 R:42.0000 rate:0.0840 gloss:0.5228 dlossA:0.5891 dlossQ:1.2265 exploreP:0.5343\n",
      "Episode:185 meanR:43.1700 R:63.0000 rate:0.1260 gloss:0.5004 dlossA:0.5781 dlossQ:1.2542 exploreP:0.5310\n",
      "Episode:186 meanR:43.5700 R:57.0000 rate:0.1140 gloss:0.5251 dlossA:0.5980 dlossQ:1.2081 exploreP:0.5280\n",
      "Episode:187 meanR:43.4800 R:18.0000 rate:0.0360 gloss:0.5361 dlossA:0.5929 dlossQ:1.1885 exploreP:0.5271\n",
      "Episode:188 meanR:44.2300 R:97.0000 rate:0.1940 gloss:0.5254 dlossA:0.5856 dlossQ:1.2238 exploreP:0.5221\n",
      "Episode:189 meanR:44.4600 R:49.0000 rate:0.0980 gloss:0.5133 dlossA:0.5864 dlossQ:1.2583 exploreP:0.5196\n",
      "Episode:190 meanR:44.9400 R:69.0000 rate:0.1380 gloss:0.4985 dlossA:0.5777 dlossQ:1.2553 exploreP:0.5161\n",
      "Episode:191 meanR:45.2200 R:39.0000 rate:0.0780 gloss:0.5077 dlossA:0.5909 dlossQ:1.2454 exploreP:0.5141\n",
      "Episode:192 meanR:45.1500 R:30.0000 rate:0.0600 gloss:0.5308 dlossA:0.5944 dlossQ:1.2134 exploreP:0.5126\n",
      "Episode:193 meanR:45.7200 R:85.0000 rate:0.1700 gloss:0.5250 dlossA:0.5879 dlossQ:1.2438 exploreP:0.5084\n",
      "Episode:194 meanR:45.6000 R:43.0000 rate:0.0860 gloss:0.4828 dlossA:0.5737 dlossQ:1.2794 exploreP:0.5062\n",
      "Episode:195 meanR:45.9400 R:49.0000 rate:0.0980 gloss:0.5445 dlossA:0.5977 dlossQ:1.2119 exploreP:0.5038\n",
      "Episode:196 meanR:45.9000 R:53.0000 rate:0.1060 gloss:0.5274 dlossA:0.5893 dlossQ:1.2899 exploreP:0.5012\n",
      "Episode:197 meanR:46.2400 R:58.0000 rate:0.1160 gloss:0.5111 dlossA:0.5734 dlossQ:1.2547 exploreP:0.4983\n",
      "Episode:198 meanR:45.0800 R:38.0000 rate:0.0760 gloss:0.5252 dlossA:0.5932 dlossQ:1.2299 exploreP:0.4965\n",
      "Episode:199 meanR:45.2500 R:65.0000 rate:0.1300 gloss:0.5105 dlossA:0.5768 dlossQ:1.2582 exploreP:0.4933\n",
      "Episode:200 meanR:45.4800 R:45.0000 rate:0.0900 gloss:0.5353 dlossA:0.5803 dlossQ:1.3346 exploreP:0.4912\n",
      "Episode:201 meanR:45.4600 R:32.0000 rate:0.0640 gloss:0.4969 dlossA:0.5946 dlossQ:1.2548 exploreP:0.4896\n",
      "Episode:202 meanR:46.4000 R:116.0000 rate:0.2320 gloss:0.5224 dlossA:0.5883 dlossQ:1.2176 exploreP:0.4841\n",
      "Episode:203 meanR:46.6400 R:47.0000 rate:0.0940 gloss:0.5167 dlossA:0.5881 dlossQ:1.2336 exploreP:0.4819\n",
      "Episode:204 meanR:46.7100 R:47.0000 rate:0.0940 gloss:0.5037 dlossA:0.5850 dlossQ:1.2440 exploreP:0.4797\n",
      "Episode:205 meanR:47.0900 R:53.0000 rate:0.1060 gloss:0.5305 dlossA:0.5974 dlossQ:1.2021 exploreP:0.4772\n",
      "Episode:206 meanR:46.9100 R:35.0000 rate:0.0700 gloss:0.4969 dlossA:0.5721 dlossQ:1.2587 exploreP:0.4755\n",
      "Episode:207 meanR:47.0700 R:38.0000 rate:0.0760 gloss:0.5208 dlossA:0.5899 dlossQ:1.2086 exploreP:0.4738\n",
      "Episode:208 meanR:47.1600 R:22.0000 rate:0.0440 gloss:0.5437 dlossA:0.5969 dlossQ:1.1922 exploreP:0.4728\n",
      "Episode:209 meanR:47.2700 R:56.0000 rate:0.1120 gloss:0.4923 dlossA:0.5763 dlossQ:1.2779 exploreP:0.4702\n",
      "Episode:210 meanR:47.0400 R:57.0000 rate:0.1140 gloss:0.5125 dlossA:0.5906 dlossQ:1.2498 exploreP:0.4676\n",
      "Episode:211 meanR:47.4100 R:49.0000 rate:0.0980 gloss:0.5313 dlossA:0.5903 dlossQ:1.2263 exploreP:0.4653\n",
      "Episode:212 meanR:47.5100 R:39.0000 rate:0.0780 gloss:0.5218 dlossA:0.5869 dlossQ:1.2256 exploreP:0.4635\n",
      "Episode:213 meanR:48.4200 R:117.0000 rate:0.2340 gloss:0.5218 dlossA:0.5813 dlossQ:1.3176 exploreP:0.4583\n",
      "Episode:214 meanR:48.2700 R:44.0000 rate:0.0880 gloss:0.5116 dlossA:0.5833 dlossQ:1.2429 exploreP:0.4563\n",
      "Episode:215 meanR:48.3800 R:36.0000 rate:0.0720 gloss:0.5296 dlossA:0.5883 dlossQ:1.2193 exploreP:0.4547\n",
      "Episode:216 meanR:48.9300 R:80.0000 rate:0.1600 gloss:0.5213 dlossA:0.5826 dlossQ:1.2395 exploreP:0.4512\n",
      "Episode:217 meanR:49.6300 R:100.0000 rate:0.2000 gloss:0.5100 dlossA:0.5792 dlossQ:1.3116 exploreP:0.4468\n",
      "Episode:218 meanR:50.2800 R:79.0000 rate:0.1580 gloss:0.5220 dlossA:0.5855 dlossQ:1.2290 exploreP:0.4433\n",
      "Episode:219 meanR:50.7100 R:92.0000 rate:0.1840 gloss:0.5031 dlossA:0.5789 dlossQ:1.2453 exploreP:0.4394\n",
      "Episode:220 meanR:50.7400 R:37.0000 rate:0.0740 gloss:0.5064 dlossA:0.5804 dlossQ:1.2605 exploreP:0.4378\n",
      "Episode:221 meanR:51.0300 R:83.0000 rate:0.1660 gloss:0.4940 dlossA:0.5752 dlossQ:1.2882 exploreP:0.4342\n",
      "Episode:222 meanR:51.9400 R:132.0000 rate:0.2640 gloss:0.5243 dlossA:0.5880 dlossQ:1.2728 exploreP:0.4287\n",
      "Episode:223 meanR:51.8400 R:21.0000 rate:0.0420 gloss:0.5243 dlossA:0.6003 dlossQ:1.2165 exploreP:0.4278\n",
      "Episode:224 meanR:52.3100 R:59.0000 rate:0.1180 gloss:0.4963 dlossA:0.5776 dlossQ:1.2780 exploreP:0.4253\n",
      "Episode:225 meanR:52.2900 R:21.0000 rate:0.0420 gloss:0.5277 dlossA:0.5950 dlossQ:1.1953 exploreP:0.4245\n",
      "Episode:226 meanR:52.8000 R:94.0000 rate:0.1880 gloss:0.5030 dlossA:0.5816 dlossQ:1.2742 exploreP:0.4206\n",
      "Episode:227 meanR:52.8200 R:50.0000 rate:0.1000 gloss:0.5209 dlossA:0.5790 dlossQ:1.2724 exploreP:0.4185\n",
      "Episode:228 meanR:52.6300 R:66.0000 rate:0.1320 gloss:0.5160 dlossA:0.5839 dlossQ:1.2588 exploreP:0.4159\n",
      "Episode:229 meanR:53.3400 R:82.0000 rate:0.1640 gloss:0.5151 dlossA:0.5862 dlossQ:1.2736 exploreP:0.4125\n",
      "Episode:230 meanR:53.7000 R:78.0000 rate:0.1560 gloss:0.4996 dlossA:0.5757 dlossQ:1.3069 exploreP:0.4094\n",
      "Episode:231 meanR:54.1700 R:78.0000 rate:0.1560 gloss:0.5194 dlossA:0.5878 dlossQ:1.3609 exploreP:0.4063\n",
      "Episode:232 meanR:54.3400 R:36.0000 rate:0.0720 gloss:0.5097 dlossA:0.5844 dlossQ:1.2639 exploreP:0.4049\n",
      "Episode:233 meanR:54.8800 R:77.0000 rate:0.1540 gloss:0.5067 dlossA:0.5824 dlossQ:1.2728 exploreP:0.4019\n",
      "Episode:234 meanR:54.4100 R:49.0000 rate:0.0980 gloss:0.5126 dlossA:0.5888 dlossQ:1.2359 exploreP:0.3999\n",
      "Episode:235 meanR:54.5300 R:25.0000 rate:0.0500 gloss:0.5075 dlossA:0.5924 dlossQ:1.2017 exploreP:0.3990\n"
     ]
    },
    {
     "name": "stdout",
     "output_type": "stream",
     "text": [
      "Episode:236 meanR:54.4400 R:51.0000 rate:0.1020 gloss:0.5306 dlossA:0.5922 dlossQ:1.2632 exploreP:0.3970\n",
      "Episode:237 meanR:54.7900 R:70.0000 rate:0.1400 gloss:0.5006 dlossA:0.5827 dlossQ:1.2453 exploreP:0.3943\n",
      "Episode:238 meanR:55.5700 R:110.0000 rate:0.2200 gloss:0.5042 dlossA:0.5744 dlossQ:1.3344 exploreP:0.3901\n",
      "Episode:239 meanR:56.1100 R:110.0000 rate:0.2200 gloss:0.4963 dlossA:0.5802 dlossQ:1.2781 exploreP:0.3859\n",
      "Episode:240 meanR:56.6100 R:76.0000 rate:0.1520 gloss:0.4956 dlossA:0.5742 dlossQ:1.3149 exploreP:0.3831\n",
      "Episode:241 meanR:56.4500 R:51.0000 rate:0.1020 gloss:0.5242 dlossA:0.5909 dlossQ:1.2435 exploreP:0.3812\n",
      "Episode:242 meanR:56.5500 R:58.0000 rate:0.1160 gloss:0.4955 dlossA:0.5803 dlossQ:1.2630 exploreP:0.3790\n",
      "Episode:243 meanR:56.6900 R:59.0000 rate:0.1180 gloss:0.4952 dlossA:0.5783 dlossQ:1.3448 exploreP:0.3769\n",
      "Episode:244 meanR:57.7200 R:135.0000 rate:0.2700 gloss:0.4965 dlossA:0.5827 dlossQ:1.2620 exploreP:0.3719\n",
      "Episode:245 meanR:58.1600 R:69.0000 rate:0.1380 gloss:0.4817 dlossA:0.5732 dlossQ:1.3364 exploreP:0.3695\n",
      "Episode:246 meanR:57.7900 R:52.0000 rate:0.1040 gloss:0.4707 dlossA:0.5706 dlossQ:1.2992 exploreP:0.3676\n",
      "Episode:247 meanR:57.9200 R:124.0000 rate:0.2480 gloss:0.5104 dlossA:0.5830 dlossQ:1.2576 exploreP:0.3632\n",
      "Episode:248 meanR:58.4600 R:91.0000 rate:0.1820 gloss:0.5184 dlossA:0.5959 dlossQ:1.2689 exploreP:0.3600\n",
      "Episode:249 meanR:58.4900 R:91.0000 rate:0.1820 gloss:0.5048 dlossA:0.5827 dlossQ:1.2680 exploreP:0.3568\n",
      "Episode:250 meanR:58.5300 R:94.0000 rate:0.1880 gloss:0.5014 dlossA:0.5813 dlossQ:1.2867 exploreP:0.3536\n",
      "Episode:251 meanR:58.7400 R:46.0000 rate:0.0920 gloss:0.4812 dlossA:0.5574 dlossQ:1.3984 exploreP:0.3520\n",
      "Episode:252 meanR:59.1800 R:79.0000 rate:0.1580 gloss:0.5140 dlossA:0.5882 dlossQ:1.2544 exploreP:0.3493\n",
      "Episode:253 meanR:59.3300 R:78.0000 rate:0.1560 gloss:0.5177 dlossA:0.5918 dlossQ:1.2727 exploreP:0.3467\n",
      "Episode:254 meanR:60.1600 R:110.0000 rate:0.2200 gloss:0.4934 dlossA:0.5834 dlossQ:1.3238 exploreP:0.3430\n",
      "Episode:255 meanR:60.5300 R:57.0000 rate:0.1140 gloss:0.5258 dlossA:0.5961 dlossQ:1.2594 exploreP:0.3411\n",
      "Episode:256 meanR:60.7200 R:47.0000 rate:0.0940 gloss:0.5057 dlossA:0.5766 dlossQ:1.3245 exploreP:0.3395\n",
      "Episode:257 meanR:61.1800 R:63.0000 rate:0.1260 gloss:0.5322 dlossA:0.5960 dlossQ:1.2099 exploreP:0.3375\n",
      "Episode:258 meanR:61.6200 R:124.0000 rate:0.2480 gloss:0.5048 dlossA:0.5771 dlossQ:1.3838 exploreP:0.3334\n",
      "Episode:259 meanR:63.6300 R:218.0000 rate:0.4360 gloss:0.5105 dlossA:0.5854 dlossQ:1.2773 exploreP:0.3265\n",
      "Episode:260 meanR:65.7000 R:237.0000 rate:0.4740 gloss:0.5107 dlossA:0.5887 dlossQ:1.2894 exploreP:0.3191\n",
      "Episode:261 meanR:65.9900 R:70.0000 rate:0.1400 gloss:0.4979 dlossA:0.5785 dlossQ:1.2844 exploreP:0.3169\n",
      "Episode:262 meanR:66.3400 R:94.0000 rate:0.1880 gloss:0.5021 dlossA:0.5827 dlossQ:1.3087 exploreP:0.3140\n",
      "Episode:263 meanR:67.0400 R:109.0000 rate:0.2180 gloss:0.4961 dlossA:0.5789 dlossQ:1.2735 exploreP:0.3107\n",
      "Episode:264 meanR:68.6800 R:192.0000 rate:0.3840 gloss:0.4924 dlossA:0.5754 dlossQ:1.3075 exploreP:0.3050\n",
      "Episode:265 meanR:69.4000 R:90.0000 rate:0.1800 gloss:0.5071 dlossA:0.5873 dlossQ:1.2952 exploreP:0.3024\n",
      "Episode:266 meanR:70.8500 R:177.0000 rate:0.3540 gloss:0.4808 dlossA:0.5755 dlossQ:1.3257 exploreP:0.2972\n",
      "Episode:267 meanR:70.8900 R:42.0000 rate:0.0840 gloss:0.4944 dlossA:0.5767 dlossQ:1.3424 exploreP:0.2960\n",
      "Episode:268 meanR:71.1600 R:61.0000 rate:0.1220 gloss:0.4908 dlossA:0.5851 dlossQ:1.3511 exploreP:0.2943\n",
      "Episode:269 meanR:71.1800 R:51.0000 rate:0.1020 gloss:0.4997 dlossA:0.5834 dlossQ:1.2723 exploreP:0.2928\n",
      "Episode:270 meanR:70.9500 R:20.0000 rate:0.0400 gloss:0.4864 dlossA:0.5972 dlossQ:1.4414 exploreP:0.2923\n",
      "Episode:271 meanR:71.0100 R:59.0000 rate:0.1180 gloss:0.5141 dlossA:0.5878 dlossQ:1.2875 exploreP:0.2906\n",
      "Episode:272 meanR:71.3500 R:76.0000 rate:0.1520 gloss:0.4889 dlossA:0.5825 dlossQ:1.2917 exploreP:0.2885\n",
      "Episode:273 meanR:72.3200 R:109.0000 rate:0.2180 gloss:0.4899 dlossA:0.5759 dlossQ:1.3205 exploreP:0.2855\n",
      "Episode:274 meanR:73.9600 R:225.0000 rate:0.4500 gloss:0.4960 dlossA:0.5868 dlossQ:1.2876 exploreP:0.2793\n",
      "Episode:275 meanR:75.0500 R:163.0000 rate:0.3260 gloss:0.5040 dlossA:0.5832 dlossQ:1.2892 exploreP:0.2750\n",
      "Episode:276 meanR:75.5000 R:59.0000 rate:0.1180 gloss:0.4762 dlossA:0.5699 dlossQ:1.3603 exploreP:0.2734\n",
      "Episode:277 meanR:76.6500 R:212.0000 rate:0.4240 gloss:0.5031 dlossA:0.5874 dlossQ:1.3040 exploreP:0.2679\n",
      "Episode:278 meanR:75.2800 R:57.0000 rate:0.1140 gloss:0.4989 dlossA:0.5783 dlossQ:1.3351 exploreP:0.2664\n",
      "Episode:279 meanR:75.8300 R:113.0000 rate:0.2260 gloss:0.4937 dlossA:0.5780 dlossQ:1.3174 exploreP:0.2636\n",
      "Episode:280 meanR:76.2800 R:62.0000 rate:0.1240 gloss:0.4922 dlossA:0.5819 dlossQ:1.3013 exploreP:0.2620\n",
      "Episode:281 meanR:76.1200 R:120.0000 rate:0.2400 gloss:0.4933 dlossA:0.5915 dlossQ:1.3231 exploreP:0.2590\n",
      "Episode:282 meanR:76.8900 R:122.0000 rate:0.2440 gloss:0.5154 dlossA:0.5914 dlossQ:1.3114 exploreP:0.2560\n",
      "Episode:283 meanR:77.4600 R:136.0000 rate:0.2720 gloss:0.5112 dlossA:0.5828 dlossQ:1.3481 exploreP:0.2526\n",
      "Episode:284 meanR:78.8500 R:181.0000 rate:0.3620 gloss:0.5016 dlossA:0.5860 dlossQ:1.2852 exploreP:0.2483\n",
      "Episode:285 meanR:78.7600 R:54.0000 rate:0.1080 gloss:0.4853 dlossA:0.5828 dlossQ:1.3210 exploreP:0.2470\n",
      "Episode:286 meanR:78.6000 R:41.0000 rate:0.0820 gloss:0.4808 dlossA:0.5729 dlossQ:1.3585 exploreP:0.2460\n",
      "Episode:287 meanR:79.3400 R:92.0000 rate:0.1840 gloss:0.4934 dlossA:0.5885 dlossQ:1.3053 exploreP:0.2439\n",
      "Episode:288 meanR:79.2100 R:84.0000 rate:0.1680 gloss:0.4913 dlossA:0.5895 dlossQ:1.3678 exploreP:0.2419\n",
      "Episode:289 meanR:79.3500 R:63.0000 rate:0.1260 gloss:0.5257 dlossA:0.5954 dlossQ:1.2896 exploreP:0.2405\n",
      "Episode:290 meanR:80.1600 R:150.0000 rate:0.3000 gloss:0.5067 dlossA:0.5932 dlossQ:1.3317 exploreP:0.2370\n",
      "Episode:291 meanR:80.4200 R:65.0000 rate:0.1300 gloss:0.4982 dlossA:0.5999 dlossQ:1.3238 exploreP:0.2356\n",
      "Episode:292 meanR:81.2000 R:108.0000 rate:0.2160 gloss:0.4923 dlossA:0.5939 dlossQ:1.3151 exploreP:0.2331\n",
      "Episode:293 meanR:82.1200 R:177.0000 rate:0.3540 gloss:0.5110 dlossA:0.5929 dlossQ:1.3451 exploreP:0.2292\n",
      "Episode:294 meanR:82.8500 R:116.0000 rate:0.2320 gloss:0.5021 dlossA:0.5906 dlossQ:1.3770 exploreP:0.2267\n",
      "Episode:295 meanR:82.9900 R:63.0000 rate:0.1260 gloss:0.5141 dlossA:0.5892 dlossQ:1.3591 exploreP:0.2253\n",
      "Episode:296 meanR:83.1600 R:70.0000 rate:0.1400 gloss:0.5409 dlossA:0.6048 dlossQ:1.2911 exploreP:0.2238\n",
      "Episode:297 meanR:83.2100 R:63.0000 rate:0.1260 gloss:0.5046 dlossA:0.5940 dlossQ:1.3491 exploreP:0.2225\n",
      "Episode:298 meanR:83.9600 R:113.0000 rate:0.2260 gloss:0.4983 dlossA:0.5800 dlossQ:1.3811 exploreP:0.2201\n",
      "Episode:299 meanR:83.8800 R:57.0000 rate:0.1140 gloss:0.5249 dlossA:0.5973 dlossQ:1.2887 exploreP:0.2189\n",
      "Episode:300 meanR:84.2100 R:78.0000 rate:0.1560 gloss:0.5049 dlossA:0.5962 dlossQ:1.2945 exploreP:0.2173\n",
      "Episode:301 meanR:85.4600 R:157.0000 rate:0.3140 gloss:0.5152 dlossA:0.5880 dlossQ:1.3194 exploreP:0.2141\n",
      "Episode:302 meanR:85.0900 R:79.0000 rate:0.1580 gloss:0.4898 dlossA:0.5885 dlossQ:1.3812 exploreP:0.2125\n",
      "Episode:303 meanR:85.2900 R:67.0000 rate:0.1340 gloss:0.4929 dlossA:0.5899 dlossQ:1.3200 exploreP:0.2111\n",
      "Episode:304 meanR:85.4200 R:60.0000 rate:0.1200 gloss:0.4958 dlossA:0.5905 dlossQ:1.3157 exploreP:0.2099\n",
      "Episode:305 meanR:85.5400 R:65.0000 rate:0.1300 gloss:0.5076 dlossA:0.5838 dlossQ:1.4933 exploreP:0.2086\n",
      "Episode:306 meanR:85.9400 R:75.0000 rate:0.1500 gloss:0.5042 dlossA:0.5866 dlossQ:1.3168 exploreP:0.2071\n",
      "Episode:307 meanR:85.9900 R:43.0000 rate:0.0860 gloss:0.4967 dlossA:0.5821 dlossQ:1.4236 exploreP:0.2063\n",
      "Episode:308 meanR:86.5100 R:74.0000 rate:0.1480 gloss:0.5084 dlossA:0.6024 dlossQ:1.2918 exploreP:0.2048\n",
      "Episode:309 meanR:87.1700 R:122.0000 rate:0.2440 gloss:0.5395 dlossA:0.6029 dlossQ:1.3868 exploreP:0.2025\n",
      "Episode:310 meanR:87.2400 R:64.0000 rate:0.1280 gloss:0.5423 dlossA:0.6094 dlossQ:1.2644 exploreP:0.2012\n",
      "Episode:311 meanR:87.4100 R:66.0000 rate:0.1320 gloss:0.5018 dlossA:0.5894 dlossQ:1.3461 exploreP:0.2000\n",
      "Episode:312 meanR:87.5300 R:51.0000 rate:0.1020 gloss:0.5019 dlossA:0.5845 dlossQ:1.3426 exploreP:0.1990\n",
      "Episode:313 meanR:87.2800 R:92.0000 rate:0.1840 gloss:0.5067 dlossA:0.5928 dlossQ:1.3318 exploreP:0.1973\n"
     ]
    },
    {
     "name": "stdout",
     "output_type": "stream",
     "text": [
      "Episode:314 meanR:87.3700 R:53.0000 rate:0.1060 gloss:0.5273 dlossA:0.6018 dlossQ:1.2854 exploreP:0.1963\n",
      "Episode:315 meanR:88.0900 R:108.0000 rate:0.2160 gloss:0.5000 dlossA:0.5864 dlossQ:1.3456 exploreP:0.1943\n",
      "Episode:316 meanR:87.8900 R:60.0000 rate:0.1200 gloss:0.5058 dlossA:0.5936 dlossQ:1.3315 exploreP:0.1932\n",
      "Episode:317 meanR:87.9900 R:110.0000 rate:0.2200 gloss:0.5020 dlossA:0.5904 dlossQ:1.3281 exploreP:0.1912\n",
      "Episode:318 meanR:88.1400 R:94.0000 rate:0.1880 gloss:0.4883 dlossA:0.5865 dlossQ:1.3707 exploreP:0.1895\n",
      "Episode:319 meanR:87.8100 R:59.0000 rate:0.1180 gloss:0.5011 dlossA:0.6041 dlossQ:1.3095 exploreP:0.1884\n",
      "Episode:320 meanR:88.3200 R:88.0000 rate:0.1760 gloss:0.5090 dlossA:0.6008 dlossQ:1.3165 exploreP:0.1869\n",
      "Episode:321 meanR:88.3500 R:86.0000 rate:0.1720 gloss:0.5201 dlossA:0.6029 dlossQ:1.3150 exploreP:0.1854\n",
      "Episode:322 meanR:88.0200 R:99.0000 rate:0.1980 gloss:0.5072 dlossA:0.5996 dlossQ:1.3049 exploreP:0.1836\n",
      "Episode:323 meanR:88.3400 R:53.0000 rate:0.1060 gloss:0.5154 dlossA:0.5994 dlossQ:1.3223 exploreP:0.1827\n",
      "Episode:324 meanR:88.9200 R:117.0000 rate:0.2340 gloss:0.5024 dlossA:0.5925 dlossQ:1.3528 exploreP:0.1807\n",
      "Episode:325 meanR:89.9800 R:127.0000 rate:0.2540 gloss:0.5117 dlossA:0.5946 dlossQ:1.3133 exploreP:0.1785\n",
      "Episode:326 meanR:90.1000 R:106.0000 rate:0.2120 gloss:0.5012 dlossA:0.5925 dlossQ:1.3429 exploreP:0.1768\n",
      "Episode:327 meanR:90.6500 R:105.0000 rate:0.2100 gloss:0.5060 dlossA:0.6000 dlossQ:1.3123 exploreP:0.1750\n",
      "Episode:328 meanR:91.1000 R:111.0000 rate:0.2220 gloss:0.4928 dlossA:0.5895 dlossQ:1.3802 exploreP:0.1732\n",
      "Episode:329 meanR:91.5000 R:122.0000 rate:0.2440 gloss:0.5040 dlossA:0.5925 dlossQ:1.3903 exploreP:0.1712\n",
      "Episode:330 meanR:91.7700 R:105.0000 rate:0.2100 gloss:0.5056 dlossA:0.5950 dlossQ:1.3382 exploreP:0.1695\n"
     ]
    }
   ],
   "source": [
    "# Save/load the model and save for plotting\n",
    "saver = tf.train.Saver()\n",
    "episode_rewards_list = [] # goal\n",
    "rewards_list, gloss_list, dloss_list = [], [], []\n",
    "\n",
    "# TF session for training\n",
    "with tf.Session(graph=graph) as sess:\n",
    "    sess.run(tf.global_variables_initializer())\n",
    "    #saver.restore(sess, 'checkpoints/model.ckpt')    \n",
    "    #saver.restore(sess, tf.train.latest_checkpoint('checkpoints'))\n",
    "    total_step = 0 # Explore or exploit parameter\n",
    "    episode_reward = deque(maxlen=100) # 100 episodes average/running average/running mean/window\n",
    "\n",
    "    # Training episodes/epochs\n",
    "    for ep in range(1111):\n",
    "        total_reward = 0 # each episode\n",
    "        gloss_batch, dlossA_batch, dlossQ_batch= [], [], []\n",
    "        state = env.reset() # each episode\n",
    "        num_step = 0 # each episode\n",
    "        idx_arr = np.arange(memory_size// batch_size)\n",
    "\n",
    "        # Training steps/batches\n",
    "        while True:\n",
    "            # Explore (Env) or Exploit (Model)\n",
    "            total_step += 1\n",
    "            explore_p = explore_stop + (explore_start - explore_stop) * np.exp(-decay_rate * total_step) \n",
    "            if explore_p > np.random.rand():\n",
    "                action = env.action_space.sample()\n",
    "                #print(action)\n",
    "            else:\n",
    "                action_logits = sess.run(model.actions_logits, feed_dict={model.states: state.reshape([1, -1])})\n",
    "                action = np.argmax(action_logits) # adding epsilon*noise\n",
    "                #print(action)\n",
    "            next_state, reward, done, _ = env.step(action)\n",
    "            memory.buffer.append([state, action, next_state, reward, float(done)])\n",
    "            memory.rates.append(-1) # empty\n",
    "            num_step += 1 # momory added\n",
    "            total_reward += reward\n",
    "            state = next_state\n",
    "            \n",
    "            # Rating the memory\n",
    "            if done is True:\n",
    "                rate = total_reward/500 # update rate at the end/ when episode is done\n",
    "                for idx in range(num_step): # episode length\n",
    "                    if memory.rates[-1-idx] == -1: # double-check the landmark/marked indexes\n",
    "                        memory.rates[-1-idx] = rate # rate the trajectory/data\n",
    "                        \n",
    "            # Training with the maxrated minibatch\n",
    "            batch = memory.buffer\n",
    "            percentage = 0.9\n",
    "            #for idx in range(memory_size// batch_size):\n",
    "            idx = np.random.choice(idx_arr)\n",
    "            states = np.array([each[0] for each in batch])[idx*batch_size:(idx+1)*batch_size]\n",
    "            actions = np.array([each[1] for each in batch])[idx*batch_size:(idx+1)*batch_size]\n",
    "            next_states = np.array([each[2] for each in batch])[idx*batch_size:(idx+1)*batch_size]\n",
    "            rewards = np.array([each[3] for each in batch])[idx*batch_size:(idx+1)*batch_size]\n",
    "            dones = np.array([each[4] for each in batch])[idx*batch_size:(idx+1)*batch_size]\n",
    "            rates = np.array(memory.rates)[idx*batch_size:(idx+1)*batch_size]\n",
    "            #print(states.shape, actions.shape, next_states.shape, rewards.shape, dones.shape, rates.shape)\n",
    "            states = states[rates >= (np.max(rates)*percentage)]\n",
    "            actions = actions[rates >= (np.max(rates)*percentage)]\n",
    "            next_states = next_states[rates >= (np.max(rates)*percentage)]\n",
    "            rewards = rewards[rates >= (np.max(rates)*percentage)]\n",
    "            dones = dones[rates >= (np.max(rates)*percentage)]\n",
    "            rates = rates[rates >= (np.max(rates)*percentage)]\n",
    "            #print(states.shape, actions.shape, next_states.shape, rewards.shape, dones.shape, rates.shape)\n",
    "            nextQs_logits = sess.run(model.Qs_logits, feed_dict = {model.states: next_states})\n",
    "            #nextQs = np.max(nextQs_logits, axis=1) * (1-dones) # DQN\n",
    "            nextQs = nextQs_logits.reshape([-1]) * (1-dones) # DPG\n",
    "            targetQs = rewards + (gamma * nextQs)\n",
    "            gloss, dlossA, dlossQ, _, _, _ = sess.run([model.g_loss, model.d_lossA, model.d_lossQ, \n",
    "                                                       model.g_opt, model.d_optA, model.d_optQ],\n",
    "                                                      feed_dict = {model.states: states, \n",
    "                                                                   model.actions: actions,\n",
    "                                                                   model.targetQs: targetQs, \n",
    "                                                                   model.rates: rates})\n",
    "            gloss_batch.append(gloss)\n",
    "            dlossA_batch.append(dlossA)\n",
    "            dlossQ_batch.append(dlossQ)\n",
    "            if done is True:\n",
    "                break\n",
    "                \n",
    "        episode_reward.append(total_reward)\n",
    "        print('Episode:{}'.format(ep),\n",
    "              'meanR:{:.4f}'.format(np.mean(episode_reward)),\n",
    "              'R:{:.4f}'.format(total_reward),\n",
    "              'rate:{:.4f}'.format(rate),\n",
    "              'gloss:{:.4f}'.format(np.mean(gloss_batch)),\n",
    "              'dlossA:{:.4f}'.format(np.mean(dlossA_batch)),\n",
    "              'dlossQ:{:.4f}'.format(np.mean(dlossQ_batch)),\n",
    "              'exploreP:{:.4f}'.format(explore_p))\n",
    "\n",
    "        # Ploting out\n",
    "        episode_rewards_list.append([ep, np.mean(episode_reward)])\n",
    "        rewards_list.append([ep, total_reward])\n",
    "        #gloss_list.append([ep, np.mean(gloss_batch)])\n",
    "        #dloss_list.append([ep, np.mean(dloss_batch)])\n",
    "        \n",
    "        # Break episode/epoch loop\n",
    "        ## Option 1: Solve the First Version\n",
    "        #The task is episodic, and in order to solve the environment, \n",
    "        #your agent must get an average score of +30 over 100 consecutive episodes.\n",
    "        if np.mean(episode_reward) >= 500:\n",
    "            break\n",
    "            \n",
    "    # At the end of all training episodes/epochs\n",
    "    saver.save(sess, 'checkpoints/model.ckpt')"
   ]
  },
  {
   "cell_type": "markdown",
   "metadata": {},
   "source": [
    "# Visualizing training\n",
    "\n",
    "Below I'll plot the total rewards for each episode. I'm plotting the rolling average too, in blue."
   ]
  },
  {
   "cell_type": "code",
   "execution_count": null,
   "metadata": {},
   "outputs": [],
   "source": [
    "import matplotlib.pyplot as plt\n",
    "%matplotlib inline\n",
    "\n",
    "def running_mean(x, N):\n",
    "    cumsum = np.cumsum(np.insert(x, 0, 0)) \n",
    "    return (cumsum[N:] - cumsum[:-N]) / N "
   ]
  },
  {
   "cell_type": "code",
   "execution_count": null,
   "metadata": {},
   "outputs": [],
   "source": [
    "eps, arr = np.array(episode_rewards_list).T\n",
    "smoothed_arr = running_mean(arr, 10)\n",
    "plt.plot(eps[-len(smoothed_arr):], smoothed_arr)\n",
    "plt.plot(eps, arr, color='grey', alpha=0.3)\n",
    "plt.xlabel('Episode')\n",
    "plt.ylabel('Total rewards')"
   ]
  },
  {
   "cell_type": "code",
   "execution_count": 62,
   "metadata": {},
   "outputs": [
    {
     "data": {
      "text/plain": [
       "Text(0,0.5,'Total rewards')"
      ]
     },
     "execution_count": 62,
     "metadata": {},
     "output_type": "execute_result"
    },
    {
     "data": {
      "image/png": "[encoded data removed]",
      "text/plain": [
       "<Figure size 432x288 with 1 Axes>"
      ]
     },
     "metadata": {},
     "output_type": "display_data"
    }
   ],
   "source": [
    "# eps, arr = np.array(episode_rewards_list).T\n",
    "# smoothed_arr = running_mean(arr, 10)\n",
    "# plt.plot(eps[-len(smoothed_arr):], smoothed_arr)\n",
    "# plt.plot(eps, arr, color='grey', alpha=0.3)\n",
    "# plt.xlabel('Episode')\n",
    "# plt.ylabel('Total rewards')"
   ]
  },
  {
   "cell_type": "code",
   "execution_count": 63,
   "metadata": {},
   "outputs": [
    {
     "data": {
      "text/plain": [
       "Text(0,0.5,'Total rewards')"
      ]
     },
     "execution_count": 63,
     "metadata": {},
     "output_type": "execute_result"
    },
    {
     "data": {
      "image/png": "[encoded data removed]",
      "text/plain": [
       "<Figure size 432x288 with 1 Axes>"
      ]
     },
     "metadata": {},
     "output_type": "display_data"
    }
   ],
   "source": [
    "eps, arr = np.array(rewards_list).T\n",
    "smoothed_arr = running_mean(arr, 10)\n",
    "plt.plot(eps[-len(smoothed_arr):], smoothed_arr)\n",
    "plt.plot(eps, arr, color='grey', alpha=0.3)\n",
    "plt.xlabel('Episode')\n",
    "plt.ylabel('Total rewards')"
   ]
  },
  {
   "cell_type": "code",
   "execution_count": 65,
   "metadata": {},
   "outputs": [],
   "source": [
    "eps, arr = np.array(gloss_list).T\n",
    "smoothed_arr = running_mean(arr, 10)\n",
    "plt.plot(eps[-len(smoothed_arr):], smoothed_arr)\n",
    "plt.plot(eps, arr, color='grey', alpha=0.3)\n",
    "plt.xlabel('Episode')\n",
    "plt.ylabel('G losses')`"
   ]
  },
  {
   "cell_type": "code",
   "execution_count": 67,
   "metadata": {},
   "outputs": [],
   "source": [
    "eps, arr = np.array(dloss_list).T\n",
    "smoothed_arr = running_mean(arr, 10)\n",
    "plt.plot(eps[-len(smoothed_arr):], smoothed_arr)\n",
    "plt.plot(eps, arr, color='grey', alpha=0.3)\n",
    "plt.xlabel('Episode')\n",
    "plt.ylabel('D losses')"
   ]
  },
  {
   "cell_type": "markdown",
   "metadata": {},
   "source": [
    "## Testing\n",
    "\n",
    "Let's checkout how our trained agent plays the game."
   ]
  },
  {
   "cell_type": "code",
   "execution_count": 36,
   "metadata": {},
   "outputs": [
    {
     "name": "stdout",
     "output_type": "stream",
     "text": [
      "\u001b[33mWARN: gym.spaces.Box autodetected dtype as <class 'numpy.float32'>. Please provide explicit dtype.\u001b[0m\n",
      "\u001b[33mWARN: gym.spaces.Box autodetected dtype as <class 'numpy.float32'>. Please provide explicit dtype.\u001b[0m\n",
      "INFO:tensorflow:Restoring parameters from checkpoints/model.ckpt\n"
     ]
    },
    {
     "name": "stderr",
     "output_type": "stream",
     "text": [
      "/home/arasdar/anaconda3/envs/env/lib/python3.6/site-packages/gym/__init__.py:22: UserWarning: DEPRECATION WARNING: to improve load times, gym no longer automatically loads gym.spaces. Please run \"import gym.spaces\" to load gym.spaces on your own. This warning will turn into an error in a future version of gym.\n",
      "  warnings.warn('DEPRECATION WARNING: to improve load times, gym no longer automatically loads gym.spaces. Please run \"import gym.spaces\" to load gym.spaces on your own. This warning will turn into an error in a future version of gym.')\n"
     ]
    },
    {
     "name": "stdout",
     "output_type": "stream",
     "text": [
      "total_reward: 500.0\n"
     ]
    }
   ],
   "source": [
    "import gym\n",
    "env = gym.make('CartPole-v0')\n",
    "env = gym.make('CartPole-v1')\n",
    "# env = gym.make('Acrobot-v1')\n",
    "# env = gym.make('MountainCar-v0')\n",
    "# env = gym.make('Pendulum-v0')\n",
    "# env = gym.make('Blackjack-v0')\n",
    "# env = gym.make('FrozenLake-v0')\n",
    "# env = gym.make('AirRaid-ram-v0')\n",
    "# env = gym.make('AirRaid-v0')\n",
    "# env = gym.make('BipedalWalker-v2')\n",
    "# env = gym.make('Copy-v0')\n",
    "# env = gym.make('CarRacing-v0')\n",
    "# env = gym.make('Ant-v2') #mujoco\n",
    "# env = gym.make('FetchPickAndPlace-v1') # mujoco required!\n",
    "\n",
    "with tf.Session() as sess:\n",
    "    sess.run(tf.global_variables_initializer())\n",
    "    saver.restore(sess, 'checkpoints/model.ckpt')    \n",
    "    #saver.restore(sess, tf.train.latest_checkpoint('checkpoints'))\n",
    "    \n",
    "    # Episodes/epochs\n",
    "    for _ in range(1):\n",
    "        state = env.reset()\n",
    "        total_reward = 0\n",
    "\n",
    "        # Steps/batches\n",
    "        while True:\n",
    "            env.render()\n",
    "            action_logits = sess.run(model.actions_logits, feed_dict={model.states: state.reshape([1, -1])})\n",
    "            action = np.argmax(action_logits)\n",
    "            state, reward, done, _ = env.step(action)\n",
    "            total_reward += reward\n",
    "            if done:\n",
    "                print('total_reward: {}'.format(total_reward))\n",
    "                break\n",
    "                \n",
    "env.close()"
   ]
  },
  {
   "cell_type": "markdown",
   "metadata": {},
   "source": [
    "## Extending this\n",
    "\n",
    "So, Cart-Pole is a pretty simple game. However, the same model can be used to train an agent to play something much more complicated like Pong or Space Invaders. Instead of a state like we're using here though, you'd want to use convolutional layers to get the state from the screen images.\n",
    "\n",
    "![Deep Q-Learning Atari](assets/atari-network.png)\n",
    "\n",
    "I'll leave it as a challenge for you to use deep Q-learning to train an agent to play Atari games. Here's the original paper which will get you started: http://www.davidqiu.com:8888/research/nature14236.pdf."
   ]
  },
  {
   "cell_type": "code",
   "execution_count": null,
   "metadata": {},
   "outputs": [],
   "source": []
  }
 ],
 "metadata": {
  "kernelspec": {
   "display_name": "Python 3",
   "language": "python",
   "name": "python3"
  },
  "language_info": {
   "codemirror_mode": {
    "name": "ipython",
    "version": 3
   },
   "file_extension": ".py",
   "mimetype": "text/x-python",
   "name": "python",
   "nbconvert_exporter": "python",
   "pygments_lexer": "ipython3",
   "version": "3.6.6"
  }
 },
 "nbformat": 4,
 "nbformat_minor": 2
}
