{
 "cells": [
  {
   "cell_type": "code",
   "execution_count": 1,
   "metadata": {},
   "outputs": [
    {
     "name": "stdout",
     "output_type": "stream",
     "text": [
      "TensorFlow Version: 1.7.1\n",
      "Default GPU Device: \n"
     ]
    }
   ],
   "source": [
    "import tensorflow as tf\n",
    "print('TensorFlow Version: {}'.format(tf.__version__))\n",
    "print('Default GPU Device: {}'.format(tf.test.gpu_device_name()))"
   ]
  },
  {
   "cell_type": "markdown",
   "metadata": {},
   "source": [
    "##### >**Note:** Make sure you have OpenAI Gym cloned. Then run this command `pip install -e gym/[all]`."
   ]
  },
  {
   "cell_type": "code",
   "execution_count": 2,
   "metadata": {},
   "outputs": [],
   "source": [
    "import numpy as np\n",
    "import gym\n",
    "env = gym.make('CartPole-v0')\n",
    "env = gym.make('CartPole-v1')"
   ]
  },
  {
   "cell_type": "code",
   "execution_count": 3,
   "metadata": {},
   "outputs": [],
   "source": [
    "def model_input(state_size):\n",
    "    #states = tf.placeholder(tf.float32, [None, *state_size], name='states')\n",
    "    states = tf.placeholder(tf.float32, [None, state_size], name='states')\n",
    "    actions = tf.placeholder(tf.int32, [None], name='actions')\n",
    "    next_states = tf.placeholder(tf.float32, [None, state_size], name='next_states')\n",
    "    rewards = tf.placeholder(tf.float32, [None], name='rewards')\n",
    "    dones = tf.placeholder(tf.float32, [None], name='dones')\n",
    "    rates = tf.placeholder(tf.float32, [None], name='rates') # success rate\n",
    "    return states, actions, next_states, rewards, dones, rates"
   ]
  },
  {
   "cell_type": "code",
   "execution_count": 4,
   "metadata": {},
   "outputs": [],
   "source": [
    "def Act(states, action_size, hidden_size, reuse=False, alpha=0.1, training=False):\n",
    "    with tf.variable_scope('Act', reuse=reuse):\n",
    "        # First fully connected layer\n",
    "        h1 = tf.layers.dense(inputs=states, units=hidden_size)\n",
    "        bn1 = tf.layers.batch_normalization(h1, training=training)        \n",
    "        nl1 = tf.maximum(alpha * bn1, bn1)\n",
    "        \n",
    "        # Second fully connected layer\n",
    "        h2 = tf.layers.dense(inputs=nl1, units=hidden_size)\n",
    "        bn2 = tf.layers.batch_normalization(h2, training=training)        \n",
    "        nl2 = tf.maximum(alpha * bn2, bn2)\n",
    "        \n",
    "        # Output layer\n",
    "        logits = tf.layers.dense(inputs=nl2, units=action_size)        \n",
    "        return logits"
   ]
  },
  {
   "cell_type": "code",
   "execution_count": 5,
   "metadata": {},
   "outputs": [],
   "source": [
    "def Env(states, actions, state_size, action_size, hidden_size, reuse=False, alpha=0.1, training=False):\n",
    "    with tf.variable_scope('Env', reuse=reuse):\n",
    "        # First fully connected layer\n",
    "        h1 = tf.layers.dense(inputs=states, units=action_size)\n",
    "        bn1 = tf.layers.batch_normalization(h1, training=training)        \n",
    "        nl1 = tf.maximum(alpha * bn1, bn1)\n",
    "        \n",
    "        # Second fully connected layer\n",
    "        nl1_fused = tf.concat(axis=1, values=[nl1, actions])\n",
    "        h2 = tf.layers.dense(inputs=nl1_fused, units=hidden_size)\n",
    "        bn2 = tf.layers.batch_normalization(h2, training=training)        \n",
    "        nl2 = tf.maximum(alpha * bn2, bn2)\n",
    "                \n",
    "        # Output layer\n",
    "        states_logits = tf.layers.dense(inputs=nl2, units=state_size, trainable=False)\n",
    "        Qlogits = tf.layers.dense(inputs=nl2, units=1, trainable=False)\n",
    "        return states_logits, Qlogits"
   ]
  },
  {
   "cell_type": "code",
   "execution_count": 6,
   "metadata": {},
   "outputs": [],
   "source": [
    "def model_loss(state_size, action_size, hidden_size, gamma,\n",
    "               states, actions, next_states, rewards, dones, rates):\n",
    "    ################################################ a = act(s)\n",
    "    actions_logits = Act(states=states, hidden_size=hidden_size, action_size=action_size)\n",
    "    actions_labels = tf.one_hot(indices=actions, depth=action_size, dtype=actions_logits.dtype)\n",
    "    aloss = tf.reduce_mean(tf.nn.softmax_cross_entropy_with_logits_v2(logits=actions_logits, \n",
    "                                                                      labels=actions_labels))\n",
    "    ################################################ s', r = env(s, a)\n",
    "    ################################################ s', Q = env(s, a)\n",
    "    ################################################ ~s', ~Q = env(s, ~a)\n",
    "    e_next_states_logits, eQs = Env(actions=actions_labels, states=states, hidden_size=hidden_size, \n",
    "                                    action_size=action_size, state_size=state_size)\n",
    "    a_next_states_logits, aQs = Env(actions=actions_logits, states=states, hidden_size=hidden_size, \n",
    "                                    action_size=action_size, state_size=state_size, reuse=True)\n",
    "    next_states_labels = tf.nn.sigmoid(next_states)\n",
    "    eloss = tf.reduce_mean(tf.nn.sigmoid_cross_entropy_with_logits(logits=e_next_states_logits, \n",
    "                                                                   labels=next_states_labels))\n",
    "    aloss2 = tf.reduce_mean(tf.nn.sigmoid_cross_entropy_with_logits(logits=a_next_states_logits, \n",
    "                                                                    labels=next_states_labels))\n",
    "    eQs_logits = tf.reshape(eQs, shape=[-1])\n",
    "    aQs_logits = tf.reshape(aQs, shape=[-1])\n",
    "    eloss += tf.reduce_mean(tf.nn.sigmoid_cross_entropy_with_logits(logits=eQs_logits, # GAN\n",
    "                                                                    labels=rates)) # 0-1 real\n",
    "    #################################################### s'', Q' = ~env(s', ~a')\n",
    "    next_actions_logits = Act(states=next_states, hidden_size=hidden_size, action_size=action_size, reuse=True)\n",
    "    _, aQs2 = Env(actions=next_actions_logits, states=next_states, hidden_size=hidden_size, \n",
    "                  action_size=action_size, state_size=state_size, reuse=True)\n",
    "    aQs2_logits = tf.reshape(aQs2, shape=[-1]) * (1-dones)\n",
    "#     eloss += tf.reduce_mean(tf.nn.sigmoid_cross_entropy_with_logits(logits=(aQs_logits+aQs2_logits)/2, # GAN\n",
    "#                                                                     labels=tf.zeros_like(rates))) # min\n",
    "#     aloss2 += tf.reduce_mean(tf.nn.sigmoid_cross_entropy_with_logits(logits=(aQs_logits+aQs2_logits)/2, # GAN\n",
    "#                                                                      labels=tf.ones_like(rates))) # max\n",
    "    ###################################################### Q(s,a)= r + Q'(s',a') # max\n",
    "    ###################################################### ~Q(s,~a)= r # min\n",
    "    ###################################################### ~Q(s,~a)= r + Q'(s',a') # max\n",
    "    targetQs = rewards + (gamma * aQs2_logits)\n",
    "    eloss += tf.reduce_mean(tf.square(eQs_logits - targetQs)) # real\n",
    "    eloss += tf.reduce_mean((aQs_logits+aQs2_logits)/2) # min\n",
    "    aloss2 += -tf.reduce_mean((aQs_logits+aQs2_logits)/2) # max\n",
    "    return actions_logits, aloss, eloss, aloss2"
   ]
  },
  {
   "cell_type": "code",
   "execution_count": 7,
   "metadata": {},
   "outputs": [],
   "source": [
    "def model_opt(a_loss, e_loss, a_loss2, a_learning_rate, e_learning_rate):\n",
    "    # Get weights and bias to update\n",
    "    t_vars = tf.trainable_variables()\n",
    "    a_vars = [var for var in t_vars if var.name.startswith('Act')]\n",
    "    e_vars = [var for var in t_vars if var.name.startswith('Env')]\n",
    "\n",
    "    # Optimize\n",
    "    with tf.control_dependencies(tf.get_collection(tf.GraphKeys.UPDATE_OPS)): # Required for batchnorm (BN)\n",
    "        a_opt = tf.train.AdamOptimizer(a_learning_rate).minimize(a_loss, var_list=a_vars)\n",
    "        e_opt = tf.train.AdamOptimizer(e_learning_rate).minimize(e_loss, var_list=e_vars)\n",
    "        a_opt2 = tf.train.AdamOptimizer(a_learning_rate).minimize(a_loss2, var_list=a_vars)\n",
    "    return a_opt, e_opt, a_opt2"
   ]
  },
  {
   "cell_type": "code",
   "execution_count": 8,
   "metadata": {},
   "outputs": [],
   "source": [
    "class Model:\n",
    "    def __init__(self, state_size, action_size, hidden_size, a_learning_rate, e_learning_rate, gamma):\n",
    "\n",
    "        # Data of the Model: make the data available inside the framework\n",
    "        self.states, self.actions, self.next_states, self.rewards, self.dones, self.rates = model_input(\n",
    "            state_size=state_size)\n",
    "\n",
    "        # Create the Model: calculating the loss and forwad pass\n",
    "        self.actions_logits, self.a_loss, self.e_loss, self.a_loss2 = model_loss(\n",
    "            state_size=state_size, action_size=action_size, hidden_size=hidden_size, gamma=gamma, # model init\n",
    "            states=self.states, actions=self.actions, next_states=self.next_states, \n",
    "            rewards=self.rewards, dones=self.dones, rates=self.rates) # model input\n",
    "        \n",
    "        # Update the model: backward pass and backprop\n",
    "        self.a_opt, self.e_opt, self.a_opt2 = model_opt(a_loss=self.a_loss, \n",
    "                                                        e_loss=self.e_loss,\n",
    "                                                        a_loss2=self.a_loss2, \n",
    "                                                        a_learning_rate=a_learning_rate,\n",
    "                                                        e_learning_rate=e_learning_rate)"
   ]
  },
  {
   "cell_type": "code",
   "execution_count": 9,
   "metadata": {},
   "outputs": [],
   "source": [
    "from collections import deque\n",
    "class Memory():\n",
    "    def __init__(self, max_size = 1000):\n",
    "        self.buffer = deque(maxlen=max_size) # data batch\n",
    "#     def sample(self, batch_size):\n",
    "#         idx = np.random.choice(np.arange(len(self.buffer)), size=batch_size, replace=False)\n",
    "#         return [self.buffer[ii] for ii in idx]"
   ]
  },
  {
   "cell_type": "markdown",
   "metadata": {},
   "source": [
    "## Hyperparameters\n",
    "\n",
    "One of the more difficult aspects of reinforcememt learning are the large number of hyperparameters. Not only are we tuning the network, but we're tuning the simulation."
   ]
  },
  {
   "cell_type": "code",
   "execution_count": 10,
   "metadata": {},
   "outputs": [
    {
     "data": {
      "text/plain": [
       "(Box(4,), Discrete(2))"
      ]
     },
     "execution_count": 10,
     "metadata": {},
     "output_type": "execute_result"
    }
   ],
   "source": [
    "env.observation_space, env.action_space"
   ]
  },
  {
   "cell_type": "code",
   "execution_count": 11,
   "metadata": {},
   "outputs": [],
   "source": [
    "# Exploration parameters\n",
    "explore_start = 1.0            # exploration probability at start\n",
    "explore_stop = 0.01           # minimum exploration probability \n",
    "decay_rate = 0.0001            # exponential decay rate for exploration prob\n",
    "\n",
    "# Network parameters\n",
    "state_size = 4\n",
    "action_size = 2\n",
    "hidden_size = 4*2             # number of units in each Q-network hidden layer\n",
    "a_learning_rate = 1e-4         # Q-network learning rate\n",
    "e_learning_rate = 1e-4         # Q-network learning rate\n",
    "\n",
    "# Memory parameters\n",
    "memory_size = int(1e5)            # memory capacity\n",
    "batch_size = int(1e3)             # experience mini-batch size\n",
    "gamma=0.99"
   ]
  },
  {
   "cell_type": "code",
   "execution_count": 12,
   "metadata": {},
   "outputs": [],
   "source": [
    "# Reset/init the graph/session\n",
    "graph = tf.reset_default_graph()\n",
    "\n",
    "# Init the model\n",
    "model = Model(action_size=action_size, state_size=state_size, hidden_size=hidden_size, gamma=gamma,\n",
    "              a_learning_rate=a_learning_rate, e_learning_rate=e_learning_rate)\n",
    "\n",
    "# Init the memory\n",
    "memory = Memory(max_size=memory_size)"
   ]
  },
  {
   "cell_type": "code",
   "execution_count": 13,
   "metadata": {},
   "outputs": [],
   "source": [
    "state = env.reset()\n",
    "total_reward = 0\n",
    "num_step = 0\n",
    "for _ in range(memory_size):\n",
    "    action = env.action_space.sample()\n",
    "    next_state, reward, done, _ = env.step(action)\n",
    "    rate = -1\n",
    "    memory.buffer.append([state, action, next_state, reward, float(done), rate])\n",
    "    num_step += 1 # memory incremented\n",
    "    total_reward += reward\n",
    "    state = next_state\n",
    "    if done is True:\n",
    "        rate = total_reward/500\n",
    "        for idx in range(num_step): # episode length\n",
    "            if memory.buffer[-1-idx][-1] == -1:\n",
    "                memory.buffer[-1-idx][-1] = rate\n",
    "        state = env.reset()\n",
    "        total_reward = 0 # reset\n",
    "        num_step = 0 # reset"
   ]
  },
  {
   "cell_type": "markdown",
   "metadata": {},
   "source": [
    "## Training the model\n",
    "\n",
    "Below we'll train our agent. If you want to watch it train, uncomment the `env.render()` line. This is slow because it's rendering the frames slower than the network can train. But, it's cool to watch the agent get better at the game."
   ]
  },
  {
   "cell_type": "code",
   "execution_count": null,
   "metadata": {},
   "outputs": [
    {
     "name": "stdout",
     "output_type": "stream",
     "text": [
      "Episode:0 meanR:20.0000 R:20.0000 rate:0.0400 aloss:0.7123 eloss:2.9332 aloss2:0.5064 exploreP:0.9980\n",
      "Episode:1 meanR:22.5000 R:25.0000 rate:0.0500 aloss:0.7120 eloss:2.8780 aloss2:0.5286 exploreP:0.9956\n",
      "Episode:2 meanR:23.3333 R:25.0000 rate:0.0500 aloss:0.7114 eloss:2.8316 aloss2:0.5574 exploreP:0.9931\n",
      "Episode:3 meanR:21.7500 R:17.0000 rate:0.0340 aloss:0.7138 eloss:2.8245 aloss2:0.5576 exploreP:0.9914\n",
      "Episode:4 meanR:23.4000 R:30.0000 rate:0.0600 aloss:0.6983 eloss:2.7899 aloss2:0.5744 exploreP:0.9885\n",
      "Episode:5 meanR:24.6667 R:31.0000 rate:0.0620 aloss:0.6995 eloss:2.8707 aloss2:0.5216 exploreP:0.9855\n",
      "Episode:6 meanR:22.8571 R:12.0000 rate:0.0240 aloss:0.7369 eloss:2.9441 aloss2:0.4761 exploreP:0.9843\n",
      "Episode:7 meanR:22.2500 R:18.0000 rate:0.0360 aloss:0.7040 eloss:2.8204 aloss2:0.5442 exploreP:0.9825\n",
      "Episode:8 meanR:21.1111 R:12.0000 rate:0.0240 aloss:0.7023 eloss:2.6731 aloss2:0.6395 exploreP:0.9814\n",
      "Episode:9 meanR:20.4000 R:14.0000 rate:0.0280 aloss:0.6956 eloss:2.7407 aloss2:0.5906 exploreP:0.9800\n",
      "Episode:10 meanR:22.5455 R:44.0000 rate:0.0880 aloss:0.7059 eloss:2.7312 aloss2:0.5951 exploreP:0.9757\n",
      "Episode:11 meanR:23.2500 R:31.0000 rate:0.0620 aloss:0.6988 eloss:2.6522 aloss2:0.6439 exploreP:0.9728\n",
      "Episode:12 meanR:23.0769 R:21.0000 rate:0.0420 aloss:0.6873 eloss:2.6663 aloss2:0.6331 exploreP:0.9707\n",
      "Episode:13 meanR:25.0000 R:50.0000 rate:0.1000 aloss:0.7025 eloss:2.7170 aloss2:0.6044 exploreP:0.9659\n",
      "Episode:14 meanR:24.8667 R:23.0000 rate:0.0460 aloss:0.7081 eloss:2.7353 aloss2:0.5935 exploreP:0.9638\n",
      "Episode:15 meanR:24.0000 R:11.0000 rate:0.0220 aloss:0.6806 eloss:2.7344 aloss2:0.5797 exploreP:0.9627\n",
      "Episode:16 meanR:24.0588 R:25.0000 rate:0.0500 aloss:0.6845 eloss:2.7866 aloss2:0.5502 exploreP:0.9603\n",
      "Episode:17 meanR:25.1111 R:43.0000 rate:0.0860 aloss:0.6985 eloss:2.7816 aloss2:0.5689 exploreP:0.9562\n",
      "Episode:18 meanR:25.2105 R:27.0000 rate:0.0540 aloss:0.6832 eloss:2.8285 aloss2:0.5527 exploreP:0.9537\n",
      "Episode:19 meanR:24.6000 R:13.0000 rate:0.0260 aloss:0.6718 eloss:2.8699 aloss2:0.5145 exploreP:0.9525\n",
      "Episode:20 meanR:24.1905 R:16.0000 rate:0.0320 aloss:0.6981 eloss:2.9158 aloss2:0.4910 exploreP:0.9510\n",
      "Episode:21 meanR:24.4545 R:30.0000 rate:0.0600 aloss:0.6726 eloss:2.9025 aloss2:0.5125 exploreP:0.9481\n",
      "Episode:22 meanR:24.0870 R:16.0000 rate:0.0320 aloss:0.6719 eloss:2.9572 aloss2:0.4747 exploreP:0.9466\n",
      "Episode:23 meanR:24.5000 R:34.0000 rate:0.0680 aloss:0.6862 eloss:2.9280 aloss2:0.4842 exploreP:0.9435\n",
      "Episode:24 meanR:25.4400 R:48.0000 rate:0.0960 aloss:0.6774 eloss:2.9088 aloss2:0.4835 exploreP:0.9390\n",
      "Episode:25 meanR:25.7692 R:34.0000 rate:0.0680 aloss:0.6781 eloss:2.9526 aloss2:0.4570 exploreP:0.9358\n",
      "Episode:26 meanR:25.5185 R:19.0000 rate:0.0380 aloss:0.6854 eloss:2.9404 aloss2:0.4611 exploreP:0.9341\n",
      "Episode:27 meanR:25.2857 R:19.0000 rate:0.0380 aloss:0.6819 eloss:3.0184 aloss2:0.4367 exploreP:0.9323\n",
      "Episode:28 meanR:25.0345 R:18.0000 rate:0.0360 aloss:0.6961 eloss:2.9040 aloss2:0.4552 exploreP:0.9307\n",
      "Episode:29 meanR:24.5000 R:9.0000 rate:0.0180 aloss:0.6965 eloss:2.9230 aloss2:0.4249 exploreP:0.9298\n",
      "Episode:30 meanR:24.6774 R:30.0000 rate:0.0600 aloss:0.6875 eloss:2.9238 aloss2:0.4528 exploreP:0.9271\n",
      "Episode:31 meanR:26.5938 R:86.0000 rate:0.1720 aloss:0.6849 eloss:2.9257 aloss2:0.4390 exploreP:0.9192\n",
      "Episode:32 meanR:26.1212 R:11.0000 rate:0.0220 aloss:0.6701 eloss:2.8990 aloss2:0.4257 exploreP:0.9182\n",
      "Episode:33 meanR:25.7941 R:15.0000 rate:0.0300 aloss:0.6791 eloss:2.9151 aloss2:0.4231 exploreP:0.9169\n",
      "Episode:34 meanR:25.8857 R:29.0000 rate:0.0580 aloss:0.6857 eloss:2.9746 aloss2:0.4053 exploreP:0.9142\n",
      "Episode:35 meanR:25.6111 R:16.0000 rate:0.0320 aloss:0.6827 eloss:2.9078 aloss2:0.4029 exploreP:0.9128\n",
      "Episode:36 meanR:25.2703 R:13.0000 rate:0.0260 aloss:0.6901 eloss:2.9758 aloss2:0.4015 exploreP:0.9116\n",
      "Episode:37 meanR:25.1053 R:19.0000 rate:0.0380 aloss:0.6908 eloss:2.9216 aloss2:0.4084 exploreP:0.9099\n",
      "Episode:38 meanR:24.8974 R:17.0000 rate:0.0340 aloss:0.6763 eloss:2.9450 aloss2:0.4092 exploreP:0.9084\n",
      "Episode:39 meanR:25.2750 R:40.0000 rate:0.0800 aloss:0.6871 eloss:2.9004 aloss2:0.4149 exploreP:0.9048\n",
      "Episode:40 meanR:24.8780 R:9.0000 rate:0.0180 aloss:0.6820 eloss:2.9128 aloss2:0.4090 exploreP:0.9040\n",
      "Episode:41 meanR:24.6667 R:16.0000 rate:0.0320 aloss:0.6839 eloss:2.9096 aloss2:0.3996 exploreP:0.9026\n",
      "Episode:42 meanR:24.4651 R:16.0000 rate:0.0320 aloss:0.7072 eloss:2.9457 aloss2:0.3915 exploreP:0.9011\n",
      "Episode:43 meanR:24.3182 R:18.0000 rate:0.0360 aloss:0.6969 eloss:2.8904 aloss2:0.3870 exploreP:0.8995\n",
      "Episode:44 meanR:24.9333 R:52.0000 rate:0.1040 aloss:0.6925 eloss:2.9242 aloss2:0.3858 exploreP:0.8949\n",
      "Episode:45 meanR:24.7609 R:17.0000 rate:0.0340 aloss:0.6955 eloss:2.9412 aloss2:0.3905 exploreP:0.8934\n",
      "Episode:46 meanR:24.4894 R:12.0000 rate:0.0240 aloss:0.6889 eloss:2.8506 aloss2:0.4032 exploreP:0.8924\n",
      "Episode:47 meanR:24.3125 R:16.0000 rate:0.0320 aloss:0.7094 eloss:3.0402 aloss2:0.3586 exploreP:0.8910\n",
      "Episode:48 meanR:24.4490 R:31.0000 rate:0.0620 aloss:0.7248 eloss:3.0065 aloss2:0.3534 exploreP:0.8882\n",
      "Episode:49 meanR:24.9000 R:47.0000 rate:0.0940 aloss:0.6973 eloss:2.9211 aloss2:0.3808 exploreP:0.8841\n",
      "Episode:50 meanR:25.0588 R:33.0000 rate:0.0660 aloss:0.7107 eloss:2.9256 aloss2:0.3650 exploreP:0.8812\n",
      "Episode:51 meanR:25.1923 R:32.0000 rate:0.0640 aloss:0.6990 eloss:2.9365 aloss2:0.3730 exploreP:0.8784\n",
      "Episode:52 meanR:25.4717 R:40.0000 rate:0.0800 aloss:0.7030 eloss:2.9630 aloss2:0.3614 exploreP:0.8750\n",
      "Episode:53 meanR:25.5185 R:28.0000 rate:0.0560 aloss:0.7008 eloss:2.9599 aloss2:0.3510 exploreP:0.8726\n",
      "Episode:54 meanR:25.3091 R:14.0000 rate:0.0280 aloss:0.6960 eloss:2.9295 aloss2:0.3643 exploreP:0.8714\n",
      "Episode:55 meanR:25.4286 R:32.0000 rate:0.0640 aloss:0.7109 eloss:3.0110 aloss2:0.3292 exploreP:0.8686\n",
      "Episode:56 meanR:25.2982 R:18.0000 rate:0.0360 aloss:0.6986 eloss:3.0123 aloss2:0.3333 exploreP:0.8671\n",
      "Episode:57 meanR:25.3103 R:26.0000 rate:0.0520 aloss:0.6854 eloss:2.8800 aloss2:0.3702 exploreP:0.8648\n",
      "Episode:58 meanR:25.1864 R:18.0000 rate:0.0360 aloss:0.6824 eloss:2.8291 aloss2:0.3935 exploreP:0.8633\n",
      "Episode:59 meanR:25.0333 R:16.0000 rate:0.0320 aloss:0.6877 eloss:2.8962 aloss2:0.3647 exploreP:0.8619\n",
      "Episode:60 meanR:25.1967 R:35.0000 rate:0.0700 aloss:0.7040 eloss:2.8954 aloss2:0.3726 exploreP:0.8590\n",
      "Episode:61 meanR:25.2258 R:27.0000 rate:0.0540 aloss:0.7179 eloss:2.9535 aloss2:0.3509 exploreP:0.8567\n",
      "Episode:62 meanR:25.2063 R:24.0000 rate:0.0480 aloss:0.6843 eloss:2.8597 aloss2:0.3807 exploreP:0.8546\n",
      "Episode:63 meanR:25.2500 R:28.0000 rate:0.0560 aloss:0.6953 eloss:2.8542 aloss2:0.3810 exploreP:0.8523\n",
      "Episode:64 meanR:25.1692 R:20.0000 rate:0.0400 aloss:0.7169 eloss:2.9018 aloss2:0.3604 exploreP:0.8506\n",
      "Episode:65 meanR:25.1970 R:27.0000 rate:0.0540 aloss:0.7442 eloss:3.0532 aloss2:0.3058 exploreP:0.8483\n",
      "Episode:66 meanR:24.9403 R:8.0000 rate:0.0160 aloss:0.6637 eloss:2.8499 aloss2:0.3895 exploreP:0.8477\n",
      "Episode:67 meanR:24.9706 R:27.0000 rate:0.0540 aloss:0.7037 eloss:2.9621 aloss2:0.3355 exploreP:0.8454\n",
      "Episode:68 meanR:24.8986 R:20.0000 rate:0.0400 aloss:0.7124 eloss:2.9293 aloss2:0.3481 exploreP:0.8437\n",
      "Episode:69 meanR:25.0286 R:34.0000 rate:0.0680 aloss:0.7116 eloss:2.9014 aloss2:0.3631 exploreP:0.8409\n",
      "Episode:70 meanR:25.3099 R:45.0000 rate:0.0900 aloss:0.6903 eloss:2.8770 aloss2:0.3624 exploreP:0.8372\n",
      "Episode:71 meanR:25.2222 R:19.0000 rate:0.0380 aloss:0.6929 eloss:2.9863 aloss2:0.3267 exploreP:0.8356\n",
      "Episode:72 meanR:25.5205 R:47.0000 rate:0.0940 aloss:0.7038 eloss:2.9412 aloss2:0.3510 exploreP:0.8317\n",
      "Episode:73 meanR:26.1486 R:72.0000 rate:0.1440 aloss:0.7179 eloss:2.9635 aloss2:0.3439 exploreP:0.8258\n",
      "Episode:74 meanR:26.2800 R:36.0000 rate:0.0720 aloss:0.6872 eloss:2.8535 aloss2:0.3791 exploreP:0.8229\n",
      "Episode:75 meanR:26.5526 R:47.0000 rate:0.0940 aloss:0.7127 eloss:2.9172 aloss2:0.3562 exploreP:0.8191\n",
      "Episode:76 meanR:26.3506 R:11.0000 rate:0.0220 aloss:0.6778 eloss:2.8874 aloss2:0.3628 exploreP:0.8182\n",
      "Episode:77 meanR:26.3077 R:23.0000 rate:0.0460 aloss:0.7099 eloss:2.9769 aloss2:0.3420 exploreP:0.8163\n",
      "Episode:78 meanR:26.1519 R:14.0000 rate:0.0280 aloss:0.6938 eloss:2.9559 aloss2:0.3376 exploreP:0.8152\n",
      "Episode:79 meanR:26.1500 R:26.0000 rate:0.0520 aloss:0.7123 eloss:3.0303 aloss2:0.3214 exploreP:0.8131\n"
     ]
    },
    {
     "name": "stdout",
     "output_type": "stream",
     "text": [
      "Episode:80 meanR:26.0988 R:22.0000 rate:0.0440 aloss:0.6877 eloss:2.9674 aloss2:0.3384 exploreP:0.8114\n",
      "Episode:81 meanR:25.9878 R:17.0000 rate:0.0340 aloss:0.7779 eloss:3.1171 aloss2:0.2844 exploreP:0.8100\n",
      "Episode:82 meanR:25.9398 R:22.0000 rate:0.0440 aloss:0.6877 eloss:2.9562 aloss2:0.3460 exploreP:0.8082\n",
      "Episode:83 meanR:25.8929 R:22.0000 rate:0.0440 aloss:0.6909 eloss:2.8357 aloss2:0.3869 exploreP:0.8065\n",
      "Episode:84 meanR:25.8824 R:25.0000 rate:0.0500 aloss:0.7301 eloss:3.0426 aloss2:0.3186 exploreP:0.8045\n",
      "Episode:85 meanR:25.7907 R:18.0000 rate:0.0360 aloss:0.7087 eloss:2.9576 aloss2:0.3457 exploreP:0.8031\n",
      "Episode:86 meanR:26.8046 R:114.0000 rate:0.2280 aloss:0.6979 eloss:2.9715 aloss2:0.3393 exploreP:0.7941\n",
      "Episode:87 meanR:26.7955 R:26.0000 rate:0.0520 aloss:0.6909 eloss:3.0634 aloss2:0.3031 exploreP:0.7920\n",
      "Episode:88 meanR:26.7191 R:20.0000 rate:0.0400 aloss:0.6958 eloss:2.9120 aloss2:0.3529 exploreP:0.7905\n",
      "Episode:89 meanR:26.5444 R:11.0000 rate:0.0220 aloss:0.6757 eloss:2.8382 aloss2:0.3793 exploreP:0.7896\n",
      "Episode:90 meanR:26.5604 R:28.0000 rate:0.0560 aloss:0.6933 eloss:2.9726 aloss2:0.3363 exploreP:0.7874\n",
      "Episode:91 meanR:26.6848 R:38.0000 rate:0.0760 aloss:0.6907 eloss:2.9310 aloss2:0.3391 exploreP:0.7845\n",
      "Episode:92 meanR:26.9355 R:50.0000 rate:0.1000 aloss:0.6918 eloss:2.9012 aloss2:0.3565 exploreP:0.7806\n",
      "Episode:93 meanR:26.8830 R:22.0000 rate:0.0440 aloss:0.6964 eloss:2.8991 aloss2:0.3565 exploreP:0.7789\n",
      "Episode:94 meanR:27.1263 R:50.0000 rate:0.1000 aloss:0.6944 eloss:2.9445 aloss2:0.3420 exploreP:0.7751\n",
      "Episode:95 meanR:27.4375 R:57.0000 rate:0.1140 aloss:0.7002 eloss:2.9080 aloss2:0.3607 exploreP:0.7708\n",
      "Episode:96 meanR:27.3093 R:15.0000 rate:0.0300 aloss:0.6989 eloss:2.9730 aloss2:0.3436 exploreP:0.7696\n",
      "Episode:97 meanR:27.1531 R:12.0000 rate:0.0240 aloss:0.7445 eloss:3.0971 aloss2:0.3071 exploreP:0.7687\n",
      "Episode:98 meanR:27.2525 R:37.0000 rate:0.0740 aloss:0.6936 eloss:2.9712 aloss2:0.3293 exploreP:0.7659\n",
      "Episode:99 meanR:27.1000 R:12.0000 rate:0.0240 aloss:0.6779 eloss:2.9177 aloss2:0.3518 exploreP:0.7650\n",
      "Episode:100 meanR:27.3500 R:45.0000 rate:0.0900 aloss:0.6857 eloss:2.8522 aloss2:0.3785 exploreP:0.7616\n",
      "Episode:101 meanR:27.2600 R:16.0000 rate:0.0320 aloss:0.6850 eloss:2.8383 aloss2:0.3847 exploreP:0.7604\n",
      "Episode:102 meanR:27.3500 R:34.0000 rate:0.0680 aloss:0.6852 eloss:2.8895 aloss2:0.3682 exploreP:0.7579\n",
      "Episode:103 meanR:27.6300 R:45.0000 rate:0.0900 aloss:0.6822 eloss:2.9161 aloss2:0.3560 exploreP:0.7545\n",
      "Episode:104 meanR:27.5000 R:17.0000 rate:0.0340 aloss:0.6895 eloss:2.8215 aloss2:0.3937 exploreP:0.7532\n",
      "Episode:105 meanR:27.3800 R:19.0000 rate:0.0380 aloss:0.6806 eloss:2.8075 aloss2:0.4036 exploreP:0.7518\n",
      "Episode:106 meanR:28.1200 R:86.0000 rate:0.1720 aloss:0.6909 eloss:2.9226 aloss2:0.3737 exploreP:0.7455\n",
      "Episode:107 meanR:28.1800 R:24.0000 rate:0.0480 aloss:0.7005 eloss:2.9733 aloss2:0.3578 exploreP:0.7437\n",
      "Episode:108 meanR:28.3500 R:29.0000 rate:0.0580 aloss:0.6862 eloss:2.8817 aloss2:0.3819 exploreP:0.7416\n",
      "Episode:109 meanR:28.9500 R:74.0000 rate:0.1480 aloss:0.6952 eloss:2.9118 aloss2:0.3807 exploreP:0.7362\n",
      "Episode:110 meanR:28.8600 R:35.0000 rate:0.0700 aloss:0.6848 eloss:2.9174 aloss2:0.3813 exploreP:0.7336\n",
      "Episode:111 meanR:28.8600 R:31.0000 rate:0.0620 aloss:0.6865 eloss:2.8643 aloss2:0.4038 exploreP:0.7314\n",
      "Episode:112 meanR:28.7400 R:9.0000 rate:0.0180 aloss:0.6872 eloss:2.8854 aloss2:0.3979 exploreP:0.7308\n",
      "Episode:113 meanR:28.4600 R:22.0000 rate:0.0440 aloss:0.6822 eloss:2.8424 aloss2:0.4052 exploreP:0.7292\n",
      "Episode:114 meanR:28.5900 R:36.0000 rate:0.0720 aloss:0.6957 eloss:2.9683 aloss2:0.3779 exploreP:0.7266\n",
      "Episode:115 meanR:28.9100 R:43.0000 rate:0.0860 aloss:0.7089 eloss:2.9616 aloss2:0.3889 exploreP:0.7235\n",
      "Episode:116 meanR:29.9200 R:126.0000 rate:0.2520 aloss:0.6845 eloss:2.9221 aloss2:0.3996 exploreP:0.7146\n",
      "Episode:117 meanR:29.7100 R:22.0000 rate:0.0440 aloss:0.6810 eloss:2.9094 aloss2:0.4058 exploreP:0.7130\n",
      "Episode:118 meanR:30.1200 R:68.0000 rate:0.1360 aloss:0.6788 eloss:2.9134 aloss2:0.4146 exploreP:0.7083\n",
      "Episode:119 meanR:30.1700 R:18.0000 rate:0.0360 aloss:0.6749 eloss:2.9106 aloss2:0.4152 exploreP:0.7070\n",
      "Episode:120 meanR:30.5700 R:56.0000 rate:0.1120 aloss:0.6825 eloss:2.8329 aloss2:0.4489 exploreP:0.7031\n",
      "Episode:121 meanR:31.0200 R:75.0000 rate:0.1500 aloss:0.6758 eloss:2.8705 aloss2:0.4476 exploreP:0.6979\n",
      "Episode:122 meanR:31.4600 R:60.0000 rate:0.1200 aloss:0.6855 eloss:2.8898 aloss2:0.4577 exploreP:0.6938\n",
      "Episode:123 meanR:31.5900 R:47.0000 rate:0.0940 aloss:0.6889 eloss:2.9017 aloss2:0.4546 exploreP:0.6906\n",
      "Episode:124 meanR:31.8900 R:78.0000 rate:0.1560 aloss:0.6715 eloss:2.8230 aloss2:0.4764 exploreP:0.6853\n",
      "Episode:125 meanR:32.0100 R:46.0000 rate:0.0920 aloss:0.6818 eloss:2.7787 aloss2:0.5030 exploreP:0.6822\n",
      "Episode:126 meanR:32.1800 R:36.0000 rate:0.0720 aloss:0.6753 eloss:2.7946 aloss2:0.4991 exploreP:0.6798\n",
      "Episode:127 meanR:32.1700 R:18.0000 rate:0.0360 aloss:0.6826 eloss:2.7392 aloss2:0.5197 exploreP:0.6786\n",
      "Episode:128 meanR:32.5400 R:55.0000 rate:0.1100 aloss:0.6784 eloss:2.7288 aloss2:0.5311 exploreP:0.6749\n",
      "Episode:129 meanR:32.7500 R:30.0000 rate:0.0600 aloss:0.6809 eloss:2.7980 aloss2:0.5223 exploreP:0.6730\n",
      "Episode:130 meanR:32.7000 R:25.0000 rate:0.0500 aloss:0.6636 eloss:2.6959 aloss2:0.5498 exploreP:0.6713\n",
      "Episode:131 meanR:32.5600 R:72.0000 rate:0.1440 aloss:0.6707 eloss:2.7038 aloss2:0.5542 exploreP:0.6666\n",
      "Episode:132 meanR:32.6500 R:20.0000 rate:0.0400 aloss:0.6846 eloss:2.6813 aloss2:0.5581 exploreP:0.6652\n",
      "Episode:133 meanR:32.9300 R:43.0000 rate:0.0860 aloss:0.6800 eloss:2.6556 aloss2:0.5719 exploreP:0.6624\n",
      "Episode:134 meanR:33.2200 R:58.0000 rate:0.1160 aloss:0.6783 eloss:2.6133 aloss2:0.5905 exploreP:0.6587\n",
      "Episode:135 meanR:33.6200 R:56.0000 rate:0.1120 aloss:0.6795 eloss:2.5932 aloss2:0.6130 exploreP:0.6550\n",
      "Episode:136 meanR:33.6600 R:17.0000 rate:0.0340 aloss:0.6830 eloss:2.5229 aloss2:0.6371 exploreP:0.6539\n",
      "Episode:137 meanR:33.8800 R:41.0000 rate:0.0820 aloss:0.6843 eloss:2.5655 aloss2:0.6224 exploreP:0.6513\n",
      "Episode:138 meanR:34.0100 R:30.0000 rate:0.0600 aloss:0.6794 eloss:2.5213 aloss2:0.6323 exploreP:0.6494\n",
      "Episode:139 meanR:33.8400 R:23.0000 rate:0.0460 aloss:0.6891 eloss:2.5523 aloss2:0.6233 exploreP:0.6479\n",
      "Episode:140 meanR:34.0400 R:29.0000 rate:0.0580 aloss:0.6851 eloss:2.5181 aloss2:0.6499 exploreP:0.6461\n",
      "Episode:141 meanR:34.0700 R:19.0000 rate:0.0380 aloss:0.6823 eloss:2.4675 aloss2:0.6481 exploreP:0.6449\n",
      "Episode:142 meanR:34.3700 R:46.0000 rate:0.0920 aloss:0.6884 eloss:2.4189 aloss2:0.6675 exploreP:0.6419\n",
      "Episode:143 meanR:34.4000 R:21.0000 rate:0.0420 aloss:0.6855 eloss:2.4264 aloss2:0.6620 exploreP:0.6406\n",
      "Episode:144 meanR:34.0400 R:16.0000 rate:0.0320 aloss:0.6865 eloss:2.3854 aloss2:0.6813 exploreP:0.6396\n",
      "Episode:145 meanR:34.2500 R:38.0000 rate:0.0760 aloss:0.6839 eloss:2.3838 aloss2:0.6903 exploreP:0.6372\n",
      "Episode:146 meanR:34.3100 R:18.0000 rate:0.0360 aloss:0.6846 eloss:2.3715 aloss2:0.6846 exploreP:0.6361\n",
      "Episode:147 meanR:34.3500 R:20.0000 rate:0.0400 aloss:0.6830 eloss:2.3570 aloss2:0.6859 exploreP:0.6348\n",
      "Episode:148 meanR:34.4400 R:40.0000 rate:0.0800 aloss:0.6835 eloss:2.3477 aloss2:0.6959 exploreP:0.6324\n",
      "Episode:149 meanR:34.1400 R:17.0000 rate:0.0340 aloss:0.6832 eloss:2.3438 aloss2:0.7175 exploreP:0.6313\n",
      "Episode:150 meanR:33.9900 R:18.0000 rate:0.0360 aloss:0.6903 eloss:2.3219 aloss2:0.7058 exploreP:0.6302\n",
      "Episode:151 meanR:33.8600 R:19.0000 rate:0.0380 aloss:0.6850 eloss:2.3104 aloss2:0.7104 exploreP:0.6290\n",
      "Episode:152 meanR:33.5600 R:10.0000 rate:0.0200 aloss:0.6941 eloss:2.3990 aloss2:0.6985 exploreP:0.6284\n",
      "Episode:153 meanR:33.6100 R:33.0000 rate:0.0660 aloss:0.6830 eloss:2.2713 aloss2:0.7325 exploreP:0.6263\n",
      "Episode:154 meanR:33.5900 R:12.0000 rate:0.0240 aloss:0.6843 eloss:2.2752 aloss2:0.7609 exploreP:0.6256\n",
      "Episode:155 meanR:33.4500 R:18.0000 rate:0.0360 aloss:0.6899 eloss:2.2743 aloss2:0.7276 exploreP:0.6245\n",
      "Episode:156 meanR:33.4500 R:18.0000 rate:0.0360 aloss:0.6872 eloss:2.2289 aloss2:0.7406 exploreP:0.6234\n",
      "Episode:157 meanR:33.3700 R:18.0000 rate:0.0360 aloss:0.6773 eloss:2.2469 aloss2:0.7386 exploreP:0.6223\n",
      "Episode:158 meanR:33.3200 R:13.0000 rate:0.0260 aloss:0.7028 eloss:2.4082 aloss2:0.6935 exploreP:0.6215\n"
     ]
    },
    {
     "name": "stdout",
     "output_type": "stream",
     "text": [
      "Episode:159 meanR:33.3500 R:19.0000 rate:0.0380 aloss:0.6916 eloss:2.2576 aloss2:0.7337 exploreP:0.6203\n",
      "Episode:160 meanR:33.2600 R:26.0000 rate:0.0520 aloss:0.6823 eloss:2.2157 aloss2:0.7463 exploreP:0.6187\n",
      "Episode:161 meanR:33.2500 R:26.0000 rate:0.0520 aloss:0.6841 eloss:2.1978 aloss2:0.7555 exploreP:0.6172\n",
      "Episode:162 meanR:33.2300 R:22.0000 rate:0.0440 aloss:0.6880 eloss:2.2033 aloss2:0.7511 exploreP:0.6158\n",
      "Episode:163 meanR:33.1700 R:22.0000 rate:0.0440 aloss:0.6863 eloss:2.1714 aloss2:0.7546 exploreP:0.6145\n",
      "Episode:164 meanR:33.1200 R:15.0000 rate:0.0300 aloss:0.6902 eloss:2.2036 aloss2:0.7528 exploreP:0.6136\n",
      "Episode:165 meanR:33.1600 R:31.0000 rate:0.0620 aloss:0.6858 eloss:2.1678 aloss2:0.7697 exploreP:0.6117\n",
      "Episode:166 meanR:33.2800 R:20.0000 rate:0.0400 aloss:0.6966 eloss:2.1888 aloss2:0.7682 exploreP:0.6105\n",
      "Episode:167 meanR:33.1900 R:18.0000 rate:0.0360 aloss:0.6902 eloss:2.1801 aloss2:0.7655 exploreP:0.6094\n",
      "Episode:168 meanR:33.2100 R:22.0000 rate:0.0440 aloss:0.6768 eloss:2.1614 aloss2:0.7682 exploreP:0.6081\n",
      "Episode:169 meanR:33.1000 R:23.0000 rate:0.0460 aloss:0.6878 eloss:2.1617 aloss2:0.7700 exploreP:0.6068\n",
      "Episode:170 meanR:32.8700 R:22.0000 rate:0.0440 aloss:0.6876 eloss:2.1553 aloss2:0.7803 exploreP:0.6054\n",
      "Episode:171 meanR:32.8100 R:13.0000 rate:0.0260 aloss:0.6813 eloss:2.1289 aloss2:0.7825 exploreP:0.6047\n",
      "Episode:172 meanR:32.6000 R:26.0000 rate:0.0520 aloss:0.6835 eloss:2.1306 aloss2:0.7900 exploreP:0.6031\n",
      "Episode:173 meanR:32.0400 R:16.0000 rate:0.0320 aloss:0.6912 eloss:2.1215 aloss2:0.7841 exploreP:0.6022\n",
      "Episode:174 meanR:31.8000 R:12.0000 rate:0.0240 aloss:0.6805 eloss:2.1503 aloss2:0.7808 exploreP:0.6015\n",
      "Episode:175 meanR:31.5000 R:17.0000 rate:0.0340 aloss:0.6794 eloss:2.1175 aloss2:0.7941 exploreP:0.6005\n",
      "Episode:176 meanR:31.5100 R:12.0000 rate:0.0240 aloss:0.6899 eloss:2.0941 aloss2:0.8057 exploreP:0.5998\n",
      "Episode:177 meanR:31.4200 R:14.0000 rate:0.0280 aloss:0.6848 eloss:2.1154 aloss2:0.7966 exploreP:0.5989\n",
      "Episode:178 meanR:31.4700 R:19.0000 rate:0.0380 aloss:0.6839 eloss:2.0937 aloss2:0.7894 exploreP:0.5978\n",
      "Episode:179 meanR:31.3400 R:13.0000 rate:0.0260 aloss:0.6878 eloss:2.1101 aloss2:0.7901 exploreP:0.5970\n",
      "Episode:180 meanR:31.6500 R:53.0000 rate:0.1060 aloss:0.6854 eloss:2.0893 aloss2:0.8062 exploreP:0.5939\n",
      "Episode:181 meanR:31.8100 R:33.0000 rate:0.0660 aloss:0.6856 eloss:2.0702 aloss2:0.8073 exploreP:0.5920\n",
      "Episode:182 meanR:31.8600 R:27.0000 rate:0.0540 aloss:0.6865 eloss:2.0673 aloss2:0.8240 exploreP:0.5905\n",
      "Episode:183 meanR:31.8800 R:24.0000 rate:0.0480 aloss:0.6905 eloss:2.0592 aloss2:0.8130 exploreP:0.5891\n",
      "Episode:184 meanR:32.1800 R:55.0000 rate:0.1100 aloss:0.6856 eloss:2.0468 aloss2:0.8243 exploreP:0.5859\n",
      "Episode:185 meanR:32.2400 R:24.0000 rate:0.0480 aloss:0.6877 eloss:2.0166 aloss2:0.8392 exploreP:0.5845\n",
      "Episode:186 meanR:31.2600 R:16.0000 rate:0.0320 aloss:0.6806 eloss:2.0320 aloss2:0.8299 exploreP:0.5836\n",
      "Episode:187 meanR:31.2700 R:27.0000 rate:0.0540 aloss:0.6816 eloss:2.0408 aloss2:0.8282 exploreP:0.5820\n",
      "Episode:188 meanR:32.0100 R:94.0000 rate:0.1880 aloss:0.6824 eloss:2.0291 aloss2:0.8333 exploreP:0.5767\n",
      "Episode:189 meanR:32.0700 R:17.0000 rate:0.0340 aloss:0.6796 eloss:1.9982 aloss2:0.8523 exploreP:0.5757\n",
      "Episode:190 meanR:32.0700 R:28.0000 rate:0.0560 aloss:0.6808 eloss:2.0072 aloss2:0.8506 exploreP:0.5741\n",
      "Episode:191 meanR:31.9600 R:27.0000 rate:0.0540 aloss:0.6797 eloss:2.0085 aloss2:0.8541 exploreP:0.5726\n",
      "Episode:192 meanR:31.6100 R:15.0000 rate:0.0300 aloss:0.6808 eloss:2.0055 aloss2:0.8520 exploreP:0.5718\n",
      "Episode:193 meanR:32.0600 R:67.0000 rate:0.1340 aloss:0.6834 eloss:1.9972 aloss2:0.8588 exploreP:0.5680\n",
      "Episode:194 meanR:32.3100 R:75.0000 rate:0.1500 aloss:0.6904 eloss:1.9850 aloss2:0.8689 exploreP:0.5639\n",
      "Episode:195 meanR:32.5800 R:84.0000 rate:0.1680 aloss:0.6833 eloss:1.9869 aloss2:0.8664 exploreP:0.5592\n",
      "Episode:196 meanR:32.8500 R:42.0000 rate:0.0840 aloss:0.6852 eloss:1.9769 aloss2:0.8748 exploreP:0.5569\n",
      "Episode:197 meanR:32.9600 R:23.0000 rate:0.0460 aloss:0.6805 eloss:1.9635 aloss2:0.8931 exploreP:0.5557\n",
      "Episode:198 meanR:33.2300 R:64.0000 rate:0.1280 aloss:0.6811 eloss:1.9741 aloss2:0.8840 exploreP:0.5522\n",
      "Episode:199 meanR:33.6600 R:55.0000 rate:0.1100 aloss:0.6786 eloss:1.9709 aloss2:0.8924 exploreP:0.5492\n",
      "Episode:200 meanR:33.8900 R:68.0000 rate:0.1360 aloss:0.6818 eloss:1.9807 aloss2:0.8937 exploreP:0.5456\n",
      "Episode:201 meanR:34.3200 R:59.0000 rate:0.1180 aloss:0.6798 eloss:1.9681 aloss2:0.9037 exploreP:0.5424\n",
      "Episode:202 meanR:34.3500 R:37.0000 rate:0.0740 aloss:0.6806 eloss:1.9683 aloss2:0.9099 exploreP:0.5404\n",
      "Episode:203 meanR:34.1700 R:27.0000 rate:0.0540 aloss:0.6798 eloss:1.9468 aloss2:0.9443 exploreP:0.5390\n",
      "Episode:204 meanR:34.8800 R:88.0000 rate:0.1760 aloss:0.6804 eloss:1.9594 aloss2:0.9192 exploreP:0.5344\n",
      "Episode:205 meanR:35.7800 R:109.0000 rate:0.2180 aloss:0.6806 eloss:1.9435 aloss2:0.9247 exploreP:0.5287\n",
      "Episode:206 meanR:37.5400 R:262.0000 rate:0.5240 aloss:0.6754 eloss:1.9483 aloss2:0.9237 exploreP:0.5153\n",
      "Episode:207 meanR:38.6800 R:138.0000 rate:0.2760 aloss:0.6758 eloss:1.9609 aloss2:0.9047 exploreP:0.5084\n",
      "Episode:208 meanR:38.6600 R:27.0000 rate:0.0540 aloss:0.6771 eloss:1.9440 aloss2:0.9019 exploreP:0.5070\n",
      "Episode:209 meanR:38.6700 R:75.0000 rate:0.1500 aloss:0.6774 eloss:1.9487 aloss2:0.8879 exploreP:0.5033\n",
      "Episode:210 meanR:39.7300 R:141.0000 rate:0.2820 aloss:0.6780 eloss:1.9506 aloss2:0.8762 exploreP:0.4964\n",
      "Episode:211 meanR:39.6400 R:22.0000 rate:0.0440 aloss:0.6833 eloss:1.9937 aloss2:0.8598 exploreP:0.4953\n",
      "Episode:212 meanR:41.0800 R:153.0000 rate:0.3060 aloss:0.6847 eloss:1.9936 aloss2:0.8626 exploreP:0.4879\n",
      "Episode:213 meanR:41.7800 R:92.0000 rate:0.1840 aloss:0.6911 eloss:2.0099 aloss2:0.8747 exploreP:0.4836\n",
      "Episode:214 meanR:42.0400 R:62.0000 rate:0.1240 aloss:0.6866 eloss:2.0133 aloss2:0.8899 exploreP:0.4806\n",
      "Episode:215 meanR:43.8600 R:225.0000 rate:0.4500 aloss:0.6856 eloss:2.0402 aloss2:0.8899 exploreP:0.4702\n",
      "Episode:216 meanR:43.0900 R:49.0000 rate:0.0980 aloss:0.6866 eloss:2.0726 aloss2:0.8819 exploreP:0.4679\n",
      "Episode:217 meanR:44.1600 R:129.0000 rate:0.2580 aloss:0.6868 eloss:2.0798 aloss2:0.8773 exploreP:0.4621\n",
      "Episode:218 meanR:43.8400 R:36.0000 rate:0.0720 aloss:0.6852 eloss:2.0832 aloss2:0.8663 exploreP:0.4604\n",
      "Episode:219 meanR:43.9400 R:28.0000 rate:0.0560 aloss:0.6860 eloss:2.1084 aloss2:0.8652 exploreP:0.4592\n",
      "Episode:220 meanR:45.2800 R:190.0000 rate:0.3800 aloss:0.6879 eloss:2.1633 aloss2:0.8679 exploreP:0.4507\n",
      "Episode:221 meanR:46.2900 R:176.0000 rate:0.3520 aloss:0.6868 eloss:2.1850 aloss2:0.8944 exploreP:0.4430\n",
      "Episode:222 meanR:48.5600 R:287.0000 rate:0.5740 aloss:0.6880 eloss:2.1600 aloss2:0.9222 exploreP:0.4308\n",
      "Episode:223 meanR:49.7800 R:169.0000 rate:0.3380 aloss:0.6792 eloss:2.1103 aloss2:0.9524 exploreP:0.4237\n",
      "Episode:224 meanR:52.5100 R:351.0000 rate:0.7020 aloss:0.6799 eloss:2.0749 aloss2:0.9586 exploreP:0.4095\n",
      "Episode:225 meanR:52.6300 R:58.0000 rate:0.1160 aloss:0.6850 eloss:2.0462 aloss2:0.9672 exploreP:0.4071\n",
      "Episode:226 meanR:52.8600 R:59.0000 rate:0.1180 aloss:0.6937 eloss:2.0561 aloss2:0.9704 exploreP:0.4048\n",
      "Episode:227 meanR:53.0100 R:33.0000 rate:0.0660 aloss:0.7063 eloss:2.0624 aloss2:0.9622 exploreP:0.4035\n",
      "Episode:228 meanR:52.6000 R:14.0000 rate:0.0280 aloss:0.6714 eloss:2.0325 aloss2:0.9689 exploreP:0.4030\n",
      "Episode:229 meanR:52.8200 R:52.0000 rate:0.1040 aloss:0.6837 eloss:2.0194 aloss2:0.9767 exploreP:0.4009\n",
      "Episode:230 meanR:53.1200 R:55.0000 rate:0.1100 aloss:0.6820 eloss:2.0255 aloss2:0.9749 exploreP:0.3988\n",
      "Episode:231 meanR:52.6400 R:24.0000 rate:0.0480 aloss:0.7051 eloss:2.0208 aloss2:0.9747 exploreP:0.3978\n",
      "Episode:232 meanR:52.8300 R:39.0000 rate:0.0780 aloss:0.6872 eloss:2.0118 aloss2:0.9829 exploreP:0.3963\n",
      "Episode:233 meanR:52.5900 R:19.0000 rate:0.0380 aloss:0.6762 eloss:2.0293 aloss2:0.9857 exploreP:0.3956\n",
      "Episode:234 meanR:52.1200 R:11.0000 rate:0.0220 aloss:0.7320 eloss:2.0166 aloss2:0.9929 exploreP:0.3952\n",
      "Episode:235 meanR:52.2800 R:72.0000 rate:0.1440 aloss:0.6852 eloss:1.9992 aloss2:0.9972 exploreP:0.3924\n",
      "Episode:236 meanR:52.4600 R:35.0000 rate:0.0700 aloss:0.6815 eloss:1.9949 aloss2:1.0022 exploreP:0.3911\n",
      "Episode:237 meanR:52.4300 R:38.0000 rate:0.0760 aloss:0.6947 eloss:1.9892 aloss2:1.0079 exploreP:0.3896\n"
     ]
    },
    {
     "name": "stdout",
     "output_type": "stream",
     "text": [
      "Episode:238 meanR:52.2900 R:16.0000 rate:0.0320 aloss:0.6920 eloss:1.9872 aloss2:1.0091 exploreP:0.3890\n",
      "Episode:239 meanR:52.3600 R:30.0000 rate:0.0600 aloss:0.6919 eloss:1.9683 aloss2:1.0087 exploreP:0.3879\n",
      "Episode:240 meanR:52.4800 R:41.0000 rate:0.0820 aloss:0.6978 eloss:1.9679 aloss2:1.0185 exploreP:0.3863\n",
      "Episode:241 meanR:52.7500 R:46.0000 rate:0.0920 aloss:0.6831 eloss:1.9629 aloss2:1.0217 exploreP:0.3846\n",
      "Episode:242 meanR:52.7800 R:49.0000 rate:0.0980 aloss:0.6888 eloss:1.9784 aloss2:1.0162 exploreP:0.3828\n",
      "Episode:243 meanR:52.9700 R:40.0000 rate:0.0800 aloss:0.6836 eloss:1.9368 aloss2:1.0241 exploreP:0.3813\n",
      "Episode:244 meanR:53.1700 R:36.0000 rate:0.0720 aloss:0.6809 eloss:1.9602 aloss2:1.0122 exploreP:0.3800\n",
      "Episode:245 meanR:53.2500 R:46.0000 rate:0.0920 aloss:0.6893 eloss:1.9254 aloss2:1.0280 exploreP:0.3783\n",
      "Episode:246 meanR:53.4800 R:41.0000 rate:0.0820 aloss:0.6899 eloss:1.9408 aloss2:1.0312 exploreP:0.3768\n",
      "Episode:247 meanR:53.7500 R:47.0000 rate:0.0940 aloss:0.7090 eloss:1.9209 aloss2:1.0397 exploreP:0.3750\n",
      "Episode:248 meanR:54.0600 R:71.0000 rate:0.1420 aloss:0.6893 eloss:1.9045 aloss2:1.0478 exploreP:0.3725\n",
      "Episode:249 meanR:54.1000 R:21.0000 rate:0.0420 aloss:0.6836 eloss:1.9062 aloss2:1.0607 exploreP:0.3717\n",
      "Episode:250 meanR:54.3000 R:38.0000 rate:0.0760 aloss:0.6938 eloss:1.8974 aloss2:1.0536 exploreP:0.3703\n",
      "Episode:251 meanR:54.6700 R:56.0000 rate:0.1120 aloss:0.6979 eloss:1.8783 aloss2:1.0716 exploreP:0.3683\n",
      "Episode:252 meanR:54.9800 R:41.0000 rate:0.0820 aloss:0.6915 eloss:1.8902 aloss2:1.0808 exploreP:0.3668\n",
      "Episode:253 meanR:55.4600 R:81.0000 rate:0.1620 aloss:0.6871 eloss:1.8460 aloss2:1.0888 exploreP:0.3640\n",
      "Episode:254 meanR:56.7800 R:144.0000 rate:0.2880 aloss:0.6982 eloss:1.8360 aloss2:1.1006 exploreP:0.3589\n",
      "Episode:255 meanR:57.0100 R:41.0000 rate:0.0820 aloss:0.6811 eloss:1.8018 aloss2:1.1179 exploreP:0.3575\n",
      "Episode:256 meanR:57.2300 R:40.0000 rate:0.0800 aloss:0.6776 eloss:1.8021 aloss2:1.1177 exploreP:0.3561\n",
      "Episode:257 meanR:57.2900 R:24.0000 rate:0.0480 aloss:0.7084 eloss:1.7682 aloss2:1.1302 exploreP:0.3553\n",
      "Episode:258 meanR:57.5600 R:40.0000 rate:0.0800 aloss:0.6824 eloss:1.8018 aloss2:1.1334 exploreP:0.3539\n",
      "Episode:259 meanR:57.7200 R:35.0000 rate:0.0700 aloss:0.6930 eloss:1.7874 aloss2:1.1443 exploreP:0.3527\n",
      "Episode:260 meanR:57.8300 R:37.0000 rate:0.0740 aloss:0.7090 eloss:1.8217 aloss2:1.1400 exploreP:0.3514\n",
      "Episode:261 meanR:58.2200 R:65.0000 rate:0.1300 aloss:0.6835 eloss:1.7697 aloss2:1.1651 exploreP:0.3492\n",
      "Episode:262 meanR:58.4700 R:47.0000 rate:0.0940 aloss:0.6898 eloss:1.7584 aloss2:1.1704 exploreP:0.3476\n",
      "Episode:263 meanR:58.7900 R:54.0000 rate:0.1080 aloss:0.6802 eloss:1.7396 aloss2:1.1778 exploreP:0.3458\n",
      "Episode:264 meanR:59.0500 R:41.0000 rate:0.0820 aloss:0.6761 eloss:1.7216 aloss2:1.1830 exploreP:0.3444\n",
      "Episode:265 meanR:59.2000 R:46.0000 rate:0.0920 aloss:0.6763 eloss:1.7345 aloss2:1.1857 exploreP:0.3429\n",
      "Episode:266 meanR:59.3500 R:35.0000 rate:0.0700 aloss:0.7087 eloss:1.7062 aloss2:1.2046 exploreP:0.3417\n",
      "Episode:267 meanR:59.6400 R:47.0000 rate:0.0940 aloss:0.6968 eloss:1.7041 aloss2:1.2012 exploreP:0.3402\n",
      "Episode:268 meanR:59.9300 R:51.0000 rate:0.1020 aloss:0.6913 eloss:1.6796 aloss2:1.2154 exploreP:0.3385\n",
      "Episode:269 meanR:60.1800 R:48.0000 rate:0.0960 aloss:0.6840 eloss:1.6680 aloss2:1.2252 exploreP:0.3369\n",
      "Episode:270 meanR:60.4400 R:48.0000 rate:0.0960 aloss:0.6852 eloss:1.6473 aloss2:1.2250 exploreP:0.3354\n",
      "Episode:271 meanR:60.8100 R:50.0000 rate:0.1000 aloss:0.6950 eloss:1.6700 aloss2:1.2351 exploreP:0.3337\n",
      "Episode:272 meanR:61.1800 R:63.0000 rate:0.1260 aloss:0.6819 eloss:1.6486 aloss2:1.2527 exploreP:0.3317\n",
      "Episode:273 meanR:61.4600 R:44.0000 rate:0.0880 aloss:0.6874 eloss:1.6425 aloss2:1.2689 exploreP:0.3303\n",
      "Episode:274 meanR:61.7900 R:45.0000 rate:0.0900 aloss:0.6851 eloss:1.6097 aloss2:1.2782 exploreP:0.3288\n",
      "Episode:275 meanR:62.0100 R:39.0000 rate:0.0780 aloss:0.6918 eloss:1.6252 aloss2:1.2867 exploreP:0.3276\n",
      "Episode:276 meanR:62.3700 R:48.0000 rate:0.0960 aloss:0.6890 eloss:1.5973 aloss2:1.3110 exploreP:0.3261\n",
      "Episode:277 meanR:62.6900 R:46.0000 rate:0.0920 aloss:0.6902 eloss:1.5938 aloss2:1.3192 exploreP:0.3246\n",
      "Episode:278 meanR:62.9300 R:43.0000 rate:0.0860 aloss:0.6927 eloss:1.5612 aloss2:1.3377 exploreP:0.3233\n",
      "Episode:279 meanR:63.3900 R:59.0000 rate:0.1180 aloss:0.6799 eloss:1.5497 aloss2:1.3400 exploreP:0.3214\n",
      "Episode:280 meanR:63.4100 R:55.0000 rate:0.1100 aloss:0.6789 eloss:1.5373 aloss2:1.3435 exploreP:0.3197\n",
      "Episode:281 meanR:63.4900 R:41.0000 rate:0.0820 aloss:0.6749 eloss:1.5014 aloss2:1.3609 exploreP:0.3185\n",
      "Episode:282 meanR:64.0500 R:83.0000 rate:0.1660 aloss:0.6835 eloss:1.5170 aloss2:1.3609 exploreP:0.3159\n",
      "Episode:283 meanR:64.5900 R:78.0000 rate:0.1560 aloss:0.6773 eloss:1.4579 aloss2:1.3737 exploreP:0.3135\n",
      "Episode:284 meanR:64.7500 R:71.0000 rate:0.1420 aloss:0.6806 eloss:1.4762 aloss2:1.3760 exploreP:0.3114\n",
      "Episode:285 meanR:65.0600 R:55.0000 rate:0.1100 aloss:0.6754 eloss:1.4941 aloss2:1.3920 exploreP:0.3097\n",
      "Episode:286 meanR:65.2500 R:35.0000 rate:0.0700 aloss:0.7020 eloss:1.5001 aloss2:1.4068 exploreP:0.3087\n",
      "Episode:287 meanR:65.4600 R:48.0000 rate:0.0960 aloss:0.6764 eloss:1.4853 aloss2:1.4143 exploreP:0.3073\n",
      "Episode:288 meanR:65.2500 R:73.0000 rate:0.1460 aloss:0.6893 eloss:1.4635 aloss2:1.4460 exploreP:0.3051\n",
      "Episode:289 meanR:65.4900 R:41.0000 rate:0.0820 aloss:0.6862 eloss:1.4339 aloss2:1.4787 exploreP:0.3039\n",
      "Episode:290 meanR:65.6000 R:39.0000 rate:0.0780 aloss:0.6778 eloss:1.3996 aloss2:1.4834 exploreP:0.3027\n",
      "Episode:291 meanR:66.0700 R:74.0000 rate:0.1480 aloss:0.6886 eloss:1.4363 aloss2:1.5023 exploreP:0.3006\n",
      "Episode:292 meanR:66.7300 R:81.0000 rate:0.1620 aloss:0.6803 eloss:1.3720 aloss2:1.5299 exploreP:0.2982\n",
      "Episode:293 meanR:66.8900 R:83.0000 rate:0.1660 aloss:0.6750 eloss:1.3631 aloss2:1.5322 exploreP:0.2959\n",
      "Episode:294 meanR:67.2900 R:115.0000 rate:0.2300 aloss:0.6739 eloss:1.3265 aloss2:1.5540 exploreP:0.2926\n",
      "Episode:295 meanR:68.9100 R:246.0000 rate:0.4920 aloss:0.6741 eloss:1.2617 aloss2:1.5848 exploreP:0.2857\n",
      "Episode:296 meanR:70.1700 R:168.0000 rate:0.3360 aloss:0.6725 eloss:1.2298 aloss2:1.6378 exploreP:0.2811\n",
      "Episode:297 meanR:71.3800 R:144.0000 rate:0.2880 aloss:0.6769 eloss:1.1923 aloss2:1.7072 exploreP:0.2773\n",
      "Episode:298 meanR:71.8400 R:110.0000 rate:0.2200 aloss:0.6741 eloss:1.2272 aloss2:1.7610 exploreP:0.2743\n",
      "Episode:299 meanR:72.5600 R:127.0000 rate:0.2540 aloss:0.6810 eloss:1.1688 aloss2:1.8325 exploreP:0.2710\n",
      "Episode:300 meanR:73.6200 R:174.0000 rate:0.3480 aloss:0.6867 eloss:1.3791 aloss2:1.8782 exploreP:0.2665\n",
      "Episode:301 meanR:73.3700 R:34.0000 rate:0.0680 aloss:0.6793 eloss:1.2577 aloss2:1.9519 exploreP:0.2656\n",
      "Episode:302 meanR:75.0200 R:202.0000 rate:0.4040 aloss:0.6784 eloss:1.1060 aloss2:2.0029 exploreP:0.2605\n",
      "Episode:303 meanR:75.8900 R:114.0000 rate:0.2280 aloss:0.6748 eloss:1.0442 aloss2:2.0592 exploreP:0.2577\n",
      "Episode:304 meanR:75.8800 R:87.0000 rate:0.1740 aloss:0.6780 eloss:0.9877 aloss2:2.0805 exploreP:0.2555\n",
      "Episode:305 meanR:76.2500 R:146.0000 rate:0.2920 aloss:0.6751 eloss:0.8734 aloss2:2.1385 exploreP:0.2520\n",
      "Episode:306 meanR:74.7300 R:110.0000 rate:0.2200 aloss:0.6737 eloss:0.8839 aloss2:2.1707 exploreP:0.2493\n",
      "Episode:307 meanR:74.6400 R:129.0000 rate:0.2580 aloss:0.6765 eloss:0.9957 aloss2:2.1814 exploreP:0.2463\n",
      "Episode:308 meanR:74.8100 R:44.0000 rate:0.0880 aloss:0.6793 eloss:0.9079 aloss2:2.2258 exploreP:0.2452\n",
      "Episode:309 meanR:75.0500 R:99.0000 rate:0.1980 aloss:0.6744 eloss:0.8131 aloss2:2.2753 exploreP:0.2429\n",
      "Episode:310 meanR:74.2000 R:56.0000 rate:0.1120 aloss:0.6750 eloss:0.7222 aloss2:2.3360 exploreP:0.2416\n",
      "Episode:311 meanR:74.7300 R:75.0000 rate:0.1500 aloss:0.6746 eloss:0.6574 aloss2:2.3523 exploreP:0.2399\n",
      "Episode:312 meanR:73.8700 R:67.0000 rate:0.1340 aloss:0.6802 eloss:0.6776 aloss2:2.3881 exploreP:0.2383\n",
      "Episode:313 meanR:73.8900 R:94.0000 rate:0.1880 aloss:0.6743 eloss:0.8113 aloss2:2.4069 exploreP:0.2362\n",
      "Episode:314 meanR:73.8300 R:56.0000 rate:0.1120 aloss:0.6760 eloss:0.4096 aloss2:2.4879 exploreP:0.2349\n",
      "Episode:315 meanR:72.2200 R:64.0000 rate:0.1280 aloss:0.6749 eloss:0.6106 aloss2:2.4930 exploreP:0.2335\n",
      "Episode:316 meanR:72.2600 R:53.0000 rate:0.1060 aloss:0.6789 eloss:0.2484 aloss2:2.5753 exploreP:0.2323\n"
     ]
    },
    {
     "name": "stdout",
     "output_type": "stream",
     "text": [
      "Episode:317 meanR:71.5500 R:58.0000 rate:0.1160 aloss:0.6681 eloss:1.0654 aloss2:2.4928 exploreP:0.2310\n",
      "Episode:318 meanR:71.9200 R:73.0000 rate:0.1460 aloss:0.6711 eloss:0.7517 aloss2:2.6007 exploreP:0.2294\n",
      "Episode:319 meanR:72.1900 R:55.0000 rate:0.1100 aloss:0.6680 eloss:0.7335 aloss2:2.6028 exploreP:0.2282\n",
      "Episode:320 meanR:70.5600 R:27.0000 rate:0.0540 aloss:0.6681 eloss:0.7383 aloss2:2.6349 exploreP:0.2276\n",
      "Episode:321 meanR:69.3400 R:54.0000 rate:0.1080 aloss:0.6764 eloss:0.9743 aloss2:2.5510 exploreP:0.2265\n",
      "Episode:322 meanR:67.3200 R:85.0000 rate:0.1700 aloss:0.6774 eloss:0.6318 aloss2:2.6790 exploreP:0.2246\n",
      "Episode:323 meanR:66.0900 R:46.0000 rate:0.0920 aloss:0.6715 eloss:1.1850 aloss2:2.6737 exploreP:0.2236\n",
      "Episode:324 meanR:63.1000 R:52.0000 rate:0.1040 aloss:0.6741 eloss:0.9120 aloss2:2.6888 exploreP:0.2225\n",
      "Episode:325 meanR:63.2100 R:69.0000 rate:0.1380 aloss:0.6818 eloss:1.1962 aloss2:2.6818 exploreP:0.2211\n",
      "Episode:326 meanR:63.5800 R:96.0000 rate:0.1920 aloss:0.6796 eloss:0.4158 aloss2:2.8335 exploreP:0.2191\n",
      "Episode:327 meanR:63.9000 R:65.0000 rate:0.1300 aloss:0.6777 eloss:0.3572 aloss2:2.8904 exploreP:0.2177\n",
      "Episode:328 meanR:64.3700 R:61.0000 rate:0.1220 aloss:0.6678 eloss:0.4638 aloss2:2.8893 exploreP:0.2164\n",
      "Episode:329 meanR:64.7200 R:87.0000 rate:0.1740 aloss:0.6867 eloss:0.3845 aloss2:2.9752 exploreP:0.2147\n",
      "Episode:330 meanR:64.6800 R:51.0000 rate:0.1020 aloss:0.6735 eloss:0.4095 aloss2:3.0278 exploreP:0.2136\n",
      "Episode:331 meanR:65.6600 R:122.0000 rate:0.2440 aloss:0.6707 eloss:0.3632 aloss2:3.0532 exploreP:0.2111\n",
      "Episode:332 meanR:66.0700 R:80.0000 rate:0.1600 aloss:0.6713 eloss:0.4310 aloss2:3.1166 exploreP:0.2095\n",
      "Episode:333 meanR:67.1600 R:128.0000 rate:0.2560 aloss:0.6744 eloss:0.2410 aloss2:3.1942 exploreP:0.2070\n",
      "Episode:334 meanR:69.6000 R:255.0000 rate:0.5100 aloss:0.6729 eloss:0.5809 aloss2:3.2836 exploreP:0.2020\n",
      "Episode:335 meanR:71.1400 R:226.0000 rate:0.4520 aloss:0.6735 eloss:0.3447 aloss2:3.4303 exploreP:0.1977\n",
      "Episode:336 meanR:72.6700 R:188.0000 rate:0.3760 aloss:0.6733 eloss:0.5524 aloss2:3.5500 exploreP:0.1943\n",
      "Episode:337 meanR:73.8600 R:157.0000 rate:0.3140 aloss:0.6742 eloss:0.0929 aloss2:3.7331 exploreP:0.1914\n",
      "Episode:338 meanR:75.8900 R:219.0000 rate:0.4380 aloss:0.6793 eloss:0.4801 aloss2:3.8103 exploreP:0.1875\n",
      "Episode:339 meanR:79.3500 R:376.0000 rate:0.7520 aloss:0.6796 eloss:0.2149 aloss2:3.9744 exploreP:0.1809\n",
      "Episode:340 meanR:81.7400 R:280.0000 rate:0.5600 aloss:0.6789 eloss:-0.1126 aloss2:4.2567 exploreP:0.1762\n",
      "Episode:341 meanR:83.4900 R:221.0000 rate:0.4420 aloss:0.6808 eloss:-0.3505 aloss2:4.5034 exploreP:0.1726\n",
      "Episode:342 meanR:85.7100 R:271.0000 rate:0.5420 aloss:0.6868 eloss:0.3651 aloss2:4.5765 exploreP:0.1682\n",
      "Episode:343 meanR:86.4600 R:115.0000 rate:0.2300 aloss:0.6931 eloss:0.0469 aloss2:4.7362 exploreP:0.1664\n",
      "Episode:344 meanR:88.0100 R:191.0000 rate:0.3820 aloss:0.6835 eloss:-0.7346 aloss2:4.9194 exploreP:0.1634\n",
      "Episode:345 meanR:89.2600 R:171.0000 rate:0.3420 aloss:0.6817 eloss:-0.3102 aloss2:5.0567 exploreP:0.1608\n",
      "Episode:346 meanR:91.9000 R:305.0000 rate:0.6100 aloss:0.6810 eloss:-0.6309 aloss2:5.2834 exploreP:0.1563\n",
      "Episode:347 meanR:92.7400 R:131.0000 rate:0.2620 aloss:0.7036 eloss:-1.1009 aloss2:5.5434 exploreP:0.1544\n",
      "Episode:348 meanR:93.3900 R:136.0000 rate:0.2720 aloss:0.7130 eloss:-1.0526 aloss2:5.6363 exploreP:0.1525\n",
      "Episode:349 meanR:94.5200 R:134.0000 rate:0.2680 aloss:0.6926 eloss:-0.8405 aloss2:5.7003 exploreP:0.1506\n",
      "Episode:350 meanR:95.4800 R:134.0000 rate:0.2680 aloss:0.7164 eloss:-1.3485 aloss2:5.9086 exploreP:0.1487\n",
      "Episode:351 meanR:96.1200 R:120.0000 rate:0.2400 aloss:0.7404 eloss:-1.3705 aloss2:6.0869 exploreP:0.1470\n",
      "Episode:352 meanR:97.4200 R:171.0000 rate:0.3420 aloss:0.6921 eloss:-1.3301 aloss2:6.1859 exploreP:0.1447\n",
      "Episode:353 meanR:97.4900 R:88.0000 rate:0.1760 aloss:0.7337 eloss:-1.6570 aloss2:6.3921 exploreP:0.1435\n",
      "Episode:354 meanR:97.6400 R:159.0000 rate:0.3180 aloss:0.7401 eloss:-1.0285 aloss2:6.4208 exploreP:0.1414\n",
      "Episode:355 meanR:98.7300 R:150.0000 rate:0.3000 aloss:0.7332 eloss:-1.4134 aloss2:6.5750 exploreP:0.1395\n",
      "Episode:356 meanR:99.1600 R:83.0000 rate:0.1660 aloss:0.7180 eloss:-1.3994 aloss2:6.7241 exploreP:0.1384\n",
      "Episode:357 meanR:100.1500 R:123.0000 rate:0.2460 aloss:0.7364 eloss:-1.8289 aloss2:6.8942 exploreP:0.1368\n",
      "Episode:358 meanR:101.5100 R:176.0000 rate:0.3520 aloss:0.7402 eloss:-1.8028 aloss2:7.1151 exploreP:0.1346\n",
      "Episode:359 meanR:104.0900 R:293.0000 rate:0.5860 aloss:0.7213 eloss:-1.8001 aloss2:7.3711 exploreP:0.1310\n",
      "Episode:360 meanR:107.7700 R:405.0000 rate:0.8100 aloss:0.7513 eloss:-1.7598 aloss2:7.7963 exploreP:0.1262\n",
      "Episode:361 meanR:111.1000 R:398.0000 rate:0.7960 aloss:0.7468 eloss:-2.0708 aloss2:8.2816 exploreP:0.1217\n",
      "Episode:362 meanR:115.6300 R:500.0000 rate:1.0000 aloss:0.7322 eloss:-2.4181 aloss2:8.8238 exploreP:0.1162\n",
      "Episode:363 meanR:120.0900 R:500.0000 rate:1.0000 aloss:0.7405 eloss:-2.4404 aloss2:9.4654 exploreP:0.1110\n",
      "Episode:364 meanR:124.6800 R:500.0000 rate:1.0000 aloss:0.7412 eloss:-2.7169 aloss2:9.9491 exploreP:0.1061\n",
      "Episode:365 meanR:129.2200 R:500.0000 rate:1.0000 aloss:0.7718 eloss:-2.5822 aloss2:10.2705 exploreP:0.1014\n",
      "Episode:366 meanR:133.8700 R:500.0000 rate:1.0000 aloss:0.7550 eloss:-3.1540 aloss2:10.7442 exploreP:0.0970\n",
      "Episode:367 meanR:138.4000 R:500.0000 rate:1.0000 aloss:0.7685 eloss:-3.1744 aloss2:11.2342 exploreP:0.0927\n",
      "Episode:368 meanR:142.8900 R:500.0000 rate:1.0000 aloss:0.7475 eloss:-3.2434 aloss2:11.5840 exploreP:0.0887\n",
      "Episode:369 meanR:147.4100 R:500.0000 rate:1.0000 aloss:0.7625 eloss:-3.5408 aloss2:12.0954 exploreP:0.0849\n",
      "Episode:370 meanR:151.9300 R:500.0000 rate:1.0000 aloss:0.7675 eloss:-3.3191 aloss2:12.4533 exploreP:0.0812\n",
      "Episode:371 meanR:156.4300 R:500.0000 rate:1.0000 aloss:0.7721 eloss:-3.6831 aloss2:12.8333 exploreP:0.0777\n",
      "Episode:372 meanR:160.8000 R:500.0000 rate:1.0000 aloss:0.7616 eloss:-3.5655 aloss2:13.2222 exploreP:0.0744\n",
      "Episode:373 meanR:165.3600 R:500.0000 rate:1.0000 aloss:0.7691 eloss:-3.7592 aloss2:13.6106 exploreP:0.0713\n",
      "Episode:374 meanR:169.9100 R:500.0000 rate:1.0000 aloss:0.7714 eloss:-3.9164 aloss2:14.0459 exploreP:0.0683\n",
      "Episode:375 meanR:174.5200 R:500.0000 rate:1.0000 aloss:0.7845 eloss:-3.5833 aloss2:14.4336 exploreP:0.0655\n",
      "Episode:376 meanR:175.7400 R:170.0000 rate:0.3400 aloss:0.8050 eloss:-3.5345 aloss2:14.6237 exploreP:0.0645\n",
      "Episode:377 meanR:180.2800 R:500.0000 rate:1.0000 aloss:0.7939 eloss:-3.5713 aloss2:14.7386 exploreP:0.0619\n",
      "Episode:378 meanR:182.0300 R:218.0000 rate:0.4360 aloss:0.8177 eloss:-4.3825 aloss2:15.0321 exploreP:0.0607\n",
      "Episode:379 meanR:183.3600 R:192.0000 rate:0.3840 aloss:0.8214 eloss:-3.5201 aloss2:15.1549 exploreP:0.0598\n",
      "Episode:380 meanR:185.0700 R:226.0000 rate:0.4520 aloss:0.8090 eloss:-2.2769 aloss2:15.0796 exploreP:0.0587\n",
      "Episode:381 meanR:189.6600 R:500.0000 rate:1.0000 aloss:0.8055 eloss:-3.3682 aloss2:15.1431 exploreP:0.0563\n",
      "Episode:382 meanR:190.8200 R:199.0000 rate:0.3980 aloss:0.8464 eloss:-3.7644 aloss2:15.3107 exploreP:0.0554\n",
      "Episode:383 meanR:192.0900 R:205.0000 rate:0.4100 aloss:0.8372 eloss:-4.1085 aloss2:15.4109 exploreP:0.0545\n",
      "Episode:384 meanR:193.7500 R:237.0000 rate:0.4740 aloss:0.8206 eloss:-4.0098 aloss2:15.5435 exploreP:0.0534\n",
      "Episode:385 meanR:195.1300 R:193.0000 rate:0.3860 aloss:0.8606 eloss:-4.2023 aloss2:15.6971 exploreP:0.0526\n",
      "Episode:386 meanR:196.4800 R:170.0000 rate:0.3400 aloss:0.8755 eloss:-4.2267 aloss2:15.7748 exploreP:0.0519\n",
      "Episode:387 meanR:198.0000 R:200.0000 rate:0.4000 aloss:0.8509 eloss:-4.0110 aloss2:15.9373 exploreP:0.0510\n",
      "Episode:388 meanR:198.8400 R:157.0000 rate:0.3140 aloss:0.8883 eloss:-4.3159 aloss2:16.0923 exploreP:0.0504\n",
      "Episode:389 meanR:200.0200 R:159.0000 rate:0.3180 aloss:0.8593 eloss:-4.0394 aloss2:16.1473 exploreP:0.0498\n",
      "Episode:390 meanR:201.3300 R:170.0000 rate:0.3400 aloss:0.8518 eloss:-3.9065 aloss2:16.2098 exploreP:0.0491\n",
      "Episode:391 meanR:202.2600 R:167.0000 rate:0.3340 aloss:0.8933 eloss:-4.0114 aloss2:16.3334 exploreP:0.0484\n",
      "Episode:392 meanR:203.1500 R:170.0000 rate:0.3400 aloss:0.8763 eloss:-4.6156 aloss2:16.4927 exploreP:0.0478\n",
      "Episode:393 meanR:204.1500 R:183.0000 rate:0.3660 aloss:0.9116 eloss:-4.1857 aloss2:16.5862 exploreP:0.0471\n",
      "Episode:394 meanR:204.9200 R:192.0000 rate:0.3840 aloss:0.8830 eloss:-4.2542 aloss2:16.7346 exploreP:0.0464\n"
     ]
    },
    {
     "name": "stdout",
     "output_type": "stream",
     "text": [
      "Episode:395 meanR:204.1600 R:170.0000 rate:0.3400 aloss:0.9505 eloss:-3.9486 aloss2:16.7646 exploreP:0.0458\n",
      "Episode:396 meanR:204.0100 R:153.0000 rate:0.3060 aloss:0.8769 eloss:-4.4866 aloss2:16.9121 exploreP:0.0453\n",
      "Episode:397 meanR:204.1500 R:158.0000 rate:0.3160 aloss:0.9006 eloss:-3.8959 aloss2:17.0414 exploreP:0.0447\n",
      "Episode:398 meanR:204.1300 R:108.0000 rate:0.2160 aloss:0.9241 eloss:-3.5438 aloss2:17.0628 exploreP:0.0443\n",
      "Episode:399 meanR:204.4400 R:158.0000 rate:0.3160 aloss:0.9471 eloss:-3.7345 aloss2:17.0339 exploreP:0.0438\n",
      "Episode:400 meanR:204.2200 R:152.0000 rate:0.3040 aloss:0.9620 eloss:-3.8172 aloss2:17.0484 exploreP:0.0433\n",
      "Episode:401 meanR:205.3400 R:146.0000 rate:0.2920 aloss:0.9424 eloss:-3.8734 aloss2:17.1055 exploreP:0.0428\n",
      "Episode:402 meanR:204.8000 R:148.0000 rate:0.2960 aloss:0.8988 eloss:-4.0846 aloss2:17.1445 exploreP:0.0423\n",
      "Episode:403 meanR:205.3200 R:166.0000 rate:0.3320 aloss:0.9026 eloss:-3.8220 aloss2:17.2315 exploreP:0.0418\n",
      "Episode:404 meanR:205.9300 R:148.0000 rate:0.2960 aloss:0.9943 eloss:-4.5798 aloss2:17.3609 exploreP:0.0413\n",
      "Episode:405 meanR:205.9400 R:147.0000 rate:0.2940 aloss:0.9595 eloss:-4.4708 aloss2:17.4785 exploreP:0.0409\n",
      "Episode:406 meanR:206.4400 R:160.0000 rate:0.3200 aloss:0.9473 eloss:-3.3982 aloss2:17.4587 exploreP:0.0404\n",
      "Episode:407 meanR:206.6900 R:154.0000 rate:0.3080 aloss:0.9608 eloss:-3.7916 aloss2:17.5226 exploreP:0.0399\n",
      "Episode:408 meanR:207.9800 R:173.0000 rate:0.3460 aloss:0.9208 eloss:-3.4003 aloss2:17.4821 exploreP:0.0394\n",
      "Episode:409 meanR:208.8000 R:181.0000 rate:0.3620 aloss:1.0185 eloss:-3.7864 aloss2:17.5133 exploreP:0.0389\n",
      "Episode:410 meanR:209.8200 R:158.0000 rate:0.3160 aloss:0.9922 eloss:-4.5189 aloss2:17.5701 exploreP:0.0384\n",
      "Episode:411 meanR:210.6000 R:153.0000 rate:0.3060 aloss:0.9552 eloss:-3.6901 aloss2:17.6934 exploreP:0.0380\n",
      "Episode:412 meanR:211.3100 R:138.0000 rate:0.2760 aloss:1.0152 eloss:-3.5160 aloss2:17.5665 exploreP:0.0376\n",
      "Episode:413 meanR:211.3900 R:102.0000 rate:0.2040 aloss:0.9238 eloss:-2.9753 aloss2:17.5649 exploreP:0.0373\n",
      "Episode:414 meanR:211.6300 R:80.0000 rate:0.1600 aloss:0.9242 eloss:-4.8971 aloss2:17.7197 exploreP:0.0371\n",
      "Episode:415 meanR:212.6600 R:167.0000 rate:0.3340 aloss:0.9377 eloss:-3.7403 aloss2:17.7231 exploreP:0.0367\n",
      "Episode:416 meanR:213.6200 R:149.0000 rate:0.2980 aloss:0.9692 eloss:-2.8881 aloss2:17.6553 exploreP:0.0363\n",
      "Episode:417 meanR:214.4700 R:143.0000 rate:0.2860 aloss:1.1234 eloss:-1.8999 aloss2:17.5838 exploreP:0.0359\n",
      "Episode:418 meanR:215.1500 R:141.0000 rate:0.2820 aloss:0.9924 eloss:-4.4167 aloss2:17.6532 exploreP:0.0355\n",
      "Episode:419 meanR:216.0100 R:141.0000 rate:0.2820 aloss:1.0527 eloss:-4.6254 aloss2:17.7387 exploreP:0.0352\n",
      "Episode:420 meanR:217.5200 R:178.0000 rate:0.3560 aloss:1.0185 eloss:-3.9952 aloss2:17.7731 exploreP:0.0347\n",
      "Episode:421 meanR:218.8000 R:182.0000 rate:0.3640 aloss:0.9589 eloss:-4.7246 aloss2:17.8474 exploreP:0.0343\n",
      "Episode:422 meanR:218.7400 R:79.0000 rate:0.1580 aloss:1.1326 eloss:-2.2689 aloss2:17.7553 exploreP:0.0341\n",
      "Episode:423 meanR:219.9500 R:167.0000 rate:0.3340 aloss:1.0014 eloss:-3.7438 aloss2:17.7615 exploreP:0.0337\n",
      "Episode:424 meanR:221.0600 R:163.0000 rate:0.3260 aloss:1.0818 eloss:-4.6675 aloss2:17.8597 exploreP:0.0333\n",
      "Episode:425 meanR:221.9100 R:154.0000 rate:0.3080 aloss:1.0324 eloss:-4.6648 aloss2:17.9280 exploreP:0.0329\n",
      "Episode:426 meanR:222.6000 R:165.0000 rate:0.3300 aloss:1.0077 eloss:-4.7235 aloss2:18.0595 exploreP:0.0326\n",
      "Episode:427 meanR:223.2700 R:132.0000 rate:0.2640 aloss:1.0672 eloss:-5.2813 aloss2:18.1361 exploreP:0.0323\n",
      "Episode:428 meanR:224.1600 R:150.0000 rate:0.3000 aloss:1.0325 eloss:-4.7502 aloss2:18.1536 exploreP:0.0319\n",
      "Episode:429 meanR:225.0900 R:180.0000 rate:0.3600 aloss:0.9847 eloss:-4.1506 aloss2:18.2010 exploreP:0.0316\n",
      "Episode:430 meanR:226.4400 R:186.0000 rate:0.3720 aloss:0.9888 eloss:-4.5774 aloss2:18.3293 exploreP:0.0312\n",
      "Episode:431 meanR:226.6200 R:140.0000 rate:0.2800 aloss:0.9445 eloss:-4.0742 aloss2:18.4088 exploreP:0.0309\n",
      "Episode:432 meanR:227.6300 R:181.0000 rate:0.3620 aloss:1.0333 eloss:-4.4386 aloss2:18.5397 exploreP:0.0305\n",
      "Episode:433 meanR:227.8700 R:152.0000 rate:0.3040 aloss:0.9963 eloss:-4.0234 aloss2:18.5330 exploreP:0.0302\n",
      "Episode:434 meanR:227.3400 R:202.0000 rate:0.4040 aloss:1.0994 eloss:-3.7473 aloss2:18.5308 exploreP:0.0298\n",
      "Episode:435 meanR:226.5600 R:148.0000 rate:0.2960 aloss:1.0062 eloss:-3.5089 aloss2:18.5157 exploreP:0.0295\n",
      "Episode:436 meanR:226.3200 R:164.0000 rate:0.3280 aloss:1.0434 eloss:-3.7528 aloss2:18.5578 exploreP:0.0292\n",
      "Episode:437 meanR:226.4100 R:166.0000 rate:0.3320 aloss:1.0769 eloss:-4.7184 aloss2:18.5922 exploreP:0.0288\n",
      "Episode:438 meanR:225.8000 R:158.0000 rate:0.3160 aloss:1.0761 eloss:-5.0084 aloss2:18.6888 exploreP:0.0286\n",
      "Episode:439 meanR:223.6100 R:157.0000 rate:0.3140 aloss:1.0265 eloss:-4.3272 aloss2:18.6806 exploreP:0.0283\n",
      "Episode:440 meanR:222.6000 R:179.0000 rate:0.3580 aloss:1.0451 eloss:-4.0149 aloss2:18.6972 exploreP:0.0279\n",
      "Episode:441 meanR:222.1400 R:175.0000 rate:0.3500 aloss:1.0482 eloss:-4.7120 aloss2:18.7613 exploreP:0.0276\n",
      "Episode:442 meanR:221.4800 R:205.0000 rate:0.4100 aloss:1.0009 eloss:-3.5283 aloss2:18.7679 exploreP:0.0273\n",
      "Episode:443 meanR:222.4500 R:212.0000 rate:0.4240 aloss:1.0039 eloss:-4.7324 aloss2:18.8801 exploreP:0.0269\n",
      "Episode:444 meanR:222.9200 R:238.0000 rate:0.4760 aloss:1.0565 eloss:-4.1848 aloss2:18.8489 exploreP:0.0265\n"
     ]
    }
   ],
   "source": [
    "# Save/load the model and save for plotting\n",
    "saver = tf.train.Saver()\n",
    "episode_rewards_list, rewards_list = [], []\n",
    "aloss_list, eloss_list, aloss2_list = [], [], []\n",
    "\n",
    "# TF session for training\n",
    "with tf.Session(graph=graph) as sess:\n",
    "    sess.run(tf.global_variables_initializer())\n",
    "    #saver.restore(sess, 'checkpoints/model.ckpt')    \n",
    "    #saver.restore(sess, tf.train.latest_checkpoint('checkpoints'))\n",
    "    total_step = 0 # Explore or exploit parameter\n",
    "    episode_reward = deque(maxlen=100) # 100 episodes for running average/running mean/window\n",
    "\n",
    "    # Training episodes/epochs\n",
    "    for ep in range(11111):\n",
    "        aloss_batch, eloss_batch, aloss2_batch = [], [], []\n",
    "        total_reward = 0\n",
    "        state = env.reset()\n",
    "        num_step = 0\n",
    "        rate = -1\n",
    "\n",
    "        # Training steps/batches\n",
    "        while True:\n",
    "            # Explore (env) or Exploit (model)\n",
    "            total_step += 1\n",
    "            explore_p = explore_stop + (explore_start - explore_stop) * np.exp(-decay_rate * total_step) \n",
    "            if explore_p > np.random.rand():\n",
    "                action = env.action_space.sample()\n",
    "            else:\n",
    "                action_logits = sess.run(model.actions_logits, feed_dict={model.states: state.reshape([1, -1])})\n",
    "                action = np.argmax(action_logits)\n",
    "            next_state, reward, done, _ = env.step(action)\n",
    "            memory.buffer.append([state, action, next_state, reward, float(done), rate])\n",
    "            num_step += 1 # momory added\n",
    "            total_reward += reward\n",
    "            state = next_state\n",
    "            \n",
    "            # Training with the maxrated minibatch\n",
    "            batch = memory.buffer\n",
    "            #for idx in range(memory_size// batch_size):\n",
    "            while True:\n",
    "                idx = np.random.choice(np.arange(memory_size// batch_size))\n",
    "                states = np.array([each[0] for each in batch])[idx*batch_size:(idx+1)*batch_size]\n",
    "                actions = np.array([each[1] for each in batch])[idx*batch_size:(idx+1)*batch_size]\n",
    "                next_states = np.array([each[2] for each in batch])[idx*batch_size:(idx+1)*batch_size]\n",
    "                rewards = np.array([each[3] for each in batch])[idx*batch_size:(idx+1)*batch_size]\n",
    "                dones = np.array([each[4] for each in batch])[idx*batch_size:(idx+1)*batch_size]\n",
    "                rates = np.array([each[5] for each in batch])[idx*batch_size:(idx+1)*batch_size]\n",
    "                states = states[rates >= np.max(rates)]\n",
    "                actions = actions[rates >= np.max(rates)]\n",
    "                next_states = next_states[rates >= np.max(rates)]\n",
    "                rewards = rewards[rates >= np.max(rates)]\n",
    "                dones = dones[rates >= np.max(rates)]\n",
    "                rates = rates[rates >= np.max(rates)]\n",
    "                if np.count_nonzero(dones) > 0 and len(dones) > 1 and np.max(rates) > 0:\n",
    "                    break\n",
    "            aloss, _ = sess.run([model.a_loss, model.a_opt],\n",
    "                                  feed_dict = {model.states: states, \n",
    "                                               model.actions: actions,\n",
    "                                               model.next_states: next_states,\n",
    "                                               model.rewards: rewards,\n",
    "                                               model.dones: dones,\n",
    "                                               model.rates: rates})\n",
    "            eloss, _ = sess.run([model.e_loss, model.e_opt],\n",
    "                                  feed_dict = {model.states: states, \n",
    "                                               model.actions: actions,\n",
    "                                               model.next_states: next_states,\n",
    "                                               model.rewards: rewards,\n",
    "                                               model.dones: dones,\n",
    "                                               model.rates: rates})\n",
    "            aloss2, _= sess.run([model.a_loss2, model.a_opt2], \n",
    "                                 feed_dict = {model.states: states, \n",
    "                                              model.actions: actions,\n",
    "                                              model.next_states: next_states,\n",
    "                                              model.rewards: rewards,\n",
    "                                              model.dones: dones,\n",
    "                                              model.rates: rates})\n",
    "            # print(len(dones), np.count_nonzero(dones), np.max(rates))\n",
    "            aloss_batch.append(aloss)\n",
    "            eloss_batch.append(eloss)\n",
    "            aloss2_batch.append(aloss2)\n",
    "            if done is True:\n",
    "                break\n",
    "                \n",
    "        # Rating the latest played episode\n",
    "        rate = total_reward/500 # update rate at the end/ when episode is done\n",
    "        for idx in range(num_step): # episode length\n",
    "            if memory.buffer[-1-idx][-1] == -1: # double-check the landmark/marked indexes\n",
    "                memory.buffer[-1-idx][-1] = rate # rate the trajectory/data\n",
    "\n",
    "        # Print out\n",
    "        episode_reward.append(total_reward)\n",
    "        print('Episode:{}'.format(ep),\n",
    "              'meanR:{:.4f}'.format(np.mean(episode_reward)),\n",
    "              'R:{:.4f}'.format(total_reward),\n",
    "              'rate:{:.4f}'.format(rate),\n",
    "              'aloss:{:.4f}'.format(np.mean(aloss_batch)),\n",
    "              'eloss:{:.4f}'.format(np.mean(eloss_batch)),\n",
    "              'aloss2:{:.4f}'.format(np.mean(aloss2_batch)),\n",
    "              'exploreP:{:.4f}'.format(explore_p))\n",
    "\n",
    "        # Ploting out\n",
    "        episode_rewards_list.append([ep, np.mean(episode_reward)])\n",
    "        rewards_list.append([ep, total_reward])\n",
    "        aloss_list.append([ep, np.mean(aloss_batch)])\n",
    "        eloss_list.append([ep, np.mean(eloss_batch)])\n",
    "        aloss2_list.append([ep, np.mean(aloss2_batch)])\n",
    "        \n",
    "        # Break episode/epoch loop\n",
    "        ## Option 1: Solve the First Version\n",
    "        #The task is episodic, and in order to solve the environment, \n",
    "        #your agent must get an average score of +30 over 100 consecutive episodes.\n",
    "        if np.mean(episode_reward) >= 500:\n",
    "            break\n",
    "            \n",
    "    # At the end of all training episodes/epochs\n",
    "    saver.save(sess, 'checkpoints/model.ckpt')"
   ]
  },
  {
   "cell_type": "markdown",
   "metadata": {},
   "source": [
    "# Visualizing training\n",
    "\n",
    "Below I'll plot the total rewards for each episode. I'm plotting the rolling average too, in blue."
   ]
  },
  {
   "cell_type": "code",
   "execution_count": 15,
   "metadata": {},
   "outputs": [],
   "source": [
    "import matplotlib.pyplot as plt\n",
    "%matplotlib inline\n",
    "\n",
    "def running_mean(x, N):\n",
    "    cumsum = np.cumsum(np.insert(x, 0, 0)) \n",
    "    return (cumsum[N:] - cumsum[:-N]) / N "
   ]
  },
  {
   "cell_type": "code",
   "execution_count": 16,
   "metadata": {},
   "outputs": [
    {
     "data": {
      "text/plain": [
       "Text(0, 0.5, 'Total rewards')"
      ]
     },
     "execution_count": 16,
     "metadata": {},
     "output_type": "execute_result"
    },
    {
     "data": {
      "image/png": "[encoded data removed]",
      "text/plain": [
       "<Figure size 432x288 with 1 Axes>"
      ]
     },
     "metadata": {
      "needs_background": "light"
     },
     "output_type": "display_data"
    }
   ],
   "source": [
    "eps, arr = np.array(episode_rewards_list).T\n",
    "smoothed_arr = running_mean(arr, 10)\n",
    "plt.plot(eps[-len(smoothed_arr):], smoothed_arr)\n",
    "plt.plot(eps, arr, color='grey', alpha=0.3)\n",
    "plt.xlabel('Episode')\n",
    "plt.ylabel('Total rewards')"
   ]
  },
  {
   "cell_type": "code",
   "execution_count": 17,
   "metadata": {},
   "outputs": [
    {
     "data": {
      "text/plain": [
       "Text(0, 0.5, 'Total rewards')"
      ]
     },
     "execution_count": 17,
     "metadata": {},
     "output_type": "execute_result"
    },
    {
     "data": {
      "image/png": "[encoded data removed]",
      "text/plain": [
       "<Figure size 432x288 with 1 Axes>"
      ]
     },
     "metadata": {
      "needs_background": "light"
     },
     "output_type": "display_data"
    }
   ],
   "source": [
    "eps, arr = np.array(rewards_list).T\n",
    "smoothed_arr = running_mean(arr, 10)\n",
    "plt.plot(eps[-len(smoothed_arr):], smoothed_arr)\n",
    "plt.plot(eps, arr, color='grey', alpha=0.3)\n",
    "plt.xlabel('Episode')\n",
    "plt.ylabel('Total rewards')"
   ]
  },
  {
   "cell_type": "code",
   "execution_count": 18,
   "metadata": {},
   "outputs": [
    {
     "data": {
      "text/plain": [
       "Text(0, 0.5, 'Act losses')"
      ]
     },
     "execution_count": 18,
     "metadata": {},
     "output_type": "execute_result"
    },
    {
     "data": {
      "image/png": "[encoded data removed]",
      "text/plain": [
       "<Figure size 432x288 with 1 Axes>"
      ]
     },
     "metadata": {
      "needs_background": "light"
     },
     "output_type": "display_data"
    }
   ],
   "source": [
    "eps, arr = np.array(aloss_list).T\n",
    "smoothed_arr = running_mean(arr, 10)\n",
    "plt.plot(eps[-len(smoothed_arr):], smoothed_arr)\n",
    "plt.plot(eps, arr, color='grey', alpha=0.3)\n",
    "plt.xlabel('Episode')\n",
    "plt.ylabel('Act losses')"
   ]
  },
  {
   "cell_type": "code",
   "execution_count": 19,
   "metadata": {},
   "outputs": [
    {
     "data": {
      "text/plain": [
       "Text(0, 0.5, 'Env losses')"
      ]
     },
     "execution_count": 19,
     "metadata": {},
     "output_type": "execute_result"
    },
    {
     "data": {
      "image/png": "[encoded data removed]",
      "text/plain": [
       "<Figure size 432x288 with 1 Axes>"
      ]
     },
     "metadata": {
      "needs_background": "light"
     },
     "output_type": "display_data"
    }
   ],
   "source": [
    "eps, arr = np.array(eloss_list).T\n",
    "smoothed_arr = running_mean(arr, 10)\n",
    "plt.plot(eps[-len(smoothed_arr):], smoothed_arr)\n",
    "plt.plot(eps, arr, color='grey', alpha=0.3)\n",
    "plt.xlabel('Episode')\n",
    "plt.ylabel('Env losses')"
   ]
  },
  {
   "cell_type": "code",
   "execution_count": 20,
   "metadata": {},
   "outputs": [
    {
     "data": {
      "text/plain": [
       "Text(0, 0.5, 'Act losses 2')"
      ]
     },
     "execution_count": 20,
     "metadata": {},
     "output_type": "execute_result"
    },
    {
     "data": {
      "image/png": "[encoded data removed]",
      "text/plain": [
       "<Figure size 432x288 with 1 Axes>"
      ]
     },
     "metadata": {
      "needs_background": "light"
     },
     "output_type": "display_data"
    }
   ],
   "source": [
    "eps, arr = np.array(aloss2_list).T\n",
    "smoothed_arr = running_mean(arr, 10)\n",
    "plt.plot(eps[-len(smoothed_arr):], smoothed_arr)\n",
    "plt.plot(eps, arr, color='grey', alpha=0.3)\n",
    "plt.xlabel('Episode')\n",
    "plt.ylabel('Act losses 2')"
   ]
  },
  {
   "cell_type": "markdown",
   "metadata": {},
   "source": [
    "## Testing\n",
    "\n",
    "Let's checkout how our trained agent plays the game."
   ]
  },
  {
   "cell_type": "code",
   "execution_count": 24,
   "metadata": {},
   "outputs": [
    {
     "name": "stdout",
     "output_type": "stream",
     "text": [
      "INFO:tensorflow:Restoring parameters from checkpoints/model.ckpt\n",
      "total_reward: 500.0\n",
      "total_reward: 500.0\n",
      "total_reward: 500.0\n",
      "total_reward: 500.0\n",
      "total_reward: 500.0\n",
      "total_reward: 500.0\n",
      "total_reward: 500.0\n",
      "total_reward: 500.0\n",
      "total_reward: 500.0\n",
      "total_reward: 500.0\n"
     ]
    }
   ],
   "source": [
    "import gym\n",
    "env = gym.make('CartPole-v0')\n",
    "env = gym.make('CartPole-v1')\n",
    "\n",
    "with tf.Session() as sess:\n",
    "    sess.run(tf.global_variables_initializer())\n",
    "    saver.restore(sess, 'checkpoints/model.ckpt')    \n",
    "    #saver.restore(sess, tf.train.latest_checkpoint('checkpoints'))\n",
    "    \n",
    "    # Episodes/epochs\n",
    "    for _ in range(10):\n",
    "        state = env.reset()\n",
    "        total_reward = 0\n",
    "\n",
    "        # Steps/batches\n",
    "        while True:\n",
    "            env.render()\n",
    "            action_logits = sess.run(model.actions_logits, feed_dict={model.states: state.reshape([1, -1])})\n",
    "            action = np.argmax(action_logits)\n",
    "            state, reward, done, _ = env.step(action)\n",
    "            total_reward += reward\n",
    "            if done:\n",
    "                print('total_reward: {}'.format(total_reward))\n",
    "                break\n",
    "                \n",
    "env.close()"
   ]
  },
  {
   "cell_type": "code",
   "execution_count": null,
   "metadata": {},
   "outputs": [],
   "source": []
  }
 ],
 "metadata": {
  "kernelspec": {
   "display_name": "Python 3",
   "language": "python",
   "name": "python3"
  },
  "language_info": {
   "codemirror_mode": {
    "name": "ipython",
    "version": 3
   },
   "file_extension": ".py",
   "mimetype": "text/x-python",
   "name": "python",
   "nbconvert_exporter": "python",
   "pygments_lexer": "ipython3",
   "version": "3.6.6"
  }
 },
 "nbformat": 4,
 "nbformat_minor": 2
}
