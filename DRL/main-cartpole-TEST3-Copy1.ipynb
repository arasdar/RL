{
 "cells": [
  {
   "cell_type": "markdown",
   "metadata": {},
   "source": [
    "# DQN with rated memory replay\n",
    "\n",
    "In this notebook, we'll build a neural network that can learn to play games through reinforcement learning. More specifically, we'll use Q-learning to train an agent to play a game called [Cart-Pole](https://gym.openai.com/envs/CartPole-v0). In this game, a freely swinging pole is attached to a cart. The cart can move to the left and right, and the goal is to keep the pole upright as long as possible.\n",
    "\n",
    "![Cart-Pole](assets/cart-pole.jpg)\n",
    "\n",
    "We can simulate this game using [OpenAI Gym](https://gym.openai.com/). First, let's check out how OpenAI Gym works. Then, we'll get into training an agent to play the Cart-Pole game."
   ]
  },
  {
   "cell_type": "code",
   "execution_count": 5,
   "metadata": {},
   "outputs": [
    {
     "name": "stdout",
     "output_type": "stream",
     "text": [
      "TensorFlow Version: 1.7.1\n",
      "Default GPU Device: /device:GPU:0\n"
     ]
    }
   ],
   "source": [
    "# In this one we should define and detect GPUs for tensorflow\n",
    "# GPUs or CPU\n",
    "import tensorflow as tf\n",
    "\n",
    "# Check TensorFlow Version\n",
    "print('TensorFlow Version: {}'.format(tf.__version__))\n",
    "\n",
    "# Check for a GPU\n",
    "print('Default GPU Device: {}'.format(tf.test.gpu_device_name()))"
   ]
  },
  {
   "cell_type": "markdown",
   "metadata": {},
   "source": [
    ">**Note:** Make sure you have OpenAI Gym cloned into the same directory with this notebook. I've included `gym` as a submodule, so you can run `git submodule --init --recursive` to pull the contents into the `gym` repo."
   ]
  },
  {
   "cell_type": "markdown",
   "metadata": {},
   "source": [
    ">**Note:** Make sure you have OpenAI Gym cloned. Then run this command `pip install -e gym/[all]`."
   ]
  },
  {
   "cell_type": "code",
   "execution_count": 6,
   "metadata": {},
   "outputs": [],
   "source": [
    "import gym\n",
    "\n",
    "## Create the Cart-Pole game environment\n",
    "env = gym.make('CartPole-v0')\n",
    "env = gym.make('CartPole-v1')"
   ]
  },
  {
   "cell_type": "markdown",
   "metadata": {},
   "source": [
    "We interact with the simulation through `env`. To show the simulation running, you can use `env.render()` to render one frame. Passing in an action as an integer to `env.step` will generate the next step in the simulation.  You can see how many actions are possible from `env.action_space` and to get a random action you can use `env.action_space.sample()`. This is general to all Gym games. In the Cart-Pole game, there are two possible actions, moving the cart left or right. So there are two actions we can take, encoded as 0 and 1.\n",
    "\n",
    "Run the code below to watch the simulation run."
   ]
  },
  {
   "cell_type": "code",
   "execution_count": 7,
   "metadata": {},
   "outputs": [],
   "source": [
    "import numpy as np\n",
    "\n",
    "state = env.reset()\n",
    "batch = []\n",
    "for _ in range(1000):\n",
    "    # env.render()\n",
    "    action = env.action_space.sample()\n",
    "    next_state, reward, done, info = env.step(action) # take a random action\n",
    "    batch.append([state, action, next_state, reward, float(done)])\n",
    "    #     print('state, action, reward, done, info:', \n",
    "    #           state, action, reward, done, info)\n",
    "    state = next_state\n",
    "    if done:\n",
    "        state = env.reset()"
   ]
  },
  {
   "cell_type": "markdown",
   "metadata": {},
   "source": [
    "To shut the window showing the simulation, use `env.close()`."
   ]
  },
  {
   "cell_type": "markdown",
   "metadata": {},
   "source": [
    "If you ran the simulation above, we can look at the rewards:"
   ]
  },
  {
   "cell_type": "code",
   "execution_count": 8,
   "metadata": {},
   "outputs": [
    {
     "data": {
      "text/plain": [
       "([array([-0.0324993 , -0.02185292, -0.04648471, -0.02523973]),\n",
       "  0,\n",
       "  array([-0.03293636, -0.21627849, -0.0469895 ,  0.252422  ]),\n",
       "  1.0,\n",
       "  0.0],\n",
       " (4,))"
      ]
     },
     "execution_count": 8,
     "metadata": {},
     "output_type": "execute_result"
    }
   ],
   "source": [
    "batch[0], batch[0][0].shape"
   ]
  },
  {
   "cell_type": "code",
   "execution_count": 9,
   "metadata": {},
   "outputs": [],
   "source": [
    "states = np.array([each[0] for each in batch])\n",
    "actions = np.array([each[1] for each in batch])\n",
    "next_states = np.array([each[2] for each in batch])\n",
    "rewards = np.array([each[3] for each in batch])\n",
    "dones = np.array([each[4] for each in batch])"
   ]
  },
  {
   "cell_type": "code",
   "execution_count": 10,
   "metadata": {},
   "outputs": [
    {
     "name": "stdout",
     "output_type": "stream",
     "text": [
      "[1. 1. 1. 1. 1. 1. 1. 1. 1. 1. 1. 1. 1. 1. 1. 1. 1. 1. 1. 1.]\n",
      "(1000,) (1000, 4) (1000,) (1000,)\n",
      "float64 float64 int64 float64\n",
      "1 0\n",
      "2\n",
      "1.0 1.0\n",
      "2.7278813206954604 -2.5236262086621473\n"
     ]
    }
   ],
   "source": [
    "print(rewards[-20:])\n",
    "print(np.array(rewards).shape, np.array(states).shape, np.array(actions).shape, np.array(dones).shape)\n",
    "print(np.array(rewards).dtype, np.array(states).dtype, np.array(actions).dtype, np.array(dones).dtype)\n",
    "print(np.max(np.array(actions)), np.min(np.array(actions)))\n",
    "print((np.max(np.array(actions)) - np.min(np.array(actions)))+1)\n",
    "print(np.max(np.array(rewards)), np.min(np.array(rewards)))\n",
    "print(np.max(np.array(states)), np.min(np.array(states)))"
   ]
  },
  {
   "cell_type": "markdown",
   "metadata": {},
   "source": [
    "The game resets after the pole has fallen past a certain angle. For each frame while the simulation is running, it returns a reward of 1.0. The longer the game runs, the more reward we get. Then, our network's goal is to maximize the reward by keeping the pole vertical. It will do this by moving the cart to the left and the right."
   ]
  },
  {
   "cell_type": "markdown",
   "metadata": {},
   "source": [
    "## Q-Network\n",
    "\n",
    "We train our Q-learning agent using the Bellman Equation:\n",
    "\n",
    "$$\n",
    "Q(s, a) = r + \\gamma \\max{Q(s', a')}\n",
    "$$\n",
    "\n",
    "where $s$ is a state, $a$ is an action, and $s'$ is the next state from state $s$ and action $a$.\n",
    "\n",
    "Before we used this equation to learn values for a Q-_table_. However, for this game there are a huge number of states available. The state has four values: the position and velocity of the cart, and the position and velocity of the pole. These are all real-valued numbers, so ignoring floating point precisions, you practically have infinite states. Instead of using a table then, we'll replace it with a neural network that will approximate the Q-table lookup function.\n",
    "\n",
    "<img src=\"assets/deep-q-learning.png\" width=450px>\n",
    "\n",
    "Now, our Q value, $Q(s, a)$ is calculated by passing in a state to the network. The output will be Q-values for each available action, with fully connected hidden layers.\n",
    "\n",
    "<img src=\"assets/q-network.png\" width=550px>\n",
    "\n",
    "\n",
    "As I showed before, we can define our targets for training as $\\hat{Q}(s,a) = r + \\gamma \\max{Q(s', a')}$. Then we update the weights by minimizing $(\\hat{Q}(s,a) - Q(s,a))^2$. \n",
    "\n",
    "For this Cart-Pole game, we have four inputs, one for each value in the state, and two outputs, one for each action. To get $\\hat{Q}$, we'll first choose an action, then simulate the game using that action. This will get us the next state, $s'$, and the reward. With that, we can calculate $\\hat{Q}$ then pass it back into the $Q$ network to run the optimizer and update the weights.\n",
    "\n",
    "Below is my implementation of the Q-network. I used two fully connected layers with ReLU activations. Two seems to be good enough, three might be better. Feel free to try it out."
   ]
  },
  {
   "cell_type": "code",
   "execution_count": 11,
   "metadata": {},
   "outputs": [],
   "source": [
    "def model_input(state_size):\n",
    "    states = tf.placeholder(tf.float32, [None, state_size], name='states')\n",
    "    actions = tf.placeholder(tf.int32, [None], name='actions')\n",
    "    targetQs = tf.placeholder(tf.float32, [None], name='targetQs')\n",
    "    return states, actions, targetQs"
   ]
  },
  {
   "cell_type": "code",
   "execution_count": 12,
   "metadata": {},
   "outputs": [],
   "source": [
    "# Generator: Generating/prediting the actions\n",
    "def generator(states, action_size, hidden_size, reuse=False, alpha=0.1, training=False):\n",
    "    with tf.variable_scope('generator', reuse=reuse):\n",
    "        # First fully connected layer\n",
    "        h1 = tf.layers.dense(inputs=states, units=hidden_size)\n",
    "        bn1 = tf.layers.batch_normalization(h1, training=training)        \n",
    "        nl1 = tf.maximum(alpha * bn1, bn1)\n",
    "        \n",
    "        # Second fully connected layer\n",
    "        h2 = tf.layers.dense(inputs=nl1, units=hidden_size)\n",
    "        bn2 = tf.layers.batch_normalization(h2, training=training)        \n",
    "        nl2 = tf.maximum(alpha * bn2, bn2)\n",
    "        \n",
    "        # Output layer\n",
    "        logits = tf.layers.dense(inputs=nl2, units=action_size)        \n",
    "        #predictions = tf.nn.softmax(logits)\n",
    "\n",
    "        # return actions logits\n",
    "        return logits"
   ]
  },
  {
   "cell_type": "code",
   "execution_count": 13,
   "metadata": {},
   "outputs": [],
   "source": [
    "def model_loss(states, actions, targetQs, action_size, hidden_size):\n",
    "    actions_logits = generator(states=states, hidden_size=hidden_size, action_size=action_size)\n",
    "    actions_labels = tf.one_hot(indices=actions, depth=action_size, dtype=actions_logits.dtype)\n",
    "    Qs = tf.reduce_max(actions_logits*actions_labels, axis=1)\n",
    "    #Qs = tf.reduce_max(actions_logits, axis=1)\n",
    "    loss = tf.reduce_mean(tf.square(Qs - targetQs))\n",
    "    return actions_logits, loss"
   ]
  },
  {
   "cell_type": "code",
   "execution_count": 14,
   "metadata": {},
   "outputs": [],
   "source": [
    "def model_opt(loss, learning_rate):\n",
    "    # Get weights and bias to update\n",
    "    t_vars = tf.trainable_variables()\n",
    "    g_vars = [var for var in t_vars if var.name.startswith('generator')]\n",
    "\n",
    "    # Optimize\n",
    "    with tf.control_dependencies(tf.get_collection(tf.GraphKeys.UPDATE_OPS)): # Required for batchnorm (BN)\n",
    "        opt = tf.train.AdamOptimizer(learning_rate).minimize(loss, var_list=g_vars)\n",
    "\n",
    "    return opt"
   ]
  },
  {
   "cell_type": "code",
   "execution_count": 15,
   "metadata": {},
   "outputs": [],
   "source": [
    "class Model:\n",
    "    def __init__(self, state_size, action_size, hidden_size, learning_rate):\n",
    "\n",
    "        # Data of the Model: make the data available inside the framework\n",
    "        self.states, self.actions, self.targetQs = model_input(state_size=state_size)\n",
    "\n",
    "        # Create the Model: calculating the loss and forwad pass\n",
    "        self.actions_logits, self.loss = model_loss(\n",
    "            action_size=action_size, hidden_size=hidden_size, # model init parameters\n",
    "            states=self.states, actions=self.actions, targetQs=self.targetQs) # model input\n",
    "\n",
    "        # Update the model: backward pass and backprop\n",
    "        self.opt = model_opt(loss=self.loss, learning_rate=learning_rate)"
   ]
  },
  {
   "cell_type": "markdown",
   "metadata": {},
   "source": [
    "## Experience replay\n",
    "\n",
    "Reinforcement learning algorithms can have stability issues due to correlations between states. To reduce correlations when training, we can store the agent's experiences and later draw a random mini-batch of those experiences to train on. \n",
    "\n",
    "Here, we'll create a `Memory` object that will store our experiences, our transitions $<s, a, r, s'>$. This memory will have a maxmium capacity, so we can keep newer experiences in memory while getting rid of older experiences. Then, we'll sample a random mini-batch of transitions $<s, a, r, s'>$ and train on those.\n",
    "\n",
    "Below, I've implemented a `Memory` object. If you're unfamiliar with `deque`, this is a double-ended queue. You can think of it like a tube open on both sides. You can put objects in either side of the tube. But if it's full, adding anything more will push an object out the other side. This is a great data structure to use for the memory buffer."
   ]
  },
  {
   "cell_type": "code",
   "execution_count": 16,
   "metadata": {},
   "outputs": [],
   "source": [
    "def sample(batch_size, ListArr):\n",
    "    idx = np.random.choice(np.arange(len(ListArr)), \n",
    "                           size=batch_size, \n",
    "                           replace=True)\n",
    "    return [ListArr[ii] for ii in idx]"
   ]
  },
  {
   "cell_type": "code",
   "execution_count": 17,
   "metadata": {},
   "outputs": [],
   "source": [
    "from collections import deque\n",
    "class Memory():\n",
    "    def __init__(self, max_size = 1000):\n",
    "        self.buffer = deque(maxlen=max_size)\n",
    "#     def sample(self, batch_size):\n",
    "#         idx = np.random.choice(np.arange(len(self.buffer)), \n",
    "#                                size=batch_size, \n",
    "#                                replace=False)\n",
    "#         return [self.buffer[ii] for ii in idx]"
   ]
  },
  {
   "cell_type": "markdown",
   "metadata": {},
   "source": [
    "## Exploration - Exploitation\n",
    "\n",
    "To learn about the environment and rules of the game, the agent needs to explore by taking random actions. We'll do this by choosing a random action with some probability $\\epsilon$ (epsilon).  That is, with some probability $\\epsilon$ the agent will make a random action and with probability $1 - \\epsilon$, the agent will choose an action from $Q(s,a)$. This is called an **$\\epsilon$-greedy policy**.\n",
    "\n",
    "\n",
    "At first, the agent needs to do a lot of exploring. Later when it has learned more, the agent can favor choosing actions based on what it has learned. This is called _exploitation_. We'll set it up so the agent is more likely to explore early in training, then more likely to exploit later in training."
   ]
  },
  {
   "cell_type": "markdown",
   "metadata": {},
   "source": [
    "## Q-Learning training algorithm\n",
    "\n",
    "Putting all this together, we can list out the algorithm we'll use to train the network. We'll train the network in _episodes_. One *episode* is one simulation of the game. For this game, the goal is to keep the pole upright for 195 frames. So we can start a new episode once meeting that goal. The game ends if the pole tilts over too far, or if the cart moves too far the left or right. When a game ends, we'll start a new episode. Now, to train the agent:\n",
    "\n",
    "* Initialize the memory $D$\n",
    "* Initialize the action-value network $Q$ with random weights\n",
    "* **For** episode = 1, $M$ **do**\n",
    "  * **For** $t$, $T$ **do**\n",
    "     * With probability $\\epsilon$ select a random action $a_t$, otherwise select $a_t = \\mathrm{argmax}_a Q(s,a)$\n",
    "     * Execute action $a_t$ in simulator and observe reward $r_{t+1}$ and new state $s_{t+1}$\n",
    "     * Store transition $<s_t, a_t, r_{t+1}, s_{t+1}>$ in memory $D$\n",
    "     * Sample random mini-batch from $D$: $<s_j, a_j, r_j, s'_j>$\n",
    "     * Set $\\hat{Q}_j = r_j$ if the episode ends at $j+1$, otherwise set $\\hat{Q}_j = r_j + \\gamma \\max_{a'}{Q(s'_j, a')}$\n",
    "     * Make a gradient descent step with loss $(\\hat{Q}_j - Q(s_j, a_j))^2$\n",
    "  * **endfor**\n",
    "* **endfor**"
   ]
  },
  {
   "cell_type": "markdown",
   "metadata": {},
   "source": [
    "## Hyperparameters\n",
    "\n",
    "One of the more difficult aspects of reinforcememt learning are the large number of hyperparameters. Not only are we tuning the network, but we're tuning the simulation."
   ]
  },
  {
   "cell_type": "code",
   "execution_count": 18,
   "metadata": {},
   "outputs": [
    {
     "data": {
      "text/plain": [
       "(Box(4,), Discrete(2))"
      ]
     },
     "execution_count": 18,
     "metadata": {},
     "output_type": "execute_result"
    }
   ],
   "source": [
    "env.observation_space, env.action_space"
   ]
  },
  {
   "cell_type": "code",
   "execution_count": 19,
   "metadata": {},
   "outputs": [],
   "source": [
    "# Exploration parameters\n",
    "explore_start = 1.0            # exploration probability at start\n",
    "explore_stop = 0.01           # minimum exploration probability \n",
    "decay_rate = 0.0001            # exponential decay rate for exploration prob\n",
    "\n",
    "# Network parameters\n",
    "state_size = 4\n",
    "action_size = 2\n",
    "hidden_size = 24*2             # number of units in each Q-network hidden layer\n",
    "learning_rate = 1e-4         # Q-network learning rate\n",
    "\n",
    "# Memory parameters\n",
    "memory_size = int(1e5)            # memory capacity\n",
    "batch_size = int(1e2)             # experience mini-batch size\n",
    "gamma = 0.99                   # future reward discount"
   ]
  },
  {
   "cell_type": "code",
   "execution_count": 20,
   "metadata": {},
   "outputs": [],
   "source": [
    "# Reset/init the graph/session\n",
    "graph = tf.reset_default_graph()\n",
    "\n",
    "# Init the model\n",
    "model = Model(action_size=action_size, hidden_size=hidden_size, state_size=state_size, learning_rate=learning_rate)\n",
    "\n",
    "# Init the memory\n",
    "memory = Memory(max_size=memory_size)"
   ]
  },
  {
   "cell_type": "markdown",
   "metadata": {},
   "source": [
    "## Populate the memory (exprience memory)\n",
    "\n",
    "Here I'm re-initializing the simulation and pre-populating the memory. The agent is taking random actions and storing the transitions in memory. This will help the agent with exploring the game."
   ]
  },
  {
   "cell_type": "code",
   "execution_count": 21,
   "metadata": {},
   "outputs": [],
   "source": [
    "# Initializing the memory with the pool of random exploration of the env.\n",
    "goal = 500 # env-based, the total reward required for reaching the goal G\n",
    "state = env.reset() # env-based\n",
    "total_reward = 0 # episode R\n",
    "num_step = 0 # episode steps/ length based on number of steps\n",
    "for _ in range(memory_size):\n",
    "    action = env.action_space.sample() # exploring the env action space/ random action/ explore\n",
    "    next_state, reward, done, _ = env.step(action) # exploring the env state, reward, and done/end\n",
    "    memory.buffer.append([state, action, next_state, reward, float(done), -1])\n",
    "    num_step += 1 # memory incremented\n",
    "    total_reward += reward # R += r\n",
    "    state = next_state # update the state for next episode\n",
    "    if done is True: # end of this episode\n",
    "        state = env.reset() # reset for next episode\n",
    "        rate = total_reward/goal # the actual sucess rate of the played sequence\n",
    "        total_reward = 0 # reset for next episode\n",
    "        for idx in range(num_step): # episode length\n",
    "            if memory.buffer[-1-idx][5] == -1: # double-check if it is empty and it is not rated!\n",
    "                memory.buffer[-1-idx][5] = rate # rate each SA pair\n",
    "        num_step = 0 # reset for the next episode"
   ]
  },
  {
   "cell_type": "code",
   "execution_count": 35,
   "metadata": {},
   "outputs": [],
   "source": [
    "rates = np.array(memory.buffer)[:, 5]\n",
    "rated_mem = np.array(memory.buffer)[rates >= (max(rates)*0.5)]"
   ]
  },
  {
   "cell_type": "code",
   "execution_count": 40,
   "metadata": {},
   "outputs": [],
   "source": [
    "batch = sample(ListArr=rated_mem, batch_size=batch_size)\n",
    "states = np.array([each[0] for each in batch])\n",
    "actions = np.array([each[1] for each in batch])\n",
    "next_states = np.array([each[2] for each in batch])\n",
    "rewards = np.array([each[3] for each in batch])\n",
    "dones = np.array([each[4] for each in batch])\n",
    "rates = np.array([each[5] for each in batch])"
   ]
  },
  {
   "cell_type": "code",
   "execution_count": 41,
   "metadata": {},
   "outputs": [
    {
     "data": {
      "text/plain": [
       "((100, 4),\n",
       " dtype('float64'),\n",
       " (100,),\n",
       " dtype('int64'),\n",
       " (100, 4),\n",
       " dtype('float64'),\n",
       " (100,),\n",
       " dtype('float64'),\n",
       " (100,),\n",
       " dtype('float64'),\n",
       " (100,),\n",
       " dtype('float64'))"
      ]
     },
     "execution_count": 41,
     "metadata": {},
     "output_type": "execute_result"
    }
   ],
   "source": [
    "states.shape, states.dtype, actions.shape, actions.dtype, next_states.shape, next_states.dtype, \\\n",
    "rewards.shape, rewards.dtype, dones.shape, dones.dtype, rates.shape, rates.dtype"
   ]
  },
  {
   "cell_type": "code",
   "execution_count": 43,
   "metadata": {},
   "outputs": [
    {
     "data": {
      "text/plain": [
       "array([0.154, 0.144, 0.166, 0.126, 0.154, 0.18 , 0.146, 0.134, 0.17 ,\n",
       "       0.132, 0.146, 0.158, 0.144, 0.126, 0.154, 0.156, 0.154, 0.128,\n",
       "       0.166, 0.138, 0.18 , 0.136, 0.132, 0.128, 0.158, 0.17 , 0.126,\n",
       "       0.126, 0.13 , 0.146, 0.252, 0.15 , 0.136, 0.146, 0.134, 0.132,\n",
       "       0.126, 0.132, 0.132, 0.128, 0.126, 0.128, 0.178, 0.126, 0.138,\n",
       "       0.154, 0.156, 0.128, 0.128, 0.156, 0.146, 0.128, 0.16 , 0.142,\n",
       "       0.156, 0.14 , 0.252, 0.128, 0.128, 0.166, 0.15 , 0.154, 0.138,\n",
       "       0.126, 0.126, 0.142, 0.126, 0.178, 0.144, 0.128, 0.132, 0.19 ,\n",
       "       0.156, 0.17 , 0.17 , 0.156, 0.146, 0.154, 0.178, 0.136, 0.146,\n",
       "       0.126, 0.128, 0.154, 0.126, 0.142, 0.13 , 0.154, 0.128, 0.13 ,\n",
       "       0.158, 0.128, 0.156, 0.136, 0.158, 0.252, 0.146, 0.15 , 0.252,\n",
       "       0.136])"
      ]
     },
     "execution_count": 43,
     "metadata": {},
     "output_type": "execute_result"
    }
   ],
   "source": [
    "rates"
   ]
  },
  {
   "cell_type": "code",
   "execution_count": 45,
   "metadata": {},
   "outputs": [
    {
     "data": {
      "text/plain": [
       "array([0., 0., 0., 0., 0., 0., 0., 0., 0., 0., 0., 0., 1., 0., 0., 0., 0.,\n",
       "       0., 1., 0., 0., 0., 0., 0., 0., 0., 0., 0., 0., 0., 0., 0., 0., 0.,\n",
       "       0., 0., 0., 0., 0., 0., 0., 0., 0., 0., 0., 0., 0., 0., 0., 0., 0.,\n",
       "       0., 0., 0., 0., 0., 0., 0., 0., 0., 0., 0., 1., 0., 0., 0., 0., 0.,\n",
       "       0., 0., 0., 0., 0., 0., 0., 0., 0., 0., 0., 0., 0., 0., 0., 0., 0.,\n",
       "       0., 0., 0., 0., 0., 0., 0., 0., 0., 0., 0., 0., 0., 0., 0.])"
      ]
     },
     "execution_count": 45,
     "metadata": {},
     "output_type": "execute_result"
    }
   ],
   "source": [
    "dones"
   ]
  },
  {
   "cell_type": "markdown",
   "metadata": {},
   "source": [
    "## Training the model\n",
    "\n",
    "Below we'll train our agent. If you want to watch it train, uncomment the `env.render()` line. This is slow because it's rendering the frames slower than the network can train. But, it's cool to watch the agent get better at the game."
   ]
  },
  {
   "cell_type": "code",
   "execution_count": null,
   "metadata": {},
   "outputs": [
    {
     "name": "stdout",
     "output_type": "stream",
     "text": [
      "Episode:0 meanR:22.0000 R:22.0 rate:0.0440 loss:1.1122 exploreP:0.9978\n",
      "Episode:1 meanR:26.0000 R:30.0 rate:0.0600 loss:1.2239 exploreP:0.9949\n",
      "Episode:2 meanR:29.0000 R:35.0 rate:0.0700 loss:1.3620 exploreP:0.9914\n",
      "Episode:3 meanR:24.5000 R:11.0 rate:0.0220 loss:1.4511 exploreP:0.9903\n",
      "Episode:4 meanR:23.4000 R:19.0 rate:0.0380 loss:1.5533 exploreP:0.9885\n",
      "Episode:5 meanR:25.5000 R:36.0 rate:0.0720 loss:1.7030 exploreP:0.9850\n",
      "Episode:6 meanR:24.0000 R:15.0 rate:0.0300 loss:1.6955 exploreP:0.9835\n",
      "Episode:7 meanR:23.6250 R:21.0 rate:0.0420 loss:1.6475 exploreP:0.9815\n",
      "Episode:8 meanR:22.4444 R:13.0 rate:0.0260 loss:1.5984 exploreP:0.9802\n",
      "Episode:9 meanR:24.7000 R:45.0 rate:0.0900 loss:1.5400 exploreP:0.9758\n",
      "Episode:10 meanR:23.9091 R:16.0 rate:0.0320 loss:1.5026 exploreP:0.9743\n",
      "Episode:11 meanR:22.9167 R:12.0 rate:0.0240 loss:1.4684 exploreP:0.9731\n",
      "Episode:12 meanR:24.0000 R:37.0 rate:0.0740 loss:1.4934 exploreP:0.9696\n",
      "Episode:13 meanR:24.4286 R:30.0 rate:0.0600 loss:1.4625 exploreP:0.9667\n",
      "Episode:14 meanR:24.0000 R:18.0 rate:0.0360 loss:1.4814 exploreP:0.9650\n",
      "Episode:15 meanR:23.3750 R:14.0 rate:0.0280 loss:1.5464 exploreP:0.9637\n",
      "Episode:16 meanR:23.0000 R:17.0 rate:0.0340 loss:1.5413 exploreP:0.9620\n",
      "Episode:17 meanR:23.2222 R:27.0 rate:0.0540 loss:1.6829 exploreP:0.9595\n",
      "Episode:18 meanR:22.6316 R:12.0 rate:0.0240 loss:1.7814 exploreP:0.9583\n",
      "Episode:19 meanR:22.6500 R:23.0 rate:0.0460 loss:1.8051 exploreP:0.9562\n",
      "Episode:20 meanR:22.5238 R:20.0 rate:0.0400 loss:2.0509 exploreP:0.9543\n",
      "Episode:21 meanR:22.0909 R:13.0 rate:0.0260 loss:2.1641 exploreP:0.9530\n",
      "Episode:22 meanR:22.1739 R:24.0 rate:0.0480 loss:2.2999 exploreP:0.9508\n",
      "Episode:23 meanR:21.8333 R:14.0 rate:0.0280 loss:2.6598 exploreP:0.9495\n",
      "Episode:24 meanR:22.1200 R:29.0 rate:0.0580 loss:2.7343 exploreP:0.9467\n",
      "Episode:25 meanR:21.8077 R:14.0 rate:0.0280 loss:2.6654 exploreP:0.9454\n",
      "Episode:26 meanR:21.5556 R:15.0 rate:0.0300 loss:2.9717 exploreP:0.9440\n",
      "Episode:27 meanR:21.5357 R:21.0 rate:0.0420 loss:3.6422 exploreP:0.9421\n",
      "Episode:28 meanR:21.2069 R:12.0 rate:0.0240 loss:3.5352 exploreP:0.9409\n",
      "Episode:29 meanR:21.8333 R:40.0 rate:0.0800 loss:4.4080 exploreP:0.9372\n",
      "Episode:30 meanR:21.6452 R:16.0 rate:0.0320 loss:4.8396 exploreP:0.9358\n",
      "Episode:31 meanR:21.6250 R:21.0 rate:0.0420 loss:5.8037 exploreP:0.9338\n",
      "Episode:32 meanR:21.7879 R:27.0 rate:0.0540 loss:6.2327 exploreP:0.9313\n",
      "Episode:33 meanR:22.0000 R:29.0 rate:0.0580 loss:7.5842 exploreP:0.9286\n",
      "Episode:34 meanR:21.9143 R:19.0 rate:0.0380 loss:6.7585 exploreP:0.9269\n",
      "Episode:35 meanR:21.7500 R:16.0 rate:0.0320 loss:6.7475 exploreP:0.9254\n",
      "Episode:36 meanR:22.5676 R:52.0 rate:0.1040 loss:10.0184 exploreP:0.9207\n",
      "Episode:37 meanR:22.4474 R:18.0 rate:0.0360 loss:12.1971 exploreP:0.9191\n",
      "Episode:38 meanR:22.2308 R:14.0 rate:0.0280 loss:12.2688 exploreP:0.9178\n",
      "Episode:39 meanR:22.4500 R:31.0 rate:0.0620 loss:12.7896 exploreP:0.9150\n",
      "Episode:40 meanR:22.3415 R:18.0 rate:0.0360 loss:13.4301 exploreP:0.9133\n",
      "Episode:41 meanR:22.2619 R:19.0 rate:0.0380 loss:13.0023 exploreP:0.9116\n",
      "Episode:42 meanR:21.9767 R:10.0 rate:0.0200 loss:15.9206 exploreP:0.9107\n",
      "Episode:43 meanR:21.7727 R:13.0 rate:0.0260 loss:14.0446 exploreP:0.9096\n",
      "Episode:44 meanR:21.6667 R:17.0 rate:0.0340 loss:15.4287 exploreP:0.9080\n",
      "Episode:45 meanR:21.6087 R:19.0 rate:0.0380 loss:19.3067 exploreP:0.9063\n",
      "Episode:46 meanR:21.4894 R:16.0 rate:0.0320 loss:23.1949 exploreP:0.9049\n",
      "Episode:47 meanR:21.9792 R:45.0 rate:0.0900 loss:25.2713 exploreP:0.9009\n",
      "Episode:48 meanR:22.6122 R:53.0 rate:0.1060 loss:31.2554 exploreP:0.8962\n",
      "Episode:49 meanR:22.5400 R:19.0 rate:0.0380 loss:32.5664 exploreP:0.8945\n",
      "Episode:50 meanR:22.3137 R:11.0 rate:0.0220 loss:32.2591 exploreP:0.8935\n",
      "Episode:51 meanR:22.1923 R:16.0 rate:0.0320 loss:41.3166 exploreP:0.8921\n",
      "Episode:52 meanR:22.0755 R:16.0 rate:0.0320 loss:31.7713 exploreP:0.8907\n",
      "Episode:53 meanR:22.0370 R:20.0 rate:0.0400 loss:27.9500 exploreP:0.8889\n",
      "Episode:54 meanR:21.8909 R:14.0 rate:0.0280 loss:40.8366 exploreP:0.8877\n",
      "Episode:55 meanR:21.7143 R:12.0 rate:0.0240 loss:41.4079 exploreP:0.8866\n",
      "Episode:56 meanR:21.7018 R:21.0 rate:0.0420 loss:42.4227 exploreP:0.8848\n",
      "Episode:57 meanR:21.6034 R:16.0 rate:0.0320 loss:48.4566 exploreP:0.8834\n",
      "Episode:58 meanR:21.4237 R:11.0 rate:0.0220 loss:53.6308 exploreP:0.8824\n",
      "Episode:59 meanR:21.2833 R:13.0 rate:0.0260 loss:60.7404 exploreP:0.8813\n",
      "Episode:60 meanR:21.2951 R:22.0 rate:0.0440 loss:53.0529 exploreP:0.8794\n",
      "Episode:61 meanR:21.2419 R:18.0 rate:0.0360 loss:49.4334 exploreP:0.8778\n",
      "Episode:62 meanR:21.1270 R:14.0 rate:0.0280 loss:53.3083 exploreP:0.8766\n",
      "Episode:63 meanR:21.2188 R:27.0 rate:0.0540 loss:44.9463 exploreP:0.8743\n",
      "Episode:64 meanR:21.1231 R:15.0 rate:0.0300 loss:60.0074 exploreP:0.8730\n",
      "Episode:65 meanR:21.3636 R:37.0 rate:0.0740 loss:51.3176 exploreP:0.8698\n",
      "Episode:66 meanR:21.4627 R:28.0 rate:0.0560 loss:47.9404 exploreP:0.8674\n",
      "Episode:67 meanR:21.3824 R:16.0 rate:0.0320 loss:63.2173 exploreP:0.8660\n",
      "Episode:68 meanR:21.3333 R:18.0 rate:0.0360 loss:60.9638 exploreP:0.8645\n",
      "Episode:69 meanR:21.2143 R:13.0 rate:0.0260 loss:63.0512 exploreP:0.8634\n",
      "Episode:70 meanR:21.2113 R:21.0 rate:0.0420 loss:57.2635 exploreP:0.8616\n",
      "Episode:71 meanR:21.0972 R:13.0 rate:0.0260 loss:74.9281 exploreP:0.8605\n",
      "Episode:72 meanR:21.3973 R:43.0 rate:0.0860 loss:58.7544 exploreP:0.8568\n",
      "Episode:73 meanR:21.2703 R:12.0 rate:0.0240 loss:67.1907 exploreP:0.8558\n",
      "Episode:74 meanR:21.2000 R:16.0 rate:0.0320 loss:68.8137 exploreP:0.8545\n",
      "Episode:75 meanR:21.2763 R:27.0 rate:0.0540 loss:74.3143 exploreP:0.8522\n",
      "Episode:76 meanR:21.1948 R:15.0 rate:0.0300 loss:60.3974 exploreP:0.8509\n",
      "Episode:77 meanR:21.0897 R:13.0 rate:0.0260 loss:64.4759 exploreP:0.8498\n",
      "Episode:78 meanR:20.9747 R:12.0 rate:0.0240 loss:50.5216 exploreP:0.8488\n",
      "Episode:79 meanR:21.1250 R:33.0 rate:0.0660 loss:71.7257 exploreP:0.8461\n",
      "Episode:80 meanR:21.0617 R:16.0 rate:0.0320 loss:70.8904 exploreP:0.8447\n",
      "Episode:81 meanR:21.0488 R:20.0 rate:0.0400 loss:70.1026 exploreP:0.8431\n",
      "Episode:82 meanR:20.9759 R:15.0 rate:0.0300 loss:67.3637 exploreP:0.8418\n",
      "Episode:83 meanR:21.2738 R:46.0 rate:0.0920 loss:59.8659 exploreP:0.8380\n",
      "Episode:84 meanR:21.2941 R:23.0 rate:0.0460 loss:74.1967 exploreP:0.8361\n",
      "Episode:85 meanR:21.1744 R:11.0 rate:0.0220 loss:53.2320 exploreP:0.8352\n",
      "Episode:86 meanR:21.1149 R:16.0 rate:0.0320 loss:79.9268 exploreP:0.8339\n",
      "Episode:87 meanR:21.0455 R:15.0 rate:0.0300 loss:50.5123 exploreP:0.8326\n",
      "Episode:88 meanR:20.9888 R:16.0 rate:0.0320 loss:64.9223 exploreP:0.8313\n",
      "Episode:89 meanR:20.9111 R:14.0 rate:0.0280 loss:56.2224 exploreP:0.8302\n",
      "Episode:90 meanR:20.8901 R:19.0 rate:0.0380 loss:46.8584 exploreP:0.8286\n",
      "Episode:91 meanR:20.8370 R:16.0 rate:0.0320 loss:55.0009 exploreP:0.8273\n",
      "Episode:92 meanR:20.8387 R:21.0 rate:0.0420 loss:48.5030 exploreP:0.8256\n",
      "Episode:93 meanR:20.8298 R:20.0 rate:0.0400 loss:52.0729 exploreP:0.8240\n",
      "Episode:94 meanR:20.7684 R:15.0 rate:0.0300 loss:49.7237 exploreP:0.8227\n",
      "Episode:95 meanR:20.8021 R:24.0 rate:0.0480 loss:55.6961 exploreP:0.8208\n",
      "Episode:96 meanR:20.8969 R:30.0 rate:0.0600 loss:54.9579 exploreP:0.8184\n",
      "Episode:97 meanR:20.8878 R:20.0 rate:0.0400 loss:44.3873 exploreP:0.8167\n",
      "Episode:98 meanR:20.7778 R:10.0 rate:0.0200 loss:53.2776 exploreP:0.8159\n",
      "Episode:99 meanR:20.6900 R:12.0 rate:0.0240 loss:45.2051 exploreP:0.8150\n",
      "Episode:100 meanR:20.6400 R:17.0 rate:0.0340 loss:46.9747 exploreP:0.8136\n",
      "Episode:101 meanR:20.4900 R:15.0 rate:0.0300 loss:43.2490 exploreP:0.8124\n",
      "Episode:102 meanR:20.2400 R:10.0 rate:0.0200 loss:54.2924 exploreP:0.8116\n",
      "Episode:103 meanR:20.3100 R:18.0 rate:0.0360 loss:44.4521 exploreP:0.8102\n",
      "Episode:104 meanR:20.3600 R:24.0 rate:0.0480 loss:45.4505 exploreP:0.8082\n",
      "Episode:105 meanR:20.2800 R:28.0 rate:0.0560 loss:48.1803 exploreP:0.8060\n",
      "Episode:106 meanR:20.2800 R:15.0 rate:0.0300 loss:49.4304 exploreP:0.8048\n",
      "Episode:107 meanR:20.1900 R:12.0 rate:0.0240 loss:37.7239 exploreP:0.8039\n",
      "Episode:108 meanR:20.2500 R:19.0 rate:0.0380 loss:39.2430 exploreP:0.8024\n",
      "Episode:109 meanR:20.0300 R:23.0 rate:0.0460 loss:40.3006 exploreP:0.8005\n",
      "Episode:110 meanR:20.0600 R:19.0 rate:0.0380 loss:39.4243 exploreP:0.7990\n",
      "Episode:111 meanR:20.0400 R:10.0 rate:0.0200 loss:39.7693 exploreP:0.7982\n",
      "Episode:112 meanR:19.7800 R:11.0 rate:0.0220 loss:47.7624 exploreP:0.7974\n"
     ]
    },
    {
     "name": "stdout",
     "output_type": "stream",
     "text": [
      "Episode:113 meanR:19.6700 R:19.0 rate:0.0380 loss:40.9282 exploreP:0.7959\n",
      "Episode:114 meanR:19.6900 R:20.0 rate:0.0400 loss:41.2563 exploreP:0.7943\n",
      "Episode:115 meanR:19.6700 R:12.0 rate:0.0240 loss:33.0466 exploreP:0.7934\n",
      "Episode:116 meanR:19.7300 R:23.0 rate:0.0460 loss:41.1108 exploreP:0.7916\n",
      "Episode:117 meanR:19.5900 R:13.0 rate:0.0260 loss:38.0436 exploreP:0.7906\n",
      "Episode:118 meanR:19.6000 R:13.0 rate:0.0260 loss:53.9511 exploreP:0.7895\n",
      "Episode:119 meanR:19.8800 R:51.0 rate:0.1020 loss:39.9318 exploreP:0.7856\n",
      "Episode:120 meanR:19.8700 R:19.0 rate:0.0380 loss:26.2406 exploreP:0.7841\n",
      "Episode:121 meanR:19.8700 R:13.0 rate:0.0260 loss:34.5140 exploreP:0.7831\n",
      "Episode:122 meanR:19.8700 R:24.0 rate:0.0480 loss:31.9984 exploreP:0.7812\n",
      "Episode:123 meanR:19.9000 R:17.0 rate:0.0340 loss:33.0852 exploreP:0.7799\n",
      "Episode:124 meanR:19.8600 R:25.0 rate:0.0500 loss:28.3829 exploreP:0.7780\n",
      "Episode:125 meanR:19.8500 R:13.0 rate:0.0260 loss:28.8236 exploreP:0.7770\n",
      "Episode:126 meanR:19.8200 R:12.0 rate:0.0240 loss:28.7198 exploreP:0.7761\n",
      "Episode:127 meanR:19.7900 R:18.0 rate:0.0360 loss:21.2778 exploreP:0.7747\n",
      "Episode:128 meanR:19.8900 R:22.0 rate:0.0440 loss:28.2078 exploreP:0.7730\n",
      "Episode:129 meanR:19.6400 R:15.0 rate:0.0300 loss:28.4665 exploreP:0.7719\n",
      "Episode:130 meanR:19.7100 R:23.0 rate:0.0460 loss:26.5810 exploreP:0.7701\n",
      "Episode:131 meanR:19.9100 R:41.0 rate:0.0820 loss:27.0744 exploreP:0.7670\n",
      "Episode:132 meanR:19.7400 R:10.0 rate:0.0200 loss:22.7969 exploreP:0.7663\n",
      "Episode:133 meanR:19.7600 R:31.0 rate:0.0620 loss:26.1430 exploreP:0.7639\n",
      "Episode:134 meanR:19.7400 R:17.0 rate:0.0340 loss:25.0726 exploreP:0.7627\n",
      "Episode:135 meanR:19.7900 R:21.0 rate:0.0420 loss:23.2197 exploreP:0.7611\n",
      "Episode:136 meanR:19.7100 R:44.0 rate:0.0880 loss:23.4010 exploreP:0.7578\n",
      "Episode:137 meanR:19.6100 R:8.0 rate:0.0160 loss:21.4659 exploreP:0.7572\n",
      "Episode:138 meanR:19.7300 R:26.0 rate:0.0520 loss:19.7003 exploreP:0.7552\n",
      "Episode:139 meanR:19.6800 R:26.0 rate:0.0520 loss:21.1090 exploreP:0.7533\n",
      "Episode:140 meanR:20.0200 R:52.0 rate:0.1040 loss:20.9234 exploreP:0.7494\n",
      "Episode:141 meanR:20.0700 R:24.0 rate:0.0480 loss:22.6135 exploreP:0.7477\n",
      "Episode:142 meanR:20.1500 R:18.0 rate:0.0360 loss:20.4666 exploreP:0.7463\n",
      "Episode:143 meanR:20.3000 R:28.0 rate:0.0560 loss:22.1328 exploreP:0.7443\n",
      "Episode:144 meanR:20.4600 R:33.0 rate:0.0660 loss:23.6585 exploreP:0.7419\n",
      "Episode:145 meanR:20.6100 R:34.0 rate:0.0680 loss:22.1272 exploreP:0.7394\n",
      "Episode:146 meanR:21.2100 R:76.0 rate:0.1520 loss:19.3557 exploreP:0.7339\n",
      "Episode:147 meanR:21.0000 R:24.0 rate:0.0480 loss:17.7964 exploreP:0.7321\n",
      "Episode:148 meanR:20.7200 R:25.0 rate:0.0500 loss:18.4000 exploreP:0.7303\n",
      "Episode:149 meanR:20.8000 R:27.0 rate:0.0540 loss:18.9367 exploreP:0.7284\n",
      "Episode:150 meanR:21.1400 R:45.0 rate:0.0900 loss:19.6370 exploreP:0.7252\n",
      "Episode:151 meanR:21.3000 R:32.0 rate:0.0640 loss:18.3741 exploreP:0.7229\n",
      "Episode:152 meanR:21.6500 R:51.0 rate:0.1020 loss:18.2786 exploreP:0.7192\n",
      "Episode:153 meanR:21.5900 R:14.0 rate:0.0280 loss:21.6598 exploreP:0.7183\n",
      "Episode:154 meanR:21.7300 R:28.0 rate:0.0560 loss:21.0203 exploreP:0.7163\n",
      "Episode:155 meanR:21.8300 R:22.0 rate:0.0440 loss:22.7769 exploreP:0.7147\n",
      "Episode:156 meanR:22.0100 R:39.0 rate:0.0780 loss:19.2131 exploreP:0.7120\n",
      "Episode:157 meanR:22.0400 R:19.0 rate:0.0380 loss:15.0168 exploreP:0.7106\n",
      "Episode:158 meanR:22.1300 R:20.0 rate:0.0400 loss:20.0585 exploreP:0.7092\n",
      "Episode:159 meanR:22.1700 R:17.0 rate:0.0340 loss:21.8386 exploreP:0.7081\n",
      "Episode:160 meanR:22.4300 R:48.0 rate:0.0960 loss:20.4782 exploreP:0.7047\n",
      "Episode:161 meanR:22.5900 R:34.0 rate:0.0680 loss:19.9038 exploreP:0.7024\n",
      "Episode:162 meanR:22.7400 R:29.0 rate:0.0580 loss:20.0025 exploreP:0.7004\n",
      "Episode:163 meanR:22.6000 R:13.0 rate:0.0260 loss:19.8259 exploreP:0.6995\n",
      "Episode:164 meanR:22.7500 R:30.0 rate:0.0600 loss:20.3976 exploreP:0.6974\n",
      "Episode:165 meanR:22.5800 R:20.0 rate:0.0400 loss:21.1922 exploreP:0.6960\n",
      "Episode:166 meanR:22.7400 R:44.0 rate:0.0880 loss:20.3407 exploreP:0.6930\n",
      "Episode:167 meanR:22.9200 R:34.0 rate:0.0680 loss:22.2251 exploreP:0.6907\n",
      "Episode:168 meanR:22.9600 R:22.0 rate:0.0440 loss:20.1480 exploreP:0.6892\n",
      "Episode:169 meanR:23.1100 R:28.0 rate:0.0560 loss:21.0264 exploreP:0.6873\n",
      "Episode:170 meanR:23.8700 R:97.0 rate:0.1940 loss:20.9140 exploreP:0.6808\n",
      "Episode:171 meanR:23.9900 R:25.0 rate:0.0500 loss:19.9222 exploreP:0.6791\n",
      "Episode:172 meanR:23.8600 R:30.0 rate:0.0600 loss:24.5300 exploreP:0.6771\n",
      "Episode:173 meanR:24.3100 R:57.0 rate:0.1140 loss:20.0810 exploreP:0.6733\n",
      "Episode:174 meanR:24.3100 R:16.0 rate:0.0320 loss:21.7083 exploreP:0.6722\n",
      "Episode:175 meanR:24.1400 R:10.0 rate:0.0200 loss:17.9040 exploreP:0.6716\n",
      "Episode:176 meanR:24.3700 R:38.0 rate:0.0760 loss:22.8350 exploreP:0.6691\n",
      "Episode:177 meanR:24.4500 R:21.0 rate:0.0420 loss:21.7029 exploreP:0.6677\n",
      "Episode:178 meanR:24.8800 R:55.0 rate:0.1100 loss:22.8179 exploreP:0.6641\n",
      "Episode:179 meanR:25.2500 R:70.0 rate:0.1400 loss:22.9276 exploreP:0.6595\n",
      "Episode:180 meanR:25.6000 R:51.0 rate:0.1020 loss:24.1145 exploreP:0.6562\n",
      "Episode:181 meanR:25.5300 R:13.0 rate:0.0260 loss:20.7074 exploreP:0.6554\n",
      "Episode:182 meanR:25.7900 R:41.0 rate:0.0820 loss:23.7672 exploreP:0.6527\n",
      "Episode:183 meanR:25.6700 R:34.0 rate:0.0680 loss:24.1274 exploreP:0.6505\n",
      "Episode:184 meanR:26.2000 R:76.0 rate:0.1520 loss:23.4319 exploreP:0.6457\n",
      "Episode:185 meanR:26.5400 R:45.0 rate:0.0900 loss:23.1074 exploreP:0.6428\n",
      "Episode:186 meanR:27.3800 R:100.0 rate:0.2000 loss:25.7230 exploreP:0.6365\n",
      "Episode:187 meanR:27.7300 R:50.0 rate:0.1000 loss:23.8007 exploreP:0.6334\n",
      "Episode:188 meanR:28.3400 R:77.0 rate:0.1540 loss:26.7549 exploreP:0.6286\n",
      "Episode:189 meanR:28.3900 R:19.0 rate:0.0380 loss:30.2291 exploreP:0.6275\n",
      "Episode:190 meanR:28.3000 R:10.0 rate:0.0200 loss:24.2621 exploreP:0.6268\n",
      "Episode:191 meanR:28.2500 R:11.0 rate:0.0220 loss:24.4439 exploreP:0.6262\n",
      "Episode:192 meanR:28.6300 R:59.0 rate:0.1180 loss:26.8459 exploreP:0.6225\n",
      "Episode:193 meanR:29.2300 R:80.0 rate:0.1600 loss:27.6461 exploreP:0.6177\n",
      "Episode:194 meanR:29.6900 R:61.0 rate:0.1220 loss:28.7108 exploreP:0.6140\n",
      "Episode:195 meanR:29.7700 R:32.0 rate:0.0640 loss:29.3944 exploreP:0.6120\n",
      "Episode:196 meanR:29.7800 R:31.0 rate:0.0620 loss:26.8684 exploreP:0.6102\n",
      "Episode:197 meanR:29.8400 R:26.0 rate:0.0520 loss:28.0639 exploreP:0.6086\n",
      "Episode:198 meanR:30.2800 R:54.0 rate:0.1080 loss:27.2698 exploreP:0.6054\n",
      "Episode:199 meanR:30.5800 R:42.0 rate:0.0840 loss:23.7231 exploreP:0.6029\n",
      "Episode:200 meanR:30.7800 R:37.0 rate:0.0740 loss:33.7342 exploreP:0.6007\n",
      "Episode:201 meanR:31.2200 R:59.0 rate:0.1180 loss:27.1582 exploreP:0.5972\n",
      "Episode:202 meanR:31.4500 R:33.0 rate:0.0660 loss:27.5354 exploreP:0.5953\n",
      "Episode:203 meanR:31.4200 R:15.0 rate:0.0300 loss:39.2120 exploreP:0.5944\n",
      "Episode:204 meanR:31.5900 R:41.0 rate:0.0820 loss:28.7646 exploreP:0.5920\n",
      "Episode:205 meanR:31.8900 R:58.0 rate:0.1160 loss:32.3159 exploreP:0.5887\n",
      "Episode:206 meanR:32.5500 R:81.0 rate:0.1620 loss:31.6414 exploreP:0.5840\n",
      "Episode:207 meanR:32.7100 R:28.0 rate:0.0560 loss:34.3698 exploreP:0.5824\n",
      "Episode:208 meanR:33.5200 R:100.0 rate:0.2000 loss:30.3995 exploreP:0.5767\n",
      "Episode:209 meanR:34.0400 R:75.0 rate:0.1500 loss:31.3992 exploreP:0.5725\n",
      "Episode:210 meanR:34.6500 R:80.0 rate:0.1600 loss:29.5026 exploreP:0.5680\n",
      "Episode:211 meanR:35.0500 R:50.0 rate:0.1000 loss:32.4055 exploreP:0.5652\n",
      "Episode:212 meanR:35.2500 R:31.0 rate:0.0620 loss:32.5540 exploreP:0.5635\n",
      "Episode:213 meanR:36.1700 R:111.0 rate:0.2220 loss:35.5835 exploreP:0.5574\n",
      "Episode:214 meanR:36.5800 R:61.0 rate:0.1220 loss:37.8504 exploreP:0.5540\n",
      "Episode:215 meanR:36.7300 R:27.0 rate:0.0540 loss:31.0546 exploreP:0.5526\n",
      "Episode:216 meanR:37.1400 R:64.0 rate:0.1280 loss:34.3085 exploreP:0.5491\n",
      "Episode:217 meanR:37.5600 R:55.0 rate:0.1100 loss:34.5132 exploreP:0.5461\n",
      "Episode:218 meanR:38.3500 R:92.0 rate:0.1840 loss:37.9414 exploreP:0.5412\n",
      "Episode:219 meanR:38.6700 R:83.0 rate:0.1660 loss:34.1916 exploreP:0.5368\n",
      "Episode:220 meanR:39.4000 R:92.0 rate:0.1840 loss:40.3761 exploreP:0.5320\n",
      "Episode:221 meanR:40.2200 R:95.0 rate:0.1900 loss:40.4729 exploreP:0.5271\n",
      "Episode:222 meanR:40.3900 R:41.0 rate:0.0820 loss:42.5640 exploreP:0.5250\n",
      "Episode:223 meanR:41.3900 R:117.0 rate:0.2340 loss:42.7788 exploreP:0.5190\n"
     ]
    },
    {
     "name": "stdout",
     "output_type": "stream",
     "text": [
      "Episode:224 meanR:41.8000 R:66.0 rate:0.1320 loss:42.9129 exploreP:0.5156\n",
      "Episode:225 meanR:42.8100 R:114.0 rate:0.2280 loss:41.7656 exploreP:0.5099\n",
      "Episode:226 meanR:43.2200 R:53.0 rate:0.1060 loss:47.1985 exploreP:0.5073\n",
      "Episode:227 meanR:44.1000 R:106.0 rate:0.2120 loss:48.1604 exploreP:0.5020\n",
      "Episode:228 meanR:44.2800 R:40.0 rate:0.0800 loss:43.2119 exploreP:0.5000\n",
      "Episode:229 meanR:44.8700 R:74.0 rate:0.1480 loss:45.7196 exploreP:0.4964\n",
      "Episode:230 meanR:45.4700 R:83.0 rate:0.1660 loss:45.7738 exploreP:0.4924\n",
      "Episode:231 meanR:45.5800 R:52.0 rate:0.1040 loss:48.1393 exploreP:0.4899\n",
      "Episode:232 meanR:45.8400 R:36.0 rate:0.0720 loss:49.9823 exploreP:0.4882\n",
      "Episode:233 meanR:46.6400 R:111.0 rate:0.2220 loss:46.5015 exploreP:0.4829\n",
      "Episode:234 meanR:47.8600 R:139.0 rate:0.2780 loss:45.9908 exploreP:0.4764\n",
      "Episode:235 meanR:49.4600 R:181.0 rate:0.3620 loss:50.6049 exploreP:0.4680\n",
      "Episode:236 meanR:49.3500 R:33.0 rate:0.0660 loss:56.1234 exploreP:0.4665\n",
      "Episode:237 meanR:50.0900 R:82.0 rate:0.1640 loss:58.6669 exploreP:0.4628\n",
      "Episode:238 meanR:50.8700 R:104.0 rate:0.2080 loss:50.9757 exploreP:0.4581\n",
      "Episode:239 meanR:51.7300 R:112.0 rate:0.2240 loss:55.0719 exploreP:0.4531\n",
      "Episode:240 meanR:51.6800 R:47.0 rate:0.0940 loss:51.1023 exploreP:0.4510\n",
      "Episode:241 meanR:51.9700 R:53.0 rate:0.1060 loss:54.6613 exploreP:0.4487\n",
      "Episode:242 meanR:52.8000 R:101.0 rate:0.2020 loss:53.1559 exploreP:0.4443\n",
      "Episode:243 meanR:53.3800 R:86.0 rate:0.1720 loss:59.2252 exploreP:0.4406\n",
      "Episode:244 meanR:54.7800 R:173.0 rate:0.3460 loss:57.0651 exploreP:0.4332\n",
      "Episode:245 meanR:55.3800 R:94.0 rate:0.1880 loss:58.6292 exploreP:0.4292\n",
      "Episode:246 meanR:56.2200 R:160.0 rate:0.3200 loss:61.1246 exploreP:0.4226\n",
      "Episode:247 meanR:57.0200 R:104.0 rate:0.2080 loss:57.8907 exploreP:0.4183\n",
      "Episode:248 meanR:57.6800 R:91.0 rate:0.1820 loss:60.3382 exploreP:0.4146\n",
      "Episode:249 meanR:58.3600 R:95.0 rate:0.1900 loss:79.4034 exploreP:0.4108\n",
      "Episode:250 meanR:59.3500 R:144.0 rate:0.2880 loss:67.7848 exploreP:0.4050\n",
      "Episode:251 meanR:60.1500 R:112.0 rate:0.2240 loss:63.6911 exploreP:0.4006\n",
      "Episode:252 meanR:61.2000 R:156.0 rate:0.3120 loss:65.6724 exploreP:0.3946\n",
      "Episode:253 meanR:61.4400 R:38.0 rate:0.0760 loss:65.1906 exploreP:0.3931\n",
      "Episode:254 meanR:62.1300 R:97.0 rate:0.1940 loss:76.9877 exploreP:0.3894\n",
      "Episode:255 meanR:62.6800 R:77.0 rate:0.1540 loss:77.9982 exploreP:0.3865\n",
      "Episode:256 meanR:63.1300 R:84.0 rate:0.1680 loss:67.8985 exploreP:0.3834\n",
      "Episode:257 meanR:63.8900 R:95.0 rate:0.1900 loss:79.5261 exploreP:0.3799\n",
      "Episode:258 meanR:65.2100 R:152.0 rate:0.3040 loss:76.7467 exploreP:0.3743\n",
      "Episode:259 meanR:66.1400 R:110.0 rate:0.2200 loss:71.8201 exploreP:0.3703\n",
      "Episode:260 meanR:66.4600 R:80.0 rate:0.1600 loss:80.1465 exploreP:0.3674\n",
      "Episode:261 meanR:67.3800 R:126.0 rate:0.2520 loss:87.0725 exploreP:0.3629\n",
      "Episode:262 meanR:68.5000 R:141.0 rate:0.2820 loss:81.7391 exploreP:0.3580\n",
      "Episode:263 meanR:69.8300 R:146.0 rate:0.2920 loss:84.7500 exploreP:0.3530\n",
      "Episode:264 meanR:70.5100 R:98.0 rate:0.1960 loss:84.3635 exploreP:0.3496\n",
      "Episode:265 meanR:71.4100 R:110.0 rate:0.2200 loss:94.5505 exploreP:0.3459\n",
      "Episode:266 meanR:72.1200 R:115.0 rate:0.2300 loss:93.7828 exploreP:0.3421\n",
      "Episode:267 meanR:73.2500 R:147.0 rate:0.2940 loss:88.4918 exploreP:0.3372\n",
      "Episode:268 meanR:74.6900 R:166.0 rate:0.3320 loss:98.6900 exploreP:0.3318\n",
      "Episode:269 meanR:75.7700 R:136.0 rate:0.2720 loss:94.7874 exploreP:0.3275\n",
      "Episode:270 meanR:76.8700 R:207.0 rate:0.4140 loss:96.3839 exploreP:0.3210\n",
      "Episode:271 meanR:79.4100 R:279.0 rate:0.5580 loss:103.4956 exploreP:0.3124\n",
      "Episode:272 meanR:81.4500 R:234.0 rate:0.4680 loss:112.7558 exploreP:0.3054\n",
      "Episode:273 meanR:82.0700 R:119.0 rate:0.2380 loss:111.6020 exploreP:0.3019\n",
      "Episode:274 meanR:82.8900 R:98.0 rate:0.1960 loss:107.8498 exploreP:0.2991\n",
      "Episode:275 meanR:83.9700 R:118.0 rate:0.2360 loss:111.3085 exploreP:0.2957\n",
      "Episode:276 meanR:84.6900 R:110.0 rate:0.2200 loss:114.9016 exploreP:0.2926\n",
      "Episode:277 meanR:85.7200 R:124.0 rate:0.2480 loss:116.9945 exploreP:0.2891\n",
      "Episode:278 meanR:86.3200 R:115.0 rate:0.2300 loss:124.9874 exploreP:0.2859\n",
      "Episode:279 meanR:87.0600 R:144.0 rate:0.2880 loss:125.1707 exploreP:0.2819\n",
      "Episode:280 meanR:87.8900 R:134.0 rate:0.2680 loss:130.7745 exploreP:0.2783\n",
      "Episode:281 meanR:89.8900 R:213.0 rate:0.4260 loss:130.3584 exploreP:0.2727\n",
      "Episode:282 meanR:90.3500 R:87.0 rate:0.1740 loss:122.8213 exploreP:0.2704\n",
      "Episode:283 meanR:92.0800 R:207.0 rate:0.4140 loss:134.2992 exploreP:0.2651\n",
      "Episode:284 meanR:92.5600 R:124.0 rate:0.2480 loss:134.2797 exploreP:0.2619\n",
      "Episode:285 meanR:94.7000 R:259.0 rate:0.5180 loss:140.8052 exploreP:0.2555\n",
      "Episode:286 meanR:95.6400 R:194.0 rate:0.3880 loss:155.0888 exploreP:0.2508\n",
      "Episode:287 meanR:96.1900 R:105.0 rate:0.2100 loss:166.9800 exploreP:0.2482\n",
      "Episode:288 meanR:96.6200 R:120.0 rate:0.2400 loss:172.0069 exploreP:0.2454\n",
      "Episode:289 meanR:98.3000 R:187.0 rate:0.3740 loss:169.4897 exploreP:0.2410\n",
      "Episode:290 meanR:99.3300 R:113.0 rate:0.2260 loss:155.6739 exploreP:0.2384\n",
      "Episode:291 meanR:100.6700 R:145.0 rate:0.2900 loss:190.3436 exploreP:0.2352\n",
      "Episode:292 meanR:101.1900 R:111.0 rate:0.2220 loss:169.4574 exploreP:0.2327\n",
      "Episode:293 meanR:101.5600 R:117.0 rate:0.2340 loss:176.7577 exploreP:0.2301\n",
      "Episode:294 meanR:102.3200 R:137.0 rate:0.2740 loss:184.5292 exploreP:0.2271\n",
      "Episode:295 meanR:103.3300 R:133.0 rate:0.2660 loss:194.9762 exploreP:0.2242\n",
      "Episode:296 meanR:105.0200 R:200.0 rate:0.4000 loss:171.0704 exploreP:0.2200\n",
      "Episode:297 meanR:107.8500 R:309.0 rate:0.6180 loss:199.1384 exploreP:0.2136\n",
      "Episode:298 meanR:108.7200 R:141.0 rate:0.2820 loss:209.5814 exploreP:0.2107\n",
      "Episode:299 meanR:109.7300 R:143.0 rate:0.2860 loss:218.6285 exploreP:0.2079\n",
      "Episode:300 meanR:111.6000 R:224.0 rate:0.4480 loss:201.1563 exploreP:0.2035\n",
      "Episode:301 meanR:112.6300 R:162.0 rate:0.3240 loss:223.6303 exploreP:0.2004\n",
      "Episode:302 meanR:114.5000 R:220.0 rate:0.4400 loss:233.0844 exploreP:0.1963\n",
      "Episode:303 meanR:116.2600 R:191.0 rate:0.3820 loss:235.1733 exploreP:0.1927\n",
      "Episode:304 meanR:118.0100 R:216.0 rate:0.4320 loss:233.8576 exploreP:0.1888\n",
      "Episode:305 meanR:118.7800 R:135.0 rate:0.2700 loss:238.5295 exploreP:0.1864\n",
      "Episode:306 meanR:120.6000 R:263.0 rate:0.5260 loss:247.3050 exploreP:0.1818\n",
      "Episode:307 meanR:121.8200 R:150.0 rate:0.3000 loss:252.8990 exploreP:0.1793\n",
      "Episode:308 meanR:122.9700 R:215.0 rate:0.4300 loss:274.9883 exploreP:0.1757\n",
      "Episode:309 meanR:123.8100 R:159.0 rate:0.3180 loss:278.6880 exploreP:0.1731\n",
      "Episode:310 meanR:127.1300 R:412.0 rate:0.8240 loss:263.9998 exploreP:0.1665\n",
      "Episode:311 meanR:128.3900 R:176.0 rate:0.3520 loss:273.4167 exploreP:0.1638\n",
      "Episode:312 meanR:129.8200 R:174.0 rate:0.3480 loss:320.3313 exploreP:0.1611\n",
      "Episode:313 meanR:130.3600 R:165.0 rate:0.3300 loss:282.7866 exploreP:0.1586\n",
      "Episode:314 meanR:132.1000 R:235.0 rate:0.4700 loss:301.5945 exploreP:0.1552\n",
      "Episode:315 meanR:133.7500 R:192.0 rate:0.3840 loss:315.1445 exploreP:0.1524\n",
      "Episode:316 meanR:134.8900 R:178.0 rate:0.3560 loss:311.6489 exploreP:0.1499\n",
      "Episode:317 meanR:135.7800 R:144.0 rate:0.2880 loss:324.3748 exploreP:0.1479\n",
      "Episode:318 meanR:136.5400 R:168.0 rate:0.3360 loss:329.5409 exploreP:0.1456\n",
      "Episode:319 meanR:140.1500 R:444.0 rate:0.8880 loss:360.8618 exploreP:0.1397\n",
      "Episode:320 meanR:141.0200 R:179.0 rate:0.3580 loss:347.6652 exploreP:0.1374\n",
      "Episode:321 meanR:142.8900 R:282.0 rate:0.5640 loss:364.1651 exploreP:0.1339\n",
      "Episode:322 meanR:145.4700 R:299.0 rate:0.5980 loss:407.9476 exploreP:0.1302\n",
      "Episode:323 meanR:148.2300 R:393.0 rate:0.7860 loss:410.5410 exploreP:0.1256\n",
      "Episode:324 meanR:150.5200 R:295.0 rate:0.5900 loss:420.9725 exploreP:0.1222\n",
      "Episode:325 meanR:151.1800 R:180.0 rate:0.3600 loss:414.9257 exploreP:0.1202\n",
      "Episode:326 meanR:153.4800 R:283.0 rate:0.5660 loss:456.3035 exploreP:0.1172\n",
      "Episode:327 meanR:155.9800 R:356.0 rate:0.7120 loss:434.4919 exploreP:0.1134\n",
      "Episode:328 meanR:159.0200 R:344.0 rate:0.6880 loss:486.9222 exploreP:0.1099\n",
      "Episode:329 meanR:160.0200 R:174.0 rate:0.3480 loss:473.2066 exploreP:0.1082\n",
      "Episode:330 meanR:160.8300 R:164.0 rate:0.3280 loss:490.2340 exploreP:0.1066\n",
      "Episode:331 meanR:163.3600 R:305.0 rate:0.6100 loss:530.3130 exploreP:0.1037\n",
      "Episode:332 meanR:165.9600 R:296.0 rate:0.5920 loss:521.2036 exploreP:0.1010\n"
     ]
    },
    {
     "name": "stdout",
     "output_type": "stream",
     "text": [
      "Episode:333 meanR:168.4900 R:364.0 rate:0.7280 loss:584.2061 exploreP:0.0977\n",
      "Episode:334 meanR:169.0200 R:192.0 rate:0.3840 loss:593.6313 exploreP:0.0960\n",
      "Episode:335 meanR:171.1900 R:398.0 rate:0.7960 loss:611.7469 exploreP:0.0927\n",
      "Episode:336 meanR:175.5500 R:469.0 rate:0.9380 loss:636.5226 exploreP:0.0889\n",
      "Episode:337 meanR:177.6500 R:292.0 rate:0.5840 loss:666.5854 exploreP:0.0866\n",
      "Episode:338 meanR:179.1600 R:255.0 rate:0.5100 loss:740.8918 exploreP:0.0847\n",
      "Episode:339 meanR:180.3600 R:232.0 rate:0.4640 loss:744.4213 exploreP:0.0830\n",
      "Episode:340 meanR:181.9800 R:209.0 rate:0.4180 loss:804.0126 exploreP:0.0815\n",
      "Episode:341 meanR:184.0800 R:263.0 rate:0.5260 loss:804.6231 exploreP:0.0796\n"
     ]
    }
   ],
   "source": [
    "# Save/load the model and save for plotting\n",
    "saver = tf.train.Saver()\n",
    "episode_rewards_list, rewards_list, loss_list = [], [], []\n",
    "\n",
    "# TF session for training\n",
    "with tf.Session(graph=graph) as sess:\n",
    "    sess.run(tf.global_variables_initializer())\n",
    "    #saver.restore(sess, 'checkpoints/model.ckpt')    \n",
    "    #saver.restore(sess, tf.train.latest_checkpoint('checkpoints'))\n",
    "    total_step = 0 # Explore or exploit parameter\n",
    "    episode_reward = deque(maxlen=100) # 100 episodes average/running average/running mean/window\n",
    "    \n",
    "    # Training episodes/epochs\n",
    "    for ep in range(1111):\n",
    "        total_reward = 0\n",
    "        loss_batch = []\n",
    "        state = env.reset()\n",
    "        num_step = 0 # each episode\n",
    "\n",
    "        # Training steps/batches\n",
    "        while True:\n",
    "            # Explore (Env) or Exploit (Model)\n",
    "            total_step += 1\n",
    "            explore_p = explore_stop + (explore_start - explore_stop) * np.exp(-decay_rate * total_step) \n",
    "            if explore_p > np.random.rand():\n",
    "                action = env.action_space.sample()\n",
    "            else:\n",
    "                action_logits = sess.run(model.actions_logits, feed_dict={model.states: state.reshape([1, -1])})\n",
    "                action = np.argmax(action_logits)\n",
    "            next_state, reward, done, _ = env.step(action)\n",
    "            memory.buffer.append([state, action, next_state, reward, float(done), -1])\n",
    "            num_step += 1 # momory added\n",
    "            total_reward += reward\n",
    "            state = next_state\n",
    "\n",
    "            # Rating the last played episode\n",
    "            if done is True:\n",
    "                rate = total_reward/ goal # update rate at the end/ when episode is done\n",
    "                for idx in range(num_step): # episode length\n",
    "                    if memory.buffer[-1-idx][5] == -1: # double-check if it is empty and it is not rated!\n",
    "                        memory.buffer[-1-idx][5] = rate # rate each SA pair\n",
    "                        \n",
    "            # Rating and training the memory\n",
    "            #rates = np.array(memory.buffer)[:, 5]\n",
    "            #rated_mem = np.array(memory.buffer)[rates >= (max(rates)*0.5)]\n",
    "            #batch = sample(ListArr=rated_mem, batch_size=batch_size)\n",
    "            mem = np.array(memory.buffer)#[rates >= (max(rates)*0.5)]\n",
    "            batch = sample(ListArr=mem, batch_size=batch_size)\n",
    "            states = np.array([each[0] for each in batch])\n",
    "            actions = np.array([each[1] for each in batch])\n",
    "            next_states = np.array([each[2] for each in batch])\n",
    "            rewards = np.array([each[3] for each in batch])\n",
    "            dones = np.array([each[4] for each in batch])\n",
    "            #rates = np.array([each[5] for each in batch])\n",
    "            #nextQs_logits = sess.run(model.Qs_logits, feed_dict = {model.states: next_states})\n",
    "            next_actions_logits = sess.run(model.actions_logits, feed_dict = {model.states: next_states})\n",
    "            nextQs = np.max(next_actions_logits, axis=1) * (1-dones)\n",
    "            targetQs = rewards + (gamma * nextQs)\n",
    "            loss, _ = sess.run([model.loss, model.opt], feed_dict = {model.states: states, \n",
    "                                                                     model.actions: actions,\n",
    "                                                                     model.targetQs: targetQs})\n",
    "            loss_batch.append(loss)\n",
    "            if done is True:\n",
    "                break\n",
    "                \n",
    "        episode_reward.append(total_reward)\n",
    "        print('Episode:{}'.format(ep),\n",
    "              'meanR:{:.4f}'.format(np.mean(episode_reward)),\n",
    "              'R:{}'.format(total_reward),\n",
    "              'rate:{:.4f}'.format(rate),\n",
    "              'loss:{:.4f}'.format(np.mean(loss_batch)),\n",
    "              'exploreP:{:.4f}'.format(explore_p))\n",
    "        # Ploting out\n",
    "        episode_rewards_list.append([ep, np.mean(episode_reward)])\n",
    "        rewards_list.append([ep, total_reward])\n",
    "        loss_list.append([ep, np.mean(loss_batch)])\n",
    "        # Break episode/epoch loop\n",
    "        if np.mean(episode_reward) >= 500:\n",
    "            break\n",
    "            \n",
    "    # At the end of all training episodes/epochs\n",
    "    saver.save(sess, 'checkpoints/model.ckpt')"
   ]
  },
  {
   "cell_type": "markdown",
   "metadata": {},
   "source": [
    "# Visualizing training\n",
    "\n",
    "Below I'll plot the total rewards for each episode. I'm plotting the rolling average too, in blue."
   ]
  },
  {
   "cell_type": "code",
   "execution_count": 202,
   "metadata": {},
   "outputs": [],
   "source": [
    "%matplotlib inline\n",
    "import matplotlib.pyplot as plt\n",
    "\n",
    "def running_mean(x, N):\n",
    "    cumsum = np.cumsum(np.insert(x, 0, 0)) \n",
    "    return (cumsum[N:] - cumsum[:-N]) / N "
   ]
  },
  {
   "cell_type": "code",
   "execution_count": 203,
   "metadata": {},
   "outputs": [
    {
     "data": {
      "text/plain": [
       "Text(0, 0.5, 'Total rewards')"
      ]
     },
     "execution_count": 203,
     "metadata": {},
     "output_type": "execute_result"
    },
    {
     "data": {
      "image/png": "[encoded data removed]",
      "text/plain": [
       "<Figure size 432x288 with 1 Axes>"
      ]
     },
     "metadata": {
      "needs_background": "light"
     },
     "output_type": "display_data"
    }
   ],
   "source": [
    "eps, arr = np.array(episode_rewards_list).T\n",
    "smoothed_arr = running_mean(arr, 10)\n",
    "plt.plot(eps[-len(smoothed_arr):], smoothed_arr)\n",
    "plt.plot(eps, arr, color='grey', alpha=0.3)\n",
    "plt.xlabel('Episode')\n",
    "plt.ylabel('Total rewards')"
   ]
  },
  {
   "cell_type": "code",
   "execution_count": 24,
   "metadata": {},
   "outputs": [
    {
     "data": {
      "text/plain": [
       "Text(0, 0.5, 'Total rewards')"
      ]
     },
     "execution_count": 24,
     "metadata": {},
     "output_type": "execute_result"
    },
    {
     "data": {
      "image/png": "[encoded data removed]",
      "text/plain": [
       "<Figure size 432x288 with 1 Axes>"
      ]
     },
     "metadata": {
      "needs_background": "light"
     },
     "output_type": "display_data"
    }
   ],
   "source": [
    "eps, arr = np.array(rewards_list).T\n",
    "smoothed_arr = running_mean(arr, 10)\n",
    "plt.plot(eps[-len(smoothed_arr):], smoothed_arr)\n",
    "plt.plot(eps, arr, color='grey', alpha=0.3)\n",
    "plt.xlabel('Episode')\n",
    "plt.ylabel('Total rewards')"
   ]
  },
  {
   "cell_type": "code",
   "execution_count": 25,
   "metadata": {},
   "outputs": [
    {
     "data": {
      "text/plain": [
       "Text(0, 0.5, 'Average losses')"
      ]
     },
     "execution_count": 25,
     "metadata": {},
     "output_type": "execute_result"
    },
    {
     "data": {
      "image/png": "[encoded data removed]",
      "text/plain": [
       "<Figure size 432x288 with 1 Axes>"
      ]
     },
     "metadata": {
      "needs_background": "light"
     },
     "output_type": "display_data"
    }
   ],
   "source": [
    "eps, arr = np.array(loss_list).T\n",
    "smoothed_arr = running_mean(arr, 10)\n",
    "plt.plot(eps[-len(smoothed_arr):], smoothed_arr)\n",
    "plt.plot(eps, arr, color='grey', alpha=0.3)\n",
    "plt.xlabel('Episode')\n",
    "plt.ylabel('Average losses')"
   ]
  },
  {
   "cell_type": "markdown",
   "metadata": {},
   "source": [
    "## Testing\n",
    "\n",
    "Let's checkout how our trained agent plays the game."
   ]
  },
  {
   "cell_type": "code",
   "execution_count": 24,
   "metadata": {},
   "outputs": [
    {
     "name": "stdout",
     "output_type": "stream",
     "text": [
      "INFO:tensorflow:Restoring parameters from checkpoints/model.ckpt\n",
      "total_reward: 500.0\n",
      "total_reward: 500.0\n",
      "total_reward: 500.0\n",
      "total_reward: 500.0\n",
      "total_reward: 500.0\n",
      "total_reward: 500.0\n",
      "total_reward: 500.0\n",
      "total_reward: 500.0\n",
      "total_reward: 500.0\n",
      "total_reward: 500.0\n"
     ]
    }
   ],
   "source": [
    "# Creating a gym env\n",
    "import gym\n",
    "env = gym.make('CartPole-v0')\n",
    "env = gym.make('CartPole-v1')\n",
    "\n",
    "# A training graph session\n",
    "with tf.Session(graph=graph) as sess:\n",
    "    #sess.run(tf.global_variables_initializer())\n",
    "    #saver.restore(sess, 'checkpoints/model.ckpt')    \n",
    "    saver.restore(sess, tf.train.latest_checkpoint('checkpoints'))\n",
    "    \n",
    "    # Episodes/epochs\n",
    "    for _ in range(10):\n",
    "        state = env.reset()\n",
    "        total_reward = 0\n",
    "\n",
    "        # Steps/batches\n",
    "        while True:\n",
    "            env.render()\n",
    "            action_logits = sess.run(model.actions_logits, feed_dict={model.states: np.reshape(state, [1, -1])})\n",
    "            action = np.argmax(action_logits)\n",
    "            state, reward, done, _ = env.step(action)\n",
    "            total_reward += reward\n",
    "            if done:\n",
    "                break\n",
    "                \n",
    "        # Closing the env\n",
    "        print('total_reward: {}'.format(total_reward))\n",
    "# Close the env at the end\n",
    "env.close()"
   ]
  },
  {
   "cell_type": "markdown",
   "metadata": {},
   "source": [
    "## Extending this\n",
    "\n",
    "So, Cart-Pole is a pretty simple game. However, the same model can be used to train an agent to play something much more complicated like Pong or Space Invaders. Instead of a state like we're using here though, you'd want to use convolutional layers to get the state from the screen images.\n",
    "\n",
    "![Deep Q-Learning Atari](assets/atari-network.png)\n",
    "\n",
    "I'll leave it as a challenge for you to use deep Q-learning to train an agent to play Atari games. Here's the original paper which will get you started: http://www.davidqiu.com:8888/research/nature14236.pdf."
   ]
  },
  {
   "cell_type": "code",
   "execution_count": null,
   "metadata": {},
   "outputs": [],
   "source": []
  }
 ],
 "metadata": {
  "kernelspec": {
   "display_name": "Python 3",
   "language": "python",
   "name": "python3"
  },
  "language_info": {
   "codemirror_mode": {
    "name": "ipython",
    "version": 3
   },
   "file_extension": ".py",
   "mimetype": "text/x-python",
   "name": "python",
   "nbconvert_exporter": "python",
   "pygments_lexer": "ipython3",
   "version": "3.6.6"
  }
 },
 "nbformat": 4,
 "nbformat_minor": 2
}
