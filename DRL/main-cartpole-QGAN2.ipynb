{
 "cells": [
  {
   "cell_type": "code",
   "execution_count": 1,
   "metadata": {},
   "outputs": [
    {
     "name": "stdout",
     "output_type": "stream",
     "text": [
      "TensorFlow Version: 1.7.1\n",
      "Default GPU Device: \n"
     ]
    }
   ],
   "source": [
    "import tensorflow as tf\n",
    "print('TensorFlow Version: {}'.format(tf.__version__))\n",
    "print('Default GPU Device: {}'.format(tf.test.gpu_device_name()))"
   ]
  },
  {
   "cell_type": "markdown",
   "metadata": {},
   "source": [
    "##### >**Note:** Make sure you have OpenAI Gym cloned. Then run this command `pip install -e gym/[all]`."
   ]
  },
  {
   "cell_type": "code",
   "execution_count": 2,
   "metadata": {},
   "outputs": [],
   "source": [
    "import numpy as np\n",
    "import gym\n",
    "env = gym.make('CartPole-v0')\n",
    "env = gym.make('CartPole-v1')"
   ]
  },
  {
   "cell_type": "code",
   "execution_count": 3,
   "metadata": {},
   "outputs": [],
   "source": [
    "def model_input(state_size):\n",
    "    #states = tf.placeholder(tf.float32, [None, *state_size], name='states')\n",
    "    states = tf.placeholder(tf.float32, [None, state_size], name='states')\n",
    "    actions = tf.placeholder(tf.int32, [None], name='actions')\n",
    "    next_states = tf.placeholder(tf.float32, [None, state_size], name='next_states')\n",
    "    rewards = tf.placeholder(tf.float32, [None], name='rewards')\n",
    "    dones = tf.placeholder(tf.float32, [None], name='dones')\n",
    "    rates = tf.placeholder(tf.float32, [None], name='rates') # success rate\n",
    "    return states, actions, next_states, rewards, dones, rates"
   ]
  },
  {
   "cell_type": "code",
   "execution_count": 4,
   "metadata": {},
   "outputs": [],
   "source": [
    "def Act(states, action_size, hidden_size, reuse=False, alpha=0.1, training=False):\n",
    "    with tf.variable_scope('Act', reuse=reuse):\n",
    "        # First fully connected layer\n",
    "        h1 = tf.layers.dense(inputs=states, units=hidden_size)\n",
    "        bn1 = tf.layers.batch_normalization(h1, training=training)        \n",
    "        nl1 = tf.maximum(alpha * bn1, bn1)\n",
    "        \n",
    "        # Second fully connected layer\n",
    "        h2 = tf.layers.dense(inputs=nl1, units=hidden_size)\n",
    "        bn2 = tf.layers.batch_normalization(h2, training=training)        \n",
    "        nl2 = tf.maximum(alpha * bn2, bn2)\n",
    "        \n",
    "        # Output layer\n",
    "        logits = tf.layers.dense(inputs=nl2, units=action_size)        \n",
    "        return logits"
   ]
  },
  {
   "cell_type": "code",
   "execution_count": 5,
   "metadata": {},
   "outputs": [],
   "source": [
    "def Env(states, actions, state_size, action_size, hidden_size, reuse=False, alpha=0.1, training=False):\n",
    "    with tf.variable_scope('Env', reuse=reuse):\n",
    "        # First fully connected layer\n",
    "        h1 = tf.layers.dense(inputs=states, units=action_size)\n",
    "        bn1 = tf.layers.batch_normalization(h1, training=training)        \n",
    "        nl1 = tf.maximum(alpha * bn1, bn1)\n",
    "        \n",
    "        # Second fully connected layer\n",
    "        nl1_fused = tf.concat(axis=1, values=[nl1, actions])\n",
    "        h2 = tf.layers.dense(inputs=nl1_fused, units=hidden_size)\n",
    "        bn2 = tf.layers.batch_normalization(h2, training=training)        \n",
    "        nl2 = tf.maximum(alpha * bn2, bn2)\n",
    "                \n",
    "        # Output layer\n",
    "        states_logits = tf.layers.dense(inputs=nl2, units=state_size, trainable=False)\n",
    "        Qlogits = tf.layers.dense(inputs=nl2, units=1, trainable=False)\n",
    "        return states_logits, Qlogits"
   ]
  },
  {
   "cell_type": "code",
   "execution_count": 6,
   "metadata": {},
   "outputs": [],
   "source": [
    "def model_loss(state_size, action_size, hidden_size, gamma,\n",
    "               states, actions, next_states, rewards, dones, rates):\n",
    "    ################################################ a = act(s)\n",
    "    actions_logits = Act(states=states, hidden_size=hidden_size, action_size=action_size)\n",
    "    actions_labels = tf.one_hot(indices=actions, depth=action_size, dtype=actions_logits.dtype)\n",
    "    aloss = tf.reduce_mean(tf.nn.softmax_cross_entropy_with_logits_v2(logits=actions_logits, \n",
    "                                                                      labels=actions_labels))\n",
    "    ################################################ s', r = env(s, a)\n",
    "    e_next_states_logits, eQs = Env(actions=actions_labels, states=states, hidden_size=hidden_size, \n",
    "                                    action_size=action_size, state_size=state_size)\n",
    "    a_next_states_logits, aQs = Env(actions=actions_logits, states=states, hidden_size=hidden_size, \n",
    "                                    action_size=action_size, state_size=state_size, reuse=True)\n",
    "    next_states_labels = tf.nn.sigmoid(next_states)\n",
    "    eloss = tf.reduce_mean(tf.nn.sigmoid_cross_entropy_with_logits(logits=e_next_states_logits, # GQN\n",
    "                                                                   labels=next_states_labels))\n",
    "    eloss += -tf.reduce_mean(tf.nn.sigmoid_cross_entropy_with_logits(logits=a_next_states_logits, \n",
    "                                                                     labels=next_states_labels)) # maximize loss\n",
    "    aloss2 = tf.reduce_mean(tf.nn.sigmoid_cross_entropy_with_logits(logits=a_next_states_logits, \n",
    "                                                                    labels=next_states_labels)) # minimize loss\n",
    "    eQs_logits = tf.reshape(eQs, shape=[-1])\n",
    "    aQs_logits = tf.reshape(aQs, shape=[-1])\n",
    "    #################################################### s'', Q' = ~env(s', ~a')\n",
    "    next_actions_logits = Act(states=next_states, hidden_size=hidden_size, action_size=action_size, reuse=True)\n",
    "    _, aQs2 = Env(actions=next_actions_logits, states=next_states, hidden_size=hidden_size, \n",
    "                  action_size=action_size, state_size=state_size, reuse=True)\n",
    "    aQs2_logits = tf.reshape(aQs2, shape=[-1]) * (1-dones)\n",
    "    eloss += tf.reduce_mean(tf.nn.sigmoid_cross_entropy_with_logits(logits=eQs_logits, # GAN\n",
    "                                                                    labels=rates)) # 0-1 real\n",
    "    eloss += tf.reduce_mean(tf.nn.sigmoid_cross_entropy_with_logits(logits=(aQs_logits+aQs2_logits)/2, # GAN\n",
    "                                                                    labels=tf.zeros_like(rates))) # min\n",
    "    aloss2 += tf.reduce_mean(tf.nn.sigmoid_cross_entropy_with_logits(logits=(aQs_logits+aQs2_logits)/2, # GAN\n",
    "                                                                     labels=tf.ones_like(rates))) # max\n",
    "#     ###################################################### Q(s,a)= r + Q'(s',a')\n",
    "#     targetQs = rewards + (gamma * aQs2_logits) # DQN/Qlearning\n",
    "#     eloss += tf.reduce_mean(tf.square(eQs_logits - targetQs)) # real\n",
    "#     eloss += tf.reduce_mean(tf.square(aQs_logits - rewards)) # min\n",
    "#     aloss2 += tf.reduce_mean(tf.square(aQs_logits - targetQs)) # max\n",
    "#     eloss += tf.reduce_mean((aQs_logits+aQs2_logits)/2) # min\n",
    "#     aloss2 += -tf.reduce_mean((aQs_logits+aQs2_logits)/2) # max\n",
    "    return actions_logits, aloss, eloss, aloss2"
   ]
  },
  {
   "cell_type": "code",
   "execution_count": 7,
   "metadata": {},
   "outputs": [],
   "source": [
    "def model_opt(a_loss, e_loss, a_loss2, a_learning_rate, e_learning_rate):\n",
    "    # Get weights and bias to update\n",
    "    t_vars = tf.trainable_variables()\n",
    "    a_vars = [var for var in t_vars if var.name.startswith('Act')]\n",
    "    e_vars = [var for var in t_vars if var.name.startswith('Env')]\n",
    "\n",
    "    # Optimize\n",
    "    with tf.control_dependencies(tf.get_collection(tf.GraphKeys.UPDATE_OPS)): # Required for batchnorm (BN)\n",
    "        a_opt = tf.train.AdamOptimizer(a_learning_rate).minimize(a_loss, var_list=a_vars)\n",
    "        e_opt = tf.train.AdamOptimizer(e_learning_rate).minimize(e_loss, var_list=e_vars)\n",
    "        a_opt2 = tf.train.AdamOptimizer(a_learning_rate).minimize(a_loss2, var_list=a_vars)\n",
    "    return a_opt, e_opt, a_opt2"
   ]
  },
  {
   "cell_type": "code",
   "execution_count": 8,
   "metadata": {},
   "outputs": [],
   "source": [
    "class Model:\n",
    "    def __init__(self, state_size, action_size, hidden_size, a_learning_rate, e_learning_rate, gamma):\n",
    "\n",
    "        # Data of the Model: make the data available inside the framework\n",
    "        self.states, self.actions, self.next_states, self.rewards, self.dones, self.rates = model_input(\n",
    "            state_size=state_size)\n",
    "\n",
    "        # Create the Model: calculating the loss and forwad pass\n",
    "        self.actions_logits, self.a_loss, self.e_loss, self.a_loss2 = model_loss(\n",
    "            state_size=state_size, action_size=action_size, hidden_size=hidden_size, gamma=gamma, # model init\n",
    "            states=self.states, actions=self.actions, next_states=self.next_states, \n",
    "            rewards=self.rewards, dones=self.dones, rates=self.rates) # model input\n",
    "        \n",
    "        # Update the model: backward pass and backprop\n",
    "        self.a_opt, self.e_opt, self.a_opt2 = model_opt(a_loss=self.a_loss, \n",
    "                                                        e_loss=self.e_loss,\n",
    "                                                        a_loss2=self.a_loss2, \n",
    "                                                        a_learning_rate=a_learning_rate,\n",
    "                                                        e_learning_rate=e_learning_rate)"
   ]
  },
  {
   "cell_type": "code",
   "execution_count": 9,
   "metadata": {},
   "outputs": [],
   "source": [
    "from collections import deque\n",
    "class Memory():\n",
    "    def __init__(self, max_size = 1000):\n",
    "        self.buffer = deque(maxlen=max_size) # data batch\n",
    "#     def sample(self, batch_size):\n",
    "#         idx = np.random.choice(np.arange(len(self.buffer)), size=batch_size, replace=False)\n",
    "#         return [self.buffer[ii] for ii in idx]"
   ]
  },
  {
   "cell_type": "markdown",
   "metadata": {},
   "source": [
    "## Hyperparameters\n",
    "\n",
    "One of the more difficult aspects of reinforcememt learning are the large number of hyperparameters. Not only are we tuning the network, but we're tuning the simulation."
   ]
  },
  {
   "cell_type": "code",
   "execution_count": 10,
   "metadata": {},
   "outputs": [
    {
     "data": {
      "text/plain": [
       "(Box(4,), Discrete(2))"
      ]
     },
     "execution_count": 10,
     "metadata": {},
     "output_type": "execute_result"
    }
   ],
   "source": [
    "env.observation_space, env.action_space"
   ]
  },
  {
   "cell_type": "code",
   "execution_count": 11,
   "metadata": {},
   "outputs": [],
   "source": [
    "# Exploration parameters\n",
    "explore_start = 1.0            # exploration probability at start\n",
    "explore_stop = 0.01           # minimum exploration probability \n",
    "decay_rate = 0.0001            # exponential decay rate for exploration prob\n",
    "\n",
    "# Network parameters\n",
    "state_size = 4\n",
    "action_size = 2\n",
    "hidden_size = 4*2             # number of units in each Q-network hidden layer\n",
    "a_learning_rate = 1e-4         # Q-network learning rate\n",
    "e_learning_rate = 1e-4         # Q-network learning rate\n",
    "\n",
    "# Memory parameters\n",
    "memory_size = int(1e5)            # memory capacity\n",
    "batch_size = int(1e3)             # experience mini-batch size\n",
    "gamma=0.99"
   ]
  },
  {
   "cell_type": "code",
   "execution_count": 12,
   "metadata": {},
   "outputs": [],
   "source": [
    "# Reset/init the graph/session\n",
    "graph = tf.reset_default_graph()\n",
    "\n",
    "# Init the model\n",
    "model = Model(action_size=action_size, state_size=state_size, hidden_size=hidden_size, gamma=gamma,\n",
    "              a_learning_rate=a_learning_rate, e_learning_rate=e_learning_rate)\n",
    "\n",
    "# Init the memory\n",
    "memory = Memory(max_size=memory_size)"
   ]
  },
  {
   "cell_type": "code",
   "execution_count": 13,
   "metadata": {},
   "outputs": [],
   "source": [
    "state = env.reset()\n",
    "total_reward = 0\n",
    "num_step = 0\n",
    "for _ in range(memory_size):\n",
    "    action = env.action_space.sample()\n",
    "    next_state, reward, done, _ = env.step(action)\n",
    "    rate = -1\n",
    "    memory.buffer.append([state, action, next_state, reward, float(done), rate])\n",
    "    num_step += 1 # memory incremented\n",
    "    total_reward += reward\n",
    "    state = next_state\n",
    "    if done is True:\n",
    "        rate = total_reward/500\n",
    "        for idx in range(num_step): # episode length\n",
    "            if memory.buffer[-1-idx][-1] == -1:\n",
    "                memory.buffer[-1-idx][-1] = rate\n",
    "        state = env.reset()\n",
    "        total_reward = 0 # reset\n",
    "        num_step = 0 # reset"
   ]
  },
  {
   "cell_type": "markdown",
   "metadata": {},
   "source": [
    "## Training the model\n",
    "\n",
    "Below we'll train our agent. If you want to watch it train, uncomment the `env.render()` line. This is slow because it's rendering the frames slower than the network can train. But, it's cool to watch the agent get better at the game."
   ]
  },
  {
   "cell_type": "code",
   "execution_count": null,
   "metadata": {},
   "outputs": [
    {
     "name": "stdout",
     "output_type": "stream",
     "text": [
      "Episode:0 meanR:17.0000 R:17.0000 rate:0.0340 aloss:0.6873 eloss:1.6240 aloss2:1.3295 exploreP:0.9983\n",
      "Episode:1 meanR:25.5000 R:34.0000 rate:0.0680 aloss:0.6814 eloss:1.6228 aloss2:1.3219 exploreP:0.9950\n",
      "Episode:2 meanR:21.0000 R:12.0000 rate:0.0240 aloss:0.6761 eloss:1.6321 aloss2:1.3153 exploreP:0.9938\n",
      "Episode:3 meanR:22.7500 R:28.0000 rate:0.0560 aloss:0.6788 eloss:1.6086 aloss2:1.3190 exploreP:0.9910\n",
      "Episode:4 meanR:21.0000 R:14.0000 rate:0.0280 aloss:0.6783 eloss:1.5903 aloss2:1.3269 exploreP:0.9897\n",
      "Episode:5 meanR:25.6667 R:49.0000 rate:0.0980 aloss:0.6909 eloss:1.5630 aloss2:1.3353 exploreP:0.9849\n",
      "Episode:6 meanR:24.5714 R:18.0000 rate:0.0360 aloss:0.6841 eloss:1.5216 aloss2:1.3527 exploreP:0.9831\n",
      "Episode:7 meanR:23.8750 R:19.0000 rate:0.0380 aloss:0.7112 eloss:1.4892 aloss2:1.3641 exploreP:0.9813\n",
      "Episode:8 meanR:22.8889 R:15.0000 rate:0.0300 aloss:0.6789 eloss:1.5179 aloss2:1.3564 exploreP:0.9798\n",
      "Episode:9 meanR:24.8000 R:42.0000 rate:0.0840 aloss:0.6875 eloss:1.4731 aloss2:1.3735 exploreP:0.9757\n",
      "Episode:10 meanR:24.3636 R:20.0000 rate:0.0400 aloss:0.6833 eloss:1.4705 aloss2:1.3683 exploreP:0.9738\n",
      "Episode:11 meanR:23.2500 R:11.0000 rate:0.0220 aloss:0.6946 eloss:1.4485 aloss2:1.3796 exploreP:0.9728\n",
      "Episode:12 meanR:22.9231 R:19.0000 rate:0.0380 aloss:0.6813 eloss:1.4570 aloss2:1.3744 exploreP:0.9709\n",
      "Episode:13 meanR:22.5714 R:18.0000 rate:0.0360 aloss:0.6847 eloss:1.4291 aloss2:1.3903 exploreP:0.9692\n",
      "Episode:14 meanR:21.8000 R:11.0000 rate:0.0220 aloss:0.6987 eloss:1.4053 aloss2:1.3977 exploreP:0.9682\n",
      "Episode:15 meanR:22.2500 R:29.0000 rate:0.0580 aloss:0.6850 eloss:1.4118 aloss2:1.4012 exploreP:0.9654\n",
      "Episode:16 meanR:22.1765 R:21.0000 rate:0.0420 aloss:0.6905 eloss:1.3900 aloss2:1.4051 exploreP:0.9634\n",
      "Episode:17 meanR:23.3333 R:43.0000 rate:0.0860 aloss:0.6890 eloss:1.3780 aloss2:1.4146 exploreP:0.9593\n",
      "Episode:18 meanR:22.9474 R:16.0000 rate:0.0320 aloss:0.6760 eloss:1.3612 aloss2:1.4248 exploreP:0.9578\n",
      "Episode:19 meanR:24.3500 R:51.0000 rate:0.1020 aloss:0.6868 eloss:1.3326 aloss2:1.4373 exploreP:0.9529\n",
      "Episode:20 meanR:23.8571 R:14.0000 rate:0.0280 aloss:0.6832 eloss:1.3601 aloss2:1.4318 exploreP:0.9516\n",
      "Episode:21 meanR:24.3182 R:34.0000 rate:0.0680 aloss:0.7012 eloss:1.2932 aloss2:1.4603 exploreP:0.9484\n",
      "Episode:22 meanR:24.0435 R:18.0000 rate:0.0360 aloss:0.6878 eloss:1.2689 aloss2:1.4764 exploreP:0.9467\n",
      "Episode:23 meanR:24.2083 R:28.0000 rate:0.0560 aloss:0.6791 eloss:1.2597 aloss2:1.4835 exploreP:0.9441\n",
      "Episode:24 meanR:23.8000 R:14.0000 rate:0.0280 aloss:0.6985 eloss:1.2311 aloss2:1.4985 exploreP:0.9428\n",
      "Episode:25 meanR:23.3462 R:12.0000 rate:0.0240 aloss:0.6890 eloss:1.2453 aloss2:1.4904 exploreP:0.9417\n",
      "Episode:26 meanR:22.9259 R:12.0000 rate:0.0240 aloss:0.6901 eloss:1.2404 aloss2:1.4954 exploreP:0.9406\n",
      "Episode:27 meanR:22.6786 R:16.0000 rate:0.0320 aloss:0.6930 eloss:1.2394 aloss2:1.4964 exploreP:0.9391\n",
      "Episode:28 meanR:22.6552 R:22.0000 rate:0.0440 aloss:0.6746 eloss:1.2245 aloss2:1.5075 exploreP:0.9370\n",
      "Episode:29 meanR:23.2000 R:39.0000 rate:0.0780 aloss:0.6850 eloss:1.2020 aloss2:1.5257 exploreP:0.9334\n",
      "Episode:30 meanR:22.8710 R:13.0000 rate:0.0260 aloss:0.6814 eloss:1.2108 aloss2:1.5255 exploreP:0.9322\n",
      "Episode:31 meanR:22.6250 R:15.0000 rate:0.0300 aloss:0.6917 eloss:1.1820 aloss2:1.5358 exploreP:0.9309\n",
      "Episode:32 meanR:22.3333 R:13.0000 rate:0.0260 aloss:0.6914 eloss:1.1805 aloss2:1.5394 exploreP:0.9297\n",
      "Episode:33 meanR:21.9412 R:9.0000 rate:0.0180 aloss:0.6825 eloss:1.1703 aloss2:1.5487 exploreP:0.9288\n",
      "Episode:34 meanR:22.5143 R:42.0000 rate:0.0840 aloss:0.6812 eloss:1.1585 aloss2:1.5586 exploreP:0.9250\n",
      "Episode:35 meanR:22.4444 R:20.0000 rate:0.0400 aloss:0.6720 eloss:1.1430 aloss2:1.5695 exploreP:0.9232\n",
      "Episode:36 meanR:22.2703 R:16.0000 rate:0.0320 aloss:0.6875 eloss:1.1298 aloss2:1.5776 exploreP:0.9217\n",
      "Episode:37 meanR:23.0000 R:50.0000 rate:0.1000 aloss:0.6898 eloss:1.1149 aloss2:1.5907 exploreP:0.9171\n",
      "Episode:38 meanR:24.3333 R:75.0000 rate:0.1500 aloss:0.6703 eloss:1.0997 aloss2:1.6003 exploreP:0.9104\n",
      "Episode:39 meanR:24.0000 R:11.0000 rate:0.0220 aloss:0.6777 eloss:1.0863 aloss2:1.6103 exploreP:0.9094\n",
      "Episode:40 meanR:24.7561 R:55.0000 rate:0.1100 aloss:0.6895 eloss:1.0523 aloss2:1.6390 exploreP:0.9044\n",
      "Episode:41 meanR:25.0000 R:35.0000 rate:0.0700 aloss:0.6853 eloss:1.0454 aloss2:1.6421 exploreP:0.9013\n",
      "Episode:42 meanR:24.8140 R:17.0000 rate:0.0340 aloss:0.6892 eloss:1.0436 aloss2:1.6421 exploreP:0.8998\n",
      "Episode:43 meanR:25.0455 R:35.0000 rate:0.0700 aloss:0.6791 eloss:1.0378 aloss2:1.6514 exploreP:0.8967\n",
      "Episode:44 meanR:24.9778 R:22.0000 rate:0.0440 aloss:0.6714 eloss:1.0368 aloss2:1.6577 exploreP:0.8947\n",
      "Episode:45 meanR:24.9783 R:25.0000 rate:0.0500 aloss:0.6785 eloss:1.0260 aloss2:1.6600 exploreP:0.8925\n",
      "Episode:46 meanR:25.6170 R:55.0000 rate:0.1100 aloss:0.6802 eloss:1.0021 aloss2:1.6833 exploreP:0.8877\n",
      "Episode:47 meanR:25.4167 R:16.0000 rate:0.0320 aloss:0.6983 eloss:1.0050 aloss2:1.6799 exploreP:0.8863\n",
      "Episode:48 meanR:25.1837 R:14.0000 rate:0.0280 aloss:0.6951 eloss:1.0132 aloss2:1.6720 exploreP:0.8851\n",
      "Episode:49 meanR:25.0200 R:17.0000 rate:0.0340 aloss:0.7036 eloss:0.9723 aloss2:1.7079 exploreP:0.8836\n",
      "Episode:50 meanR:24.8235 R:15.0000 rate:0.0300 aloss:0.6922 eloss:0.9927 aloss2:1.6889 exploreP:0.8823\n",
      "Episode:51 meanR:24.8269 R:25.0000 rate:0.0500 aloss:0.6896 eloss:0.9945 aloss2:1.6883 exploreP:0.8801\n",
      "Episode:52 meanR:24.6415 R:15.0000 rate:0.0300 aloss:0.6786 eloss:0.9807 aloss2:1.7027 exploreP:0.8788\n",
      "Episode:53 meanR:24.5556 R:20.0000 rate:0.0400 aloss:0.6822 eloss:0.9681 aloss2:1.7178 exploreP:0.8771\n",
      "Episode:54 meanR:24.5636 R:25.0000 rate:0.0500 aloss:0.6879 eloss:0.9671 aloss2:1.7135 exploreP:0.8749\n",
      "Episode:55 meanR:24.6071 R:27.0000 rate:0.0540 aloss:0.6844 eloss:0.9435 aloss2:1.7348 exploreP:0.8726\n",
      "Episode:56 meanR:24.4386 R:15.0000 rate:0.0300 aloss:0.6906 eloss:0.9617 aloss2:1.7179 exploreP:0.8713\n",
      "Episode:57 meanR:24.3103 R:17.0000 rate:0.0340 aloss:0.6973 eloss:0.9549 aloss2:1.7361 exploreP:0.8698\n",
      "Episode:58 meanR:24.5763 R:40.0000 rate:0.0800 aloss:0.6878 eloss:0.9350 aloss2:1.7509 exploreP:0.8664\n",
      "Episode:59 meanR:24.4833 R:19.0000 rate:0.0380 aloss:0.6826 eloss:0.9282 aloss2:1.7648 exploreP:0.8647\n",
      "Episode:60 meanR:24.3770 R:18.0000 rate:0.0360 aloss:0.6919 eloss:0.9325 aloss2:1.7534 exploreP:0.8632\n",
      "Episode:61 meanR:24.3226 R:21.0000 rate:0.0420 aloss:0.6905 eloss:0.9372 aloss2:1.7668 exploreP:0.8614\n",
      "Episode:62 meanR:24.8571 R:58.0000 rate:0.1160 aloss:0.6855 eloss:0.8990 aloss2:1.7931 exploreP:0.8565\n",
      "Episode:63 meanR:24.7969 R:21.0000 rate:0.0420 aloss:0.6839 eloss:0.8858 aloss2:1.8082 exploreP:0.8547\n",
      "Episode:64 meanR:24.7538 R:22.0000 rate:0.0440 aloss:0.6906 eloss:0.9051 aloss2:1.7930 exploreP:0.8529\n",
      "Episode:65 meanR:24.7121 R:22.0000 rate:0.0440 aloss:0.6993 eloss:0.9138 aloss2:1.7962 exploreP:0.8510\n",
      "Episode:66 meanR:24.4776 R:9.0000 rate:0.0180 aloss:0.6893 eloss:0.9051 aloss2:1.8036 exploreP:0.8503\n",
      "Episode:67 meanR:24.3529 R:16.0000 rate:0.0320 aloss:0.6967 eloss:0.8965 aloss2:1.8067 exploreP:0.8489\n",
      "Episode:68 meanR:24.2899 R:20.0000 rate:0.0400 aloss:0.6969 eloss:0.8793 aloss2:1.8238 exploreP:0.8472\n",
      "Episode:69 meanR:24.2000 R:18.0000 rate:0.0360 aloss:0.6935 eloss:0.8924 aloss2:1.8208 exploreP:0.8457\n",
      "Episode:70 meanR:24.3239 R:33.0000 rate:0.0660 aloss:0.6938 eloss:0.8739 aloss2:1.8392 exploreP:0.8430\n",
      "Episode:71 meanR:24.2639 R:20.0000 rate:0.0400 aloss:0.6902 eloss:0.8686 aloss2:1.8505 exploreP:0.8413\n",
      "Episode:72 meanR:24.3973 R:34.0000 rate:0.0680 aloss:0.7085 eloss:0.8629 aloss2:1.8658 exploreP:0.8385\n",
      "Episode:73 meanR:24.2432 R:13.0000 rate:0.0260 aloss:0.6879 eloss:0.8276 aloss2:1.8964 exploreP:0.8374\n",
      "Episode:74 meanR:24.3200 R:30.0000 rate:0.0600 aloss:0.6972 eloss:0.8509 aloss2:1.8852 exploreP:0.8349\n",
      "Episode:75 meanR:24.4079 R:31.0000 rate:0.0620 aloss:0.6958 eloss:0.8509 aloss2:1.8939 exploreP:0.8324\n",
      "Episode:76 meanR:24.3247 R:18.0000 rate:0.0360 aloss:0.7044 eloss:0.8347 aloss2:1.9158 exploreP:0.8309\n",
      "Episode:77 meanR:24.1667 R:12.0000 rate:0.0240 aloss:0.6950 eloss:0.8288 aloss2:1.9276 exploreP:0.8299\n",
      "Episode:78 meanR:24.1139 R:20.0000 rate:0.0400 aloss:0.7021 eloss:0.8371 aloss2:1.9187 exploreP:0.8283\n",
      "Episode:79 meanR:24.1625 R:28.0000 rate:0.0560 aloss:0.6975 eloss:0.8248 aloss2:1.9354 exploreP:0.8260\n"
     ]
    },
    {
     "name": "stdout",
     "output_type": "stream",
     "text": [
      "Episode:80 meanR:24.0617 R:16.0000 rate:0.0320 aloss:0.6922 eloss:0.7965 aloss2:1.9710 exploreP:0.8247\n",
      "Episode:81 meanR:23.9268 R:13.0000 rate:0.0260 aloss:0.6955 eloss:0.7983 aloss2:1.9635 exploreP:0.8236\n",
      "Episode:82 meanR:23.7711 R:11.0000 rate:0.0220 aloss:0.7166 eloss:0.8249 aloss2:1.9624 exploreP:0.8227\n",
      "Episode:83 meanR:23.6548 R:14.0000 rate:0.0280 aloss:0.7024 eloss:0.7993 aloss2:1.9858 exploreP:0.8216\n",
      "Episode:84 meanR:23.5294 R:13.0000 rate:0.0260 aloss:0.6959 eloss:0.7849 aloss2:1.9943 exploreP:0.8205\n",
      "Episode:85 meanR:23.6977 R:38.0000 rate:0.0760 aloss:0.7054 eloss:0.7951 aloss2:1.9828 exploreP:0.8175\n",
      "Episode:86 meanR:23.9425 R:45.0000 rate:0.0900 aloss:0.7014 eloss:0.7838 aloss2:2.0179 exploreP:0.8138\n",
      "Episode:87 meanR:23.8182 R:13.0000 rate:0.0260 aloss:0.7049 eloss:0.7856 aloss2:2.0144 exploreP:0.8128\n",
      "Episode:88 meanR:23.7191 R:15.0000 rate:0.0300 aloss:0.6912 eloss:0.7633 aloss2:2.0461 exploreP:0.8116\n",
      "Episode:89 meanR:23.6111 R:14.0000 rate:0.0280 aloss:0.6958 eloss:0.7693 aloss2:2.0449 exploreP:0.8105\n",
      "Episode:90 meanR:23.5055 R:14.0000 rate:0.0280 aloss:0.6960 eloss:0.7506 aloss2:2.0591 exploreP:0.8094\n",
      "Episode:91 meanR:23.4239 R:16.0000 rate:0.0320 aloss:0.6985 eloss:0.7629 aloss2:2.0586 exploreP:0.8081\n",
      "Episode:92 meanR:23.3333 R:15.0000 rate:0.0300 aloss:0.6995 eloss:0.7591 aloss2:2.0644 exploreP:0.8069\n",
      "Episode:93 meanR:23.3404 R:24.0000 rate:0.0480 aloss:0.7042 eloss:0.7486 aloss2:2.0772 exploreP:0.8050\n",
      "Episode:94 meanR:23.2526 R:15.0000 rate:0.0300 aloss:0.7078 eloss:0.7702 aloss2:2.0745 exploreP:0.8038\n",
      "Episode:95 meanR:23.4896 R:46.0000 rate:0.0920 aloss:0.7011 eloss:0.7475 aloss2:2.1006 exploreP:0.8001\n",
      "Episode:96 meanR:23.4330 R:18.0000 rate:0.0360 aloss:0.7022 eloss:0.7280 aloss2:2.1147 exploreP:0.7987\n",
      "Episode:97 meanR:23.3265 R:13.0000 rate:0.0260 aloss:0.6922 eloss:0.7341 aloss2:2.1328 exploreP:0.7977\n",
      "Episode:98 meanR:23.3030 R:21.0000 rate:0.0420 aloss:0.6878 eloss:0.7222 aloss2:2.1509 exploreP:0.7960\n",
      "Episode:99 meanR:23.1800 R:11.0000 rate:0.0220 aloss:0.6922 eloss:0.7026 aloss2:2.1549 exploreP:0.7952\n",
      "Episode:100 meanR:23.2200 R:21.0000 rate:0.0420 aloss:0.6967 eloss:0.7231 aloss2:2.1514 exploreP:0.7935\n",
      "Episode:101 meanR:23.2100 R:33.0000 rate:0.0660 aloss:0.7014 eloss:0.7263 aloss2:2.1542 exploreP:0.7909\n",
      "Episode:102 meanR:23.3000 R:21.0000 rate:0.0420 aloss:0.7006 eloss:0.7225 aloss2:2.1702 exploreP:0.7893\n",
      "Episode:103 meanR:23.2400 R:22.0000 rate:0.0440 aloss:0.6944 eloss:0.6970 aloss2:2.1950 exploreP:0.7876\n",
      "Episode:104 meanR:23.3100 R:21.0000 rate:0.0420 aloss:0.6952 eloss:0.6933 aloss2:2.2102 exploreP:0.7860\n",
      "Episode:105 meanR:22.9700 R:15.0000 rate:0.0300 aloss:0.6950 eloss:0.7196 aloss2:2.2096 exploreP:0.7848\n",
      "Episode:106 meanR:23.0600 R:27.0000 rate:0.0540 aloss:0.6939 eloss:0.6937 aloss2:2.2158 exploreP:0.7827\n",
      "Episode:107 meanR:23.1200 R:25.0000 rate:0.0500 aloss:0.6838 eloss:0.6726 aloss2:2.2344 exploreP:0.7808\n",
      "Episode:108 meanR:23.3500 R:38.0000 rate:0.0760 aloss:0.6954 eloss:0.6902 aloss2:2.2474 exploreP:0.7779\n",
      "Episode:109 meanR:23.1200 R:19.0000 rate:0.0380 aloss:0.6882 eloss:0.6610 aloss2:2.2821 exploreP:0.7764\n",
      "Episode:110 meanR:23.6200 R:70.0000 rate:0.1400 aloss:0.6875 eloss:0.6604 aloss2:2.2937 exploreP:0.7711\n",
      "Episode:111 meanR:23.8000 R:29.0000 rate:0.0580 aloss:0.6877 eloss:0.6487 aloss2:2.3187 exploreP:0.7689\n",
      "Episode:112 meanR:23.8500 R:24.0000 rate:0.0480 aloss:0.6816 eloss:0.6384 aloss2:2.3355 exploreP:0.7670\n",
      "Episode:113 meanR:24.3100 R:64.0000 rate:0.1280 aloss:0.6784 eloss:0.6353 aloss2:2.3651 exploreP:0.7622\n",
      "Episode:114 meanR:24.4800 R:28.0000 rate:0.0560 aloss:0.6797 eloss:0.6285 aloss2:2.3720 exploreP:0.7601\n",
      "Episode:115 meanR:24.4800 R:29.0000 rate:0.0580 aloss:0.6768 eloss:0.6303 aloss2:2.4039 exploreP:0.7579\n",
      "Episode:116 meanR:24.5200 R:25.0000 rate:0.0500 aloss:0.6785 eloss:0.6230 aloss2:2.3911 exploreP:0.7561\n",
      "Episode:117 meanR:24.5400 R:45.0000 rate:0.0900 aloss:0.6823 eloss:0.6145 aloss2:2.4237 exploreP:0.7527\n",
      "Episode:118 meanR:24.7000 R:32.0000 rate:0.0640 aloss:0.6846 eloss:0.6082 aloss2:2.4372 exploreP:0.7503\n",
      "Episode:119 meanR:24.4400 R:25.0000 rate:0.0500 aloss:0.6748 eloss:0.5993 aloss2:2.4566 exploreP:0.7485\n",
      "Episode:120 meanR:24.5700 R:27.0000 rate:0.0540 aloss:0.6786 eloss:0.6184 aloss2:2.4751 exploreP:0.7465\n",
      "Episode:121 meanR:24.7400 R:51.0000 rate:0.1020 aloss:0.6798 eloss:0.5862 aloss2:2.4834 exploreP:0.7428\n",
      "Episode:122 meanR:24.9800 R:42.0000 rate:0.0840 aloss:0.6752 eloss:0.6070 aloss2:2.5138 exploreP:0.7397\n",
      "Episode:123 meanR:24.8300 R:13.0000 rate:0.0260 aloss:0.6703 eloss:0.5773 aloss2:2.5304 exploreP:0.7387\n",
      "Episode:124 meanR:24.9400 R:25.0000 rate:0.0500 aloss:0.6767 eloss:0.5739 aloss2:2.5337 exploreP:0.7369\n",
      "Episode:125 meanR:25.1000 R:28.0000 rate:0.0560 aloss:0.6726 eloss:0.6030 aloss2:2.5524 exploreP:0.7349\n",
      "Episode:126 meanR:25.3900 R:41.0000 rate:0.0820 aloss:0.6700 eloss:0.5891 aloss2:2.5504 exploreP:0.7319\n",
      "Episode:127 meanR:25.5100 R:28.0000 rate:0.0560 aloss:0.6772 eloss:0.5716 aloss2:2.5706 exploreP:0.7299\n",
      "Episode:128 meanR:26.1400 R:85.0000 rate:0.1700 aloss:0.6712 eloss:0.5739 aloss2:2.6096 exploreP:0.7238\n",
      "Episode:129 meanR:26.2100 R:46.0000 rate:0.0920 aloss:0.6741 eloss:0.5795 aloss2:2.6416 exploreP:0.7205\n",
      "Episode:130 meanR:26.2100 R:13.0000 rate:0.0260 aloss:0.6738 eloss:0.5527 aloss2:2.6504 exploreP:0.7196\n",
      "Episode:131 meanR:26.4500 R:39.0000 rate:0.0780 aloss:0.6716 eloss:0.5683 aloss2:2.6564 exploreP:0.7168\n",
      "Episode:132 meanR:26.4300 R:11.0000 rate:0.0220 aloss:0.6715 eloss:0.6005 aloss2:2.6851 exploreP:0.7161\n",
      "Episode:133 meanR:26.7400 R:40.0000 rate:0.0800 aloss:0.6977 eloss:0.5678 aloss2:2.6796 exploreP:0.7132\n",
      "Episode:134 meanR:26.5500 R:23.0000 rate:0.0460 aloss:0.6742 eloss:0.5442 aloss2:2.7103 exploreP:0.7116\n",
      "Episode:135 meanR:26.5900 R:24.0000 rate:0.0480 aloss:0.6704 eloss:0.5415 aloss2:2.7173 exploreP:0.7099\n",
      "Episode:136 meanR:27.4600 R:103.0000 rate:0.2060 aloss:0.6730 eloss:0.5595 aloss2:2.7308 exploreP:0.7028\n",
      "Episode:137 meanR:27.3600 R:40.0000 rate:0.0800 aloss:0.6690 eloss:0.5474 aloss2:2.7577 exploreP:0.7000\n",
      "Episode:138 meanR:27.0100 R:40.0000 rate:0.0800 aloss:0.6659 eloss:0.5363 aloss2:2.7750 exploreP:0.6973\n",
      "Episode:139 meanR:27.1800 R:28.0000 rate:0.0560 aloss:0.6750 eloss:0.5212 aloss2:2.7833 exploreP:0.6953\n",
      "Episode:140 meanR:28.1800 R:155.0000 rate:0.3100 aloss:0.6766 eloss:0.5306 aloss2:2.8235 exploreP:0.6848\n",
      "Episode:141 meanR:29.3700 R:154.0000 rate:0.3080 aloss:0.6773 eloss:0.5297 aloss2:2.9001 exploreP:0.6745\n",
      "Episode:142 meanR:29.5000 R:30.0000 rate:0.0600 aloss:0.6761 eloss:0.5083 aloss2:2.9590 exploreP:0.6725\n",
      "Episode:143 meanR:29.3200 R:17.0000 rate:0.0340 aloss:0.6707 eloss:0.5236 aloss2:2.9618 exploreP:0.6714\n",
      "Episode:144 meanR:31.2700 R:217.0000 rate:0.4340 aloss:0.6807 eloss:0.5326 aloss2:2.9893 exploreP:0.6572\n",
      "Episode:145 meanR:31.8200 R:80.0000 rate:0.1600 aloss:0.6860 eloss:0.5281 aloss2:3.0354 exploreP:0.6520\n",
      "Episode:146 meanR:32.5300 R:126.0000 rate:0.2520 aloss:0.6739 eloss:0.5335 aloss2:3.0465 exploreP:0.6440\n",
      "Episode:147 meanR:33.3700 R:100.0000 rate:0.2000 aloss:0.6808 eloss:0.5253 aloss2:3.0814 exploreP:0.6377\n",
      "Episode:148 meanR:34.1500 R:92.0000 rate:0.1840 aloss:0.6776 eloss:0.5126 aloss2:3.1146 exploreP:0.6319\n",
      "Episode:149 meanR:35.0300 R:105.0000 rate:0.2100 aloss:0.6787 eloss:0.5207 aloss2:3.1394 exploreP:0.6254\n",
      "Episode:150 meanR:35.5300 R:65.0000 rate:0.1300 aloss:0.6915 eloss:0.5393 aloss2:3.1766 exploreP:0.6214\n",
      "Episode:151 meanR:37.1300 R:185.0000 rate:0.3700 aloss:0.6850 eloss:0.5165 aloss2:3.1863 exploreP:0.6102\n",
      "Episode:152 meanR:38.0500 R:107.0000 rate:0.2140 aloss:0.6912 eloss:0.5103 aloss2:3.2164 exploreP:0.6038\n",
      "Episode:153 meanR:37.9700 R:12.0000 rate:0.0240 aloss:0.7200 eloss:0.5239 aloss2:3.2363 exploreP:0.6031\n",
      "Episode:154 meanR:38.1000 R:38.0000 rate:0.0760 aloss:0.7256 eloss:0.5272 aloss2:3.2378 exploreP:0.6009\n",
      "Episode:155 meanR:38.0000 R:17.0000 rate:0.0340 aloss:0.6982 eloss:0.5238 aloss2:3.2219 exploreP:0.5999\n",
      "Episode:156 meanR:38.5600 R:71.0000 rate:0.1420 aloss:0.6736 eloss:0.4941 aloss2:3.2160 exploreP:0.5957\n",
      "Episode:157 meanR:39.4600 R:107.0000 rate:0.2140 aloss:0.6889 eloss:0.5133 aloss2:3.2417 exploreP:0.5895\n",
      "Episode:158 meanR:39.8400 R:78.0000 rate:0.1560 aloss:0.6888 eloss:0.5119 aloss2:3.2536 exploreP:0.5850\n"
     ]
    },
    {
     "name": "stdout",
     "output_type": "stream",
     "text": [
      "Episode:159 meanR:40.7500 R:110.0000 rate:0.2200 aloss:0.6944 eloss:0.5206 aloss2:3.2866 exploreP:0.5787\n",
      "Episode:160 meanR:41.1300 R:56.0000 rate:0.1120 aloss:0.6937 eloss:0.4941 aloss2:3.2812 exploreP:0.5755\n",
      "Episode:161 meanR:41.4000 R:48.0000 rate:0.0960 aloss:0.6893 eloss:0.5292 aloss2:3.2832 exploreP:0.5728\n",
      "Episode:162 meanR:41.1900 R:37.0000 rate:0.0740 aloss:0.6983 eloss:0.5259 aloss2:3.2962 exploreP:0.5707\n",
      "Episode:163 meanR:41.1900 R:21.0000 rate:0.0420 aloss:0.7087 eloss:0.5581 aloss2:3.2503 exploreP:0.5695\n",
      "Episode:164 meanR:41.7000 R:73.0000 rate:0.1460 aloss:0.7004 eloss:0.4957 aloss2:3.2869 exploreP:0.5655\n",
      "Episode:165 meanR:42.6100 R:113.0000 rate:0.2260 aloss:0.7140 eloss:0.5028 aloss2:3.3051 exploreP:0.5592\n",
      "Episode:166 meanR:43.3600 R:84.0000 rate:0.1680 aloss:0.7098 eloss:0.5145 aloss2:3.3285 exploreP:0.5546\n",
      "Episode:167 meanR:44.3200 R:112.0000 rate:0.2240 aloss:0.7154 eloss:0.5034 aloss2:3.3209 exploreP:0.5486\n",
      "Episode:168 meanR:45.1700 R:105.0000 rate:0.2100 aloss:0.7361 eloss:0.4891 aloss2:3.3372 exploreP:0.5429\n",
      "Episode:169 meanR:45.9700 R:98.0000 rate:0.1960 aloss:0.7591 eloss:0.4811 aloss2:3.3516 exploreP:0.5377\n",
      "Episode:170 meanR:46.1700 R:53.0000 rate:0.1060 aloss:0.6995 eloss:0.5244 aloss2:3.3346 exploreP:0.5350\n",
      "Episode:171 meanR:46.2100 R:24.0000 rate:0.0480 aloss:0.7254 eloss:0.5207 aloss2:3.3487 exploreP:0.5337\n",
      "Episode:172 meanR:46.2900 R:42.0000 rate:0.0840 aloss:0.7260 eloss:0.4788 aloss2:3.3483 exploreP:0.5315\n",
      "Episode:173 meanR:47.0200 R:86.0000 rate:0.1720 aloss:0.7871 eloss:0.4842 aloss2:3.3456 exploreP:0.5270\n",
      "Episode:174 meanR:47.4700 R:75.0000 rate:0.1500 aloss:0.7717 eloss:0.4967 aloss2:3.3691 exploreP:0.5232\n",
      "Episode:175 meanR:47.6800 R:52.0000 rate:0.1040 aloss:0.7433 eloss:0.5379 aloss2:3.3578 exploreP:0.5205\n",
      "Episode:176 meanR:48.9400 R:144.0000 rate:0.2880 aloss:0.7865 eloss:0.4875 aloss2:3.3511 exploreP:0.5132\n",
      "Episode:177 meanR:49.5300 R:71.0000 rate:0.1420 aloss:0.7753 eloss:0.4915 aloss2:3.3553 exploreP:0.5096\n",
      "Episode:178 meanR:49.5800 R:25.0000 rate:0.0500 aloss:0.8108 eloss:0.4666 aloss2:3.3581 exploreP:0.5084\n",
      "Episode:179 meanR:50.1100 R:81.0000 rate:0.1620 aloss:0.7834 eloss:0.5200 aloss2:3.3470 exploreP:0.5044\n",
      "Episode:180 meanR:50.2900 R:34.0000 rate:0.0680 aloss:0.7727 eloss:0.4884 aloss2:3.3391 exploreP:0.5027\n",
      "Episode:181 meanR:50.5200 R:36.0000 rate:0.0720 aloss:0.7879 eloss:0.5152 aloss2:3.3361 exploreP:0.5009\n",
      "Episode:182 meanR:51.3300 R:92.0000 rate:0.1840 aloss:0.8099 eloss:0.4427 aloss2:3.3440 exploreP:0.4964\n",
      "Episode:183 meanR:51.4100 R:22.0000 rate:0.0440 aloss:0.8287 eloss:0.4520 aloss2:3.3534 exploreP:0.4954\n",
      "Episode:184 meanR:51.8900 R:61.0000 rate:0.1220 aloss:0.8413 eloss:0.4506 aloss2:3.3580 exploreP:0.4924\n",
      "Episode:185 meanR:52.4500 R:94.0000 rate:0.1880 aloss:0.8475 eloss:0.4520 aloss2:3.3610 exploreP:0.4879\n",
      "Episode:186 meanR:53.4100 R:141.0000 rate:0.2820 aloss:0.8373 eloss:0.4773 aloss2:3.3605 exploreP:0.4812\n",
      "Episode:187 meanR:54.1600 R:88.0000 rate:0.1760 aloss:0.8515 eloss:0.4303 aloss2:3.3558 exploreP:0.4771\n",
      "Episode:188 meanR:54.9400 R:93.0000 rate:0.1860 aloss:0.8362 eloss:0.4152 aloss2:3.3717 exploreP:0.4728\n",
      "Episode:189 meanR:55.1700 R:37.0000 rate:0.0740 aloss:0.8155 eloss:0.4405 aloss2:3.3852 exploreP:0.4710\n"
     ]
    }
   ],
   "source": [
    "# Save/load the model and save for plotting\n",
    "saver = tf.train.Saver()\n",
    "episode_rewards_list, rewards_list = [], []\n",
    "aloss_list, eloss_list, aloss2_list = [], [], []\n",
    "\n",
    "# TF session for training\n",
    "with tf.Session(graph=graph) as sess:\n",
    "    sess.run(tf.global_variables_initializer())\n",
    "    #saver.restore(sess, 'checkpoints/model.ckpt')    \n",
    "    #saver.restore(sess, tf.train.latest_checkpoint('checkpoints'))\n",
    "    total_step = 0 # Explore or exploit parameter\n",
    "    episode_reward = deque(maxlen=100) # 100 episodes for running average/running mean/window\n",
    "\n",
    "    # Training episodes/epochs\n",
    "    for ep in range(11111):\n",
    "        aloss_batch, eloss_batch, aloss2_batch = [], [], []\n",
    "        total_reward = 0\n",
    "        state = env.reset()\n",
    "        num_step = 0\n",
    "        rate = -1\n",
    "\n",
    "        # Training steps/batches\n",
    "        while True:\n",
    "            # Explore (env) or Exploit (model)\n",
    "            total_step += 1\n",
    "            explore_p = explore_stop + (explore_start - explore_stop) * np.exp(-decay_rate * total_step) \n",
    "            if explore_p > np.random.rand():\n",
    "                action = env.action_space.sample()\n",
    "            else:\n",
    "                action_logits = sess.run(model.actions_logits, feed_dict={model.states: state.reshape([1, -1])})\n",
    "                action = np.argmax(action_logits)\n",
    "            next_state, reward, done, _ = env.step(action)\n",
    "            memory.buffer.append([state, action, next_state, reward, float(done), rate])\n",
    "            num_step += 1 # momory added\n",
    "            total_reward += reward\n",
    "            state = next_state\n",
    "            \n",
    "            # Training with the maxrated minibatch\n",
    "            batch = memory.buffer\n",
    "            #for idx in range(memory_size// batch_size):\n",
    "            while True:\n",
    "                idx = np.random.choice(np.arange(memory_size// batch_size))\n",
    "                states = np.array([each[0] for each in batch])[idx*batch_size:(idx+1)*batch_size]\n",
    "                actions = np.array([each[1] for each in batch])[idx*batch_size:(idx+1)*batch_size]\n",
    "                next_states = np.array([each[2] for each in batch])[idx*batch_size:(idx+1)*batch_size]\n",
    "                rewards = np.array([each[3] for each in batch])[idx*batch_size:(idx+1)*batch_size]\n",
    "                dones = np.array([each[4] for each in batch])[idx*batch_size:(idx+1)*batch_size]\n",
    "                rates = np.array([each[5] for each in batch])[idx*batch_size:(idx+1)*batch_size]\n",
    "                states = states[rates >= np.max(rates)]\n",
    "                actions = actions[rates >= np.max(rates)]\n",
    "                next_states = next_states[rates >= np.max(rates)]\n",
    "                rewards = rewards[rates >= np.max(rates)]\n",
    "                dones = dones[rates >= np.max(rates)]\n",
    "                rates = rates[rates >= np.max(rates)]\n",
    "                if np.count_nonzero(dones) > 0 and len(dones) > 1 and np.max(rates) > 0:\n",
    "                    break\n",
    "            aloss, _ = sess.run([model.a_loss, model.a_opt],\n",
    "                                  feed_dict = {model.states: states, \n",
    "                                               model.actions: actions,\n",
    "                                               model.next_states: next_states,\n",
    "                                               model.rewards: rewards,\n",
    "                                               model.dones: dones,\n",
    "                                               model.rates: rates})\n",
    "            eloss, _ = sess.run([model.e_loss, model.e_opt],\n",
    "                                  feed_dict = {model.states: states, \n",
    "                                               model.actions: actions,\n",
    "                                               model.next_states: next_states,\n",
    "                                               model.rewards: rewards,\n",
    "                                               model.dones: dones,\n",
    "                                               model.rates: rates})\n",
    "            aloss2, _= sess.run([model.a_loss2, model.a_opt2], \n",
    "                                 feed_dict = {model.states: states, \n",
    "                                              model.actions: actions,\n",
    "                                              model.next_states: next_states,\n",
    "                                              model.rewards: rewards,\n",
    "                                              model.dones: dones,\n",
    "                                              model.rates: rates})\n",
    "            # print(len(dones), np.count_nonzero(dones), np.max(rates))\n",
    "            aloss_batch.append(aloss)\n",
    "            eloss_batch.append(eloss)\n",
    "            aloss2_batch.append(aloss2)\n",
    "            if done is True:\n",
    "                break\n",
    "                \n",
    "        # Rating the latest played episode\n",
    "        rate = total_reward/500 # update rate at the end/ when episode is done\n",
    "        for idx in range(num_step): # episode length\n",
    "            if memory.buffer[-1-idx][-1] == -1: # double-check the landmark/marked indexes\n",
    "                memory.buffer[-1-idx][-1] = rate # rate the trajectory/data\n",
    "\n",
    "        # Print out\n",
    "        episode_reward.append(total_reward)\n",
    "        print('Episode:{}'.format(ep),\n",
    "              'meanR:{:.4f}'.format(np.mean(episode_reward)),\n",
    "              'R:{:.4f}'.format(total_reward),\n",
    "              'rate:{:.4f}'.format(rate),\n",
    "              'aloss:{:.4f}'.format(np.mean(aloss_batch)),\n",
    "              'eloss:{:.4f}'.format(np.mean(eloss_batch)),\n",
    "              'aloss2:{:.4f}'.format(np.mean(aloss2_batch)),\n",
    "              'exploreP:{:.4f}'.format(explore_p))\n",
    "\n",
    "        # Ploting out\n",
    "        episode_rewards_list.append([ep, np.mean(episode_reward)])\n",
    "        rewards_list.append([ep, total_reward])\n",
    "        aloss_list.append([ep, np.mean(aloss_batch)])\n",
    "        eloss_list.append([ep, np.mean(eloss_batch)])\n",
    "        aloss2_list.append([ep, np.mean(aloss2_batch)])\n",
    "        \n",
    "        # Break episode/epoch loop\n",
    "        ## Option 1: Solve the First Version\n",
    "        #The task is episodic, and in order to solve the environment, \n",
    "        #your agent must get an average score of +30 over 100 consecutive episodes.\n",
    "        if np.mean(episode_reward) >= 500:\n",
    "            break\n",
    "            \n",
    "    # At the end of all training episodes/epochs\n",
    "    saver.save(sess, 'checkpoints/model.ckpt')"
   ]
  },
  {
   "cell_type": "markdown",
   "metadata": {},
   "source": [
    "# Visualizing training\n",
    "\n",
    "Below I'll plot the total rewards for each episode. I'm plotting the rolling average too, in blue."
   ]
  },
  {
   "cell_type": "code",
   "execution_count": null,
   "metadata": {},
   "outputs": [],
   "source": [
    "import matplotlib.pyplot as plt\n",
    "%matplotlib inline\n",
    "\n",
    "def running_mean(x, N):\n",
    "    cumsum = np.cumsum(np.insert(x, 0, 0)) \n",
    "    return (cumsum[N:] - cumsum[:-N]) / N "
   ]
  },
  {
   "cell_type": "code",
   "execution_count": null,
   "metadata": {},
   "outputs": [],
   "source": [
    "eps, arr = np.array(episode_rewards_list).T\n",
    "smoothed_arr = running_mean(arr, 10)\n",
    "plt.plot(eps[-len(smoothed_arr):], smoothed_arr)\n",
    "plt.plot(eps, arr, color='grey', alpha=0.3)\n",
    "plt.xlabel('Episode')\n",
    "plt.ylabel('Total rewards')"
   ]
  },
  {
   "cell_type": "code",
   "execution_count": 22,
   "metadata": {},
   "outputs": [
    {
     "data": {
      "text/plain": [
       "Text(0, 0.5, 'Total rewards')"
      ]
     },
     "execution_count": 22,
     "metadata": {},
     "output_type": "execute_result"
    },
    {
     "data": {
      "image/png": "[encoded data removed]",
      "text/plain": [
       "<Figure size 432x288 with 1 Axes>"
      ]
     },
     "metadata": {
      "needs_background": "light"
     },
     "output_type": "display_data"
    }
   ],
   "source": [
    "eps, arr = np.array(episode_rewards_list).T\n",
    "smoothed_arr = running_mean(arr, 10)\n",
    "plt.plot(eps[-len(smoothed_arr):], smoothed_arr)\n",
    "plt.plot(eps, arr, color='grey', alpha=0.3)\n",
    "plt.xlabel('Episode')\n",
    "plt.ylabel('Total rewards')"
   ]
  },
  {
   "cell_type": "code",
   "execution_count": 23,
   "metadata": {},
   "outputs": [
    {
     "data": {
      "text/plain": [
       "Text(0, 0.5, 'Total rewards')"
      ]
     },
     "execution_count": 23,
     "metadata": {},
     "output_type": "execute_result"
    },
    {
     "data": {
      "image/png": "[encoded data removed]",
      "text/plain": [
       "<Figure size 432x288 with 1 Axes>"
      ]
     },
     "metadata": {
      "needs_background": "light"
     },
     "output_type": "display_data"
    }
   ],
   "source": [
    "eps, arr = np.array(rewards_list).T\n",
    "smoothed_arr = running_mean(arr, 10)\n",
    "plt.plot(eps[-len(smoothed_arr):], smoothed_arr)\n",
    "plt.plot(eps, arr, color='grey', alpha=0.3)\n",
    "plt.xlabel('Episode')\n",
    "plt.ylabel('Total rewards')"
   ]
  },
  {
   "cell_type": "code",
   "execution_count": 24,
   "metadata": {},
   "outputs": [
    {
     "data": {
      "text/plain": [
       "Text(0, 0.5, 'Act losses')"
      ]
     },
     "execution_count": 24,
     "metadata": {},
     "output_type": "execute_result"
    },
    {
     "data": {
      "image/png": "[encoded data removed]",
      "text/plain": [
       "<Figure size 432x288 with 1 Axes>"
      ]
     },
     "metadata": {
      "needs_background": "light"
     },
     "output_type": "display_data"
    }
   ],
   "source": [
    "eps, arr = np.array(aloss_list).T\n",
    "smoothed_arr = running_mean(arr, 10)\n",
    "plt.plot(eps[-len(smoothed_arr):], smoothed_arr)\n",
    "plt.plot(eps, arr, color='grey', alpha=0.3)\n",
    "plt.xlabel('Episode')\n",
    "plt.ylabel('Act losses')"
   ]
  },
  {
   "cell_type": "code",
   "execution_count": 25,
   "metadata": {},
   "outputs": [
    {
     "data": {
      "text/plain": [
       "Text(0, 0.5, 'Env losses')"
      ]
     },
     "execution_count": 25,
     "metadata": {},
     "output_type": "execute_result"
    },
    {
     "data": {
      "image/png": "[encoded data removed]",
      "text/plain": [
       "<Figure size 432x288 with 1 Axes>"
      ]
     },
     "metadata": {
      "needs_background": "light"
     },
     "output_type": "display_data"
    }
   ],
   "source": [
    "eps, arr = np.array(eloss_list).T\n",
    "smoothed_arr = running_mean(arr, 10)\n",
    "plt.plot(eps[-len(smoothed_arr):], smoothed_arr)\n",
    "plt.plot(eps, arr, color='grey', alpha=0.3)\n",
    "plt.xlabel('Episode')\n",
    "plt.ylabel('Env losses')"
   ]
  },
  {
   "cell_type": "code",
   "execution_count": 26,
   "metadata": {},
   "outputs": [
    {
     "data": {
      "text/plain": [
       "Text(0, 0.5, 'Act losses 2')"
      ]
     },
     "execution_count": 26,
     "metadata": {},
     "output_type": "execute_result"
    },
    {
     "data": {
      "image/png": "[encoded data removed]",
      "text/plain": [
       "<Figure size 432x288 with 1 Axes>"
      ]
     },
     "metadata": {
      "needs_background": "light"
     },
     "output_type": "display_data"
    }
   ],
   "source": [
    "eps, arr = np.array(aloss2_list).T\n",
    "smoothed_arr = running_mean(arr, 10)\n",
    "plt.plot(eps[-len(smoothed_arr):], smoothed_arr)\n",
    "plt.plot(eps, arr, color='grey', alpha=0.3)\n",
    "plt.xlabel('Episode')\n",
    "plt.ylabel('Act losses 2')"
   ]
  },
  {
   "cell_type": "markdown",
   "metadata": {},
   "source": [
    "## Testing\n",
    "\n",
    "Let's checkout how our trained agent plays the game."
   ]
  },
  {
   "cell_type": "code",
   "execution_count": 21,
   "metadata": {},
   "outputs": [
    {
     "name": "stdout",
     "output_type": "stream",
     "text": [
      "INFO:tensorflow:Restoring parameters from checkpoints/model.ckpt\n",
      "total_reward: 500.0\n",
      "total_reward: 500.0\n",
      "total_reward: 500.0\n",
      "total_reward: 500.0\n",
      "total_reward: 500.0\n",
      "total_reward: 500.0\n",
      "total_reward: 500.0\n",
      "total_reward: 500.0\n",
      "total_reward: 500.0\n",
      "total_reward: 500.0\n"
     ]
    }
   ],
   "source": [
    "import gym\n",
    "env = gym.make('CartPole-v0')\n",
    "env = gym.make('CartPole-v1')\n",
    "\n",
    "with tf.Session() as sess:\n",
    "    sess.run(tf.global_variables_initializer())\n",
    "    saver.restore(sess, 'checkpoints/model.ckpt')    \n",
    "    #saver.restore(sess, tf.train.latest_checkpoint('checkpoints'))\n",
    "    \n",
    "    # Episodes/epochs\n",
    "    for _ in range(10):\n",
    "        state = env.reset()\n",
    "        total_reward = 0\n",
    "\n",
    "        # Steps/batches\n",
    "        while True:\n",
    "            env.render()\n",
    "            action_logits = sess.run(model.actions_logits, feed_dict={model.states: state.reshape([1, -1])})\n",
    "            action = np.argmax(action_logits)\n",
    "            state, reward, done, _ = env.step(action)\n",
    "            total_reward += reward\n",
    "            if done:\n",
    "                print('total_reward: {}'.format(total_reward))\n",
    "                break\n",
    "                \n",
    "env.close()"
   ]
  },
  {
   "cell_type": "code",
   "execution_count": null,
   "metadata": {},
   "outputs": [],
   "source": []
  }
 ],
 "metadata": {
  "kernelspec": {
   "display_name": "Python 3",
   "language": "python",
   "name": "python3"
  },
  "language_info": {
   "codemirror_mode": {
    "name": "ipython",
    "version": 3
   },
   "file_extension": ".py",
   "mimetype": "text/x-python",
   "name": "python",
   "nbconvert_exporter": "python",
   "pygments_lexer": "ipython3",
   "version": "3.6.6"
  }
 },
 "nbformat": 4,
 "nbformat_minor": 2
}
