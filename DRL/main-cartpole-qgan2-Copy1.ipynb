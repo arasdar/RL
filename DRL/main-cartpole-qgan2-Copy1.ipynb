{
 "cells": [
  {
   "cell_type": "code",
   "execution_count": 1,
   "metadata": {},
   "outputs": [
    {
     "name": "stdout",
     "output_type": "stream",
     "text": [
      "TensorFlow Version: 1.7.1\n",
      "Default GPU Device: \n"
     ]
    }
   ],
   "source": [
    "import tensorflow as tf\n",
    "print('TensorFlow Version: {}'.format(tf.__version__))\n",
    "print('Default GPU Device: {}'.format(tf.test.gpu_device_name()))"
   ]
  },
  {
   "cell_type": "markdown",
   "metadata": {},
   "source": [
    "##### >**Note:** Make sure you have OpenAI Gym cloned. Then run this command `pip install -e gym/[all]`."
   ]
  },
  {
   "cell_type": "code",
   "execution_count": 2,
   "metadata": {},
   "outputs": [],
   "source": [
    "import numpy as np\n",
    "import gym\n",
    "env = gym.make('CartPole-v0')\n",
    "env = gym.make('CartPole-v1')"
   ]
  },
  {
   "cell_type": "code",
   "execution_count": 3,
   "metadata": {},
   "outputs": [],
   "source": [
    "def model_input(state_size):\n",
    "    #states = tf.placeholder(tf.float32, [None, *state_size], name='states')\n",
    "    states = tf.placeholder(tf.float32, [None, state_size], name='states')\n",
    "    actions = tf.placeholder(tf.int32, [None], name='actions')\n",
    "    next_states = tf.placeholder(tf.float32, [None, state_size], name='next_states')\n",
    "    # rewards = tf.placeholder(tf.float32, [None], name='rewards')\n",
    "    dones = tf.placeholder(tf.float32, [None], name='dones')\n",
    "    rates = tf.placeholder(tf.float32, [None], name='rates') # success rate\n",
    "    return states, actions, next_states, rates"
   ]
  },
  {
   "cell_type": "code",
   "execution_count": 4,
   "metadata": {},
   "outputs": [],
   "source": [
    "def actor(states, action_size, hidden_size, reuse=False, alpha=0.1, training=False):\n",
    "    with tf.variable_scope('actor', reuse=reuse):\n",
    "        # First fully connected layer\n",
    "        h1 = tf.layers.dense(inputs=states, units=hidden_size)\n",
    "        bn1 = tf.layers.batch_normalization(h1, training=training)        \n",
    "        nl1 = tf.maximum(alpha * bn1, bn1)\n",
    "        \n",
    "        # Second fully connected layer\n",
    "        h2 = tf.layers.dense(inputs=nl1, units=hidden_size)\n",
    "        bn2 = tf.layers.batch_normalization(h2, training=training)        \n",
    "        nl2 = tf.maximum(alpha * bn2, bn2)\n",
    "        \n",
    "        # Output layer\n",
    "        logits = tf.layers.dense(inputs=nl2, units=action_size)        \n",
    "        return logits"
   ]
  },
  {
   "cell_type": "code",
   "execution_count": 5,
   "metadata": {},
   "outputs": [],
   "source": [
    "def generator(actions, state_size, hidden_size, reuse=False, alpha=0.1, training=False):\n",
    "    with tf.variable_scope('generator', reuse=reuse):\n",
    "        # First fully connected layer\n",
    "        h1 = tf.layers.dense(inputs=actions, units=hidden_size)\n",
    "        bn1 = tf.layers.batch_normalization(h1, training=training)        \n",
    "        nl1 = tf.maximum(alpha * bn1, bn1)\n",
    "        \n",
    "        # Second fully connected layer\n",
    "        h2 = tf.layers.dense(inputs=nl1, units=hidden_size)\n",
    "        bn2 = tf.layers.batch_normalization(h2, training=training)        \n",
    "        nl2 = tf.maximum(alpha * bn2, bn2)\n",
    "        \n",
    "        # Output layer\n",
    "        logits = tf.layers.dense(inputs=nl2, units=state_size)        \n",
    "        return logits"
   ]
  },
  {
   "cell_type": "code",
   "execution_count": 6,
   "metadata": {},
   "outputs": [],
   "source": [
    "def discriminator(states, actions, action_size, hidden_size, reuse=False, alpha=0.1, training=False):\n",
    "    with tf.variable_scope('discriminator', reuse=reuse):\n",
    "        # First fully connected layer\n",
    "        h1 = tf.layers.dense(inputs=states, units=action_size)\n",
    "        bn1 = tf.layers.batch_normalization(h1, training=training)        \n",
    "        nl1 = tf.maximum(alpha * bn1, bn1)\n",
    "        \n",
    "        # Second fully connected layer\n",
    "        nl1_fused = tf.concat(axis=1, values=[nl1, actions])\n",
    "        h2 = tf.layers.dense(inputs=nl1_fused, units=hidden_size)\n",
    "        bn2 = tf.layers.batch_normalization(h2, training=training)        \n",
    "        nl2 = tf.maximum(alpha * bn2, bn2)\n",
    "                \n",
    "        # Output layer\n",
    "        logits = tf.layers.dense(inputs=nl2, units=1)        \n",
    "        return logits"
   ]
  },
  {
   "cell_type": "code",
   "execution_count": 7,
   "metadata": {},
   "outputs": [],
   "source": [
    "def model_loss(state_size, action_size, hidden_size,\n",
    "               states, actions, next_states, rates):\n",
    "    actions_logits = actor(states=states, hidden_size=hidden_size, action_size=action_size)\n",
    "    actions_labels = tf.one_hot(indices=actions, depth=action_size, dtype=actions_logits.dtype)\n",
    "    aloss = tf.reduce_mean(tf.nn.softmax_cross_entropy_with_logits_v2(logits=actions_logits, \n",
    "                                                                      labels=actions_labels))\n",
    "    ###############################################\n",
    "    next_states_logits = generator(actions=actions_logits, hidden_size=hidden_size, state_size=state_size)\n",
    "    next_states_labels = tf.nn.sigmoid(next_states)\n",
    "    aloss += tf.reduce_mean(tf.nn.sigmoid_cross_entropy_with_logits(logits=next_states_logits, \n",
    "                                                                    labels=next_states_labels))\n",
    "    ####################################################\n",
    "    dQs = discriminator(actions=actions_labels, hidden_size=hidden_size, states=states, action_size=action_size)\n",
    "    rates = tf.reshape(rates, shape=[-1, 1])\n",
    "    dloss = tf.reduce_mean(tf.nn.sigmoid_cross_entropy_with_logits(logits=dQs, # GAN\n",
    "                                                                   labels=rates)) # 0-1\n",
    "    ####################################################\n",
    "    gQs = discriminator(actions=actions_logits, hidden_size=hidden_size, states=states, action_size=action_size, \n",
    "                        reuse=True)\n",
    "    dloss += tf.reduce_mean(tf.nn.sigmoid_cross_entropy_with_logits(logits=gQs, # GAN\n",
    "                                                                    labels=tf.zeros_like(gQs))) # 0-1\n",
    "    aloss2 = tf.reduce_mean(tf.nn.sigmoid_cross_entropy_with_logits(logits=gQs, # GAN\n",
    "                                                                    labels=tf.ones_like(gQs))) # 0-1\n",
    "    ####################################################\n",
    "    next_actions_logits = actor(states=next_states, hidden_size=hidden_size, action_size=action_size, reuse=True)\n",
    "    gQs2 = discriminator(actions=next_actions_logits, hidden_size=hidden_size, states=next_states, \n",
    "                         action_size=action_size, reuse=True)\n",
    "    dloss += tf.reduce_mean(tf.nn.sigmoid_cross_entropy_with_logits(logits=gQs2, # GAN\n",
    "                                                                    labels=tf.zeros_like(gQs2))) # 0-1\n",
    "    aloss2 = tf.reduce_mean(tf.nn.sigmoid_cross_entropy_with_logits(logits=gQs2, # GAN\n",
    "                                                                    labels=tf.ones_like(gQs2))) # 0-1\n",
    "    # ##################################################### repeatable!\n",
    "    # next_states_logits = generator(actions=next_actions_logits, hidden_size=hidden_size, state_size=state_size, \n",
    "    #                                reuse=True)\n",
    "    # next_actions_logits = actor(states=next_states_logits, hidden_size=hidden_size, action_size=action_size, \n",
    "    #                             reuse=True)\n",
    "    # gQs3 = discriminator(actions=next_actions_logits, hidden_size=hidden_size, states=next_states_logits, \n",
    "    #                      action_size=action_size, reuse=True)\n",
    "    # dones2 = tf.concat(axis=0, values=[dones[1:], tf.ones(shape=[1])])\n",
    "    # gQs3 = tf.reshape(gQs3, shape=[-1]) * (1-dones2)\n",
    "    # dloss += tf.reduce_mean(tf.nn.sigmoid_cross_entropy_with_logits(logits=gQs3, # GAN\n",
    "    #                                                                 labels=tf.zeros_like(gQs3))) # 0-1\n",
    "    # aloss2 += tf.reduce_mean(tf.nn.sigmoid_cross_entropy_with_logits(logits=gQs3, # GAN\n",
    "    #                                                                  labels=tf.ones_like(gQs3))) # 0-1\n",
    "    return actions_logits, aloss, dloss, aloss2"
   ]
  },
  {
   "cell_type": "code",
   "execution_count": 8,
   "metadata": {},
   "outputs": [],
   "source": [
    "def model_opt(a_loss, d_loss, a_loss2, a_learning_rate, d_learning_rate):\n",
    "    # Get weights and bias to update\n",
    "    t_vars = tf.trainable_variables()\n",
    "    a_vars = [var for var in t_vars if var.name.startswith('actor')]\n",
    "    #g_vars = [var for var in t_vars if var.name.startswith('generator')]\n",
    "    d_vars = [var for var in t_vars if var.name.startswith('discriminator')]\n",
    "\n",
    "    # Optimize\n",
    "    with tf.control_dependencies(tf.get_collection(tf.GraphKeys.UPDATE_OPS)): # Required for batchnorm (BN)\n",
    "        a_opt = tf.train.AdamOptimizer(a_learning_rate).minimize(a_loss, var_list=a_vars)\n",
    "        d_opt = tf.train.AdamOptimizer(d_learning_rate).minimize(d_loss, var_list=d_vars)\n",
    "        a_opt2 = tf.train.AdamOptimizer(a_learning_rate).minimize(a_loss2, var_list=a_vars)\n",
    "    return a_opt, d_opt, a_opt2"
   ]
  },
  {
   "cell_type": "code",
   "execution_count": 9,
   "metadata": {},
   "outputs": [],
   "source": [
    "class Model:\n",
    "    def __init__(self, state_size, action_size, hidden_size, a_learning_rate, d_learning_rate):\n",
    "\n",
    "        # Data of the Model: make the data available inside the framework\n",
    "        self.states, self.actions, self.next_states, self.rates = model_input(state_size=state_size)\n",
    "\n",
    "        # Create the Model: calculating the loss and forwad pass\n",
    "        self.actions_logits, self.a_loss, self.d_loss, self.a_loss2 = model_loss(\n",
    "            state_size=state_size, action_size=action_size, hidden_size=hidden_size, # model init\n",
    "            states=self.states, actions=self.actions, next_states=self.next_states, rates=self.rates) # model input\n",
    "        \n",
    "        # Update the model: backward pass and backprop\n",
    "        self.a_opt, self.d_opt, self.a_opt2 = model_opt(a_loss=self.a_loss, \n",
    "                                                        d_loss=self.d_loss,\n",
    "                                                        a_loss2=self.a_loss2, \n",
    "                                                        a_learning_rate=a_learning_rate,\n",
    "                                                        d_learning_rate=d_learning_rate)"
   ]
  },
  {
   "cell_type": "code",
   "execution_count": 10,
   "metadata": {},
   "outputs": [],
   "source": [
    "# def sample(buffer, batch_size):\n",
    "#     idx = np.random.choice(np.arange(len(buffer)), size=batch_size, replace=False)\n",
    "#     return [buffer[ii] for ii in idx]"
   ]
  },
  {
   "cell_type": "code",
   "execution_count": 11,
   "metadata": {},
   "outputs": [],
   "source": [
    "from collections import deque\n",
    "class Memory():\n",
    "    def __init__(self, max_size = 1000):\n",
    "        self.buffer = deque(maxlen=max_size) # data batch"
   ]
  },
  {
   "cell_type": "markdown",
   "metadata": {},
   "source": [
    "## Hyperparameters\n",
    "\n",
    "One of the more difficult aspects of reinforcememt learning are the large number of hyperparameters. Not only are we tuning the network, but we're tuning the simulation."
   ]
  },
  {
   "cell_type": "code",
   "execution_count": 12,
   "metadata": {},
   "outputs": [
    {
     "data": {
      "text/plain": [
       "(Box(4,), Discrete(2))"
      ]
     },
     "execution_count": 12,
     "metadata": {},
     "output_type": "execute_result"
    }
   ],
   "source": [
    "env.observation_space, env.action_space"
   ]
  },
  {
   "cell_type": "code",
   "execution_count": 13,
   "metadata": {},
   "outputs": [],
   "source": [
    "# Exploration parameters\n",
    "explore_start = 1.0            # exploration probability at start\n",
    "explore_stop = 0.01           # minimum exploration probability \n",
    "decay_rate = 0.0001            # exponential decay rate for exploration prob\n",
    "\n",
    "# Network parameters\n",
    "state_size = 4\n",
    "action_size = 2\n",
    "hidden_size = 4*2             # number of units in each Q-network hidden layer\n",
    "a_learning_rate = 1e-4         # Q-network learning rate\n",
    "d_learning_rate = 1e-4         # Q-network learning rate\n",
    "\n",
    "# Memory parameters\n",
    "memory_size = int(1e5)            # memory capacity\n",
    "batch_size = int(1e3)             # experience mini-batch size\n",
    "# gamma = 0.99                   # future reward discount"
   ]
  },
  {
   "cell_type": "code",
   "execution_count": 14,
   "metadata": {},
   "outputs": [],
   "source": [
    "# Reset/init the graph/session\n",
    "graph = tf.reset_default_graph()\n",
    "\n",
    "# Init the model\n",
    "model = Model(action_size=action_size, state_size=state_size, hidden_size=hidden_size,\n",
    "              a_learning_rate=a_learning_rate, \n",
    "              d_learning_rate=d_learning_rate)\n",
    "\n",
    "# Init the memory\n",
    "memory = Memory(max_size=memory_size)"
   ]
  },
  {
   "cell_type": "code",
   "execution_count": 15,
   "metadata": {},
   "outputs": [],
   "source": [
    "state = env.reset()\n",
    "total_reward = 0\n",
    "num_step = 0\n",
    "rate = -1\n",
    "for _ in range(memory_size):\n",
    "    action = env.action_space.sample()\n",
    "    next_state, reward, done, _ = env.step(action)\n",
    "    memory.buffer.append([state, action, next_state, reward, float(done), rate])\n",
    "    num_step += 1 # memory incremented\n",
    "    total_reward += reward\n",
    "    state = next_state\n",
    "    if done is True:\n",
    "        state = env.reset()\n",
    "        rate = total_reward/500\n",
    "        for idx in range(num_step): # episode length\n",
    "            if memory.buffer[-1-idx][-1] == -1:\n",
    "                memory.buffer[-1-idx][-1] = rate\n",
    "        total_reward = 0 # reset\n",
    "        num_step = 0 # reset\n",
    "        rate = -1 # reset"
   ]
  },
  {
   "cell_type": "markdown",
   "metadata": {},
   "source": [
    "## Training the model\n",
    "\n",
    "Below we'll train our agent. If you want to watch it train, uncomment the `env.render()` line. This is slow because it's rendering the frames slower than the network can train. But, it's cool to watch the agent get better at the game."
   ]
  },
  {
   "cell_type": "code",
   "execution_count": null,
   "metadata": {},
   "outputs": [
    {
     "name": "stdout",
     "output_type": "stream",
     "text": [
      "Episode:0 meanR:14.0000 R:14.0000 rate:0.0280 aloss:1.3906 dloss:2.2502 aloss2:0.6326 exploreP:0.9986\n",
      "Episode:1 meanR:23.5000 R:33.0000 rate:0.0660 aloss:1.3915 dloss:2.1372 aloss2:0.6745 exploreP:0.9954\n",
      "Episode:2 meanR:19.6667 R:12.0000 rate:0.0240 aloss:1.3902 dloss:2.2127 aloss2:0.6452 exploreP:0.9942\n",
      "Episode:3 meanR:20.7500 R:24.0000 rate:0.0480 aloss:1.3939 dloss:2.5148 aloss2:0.5556 exploreP:0.9918\n",
      "Episode:4 meanR:20.4000 R:19.0000 rate:0.0380 aloss:1.3963 dloss:2.4957 aloss2:0.5527 exploreP:0.9900\n",
      "Episode:5 meanR:20.3333 R:20.0000 rate:0.0400 aloss:1.3884 dloss:2.1587 aloss2:0.6645 exploreP:0.9880\n",
      "Episode:6 meanR:20.0000 R:18.0000 rate:0.0360 aloss:1.3905 dloss:2.1869 aloss2:0.6545 exploreP:0.9862\n",
      "Episode:7 meanR:19.3750 R:15.0000 rate:0.0300 aloss:1.3889 dloss:2.1742 aloss2:0.6572 exploreP:0.9848\n",
      "Episode:8 meanR:19.0000 R:16.0000 rate:0.0320 aloss:1.3876 dloss:2.1965 aloss2:0.6513 exploreP:0.9832\n",
      "Episode:9 meanR:19.0000 R:19.0000 rate:0.0380 aloss:1.3917 dloss:2.2032 aloss2:0.6490 exploreP:0.9814\n",
      "Episode:10 meanR:18.3636 R:12.0000 rate:0.0240 aloss:1.3879 dloss:2.3254 aloss2:0.6107 exploreP:0.9802\n",
      "Episode:11 meanR:18.8333 R:24.0000 rate:0.0480 aloss:1.3843 dloss:2.1937 aloss2:0.6496 exploreP:0.9779\n",
      "Episode:12 meanR:18.6923 R:17.0000 rate:0.0340 aloss:1.3833 dloss:2.2479 aloss2:0.6340 exploreP:0.9762\n",
      "Episode:13 meanR:18.3571 R:14.0000 rate:0.0280 aloss:1.3886 dloss:2.2702 aloss2:0.6305 exploreP:0.9749\n",
      "Episode:14 meanR:18.2000 R:16.0000 rate:0.0320 aloss:1.3890 dloss:2.1535 aloss2:0.6641 exploreP:0.9733\n",
      "Episode:15 meanR:17.7500 R:11.0000 rate:0.0220 aloss:1.3894 dloss:2.1276 aloss2:0.6749 exploreP:0.9723\n",
      "Episode:16 meanR:17.6471 R:16.0000 rate:0.0320 aloss:1.3899 dloss:2.1203 aloss2:0.6777 exploreP:0.9707\n",
      "Episode:17 meanR:18.9444 R:41.0000 rate:0.0820 aloss:1.3829 dloss:2.0878 aloss2:0.6897 exploreP:0.9668\n",
      "Episode:18 meanR:18.8421 R:17.0000 rate:0.0340 aloss:1.3840 dloss:2.1551 aloss2:0.6648 exploreP:0.9652\n",
      "Episode:19 meanR:18.8500 R:19.0000 rate:0.0380 aloss:1.3865 dloss:2.2272 aloss2:0.6428 exploreP:0.9634\n",
      "Episode:20 meanR:20.2381 R:48.0000 rate:0.0960 aloss:1.3915 dloss:2.3507 aloss2:0.6124 exploreP:0.9588\n",
      "Episode:21 meanR:20.4091 R:24.0000 rate:0.0480 aloss:1.3869 dloss:2.1130 aloss2:0.6779 exploreP:0.9565\n",
      "Episode:22 meanR:20.3043 R:18.0000 rate:0.0360 aloss:1.3861 dloss:2.0738 aloss2:0.6950 exploreP:0.9548\n",
      "Episode:23 meanR:20.5417 R:26.0000 rate:0.0520 aloss:1.3812 dloss:2.1292 aloss2:0.6723 exploreP:0.9524\n",
      "Episode:24 meanR:20.2800 R:14.0000 rate:0.0280 aloss:1.3812 dloss:2.2096 aloss2:0.6457 exploreP:0.9511\n",
      "Episode:25 meanR:20.3077 R:21.0000 rate:0.0420 aloss:1.3830 dloss:2.2116 aloss2:0.6405 exploreP:0.9491\n",
      "Episode:26 meanR:21.2593 R:46.0000 rate:0.0920 aloss:1.3925 dloss:2.1311 aloss2:0.6688 exploreP:0.9448\n",
      "Episode:27 meanR:21.0000 R:14.0000 rate:0.0280 aloss:1.3914 dloss:2.1068 aloss2:0.6776 exploreP:0.9435\n",
      "Episode:28 meanR:20.6897 R:12.0000 rate:0.0240 aloss:1.3847 dloss:2.1147 aloss2:0.6739 exploreP:0.9423\n",
      "Episode:29 meanR:20.6667 R:20.0000 rate:0.0400 aloss:1.3849 dloss:2.1408 aloss2:0.6652 exploreP:0.9405\n",
      "Episode:30 meanR:20.6129 R:19.0000 rate:0.0380 aloss:1.3896 dloss:2.1419 aloss2:0.6680 exploreP:0.9387\n",
      "Episode:31 meanR:20.9062 R:30.0000 rate:0.0600 aloss:1.3880 dloss:2.0594 aloss2:0.6984 exploreP:0.9359\n",
      "Episode:32 meanR:21.0000 R:24.0000 rate:0.0480 aloss:1.3887 dloss:2.0787 aloss2:0.6889 exploreP:0.9337\n",
      "Episode:33 meanR:21.2941 R:31.0000 rate:0.0620 aloss:1.3858 dloss:2.1341 aloss2:0.6721 exploreP:0.9309\n",
      "Episode:34 meanR:21.0286 R:12.0000 rate:0.0240 aloss:1.3858 dloss:2.1218 aloss2:0.6710 exploreP:0.9298\n",
      "Episode:35 meanR:20.9167 R:17.0000 rate:0.0340 aloss:1.3808 dloss:2.0997 aloss2:0.6781 exploreP:0.9282\n",
      "Episode:36 meanR:21.3243 R:36.0000 rate:0.0720 aloss:1.3822 dloss:2.1669 aloss2:0.6626 exploreP:0.9249\n",
      "Episode:37 meanR:21.3421 R:22.0000 rate:0.0440 aloss:1.3848 dloss:2.0429 aloss2:0.7033 exploreP:0.9229\n",
      "Episode:38 meanR:21.7436 R:37.0000 rate:0.0740 aloss:1.3874 dloss:2.0526 aloss2:0.7002 exploreP:0.9195\n",
      "Episode:39 meanR:21.9500 R:30.0000 rate:0.0600 aloss:1.3828 dloss:2.0496 aloss2:0.6987 exploreP:0.9168\n",
      "Episode:40 meanR:22.3415 R:38.0000 rate:0.0760 aloss:1.3845 dloss:2.1587 aloss2:0.6605 exploreP:0.9133\n",
      "Episode:41 meanR:22.6190 R:34.0000 rate:0.0680 aloss:1.3841 dloss:2.0211 aloss2:0.7102 exploreP:0.9103\n",
      "Episode:42 meanR:22.5116 R:18.0000 rate:0.0360 aloss:1.3860 dloss:2.0281 aloss2:0.7081 exploreP:0.9087\n",
      "Episode:43 meanR:22.5455 R:24.0000 rate:0.0480 aloss:1.3819 dloss:2.0267 aloss2:0.7065 exploreP:0.9065\n",
      "Episode:44 meanR:22.6000 R:25.0000 rate:0.0500 aloss:1.3835 dloss:2.0811 aloss2:0.6856 exploreP:0.9043\n",
      "Episode:45 meanR:22.3043 R:9.0000 rate:0.0180 aloss:1.3825 dloss:2.0935 aloss2:0.6817 exploreP:0.9035\n",
      "Episode:46 meanR:22.4255 R:28.0000 rate:0.0560 aloss:1.3796 dloss:2.0114 aloss2:0.7129 exploreP:0.9010\n",
      "Episode:47 meanR:22.3958 R:21.0000 rate:0.0420 aloss:1.3835 dloss:2.1476 aloss2:0.6651 exploreP:0.8991\n",
      "Episode:48 meanR:22.6735 R:36.0000 rate:0.0720 aloss:1.3895 dloss:2.0162 aloss2:0.7081 exploreP:0.8959\n",
      "Episode:49 meanR:22.5200 R:15.0000 rate:0.0300 aloss:1.3839 dloss:2.0030 aloss2:0.7168 exploreP:0.8946\n",
      "Episode:50 meanR:22.9412 R:44.0000 rate:0.0880 aloss:1.3839 dloss:2.0398 aloss2:0.7015 exploreP:0.8907\n",
      "Episode:51 meanR:23.1346 R:33.0000 rate:0.0660 aloss:1.3858 dloss:2.1018 aloss2:0.6845 exploreP:0.8878\n",
      "Episode:52 meanR:23.0755 R:20.0000 rate:0.0400 aloss:1.3793 dloss:2.0310 aloss2:0.7032 exploreP:0.8860\n",
      "Episode:53 meanR:22.9444 R:16.0000 rate:0.0320 aloss:1.3782 dloss:2.0675 aloss2:0.6912 exploreP:0.8846\n",
      "Episode:54 meanR:23.1636 R:35.0000 rate:0.0700 aloss:1.3866 dloss:2.0132 aloss2:0.7133 exploreP:0.8816\n",
      "Episode:55 meanR:23.1250 R:21.0000 rate:0.0420 aloss:1.3859 dloss:1.9922 aloss2:0.7231 exploreP:0.8797\n",
      "Episode:56 meanR:23.0000 R:16.0000 rate:0.0320 aloss:1.3840 dloss:1.9936 aloss2:0.7233 exploreP:0.8784\n",
      "Episode:57 meanR:23.0000 R:23.0000 rate:0.0460 aloss:1.3819 dloss:1.9693 aloss2:0.7324 exploreP:0.8764\n",
      "Episode:58 meanR:22.8475 R:14.0000 rate:0.0280 aloss:1.3798 dloss:1.9771 aloss2:0.7246 exploreP:0.8752\n",
      "Episode:59 meanR:22.8500 R:23.0000 rate:0.0460 aloss:1.3809 dloss:2.0380 aloss2:0.7026 exploreP:0.8732\n",
      "Episode:60 meanR:22.8361 R:22.0000 rate:0.0440 aloss:1.3836 dloss:2.0259 aloss2:0.7068 exploreP:0.8713\n",
      "Episode:61 meanR:22.9194 R:28.0000 rate:0.0560 aloss:1.3897 dloss:2.1065 aloss2:0.6859 exploreP:0.8689\n",
      "Episode:62 meanR:22.8730 R:20.0000 rate:0.0400 aloss:1.3825 dloss:1.9979 aloss2:0.7157 exploreP:0.8671\n",
      "Episode:63 meanR:22.7031 R:12.0000 rate:0.0240 aloss:1.3844 dloss:1.9680 aloss2:0.7277 exploreP:0.8661\n",
      "Episode:64 meanR:22.6769 R:21.0000 rate:0.0420 aloss:1.3798 dloss:1.9519 aloss2:0.7357 exploreP:0.8643\n",
      "Episode:65 meanR:22.5606 R:15.0000 rate:0.0300 aloss:1.3770 dloss:1.9914 aloss2:0.7143 exploreP:0.8630\n",
      "Episode:66 meanR:22.6716 R:30.0000 rate:0.0600 aloss:1.3852 dloss:2.0637 aloss2:0.6923 exploreP:0.8605\n",
      "Episode:67 meanR:22.5882 R:17.0000 rate:0.0340 aloss:1.3875 dloss:2.0534 aloss2:0.6954 exploreP:0.8590\n",
      "Episode:68 meanR:22.8696 R:42.0000 rate:0.0840 aloss:1.3936 dloss:1.9835 aloss2:0.7229 exploreP:0.8555\n",
      "Episode:69 meanR:23.0286 R:34.0000 rate:0.0680 aloss:1.3887 dloss:1.9970 aloss2:0.7171 exploreP:0.8526\n",
      "Episode:70 meanR:22.9437 R:17.0000 rate:0.0340 aloss:1.3855 dloss:1.9982 aloss2:0.7175 exploreP:0.8512\n",
      "Episode:71 meanR:22.9167 R:21.0000 rate:0.0420 aloss:1.3910 dloss:2.0136 aloss2:0.7141 exploreP:0.8494\n",
      "Episode:72 meanR:22.7671 R:12.0000 rate:0.0240 aloss:1.3845 dloss:1.9274 aloss2:0.7499 exploreP:0.8484\n",
      "Episode:73 meanR:22.6757 R:16.0000 rate:0.0320 aloss:1.3803 dloss:1.9286 aloss2:0.7480 exploreP:0.8471\n"
     ]
    }
   ],
   "source": [
    "# Save/load the model and save for plotting\n",
    "saver = tf.train.Saver()\n",
    "episode_rewards_list, rewards_list = [], []\n",
    "# aloss_list, dloss_list, aloss2_list = [], []\n",
    "\n",
    "# TF session for training\n",
    "with tf.Session(graph=graph) as sess:\n",
    "    sess.run(tf.global_variables_initializer())\n",
    "    #saver.restore(sess, 'checkpoints/model.ckpt')    \n",
    "    #saver.restore(sess, tf.train.latest_checkpoint('checkpoints'))\n",
    "    total_step = 0 # Explore or exploit parameter\n",
    "    episode_reward = deque(maxlen=100) # 100 episodes average/running average/running mean/window\n",
    "\n",
    "    # Training episodes/epochs\n",
    "    for ep in range(11111):\n",
    "        total_reward = 0 # each episode\n",
    "        aloss_batch, dloss_batch, aloss2_batch = [], [], []\n",
    "        state = env.reset() # each episode\n",
    "        num_step = 0 # each episode\n",
    "        rate = -1 # unrated\n",
    "\n",
    "        # Sampling\n",
    "        while True:\n",
    "            # Explore (Env) or Exploit (Model)\n",
    "            total_step += 1\n",
    "            explore_p = explore_stop + (explore_start - explore_stop) * np.exp(-decay_rate * total_step) \n",
    "            if explore_p > np.random.rand():\n",
    "                action = env.action_space.sample()\n",
    "            else:\n",
    "                action_logits = sess.run(model.actions_logits, feed_dict={model.states: state.reshape([1, -1])})\n",
    "                action = np.argmax(action_logits)\n",
    "            next_state, reward, done, _ = env.step(action)\n",
    "            memory.buffer.append([state, action, next_state, reward, float(done), rate])\n",
    "            num_step += 1 # momory added\n",
    "            total_reward += reward\n",
    "            state = next_state\n",
    "            if done is True:\n",
    "                break\n",
    "        \n",
    "        # Rating\n",
    "        rate = total_reward/500 # update rate at the end/ when episode is done\n",
    "        for idx in range(num_step): # episode length\n",
    "            if memory.buffer[-1-idx][-1] == -1: # double-check the landmark/marked indexes\n",
    "                memory.buffer[-1-idx][-1] = rate # rate the trajectory/data\n",
    "                        \n",
    "        # Training\n",
    "        batch = memory.buffer\n",
    "        for idx in range(memory_size// batch_size):\n",
    "        # while True:\n",
    "            #idx = np.random.choice(np.arange(memory_size// batch_size))\n",
    "            states = np.array([each[0] for each in batch])[idx*batch_size:(idx+1)*batch_size]\n",
    "            actions = np.array([each[1] for each in batch])[idx*batch_size:(idx+1)*batch_size]\n",
    "            next_states = np.array([each[2] for each in batch])[idx*batch_size:(idx+1)*batch_size]\n",
    "            #rewards = np.array([each[3] for each in batch])[idx*batch_size:(idx+1)*batch_size]\n",
    "            dones = np.array([each[4] for each in batch])[idx*batch_size:(idx+1)*batch_size]\n",
    "            rates = np.array([each[5] for each in batch])[idx*batch_size:(idx+1)*batch_size]\n",
    "            states = states[rates == np.max(rates)]\n",
    "            actions = actions[rates == np.max(rates)]\n",
    "            next_states = next_states[rates == np.max(rates)]\n",
    "            #rewards = rewards[rates == np.max(rates)]\n",
    "            dones = dones[rates == np.max(rates)]\n",
    "            rates = rates[rates == np.max(rates)]\n",
    "            #if np.count_nonzero(dones)==1 and len(dones) > 1 and np.max(rates) > 0:\n",
    "            #if len(dones) > 1:\n",
    "            #if np.count_nonzero(dones)==0 and len(dones) > 1:\n",
    "            if np.count_nonzero(dones)==0 and len(dones) > 1 and np.max(rates) > 0:\n",
    "                aloss, _ = sess.run([model.a_loss, model.a_opt],\n",
    "                                    feed_dict = {model.states: states, \n",
    "                                                model.actions: actions,\n",
    "                                                model.next_states: next_states,\n",
    "                                                #model.rewards: rewards,\n",
    "                                                #model.dones: dones,\n",
    "                                                model.rates: rates})\n",
    "                dloss, _ = sess.run([model.d_loss, model.d_opt],\n",
    "                                      feed_dict = {model.states: states, \n",
    "                                                   model.actions: actions,\n",
    "                                                   model.next_states: next_states,\n",
    "                                                   #model.rewards: rewards,\n",
    "                                                   #model.dones: dones,\n",
    "                                                   model.rates: rates})\n",
    "                aloss2, _= sess.run([model.a_loss2, model.a_opt2], \n",
    "                                     feed_dict = {model.states: states, \n",
    "                                                  model.actions: actions,\n",
    "                                                  model.next_states: next_states,\n",
    "                                                  #model.rewards: rewards,\n",
    "                                                  #model.dones: dones,\n",
    "                                                  model.rates: rates})\n",
    "                aloss_batch.append(aloss)\n",
    "                dloss_batch.append(dloss)\n",
    "                aloss2_batch.append(aloss2)\n",
    "\n",
    "        # Printing\n",
    "        episode_reward.append(total_reward)\n",
    "        print('Episode:{}'.format(ep),\n",
    "              'meanR:{:.4f}'.format(np.mean(episode_reward)),\n",
    "              'R:{:.4f}'.format(total_reward),\n",
    "              'rate:{:.4f}'.format(rate),\n",
    "              'aloss:{:.4f}'.format(np.mean(aloss_batch)),\n",
    "              'dloss:{:.4f}'.format(np.mean(dloss_batch)),\n",
    "              'aloss2:{:.4f}'.format(np.mean(aloss2_batch)),\n",
    "              'exploreP:{:.4f}'.format(explore_p))\n",
    "\n",
    "        # Ploting\n",
    "        episode_rewards_list.append([ep, np.mean(episode_reward)])\n",
    "        rewards_list.append([ep, total_reward])\n",
    "        # gloss_list.append([ep, np.mean(gloss_batch)])\n",
    "        # dloss_list.append([ep, np.mean(dloss_batch)])\n",
    "        \n",
    "        # Break episode/epoch loop\n",
    "        ## Option 1: Solve the First Version\n",
    "        #The task is episodic, and in order to solve the environment, \n",
    "        #your agent must get an average score of +30 over 100 consecutive episodes.\n",
    "        if np.mean(episode_reward) >= 500:\n",
    "            break\n",
    "            \n",
    "    # At the end of all training episodes/epochs\n",
    "    saver.save(sess, 'checkpoints/model.ckpt')"
   ]
  },
  {
   "cell_type": "markdown",
   "metadata": {},
   "source": [
    "# Visualizing training\n",
    "\n",
    "Below I'll plot the total rewards for each episode. I'm plotting the rolling average too, in blue."
   ]
  },
  {
   "cell_type": "code",
   "execution_count": null,
   "metadata": {},
   "outputs": [],
   "source": [
    "import matplotlib.pyplot as plt\n",
    "%matplotlib inline\n",
    "\n",
    "def running_mean(x, N):\n",
    "    cumsum = np.cumsum(np.insert(x, 0, 0)) \n",
    "    return (cumsum[N:] - cumsum[:-N]) / N "
   ]
  },
  {
   "cell_type": "code",
   "execution_count": null,
   "metadata": {},
   "outputs": [],
   "source": [
    "eps, arr = np.array(episode_rewards_list).T\n",
    "smoothed_arr = running_mean(arr, 10)\n",
    "plt.plot(eps[-len(smoothed_arr):], smoothed_arr)\n",
    "plt.plot(eps, arr, color='grey', alpha=0.3)\n",
    "plt.xlabel('Episode')\n",
    "plt.ylabel('Total rewards')"
   ]
  },
  {
   "cell_type": "code",
   "execution_count": null,
   "metadata": {},
   "outputs": [],
   "source": [
    "eps, arr = np.array(rewards_list).T\n",
    "smoothed_arr = running_mean(arr, 10)\n",
    "plt.plot(eps[-len(smoothed_arr):], smoothed_arr)\n",
    "plt.plot(eps, arr, color='grey', alpha=0.3)\n",
    "plt.xlabel('Episode')\n",
    "plt.ylabel('Total rewards')"
   ]
  },
  {
   "cell_type": "code",
   "execution_count": null,
   "metadata": {},
   "outputs": [],
   "source": [
    "# eps, arr = np.array(dloss_list).T\n",
    "# smoothed_arr = running_mean(arr, 10)\n",
    "# plt.plot(eps[-len(smoothed_arr):], smoothed_arr)\n",
    "# plt.plot(eps, arr, color='grey', alpha=0.3)\n",
    "# plt.xlabel('Episode')\n",
    "# plt.ylabel('D losses')"
   ]
  },
  {
   "cell_type": "markdown",
   "metadata": {},
   "source": [
    "## Testing\n",
    "\n",
    "Let's checkout how our trained agent plays the game."
   ]
  },
  {
   "cell_type": "code",
   "execution_count": 24,
   "metadata": {},
   "outputs": [
    {
     "name": "stdout",
     "output_type": "stream",
     "text": [
      "INFO:tensorflow:Restoring parameters from checkpoints/model.ckpt\n",
      "total_reward: 500.0\n",
      "total_reward: 500.0\n",
      "total_reward: 500.0\n",
      "total_reward: 500.0\n",
      "total_reward: 481.0\n",
      "total_reward: 481.0\n",
      "total_reward: 500.0\n",
      "total_reward: 500.0\n",
      "total_reward: 500.0\n",
      "total_reward: 500.0\n"
     ]
    }
   ],
   "source": [
    "import gym\n",
    "env = gym.make('CartPole-v0')\n",
    "env = gym.make('CartPole-v1')\n",
    "# env = gym.make('Acrobot-v1')\n",
    "# env = gym.make('MountainCar-v0')\n",
    "# env = gym.make('Pendulum-v0')\n",
    "# env = gym.make('Blackjack-v0')\n",
    "# env = gym.make('FrozenLake-v0')\n",
    "# env = gym.make('AirRaid-ram-v0')\n",
    "# env = gym.make('AirRaid-v0')\n",
    "# env = gym.make('BipedalWalker-v2')\n",
    "# env = gym.make('Copy-v0')\n",
    "# env = gym.make('CarRacing-v0')\n",
    "# env = gym.make('Ant-v2') #mujoco\n",
    "# env = gym.make('FetchPickAndPlace-v1') # mujoco required!\n",
    "\n",
    "with tf.Session() as sess:\n",
    "    sess.run(tf.global_variables_initializer())\n",
    "    saver.restore(sess, 'checkpoints/model.ckpt')    \n",
    "    #saver.restore(sess, tf.train.latest_checkpoint('checkpoints'))\n",
    "    \n",
    "    # Episodes/epochs\n",
    "    for _ in range(10):\n",
    "        state = env.reset()\n",
    "        total_reward = 0\n",
    "\n",
    "        # Steps/batches\n",
    "        while True:\n",
    "            env.render()\n",
    "            action_logits = sess.run(model.actions_logits, feed_dict={model.states: state.reshape([1, -1])})\n",
    "            action = np.argmax(action_logits)\n",
    "            state, reward, done, _ = env.step(action)\n",
    "            total_reward += reward\n",
    "            if done:\n",
    "                print('total_reward: {}'.format(total_reward))\n",
    "                break\n",
    "                \n",
    "env.close()"
   ]
  },
  {
   "cell_type": "markdown",
   "metadata": {},
   "source": [
    "## Extending this\n",
    "\n",
    "So, Cart-Pole is a pretty simple game. However, the same model can be used to train an agent to play something much more complicated like Pong or Space Invaders. Instead of a state like we're using here though, you'd want to use convolutional layers to get the state from the screen images.\n",
    "\n",
    "![Deep Q-Learning Atari](assets/atari-network.png)\n",
    "\n",
    "I'll leave it as a challenge for you to use deep Q-learning to train an agent to play Atari games. Here's the original paper which will get you started: http://www.davidqiu.com:8888/research/nature14236.pdf."
   ]
  },
  {
   "cell_type": "code",
   "execution_count": null,
   "metadata": {},
   "outputs": [],
   "source": []
  }
 ],
 "metadata": {
  "kernelspec": {
   "display_name": "Python 3",
   "language": "python",
   "name": "python3"
  },
  "language_info": {
   "codemirror_mode": {
    "name": "ipython",
    "version": 3
   },
   "file_extension": ".py",
   "mimetype": "text/x-python",
   "name": "python",
   "nbconvert_exporter": "python",
   "pygments_lexer": "ipython3",
   "version": "3.6.6"
  }
 },
 "nbformat": 4,
 "nbformat_minor": 2
}
