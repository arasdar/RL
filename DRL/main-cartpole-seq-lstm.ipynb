{
 "cells": [
  {
   "cell_type": "markdown",
   "metadata": {},
   "source": [
    "# Sequential DQN\n",
    "\n",
    "In this notebook, we'll build a neural network that can learn to play games through reinforcement learning. More specifically, we'll use Q-learning to train an agent to play a game called [Cart-Pole](https://gym.openai.com/envs/CartPole-v0). In this game, a freely swinging pole is attached to a cart. The cart can move to the left and right, and the goal is to keep the pole upright as long as possible.\n",
    "\n",
    "![Cart-Pole](assets/cart-pole.jpg)\n",
    "\n",
    "We can simulate this game using [OpenAI Gym](https://gym.openai.com/). First, let's check out how OpenAI Gym works. Then, we'll get into training an agent to play the Cart-Pole game."
   ]
  },
  {
   "cell_type": "code",
   "execution_count": 1,
   "metadata": {},
   "outputs": [
    {
     "name": "stderr",
     "output_type": "stream",
     "text": [
      "/home/aras/anaconda3/lib/python3.6/site-packages/h5py/__init__.py:36: FutureWarning: Conversion of the second argument of issubdtype from `float` to `np.floating` is deprecated. In future, it will be treated as `np.float64 == np.dtype(float).type`.\n",
      "  from ._conv import register_converters as _register_converters\n"
     ]
    },
    {
     "name": "stdout",
     "output_type": "stream",
     "text": [
      "TensorFlow Version: 1.7.1\n",
      "Default GPU Device: \n"
     ]
    }
   ],
   "source": [
    "# In this one we should define and detect GPUs for tensorflow\n",
    "# GPUs or CPU\n",
    "import tensorflow as tf\n",
    "\n",
    "# Check TensorFlow Version\n",
    "print('TensorFlow Version: {}'.format(tf.__version__))\n",
    "\n",
    "# Check for a GPU\n",
    "print('Default GPU Device: {}'.format(tf.test.gpu_device_name()))"
   ]
  },
  {
   "cell_type": "markdown",
   "metadata": {},
   "source": [
    ">**Note:** Make sure you have OpenAI Gym cloned into the same directory with this notebook. I've included `gym` as a submodule, so you can run `git submodule --init --recursive` to pull the contents into the `gym` repo."
   ]
  },
  {
   "cell_type": "markdown",
   "metadata": {},
   "source": [
    ">**Note:** Make sure you have OpenAI Gym cloned. Then run this command `pip install -e gym/[all]`."
   ]
  },
  {
   "cell_type": "code",
   "execution_count": 2,
   "metadata": {},
   "outputs": [],
   "source": [
    "import gym\n",
    "\n",
    "# Create the Cart-Pole game environment\n",
    "env = gym.make('CartPole-v0')\n",
    "env = gym.make('CartPole-v1')"
   ]
  },
  {
   "cell_type": "markdown",
   "metadata": {},
   "source": [
    "We interact with the simulation through `env`. To show the simulation running, you can use `env.render()` to render one frame. Passing in an action as an integer to `env.step` will generate the next step in the simulation.  You can see how many actions are possible from `env.action_space` and to get a random action you can use `env.action_space.sample()`. This is general to all Gym games. In the Cart-Pole game, there are two possible actions, moving the cart left or right. So there are two actions we can take, encoded as 0 and 1.\n",
    "\n",
    "Run the code below to watch the simulation run."
   ]
  },
  {
   "cell_type": "code",
   "execution_count": 3,
   "metadata": {},
   "outputs": [],
   "source": [
    "import numpy as np\n",
    "state = env.reset()\n",
    "for _ in range(10):\n",
    "    # env.render()\n",
    "    action = env.action_space.sample()\n",
    "    next_state, reward, done, info = env.step(action) # take a random action\n",
    "    #print('state, action, next_state, reward, done, info:', state, action, next_state, reward, done, info)\n",
    "    state = next_state\n",
    "    if done:\n",
    "        state = env.reset()"
   ]
  },
  {
   "cell_type": "markdown",
   "metadata": {},
   "source": [
    "To shut the window showing the simulation, use `env.close()`."
   ]
  },
  {
   "cell_type": "markdown",
   "metadata": {},
   "source": [
    "If you ran the simulation above, we can look at the rewards:"
   ]
  },
  {
   "cell_type": "code",
   "execution_count": 4,
   "metadata": {},
   "outputs": [],
   "source": [
    "# print(rewards[-20:])\n",
    "# print(np.array(rewards).shape, np.array(states).shape, np.array(actions).shape, np.array(dones).shape)\n",
    "# print(np.array(rewards).dtype, np.array(states).dtype, np.array(actions).dtype, np.array(dones).dtype)\n",
    "# print(np.max(np.array(actions)), np.min(np.array(actions)))\n",
    "# print((np.max(np.array(actions)) - np.min(np.array(actions)))+1)\n",
    "# print(np.max(np.array(rewards)), np.min(np.array(rewards)))\n",
    "# print(np.max(np.array(states)), np.min(np.array(states)))"
   ]
  },
  {
   "cell_type": "markdown",
   "metadata": {},
   "source": [
    "The game resets after the pole has fallen past a certain angle. For each frame while the simulation is running, it returns a reward of 1.0. The longer the game runs, the more reward we get. Then, our network's goal is to maximize the reward by keeping the pole vertical. It will do this by moving the cart to the left and the right."
   ]
  },
  {
   "cell_type": "markdown",
   "metadata": {},
   "source": [
    "## Q-Network\n",
    "\n",
    "We train our Q-learning agent using the Bellman Equation:\n",
    "\n",
    "$$\n",
    "Q(s, a) = r + \\gamma \\max{Q(s', a')}\n",
    "$$\n",
    "\n",
    "where $s$ is a state, $a$ is an action, and $s'$ is the next state from state $s$ and action $a$.\n",
    "\n",
    "Before we used this equation to learn values for a Q-_table_. However, for this game there are a huge number of states available. The state has four values: the position and velocity of the cart, and the position and velocity of the pole. These are all real-valued numbers, so ignoring floating point precisions, you practically have infinite states. Instead of using a table then, we'll replace it with a neural network that will approximate the Q-table lookup function.\n",
    "\n",
    "<img src=\"assets/deep-q-learning.png\" width=450px>\n",
    "\n",
    "Now, our Q value, $Q(s, a)$ is calculated by passing in a state to the network. The output will be Q-values for each available action, with fully connected hidden layers.\n",
    "\n",
    "<img src=\"assets/q-network.png\" width=550px>\n",
    "\n",
    "\n",
    "As I showed before, we can define our targets for training as $\\hat{Q}(s,a) = r + \\gamma \\max{Q(s', a')}$. Then we update the weights by minimizing $(\\hat{Q}(s,a) - Q(s,a))^2$. \n",
    "\n",
    "For this Cart-Pole game, we have four inputs, one for each value in the state, and two outputs, one for each action. To get $\\hat{Q}$, we'll first choose an action, then simulate the game using that action. This will get us the next state, $s'$, and the reward. With that, we can calculate $\\hat{Q}$ then pass it back into the $Q$ network to run the optimizer and update the weights.\n",
    "\n",
    "Below is my implementation of the Q-network. I used two fully connected layers with ReLU activations. Two seems to be good enough, three might be better. Feel free to try it out."
   ]
  },
  {
   "cell_type": "code",
   "execution_count": 5,
   "metadata": {},
   "outputs": [],
   "source": [
    "def model_input(state_size, hidden_size, batch_size=1):\n",
    "    states = tf.placeholder(tf.float32, [None, state_size], name='states')\n",
    "    actions = tf.placeholder(tf.int32, [None], name='actions')\n",
    "    targetQs = tf.placeholder(tf.float32, [None], name='targetQs')\n",
    "    # RNN\n",
    "    #cell = tf.nn.rnn_cell.GRUCell(hidden_size)\n",
    "    cell = tf.nn.rnn_cell.LSTMCell(hidden_size)\n",
    "    cells = tf.nn.rnn_cell.MultiRNNCell([cell], state_is_tuple=True)\n",
    "    initial_state = cells.zero_state(batch_size, tf.float32)\n",
    "    return states, actions, targetQs, cells, initial_state"
   ]
  },
  {
   "cell_type": "code",
   "execution_count": 6,
   "metadata": {},
   "outputs": [],
   "source": [
    "# RNN generator or sequence generator\n",
    "def generator(states, action_size, initial_state, cells, hidden_size, reuse=False): \n",
    "    with tf.variable_scope('generator', reuse=reuse):\n",
    "        # First fully connected layer\n",
    "        inputs = tf.layers.dense(inputs=states, units=hidden_size)\n",
    "        print(states.shape, inputs.shape)\n",
    "        \n",
    "        # with tf.variable_scope('dynamic_rnn_', reuse=tf.AUTO_REUSE):\n",
    "        # dynamic means adapt to the batch_size and\n",
    "        # static means can NOT adapt to the batch_size\n",
    "        inputs_rnn = tf.reshape(inputs, [1, -1, hidden_size]) # NxH -> 1xNxH\n",
    "        print(inputs_rnn.shape, initial_state)\n",
    "        outputs_rnn, final_state = tf.nn.dynamic_rnn(cell=cells, inputs=inputs_rnn, initial_state=initial_state)\n",
    "        print(outputs_rnn.shape, final_state)\n",
    "        outputs = tf.reshape(outputs_rnn, [-1, hidden_size]) # 1xNxH -> NxH\n",
    "        print(outputs.shape)\n",
    "\n",
    "        # Last fully connected layer\n",
    "        logits = tf.layers.dense(inputs=outputs, units=action_size)\n",
    "        print(logits.shape)\n",
    "        #predictions = tf.nn.softmax(logits)\n",
    "        \n",
    "        # logits are the action logits\n",
    "        return logits, final_state"
   ]
  },
  {
   "cell_type": "code",
   "execution_count": 7,
   "metadata": {},
   "outputs": [],
   "source": [
    "def model_loss(action_size, hidden_size, states, cells, initial_state, actions, targetQs):\n",
    "    actions_logits, final_state = generator(states=states, cells=cells, initial_state=initial_state, \n",
    "                                            hidden_size=hidden_size, action_size=action_size)\n",
    "    actions_labels = tf.one_hot(indices=actions, depth=action_size, dtype=actions_logits.dtype)\n",
    "    Qs = tf.reduce_max(actions_logits*actions_labels, axis=1)\n",
    "    loss = tf.reduce_mean(tf.square(Qs - targetQs))\n",
    "    return actions_logits, final_state, loss"
   ]
  },
  {
   "cell_type": "code",
   "execution_count": 8,
   "metadata": {},
   "outputs": [],
   "source": [
    "def model_opt(loss, learning_rate):\n",
    "    # Get weights and bias to update\n",
    "    t_vars = tf.trainable_variables()\n",
    "    g_vars = [var for var in t_vars if var.name.startswith('generator')]\n",
    "\n",
    "    # # Optimize MLP/CNN\n",
    "    # with tf.control_dependencies(tf.get_collection(tf.GraphKeys.UPDATE_OPS)): # Required for batchnorm (BN)\n",
    "    # #opt = tf.train.AdamOptimizer(learning_rate).minimize(loss, var_list=g_vars)\n",
    "\n",
    "    # # Optimize RNN\n",
    "    #grads, _ = tf.clip_by_global_norm(t_list=tf.gradients(loss, g_vars), clip_norm=5) # usually around 1-5\n",
    "    grads = tf.gradients(loss, g_vars)\n",
    "    opt = tf.train.AdamOptimizer(learning_rate).apply_gradients(grads_and_vars=zip(grads, g_vars))\n",
    "\n",
    "    return opt"
   ]
  },
  {
   "cell_type": "code",
   "execution_count": 9,
   "metadata": {},
   "outputs": [],
   "source": [
    "class Model:\n",
    "    def __init__(self, state_size, action_size, hidden_size, learning_rate):\n",
    "\n",
    "        # Data of the Model: make the data available inside the framework\n",
    "        self.states, self.actions, self.targetQs, cells, self.initial_state = model_input(\n",
    "                state_size=state_size, hidden_size=hidden_size)\n",
    "        \n",
    "        # Create the Model: calculating the loss and forwad pass\n",
    "        self.actions_logits, self.final_state, self.loss = model_loss(\n",
    "            action_size=action_size, hidden_size=hidden_size, \n",
    "            states=self.states, actions=self.actions, \n",
    "            targetQs=self.targetQs, cells=cells, initial_state=self.initial_state)\n",
    "\n",
    "        # Update the model: backward pass and backprop\n",
    "        self.opt = model_opt(loss=self.loss, learning_rate=learning_rate)"
   ]
  },
  {
   "cell_type": "markdown",
   "metadata": {},
   "source": [
    "## Experience replay\n",
    "\n",
    "Reinforcement learning algorithms can have stability issues due to correlations between states. To reduce correlations when training, we can store the agent's experiences and later draw a random mini-batch of those experiences to train on. \n",
    "\n",
    "Here, we'll create a `Memory` object that will store our experiences, our transitions $<s, a, r, s'>$. This memory will have a maxmium capacity, so we can keep newer experiences in memory while getting rid of older experiences. Then, we'll sample a random mini-batch of transitions $<s, a, r, s'>$ and train on those.\n",
    "\n",
    "Below, I've implemented a `Memory` object. If you're unfamiliar with `deque`, this is a double-ended queue. You can think of it like a tube open on both sides. You can put objects in either side of the tube. But if it's full, adding anything more will push an object out the other side. This is a great data structure to use for the memory buffer."
   ]
  },
  {
   "cell_type": "code",
   "execution_count": 10,
   "metadata": {},
   "outputs": [],
   "source": [
    "from collections import deque\n",
    "\n",
    "class Memory():    \n",
    "    def __init__(self, max_size = 1000):\n",
    "        self.buffer = deque(maxlen=max_size)\n",
    "        self.states = deque(maxlen=max_size)"
   ]
  },
  {
   "cell_type": "markdown",
   "metadata": {},
   "source": [
    "## Exploration - Exploitation\n",
    "\n",
    "To learn about the environment and rules of the game, the agent needs to explore by taking random actions. We'll do this by choosing a random action with some probability $\\epsilon$ (epsilon).  That is, with some probability $\\epsilon$ the agent will make a random action and with probability $1 - \\epsilon$, the agent will choose an action from $Q(s,a)$. This is called an **$\\epsilon$-greedy policy**.\n",
    "\n",
    "\n",
    "At first, the agent needs to do a lot of exploring. Later when it has learned more, the agent can favor choosing actions based on what it has learned. This is called _exploitation_. We'll set it up so the agent is more likely to explore early in training, then more likely to exploit later in training."
   ]
  },
  {
   "cell_type": "markdown",
   "metadata": {},
   "source": [
    "## Q-Learning training algorithm\n",
    "\n",
    "Putting all this together, we can list out the algorithm we'll use to train the network. We'll train the network in _episodes_. One *episode* is one simulation of the game. For this game, the goal is to keep the pole upright for 195 frames. So we can start a new episode once meeting that goal. The game ends if the pole tilts over too far, or if the cart moves too far the left or right. When a game ends, we'll start a new episode. Now, to train the agent:\n",
    "\n",
    "* Initialize the memory $D$\n",
    "* Initialize the action-value network $Q$ with random weights\n",
    "* **For** episode = 1, $M$ **do**\n",
    "  * **For** $t$, $T$ **do**\n",
    "     * With probability $\\epsilon$ select a random action $a_t$, otherwise select $a_t = \\mathrm{argmax}_a Q(s,a)$\n",
    "     * Execute action $a_t$ in simulator and observe reward $r_{t+1}$ and new state $s_{t+1}$\n",
    "     * Store transition $<s_t, a_t, r_{t+1}, s_{t+1}>$ in memory $D$\n",
    "     * Sample random mini-batch from $D$: $<s_j, a_j, r_j, s'_j>$\n",
    "     * Set $\\hat{Q}_j = r_j$ if the episode ends at $j+1$, otherwise set $\\hat{Q}_j = r_j + \\gamma \\max_{a'}{Q(s'_j, a')}$\n",
    "     * Make a gradient descent step with loss $(\\hat{Q}_j - Q(s_j, a_j))^2$\n",
    "  * **endfor**\n",
    "* **endfor**"
   ]
  },
  {
   "cell_type": "markdown",
   "metadata": {},
   "source": [
    "## Hyperparameters\n",
    "\n",
    "One of the more difficult aspects of reinforcememt learning are the large number of hyperparameters. Not only are we tuning the network, but we're tuning the simulation."
   ]
  },
  {
   "cell_type": "code",
   "execution_count": 11,
   "metadata": {},
   "outputs": [],
   "source": [
    "# Network parameters\n",
    "action_size = 2\n",
    "state_size = 4\n",
    "hidden_size = 4*2              # number of units in each Q-network hidden layer\n",
    "learning_rate = 0.0001         # Q-network learning rate\n",
    "\n",
    "# Memory parameters\n",
    "memory_size = 100            # memory capacity - 1000 DQN\n",
    "batch_size = 100             # experience mini-batch size - 20 DQN\n",
    "gamma = 0.99                 # future reward discount"
   ]
  },
  {
   "cell_type": "code",
   "execution_count": 12,
   "metadata": {},
   "outputs": [
    {
     "name": "stdout",
     "output_type": "stream",
     "text": [
      "(?, 4) (?, 8)\n",
      "(1, ?, 8) (LSTMStateTuple(c=<tf.Tensor 'MultiRNNCellZeroState/LSTMCellZeroState/zeros:0' shape=(1, 8) dtype=float32>, h=<tf.Tensor 'MultiRNNCellZeroState/LSTMCellZeroState/zeros_1:0' shape=(1, 8) dtype=float32>),)\n",
      "(1, ?, 8) (LSTMStateTuple(c=<tf.Tensor 'generator/rnn/while/Exit_3:0' shape=(1, 8) dtype=float32>, h=<tf.Tensor 'generator/rnn/while/Exit_4:0' shape=(1, 8) dtype=float32>),)\n",
      "(?, 8)\n",
      "(?, 2)\n"
     ]
    }
   ],
   "source": [
    "# Reset/init the graph/session\n",
    "graph = tf.reset_default_graph()\n",
    "\n",
    "# Init the model\n",
    "model = Model(action_size=action_size, hidden_size=hidden_size, state_size=state_size, learning_rate=learning_rate)\n",
    "\n",
    "# Init the memory\n",
    "memory = Memory(max_size=batch_size)"
   ]
  },
  {
   "cell_type": "code",
   "execution_count": 13,
   "metadata": {},
   "outputs": [
    {
     "data": {
      "text/plain": [
       "LSTMStateTuple(c=<tf.Tensor 'MultiRNNCellZeroState/LSTMCellZeroState/zeros:0' shape=(1, 8) dtype=float32>, h=<tf.Tensor 'MultiRNNCellZeroState/LSTMCellZeroState/zeros_1:0' shape=(1, 8) dtype=float32>)"
      ]
     },
     "execution_count": 13,
     "metadata": {},
     "output_type": "execute_result"
    }
   ],
   "source": [
    "model.initial_state[0]"
   ]
  },
  {
   "cell_type": "markdown",
   "metadata": {},
   "source": [
    "## Populate the memory (exprience memory)\n",
    "\n",
    "Here I'm re-initializing the simulation and pre-populating the memory. The agent is taking random actions and storing the transitions in memory. This will help the agent with exploring the game."
   ]
  },
  {
   "cell_type": "code",
   "execution_count": 14,
   "metadata": {},
   "outputs": [],
   "source": [
    "state = env.reset()\n",
    "for _ in range(memory_size):\n",
    "    action = env.action_space.sample()\n",
    "    next_state, reward, done, _ = env.step(action)\n",
    "    memory.buffer.append([state, action, next_state, reward, float(done)])\n",
    "    #memory.states.append(np.zeros([1, hidden_size])) # gru\n",
    "    memory.states.append([np.zeros([1, hidden_size]), np.zeros([1, hidden_size])]) # lstm\n",
    "    state = next_state\n",
    "    if done is True:\n",
    "        # Reseting the env/first state\n",
    "        state = env.reset()"
   ]
  },
  {
   "cell_type": "code",
   "execution_count": 15,
   "metadata": {},
   "outputs": [],
   "source": [
    "# # Training\n",
    "# batch = memory.buffer\n",
    "# states = np.array([each[0] for each in batch])\n",
    "# actions = np.array([each[1] for each in batch])\n",
    "# next_states = np.array([each[2] for each in batch])\n",
    "# rewards = np.array([each[3] for each in batch])\n",
    "# dones = np.array([each[4] for each in batch])"
   ]
  },
  {
   "cell_type": "code",
   "execution_count": 16,
   "metadata": {},
   "outputs": [
    {
     "data": {
      "text/plain": [
       "((1, 8), TensorShape([Dimension(1), Dimension(8)]))"
      ]
     },
     "execution_count": 16,
     "metadata": {},
     "output_type": "execute_result"
    }
   ],
   "source": [
    "# memory.states[0].shape, model.initial_state[0].shape # gru\n",
    "memory.states[0][1].shape, model.initial_state[0][1].shape #lstm"
   ]
  },
  {
   "cell_type": "code",
   "execution_count": 17,
   "metadata": {},
   "outputs": [],
   "source": [
    "# memory.states[0][0].shape, model.initial_state[0][0].shape"
   ]
  },
  {
   "cell_type": "markdown",
   "metadata": {},
   "source": [
    "## Training the model\n",
    "\n",
    "Below we'll train our agent. If you want to watch it train, uncomment the `env.render()` line. This is slow because it's rendering the frames slower than the network can train. But, it's cool to watch the agent get better at the game."
   ]
  },
  {
   "cell_type": "code",
   "execution_count": 18,
   "metadata": {},
   "outputs": [],
   "source": [
    "# initial_states = np.array(memory.states)\n",
    "# initial_states.shape"
   ]
  },
  {
   "cell_type": "code",
   "execution_count": null,
   "metadata": {
    "scrolled": false
   },
   "outputs": [
    {
     "name": "stdout",
     "output_type": "stream",
     "text": [
      "Episode:0 meanR:9.0000 R:9.0000 loss:1.0257\n",
      "Episode:1 meanR:9.5000 R:10.0000 loss:1.0703\n",
      "Episode:2 meanR:9.6667 R:10.0000 loss:1.0673\n",
      "Episode:3 meanR:9.7500 R:10.0000 loss:1.0372\n",
      "Episode:4 meanR:9.8000 R:10.0000 loss:1.0103\n",
      "Episode:5 meanR:9.6667 R:9.0000 loss:1.0046\n",
      "Episode:6 meanR:9.5714 R:9.0000 loss:1.0361\n",
      "Episode:7 meanR:9.5000 R:9.0000 loss:1.0692\n",
      "Episode:8 meanR:9.3333 R:8.0000 loss:1.0446\n",
      "Episode:9 meanR:9.4000 R:10.0000 loss:1.0108\n",
      "Episode:10 meanR:9.3636 R:9.0000 loss:1.0008\n",
      "Episode:11 meanR:9.3333 R:9.0000 loss:0.9876\n",
      "Episode:12 meanR:9.3846 R:10.0000 loss:0.9602\n",
      "Episode:13 meanR:9.4286 R:10.0000 loss:0.9686\n",
      "Episode:14 meanR:9.4000 R:9.0000 loss:0.9666\n",
      "Episode:15 meanR:9.3750 R:9.0000 loss:0.9677\n",
      "Episode:16 meanR:9.2941 R:8.0000 loss:0.9688\n",
      "Episode:17 meanR:9.2222 R:8.0000 loss:0.9693\n",
      "Episode:18 meanR:9.2105 R:9.0000 loss:0.9743\n",
      "Episode:19 meanR:9.2500 R:10.0000 loss:0.9811\n",
      "Episode:20 meanR:9.2857 R:10.0000 loss:0.9763\n",
      "Episode:21 meanR:9.2727 R:9.0000 loss:0.9793\n",
      "Episode:22 meanR:9.3043 R:10.0000 loss:0.9837\n",
      "Episode:23 meanR:9.3333 R:10.0000 loss:0.9863\n",
      "Episode:24 meanR:9.3600 R:10.0000 loss:0.9919\n",
      "Episode:25 meanR:9.3462 R:9.0000 loss:0.9970\n",
      "Episode:26 meanR:9.3704 R:10.0000 loss:1.0038\n",
      "Episode:27 meanR:9.4286 R:11.0000 loss:1.0108\n",
      "Episode:28 meanR:9.3793 R:8.0000 loss:1.0145\n",
      "Episode:29 meanR:9.3667 R:9.0000 loss:1.0209\n",
      "Episode:30 meanR:9.3548 R:9.0000 loss:1.0297\n",
      "Episode:31 meanR:9.3438 R:9.0000 loss:1.0388\n",
      "Episode:32 meanR:9.3333 R:9.0000 loss:1.0475\n",
      "Episode:33 meanR:9.3529 R:10.0000 loss:1.0551\n",
      "Episode:34 meanR:9.3429 R:9.0000 loss:1.0627\n",
      "Episode:35 meanR:9.3611 R:10.0000 loss:1.0723\n",
      "Episode:36 meanR:9.3514 R:9.0000 loss:1.0815\n",
      "Episode:37 meanR:9.3421 R:9.0000 loss:1.0881\n",
      "Episode:38 meanR:9.3333 R:9.0000 loss:1.0939\n",
      "Episode:39 meanR:9.3500 R:10.0000 loss:1.1133\n",
      "Episode:40 meanR:9.3659 R:10.0000 loss:1.1167\n",
      "Episode:41 meanR:9.3810 R:10.0000 loss:1.1238\n",
      "Episode:42 meanR:9.3488 R:8.0000 loss:1.1308\n",
      "Episode:43 meanR:9.3182 R:8.0000 loss:1.1373\n",
      "Episode:44 meanR:9.3333 R:10.0000 loss:1.1465\n",
      "Episode:45 meanR:9.3478 R:10.0000 loss:1.1573\n",
      "Episode:46 meanR:9.3617 R:10.0000 loss:1.1641\n",
      "Episode:47 meanR:9.3750 R:10.0000 loss:1.1730\n",
      "Episode:48 meanR:9.4082 R:11.0000 loss:1.1792\n",
      "Episode:49 meanR:9.4200 R:10.0000 loss:1.1868\n",
      "Episode:50 meanR:9.3922 R:8.0000 loss:1.1971\n",
      "Episode:51 meanR:9.4038 R:10.0000 loss:1.2042\n",
      "Episode:52 meanR:9.3962 R:9.0000 loss:1.2137\n",
      "Episode:53 meanR:9.4074 R:10.0000 loss:1.2215\n",
      "Episode:54 meanR:9.4000 R:9.0000 loss:1.2303\n",
      "Episode:55 meanR:9.3750 R:8.0000 loss:1.2405\n",
      "Episode:56 meanR:9.3509 R:8.0000 loss:1.2480\n",
      "Episode:57 meanR:9.3621 R:10.0000 loss:1.2580\n",
      "Episode:58 meanR:9.3559 R:9.0000 loss:1.2671\n",
      "Episode:59 meanR:9.3500 R:9.0000 loss:1.2741\n",
      "Episode:60 meanR:9.3607 R:10.0000 loss:1.2892\n",
      "Episode:61 meanR:9.3710 R:10.0000 loss:1.3018\n",
      "Episode:62 meanR:9.3492 R:8.0000 loss:1.3018\n",
      "Episode:63 meanR:9.3438 R:9.0000 loss:1.3162\n",
      "Episode:64 meanR:9.3538 R:10.0000 loss:1.3247\n",
      "Episode:65 meanR:9.3636 R:10.0000 loss:1.3363\n",
      "Episode:66 meanR:9.3582 R:9.0000 loss:1.3431\n",
      "Episode:67 meanR:9.3676 R:10.0000 loss:1.3492\n",
      "Episode:68 meanR:9.3623 R:9.0000 loss:1.3568\n",
      "Episode:69 meanR:9.3571 R:9.0000 loss:1.3670\n",
      "Episode:70 meanR:9.3662 R:10.0000 loss:1.3760\n",
      "Episode:71 meanR:9.3750 R:10.0000 loss:1.3848\n",
      "Episode:72 meanR:9.3836 R:10.0000 loss:1.3938\n",
      "Episode:73 meanR:9.3919 R:10.0000 loss:1.4002\n",
      "Episode:74 meanR:9.4000 R:10.0000 loss:1.4089\n",
      "Episode:75 meanR:9.4079 R:10.0000 loss:1.4196\n",
      "Episode:76 meanR:9.4026 R:9.0000 loss:1.4305\n",
      "Episode:77 meanR:9.4103 R:10.0000 loss:1.4381\n",
      "Episode:78 meanR:9.4177 R:10.0000 loss:1.4474\n",
      "Episode:79 meanR:9.4125 R:9.0000 loss:1.4569\n",
      "Episode:80 meanR:9.4198 R:10.0000 loss:1.4650\n",
      "Episode:81 meanR:9.4268 R:10.0000 loss:1.4760\n",
      "Episode:82 meanR:9.4217 R:9.0000 loss:1.4884\n",
      "Episode:83 meanR:9.4405 R:11.0000 loss:1.4974\n",
      "Episode:84 meanR:9.4353 R:9.0000 loss:1.5100\n",
      "Episode:85 meanR:9.4302 R:9.0000 loss:1.5227\n",
      "Episode:86 meanR:9.4368 R:10.0000 loss:1.5316\n",
      "Episode:87 meanR:9.4432 R:10.0000 loss:1.5390\n",
      "Episode:88 meanR:9.4494 R:10.0000 loss:1.5495\n",
      "Episode:89 meanR:9.4333 R:8.0000 loss:1.5653\n",
      "Episode:90 meanR:9.4396 R:10.0000 loss:1.5704\n",
      "Episode:91 meanR:9.4348 R:9.0000 loss:1.5846\n",
      "Episode:92 meanR:9.4301 R:9.0000 loss:1.5962\n",
      "Episode:93 meanR:9.4255 R:9.0000 loss:1.6069\n",
      "Episode:94 meanR:9.4211 R:9.0000 loss:1.6193\n",
      "Episode:95 meanR:9.4062 R:8.0000 loss:1.6328\n",
      "Episode:96 meanR:9.3918 R:8.0000 loss:1.6436\n",
      "Episode:97 meanR:9.4082 R:11.0000 loss:1.6533\n",
      "Episode:98 meanR:9.4040 R:9.0000 loss:1.6613\n",
      "Episode:99 meanR:9.4100 R:10.0000 loss:1.6738\n",
      "Episode:100 meanR:9.4200 R:10.0000 loss:1.6824\n",
      "Episode:101 meanR:9.4100 R:9.0000 loss:1.6866\n",
      "Episode:102 meanR:9.4100 R:10.0000 loss:1.6976\n",
      "Episode:103 meanR:9.4100 R:10.0000 loss:1.7006\n",
      "Episode:104 meanR:9.4100 R:10.0000 loss:1.7040\n",
      "Episode:105 meanR:9.4000 R:8.0000 loss:1.7153\n",
      "Episode:106 meanR:9.4100 R:10.0000 loss:1.7156\n",
      "Episode:107 meanR:9.4200 R:10.0000 loss:1.7168\n",
      "Episode:108 meanR:9.4200 R:8.0000 loss:1.7401\n",
      "Episode:109 meanR:9.4100 R:9.0000 loss:1.7477\n",
      "Episode:110 meanR:9.4100 R:9.0000 loss:1.7614\n",
      "Episode:111 meanR:9.4100 R:9.0000 loss:1.7734\n",
      "Episode:112 meanR:9.4100 R:10.0000 loss:1.7810\n",
      "Episode:113 meanR:9.4100 R:10.0000 loss:1.7879\n",
      "Episode:114 meanR:9.4200 R:10.0000 loss:1.7973\n",
      "Episode:115 meanR:9.4300 R:10.0000 loss:1.8049\n",
      "Episode:116 meanR:9.4600 R:11.0000 loss:1.8000\n",
      "Episode:117 meanR:9.4800 R:10.0000 loss:1.8086\n",
      "Episode:118 meanR:9.4800 R:9.0000 loss:1.8202\n",
      "Episode:119 meanR:9.4600 R:8.0000 loss:1.8269\n",
      "Episode:120 meanR:9.4500 R:9.0000 loss:1.8353\n",
      "Episode:121 meanR:9.4500 R:9.0000 loss:1.8417\n",
      "Episode:122 meanR:9.4300 R:8.0000 loss:1.8555\n",
      "Episode:123 meanR:9.4200 R:9.0000 loss:1.8709\n",
      "Episode:124 meanR:9.4000 R:8.0000 loss:1.8866\n",
      "Episode:125 meanR:9.4100 R:10.0000 loss:1.9002\n",
      "Episode:126 meanR:9.4100 R:10.0000 loss:1.9088\n",
      "Episode:127 meanR:9.4000 R:10.0000 loss:1.9192\n",
      "Episode:128 meanR:9.4200 R:10.0000 loss:1.9334\n",
      "Episode:129 meanR:9.4300 R:10.0000 loss:1.9395\n",
      "Episode:130 meanR:9.4300 R:9.0000 loss:1.9396\n",
      "Episode:131 meanR:9.4200 R:8.0000 loss:1.9466\n",
      "Episode:132 meanR:9.4200 R:9.0000 loss:1.9581\n",
      "Episode:133 meanR:9.4000 R:8.0000 loss:1.9655\n",
      "Episode:134 meanR:9.3900 R:8.0000 loss:1.9743\n",
      "Episode:135 meanR:9.3800 R:9.0000 loss:1.9845\n",
      "Episode:136 meanR:9.3800 R:9.0000 loss:1.9875\n",
      "Episode:137 meanR:9.3900 R:10.0000 loss:1.9997\n",
      "Episode:138 meanR:9.3900 R:9.0000 loss:2.0101\n",
      "Episode:139 meanR:9.3900 R:10.0000 loss:2.0223\n",
      "Episode:140 meanR:9.3900 R:10.0000 loss:2.0303\n",
      "Episode:141 meanR:9.3900 R:10.0000 loss:2.0368\n",
      "Episode:142 meanR:9.4100 R:10.0000 loss:2.0327\n",
      "Episode:143 meanR:9.4200 R:9.0000 loss:2.0297\n",
      "Episode:144 meanR:9.4200 R:10.0000 loss:2.0230\n",
      "Episode:145 meanR:9.4000 R:8.0000 loss:2.0265\n",
      "Episode:146 meanR:9.3900 R:9.0000 loss:2.0334\n",
      "Episode:147 meanR:9.3900 R:10.0000 loss:2.0346\n",
      "Episode:148 meanR:9.3800 R:10.0000 loss:2.0429\n",
      "Episode:149 meanR:9.3800 R:10.0000 loss:2.0411\n",
      "Episode:150 meanR:9.4000 R:10.0000 loss:2.0490\n",
      "Episode:151 meanR:9.4000 R:10.0000 loss:2.0583\n",
      "Episode:152 meanR:9.3900 R:8.0000 loss:2.0800\n",
      "Episode:153 meanR:9.3800 R:9.0000 loss:2.0942\n",
      "Episode:154 meanR:9.3800 R:9.0000 loss:2.1039\n",
      "Episode:155 meanR:9.3900 R:9.0000 loss:2.1176\n",
      "Episode:156 meanR:9.4100 R:10.0000 loss:2.1125\n",
      "Episode:157 meanR:9.3900 R:8.0000 loss:2.1237\n",
      "Episode:158 meanR:9.4000 R:10.0000 loss:2.1322\n",
      "Episode:159 meanR:9.4100 R:10.0000 loss:2.1387\n",
      "Episode:160 meanR:9.4100 R:10.0000 loss:2.1451\n",
      "Episode:161 meanR:9.4100 R:10.0000 loss:2.1535\n",
      "Episode:162 meanR:9.4200 R:9.0000 loss:2.1665\n",
      "Episode:163 meanR:9.4100 R:8.0000 loss:2.1755\n",
      "Episode:164 meanR:9.4000 R:9.0000 loss:2.1825\n",
      "Episode:165 meanR:9.4000 R:10.0000 loss:2.1815\n",
      "Episode:166 meanR:9.4100 R:10.0000 loss:2.1759\n",
      "Episode:167 meanR:9.4100 R:10.0000 loss:2.1810\n",
      "Episode:168 meanR:9.4100 R:9.0000 loss:2.1755\n",
      "Episode:169 meanR:9.4100 R:9.0000 loss:2.1947\n",
      "Episode:170 meanR:9.4000 R:9.0000 loss:2.2122\n",
      "Episode:171 meanR:9.4000 R:10.0000 loss:2.2218\n",
      "Episode:172 meanR:9.3900 R:9.0000 loss:2.2357\n",
      "Episode:173 meanR:9.3900 R:10.0000 loss:2.2363\n",
      "Episode:174 meanR:9.3900 R:10.0000 loss:2.2205\n",
      "Episode:175 meanR:9.3900 R:10.0000 loss:2.2160\n",
      "Episode:176 meanR:9.4000 R:10.0000 loss:2.2244\n",
      "Episode:177 meanR:9.4000 R:10.0000 loss:2.2323\n",
      "Episode:178 meanR:9.4000 R:10.0000 loss:2.2390\n"
     ]
    },
    {
     "name": "stdout",
     "output_type": "stream",
     "text": [
      "Episode:179 meanR:9.4100 R:10.0000 loss:2.2340\n",
      "Episode:180 meanR:9.3900 R:8.0000 loss:2.2406\n",
      "Episode:181 meanR:9.3800 R:9.0000 loss:2.2529\n",
      "Episode:182 meanR:9.3900 R:10.0000 loss:2.2620\n",
      "Episode:183 meanR:9.3800 R:10.0000 loss:2.2564\n",
      "Episode:184 meanR:9.3800 R:9.0000 loss:2.2708\n",
      "Episode:185 meanR:9.3800 R:9.0000 loss:2.2901\n",
      "Episode:186 meanR:9.3700 R:9.0000 loss:2.3093\n",
      "Episode:187 meanR:9.3600 R:9.0000 loss:2.3278\n",
      "Episode:188 meanR:9.3400 R:8.0000 loss:2.3504\n",
      "Episode:189 meanR:9.3500 R:9.0000 loss:2.3683\n",
      "Episode:190 meanR:9.3500 R:10.0000 loss:2.3818\n",
      "Episode:191 meanR:9.3400 R:8.0000 loss:2.3917\n",
      "Episode:192 meanR:9.3400 R:9.0000 loss:2.3950\n",
      "Episode:193 meanR:9.3400 R:9.0000 loss:2.4031\n",
      "Episode:194 meanR:9.3400 R:9.0000 loss:2.4255\n",
      "Episode:195 meanR:9.3500 R:9.0000 loss:2.4417\n",
      "Episode:196 meanR:9.3700 R:10.0000 loss:2.4397\n",
      "Episode:197 meanR:9.3500 R:9.0000 loss:2.4408\n",
      "Episode:198 meanR:9.3500 R:9.0000 loss:2.4462\n",
      "Episode:199 meanR:9.3400 R:9.0000 loss:2.4495\n",
      "Episode:200 meanR:9.3400 R:10.0000 loss:2.4395\n",
      "Episode:201 meanR:9.3400 R:9.0000 loss:2.4442\n",
      "Episode:202 meanR:9.3400 R:10.0000 loss:2.4460\n",
      "Episode:203 meanR:9.3400 R:10.0000 loss:2.4284\n",
      "Episode:204 meanR:9.3400 R:10.0000 loss:2.4219\n",
      "Episode:205 meanR:9.3500 R:9.0000 loss:2.4239\n",
      "Episode:206 meanR:9.3300 R:8.0000 loss:2.4423\n",
      "Episode:207 meanR:9.3200 R:9.0000 loss:2.4611\n",
      "Episode:208 meanR:9.3400 R:10.0000 loss:2.4591\n",
      "Episode:209 meanR:9.3400 R:9.0000 loss:2.4621\n",
      "Episode:210 meanR:9.3400 R:9.0000 loss:2.4698\n",
      "Episode:211 meanR:9.3500 R:10.0000 loss:2.4757\n",
      "Episode:212 meanR:9.3400 R:9.0000 loss:2.4808\n",
      "Episode:213 meanR:9.3400 R:10.0000 loss:2.4897\n",
      "Episode:214 meanR:9.3400 R:10.0000 loss:2.4963\n",
      "Episode:215 meanR:9.3300 R:9.0000 loss:2.5132\n",
      "Episode:216 meanR:9.3100 R:9.0000 loss:2.5201\n",
      "Episode:217 meanR:9.3000 R:9.0000 loss:2.5140\n",
      "Episode:218 meanR:9.3100 R:10.0000 loss:2.5068\n",
      "Episode:219 meanR:9.3200 R:9.0000 loss:2.5234\n",
      "Episode:220 meanR:9.3200 R:9.0000 loss:2.5316\n",
      "Episode:221 meanR:9.3300 R:10.0000 loss:2.5240\n",
      "Episode:222 meanR:9.3400 R:9.0000 loss:2.5437\n"
     ]
    }
   ],
   "source": [
    "saver = tf.train.Saver()\n",
    "episode_rewards_list, rewards_list, loss_list = [], [], []\n",
    "\n",
    "# TF session for training\n",
    "with tf.Session() as sess:\n",
    "    sess.run(tf.global_variables_initializer())\n",
    "    #saver.restore(sess, 'checkpoints/model.ckpt')    \n",
    "    #saver.restore(sess, tf.train.latest_checkpoint('checkpoints'))\n",
    "    episode_reward = deque(maxlen=100) # 100 episodes average/running average/running mean/window\n",
    "    \n",
    "    # Training episodes/epochs\n",
    "    for ep in range(11111):\n",
    "        total_reward = 0\n",
    "        loss_batch = []\n",
    "        state = env.reset()\n",
    "        initial_state = sess.run(model.initial_state)\n",
    "\n",
    "        # Training steps/batches\n",
    "        while True:\n",
    "            action_logits, final_state = sess.run([model.actions_logits, model.final_state],\n",
    "                                                  feed_dict = {model.states: state.reshape([1, -1]), \n",
    "                                                               model.initial_state: initial_state})\n",
    "            action = np.argmax(action_logits)\n",
    "            next_state, reward, done, _ = env.step(action)\n",
    "            memory.buffer.append([state, action, next_state, reward, float(done)])\n",
    "            memory.states.append(initial_state)\n",
    "            total_reward += reward\n",
    "            state = next_state\n",
    "            initial_state = final_state\n",
    "\n",
    "            # Training\n",
    "            batch = memory.buffer\n",
    "            states = np.array([each[0] for each in batch])\n",
    "            actions = np.array([each[1] for each in batch])\n",
    "            next_states = np.array([each[2] for each in batch])\n",
    "            rewards = np.array([each[3] for each in batch])\n",
    "            dones = np.array([each[4] for each in batch])\n",
    "            initial_states = memory.states\n",
    "            next_actions_logits = sess.run(model.actions_logits, \n",
    "                                           feed_dict = {model.states: next_states,\n",
    "                                                        model.initial_state: initial_states[1]})\n",
    "            nextQs = np.max(next_actions_logits, axis=1) * (1-dones)\n",
    "            targetQs = rewards + (gamma * nextQs)\n",
    "            loss, _ = sess.run([model.loss, model.opt], feed_dict = {model.states: states, \n",
    "                                                                     model.actions: actions,\n",
    "                                                                     model.targetQs: targetQs,\n",
    "                                                                     model.initial_state: initial_states[0]})\n",
    "            # End of training\n",
    "            loss_batch.append(loss)\n",
    "            if done is True:\n",
    "                break\n",
    "                \n",
    "        # Outputing: priting out/Potting\n",
    "        episode_reward.append(total_reward)\n",
    "        print('Episode:{}'.format(ep),\n",
    "              'meanR:{:.4f}'.format(np.mean(episode_reward)),\n",
    "              'R:{:.4f}'.format(total_reward),\n",
    "              'loss:{:.4f}'.format(np.mean(loss_batch)))\n",
    "        # Ploting out\n",
    "        episode_rewards_list.append([ep, np.mean(episode_reward)])\n",
    "        rewards_list.append([ep, total_reward])\n",
    "        loss_list.append([ep, np.mean(loss_batch)])\n",
    "        # Break episode/epoch loop\n",
    "        if np.mean(episode_reward) >= 500:\n",
    "            break\n",
    "            \n",
    "    # At the end of all training episodes/epochs\n",
    "    saver.save(sess, 'checkpoints/model.ckpt')"
   ]
  },
  {
   "cell_type": "markdown",
   "metadata": {},
   "source": [
    "# Visualizing training\n",
    "\n",
    "Below I'll plot the total rewards for each episode. I'm plotting the rolling average too, in blue."
   ]
  },
  {
   "cell_type": "code",
   "execution_count": null,
   "metadata": {},
   "outputs": [],
   "source": [
    "%matplotlib inline\n",
    "import matplotlib.pyplot as plt\n",
    "\n",
    "def running_mean(x, N):\n",
    "    cumsum = np.cumsum(np.insert(x, 0, 0)) \n",
    "    return (cumsum[N:] - cumsum[:-N]) / N "
   ]
  },
  {
   "cell_type": "code",
   "execution_count": null,
   "metadata": {},
   "outputs": [],
   "source": [
    "eps, arr = np.array(episode_rewards_list).T\n",
    "smoothed_arr = running_mean(arr, 10)\n",
    "plt.plot(eps[-len(smoothed_arr):], smoothed_arr)\n",
    "plt.plot(eps, arr, color='grey', alpha=0.3)\n",
    "plt.xlabel('Episode')\n",
    "plt.ylabel('Total rewards')"
   ]
  },
  {
   "cell_type": "code",
   "execution_count": null,
   "metadata": {},
   "outputs": [],
   "source": [
    "eps, arr = np.array(rewards_list).T\n",
    "smoothed_arr = running_mean(arr, 10)\n",
    "plt.plot(eps[-len(smoothed_arr):], smoothed_arr)\n",
    "plt.plot(eps, arr, color='grey', alpha=0.3)\n",
    "plt.xlabel('Episode')\n",
    "plt.ylabel('Total rewards')"
   ]
  },
  {
   "cell_type": "code",
   "execution_count": null,
   "metadata": {},
   "outputs": [],
   "source": [
    "eps, arr = np.array(loss_list).T\n",
    "smoothed_arr = running_mean(arr, 10)\n",
    "plt.plot(eps[-len(smoothed_arr):], smoothed_arr)\n",
    "plt.plot(eps, arr, color='grey', alpha=0.3)\n",
    "plt.xlabel('Episode')\n",
    "plt.ylabel('Average losses')"
   ]
  },
  {
   "cell_type": "markdown",
   "metadata": {},
   "source": [
    "## Testing\n",
    "\n",
    "Let's checkout how our trained agent plays the game."
   ]
  },
  {
   "cell_type": "code",
   "execution_count": 38,
   "metadata": {},
   "outputs": [
    {
     "name": "stdout",
     "output_type": "stream",
     "text": [
      "INFO:tensorflow:Restoring parameters from checkpoints/model.ckpt\n",
      "total_reward:500.0\n",
      "total_reward:500.0\n",
      "total_reward:500.0\n",
      "total_reward:500.0\n",
      "total_reward:500.0\n",
      "total_reward:500.0\n",
      "total_reward:500.0\n",
      "total_reward:500.0\n",
      "total_reward:500.0\n",
      "total_reward:500.0\n"
     ]
    }
   ],
   "source": [
    "import gym\n",
    "env = gym.make('CartPole-v0')\n",
    "env = gym.make('CartPole-v1')\n",
    "\n",
    "with tf.Session(graph=graph) as sess:\n",
    "    sess.run(tf.global_variables_initializer())\n",
    "    #saver.restore(sess, 'checkpoints/model.ckpt')    \n",
    "    saver.restore(sess, tf.train.latest_checkpoint('checkpoints'))\n",
    "    \n",
    "    # Episode/epoch\n",
    "    for _ in range(10):\n",
    "        total_reward = 0\n",
    "        state = env.reset()\n",
    "        initial_state = sess.run(model.initial_state) # Qs or current batch or states[:-1]\n",
    "        \n",
    "        # Steps/batches\n",
    "        while True:\n",
    "            env.render()\n",
    "            action_logits, initial_state = sess.run([model.actions_logits, model.final_state],\n",
    "                                                    feed_dict = {model.states: state.reshape([1, -1]), \n",
    "                                                                 model.initial_state: initial_state})\n",
    "            action = np.argmax(action_logits)\n",
    "            state, reward, done, _ = env.step(action)\n",
    "            total_reward += reward\n",
    "            if done:\n",
    "                break\n",
    "        # At the end of each episode\n",
    "        print('total_reward:{}'.format(total_reward))\n",
    "\n",
    "# Close the env\n",
    "env.close()"
   ]
  },
  {
   "cell_type": "markdown",
   "metadata": {},
   "source": [
    "## Extending this\n",
    "\n",
    "So, Cart-Pole is a pretty simple game. However, the same model can be used to train an agent to play something much more complicated like Pong or Space Invaders. Instead of a state like we're using here though, you'd want to use convolutional layers to get the state from the screen images.\n",
    "\n",
    "![Deep Q-Learning Atari](assets/atari-network.png)\n",
    "\n",
    "I'll leave it as a challenge for you to use deep Q-learning to train an agent to play Atari games. Here's the original paper which will get you started: http://www.davidqiu.com:8888/research/nature14236.pdf."
   ]
  },
  {
   "cell_type": "code",
   "execution_count": null,
   "metadata": {},
   "outputs": [],
   "source": []
  }
 ],
 "metadata": {
  "kernelspec": {
   "display_name": "Python 3",
   "language": "python",
   "name": "python3"
  },
  "language_info": {
   "codemirror_mode": {
    "name": "ipython",
    "version": 3
   },
   "file_extension": ".py",
   "mimetype": "text/x-python",
   "name": "python",
   "nbconvert_exporter": "python",
   "pygments_lexer": "ipython3",
   "version": "3.6.5"
  }
 },
 "nbformat": 4,
 "nbformat_minor": 2
}
