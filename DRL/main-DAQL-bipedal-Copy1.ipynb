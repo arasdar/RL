{
 "cells": [
  {
   "cell_type": "markdown",
   "metadata": {},
   "source": [
    "# DAQL for BipedalWalker\n",
    "\n",
    "In this notebook, we'll build a neural network that can learn to play games through reinforcement learning. More specifically, we'll use Q-learning to train an agent to play a game called [Cart-Pole](https://gym.openai.com/envs/CartPole-v0). In this game, a freely swinging pole is attached to a cart. The cart can move to the left and right, and the goal is to keep the pole upright as long as possible.\n",
    "\n",
    "We can simulate this game using [OpenAI Gym](https://gym.openai.com/). First, let's check out how OpenAI Gym works. Then, we'll get into training an agent to play the Cart-Pole game."
   ]
  },
  {
   "cell_type": "code",
   "execution_count": 1,
   "metadata": {},
   "outputs": [
    {
     "name": "stdout",
     "output_type": "stream",
     "text": [
      "TensorFlow Version: 1.12.0\n",
      "Default GPU Device: /device:GPU:0\n"
     ]
    }
   ],
   "source": [
    "import tensorflow as tf\n",
    "print('TensorFlow Version: {}'.format(tf.__version__))\n",
    "print('Default GPU Device: {}'.format(tf.test.gpu_device_name()))"
   ]
  },
  {
   "cell_type": "markdown",
   "metadata": {},
   "source": [
    ">**Note:** Make sure you have OpenAI Gym cloned into the same directory with this notebook. I've included `gym` as a submodule, so you can run `git submodule --init --recursive` to pull the contents into the `gym` repo."
   ]
  },
  {
   "cell_type": "markdown",
   "metadata": {},
   "source": [
    "##### >**Note:** Make sure you have OpenAI Gym cloned. Then run this command `pip install -e gym/[all]`."
   ]
  },
  {
   "cell_type": "code",
   "execution_count": 2,
   "metadata": {},
   "outputs": [],
   "source": [
    "import gym\n",
    "env = gym.make('BipedalWalker-v2')"
   ]
  },
  {
   "cell_type": "markdown",
   "metadata": {},
   "source": [
    "We interact with the simulation through `env`. To show the simulation running, you can use `env.render()` to render one frame. Passing in an action as an integer to `env.step` will generate the next step in the simulation.  You can see how many actions are possible from `env.action_space` and to get a random action you can use `env.action_space.sample()`. This is general to all Gym games. In the Cart-Pole game, there are two possible actions, moving the cart left or right. So there are two actions we can take, encoded as 0 and 1.\n",
    "\n",
    "Run the code below to watch the simulation run."
   ]
  },
  {
   "cell_type": "code",
   "execution_count": 3,
   "metadata": {},
   "outputs": [
    {
     "data": {
      "text/plain": [
       "(Box(24,), Box(4,))"
      ]
     },
     "execution_count": 3,
     "metadata": {},
     "output_type": "execute_result"
    }
   ],
   "source": [
    "env.observation_space, env.action_space"
   ]
  },
  {
   "cell_type": "code",
   "execution_count": 4,
   "metadata": {},
   "outputs": [],
   "source": [
    "# state = env.reset()\n",
    "# batch = []\n",
    "# for _ in range(1111):\n",
    "#     #env.render()\n",
    "#     action = env.action_space.sample()\n",
    "#     next_state, reward, done, _ = env.step(action) # take a random action\n",
    "#     batch.append([state, action, next_state, reward, float(done)])\n",
    "#     state = next_state\n",
    "#     if done:\n",
    "#         state = env.reset()"
   ]
  },
  {
   "cell_type": "markdown",
   "metadata": {},
   "source": [
    "To shut the window showing the simulation, use `env.close()`."
   ]
  },
  {
   "cell_type": "code",
   "execution_count": 5,
   "metadata": {},
   "outputs": [],
   "source": [
    "# env.close()"
   ]
  },
  {
   "cell_type": "markdown",
   "metadata": {},
   "source": [
    "If you ran the simulation above, we can look at the rewards:"
   ]
  },
  {
   "cell_type": "code",
   "execution_count": 6,
   "metadata": {},
   "outputs": [],
   "source": [
    "import numpy as np\n",
    "# actions = np.array([each[0] for each in batch])\n",
    "# states = np.array([each[1] for each in batch])\n",
    "# rewards = np.array([each[2] for each in batch])\n",
    "# dones = np.array([each[3] for each in batch])\n",
    "# infos = np.array([each[4] for each in batch])"
   ]
  },
  {
   "cell_type": "code",
   "execution_count": 7,
   "metadata": {},
   "outputs": [],
   "source": [
    "# print('states:', np.max(np.array(states)), np.min(np.array(states)))\n",
    "# print('actions:', np.max(np.array(actions)), np.min(np.array(actions)))\n",
    "# print('rewards:', np.max(np.array(rewards)), np.min(np.array(rewards)))"
   ]
  },
  {
   "cell_type": "code",
   "execution_count": 8,
   "metadata": {},
   "outputs": [],
   "source": [
    "# env.action_space.high, env.action_space.low"
   ]
  },
  {
   "cell_type": "markdown",
   "metadata": {},
   "source": [
    "The game resets after the pole has fallen past a certain angle. For each frame while the simulation is running, it returns a reward of 1.0. The longer the game runs, the more reward we get. Then, our network's goal is to maximize the reward by keeping the pole vertical. It will do this by moving the cart to the left and the right."
   ]
  },
  {
   "cell_type": "markdown",
   "metadata": {},
   "source": [
    "## Q-Network\n",
    "\n",
    "We train our Q-learning agent using the Bellman Equation:\n",
    "\n",
    "$$\n",
    "Q(s, a) = r + \\gamma \\max{Q(s', a')}\n",
    "$$\n",
    "\n",
    "where $s$ is a state, $a$ is an action, and $s'$ is the next state from state $s$ and action $a$.\n",
    "\n",
    "Before we used this equation to learn values for a Q-_table_. However, for this game there are a huge number of states available. The state has four values: the position and velocity of the cart, and the position and velocity of the pole. These are all real-valued numbers, so ignoring floating point precisions, you practically have infinite states. Instead of using a table then, we'll replace it with a neural network that will approximate the Q-table lookup function.\n",
    "\n",
    "<img src=\"assets/deep-q-learning.png\" width=450px>\n",
    "\n",
    "Now, our Q value, $Q(s, a)$ is calculated by passing in a state to the network. The output will be Q-values for each available action, with fully connected hidden layers.\n",
    "\n",
    "<img src=\"assets/q-network.png\" width=550px>\n",
    "\n",
    "\n",
    "As I showed before, we can define our targets for training as $\\hat{Q}(s,a) = r + \\gamma \\max{Q(s', a')}$. Then we update the weights by minimizing $(\\hat{Q}(s,a) - Q(s,a))^2$. \n",
    "\n",
    "For this Cart-Pole game, we have four inputs, one for each value in the state, and two outputs, one for each action. To get $\\hat{Q}$, we'll first choose an action, then simulate the game using that action. This will get us the next state, $s'$, and the reward. With that, we can calculate $\\hat{Q}$ then pass it back into the $Q$ network to run the optimizer and update the weights.\n",
    "\n",
    "Below is my implementation of the Q-network. I used two fully connected layers with ReLU activations. Two seems to be good enough, three might be better. Feel free to try it out."
   ]
  },
  {
   "cell_type": "code",
   "execution_count": 12,
   "metadata": {},
   "outputs": [],
   "source": [
    "def model_input(state_size, action_size):\n",
    "    #states = tf.placeholder(tf.float32, [None, *state_shape], name='states')\n",
    "    states = tf.placeholder(tf.float32, [None, state_size], name='states')\n",
    "    actions = tf.placeholder(tf.float32, [None, action_size], name='actions')\n",
    "    next_states = tf.placeholder(tf.float32, [None, state_size], name='next_state')\n",
    "    rewards = tf.placeholder(tf.float32, [None], name='rewards')\n",
    "    dones = tf.placeholder(tf.float32, [None], name='dones')\n",
    "    return states, actions, next_states, rewards, dones"
   ]
  },
  {
   "cell_type": "code",
   "execution_count": 13,
   "metadata": {},
   "outputs": [],
   "source": [
    "# a = act(s)\n",
    "def generator(states, action_size, hidden_size, reuse=False, alpha=0.1, training=False, trainable=True):\n",
    "    with tf.variable_scope('generator', reuse=reuse):\n",
    "        # First fully connected layer\n",
    "        h1 = tf.layers.dense(inputs=states, units=hidden_size, trainable=trainable)\n",
    "        bn1 = tf.layers.batch_normalization(h1, training=training, trainable=trainable)        \n",
    "        nl1 = tf.maximum(alpha * bn1, bn1)\n",
    "        \n",
    "        # Second fully connected layer\n",
    "        h2 = tf.layers.dense(inputs=nl1, units=hidden_size, trainable=trainable)\n",
    "        bn2 = tf.layers.batch_normalization(h2, training=training, trainable=trainable)        \n",
    "        nl2 = tf.maximum(alpha * bn2, bn2)\n",
    "                \n",
    "        # Output layer\n",
    "        logits = tf.layers.dense(inputs=nl2, units=action_size, trainable=trainable)        \n",
    "        pred = tf.tanh(logits)\n",
    "        return pred"
   ]
  },
  {
   "cell_type": "code",
   "execution_count": 14,
   "metadata": {},
   "outputs": [],
   "source": [
    "# s', Q = env(s, a)\n",
    "def discriminator(states, actions, state_size, action_size, hidden_size, reuse=False, alpha=0.1, training=False, \n",
    "                  trainable=True):\n",
    "    with tf.variable_scope('discriminator', reuse=reuse):\n",
    "        # First fully connected layer\n",
    "        h1 = tf.layers.dense(inputs=states, units=action_size, trainable=trainable)\n",
    "        bn1 = tf.layers.batch_normalization(h1, training=training, trainable=trainable)        \n",
    "        nl1 = tf.maximum(alpha * bn1, bn1)\n",
    "        \n",
    "        # Second fully connected layer\n",
    "        fused = tf.concat(axis=1, values=[nl1, actions])\n",
    "        h2 = tf.layers.dense(inputs=fused, units=hidden_size, trainable=trainable)\n",
    "        bn2 = tf.layers.batch_normalization(h2, training=training, trainable=trainable)        \n",
    "        nl2 = tf.maximum(alpha * bn2, bn2)\n",
    "                \n",
    "        # Output layer\n",
    "        next_states_logits = tf.layers.dense(inputs=nl2, units=state_size, trainable=trainable)        \n",
    "        Qlogits = tf.layers.dense(inputs=next_states_logits, units=1, trainable=False)        \n",
    "        return next_states_logits, Qlogits"
   ]
  },
  {
   "cell_type": "code",
   "execution_count": 15,
   "metadata": {},
   "outputs": [],
   "source": [
    "def model_loss(action_size, hidden_size, state_size, \n",
    "               states, actions, next_states, rewards, dones):\n",
    "    actions_pred = generator(states=states, hidden_size=hidden_size, action_size=action_size)\n",
    "    gen_next_states, gQs = discriminator(actions=actions_pred, states=states, hidden_size=hidden_size, \n",
    "                                         action_size=action_size, state_size=state_size) \n",
    "    gloss = -tf.reduce_mean(gQs)\n",
    "    gloss += -tf.reduce_mean(tf.reduce_sum(tf.square(gen_next_states - next_states), axis=1))\n",
    "    next_actions_pred = generator(states=next_states, hidden_size=hidden_size, action_size=action_size, \n",
    "                                  trainable=False, reuse=True)\n",
    "    _, nextQs = discriminator(actions=next_actions_pred, states=next_states, hidden_size=hidden_size,\n",
    "                              action_size=action_size, state_size=state_size, \n",
    "                              trainable=False, reuse=True) \n",
    "    targetQs = nextQs * (1-dones)\n",
    "    next_states_pred, Qs = discriminator(actions=actions, states=states, hidden_size=hidden_size, \n",
    "                                         action_size=action_size, state_size=state_size, reuse=True)\n",
    "    rewards_in = Qs - targetQs\n",
    "    dloss = tf.reduce_mean(tf.square(rewards_in - rewards))\n",
    "    dloss += tf.reduce_mean(tf.reduce_sum(tf.square(next_states_pred - next_states), axis=1))\n",
    "    return actions_pred, gloss, dloss"
   ]
  },
  {
   "cell_type": "code",
   "execution_count": 16,
   "metadata": {},
   "outputs": [],
   "source": [
    "# Optimizating/training/learning G & D\n",
    "def model_opt(g_loss, d_loss, g_learning_rate, d_learning_rate):\n",
    "    # Get weights and bias to update\n",
    "    t_vars = tf.trainable_variables()\n",
    "    g_vars = [var for var in t_vars if var.name.startswith('generator')]\n",
    "    d_vars = [var for var in t_vars if var.name.startswith('discriminator')]\n",
    "\n",
    "    # Optimize\n",
    "    with tf.control_dependencies(tf.get_collection(tf.GraphKeys.UPDATE_OPS)): # Required for batchnorm (BN)\n",
    "        g_opt = tf.train.AdamOptimizer(g_learning_rate).minimize(g_loss, var_list=g_vars)\n",
    "        d_opt = tf.train.AdamOptimizer(d_learning_rate).minimize(d_loss, var_list=d_vars)\n",
    "    return g_opt, d_opt"
   ]
  },
  {
   "cell_type": "code",
   "execution_count": 17,
   "metadata": {},
   "outputs": [],
   "source": [
    "class Model:\n",
    "    def __init__(self, state_size, action_size, hidden_size, g_learning_rate, d_learning_rate):\n",
    "        \n",
    "        # Model inputs\n",
    "        self.states, self.actions, self.next_states, self.rewards, self.dones = model_input(\n",
    "            state_size=state_size, action_size=action_size)\n",
    "\n",
    "        # Model loss/objective\n",
    "        self.actions_pred, self.g_loss, self.d_loss = model_loss(\n",
    "            action_size=action_size, hidden_size=hidden_size, state_size=state_size,\n",
    "            states=self.states, actions=self.actions, next_states=self.next_states, \n",
    "            rewards=self.rewards, dones=self.dones)\n",
    "        \n",
    "        # Model optimization/update\n",
    "        self.g_opt, self.d_opt = model_opt(g_loss=self.g_loss, d_loss=self.d_loss,\n",
    "                                           g_learning_rate=g_learning_rate, d_learning_rate=d_learning_rate)"
   ]
  },
  {
   "cell_type": "code",
   "execution_count": 18,
   "metadata": {},
   "outputs": [],
   "source": [
    "from collections import deque\n",
    "class Memory():\n",
    "    def __init__(self, max_size = 1000):\n",
    "        self.buffer = deque(maxlen=max_size)\n",
    "    def sample(self, batch_size):\n",
    "        idx = np.random.choice(np.arange(len(self.buffer)), \n",
    "                               size=batch_size, replace=False)\n",
    "        return [self.buffer[ii] for ii in idx]"
   ]
  },
  {
   "cell_type": "markdown",
   "metadata": {},
   "source": [
    "## Hyperparameters\n",
    "\n",
    "One of the more difficult aspects of reinforcememt learning are the large number of hyperparameters. Not only are we tuning the network, but we're tuning the simulation."
   ]
  },
  {
   "cell_type": "code",
   "execution_count": 19,
   "metadata": {},
   "outputs": [
    {
     "data": {
      "text/plain": [
       "(Box(24,), Box(4,))"
      ]
     },
     "execution_count": 19,
     "metadata": {},
     "output_type": "execute_result"
    }
   ],
   "source": [
    "env.observation_space, env.action_space"
   ]
  },
  {
   "cell_type": "code",
   "execution_count": 20,
   "metadata": {},
   "outputs": [],
   "source": [
    "# Exploration parameters\n",
    "explore_start = 1.0            # exploration probability at start\n",
    "explore_stop = 0.01           # minimum exploration probability \n",
    "decay_rate = 0.0001            # exponential decay rate for exploration prob\n",
    "\n",
    "# Network parameters\n",
    "state_size = 24\n",
    "action_size = 4\n",
    "hidden_size = 24*2             # number of units in each Q-network hidden layer\n",
    "g_learning_rate = 1e-4         # Q-network learning rate\n",
    "d_learning_rate = 1e-4         # Q-network learning rate\n",
    "\n",
    "# Memory parameters\n",
    "memory_size = int(1e5)            # memory capacity\n",
    "batch_size = int(1e2)             # experience mini-batch size == one episode size is 1000/int(1e3) steps\n",
    "gamma = 0.99                   # future reward discount"
   ]
  },
  {
   "cell_type": "code",
   "execution_count": 21,
   "metadata": {},
   "outputs": [],
   "source": [
    "# Reset/init the graph/session\n",
    "graph = tf.reset_default_graph()\n",
    "\n",
    "# Init the model\n",
    "model = Model(action_size=action_size, state_size=state_size, hidden_size=hidden_size,\n",
    "              g_learning_rate=g_learning_rate, d_learning_rate=d_learning_rate)\n",
    "\n",
    "# Init the memory\n",
    "memory = Memory(max_size=memory_size)"
   ]
  },
  {
   "cell_type": "code",
   "execution_count": 22,
   "metadata": {},
   "outputs": [
    {
     "data": {
      "text/plain": [
       "(array([inf, inf, inf, inf, inf, inf, inf, inf, inf, inf, inf, inf, inf,\n",
       "        inf, inf, inf, inf, inf, inf, inf, inf, inf, inf, inf],\n",
       "       dtype=float32),\n",
       " array([-inf, -inf, -inf, -inf, -inf, -inf, -inf, -inf, -inf, -inf, -inf,\n",
       "        -inf, -inf, -inf, -inf, -inf, -inf, -inf, -inf, -inf, -inf, -inf,\n",
       "        -inf, -inf], dtype=float32),\n",
       " Box(24,),\n",
       " array([1., 1., 1., 1.], dtype=float32),\n",
       " array([-1., -1., -1., -1.], dtype=float32),\n",
       " Box(4,),\n",
       " (-inf, inf))"
      ]
     },
     "execution_count": 22,
     "metadata": {},
     "output_type": "execute_result"
    }
   ],
   "source": [
    "env.observation_space.high, env.observation_space.low, env.observation_space, \\\n",
    "env.action_space.high, env.action_space.low, env.action_space, \\\n",
    "env.reward_range"
   ]
  },
  {
   "cell_type": "code",
   "execution_count": 23,
   "metadata": {},
   "outputs": [
    {
     "name": "stdout",
     "output_type": "stream",
     "text": [
      "Progress: 0.01599\n",
      "Progress: 0.01673\n",
      "Progress: 0.01759\n",
      "Progress: 0.0183\n",
      "Progress: 0.01924\n",
      "Progress: 0.01992\n",
      "Progress: 0.02086\n",
      "Progress: 0.02214\n",
      "Progress: 0.03814\n",
      "Progress: 0.03891\n",
      "Progress: 0.05491\n",
      "Progress: 0.07091\n",
      "Progress: 0.07167\n",
      "Progress: 0.08767\n",
      "Progress: 0.0884\n",
      "Progress: 0.08877\n",
      "Progress: 0.09903\n",
      "Progress: 0.11503\n",
      "Progress: 0.13103\n",
      "Progress: 0.13157\n",
      "Progress: 0.14757\n",
      "Progress: 0.16357\n",
      "Progress: 0.1644\n",
      "Progress: 0.1804\n",
      "Progress: 0.1964\n",
      "Progress: 0.2124\n",
      "Progress: 0.2284\n",
      "Progress: 0.22894\n",
      "Progress: 0.24494\n",
      "Progress: 0.2462\n",
      "Progress: 0.24715\n",
      "Progress: 0.26315\n",
      "Progress: 0.26379\n",
      "Progress: 0.26526\n",
      "Progress: 0.26595\n",
      "Progress: 0.28195\n",
      "Progress: 0.28269\n",
      "Progress: 0.28396\n",
      "Progress: 0.28468\n",
      "Progress: 0.30068\n",
      "Progress: 0.31668\n",
      "Progress: 0.31759\n",
      "Progress: 0.33359\n",
      "Progress: 0.34959\n",
      "Progress: 0.36559\n",
      "Progress: 0.36643\n",
      "Progress: 0.36689\n",
      "Progress: 0.36788\n",
      "Progress: 0.38388\n",
      "Progress: 0.38465\n",
      "Progress: 0.3852\n",
      "Progress: 0.38605\n",
      "Progress: 0.40205\n",
      "Progress: 0.40265\n",
      "Progress: 0.41865\n",
      "Progress: 0.43465\n",
      "Progress: 0.45065\n",
      "Progress: 0.45157\n",
      "Progress: 0.46757\n",
      "Progress: 0.48357\n",
      "Progress: 0.48438\n",
      "Progress: 0.50038\n",
      "Progress: 0.50109\n",
      "Progress: 0.51709\n",
      "Progress: 0.51793\n",
      "Progress: 0.51898\n",
      "Progress: 0.52008\n",
      "Progress: 0.53608\n",
      "Progress: 0.55208\n",
      "Progress: 0.55307\n",
      "Progress: 0.55396\n",
      "Progress: 0.55458\n",
      "Progress: 0.55514\n",
      "Progress: 0.55564\n",
      "Progress: 0.57164\n",
      "Progress: 0.57224\n",
      "Progress: 0.57286\n",
      "Progress: 0.57324\n",
      "Progress: 0.57384\n",
      "Progress: 0.57484\n",
      "Progress: 0.57538\n",
      "Progress: 0.57589\n",
      "Progress: 0.57668\n",
      "Progress: 0.57723\n",
      "Progress: 0.57786\n",
      "Progress: 0.59386\n",
      "Progress: 0.60986\n",
      "Progress: 0.62586\n",
      "Progress: 0.64186\n",
      "Progress: 0.64251\n",
      "Progress: 0.65851\n",
      "Progress: 0.6592\n",
      "Progress: 0.6752\n",
      "Progress: 0.67586\n",
      "Progress: 0.67663\n",
      "Progress: 0.67737\n",
      "Progress: 0.67829\n",
      "Progress: 0.69429\n",
      "Progress: 0.69574\n",
      "Progress: 0.69636\n",
      "Progress: 0.71236\n",
      "Progress: 0.7131\n",
      "Progress: 0.71401\n",
      "Progress: 0.71449\n",
      "Progress: 0.71513\n",
      "Progress: 0.71556\n",
      "Progress: 0.71642\n",
      "Progress: 0.71715\n",
      "Progress: 0.71788\n",
      "Progress: 0.73388\n",
      "Progress: 0.73433\n",
      "Progress: 0.75033\n",
      "Progress: 0.75094\n",
      "Progress: 0.75156\n",
      "Progress: 0.75263\n",
      "Progress: 0.76863\n",
      "Progress: 0.76947\n",
      "Progress: 0.77023\n",
      "Progress: 0.77086\n",
      "Progress: 0.78686\n",
      "Progress: 0.80286\n",
      "Progress: 0.80364\n",
      "Progress: 0.80444\n",
      "Progress: 0.80508\n",
      "Progress: 0.80603\n",
      "Progress: 0.82203\n",
      "Progress: 0.82273\n",
      "Progress: 0.82404\n",
      "Progress: 0.82455\n",
      "Progress: 0.8252\n",
      "Progress: 0.82659\n",
      "Progress: 0.84259\n",
      "Progress: 0.8432\n",
      "Progress: 0.8592\n",
      "Progress: 0.8752\n",
      "Progress: 0.87609\n",
      "Progress: 0.87666\n",
      "Progress: 0.87726\n",
      "Progress: 0.87779\n",
      "Progress: 0.89379\n",
      "Progress: 0.89463\n",
      "Progress: 0.91063\n",
      "Progress: 0.92663\n",
      "Progress: 0.92731\n",
      "Progress: 0.94331\n",
      "Progress: 0.94404\n",
      "Progress: 0.94476\n",
      "Progress: 0.94524\n",
      "Progress: 0.96124\n",
      "Progress: 0.96231\n",
      "Progress: 0.96344\n",
      "Progress: 0.9641\n",
      "Progress: 0.9801\n",
      "Progress: 0.98069\n",
      "Progress: 0.98131\n",
      "Progress: 0.98206\n",
      "Progress: 0.98276\n",
      "Progress: 0.98318\n",
      "Progress: 0.99918\n"
     ]
    }
   ],
   "source": [
    "state = env.reset()\n",
    "for each_step in range(memory_size):\n",
    "    action = env.action_space.sample() # randomness\n",
    "    action = np.clip(action, -1, 1) # clipped: [-1, +1]\n",
    "    next_state, reward, done, _ = env.step(action)\n",
    "    memory.buffer.append([state, action, next_state, reward, float(done)])\n",
    "    state = next_state\n",
    "    if done is True:\n",
    "        print('Progress:', each_step/memory_size)\n",
    "        state = env.reset()"
   ]
  },
  {
   "cell_type": "markdown",
   "metadata": {},
   "source": [
    "## Training the model\n",
    "\n",
    "Below we'll train our agent. If you want to watch it train, uncomment the `env.render()` line. This is slow because it's rendering the frames slower than the network can train. But, it's cool to watch the agent get better at the game."
   ]
  },
  {
   "cell_type": "code",
   "execution_count": 24,
   "metadata": {},
   "outputs": [
    {
     "data": {
      "text/plain": [
       "(100000, 100000)"
      ]
     },
     "execution_count": 24,
     "metadata": {},
     "output_type": "execute_result"
    }
   ],
   "source": [
    "len(memory.buffer), memory.buffer.maxlen"
   ]
  },
  {
   "cell_type": "code",
   "execution_count": null,
   "metadata": {},
   "outputs": [
    {
     "name": "stdout",
     "output_type": "stream",
     "text": [
      "Episode:0 meanR:-134.1628 R:-134.1628 gloss:-8.4395 dloss:17.1439\n",
      "Episode:1 meanR:-116.9916 R:-99.8203 gloss:-7.4865 dloss:17.7359\n",
      "Episode:2 meanR:-111.4069 R:-100.2377 gloss:-6.8617 dloss:19.9245\n",
      "Episode:3 meanR:-108.6739 R:-100.4746 gloss:-6.1922 dloss:16.4785\n",
      "Episode:4 meanR:-107.0523 R:-100.5663 gloss:-5.6342 dloss:14.4970\n",
      "Episode:5 meanR:-106.0057 R:-100.7725 gloss:-5.1882 dloss:18.6262\n",
      "Episode:6 meanR:-105.2809 R:-100.9323 gloss:-4.7711 dloss:15.0669\n",
      "Episode:7 meanR:-104.7597 R:-101.1112 gloss:-4.5317 dloss:11.9676\n",
      "Episode:8 meanR:-104.7341 R:-104.5288 gloss:-4.2148 dloss:16.8303\n",
      "Episode:9 meanR:-104.3802 R:-101.1957 gloss:-4.0651 dloss:12.7108\n",
      "Episode:10 meanR:-104.0966 R:-101.2606 gloss:-3.9927 dloss:12.5853\n",
      "Episode:11 meanR:-103.8576 R:-101.2280 gloss:-3.9305 dloss:8.2002\n",
      "Episode:12 meanR:-103.6606 R:-101.2973 gloss:-3.9352 dloss:13.8947\n",
      "Episode:13 meanR:-103.4800 R:-101.1314 gloss:-3.9014 dloss:6.6799\n",
      "Episode:14 meanR:-103.3297 R:-101.2261 gloss:-3.9255 dloss:10.9043\n",
      "Episode:15 meanR:-103.2020 R:-101.2865 gloss:-3.9162 dloss:16.7121\n",
      "Episode:16 meanR:-103.0762 R:-101.0624 gloss:-3.8437 dloss:21.9062\n",
      "Episode:17 meanR:-102.9742 R:-101.2414 gloss:-3.8434 dloss:12.4251\n",
      "Episode:18 meanR:-102.8749 R:-101.0869 gloss:-3.8627 dloss:17.0670\n",
      "Episode:19 meanR:-102.7974 R:-101.3257 gloss:-3.8643 dloss:12.3822\n",
      "Episode:20 meanR:-102.7272 R:-101.3228 gloss:-3.9110 dloss:9.4371\n"
     ]
    }
   ],
   "source": [
    "# Save/load the model and save for plotting\n",
    "saver = tf.train.Saver()\n",
    "episode_rewards_list, rewards_list, gloss_list, dloss_list = [], [], [], []\n",
    "\n",
    "# TF session for training\n",
    "with tf.Session(graph=graph) as sess:\n",
    "    sess.run(tf.global_variables_initializer())\n",
    "    #saver.restore(sess, 'checkpoints/model2.ckpt')    \n",
    "    #saver.restore(sess, tf.train.latest_checkpoint('checkpoints'))\n",
    "    episode_reward = deque(maxlen=100) # 100 episodes average/running average/running mean/window\n",
    "    \n",
    "    # Training episodes/epochs\n",
    "    for ep in range(1111):\n",
    "        total_reward = 0\n",
    "        gloss_batch, dloss_batch = [], []\n",
    "        state = env.reset()\n",
    "\n",
    "        # Training steps/batches\n",
    "        while True:\n",
    "            env.render()\n",
    "            \n",
    "            action_pred = sess.run(model.actions_pred, feed_dict={model.states: state.reshape([1, -1])})\n",
    "            noise = np.random.normal(loc=0, scale=0.1, size=action_size) # randomness\n",
    "            action = action_pred.reshape([-1]) + noise\n",
    "            #print(action.shape, action_logits.shape, noise.shape)\n",
    "            action = np.clip(action, -1, 1) # clipped\n",
    "            \n",
    "            next_state, reward, done, _ = env.step(action)\n",
    "            memory.buffer.append([state, action, next_state, reward, float(done)])\n",
    "            total_reward += reward\n",
    "            state = next_state\n",
    "            \n",
    "            # Training\n",
    "            batch = memory.sample(batch_size)\n",
    "            states = np.array([each[0] for each in batch])\n",
    "            actions = np.array([each[1] for each in batch])\n",
    "            next_states = np.array([each[2] for each in batch])\n",
    "            rewards = np.array([each[3] for each in batch])\n",
    "            dones = np.array([each[4] for each in batch])\n",
    "            #print(states.shape, states_.shape, actions.shape, next_states.shape)\n",
    "            #print(states.dtype, states_.dtype, actions.dtype, next_states.dtype)\n",
    "            #next_states_logits = sess.run(model.next_states_pred, feed_dict = {model.states: next_states})\n",
    "            #nextQs = np.max(nextQs_logits, axis=1) * (1-dones) # discrete DQN\n",
    "            #nextQs = nextQs_logits.reshape([-1]) * (1-dones) # continuous DPG\n",
    "            #targetQs = rewards + (gamma * nextQs)\n",
    "            gloss, dloss, _, _ = sess.run([model.g_loss, model.d_loss, model.g_opt, model.d_opt],\n",
    "                                          feed_dict = {model.states: states, \n",
    "                                                       model.actions: actions,\n",
    "                                                       model.next_states: next_states, \n",
    "                                                       model.rewards: rewards, \n",
    "                                                       model.dones: dones})\n",
    "            gloss_batch.append(gloss)\n",
    "            dloss_batch.append(dloss)\n",
    "            if done is True:\n",
    "                break\n",
    "                \n",
    "        episode_reward.append(total_reward)\n",
    "        print('Episode:{}'.format(ep),\n",
    "              'meanR:{:.4f}'.format(np.mean(episode_reward)),\n",
    "              'R:{:.4f}'.format(total_reward),\n",
    "              'gloss:{:.4f}'.format(np.mean(gloss_batch)),\n",
    "              'dloss:{:.4f}'.format(np.mean(dloss_batch)))\n",
    "        # Ploting out\n",
    "        episode_rewards_list.append([ep, np.mean(episode_reward)])\n",
    "        rewards_list.append([ep, total_reward])\n",
    "        gloss_list.append([ep, np.mean(gloss_batch)])\n",
    "        dloss_list.append([ep, np.mean(dloss_batch)])\n",
    "        # Break episode/epoch loop\n",
    "        # Did not solve the environment. \n",
    "        # Best 100-episode average reward was 220.62 ± 0.69. \n",
    "        # (BipedalWalker-v2 is considered \"solved\" \n",
    "        #  when the agent obtains an average reward of at least 300 over 100 consecutive episodes.)        \n",
    "        if np.mean(episode_reward) >= 300:\n",
    "            break\n",
    "            \n",
    "    # At the end of all training episodes/epochs\n",
    "    saver.save(sess, 'checkpoints/model.ckpt')"
   ]
  },
  {
   "cell_type": "markdown",
   "metadata": {},
   "source": [
    "# Visualizing training\n",
    "\n",
    "Below I'll plot the total rewards for each episode. I'm plotting the rolling average too, in blue."
   ]
  },
  {
   "cell_type": "code",
   "execution_count": 43,
   "metadata": {},
   "outputs": [],
   "source": [
    "import matplotlib.pyplot as plt\n",
    "%matplotlib inline\n",
    "\n",
    "def running_mean(x, N):\n",
    "    cumsum = np.cumsum(np.insert(x, 0, 0)) \n",
    "    return (cumsum[N:] - cumsum[:-N]) / N "
   ]
  },
  {
   "cell_type": "code",
   "execution_count": 44,
   "metadata": {},
   "outputs": [
    {
     "data": {
      "text/plain": [
       "Text(0, 0.5, 'Total rewards')"
      ]
     },
     "execution_count": 44,
     "metadata": {},
     "output_type": "execute_result"
    },
    {
     "data": {
      "image/png": "[encoded data removed]",
      "text/plain": [
       "<Figure size 432x288 with 1 Axes>"
      ]
     },
     "metadata": {
      "needs_background": "light"
     },
     "output_type": "display_data"
    }
   ],
   "source": [
    "eps, arr = np.array(episode_rewards_list).T\n",
    "smoothed_arr = running_mean(arr, 10)\n",
    "plt.plot(eps[-len(smoothed_arr):], smoothed_arr)\n",
    "plt.plot(eps, arr, color='grey', alpha=0.3)\n",
    "plt.xlabel('Episode')\n",
    "plt.ylabel('Total rewards')"
   ]
  },
  {
   "cell_type": "code",
   "execution_count": 45,
   "metadata": {},
   "outputs": [
    {
     "data": {
      "text/plain": [
       "Text(0, 0.5, 'Total rewards')"
      ]
     },
     "execution_count": 45,
     "metadata": {},
     "output_type": "execute_result"
    },
    {
     "data": {
      "image/png": "[encoded data removed]",
      "text/plain": [
       "<Figure size 432x288 with 1 Axes>"
      ]
     },
     "metadata": {
      "needs_background": "light"
     },
     "output_type": "display_data"
    }
   ],
   "source": [
    "eps, arr = np.array(rewards_list).T\n",
    "smoothed_arr = running_mean(arr, 10)\n",
    "plt.plot(eps[-len(smoothed_arr):], smoothed_arr)\n",
    "plt.plot(eps, arr, color='grey', alpha=0.3)\n",
    "plt.xlabel('Episode')\n",
    "plt.ylabel('Total rewards')"
   ]
  },
  {
   "cell_type": "code",
   "execution_count": 46,
   "metadata": {},
   "outputs": [
    {
     "data": {
      "text/plain": [
       "Text(0, 0.5, 'G losses')"
      ]
     },
     "execution_count": 46,
     "metadata": {},
     "output_type": "execute_result"
    },
    {
     "data": {
      "image/png": "[encoded data removed]",
      "text/plain": [
       "<Figure size 432x288 with 1 Axes>"
      ]
     },
     "metadata": {
      "needs_background": "light"
     },
     "output_type": "display_data"
    }
   ],
   "source": [
    "eps, arr = np.array(gloss_list).T\n",
    "smoothed_arr = running_mean(arr, 10)\n",
    "plt.plot(eps[-len(smoothed_arr):], smoothed_arr)\n",
    "plt.plot(eps, arr, color='grey', alpha=0.3)\n",
    "plt.xlabel('Episode')\n",
    "plt.ylabel('G losses')"
   ]
  },
  {
   "cell_type": "code",
   "execution_count": 47,
   "metadata": {},
   "outputs": [
    {
     "data": {
      "text/plain": [
       "Text(0, 0.5, 'D losses')"
      ]
     },
     "execution_count": 47,
     "metadata": {},
     "output_type": "execute_result"
    },
    {
     "data": {
      "image/png": "[encoded data removed]",
      "text/plain": [
       "<Figure size 432x288 with 1 Axes>"
      ]
     },
     "metadata": {
      "needs_background": "light"
     },
     "output_type": "display_data"
    }
   ],
   "source": [
    "eps, arr = np.array(dloss_list).T\n",
    "smoothed_arr = running_mean(arr, 10)\n",
    "plt.plot(eps[-len(smoothed_arr):], smoothed_arr)\n",
    "plt.plot(eps, arr, color='grey', alpha=0.3)\n",
    "plt.xlabel('Episode')\n",
    "plt.ylabel('D losses')"
   ]
  },
  {
   "cell_type": "markdown",
   "metadata": {},
   "source": [
    "## Testing\n",
    "\n",
    "Let's checkout how our trained agent plays the game."
   ]
  },
  {
   "cell_type": "code",
   "execution_count": 46,
   "metadata": {},
   "outputs": [
    {
     "name": "stdout",
     "output_type": "stream",
     "text": [
      "\u001b[33mWARN: gym.spaces.Box autodetected dtype as <class 'numpy.float32'>. Please provide explicit dtype.\u001b[0m\n",
      "\u001b[33mWARN: gym.spaces.Box autodetected dtype as <class 'numpy.float32'>. Please provide explicit dtype.\u001b[0m\n",
      "INFO:tensorflow:Restoring parameters from checkpoints/model.ckpt\n",
      "total_reward: -130.50857430583363\n"
     ]
    }
   ],
   "source": [
    "import gym\n",
    "env = gym.make('BipedalWalker-v2')\n",
    "\n",
    "with tf.Session() as sess:\n",
    "    sess.run(tf.global_variables_initializer())\n",
    "    #saver.restore(sess, 'checkpoints/model2.ckpt')    \n",
    "    saver.restore(sess, tf.train.latest_checkpoint('checkpoints'))\n",
    "    \n",
    "    # Episodes/epochs\n",
    "    for _ in range(1):\n",
    "        state = env.reset()\n",
    "        total_reward = 0\n",
    "\n",
    "        # Steps/batches\n",
    "        while True:\n",
    "            env.render()\n",
    "            action_logits = sess.run(model.actions_logits, feed_dict={model.states: state.reshape([1, -1])})\n",
    "            action = np.reshape(action_logits, [-1]) # For continuous action space\n",
    "            #action = np.argmax(action_logits)\n",
    "            state, reward, done, _ = env.step(action)\n",
    "            total_reward += reward\n",
    "            if done:\n",
    "                print('total_reward: {}'.format(total_reward))\n",
    "                break\n",
    "                \n",
    "env.close()"
   ]
  },
  {
   "cell_type": "markdown",
   "metadata": {},
   "source": [
    "## Extending this\n",
    "\n",
    "So, Cart-Pole is a pretty simple game. However, the same model can be used to train an agent to play something much more complicated like Pong or Space Invaders. Instead of a state like we're using here though, you'd want to use convolutional layers to get the state from the screen images.\n",
    "\n",
    "![Deep Q-Learning Atari](assets/atari-network.png)\n",
    "\n",
    "I'll leave it as a challenge for you to use deep Q-learning to train an agent to play Atari games. Here's the original paper which will get you started: http://www.davidqiu.com:8888/research/nature14236.pdf."
   ]
  },
  {
   "cell_type": "code",
   "execution_count": null,
   "metadata": {},
   "outputs": [],
   "source": []
  }
 ],
 "metadata": {
  "kernelspec": {
   "display_name": "Python 3",
   "language": "python",
   "name": "python3"
  },
  "language_info": {
   "codemirror_mode": {
    "name": "ipython",
    "version": 3
   },
   "file_extension": ".py",
   "mimetype": "text/x-python",
   "name": "python",
   "nbconvert_exporter": "python",
   "pygments_lexer": "ipython3",
   "version": "3.6.8"
  }
 },
 "nbformat": 4,
 "nbformat_minor": 2
}
