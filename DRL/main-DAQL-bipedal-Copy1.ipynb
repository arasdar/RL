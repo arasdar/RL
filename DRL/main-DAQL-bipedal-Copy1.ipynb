{
 "cells": [
  {
   "cell_type": "markdown",
   "metadata": {},
   "source": [
    "# DAQL for BipedalWalker\n",
    "\n",
    "In this notebook, we'll build a neural network that can learn to play games through reinforcement learning. More specifically, we'll use Q-learning to train an agent to play a game called [Cart-Pole](https://gym.openai.com/envs/CartPole-v0). In this game, a freely swinging pole is attached to a cart. The cart can move to the left and right, and the goal is to keep the pole upright as long as possible.\n",
    "\n",
    "We can simulate this game using [OpenAI Gym](https://gym.openai.com/). First, let's check out how OpenAI Gym works. Then, we'll get into training an agent to play the Cart-Pole game."
   ]
  },
  {
   "cell_type": "code",
   "execution_count": 1,
   "metadata": {},
   "outputs": [
    {
     "name": "stdout",
     "output_type": "stream",
     "text": [
      "TensorFlow Version: 1.12.0\n",
      "Default GPU Device: /device:GPU:0\n"
     ]
    }
   ],
   "source": [
    "import tensorflow as tf\n",
    "print('TensorFlow Version: {}'.format(tf.__version__))\n",
    "print('Default GPU Device: {}'.format(tf.test.gpu_device_name()))"
   ]
  },
  {
   "cell_type": "markdown",
   "metadata": {},
   "source": [
    ">**Note:** Make sure you have OpenAI Gym cloned into the same directory with this notebook. I've included `gym` as a submodule, so you can run `git submodule --init --recursive` to pull the contents into the `gym` repo."
   ]
  },
  {
   "cell_type": "markdown",
   "metadata": {},
   "source": [
    "##### >**Note:** Make sure you have OpenAI Gym cloned. Then run this command `pip install -e gym/[all]`."
   ]
  },
  {
   "cell_type": "code",
   "execution_count": 2,
   "metadata": {},
   "outputs": [],
   "source": [
    "import gym\n",
    "env = gym.make('BipedalWalker-v2')"
   ]
  },
  {
   "cell_type": "markdown",
   "metadata": {},
   "source": [
    "We interact with the simulation through `env`. To show the simulation running, you can use `env.render()` to render one frame. Passing in an action as an integer to `env.step` will generate the next step in the simulation.  You can see how many actions are possible from `env.action_space` and to get a random action you can use `env.action_space.sample()`. This is general to all Gym games. In the Cart-Pole game, there are two possible actions, moving the cart left or right. So there are two actions we can take, encoded as 0 and 1.\n",
    "\n",
    "Run the code below to watch the simulation run."
   ]
  },
  {
   "cell_type": "code",
   "execution_count": 3,
   "metadata": {},
   "outputs": [
    {
     "data": {
      "text/plain": [
       "(Box(24,), Box(4,))"
      ]
     },
     "execution_count": 3,
     "metadata": {},
     "output_type": "execute_result"
    }
   ],
   "source": [
    "env.observation_space, env.action_space"
   ]
  },
  {
   "cell_type": "code",
   "execution_count": 4,
   "metadata": {},
   "outputs": [],
   "source": [
    "# state = env.reset()\n",
    "# batch = []\n",
    "# for _ in range(1111):\n",
    "#     #env.render()\n",
    "#     action = env.action_space.sample()\n",
    "#     next_state, reward, done, _ = env.step(action) # take a random action\n",
    "#     batch.append([state, action, next_state, reward, float(done)])\n",
    "#     state = next_state\n",
    "#     if done:\n",
    "#         state = env.reset()"
   ]
  },
  {
   "cell_type": "markdown",
   "metadata": {},
   "source": [
    "To shut the window showing the simulation, use `env.close()`."
   ]
  },
  {
   "cell_type": "code",
   "execution_count": 5,
   "metadata": {},
   "outputs": [],
   "source": [
    "# env.close()"
   ]
  },
  {
   "cell_type": "markdown",
   "metadata": {},
   "source": [
    "If you ran the simulation above, we can look at the rewards:"
   ]
  },
  {
   "cell_type": "code",
   "execution_count": 6,
   "metadata": {},
   "outputs": [],
   "source": [
    "# import numpy as np\n",
    "# actions = np.array([each[0] for each in batch])\n",
    "# states = np.array([each[1] for each in batch])\n",
    "# rewards = np.array([each[2] for each in batch])\n",
    "# dones = np.array([each[3] for each in batch])\n",
    "# infos = np.array([each[4] for each in batch])"
   ]
  },
  {
   "cell_type": "code",
   "execution_count": 7,
   "metadata": {},
   "outputs": [],
   "source": [
    "# print('states:', np.max(np.array(states)), np.min(np.array(states)))\n",
    "# print('actions:', np.max(np.array(actions)), np.min(np.array(actions)))\n",
    "# print('rewards:', np.max(np.array(rewards)), np.min(np.array(rewards)))"
   ]
  },
  {
   "cell_type": "code",
   "execution_count": 8,
   "metadata": {},
   "outputs": [],
   "source": [
    "# env.action_space.high, env.action_space.low"
   ]
  },
  {
   "cell_type": "markdown",
   "metadata": {},
   "source": [
    "The game resets after the pole has fallen past a certain angle. For each frame while the simulation is running, it returns a reward of 1.0. The longer the game runs, the more reward we get. Then, our network's goal is to maximize the reward by keeping the pole vertical. It will do this by moving the cart to the left and the right."
   ]
  },
  {
   "cell_type": "markdown",
   "metadata": {},
   "source": [
    "## Q-Network\n",
    "\n",
    "We train our Q-learning agent using the Bellman Equation:\n",
    "\n",
    "$$\n",
    "Q(s, a) = r + \\gamma \\max{Q(s', a')}\n",
    "$$\n",
    "\n",
    "where $s$ is a state, $a$ is an action, and $s'$ is the next state from state $s$ and action $a$.\n",
    "\n",
    "Before we used this equation to learn values for a Q-_table_. However, for this game there are a huge number of states available. The state has four values: the position and velocity of the cart, and the position and velocity of the pole. These are all real-valued numbers, so ignoring floating point precisions, you practically have infinite states. Instead of using a table then, we'll replace it with a neural network that will approximate the Q-table lookup function.\n",
    "\n",
    "<img src=\"assets/deep-q-learning.png\" width=450px>\n",
    "\n",
    "Now, our Q value, $Q(s, a)$ is calculated by passing in a state to the network. The output will be Q-values for each available action, with fully connected hidden layers.\n",
    "\n",
    "<img src=\"assets/q-network.png\" width=550px>\n",
    "\n",
    "\n",
    "As I showed before, we can define our targets for training as $\\hat{Q}(s,a) = r + \\gamma \\max{Q(s', a')}$. Then we update the weights by minimizing $(\\hat{Q}(s,a) - Q(s,a))^2$. \n",
    "\n",
    "For this Cart-Pole game, we have four inputs, one for each value in the state, and two outputs, one for each action. To get $\\hat{Q}$, we'll first choose an action, then simulate the game using that action. This will get us the next state, $s'$, and the reward. With that, we can calculate $\\hat{Q}$ then pass it back into the $Q$ network to run the optimizer and update the weights.\n",
    "\n",
    "Below is my implementation of the Q-network. I used two fully connected layers with ReLU activations. Two seems to be good enough, three might be better. Feel free to try it out."
   ]
  },
  {
   "cell_type": "code",
   "execution_count": 9,
   "metadata": {},
   "outputs": [],
   "source": [
    "def model_input(state_size, action_size):\n",
    "    #states = tf.placeholder(tf.float32, [None, *state_shape], name='states')\n",
    "    states = tf.placeholder(tf.float32, [None, state_size], name='states')\n",
    "    actions = tf.placeholder(tf.float32, [None, action_size], name='actions')\n",
    "    next_states = tf.placeholder(tf.float32, [None, state_size], name='next_state')\n",
    "    rewards = tf.placeholder(tf.float32, [None], name='rewards')\n",
    "    dones = tf.placeholder(tf.float32, [None], name='dones')\n",
    "    return states, actions, next_states, rewards, dones"
   ]
  },
  {
   "cell_type": "code",
   "execution_count": 11,
   "metadata": {},
   "outputs": [],
   "source": [
    "# a = act(s)\n",
    "def generator(states, action_size, hidden_size, reuse=False, alpha=0.1, training=False, trainable=True):\n",
    "    with tf.variable_scope('generator', reuse=reuse):\n",
    "        # First fully connected layer\n",
    "        h1 = tf.layers.dense(inputs=states, units=hidden_size, trainable=trainable)\n",
    "        bn1 = tf.layers.batch_normalization(h1, training=training, trainable=trainable)        \n",
    "        nl1 = tf.maximum(alpha * bn1, bn1)\n",
    "        \n",
    "        # Second fully connected layer\n",
    "        h2 = tf.layers.dense(inputs=nl1, units=hidden_size, trainable=trainable)\n",
    "        bn2 = tf.layers.batch_normalization(h2, training=training, trainable=trainable)        \n",
    "        nl2 = tf.maximum(alpha * bn2, bn2)\n",
    "                \n",
    "        # Output layer\n",
    "        logits = tf.layers.dense(inputs=nl2, units=action_size, trainable=trainable)        \n",
    "        pred = tf.tanh(logits)\n",
    "        return pred"
   ]
  },
  {
   "cell_type": "code",
   "execution_count": 12,
   "metadata": {},
   "outputs": [],
   "source": [
    "# Q = env(s, a)\n",
    "def discriminator(states, actions, state_size, action_size, hidden_size, reuse=False, alpha=0.1, training=False, \n",
    "                  trainable=True):\n",
    "    with tf.variable_scope('discriminator', reuse=reuse):\n",
    "        # First fully connected layer\n",
    "        h1 = tf.layers.dense(inputs=states, units=action_size, trainable=trainable)\n",
    "        bn1 = tf.layers.batch_normalization(h1, training=training, trainable=trainable)        \n",
    "        nl1 = tf.maximum(alpha * bn1, bn1)\n",
    "        \n",
    "        # Second fully connected layer\n",
    "        fused = tf.concat(axis=1, values=[nl1, actions])\n",
    "        h2 = tf.layers.dense(inputs=fused, units=hidden_size, trainable=trainable)\n",
    "        bn2 = tf.layers.batch_normalization(h2, training=training, trainable=trainable)        \n",
    "        nl2 = tf.maximum(alpha * bn2, bn2)\n",
    "                \n",
    "        # Output layer\n",
    "        #next_states_logits = tf.layers.dense(inputs=nl2, units=state_size, trainable=trainable)        \n",
    "        logits = tf.layers.dense(inputs=nl2, units=1, trainable=trainable)        \n",
    "        return logits"
   ]
  },
  {
   "cell_type": "code",
   "execution_count": 13,
   "metadata": {},
   "outputs": [],
   "source": [
    "def model_loss(action_size, hidden_size, state_size, gamma,\n",
    "               states, actions, next_states, rewards, dones):\n",
    "    #########################################################\n",
    "    actions_pred = generator(states=states, hidden_size=hidden_size, action_size=action_size)\n",
    "    #########################################\n",
    "    Qlogits = discriminator(actions=actions, states=states, hidden_size=hidden_size, \n",
    "                            action_size=action_size, state_size=state_size)\n",
    "    Qs = tf.reshape(Qlogits, shape=[-1])\n",
    "    print('Qs.shape, Qlogits.shape:', Qs.shape, Qlogits.shape)\n",
    "    ########################################\n",
    "    next_actions_pred = generator(states=next_states, hidden_size=hidden_size, action_size=action_size, \n",
    "                                  reuse=True)\n",
    "    nextQlogits = discriminator(actions=next_actions_pred, states=next_states, hidden_size=hidden_size,\n",
    "                                action_size=action_size, state_size=state_size, reuse=True)\n",
    "    nextQs = tf.reshape(nextQlogits, shape=[-1])\n",
    "    targetQs = rewards + (gamma * nextQs * (1-dones))\n",
    "    print('nextQlogits.shape, nextQs.shape, targetQs.shape:', nextQlogits.shape, nextQs.shape, targetQs.shape)\n",
    "    #loss = tf.reduce_mean(tf.square(Qs - targetQs))\n",
    "    loss = tf.reduce_mean(Qs - targetQs)\n",
    "    return actions_pred, loss"
   ]
  },
  {
   "cell_type": "code",
   "execution_count": 14,
   "metadata": {},
   "outputs": [],
   "source": [
    "# Optimizating/training/learning G & D\n",
    "def model_opt(loss, g_learning_rate, d_learning_rate):\n",
    "    # Get weights and bias to update\n",
    "    t_vars = tf.trainable_variables()\n",
    "    g_vars = [var for var in t_vars if var.name.startswith('generator')]\n",
    "    d_vars = [var for var in t_vars if var.name.startswith('discriminator')]\n",
    "\n",
    "    # Optimize\n",
    "    with tf.control_dependencies(tf.get_collection(tf.GraphKeys.UPDATE_OPS)): # Required for batchnorm (BN)\n",
    "        g_opt = tf.train.AdamOptimizer(g_learning_rate).minimize(-loss, var_list=g_vars)\n",
    "        d_opt = tf.train.AdamOptimizer(d_learning_rate).minimize(loss, var_list=d_vars)\n",
    "    return g_opt, d_opt"
   ]
  },
  {
   "cell_type": "code",
   "execution_count": 15,
   "metadata": {},
   "outputs": [],
   "source": [
    "class Model:\n",
    "    def __init__(self, state_size, action_size, hidden_size, g_learning_rate, d_learning_rate, gamma):\n",
    "        \n",
    "        # Model inputs\n",
    "        self.states, self.actions, self.next_states, self.rewards, self.dones = model_input(\n",
    "            state_size=state_size, action_size=action_size)\n",
    "\n",
    "        # Model loss/objective\n",
    "        self.actions_pred, self.loss = model_loss(\n",
    "            action_size=action_size, hidden_size=hidden_size, state_size=state_size, gamma=gamma,\n",
    "            states=self.states, actions=self.actions, next_states=self.next_states,\n",
    "            rewards=self.rewards, dones=self.dones)\n",
    "        \n",
    "        # Model optimization/update\n",
    "        self.g_opt, self.d_opt = model_opt(loss=self.loss,\n",
    "                                           g_learning_rate=g_learning_rate, \n",
    "                                           d_learning_rate=d_learning_rate)"
   ]
  },
  {
   "cell_type": "code",
   "execution_count": 16,
   "metadata": {},
   "outputs": [],
   "source": [
    "import numpy as np\n",
    "from collections import deque\n",
    "class Memory():\n",
    "    def __init__(self, max_size = 1000):\n",
    "        self.buffer = deque(maxlen=max_size)\n",
    "    def sample(self, batch_size):\n",
    "        idx = np.random.choice(np.arange(len(self.buffer)), \n",
    "                               size=batch_size, replace=False)\n",
    "        return [self.buffer[ii] for ii in idx]"
   ]
  },
  {
   "cell_type": "markdown",
   "metadata": {},
   "source": [
    "## Hyperparameters\n",
    "\n",
    "One of the more difficult aspects of reinforcememt learning are the large number of hyperparameters. Not only are we tuning the network, but we're tuning the simulation."
   ]
  },
  {
   "cell_type": "code",
   "execution_count": 17,
   "metadata": {},
   "outputs": [
    {
     "data": {
      "text/plain": [
       "(Box(24,), Box(4,))"
      ]
     },
     "execution_count": 17,
     "metadata": {},
     "output_type": "execute_result"
    }
   ],
   "source": [
    "env.observation_space, env.action_space"
   ]
  },
  {
   "cell_type": "code",
   "execution_count": 18,
   "metadata": {},
   "outputs": [],
   "source": [
    "# Exploration parameters\n",
    "explore_start = 1.0            # exploration probability at start\n",
    "explore_stop = 0.01           # minimum exploration probability \n",
    "decay_rate = 0.0001            # exponential decay rate for exploration prob\n",
    "\n",
    "# Network parameters\n",
    "state_size = 24\n",
    "action_size = 4\n",
    "hidden_size = 24*2             # number of units in each Q-network hidden layer\n",
    "g_learning_rate = 1e-4         # Q-network learning rate\n",
    "d_learning_rate = 1e-4         # Q-network learning rate\n",
    "\n",
    "# Memory parameters\n",
    "memory_size = int(1e5)            # memory capacity\n",
    "batch_size = int(1e2)             # experience mini-batch size == one episode size is 1000/int(1e3) steps\n",
    "gamma = 0.99                   # future reward discount"
   ]
  },
  {
   "cell_type": "code",
   "execution_count": 19,
   "metadata": {},
   "outputs": [
    {
     "name": "stdout",
     "output_type": "stream",
     "text": [
      "Qs.shape, Qlogits.shape: (?,) (?, 1)\n",
      "nextQlogits.shape, nextQs.shape, targetQs.shape: (?, 1) (?,) (?,)\n"
     ]
    }
   ],
   "source": [
    "# Reset/init the graph/session\n",
    "graph = tf.reset_default_graph()\n",
    "\n",
    "# Init the model\n",
    "model = Model(action_size=action_size, state_size=state_size, hidden_size=hidden_size, gamma=gamma,\n",
    "              g_learning_rate=g_learning_rate, d_learning_rate=d_learning_rate)\n",
    "\n",
    "# Init the memory\n",
    "memory = Memory(max_size=memory_size)"
   ]
  },
  {
   "cell_type": "code",
   "execution_count": 20,
   "metadata": {},
   "outputs": [
    {
     "data": {
      "text/plain": [
       "(array([inf, inf, inf, inf, inf, inf, inf, inf, inf, inf, inf, inf, inf,\n",
       "        inf, inf, inf, inf, inf, inf, inf, inf, inf, inf, inf],\n",
       "       dtype=float32),\n",
       " array([-inf, -inf, -inf, -inf, -inf, -inf, -inf, -inf, -inf, -inf, -inf,\n",
       "        -inf, -inf, -inf, -inf, -inf, -inf, -inf, -inf, -inf, -inf, -inf,\n",
       "        -inf, -inf], dtype=float32),\n",
       " Box(24,),\n",
       " array([1., 1., 1., 1.], dtype=float32),\n",
       " array([-1., -1., -1., -1.], dtype=float32),\n",
       " Box(4,),\n",
       " (-inf, inf))"
      ]
     },
     "execution_count": 20,
     "metadata": {},
     "output_type": "execute_result"
    }
   ],
   "source": [
    "env.observation_space.high, env.observation_space.low, env.observation_space, \\\n",
    "env.action_space.high, env.action_space.low, env.action_space, \\\n",
    "env.reward_range"
   ]
  },
  {
   "cell_type": "code",
   "execution_count": 21,
   "metadata": {},
   "outputs": [
    {
     "name": "stdout",
     "output_type": "stream",
     "text": [
      "Progress: 0.01599\n",
      "Progress: 0.03199\n",
      "Progress: 0.04799\n",
      "Progress: 0.04875\n",
      "Progress: 0.06475\n",
      "Progress: 0.08075\n",
      "Progress: 0.08138\n",
      "Progress: 0.09738\n",
      "Progress: 0.11338\n",
      "Progress: 0.12938\n",
      "Progress: 0.13\n",
      "Progress: 0.1309\n",
      "Progress: 0.13154\n",
      "Progress: 0.14754\n",
      "Progress: 0.14801\n",
      "Progress: 0.16401\n",
      "Progress: 0.16466\n",
      "Progress: 0.16554\n",
      "Progress: 0.16678\n",
      "Progress: 0.18278\n",
      "Progress: 0.18371\n",
      "Progress: 0.19971\n",
      "Progress: 0.20063\n",
      "Progress: 0.21663\n",
      "Progress: 0.21795\n",
      "Progress: 0.23395\n",
      "Progress: 0.24995\n",
      "Progress: 0.25077\n",
      "Progress: 0.2517\n",
      "Progress: 0.25242\n",
      "Progress: 0.26842\n",
      "Progress: 0.28442\n",
      "Progress: 0.30042\n",
      "Progress: 0.30104\n",
      "Progress: 0.30178\n",
      "Progress: 0.30259\n",
      "Progress: 0.31859\n",
      "Progress: 0.31912\n",
      "Progress: 0.3202\n",
      "Progress: 0.32105\n",
      "Progress: 0.32161\n",
      "Progress: 0.32249\n",
      "Progress: 0.32338\n",
      "Progress: 0.33938\n",
      "Progress: 0.34041\n",
      "Progress: 0.34093\n",
      "Progress: 0.3418\n",
      "Progress: 0.34231\n",
      "Progress: 0.34296\n",
      "Progress: 0.35896\n",
      "Progress: 0.37496\n",
      "Progress: 0.39096\n",
      "Progress: 0.39191\n",
      "Progress: 0.40791\n",
      "Progress: 0.42391\n",
      "Progress: 0.42445\n",
      "Progress: 0.44045\n",
      "Progress: 0.44127\n",
      "Progress: 0.44261\n",
      "Progress: 0.4435\n",
      "Progress: 0.44403\n",
      "Progress: 0.44471\n",
      "Progress: 0.44525\n",
      "Progress: 0.44586\n",
      "Progress: 0.46186\n",
      "Progress: 0.4626\n",
      "Progress: 0.4786\n",
      "Progress: 0.47937\n",
      "Progress: 0.47999\n",
      "Progress: 0.49599\n",
      "Progress: 0.51199\n",
      "Progress: 0.51246\n",
      "Progress: 0.51312\n",
      "Progress: 0.51407\n",
      "Progress: 0.53007\n",
      "Progress: 0.53114\n",
      "Progress: 0.53205\n",
      "Progress: 0.53291\n",
      "Progress: 0.54891\n",
      "Progress: 0.56491\n",
      "Progress: 0.58091\n",
      "Progress: 0.58132\n",
      "Progress: 0.58238\n",
      "Progress: 0.59838\n",
      "Progress: 0.59926\n",
      "Progress: 0.59994\n",
      "Progress: 0.60061\n",
      "Progress: 0.60131\n",
      "Progress: 0.60196\n",
      "Progress: 0.61796\n",
      "Progress: 0.63396\n",
      "Progress: 0.64996\n",
      "Progress: 0.6508\n",
      "Progress: 0.65182\n",
      "Progress: 0.65259\n",
      "Progress: 0.65321\n",
      "Progress: 0.6541\n",
      "Progress: 0.6701\n",
      "Progress: 0.67092\n",
      "Progress: 0.68692\n",
      "Progress: 0.68773\n",
      "Progress: 0.68846\n",
      "Progress: 0.70446\n",
      "Progress: 0.70536\n",
      "Progress: 0.7062\n",
      "Progress: 0.70672\n",
      "Progress: 0.72272\n",
      "Progress: 0.73872\n",
      "Progress: 0.75472\n",
      "Progress: 0.77072\n",
      "Progress: 0.77133\n",
      "Progress: 0.77202\n",
      "Progress: 0.77256\n",
      "Progress: 0.7732\n",
      "Progress: 0.77373\n",
      "Progress: 0.7743\n",
      "Progress: 0.77529\n",
      "Progress: 0.77626\n",
      "Progress: 0.77729\n",
      "Progress: 0.77815\n",
      "Progress: 0.7786\n",
      "Progress: 0.77939\n",
      "Progress: 0.79539\n",
      "Progress: 0.81139\n",
      "Progress: 0.82739\n",
      "Progress: 0.82821\n",
      "Progress: 0.82888\n",
      "Progress: 0.84488\n",
      "Progress: 0.86088\n",
      "Progress: 0.86148\n",
      "Progress: 0.86192\n",
      "Progress: 0.86256\n",
      "Progress: 0.87856\n",
      "Progress: 0.89456\n",
      "Progress: 0.89511\n",
      "Progress: 0.91111\n",
      "Progress: 0.91231\n",
      "Progress: 0.91295\n",
      "Progress: 0.9137\n",
      "Progress: 0.9297\n",
      "Progress: 0.93037\n",
      "Progress: 0.93099\n",
      "Progress: 0.94699\n",
      "Progress: 0.9478\n",
      "Progress: 0.94864\n",
      "Progress: 0.94954\n",
      "Progress: 0.95018\n",
      "Progress: 0.95083\n",
      "Progress: 0.96683\n",
      "Progress: 0.96761\n",
      "Progress: 0.96859\n",
      "Progress: 0.98459\n"
     ]
    }
   ],
   "source": [
    "state = env.reset()\n",
    "\n",
    "for each_step in range(memory_size):\n",
    "    #env.render()\n",
    "\n",
    "    action = env.action_space.sample() # randomness\n",
    "    action = np.clip(action, -1, 1) # clipped: [-1, +1]\n",
    "    next_state, reward, done, _ = env.step(action)\n",
    "    memory.buffer.append([state, action, next_state, reward, float(done)])\n",
    "    state = next_state\n",
    "    \n",
    "    if done is True:\n",
    "        print('Progress:', each_step/memory_size)\n",
    "        state = env.reset()"
   ]
  },
  {
   "cell_type": "markdown",
   "metadata": {},
   "source": [
    "## Training the model\n",
    "\n",
    "Below we'll train our agent. If you want to watch it train, uncomment the `env.render()` line. This is slow because it's rendering the frames slower than the network can train. But, it's cool to watch the agent get better at the game."
   ]
  },
  {
   "cell_type": "code",
   "execution_count": 22,
   "metadata": {},
   "outputs": [
    {
     "data": {
      "text/plain": [
       "(100000, 100000)"
      ]
     },
     "execution_count": 22,
     "metadata": {},
     "output_type": "execute_result"
    }
   ],
   "source": [
    "len(memory.buffer), memory.buffer.maxlen"
   ]
  },
  {
   "cell_type": "code",
   "execution_count": null,
   "metadata": {},
   "outputs": [
    {
     "name": "stdout",
     "output_type": "stream",
     "text": [
      "Episode:0 meanR:-107.6404 R:-107.6404 gloss:-0.2579 dloss:0.2579\n",
      "Episode:1 meanR:-122.9445 R:-138.2485 gloss:-0.1626 dloss:0.1626\n",
      "Episode:2 meanR:-116.7031 R:-104.2203 gloss:-0.1317 dloss:0.1317\n",
      "Episode:3 meanR:-113.4571 R:-103.7190 gloss:-0.1574 dloss:0.1574\n",
      "Episode:4 meanR:-114.8724 R:-120.5339 gloss:-0.2180 dloss:0.2180\n",
      "Episode:5 meanR:-115.9945 R:-121.6050 gloss:-0.2494 dloss:0.2494\n",
      "Episode:6 meanR:-115.9477 R:-115.6669 gloss:-0.3092 dloss:0.3092\n",
      "Episode:7 meanR:-117.8178 R:-130.9088 gloss:-0.2300 dloss:0.2300\n",
      "Episode:8 meanR:-116.6010 R:-106.8662 gloss:-0.0862 dloss:0.0862\n",
      "Episode:9 meanR:-117.9621 R:-130.2125 gloss:-0.2278 dloss:0.2278\n",
      "Episode:10 meanR:-116.3038 R:-99.7204 gloss:-0.4344 dloss:0.4344\n",
      "Episode:11 meanR:-114.9062 R:-99.5327 gloss:-0.2376 dloss:0.2376\n",
      "Episode:12 meanR:-113.8474 R:-101.1421 gloss:-0.1457 dloss:0.1457\n",
      "Episode:13 meanR:-113.1009 R:-103.3961 gloss:0.1148 dloss:-0.1148\n",
      "Episode:14 meanR:-112.1688 R:-99.1190 gloss:0.1537 dloss:-0.1537\n",
      "Episode:15 meanR:-113.8952 R:-139.7923 gloss:-0.1904 dloss:0.1904\n",
      "Episode:16 meanR:-113.9409 R:-114.6716 gloss:-0.3410 dloss:0.3410\n",
      "Episode:17 meanR:-115.3681 R:-139.6301 gloss:-0.0040 dloss:0.0040\n",
      "Episode:18 meanR:-114.5768 R:-100.3339 gloss:-0.2237 dloss:0.2237\n",
      "Episode:19 meanR:-115.5925 R:-134.8897 gloss:-0.1748 dloss:0.1748\n",
      "Episode:20 meanR:-114.9419 R:-101.9311 gloss:-0.0762 dloss:0.0762\n",
      "Episode:21 meanR:-114.0369 R:-95.0317 gloss:-0.3273 dloss:0.3273\n",
      "Episode:22 meanR:-113.3509 R:-98.2579 gloss:-0.4045 dloss:0.4045\n",
      "Episode:23 meanR:-112.7218 R:-98.2521 gloss:-0.0821 dloss:0.0821\n",
      "Episode:24 meanR:-112.4361 R:-105.5796 gloss:-0.0853 dloss:0.0853\n",
      "Episode:25 meanR:-112.4803 R:-113.5872 gloss:-0.3516 dloss:0.3516\n",
      "Episode:26 meanR:-112.6462 R:-116.9580 gloss:-0.2801 dloss:0.2801\n",
      "Episode:27 meanR:-112.9453 R:-121.0220 gloss:-0.2721 dloss:0.2721\n",
      "Episode:28 meanR:-113.2460 R:-121.6655 gloss:-0.0621 dloss:0.0621\n",
      "Episode:29 meanR:-113.4607 R:-119.6868 gloss:-0.0442 dloss:0.0442\n",
      "Episode:30 meanR:-113.5999 R:-117.7766 gloss:-0.0809 dloss:0.0809\n",
      "Episode:31 meanR:-113.6472 R:-115.1129 gloss:0.0123 dloss:-0.0123\n",
      "Episode:32 meanR:-114.0252 R:-126.1211 gloss:-0.2226 dloss:0.2226\n",
      "Episode:33 meanR:-114.1887 R:-119.5845 gloss:-0.1515 dloss:0.1515\n",
      "Episode:34 meanR:-113.9341 R:-105.2783 gloss:-0.2429 dloss:0.2429\n",
      "Episode:35 meanR:-114.5052 R:-134.4932 gloss:-0.1755 dloss:0.1755\n",
      "Episode:36 meanR:-115.3190 R:-144.6153 gloss:-0.1342 dloss:0.1342\n",
      "Episode:37 meanR:-115.9549 R:-139.4838 gloss:-0.1858 dloss:0.1858\n",
      "Episode:38 meanR:-116.5294 R:-138.3604 gloss:-0.0663 dloss:0.0663\n",
      "Episode:39 meanR:-116.3226 R:-108.2555 gloss:-0.4751 dloss:0.4751\n",
      "Episode:40 meanR:-116.4125 R:-120.0097 gloss:-0.2849 dloss:0.2849\n",
      "Episode:41 meanR:-116.4667 R:-118.6874 gloss:-0.0236 dloss:0.0236\n",
      "Episode:42 meanR:-116.5174 R:-118.6483 gloss:-0.0062 dloss:0.0062\n",
      "Episode:43 meanR:-116.5892 R:-119.6754 gloss:0.1318 dloss:-0.1318\n",
      "Episode:44 meanR:-116.6771 R:-120.5474 gloss:0.1098 dloss:-0.1098\n",
      "Episode:45 meanR:-116.6219 R:-114.1358 gloss:-0.2781 dloss:0.2781\n",
      "Episode:46 meanR:-116.8930 R:-129.3626 gloss:-0.2103 dloss:0.2103\n",
      "Episode:47 meanR:-116.7285 R:-108.9967 gloss:-0.2850 dloss:0.2850\n",
      "Episode:48 meanR:-117.4183 R:-150.5295 gloss:-0.1463 dloss:0.1463\n",
      "Episode:49 meanR:-117.8595 R:-139.4816 gloss:-0.1914 dloss:0.1914\n",
      "Episode:50 meanR:-117.8158 R:-115.6263 gloss:-0.0277 dloss:0.0277\n",
      "Episode:51 meanR:-117.7663 R:-115.2419 gloss:-0.0425 dloss:0.0425\n",
      "Episode:52 meanR:-117.6600 R:-112.1363 gloss:-0.1697 dloss:0.1697\n",
      "Episode:53 meanR:-117.2499 R:-95.5105 gloss:-0.3336 dloss:0.3336\n",
      "Episode:54 meanR:-116.9511 R:-100.8199 gloss:-0.3457 dloss:0.3457\n",
      "Episode:55 meanR:-116.7116 R:-103.5372 gloss:-0.1240 dloss:0.1240\n",
      "Episode:56 meanR:-116.4184 R:-99.9981 gloss:0.0315 dloss:-0.0315\n",
      "Episode:57 meanR:-116.1364 R:-100.0633 gloss:-0.0669 dloss:0.0669\n",
      "Episode:58 meanR:-115.8653 R:-100.1411 gloss:-0.1962 dloss:0.1962\n",
      "Episode:59 meanR:-115.8260 R:-113.5054 gloss:-0.2433 dloss:0.2433\n"
     ]
    }
   ],
   "source": [
    "# Save/load the model and save for plotting\n",
    "saver = tf.train.Saver()\n",
    "episode_rewards_list, rewards_list, gloss_list, dloss_list = [], [], [], []\n",
    "\n",
    "# TF session for training\n",
    "with tf.Session(graph=graph) as sess:\n",
    "    sess.run(tf.global_variables_initializer())\n",
    "    #saver.restore(sess, 'checkpoints/model.ckpt')    \n",
    "    #saver.restore(sess, tf.train.latest_checkpoint('checkpoints'))\n",
    "    episode_reward = deque(maxlen=100)\n",
    "    \n",
    "    # Training episodes/epochs\n",
    "    for ep in range(1111):\n",
    "        gloss_batch, dloss_batch = [], []\n",
    "        total_reward = 0\n",
    "        state = env.reset()\n",
    "\n",
    "        # Training steps/batches\n",
    "        while True:\n",
    "            env.render()\n",
    "            \n",
    "            action_pred = sess.run(model.actions_pred, feed_dict={model.states: state.reshape([1, -1])})\n",
    "            noise = np.random.normal(loc=0, scale=0.1, size=action_size) # randomness\n",
    "            action = action_pred.reshape([-1]) + noise\n",
    "            #print(action.shape, action_logits.shape, noise.shape)\n",
    "            action = np.clip(action, -1, 1) # clipped\n",
    "            \n",
    "            next_state, reward, done, _ = env.step(action)\n",
    "#             reward_in_pred = sess.run(model.rewards_in_pred, feed_dict={model.states: state.reshape([1, -1]), \n",
    "#                                                                          model.actions: action.reshape([1, -1]), \n",
    "#                                                                          model.next_states: next_state.reshape([1, -1])})\n",
    "    \n",
    "#             reward_in = reward_in_pred[0]\n",
    "            memory.buffer.append([state, action, next_state, reward, float(done)])\n",
    "            total_reward += reward\n",
    "            state = next_state\n",
    "            #print('reward, reward_in:', reward, reward_in)\n",
    "            \n",
    "            # Training\n",
    "            batch = memory.sample(batch_size)\n",
    "            states = np.array([each[0] for each in batch])\n",
    "            actions = np.array([each[1] for each in batch])\n",
    "            next_states = np.array([each[2] for each in batch])\n",
    "            rewards = np.array([each[3] for each in batch])\n",
    "            dones = np.array([each[4] for each in batch])\n",
    "            feed_dict = {model.states: states, \n",
    "                         model.actions: actions,\n",
    "                         model.next_states: next_states, \n",
    "                         model.rewards: rewards, \n",
    "                         model.dones: dones}\n",
    "            loss, _, _ = sess.run([model.loss, model.d_opt, model.g_opt], feed_dict)\n",
    "            gloss_batch.append(-loss)\n",
    "            dloss_batch.append(loss)\n",
    "            if done is True:\n",
    "                break\n",
    "                \n",
    "        episode_reward.append(total_reward)\n",
    "        print('Episode:{}'.format(ep),\n",
    "              'meanR:{:.4f}'.format(np.mean(episode_reward)),\n",
    "              'R:{:.4f}'.format(total_reward),\n",
    "              'gloss:{:.4f}'.format(np.mean(gloss_batch)),\n",
    "              'dloss:{:.4f}'.format(np.mean(dloss_batch)))\n",
    "        # Ploting out\n",
    "        episode_rewards_list.append([ep, np.mean(episode_reward)])\n",
    "        rewards_list.append([ep, total_reward])\n",
    "        gloss_list.append([ep, np.mean(gloss_batch)])\n",
    "        dloss_list.append([ep, np.mean(dloss_batch)])\n",
    "        # Break episode/epoch loop\n",
    "        # Did not solve the environment. \n",
    "        # Best 100-episode average reward was 220.62 ± 0.69. \n",
    "        # (BipedalWalker-v2 is considered \"solved\" \n",
    "        #  when the agent obtains an average reward of at least 300 over 100 consecutive episodes.)        \n",
    "        if np.mean(episode_reward) >= 300:\n",
    "            break\n",
    "            \n",
    "    # At the end of all training episodes/epochs\n",
    "    saver.save(sess, 'checkpoints/model.ckpt')"
   ]
  },
  {
   "cell_type": "markdown",
   "metadata": {},
   "source": [
    "# Visualizing training\n",
    "\n",
    "Below I'll plot the total rewards for each episode. I'm plotting the rolling average too, in blue."
   ]
  },
  {
   "cell_type": "code",
   "execution_count": null,
   "metadata": {},
   "outputs": [],
   "source": [
    "import matplotlib.pyplot as plt\n",
    "%matplotlib inline\n",
    "\n",
    "def running_mean(x, N):\n",
    "    cumsum = np.cumsum(np.insert(x, 0, 0)) \n",
    "    return (cumsum[N:] - cumsum[:-N]) / N "
   ]
  },
  {
   "cell_type": "code",
   "execution_count": null,
   "metadata": {},
   "outputs": [],
   "source": [
    "eps, arr = np.array(episode_rewards_list).T\n",
    "smoothed_arr = running_mean(arr, 10)\n",
    "plt.plot(eps[-len(smoothed_arr):], smoothed_arr)\n",
    "plt.plot(eps, arr, color='grey', alpha=0.3)\n",
    "plt.xlabel('Episode')\n",
    "plt.ylabel('Total rewards')"
   ]
  },
  {
   "cell_type": "code",
   "execution_count": null,
   "metadata": {},
   "outputs": [],
   "source": [
    "eps, arr = np.array(rewards_list).T\n",
    "smoothed_arr = running_mean(arr, 10)\n",
    "plt.plot(eps[-len(smoothed_arr):], smoothed_arr)\n",
    "plt.plot(eps, arr, color='grey', alpha=0.3)\n",
    "plt.xlabel('Episode')\n",
    "plt.ylabel('Total rewards')"
   ]
  },
  {
   "cell_type": "code",
   "execution_count": null,
   "metadata": {},
   "outputs": [],
   "source": [
    "eps, arr = np.array(gloss_list).T\n",
    "smoothed_arr = running_mean(arr, 10)\n",
    "plt.plot(eps[-len(smoothed_arr):], smoothed_arr)\n",
    "plt.plot(eps, arr, color='grey', alpha=0.3)\n",
    "plt.xlabel('Episode')\n",
    "plt.ylabel('G losses')"
   ]
  },
  {
   "cell_type": "code",
   "execution_count": null,
   "metadata": {},
   "outputs": [],
   "source": [
    "eps, arr = np.array(dloss_list).T\n",
    "smoothed_arr = running_mean(arr, 10)\n",
    "plt.plot(eps[-len(smoothed_arr):], smoothed_arr)\n",
    "plt.plot(eps, arr, color='grey', alpha=0.3)\n",
    "plt.xlabel('Episode')\n",
    "plt.ylabel('D losses')"
   ]
  },
  {
   "cell_type": "markdown",
   "metadata": {},
   "source": [
    "## Testing\n",
    "\n",
    "Let's checkout how our trained agent plays the game."
   ]
  },
  {
   "cell_type": "code",
   "execution_count": 31,
   "metadata": {},
   "outputs": [
    {
     "name": "stdout",
     "output_type": "stream",
     "text": [
      "INFO:tensorflow:Restoring parameters from checkpoints/model.ckpt\n",
      "total_reward: -104.69566602519279\n"
     ]
    }
   ],
   "source": [
    "import gym\n",
    "env = gym.make('BipedalWalker-v2')\n",
    "\n",
    "with tf.Session() as sess:\n",
    "    sess.run(tf.global_variables_initializer())\n",
    "    #saver.restore(sess, 'checkpoints/model2.ckpt')    \n",
    "    saver.restore(sess, tf.train.latest_checkpoint('checkpoints'))\n",
    "    \n",
    "    # Episodes/epochs\n",
    "    for _ in range(1):\n",
    "        state = env.reset()\n",
    "        total_reward = 0\n",
    "\n",
    "        # Steps/batches\n",
    "        while True:\n",
    "            env.render()\n",
    "            actions_pred = sess.run(model.actions_pred, feed_dict={model.states: state.reshape([1, -1])})\n",
    "            action = action_pred.reshape([-1])\n",
    "            state, reward, done, _ = env.step(action)\n",
    "            total_reward += reward\n",
    "            if done:\n",
    "                print('total_reward: {}'.format(total_reward))\n",
    "                break\n",
    "                \n",
    "env.close()"
   ]
  },
  {
   "cell_type": "markdown",
   "metadata": {},
   "source": [
    "## Extending this\n",
    "\n",
    "So, Cart-Pole is a pretty simple game. However, the same model can be used to train an agent to play something much more complicated like Pong or Space Invaders. Instead of a state like we're using here though, you'd want to use convolutional layers to get the state from the screen images.\n",
    "\n",
    "![Deep Q-Learning Atari](assets/atari-network.png)\n",
    "\n",
    "I'll leave it as a challenge for you to use deep Q-learning to train an agent to play Atari games. Here's the original paper which will get you started: http://www.davidqiu.com:8888/research/nature14236.pdf."
   ]
  },
  {
   "cell_type": "code",
   "execution_count": null,
   "metadata": {},
   "outputs": [],
   "source": []
  }
 ],
 "metadata": {
  "kernelspec": {
   "display_name": "Python 3",
   "language": "python",
   "name": "python3"
  },
  "language_info": {
   "codemirror_mode": {
    "name": "ipython",
    "version": 3
   },
   "file_extension": ".py",
   "mimetype": "text/x-python",
   "name": "python",
   "nbconvert_exporter": "python",
   "pygments_lexer": "ipython3",
   "version": "3.6.8"
  }
 },
 "nbformat": 4,
 "nbformat_minor": 2
}
