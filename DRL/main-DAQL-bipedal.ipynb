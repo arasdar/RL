{
 "cells": [
  {
   "cell_type": "markdown",
   "metadata": {},
   "source": [
    "# DAQL for BipedalWalker\n",
    "\n",
    "In this notebook, we'll build a neural network that can learn to play games through reinforcement learning. More specifically, we'll use Q-learning to train an agent to play a game called [Cart-Pole](https://gym.openai.com/envs/CartPole-v0). In this game, a freely swinging pole is attached to a cart. The cart can move to the left and right, and the goal is to keep the pole upright as long as possible.\n",
    "\n",
    "We can simulate this game using [OpenAI Gym](https://gym.openai.com/). First, let's check out how OpenAI Gym works. Then, we'll get into training an agent to play the Cart-Pole game."
   ]
  },
  {
   "cell_type": "code",
   "execution_count": 1,
   "metadata": {},
   "outputs": [
    {
     "name": "stdout",
     "output_type": "stream",
     "text": [
      "TensorFlow Version: 1.12.0\n",
      "Default GPU Device: /device:GPU:0\n"
     ]
    }
   ],
   "source": [
    "import tensorflow as tf\n",
    "print('TensorFlow Version: {}'.format(tf.__version__))\n",
    "print('Default GPU Device: {}'.format(tf.test.gpu_device_name()))"
   ]
  },
  {
   "cell_type": "markdown",
   "metadata": {},
   "source": [
    ">**Note:** Make sure you have OpenAI Gym cloned into the same directory with this notebook. I've included `gym` as a submodule, so you can run `git submodule --init --recursive` to pull the contents into the `gym` repo."
   ]
  },
  {
   "cell_type": "markdown",
   "metadata": {},
   "source": [
    "##### >**Note:** Make sure you have OpenAI Gym cloned. Then run this command `pip install -e gym/[all]`."
   ]
  },
  {
   "cell_type": "code",
   "execution_count": 2,
   "metadata": {},
   "outputs": [],
   "source": [
    "import gym\n",
    "env = gym.make('BipedalWalker-v2')"
   ]
  },
  {
   "cell_type": "markdown",
   "metadata": {},
   "source": [
    "We interact with the simulation through `env`. To show the simulation running, you can use `env.render()` to render one frame. Passing in an action as an integer to `env.step` will generate the next step in the simulation.  You can see how many actions are possible from `env.action_space` and to get a random action you can use `env.action_space.sample()`. This is general to all Gym games. In the Cart-Pole game, there are two possible actions, moving the cart left or right. So there are two actions we can take, encoded as 0 and 1.\n",
    "\n",
    "Run the code below to watch the simulation run."
   ]
  },
  {
   "cell_type": "code",
   "execution_count": 3,
   "metadata": {},
   "outputs": [
    {
     "data": {
      "text/plain": [
       "(Box(24,), Box(4,))"
      ]
     },
     "execution_count": 3,
     "metadata": {},
     "output_type": "execute_result"
    }
   ],
   "source": [
    "env.observation_space, env.action_space"
   ]
  },
  {
   "cell_type": "code",
   "execution_count": 4,
   "metadata": {},
   "outputs": [],
   "source": [
    "# state = env.reset()\n",
    "# batch = []\n",
    "# for _ in range(1111):\n",
    "#     #env.render()\n",
    "#     action = env.action_space.sample()\n",
    "#     next_state, reward, done, _ = env.step(action) # take a random action\n",
    "#     batch.append([state, action, next_state, reward, float(done)])\n",
    "#     state = next_state\n",
    "#     if done:\n",
    "#         state = env.reset()"
   ]
  },
  {
   "cell_type": "markdown",
   "metadata": {},
   "source": [
    "To shut the window showing the simulation, use `env.close()`."
   ]
  },
  {
   "cell_type": "code",
   "execution_count": 5,
   "metadata": {},
   "outputs": [],
   "source": [
    "# env.close()"
   ]
  },
  {
   "cell_type": "markdown",
   "metadata": {},
   "source": [
    "If you ran the simulation above, we can look at the rewards:"
   ]
  },
  {
   "cell_type": "code",
   "execution_count": 6,
   "metadata": {},
   "outputs": [],
   "source": [
    "# import numpy as np\n",
    "# actions = np.array([each[0] for each in batch])\n",
    "# states = np.array([each[1] for each in batch])\n",
    "# rewards = np.array([each[2] for each in batch])\n",
    "# dones = np.array([each[3] for each in batch])\n",
    "# infos = np.array([each[4] for each in batch])"
   ]
  },
  {
   "cell_type": "code",
   "execution_count": 7,
   "metadata": {},
   "outputs": [],
   "source": [
    "# print('states:', np.max(np.array(states)), np.min(np.array(states)))\n",
    "# print('actions:', np.max(np.array(actions)), np.min(np.array(actions)))\n",
    "# print('rewards:', np.max(np.array(rewards)), np.min(np.array(rewards)))"
   ]
  },
  {
   "cell_type": "code",
   "execution_count": 8,
   "metadata": {},
   "outputs": [],
   "source": [
    "# env.action_space.high, env.action_space.low"
   ]
  },
  {
   "cell_type": "markdown",
   "metadata": {},
   "source": [
    "The game resets after the pole has fallen past a certain angle. For each frame while the simulation is running, it returns a reward of 1.0. The longer the game runs, the more reward we get. Then, our network's goal is to maximize the reward by keeping the pole vertical. It will do this by moving the cart to the left and the right."
   ]
  },
  {
   "cell_type": "markdown",
   "metadata": {},
   "source": [
    "## Q-Network\n",
    "\n",
    "We train our Q-learning agent using the Bellman Equation:\n",
    "\n",
    "$$\n",
    "Q(s, a) = r + \\gamma \\max{Q(s', a')}\n",
    "$$\n",
    "\n",
    "where $s$ is a state, $a$ is an action, and $s'$ is the next state from state $s$ and action $a$.\n",
    "\n",
    "Before we used this equation to learn values for a Q-_table_. However, for this game there are a huge number of states available. The state has four values: the position and velocity of the cart, and the position and velocity of the pole. These are all real-valued numbers, so ignoring floating point precisions, you practically have infinite states. Instead of using a table then, we'll replace it with a neural network that will approximate the Q-table lookup function.\n",
    "\n",
    "<img src=\"assets/deep-q-learning.png\" width=450px>\n",
    "\n",
    "Now, our Q value, $Q(s, a)$ is calculated by passing in a state to the network. The output will be Q-values for each available action, with fully connected hidden layers.\n",
    "\n",
    "<img src=\"assets/q-network.png\" width=550px>\n",
    "\n",
    "\n",
    "As I showed before, we can define our targets for training as $\\hat{Q}(s,a) = r + \\gamma \\max{Q(s', a')}$. Then we update the weights by minimizing $(\\hat{Q}(s,a) - Q(s,a))^2$. \n",
    "\n",
    "For this Cart-Pole game, we have four inputs, one for each value in the state, and two outputs, one for each action. To get $\\hat{Q}$, we'll first choose an action, then simulate the game using that action. This will get us the next state, $s'$, and the reward. With that, we can calculate $\\hat{Q}$ then pass it back into the $Q$ network to run the optimizer and update the weights.\n",
    "\n",
    "Below is my implementation of the Q-network. I used two fully connected layers with ReLU activations. Two seems to be good enough, three might be better. Feel free to try it out."
   ]
  },
  {
   "cell_type": "code",
   "execution_count": 9,
   "metadata": {},
   "outputs": [],
   "source": [
    "def model_input(state_size, action_size):\n",
    "    #states = tf.placeholder(tf.float32, [None, *state_shape], name='states')\n",
    "    states = tf.placeholder(tf.float32, [None, state_size], name='states')\n",
    "    actions = tf.placeholder(tf.float32, [None, action_size], name='actions')\n",
    "    next_states = tf.placeholder(tf.float32, [None, state_size], name='next_state')\n",
    "    rewards = tf.placeholder(tf.float32, [None], name='rewards')\n",
    "    dones = tf.placeholder(tf.float32, [None], name='dones')\n",
    "    return states, actions, next_states, rewards, dones"
   ]
  },
  {
   "cell_type": "code",
   "execution_count": 10,
   "metadata": {},
   "outputs": [],
   "source": [
    "# a = act(s)\n",
    "def generator(states, action_size, hidden_size, reuse=False, alpha=0.1, training=False, trainable=True):\n",
    "    with tf.variable_scope('generator', reuse=reuse):\n",
    "        # First fully connected layer\n",
    "        h1 = tf.layers.dense(inputs=states, units=hidden_size, trainable=trainable)\n",
    "        bn1 = tf.layers.batch_normalization(h1, training=training, trainable=trainable)        \n",
    "        nl1 = tf.maximum(alpha * bn1, bn1)\n",
    "        \n",
    "        # Second fully connected layer\n",
    "        h2 = tf.layers.dense(inputs=nl1, units=hidden_size, trainable=trainable)\n",
    "        bn2 = tf.layers.batch_normalization(h2, training=training, trainable=trainable)        \n",
    "        nl2 = tf.maximum(alpha * bn2, bn2)\n",
    "                \n",
    "        # Output layer\n",
    "        logits = tf.layers.dense(inputs=nl2, units=action_size, trainable=trainable)        \n",
    "        pred = tf.tanh(logits)\n",
    "        return pred"
   ]
  },
  {
   "cell_type": "code",
   "execution_count": 11,
   "metadata": {},
   "outputs": [],
   "source": [
    "# s', Q = env(s, a)\n",
    "def discriminator(states, actions, state_size, action_size, hidden_size, reuse=False, alpha=0.1, training=False, \n",
    "                  trainable=True):\n",
    "    with tf.variable_scope('discriminator', reuse=reuse):\n",
    "        # First fully connected layer\n",
    "        h1 = tf.layers.dense(inputs=states, units=action_size, trainable=trainable)\n",
    "        bn1 = tf.layers.batch_normalization(h1, training=training, trainable=trainable)        \n",
    "        nl1 = tf.maximum(alpha * bn1, bn1)\n",
    "        \n",
    "        # Second fully connected layer\n",
    "        fused = tf.concat(axis=1, values=[nl1, actions])\n",
    "        h2 = tf.layers.dense(inputs=fused, units=hidden_size, trainable=trainable)\n",
    "        bn2 = tf.layers.batch_normalization(h2, training=training, trainable=trainable)        \n",
    "        nl2 = tf.maximum(alpha * bn2, bn2)\n",
    "                \n",
    "        # Output layer\n",
    "        next_states_logits = tf.layers.dense(inputs=nl2, units=state_size, trainable=trainable)        \n",
    "        Qlogits = tf.layers.dense(inputs=next_states_logits, units=1, trainable=False)        \n",
    "        return next_states_logits, Qlogits"
   ]
  },
  {
   "cell_type": "code",
   "execution_count": 12,
   "metadata": {},
   "outputs": [],
   "source": [
    "def model_loss(action_size, hidden_size, state_size, gamma,\n",
    "               states, actions, next_states, rewards, dones):\n",
    "    #########################################\n",
    "    actions_pred = generator(states=states, hidden_size=hidden_size, action_size=action_size)\n",
    "    gen_next_states, gQlogits = discriminator(actions=actions_pred, states=states, hidden_size=hidden_size, \n",
    "                                         action_size=action_size, state_size=state_size)\n",
    "    gQs = tf.reshape(gQlogits, shape=[-1])\n",
    "    print('gQlogits.shape, gQs.shape:', gQlogits.shape, gQs.shape)\n",
    "    gloss = -tf.reduce_mean(gQs)\n",
    "    print('gen_next_states.shape, next_states.shape:', gen_next_states.shape, next_states.shape)\n",
    "    gloss += -tf.reduce_mean(tf.reduce_sum(tf.square(gen_next_states - next_states), axis=1))\n",
    "    ###########################################\n",
    "    next_states_pred, Qlogits = discriminator(actions=actions, states=states, hidden_size=hidden_size, \n",
    "                                         action_size=action_size, state_size=state_size, reuse=True)\n",
    "    rewards_in = tf.reduce_sum(tf.square(next_states_pred - next_states), axis=1)\n",
    "    print('rewards_in.shape, rewards.shape:', rewards_in.shape, rewards.shape)\n",
    "    dloss = tf.reduce_mean(rewards_in)\n",
    "    ########################################\n",
    "    next_actions_pred = generator(states=next_states, hidden_size=hidden_size, action_size=action_size, \n",
    "                                  trainable=False, reuse=True)\n",
    "    _, nextQlogits = discriminator(actions=next_actions_pred, states=next_states, hidden_size=hidden_size,\n",
    "                              action_size=action_size, state_size=state_size, \n",
    "                              trainable=False, reuse=True)\n",
    "    nextQs = tf.reshape(nextQlogits, shape=[-1])\n",
    "    targetQs = rewards + rewards_in + (gamma * nextQs * (1-dones))\n",
    "    print('nextQlogits.shape, nextQs.shape, targetQs.shape:', nextQlogits.shape, nextQs.shape, targetQs.shape)\n",
    "    Qs = tf.reshape(Qlogits, shape=[-1])\n",
    "    print('Qs.shape, Qlogits.shape:', Qs.shape, Qlogits.shape)\n",
    "    dloss += tf.reduce_mean(tf.square(Qs - targetQs))\n",
    "    print('pred_next_states.shape, next_states.shape:', next_states_pred.shape, next_states.shape)\n",
    "    return actions_pred, gloss, dloss"
   ]
  },
  {
   "cell_type": "code",
   "execution_count": 13,
   "metadata": {},
   "outputs": [],
   "source": [
    "# Optimizating/training/learning G & D\n",
    "def model_opt(g_loss, d_loss, g_learning_rate, d_learning_rate):\n",
    "    # Get weights and bias to update\n",
    "    t_vars = tf.trainable_variables()\n",
    "    g_vars = [var for var in t_vars if var.name.startswith('generator')]\n",
    "    d_vars = [var for var in t_vars if var.name.startswith('discriminator')]\n",
    "\n",
    "    # Optimize\n",
    "    with tf.control_dependencies(tf.get_collection(tf.GraphKeys.UPDATE_OPS)): # Required for batchnorm (BN)\n",
    "        g_opt = tf.train.AdamOptimizer(g_learning_rate).minimize(g_loss, var_list=g_vars)\n",
    "        d_opt = tf.train.AdamOptimizer(d_learning_rate).minimize(d_loss, var_list=d_vars)\n",
    "    return g_opt, d_opt"
   ]
  },
  {
   "cell_type": "code",
   "execution_count": 14,
   "metadata": {},
   "outputs": [],
   "source": [
    "class Model:\n",
    "    def __init__(self, state_size, action_size, hidden_size, g_learning_rate, d_learning_rate, gamma):\n",
    "        \n",
    "        # Model inputs\n",
    "        self.states, self.actions, self.next_states, self.rewards, self.dones = model_input(\n",
    "            state_size=state_size, action_size=action_size)\n",
    "\n",
    "        # Model loss/objective\n",
    "        self.actions_pred, self.g_loss, self.d_loss = model_loss(\n",
    "            action_size=action_size, hidden_size=hidden_size, state_size=state_size, gamma=gamma,\n",
    "            states=self.states, actions=self.actions, next_states=self.next_states,\n",
    "            rewards=self.rewards, dones=self.dones)\n",
    "        \n",
    "        # Model optimization/update\n",
    "        self.g_opt, self.d_opt = model_opt(g_loss=self.g_loss, d_loss=self.d_loss,\n",
    "                                           g_learning_rate=g_learning_rate, d_learning_rate=d_learning_rate)"
   ]
  },
  {
   "cell_type": "code",
   "execution_count": 15,
   "metadata": {},
   "outputs": [],
   "source": [
    "import numpy as np\n",
    "from collections import deque\n",
    "class Memory():\n",
    "    def __init__(self, max_size = 1000):\n",
    "        self.buffer = deque(maxlen=max_size)\n",
    "    def sample(self, batch_size):\n",
    "        idx = np.random.choice(np.arange(len(self.buffer)), \n",
    "                               size=batch_size, replace=False)\n",
    "        return [self.buffer[ii] for ii in idx]"
   ]
  },
  {
   "cell_type": "markdown",
   "metadata": {},
   "source": [
    "## Hyperparameters\n",
    "\n",
    "One of the more difficult aspects of reinforcememt learning are the large number of hyperparameters. Not only are we tuning the network, but we're tuning the simulation."
   ]
  },
  {
   "cell_type": "code",
   "execution_count": 16,
   "metadata": {},
   "outputs": [
    {
     "data": {
      "text/plain": [
       "(Box(24,), Box(4,))"
      ]
     },
     "execution_count": 16,
     "metadata": {},
     "output_type": "execute_result"
    }
   ],
   "source": [
    "env.observation_space, env.action_space"
   ]
  },
  {
   "cell_type": "code",
   "execution_count": 17,
   "metadata": {},
   "outputs": [],
   "source": [
    "# Exploration parameters\n",
    "explore_start = 1.0            # exploration probability at start\n",
    "explore_stop = 0.01           # minimum exploration probability \n",
    "decay_rate = 0.0001            # exponential decay rate for exploration prob\n",
    "\n",
    "# Network parameters\n",
    "state_size = 24\n",
    "action_size = 4\n",
    "hidden_size = 24*2             # number of units in each Q-network hidden layer\n",
    "g_learning_rate = 1e-4         # Q-network learning rate\n",
    "d_learning_rate = 1e-4         # Q-network learning rate\n",
    "\n",
    "# Memory parameters\n",
    "memory_size = int(1e5)            # memory capacity\n",
    "batch_size = int(1e2)             # experience mini-batch size == one episode size is 1000/int(1e3) steps\n",
    "gamma = 0.99                   # future reward discount"
   ]
  },
  {
   "cell_type": "code",
   "execution_count": 18,
   "metadata": {},
   "outputs": [
    {
     "name": "stdout",
     "output_type": "stream",
     "text": [
      "gQlogits.shape, gQs.shape: (?, 1) (?,)\n",
      "gen_next_states.shape, next_states.shape: (?, 24) (?, 24)\n",
      "rewards_in.shape, rewards.shape: (?,) (?,)\n",
      "nextQlogits.shape, nextQs.shape, targetQs.shape: (?, 1) (?,) (?,)\n",
      "Qs.shape, Qlogits.shape: (?,) (?, 1)\n",
      "pred_next_states.shape, next_states.shape: (?, 24) (?, 24)\n"
     ]
    }
   ],
   "source": [
    "# Reset/init the graph/session\n",
    "graph = tf.reset_default_graph()\n",
    "\n",
    "# Init the model\n",
    "model = Model(action_size=action_size, state_size=state_size, hidden_size=hidden_size, gamma=gamma,\n",
    "              g_learning_rate=g_learning_rate, d_learning_rate=d_learning_rate)\n",
    "\n",
    "# Init the memory\n",
    "memory = Memory(max_size=memory_size)"
   ]
  },
  {
   "cell_type": "code",
   "execution_count": 19,
   "metadata": {},
   "outputs": [
    {
     "data": {
      "text/plain": [
       "(array([inf, inf, inf, inf, inf, inf, inf, inf, inf, inf, inf, inf, inf,\n",
       "        inf, inf, inf, inf, inf, inf, inf, inf, inf, inf, inf],\n",
       "       dtype=float32),\n",
       " array([-inf, -inf, -inf, -inf, -inf, -inf, -inf, -inf, -inf, -inf, -inf,\n",
       "        -inf, -inf, -inf, -inf, -inf, -inf, -inf, -inf, -inf, -inf, -inf,\n",
       "        -inf, -inf], dtype=float32),\n",
       " Box(24,),\n",
       " array([1., 1., 1., 1.], dtype=float32),\n",
       " array([-1., -1., -1., -1.], dtype=float32),\n",
       " Box(4,),\n",
       " (-inf, inf))"
      ]
     },
     "execution_count": 19,
     "metadata": {},
     "output_type": "execute_result"
    }
   ],
   "source": [
    "env.observation_space.high, env.observation_space.low, env.observation_space, \\\n",
    "env.action_space.high, env.action_space.low, env.action_space, \\\n",
    "env.reward_range"
   ]
  },
  {
   "cell_type": "code",
   "execution_count": 20,
   "metadata": {},
   "outputs": [
    {
     "name": "stdout",
     "output_type": "stream",
     "text": [
      "Progress: 0.0006\n",
      "Progress: 0.0166\n",
      "Progress: 0.0326\n",
      "Progress: 0.03328\n",
      "Progress: 0.03414\n",
      "Progress: 0.03515\n",
      "Progress: 0.03637\n",
      "Progress: 0.03679\n",
      "Progress: 0.05279\n",
      "Progress: 0.05325\n",
      "Progress: 0.06925\n",
      "Progress: 0.08525\n",
      "Progress: 0.08569\n",
      "Progress: 0.08731\n",
      "Progress: 0.08806\n",
      "Progress: 0.10406\n",
      "Progress: 0.10494\n",
      "Progress: 0.10548\n",
      "Progress: 0.10612\n",
      "Progress: 0.10701\n",
      "Progress: 0.12301\n",
      "Progress: 0.13901\n",
      "Progress: 0.13952\n",
      "Progress: 0.14007\n",
      "Progress: 0.14078\n",
      "Progress: 0.14239\n",
      "Progress: 0.14282\n",
      "Progress: 0.14434\n",
      "Progress: 0.14482\n",
      "Progress: 0.16082\n",
      "Progress: 0.16136\n",
      "Progress: 0.16266\n",
      "Progress: 0.16356\n",
      "Progress: 0.16443\n",
      "Progress: 0.18043\n",
      "Progress: 0.181\n",
      "Progress: 0.18183\n",
      "Progress: 0.18231\n",
      "Progress: 0.19831\n",
      "Progress: 0.19934\n",
      "Progress: 0.20204\n",
      "Progress: 0.20318\n",
      "Progress: 0.21918\n",
      "Progress: 0.21993\n",
      "Progress: 0.22085\n",
      "Progress: 0.22146\n",
      "Progress: 0.23746\n",
      "Progress: 0.23824\n",
      "Progress: 0.25424\n",
      "Progress: 0.25538\n",
      "Progress: 0.25642\n",
      "Progress: 0.25779\n",
      "Progress: 0.25837\n",
      "Progress: 0.25917\n",
      "Progress: 0.25988\n",
      "Progress: 0.27588\n",
      "Progress: 0.29188\n",
      "Progress: 0.30788\n",
      "Progress: 0.32388\n",
      "Progress: 0.32451\n",
      "Progress: 0.32576\n",
      "Progress: 0.34176\n",
      "Progress: 0.3429\n",
      "Progress: 0.34391\n",
      "Progress: 0.34442\n",
      "Progress: 0.34534\n",
      "Progress: 0.34591\n",
      "Progress: 0.34648\n",
      "Progress: 0.36248\n",
      "Progress: 0.36347\n",
      "Progress: 0.36431\n",
      "Progress: 0.36518\n",
      "Progress: 0.38118\n",
      "Progress: 0.38202\n",
      "Progress: 0.39802\n",
      "Progress: 0.39863\n",
      "Progress: 0.39909\n",
      "Progress: 0.41509\n",
      "Progress: 0.43109\n",
      "Progress: 0.43163\n",
      "Progress: 0.44763\n",
      "Progress: 0.44824\n",
      "Progress: 0.4495\n",
      "Progress: 0.45025\n",
      "Progress: 0.46625\n",
      "Progress: 0.46686\n",
      "Progress: 0.4675\n",
      "Progress: 0.4684\n",
      "Progress: 0.46967\n",
      "Progress: 0.47049\n",
      "Progress: 0.4711\n",
      "Progress: 0.4719\n",
      "Progress: 0.47263\n",
      "Progress: 0.48863\n",
      "Progress: 0.48957\n",
      "Progress: 0.50557\n",
      "Progress: 0.52157\n",
      "Progress: 0.52235\n",
      "Progress: 0.52286\n",
      "Progress: 0.52373\n",
      "Progress: 0.52529\n",
      "Progress: 0.52611\n",
      "Progress: 0.52707\n",
      "Progress: 0.52782\n",
      "Progress: 0.52847\n",
      "Progress: 0.52925\n",
      "Progress: 0.5299\n",
      "Progress: 0.5459\n",
      "Progress: 0.54658\n",
      "Progress: 0.54731\n",
      "Progress: 0.54785\n",
      "Progress: 0.56385\n",
      "Progress: 0.56502\n",
      "Progress: 0.58102\n",
      "Progress: 0.58186\n",
      "Progress: 0.58254\n",
      "Progress: 0.58334\n",
      "Progress: 0.58504\n",
      "Progress: 0.58585\n",
      "Progress: 0.60185\n",
      "Progress: 0.60243\n",
      "Progress: 0.60293\n",
      "Progress: 0.61893\n",
      "Progress: 0.61951\n",
      "Progress: 0.63551\n",
      "Progress: 0.65151\n",
      "Progress: 0.65223\n",
      "Progress: 0.66823\n",
      "Progress: 0.66897\n",
      "Progress: 0.68497\n",
      "Progress: 0.68593\n",
      "Progress: 0.70193\n",
      "Progress: 0.70384\n",
      "Progress: 0.71984\n",
      "Progress: 0.72052\n",
      "Progress: 0.72131\n",
      "Progress: 0.72209\n",
      "Progress: 0.72275\n",
      "Progress: 0.73875\n",
      "Progress: 0.73933\n",
      "Progress: 0.74024\n",
      "Progress: 0.74067\n",
      "Progress: 0.74136\n",
      "Progress: 0.74224\n",
      "Progress: 0.74295\n",
      "Progress: 0.75895\n",
      "Progress: 0.76003\n",
      "Progress: 0.76048\n",
      "Progress: 0.76121\n",
      "Progress: 0.76155\n",
      "Progress: 0.77755\n",
      "Progress: 0.77835\n",
      "Progress: 0.79435\n",
      "Progress: 0.8024\n",
      "Progress: 0.80303\n",
      "Progress: 0.80375\n",
      "Progress: 0.80431\n",
      "Progress: 0.80507\n",
      "Progress: 0.80599\n",
      "Progress: 0.80674\n",
      "Progress: 0.82274\n",
      "Progress: 0.83874\n",
      "Progress: 0.83942\n",
      "Progress: 0.85542\n",
      "Progress: 0.85631\n",
      "Progress: 0.85685\n",
      "Progress: 0.85819\n",
      "Progress: 0.85868\n",
      "Progress: 0.87468\n",
      "Progress: 0.87535\n",
      "Progress: 0.89135\n",
      "Progress: 0.90735\n",
      "Progress: 0.92335\n",
      "Progress: 0.93935\n",
      "Progress: 0.9398\n",
      "Progress: 0.94031\n",
      "Progress: 0.94182\n",
      "Progress: 0.94227\n",
      "Progress: 0.95827\n",
      "Progress: 0.97427\n",
      "Progress: 0.97519\n",
      "Progress: 0.97604\n",
      "Progress: 0.97684\n",
      "Progress: 0.99284\n",
      "Progress: 0.99399\n"
     ]
    }
   ],
   "source": [
    "state = env.reset()\n",
    "\n",
    "for each_step in range(memory_size):\n",
    "    #env.render()\n",
    "\n",
    "    action = env.action_space.sample() # randomness\n",
    "    action = np.clip(action, -1, 1) # clipped: [-1, +1]\n",
    "    next_state, reward, done, _ = env.step(action)\n",
    "    memory.buffer.append([state, action, next_state, reward, float(done)])\n",
    "    state = next_state\n",
    "    \n",
    "    if done is True:\n",
    "        print('Progress:', each_step/memory_size)\n",
    "        state = env.reset()"
   ]
  },
  {
   "cell_type": "markdown",
   "metadata": {},
   "source": [
    "## Training the model\n",
    "\n",
    "Below we'll train our agent. If you want to watch it train, uncomment the `env.render()` line. This is slow because it's rendering the frames slower than the network can train. But, it's cool to watch the agent get better at the game."
   ]
  },
  {
   "cell_type": "code",
   "execution_count": null,
   "metadata": {},
   "outputs": [
    {
     "data": {
      "text/plain": [
       "(100000, 100000)"
      ]
     },
     "execution_count": 21,
     "metadata": {},
     "output_type": "execute_result"
    }
   ],
   "source": [
    "len(memory.buffer), memory.buffer.maxlen"
   ]
  },
  {
   "cell_type": "code",
   "execution_count": null,
   "metadata": {},
   "outputs": [
    {
     "name": "stdout",
     "output_type": "stream",
     "text": [
      "Episode:0 meanR:-97.2639 R:-97.2639 gloss:-8.6189 dloss:103.2215\n",
      "Episode:1 meanR:-107.1032 R:-116.9426 gloss:-8.4722 dloss:84.2127\n",
      "Episode:2 meanR:-108.2930 R:-110.6724 gloss:-7.8583 dloss:62.3439\n",
      "Episode:3 meanR:-110.0874 R:-115.4706 gloss:-7.2622 dloss:57.2880\n",
      "Episode:4 meanR:-112.5377 R:-122.3391 gloss:-6.3904 dloss:52.9516\n",
      "Episode:5 meanR:-112.2430 R:-110.7695 gloss:-5.6288 dloss:34.2663\n",
      "Episode:6 meanR:-112.5501 R:-114.3924 gloss:-5.3770 dloss:24.5231\n",
      "Episode:7 meanR:-114.8778 R:-131.1722 gloss:-5.4810 dloss:26.2885\n",
      "Episode:8 meanR:-116.0327 R:-125.2714 gloss:-6.0375 dloss:19.7608\n",
      "Episode:9 meanR:-116.5846 R:-121.5516 gloss:-5.8133 dloss:18.0691\n",
      "Episode:10 meanR:-117.1231 R:-122.5090 gloss:-5.5240 dloss:17.1676\n",
      "Episode:11 meanR:-117.3215 R:-119.5035 gloss:-5.3201 dloss:11.9940\n",
      "Episode:12 meanR:-117.5114 R:-119.7901 gloss:-5.3177 dloss:24.8287\n",
      "Episode:13 meanR:-119.2733 R:-142.1782 gloss:-5.0590 dloss:15.7678\n",
      "Episode:14 meanR:-119.4480 R:-121.8939 gloss:-4.8817 dloss:17.8257\n",
      "Episode:15 meanR:-119.6262 R:-122.2996 gloss:-4.9374 dloss:25.2757\n",
      "Episode:16 meanR:-119.5890 R:-118.9932 gloss:-4.9099 dloss:23.9631\n",
      "Episode:17 meanR:-119.7214 R:-121.9715 gloss:-4.8362 dloss:15.0376\n",
      "Episode:18 meanR:-119.7725 R:-120.6937 gloss:-4.7181 dloss:25.8482\n",
      "Episode:19 meanR:-119.9058 R:-122.4386 gloss:-4.6919 dloss:15.1220\n",
      "Episode:20 meanR:-120.0114 R:-122.1231 gloss:-4.6407 dloss:20.9185\n",
      "Episode:21 meanR:-119.9404 R:-118.4490 gloss:-4.6227 dloss:14.0025\n",
      "Episode:22 meanR:-119.8159 R:-117.0761 gloss:-4.4781 dloss:16.7361\n",
      "Episode:23 meanR:-119.6623 R:-116.1294 gloss:-4.4165 dloss:18.0813\n",
      "Episode:24 meanR:-119.9301 R:-126.3575 gloss:-4.2232 dloss:18.3370\n",
      "Episode:25 meanR:-120.1409 R:-125.4123 gloss:-4.3535 dloss:20.2839\n",
      "Episode:26 meanR:-120.1101 R:-119.3074 gloss:-4.3103 dloss:23.7687\n",
      "Episode:27 meanR:-120.2369 R:-123.6623 gloss:-4.1791 dloss:21.8254\n",
      "Episode:28 meanR:-120.3672 R:-124.0154 gloss:-4.1892 dloss:20.9067\n",
      "Episode:29 meanR:-120.8390 R:-134.5195 gloss:-4.1643 dloss:19.3238\n",
      "Episode:30 meanR:-121.1105 R:-129.2571 gloss:-4.0147 dloss:19.4004\n",
      "Episode:31 meanR:-121.7015 R:-140.0221 gloss:-4.0165 dloss:20.0237\n",
      "Episode:32 meanR:-121.5398 R:-116.3661 gloss:-4.0653 dloss:19.4986\n",
      "Episode:33 meanR:-121.6371 R:-124.8477 gloss:-3.9876 dloss:14.8974\n",
      "Episode:34 meanR:-121.6918 R:-123.5524 gloss:-4.0706 dloss:14.9455\n",
      "Episode:35 meanR:-121.9060 R:-129.4010 gloss:-4.0321 dloss:15.4165\n",
      "Episode:36 meanR:-121.9233 R:-122.5458 gloss:-4.0776 dloss:17.2091\n",
      "Episode:37 meanR:-121.9807 R:-124.1068 gloss:-4.2455 dloss:17.6939\n",
      "Episode:38 meanR:-122.0380 R:-124.2148 gloss:-4.2843 dloss:12.3440\n",
      "Episode:39 meanR:-121.8966 R:-116.3798 gloss:-4.2588 dloss:16.1771\n",
      "Episode:40 meanR:-121.8321 R:-119.2529 gloss:-4.0433 dloss:19.7624\n",
      "Episode:41 meanR:-121.8731 R:-123.5550 gloss:-4.1663 dloss:18.4797\n",
      "Episode:42 meanR:-121.9239 R:-124.0575 gloss:-4.1873 dloss:20.7874\n",
      "Episode:43 meanR:-121.8656 R:-119.3590 gloss:-4.2438 dloss:24.5930\n",
      "Episode:44 meanR:-121.8138 R:-119.5338 gloss:-4.1916 dloss:10.4659\n",
      "Episode:45 meanR:-121.9273 R:-127.0349 gloss:-4.2088 dloss:20.0731\n",
      "Episode:46 meanR:-121.8867 R:-120.0215 gloss:-4.3263 dloss:14.8212\n",
      "Episode:47 meanR:-121.9946 R:-127.0658 gloss:-4.3035 dloss:21.9203\n",
      "Episode:48 meanR:-121.9345 R:-119.0489 gloss:-4.2784 dloss:17.3530\n",
      "Episode:49 meanR:-121.9989 R:-125.1553 gloss:-4.3482 dloss:20.1520\n",
      "Episode:50 meanR:-121.8984 R:-116.8710 gloss:-4.2756 dloss:16.8484\n",
      "Episode:51 meanR:-121.9376 R:-123.9372 gloss:-4.3215 dloss:28.3729\n",
      "Episode:52 meanR:-121.9061 R:-120.2656 gloss:-4.3041 dloss:17.6379\n",
      "Episode:53 meanR:-122.0638 R:-130.4228 gloss:-4.4767 dloss:21.5465\n",
      "Episode:54 meanR:-122.1600 R:-127.3551 gloss:-4.4198 dloss:16.4815\n",
      "Episode:55 meanR:-122.1613 R:-122.2345 gloss:-4.3636 dloss:12.0710\n",
      "Episode:56 meanR:-122.1535 R:-121.7184 gloss:-4.3542 dloss:21.1718\n",
      "Episode:57 meanR:-122.1763 R:-123.4761 gloss:-4.4151 dloss:25.8855\n",
      "Episode:58 meanR:-122.0321 R:-113.6685 gloss:-4.3991 dloss:23.6222\n",
      "Episode:59 meanR:-121.9942 R:-119.7574 gloss:-4.3139 dloss:14.3101\n",
      "Episode:60 meanR:-122.0047 R:-122.6323 gloss:-4.2555 dloss:20.2062\n",
      "Episode:61 meanR:-122.0171 R:-122.7745 gloss:-4.3452 dloss:15.7705\n",
      "Episode:62 meanR:-122.0265 R:-122.6096 gloss:-4.4248 dloss:20.0441\n",
      "Episode:63 meanR:-122.1840 R:-132.1045 gloss:-4.6582 dloss:17.5156\n",
      "Episode:64 meanR:-122.3326 R:-131.8463 gloss:-4.7182 dloss:18.0784\n",
      "Episode:65 meanR:-122.3217 R:-121.6143 gloss:-4.6402 dloss:20.6238\n",
      "Episode:66 meanR:-122.2617 R:-118.3005 gloss:-4.5279 dloss:18.5241\n",
      "Episode:67 meanR:-122.1989 R:-117.9907 gloss:-4.4745 dloss:9.9869\n",
      "Episode:68 meanR:-122.0967 R:-115.1482 gloss:-4.4452 dloss:15.8546\n",
      "Episode:69 meanR:-122.0442 R:-118.4207 gloss:-4.4692 dloss:21.6087\n",
      "Episode:70 meanR:-122.2740 R:-138.3597 gloss:-4.5069 dloss:20.5330\n",
      "Episode:71 meanR:-122.2696 R:-121.9565 gloss:-4.4703 dloss:21.5644\n",
      "Episode:72 meanR:-122.2230 R:-118.8645 gloss:-4.4959 dloss:19.1431\n",
      "Episode:73 meanR:-122.2211 R:-122.0855 gloss:-4.4798 dloss:19.0753\n",
      "Episode:74 meanR:-122.2330 R:-123.1152 gloss:-4.4733 dloss:18.5821\n",
      "Episode:75 meanR:-122.1916 R:-119.0860 gloss:-4.7698 dloss:27.2743\n",
      "Episode:76 meanR:-122.2136 R:-123.8816 gloss:-4.4863 dloss:22.8132\n",
      "Episode:77 meanR:-122.1405 R:-116.5119 gloss:-4.4999 dloss:22.6551\n",
      "Episode:78 meanR:-122.1424 R:-122.2968 gloss:-4.4893 dloss:18.7865\n",
      "Episode:79 meanR:-122.1543 R:-123.0943 gloss:-4.3851 dloss:16.2862\n",
      "Episode:80 meanR:-122.4296 R:-144.4545 gloss:-4.4693 dloss:20.7970\n",
      "Episode:81 meanR:-122.4677 R:-125.5508 gloss:-4.4646 dloss:18.8580\n",
      "Episode:82 meanR:-123.1542 R:-179.4469 gloss:-4.2513 dloss:18.2382\n",
      "Episode:83 meanR:-123.2811 R:-133.8118 gloss:-4.2369 dloss:16.6646\n",
      "Episode:84 meanR:-123.3025 R:-125.1024 gloss:-4.2109 dloss:16.4328\n",
      "Episode:85 meanR:-123.2655 R:-120.1203 gloss:-4.4348 dloss:34.1521\n",
      "Episode:86 meanR:-123.2842 R:-124.8895 gloss:-4.7918 dloss:21.9186\n",
      "Episode:87 meanR:-123.3787 R:-131.6021 gloss:-4.7307 dloss:20.2547\n",
      "Episode:88 meanR:-123.3590 R:-121.6281 gloss:-4.5469 dloss:22.5335\n",
      "Episode:89 meanR:-123.4269 R:-129.4705 gloss:-4.5230 dloss:20.8813\n",
      "Episode:90 meanR:-123.4064 R:-121.5603 gloss:-4.3013 dloss:22.9687\n",
      "Episode:91 meanR:-123.4632 R:-128.6264 gloss:-4.3690 dloss:20.1016\n",
      "Episode:92 meanR:-123.4783 R:-124.8678 gloss:-4.2661 dloss:12.9898\n",
      "Episode:93 meanR:-123.4689 R:-122.5971 gloss:-4.1543 dloss:16.0438\n",
      "Episode:94 meanR:-123.5932 R:-135.2813 gloss:-4.2292 dloss:17.9531\n",
      "Episode:95 meanR:-123.5755 R:-121.8880 gloss:-4.3247 dloss:24.3210\n",
      "Episode:96 meanR:-123.5785 R:-123.8658 gloss:-4.2594 dloss:8.0898\n",
      "Episode:97 meanR:-123.5754 R:-123.2832 gloss:-4.0921 dloss:23.8263\n",
      "Episode:98 meanR:-123.5648 R:-122.5255 gloss:-4.1579 dloss:15.8983\n",
      "Episode:99 meanR:-123.5562 R:-122.6980 gloss:-4.3400 dloss:17.3468\n",
      "Episode:100 meanR:-123.8071 R:-122.3589 gloss:-4.3969 dloss:13.8878\n",
      "Episode:101 meanR:-123.8337 R:-119.6015 gloss:-4.2760 dloss:31.8179\n",
      "Episode:102 meanR:-123.9222 R:-119.5174 gloss:-4.6160 dloss:36.0141\n",
      "Episode:103 meanR:-124.0671 R:-129.9659 gloss:-4.7642 dloss:29.9220\n",
      "Episode:104 meanR:-124.1429 R:-129.9154 gloss:-4.7047 dloss:17.3494\n",
      "Episode:105 meanR:-124.3264 R:-129.1189 gloss:-3.9525 dloss:20.1636\n",
      "Episode:106 meanR:-124.3850 R:-120.2522 gloss:-3.9501 dloss:10.2103\n",
      "Episode:107 meanR:-124.2135 R:-114.0261 gloss:-3.9422 dloss:19.1492\n",
      "Episode:108 meanR:-124.1964 R:-123.5606 gloss:-4.2924 dloss:27.5176\n",
      "Episode:109 meanR:-124.2012 R:-122.0288 gloss:-4.3482 dloss:20.5897\n",
      "Episode:110 meanR:-124.3914 R:-141.5340 gloss:-4.0485 dloss:17.6757\n",
      "Episode:111 meanR:-124.4148 R:-121.8449 gloss:-4.0269 dloss:18.4947\n",
      "Episode:112 meanR:-124.4176 R:-120.0703 gloss:-4.1481 dloss:25.0962\n",
      "Episode:113 meanR:-124.2097 R:-121.3841 gloss:-4.4236 dloss:22.1604\n",
      "Episode:114 meanR:-124.2139 R:-122.3190 gloss:-4.3674 dloss:19.1156\n",
      "Episode:115 meanR:-124.3937 R:-140.2761 gloss:-4.2596 dloss:19.7350\n",
      "Episode:116 meanR:-124.3950 R:-119.1262 gloss:-4.2415 dloss:18.5602\n",
      "Episode:117 meanR:-124.3274 R:-115.2024 gloss:-4.4139 dloss:17.3345\n",
      "Episode:118 meanR:-124.3133 R:-119.2876 gloss:-4.5598 dloss:20.7296\n",
      "Episode:119 meanR:-124.3302 R:-124.1314 gloss:-4.5149 dloss:19.9015\n",
      "Episode:120 meanR:-124.4353 R:-132.6305 gloss:-4.3747 dloss:20.1384\n",
      "Episode:121 meanR:-124.4883 R:-123.7448 gloss:-4.5228 dloss:18.3478\n",
      "Episode:122 meanR:-124.5275 R:-121.0035 gloss:-4.4055 dloss:19.1019\n"
     ]
    },
    {
     "name": "stdout",
     "output_type": "stream",
     "text": [
      "Episode:123 meanR:-124.6060 R:-123.9733 gloss:-4.4170 dloss:21.2985\n",
      "Episode:124 meanR:-124.6096 R:-126.7255 gloss:-4.1549 dloss:20.5407\n",
      "Episode:125 meanR:-124.5818 R:-122.6251 gloss:-4.2558 dloss:23.5514\n",
      "Episode:126 meanR:-124.5810 R:-119.2283 gloss:-4.3894 dloss:19.6748\n",
      "Episode:127 meanR:-124.5371 R:-119.2750 gloss:-4.3813 dloss:10.2650\n",
      "Episode:128 meanR:-124.5027 R:-120.5700 gloss:-4.3428 dloss:22.0727\n",
      "Episode:129 meanR:-124.3993 R:-124.1831 gloss:-4.3894 dloss:27.0489\n",
      "Episode:130 meanR:-124.3376 R:-123.0910 gloss:-4.5824 dloss:24.2333\n",
      "Episode:131 meanR:-124.2167 R:-127.9256 gloss:-4.7187 dloss:23.5603\n",
      "Episode:132 meanR:-124.3920 R:-133.9030 gloss:-4.6486 dloss:20.1732\n",
      "Episode:133 meanR:-124.3366 R:-119.3041 gloss:-4.4550 dloss:20.6384\n",
      "Episode:134 meanR:-124.3205 R:-121.9385 gloss:-4.3655 dloss:19.2866\n",
      "Episode:135 meanR:-124.2562 R:-122.9702 gloss:-4.4861 dloss:15.3641\n",
      "Episode:136 meanR:-124.2738 R:-124.3111 gloss:-4.3350 dloss:21.4685\n",
      "Episode:137 meanR:-124.2219 R:-118.9197 gloss:-4.2435 dloss:16.9193\n",
      "Episode:138 meanR:-124.2072 R:-122.7364 gloss:-4.3634 dloss:25.5277\n",
      "Episode:139 meanR:-124.2558 R:-121.2426 gloss:-4.4664 dloss:23.8909\n",
      "Episode:140 meanR:-124.2714 R:-120.8181 gloss:-4.5310 dloss:16.1127\n",
      "Episode:141 meanR:-124.2577 R:-122.1802 gloss:-4.1315 dloss:25.9605\n",
      "Episode:142 meanR:-124.2556 R:-123.8472 gloss:-4.1279 dloss:31.4672\n",
      "Episode:143 meanR:-124.2879 R:-122.5892 gloss:-4.2799 dloss:20.0520\n",
      "Episode:144 meanR:-124.4157 R:-132.3136 gloss:-4.4106 dloss:24.0752\n",
      "Episode:145 meanR:-124.3256 R:-118.0301 gloss:-4.4889 dloss:20.1343\n",
      "Episode:146 meanR:-124.3419 R:-121.6485 gloss:-4.6367 dloss:22.1020\n",
      "Episode:147 meanR:-124.2873 R:-121.6080 gloss:-4.5426 dloss:21.2472\n",
      "Episode:148 meanR:-124.2669 R:-117.0045 gloss:-4.3216 dloss:18.4540\n",
      "Episode:149 meanR:-124.2556 R:-124.0236 gloss:-4.4850 dloss:23.2698\n",
      "Episode:150 meanR:-124.3178 R:-123.0924 gloss:-4.5541 dloss:32.6058\n",
      "Episode:151 meanR:-124.2730 R:-119.4617 gloss:-4.8944 dloss:22.9439\n",
      "Episode:152 meanR:-124.3704 R:-130.0018 gloss:-4.4492 dloss:19.5820\n",
      "Episode:153 meanR:-124.3009 R:-123.4766 gloss:-4.3411 dloss:21.3734\n",
      "Episode:154 meanR:-124.2284 R:-120.1021 gloss:-4.6750 dloss:28.4102\n",
      "Episode:155 meanR:-124.2863 R:-128.0290 gloss:-4.4590 dloss:19.6189\n",
      "Episode:156 meanR:-124.2637 R:-119.4526 gloss:-4.4504 dloss:19.4963\n",
      "Episode:157 meanR:-124.2211 R:-119.2162 gloss:-4.4919 dloss:20.9288\n",
      "Episode:158 meanR:-124.3741 R:-128.9679 gloss:-4.3222 dloss:16.9859\n",
      "Episode:159 meanR:-124.3301 R:-115.3560 gloss:-4.4990 dloss:22.3806\n",
      "Episode:160 meanR:-124.3444 R:-124.0678 gloss:-4.3787 dloss:14.2545\n",
      "Episode:161 meanR:-124.4167 R:-130.0058 gloss:-4.5919 dloss:23.8512\n",
      "Episode:162 meanR:-124.3542 R:-116.3613 gloss:-4.7528 dloss:22.2864\n",
      "Episode:163 meanR:-124.2399 R:-120.6656 gloss:-4.4649 dloss:23.6257\n",
      "Episode:164 meanR:-124.0997 R:-117.8311 gloss:-4.3906 dloss:22.2466\n",
      "Episode:165 meanR:-124.1224 R:-123.8807 gloss:-4.6450 dloss:25.3219\n",
      "Episode:166 meanR:-124.1611 R:-122.1710 gloss:-4.4365 dloss:21.9202\n",
      "Episode:167 meanR:-124.2132 R:-123.2055 gloss:-4.2982 dloss:11.2037\n",
      "Episode:168 meanR:-124.3071 R:-124.5364 gloss:-4.2083 dloss:21.6040\n",
      "Episode:169 meanR:-124.3474 R:-122.4456 gloss:-4.3126 dloss:19.7952\n",
      "Episode:170 meanR:-124.2523 R:-128.8546 gloss:-4.5161 dloss:26.7503\n",
      "Episode:171 meanR:-124.2284 R:-119.5621 gloss:-4.7429 dloss:22.0052\n",
      "Episode:172 meanR:-124.3339 R:-129.4172 gloss:-4.6737 dloss:23.3318\n",
      "Episode:173 meanR:-124.3402 R:-122.7145 gloss:-4.4706 dloss:19.5498\n",
      "Episode:174 meanR:-124.3061 R:-119.7114 gloss:-4.4899 dloss:20.7714\n",
      "Episode:175 meanR:-124.3320 R:-121.6738 gloss:-4.4074 dloss:16.0463\n",
      "Episode:176 meanR:-124.3172 R:-122.4022 gloss:-4.4451 dloss:16.9437\n",
      "Episode:177 meanR:-124.3405 R:-118.8360 gloss:-4.5176 dloss:14.7782\n",
      "Episode:178 meanR:-124.3296 R:-121.2062 gloss:-4.4689 dloss:19.5187\n",
      "Episode:179 meanR:-124.3115 R:-121.2906 gloss:-4.4282 dloss:24.5897\n",
      "Episode:180 meanR:-124.0868 R:-121.9819 gloss:-4.8430 dloss:29.0419\n",
      "Episode:181 meanR:-124.0546 R:-122.3361 gloss:-4.9616 dloss:22.2622\n",
      "Episode:182 meanR:-123.4836 R:-122.3374 gloss:-5.0454 dloss:22.1586\n",
      "Episode:183 meanR:-123.3817 R:-123.6234 gloss:-4.9516 dloss:22.9470\n",
      "Episode:184 meanR:-123.3535 R:-122.2825 gloss:-4.6538 dloss:27.0582\n",
      "Episode:185 meanR:-123.3842 R:-123.1904 gloss:-4.4989 dloss:24.6398\n"
     ]
    }
   ],
   "source": [
    "# Save/load the model and save for plotting\n",
    "saver = tf.train.Saver()\n",
    "episode_rewards_list, rewards_list, gloss_list, dloss_list = [], [], [], []\n",
    "\n",
    "# TF session for training\n",
    "with tf.Session(graph=graph) as sess:\n",
    "    sess.run(tf.global_variables_initializer())\n",
    "    #saver.restore(sess, 'checkpoints/model.ckpt')    \n",
    "    #saver.restore(sess, tf.train.latest_checkpoint('checkpoints'))\n",
    "    episode_reward = deque(maxlen=100)\n",
    "    \n",
    "    # Training episodes/epochs\n",
    "    for ep in range(11111):\n",
    "        gloss_batch, dloss_batch = [], []\n",
    "        total_reward = 0\n",
    "        state = env.reset()\n",
    "\n",
    "        # Training steps/batches\n",
    "        while True:\n",
    "            env.render()\n",
    "            \n",
    "            action_pred = sess.run(model.actions_pred, feed_dict={model.states: state.reshape([1, -1])})\n",
    "            noise = np.random.normal(loc=0, scale=0.1, size=action_size) # randomness\n",
    "            action = action_pred.reshape([-1]) + noise\n",
    "            #print(action.shape, action_logits.shape, noise.shape)\n",
    "            action = np.clip(action, -1, 1) # clipped\n",
    "            \n",
    "            next_state, reward, done, _ = env.step(action)\n",
    "            memory.buffer.append([state, action, next_state, reward, float(done)])\n",
    "            total_reward += reward\n",
    "            state = next_state\n",
    "            \n",
    "            # Training\n",
    "            batch = memory.sample(batch_size)\n",
    "            states = np.array([each[0] for each in batch])\n",
    "            actions = np.array([each[1] for each in batch])\n",
    "            next_states = np.array([each[2] for each in batch])\n",
    "            rewards = np.array([each[3] for each in batch])\n",
    "            dones = np.array([each[4] for each in batch])\n",
    "            feed_dict = {model.states: states, \n",
    "                         model.actions: actions,\n",
    "                         model.next_states: next_states, \n",
    "                         model.rewards: rewards, \n",
    "                         model.dones: dones}\n",
    "            dloss, _ = sess.run([model.d_loss, model.d_opt], feed_dict)\n",
    "            gloss, _ = sess.run([model.g_loss, model.g_opt], feed_dict)\n",
    "            gloss_batch.append(gloss)\n",
    "            dloss_batch.append(dloss)\n",
    "            if done is True:\n",
    "                break\n",
    "                \n",
    "        episode_reward.append(total_reward)\n",
    "        print('Episode:{}'.format(ep),\n",
    "              'meanR:{:.4f}'.format(np.mean(episode_reward)),\n",
    "              'R:{:.4f}'.format(total_reward),\n",
    "              'gloss:{:.4f}'.format(np.mean(gloss_batch)),\n",
    "              'dloss:{:.4f}'.format(np.mean(dloss_batch)))\n",
    "        # Ploting out\n",
    "        episode_rewards_list.append([ep, np.mean(episode_reward)])\n",
    "        rewards_list.append([ep, total_reward])\n",
    "        gloss_list.append([ep, np.mean(gloss_batch)])\n",
    "        dloss_list.append([ep, np.mean(dloss_batch)])\n",
    "        # Break episode/epoch loop\n",
    "        # Did not solve the environment. \n",
    "        # Best 100-episode average reward was 220.62 ± 0.69. \n",
    "        # (BipedalWalker-v2 is considered \"solved\" \n",
    "        #  when the agent obtains an average reward of at least 300 over 100 consecutive episodes.)        \n",
    "        if np.mean(episode_reward) >= 300:\n",
    "            break\n",
    "            \n",
    "    # At the end of all training episodes/epochs\n",
    "    saver.save(sess, 'checkpoints/model.ckpt')"
   ]
  },
  {
   "cell_type": "markdown",
   "metadata": {},
   "source": [
    "# Visualizing training\n",
    "\n",
    "Below I'll plot the total rewards for each episode. I'm plotting the rolling average too, in blue."
   ]
  },
  {
   "cell_type": "code",
   "execution_count": null,
   "metadata": {},
   "outputs": [],
   "source": [
    "import matplotlib.pyplot as plt\n",
    "%matplotlib inline\n",
    "\n",
    "def running_mean(x, N):\n",
    "    cumsum = np.cumsum(np.insert(x, 0, 0)) \n",
    "    return (cumsum[N:] - cumsum[:-N]) / N "
   ]
  },
  {
   "cell_type": "code",
   "execution_count": null,
   "metadata": {},
   "outputs": [],
   "source": [
    "eps, arr = np.array(episode_rewards_list).T\n",
    "smoothed_arr = running_mean(arr, 10)\n",
    "plt.plot(eps[-len(smoothed_arr):], smoothed_arr)\n",
    "plt.plot(eps, arr, color='grey', alpha=0.3)\n",
    "plt.xlabel('Episode')\n",
    "plt.ylabel('Total rewards')"
   ]
  },
  {
   "cell_type": "code",
   "execution_count": null,
   "metadata": {},
   "outputs": [],
   "source": [
    "eps, arr = np.array(rewards_list).T\n",
    "smoothed_arr = running_mean(arr, 10)\n",
    "plt.plot(eps[-len(smoothed_arr):], smoothed_arr)\n",
    "plt.plot(eps, arr, color='grey', alpha=0.3)\n",
    "plt.xlabel('Episode')\n",
    "plt.ylabel('Total rewards')"
   ]
  },
  {
   "cell_type": "code",
   "execution_count": null,
   "metadata": {},
   "outputs": [],
   "source": [
    "eps, arr = np.array(gloss_list).T\n",
    "smoothed_arr = running_mean(arr, 10)\n",
    "plt.plot(eps[-len(smoothed_arr):], smoothed_arr)\n",
    "plt.plot(eps, arr, color='grey', alpha=0.3)\n",
    "plt.xlabel('Episode')\n",
    "plt.ylabel('G losses')"
   ]
  },
  {
   "cell_type": "code",
   "execution_count": null,
   "metadata": {},
   "outputs": [],
   "source": [
    "eps, arr = np.array(dloss_list).T\n",
    "smoothed_arr = running_mean(arr, 10)\n",
    "plt.plot(eps[-len(smoothed_arr):], smoothed_arr)\n",
    "plt.plot(eps, arr, color='grey', alpha=0.3)\n",
    "plt.xlabel('Episode')\n",
    "plt.ylabel('D losses')"
   ]
  },
  {
   "cell_type": "markdown",
   "metadata": {},
   "source": [
    "## Testing\n",
    "\n",
    "Let's checkout how our trained agent plays the game."
   ]
  },
  {
   "cell_type": "code",
   "execution_count": 31,
   "metadata": {},
   "outputs": [
    {
     "name": "stdout",
     "output_type": "stream",
     "text": [
      "INFO:tensorflow:Restoring parameters from checkpoints/model.ckpt\n",
      "total_reward: -104.69566602519279\n"
     ]
    }
   ],
   "source": [
    "import gym\n",
    "env = gym.make('BipedalWalker-v2')\n",
    "\n",
    "with tf.Session() as sess:\n",
    "    sess.run(tf.global_variables_initializer())\n",
    "    #saver.restore(sess, 'checkpoints/model2.ckpt')    \n",
    "    saver.restore(sess, tf.train.latest_checkpoint('checkpoints'))\n",
    "    \n",
    "    # Episodes/epochs\n",
    "    for _ in range(1):\n",
    "        state = env.reset()\n",
    "        total_reward = 0\n",
    "\n",
    "        # Steps/batches\n",
    "        while True:\n",
    "            env.render()\n",
    "            actions_pred = sess.run(model.actions_pred, feed_dict={model.states: state.reshape([1, -1])})\n",
    "            action = action_pred.reshape([-1])\n",
    "            state, reward, done, _ = env.step(action)\n",
    "            total_reward += reward\n",
    "            if done:\n",
    "                print('total_reward: {}'.format(total_reward))\n",
    "                break\n",
    "                \n",
    "env.close()"
   ]
  },
  {
   "cell_type": "markdown",
   "metadata": {},
   "source": [
    "## Extending this\n",
    "\n",
    "So, Cart-Pole is a pretty simple game. However, the same model can be used to train an agent to play something much more complicated like Pong or Space Invaders. Instead of a state like we're using here though, you'd want to use convolutional layers to get the state from the screen images.\n",
    "\n",
    "![Deep Q-Learning Atari](assets/atari-network.png)\n",
    "\n",
    "I'll leave it as a challenge for you to use deep Q-learning to train an agent to play Atari games. Here's the original paper which will get you started: http://www.davidqiu.com:8888/research/nature14236.pdf."
   ]
  },
  {
   "cell_type": "code",
   "execution_count": null,
   "metadata": {},
   "outputs": [],
   "source": []
  }
 ],
 "metadata": {
  "kernelspec": {
   "display_name": "Python 3",
   "language": "python",
   "name": "python3"
  },
  "language_info": {
   "codemirror_mode": {
    "name": "ipython",
    "version": 3
   },
   "file_extension": ".py",
   "mimetype": "text/x-python",
   "name": "python",
   "nbconvert_exporter": "python",
   "pygments_lexer": "ipython3",
   "version": "3.6.8"
  }
 },
 "nbformat": 4,
 "nbformat_minor": 2
}
