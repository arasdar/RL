{
 "cells": [
  {
   "cell_type": "markdown",
   "metadata": {},
   "source": [
    "# DAQL for BipedalWalker\n",
    "\n",
    "In this notebook, we'll build a neural network that can learn to play games through reinforcement learning. More specifically, we'll use Q-learning to train an agent to play a game called [Cart-Pole](https://gym.openai.com/envs/CartPole-v0). In this game, a freely swinging pole is attached to a cart. The cart can move to the left and right, and the goal is to keep the pole upright as long as possible.\n",
    "\n",
    "We can simulate this game using [OpenAI Gym](https://gym.openai.com/). First, let's check out how OpenAI Gym works. Then, we'll get into training an agent to play the Cart-Pole game."
   ]
  },
  {
   "cell_type": "code",
   "execution_count": 1,
   "metadata": {},
   "outputs": [
    {
     "name": "stdout",
     "output_type": "stream",
     "text": [
      "TensorFlow Version: 1.12.0\n",
      "Default GPU Device: /device:GPU:0\n"
     ]
    }
   ],
   "source": [
    "import tensorflow as tf\n",
    "print('TensorFlow Version: {}'.format(tf.__version__))\n",
    "print('Default GPU Device: {}'.format(tf.test.gpu_device_name()))"
   ]
  },
  {
   "cell_type": "markdown",
   "metadata": {},
   "source": [
    ">**Note:** Make sure you have OpenAI Gym cloned into the same directory with this notebook. I've included `gym` as a submodule, so you can run `git submodule --init --recursive` to pull the contents into the `gym` repo."
   ]
  },
  {
   "cell_type": "markdown",
   "metadata": {},
   "source": [
    "##### >**Note:** Make sure you have OpenAI Gym cloned. Then run this command `pip install -e gym/[all]`."
   ]
  },
  {
   "cell_type": "code",
   "execution_count": 2,
   "metadata": {},
   "outputs": [],
   "source": [
    "import gym\n",
    "env = gym.make('BipedalWalker-v2')"
   ]
  },
  {
   "cell_type": "markdown",
   "metadata": {},
   "source": [
    "We interact with the simulation through `env`. To show the simulation running, you can use `env.render()` to render one frame. Passing in an action as an integer to `env.step` will generate the next step in the simulation.  You can see how many actions are possible from `env.action_space` and to get a random action you can use `env.action_space.sample()`. This is general to all Gym games. In the Cart-Pole game, there are two possible actions, moving the cart left or right. So there are two actions we can take, encoded as 0 and 1.\n",
    "\n",
    "Run the code below to watch the simulation run."
   ]
  },
  {
   "cell_type": "code",
   "execution_count": 3,
   "metadata": {},
   "outputs": [
    {
     "data": {
      "text/plain": [
       "(Box(24,), Box(4,))"
      ]
     },
     "execution_count": 3,
     "metadata": {},
     "output_type": "execute_result"
    }
   ],
   "source": [
    "env.observation_space, env.action_space"
   ]
  },
  {
   "cell_type": "code",
   "execution_count": 4,
   "metadata": {},
   "outputs": [],
   "source": [
    "# state = env.reset()\n",
    "# batch = []\n",
    "# for _ in range(1111):\n",
    "#     #env.render()\n",
    "#     action = env.action_space.sample()\n",
    "#     next_state, reward, done, _ = env.step(action) # take a random action\n",
    "#     batch.append([state, action, next_state, reward, float(done)])\n",
    "#     state = next_state\n",
    "#     if done:\n",
    "#         state = env.reset()"
   ]
  },
  {
   "cell_type": "markdown",
   "metadata": {},
   "source": [
    "To shut the window showing the simulation, use `env.close()`."
   ]
  },
  {
   "cell_type": "code",
   "execution_count": 5,
   "metadata": {},
   "outputs": [],
   "source": [
    "# env.close()"
   ]
  },
  {
   "cell_type": "markdown",
   "metadata": {},
   "source": [
    "If you ran the simulation above, we can look at the rewards:"
   ]
  },
  {
   "cell_type": "code",
   "execution_count": 6,
   "metadata": {},
   "outputs": [],
   "source": [
    "# import numpy as np\n",
    "# actions = np.array([each[0] for each in batch])\n",
    "# states = np.array([each[1] for each in batch])\n",
    "# rewards = np.array([each[2] for each in batch])\n",
    "# dones = np.array([each[3] for each in batch])\n",
    "# infos = np.array([each[4] for each in batch])"
   ]
  },
  {
   "cell_type": "code",
   "execution_count": 7,
   "metadata": {},
   "outputs": [],
   "source": [
    "# print('states:', np.max(np.array(states)), np.min(np.array(states)))\n",
    "# print('actions:', np.max(np.array(actions)), np.min(np.array(actions)))\n",
    "# print('rewards:', np.max(np.array(rewards)), np.min(np.array(rewards)))"
   ]
  },
  {
   "cell_type": "code",
   "execution_count": 8,
   "metadata": {},
   "outputs": [],
   "source": [
    "# env.action_space.high, env.action_space.low"
   ]
  },
  {
   "cell_type": "markdown",
   "metadata": {},
   "source": [
    "The game resets after the pole has fallen past a certain angle. For each frame while the simulation is running, it returns a reward of 1.0. The longer the game runs, the more reward we get. Then, our network's goal is to maximize the reward by keeping the pole vertical. It will do this by moving the cart to the left and the right."
   ]
  },
  {
   "cell_type": "markdown",
   "metadata": {},
   "source": [
    "## Q-Network\n",
    "\n",
    "We train our Q-learning agent using the Bellman Equation:\n",
    "\n",
    "$$\n",
    "Q(s, a) = r + \\gamma \\max{Q(s', a')}\n",
    "$$\n",
    "\n",
    "where $s$ is a state, $a$ is an action, and $s'$ is the next state from state $s$ and action $a$.\n",
    "\n",
    "Before we used this equation to learn values for a Q-_table_. However, for this game there are a huge number of states available. The state has four values: the position and velocity of the cart, and the position and velocity of the pole. These are all real-valued numbers, so ignoring floating point precisions, you practically have infinite states. Instead of using a table then, we'll replace it with a neural network that will approximate the Q-table lookup function.\n",
    "\n",
    "<img src=\"assets/deep-q-learning.png\" width=450px>\n",
    "\n",
    "Now, our Q value, $Q(s, a)$ is calculated by passing in a state to the network. The output will be Q-values for each available action, with fully connected hidden layers.\n",
    "\n",
    "<img src=\"assets/q-network.png\" width=550px>\n",
    "\n",
    "\n",
    "As I showed before, we can define our targets for training as $\\hat{Q}(s,a) = r + \\gamma \\max{Q(s', a')}$. Then we update the weights by minimizing $(\\hat{Q}(s,a) - Q(s,a))^2$. \n",
    "\n",
    "For this Cart-Pole game, we have four inputs, one for each value in the state, and two outputs, one for each action. To get $\\hat{Q}$, we'll first choose an action, then simulate the game using that action. This will get us the next state, $s'$, and the reward. With that, we can calculate $\\hat{Q}$ then pass it back into the $Q$ network to run the optimizer and update the weights.\n",
    "\n",
    "Below is my implementation of the Q-network. I used two fully connected layers with ReLU activations. Two seems to be good enough, three might be better. Feel free to try it out."
   ]
  },
  {
   "cell_type": "code",
   "execution_count": 9,
   "metadata": {},
   "outputs": [],
   "source": [
    "def model_input(state_size, action_size):\n",
    "    #states = tf.placeholder(tf.float32, [None, *state_shape], name='states')\n",
    "    states = tf.placeholder(tf.float32, [None, state_size], name='states')\n",
    "    actions = tf.placeholder(tf.float32, [None, action_size], name='actions')\n",
    "    next_states = tf.placeholder(tf.float32, [None, state_size], name='next_state')\n",
    "    rewards = tf.placeholder(tf.float32, [None], name='rewards')\n",
    "    dones = tf.placeholder(tf.float32, [None], name='dones')\n",
    "    return states, actions, next_states, rewards, dones"
   ]
  },
  {
   "cell_type": "code",
   "execution_count": 10,
   "metadata": {},
   "outputs": [],
   "source": [
    "# a = act(s)\n",
    "def generator(states, action_size, hidden_size, reuse=False, alpha=0.1, training=False, trainable=True):\n",
    "    with tf.variable_scope('generator', reuse=reuse):\n",
    "        # First fully connected layer\n",
    "        h1 = tf.layers.dense(inputs=states, units=hidden_size, trainable=trainable)\n",
    "        bn1 = tf.layers.batch_normalization(h1, training=training, trainable=trainable)        \n",
    "        nl1 = tf.maximum(alpha * bn1, bn1)\n",
    "        \n",
    "        # Second fully connected layer\n",
    "        h2 = tf.layers.dense(inputs=nl1, units=hidden_size, trainable=trainable)\n",
    "        bn2 = tf.layers.batch_normalization(h2, training=training, trainable=trainable)        \n",
    "        nl2 = tf.maximum(alpha * bn2, bn2)\n",
    "                \n",
    "        # Output layer\n",
    "        logits = tf.layers.dense(inputs=nl2, units=action_size, trainable=trainable)        \n",
    "        pred = tf.tanh(logits)\n",
    "        return pred"
   ]
  },
  {
   "cell_type": "code",
   "execution_count": 11,
   "metadata": {},
   "outputs": [],
   "source": [
    "# s', Q = env(s, a)\n",
    "def discriminator(states, actions, state_size, action_size, hidden_size, reuse=False, alpha=0.1, training=False, \n",
    "                  trainable=True):\n",
    "    with tf.variable_scope('discriminator', reuse=reuse):\n",
    "        # First fully connected layer\n",
    "        h1 = tf.layers.dense(inputs=states, units=action_size, trainable=trainable)\n",
    "        bn1 = tf.layers.batch_normalization(h1, training=training, trainable=trainable)        \n",
    "        nl1 = tf.maximum(alpha * bn1, bn1)\n",
    "        \n",
    "        # Second fully connected layer\n",
    "        fused = tf.concat(axis=1, values=[nl1, actions])\n",
    "        h2 = tf.layers.dense(inputs=fused, units=hidden_size, trainable=trainable)\n",
    "        bn2 = tf.layers.batch_normalization(h2, training=training, trainable=trainable)        \n",
    "        nl2 = tf.maximum(alpha * bn2, bn2)\n",
    "                \n",
    "        # Output layer\n",
    "        next_states_logits = tf.layers.dense(inputs=nl2, units=state_size, trainable=trainable)        \n",
    "        Qlogits = tf.layers.dense(inputs=next_states_logits, units=1, trainable=False)        \n",
    "        return next_states_logits, Qlogits"
   ]
  },
  {
   "cell_type": "code",
   "execution_count": 27,
   "metadata": {},
   "outputs": [],
   "source": [
    "def model_loss(action_size, hidden_size, state_size, gamma,\n",
    "               states, actions, next_states, rewards, dones):\n",
    "    #########################################\n",
    "    actions_pred = generator(states=states, hidden_size=hidden_size, action_size=action_size)\n",
    "    gen_next_states, gQlogits = discriminator(actions=actions_pred, states=states, hidden_size=hidden_size, \n",
    "                                         action_size=action_size, state_size=state_size)\n",
    "    gQs = tf.reshape(gQlogits, shape=[-1])\n",
    "    print('gQlogits.shape, gQs.shape:', gQlogits.shape, gQs.shape)\n",
    "    gloss = -tf.reduce_mean(gQs)\n",
    "    print('gen_next_states.shape, next_states.shape:', gen_next_states.shape, next_states.shape)\n",
    "    gloss += -tf.reduce_mean(tf.reduce_sum(tf.square(gen_next_states - next_states), axis=1))\n",
    "    ########################################\n",
    "    next_actions_pred = generator(states=next_states, hidden_size=hidden_size, action_size=action_size, \n",
    "                                  trainable=False, reuse=True)\n",
    "    _, nextQlogits = discriminator(actions=next_actions_pred, states=next_states, hidden_size=hidden_size,\n",
    "                              action_size=action_size, state_size=state_size, \n",
    "                              trainable=False, reuse=True)\n",
    "    nextQs = tf.reshape(nextQlogits, shape=[-1])\n",
    "    targetQs = gamma * nextQs * (1-dones)\n",
    "    print('nextQlogits.shape, nextQs.shape, targetQs.shape:', nextQlogits.shape, nextQs.shape, targetQs.shape)\n",
    "    ###########################################\n",
    "    next_states_pred, Qlogits = discriminator(actions=actions, states=states, hidden_size=hidden_size, \n",
    "                                         action_size=action_size, state_size=state_size, reuse=True)\n",
    "    Qs = tf.reshape(Qlogits, shape=[-1])\n",
    "    print('Qs.shape, Qlogits.shape:', Qs.shape, Qlogits.shape)\n",
    "    rewards_in = Qs - targetQs\n",
    "    print('rewards_in.shape, rewards.shape:', rewards_in.shape, rewards.shape)\n",
    "    dloss = tf.reduce_mean(tf.square(rewards_in - rewards))\n",
    "    print('pred_next_states.shape, next_states.shape:', next_states_pred.shape, next_states.shape)\n",
    "    dloss += tf.reduce_mean(tf.reduce_sum(tf.square(next_states_pred - next_states), axis=1))\n",
    "    return actions_pred, gloss, dloss"
   ]
  },
  {
   "cell_type": "code",
   "execution_count": 28,
   "metadata": {},
   "outputs": [],
   "source": [
    "# Optimizating/training/learning G & D\n",
    "def model_opt(g_loss, d_loss, g_learning_rate, d_learning_rate):\n",
    "    # Get weights and bias to update\n",
    "    t_vars = tf.trainable_variables()\n",
    "    g_vars = [var for var in t_vars if var.name.startswith('generator')]\n",
    "    d_vars = [var for var in t_vars if var.name.startswith('discriminator')]\n",
    "\n",
    "    # Optimize\n",
    "    with tf.control_dependencies(tf.get_collection(tf.GraphKeys.UPDATE_OPS)): # Required for batchnorm (BN)\n",
    "        g_opt = tf.train.AdamOptimizer(g_learning_rate).minimize(g_loss, var_list=g_vars)\n",
    "        d_opt = tf.train.AdamOptimizer(d_learning_rate).minimize(d_loss, var_list=d_vars)\n",
    "    return g_opt, d_opt"
   ]
  },
  {
   "cell_type": "code",
   "execution_count": 29,
   "metadata": {},
   "outputs": [],
   "source": [
    "class Model:\n",
    "    def __init__(self, state_size, action_size, hidden_size, g_learning_rate, d_learning_rate, gamma):\n",
    "        \n",
    "        # Model inputs\n",
    "        self.states, self.actions, self.next_states, self.rewards, self.dones = model_input(\n",
    "            state_size=state_size, action_size=action_size)\n",
    "\n",
    "        # Model loss/objective\n",
    "        self.actions_pred, self.g_loss, self.d_loss = model_loss(\n",
    "            action_size=action_size, hidden_size=hidden_size, state_size=state_size, gamma=gamma,\n",
    "            states=self.states, actions=self.actions, next_states=self.next_states,\n",
    "            rewards=self.rewards, dones=self.dones)\n",
    "        \n",
    "        # Model optimization/update\n",
    "        self.g_opt, self.d_opt = model_opt(g_loss=self.g_loss, d_loss=self.d_loss,\n",
    "                                           g_learning_rate=g_learning_rate, d_learning_rate=d_learning_rate)"
   ]
  },
  {
   "cell_type": "code",
   "execution_count": 30,
   "metadata": {},
   "outputs": [],
   "source": [
    "import numpy as np\n",
    "from collections import deque\n",
    "class Memory():\n",
    "    def __init__(self, max_size = 1000):\n",
    "        self.buffer = deque(maxlen=max_size)\n",
    "    def sample(self, batch_size):\n",
    "        idx = np.random.choice(np.arange(len(self.buffer)), \n",
    "                               size=batch_size, replace=False)\n",
    "        return [self.buffer[ii] for ii in idx]"
   ]
  },
  {
   "cell_type": "markdown",
   "metadata": {},
   "source": [
    "## Hyperparameters\n",
    "\n",
    "One of the more difficult aspects of reinforcememt learning are the large number of hyperparameters. Not only are we tuning the network, but we're tuning the simulation."
   ]
  },
  {
   "cell_type": "code",
   "execution_count": 31,
   "metadata": {},
   "outputs": [
    {
     "data": {
      "text/plain": [
       "(Box(24,), Box(4,))"
      ]
     },
     "execution_count": 31,
     "metadata": {},
     "output_type": "execute_result"
    }
   ],
   "source": [
    "env.observation_space, env.action_space"
   ]
  },
  {
   "cell_type": "code",
   "execution_count": 32,
   "metadata": {},
   "outputs": [],
   "source": [
    "# Exploration parameters\n",
    "explore_start = 1.0            # exploration probability at start\n",
    "explore_stop = 0.01           # minimum exploration probability \n",
    "decay_rate = 0.0001            # exponential decay rate for exploration prob\n",
    "\n",
    "# Network parameters\n",
    "state_size = 24\n",
    "action_size = 4\n",
    "hidden_size = 24*2             # number of units in each Q-network hidden layer\n",
    "g_learning_rate = 1e-4         # Q-network learning rate\n",
    "d_learning_rate = 1e-4         # Q-network learning rate\n",
    "\n",
    "# Memory parameters\n",
    "memory_size = int(1e5)            # memory capacity\n",
    "batch_size = int(1e2)             # experience mini-batch size == one episode size is 1000/int(1e3) steps\n",
    "gamma = 0.99                   # future reward discount"
   ]
  },
  {
   "cell_type": "code",
   "execution_count": 33,
   "metadata": {},
   "outputs": [
    {
     "name": "stdout",
     "output_type": "stream",
     "text": [
      "gQlogits.shape, gQs.shape: (?, 1) (?,)\n",
      "gen_next_states.shape, next_states.shape: (?, 24) (?, 24)\n",
      "nextQlogits.shape, nextQs.shape, targetQs.shape: (?, 1) (?,) (?,)\n",
      "Qs.shape, Qlogits.shape: (?,) (?, 1)\n",
      "rewards_in.shape, rewards.shape: (?,) (?,)\n",
      "pred_next_states.shape, next_states.shape: (?, 24) (?, 24)\n"
     ]
    }
   ],
   "source": [
    "# Reset/init the graph/session\n",
    "graph = tf.reset_default_graph()\n",
    "\n",
    "# Init the model\n",
    "model = Model(action_size=action_size, state_size=state_size, hidden_size=hidden_size, gamma=gamma,\n",
    "              g_learning_rate=g_learning_rate, d_learning_rate=d_learning_rate)\n",
    "\n",
    "# Init the memory\n",
    "memory = Memory(max_size=memory_size)"
   ]
  },
  {
   "cell_type": "code",
   "execution_count": 25,
   "metadata": {},
   "outputs": [
    {
     "data": {
      "text/plain": [
       "(array([inf, inf, inf, inf, inf, inf, inf, inf, inf, inf, inf, inf, inf,\n",
       "        inf, inf, inf, inf, inf, inf, inf, inf, inf, inf, inf],\n",
       "       dtype=float32),\n",
       " array([-inf, -inf, -inf, -inf, -inf, -inf, -inf, -inf, -inf, -inf, -inf,\n",
       "        -inf, -inf, -inf, -inf, -inf, -inf, -inf, -inf, -inf, -inf, -inf,\n",
       "        -inf, -inf], dtype=float32),\n",
       " Box(24,),\n",
       " array([1., 1., 1., 1.], dtype=float32),\n",
       " array([-1., -1., -1., -1.], dtype=float32),\n",
       " Box(4,),\n",
       " (-inf, inf))"
      ]
     },
     "execution_count": 25,
     "metadata": {},
     "output_type": "execute_result"
    }
   ],
   "source": [
    "env.observation_space.high, env.observation_space.low, env.observation_space, \\\n",
    "env.action_space.high, env.action_space.low, env.action_space, \\\n",
    "env.reward_range"
   ]
  },
  {
   "cell_type": "code",
   "execution_count": 34,
   "metadata": {},
   "outputs": [
    {
     "name": "stdout",
     "output_type": "stream",
     "text": [
      "Progress: 0.00073\n",
      "Progress: 0.0013\n",
      "Progress: 0.00178\n",
      "Progress: 0.00277\n",
      "Progress: 0.00331\n",
      "Progress: 0.00487\n",
      "Progress: 0.0055\n",
      "Progress: 0.0215\n",
      "Progress: 0.02222\n",
      "Progress: 0.02268\n",
      "Progress: 0.03868\n",
      "Progress: 0.05468\n",
      "Progress: 0.05538\n",
      "Progress: 0.05589\n",
      "Progress: 0.05684\n",
      "Progress: 0.07284\n",
      "Progress: 0.07358\n",
      "Progress: 0.07419\n",
      "Progress: 0.07482\n",
      "Progress: 0.09082\n",
      "Progress: 0.09199\n",
      "Progress: 0.09257\n",
      "Progress: 0.09352\n",
      "Progress: 0.09411\n",
      "Progress: 0.09493\n",
      "Progress: 0.11093\n",
      "Progress: 0.11169\n",
      "Progress: 0.11243\n",
      "Progress: 0.11306\n",
      "Progress: 0.11383\n",
      "Progress: 0.11472\n",
      "Progress: 0.13072\n",
      "Progress: 0.14672\n",
      "Progress: 0.14726\n",
      "Progress: 0.14777\n",
      "Progress: 0.14869\n",
      "Progress: 0.14954\n",
      "Progress: 0.16554\n",
      "Progress: 0.16659\n",
      "Progress: 0.18259\n",
      "Progress: 0.1839\n",
      "Progress: 0.1999\n",
      "Progress: 0.20069\n",
      "Progress: 0.20139\n",
      "Progress: 0.20263\n",
      "Progress: 0.20344\n",
      "Progress: 0.20419\n",
      "Progress: 0.20514\n",
      "Progress: 0.22114\n",
      "Progress: 0.22187\n",
      "Progress: 0.22313\n",
      "Progress: 0.22372\n",
      "Progress: 0.22439\n",
      "Progress: 0.22502\n",
      "Progress: 0.24102\n",
      "Progress: 0.24169\n",
      "Progress: 0.24237\n",
      "Progress: 0.25837\n",
      "Progress: 0.27437\n",
      "Progress: 0.27564\n",
      "Progress: 0.27655\n",
      "Progress: 0.29255\n",
      "Progress: 0.29352\n",
      "Progress: 0.29436\n",
      "Progress: 0.31036\n",
      "Progress: 0.32636\n",
      "Progress: 0.32746\n",
      "Progress: 0.32808\n",
      "Progress: 0.32886\n",
      "Progress: 0.32951\n",
      "Progress: 0.34551\n",
      "Progress: 0.36151\n",
      "Progress: 0.37751\n",
      "Progress: 0.37828\n",
      "Progress: 0.37882\n",
      "Progress: 0.37952\n",
      "Progress: 0.38003\n",
      "Progress: 0.38049\n",
      "Progress: 0.39649\n",
      "Progress: 0.39709\n",
      "Progress: 0.41309\n",
      "Progress: 0.41401\n",
      "Progress: 0.43001\n",
      "Progress: 0.44601\n",
      "Progress: 0.44667\n",
      "Progress: 0.46267\n",
      "Progress: 0.46326\n",
      "Progress: 0.46372\n",
      "Progress: 0.47972\n",
      "Progress: 0.48037\n",
      "Progress: 0.48115\n",
      "Progress: 0.49715\n",
      "Progress: 0.51315\n",
      "Progress: 0.51412\n",
      "Progress: 0.53012\n",
      "Progress: 0.53104\n",
      "Progress: 0.54704\n",
      "Progress: 0.56304\n",
      "Progress: 0.56388\n",
      "Progress: 0.56457\n",
      "Progress: 0.58057\n",
      "Progress: 0.5812\n",
      "Progress: 0.58206\n",
      "Progress: 0.58268\n",
      "Progress: 0.58349\n",
      "Progress: 0.58408\n",
      "Progress: 0.58497\n",
      "Progress: 0.60097\n",
      "Progress: 0.61697\n",
      "Progress: 0.63297\n",
      "Progress: 0.64897\n",
      "Progress: 0.64966\n",
      "Progress: 0.65065\n",
      "Progress: 0.66665\n",
      "Progress: 0.68265\n",
      "Progress: 0.68352\n",
      "Progress: 0.69952\n",
      "Progress: 0.71552\n",
      "Progress: 0.73152\n",
      "Progress: 0.73228\n",
      "Progress: 0.74828\n",
      "Progress: 0.74914\n",
      "Progress: 0.74965\n",
      "Progress: 0.76565\n",
      "Progress: 0.76618\n",
      "Progress: 0.76667\n",
      "Progress: 0.76747\n",
      "Progress: 0.78347\n",
      "Progress: 0.78453\n",
      "Progress: 0.80053\n",
      "Progress: 0.80133\n",
      "Progress: 0.81733\n",
      "Progress: 0.81848\n",
      "Progress: 0.83448\n",
      "Progress: 0.85048\n",
      "Progress: 0.85174\n",
      "Progress: 0.85223\n",
      "Progress: 0.86823\n",
      "Progress: 0.88423\n",
      "Progress: 0.88505\n",
      "Progress: 0.90105\n",
      "Progress: 0.90178\n",
      "Progress: 0.90262\n",
      "Progress: 0.90307\n",
      "Progress: 0.91907\n",
      "Progress: 0.91969\n",
      "Progress: 0.92063\n",
      "Progress: 0.93663\n",
      "Progress: 0.93719\n",
      "Progress: 0.93781\n",
      "Progress: 0.93837\n",
      "Progress: 0.93936\n",
      "Progress: 0.94039\n",
      "Progress: 0.95639\n",
      "Progress: 0.97239\n",
      "Progress: 0.98839\n",
      "Progress: 0.98906\n",
      "Progress: 0.98987\n"
     ]
    }
   ],
   "source": [
    "state = env.reset()\n",
    "\n",
    "for each_step in range(memory_size):\n",
    "    #env.render()\n",
    "\n",
    "    action = env.action_space.sample() # randomness\n",
    "    action = np.clip(action, -1, 1) # clipped: [-1, +1]\n",
    "    next_state, reward, done, _ = env.step(action)\n",
    "    memory.buffer.append([state, action, next_state, reward, float(done)])\n",
    "    state = next_state\n",
    "    \n",
    "    if done is True:\n",
    "        print('Progress:', each_step/memory_size)\n",
    "        state = env.reset()"
   ]
  },
  {
   "cell_type": "markdown",
   "metadata": {},
   "source": [
    "## Training the model\n",
    "\n",
    "Below we'll train our agent. If you want to watch it train, uncomment the `env.render()` line. This is slow because it's rendering the frames slower than the network can train. But, it's cool to watch the agent get better at the game."
   ]
  },
  {
   "cell_type": "code",
   "execution_count": 35,
   "metadata": {},
   "outputs": [
    {
     "data": {
      "text/plain": [
       "(100000, 100000)"
      ]
     },
     "execution_count": 35,
     "metadata": {},
     "output_type": "execute_result"
    }
   ],
   "source": [
    "len(memory.buffer), memory.buffer.maxlen"
   ]
  },
  {
   "cell_type": "code",
   "execution_count": null,
   "metadata": {},
   "outputs": [
    {
     "name": "stdout",
     "output_type": "stream",
     "text": [
      "Episode:0 meanR:-95.3386 R:-95.3386 gloss:-9.5685 dloss:24.7268\n",
      "Episode:1 meanR:-100.2504 R:-105.1622 gloss:-9.2401 dloss:15.4197\n",
      "Episode:2 meanR:-103.3185 R:-109.4548 gloss:-8.4681 dloss:19.8620\n",
      "Episode:3 meanR:-107.6432 R:-120.6173 gloss:-7.8119 dloss:24.2005\n",
      "Episode:4 meanR:-110.5241 R:-122.0479 gloss:-7.2402 dloss:15.2813\n",
      "Episode:5 meanR:-112.5578 R:-122.7260 gloss:-6.7697 dloss:17.5413\n",
      "Episode:6 meanR:-113.9808 R:-122.5191 gloss:-6.3166 dloss:10.0933\n",
      "Episode:7 meanR:-114.9942 R:-122.0876 gloss:-5.8769 dloss:16.6124\n",
      "Episode:8 meanR:-115.7929 R:-122.1824 gloss:-5.4707 dloss:9.4658\n",
      "Episode:9 meanR:-116.5009 R:-122.8733 gloss:-5.0899 dloss:16.2435\n",
      "Episode:10 meanR:-117.0499 R:-122.5393 gloss:-4.7606 dloss:9.0405\n",
      "Episode:11 meanR:-117.4783 R:-122.1912 gloss:-4.4109 dloss:20.3934\n",
      "Episode:12 meanR:-117.8748 R:-122.6323 gloss:-4.1419 dloss:3.6884\n",
      "Episode:13 meanR:-118.2249 R:-122.7768 gloss:-3.9048 dloss:10.5443\n",
      "Episode:14 meanR:-118.4909 R:-122.2147 gloss:-3.6164 dloss:5.5777\n",
      "Episode:15 meanR:-118.7683 R:-122.9299 gloss:-3.4758 dloss:14.8784\n",
      "Episode:16 meanR:-119.0143 R:-122.9504 gloss:-3.3012 dloss:12.3349\n",
      "Episode:17 meanR:-119.2073 R:-122.4874 gloss:-3.1410 dloss:12.2256\n",
      "Episode:18 meanR:-119.3932 R:-122.7392 gloss:-3.0723 dloss:14.7979\n",
      "Episode:19 meanR:-119.5793 R:-123.1154 gloss:-2.9765 dloss:19.1311\n",
      "Episode:20 meanR:-119.7429 R:-123.0150 gloss:-2.9494 dloss:12.1654\n",
      "Episode:21 meanR:-119.8965 R:-123.1220 gloss:-2.9595 dloss:11.9283\n",
      "Episode:22 meanR:-120.0544 R:-123.5287 gloss:-2.9727 dloss:7.2548\n",
      "Episode:23 meanR:-120.1915 R:-123.3453 gloss:-2.9632 dloss:21.1993\n",
      "Episode:24 meanR:-120.2454 R:-121.5391 gloss:-3.0130 dloss:18.5065\n",
      "Episode:25 meanR:-120.3672 R:-123.4101 gloss:-2.9307 dloss:14.1355\n",
      "Episode:26 meanR:-120.4818 R:-123.4619 gloss:-3.0242 dloss:18.8049\n",
      "Episode:27 meanR:-120.5847 R:-123.3628 gloss:-3.0241 dloss:9.3614\n",
      "Episode:28 meanR:-120.6801 R:-123.3529 gloss:-3.0078 dloss:23.4242\n",
      "Episode:29 meanR:-120.7669 R:-123.2834 gloss:-3.0185 dloss:6.9460\n",
      "Episode:30 meanR:-120.8464 R:-123.2311 gloss:-3.1267 dloss:16.3052\n",
      "Episode:31 meanR:-120.9232 R:-123.3051 gloss:-3.1550 dloss:13.9720\n",
      "Episode:32 meanR:-120.9915 R:-123.1761 gloss:-3.1934 dloss:11.5862\n",
      "Episode:33 meanR:-120.9788 R:-120.5611 gloss:-3.2062 dloss:27.4423\n",
      "Episode:34 meanR:-121.0039 R:-121.8543 gloss:-3.1193 dloss:9.0219\n",
      "Episode:35 meanR:-121.0432 R:-122.4218 gloss:-3.1561 dloss:13.5904\n",
      "Episode:36 meanR:-121.0705 R:-122.0527 gloss:-3.2684 dloss:20.5280\n",
      "Episode:37 meanR:-121.1126 R:-122.6694 gloss:-3.2830 dloss:13.5831\n",
      "Episode:38 meanR:-121.1449 R:-122.3720 gloss:-3.3052 dloss:18.1706\n",
      "Episode:39 meanR:-121.1592 R:-121.7172 gloss:-3.2969 dloss:13.5996\n",
      "Episode:40 meanR:-121.1881 R:-122.3439 gloss:-3.4171 dloss:6.7292\n",
      "Episode:41 meanR:-121.1964 R:-121.5374 gloss:-3.4538 dloss:13.5480\n",
      "Episode:42 meanR:-121.2152 R:-122.0025 gloss:-3.4499 dloss:8.9486\n",
      "Episode:43 meanR:-121.2138 R:-121.1551 gloss:-3.4186 dloss:18.1475\n",
      "Episode:44 meanR:-121.2289 R:-121.8926 gloss:-3.5981 dloss:8.7979\n",
      "Episode:45 meanR:-121.2134 R:-120.5188 gloss:-3.5553 dloss:8.9047\n",
      "Episode:46 meanR:-121.2231 R:-121.6662 gloss:-3.5268 dloss:24.9859\n",
      "Episode:47 meanR:-121.2299 R:-121.5505 gloss:-3.5171 dloss:11.2202\n",
      "Episode:48 meanR:-121.2393 R:-121.6898 gloss:-3.6352 dloss:20.4190\n",
      "Episode:49 meanR:-121.1753 R:-118.0426 gloss:-3.5849 dloss:23.6855\n",
      "Episode:50 meanR:-121.0532 R:-114.9460 gloss:-3.5799 dloss:22.2583\n",
      "Episode:51 meanR:-120.8840 R:-112.2547 gloss:-3.6631 dloss:15.9533\n"
     ]
    }
   ],
   "source": [
    "# Save/load the model and save for plotting\n",
    "saver = tf.train.Saver()\n",
    "episode_rewards_list, rewards_list, gloss_list, dloss_list = [], [], [], []\n",
    "\n",
    "# TF session for training\n",
    "with tf.Session(graph=graph) as sess:\n",
    "    sess.run(tf.global_variables_initializer())\n",
    "    #saver.restore(sess, 'checkpoints/model.ckpt')    \n",
    "    #saver.restore(sess, tf.train.latest_checkpoint('checkpoints'))\n",
    "    episode_reward = deque(maxlen=100)\n",
    "    \n",
    "    # Training episodes/epochs\n",
    "    for ep in range(11111):\n",
    "        gloss_batch, dloss_batch = [], []\n",
    "        total_reward = 0\n",
    "        state = env.reset()\n",
    "\n",
    "        # Training steps/batches\n",
    "        while True:\n",
    "            env.render()\n",
    "            \n",
    "            action_pred = sess.run(model.actions_pred, feed_dict={model.states: state.reshape([1, -1])})\n",
    "            noise = np.random.normal(loc=0, scale=0.1, size=action_size) # randomness\n",
    "            action = action_pred.reshape([-1]) + noise\n",
    "            #print(action.shape, action_logits.shape, noise.shape)\n",
    "            action = np.clip(action, -1, 1) # clipped\n",
    "            \n",
    "            next_state, reward, done, _ = env.step(action)\n",
    "            memory.buffer.append([state, action, next_state, reward, float(done)])\n",
    "            total_reward += reward\n",
    "            state = next_state\n",
    "            \n",
    "            # Training\n",
    "            batch = memory.sample(batch_size)\n",
    "            states = np.array([each[0] for each in batch])\n",
    "            actions = np.array([each[1] for each in batch])\n",
    "            next_states = np.array([each[2] for each in batch])\n",
    "            rewards = np.array([each[3] for each in batch])\n",
    "            dones = np.array([each[4] for each in batch])\n",
    "            feed_dict = {model.states: states, \n",
    "                         model.actions: actions,\n",
    "                         model.next_states: next_states, \n",
    "                         model.rewards: rewards, \n",
    "                         model.dones: dones}\n",
    "            dloss, _ = sess.run([model.d_loss, model.d_opt], feed_dict)\n",
    "            gloss, _ = sess.run([model.g_loss, model.g_opt], feed_dict)\n",
    "            gloss_batch.append(gloss)\n",
    "            dloss_batch.append(dloss)\n",
    "            if done is True:\n",
    "                break\n",
    "                \n",
    "        episode_reward.append(total_reward)\n",
    "        print('Episode:{}'.format(ep),\n",
    "              'meanR:{:.4f}'.format(np.mean(episode_reward)),\n",
    "              'R:{:.4f}'.format(total_reward),\n",
    "              'gloss:{:.4f}'.format(np.mean(gloss_batch)),\n",
    "              'dloss:{:.4f}'.format(np.mean(dloss_batch)))\n",
    "        # Ploting out\n",
    "        episode_rewards_list.append([ep, np.mean(episode_reward)])\n",
    "        rewards_list.append([ep, total_reward])\n",
    "        gloss_list.append([ep, np.mean(gloss_batch)])\n",
    "        dloss_list.append([ep, np.mean(dloss_batch)])\n",
    "        # Break episode/epoch loop\n",
    "        # Did not solve the environment. \n",
    "        # Best 100-episode average reward was 220.62 ± 0.69. \n",
    "        # (BipedalWalker-v2 is considered \"solved\" \n",
    "        #  when the agent obtains an average reward of at least 300 over 100 consecutive episodes.)        \n",
    "        if np.mean(episode_reward) >= 300:\n",
    "            break\n",
    "            \n",
    "    # At the end of all training episodes/epochs\n",
    "    saver.save(sess, 'checkpoints/model.ckpt')"
   ]
  },
  {
   "cell_type": "markdown",
   "metadata": {},
   "source": [
    "# Visualizing training\n",
    "\n",
    "Below I'll plot the total rewards for each episode. I'm plotting the rolling average too, in blue."
   ]
  },
  {
   "cell_type": "code",
   "execution_count": null,
   "metadata": {},
   "outputs": [],
   "source": [
    "import matplotlib.pyplot as plt\n",
    "%matplotlib inline\n",
    "\n",
    "def running_mean(x, N):\n",
    "    cumsum = np.cumsum(np.insert(x, 0, 0)) \n",
    "    return (cumsum[N:] - cumsum[:-N]) / N "
   ]
  },
  {
   "cell_type": "code",
   "execution_count": null,
   "metadata": {},
   "outputs": [],
   "source": [
    "eps, arr = np.array(episode_rewards_list).T\n",
    "smoothed_arr = running_mean(arr, 10)\n",
    "plt.plot(eps[-len(smoothed_arr):], smoothed_arr)\n",
    "plt.plot(eps, arr, color='grey', alpha=0.3)\n",
    "plt.xlabel('Episode')\n",
    "plt.ylabel('Total rewards')"
   ]
  },
  {
   "cell_type": "code",
   "execution_count": null,
   "metadata": {},
   "outputs": [],
   "source": [
    "eps, arr = np.array(rewards_list).T\n",
    "smoothed_arr = running_mean(arr, 10)\n",
    "plt.plot(eps[-len(smoothed_arr):], smoothed_arr)\n",
    "plt.plot(eps, arr, color='grey', alpha=0.3)\n",
    "plt.xlabel('Episode')\n",
    "plt.ylabel('Total rewards')"
   ]
  },
  {
   "cell_type": "code",
   "execution_count": null,
   "metadata": {},
   "outputs": [],
   "source": [
    "eps, arr = np.array(gloss_list).T\n",
    "smoothed_arr = running_mean(arr, 10)\n",
    "plt.plot(eps[-len(smoothed_arr):], smoothed_arr)\n",
    "plt.plot(eps, arr, color='grey', alpha=0.3)\n",
    "plt.xlabel('Episode')\n",
    "plt.ylabel('G losses')"
   ]
  },
  {
   "cell_type": "code",
   "execution_count": null,
   "metadata": {},
   "outputs": [],
   "source": [
    "eps, arr = np.array(dloss_list).T\n",
    "smoothed_arr = running_mean(arr, 10)\n",
    "plt.plot(eps[-len(smoothed_arr):], smoothed_arr)\n",
    "plt.plot(eps, arr, color='grey', alpha=0.3)\n",
    "plt.xlabel('Episode')\n",
    "plt.ylabel('D losses')"
   ]
  },
  {
   "cell_type": "markdown",
   "metadata": {},
   "source": [
    "## Testing\n",
    "\n",
    "Let's checkout how our trained agent plays the game."
   ]
  },
  {
   "cell_type": "code",
   "execution_count": 31,
   "metadata": {},
   "outputs": [
    {
     "name": "stdout",
     "output_type": "stream",
     "text": [
      "INFO:tensorflow:Restoring parameters from checkpoints/model.ckpt\n",
      "total_reward: -104.69566602519279\n"
     ]
    }
   ],
   "source": [
    "import gym\n",
    "env = gym.make('BipedalWalker-v2')\n",
    "\n",
    "with tf.Session() as sess:\n",
    "    sess.run(tf.global_variables_initializer())\n",
    "    #saver.restore(sess, 'checkpoints/model2.ckpt')    \n",
    "    saver.restore(sess, tf.train.latest_checkpoint('checkpoints'))\n",
    "    \n",
    "    # Episodes/epochs\n",
    "    for _ in range(1):\n",
    "        state = env.reset()\n",
    "        total_reward = 0\n",
    "\n",
    "        # Steps/batches\n",
    "        while True:\n",
    "            env.render()\n",
    "            actions_pred = sess.run(model.actions_pred, feed_dict={model.states: state.reshape([1, -1])})\n",
    "            action = action_pred.reshape([-1])\n",
    "            state, reward, done, _ = env.step(action)\n",
    "            total_reward += reward\n",
    "            if done:\n",
    "                print('total_reward: {}'.format(total_reward))\n",
    "                break\n",
    "                \n",
    "env.close()"
   ]
  },
  {
   "cell_type": "markdown",
   "metadata": {},
   "source": [
    "## Extending this\n",
    "\n",
    "So, Cart-Pole is a pretty simple game. However, the same model can be used to train an agent to play something much more complicated like Pong or Space Invaders. Instead of a state like we're using here though, you'd want to use convolutional layers to get the state from the screen images.\n",
    "\n",
    "![Deep Q-Learning Atari](assets/atari-network.png)\n",
    "\n",
    "I'll leave it as a challenge for you to use deep Q-learning to train an agent to play Atari games. Here's the original paper which will get you started: http://www.davidqiu.com:8888/research/nature14236.pdf."
   ]
  },
  {
   "cell_type": "code",
   "execution_count": null,
   "metadata": {},
   "outputs": [],
   "source": []
  }
 ],
 "metadata": {
  "kernelspec": {
   "display_name": "Python 3",
   "language": "python",
   "name": "python3"
  },
  "language_info": {
   "codemirror_mode": {
    "name": "ipython",
    "version": 3
   },
   "file_extension": ".py",
   "mimetype": "text/x-python",
   "name": "python",
   "nbconvert_exporter": "python",
   "pygments_lexer": "ipython3",
   "version": "3.6.8"
  }
 },
 "nbformat": 4,
 "nbformat_minor": 2
}
