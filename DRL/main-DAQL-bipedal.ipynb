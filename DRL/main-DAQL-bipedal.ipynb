{
 "cells": [
  {
   "cell_type": "markdown",
   "metadata": {},
   "source": [
    "# DAQL for BipedalWalker\n",
    "\n",
    "In this notebook, we'll build a neural network that can learn to play games through reinforcement learning. More specifically, we'll use Q-learning to train an agent to play a game called [Cart-Pole](https://gym.openai.com/envs/CartPole-v0). In this game, a freely swinging pole is attached to a cart. The cart can move to the left and right, and the goal is to keep the pole upright as long as possible.\n",
    "\n",
    "We can simulate this game using [OpenAI Gym](https://gym.openai.com/). First, let's check out how OpenAI Gym works. Then, we'll get into training an agent to play the Cart-Pole game."
   ]
  },
  {
   "cell_type": "code",
   "execution_count": 1,
   "metadata": {},
   "outputs": [
    {
     "name": "stdout",
     "output_type": "stream",
     "text": [
      "TensorFlow Version: 1.12.0\n",
      "Default GPU Device: /device:GPU:0\n"
     ]
    }
   ],
   "source": [
    "import tensorflow as tf\n",
    "print('TensorFlow Version: {}'.format(tf.__version__))\n",
    "print('Default GPU Device: {}'.format(tf.test.gpu_device_name()))"
   ]
  },
  {
   "cell_type": "markdown",
   "metadata": {},
   "source": [
    ">**Note:** Make sure you have OpenAI Gym cloned into the same directory with this notebook. I've included `gym` as a submodule, so you can run `git submodule --init --recursive` to pull the contents into the `gym` repo."
   ]
  },
  {
   "cell_type": "markdown",
   "metadata": {},
   "source": [
    "##### >**Note:** Make sure you have OpenAI Gym cloned. Then run this command `pip install -e gym/[all]`."
   ]
  },
  {
   "cell_type": "code",
   "execution_count": 2,
   "metadata": {},
   "outputs": [],
   "source": [
    "import gym\n",
    "env = gym.make('BipedalWalker-v2')"
   ]
  },
  {
   "cell_type": "markdown",
   "metadata": {},
   "source": [
    "We interact with the simulation through `env`. To show the simulation running, you can use `env.render()` to render one frame. Passing in an action as an integer to `env.step` will generate the next step in the simulation.  You can see how many actions are possible from `env.action_space` and to get a random action you can use `env.action_space.sample()`. This is general to all Gym games. In the Cart-Pole game, there are two possible actions, moving the cart left or right. So there are two actions we can take, encoded as 0 and 1.\n",
    "\n",
    "Run the code below to watch the simulation run."
   ]
  },
  {
   "cell_type": "code",
   "execution_count": 3,
   "metadata": {},
   "outputs": [
    {
     "data": {
      "text/plain": [
       "(Box(24,), Box(4,))"
      ]
     },
     "execution_count": 3,
     "metadata": {},
     "output_type": "execute_result"
    }
   ],
   "source": [
    "env.observation_space, env.action_space"
   ]
  },
  {
   "cell_type": "code",
   "execution_count": 4,
   "metadata": {},
   "outputs": [],
   "source": [
    "# state = env.reset()\n",
    "# batch = []\n",
    "# for _ in range(1111):\n",
    "#     #env.render()\n",
    "#     action = env.action_space.sample()\n",
    "#     next_state, reward, done, _ = env.step(action) # take a random action\n",
    "#     batch.append([state, action, next_state, reward, float(done)])\n",
    "#     state = next_state\n",
    "#     if done:\n",
    "#         state = env.reset()"
   ]
  },
  {
   "cell_type": "markdown",
   "metadata": {},
   "source": [
    "To shut the window showing the simulation, use `env.close()`."
   ]
  },
  {
   "cell_type": "code",
   "execution_count": 5,
   "metadata": {},
   "outputs": [],
   "source": [
    "# env.close()"
   ]
  },
  {
   "cell_type": "markdown",
   "metadata": {},
   "source": [
    "If you ran the simulation above, we can look at the rewards:"
   ]
  },
  {
   "cell_type": "code",
   "execution_count": 6,
   "metadata": {},
   "outputs": [],
   "source": [
    "import numpy as np\n",
    "# actions = np.array([each[0] for each in batch])\n",
    "# states = np.array([each[1] for each in batch])\n",
    "# rewards = np.array([each[2] for each in batch])\n",
    "# dones = np.array([each[3] for each in batch])\n",
    "# infos = np.array([each[4] for each in batch])"
   ]
  },
  {
   "cell_type": "code",
   "execution_count": 7,
   "metadata": {},
   "outputs": [],
   "source": [
    "# print('states:', np.max(np.array(states)), np.min(np.array(states)))\n",
    "# print('actions:', np.max(np.array(actions)), np.min(np.array(actions)))\n",
    "# print('rewards:', np.max(np.array(rewards)), np.min(np.array(rewards)))"
   ]
  },
  {
   "cell_type": "code",
   "execution_count": 8,
   "metadata": {},
   "outputs": [],
   "source": [
    "# env.action_space.high, env.action_space.low"
   ]
  },
  {
   "cell_type": "markdown",
   "metadata": {},
   "source": [
    "The game resets after the pole has fallen past a certain angle. For each frame while the simulation is running, it returns a reward of 1.0. The longer the game runs, the more reward we get. Then, our network's goal is to maximize the reward by keeping the pole vertical. It will do this by moving the cart to the left and the right."
   ]
  },
  {
   "cell_type": "markdown",
   "metadata": {},
   "source": [
    "## Q-Network\n",
    "\n",
    "We train our Q-learning agent using the Bellman Equation:\n",
    "\n",
    "$$\n",
    "Q(s, a) = r + \\gamma \\max{Q(s', a')}\n",
    "$$\n",
    "\n",
    "where $s$ is a state, $a$ is an action, and $s'$ is the next state from state $s$ and action $a$.\n",
    "\n",
    "Before we used this equation to learn values for a Q-_table_. However, for this game there are a huge number of states available. The state has four values: the position and velocity of the cart, and the position and velocity of the pole. These are all real-valued numbers, so ignoring floating point precisions, you practically have infinite states. Instead of using a table then, we'll replace it with a neural network that will approximate the Q-table lookup function.\n",
    "\n",
    "<img src=\"assets/deep-q-learning.png\" width=450px>\n",
    "\n",
    "Now, our Q value, $Q(s, a)$ is calculated by passing in a state to the network. The output will be Q-values for each available action, with fully connected hidden layers.\n",
    "\n",
    "<img src=\"assets/q-network.png\" width=550px>\n",
    "\n",
    "\n",
    "As I showed before, we can define our targets for training as $\\hat{Q}(s,a) = r + \\gamma \\max{Q(s', a')}$. Then we update the weights by minimizing $(\\hat{Q}(s,a) - Q(s,a))^2$. \n",
    "\n",
    "For this Cart-Pole game, we have four inputs, one for each value in the state, and two outputs, one for each action. To get $\\hat{Q}$, we'll first choose an action, then simulate the game using that action. This will get us the next state, $s'$, and the reward. With that, we can calculate $\\hat{Q}$ then pass it back into the $Q$ network to run the optimizer and update the weights.\n",
    "\n",
    "Below is my implementation of the Q-network. I used two fully connected layers with ReLU activations. Two seems to be good enough, three might be better. Feel free to try it out."
   ]
  },
  {
   "cell_type": "code",
   "execution_count": 9,
   "metadata": {},
   "outputs": [],
   "source": [
    "def model_input(state_size, action_size):\n",
    "    #states = tf.placeholder(tf.float32, [None, *state_shape], name='states')\n",
    "    states = tf.placeholder(tf.float32, [None, state_size], name='states')\n",
    "    actions = tf.placeholder(tf.float32, [None, action_size], name='actions')\n",
    "    next_states = tf.placeholder(tf.float32, [None, state_size], name='next_state')\n",
    "    rewards = tf.placeholder(tf.float32, [None, state_size], name='rewards')\n",
    "    return states, actions, next_states, rewards"
   ]
  },
  {
   "cell_type": "code",
   "execution_count": 10,
   "metadata": {},
   "outputs": [],
   "source": [
    "# a = act(s, r)\n",
    "def generator(states, rewards, state_size, hidden_size, reuse=False, alpha=0.1, training=False):\n",
    "    with tf.variable_scope('generator', reuse=reuse):\n",
    "        # First fully connected layer\n",
    "        h1 = tf.layers.dense(inputs=states, units=state_size)\n",
    "        bn1 = tf.layers.batch_normalization(h1, training=training)        \n",
    "        nl1 = tf.maximum(alpha * bn1, bn1)\n",
    "        \n",
    "        # Second fully connected layer\n",
    "        fused = tf.concat(axis=1, values=[nl1, rewards])\n",
    "        h2 = tf.layers.dense(inputs=fused, units=hidden_size)\n",
    "        bn2 = tf.layers.batch_normalization(h2, training=training)        \n",
    "        nl2 = tf.maximum(alpha * bn2, bn2)\n",
    "                \n",
    "        # Output layer\n",
    "        logits = tf.layers.dense(inputs=nl2, units=action_size)        \n",
    "        pred = tf.tanh(logits)\n",
    "        return pred"
   ]
  },
  {
   "cell_type": "code",
   "execution_count": 11,
   "metadata": {},
   "outputs": [],
   "source": [
    "# s', Q = env(s, a)\n",
    "def discriminator(states, actions, action_size, hidden_size, reuse=False, alpha=0.1, training=False):\n",
    "    with tf.variable_scope('discriminator', reuse=reuse):\n",
    "        # First fully connected layer\n",
    "        h1 = tf.layers.dense(inputs=states, units=action_size)\n",
    "        bn1 = tf.layers.batch_normalization(h1, training=training)        \n",
    "        nl1 = tf.maximum(alpha * bn1, bn1)\n",
    "        \n",
    "        # Second fully connected layer\n",
    "        fused = tf.concat(axis=1, values=[nl1, actions])\n",
    "        h2 = tf.layers.dense(inputs=fused, units=hidden_size)\n",
    "        bn2 = tf.layers.batch_normalization(h2, training=training)        \n",
    "        nl2 = tf.maximum(alpha * bn2, bn2)\n",
    "                \n",
    "        # Output layer\n",
    "        next_states_logits = tf.layers.dense(inputs=nl2, units=state_size)        \n",
    "        Qlogits = tf.layers.dense(inputs=next_states_logits, units=1, trainable=False)        \n",
    "        return next_states_logits, Qlogits"
   ]
  },
  {
   "cell_type": "code",
   "execution_count": 12,
   "metadata": {},
   "outputs": [],
   "source": [
    "def model_loss(action_size, hidden_size, state_size, rewards, states, actions, next_states):\n",
    "    actions_pred = generator(states=states, rewards=rewards, hidden_size=hidden_size, state_size=state_size)\n",
    "    _, gQs = discriminator(actions=actions_pred, states=states, hidden_size=hidden_size, action_size=action_size) \n",
    "    gloss = -tf.reduce_mean(gQs)\n",
    "    next_states_pred, _ = discriminator(actions=actions, states=states, hidden_size=hidden_size, \n",
    "                                        action_size=action_size, reuse=True) \n",
    "    #dloss = tf.reduce_mean(tf.square(dQs - targetQs)) # DQN\n",
    "    dloss = tf.reduce_mean(tf.reduce_sum(tf.square(next_states - next_states_pred), axis=1)) # DQN\n",
    "#     print(dloss.shape, tf.square(next_states - next_states_pred).shape)\n",
    "#     print(dloss.shape, tf.reduce_sum(tf.square(next_states - next_states_pred), axis=1).shape)\n",
    "    return actions_pred, next_states_pred, gloss, dloss"
   ]
  },
  {
   "cell_type": "code",
   "execution_count": 13,
   "metadata": {},
   "outputs": [],
   "source": [
    "# Optimizating/training/learning G & D\n",
    "def model_opt(g_loss, d_loss, g_learning_rate, d_learning_rate):\n",
    "    # Get weights and bias to update\n",
    "    t_vars = tf.trainable_variables()\n",
    "    g_vars = [var for var in t_vars if var.name.startswith('generator')]\n",
    "    d_vars = [var for var in t_vars if var.name.startswith('discriminator')]\n",
    "\n",
    "    # Optimize\n",
    "    with tf.control_dependencies(tf.get_collection(tf.GraphKeys.UPDATE_OPS)): # Required for batchnorm (BN)\n",
    "        g_opt = tf.train.AdamOptimizer(g_learning_rate).minimize(g_loss, var_list=g_vars)\n",
    "        d_opt = tf.train.AdamOptimizer(d_learning_rate).minimize(d_loss, var_list=d_vars)\n",
    "    return g_opt, d_opt"
   ]
  },
  {
   "cell_type": "code",
   "execution_count": 14,
   "metadata": {},
   "outputs": [],
   "source": [
    "class Model:\n",
    "    def __init__(self, state_size, action_size, hidden_size, g_learning_rate, d_learning_rate):\n",
    "\n",
    "        # Data of the Model: make the data available inside the framework\n",
    "        self.states, self.actions, self.next_states, self.rewards = model_input(state_size=state_size, \n",
    "                                                                                action_size=action_size)\n",
    "\n",
    "        # Create the Model: calculating the loss and forwad pass\n",
    "        self.actions_pred, self.next_states_pred, self.g_loss, self.d_loss = model_loss(\n",
    "            action_size=action_size, hidden_size=hidden_size, state_size=state_size,\n",
    "            states=self.states, actions=self.actions, next_states=self.next_states, rewards=self.rewards) \n",
    "        \n",
    "        # Update the model: backward pass and backprop\n",
    "        self.g_opt, self.d_opt = model_opt(g_loss=self.g_loss, \n",
    "                                           d_loss=self.d_loss,\n",
    "                                           g_learning_rate=g_learning_rate, \n",
    "                                           d_learning_rate=d_learning_rate)"
   ]
  },
  {
   "cell_type": "code",
   "execution_count": 15,
   "metadata": {},
   "outputs": [],
   "source": [
    "from collections import deque\n",
    "class Memory():\n",
    "    def __init__(self, max_size = 1000):\n",
    "        self.buffer = deque(maxlen=max_size)\n",
    "    def sample(self, batch_size):\n",
    "        idx = np.random.choice(np.arange(len(self.buffer)), \n",
    "                               size=batch_size, replace=False)\n",
    "        return [self.buffer[ii] for ii in idx]"
   ]
  },
  {
   "cell_type": "markdown",
   "metadata": {},
   "source": [
    "## Hyperparameters\n",
    "\n",
    "One of the more difficult aspects of reinforcememt learning are the large number of hyperparameters. Not only are we tuning the network, but we're tuning the simulation."
   ]
  },
  {
   "cell_type": "code",
   "execution_count": 16,
   "metadata": {},
   "outputs": [
    {
     "data": {
      "text/plain": [
       "(Box(24,), Box(4,))"
      ]
     },
     "execution_count": 16,
     "metadata": {},
     "output_type": "execute_result"
    }
   ],
   "source": [
    "env.observation_space, env.action_space"
   ]
  },
  {
   "cell_type": "code",
   "execution_count": 17,
   "metadata": {},
   "outputs": [],
   "source": [
    "# Exploration parameters\n",
    "explore_start = 1.0            # exploration probability at start\n",
    "explore_stop = 0.01           # minimum exploration probability \n",
    "decay_rate = 0.0001            # exponential decay rate for exploration prob\n",
    "\n",
    "# Network parameters\n",
    "state_size = 24\n",
    "action_size = 4\n",
    "hidden_size = 24*2             # number of units in each Q-network hidden layer\n",
    "g_learning_rate = 1e-4         # Q-network learning rate\n",
    "d_learning_rate = 1e-4         # Q-network learning rate\n",
    "\n",
    "# Memory parameters\n",
    "memory_size = int(1e5)            # memory capacity\n",
    "batch_size = int(1e2)             # experience mini-batch size == one episode size is 1000/int(1e3) steps\n",
    "gamma = 0.99                   # future reward discount"
   ]
  },
  {
   "cell_type": "code",
   "execution_count": 18,
   "metadata": {},
   "outputs": [],
   "source": [
    "# Reset/init the graph/session\n",
    "graph = tf.reset_default_graph()\n",
    "\n",
    "# Init the model\n",
    "model = Model(action_size=action_size, state_size=state_size, hidden_size=hidden_size,\n",
    "              g_learning_rate=g_learning_rate, d_learning_rate=d_learning_rate)\n",
    "\n",
    "# Init the memory\n",
    "memory = Memory(max_size=memory_size)"
   ]
  },
  {
   "cell_type": "code",
   "execution_count": 19,
   "metadata": {},
   "outputs": [
    {
     "data": {
      "text/plain": [
       "(array([inf, inf, inf, inf, inf, inf, inf, inf, inf, inf, inf, inf, inf,\n",
       "        inf, inf, inf, inf, inf, inf, inf, inf, inf, inf, inf],\n",
       "       dtype=float32),\n",
       " array([-inf, -inf, -inf, -inf, -inf, -inf, -inf, -inf, -inf, -inf, -inf,\n",
       "        -inf, -inf, -inf, -inf, -inf, -inf, -inf, -inf, -inf, -inf, -inf,\n",
       "        -inf, -inf], dtype=float32),\n",
       " (24,),\n",
       " array([1., 1., 1., 1.], dtype=float32),\n",
       " array([-1., -1., -1., -1.], dtype=float32),\n",
       " (4,),\n",
       " (-inf, inf),\n",
       " Box(4,))"
      ]
     },
     "execution_count": 19,
     "metadata": {},
     "output_type": "execute_result"
    }
   ],
   "source": [
    "env.observation_space.high, env.observation_space.low, env.observation_space.shape, \\\n",
    "env.action_space.high, env.action_space.low, env.action_space.shape, \\\n",
    "env.reward_range, env.action_space,"
   ]
  },
  {
   "cell_type": "code",
   "execution_count": 20,
   "metadata": {},
   "outputs": [],
   "source": [
    "# print('states:', np.max(np.array(states)), np.min(np.array(states)))\n",
    "# print('actions:', np.max(np.array(actions)), np.min(np.array(actions)))\n",
    "# print('rewards:', np.max(np.array(rewards)), np.min(np.array(rewards)))"
   ]
  },
  {
   "cell_type": "code",
   "execution_count": 21,
   "metadata": {},
   "outputs": [],
   "source": [
    "# state = env.reset()\n",
    "# total_reward = 0\n",
    "# num_step = 0\n",
    "# for each_step in range(memory_size):\n",
    "#     action = env.action_space.sample() # randomness\n",
    "#     action = np.clip(action, -1, 1) # clipped: [-1, +1]\n",
    "#     next_state, reward, done, _ = env.step(action)\n",
    "#     rate = -1 # success rate: [-1, +1]\n",
    "#     memory.buffer.append([state, action, next_state, reward, float(done), rate])\n",
    "#     num_step += 1 # memory updated\n",
    "#     total_reward += reward # max reward 300\n",
    "#     state = next_state\n",
    "#     if done is True:\n",
    "#         print('Progress:', each_step/memory_size)\n",
    "#         state = env.reset()\n",
    "#         # Best 100-episode average reward was 220.62 ± 0.69. \n",
    "#         # (BipedalWalker-v2 is considered \"solved\" \n",
    "#         #  when the agent obtains an average reward of at least 300 over 100 consecutive episodes.)        \n",
    "#         rate = total_reward/300\n",
    "#         rate = np.clip(rate, -1, 1) \n",
    "#         total_reward = 0 # reset\n",
    "#         for idx in range(num_step): # episode length\n",
    "#             if memory.buffer[-1-idx][-1] == -1:\n",
    "#                 memory.buffer[-1-idx][-1] = rate\n",
    "#         num_step = 0 # reset"
   ]
  },
  {
   "cell_type": "markdown",
   "metadata": {},
   "source": [
    "## Training the model\n",
    "\n",
    "Below we'll train our agent. If you want to watch it train, uncomment the `env.render()` line. This is slow because it's rendering the frames slower than the network can train. But, it's cool to watch the agent get better at the game."
   ]
  },
  {
   "cell_type": "code",
   "execution_count": 22,
   "metadata": {},
   "outputs": [
    {
     "data": {
      "text/plain": [
       "(0, 100000)"
      ]
     },
     "execution_count": 22,
     "metadata": {},
     "output_type": "execute_result"
    }
   ],
   "source": [
    "len(memory.buffer), memory.buffer.maxlen"
   ]
  },
  {
   "cell_type": "code",
   "execution_count": null,
   "metadata": {},
   "outputs": [
    {
     "name": "stderr",
     "output_type": "stream",
     "text": [
      "/home/arasdar/anaconda3/envs/env/lib/python3.6/site-packages/numpy/core/fromnumeric.py:2920: RuntimeWarning: Mean of empty slice.\n",
      "  out=out, **kwargs)\n",
      "/home/arasdar/anaconda3/envs/env/lib/python3.6/site-packages/numpy/core/_methods.py:85: RuntimeWarning: invalid value encountered in double_scalars\n",
      "  ret = ret.dtype.type(ret / rcount)\n"
     ]
    },
    {
     "name": "stdout",
     "output_type": "stream",
     "text": [
      "Episode:0 meanR:-104.2189 R:-104.2189 gloss:nan dloss:nan\n",
      "Episode:1 meanR:-100.7788 R:-97.3386 gloss:0.1648 dloss:7.9181\n",
      "Episode:2 meanR:-105.1030 R:-113.7515 gloss:0.1819 dloss:6.5080\n",
      "Episode:3 meanR:-108.7931 R:-119.8633 gloss:0.0597 dloss:5.9579\n",
      "Episode:4 meanR:-110.4865 R:-117.2601 gloss:-0.0507 dloss:5.5967\n",
      "Episode:5 meanR:-109.9707 R:-107.3916 gloss:-0.2122 dloss:5.2379\n",
      "Episode:6 meanR:-111.2779 R:-119.1209 gloss:-0.4614 dloss:4.7171\n",
      "Episode:7 meanR:-112.3893 R:-120.1692 gloss:-0.6625 dloss:4.2840\n",
      "Episode:8 meanR:-113.5180 R:-122.5481 gloss:-0.8615 dloss:3.8792\n",
      "Episode:9 meanR:-114.5333 R:-123.6707 gloss:-1.0473 dloss:3.5472\n",
      "Episode:10 meanR:-115.3180 R:-123.1648 gloss:-1.2034 dloss:3.2204\n",
      "Episode:11 meanR:-116.0288 R:-123.8482 gloss:-1.3070 dloss:2.9576\n",
      "Episode:12 meanR:-116.6078 R:-123.5554 gloss:-1.3798 dloss:2.7167\n",
      "Episode:13 meanR:-117.0793 R:-123.2090 gloss:-1.4311 dloss:2.5925\n",
      "Episode:14 meanR:-117.4948 R:-123.3120 gloss:-1.4477 dloss:2.4740\n",
      "Episode:15 meanR:-117.8626 R:-123.3787 gloss:-1.4707 dloss:2.3782\n",
      "Episode:16 meanR:-118.1932 R:-123.4839 gloss:-1.4699 dloss:2.3376\n",
      "Episode:17 meanR:-118.4892 R:-123.5214 gloss:-1.4720 dloss:2.2879\n",
      "Episode:18 meanR:-118.7478 R:-123.4010 gloss:-1.4531 dloss:2.2566\n",
      "Episode:19 meanR:-118.9657 R:-123.1064 gloss:-1.4496 dloss:2.1613\n",
      "Episode:20 meanR:-119.1815 R:-123.4982 gloss:-1.4337 dloss:2.1268\n",
      "Episode:21 meanR:-119.3624 R:-123.1614 gloss:-1.4352 dloss:2.0738\n",
      "Episode:22 meanR:-119.5432 R:-123.5195 gloss:-1.4285 dloss:2.0578\n",
      "Episode:23 meanR:-119.7011 R:-123.3337 gloss:-1.4140 dloss:2.0139\n",
      "Episode:24 meanR:-119.8494 R:-123.4082 gloss:-1.4239 dloss:2.0453\n",
      "Episode:25 meanR:-119.9898 R:-123.5004 gloss:-1.4205 dloss:1.9811\n",
      "Episode:26 meanR:-120.1278 R:-123.7153 gloss:-1.4079 dloss:1.9185\n",
      "Episode:27 meanR:-120.2378 R:-123.2079 gloss:-1.4201 dloss:1.8937\n",
      "Episode:28 meanR:-120.3654 R:-123.9385 gloss:-1.4130 dloss:1.7842\n",
      "Episode:29 meanR:-120.4763 R:-123.6905 gloss:-1.4063 dloss:1.7800\n",
      "Episode:30 meanR:-120.5753 R:-123.5461 gloss:-1.4026 dloss:1.7486\n",
      "Episode:31 meanR:-120.6671 R:-123.5145 gloss:-1.4182 dloss:1.6576\n",
      "Episode:32 meanR:-120.7560 R:-123.6011 gloss:-1.4267 dloss:1.6208\n",
      "Episode:33 meanR:-120.8339 R:-123.4033 gloss:-1.4133 dloss:1.5428\n",
      "Episode:34 meanR:-120.9070 R:-123.3911 gloss:-1.4310 dloss:1.5064\n",
      "Episode:35 meanR:-120.9756 R:-123.3767 gloss:-1.4102 dloss:1.4829\n",
      "Episode:36 meanR:-121.0476 R:-123.6404 gloss:-1.4291 dloss:1.4517\n",
      "Episode:37 meanR:-121.1159 R:-123.6434 gloss:-1.4274 dloss:1.4225\n",
      "Episode:38 meanR:-121.1807 R:-123.6441 gloss:-1.4327 dloss:1.3725\n",
      "Episode:39 meanR:-121.2322 R:-123.2387 gloss:-1.4325 dloss:1.3281\n",
      "Episode:40 meanR:-121.2816 R:-123.2603 gloss:-1.4237 dloss:1.3188\n",
      "Episode:41 meanR:-121.3458 R:-123.9764 gloss:-1.4420 dloss:1.2847\n",
      "Episode:42 meanR:-121.4083 R:-124.0354 gloss:-1.4407 dloss:1.3243\n",
      "Episode:43 meanR:-121.4594 R:-123.6525 gloss:-1.4207 dloss:1.2657\n",
      "Episode:44 meanR:-121.5052 R:-123.5237 gloss:-1.4278 dloss:1.2271\n",
      "Episode:45 meanR:-121.5520 R:-123.6553 gloss:-1.4253 dloss:1.2179\n",
      "Episode:46 meanR:-121.5974 R:-123.6861 gloss:-1.4332 dloss:1.1819\n",
      "Episode:47 meanR:-121.6321 R:-123.2658 gloss:-1.4268 dloss:1.1914\n",
      "Episode:48 meanR:-121.6640 R:-123.1917 gloss:-1.4302 dloss:1.1790\n",
      "Episode:49 meanR:-121.6926 R:-123.0976 gloss:-1.4466 dloss:1.1678\n",
      "Episode:50 meanR:-121.7303 R:-123.6130 gloss:-1.4351 dloss:1.1477\n",
      "Episode:51 meanR:-121.7640 R:-123.4839 gloss:-1.4364 dloss:1.1073\n",
      "Episode:52 meanR:-121.7968 R:-123.5033 gloss:-1.4275 dloss:1.1361\n",
      "Episode:53 meanR:-121.8270 R:-123.4280 gloss:-1.4189 dloss:1.0888\n",
      "Episode:54 meanR:-121.8530 R:-123.2573 gloss:-1.4251 dloss:1.0667\n",
      "Episode:55 meanR:-121.8780 R:-123.2535 gloss:-1.4422 dloss:1.1131\n",
      "Episode:56 meanR:-121.9035 R:-123.3291 gloss:-1.4304 dloss:1.0853\n",
      "Episode:57 meanR:-121.9282 R:-123.3353 gloss:-1.4267 dloss:1.0853\n",
      "Episode:58 meanR:-121.9518 R:-123.3235 gloss:-1.4168 dloss:1.0351\n",
      "Episode:59 meanR:-121.9709 R:-123.0950 gloss:-1.4245 dloss:1.0270\n",
      "Episode:60 meanR:-121.9955 R:-123.4697 gloss:-1.4369 dloss:1.0382\n",
      "Episode:61 meanR:-122.0141 R:-123.1490 gloss:-1.4066 dloss:1.0149\n",
      "Episode:62 meanR:-122.0385 R:-123.5563 gloss:-1.3910 dloss:1.0023\n",
      "Episode:63 meanR:-122.0559 R:-123.1473 gloss:-1.4212 dloss:0.9884\n",
      "Episode:64 meanR:-122.0723 R:-123.1263 gloss:-1.4101 dloss:0.9746\n",
      "Episode:65 meanR:-122.0908 R:-123.2919 gloss:-1.4086 dloss:0.9788\n",
      "Episode:66 meanR:-122.1091 R:-123.3184 gloss:-1.4051 dloss:0.9671\n",
      "Episode:67 meanR:-122.1309 R:-123.5894 gloss:-1.4026 dloss:0.9366\n",
      "Episode:68 meanR:-122.1519 R:-123.5784 gloss:-1.4042 dloss:0.9342\n",
      "Episode:69 meanR:-122.1708 R:-123.4760 gloss:-1.4013 dloss:0.8827\n",
      "Episode:70 meanR:-122.1891 R:-123.4668 gloss:-1.4098 dloss:0.9178\n",
      "Episode:71 meanR:-122.2052 R:-123.3526 gloss:-1.4211 dloss:0.9128\n",
      "Episode:72 meanR:-122.2172 R:-123.0806 gloss:-1.4113 dloss:0.8604\n",
      "Episode:73 meanR:-122.2362 R:-123.6196 gloss:-1.4032 dloss:0.9020\n",
      "Episode:74 meanR:-122.2493 R:-123.2196 gloss:-1.4035 dloss:0.8655\n",
      "Episode:75 meanR:-122.2659 R:-123.5111 gloss:-1.3948 dloss:0.8614\n",
      "Episode:76 meanR:-122.2822 R:-123.5250 gloss:-1.3878 dloss:0.8669\n",
      "Episode:77 meanR:-122.2980 R:-123.5113 gloss:-1.4131 dloss:0.8567\n",
      "Episode:78 meanR:-122.3124 R:-123.4340 gloss:-1.3995 dloss:0.8180\n",
      "Episode:79 meanR:-122.3245 R:-123.2813 gloss:-1.4005 dloss:0.8205\n",
      "Episode:80 meanR:-122.3339 R:-123.0900 gloss:-1.4063 dloss:0.8075\n",
      "Episode:81 meanR:-122.3500 R:-123.6528 gloss:-1.4214 dloss:0.8140\n",
      "Episode:82 meanR:-122.3636 R:-123.4790 gloss:-1.4005 dloss:0.8020\n",
      "Episode:83 meanR:-122.2985 R:-116.8905 gloss:-1.6422 dloss:0.7775\n",
      "Episode:84 meanR:-122.6786 R:-154.6079 gloss:-1.4535 dloss:0.8482\n",
      "Episode:85 meanR:-122.6829 R:-123.0551 gloss:-1.4345 dloss:0.8119\n",
      "Episode:86 meanR:-122.6517 R:-119.9608 gloss:-1.4768 dloss:0.8025\n",
      "Episode:87 meanR:-122.5551 R:-114.1569 gloss:-1.4850 dloss:0.8172\n",
      "Episode:88 meanR:-122.4320 R:-111.5981 gloss:-1.4848 dloss:0.8641\n",
      "Episode:89 meanR:-122.3350 R:-113.6984 gloss:-1.4596 dloss:0.8385\n",
      "Episode:90 meanR:-122.2790 R:-117.2419 gloss:-1.4371 dloss:0.8299\n",
      "Episode:91 meanR:-122.2198 R:-116.8284 gloss:-1.4323 dloss:0.8127\n",
      "Episode:92 meanR:-122.1514 R:-115.8646 gloss:-1.3935 dloss:0.8046\n",
      "Episode:93 meanR:-122.1156 R:-118.7843 gloss:-1.3833 dloss:0.7638\n",
      "Episode:94 meanR:-122.0192 R:-112.9621 gloss:-1.3509 dloss:0.7757\n",
      "Episode:95 meanR:-121.9402 R:-114.4259 gloss:-1.3388 dloss:0.7773\n",
      "Episode:96 meanR:-121.8453 R:-112.7398 gloss:-1.3365 dloss:0.7774\n",
      "Episode:97 meanR:-121.7938 R:-116.7990 gloss:-1.3363 dloss:0.7699\n",
      "Episode:98 meanR:-121.7165 R:-114.1361 gloss:-1.3285 dloss:0.7525\n",
      "Episode:99 meanR:-121.6693 R:-117.0035 gloss:-1.3449 dloss:0.7336\n",
      "Episode:100 meanR:-121.7998 R:-117.2638 gloss:-1.3454 dloss:0.7387\n",
      "Episode:101 meanR:-122.1446 R:-131.8177 gloss:-1.3638 dloss:0.7204\n",
      "Episode:102 meanR:-122.2357 R:-122.8634 gloss:-1.3413 dloss:0.7345\n",
      "Episode:103 meanR:-122.2669 R:-122.9860 gloss:-1.3529 dloss:0.6978\n",
      "Episode:104 meanR:-122.3244 R:-123.0041 gloss:-1.3747 dloss:0.7155\n",
      "Episode:105 meanR:-122.4793 R:-122.8904 gloss:-1.3403 dloss:0.7142\n",
      "Episode:106 meanR:-122.5165 R:-122.8357 gloss:-1.3555 dloss:0.7127\n",
      "Episode:107 meanR:-122.5462 R:-123.1358 gloss:-1.3704 dloss:0.7057\n",
      "Episode:108 meanR:-122.5504 R:-122.9765 gloss:-1.3636 dloss:0.7093\n",
      "Episode:109 meanR:-122.5440 R:-123.0303 gloss:-1.3737 dloss:0.6756\n",
      "Episode:110 meanR:-122.5406 R:-122.8209 gloss:-1.3756 dloss:0.7059\n",
      "Episode:111 meanR:-122.5243 R:-122.2164 gloss:-1.3814 dloss:0.6904\n",
      "Episode:112 meanR:-122.5195 R:-123.0767 gloss:-1.3781 dloss:0.6707\n",
      "Episode:113 meanR:-122.5162 R:-122.8819 gloss:-1.3712 dloss:0.6748\n",
      "Episode:114 meanR:-122.5123 R:-122.9226 gloss:-1.3564 dloss:0.6738\n",
      "Episode:115 meanR:-122.5091 R:-123.0606 gloss:-1.3775 dloss:0.6697\n",
      "Episode:116 meanR:-122.5013 R:-122.6969 gloss:-1.3642 dloss:0.6897\n",
      "Episode:117 meanR:-122.4952 R:-122.9167 gloss:-1.3797 dloss:0.6620\n",
      "Episode:118 meanR:-122.4943 R:-123.3045 gloss:-1.3756 dloss:0.6603\n",
      "Episode:119 meanR:-122.4902 R:-122.6976 gloss:-1.3875 dloss:0.6598\n",
      "Episode:120 meanR:-122.4841 R:-122.8883 gloss:-1.3693 dloss:0.6542\n",
      "Episode:121 meanR:-122.4879 R:-123.5399 gloss:-1.3841 dloss:0.6291\n",
      "Episode:122 meanR:-122.4861 R:-123.3448 gloss:-1.3932 dloss:0.6310\n",
      "Episode:123 meanR:-122.4870 R:-123.4244 gloss:-1.3762 dloss:0.6122\n",
      "Episode:124 meanR:-122.4854 R:-123.2510 gloss:-1.3806 dloss:0.6349\n"
     ]
    },
    {
     "name": "stdout",
     "output_type": "stream",
     "text": [
      "Episode:125 meanR:-122.4781 R:-122.7680 gloss:-1.3744 dloss:0.6333\n",
      "Episode:126 meanR:-122.4690 R:-122.8009 gloss:-1.3563 dloss:0.6128\n",
      "Episode:127 meanR:-122.4549 R:-121.8039 gloss:-1.3806 dloss:0.6377\n",
      "Episode:128 meanR:-122.4462 R:-123.0636 gloss:-1.4036 dloss:0.6202\n",
      "Episode:129 meanR:-122.4349 R:-122.5569 gloss:-1.3653 dloss:0.6265\n",
      "Episode:130 meanR:-122.4330 R:-123.3635 gloss:-1.3886 dloss:0.6120\n",
      "Episode:131 meanR:-122.4254 R:-122.7498 gloss:-1.3692 dloss:0.6226\n",
      "Episode:132 meanR:-122.4058 R:-121.6450 gloss:-1.3775 dloss:0.6275\n",
      "Episode:133 meanR:-122.3918 R:-122.0038 gloss:-1.3860 dloss:0.6253\n",
      "Episode:134 meanR:-122.3740 R:-121.6090 gloss:-1.3818 dloss:0.5985\n",
      "Episode:135 meanR:-122.3746 R:-123.4402 gloss:-1.3695 dloss:0.6139\n",
      "Episode:136 meanR:-122.2537 R:-111.5420 gloss:-1.3708 dloss:0.5880\n",
      "Episode:137 meanR:-122.2521 R:-123.4842 gloss:-1.3838 dloss:0.6002\n",
      "Episode:138 meanR:-122.2505 R:-123.4922 gloss:-1.3814 dloss:0.5925\n",
      "Episode:139 meanR:-122.2634 R:-124.5264 gloss:-1.3711 dloss:0.5831\n",
      "Episode:140 meanR:-122.2635 R:-123.2655 gloss:-1.3604 dloss:0.5861\n",
      "Episode:141 meanR:-122.2415 R:-121.7771 gloss:-1.3812 dloss:0.6014\n",
      "Episode:142 meanR:-122.2330 R:-123.1850 gloss:-1.3916 dloss:0.6194\n",
      "Episode:143 meanR:-122.2770 R:-128.0511 gloss:-1.3838 dloss:0.5701\n",
      "Episode:144 meanR:-122.2853 R:-124.3608 gloss:-1.3901 dloss:0.5682\n",
      "Episode:145 meanR:-122.3233 R:-127.4553 gloss:-1.3702 dloss:0.5955\n",
      "Episode:146 meanR:-122.4251 R:-133.8620 gloss:-1.3683 dloss:0.5799\n",
      "Episode:147 meanR:-122.4742 R:-128.1790 gloss:-1.3626 dloss:0.5857\n",
      "Episode:148 meanR:-122.5589 R:-131.6548 gloss:-1.3653 dloss:0.5835\n",
      "Episode:149 meanR:-122.5551 R:-122.7203 gloss:-1.4628 dloss:0.5957\n",
      "Episode:150 meanR:-122.5536 R:-123.4662 gloss:-1.4659 dloss:0.5918\n",
      "Episode:151 meanR:-122.5510 R:-123.2214 gloss:-1.4667 dloss:0.5721\n",
      "Episode:152 meanR:-122.5482 R:-123.2246 gloss:-1.4546 dloss:0.5943\n",
      "Episode:153 meanR:-122.5434 R:-122.9509 gloss:-1.4097 dloss:0.5928\n",
      "Episode:154 meanR:-122.5412 R:-123.0306 gloss:-1.3921 dloss:0.5832\n",
      "Episode:155 meanR:-122.5383 R:-122.9713 gloss:-1.3738 dloss:0.5980\n",
      "Episode:156 meanR:-122.5163 R:-121.1206 gloss:-1.3625 dloss:0.6194\n",
      "Episode:157 meanR:-122.5049 R:-122.1965 gloss:-1.3473 dloss:0.5966\n",
      "Episode:158 meanR:-122.4865 R:-121.4868 gloss:-1.3442 dloss:0.6103\n",
      "Episode:159 meanR:-122.4860 R:-123.0419 gloss:-1.3331 dloss:0.6122\n",
      "Episode:160 meanR:-122.4786 R:-122.7303 gloss:-1.3324 dloss:0.5882\n",
      "Episode:161 meanR:-122.4843 R:-123.7234 gloss:-1.3443 dloss:0.6109\n",
      "Episode:162 meanR:-122.4859 R:-123.7117 gloss:-1.3330 dloss:0.5732\n",
      "Episode:163 meanR:-122.4890 R:-123.4620 gloss:-1.3397 dloss:0.5877\n",
      "Episode:164 meanR:-122.4926 R:-123.4875 gloss:-1.3332 dloss:0.5817\n",
      "Episode:165 meanR:-122.4964 R:-123.6716 gloss:-1.3390 dloss:0.5760\n",
      "Episode:166 meanR:-122.4973 R:-123.4004 gloss:-1.3330 dloss:0.5715\n",
      "Episode:167 meanR:-122.4985 R:-123.7097 gloss:-1.3400 dloss:0.5568\n",
      "Episode:168 meanR:-122.4992 R:-123.6524 gloss:-1.3562 dloss:0.5710\n",
      "Episode:169 meanR:-122.5017 R:-123.7289 gloss:-1.3461 dloss:0.5743\n",
      "Episode:170 meanR:-122.4985 R:-123.1423 gloss:-1.3772 dloss:0.5581\n",
      "Episode:171 meanR:-122.4908 R:-122.5795 gloss:-1.3684 dloss:0.5486\n",
      "Episode:172 meanR:-122.4867 R:-122.6756 gloss:-1.3744 dloss:0.5512\n",
      "Episode:173 meanR:-122.4748 R:-122.4287 gloss:-1.3766 dloss:0.5279\n",
      "Episode:174 meanR:-122.4661 R:-122.3532 gloss:-1.3719 dloss:0.5580\n",
      "Episode:175 meanR:-122.4561 R:-122.5102 gloss:-1.3682 dloss:0.5405\n",
      "Episode:176 meanR:-122.4526 R:-123.1775 gloss:-1.3667 dloss:0.5533\n",
      "Episode:177 meanR:-122.4434 R:-122.5910 gloss:-1.3911 dloss:0.5548\n",
      "Episode:178 meanR:-122.4388 R:-122.9693 gloss:-1.3769 dloss:0.5360\n",
      "Episode:179 meanR:-122.4327 R:-122.6743 gloss:-1.3888 dloss:0.5525\n",
      "Episode:180 meanR:-122.4288 R:-122.6967 gloss:-1.3705 dloss:0.5492\n",
      "Episode:181 meanR:-122.4184 R:-122.6171 gloss:-1.3884 dloss:0.5260\n",
      "Episode:182 meanR:-122.4115 R:-122.7887 gloss:-1.3700 dloss:0.5677\n",
      "Episode:183 meanR:-122.4668 R:-122.4194 gloss:-1.3893 dloss:0.5433\n",
      "Episode:184 meanR:-122.1492 R:-122.8474 gloss:-1.3728 dloss:0.5318\n",
      "Episode:185 meanR:-122.1440 R:-122.5337 gloss:-1.3868 dloss:0.5396\n",
      "Episode:186 meanR:-122.1718 R:-122.7374 gloss:-1.3616 dloss:0.5323\n",
      "Episode:187 meanR:-122.2578 R:-122.7606 gloss:-1.3919 dloss:0.5388\n",
      "Episode:188 meanR:-122.3671 R:-122.5317 gloss:-1.3745 dloss:0.5300\n",
      "Episode:189 meanR:-122.8575 R:-162.7333 gloss:-1.3576 dloss:0.4945\n",
      "Episode:190 meanR:-122.9090 R:-122.3899 gloss:-1.3351 dloss:0.4493\n",
      "Episode:191 meanR:-122.9652 R:-122.4484 gloss:-1.3444 dloss:0.4477\n",
      "Episode:192 meanR:-123.0351 R:-122.8582 gloss:-1.3303 dloss:0.4528\n",
      "Episode:193 meanR:-123.0738 R:-122.6491 gloss:-1.3350 dloss:0.4598\n",
      "Episode:194 meanR:-123.1717 R:-122.7533 gloss:-1.3450 dloss:0.4451\n",
      "Episode:195 meanR:-123.2560 R:-122.8601 gloss:-1.3433 dloss:0.4633\n",
      "Episode:196 meanR:-123.3562 R:-122.7608 gloss:-1.3382 dloss:0.4704\n",
      "Episode:197 meanR:-123.4143 R:-122.6076 gloss:-1.3360 dloss:0.4217\n",
      "Episode:198 meanR:-123.4996 R:-122.6657 gloss:-1.3318 dloss:0.4403\n",
      "Episode:199 meanR:-123.5592 R:-122.9617 gloss:-1.3389 dloss:0.4540\n",
      "Episode:200 meanR:-123.6173 R:-123.0755 gloss:-1.3368 dloss:0.4683\n",
      "Episode:201 meanR:-123.5310 R:-123.1881 gloss:-1.3342 dloss:0.4396\n",
      "Episode:202 meanR:-123.5362 R:-123.3872 gloss:-1.3425 dloss:0.4669\n",
      "Episode:203 meanR:-123.5370 R:-123.0621 gloss:-1.3455 dloss:0.4534\n",
      "Episode:204 meanR:-123.5413 R:-123.4335 gloss:-1.3529 dloss:0.4618\n",
      "Episode:205 meanR:-123.5451 R:-123.2732 gloss:-1.3520 dloss:0.4359\n",
      "Episode:206 meanR:-123.5488 R:-123.2063 gloss:-1.3427 dloss:0.4620\n",
      "Episode:207 meanR:-123.5491 R:-123.1606 gloss:-1.3412 dloss:0.4397\n",
      "Episode:208 meanR:-123.5489 R:-122.9618 gloss:-1.3456 dloss:0.4217\n",
      "Episode:209 meanR:-123.5437 R:-122.5101 gloss:-1.3494 dloss:0.4341\n",
      "Episode:210 meanR:-123.5424 R:-122.6870 gloss:-1.3369 dloss:0.4385\n",
      "Episode:211 meanR:-123.5474 R:-122.7125 gloss:-1.3431 dloss:0.4447\n",
      "Episode:212 meanR:-123.5400 R:-122.3408 gloss:-1.3360 dloss:0.4352\n",
      "Episode:213 meanR:-123.5317 R:-122.0552 gloss:-1.3484 dloss:0.4389\n",
      "Episode:214 meanR:-123.5289 R:-122.6389 gloss:-1.3454 dloss:0.4347\n",
      "Episode:215 meanR:-123.5274 R:-122.9075 gloss:-1.3467 dloss:0.4241\n",
      "Episode:216 meanR:-123.5267 R:-122.6355 gloss:-1.3457 dloss:0.4499\n",
      "Episode:217 meanR:-123.5258 R:-122.8199 gloss:-1.3408 dloss:0.4254\n",
      "Episode:218 meanR:-123.5221 R:-122.9386 gloss:-1.3531 dloss:0.4532\n",
      "Episode:219 meanR:-123.5238 R:-122.8627 gloss:-1.3549 dloss:0.4400\n",
      "Episode:220 meanR:-123.5246 R:-122.9695 gloss:-1.3575 dloss:0.4129\n",
      "Episode:221 meanR:-123.5166 R:-122.7428 gloss:-1.3489 dloss:0.4387\n",
      "Episode:222 meanR:-123.5126 R:-122.9420 gloss:-1.3438 dloss:0.4260\n",
      "Episode:223 meanR:-123.5062 R:-122.7909 gloss:-1.3457 dloss:0.4370\n",
      "Episode:224 meanR:-123.5026 R:-122.8845 gloss:-1.3665 dloss:0.4336\n",
      "Episode:225 meanR:-123.4995 R:-122.4604 gloss:-1.3580 dloss:0.4423\n",
      "Episode:226 meanR:-123.4961 R:-122.4628 gloss:-1.3493 dloss:0.4122\n",
      "Episode:227 meanR:-123.5048 R:-122.6743 gloss:-1.3585 dloss:0.4187\n",
      "Episode:228 meanR:-123.5024 R:-122.8177 gloss:-1.3520 dloss:0.4406\n",
      "Episode:229 meanR:-123.5056 R:-122.8833 gloss:-1.3457 dloss:0.4219\n",
      "Episode:230 meanR:-123.3951 R:-112.3093 gloss:-1.3612 dloss:0.4300\n",
      "Episode:231 meanR:-123.3967 R:-122.9105 gloss:-1.3664 dloss:0.4302\n",
      "Episode:232 meanR:-123.4113 R:-123.1069 gloss:-1.3519 dloss:0.4214\n",
      "Episode:233 meanR:-123.4238 R:-123.2553 gloss:-1.3636 dloss:0.4247\n",
      "Episode:234 meanR:-123.4388 R:-123.1040 gloss:-1.3565 dloss:0.4201\n",
      "Episode:235 meanR:-123.3320 R:-112.7641 gloss:-1.3566 dloss:0.4266\n",
      "Episode:236 meanR:-123.4494 R:-123.2764 gloss:-1.3681 dloss:0.4133\n",
      "Episode:237 meanR:-123.4405 R:-122.5999 gloss:-1.3590 dloss:0.4118\n",
      "Episode:238 meanR:-123.4344 R:-122.8843 gloss:-1.3745 dloss:0.3974\n",
      "Episode:239 meanR:-123.4193 R:-123.0161 gloss:-1.3665 dloss:0.4158\n",
      "Episode:240 meanR:-123.4167 R:-123.0005 gloss:-1.3642 dloss:0.4239\n",
      "Episode:241 meanR:-123.4338 R:-123.4917 gloss:-1.3556 dloss:0.4158\n",
      "Episode:242 meanR:-123.4343 R:-123.2267 gloss:-1.3760 dloss:0.4262\n",
      "Episode:243 meanR:-123.3886 R:-123.4890 gloss:-1.3577 dloss:0.4282\n",
      "Episode:244 meanR:-123.3820 R:-123.7011 gloss:-1.3614 dloss:0.4104\n",
      "Episode:245 meanR:-123.3436 R:-123.6081 gloss:-1.3508 dloss:0.4134\n",
      "Episode:246 meanR:-123.2378 R:-123.2896 gloss:-1.3676 dloss:0.4041\n",
      "Episode:247 meanR:-123.1909 R:-123.4877 gloss:-1.3719 dloss:0.4036\n"
     ]
    },
    {
     "name": "stdout",
     "output_type": "stream",
     "text": [
      "Episode:248 meanR:-123.1010 R:-122.6611 gloss:-1.3673 dloss:0.4286\n",
      "Episode:249 meanR:-123.1019 R:-122.8066 gloss:-1.3686 dloss:0.4130\n",
      "Episode:250 meanR:-123.0942 R:-122.7005 gloss:-1.3639 dloss:0.4047\n",
      "Episode:251 meanR:-123.0880 R:-122.6032 gloss:-1.3640 dloss:0.4017\n",
      "Episode:252 meanR:-123.0792 R:-122.3437 gloss:-1.3545 dloss:0.4116\n",
      "Episode:253 meanR:-123.0811 R:-123.1415 gloss:-1.3664 dloss:0.4265\n",
      "Episode:254 meanR:-123.0806 R:-122.9821 gloss:-1.3654 dloss:0.4042\n",
      "Episode:255 meanR:-123.0783 R:-122.7337 gloss:-1.3839 dloss:0.4079\n",
      "Episode:256 meanR:-123.0975 R:-123.0489 gloss:-1.3637 dloss:0.3932\n",
      "Episode:257 meanR:-123.1089 R:-123.3312 gloss:-1.3698 dloss:0.4205\n",
      "Episode:258 meanR:-123.1265 R:-123.2485 gloss:-1.3676 dloss:0.3937\n",
      "Episode:259 meanR:-123.1254 R:-122.9284 gloss:-1.3786 dloss:0.4046\n",
      "Episode:260 meanR:-123.1263 R:-122.8213 gloss:-1.3720 dloss:0.4109\n",
      "Episode:261 meanR:-123.1228 R:-123.3760 gloss:-1.3798 dloss:0.3873\n",
      "Episode:262 meanR:-123.1182 R:-123.2493 gloss:-1.3626 dloss:0.3997\n",
      "Episode:263 meanR:-123.1130 R:-122.9485 gloss:-1.3681 dloss:0.4041\n",
      "Episode:264 meanR:-123.1081 R:-122.9915 gloss:-1.3858 dloss:0.4000\n",
      "Episode:265 meanR:-123.0999 R:-122.8543 gloss:-1.3873 dloss:0.4096\n",
      "Episode:266 meanR:-123.0985 R:-123.2589 gloss:-1.3691 dloss:0.4063\n",
      "Episode:267 meanR:-123.0899 R:-122.8537 gloss:-1.3960 dloss:0.4166\n",
      "Episode:268 meanR:-123.0843 R:-123.0933 gloss:-1.3858 dloss:0.4014\n",
      "Episode:269 meanR:-123.0752 R:-122.8108 gloss:-1.3777 dloss:0.4097\n",
      "Episode:270 meanR:-123.1081 R:-126.4387 gloss:-1.3887 dloss:0.3949\n",
      "Episode:271 meanR:-123.1552 R:-127.2836 gloss:-1.3808 dloss:0.4117\n",
      "Episode:272 meanR:-123.2959 R:-136.7532 gloss:-1.3837 dloss:0.4037\n",
      "Episode:273 meanR:-123.4016 R:-132.9941 gloss:-1.3838 dloss:0.4019\n",
      "Episode:274 meanR:-123.3603 R:-118.2224 gloss:-1.3833 dloss:0.4234\n",
      "Episode:275 meanR:-123.3348 R:-119.9570 gloss:-1.3769 dloss:0.4054\n",
      "Episode:276 meanR:-123.2469 R:-114.3937 gloss:-1.3758 dloss:0.4130\n",
      "Episode:277 meanR:-123.3293 R:-130.8329 gloss:-1.3770 dloss:0.4281\n",
      "Episode:278 meanR:-123.2830 R:-118.3400 gloss:-1.3773 dloss:0.4163\n",
      "Episode:279 meanR:-123.3537 R:-129.7421 gloss:-1.3760 dloss:0.4033\n",
      "Episode:280 meanR:-123.3063 R:-117.9535 gloss:-1.3895 dloss:0.4063\n",
      "Episode:281 meanR:-123.5352 R:-145.5063 gloss:-1.3771 dloss:0.4129\n",
      "Episode:282 meanR:-123.6241 R:-131.6842 gloss:-1.3740 dloss:0.3971\n",
      "Episode:283 meanR:-123.7618 R:-136.1840 gloss:-1.3713 dloss:0.4052\n",
      "Episode:284 meanR:-123.7207 R:-118.7385 gloss:-1.3782 dloss:0.4057\n",
      "Episode:285 meanR:-123.6414 R:-114.6072 gloss:-1.3837 dloss:0.3984\n",
      "Episode:286 meanR:-123.6789 R:-126.4888 gloss:-1.3775 dloss:0.4014\n",
      "Episode:287 meanR:-123.7787 R:-132.7330 gloss:-1.3814 dloss:0.4115\n",
      "Episode:288 meanR:-123.8715 R:-131.8171 gloss:-1.3812 dloss:0.4122\n",
      "Episode:289 meanR:-123.5643 R:-132.0063 gloss:-1.3859 dloss:0.4024\n",
      "Episode:290 meanR:-123.6152 R:-127.4895 gloss:-1.3692 dloss:0.3916\n",
      "Episode:291 meanR:-123.5893 R:-119.8522 gloss:-1.3644 dloss:0.3868\n",
      "Episode:292 meanR:-123.5218 R:-116.1116 gloss:-1.3706 dloss:0.3918\n",
      "Episode:293 meanR:-123.5115 R:-121.6156 gloss:-1.3701 dloss:0.3892\n",
      "Episode:294 meanR:-123.4749 R:-119.0962 gloss:-1.3773 dloss:0.3826\n",
      "Episode:295 meanR:-123.4241 R:-117.7822 gloss:-1.3632 dloss:0.3782\n",
      "Episode:296 meanR:-123.3844 R:-118.7875 gloss:-1.3675 dloss:0.3753\n",
      "Episode:297 meanR:-123.3672 R:-120.8864 gloss:-1.3656 dloss:0.3882\n",
      "Episode:298 meanR:-123.3031 R:-116.2554 gloss:-1.3723 dloss:0.3873\n",
      "Episode:299 meanR:-123.2661 R:-119.2647 gloss:-1.3672 dloss:0.3825\n",
      "Episode:300 meanR:-123.2369 R:-120.1525 gloss:-1.3724 dloss:0.3980\n",
      "Episode:301 meanR:-123.1701 R:-116.5091 gloss:-1.3810 dloss:0.4004\n",
      "Episode:302 meanR:-123.1165 R:-118.0255 gloss:-1.3723 dloss:0.3930\n",
      "Episode:303 meanR:-123.0757 R:-118.9813 gloss:-1.3728 dloss:0.3875\n",
      "Episode:304 meanR:-123.0556 R:-121.4314 gloss:-1.3754 dloss:0.4153\n",
      "Episode:305 meanR:-123.0194 R:-119.6452 gloss:-1.3720 dloss:0.3943\n",
      "Episode:306 meanR:-122.9851 R:-119.7835 gloss:-1.3771 dloss:0.4045\n",
      "Episode:307 meanR:-122.9362 R:-118.2702 gloss:-1.3732 dloss:0.3932\n",
      "Episode:308 meanR:-122.9026 R:-119.5988 gloss:-1.3684 dloss:0.4198\n",
      "Episode:309 meanR:-122.8920 R:-121.4456 gloss:-1.3738 dloss:0.4154\n",
      "Episode:310 meanR:-122.9931 R:-132.8032 gloss:-1.3635 dloss:0.4064\n",
      "Episode:311 meanR:-122.9757 R:-120.9667 gloss:-1.3669 dloss:0.4041\n",
      "Episode:312 meanR:-122.9362 R:-118.3963 gloss:-1.3640 dloss:0.4085\n",
      "Episode:313 meanR:-122.9036 R:-118.7972 gloss:-1.3592 dloss:0.4143\n",
      "Episode:314 meanR:-122.8786 R:-120.1338 gloss:-1.3582 dloss:0.4204\n",
      "Episode:315 meanR:-122.8487 R:-119.9209 gloss:-1.3596 dloss:0.4143\n",
      "Episode:316 meanR:-122.8202 R:-119.7786 gloss:-1.3584 dloss:0.4044\n",
      "Episode:317 meanR:-122.9425 R:-135.0538 gloss:-1.3683 dloss:0.4207\n",
      "Episode:318 meanR:-122.9114 R:-119.8244 gloss:-1.3467 dloss:0.4072\n",
      "Episode:319 meanR:-122.8714 R:-118.8705 gloss:-1.3502 dloss:0.4180\n",
      "Episode:320 meanR:-122.7933 R:-115.1566 gloss:-1.3461 dloss:0.4177\n",
      "Episode:321 meanR:-122.9269 R:-136.1035 gloss:-1.3458 dloss:0.4245\n",
      "Episode:322 meanR:-122.8682 R:-117.0670 gloss:-1.3543 dloss:0.4297\n",
      "Episode:323 meanR:-122.8375 R:-119.7216 gloss:-1.3418 dloss:0.4300\n",
      "Episode:324 meanR:-122.8026 R:-119.4007 gloss:-1.3285 dloss:0.4101\n",
      "Episode:325 meanR:-122.7635 R:-118.5476 gloss:-1.3415 dloss:0.4233\n",
      "Episode:326 meanR:-122.7456 R:-120.6703 gloss:-1.3355 dloss:0.4152\n",
      "Episode:327 meanR:-122.7046 R:-118.5776 gloss:-1.3328 dloss:0.4110\n",
      "Episode:328 meanR:-122.6691 R:-119.2631 gloss:-1.3392 dloss:0.4239\n",
      "Episode:329 meanR:-122.6291 R:-118.8911 gloss:-1.3306 dloss:0.4272\n",
      "Episode:330 meanR:-122.6891 R:-118.3034 gloss:-1.3426 dloss:0.4250\n",
      "Episode:331 meanR:-122.7491 R:-128.9087 gloss:-1.3254 dloss:0.4241\n",
      "Episode:332 meanR:-122.6974 R:-117.9359 gloss:-1.3244 dloss:0.4142\n"
     ]
    }
   ],
   "source": [
    "# Save/load the model and save for plotting\n",
    "saver = tf.train.Saver()\n",
    "episode_rewards_list, rewards_list, gloss_list, dloss_list = [], [], [], []\n",
    "\n",
    "# TF session for training\n",
    "with tf.Session(graph=graph) as sess:\n",
    "    sess.run(tf.global_variables_initializer())\n",
    "    #saver.restore(sess, 'checkpoints/model2.ckpt')    \n",
    "    #saver.restore(sess, tf.train.latest_checkpoint('checkpoints'))\n",
    "    episode_reward = deque(maxlen=100) # 100 episodes average/running average/running mean/window\n",
    "    \n",
    "    # Training episodes/epochs\n",
    "    for ep in range(11111111111):\n",
    "        total_reward = 0\n",
    "        gloss_batch, dloss_batch = [], []\n",
    "        state = env.reset()\n",
    "        state_ = np.zeros_like(state)\n",
    "\n",
    "        # Training steps/batches\n",
    "        while True:\n",
    "            env.render()\n",
    "            action_pred = sess.run(model.actions_pred, feed_dict={model.states: state.reshape([1, -1]),\n",
    "                                                                  model.rewards: state_.reshape([1, -1])})\n",
    "            noise = np.random.normal(loc=0, scale=0.1, size=action_size) # randomness\n",
    "            action = action_pred.reshape([-1]) + noise\n",
    "            #print(action.shape, action_logits.shape, noise.shape)\n",
    "            action = np.clip(action, -1, 1) # clipped\n",
    "            next_state, reward, done, _ = env.step(action)\n",
    "            #rate = -1 # success rate: -1 to +1\n",
    "            memory.buffer.append([state, state_, action, next_state])\n",
    "            #num_step += 1 # memory updated\n",
    "            total_reward += reward # max reward 300\n",
    "            state = next_state\n",
    "            next_state_pred = sess.run(model.next_states_pred, feed_dict={model.states: state.reshape([1, -1]),\n",
    "                                                                          model.actions: action.reshape([1, -1])})\n",
    "            state_ = next_state_pred.reshape([-1])\n",
    "            #print(state.shape, state_.shape, action.shape, next_state.shape)\n",
    "            #print(state.dtype, state_.dtype, action.dtype, next_state.dtype)\n",
    "            \n",
    "            # Training\n",
    "            if len(memory.buffer) >= batch_size:\n",
    "                #print('memory readyyyyyyyyyyyyyyyyyyyyy')\n",
    "                batch = memory.sample(batch_size)\n",
    "                states = np.array([each[0] for each in batch])\n",
    "                states_ = np.array([each[1] for each in batch])\n",
    "                actions = np.array([each[2] for each in batch])\n",
    "                next_states = np.array([each[3] for each in batch])\n",
    "                #print(states.shape, states_.shape, actions.shape, next_states.shape)\n",
    "                #print(states.dtype, states_.dtype, actions.dtype, next_states.dtype)\n",
    "                #next_states_logits = sess.run(model.next_states_pred, feed_dict = {model.states: next_states})\n",
    "                #nextQs = np.max(nextQs_logits, axis=1) * (1-dones) # discrete DQN\n",
    "                #nextQs = nextQs_logits.reshape([-1]) * (1-dones) # continuous DPG\n",
    "                #targetQs = rewards + (gamma * nextQs)\n",
    "                gloss, dloss, _, _ = sess.run([model.g_loss, model.d_loss, model.g_opt, model.d_opt],\n",
    "                                              feed_dict = {model.states: states, \n",
    "                                                           model.actions: actions,\n",
    "                                                           model.next_states: next_states, \n",
    "                                                           model.rewards: states_})\n",
    "                gloss_batch.append(gloss)\n",
    "                dloss_batch.append(dloss)\n",
    "                \n",
    "            if done is True:\n",
    "                #print(len(memory.buffer))\n",
    "                break\n",
    "                \n",
    "        episode_reward.append(total_reward)\n",
    "        print('Episode:{}'.format(ep),\n",
    "              'meanR:{:.4f}'.format(np.mean(episode_reward)),\n",
    "              'R:{:.4f}'.format(total_reward),\n",
    "              'gloss:{:.4f}'.format(np.mean(gloss_batch)),\n",
    "              'dloss:{:.4f}'.format(np.mean(dloss_batch)))\n",
    "        # Ploting out\n",
    "        episode_rewards_list.append([ep, np.mean(episode_reward)])\n",
    "        rewards_list.append([ep, total_reward])\n",
    "        gloss_list.append([ep, np.mean(gloss_batch)])\n",
    "        dloss_list.append([ep, np.mean(dloss_batch)])\n",
    "        # Break episode/epoch loop\n",
    "        # Did not solve the environment. \n",
    "        # Best 100-episode average reward was 220.62 ± 0.69. \n",
    "        # (BipedalWalker-v2 is considered \"solved\" \n",
    "        #  when the agent obtains an average reward of at least 300 over 100 consecutive episodes.)        \n",
    "        if np.mean(episode_reward) >= 300:\n",
    "            break\n",
    "            \n",
    "    # At the end of all training episodes/epochs\n",
    "    saver.save(sess, 'checkpoints/model.ckpt')"
   ]
  },
  {
   "cell_type": "markdown",
   "metadata": {},
   "source": [
    "# Visualizing training\n",
    "\n",
    "Below I'll plot the total rewards for each episode. I'm plotting the rolling average too, in blue."
   ]
  },
  {
   "cell_type": "code",
   "execution_count": 43,
   "metadata": {},
   "outputs": [],
   "source": [
    "import matplotlib.pyplot as plt\n",
    "%matplotlib inline\n",
    "\n",
    "def running_mean(x, N):\n",
    "    cumsum = np.cumsum(np.insert(x, 0, 0)) \n",
    "    return (cumsum[N:] - cumsum[:-N]) / N "
   ]
  },
  {
   "cell_type": "code",
   "execution_count": 44,
   "metadata": {},
   "outputs": [
    {
     "data": {
      "text/plain": [
       "Text(0, 0.5, 'Total rewards')"
      ]
     },
     "execution_count": 44,
     "metadata": {},
     "output_type": "execute_result"
    },
    {
     "data": {
      "image/png": "[encoded data removed]",
      "text/plain": [
       "<Figure size 432x288 with 1 Axes>"
      ]
     },
     "metadata": {
      "needs_background": "light"
     },
     "output_type": "display_data"
    }
   ],
   "source": [
    "eps, arr = np.array(episode_rewards_list).T\n",
    "smoothed_arr = running_mean(arr, 10)\n",
    "plt.plot(eps[-len(smoothed_arr):], smoothed_arr)\n",
    "plt.plot(eps, arr, color='grey', alpha=0.3)\n",
    "plt.xlabel('Episode')\n",
    "plt.ylabel('Total rewards')"
   ]
  },
  {
   "cell_type": "code",
   "execution_count": 45,
   "metadata": {},
   "outputs": [
    {
     "data": {
      "text/plain": [
       "Text(0, 0.5, 'Total rewards')"
      ]
     },
     "execution_count": 45,
     "metadata": {},
     "output_type": "execute_result"
    },
    {
     "data": {
      "image/png": "[encoded data removed]",
      "text/plain": [
       "<Figure size 432x288 with 1 Axes>"
      ]
     },
     "metadata": {
      "needs_background": "light"
     },
     "output_type": "display_data"
    }
   ],
   "source": [
    "eps, arr = np.array(rewards_list).T\n",
    "smoothed_arr = running_mean(arr, 10)\n",
    "plt.plot(eps[-len(smoothed_arr):], smoothed_arr)\n",
    "plt.plot(eps, arr, color='grey', alpha=0.3)\n",
    "plt.xlabel('Episode')\n",
    "plt.ylabel('Total rewards')"
   ]
  },
  {
   "cell_type": "code",
   "execution_count": 46,
   "metadata": {},
   "outputs": [
    {
     "data": {
      "text/plain": [
       "Text(0, 0.5, 'G losses')"
      ]
     },
     "execution_count": 46,
     "metadata": {},
     "output_type": "execute_result"
    },
    {
     "data": {
      "image/png": "[encoded data removed]",
      "text/plain": [
       "<Figure size 432x288 with 1 Axes>"
      ]
     },
     "metadata": {
      "needs_background": "light"
     },
     "output_type": "display_data"
    }
   ],
   "source": [
    "eps, arr = np.array(gloss_list).T\n",
    "smoothed_arr = running_mean(arr, 10)\n",
    "plt.plot(eps[-len(smoothed_arr):], smoothed_arr)\n",
    "plt.plot(eps, arr, color='grey', alpha=0.3)\n",
    "plt.xlabel('Episode')\n",
    "plt.ylabel('G losses')"
   ]
  },
  {
   "cell_type": "code",
   "execution_count": 47,
   "metadata": {},
   "outputs": [
    {
     "data": {
      "text/plain": [
       "Text(0, 0.5, 'D losses')"
      ]
     },
     "execution_count": 47,
     "metadata": {},
     "output_type": "execute_result"
    },
    {
     "data": {
      "image/png": "[encoded data removed]",
      "text/plain": [
       "<Figure size 432x288 with 1 Axes>"
      ]
     },
     "metadata": {
      "needs_background": "light"
     },
     "output_type": "display_data"
    }
   ],
   "source": [
    "eps, arr = np.array(dloss_list).T\n",
    "smoothed_arr = running_mean(arr, 10)\n",
    "plt.plot(eps[-len(smoothed_arr):], smoothed_arr)\n",
    "plt.plot(eps, arr, color='grey', alpha=0.3)\n",
    "plt.xlabel('Episode')\n",
    "plt.ylabel('D losses')"
   ]
  },
  {
   "cell_type": "markdown",
   "metadata": {},
   "source": [
    "## Testing\n",
    "\n",
    "Let's checkout how our trained agent plays the game."
   ]
  },
  {
   "cell_type": "code",
   "execution_count": 46,
   "metadata": {},
   "outputs": [
    {
     "name": "stdout",
     "output_type": "stream",
     "text": [
      "\u001b[33mWARN: gym.spaces.Box autodetected dtype as <class 'numpy.float32'>. Please provide explicit dtype.\u001b[0m\n",
      "\u001b[33mWARN: gym.spaces.Box autodetected dtype as <class 'numpy.float32'>. Please provide explicit dtype.\u001b[0m\n",
      "INFO:tensorflow:Restoring parameters from checkpoints/model.ckpt\n",
      "total_reward: -130.50857430583363\n"
     ]
    }
   ],
   "source": [
    "import gym\n",
    "env = gym.make('BipedalWalker-v2')\n",
    "\n",
    "with tf.Session() as sess:\n",
    "    sess.run(tf.global_variables_initializer())\n",
    "    #saver.restore(sess, 'checkpoints/model2.ckpt')    \n",
    "    saver.restore(sess, tf.train.latest_checkpoint('checkpoints'))\n",
    "    \n",
    "    # Episodes/epochs\n",
    "    for _ in range(1):\n",
    "        state = env.reset()\n",
    "        total_reward = 0\n",
    "\n",
    "        # Steps/batches\n",
    "        while True:\n",
    "            env.render()\n",
    "            action_logits = sess.run(model.actions_logits, feed_dict={model.states: state.reshape([1, -1])})\n",
    "            action = np.reshape(action_logits, [-1]) # For continuous action space\n",
    "            #action = np.argmax(action_logits)\n",
    "            state, reward, done, _ = env.step(action)\n",
    "            total_reward += reward\n",
    "            if done:\n",
    "                print('total_reward: {}'.format(total_reward))\n",
    "                break\n",
    "                \n",
    "env.close()"
   ]
  },
  {
   "cell_type": "markdown",
   "metadata": {},
   "source": [
    "## Extending this\n",
    "\n",
    "So, Cart-Pole is a pretty simple game. However, the same model can be used to train an agent to play something much more complicated like Pong or Space Invaders. Instead of a state like we're using here though, you'd want to use convolutional layers to get the state from the screen images.\n",
    "\n",
    "![Deep Q-Learning Atari](assets/atari-network.png)\n",
    "\n",
    "I'll leave it as a challenge for you to use deep Q-learning to train an agent to play Atari games. Here's the original paper which will get you started: http://www.davidqiu.com:8888/research/nature14236.pdf."
   ]
  },
  {
   "cell_type": "code",
   "execution_count": null,
   "metadata": {},
   "outputs": [],
   "source": []
  }
 ],
 "metadata": {
  "kernelspec": {
   "display_name": "Python 3",
   "language": "python",
   "name": "python3"
  },
  "language_info": {
   "codemirror_mode": {
    "name": "ipython",
    "version": 3
   },
   "file_extension": ".py",
   "mimetype": "text/x-python",
   "name": "python",
   "nbconvert_exporter": "python",
   "pygments_lexer": "ipython3",
   "version": "3.6.8"
  }
 },
 "nbformat": 4,
 "nbformat_minor": 2
}
