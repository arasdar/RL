{
 "cells": [
  {
   "cell_type": "code",
   "execution_count": 1,
   "metadata": {},
   "outputs": [
    {
     "name": "stdout",
     "output_type": "stream",
     "text": [
      "TensorFlow Version: 1.7.1\n",
      "Default GPU Device: \n"
     ]
    }
   ],
   "source": [
    "import tensorflow as tf\n",
    "print('TensorFlow Version: {}'.format(tf.__version__))\n",
    "print('Default GPU Device: {}'.format(tf.test.gpu_device_name()))"
   ]
  },
  {
   "cell_type": "markdown",
   "metadata": {},
   "source": [
    "##### >**Note:** Make sure you have OpenAI Gym cloned. Then run this command `pip install -e gym/[all]`."
   ]
  },
  {
   "cell_type": "code",
   "execution_count": 2,
   "metadata": {},
   "outputs": [],
   "source": [
    "import numpy as np\n",
    "import gym\n",
    "env = gym.make('CartPole-v0')\n",
    "env = gym.make('CartPole-v1')"
   ]
  },
  {
   "cell_type": "code",
   "execution_count": 3,
   "metadata": {},
   "outputs": [],
   "source": [
    "def model_input(state_size):\n",
    "    #states = tf.placeholder(tf.float32, [None, *state_size], name='states')\n",
    "    states = tf.placeholder(tf.float32, [None, state_size], name='states')\n",
    "    actions = tf.placeholder(tf.int32, [None], name='actions')\n",
    "    next_states = tf.placeholder(tf.float32, [None, state_size], name='next_states')\n",
    "    rewards = tf.placeholder(tf.float32, [None], name='rewards')\n",
    "    dones = tf.placeholder(tf.float32, [None], name='dones')\n",
    "    rates = tf.placeholder(tf.float32, [None], name='rates') # success rate\n",
    "    return states, actions, next_states, rewards, dones, rates"
   ]
  },
  {
   "cell_type": "code",
   "execution_count": 4,
   "metadata": {},
   "outputs": [],
   "source": [
    "def Act(states, action_size, hidden_size, reuse=False, alpha=0.1, training=False):\n",
    "    with tf.variable_scope('Act', reuse=reuse):\n",
    "        # First fully connected layer\n",
    "        h1 = tf.layers.dense(inputs=states, units=hidden_size)\n",
    "        bn1 = tf.layers.batch_normalization(h1, training=training)        \n",
    "        nl1 = tf.maximum(alpha * bn1, bn1)\n",
    "        \n",
    "        # Second fully connected layer\n",
    "        h2 = tf.layers.dense(inputs=nl1, units=hidden_size)\n",
    "        bn2 = tf.layers.batch_normalization(h2, training=training)        \n",
    "        nl2 = tf.maximum(alpha * bn2, bn2)\n",
    "        \n",
    "        # Output layer\n",
    "        logits = tf.layers.dense(inputs=nl2, units=action_size)        \n",
    "        return logits"
   ]
  },
  {
   "cell_type": "code",
   "execution_count": 5,
   "metadata": {},
   "outputs": [],
   "source": [
    "def Env(states, actions, state_size, action_size, hidden_size, reuse=False, alpha=0.1, training=False):\n",
    "    with tf.variable_scope('Env', reuse=reuse):\n",
    "        # First fully connected layer\n",
    "        h1 = tf.layers.dense(inputs=states, units=action_size)\n",
    "        bn1 = tf.layers.batch_normalization(h1, training=training)        \n",
    "        nl1 = tf.maximum(alpha * bn1, bn1)\n",
    "        \n",
    "        # Second fully connected layer\n",
    "        nl1_fused = tf.concat(axis=1, values=[nl1, actions])\n",
    "        h2 = tf.layers.dense(inputs=nl1_fused, units=hidden_size)\n",
    "        bn2 = tf.layers.batch_normalization(h2, training=training)        \n",
    "        nl2 = tf.maximum(alpha * bn2, bn2)\n",
    "                \n",
    "        # Output layer\n",
    "        states_logits = tf.layers.dense(inputs=nl2, units=state_size, trainable=False)\n",
    "        Qlogits = tf.layers.dense(inputs=nl2, units=1, trainable=False)\n",
    "        return states_logits, Qlogits"
   ]
  },
  {
   "cell_type": "code",
   "execution_count": 6,
   "metadata": {},
   "outputs": [],
   "source": [
    "def model_loss(state_size, action_size, hidden_size, gamma,\n",
    "               states, actions, next_states, rewards, dones, rates):\n",
    "    ################################################ a = act(s)\n",
    "    actions_logits = Act(states=states, hidden_size=hidden_size, action_size=action_size)\n",
    "    actions_labels = tf.one_hot(indices=actions, depth=action_size, dtype=actions_logits.dtype)\n",
    "    aloss = tf.reduce_mean(tf.nn.softmax_cross_entropy_with_logits_v2(logits=actions_logits, \n",
    "                                                                      labels=actions_labels))\n",
    "    ################################################ s', r = env(s, a)\n",
    "    e_next_states_logits, eQs = Env(actions=actions_labels, states=states, hidden_size=hidden_size, \n",
    "                                    action_size=action_size, state_size=state_size)\n",
    "    a_next_states_logits, aQs = Env(actions=actions_logits, states=states, hidden_size=hidden_size, \n",
    "                                    action_size=action_size, state_size=state_size, reuse=True)\n",
    "    next_states_labels = tf.nn.sigmoid(next_states)\n",
    "    eloss = tf.reduce_mean(tf.nn.sigmoid_cross_entropy_with_logits(logits=e_next_states_logits, # GQN\n",
    "                                                                   labels=next_states_labels))\n",
    "#     eloss += -tf.reduce_mean(tf.nn.sigmoid_cross_entropy_with_logits(logits=a_next_states_logits, \n",
    "#                                                                      labels=next_states_labels)) # maximize loss\n",
    "    aloss2 = tf.reduce_mean(tf.nn.sigmoid_cross_entropy_with_logits(logits=a_next_states_logits, \n",
    "                                                                    labels=next_states_labels)) # minimize loss\n",
    "    eQs_logits = tf.reshape(eQs, shape=[-1])\n",
    "    aQs_logits = tf.reshape(aQs, shape=[-1])\n",
    "    #################################################### s'', Q' = ~env(s', ~a')\n",
    "    next_actions_logits = Act(states=next_states, hidden_size=hidden_size, action_size=action_size, reuse=True)\n",
    "    _, aQs2 = Env(actions=next_actions_logits, states=next_states, hidden_size=hidden_size, \n",
    "                  action_size=action_size, state_size=state_size, reuse=True)\n",
    "    aQs2_logits = tf.reshape(aQs2, shape=[-1]) * (1-dones)\n",
    "    eloss += tf.reduce_mean(tf.nn.sigmoid_cross_entropy_with_logits(logits=eQs_logits, # GAN\n",
    "                                                                    labels=rates)) # 0-1 real\n",
    "#     eloss += tf.reduce_mean(tf.nn.sigmoid_cross_entropy_with_logits(logits=(aQs_logits+aQs2_logits)/2, # GAN\n",
    "#                                                                     labels=tf.zeros_like(rates))) # min\n",
    "#     aloss2 += tf.reduce_mean(tf.nn.sigmoid_cross_entropy_with_logits(logits=(aQs_logits+aQs2_logits)/2, # GAN\n",
    "#                                                                      labels=tf.ones_like(rates))) # max\n",
    "    ###################################################### Q(s,a)= r + Q'(s',a')\n",
    "    targetQs = rewards + (gamma * aQs2_logits) # DQN/Qlearning\n",
    "    eloss += tf.reduce_mean(tf.square(eQs_logits - targetQs)) # real\n",
    "#     eloss += tf.reduce_mean(tf.square(aQs_logits - rewards)) # min\n",
    "#     aloss2 += tf.reduce_mean(tf.square(aQs_logits - targetQs)) # max\n",
    "    eloss += tf.reduce_mean((aQs_logits+aQs2_logits)/2) # min\n",
    "    aloss2 += -tf.reduce_mean((aQs_logits+aQs2_logits)/2) # max\n",
    "    return actions_logits, aloss, eloss, aloss2"
   ]
  },
  {
   "cell_type": "code",
   "execution_count": 7,
   "metadata": {},
   "outputs": [],
   "source": [
    "def model_opt(a_loss, e_loss, a_loss2, a_learning_rate, e_learning_rate):\n",
    "    # Get weights and bias to update\n",
    "    t_vars = tf.trainable_variables()\n",
    "    a_vars = [var for var in t_vars if var.name.startswith('Act')]\n",
    "    e_vars = [var for var in t_vars if var.name.startswith('Env')]\n",
    "\n",
    "    # Optimize\n",
    "    with tf.control_dependencies(tf.get_collection(tf.GraphKeys.UPDATE_OPS)): # Required for batchnorm (BN)\n",
    "        a_opt = tf.train.AdamOptimizer(a_learning_rate).minimize(a_loss, var_list=a_vars)\n",
    "        e_opt = tf.train.AdamOptimizer(e_learning_rate).minimize(e_loss, var_list=e_vars)\n",
    "        a_opt2 = tf.train.AdamOptimizer(a_learning_rate).minimize(a_loss2, var_list=a_vars)\n",
    "    return a_opt, e_opt, a_opt2"
   ]
  },
  {
   "cell_type": "code",
   "execution_count": 8,
   "metadata": {},
   "outputs": [],
   "source": [
    "class Model:\n",
    "    def __init__(self, state_size, action_size, hidden_size, a_learning_rate, e_learning_rate, gamma):\n",
    "\n",
    "        # Data of the Model: make the data available inside the framework\n",
    "        self.states, self.actions, self.next_states, self.rewards, self.dones, self.rates = model_input(\n",
    "            state_size=state_size)\n",
    "\n",
    "        # Create the Model: calculating the loss and forwad pass\n",
    "        self.actions_logits, self.a_loss, self.e_loss, self.a_loss2 = model_loss(\n",
    "            state_size=state_size, action_size=action_size, hidden_size=hidden_size, gamma=gamma, # model init\n",
    "            states=self.states, actions=self.actions, next_states=self.next_states, \n",
    "            rewards=self.rewards, dones=self.dones, rates=self.rates) # model input\n",
    "        \n",
    "        # Update the model: backward pass and backprop\n",
    "        self.a_opt, self.e_opt, self.a_opt2 = model_opt(a_loss=self.a_loss, \n",
    "                                                        e_loss=self.e_loss,\n",
    "                                                        a_loss2=self.a_loss2, \n",
    "                                                        a_learning_rate=a_learning_rate,\n",
    "                                                        e_learning_rate=e_learning_rate)"
   ]
  },
  {
   "cell_type": "code",
   "execution_count": 9,
   "metadata": {},
   "outputs": [],
   "source": [
    "from collections import deque\n",
    "class Memory():\n",
    "    def __init__(self, max_size = 1000):\n",
    "        self.buffer = deque(maxlen=max_size) # data batch\n",
    "#     def sample(self, batch_size):\n",
    "#         idx = np.random.choice(np.arange(len(self.buffer)), size=batch_size, replace=False)\n",
    "#         return [self.buffer[ii] for ii in idx]"
   ]
  },
  {
   "cell_type": "markdown",
   "metadata": {},
   "source": [
    "## Hyperparameters\n",
    "\n",
    "One of the more difficult aspects of reinforcememt learning are the large number of hyperparameters. Not only are we tuning the network, but we're tuning the simulation."
   ]
  },
  {
   "cell_type": "code",
   "execution_count": 10,
   "metadata": {},
   "outputs": [
    {
     "data": {
      "text/plain": [
       "(Box(4,), Discrete(2))"
      ]
     },
     "execution_count": 10,
     "metadata": {},
     "output_type": "execute_result"
    }
   ],
   "source": [
    "env.observation_space, env.action_space"
   ]
  },
  {
   "cell_type": "code",
   "execution_count": 11,
   "metadata": {},
   "outputs": [],
   "source": [
    "# Exploration parameters\n",
    "explore_start = 1.0            # exploration probability at start\n",
    "explore_stop = 0.01           # minimum exploration probability \n",
    "decay_rate = 0.0001            # exponential decay rate for exploration prob\n",
    "\n",
    "# Network parameters\n",
    "state_size = 4\n",
    "action_size = 2\n",
    "hidden_size = 4*2             # number of units in each Q-network hidden layer\n",
    "a_learning_rate = 1e-4         # Q-network learning rate\n",
    "e_learning_rate = 1e-4         # Q-network learning rate\n",
    "\n",
    "# Memory parameters\n",
    "memory_size = int(1e5)            # memory capacity\n",
    "batch_size = int(1e3)             # experience mini-batch size\n",
    "gamma=0.99"
   ]
  },
  {
   "cell_type": "code",
   "execution_count": 12,
   "metadata": {},
   "outputs": [],
   "source": [
    "# Reset/init the graph/session\n",
    "graph = tf.reset_default_graph()\n",
    "\n",
    "# Init the model\n",
    "model = Model(action_size=action_size, state_size=state_size, hidden_size=hidden_size, gamma=gamma,\n",
    "              a_learning_rate=a_learning_rate, e_learning_rate=e_learning_rate)\n",
    "\n",
    "# Init the memory\n",
    "memory = Memory(max_size=memory_size)"
   ]
  },
  {
   "cell_type": "code",
   "execution_count": 13,
   "metadata": {},
   "outputs": [],
   "source": [
    "state = env.reset()\n",
    "total_reward = 0\n",
    "num_step = 0\n",
    "for _ in range(memory_size):\n",
    "    action = env.action_space.sample()\n",
    "    next_state, reward, done, _ = env.step(action)\n",
    "    rate = -1\n",
    "    memory.buffer.append([state, action, next_state, reward, float(done), rate])\n",
    "    num_step += 1 # memory incremented\n",
    "    total_reward += reward\n",
    "    state = next_state\n",
    "    if done is True:\n",
    "        rate = total_reward/500\n",
    "        for idx in range(num_step): # episode length\n",
    "            if memory.buffer[-1-idx][-1] == -1:\n",
    "                memory.buffer[-1-idx][-1] = rate\n",
    "        state = env.reset()\n",
    "        total_reward = 0 # reset\n",
    "        num_step = 0 # reset"
   ]
  },
  {
   "cell_type": "markdown",
   "metadata": {},
   "source": [
    "## Training the model\n",
    "\n",
    "Below we'll train our agent. If you want to watch it train, uncomment the `env.render()` line. This is slow because it's rendering the frames slower than the network can train. But, it's cool to watch the agent get better at the game."
   ]
  },
  {
   "cell_type": "code",
   "execution_count": null,
   "metadata": {},
   "outputs": [
    {
     "name": "stdout",
     "output_type": "stream",
     "text": [
      "Episode:0 meanR:15.0000 R:15.0000 rate:0.0300 aloss:0.7270 eloss:2.6808 aloss2:0.8668 exploreP:0.9985\n",
      "Episode:1 meanR:19.5000 R:24.0000 rate:0.0480 aloss:0.7220 eloss:2.7801 aloss2:0.8236 exploreP:0.9961\n",
      "Episode:2 meanR:17.3333 R:13.0000 rate:0.0260 aloss:0.7227 eloss:2.7412 aloss2:0.8385 exploreP:0.9949\n",
      "Episode:3 meanR:18.0000 R:20.0000 rate:0.0400 aloss:0.7156 eloss:2.7566 aloss2:0.8209 exploreP:0.9929\n",
      "Episode:4 meanR:18.0000 R:18.0000 rate:0.0360 aloss:0.7071 eloss:2.7666 aloss2:0.8151 exploreP:0.9911\n",
      "Episode:5 meanR:17.3333 R:14.0000 rate:0.0280 aloss:0.7046 eloss:2.6260 aloss2:0.8838 exploreP:0.9898\n",
      "Episode:6 meanR:20.4286 R:39.0000 rate:0.0780 aloss:0.7051 eloss:2.6867 aloss2:0.8568 exploreP:0.9859\n",
      "Episode:7 meanR:19.7500 R:15.0000 rate:0.0300 aloss:0.6943 eloss:2.6648 aloss2:0.8471 exploreP:0.9845\n",
      "Episode:8 meanR:19.8889 R:21.0000 rate:0.0420 aloss:0.6981 eloss:2.6729 aloss2:0.8417 exploreP:0.9824\n",
      "Episode:9 meanR:20.6000 R:27.0000 rate:0.0540 aloss:0.6998 eloss:2.7042 aloss2:0.8278 exploreP:0.9798\n",
      "Episode:10 meanR:21.2727 R:28.0000 rate:0.0560 aloss:0.6942 eloss:2.6740 aloss2:0.8390 exploreP:0.9771\n",
      "Episode:11 meanR:21.2500 R:21.0000 rate:0.0420 aloss:0.6896 eloss:2.6369 aloss2:0.8580 exploreP:0.9751\n",
      "Episode:12 meanR:21.9231 R:30.0000 rate:0.0600 aloss:0.6919 eloss:2.6921 aloss2:0.8212 exploreP:0.9722\n",
      "Episode:13 meanR:21.6429 R:18.0000 rate:0.0360 aloss:0.6893 eloss:2.6618 aloss2:0.8450 exploreP:0.9705\n",
      "Episode:14 meanR:21.3333 R:17.0000 rate:0.0340 aloss:0.6807 eloss:2.5621 aloss2:0.8666 exploreP:0.9688\n",
      "Episode:15 meanR:21.4375 R:23.0000 rate:0.0460 aloss:0.6902 eloss:2.5948 aloss2:0.8660 exploreP:0.9666\n",
      "Episode:16 meanR:21.0588 R:15.0000 rate:0.0300 aloss:0.6858 eloss:2.6052 aloss2:0.8571 exploreP:0.9652\n",
      "Episode:17 meanR:22.3889 R:45.0000 rate:0.0900 aloss:0.6882 eloss:2.6138 aloss2:0.8443 exploreP:0.9609\n",
      "Episode:18 meanR:22.4211 R:23.0000 rate:0.0460 aloss:0.6893 eloss:2.5207 aloss2:0.8989 exploreP:0.9587\n",
      "Episode:19 meanR:22.1500 R:17.0000 rate:0.0340 aloss:0.6880 eloss:2.5424 aloss2:0.8781 exploreP:0.9571\n",
      "Episode:20 meanR:23.5714 R:52.0000 rate:0.1040 aloss:0.6848 eloss:2.4374 aloss2:0.9204 exploreP:0.9522\n",
      "Episode:21 meanR:23.1364 R:14.0000 rate:0.0280 aloss:0.6854 eloss:2.4949 aloss2:0.8853 exploreP:0.9509\n",
      "Episode:22 meanR:23.4348 R:30.0000 rate:0.0600 aloss:0.6878 eloss:2.4335 aloss2:0.9187 exploreP:0.9481\n",
      "Episode:23 meanR:23.1667 R:17.0000 rate:0.0340 aloss:0.6857 eloss:2.4278 aloss2:0.9103 exploreP:0.9465\n",
      "Episode:24 meanR:23.4800 R:31.0000 rate:0.0620 aloss:0.6896 eloss:2.4469 aloss2:0.9092 exploreP:0.9436\n",
      "Episode:25 meanR:23.0385 R:12.0000 rate:0.0240 aloss:0.6955 eloss:2.3703 aloss2:0.9465 exploreP:0.9424\n",
      "Episode:26 meanR:23.0000 R:22.0000 rate:0.0440 aloss:0.6848 eloss:2.3966 aloss2:0.9265 exploreP:0.9404\n",
      "Episode:27 meanR:22.8571 R:19.0000 rate:0.0380 aloss:0.6822 eloss:2.3745 aloss2:0.9279 exploreP:0.9386\n",
      "Episode:28 meanR:24.0345 R:57.0000 rate:0.1140 aloss:0.6842 eloss:2.3118 aloss2:0.9626 exploreP:0.9333\n",
      "Episode:29 meanR:23.9333 R:21.0000 rate:0.0420 aloss:0.6832 eloss:2.2049 aloss2:1.0283 exploreP:0.9314\n",
      "Episode:30 meanR:23.6129 R:14.0000 rate:0.0280 aloss:0.6804 eloss:2.3020 aloss2:0.9491 exploreP:0.9301\n",
      "Episode:31 meanR:23.2500 R:12.0000 rate:0.0240 aloss:0.6917 eloss:2.2111 aloss2:1.0304 exploreP:0.9290\n",
      "Episode:32 meanR:23.3333 R:26.0000 rate:0.0520 aloss:0.6849 eloss:2.2077 aloss2:1.0099 exploreP:0.9266\n",
      "Episode:33 meanR:24.4118 R:60.0000 rate:0.1200 aloss:0.6826 eloss:2.2274 aloss2:0.9933 exploreP:0.9211\n",
      "Episode:34 meanR:24.4857 R:27.0000 rate:0.0540 aloss:0.6849 eloss:2.1597 aloss2:1.0269 exploreP:0.9187\n",
      "Episode:35 meanR:24.3889 R:21.0000 rate:0.0420 aloss:0.6827 eloss:2.1570 aloss2:1.0084 exploreP:0.9168\n",
      "Episode:36 meanR:25.2973 R:58.0000 rate:0.1160 aloss:0.6842 eloss:2.0938 aloss2:1.0674 exploreP:0.9115\n",
      "Episode:37 meanR:24.9474 R:12.0000 rate:0.0240 aloss:0.6779 eloss:2.1877 aloss2:0.9952 exploreP:0.9105\n",
      "Episode:38 meanR:25.2308 R:36.0000 rate:0.0720 aloss:0.6812 eloss:2.0838 aloss2:1.0559 exploreP:0.9072\n",
      "Episode:39 meanR:25.2000 R:24.0000 rate:0.0480 aloss:0.6834 eloss:2.0603 aloss2:1.0697 exploreP:0.9051\n",
      "Episode:40 meanR:25.1707 R:24.0000 rate:0.0480 aloss:0.6852 eloss:2.0207 aloss2:1.1023 exploreP:0.9029\n",
      "Episode:41 meanR:25.2619 R:29.0000 rate:0.0580 aloss:0.6863 eloss:2.0643 aloss2:1.0757 exploreP:0.9003\n",
      "Episode:42 meanR:25.1395 R:20.0000 rate:0.0400 aloss:0.6827 eloss:2.0189 aloss2:1.0910 exploreP:0.8986\n",
      "Episode:43 meanR:25.7273 R:51.0000 rate:0.1020 aloss:0.6886 eloss:1.9447 aloss2:1.1520 exploreP:0.8940\n",
      "Episode:44 meanR:25.5333 R:17.0000 rate:0.0340 aloss:0.6843 eloss:1.9551 aloss2:1.1317 exploreP:0.8925\n",
      "Episode:45 meanR:25.3261 R:16.0000 rate:0.0320 aloss:0.6901 eloss:1.9726 aloss2:1.1151 exploreP:0.8911\n",
      "Episode:46 meanR:25.2553 R:22.0000 rate:0.0440 aloss:0.6890 eloss:1.9022 aloss2:1.1813 exploreP:0.8892\n",
      "Episode:47 meanR:25.3958 R:32.0000 rate:0.0640 aloss:0.6864 eloss:1.8967 aloss2:1.1701 exploreP:0.8864\n",
      "Episode:48 meanR:25.3061 R:21.0000 rate:0.0420 aloss:0.6859 eloss:1.8622 aloss2:1.2035 exploreP:0.8845\n",
      "Episode:49 meanR:25.3000 R:25.0000 rate:0.0500 aloss:0.6845 eloss:1.8299 aloss2:1.2190 exploreP:0.8824\n",
      "Episode:50 meanR:25.3725 R:29.0000 rate:0.0580 aloss:0.6808 eloss:1.8899 aloss2:1.1544 exploreP:0.8798\n",
      "Episode:51 meanR:25.4423 R:29.0000 rate:0.0580 aloss:0.6796 eloss:1.8358 aloss2:1.2089 exploreP:0.8773\n",
      "Episode:52 meanR:25.4340 R:25.0000 rate:0.0500 aloss:0.6806 eloss:1.8411 aloss2:1.1810 exploreP:0.8752\n",
      "Episode:53 meanR:25.4815 R:28.0000 rate:0.0560 aloss:0.6821 eloss:1.8111 aloss2:1.2285 exploreP:0.8727\n",
      "Episode:54 meanR:25.3818 R:20.0000 rate:0.0400 aloss:0.6831 eloss:1.8112 aloss2:1.2246 exploreP:0.8710\n",
      "Episode:55 meanR:25.4107 R:27.0000 rate:0.0540 aloss:0.6843 eloss:1.7221 aloss2:1.3021 exploreP:0.8687\n",
      "Episode:56 meanR:25.3158 R:20.0000 rate:0.0400 aloss:0.6885 eloss:1.7358 aloss2:1.3532 exploreP:0.8670\n",
      "Episode:57 meanR:26.1897 R:76.0000 rate:0.1520 aloss:0.6819 eloss:1.7251 aloss2:1.2873 exploreP:0.8605\n",
      "Episode:58 meanR:26.1356 R:23.0000 rate:0.0460 aloss:0.6841 eloss:1.7015 aloss2:1.2961 exploreP:0.8585\n",
      "Episode:59 meanR:26.2333 R:32.0000 rate:0.0640 aloss:0.6844 eloss:1.6372 aloss2:1.3627 exploreP:0.8558\n",
      "Episode:60 meanR:26.9016 R:67.0000 rate:0.1340 aloss:0.6850 eloss:1.6556 aloss2:1.3253 exploreP:0.8502\n",
      "Episode:61 meanR:27.0323 R:35.0000 rate:0.0700 aloss:0.6827 eloss:1.6635 aloss2:1.3293 exploreP:0.8472\n",
      "Episode:62 meanR:26.8095 R:13.0000 rate:0.0260 aloss:0.6893 eloss:1.5967 aloss2:1.3528 exploreP:0.8461\n",
      "Episode:63 meanR:26.8906 R:32.0000 rate:0.0640 aloss:0.6827 eloss:1.5856 aloss2:1.3874 exploreP:0.8435\n",
      "Episode:64 meanR:27.2308 R:49.0000 rate:0.0980 aloss:0.6823 eloss:1.5121 aloss2:1.4372 exploreP:0.8394\n",
      "Episode:65 meanR:27.8030 R:65.0000 rate:0.1300 aloss:0.6817 eloss:1.4925 aloss2:1.4545 exploreP:0.8340\n",
      "Episode:66 meanR:27.8955 R:34.0000 rate:0.0680 aloss:0.6817 eloss:1.4429 aloss2:1.5142 exploreP:0.8312\n",
      "Episode:67 meanR:27.9559 R:32.0000 rate:0.0640 aloss:0.6835 eloss:1.3844 aloss2:1.5346 exploreP:0.8286\n",
      "Episode:68 meanR:28.1739 R:43.0000 rate:0.0860 aloss:0.6855 eloss:1.3924 aloss2:1.5207 exploreP:0.8251\n",
      "Episode:69 meanR:27.9429 R:12.0000 rate:0.0240 aloss:0.6826 eloss:1.3923 aloss2:1.5153 exploreP:0.8241\n",
      "Episode:70 meanR:28.4648 R:65.0000 rate:0.1300 aloss:0.6834 eloss:1.3544 aloss2:1.5606 exploreP:0.8188\n",
      "Episode:71 meanR:29.2361 R:84.0000 rate:0.1680 aloss:0.6838 eloss:1.2461 aloss2:1.6541 exploreP:0.8121\n",
      "Episode:72 meanR:29.2466 R:30.0000 rate:0.0600 aloss:0.6849 eloss:1.2701 aloss2:1.6535 exploreP:0.8097\n",
      "Episode:73 meanR:29.1892 R:25.0000 rate:0.0500 aloss:0.6883 eloss:1.2560 aloss2:1.7208 exploreP:0.8077\n",
      "Episode:74 meanR:29.7200 R:69.0000 rate:0.1380 aloss:0.6853 eloss:1.2187 aloss2:1.6925 exploreP:0.8022\n",
      "Episode:75 meanR:29.6711 R:26.0000 rate:0.0520 aloss:0.6839 eloss:1.1412 aloss2:1.7566 exploreP:0.8001\n",
      "Episode:76 meanR:29.4675 R:14.0000 rate:0.0280 aloss:0.6833 eloss:1.1380 aloss2:1.7482 exploreP:0.7990\n",
      "Episode:77 meanR:29.3333 R:19.0000 rate:0.0380 aloss:0.6835 eloss:1.1886 aloss2:1.6986 exploreP:0.7975\n",
      "Episode:78 meanR:29.1266 R:13.0000 rate:0.0260 aloss:0.6814 eloss:1.0117 aloss2:1.8721 exploreP:0.7965\n",
      "Episode:79 meanR:28.9625 R:16.0000 rate:0.0320 aloss:0.6820 eloss:1.2036 aloss2:1.7662 exploreP:0.7953\n"
     ]
    },
    {
     "name": "stdout",
     "output_type": "stream",
     "text": [
      "Episode:80 meanR:29.1358 R:43.0000 rate:0.0860 aloss:0.6814 eloss:1.1459 aloss2:1.7440 exploreP:0.7919\n",
      "Episode:81 meanR:29.1220 R:28.0000 rate:0.0560 aloss:0.6809 eloss:1.1290 aloss2:1.7892 exploreP:0.7897\n",
      "Episode:82 meanR:29.3012 R:44.0000 rate:0.0880 aloss:0.6812 eloss:1.0554 aloss2:1.8592 exploreP:0.7863\n",
      "Episode:83 meanR:29.3452 R:33.0000 rate:0.0660 aloss:0.6821 eloss:1.0253 aloss2:1.8856 exploreP:0.7837\n",
      "Episode:84 meanR:31.0118 R:171.0000 rate:0.3420 aloss:0.6814 eloss:1.0333 aloss2:1.9092 exploreP:0.7706\n",
      "Episode:85 meanR:31.0000 R:30.0000 rate:0.0600 aloss:0.6800 eloss:1.0200 aloss2:1.9010 exploreP:0.7683\n",
      "Episode:86 meanR:30.8391 R:17.0000 rate:0.0340 aloss:0.6788 eloss:0.9374 aloss2:1.9883 exploreP:0.7670\n",
      "Episode:87 meanR:30.9432 R:40.0000 rate:0.0800 aloss:0.6771 eloss:0.8943 aloss2:2.0355 exploreP:0.7640\n",
      "Episode:88 meanR:31.4719 R:78.0000 rate:0.1560 aloss:0.6743 eloss:0.9081 aloss2:2.0293 exploreP:0.7582\n",
      "Episode:89 meanR:31.9222 R:72.0000 rate:0.1440 aloss:0.6774 eloss:0.7303 aloss2:2.2411 exploreP:0.7528\n",
      "Episode:90 meanR:31.9670 R:36.0000 rate:0.0720 aloss:0.6797 eloss:0.7971 aloss2:2.1834 exploreP:0.7501\n",
      "Episode:91 meanR:32.6087 R:91.0000 rate:0.1820 aloss:0.6720 eloss:0.6929 aloss2:2.2609 exploreP:0.7434\n",
      "Episode:92 meanR:32.5591 R:28.0000 rate:0.0560 aloss:0.6734 eloss:0.6042 aloss2:2.3705 exploreP:0.7414\n",
      "Episode:93 meanR:32.5319 R:30.0000 rate:0.0600 aloss:0.6789 eloss:0.8163 aloss2:2.2741 exploreP:0.7392\n",
      "Episode:94 meanR:32.6000 R:39.0000 rate:0.0780 aloss:0.6853 eloss:0.7509 aloss2:2.4366 exploreP:0.7363\n",
      "Episode:95 meanR:32.4688 R:20.0000 rate:0.0400 aloss:0.6729 eloss:0.5143 aloss2:2.5228 exploreP:0.7349\n",
      "Episode:96 meanR:32.4124 R:27.0000 rate:0.0540 aloss:0.6722 eloss:0.6165 aloss2:2.3969 exploreP:0.7329\n",
      "Episode:97 meanR:32.4694 R:38.0000 rate:0.0760 aloss:0.6703 eloss:0.6213 aloss2:2.3828 exploreP:0.7302\n",
      "Episode:98 meanR:32.8182 R:67.0000 rate:0.1340 aloss:0.6718 eloss:0.5007 aloss2:2.5032 exploreP:0.7254\n",
      "Episode:99 meanR:33.4500 R:96.0000 rate:0.1920 aloss:0.6739 eloss:0.4715 aloss2:2.5534 exploreP:0.7185\n",
      "Episode:100 meanR:33.5900 R:29.0000 rate:0.0580 aloss:0.6692 eloss:0.4317 aloss2:2.6031 exploreP:0.7165\n",
      "Episode:101 meanR:33.6300 R:28.0000 rate:0.0560 aloss:0.6717 eloss:0.4076 aloss2:2.6641 exploreP:0.7145\n",
      "Episode:102 meanR:33.5900 R:9.0000 rate:0.0180 aloss:0.6765 eloss:0.3406 aloss2:2.6862 exploreP:0.7139\n",
      "Episode:103 meanR:33.5900 R:20.0000 rate:0.0400 aloss:0.6720 eloss:0.3213 aloss2:2.7562 exploreP:0.7125\n",
      "Episode:104 meanR:33.9900 R:58.0000 rate:0.1160 aloss:0.6690 eloss:0.2851 aloss2:2.8590 exploreP:0.7084\n",
      "Episode:105 meanR:34.0300 R:18.0000 rate:0.0360 aloss:0.6724 eloss:0.3447 aloss2:2.7351 exploreP:0.7072\n",
      "Episode:106 meanR:34.2500 R:61.0000 rate:0.1220 aloss:0.6792 eloss:0.2879 aloss2:2.8780 exploreP:0.7029\n",
      "Episode:107 meanR:35.0700 R:97.0000 rate:0.1940 aloss:0.6707 eloss:0.2556 aloss2:2.8652 exploreP:0.6962\n",
      "Episode:108 meanR:35.5500 R:69.0000 rate:0.1380 aloss:0.6780 eloss:0.2563 aloss2:2.9447 exploreP:0.6915\n",
      "Episode:109 meanR:36.9100 R:163.0000 rate:0.3260 aloss:0.6699 eloss:0.1043 aloss2:3.1287 exploreP:0.6805\n",
      "Episode:110 meanR:38.0500 R:142.0000 rate:0.2840 aloss:0.6705 eloss:-0.0106 aloss2:3.2801 exploreP:0.6710\n",
      "Episode:111 meanR:38.5800 R:74.0000 rate:0.1480 aloss:0.6697 eloss:-0.0751 aloss2:3.4169 exploreP:0.6662\n",
      "Episode:112 meanR:38.9700 R:69.0000 rate:0.1380 aloss:0.6723 eloss:-0.0630 aloss2:3.4169 exploreP:0.6616\n",
      "Episode:113 meanR:39.0800 R:29.0000 rate:0.0580 aloss:0.6804 eloss:-0.1726 aloss2:3.7365 exploreP:0.6598\n",
      "Episode:114 meanR:39.1800 R:27.0000 rate:0.0540 aloss:0.6758 eloss:-0.2233 aloss2:3.7395 exploreP:0.6580\n",
      "Episode:115 meanR:40.6000 R:165.0000 rate:0.3300 aloss:0.6732 eloss:-0.1762 aloss2:3.6130 exploreP:0.6474\n",
      "Episode:116 meanR:41.0800 R:63.0000 rate:0.1260 aloss:0.6727 eloss:-0.1994 aloss2:3.7395 exploreP:0.6434\n",
      "Episode:117 meanR:40.9500 R:32.0000 rate:0.0640 aloss:0.6788 eloss:-0.3571 aloss2:3.9350 exploreP:0.6414\n",
      "Episode:118 meanR:41.2700 R:55.0000 rate:0.1100 aloss:0.6842 eloss:-0.3517 aloss2:3.9095 exploreP:0.6379\n",
      "Episode:119 meanR:42.0300 R:93.0000 rate:0.1860 aloss:0.6761 eloss:-0.4974 aloss2:4.1160 exploreP:0.6321\n",
      "Episode:120 meanR:43.8700 R:236.0000 rate:0.4720 aloss:0.6738 eloss:-0.5975 aloss2:4.3151 exploreP:0.6176\n",
      "Episode:121 meanR:46.0900 R:236.0000 rate:0.4720 aloss:0.6819 eloss:-0.7814 aloss2:4.7395 exploreP:0.6034\n",
      "Episode:122 meanR:47.0400 R:125.0000 rate:0.2500 aloss:0.6776 eloss:-0.7878 aloss2:5.0075 exploreP:0.5960\n",
      "Episode:123 meanR:47.3000 R:43.0000 rate:0.0860 aloss:0.6798 eloss:-1.0087 aloss2:5.1421 exploreP:0.5935\n",
      "Episode:124 meanR:49.7300 R:274.0000 rate:0.5480 aloss:0.6855 eloss:-1.0045 aloss2:5.3013 exploreP:0.5778\n",
      "Episode:125 meanR:49.9900 R:38.0000 rate:0.0760 aloss:0.7030 eloss:-0.8433 aloss2:5.4272 exploreP:0.5756\n",
      "Episode:126 meanR:50.2600 R:49.0000 rate:0.0980 aloss:0.6896 eloss:-1.1097 aloss2:5.6670 exploreP:0.5728\n",
      "Episode:127 meanR:50.4100 R:34.0000 rate:0.0680 aloss:0.6878 eloss:-1.1337 aloss2:5.4344 exploreP:0.5709\n",
      "Episode:128 meanR:50.4000 R:56.0000 rate:0.1120 aloss:0.6774 eloss:-1.1703 aloss2:5.5110 exploreP:0.5678\n",
      "Episode:129 meanR:54.6400 R:445.0000 rate:0.8900 aloss:0.6843 eloss:-1.3970 aloss2:6.1289 exploreP:0.5435\n",
      "Episode:130 meanR:55.9600 R:146.0000 rate:0.2920 aloss:0.6964 eloss:-1.5208 aloss2:6.6391 exploreP:0.5358\n",
      "Episode:131 meanR:56.3000 R:46.0000 rate:0.0920 aloss:0.6932 eloss:-1.4949 aloss2:6.5279 exploreP:0.5334\n",
      "Episode:132 meanR:58.1200 R:208.0000 rate:0.4160 aloss:0.6925 eloss:-1.8196 aloss2:6.9997 exploreP:0.5226\n",
      "Episode:133 meanR:59.8400 R:232.0000 rate:0.4640 aloss:0.6965 eloss:-1.8216 aloss2:7.1630 exploreP:0.5108\n",
      "Episode:134 meanR:60.6500 R:108.0000 rate:0.2160 aloss:0.6893 eloss:-1.9029 aloss2:7.6234 exploreP:0.5055\n",
      "Episode:135 meanR:62.8400 R:240.0000 rate:0.4800 aloss:0.6988 eloss:-1.8583 aloss2:7.8884 exploreP:0.4937\n",
      "Episode:136 meanR:64.4000 R:214.0000 rate:0.4280 aloss:0.6980 eloss:-2.3631 aloss2:8.3460 exploreP:0.4835\n",
      "Episode:137 meanR:66.8200 R:254.0000 rate:0.5080 aloss:0.7011 eloss:-2.1523 aloss2:8.6987 exploreP:0.4716\n",
      "Episode:138 meanR:67.7000 R:124.0000 rate:0.2480 aloss:0.7049 eloss:-2.5544 aloss2:8.8860 exploreP:0.4659\n",
      "Episode:139 meanR:69.2200 R:176.0000 rate:0.3520 aloss:0.7030 eloss:-2.5432 aloss2:9.1041 exploreP:0.4580\n",
      "Episode:140 meanR:71.0100 R:203.0000 rate:0.4060 aloss:0.6927 eloss:-2.7814 aloss2:9.3126 exploreP:0.4490\n",
      "Episode:141 meanR:73.4400 R:272.0000 rate:0.5440 aloss:0.7099 eloss:-2.8323 aloss2:9.9071 exploreP:0.4372\n",
      "Episode:142 meanR:75.7300 R:249.0000 rate:0.4980 aloss:0.7196 eloss:-2.7658 aloss2:10.1268 exploreP:0.4267\n",
      "Episode:143 meanR:77.3900 R:217.0000 rate:0.4340 aloss:0.7066 eloss:-2.8298 aloss2:10.3980 exploreP:0.4177\n",
      "Episode:144 meanR:79.2900 R:207.0000 rate:0.4140 aloss:0.7072 eloss:-3.2089 aloss2:10.8605 exploreP:0.4094\n",
      "Episode:145 meanR:81.3800 R:225.0000 rate:0.4500 aloss:0.7109 eloss:-3.1740 aloss2:11.0671 exploreP:0.4005\n",
      "Episode:146 meanR:82.4300 R:127.0000 rate:0.2540 aloss:0.7115 eloss:-2.9159 aloss2:11.0800 exploreP:0.3956\n",
      "Episode:147 meanR:85.6200 R:351.0000 rate:0.7020 aloss:0.7168 eloss:-3.0226 aloss2:11.4375 exploreP:0.3823\n",
      "Episode:148 meanR:87.5800 R:217.0000 rate:0.4340 aloss:0.7169 eloss:-3.4007 aloss2:11.7367 exploreP:0.3743\n",
      "Episode:149 meanR:89.3600 R:203.0000 rate:0.4060 aloss:0.7369 eloss:-2.6624 aloss2:11.9572 exploreP:0.3670\n",
      "Episode:150 meanR:91.4000 R:233.0000 rate:0.4660 aloss:0.7258 eloss:-3.5900 aloss2:12.0518 exploreP:0.3587\n",
      "Episode:151 meanR:92.2700 R:116.0000 rate:0.2320 aloss:0.7339 eloss:-3.8498 aloss2:12.2400 exploreP:0.3547\n",
      "Episode:152 meanR:93.0300 R:101.0000 rate:0.2020 aloss:0.7463 eloss:-3.5184 aloss2:12.2187 exploreP:0.3512\n",
      "Episode:153 meanR:95.0100 R:226.0000 rate:0.4520 aloss:0.7320 eloss:-3.5827 aloss2:12.3966 exploreP:0.3436\n",
      "Episode:154 meanR:97.2000 R:239.0000 rate:0.4780 aloss:0.7440 eloss:-3.4757 aloss2:12.8672 exploreP:0.3357\n",
      "Episode:155 meanR:99.1400 R:221.0000 rate:0.4420 aloss:0.7337 eloss:-3.8721 aloss2:13.0963 exploreP:0.3286\n",
      "Episode:156 meanR:101.2500 R:231.0000 rate:0.4620 aloss:0.7468 eloss:-3.7515 aloss2:13.2378 exploreP:0.3213\n",
      "Episode:157 meanR:102.9600 R:247.0000 rate:0.4940 aloss:0.7382 eloss:-4.1816 aloss2:13.3786 exploreP:0.3137\n"
     ]
    },
    {
     "name": "stdout",
     "output_type": "stream",
     "text": [
      "Episode:158 meanR:104.5500 R:182.0000 rate:0.3640 aloss:0.7255 eloss:-4.2764 aloss2:13.9877 exploreP:0.3083\n",
      "Episode:159 meanR:106.2700 R:204.0000 rate:0.4080 aloss:0.7486 eloss:-3.8504 aloss2:14.2653 exploreP:0.3022\n",
      "Episode:160 meanR:107.9500 R:235.0000 rate:0.4700 aloss:0.7526 eloss:-4.5089 aloss2:14.4427 exploreP:0.2955\n",
      "Episode:161 meanR:109.5200 R:192.0000 rate:0.3840 aloss:0.7611 eloss:-4.1051 aloss2:14.4662 exploreP:0.2900\n",
      "Episode:162 meanR:110.0400 R:65.0000 rate:0.1300 aloss:0.7385 eloss:-4.7273 aloss2:14.6926 exploreP:0.2882\n",
      "Episode:163 meanR:111.2200 R:150.0000 rate:0.3000 aloss:0.7628 eloss:-4.2379 aloss2:14.7360 exploreP:0.2841\n",
      "Episode:164 meanR:112.3600 R:163.0000 rate:0.3260 aloss:0.7373 eloss:-4.6102 aloss2:15.1424 exploreP:0.2796\n",
      "Episode:165 meanR:113.3300 R:162.0000 rate:0.3240 aloss:0.7594 eloss:-3.9592 aloss2:15.1105 exploreP:0.2753\n",
      "Episode:166 meanR:114.9200 R:193.0000 rate:0.3860 aloss:0.7492 eloss:-4.6039 aloss2:15.5344 exploreP:0.2702\n",
      "Episode:167 meanR:117.0700 R:247.0000 rate:0.4940 aloss:0.7576 eloss:-4.5377 aloss2:15.4469 exploreP:0.2639\n",
      "Episode:168 meanR:118.6600 R:202.0000 rate:0.4040 aloss:0.7573 eloss:-4.4241 aloss2:15.7467 exploreP:0.2588\n",
      "Episode:169 meanR:120.1200 R:158.0000 rate:0.3160 aloss:0.7321 eloss:-4.7751 aloss2:15.9817 exploreP:0.2549\n",
      "Episode:170 meanR:121.5300 R:206.0000 rate:0.4120 aloss:0.7403 eloss:-4.9355 aloss2:16.2461 exploreP:0.2499\n",
      "Episode:171 meanR:122.7600 R:207.0000 rate:0.4140 aloss:0.7496 eloss:-5.0568 aloss2:16.3233 exploreP:0.2450\n",
      "Episode:172 meanR:124.3200 R:186.0000 rate:0.3720 aloss:0.7425 eloss:-4.7380 aloss2:17.0417 exploreP:0.2407\n",
      "Episode:173 meanR:126.1800 R:211.0000 rate:0.4220 aloss:0.7539 eloss:-4.5633 aloss2:16.4338 exploreP:0.2359\n",
      "Episode:174 meanR:127.5300 R:204.0000 rate:0.4080 aloss:0.7267 eloss:-5.1271 aloss2:17.1589 exploreP:0.2313\n",
      "Episode:175 meanR:129.4000 R:213.0000 rate:0.4260 aloss:0.7369 eloss:-5.3535 aloss2:17.3328 exploreP:0.2266\n",
      "Episode:176 meanR:131.3300 R:207.0000 rate:0.4140 aloss:0.7275 eloss:-5.2360 aloss2:17.7451 exploreP:0.2222\n",
      "Episode:177 meanR:133.1400 R:200.0000 rate:0.4000 aloss:0.7255 eloss:-5.4354 aloss2:17.5106 exploreP:0.2180\n",
      "Episode:178 meanR:135.1300 R:212.0000 rate:0.4240 aloss:0.7284 eloss:-5.0467 aloss2:17.8883 exploreP:0.2136\n",
      "Episode:179 meanR:136.7200 R:175.0000 rate:0.3500 aloss:0.7106 eloss:-5.4407 aloss2:18.3875 exploreP:0.2101\n",
      "Episode:180 meanR:139.0400 R:275.0000 rate:0.5500 aloss:0.7262 eloss:-3.8953 aloss2:18.3389 exploreP:0.2047\n",
      "Episode:181 meanR:141.2400 R:248.0000 rate:0.4960 aloss:0.7161 eloss:-5.4522 aloss2:18.4064 exploreP:0.1999\n",
      "Episode:182 meanR:142.6900 R:189.0000 rate:0.3780 aloss:0.7244 eloss:-4.4705 aloss2:18.4217 exploreP:0.1963\n",
      "Episode:183 meanR:144.3300 R:197.0000 rate:0.3940 aloss:0.7064 eloss:-5.1644 aloss2:18.4135 exploreP:0.1927\n",
      "Episode:184 meanR:145.3300 R:271.0000 rate:0.5420 aloss:0.7179 eloss:-4.8255 aloss2:18.7027 exploreP:0.1878\n",
      "Episode:185 meanR:147.6400 R:261.0000 rate:0.5220 aloss:0.7135 eloss:-5.5110 aloss2:18.7156 exploreP:0.1832\n",
      "Episode:186 meanR:150.0200 R:255.0000 rate:0.5100 aloss:0.7178 eloss:-5.3057 aloss2:18.4076 exploreP:0.1789\n",
      "Episode:187 meanR:151.6500 R:203.0000 rate:0.4060 aloss:0.7180 eloss:-5.2886 aloss2:18.7533 exploreP:0.1755\n",
      "Episode:188 meanR:152.9200 R:205.0000 rate:0.4100 aloss:0.7140 eloss:-5.2977 aloss2:19.0294 exploreP:0.1721\n",
      "Episode:189 meanR:156.1600 R:396.0000 rate:0.7920 aloss:0.7083 eloss:-4.8951 aloss2:19.0514 exploreP:0.1658\n",
      "Episode:190 meanR:158.2600 R:246.0000 rate:0.4920 aloss:0.7000 eloss:-5.6491 aloss2:18.9336 exploreP:0.1620\n",
      "Episode:191 meanR:159.8600 R:251.0000 rate:0.5020 aloss:0.7021 eloss:-5.8580 aloss2:19.2057 exploreP:0.1583\n",
      "Episode:192 meanR:163.0300 R:345.0000 rate:0.6900 aloss:0.6990 eloss:-5.6027 aloss2:19.2786 exploreP:0.1533\n",
      "Episode:193 meanR:166.3200 R:359.0000 rate:0.7180 aloss:0.6996 eloss:-5.5634 aloss2:19.4991 exploreP:0.1482\n",
      "Episode:194 meanR:168.7400 R:281.0000 rate:0.5620 aloss:0.7014 eloss:-5.7056 aloss2:19.6677 exploreP:0.1444\n"
     ]
    }
   ],
   "source": [
    "# Save/load the model and save for plotting\n",
    "saver = tf.train.Saver()\n",
    "episode_rewards_list, rewards_list = [], []\n",
    "aloss_list, eloss_list, aloss2_list = [], [], []\n",
    "\n",
    "# TF session for training\n",
    "with tf.Session(graph=graph) as sess:\n",
    "    sess.run(tf.global_variables_initializer())\n",
    "    #saver.restore(sess, 'checkpoints/model.ckpt')    \n",
    "    #saver.restore(sess, tf.train.latest_checkpoint('checkpoints'))\n",
    "    total_step = 0 # Explore or exploit parameter\n",
    "    episode_reward = deque(maxlen=100) # 100 episodes for running average/running mean/window\n",
    "\n",
    "    # Training episodes/epochs\n",
    "    for ep in range(11111):\n",
    "        aloss_batch, eloss_batch, aloss2_batch = [], [], []\n",
    "        total_reward = 0\n",
    "        state = env.reset()\n",
    "        num_step = 0\n",
    "        rate = -1\n",
    "\n",
    "        # Training steps/batches\n",
    "        while True:\n",
    "            # Explore (env) or Exploit (model)\n",
    "            total_step += 1\n",
    "            explore_p = explore_stop + (explore_start - explore_stop) * np.exp(-decay_rate * total_step) \n",
    "            if explore_p > np.random.rand():\n",
    "                action = env.action_space.sample()\n",
    "            else:\n",
    "                action_logits = sess.run(model.actions_logits, feed_dict={model.states: state.reshape([1, -1])})\n",
    "                action = np.argmax(action_logits)\n",
    "            next_state, reward, done, _ = env.step(action)\n",
    "            memory.buffer.append([state, action, next_state, reward, float(done), rate])\n",
    "            num_step += 1 # momory added\n",
    "            total_reward += reward\n",
    "            state = next_state\n",
    "            \n",
    "            # Training with the maxrated minibatch\n",
    "            batch = memory.buffer\n",
    "            #for idx in range(memory_size// batch_size):\n",
    "            while True:\n",
    "                idx = np.random.choice(np.arange(memory_size// batch_size))\n",
    "                states = np.array([each[0] for each in batch])[idx*batch_size:(idx+1)*batch_size]\n",
    "                actions = np.array([each[1] for each in batch])[idx*batch_size:(idx+1)*batch_size]\n",
    "                next_states = np.array([each[2] for each in batch])[idx*batch_size:(idx+1)*batch_size]\n",
    "                rewards = np.array([each[3] for each in batch])[idx*batch_size:(idx+1)*batch_size]\n",
    "                dones = np.array([each[4] for each in batch])[idx*batch_size:(idx+1)*batch_size]\n",
    "                rates = np.array([each[5] for each in batch])[idx*batch_size:(idx+1)*batch_size]\n",
    "                states = states[rates >= np.max(rates)]\n",
    "                actions = actions[rates >= np.max(rates)]\n",
    "                next_states = next_states[rates >= np.max(rates)]\n",
    "                rewards = rewards[rates >= np.max(rates)]\n",
    "                dones = dones[rates >= np.max(rates)]\n",
    "                rates = rates[rates >= np.max(rates)]\n",
    "                if np.count_nonzero(dones) > 0 and len(dones) > 1 and np.max(rates) > 0:\n",
    "                    break\n",
    "            aloss, _ = sess.run([model.a_loss, model.a_opt],\n",
    "                                  feed_dict = {model.states: states, \n",
    "                                               model.actions: actions,\n",
    "                                               model.next_states: next_states,\n",
    "                                               model.rewards: rewards,\n",
    "                                               model.dones: dones,\n",
    "                                               model.rates: rates})\n",
    "            eloss, _ = sess.run([model.e_loss, model.e_opt],\n",
    "                                  feed_dict = {model.states: states, \n",
    "                                               model.actions: actions,\n",
    "                                               model.next_states: next_states,\n",
    "                                               model.rewards: rewards,\n",
    "                                               model.dones: dones,\n",
    "                                               model.rates: rates})\n",
    "            aloss2, _= sess.run([model.a_loss2, model.a_opt2], \n",
    "                                 feed_dict = {model.states: states, \n",
    "                                              model.actions: actions,\n",
    "                                              model.next_states: next_states,\n",
    "                                              model.rewards: rewards,\n",
    "                                              model.dones: dones,\n",
    "                                              model.rates: rates})\n",
    "            # print(len(dones), np.count_nonzero(dones), np.max(rates))\n",
    "            aloss_batch.append(aloss)\n",
    "            eloss_batch.append(eloss)\n",
    "            aloss2_batch.append(aloss2)\n",
    "            if done is True:\n",
    "                break\n",
    "                \n",
    "        # Rating the latest played episode\n",
    "        rate = total_reward/500 # update rate at the end/ when episode is done\n",
    "        for idx in range(num_step): # episode length\n",
    "            if memory.buffer[-1-idx][-1] == -1: # double-check the landmark/marked indexes\n",
    "                memory.buffer[-1-idx][-1] = rate # rate the trajectory/data\n",
    "\n",
    "        # Print out\n",
    "        episode_reward.append(total_reward)\n",
    "        print('Episode:{}'.format(ep),\n",
    "              'meanR:{:.4f}'.format(np.mean(episode_reward)),\n",
    "              'R:{:.4f}'.format(total_reward),\n",
    "              'rate:{:.4f}'.format(rate),\n",
    "              'aloss:{:.4f}'.format(np.mean(aloss_batch)),\n",
    "              'eloss:{:.4f}'.format(np.mean(eloss_batch)),\n",
    "              'aloss2:{:.4f}'.format(np.mean(aloss2_batch)),\n",
    "              'exploreP:{:.4f}'.format(explore_p))\n",
    "\n",
    "        # Ploting out\n",
    "        episode_rewards_list.append([ep, np.mean(episode_reward)])\n",
    "        rewards_list.append([ep, total_reward])\n",
    "        aloss_list.append([ep, np.mean(aloss_batch)])\n",
    "        eloss_list.append([ep, np.mean(eloss_batch)])\n",
    "        aloss2_list.append([ep, np.mean(aloss2_batch)])\n",
    "        \n",
    "        # Break episode/epoch loop\n",
    "        ## Option 1: Solve the First Version\n",
    "        #The task is episodic, and in order to solve the environment, \n",
    "        #your agent must get an average score of +30 over 100 consecutive episodes.\n",
    "        if np.mean(episode_reward) >= 500:\n",
    "            break\n",
    "            \n",
    "    # At the end of all training episodes/epochs\n",
    "    saver.save(sess, 'checkpoints/model.ckpt')"
   ]
  },
  {
   "cell_type": "markdown",
   "metadata": {},
   "source": [
    "# Visualizing training\n",
    "\n",
    "Below I'll plot the total rewards for each episode. I'm plotting the rolling average too, in blue."
   ]
  },
  {
   "cell_type": "code",
   "execution_count": null,
   "metadata": {},
   "outputs": [],
   "source": [
    "import matplotlib.pyplot as plt\n",
    "%matplotlib inline\n",
    "\n",
    "def running_mean(x, N):\n",
    "    cumsum = np.cumsum(np.insert(x, 0, 0)) \n",
    "    return (cumsum[N:] - cumsum[:-N]) / N "
   ]
  },
  {
   "cell_type": "code",
   "execution_count": null,
   "metadata": {},
   "outputs": [],
   "source": [
    "eps, arr = np.array(episode_rewards_list).T\n",
    "smoothed_arr = running_mean(arr, 10)\n",
    "plt.plot(eps[-len(smoothed_arr):], smoothed_arr)\n",
    "plt.plot(eps, arr, color='grey', alpha=0.3)\n",
    "plt.xlabel('Episode')\n",
    "plt.ylabel('Total rewards')"
   ]
  },
  {
   "cell_type": "code",
   "execution_count": 17,
   "metadata": {},
   "outputs": [
    {
     "data": {
      "text/plain": [
       "Text(0, 0.5, 'Total rewards')"
      ]
     },
     "execution_count": 17,
     "metadata": {},
     "output_type": "execute_result"
    },
    {
     "data": {
      "image/png": "[encoded data removed]",
      "text/plain": [
       "<Figure size 432x288 with 1 Axes>"
      ]
     },
     "metadata": {
      "needs_background": "light"
     },
     "output_type": "display_data"
    }
   ],
   "source": [
    "eps, arr = np.array(episode_rewards_list).T\n",
    "smoothed_arr = running_mean(arr, 10)\n",
    "plt.plot(eps[-len(smoothed_arr):], smoothed_arr)\n",
    "plt.plot(eps, arr, color='grey', alpha=0.3)\n",
    "plt.xlabel('Episode')\n",
    "plt.ylabel('Total rewards')"
   ]
  },
  {
   "cell_type": "code",
   "execution_count": 18,
   "metadata": {},
   "outputs": [
    {
     "data": {
      "text/plain": [
       "Text(0, 0.5, 'Total rewards')"
      ]
     },
     "execution_count": 18,
     "metadata": {},
     "output_type": "execute_result"
    },
    {
     "data": {
      "image/png": "[encoded data removed]",
      "text/plain": [
       "<Figure size 432x288 with 1 Axes>"
      ]
     },
     "metadata": {
      "needs_background": "light"
     },
     "output_type": "display_data"
    }
   ],
   "source": [
    "eps, arr = np.array(rewards_list).T\n",
    "smoothed_arr = running_mean(arr, 10)\n",
    "plt.plot(eps[-len(smoothed_arr):], smoothed_arr)\n",
    "plt.plot(eps, arr, color='grey', alpha=0.3)\n",
    "plt.xlabel('Episode')\n",
    "plt.ylabel('Total rewards')"
   ]
  },
  {
   "cell_type": "code",
   "execution_count": 19,
   "metadata": {},
   "outputs": [
    {
     "data": {
      "text/plain": [
       "Text(0, 0.5, 'Act losses')"
      ]
     },
     "execution_count": 19,
     "metadata": {},
     "output_type": "execute_result"
    },
    {
     "data": {
      "image/png": "[encoded data removed]",
      "text/plain": [
       "<Figure size 432x288 with 1 Axes>"
      ]
     },
     "metadata": {
      "needs_background": "light"
     },
     "output_type": "display_data"
    }
   ],
   "source": [
    "eps, arr = np.array(aloss_list).T\n",
    "smoothed_arr = running_mean(arr, 10)\n",
    "plt.plot(eps[-len(smoothed_arr):], smoothed_arr)\n",
    "plt.plot(eps, arr, color='grey', alpha=0.3)\n",
    "plt.xlabel('Episode')\n",
    "plt.ylabel('Act losses')"
   ]
  },
  {
   "cell_type": "code",
   "execution_count": 20,
   "metadata": {},
   "outputs": [
    {
     "data": {
      "text/plain": [
       "Text(0, 0.5, 'Env losses')"
      ]
     },
     "execution_count": 20,
     "metadata": {},
     "output_type": "execute_result"
    },
    {
     "data": {
      "image/png": "[encoded data removed]",
      "text/plain": [
       "<Figure size 432x288 with 1 Axes>"
      ]
     },
     "metadata": {
      "needs_background": "light"
     },
     "output_type": "display_data"
    }
   ],
   "source": [
    "eps, arr = np.array(eloss_list).T\n",
    "smoothed_arr = running_mean(arr, 10)\n",
    "plt.plot(eps[-len(smoothed_arr):], smoothed_arr)\n",
    "plt.plot(eps, arr, color='grey', alpha=0.3)\n",
    "plt.xlabel('Episode')\n",
    "plt.ylabel('Env losses')"
   ]
  },
  {
   "cell_type": "code",
   "execution_count": 21,
   "metadata": {},
   "outputs": [
    {
     "data": {
      "text/plain": [
       "Text(0, 0.5, 'Act losses 2')"
      ]
     },
     "execution_count": 21,
     "metadata": {},
     "output_type": "execute_result"
    },
    {
     "data": {
      "image/png": "[encoded data removed]",
      "text/plain": [
       "<Figure size 432x288 with 1 Axes>"
      ]
     },
     "metadata": {
      "needs_background": "light"
     },
     "output_type": "display_data"
    }
   ],
   "source": [
    "eps, arr = np.array(aloss2_list).T\n",
    "smoothed_arr = running_mean(arr, 10)\n",
    "plt.plot(eps[-len(smoothed_arr):], smoothed_arr)\n",
    "plt.plot(eps, arr, color='grey', alpha=0.3)\n",
    "plt.xlabel('Episode')\n",
    "plt.ylabel('Act losses 2')"
   ]
  },
  {
   "cell_type": "markdown",
   "metadata": {},
   "source": [
    "## Testing\n",
    "\n",
    "Let's checkout how our trained agent plays the game."
   ]
  },
  {
   "cell_type": "code",
   "execution_count": 24,
   "metadata": {},
   "outputs": [
    {
     "name": "stdout",
     "output_type": "stream",
     "text": [
      "INFO:tensorflow:Restoring parameters from checkpoints/model.ckpt\n",
      "total_reward: 500.0\n",
      "total_reward: 500.0\n",
      "total_reward: 500.0\n",
      "total_reward: 500.0\n",
      "total_reward: 500.0\n",
      "total_reward: 500.0\n",
      "total_reward: 500.0\n",
      "total_reward: 500.0\n",
      "total_reward: 500.0\n",
      "total_reward: 500.0\n"
     ]
    }
   ],
   "source": [
    "import gym\n",
    "env = gym.make('CartPole-v0')\n",
    "env = gym.make('CartPole-v1')\n",
    "\n",
    "with tf.Session() as sess:\n",
    "    sess.run(tf.global_variables_initializer())\n",
    "    saver.restore(sess, 'checkpoints/model.ckpt')    \n",
    "    #saver.restore(sess, tf.train.latest_checkpoint('checkpoints'))\n",
    "    \n",
    "    # Episodes/epochs\n",
    "    for _ in range(10):\n",
    "        state = env.reset()\n",
    "        total_reward = 0\n",
    "\n",
    "        # Steps/batches\n",
    "        while True:\n",
    "            env.render()\n",
    "            action_logits = sess.run(model.actions_logits, feed_dict={model.states: state.reshape([1, -1])})\n",
    "            action = np.argmax(action_logits)\n",
    "            state, reward, done, _ = env.step(action)\n",
    "            total_reward += reward\n",
    "            if done:\n",
    "                print('total_reward: {}'.format(total_reward))\n",
    "                break\n",
    "                \n",
    "env.close()"
   ]
  },
  {
   "cell_type": "code",
   "execution_count": null,
   "metadata": {},
   "outputs": [],
   "source": []
  }
 ],
 "metadata": {
  "kernelspec": {
   "display_name": "Python 3",
   "language": "python",
   "name": "python3"
  },
  "language_info": {
   "codemirror_mode": {
    "name": "ipython",
    "version": 3
   },
   "file_extension": ".py",
   "mimetype": "text/x-python",
   "name": "python",
   "nbconvert_exporter": "python",
   "pygments_lexer": "ipython3",
   "version": "3.6.6"
  }
 },
 "nbformat": 4,
 "nbformat_minor": 2
}
