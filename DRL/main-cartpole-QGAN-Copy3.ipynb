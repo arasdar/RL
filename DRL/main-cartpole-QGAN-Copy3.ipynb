{
 "cells": [
  {
   "cell_type": "code",
   "execution_count": 1,
   "metadata": {},
   "outputs": [
    {
     "name": "stdout",
     "output_type": "stream",
     "text": [
      "TensorFlow Version: 1.7.1\n",
      "Default GPU Device: \n"
     ]
    }
   ],
   "source": [
    "import tensorflow as tf\n",
    "print('TensorFlow Version: {}'.format(tf.__version__))\n",
    "print('Default GPU Device: {}'.format(tf.test.gpu_device_name()))"
   ]
  },
  {
   "cell_type": "markdown",
   "metadata": {},
   "source": [
    "##### >**Note:** Make sure you have OpenAI Gym cloned. Then run this command `pip install -e gym/[all]`."
   ]
  },
  {
   "cell_type": "code",
   "execution_count": 2,
   "metadata": {},
   "outputs": [],
   "source": [
    "import numpy as np\n",
    "import gym\n",
    "env = gym.make('CartPole-v0')\n",
    "env = gym.make('CartPole-v1')"
   ]
  },
  {
   "cell_type": "code",
   "execution_count": 3,
   "metadata": {},
   "outputs": [],
   "source": [
    "def model_input(state_size):\n",
    "    #states = tf.placeholder(tf.float32, [None, *state_size], name='states')\n",
    "    states = tf.placeholder(tf.float32, [None, state_size], name='states')\n",
    "    actions = tf.placeholder(tf.int32, [None], name='actions')\n",
    "    next_states = tf.placeholder(tf.float32, [None, state_size], name='next_states')\n",
    "    rewards = tf.placeholder(tf.float32, [None], name='rewards')\n",
    "    dones = tf.placeholder(tf.float32, [None], name='dones')\n",
    "    rates = tf.placeholder(tf.float32, [None], name='rates') # success rate\n",
    "    return states, actions, next_states, rewards, dones, rates"
   ]
  },
  {
   "cell_type": "code",
   "execution_count": 4,
   "metadata": {},
   "outputs": [],
   "source": [
    "def Act(states, action_size, hidden_size, reuse=False, alpha=0.1, training=False):\n",
    "    with tf.variable_scope('Act', reuse=reuse):\n",
    "        # First fully connected layer\n",
    "        h1 = tf.layers.dense(inputs=states, units=hidden_size)\n",
    "        bn1 = tf.layers.batch_normalization(h1, training=training)        \n",
    "        nl1 = tf.maximum(alpha * bn1, bn1)\n",
    "        \n",
    "        # Second fully connected layer\n",
    "        h2 = tf.layers.dense(inputs=nl1, units=hidden_size)\n",
    "        bn2 = tf.layers.batch_normalization(h2, training=training)        \n",
    "        nl2 = tf.maximum(alpha * bn2, bn2)\n",
    "        \n",
    "        # Output layer\n",
    "        logits = tf.layers.dense(inputs=nl2, units=action_size)        \n",
    "        return logits"
   ]
  },
  {
   "cell_type": "code",
   "execution_count": 5,
   "metadata": {},
   "outputs": [],
   "source": [
    "def Env(states, actions, state_size, action_size, hidden_size, reuse=False, alpha=0.1, training=False):\n",
    "    with tf.variable_scope('Env', reuse=reuse):\n",
    "        # First fully connected layer\n",
    "        h1 = tf.layers.dense(inputs=states, units=action_size)\n",
    "        bn1 = tf.layers.batch_normalization(h1, training=training)        \n",
    "        nl1 = tf.maximum(alpha * bn1, bn1)\n",
    "        \n",
    "        # Second fully connected layer\n",
    "        nl1_fused = tf.concat(axis=1, values=[nl1, actions])\n",
    "        h2 = tf.layers.dense(inputs=nl1_fused, units=hidden_size)\n",
    "        bn2 = tf.layers.batch_normalization(h2, training=training)        \n",
    "        nl2 = tf.maximum(alpha * bn2, bn2)\n",
    "                \n",
    "        # Output layer\n",
    "        states_logits = tf.layers.dense(inputs=nl2, units=state_size, trainable=False)\n",
    "        Qlogits = tf.layers.dense(inputs=nl2, units=1, trainable=False)\n",
    "        return states_logits, Qlogits"
   ]
  },
  {
   "cell_type": "code",
   "execution_count": 6,
   "metadata": {},
   "outputs": [],
   "source": [
    "def model_loss(state_size, action_size, hidden_size, gamma,\n",
    "               states, actions, next_states, rewards, dones, rates):\n",
    "    ################################################ a = act(s)\n",
    "    actions_logits = Act(states=states, hidden_size=hidden_size, action_size=action_size)\n",
    "    actions_labels = tf.one_hot(indices=actions, depth=action_size, dtype=actions_logits.dtype)\n",
    "    aloss = tf.reduce_mean(tf.nn.softmax_cross_entropy_with_logits_v2(logits=actions_logits, \n",
    "                                                                      labels=actions_labels))\n",
    "    ################################################ s', r = env(s, a)\n",
    "    next_states_logits, Qlogits = Env(actions=actions_labels, states=states, hidden_size=hidden_size, \n",
    "                                      action_size=action_size, state_size=state_size)\n",
    "    next_states_logits_, Qlogits_ = Env(actions=actions_logits, states=states, hidden_size=hidden_size, \n",
    "                                        action_size=action_size, state_size=state_size, reuse=True)\n",
    "#     next_states_labels = tf.nn.sigmoid(next_states)\n",
    "#     eloss = tf.reduce_mean(tf.nn.sigmoid_cross_entropy_with_logits(logits=next_states_logits, # GQN real\n",
    "#                                                                    labels=next_states_labels))\n",
    "#     eloss += -tf.reduce_mean(tf.nn.sigmoid_cross_entropy_with_logits(logits=next_states_logits_, \n",
    "#                                                                      labels=next_states_labels))\n",
    "#     aloss2 = tf.reduce_mean(tf.nn.sigmoid_cross_entropy_with_logits(logits=next_states_logits_, \n",
    "#                                                                     labels=next_states_labels))\n",
    "    eloss = tf.reduce_mean(tf.square(next_states-next_states_logits))\n",
    "    eloss += -tf.reduce_mean(tf.square(next_states-next_states_logits_))\n",
    "    aloss2 = tf.reduce_mean(tf.square(next_states-next_states_logits_))\n",
    "    #################################################### Q=R MonteCarlo Prob-based\n",
    "    Qlogits = tf.reshape(Qlogits, shape=[-1])\n",
    "    Qlogits_ = tf.reshape(Qlogits_, shape=[-1])\n",
    "    eloss += tf.reduce_mean(tf.nn.sigmoid_cross_entropy_with_logits(logits=Qlogits, # GAN real\n",
    "                                                                    labels=rates))\n",
    "    eloss += tf.reduce_mean(tf.nn.sigmoid_cross_entropy_with_logits(logits=Qlogits_, # min\n",
    "                                                                    labels=tf.zeros_like(rates)))\n",
    "    aloss2 += tf.reduce_mean(tf.nn.sigmoid_cross_entropy_with_logits(logits=Qlogits_, # max\n",
    "                                                                     labels=tf.ones_like(rates)))\n",
    "    #################################################### s'', Q' = ~env(s', ~a')\n",
    "    next_actions_logits = Act(states=next_states, hidden_size=hidden_size, action_size=action_size, reuse=True)\n",
    "    _next_states_logits_, nextQlogits_ = Env(actions=next_actions_logits, states=next_states, \n",
    "                                             hidden_size=hidden_size, action_size=action_size, \n",
    "                                             state_size=state_size, reuse=True)\n",
    "    nextQlogits_ = tf.reshape(nextQlogits_, shape=[-1]) * (1-dones)\n",
    "    eloss += tf.reduce_mean(tf.nn.sigmoid_cross_entropy_with_logits(logits=nextQlogits_, # min\n",
    "                                                                    labels=tf.zeros_like(rates)))\n",
    "    aloss2 += tf.reduce_mean(tf.nn.sigmoid_cross_entropy_with_logits(logits=nextQlogits_, # max\n",
    "                                                                     labels=tf.ones_like(rates)))\n",
    "    ###################################################### Q(s,a)= r + Q'(s',a')-TempDiff-Value-based\n",
    "    targetQs = rewards + (gamma * nextQlogits_)\n",
    "    eloss += tf.reduce_mean(tf.square(Qlogits - targetQs)) # real\n",
    "    eloss += tf.reduce_mean(tf.square(Qlogits_ - rewards)) # min\n",
    "    #aloss2 += -tf.reduce_mean(tf.square(Qlogits_ - targetQs))\n",
    "    aloss2 += -tf.reduce_mean(Qlogits_)\n",
    "    return actions_logits, aloss, eloss, aloss2"
   ]
  },
  {
   "cell_type": "code",
   "execution_count": 7,
   "metadata": {},
   "outputs": [],
   "source": [
    "def model_opt(a_loss, e_loss, a_loss2, a_learning_rate, e_learning_rate):\n",
    "    # Get weights and bias to update\n",
    "    t_vars = tf.trainable_variables()\n",
    "    a_vars = [var for var in t_vars if var.name.startswith('Act')]\n",
    "    e_vars = [var for var in t_vars if var.name.startswith('Env')]\n",
    "\n",
    "    # Optimize\n",
    "    with tf.control_dependencies(tf.get_collection(tf.GraphKeys.UPDATE_OPS)): # Required for batchnorm (BN)\n",
    "        a_opt = tf.train.AdamOptimizer(a_learning_rate).minimize(a_loss, var_list=a_vars)\n",
    "        e_opt = tf.train.AdamOptimizer(e_learning_rate).minimize(e_loss, var_list=e_vars)\n",
    "        a_opt2 = tf.train.AdamOptimizer(a_learning_rate).minimize(a_loss2, var_list=a_vars)\n",
    "    return a_opt, e_opt, a_opt2"
   ]
  },
  {
   "cell_type": "code",
   "execution_count": 8,
   "metadata": {},
   "outputs": [],
   "source": [
    "class Model:\n",
    "    def __init__(self, state_size, action_size, hidden_size, a_learning_rate, e_learning_rate, gamma):\n",
    "\n",
    "        # Data of the Model: make the data available inside the framework\n",
    "        self.states, self.actions, self.next_states, self.rewards, self.dones, self.rates = model_input(\n",
    "            state_size=state_size)\n",
    "\n",
    "        # Create the Model: calculating the loss and forwad pass\n",
    "        self.actions_logits, self.a_loss, self.e_loss, self.a_loss2 = model_loss(\n",
    "            state_size=state_size, action_size=action_size, hidden_size=hidden_size, gamma=gamma, # model init\n",
    "            states=self.states, actions=self.actions, next_states=self.next_states, \n",
    "            rewards=self.rewards, dones=self.dones, rates=self.rates) # model input\n",
    "        \n",
    "        # Update the model: backward pass and backprop\n",
    "        self.a_opt, self.e_opt, self.a_opt2 = model_opt(a_loss=self.a_loss, \n",
    "                                                        e_loss=self.e_loss,\n",
    "                                                        a_loss2=self.a_loss2, \n",
    "                                                        a_learning_rate=a_learning_rate,\n",
    "                                                        e_learning_rate=e_learning_rate)"
   ]
  },
  {
   "cell_type": "code",
   "execution_count": 9,
   "metadata": {},
   "outputs": [],
   "source": [
    "from collections import deque\n",
    "class Memory():\n",
    "    def __init__(self, max_size = 1000):\n",
    "        self.buffer = deque(maxlen=max_size) # data batch\n",
    "#     def sample(self, batch_size):\n",
    "#         idx = np.random.choice(np.arange(len(self.buffer)), size=batch_size, replace=False)\n",
    "#         return [self.buffer[ii] for ii in idx]"
   ]
  },
  {
   "cell_type": "markdown",
   "metadata": {},
   "source": [
    "## Hyperparameters\n",
    "\n",
    "One of the more difficult aspects of reinforcememt learning are the large number of hyperparameters. Not only are we tuning the network, but we're tuning the simulation."
   ]
  },
  {
   "cell_type": "code",
   "execution_count": 10,
   "metadata": {},
   "outputs": [
    {
     "data": {
      "text/plain": [
       "(Box(4,), Discrete(2))"
      ]
     },
     "execution_count": 10,
     "metadata": {},
     "output_type": "execute_result"
    }
   ],
   "source": [
    "env.observation_space, env.action_space"
   ]
  },
  {
   "cell_type": "code",
   "execution_count": 11,
   "metadata": {},
   "outputs": [],
   "source": [
    "# Exploration parameters\n",
    "explore_start = 1.0            # exploration probability at start\n",
    "explore_stop = 0.01           # minimum exploration probability \n",
    "decay_rate = 0.0001            # exponential decay rate for exploration prob\n",
    "\n",
    "# Network parameters\n",
    "state_size = 4\n",
    "action_size = 2\n",
    "hidden_size = 4*2             # number of units in each Q-network hidden layer\n",
    "a_learning_rate = 1e-4         # Q-network learning rate\n",
    "e_learning_rate = 1e-4         # Q-network learning rate\n",
    "\n",
    "# Memory parameters\n",
    "memory_size = int(1e5)            # memory capacity\n",
    "batch_size = int(1e3)             # experience mini-batch size\n",
    "gamma=0.99"
   ]
  },
  {
   "cell_type": "code",
   "execution_count": 12,
   "metadata": {},
   "outputs": [],
   "source": [
    "# Reset/init the graph/session\n",
    "graph = tf.reset_default_graph()\n",
    "\n",
    "# Init the model\n",
    "model = Model(action_size=action_size, state_size=state_size, hidden_size=hidden_size, gamma=gamma,\n",
    "              a_learning_rate=a_learning_rate, e_learning_rate=e_learning_rate)\n",
    "\n",
    "# Init the memory\n",
    "memory = Memory(max_size=memory_size)"
   ]
  },
  {
   "cell_type": "code",
   "execution_count": 13,
   "metadata": {},
   "outputs": [
    {
     "data": {
      "text/plain": [
       "(<tf.Tensor 'add_8:0' shape=() dtype=float32>,\n",
       " <tf.Tensor 'Mean:0' shape=() dtype=float32>,\n",
       " <tf.Tensor 'add_9:0' shape=() dtype=float32>)"
      ]
     },
     "execution_count": 13,
     "metadata": {},
     "output_type": "execute_result"
    }
   ],
   "source": [
    "model.e_loss, model.a_loss, model.a_loss2"
   ]
  },
  {
   "cell_type": "code",
   "execution_count": 14,
   "metadata": {},
   "outputs": [],
   "source": [
    "state = env.reset()\n",
    "total_reward = 0\n",
    "num_step = 0\n",
    "for _ in range(memory_size):\n",
    "    action = env.action_space.sample()\n",
    "    next_state, reward, done, _ = env.step(action)\n",
    "    rate = -1\n",
    "    memory.buffer.append([state, action, next_state, reward, float(done), rate])\n",
    "    num_step += 1 # memory incremented\n",
    "    total_reward += reward\n",
    "    state = next_state\n",
    "    if done is True:\n",
    "        #print(done)\n",
    "        rate = total_reward/500\n",
    "        for idx in range(num_step): # episode length\n",
    "            if memory.buffer[-1-idx][-1] == -1:\n",
    "                memory.buffer[-1-idx][-1] = rate\n",
    "        state = env.reset()\n",
    "        total_reward = 0 # reset\n",
    "        num_step = 0 # reset"
   ]
  },
  {
   "cell_type": "markdown",
   "metadata": {},
   "source": [
    "## Training the model\n",
    "\n",
    "Below we'll train our agent. If you want to watch it train, uncomment the `env.render()` line. This is slow because it's rendering the frames slower than the network can train. But, it's cool to watch the agent get better at the game."
   ]
  },
  {
   "cell_type": "code",
   "execution_count": 15,
   "metadata": {},
   "outputs": [],
   "source": [
    "def minibatch(memory):\n",
    "    batch = memory.buffer\n",
    "    #for idx in range(memory_size// batch_size):\n",
    "    while True:\n",
    "        idx = np.random.choice(np.arange(memory_size// batch_size))\n",
    "        states = np.array([each[0] for each in batch])[idx*batch_size:(idx+1)*batch_size]\n",
    "        actions = np.array([each[1] for each in batch])[idx*batch_size:(idx+1)*batch_size]\n",
    "        next_states = np.array([each[2] for each in batch])[idx*batch_size:(idx+1)*batch_size]\n",
    "        rewards = np.array([each[3] for each in batch])[idx*batch_size:(idx+1)*batch_size]\n",
    "        dones = np.array([each[4] for each in batch])[idx*batch_size:(idx+1)*batch_size]\n",
    "        rates = np.array([each[5] for each in batch])[idx*batch_size:(idx+1)*batch_size]\n",
    "        states = states[rates >= np.max(rates)]\n",
    "        actions = actions[rates >= np.max(rates)]\n",
    "        next_states = next_states[rates >= np.max(rates)]\n",
    "        rewards = rewards[rates >= np.max(rates)]\n",
    "        dones = dones[rates >= np.max(rates)]\n",
    "        rates = rates[rates >= np.max(rates)]\n",
    "        if np.count_nonzero(dones) > 0 and len(dones) > 1 and np.max(rates) > 0:\n",
    "            break\n",
    "    return states, actions, next_states, rewards, dones, rates"
   ]
  },
  {
   "cell_type": "code",
   "execution_count": null,
   "metadata": {},
   "outputs": [
    {
     "name": "stdout",
     "output_type": "stream",
     "text": [
      "Episode:0 meanR:18.0000 R:18.0000 rate:0.0360 aloss:0.7113 eloss:5.4349 aloss2:1.8564 exploreP:0.9982\n",
      "Episode:1 meanR:23.5000 R:29.0000 rate:0.0580 aloss:0.7080 eloss:5.3614 aloss2:1.7459 exploreP:0.9954\n",
      "Episode:2 meanR:20.0000 R:13.0000 rate:0.0260 aloss:0.7163 eloss:5.3559 aloss2:1.7904 exploreP:0.9941\n",
      "Episode:3 meanR:22.2500 R:29.0000 rate:0.0580 aloss:0.7057 eloss:5.3215 aloss2:1.7495 exploreP:0.9912\n",
      "Episode:4 meanR:25.4000 R:38.0000 rate:0.0760 aloss:0.7054 eloss:5.2792 aloss2:1.7460 exploreP:0.9875\n",
      "Episode:5 meanR:23.5000 R:14.0000 rate:0.0280 aloss:0.7113 eloss:5.2031 aloss2:1.6942 exploreP:0.9861\n",
      "Episode:6 meanR:23.5714 R:24.0000 rate:0.0480 aloss:0.7002 eloss:5.1439 aloss2:1.6163 exploreP:0.9838\n",
      "Episode:7 meanR:23.6250 R:24.0000 rate:0.0480 aloss:0.7058 eloss:5.1099 aloss2:1.6446 exploreP:0.9815\n",
      "Episode:8 meanR:24.0000 R:27.0000 rate:0.0540 aloss:0.7045 eloss:5.0911 aloss2:1.6255 exploreP:0.9788\n",
      "Episode:9 meanR:23.4000 R:18.0000 rate:0.0360 aloss:0.7044 eloss:5.0805 aloss2:1.6701 exploreP:0.9771\n",
      "Episode:10 meanR:23.0000 R:19.0000 rate:0.0380 aloss:0.6974 eloss:5.0193 aloss2:1.6764 exploreP:0.9753\n",
      "Episode:11 meanR:22.8333 R:21.0000 rate:0.0420 aloss:0.7035 eloss:4.9355 aloss2:1.4979 exploreP:0.9732\n",
      "Episode:12 meanR:24.9231 R:50.0000 rate:0.1000 aloss:0.7042 eloss:4.8855 aloss2:1.5446 exploreP:0.9684\n",
      "Episode:13 meanR:24.4286 R:18.0000 rate:0.0360 aloss:0.7037 eloss:4.7952 aloss2:1.5081 exploreP:0.9667\n",
      "Episode:14 meanR:24.0667 R:19.0000 rate:0.0380 aloss:0.7028 eloss:4.8396 aloss2:1.5442 exploreP:0.9649\n",
      "Episode:15 meanR:23.3750 R:13.0000 rate:0.0260 aloss:0.7035 eloss:4.7777 aloss2:1.5235 exploreP:0.9637\n",
      "Episode:16 meanR:22.8235 R:14.0000 rate:0.0280 aloss:0.7092 eloss:4.7651 aloss2:1.6437 exploreP:0.9623\n",
      "Episode:17 meanR:23.5556 R:36.0000 rate:0.0720 aloss:0.7050 eloss:4.7066 aloss2:1.5193 exploreP:0.9589\n",
      "Episode:18 meanR:23.2105 R:17.0000 rate:0.0340 aloss:0.7046 eloss:4.6562 aloss2:1.4563 exploreP:0.9573\n",
      "Episode:19 meanR:25.4000 R:67.0000 rate:0.1340 aloss:0.7028 eloss:4.6266 aloss2:1.4800 exploreP:0.9510\n",
      "Episode:20 meanR:25.0952 R:19.0000 rate:0.0380 aloss:0.7066 eloss:4.5613 aloss2:1.5291 exploreP:0.9492\n",
      "Episode:21 meanR:25.1818 R:27.0000 rate:0.0540 aloss:0.7042 eloss:4.5099 aloss2:1.4447 exploreP:0.9466\n",
      "Episode:22 meanR:24.5652 R:11.0000 rate:0.0220 aloss:0.7065 eloss:4.4763 aloss2:1.4118 exploreP:0.9456\n",
      "Episode:23 meanR:24.1667 R:15.0000 rate:0.0300 aloss:0.7050 eloss:4.4880 aloss2:1.4581 exploreP:0.9442\n",
      "Episode:24 meanR:24.0400 R:21.0000 rate:0.0420 aloss:0.7060 eloss:4.4270 aloss2:1.4172 exploreP:0.9423\n",
      "Episode:25 meanR:23.8462 R:19.0000 rate:0.0380 aloss:0.7063 eloss:4.4333 aloss2:1.4499 exploreP:0.9405\n",
      "Episode:26 meanR:23.6296 R:18.0000 rate:0.0360 aloss:0.7054 eloss:4.4241 aloss2:1.4247 exploreP:0.9388\n",
      "Episode:27 meanR:23.3929 R:17.0000 rate:0.0340 aloss:0.7052 eloss:4.4378 aloss2:1.5274 exploreP:0.9372\n",
      "Episode:28 meanR:23.2069 R:18.0000 rate:0.0360 aloss:0.7038 eloss:4.4031 aloss2:1.4331 exploreP:0.9356\n",
      "Episode:29 meanR:23.2667 R:25.0000 rate:0.0500 aloss:0.7024 eloss:4.3396 aloss2:1.4167 exploreP:0.9333\n",
      "Episode:30 meanR:23.4194 R:28.0000 rate:0.0560 aloss:0.7025 eloss:4.3376 aloss2:1.4484 exploreP:0.9307\n",
      "Episode:31 meanR:23.1562 R:15.0000 rate:0.0300 aloss:0.7023 eloss:4.3096 aloss2:1.4512 exploreP:0.9293\n",
      "Episode:32 meanR:22.8485 R:13.0000 rate:0.0260 aloss:0.7057 eloss:4.2744 aloss2:1.3666 exploreP:0.9281\n",
      "Episode:33 meanR:22.6176 R:15.0000 rate:0.0300 aloss:0.7023 eloss:4.2407 aloss2:1.3489 exploreP:0.9267\n",
      "Episode:34 meanR:22.5429 R:20.0000 rate:0.0400 aloss:0.7057 eloss:4.2649 aloss2:1.4085 exploreP:0.9249\n",
      "Episode:35 meanR:22.3611 R:16.0000 rate:0.0320 aloss:0.7038 eloss:4.2466 aloss2:1.4067 exploreP:0.9234\n",
      "Episode:36 meanR:22.2703 R:19.0000 rate:0.0380 aloss:0.7029 eloss:4.2297 aloss2:1.3789 exploreP:0.9217\n",
      "Episode:37 meanR:21.9474 R:10.0000 rate:0.0200 aloss:0.7052 eloss:4.2359 aloss2:1.3967 exploreP:0.9208\n",
      "Episode:38 meanR:21.8205 R:17.0000 rate:0.0340 aloss:0.7061 eloss:4.2310 aloss2:1.4530 exploreP:0.9192\n",
      "Episode:39 meanR:22.2000 R:37.0000 rate:0.0740 aloss:0.7019 eloss:4.1841 aloss2:1.3890 exploreP:0.9159\n",
      "Episode:40 meanR:22.0732 R:17.0000 rate:0.0340 aloss:0.7024 eloss:4.1570 aloss2:1.4083 exploreP:0.9143\n",
      "Episode:41 meanR:22.5714 R:43.0000 rate:0.0860 aloss:0.7026 eloss:4.1576 aloss2:1.4743 exploreP:0.9105\n",
      "Episode:42 meanR:22.4186 R:16.0000 rate:0.0320 aloss:0.7039 eloss:4.1270 aloss2:1.3973 exploreP:0.9090\n",
      "Episode:43 meanR:22.3409 R:19.0000 rate:0.0380 aloss:0.7001 eloss:4.0999 aloss2:1.3811 exploreP:0.9073\n",
      "Episode:44 meanR:22.0667 R:10.0000 rate:0.0200 aloss:0.7045 eloss:4.0995 aloss2:1.3314 exploreP:0.9064\n",
      "Episode:45 meanR:21.8261 R:11.0000 rate:0.0220 aloss:0.7034 eloss:4.0832 aloss2:1.3586 exploreP:0.9054\n",
      "Episode:46 meanR:22.0851 R:34.0000 rate:0.0680 aloss:0.7005 eloss:4.0744 aloss2:1.3679 exploreP:0.9024\n",
      "Episode:47 meanR:22.0417 R:20.0000 rate:0.0400 aloss:0.7048 eloss:4.0883 aloss2:1.3481 exploreP:0.9006\n",
      "Episode:48 meanR:22.3469 R:37.0000 rate:0.0740 aloss:0.7002 eloss:4.0321 aloss2:1.3287 exploreP:0.8973\n",
      "Episode:49 meanR:22.3200 R:21.0000 rate:0.0420 aloss:0.7010 eloss:4.0320 aloss2:1.3138 exploreP:0.8955\n",
      "Episode:50 meanR:22.7647 R:45.0000 rate:0.0900 aloss:0.6986 eloss:4.0048 aloss2:1.3317 exploreP:0.8915\n",
      "Episode:51 meanR:22.5000 R:9.0000 rate:0.0180 aloss:0.7005 eloss:3.9995 aloss2:1.2866 exploreP:0.8907\n",
      "Episode:52 meanR:22.3208 R:13.0000 rate:0.0260 aloss:0.7007 eloss:4.0091 aloss2:1.3202 exploreP:0.8895\n",
      "Episode:53 meanR:22.2778 R:20.0000 rate:0.0400 aloss:0.7002 eloss:4.0039 aloss2:1.4048 exploreP:0.8878\n",
      "Episode:54 meanR:22.0909 R:12.0000 rate:0.0240 aloss:0.6960 eloss:3.9755 aloss2:1.3351 exploreP:0.8867\n",
      "Episode:55 meanR:21.8571 R:9.0000 rate:0.0180 aloss:0.7014 eloss:3.9833 aloss2:1.2687 exploreP:0.8859\n",
      "Episode:56 meanR:21.7719 R:17.0000 rate:0.0340 aloss:0.7014 eloss:3.9726 aloss2:1.2936 exploreP:0.8845\n",
      "Episode:57 meanR:21.8621 R:27.0000 rate:0.0540 aloss:0.7000 eloss:3.9725 aloss2:1.2695 exploreP:0.8821\n",
      "Episode:58 meanR:21.8475 R:21.0000 rate:0.0420 aloss:0.6967 eloss:3.9766 aloss2:1.2578 exploreP:0.8803\n",
      "Episode:59 meanR:22.3833 R:54.0000 rate:0.1080 aloss:0.6984 eloss:3.9492 aloss2:1.2867 exploreP:0.8756\n",
      "Episode:60 meanR:22.1967 R:11.0000 rate:0.0220 aloss:0.6969 eloss:3.9306 aloss2:1.1411 exploreP:0.8746\n",
      "Episode:61 meanR:22.0968 R:16.0000 rate:0.0320 aloss:0.6976 eloss:3.9403 aloss2:1.1861 exploreP:0.8733\n",
      "Episode:62 meanR:22.0952 R:22.0000 rate:0.0440 aloss:0.6976 eloss:3.9336 aloss2:1.2273 exploreP:0.8714\n",
      "Episode:63 meanR:21.9844 R:15.0000 rate:0.0300 aloss:0.6979 eloss:3.9337 aloss2:1.1568 exploreP:0.8701\n",
      "Episode:64 meanR:21.8462 R:13.0000 rate:0.0260 aloss:0.6977 eloss:3.9275 aloss2:1.2161 exploreP:0.8689\n",
      "Episode:65 meanR:21.7121 R:13.0000 rate:0.0260 aloss:0.6978 eloss:3.9372 aloss2:1.1500 exploreP:0.8678\n",
      "Episode:66 meanR:21.5970 R:14.0000 rate:0.0280 aloss:0.6958 eloss:3.9096 aloss2:1.1902 exploreP:0.8666\n",
      "Episode:67 meanR:21.4559 R:12.0000 rate:0.0240 aloss:0.7001 eloss:3.9240 aloss2:1.2013 exploreP:0.8656\n",
      "Episode:68 meanR:21.5362 R:27.0000 rate:0.0540 aloss:0.6951 eloss:3.9141 aloss2:1.1185 exploreP:0.8633\n",
      "Episode:69 meanR:21.4286 R:14.0000 rate:0.0280 aloss:0.6978 eloss:3.9217 aloss2:1.1077 exploreP:0.8621\n",
      "Episode:70 meanR:21.7887 R:47.0000 rate:0.0940 aloss:0.6979 eloss:3.9115 aloss2:1.1583 exploreP:0.8581\n",
      "Episode:71 meanR:21.8056 R:23.0000 rate:0.0460 aloss:0.6949 eloss:3.9065 aloss2:1.1309 exploreP:0.8562\n",
      "Episode:72 meanR:22.0274 R:38.0000 rate:0.0760 aloss:0.6947 eloss:3.8999 aloss2:1.0793 exploreP:0.8529\n",
      "Episode:73 meanR:21.8514 R:9.0000 rate:0.0180 aloss:0.6960 eloss:3.8992 aloss2:1.1253 exploreP:0.8522\n",
      "Episode:74 meanR:21.7600 R:15.0000 rate:0.0300 aloss:0.6946 eloss:3.9043 aloss2:1.0820 exploreP:0.8509\n",
      "Episode:75 meanR:21.7500 R:21.0000 rate:0.0420 aloss:0.6952 eloss:3.8973 aloss2:1.0886 exploreP:0.8492\n",
      "Episode:76 meanR:21.6883 R:17.0000 rate:0.0340 aloss:0.6937 eloss:3.8877 aloss2:1.1090 exploreP:0.8477\n",
      "Episode:77 meanR:21.5513 R:11.0000 rate:0.0220 aloss:0.6961 eloss:3.8957 aloss2:1.1021 exploreP:0.8468\n",
      "Episode:78 meanR:21.5316 R:20.0000 rate:0.0400 aloss:0.6940 eloss:3.8823 aloss2:1.1620 exploreP:0.8451\n",
      "Episode:79 meanR:21.4000 R:11.0000 rate:0.0220 aloss:0.6939 eloss:3.8846 aloss2:1.1069 exploreP:0.8442\n"
     ]
    },
    {
     "name": "stdout",
     "output_type": "stream",
     "text": [
      "Episode:80 meanR:21.7160 R:47.0000 rate:0.0940 aloss:0.6938 eloss:3.8919 aloss2:1.1161 exploreP:0.8403\n",
      "Episode:81 meanR:21.8293 R:31.0000 rate:0.0620 aloss:0.6936 eloss:3.8761 aloss2:1.0625 exploreP:0.8377\n",
      "Episode:82 meanR:21.7590 R:16.0000 rate:0.0320 aloss:0.6929 eloss:3.8709 aloss2:1.0847 exploreP:0.8364\n",
      "Episode:83 meanR:21.6786 R:15.0000 rate:0.0300 aloss:0.6927 eloss:3.8594 aloss2:0.9858 exploreP:0.8352\n",
      "Episode:84 meanR:21.6000 R:15.0000 rate:0.0300 aloss:0.6916 eloss:3.8717 aloss2:1.1164 exploreP:0.8339\n",
      "Episode:85 meanR:21.6047 R:22.0000 rate:0.0440 aloss:0.6930 eloss:3.8687 aloss2:1.1220 exploreP:0.8321\n",
      "Episode:86 meanR:21.6207 R:23.0000 rate:0.0460 aloss:0.6931 eloss:3.8674 aloss2:1.0732 exploreP:0.8302\n",
      "Episode:87 meanR:21.5795 R:18.0000 rate:0.0360 aloss:0.6930 eloss:3.8637 aloss2:1.1484 exploreP:0.8288\n",
      "Episode:88 meanR:21.4494 R:10.0000 rate:0.0200 aloss:0.6923 eloss:3.8459 aloss2:1.0878 exploreP:0.8280\n",
      "Episode:89 meanR:21.4111 R:18.0000 rate:0.0360 aloss:0.6940 eloss:3.8692 aloss2:1.0615 exploreP:0.8265\n",
      "Episode:90 meanR:21.3736 R:18.0000 rate:0.0360 aloss:0.6932 eloss:3.8674 aloss2:1.0407 exploreP:0.8250\n",
      "Episode:91 meanR:21.3152 R:16.0000 rate:0.0320 aloss:0.6928 eloss:3.8519 aloss2:1.1142 exploreP:0.8237\n",
      "Episode:92 meanR:21.2151 R:12.0000 rate:0.0240 aloss:0.6933 eloss:3.8476 aloss2:1.0488 exploreP:0.8227\n",
      "Episode:93 meanR:21.2766 R:27.0000 rate:0.0540 aloss:0.6926 eloss:3.8486 aloss2:1.0566 exploreP:0.8205\n",
      "Episode:94 meanR:21.2000 R:14.0000 rate:0.0280 aloss:0.6914 eloss:3.8371 aloss2:1.0828 exploreP:0.8194\n",
      "Episode:95 meanR:21.1875 R:20.0000 rate:0.0400 aloss:0.6918 eloss:3.8488 aloss2:1.0593 exploreP:0.8178\n",
      "Episode:96 meanR:21.1340 R:16.0000 rate:0.0320 aloss:0.6927 eloss:3.8422 aloss2:1.0667 exploreP:0.8165\n",
      "Episode:97 meanR:21.0918 R:17.0000 rate:0.0340 aloss:0.6925 eloss:3.8309 aloss2:1.1274 exploreP:0.8151\n",
      "Episode:98 meanR:21.0505 R:17.0000 rate:0.0340 aloss:0.6922 eloss:3.8528 aloss2:1.0527 exploreP:0.8138\n"
     ]
    }
   ],
   "source": [
    "# Save/load the model and save for plotting\n",
    "saver = tf.train.Saver()\n",
    "episode_rewards_list, rewards_list = [], []\n",
    "aloss_list, eloss_list, aloss2_list = [], [], []\n",
    "\n",
    "# TF session for training\n",
    "with tf.Session(graph=graph) as sess:\n",
    "    sess.run(tf.global_variables_initializer())\n",
    "    #saver.restore(sess, 'checkpoints/model.ckpt')    \n",
    "    #saver.restore(sess, tf.train.latest_checkpoint('checkpoints'))\n",
    "    total_step = 0 # Explore or exploit parameter\n",
    "    episode_reward = deque(maxlen=100) # 100 episodes for running average/running mean/window\n",
    "\n",
    "    # Training episodes/epochs\n",
    "    for ep in range(11111):\n",
    "        aloss_batch, eloss_batch, aloss2_batch = [], [], []\n",
    "        total_reward = 0\n",
    "        state = env.reset()\n",
    "        num_step = 0\n",
    "        rate = -1\n",
    "\n",
    "        # Training steps/batches\n",
    "        while True:\n",
    "            # Explore (env) or Exploit (model)\n",
    "            total_step += 1\n",
    "            explore_p = explore_stop + (explore_start - explore_stop) * np.exp(-decay_rate * total_step) \n",
    "            if explore_p > np.random.rand():\n",
    "                action = env.action_space.sample()\n",
    "            else:\n",
    "                action_logits = sess.run(model.actions_logits, feed_dict={model.states: state.reshape([1, -1])})\n",
    "                action = np.argmax(action_logits)\n",
    "            next_state, reward, done, _ = env.step(action)\n",
    "            memory.buffer.append([state, action, next_state, reward, float(done), rate])\n",
    "            num_step += 1 # momory added\n",
    "            total_reward += reward\n",
    "            state = next_state\n",
    "            \n",
    "            # Training with the maxrated minibatch\n",
    "            states, actions, next_states, rewards, dones, rates = minibatch(memory=memory)\n",
    "            feed_dict = {model.states: states, model.actions: actions, model.next_states: next_states,\n",
    "                         model.rewards: rewards, model.dones: dones, model.rates: rates}\n",
    "            aloss, _ = sess.run([model.a_loss, model.a_opt], feed_dict)\n",
    "            eloss, _ = sess.run([model.e_loss, model.e_opt], feed_dict)\n",
    "            aloss2, _= sess.run([model.a_loss2, model.a_opt2], feed_dict)\n",
    "            aloss_batch.append(aloss)\n",
    "            eloss_batch.append(eloss)\n",
    "            aloss2_batch.append(aloss2)\n",
    "            if done is True:\n",
    "                break\n",
    "                \n",
    "        # Rating the latest played episode\n",
    "        rate = total_reward/500 # update rate at the end/ when episode is done\n",
    "        for idx in range(num_step): # episode length\n",
    "            if memory.buffer[-1-idx][-1] == -1: # double-check the landmark/marked indexes\n",
    "                memory.buffer[-1-idx][-1] = rate # rate the trajectory/data\n",
    "\n",
    "        # Print out\n",
    "        episode_reward.append(total_reward)\n",
    "        print('Episode:{}'.format(ep),\n",
    "              'meanR:{:.4f}'.format(np.mean(episode_reward)),\n",
    "              'R:{:.4f}'.format(total_reward),\n",
    "              'rate:{:.4f}'.format(rate),\n",
    "              'aloss:{:.4f}'.format(np.mean(aloss_batch)),\n",
    "              'eloss:{:.4f}'.format(np.mean(eloss_batch)),\n",
    "              'aloss2:{:.4f}'.format(np.mean(aloss2_batch)),\n",
    "              'exploreP:{:.4f}'.format(explore_p))\n",
    "\n",
    "        # Ploting out\n",
    "        episode_rewards_list.append([ep, np.mean(episode_reward)])\n",
    "        rewards_list.append([ep, total_reward])\n",
    "        aloss_list.append([ep, np.mean(aloss_batch)])\n",
    "        eloss_list.append([ep, np.mean(eloss_batch)])\n",
    "        aloss2_list.append([ep, np.mean(aloss2_batch)])\n",
    "        \n",
    "        # Break episode/epoch loop\n",
    "        ## Option 1: Solve the First Version\n",
    "        #The task is episodic, and in order to solve the environment, \n",
    "        #your agent must get an average score of +30 over 100 consecutive episodes.\n",
    "        if np.mean(episode_reward) >= 500:\n",
    "            break\n",
    "            \n",
    "    # At the end of all training episodes/epochs\n",
    "    saver.save(sess, 'checkpoints/model.ckpt')"
   ]
  },
  {
   "cell_type": "markdown",
   "metadata": {},
   "source": [
    "# Visualizing training\n",
    "\n",
    "Below I'll plot the total rewards for each episode. I'm plotting the rolling average too, in blue."
   ]
  },
  {
   "cell_type": "code",
   "execution_count": null,
   "metadata": {},
   "outputs": [],
   "source": [
    "import matplotlib.pyplot as plt\n",
    "%matplotlib inline\n",
    "\n",
    "def running_mean(x, N):\n",
    "    cumsum = np.cumsum(np.insert(x, 0, 0)) \n",
    "    return (cumsum[N:] - cumsum[:-N]) / N "
   ]
  },
  {
   "cell_type": "code",
   "execution_count": null,
   "metadata": {},
   "outputs": [],
   "source": [
    "eps, arr = np.array(episode_rewards_list).T\n",
    "smoothed_arr = running_mean(arr, 10)\n",
    "plt.plot(eps[-len(smoothed_arr):], smoothed_arr)\n",
    "plt.plot(eps, arr, color='grey', alpha=0.3)\n",
    "plt.xlabel('Episode')\n",
    "plt.ylabel('Total rewards')"
   ]
  },
  {
   "cell_type": "code",
   "execution_count": null,
   "metadata": {},
   "outputs": [],
   "source": [
    "eps, arr = np.array(rewards_list).T\n",
    "smoothed_arr = running_mean(arr, 10)\n",
    "plt.plot(eps[-len(smoothed_arr):], smoothed_arr)\n",
    "plt.plot(eps, arr, color='grey', alpha=0.3)\n",
    "plt.xlabel('Episode')\n",
    "plt.ylabel('Total rewards')"
   ]
  },
  {
   "cell_type": "code",
   "execution_count": null,
   "metadata": {},
   "outputs": [],
   "source": [
    "eps, arr = np.array(aloss_list).T\n",
    "smoothed_arr = running_mean(arr, 10)\n",
    "plt.plot(eps[-len(smoothed_arr):], smoothed_arr)\n",
    "plt.plot(eps, arr, color='grey', alpha=0.3)\n",
    "plt.xlabel('Episode')\n",
    "plt.ylabel('Act losses')"
   ]
  },
  {
   "cell_type": "code",
   "execution_count": null,
   "metadata": {},
   "outputs": [],
   "source": [
    "eps, arr = np.array(eloss_list).T\n",
    "smoothed_arr = running_mean(arr, 10)\n",
    "plt.plot(eps[-len(smoothed_arr):], smoothed_arr)\n",
    "plt.plot(eps, arr, color='grey', alpha=0.3)\n",
    "plt.xlabel('Episode')\n",
    "plt.ylabel('Env losses')"
   ]
  },
  {
   "cell_type": "code",
   "execution_count": null,
   "metadata": {},
   "outputs": [],
   "source": [
    "eps, arr = np.array(aloss2_list).T\n",
    "smoothed_arr = running_mean(arr, 10)\n",
    "plt.plot(eps[-len(smoothed_arr):], smoothed_arr)\n",
    "plt.plot(eps, arr, color='grey', alpha=0.3)\n",
    "plt.xlabel('Episode')\n",
    "plt.ylabel('Act losses 2')"
   ]
  },
  {
   "cell_type": "markdown",
   "metadata": {},
   "source": [
    "## Testing\n",
    "\n",
    "Let's checkout how our trained agent plays the game."
   ]
  },
  {
   "cell_type": "code",
   "execution_count": 21,
   "metadata": {},
   "outputs": [
    {
     "name": "stdout",
     "output_type": "stream",
     "text": [
      "INFO:tensorflow:Restoring parameters from checkpoints/model.ckpt\n",
      "total_reward: 500.0\n",
      "total_reward: 500.0\n",
      "total_reward: 500.0\n",
      "total_reward: 500.0\n",
      "total_reward: 500.0\n",
      "total_reward: 500.0\n",
      "total_reward: 500.0\n",
      "total_reward: 500.0\n",
      "total_reward: 500.0\n",
      "total_reward: 500.0\n"
     ]
    }
   ],
   "source": [
    "import gym\n",
    "env = gym.make('CartPole-v0')\n",
    "env = gym.make('CartPole-v1')\n",
    "\n",
    "with tf.Session() as sess:\n",
    "    sess.run(tf.global_variables_initializer())\n",
    "    saver.restore(sess, 'checkpoints/model.ckpt')    \n",
    "    #saver.restore(sess, tf.train.latest_checkpoint('checkpoints'))\n",
    "    \n",
    "    # Episodes/epochs\n",
    "    for _ in range(10):\n",
    "        state = env.reset()\n",
    "        total_reward = 0\n",
    "\n",
    "        # Steps/batches\n",
    "        while True:\n",
    "            env.render()\n",
    "            action_logits = sess.run(model.actions_logits, feed_dict={model.states: state.reshape([1, -1])})\n",
    "            action = np.argmax(action_logits)\n",
    "            state, reward, done, _ = env.step(action)\n",
    "            total_reward += reward\n",
    "            if done:\n",
    "                print('total_reward: {}'.format(total_reward))\n",
    "                break\n",
    "                \n",
    "env.close()"
   ]
  },
  {
   "cell_type": "code",
   "execution_count": null,
   "metadata": {},
   "outputs": [],
   "source": []
  }
 ],
 "metadata": {
  "kernelspec": {
   "display_name": "Python 3",
   "language": "python",
   "name": "python3"
  },
  "language_info": {
   "codemirror_mode": {
    "name": "ipython",
    "version": 3
   },
   "file_extension": ".py",
   "mimetype": "text/x-python",
   "name": "python",
   "nbconvert_exporter": "python",
   "pygments_lexer": "ipython3",
   "version": "3.6.6"
  }
 },
 "nbformat": 4,
 "nbformat_minor": 2
}
