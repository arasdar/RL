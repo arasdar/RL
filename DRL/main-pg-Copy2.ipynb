{
 "cells": [
  {
   "cell_type": "markdown",
   "metadata": {},
   "source": [
    "# Policy gradients\n",
    "\n",
    "\n",
    "In this notebook, we'll build a neural network that can learn to play games through reinforcement learning. More specifically, we'll use Q-learning to train an agent to play a game called [Cart-Pole](https://gym.openai.com/envs/CartPole-v0). In this game, a freely swinging pole is attached to a cart. The cart can move to the left and right, and the goal is to keep the pole upright as long as possible.\n",
    "\n",
    "![Cart-Pole](assets/cart-pole.jpg)\n",
    "\n",
    "We can simulate this game using [OpenAI Gym](https://gym.openai.com/). First, let's check out how OpenAI Gym works. Then, we'll get into training an agent to play the Cart-Pole game."
   ]
  },
  {
   "cell_type": "code",
   "execution_count": 1,
   "metadata": {},
   "outputs": [
    {
     "name": "stdout",
     "output_type": "stream",
     "text": [
      "TensorFlow Version: 1.7.1\n",
      "Default GPU Device: \n"
     ]
    }
   ],
   "source": [
    "# In this one we should define and detect GPUs for tensorflow\n",
    "# GPUs or CPU\n",
    "import tensorflow as tf\n",
    "\n",
    "# Check TensorFlow Version\n",
    "print('TensorFlow Version: {}'.format(tf.__version__))\n",
    "\n",
    "# Check for a GPU\n",
    "print('Default GPU Device: {}'.format(tf.test.gpu_device_name()))"
   ]
  },
  {
   "cell_type": "markdown",
   "metadata": {},
   "source": [
    ">**Note:** Make sure you have OpenAI Gym cloned into the same directory with this notebook. I've included `gym` as a submodule, so you can run `git submodule --init --recursive` to pull the contents into the `gym` repo."
   ]
  },
  {
   "cell_type": "markdown",
   "metadata": {},
   "source": [
    "##### >**Note:** Make sure you have OpenAI Gym cloned. Then run this command `pip install -e gym/[all]`."
   ]
  },
  {
   "cell_type": "code",
   "execution_count": 2,
   "metadata": {},
   "outputs": [
    {
     "name": "stdout",
     "output_type": "stream",
     "text": [
      "\u001b[33mWARN: gym.spaces.Box autodetected dtype as <class 'numpy.float32'>. Please provide explicit dtype.\u001b[0m\n"
     ]
    },
    {
     "name": "stderr",
     "output_type": "stream",
     "text": [
      "/home/arasdar/anaconda3/envs/env/lib/python3.6/site-packages/gym/__init__.py:22: UserWarning: DEPRECATION WARNING: to improve load times, gym no longer automatically loads gym.spaces. Please run \"import gym.spaces\" to load gym.spaces on your own. This warning will turn into an error in a future version of gym.\n",
      "  warnings.warn('DEPRECATION WARNING: to improve load times, gym no longer automatically loads gym.spaces. Please run \"import gym.spaces\" to load gym.spaces on your own. This warning will turn into an error in a future version of gym.')\n"
     ]
    }
   ],
   "source": [
    "import gym\n",
    "\n",
    "## Create the Cart-Pole game environment\n",
    "env = gym.make('CartPole-v0')\n",
    "# env = gym.make('CartPole-v1')\n",
    "# env = gym.make('Acrobot-v1')\n",
    "# env = gym.make('MountainCar-v0')\n",
    "# env = gym.make('Pendulum-v0')\n",
    "# env = gym.make('Blackjack-v0')\n",
    "# env = gym.make('FrozenLake-v0')\n",
    "# env = gym.make('AirRaid-ram-v0')\n",
    "# env = gym.make('AirRaid-v0')\n",
    "# env = gym.make('BipedalWalker-v2')\n",
    "# env = gym.make('Copy-v0')\n",
    "# env = gym.make('CarRacing-v0')\n",
    "# env = gym.make('Ant-v2') #mujoco\n",
    "# env = gym.make('FetchPickAndPlace-v1') # mujoco required!"
   ]
  },
  {
   "cell_type": "markdown",
   "metadata": {},
   "source": [
    "We interact with the simulation through `env`. To show the simulation running, you can use `env.render()` to render one frame. Passing in an action as an integer to `env.step` will generate the next step in the simulation.  You can see how many actions are possible from `env.action_space` and to get a random action you can use `env.action_space.sample()`. This is general to all Gym games. In the Cart-Pole game, there are two possible actions, moving the cart left or right. So there are two actions we can take, encoded as 0 and 1.\n",
    "\n",
    "Run the code below to watch the simulation run."
   ]
  },
  {
   "cell_type": "code",
   "execution_count": 3,
   "metadata": {},
   "outputs": [],
   "source": [
    "env.reset()\n",
    "batch = []\n",
    "for _ in range(1000):\n",
    "    # env.render()\n",
    "    action = env.action_space.sample()\n",
    "    state, reward, done, info = env.step(action) # take a random action\n",
    "    batch.append([action, state, reward, done, info])\n",
    "    #print('state, action, reward, done, info:', state, action, reward, done, info)\n",
    "    if done:\n",
    "        env.reset()"
   ]
  },
  {
   "cell_type": "markdown",
   "metadata": {},
   "source": [
    "To shut the window showing the simulation, use `env.close()`."
   ]
  },
  {
   "cell_type": "markdown",
   "metadata": {},
   "source": [
    "If you ran the simulation above, we can look at the rewards:"
   ]
  },
  {
   "cell_type": "code",
   "execution_count": 4,
   "metadata": {},
   "outputs": [
    {
     "data": {
      "text/plain": [
       "([0,\n",
       "  array([-0.01862796, -0.17634013,  0.01319596,  0.25479863]),\n",
       "  1.0,\n",
       "  False,\n",
       "  {}],\n",
       " (4,))"
      ]
     },
     "execution_count": 4,
     "metadata": {},
     "output_type": "execute_result"
    }
   ],
   "source": [
    "batch[0], batch[0][1].shape"
   ]
  },
  {
   "cell_type": "code",
   "execution_count": 5,
   "metadata": {},
   "outputs": [],
   "source": [
    "import numpy as np\n",
    "actions = np.array([each[0] for each in batch])\n",
    "states = np.array([each[1] for each in batch])\n",
    "rewards = np.array([each[2] for each in batch])\n",
    "dones = np.array([each[3] for each in batch])\n",
    "infos = np.array([each[4] for each in batch])"
   ]
  },
  {
   "cell_type": "code",
   "execution_count": 6,
   "metadata": {},
   "outputs": [
    {
     "name": "stdout",
     "output_type": "stream",
     "text": [
      "[1. 1. 1. 1. 1. 1. 1. 1. 1. 1. 1. 1. 1. 1. 1. 1. 1. 1. 1. 1.]\n",
      "(1000,) (1000, 4) (1000,) (1000,)\n",
      "float64 float64 int64 bool\n",
      "1 0\n",
      "2\n",
      "1.0 1.0\n",
      "3.016160075730074 -2.7372004039776052\n"
     ]
    }
   ],
   "source": [
    "print(rewards[-20:])\n",
    "print(np.array(rewards).shape, np.array(states).shape, np.array(actions).shape, np.array(dones).shape)\n",
    "print(np.array(rewards).dtype, np.array(states).dtype, np.array(actions).dtype, np.array(dones).dtype)\n",
    "print(np.max(np.array(actions)), np.min(np.array(actions)))\n",
    "print((np.max(np.array(actions)) - np.min(np.array(actions)))+1)\n",
    "print(np.max(np.array(rewards)), np.min(np.array(rewards)))\n",
    "print(np.max(np.array(states)), np.min(np.array(states)))"
   ]
  },
  {
   "cell_type": "code",
   "execution_count": 7,
   "metadata": {},
   "outputs": [],
   "source": [
    "# import numpy as np\n",
    "\n",
    "def sigmoid(x, derivative=False):\n",
    "  return x*(1-x) if derivative else 1/(1+np.exp(-x))"
   ]
  },
  {
   "cell_type": "code",
   "execution_count": 8,
   "metadata": {},
   "outputs": [
    {
     "data": {
      "text/plain": [
       "0.8807970779778823"
      ]
     },
     "execution_count": 8,
     "metadata": {},
     "output_type": "execute_result"
    }
   ],
   "source": [
    "sigmoid(200/100)"
   ]
  },
  {
   "cell_type": "markdown",
   "metadata": {},
   "source": [
    "The game resets after the pole has fallen past a certain angle. For each frame while the simulation is running, it returns a reward of 1.0. The longer the game runs, the more reward we get. Then, our network's goal is to maximize the reward by keeping the pole vertical. It will do this by moving the cart to the left and the right."
   ]
  },
  {
   "cell_type": "markdown",
   "metadata": {},
   "source": [
    "## Q-Network\n",
    "\n",
    "We train our Q-learning agent using the Bellman Equation:\n",
    "\n",
    "$$\n",
    "Q(s, a) = r + \\gamma \\max{Q(s', a')}\n",
    "$$\n",
    "\n",
    "where $s$ is a state, $a$ is an action, and $s'$ is the next state from state $s$ and action $a$.\n",
    "\n",
    "Before we used this equation to learn values for a Q-_table_. However, for this game there are a huge number of states available. The state has four values: the position and velocity of the cart, and the position and velocity of the pole. These are all real-valued numbers, so ignoring floating point precisions, you practically have infinite states. Instead of using a table then, we'll replace it with a neural network that will approximate the Q-table lookup function.\n",
    "\n",
    "<img src=\"assets/deep-q-learning.png\" width=450px>\n",
    "\n",
    "Now, our Q value, $Q(s, a)$ is calculated by passing in a state to the network. The output will be Q-values for each available action, with fully connected hidden layers.\n",
    "\n",
    "<img src=\"assets/q-network.png\" width=550px>\n",
    "\n",
    "\n",
    "As I showed before, we can define our targets for training as $\\hat{Q}(s,a) = r + \\gamma \\max{Q(s', a')}$. Then we update the weights by minimizing $(\\hat{Q}(s,a) - Q(s,a))^2$. \n",
    "\n",
    "For this Cart-Pole game, we have four inputs, one for each value in the state, and two outputs, one for each action. To get $\\hat{Q}$, we'll first choose an action, then simulate the game using that action. This will get us the next state, $s'$, and the reward. With that, we can calculate $\\hat{Q}$ then pass it back into the $Q$ network to run the optimizer and update the weights.\n",
    "\n",
    "Below is my implementation of the Q-network. I used two fully connected layers with ReLU activations. Two seems to be good enough, three might be better. Feel free to try it out."
   ]
  },
  {
   "cell_type": "code",
   "execution_count": 33,
   "metadata": {},
   "outputs": [],
   "source": [
    "# Data of the model\n",
    "def model_input(state_size):\n",
    "    states = tf.placeholder(tf.float32, [None, state_size], name='states')\n",
    "    actions = tf.placeholder(tf.int32, [None], name='actions')\n",
    "    rewards = tf.placeholder(tf.float32, [None], name='rewards')\n",
    "    return states, actions, rewards"
   ]
  },
  {
   "cell_type": "code",
   "execution_count": 34,
   "metadata": {},
   "outputs": [],
   "source": [
    "# Generator: Generating/prediting the actions\n",
    "def generator(states, action_size, hidden_size, reuse=False, alpha=0.1, training=False):\n",
    "    with tf.variable_scope('generator', reuse=reuse):\n",
    "        # First fully connected layer\n",
    "        h1 = tf.layers.dense(inputs=states, units=hidden_size)\n",
    "        bn1 = tf.layers.batch_normalization(h1, training=training)        \n",
    "        nl1 = tf.maximum(alpha * bn1, bn1)\n",
    "        \n",
    "        # Second fully connected layer\n",
    "        h2 = tf.layers.dense(inputs=nl1, units=hidden_size)\n",
    "        bn2 = tf.layers.batch_normalization(h2, training=training)        \n",
    "        nl2 = tf.maximum(alpha * bn2, bn2)\n",
    "        \n",
    "        # Output layer\n",
    "        logits = tf.layers.dense(inputs=nl2, units=action_size)        \n",
    "        #predictions = tf.nn.softmax(logits)\n",
    "\n",
    "        # return actions logits\n",
    "        return logits"
   ]
  },
  {
   "cell_type": "code",
   "execution_count": 35,
   "metadata": {},
   "outputs": [
    {
     "data": {
      "text/plain": [
       "0.9999546021312976"
      ]
     },
     "execution_count": 35,
     "metadata": {},
     "output_type": "execute_result"
    }
   ],
   "source": [
    "sigmoid(100/10)"
   ]
  },
  {
   "cell_type": "code",
   "execution_count": 36,
   "metadata": {},
   "outputs": [],
   "source": [
    "def model_loss(states, actions, rewards, # model input\n",
    "               action_size, hidden_size): # model init\n",
    "    actions_logits = generator(states=states, hidden_size=hidden_size, action_size=action_size)\n",
    "    actions_labels = tf.one_hot(indices=actions, depth=action_size, dtype=actions_logits.dtype)\n",
    "    loss_prob = tf.nn.softmax_cross_entropy_with_logits_v2(logits=actions_logits, labels=actions_labels)\n",
    "    #a_prob = tf.nn.softmax(actions_logits)\n",
    "    r = tf.reshape(rewards, shape=[-1, 1])\n",
    "    R = tf.reduce_sum(r)\n",
    "    R_prob = tf.nn.sigmoid(R/10)\n",
    "    loss = tf.reduce_mean(loss_prob) * -R_prob \n",
    "    #loss = tf.reduce_mean(loss_prob) * -rewards \n",
    "    return actions_logits, loss"
   ]
  },
  {
   "cell_type": "code",
   "execution_count": 37,
   "metadata": {},
   "outputs": [],
   "source": [
    "def model_opt(loss, learning_rate):\n",
    "    \"\"\"\n",
    "    Get optimization operations in order\n",
    "    :param loss: Generator loss Tensor for action prediction\n",
    "    :param learning_rate: Learning Rate Placeholder\n",
    "    :return: A tuple of (qfunction training, generator training, discriminator training)\n",
    "    \"\"\"\n",
    "    # Get weights and bias to update\n",
    "    t_vars = tf.trainable_variables()\n",
    "    g_vars = [var for var in t_vars if var.name.startswith('generator')]\n",
    "\n",
    "    # Optimize\n",
    "    with tf.control_dependencies(tf.get_collection(tf.GraphKeys.UPDATE_OPS)): # Required for batchnorm (BN)\n",
    "        opt = tf.train.AdamOptimizer(learning_rate).minimize(loss, var_list=g_vars)\n",
    "\n",
    "    return opt"
   ]
  },
  {
   "cell_type": "code",
   "execution_count": 38,
   "metadata": {},
   "outputs": [],
   "source": [
    "class Model:\n",
    "    def __init__(self, state_size, action_size, hidden_size, learning_rate):\n",
    "\n",
    "        # Data of the Model: make the data available inside the framework\n",
    "        self.states, self.actions, self.rewards = model_input(state_size=state_size)\n",
    "\n",
    "        # Create the Model: calculating the loss and forwad pass\n",
    "        self.actions_logits, self.loss = model_loss(\n",
    "            action_size=action_size, hidden_size=hidden_size, # model init parameters\n",
    "            states=self.states, actions=self.actions, rewards=self.rewards) # model input\n",
    "        \n",
    "        # Update the model: backward pass and backprop\n",
    "        self.opt = model_opt(loss=self.loss, learning_rate=learning_rate)"
   ]
  },
  {
   "cell_type": "markdown",
   "metadata": {},
   "source": [
    "## Hyperparameters\n",
    "\n",
    "One of the more difficult aspects of reinforcememt learning are the large number of hyperparameters. Not only are we tuning the network, but we're tuning the simulation."
   ]
  },
  {
   "cell_type": "code",
   "execution_count": 39,
   "metadata": {},
   "outputs": [
    {
     "name": "stdout",
     "output_type": "stream",
     "text": [
      "state size:(35, 4) actions:(35,)\n",
      "2\n",
      "1\n",
      "0\n"
     ]
    }
   ],
   "source": [
    "print('state size:{}'.format(states.shape), \n",
    "      'actions:{}'.format(actions.shape)) \n",
    "print(np.max(actions) - np.min(actions)+1)\n",
    "print(np.max(actions))\n",
    "print(np.min(actions))"
   ]
  },
  {
   "cell_type": "code",
   "execution_count": 40,
   "metadata": {},
   "outputs": [],
   "source": [
    "# # Training parameters\n",
    "# train_episodes = 1000          # max number of episodes to learn from\n",
    "# max_steps = 300000000          # max steps in an episode\n",
    "learning_rate = 0.001          # learning rate for adam\n",
    "\n",
    "# Network parameters\n",
    "state_size = 4                 # number of units for the input state/observation -- simulation\n",
    "action_size = 2                # number of units for the output actions -- simulation\n",
    "hidden_size = 64               # number of units in each Q-network hidden layer -- simulation"
   ]
  },
  {
   "cell_type": "code",
   "execution_count": 41,
   "metadata": {},
   "outputs": [],
   "source": [
    "# Reset/init the graph/session\n",
    "tf.reset_default_graph()\n",
    "\n",
    "# Init the model\n",
    "model = Model(action_size=action_size, hidden_size=hidden_size, state_size=state_size, learning_rate=learning_rate)"
   ]
  },
  {
   "cell_type": "markdown",
   "metadata": {},
   "source": [
    "## Populate the memory (exprience memory)\n",
    "\n",
    "Here I'm re-initializing the simulation and pre-populating the memory. The agent is taking random actions and storing the transitions in memory. This will help the agent with exploring the game."
   ]
  },
  {
   "cell_type": "code",
   "execution_count": 42,
   "metadata": {},
   "outputs": [
    {
     "data": {
      "text/plain": [
       "array([-0.01156674,  0.02601702,  0.00502415,  0.0408832 ])"
      ]
     },
     "execution_count": 42,
     "metadata": {},
     "output_type": "execute_result"
    }
   ],
   "source": [
    "env.reset()"
   ]
  },
  {
   "cell_type": "markdown",
   "metadata": {},
   "source": [
    "## Training the model\n",
    "\n",
    "Below we'll train our agent. If you want to watch it train, uncomment the `env.render()` line. This is slow because it's rendering the frames slower than the network can train. But, it's cool to watch the agent get better at the game."
   ]
  },
  {
   "cell_type": "code",
   "execution_count": 43,
   "metadata": {},
   "outputs": [
    {
     "data": {
      "text/plain": [
       "(array([0.06752966, 0.52901931, 0.21214698, 0.27923047]), 1.0, 1)"
      ]
     },
     "execution_count": 43,
     "metadata": {},
     "output_type": "execute_result"
    }
   ],
   "source": [
    "state, reward, action"
   ]
  },
  {
   "cell_type": "code",
   "execution_count": 50,
   "metadata": {},
   "outputs": [
    {
     "name": "stdout",
     "output_type": "stream",
     "text": [
      "Episode: 0 Total reward: 9.0 Batch loss: -0.489993751\n",
      "Episode: 1 Total reward: 12.0 Batch loss: -0.529328525\n",
      "Episode: 2 Total reward: 33.0 Batch loss: -0.660563648\n",
      "Episode: 3 Total reward: 69.0 Batch loss: -0.679230273\n",
      "Episode: 4 Total reward: 52.0 Batch loss: -0.675862789\n",
      "Episode: 5 Total reward: 38.0 Batch loss: -0.665383577\n",
      "Episode: 6 Total reward: 83.0 Batch loss: -0.680985153\n",
      "Episode: 7 Total reward: 39.0 Batch loss: -0.668631256\n",
      "Episode: 8 Total reward: 60.0 Batch loss: -0.679712355\n",
      "Episode: 9 Total reward: 45.0 Batch loss: -0.676223218\n",
      "Episode: 10 Total reward: 31.0 Batch loss: -0.655017734\n",
      "Episode: 11 Total reward: 18.0 Batch loss: -0.588968158\n",
      "Episode: 12 Total reward: 18.0 Batch loss: -0.588340938\n",
      "Episode: 13 Total reward: 14.0 Batch loss: -0.550283611\n",
      "Episode: 14 Total reward: 9.0 Batch loss: -0.485635459\n",
      "Episode: 15 Total reward: 10.0 Batch loss: -0.500509202\n",
      "Episode: 16 Total reward: 9.0 Batch loss: -0.487631917\n",
      "Episode: 17 Total reward: 15.0 Batch loss: -0.562500775\n",
      "Episode: 18 Total reward: 73.0 Batch loss: -0.684222937\n",
      "Episode: 19 Total reward: 26.0 Batch loss: -0.635486543\n",
      "Episode: 20 Total reward: 30.0 Batch loss: -0.649667203\n",
      "Episode: 21 Total reward: 45.0 Batch loss: -0.675381899\n",
      "Episode: 22 Total reward: 22.0 Batch loss: -0.613280594\n",
      "Episode: 23 Total reward: 32.0 Batch loss: -0.655414522\n",
      "Episode: 24 Total reward: 31.0 Batch loss: -0.652413368\n",
      "Episode: 25 Total reward: 15.0 Batch loss: -0.558248460\n",
      "Episode: 26 Total reward: 20.0 Batch loss: -0.601677597\n",
      "Episode: 27 Total reward: 15.0 Batch loss: -0.558416605\n",
      "Episode: 28 Total reward: 10.0 Batch loss: -0.498529136\n",
      "Episode: 29 Total reward: 9.0 Batch loss: -0.482849389\n",
      "Episode: 30 Total reward: 9.0 Batch loss: -0.480769604\n",
      "Episode: 31 Total reward: 9.0 Batch loss: -0.484352797\n",
      "Episode: 32 Total reward: 11.0 Batch loss: -0.512601435\n",
      "Episode: 33 Total reward: 11.0 Batch loss: -0.514577687\n",
      "Episode: 34 Total reward: 16.0 Batch loss: -0.571109056\n",
      "Episode: 35 Total reward: 20.0 Batch loss: -0.605218947\n",
      "Episode: 36 Total reward: 37.0 Batch loss: -0.669524670\n",
      "Episode: 37 Total reward: 60.0 Batch loss: -0.686863422\n",
      "Episode: 38 Total reward: 23.0 Batch loss: -0.624614358\n",
      "Episode: 39 Total reward: 50.0 Batch loss: -0.685271859\n",
      "Episode: 40 Total reward: 30.0 Batch loss: -0.655327678\n",
      "Episode: 41 Total reward: 17.0 Batch loss: -0.581123352\n",
      "Episode: 42 Total reward: 17.0 Batch loss: -0.580731869\n",
      "Episode: 43 Total reward: 16.0 Batch loss: -0.571966588\n",
      "Episode: 44 Total reward: 13.0 Batch loss: -0.538121760\n",
      "Episode: 45 Total reward: 10.0 Batch loss: -0.499714106\n",
      "Episode: 46 Total reward: 10.0 Batch loss: -0.498245478\n",
      "Episode: 47 Total reward: 11.0 Batch loss: -0.514759123\n",
      "Episode: 48 Total reward: 13.0 Batch loss: -0.541292787\n",
      "Episode: 49 Total reward: 25.0 Batch loss: -0.637013674\n",
      "Episode: 50 Total reward: 24.0 Batch loss: -0.631990373\n",
      "Episode: 51 Total reward: 30.0 Batch loss: -0.656868815\n",
      "Episode: 52 Total reward: 63.0 Batch loss: -0.687987745\n",
      "Episode: 53 Total reward: 149.0 Batch loss: -0.689024985\n",
      "Episode: 54 Total reward: 25.0 Batch loss: -0.638239682\n",
      "Episode: 55 Total reward: 50.0 Batch loss: -0.686848164\n",
      "Episode: 56 Total reward: 17.0 Batch loss: -0.584501803\n",
      "Episode: 57 Total reward: 10.0 Batch loss: -0.504410505\n",
      "Episode: 58 Total reward: 11.0 Batch loss: -0.518923879\n",
      "Episode: 59 Total reward: 15.0 Batch loss: -0.566238225\n",
      "Episode: 60 Total reward: 16.0 Batch loss: -0.574488878\n",
      "Episode: 61 Total reward: 11.0 Batch loss: -0.519011617\n",
      "Episode: 62 Total reward: 15.0 Batch loss: -0.565349042\n",
      "Episode: 63 Total reward: 32.0 Batch loss: -0.659916282\n",
      "Episode: 64 Total reward: 23.0 Batch loss: -0.628193736\n",
      "Episode: 65 Total reward: 49.0 Batch loss: -0.685617089\n",
      "Episode: 66 Total reward: 32.0 Batch loss: -0.662708700\n",
      "Episode: 67 Total reward: 31.0 Batch loss: -0.661625087\n",
      "Episode: 68 Total reward: 33.0 Batch loss: -0.665713012\n",
      "Episode: 69 Total reward: 477.0 Batch loss: -0.690678656\n",
      "Episode: 70 Total reward: 265.0 Batch loss: -0.689539135\n",
      "Episode: 71 Total reward: 67.0 Batch loss: -0.688124835\n",
      "Episode: 72 Total reward: 10.0 Batch loss: -0.500174701\n",
      "Episode: 73 Total reward: 48.0 Batch loss: -0.683559895\n",
      "Episode: 74 Total reward: 54.0 Batch loss: -0.683968961\n",
      "Episode: 75 Total reward: 56.0 Batch loss: -0.684720695\n",
      "Episode: 76 Total reward: 63.0 Batch loss: -0.686667383\n",
      "Episode: 77 Total reward: 60.0 Batch loss: -0.685236633\n",
      "Episode: 78 Total reward: 54.0 Batch loss: -0.685533941\n",
      "Episode: 79 Total reward: 38.0 Batch loss: -0.672928989\n",
      "Episode: 80 Total reward: 17.0 Batch loss: -0.582864761\n",
      "Episode: 81 Total reward: 10.0 Batch loss: -0.500321329\n",
      "Episode: 82 Total reward: 13.0 Batch loss: -0.541659713\n",
      "Episode: 83 Total reward: 13.0 Batch loss: -0.541839838\n",
      "Episode: 84 Total reward: 15.0 Batch loss: -0.563865662\n",
      "Episode: 85 Total reward: 19.0 Batch loss: -0.599841118\n",
      "Episode: 86 Total reward: 16.0 Batch loss: -0.573893189\n",
      "Episode: 87 Total reward: 18.0 Batch loss: -0.592035592\n",
      "Episode: 88 Total reward: 12.0 Batch loss: -0.530914485\n",
      "Episode: 89 Total reward: 14.0 Batch loss: -0.553954124\n",
      "Episode: 90 Total reward: 39.0 Batch loss: -0.676639676\n",
      "Episode: 91 Total reward: 39.0 Batch loss: -0.676775515\n",
      "Episode: 92 Total reward: 36.0 Batch loss: -0.671474695\n",
      "Episode: 93 Total reward: 21.0 Batch loss: -0.613627851\n",
      "Episode: 94 Total reward: 20.0 Batch loss: -0.605978668\n",
      "Episode: 95 Total reward: 17.0 Batch loss: -0.581455231\n",
      "Episode: 96 Total reward: 14.0 Batch loss: -0.551591992\n",
      "Episode: 97 Total reward: 9.0 Batch loss: -0.487455398\n",
      "Episode: 98 Total reward: 9.0 Batch loss: -0.485677034\n",
      "Episode: 99 Total reward: 11.0 Batch loss: -0.515261173\n",
      "Episode: 100 Total reward: 13.0 Batch loss: -0.541219473\n",
      "Episode: 101 Total reward: 13.0 Batch loss: -0.542044044\n",
      "Episode: 102 Total reward: 17.0 Batch loss: -0.583865702\n",
      "Episode: 103 Total reward: 10.0 Batch loss: -0.490951955\n",
      "Episode: 104 Total reward: 10.0 Batch loss: -0.492312312\n",
      "Episode: 105 Total reward: 79.0 Batch loss: -0.689857423\n",
      "Episode: 106 Total reward: 94.0 Batch loss: -0.688902557\n",
      "Episode: 107 Total reward: 395.0 Batch loss: -0.688250065\n",
      "Episode: 108 Total reward: 44.0 Batch loss: -0.682302713\n",
      "Episode: 109 Total reward: 33.0 Batch loss: -0.665318668\n",
      "Episode: 110 Total reward: 15.0 Batch loss: -0.565023005\n",
      "Episode: 111 Total reward: 16.0 Batch loss: -0.574762940\n",
      "Episode: 112 Total reward: 14.0 Batch loss: -0.553868949\n",
      "Episode: 113 Total reward: 10.0 Batch loss: -0.503277183\n",
      "Episode: 114 Total reward: 15.0 Batch loss: -0.565660834\n",
      "Episode: 115 Total reward: 35.0 Batch loss: -0.669613004\n",
      "Episode: 116 Total reward: 226.0 Batch loss: -0.685722649\n",
      "Episode: 117 Total reward: 77.0 Batch loss: -0.687235415\n",
      "Episode: 118 Total reward: 50.0 Batch loss: -0.680361748\n",
      "Episode: 119 Total reward: 39.0 Batch loss: -0.672329664\n",
      "Episode: 120 Total reward: 58.0 Batch loss: -0.684557915\n",
      "Episode: 121 Total reward: 144.0 Batch loss: -0.686274409\n",
      "Episode: 122 Total reward: 65.0 Batch loss: -0.686159313\n",
      "Episode: 123 Total reward: 77.0 Batch loss: -0.687777817\n",
      "Episode: 124 Total reward: 38.0 Batch loss: -0.674720943\n",
      "Episode: 125 Total reward: 27.0 Batch loss: -0.642346323\n",
      "Episode: 126 Total reward: 46.0 Batch loss: -0.682037771\n",
      "Episode: 127 Total reward: 27.0 Batch loss: -0.641461790\n",
      "Episode: 128 Total reward: 21.0 Batch loss: -0.611581326\n",
      "Episode: 129 Total reward: 20.0 Batch loss: -0.603191197\n",
      "Episode: 130 Total reward: 21.0 Batch loss: -0.611435175\n",
      "Episode: 131 Total reward: 14.0 Batch loss: -0.549881637\n",
      "Episode: 132 Total reward: 17.0 Batch loss: -0.580318093\n",
      "Episode: 133 Total reward: 13.0 Batch loss: -0.539377809\n",
      "Episode: 134 Total reward: 12.0 Batch loss: -0.527568638\n",
      "Episode: 135 Total reward: 13.0 Batch loss: -0.539717376\n",
      "Episode: 136 Total reward: 10.0 Batch loss: -0.483080357\n",
      "Episode: 137 Total reward: 9.0 Batch loss: -0.486046046\n",
      "Episode: 138 Total reward: 9.0 Batch loss: -0.485816032\n",
      "Episode: 139 Total reward: 33.0 Batch loss: -0.664532304\n",
      "Episode: 140 Total reward: 33.0 Batch loss: -0.664094269\n",
      "Episode: 141 Total reward: 40.0 Batch loss: -0.676459908\n",
      "Episode: 142 Total reward: 37.0 Batch loss: -0.672180057\n",
      "Episode: 143 Total reward: 43.0 Batch loss: -0.679297864\n",
      "Episode: 144 Total reward: 55.0 Batch loss: -0.685331225\n",
      "Episode: 145 Total reward: 61.0 Batch loss: -0.687009394\n",
      "Episode: 146 Total reward: 24.0 Batch loss: -0.631369591\n",
      "Episode: 147 Total reward: 27.0 Batch loss: -0.644231677\n",
      "Episode: 148 Total reward: 20.0 Batch loss: -0.605700254\n",
      "Episode: 149 Total reward: 17.0 Batch loss: -0.580761611\n",
      "Episode: 150 Total reward: 16.0 Batch loss: -0.571257293\n",
      "Episode: 151 Total reward: 11.0 Batch loss: -0.514430225\n"
     ]
    },
    {
     "name": "stdout",
     "output_type": "stream",
     "text": [
      "Episode: 152 Total reward: 11.0 Batch loss: -0.513552070\n",
      "Episode: 153 Total reward: 11.0 Batch loss: -0.513357043\n",
      "Episode: 154 Total reward: 10.0 Batch loss: -0.501861870\n",
      "Episode: 155 Total reward: 13.0 Batch loss: -0.540640771\n",
      "Episode: 156 Total reward: 11.0 Batch loss: -0.516652882\n",
      "Episode: 157 Total reward: 20.0 Batch loss: -0.607349575\n",
      "Episode: 158 Total reward: 24.0 Batch loss: -0.633828223\n",
      "Episode: 159 Total reward: 10.0 Batch loss: -0.492892504\n",
      "Episode: 160 Total reward: 11.0 Batch loss: -0.511611402\n",
      "Episode: 161 Total reward: 12.0 Batch loss: -0.530046403\n",
      "Episode: 162 Total reward: 27.0 Batch loss: -0.647614062\n",
      "Episode: 163 Total reward: 33.0 Batch loss: -0.666175961\n",
      "Episode: 164 Total reward: 58.0 Batch loss: -0.688827753\n",
      "Episode: 165 Total reward: 52.0 Batch loss: -0.687356591\n",
      "Episode: 166 Total reward: 31.0 Batch loss: -0.661482394\n",
      "Episode: 167 Total reward: 10.0 Batch loss: -0.505674601\n",
      "Episode: 168 Total reward: 12.0 Batch loss: -0.531597078\n",
      "Episode: 169 Total reward: 18.0 Batch loss: -0.593601525\n",
      "Episode: 170 Total reward: 44.0 Batch loss: -0.682922244\n",
      "Episode: 171 Total reward: 78.0 Batch loss: -0.690079093\n",
      "Episode: 172 Total reward: 63.0 Batch loss: -0.689459026\n",
      "Episode: 173 Total reward: 90.0 Batch loss: -0.690462649\n",
      "Episode: 174 Total reward: 37.0 Batch loss: -0.673415244\n",
      "Episode: 175 Total reward: 18.0 Batch loss: -0.593795359\n",
      "Episode: 176 Total reward: 15.0 Batch loss: -0.565733492\n",
      "Episode: 177 Total reward: 21.0 Batch loss: -0.615474343\n",
      "Episode: 178 Total reward: 21.0 Batch loss: -0.616818249\n",
      "Episode: 179 Total reward: 173.0 Batch loss: -0.686973333\n",
      "Episode: 180 Total reward: 77.0 Batch loss: -0.689975619\n",
      "Episode: 181 Total reward: 62.0 Batch loss: -0.686606228\n",
      "Episode: 182 Total reward: 44.0 Batch loss: -0.679506421\n",
      "Episode: 183 Total reward: 24.0 Batch loss: -0.628844440\n",
      "Episode: 184 Total reward: 19.0 Batch loss: -0.596736133\n",
      "Episode: 185 Total reward: 26.0 Batch loss: -0.638566017\n",
      "Episode: 186 Total reward: 17.0 Batch loss: -0.580170214\n",
      "Episode: 187 Total reward: 20.0 Batch loss: -0.603239000\n",
      "Episode: 188 Total reward: 21.0 Batch loss: -0.611175001\n",
      "Episode: 189 Total reward: 21.0 Batch loss: -0.611980796\n",
      "Episode: 190 Total reward: 15.0 Batch loss: -0.559907675\n",
      "Episode: 191 Total reward: 16.0 Batch loss: -0.571186125\n",
      "Episode: 192 Total reward: 11.0 Batch loss: -0.514539599\n",
      "Episode: 193 Total reward: 12.0 Batch loss: -0.526640296\n",
      "Episode: 194 Total reward: 14.0 Batch loss: -0.549361229\n",
      "Episode: 195 Total reward: 11.0 Batch loss: -0.514322698\n",
      "Episode: 196 Total reward: 12.0 Batch loss: -0.527433872\n",
      "Episode: 197 Total reward: 12.0 Batch loss: -0.527293444\n",
      "Episode: 198 Total reward: 12.0 Batch loss: -0.528478980\n",
      "Episode: 199 Total reward: 9.0 Batch loss: -0.487833798\n",
      "Episode: 200 Total reward: 19.0 Batch loss: -0.599823713\n",
      "Episode: 201 Total reward: 23.0 Batch loss: -0.628224671\n",
      "Episode: 202 Total reward: 9.0 Batch loss: -0.491100937\n",
      "Episode: 203 Total reward: 10.0 Batch loss: -0.505245268\n",
      "Episode: 204 Total reward: 46.0 Batch loss: -0.682520211\n",
      "Episode: 205 Total reward: 108.0 Batch loss: -0.688568294\n",
      "Episode: 206 Total reward: 142.0 Batch loss: -0.688442171\n",
      "Episode: 207 Total reward: 10.0 Batch loss: -0.505056798\n",
      "Episode: 208 Total reward: 9.0 Batch loss: -0.491408855\n",
      "Episode: 209 Total reward: 224.0 Batch loss: -0.688686550\n",
      "Episode: 210 Total reward: 60.0 Batch loss: -0.688526452\n",
      "Episode: 211 Total reward: 48.0 Batch loss: -0.684596241\n",
      "Episode: 212 Total reward: 54.0 Batch loss: -0.687427819\n",
      "Episode: 213 Total reward: 20.0 Batch loss: -0.608889341\n",
      "Episode: 214 Total reward: 22.0 Batch loss: -0.622551501\n",
      "Episode: 215 Total reward: 14.0 Batch loss: -0.555119455\n",
      "Episode: 216 Total reward: 38.0 Batch loss: -0.675619185\n",
      "Episode: 217 Total reward: 44.0 Batch loss: -0.682908237\n",
      "Episode: 218 Total reward: 50.0 Batch loss: -0.686490595\n",
      "Episode: 219 Total reward: 22.0 Batch loss: -0.623076320\n",
      "Episode: 220 Total reward: 9.0 Batch loss: -0.491663814\n",
      "Episode: 221 Total reward: 41.0 Batch loss: -0.679892778\n",
      "Episode: 222 Total reward: 69.0 Batch loss: -0.690233409\n",
      "Episode: 223 Total reward: 65.0 Batch loss: -0.690468192\n",
      "Episode: 224 Total reward: 43.0 Batch loss: -0.681404352\n",
      "Episode: 225 Total reward: 17.0 Batch loss: -0.585171521\n",
      "Episode: 226 Total reward: 19.0 Batch loss: -0.601232409\n",
      "Episode: 227 Total reward: 13.0 Batch loss: -0.543064475\n",
      "Episode: 228 Total reward: 10.0 Batch loss: -0.505235314\n",
      "Episode: 229 Total reward: 11.0 Batch loss: -0.518560112\n",
      "Episode: 230 Total reward: 19.0 Batch loss: -0.601584196\n",
      "Episode: 231 Total reward: 30.0 Batch loss: -0.656425476\n",
      "Episode: 232 Total reward: 47.0 Batch loss: -0.683259904\n",
      "Episode: 233 Total reward: 42.0 Batch loss: -0.679153800\n",
      "Episode: 234 Total reward: 35.0 Batch loss: -0.669797897\n",
      "Episode: 235 Total reward: 25.0 Batch loss: -0.638078094\n",
      "Episode: 236 Total reward: 18.0 Batch loss: -0.592089713\n",
      "Episode: 237 Total reward: 26.0 Batch loss: -0.643464208\n",
      "Episode: 238 Total reward: 36.0 Batch loss: -0.672324657\n",
      "Episode: 239 Total reward: 35.0 Batch loss: -0.671259761\n",
      "Episode: 240 Total reward: 40.0 Batch loss: -0.677888691\n",
      "Episode: 241 Total reward: 26.0 Batch loss: -0.643452525\n",
      "Episode: 242 Total reward: 73.0 Batch loss: -0.689507782\n",
      "Episode: 243 Total reward: 71.0 Batch loss: -0.690330505\n",
      "Episode: 244 Total reward: 500.0 Batch loss: -0.691727221\n"
     ]
    }
   ],
   "source": [
    "# Now train with experiences\n",
    "saver = tf.train.Saver()\n",
    "rewards_list, loss_list = [], []\n",
    "\n",
    "# TF session for training\n",
    "with tf.Session() as sess:\n",
    "    sess.run(tf.global_variables_initializer())\n",
    "    #saver.restore(sess, 'checkpoints/model.ckpt')    \n",
    "    #saver.restore(sess, tf.train.latest_checkpoint('checkpoints'))\n",
    "    \n",
    "    # Training episodes/epochs\n",
    "    for ep in range(1000):\n",
    "        state = env.reset() # env first state\n",
    "        batch = [] # every data batch\n",
    "        total_reward = 0\n",
    "\n",
    "        # Training steps/batches\n",
    "        #for _ in range(max_steps): # start=0, step=1, stop=max_steps/done/reward\n",
    "        while True:\n",
    "            action_logits = sess.run(model.actions_logits, feed_dict={model.states: np.reshape(state, [1, -1])})\n",
    "            action = np.argmax(action_logits)\n",
    "            next_state, reward, done, _ = env.step(action)\n",
    "            batch.append([state, action, reward])\n",
    "            state = next_state\n",
    "            total_reward += reward\n",
    "            if done is True:\n",
    "                break\n",
    "                \n",
    "        #batch = memory.buffer\n",
    "        states = np.array([each[0] for each in batch])\n",
    "        actions = np.array([each[1] for each in batch])\n",
    "        rewards = np.array([each[2] for each in batch])\n",
    "        # R = np.sum(rewards)\n",
    "        # R_prob = sigmoid(x=R/100)\n",
    "        # #print(R, R_prob)\n",
    "        loss, _ = sess.run([model.loss, model.opt], feed_dict = {model.states: states, \n",
    "                                                                 model.actions: actions, \n",
    "                                                                 model.rewards: rewards})\n",
    "        print('Episode: {}'.format(ep),\n",
    "              'Total reward: {}'.format(total_reward),\n",
    "              'Batch loss: {:.9f}'.format(loss))\n",
    "        rewards_list.append([ep, total_reward])\n",
    "        loss_list.append([ep, loss])\n",
    "        if total_reward == 500:\n",
    "            break\n",
    "            \n",
    "    # At the end of all training episodes/epochs\n",
    "    saver.save(sess, 'checkpoints/model-pg.ckpt')"
   ]
  },
  {
   "cell_type": "markdown",
   "metadata": {},
   "source": [
    "# Visualizing training\n",
    "\n",
    "Below I'll plot the total rewards for each episode. I'm plotting the rolling average too, in blue."
   ]
  },
  {
   "cell_type": "code",
   "execution_count": 48,
   "metadata": {},
   "outputs": [],
   "source": [
    "import matplotlib.pyplot as plt\n",
    "%matplotlib inline\n",
    "\n",
    "def running_mean(x, N):\n",
    "    cumsum = np.cumsum(np.insert(x, 0, 0)) \n",
    "    return (cumsum[N:] - cumsum[:-N]) / N "
   ]
  },
  {
   "cell_type": "code",
   "execution_count": 49,
   "metadata": {},
   "outputs": [
    {
     "data": {
      "text/plain": [
       "Text(0,0.5,'Total rewards')"
      ]
     },
     "execution_count": 49,
     "metadata": {},
     "output_type": "execute_result"
    },
    {
     "data": {
      "image/png": "[encoded data removed]",
      "text/plain": [
       "<Figure size 432x288 with 1 Axes>"
      ]
     },
     "metadata": {},
     "output_type": "display_data"
    }
   ],
   "source": [
    "eps, arr = np.array(rewards_list).T\n",
    "smoothed_arr = running_mean(arr, 10)\n",
    "plt.plot(eps[-len(smoothed_arr):], smoothed_arr)\n",
    "plt.plot(eps, arr, color='grey', alpha=0.3)\n",
    "plt.xlabel('Episode')\n",
    "plt.ylabel('Total rewards')"
   ]
  },
  {
   "cell_type": "code",
   "execution_count": 28,
   "metadata": {},
   "outputs": [
    {
     "data": {
      "text/plain": [
       "Text(0,0.5,'Batch losses')"
      ]
     },
     "execution_count": 28,
     "metadata": {},
     "output_type": "execute_result"
    },
    {
     "data": {
      "image/png": "[encoded data removed]",
      "text/plain": [
       "<Figure size 432x288 with 1 Axes>"
      ]
     },
     "metadata": {},
     "output_type": "display_data"
    }
   ],
   "source": [
    "eps, arr = np.array(loss_list).T\n",
    "smoothed_arr = running_mean(arr, 10)\n",
    "plt.plot(eps[-len(smoothed_arr):], smoothed_arr)\n",
    "plt.plot(eps, arr, color='grey', alpha=0.3)\n",
    "plt.xlabel('Episode')\n",
    "plt.ylabel('Batch losses')"
   ]
  },
  {
   "cell_type": "markdown",
   "metadata": {},
   "source": [
    "## Testing\n",
    "\n",
    "Let's checkout how our trained agent plays the game."
   ]
  },
  {
   "cell_type": "code",
   "execution_count": 31,
   "metadata": {},
   "outputs": [
    {
     "name": "stdout",
     "output_type": "stream",
     "text": [
      "\u001b[33mWARN: gym.spaces.Box autodetected dtype as <class 'numpy.float32'>. Please provide explicit dtype.\u001b[0m\n",
      "\u001b[33mWARN: gym.spaces.Box autodetected dtype as <class 'numpy.float32'>. Please provide explicit dtype.\u001b[0m\n",
      "INFO:tensorflow:Restoring parameters from checkpoints/model-pg.ckpt\n"
     ]
    },
    {
     "name": "stderr",
     "output_type": "stream",
     "text": [
      "/home/arasdar/anaconda3/envs/env/lib/python3.6/site-packages/gym/__init__.py:22: UserWarning: DEPRECATION WARNING: to improve load times, gym no longer automatically loads gym.spaces. Please run \"import gym.spaces\" to load gym.spaces on your own. This warning will turn into an error in a future version of gym.\n",
      "  warnings.warn('DEPRECATION WARNING: to improve load times, gym no longer automatically loads gym.spaces. Please run \"import gym.spaces\" to load gym.spaces on your own. This warning will turn into an error in a future version of gym.')\n"
     ]
    },
    {
     "name": "stdout",
     "output_type": "stream",
     "text": [
      "total_reward: 36.00\n"
     ]
    }
   ],
   "source": [
    "import gym\n",
    "env = gym.make('CartPole-v0')\n",
    "env = gym.make('CartPole-v1')\n",
    "# env = gym.make('Acrobot-v1')\n",
    "# env = gym.make('MountainCar-v0')\n",
    "# env = gym.make('Pendulum-v0')\n",
    "# env = gym.make('Blackjack-v0')\n",
    "# env = gym.make('FrozenLake-v0')\n",
    "# env = gym.make('AirRaid-ram-v0')\n",
    "# env = gym.make('AirRaid-v0')\n",
    "# env = gym.make('BipedalWalker-v2')\n",
    "# env = gym.make('Copy-v0')\n",
    "# env = gym.make('CarRacing-v0')\n",
    "# env = gym.make('Ant-v2') #mujoco\n",
    "# env = gym.make('FetchPickAndPlace-v1') # mujoco required!\n",
    "\n",
    "with tf.Session() as sess:\n",
    "    #sess.run(tf.global_variables_initializer())\n",
    "    #saver.restore(sess, 'checkpoints/model-pg.ckpt')    \n",
    "    saver.restore(sess, tf.train.latest_checkpoint('checkpoints'))\n",
    "    \n",
    "    # Episodes/epochs\n",
    "    for _ in range(1):\n",
    "        state = env.reset()\n",
    "        total_reward = 0\n",
    "\n",
    "        # Steps/batches\n",
    "        for _ in range(111111111111111111):\n",
    "            env.render()\n",
    "            action_logits = sess.run(model.actions_logits, feed_dict={model.states: np.reshape(state, [1, -1])})\n",
    "            action = np.argmax(action_logits)\n",
    "            state, reward, done, _ = env.step(action)\n",
    "            total_reward += reward\n",
    "            if done:\n",
    "                break\n",
    "                \n",
    "        # Closing the env\n",
    "        print('total_reward: {:.2f}'.format(total_reward))\n",
    "        env.close()"
   ]
  },
  {
   "cell_type": "markdown",
   "metadata": {},
   "source": [
    "## Extending this\n",
    "\n",
    "So, Cart-Pole is a pretty simple game. However, the same model can be used to train an agent to play something much more complicated like Pong or Space Invaders. Instead of a state like we're using here though, you'd want to use convolutional layers to get the state from the screen images.\n",
    "\n",
    "![Deep Q-Learning Atari](assets/atari-network.png)\n",
    "\n",
    "I'll leave it as a challenge for you to use deep Q-learning to train an agent to play Atari games. Here's the original paper which will get you started: http://www.davidqiu.com:8888/research/nature14236.pdf."
   ]
  },
  {
   "cell_type": "code",
   "execution_count": null,
   "metadata": {},
   "outputs": [],
   "source": []
  }
 ],
 "metadata": {
  "kernelspec": {
   "display_name": "Python 3",
   "language": "python",
   "name": "python3"
  },
  "language_info": {
   "codemirror_mode": {
    "name": "ipython",
    "version": 3
   },
   "file_extension": ".py",
   "mimetype": "text/x-python",
   "name": "python",
   "nbconvert_exporter": "python",
   "pygments_lexer": "ipython3",
   "version": "3.6.5"
  }
 },
 "nbformat": 4,
 "nbformat_minor": 2
}
