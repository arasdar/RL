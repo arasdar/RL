{
 "cells": [
  {
   "cell_type": "markdown",
   "metadata": {},
   "source": [
    "# Policy gradients\n",
    "\n",
    "\n",
    "In this notebook, we'll build a neural network that can learn to play games through reinforcement learning. More specifically, we'll use Q-learning to train an agent to play a game called [Cart-Pole](https://gym.openai.com/envs/CartPole-v0). In this game, a freely swinging pole is attached to a cart. The cart can move to the left and right, and the goal is to keep the pole upright as long as possible.\n",
    "\n",
    "![Cart-Pole](assets/cart-pole.jpg)\n",
    "\n",
    "We can simulate this game using [OpenAI Gym](https://gym.openai.com/). First, let's check out how OpenAI Gym works. Then, we'll get into training an agent to play the Cart-Pole game."
   ]
  },
  {
   "cell_type": "code",
   "execution_count": 1,
   "metadata": {},
   "outputs": [
    {
     "name": "stdout",
     "output_type": "stream",
     "text": [
      "TensorFlow Version: 1.7.1\n",
      "Default GPU Device: \n"
     ]
    }
   ],
   "source": [
    "# In this one we should define and detect GPUs for tensorflow\n",
    "# GPUs or CPU\n",
    "import tensorflow as tf\n",
    "\n",
    "# Check TensorFlow Version\n",
    "print('TensorFlow Version: {}'.format(tf.__version__))\n",
    "\n",
    "# Check for a GPU\n",
    "print('Default GPU Device: {}'.format(tf.test.gpu_device_name()))"
   ]
  },
  {
   "cell_type": "markdown",
   "metadata": {},
   "source": [
    ">**Note:** Make sure you have OpenAI Gym cloned into the same directory with this notebook. I've included `gym` as a submodule, so you can run `git submodule --init --recursive` to pull the contents into the `gym` repo."
   ]
  },
  {
   "cell_type": "markdown",
   "metadata": {},
   "source": [
    "##### >**Note:** Make sure you have OpenAI Gym cloned. Then run this command `pip install -e gym/[all]`."
   ]
  },
  {
   "cell_type": "code",
   "execution_count": 2,
   "metadata": {},
   "outputs": [
    {
     "name": "stdout",
     "output_type": "stream",
     "text": [
      "\u001b[33mWARN: gym.spaces.Box autodetected dtype as <class 'numpy.float32'>. Please provide explicit dtype.\u001b[0m\n",
      "\u001b[33mWARN: gym.spaces.Box autodetected dtype as <class 'numpy.float32'>. Please provide explicit dtype.\u001b[0m\n"
     ]
    },
    {
     "name": "stderr",
     "output_type": "stream",
     "text": [
      "/home/arasdar/anaconda3/envs/env/lib/python3.6/site-packages/gym/__init__.py:22: UserWarning: DEPRECATION WARNING: to improve load times, gym no longer automatically loads gym.spaces. Please run \"import gym.spaces\" to load gym.spaces on your own. This warning will turn into an error in a future version of gym.\n",
      "  warnings.warn('DEPRECATION WARNING: to improve load times, gym no longer automatically loads gym.spaces. Please run \"import gym.spaces\" to load gym.spaces on your own. This warning will turn into an error in a future version of gym.')\n"
     ]
    }
   ],
   "source": [
    "import gym\n",
    "\n",
    "## Create the Cart-Pole game environment\n",
    "env = gym.make('CartPole-v0')\n",
    "env = gym.make('CartPole-v1')\n",
    "# env = gym.make('Acrobot-v1')\n",
    "# env = gym.make('MountainCar-v0')\n",
    "# env = gym.make('MountainCarContinuous-v0')\n",
    "# env = gym.make('Pendulum-v0')\n",
    "# env = gym.make('Blackjack-v0')\n",
    "# env = gym.make('FrozenLake-v0')\n",
    "# env = gym.make('AirRaid-ram-v0')\n",
    "# env = gym.make('AirRaid-v0')\n",
    "# env = gym.make('BipedalWalker-v2')\n",
    "# env = gym.make('Copy-v0')\n",
    "# env = gym.make('CarRacing-v0')\n",
    "# env = gym.make('Ant-v2') #mujoco\n",
    "# env = gym.make('FetchPickAndPlace-v1') # mujoco required!"
   ]
  },
  {
   "cell_type": "markdown",
   "metadata": {},
   "source": [
    "We interact with the simulation through `env`. To show the simulation running, you can use `env.render()` to render one frame. Passing in an action as an integer to `env.step` will generate the next step in the simulation.  You can see how many actions are possible from `env.action_space` and to get a random action you can use `env.action_space.sample()`. This is general to all Gym games. In the Cart-Pole game, there are two possible actions, moving the cart left or right. So there are two actions we can take, encoded as 0 and 1.\n",
    "\n",
    "Run the code below to watch the simulation run."
   ]
  },
  {
   "cell_type": "code",
   "execution_count": 3,
   "metadata": {},
   "outputs": [],
   "source": [
    "env.reset()\n",
    "batch = []\n",
    "for _ in range(1111):\n",
    "    #env.render()\n",
    "    action = env.action_space.sample()\n",
    "    state, reward, done, info = env.step(action) # take a random action\n",
    "    batch.append([action, state, reward, done, info])\n",
    "    #print('state, action, reward, done, info:', state, action, reward, done, info)\n",
    "    if done:\n",
    "        env.reset()"
   ]
  },
  {
   "cell_type": "markdown",
   "metadata": {},
   "source": [
    "To shut the window showing the simulation, use `env.close()`."
   ]
  },
  {
   "cell_type": "code",
   "execution_count": 4,
   "metadata": {},
   "outputs": [],
   "source": [
    "# env.close()"
   ]
  },
  {
   "cell_type": "markdown",
   "metadata": {},
   "source": [
    "If you ran the simulation above, we can look at the rewards:"
   ]
  },
  {
   "cell_type": "code",
   "execution_count": 5,
   "metadata": {},
   "outputs": [
    {
     "data": {
      "text/plain": [
       "((4,), (4,))"
      ]
     },
     "execution_count": 5,
     "metadata": {},
     "output_type": "execute_result"
    }
   ],
   "source": [
    "batch[0], \n",
    "batch[0][1].shape, state.shape"
   ]
  },
  {
   "cell_type": "code",
   "execution_count": 6,
   "metadata": {},
   "outputs": [],
   "source": [
    "import numpy as np\n",
    "actions = np.array([each[0] for each in batch])\n",
    "states = np.array([each[1] for each in batch])\n",
    "rewards = np.array([each[2] for each in batch])\n",
    "dones = np.array([each[3] for each in batch])\n",
    "infos = np.array([each[4] for each in batch])"
   ]
  },
  {
   "cell_type": "code",
   "execution_count": 7,
   "metadata": {},
   "outputs": [
    {
     "name": "stdout",
     "output_type": "stream",
     "text": [
      "shapes: (1111,) (1111, 4) (1111,) (1111,)\n",
      "dtypes: float64 float64 int64 bool\n",
      "states: 2.3583326808380467 -3.291879242083139\n",
      "actions: 1 0\n",
      "rewards: 1.0 1.0\n"
     ]
    }
   ],
   "source": [
    "# print(rewards[-20:])\n",
    "print('shapes:', np.array(rewards).shape, np.array(states).shape, np.array(actions).shape, np.array(dones).shape)\n",
    "print('dtypes:', np.array(rewards).dtype, np.array(states).dtype, np.array(actions).dtype, np.array(dones).dtype)\n",
    "print('states:', np.max(np.array(states)), np.min(np.array(states)))\n",
    "print('actions:', np.max(np.array(actions)), np.min(np.array(actions)))\n",
    "# print((np.max(np.array(actions)) - np.min(np.array(actions)))+1)\n",
    "print('rewards:', np.max(np.array(rewards)), np.min(np.array(rewards)))"
   ]
  },
  {
   "cell_type": "code",
   "execution_count": 8,
   "metadata": {},
   "outputs": [
    {
     "data": {
      "text/plain": [
       "array([0, 1, 1, 0, 1, 1, 1, 1, 1, 1])"
      ]
     },
     "execution_count": 8,
     "metadata": {},
     "output_type": "execute_result"
    }
   ],
   "source": [
    "actions[:10]"
   ]
  },
  {
   "cell_type": "code",
   "execution_count": 9,
   "metadata": {},
   "outputs": [
    {
     "data": {
      "text/plain": [
       "array([1., 1., 1., 1., 1., 1., 1., 1., 1., 1.])"
      ]
     },
     "execution_count": 9,
     "metadata": {},
     "output_type": "execute_result"
    }
   ],
   "source": [
    "rewards[:10]"
   ]
  },
  {
   "cell_type": "code",
   "execution_count": 10,
   "metadata": {},
   "outputs": [],
   "source": [
    "# import numpy as np\n",
    "def sigmoid(x, derivative=False):\n",
    "  return x*(1-x) if derivative else 1/(1+np.exp(-x))"
   ]
  },
  {
   "cell_type": "code",
   "execution_count": 11,
   "metadata": {},
   "outputs": [
    {
     "data": {
      "text/plain": [
       "(0.7310585786300049, 0.7310585786300049)"
      ]
     },
     "execution_count": 11,
     "metadata": {},
     "output_type": "execute_result"
    }
   ],
   "source": [
    "sigmoid(np.max(np.array(rewards))), sigmoid(np.min(np.array(rewards)))"
   ]
  },
  {
   "cell_type": "code",
   "execution_count": 12,
   "metadata": {},
   "outputs": [
    {
     "name": "stdout",
     "output_type": "stream",
     "text": [
      "rewards: 0.01 0.01\n"
     ]
    }
   ],
   "source": [
    "print('rewards:', np.max(np.array(rewards))/100, np.min(np.array(rewards))/100)"
   ]
  },
  {
   "cell_type": "markdown",
   "metadata": {},
   "source": [
    "The game resets after the pole has fallen past a certain angle. For each frame while the simulation is running, it returns a reward of 1.0. The longer the game runs, the more reward we get. Then, our network's goal is to maximize the reward by keeping the pole vertical. It will do this by moving the cart to the left and the right."
   ]
  },
  {
   "cell_type": "markdown",
   "metadata": {},
   "source": [
    "## Q-Network\n",
    "\n",
    "We train our Q-learning agent using the Bellman Equation:\n",
    "\n",
    "$$\n",
    "Q(s, a) = r + \\gamma \\max{Q(s', a')}\n",
    "$$\n",
    "\n",
    "where $s$ is a state, $a$ is an action, and $s'$ is the next state from state $s$ and action $a$.\n",
    "\n",
    "Before we used this equation to learn values for a Q-_table_. However, for this game there are a huge number of states available. The state has four values: the position and velocity of the cart, and the position and velocity of the pole. These are all real-valued numbers, so ignoring floating point precisions, you practically have infinite states. Instead of using a table then, we'll replace it with a neural network that will approximate the Q-table lookup function.\n",
    "\n",
    "<img src=\"assets/deep-q-learning.png\" width=450px>\n",
    "\n",
    "Now, our Q value, $Q(s, a)$ is calculated by passing in a state to the network. The output will be Q-values for each available action, with fully connected hidden layers.\n",
    "\n",
    "<img src=\"assets/q-network.png\" width=550px>\n",
    "\n",
    "\n",
    "As I showed before, we can define our targets for training as $\\hat{Q}(s,a) = r + \\gamma \\max{Q(s', a')}$. Then we update the weights by minimizing $(\\hat{Q}(s,a) - Q(s,a))^2$. \n",
    "\n",
    "For this Cart-Pole game, we have four inputs, one for each value in the state, and two outputs, one for each action. To get $\\hat{Q}$, we'll first choose an action, then simulate the game using that action. This will get us the next state, $s'$, and the reward. With that, we can calculate $\\hat{Q}$ then pass it back into the $Q$ network to run the optimizer and update the weights.\n",
    "\n",
    "Below is my implementation of the Q-network. I used two fully connected layers with ReLU activations. Two seems to be good enough, three might be better. Feel free to try it out."
   ]
  },
  {
   "cell_type": "code",
   "execution_count": 32,
   "metadata": {},
   "outputs": [],
   "source": [
    "# Data of the model\n",
    "def model_input(state_size):\n",
    "    states = tf.placeholder(tf.float32, [None, state_size], name='states')\n",
    "    actions = tf.placeholder(tf.int32, [None], name='actions')\n",
    "    targetQs = tf.placeholder(tf.float32, [None], name='targetQs')\n",
    "    reward = tf.placeholder(tf.float32, [], name='reward')\n",
    "    return states, actions, targetQs, reward"
   ]
  },
  {
   "cell_type": "code",
   "execution_count": 33,
   "metadata": {},
   "outputs": [],
   "source": [
    "# Generator/Controller: Generating/prediting the actions\n",
    "def generator(states, action_size, hidden_size, reuse=False, alpha=0.1, training=False):\n",
    "    with tf.variable_scope('generator', reuse=reuse):\n",
    "        # First fully connected layer\n",
    "        h1 = tf.layers.dense(inputs=states, units=hidden_size)\n",
    "        bn1 = tf.layers.batch_normalization(h1, training=training)        \n",
    "        nl1 = tf.maximum(alpha * bn1, bn1)\n",
    "        \n",
    "        # Second fully connected layer\n",
    "        h2 = tf.layers.dense(inputs=nl1, units=hidden_size)\n",
    "        bn2 = tf.layers.batch_normalization(h2, training=training)        \n",
    "        nl2 = tf.maximum(alpha * bn2, bn2)\n",
    "        \n",
    "        # Output layer\n",
    "        logits = tf.layers.dense(inputs=nl2, units=action_size)        \n",
    "        #predictions = tf.nn.softmax(logits)\n",
    "\n",
    "        # return actions logits\n",
    "        return logits"
   ]
  },
  {
   "cell_type": "code",
   "execution_count": 34,
   "metadata": {},
   "outputs": [],
   "source": [
    "# Discriminator/Dopamine: Reward function/planner/naviator/advisor/supervisor/cortical columns\n",
    "def discriminator(states, actions, hidden_size, reuse=False, alpha=0.1, training=False):\n",
    "    with tf.variable_scope('discriminator', reuse=reuse):\n",
    "        # Fusion/merge states and actions/ SA/ SM\n",
    "        x_fused = tf.concat(axis=1, values=[states, actions])\n",
    "        \n",
    "        # First fully connected layer\n",
    "        h1 = tf.layers.dense(inputs=x_fused, units=hidden_size)\n",
    "        bn1 = tf.layers.batch_normalization(h1, training=training)        \n",
    "        nl1 = tf.maximum(alpha * bn1, bn1)\n",
    "        \n",
    "        # Second fully connected layer\n",
    "        h2 = tf.layers.dense(inputs=nl1, units=hidden_size)\n",
    "        bn2 = tf.layers.batch_normalization(h2, training=training)        \n",
    "        nl2 = tf.maximum(alpha * bn2, bn2)\n",
    "        \n",
    "        # Output layer\n",
    "        logits = tf.layers.dense(inputs=nl2, units=1)        \n",
    "        #predictions = tf.nn.softmax(logits)\n",
    "\n",
    "        # return rewards logits\n",
    "        return logits"
   ]
  },
  {
   "cell_type": "code",
   "execution_count": 43,
   "metadata": {},
   "outputs": [],
   "source": [
    "def model_loss(action_size, hidden_size, states, actions, targetQs, reward): # model input\n",
    "    # Policy gradients\n",
    "    actions_logits = generator(states=states, hidden_size=hidden_size, action_size=action_size)\n",
    "    actions_labels = tf.one_hot(indices=actions, depth=action_size, dtype=actions_logits.dtype)\n",
    "    neg_log_prob_actions = tf.nn.softmax_cross_entropy_with_logits_v2(logits=actions_logits, \n",
    "                                                                      labels=actions_labels)\n",
    "    #g_loss_p = tf.reduce_mean(neg_log_prob_actions * targetQs)\n",
    "    #g_loss_p = tf.reduce_mean(neg_log_prob_actions * targetQs) * reward \n",
    "    #Qs_label = tf.reshape(0.01*targetQs[:-1]) + (0.99*targetQs[1:]), shape=[-1, 1])\n",
    "    #Qs_label = tf.reshape(tf.nn.sigmoid(targetQs[:-1]) + (0.99*targetQs[1:]), shape=[-1, 1])\n",
    "    #g_loss_p = tf.reduce_mean(neg_log_prob_actions * Qs_label) * reward \n",
    "    # reward/rate = episode_total_reward/goal_total_reward --> success/fail rate of episode\n",
    "    \n",
    "    # Adv training\n",
    "    Qs_logits = discriminator(actions=actions_logits, hidden_size=hidden_size, states=states)\n",
    "    d_loss = tf.reduce_mean(tf.nn.sigmoid_cross_entropy_with_logits(logits=Qs_logits,\n",
    "                                                                    labels=reward*tf.ones_like(Qs_logits)))\n",
    "    # Q-learning & Policy gradients\n",
    "    #targetQs[-1] is 0 meaning total rewards are 0\n",
    "    g_loss = tf.reduce_mean((neg_log_prob_actions[:-1] * targetQs[:-1]) +\n",
    "                            tf.square(Qs_logits[:-1] - targetQs[1:]))\n",
    "    #g_loss_q = tf.reduce_mean(tf.square(Qs_logits[:-1]-targetQs[1:]))\n",
    "    #g_loss_q = tf.reduce_mean(tf.square(Qs_logits[:-1]-Qs_label))\n",
    "    # g_loss_q = tf.reduce_mean(tf.nn.sigmoid_cross_entropy_with_logits(logits=Qs_logits[:-1],\n",
    "    #                                                                   labels=tf.nn.sigmoid(Qs_label)))\n",
    "    #g_loss = g_loss_p + g_loss_q\n",
    "    return actions_logits, Qs_logits, g_loss, d_loss#, g_loss_p, g_loss_q"
   ]
  },
  {
   "cell_type": "code",
   "execution_count": 44,
   "metadata": {},
   "outputs": [],
   "source": [
    "# Optimizating/training/learning G & D\n",
    "def model_opt(g_loss, d_loss, learning_rate):\n",
    "    \"\"\"\n",
    "    Get optimization operations in order\n",
    "    :param g_loss: Generator loss Tensor for action prediction\n",
    "    :param d_loss: Discriminator loss Tensor for reward prediction for generated/prob/logits action\n",
    "    :param learning_rate: Learning Rate Placeholder\n",
    "    :return: A tuple of (qfunction training, generator training, discriminator training)\n",
    "    \"\"\"\n",
    "    # Get weights and bias to update\n",
    "    t_vars = tf.trainable_variables()\n",
    "    g_vars = [var for var in t_vars if var.name.startswith('generator')]\n",
    "    d_vars = [var for var in t_vars if var.name.startswith('discriminator')]\n",
    "\n",
    "    # Optimize\n",
    "    with tf.control_dependencies(tf.get_collection(tf.GraphKeys.UPDATE_OPS)): # Required for batchnorm (BN)\n",
    "        g_opt = tf.train.AdamOptimizer(learning_rate).minimize(g_loss, var_list=g_vars)\n",
    "        d_opt = tf.train.AdamOptimizer(learning_rate).minimize(d_loss, var_list=d_vars)\n",
    "\n",
    "    return g_opt, d_opt"
   ]
  },
  {
   "cell_type": "code",
   "execution_count": 45,
   "metadata": {},
   "outputs": [],
   "source": [
    "class Model:\n",
    "    def __init__(self, state_size, action_size, hidden_size, learning_rate):\n",
    "\n",
    "        # Data of the Model: make the data available inside the framework\n",
    "        self.states, self.actions, self.targetQs, self.reward = model_input(state_size=state_size)\n",
    "\n",
    "        # Create the Model: calculating the loss and forwad pass\n",
    "        self.actions_logits, self.Qs_logits, self.g_loss, self.d_loss = model_loss(\n",
    "            action_size=action_size, hidden_size=hidden_size, # model init parameters\n",
    "            states=self.states, actions=self.actions, reward=self.reward, targetQs=self.targetQs) # model input\n",
    "        \n",
    "        # Update the model: backward pass and backprop\n",
    "        self.g_opt, self.d_opt = model_opt(g_loss=self.g_loss, d_loss=self.d_loss, learning_rate=learning_rate)"
   ]
  },
  {
   "cell_type": "markdown",
   "metadata": {},
   "source": [
    "## Hyperparameters\n",
    "\n",
    "One of the more difficult aspects of reinforcememt learning are the large number of hyperparameters. Not only are we tuning the network, but we're tuning the simulation."
   ]
  },
  {
   "cell_type": "code",
   "execution_count": 46,
   "metadata": {},
   "outputs": [
    {
     "name": "stdout",
     "output_type": "stream",
     "text": [
      "state size:(10, 4) actions:(10,)\n",
      "action size:1\n"
     ]
    }
   ],
   "source": [
    "print('state size:{}'.format(states.shape), \n",
    "      'actions:{}'.format(actions.shape)) \n",
    "print('action size:{}'.format(np.max(actions) - np.min(actions)+1))"
   ]
  },
  {
   "cell_type": "code",
   "execution_count": 47,
   "metadata": {},
   "outputs": [],
   "source": [
    "# Training parameters\n",
    "# Network parameters\n",
    "state_size = 4               # number of units for the input state/observation -- simulation\n",
    "action_size = 2              # number of units for the output actions -- simulation\n",
    "hidden_size = 64             # number of units in each Q-network hidden layer -- simulation\n",
    "learning_rate = 0.001          # learning rate for adam"
   ]
  },
  {
   "cell_type": "code",
   "execution_count": 48,
   "metadata": {},
   "outputs": [],
   "source": [
    "# Reset/init the graph/session\n",
    "graph = tf.reset_default_graph()\n",
    "\n",
    "# Init the model\n",
    "model = Model(action_size=action_size, hidden_size=hidden_size, state_size=state_size, learning_rate=learning_rate)"
   ]
  },
  {
   "cell_type": "markdown",
   "metadata": {},
   "source": [
    "## Training the model\n",
    "\n",
    "Below we'll train our agent. If you want to watch it train, uncomment the `env.render()` line. This is slow because it's rendering the frames slower than the network can train. But, it's cool to watch the agent get better at the game."
   ]
  },
  {
   "cell_type": "code",
   "execution_count": 49,
   "metadata": {},
   "outputs": [],
   "source": [
    "# import gym\n",
    "\n",
    "# ## Create the Cart-Pole game environment\n",
    "# env = gym.make('CartPole-v0')\n",
    "# env = gym.make('CartPole-v1')\n",
    "# env = gym.make('Acrobot-v1')\n",
    "# # env = gym.make('MountainCar-v0')\n",
    "# # env = gym.make('Pendulum-v0')\n",
    "# # env = gym.make('Blackjack-v0')\n",
    "# # env = gym.make('FrozenLake-v0')\n",
    "# # env = gym.make('AirRaid-ram-v0')\n",
    "# # env = gym.make('AirRaid-v0')\n",
    "# # env = gym.make('BipedalWalker-v2')\n",
    "# # env = gym.make('Copy-v0')\n",
    "# # env = gym.make('CarRacing-v0')\n",
    "# # env = gym.make('Ant-v2') #mujoco\n",
    "# # env = gym.make('FetchPickAndPlace-v1') # mujoco required!"
   ]
  },
  {
   "cell_type": "code",
   "execution_count": 52,
   "metadata": {},
   "outputs": [
    {
     "name": "stdout",
     "output_type": "stream",
     "text": [
      "Episode:0 meanR:73.0000 gloss:0.0014 dloss:0.6935\n",
      "Episode:1 meanR:71.5000 gloss:-0.0193 dloss:0.6889\n",
      "Episode:2 meanR:62.3333 gloss:-0.0286 dloss:0.6817\n",
      "Episode:3 meanR:62.2500 gloss:-0.0622 dloss:0.6764\n",
      "Episode:4 meanR:62.2000 gloss:-0.1084 dloss:0.6651\n",
      "Episode:5 meanR:53.5000 gloss:-0.1522 dloss:0.5852\n",
      "Episode:6 meanR:47.2857 gloss:-0.1724 dloss:0.5633\n",
      "Episode:7 meanR:42.8750 gloss:-0.1868 dloss:0.5715\n",
      "Episode:8 meanR:40.1111 gloss:-0.1903 dloss:0.5830\n",
      "Episode:9 meanR:43.2000 gloss:-0.1835 dloss:0.6620\n",
      "Episode:10 meanR:41.4545 gloss:-0.1906 dloss:0.5922\n",
      "Episode:11 meanR:44.5833 gloss:-0.2132 dloss:0.6732\n",
      "Episode:12 meanR:44.9231 gloss:-0.1769 dloss:0.6348\n",
      "Episode:13 meanR:44.7143 gloss:-0.2572 dloss:0.5930\n",
      "Episode:14 meanR:44.2000 gloss:-0.2651 dloss:0.5698\n",
      "Episode:15 meanR:43.2500 gloss:-0.3223 dloss:0.5440\n",
      "Episode:16 meanR:43.1765 gloss:-0.1262 dloss:0.5898\n",
      "Episode:17 meanR:42.8333 gloss:0.0499 dloss:0.5733\n",
      "Episode:18 meanR:42.8947 gloss:0.0903 dloss:0.5940\n",
      "Episode:19 meanR:43.1500 gloss:-0.1025 dloss:0.5897\n",
      "Episode:20 meanR:41.9524 gloss:-0.3212 dloss:0.5256\n",
      "Episode:21 meanR:40.8182 gloss:-0.3742 dloss:0.4994\n",
      "Episode:22 meanR:39.5652 gloss:-0.4292 dloss:0.4560\n",
      "Episode:23 meanR:38.2917 gloss:-0.4237 dloss:0.4224\n",
      "Episode:24 meanR:37.2400 gloss:-0.4922 dloss:0.4159\n",
      "Episode:25 meanR:36.3077 gloss:-0.5129 dloss:0.4194\n",
      "Episode:26 meanR:35.3704 gloss:-0.5402 dloss:0.3991\n",
      "Episode:27 meanR:34.5357 gloss:-0.5566 dloss:0.4042\n",
      "Episode:28 meanR:33.7931 gloss:-0.5786 dloss:0.4038\n",
      "Episode:29 meanR:33.5333 gloss:-0.5405 dloss:0.4690\n",
      "Episode:30 meanR:33.0000 gloss:-0.5943 dloss:0.4126\n",
      "Episode:31 meanR:32.5312 gloss:-0.6318 dloss:0.3923\n",
      "Episode:32 meanR:31.7879 gloss:-0.5440 dloss:0.2939\n",
      "Episode:33 meanR:31.5882 gloss:-0.6285 dloss:0.4462\n",
      "Episode:34 meanR:31.4000 gloss:-0.7023 dloss:0.4293\n",
      "Episode:35 meanR:31.3611 gloss:-0.7167 dloss:0.4548\n",
      "Episode:36 meanR:31.2162 gloss:-0.7463 dloss:0.4270\n",
      "Episode:37 meanR:30.9737 gloss:-0.7582 dloss:0.4002\n",
      "Episode:38 meanR:30.6410 gloss:-0.7941 dloss:0.3657\n",
      "Episode:39 meanR:30.1500 gloss:-0.9108 dloss:0.2871\n",
      "Episode:40 meanR:29.6341 gloss:-0.8225 dloss:0.2499\n",
      "Episode:41 meanR:29.1429 gloss:-0.8492 dloss:0.2424\n",
      "Episode:42 meanR:28.8372 gloss:-1.0301 dloss:0.3117\n",
      "Episode:43 meanR:28.7273 gloss:-0.9525 dloss:0.3842\n",
      "Episode:44 meanR:29.6889 gloss:-0.9771 dloss:0.7372\n",
      "Episode:45 meanR:31.7391 gloss:-1.0511 dloss:1.1659\n",
      "Episode:46 meanR:31.8298 gloss:-1.0128 dloss:0.4718\n",
      "Episode:47 meanR:32.3542 gloss:-1.0309 dloss:0.6318\n",
      "Episode:48 meanR:33.4694 gloss:-1.0088 dloss:0.8539\n",
      "Episode:49 meanR:39.5000 gloss:-1.0359 dloss:2.7547\n",
      "Episode:50 meanR:41.0980 gloss:-0.9996 dloss:1.0972\n",
      "Episode:51 meanR:42.2692 gloss:-0.9471 dloss:0.9377\n",
      "Episode:52 meanR:42.8679 gloss:-0.8981 dloss:0.7317\n",
      "Episode:53 meanR:43.0556 gloss:-0.8952 dloss:0.5879\n",
      "Episode:54 meanR:43.0182 gloss:-0.8667 dloss:0.5083\n",
      "Episode:55 meanR:42.6964 gloss:-0.7282 dloss:0.4027\n",
      "Episode:56 meanR:42.6140 gloss:-0.8298 dloss:0.4903\n",
      "Episode:57 meanR:42.5862 gloss:-0.8156 dloss:0.5096\n",
      "Episode:58 meanR:42.2373 gloss:-0.8510 dloss:0.3850\n",
      "Episode:59 meanR:42.0000 gloss:-0.8619 dloss:0.4224\n",
      "Episode:60 meanR:41.7049 gloss:-0.8967 dloss:0.3914\n",
      "Episode:61 meanR:41.2258 gloss:-0.9728 dloss:0.2780\n",
      "Episode:62 meanR:40.7143 gloss:-0.4646 dloss:0.2426\n",
      "Episode:63 meanR:40.2344 gloss:-0.7515 dloss:0.2539\n",
      "Episode:64 meanR:39.7692 gloss:-0.2931 dloss:0.2538\n",
      "Episode:65 meanR:39.3182 gloss:-0.4463 dloss:0.2538\n",
      "Episode:66 meanR:39.1493 gloss:-0.8170 dloss:0.4232\n",
      "Episode:67 meanR:38.7647 gloss:-0.9440 dloss:0.3024\n",
      "Episode:68 meanR:38.4638 gloss:-0.9595 dloss:0.3403\n",
      "Episode:69 meanR:38.1286 gloss:-0.9982 dloss:0.3082\n",
      "Episode:70 meanR:37.8169 gloss:-0.9841 dloss:0.3170\n",
      "Episode:71 meanR:37.4722 gloss:-1.0055 dloss:0.2887\n",
      "Episode:72 meanR:37.1781 gloss:-1.0303 dloss:0.3101\n",
      "Episode:73 meanR:36.8243 gloss:-0.6515 dloss:0.2712\n",
      "Episode:74 meanR:36.5333 gloss:-1.0865 dloss:0.2887\n",
      "Episode:75 meanR:36.1974 gloss:-0.8367 dloss:0.2451\n",
      "Episode:76 meanR:35.8571 gloss:-0.8254 dloss:0.2350\n",
      "Episode:77 meanR:35.7179 gloss:-0.2686 dloss:0.4080\n",
      "Episode:78 meanR:35.7722 gloss:-0.8829 dloss:0.5013\n",
      "Episode:79 meanR:35.9875 gloss:-0.8846 dloss:0.5863\n",
      "Episode:80 meanR:36.0123 gloss:-0.8965 dloss:0.4877\n",
      "Episode:81 meanR:36.3659 gloss:-0.9149 dloss:0.6692\n",
      "Episode:82 meanR:36.4578 gloss:-0.9238 dloss:0.5279\n",
      "Episode:83 meanR:36.4762 gloss:-0.9111 dloss:0.4873\n",
      "Episode:84 meanR:36.3294 gloss:-0.9267 dloss:0.3910\n",
      "Episode:85 meanR:36.1395 gloss:-0.9398 dloss:0.3609\n",
      "Episode:86 meanR:35.9885 gloss:-0.9586 dloss:0.3789\n",
      "Episode:87 meanR:35.7841 gloss:-0.9767 dloss:0.3383\n",
      "Episode:88 meanR:35.5730 gloss:-1.0411 dloss:0.3213\n",
      "Episode:89 meanR:35.3444 gloss:-1.0599 dloss:0.3009\n",
      "Episode:90 meanR:35.0989 gloss:-1.0682 dloss:0.2831\n",
      "Episode:91 meanR:34.8696 gloss:-1.1044 dloss:0.2858\n",
      "Episode:92 meanR:34.6237 gloss:-1.1269 dloss:0.2495\n",
      "Episode:93 meanR:34.3936 gloss:-1.1949 dloss:0.2565\n",
      "Episode:94 meanR:34.1368 gloss:-1.0101 dloss:0.2225\n",
      "Episode:95 meanR:33.8958 gloss:-0.9163 dloss:0.2312\n",
      "Episode:96 meanR:33.6392 gloss:-0.8151 dloss:0.2085\n",
      "Episode:97 meanR:33.3980 gloss:-0.9237 dloss:0.2176\n",
      "Episode:98 meanR:33.1616 gloss:-1.2493 dloss:0.2150\n",
      "Episode:99 meanR:33.1500 gloss:-1.1493 dloss:0.4475\n",
      "Episode:100 meanR:33.1800 gloss:-1.1293 dloss:0.8683\n",
      "Episode:101 meanR:32.8500 gloss:-1.1065 dloss:0.5007\n",
      "Episode:102 meanR:32.5000 gloss:-0.9762 dloss:0.1996\n",
      "Episode:103 meanR:32.0200 gloss:-1.2691 dloss:0.2653\n",
      "Episode:104 meanR:31.7500 gloss:-1.3224 dloss:0.4755\n",
      "Episode:105 meanR:31.8700 gloss:-1.3139 dloss:0.3479\n",
      "Episode:106 meanR:31.9900 gloss:-1.3582 dloss:0.3472\n",
      "Episode:107 meanR:32.2000 gloss:-1.3281 dloss:0.4548\n",
      "Episode:108 meanR:32.3500 gloss:-1.3588 dloss:0.4566\n",
      "Episode:109 meanR:32.0900 gloss:-1.3495 dloss:0.5740\n",
      "Episode:110 meanR:32.2300 gloss:-1.3692 dloss:0.5071\n",
      "Episode:111 meanR:32.3100 gloss:-1.3767 dloss:1.0003\n",
      "Episode:112 meanR:32.7600 gloss:-1.3887 dloss:1.0792\n",
      "Episode:113 meanR:32.9400 gloss:-1.3276 dloss:0.7176\n",
      "Episode:114 meanR:33.4600 gloss:-1.3376 dloss:1.0068\n",
      "Episode:115 meanR:33.8500 gloss:-1.2644 dloss:0.7785\n",
      "Episode:116 meanR:33.9200 gloss:-1.2794 dloss:0.6045\n",
      "Episode:117 meanR:33.8600 gloss:-1.2312 dloss:0.4333\n",
      "Episode:118 meanR:33.7800 gloss:-1.2156 dloss:0.4779\n",
      "Episode:119 meanR:33.5500 gloss:-1.1740 dloss:0.3797\n",
      "Episode:120 meanR:33.5700 gloss:-1.2081 dloss:0.3330\n",
      "Episode:121 meanR:33.5700 gloss:-1.1990 dloss:0.3040\n",
      "Episode:122 meanR:33.5900 gloss:-1.2132 dloss:0.2690\n",
      "Episode:123 meanR:33.5900 gloss:-0.9801 dloss:0.2177\n",
      "Episode:124 meanR:33.5700 gloss:-0.7950 dloss:0.2281\n",
      "Episode:125 meanR:33.5300 gloss:-0.2711 dloss:0.2213\n",
      "Episode:126 meanR:33.5000 gloss:-0.7088 dloss:0.2107\n",
      "Episode:127 meanR:33.5000 gloss:-1.0793 dloss:0.2475\n",
      "Episode:128 meanR:33.4800 gloss:-1.0286 dloss:0.2604\n",
      "Episode:129 meanR:33.3500 gloss:-1.0789 dloss:0.2738\n",
      "Episode:130 meanR:33.2600 gloss:-0.8870 dloss:0.2340\n",
      "Episode:131 meanR:33.2100 gloss:-1.0986 dloss:0.2736\n",
      "Episode:132 meanR:33.2600 gloss:-1.1001 dloss:0.2768\n",
      "Episode:133 meanR:33.1500 gloss:-1.1204 dloss:0.2863\n",
      "Episode:134 meanR:33.0000 gloss:-1.1036 dloss:0.2541\n",
      "Episode:135 meanR:33.2200 gloss:-1.0908 dloss:0.6089\n",
      "Episode:136 meanR:33.5000 gloss:-1.1393 dloss:0.6310\n",
      "Episode:137 meanR:33.6500 gloss:-1.1691 dloss:0.4867\n",
      "Episode:138 meanR:33.7500 gloss:-1.1965 dloss:0.4068\n",
      "Episode:139 meanR:33.8100 gloss:-1.2793 dloss:0.3010\n",
      "Episode:140 meanR:33.8600 gloss:-1.3082 dloss:0.2686\n",
      "Episode:141 meanR:33.9400 gloss:-1.3528 dloss:0.2963\n",
      "Episode:142 meanR:33.9000 gloss:-1.3138 dloss:0.2412\n",
      "Episode:143 meanR:33.7500 gloss:-1.1593 dloss:0.2058\n",
      "Episode:144 meanR:33.1300 gloss:-1.2096 dloss:0.2151\n",
      "Episode:145 meanR:32.0200 gloss:-1.3725 dloss:0.2481\n",
      "Episode:146 meanR:31.7600 gloss:-1.1351 dloss:0.2116\n",
      "Episode:147 meanR:31.2800 gloss:-1.2563 dloss:0.2002\n",
      "Episode:148 meanR:30.5300 gloss:-1.4589 dloss:0.2343\n",
      "Episode:149 meanR:27.5900 gloss:-1.3417 dloss:0.5417\n",
      "Episode:150 meanR:26.5300 gloss:-1.3680 dloss:0.2767\n",
      "Episode:151 meanR:25.6200 gloss:-1.4173 dloss:0.2281\n",
      "Episode:152 meanR:24.9800 gloss:-1.4147 dloss:0.2134\n",
      "Episode:153 meanR:24.5500 gloss:-1.4831 dloss:0.2127\n",
      "Episode:154 meanR:24.2600 gloss:-1.5188 dloss:0.2337\n",
      "Episode:155 meanR:24.1100 gloss:-0.8197 dloss:0.2127\n",
      "Episode:156 meanR:24.2400 gloss:-1.5188 dloss:0.6839\n",
      "Episode:157 meanR:23.9400 gloss:-1.5964 dloss:0.2214\n",
      "Episode:158 meanR:24.1400 gloss:-1.5315 dloss:0.5781\n"
     ]
    },
    {
     "name": "stdout",
     "output_type": "stream",
     "text": [
      "Episode:159 meanR:24.6400 gloss:-1.5019 dloss:0.9832\n",
      "Episode:160 meanR:25.6400 gloss:-1.5257 dloss:1.4999\n",
      "Episode:161 meanR:26.4700 gloss:-1.4601 dloss:1.1550\n",
      "Episode:162 meanR:26.8000 gloss:-1.3807 dloss:0.5564\n",
      "Episode:163 meanR:27.0600 gloss:-1.3115 dloss:0.4866\n",
      "Episode:164 meanR:27.4900 gloss:-1.2348 dloss:0.6371\n",
      "Episode:165 meanR:27.6600 gloss:-1.1852 dloss:0.3972\n",
      "Episode:166 meanR:27.8200 gloss:-1.1045 dloss:0.5399\n",
      "Episode:167 meanR:28.1000 gloss:-1.0381 dloss:0.5113\n",
      "Episode:168 meanR:28.1600 gloss:-0.9695 dloss:0.3843\n",
      "Episode:169 meanR:28.4300 gloss:-0.9373 dloss:0.5149\n",
      "Episode:170 meanR:28.4100 gloss:-0.9239 dloss:0.3222\n",
      "Episode:171 meanR:28.5600 gloss:-0.8694 dloss:0.4238\n",
      "Episode:172 meanR:28.6300 gloss:-0.8662 dloss:0.3924\n",
      "Episode:173 meanR:28.7100 gloss:-0.8884 dloss:0.3613\n",
      "Episode:174 meanR:28.7100 gloss:-0.9219 dloss:0.3269\n",
      "Episode:175 meanR:28.7400 gloss:-0.8998 dloss:0.3200\n",
      "Episode:176 meanR:28.7400 gloss:-0.9055 dloss:0.2598\n",
      "Episode:177 meanR:28.5900 gloss:-0.9378 dloss:0.2628\n",
      "Episode:178 meanR:28.3400 gloss:-1.0607 dloss:0.3012\n",
      "Episode:179 meanR:28.4800 gloss:-0.9461 dloss:0.7002\n",
      "Episode:180 meanR:28.3600 gloss:-0.7561 dloss:0.4020\n",
      "Episode:181 meanR:27.8100 gloss:-0.7651 dloss:0.2495\n",
      "Episode:182 meanR:27.9600 gloss:-0.8983 dloss:0.6534\n",
      "Episode:183 meanR:28.0000 gloss:-0.7493 dloss:0.5351\n",
      "Episode:184 meanR:27.8700 gloss:-1.0262 dloss:0.2371\n",
      "Episode:185 meanR:27.7700 gloss:-1.1050 dloss:0.2282\n",
      "Episode:186 meanR:29.1900 gloss:-0.6079 dloss:1.7895\n",
      "Episode:187 meanR:30.0600 gloss:-0.9906 dloss:0.9807\n",
      "Episode:188 meanR:30.2500 gloss:-0.9518 dloss:0.4728\n",
      "Episode:189 meanR:30.6300 gloss:-0.8975 dloss:0.5879\n",
      "Episode:190 meanR:30.8200 gloss:-0.8690 dloss:0.4509\n",
      "Episode:191 meanR:31.0300 gloss:-0.8407 dloss:0.4714\n",
      "Episode:192 meanR:31.2600 gloss:-0.8081 dloss:0.4741\n",
      "Episode:193 meanR:31.3100 gloss:-0.8311 dloss:0.3670\n",
      "Episode:194 meanR:31.6400 gloss:-0.7819 dloss:0.5225\n",
      "Episode:195 meanR:31.8900 gloss:-0.7816 dloss:0.4819\n",
      "Episode:196 meanR:31.9800 gloss:-0.8311 dloss:0.3668\n",
      "Episode:197 meanR:32.0200 gloss:-0.8277 dloss:0.3432\n",
      "Episode:198 meanR:32.1200 gloss:-0.8627 dloss:0.3728\n",
      "Episode:199 meanR:31.9400 gloss:-0.9069 dloss:0.3257\n",
      "Episode:200 meanR:31.3400 gloss:-0.9562 dloss:0.3293\n",
      "Episode:201 meanR:31.1700 gloss:-0.9504 dloss:0.3592\n",
      "Episode:202 meanR:31.2100 gloss:-1.0310 dloss:0.2923\n",
      "Episode:203 meanR:31.1700 gloss:-1.0603 dloss:0.2599\n",
      "Episode:204 meanR:30.9600 gloss:-1.1311 dloss:0.2850\n",
      "Episode:205 meanR:30.8600 gloss:-1.1747 dloss:0.2559\n",
      "Episode:206 meanR:30.7600 gloss:-1.2249 dloss:0.2521\n",
      "Episode:207 meanR:30.5300 gloss:-0.7628 dloss:0.2351\n",
      "Episode:208 meanR:30.3000 gloss:-0.8287 dloss:0.2315\n",
      "Episode:209 meanR:30.5700 gloss:-1.1964 dloss:0.7953\n",
      "Episode:210 meanR:30.2900 gloss:-1.0243 dloss:0.2170\n",
      "Episode:211 meanR:31.3500 gloss:-1.1920 dloss:1.9016\n",
      "Episode:212 meanR:32.2400 gloss:-1.2025 dloss:1.7667\n",
      "Episode:213 meanR:32.8800 gloss:-1.1551 dloss:1.2161\n",
      "Episode:214 meanR:33.0600 gloss:-1.0560 dloss:1.0204\n",
      "Episode:215 meanR:32.9600 gloss:-0.9958 dloss:0.6325\n",
      "Episode:216 meanR:33.0400 gloss:-0.9174 dloss:0.6152\n",
      "Episode:217 meanR:33.1800 gloss:-0.8583 dloss:0.5336\n",
      "Episode:218 meanR:33.3800 gloss:-0.7931 dloss:0.5982\n",
      "Episode:219 meanR:33.4900 gloss:-0.7328 dloss:0.4871\n",
      "Episode:220 meanR:33.6800 gloss:-0.6805 dloss:0.5081\n",
      "Episode:221 meanR:33.7100 gloss:-0.6474 dloss:0.4208\n",
      "Episode:222 meanR:33.8600 gloss:-0.6292 dloss:0.4673\n",
      "Episode:223 meanR:34.0700 gloss:-0.6170 dloss:0.4742\n",
      "Episode:224 meanR:34.1900 gloss:-0.6187 dloss:0.4353\n",
      "Episode:225 meanR:34.2600 gloss:-0.6365 dloss:0.4009\n",
      "Episode:226 meanR:34.3300 gloss:-0.6664 dloss:0.3882\n",
      "Episode:227 meanR:34.3500 gloss:-0.7036 dloss:0.3700\n",
      "Episode:228 meanR:34.4300 gloss:-0.7175 dloss:0.3927\n",
      "Episode:229 meanR:34.4700 gloss:-0.7703 dloss:0.3675\n",
      "Episode:230 meanR:34.5000 gloss:-0.8077 dloss:0.3184\n",
      "Episode:231 meanR:34.5300 gloss:-0.8681 dloss:0.3376\n",
      "Episode:232 meanR:34.5400 gloss:-0.9024 dloss:0.3146\n",
      "Episode:233 meanR:34.5100 gloss:-0.9497 dloss:0.2825\n",
      "Episode:234 meanR:34.5500 gloss:-1.0243 dloss:0.2911\n",
      "Episode:235 meanR:34.1300 gloss:-1.0291 dloss:0.2504\n",
      "Episode:236 meanR:33.7200 gloss:-1.1533 dloss:0.2675\n",
      "Episode:237 meanR:33.4900 gloss:-1.2154 dloss:0.2711\n",
      "Episode:238 meanR:33.3300 gloss:-1.2508 dloss:0.2475\n",
      "Episode:239 meanR:33.2900 gloss:-1.3079 dloss:0.2554\n",
      "Episode:240 meanR:33.2800 gloss:-1.3363 dloss:0.2540\n",
      "Episode:241 meanR:33.3300 gloss:-1.4114 dloss:0.3485\n",
      "Episode:242 meanR:33.4200 gloss:-1.4308 dloss:0.3374\n",
      "Episode:243 meanR:33.4700 gloss:-1.4945 dloss:0.2587\n",
      "Episode:244 meanR:33.6900 gloss:-1.3007 dloss:0.4583\n",
      "Episode:245 meanR:34.1000 gloss:-1.0926 dloss:0.6993\n",
      "Episode:246 meanR:34.4900 gloss:-0.9980 dloss:0.6435\n",
      "Episode:247 meanR:35.1800 gloss:-1.2471 dloss:0.9012\n",
      "Episode:248 meanR:35.7100 gloss:-0.9930 dloss:0.8145\n",
      "Episode:249 meanR:35.6200 gloss:-1.1361 dloss:0.4509\n",
      "Episode:250 meanR:35.8300 gloss:-1.1410 dloss:0.4922\n",
      "Episode:251 meanR:36.0200 gloss:-0.9649 dloss:0.4484\n",
      "Episode:252 meanR:36.0300 gloss:-1.1983 dloss:0.2545\n",
      "Episode:253 meanR:36.1800 gloss:0.1313 dloss:0.4126\n",
      "Episode:254 meanR:36.1900 gloss:-1.1907 dloss:0.2735\n",
      "Episode:255 meanR:36.1800 gloss:-1.1724 dloss:0.2318\n",
      "Episode:256 meanR:35.7700 gloss:-0.7663 dloss:0.2159\n",
      "Episode:257 meanR:35.9300 gloss:-1.0315 dloss:0.4071\n",
      "Episode:258 meanR:35.6000 gloss:-1.2321 dloss:0.2293\n",
      "Episode:259 meanR:34.9400 gloss:-1.2568 dloss:0.2545\n",
      "Episode:260 meanR:34.1000 gloss:-1.2025 dloss:0.5144\n",
      "Episode:261 meanR:33.6600 gloss:-1.2246 dloss:0.6137\n",
      "Episode:262 meanR:34.0400 gloss:-1.2297 dloss:0.8722\n",
      "Episode:263 meanR:35.9200 gloss:-1.2359 dloss:2.1667\n",
      "Episode:264 meanR:35.5600 gloss:-1.3005 dloss:0.3005\n",
      "Episode:265 meanR:35.4500 gloss:-1.2183 dloss:0.2972\n",
      "Episode:266 meanR:35.2000 gloss:-1.1330 dloss:0.3302\n",
      "Episode:267 meanR:35.0700 gloss:-1.0558 dloss:0.4094\n",
      "Episode:268 meanR:35.0900 gloss:-1.0627 dloss:0.3935\n",
      "Episode:269 meanR:34.9200 gloss:-1.0247 dloss:0.3879\n",
      "Episode:270 meanR:34.9700 gloss:-1.0539 dloss:0.3390\n",
      "Episode:271 meanR:35.0400 gloss:-0.9472 dloss:0.4662\n",
      "Episode:272 meanR:39.8100 gloss:-0.9104 dloss:3.5347\n",
      "Episode:273 meanR:42.9700 gloss:-0.8346 dloss:2.3193\n",
      "Episode:274 meanR:44.7700 gloss:-0.7174 dloss:1.3210\n",
      "Episode:275 meanR:45.9000 gloss:-0.5878 dloss:0.9007\n",
      "Episode:276 meanR:46.7300 gloss:-0.4703 dloss:0.7302\n",
      "Episode:277 meanR:47.2700 gloss:-0.3944 dloss:0.6307\n",
      "Episode:278 meanR:47.6500 gloss:-0.3286 dloss:0.6085\n",
      "Episode:279 meanR:47.3800 gloss:-0.2514 dloss:0.5983\n",
      "Episode:280 meanR:47.2800 gloss:-0.3284 dloss:0.5096\n",
      "Episode:281 meanR:47.2800 gloss:-0.2124 dloss:0.4626\n",
      "Episode:282 meanR:46.7800 gloss:-0.1401 dloss:0.4598\n",
      "Episode:283 meanR:46.8800 gloss:-0.1381 dloss:0.6473\n",
      "Episode:284 meanR:47.2600 gloss:-0.1858 dloss:0.6319\n",
      "Episode:285 meanR:48.1100 gloss:-0.1832 dloss:0.6965\n",
      "Episode:286 meanR:46.6900 gloss:-0.2242 dloss:0.5621\n",
      "Episode:287 meanR:45.8900 gloss:-0.2409 dloss:0.5596\n",
      "Episode:288 meanR:45.6500 gloss:-0.2835 dloss:0.5060\n",
      "Episode:289 meanR:45.2400 gloss:-0.2959 dloss:0.4724\n",
      "Episode:290 meanR:45.0300 gloss:-0.3141 dloss:0.4591\n",
      "Episode:291 meanR:44.8000 gloss:-0.3285 dloss:0.4464\n",
      "Episode:292 meanR:44.5500 gloss:-0.3158 dloss:0.4333\n",
      "Episode:293 meanR:44.6100 gloss:-0.3327 dloss:0.4981\n",
      "Episode:294 meanR:44.3600 gloss:-0.3583 dloss:0.4612\n",
      "Episode:295 meanR:44.3600 gloss:-0.4175 dloss:0.5345\n",
      "Episode:296 meanR:44.6100 gloss:-0.4196 dloss:0.5581\n",
      "Episode:297 meanR:44.6300 gloss:-0.4986 dloss:0.4412\n",
      "Episode:298 meanR:44.5400 gloss:-0.5576 dloss:0.3955\n",
      "Episode:299 meanR:44.5400 gloss:-0.6351 dloss:0.3699\n",
      "Episode:300 meanR:44.4800 gloss:-0.5866 dloss:0.3385\n",
      "Episode:301 meanR:44.3900 gloss:-0.6597 dloss:0.3273\n",
      "Episode:302 meanR:44.3500 gloss:-0.6038 dloss:0.3028\n",
      "Episode:303 meanR:44.6600 gloss:-0.5881 dloss:0.5192\n",
      "Episode:304 meanR:44.6800 gloss:-0.0234 dloss:0.3528\n",
      "Episode:305 meanR:44.7000 gloss:0.4167 dloss:0.3400\n",
      "Episode:306 meanR:44.7700 gloss:-0.1512 dloss:0.3718\n",
      "Episode:307 meanR:44.9900 gloss:-0.7945 dloss:0.4507\n",
      "Episode:308 meanR:45.0500 gloss:-0.9952 dloss:0.3196\n",
      "Episode:309 meanR:44.4400 gloss:-0.9072 dloss:0.2481\n",
      "Episode:310 meanR:44.4500 gloss:-0.9474 dloss:0.2425\n",
      "Episode:311 meanR:43.1200 gloss:-0.8200 dloss:0.6580\n",
      "Episode:312 meanR:42.2300 gloss:-0.8181 dloss:0.9029\n",
      "Episode:313 meanR:45.9900 gloss:-0.9113 dloss:3.6549\n",
      "Episode:314 meanR:45.0100 gloss:-0.7189 dloss:0.2540\n"
     ]
    },
    {
     "name": "stdout",
     "output_type": "stream",
     "text": [
      "Episode:315 meanR:49.4300 gloss:-0.8274 dloss:3.3576\n",
      "Episode:316 meanR:50.4900 gloss:-0.5674 dloss:1.2417\n",
      "Episode:317 meanR:50.5800 gloss:-0.6129 dloss:0.5871\n",
      "Episode:318 meanR:50.2700 gloss:-0.7723 dloss:0.4159\n",
      "Episode:319 meanR:50.0900 gloss:-0.7405 dloss:0.3801\n",
      "Episode:320 meanR:49.8500 gloss:-0.7113 dloss:0.3680\n",
      "Episode:321 meanR:49.7600 gloss:-0.6835 dloss:0.3434\n",
      "Episode:322 meanR:49.5800 gloss:-0.3792 dloss:0.3091\n",
      "Episode:323 meanR:49.3800 gloss:-0.4823 dloss:0.3220\n",
      "Episode:324 meanR:49.3100 gloss:-0.5803 dloss:0.4065\n",
      "Episode:325 meanR:49.3200 gloss:-0.5152 dloss:0.4449\n",
      "Episode:326 meanR:49.4900 gloss:-0.4152 dloss:0.5246\n",
      "Episode:327 meanR:50.4000 gloss:-0.3867 dloss:0.7490\n",
      "Episode:328 meanR:55.2100 gloss:-0.3926 dloss:1.8812\n",
      "Episode:329 meanR:55.6500 gloss:-0.3444 dloss:0.6237\n",
      "Episode:330 meanR:55.7800 gloss:-0.2971 dloss:0.5214\n",
      "Episode:331 meanR:55.7400 gloss:-0.3274 dloss:0.4452\n",
      "Episode:332 meanR:55.7200 gloss:-0.3377 dloss:0.4595\n",
      "Episode:333 meanR:55.8400 gloss:-0.2811 dloss:0.5291\n",
      "Episode:334 meanR:56.1600 gloss:-0.2454 dloss:0.5886\n",
      "Episode:335 meanR:56.8600 gloss:-0.2817 dloss:0.6802\n",
      "Episode:336 meanR:61.7300 gloss:-0.3008 dloss:1.5911\n",
      "Episode:337 meanR:64.6200 gloss:-0.2717 dloss:1.1148\n",
      "Episode:338 meanR:65.3700 gloss:-0.2384 dloss:0.6861\n",
      "Episode:339 meanR:65.7500 gloss:-0.2089 dloss:0.6243\n",
      "Episode:340 meanR:65.9800 gloss:-0.1854 dloss:0.6035\n",
      "Episode:341 meanR:66.0100 gloss:-0.1897 dloss:0.5852\n",
      "Episode:342 meanR:66.0200 gloss:-0.2184 dloss:0.5763\n",
      "Episode:343 meanR:66.1200 gloss:-0.2318 dloss:0.5719\n",
      "Episode:344 meanR:65.9500 gloss:-0.2444 dloss:0.5413\n",
      "Episode:345 meanR:65.5900 gloss:-0.3242 dloss:0.5029\n",
      "Episode:346 meanR:65.2400 gloss:-0.3188 dloss:0.4625\n",
      "Episode:347 meanR:64.5800 gloss:-0.2638 dloss:0.4173\n",
      "Episode:348 meanR:64.0300 gloss:-0.0631 dloss:0.3899\n",
      "Episode:349 meanR:63.8700 gloss:-0.3204 dloss:0.4963\n",
      "Episode:350 meanR:63.6700 gloss:-0.3004 dloss:0.5179\n",
      "Episode:351 meanR:63.7600 gloss:-0.2117 dloss:0.5913\n",
      "Episode:352 meanR:64.1200 gloss:-0.1379 dloss:0.6138\n",
      "Episode:353 meanR:65.2800 gloss:-0.2164 dloss:0.7866\n",
      "Episode:354 meanR:70.1500 gloss:-0.2503 dloss:1.4602\n",
      "Episode:355 meanR:75.0600 gloss:-0.2412 dloss:1.4314\n",
      "Episode:356 meanR:79.9600 gloss:-0.2235 dloss:1.4421\n",
      "Episode:357 meanR:84.6900 gloss:-0.1985 dloss:1.3701\n",
      "Episode:358 meanR:89.6000 gloss:-0.1294 dloss:1.1038\n",
      "Episode:359 meanR:94.4800 gloss:-0.0685 dloss:0.9076\n",
      "Episode:360 meanR:99.0800 gloss:0.0058 dloss:0.6865\n",
      "Episode:361 meanR:103.5700 gloss:0.0919 dloss:0.4352\n",
      "Episode:362 meanR:107.7700 gloss:0.1821 dloss:0.1781\n",
      "Episode:363 meanR:109.4300 gloss:0.2890 dloss:0.1248\n",
      "Episode:364 meanR:110.9700 gloss:0.4097 dloss:0.5375\n",
      "Episode:365 meanR:111.5400 gloss:0.5540 dloss:0.8455\n",
      "Episode:366 meanR:111.8900 gloss:0.6527 dloss:0.9496\n",
      "Episode:367 meanR:111.9700 gloss:0.6695 dloss:1.0712\n",
      "Episode:368 meanR:111.9000 gloss:0.6671 dloss:1.1310\n",
      "Episode:369 meanR:111.7500 gloss:0.6706 dloss:1.0040\n",
      "Episode:370 meanR:111.6800 gloss:0.6701 dloss:0.9862\n",
      "Episode:371 meanR:111.4200 gloss:1.1418 dloss:0.8952\n",
      "Episode:372 meanR:106.5200 gloss:1.3350 dloss:0.8260\n",
      "Episode:373 meanR:103.2600 gloss:1.1292 dloss:0.8424\n",
      "Episode:374 meanR:101.4000 gloss:1.0607 dloss:0.8215\n",
      "Episode:375 meanR:100.2100 gloss:0.9223 dloss:0.8009\n",
      "Episode:376 meanR:99.3700 gloss:1.1431 dloss:0.7194\n",
      "Episode:377 meanR:98.8100 gloss:0.8900 dloss:0.7352\n",
      "Episode:378 meanR:98.3700 gloss:1.2283 dloss:0.6318\n",
      "Episode:379 meanR:98.0600 gloss:1.2427 dloss:0.5827\n",
      "Episode:380 meanR:97.9900 gloss:1.3187 dloss:0.5412\n",
      "Episode:381 meanR:97.9900 gloss:1.6927 dloss:0.4911\n",
      "Episode:382 meanR:97.9800 gloss:1.0533 dloss:0.4981\n",
      "Episode:383 meanR:97.5600 gloss:1.7874 dloss:0.4419\n",
      "Episode:384 meanR:97.1700 gloss:1.9733 dloss:0.3947\n",
      "Episode:385 meanR:96.3200 gloss:1.9503 dloss:0.3853\n",
      "Episode:386 meanR:96.1900 gloss:1.1857 dloss:0.3531\n",
      "Episode:387 meanR:96.0600 gloss:0.1030 dloss:0.3603\n",
      "Episode:388 meanR:96.0500 gloss:-0.1305 dloss:0.3475\n",
      "Episode:389 meanR:96.0600 gloss:-0.3650 dloss:0.3650\n",
      "Episode:390 meanR:96.1200 gloss:-0.4878 dloss:0.3886\n",
      "Episode:391 meanR:96.2000 gloss:-0.5025 dloss:0.4170\n",
      "Episode:392 meanR:96.3200 gloss:-0.4599 dloss:0.4428\n",
      "Episode:393 meanR:96.3100 gloss:-0.3927 dloss:0.4607\n",
      "Episode:394 meanR:96.6500 gloss:-0.3063 dloss:0.5913\n",
      "Episode:395 meanR:96.7000 gloss:-0.3929 dloss:0.5398\n",
      "Episode:396 meanR:96.6600 gloss:-0.4426 dloss:0.5145\n",
      "Episode:397 meanR:96.8100 gloss:-0.5743 dloss:0.4624\n",
      "Episode:398 meanR:96.9600 gloss:-0.6746 dloss:0.4115\n",
      "Episode:399 meanR:97.1000 gloss:-0.8547 dloss:0.4161\n",
      "Episode:400 meanR:97.1600 gloss:-1.0060 dloss:0.2948\n",
      "Episode:401 meanR:97.2500 gloss:-1.0707 dloss:0.3388\n",
      "Episode:402 meanR:97.2900 gloss:-1.0603 dloss:0.2552\n",
      "Episode:403 meanR:97.0100 gloss:-1.0277 dloss:0.2584\n",
      "Episode:404 meanR:97.0100 gloss:-1.0831 dloss:0.3171\n",
      "Episode:405 meanR:96.9800 gloss:-0.3204 dloss:0.2466\n",
      "Episode:406 meanR:96.9200 gloss:-0.0398 dloss:0.2951\n",
      "Episode:407 meanR:96.7200 gloss:0.3907 dloss:0.2828\n",
      "Episode:408 meanR:96.6600 gloss:0.7698 dloss:0.2445\n",
      "Episode:409 meanR:96.6700 gloss:0.2930 dloss:0.2884\n",
      "Episode:410 meanR:96.6700 gloss:0.4697 dloss:0.2615\n",
      "Episode:411 meanR:96.2100 gloss:-0.5799 dloss:0.3049\n",
      "Episode:412 meanR:95.4200 gloss:-1.0101 dloss:0.3178\n",
      "Episode:413 meanR:90.5400 gloss:-0.8229 dloss:0.2584\n",
      "Episode:414 meanR:90.6100 gloss:-1.2201 dloss:0.3172\n",
      "Episode:415 meanR:85.8000 gloss:-1.4339 dloss:0.3417\n",
      "Episode:416 meanR:84.3700 gloss:-1.4999 dloss:0.3527\n",
      "Episode:417 meanR:83.9700 gloss:-1.4534 dloss:0.2641\n",
      "Episode:418 meanR:83.9700 gloss:-1.3858 dloss:0.3957\n",
      "Episode:419 meanR:83.9900 gloss:-1.4119 dloss:0.3418\n",
      "Episode:420 meanR:83.9700 gloss:-1.3040 dloss:0.2554\n",
      "Episode:421 meanR:83.9800 gloss:-0.9879 dloss:0.2550\n",
      "Episode:422 meanR:83.9800 gloss:-0.1893 dloss:0.2496\n",
      "Episode:423 meanR:83.9900 gloss:-0.2059 dloss:0.2483\n",
      "Episode:424 meanR:83.9700 gloss:-0.6012 dloss:0.2808\n",
      "Episode:425 meanR:83.9400 gloss:-1.1960 dloss:0.2804\n",
      "Episode:426 meanR:83.7200 gloss:-0.8920 dloss:0.2184\n",
      "Episode:427 meanR:83.1400 gloss:-0.2914 dloss:0.5711\n",
      "Episode:428 meanR:78.3000 gloss:-0.4413 dloss:0.4592\n",
      "Episode:429 meanR:77.7900 gloss:-0.4087 dloss:0.4389\n",
      "Episode:430 meanR:77.6800 gloss:-0.4309 dloss:0.4459\n",
      "Episode:431 meanR:77.7000 gloss:-0.4844 dloss:0.4364\n",
      "Episode:432 meanR:77.7500 gloss:-0.5663 dloss:0.4229\n",
      "Episode:433 meanR:77.6100 gloss:1.7736 dloss:0.2252\n",
      "Episode:434 meanR:77.2400 gloss:-0.7121 dloss:0.3252\n",
      "Episode:435 meanR:76.5500 gloss:-0.7589 dloss:0.3185\n",
      "Episode:436 meanR:71.6500 gloss:-0.8233 dloss:0.2907\n",
      "Episode:437 meanR:68.7200 gloss:-0.9130 dloss:0.2825\n",
      "Episode:438 meanR:67.9400 gloss:-0.9965 dloss:0.2555\n",
      "Episode:439 meanR:67.5400 gloss:-1.1083 dloss:0.2635\n",
      "Episode:440 meanR:67.3300 gloss:-1.1806 dloss:0.2918\n",
      "Episode:441 meanR:67.3100 gloss:-1.3459 dloss:0.3578\n",
      "Episode:442 meanR:67.7100 gloss:-1.3408 dloss:0.8994\n",
      "Episode:443 meanR:67.5800 gloss:-1.5764 dloss:0.2497\n",
      "Episode:444 meanR:67.5500 gloss:-1.4363 dloss:0.2729\n",
      "Episode:445 meanR:67.5000 gloss:-2.0795 dloss:0.2771\n",
      "Episode:446 meanR:67.7400 gloss:-1.7657 dloss:0.5941\n",
      "Episode:447 meanR:68.2900 gloss:-1.6602 dloss:0.9183\n",
      "Episode:448 meanR:68.4700 gloss:-1.6086 dloss:0.4221\n",
      "Episode:449 meanR:68.6200 gloss:-1.5281 dloss:0.4497\n",
      "Episode:450 meanR:68.7300 gloss:-1.5057 dloss:0.4029\n",
      "Episode:451 meanR:68.5000 gloss:-1.4765 dloss:0.2816\n",
      "Episode:452 meanR:68.1800 gloss:-1.4402 dloss:0.2718\n",
      "Episode:453 meanR:66.9300 gloss:-1.4285 dloss:0.2833\n",
      "Episode:454 meanR:62.0900 gloss:-1.4105 dloss:0.2840\n",
      "Episode:455 meanR:57.3100 gloss:-1.4031 dloss:0.3469\n",
      "Episode:456 meanR:52.5400 gloss:-1.4036 dloss:0.3574\n",
      "Episode:457 meanR:47.7300 gloss:-1.3946 dloss:0.3158\n",
      "Episode:458 meanR:42.9600 gloss:-1.4103 dloss:0.3573\n",
      "Episode:459 meanR:38.2400 gloss:-1.3908 dloss:0.4080\n",
      "Episode:460 meanR:33.6900 gloss:-1.3977 dloss:0.5842\n",
      "Episode:461 meanR:30.1100 gloss:-1.3469 dloss:1.6172\n",
      "Episode:462 meanR:25.3800 gloss:-1.4424 dloss:0.4082\n",
      "Episode:463 meanR:21.5900 gloss:-1.3711 dloss:0.2222\n",
      "Episode:464 meanR:20.0100 gloss:-1.5247 dloss:0.2471\n",
      "Episode:465 meanR:19.6600 gloss:-1.1397 dloss:0.5096\n",
      "Episode:466 meanR:20.0200 gloss:-0.9240 dloss:0.9388\n",
      "Episode:467 meanR:20.1500 gloss:-0.9200 dloss:0.5829\n",
      "Episode:468 meanR:20.2600 gloss:-0.8632 dloss:0.4322\n",
      "Episode:469 meanR:20.7300 gloss:-0.7757 dloss:0.6287\n",
      "Episode:470 meanR:21.2300 gloss:-0.6313 dloss:0.6652\n",
      "Episode:471 meanR:21.6200 gloss:-0.6956 dloss:0.5604\n"
     ]
    },
    {
     "name": "stdout",
     "output_type": "stream",
     "text": [
      "Episode:472 meanR:21.6100 gloss:-0.6613 dloss:0.2287\n",
      "Episode:473 meanR:22.2000 gloss:-0.6042 dloss:0.6777\n",
      "Episode:474 meanR:22.2100 gloss:-0.2887 dloss:0.2791\n",
      "Episode:475 meanR:23.6400 gloss:-0.6220 dloss:1.0766\n",
      "Episode:476 meanR:24.2900 gloss:-0.4722 dloss:0.6932\n",
      "Episode:477 meanR:24.3700 gloss:-0.7948 dloss:0.3430\n",
      "Episode:478 meanR:24.3800 gloss:-0.7599 dloss:0.2814\n",
      "Episode:479 meanR:24.4100 gloss:-0.8101 dloss:0.2941\n",
      "Episode:480 meanR:24.4400 gloss:-0.7693 dloss:0.3017\n",
      "Episode:481 meanR:24.5300 gloss:-0.7738 dloss:0.3737\n",
      "Episode:482 meanR:24.7500 gloss:-0.5159 dloss:0.4726\n",
      "Episode:483 meanR:24.8200 gloss:-0.7886 dloss:0.3566\n",
      "Episode:484 meanR:24.8600 gloss:-0.8309 dloss:0.3096\n",
      "Episode:485 meanR:24.8700 gloss:-0.6808 dloss:0.2761\n",
      "Episode:486 meanR:24.8700 gloss:-0.6244 dloss:0.2651\n",
      "Episode:487 meanR:25.6700 gloss:-0.4499 dloss:0.7540\n",
      "Episode:488 meanR:25.9700 gloss:-0.4968 dloss:0.5338\n",
      "Episode:489 meanR:25.9300 gloss:-0.5310 dloss:0.3432\n",
      "Episode:490 meanR:25.8800 gloss:-0.6031 dloss:0.3432\n",
      "Episode:491 meanR:25.8000 gloss:-0.6248 dloss:0.3523\n",
      "Episode:492 meanR:25.9200 gloss:-0.5662 dloss:0.4840\n",
      "Episode:493 meanR:26.3900 gloss:-0.3888 dloss:0.6938\n",
      "Episode:494 meanR:25.9600 gloss:-0.4729 dloss:0.2288\n",
      "Episode:495 meanR:26.2700 gloss:-0.5982 dloss:0.7025\n",
      "Episode:496 meanR:30.8800 gloss:-0.7402 dloss:3.1361\n",
      "Episode:497 meanR:31.2800 gloss:-0.6514 dloss:0.6835\n",
      "Episode:498 meanR:31.5000 gloss:-0.5794 dloss:0.5585\n",
      "Episode:499 meanR:31.8100 gloss:-0.4951 dloss:0.6143\n",
      "Episode:500 meanR:32.5700 gloss:-0.5056 dloss:0.7514\n",
      "Episode:501 meanR:37.3700 gloss:-0.4676 dloss:2.1855\n",
      "Episode:502 meanR:39.2700 gloss:-0.3638 dloss:1.0972\n",
      "Episode:503 meanR:40.5000 gloss:-0.2004 dloss:0.8199\n",
      "Episode:504 meanR:41.4100 gloss:-0.2061 dloss:0.7355\n",
      "Episode:505 meanR:42.1900 gloss:-0.0634 dloss:0.7017\n",
      "Episode:506 meanR:42.8400 gloss:0.0527 dloss:0.6870\n",
      "Episode:507 meanR:42.8400 gloss:-0.2424 dloss:0.4610\n",
      "Episode:508 meanR:42.8700 gloss:-0.1676 dloss:0.4528\n",
      "Episode:509 meanR:42.8400 gloss:0.1998 dloss:0.4440\n",
      "Episode:510 meanR:42.8200 gloss:0.2460 dloss:0.4667\n",
      "Episode:511 meanR:42.8100 gloss:-0.1029 dloss:0.4781\n",
      "Episode:512 meanR:43.3500 gloss:0.1617 dloss:0.7037\n",
      "Episode:513 meanR:43.9500 gloss:0.1598 dloss:0.7249\n",
      "Episode:514 meanR:44.7100 gloss:0.2643 dloss:0.7098\n",
      "Episode:515 meanR:45.5100 gloss:0.2186 dloss:0.7044\n",
      "Episode:516 meanR:46.2200 gloss:0.2199 dloss:0.7080\n",
      "Episode:517 meanR:47.0300 gloss:0.2209 dloss:0.7061\n",
      "Episode:518 meanR:47.8000 gloss:0.2369 dloss:0.7053\n",
      "Episode:519 meanR:48.6500 gloss:0.3439 dloss:0.7125\n",
      "Episode:520 meanR:48.6400 gloss:-0.1178 dloss:0.5030\n",
      "Episode:521 meanR:48.6400 gloss:0.1189 dloss:0.4427\n",
      "Episode:522 meanR:48.6100 gloss:0.5294 dloss:0.4558\n",
      "Episode:523 meanR:48.6000 gloss:0.0313 dloss:0.4528\n",
      "Episode:524 meanR:49.3700 gloss:0.3127 dloss:0.7119\n",
      "Episode:525 meanR:50.5300 gloss:0.1515 dloss:0.6982\n",
      "Episode:526 meanR:53.4400 gloss:0.1872 dloss:0.6604\n",
      "Episode:527 meanR:57.9700 gloss:0.1441 dloss:0.5540\n",
      "Episode:528 meanR:62.8100 gloss:0.1386 dloss:0.3667\n",
      "Episode:529 meanR:67.7100 gloss:0.1798 dloss:0.2135\n",
      "Episode:530 meanR:72.5800 gloss:0.2456 dloss:0.0136\n",
      "Episode:531 meanR:77.4400 gloss:0.3212 dloss:-0.1827\n",
      "Episode:532 meanR:82.2700 gloss:0.4161 dloss:-0.4003\n",
      "Episode:533 meanR:87.1800 gloss:0.5144 dloss:-0.6908\n",
      "Episode:534 meanR:91.2100 gloss:0.6480 dloss:-0.5973\n",
      "Episode:535 meanR:93.5300 gloss:0.7876 dloss:0.0821\n",
      "Episode:536 meanR:95.0500 gloss:0.9258 dloss:0.4908\n",
      "Episode:537 meanR:96.0200 gloss:1.0510 dloss:0.8768\n",
      "Episode:538 meanR:96.5700 gloss:1.0587 dloss:1.2245\n",
      "Episode:539 meanR:97.0900 gloss:1.1221 dloss:1.2582\n",
      "Episode:540 meanR:98.3300 gloss:1.3501 dloss:0.7134\n",
      "Episode:541 meanR:99.9000 gloss:1.4132 dloss:0.3300\n",
      "Episode:542 meanR:101.4100 gloss:1.3994 dloss:0.0023\n",
      "Episode:543 meanR:104.4800 gloss:1.4564 dloss:-1.0772\n",
      "Episode:544 meanR:108.8600 gloss:1.5461 dloss:-2.6202\n",
      "Episode:545 meanR:112.2800 gloss:1.6951 dloss:-1.7669\n",
      "Episode:546 meanR:116.9000 gloss:1.9665 dloss:-4.0941\n",
      "Episode:547 meanR:120.1600 gloss:2.3851 dloss:-2.9684\n",
      "Episode:548 meanR:121.9500 gloss:2.6478 dloss:-0.0852\n",
      "Episode:549 meanR:123.4900 gloss:3.0360 dloss:0.3104\n",
      "Episode:550 meanR:125.1900 gloss:3.2560 dloss:0.0798\n",
      "Episode:551 meanR:127.5700 gloss:3.3339 dloss:-1.1423\n",
      "Episode:552 meanR:131.4900 gloss:3.3415 dloss:-4.6811\n",
      "Episode:553 meanR:132.4400 gloss:2.9714 dloss:1.9187\n",
      "Episode:554 meanR:133.3100 gloss:3.2361 dloss:2.2604\n",
      "Episode:555 meanR:133.9500 gloss:3.3619 dloss:2.7569\n",
      "Episode:556 meanR:135.0300 gloss:3.4139 dloss:1.7058\n",
      "Episode:557 meanR:139.8400 gloss:3.4719 dloss:-7.5861\n",
      "Episode:558 meanR:141.3700 gloss:3.7124 dloss:0.6485\n",
      "Episode:559 meanR:146.0900 gloss:3.8721 dloss:-8.4919\n",
      "Episode:560 meanR:148.9100 gloss:4.0838 dloss:-3.8617\n",
      "Episode:561 meanR:148.5600 gloss:4.2899 dloss:2.8763\n",
      "Episode:562 meanR:148.9800 gloss:4.4461 dloss:4.2578\n",
      "Episode:563 meanR:149.6100 gloss:4.5737 dloss:4.2174\n",
      "Episode:564 meanR:150.2700 gloss:4.6342 dloss:3.9732\n",
      "Episode:565 meanR:154.8900 gloss:4.5682 dloss:-10.4077\n",
      "Episode:566 meanR:158.7200 gloss:4.5150 dloss:-9.2931\n",
      "Episode:567 meanR:159.7900 gloss:4.8456 dloss:1.5757\n",
      "Episode:568 meanR:160.9500 gloss:4.9693 dloss:2.0252\n",
      "Episode:569 meanR:162.2400 gloss:5.3616 dloss:0.5672\n",
      "Episode:570 meanR:163.7400 gloss:6.3614 dloss:-0.4337\n",
      "Episode:571 meanR:164.6700 gloss:6.5480 dloss:2.1541\n",
      "Episode:572 meanR:167.4300 gloss:6.0927 dloss:-3.3457\n",
      "Episode:573 meanR:170.1400 gloss:5.9416 dloss:-5.6591\n",
      "Episode:574 meanR:172.7300 gloss:5.5150 dloss:-3.0371\n",
      "Episode:575 meanR:173.8700 gloss:5.6672 dloss:-2.9536\n",
      "Episode:576 meanR:175.3400 gloss:5.8635 dloss:-0.9710\n",
      "Episode:577 meanR:177.6800 gloss:5.9550 dloss:-2.4043\n",
      "Episode:578 meanR:181.4000 gloss:6.1563 dloss:-9.1734\n",
      "Episode:579 meanR:184.5900 gloss:6.3647 dloss:-6.9584\n",
      "Episode:580 meanR:185.5000 gloss:6.7445 dloss:5.4580\n",
      "Episode:581 meanR:186.6300 gloss:6.9025 dloss:3.9864\n",
      "Episode:582 meanR:188.3400 gloss:6.9146 dloss:-0.0585\n",
      "Episode:583 meanR:189.3600 gloss:6.7757 dloss:4.7945\n",
      "Episode:584 meanR:190.8100 gloss:6.7318 dloss:2.4998\n",
      "Episode:585 meanR:193.8300 gloss:6.7665 dloss:-7.0516\n",
      "Episode:586 meanR:195.9500 gloss:6.7739 dloss:-1.3985\n",
      "Episode:587 meanR:195.7900 gloss:6.7474 dloss:8.0048\n",
      "Episode:588 meanR:196.3900 gloss:6.5419 dloss:6.3991\n",
      "Episode:589 meanR:197.0000 gloss:6.4701 dloss:8.3289\n",
      "Episode:590 meanR:197.8800 gloss:6.1466 dloss:6.2681\n",
      "Episode:591 meanR:199.1300 gloss:5.7350 dloss:3.8439\n",
      "Episode:592 meanR:201.6300 gloss:5.7172 dloss:-5.0985\n"
     ]
    }
   ],
   "source": [
    "from collections import deque\n",
    "episodes_total_reward = deque(maxlen=100) # 100 episodes average/running average/running mean/window\n",
    "\n",
    "# Now train with experiences\n",
    "saver = tf.train.Saver()\n",
    "rewards_list, g_loss_list, d_loss_list = [], [], []\n",
    "\n",
    "# TF session for training\n",
    "with tf.Session(graph=graph) as sess:\n",
    "    sess.run(tf.global_variables_initializer())\n",
    "    #saver.restore(sess, 'checkpoints/model.ckpt')    \n",
    "    #saver.restore(sess, tf.train.latest_checkpoint('checkpoints'))\n",
    "    \n",
    "    # Training episodes/epochs\n",
    "    for ep in range(11111):\n",
    "        batch = [] # every data batch\n",
    "        total_reward = 0\n",
    "        state = env.reset() # env first state\n",
    "\n",
    "        # Training steps/batches\n",
    "        while True:\n",
    "            action_logits, Q_logits = sess.run([model.actions_logits, model.Qs_logits], \n",
    "                                               feed_dict={model.states: np.reshape(state, [1, -1])})\n",
    "            action = np.argmax(action_logits)\n",
    "            batch.append([state, action, Q_logits])\n",
    "            state, reward, done, _ = env.step(action)\n",
    "            total_reward += reward\n",
    "            #targetQ = Q_logits * (1-float(done)) # Only for INFO\n",
    "            #state = next_state\n",
    "            if done is True: # episode ended success/failure\n",
    "                episodes_total_reward.append(total_reward) # success criteria\n",
    "                success_rate = total_reward/200 # success rate\n",
    "                break\n",
    "\n",
    "        # Training using batches\n",
    "        #batch = memory.buffer\n",
    "        states = np.array([each[0] for each in batch])\n",
    "        actions = np.array([each[1] for each in batch])\n",
    "        targetQs = np.array([each[2] for each in batch])\n",
    "        g_loss, d_loss, _, _ = sess.run([model.g_loss, model.d_loss, \n",
    "                                         model.g_opt, model.d_opt],\n",
    "                                        feed_dict = {model.states: states, \n",
    "                                                     model.actions: actions,\n",
    "                                                     model.reward: success_rate,\n",
    "                                                     model.targetQs: targetQs.reshape([-1])})\n",
    "        # Average 100 episode total reward\n",
    "        # Print out\n",
    "        print('Episode:{}'.format(ep),\n",
    "              'meanR:{:.4f}'.format(np.mean(episodes_total_reward)),\n",
    "              #'stdR:{:.4f}'.format(np.std(episodes_total_reward)),\n",
    "              #'glossP:{:.4f}'.format(g_loss_p),\n",
    "              #'glossQ:{:.4f}'.format(g_loss_q),\n",
    "              'gloss:{:.4f}'.format(g_loss),\n",
    "              'dloss:{:.4f}'.format(d_loss))\n",
    "        # Ploting out\n",
    "        rewards_list.append([ep, np.mean(episodes_total_reward)])\n",
    "        g_loss_list.append([ep, g_loss])\n",
    "        d_loss_list.append([ep, d_loss])\n",
    "        # Break episode/epoch loop\n",
    "        if np.mean(episodes_total_reward) >= 200:\n",
    "            break\n",
    "            \n",
    "    # At the end of all training episodes/epochs\n",
    "    saver.save(sess, 'checkpoints/model.ckpt')"
   ]
  },
  {
   "cell_type": "markdown",
   "metadata": {},
   "source": [
    "# Visualizing training\n",
    "\n",
    "Below I'll plot the total rewards for each episode. I'm plotting the rolling average too, in blue."
   ]
  },
  {
   "cell_type": "code",
   "execution_count": 53,
   "metadata": {},
   "outputs": [],
   "source": [
    "import matplotlib.pyplot as plt\n",
    "%matplotlib inline\n",
    "\n",
    "def running_mean(x, N):\n",
    "    cumsum = np.cumsum(np.insert(x, 0, 0)) \n",
    "    return (cumsum[N:] - cumsum[:-N]) / N "
   ]
  },
  {
   "cell_type": "code",
   "execution_count": 54,
   "metadata": {},
   "outputs": [
    {
     "data": {
      "text/plain": [
       "Text(0,0.5,'Total rewards')"
      ]
     },
     "execution_count": 54,
     "metadata": {},
     "output_type": "execute_result"
    },
    {
     "data": {
      "image/png": "[encoded data removed]",
      "text/plain": [
       "<Figure size 432x288 with 1 Axes>"
      ]
     },
     "metadata": {},
     "output_type": "display_data"
    }
   ],
   "source": [
    "eps, arr = np.array(rewards_list).T\n",
    "smoothed_arr = running_mean(arr, 10)\n",
    "plt.plot(eps[-len(smoothed_arr):], smoothed_arr)\n",
    "plt.plot(eps, arr, color='grey', alpha=0.3)\n",
    "plt.xlabel('Episode')\n",
    "plt.ylabel('Total rewards')"
   ]
  },
  {
   "cell_type": "code",
   "execution_count": 55,
   "metadata": {},
   "outputs": [
    {
     "data": {
      "text/plain": [
       "Text(0,0.5,'G losses')"
      ]
     },
     "execution_count": 55,
     "metadata": {},
     "output_type": "execute_result"
    },
    {
     "data": {
      "image/png": "[encoded data removed]",
      "text/plain": [
       "<Figure size 432x288 with 1 Axes>"
      ]
     },
     "metadata": {},
     "output_type": "display_data"
    }
   ],
   "source": [
    "eps, arr = np.array(g_loss_list).T\n",
    "smoothed_arr = running_mean(arr, 10)\n",
    "plt.plot(eps[-len(smoothed_arr):], smoothed_arr)\n",
    "plt.plot(eps, arr, color='grey', alpha=0.3)\n",
    "plt.xlabel('Episode')\n",
    "plt.ylabel('G losses')"
   ]
  },
  {
   "cell_type": "code",
   "execution_count": 56,
   "metadata": {},
   "outputs": [
    {
     "data": {
      "text/plain": [
       "Text(0,0.5,'D losses')"
      ]
     },
     "execution_count": 56,
     "metadata": {},
     "output_type": "execute_result"
    },
    {
     "data": {
      "image/png": "[encoded data removed]",
      "text/plain": [
       "<Figure size 432x288 with 1 Axes>"
      ]
     },
     "metadata": {},
     "output_type": "display_data"
    }
   ],
   "source": [
    "eps, arr = np.array(d_loss_list).T\n",
    "smoothed_arr = running_mean(arr, 10)\n",
    "plt.plot(eps[-len(smoothed_arr):], smoothed_arr)\n",
    "plt.plot(eps, arr, color='grey', alpha=0.3)\n",
    "plt.xlabel('Episode')\n",
    "plt.ylabel('D losses')"
   ]
  },
  {
   "cell_type": "markdown",
   "metadata": {},
   "source": [
    "## Testing\n",
    "\n",
    "Let's checkout how our trained agent plays the game."
   ]
  },
  {
   "cell_type": "code",
   "execution_count": 57,
   "metadata": {},
   "outputs": [
    {
     "name": "stdout",
     "output_type": "stream",
     "text": [
      "\u001b[33mWARN: gym.spaces.Box autodetected dtype as <class 'numpy.float32'>. Please provide explicit dtype.\u001b[0m\n",
      "\u001b[33mWARN: gym.spaces.Box autodetected dtype as <class 'numpy.float32'>. Please provide explicit dtype.\u001b[0m\n",
      "INFO:tensorflow:Restoring parameters from checkpoints/model.ckpt\n"
     ]
    },
    {
     "name": "stderr",
     "output_type": "stream",
     "text": [
      "/home/arasdar/anaconda3/envs/env/lib/python3.6/site-packages/gym/__init__.py:22: UserWarning: DEPRECATION WARNING: to improve load times, gym no longer automatically loads gym.spaces. Please run \"import gym.spaces\" to load gym.spaces on your own. This warning will turn into an error in a future version of gym.\n",
      "  warnings.warn('DEPRECATION WARNING: to improve load times, gym no longer automatically loads gym.spaces. Please run \"import gym.spaces\" to load gym.spaces on your own. This warning will turn into an error in a future version of gym.')\n"
     ]
    },
    {
     "name": "stdout",
     "output_type": "stream",
     "text": [
      "total_reward: 247.0\n"
     ]
    }
   ],
   "source": [
    "import gym\n",
    "env = gym.make('CartPole-v0')\n",
    "env = gym.make('CartPole-v1')\n",
    "# env = gym.make('Acrobot-v1')\n",
    "# env = gym.make('MountainCar-v0')\n",
    "# env = gym.make('Pendulum-v0')\n",
    "# env = gym.make('Blackjack-v0')\n",
    "# env = gym.make('FrozenLake-v0')\n",
    "# env = gym.make('AirRaid-ram-v0')\n",
    "# env = gym.make('AirRaid-v0')\n",
    "# env = gym.make('BipedalWalker-v2')\n",
    "# env = gym.make('Copy-v0')\n",
    "# env = gym.make('CarRacing-v0')\n",
    "# env = gym.make('Ant-v2') #mujoco\n",
    "# env = gym.make('FetchPickAndPlace-v1') # mujoco required!\n",
    "\n",
    "with tf.Session() as sess:\n",
    "    sess.run(tf.global_variables_initializer())\n",
    "    #saver.restore(sess, 'checkpoints/model.ckpt')    \n",
    "    saver.restore(sess, tf.train.latest_checkpoint('checkpoints'))\n",
    "    \n",
    "    # Episodes/epochs\n",
    "    for _ in range(1):\n",
    "    #while True:\n",
    "        state = env.reset()\n",
    "        total_reward = 0\n",
    "\n",
    "        # Steps/batches\n",
    "        while True:\n",
    "            env.render()\n",
    "            action_logits = sess.run(model.actions_logits, feed_dict={model.states: np.reshape(state, [1, -1])})\n",
    "            action = np.argmax(action_logits)\n",
    "            state, reward, done, _ = env.step(action)\n",
    "            total_reward += reward\n",
    "            if done:\n",
    "                break\n",
    "        # Print and break condition\n",
    "        print('total_reward: {}'.format(total_reward))\n",
    "        if total_reward == 500:\n",
    "            break\n",
    "                \n",
    "# Closing the env\n",
    "env.close()"
   ]
  },
  {
   "cell_type": "markdown",
   "metadata": {},
   "source": [
    "## Extending this\n",
    "\n",
    "So, Cart-Pole is a pretty simple game. However, the same model can be used to train an agent to play something much more complicated like Pong or Space Invaders. Instead of a state like we're using here though, you'd want to use convolutional layers to get the state from the screen images.\n",
    "\n",
    "![Deep Q-Learning Atari](assets/atari-network.png)\n",
    "\n",
    "I'll leave it as a challenge for you to use deep Q-learning to train an agent to play Atari games. Here's the original paper which will get you started: http://www.davidqiu.com:8888/research/nature14236.pdf."
   ]
  },
  {
   "cell_type": "code",
   "execution_count": null,
   "metadata": {},
   "outputs": [],
   "source": []
  }
 ],
 "metadata": {
  "kernelspec": {
   "display_name": "Python 3",
   "language": "python",
   "name": "python3"
  },
  "language_info": {
   "codemirror_mode": {
    "name": "ipython",
    "version": 3
   },
   "file_extension": ".py",
   "mimetype": "text/x-python",
   "name": "python",
   "nbconvert_exporter": "python",
   "pygments_lexer": "ipython3",
   "version": "3.6.5"
  }
 },
 "nbformat": 4,
 "nbformat_minor": 2
}
