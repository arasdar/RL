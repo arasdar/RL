{
 "cells": [
  {
   "cell_type": "code",
   "execution_count": 1,
   "metadata": {},
   "outputs": [
    {
     "name": "stdout",
     "output_type": "stream",
     "text": [
      "TensorFlow Version: 1.7.1\n",
      "Default GPU Device: \n"
     ]
    }
   ],
   "source": [
    "import tensorflow as tf\n",
    "print('TensorFlow Version: {}'.format(tf.__version__))\n",
    "print('Default GPU Device: {}'.format(tf.test.gpu_device_name()))"
   ]
  },
  {
   "cell_type": "markdown",
   "metadata": {},
   "source": [
    "##### >**Note:** Make sure you have OpenAI Gym cloned. Then run this command `pip install -e gym/[all]`."
   ]
  },
  {
   "cell_type": "code",
   "execution_count": 2,
   "metadata": {},
   "outputs": [],
   "source": [
    "import numpy as np\n",
    "import gym\n",
    "env = gym.make('CartPole-v0')\n",
    "env = gym.make('CartPole-v1')"
   ]
  },
  {
   "cell_type": "code",
   "execution_count": 3,
   "metadata": {},
   "outputs": [],
   "source": [
    "def model_input(state_size):\n",
    "    #states = tf.placeholder(tf.float32, [None, *state_size], name='states')\n",
    "    states = tf.placeholder(tf.float32, [None, state_size], name='states')\n",
    "    actions = tf.placeholder(tf.int32, [None], name='actions')\n",
    "    next_states = tf.placeholder(tf.float32, [None, state_size], name='next_states')\n",
    "    rewards = tf.placeholder(tf.float32, [None], name='rewards')\n",
    "    dones = tf.placeholder(tf.float32, [None], name='dones')\n",
    "    rates = tf.placeholder(tf.float32, [None], name='rates') # success rate\n",
    "    return states, actions, next_states, rewards, dones, rates"
   ]
  },
  {
   "cell_type": "code",
   "execution_count": 4,
   "metadata": {},
   "outputs": [],
   "source": [
    "def Act(states, action_size, hidden_size, reuse=False, alpha=0.1, training=False):\n",
    "    with tf.variable_scope('Act', reuse=reuse):\n",
    "        # First fully connected layer\n",
    "        h1 = tf.layers.dense(inputs=states, units=hidden_size)\n",
    "        bn1 = tf.layers.batch_normalization(h1, training=training)        \n",
    "        nl1 = tf.maximum(alpha * bn1, bn1)\n",
    "        \n",
    "        # Second fully connected layer\n",
    "        h2 = tf.layers.dense(inputs=nl1, units=hidden_size)\n",
    "        bn2 = tf.layers.batch_normalization(h2, training=training)        \n",
    "        nl2 = tf.maximum(alpha * bn2, bn2)\n",
    "        \n",
    "        # Output layer\n",
    "        logits = tf.layers.dense(inputs=nl2, units=action_size)        \n",
    "        return logits"
   ]
  },
  {
   "cell_type": "code",
   "execution_count": 5,
   "metadata": {},
   "outputs": [],
   "source": [
    "def Env(states, actions, state_size, action_size, hidden_size, reuse=False, alpha=0.1, training=False):\n",
    "    with tf.variable_scope('Env', reuse=reuse):\n",
    "        # First fully connected layer\n",
    "        h1 = tf.layers.dense(inputs=states, units=action_size)\n",
    "        bn1 = tf.layers.batch_normalization(h1, training=training)        \n",
    "        nl1 = tf.maximum(alpha * bn1, bn1)\n",
    "        \n",
    "        # Second fully connected layer\n",
    "        nl1_fused = tf.concat(axis=1, values=[nl1, actions])\n",
    "        h2 = tf.layers.dense(inputs=nl1_fused, units=hidden_size)\n",
    "        bn2 = tf.layers.batch_normalization(h2, training=training)        \n",
    "        nl2 = tf.maximum(alpha * bn2, bn2)\n",
    "                \n",
    "        # Output layer\n",
    "        states_logits = tf.layers.dense(inputs=nl2, units=state_size, trainable=False)\n",
    "        Qlogits = tf.layers.dense(inputs=nl2, units=1, trainable=False)\n",
    "        return states_logits, Qlogits"
   ]
  },
  {
   "cell_type": "code",
   "execution_count": 6,
   "metadata": {},
   "outputs": [],
   "source": [
    "def model_loss(state_size, action_size, hidden_size, gamma,\n",
    "               states, actions, next_states, rewards, dones, rates):\n",
    "    ################################################ a = act(s)\n",
    "    actions_logits = Act(states=states, hidden_size=hidden_size, action_size=action_size)\n",
    "    actions_labels = tf.one_hot(indices=actions, depth=action_size, dtype=actions_logits.dtype)\n",
    "    aloss = tf.reduce_mean(tf.nn.softmax_cross_entropy_with_logits_v2(logits=actions_logits, \n",
    "                                                                      labels=actions_labels))\n",
    "    ################################################ s', r = env(s, a)\n",
    "    e_next_states_logits, eQs = Env(actions=actions_labels, states=states, hidden_size=hidden_size, \n",
    "                                    action_size=action_size, state_size=state_size)\n",
    "    a_next_states_logits, aQs = Env(actions=actions_logits, states=states, hidden_size=hidden_size, \n",
    "                                    action_size=action_size, state_size=state_size, reuse=True)\n",
    "    next_states_labels = tf.nn.sigmoid(next_states)\n",
    "    eloss = tf.reduce_mean(tf.nn.sigmoid_cross_entropy_with_logits(logits=e_next_states_logits, # GQN\n",
    "                                                                   labels=next_states_labels))\n",
    "    eloss += -tf.reduce_mean(tf.nn.sigmoid_cross_entropy_with_logits(logits=a_next_states_logits, \n",
    "                                                                     labels=next_states_labels)) # maximize loss\n",
    "    aloss2 = tf.reduce_mean(tf.nn.sigmoid_cross_entropy_with_logits(logits=a_next_states_logits, \n",
    "                                                                    labels=next_states_labels)) # minimize loss\n",
    "    eQs_logits = tf.reshape(eQs, shape=[-1])\n",
    "    aQs_logits = tf.reshape(aQs, shape=[-1])\n",
    "    #################################################### s'', Q' = ~env(s', ~a')\n",
    "    next_actions_logits = Act(states=next_states, hidden_size=hidden_size, action_size=action_size, reuse=True)\n",
    "    _, aQs2 = Env(actions=next_actions_logits, states=next_states, hidden_size=hidden_size, \n",
    "                  action_size=action_size, state_size=state_size, reuse=True)\n",
    "    aQs2_logits = tf.reshape(aQs2, shape=[-1]) * (1-dones)\n",
    "    eloss += tf.reduce_mean(tf.nn.sigmoid_cross_entropy_with_logits(logits=eQs_logits, # GAN\n",
    "                                                                    labels=rates)) # 0-1 real\n",
    "    eloss += tf.reduce_mean(tf.nn.sigmoid_cross_entropy_with_logits(logits=(aQs_logits+aQs2_logits)/2, # GAN\n",
    "                                                                    labels=tf.zeros_like(rates))) # min\n",
    "    aloss2 += tf.reduce_mean(tf.nn.sigmoid_cross_entropy_with_logits(logits=(aQs_logits+aQs2_logits)/2, # GAN\n",
    "                                                                     labels=tf.ones_like(rates))) # max\n",
    "    ###################################################### Q(s,a)= r + Q'(s',a')\n",
    "    targetQs = rewards + (gamma * aQs2_logits) # DQN/Qlearning\n",
    "    eloss += tf.reduce_mean(tf.square(eQs_logits - targetQs)) # real\n",
    "    eloss += tf.reduce_mean(tf.square(aQs_logits - rewards)) # min\n",
    "    aloss2 += tf.reduce_mean(tf.square(aQs_logits - targetQs)) # max\n",
    "#     eloss += tf.reduce_mean((aQs_logits+aQs2_logits)/2) # min\n",
    "#     aloss2 += -tf.reduce_mean((aQs_logits+aQs2_logits)/2) # max\n",
    "    eloss += tf.reduce_mean(targetQs) # minimize Q\n",
    "    aloss2 += -tf.reduce_mean(targetQs) # maxizmie Q\n",
    "    eloss += tf.reduce_mean(eQs_logits) # minimize Q\n",
    "    aloss2 += -tf.reduce_mean(eQs_logits) # maxizmie Q\n",
    "    return actions_logits, aloss, eloss, aloss2"
   ]
  },
  {
   "cell_type": "code",
   "execution_count": 7,
   "metadata": {},
   "outputs": [],
   "source": [
    "def model_opt(a_loss, e_loss, a_loss2, a_learning_rate, e_learning_rate):\n",
    "    # Get weights and bias to update\n",
    "    t_vars = tf.trainable_variables()\n",
    "    a_vars = [var for var in t_vars if var.name.startswith('Act')]\n",
    "    e_vars = [var for var in t_vars if var.name.startswith('Env')]\n",
    "\n",
    "    # Optimize\n",
    "    with tf.control_dependencies(tf.get_collection(tf.GraphKeys.UPDATE_OPS)): # Required for batchnorm (BN)\n",
    "        a_opt = tf.train.AdamOptimizer(a_learning_rate).minimize(a_loss, var_list=a_vars)\n",
    "        e_opt = tf.train.AdamOptimizer(e_learning_rate).minimize(e_loss, var_list=e_vars)\n",
    "        a_opt2 = tf.train.AdamOptimizer(a_learning_rate).minimize(a_loss2, var_list=a_vars)\n",
    "    return a_opt, e_opt, a_opt2"
   ]
  },
  {
   "cell_type": "code",
   "execution_count": 8,
   "metadata": {},
   "outputs": [],
   "source": [
    "class Model:\n",
    "    def __init__(self, state_size, action_size, hidden_size, a_learning_rate, e_learning_rate, gamma):\n",
    "\n",
    "        # Data of the Model: make the data available inside the framework\n",
    "        self.states, self.actions, self.next_states, self.rewards, self.dones, self.rates = model_input(\n",
    "            state_size=state_size)\n",
    "\n",
    "        # Create the Model: calculating the loss and forwad pass\n",
    "        self.actions_logits, self.a_loss, self.e_loss, self.a_loss2 = model_loss(\n",
    "            state_size=state_size, action_size=action_size, hidden_size=hidden_size, gamma=gamma, # model init\n",
    "            states=self.states, actions=self.actions, next_states=self.next_states, \n",
    "            rewards=self.rewards, dones=self.dones, rates=self.rates) # model input\n",
    "        \n",
    "        # Update the model: backward pass and backprop\n",
    "        self.a_opt, self.e_opt, self.a_opt2 = model_opt(a_loss=self.a_loss, \n",
    "                                                        e_loss=self.e_loss,\n",
    "                                                        a_loss2=self.a_loss2, \n",
    "                                                        a_learning_rate=a_learning_rate,\n",
    "                                                        e_learning_rate=e_learning_rate)"
   ]
  },
  {
   "cell_type": "code",
   "execution_count": 9,
   "metadata": {},
   "outputs": [],
   "source": [
    "from collections import deque\n",
    "class Memory():\n",
    "    def __init__(self, max_size = 1000):\n",
    "        self.buffer = deque(maxlen=max_size) # data batch\n",
    "#     def sample(self, batch_size):\n",
    "#         idx = np.random.choice(np.arange(len(self.buffer)), size=batch_size, replace=False)\n",
    "#         return [self.buffer[ii] for ii in idx]"
   ]
  },
  {
   "cell_type": "markdown",
   "metadata": {},
   "source": [
    "## Hyperparameters\n",
    "\n",
    "One of the more difficult aspects of reinforcememt learning are the large number of hyperparameters. Not only are we tuning the network, but we're tuning the simulation."
   ]
  },
  {
   "cell_type": "code",
   "execution_count": 10,
   "metadata": {},
   "outputs": [
    {
     "data": {
      "text/plain": [
       "(Box(4,), Discrete(2))"
      ]
     },
     "execution_count": 10,
     "metadata": {},
     "output_type": "execute_result"
    }
   ],
   "source": [
    "env.observation_space, env.action_space"
   ]
  },
  {
   "cell_type": "code",
   "execution_count": 11,
   "metadata": {},
   "outputs": [],
   "source": [
    "# Exploration parameters\n",
    "explore_start = 1.0            # exploration probability at start\n",
    "explore_stop = 0.01           # minimum exploration probability \n",
    "decay_rate = 0.0001            # exponential decay rate for exploration prob\n",
    "\n",
    "# Network parameters\n",
    "state_size = 4\n",
    "action_size = 2\n",
    "hidden_size = 4*2             # number of units in each Q-network hidden layer\n",
    "a_learning_rate = 1e-4         # Q-network learning rate\n",
    "e_learning_rate = 1e-4         # Q-network learning rate\n",
    "\n",
    "# Memory parameters\n",
    "memory_size = int(1e5)            # memory capacity\n",
    "batch_size = int(1e3)             # experience mini-batch size\n",
    "gamma=0.99"
   ]
  },
  {
   "cell_type": "code",
   "execution_count": 12,
   "metadata": {},
   "outputs": [],
   "source": [
    "# Reset/init the graph/session\n",
    "graph = tf.reset_default_graph()\n",
    "\n",
    "# Init the model\n",
    "model = Model(action_size=action_size, state_size=state_size, hidden_size=hidden_size, gamma=gamma,\n",
    "              a_learning_rate=a_learning_rate, e_learning_rate=e_learning_rate)\n",
    "\n",
    "# Init the memory\n",
    "memory = Memory(max_size=memory_size)"
   ]
  },
  {
   "cell_type": "code",
   "execution_count": 13,
   "metadata": {},
   "outputs": [],
   "source": [
    "state = env.reset()\n",
    "total_reward = 0\n",
    "num_step = 0\n",
    "for _ in range(memory_size):\n",
    "    action = env.action_space.sample()\n",
    "    next_state, reward, done, _ = env.step(action)\n",
    "    rate = -1\n",
    "    memory.buffer.append([state, action, next_state, reward, float(done), rate])\n",
    "    num_step += 1 # memory incremented\n",
    "    total_reward += reward\n",
    "    state = next_state\n",
    "    if done is True:\n",
    "        rate = total_reward/500\n",
    "        for idx in range(num_step): # episode length\n",
    "            if memory.buffer[-1-idx][-1] == -1:\n",
    "                memory.buffer[-1-idx][-1] = rate\n",
    "        state = env.reset()\n",
    "        total_reward = 0 # reset\n",
    "        num_step = 0 # reset"
   ]
  },
  {
   "cell_type": "markdown",
   "metadata": {},
   "source": [
    "## Training the model\n",
    "\n",
    "Below we'll train our agent. If you want to watch it train, uncomment the `env.render()` line. This is slow because it's rendering the frames slower than the network can train. But, it's cool to watch the agent get better at the game."
   ]
  },
  {
   "cell_type": "code",
   "execution_count": null,
   "metadata": {},
   "outputs": [
    {
     "name": "stdout",
     "output_type": "stream",
     "text": [
      "Episode:0 meanR:22.0000 R:22.0000 rate:0.0440 aloss:0.6858 eloss:4.4902 aloss2:0.9907 exploreP:0.9978\n",
      "Episode:1 meanR:21.5000 R:21.0000 rate:0.0420 aloss:0.6913 eloss:4.5366 aloss2:0.9357 exploreP:0.9958\n",
      "Episode:2 meanR:18.3333 R:12.0000 rate:0.0240 aloss:0.6957 eloss:4.5591 aloss2:0.9574 exploreP:0.9946\n",
      "Episode:3 meanR:19.7500 R:24.0000 rate:0.0480 aloss:0.6932 eloss:4.5120 aloss2:1.0220 exploreP:0.9922\n",
      "Episode:4 meanR:20.2000 R:22.0000 rate:0.0440 aloss:0.6909 eloss:4.6078 aloss2:0.9023 exploreP:0.9901\n",
      "Episode:5 meanR:19.8333 R:18.0000 rate:0.0360 aloss:0.6884 eloss:4.5181 aloss2:1.0279 exploreP:0.9883\n",
      "Episode:6 meanR:22.2857 R:37.0000 rate:0.0740 aloss:0.6918 eloss:4.5631 aloss2:0.9824 exploreP:0.9847\n",
      "Episode:7 meanR:23.5000 R:32.0000 rate:0.0640 aloss:0.6904 eloss:4.5209 aloss2:1.0380 exploreP:0.9816\n",
      "Episode:8 meanR:22.8889 R:18.0000 rate:0.0360 aloss:0.6905 eloss:4.5144 aloss2:1.0819 exploreP:0.9798\n",
      "Episode:9 meanR:23.6000 R:30.0000 rate:0.0600 aloss:0.6999 eloss:4.5965 aloss2:1.0313 exploreP:0.9769\n",
      "Episode:10 meanR:22.4545 R:11.0000 rate:0.0220 aloss:0.7010 eloss:4.5563 aloss2:1.0879 exploreP:0.9758\n",
      "Episode:11 meanR:22.4167 R:22.0000 rate:0.0440 aloss:0.6913 eloss:4.5012 aloss2:1.1549 exploreP:0.9737\n",
      "Episode:12 meanR:21.6154 R:12.0000 rate:0.0240 aloss:0.6953 eloss:4.5239 aloss2:1.1395 exploreP:0.9726\n",
      "Episode:13 meanR:21.0714 R:14.0000 rate:0.0280 aloss:0.6888 eloss:4.5018 aloss2:1.1536 exploreP:0.9712\n",
      "Episode:14 meanR:22.2667 R:39.0000 rate:0.0780 aloss:0.6921 eloss:4.5137 aloss2:1.1595 exploreP:0.9675\n",
      "Episode:15 meanR:22.5625 R:27.0000 rate:0.0540 aloss:0.6944 eloss:4.5098 aloss2:1.1942 exploreP:0.9649\n",
      "Episode:16 meanR:21.9412 R:12.0000 rate:0.0240 aloss:0.6858 eloss:4.4533 aloss2:1.2390 exploreP:0.9638\n",
      "Episode:17 meanR:23.6667 R:53.0000 rate:0.1060 aloss:0.6978 eloss:4.5039 aloss2:1.2193 exploreP:0.9587\n",
      "Episode:18 meanR:23.2105 R:15.0000 rate:0.0300 aloss:0.7032 eloss:4.5030 aloss2:1.2627 exploreP:0.9573\n",
      "Episode:19 meanR:24.1500 R:42.0000 rate:0.0840 aloss:0.7029 eloss:4.4853 aloss2:1.2784 exploreP:0.9533\n",
      "Episode:20 meanR:23.8095 R:17.0000 rate:0.0340 aloss:0.7300 eloss:4.5833 aloss2:1.2213 exploreP:0.9517\n",
      "Episode:21 meanR:23.8636 R:25.0000 rate:0.0500 aloss:0.7117 eloss:4.5055 aloss2:1.3008 exploreP:0.9494\n",
      "Episode:22 meanR:23.4783 R:15.0000 rate:0.0300 aloss:0.6829 eloss:4.4143 aloss2:1.4010 exploreP:0.9480\n",
      "Episode:23 meanR:23.2500 R:18.0000 rate:0.0360 aloss:0.6967 eloss:4.4361 aloss2:1.3823 exploreP:0.9463\n",
      "Episode:24 meanR:22.8400 R:13.0000 rate:0.0260 aloss:0.6938 eloss:4.4482 aloss2:1.3580 exploreP:0.9451\n",
      "Episode:25 meanR:22.7692 R:21.0000 rate:0.0420 aloss:0.6991 eloss:4.4592 aloss2:1.3302 exploreP:0.9431\n",
      "Episode:26 meanR:23.0741 R:31.0000 rate:0.0620 aloss:0.7056 eloss:4.4506 aloss2:1.4030 exploreP:0.9402\n",
      "Episode:27 meanR:22.8571 R:17.0000 rate:0.0340 aloss:0.7092 eloss:4.4553 aloss2:1.4198 exploreP:0.9386\n",
      "Episode:28 meanR:22.5862 R:15.0000 rate:0.0300 aloss:0.7023 eloss:4.4415 aloss2:1.4178 exploreP:0.9372\n",
      "Episode:29 meanR:22.6000 R:23.0000 rate:0.0460 aloss:0.7048 eloss:4.4244 aloss2:1.4502 exploreP:0.9351\n",
      "Episode:30 meanR:22.6774 R:25.0000 rate:0.0500 aloss:0.7160 eloss:4.4342 aloss2:1.4594 exploreP:0.9328\n",
      "Episode:31 meanR:22.4062 R:14.0000 rate:0.0280 aloss:0.6978 eloss:4.4106 aloss2:1.4846 exploreP:0.9315\n",
      "Episode:32 meanR:22.1212 R:13.0000 rate:0.0260 aloss:0.7044 eloss:4.4111 aloss2:1.4899 exploreP:0.9303\n",
      "Episode:33 meanR:22.1176 R:22.0000 rate:0.0440 aloss:0.7016 eloss:4.4071 aloss2:1.5049 exploreP:0.9283\n",
      "Episode:34 meanR:22.6000 R:39.0000 rate:0.0780 aloss:0.7038 eloss:4.4124 aloss2:1.4989 exploreP:0.9247\n",
      "Episode:35 meanR:22.5278 R:20.0000 rate:0.0400 aloss:0.7086 eloss:4.4082 aloss2:1.5323 exploreP:0.9229\n",
      "Episode:36 meanR:22.2162 R:11.0000 rate:0.0220 aloss:0.6999 eloss:4.3827 aloss2:1.5748 exploreP:0.9219\n",
      "Episode:37 meanR:22.4737 R:32.0000 rate:0.0640 aloss:0.7071 eloss:4.3815 aloss2:1.5815 exploreP:0.9190\n",
      "Episode:38 meanR:22.1538 R:10.0000 rate:0.0200 aloss:0.6951 eloss:4.3772 aloss2:1.5922 exploreP:0.9181\n",
      "Episode:39 meanR:22.9000 R:52.0000 rate:0.1040 aloss:0.7009 eloss:4.3658 aloss2:1.6066 exploreP:0.9133\n",
      "Episode:40 meanR:22.5610 R:9.0000 rate:0.0180 aloss:0.6994 eloss:4.3580 aloss2:1.5929 exploreP:0.9125\n",
      "Episode:41 meanR:22.4762 R:19.0000 rate:0.0380 aloss:0.7070 eloss:4.3598 aloss2:1.6329 exploreP:0.9108\n",
      "Episode:42 meanR:22.6512 R:30.0000 rate:0.0600 aloss:0.7043 eloss:4.3507 aloss2:1.6453 exploreP:0.9081\n",
      "Episode:43 meanR:22.7500 R:27.0000 rate:0.0540 aloss:0.7105 eloss:4.3487 aloss2:1.6704 exploreP:0.9057\n",
      "Episode:44 meanR:22.7111 R:21.0000 rate:0.0420 aloss:0.7149 eloss:4.3532 aloss2:1.6633 exploreP:0.9038\n",
      "Episode:45 meanR:22.5000 R:13.0000 rate:0.0260 aloss:0.7277 eloss:4.3758 aloss2:1.6221 exploreP:0.9027\n",
      "Episode:46 meanR:22.4468 R:20.0000 rate:0.0400 aloss:0.7214 eloss:4.3490 aloss2:1.6773 exploreP:0.9009\n",
      "Episode:47 meanR:22.5208 R:26.0000 rate:0.0520 aloss:0.6994 eloss:4.3343 aloss2:1.6977 exploreP:0.8986\n",
      "Episode:48 meanR:22.5306 R:23.0000 rate:0.0460 aloss:0.7050 eloss:4.3273 aloss2:1.7049 exploreP:0.8965\n",
      "Episode:49 meanR:22.7000 R:31.0000 rate:0.0620 aloss:0.7038 eloss:4.3217 aloss2:1.7108 exploreP:0.8938\n",
      "Episode:50 meanR:22.4510 R:10.0000 rate:0.0200 aloss:0.7105 eloss:4.3381 aloss2:1.6957 exploreP:0.8929\n",
      "Episode:51 meanR:22.3846 R:19.0000 rate:0.0380 aloss:0.7057 eloss:4.3135 aloss2:1.7365 exploreP:0.8912\n",
      "Episode:52 meanR:22.9811 R:54.0000 rate:0.1080 aloss:0.7203 eloss:4.3170 aloss2:1.7440 exploreP:0.8865\n",
      "Episode:53 meanR:23.1852 R:34.0000 rate:0.0680 aloss:0.7403 eloss:4.3212 aloss2:1.7535 exploreP:0.8835\n",
      "Episode:54 meanR:23.7636 R:55.0000 rate:0.1100 aloss:0.7233 eloss:4.3067 aloss2:1.7913 exploreP:0.8787\n",
      "Episode:55 meanR:23.6250 R:16.0000 rate:0.0320 aloss:0.7479 eloss:4.3189 aloss2:1.7909 exploreP:0.8773\n",
      "Episode:56 meanR:23.5088 R:17.0000 rate:0.0340 aloss:0.6936 eloss:4.2832 aloss2:1.8354 exploreP:0.8758\n",
      "Episode:57 meanR:23.3621 R:15.0000 rate:0.0300 aloss:0.7067 eloss:4.3071 aloss2:1.8194 exploreP:0.8745\n",
      "Episode:58 meanR:23.1695 R:12.0000 rate:0.0240 aloss:0.6821 eloss:4.2917 aloss2:1.8244 exploreP:0.8735\n",
      "Episode:59 meanR:23.1000 R:19.0000 rate:0.0380 aloss:0.7022 eloss:4.3095 aloss2:1.8188 exploreP:0.8719\n",
      "Episode:60 meanR:22.9016 R:11.0000 rate:0.0220 aloss:0.7082 eloss:4.3095 aloss2:1.8283 exploreP:0.8709\n",
      "Episode:61 meanR:22.7097 R:11.0000 rate:0.0220 aloss:0.8921 eloss:4.4241 aloss2:1.7444 exploreP:0.8700\n",
      "Episode:62 meanR:22.6667 R:20.0000 rate:0.0400 aloss:0.6996 eloss:4.3003 aloss2:1.8533 exploreP:0.8683\n",
      "Episode:63 meanR:22.5781 R:17.0000 rate:0.0340 aloss:0.7426 eloss:4.3345 aloss2:1.8302 exploreP:0.8668\n",
      "Episode:64 meanR:22.6462 R:27.0000 rate:0.0540 aloss:0.7756 eloss:4.3402 aloss2:1.8228 exploreP:0.8645\n",
      "Episode:65 meanR:22.4848 R:12.0000 rate:0.0240 aloss:0.7094 eloss:4.2853 aloss2:1.9103 exploreP:0.8635\n",
      "Episode:66 meanR:22.5522 R:27.0000 rate:0.0540 aloss:0.7538 eloss:4.3202 aloss2:1.8771 exploreP:0.8612\n",
      "Episode:67 meanR:22.5441 R:22.0000 rate:0.0440 aloss:0.7272 eloss:4.3037 aloss2:1.9000 exploreP:0.8593\n",
      "Episode:68 meanR:22.8841 R:46.0000 rate:0.0920 aloss:0.7378 eloss:4.3007 aloss2:1.9145 exploreP:0.8554\n",
      "Episode:69 meanR:23.0000 R:31.0000 rate:0.0620 aloss:0.7337 eloss:4.2818 aloss2:1.9389 exploreP:0.8528\n",
      "Episode:70 meanR:22.8873 R:15.0000 rate:0.0300 aloss:0.7943 eloss:4.3087 aloss2:1.9164 exploreP:0.8515\n",
      "Episode:71 meanR:22.9722 R:29.0000 rate:0.0580 aloss:0.7719 eloss:4.2892 aloss2:1.9428 exploreP:0.8491\n",
      "Episode:72 meanR:22.9041 R:18.0000 rate:0.0360 aloss:0.7750 eloss:4.2953 aloss2:1.9503 exploreP:0.8476\n",
      "Episode:73 meanR:22.7027 R:8.0000 rate:0.0160 aloss:0.7291 eloss:4.2688 aloss2:1.9796 exploreP:0.8469\n",
      "Episode:74 meanR:22.6800 R:21.0000 rate:0.0420 aloss:0.7131 eloss:4.2543 aloss2:2.0083 exploreP:0.8451\n",
      "Episode:75 meanR:22.7105 R:25.0000 rate:0.0500 aloss:0.7565 eloss:4.2807 aloss2:1.9502 exploreP:0.8431\n",
      "Episode:76 meanR:22.9351 R:40.0000 rate:0.0800 aloss:0.7105 eloss:4.2519 aloss2:2.0237 exploreP:0.8397\n",
      "Episode:77 meanR:23.0897 R:35.0000 rate:0.0700 aloss:0.7204 eloss:4.2584 aloss2:2.0219 exploreP:0.8368\n",
      "Episode:78 meanR:23.7722 R:77.0000 rate:0.1540 aloss:0.7066 eloss:4.2556 aloss2:2.0534 exploreP:0.8305\n",
      "Episode:79 meanR:23.8000 R:26.0000 rate:0.0520 aloss:0.7065 eloss:4.2553 aloss2:2.0585 exploreP:0.8284\n"
     ]
    },
    {
     "name": "stdout",
     "output_type": "stream",
     "text": [
      "Episode:80 meanR:23.6667 R:13.0000 rate:0.0260 aloss:0.6870 eloss:4.2470 aloss2:2.0821 exploreP:0.8273\n",
      "Episode:81 meanR:23.5610 R:15.0000 rate:0.0300 aloss:0.7163 eloss:4.2523 aloss2:2.0724 exploreP:0.8261\n",
      "Episode:82 meanR:24.0723 R:66.0000 rate:0.1320 aloss:0.7183 eloss:4.2555 aloss2:2.0862 exploreP:0.8207\n",
      "Episode:83 meanR:24.5714 R:66.0000 rate:0.1320 aloss:0.7056 eloss:4.2464 aloss2:2.1216 exploreP:0.8154\n",
      "Episode:84 meanR:24.6353 R:30.0000 rate:0.0600 aloss:0.7340 eloss:4.2458 aloss2:2.1335 exploreP:0.8130\n",
      "Episode:85 meanR:25.3721 R:88.0000 rate:0.1760 aloss:0.7054 eloss:4.2476 aloss2:2.1600 exploreP:0.8059\n",
      "Episode:86 meanR:25.7356 R:57.0000 rate:0.1140 aloss:0.7101 eloss:4.2371 aloss2:2.1767 exploreP:0.8014\n",
      "Episode:87 meanR:25.6932 R:22.0000 rate:0.0440 aloss:0.7371 eloss:4.2478 aloss2:2.1847 exploreP:0.7997\n",
      "Episode:88 meanR:25.6180 R:19.0000 rate:0.0380 aloss:0.7887 eloss:4.2672 aloss2:2.1754 exploreP:0.7982\n",
      "Episode:89 meanR:25.5667 R:21.0000 rate:0.0420 aloss:0.7555 eloss:4.2407 aloss2:2.1736 exploreP:0.7965\n",
      "Episode:90 meanR:25.7802 R:45.0000 rate:0.0900 aloss:0.7292 eloss:4.2369 aloss2:2.1991 exploreP:0.7930\n",
      "Episode:91 meanR:26.4457 R:87.0000 rate:0.1740 aloss:0.7289 eloss:4.2316 aloss2:2.2041 exploreP:0.7862\n",
      "Episode:92 meanR:26.5484 R:36.0000 rate:0.0720 aloss:0.7010 eloss:4.2273 aloss2:2.2137 exploreP:0.7834\n",
      "Episode:93 meanR:26.8723 R:57.0000 rate:0.1140 aloss:0.7241 eloss:4.2295 aloss2:2.2066 exploreP:0.7790\n",
      "Episode:94 meanR:26.7895 R:19.0000 rate:0.0380 aloss:0.7054 eloss:4.2326 aloss2:2.2104 exploreP:0.7776\n",
      "Episode:95 meanR:26.8021 R:28.0000 rate:0.0560 aloss:0.7009 eloss:4.2256 aloss2:2.2101 exploreP:0.7754\n",
      "Episode:96 meanR:26.9691 R:43.0000 rate:0.0860 aloss:0.7034 eloss:4.2286 aloss2:2.2080 exploreP:0.7721\n",
      "Episode:97 meanR:26.9694 R:27.0000 rate:0.0540 aloss:0.7310 eloss:4.2380 aloss2:2.2076 exploreP:0.7701\n",
      "Episode:98 meanR:27.0505 R:35.0000 rate:0.0700 aloss:0.7117 eloss:4.2311 aloss2:2.2066 exploreP:0.7674\n",
      "Episode:99 meanR:26.8900 R:11.0000 rate:0.0220 aloss:0.6991 eloss:4.2253 aloss2:2.2136 exploreP:0.7666\n",
      "Episode:100 meanR:27.1100 R:44.0000 rate:0.0880 aloss:0.7061 eloss:4.2312 aloss2:2.1943 exploreP:0.7633\n",
      "Episode:101 meanR:27.0900 R:19.0000 rate:0.0380 aloss:0.7257 eloss:4.2338 aloss2:2.1847 exploreP:0.7618\n",
      "Episode:102 meanR:27.3300 R:36.0000 rate:0.0720 aloss:0.7038 eloss:4.2338 aloss2:2.1748 exploreP:0.7591\n",
      "Episode:103 meanR:27.9000 R:81.0000 rate:0.1620 aloss:0.7023 eloss:4.2402 aloss2:2.1832 exploreP:0.7531\n",
      "Episode:104 meanR:27.9400 R:26.0000 rate:0.0520 aloss:0.7087 eloss:4.2399 aloss2:2.1704 exploreP:0.7512\n",
      "Episode:105 meanR:28.1400 R:38.0000 rate:0.0760 aloss:0.6961 eloss:4.2511 aloss2:2.1816 exploreP:0.7483\n",
      "Episode:106 meanR:28.1100 R:34.0000 rate:0.0680 aloss:0.7069 eloss:4.2373 aloss2:2.1617 exploreP:0.7458\n",
      "Episode:107 meanR:28.1500 R:36.0000 rate:0.0720 aloss:0.6938 eloss:4.2345 aloss2:2.1686 exploreP:0.7432\n",
      "Episode:108 meanR:28.4600 R:49.0000 rate:0.0980 aloss:0.7122 eloss:4.2360 aloss2:2.1644 exploreP:0.7396\n",
      "Episode:109 meanR:28.2900 R:13.0000 rate:0.0260 aloss:0.7283 eloss:4.2515 aloss2:2.1588 exploreP:0.7387\n",
      "Episode:110 meanR:28.7100 R:53.0000 rate:0.1060 aloss:0.7160 eloss:4.2438 aloss2:2.1702 exploreP:0.7348\n",
      "Episode:111 meanR:28.7200 R:23.0000 rate:0.0460 aloss:0.6945 eloss:4.2332 aloss2:2.1658 exploreP:0.7331\n",
      "Episode:112 meanR:29.3200 R:72.0000 rate:0.1440 aloss:0.7200 eloss:4.2404 aloss2:2.1622 exploreP:0.7280\n",
      "Episode:113 meanR:29.4600 R:28.0000 rate:0.0560 aloss:0.7456 eloss:4.2534 aloss2:2.1569 exploreP:0.7259\n",
      "Episode:114 meanR:29.4900 R:42.0000 rate:0.0840 aloss:0.7133 eloss:4.2500 aloss2:2.1567 exploreP:0.7229\n",
      "Episode:115 meanR:29.8200 R:60.0000 rate:0.1200 aloss:0.7240 eloss:4.2394 aloss2:2.1566 exploreP:0.7187\n",
      "Episode:116 meanR:29.9800 R:28.0000 rate:0.0560 aloss:0.7355 eloss:4.2397 aloss2:2.1484 exploreP:0.7167\n",
      "Episode:117 meanR:29.7900 R:34.0000 rate:0.0680 aloss:0.7727 eloss:4.2456 aloss2:2.1574 exploreP:0.7143\n",
      "Episode:118 meanR:30.5200 R:88.0000 rate:0.1760 aloss:0.7182 eloss:4.2402 aloss2:2.1669 exploreP:0.7081\n",
      "Episode:119 meanR:30.6900 R:59.0000 rate:0.1180 aloss:0.7269 eloss:4.2422 aloss2:2.1646 exploreP:0.7040\n",
      "Episode:120 meanR:30.9100 R:39.0000 rate:0.0780 aloss:0.7273 eloss:4.2397 aloss2:2.1769 exploreP:0.7013\n",
      "Episode:121 meanR:30.9800 R:32.0000 rate:0.0640 aloss:0.7306 eloss:4.2401 aloss2:2.1761 exploreP:0.6991\n",
      "Episode:122 meanR:31.4800 R:65.0000 rate:0.1300 aloss:0.7615 eloss:4.2507 aloss2:2.1661 exploreP:0.6946\n",
      "Episode:123 meanR:31.5200 R:22.0000 rate:0.0440 aloss:0.7350 eloss:4.2442 aloss2:2.1745 exploreP:0.6931\n",
      "Episode:124 meanR:31.7600 R:37.0000 rate:0.0740 aloss:0.7037 eloss:4.2411 aloss2:2.1805 exploreP:0.6906\n",
      "Episode:125 meanR:31.8000 R:25.0000 rate:0.0500 aloss:0.7426 eloss:4.2475 aloss2:2.1739 exploreP:0.6889\n",
      "Episode:126 meanR:31.9000 R:41.0000 rate:0.0820 aloss:0.7086 eloss:4.2439 aloss2:2.1803 exploreP:0.6861\n",
      "Episode:127 meanR:32.1700 R:44.0000 rate:0.0880 aloss:0.7398 eloss:4.2498 aloss2:2.1688 exploreP:0.6832\n",
      "Episode:128 meanR:32.3800 R:36.0000 rate:0.0720 aloss:0.7194 eloss:4.2446 aloss2:2.1799 exploreP:0.6808\n",
      "Episode:129 meanR:32.4800 R:33.0000 rate:0.0660 aloss:0.7121 eloss:4.2477 aloss2:2.1862 exploreP:0.6785\n",
      "Episode:130 meanR:32.5400 R:31.0000 rate:0.0620 aloss:0.7277 eloss:4.2490 aloss2:2.1729 exploreP:0.6765\n",
      "Episode:131 meanR:32.6700 R:27.0000 rate:0.0540 aloss:0.7252 eloss:4.2509 aloss2:2.1872 exploreP:0.6747\n",
      "Episode:132 meanR:33.0600 R:52.0000 rate:0.1040 aloss:0.7334 eloss:4.2553 aloss2:2.1770 exploreP:0.6712\n",
      "Episode:133 meanR:33.0900 R:25.0000 rate:0.0500 aloss:0.7262 eloss:4.2528 aloss2:2.1789 exploreP:0.6696\n",
      "Episode:134 meanR:32.8300 R:13.0000 rate:0.0260 aloss:0.7346 eloss:4.2518 aloss2:2.1831 exploreP:0.6687\n",
      "Episode:135 meanR:32.7300 R:10.0000 rate:0.0200 aloss:0.7407 eloss:4.2575 aloss2:2.1856 exploreP:0.6681\n",
      "Episode:136 meanR:33.1100 R:49.0000 rate:0.0980 aloss:0.7389 eloss:4.2606 aloss2:2.1953 exploreP:0.6648\n",
      "Episode:137 meanR:33.2100 R:42.0000 rate:0.0840 aloss:0.7450 eloss:4.2594 aloss2:2.1877 exploreP:0.6621\n",
      "Episode:138 meanR:33.4600 R:35.0000 rate:0.0700 aloss:0.7839 eloss:4.2665 aloss2:2.1819 exploreP:0.6598\n",
      "Episode:139 meanR:33.9800 R:104.0000 rate:0.2080 aloss:0.7386 eloss:4.2605 aloss2:2.1968 exploreP:0.6531\n",
      "Episode:140 meanR:34.4300 R:54.0000 rate:0.1080 aloss:0.7422 eloss:4.2599 aloss2:2.1982 exploreP:0.6496\n",
      "Episode:141 meanR:34.7100 R:47.0000 rate:0.0940 aloss:0.7591 eloss:4.2608 aloss2:2.1992 exploreP:0.6466\n",
      "Episode:142 meanR:35.0800 R:67.0000 rate:0.1340 aloss:0.7735 eloss:4.2628 aloss2:2.2077 exploreP:0.6424\n",
      "Episode:143 meanR:35.7100 R:90.0000 rate:0.1800 aloss:0.7705 eloss:4.2689 aloss2:2.2109 exploreP:0.6367\n",
      "Episode:144 meanR:35.8500 R:35.0000 rate:0.0700 aloss:0.7884 eloss:4.2609 aloss2:2.2099 exploreP:0.6345\n",
      "Episode:145 meanR:35.8900 R:17.0000 rate:0.0340 aloss:0.8412 eloss:4.2568 aloss2:2.2438 exploreP:0.6335\n",
      "Episode:146 meanR:36.1900 R:50.0000 rate:0.1000 aloss:0.7915 eloss:4.2734 aloss2:2.2107 exploreP:0.6304\n",
      "Episode:147 meanR:36.3000 R:37.0000 rate:0.0740 aloss:0.7537 eloss:4.2613 aloss2:2.2299 exploreP:0.6281\n",
      "Episode:148 meanR:36.5100 R:44.0000 rate:0.0880 aloss:0.7712 eloss:4.2611 aloss2:2.2136 exploreP:0.6254\n",
      "Episode:149 meanR:36.5700 R:37.0000 rate:0.0740 aloss:0.7809 eloss:4.2697 aloss2:2.2006 exploreP:0.6231\n",
      "Episode:150 meanR:36.6500 R:18.0000 rate:0.0360 aloss:0.7629 eloss:4.2746 aloss2:2.2146 exploreP:0.6220\n",
      "Episode:151 meanR:36.8300 R:37.0000 rate:0.0740 aloss:0.7416 eloss:4.2539 aloss2:2.2195 exploreP:0.6197\n",
      "Episode:152 meanR:36.6000 R:31.0000 rate:0.0620 aloss:0.7523 eloss:4.2572 aloss2:2.2141 exploreP:0.6178\n",
      "Episode:153 meanR:36.6700 R:41.0000 rate:0.0820 aloss:0.7402 eloss:4.2544 aloss2:2.2393 exploreP:0.6153\n",
      "Episode:154 meanR:36.7000 R:58.0000 rate:0.1160 aloss:0.7482 eloss:4.2566 aloss2:2.2287 exploreP:0.6118\n",
      "Episode:155 meanR:36.9000 R:36.0000 rate:0.0720 aloss:0.7489 eloss:4.2588 aloss2:2.2383 exploreP:0.6097\n",
      "Episode:156 meanR:37.1600 R:43.0000 rate:0.0860 aloss:0.7371 eloss:4.2560 aloss2:2.2405 exploreP:0.6071\n",
      "Episode:157 meanR:37.6100 R:60.0000 rate:0.1200 aloss:0.7637 eloss:4.2554 aloss2:2.2328 exploreP:0.6035\n",
      "Episode:158 meanR:37.8200 R:33.0000 rate:0.0660 aloss:0.8106 eloss:4.2759 aloss2:2.2412 exploreP:0.6016\n"
     ]
    },
    {
     "name": "stdout",
     "output_type": "stream",
     "text": [
      "Episode:159 meanR:37.7500 R:12.0000 rate:0.0240 aloss:0.7804 eloss:4.2628 aloss2:2.2163 exploreP:0.6009\n",
      "Episode:160 meanR:38.0000 R:36.0000 rate:0.0720 aloss:0.7442 eloss:4.2578 aloss2:2.2251 exploreP:0.5988\n",
      "Episode:161 meanR:38.0400 R:15.0000 rate:0.0300 aloss:0.7565 eloss:4.2590 aloss2:2.2109 exploreP:0.5979\n",
      "Episode:162 meanR:38.2800 R:44.0000 rate:0.0880 aloss:0.7861 eloss:4.2563 aloss2:2.2310 exploreP:0.5953\n",
      "Episode:163 meanR:38.5100 R:40.0000 rate:0.0800 aloss:0.7959 eloss:4.2548 aloss2:2.2208 exploreP:0.5930\n",
      "Episode:164 meanR:38.6300 R:39.0000 rate:0.0780 aloss:0.7726 eloss:4.2531 aloss2:2.2412 exploreP:0.5907\n",
      "Episode:165 meanR:38.6900 R:18.0000 rate:0.0360 aloss:0.7723 eloss:4.2521 aloss2:2.2433 exploreP:0.5896\n",
      "Episode:166 meanR:38.8700 R:45.0000 rate:0.0900 aloss:0.7667 eloss:4.2506 aloss2:2.2451 exploreP:0.5870\n",
      "Episode:167 meanR:39.0000 R:35.0000 rate:0.0700 aloss:0.8482 eloss:4.2555 aloss2:2.2074 exploreP:0.5850\n",
      "Episode:168 meanR:38.9900 R:45.0000 rate:0.0900 aloss:0.7695 eloss:4.2451 aloss2:2.2417 exploreP:0.5824\n",
      "Episode:169 meanR:38.8200 R:14.0000 rate:0.0280 aloss:0.7542 eloss:4.2480 aloss2:2.2414 exploreP:0.5816\n",
      "Episode:170 meanR:38.9100 R:24.0000 rate:0.0480 aloss:0.7966 eloss:4.2561 aloss2:2.2354 exploreP:0.5803\n",
      "Episode:171 meanR:39.2800 R:66.0000 rate:0.1320 aloss:0.7834 eloss:4.2520 aloss2:2.2336 exploreP:0.5765\n",
      "Episode:172 meanR:39.6900 R:59.0000 rate:0.1180 aloss:0.7936 eloss:4.2484 aloss2:2.2224 exploreP:0.5732\n",
      "Episode:173 meanR:39.8600 R:25.0000 rate:0.0500 aloss:0.8001 eloss:4.2433 aloss2:2.2328 exploreP:0.5718\n",
      "Episode:174 meanR:39.8500 R:20.0000 rate:0.0400 aloss:0.7556 eloss:4.2452 aloss2:2.2305 exploreP:0.5707\n",
      "Episode:175 meanR:40.2900 R:69.0000 rate:0.1380 aloss:0.7616 eloss:4.2420 aloss2:2.2371 exploreP:0.5668\n",
      "Episode:176 meanR:40.2900 R:40.0000 rate:0.0800 aloss:0.7329 eloss:4.2432 aloss2:2.2357 exploreP:0.5646\n",
      "Episode:177 meanR:40.2900 R:35.0000 rate:0.0700 aloss:0.7393 eloss:4.2386 aloss2:2.2514 exploreP:0.5626\n",
      "Episode:178 meanR:40.0800 R:56.0000 rate:0.1120 aloss:0.7403 eloss:4.2389 aloss2:2.2471 exploreP:0.5596\n",
      "Episode:179 meanR:40.8000 R:98.0000 rate:0.1960 aloss:0.7563 eloss:4.2391 aloss2:2.2447 exploreP:0.5542\n",
      "Episode:180 meanR:40.8200 R:15.0000 rate:0.0300 aloss:0.7705 eloss:4.2375 aloss2:2.2519 exploreP:0.5534\n",
      "Episode:181 meanR:41.2600 R:59.0000 rate:0.1180 aloss:0.7452 eloss:4.2451 aloss2:2.2311 exploreP:0.5502\n",
      "Episode:182 meanR:40.8300 R:23.0000 rate:0.0460 aloss:0.7120 eloss:4.2452 aloss2:2.2392 exploreP:0.5489\n",
      "Episode:183 meanR:40.8400 R:67.0000 rate:0.1340 aloss:0.7379 eloss:4.2406 aloss2:2.2315 exploreP:0.5453\n",
      "Episode:184 meanR:40.9100 R:37.0000 rate:0.0740 aloss:0.7719 eloss:4.2411 aloss2:2.2191 exploreP:0.5434\n",
      "Episode:185 meanR:41.0800 R:105.0000 rate:0.2100 aloss:0.7635 eloss:4.2419 aloss2:2.2284 exploreP:0.5378\n",
      "Episode:186 meanR:40.6500 R:14.0000 rate:0.0280 aloss:0.7622 eloss:4.2428 aloss2:2.2140 exploreP:0.5371\n",
      "Episode:187 meanR:40.6800 R:25.0000 rate:0.0500 aloss:0.7783 eloss:4.2347 aloss2:2.2434 exploreP:0.5357\n",
      "Episode:188 meanR:41.2900 R:80.0000 rate:0.1600 aloss:0.7629 eloss:4.2338 aloss2:2.2341 exploreP:0.5315\n",
      "Episode:189 meanR:41.5800 R:50.0000 rate:0.1000 aloss:0.7671 eloss:4.2329 aloss2:2.2440 exploreP:0.5289\n",
      "Episode:190 meanR:41.3800 R:25.0000 rate:0.0500 aloss:0.7452 eloss:4.2306 aloss2:2.2424 exploreP:0.5277\n",
      "Episode:191 meanR:41.7400 R:123.0000 rate:0.2460 aloss:0.7772 eloss:4.2391 aloss2:2.2338 exploreP:0.5213\n",
      "Episode:192 meanR:41.9000 R:52.0000 rate:0.1040 aloss:0.7625 eloss:4.2320 aloss2:2.2388 exploreP:0.5187\n",
      "Episode:193 meanR:41.5300 R:20.0000 rate:0.0400 aloss:0.7650 eloss:4.2294 aloss2:2.2319 exploreP:0.5177\n",
      "Episode:194 meanR:41.7500 R:41.0000 rate:0.0820 aloss:0.7350 eloss:4.2272 aloss2:2.2263 exploreP:0.5156\n",
      "Episode:195 meanR:41.8900 R:42.0000 rate:0.0840 aloss:0.7547 eloss:4.2320 aloss2:2.2225 exploreP:0.5135\n",
      "Episode:196 meanR:42.0400 R:58.0000 rate:0.1160 aloss:0.7458 eloss:4.2284 aloss2:2.2349 exploreP:0.5105\n",
      "Episode:197 meanR:42.0100 R:24.0000 rate:0.0480 aloss:0.7345 eloss:4.2328 aloss2:2.2120 exploreP:0.5093\n",
      "Episode:198 meanR:42.1200 R:46.0000 rate:0.0920 aloss:0.7062 eloss:4.2330 aloss2:2.2312 exploreP:0.5071\n",
      "Episode:199 meanR:42.2800 R:27.0000 rate:0.0540 aloss:0.7564 eloss:4.2234 aloss2:2.2404 exploreP:0.5057\n",
      "Episode:200 meanR:42.1000 R:26.0000 rate:0.0520 aloss:0.7447 eloss:4.2326 aloss2:2.2204 exploreP:0.5044\n",
      "Episode:201 meanR:42.8900 R:98.0000 rate:0.1960 aloss:0.7636 eloss:4.2269 aloss2:2.2428 exploreP:0.4996\n",
      "Episode:202 meanR:43.2700 R:74.0000 rate:0.1480 aloss:0.7415 eloss:4.2215 aloss2:2.2489 exploreP:0.4960\n",
      "Episode:203 meanR:42.7400 R:28.0000 rate:0.0560 aloss:0.7205 eloss:4.2300 aloss2:2.2267 exploreP:0.4946\n",
      "Episode:204 meanR:42.7300 R:25.0000 rate:0.0500 aloss:0.7724 eloss:4.2187 aloss2:2.2402 exploreP:0.4934\n",
      "Episode:205 meanR:43.4400 R:109.0000 rate:0.2180 aloss:0.7491 eloss:4.2233 aloss2:2.2409 exploreP:0.4882\n",
      "Episode:206 meanR:43.5800 R:48.0000 rate:0.0960 aloss:0.7545 eloss:4.2149 aloss2:2.2501 exploreP:0.4859\n",
      "Episode:207 meanR:43.6300 R:41.0000 rate:0.0820 aloss:0.7444 eloss:4.2166 aloss2:2.2511 exploreP:0.4840\n",
      "Episode:208 meanR:44.1300 R:99.0000 rate:0.1980 aloss:0.7945 eloss:4.2124 aloss2:2.2482 exploreP:0.4793\n",
      "Episode:209 meanR:44.8300 R:83.0000 rate:0.1660 aloss:0.7586 eloss:4.2167 aloss2:2.2430 exploreP:0.4754\n",
      "Episode:210 meanR:45.1100 R:81.0000 rate:0.1620 aloss:0.7832 eloss:4.2165 aloss2:2.2397 exploreP:0.4716\n",
      "Episode:211 meanR:45.3700 R:49.0000 rate:0.0980 aloss:0.7355 eloss:4.2132 aloss2:2.2547 exploreP:0.4694\n",
      "Episode:212 meanR:45.6900 R:104.0000 rate:0.2080 aloss:0.7665 eloss:4.2092 aloss2:2.2457 exploreP:0.4646\n",
      "Episode:213 meanR:46.0800 R:67.0000 rate:0.1340 aloss:0.7279 eloss:4.2227 aloss2:2.2251 exploreP:0.4616\n",
      "Episode:214 meanR:46.3900 R:73.0000 rate:0.1460 aloss:0.7281 eloss:4.2165 aloss2:2.2312 exploreP:0.4583\n",
      "Episode:215 meanR:46.3100 R:52.0000 rate:0.1040 aloss:0.7349 eloss:4.2098 aloss2:2.2396 exploreP:0.4560\n",
      "Episode:216 meanR:46.4800 R:45.0000 rate:0.0900 aloss:0.7327 eloss:4.2107 aloss2:2.2423 exploreP:0.4540\n",
      "Episode:217 meanR:46.7600 R:62.0000 rate:0.1240 aloss:0.7542 eloss:4.2036 aloss2:2.2473 exploreP:0.4512\n",
      "Episode:218 meanR:46.5900 R:71.0000 rate:0.1420 aloss:0.7480 eloss:4.2038 aloss2:2.2505 exploreP:0.4481\n",
      "Episode:219 meanR:47.0900 R:109.0000 rate:0.2180 aloss:0.7358 eloss:4.2245 aloss2:2.2166 exploreP:0.4434\n",
      "Episode:220 meanR:48.5800 R:188.0000 rate:0.3760 aloss:0.7417 eloss:4.2327 aloss2:2.1672 exploreP:0.4353\n",
      "Episode:221 meanR:50.2200 R:196.0000 rate:0.3920 aloss:0.7285 eloss:4.2385 aloss2:2.1532 exploreP:0.4270\n",
      "Episode:222 meanR:49.8700 R:30.0000 rate:0.0600 aloss:0.6931 eloss:4.2435 aloss2:2.1429 exploreP:0.4258\n",
      "Episode:223 meanR:51.6200 R:197.0000 rate:0.3940 aloss:0.6946 eloss:4.2343 aloss2:2.1400 exploreP:0.4177\n",
      "Episode:224 meanR:52.5200 R:127.0000 rate:0.2540 aloss:0.6935 eloss:4.2390 aloss2:2.1452 exploreP:0.4125\n",
      "Episode:225 meanR:52.8800 R:61.0000 rate:0.1220 aloss:0.7048 eloss:4.2377 aloss2:2.1806 exploreP:0.4101\n",
      "Episode:226 meanR:52.9100 R:44.0000 rate:0.0880 aloss:0.7274 eloss:4.2400 aloss2:2.1999 exploreP:0.4083\n",
      "Episode:227 meanR:52.6500 R:18.0000 rate:0.0360 aloss:0.7067 eloss:4.2361 aloss2:2.1889 exploreP:0.4076\n",
      "Episode:228 meanR:52.4300 R:14.0000 rate:0.0280 aloss:0.7074 eloss:4.2337 aloss2:2.1847 exploreP:0.4071\n",
      "Episode:229 meanR:52.2000 R:10.0000 rate:0.0200 aloss:0.7190 eloss:4.2288 aloss2:2.1923 exploreP:0.4067\n",
      "Episode:230 meanR:52.0600 R:17.0000 rate:0.0340 aloss:0.7038 eloss:4.2349 aloss2:2.1883 exploreP:0.4060\n",
      "Episode:231 meanR:51.9000 R:11.0000 rate:0.0220 aloss:0.7132 eloss:4.2289 aloss2:2.1899 exploreP:0.4056\n",
      "Episode:232 meanR:51.5400 R:16.0000 rate:0.0320 aloss:0.7070 eloss:4.2341 aloss2:2.1858 exploreP:0.4049\n",
      "Episode:233 meanR:51.4400 R:15.0000 rate:0.0300 aloss:0.7055 eloss:4.2368 aloss2:2.1755 exploreP:0.4043\n",
      "Episode:234 meanR:51.4200 R:11.0000 rate:0.0220 aloss:0.7128 eloss:4.2358 aloss2:2.1905 exploreP:0.4039\n",
      "Episode:235 meanR:51.4500 R:13.0000 rate:0.0260 aloss:0.7073 eloss:4.2470 aloss2:2.1736 exploreP:0.4034\n",
      "Episode:236 meanR:51.0900 R:13.0000 rate:0.0260 aloss:0.7025 eloss:4.2318 aloss2:2.1946 exploreP:0.4029\n",
      "Episode:237 meanR:50.7900 R:12.0000 rate:0.0240 aloss:0.7085 eloss:4.2310 aloss2:2.1865 exploreP:0.4024\n"
     ]
    },
    {
     "name": "stdout",
     "output_type": "stream",
     "text": [
      "Episode:238 meanR:50.5500 R:11.0000 rate:0.0220 aloss:0.7326 eloss:4.2374 aloss2:2.1823 exploreP:0.4020\n",
      "Episode:239 meanR:49.6300 R:12.0000 rate:0.0240 aloss:0.7166 eloss:4.2769 aloss2:2.1790 exploreP:0.4015\n",
      "Episode:240 meanR:49.2300 R:14.0000 rate:0.0280 aloss:0.7299 eloss:4.2333 aloss2:2.1780 exploreP:0.4010\n",
      "Episode:241 meanR:48.8600 R:10.0000 rate:0.0200 aloss:0.7107 eloss:4.2461 aloss2:2.1657 exploreP:0.4006\n",
      "Episode:242 meanR:48.3300 R:14.0000 rate:0.0280 aloss:0.7210 eloss:4.2372 aloss2:2.1798 exploreP:0.4000\n",
      "Episode:243 meanR:47.5500 R:12.0000 rate:0.0240 aloss:0.7175 eloss:4.2436 aloss2:2.1682 exploreP:0.3996\n",
      "Episode:244 meanR:47.3200 R:12.0000 rate:0.0240 aloss:0.7425 eloss:4.2364 aloss2:2.1928 exploreP:0.3991\n",
      "Episode:245 meanR:47.2600 R:11.0000 rate:0.0220 aloss:0.7396 eloss:4.2517 aloss2:2.1558 exploreP:0.3987\n",
      "Episode:246 meanR:46.8600 R:10.0000 rate:0.0200 aloss:0.7314 eloss:4.2330 aloss2:2.1900 exploreP:0.3983\n",
      "Episode:247 meanR:46.5900 R:10.0000 rate:0.0200 aloss:0.7408 eloss:4.2365 aloss2:2.1874 exploreP:0.3979\n",
      "Episode:248 meanR:46.2500 R:10.0000 rate:0.0200 aloss:0.7221 eloss:4.2363 aloss2:2.1901 exploreP:0.3975\n",
      "Episode:249 meanR:46.0100 R:13.0000 rate:0.0260 aloss:0.7261 eloss:4.2390 aloss2:2.1911 exploreP:0.3970\n",
      "Episode:250 meanR:46.0000 R:17.0000 rate:0.0340 aloss:0.7194 eloss:4.2487 aloss2:2.1736 exploreP:0.3963\n",
      "Episode:251 meanR:45.7300 R:10.0000 rate:0.0200 aloss:0.7273 eloss:4.2532 aloss2:2.1744 exploreP:0.3959\n",
      "Episode:252 meanR:45.5300 R:11.0000 rate:0.0220 aloss:0.7219 eloss:4.2366 aloss2:2.1823 exploreP:0.3955\n",
      "Episode:253 meanR:45.2600 R:14.0000 rate:0.0280 aloss:0.7066 eloss:4.2497 aloss2:2.1572 exploreP:0.3950\n",
      "Episode:254 meanR:44.7800 R:10.0000 rate:0.0200 aloss:0.7240 eloss:4.2568 aloss2:2.1510 exploreP:0.3946\n",
      "Episode:255 meanR:44.5200 R:10.0000 rate:0.0200 aloss:0.7270 eloss:4.2627 aloss2:2.1482 exploreP:0.3942\n",
      "Episode:256 meanR:44.2000 R:11.0000 rate:0.0220 aloss:0.7157 eloss:4.2464 aloss2:2.1742 exploreP:0.3938\n",
      "Episode:257 meanR:43.7100 R:11.0000 rate:0.0220 aloss:0.7386 eloss:4.2681 aloss2:2.1701 exploreP:0.3934\n",
      "Episode:258 meanR:43.5200 R:14.0000 rate:0.0280 aloss:0.7027 eloss:4.2566 aloss2:2.1724 exploreP:0.3928\n",
      "Episode:259 meanR:43.6500 R:25.0000 rate:0.0500 aloss:0.7061 eloss:4.2586 aloss2:2.1533 exploreP:0.3919\n",
      "Episode:260 meanR:43.5300 R:24.0000 rate:0.0480 aloss:0.7161 eloss:4.2531 aloss2:2.1641 exploreP:0.3910\n",
      "Episode:261 meanR:43.5000 R:12.0000 rate:0.0240 aloss:0.7152 eloss:4.2505 aloss2:2.1774 exploreP:0.3905\n",
      "Episode:262 meanR:43.1700 R:11.0000 rate:0.0220 aloss:0.7145 eloss:4.2682 aloss2:2.1579 exploreP:0.3901\n",
      "Episode:263 meanR:42.8700 R:10.0000 rate:0.0200 aloss:0.7201 eloss:4.2572 aloss2:2.1755 exploreP:0.3897\n",
      "Episode:264 meanR:42.5900 R:11.0000 rate:0.0220 aloss:0.7128 eloss:4.2568 aloss2:2.1620 exploreP:0.3893\n",
      "Episode:265 meanR:42.5200 R:11.0000 rate:0.0220 aloss:0.7083 eloss:4.2505 aloss2:2.1535 exploreP:0.3889\n",
      "Episode:266 meanR:42.2000 R:13.0000 rate:0.0260 aloss:0.7053 eloss:4.2508 aloss2:2.1633 exploreP:0.3884\n",
      "Episode:267 meanR:41.9600 R:11.0000 rate:0.0220 aloss:0.7078 eloss:4.2582 aloss2:2.1361 exploreP:0.3880\n",
      "Episode:268 meanR:41.6700 R:16.0000 rate:0.0320 aloss:0.7282 eloss:4.2621 aloss2:2.1433 exploreP:0.3874\n",
      "Episode:269 meanR:41.6600 R:13.0000 rate:0.0260 aloss:0.7173 eloss:4.2588 aloss2:2.1620 exploreP:0.3869\n",
      "Episode:270 meanR:41.5200 R:10.0000 rate:0.0200 aloss:0.7196 eloss:4.2515 aloss2:2.1697 exploreP:0.3865\n",
      "Episode:271 meanR:40.9500 R:9.0000 rate:0.0180 aloss:0.7207 eloss:4.2630 aloss2:2.1335 exploreP:0.3862\n",
      "Episode:272 meanR:40.4500 R:9.0000 rate:0.0180 aloss:0.7230 eloss:4.2513 aloss2:2.1598 exploreP:0.3858\n",
      "Episode:273 meanR:40.3500 R:15.0000 rate:0.0300 aloss:0.7202 eloss:4.2585 aloss2:2.1500 exploreP:0.3853\n",
      "Episode:274 meanR:40.2500 R:10.0000 rate:0.0200 aloss:0.7083 eloss:4.2501 aloss2:2.1680 exploreP:0.3849\n",
      "Episode:275 meanR:39.6600 R:10.0000 rate:0.0200 aloss:0.7146 eloss:4.3067 aloss2:2.1678 exploreP:0.3845\n",
      "Episode:276 meanR:39.3700 R:11.0000 rate:0.0220 aloss:0.7015 eloss:4.2583 aloss2:2.1317 exploreP:0.3841\n",
      "Episode:277 meanR:39.1700 R:15.0000 rate:0.0300 aloss:0.6973 eloss:4.2488 aloss2:2.1567 exploreP:0.3835\n",
      "Episode:278 meanR:38.7700 R:16.0000 rate:0.0320 aloss:0.7128 eloss:4.2624 aloss2:2.1669 exploreP:0.3829\n",
      "Episode:279 meanR:37.8700 R:8.0000 rate:0.0160 aloss:0.7016 eloss:4.2485 aloss2:2.1299 exploreP:0.3826\n",
      "Episode:280 meanR:37.8100 R:9.0000 rate:0.0180 aloss:0.7266 eloss:4.2434 aloss2:2.1459 exploreP:0.3823\n",
      "Episode:281 meanR:37.3400 R:12.0000 rate:0.0240 aloss:0.7282 eloss:4.2465 aloss2:2.1348 exploreP:0.3819\n",
      "Episode:282 meanR:37.2200 R:11.0000 rate:0.0220 aloss:0.7179 eloss:4.2536 aloss2:2.1363 exploreP:0.3814\n",
      "Episode:283 meanR:36.7300 R:18.0000 rate:0.0360 aloss:0.7345 eloss:4.2430 aloss2:2.1366 exploreP:0.3808\n",
      "Episode:284 meanR:36.4600 R:10.0000 rate:0.0200 aloss:0.7151 eloss:4.2455 aloss2:2.1405 exploreP:0.3804\n",
      "Episode:285 meanR:35.5200 R:11.0000 rate:0.0220 aloss:0.7232 eloss:4.2528 aloss2:2.1417 exploreP:0.3800\n",
      "Episode:286 meanR:35.5000 R:12.0000 rate:0.0240 aloss:0.7242 eloss:4.2521 aloss2:2.1263 exploreP:0.3796\n",
      "Episode:287 meanR:35.3600 R:11.0000 rate:0.0220 aloss:0.7202 eloss:4.2393 aloss2:2.1626 exploreP:0.3792\n",
      "Episode:288 meanR:34.6600 R:10.0000 rate:0.0200 aloss:0.7179 eloss:4.2555 aloss2:2.1330 exploreP:0.3788\n",
      "Episode:289 meanR:34.3000 R:14.0000 rate:0.0280 aloss:0.7247 eloss:4.2469 aloss2:2.1430 exploreP:0.3783\n",
      "Episode:290 meanR:34.1400 R:9.0000 rate:0.0180 aloss:0.7284 eloss:4.2352 aloss2:2.1699 exploreP:0.3779\n",
      "Episode:291 meanR:33.0000 R:9.0000 rate:0.0180 aloss:0.7120 eloss:4.2360 aloss2:2.1736 exploreP:0.3776\n",
      "Episode:292 meanR:32.6700 R:19.0000 rate:0.0380 aloss:0.7237 eloss:4.2374 aloss2:2.1523 exploreP:0.3769\n",
      "Episode:293 meanR:32.5700 R:10.0000 rate:0.0200 aloss:0.7293 eloss:4.2485 aloss2:2.1463 exploreP:0.3765\n",
      "Episode:294 meanR:32.3500 R:19.0000 rate:0.0380 aloss:0.7242 eloss:4.2411 aloss2:2.1496 exploreP:0.3758\n",
      "Episode:295 meanR:32.0300 R:10.0000 rate:0.0200 aloss:0.7141 eloss:4.2392 aloss2:2.1466 exploreP:0.3755\n",
      "Episode:296 meanR:31.5800 R:13.0000 rate:0.0260 aloss:0.7257 eloss:4.2380 aloss2:2.1521 exploreP:0.3750\n",
      "Episode:297 meanR:31.4800 R:14.0000 rate:0.0280 aloss:0.7110 eloss:4.2481 aloss2:2.1345 exploreP:0.3745\n",
      "Episode:298 meanR:31.1000 R:8.0000 rate:0.0160 aloss:0.7272 eloss:4.2395 aloss2:2.1486 exploreP:0.3742\n",
      "Episode:299 meanR:31.0400 R:21.0000 rate:0.0420 aloss:0.7269 eloss:4.2428 aloss2:2.1281 exploreP:0.3734\n",
      "Episode:300 meanR:30.8700 R:9.0000 rate:0.0180 aloss:0.7174 eloss:4.2419 aloss2:2.1488 exploreP:0.3731\n",
      "Episode:301 meanR:29.9800 R:9.0000 rate:0.0180 aloss:0.7288 eloss:4.2526 aloss2:2.1201 exploreP:0.3728\n",
      "Episode:302 meanR:29.3400 R:10.0000 rate:0.0200 aloss:0.7158 eloss:4.2410 aloss2:2.1418 exploreP:0.3724\n",
      "Episode:303 meanR:29.1600 R:10.0000 rate:0.0200 aloss:0.7576 eloss:4.2590 aloss2:2.1371 exploreP:0.3721\n",
      "Episode:304 meanR:29.0300 R:12.0000 rate:0.0240 aloss:0.7243 eloss:4.2456 aloss2:2.1319 exploreP:0.3716\n",
      "Episode:305 meanR:28.0500 R:11.0000 rate:0.0220 aloss:0.7194 eloss:4.2424 aloss2:2.1324 exploreP:0.3712\n"
     ]
    }
   ],
   "source": [
    "# Save/load the model and save for plotting\n",
    "saver = tf.train.Saver()\n",
    "episode_rewards_list, rewards_list = [], []\n",
    "aloss_list, eloss_list, aloss2_list = [], [], []\n",
    "\n",
    "# TF session for training\n",
    "with tf.Session(graph=graph) as sess:\n",
    "    sess.run(tf.global_variables_initializer())\n",
    "    #saver.restore(sess, 'checkpoints/model.ckpt')    \n",
    "    #saver.restore(sess, tf.train.latest_checkpoint('checkpoints'))\n",
    "    total_step = 0 # Explore or exploit parameter\n",
    "    episode_reward = deque(maxlen=100) # 100 episodes for running average/running mean/window\n",
    "\n",
    "    # Training episodes/epochs\n",
    "    for ep in range(11111):\n",
    "        aloss_batch, eloss_batch, aloss2_batch = [], [], []\n",
    "        total_reward = 0\n",
    "        state = env.reset()\n",
    "        num_step = 0\n",
    "        rate = -1\n",
    "\n",
    "        # Training steps/batches\n",
    "        while True:\n",
    "            # Explore (env) or Exploit (model)\n",
    "            total_step += 1\n",
    "            explore_p = explore_stop + (explore_start - explore_stop) * np.exp(-decay_rate * total_step) \n",
    "            if explore_p > np.random.rand():\n",
    "                action = env.action_space.sample()\n",
    "            else:\n",
    "                action_logits = sess.run(model.actions_logits, feed_dict={model.states: state.reshape([1, -1])})\n",
    "                action = np.argmax(action_logits)\n",
    "            next_state, reward, done, _ = env.step(action)\n",
    "            memory.buffer.append([state, action, next_state, reward, float(done), rate])\n",
    "            num_step += 1 # momory added\n",
    "            total_reward += reward\n",
    "            state = next_state\n",
    "            \n",
    "            # Training with the maxrated minibatch\n",
    "            batch = memory.buffer\n",
    "            #for idx in range(memory_size// batch_size):\n",
    "            while True:\n",
    "                idx = np.random.choice(np.arange(memory_size// batch_size))\n",
    "                states = np.array([each[0] for each in batch])[idx*batch_size:(idx+1)*batch_size]\n",
    "                actions = np.array([each[1] for each in batch])[idx*batch_size:(idx+1)*batch_size]\n",
    "                next_states = np.array([each[2] for each in batch])[idx*batch_size:(idx+1)*batch_size]\n",
    "                rewards = np.array([each[3] for each in batch])[idx*batch_size:(idx+1)*batch_size]\n",
    "                dones = np.array([each[4] for each in batch])[idx*batch_size:(idx+1)*batch_size]\n",
    "                rates = np.array([each[5] for each in batch])[idx*batch_size:(idx+1)*batch_size]\n",
    "                states = states[rates >= np.max(rates)]\n",
    "                actions = actions[rates >= np.max(rates)]\n",
    "                next_states = next_states[rates >= np.max(rates)]\n",
    "                rewards = rewards[rates >= np.max(rates)]\n",
    "                dones = dones[rates >= np.max(rates)]\n",
    "                rates = rates[rates >= np.max(rates)]\n",
    "                if np.count_nonzero(dones) > 0 and len(dones) > 1 and np.max(rates) > 0:\n",
    "                    break\n",
    "            aloss, _ = sess.run([model.a_loss, model.a_opt],\n",
    "                                  feed_dict = {model.states: states, \n",
    "                                               model.actions: actions,\n",
    "                                               model.next_states: next_states,\n",
    "                                               model.rewards: rewards,\n",
    "                                               model.dones: dones,\n",
    "                                               model.rates: rates})\n",
    "            eloss, _ = sess.run([model.e_loss, model.e_opt],\n",
    "                                  feed_dict = {model.states: states, \n",
    "                                               model.actions: actions,\n",
    "                                               model.next_states: next_states,\n",
    "                                               model.rewards: rewards,\n",
    "                                               model.dones: dones,\n",
    "                                               model.rates: rates})\n",
    "            aloss2, _= sess.run([model.a_loss2, model.a_opt2], \n",
    "                                 feed_dict = {model.states: states, \n",
    "                                              model.actions: actions,\n",
    "                                              model.next_states: next_states,\n",
    "                                              model.rewards: rewards,\n",
    "                                              model.dones: dones,\n",
    "                                              model.rates: rates})\n",
    "            # print(len(dones), np.count_nonzero(dones), np.max(rates))\n",
    "            aloss_batch.append(aloss)\n",
    "            eloss_batch.append(eloss)\n",
    "            aloss2_batch.append(aloss2)\n",
    "            if done is True:\n",
    "                break\n",
    "                \n",
    "        # Rating the latest played episode\n",
    "        rate = total_reward/500 # update rate at the end/ when episode is done\n",
    "        for idx in range(num_step): # episode length\n",
    "            if memory.buffer[-1-idx][-1] == -1: # double-check the landmark/marked indexes\n",
    "                memory.buffer[-1-idx][-1] = rate # rate the trajectory/data\n",
    "\n",
    "        # Print out\n",
    "        episode_reward.append(total_reward)\n",
    "        print('Episode:{}'.format(ep),\n",
    "              'meanR:{:.4f}'.format(np.mean(episode_reward)),\n",
    "              'R:{:.4f}'.format(total_reward),\n",
    "              'rate:{:.4f}'.format(rate),\n",
    "              'aloss:{:.4f}'.format(np.mean(aloss_batch)),\n",
    "              'eloss:{:.4f}'.format(np.mean(eloss_batch)),\n",
    "              'aloss2:{:.4f}'.format(np.mean(aloss2_batch)),\n",
    "              'exploreP:{:.4f}'.format(explore_p))\n",
    "\n",
    "        # Ploting out\n",
    "        episode_rewards_list.append([ep, np.mean(episode_reward)])\n",
    "        rewards_list.append([ep, total_reward])\n",
    "        aloss_list.append([ep, np.mean(aloss_batch)])\n",
    "        eloss_list.append([ep, np.mean(eloss_batch)])\n",
    "        aloss2_list.append([ep, np.mean(aloss2_batch)])\n",
    "        \n",
    "        # Break episode/epoch loop\n",
    "        ## Option 1: Solve the First Version\n",
    "        #The task is episodic, and in order to solve the environment, \n",
    "        #your agent must get an average score of +30 over 100 consecutive episodes.\n",
    "        if np.mean(episode_reward) >= 500:\n",
    "            break\n",
    "            \n",
    "    # At the end of all training episodes/epochs\n",
    "    saver.save(sess, 'checkpoints/model.ckpt')"
   ]
  },
  {
   "cell_type": "markdown",
   "metadata": {},
   "source": [
    "# Visualizing training\n",
    "\n",
    "Below I'll plot the total rewards for each episode. I'm plotting the rolling average too, in blue."
   ]
  },
  {
   "cell_type": "code",
   "execution_count": null,
   "metadata": {},
   "outputs": [],
   "source": [
    "import matplotlib.pyplot as plt\n",
    "%matplotlib inline\n",
    "\n",
    "def running_mean(x, N):\n",
    "    cumsum = np.cumsum(np.insert(x, 0, 0)) \n",
    "    return (cumsum[N:] - cumsum[:-N]) / N "
   ]
  },
  {
   "cell_type": "code",
   "execution_count": null,
   "metadata": {},
   "outputs": [],
   "source": [
    "eps, arr = np.array(episode_rewards_list).T\n",
    "smoothed_arr = running_mean(arr, 10)\n",
    "plt.plot(eps[-len(smoothed_arr):], smoothed_arr)\n",
    "plt.plot(eps, arr, color='grey', alpha=0.3)\n",
    "plt.xlabel('Episode')\n",
    "plt.ylabel('Total rewards')"
   ]
  },
  {
   "cell_type": "code",
   "execution_count": 16,
   "metadata": {},
   "outputs": [
    {
     "data": {
      "text/plain": [
       "Text(0, 0.5, 'Total rewards')"
      ]
     },
     "execution_count": 16,
     "metadata": {},
     "output_type": "execute_result"
    },
    {
     "data": {
      "image/png": "[encoded data removed]",
      "text/plain": [
       "<Figure size 432x288 with 1 Axes>"
      ]
     },
     "metadata": {
      "needs_background": "light"
     },
     "output_type": "display_data"
    }
   ],
   "source": [
    "eps, arr = np.array(episode_rewards_list).T\n",
    "smoothed_arr = running_mean(arr, 10)\n",
    "plt.plot(eps[-len(smoothed_arr):], smoothed_arr)\n",
    "plt.plot(eps, arr, color='grey', alpha=0.3)\n",
    "plt.xlabel('Episode')\n",
    "plt.ylabel('Total rewards')"
   ]
  },
  {
   "cell_type": "code",
   "execution_count": 17,
   "metadata": {},
   "outputs": [
    {
     "data": {
      "text/plain": [
       "Text(0, 0.5, 'Total rewards')"
      ]
     },
     "execution_count": 17,
     "metadata": {},
     "output_type": "execute_result"
    },
    {
     "data": {
      "image/png": "[encoded data removed]",
      "text/plain": [
       "<Figure size 432x288 with 1 Axes>"
      ]
     },
     "metadata": {
      "needs_background": "light"
     },
     "output_type": "display_data"
    }
   ],
   "source": [
    "eps, arr = np.array(rewards_list).T\n",
    "smoothed_arr = running_mean(arr, 10)\n",
    "plt.plot(eps[-len(smoothed_arr):], smoothed_arr)\n",
    "plt.plot(eps, arr, color='grey', alpha=0.3)\n",
    "plt.xlabel('Episode')\n",
    "plt.ylabel('Total rewards')"
   ]
  },
  {
   "cell_type": "code",
   "execution_count": 18,
   "metadata": {},
   "outputs": [
    {
     "data": {
      "text/plain": [
       "Text(0, 0.5, 'Act losses')"
      ]
     },
     "execution_count": 18,
     "metadata": {},
     "output_type": "execute_result"
    },
    {
     "data": {
      "image/png": "[encoded data removed]",
      "text/plain": [
       "<Figure size 432x288 with 1 Axes>"
      ]
     },
     "metadata": {
      "needs_background": "light"
     },
     "output_type": "display_data"
    }
   ],
   "source": [
    "eps, arr = np.array(aloss_list).T\n",
    "smoothed_arr = running_mean(arr, 10)\n",
    "plt.plot(eps[-len(smoothed_arr):], smoothed_arr)\n",
    "plt.plot(eps, arr, color='grey', alpha=0.3)\n",
    "plt.xlabel('Episode')\n",
    "plt.ylabel('Act losses')"
   ]
  },
  {
   "cell_type": "code",
   "execution_count": 19,
   "metadata": {},
   "outputs": [
    {
     "data": {
      "text/plain": [
       "Text(0, 0.5, 'Env losses')"
      ]
     },
     "execution_count": 19,
     "metadata": {},
     "output_type": "execute_result"
    },
    {
     "data": {
      "image/png": "[encoded data removed]",
      "text/plain": [
       "<Figure size 432x288 with 1 Axes>"
      ]
     },
     "metadata": {
      "needs_background": "light"
     },
     "output_type": "display_data"
    }
   ],
   "source": [
    "eps, arr = np.array(eloss_list).T\n",
    "smoothed_arr = running_mean(arr, 10)\n",
    "plt.plot(eps[-len(smoothed_arr):], smoothed_arr)\n",
    "plt.plot(eps, arr, color='grey', alpha=0.3)\n",
    "plt.xlabel('Episode')\n",
    "plt.ylabel('Env losses')"
   ]
  },
  {
   "cell_type": "code",
   "execution_count": 20,
   "metadata": {},
   "outputs": [
    {
     "data": {
      "text/plain": [
       "Text(0, 0.5, 'Act losses 2')"
      ]
     },
     "execution_count": 20,
     "metadata": {},
     "output_type": "execute_result"
    },
    {
     "data": {
      "image/png": "[encoded data removed]",
      "text/plain": [
       "<Figure size 432x288 with 1 Axes>"
      ]
     },
     "metadata": {
      "needs_background": "light"
     },
     "output_type": "display_data"
    }
   ],
   "source": [
    "eps, arr = np.array(aloss2_list).T\n",
    "smoothed_arr = running_mean(arr, 10)\n",
    "plt.plot(eps[-len(smoothed_arr):], smoothed_arr)\n",
    "plt.plot(eps, arr, color='grey', alpha=0.3)\n",
    "plt.xlabel('Episode')\n",
    "plt.ylabel('Act losses 2')"
   ]
  },
  {
   "cell_type": "markdown",
   "metadata": {},
   "source": [
    "## Testing\n",
    "\n",
    "Let's checkout how our trained agent plays the game."
   ]
  },
  {
   "cell_type": "code",
   "execution_count": 24,
   "metadata": {},
   "outputs": [
    {
     "name": "stdout",
     "output_type": "stream",
     "text": [
      "INFO:tensorflow:Restoring parameters from checkpoints/model.ckpt\n",
      "total_reward: 500.0\n",
      "total_reward: 500.0\n",
      "total_reward: 500.0\n",
      "total_reward: 500.0\n",
      "total_reward: 500.0\n",
      "total_reward: 500.0\n",
      "total_reward: 500.0\n",
      "total_reward: 500.0\n",
      "total_reward: 500.0\n",
      "total_reward: 500.0\n"
     ]
    }
   ],
   "source": [
    "import gym\n",
    "env = gym.make('CartPole-v0')\n",
    "env = gym.make('CartPole-v1')\n",
    "\n",
    "with tf.Session() as sess:\n",
    "    sess.run(tf.global_variables_initializer())\n",
    "    saver.restore(sess, 'checkpoints/model.ckpt')    \n",
    "    #saver.restore(sess, tf.train.latest_checkpoint('checkpoints'))\n",
    "    \n",
    "    # Episodes/epochs\n",
    "    for _ in range(10):\n",
    "        state = env.reset()\n",
    "        total_reward = 0\n",
    "\n",
    "        # Steps/batches\n",
    "        while True:\n",
    "            env.render()\n",
    "            action_logits = sess.run(model.actions_logits, feed_dict={model.states: state.reshape([1, -1])})\n",
    "            action = np.argmax(action_logits)\n",
    "            state, reward, done, _ = env.step(action)\n",
    "            total_reward += reward\n",
    "            if done:\n",
    "                print('total_reward: {}'.format(total_reward))\n",
    "                break\n",
    "                \n",
    "env.close()"
   ]
  },
  {
   "cell_type": "code",
   "execution_count": null,
   "metadata": {},
   "outputs": [],
   "source": []
  }
 ],
 "metadata": {
  "kernelspec": {
   "display_name": "Python 3",
   "language": "python",
   "name": "python3"
  },
  "language_info": {
   "codemirror_mode": {
    "name": "ipython",
    "version": 3
   },
   "file_extension": ".py",
   "mimetype": "text/x-python",
   "name": "python",
   "nbconvert_exporter": "python",
   "pygments_lexer": "ipython3",
   "version": "3.6.6"
  }
 },
 "nbformat": 4,
 "nbformat_minor": 2
}
