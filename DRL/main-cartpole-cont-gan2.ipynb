{
 "cells": [
  {
   "cell_type": "markdown",
   "metadata": {},
   "source": [
    "# DPG for Cartpole\n",
    "\n",
    "\n",
    "In this notebook, we'll build a neural network that can learn to play games through reinforcement learning. More specifically, we'll use Q-learning to train an agent to play a game called [Cart-Pole](https://gym.openai.com/envs/CartPole-v0). In this game, a freely swinging pole is attached to a cart. The cart can move to the left and right, and the goal is to keep the pole upright as long as possible.\n",
    "\n",
    "![Cart-Pole](assets/cart-pole.jpg)\n",
    "\n",
    "We can simulate this game using [OpenAI Gym](https://gym.openai.com/). First, let's check out how OpenAI Gym works. Then, we'll get into training an agent to play the Cart-Pole game."
   ]
  },
  {
   "cell_type": "code",
   "execution_count": 1,
   "metadata": {},
   "outputs": [
    {
     "name": "stdout",
     "output_type": "stream",
     "text": [
      "TensorFlow Version: 1.11.0\n",
      "Default GPU Device: /device:GPU:0\n"
     ]
    }
   ],
   "source": [
    "# In this one we should define and detect GPUs for tensorflow\n",
    "# GPUs or CPU\n",
    "import tensorflow as tf\n",
    "\n",
    "# Check TensorFlow Version\n",
    "print('TensorFlow Version: {}'.format(tf.__version__))\n",
    "\n",
    "# Check for a GPU\n",
    "print('Default GPU Device: {}'.format(tf.test.gpu_device_name()))"
   ]
  },
  {
   "cell_type": "markdown",
   "metadata": {},
   "source": [
    ">**Note:** Make sure you have OpenAI Gym cloned into the same directory with this notebook. I've included `gym` as a submodule, so you can run `git submodule --init --recursive` to pull the contents into the `gym` repo."
   ]
  },
  {
   "cell_type": "markdown",
   "metadata": {},
   "source": [
    "##### >**Note:** Make sure you have OpenAI Gym cloned. Then run this command `pip install -e gym/[all]`."
   ]
  },
  {
   "cell_type": "code",
   "execution_count": 2,
   "metadata": {},
   "outputs": [],
   "source": [
    "import gym\n",
    "env = gym.make('CartPole-v0')\n",
    "env = gym.make('CartPole-v1')"
   ]
  },
  {
   "cell_type": "markdown",
   "metadata": {},
   "source": [
    "We interact with the simulation through `env`. To show the simulation running, you can use `env.render()` to render one frame. Passing in an action as an integer to `env.step` will generate the next step in the simulation.  You can see how many actions are possible from `env.action_space` and to get a random action you can use `env.action_space.sample()`. This is general to all Gym games. In the Cart-Pole game, there are two possible actions, moving the cart left or right. So there are two actions we can take, encoded as 0 and 1.\n",
    "\n",
    "Run the code below to watch the simulation run."
   ]
  },
  {
   "cell_type": "code",
   "execution_count": 3,
   "metadata": {},
   "outputs": [],
   "source": [
    "env.reset()\n",
    "batch = []\n",
    "for _ in range(1111):\n",
    "    #env.render()\n",
    "    action = env.action_space.sample()\n",
    "    state, reward, done, info = env.step(action) # take a random action\n",
    "    batch.append([action, state, reward, done, info])\n",
    "    #print('state, action, reward, done, info:', state, action, reward, done, info)\n",
    "    if done:\n",
    "        env.reset()"
   ]
  },
  {
   "cell_type": "markdown",
   "metadata": {},
   "source": [
    "To shut the window showing the simulation, use `env.close()`."
   ]
  },
  {
   "cell_type": "code",
   "execution_count": 4,
   "metadata": {},
   "outputs": [],
   "source": [
    "# env.close()"
   ]
  },
  {
   "cell_type": "markdown",
   "metadata": {},
   "source": [
    "If you ran the simulation above, we can look at the rewards:"
   ]
  },
  {
   "cell_type": "code",
   "execution_count": 5,
   "metadata": {},
   "outputs": [],
   "source": [
    "import numpy as np\n",
    "actions = np.array([each[0] for each in batch])\n",
    "states = np.array([each[1] for each in batch])\n",
    "rewards = np.array([each[2] for each in batch])\n",
    "dones = np.array([each[3] for each in batch])\n",
    "infos = np.array([each[4] for each in batch])"
   ]
  },
  {
   "cell_type": "code",
   "execution_count": 6,
   "metadata": {},
   "outputs": [
    {
     "name": "stdout",
     "output_type": "stream",
     "text": [
      "shapes: (1111,) (1111, 4) (1111,) (1111,)\n",
      "dtypes: float64 float64 int64 bool\n",
      "states: 2.486000026364974 -2.9400261151707268\n",
      "actions: 1 0\n",
      "rewards: 1.0 1.0\n"
     ]
    }
   ],
   "source": [
    "# print(rewards[-20:])\n",
    "print('shapes:', np.array(rewards).shape, np.array(states).shape, np.array(actions).shape, np.array(dones).shape)\n",
    "print('dtypes:', np.array(rewards).dtype, np.array(states).dtype, np.array(actions).dtype, np.array(dones).dtype)\n",
    "print('states:', np.max(np.array(states)), np.min(np.array(states)))\n",
    "print('actions:', np.max(np.array(actions)), np.min(np.array(actions)))\n",
    "# print((np.max(np.array(actions)) - np.min(np.array(actions)))+1)\n",
    "print('rewards:', np.max(np.array(rewards)), np.min(np.array(rewards)))"
   ]
  },
  {
   "cell_type": "code",
   "execution_count": 7,
   "metadata": {},
   "outputs": [
    {
     "data": {
      "text/plain": [
       "array([0, 1, 1, 0, 1, 1, 1, 1, 1, 1])"
      ]
     },
     "execution_count": 7,
     "metadata": {},
     "output_type": "execute_result"
    }
   ],
   "source": [
    "actions[:10]"
   ]
  },
  {
   "cell_type": "code",
   "execution_count": 8,
   "metadata": {},
   "outputs": [
    {
     "data": {
      "text/plain": [
       "array([1., 1., 1., 1., 1., 1., 1., 1., 1., 1.])"
      ]
     },
     "execution_count": 8,
     "metadata": {},
     "output_type": "execute_result"
    }
   ],
   "source": [
    "rewards[:10]"
   ]
  },
  {
   "cell_type": "code",
   "execution_count": 9,
   "metadata": {},
   "outputs": [
    {
     "name": "stdout",
     "output_type": "stream",
     "text": [
      "rewards: 0.01 0.01\n"
     ]
    }
   ],
   "source": [
    "print('rewards:', np.max(np.array(rewards))/100, np.min(np.array(rewards))/100)"
   ]
  },
  {
   "cell_type": "markdown",
   "metadata": {},
   "source": [
    "The game resets after the pole has fallen past a certain angle. For each frame while the simulation is running, it returns a reward of 1.0. The longer the game runs, the more reward we get. Then, our network's goal is to maximize the reward by keeping the pole vertical. It will do this by moving the cart to the left and the right."
   ]
  },
  {
   "cell_type": "markdown",
   "metadata": {},
   "source": [
    "## Q-Network\n",
    "\n",
    "We train our Q-learning agent using the Bellman Equation:\n",
    "\n",
    "$$\n",
    "Q(s, a) = r + \\gamma \\max{Q(s', a')}\n",
    "$$\n",
    "\n",
    "where $s$ is a state, $a$ is an action, and $s'$ is the next state from state $s$ and action $a$.\n",
    "\n",
    "Before we used this equation to learn values for a Q-_table_. However, for this game there are a huge number of states available. The state has four values: the position and velocity of the cart, and the position and velocity of the pole. These are all real-valued numbers, so ignoring floating point precisions, you practically have infinite states. Instead of using a table then, we'll replace it with a neural network that will approximate the Q-table lookup function.\n",
    "\n",
    "<img src=\"assets/deep-q-learning.png\" width=450px>\n",
    "\n",
    "Now, our Q value, $Q(s, a)$ is calculated by passing in a state to the network. The output will be Q-values for each available action, with fully connected hidden layers.\n",
    "\n",
    "<img src=\"assets/q-network.png\" width=550px>\n",
    "\n",
    "\n",
    "As I showed before, we can define our targets for training as $\\hat{Q}(s,a) = r + \\gamma \\max{Q(s', a')}$. Then we update the weights by minimizing $(\\hat{Q}(s,a) - Q(s,a))^2$. \n",
    "\n",
    "For this Cart-Pole game, we have four inputs, one for each value in the state, and two outputs, one for each action. To get $\\hat{Q}$, we'll first choose an action, then simulate the game using that action. This will get us the next state, $s'$, and the reward. With that, we can calculate $\\hat{Q}$ then pass it back into the $Q$ network to run the optimizer and update the weights.\n",
    "\n",
    "Below is my implementation of the Q-network. I used two fully connected layers with ReLU activations. Two seems to be good enough, three might be better. Feel free to try it out."
   ]
  },
  {
   "cell_type": "code",
   "execution_count": 30,
   "metadata": {},
   "outputs": [],
   "source": [
    "def model_input(state_size):\n",
    "    #states = tf.placeholder(tf.float32, [None, *state_size], name='states')\n",
    "    states = tf.placeholder(tf.float32, [None, state_size], name='states')\n",
    "    actions = tf.placeholder(tf.int32, [None], name='actions')\n",
    "    targetQs = tf.placeholder(tf.float32, [None], name='targetQs')\n",
    "    rates = tf.placeholder(tf.float32, [None], name='rates')\n",
    "    training = tf.placeholder(tf.bool, [], name='training')\n",
    "    return states, actions, targetQs, rates, training"
   ]
  },
  {
   "cell_type": "code",
   "execution_count": 31,
   "metadata": {},
   "outputs": [],
   "source": [
    "# Generator/Controller: Generating/prediting the actions\n",
    "def generator(states, action_size, hidden_size, reuse=False, alpha=0.1, training=False):\n",
    "    with tf.variable_scope('generator', reuse=reuse):\n",
    "        # First fully connected layer\n",
    "        h1 = tf.layers.dense(inputs=states, units=hidden_size)\n",
    "        bn1 = tf.layers.batch_normalization(h1, training=training)        \n",
    "        nl1 = tf.maximum(alpha * bn1, bn1)\n",
    "        \n",
    "        # Second fully connected layer\n",
    "        h2 = tf.layers.dense(inputs=nl1, units=hidden_size)\n",
    "        bn2 = tf.layers.batch_normalization(h2, training=training)        \n",
    "        nl2 = tf.maximum(alpha * bn2, bn2)\n",
    "        \n",
    "        # Output layer\n",
    "        logits = tf.layers.dense(inputs=nl2, units=action_size)        \n",
    "        #predictions = tf.nn.softmax(logits)\n",
    "\n",
    "        # return actions logits\n",
    "        return logits"
   ]
  },
  {
   "cell_type": "code",
   "execution_count": 32,
   "metadata": {},
   "outputs": [],
   "source": [
    "# Discriminator/Dopamine: Reward function/planner/naviator/advisor/supervisor/cortical columns\n",
    "def discriminator(states, actions, hidden_size, reuse=False, alpha=0.1, training=False):\n",
    "    with tf.variable_scope('discriminator', reuse=reuse):\n",
    "        # First fully connected layer\n",
    "        h1 = tf.layers.dense(inputs=states, units=action_size)\n",
    "        bn1 = tf.layers.batch_normalization(h1, training=training)        \n",
    "        nl1 = tf.maximum(alpha * bn1, bn1)\n",
    "        \n",
    "        # Second fully connected layer\n",
    "        fused = tf.concat(axis=1, values=[nl1, actions])\n",
    "        h2 = tf.layers.dense(inputs=fused, units=hidden_size)\n",
    "        bn2 = tf.layers.batch_normalization(h2, training=training)        \n",
    "        nl2 = tf.maximum(alpha * bn2, bn2)\n",
    "                \n",
    "        # Output layer\n",
    "        logits = tf.layers.dense(inputs=nl2, units=1)        \n",
    "        #predictions = tf.nn.softmax(logits)\n",
    "\n",
    "        # return rewards logits\n",
    "        return logits"
   ]
  },
  {
   "cell_type": "code",
   "execution_count": 33,
   "metadata": {},
   "outputs": [],
   "source": [
    "def model_loss(action_size, hidden_size, states, actions, targetQs, rates, training):\n",
    "    actions_logits = generator(states=states, hidden_size=hidden_size, action_size=action_size, training=training)\n",
    "    gQs = discriminator(actions=actions_logits, hidden_size=hidden_size, states=states, training=training)\n",
    "    rates = tf.reshape(rates, shape=[-1, 1]) # [0, 1]\n",
    "    gloss = tf.reduce_mean(tf.nn.sigmoid_cross_entropy_with_logits(logits=gQs, # GAN\n",
    "                                                                   labels=rates)) # 0-1\n",
    "    targetQs = tf.reshape(targetQs, shape=[-1, 1])\n",
    "    gloss += tf.reduce_mean(tf.nn.sigmoid_cross_entropy_with_logits(logits=gQs, # GAN\n",
    "                                                                    labels=tf.nn.sigmoid(targetQs))) # 0-1\n",
    "    actions_labels = tf.one_hot(indices=actions, depth=action_size, dtype=actions_logits.dtype)\n",
    "    dQs = discriminator(actions=actions_labels, hidden_size=hidden_size, states=states, training=training, \n",
    "                        reuse=True)\n",
    "    dloss = tf.reduce_mean(tf.nn.sigmoid_cross_entropy_with_logits(logits=dQs, # GAN\n",
    "                                                                   labels=rates)) # 0-1\n",
    "    dloss += tf.reduce_mean(tf.nn.sigmoid_cross_entropy_with_logits(logits=dQs, # GAN\n",
    "                                                                    labels=tf.nn.sigmoid(targetQs))) # 0-1\n",
    "    return actions_logits, gQs, gloss, dloss"
   ]
  },
  {
   "cell_type": "code",
   "execution_count": 34,
   "metadata": {},
   "outputs": [],
   "source": [
    "# Optimizating/training/learning G & D\n",
    "def model_opt(g_loss, d_loss, g_learning_rate, d_learning_rate):\n",
    "    # Get weights and bias to update\n",
    "    t_vars = tf.trainable_variables()\n",
    "    g_vars = [var for var in t_vars if var.name.startswith('generator')]\n",
    "    d_vars = [var for var in t_vars if var.name.startswith('discriminator')]\n",
    "\n",
    "    # Optimize\n",
    "    with tf.control_dependencies(tf.get_collection(tf.GraphKeys.UPDATE_OPS)): # Required for batchnorm (BN)\n",
    "        g_opt = tf.train.AdamOptimizer(g_learning_rate).minimize(g_loss, var_list=g_vars)\n",
    "        d_opt = tf.train.AdamOptimizer(d_learning_rate).minimize(d_loss, var_list=d_vars)\n",
    "    return g_opt, d_opt"
   ]
  },
  {
   "cell_type": "code",
   "execution_count": 35,
   "metadata": {},
   "outputs": [],
   "source": [
    "class Model:\n",
    "    def __init__(self, state_size, action_size, hidden_size, g_learning_rate, d_learning_rate):\n",
    "\n",
    "        # Data of the Model: make the data available inside the framework\n",
    "        self.states, self.actions, self.targetQs, self.rates, self.training = model_input(state_size=state_size)\n",
    "\n",
    "        # Create the Model: calculating the loss and forwad pass\n",
    "        self.actions_logits, self.Qs_logits, self.g_loss, self.d_loss = model_loss(\n",
    "            action_size=action_size, hidden_size=hidden_size, # model init parameters\n",
    "            states=self.states, actions=self.actions, targetQs=self.targetQs, \n",
    "            rates=self.rates, training=self.training) # model input\n",
    "        \n",
    "        # Update the model: backward pass and backprop\n",
    "        self.g_opt, self.d_opt = model_opt(g_loss=self.g_loss, d_loss=self.d_loss,\n",
    "                                           g_learning_rate=g_learning_rate, d_learning_rate=d_learning_rate)"
   ]
  },
  {
   "cell_type": "code",
   "execution_count": 36,
   "metadata": {},
   "outputs": [],
   "source": [
    "from collections import deque\n",
    "class Memory():\n",
    "    def __init__(self, max_size = 1000):\n",
    "        self.buffer = deque(maxlen=max_size) # data batch"
   ]
  },
  {
   "cell_type": "markdown",
   "metadata": {},
   "source": [
    "## Hyperparameters\n",
    "\n",
    "One of the more difficult aspects of reinforcememt learning are the large number of hyperparameters. Not only are we tuning the network, but we're tuning the simulation."
   ]
  },
  {
   "cell_type": "code",
   "execution_count": 37,
   "metadata": {},
   "outputs": [
    {
     "data": {
      "text/plain": [
       "(Box(4,), Discrete(2))"
      ]
     },
     "execution_count": 37,
     "metadata": {},
     "output_type": "execute_result"
    }
   ],
   "source": [
    "env.observation_space, env.action_space"
   ]
  },
  {
   "cell_type": "code",
   "execution_count": 38,
   "metadata": {},
   "outputs": [],
   "source": [
    "# Exploration parameters\n",
    "explore_start = 1.0            # exploration probability at start\n",
    "explore_stop = 0.01           # minimum exploration probability \n",
    "decay_rate = 0.0001            # exponential decay rate for exploration prob\n",
    "\n",
    "# Network parameters\n",
    "state_size = 4\n",
    "action_size = 2\n",
    "hidden_size = 4*2             # number of units in each Q-network hidden layer\n",
    "g_learning_rate = 1e-4         # Q-network learning rate\n",
    "d_learning_rate = 1e-4         # Q-network learning rate\n",
    "\n",
    "# Memory parameters\n",
    "memory_size = int(1e5)            # memory capacity\n",
    "batch_size = int(1e3)             # experience mini-batch size: 200/500 a successfull episode size\n",
    "gamma = 0.99                   # future reward discount"
   ]
  },
  {
   "cell_type": "code",
   "execution_count": 39,
   "metadata": {},
   "outputs": [],
   "source": [
    "# Reset/init the graph/session\n",
    "graph = tf.reset_default_graph()\n",
    "\n",
    "# Init the model\n",
    "model = Model(action_size=action_size, state_size=state_size, hidden_size=hidden_size,\n",
    "              g_learning_rate=g_learning_rate, d_learning_rate=d_learning_rate)\n",
    "\n",
    "# Init the memory\n",
    "memory = Memory(max_size=memory_size)"
   ]
  },
  {
   "cell_type": "code",
   "execution_count": 43,
   "metadata": {},
   "outputs": [],
   "source": [
    "state = env.reset()\n",
    "total_reward = 0\n",
    "num_step = 0\n",
    "for _ in range(memory_size):\n",
    "    action = env.action_space.sample()\n",
    "    next_state, reward, done, _ = env.step(action)\n",
    "    rate = -1 # [-1, +1] or [0, 1]\n",
    "    memory.buffer.append([state, action, next_state, reward, float(done), rate])\n",
    "    num_step += 1 # memory incremented\n",
    "    total_reward += reward\n",
    "    state = next_state\n",
    "    if done is True:\n",
    "        state = env.reset()\n",
    "        rate = total_reward/500 # [0, 1]\n",
    "        total_reward = 0\n",
    "        for idx in range(num_step):\n",
    "            if memory.buffer[-1-idx][-1] == -1:\n",
    "                memory.buffer[-1-idx][-1] = rate\n",
    "        num_step = 0"
   ]
  },
  {
   "cell_type": "markdown",
   "metadata": {},
   "source": [
    "## Training the model\n",
    "\n",
    "Below we'll train our agent. If you want to watch it train, uncomment the `env.render()` line. This is slow because it's rendering the frames slower than the network can train. But, it's cool to watch the agent get better at the game."
   ]
  },
  {
   "cell_type": "code",
   "execution_count": 78,
   "metadata": {},
   "outputs": [],
   "source": [
    "# batch = memory.buffer\n",
    "def minibatch(batch):\n",
    "    #for idx in range(memory_size// batch_size):\n",
    "    #for idx in range(memory_size- batch_size + 1):\n",
    "    #idx = np.random.choice(np.arange(memory_size- batch_size+ 1))\n",
    "    idx = np.random.choice(np.arange(memory_size// batch_size))\n",
    "    percentage = 0.9\n",
    "    states = np.array([each[0] for each in batch])[idx*batch_size:(idx+1)*batch_size]\n",
    "    actions = np.array([each[1] for each in batch])[idx*batch_size:(idx+1)*batch_size]\n",
    "    next_states = np.array([each[2] for each in batch])[idx*batch_size:(idx+1)*batch_size]\n",
    "    rewards = np.array([each[3] for each in batch])[idx*batch_size:(idx+1)*batch_size]\n",
    "    dones = np.array([each[4] for each in batch])[idx*batch_size:(idx+1)*batch_size]\n",
    "    rates = np.array([each[5] for each in batch])[idx*batch_size:(idx+1)*batch_size]\n",
    "    states = states[rates >= (np.max(rates)*percentage)]\n",
    "    actions = actions[rates >= (np.max(rates)*percentage)]\n",
    "    next_states = next_states[rates >= (np.max(rates)*percentage)]\n",
    "    rewards = rewards[rates >= (np.max(rates)*percentage)]\n",
    "    dones = dones[rates >= (np.max(rates)*percentage)]\n",
    "    rates = rates[rates >= (np.max(rates)*percentage)]\n",
    "    return states, actions, next_states, rewards, dones, rates"
   ]
  },
  {
   "cell_type": "code",
   "execution_count": 80,
   "metadata": {},
   "outputs": [],
   "source": [
    "batch = memory.buffer\n",
    "states, actions, next_states, rewards, dones, rates = minibatch(batch=batch)"
   ]
  },
  {
   "cell_type": "code",
   "execution_count": 81,
   "metadata": {},
   "outputs": [
    {
     "data": {
      "text/plain": [
       "((61, 4),\n",
       " (61,),\n",
       " (61, 4),\n",
       " (61,),\n",
       " (61,),\n",
       " (61,),\n",
       " dtype('float64'),\n",
       " dtype('int64'),\n",
       " dtype('float64'),\n",
       " dtype('float64'),\n",
       " dtype('float64'),\n",
       " dtype('float64'))"
      ]
     },
     "execution_count": 81,
     "metadata": {},
     "output_type": "execute_result"
    }
   ],
   "source": [
    "states.shape, actions.shape, next_states.shape, rewards.shape, dones.shape, rates.shape, \\\n",
    "states.dtype, actions.dtype, next_states.dtype, rewards.dtype, dones.dtype, rates.dtype"
   ]
  },
  {
   "cell_type": "code",
   "execution_count": null,
   "metadata": {},
   "outputs": [
    {
     "name": "stdout",
     "output_type": "stream",
     "text": [
      "Episode:0 meanR:19.0000 R:19.0000 rate:0.0380 gloss:1.3662 dloss:1.3669 exploreP:0.9981\n",
      "Episode:1 meanR:17.5000 R:16.0000 rate:0.0320 gloss:1.3648 dloss:1.3617 exploreP:0.9965\n",
      "Episode:2 meanR:15.3333 R:11.0000 rate:0.0220 gloss:1.3627 dloss:1.3604 exploreP:0.9955\n",
      "Episode:3 meanR:19.0000 R:30.0000 rate:0.0600 gloss:1.3672 dloss:1.3677 exploreP:0.9925\n",
      "Episode:4 meanR:19.8000 R:23.0000 rate:0.0460 gloss:1.3659 dloss:1.3644 exploreP:0.9902\n",
      "Episode:5 meanR:18.3333 R:11.0000 rate:0.0220 gloss:1.3670 dloss:1.3647 exploreP:0.9892\n",
      "Episode:6 meanR:18.0000 R:16.0000 rate:0.0320 gloss:1.3655 dloss:1.3616 exploreP:0.9876\n",
      "Episode:7 meanR:18.0000 R:18.0000 rate:0.0360 gloss:1.3664 dloss:1.3625 exploreP:0.9858\n",
      "Episode:8 meanR:17.7778 R:16.0000 rate:0.0320 gloss:1.3654 dloss:1.3588 exploreP:0.9843\n",
      "Episode:9 meanR:18.1000 R:21.0000 rate:0.0420 gloss:1.3654 dloss:1.3622 exploreP:0.9822\n",
      "Episode:10 meanR:17.4545 R:11.0000 rate:0.0220 gloss:1.3664 dloss:1.3634 exploreP:0.9812\n",
      "Episode:11 meanR:17.2500 R:15.0000 rate:0.0300 gloss:1.3662 dloss:1.3623 exploreP:0.9797\n",
      "Episode:12 meanR:16.8462 R:12.0000 rate:0.0240 gloss:1.3658 dloss:1.3619 exploreP:0.9786\n",
      "Episode:13 meanR:20.1429 R:63.0000 rate:0.1260 gloss:1.3601 dloss:1.3544 exploreP:0.9725\n",
      "Episode:14 meanR:20.9333 R:32.0000 rate:0.0640 gloss:1.3603 dloss:1.3561 exploreP:0.9694\n",
      "Episode:15 meanR:21.3125 R:27.0000 rate:0.0540 gloss:1.3612 dloss:1.3586 exploreP:0.9668\n",
      "Episode:16 meanR:21.0000 R:16.0000 rate:0.0320 gloss:1.3587 dloss:1.3551 exploreP:0.9653\n",
      "Episode:17 meanR:20.8889 R:19.0000 rate:0.0380 gloss:1.3545 dloss:1.3505 exploreP:0.9635\n",
      "Episode:18 meanR:21.1053 R:25.0000 rate:0.0500 gloss:1.3620 dloss:1.3571 exploreP:0.9611\n",
      "Episode:19 meanR:21.1500 R:22.0000 rate:0.0440 gloss:1.3562 dloss:1.3525 exploreP:0.9590\n",
      "Episode:20 meanR:20.9048 R:16.0000 rate:0.0320 gloss:1.3575 dloss:1.3549 exploreP:0.9575\n",
      "Episode:21 meanR:20.5455 R:13.0000 rate:0.0260 gloss:1.3559 dloss:1.3546 exploreP:0.9562\n",
      "Episode:22 meanR:20.0435 R:9.0000 rate:0.0180 gloss:1.3541 dloss:1.3493 exploreP:0.9554\n",
      "Episode:23 meanR:20.5417 R:32.0000 rate:0.0640 gloss:1.3515 dloss:1.3480 exploreP:0.9524\n",
      "Episode:24 meanR:20.2400 R:13.0000 rate:0.0260 gloss:1.3527 dloss:1.3508 exploreP:0.9512\n",
      "Episode:25 meanR:20.1154 R:17.0000 rate:0.0340 gloss:1.3489 dloss:1.3450 exploreP:0.9496\n",
      "Episode:26 meanR:20.4444 R:29.0000 rate:0.0580 gloss:1.3542 dloss:1.3521 exploreP:0.9468\n",
      "Episode:27 meanR:21.1071 R:39.0000 rate:0.0780 gloss:1.3513 dloss:1.3489 exploreP:0.9432\n",
      "Episode:28 meanR:20.7931 R:12.0000 rate:0.0240 gloss:1.3441 dloss:1.3421 exploreP:0.9421\n",
      "Episode:29 meanR:20.6333 R:16.0000 rate:0.0320 gloss:1.3496 dloss:1.3488 exploreP:0.9406\n",
      "Episode:30 meanR:20.3871 R:13.0000 rate:0.0260 gloss:1.3404 dloss:1.3393 exploreP:0.9394\n",
      "Episode:31 meanR:20.2812 R:17.0000 rate:0.0340 gloss:1.3530 dloss:1.3521 exploreP:0.9378\n",
      "Episode:32 meanR:20.0303 R:12.0000 rate:0.0240 gloss:1.3503 dloss:1.3484 exploreP:0.9367\n",
      "Episode:33 meanR:19.7059 R:9.0000 rate:0.0180 gloss:1.3493 dloss:1.3486 exploreP:0.9358\n",
      "Episode:34 meanR:19.5143 R:13.0000 rate:0.0260 gloss:1.3508 dloss:1.3500 exploreP:0.9346\n",
      "Episode:35 meanR:19.3333 R:13.0000 rate:0.0260 gloss:1.3477 dloss:1.3458 exploreP:0.9334\n",
      "Episode:36 meanR:19.1892 R:14.0000 rate:0.0280 gloss:1.3474 dloss:1.3464 exploreP:0.9321\n",
      "Episode:37 meanR:18.9474 R:10.0000 rate:0.0200 gloss:1.3466 dloss:1.3463 exploreP:0.9312\n",
      "Episode:38 meanR:18.7949 R:13.0000 rate:0.0260 gloss:1.3467 dloss:1.3455 exploreP:0.9300\n",
      "Episode:39 meanR:18.6250 R:12.0000 rate:0.0240 gloss:1.3371 dloss:1.3358 exploreP:0.9289\n",
      "Episode:40 meanR:18.3902 R:9.0000 rate:0.0180 gloss:1.3403 dloss:1.3415 exploreP:0.9281\n",
      "Episode:41 meanR:18.4286 R:20.0000 rate:0.0400 gloss:1.3431 dloss:1.3433 exploreP:0.9263\n",
      "Episode:42 meanR:18.5116 R:22.0000 rate:0.0440 gloss:1.3420 dloss:1.3417 exploreP:0.9243\n",
      "Episode:43 meanR:18.5909 R:22.0000 rate:0.0440 gloss:1.3414 dloss:1.3408 exploreP:0.9222\n",
      "Episode:44 meanR:18.4222 R:11.0000 rate:0.0220 gloss:1.3409 dloss:1.3403 exploreP:0.9212\n",
      "Episode:45 meanR:18.2826 R:12.0000 rate:0.0240 gloss:1.3393 dloss:1.3389 exploreP:0.9201\n",
      "Episode:46 meanR:18.1489 R:12.0000 rate:0.0240 gloss:1.3378 dloss:1.3379 exploreP:0.9191\n",
      "Episode:47 meanR:18.4167 R:31.0000 rate:0.0620 gloss:1.3391 dloss:1.3391 exploreP:0.9162\n",
      "Episode:48 meanR:18.2857 R:12.0000 rate:0.0240 gloss:1.3362 dloss:1.3361 exploreP:0.9152\n",
      "Episode:49 meanR:18.4000 R:24.0000 rate:0.0480 gloss:1.3377 dloss:1.3376 exploreP:0.9130\n",
      "Episode:50 meanR:18.3529 R:16.0000 rate:0.0320 gloss:1.3356 dloss:1.3359 exploreP:0.9115\n",
      "Episode:51 meanR:18.2115 R:11.0000 rate:0.0220 gloss:1.3350 dloss:1.3344 exploreP:0.9105\n",
      "Episode:52 meanR:18.1132 R:13.0000 rate:0.0260 gloss:1.3334 dloss:1.3326 exploreP:0.9094\n",
      "Episode:53 meanR:18.0370 R:14.0000 rate:0.0280 gloss:1.3322 dloss:1.3323 exploreP:0.9081\n",
      "Episode:54 meanR:17.9818 R:15.0000 rate:0.0300 gloss:1.3346 dloss:1.3342 exploreP:0.9068\n",
      "Episode:55 meanR:17.8929 R:13.0000 rate:0.0260 gloss:1.3337 dloss:1.3337 exploreP:0.9056\n",
      "Episode:56 meanR:18.0526 R:27.0000 rate:0.0540 gloss:1.3357 dloss:1.3358 exploreP:0.9032\n",
      "Episode:57 meanR:18.0345 R:17.0000 rate:0.0340 gloss:1.3366 dloss:1.3363 exploreP:0.9017\n",
      "Episode:58 meanR:18.1864 R:27.0000 rate:0.0540 gloss:1.3356 dloss:1.3360 exploreP:0.8993\n",
      "Episode:59 meanR:18.1500 R:16.0000 rate:0.0320 gloss:1.3394 dloss:1.3400 exploreP:0.8979\n",
      "Episode:60 meanR:18.1311 R:17.0000 rate:0.0340 gloss:1.3349 dloss:1.3349 exploreP:0.8963\n",
      "Episode:61 meanR:18.1129 R:17.0000 rate:0.0340 gloss:1.3325 dloss:1.3326 exploreP:0.8948\n",
      "Episode:62 meanR:18.2063 R:24.0000 rate:0.0480 gloss:1.3322 dloss:1.3326 exploreP:0.8927\n",
      "Episode:63 meanR:18.1875 R:17.0000 rate:0.0340 gloss:1.3347 dloss:1.3346 exploreP:0.8912\n",
      "Episode:64 meanR:18.0769 R:11.0000 rate:0.0220 gloss:1.3277 dloss:1.3281 exploreP:0.8902\n",
      "Episode:65 meanR:17.9848 R:12.0000 rate:0.0240 gloss:1.3309 dloss:1.3311 exploreP:0.8892\n",
      "Episode:66 meanR:17.9104 R:13.0000 rate:0.0260 gloss:1.3293 dloss:1.3296 exploreP:0.8881\n",
      "Episode:67 meanR:18.0147 R:25.0000 rate:0.0500 gloss:1.3321 dloss:1.3321 exploreP:0.8859\n",
      "Episode:68 meanR:19.0145 R:87.0000 rate:0.1740 gloss:1.3313 dloss:1.3316 exploreP:0.8783\n",
      "Episode:69 meanR:19.0286 R:20.0000 rate:0.0400 gloss:1.3284 dloss:1.3284 exploreP:0.8765\n",
      "Episode:70 meanR:19.0282 R:19.0000 rate:0.0380 gloss:1.3325 dloss:1.3325 exploreP:0.8749\n",
      "Episode:71 meanR:19.0000 R:17.0000 rate:0.0340 gloss:1.3272 dloss:1.3268 exploreP:0.8734\n",
      "Episode:72 meanR:19.0000 R:19.0000 rate:0.0380 gloss:1.3339 dloss:1.3351 exploreP:0.8718\n",
      "Episode:73 meanR:18.9324 R:14.0000 rate:0.0280 gloss:1.3325 dloss:1.3327 exploreP:0.8706\n",
      "Episode:74 meanR:18.8000 R:9.0000 rate:0.0180 gloss:1.3289 dloss:1.3289 exploreP:0.8698\n",
      "Episode:75 meanR:18.6842 R:10.0000 rate:0.0200 gloss:1.3290 dloss:1.3295 exploreP:0.8689\n",
      "Episode:76 meanR:18.7662 R:25.0000 rate:0.0500 gloss:1.3291 dloss:1.3285 exploreP:0.8668\n",
      "Episode:77 meanR:19.0513 R:41.0000 rate:0.0820 gloss:1.3322 dloss:1.3318 exploreP:0.8633\n",
      "Episode:78 meanR:19.0380 R:18.0000 rate:0.0360 gloss:1.3299 dloss:1.3299 exploreP:0.8618\n",
      "Episode:79 meanR:18.9125 R:9.0000 rate:0.0180 gloss:1.3277 dloss:1.3275 exploreP:0.8610\n",
      "Episode:80 meanR:18.9630 R:23.0000 rate:0.0460 gloss:1.3320 dloss:1.3317 exploreP:0.8590\n",
      "Episode:81 meanR:19.2195 R:40.0000 rate:0.0800 gloss:1.3346 dloss:1.3343 exploreP:0.8556\n",
      "Episode:82 meanR:19.3494 R:30.0000 rate:0.0600 gloss:1.3305 dloss:1.3305 exploreP:0.8531\n",
      "Episode:83 meanR:19.3929 R:23.0000 rate:0.0460 gloss:1.3302 dloss:1.3301 exploreP:0.8512\n",
      "Episode:84 meanR:19.4471 R:24.0000 rate:0.0480 gloss:1.3321 dloss:1.3324 exploreP:0.8492\n",
      "Episode:85 meanR:19.3488 R:11.0000 rate:0.0220 gloss:1.3341 dloss:1.3343 exploreP:0.8482\n",
      "Episode:86 meanR:19.2644 R:12.0000 rate:0.0240 gloss:1.3452 dloss:1.3440 exploreP:0.8472\n",
      "Episode:87 meanR:19.2500 R:18.0000 rate:0.0360 gloss:1.3359 dloss:1.3360 exploreP:0.8457\n",
      "Episode:88 meanR:19.4607 R:38.0000 rate:0.0760 gloss:1.3365 dloss:1.3365 exploreP:0.8426\n",
      "Episode:89 meanR:19.3778 R:12.0000 rate:0.0240 gloss:1.3227 dloss:1.3229 exploreP:0.8416\n",
      "Episode:90 meanR:19.2857 R:11.0000 rate:0.0220 gloss:1.3306 dloss:1.3306 exploreP:0.8406\n",
      "Episode:91 meanR:19.4130 R:31.0000 rate:0.0620 gloss:1.3281 dloss:1.3282 exploreP:0.8381\n",
      "Episode:92 meanR:19.4086 R:19.0000 rate:0.0380 gloss:1.3263 dloss:1.3263 exploreP:0.8365\n"
     ]
    }
   ],
   "source": [
    "# Save/load the model and save for plotting\n",
    "saver = tf.train.Saver()\n",
    "episode_rewards_list, rewards_list = [], [] # goal\n",
    "gloss_list, dloss_list = [], []\n",
    "\n",
    "# TF session for training\n",
    "with tf.Session(graph=graph) as sess:\n",
    "    sess.run(tf.global_variables_initializer())\n",
    "    #saver.restore(sess, 'checkpoints/model.ckpt')    \n",
    "    #saver.restore(sess, tf.train.latest_checkpoint('checkpoints'))\n",
    "    total_step = 0 # Explore or exploit parameter\n",
    "    episode_reward = deque(maxlen=100) # 100 episodes average/running average/running mean/window\n",
    "\n",
    "    # Training episodes/epochs\n",
    "    for ep in range(1111*2):\n",
    "        total_reward = 0 # each episode\n",
    "        gloss_batch, dloss_batch = [], []\n",
    "        state = env.reset() # each episode\n",
    "        num_step = 0 # each episode\n",
    "\n",
    "        # Training steps/batches\n",
    "        while True:\n",
    "            # Explore (Env) or Exploit (Model)\n",
    "            total_step += 1\n",
    "            explore_p = explore_stop + (explore_start - explore_stop) * np.exp(-decay_rate * total_step) \n",
    "            if explore_p > np.random.rand():\n",
    "                action = env.action_space.sample()\n",
    "            else:\n",
    "                action_logits = sess.run(model.actions_logits, feed_dict={model.states: state.reshape([1, -1]), \n",
    "                                                                          model.training: False})\n",
    "                action = np.argmax(action_logits)\n",
    "            next_state, reward, done, _ = env.step(action)\n",
    "            rate = -1 # [-1, +1] or [0, 1]\n",
    "            memory.buffer.append([state, action, next_state, reward, float(done), rate])\n",
    "            num_step += 1 # memory incremented\n",
    "            total_reward += reward\n",
    "            state = next_state\n",
    "            \n",
    "            # Rating\n",
    "            if done is True:\n",
    "                rate = total_reward/500 # [0, 1]\n",
    "                for idx in range(num_step): # episode length\n",
    "                    if memory.buffer[-1-idx][-1] == -1:\n",
    "                        memory.buffer[-1-idx][-1] = rate\n",
    "                        \n",
    "            # Training\n",
    "            batch = memory.buffer\n",
    "            states, actions, next_states, rewards, dones, rates = minibatch(batch=batch)\n",
    "            nextQs_logits = sess.run(model.Qs_logits, feed_dict = {model.states: next_states,\n",
    "                                                                   model.training: False})\n",
    "            #nextQs = np.max(nextQs_logits, axis=1) * (1-dones) # DQN\n",
    "            nextQs = nextQs_logits.reshape([-1]) * (1-dones) # DPG\n",
    "            targetQs = rewards + (gamma * nextQs)\n",
    "            dloss, _ = sess.run([model.d_loss, model.d_opt],feed_dict = {model.states: states, \n",
    "                                                                         model.actions: actions,\n",
    "                                                                         model.targetQs: targetQs, \n",
    "                                                                         model.rates: rates,\n",
    "                                                                         model.training: False})\n",
    "            gloss, _ = sess.run([model.g_loss, model.g_opt],feed_dict = {model.states: states, \n",
    "                                                                         model.actions: actions,\n",
    "                                                                         model.targetQs: targetQs, \n",
    "                                                                         model.rates: rates,\n",
    "                                                                         model.training: False})\n",
    "            gloss_batch.append(gloss)\n",
    "            dloss_batch.append(dloss)\n",
    "            if done is True:\n",
    "                break\n",
    "                \n",
    "        episode_reward.append(total_reward)\n",
    "        print('Episode:{}'.format(ep),\n",
    "              'meanR:{:.4f}'.format(np.mean(episode_reward)),\n",
    "              'R:{:.4f}'.format(total_reward),\n",
    "              'rate:{:.4f}'.format(rate),\n",
    "              'gloss:{:.4f}'.format(np.mean(gloss_batch)),\n",
    "              'dloss:{:.4f}'.format(np.mean(dloss_batch)),\n",
    "              'exploreP:{:.4f}'.format(explore_p))\n",
    "\n",
    "        # Ploting out\n",
    "        episode_rewards_list.append([ep, np.mean(episode_reward)])\n",
    "        rewards_list.append([ep, total_reward])\n",
    "        gloss_list.append([ep, np.mean(gloss_batch)])\n",
    "        dloss_list.append([ep, np.mean(dloss_batch)])\n",
    "        \n",
    "        # Break episode/epoch loop\n",
    "        ## Option 1: Solve the First Version\n",
    "        #The task is episodic, and in order to solve the environment, \n",
    "        #your agent must get an average score of +30 over 100 consecutive episodes.\n",
    "        if np.mean(episode_reward) >= 500:\n",
    "            break\n",
    "            \n",
    "    # At the end of all training episodes/epochs\n",
    "    saver.save(sess, 'checkpoints/model.ckpt')"
   ]
  },
  {
   "cell_type": "markdown",
   "metadata": {},
   "source": [
    "# Visualizing training\n",
    "\n",
    "Below I'll plot the total rewards for each episode. I'm plotting the rolling average too, in blue."
   ]
  },
  {
   "cell_type": "code",
   "execution_count": null,
   "metadata": {},
   "outputs": [],
   "source": [
    "import matplotlib.pyplot as plt\n",
    "%matplotlib inline\n",
    "\n",
    "def running_mean(x, N):\n",
    "    cumsum = np.cumsum(np.insert(x, 0, 0)) \n",
    "    return (cumsum[N:] - cumsum[:-N]) / N "
   ]
  },
  {
   "cell_type": "code",
   "execution_count": null,
   "metadata": {},
   "outputs": [],
   "source": [
    "eps, arr = np.array(episode_rewards_list).T\n",
    "smoothed_arr = running_mean(arr, 10)\n",
    "plt.plot(eps[-len(smoothed_arr):], smoothed_arr)\n",
    "plt.plot(eps, arr, color='grey', alpha=0.3)\n",
    "plt.xlabel('Episode')\n",
    "plt.ylabel('Total rewards')"
   ]
  },
  {
   "cell_type": "code",
   "execution_count": null,
   "metadata": {},
   "outputs": [],
   "source": [
    "eps, arr = np.array(rewards_list).T\n",
    "smoothed_arr = running_mean(arr, 10)\n",
    "plt.plot(eps[-len(smoothed_arr):], smoothed_arr)\n",
    "plt.plot(eps, arr, color='grey', alpha=0.3)\n",
    "plt.xlabel('Episode')\n",
    "plt.ylabel('Total rewards')"
   ]
  },
  {
   "cell_type": "code",
   "execution_count": null,
   "metadata": {},
   "outputs": [],
   "source": [
    "eps, arr = np.array(gloss_list).T\n",
    "smoothed_arr = running_mean(arr, 10)\n",
    "plt.plot(eps[-len(smoothed_arr):], smoothed_arr)\n",
    "plt.plot(eps, arr, color='grey', alpha=0.3)\n",
    "plt.xlabel('Episode')\n",
    "plt.ylabel('G losses')"
   ]
  },
  {
   "cell_type": "code",
   "execution_count": null,
   "metadata": {},
   "outputs": [],
   "source": [
    "eps, arr = np.array(dloss_list).T\n",
    "smoothed_arr = running_mean(arr, 10)\n",
    "plt.plot(eps[-len(smoothed_arr):], smoothed_arr)\n",
    "plt.plot(eps, arr, color='grey', alpha=0.3)\n",
    "plt.xlabel('Episode')\n",
    "plt.ylabel('D losses')"
   ]
  },
  {
   "cell_type": "markdown",
   "metadata": {},
   "source": [
    "## Testing\n",
    "\n",
    "Let's checkout how our trained agent plays the game."
   ]
  },
  {
   "cell_type": "code",
   "execution_count": 36,
   "metadata": {},
   "outputs": [
    {
     "name": "stdout",
     "output_type": "stream",
     "text": [
      "\u001b[33mWARN: gym.spaces.Box autodetected dtype as <class 'numpy.float32'>. Please provide explicit dtype.\u001b[0m\n",
      "\u001b[33mWARN: gym.spaces.Box autodetected dtype as <class 'numpy.float32'>. Please provide explicit dtype.\u001b[0m\n",
      "INFO:tensorflow:Restoring parameters from checkpoints/model.ckpt\n"
     ]
    },
    {
     "name": "stderr",
     "output_type": "stream",
     "text": [
      "/home/arasdar/anaconda3/envs/env/lib/python3.6/site-packages/gym/__init__.py:22: UserWarning: DEPRECATION WARNING: to improve load times, gym no longer automatically loads gym.spaces. Please run \"import gym.spaces\" to load gym.spaces on your own. This warning will turn into an error in a future version of gym.\n",
      "  warnings.warn('DEPRECATION WARNING: to improve load times, gym no longer automatically loads gym.spaces. Please run \"import gym.spaces\" to load gym.spaces on your own. This warning will turn into an error in a future version of gym.')\n"
     ]
    },
    {
     "name": "stdout",
     "output_type": "stream",
     "text": [
      "total_reward: 500.0\n"
     ]
    }
   ],
   "source": [
    "import gym\n",
    "env = gym.make('CartPole-v0')\n",
    "env = gym.make('CartPole-v1')\n",
    "# env = gym.make('Acrobot-v1')\n",
    "# env = gym.make('MountainCar-v0')\n",
    "# env = gym.make('Pendulum-v0')\n",
    "# env = gym.make('Blackjack-v0')\n",
    "# env = gym.make('FrozenLake-v0')\n",
    "# env = gym.make('AirRaid-ram-v0')\n",
    "# env = gym.make('AirRaid-v0')\n",
    "# env = gym.make('BipedalWalker-v2')\n",
    "# env = gym.make('Copy-v0')\n",
    "# env = gym.make('CarRacing-v0')\n",
    "# env = gym.make('Ant-v2') #mujoco\n",
    "# env = gym.make('FetchPickAndPlace-v1') # mujoco required!\n",
    "\n",
    "with tf.Session() as sess:\n",
    "    sess.run(tf.global_variables_initializer())\n",
    "    saver.restore(sess, 'checkpoints/model.ckpt')    \n",
    "    #saver.restore(sess, tf.train.latest_checkpoint('checkpoints'))\n",
    "    \n",
    "    # Episodes/epochs\n",
    "    for _ in range(1):\n",
    "        state = env.reset()\n",
    "        total_reward = 0\n",
    "\n",
    "        # Steps/batches\n",
    "        while True:\n",
    "            env.render()\n",
    "            action_logits = sess.run(model.actions_logits, feed_dict={model.states: state.reshape([1, -1])})\n",
    "            action = np.argmax(action_logits)\n",
    "            state, reward, done, _ = env.step(action)\n",
    "            total_reward += reward\n",
    "            if done:\n",
    "                print('total_reward: {}'.format(total_reward))\n",
    "                break\n",
    "                \n",
    "env.close()"
   ]
  },
  {
   "cell_type": "markdown",
   "metadata": {},
   "source": [
    "## Extending this\n",
    "\n",
    "So, Cart-Pole is a pretty simple game. However, the same model can be used to train an agent to play something much more complicated like Pong or Space Invaders. Instead of a state like we're using here though, you'd want to use convolutional layers to get the state from the screen images.\n",
    "\n",
    "![Deep Q-Learning Atari](assets/atari-network.png)\n",
    "\n",
    "I'll leave it as a challenge for you to use deep Q-learning to train an agent to play Atari games. Here's the original paper which will get you started: http://www.davidqiu.com:8888/research/nature14236.pdf."
   ]
  },
  {
   "cell_type": "code",
   "execution_count": null,
   "metadata": {},
   "outputs": [],
   "source": []
  }
 ],
 "metadata": {
  "kernelspec": {
   "display_name": "Python 3",
   "language": "python",
   "name": "python3"
  },
  "language_info": {
   "codemirror_mode": {
    "name": "ipython",
    "version": 3
   },
   "file_extension": ".py",
   "mimetype": "text/x-python",
   "name": "python",
   "nbconvert_exporter": "python",
   "pygments_lexer": "ipython3",
   "version": "3.6.6"
  }
 },
 "nbformat": 4,
 "nbformat_minor": 2
}
