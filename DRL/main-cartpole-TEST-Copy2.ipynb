{
 "cells": [
  {
   "cell_type": "markdown",
   "metadata": {},
   "source": [
    "# DQN\n",
    "\n",
    "In this notebook, we'll build a neural network that can learn to play games through reinforcement learning. More specifically, we'll use Q-learning to train an agent to play a game called [Cart-Pole](https://gym.openai.com/envs/CartPole-v0). In this game, a freely swinging pole is attached to a cart. The cart can move to the left and right, and the goal is to keep the pole upright as long as possible.\n",
    "\n",
    "![Cart-Pole](assets/cart-pole.jpg)\n",
    "\n",
    "We can simulate this game using [OpenAI Gym](https://gym.openai.com/). First, let's check out how OpenAI Gym works. Then, we'll get into training an agent to play the Cart-Pole game."
   ]
  },
  {
   "cell_type": "code",
   "execution_count": 1,
   "metadata": {},
   "outputs": [
    {
     "name": "stdout",
     "output_type": "stream",
     "text": [
      "TensorFlow Version: 1.7.1\n",
      "Default GPU Device: /device:GPU:0\n"
     ]
    }
   ],
   "source": [
    "# In this one we should define and detect GPUs for tensorflow\n",
    "# GPUs or CPU\n",
    "import tensorflow as tf\n",
    "\n",
    "# Check TensorFlow Version\n",
    "print('TensorFlow Version: {}'.format(tf.__version__))\n",
    "\n",
    "# Check for a GPU\n",
    "print('Default GPU Device: {}'.format(tf.test.gpu_device_name()))"
   ]
  },
  {
   "cell_type": "markdown",
   "metadata": {},
   "source": [
    ">**Note:** Make sure you have OpenAI Gym cloned into the same directory with this notebook. I've included `gym` as a submodule, so you can run `git submodule --init --recursive` to pull the contents into the `gym` repo."
   ]
  },
  {
   "cell_type": "markdown",
   "metadata": {},
   "source": [
    ">**Note:** Make sure you have OpenAI Gym cloned. Then run this command `pip install -e gym/[all]`."
   ]
  },
  {
   "cell_type": "code",
   "execution_count": 2,
   "metadata": {},
   "outputs": [],
   "source": [
    "import gym\n",
    "\n",
    "## Create the Cart-Pole game environment\n",
    "env = gym.make('CartPole-v0')\n",
    "env = gym.make('CartPole-v1')"
   ]
  },
  {
   "cell_type": "markdown",
   "metadata": {},
   "source": [
    "We interact with the simulation through `env`. To show the simulation running, you can use `env.render()` to render one frame. Passing in an action as an integer to `env.step` will generate the next step in the simulation.  You can see how many actions are possible from `env.action_space` and to get a random action you can use `env.action_space.sample()`. This is general to all Gym games. In the Cart-Pole game, there are two possible actions, moving the cart left or right. So there are two actions we can take, encoded as 0 and 1.\n",
    "\n",
    "Run the code below to watch the simulation run."
   ]
  },
  {
   "cell_type": "code",
   "execution_count": 3,
   "metadata": {},
   "outputs": [],
   "source": [
    "import numpy as np\n",
    "\n",
    "state = env.reset()\n",
    "batch = []\n",
    "for _ in range(1000):\n",
    "    # env.render()\n",
    "    action = env.action_space.sample()\n",
    "    next_state, reward, done, info = env.step(action) # take a random action\n",
    "    batch.append([state, action, next_state, reward, float(done)])\n",
    "    #     print('state, action, reward, done, info:', \n",
    "    #           state, action, reward, done, info)\n",
    "    state = next_state\n",
    "    if done:\n",
    "        state = env.reset()"
   ]
  },
  {
   "cell_type": "markdown",
   "metadata": {},
   "source": [
    "To shut the window showing the simulation, use `env.close()`."
   ]
  },
  {
   "cell_type": "markdown",
   "metadata": {},
   "source": [
    "If you ran the simulation above, we can look at the rewards:"
   ]
  },
  {
   "cell_type": "code",
   "execution_count": 4,
   "metadata": {},
   "outputs": [
    {
     "data": {
      "text/plain": [
       "([array([-0.02627469, -0.00251987,  0.02072053, -0.03802255]),\n",
       "  0,\n",
       "  array([-0.02632508, -0.19793273,  0.01996008,  0.26112522]),\n",
       "  1.0,\n",
       "  0.0],\n",
       " (4,))"
      ]
     },
     "execution_count": 4,
     "metadata": {},
     "output_type": "execute_result"
    }
   ],
   "source": [
    "batch[0], batch[0][0].shape"
   ]
  },
  {
   "cell_type": "code",
   "execution_count": 5,
   "metadata": {},
   "outputs": [],
   "source": [
    "states = np.array([each[0] for each in batch])\n",
    "actions = np.array([each[1] for each in batch])\n",
    "next_states = np.array([each[2] for each in batch])\n",
    "rewards = np.array([each[3] for each in batch])\n",
    "dones = np.array([each[4] for each in batch])"
   ]
  },
  {
   "cell_type": "code",
   "execution_count": 6,
   "metadata": {},
   "outputs": [
    {
     "name": "stdout",
     "output_type": "stream",
     "text": [
      "[1. 1. 1. 1. 1. 1. 1. 1. 1. 1. 1. 1. 1. 1. 1. 1. 1. 1. 1. 1.]\n",
      "(1000,) (1000, 4) (1000,) (1000,)\n",
      "float64 float64 int64 float64\n",
      "1 0\n",
      "2\n",
      "1.0 1.0\n",
      "2.1975676927996597 -2.456453016737691\n"
     ]
    }
   ],
   "source": [
    "print(rewards[-20:])\n",
    "print(np.array(rewards).shape, np.array(states).shape, np.array(actions).shape, np.array(dones).shape)\n",
    "print(np.array(rewards).dtype, np.array(states).dtype, np.array(actions).dtype, np.array(dones).dtype)\n",
    "print(np.max(np.array(actions)), np.min(np.array(actions)))\n",
    "print((np.max(np.array(actions)) - np.min(np.array(actions)))+1)\n",
    "print(np.max(np.array(rewards)), np.min(np.array(rewards)))\n",
    "print(np.max(np.array(states)), np.min(np.array(states)))"
   ]
  },
  {
   "cell_type": "markdown",
   "metadata": {},
   "source": [
    "The game resets after the pole has fallen past a certain angle. For each frame while the simulation is running, it returns a reward of 1.0. The longer the game runs, the more reward we get. Then, our network's goal is to maximize the reward by keeping the pole vertical. It will do this by moving the cart to the left and the right."
   ]
  },
  {
   "cell_type": "markdown",
   "metadata": {},
   "source": [
    "## Q-Network\n",
    "\n",
    "We train our Q-learning agent using the Bellman Equation:\n",
    "\n",
    "$$\n",
    "Q(s, a) = r + \\gamma \\max{Q(s', a')}\n",
    "$$\n",
    "\n",
    "where $s$ is a state, $a$ is an action, and $s'$ is the next state from state $s$ and action $a$.\n",
    "\n",
    "Before we used this equation to learn values for a Q-_table_. However, for this game there are a huge number of states available. The state has four values: the position and velocity of the cart, and the position and velocity of the pole. These are all real-valued numbers, so ignoring floating point precisions, you practically have infinite states. Instead of using a table then, we'll replace it with a neural network that will approximate the Q-table lookup function.\n",
    "\n",
    "<img src=\"assets/deep-q-learning.png\" width=450px>\n",
    "\n",
    "Now, our Q value, $Q(s, a)$ is calculated by passing in a state to the network. The output will be Q-values for each available action, with fully connected hidden layers.\n",
    "\n",
    "<img src=\"assets/q-network.png\" width=550px>\n",
    "\n",
    "\n",
    "As I showed before, we can define our targets for training as $\\hat{Q}(s,a) = r + \\gamma \\max{Q(s', a')}$. Then we update the weights by minimizing $(\\hat{Q}(s,a) - Q(s,a))^2$. \n",
    "\n",
    "For this Cart-Pole game, we have four inputs, one for each value in the state, and two outputs, one for each action. To get $\\hat{Q}$, we'll first choose an action, then simulate the game using that action. This will get us the next state, $s'$, and the reward. With that, we can calculate $\\hat{Q}$ then pass it back into the $Q$ network to run the optimizer and update the weights.\n",
    "\n",
    "Below is my implementation of the Q-network. I used two fully connected layers with ReLU activations. Two seems to be good enough, three might be better. Feel free to try it out."
   ]
  },
  {
   "cell_type": "code",
   "execution_count": 7,
   "metadata": {},
   "outputs": [],
   "source": [
    "def model_input(state_size):\n",
    "    states = tf.placeholder(tf.float32, [None, state_size], name='states')\n",
    "    actions = tf.placeholder(tf.int32, [None], name='actions')\n",
    "    targetQs = tf.placeholder(tf.float32, [None], name='targetQs')\n",
    "    return states, actions, targetQs"
   ]
  },
  {
   "cell_type": "code",
   "execution_count": 8,
   "metadata": {},
   "outputs": [],
   "source": [
    "# Generator: Generating/prediting the actions\n",
    "def generator(states, action_size, hidden_size, reuse=False, alpha=0.1, training=False):\n",
    "    with tf.variable_scope('generator', reuse=reuse):\n",
    "        # First fully connected layer\n",
    "        h1 = tf.layers.dense(inputs=states, units=hidden_size)\n",
    "        bn1 = tf.layers.batch_normalization(h1, training=training)        \n",
    "        nl1 = tf.maximum(alpha * bn1, bn1)\n",
    "        \n",
    "        # Second fully connected layer\n",
    "        h2 = tf.layers.dense(inputs=nl1, units=hidden_size)\n",
    "        bn2 = tf.layers.batch_normalization(h2, training=training)        \n",
    "        nl2 = tf.maximum(alpha * bn2, bn2)\n",
    "        \n",
    "        # Output layer\n",
    "        logits = tf.layers.dense(inputs=nl2, units=action_size)        \n",
    "        #predictions = tf.nn.softmax(logits)\n",
    "\n",
    "        # return actions logits\n",
    "        return logits"
   ]
  },
  {
   "cell_type": "code",
   "execution_count": 9,
   "metadata": {},
   "outputs": [],
   "source": [
    "def model_loss(states, actions, targetQs, action_size, hidden_size):\n",
    "    actions_logits = generator(states=states, hidden_size=hidden_size, action_size=action_size)\n",
    "    actions_labels = tf.one_hot(indices=actions, depth=action_size, dtype=actions_logits.dtype)\n",
    "    Qs = tf.reduce_max(actions_logits*actions_labels, axis=1)\n",
    "    #Qs = tf.reduce_max(actions_logits, axis=1)\n",
    "    loss = tf.reduce_mean(tf.square(Qs - targetQs))\n",
    "    return actions_logits, loss"
   ]
  },
  {
   "cell_type": "code",
   "execution_count": 10,
   "metadata": {},
   "outputs": [],
   "source": [
    "def model_opt(loss, learning_rate):\n",
    "    # Get weights and bias to update\n",
    "    t_vars = tf.trainable_variables()\n",
    "    g_vars = [var for var in t_vars if var.name.startswith('generator')]\n",
    "\n",
    "    # Optimize\n",
    "    with tf.control_dependencies(tf.get_collection(tf.GraphKeys.UPDATE_OPS)): # Required for batchnorm (BN)\n",
    "        opt = tf.train.AdamOptimizer(learning_rate).minimize(loss, var_list=g_vars)\n",
    "\n",
    "    return opt"
   ]
  },
  {
   "cell_type": "code",
   "execution_count": 11,
   "metadata": {},
   "outputs": [],
   "source": [
    "class Model:\n",
    "    def __init__(self, state_size, action_size, hidden_size, learning_rate):\n",
    "\n",
    "        # Data of the Model: make the data available inside the framework\n",
    "        self.states, self.actions, self.targetQs = model_input(state_size=state_size)\n",
    "\n",
    "        # Create the Model: calculating the loss and forwad pass\n",
    "        self.actions_logits, self.loss = model_loss(\n",
    "            action_size=action_size, hidden_size=hidden_size, # model init parameters\n",
    "            states=self.states, actions=self.actions, targetQs=self.targetQs) # model input\n",
    "\n",
    "        # Update the model: backward pass and backprop\n",
    "        self.opt = model_opt(loss=self.loss, learning_rate=learning_rate)"
   ]
  },
  {
   "cell_type": "markdown",
   "metadata": {},
   "source": [
    "## Experience replay\n",
    "\n",
    "Reinforcement learning algorithms can have stability issues due to correlations between states. To reduce correlations when training, we can store the agent's experiences and later draw a random mini-batch of those experiences to train on. \n",
    "\n",
    "Here, we'll create a `Memory` object that will store our experiences, our transitions $<s, a, r, s'>$. This memory will have a maxmium capacity, so we can keep newer experiences in memory while getting rid of older experiences. Then, we'll sample a random mini-batch of transitions $<s, a, r, s'>$ and train on those.\n",
    "\n",
    "Below, I've implemented a `Memory` object. If you're unfamiliar with `deque`, this is a double-ended queue. You can think of it like a tube open on both sides. You can put objects in either side of the tube. But if it's full, adding anything more will push an object out the other side. This is a great data structure to use for the memory buffer."
   ]
  },
  {
   "cell_type": "code",
   "execution_count": 12,
   "metadata": {},
   "outputs": [],
   "source": [
    "# from collections import deque\n",
    "# class Memory():\n",
    "#     def __init__(self, max_size = 1000):\n",
    "#         self.buffer = deque(maxlen=max_size) # data batch\n",
    "#         self.rates = deque(maxlen=max_size) # rates\n",
    "#     def sample(self, batch_size):\n",
    "#         idx = np.random.choice(np.arange(len(self.buffer)), \n",
    "#                                size=batch_size, \n",
    "#                                replace=False)\n",
    "#         return [self.buffer[ii] for ii in idx], [self.rates[ii] for ii in idx]"
   ]
  },
  {
   "cell_type": "code",
   "execution_count": 16,
   "metadata": {},
   "outputs": [],
   "source": [
    "def sample(batch_size, ListArr):\n",
    "    idx = np.random.choice(np.arange(len(ListArr)), \n",
    "                           size=batch_size, \n",
    "                           replace=True)\n",
    "    return [ListArr[ii] for ii in idx]"
   ]
  },
  {
   "cell_type": "code",
   "execution_count": 17,
   "metadata": {},
   "outputs": [],
   "source": [
    "# sample(batch_size=10, arr_length=100)"
   ]
  },
  {
   "cell_type": "code",
   "execution_count": 19,
   "metadata": {},
   "outputs": [],
   "source": [
    "from collections import deque\n",
    "class Memory():\n",
    "    def __init__(self, max_size = 1000):\n",
    "        self.buffer = deque(maxlen=max_size)\n",
    "#     def sample(self, batch_size):\n",
    "#         idx = np.random.choice(np.arange(len(self.buffer)), \n",
    "#                                size=batch_size, \n",
    "#                                replace=False)\n",
    "#         return [self.buffer[ii] for ii in idx]"
   ]
  },
  {
   "cell_type": "markdown",
   "metadata": {},
   "source": [
    "## Exploration - Exploitation\n",
    "\n",
    "To learn about the environment and rules of the game, the agent needs to explore by taking random actions. We'll do this by choosing a random action with some probability $\\epsilon$ (epsilon).  That is, with some probability $\\epsilon$ the agent will make a random action and with probability $1 - \\epsilon$, the agent will choose an action from $Q(s,a)$. This is called an **$\\epsilon$-greedy policy**.\n",
    "\n",
    "\n",
    "At first, the agent needs to do a lot of exploring. Later when it has learned more, the agent can favor choosing actions based on what it has learned. This is called _exploitation_. We'll set it up so the agent is more likely to explore early in training, then more likely to exploit later in training."
   ]
  },
  {
   "cell_type": "markdown",
   "metadata": {},
   "source": [
    "## Q-Learning training algorithm\n",
    "\n",
    "Putting all this together, we can list out the algorithm we'll use to train the network. We'll train the network in _episodes_. One *episode* is one simulation of the game. For this game, the goal is to keep the pole upright for 195 frames. So we can start a new episode once meeting that goal. The game ends if the pole tilts over too far, or if the cart moves too far the left or right. When a game ends, we'll start a new episode. Now, to train the agent:\n",
    "\n",
    "* Initialize the memory $D$\n",
    "* Initialize the action-value network $Q$ with random weights\n",
    "* **For** episode = 1, $M$ **do**\n",
    "  * **For** $t$, $T$ **do**\n",
    "     * With probability $\\epsilon$ select a random action $a_t$, otherwise select $a_t = \\mathrm{argmax}_a Q(s,a)$\n",
    "     * Execute action $a_t$ in simulator and observe reward $r_{t+1}$ and new state $s_{t+1}$\n",
    "     * Store transition $<s_t, a_t, r_{t+1}, s_{t+1}>$ in memory $D$\n",
    "     * Sample random mini-batch from $D$: $<s_j, a_j, r_j, s'_j>$\n",
    "     * Set $\\hat{Q}_j = r_j$ if the episode ends at $j+1$, otherwise set $\\hat{Q}_j = r_j + \\gamma \\max_{a'}{Q(s'_j, a')}$\n",
    "     * Make a gradient descent step with loss $(\\hat{Q}_j - Q(s_j, a_j))^2$\n",
    "  * **endfor**\n",
    "* **endfor**"
   ]
  },
  {
   "cell_type": "markdown",
   "metadata": {},
   "source": [
    "## Hyperparameters\n",
    "\n",
    "One of the more difficult aspects of reinforcememt learning are the large number of hyperparameters. Not only are we tuning the network, but we're tuning the simulation."
   ]
  },
  {
   "cell_type": "code",
   "execution_count": 20,
   "metadata": {},
   "outputs": [
    {
     "data": {
      "text/plain": [
       "(Box(4,), Discrete(2))"
      ]
     },
     "execution_count": 20,
     "metadata": {},
     "output_type": "execute_result"
    }
   ],
   "source": [
    "env.observation_space, env.action_space"
   ]
  },
  {
   "cell_type": "code",
   "execution_count": 73,
   "metadata": {},
   "outputs": [],
   "source": [
    "# Exploration parameters\n",
    "explore_start = 1.0            # exploration probability at start\n",
    "explore_stop = 0.01           # minimum exploration probability \n",
    "decay_rate = 0.0001            # exponential decay rate for exploration prob\n",
    "\n",
    "# Network parameters\n",
    "state_size = 4\n",
    "action_size = 2\n",
    "hidden_size = 24*2             # number of units in each Q-network hidden layer\n",
    "learning_rate = 1e-4         # Q-network learning rate\n",
    "\n",
    "# Memory parameters\n",
    "memory_size = int(1e5)            # memory capacity\n",
    "batch_size = int(1e2)             # experience mini-batch size\n",
    "gamma = 0.99                   # future reward discount"
   ]
  },
  {
   "cell_type": "code",
   "execution_count": 74,
   "metadata": {},
   "outputs": [],
   "source": [
    "# Reset/init the graph/session\n",
    "graph = tf.reset_default_graph()\n",
    "\n",
    "# Init the model\n",
    "model = Model(action_size=action_size, hidden_size=hidden_size, state_size=state_size, learning_rate=learning_rate)\n",
    "\n",
    "# Init the memory\n",
    "memory = Memory(max_size=memory_size)\n",
    "# memory2 = Memory(max_size=memory_size)"
   ]
  },
  {
   "cell_type": "markdown",
   "metadata": {},
   "source": [
    "## Populate the memory (exprience memory)\n",
    "\n",
    "Here I'm re-initializing the simulation and pre-populating the memory. The agent is taking random actions and storing the transitions in memory. This will help the agent with exploring the game."
   ]
  },
  {
   "cell_type": "code",
   "execution_count": 75,
   "metadata": {},
   "outputs": [],
   "source": [
    "# Initializing the memory with the pool of random exploration of the env.\n",
    "state = env.reset() # env-based\n",
    "total_reward = 0 # episode R\n",
    "num_step = 0 # episode steps/ length based on number of steps\n",
    "goal = 500 # env-based, the total reward required for reaching the goal G\n",
    "for _ in range(memory_size):\n",
    "    action = env.action_space.sample() # exploring the env action space/ random action/ explore\n",
    "    next_state, reward, done, _ = env.step(action) # exploring the env state, reward, and done/end\n",
    "    #memory.buffer[idxxx][FIRST, 111111, 2222222222, 333333, 4444444444, LAST]\n",
    "    #memory.buffer[idxxx][00000, 111111, 2222222222, 333333, 4444444444, 5555]\n",
    "    memory.buffer.append([state, action, next_state, reward, float(done), -1])\n",
    "    num_step += 1 # memory incremented\n",
    "    total_reward += reward # R += r\n",
    "    state = next_state # update the state for next episode\n",
    "    # At the end of episode, rate the played episode and prepared for the next episode\n",
    "    if done is True: # end of this episode\n",
    "        state = env.reset() # reset for next episode\n",
    "        rate = total_reward/goal # the actual sucess rate of the played sequence\n",
    "        total_reward = 0 # reset for next episode\n",
    "        # Rating the played sequence: success rating the played sequence\n",
    "        # 0, 1, 2, .............................., num_steps-1\n",
    "        for idx in range(num_step): # episode length\n",
    "            # if memory.buffer[-1-idx][-1] == -1: # double-check if it is empty and it is not rated!\n",
    "            #     memory.buffer[-1-idx][-1] = rate # rate each SA pair\n",
    "            if memory.buffer[-1-idx][5] == -1: # double-check if it is empty and it is not rated!\n",
    "                memory.buffer[-1-idx][5] = rate # rate each SA pair\n",
    "        num_step = 0 # reset for the next episode"
   ]
  },
  {
   "cell_type": "markdown",
   "metadata": {},
   "source": [
    "## Training the model\n",
    "\n",
    "Below we'll train our agent. If you want to watch it train, uncomment the `env.render()` line. This is slow because it's rendering the frames slower than the network can train. But, it's cool to watch the agent get better at the game."
   ]
  },
  {
   "cell_type": "code",
   "execution_count": null,
   "metadata": {},
   "outputs": [
    {
     "name": "stdout",
     "output_type": "stream",
     "text": [
      "Episode:0 meanR:35.0000 R:35.0 rate:0.0700 loss:1.0638 exploreP:0.9965\n",
      "Episode:1 meanR:23.0000 R:11.0 rate:0.0220 loss:1.1078 exploreP:0.9955\n",
      "Episode:2 meanR:23.0000 R:23.0 rate:0.0460 loss:1.1465 exploreP:0.9932\n",
      "Episode:3 meanR:21.2500 R:16.0 rate:0.0320 loss:1.1820 exploreP:0.9916\n",
      "Episode:4 meanR:19.6000 R:13.0 rate:0.0260 loss:1.2248 exploreP:0.9903\n",
      "Episode:5 meanR:18.6667 R:14.0 rate:0.0280 loss:1.2418 exploreP:0.9890\n",
      "Episode:6 meanR:20.2857 R:30.0 rate:0.0600 loss:1.2974 exploreP:0.9860\n",
      "Episode:7 meanR:19.6250 R:15.0 rate:0.0300 loss:1.3933 exploreP:0.9846\n",
      "Episode:8 meanR:19.2222 R:16.0 rate:0.0320 loss:1.3763 exploreP:0.9830\n",
      "Episode:9 meanR:20.6000 R:33.0 rate:0.0660 loss:1.3495 exploreP:0.9798\n",
      "Episode:10 meanR:21.0909 R:26.0 rate:0.0520 loss:1.2959 exploreP:0.9773\n",
      "Episode:11 meanR:20.8333 R:18.0 rate:0.0360 loss:1.2771 exploreP:0.9756\n",
      "Episode:12 meanR:20.6154 R:18.0 rate:0.0360 loss:1.2438 exploreP:0.9738\n",
      "Episode:13 meanR:20.3571 R:17.0 rate:0.0340 loss:1.2688 exploreP:0.9722\n",
      "Episode:14 meanR:20.2000 R:18.0 rate:0.0360 loss:1.2934 exploreP:0.9705\n",
      "Episode:15 meanR:21.1250 R:35.0 rate:0.0700 loss:1.2425 exploreP:0.9671\n",
      "Episode:16 meanR:20.7647 R:15.0 rate:0.0300 loss:1.2962 exploreP:0.9657\n",
      "Episode:17 meanR:20.1111 R:9.0 rate:0.0180 loss:1.2804 exploreP:0.9648\n",
      "Episode:18 meanR:19.7368 R:13.0 rate:0.0260 loss:1.2740 exploreP:0.9636\n",
      "Episode:19 meanR:20.0000 R:25.0 rate:0.0500 loss:1.2586 exploreP:0.9612\n",
      "Episode:20 meanR:19.9524 R:19.0 rate:0.0380 loss:1.3980 exploreP:0.9594\n",
      "Episode:21 meanR:19.8182 R:17.0 rate:0.0340 loss:1.4159 exploreP:0.9578\n",
      "Episode:22 meanR:20.3913 R:33.0 rate:0.0660 loss:1.3878 exploreP:0.9546\n",
      "Episode:23 meanR:20.0833 R:13.0 rate:0.0260 loss:1.5489 exploreP:0.9534\n",
      "Episode:24 meanR:19.8000 R:13.0 rate:0.0260 loss:1.5973 exploreP:0.9522\n",
      "Episode:25 meanR:19.4615 R:11.0 rate:0.0220 loss:1.6344 exploreP:0.9512\n",
      "Episode:26 meanR:19.9630 R:33.0 rate:0.0660 loss:1.7670 exploreP:0.9481\n",
      "Episode:27 meanR:19.8214 R:16.0 rate:0.0320 loss:1.8389 exploreP:0.9466\n",
      "Episode:28 meanR:19.8621 R:21.0 rate:0.0420 loss:2.0714 exploreP:0.9446\n",
      "Episode:29 meanR:19.8667 R:20.0 rate:0.0400 loss:2.0904 exploreP:0.9427\n",
      "Episode:30 meanR:19.6452 R:13.0 rate:0.0260 loss:2.3991 exploreP:0.9415\n",
      "Episode:31 meanR:19.5625 R:17.0 rate:0.0340 loss:2.5146 exploreP:0.9399\n",
      "Episode:32 meanR:19.6061 R:21.0 rate:0.0420 loss:2.7441 exploreP:0.9380\n",
      "Episode:33 meanR:19.4118 R:13.0 rate:0.0260 loss:2.9416 exploreP:0.9368\n",
      "Episode:34 meanR:19.6286 R:27.0 rate:0.0540 loss:3.2223 exploreP:0.9343\n",
      "Episode:35 meanR:19.3889 R:11.0 rate:0.0220 loss:3.4500 exploreP:0.9333\n",
      "Episode:36 meanR:19.2973 R:16.0 rate:0.0320 loss:3.8168 exploreP:0.9318\n",
      "Episode:37 meanR:19.0789 R:11.0 rate:0.0220 loss:3.7949 exploreP:0.9308\n",
      "Episode:38 meanR:18.9487 R:14.0 rate:0.0280 loss:4.2619 exploreP:0.9295\n",
      "Episode:39 meanR:18.9750 R:20.0 rate:0.0400 loss:6.2376 exploreP:0.9276\n",
      "Episode:40 meanR:18.9756 R:19.0 rate:0.0380 loss:6.2410 exploreP:0.9259\n",
      "Episode:41 meanR:18.7381 R:9.0 rate:0.0180 loss:6.0130 exploreP:0.9251\n",
      "Episode:42 meanR:18.5349 R:10.0 rate:0.0200 loss:5.9388 exploreP:0.9242\n",
      "Episode:43 meanR:18.4091 R:13.0 rate:0.0260 loss:6.1601 exploreP:0.9230\n",
      "Episode:44 meanR:18.3556 R:16.0 rate:0.0320 loss:6.3875 exploreP:0.9215\n",
      "Episode:45 meanR:18.4565 R:23.0 rate:0.0460 loss:8.5678 exploreP:0.9194\n",
      "Episode:46 meanR:18.3191 R:12.0 rate:0.0240 loss:6.2061 exploreP:0.9183\n",
      "Episode:47 meanR:18.1667 R:11.0 rate:0.0220 loss:6.6745 exploreP:0.9173\n",
      "Episode:48 meanR:17.9796 R:9.0 rate:0.0180 loss:8.1963 exploreP:0.9165\n",
      "Episode:49 meanR:18.2600 R:32.0 rate:0.0640 loss:9.9499 exploreP:0.9136\n",
      "Episode:50 meanR:18.3333 R:22.0 rate:0.0440 loss:12.6910 exploreP:0.9116\n",
      "Episode:51 meanR:18.2308 R:13.0 rate:0.0260 loss:13.9974 exploreP:0.9105\n",
      "Episode:52 meanR:18.7358 R:45.0 rate:0.0900 loss:13.9004 exploreP:0.9064\n",
      "Episode:53 meanR:18.7963 R:22.0 rate:0.0440 loss:17.0386 exploreP:0.9044\n",
      "Episode:54 meanR:18.9818 R:29.0 rate:0.0580 loss:15.5729 exploreP:0.9019\n",
      "Episode:55 meanR:18.8393 R:11.0 rate:0.0220 loss:22.6688 exploreP:0.9009\n",
      "Episode:56 meanR:18.7018 R:11.0 rate:0.0220 loss:16.1823 exploreP:0.8999\n",
      "Episode:57 meanR:18.5690 R:11.0 rate:0.0220 loss:25.0336 exploreP:0.8989\n",
      "Episode:58 meanR:18.4237 R:10.0 rate:0.0200 loss:17.2056 exploreP:0.8980\n",
      "Episode:59 meanR:18.8333 R:43.0 rate:0.0860 loss:24.8472 exploreP:0.8942\n",
      "Episode:60 meanR:18.7541 R:14.0 rate:0.0280 loss:20.1210 exploreP:0.8930\n",
      "Episode:61 meanR:18.7581 R:19.0 rate:0.0380 loss:28.5058 exploreP:0.8913\n",
      "Episode:62 meanR:18.6667 R:13.0 rate:0.0260 loss:33.3095 exploreP:0.8902\n",
      "Episode:63 meanR:18.5469 R:11.0 rate:0.0220 loss:28.4471 exploreP:0.8892\n",
      "Episode:64 meanR:18.4308 R:11.0 rate:0.0220 loss:35.1893 exploreP:0.8882\n",
      "Episode:65 meanR:18.3939 R:16.0 rate:0.0320 loss:30.9075 exploreP:0.8868\n",
      "Episode:66 meanR:18.2687 R:10.0 rate:0.0200 loss:32.5822 exploreP:0.8859\n",
      "Episode:67 meanR:18.5441 R:37.0 rate:0.0740 loss:40.0531 exploreP:0.8827\n",
      "Episode:68 meanR:18.4638 R:13.0 rate:0.0260 loss:43.4758 exploreP:0.8816\n",
      "Episode:69 meanR:18.5429 R:24.0 rate:0.0480 loss:46.0521 exploreP:0.8795\n",
      "Episode:70 meanR:18.8028 R:37.0 rate:0.0740 loss:67.8124 exploreP:0.8763\n",
      "Episode:71 meanR:18.7917 R:18.0 rate:0.0360 loss:84.3764 exploreP:0.8747\n",
      "Episode:72 meanR:18.7123 R:13.0 rate:0.0260 loss:71.8583 exploreP:0.8736\n",
      "Episode:73 meanR:18.5811 R:9.0 rate:0.0180 loss:64.1109 exploreP:0.8728\n",
      "Episode:74 meanR:18.5600 R:17.0 rate:0.0340 loss:71.0785 exploreP:0.8714\n",
      "Episode:75 meanR:18.4474 R:10.0 rate:0.0200 loss:97.6600 exploreP:0.8705\n",
      "Episode:76 meanR:18.5195 R:24.0 rate:0.0480 loss:73.4086 exploreP:0.8684\n",
      "Episode:77 meanR:18.6026 R:25.0 rate:0.0500 loss:73.7105 exploreP:0.8663\n",
      "Episode:78 meanR:18.5443 R:14.0 rate:0.0280 loss:81.7741 exploreP:0.8651\n",
      "Episode:79 meanR:18.7625 R:36.0 rate:0.0720 loss:87.2672 exploreP:0.8620\n",
      "Episode:80 meanR:18.7407 R:17.0 rate:0.0340 loss:81.7558 exploreP:0.8606\n",
      "Episode:81 meanR:19.0854 R:47.0 rate:0.0940 loss:98.3122 exploreP:0.8566\n",
      "Episode:82 meanR:19.0241 R:14.0 rate:0.0280 loss:131.2233 exploreP:0.8554\n",
      "Episode:83 meanR:19.0833 R:24.0 rate:0.0480 loss:97.5502 exploreP:0.8534\n",
      "Episode:84 meanR:19.0588 R:17.0 rate:0.0340 loss:89.9876 exploreP:0.8519\n",
      "Episode:85 meanR:19.0349 R:17.0 rate:0.0340 loss:122.3586 exploreP:0.8505\n",
      "Episode:86 meanR:19.0460 R:20.0 rate:0.0400 loss:88.4908 exploreP:0.8488\n",
      "Episode:87 meanR:18.9318 R:9.0 rate:0.0180 loss:121.0482 exploreP:0.8481\n",
      "Episode:88 meanR:18.8989 R:16.0 rate:0.0320 loss:121.9305 exploreP:0.8467\n",
      "Episode:89 meanR:18.8333 R:13.0 rate:0.0260 loss:126.7273 exploreP:0.8456\n",
      "Episode:90 meanR:18.7912 R:15.0 rate:0.0300 loss:119.7184 exploreP:0.8444\n",
      "Episode:91 meanR:18.7283 R:13.0 rate:0.0260 loss:94.6399 exploreP:0.8433\n",
      "Episode:92 meanR:18.6989 R:16.0 rate:0.0320 loss:100.9616 exploreP:0.8420\n",
      "Episode:93 meanR:18.6383 R:13.0 rate:0.0260 loss:68.4881 exploreP:0.8409\n",
      "Episode:94 meanR:18.6211 R:17.0 rate:0.0340 loss:112.2386 exploreP:0.8395\n",
      "Episode:95 meanR:18.5833 R:15.0 rate:0.0300 loss:92.6078 exploreP:0.8382\n",
      "Episode:96 meanR:18.8454 R:44.0 rate:0.0880 loss:110.2123 exploreP:0.8346\n",
      "Episode:97 meanR:18.7857 R:13.0 rate:0.0260 loss:97.5121 exploreP:0.8335\n",
      "Episode:98 meanR:18.7576 R:16.0 rate:0.0320 loss:71.9541 exploreP:0.8322\n",
      "Episode:99 meanR:19.0600 R:49.0 rate:0.0980 loss:70.3280 exploreP:0.8282\n",
      "Episode:100 meanR:18.8500 R:14.0 rate:0.0280 loss:105.8370 exploreP:0.8271\n",
      "Episode:101 meanR:18.9800 R:24.0 rate:0.0480 loss:93.0435 exploreP:0.8251\n",
      "Episode:102 meanR:18.8800 R:13.0 rate:0.0260 loss:84.2334 exploreP:0.8240\n",
      "Episode:103 meanR:18.8100 R:9.0 rate:0.0180 loss:86.2892 exploreP:0.8233\n",
      "Episode:104 meanR:18.9600 R:28.0 rate:0.0560 loss:77.7584 exploreP:0.8210\n",
      "Episode:105 meanR:18.9400 R:12.0 rate:0.0240 loss:83.3313 exploreP:0.8201\n",
      "Episode:106 meanR:18.7900 R:15.0 rate:0.0300 loss:85.0244 exploreP:0.8188\n",
      "Episode:107 meanR:18.7700 R:13.0 rate:0.0260 loss:62.3197 exploreP:0.8178\n",
      "Episode:108 meanR:18.7500 R:14.0 rate:0.0280 loss:61.2995 exploreP:0.8167\n",
      "Episode:109 meanR:18.7200 R:30.0 rate:0.0600 loss:66.4581 exploreP:0.8142\n",
      "Episode:110 meanR:18.6300 R:17.0 rate:0.0340 loss:66.5283 exploreP:0.8129\n",
      "Episode:111 meanR:18.5400 R:9.0 rate:0.0180 loss:72.4281 exploreP:0.8122\n",
      "Episode:112 meanR:18.4700 R:11.0 rate:0.0220 loss:68.7401 exploreP:0.8113\n"
     ]
    },
    {
     "name": "stdout",
     "output_type": "stream",
     "text": [
      "Episode:113 meanR:18.5500 R:25.0 rate:0.0500 loss:70.8447 exploreP:0.8093\n",
      "Episode:114 meanR:18.5200 R:15.0 rate:0.0300 loss:51.1485 exploreP:0.8081\n",
      "Episode:115 meanR:18.3300 R:16.0 rate:0.0320 loss:67.3481 exploreP:0.8068\n",
      "Episode:116 meanR:18.4200 R:24.0 rate:0.0480 loss:65.9991 exploreP:0.8049\n",
      "Episode:117 meanR:18.4400 R:11.0 rate:0.0220 loss:57.0044 exploreP:0.8040\n",
      "Episode:118 meanR:18.4600 R:15.0 rate:0.0300 loss:64.2328 exploreP:0.8028\n",
      "Episode:119 meanR:18.6700 R:46.0 rate:0.0920 loss:57.2678 exploreP:0.7992\n",
      "Episode:120 meanR:18.7400 R:26.0 rate:0.0520 loss:51.0270 exploreP:0.7971\n",
      "Episode:121 meanR:18.9000 R:33.0 rate:0.0660 loss:59.9051 exploreP:0.7945\n",
      "Episode:122 meanR:18.7400 R:17.0 rate:0.0340 loss:56.0064 exploreP:0.7932\n",
      "Episode:123 meanR:18.8200 R:21.0 rate:0.0420 loss:39.3432 exploreP:0.7916\n",
      "Episode:124 meanR:18.7800 R:9.0 rate:0.0180 loss:56.1961 exploreP:0.7909\n",
      "Episode:125 meanR:18.7600 R:9.0 rate:0.0180 loss:31.8512 exploreP:0.7902\n",
      "Episode:126 meanR:18.5700 R:14.0 rate:0.0280 loss:51.4088 exploreP:0.7891\n",
      "Episode:127 meanR:18.5900 R:18.0 rate:0.0360 loss:54.6159 exploreP:0.7877\n",
      "Episode:128 meanR:18.5300 R:15.0 rate:0.0300 loss:41.4782 exploreP:0.7865\n",
      "Episode:129 meanR:18.6700 R:34.0 rate:0.0680 loss:44.7238 exploreP:0.7839\n",
      "Episode:130 meanR:18.9100 R:37.0 rate:0.0740 loss:39.7238 exploreP:0.7810\n",
      "Episode:131 meanR:18.8400 R:10.0 rate:0.0200 loss:46.6646 exploreP:0.7802\n",
      "Episode:132 meanR:18.7800 R:15.0 rate:0.0300 loss:38.6921 exploreP:0.7791\n",
      "Episode:133 meanR:19.4100 R:76.0 rate:0.1520 loss:38.9747 exploreP:0.7733\n",
      "Episode:134 meanR:19.4400 R:30.0 rate:0.0600 loss:29.0855 exploreP:0.7710\n",
      "Episode:135 meanR:19.4200 R:9.0 rate:0.0180 loss:33.0293 exploreP:0.7703\n",
      "Episode:136 meanR:19.6300 R:37.0 rate:0.0740 loss:30.2678 exploreP:0.7675\n",
      "Episode:137 meanR:19.8700 R:35.0 rate:0.0700 loss:35.0349 exploreP:0.7648\n",
      "Episode:138 meanR:19.8600 R:13.0 rate:0.0260 loss:35.4128 exploreP:0.7639\n",
      "Episode:139 meanR:19.9700 R:31.0 rate:0.0620 loss:32.4636 exploreP:0.7615\n",
      "Episode:140 meanR:19.9100 R:13.0 rate:0.0260 loss:29.7182 exploreP:0.7605\n",
      "Episode:141 meanR:19.9700 R:15.0 rate:0.0300 loss:36.2951 exploreP:0.7594\n",
      "Episode:142 meanR:19.9700 R:10.0 rate:0.0200 loss:28.7345 exploreP:0.7587\n",
      "Episode:143 meanR:20.1100 R:27.0 rate:0.0540 loss:25.5019 exploreP:0.7567\n",
      "Episode:144 meanR:20.2500 R:30.0 rate:0.0600 loss:30.3889 exploreP:0.7544\n",
      "Episode:145 meanR:20.2600 R:24.0 rate:0.0480 loss:19.9987 exploreP:0.7526\n",
      "Episode:146 meanR:20.6400 R:50.0 rate:0.1000 loss:27.9239 exploreP:0.7489\n",
      "Episode:147 meanR:20.7100 R:18.0 rate:0.0360 loss:31.3816 exploreP:0.7476\n",
      "Episode:148 meanR:21.0700 R:45.0 rate:0.0900 loss:24.5050 exploreP:0.7443\n",
      "Episode:149 meanR:21.4200 R:67.0 rate:0.1340 loss:25.1945 exploreP:0.7394\n",
      "Episode:150 meanR:21.5000 R:30.0 rate:0.0600 loss:25.0417 exploreP:0.7372\n",
      "Episode:151 meanR:21.7500 R:38.0 rate:0.0760 loss:26.7577 exploreP:0.7344\n",
      "Episode:152 meanR:22.0500 R:75.0 rate:0.1500 loss:24.5441 exploreP:0.7290\n",
      "Episode:153 meanR:22.3000 R:47.0 rate:0.0940 loss:21.3260 exploreP:0.7257\n",
      "Episode:154 meanR:22.3900 R:38.0 rate:0.0760 loss:24.2272 exploreP:0.7229\n",
      "Episode:155 meanR:22.3800 R:10.0 rate:0.0200 loss:23.1035 exploreP:0.7222\n",
      "Episode:156 meanR:22.4900 R:22.0 rate:0.0440 loss:21.2189 exploreP:0.7207\n",
      "Episode:157 meanR:22.8400 R:46.0 rate:0.0920 loss:21.9268 exploreP:0.7174\n",
      "Episode:158 meanR:23.2400 R:50.0 rate:0.1000 loss:23.5554 exploreP:0.7139\n",
      "Episode:159 meanR:23.2200 R:41.0 rate:0.0820 loss:23.2989 exploreP:0.7110\n",
      "Episode:160 meanR:24.3800 R:130.0 rate:0.2600 loss:24.0940 exploreP:0.7019\n",
      "Episode:161 meanR:24.6000 R:41.0 rate:0.0820 loss:29.6749 exploreP:0.6991\n",
      "Episode:162 meanR:25.1500 R:68.0 rate:0.1360 loss:24.0088 exploreP:0.6944\n",
      "Episode:163 meanR:25.2000 R:16.0 rate:0.0320 loss:23.7209 exploreP:0.6933\n",
      "Episode:164 meanR:25.2500 R:16.0 rate:0.0320 loss:22.2767 exploreP:0.6923\n",
      "Episode:165 meanR:26.0800 R:99.0 rate:0.1980 loss:25.9801 exploreP:0.6855\n",
      "Episode:166 meanR:26.4500 R:47.0 rate:0.0940 loss:25.7415 exploreP:0.6824\n",
      "Episode:167 meanR:26.9300 R:85.0 rate:0.1700 loss:24.8989 exploreP:0.6767\n",
      "Episode:168 meanR:27.0200 R:22.0 rate:0.0440 loss:21.3266 exploreP:0.6752\n",
      "Episode:169 meanR:26.9400 R:16.0 rate:0.0320 loss:23.8391 exploreP:0.6741\n",
      "Episode:170 meanR:26.9000 R:33.0 rate:0.0660 loss:21.6971 exploreP:0.6720\n",
      "Episode:171 meanR:27.5300 R:81.0 rate:0.1620 loss:23.9593 exploreP:0.6666\n",
      "Episode:172 meanR:28.4200 R:102.0 rate:0.2040 loss:27.7813 exploreP:0.6600\n",
      "Episode:173 meanR:28.7100 R:38.0 rate:0.0760 loss:24.9530 exploreP:0.6575\n",
      "Episode:174 meanR:28.9900 R:45.0 rate:0.0900 loss:26.3336 exploreP:0.6546\n",
      "Episode:175 meanR:29.2000 R:31.0 rate:0.0620 loss:21.9727 exploreP:0.6526\n",
      "Episode:176 meanR:29.4900 R:53.0 rate:0.1060 loss:24.3561 exploreP:0.6492\n",
      "Episode:177 meanR:29.7900 R:55.0 rate:0.1100 loss:27.4758 exploreP:0.6457\n",
      "Episode:178 meanR:30.2000 R:55.0 rate:0.1100 loss:28.0107 exploreP:0.6422\n",
      "Episode:179 meanR:30.1500 R:31.0 rate:0.0620 loss:28.4948 exploreP:0.6402\n",
      "Episode:180 meanR:30.1600 R:18.0 rate:0.0360 loss:22.6455 exploreP:0.6391\n",
      "Episode:181 meanR:30.3100 R:62.0 rate:0.1240 loss:27.2689 exploreP:0.6352\n",
      "Episode:182 meanR:30.4400 R:27.0 rate:0.0540 loss:29.1068 exploreP:0.6335\n",
      "Episode:183 meanR:30.3800 R:18.0 rate:0.0360 loss:27.7808 exploreP:0.6324\n",
      "Episode:184 meanR:30.5900 R:38.0 rate:0.0760 loss:27.3094 exploreP:0.6301\n",
      "Episode:185 meanR:30.6600 R:24.0 rate:0.0480 loss:30.0735 exploreP:0.6286\n",
      "Episode:186 meanR:30.5700 R:11.0 rate:0.0220 loss:35.7994 exploreP:0.6279\n",
      "Episode:187 meanR:30.6500 R:17.0 rate:0.0340 loss:28.6252 exploreP:0.6268\n",
      "Episode:188 meanR:30.7200 R:23.0 rate:0.0460 loss:29.0442 exploreP:0.6254\n",
      "Episode:189 meanR:30.8800 R:29.0 rate:0.0580 loss:27.8813 exploreP:0.6236\n",
      "Episode:190 meanR:31.1600 R:43.0 rate:0.0860 loss:26.7970 exploreP:0.6210\n",
      "Episode:191 meanR:31.4700 R:44.0 rate:0.0880 loss:27.1445 exploreP:0.6183\n",
      "Episode:192 meanR:31.5000 R:19.0 rate:0.0380 loss:33.7162 exploreP:0.6172\n",
      "Episode:193 meanR:31.6800 R:31.0 rate:0.0620 loss:32.6332 exploreP:0.6153\n",
      "Episode:194 meanR:31.7600 R:25.0 rate:0.0500 loss:29.0481 exploreP:0.6138\n",
      "Episode:195 meanR:33.2900 R:168.0 rate:0.3360 loss:32.9168 exploreP:0.6037\n",
      "Episode:196 meanR:33.6800 R:83.0 rate:0.1660 loss:30.8683 exploreP:0.5988\n",
      "Episode:197 meanR:33.9900 R:44.0 rate:0.0880 loss:33.6082 exploreP:0.5962\n",
      "Episode:198 meanR:34.0300 R:20.0 rate:0.0400 loss:40.9602 exploreP:0.5951\n",
      "Episode:199 meanR:33.8600 R:32.0 rate:0.0640 loss:37.7856 exploreP:0.5932\n",
      "Episode:200 meanR:34.0900 R:37.0 rate:0.0740 loss:38.9364 exploreP:0.5910\n",
      "Episode:201 meanR:34.1900 R:34.0 rate:0.0680 loss:34.4758 exploreP:0.5891\n",
      "Episode:202 meanR:34.7700 R:71.0 rate:0.1420 loss:38.3047 exploreP:0.5850\n",
      "Episode:203 meanR:35.1100 R:43.0 rate:0.0860 loss:41.9058 exploreP:0.5825\n",
      "Episode:204 meanR:34.9500 R:12.0 rate:0.0240 loss:37.2172 exploreP:0.5818\n",
      "Episode:205 meanR:35.4000 R:57.0 rate:0.1140 loss:41.3809 exploreP:0.5786\n",
      "Episode:206 meanR:35.7300 R:48.0 rate:0.0960 loss:38.1753 exploreP:0.5758\n",
      "Episode:207 meanR:35.8700 R:27.0 rate:0.0540 loss:33.9015 exploreP:0.5743\n",
      "Episode:208 meanR:35.9700 R:24.0 rate:0.0480 loss:29.4551 exploreP:0.5730\n",
      "Episode:209 meanR:36.9000 R:123.0 rate:0.2460 loss:36.3975 exploreP:0.5661\n",
      "Episode:210 meanR:37.2500 R:52.0 rate:0.1040 loss:36.0134 exploreP:0.5632\n",
      "Episode:211 meanR:37.3400 R:18.0 rate:0.0360 loss:41.5379 exploreP:0.5622\n",
      "Episode:212 meanR:38.0700 R:84.0 rate:0.1680 loss:42.2999 exploreP:0.5576\n",
      "Episode:213 meanR:38.4800 R:66.0 rate:0.1320 loss:38.2055 exploreP:0.5540\n",
      "Episode:214 meanR:38.6200 R:29.0 rate:0.0580 loss:45.3776 exploreP:0.5524\n",
      "Episode:215 meanR:38.6800 R:22.0 rate:0.0440 loss:47.4087 exploreP:0.5512\n",
      "Episode:216 meanR:39.2800 R:84.0 rate:0.1680 loss:40.4842 exploreP:0.5467\n",
      "Episode:217 meanR:39.3100 R:14.0 rate:0.0280 loss:41.3482 exploreP:0.5459\n",
      "Episode:218 meanR:39.5900 R:43.0 rate:0.0860 loss:34.0781 exploreP:0.5436\n",
      "Episode:219 meanR:39.5200 R:39.0 rate:0.0780 loss:53.7935 exploreP:0.5416\n",
      "Episode:220 meanR:39.6700 R:41.0 rate:0.0820 loss:47.0806 exploreP:0.5394\n",
      "Episode:221 meanR:40.2400 R:90.0 rate:0.1800 loss:46.5469 exploreP:0.5346\n",
      "Episode:222 meanR:40.4500 R:38.0 rate:0.0760 loss:39.1911 exploreP:0.5326\n",
      "Episode:223 meanR:40.8800 R:64.0 rate:0.1280 loss:47.3543 exploreP:0.5293\n"
     ]
    },
    {
     "name": "stdout",
     "output_type": "stream",
     "text": [
      "Episode:224 meanR:41.7000 R:91.0 rate:0.1820 loss:46.6732 exploreP:0.5246\n",
      "Episode:225 meanR:41.8100 R:20.0 rate:0.0400 loss:56.3057 exploreP:0.5236\n",
      "Episode:226 meanR:42.1700 R:50.0 rate:0.1000 loss:48.6598 exploreP:0.5210\n",
      "Episode:227 meanR:42.6300 R:64.0 rate:0.1280 loss:51.2460 exploreP:0.5178\n",
      "Episode:228 meanR:42.6500 R:17.0 rate:0.0340 loss:47.2194 exploreP:0.5169\n",
      "Episode:229 meanR:42.5200 R:21.0 rate:0.0420 loss:48.2316 exploreP:0.5158\n",
      "Episode:230 meanR:42.5200 R:37.0 rate:0.0740 loss:34.7900 exploreP:0.5140\n",
      "Episode:231 meanR:43.6100 R:119.0 rate:0.2380 loss:57.9396 exploreP:0.5080\n",
      "Episode:232 meanR:44.8300 R:137.0 rate:0.2740 loss:51.8155 exploreP:0.5012\n",
      "Episode:233 meanR:44.3000 R:23.0 rate:0.0460 loss:58.5103 exploreP:0.5001\n",
      "Episode:234 meanR:44.4300 R:43.0 rate:0.0860 loss:52.6248 exploreP:0.4980\n",
      "Episode:235 meanR:44.6800 R:34.0 rate:0.0680 loss:54.3524 exploreP:0.4963\n",
      "Episode:236 meanR:45.2300 R:92.0 rate:0.1840 loss:53.1350 exploreP:0.4919\n",
      "Episode:237 meanR:45.6500 R:77.0 rate:0.1540 loss:53.9244 exploreP:0.4882\n",
      "Episode:238 meanR:45.9500 R:43.0 rate:0.0860 loss:51.4984 exploreP:0.4861\n",
      "Episode:239 meanR:45.9300 R:29.0 rate:0.0580 loss:50.3165 exploreP:0.4848\n",
      "Episode:240 meanR:46.3800 R:58.0 rate:0.1160 loss:59.4671 exploreP:0.4820\n",
      "Episode:241 meanR:46.7000 R:47.0 rate:0.0940 loss:48.7566 exploreP:0.4798\n",
      "Episode:242 meanR:47.3100 R:71.0 rate:0.1420 loss:56.3763 exploreP:0.4765\n",
      "Episode:243 meanR:47.4100 R:37.0 rate:0.0740 loss:49.7284 exploreP:0.4748\n",
      "Episode:244 meanR:47.2400 R:13.0 rate:0.0260 loss:58.3696 exploreP:0.4741\n",
      "Episode:245 meanR:47.4800 R:48.0 rate:0.0960 loss:63.4636 exploreP:0.4719\n",
      "Episode:246 meanR:47.4300 R:45.0 rate:0.0900 loss:57.0913 exploreP:0.4699\n",
      "Episode:247 meanR:47.7100 R:46.0 rate:0.0920 loss:50.4346 exploreP:0.4677\n",
      "Episode:248 meanR:48.3600 R:110.0 rate:0.2200 loss:60.1399 exploreP:0.4627\n",
      "Episode:249 meanR:48.4600 R:77.0 rate:0.1540 loss:67.4131 exploreP:0.4593\n",
      "Episode:250 meanR:49.7400 R:158.0 rate:0.3160 loss:60.4536 exploreP:0.4522\n",
      "Episode:251 meanR:50.4300 R:107.0 rate:0.2140 loss:67.8346 exploreP:0.4475\n",
      "Episode:252 meanR:50.4100 R:73.0 rate:0.1460 loss:65.1096 exploreP:0.4443\n",
      "Episode:253 meanR:50.5400 R:60.0 rate:0.1200 loss:60.3657 exploreP:0.4417\n",
      "Episode:254 meanR:50.5400 R:38.0 rate:0.0760 loss:69.9856 exploreP:0.4401\n",
      "Episode:255 meanR:50.9100 R:47.0 rate:0.0940 loss:63.6321 exploreP:0.4381\n",
      "Episode:256 meanR:51.5300 R:84.0 rate:0.1680 loss:63.1039 exploreP:0.4345\n",
      "Episode:257 meanR:51.6700 R:60.0 rate:0.1200 loss:72.1144 exploreP:0.4320\n",
      "Episode:258 meanR:52.8100 R:164.0 rate:0.3280 loss:68.2471 exploreP:0.4251\n",
      "Episode:259 meanR:52.8400 R:44.0 rate:0.0880 loss:69.9501 exploreP:0.4233\n",
      "Episode:260 meanR:51.9400 R:40.0 rate:0.0800 loss:67.6648 exploreP:0.4216\n",
      "Episode:261 meanR:52.3600 R:83.0 rate:0.1660 loss:72.7688 exploreP:0.4182\n",
      "Episode:262 meanR:52.6700 R:99.0 rate:0.1980 loss:70.8619 exploreP:0.4142\n",
      "Episode:263 meanR:53.3500 R:84.0 rate:0.1680 loss:72.3288 exploreP:0.4108\n",
      "Episode:264 meanR:54.2800 R:109.0 rate:0.2180 loss:70.7256 exploreP:0.4065\n",
      "Episode:265 meanR:53.8800 R:59.0 rate:0.1180 loss:77.9616 exploreP:0.4041\n",
      "Episode:266 meanR:54.2300 R:82.0 rate:0.1640 loss:68.9817 exploreP:0.4009\n",
      "Episode:267 meanR:54.7000 R:132.0 rate:0.2640 loss:77.8337 exploreP:0.3958\n",
      "Episode:268 meanR:55.5300 R:105.0 rate:0.2100 loss:67.0820 exploreP:0.3918\n",
      "Episode:269 meanR:56.4000 R:103.0 rate:0.2060 loss:71.1638 exploreP:0.3879\n",
      "Episode:270 meanR:56.6600 R:59.0 rate:0.1180 loss:95.0179 exploreP:0.3856\n",
      "Episode:271 meanR:56.9900 R:114.0 rate:0.2280 loss:84.2192 exploreP:0.3814\n",
      "Episode:272 meanR:57.3400 R:137.0 rate:0.2740 loss:81.3882 exploreP:0.3763\n",
      "Episode:273 meanR:58.6300 R:167.0 rate:0.3340 loss:84.6225 exploreP:0.3703\n",
      "Episode:274 meanR:59.0000 R:82.0 rate:0.1640 loss:83.8452 exploreP:0.3673\n",
      "Episode:275 meanR:59.4600 R:77.0 rate:0.1540 loss:85.2676 exploreP:0.3646\n",
      "Episode:276 meanR:59.3500 R:42.0 rate:0.0840 loss:95.6296 exploreP:0.3631\n",
      "Episode:277 meanR:59.9500 R:115.0 rate:0.2300 loss:90.4584 exploreP:0.3590\n",
      "Episode:278 meanR:60.0400 R:64.0 rate:0.1280 loss:82.2725 exploreP:0.3568\n",
      "Episode:279 meanR:60.2700 R:54.0 rate:0.1080 loss:85.5886 exploreP:0.3550\n",
      "Episode:280 meanR:62.3600 R:227.0 rate:0.4540 loss:88.4442 exploreP:0.3472\n",
      "Episode:281 meanR:63.3400 R:160.0 rate:0.3200 loss:88.5587 exploreP:0.3419\n",
      "Episode:282 meanR:64.9900 R:192.0 rate:0.3840 loss:89.1622 exploreP:0.3355\n",
      "Episode:283 meanR:66.1300 R:132.0 rate:0.2640 loss:93.6880 exploreP:0.3313\n",
      "Episode:284 meanR:66.5700 R:82.0 rate:0.1640 loss:101.0905 exploreP:0.3287\n",
      "Episode:285 meanR:68.4400 R:211.0 rate:0.4220 loss:92.8509 exploreP:0.3220\n",
      "Episode:286 meanR:69.3600 R:103.0 rate:0.2060 loss:100.4521 exploreP:0.3188\n",
      "Episode:287 meanR:70.7100 R:152.0 rate:0.3040 loss:97.8624 exploreP:0.3141\n",
      "Episode:288 meanR:70.9300 R:45.0 rate:0.0900 loss:100.7045 exploreP:0.3128\n",
      "Episode:289 meanR:72.5900 R:195.0 rate:0.3900 loss:109.3229 exploreP:0.3069\n",
      "Episode:290 meanR:74.0000 R:184.0 rate:0.3680 loss:100.6137 exploreP:0.3015\n",
      "Episode:291 meanR:75.2700 R:171.0 rate:0.3420 loss:110.5491 exploreP:0.2966\n",
      "Episode:292 meanR:76.8800 R:180.0 rate:0.3600 loss:115.1665 exploreP:0.2915\n",
      "Episode:293 meanR:78.2600 R:169.0 rate:0.3380 loss:114.6469 exploreP:0.2867\n",
      "Episode:294 meanR:79.6000 R:159.0 rate:0.3180 loss:122.0801 exploreP:0.2824\n",
      "Episode:295 meanR:79.1300 R:121.0 rate:0.2420 loss:106.9208 exploreP:0.2791\n",
      "Episode:296 meanR:79.4300 R:113.0 rate:0.2260 loss:123.5062 exploreP:0.2761\n",
      "Episode:297 meanR:80.3700 R:138.0 rate:0.2760 loss:113.6678 exploreP:0.2724\n",
      "Episode:298 meanR:85.1700 R:500.0 rate:1.0000 loss:135.3273 exploreP:0.2596\n",
      "Episode:299 meanR:86.3900 R:154.0 rate:0.3080 loss:132.0303 exploreP:0.2558\n",
      "Episode:300 meanR:88.1100 R:209.0 rate:0.4180 loss:131.7988 exploreP:0.2507\n",
      "Episode:301 meanR:90.0500 R:228.0 rate:0.4560 loss:134.9630 exploreP:0.2453\n",
      "Episode:302 meanR:91.6300 R:229.0 rate:0.4580 loss:144.1832 exploreP:0.2400\n",
      "Episode:303 meanR:93.7100 R:251.0 rate:0.5020 loss:142.4051 exploreP:0.2343\n",
      "Episode:304 meanR:95.5800 R:199.0 rate:0.3980 loss:153.6607 exploreP:0.2299\n",
      "Episode:305 meanR:97.9600 R:295.0 rate:0.5900 loss:146.9223 exploreP:0.2235\n",
      "Episode:306 meanR:99.8600 R:238.0 rate:0.4760 loss:156.6845 exploreP:0.2185\n",
      "Episode:307 meanR:101.1800 R:159.0 rate:0.3180 loss:168.1145 exploreP:0.2152\n",
      "Episode:308 meanR:102.6500 R:171.0 rate:0.3420 loss:164.0472 exploreP:0.2117\n",
      "Episode:309 meanR:104.5000 R:308.0 rate:0.6160 loss:171.4335 exploreP:0.2056\n",
      "Episode:310 meanR:106.6400 R:266.0 rate:0.5320 loss:162.2779 exploreP:0.2004\n",
      "Episode:311 meanR:109.3800 R:292.0 rate:0.5840 loss:174.9093 exploreP:0.1950\n",
      "Episode:312 meanR:110.5200 R:198.0 rate:0.3960 loss:174.3589 exploreP:0.1913\n",
      "Episode:313 meanR:112.3600 R:250.0 rate:0.5000 loss:179.8354 exploreP:0.1869\n",
      "Episode:314 meanR:114.1100 R:204.0 rate:0.4080 loss:201.3522 exploreP:0.1833\n",
      "Episode:315 meanR:116.0800 R:219.0 rate:0.4380 loss:195.4730 exploreP:0.1795\n",
      "Episode:316 meanR:118.8200 R:358.0 rate:0.7160 loss:209.6508 exploreP:0.1736\n",
      "Episode:317 meanR:120.7300 R:205.0 rate:0.4100 loss:215.3269 exploreP:0.1702\n",
      "Episode:318 meanR:124.2100 R:391.0 rate:0.7820 loss:225.8120 exploreP:0.1641\n",
      "Episode:319 meanR:128.3700 R:455.0 rate:0.9100 loss:237.2537 exploreP:0.1572\n",
      "Episode:320 meanR:130.7300 R:277.0 rate:0.5540 loss:252.7799 exploreP:0.1532\n",
      "Episode:321 meanR:134.8300 R:500.0 rate:1.0000 loss:267.4601 exploreP:0.1462\n",
      "Episode:322 meanR:136.9600 R:251.0 rate:0.5020 loss:288.7416 exploreP:0.1429\n",
      "Episode:323 meanR:138.8300 R:251.0 rate:0.5020 loss:247.2139 exploreP:0.1396\n",
      "Episode:324 meanR:140.9500 R:303.0 rate:0.6060 loss:269.1635 exploreP:0.1357\n",
      "Episode:325 meanR:145.0000 R:425.0 rate:0.8500 loss:294.6640 exploreP:0.1305\n",
      "Episode:326 meanR:146.8700 R:237.0 rate:0.4740 loss:298.0877 exploreP:0.1276\n",
      "Episode:327 meanR:149.0800 R:285.0 rate:0.5700 loss:305.8335 exploreP:0.1243\n",
      "Episode:328 meanR:153.9100 R:500.0 rate:1.0000 loss:314.8126 exploreP:0.1188\n",
      "Episode:329 meanR:158.0700 R:437.0 rate:0.8740 loss:324.1880 exploreP:0.1141\n",
      "Episode:330 meanR:159.8500 R:215.0 rate:0.4300 loss:354.2368 exploreP:0.1119\n",
      "Episode:331 meanR:163.5600 R:490.0 rate:0.9800 loss:344.3624 exploreP:0.1070\n",
      "Episode:332 meanR:166.1500 R:396.0 rate:0.7920 loss:347.6158 exploreP:0.1033\n"
     ]
    },
    {
     "name": "stdout",
     "output_type": "stream",
     "text": [
      "Episode:333 meanR:169.1600 R:324.0 rate:0.6480 loss:353.4045 exploreP:0.1003\n",
      "Episode:334 meanR:173.0000 R:427.0 rate:0.8540 loss:379.3970 exploreP:0.0965\n",
      "Episode:335 meanR:177.2200 R:456.0 rate:0.9120 loss:370.5241 exploreP:0.0927\n",
      "Episode:336 meanR:180.0000 R:370.0 rate:0.7400 loss:369.4720 exploreP:0.0897\n",
      "Episode:337 meanR:183.9200 R:469.0 rate:0.9380 loss:409.1259 exploreP:0.0860\n",
      "Episode:338 meanR:186.3700 R:288.0 rate:0.5760 loss:418.8850 exploreP:0.0838\n",
      "Episode:339 meanR:191.0800 R:500.0 rate:1.0000 loss:396.0710 exploreP:0.0802\n",
      "Episode:340 meanR:193.3500 R:285.0 rate:0.5700 loss:388.8001 exploreP:0.0783\n",
      "Episode:341 meanR:196.6100 R:373.0 rate:0.7460 loss:410.9783 exploreP:0.0758\n",
      "Episode:342 meanR:200.9000 R:500.0 rate:1.0000 loss:404.9829 exploreP:0.0726\n",
      "Episode:343 meanR:205.5300 R:500.0 rate:1.0000 loss:413.1300 exploreP:0.0695\n",
      "Episode:344 meanR:209.1400 R:374.0 rate:0.7480 loss:420.5176 exploreP:0.0673\n",
      "Episode:345 meanR:213.6600 R:500.0 rate:1.0000 loss:426.9481 exploreP:0.0645\n",
      "Episode:346 meanR:216.4500 R:324.0 rate:0.6480 loss:423.4398 exploreP:0.0628\n",
      "Episode:347 meanR:218.4700 R:248.0 rate:0.4960 loss:450.9677 exploreP:0.0615\n",
      "Episode:348 meanR:220.2600 R:289.0 rate:0.5780 loss:398.4324 exploreP:0.0600\n",
      "Episode:349 meanR:222.1500 R:266.0 rate:0.5320 loss:414.7389 exploreP:0.0587\n",
      "Episode:350 meanR:223.3600 R:279.0 rate:0.5580 loss:412.1425 exploreP:0.0574\n",
      "Episode:351 meanR:225.4200 R:313.0 rate:0.6260 loss:433.2551 exploreP:0.0559\n",
      "Episode:352 meanR:227.0400 R:235.0 rate:0.4700 loss:414.1640 exploreP:0.0549\n",
      "Episode:353 meanR:231.4400 R:500.0 rate:1.0000 loss:404.6919 exploreP:0.0527\n",
      "Episode:354 meanR:233.7700 R:271.0 rate:0.5420 loss:429.0298 exploreP:0.0515\n",
      "Episode:355 meanR:236.8200 R:352.0 rate:0.7040 loss:409.9064 exploreP:0.0501\n"
     ]
    }
   ],
   "source": [
    "# Save/load the model and save for plotting\n",
    "saver = tf.train.Saver()\n",
    "episode_rewards_list, rewards_list, loss_list = [], [], []\n",
    "\n",
    "# TF session for training\n",
    "with tf.Session(graph=graph) as sess:\n",
    "    sess.run(tf.global_variables_initializer())\n",
    "    #saver.restore(sess, 'checkpoints/model.ckpt')    \n",
    "    #saver.restore(sess, tf.train.latest_checkpoint('checkpoints'))\n",
    "    total_step = 0 # Explore or exploit parameter\n",
    "    episode_reward = deque(maxlen=100) # 100 episodes average/running average/running mean/window\n",
    "    \n",
    "    # Training episodes/epochs\n",
    "    for ep in range(1111):\n",
    "        total_reward = 0\n",
    "        loss_batch = []\n",
    "        state = env.reset()\n",
    "        num_step = 0 # each episode\n",
    "\n",
    "        # Training steps/batches\n",
    "        while True:\n",
    "            # Explore (Env) or Exploit (Model)\n",
    "            total_step += 1\n",
    "            explore_p = explore_stop + (explore_start - explore_stop) * np.exp(-decay_rate * total_step) \n",
    "            if explore_p > np.random.rand():\n",
    "                action = env.action_space.sample()\n",
    "            else:\n",
    "                action_logits = sess.run(model.actions_logits, feed_dict={model.states: state.reshape([1, -1])})\n",
    "                action = np.argmax(action_logits)\n",
    "            next_state, reward, done, _ = env.step(action)\n",
    "            memory.buffer.append([state, action, next_state, reward, float(done), -1])\n",
    "            num_step += 1 # momory added\n",
    "            total_reward += reward\n",
    "            state = next_state\n",
    "\n",
    "            # Rating the memory\n",
    "            if done is True:\n",
    "                rate = total_reward/ goal # update rate at the end/ when episode is done\n",
    "                for idx in range(num_step): # episode length\n",
    "                    if memory.buffer[-1-idx][5] == -1: # double-check if it is empty and it is not rated!\n",
    "                        memory.buffer[-1-idx][5] = rate # rate each SA pair\n",
    "\n",
    "            #sortedmemory = sorted(memory.buffer, key=lambda col:col[-1], reverse=True) # every episode\n",
    "            sortedmemory = sorted(memory.buffer, key=lambda col:col[5], reverse=True) # every episode\n",
    "            #ratedmemlength = len(sortedmemory)//2 # max rated half\n",
    "            ratedbatch = [sortedmemory[idx] for idx in range(len(sortedmemory)//2)]\n",
    "            batch = sample(batch_size=batch_size, ListArr=ratedbatch)\n",
    "            states = np.array([each[0] for each in batch])#[idx*batch_size:(idx+1)*batch_size]\n",
    "            actions = np.array([each[1] for each in batch])#[idx*batch_size:(idx+1)*batch_size]\n",
    "            next_states = np.array([each[2] for each in batch])#[idx*batch_size:(idx+1)*batch_size]\n",
    "            rewards = np.array([each[3] for each in batch])#[idx*batch_size:(idx+1)*batch_size]\n",
    "            dones = np.array([each[4] for each in batch])#[idx*batch_size:(idx+1)*batch_size]\n",
    "            rates = np.array([each[5] for each in batch])#[idx*batch_size:(idx+1)*batch_size] # the fifth one\n",
    "            #nextQs_logits = sess.run(model.Qs_logits, feed_dict = {model.states: next_states})\n",
    "            next_actions_logits = sess.run(model.actions_logits, feed_dict = {model.states: next_states})\n",
    "            nextQs = np.max(next_actions_logits, axis=1) * (1-dones)\n",
    "            targetQs = rewards + (gamma * nextQs)\n",
    "            loss, _ = sess.run([model.loss, model.opt], feed_dict = {model.states: states, \n",
    "                                                                     model.actions: actions,\n",
    "                                                                     model.targetQs: targetQs})\n",
    "            loss_batch.append(loss)\n",
    "            if done is True:\n",
    "                break\n",
    "                \n",
    "        episode_reward.append(total_reward)\n",
    "        print('Episode:{}'.format(ep),\n",
    "              'meanR:{:.4f}'.format(np.mean(episode_reward)),\n",
    "              'R:{}'.format(total_reward),\n",
    "              'rate:{:.4f}'.format(rate),\n",
    "              'loss:{:.4f}'.format(np.mean(loss_batch)),\n",
    "              'exploreP:{:.4f}'.format(explore_p))\n",
    "        # Ploting out\n",
    "        episode_rewards_list.append([ep, np.mean(episode_reward)])\n",
    "        rewards_list.append([ep, total_reward])\n",
    "        loss_list.append([ep, np.mean(loss_batch)])\n",
    "        # Break episode/epoch loop\n",
    "        if np.mean(episode_reward) >= 500:\n",
    "            break\n",
    "            \n",
    "    # At the end of all training episodes/epochs\n",
    "    saver.save(sess, 'checkpoints/model.ckpt')"
   ]
  },
  {
   "cell_type": "markdown",
   "metadata": {},
   "source": [
    "# Visualizing training\n",
    "\n",
    "Below I'll plot the total rewards for each episode. I'm plotting the rolling average too, in blue."
   ]
  },
  {
   "cell_type": "code",
   "execution_count": 202,
   "metadata": {},
   "outputs": [],
   "source": [
    "%matplotlib inline\n",
    "import matplotlib.pyplot as plt\n",
    "\n",
    "def running_mean(x, N):\n",
    "    cumsum = np.cumsum(np.insert(x, 0, 0)) \n",
    "    return (cumsum[N:] - cumsum[:-N]) / N "
   ]
  },
  {
   "cell_type": "code",
   "execution_count": 203,
   "metadata": {},
   "outputs": [
    {
     "data": {
      "text/plain": [
       "Text(0, 0.5, 'Total rewards')"
      ]
     },
     "execution_count": 203,
     "metadata": {},
     "output_type": "execute_result"
    },
    {
     "data": {
      "image/png": "[encoded data removed]",
      "text/plain": [
       "<Figure size 432x288 with 1 Axes>"
      ]
     },
     "metadata": {
      "needs_background": "light"
     },
     "output_type": "display_data"
    }
   ],
   "source": [
    "eps, arr = np.array(episode_rewards_list).T\n",
    "smoothed_arr = running_mean(arr, 10)\n",
    "plt.plot(eps[-len(smoothed_arr):], smoothed_arr)\n",
    "plt.plot(eps, arr, color='grey', alpha=0.3)\n",
    "plt.xlabel('Episode')\n",
    "plt.ylabel('Total rewards')"
   ]
  },
  {
   "cell_type": "code",
   "execution_count": 24,
   "metadata": {},
   "outputs": [
    {
     "data": {
      "text/plain": [
       "Text(0, 0.5, 'Total rewards')"
      ]
     },
     "execution_count": 24,
     "metadata": {},
     "output_type": "execute_result"
    },
    {
     "data": {
      "image/png": "[encoded data removed]",
      "text/plain": [
       "<Figure size 432x288 with 1 Axes>"
      ]
     },
     "metadata": {
      "needs_background": "light"
     },
     "output_type": "display_data"
    }
   ],
   "source": [
    "eps, arr = np.array(rewards_list).T\n",
    "smoothed_arr = running_mean(arr, 10)\n",
    "plt.plot(eps[-len(smoothed_arr):], smoothed_arr)\n",
    "plt.plot(eps, arr, color='grey', alpha=0.3)\n",
    "plt.xlabel('Episode')\n",
    "plt.ylabel('Total rewards')"
   ]
  },
  {
   "cell_type": "code",
   "execution_count": 25,
   "metadata": {},
   "outputs": [
    {
     "data": {
      "text/plain": [
       "Text(0, 0.5, 'Average losses')"
      ]
     },
     "execution_count": 25,
     "metadata": {},
     "output_type": "execute_result"
    },
    {
     "data": {
      "image/png": "[encoded data removed]",
      "text/plain": [
       "<Figure size 432x288 with 1 Axes>"
      ]
     },
     "metadata": {
      "needs_background": "light"
     },
     "output_type": "display_data"
    }
   ],
   "source": [
    "eps, arr = np.array(loss_list).T\n",
    "smoothed_arr = running_mean(arr, 10)\n",
    "plt.plot(eps[-len(smoothed_arr):], smoothed_arr)\n",
    "plt.plot(eps, arr, color='grey', alpha=0.3)\n",
    "plt.xlabel('Episode')\n",
    "plt.ylabel('Average losses')"
   ]
  },
  {
   "cell_type": "markdown",
   "metadata": {},
   "source": [
    "## Testing\n",
    "\n",
    "Let's checkout how our trained agent plays the game."
   ]
  },
  {
   "cell_type": "code",
   "execution_count": 24,
   "metadata": {},
   "outputs": [
    {
     "name": "stdout",
     "output_type": "stream",
     "text": [
      "INFO:tensorflow:Restoring parameters from checkpoints/model.ckpt\n",
      "total_reward: 500.0\n",
      "total_reward: 500.0\n",
      "total_reward: 500.0\n",
      "total_reward: 500.0\n",
      "total_reward: 500.0\n",
      "total_reward: 500.0\n",
      "total_reward: 500.0\n",
      "total_reward: 500.0\n",
      "total_reward: 500.0\n",
      "total_reward: 500.0\n"
     ]
    }
   ],
   "source": [
    "# Creating a gym env\n",
    "import gym\n",
    "env = gym.make('CartPole-v0')\n",
    "env = gym.make('CartPole-v1')\n",
    "\n",
    "# A training graph session\n",
    "with tf.Session(graph=graph) as sess:\n",
    "    #sess.run(tf.global_variables_initializer())\n",
    "    #saver.restore(sess, 'checkpoints/model.ckpt')    \n",
    "    saver.restore(sess, tf.train.latest_checkpoint('checkpoints'))\n",
    "    \n",
    "    # Episodes/epochs\n",
    "    for _ in range(10):\n",
    "        state = env.reset()\n",
    "        total_reward = 0\n",
    "\n",
    "        # Steps/batches\n",
    "        while True:\n",
    "            env.render()\n",
    "            action_logits = sess.run(model.actions_logits, feed_dict={model.states: np.reshape(state, [1, -1])})\n",
    "            action = np.argmax(action_logits)\n",
    "            state, reward, done, _ = env.step(action)\n",
    "            total_reward += reward\n",
    "            if done:\n",
    "                break\n",
    "                \n",
    "        # Closing the env\n",
    "        print('total_reward: {}'.format(total_reward))\n",
    "# Close the env at the end\n",
    "env.close()"
   ]
  },
  {
   "cell_type": "markdown",
   "metadata": {},
   "source": [
    "## Extending this\n",
    "\n",
    "So, Cart-Pole is a pretty simple game. However, the same model can be used to train an agent to play something much more complicated like Pong or Space Invaders. Instead of a state like we're using here though, you'd want to use convolutional layers to get the state from the screen images.\n",
    "\n",
    "![Deep Q-Learning Atari](assets/atari-network.png)\n",
    "\n",
    "I'll leave it as a challenge for you to use deep Q-learning to train an agent to play Atari games. Here's the original paper which will get you started: http://www.davidqiu.com:8888/research/nature14236.pdf."
   ]
  },
  {
   "cell_type": "code",
   "execution_count": null,
   "metadata": {},
   "outputs": [],
   "source": []
  }
 ],
 "metadata": {
  "kernelspec": {
   "display_name": "Python 3",
   "language": "python",
   "name": "python3"
  },
  "language_info": {
   "codemirror_mode": {
    "name": "ipython",
    "version": 3
   },
   "file_extension": ".py",
   "mimetype": "text/x-python",
   "name": "python",
   "nbconvert_exporter": "python",
   "pygments_lexer": "ipython3",
   "version": "3.6.6"
  }
 },
 "nbformat": 4,
 "nbformat_minor": 2
}
