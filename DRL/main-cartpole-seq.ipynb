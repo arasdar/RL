{
 "cells": [
  {
   "cell_type": "markdown",
   "metadata": {},
   "source": [
    "# Sequential DQN\n",
    "\n",
    "In this notebook, we'll build a neural network that can learn to play games through reinforcement learning. More specifically, we'll use Q-learning to train an agent to play a game called [Cart-Pole](https://gym.openai.com/envs/CartPole-v0). In this game, a freely swinging pole is attached to a cart. The cart can move to the left and right, and the goal is to keep the pole upright as long as possible.\n",
    "\n",
    "![Cart-Pole](assets/cart-pole.jpg)\n",
    "\n",
    "We can simulate this game using [OpenAI Gym](https://gym.openai.com/). First, let's check out how OpenAI Gym works. Then, we'll get into training an agent to play the Cart-Pole game."
   ]
  },
  {
   "cell_type": "code",
   "execution_count": 1,
   "metadata": {},
   "outputs": [
    {
     "name": "stderr",
     "output_type": "stream",
     "text": [
      "/home/aras/anaconda3/lib/python3.6/site-packages/h5py/__init__.py:36: FutureWarning: Conversion of the second argument of issubdtype from `float` to `np.floating` is deprecated. In future, it will be treated as `np.float64 == np.dtype(float).type`.\n",
      "  from ._conv import register_converters as _register_converters\n"
     ]
    },
    {
     "name": "stdout",
     "output_type": "stream",
     "text": [
      "TensorFlow Version: 1.7.1\n",
      "Default GPU Device: \n"
     ]
    }
   ],
   "source": [
    "# In this one we should define and detect GPUs for tensorflow\n",
    "# GPUs or CPU\n",
    "import tensorflow as tf\n",
    "\n",
    "# Check TensorFlow Version\n",
    "print('TensorFlow Version: {}'.format(tf.__version__))\n",
    "\n",
    "# Check for a GPU\n",
    "print('Default GPU Device: {}'.format(tf.test.gpu_device_name()))"
   ]
  },
  {
   "cell_type": "markdown",
   "metadata": {},
   "source": [
    ">**Note:** Make sure you have OpenAI Gym cloned into the same directory with this notebook. I've included `gym` as a submodule, so you can run `git submodule --init --recursive` to pull the contents into the `gym` repo."
   ]
  },
  {
   "cell_type": "markdown",
   "metadata": {},
   "source": [
    ">**Note:** Make sure you have OpenAI Gym cloned. Then run this command `pip install -e gym/[all]`."
   ]
  },
  {
   "cell_type": "code",
   "execution_count": 2,
   "metadata": {},
   "outputs": [],
   "source": [
    "import gym\n",
    "\n",
    "# Create the Cart-Pole game environment\n",
    "env = gym.make('CartPole-v0')\n",
    "env = gym.make('CartPole-v1')"
   ]
  },
  {
   "cell_type": "markdown",
   "metadata": {},
   "source": [
    "We interact with the simulation through `env`. To show the simulation running, you can use `env.render()` to render one frame. Passing in an action as an integer to `env.step` will generate the next step in the simulation.  You can see how many actions are possible from `env.action_space` and to get a random action you can use `env.action_space.sample()`. This is general to all Gym games. In the Cart-Pole game, there are two possible actions, moving the cart left or right. So there are two actions we can take, encoded as 0 and 1.\n",
    "\n",
    "Run the code below to watch the simulation run."
   ]
  },
  {
   "cell_type": "code",
   "execution_count": 3,
   "metadata": {},
   "outputs": [],
   "source": [
    "import numpy as np\n",
    "state = env.reset()\n",
    "for _ in range(10):\n",
    "    # env.render()\n",
    "    action = env.action_space.sample()\n",
    "    next_state, reward, done, info = env.step(action) # take a random action\n",
    "    #print('state, action, next_state, reward, done, info:', state, action, next_state, reward, done, info)\n",
    "    state = next_state\n",
    "    if done:\n",
    "        state = env.reset()"
   ]
  },
  {
   "cell_type": "markdown",
   "metadata": {},
   "source": [
    "To shut the window showing the simulation, use `env.close()`."
   ]
  },
  {
   "cell_type": "markdown",
   "metadata": {},
   "source": [
    "If you ran the simulation above, we can look at the rewards:"
   ]
  },
  {
   "cell_type": "code",
   "execution_count": 4,
   "metadata": {},
   "outputs": [],
   "source": [
    "# print(rewards[-20:])\n",
    "# print(np.array(rewards).shape, np.array(states).shape, np.array(actions).shape, np.array(dones).shape)\n",
    "# print(np.array(rewards).dtype, np.array(states).dtype, np.array(actions).dtype, np.array(dones).dtype)\n",
    "# print(np.max(np.array(actions)), np.min(np.array(actions)))\n",
    "# print((np.max(np.array(actions)) - np.min(np.array(actions)))+1)\n",
    "# print(np.max(np.array(rewards)), np.min(np.array(rewards)))\n",
    "# print(np.max(np.array(states)), np.min(np.array(states)))"
   ]
  },
  {
   "cell_type": "markdown",
   "metadata": {},
   "source": [
    "The game resets after the pole has fallen past a certain angle. For each frame while the simulation is running, it returns a reward of 1.0. The longer the game runs, the more reward we get. Then, our network's goal is to maximize the reward by keeping the pole vertical. It will do this by moving the cart to the left and the right."
   ]
  },
  {
   "cell_type": "markdown",
   "metadata": {},
   "source": [
    "## Q-Network\n",
    "\n",
    "We train our Q-learning agent using the Bellman Equation:\n",
    "\n",
    "$$\n",
    "Q(s, a) = r + \\gamma \\max{Q(s', a')}\n",
    "$$\n",
    "\n",
    "where $s$ is a state, $a$ is an action, and $s'$ is the next state from state $s$ and action $a$.\n",
    "\n",
    "Before we used this equation to learn values for a Q-_table_. However, for this game there are a huge number of states available. The state has four values: the position and velocity of the cart, and the position and velocity of the pole. These are all real-valued numbers, so ignoring floating point precisions, you practically have infinite states. Instead of using a table then, we'll replace it with a neural network that will approximate the Q-table lookup function.\n",
    "\n",
    "<img src=\"assets/deep-q-learning.png\" width=450px>\n",
    "\n",
    "Now, our Q value, $Q(s, a)$ is calculated by passing in a state to the network. The output will be Q-values for each available action, with fully connected hidden layers.\n",
    "\n",
    "<img src=\"assets/q-network.png\" width=550px>\n",
    "\n",
    "\n",
    "As I showed before, we can define our targets for training as $\\hat{Q}(s,a) = r + \\gamma \\max{Q(s', a')}$. Then we update the weights by minimizing $(\\hat{Q}(s,a) - Q(s,a))^2$. \n",
    "\n",
    "For this Cart-Pole game, we have four inputs, one for each value in the state, and two outputs, one for each action. To get $\\hat{Q}$, we'll first choose an action, then simulate the game using that action. This will get us the next state, $s'$, and the reward. With that, we can calculate $\\hat{Q}$ then pass it back into the $Q$ network to run the optimizer and update the weights.\n",
    "\n",
    "Below is my implementation of the Q-network. I used two fully connected layers with ReLU activations. Two seems to be good enough, three might be better. Feel free to try it out."
   ]
  },
  {
   "cell_type": "code",
   "execution_count": 5,
   "metadata": {},
   "outputs": [],
   "source": [
    "def model_input(state_size, lstm_size, batch_size=1):\n",
    "    states = tf.placeholder(tf.float32, [None, state_size], name='states')\n",
    "    actions = tf.placeholder(tf.int32, [None], name='actions')\n",
    "    targetQs = tf.placeholder(tf.float32, [None], name='targetQs')\n",
    "    # RNN\n",
    "    gru = tf.nn.rnn_cell.GRUCell(lstm_size)\n",
    "    cell = tf.nn.rnn_cell.MultiRNNCell([gru], state_is_tuple=False)\n",
    "    initial_state = cell.zero_state(batch_size, tf.float32)\n",
    "    return states, actions, targetQs, cell, initial_state"
   ]
  },
  {
   "cell_type": "code",
   "execution_count": 6,
   "metadata": {},
   "outputs": [],
   "source": [
    "# RNN generator or sequence generator\n",
    "def generator(states, num_classes, initial_state, cell, lstm_size, reuse=False): \n",
    "    with tf.variable_scope('generator', reuse=reuse):\n",
    "        # First fully connected layer\n",
    "        inputs = tf.layers.dense(inputs=states, units=lstm_size)\n",
    "        print(states.shape, inputs.shape)\n",
    "        \n",
    "        # with tf.variable_scope('dynamic_rnn_', reuse=tf.AUTO_REUSE):\n",
    "        # dynamic means adapt to the batch_size\n",
    "        inputs_rnn = tf.reshape(inputs, [1, -1, lstm_size]) # NxH -> 1xNxH\n",
    "        print(inputs_rnn.shape, initial_state.shape)\n",
    "        outputs_rnn, final_state = tf.nn.dynamic_rnn(cell=cell, inputs=inputs_rnn, initial_state=initial_state)\n",
    "        print(outputs_rnn.shape, final_state.shape)\n",
    "        outputs = tf.reshape(outputs_rnn, [-1, lstm_size]) # 1xNxH -> NxH\n",
    "        print(outputs.shape)\n",
    "\n",
    "        # Last fully connected layer\n",
    "        logits = tf.layers.dense(inputs=outputs, units=num_classes)\n",
    "        print(logits.shape)\n",
    "        #predictions = tf.nn.softmax(logits)\n",
    "        \n",
    "        # logits are the action logits\n",
    "        return logits, final_state"
   ]
  },
  {
   "cell_type": "code",
   "execution_count": 7,
   "metadata": {},
   "outputs": [],
   "source": [
    "def model_loss(action_size, hidden_size, states, cell, initial_state, actions, targetQs):\n",
    "    actions_logits, final_state = generator(states=states, cell=cell, initial_state=initial_state, \n",
    "                                            lstm_size=hidden_size, num_classes=action_size)\n",
    "    actions_labels = tf.one_hot(indices=actions, depth=action_size, dtype=actions_logits.dtype)\n",
    "    Qs = tf.reduce_max(actions_logits*actions_labels, axis=1)\n",
    "    loss = tf.reduce_mean(tf.square(Qs - targetQs))\n",
    "    return actions_logits, final_state, loss"
   ]
  },
  {
   "cell_type": "code",
   "execution_count": 8,
   "metadata": {},
   "outputs": [],
   "source": [
    "def model_opt(loss, learning_rate):\n",
    "    # Get weights and bias to update\n",
    "    t_vars = tf.trainable_variables()\n",
    "    g_vars = [var for var in t_vars if var.name.startswith('generator')]\n",
    "\n",
    "    # # Optimize\n",
    "    # with tf.control_dependencies(tf.get_collection(tf.GraphKeys.UPDATE_OPS)): # Required for batchnorm (BN)\n",
    "    # #opt = tf.train.AdamOptimizer(learning_rate).minimize(loss, var_list=g_vars)\n",
    "\n",
    "    #grads, _ = tf.clip_by_global_norm(t_list=tf.gradients(loss, g_vars), clip_norm=5) # usually around 1-5\n",
    "    grads = tf.gradients(loss, g_vars)\n",
    "    opt = tf.train.AdamOptimizer(learning_rate).apply_gradients(grads_and_vars=zip(grads, g_vars))\n",
    "\n",
    "    return opt"
   ]
  },
  {
   "cell_type": "code",
   "execution_count": 9,
   "metadata": {},
   "outputs": [],
   "source": [
    "class Model:\n",
    "    def __init__(self, state_size, action_size, hidden_size, learning_rate):\n",
    "\n",
    "        # Data of the Model: make the data available inside the framework\n",
    "        self.states, self.actions, self.targetQs, cell, self.initial_state = model_input(\n",
    "            state_size=state_size, lstm_size=hidden_size)\n",
    "        \n",
    "        # Create the Model: calculating the loss and forwad pass\n",
    "        self.actions_logits, self.final_state, self.loss = model_loss(\n",
    "            action_size=action_size, hidden_size=hidden_size, \n",
    "            states=self.states, actions=self.actions, \n",
    "            targetQs=self.targetQs, cell=cell, initial_state=self.initial_state)\n",
    "\n",
    "        # Update the model: backward pass and backprop\n",
    "        self.opt = model_opt(loss=self.loss, learning_rate=learning_rate)"
   ]
  },
  {
   "cell_type": "markdown",
   "metadata": {},
   "source": [
    "## Experience replay\n",
    "\n",
    "Reinforcement learning algorithms can have stability issues due to correlations between states. To reduce correlations when training, we can store the agent's experiences and later draw a random mini-batch of those experiences to train on. \n",
    "\n",
    "Here, we'll create a `Memory` object that will store our experiences, our transitions $<s, a, r, s'>$. This memory will have a maxmium capacity, so we can keep newer experiences in memory while getting rid of older experiences. Then, we'll sample a random mini-batch of transitions $<s, a, r, s'>$ and train on those.\n",
    "\n",
    "Below, I've implemented a `Memory` object. If you're unfamiliar with `deque`, this is a double-ended queue. You can think of it like a tube open on both sides. You can put objects in either side of the tube. But if it's full, adding anything more will push an object out the other side. This is a great data structure to use for the memory buffer."
   ]
  },
  {
   "cell_type": "code",
   "execution_count": 10,
   "metadata": {},
   "outputs": [],
   "source": [
    "from collections import deque\n",
    "\n",
    "class Memory():    \n",
    "    def __init__(self, max_size = 1000):\n",
    "        self.buffer = deque(maxlen=max_size)\n",
    "        self.states = deque(maxlen=max_size)\n",
    "    def sample(self, batch_size):\n",
    "        idx = np.random.choice(np.arange(len(self.buffer)), \n",
    "                               size=batch_size, \n",
    "                               replace=False)\n",
    "        return [self.buffer[ii] for ii in idx], [self.states[ii] for ii in idx]"
   ]
  },
  {
   "cell_type": "markdown",
   "metadata": {},
   "source": [
    "## Exploration - Exploitation\n",
    "\n",
    "To learn about the environment and rules of the game, the agent needs to explore by taking random actions. We'll do this by choosing a random action with some probability $\\epsilon$ (epsilon).  That is, with some probability $\\epsilon$ the agent will make a random action and with probability $1 - \\epsilon$, the agent will choose an action from $Q(s,a)$. This is called an **$\\epsilon$-greedy policy**.\n",
    "\n",
    "\n",
    "At first, the agent needs to do a lot of exploring. Later when it has learned more, the agent can favor choosing actions based on what it has learned. This is called _exploitation_. We'll set it up so the agent is more likely to explore early in training, then more likely to exploit later in training."
   ]
  },
  {
   "cell_type": "markdown",
   "metadata": {},
   "source": [
    "## Q-Learning training algorithm\n",
    "\n",
    "Putting all this together, we can list out the algorithm we'll use to train the network. We'll train the network in _episodes_. One *episode* is one simulation of the game. For this game, the goal is to keep the pole upright for 195 frames. So we can start a new episode once meeting that goal. The game ends if the pole tilts over too far, or if the cart moves too far the left or right. When a game ends, we'll start a new episode. Now, to train the agent:\n",
    "\n",
    "* Initialize the memory $D$\n",
    "* Initialize the action-value network $Q$ with random weights\n",
    "* **For** episode = 1, $M$ **do**\n",
    "  * **For** $t$, $T$ **do**\n",
    "     * With probability $\\epsilon$ select a random action $a_t$, otherwise select $a_t = \\mathrm{argmax}_a Q(s,a)$\n",
    "     * Execute action $a_t$ in simulator and observe reward $r_{t+1}$ and new state $s_{t+1}$\n",
    "     * Store transition $<s_t, a_t, r_{t+1}, s_{t+1}>$ in memory $D$\n",
    "     * Sample random mini-batch from $D$: $<s_j, a_j, r_j, s'_j>$\n",
    "     * Set $\\hat{Q}_j = r_j$ if the episode ends at $j+1$, otherwise set $\\hat{Q}_j = r_j + \\gamma \\max_{a'}{Q(s'_j, a')}$\n",
    "     * Make a gradient descent step with loss $(\\hat{Q}_j - Q(s_j, a_j))^2$\n",
    "  * **endfor**\n",
    "* **endfor**"
   ]
  },
  {
   "cell_type": "markdown",
   "metadata": {},
   "source": [
    "## Hyperparameters\n",
    "\n",
    "One of the more difficult aspects of reinforcememt learning are the large number of hyperparameters. Not only are we tuning the network, but we're tuning the simulation."
   ]
  },
  {
   "cell_type": "code",
   "execution_count": 11,
   "metadata": {},
   "outputs": [],
   "source": [
    "# print('state:', np.array(states).shape[1], \n",
    "#       'action size: {}'.format((np.max(np.array(actions)) - np.min(np.array(actions)))+1))"
   ]
  },
  {
   "cell_type": "code",
   "execution_count": 12,
   "metadata": {},
   "outputs": [],
   "source": [
    "# Network parameters\n",
    "action_size = 2\n",
    "state_size = 4\n",
    "hidden_size = 64               # number of units in each Q-network hidden layer\n",
    "learning_rate = 0.0001         # Q-network learning rate\n",
    "\n",
    "# Memory parameters\n",
    "memory_size = 128            # memory capacity - 1000 DQN\n",
    "batch_size = 128             # experience mini-batch size - 20 DQN\n",
    "gamma = 0.99                 # future reward discount"
   ]
  },
  {
   "cell_type": "code",
   "execution_count": 13,
   "metadata": {},
   "outputs": [
    {
     "name": "stdout",
     "output_type": "stream",
     "text": [
      "(?, 4) (?, 64)\n",
      "(1, ?, 64) (1, 64)\n",
      "(1, ?, 64) (1, 64)\n",
      "(?, 64)\n",
      "(?, 2)\n"
     ]
    }
   ],
   "source": [
    "# Reset/init the graph/session\n",
    "graph = tf.reset_default_graph()\n",
    "\n",
    "# Init the model\n",
    "model = Model(action_size=action_size, hidden_size=hidden_size, state_size=state_size, learning_rate=learning_rate)\n",
    "\n",
    "# Init the memory\n",
    "memory = Memory(max_size=batch_size)"
   ]
  },
  {
   "cell_type": "markdown",
   "metadata": {},
   "source": [
    "## Populate the memory (exprience memory)\n",
    "\n",
    "Here I'm re-initializing the simulation and pre-populating the memory. The agent is taking random actions and storing the transitions in memory. This will help the agent with exploring the game."
   ]
  },
  {
   "cell_type": "code",
   "execution_count": 14,
   "metadata": {},
   "outputs": [],
   "source": [
    "state = env.reset()\n",
    "for _ in range(memory_size):\n",
    "    action = env.action_space.sample()\n",
    "    next_state, reward, done, _ = env.step(action)\n",
    "    memory.buffer.append([state, action, next_state, reward, float(done)])\n",
    "    memory.states.append(np.zeros([1, hidden_size]))\n",
    "    state = next_state\n",
    "    if done is True:\n",
    "        # Reseting the env/first state\n",
    "        state = env.reset()"
   ]
  },
  {
   "cell_type": "code",
   "execution_count": 15,
   "metadata": {},
   "outputs": [],
   "source": [
    "# # Training\n",
    "# batch = memory.buffer\n",
    "# states = np.array([each[0] for each in batch])\n",
    "# actions = np.array([each[1] for each in batch])\n",
    "# next_states = np.array([each[2] for each in batch])\n",
    "# rewards = np.array([each[3] for each in batch])\n",
    "# dones = np.array([each[4] for each in batch])"
   ]
  },
  {
   "cell_type": "markdown",
   "metadata": {},
   "source": [
    "## Training the model\n",
    "\n",
    "Below we'll train our agent. If you want to watch it train, uncomment the `env.render()` line. This is slow because it's rendering the frames slower than the network can train. But, it's cool to watch the agent get better at the game."
   ]
  },
  {
   "cell_type": "code",
   "execution_count": 16,
   "metadata": {},
   "outputs": [],
   "source": [
    "# initial_states = np.array(memory.states)\n",
    "# initial_states.shape"
   ]
  },
  {
   "cell_type": "code",
   "execution_count": null,
   "metadata": {
    "scrolled": false
   },
   "outputs": [
    {
     "name": "stdout",
     "output_type": "stream",
     "text": [
      "Episode:0 meanR:52.0000 R:52.0000 loss:1.1622\n",
      "Episode:1 meanR:45.5000 R:39.0000 loss:0.9973\n",
      "Episode:2 meanR:41.3333 R:33.0000 loss:1.0668\n",
      "Episode:3 meanR:41.5000 R:42.0000 loss:1.0128\n",
      "Episode:4 meanR:41.0000 R:39.0000 loss:1.3224\n",
      "Episode:5 meanR:37.6667 R:21.0000 loss:1.6030\n",
      "Episode:6 meanR:34.7143 R:17.0000 loss:1.8615\n",
      "Episode:7 meanR:32.6250 R:18.0000 loss:2.1240\n",
      "Episode:8 meanR:31.2222 R:20.0000 loss:2.4263\n",
      "Episode:9 meanR:29.7000 R:16.0000 loss:2.7760\n",
      "Episode:10 meanR:28.8182 R:20.0000 loss:2.9228\n",
      "Episode:11 meanR:27.9167 R:18.0000 loss:3.1931\n",
      "Episode:12 meanR:27.6154 R:24.0000 loss:3.2269\n",
      "Episode:13 meanR:27.4286 R:25.0000 loss:3.1949\n",
      "Episode:14 meanR:27.4667 R:28.0000 loss:3.2389\n",
      "Episode:15 meanR:26.9375 R:19.0000 loss:3.3012\n",
      "Episode:16 meanR:26.5882 R:21.0000 loss:3.4123\n",
      "Episode:17 meanR:26.4444 R:24.0000 loss:3.4982\n",
      "Episode:18 meanR:26.3684 R:25.0000 loss:3.6283\n",
      "Episode:19 meanR:26.3000 R:25.0000 loss:3.6873\n",
      "Episode:20 meanR:26.2857 R:26.0000 loss:3.8464\n",
      "Episode:21 meanR:26.0000 R:20.0000 loss:3.9723\n",
      "Episode:22 meanR:25.9130 R:24.0000 loss:3.9570\n",
      "Episode:23 meanR:25.7083 R:21.0000 loss:4.0639\n",
      "Episode:24 meanR:25.6000 R:23.0000 loss:4.2515\n",
      "Episode:25 meanR:25.3462 R:19.0000 loss:4.4656\n",
      "Episode:26 meanR:25.5185 R:30.0000 loss:4.4975\n",
      "Episode:27 meanR:25.5357 R:26.0000 loss:4.4803\n",
      "Episode:28 meanR:25.3793 R:21.0000 loss:4.7347\n",
      "Episode:29 meanR:25.0333 R:15.0000 loss:5.1632\n",
      "Episode:30 meanR:24.6774 R:14.0000 loss:5.5275\n",
      "Episode:31 meanR:24.3750 R:15.0000 loss:5.8012\n",
      "Episode:32 meanR:24.0303 R:13.0000 loss:6.2292\n",
      "Episode:33 meanR:23.6765 R:12.0000 loss:6.5953\n",
      "Episode:34 meanR:23.3714 R:13.0000 loss:7.4446\n",
      "Episode:35 meanR:23.0833 R:13.0000 loss:7.6275\n",
      "Episode:36 meanR:22.8378 R:14.0000 loss:8.2939\n",
      "Episode:37 meanR:22.6053 R:14.0000 loss:8.3250\n",
      "Episode:38 meanR:22.3333 R:12.0000 loss:8.5709\n",
      "Episode:39 meanR:22.1250 R:14.0000 loss:8.4964\n",
      "Episode:40 meanR:21.8293 R:10.0000 loss:8.5613\n",
      "Episode:41 meanR:21.5952 R:12.0000 loss:8.7519\n",
      "Episode:42 meanR:21.3721 R:12.0000 loss:8.7722\n",
      "Episode:43 meanR:21.1136 R:10.0000 loss:8.8990\n",
      "Episode:44 meanR:20.8889 R:11.0000 loss:8.9657\n",
      "Episode:45 meanR:20.7174 R:13.0000 loss:9.0031\n",
      "Episode:46 meanR:20.5532 R:13.0000 loss:9.0433\n",
      "Episode:47 meanR:20.3542 R:11.0000 loss:9.1796\n",
      "Episode:48 meanR:20.1429 R:10.0000 loss:9.3446\n",
      "Episode:49 meanR:19.9400 R:10.0000 loss:9.3887\n",
      "Episode:50 meanR:19.7451 R:10.0000 loss:9.4829\n",
      "Episode:51 meanR:19.5962 R:12.0000 loss:9.6292\n",
      "Episode:52 meanR:19.4528 R:12.0000 loss:9.4458\n",
      "Episode:53 meanR:19.3148 R:12.0000 loss:9.3889\n",
      "Episode:54 meanR:19.1455 R:10.0000 loss:9.3732\n",
      "Episode:55 meanR:19.0357 R:13.0000 loss:9.0459\n",
      "Episode:56 meanR:18.8772 R:10.0000 loss:8.8092\n",
      "Episode:57 meanR:18.7414 R:11.0000 loss:8.8675\n",
      "Episode:58 meanR:18.5932 R:10.0000 loss:8.8631\n",
      "Episode:59 meanR:18.4500 R:10.0000 loss:8.7892\n",
      "Episode:60 meanR:18.2951 R:9.0000 loss:8.6690\n",
      "Episode:61 meanR:18.1613 R:10.0000 loss:8.4417\n",
      "Episode:62 meanR:18.0317 R:10.0000 loss:8.1219\n",
      "Episode:63 meanR:17.9062 R:10.0000 loss:7.9390\n",
      "Episode:64 meanR:17.7692 R:9.0000 loss:7.6894\n",
      "Episode:65 meanR:17.6364 R:9.0000 loss:7.5060\n",
      "Episode:66 meanR:17.5224 R:10.0000 loss:7.2200\n",
      "Episode:67 meanR:17.4118 R:10.0000 loss:6.8736\n",
      "Episode:68 meanR:17.2899 R:9.0000 loss:6.6863\n",
      "Episode:69 meanR:17.1857 R:10.0000 loss:6.4718\n",
      "Episode:70 meanR:17.0704 R:9.0000 loss:5.9512\n",
      "Episode:71 meanR:16.9861 R:11.0000 loss:5.2107\n",
      "Episode:72 meanR:16.9178 R:12.0000 loss:4.3877\n",
      "Episode:73 meanR:16.8514 R:12.0000 loss:4.2034\n",
      "Episode:74 meanR:16.7733 R:11.0000 loss:4.3636\n",
      "Episode:75 meanR:16.7105 R:12.0000 loss:4.5156\n",
      "Episode:76 meanR:16.6623 R:13.0000 loss:4.6923\n",
      "Episode:77 meanR:16.6410 R:15.0000 loss:4.7672\n",
      "Episode:78 meanR:16.5949 R:13.0000 loss:4.8574\n",
      "Episode:79 meanR:16.5750 R:15.0000 loss:4.9135\n",
      "Episode:80 meanR:16.5309 R:13.0000 loss:4.9298\n",
      "Episode:81 meanR:16.5122 R:15.0000 loss:4.9280\n",
      "Episode:82 meanR:16.4819 R:14.0000 loss:4.6079\n",
      "Episode:83 meanR:16.5000 R:18.0000 loss:4.3896\n",
      "Episode:84 meanR:16.5294 R:19.0000 loss:4.2256\n",
      "Episode:85 meanR:16.5349 R:17.0000 loss:4.3437\n",
      "Episode:86 meanR:16.4943 R:13.0000 loss:4.2130\n",
      "Episode:87 meanR:16.4886 R:16.0000 loss:4.2185\n",
      "Episode:88 meanR:16.4944 R:17.0000 loss:4.5753\n",
      "Episode:89 meanR:16.4667 R:14.0000 loss:4.9091\n",
      "Episode:90 meanR:16.5055 R:20.0000 loss:5.1467\n",
      "Episode:91 meanR:16.5217 R:18.0000 loss:5.3591\n",
      "Episode:92 meanR:16.5806 R:22.0000 loss:5.0176\n",
      "Episode:93 meanR:16.6277 R:21.0000 loss:4.7645\n",
      "Episode:94 meanR:16.6316 R:17.0000 loss:4.4814\n",
      "Episode:95 meanR:16.6354 R:17.0000 loss:4.4372\n",
      "Episode:96 meanR:16.6598 R:19.0000 loss:4.2412\n",
      "Episode:97 meanR:16.6837 R:19.0000 loss:4.0672\n",
      "Episode:98 meanR:16.7172 R:20.0000 loss:4.3396\n",
      "Episode:99 meanR:16.7800 R:23.0000 loss:4.2247\n",
      "Episode:100 meanR:16.4500 R:19.0000 loss:4.8089\n",
      "Episode:101 meanR:16.3000 R:24.0000 loss:4.9507\n",
      "Episode:102 meanR:16.2200 R:25.0000 loss:4.7869\n",
      "Episode:103 meanR:16.0100 R:21.0000 loss:4.1601\n",
      "Episode:104 meanR:15.8300 R:21.0000 loss:4.1745\n",
      "Episode:105 meanR:16.0900 R:47.0000 loss:3.1390\n",
      "Episode:106 meanR:16.1400 R:22.0000 loss:5.5454\n",
      "Episode:107 meanR:16.2600 R:30.0000 loss:6.0207\n",
      "Episode:108 meanR:16.3500 R:29.0000 loss:5.6384\n",
      "Episode:109 meanR:16.4600 R:27.0000 loss:5.1081\n",
      "Episode:110 meanR:16.5800 R:32.0000 loss:5.1705\n",
      "Episode:111 meanR:16.7000 R:30.0000 loss:4.7779\n",
      "Episode:112 meanR:16.9400 R:48.0000 loss:3.5903\n",
      "Episode:113 meanR:17.2200 R:53.0000 loss:2.6911\n",
      "Episode:114 meanR:17.6100 R:67.0000 loss:3.0362\n",
      "Episode:115 meanR:17.7100 R:29.0000 loss:4.3818\n",
      "Episode:116 meanR:18.4600 R:96.0000 loss:3.8853\n",
      "Episode:117 meanR:19.0400 R:82.0000 loss:2.7458\n",
      "Episode:118 meanR:19.8200 R:103.0000 loss:1.3709\n",
      "Episode:119 meanR:20.0400 R:47.0000 loss:3.4718\n",
      "Episode:120 meanR:19.9800 R:20.0000 loss:5.7000\n",
      "Episode:121 meanR:19.9300 R:15.0000 loss:8.1440\n",
      "Episode:122 meanR:19.8100 R:12.0000 loss:10.3083\n",
      "Episode:123 meanR:19.7100 R:11.0000 loss:11.9546\n",
      "Episode:124 meanR:19.5900 R:11.0000 loss:12.8995\n",
      "Episode:125 meanR:19.5300 R:13.0000 loss:12.1930\n",
      "Episode:126 meanR:19.3600 R:13.0000 loss:21.6553\n",
      "Episode:127 meanR:19.3100 R:21.0000 loss:17.0946\n",
      "Episode:128 meanR:19.3500 R:25.0000 loss:21.0424\n",
      "Episode:129 meanR:19.5200 R:32.0000 loss:23.0938\n",
      "Episode:130 meanR:19.7400 R:36.0000 loss:27.5426\n",
      "Episode:131 meanR:19.9800 R:39.0000 loss:26.9471\n",
      "Episode:132 meanR:20.3000 R:45.0000 loss:8.5504\n",
      "Episode:133 meanR:21.9100 R:173.0000 loss:4.4881\n",
      "Episode:134 meanR:22.0000 R:22.0000 loss:1.3247\n",
      "Episode:135 meanR:22.0500 R:18.0000 loss:4.1592\n",
      "Episode:136 meanR:22.0700 R:16.0000 loss:7.0179\n",
      "Episode:137 meanR:22.0900 R:16.0000 loss:9.9129\n",
      "Episode:138 meanR:22.1400 R:17.0000 loss:12.7363\n",
      "Episode:139 meanR:22.1600 R:16.0000 loss:15.3459\n",
      "Episode:140 meanR:22.9600 R:90.0000 loss:8.2295\n",
      "Episode:141 meanR:23.0300 R:19.0000 loss:7.3677\n",
      "Episode:142 meanR:23.1900 R:28.0000 loss:5.4028\n",
      "Episode:143 meanR:23.3400 R:25.0000 loss:5.2652\n",
      "Episode:144 meanR:23.5600 R:33.0000 loss:5.5805\n",
      "Episode:145 meanR:24.3700 R:94.0000 loss:5.6281\n",
      "Episode:146 meanR:25.1800 R:94.0000 loss:1.9662\n",
      "Episode:147 meanR:26.1400 R:107.0000 loss:1.8992\n",
      "Episode:148 meanR:26.2900 R:25.0000 loss:5.4806\n",
      "Episode:149 meanR:26.4800 R:29.0000 loss:7.7632\n",
      "Episode:150 meanR:27.4100 R:103.0000 loss:9.7877\n",
      "Episode:151 meanR:27.6400 R:35.0000 loss:7.0240\n",
      "Episode:152 meanR:27.7500 R:23.0000 loss:5.9524\n",
      "Episode:153 meanR:27.8500 R:22.0000 loss:10.1837\n",
      "Episode:154 meanR:27.9400 R:19.0000 loss:14.3684\n",
      "Episode:155 meanR:28.0100 R:20.0000 loss:18.4307\n",
      "Episode:156 meanR:28.1400 R:23.0000 loss:21.4462\n",
      "Episode:157 meanR:28.2700 R:24.0000 loss:21.1438\n",
      "Episode:158 meanR:29.2100 R:104.0000 loss:8.8107\n",
      "Episode:159 meanR:30.1300 R:102.0000 loss:3.0350\n",
      "Episode:160 meanR:30.3100 R:27.0000 loss:2.7431\n",
      "Episode:161 meanR:30.4700 R:26.0000 loss:6.3418\n",
      "Episode:162 meanR:30.6000 R:23.0000 loss:13.8898\n",
      "Episode:163 meanR:30.6900 R:19.0000 loss:18.4198\n",
      "Episode:164 meanR:30.8200 R:22.0000 loss:21.8019\n",
      "Episode:165 meanR:31.8200 R:109.0000 loss:9.5765\n",
      "Episode:166 meanR:31.9200 R:20.0000 loss:8.8855\n",
      "Episode:167 meanR:32.1300 R:31.0000 loss:8.4591\n",
      "Episode:168 meanR:32.3800 R:34.0000 loss:10.1861\n",
      "Episode:169 meanR:33.4800 R:120.0000 loss:7.6528\n",
      "Episode:170 meanR:34.5700 R:118.0000 loss:2.7276\n",
      "Episode:171 meanR:35.5200 R:106.0000 loss:0.9054\n",
      "Episode:172 meanR:36.3800 R:98.0000 loss:1.6677\n"
     ]
    },
    {
     "name": "stdout",
     "output_type": "stream",
     "text": [
      "Episode:173 meanR:37.2800 R:102.0000 loss:0.7342\n",
      "Episode:174 meanR:37.5100 R:34.0000 loss:1.7905\n",
      "Episode:175 meanR:37.7000 R:31.0000 loss:9.7223\n",
      "Episode:176 meanR:37.8400 R:27.0000 loss:16.4098\n",
      "Episode:177 meanR:38.4700 R:78.0000 loss:19.2473\n",
      "Episode:178 meanR:38.5800 R:24.0000 loss:13.5344\n",
      "Episode:179 meanR:38.6300 R:20.0000 loss:15.1545\n",
      "Episode:180 meanR:38.6800 R:18.0000 loss:17.6511\n",
      "Episode:181 meanR:38.7700 R:24.0000 loss:15.7806\n",
      "Episode:182 meanR:39.7100 R:108.0000 loss:72.1386\n",
      "Episode:183 meanR:40.7300 R:120.0000 loss:9.9799\n",
      "Episode:184 meanR:40.8500 R:31.0000 loss:9.6109\n",
      "Episode:185 meanR:41.0100 R:33.0000 loss:4.7333\n",
      "Episode:186 meanR:41.1900 R:31.0000 loss:8.5522\n",
      "Episode:187 meanR:42.7900 R:176.0000 loss:8.4791\n",
      "Episode:188 meanR:43.7900 R:117.0000 loss:9.4129\n",
      "Episode:189 meanR:43.8500 R:20.0000 loss:12.7997\n",
      "Episode:190 meanR:43.8300 R:18.0000 loss:15.7790\n",
      "Episode:191 meanR:43.9000 R:25.0000 loss:18.9757\n",
      "Episode:192 meanR:44.9800 R:130.0000 loss:13.3513\n",
      "Episode:193 meanR:45.9500 R:118.0000 loss:8.0887\n",
      "Episode:194 meanR:46.8000 R:102.0000 loss:5.8957\n",
      "Episode:195 meanR:47.6500 R:102.0000 loss:4.9506\n",
      "Episode:196 meanR:48.4500 R:99.0000 loss:3.9964\n",
      "Episode:197 meanR:49.2300 R:97.0000 loss:3.1439\n",
      "Episode:198 meanR:49.9900 R:96.0000 loss:1.9469\n",
      "Episode:199 meanR:50.8100 R:105.0000 loss:1.0893\n",
      "Episode:200 meanR:51.6200 R:100.0000 loss:2.5460\n",
      "Episode:201 meanR:52.4900 R:111.0000 loss:1.8930\n",
      "Episode:202 meanR:53.3600 R:112.0000 loss:1.4854\n",
      "Episode:203 meanR:54.2500 R:110.0000 loss:1.0215\n",
      "Episode:204 meanR:54.3800 R:34.0000 loss:4.4274\n",
      "Episode:205 meanR:54.1900 R:28.0000 loss:12.2312\n",
      "Episode:206 meanR:54.2200 R:25.0000 loss:21.5617\n",
      "Episode:207 meanR:54.1300 R:21.0000 loss:31.5112\n",
      "Episode:208 meanR:54.8500 R:101.0000 loss:23.0038\n",
      "Episode:209 meanR:56.1300 R:155.0000 loss:2.3376\n",
      "Episode:210 meanR:57.0900 R:128.0000 loss:0.7687\n",
      "Episode:211 meanR:57.9700 R:118.0000 loss:0.6090\n",
      "Episode:212 meanR:58.6300 R:114.0000 loss:0.5509\n",
      "Episode:213 meanR:59.2000 R:110.0000 loss:0.7987\n",
      "Episode:214 meanR:59.8200 R:129.0000 loss:0.7550\n",
      "Episode:215 meanR:60.8800 R:135.0000 loss:0.8335\n",
      "Episode:216 meanR:61.0100 R:109.0000 loss:0.5357\n",
      "Episode:217 meanR:61.2800 R:109.0000 loss:0.8117\n",
      "Episode:218 meanR:61.3100 R:106.0000 loss:0.5536\n",
      "Episode:219 meanR:61.9000 R:106.0000 loss:0.4721\n",
      "Episode:220 meanR:62.7800 R:108.0000 loss:0.8166\n",
      "Episode:221 meanR:63.6700 R:104.0000 loss:0.5252\n",
      "Episode:222 meanR:64.6000 R:105.0000 loss:1.3688\n",
      "Episode:223 meanR:65.5200 R:103.0000 loss:1.1972\n",
      "Episode:224 meanR:65.7200 R:31.0000 loss:1.9869\n",
      "Episode:225 meanR:65.8700 R:28.0000 loss:16.2985\n",
      "Episode:226 meanR:65.9600 R:22.0000 loss:31.2779\n"
     ]
    }
   ],
   "source": [
    "saver = tf.train.Saver()\n",
    "episode_rewards_list, rewards_list, loss_list = [], [], []\n",
    "\n",
    "# TF session for training\n",
    "with tf.Session() as sess:\n",
    "    sess.run(tf.global_variables_initializer())\n",
    "    #saver.restore(sess, 'checkpoints/model.ckpt')    \n",
    "    #saver.restore(sess, tf.train.latest_checkpoint('checkpoints'))\n",
    "    episode_reward = deque(maxlen=100) # 100 episodes average/running average/running mean/window\n",
    "    \n",
    "    # Training episodes/epochs\n",
    "    for ep in range(11111):\n",
    "        total_reward = 0\n",
    "        loss_batch = []\n",
    "        state = env.reset()\n",
    "        initial_state = sess.run(model.initial_state)\n",
    "\n",
    "        # Training steps/batches\n",
    "        while True:\n",
    "            action_logits, final_state = sess.run([model.actions_logits, model.final_state],\n",
    "                                                  feed_dict = {model.states: state.reshape([1, -1]), \n",
    "                                                               model.initial_state: initial_state})\n",
    "            action = np.argmax(action_logits)\n",
    "            next_state, reward, done, _ = env.step(action)\n",
    "            memory.buffer.append([state, action, next_state, reward, float(done)])\n",
    "            memory.states.append(initial_state)\n",
    "            total_reward += reward\n",
    "            state = next_state\n",
    "            initial_state = final_state\n",
    "\n",
    "            # Training\n",
    "            batch = memory.buffer\n",
    "            states = np.array([each[0] for each in batch])\n",
    "            actions = np.array([each[1] for each in batch])\n",
    "            next_states = np.array([each[2] for each in batch])\n",
    "            rewards = np.array([each[3] for each in batch])\n",
    "            dones = np.array([each[4] for each in batch])\n",
    "            #initial_states = np.array(memory.states)\n",
    "            initial_states = memory.states\n",
    "            next_actions_logits = sess.run(model.actions_logits, \n",
    "                                           feed_dict = {model.states: next_states,\n",
    "                                                        model.initial_state: initial_states[1]})\n",
    "            nextQs = np.max(next_actions_logits, axis=1) * (1-dones)\n",
    "            targetQs = rewards + (gamma * nextQs)\n",
    "            loss, _ = sess.run([model.loss, model.opt], feed_dict = {model.states: states, \n",
    "                                                                     model.actions: actions,\n",
    "                                                                     model.targetQs: targetQs,\n",
    "                                                                     model.initial_state: initial_states[0]})\n",
    "            # End of training\n",
    "            loss_batch.append(loss)\n",
    "            if done is True:\n",
    "                break\n",
    "                \n",
    "        # Outputing: priting out/Potting\n",
    "        episode_reward.append(total_reward)\n",
    "        print('Episode:{}'.format(ep),\n",
    "              'meanR:{:.4f}'.format(np.mean(episode_reward)),\n",
    "              'R:{:.4f}'.format(total_reward),\n",
    "              'loss:{:.4f}'.format(np.mean(loss_batch)))\n",
    "        # Ploting out\n",
    "        episode_rewards_list.append([ep, np.mean(episode_reward)])\n",
    "        rewards_list.append([ep, total_reward])\n",
    "        loss_list.append([ep, np.mean(loss_batch)])\n",
    "        # Break episode/epoch loop\n",
    "        if np.mean(episode_reward) >= 500:\n",
    "            break\n",
    "            \n",
    "    # At the end of all training episodes/epochs\n",
    "    saver.save(sess, 'checkpoints/model.ckpt')"
   ]
  },
  {
   "cell_type": "markdown",
   "metadata": {},
   "source": [
    "# Visualizing training\n",
    "\n",
    "Below I'll plot the total rewards for each episode. I'm plotting the rolling average too, in blue."
   ]
  },
  {
   "cell_type": "code",
   "execution_count": null,
   "metadata": {},
   "outputs": [],
   "source": [
    "%matplotlib inline\n",
    "import matplotlib.pyplot as plt\n",
    "\n",
    "def running_mean(x, N):\n",
    "    cumsum = np.cumsum(np.insert(x, 0, 0)) \n",
    "    return (cumsum[N:] - cumsum[:-N]) / N "
   ]
  },
  {
   "cell_type": "code",
   "execution_count": null,
   "metadata": {},
   "outputs": [],
   "source": [
    "eps, arr = np.array(episode_rewards_list).T\n",
    "smoothed_arr = running_mean(arr, 10)\n",
    "plt.plot(eps[-len(smoothed_arr):], smoothed_arr)\n",
    "plt.plot(eps, arr, color='grey', alpha=0.3)\n",
    "plt.xlabel('Episode')\n",
    "plt.ylabel('Total rewards')"
   ]
  },
  {
   "cell_type": "code",
   "execution_count": null,
   "metadata": {},
   "outputs": [],
   "source": [
    "eps, arr = np.array(rewards_list).T\n",
    "smoothed_arr = running_mean(arr, 10)\n",
    "plt.plot(eps[-len(smoothed_arr):], smoothed_arr)\n",
    "plt.plot(eps, arr, color='grey', alpha=0.3)\n",
    "plt.xlabel('Episode')\n",
    "plt.ylabel('Total rewards')"
   ]
  },
  {
   "cell_type": "code",
   "execution_count": null,
   "metadata": {},
   "outputs": [],
   "source": [
    "eps, arr = np.array(loss_list).T\n",
    "smoothed_arr = running_mean(arr, 10)\n",
    "plt.plot(eps[-len(smoothed_arr):], smoothed_arr)\n",
    "plt.plot(eps, arr, color='grey', alpha=0.3)\n",
    "plt.xlabel('Episode')\n",
    "plt.ylabel('Average losses')"
   ]
  },
  {
   "cell_type": "markdown",
   "metadata": {},
   "source": [
    "## Testing\n",
    "\n",
    "Let's checkout how our trained agent plays the game."
   ]
  },
  {
   "cell_type": "code",
   "execution_count": 38,
   "metadata": {},
   "outputs": [
    {
     "name": "stdout",
     "output_type": "stream",
     "text": [
      "INFO:tensorflow:Restoring parameters from checkpoints/model.ckpt\n",
      "total_reward:500.0\n",
      "total_reward:500.0\n",
      "total_reward:500.0\n",
      "total_reward:500.0\n",
      "total_reward:500.0\n",
      "total_reward:500.0\n",
      "total_reward:500.0\n",
      "total_reward:500.0\n",
      "total_reward:500.0\n",
      "total_reward:500.0\n"
     ]
    }
   ],
   "source": [
    "import gym\n",
    "env = gym.make('CartPole-v0')\n",
    "env = gym.make('CartPole-v1')\n",
    "\n",
    "with tf.Session(graph=graph) as sess:\n",
    "    sess.run(tf.global_variables_initializer())\n",
    "    #saver.restore(sess, 'checkpoints/model.ckpt')    \n",
    "    saver.restore(sess, tf.train.latest_checkpoint('checkpoints'))\n",
    "    \n",
    "    # Episode/epoch\n",
    "    for _ in range(10):\n",
    "        total_reward = 0\n",
    "        state = env.reset()\n",
    "        initial_state = sess.run(model.initial_state) # Qs or current batch or states[:-1]\n",
    "        \n",
    "        # Steps/batches\n",
    "        while True:\n",
    "            env.render()\n",
    "            action_logits, initial_state = sess.run([model.actions_logits, model.final_state],\n",
    "                                                    feed_dict = {model.states: state.reshape([1, -1]), \n",
    "                                                                 model.initial_state: initial_state})\n",
    "            action = np.argmax(action_logits)\n",
    "            state, reward, done, _ = env.step(action)\n",
    "            total_reward += reward\n",
    "            if done:\n",
    "                break\n",
    "        # At the end of each episode\n",
    "        print('total_reward:{}'.format(total_reward))\n",
    "\n",
    "# Close the env\n",
    "env.close()"
   ]
  },
  {
   "cell_type": "markdown",
   "metadata": {},
   "source": [
    "## Extending this\n",
    "\n",
    "So, Cart-Pole is a pretty simple game. However, the same model can be used to train an agent to play something much more complicated like Pong or Space Invaders. Instead of a state like we're using here though, you'd want to use convolutional layers to get the state from the screen images.\n",
    "\n",
    "![Deep Q-Learning Atari](assets/atari-network.png)\n",
    "\n",
    "I'll leave it as a challenge for you to use deep Q-learning to train an agent to play Atari games. Here's the original paper which will get you started: http://www.davidqiu.com:8888/research/nature14236.pdf."
   ]
  },
  {
   "cell_type": "code",
   "execution_count": null,
   "metadata": {},
   "outputs": [],
   "source": []
  }
 ],
 "metadata": {
  "kernelspec": {
   "display_name": "Python 3",
   "language": "python",
   "name": "python3"
  },
  "language_info": {
   "codemirror_mode": {
    "name": "ipython",
    "version": 3
   },
   "file_extension": ".py",
   "mimetype": "text/x-python",
   "name": "python",
   "nbconvert_exporter": "python",
   "pygments_lexer": "ipython3",
   "version": "3.6.5"
  }
 },
 "nbformat": 4,
 "nbformat_minor": 2
}
