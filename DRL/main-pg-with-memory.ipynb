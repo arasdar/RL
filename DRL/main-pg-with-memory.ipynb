{
 "cells": [
  {
   "cell_type": "markdown",
   "metadata": {},
   "source": [
    "# Policy gradients\n",
    "\n",
    "\n",
    "In this notebook, we'll build a neural network that can learn to play games through reinforcement learning. More specifically, we'll use Q-learning to train an agent to play a game called [Cart-Pole](https://gym.openai.com/envs/CartPole-v0). In this game, a freely swinging pole is attached to a cart. The cart can move to the left and right, and the goal is to keep the pole upright as long as possible.\n",
    "\n",
    "![Cart-Pole](assets/cart-pole.jpg)\n",
    "\n",
    "We can simulate this game using [OpenAI Gym](https://gym.openai.com/). First, let's check out how OpenAI Gym works. Then, we'll get into training an agent to play the Cart-Pole game."
   ]
  },
  {
   "cell_type": "code",
   "execution_count": 1,
   "metadata": {},
   "outputs": [
    {
     "name": "stdout",
     "output_type": "stream",
     "text": [
      "TensorFlow Version: 1.7.1\n",
      "Default GPU Device: \n"
     ]
    }
   ],
   "source": [
    "# In this one we should define and detect GPUs for tensorflow\n",
    "# GPUs or CPU\n",
    "import tensorflow as tf\n",
    "\n",
    "# Check TensorFlow Version\n",
    "print('TensorFlow Version: {}'.format(tf.__version__))\n",
    "\n",
    "# Check for a GPU\n",
    "print('Default GPU Device: {}'.format(tf.test.gpu_device_name()))"
   ]
  },
  {
   "cell_type": "markdown",
   "metadata": {},
   "source": [
    ">**Note:** Make sure you have OpenAI Gym cloned into the same directory with this notebook. I've included `gym` as a submodule, so you can run `git submodule --init --recursive` to pull the contents into the `gym` repo."
   ]
  },
  {
   "cell_type": "markdown",
   "metadata": {},
   "source": [
    "##### >**Note:** Make sure you have OpenAI Gym cloned. Then run this command `pip install -e gym/[all]`."
   ]
  },
  {
   "cell_type": "code",
   "execution_count": 2,
   "metadata": {},
   "outputs": [
    {
     "name": "stdout",
     "output_type": "stream",
     "text": [
      "\u001b[33mWARN: gym.spaces.Box autodetected dtype as <class 'numpy.float32'>. Please provide explicit dtype.\u001b[0m\n"
     ]
    },
    {
     "name": "stderr",
     "output_type": "stream",
     "text": [
      "/home/arasdar/anaconda3/envs/env/lib/python3.6/site-packages/gym/__init__.py:22: UserWarning: DEPRECATION WARNING: to improve load times, gym no longer automatically loads gym.spaces. Please run \"import gym.spaces\" to load gym.spaces on your own. This warning will turn into an error in a future version of gym.\n",
      "  warnings.warn('DEPRECATION WARNING: to improve load times, gym no longer automatically loads gym.spaces. Please run \"import gym.spaces\" to load gym.spaces on your own. This warning will turn into an error in a future version of gym.')\n"
     ]
    }
   ],
   "source": [
    "import gym\n",
    "\n",
    "## Create the Cart-Pole game environment\n",
    "env = gym.make('CartPole-v0')\n",
    "# env = gym.make('CartPole-v1')\n",
    "# env = gym.make('Acrobot-v1')\n",
    "# env = gym.make('MountainCar-v0')\n",
    "# env = gym.make('Pendulum-v0')\n",
    "# env = gym.make('Blackjack-v0')\n",
    "# env = gym.make('FrozenLake-v0')\n",
    "# env = gym.make('AirRaid-ram-v0')\n",
    "# env = gym.make('AirRaid-v0')\n",
    "# env = gym.make('BipedalWalker-v2')\n",
    "# env = gym.make('Copy-v0')\n",
    "# env = gym.make('CarRacing-v0')\n",
    "# env = gym.make('Ant-v2') #mujoco\n",
    "# env = gym.make('FetchPickAndPlace-v1') # mujoco required!"
   ]
  },
  {
   "cell_type": "markdown",
   "metadata": {},
   "source": [
    "We interact with the simulation through `env`. To show the simulation running, you can use `env.render()` to render one frame. Passing in an action as an integer to `env.step` will generate the next step in the simulation.  You can see how many actions are possible from `env.action_space` and to get a random action you can use `env.action_space.sample()`. This is general to all Gym games. In the Cart-Pole game, there are two possible actions, moving the cart left or right. So there are two actions we can take, encoded as 0 and 1.\n",
    "\n",
    "Run the code below to watch the simulation run."
   ]
  },
  {
   "cell_type": "code",
   "execution_count": 3,
   "metadata": {},
   "outputs": [],
   "source": [
    "env.reset()\n",
    "batch = []\n",
    "for _ in range(1000):\n",
    "    # env.render()\n",
    "    action = env.action_space.sample()\n",
    "    state, reward, done, info = env.step(action) # take a random action\n",
    "    batch.append([action, state, reward, done, info])\n",
    "    #print('state, action, reward, done, info:', state, action, reward, done, info)\n",
    "    if done:\n",
    "        env.reset()"
   ]
  },
  {
   "cell_type": "markdown",
   "metadata": {},
   "source": [
    "To shut the window showing the simulation, use `env.close()`."
   ]
  },
  {
   "cell_type": "markdown",
   "metadata": {},
   "source": [
    "If you ran the simulation above, we can look at the rewards:"
   ]
  },
  {
   "cell_type": "code",
   "execution_count": 4,
   "metadata": {},
   "outputs": [
    {
     "data": {
      "text/plain": [
       "([0,\n",
       "  array([ 0.04805073, -0.20342601, -0.02775413,  0.26341052]),\n",
       "  1.0,\n",
       "  False,\n",
       "  {}],\n",
       " (4,))"
      ]
     },
     "execution_count": 4,
     "metadata": {},
     "output_type": "execute_result"
    }
   ],
   "source": [
    "batch[0], batch[0][1].shape"
   ]
  },
  {
   "cell_type": "code",
   "execution_count": 5,
   "metadata": {},
   "outputs": [],
   "source": [
    "import numpy as np\n",
    "actions = np.array([each[0] for each in batch])\n",
    "states = np.array([each[1] for each in batch])\n",
    "rewards = np.array([each[2] for each in batch])\n",
    "dones = np.array([each[3] for each in batch])\n",
    "infos = np.array([each[4] for each in batch])"
   ]
  },
  {
   "cell_type": "code",
   "execution_count": 6,
   "metadata": {},
   "outputs": [
    {
     "name": "stdout",
     "output_type": "stream",
     "text": [
      "[1. 1. 1. 1. 1. 1. 1. 1. 1. 1. 1. 1. 1. 1. 1. 1. 1. 1. 1. 1.]\n",
      "(1000,) (1000, 4) (1000,) (1000,)\n",
      "float64 float64 int64 bool\n",
      "1 0\n",
      "2\n",
      "1.0 1.0\n",
      "2.5225960473830873 -2.4896172754629258\n"
     ]
    }
   ],
   "source": [
    "print(rewards[-20:])\n",
    "print(np.array(rewards).shape, np.array(states).shape, np.array(actions).shape, np.array(dones).shape)\n",
    "print(np.array(rewards).dtype, np.array(states).dtype, np.array(actions).dtype, np.array(dones).dtype)\n",
    "print(np.max(np.array(actions)), np.min(np.array(actions)))\n",
    "print((np.max(np.array(actions)) - np.min(np.array(actions)))+1)\n",
    "print(np.max(np.array(rewards)), np.min(np.array(rewards)))\n",
    "print(np.max(np.array(states)), np.min(np.array(states)))"
   ]
  },
  {
   "cell_type": "markdown",
   "metadata": {},
   "source": [
    "The game resets after the pole has fallen past a certain angle. For each frame while the simulation is running, it returns a reward of 1.0. The longer the game runs, the more reward we get. Then, our network's goal is to maximize the reward by keeping the pole vertical. It will do this by moving the cart to the left and the right."
   ]
  },
  {
   "cell_type": "markdown",
   "metadata": {},
   "source": [
    "## Q-Network\n",
    "\n",
    "We train our Q-learning agent using the Bellman Equation:\n",
    "\n",
    "$$\n",
    "Q(s, a) = r + \\gamma \\max{Q(s', a')}\n",
    "$$\n",
    "\n",
    "where $s$ is a state, $a$ is an action, and $s'$ is the next state from state $s$ and action $a$.\n",
    "\n",
    "Before we used this equation to learn values for a Q-_table_. However, for this game there are a huge number of states available. The state has four values: the position and velocity of the cart, and the position and velocity of the pole. These are all real-valued numbers, so ignoring floating point precisions, you practically have infinite states. Instead of using a table then, we'll replace it with a neural network that will approximate the Q-table lookup function.\n",
    "\n",
    "<img src=\"assets/deep-q-learning.png\" width=450px>\n",
    "\n",
    "Now, our Q value, $Q(s, a)$ is calculated by passing in a state to the network. The output will be Q-values for each available action, with fully connected hidden layers.\n",
    "\n",
    "<img src=\"assets/q-network.png\" width=550px>\n",
    "\n",
    "\n",
    "As I showed before, we can define our targets for training as $\\hat{Q}(s,a) = r + \\gamma \\max{Q(s', a')}$. Then we update the weights by minimizing $(\\hat{Q}(s,a) - Q(s,a))^2$. \n",
    "\n",
    "For this Cart-Pole game, we have four inputs, one for each value in the state, and two outputs, one for each action. To get $\\hat{Q}$, we'll first choose an action, then simulate the game using that action. This will get us the next state, $s'$, and the reward. With that, we can calculate $\\hat{Q}$ then pass it back into the $Q$ network to run the optimizer and update the weights.\n",
    "\n",
    "Below is my implementation of the Q-network. I used two fully connected layers with ReLU activations. Two seems to be good enough, three might be better. Feel free to try it out."
   ]
  },
  {
   "cell_type": "code",
   "execution_count": 12,
   "metadata": {},
   "outputs": [],
   "source": [
    "# Data of the model\n",
    "def model_input(state_size):\n",
    "    states = tf.placeholder(tf.float32, [None, state_size], name='states')\n",
    "    actions = tf.placeholder(tf.int32, [None], name='actions')\n",
    "    reward = tf.placeholder(tf.float32, [], name='reward')\n",
    "    return states, actions, reward"
   ]
  },
  {
   "cell_type": "code",
   "execution_count": 13,
   "metadata": {},
   "outputs": [],
   "source": [
    "# Generator: Generating/prediting the actions\n",
    "def generator(states, action_size, hidden_size, reuse=False, alpha=0.1, training=False):\n",
    "    with tf.variable_scope('generator', reuse=reuse):\n",
    "        # First fully connected layer\n",
    "        h1 = tf.layers.dense(inputs=states, units=hidden_size)\n",
    "        bn1 = tf.layers.batch_normalization(h1, training=training)        \n",
    "        nl1 = tf.maximum(alpha * bn1, bn1)\n",
    "        \n",
    "        # Second fully connected layer\n",
    "        h2 = tf.layers.dense(inputs=nl1, units=hidden_size)\n",
    "        bn2 = tf.layers.batch_normalization(h2, training=training)        \n",
    "        nl2 = tf.maximum(alpha * bn2, bn2)\n",
    "        \n",
    "        # Output layer\n",
    "        logits = tf.layers.dense(inputs=nl2, units=action_size)        \n",
    "        #predictions = tf.nn.softmax(logits)\n",
    "\n",
    "        # return actions logits\n",
    "        return logits"
   ]
  },
  {
   "cell_type": "code",
   "execution_count": 14,
   "metadata": {},
   "outputs": [],
   "source": [
    "def model_loss(states, actions, reward, # model input\n",
    "               action_size, hidden_size): # model init\n",
    "    actions_logits = generator(states=states, hidden_size=hidden_size, action_size=action_size)\n",
    "    actions_labels = tf.one_hot(indices=actions, depth=action_size, dtype=actions_logits.dtype)\n",
    "    loss = tf.reduce_mean(tf.nn.softmax_cross_entropy_with_logits_v2(logits=actions_logits, \n",
    "                                                                     labels=actions_labels))\n",
    "    #loss *= -reward\n",
    "    #loss *= -1\n",
    "    return actions_logits, loss"
   ]
  },
  {
   "cell_type": "code",
   "execution_count": 15,
   "metadata": {},
   "outputs": [],
   "source": [
    "def model_opt(loss, learning_rate):\n",
    "    \"\"\"\n",
    "    Get optimization operations in order\n",
    "    :param loss: Generator loss Tensor for action prediction\n",
    "    :param learning_rate: Learning Rate Placeholder\n",
    "    :return: A tuple of (qfunction training, generator training, discriminator training)\n",
    "    \"\"\"\n",
    "    # Get weights and bias to update\n",
    "    t_vars = tf.trainable_variables()\n",
    "    g_vars = [var for var in t_vars if var.name.startswith('generator')]\n",
    "\n",
    "    # Optimize\n",
    "    with tf.control_dependencies(tf.get_collection(tf.GraphKeys.UPDATE_OPS)): # Required for batchnorm (BN)\n",
    "        opt = tf.train.AdamOptimizer(learning_rate).minimize(loss, var_list=g_vars)\n",
    "\n",
    "    return opt"
   ]
  },
  {
   "cell_type": "code",
   "execution_count": 16,
   "metadata": {},
   "outputs": [],
   "source": [
    "class Model:\n",
    "    def __init__(self, state_size, action_size, hidden_size, learning_rate):\n",
    "\n",
    "        # Data of the Model: make the data available inside the framework\n",
    "        self.states, self.actions, self.reward = model_input(state_size=state_size)\n",
    "\n",
    "        # Create the Model: calculating the loss and forwad pass\n",
    "        self.actions_logits, self.loss = model_loss(\n",
    "            action_size=action_size, hidden_size=hidden_size, # model init parameters \n",
    "            reward = self.reward, states=self.states, actions=self.actions) # model input parameters\n",
    "        \n",
    "        # Update the model: backward pass and backprop\n",
    "        self.opt = model_opt(loss=self.loss, learning_rate=learning_rate)"
   ]
  },
  {
   "cell_type": "markdown",
   "metadata": {},
   "source": [
    "## Hyperparameters\n",
    "\n",
    "One of the more difficult aspects of reinforcememt learning are the large number of hyperparameters. Not only are we tuning the network, but we're tuning the simulation."
   ]
  },
  {
   "cell_type": "code",
   "execution_count": 17,
   "metadata": {},
   "outputs": [
    {
     "name": "stdout",
     "output_type": "stream",
     "text": [
      "state size:(1000, 4) actions:(1000,)\n",
      "2\n",
      "1\n",
      "0\n"
     ]
    }
   ],
   "source": [
    "print('state size:{}'.format(states.shape), \n",
    "      'actions:{}'.format(actions.shape)) \n",
    "print(np.max(actions) - np.min(actions)+1)\n",
    "print(np.max(actions))\n",
    "print(np.min(actions))"
   ]
  },
  {
   "cell_type": "code",
   "execution_count": 36,
   "metadata": {},
   "outputs": [],
   "source": [
    "# Training parameters\n",
    "# Network parameters\n",
    "state_size = 4                 # number of units for the input state/observation -- simulation\n",
    "action_size = 2                # number of units for the output actions -- simulation\n",
    "hidden_size = 64               # number of units in each Q-network hidden layer -- simulation\n",
    "batch_size = 50               # number of samples in the memory/ experience as mini-batch size\n",
    "learning_rate = 0.001          # learning rate for adam"
   ]
  },
  {
   "cell_type": "code",
   "execution_count": 37,
   "metadata": {},
   "outputs": [],
   "source": [
    "from collections import deque\n",
    "\n",
    "class Memory():    \n",
    "    def __init__(self, max_size = 1000):\n",
    "        self.buffer = deque(maxlen=max_size)"
   ]
  },
  {
   "cell_type": "code",
   "execution_count": 38,
   "metadata": {},
   "outputs": [],
   "source": [
    "# Init the graph, model & memory\n",
    "# Reset/init the graph/session\n",
    "graph = tf.reset_default_graph()\n",
    "model = Model(action_size=action_size, hidden_size=hidden_size, state_size=state_size, learning_rate=learning_rate)\n",
    "memory = Memory(batch_size)"
   ]
  },
  {
   "cell_type": "markdown",
   "metadata": {},
   "source": [
    "## Populate the memory (exprience memory)\n",
    "\n",
    "Here I'm re-initializing the simulation and pre-populating the memory. The agent is taking random actions and storing the transitions in memory. This will help the agent with exploring the game."
   ]
  },
  {
   "cell_type": "code",
   "execution_count": 39,
   "metadata": {},
   "outputs": [
    {
     "data": {
      "text/plain": [
       "array([0.02570688, 0.04589102, 0.00547323, 0.03649989])"
      ]
     },
     "execution_count": 39,
     "metadata": {},
     "output_type": "execute_result"
    }
   ],
   "source": [
    "env.reset()"
   ]
  },
  {
   "cell_type": "code",
   "execution_count": 40,
   "metadata": {},
   "outputs": [],
   "source": [
    "# Initialize the simulation\n",
    "state = env.reset()\n",
    "\n",
    "# Make a bunch of random actions and store the experiences\n",
    "for _ in range(batch_size):\n",
    "    action = env.action_space.sample()\n",
    "    memory.buffer.append([state, action])\n",
    "    state, reward, done, _ = env.step(action)\n",
    "    if done is True:\n",
    "        state = env.reset()"
   ]
  },
  {
   "cell_type": "markdown",
   "metadata": {},
   "source": [
    "## Training the model\n",
    "\n",
    "Below we'll train our agent. If you want to watch it train, uncomment the `env.render()` line. This is slow because it's rendering the frames slower than the network can train. But, it's cool to watch the agent get better at the game."
   ]
  },
  {
   "cell_type": "code",
   "execution_count": 41,
   "metadata": {},
   "outputs": [
    {
     "data": {
      "text/plain": [
       "(array([-0.03709006, -0.01452918, -0.00910758, -0.12097964]), 1.0, 1)"
      ]
     },
     "execution_count": 41,
     "metadata": {},
     "output_type": "execute_result"
    }
   ],
   "source": [
    "state, reward, action"
   ]
  },
  {
   "cell_type": "code",
   "execution_count": 42,
   "metadata": {},
   "outputs": [],
   "source": [
    "# import numpy as np\n",
    "def sigmoid(x, derivative=False):\n",
    "  return x*(1-x) if derivative else 1/(1+np.exp(-x))"
   ]
  },
  {
   "cell_type": "code",
   "execution_count": 43,
   "metadata": {},
   "outputs": [
    {
     "name": "stdout",
     "output_type": "stream",
     "text": [
      "Episode: 0 Total reward: 54.0 Total reward: 0.6318 Batch loss: -0.5502\n",
      "Episode: 1 Total reward: 12.0 Total reward: 0.5300 Batch loss: -0.9827\n",
      "Episode: 2 Total reward: 10.0 Total reward: 0.5250 Batch loss: -1.4873\n",
      "Episode: 3 Total reward: 11.0 Total reward: 0.5275 Batch loss: -1.9449\n",
      "Episode: 4 Total reward: 8.0 Total reward: 0.5200 Batch loss: -1.9492\n",
      "Episode: 5 Total reward: 9.0 Total reward: 0.5225 Batch loss: -1.2892\n",
      "Episode: 6 Total reward: 9.0 Total reward: 0.5225 Batch loss: -0.4803\n",
      "Episode: 7 Total reward: 8.0 Total reward: 0.5200 Batch loss: -0.0000\n",
      "Episode: 8 Total reward: 9.0 Total reward: 0.5225 Batch loss: -0.0000\n",
      "Episode: 9 Total reward: 10.0 Total reward: 0.5250 Batch loss: -0.0000\n",
      "Episode: 10 Total reward: 10.0 Total reward: 0.5250 Batch loss: -0.0000\n",
      "Episode: 11 Total reward: 8.0 Total reward: 0.5200 Batch loss: -0.0000\n",
      "Episode: 12 Total reward: 9.0 Total reward: 0.5225 Batch loss: -0.0000\n",
      "Episode: 13 Total reward: 9.0 Total reward: 0.5225 Batch loss: -0.0000\n",
      "Episode: 14 Total reward: 10.0 Total reward: 0.5250 Batch loss: -0.0000\n",
      "Episode: 15 Total reward: 8.0 Total reward: 0.5200 Batch loss: -0.0000\n",
      "Episode: 16 Total reward: 8.0 Total reward: 0.5200 Batch loss: -0.0000\n",
      "Episode: 17 Total reward: 9.0 Total reward: 0.5225 Batch loss: -0.0000\n",
      "Episode: 18 Total reward: 10.0 Total reward: 0.5250 Batch loss: -0.0000\n",
      "Episode: 19 Total reward: 8.0 Total reward: 0.5200 Batch loss: -0.0000\n",
      "Episode: 20 Total reward: 10.0 Total reward: 0.5250 Batch loss: -0.0000\n",
      "Episode: 21 Total reward: 9.0 Total reward: 0.5225 Batch loss: -0.0000\n",
      "Episode: 22 Total reward: 10.0 Total reward: 0.5250 Batch loss: -0.0000\n",
      "Episode: 23 Total reward: 10.0 Total reward: 0.5250 Batch loss: -0.0000\n",
      "Episode: 24 Total reward: 9.0 Total reward: 0.5225 Batch loss: -0.0000\n",
      "Episode: 25 Total reward: 11.0 Total reward: 0.5275 Batch loss: -0.0000\n",
      "Episode: 26 Total reward: 10.0 Total reward: 0.5250 Batch loss: -0.0000\n",
      "Episode: 27 Total reward: 10.0 Total reward: 0.5250 Batch loss: -0.0000\n",
      "Episode: 28 Total reward: 10.0 Total reward: 0.5250 Batch loss: -0.0000\n",
      "Episode: 29 Total reward: 10.0 Total reward: 0.5250 Batch loss: -0.0000\n",
      "Episode: 30 Total reward: 10.0 Total reward: 0.5250 Batch loss: -0.0000\n",
      "Episode: 31 Total reward: 10.0 Total reward: 0.5250 Batch loss: -0.0000\n",
      "Episode: 32 Total reward: 9.0 Total reward: 0.5225 Batch loss: -0.0000\n",
      "Episode: 33 Total reward: 9.0 Total reward: 0.5225 Batch loss: -0.0000\n",
      "Episode: 34 Total reward: 8.0 Total reward: 0.5200 Batch loss: -0.0000\n",
      "Episode: 35 Total reward: 10.0 Total reward: 0.5250 Batch loss: -0.0000\n",
      "Episode: 36 Total reward: 10.0 Total reward: 0.5250 Batch loss: -0.0000\n",
      "Episode: 37 Total reward: 9.0 Total reward: 0.5225 Batch loss: -0.0000\n",
      "Episode: 38 Total reward: 9.0 Total reward: 0.5225 Batch loss: -0.0000\n",
      "Episode: 39 Total reward: 10.0 Total reward: 0.5250 Batch loss: -0.0000\n",
      "Episode: 40 Total reward: 9.0 Total reward: 0.5225 Batch loss: -0.0000\n",
      "Episode: 41 Total reward: 8.0 Total reward: 0.5200 Batch loss: -0.0000\n",
      "Episode: 42 Total reward: 10.0 Total reward: 0.5250 Batch loss: -0.0000\n",
      "Episode: 43 Total reward: 10.0 Total reward: 0.5250 Batch loss: -0.0000\n",
      "Episode: 44 Total reward: 9.0 Total reward: 0.5225 Batch loss: -0.0000\n",
      "Episode: 45 Total reward: 10.0 Total reward: 0.5250 Batch loss: -0.0000\n",
      "Episode: 46 Total reward: 9.0 Total reward: 0.5225 Batch loss: -0.0000\n",
      "Episode: 47 Total reward: 10.0 Total reward: 0.5250 Batch loss: -0.0000\n",
      "Episode: 48 Total reward: 9.0 Total reward: 0.5225 Batch loss: -0.0000\n",
      "Episode: 49 Total reward: 9.0 Total reward: 0.5225 Batch loss: -0.0000\n",
      "Episode: 50 Total reward: 8.0 Total reward: 0.5200 Batch loss: -0.0000\n",
      "Episode: 51 Total reward: 8.0 Total reward: 0.5200 Batch loss: -0.0000\n",
      "Episode: 52 Total reward: 9.0 Total reward: 0.5225 Batch loss: -0.0000\n",
      "Episode: 53 Total reward: 9.0 Total reward: 0.5225 Batch loss: -0.0000\n",
      "Episode: 54 Total reward: 10.0 Total reward: 0.5250 Batch loss: -0.0000\n",
      "Episode: 55 Total reward: 10.0 Total reward: 0.5250 Batch loss: -0.0000\n",
      "Episode: 56 Total reward: 10.0 Total reward: 0.5250 Batch loss: -0.0000\n",
      "Episode: 57 Total reward: 10.0 Total reward: 0.5250 Batch loss: -0.0000\n",
      "Episode: 58 Total reward: 9.0 Total reward: 0.5225 Batch loss: -0.0000\n",
      "Episode: 59 Total reward: 8.0 Total reward: 0.5200 Batch loss: -0.0000\n",
      "Episode: 60 Total reward: 8.0 Total reward: 0.5200 Batch loss: -0.0000\n",
      "Episode: 61 Total reward: 9.0 Total reward: 0.5225 Batch loss: -0.0000\n",
      "Episode: 62 Total reward: 9.0 Total reward: 0.5225 Batch loss: -0.0000\n",
      "Episode: 63 Total reward: 10.0 Total reward: 0.5250 Batch loss: -0.0000\n",
      "Episode: 64 Total reward: 9.0 Total reward: 0.5225 Batch loss: -0.0000\n",
      "Episode: 65 Total reward: 10.0 Total reward: 0.5250 Batch loss: -0.0000\n",
      "Episode: 66 Total reward: 9.0 Total reward: 0.5225 Batch loss: -0.0000\n",
      "Episode: 67 Total reward: 9.0 Total reward: 0.5225 Batch loss: -0.0000\n",
      "Episode: 68 Total reward: 10.0 Total reward: 0.5250 Batch loss: -0.0000\n",
      "Episode: 69 Total reward: 9.0 Total reward: 0.5225 Batch loss: -0.0000\n",
      "Episode: 70 Total reward: 9.0 Total reward: 0.5225 Batch loss: -0.0000\n",
      "Episode: 71 Total reward: 9.0 Total reward: 0.5225 Batch loss: -0.0000\n",
      "Episode: 72 Total reward: 9.0 Total reward: 0.5225 Batch loss: -0.0000\n",
      "Episode: 73 Total reward: 8.0 Total reward: 0.5200 Batch loss: -0.0000\n",
      "Episode: 74 Total reward: 9.0 Total reward: 0.5225 Batch loss: -0.0000\n",
      "Episode: 75 Total reward: 9.0 Total reward: 0.5225 Batch loss: -0.0000\n",
      "Episode: 76 Total reward: 8.0 Total reward: 0.5200 Batch loss: -0.0000\n",
      "Episode: 77 Total reward: 10.0 Total reward: 0.5250 Batch loss: -0.0000\n",
      "Episode: 78 Total reward: 9.0 Total reward: 0.5225 Batch loss: -0.0000\n",
      "Episode: 79 Total reward: 9.0 Total reward: 0.5225 Batch loss: -0.0000\n",
      "Episode: 80 Total reward: 10.0 Total reward: 0.5250 Batch loss: -0.0000\n",
      "Episode: 81 Total reward: 10.0 Total reward: 0.5250 Batch loss: -0.0000\n",
      "Episode: 82 Total reward: 10.0 Total reward: 0.5250 Batch loss: -0.0000\n",
      "Episode: 83 Total reward: 9.0 Total reward: 0.5225 Batch loss: -0.0000\n",
      "Episode: 84 Total reward: 10.0 Total reward: 0.5250 Batch loss: -0.0000\n",
      "Episode: 85 Total reward: 10.0 Total reward: 0.5250 Batch loss: -0.0000\n",
      "Episode: 86 Total reward: 8.0 Total reward: 0.5200 Batch loss: -0.0000\n",
      "Episode: 87 Total reward: 9.0 Total reward: 0.5225 Batch loss: -0.0000\n",
      "Episode: 88 Total reward: 10.0 Total reward: 0.5250 Batch loss: -0.0000\n",
      "Episode: 89 Total reward: 9.0 Total reward: 0.5225 Batch loss: -0.0000\n",
      "Episode: 90 Total reward: 10.0 Total reward: 0.5250 Batch loss: -0.0000\n",
      "Episode: 91 Total reward: 10.0 Total reward: 0.5250 Batch loss: -0.0000\n",
      "Episode: 92 Total reward: 8.0 Total reward: 0.5200 Batch loss: -0.0000\n",
      "Episode: 93 Total reward: 9.0 Total reward: 0.5225 Batch loss: -0.0000\n",
      "Episode: 94 Total reward: 10.0 Total reward: 0.5250 Batch loss: -0.0000\n",
      "Episode: 95 Total reward: 10.0 Total reward: 0.5250 Batch loss: -0.0000\n",
      "Episode: 96 Total reward: 9.0 Total reward: 0.5225 Batch loss: -0.0000\n",
      "Episode: 97 Total reward: 9.0 Total reward: 0.5225 Batch loss: -0.0000\n",
      "Episode: 98 Total reward: 9.0 Total reward: 0.5225 Batch loss: -0.0000\n",
      "Episode: 99 Total reward: 9.0 Total reward: 0.5225 Batch loss: -0.0000\n"
     ]
    }
   ],
   "source": [
    "# Now train with experiences\n",
    "saver = tf.train.Saver()\n",
    "rewards_list, loss_list = [], []\n",
    "\n",
    "# TF session for training\n",
    "with tf.Session(graph=graph) as sess:\n",
    "    sess.run(tf.global_variables_initializer())\n",
    "    #saver.restore(sess, 'checkpoints/model.ckpt')    \n",
    "    #saver.restore(sess, tf.train.latest_checkpoint('checkpoints'))\n",
    "    \n",
    "    # Training episodes/epochs\n",
    "    for ep in range(100):\n",
    "        state = env.reset() # env first state\n",
    "        total_reward = 0\n",
    "\n",
    "        # Training steps/batches\n",
    "        #for _ in range(max_steps): # start=0, step=1, stop=max_steps/done/reward\n",
    "        while True:\n",
    "            action_logits = sess.run(model.actions_logits, feed_dict={model.states: np.reshape(state, [1, -1])})\n",
    "            action = np.argmax(action_logits)\n",
    "            memory.buffer.append([state, action])\n",
    "            state, reward, done, _ = env.step(action)\n",
    "            total_reward += reward\n",
    "            reward = sigmoid(total_reward/100)\n",
    "            \n",
    "            # Training batches\n",
    "            batch = memory.buffer\n",
    "            states = np.array([each[0] for each in batch])\n",
    "            actions = np.array([each[1] for each in batch])\n",
    "            loss, _ = sess.run([model.loss, model.opt], feed_dict = {model.states: states, \n",
    "                                                                     model.actions: actions, \n",
    "#                                                                      model.reward: total_reward})\n",
    "                                                                     model.reward: reward})\n",
    "            if done is True:\n",
    "                break\n",
    "\n",
    "        \n",
    "        # Printing & plotting\n",
    "        print('Episode: {}'.format(ep), \n",
    "              'Total reward: {}'.format(total_reward), \n",
    "              'Total reward: {:.4f}'.format(reward), \n",
    "              'Batch loss: {:.4f}'.format(loss))\n",
    "        rewards_list.append([ep, total_reward])\n",
    "        loss_list.append([ep, loss])\n",
    "        \n",
    "    # At the end of all training episodes/epochs\n",
    "    saver.save(sess, 'checkpoints/model-pg.ckpt')"
   ]
  },
  {
   "cell_type": "markdown",
   "metadata": {},
   "source": [
    "# Visualizing training\n",
    "\n",
    "Below I'll plot the total rewards for each episode. I'm plotting the rolling average too, in blue."
   ]
  },
  {
   "cell_type": "code",
   "execution_count": 128,
   "metadata": {},
   "outputs": [],
   "source": [
    "import matplotlib.pyplot as plt\n",
    "%matplotlib inline\n",
    "\n",
    "def running_mean(x, N):\n",
    "    cumsum = np.cumsum(np.insert(x, 0, 0)) \n",
    "    return (cumsum[N:] - cumsum[:-N]) / N "
   ]
  },
  {
   "cell_type": "code",
   "execution_count": 129,
   "metadata": {},
   "outputs": [
    {
     "data": {
      "text/plain": [
       "Text(0,0.5,'Total rewards')"
      ]
     },
     "execution_count": 129,
     "metadata": {},
     "output_type": "execute_result"
    },
    {
     "data": {
      "image/png": "[encoded data removed]",
      "text/plain": [
       "<Figure size 432x288 with 1 Axes>"
      ]
     },
     "metadata": {},
     "output_type": "display_data"
    }
   ],
   "source": [
    "eps, arr = np.array(rewards_list).T\n",
    "smoothed_arr = running_mean(arr, 10)\n",
    "plt.plot(eps[-len(smoothed_arr):], smoothed_arr)\n",
    "plt.plot(eps, arr, color='grey', alpha=0.3)\n",
    "plt.xlabel('Episode')\n",
    "plt.ylabel('Total rewards')"
   ]
  },
  {
   "cell_type": "code",
   "execution_count": 119,
   "metadata": {},
   "outputs": [
    {
     "data": {
      "text/plain": [
       "Text(0,0.5,'Batch losses')"
      ]
     },
     "execution_count": 119,
     "metadata": {},
     "output_type": "execute_result"
    },
    {
     "data": {
      "image/png": "[encoded data removed]",
      "text/plain": [
       "<Figure size 432x288 with 1 Axes>"
      ]
     },
     "metadata": {},
     "output_type": "display_data"
    }
   ],
   "source": [
    "eps, arr = np.array(loss_list).T\n",
    "smoothed_arr = running_mean(arr, 10)\n",
    "plt.plot(eps[-len(smoothed_arr):], smoothed_arr)\n",
    "plt.plot(eps, arr, color='grey', alpha=0.3)\n",
    "plt.xlabel('Episode')\n",
    "plt.ylabel('Batch losses')"
   ]
  },
  {
   "cell_type": "markdown",
   "metadata": {},
   "source": [
    "## Testing\n",
    "\n",
    "Let's checkout how our trained agent plays the game."
   ]
  },
  {
   "cell_type": "code",
   "execution_count": 49,
   "metadata": {},
   "outputs": [
    {
     "name": "stdout",
     "output_type": "stream",
     "text": [
      "\u001b[33mWARN: gym.spaces.Box autodetected dtype as <class 'numpy.float32'>. Please provide explicit dtype.\u001b[0m\n",
      "\u001b[33mWARN: gym.spaces.Box autodetected dtype as <class 'numpy.float32'>. Please provide explicit dtype.\u001b[0m\n",
      "INFO:tensorflow:Restoring parameters from checkpoints/model-pg.ckpt\n"
     ]
    },
    {
     "name": "stderr",
     "output_type": "stream",
     "text": [
      "/home/arasdar/anaconda3/envs/env/lib/python3.6/site-packages/gym/__init__.py:22: UserWarning: DEPRECATION WARNING: to improve load times, gym no longer automatically loads gym.spaces. Please run \"import gym.spaces\" to load gym.spaces on your own. This warning will turn into an error in a future version of gym.\n",
      "  warnings.warn('DEPRECATION WARNING: to improve load times, gym no longer automatically loads gym.spaces. Please run \"import gym.spaces\" to load gym.spaces on your own. This warning will turn into an error in a future version of gym.')\n"
     ]
    },
    {
     "name": "stdout",
     "output_type": "stream",
     "text": [
      "total_reward: 500.00\n"
     ]
    }
   ],
   "source": [
    "import gym\n",
    "env = gym.make('CartPole-v0')\n",
    "env = gym.make('CartPole-v1')\n",
    "# env = gym.make('Acrobot-v1')\n",
    "# env = gym.make('MountainCar-v0')\n",
    "# env = gym.make('Pendulum-v0')\n",
    "# env = gym.make('Blackjack-v0')\n",
    "# env = gym.make('FrozenLake-v0')\n",
    "# env = gym.make('AirRaid-ram-v0')\n",
    "# env = gym.make('AirRaid-v0')\n",
    "# env = gym.make('BipedalWalker-v2')\n",
    "# env = gym.make('Copy-v0')\n",
    "# env = gym.make('CarRacing-v0')\n",
    "# env = gym.make('Ant-v2') #mujoco\n",
    "# env = gym.make('FetchPickAndPlace-v1') # mujoco required!\n",
    "\n",
    "with tf.Session() as sess:\n",
    "    #sess.run(tf.global_variables_initializer())\n",
    "    saver.restore(sess, 'checkpoints/model-pg.ckpt')    \n",
    "    #saver.restore(sess, tf.train.latest_checkpoint('checkpoints'))\n",
    "    \n",
    "    # Episodes/epochs\n",
    "    for _ in range(1):\n",
    "        state = env.reset()\n",
    "        total_reward = 0\n",
    "\n",
    "        # Steps/batches\n",
    "        for _ in range(111111111111111111):\n",
    "            env.render()\n",
    "            action_logits = sess.run(model.actions_logits, feed_dict={model.states: np.reshape(state, [1, -1])})\n",
    "            action = np.argmax(action_logits)\n",
    "            state, reward, done, _ = env.step(action)\n",
    "            total_reward += reward\n",
    "            if done:\n",
    "                break\n",
    "                \n",
    "        # Closing the env\n",
    "        print('total_reward: {:.2f}'.format(total_reward))\n",
    "        env.close()"
   ]
  },
  {
   "cell_type": "markdown",
   "metadata": {},
   "source": [
    "## Extending this\n",
    "\n",
    "So, Cart-Pole is a pretty simple game. However, the same model can be used to train an agent to play something much more complicated like Pong or Space Invaders. Instead of a state like we're using here though, you'd want to use convolutional layers to get the state from the screen images.\n",
    "\n",
    "![Deep Q-Learning Atari](assets/atari-network.png)\n",
    "\n",
    "I'll leave it as a challenge for you to use deep Q-learning to train an agent to play Atari games. Here's the original paper which will get you started: http://www.davidqiu.com:8888/research/nature14236.pdf."
   ]
  },
  {
   "cell_type": "code",
   "execution_count": null,
   "metadata": {},
   "outputs": [],
   "source": []
  }
 ],
 "metadata": {
  "kernelspec": {
   "display_name": "Python 3",
   "language": "python",
   "name": "python3"
  },
  "language_info": {
   "codemirror_mode": {
    "name": "ipython",
    "version": 3
   },
   "file_extension": ".py",
   "mimetype": "text/x-python",
   "name": "python",
   "nbconvert_exporter": "python",
   "pygments_lexer": "ipython3",
   "version": "3.6.5"
  }
 },
 "nbformat": 4,
 "nbformat_minor": 2
}
