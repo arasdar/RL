{
 "cells": [
  {
   "cell_type": "code",
   "execution_count": 1,
   "metadata": {},
   "outputs": [
    {
     "name": "stdout",
     "output_type": "stream",
     "text": [
      "TensorFlow Version: 1.7.1\n",
      "Default GPU Device: \n"
     ]
    }
   ],
   "source": [
    "# In this one we should define and detect GPUs for tensorflow\n",
    "# GPUs or CPU\n",
    "import tensorflow as tf\n",
    "\n",
    "# Check TensorFlow Version\n",
    "print('TensorFlow Version: {}'.format(tf.__version__))\n",
    "\n",
    "# Check for a GPU\n",
    "print('Default GPU Device: {}'.format(tf.test.gpu_device_name()))"
   ]
  },
  {
   "cell_type": "markdown",
   "metadata": {},
   "source": [
    "##### >**Note:** Make sure you have OpenAI Gym cloned. Then run this command `pip install -e gym/[all]`."
   ]
  },
  {
   "cell_type": "code",
   "execution_count": 2,
   "metadata": {},
   "outputs": [],
   "source": [
    "import numpy as np\n",
    "import gym\n",
    "env = gym.make('CartPole-v0')\n",
    "env = gym.make('CartPole-v1')"
   ]
  },
  {
   "cell_type": "code",
   "execution_count": 3,
   "metadata": {},
   "outputs": [],
   "source": [
    "def model_input(state_size):\n",
    "    #states = tf.placeholder(tf.float32, [None, *state_size], name='states')\n",
    "    states = tf.placeholder(tf.float32, [None, state_size], name='states')\n",
    "    actions = tf.placeholder(tf.int32, [None], name='actions')\n",
    "    targetQs = tf.placeholder(tf.float32, [None], name='targetQs')\n",
    "    rates = tf.placeholder(tf.float32, [None], name='rates')\n",
    "    return states, actions, targetQs, rates"
   ]
  },
  {
   "cell_type": "code",
   "execution_count": 4,
   "metadata": {},
   "outputs": [],
   "source": [
    "# Generator/Controller: Generating/prediting the actions\n",
    "def generator(states, action_size, hidden_size, reuse=False, alpha=0.1, training=False):\n",
    "    with tf.variable_scope('generator', reuse=reuse):\n",
    "        # First fully connected layer\n",
    "        h1 = tf.layers.dense(inputs=states, units=hidden_size)\n",
    "        bn1 = tf.layers.batch_normalization(h1, training=training)        \n",
    "        nl1 = tf.maximum(alpha * bn1, bn1)\n",
    "        \n",
    "        # Second fully connected layer\n",
    "        h2 = tf.layers.dense(inputs=nl1, units=hidden_size)\n",
    "        bn2 = tf.layers.batch_normalization(h2, training=training)        \n",
    "        nl2 = tf.maximum(alpha * bn2, bn2)\n",
    "        \n",
    "        # Output layer\n",
    "        logits = tf.layers.dense(inputs=nl2, units=action_size)        \n",
    "        #predictions = tf.nn.softmax(logits)\n",
    "\n",
    "        # return actions logits\n",
    "        return logits"
   ]
  },
  {
   "cell_type": "code",
   "execution_count": 5,
   "metadata": {},
   "outputs": [],
   "source": [
    "def discriminator(states, actions, hidden_size, reuse=False, alpha=0.1, training=False):\n",
    "    with tf.variable_scope('discriminator', reuse=reuse):\n",
    "        # First fully connected layer\n",
    "        h1 = tf.layers.dense(inputs=states, units=action_size)\n",
    "        bn1 = tf.layers.batch_normalization(h1, training=training)        \n",
    "        nl1 = tf.maximum(alpha * bn1, bn1)\n",
    "        \n",
    "        # Second fully connected layer\n",
    "        nl1_fused = tf.concat(axis=1, values=[nl1, actions])\n",
    "        h2 = tf.layers.dense(inputs=nl1_fused, units=hidden_size)\n",
    "        bn2 = tf.layers.batch_normalization(h2, training=training)        \n",
    "        nl2 = tf.maximum(alpha * bn2, bn2)\n",
    "                \n",
    "        # Output layer\n",
    "        logits = tf.layers.dense(inputs=nl2, units=1)        \n",
    "        #predictions = tf.nn.softmax(logits)\n",
    "\n",
    "        # return rewards logits\n",
    "        return logits"
   ]
  },
  {
   "cell_type": "code",
   "execution_count": 6,
   "metadata": {},
   "outputs": [],
   "source": [
    "def model_loss(action_size, hidden_size, states, actions, targetQs, rates):\n",
    "    actions_logits = generator(states=states, hidden_size=hidden_size, action_size=action_size)\n",
    "    actions_labels = tf.one_hot(indices=actions, depth=action_size, dtype=actions_logits.dtype)\n",
    "    neg_log_prob = tf.nn.softmax_cross_entropy_with_logits_v2(logits=actions_logits, \n",
    "                                                              labels=actions_labels)\n",
    "    targetQs = tf.reshape(targetQs, shape=[-1, 1])\n",
    "    gloss = tf.reduce_mean(neg_log_prob * targetQs) # DPG\n",
    "    gQs = discriminator(actions=actions_logits, hidden_size=hidden_size, states=states)\n",
    "    dQs = discriminator(actions=actions_labels, hidden_size=hidden_size, states=states, reuse=True)\n",
    "    rates = tf.reshape(rates, shape=[-1, 1])\n",
    "    dlossA = tf.reduce_mean(tf.nn.sigmoid_cross_entropy_with_logits(logits=dQs, # GAN\n",
    "                                                                    labels=rates)) # 0-1\n",
    "    dlossA += tf.reduce_mean(tf.nn.sigmoid_cross_entropy_with_logits(logits=dQs, # GAN\n",
    "                                                                     labels=tf.nn.sigmoid(targetQs))) # 0-1\n",
    "#     dlossA /= 2\n",
    "#     dlossQ = tf.reduce_mean(tf.square(gQs - targetQs)) # DQN\n",
    "    dlossQ = tf.reduce_mean(tf.square(dQs - targetQs)) # DQN\n",
    "#     dlossQ /= 2\n",
    "    return actions_logits, gQs, gloss, dlossA, dlossQ"
   ]
  },
  {
   "cell_type": "code",
   "execution_count": 7,
   "metadata": {},
   "outputs": [],
   "source": [
    "# Optimizating/training/learning G & D\n",
    "def model_opt(g_loss, d_lossA, d_lossQ, g_learning_rate, d_learning_rate):\n",
    "    # Get weights and bias to update\n",
    "    t_vars = tf.trainable_variables()\n",
    "    g_vars = [var for var in t_vars if var.name.startswith('generator')]\n",
    "    d_vars = [var for var in t_vars if var.name.startswith('discriminator')]\n",
    "\n",
    "    # Optimize\n",
    "    with tf.control_dependencies(tf.get_collection(tf.GraphKeys.UPDATE_OPS)): # Required for batchnorm (BN)\n",
    "        g_opt = tf.train.AdamOptimizer(g_learning_rate).minimize(g_loss, var_list=g_vars)\n",
    "        d_optA = tf.train.AdamOptimizer(d_learning_rate).minimize(d_lossA, var_list=d_vars)\n",
    "        d_optQ = tf.train.AdamOptimizer(d_learning_rate).minimize(d_lossQ, var_list=d_vars)\n",
    "\n",
    "    return g_opt, d_optA, d_optQ"
   ]
  },
  {
   "cell_type": "code",
   "execution_count": 8,
   "metadata": {},
   "outputs": [],
   "source": [
    "class Model:\n",
    "    def __init__(self, state_size, action_size, hidden_size, g_learning_rate, d_learning_rate):\n",
    "\n",
    "        # Data of the Model: make the data available inside the framework\n",
    "        self.states, self.actions, self.targetQs, self.rates = model_input(state_size=state_size)\n",
    "\n",
    "        # Create the Model: calculating the loss and forwad pass\n",
    "        self.actions_logits, self.Qs_logits, self.g_loss, self.d_lossA, self.d_lossQ = model_loss(\n",
    "            action_size=action_size, hidden_size=hidden_size, # model init parameters\n",
    "            states=self.states, actions=self.actions, \n",
    "            targetQs=self.targetQs, rates=self.rates) # model input\n",
    "        \n",
    "        # Update the model: backward pass and backprop\n",
    "        self.g_opt, self.d_optA, self.d_optQ = model_opt(g_loss=self.g_loss, \n",
    "                                                         d_lossA=self.d_lossA, \n",
    "                                                         d_lossQ=self.d_lossQ, \n",
    "                                                         g_learning_rate=g_learning_rate, \n",
    "                                                         d_learning_rate=d_learning_rate)"
   ]
  },
  {
   "cell_type": "code",
   "execution_count": 9,
   "metadata": {},
   "outputs": [],
   "source": [
    "from collections import deque\n",
    "class Memory():\n",
    "    def __init__(self, max_size = 1000):\n",
    "        self.buffer = deque(maxlen=max_size) # data batch\n",
    "        self.rates = deque(maxlen=max_size) # rates\n",
    "#     def sample(self, batch_size):\n",
    "#         idx = np.random.choice(np.arange(len(self.buffer)), # ==  self.rates\n",
    "#                                size=batch_size, \n",
    "#                                replace=False)\n",
    "#         return [self.buffer[ii] for ii in idx], [self.rates[ii] for ii in idx]"
   ]
  },
  {
   "cell_type": "markdown",
   "metadata": {},
   "source": [
    "## Hyperparameters\n",
    "\n",
    "One of the more difficult aspects of reinforcememt learning are the large number of hyperparameters. Not only are we tuning the network, but we're tuning the simulation."
   ]
  },
  {
   "cell_type": "code",
   "execution_count": 10,
   "metadata": {},
   "outputs": [
    {
     "data": {
      "text/plain": [
       "(Box(4,), Discrete(2))"
      ]
     },
     "execution_count": 10,
     "metadata": {},
     "output_type": "execute_result"
    }
   ],
   "source": [
    "env.observation_space, env.action_space"
   ]
  },
  {
   "cell_type": "code",
   "execution_count": 11,
   "metadata": {},
   "outputs": [],
   "source": [
    "# Exploration parameters\n",
    "explore_start = 1.0            # exploration probability at start\n",
    "explore_stop = 0.01           # minimum exploration probability \n",
    "decay_rate = 0.0001            # exponential decay rate for exploration prob\n",
    "\n",
    "# Network parameters\n",
    "state_size = 4\n",
    "action_size = 2\n",
    "hidden_size = 4*2             # number of units in each Q-network hidden layer\n",
    "g_learning_rate = 1e-4         # Q-network learning rate\n",
    "d_learning_rate = 1e-4         # Q-network learning rate\n",
    "\n",
    "# Memory parameters\n",
    "memory_size = int(1e5)            # memory capacity\n",
    "batch_size = int(1e3)             # experience mini-batch size: 200/500 a successfull episode size\n",
    "gamma = 0.99                   # future reward discount"
   ]
  },
  {
   "cell_type": "code",
   "execution_count": 12,
   "metadata": {},
   "outputs": [],
   "source": [
    "# Reset/init the graph/session\n",
    "graph = tf.reset_default_graph()\n",
    "\n",
    "# Init the model\n",
    "model = Model(action_size=action_size, state_size=state_size, hidden_size=hidden_size,\n",
    "              g_learning_rate=g_learning_rate, d_learning_rate=d_learning_rate)\n",
    "\n",
    "# Init the memory\n",
    "memory = Memory(max_size=memory_size)"
   ]
  },
  {
   "cell_type": "code",
   "execution_count": 13,
   "metadata": {},
   "outputs": [],
   "source": [
    "state = env.reset()\n",
    "total_reward = 0\n",
    "num_step = 0\n",
    "for _ in range(memory_size):\n",
    "    action = env.action_space.sample()\n",
    "    next_state, reward, done, _ = env.step(action)\n",
    "    memory.buffer.append([state, action, next_state, reward, float(done)])\n",
    "    memory.rates.append(-1) # empty\n",
    "    num_step += 1 # memory incremented\n",
    "    total_reward += reward\n",
    "    state = next_state\n",
    "    if done is True:\n",
    "        state = env.reset()\n",
    "        rate = total_reward/500\n",
    "        total_reward = 0 # reset\n",
    "        for idx in range(num_step): # episode length\n",
    "            if memory.rates[-1-idx] == -1:\n",
    "                memory.rates[-1-idx] = rate\n",
    "        num_step = 0 # reset"
   ]
  },
  {
   "cell_type": "markdown",
   "metadata": {},
   "source": [
    "## Training the model\n",
    "\n",
    "Below we'll train our agent. If you want to watch it train, uncomment the `env.render()` line. This is slow because it's rendering the frames slower than the network can train. But, it's cool to watch the agent get better at the game."
   ]
  },
  {
   "cell_type": "code",
   "execution_count": null,
   "metadata": {},
   "outputs": [
    {
     "name": "stdout",
     "output_type": "stream",
     "text": [
      "Episode:0 meanR:22.0000 R:22.0000 rate:0.0440 gloss:0.6249 dlossA:1.3722 dlossQ:1.3314 exploreP:0.9978\n",
      "Episode:1 meanR:21.0000 R:20.0000 rate:0.0400 gloss:0.6395 dlossA:1.3716 dlossQ:1.4058 exploreP:0.9959\n",
      "Episode:2 meanR:18.6667 R:14.0000 rate:0.0280 gloss:0.6375 dlossA:1.3710 dlossQ:1.3671 exploreP:0.9945\n",
      "Episode:3 meanR:24.5000 R:42.0000 rate:0.0840 gloss:0.6376 dlossA:1.3679 dlossQ:1.4078 exploreP:0.9903\n",
      "Episode:4 meanR:23.0000 R:17.0000 rate:0.0340 gloss:0.6277 dlossA:1.3681 dlossQ:1.4093 exploreP:0.9887\n",
      "Episode:5 meanR:22.0000 R:17.0000 rate:0.0340 gloss:0.6417 dlossA:1.3664 dlossQ:1.3898 exploreP:0.9870\n",
      "Episode:6 meanR:21.8571 R:21.0000 rate:0.0420 gloss:0.6228 dlossA:1.3671 dlossQ:1.4329 exploreP:0.9850\n",
      "Episode:7 meanR:23.1250 R:32.0000 rate:0.0640 gloss:0.6051 dlossA:1.3628 dlossQ:1.4133 exploreP:0.9819\n",
      "Episode:8 meanR:24.6667 R:37.0000 rate:0.0740 gloss:0.5982 dlossA:1.3617 dlossQ:1.3998 exploreP:0.9783\n",
      "Episode:9 meanR:23.5000 R:13.0000 rate:0.0260 gloss:0.6101 dlossA:1.3635 dlossQ:1.4492 exploreP:0.9770\n",
      "Episode:10 meanR:23.0000 R:18.0000 rate:0.0360 gloss:0.6022 dlossA:1.3640 dlossQ:1.4360 exploreP:0.9753\n",
      "Episode:11 meanR:22.5833 R:18.0000 rate:0.0360 gloss:0.6108 dlossA:1.3620 dlossQ:1.4549 exploreP:0.9735\n",
      "Episode:12 meanR:21.6923 R:11.0000 rate:0.0220 gloss:0.6119 dlossA:1.3656 dlossQ:1.4623 exploreP:0.9725\n",
      "Episode:13 meanR:22.6429 R:35.0000 rate:0.0700 gloss:0.6026 dlossA:1.3597 dlossQ:1.4483 exploreP:0.9691\n",
      "Episode:14 meanR:22.8667 R:26.0000 rate:0.0520 gloss:0.5885 dlossA:1.3625 dlossQ:1.4435 exploreP:0.9666\n",
      "Episode:15 meanR:22.7500 R:21.0000 rate:0.0420 gloss:0.5963 dlossA:1.3626 dlossQ:1.4414 exploreP:0.9646\n",
      "Episode:16 meanR:22.1765 R:13.0000 rate:0.0260 gloss:0.6155 dlossA:1.3605 dlossQ:1.4709 exploreP:0.9634\n",
      "Episode:17 meanR:22.1667 R:22.0000 rate:0.0440 gloss:0.6081 dlossA:1.3638 dlossQ:1.4622 exploreP:0.9613\n",
      "Episode:18 meanR:21.7895 R:15.0000 rate:0.0300 gloss:0.5941 dlossA:1.3616 dlossQ:1.4479 exploreP:0.9599\n",
      "Episode:19 meanR:21.3500 R:13.0000 rate:0.0260 gloss:0.6346 dlossA:1.3612 dlossQ:1.5225 exploreP:0.9586\n",
      "Episode:20 meanR:21.2381 R:19.0000 rate:0.0380 gloss:0.6079 dlossA:1.3577 dlossQ:1.4559 exploreP:0.9568\n",
      "Episode:21 meanR:22.2727 R:44.0000 rate:0.0880 gloss:0.6024 dlossA:1.3596 dlossQ:1.4767 exploreP:0.9527\n",
      "Episode:22 meanR:21.8696 R:13.0000 rate:0.0260 gloss:0.5749 dlossA:1.3586 dlossQ:1.5107 exploreP:0.9514\n",
      "Episode:23 meanR:21.5000 R:13.0000 rate:0.0260 gloss:0.5834 dlossA:1.3632 dlossQ:1.4734 exploreP:0.9502\n",
      "Episode:24 meanR:21.5200 R:22.0000 rate:0.0440 gloss:0.6318 dlossA:1.3599 dlossQ:1.5146 exploreP:0.9481\n",
      "Episode:25 meanR:21.1923 R:13.0000 rate:0.0260 gloss:0.5848 dlossA:1.3587 dlossQ:1.4813 exploreP:0.9469\n",
      "Episode:26 meanR:21.0000 R:16.0000 rate:0.0320 gloss:0.6098 dlossA:1.3600 dlossQ:1.4557 exploreP:0.9454\n",
      "Episode:27 meanR:21.2857 R:29.0000 rate:0.0580 gloss:0.5952 dlossA:1.3605 dlossQ:1.4642 exploreP:0.9427\n",
      "Episode:28 meanR:21.3448 R:23.0000 rate:0.0460 gloss:0.6011 dlossA:1.3602 dlossQ:1.5110 exploreP:0.9406\n",
      "Episode:29 meanR:21.0667 R:13.0000 rate:0.0260 gloss:0.6099 dlossA:1.3601 dlossQ:1.5208 exploreP:0.9394\n",
      "Episode:30 meanR:20.6774 R:9.0000 rate:0.0180 gloss:0.6002 dlossA:1.3603 dlossQ:1.5059 exploreP:0.9385\n",
      "Episode:31 meanR:21.0625 R:33.0000 rate:0.0660 gloss:0.5998 dlossA:1.3574 dlossQ:1.4887 exploreP:0.9355\n",
      "Episode:32 meanR:22.4848 R:68.0000 rate:0.1360 gloss:0.6053 dlossA:1.3599 dlossQ:1.5064 exploreP:0.9292\n",
      "Episode:33 meanR:22.9412 R:38.0000 rate:0.0760 gloss:0.6155 dlossA:1.3607 dlossQ:1.5194 exploreP:0.9257\n",
      "Episode:34 meanR:22.6286 R:12.0000 rate:0.0240 gloss:0.6200 dlossA:1.3617 dlossQ:1.5521 exploreP:0.9246\n",
      "Episode:35 meanR:22.4444 R:16.0000 rate:0.0320 gloss:0.5939 dlossA:1.3605 dlossQ:1.5059 exploreP:0.9232\n",
      "Episode:36 meanR:22.8919 R:39.0000 rate:0.0780 gloss:0.6120 dlossA:1.3575 dlossQ:1.5195 exploreP:0.9196\n",
      "Episode:37 meanR:22.7632 R:18.0000 rate:0.0360 gloss:0.6084 dlossA:1.3558 dlossQ:1.5000 exploreP:0.9180\n",
      "Episode:38 meanR:23.1538 R:38.0000 rate:0.0760 gloss:0.5964 dlossA:1.3618 dlossQ:1.5174 exploreP:0.9145\n",
      "Episode:39 meanR:23.0500 R:19.0000 rate:0.0380 gloss:0.6155 dlossA:1.3623 dlossQ:1.5167 exploreP:0.9128\n",
      "Episode:40 meanR:22.9024 R:17.0000 rate:0.0340 gloss:0.5956 dlossA:1.3617 dlossQ:1.4809 exploreP:0.9113\n",
      "Episode:41 meanR:24.3810 R:85.0000 rate:0.1700 gloss:0.6088 dlossA:1.3579 dlossQ:1.5204 exploreP:0.9036\n",
      "Episode:42 meanR:24.0233 R:9.0000 rate:0.0180 gloss:0.6099 dlossA:1.3644 dlossQ:1.5064 exploreP:0.9028\n",
      "Episode:43 meanR:24.6591 R:52.0000 rate:0.1040 gloss:0.6138 dlossA:1.3595 dlossQ:1.5148 exploreP:0.8982\n",
      "Episode:44 meanR:24.4667 R:16.0000 rate:0.0320 gloss:0.6153 dlossA:1.3599 dlossQ:1.5395 exploreP:0.8968\n",
      "Episode:45 meanR:25.2609 R:61.0000 rate:0.1220 gloss:0.6049 dlossA:1.3620 dlossQ:1.5146 exploreP:0.8914\n",
      "Episode:46 meanR:26.3830 R:78.0000 rate:0.1560 gloss:0.6049 dlossA:1.3572 dlossQ:1.5122 exploreP:0.8845\n",
      "Episode:47 meanR:27.2083 R:66.0000 rate:0.1320 gloss:0.6057 dlossA:1.3617 dlossQ:1.5072 exploreP:0.8788\n",
      "Episode:48 meanR:27.1633 R:25.0000 rate:0.0500 gloss:0.5906 dlossA:1.3594 dlossQ:1.5174 exploreP:0.8766\n",
      "Episode:49 meanR:27.1400 R:26.0000 rate:0.0520 gloss:0.5992 dlossA:1.3611 dlossQ:1.5109 exploreP:0.8744\n",
      "Episode:50 meanR:27.0980 R:25.0000 rate:0.0500 gloss:0.6068 dlossA:1.3622 dlossQ:1.5189 exploreP:0.8722\n",
      "Episode:51 meanR:27.5192 R:49.0000 rate:0.0980 gloss:0.6048 dlossA:1.3603 dlossQ:1.5232 exploreP:0.8680\n",
      "Episode:52 meanR:27.5283 R:28.0000 rate:0.0560 gloss:0.5915 dlossA:1.3604 dlossQ:1.5336 exploreP:0.8656\n",
      "Episode:53 meanR:27.4630 R:24.0000 rate:0.0480 gloss:0.6135 dlossA:1.3617 dlossQ:1.5242 exploreP:0.8636\n",
      "Episode:54 meanR:29.0364 R:114.0000 rate:0.2280 gloss:0.6172 dlossA:1.3632 dlossQ:1.5151 exploreP:0.8539\n",
      "Episode:55 meanR:29.1607 R:36.0000 rate:0.0720 gloss:0.6223 dlossA:1.3622 dlossQ:1.5266 exploreP:0.8508\n",
      "Episode:56 meanR:28.8947 R:14.0000 rate:0.0280 gloss:0.6230 dlossA:1.3574 dlossQ:1.5454 exploreP:0.8497\n",
      "Episode:57 meanR:29.6897 R:75.0000 rate:0.1500 gloss:0.6105 dlossA:1.3611 dlossQ:1.5145 exploreP:0.8434\n",
      "Episode:58 meanR:30.3051 R:66.0000 rate:0.1320 gloss:0.6153 dlossA:1.3610 dlossQ:1.5332 exploreP:0.8379\n",
      "Episode:59 meanR:30.6833 R:53.0000 rate:0.1060 gloss:0.6130 dlossA:1.3598 dlossQ:1.5283 exploreP:0.8335\n",
      "Episode:60 meanR:30.5082 R:20.0000 rate:0.0400 gloss:0.6314 dlossA:1.3651 dlossQ:1.5529 exploreP:0.8319\n",
      "Episode:61 meanR:31.0484 R:64.0000 rate:0.1280 gloss:0.6186 dlossA:1.3614 dlossQ:1.5453 exploreP:0.8266\n",
      "Episode:62 meanR:30.8730 R:20.0000 rate:0.0400 gloss:0.6099 dlossA:1.3571 dlossQ:1.5010 exploreP:0.8250\n",
      "Episode:63 meanR:31.5625 R:75.0000 rate:0.1500 gloss:0.6152 dlossA:1.3605 dlossQ:1.5275 exploreP:0.8189\n",
      "Episode:64 meanR:31.2923 R:14.0000 rate:0.0280 gloss:0.6206 dlossA:1.3595 dlossQ:1.5549 exploreP:0.8178\n",
      "Episode:65 meanR:31.2879 R:31.0000 rate:0.0620 gloss:0.6217 dlossA:1.3625 dlossQ:1.5467 exploreP:0.8153\n",
      "Episode:66 meanR:31.2388 R:28.0000 rate:0.0560 gloss:0.6268 dlossA:1.3599 dlossQ:1.5414 exploreP:0.8130\n",
      "Episode:67 meanR:31.0882 R:21.0000 rate:0.0420 gloss:0.6122 dlossA:1.3601 dlossQ:1.5303 exploreP:0.8114\n",
      "Episode:68 meanR:31.0725 R:30.0000 rate:0.0600 gloss:0.6159 dlossA:1.3567 dlossQ:1.5485 exploreP:0.8090\n",
      "Episode:69 meanR:31.0286 R:28.0000 rate:0.0560 gloss:0.5859 dlossA:1.3625 dlossQ:1.5126 exploreP:0.8067\n",
      "Episode:70 meanR:30.8028 R:15.0000 rate:0.0300 gloss:0.6039 dlossA:1.3617 dlossQ:1.5249 exploreP:0.8055\n",
      "Episode:71 meanR:30.7917 R:30.0000 rate:0.0600 gloss:0.6056 dlossA:1.3628 dlossQ:1.5266 exploreP:0.8031\n",
      "Episode:72 meanR:30.8767 R:37.0000 rate:0.0740 gloss:0.6125 dlossA:1.3621 dlossQ:1.5403 exploreP:0.8002\n",
      "Episode:73 meanR:30.7568 R:22.0000 rate:0.0440 gloss:0.6079 dlossA:1.3596 dlossQ:1.5099 exploreP:0.7985\n",
      "Episode:74 meanR:30.6533 R:23.0000 rate:0.0460 gloss:0.6349 dlossA:1.3614 dlossQ:1.5696 exploreP:0.7967\n",
      "Episode:75 meanR:30.3816 R:10.0000 rate:0.0200 gloss:0.6269 dlossA:1.3585 dlossQ:1.5271 exploreP:0.7959\n",
      "Episode:76 meanR:30.3506 R:28.0000 rate:0.0560 gloss:0.6043 dlossA:1.3616 dlossQ:1.5204 exploreP:0.7937\n",
      "Episode:77 meanR:30.9103 R:74.0000 rate:0.1480 gloss:0.5991 dlossA:1.3635 dlossQ:1.5115 exploreP:0.7879\n",
      "Episode:78 meanR:30.8228 R:24.0000 rate:0.0480 gloss:0.5945 dlossA:1.3617 dlossQ:1.4939 exploreP:0.7860\n"
     ]
    },
    {
     "name": "stdout",
     "output_type": "stream",
     "text": [
      "Episode:79 meanR:30.8000 R:29.0000 rate:0.0580 gloss:0.6270 dlossA:1.3627 dlossQ:1.5211 exploreP:0.7838\n",
      "Episode:80 meanR:30.8025 R:31.0000 rate:0.0620 gloss:0.6336 dlossA:1.3597 dlossQ:1.5598 exploreP:0.7814\n",
      "Episode:81 meanR:31.1951 R:63.0000 rate:0.1260 gloss:0.6336 dlossA:1.3644 dlossQ:1.5274 exploreP:0.7766\n",
      "Episode:82 meanR:32.0602 R:103.0000 rate:0.2060 gloss:0.6195 dlossA:1.3657 dlossQ:1.5287 exploreP:0.7687\n",
      "Episode:83 meanR:31.8929 R:18.0000 rate:0.0360 gloss:0.6214 dlossA:1.3640 dlossQ:1.5143 exploreP:0.7673\n",
      "Episode:84 meanR:32.1412 R:53.0000 rate:0.1060 gloss:0.6214 dlossA:1.3628 dlossQ:1.5153 exploreP:0.7633\n",
      "Episode:85 meanR:31.9186 R:13.0000 rate:0.0260 gloss:0.6194 dlossA:1.3643 dlossQ:1.5271 exploreP:0.7624\n",
      "Episode:86 meanR:32.2414 R:60.0000 rate:0.1200 gloss:0.6248 dlossA:1.3656 dlossQ:1.5198 exploreP:0.7579\n",
      "Episode:87 meanR:32.5682 R:61.0000 rate:0.1220 gloss:0.6317 dlossA:1.3626 dlossQ:1.5356 exploreP:0.7533\n",
      "Episode:88 meanR:33.0787 R:78.0000 rate:0.1560 gloss:0.6224 dlossA:1.3642 dlossQ:1.5232 exploreP:0.7475\n",
      "Episode:89 meanR:33.7889 R:97.0000 rate:0.1940 gloss:0.6300 dlossA:1.3622 dlossQ:1.5364 exploreP:0.7404\n",
      "Episode:90 meanR:34.2857 R:79.0000 rate:0.1580 gloss:0.6236 dlossA:1.3613 dlossQ:1.5361 exploreP:0.7347\n",
      "Episode:91 meanR:34.0543 R:13.0000 rate:0.0260 gloss:0.6440 dlossA:1.3640 dlossQ:1.5756 exploreP:0.7337\n",
      "Episode:92 meanR:33.8065 R:11.0000 rate:0.0220 gloss:0.6299 dlossA:1.3591 dlossQ:1.5595 exploreP:0.7329\n",
      "Episode:93 meanR:34.1170 R:63.0000 rate:0.1260 gloss:0.6200 dlossA:1.3612 dlossQ:1.5435 exploreP:0.7284\n",
      "Episode:94 meanR:34.6632 R:86.0000 rate:0.1720 gloss:0.6187 dlossA:1.3610 dlossQ:1.5454 exploreP:0.7222\n",
      "Episode:95 meanR:35.0417 R:71.0000 rate:0.1420 gloss:0.6160 dlossA:1.3622 dlossQ:1.5440 exploreP:0.7172\n",
      "Episode:96 meanR:34.8866 R:20.0000 rate:0.0400 gloss:0.6042 dlossA:1.3604 dlossQ:1.5198 exploreP:0.7158\n",
      "Episode:97 meanR:35.7959 R:124.0000 rate:0.2480 gloss:0.6236 dlossA:1.3618 dlossQ:1.5515 exploreP:0.7071\n",
      "Episode:98 meanR:35.5960 R:16.0000 rate:0.0320 gloss:0.6317 dlossA:1.3647 dlossQ:1.5681 exploreP:0.7060\n",
      "Episode:99 meanR:36.1700 R:93.0000 rate:0.1860 gloss:0.6172 dlossA:1.3650 dlossQ:1.5362 exploreP:0.6995\n",
      "Episode:100 meanR:36.7700 R:82.0000 rate:0.1640 gloss:0.6294 dlossA:1.3641 dlossQ:1.5288 exploreP:0.6939\n",
      "Episode:101 meanR:37.0400 R:47.0000 rate:0.0940 gloss:0.6260 dlossA:1.3669 dlossQ:1.5330 exploreP:0.6907\n",
      "Episode:102 meanR:37.5000 R:60.0000 rate:0.1200 gloss:0.6333 dlossA:1.3608 dlossQ:1.5422 exploreP:0.6866\n",
      "Episode:103 meanR:37.6500 R:57.0000 rate:0.1140 gloss:0.6216 dlossA:1.3635 dlossQ:1.5290 exploreP:0.6828\n",
      "Episode:104 meanR:37.7600 R:28.0000 rate:0.0560 gloss:0.6252 dlossA:1.3635 dlossQ:1.5365 exploreP:0.6809\n",
      "Episode:105 meanR:38.6100 R:102.0000 rate:0.2040 gloss:0.6287 dlossA:1.3629 dlossQ:1.5438 exploreP:0.6741\n",
      "Episode:106 meanR:38.7700 R:37.0000 rate:0.0740 gloss:0.6316 dlossA:1.3621 dlossQ:1.5594 exploreP:0.6716\n",
      "Episode:107 meanR:39.3800 R:93.0000 rate:0.1860 gloss:0.6266 dlossA:1.3630 dlossQ:1.5525 exploreP:0.6655\n",
      "Episode:108 meanR:39.8300 R:82.0000 rate:0.1640 gloss:0.6259 dlossA:1.3624 dlossQ:1.5406 exploreP:0.6602\n",
      "Episode:109 meanR:40.0900 R:39.0000 rate:0.0780 gloss:0.6286 dlossA:1.3612 dlossQ:1.5395 exploreP:0.6576\n",
      "Episode:110 meanR:40.7700 R:86.0000 rate:0.1720 gloss:0.6257 dlossA:1.3610 dlossQ:1.5530 exploreP:0.6521\n",
      "Episode:111 meanR:41.1300 R:54.0000 rate:0.1080 gloss:0.6214 dlossA:1.3639 dlossQ:1.5433 exploreP:0.6486\n",
      "Episode:112 meanR:41.6900 R:67.0000 rate:0.1340 gloss:0.6258 dlossA:1.3613 dlossQ:1.5601 exploreP:0.6444\n",
      "Episode:113 meanR:41.6300 R:29.0000 rate:0.0580 gloss:0.6214 dlossA:1.3623 dlossQ:1.5478 exploreP:0.6425\n",
      "Episode:114 meanR:41.8000 R:43.0000 rate:0.0860 gloss:0.6228 dlossA:1.3639 dlossQ:1.5545 exploreP:0.6398\n",
      "Episode:115 meanR:41.9900 R:40.0000 rate:0.0800 gloss:0.6287 dlossA:1.3651 dlossQ:1.5452 exploreP:0.6373\n",
      "Episode:116 meanR:42.3600 R:50.0000 rate:0.1000 gloss:0.6282 dlossA:1.3617 dlossQ:1.5494 exploreP:0.6342\n",
      "Episode:117 meanR:42.4400 R:30.0000 rate:0.0600 gloss:0.6368 dlossA:1.3673 dlossQ:1.5346 exploreP:0.6323\n",
      "Episode:118 meanR:42.5000 R:21.0000 rate:0.0420 gloss:0.6352 dlossA:1.3641 dlossQ:1.5610 exploreP:0.6310\n",
      "Episode:119 meanR:43.7600 R:139.0000 rate:0.2780 gloss:0.6309 dlossA:1.3633 dlossQ:1.5411 exploreP:0.6224\n",
      "Episode:120 meanR:43.7300 R:16.0000 rate:0.0320 gloss:0.6356 dlossA:1.3643 dlossQ:1.5550 exploreP:0.6214\n",
      "Episode:121 meanR:45.1000 R:181.0000 rate:0.3620 gloss:0.6284 dlossA:1.3632 dlossQ:1.5472 exploreP:0.6105\n",
      "Episode:122 meanR:45.2100 R:24.0000 rate:0.0480 gloss:0.6230 dlossA:1.3619 dlossQ:1.5389 exploreP:0.6090\n",
      "Episode:123 meanR:45.8400 R:76.0000 rate:0.1520 gloss:0.6226 dlossA:1.3624 dlossQ:1.5467 exploreP:0.6045\n",
      "Episode:124 meanR:46.1600 R:54.0000 rate:0.1080 gloss:0.6217 dlossA:1.3618 dlossQ:1.5470 exploreP:0.6013\n",
      "Episode:125 meanR:46.3300 R:30.0000 rate:0.0600 gloss:0.6181 dlossA:1.3633 dlossQ:1.5379 exploreP:0.5995\n",
      "Episode:126 meanR:46.4400 R:27.0000 rate:0.0540 gloss:0.6163 dlossA:1.3647 dlossQ:1.5427 exploreP:0.5979\n",
      "Episode:127 meanR:47.4900 R:134.0000 rate:0.2680 gloss:0.6304 dlossA:1.3632 dlossQ:1.5525 exploreP:0.5901\n",
      "Episode:128 meanR:47.7100 R:45.0000 rate:0.0900 gloss:0.6291 dlossA:1.3600 dlossQ:1.5530 exploreP:0.5875\n",
      "Episode:129 meanR:48.9400 R:136.0000 rate:0.2720 gloss:0.6275 dlossA:1.3647 dlossQ:1.5553 exploreP:0.5797\n",
      "Episode:130 meanR:49.8100 R:96.0000 rate:0.1920 gloss:0.6297 dlossA:1.3658 dlossQ:1.5401 exploreP:0.5743\n",
      "Episode:131 meanR:53.3200 R:384.0000 rate:0.7680 gloss:0.6306 dlossA:1.3634 dlossQ:1.5519 exploreP:0.5530\n",
      "Episode:132 meanR:53.3600 R:72.0000 rate:0.1440 gloss:0.6285 dlossA:1.3711 dlossQ:1.5486 exploreP:0.5491\n",
      "Episode:133 meanR:54.6300 R:165.0000 rate:0.3300 gloss:0.6369 dlossA:1.3683 dlossQ:1.5383 exploreP:0.5403\n",
      "Episode:134 meanR:55.5600 R:105.0000 rate:0.2100 gloss:0.6362 dlossA:1.3661 dlossQ:1.5517 exploreP:0.5347\n",
      "Episode:135 meanR:55.6500 R:25.0000 rate:0.0500 gloss:0.6245 dlossA:1.3860 dlossQ:1.5236 exploreP:0.5334\n",
      "Episode:136 meanR:56.3800 R:112.0000 rate:0.2240 gloss:0.6488 dlossA:1.3657 dlossQ:1.5441 exploreP:0.5276\n",
      "Episode:137 meanR:57.4000 R:120.0000 rate:0.2400 gloss:0.6431 dlossA:1.3682 dlossQ:1.5544 exploreP:0.5214\n",
      "Episode:138 meanR:59.5000 R:248.0000 rate:0.4960 gloss:0.6496 dlossA:1.3685 dlossQ:1.5455 exploreP:0.5089\n",
      "Episode:139 meanR:61.8600 R:255.0000 rate:0.5100 gloss:0.6460 dlossA:1.3647 dlossQ:1.5659 exploreP:0.4963\n",
      "Episode:140 meanR:62.2100 R:52.0000 rate:0.1040 gloss:0.6441 dlossA:1.3623 dlossQ:1.5763 exploreP:0.4938\n",
      "Episode:141 meanR:61.6000 R:24.0000 rate:0.0480 gloss:0.6388 dlossA:1.3613 dlossQ:1.5752 exploreP:0.4927\n",
      "Episode:142 meanR:63.4500 R:194.0000 rate:0.3880 gloss:0.6390 dlossA:1.3653 dlossQ:1.5720 exploreP:0.4834\n",
      "Episode:143 meanR:65.3000 R:237.0000 rate:0.4740 gloss:0.6386 dlossA:1.3657 dlossQ:1.5678 exploreP:0.4723\n",
      "Episode:144 meanR:67.1000 R:196.0000 rate:0.3920 gloss:0.6520 dlossA:1.3710 dlossQ:1.5655 exploreP:0.4633\n",
      "Episode:145 meanR:68.1400 R:165.0000 rate:0.3300 gloss:0.6541 dlossA:1.3700 dlossQ:1.5442 exploreP:0.4559\n",
      "Episode:146 meanR:70.5100 R:315.0000 rate:0.6300 gloss:0.6600 dlossA:1.3716 dlossQ:1.5494 exploreP:0.4421\n",
      "Episode:147 meanR:74.1600 R:431.0000 rate:0.8620 gloss:0.6615 dlossA:1.3708 dlossQ:1.5446 exploreP:0.4239\n",
      "Episode:148 meanR:75.6900 R:178.0000 rate:0.3560 gloss:0.6622 dlossA:1.3670 dlossQ:1.5648 exploreP:0.4165\n",
      "Episode:149 meanR:77.3000 R:187.0000 rate:0.3740 gloss:0.6553 dlossA:1.3690 dlossQ:1.5684 exploreP:0.4090\n",
      "Episode:150 meanR:79.0000 R:195.0000 rate:0.3900 gloss:0.6628 dlossA:1.3727 dlossQ:1.5624 exploreP:0.4013\n",
      "Episode:151 meanR:82.0500 R:354.0000 rate:0.7080 gloss:0.6667 dlossA:1.3706 dlossQ:1.5596 exploreP:0.3877\n",
      "Episode:152 meanR:86.7700 R:500.0000 rate:1.0000 gloss:0.6740 dlossA:1.3719 dlossQ:1.5642 exploreP:0.3693\n",
      "Episode:153 meanR:88.2500 R:172.0000 rate:0.3440 gloss:0.6781 dlossA:1.3746 dlossQ:1.5636 exploreP:0.3632\n",
      "Episode:154 meanR:87.2800 R:17.0000 rate:0.0340 gloss:0.6767 dlossA:1.3923 dlossQ:1.5616 exploreP:0.3626\n",
      "Episode:155 meanR:89.0500 R:213.0000 rate:0.4260 gloss:0.6841 dlossA:1.3741 dlossQ:1.5520 exploreP:0.3551\n",
      "Episode:156 meanR:90.6800 R:177.0000 rate:0.3540 gloss:0.6898 dlossA:1.3700 dlossQ:1.5635 exploreP:0.3491\n"
     ]
    },
    {
     "name": "stdout",
     "output_type": "stream",
     "text": [
      "Episode:157 meanR:90.5800 R:65.0000 rate:0.1300 gloss:0.6782 dlossA:1.3754 dlossQ:1.5666 exploreP:0.3469\n",
      "Episode:158 meanR:94.9100 R:499.0000 rate:0.9980 gloss:0.6927 dlossA:1.3754 dlossQ:1.5614 exploreP:0.3305\n",
      "Episode:159 meanR:99.3800 R:500.0000 rate:1.0000 gloss:0.7096 dlossA:1.3779 dlossQ:1.5443 exploreP:0.3148\n",
      "Episode:160 meanR:102.5600 R:338.0000 rate:0.6760 gloss:0.7319 dlossA:1.3789 dlossQ:1.5454 exploreP:0.3047\n",
      "Episode:161 meanR:103.7700 R:185.0000 rate:0.3700 gloss:0.7257 dlossA:1.3803 dlossQ:1.5461 exploreP:0.2993\n",
      "Episode:162 meanR:108.5700 R:500.0000 rate:1.0000 gloss:0.7382 dlossA:1.3764 dlossQ:1.5623 exploreP:0.2852\n",
      "Episode:163 meanR:109.2500 R:143.0000 rate:0.2860 gloss:0.7526 dlossA:1.3704 dlossQ:1.5748 exploreP:0.2813\n",
      "Episode:164 meanR:111.1000 R:199.0000 rate:0.3980 gloss:0.7492 dlossA:1.3790 dlossQ:1.5943 exploreP:0.2759\n",
      "Episode:165 meanR:115.7900 R:500.0000 rate:1.0000 gloss:0.7703 dlossA:1.3743 dlossQ:1.5906 exploreP:0.2630\n",
      "Episode:166 meanR:117.9300 R:242.0000 rate:0.4840 gloss:0.7759 dlossA:1.3757 dlossQ:1.6219 exploreP:0.2569\n",
      "Episode:167 meanR:120.7800 R:306.0000 rate:0.6120 gloss:0.7853 dlossA:1.3722 dlossQ:1.6318 exploreP:0.2495\n",
      "Episode:168 meanR:125.4100 R:493.0000 rate:0.9860 gloss:0.7992 dlossA:1.3728 dlossQ:1.6249 exploreP:0.2380\n",
      "Episode:169 meanR:129.2400 R:411.0000 rate:0.8220 gloss:0.8140 dlossA:1.3685 dlossQ:1.6386 exploreP:0.2288\n",
      "Episode:170 meanR:134.0900 R:500.0000 rate:1.0000 gloss:0.8238 dlossA:1.3660 dlossQ:1.6586 exploreP:0.2181\n",
      "Episode:171 meanR:135.2300 R:144.0000 rate:0.2880 gloss:0.8274 dlossA:1.3657 dlossQ:1.6837 exploreP:0.2151\n",
      "Episode:172 meanR:139.8600 R:500.0000 rate:1.0000 gloss:0.8355 dlossA:1.3692 dlossQ:1.6805 exploreP:0.2051\n",
      "Episode:173 meanR:141.8300 R:219.0000 rate:0.4380 gloss:0.8579 dlossA:1.3610 dlossQ:1.6792 exploreP:0.2009\n",
      "Episode:174 meanR:143.0900 R:149.0000 rate:0.2980 gloss:0.8713 dlossA:1.3679 dlossQ:1.6864 exploreP:0.1981\n",
      "Episode:175 meanR:144.3100 R:132.0000 rate:0.2640 gloss:0.8459 dlossA:1.3668 dlossQ:1.6926 exploreP:0.1956\n",
      "Episode:176 meanR:149.0300 R:500.0000 rate:1.0000 gloss:0.8686 dlossA:1.3609 dlossQ:1.7069 exploreP:0.1866\n",
      "Episode:177 meanR:151.9300 R:364.0000 rate:0.7280 gloss:0.8909 dlossA:1.3608 dlossQ:1.7204 exploreP:0.1803\n",
      "Episode:178 meanR:153.1800 R:149.0000 rate:0.2980 gloss:0.9067 dlossA:1.3515 dlossQ:1.7290 exploreP:0.1777\n",
      "Episode:179 meanR:154.7500 R:186.0000 rate:0.3720 gloss:0.9080 dlossA:1.3526 dlossQ:1.7381 exploreP:0.1746\n",
      "Episode:180 meanR:156.1700 R:173.0000 rate:0.3460 gloss:0.9148 dlossA:1.3543 dlossQ:1.7409 exploreP:0.1718\n",
      "Episode:181 meanR:159.8200 R:428.0000 rate:0.8560 gloss:0.9087 dlossA:1.3642 dlossQ:1.7641 exploreP:0.1650\n",
      "Episode:182 meanR:163.7900 R:500.0000 rate:1.0000 gloss:0.9317 dlossA:1.3422 dlossQ:1.7621 exploreP:0.1575\n",
      "Episode:183 meanR:165.3900 R:178.0000 rate:0.3560 gloss:0.9106 dlossA:1.3607 dlossQ:1.8013 exploreP:0.1549\n",
      "Episode:184 meanR:166.5700 R:171.0000 rate:0.3420 gloss:0.9351 dlossA:1.3351 dlossQ:1.8008 exploreP:0.1524\n",
      "Episode:185 meanR:167.8800 R:144.0000 rate:0.2880 gloss:0.9415 dlossA:1.3420 dlossQ:1.8038 exploreP:0.1504\n",
      "Episode:186 meanR:170.8800 R:360.0000 rate:0.7200 gloss:0.9517 dlossA:1.3453 dlossQ:1.8201 exploreP:0.1454\n",
      "Episode:187 meanR:172.0400 R:177.0000 rate:0.3540 gloss:0.9506 dlossA:1.3474 dlossQ:1.8176 exploreP:0.1430\n",
      "Episode:188 meanR:172.9400 R:168.0000 rate:0.3360 gloss:0.9475 dlossA:1.3550 dlossQ:1.8487 exploreP:0.1408\n",
      "Episode:189 meanR:174.6800 R:271.0000 rate:0.5420 gloss:0.9501 dlossA:1.3426 dlossQ:1.8483 exploreP:0.1373\n",
      "Episode:190 meanR:178.6700 R:478.0000 rate:0.9560 gloss:0.9628 dlossA:1.3470 dlossQ:1.8541 exploreP:0.1314\n",
      "Episode:191 meanR:181.4500 R:291.0000 rate:0.5820 gloss:0.9786 dlossA:1.3411 dlossQ:1.8698 exploreP:0.1279\n",
      "Episode:192 meanR:186.3400 R:500.0000 rate:1.0000 gloss:0.9854 dlossA:1.3473 dlossQ:1.8713 exploreP:0.1222\n",
      "Episode:193 meanR:190.7100 R:500.0000 rate:1.0000 gloss:0.9929 dlossA:1.3243 dlossQ:1.8664 exploreP:0.1167\n",
      "Episode:194 meanR:191.4300 R:158.0000 rate:0.3160 gloss:0.9862 dlossA:1.3389 dlossQ:1.8741 exploreP:0.1150\n",
      "Episode:195 meanR:192.2700 R:155.0000 rate:0.3100 gloss:1.0186 dlossA:1.3419 dlossQ:1.8684 exploreP:0.1134\n",
      "Episode:196 meanR:195.5100 R:344.0000 rate:0.6880 gloss:1.0067 dlossA:1.3255 dlossQ:1.8964 exploreP:0.1099\n",
      "Episode:197 meanR:195.9800 R:171.0000 rate:0.3420 gloss:1.0140 dlossA:1.3359 dlossQ:1.9021 exploreP:0.1082\n",
      "Episode:198 meanR:198.6600 R:284.0000 rate:0.5680 gloss:1.0218 dlossA:1.3404 dlossQ:1.9205 exploreP:0.1055\n",
      "Episode:199 meanR:202.7300 R:500.0000 rate:1.0000 gloss:1.0391 dlossA:1.3253 dlossQ:1.8999 exploreP:0.1008\n",
      "Episode:200 meanR:204.7200 R:281.0000 rate:0.5620 gloss:1.0527 dlossA:1.3141 dlossQ:1.8961 exploreP:0.0983\n",
      "Episode:201 meanR:205.8200 R:157.0000 rate:0.3140 gloss:1.0512 dlossA:1.3138 dlossQ:1.8806 exploreP:0.0969\n",
      "Episode:202 meanR:210.2200 R:500.0000 rate:1.0000 gloss:1.0715 dlossA:1.3131 dlossQ:1.8725 exploreP:0.0927\n",
      "Episode:203 meanR:214.6500 R:500.0000 rate:1.0000 gloss:1.0626 dlossA:1.3200 dlossQ:1.9164 exploreP:0.0886\n",
      "Episode:204 meanR:219.3700 R:500.0000 rate:1.0000 gloss:1.0788 dlossA:1.3158 dlossQ:1.9066 exploreP:0.0848\n",
      "Episode:205 meanR:219.8800 R:153.0000 rate:0.3060 gloss:1.0916 dlossA:1.3098 dlossQ:1.9114 exploreP:0.0837\n",
      "Episode:206 meanR:221.6600 R:215.0000 rate:0.4300 gloss:1.0538 dlossA:1.3218 dlossQ:1.9313 exploreP:0.0821\n",
      "Episode:207 meanR:225.7300 R:500.0000 rate:1.0000 gloss:1.0775 dlossA:1.3123 dlossQ:1.9094 exploreP:0.0786\n",
      "Episode:208 meanR:228.0000 R:309.0000 rate:0.6180 gloss:1.0948 dlossA:1.2976 dlossQ:1.8761 exploreP:0.0765\n",
      "Episode:209 meanR:232.6100 R:500.0000 rate:1.0000 gloss:1.0973 dlossA:1.3142 dlossQ:1.9029 exploreP:0.0733\n",
      "Episode:210 meanR:236.7500 R:500.0000 rate:1.0000 gloss:1.1027 dlossA:1.2893 dlossQ:1.8934 exploreP:0.0702\n",
      "Episode:211 meanR:241.2100 R:500.0000 rate:1.0000 gloss:1.1254 dlossA:1.2774 dlossQ:1.8598 exploreP:0.0672\n",
      "Episode:212 meanR:244.7500 R:421.0000 rate:0.8420 gloss:1.1574 dlossA:1.2724 dlossQ:1.8460 exploreP:0.0649\n",
      "Episode:213 meanR:249.4600 R:500.0000 rate:1.0000 gloss:1.1054 dlossA:1.2996 dlossQ:1.8965 exploreP:0.0622\n",
      "Episode:214 meanR:251.0400 R:201.0000 rate:0.4020 gloss:1.1488 dlossA:1.2470 dlossQ:1.8553 exploreP:0.0612\n",
      "Episode:215 meanR:252.2100 R:157.0000 rate:0.3140 gloss:1.1322 dlossA:1.3082 dlossQ:1.8506 exploreP:0.0604\n",
      "Episode:216 meanR:255.2000 R:349.0000 rate:0.6980 gloss:1.1283 dlossA:1.2973 dlossQ:1.8831 exploreP:0.0586\n",
      "Episode:217 meanR:259.9000 R:500.0000 rate:1.0000 gloss:1.1209 dlossA:1.2855 dlossQ:1.8870 exploreP:0.0563\n",
      "Episode:218 meanR:263.1800 R:349.0000 rate:0.6980 gloss:1.1443 dlossA:1.2529 dlossQ:1.8495 exploreP:0.0547\n",
      "Episode:219 meanR:265.3500 R:356.0000 rate:0.7120 gloss:1.1417 dlossA:1.2802 dlossQ:1.8748 exploreP:0.0531\n",
      "Episode:220 meanR:268.7100 R:352.0000 rate:0.7040 gloss:1.1134 dlossA:1.3074 dlossQ:1.8998 exploreP:0.0516\n",
      "Episode:221 meanR:271.9000 R:500.0000 rate:1.0000 gloss:1.1622 dlossA:1.2608 dlossQ:1.8348 exploreP:0.0496\n",
      "Episode:222 meanR:276.6600 R:500.0000 rate:1.0000 gloss:1.1393 dlossA:1.2765 dlossQ:1.8307 exploreP:0.0477\n",
      "Episode:223 meanR:280.9000 R:500.0000 rate:1.0000 gloss:1.1587 dlossA:1.2449 dlossQ:1.7944 exploreP:0.0458\n",
      "Episode:224 meanR:285.3600 R:500.0000 rate:1.0000 gloss:1.1650 dlossA:1.2448 dlossQ:1.7904 exploreP:0.0441\n",
      "Episode:225 meanR:290.0600 R:500.0000 rate:1.0000 gloss:1.1685 dlossA:1.2648 dlossQ:1.8374 exploreP:0.0424\n",
      "Episode:226 meanR:294.7900 R:500.0000 rate:1.0000 gloss:1.1473 dlossA:1.2821 dlossQ:1.8628 exploreP:0.0408\n",
      "Episode:227 meanR:297.1400 R:369.0000 rate:0.7380 gloss:1.1800 dlossA:1.2148 dlossQ:1.8126 exploreP:0.0397\n",
      "Episode:228 meanR:299.7100 R:302.0000 rate:0.6040 gloss:1.1723 dlossA:1.2424 dlossQ:1.8441 exploreP:0.0388\n",
      "Episode:229 meanR:300.3200 R:197.0000 rate:0.3940 gloss:1.1805 dlossA:1.2663 dlossQ:1.8171 exploreP:0.0383\n",
      "Episode:230 meanR:301.4300 R:207.0000 rate:0.4140 gloss:1.1509 dlossA:1.2200 dlossQ:1.8057 exploreP:0.0377\n",
      "Episode:231 meanR:302.5900 R:500.0000 rate:1.0000 gloss:1.1671 dlossA:1.2401 dlossQ:1.8254 exploreP:0.0363\n",
      "Episode:232 meanR:306.3600 R:449.0000 rate:0.8980 gloss:1.1898 dlossA:1.2275 dlossQ:1.7717 exploreP:0.0352\n",
      "Episode:233 meanR:309.2300 R:452.0000 rate:0.9040 gloss:1.1800 dlossA:1.2428 dlossQ:1.8183 exploreP:0.0341\n"
     ]
    },
    {
     "name": "stdout",
     "output_type": "stream",
     "text": [
      "Episode:234 meanR:313.1800 R:500.0000 rate:1.0000 gloss:1.1655 dlossA:1.2211 dlossQ:1.8086 exploreP:0.0329\n",
      "Episode:235 meanR:317.9300 R:500.0000 rate:1.0000 gloss:1.2256 dlossA:1.2135 dlossQ:1.7453 exploreP:0.0318\n",
      "Episode:236 meanR:321.8100 R:500.0000 rate:1.0000 gloss:1.1769 dlossA:1.2393 dlossQ:1.7582 exploreP:0.0307\n",
      "Episode:237 meanR:322.2500 R:164.0000 rate:0.3280 gloss:1.1737 dlossA:1.1971 dlossQ:1.7437 exploreP:0.0304\n",
      "Episode:238 meanR:324.5400 R:477.0000 rate:0.9540 gloss:1.1833 dlossA:1.2214 dlossQ:1.7515 exploreP:0.0294\n",
      "Episode:239 meanR:325.7400 R:375.0000 rate:0.7500 gloss:1.1963 dlossA:1.2046 dlossQ:1.7241 exploreP:0.0287\n",
      "Episode:240 meanR:330.2200 R:500.0000 rate:1.0000 gloss:1.2018 dlossA:1.2130 dlossQ:1.7371 exploreP:0.0278\n",
      "Episode:241 meanR:334.5700 R:459.0000 rate:0.9180 gloss:1.2122 dlossA:1.1916 dlossQ:1.7135 exploreP:0.0270\n",
      "Episode:242 meanR:335.4700 R:284.0000 rate:0.5680 gloss:1.2194 dlossA:1.1695 dlossQ:1.6809 exploreP:0.0265\n",
      "Episode:243 meanR:338.1000 R:500.0000 rate:1.0000 gloss:1.2046 dlossA:1.2076 dlossQ:1.7322 exploreP:0.0257\n",
      "Episode:244 meanR:337.9500 R:181.0000 rate:0.3620 gloss:1.2034 dlossA:1.1789 dlossQ:1.7090 exploreP:0.0254\n",
      "Episode:245 meanR:338.7200 R:242.0000 rate:0.4840 gloss:1.2426 dlossA:1.1975 dlossQ:1.6929 exploreP:0.0251\n",
      "Episode:246 meanR:340.5700 R:500.0000 rate:1.0000 gloss:1.1916 dlossA:1.2292 dlossQ:1.7524 exploreP:0.0243\n",
      "Episode:247 meanR:341.2600 R:500.0000 rate:1.0000 gloss:1.1944 dlossA:1.1701 dlossQ:1.7015 exploreP:0.0236\n",
      "Episode:248 meanR:344.4800 R:500.0000 rate:1.0000 gloss:1.2291 dlossA:1.2003 dlossQ:1.7108 exploreP:0.0230\n",
      "Episode:249 meanR:344.8400 R:223.0000 rate:0.4460 gloss:1.2264 dlossA:1.1769 dlossQ:1.6837 exploreP:0.0227\n",
      "Episode:250 meanR:347.8900 R:500.0000 rate:1.0000 gloss:1.2011 dlossA:1.2148 dlossQ:1.7289 exploreP:0.0221\n",
      "Episode:251 meanR:349.3500 R:500.0000 rate:1.0000 gloss:1.2019 dlossA:1.1863 dlossQ:1.7144 exploreP:0.0215\n",
      "Episode:252 meanR:349.3500 R:500.0000 rate:1.0000 gloss:1.2182 dlossA:1.1932 dlossQ:1.7377 exploreP:0.0209\n",
      "Episode:253 meanR:349.4400 R:181.0000 rate:0.3620 gloss:1.2302 dlossA:1.1755 dlossQ:1.7206 exploreP:0.0207\n",
      "Episode:254 meanR:354.2700 R:500.0000 rate:1.0000 gloss:1.2008 dlossA:1.1787 dlossQ:1.6887 exploreP:0.0202\n",
      "Episode:255 meanR:357.1400 R:500.0000 rate:1.0000 gloss:1.2385 dlossA:1.1541 dlossQ:1.7233 exploreP:0.0197\n",
      "Episode:256 meanR:360.3700 R:500.0000 rate:1.0000 gloss:1.2605 dlossA:1.1373 dlossQ:1.6758 exploreP:0.0192\n",
      "Episode:257 meanR:362.6300 R:291.0000 rate:0.5820 gloss:1.2799 dlossA:1.1420 dlossQ:1.7116 exploreP:0.0190\n",
      "Episode:258 meanR:362.6400 R:500.0000 rate:1.0000 gloss:1.2458 dlossA:1.1496 dlossQ:1.6676 exploreP:0.0185\n",
      "Episode:259 meanR:362.6400 R:500.0000 rate:1.0000 gloss:1.2558 dlossA:1.1362 dlossQ:1.6789 exploreP:0.0181\n",
      "Episode:260 meanR:364.2600 R:500.0000 rate:1.0000 gloss:1.2373 dlossA:1.1574 dlossQ:1.6733 exploreP:0.0177\n",
      "Episode:261 meanR:367.4100 R:500.0000 rate:1.0000 gloss:1.2769 dlossA:1.0904 dlossQ:1.6407 exploreP:0.0173\n",
      "Episode:262 meanR:367.4100 R:500.0000 rate:1.0000 gloss:1.2864 dlossA:1.1124 dlossQ:1.6193 exploreP:0.0170\n",
      "Episode:263 meanR:368.1100 R:213.0000 rate:0.4260 gloss:1.2771 dlossA:1.0980 dlossQ:1.6059 exploreP:0.0168\n",
      "Episode:264 meanR:371.1200 R:500.0000 rate:1.0000 gloss:1.2771 dlossA:1.1305 dlossQ:1.5910 exploreP:0.0165\n",
      "Episode:265 meanR:371.1200 R:500.0000 rate:1.0000 gloss:1.2502 dlossA:1.1596 dlossQ:1.6472 exploreP:0.0162\n",
      "Episode:266 meanR:373.7000 R:500.0000 rate:1.0000 gloss:1.2461 dlossA:1.0913 dlossQ:1.6161 exploreP:0.0159\n",
      "Episode:267 meanR:375.6400 R:500.0000 rate:1.0000 gloss:1.2854 dlossA:1.0692 dlossQ:1.5564 exploreP:0.0156\n",
      "Episode:268 meanR:375.7100 R:500.0000 rate:1.0000 gloss:1.3042 dlossA:1.0797 dlossQ:1.5448 exploreP:0.0153\n",
      "Episode:269 meanR:376.6000 R:500.0000 rate:1.0000 gloss:1.2865 dlossA:1.0716 dlossQ:1.5492 exploreP:0.0151\n",
      "Episode:270 meanR:376.6000 R:500.0000 rate:1.0000 gloss:1.3135 dlossA:1.0818 dlossQ:1.5685 exploreP:0.0148\n",
      "Episode:271 meanR:380.1600 R:500.0000 rate:1.0000 gloss:1.2728 dlossA:1.0627 dlossQ:1.5284 exploreP:0.0146\n",
      "Episode:272 meanR:377.0100 R:185.0000 rate:0.3700 gloss:1.3230 dlossA:1.0114 dlossQ:1.5211 exploreP:0.0145\n",
      "Episode:273 meanR:376.9400 R:212.0000 rate:0.4240 gloss:1.3361 dlossA:1.0348 dlossQ:1.5202 exploreP:0.0144\n",
      "Episode:274 meanR:380.4500 R:500.0000 rate:1.0000 gloss:1.3125 dlossA:1.0313 dlossQ:1.4767 exploreP:0.0142\n",
      "Episode:275 meanR:384.1300 R:500.0000 rate:1.0000 gloss:1.2888 dlossA:1.0702 dlossQ:1.5507 exploreP:0.0140\n",
      "Episode:276 meanR:384.1300 R:500.0000 rate:1.0000 gloss:1.2897 dlossA:1.0829 dlossQ:1.5507 exploreP:0.0138\n",
      "Episode:277 meanR:385.4900 R:500.0000 rate:1.0000 gloss:1.3083 dlossA:1.0160 dlossQ:1.5432 exploreP:0.0136\n",
      "Episode:278 meanR:389.0000 R:500.0000 rate:1.0000 gloss:1.3354 dlossA:1.0431 dlossQ:1.5242 exploreP:0.0134\n",
      "Episode:279 meanR:392.1400 R:500.0000 rate:1.0000 gloss:1.3471 dlossA:1.0265 dlossQ:1.5161 exploreP:0.0133\n",
      "Episode:280 meanR:395.4100 R:500.0000 rate:1.0000 gloss:1.3212 dlossA:1.0558 dlossQ:1.5201 exploreP:0.0131\n",
      "Episode:281 meanR:393.9900 R:286.0000 rate:0.5720 gloss:1.3099 dlossA:0.9522 dlossQ:1.4486 exploreP:0.0130\n",
      "Episode:282 meanR:393.9900 R:500.0000 rate:1.0000 gloss:1.3383 dlossA:1.0144 dlossQ:1.4684 exploreP:0.0129\n",
      "Episode:283 meanR:394.5900 R:238.0000 rate:0.4760 gloss:1.3608 dlossA:1.0150 dlossQ:1.5196 exploreP:0.0128\n",
      "Episode:284 meanR:397.8800 R:500.0000 rate:1.0000 gloss:1.3581 dlossA:0.9723 dlossQ:1.4679 exploreP:0.0127\n",
      "Episode:285 meanR:401.4400 R:500.0000 rate:1.0000 gloss:1.3572 dlossA:1.0454 dlossQ:1.4588 exploreP:0.0125\n",
      "Episode:286 meanR:401.3800 R:354.0000 rate:0.7080 gloss:1.3280 dlossA:1.0303 dlossQ:1.5135 exploreP:0.0124\n",
      "Episode:287 meanR:404.6100 R:500.0000 rate:1.0000 gloss:1.3352 dlossA:1.0173 dlossQ:1.5195 exploreP:0.0123\n",
      "Episode:288 meanR:407.9300 R:500.0000 rate:1.0000 gloss:1.3573 dlossA:0.9712 dlossQ:1.4438 exploreP:0.0122\n",
      "Episode:289 meanR:410.2200 R:500.0000 rate:1.0000 gloss:1.3245 dlossA:1.0015 dlossQ:1.4425 exploreP:0.0121\n",
      "Episode:290 meanR:410.4400 R:500.0000 rate:1.0000 gloss:1.3593 dlossA:1.0043 dlossQ:1.4766 exploreP:0.0120\n",
      "Episode:291 meanR:409.8700 R:234.0000 rate:0.4680 gloss:1.3555 dlossA:0.9617 dlossQ:1.4754 exploreP:0.0120\n",
      "Episode:292 meanR:409.8700 R:500.0000 rate:1.0000 gloss:1.3515 dlossA:0.9585 dlossQ:1.4453 exploreP:0.0119\n",
      "Episode:293 meanR:409.8700 R:500.0000 rate:1.0000 gloss:1.3057 dlossA:0.9482 dlossQ:1.4141 exploreP:0.0118\n",
      "Episode:294 meanR:413.2900 R:500.0000 rate:1.0000 gloss:1.3695 dlossA:0.9748 dlossQ:1.3539 exploreP:0.0117\n",
      "Episode:295 meanR:413.6300 R:189.0000 rate:0.3780 gloss:1.3647 dlossA:1.0447 dlossQ:1.4217 exploreP:0.0117\n",
      "Episode:296 meanR:415.1900 R:500.0000 rate:1.0000 gloss:1.3555 dlossA:0.9319 dlossQ:1.3694 exploreP:0.0116\n",
      "Episode:297 meanR:418.4800 R:500.0000 rate:1.0000 gloss:1.3525 dlossA:0.9296 dlossQ:1.3465 exploreP:0.0115\n",
      "Episode:298 meanR:420.6400 R:500.0000 rate:1.0000 gloss:1.3866 dlossA:0.9440 dlossQ:1.3683 exploreP:0.0114\n",
      "Episode:299 meanR:420.6400 R:500.0000 rate:1.0000 gloss:1.3665 dlossA:0.9602 dlossQ:1.3663 exploreP:0.0114\n",
      "Episode:300 meanR:422.8300 R:500.0000 rate:1.0000 gloss:1.3861 dlossA:0.9299 dlossQ:1.3652 exploreP:0.0113\n",
      "Episode:301 meanR:426.2600 R:500.0000 rate:1.0000 gloss:1.3306 dlossA:0.9340 dlossQ:1.3466 exploreP:0.0112\n",
      "Episode:302 meanR:426.2600 R:500.0000 rate:1.0000 gloss:1.3388 dlossA:0.9291 dlossQ:1.3670 exploreP:0.0112\n",
      "Episode:303 meanR:426.2600 R:500.0000 rate:1.0000 gloss:1.3549 dlossA:0.9288 dlossQ:1.3266 exploreP:0.0111\n",
      "Episode:304 meanR:426.2600 R:500.0000 rate:1.0000 gloss:1.3950 dlossA:0.8782 dlossQ:1.3383 exploreP:0.0111\n",
      "Episode:305 meanR:429.7300 R:500.0000 rate:1.0000 gloss:1.3906 dlossA:0.8989 dlossQ:1.2440 exploreP:0.0110\n",
      "Episode:306 meanR:432.5800 R:500.0000 rate:1.0000 gloss:1.3386 dlossA:0.8782 dlossQ:1.2586 exploreP:0.0110\n",
      "Episode:307 meanR:432.5800 R:500.0000 rate:1.0000 gloss:1.3715 dlossA:0.8653 dlossQ:1.2488 exploreP:0.0109\n",
      "Episode:308 meanR:434.4900 R:500.0000 rate:1.0000 gloss:1.4111 dlossA:0.8657 dlossQ:1.2806 exploreP:0.0109\n",
      "Episode:309 meanR:434.4900 R:500.0000 rate:1.0000 gloss:1.3801 dlossA:0.8512 dlossQ:1.2648 exploreP:0.0108\n",
      "Episode:310 meanR:434.4900 R:500.0000 rate:1.0000 gloss:1.4444 dlossA:0.8032 dlossQ:1.2293 exploreP:0.0108\n"
     ]
    },
    {
     "name": "stdout",
     "output_type": "stream",
     "text": [
      "Episode:311 meanR:432.6300 R:314.0000 rate:0.6280 gloss:1.4632 dlossA:0.8236 dlossQ:1.2178 exploreP:0.0108\n",
      "Episode:312 meanR:433.4200 R:500.0000 rate:1.0000 gloss:1.4450 dlossA:0.8814 dlossQ:1.2648 exploreP:0.0107\n",
      "Episode:313 meanR:433.4200 R:500.0000 rate:1.0000 gloss:1.3998 dlossA:0.8631 dlossQ:1.2668 exploreP:0.0107\n",
      "Episode:314 meanR:436.4100 R:500.0000 rate:1.0000 gloss:1.3991 dlossA:0.8659 dlossQ:1.2563 exploreP:0.0107\n",
      "Episode:315 meanR:439.8400 R:500.0000 rate:1.0000 gloss:1.3888 dlossA:0.8798 dlossQ:1.2408 exploreP:0.0106\n",
      "Episode:316 meanR:441.3500 R:500.0000 rate:1.0000 gloss:1.3942 dlossA:0.8087 dlossQ:1.2092 exploreP:0.0106\n",
      "Episode:317 meanR:441.3500 R:500.0000 rate:1.0000 gloss:1.3892 dlossA:0.8441 dlossQ:1.1767 exploreP:0.0106\n",
      "Episode:318 meanR:442.8600 R:500.0000 rate:1.0000 gloss:1.4111 dlossA:0.8292 dlossQ:1.1763 exploreP:0.0105\n",
      "Episode:319 meanR:444.3000 R:500.0000 rate:1.0000 gloss:1.3609 dlossA:0.8247 dlossQ:1.1752 exploreP:0.0105\n",
      "Episode:320 meanR:445.7800 R:500.0000 rate:1.0000 gloss:1.4427 dlossA:0.8140 dlossQ:1.1837 exploreP:0.0105\n",
      "Episode:321 meanR:445.7800 R:500.0000 rate:1.0000 gloss:1.3880 dlossA:0.8405 dlossQ:1.1999 exploreP:0.0105\n",
      "Episode:322 meanR:443.9300 R:315.0000 rate:0.6300 gloss:1.4061 dlossA:0.7688 dlossQ:1.1494 exploreP:0.0104\n",
      "Episode:323 meanR:443.9300 R:500.0000 rate:1.0000 gloss:1.3974 dlossA:0.8044 dlossQ:1.1321 exploreP:0.0104\n",
      "Episode:324 meanR:443.9300 R:500.0000 rate:1.0000 gloss:1.4048 dlossA:0.7930 dlossQ:1.1430 exploreP:0.0104\n",
      "Episode:325 meanR:443.9300 R:500.0000 rate:1.0000 gloss:1.3964 dlossA:0.8054 dlossQ:1.1526 exploreP:0.0104\n",
      "Episode:326 meanR:443.9300 R:500.0000 rate:1.0000 gloss:1.3848 dlossA:0.7258 dlossQ:1.1121 exploreP:0.0104\n",
      "Episode:327 meanR:445.2400 R:500.0000 rate:1.0000 gloss:1.4281 dlossA:0.7184 dlossQ:1.0788 exploreP:0.0103\n",
      "Episode:328 meanR:447.2200 R:500.0000 rate:1.0000 gloss:1.4579 dlossA:0.7454 dlossQ:1.0792 exploreP:0.0103\n",
      "Episode:329 meanR:450.2500 R:500.0000 rate:1.0000 gloss:1.3869 dlossA:0.7122 dlossQ:1.0599 exploreP:0.0103\n",
      "Episode:330 meanR:453.1800 R:500.0000 rate:1.0000 gloss:1.4310 dlossA:0.7060 dlossQ:1.0579 exploreP:0.0103\n",
      "Episode:331 meanR:453.1800 R:500.0000 rate:1.0000 gloss:1.4013 dlossA:0.6773 dlossQ:1.0111 exploreP:0.0103\n",
      "Episode:332 meanR:453.6900 R:500.0000 rate:1.0000 gloss:1.4208 dlossA:0.7006 dlossQ:1.0237 exploreP:0.0103\n",
      "Episode:333 meanR:454.1700 R:500.0000 rate:1.0000 gloss:1.4145 dlossA:0.7033 dlossQ:1.0249 exploreP:0.0103\n",
      "Episode:334 meanR:454.1700 R:500.0000 rate:1.0000 gloss:1.4551 dlossA:0.7181 dlossQ:1.0158 exploreP:0.0102\n",
      "Episode:335 meanR:454.1700 R:500.0000 rate:1.0000 gloss:1.4206 dlossA:0.6822 dlossQ:1.0026 exploreP:0.0102\n",
      "Episode:336 meanR:454.1700 R:500.0000 rate:1.0000 gloss:1.4461 dlossA:0.6488 dlossQ:1.0003 exploreP:0.0102\n",
      "Episode:337 meanR:457.5300 R:500.0000 rate:1.0000 gloss:1.3901 dlossA:0.6413 dlossQ:0.9695 exploreP:0.0102\n",
      "Episode:338 meanR:457.7600 R:500.0000 rate:1.0000 gloss:1.4623 dlossA:0.5983 dlossQ:0.9677 exploreP:0.0102\n",
      "Episode:339 meanR:459.0100 R:500.0000 rate:1.0000 gloss:1.4459 dlossA:0.5865 dlossQ:0.9577 exploreP:0.0102\n",
      "Episode:340 meanR:459.0100 R:500.0000 rate:1.0000 gloss:1.4989 dlossA:0.6176 dlossQ:0.9990 exploreP:0.0102\n",
      "Episode:341 meanR:459.4200 R:500.0000 rate:1.0000 gloss:1.4685 dlossA:0.5983 dlossQ:0.9265 exploreP:0.0102\n",
      "Episode:342 meanR:461.5800 R:500.0000 rate:1.0000 gloss:1.4675 dlossA:0.5911 dlossQ:0.9485 exploreP:0.0102\n",
      "Episode:343 meanR:461.5800 R:500.0000 rate:1.0000 gloss:1.4512 dlossA:0.5750 dlossQ:0.9182 exploreP:0.0102\n",
      "Episode:344 meanR:464.7700 R:500.0000 rate:1.0000 gloss:1.5100 dlossA:0.5651 dlossQ:0.9297 exploreP:0.0101\n",
      "Episode:345 meanR:467.3500 R:500.0000 rate:1.0000 gloss:1.4473 dlossA:0.6230 dlossQ:0.8889 exploreP:0.0101\n",
      "Episode:346 meanR:467.3500 R:500.0000 rate:1.0000 gloss:1.4475 dlossA:0.6067 dlossQ:0.9161 exploreP:0.0101\n",
      "Episode:347 meanR:467.3500 R:500.0000 rate:1.0000 gloss:1.3929 dlossA:0.6073 dlossQ:0.9025 exploreP:0.0101\n",
      "Episode:348 meanR:467.3500 R:500.0000 rate:1.0000 gloss:1.4279 dlossA:0.5983 dlossQ:0.9126 exploreP:0.0101\n",
      "Episode:349 meanR:470.1200 R:500.0000 rate:1.0000 gloss:1.4318 dlossA:0.5595 dlossQ:0.8848 exploreP:0.0101\n",
      "Episode:350 meanR:470.1200 R:500.0000 rate:1.0000 gloss:1.4086 dlossA:0.5158 dlossQ:0.8553 exploreP:0.0101\n",
      "Episode:351 meanR:470.1200 R:500.0000 rate:1.0000 gloss:1.4242 dlossA:0.4934 dlossQ:0.8608 exploreP:0.0101\n",
      "Episode:352 meanR:470.1200 R:500.0000 rate:1.0000 gloss:1.4117 dlossA:0.5156 dlossQ:0.8529 exploreP:0.0101\n",
      "Episode:353 meanR:473.3100 R:500.0000 rate:1.0000 gloss:1.4234 dlossA:0.4929 dlossQ:0.8209 exploreP:0.0101\n",
      "Episode:354 meanR:470.2500 R:194.0000 rate:0.3880 gloss:1.3915 dlossA:0.5026 dlossQ:0.8467 exploreP:0.0101\n",
      "Episode:355 meanR:470.2500 R:500.0000 rate:1.0000 gloss:1.4059 dlossA:0.4748 dlossQ:0.8122 exploreP:0.0101\n",
      "Episode:356 meanR:470.2500 R:500.0000 rate:1.0000 gloss:1.4361 dlossA:0.4963 dlossQ:0.8019 exploreP:0.0101\n",
      "Episode:357 meanR:472.3400 R:500.0000 rate:1.0000 gloss:1.3973 dlossA:0.4119 dlossQ:0.8295 exploreP:0.0101\n",
      "Episode:358 meanR:472.3400 R:500.0000 rate:1.0000 gloss:1.4274 dlossA:0.4141 dlossQ:0.8179 exploreP:0.0101\n",
      "Episode:359 meanR:472.3400 R:500.0000 rate:1.0000 gloss:1.4343 dlossA:0.4819 dlossQ:0.7931 exploreP:0.0101\n",
      "Episode:360 meanR:472.3400 R:500.0000 rate:1.0000 gloss:1.4337 dlossA:0.4166 dlossQ:0.7640 exploreP:0.0101\n",
      "Episode:361 meanR:472.3400 R:500.0000 rate:1.0000 gloss:1.4183 dlossA:0.4350 dlossQ:0.7572 exploreP:0.0101\n",
      "Episode:362 meanR:472.3400 R:500.0000 rate:1.0000 gloss:1.3987 dlossA:0.3975 dlossQ:0.7574 exploreP:0.0101\n",
      "Episode:363 meanR:475.2100 R:500.0000 rate:1.0000 gloss:1.4302 dlossA:0.3717 dlossQ:0.7555 exploreP:0.0101\n",
      "Episode:364 meanR:475.2100 R:500.0000 rate:1.0000 gloss:1.4190 dlossA:0.3524 dlossQ:0.7239 exploreP:0.0101\n",
      "Episode:365 meanR:475.2100 R:500.0000 rate:1.0000 gloss:1.4527 dlossA:0.3458 dlossQ:0.7383 exploreP:0.0101\n",
      "Episode:366 meanR:475.2100 R:500.0000 rate:1.0000 gloss:1.4573 dlossA:0.3243 dlossQ:0.7018 exploreP:0.0101\n",
      "Episode:367 meanR:475.2100 R:500.0000 rate:1.0000 gloss:1.5256 dlossA:0.3384 dlossQ:0.7247 exploreP:0.0100\n",
      "Episode:368 meanR:475.2100 R:500.0000 rate:1.0000 gloss:1.4780 dlossA:0.3730 dlossQ:0.6853 exploreP:0.0100\n",
      "Episode:369 meanR:475.2100 R:500.0000 rate:1.0000 gloss:1.4171 dlossA:0.2939 dlossQ:0.6617 exploreP:0.0100\n",
      "Episode:370 meanR:475.2100 R:500.0000 rate:1.0000 gloss:1.4701 dlossA:0.2543 dlossQ:0.6819 exploreP:0.0100\n",
      "Episode:371 meanR:475.2100 R:500.0000 rate:1.0000 gloss:1.4890 dlossA:0.2666 dlossQ:0.6618 exploreP:0.0100\n",
      "Episode:372 meanR:478.3600 R:500.0000 rate:1.0000 gloss:1.5006 dlossA:0.2795 dlossQ:0.6487 exploreP:0.0100\n",
      "Episode:373 meanR:481.2400 R:500.0000 rate:1.0000 gloss:1.4922 dlossA:0.2210 dlossQ:0.6245 exploreP:0.0100\n",
      "Episode:374 meanR:481.2400 R:500.0000 rate:1.0000 gloss:1.5222 dlossA:0.2383 dlossQ:0.6076 exploreP:0.0100\n",
      "Episode:375 meanR:481.2400 R:500.0000 rate:1.0000 gloss:1.5415 dlossA:0.1950 dlossQ:0.6113 exploreP:0.0100\n",
      "Episode:376 meanR:481.2400 R:500.0000 rate:1.0000 gloss:1.5537 dlossA:0.2290 dlossQ:0.5969 exploreP:0.0100\n",
      "Episode:377 meanR:481.2400 R:500.0000 rate:1.0000 gloss:1.5553 dlossA:0.1786 dlossQ:0.6168 exploreP:0.0100\n",
      "Episode:378 meanR:481.2400 R:500.0000 rate:1.0000 gloss:1.5403 dlossA:0.1609 dlossQ:0.6234 exploreP:0.0100\n",
      "Episode:379 meanR:481.2400 R:500.0000 rate:1.0000 gloss:1.5924 dlossA:0.1692 dlossQ:0.6442 exploreP:0.0100\n",
      "Episode:380 meanR:481.2400 R:500.0000 rate:1.0000 gloss:1.5257 dlossA:0.1377 dlossQ:0.6266 exploreP:0.0100\n",
      "Episode:381 meanR:483.3800 R:500.0000 rate:1.0000 gloss:1.5505 dlossA:0.1427 dlossQ:0.6274 exploreP:0.0100\n",
      "Episode:382 meanR:483.3800 R:500.0000 rate:1.0000 gloss:1.6041 dlossA:0.1232 dlossQ:0.5935 exploreP:0.0100\n",
      "Episode:383 meanR:486.0000 R:500.0000 rate:1.0000 gloss:1.6239 dlossA:0.0892 dlossQ:0.6178 exploreP:0.0100\n",
      "Episode:384 meanR:486.0000 R:500.0000 rate:1.0000 gloss:1.6279 dlossA:0.1080 dlossQ:0.6021 exploreP:0.0100\n",
      "Episode:385 meanR:486.0000 R:500.0000 rate:1.0000 gloss:1.6436 dlossA:0.0726 dlossQ:0.6224 exploreP:0.0100\n"
     ]
    }
   ],
   "source": [
    "# Save/load the model and save for plotting\n",
    "saver = tf.train.Saver()\n",
    "episode_rewards_list = [] # goal\n",
    "rewards_list, gloss_list, dloss_list = [], [], []\n",
    "\n",
    "# TF session for training\n",
    "with tf.Session(graph=graph) as sess:\n",
    "    sess.run(tf.global_variables_initializer())\n",
    "    #saver.restore(sess, 'checkpoints/model.ckpt')    \n",
    "    #saver.restore(sess, tf.train.latest_checkpoint('checkpoints'))\n",
    "    total_step = 0 # Explore or exploit parameter\n",
    "    episode_reward = deque(maxlen=100) # 100 episodes average/running average/running mean/window\n",
    "\n",
    "    # Training episodes/epochs\n",
    "    for ep in range(1111*2):\n",
    "        total_reward = 0 # each episode\n",
    "        gloss_batch, dlossA_batch, dlossQ_batch= [], [], []\n",
    "        state = env.reset() # each episode\n",
    "        num_step = 0 # each episode\n",
    "        idx_arr = np.arange(memory_size// batch_size)\n",
    "\n",
    "        # Training steps/batches\n",
    "        while True:\n",
    "            # Explore (Env) or Exploit (Model)\n",
    "            total_step += 1\n",
    "            explore_p = explore_stop + (explore_start - explore_stop) * np.exp(-decay_rate * total_step) \n",
    "            if explore_p > np.random.rand():\n",
    "                action = env.action_space.sample()\n",
    "                #print(action)\n",
    "            else:\n",
    "                action_logits = sess.run(model.actions_logits, feed_dict={model.states: state.reshape([1, -1])})\n",
    "                action = np.argmax(action_logits) # adding epsilon*noise\n",
    "                #print(action)\n",
    "            next_state, reward, done, _ = env.step(action)\n",
    "            memory.buffer.append([state, action, next_state, reward, float(done)])\n",
    "            memory.rates.append(-1) # empty\n",
    "            num_step += 1 # momory added\n",
    "            total_reward += reward\n",
    "            state = next_state\n",
    "            \n",
    "            # Rating the memory\n",
    "            if done is True:\n",
    "                rate = total_reward/500 # update rate at the end/ when episode is done\n",
    "                for idx in range(num_step): # episode length\n",
    "                    if memory.rates[-1-idx] == -1: # double-check the landmark/marked indexes\n",
    "                        memory.rates[-1-idx] = rate # rate the trajectory/data\n",
    "                        \n",
    "            # Training with the maxrated minibatch\n",
    "            batch = memory.buffer\n",
    "            percentage = 0.9\n",
    "            #for idx in range(memory_size// batch_size):\n",
    "            idx = np.random.choice(idx_arr)\n",
    "            states = np.array([each[0] for each in batch])[idx*batch_size:(idx+1)*batch_size]\n",
    "            actions = np.array([each[1] for each in batch])[idx*batch_size:(idx+1)*batch_size]\n",
    "            next_states = np.array([each[2] for each in batch])[idx*batch_size:(idx+1)*batch_size]\n",
    "            rewards = np.array([each[3] for each in batch])[idx*batch_size:(idx+1)*batch_size]\n",
    "            dones = np.array([each[4] for each in batch])[idx*batch_size:(idx+1)*batch_size]\n",
    "            rates = np.array(memory.rates)[idx*batch_size:(idx+1)*batch_size]\n",
    "            #print(states.shape, actions.shape, next_states.shape, rewards.shape, dones.shape, rates.shape)\n",
    "            states = states[rates >= (np.max(rates)*percentage)]\n",
    "            actions = actions[rates >= (np.max(rates)*percentage)]\n",
    "            next_states = next_states[rates >= (np.max(rates)*percentage)]\n",
    "            rewards = rewards[rates >= (np.max(rates)*percentage)]\n",
    "            dones = dones[rates >= (np.max(rates)*percentage)]\n",
    "            rates = rates[rates >= (np.max(rates)*percentage)]\n",
    "            #print(states.shape, actions.shape, next_states.shape, rewards.shape, dones.shape, rates.shape)\n",
    "            nextQs_logits = sess.run(model.Qs_logits, feed_dict = {model.states: next_states})\n",
    "            #nextQs = np.max(nextQs_logits, axis=1) * (1-dones) # DQN\n",
    "            nextQs = nextQs_logits.reshape([-1]) * (1-dones) # DPG\n",
    "            targetQs = rewards + (gamma * nextQs)\n",
    "            gloss, dlossA, dlossQ, _, _ = sess.run([model.g_loss, model.d_lossA, model.d_lossQ, \n",
    "                                                       model.g_opt, model.d_optA], #, model.d_optQ\n",
    "                                                      feed_dict = {model.states: states, \n",
    "                                                                   model.actions: actions,\n",
    "                                                                   model.targetQs: targetQs, \n",
    "                                                                   model.rates: rates})\n",
    "            gloss_batch.append(gloss)\n",
    "            dlossA_batch.append(dlossA)\n",
    "            dlossQ_batch.append(dlossQ)\n",
    "            if done is True:\n",
    "                break\n",
    "                \n",
    "        episode_reward.append(total_reward)\n",
    "        print('Episode:{}'.format(ep),\n",
    "              'meanR:{:.4f}'.format(np.mean(episode_reward)),\n",
    "              'R:{:.4f}'.format(total_reward),\n",
    "              'rate:{:.4f}'.format(rate),\n",
    "              'gloss:{:.4f}'.format(np.mean(gloss_batch)),\n",
    "              'dlossA:{:.4f}'.format(np.mean(dlossA_batch)),\n",
    "              'dlossQ:{:.4f}'.format(np.mean(dlossQ_batch)),\n",
    "              'exploreP:{:.4f}'.format(explore_p))\n",
    "\n",
    "        # Ploting out\n",
    "        episode_rewards_list.append([ep, np.mean(episode_reward)])\n",
    "        rewards_list.append([ep, total_reward])\n",
    "        #gloss_list.append([ep, np.mean(gloss_batch)])\n",
    "        #dloss_list.append([ep, np.mean(dloss_batch)])\n",
    "        \n",
    "        # Break episode/epoch loop\n",
    "        ## Option 1: Solve the First Version\n",
    "        #The task is episodic, and in order to solve the environment, \n",
    "        #your agent must get an average score of +30 over 100 consecutive episodes.\n",
    "        if np.mean(episode_reward) >= 500:\n",
    "            break\n",
    "            \n",
    "    # At the end of all training episodes/epochs\n",
    "    saver.save(sess, 'checkpoints/model.ckpt')"
   ]
  },
  {
   "cell_type": "markdown",
   "metadata": {},
   "source": [
    "# Visualizing training\n",
    "\n",
    "Below I'll plot the total rewards for each episode. I'm plotting the rolling average too, in blue."
   ]
  },
  {
   "cell_type": "code",
   "execution_count": null,
   "metadata": {},
   "outputs": [],
   "source": [
    "import matplotlib.pyplot as plt\n",
    "%matplotlib inline\n",
    "\n",
    "def running_mean(x, N):\n",
    "    cumsum = np.cumsum(np.insert(x, 0, 0)) \n",
    "    return (cumsum[N:] - cumsum[:-N]) / N "
   ]
  },
  {
   "cell_type": "code",
   "execution_count": null,
   "metadata": {},
   "outputs": [],
   "source": [
    "eps, arr = np.array(episode_rewards_list).T\n",
    "smoothed_arr = running_mean(arr, 10)\n",
    "plt.plot(eps[-len(smoothed_arr):], smoothed_arr)\n",
    "plt.plot(eps, arr, color='grey', alpha=0.3)\n",
    "plt.xlabel('Episode')\n",
    "plt.ylabel('Total rewards')"
   ]
  },
  {
   "cell_type": "code",
   "execution_count": 21,
   "metadata": {},
   "outputs": [
    {
     "data": {
      "text/plain": [
       "Text(0, 0.5, 'Total rewards')"
      ]
     },
     "execution_count": 21,
     "metadata": {},
     "output_type": "execute_result"
    },
    {
     "data": {
      "image/png": "[encoded data removed]",
      "text/plain": [
       "<Figure size 432x288 with 1 Axes>"
      ]
     },
     "metadata": {
      "needs_background": "light"
     },
     "output_type": "display_data"
    }
   ],
   "source": [
    "eps, arr = np.array(episode_rewards_list).T\n",
    "smoothed_arr = running_mean(arr, 10)\n",
    "plt.plot(eps[-len(smoothed_arr):], smoothed_arr)\n",
    "plt.plot(eps, arr, color='grey', alpha=0.3)\n",
    "plt.xlabel('Episode')\n",
    "plt.ylabel('Total rewards')"
   ]
  },
  {
   "cell_type": "code",
   "execution_count": 62,
   "metadata": {},
   "outputs": [
    {
     "data": {
      "text/plain": [
       "Text(0,0.5,'Total rewards')"
      ]
     },
     "execution_count": 62,
     "metadata": {},
     "output_type": "execute_result"
    },
    {
     "data": {
      "image/png": "[encoded data removed]",
      "text/plain": [
       "<Figure size 432x288 with 1 Axes>"
      ]
     },
     "metadata": {},
     "output_type": "display_data"
    }
   ],
   "source": [
    "# eps, arr = np.array(episode_rewards_list).T\n",
    "# smoothed_arr = running_mean(arr, 10)\n",
    "# plt.plot(eps[-len(smoothed_arr):], smoothed_arr)\n",
    "# plt.plot(eps, arr, color='grey', alpha=0.3)\n",
    "# plt.xlabel('Episode')\n",
    "# plt.ylabel('Total rewards')"
   ]
  },
  {
   "cell_type": "code",
   "execution_count": 22,
   "metadata": {},
   "outputs": [
    {
     "data": {
      "text/plain": [
       "Text(0, 0.5, 'Total rewards')"
      ]
     },
     "execution_count": 22,
     "metadata": {},
     "output_type": "execute_result"
    },
    {
     "data": {
      "image/png": "[encoded data removed]",
      "text/plain": [
       "<Figure size 432x288 with 1 Axes>"
      ]
     },
     "metadata": {
      "needs_background": "light"
     },
     "output_type": "display_data"
    }
   ],
   "source": [
    "eps, arr = np.array(rewards_list).T\n",
    "smoothed_arr = running_mean(arr, 10)\n",
    "plt.plot(eps[-len(smoothed_arr):], smoothed_arr)\n",
    "plt.plot(eps, arr, color='grey', alpha=0.3)\n",
    "plt.xlabel('Episode')\n",
    "plt.ylabel('Total rewards')"
   ]
  },
  {
   "cell_type": "code",
   "execution_count": 63,
   "metadata": {},
   "outputs": [
    {
     "data": {
      "text/plain": [
       "Text(0,0.5,'Total rewards')"
      ]
     },
     "execution_count": 63,
     "metadata": {},
     "output_type": "execute_result"
    },
    {
     "data": {
      "image/png": "[encoded data removed]",
      "text/plain": [
       "<Figure size 432x288 with 1 Axes>"
      ]
     },
     "metadata": {},
     "output_type": "display_data"
    }
   ],
   "source": [
    "eps, arr = np.array(rewards_list).T\n",
    "smoothed_arr = running_mean(arr, 10)\n",
    "plt.plot(eps[-len(smoothed_arr):], smoothed_arr)\n",
    "plt.plot(eps, arr, color='grey', alpha=0.3)\n",
    "plt.xlabel('Episode')\n",
    "plt.ylabel('Total rewards')"
   ]
  },
  {
   "cell_type": "code",
   "execution_count": null,
   "metadata": {},
   "outputs": [],
   "source": [
    "eps, arr = np.array(gloss_list).T\n",
    "smoothed_arr = running_mean(arr, 10)\n",
    "plt.plot(eps[-len(smoothed_arr):], smoothed_arr)\n",
    "plt.plot(eps, arr, color='grey', alpha=0.3)\n",
    "plt.xlabel('Episode')\n",
    "plt.ylabel('G losses')`"
   ]
  },
  {
   "cell_type": "code",
   "execution_count": null,
   "metadata": {},
   "outputs": [],
   "source": [
    "eps, arr = np.array(dloss_list).T\n",
    "smoothed_arr = running_mean(arr, 10)\n",
    "plt.plot(eps[-len(smoothed_arr):], smoothed_arr)\n",
    "plt.plot(eps, arr, color='grey', alpha=0.3)\n",
    "plt.xlabel('Episode')\n",
    "plt.ylabel('D losses')"
   ]
  },
  {
   "cell_type": "markdown",
   "metadata": {},
   "source": [
    "## Testing\n",
    "\n",
    "Let's checkout how our trained agent plays the game."
   ]
  },
  {
   "cell_type": "code",
   "execution_count": 36,
   "metadata": {},
   "outputs": [
    {
     "name": "stdout",
     "output_type": "stream",
     "text": [
      "\u001b[33mWARN: gym.spaces.Box autodetected dtype as <class 'numpy.float32'>. Please provide explicit dtype.\u001b[0m\n",
      "\u001b[33mWARN: gym.spaces.Box autodetected dtype as <class 'numpy.float32'>. Please provide explicit dtype.\u001b[0m\n",
      "INFO:tensorflow:Restoring parameters from checkpoints/model.ckpt\n"
     ]
    },
    {
     "name": "stderr",
     "output_type": "stream",
     "text": [
      "/home/arasdar/anaconda3/envs/env/lib/python3.6/site-packages/gym/__init__.py:22: UserWarning: DEPRECATION WARNING: to improve load times, gym no longer automatically loads gym.spaces. Please run \"import gym.spaces\" to load gym.spaces on your own. This warning will turn into an error in a future version of gym.\n",
      "  warnings.warn('DEPRECATION WARNING: to improve load times, gym no longer automatically loads gym.spaces. Please run \"import gym.spaces\" to load gym.spaces on your own. This warning will turn into an error in a future version of gym.')\n"
     ]
    },
    {
     "name": "stdout",
     "output_type": "stream",
     "text": [
      "total_reward: 500.0\n"
     ]
    }
   ],
   "source": [
    "import gym\n",
    "env = gym.make('CartPole-v0')\n",
    "env = gym.make('CartPole-v1')\n",
    "# env = gym.make('Acrobot-v1')\n",
    "# env = gym.make('MountainCar-v0')\n",
    "# env = gym.make('Pendulum-v0')\n",
    "# env = gym.make('Blackjack-v0')\n",
    "# env = gym.make('FrozenLake-v0')\n",
    "# env = gym.make('AirRaid-ram-v0')\n",
    "# env = gym.make('AirRaid-v0')\n",
    "# env = gym.make('BipedalWalker-v2')\n",
    "# env = gym.make('Copy-v0')\n",
    "# env = gym.make('CarRacing-v0')\n",
    "# env = gym.make('Ant-v2') #mujoco\n",
    "# env = gym.make('FetchPickAndPlace-v1') # mujoco required!\n",
    "\n",
    "with tf.Session() as sess:\n",
    "    sess.run(tf.global_variables_initializer())\n",
    "    saver.restore(sess, 'checkpoints/model.ckpt')    \n",
    "    #saver.restore(sess, tf.train.latest_checkpoint('checkpoints'))\n",
    "    \n",
    "    # Episodes/epochs\n",
    "    for _ in range(1):\n",
    "        state = env.reset()\n",
    "        total_reward = 0\n",
    "\n",
    "        # Steps/batches\n",
    "        while True:\n",
    "            env.render()\n",
    "            action_logits = sess.run(model.actions_logits, feed_dict={model.states: state.reshape([1, -1])})\n",
    "            action = np.argmax(action_logits)\n",
    "            state, reward, done, _ = env.step(action)\n",
    "            total_reward += reward\n",
    "            if done:\n",
    "                print('total_reward: {}'.format(total_reward))\n",
    "                break\n",
    "                \n",
    "env.close()"
   ]
  },
  {
   "cell_type": "markdown",
   "metadata": {},
   "source": [
    "## Extending this\n",
    "\n",
    "So, Cart-Pole is a pretty simple game. However, the same model can be used to train an agent to play something much more complicated like Pong or Space Invaders. Instead of a state like we're using here though, you'd want to use convolutional layers to get the state from the screen images.\n",
    "\n",
    "![Deep Q-Learning Atari](assets/atari-network.png)\n",
    "\n",
    "I'll leave it as a challenge for you to use deep Q-learning to train an agent to play Atari games. Here's the original paper which will get you started: http://www.davidqiu.com:8888/research/nature14236.pdf."
   ]
  },
  {
   "cell_type": "code",
   "execution_count": null,
   "metadata": {},
   "outputs": [],
   "source": []
  }
 ],
 "metadata": {
  "kernelspec": {
   "display_name": "Python 3",
   "language": "python",
   "name": "python3"
  },
  "language_info": {
   "codemirror_mode": {
    "name": "ipython",
    "version": 3
   },
   "file_extension": ".py",
   "mimetype": "text/x-python",
   "name": "python",
   "nbconvert_exporter": "python",
   "pygments_lexer": "ipython3",
   "version": "3.6.6"
  }
 },
 "nbformat": 4,
 "nbformat_minor": 2
}
