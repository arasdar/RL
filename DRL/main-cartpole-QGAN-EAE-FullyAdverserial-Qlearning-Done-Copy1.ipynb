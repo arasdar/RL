{
 "cells": [
  {
   "cell_type": "code",
   "execution_count": 1,
   "metadata": {},
   "outputs": [
    {
     "name": "stdout",
     "output_type": "stream",
     "text": [
      "TensorFlow Version: 1.7.1\n",
      "Default GPU Device: \n"
     ]
    }
   ],
   "source": [
    "import tensorflow as tf\n",
    "print('TensorFlow Version: {}'.format(tf.__version__))\n",
    "print('Default GPU Device: {}'.format(tf.test.gpu_device_name()))"
   ]
  },
  {
   "cell_type": "markdown",
   "metadata": {},
   "source": [
    "##### >**Note:** Make sure you have OpenAI Gym cloned. Then run this command `pip install -e gym/[all]`."
   ]
  },
  {
   "cell_type": "code",
   "execution_count": 2,
   "metadata": {},
   "outputs": [],
   "source": [
    "import numpy as np\n",
    "import gym\n",
    "env = gym.make('CartPole-v0')\n",
    "env = gym.make('CartPole-v1')"
   ]
  },
  {
   "cell_type": "code",
   "execution_count": 3,
   "metadata": {},
   "outputs": [],
   "source": [
    "def model_input(state_size):\n",
    "    #states = tf.placeholder(tf.float32, [None, *state_size], name='states')\n",
    "    states = tf.placeholder(tf.float32, [None, state_size], name='states')\n",
    "    actions = tf.placeholder(tf.int32, [None], name='actions')\n",
    "    next_states = tf.placeholder(tf.float32, [None, state_size], name='next_states')\n",
    "    rewards = tf.placeholder(tf.float32, [None], name='rewards')\n",
    "    dones = tf.placeholder(tf.float32, [None], name='dones')\n",
    "    rates = tf.placeholder(tf.float32, [None], name='rates') # success rate\n",
    "    return states, actions, next_states, rewards, dones, rates"
   ]
  },
  {
   "cell_type": "code",
   "execution_count": 4,
   "metadata": {},
   "outputs": [],
   "source": [
    "def Act(states, action_size, hidden_size, reuse=False, alpha=0.1, training=False):\n",
    "    with tf.variable_scope('Act', reuse=reuse):\n",
    "        # First fully connected layer\n",
    "        h1 = tf.layers.dense(inputs=states, units=hidden_size)\n",
    "        bn1 = tf.layers.batch_normalization(h1, training=training)        \n",
    "        nl1 = tf.maximum(alpha * bn1, bn1)\n",
    "        \n",
    "        # Second fully connected layer\n",
    "        h2 = tf.layers.dense(inputs=nl1, units=hidden_size)\n",
    "        bn2 = tf.layers.batch_normalization(h2, training=training)        \n",
    "        nl2 = tf.maximum(alpha * bn2, bn2)\n",
    "        \n",
    "        # Output layer\n",
    "        logits = tf.layers.dense(inputs=nl2, units=action_size)        \n",
    "        return logits"
   ]
  },
  {
   "cell_type": "code",
   "execution_count": 5,
   "metadata": {},
   "outputs": [],
   "source": [
    "def Env(states, actions, state_size, action_size, hidden_size, reuse=False, alpha=0.1, training=False):\n",
    "    with tf.variable_scope('Env', reuse=reuse):\n",
    "        # First fully connected layer\n",
    "        h1 = tf.layers.dense(inputs=states, units=action_size)\n",
    "        bn1 = tf.layers.batch_normalization(h1, training=training)        \n",
    "        nl1 = tf.maximum(alpha * bn1, bn1)\n",
    "        \n",
    "        # Second fully connected layer\n",
    "        nl1_fused = tf.concat(axis=1, values=[nl1, actions])\n",
    "        h2 = tf.layers.dense(inputs=nl1_fused, units=hidden_size)\n",
    "        bn2 = tf.layers.batch_normalization(h2, training=training)        \n",
    "        nl2 = tf.maximum(alpha * bn2, bn2)\n",
    "                \n",
    "        # Output layer\n",
    "        states_logits = tf.layers.dense(inputs=nl2, units=state_size, trainable=False)\n",
    "        Qlogits = tf.layers.dense(inputs=nl2, units=1, trainable=False)\n",
    "        return states_logits, Qlogits"
   ]
  },
  {
   "cell_type": "code",
   "execution_count": 6,
   "metadata": {},
   "outputs": [],
   "source": [
    "def model_loss(state_size, action_size, hidden_size, gamma,\n",
    "               states, actions, next_states, rewards, dones, rates):\n",
    "    ################################################ a = act(s)\n",
    "    actions_logits = Act(states=states, hidden_size=hidden_size, action_size=action_size)\n",
    "    actions_labels = tf.one_hot(indices=actions, depth=action_size, dtype=actions_logits.dtype)\n",
    "    aloss = tf.reduce_mean(tf.nn.softmax_cross_entropy_with_logits_v2(logits=actions_logits, \n",
    "                                                                      labels=actions_labels))\n",
    "    ################################################ s', r = env(s, a)\n",
    "    ################################################ s', Q = env(s, a)\n",
    "    ################################################ ~s', ~Q = env(s, ~a)\n",
    "    e_next_states_logits, eQs = Env(actions=actions_labels, states=states, hidden_size=hidden_size, \n",
    "                                    action_size=action_size, state_size=state_size)\n",
    "    a_next_states_logits, aQs = Env(actions=actions_logits, states=states, hidden_size=hidden_size, \n",
    "                                    action_size=action_size, state_size=state_size, reuse=True)\n",
    "    next_states_labels = tf.nn.sigmoid(next_states)\n",
    "    eloss = tf.reduce_mean(tf.nn.sigmoid_cross_entropy_with_logits(logits=e_next_states_logits, \n",
    "                                                                   labels=next_states_labels)) # real loss\n",
    "    eloss += -tf.reduce_mean(tf.nn.sigmoid_cross_entropy_with_logits(logits=a_next_states_logits, \n",
    "                                                                     labels=next_states_labels)) # maximize loss\n",
    "    aloss2 = tf.reduce_mean(tf.nn.sigmoid_cross_entropy_with_logits(logits=a_next_states_logits, \n",
    "                                                                    labels=next_states_labels)) # minimize loss\n",
    "    eQs_logits = tf.reshape(eQs, shape=[-1])\n",
    "    aQs_logits = tf.reshape(aQs, shape=[-1])\n",
    "    eloss += tf.reduce_mean(tf.nn.sigmoid_cross_entropy_with_logits(logits=eQs_logits, # GAN\n",
    "                                                                    labels=rates)) # 0-1 real\n",
    "    #################################################### s'', Q' = ~env(s', ~a')\n",
    "    next_actions_logits = Act(states=next_states, hidden_size=hidden_size, action_size=action_size, reuse=True)\n",
    "    _, aQs2 = Env(actions=next_actions_logits, states=next_states, hidden_size=hidden_size, \n",
    "                  action_size=action_size, state_size=state_size, reuse=True)\n",
    "    aQs2_logits = tf.reshape(aQs2, shape=[-1]) * (1-dones)\n",
    "    eloss += tf.reduce_mean(tf.nn.sigmoid_cross_entropy_with_logits(logits=(aQs_logits+aQs2_logits)/2, # GAN\n",
    "                                                                    labels=tf.zeros_like(rates))) # min\n",
    "    aloss2 += tf.reduce_mean(tf.nn.sigmoid_cross_entropy_with_logits(logits=(aQs_logits+aQs2_logits)/2, # GAN\n",
    "                                                                     labels=tf.ones_like(rates))) # max\n",
    "    ###################################################### Q(s,a)= r + Q'(s',a') # max\n",
    "    ###################################################### ~Q(s,~a)= r # min\n",
    "    ###################################################### ~Q(s,~a)= r + Q'(s',a') # max\n",
    "    targetQs = rewards + (gamma * aQs2_logits)\n",
    "    eloss += tf.reduce_mean(tf.square(eQs_logits - targetQs)) # real\n",
    "    eloss += tf.reduce_mean((aQs_logits+aQs2_logits)/2) # min\n",
    "    aloss2 += -tf.reduce_mean((aQs_logits+aQs2_logits)/2) # max\n",
    "    return actions_logits, aloss, eloss, aloss2"
   ]
  },
  {
   "cell_type": "code",
   "execution_count": 7,
   "metadata": {},
   "outputs": [],
   "source": [
    "def model_opt(a_loss, e_loss, a_loss2, a_learning_rate, e_learning_rate):\n",
    "    # Get weights and bias to update\n",
    "    t_vars = tf.trainable_variables()\n",
    "    a_vars = [var for var in t_vars if var.name.startswith('Act')]\n",
    "    e_vars = [var for var in t_vars if var.name.startswith('Env')]\n",
    "\n",
    "    # Optimize\n",
    "    with tf.control_dependencies(tf.get_collection(tf.GraphKeys.UPDATE_OPS)): # Required for batchnorm (BN)\n",
    "        a_opt = tf.train.AdamOptimizer(a_learning_rate).minimize(a_loss, var_list=a_vars)\n",
    "        e_opt = tf.train.AdamOptimizer(e_learning_rate).minimize(e_loss, var_list=e_vars)\n",
    "        a_opt2 = tf.train.AdamOptimizer(a_learning_rate).minimize(a_loss2, var_list=a_vars)\n",
    "    return a_opt, e_opt, a_opt2"
   ]
  },
  {
   "cell_type": "code",
   "execution_count": 8,
   "metadata": {},
   "outputs": [],
   "source": [
    "class Model:\n",
    "    def __init__(self, state_size, action_size, hidden_size, a_learning_rate, e_learning_rate, gamma):\n",
    "\n",
    "        # Data of the Model: make the data available inside the framework\n",
    "        self.states, self.actions, self.next_states, self.rewards, self.dones, self.rates = model_input(\n",
    "            state_size=state_size)\n",
    "\n",
    "        # Create the Model: calculating the loss and forwad pass\n",
    "        self.actions_logits, self.a_loss, self.e_loss, self.a_loss2 = model_loss(\n",
    "            state_size=state_size, action_size=action_size, hidden_size=hidden_size, gamma=gamma, # model init\n",
    "            states=self.states, actions=self.actions, next_states=self.next_states, \n",
    "            rewards=self.rewards, dones=self.dones, rates=self.rates) # model input\n",
    "        \n",
    "        # Update the model: backward pass and backprop\n",
    "        self.a_opt, self.e_opt, self.a_opt2 = model_opt(a_loss=self.a_loss, \n",
    "                                                        e_loss=self.e_loss,\n",
    "                                                        a_loss2=self.a_loss2, \n",
    "                                                        a_learning_rate=a_learning_rate,\n",
    "                                                        e_learning_rate=e_learning_rate)"
   ]
  },
  {
   "cell_type": "code",
   "execution_count": 9,
   "metadata": {},
   "outputs": [],
   "source": [
    "from collections import deque\n",
    "class Memory():\n",
    "    def __init__(self, max_size = 1000):\n",
    "        self.buffer = deque(maxlen=max_size) # data batch\n",
    "#     def sample(self, batch_size):\n",
    "#         idx = np.random.choice(np.arange(len(self.buffer)), size=batch_size, replace=False)\n",
    "#         return [self.buffer[ii] for ii in idx]"
   ]
  },
  {
   "cell_type": "markdown",
   "metadata": {},
   "source": [
    "## Hyperparameters\n",
    "\n",
    "One of the more difficult aspects of reinforcememt learning are the large number of hyperparameters. Not only are we tuning the network, but we're tuning the simulation."
   ]
  },
  {
   "cell_type": "code",
   "execution_count": 10,
   "metadata": {},
   "outputs": [
    {
     "data": {
      "text/plain": [
       "(Box(4,), Discrete(2))"
      ]
     },
     "execution_count": 10,
     "metadata": {},
     "output_type": "execute_result"
    }
   ],
   "source": [
    "env.observation_space, env.action_space"
   ]
  },
  {
   "cell_type": "code",
   "execution_count": 11,
   "metadata": {},
   "outputs": [],
   "source": [
    "# Exploration parameters\n",
    "explore_start = 1.0            # exploration probability at start\n",
    "explore_stop = 0.01           # minimum exploration probability \n",
    "decay_rate = 0.0001            # exponential decay rate for exploration prob\n",
    "\n",
    "# Network parameters\n",
    "state_size = 4\n",
    "action_size = 2\n",
    "hidden_size = 4*2             # number of units in each Q-network hidden layer\n",
    "a_learning_rate = 1e-4         # Q-network learning rate\n",
    "e_learning_rate = 1e-4         # Q-network learning rate\n",
    "\n",
    "# Memory parameters\n",
    "memory_size = int(1e5)            # memory capacity\n",
    "batch_size = int(1e3)             # experience mini-batch size\n",
    "gamma=0.99"
   ]
  },
  {
   "cell_type": "code",
   "execution_count": 12,
   "metadata": {},
   "outputs": [],
   "source": [
    "# Reset/init the graph/session\n",
    "graph = tf.reset_default_graph()\n",
    "\n",
    "# Init the model\n",
    "model = Model(action_size=action_size, state_size=state_size, hidden_size=hidden_size, gamma=gamma,\n",
    "              a_learning_rate=a_learning_rate, e_learning_rate=e_learning_rate)\n",
    "\n",
    "# Init the memory\n",
    "memory = Memory(max_size=memory_size)"
   ]
  },
  {
   "cell_type": "code",
   "execution_count": 13,
   "metadata": {},
   "outputs": [],
   "source": [
    "state = env.reset()\n",
    "total_reward = 0\n",
    "num_step = 0\n",
    "for _ in range(memory_size):\n",
    "    action = env.action_space.sample()\n",
    "    next_state, reward, done, _ = env.step(action)\n",
    "    rate = -1\n",
    "    memory.buffer.append([state, action, next_state, reward, float(done), rate])\n",
    "    num_step += 1 # memory incremented\n",
    "    total_reward += reward\n",
    "    state = next_state\n",
    "    if done is True:\n",
    "        rate = total_reward/500\n",
    "        for idx in range(num_step): # episode length\n",
    "            if memory.buffer[-1-idx][-1] == -1:\n",
    "                memory.buffer[-1-idx][-1] = rate\n",
    "        state = env.reset()\n",
    "        total_reward = 0 # reset\n",
    "        num_step = 0 # reset"
   ]
  },
  {
   "cell_type": "markdown",
   "metadata": {},
   "source": [
    "## Training the model\n",
    "\n",
    "Below we'll train our agent. If you want to watch it train, uncomment the `env.render()` line. This is slow because it's rendering the frames slower than the network can train. But, it's cool to watch the agent get better at the game."
   ]
  },
  {
   "cell_type": "code",
   "execution_count": null,
   "metadata": {},
   "outputs": [
    {
     "name": "stdout",
     "output_type": "stream",
     "text": [
      "Episode:0 meanR:16.0000 R:16.0000 rate:0.0320 aloss:0.6877 eloss:2.4513 aloss2:1.1830 exploreP:0.9984\n",
      "Episode:1 meanR:22.0000 R:28.0000 rate:0.0560 aloss:0.7023 eloss:2.4812 aloss2:1.1846 exploreP:0.9957\n",
      "Episode:2 meanR:29.6667 R:45.0000 rate:0.0900 aloss:0.6869 eloss:2.4934 aloss2:1.1599 exploreP:0.9912\n",
      "Episode:3 meanR:26.5000 R:17.0000 rate:0.0340 aloss:0.7015 eloss:2.4394 aloss2:1.2059 exploreP:0.9896\n",
      "Episode:4 meanR:25.6000 R:22.0000 rate:0.0440 aloss:0.6897 eloss:2.4280 aloss2:1.2039 exploreP:0.9874\n",
      "Episode:5 meanR:23.6667 R:14.0000 rate:0.0280 aloss:0.6868 eloss:2.3457 aloss2:1.2545 exploreP:0.9860\n",
      "Episode:6 meanR:23.0000 R:19.0000 rate:0.0380 aloss:0.6904 eloss:2.3671 aloss2:1.2325 exploreP:0.9842\n",
      "Episode:7 meanR:24.6250 R:36.0000 rate:0.0720 aloss:0.6993 eloss:2.3256 aloss2:1.2648 exploreP:0.9807\n",
      "Episode:8 meanR:23.5556 R:15.0000 rate:0.0300 aloss:0.6945 eloss:2.3227 aloss2:1.2631 exploreP:0.9792\n",
      "Episode:9 meanR:24.9000 R:37.0000 rate:0.0740 aloss:0.6937 eloss:2.3171 aloss2:1.2582 exploreP:0.9757\n",
      "Episode:10 meanR:24.5455 R:21.0000 rate:0.0420 aloss:0.6922 eloss:2.3253 aloss2:1.2486 exploreP:0.9736\n",
      "Episode:11 meanR:23.5000 R:12.0000 rate:0.0240 aloss:0.7220 eloss:2.3144 aloss2:1.2721 exploreP:0.9725\n",
      "Episode:12 meanR:22.9231 R:16.0000 rate:0.0320 aloss:0.6798 eloss:2.2734 aloss2:1.2822 exploreP:0.9709\n",
      "Episode:13 meanR:23.0000 R:24.0000 rate:0.0480 aloss:0.6962 eloss:2.2467 aloss2:1.3025 exploreP:0.9686\n",
      "Episode:14 meanR:25.3333 R:58.0000 rate:0.1160 aloss:0.6904 eloss:2.2080 aloss2:1.3226 exploreP:0.9631\n",
      "Episode:15 meanR:26.8750 R:50.0000 rate:0.1000 aloss:0.6933 eloss:2.2250 aloss2:1.3140 exploreP:0.9583\n",
      "Episode:16 meanR:26.2353 R:16.0000 rate:0.0320 aloss:0.6878 eloss:2.2404 aloss2:1.3000 exploreP:0.9568\n",
      "Episode:17 meanR:26.2222 R:26.0000 rate:0.0520 aloss:0.6904 eloss:2.2014 aloss2:1.3201 exploreP:0.9544\n",
      "Episode:18 meanR:25.4737 R:12.0000 rate:0.0240 aloss:0.6852 eloss:2.1604 aloss2:1.3395 exploreP:0.9532\n",
      "Episode:19 meanR:24.7500 R:11.0000 rate:0.0220 aloss:0.6849 eloss:2.2840 aloss2:1.2648 exploreP:0.9522\n",
      "Episode:20 meanR:26.4762 R:61.0000 rate:0.1220 aloss:0.6828 eloss:2.2023 aloss2:1.3274 exploreP:0.9465\n",
      "Episode:21 meanR:28.7727 R:77.0000 rate:0.1540 aloss:0.6803 eloss:2.3085 aloss2:1.2799 exploreP:0.9393\n",
      "Episode:22 meanR:28.6522 R:26.0000 rate:0.0520 aloss:0.6829 eloss:2.4165 aloss2:1.2237 exploreP:0.9369\n",
      "Episode:23 meanR:28.8750 R:34.0000 rate:0.0680 aloss:0.6847 eloss:2.4353 aloss2:1.2340 exploreP:0.9337\n",
      "Episode:24 meanR:28.2800 R:14.0000 rate:0.0280 aloss:0.6795 eloss:2.4206 aloss2:1.2578 exploreP:0.9324\n",
      "Episode:25 meanR:27.7692 R:15.0000 rate:0.0300 aloss:0.6850 eloss:2.4858 aloss2:1.2188 exploreP:0.9310\n",
      "Episode:26 meanR:27.1111 R:10.0000 rate:0.0200 aloss:0.6863 eloss:2.5383 aloss2:1.2122 exploreP:0.9301\n",
      "Episode:27 meanR:27.2500 R:31.0000 rate:0.0620 aloss:0.6842 eloss:2.5144 aloss2:1.2082 exploreP:0.9273\n",
      "Episode:28 meanR:26.7586 R:13.0000 rate:0.0260 aloss:0.6852 eloss:2.6057 aloss2:1.1925 exploreP:0.9261\n",
      "Episode:29 meanR:26.4333 R:17.0000 rate:0.0340 aloss:0.6872 eloss:2.5179 aloss2:1.2231 exploreP:0.9245\n",
      "Episode:30 meanR:27.2258 R:51.0000 rate:0.1020 aloss:0.6851 eloss:2.5959 aloss2:1.2069 exploreP:0.9199\n",
      "Episode:31 meanR:26.7812 R:13.0000 rate:0.0260 aloss:0.6855 eloss:2.7510 aloss2:1.1496 exploreP:0.9187\n",
      "Episode:32 meanR:26.5758 R:20.0000 rate:0.0400 aloss:0.6875 eloss:2.6683 aloss2:1.1894 exploreP:0.9169\n",
      "Episode:33 meanR:26.5588 R:26.0000 rate:0.0520 aloss:0.6874 eloss:2.6857 aloss2:1.1887 exploreP:0.9145\n",
      "Episode:34 meanR:26.6857 R:31.0000 rate:0.0620 aloss:0.7046 eloss:2.6847 aloss2:1.1971 exploreP:0.9117\n",
      "Episode:35 meanR:26.5000 R:20.0000 rate:0.0400 aloss:0.6852 eloss:2.6790 aloss2:1.2000 exploreP:0.9099\n",
      "Episode:36 meanR:26.9189 R:42.0000 rate:0.0840 aloss:0.6950 eloss:2.6468 aloss2:1.2271 exploreP:0.9061\n",
      "Episode:37 meanR:26.5263 R:12.0000 rate:0.0240 aloss:0.6934 eloss:2.6030 aloss2:1.2536 exploreP:0.9051\n",
      "Episode:38 meanR:26.0769 R:9.0000 rate:0.0180 aloss:0.6918 eloss:2.6790 aloss2:1.2131 exploreP:0.9043\n",
      "Episode:39 meanR:26.1000 R:27.0000 rate:0.0540 aloss:0.6934 eloss:2.6500 aloss2:1.2338 exploreP:0.9019\n",
      "Episode:40 meanR:26.0488 R:24.0000 rate:0.0480 aloss:0.6918 eloss:2.6242 aloss2:1.2475 exploreP:0.8997\n",
      "Episode:41 meanR:25.9286 R:21.0000 rate:0.0420 aloss:0.6898 eloss:2.6421 aloss2:1.2474 exploreP:0.8979\n",
      "Episode:42 meanR:25.6512 R:14.0000 rate:0.0280 aloss:0.6883 eloss:2.6657 aloss2:1.2166 exploreP:0.8966\n",
      "Episode:43 meanR:25.8864 R:36.0000 rate:0.0720 aloss:0.6865 eloss:2.5869 aloss2:1.2671 exploreP:0.8934\n",
      "Episode:44 meanR:25.6444 R:15.0000 rate:0.0300 aloss:0.6855 eloss:2.5471 aloss2:1.2874 exploreP:0.8921\n",
      "Episode:45 meanR:25.4783 R:18.0000 rate:0.0360 aloss:0.6824 eloss:2.5446 aloss2:1.2990 exploreP:0.8905\n",
      "Episode:46 meanR:25.8085 R:41.0000 rate:0.0820 aloss:0.6889 eloss:2.5066 aloss2:1.3146 exploreP:0.8869\n",
      "Episode:47 meanR:25.5208 R:12.0000 rate:0.0240 aloss:0.6889 eloss:2.5408 aloss2:1.2994 exploreP:0.8859\n",
      "Episode:48 meanR:25.4898 R:24.0000 rate:0.0480 aloss:0.6868 eloss:2.4820 aloss2:1.3304 exploreP:0.8838\n",
      "Episode:49 meanR:25.9200 R:47.0000 rate:0.0940 aloss:0.6896 eloss:2.4750 aloss2:1.3314 exploreP:0.8797\n",
      "Episode:50 meanR:25.6078 R:10.0000 rate:0.0200 aloss:0.6869 eloss:2.4609 aloss2:1.3349 exploreP:0.8788\n",
      "Episode:51 meanR:25.3846 R:14.0000 rate:0.0280 aloss:0.6826 eloss:2.4219 aloss2:1.3529 exploreP:0.8776\n",
      "Episode:52 meanR:25.2453 R:18.0000 rate:0.0360 aloss:0.6831 eloss:2.4454 aloss2:1.3375 exploreP:0.8760\n",
      "Episode:53 meanR:24.9815 R:11.0000 rate:0.0220 aloss:0.6838 eloss:2.3899 aloss2:1.3803 exploreP:0.8751\n",
      "Episode:54 meanR:25.1455 R:34.0000 rate:0.0680 aloss:0.6985 eloss:2.4198 aloss2:1.3547 exploreP:0.8721\n",
      "Episode:55 meanR:24.8929 R:11.0000 rate:0.0220 aloss:0.6981 eloss:2.3652 aloss2:1.3964 exploreP:0.8712\n",
      "Episode:56 meanR:25.0351 R:33.0000 rate:0.0660 aloss:0.6810 eloss:2.3520 aloss2:1.3864 exploreP:0.8683\n",
      "Episode:57 meanR:24.8621 R:15.0000 rate:0.0300 aloss:0.6850 eloss:2.3229 aloss2:1.4086 exploreP:0.8671\n",
      "Episode:58 meanR:24.8644 R:25.0000 rate:0.0500 aloss:0.6786 eloss:2.3342 aloss2:1.3936 exploreP:0.8649\n",
      "Episode:59 meanR:24.7833 R:20.0000 rate:0.0400 aloss:0.6769 eloss:2.2933 aloss2:1.4162 exploreP:0.8632\n",
      "Episode:60 meanR:25.4426 R:65.0000 rate:0.1300 aloss:0.6775 eloss:2.2661 aloss2:1.4334 exploreP:0.8577\n",
      "Episode:61 meanR:25.3387 R:19.0000 rate:0.0380 aloss:0.6869 eloss:2.2216 aloss2:1.4574 exploreP:0.8561\n",
      "Episode:62 meanR:25.3333 R:25.0000 rate:0.0500 aloss:0.6805 eloss:2.2155 aloss2:1.4594 exploreP:0.8540\n",
      "Episode:63 meanR:25.1406 R:13.0000 rate:0.0260 aloss:0.6817 eloss:2.2017 aloss2:1.4660 exploreP:0.8529\n",
      "Episode:64 meanR:25.0462 R:19.0000 rate:0.0380 aloss:0.6948 eloss:2.2115 aloss2:1.4729 exploreP:0.8513\n",
      "Episode:65 meanR:25.2424 R:38.0000 rate:0.0760 aloss:0.6780 eloss:2.1834 aloss2:1.4815 exploreP:0.8481\n",
      "Episode:66 meanR:25.4179 R:37.0000 rate:0.0740 aloss:0.6871 eloss:2.1741 aloss2:1.4874 exploreP:0.8450\n",
      "Episode:67 meanR:25.5000 R:31.0000 rate:0.0620 aloss:0.6913 eloss:2.1420 aloss2:1.5147 exploreP:0.8424\n",
      "Episode:68 meanR:25.5942 R:32.0000 rate:0.0640 aloss:0.6850 eloss:2.0777 aloss2:1.5442 exploreP:0.8397\n",
      "Episode:69 meanR:25.5714 R:24.0000 rate:0.0480 aloss:0.6911 eloss:2.0542 aloss2:1.5620 exploreP:0.8377\n",
      "Episode:70 meanR:25.4085 R:14.0000 rate:0.0280 aloss:0.6894 eloss:2.0416 aloss2:1.5673 exploreP:0.8366\n",
      "Episode:71 meanR:25.3333 R:20.0000 rate:0.0400 aloss:0.6939 eloss:2.0458 aloss2:1.5714 exploreP:0.8349\n",
      "Episode:72 meanR:25.2466 R:19.0000 rate:0.0380 aloss:0.6999 eloss:2.0048 aloss2:1.5923 exploreP:0.8334\n",
      "Episode:73 meanR:25.2838 R:28.0000 rate:0.0560 aloss:0.6771 eloss:1.9778 aloss2:1.6015 exploreP:0.8311\n",
      "Episode:74 meanR:25.1467 R:15.0000 rate:0.0300 aloss:0.6897 eloss:1.9668 aloss2:1.6116 exploreP:0.8298\n",
      "Episode:75 meanR:24.9868 R:13.0000 rate:0.0260 aloss:0.6985 eloss:1.9590 aloss2:1.6169 exploreP:0.8288\n",
      "Episode:76 meanR:25.3377 R:52.0000 rate:0.1040 aloss:0.6925 eloss:1.9319 aloss2:1.6316 exploreP:0.8245\n",
      "Episode:77 meanR:25.5641 R:43.0000 rate:0.0860 aloss:0.6803 eloss:1.8810 aloss2:1.6513 exploreP:0.8210\n",
      "Episode:78 meanR:25.4937 R:20.0000 rate:0.0400 aloss:0.6867 eloss:1.8777 aloss2:1.6597 exploreP:0.8194\n",
      "Episode:79 meanR:25.3750 R:16.0000 rate:0.0320 aloss:0.6780 eloss:1.8802 aloss2:1.6570 exploreP:0.8181\n"
     ]
    },
    {
     "name": "stdout",
     "output_type": "stream",
     "text": [
      "Episode:80 meanR:25.3086 R:20.0000 rate:0.0400 aloss:0.6767 eloss:1.8406 aloss2:1.6736 exploreP:0.8165\n",
      "Episode:81 meanR:25.3293 R:27.0000 rate:0.0540 aloss:0.6805 eloss:1.8401 aloss2:1.6741 exploreP:0.8143\n",
      "Episode:82 meanR:25.4819 R:38.0000 rate:0.0760 aloss:0.7074 eloss:1.8522 aloss2:1.6772 exploreP:0.8113\n",
      "Episode:83 meanR:26.0714 R:75.0000 rate:0.1500 aloss:0.6794 eloss:1.8168 aloss2:1.6899 exploreP:0.8053\n",
      "Episode:84 meanR:25.9647 R:17.0000 rate:0.0340 aloss:0.6883 eloss:1.8121 aloss2:1.6953 exploreP:0.8039\n",
      "Episode:85 meanR:25.8953 R:20.0000 rate:0.0400 aloss:0.6840 eloss:1.8333 aloss2:1.6844 exploreP:0.8024\n",
      "Episode:86 meanR:26.4253 R:72.0000 rate:0.1440 aloss:0.6812 eloss:1.8059 aloss2:1.6991 exploreP:0.7967\n",
      "Episode:87 meanR:26.3409 R:19.0000 rate:0.0380 aloss:0.6840 eloss:1.8317 aloss2:1.6929 exploreP:0.7952\n",
      "Episode:88 meanR:26.3708 R:29.0000 rate:0.0580 aloss:0.6819 eloss:1.8269 aloss2:1.6927 exploreP:0.7929\n"
     ]
    }
   ],
   "source": [
    "# Save/load the model and save for plotting\n",
    "saver = tf.train.Saver()\n",
    "episode_rewards_list, rewards_list = [], []\n",
    "aloss_list, eloss_list, aloss2_list = [], [], []\n",
    "\n",
    "# TF session for training\n",
    "with tf.Session(graph=graph) as sess:\n",
    "    sess.run(tf.global_variables_initializer())\n",
    "    #saver.restore(sess, 'checkpoints/model.ckpt')    \n",
    "    #saver.restore(sess, tf.train.latest_checkpoint('checkpoints'))\n",
    "    total_step = 0 # Explore or exploit parameter\n",
    "    episode_reward = deque(maxlen=100) # 100 episodes for running average/running mean/window\n",
    "\n",
    "    # Training episodes/epochs\n",
    "    for ep in range(11111):\n",
    "        aloss_batch, eloss_batch, aloss2_batch = [], [], []\n",
    "        total_reward = 0\n",
    "        state = env.reset()\n",
    "        num_step = 0\n",
    "        rate = -1\n",
    "\n",
    "        # Training steps/batches\n",
    "        while True:\n",
    "            # Explore (env) or Exploit (model)\n",
    "            total_step += 1\n",
    "            explore_p = explore_stop + (explore_start - explore_stop) * np.exp(-decay_rate * total_step) \n",
    "            if explore_p > np.random.rand():\n",
    "                action = env.action_space.sample()\n",
    "            else:\n",
    "                action_logits = sess.run(model.actions_logits, feed_dict={model.states: state.reshape([1, -1])})\n",
    "                action = np.argmax(action_logits)\n",
    "            next_state, reward, done, _ = env.step(action)\n",
    "            memory.buffer.append([state, action, next_state, reward, float(done), rate])\n",
    "            num_step += 1 # momory added\n",
    "            total_reward += reward\n",
    "            state = next_state\n",
    "            \n",
    "            # Training with the maxrated minibatch\n",
    "            batch = memory.buffer\n",
    "            #for idx in range(memory_size// batch_size):\n",
    "            while True:\n",
    "                idx = np.random.choice(np.arange(memory_size// batch_size))\n",
    "                states = np.array([each[0] for each in batch])[idx*batch_size:(idx+1)*batch_size]\n",
    "                actions = np.array([each[1] for each in batch])[idx*batch_size:(idx+1)*batch_size]\n",
    "                next_states = np.array([each[2] for each in batch])[idx*batch_size:(idx+1)*batch_size]\n",
    "                rewards = np.array([each[3] for each in batch])[idx*batch_size:(idx+1)*batch_size]\n",
    "                dones = np.array([each[4] for each in batch])[idx*batch_size:(idx+1)*batch_size]\n",
    "                rates = np.array([each[5] for each in batch])[idx*batch_size:(idx+1)*batch_size]\n",
    "                states = states[rates >= np.max(rates)]\n",
    "                actions = actions[rates >= np.max(rates)]\n",
    "                next_states = next_states[rates >= np.max(rates)]\n",
    "                rewards = rewards[rates >= np.max(rates)]\n",
    "                dones = dones[rates >= np.max(rates)]\n",
    "                rates = rates[rates >= np.max(rates)]\n",
    "                if np.count_nonzero(dones) > 0 and len(dones) > 1 and np.max(rates) > 0:\n",
    "                    break\n",
    "            aloss, _ = sess.run([model.a_loss, model.a_opt],\n",
    "                                  feed_dict = {model.states: states, \n",
    "                                               model.actions: actions,\n",
    "                                               model.next_states: next_states,\n",
    "                                               model.rewards: rewards,\n",
    "                                               model.dones: dones,\n",
    "                                               model.rates: rates})\n",
    "            eloss, _ = sess.run([model.e_loss, model.e_opt],\n",
    "                                  feed_dict = {model.states: states, \n",
    "                                               model.actions: actions,\n",
    "                                               model.next_states: next_states,\n",
    "                                               model.rewards: rewards,\n",
    "                                               model.dones: dones,\n",
    "                                               model.rates: rates})\n",
    "            aloss2, _= sess.run([model.a_loss2, model.a_opt2], \n",
    "                                 feed_dict = {model.states: states, \n",
    "                                              model.actions: actions,\n",
    "                                              model.next_states: next_states,\n",
    "                                              model.rewards: rewards,\n",
    "                                              model.dones: dones,\n",
    "                                              model.rates: rates})\n",
    "            # print(len(dones), np.count_nonzero(dones), np.max(rates))\n",
    "            aloss_batch.append(aloss)\n",
    "            eloss_batch.append(eloss)\n",
    "            aloss2_batch.append(aloss2)\n",
    "            if done is True:\n",
    "                break\n",
    "                \n",
    "        # Rating the latest played episode\n",
    "        rate = total_reward/500 # update rate at the end/ when episode is done\n",
    "        for idx in range(num_step): # episode length\n",
    "            if memory.buffer[-1-idx][-1] == -1: # double-check the landmark/marked indexes\n",
    "                memory.buffer[-1-idx][-1] = rate # rate the trajectory/data\n",
    "\n",
    "        # Print out\n",
    "        episode_reward.append(total_reward)\n",
    "        print('Episode:{}'.format(ep),\n",
    "              'meanR:{:.4f}'.format(np.mean(episode_reward)),\n",
    "              'R:{:.4f}'.format(total_reward),\n",
    "              'rate:{:.4f}'.format(rate),\n",
    "              'aloss:{:.4f}'.format(np.mean(aloss_batch)),\n",
    "              'eloss:{:.4f}'.format(np.mean(eloss_batch)),\n",
    "              'aloss2:{:.4f}'.format(np.mean(aloss2_batch)),\n",
    "              'exploreP:{:.4f}'.format(explore_p))\n",
    "\n",
    "        # Ploting out\n",
    "        episode_rewards_list.append([ep, np.mean(episode_reward)])\n",
    "        rewards_list.append([ep, total_reward])\n",
    "        aloss_list.append([ep, np.mean(aloss_batch)])\n",
    "        eloss_list.append([ep, np.mean(eloss_batch)])\n",
    "        aloss2_list.append([ep, np.mean(aloss2_batch)])\n",
    "        \n",
    "        # Break episode/epoch loop\n",
    "        ## Option 1: Solve the First Version\n",
    "        #The task is episodic, and in order to solve the environment, \n",
    "        #your agent must get an average score of +30 over 100 consecutive episodes.\n",
    "        if np.mean(episode_reward) >= 500:\n",
    "            break\n",
    "            \n",
    "    # At the end of all training episodes/epochs\n",
    "    saver.save(sess, 'checkpoints/model.ckpt')"
   ]
  },
  {
   "cell_type": "markdown",
   "metadata": {},
   "source": [
    "# Visualizing training\n",
    "\n",
    "Below I'll plot the total rewards for each episode. I'm plotting the rolling average too, in blue."
   ]
  },
  {
   "cell_type": "code",
   "execution_count": null,
   "metadata": {},
   "outputs": [],
   "source": [
    "import matplotlib.pyplot as plt\n",
    "%matplotlib inline\n",
    "\n",
    "def running_mean(x, N):\n",
    "    cumsum = np.cumsum(np.insert(x, 0, 0)) \n",
    "    return (cumsum[N:] - cumsum[:-N]) / N "
   ]
  },
  {
   "cell_type": "code",
   "execution_count": null,
   "metadata": {},
   "outputs": [],
   "source": [
    "eps, arr = np.array(episode_rewards_list).T\n",
    "smoothed_arr = running_mean(arr, 10)\n",
    "plt.plot(eps[-len(smoothed_arr):], smoothed_arr)\n",
    "plt.plot(eps, arr, color='grey', alpha=0.3)\n",
    "plt.xlabel('Episode')\n",
    "plt.ylabel('Total rewards')"
   ]
  },
  {
   "cell_type": "code",
   "execution_count": null,
   "metadata": {},
   "outputs": [],
   "source": [
    "eps, arr = np.array(rewards_list).T\n",
    "smoothed_arr = running_mean(arr, 10)\n",
    "plt.plot(eps[-len(smoothed_arr):], smoothed_arr)\n",
    "plt.plot(eps, arr, color='grey', alpha=0.3)\n",
    "plt.xlabel('Episode')\n",
    "plt.ylabel('Total rewards')"
   ]
  },
  {
   "cell_type": "code",
   "execution_count": null,
   "metadata": {},
   "outputs": [],
   "source": [
    "eps, arr = np.array(aloss_list).T\n",
    "smoothed_arr = running_mean(arr, 10)\n",
    "plt.plot(eps[-len(smoothed_arr):], smoothed_arr)\n",
    "plt.plot(eps, arr, color='grey', alpha=0.3)\n",
    "plt.xlabel('Episode')\n",
    "plt.ylabel('Act losses')"
   ]
  },
  {
   "cell_type": "code",
   "execution_count": null,
   "metadata": {},
   "outputs": [],
   "source": [
    "eps, arr = np.array(eloss_list).T\n",
    "smoothed_arr = running_mean(arr, 10)\n",
    "plt.plot(eps[-len(smoothed_arr):], smoothed_arr)\n",
    "plt.plot(eps, arr, color='grey', alpha=0.3)\n",
    "plt.xlabel('Episode')\n",
    "plt.ylabel('Env losses')"
   ]
  },
  {
   "cell_type": "code",
   "execution_count": null,
   "metadata": {},
   "outputs": [],
   "source": [
    "eps, arr = np.array(aloss2_list).T\n",
    "smoothed_arr = running_mean(arr, 10)\n",
    "plt.plot(eps[-len(smoothed_arr):], smoothed_arr)\n",
    "plt.plot(eps, arr, color='grey', alpha=0.3)\n",
    "plt.xlabel('Episode')\n",
    "plt.ylabel('Act losses 2')"
   ]
  },
  {
   "cell_type": "markdown",
   "metadata": {},
   "source": [
    "## Testing\n",
    "\n",
    "Let's checkout how our trained agent plays the game."
   ]
  },
  {
   "cell_type": "code",
   "execution_count": 24,
   "metadata": {},
   "outputs": [
    {
     "name": "stdout",
     "output_type": "stream",
     "text": [
      "INFO:tensorflow:Restoring parameters from checkpoints/model.ckpt\n",
      "total_reward: 500.0\n",
      "total_reward: 500.0\n",
      "total_reward: 500.0\n",
      "total_reward: 500.0\n",
      "total_reward: 500.0\n",
      "total_reward: 500.0\n",
      "total_reward: 500.0\n",
      "total_reward: 500.0\n",
      "total_reward: 500.0\n",
      "total_reward: 500.0\n"
     ]
    }
   ],
   "source": [
    "import gym\n",
    "env = gym.make('CartPole-v0')\n",
    "env = gym.make('CartPole-v1')\n",
    "\n",
    "with tf.Session() as sess:\n",
    "    sess.run(tf.global_variables_initializer())\n",
    "    saver.restore(sess, 'checkpoints/model.ckpt')    \n",
    "    #saver.restore(sess, tf.train.latest_checkpoint('checkpoints'))\n",
    "    \n",
    "    # Episodes/epochs\n",
    "    for _ in range(10):\n",
    "        state = env.reset()\n",
    "        total_reward = 0\n",
    "\n",
    "        # Steps/batches\n",
    "        while True:\n",
    "            env.render()\n",
    "            action_logits = sess.run(model.actions_logits, feed_dict={model.states: state.reshape([1, -1])})\n",
    "            action = np.argmax(action_logits)\n",
    "            state, reward, done, _ = env.step(action)\n",
    "            total_reward += reward\n",
    "            if done:\n",
    "                print('total_reward: {}'.format(total_reward))\n",
    "                break\n",
    "                \n",
    "env.close()"
   ]
  },
  {
   "cell_type": "code",
   "execution_count": null,
   "metadata": {},
   "outputs": [],
   "source": []
  }
 ],
 "metadata": {
  "kernelspec": {
   "display_name": "Python 3",
   "language": "python",
   "name": "python3"
  },
  "language_info": {
   "codemirror_mode": {
    "name": "ipython",
    "version": 3
   },
   "file_extension": ".py",
   "mimetype": "text/x-python",
   "name": "python",
   "nbconvert_exporter": "python",
   "pygments_lexer": "ipython3",
   "version": "3.6.6"
  }
 },
 "nbformat": 4,
 "nbformat_minor": 2
}
