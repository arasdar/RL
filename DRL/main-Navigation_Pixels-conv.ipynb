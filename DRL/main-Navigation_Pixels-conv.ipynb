{
 "cells": [
  {
   "cell_type": "markdown",
   "metadata": {},
   "source": [
    "# Navigation\n",
    "\n",
    "---\n",
    "\n",
    "Congratulations for completing the first project of the [Deep Reinforcement Learning Nanodegree](https://www.udacity.com/course/deep-reinforcement-learning-nanodegree--nd893)!  In this notebook, you will learn how to control an agent in a more challenging environment, where it can learn directly from raw pixels!  **Note that this exercise is optional!**\n",
    "\n",
    "### 1. Start the Environment\n",
    "\n",
    "We begin by importing some necessary packages.  If the code cell below returns an error, please revisit the project instructions to double-check that you have installed [Unity ML-Agents](https://github.com/Unity-Technologies/ml-agents/blob/master/docs/Installation.md) and [NumPy](http://www.numpy.org/)."
   ]
  },
  {
   "cell_type": "code",
   "execution_count": 2,
   "metadata": {},
   "outputs": [
    {
     "name": "stderr",
     "output_type": "stream",
     "text": [
      "INFO:matplotlib.font_manager:font search path ['/home/aras/anaconda3/lib/python3.6/site-packages/matplotlib/mpl-data/fonts/ttf', '/home/aras/anaconda3/lib/python3.6/site-packages/matplotlib/mpl-data/fonts/afm', '/home/aras/anaconda3/lib/python3.6/site-packages/matplotlib/mpl-data/fonts/pdfcorefonts']\n",
      "/home/aras/anaconda3/lib/python3.6/site-packages/matplotlib/font_manager.py:278: UserWarning: Matplotlib is building the font cache using fc-list. This may take a moment.\n",
      "  'Matplotlib is building the font cache using fc-list. '\n",
      "INFO:matplotlib.font_manager:generated new fontManager\n"
     ]
    }
   ],
   "source": [
    "from unityagents import UnityEnvironment\n",
    "import numpy as np\n",
    "import matplotlib.pyplot as plt\n",
    "%matplotlib inline"
   ]
  },
  {
   "cell_type": "markdown",
   "metadata": {},
   "source": [
    "Next, we will start the environment!  **_Before running the code cell below_**, change the `file_name` parameter to match the location of the Unity environment that you downloaded.\n",
    "\n",
    "- **Mac**: `\"path/to/VisualBanana.app\"`\n",
    "- **Windows** (x86): `\"path/to/VisualBanana_Windows_x86/Banana.exe\"`\n",
    "- **Windows** (x86_64): `\"path/to/VisualBanana_Windows_x86_64/Banana.exe\"`\n",
    "- **Linux** (x86): `\"path/to/VisualBanana_Linux/Banana.x86\"`\n",
    "- **Linux** (x86_64): `\"path/to/VisualBanana_Linux/Banana.x86_64\"`\n",
    "- **Linux** (x86, headless): `\"path/to/VisualBanana_Linux_NoVis/Banana.x86\"`\n",
    "- **Linux** (x86_64, headless): `\"path/to/VisualBanana_Linux_NoVis/Banana.x86_64\"`\n",
    "\n",
    "For instance, if you are using a Mac, then you downloaded `VisualBanana.app`.  If this file is in the same folder as the notebook, then the line below should appear as follows:\n",
    "```\n",
    "env = UnityEnvironment(file_name=\"VisualBanana.app\")\n",
    "```"
   ]
  },
  {
   "cell_type": "code",
   "execution_count": 3,
   "metadata": {},
   "outputs": [
    {
     "name": "stderr",
     "output_type": "stream",
     "text": [
      "INFO:unityagents:\n",
      "'Academy' started successfully!\n",
      "Unity Academy name: Academy\n",
      "        Number of Brains: 1\n",
      "        Number of External Brains : 1\n",
      "        Lesson number : 0\n",
      "        Reset Parameters :\n",
      "\t\t\n",
      "Unity brain name: BananaBrain\n",
      "        Number of Visual Observations (per agent): 1\n",
      "        Vector Observation space type: continuous\n",
      "        Vector Observation space size (per agent): 0\n",
      "        Number of stacked Vector Observation: 1\n",
      "        Vector Action space type: discrete\n",
      "        Vector Action space size (per agent): 4\n",
      "        Vector Action descriptions: , , , \n"
     ]
    }
   ],
   "source": [
    "env = UnityEnvironment(file_name='/home/aras/unity-envs/VisualBanana_Linux/Banana.x86_64')\n",
    "# env = UnityEnvironment(file_name='/home/arasdar/unity-envs/Banana_Linux_NoVis/Banana.x86_64')"
   ]
  },
  {
   "cell_type": "markdown",
   "metadata": {},
   "source": [
    "Environments contain **_brains_** which are responsible for deciding the actions of their associated agents. Here we check for the first brain available, and set it as the default brain we will be controlling from Python."
   ]
  },
  {
   "cell_type": "code",
   "execution_count": 4,
   "metadata": {},
   "outputs": [],
   "source": [
    "# get the default brain\n",
    "brain_name = env.brain_names[0]\n",
    "brain = env.brains[brain_name]"
   ]
  },
  {
   "cell_type": "markdown",
   "metadata": {},
   "source": [
    "### 2. Examine the State and Action Spaces\n",
    "\n",
    "The simulation contains a single agent that navigates a large environment.  At each time step, it has four actions at its disposal:\n",
    "- `0` - walk forward \n",
    "- `1` - walk backward\n",
    "- `2` - turn left\n",
    "- `3` - turn right\n",
    "\n",
    "The environment state is an array of raw pixels with shape `(1, 84, 84, 3)`.  *Note that this code differs from the notebook for the project, where we are grabbing **`visual_observations`** (the raw pixels) instead of **`vector_observations`**.* A reward of `+1` is provided for collecting a yellow banana, and a reward of `-1` is provided for collecting a blue banana. \n",
    "\n",
    "Run the code cell below to print some information about the environment."
   ]
  },
  {
   "cell_type": "code",
   "execution_count": 5,
   "metadata": {},
   "outputs": [
    {
     "name": "stdout",
     "output_type": "stream",
     "text": [
      "Number of agents: 1\n",
      "Number of actions: 4\n",
      "States look like:\n"
     ]
    },
    {
     "data": {
      "image/png": "[encoded data removed]",
      "text/plain": [
       "<Figure size 432x288 with 1 Axes>"
      ]
     },
     "metadata": {},
     "output_type": "display_data"
    },
    {
     "name": "stdout",
     "output_type": "stream",
     "text": [
      "States have shape: (1, 84, 84, 3)\n"
     ]
    }
   ],
   "source": [
    "# reset the environment\n",
    "env_info = env.reset(train_mode=True)[brain_name]\n",
    "\n",
    "# number of agents in the environment\n",
    "print('Number of agents:', len(env_info.agents))\n",
    "\n",
    "# number of actions\n",
    "action_size = brain.vector_action_space_size\n",
    "print('Number of actions:', action_size)\n",
    "\n",
    "# examine the state space \n",
    "state = env_info.visual_observations[0]\n",
    "print('States look like:')\n",
    "plt.imshow(np.squeeze(state))\n",
    "plt.show()\n",
    "state_size = state.shape\n",
    "print('States have shape:', state.shape)"
   ]
  },
  {
   "cell_type": "markdown",
   "metadata": {},
   "source": [
    "### 3. Take Random Actions in the Environment\n",
    "\n",
    "In the next code cell, you will learn how to use the Python API to control the agent and receive feedback from the environment.\n",
    "\n",
    "Once this cell is executed, you will watch the agent's performance, if it selects an action (uniformly) at random with each time step.  A window should pop up that allows you to observe the agent, as it moves through the environment.  \n",
    "\n",
    "Of course, you'll have to change the code so that the agent is able to use its experience to gradually choose better actions when interacting with the environment!"
   ]
  },
  {
   "cell_type": "code",
   "execution_count": 6,
   "metadata": {},
   "outputs": [
    {
     "name": "stdout",
     "output_type": "stream",
     "text": [
      "Score: 1.0\n"
     ]
    },
    {
     "data": {
      "text/plain": [
       "300"
      ]
     },
     "execution_count": 6,
     "metadata": {},
     "output_type": "execute_result"
    }
   ],
   "source": [
    "env_info = env.reset(train_mode=False)[brain_name] # reset the environment\n",
    "state = env_info.visual_observations[0]            # get the current state\n",
    "score = 0                                          # initialize the score\n",
    "num_steps = 0\n",
    "batch = []\n",
    "while True:\n",
    "    num_steps += 1\n",
    "    action = np.random.randint(action_size)        # select an action\n",
    "    env_info = env.step(action)[brain_name]        # send the action to the environment\n",
    "    next_state = env_info.visual_observations[0]   # get the next state\n",
    "    reward = env_info.rewards[0]                   # get the reward\n",
    "    done = env_info.local_done[0]                  # see if episode has finished\n",
    "    batch.append([state, action, next_state, reward, float(done)])\n",
    "    score += reward                                # update the score\n",
    "    state = next_state                             # roll over the state to next time step\n",
    "    if done:                                       # exit loop if episode finished\n",
    "        break\n",
    "    \n",
    "print(\"Score: {}\".format(score))\n",
    "num_steps"
   ]
  },
  {
   "cell_type": "code",
   "execution_count": 7,
   "metadata": {},
   "outputs": [],
   "source": [
    "states = np.array([each[0] for each in batch])\n",
    "actions = np.array([each[1] for each in batch])\n",
    "next_states = np.array([each[2] for each in batch])\n",
    "rewards = np.array([each[3] for each in batch])\n",
    "dones = np.array([each[4] for each in batch])"
   ]
  },
  {
   "cell_type": "code",
   "execution_count": 8,
   "metadata": {},
   "outputs": [
    {
     "data": {
      "text/plain": [
       "((300, 1, 84, 84, 3), (300,), (300, 1, 84, 84, 3), (300,), (300,))"
      ]
     },
     "execution_count": 8,
     "metadata": {},
     "output_type": "execute_result"
    }
   ],
   "source": [
    "states.shape, actions.shape, next_states.shape, rewards.shape, dones.shape"
   ]
  },
  {
   "cell_type": "code",
   "execution_count": 9,
   "metadata": {},
   "outputs": [
    {
     "data": {
      "text/plain": [
       "(dtype('float64'), dtype('int64'), dtype('float64'), dtype('float64'))"
      ]
     },
     "execution_count": 9,
     "metadata": {},
     "output_type": "execute_result"
    }
   ],
   "source": [
    "states.dtype, actions.dtype, rewards.dtype, dones.dtype"
   ]
  },
  {
   "cell_type": "code",
   "execution_count": 10,
   "metadata": {},
   "outputs": [],
   "source": [
    "# rewards"
   ]
  },
  {
   "cell_type": "markdown",
   "metadata": {},
   "source": [
    "When finished, you can close the environment."
   ]
  },
  {
   "cell_type": "code",
   "execution_count": 11,
   "metadata": {},
   "outputs": [],
   "source": [
    "# env.close()"
   ]
  },
  {
   "cell_type": "markdown",
   "metadata": {},
   "source": [
    "### 4. It's Your Turn!\n",
    "\n",
    "Now it's your turn to train your own agent to solve the environment!  When training the environment, set `train_mode=True`, so that the line for resetting the environment looks like the following:\n",
    "```python\n",
    "env_info = env.reset(train_mode=True)[brain_name]\n",
    "```"
   ]
  },
  {
   "cell_type": "code",
   "execution_count": 12,
   "metadata": {},
   "outputs": [],
   "source": [
    "# batch[0]"
   ]
  },
  {
   "cell_type": "code",
   "execution_count": 13,
   "metadata": {},
   "outputs": [
    {
     "name": "stdout",
     "output_type": "stream",
     "text": [
      "Score: 1.0\n"
     ]
    },
    {
     "data": {
      "text/plain": [
       "300"
      ]
     },
     "execution_count": 13,
     "metadata": {},
     "output_type": "execute_result"
    }
   ],
   "source": [
    "env_info = env.reset(train_mode=True)[brain_name] # reset the environment\n",
    "#state = env_info.vector_observations[0]            # get the current state/ vector\n",
    "state = env_info.visual_observations[0]            # get the current state/ visual\n",
    "score = 0                                          # initialize the score\n",
    "num_steps = 0\n",
    "while True:\n",
    "    num_steps += 1\n",
    "    action = np.random.randint(action_size)        # select an action\n",
    "    env_info = env.step(action)[brain_name]        # send the action to the environment\n",
    "    #next_state = env_info.vector_observations[0]   # get the next state\n",
    "    next_state = state = env_info.visual_observations[0]            # get the current state\n",
    "    reward = env_info.rewards[0]                   # get the reward\n",
    "    done = env_info.local_done[0]                  # see if episode has finished\n",
    "    score += reward                                # update the score\n",
    "    state = next_state                             # roll over the state to next time step\n",
    "    #print(state.shape)\n",
    "    if done:                                       # exit loop if episode finished\n",
    "        break\n",
    "    \n",
    "print(\"Score: {}\".format(score))\n",
    "num_steps"
   ]
  },
  {
   "cell_type": "code",
   "execution_count": 14,
   "metadata": {},
   "outputs": [
    {
     "name": "stderr",
     "output_type": "stream",
     "text": [
      "/home/aras/anaconda3/lib/python3.6/site-packages/h5py/__init__.py:36: FutureWarning: Conversion of the second argument of issubdtype from `float` to `np.floating` is deprecated. In future, it will be treated as `np.float64 == np.dtype(float).type`.\n",
      "  from ._conv import register_converters as _register_converters\n"
     ]
    },
    {
     "name": "stdout",
     "output_type": "stream",
     "text": [
      "TensorFlow Version: 1.7.1\n",
      "Default GPU Device: \n"
     ]
    }
   ],
   "source": [
    "# In this one we should define and detect GPUs for tensorflow\n",
    "# GPUs or CPU\n",
    "import tensorflow as tf\n",
    "\n",
    "# Check TensorFlow Version\n",
    "print('TensorFlow Version: {}'.format(tf.__version__))\n",
    "\n",
    "# Check for a GPU\n",
    "print('Default GPU Device: {}'.format(tf.test.gpu_device_name()))"
   ]
  },
  {
   "cell_type": "code",
   "execution_count": 15,
   "metadata": {},
   "outputs": [
    {
     "data": {
      "text/plain": [
       "300"
      ]
     },
     "execution_count": 15,
     "metadata": {},
     "output_type": "execute_result"
    }
   ],
   "source": [
    "env_info = env.reset(train_mode=True)[brain_name] # reset the environment\n",
    "#state = env_info.vector_observations[0]            # get the current state\n",
    "state = env_info.visual_observations[0]            # get the current state\n",
    "score = 0                                          # initialize the score\n",
    "batch = []\n",
    "num_steps = 0\n",
    "while True: # infinite number of steps\n",
    "    num_steps += 1\n",
    "    action = np.random.randint(action_size)        # select an action\n",
    "    env_info = env.step(action)[brain_name]        # send the action to the environment\n",
    "    #next_state = env_info.vector_observations[0]   # get the next state\n",
    "    next_state = env_info.visual_observations[0]            # get the current state\n",
    "    reward = env_info.rewards[0]                   # get the reward\n",
    "    done = env_info.local_done[0]                  # see if episode has finished\n",
    "    score += reward                                # update the score\n",
    "    state = next_state                             # roll over the state to next time step\n",
    "    #print(state, action, reward, done)\n",
    "    batch.append([state, action, next_state, reward, float(done)])\n",
    "    if done:                                       # exit loop if episode finished\n",
    "        break\n",
    "    \n",
    "# print(\"Score: {}\".format(score))\n",
    "num_steps"
   ]
  },
  {
   "cell_type": "code",
   "execution_count": 16,
   "metadata": {},
   "outputs": [],
   "source": [
    "states = np.array([each[0] for each in batch])\n",
    "actions = np.array([each[1] for each in batch])\n",
    "next_states = np.array([each[2] for each in batch])\n",
    "rewards = np.array([each[3] for each in batch])\n",
    "dones = np.array([each[4] for each in batch])\n",
    "# infos = np.array([each[4] for each in batch])"
   ]
  },
  {
   "cell_type": "code",
   "execution_count": 17,
   "metadata": {},
   "outputs": [
    {
     "name": "stdout",
     "output_type": "stream",
     "text": [
      "[0. 0. 0. 0. 0. 0. 0. 0. 0. 0. 0. 0. 0. 0. 0. 0. 0. 0. 0. 0. 0. 0. 0. 0.\n",
      " 0. 0. 0. 0. 0. 0. 0. 0. 0. 0. 0. 0. 0. 0. 0. 0. 0. 0. 0. 0. 0. 0. 0. 0.\n",
      " 0. 0. 0. 0. 0. 0. 0. 0. 0. 0. 0. 0. 0. 0. 0. 0. 0. 0. 0. 0. 0. 0. 0. 0.\n",
      " 0. 0. 0. 0. 0. 1. 0. 0. 0. 0. 0. 0. 0. 0. 0. 0. 0. 0. 0. 0. 0. 0. 0. 0.\n",
      " 0. 0. 0. 0. 0. 0. 0. 0. 0. 0. 0. 0. 0. 0. 0. 0. 0. 0. 0. 0. 0. 0. 0. 0.\n",
      " 0. 0. 0. 0. 0. 0. 0. 0. 0. 0. 0. 0. 0. 0. 0. 0. 0. 0. 0. 0. 0. 0. 0. 0.\n",
      " 0. 0. 0. 0. 0. 0. 0. 0. 0. 0. 0. 0. 0. 0. 0. 0. 0. 0. 0. 0. 0. 0. 0. 0.\n",
      " 0. 0. 0. 0. 0. 0. 0. 0. 0. 0. 0. 0. 0. 0. 0. 0. 0. 0. 0. 0. 0. 0. 0. 0.\n",
      " 0. 0. 0. 0. 0. 0. 0. 0. 0. 0. 0. 0. 0. 0. 0. 0. 0. 0. 0. 0. 0. 0. 0. 0.\n",
      " 0. 0. 0. 0. 0. 0. 0. 0. 0. 0. 0. 0. 0. 0. 0. 0. 0. 0. 0. 0. 0. 0. 0. 0.\n",
      " 0. 0. 0. 0. 0. 0. 0. 0. 0. 0. 0. 0. 0. 0. 0. 0. 0. 0. 0. 0. 0. 0. 0. 0.\n",
      " 0. 0. 0. 0. 0. 0. 0. 0. 0. 0. 0. 0. 0. 0. 0. 0. 0. 0. 0. 0. 0. 0. 0. 0.\n",
      " 0. 0. 0. 0. 0. 0. 0. 0. 0. 0. 0. 0.]\n",
      "(300,) (300, 1, 84, 84, 3) (300,) (300,)\n",
      "float64 float64 int64 float64\n",
      "3 0\n",
      "4\n",
      "1.0 0.0\n",
      "1.0 0.0\n"
     ]
    }
   ],
   "source": [
    "print(rewards[:])\n",
    "print(np.array(rewards).shape, np.array(states).shape, np.array(actions).shape, np.array(dones).shape)\n",
    "print(np.array(rewards).dtype, np.array(states).dtype, np.array(actions).dtype, np.array(dones).dtype)\n",
    "print(np.max(np.array(actions)), np.min(np.array(actions)))\n",
    "print((np.max(np.array(actions)) - np.min(np.array(actions)))+1)\n",
    "print(np.max(np.array(rewards)), np.min(np.array(rewards)))\n",
    "print(np.max(np.array(states)), np.min(np.array(states)))"
   ]
  },
  {
   "cell_type": "code",
   "execution_count": 18,
   "metadata": {},
   "outputs": [],
   "source": [
    "def model_input(state_size):\n",
    "    states = tf.placeholder(tf.float32, [None, *state_size], name='states')\n",
    "    actions = tf.placeholder(tf.int32, [None], name='actions')\n",
    "    targetQs = tf.placeholder(tf.float32, [None], name='targetQs')\n",
    "    return states, actions, targetQs"
   ]
  },
  {
   "cell_type": "code",
   "execution_count": 19,
   "metadata": {},
   "outputs": [],
   "source": [
    "# # Has to be convolutional!\n",
    "# # Generator: Generating/prediting the actions\n",
    "# def generator(states, action_size, hidden_size, reuse=False, alpha=0.1, training=False):\n",
    "#     with tf.variable_scope('generator', reuse=reuse):\n",
    "#         # First fully connected layer\n",
    "#         h1 = tf.layers.dense(inputs=states, units=hidden_size)\n",
    "#         bn1 = tf.layers.batch_normalization(h1, training=training)        \n",
    "#         nl1 = tf.maximum(alpha * bn1, bn1)\n",
    "        \n",
    "#         # Second fully connected layer\n",
    "#         h2 = tf.layers.dense(inputs=nl1, units=hidden_size)\n",
    "#         bn2 = tf.layers.batch_normalization(h2, training=training)        \n",
    "#         nl2 = tf.maximum(alpha * bn2, bn2)\n",
    "        \n",
    "#         # Output layer\n",
    "#         logits = tf.layers.dense(inputs=nl2, units=action_size)        \n",
    "#         #predictions = tf.nn.softmax(logits)\n",
    "\n",
    "#         # return actions logits\n",
    "#         return logits"
   ]
  },
  {
   "cell_type": "code",
   "execution_count": 20,
   "metadata": {},
   "outputs": [],
   "source": [
    "# tf.layers.conv2d(\n",
    "#     inputs, ----------\n",
    "#     filters, -------------\n",
    "#     kernel_size, ------------\n",
    "#     strides=(1, 1), ---------------\n",
    "#     padding='valid', ------------\n",
    "#     data_format='channels_last', -------------> NHWC and not NCHW\n",
    "#     dilation_rate=(1, 1), -------------------\n",
    "#     activation=None,\n",
    "#     use_bias=True, ------------------\n",
    "#     kernel_initializer=None,\n",
    "#     bias_initializer=tf.zeros_initializer(), ------------------\n",
    "#     kernel_regularizer=None,\n",
    "#     bias_regularizer=None,\n",
    "#     activity_regularizer=None,\n",
    "#     kernel_constraint=None,\n",
    "#     bias_constraint=None,\n",
    "#     trainable=True, ---------------------\n",
    "#     name=None,\n",
    "#     reuse=None\n",
    "# )"
   ]
  },
  {
   "cell_type": "code",
   "execution_count": 21,
   "metadata": {},
   "outputs": [],
   "source": [
    "def generator(states, action_size, reuse=False, alpha=0.1, training=True):\n",
    "    with tf.variable_scope('generator', reuse=reuse):\n",
    "        # (300, 1, 84, 84, 3)\n",
    "        #inputs_conv = tf.reshape(states, [-1, 84, 84, 3])\n",
    "        print(states.shape)\n",
    "        \n",
    "        # Input layer is 32x32x3--> (84, 84, 3)\n",
    "        h1 = tf.layers.conv2d(inputs=states, filters=8, kernel_size=5, strides=2, padding='same')\n",
    "        bn1 = tf.layers.batch_normalization(h1, training=training)\n",
    "        nl1 = tf.maximum(alpha * bn1, bn1)\n",
    "        print(nl1.shape)\n",
    "        # 16x16x64--> (42, 42, 8)\n",
    "        h2 = tf.layers.conv2d(inputs=nl1, filters=8*2, kernel_size=5, strides=2, padding='same')\n",
    "        bn2 = tf.layers.batch_normalization(h2, training=training)\n",
    "        nl2 = tf.maximum(alpha * bn2, bn2)\n",
    "        print(nl2.shape)\n",
    "        # 8x8x128--> (21, 21, 8*2)        \n",
    "        h3 = tf.layers.conv2d(inputs=nl2, filters=8*2*2, kernel_size=6, strides=1, padding='valid')\n",
    "        bn3 = tf.layers.batch_normalization(h3, training=training)\n",
    "        nl3 = tf.maximum(alpha * bn3, bn3)\n",
    "        print(nl3.shape)\n",
    "        # 4x4x256--> (16, 16, 8*2*2)\n",
    "        h4 = tf.layers.conv2d(inputs=nl3, filters=8*2*2*2, kernel_size=5, strides=2, padding='same')\n",
    "        bn4 = tf.layers.batch_normalization(h4, training=training)\n",
    "        nl4 = tf.maximum(alpha * bn4, bn4)\n",
    "        print(nl4.shape)\n",
    "        # 4x4x256--> (8, 8, 8*2*2*2)\n",
    "        \n",
    "        ############# Extra\n",
    "        h4 = tf.layers.conv2d(inputs=nl4, filters=8*2*2*2*2, kernel_size=5, strides=2, padding='same')\n",
    "        bn4 = tf.layers.batch_normalization(h4, training=training)\n",
    "        nl4 = tf.maximum(alpha * bn4, bn4)\n",
    "        print(nl4.shape)\n",
    "        # 4x4x256--> (4, 4, 64*2)\n",
    "        h4 = tf.layers.conv2d(inputs=nl4, filters=8*2*2*2*2*2, kernel_size=5, strides=2, padding='same')\n",
    "        bn4 = tf.layers.batch_normalization(h4, training=training)\n",
    "        nl4 = tf.maximum(alpha * bn4, bn4)\n",
    "        print(nl4.shape)\n",
    "        # 4x4x256--> (2, 2, 64*2*2)\n",
    "        h4 = tf.layers.conv2d(inputs=nl4, filters=8*2*2*2*2*2*2, kernel_size=5, strides=2, padding='same')\n",
    "        bn4 = tf.layers.batch_normalization(h4, training=training)\n",
    "        nl4 = tf.maximum(alpha * bn4, bn4)\n",
    "        print(nl4.shape)\n",
    "        # 4x4x256--> (1, 1, 64*2*2*2)\n",
    "\n",
    "        # Fully-connected with the flat tensor: (1, 1, 64*2*2*2) -> 1*1*64*2*2*2\n",
    "        inputs_fc = tf.reshape(tensor=nl4, shape=[-1, 8*2*2*2*2*2*2])\n",
    "        print(inputs_fc.shape)\n",
    "        # First fully connected layer\n",
    "        h1 = tf.layers.dense(inputs=inputs_fc, units=8*2*2*2*2*2*2*2)\n",
    "        bn1 = tf.layers.batch_normalization(h1, training=training)        \n",
    "        nl1 = tf.maximum(alpha * bn1, bn1)\n",
    "        print(nl1.shape)\n",
    "        # Second fully connected layer\n",
    "        h2 = tf.layers.dense(inputs=nl1, units=8*2*2*2*2*2*2*2)\n",
    "        bn2 = tf.layers.batch_normalization(h2, training=training)        \n",
    "        nl2 = tf.maximum(alpha * bn2, bn2)\n",
    "        print(nl2.shape)\n",
    "        \n",
    "        # Output layer\n",
    "        logits = tf.layers.dense(inputs=nl2, units=action_size)        \n",
    "        #predictions = tf.nn.softmax(logits)\n",
    "        print(logits.shape)\n",
    "        return logits"
   ]
  },
  {
   "cell_type": "code",
   "execution_count": 22,
   "metadata": {},
   "outputs": [],
   "source": [
    "def model_loss(actions, states, targetQs, action_size): \n",
    "    actions_logits = generator(states=states, action_size=action_size)\n",
    "    actions_labels = tf.one_hot(indices=actions, depth=action_size, dtype=actions_logits.dtype)\n",
    "    Qs = tf.reduce_max(actions_logits*actions_labels, axis=1)\n",
    "    loss = tf.reduce_mean(tf.square(Qs - targetQs))\n",
    "    return actions_logits, loss"
   ]
  },
  {
   "cell_type": "code",
   "execution_count": 23,
   "metadata": {},
   "outputs": [],
   "source": [
    "def model_opt(loss, learning_rate):\n",
    "    # Get weights and bias to update\n",
    "    t_vars = tf.trainable_variables()\n",
    "    g_vars = [var for var in t_vars if var.name.startswith('generator')]\n",
    "\n",
    "    # Optimize\n",
    "    with tf.control_dependencies(tf.get_collection(tf.GraphKeys.UPDATE_OPS)): # Required for batchnorm (BN)\n",
    "        opt = tf.train.AdamOptimizer(learning_rate).minimize(loss, var_list=g_vars)\n",
    "\n",
    "    return opt"
   ]
  },
  {
   "cell_type": "code",
   "execution_count": 24,
   "metadata": {},
   "outputs": [],
   "source": [
    "class Model:\n",
    "    def __init__(self, state_size, action_size, learning_rate):\n",
    "\n",
    "        # Data of the Model: make the data available inside the framework\n",
    "        self.states, self.actions, self.targetQs = model_input(state_size=state_size)\n",
    "\n",
    "        # Create the Model: calculating the loss and forwad pass\n",
    "        self.actions_logits, self.loss = model_loss(\n",
    "            action_size=action_size, states=self.states, actions=self.actions, targetQs=self.targetQs)\n",
    "\n",
    "        # Update the model: backward pass and backprop\n",
    "        self.opt = model_opt(loss=self.loss, learning_rate=learning_rate)"
   ]
  },
  {
   "cell_type": "code",
   "execution_count": 25,
   "metadata": {},
   "outputs": [],
   "source": [
    "from collections import deque\n",
    "class Memory():\n",
    "    def __init__(self, max_size = 1000):\n",
    "        self.buffer = deque(maxlen=max_size)\n",
    "    def sample(self, batch_size):\n",
    "        idx = np.random.choice(np.arange(len(self.buffer)), \n",
    "                               size=batch_size, \n",
    "                               replace=False)\n",
    "        return [self.buffer[ii] for ii in idx]"
   ]
  },
  {
   "cell_type": "code",
   "execution_count": 26,
   "metadata": {},
   "outputs": [
    {
     "name": "stdout",
     "output_type": "stream",
     "text": [
      "state size:(300, 1, 84, 84, 3) actions:(300,)\n",
      "4\n"
     ]
    }
   ],
   "source": [
    "print('state size:{}'.format(states.shape), \n",
    "      'actions:{}'.format(actions.shape)) \n",
    "print(np.max(actions) - np.min(actions)+1)"
   ]
  },
  {
   "cell_type": "code",
   "execution_count": 27,
   "metadata": {},
   "outputs": [],
   "source": [
    "# Network parameters\n",
    "action_size = 4\n",
    "# state_size = 37 # state size - vector\n",
    "state_size = (84, 84, 3) # state shape - image\n",
    "# hidden_size = 37*4             # number of units in each Q-network hidden layer\n",
    "learning_rate = 0.0001         # Q-network learning rate\n",
    "\n",
    "# Memory parameters\n",
    "memory_size = 30000            # memory capacity\n",
    "batch_size = 30                # experience mini-batch size\n",
    "gamma = 0.99                   # future reward discount"
   ]
  },
  {
   "cell_type": "code",
   "execution_count": 28,
   "metadata": {},
   "outputs": [
    {
     "data": {
      "text/plain": [
       "(84, 84, 3)"
      ]
     },
     "execution_count": 28,
     "metadata": {},
     "output_type": "execute_result"
    }
   ],
   "source": [
    "state_size"
   ]
  },
  {
   "cell_type": "code",
   "execution_count": 29,
   "metadata": {},
   "outputs": [
    {
     "name": "stdout",
     "output_type": "stream",
     "text": [
      "(?, 84, 84, 3)\n",
      "(?, 42, 42, 8)\n",
      "(?, 21, 21, 16)\n",
      "(?, 16, 16, 32)\n",
      "(?, 8, 8, 64)\n",
      "(?, 4, 4, 128)\n",
      "(?, 2, 2, 256)\n",
      "(?, 1, 1, 512)\n",
      "(?, 512)\n",
      "(?, 1024)\n",
      "(?, 1024)\n",
      "(?, 4)\n"
     ]
    }
   ],
   "source": [
    "# Reset/init the graph/session\n",
    "graph = tf.reset_default_graph()\n",
    "\n",
    "# Init the model\n",
    "model = Model(action_size=action_size, state_size=state_size, learning_rate=learning_rate)\n",
    "\n",
    "# Init the memory\n",
    "memory = Memory(max_size=memory_size)"
   ]
  },
  {
   "cell_type": "code",
   "execution_count": 30,
   "metadata": {},
   "outputs": [],
   "source": [
    "env_info = env.reset(train_mode=True)[brain_name] # reset the environment\n",
    "# state = env_info.vector_observations[0]   # get the state\n",
    "state = env_info.visual_observations[0]   # get the state\n",
    "for _ in range(memory_size):\n",
    "    action = np.random.randint(action_size)        # select an action\n",
    "    env_info = env.step(action)[brain_name]        # send the action to the environment\n",
    "    #next_state = env_info.vector_observations[0]   # get the next state\n",
    "    next_state = env_info.visual_observations[0]   # get the state\n",
    "    reward = env_info.rewards[0]                   # get the reward\n",
    "    done = env_info.local_done[0]                  # see if episode has finished\n",
    "    memory.buffer.append([state.reshape(*state_size), action, \n",
    "                          next_state.reshape(*state_size), reward, float(done)])\n",
    "    state = next_state\n",
    "    if done:                                       # exit loop if episode finished\n",
    "        env_info = env.reset(train_mode=True)[brain_name] # reset the environment\n",
    "        #state = env_info.vector_observations[0]   # get the state\n",
    "        state = env_info.visual_observations[0]   # get the state\n",
    "        break"
   ]
  },
  {
   "cell_type": "code",
   "execution_count": 31,
   "metadata": {},
   "outputs": [
    {
     "data": {
      "text/plain": [
       "((84, 84, 3), array([ 1,  2, 84, 84,  3]), array([84, 84,  3]), 84)"
      ]
     },
     "execution_count": 31,
     "metadata": {},
     "output_type": "execute_result"
    }
   ],
   "source": [
    "state_size, np.array([1, 2, *state_size]), np.array([*state_size]), state_size[0]"
   ]
  },
  {
   "cell_type": "code",
   "execution_count": null,
   "metadata": {},
   "outputs": [
    {
     "name": "stdout",
     "output_type": "stream",
     "text": [
      "Episode:0 meanR:1.0000 R:1.0 loss:13.5125\n",
      "Episode:1 meanR:2.0000 R:3.0 loss:26.9136\n",
      "Episode:2 meanR:1.3333 R:0.0 loss:26.4715\n",
      "Episode:3 meanR:1.0000 R:0.0 loss:29.0590\n",
      "Episode:4 meanR:1.0000 R:1.0 loss:29.1794\n",
      "Episode:5 meanR:0.8333 R:0.0 loss:31.8617\n",
      "Episode:6 meanR:0.7143 R:0.0 loss:16.0758\n",
      "Episode:7 meanR:0.5000 R:-1.0 loss:15.8078\n",
      "Episode:8 meanR:0.4444 R:0.0 loss:11.4386\n",
      "Episode:9 meanR:0.4000 R:0.0 loss:3.8142\n",
      "Episode:10 meanR:0.3636 R:0.0 loss:0.6566\n",
      "Episode:11 meanR:0.2500 R:-1.0 loss:0.9970\n",
      "Episode:12 meanR:0.2308 R:0.0 loss:0.5923\n",
      "Episode:13 meanR:0.2143 R:0.0 loss:0.5118\n",
      "Episode:14 meanR:0.2000 R:0.0 loss:0.6598\n",
      "Episode:15 meanR:0.1875 R:0.0 loss:0.9278\n",
      "Episode:16 meanR:0.1765 R:0.0 loss:1.9529\n",
      "Episode:17 meanR:0.1667 R:0.0 loss:1.4728\n",
      "Episode:18 meanR:0.1579 R:0.0 loss:2.8024\n",
      "Episode:19 meanR:0.1500 R:0.0 loss:1.1590\n",
      "Episode:20 meanR:0.1429 R:0.0 loss:1.1907\n",
      "Episode:21 meanR:0.1364 R:0.0 loss:1.3253\n",
      "Episode:22 meanR:0.1304 R:0.0 loss:1.2065\n",
      "Episode:23 meanR:0.1250 R:0.0 loss:1.0282\n",
      "Episode:24 meanR:0.1200 R:0.0 loss:0.9366\n",
      "Episode:25 meanR:0.1154 R:0.0 loss:1.0478\n",
      "Episode:26 meanR:0.1111 R:0.0 loss:1.1672\n",
      "Episode:27 meanR:0.1071 R:0.0 loss:0.7527\n",
      "Episode:28 meanR:0.1034 R:0.0 loss:0.9333\n",
      "Episode:29 meanR:0.0667 R:-1.0 loss:0.8349\n",
      "Episode:30 meanR:0.0645 R:0.0 loss:1.0467\n",
      "Episode:31 meanR:0.0625 R:0.0 loss:1.1273\n",
      "Episode:32 meanR:0.0606 R:0.0 loss:0.9597\n",
      "Episode:33 meanR:0.0588 R:0.0 loss:0.5659\n",
      "Episode:34 meanR:0.0286 R:-1.0 loss:0.6828\n",
      "Episode:35 meanR:0.0278 R:0.0 loss:0.6472\n",
      "Episode:36 meanR:0.0270 R:0.0 loss:2.9778\n",
      "Episode:37 meanR:0.0263 R:0.0 loss:2.6646\n",
      "Episode:38 meanR:0.0256 R:0.0 loss:1.9411\n",
      "Episode:39 meanR:0.0250 R:0.0 loss:1.3775\n",
      "Episode:40 meanR:0.0244 R:0.0 loss:1.3156\n",
      "Episode:41 meanR:0.0238 R:0.0 loss:1.0115\n",
      "Episode:42 meanR:0.0233 R:0.0 loss:1.0765\n",
      "Episode:43 meanR:0.0227 R:0.0 loss:1.0600\n",
      "Episode:44 meanR:0.0222 R:0.0 loss:0.8682\n",
      "Episode:45 meanR:0.0217 R:0.0 loss:1.1655\n",
      "Episode:46 meanR:0.0213 R:0.0 loss:0.9632\n",
      "Episode:47 meanR:0.0208 R:0.0 loss:1.6372\n",
      "Episode:48 meanR:0.0204 R:0.0 loss:1.0821\n",
      "Episode:49 meanR:0.0200 R:0.0 loss:1.2490\n",
      "Episode:50 meanR:0.0196 R:0.0 loss:1.0047\n",
      "Episode:51 meanR:0.0000 R:-1.0 loss:1.0140\n",
      "Episode:52 meanR:0.0000 R:0.0 loss:1.1460\n",
      "Episode:53 meanR:0.0000 R:0.0 loss:0.9354\n",
      "Episode:54 meanR:0.0182 R:1.0 loss:0.9399\n",
      "Episode:55 meanR:0.0179 R:0.0 loss:1.1793\n",
      "Episode:56 meanR:0.0175 R:0.0 loss:0.9071\n",
      "Episode:57 meanR:0.0172 R:0.0 loss:1.1938\n",
      "Episode:58 meanR:0.0169 R:0.0 loss:1.1250\n",
      "Episode:59 meanR:0.0167 R:0.0 loss:1.0192\n",
      "Episode:60 meanR:0.0164 R:0.0 loss:1.0966\n",
      "Episode:61 meanR:0.0161 R:0.0 loss:1.2598\n",
      "Episode:62 meanR:0.0159 R:0.0 loss:0.8547\n",
      "Episode:63 meanR:0.0156 R:0.0 loss:1.0522\n",
      "Episode:64 meanR:0.0154 R:0.0 loss:1.0467\n",
      "Episode:65 meanR:0.0152 R:0.0 loss:0.9247\n",
      "Episode:66 meanR:0.0299 R:1.0 loss:1.2039\n",
      "Episode:67 meanR:0.0294 R:0.0 loss:0.9587\n",
      "Episode:68 meanR:0.0290 R:0.0 loss:0.8099\n",
      "Episode:69 meanR:0.0286 R:0.0 loss:0.8605\n",
      "Episode:70 meanR:0.0282 R:0.0 loss:0.7617\n",
      "Episode:71 meanR:0.0556 R:2.0 loss:0.6994\n",
      "Episode:72 meanR:0.0548 R:0.0 loss:0.8350\n",
      "Episode:73 meanR:0.0541 R:0.0 loss:0.8477\n",
      "Episode:74 meanR:0.0533 R:0.0 loss:0.9418\n",
      "Episode:75 meanR:0.0526 R:0.0 loss:0.8463\n",
      "Episode:76 meanR:0.0519 R:0.0 loss:1.0062\n",
      "Episode:77 meanR:0.0385 R:-1.0 loss:0.8628\n",
      "Episode:78 meanR:0.0506 R:1.0 loss:1.0007\n",
      "Episode:79 meanR:0.0500 R:0.0 loss:1.0559\n",
      "Episode:80 meanR:0.0494 R:0.0 loss:1.1866\n",
      "Episode:81 meanR:0.0488 R:0.0 loss:0.9064\n",
      "Episode:82 meanR:0.0482 R:0.0 loss:0.6073\n",
      "Episode:83 meanR:0.0476 R:0.0 loss:0.7308\n",
      "Episode:84 meanR:0.0471 R:0.0 loss:0.8854\n",
      "Episode:85 meanR:0.0465 R:0.0 loss:0.7951\n",
      "Episode:86 meanR:0.0460 R:0.0 loss:0.8008\n",
      "Episode:87 meanR:0.0455 R:0.0 loss:0.6357\n",
      "Episode:88 meanR:0.0562 R:1.0 loss:0.9045\n",
      "Episode:89 meanR:0.0444 R:-1.0 loss:0.8254\n",
      "Episode:90 meanR:0.0440 R:0.0 loss:1.2127\n",
      "Episode:91 meanR:0.0435 R:0.0 loss:1.3217\n",
      "Episode:92 meanR:0.0430 R:0.0 loss:1.3095\n",
      "Episode:93 meanR:0.0426 R:0.0 loss:0.9836\n",
      "Episode:94 meanR:0.0421 R:0.0 loss:1.5073\n",
      "Episode:95 meanR:0.0417 R:0.0 loss:1.4762\n",
      "Episode:96 meanR:0.0412 R:0.0 loss:1.0148\n",
      "Episode:97 meanR:0.0510 R:1.0 loss:1.3531\n",
      "Episode:98 meanR:0.0505 R:0.0 loss:1.0327\n",
      "Episode:99 meanR:0.0500 R:0.0 loss:0.9085\n",
      "Episode:100 meanR:0.0400 R:0.0 loss:1.3896\n",
      "Episode:101 meanR:0.0100 R:0.0 loss:1.3517\n",
      "Episode:102 meanR:0.0100 R:0.0 loss:0.9578\n",
      "Episode:103 meanR:0.0100 R:0.0 loss:0.8912\n",
      "Episode:104 meanR:0.0000 R:0.0 loss:1.0310\n",
      "Episode:105 meanR:0.0000 R:0.0 loss:1.1152\n",
      "Episode:106 meanR:0.0000 R:0.0 loss:1.1664\n",
      "Episode:107 meanR:0.0100 R:0.0 loss:0.9546\n",
      "Episode:108 meanR:0.0100 R:0.0 loss:1.0021\n",
      "Episode:109 meanR:0.0100 R:0.0 loss:1.1236\n",
      "Episode:110 meanR:0.0100 R:0.0 loss:1.2128\n",
      "Episode:111 meanR:0.0200 R:0.0 loss:1.1553\n",
      "Episode:112 meanR:0.0200 R:0.0 loss:0.9491\n",
      "Episode:113 meanR:0.0200 R:0.0 loss:1.0928\n",
      "Episode:114 meanR:0.0200 R:0.0 loss:1.1530\n",
      "Episode:115 meanR:0.0200 R:0.0 loss:1.2272\n",
      "Episode:116 meanR:0.0200 R:0.0 loss:1.0024\n",
      "Episode:117 meanR:0.0200 R:0.0 loss:1.3450\n",
      "Episode:118 meanR:0.0200 R:0.0 loss:0.9995\n",
      "Episode:119 meanR:0.0200 R:0.0 loss:0.8641\n",
      "Episode:120 meanR:0.0200 R:0.0 loss:0.8186\n",
      "Episode:121 meanR:0.0200 R:0.0 loss:1.3644\n",
      "Episode:122 meanR:0.0200 R:0.0 loss:1.3012\n",
      "Episode:123 meanR:0.0200 R:0.0 loss:1.5816\n",
      "Episode:124 meanR:0.0200 R:0.0 loss:1.6387\n",
      "Episode:125 meanR:0.0200 R:0.0 loss:1.0968\n",
      "Episode:126 meanR:0.0200 R:0.0 loss:1.1552\n",
      "Episode:127 meanR:0.0200 R:0.0 loss:1.5552\n",
      "Episode:128 meanR:0.0200 R:0.0 loss:1.6648\n",
      "Episode:129 meanR:0.0300 R:0.0 loss:1.8419\n",
      "Episode:130 meanR:0.0300 R:0.0 loss:1.5809\n",
      "Episode:131 meanR:0.0200 R:-1.0 loss:1.2111\n",
      "Episode:132 meanR:0.0200 R:0.0 loss:1.7554\n",
      "Episode:133 meanR:0.0200 R:0.0 loss:1.4712\n",
      "Episode:134 meanR:0.0300 R:0.0 loss:1.9113\n",
      "Episode:135 meanR:0.0300 R:0.0 loss:1.9012\n",
      "Episode:136 meanR:0.0200 R:-1.0 loss:1.8165\n",
      "Episode:137 meanR:0.0200 R:0.0 loss:1.5588\n",
      "Episode:138 meanR:0.0200 R:0.0 loss:1.6686\n",
      "Episode:139 meanR:0.0200 R:0.0 loss:1.6864\n",
      "Episode:140 meanR:0.0200 R:0.0 loss:1.5241\n",
      "Episode:141 meanR:0.0200 R:0.0 loss:1.6788\n",
      "Episode:142 meanR:0.0300 R:1.0 loss:1.5503\n",
      "Episode:143 meanR:0.0300 R:0.0 loss:1.9068\n",
      "Episode:144 meanR:0.0300 R:0.0 loss:1.8875\n",
      "Episode:145 meanR:0.0300 R:0.0 loss:2.1500\n",
      "Episode:146 meanR:0.0300 R:0.0 loss:1.7566\n",
      "Episode:147 meanR:0.0300 R:0.0 loss:1.4856\n",
      "Episode:148 meanR:0.0300 R:0.0 loss:2.5104\n",
      "Episode:149 meanR:0.0300 R:0.0 loss:2.2290\n",
      "Episode:150 meanR:0.0200 R:-1.0 loss:2.0898\n",
      "Episode:151 meanR:0.0300 R:0.0 loss:1.9852\n",
      "Episode:152 meanR:0.0300 R:0.0 loss:1.7241\n",
      "Episode:153 meanR:0.0300 R:0.0 loss:1.8593\n",
      "Episode:154 meanR:0.0200 R:0.0 loss:1.9556\n",
      "Episode:155 meanR:0.0200 R:0.0 loss:2.1111\n",
      "Episode:156 meanR:0.0200 R:0.0 loss:2.0295\n",
      "Episode:157 meanR:0.0200 R:0.0 loss:2.1932\n",
      "Episode:158 meanR:0.0200 R:0.0 loss:1.7284\n",
      "Episode:159 meanR:0.0200 R:0.0 loss:1.7467\n",
      "Episode:160 meanR:0.0200 R:0.0 loss:1.6844\n",
      "Episode:161 meanR:0.0300 R:1.0 loss:1.6487\n",
      "Episode:162 meanR:0.0300 R:0.0 loss:2.3391\n",
      "Episode:163 meanR:0.0300 R:0.0 loss:1.8674\n",
      "Episode:164 meanR:0.0200 R:-1.0 loss:1.7758\n",
      "Episode:165 meanR:0.0200 R:0.0 loss:1.7320\n",
      "Episode:166 meanR:0.0100 R:0.0 loss:2.0409\n",
      "Episode:167 meanR:0.0200 R:1.0 loss:1.6505\n",
      "Episode:168 meanR:0.0200 R:0.0 loss:1.9547\n",
      "Episode:169 meanR:0.0300 R:1.0 loss:1.6482\n",
      "Episode:170 meanR:0.0300 R:0.0 loss:1.8423\n",
      "Episode:171 meanR:0.0100 R:0.0 loss:2.0646\n",
      "Episode:172 meanR:0.0100 R:0.0 loss:1.5017\n",
      "Episode:173 meanR:0.0100 R:0.0 loss:2.1050\n",
      "Episode:174 meanR:0.0100 R:0.0 loss:2.1165\n",
      "Episode:175 meanR:0.0100 R:0.0 loss:2.2578\n",
      "Episode:176 meanR:0.0100 R:0.0 loss:1.9384\n",
      "Episode:177 meanR:0.0200 R:0.0 loss:2.2644\n",
      "Episode:178 meanR:0.0100 R:0.0 loss:1.6466\n"
     ]
    }
   ],
   "source": [
    "# Save/load the model and save for plotting\n",
    "saver = tf.train.Saver()\n",
    "episode_rewards_list, rewards_list, loss_list = [], [], []\n",
    "\n",
    "# TF session for training\n",
    "with tf.Session(graph=graph) as sess:\n",
    "    sess.run(tf.global_variables_initializer())\n",
    "    #saver.restore(sess, 'checkpoints/model.ckpt')    \n",
    "    #saver.restore(sess, tf.train.latest_checkpoint('checkpoints'))\n",
    "    episode_reward = deque(maxlen=100) # 100 episodes average/running average/running mean/window\n",
    "    \n",
    "    # Training episodes/epochs\n",
    "    for ep in range(11111):\n",
    "        total_reward = 0\n",
    "        loss_batch = []\n",
    "        #state = env.reset()\n",
    "        env_info = env.reset(train_mode=True)[brain_name] # reset the environment\n",
    "        #state = env_info.vector_observations[0]   # get the current state\n",
    "        state = env_info.visual_observations[0]   # get the current state\n",
    "        #print(state.shape)\n",
    "\n",
    "        # Training steps/batches\n",
    "        while True:\n",
    "            action_logits = sess.run(model.actions_logits, feed_dict={model.states: state}) # visual\n",
    "                                          #feed_dict={model.states: state.reshape([1, -1])}) # vector\n",
    "            action = np.argmax(action_logits)\n",
    "            #state, reward, done, _ = env.step(action)\n",
    "            env_info = env.step(action)[brain_name]        # send the action to the environment\n",
    "            #next_state = env_info.vector_observations[0]   # get the next state\n",
    "            next_state = env_info.visual_observations[0]   # get the next state\n",
    "            reward = env_info.rewards[0]                   # get the reward\n",
    "            done = env_info.local_done[0]                  # see if episode has finished\n",
    "            memory.buffer.append([state.reshape(*state_size), action, \n",
    "                                  next_state.reshape(*state_size), reward, float(done)])\n",
    "            total_reward += reward\n",
    "            state = next_state\n",
    "            \n",
    "            # Training\n",
    "            batch = memory.sample(batch_size) # 300 the episode length/size\n",
    "            states = np.array([each[0] for each in batch])\n",
    "            actions = np.array([each[1] for each in batch])\n",
    "            next_states = np.array([each[2] for each in batch])\n",
    "            rewards = np.array([each[3] for each in batch])\n",
    "            dones = np.array([each[4] for each in batch])\n",
    "            #print(states.shape, next_states.shape)\n",
    "            next_actions_logits = sess.run(model.actions_logits, feed_dict = {model.states: next_states})\n",
    "            nextQs = np.max(next_actions_logits, axis=1) * (1-dones)\n",
    "            targetQs = rewards + (gamma * nextQs)\n",
    "            loss, _ = sess.run([model.loss, model.opt], feed_dict = {model.states: states, \n",
    "                                                                     model.actions: actions,\n",
    "                                                                     model.targetQs: targetQs})\n",
    "            loss_batch.append(loss)\n",
    "            if done is True:\n",
    "                break\n",
    "                \n",
    "        episode_reward.append(total_reward)\n",
    "        print('Episode:{}'.format(ep),\n",
    "              'meanR:{:.4f}'.format(np.mean(episode_reward)),\n",
    "              'R:{}'.format(total_reward),\n",
    "              'loss:{:.4f}'.format(np.mean(loss_batch)))\n",
    "        # Ploting out\n",
    "        episode_rewards_list.append([ep, np.mean(episode_reward)])\n",
    "        rewards_list.append([ep, total_reward])\n",
    "        loss_list.append([ep, np.mean(loss_batch)])\n",
    "        # Break episode/epoch loop\n",
    "        if np.mean(episode_reward) >= +13:\n",
    "            break\n",
    "            \n",
    "    # Save the model at the end of all training episodes/epochs\n",
    "    saver.save(sess, 'checkpoints/model.ckpt')"
   ]
  },
  {
   "cell_type": "code",
   "execution_count": null,
   "metadata": {},
   "outputs": [],
   "source": [
    "%matplotlib inline\n",
    "import matplotlib.pyplot as plt\n",
    "\n",
    "def running_mean(x, N):\n",
    "    cumsum = np.cumsum(np.insert(x, 0, 0)) \n",
    "    return (cumsum[N:] - cumsum[:-N]) / N "
   ]
  },
  {
   "cell_type": "code",
   "execution_count": null,
   "metadata": {},
   "outputs": [],
   "source": [
    "eps, arr = np.array(episode_rewards_list).T\n",
    "smoothed_arr = running_mean(arr, 10)\n",
    "plt.plot(eps[-len(smoothed_arr):], smoothed_arr)\n",
    "plt.plot(eps, arr, color='grey', alpha=0.3)\n",
    "plt.xlabel('Episode')\n",
    "plt.ylabel('Episode rewards')"
   ]
  },
  {
   "cell_type": "code",
   "execution_count": null,
   "metadata": {},
   "outputs": [],
   "source": [
    "eps, arr = np.array(rewards_list).T\n",
    "smoothed_arr = running_mean(arr, 10)\n",
    "plt.plot(eps[-len(smoothed_arr):], smoothed_arr)\n",
    "plt.plot(eps, arr, color='grey', alpha=0.3)\n",
    "plt.xlabel('Episode')\n",
    "plt.ylabel('Total rewards')"
   ]
  },
  {
   "cell_type": "code",
   "execution_count": null,
   "metadata": {},
   "outputs": [],
   "source": [
    "eps, arr = np.array(loss_list).T\n",
    "smoothed_arr = running_mean(arr, 10)\n",
    "plt.plot(eps[-len(smoothed_arr):], smoothed_arr)\n",
    "plt.plot(eps, arr, color='grey', alpha=0.3)\n",
    "plt.xlabel('Episode')\n",
    "plt.ylabel('Average losses')"
   ]
  },
  {
   "cell_type": "code",
   "execution_count": null,
   "metadata": {},
   "outputs": [],
   "source": [
    "# TF session for training\n",
    "with tf.Session(graph=graph) as sess:\n",
    "    sess.run(tf.global_variables_initializer())\n",
    "    #saver.restore(sess, 'checkpoints/model.ckpt')    \n",
    "    saver.restore(sess, tf.train.latest_checkpoint('checkpoints'))\n",
    "    \n",
    "    # Testing episodes/epochs\n",
    "    for _ in range(1):\n",
    "        total_reward = 0\n",
    "        #state = env.reset()\n",
    "        env_info = env.reset(train_mode=False)[brain_name] # reset the environment\n",
    "        #state = env_info.vector_observations[0]   # get the current state\n",
    "        state = env_info.visual_observations[0]   # get the current state\n",
    "\n",
    "        # Testing steps/batches\n",
    "        while True:\n",
    "            action_logits = sess.run(model.actions_logits, feed_dict={model.states: state.reshape([1, -1])})\n",
    "            action = np.argmax(action_logits)\n",
    "            #state, reward, done, _ = env.step(action)\n",
    "            env_info = env.step(action)[brain_name]        # send the action to the environment\n",
    "            #state = env_info.vector_observations[0]   # get the next state\n",
    "            state = env_info.visual_observations[0]   # get the current state\n",
    "            reward = env_info.rewards[0]                   # get the reward\n",
    "            done = env_info.local_done[0]                  # see if episode has finished\n",
    "            total_reward += reward\n",
    "            if done:\n",
    "                break\n",
    "                \n",
    "        print('total_reward: {:.2f}'.format(total_reward))"
   ]
  },
  {
   "cell_type": "code",
   "execution_count": null,
   "metadata": {},
   "outputs": [],
   "source": [
    "# Be careful!!!!!!!!!!!!!!!!\n",
    "# Closing the env\n",
    "env.close()"
   ]
  }
 ],
 "metadata": {
  "kernelspec": {
   "display_name": "Python 3",
   "language": "python",
   "name": "python3"
  },
  "language_info": {
   "codemirror_mode": {
    "name": "ipython",
    "version": 3
   },
   "file_extension": ".py",
   "mimetype": "text/x-python",
   "name": "python",
   "nbconvert_exporter": "python",
   "pygments_lexer": "ipython3",
   "version": "3.6.5"
  }
 },
 "nbformat": 4,
 "nbformat_minor": 2
}
