{
 "cells": [
  {
   "cell_type": "markdown",
   "metadata": {},
   "source": [
    "# Continuous Control\n",
    "\n",
    "---\n",
    "\n",
    "In this notebook, you will learn how to use the Unity ML-Agents environment for the second project of the [Deep Reinforcement Learning Nanodegree](https://www.udacity.com/course/deep-reinforcement-learning-nanodegree--nd893) program.\n",
    "\n",
    "### 1. Start the Environment\n",
    "\n",
    "We begin by importing the necessary packages.  If the code cell below returns an error, please revisit the project instructions to double-check that you have installed [Unity ML-Agents](https://github.com/Unity-Technologies/ml-agents/blob/master/docs/Installation.md) and [NumPy](http://www.numpy.org/)."
   ]
  },
  {
   "cell_type": "code",
   "execution_count": 1,
   "metadata": {},
   "outputs": [],
   "source": [
    "from unityagents import UnityEnvironment\n",
    "import numpy as np"
   ]
  },
  {
   "cell_type": "markdown",
   "metadata": {},
   "source": [
    "Next, we will start the environment!  **_Before running the code cell below_**, change the `file_name` parameter to match the location of the Unity environment that you downloaded.\n",
    "\n",
    "- **Mac**: `\"path/to/Reacher.app\"`\n",
    "- **Windows** (x86): `\"path/to/Reacher_Windows_x86/Reacher.exe\"`\n",
    "- **Windows** (x86_64): `\"path/to/Reacher_Windows_x86_64/Reacher.exe\"`\n",
    "- **Linux** (x86): `\"path/to/Reacher_Linux/Reacher.x86\"`\n",
    "- **Linux** (x86_64): `\"path/to/Reacher_Linux/Reacher.x86_64\"`\n",
    "- **Linux** (x86, headless): `\"path/to/Reacher_Linux_NoVis/Reacher.x86\"`\n",
    "- **Linux** (x86_64, headless): `\"path/to/Reacher_Linux_NoVis/Reacher.x86_64\"`\n",
    "\n",
    "For instance, if you are using a Mac, then you downloaded `Reacher.app`.  If this file is in the same folder as the notebook, then the line below should appear as follows:\n",
    "```\n",
    "env = UnityEnvironment(file_name=\"Reacher.app\")\n",
    "```"
   ]
  },
  {
   "cell_type": "code",
   "execution_count": 2,
   "metadata": {},
   "outputs": [
    {
     "name": "stderr",
     "output_type": "stream",
     "text": [
      "INFO:unityagents:\n",
      "'Academy' started successfully!\n",
      "Unity Academy name: Academy\n",
      "        Number of Brains: 1\n",
      "        Number of External Brains : 1\n",
      "        Lesson number : 0\n",
      "        Reset Parameters :\n",
      "\t\tgoal_speed -> 1.0\n",
      "\t\tgoal_size -> 5.0\n",
      "Unity brain name: ReacherBrain\n",
      "        Number of Visual Observations (per agent): 0\n",
      "        Vector Observation space type: continuous\n",
      "        Vector Observation space size (per agent): 33\n",
      "        Number of stacked Vector Observation: 1\n",
      "        Vector Action space type: continuous\n",
      "        Vector Action space size (per agent): 4\n",
      "        Vector Action descriptions: , , , \n"
     ]
    }
   ],
   "source": [
    "# env = UnityEnvironment(file_name='/home/arasdar/unity-envs/Reacher_Linux/Reacher.x86_64')\n",
    "# env = UnityEnvironment(file_name='/home/arasdar/unity-envs/Reacher_Linux_v1/Reacher.x86_64')\n",
    "# env = UnityEnvironment(file_name='/home/arasdar/unity-envs/Reacher_Linux_OneAgent/Reacher_Linux/Reacher.x86_64')\n",
    "env = UnityEnvironment(file_name='/home/arasdar/unity-envs/Reacher_Linux_NoVis_OneAgent/Reacher_Linux_NoVis/Reacher.x86_64')\n",
    "# env = UnityEnvironment(file_name='/home/aras/unity-envs/Reacher_Linux_NoVis/Reacher.x86_64')"
   ]
  },
  {
   "cell_type": "markdown",
   "metadata": {},
   "source": [
    "Environments contain **_brains_** which are responsible for deciding the actions of their associated agents. Here we check for the first brain available, and set it as the default brain we will be controlling from Python."
   ]
  },
  {
   "cell_type": "code",
   "execution_count": 3,
   "metadata": {},
   "outputs": [],
   "source": [
    "# get the default brain\n",
    "brain_name = env.brain_names[0]\n",
    "brain = env.brains[brain_name]"
   ]
  },
  {
   "cell_type": "markdown",
   "metadata": {},
   "source": [
    "### 2. Examine the State and Action Spaces\n",
    "\n",
    "In this environment, a double-jointed arm can move to target locations. A reward of `+0.1` is provided for each step that the agent's hand is in the goal location. Thus, the goal of your agent is to maintain its position at the target location for as many time steps as possible.\n",
    "\n",
    "The observation space consists of `33` variables corresponding to position, rotation, velocity, and angular velocities of the arm.  Each action is a vector with four numbers, corresponding to torque applicable to two joints.  Every entry in the action vector must be a number between `-1` and `1`.\n",
    "\n",
    "Run the code cell below to print some information about the environment."
   ]
  },
  {
   "cell_type": "code",
   "execution_count": 4,
   "metadata": {},
   "outputs": [
    {
     "name": "stdout",
     "output_type": "stream",
     "text": [
      "Number of agents: 1\n",
      "Size of each action: 4\n",
      "There are 1 agents. Each observes a state with length: 33\n",
      "The state for the first agent looks like: [ 0.00000000e+00 -4.00000000e+00  0.00000000e+00  1.00000000e+00\n",
      " -0.00000000e+00 -0.00000000e+00 -4.37113883e-08  0.00000000e+00\n",
      "  0.00000000e+00  0.00000000e+00  0.00000000e+00  0.00000000e+00\n",
      "  0.00000000e+00  0.00000000e+00 -1.00000000e+01  0.00000000e+00\n",
      "  1.00000000e+00 -0.00000000e+00 -0.00000000e+00 -4.37113883e-08\n",
      "  0.00000000e+00  0.00000000e+00  0.00000000e+00  0.00000000e+00\n",
      "  0.00000000e+00  0.00000000e+00  5.75471878e+00 -1.00000000e+00\n",
      "  5.55726671e+00  0.00000000e+00  1.00000000e+00  0.00000000e+00\n",
      " -1.68164849e-01]\n"
     ]
    }
   ],
   "source": [
    "# reset the environment\n",
    "env_info = env.reset(train_mode=True)[brain_name]\n",
    "\n",
    "# number of agents\n",
    "num_agents = len(env_info.agents)\n",
    "print('Number of agents:', num_agents)\n",
    "\n",
    "# size of each action\n",
    "action_size = brain.vector_action_space_size\n",
    "print('Size of each action:', action_size)\n",
    "\n",
    "# examine the state space \n",
    "states = env_info.vector_observations\n",
    "state_size = states.shape[1]\n",
    "print('There are {} agents. Each observes a state with length: {}'.format(states.shape[0], state_size))\n",
    "print('The state for the first agent looks like:', states[0])"
   ]
  },
  {
   "cell_type": "markdown",
   "metadata": {},
   "source": [
    "### 3. Take Random Actions in the Environment\n",
    "\n",
    "In the next code cell, you will learn how to use the Python API to control the agent and receive feedback from the environment.\n",
    "\n",
    "Once this cell is executed, you will watch the agent's performance, if it selects an action at random with each time step.  A window should pop up that allows you to observe the agent, as it moves through the environment.  \n",
    "\n",
    "Of course, as part of the project, you'll have to change the code so that the agent is able to use its experience to gradually choose better actions when interacting with the environment!"
   ]
  },
  {
   "cell_type": "code",
   "execution_count": 5,
   "metadata": {},
   "outputs": [
    {
     "name": "stdout",
     "output_type": "stream",
     "text": [
      "Total score (averaged over agents) this episode: 0.0\n"
     ]
    }
   ],
   "source": [
    "env_info = env.reset(train_mode=False)[brain_name]     # reset the environment    \n",
    "states = env_info.vector_observations                  # get the current state (for each agent)\n",
    "scores = np.zeros(num_agents)                          # initialize the score (for each agent)\n",
    "while True:\n",
    "    actions = np.random.randn(num_agents, action_size) # select an action (for each agent)\n",
    "    actions = np.clip(actions, -1, 1)                  # all actions between -1 and 1\n",
    "    env_info = env.step(actions)[brain_name]           # send all actions to tne environment\n",
    "    next_states = env_info.vector_observations         # get next state (for each agent)\n",
    "    rewards = env_info.rewards                         # get reward (for each agent)\n",
    "    dones = env_info.local_done                        # see if episode finished\n",
    "    scores += env_info.rewards                         # update the score (for each agent)\n",
    "    states = next_states                               # roll over states to next time step\n",
    "    if np.any(dones):                                  # exit loop if episode finished\n",
    "        break\n",
    "print('Total score (averaged over agents) this episode: {}'.format(np.mean(scores)))"
   ]
  },
  {
   "cell_type": "markdown",
   "metadata": {},
   "source": [
    "When finished, you can close the environment."
   ]
  },
  {
   "cell_type": "code",
   "execution_count": 6,
   "metadata": {},
   "outputs": [],
   "source": [
    "# env.close()"
   ]
  },
  {
   "cell_type": "markdown",
   "metadata": {},
   "source": [
    "### 4. It's Your Turn!\n",
    "\n",
    "Now it's your turn to train your own agent to solve the environment!  When training the environment, set `train_mode=True`, so that the line for resetting the environment looks like the following:\n",
    "```python\n",
    "env_info = env.reset(train_mode=True)[brain_name]\n",
    "```"
   ]
  },
  {
   "cell_type": "code",
   "execution_count": 7,
   "metadata": {},
   "outputs": [
    {
     "name": "stdout",
     "output_type": "stream",
     "text": [
      "Total score (averaged over agents) this episode: 0.0\n"
     ]
    },
    {
     "data": {
      "text/plain": [
       "1001"
      ]
     },
     "execution_count": 7,
     "metadata": {},
     "output_type": "execute_result"
    }
   ],
   "source": [
    "# Testing the train mode\n",
    "env_info = env.reset(train_mode=True)[brain_name]     # reset the environment    \n",
    "state = env_info.vector_observations[0]                  # get the current state (for each agent)\n",
    "#scores = np.zeros(num_agents)                          # initialize the score (for each agent)\n",
    "num_steps = 0\n",
    "while True:\n",
    "    num_steps += 1\n",
    "    action = np.random.randn(num_agents, action_size) # select an action (for each agent)\n",
    "    action = np.clip(action, -1, 1)                  # all actions between -1 and 1\n",
    "    env_info = env.step(action)[brain_name]           # send all actions to tne environment\n",
    "    next_state = env_info.vector_observations[0]         # get next state (for each agent)\n",
    "    reward = env_info.rewards[0]                         # get reward (for each agent)\n",
    "    done = env_info.local_done[0]                        # see if episode finished\n",
    "    #scores += env_info.rewards                         # update the score (for each agent)\n",
    "    state = next_state                               # roll over states to next time step\n",
    "    if done is True:                                  # exit loop if episode finished\n",
    "        #print(action.shape, reward)\n",
    "        #print(done)\n",
    "        break\n",
    "print('Total score (averaged over agents) this episode: {}'.format(np.mean(scores)))\n",
    "num_steps"
   ]
  },
  {
   "cell_type": "markdown",
   "metadata": {},
   "source": [
    "## Option 1: Solve the First Version\n",
    "The task is episodic, and in order to solve the environment, your agent must get an average score of +30 over 100 consecutive episodes."
   ]
  },
  {
   "cell_type": "code",
   "execution_count": 8,
   "metadata": {},
   "outputs": [
    {
     "name": "stdout",
     "output_type": "stream",
     "text": [
      "TensorFlow Version: 1.7.1\n",
      "Default GPU Device: \n"
     ]
    }
   ],
   "source": [
    "# In this one we should define and detect GPUs for tensorflow\n",
    "# GPUs or CPU\n",
    "import tensorflow as tf\n",
    "\n",
    "# Check TensorFlow Version\n",
    "print('TensorFlow Version: {}'.format(tf.__version__))\n",
    "\n",
    "# Check for a GPU\n",
    "print('Default GPU Device: {}'.format(tf.test.gpu_device_name()))"
   ]
  },
  {
   "cell_type": "code",
   "execution_count": 9,
   "metadata": {},
   "outputs": [],
   "source": [
    "def model_input(state_size, action_size):\n",
    "    #states = tf.placeholder(tf.float32, [None, *state_size], name='states')\n",
    "    states = tf.placeholder(tf.float32, [None, state_size], name='states')\n",
    "    actions = tf.placeholder(tf.float32, [None, action_size], name='actions')\n",
    "    targetQs = tf.placeholder(tf.float32, [None], name='targetQs')\n",
    "    rates = tf.placeholder(tf.float32, [None], name='rates')\n",
    "    return states, actions, targetQs, rates"
   ]
  },
  {
   "cell_type": "code",
   "execution_count": 10,
   "metadata": {},
   "outputs": [],
   "source": [
    "# Generator/Controller: Generating/prediting the actions\n",
    "def generator(states, action_size, hidden_size, reuse=False, alpha=0.1, training=False):\n",
    "    with tf.variable_scope('generator', reuse=reuse):\n",
    "        # First fully connected layer\n",
    "        h1 = tf.layers.dense(inputs=states, units=hidden_size)\n",
    "        bn1 = tf.layers.batch_normalization(h1, training=training)        \n",
    "        nl1 = tf.maximum(alpha * bn1, bn1)\n",
    "        \n",
    "        # Second fully connected layer\n",
    "        h2 = tf.layers.dense(inputs=nl1, units=hidden_size)\n",
    "        bn2 = tf.layers.batch_normalization(h2, training=training)        \n",
    "        nl2 = tf.maximum(alpha * bn2, bn2)\n",
    "        \n",
    "        # Output layer\n",
    "        logits = tf.layers.dense(inputs=nl2, units=action_size)        \n",
    "        #predictions = tf.nn.softmax(logits)\n",
    "\n",
    "        # return actions logits\n",
    "        return logits"
   ]
  },
  {
   "cell_type": "code",
   "execution_count": 11,
   "metadata": {},
   "outputs": [],
   "source": [
    "# Discriminator/Dopamine: Reward function/planner/naviator/advisor/supervisor/cortical columns\n",
    "def discriminator(states, actions, hidden_size, reuse=False, alpha=0.1, training=False):\n",
    "    with tf.variable_scope('discriminator', reuse=reuse):\n",
    "        # First fully connected layer\n",
    "        h1 = tf.layers.dense(inputs=states, units=action_size)\n",
    "        bn1 = tf.layers.batch_normalization(h1, training=training)        \n",
    "        nl1 = tf.maximum(alpha * bn1, bn1)\n",
    "        \n",
    "        # Second fully connected layer\n",
    "        fused = tf.concat(axis=1, values=[nl1, actions])\n",
    "        h2 = tf.layers.dense(inputs=fused, units=hidden_size)\n",
    "        bn2 = tf.layers.batch_normalization(h2, training=training)        \n",
    "        nl2 = tf.maximum(alpha * bn2, bn2)\n",
    "                \n",
    "        # Output layer\n",
    "        logits = tf.layers.dense(inputs=nl2, units=1)        \n",
    "        #predictions = tf.nn.softmax(logits)\n",
    "\n",
    "        # return rewards logits\n",
    "        return logits"
   ]
  },
  {
   "cell_type": "code",
   "execution_count": 12,
   "metadata": {},
   "outputs": [],
   "source": [
    "def model_loss(action_size, hidden_size, states, actions, targetQs, rates):\n",
    "    actions_logits = generator(states=states, hidden_size=hidden_size, action_size=action_size)\n",
    "    neg_log_prob = tf.nn.sigmoid_cross_entropy_with_logits(logits=actions_logits, # DPG\n",
    "                                                           labels=actions) # 0-1\n",
    "    targetQs = tf.reshape(targetQs, shape=[-1, 1])\n",
    "    gloss = tf.reduce_mean(neg_log_prob * targetQs) # DPG: r+(gamma*nextQ)\n",
    "    gQs = discriminator(actions=actions_logits, hidden_size=hidden_size, states=states)\n",
    "    dQs = discriminator(actions=actions, hidden_size=hidden_size, states=states, reuse=True) # Qs\n",
    "    rates = tf.reshape(rates, shape=[-1, 1])\n",
    "    dlossA = tf.reduce_mean(tf.nn.sigmoid_cross_entropy_with_logits(logits=gQs, # GAN\n",
    "                                                                    labels=rates)) # 0-1\n",
    "    dlossA += tf.reduce_mean(tf.nn.sigmoid_cross_entropy_with_logits(logits=dQs, # GAN\n",
    "                                                                     labels=rates)) # 0-1\n",
    "    dlossA /= 2\n",
    "    dlossQ = tf.reduce_mean(tf.square(gQs - targetQs)) # DQN\n",
    "    dlossQ += tf.reduce_mean(tf.square(dQs - targetQs)) # DQN\n",
    "    dlossQ /= 2\n",
    "    #return tf.nn.sigmoid(actions_logits), gQs, gloss, dlossA, dlossQ\n",
    "    return actions_logits, gQs, gloss, dlossA, dlossQ"
   ]
  },
  {
   "cell_type": "code",
   "execution_count": 13,
   "metadata": {},
   "outputs": [],
   "source": [
    "# Optimizating/training/learning G & D\n",
    "def model_opt(g_loss, d_lossA, d_lossQ, g_learning_rate, d_learning_rate):\n",
    "    # Get weights and bias to update\n",
    "    t_vars = tf.trainable_variables()\n",
    "    g_vars = [var for var in t_vars if var.name.startswith('generator')]\n",
    "    d_vars = [var for var in t_vars if var.name.startswith('discriminator')]\n",
    "\n",
    "    # Optimize\n",
    "    with tf.control_dependencies(tf.get_collection(tf.GraphKeys.UPDATE_OPS)): # Required for batchnorm (BN)\n",
    "        g_opt = tf.train.AdamOptimizer(g_learning_rate).minimize(g_loss, var_list=g_vars)\n",
    "        d_optA = tf.train.AdamOptimizer(d_learning_rate).minimize(d_lossA, var_list=d_vars)\n",
    "        d_optQ = tf.train.AdamOptimizer(d_learning_rate).minimize(d_lossQ, var_list=d_vars)\n",
    "\n",
    "    return g_opt, d_optA, d_optQ"
   ]
  },
  {
   "cell_type": "code",
   "execution_count": 14,
   "metadata": {},
   "outputs": [],
   "source": [
    "class Model:\n",
    "    def __init__(self, state_size, action_size, hidden_size, g_learning_rate, d_learning_rate):\n",
    "\n",
    "        # Data of the Model: make the data available inside the framework\n",
    "        self.states, self.actions, self.targetQs, self.rates = model_input(state_size=state_size, \n",
    "                                                                           action_size=action_size)\n",
    "\n",
    "        # Create the Model: calculating the loss and forwad pass\n",
    "        self.actions_logits, self.Qs_logits, self.g_loss, self.d_lossA, self.d_lossQ = model_loss(\n",
    "            action_size=action_size, hidden_size=hidden_size, # model init parameters\n",
    "            states=self.states, actions=self.actions, \n",
    "            targetQs=self.targetQs, rates=self.rates) # model input\n",
    "        \n",
    "        # Update the model: backward pass and backprop\n",
    "        self.g_opt, self.d_optA, self.d_optQ = model_opt(g_loss=self.g_loss, \n",
    "                                                         d_lossA=self.d_lossA, \n",
    "                                                         d_lossQ=self.d_lossQ, \n",
    "                                                         g_learning_rate=g_learning_rate, \n",
    "                                                         d_learning_rate=d_learning_rate)"
   ]
  },
  {
   "cell_type": "code",
   "execution_count": 15,
   "metadata": {},
   "outputs": [],
   "source": [
    "from collections import deque\n",
    "class Memory():\n",
    "    def __init__(self, max_size = 1000):\n",
    "        self.buffer = deque(maxlen=max_size) # data batch"
   ]
  },
  {
   "cell_type": "code",
   "execution_count": null,
   "metadata": {},
   "outputs": [
    {
     "data": {
      "text/plain": [
       "(4, 33)"
      ]
     },
     "execution_count": 16,
     "metadata": {},
     "output_type": "execute_result"
    }
   ],
   "source": [
    "# env_info.vector_observations.shape, env_info.previous_vector_actions.shape, \\\n",
    "# brain.vector_action_space_size, brain.number_visual_observations, \\\n",
    "brain.vector_action_space_size, brain.vector_observation_space_size"
   ]
  },
  {
   "cell_type": "code",
   "execution_count": null,
   "metadata": {},
   "outputs": [],
   "source": [
    "# Exploration parameters\n",
    "explore_start = 1.0            # exploration probability at start\n",
    "explore_stop = 0.01           # minimum exploration probability \n",
    "decay_rate = 0.0001            # exponential decay rate for exploration prob\n",
    "\n",
    "# Network parameters\n",
    "state_size = 33\n",
    "action_size = 4\n",
    "hidden_size = 33*2             # number of units in each Q-network hidden layer\n",
    "g_learning_rate = 1e-4         # Q-network learning rate\n",
    "d_learning_rate = 1e-4         # Q-network learning rate\n",
    "\n",
    "# Memory parameters\n",
    "memory_size = int(1e5)            # memory capacity\n",
    "batch_size = int(1e3)             # experience mini-batch size == one episode size is 1000/int(1e3) steps\n",
    "gamma = 0.99                   # future reward discount"
   ]
  },
  {
   "cell_type": "code",
   "execution_count": null,
   "metadata": {},
   "outputs": [],
   "source": [
    "# Reset/init the graph/session\n",
    "graph = tf.reset_default_graph()\n",
    "\n",
    "# Init the model\n",
    "model = Model(action_size=action_size, state_size=state_size, hidden_size=hidden_size,\n",
    "              g_learning_rate=g_learning_rate, d_learning_rate=d_learning_rate)\n",
    "\n",
    "# Init the memory\n",
    "memory = Memory(max_size=memory_size)"
   ]
  },
  {
   "cell_type": "code",
   "execution_count": null,
   "metadata": {},
   "outputs": [
    {
     "name": "stdout",
     "output_type": "stream",
     "text": [
      "each_step: 1000 Left percentage: 0.01\n",
      "each_step: 2001 Left percentage: 0.02001\n",
      "each_step: 3002 Left percentage: 0.03002\n",
      "each_step: 4003 Left percentage: 0.04003\n",
      "each_step: 5004 Left percentage: 0.05004\n",
      "each_step: 6005 Left percentage: 0.06005\n",
      "each_step: 7006 Left percentage: 0.07006\n",
      "each_step: 8007 Left percentage: 0.08007\n",
      "each_step: 9008 Left percentage: 0.09008\n",
      "each_step: 10009 Left percentage: 0.10009\n",
      "each_step: 11010 Left percentage: 0.1101\n",
      "each_step: 12011 Left percentage: 0.12011\n",
      "each_step: 13012 Left percentage: 0.13012\n",
      "each_step: 14013 Left percentage: 0.14013\n",
      "each_step: 15014 Left percentage: 0.15014\n",
      "each_step: 16015 Left percentage: 0.16015\n",
      "each_step: 17016 Left percentage: 0.17016\n",
      "each_step: 18017 Left percentage: 0.18017\n",
      "each_step: 19018 Left percentage: 0.19018\n",
      "each_step: 20019 Left percentage: 0.20019\n",
      "each_step: 21020 Left percentage: 0.2102\n",
      "each_step: 22021 Left percentage: 0.22021\n",
      "each_step: 23022 Left percentage: 0.23022\n",
      "each_step: 24023 Left percentage: 0.24023\n",
      "each_step: 25024 Left percentage: 0.25024\n",
      "each_step: 26025 Left percentage: 0.26025\n",
      "each_step: 27026 Left percentage: 0.27026\n",
      "each_step: 28027 Left percentage: 0.28027\n",
      "each_step: 29028 Left percentage: 0.29028\n",
      "each_step: 30029 Left percentage: 0.30029\n",
      "each_step: 31030 Left percentage: 0.3103\n",
      "each_step: 32031 Left percentage: 0.32031\n",
      "each_step: 33032 Left percentage: 0.33032\n",
      "each_step: 34033 Left percentage: 0.34033\n",
      "each_step: 35034 Left percentage: 0.35034\n",
      "each_step: 36035 Left percentage: 0.36035\n",
      "each_step: 37036 Left percentage: 0.37036\n",
      "each_step: 38037 Left percentage: 0.38037\n",
      "each_step: 39038 Left percentage: 0.39038\n",
      "each_step: 40039 Left percentage: 0.40039\n",
      "each_step: 41040 Left percentage: 0.4104\n",
      "each_step: 42041 Left percentage: 0.42041\n",
      "each_step: 43042 Left percentage: 0.43042\n",
      "each_step: 44043 Left percentage: 0.44043\n",
      "each_step: 45044 Left percentage: 0.45044\n",
      "each_step: 46045 Left percentage: 0.46045\n",
      "each_step: 47046 Left percentage: 0.47046\n",
      "each_step: 48047 Left percentage: 0.48047\n",
      "each_step: 49048 Left percentage: 0.49048\n",
      "each_step: 50049 Left percentage: 0.50049\n",
      "each_step: 51050 Left percentage: 0.5105\n",
      "each_step: 52051 Left percentage: 0.52051\n",
      "each_step: 53052 Left percentage: 0.53052\n",
      "each_step: 54053 Left percentage: 0.54053\n",
      "each_step: 55054 Left percentage: 0.55054\n",
      "each_step: 56055 Left percentage: 0.56055\n",
      "each_step: 57056 Left percentage: 0.57056\n",
      "each_step: 58057 Left percentage: 0.58057\n",
      "each_step: 59058 Left percentage: 0.59058\n",
      "each_step: 60059 Left percentage: 0.60059\n",
      "each_step: 61060 Left percentage: 0.6106\n",
      "each_step: 62061 Left percentage: 0.62061\n",
      "each_step: 63062 Left percentage: 0.63062\n",
      "each_step: 64063 Left percentage: 0.64063\n",
      "each_step: 65064 Left percentage: 0.65064\n",
      "each_step: 66065 Left percentage: 0.66065\n",
      "each_step: 67066 Left percentage: 0.67066\n",
      "each_step: 68067 Left percentage: 0.68067\n",
      "each_step: 69068 Left percentage: 0.69068\n",
      "each_step: 70069 Left percentage: 0.70069\n",
      "each_step: 71070 Left percentage: 0.7107\n",
      "each_step: 72071 Left percentage: 0.72071\n",
      "each_step: 73072 Left percentage: 0.73072\n",
      "each_step: 74073 Left percentage: 0.74073\n",
      "each_step: 75074 Left percentage: 0.75074\n",
      "each_step: 76075 Left percentage: 0.76075\n",
      "each_step: 77076 Left percentage: 0.77076\n",
      "each_step: 78077 Left percentage: 0.78077\n",
      "each_step: 79078 Left percentage: 0.79078\n",
      "each_step: 80079 Left percentage: 0.80079\n",
      "each_step: 81080 Left percentage: 0.8108\n",
      "each_step: 82081 Left percentage: 0.82081\n",
      "each_step: 83082 Left percentage: 0.83082\n",
      "each_step: 84083 Left percentage: 0.84083\n",
      "each_step: 85084 Left percentage: 0.85084\n",
      "each_step: 86085 Left percentage: 0.86085\n",
      "each_step: 87086 Left percentage: 0.87086\n",
      "each_step: 88087 Left percentage: 0.88087\n",
      "each_step: 89088 Left percentage: 0.89088\n",
      "each_step: 90089 Left percentage: 0.90089\n",
      "each_step: 91090 Left percentage: 0.9109\n",
      "each_step: 92091 Left percentage: 0.92091\n",
      "each_step: 93092 Left percentage: 0.93092\n",
      "each_step: 94093 Left percentage: 0.94093\n",
      "each_step: 95094 Left percentage: 0.95094\n",
      "each_step: 96095 Left percentage: 0.96095\n",
      "each_step: 97096 Left percentage: 0.97096\n",
      "each_step: 98097 Left percentage: 0.98097\n",
      "each_step: 99098 Left percentage: 0.99098\n"
     ]
    }
   ],
   "source": [
    "#state = env.reset()\n",
    "env_info = env.reset(train_mode=True)[brain_name]     # reset the environment    \n",
    "state = env_info.vector_observations[0]                  # get the current state (for each agent)\n",
    "total_reward = 0\n",
    "num_step = 0\n",
    "for each_step in range(memory_size):\n",
    "    # action = env.action_space.sample()\n",
    "    # next_state, reward, done, _ = env.step(action)\n",
    "    action = np.random.randn(num_agents, action_size) # select an action (for each agent)\n",
    "    action_clipped = np.clip(action, -1, 1) # all actions between -1 and 1\n",
    "    action_normed = (action_clipped+1)/2 # normalizing to 0-1\n",
    "    env_info = env.step(action_clipped)[brain_name]           # send all actions to tne environment\n",
    "    next_state = env_info.vector_observations[0]         # get next state (for each agent)\n",
    "    reward = env_info.rewards[0]                         # get reward (for each agent)\n",
    "    done = env_info.local_done[0]                        # see if episode finished\n",
    "    memory.buffer.append([state, action_normed.reshape([-1]), next_state, reward, float(done), -1])\n",
    "    num_step += 1 # memory incremented\n",
    "    total_reward += reward\n",
    "    state = next_state\n",
    "    if done is True:\n",
    "        print('each_step:', each_step, 'Left percentage:', each_step/memory_size)\n",
    "        #state = env.reset()\n",
    "        env_info = env.reset(train_mode=True)[brain_name]     # reset the environment    \n",
    "        state = env_info.vector_observations[0]                  # get the current state (for each agent)\n",
    "        rate = total_reward/30 # Goal-required rewards\n",
    "        rate_clipped = np.clip(rate, 0, 1)\n",
    "        total_reward = 0 # reset\n",
    "        for idx in range(num_step): # episode length\n",
    "            if memory.buffer[-1-idx][-1] == -1:\n",
    "                memory.buffer[-1-idx][-1] = rate_clipped\n",
    "        num_step = 0 # reset"
   ]
  },
  {
   "cell_type": "code",
   "execution_count": null,
   "metadata": {},
   "outputs": [
    {
     "name": "stdout",
     "output_type": "stream",
     "text": [
      "Episode:0 meanR:0.0000 R:0.0000 rate:0.0000 gloss:-228.1849 dlossA:0.2053 dlossQ:2.0681 exploreP:0.9057\n",
      "Episode:1 meanR:0.3700 R:0.7400 rate:0.0247 gloss:-5910.7075 dlossA:0.1143 dlossQ:6.5927 exploreP:0.8204\n",
      "Episode:2 meanR:0.2467 R:0.0000 rate:0.0000 gloss:-18858.0332 dlossA:0.2535 dlossQ:20.1431 exploreP:0.7432\n",
      "Episode:3 meanR:0.1850 R:0.0000 rate:0.0000 gloss:-75870.5547 dlossA:0.5636 dlossQ:204.9388 exploreP:0.6734\n",
      "Episode:4 meanR:0.3120 R:0.8200 rate:0.0273 gloss:-486767.4062 dlossA:1.3853 dlossQ:1167.1914 exploreP:0.6102\n",
      "Episode:5 meanR:0.4000 R:0.8400 rate:0.0280 gloss:-710808.8750 dlossA:1.4197 dlossQ:642.4069 exploreP:0.5530\n",
      "Episode:6 meanR:0.3871 R:0.3100 rate:0.0103 gloss:-1676342.5000 dlossA:3.3548 dlossQ:6032.1714 exploreP:0.5013\n",
      "Episode:7 meanR:0.4175 R:0.6300 rate:0.0210 gloss:-3224989.5000 dlossA:4.2110 dlossQ:10904.8350 exploreP:0.4545\n",
      "Episode:8 meanR:0.4167 R:0.4100 rate:0.0137 gloss:-13316800.0000 dlossA:5.8433 dlossQ:41421.2305 exploreP:0.4121\n",
      "Episode:9 meanR:0.4310 R:0.5600 rate:0.0187 gloss:-23680170.0000 dlossA:7.6863 dlossQ:193402.8438 exploreP:0.3738\n",
      "Episode:10 meanR:0.4455 R:0.5900 rate:0.0197 gloss:-18485078.0000 dlossA:4.7821 dlossQ:13958.3936 exploreP:0.3392\n",
      "Episode:11 meanR:0.4583 R:0.6000 rate:0.0200 gloss:-19637544.0000 dlossA:7.4163 dlossQ:16381.8125 exploreP:0.3078\n",
      "Episode:12 meanR:0.4423 R:0.2500 rate:0.0083 gloss:-100166848.0000 dlossA:19.3541 dlossQ:596010.3125 exploreP:0.2795\n",
      "Episode:13 meanR:0.4843 R:1.0300 rate:0.0343 gloss:-183270768.0000 dlossA:11.1608 dlossQ:462267.8750 exploreP:0.2538\n",
      "Episode:14 meanR:0.4707 R:0.2800 rate:0.0093 gloss:-177850784.0000 dlossA:15.2241 dlossQ:220796.9062 exploreP:0.2306\n",
      "Episode:15 meanR:0.4800 R:0.6200 rate:0.0207 gloss:-360003872.0000 dlossA:59.2458 dlossQ:2007751.0000 exploreP:0.2096\n",
      "Episode:16 meanR:0.5259 R:1.2600 rate:0.0420 gloss:-476993984.0000 dlossA:46.2582 dlossQ:1215180.1250 exploreP:0.1905\n",
      "Episode:17 meanR:0.5389 R:0.7600 rate:0.0253 gloss:-557342464.0000 dlossA:30.3375 dlossQ:780778.5625 exploreP:0.1734\n",
      "Episode:18 meanR:0.5574 R:0.8900 rate:0.0297 gloss:-779248960.0000 dlossA:98.4131 dlossQ:3414820.2500 exploreP:0.1578\n",
      "Episode:19 meanR:0.5710 R:0.8300 rate:0.0277 gloss:-803917568.0000 dlossA:43.5963 dlossQ:919690.0000 exploreP:0.1437\n",
      "Episode:20 meanR:0.5662 R:0.4700 rate:0.0157 gloss:-861220288.0000 dlossA:118.2439 dlossQ:2964206.2500 exploreP:0.1310\n",
      "Episode:21 meanR:0.5805 R:0.8800 rate:0.0293 gloss:-1622576896.0000 dlossA:124.6705 dlossQ:7410090.5000 exploreP:0.1195\n",
      "Episode:22 meanR:0.5709 R:0.3600 rate:0.0120 gloss:-2051153664.0000 dlossA:133.9001 dlossQ:9935394.0000 exploreP:0.1090\n",
      "Episode:23 meanR:0.5825 R:0.8500 rate:0.0283 gloss:-9265251328.0000 dlossA:198.9075 dlossQ:287469120.0000 exploreP:0.0996\n",
      "Episode:24 meanR:0.5864 R:0.6800 rate:0.0227 gloss:-8478817792.0000 dlossA:89.0345 dlossQ:39897840.0000 exploreP:0.0911\n",
      "Episode:25 meanR:0.5719 R:0.2100 rate:0.0070 gloss:-7210465792.0000 dlossA:105.6906 dlossQ:23630070.0000 exploreP:0.0833\n",
      "Episode:26 meanR:0.6137 R:1.7000 rate:0.0567 gloss:-6915167232.0000 dlossA:112.8766 dlossQ:18959418.0000 exploreP:0.0764\n",
      "Episode:27 meanR:0.5996 R:0.2200 rate:0.0073 gloss:-7550576640.0000 dlossA:284.8672 dlossQ:41532524.0000 exploreP:0.0700\n",
      "Episode:28 meanR:0.6034 R:0.7100 rate:0.0237 gloss:-6966738432.0000 dlossA:191.9683 dlossQ:14877290.0000 exploreP:0.0643\n",
      "Episode:29 meanR:0.5863 R:0.0900 rate:0.0030 gloss:-7382332416.0000 dlossA:170.0321 dlossQ:12357854.0000 exploreP:0.0591\n",
      "Episode:30 meanR:0.6187 R:1.5900 rate:0.0530 gloss:-7481733632.0000 dlossA:197.4160 dlossQ:17695138.0000 exploreP:0.0545\n",
      "Episode:31 meanR:0.6050 R:0.1800 rate:0.0060 gloss:-11306008576.0000 dlossA:389.0960 dlossQ:50798992.0000 exploreP:0.0502\n",
      "Episode:32 meanR:0.5985 R:0.3900 rate:0.0130 gloss:-11044018176.0000 dlossA:380.0092 dlossQ:44344688.0000 exploreP:0.0464\n",
      "Episode:33 meanR:0.5947 R:0.4700 rate:0.0157 gloss:-16769927168.0000 dlossA:251.0576 dlossQ:44939116.0000 exploreP:0.0429\n",
      "Episode:34 meanR:0.5974 R:0.6900 rate:0.0230 gloss:-18048073728.0000 dlossA:260.4736 dlossQ:30420346.0000 exploreP:0.0398\n",
      "Episode:35 meanR:0.5875 R:0.2400 rate:0.0080 gloss:-14182671360.0000 dlossA:569.2169 dlossQ:78080400.0000 exploreP:0.0370\n",
      "Episode:36 meanR:0.6005 R:1.0700 rate:0.0357 gloss:-24850438144.0000 dlossA:374.4108 dlossQ:138794432.0000 exploreP:0.0344\n",
      "Episode:37 meanR:0.6016 R:0.6400 rate:0.0213 gloss:-22683461632.0000 dlossA:278.4116 dlossQ:37363876.0000 exploreP:0.0321\n",
      "Episode:38 meanR:0.6190 R:1.2800 rate:0.0427 gloss:-22915950592.0000 dlossA:600.8204 dlossQ:131614720.0000 exploreP:0.0300\n",
      "Episode:39 meanR:0.6082 R:0.1900 rate:0.0063 gloss:-40498290688.0000 dlossA:792.9999 dlossQ:230656592.0000 exploreP:0.0281\n",
      "Episode:40 meanR:0.5966 R:0.1300 rate:0.0043 gloss:-42605613056.0000 dlossA:627.4255 dlossQ:176548400.0000 exploreP:0.0263\n",
      "Episode:41 meanR:0.5926 R:0.4300 rate:0.0143 gloss:-40550625280.0000 dlossA:479.9057 dlossQ:82195496.0000 exploreP:0.0248\n",
      "Episode:42 meanR:0.5953 R:0.7100 rate:0.0237 gloss:-44332527616.0000 dlossA:716.7050 dlossQ:168001872.0000 exploreP:0.0234\n",
      "Episode:43 meanR:0.6195 R:1.6600 rate:0.0553 gloss:-73378349056.0000 dlossA:826.3077 dlossQ:633110464.0000 exploreP:0.0221\n",
      "Episode:44 meanR:0.6122 R:0.2900 rate:0.0097 gloss:-89212583936.0000 dlossA:1594.2502 dlossQ:1229810176.0000 exploreP:0.0209\n",
      "Episode:45 meanR:0.6061 R:0.3300 rate:0.0110 gloss:-101554651136.0000 dlossA:418.9550 dlossQ:367732704.0000 exploreP:0.0199\n",
      "Episode:46 meanR:0.6060 R:0.6000 rate:0.0200 gloss:-95004401664.0000 dlossA:1593.8206 dlossQ:813655040.0000 exploreP:0.0190\n",
      "Episode:47 meanR:0.6148 R:1.0300 rate:0.0343 gloss:-139330355200.0000 dlossA:659.9838 dlossQ:1131092864.0000 exploreP:0.0181\n",
      "Episode:48 meanR:0.6051 R:0.1400 rate:0.0047 gloss:-136055226368.0000 dlossA:708.7556 dlossQ:543116096.0000 exploreP:0.0173\n",
      "Episode:49 meanR:0.6166 R:1.1800 rate:0.0393 gloss:-131489390592.0000 dlossA:1256.5763 dlossQ:906709440.0000 exploreP:0.0166\n",
      "Episode:50 meanR:0.6112 R:0.3400 rate:0.0113 gloss:-144523526144.0000 dlossA:681.9605 dlossQ:574717120.0000 exploreP:0.0160\n",
      "Episode:51 meanR:0.6094 R:0.5200 rate:0.0173 gloss:-146294587392.0000 dlossA:1535.6986 dlossQ:1720267264.0000 exploreP:0.0154\n",
      "Episode:52 meanR:0.6130 R:0.8000 rate:0.0267 gloss:-213615689728.0000 dlossA:648.4294 dlossQ:938117248.0000 exploreP:0.0149\n",
      "Episode:53 meanR:0.6178 R:0.8700 rate:0.0290 gloss:-223780306944.0000 dlossA:1223.4611 dlossQ:1237275648.0000 exploreP:0.0144\n",
      "Episode:54 meanR:0.6124 R:0.3200 rate:0.0107 gloss:-198757892096.0000 dlossA:1766.7281 dlossQ:1848528896.0000 exploreP:0.0140\n",
      "Episode:55 meanR:0.6100 R:0.4800 rate:0.0160 gloss:-283542290432.0000 dlossA:815.2534 dlossQ:1157052032.0000 exploreP:0.0136\n",
      "Episode:56 meanR:0.6196 R:1.1600 rate:0.0387 gloss:-354157068288.0000 dlossA:1437.0122 dlossQ:2691772672.0000 exploreP:0.0133\n",
      "Episode:57 meanR:0.6134 R:0.2600 rate:0.0087 gloss:-416892092416.0000 dlossA:1609.9940 dlossQ:2947222784.0000 exploreP:0.0130\n",
      "Episode:58 meanR:0.6151 R:0.7100 rate:0.0237 gloss:-552847081472.0000 dlossA:2727.2566 dlossQ:6329187840.0000 exploreP:0.0127\n",
      "Episode:59 meanR:0.6133 R:0.5100 rate:0.0170 gloss:-461009780736.0000 dlossA:1805.1750 dlossQ:3275237632.0000 exploreP:0.0124\n",
      "Episode:60 meanR:0.6133 R:0.6100 rate:0.0203 gloss:-735193923584.0000 dlossA:1814.5872 dlossQ:37787660288.0000 exploreP:0.0122\n",
      "Episode:61 meanR:0.6066 R:0.2000 rate:0.0067 gloss:-1412503699456.0000 dlossA:4279.2900 dlossQ:61903904768.0000 exploreP:0.0120\n",
      "Episode:62 meanR:0.6044 R:0.4700 rate:0.0157 gloss:-854919413760.0000 dlossA:1574.3649 dlossQ:6312706048.0000 exploreP:0.0118\n",
      "Episode:63 meanR:0.6002 R:0.3300 rate:0.0110 gloss:-806314704896.0000 dlossA:3539.9783 dlossQ:10015614976.0000 exploreP:0.0116\n",
      "Episode:64 meanR:0.5949 R:0.2600 rate:0.0087 gloss:-1009383899136.0000 dlossA:1646.8503 dlossQ:8149518336.0000 exploreP:0.0115\n",
      "Episode:65 meanR:0.5880 R:0.1400 rate:0.0047 gloss:-882075959296.0000 dlossA:1727.3104 dlossQ:6609736192.0000 exploreP:0.0113\n",
      "Episode:66 meanR:0.5901 R:0.7300 rate:0.0243 gloss:-823441162240.0000 dlossA:4636.6729 dlossQ:17622542336.0000 exploreP:0.0112\n",
      "Episode:67 meanR:0.5860 R:0.3100 rate:0.0103 gloss:-746040393728.0000 dlossA:1567.7351 dlossQ:4423556096.0000 exploreP:0.0111\n"
     ]
    },
    {
     "name": "stdout",
     "output_type": "stream",
     "text": [
      "Episode:68 meanR:0.5867 R:0.6300 rate:0.0210 gloss:-652963610624.0000 dlossA:3518.1802 dlossQ:5258274304.0000 exploreP:0.0110\n",
      "Episode:69 meanR:0.5813 R:0.2100 rate:0.0070 gloss:-539048181760.0000 dlossA:1916.6689 dlossQ:2664715520.0000 exploreP:0.0109\n",
      "Episode:70 meanR:0.5754 R:0.1600 rate:0.0053 gloss:-575328092160.0000 dlossA:3686.7856 dlossQ:8401902080.0000 exploreP:0.0108\n",
      "Episode:71 meanR:0.5865 R:1.3800 rate:0.0460 gloss:-647510360064.0000 dlossA:3015.0962 dlossQ:8217395200.0000 exploreP:0.0107\n",
      "Episode:72 meanR:0.5836 R:0.3700 rate:0.0123 gloss:-615644135424.0000 dlossA:2730.6479 dlossQ:4502477312.0000 exploreP:0.0107\n",
      "Episode:73 meanR:0.5757 R:0.0000 rate:0.0000 gloss:-503513645056.0000 dlossA:2020.4854 dlossQ:1815625088.0000 exploreP:0.0106\n",
      "Episode:74 meanR:0.5719 R:0.2900 rate:0.0097 gloss:-385604583424.0000 dlossA:1872.5297 dlossQ:1256276608.0000 exploreP:0.0105\n",
      "Episode:75 meanR:0.5643 R:0.0000 rate:0.0000 gloss:-478232117248.0000 dlossA:6177.5884 dlossQ:9249180672.0000 exploreP:0.0105\n",
      "Episode:76 meanR:0.5579 R:0.0700 rate:0.0023 gloss:-631848304640.0000 dlossA:5331.4502 dlossQ:20588025856.0000 exploreP:0.0104\n",
      "Episode:77 meanR:0.5522 R:0.1100 rate:0.0037 gloss:-988954820608.0000 dlossA:2131.1621 dlossQ:9750470656.0000 exploreP:0.0104\n",
      "Episode:78 meanR:0.5462 R:0.0800 rate:0.0027 gloss:-1230998339584.0000 dlossA:2297.0474 dlossQ:12820256768.0000 exploreP:0.0104\n",
      "Episode:79 meanR:0.5416 R:0.1800 rate:0.0060 gloss:-1181067509760.0000 dlossA:2508.1584 dlossQ:10239383552.0000 exploreP:0.0103\n",
      "Episode:80 meanR:0.5375 R:0.2100 rate:0.0070 gloss:-966320979968.0000 dlossA:3301.9260 dlossQ:11553149952.0000 exploreP:0.0103\n",
      "Episode:81 meanR:0.5383 R:0.6000 rate:0.0200 gloss:-764441788416.0000 dlossA:4068.9856 dlossQ:9158431744.0000 exploreP:0.0103\n",
      "Episode:82 meanR:0.5371 R:0.4400 rate:0.0147 gloss:-740137566208.0000 dlossA:10896.4404 dlossQ:35260567552.0000 exploreP:0.0102\n",
      "Episode:83 meanR:0.5394 R:0.7300 rate:0.0243 gloss:-1932228689920.0000 dlossA:9338.9180 dlossQ:99294846976.0000 exploreP:0.0102\n",
      "Episode:84 meanR:0.5358 R:0.2300 rate:0.0077 gloss:-1673182183424.0000 dlossA:2991.9255 dlossQ:25171324928.0000 exploreP:0.0102\n",
      "Episode:85 meanR:0.5336 R:0.3500 rate:0.0117 gloss:-1681222533120.0000 dlossA:3810.2493 dlossQ:31730485248.0000 exploreP:0.0102\n",
      "Episode:86 meanR:0.5354 R:0.6900 rate:0.0230 gloss:-1410616262656.0000 dlossA:3495.3247 dlossQ:38223171584.0000 exploreP:0.0102\n",
      "Episode:87 meanR:0.5333 R:0.3500 rate:0.0117 gloss:-1227379703808.0000 dlossA:4445.3970 dlossQ:33040551936.0000 exploreP:0.0101\n",
      "Episode:88 meanR:0.5342 R:0.6100 rate:0.0203 gloss:-1264476487680.0000 dlossA:4001.3862 dlossQ:16615764992.0000 exploreP:0.0101\n",
      "Episode:89 meanR:0.5372 R:0.8100 rate:0.0270 gloss:-834980282368.0000 dlossA:3618.2866 dlossQ:7056785408.0000 exploreP:0.0101\n",
      "Episode:90 meanR:0.5327 R:0.1300 rate:0.0043 gloss:-1341155573760.0000 dlossA:9205.3906 dlossQ:313694060544.0000 exploreP:0.0101\n",
      "Episode:91 meanR:0.5329 R:0.5500 rate:0.0183 gloss:-1280005636096.0000 dlossA:5123.8413 dlossQ:30417364992.0000 exploreP:0.0101\n",
      "Episode:92 meanR:0.5305 R:0.3100 rate:0.0103 gloss:-1562007175168.0000 dlossA:3562.6519 dlossQ:17668024320.0000 exploreP:0.0101\n",
      "Episode:93 meanR:0.5404 R:1.4600 rate:0.0487 gloss:-993249525760.0000 dlossA:3638.9785 dlossQ:11481201664.0000 exploreP:0.0101\n",
      "Episode:94 meanR:0.5419 R:0.6800 rate:0.0227 gloss:-996273750016.0000 dlossA:14155.3613 dlossQ:117084168192.0000 exploreP:0.0101\n",
      "Episode:95 meanR:0.5383 R:0.2000 rate:0.0067 gloss:-1822768496640.0000 dlossA:4934.7876 dlossQ:63534882816.0000 exploreP:0.0101\n",
      "Episode:96 meanR:0.5359 R:0.3000 rate:0.0100 gloss:-2112364347392.0000 dlossA:5655.6191 dlossQ:65215127552.0000 exploreP:0.0101\n",
      "Episode:97 meanR:0.5393 R:0.8700 rate:0.0290 gloss:-1402569883648.0000 dlossA:4679.8921 dlossQ:29948348416.0000 exploreP:0.0101\n",
      "Episode:98 meanR:0.5421 R:0.8200 rate:0.0273 gloss:-1143655759872.0000 dlossA:6042.7344 dlossQ:34944663552.0000 exploreP:0.0100\n",
      "Episode:99 meanR:0.5373 R:0.0600 rate:0.0020 gloss:-1314108735488.0000 dlossA:9467.4082 dlossQ:62892032000.0000 exploreP:0.0100\n",
      "Episode:100 meanR:0.5464 R:0.9100 rate:0.0303 gloss:-1543967473664.0000 dlossA:7004.8237 dlossQ:51285446656.0000 exploreP:0.0100\n",
      "Episode:101 meanR:0.5428 R:0.3800 rate:0.0127 gloss:-1007019491328.0000 dlossA:4883.6562 dlossQ:16651887616.0000 exploreP:0.0100\n",
      "Episode:102 meanR:0.5453 R:0.2500 rate:0.0083 gloss:-840792932352.0000 dlossA:4338.4209 dlossQ:9922180096.0000 exploreP:0.0100\n",
      "Episode:103 meanR:0.5469 R:0.1600 rate:0.0053 gloss:-886574612480.0000 dlossA:17465.6328 dlossQ:123469742080.0000 exploreP:0.0100\n"
     ]
    }
   ],
   "source": [
    "# Save/load the model and save for plotting\n",
    "saver = tf.train.Saver()\n",
    "episode_rewards_list = [] # goal\n",
    "rewards_list, gloss_list, dlossA_list, dlossQ_list = [], [], [], []\n",
    "\n",
    "# TF session for training\n",
    "with tf.Session(graph=graph) as sess:\n",
    "    sess.run(tf.global_variables_initializer())\n",
    "    #saver.restore(sess, 'checkpoints/model.ckpt')    \n",
    "    #saver.restore(sess, tf.train.latest_checkpoint('checkpoints'))\n",
    "    total_step = 0 # Explore or exploit parameter\n",
    "    episode_reward = deque(maxlen=100) # 100 episodes average/running average/running mean/window\n",
    "\n",
    "    # Training episodes/epochs\n",
    "    for ep in range(1111):\n",
    "        gloss_batch, dlossA_batch, dlossQ_batch= [], [], []\n",
    "        #state = env.reset() # each episode\n",
    "        env_info = env.reset(train_mode=True)[brain_name]     # reset the environment    \n",
    "        state = env_info.vector_observations[0]                  # get the current state (for each agent)\n",
    "        num_step = 0 # each episode\n",
    "        total_reward = 0 # each episode\n",
    "\n",
    "        # Training steps/batches\n",
    "        while True:\n",
    "            # Explore (Env) or Exploit (Model)\n",
    "            total_step += 1\n",
    "            explore_p = explore_stop + (explore_start - explore_stop) * np.exp(-decay_rate * total_step) \n",
    "            if explore_p > np.random.rand():\n",
    "                #action = env.action_space.sample()\n",
    "                action = np.random.randn(num_agents, action_size) # select an action (for each agent)\n",
    "            else:\n",
    "                action = sess.run(model.actions_logits, feed_dict={model.states: state.reshape([1, -1])})\n",
    "            #next_state, reward, done, _ = env.step(action_clipped)\n",
    "            action_clipped = np.clip(action, -1, 1) # all actions between -1 and 1; for env\n",
    "            action_normed = (action_clipped+1)/2 # normalizing to 0-1; for training\n",
    "            env_info = env.step(action_clipped)[brain_name]           # send all actions to tne environment\n",
    "            next_state = env_info.vector_observations[0]         # get next state (for each agent)\n",
    "            reward = env_info.rewards[0]                         # get reward (for each agent)\n",
    "            done = env_info.local_done[0]                        # see if episode finished\n",
    "            memory.buffer.append([state, action_normed.reshape([-1]), next_state, reward, float(done), -1])\n",
    "            num_step += 1 # momory added\n",
    "            total_reward += reward\n",
    "            state = next_state\n",
    "            \n",
    "            # Rating the last played episode\n",
    "            if done is True:\n",
    "                rate = total_reward/30 # Goal-required rewards\n",
    "                rate_clipped = np.clip(rate, 0, 1)\n",
    "                for idx in range(num_step): # episode length\n",
    "                    if memory.buffer[-1-idx][-1] == -1:\n",
    "                        memory.buffer[-1-idx][-1] = rate_clipped\n",
    "            \n",
    "            # Training using a max rated batch\n",
    "            while True:\n",
    "                idx = np.random.choice(np.arange(memory_size// batch_size))\n",
    "                batch = np.array(memory.buffer)[idx*batch_size:(idx+1)*batch_size]\n",
    "                rates = np.array([each[5] for each in batch])\n",
    "                if (np.max(rates)*0.9) > 0: # non-rated data -1\n",
    "                    break\n",
    "            batch = batch[rates >= (np.max(rates)*0.9)]\n",
    "            states = np.array([each[0] for each in batch])\n",
    "            actions = np.array([each[1] for each in batch])\n",
    "            next_states = np.array([each[2] for each in batch])\n",
    "            rewards = np.array([each[3] for each in batch])\n",
    "            dones = np.array([each[4] for each in batch])\n",
    "            rates = np.array([each[5] for each in batch])            \n",
    "            #print(states.shape, actions.shape, next_states.shape, rewards.shape, dones.shape, rates.shape)\n",
    "            nextQs_logits = sess.run(model.Qs_logits, feed_dict = {model.states: next_states})\n",
    "            #nextQs = np.max(nextQs_logits, axis=1) * (1-dones) # DQN\n",
    "            nextQs = nextQs_logits.reshape([-1]) * (1-dones) # DPG\n",
    "            targetQs = rewards + (gamma * nextQs)\n",
    "            gloss, dlossA, dlossQ, _, _, _ = sess.run([model.g_loss, model.d_lossA, model.d_lossQ, \n",
    "                                                       model.g_opt, model.d_optA, model.d_optQ],\n",
    "                                                      feed_dict = {model.states: states, \n",
    "                                                                   model.actions: actions,\n",
    "                                                                   model.targetQs: targetQs, \n",
    "                                                                   model.rates: rates})\n",
    "            gloss_batch.append(gloss)\n",
    "            dlossA_batch.append(dlossA)\n",
    "            dlossQ_batch.append(dlossQ)\n",
    "            if done is True:\n",
    "                break\n",
    "                \n",
    "        episode_reward.append(total_reward)\n",
    "        print('Episode:{}'.format(ep),\n",
    "              'meanR:{:.4f}'.format(np.mean(episode_reward)),\n",
    "              'R:{:.4f}'.format(total_reward),\n",
    "              'rate:{:.4f}'.format(rate),\n",
    "              'gloss:{:.4f}'.format(np.mean(gloss_batch)),\n",
    "              'dlossA:{:.4f}'.format(np.mean(dlossA_batch)),\n",
    "              'dlossQ:{:.4f}'.format(np.mean(dlossQ_batch)),\n",
    "              'exploreP:{:.4f}'.format(explore_p))\n",
    "\n",
    "        # Ploting out\n",
    "        episode_rewards_list.append([ep, np.mean(episode_reward)])\n",
    "        rewards_list.append([ep, total_reward])\n",
    "        gloss_list.append([ep, np.mean(gloss_batch)])\n",
    "        dlossA_list.append([ep, np.mean(dlossA_batch)])\n",
    "        dlossQ_list.append([ep, np.mean(dlossQ_batch)])\n",
    "        \n",
    "        # Break episode/epoch loop\n",
    "        ## Option 1: Solve the First Version\n",
    "        #The task is episodic, and in order to solve the environment, \n",
    "        #your agent must get an average score of +30 over 100 consecutive episodes.\n",
    "        if np.mean(episode_reward) >= 30:\n",
    "            break\n",
    "            \n",
    "    # At the end of all training episodes/epochs\n",
    "    saver.save(sess, 'checkpoints/model.ckpt')"
   ]
  },
  {
   "cell_type": "code",
   "execution_count": null,
   "metadata": {},
   "outputs": [],
   "source": []
  },
  {
   "cell_type": "code",
   "execution_count": null,
   "metadata": {},
   "outputs": [],
   "source": []
  }
 ],
 "metadata": {
  "kernelspec": {
   "display_name": "Python 3",
   "language": "python",
   "name": "python3"
  },
  "language_info": {
   "codemirror_mode": {
    "name": "ipython",
    "version": 3
   },
   "file_extension": ".py",
   "mimetype": "text/x-python",
   "name": "python",
   "nbconvert_exporter": "python",
   "pygments_lexer": "ipython3",
   "version": "3.6.6"
  }
 },
 "nbformat": 4,
 "nbformat_minor": 2
}
