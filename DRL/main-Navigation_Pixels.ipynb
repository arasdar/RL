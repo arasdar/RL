{
 "cells": [
  {
   "cell_type": "markdown",
   "metadata": {},
   "source": [
    "# Navigation\n",
    "\n",
    "---\n",
    "\n",
    "Congratulations for completing the first project of the [Deep Reinforcement Learning Nanodegree](https://www.udacity.com/course/deep-reinforcement-learning-nanodegree--nd893)!  In this notebook, you will learn how to control an agent in a more challenging environment, where it can learn directly from raw pixels!  **Note that this exercise is optional!**\n",
    "\n",
    "### 1. Start the Environment\n",
    "\n",
    "We begin by importing some necessary packages.  If the code cell below returns an error, please revisit the project instructions to double-check that you have installed [Unity ML-Agents](https://github.com/Unity-Technologies/ml-agents/blob/master/docs/Installation.md) and [NumPy](http://www.numpy.org/)."
   ]
  },
  {
   "cell_type": "code",
   "execution_count": 1,
   "metadata": {},
   "outputs": [],
   "source": [
    "from unityagents import UnityEnvironment\n",
    "import numpy as np\n",
    "import matplotlib.pyplot as plt\n",
    "%matplotlib inline"
   ]
  },
  {
   "cell_type": "markdown",
   "metadata": {},
   "source": [
    "Next, we will start the environment!  **_Before running the code cell below_**, change the `file_name` parameter to match the location of the Unity environment that you downloaded.\n",
    "\n",
    "- **Mac**: `\"path/to/VisualBanana.app\"`\n",
    "- **Windows** (x86): `\"path/to/VisualBanana_Windows_x86/Banana.exe\"`\n",
    "- **Windows** (x86_64): `\"path/to/VisualBanana_Windows_x86_64/Banana.exe\"`\n",
    "- **Linux** (x86): `\"path/to/VisualBanana_Linux/Banana.x86\"`\n",
    "- **Linux** (x86_64): `\"path/to/VisualBanana_Linux/Banana.x86_64\"`\n",
    "- **Linux** (x86, headless): `\"path/to/VisualBanana_Linux_NoVis/Banana.x86\"`\n",
    "- **Linux** (x86_64, headless): `\"path/to/VisualBanana_Linux_NoVis/Banana.x86_64\"`\n",
    "\n",
    "For instance, if you are using a Mac, then you downloaded `VisualBanana.app`.  If this file is in the same folder as the notebook, then the line below should appear as follows:\n",
    "```\n",
    "env = UnityEnvironment(file_name=\"VisualBanana.app\")\n",
    "```"
   ]
  },
  {
   "cell_type": "code",
   "execution_count": 2,
   "metadata": {},
   "outputs": [
    {
     "name": "stderr",
     "output_type": "stream",
     "text": [
      "INFO:unityagents:\n",
      "'Academy' started successfully!\n",
      "Unity Academy name: Academy\n",
      "        Number of Brains: 1\n",
      "        Number of External Brains : 1\n",
      "        Lesson number : 0\n",
      "        Reset Parameters :\n",
      "\t\t\n",
      "Unity brain name: BananaBrain\n",
      "        Number of Visual Observations (per agent): 1\n",
      "        Vector Observation space type: continuous\n",
      "        Vector Observation space size (per agent): 0\n",
      "        Number of stacked Vector Observation: 1\n",
      "        Vector Action space type: discrete\n",
      "        Vector Action space size (per agent): 4\n",
      "        Vector Action descriptions: , , , \n"
     ]
    }
   ],
   "source": [
    "env = UnityEnvironment(file_name='/home/arasdar/VisualBanana_Linux/Banana.x86_64')"
   ]
  },
  {
   "cell_type": "markdown",
   "metadata": {},
   "source": [
    "Environments contain **_brains_** which are responsible for deciding the actions of their associated agents. Here we check for the first brain available, and set it as the default brain we will be controlling from Python."
   ]
  },
  {
   "cell_type": "code",
   "execution_count": 3,
   "metadata": {},
   "outputs": [],
   "source": [
    "# get the default brain\n",
    "brain_name = env.brain_names[0]\n",
    "brain = env.brains[brain_name]"
   ]
  },
  {
   "cell_type": "markdown",
   "metadata": {},
   "source": [
    "### 2. Examine the State and Action Spaces\n",
    "\n",
    "The simulation contains a single agent that navigates a large environment.  At each time step, it has four actions at its disposal:\n",
    "- `0` - walk forward \n",
    "- `1` - walk backward\n",
    "- `2` - turn left\n",
    "- `3` - turn right\n",
    "\n",
    "The environment state is an array of raw pixels with shape `(1, 84, 84, 3)`.  *Note that this code differs from the notebook for the project, where we are grabbing **`visual_observations`** (the raw pixels) instead of **`vector_observations`**.* A reward of `+1` is provided for collecting a yellow banana, and a reward of `-1` is provided for collecting a blue banana. \n",
    "\n",
    "Run the code cell below to print some information about the environment."
   ]
  },
  {
   "cell_type": "code",
   "execution_count": 4,
   "metadata": {},
   "outputs": [
    {
     "name": "stdout",
     "output_type": "stream",
     "text": [
      "Number of agents: 1\n",
      "Number of actions: 4\n",
      "States look like:\n"
     ]
    },
    {
     "data": {
      "image/png": "[encoded data removed]",
      "text/plain": [
       "<Figure size 432x288 with 1 Axes>"
      ]
     },
     "metadata": {},
     "output_type": "display_data"
    },
    {
     "name": "stdout",
     "output_type": "stream",
     "text": [
      "States have shape: (1, 84, 84, 3)\n"
     ]
    }
   ],
   "source": [
    "# reset the environment\n",
    "env_info = env.reset(train_mode=True)[brain_name]\n",
    "\n",
    "# number of agents in the environment\n",
    "print('Number of agents:', len(env_info.agents))\n",
    "\n",
    "# number of actions\n",
    "action_size = brain.vector_action_space_size\n",
    "print('Number of actions:', action_size)\n",
    "\n",
    "# examine the state space \n",
    "state = env_info.visual_observations[0]\n",
    "print('States look like:')\n",
    "plt.imshow(np.squeeze(state))\n",
    "plt.show()\n",
    "state_size = state.shape\n",
    "print('States have shape:', state.shape)"
   ]
  },
  {
   "cell_type": "markdown",
   "metadata": {},
   "source": [
    "### 3. Take Random Actions in the Environment\n",
    "\n",
    "In the next code cell, you will learn how to use the Python API to control the agent and receive feedback from the environment.\n",
    "\n",
    "Once this cell is executed, you will watch the agent's performance, if it selects an action (uniformly) at random with each time step.  A window should pop up that allows you to observe the agent, as it moves through the environment.  \n",
    "\n",
    "Of course, you'll have to change the code so that the agent is able to use its experience to gradually choose better actions when interacting with the environment!"
   ]
  },
  {
   "cell_type": "code",
   "execution_count": 5,
   "metadata": {},
   "outputs": [
    {
     "name": "stdout",
     "output_type": "stream",
     "text": [
      "Score: 1.0\n"
     ]
    }
   ],
   "source": [
    "env_info = env.reset(train_mode=False)[brain_name] # reset the environment\n",
    "state = env_info.visual_observations[0]            # get the current state\n",
    "score = 0                                          # initialize the score\n",
    "batch = []\n",
    "while True:\n",
    "    action = np.random.randint(action_size)        # select an action\n",
    "    env_info = env.step(action)[brain_name]        # send the action to the environment\n",
    "    next_state = env_info.visual_observations[0]   # get the next state\n",
    "    reward = env_info.rewards[0]                   # get the reward\n",
    "    done = env_info.local_done[0]                  # see if episode has finished\n",
    "    batch.append([state, action, reward, done])\n",
    "    score += reward                                # update the score\n",
    "    state = next_state                             # roll over the state to next time step\n",
    "    if done:                                       # exit loop if episode finished\n",
    "        break\n",
    "    \n",
    "print(\"Score: {}\".format(score))"
   ]
  },
  {
   "cell_type": "code",
   "execution_count": 6,
   "metadata": {},
   "outputs": [],
   "source": [
    "states = np.array([each[0] for each in batch])\n",
    "actions = np.array([each[1] for each in batch])\n",
    "rewards = np.array([each[2] for each in batch])\n",
    "dones = np.array([each[3] for each in batch])"
   ]
  },
  {
   "cell_type": "code",
   "execution_count": 7,
   "metadata": {},
   "outputs": [
    {
     "data": {
      "text/plain": [
       "((300, 1, 84, 84, 3), (300,), (300,), (300,))"
      ]
     },
     "execution_count": 7,
     "metadata": {},
     "output_type": "execute_result"
    }
   ],
   "source": [
    "states.shape, actions.shape, rewards.shape, dones.shape"
   ]
  },
  {
   "cell_type": "code",
   "execution_count": 8,
   "metadata": {},
   "outputs": [
    {
     "data": {
      "text/plain": [
       "(dtype('float64'), dtype('int64'), dtype('float64'), dtype('bool'))"
      ]
     },
     "execution_count": 8,
     "metadata": {},
     "output_type": "execute_result"
    }
   ],
   "source": [
    "states.dtype, actions.dtype, rewards.dtype, dones.dtype"
   ]
  },
  {
   "cell_type": "code",
   "execution_count": 9,
   "metadata": {},
   "outputs": [
    {
     "data": {
      "text/plain": [
       "array([0., 0., 0., 0., 0., 0., 0., 0., 0., 0., 0., 0., 0., 0., 0., 0., 0.,\n",
       "       0., 0., 0., 0., 0., 0., 0., 0., 0., 0., 0., 0., 0., 0., 0., 0., 0.,\n",
       "       0., 0., 0., 0., 0., 0., 0., 0., 0., 0., 0., 0., 0., 0., 0., 0., 0.,\n",
       "       0., 0., 0., 0., 0., 0., 0., 0., 0., 0., 0., 0., 0., 0., 0., 0., 0.,\n",
       "       0., 0., 0., 0., 0., 0., 0., 0., 0., 0., 0., 0., 0., 0., 0., 0., 0.,\n",
       "       0., 0., 0., 0., 0., 0., 0., 0., 0., 0., 0., 0., 0., 0., 0., 0., 0.,\n",
       "       0., 0., 0., 0., 0., 0., 0., 0., 0., 0., 0., 0., 0., 0., 0., 0., 0.,\n",
       "       0., 0., 0., 0., 0., 0., 0., 0., 0., 0., 0., 0., 0., 0., 0., 0., 0.,\n",
       "       0., 0., 0., 0., 0., 0., 0., 0., 0., 0., 0., 0., 0., 0., 0., 0., 0.,\n",
       "       0., 0., 0., 0., 0., 0., 0., 0., 0., 0., 0., 0., 0., 0., 0., 0., 0.,\n",
       "       0., 0., 0., 0., 0., 0., 0., 0., 0., 0., 0., 0., 0., 0., 0., 0., 0.,\n",
       "       0., 0., 0., 0., 0., 0., 0., 1., 0., 0., 0., 0., 0., 0., 0., 0., 0.,\n",
       "       0., 0., 0., 0., 0., 0., 0., 0., 0., 0., 0., 0., 0., 0., 0., 0., 0.,\n",
       "       0., 0., 0., 0., 0., 0., 0., 0., 0., 0., 0., 0., 0., 0., 0., 0., 0.,\n",
       "       0., 0., 0., 0., 0., 0., 0., 0., 0., 0., 0., 0., 0., 0., 0., 0., 0.,\n",
       "       0., 0., 0., 0., 0., 0., 0., 0., 0., 0., 0., 0., 0., 0., 0., 0., 0.,\n",
       "       0., 0., 0., 0., 0., 0., 0., 0., 0., 0., 0., 0., 0., 0., 0., 0., 0.,\n",
       "       0., 0., 0., 0., 0., 0., 0., 0., 0., 0., 0.])"
      ]
     },
     "execution_count": 9,
     "metadata": {},
     "output_type": "execute_result"
    }
   ],
   "source": [
    "rewards"
   ]
  },
  {
   "cell_type": "markdown",
   "metadata": {},
   "source": [
    "When finished, you can close the environment."
   ]
  },
  {
   "cell_type": "code",
   "execution_count": 10,
   "metadata": {},
   "outputs": [],
   "source": [
    "# env.close()"
   ]
  },
  {
   "cell_type": "markdown",
   "metadata": {},
   "source": [
    "### 4. It's Your Turn!\n",
    "\n",
    "Now it's your turn to train your own agent to solve the environment!  When training the environment, set `train_mode=True`, so that the line for resetting the environment looks like the following:\n",
    "```python\n",
    "env_info = env.reset(train_mode=True)[brain_name]\n",
    "```"
   ]
  },
  {
   "cell_type": "code",
   "execution_count": 11,
   "metadata": {},
   "outputs": [],
   "source": [
    "# batch[0]"
   ]
  },
  {
   "cell_type": "code",
   "execution_count": 12,
   "metadata": {},
   "outputs": [
    {
     "name": "stdout",
     "output_type": "stream",
     "text": [
      "Score: 0.0\n"
     ]
    }
   ],
   "source": [
    "env_info = env.reset(train_mode=True)[brain_name] # reset the environment\n",
    "#state = env_info.vector_observations[0]            # get the current state/ vector\n",
    "state = env_info.visual_observations[0]            # get the current state/ visual\n",
    "score = 0                                          # initialize the score\n",
    "while True:\n",
    "    action = np.random.randint(action_size)        # select an action\n",
    "    env_info = env.step(action)[brain_name]        # send the action to the environment\n",
    "    #next_state = env_info.vector_observations[0]   # get the next state\n",
    "    next_state = state = env_info.visual_observations[0]            # get the current state\n",
    "    reward = env_info.rewards[0]                   # get the reward\n",
    "    done = env_info.local_done[0]                  # see if episode has finished\n",
    "    score += reward                                # update the score\n",
    "    state = next_state                             # roll over the state to next time step\n",
    "    #print(state.shape)\n",
    "    if done:                                       # exit loop if episode finished\n",
    "        break\n",
    "    \n",
    "print(\"Score: {}\".format(score))"
   ]
  },
  {
   "cell_type": "code",
   "execution_count": 13,
   "metadata": {},
   "outputs": [
    {
     "name": "stdout",
     "output_type": "stream",
     "text": [
      "TensorFlow Version: 1.7.1\n",
      "Default GPU Device: \n"
     ]
    }
   ],
   "source": [
    "# In this one we should define and detect GPUs for tensorflow\n",
    "# GPUs or CPU\n",
    "import tensorflow as tf\n",
    "\n",
    "# Check TensorFlow Version\n",
    "print('TensorFlow Version: {}'.format(tf.__version__))\n",
    "\n",
    "# Check for a GPU\n",
    "print('Default GPU Device: {}'.format(tf.test.gpu_device_name()))"
   ]
  },
  {
   "cell_type": "code",
   "execution_count": 14,
   "metadata": {},
   "outputs": [],
   "source": [
    "env_info = env.reset(train_mode=True)[brain_name] # reset the environment\n",
    "#state = env_info.vector_observations[0]            # get the current state\n",
    "state = env_info.visual_observations[0]            # get the current state\n",
    "score = 0                                          # initialize the score\n",
    "batch = []\n",
    "while True: # infinite number of steps\n",
    "    action = np.random.randint(action_size)        # select an action\n",
    "    env_info = env.step(action)[brain_name]        # send the action to the environment\n",
    "    #next_state = env_info.vector_observations[0]   # get the next state\n",
    "    next_state = env_info.visual_observations[0]            # get the current state\n",
    "    reward = env_info.rewards[0]                   # get the reward\n",
    "    done = env_info.local_done[0]                  # see if episode has finished\n",
    "    score += reward                                # update the score\n",
    "    state = next_state                             # roll over the state to next time step\n",
    "    #print(state, action, reward, done)\n",
    "    batch.append([action, state, reward, done])\n",
    "    if done:                                       # exit loop if episode finished\n",
    "        break\n",
    "    \n",
    "# print(\"Score: {}\".format(score))"
   ]
  },
  {
   "cell_type": "code",
   "execution_count": 15,
   "metadata": {},
   "outputs": [
    {
     "data": {
      "text/plain": [
       "([3, array([[[[0.83921569, 0.7254902 , 0.59215686],\n",
       "           [0.83921569, 0.7254902 , 0.59215686],\n",
       "           [0.83921569, 0.7254902 , 0.59215686],\n",
       "           ...,\n",
       "           [0.83921569, 0.7254902 , 0.59215686],\n",
       "           [0.83921569, 0.7254902 , 0.59215686],\n",
       "           [0.83921569, 0.7254902 , 0.59215686]],\n",
       "  \n",
       "          [[0.83921569, 0.7254902 , 0.59215686],\n",
       "           [0.83921569, 0.7254902 , 0.59215686],\n",
       "           [0.83921569, 0.7254902 , 0.59215686],\n",
       "           ...,\n",
       "           [0.83921569, 0.7254902 , 0.59215686],\n",
       "           [0.83921569, 0.7254902 , 0.59215686],\n",
       "           [0.83921569, 0.7254902 , 0.59215686]],\n",
       "  \n",
       "          [[0.83921569, 0.7254902 , 0.59215686],\n",
       "           [0.83921569, 0.7254902 , 0.59215686],\n",
       "           [0.83921569, 0.7254902 , 0.59215686],\n",
       "           ...,\n",
       "           [0.83921569, 0.7254902 , 0.59215686],\n",
       "           [0.83921569, 0.7254902 , 0.59215686],\n",
       "           [0.83921569, 0.7254902 , 0.59215686]],\n",
       "  \n",
       "          ...,\n",
       "  \n",
       "          [[0.76862745, 0.72156863, 0.65882353],\n",
       "           [0.76862745, 0.72156863, 0.65882353],\n",
       "           [0.76862745, 0.72156863, 0.65882353],\n",
       "           ...,\n",
       "           [0.75686275, 0.70980392, 0.65490196],\n",
       "           [0.75686275, 0.70980392, 0.65490196],\n",
       "           [0.75686275, 0.70980392, 0.65490196]],\n",
       "  \n",
       "          [[0.76862745, 0.72156863, 0.65882353],\n",
       "           [0.76862745, 0.72156863, 0.65882353],\n",
       "           [0.76862745, 0.72156863, 0.65882353],\n",
       "           ...,\n",
       "           [0.75686275, 0.70980392, 0.65490196],\n",
       "           [0.75686275, 0.70980392, 0.65490196],\n",
       "           [0.75686275, 0.70980392, 0.65490196]],\n",
       "  \n",
       "          [[0.76862745, 0.72156863, 0.65882353],\n",
       "           [0.76862745, 0.72156863, 0.65882353],\n",
       "           [0.76862745, 0.72156863, 0.65882353],\n",
       "           ...,\n",
       "           [0.75686275, 0.70980392, 0.65490196],\n",
       "           [0.75686275, 0.70980392, 0.65490196],\n",
       "           [0.75686275, 0.70980392, 0.65490196]]]]), 0.0, False],\n",
       " (1, 84, 84, 3))"
      ]
     },
     "execution_count": 15,
     "metadata": {},
     "output_type": "execute_result"
    }
   ],
   "source": [
    "batch[0], batch[0][1].shape"
   ]
  },
  {
   "cell_type": "code",
   "execution_count": 16,
   "metadata": {},
   "outputs": [
    {
     "data": {
      "text/plain": [
       "(1, 84, 84, 3)"
      ]
     },
     "execution_count": 16,
     "metadata": {},
     "output_type": "execute_result"
    }
   ],
   "source": [
    "batch[0][1].shape"
   ]
  },
  {
   "cell_type": "code",
   "execution_count": 17,
   "metadata": {},
   "outputs": [
    {
     "data": {
      "text/plain": [
       "[3, array([[[[0.83921569, 0.7254902 , 0.59215686],\n",
       "          [0.83921569, 0.7254902 , 0.59215686],\n",
       "          [0.83921569, 0.7254902 , 0.59215686],\n",
       "          ...,\n",
       "          [0.83921569, 0.7254902 , 0.59215686],\n",
       "          [0.83921569, 0.7254902 , 0.59215686],\n",
       "          [0.83921569, 0.7254902 , 0.59215686]],\n",
       " \n",
       "         [[0.83921569, 0.7254902 , 0.59215686],\n",
       "          [0.83921569, 0.7254902 , 0.59215686],\n",
       "          [0.83921569, 0.7254902 , 0.59215686],\n",
       "          ...,\n",
       "          [0.83921569, 0.7254902 , 0.59215686],\n",
       "          [0.83921569, 0.7254902 , 0.59215686],\n",
       "          [0.83921569, 0.7254902 , 0.59215686]],\n",
       " \n",
       "         [[0.83921569, 0.7254902 , 0.59215686],\n",
       "          [0.83921569, 0.7254902 , 0.59215686],\n",
       "          [0.83921569, 0.7254902 , 0.59215686],\n",
       "          ...,\n",
       "          [0.83921569, 0.7254902 , 0.59215686],\n",
       "          [0.83921569, 0.7254902 , 0.59215686],\n",
       "          [0.83921569, 0.7254902 , 0.59215686]],\n",
       " \n",
       "         ...,\n",
       " \n",
       "         [[0.76862745, 0.72156863, 0.65882353],\n",
       "          [0.76862745, 0.72156863, 0.65882353],\n",
       "          [0.76862745, 0.72156863, 0.65882353],\n",
       "          ...,\n",
       "          [0.75686275, 0.70980392, 0.65490196],\n",
       "          [0.75686275, 0.70980392, 0.65490196],\n",
       "          [0.75686275, 0.70980392, 0.65490196]],\n",
       " \n",
       "         [[0.76862745, 0.72156863, 0.65882353],\n",
       "          [0.76862745, 0.72156863, 0.65882353],\n",
       "          [0.76862745, 0.72156863, 0.65882353],\n",
       "          ...,\n",
       "          [0.75686275, 0.70980392, 0.65490196],\n",
       "          [0.75686275, 0.70980392, 0.65490196],\n",
       "          [0.75686275, 0.70980392, 0.65490196]],\n",
       " \n",
       "         [[0.76862745, 0.72156863, 0.65882353],\n",
       "          [0.76862745, 0.72156863, 0.65882353],\n",
       "          [0.76862745, 0.72156863, 0.65882353],\n",
       "          ...,\n",
       "          [0.75686275, 0.70980392, 0.65490196],\n",
       "          [0.75686275, 0.70980392, 0.65490196],\n",
       "          [0.75686275, 0.70980392, 0.65490196]]]]), 0.0, False]"
      ]
     },
     "execution_count": 17,
     "metadata": {},
     "output_type": "execute_result"
    }
   ],
   "source": [
    "batch[0]"
   ]
  },
  {
   "cell_type": "code",
   "execution_count": 18,
   "metadata": {},
   "outputs": [],
   "source": [
    "actions = np.array([each[0] for each in batch])\n",
    "states = np.array([each[1] for each in batch])\n",
    "rewards = np.array([each[2] for each in batch])\n",
    "dones = np.array([each[3] for each in batch])\n",
    "# infos = np.array([each[4] for each in batch])"
   ]
  },
  {
   "cell_type": "code",
   "execution_count": 19,
   "metadata": {},
   "outputs": [
    {
     "name": "stdout",
     "output_type": "stream",
     "text": [
      "[0. 0. 0. 0. 0. 0. 0. 0. 0. 0. 0. 0. 0. 0. 0. 0. 0. 0. 0. 0. 0. 0. 0. 0.\n",
      " 0. 0. 0. 0. 0. 0. 0. 0. 0. 0. 0. 0. 0. 0. 0. 0. 0. 0. 0. 0. 0. 0. 0. 0.\n",
      " 0. 0. 0. 0. 0. 0. 0. 0. 0. 0. 0. 0. 0. 0. 0. 0. 0. 0. 0. 0. 0. 0. 0. 0.\n",
      " 0. 0. 0. 0. 0. 0. 0. 0. 0. 0. 0. 0. 0. 0. 0. 0. 0. 0. 0. 0. 0. 0. 0. 0.\n",
      " 0. 0. 0. 0. 0. 0. 0. 0. 0. 0. 0. 0. 0. 0. 0. 0. 0. 0. 0. 0. 0. 0. 0. 0.\n",
      " 0. 0. 0. 0. 0. 0. 0. 0. 0. 0. 0. 0. 0. 0. 0. 0. 1. 0. 0. 0. 0. 0. 0. 0.\n",
      " 0. 0. 0. 0. 0. 0. 0. 0. 0. 0. 0. 0. 0. 0. 0. 0. 0. 0. 0. 0. 0. 0. 0. 0.\n",
      " 0. 0. 0. 0. 0. 0. 0. 0. 0. 0. 0. 0. 0. 0. 0. 0. 0. 0. 0. 0. 0. 0. 0. 0.\n",
      " 0. 0. 0. 0. 0. 0. 0. 0. 0. 0. 0. 0. 0. 0. 0. 0. 0. 0. 0. 0. 0. 0. 0. 0.\n",
      " 0. 0. 0. 0. 0. 0. 0. 0. 0. 0. 0. 1. 0. 0. 0. 0. 0. 0. 0. 0. 0. 0. 0. 0.\n",
      " 0. 0. 0. 0. 0. 0. 0. 0. 0. 0. 0. 0. 0. 0. 0. 0. 0. 0. 0. 0. 0. 0. 0. 0.\n",
      " 0. 0. 0. 0. 0. 0. 0. 0. 0. 0. 0. 0. 0. 0. 0. 0. 0. 0. 0. 0. 0. 0. 0. 0.\n",
      " 0. 0. 0. 0. 0. 0. 0. 0. 0. 0. 0. 0.]\n",
      "(300,) (300, 1, 84, 84, 3) (300,) (300,)\n",
      "float64 float64 int64 bool\n",
      "3 0\n",
      "4\n",
      "1.0 0.0\n",
      "1.0 0.0\n"
     ]
    }
   ],
   "source": [
    "print(rewards[:])\n",
    "print(np.array(rewards).shape, np.array(states).shape, np.array(actions).shape, np.array(dones).shape)\n",
    "print(np.array(rewards).dtype, np.array(states).dtype, np.array(actions).dtype, np.array(dones).dtype)\n",
    "print(np.max(np.array(actions)), np.min(np.array(actions)))\n",
    "print((np.max(np.array(actions)) - np.min(np.array(actions)))+1)\n",
    "print(np.max(np.array(rewards)), np.min(np.array(rewards)))\n",
    "print(np.max(np.array(states)), np.min(np.array(states)))"
   ]
  },
  {
   "cell_type": "code",
   "execution_count": 20,
   "metadata": {},
   "outputs": [],
   "source": [
    "def model_input(state_size):\n",
    "    states = tf.placeholder(tf.float32, [None, *state_size], name='states')\n",
    "    actions = tf.placeholder(tf.int32, [None], name='actions')\n",
    "    targetQs = tf.placeholder(tf.float32, [None], name='targetQs')\n",
    "    return states, actions, targetQs"
   ]
  },
  {
   "cell_type": "code",
   "execution_count": 21,
   "metadata": {},
   "outputs": [],
   "source": [
    "# # Has to be convolutional!\n",
    "# # Generator: Generating/prediting the actions\n",
    "# def generator(states, action_size, hidden_size, reuse=False, alpha=0.1, training=False):\n",
    "#     with tf.variable_scope('generator', reuse=reuse):\n",
    "#         # First fully connected layer\n",
    "#         h1 = tf.layers.dense(inputs=states, units=hidden_size)\n",
    "#         bn1 = tf.layers.batch_normalization(h1, training=training)        \n",
    "#         nl1 = tf.maximum(alpha * bn1, bn1)\n",
    "        \n",
    "#         # Second fully connected layer\n",
    "#         h2 = tf.layers.dense(inputs=nl1, units=hidden_size)\n",
    "#         bn2 = tf.layers.batch_normalization(h2, training=training)        \n",
    "#         nl2 = tf.maximum(alpha * bn2, bn2)\n",
    "        \n",
    "#         # Output layer\n",
    "#         logits = tf.layers.dense(inputs=nl2, units=action_size)        \n",
    "#         #predictions = tf.nn.softmax(logits)\n",
    "\n",
    "#         # return actions logits\n",
    "#         return logits"
   ]
  },
  {
   "cell_type": "code",
   "execution_count": 22,
   "metadata": {},
   "outputs": [],
   "source": [
    "# tf.layers.conv2d(\n",
    "#     inputs, ----------\n",
    "#     filters, -------------\n",
    "#     kernel_size, ------------\n",
    "#     strides=(1, 1), ---------------\n",
    "#     padding='valid', ------------\n",
    "#     data_format='channels_last', -------------> NHWC and not NCHW\n",
    "#     dilation_rate=(1, 1), -------------------\n",
    "#     activation=None,\n",
    "#     use_bias=True, ------------------\n",
    "#     kernel_initializer=None,\n",
    "#     bias_initializer=tf.zeros_initializer(), ------------------\n",
    "#     kernel_regularizer=None,\n",
    "#     bias_regularizer=None,\n",
    "#     activity_regularizer=None,\n",
    "#     kernel_constraint=None,\n",
    "#     bias_constraint=None,\n",
    "#     trainable=True, ---------------------\n",
    "#     name=None,\n",
    "#     reuse=None\n",
    "# )"
   ]
  },
  {
   "cell_type": "code",
   "execution_count": 23,
   "metadata": {},
   "outputs": [],
   "source": [
    "def generator(states, action_size, reuse=False, alpha=0.1, training=True):\n",
    "    with tf.variable_scope('generator', reuse=reuse):\n",
    "        # (300, 1, 84, 84, 3)\n",
    "        inputs_conv = tf.reshape(states, [-1, 84, 84, 3])\n",
    "        print(states.shape, inputs_conv.shape)\n",
    "        \n",
    "        # Input layer is 32x32x3--> (84, 84, 3)\n",
    "        h1 = tf.layers.conv2d(inputs=inputs_conv, filters=8, kernel_size=5, strides=2, padding='same')\n",
    "        bn1 = tf.layers.batch_normalization(h1, training=training)\n",
    "        nl1 = tf.maximum(alpha * bn1, bn1)\n",
    "        print(inputs_conv.shape, nl1.shape)\n",
    "        # 16x16x64--> (42, 42, 64)\n",
    "        h2 = tf.layers.conv2d(inputs=nl1, filters=16, kernel_size=5, strides=2, padding='same')\n",
    "        bn2 = tf.layers.batch_normalization(h2, training=training)\n",
    "        nl2 = tf.maximum(alpha * bn2, bn2)\n",
    "        print(nl1.shape, nl2.shape)\n",
    "        # 8x8x128--> (21, 21, 128)        \n",
    "        h3 = tf.layers.conv2d(inputs=nl2, filters=32, kernel_size=6, strides=1, padding='valid')\n",
    "        bn3 = tf.layers.batch_normalization(h3, training=training)\n",
    "        nl3 = tf.maximum(alpha * bn3, bn3)\n",
    "        print(nl2.shape, nl3.shape)\n",
    "        # 4x4x256--> (16, 16, 256)\n",
    "        h4 = tf.layers.conv2d(inputs=nl3, filters=64, kernel_size=5, strides=2, padding='same')\n",
    "        bn4 = tf.layers.batch_normalization(h4, training=training)\n",
    "        nl4 = tf.maximum(alpha * bn4, bn4)\n",
    "        print(nl3.shape, nl4.shape)\n",
    "        # 4x4x256--> (8, 8, 512)\n",
    "\n",
    "        # Flatten it\n",
    "        inputs_fc = tf.reshape(tensor=nl4, shape=[-1, 8*8*64])\n",
    "        print(nl4.shape, inputs_fc.shape)\n",
    "        \n",
    "        # First fully connected layer\n",
    "        h1 = tf.layers.dense(inputs=inputs_fc, units=8*8*64*2)\n",
    "        bn1 = tf.layers.batch_normalization(h1, training=training)        \n",
    "        nl1 = tf.maximum(alpha * bn1, bn1)\n",
    "        print(inputs_fc.shape, nl1.shape)\n",
    "        \n",
    "        # Second fully connected layer\n",
    "        h2 = tf.layers.dense(inputs=nl1, units=8*8*64*2)\n",
    "        bn2 = tf.layers.batch_normalization(h2, training=training)        \n",
    "        nl2 = tf.maximum(alpha * bn2, bn2)\n",
    "        print(nl1.shape, nl2.shape)\n",
    "        \n",
    "        # Output layer\n",
    "        logits = tf.layers.dense(inputs=nl2, units=action_size)        \n",
    "        #predictions = tf.nn.softmax(logits)\n",
    "        print(nl2.shape, logits.shape)\n",
    "        return logits"
   ]
  },
  {
   "cell_type": "code",
   "execution_count": 24,
   "metadata": {},
   "outputs": [],
   "source": [
    "def model_loss(actions, states, targetQs, action_size): \n",
    "    actions_logits = generator(states=states, action_size=action_size)\n",
    "    actions_labels = tf.one_hot(indices=actions, depth=action_size, dtype=actions_logits.dtype)\n",
    "    Qs = tf.reduce_max(actions_logits*actions_labels, axis=1)\n",
    "    loss = tf.reduce_mean(tf.square(Qs - targetQs))\n",
    "    return actions_logits, loss"
   ]
  },
  {
   "cell_type": "code",
   "execution_count": 25,
   "metadata": {},
   "outputs": [],
   "source": [
    "def model_opt(loss, learning_rate):\n",
    "    # Get weights and bias to update\n",
    "    t_vars = tf.trainable_variables()\n",
    "    g_vars = [var for var in t_vars if var.name.startswith('generator')]\n",
    "\n",
    "    # Optimize\n",
    "    with tf.control_dependencies(tf.get_collection(tf.GraphKeys.UPDATE_OPS)): # Required for batchnorm (BN)\n",
    "        opt = tf.train.AdamOptimizer(learning_rate).minimize(loss, var_list=g_vars)\n",
    "\n",
    "    return opt"
   ]
  },
  {
   "cell_type": "code",
   "execution_count": 26,
   "metadata": {},
   "outputs": [],
   "source": [
    "class Model:\n",
    "    def __init__(self, state_size, action_size, learning_rate):\n",
    "\n",
    "        # Data of the Model: make the data available inside the framework\n",
    "        self.states, self.actions, self.targetQs = model_input(state_size=state_size)\n",
    "\n",
    "        # Create the Model: calculating the loss and forwad pass\n",
    "        self.actions_logits, self.loss = model_loss(\n",
    "            action_size=action_size, states=self.states, actions=self.actions, targetQs=self.targetQs)\n",
    "\n",
    "        # Update the model: backward pass and backprop\n",
    "        self.opt = model_opt(loss=self.loss, learning_rate=learning_rate)"
   ]
  },
  {
   "cell_type": "code",
   "execution_count": 27,
   "metadata": {},
   "outputs": [],
   "source": [
    "from collections import deque\n",
    "class Memory():\n",
    "    def __init__(self, max_size = 1000):\n",
    "        self.buffer = deque(maxlen=max_size)\n",
    "    def sample(self, batch_size):\n",
    "        idx = np.random.choice(np.arange(len(self.buffer)), \n",
    "                               size=batch_size, \n",
    "                               replace=False)\n",
    "        return [self.buffer[ii] for ii in idx]"
   ]
  },
  {
   "cell_type": "code",
   "execution_count": 28,
   "metadata": {},
   "outputs": [
    {
     "name": "stdout",
     "output_type": "stream",
     "text": [
      "state size:(300, 1, 84, 84, 3) actions:(300,)\n",
      "4\n"
     ]
    }
   ],
   "source": [
    "print('state size:{}'.format(states.shape), \n",
    "      'actions:{}'.format(actions.shape)) \n",
    "print(np.max(actions) - np.min(actions)+1)"
   ]
  },
  {
   "cell_type": "code",
   "execution_count": 29,
   "metadata": {},
   "outputs": [],
   "source": [
    "state_size_ = (84, 84, 3)"
   ]
  },
  {
   "cell_type": "code",
   "execution_count": 30,
   "metadata": {},
   "outputs": [
    {
     "data": {
      "text/plain": [
       "(84, 84, 3)"
      ]
     },
     "execution_count": 30,
     "metadata": {},
     "output_type": "execute_result"
    }
   ],
   "source": [
    "state_size_"
   ]
  },
  {
   "cell_type": "code",
   "execution_count": 31,
   "metadata": {},
   "outputs": [],
   "source": [
    "# Exploration parameters\n",
    "explore_start = 1.0            # exploration probability at start\n",
    "explore_stop = 0.01            # minimum exploration probability \n",
    "decay_rate = 0.0001            # exponential decay rate for exploration prob\n",
    "\n",
    "# Network parameters\n",
    "action_size = 4\n",
    "# state_size = 37\n",
    "state_size_ = (84, 84, 3)\n",
    "# hidden_size = 37*4             # number of units in each Q-network hidden layer\n",
    "learning_rate = 0.0001         # Q-network learning rate\n",
    "\n",
    "# Memory parameters\n",
    "memory_size = 10000            # memory capacity\n",
    "batch_size = 20                # experience mini-batch size\n",
    "gamma = 0.99                   # future reward discount"
   ]
  },
  {
   "cell_type": "code",
   "execution_count": 32,
   "metadata": {},
   "outputs": [
    {
     "name": "stdout",
     "output_type": "stream",
     "text": [
      "(?, 1, 84, 84, 3) (?, 84, 84, 3)\n",
      "(?, 84, 84, 3) (?, 42, 42, 8)\n",
      "(?, 42, 42, 8) (?, 21, 21, 16)\n",
      "(?, 21, 21, 16) (?, 16, 16, 32)\n",
      "(?, 16, 16, 32) (?, 8, 8, 64)\n",
      "(?, 8, 8, 64) (?, 4096)\n",
      "(?, 4096) (?, 8192)\n",
      "(?, 8192) (?, 8192)\n",
      "(?, 8192) (?, 4)\n"
     ]
    }
   ],
   "source": [
    "# Reset/init the graph/session\n",
    "graph = tf.reset_default_graph()\n",
    "\n",
    "# Init the model\n",
    "model = Model(action_size=action_size, state_size=state_size, learning_rate=learning_rate)\n",
    "\n",
    "# Init the memory\n",
    "memory = Memory(max_size=memory_size)"
   ]
  },
  {
   "cell_type": "code",
   "execution_count": 34,
   "metadata": {},
   "outputs": [],
   "source": [
    "env_info = env.reset(train_mode=True)[brain_name] # reset the environment\n",
    "# state = env_info.vector_observations[0]   # get the state\n",
    "state = env_info.visual_observations[0]   # get the state\n",
    "for _ in range(memory_size):\n",
    "    action = np.random.randint(action_size)        # select an action\n",
    "    env_info = env.step(action)[brain_name]        # send the action to the environment\n",
    "    #next_state = env_info.vector_observations[0]   # get the next state\n",
    "    next_state = env_info.visual_observations[0]   # get the state\n",
    "    reward = env_info.rewards[0]                   # get the reward\n",
    "    done = env_info.local_done[0]                  # see if episode has finished\n",
    "    memory.buffer.append([state, action, next_state, reward, float(done)])\n",
    "    state = next_state\n",
    "    if done:                                       # exit loop if episode finished\n",
    "        env_info = env.reset(train_mode=True)[brain_name] # reset the environment\n",
    "        #state = env_info.vector_observations[0]   # get the state\n",
    "        state = env_info.visual_observations[0]   # get the state\n",
    "        break"
   ]
  },
  {
   "cell_type": "code",
   "execution_count": 35,
   "metadata": {},
   "outputs": [
    {
     "data": {
      "text/plain": [
       "((1, 84, 84, 3), array([ 1,  2,  1, 84, 84,  3]), array([ 1, 84, 84,  3]), 1)"
      ]
     },
     "execution_count": 35,
     "metadata": {},
     "output_type": "execute_result"
    }
   ],
   "source": [
    "state_size, np.array([1, 2, *state_size]), np.array([*state_size]), state_size[0]"
   ]
  },
  {
   "cell_type": "code",
   "execution_count": null,
   "metadata": {},
   "outputs": [
    {
     "name": "stdout",
     "output_type": "stream",
     "text": [
      "Episode:0 meanR:1.0000 R:1.0 loss:248.8413 exploreP:0.9707\n",
      "Episode:1 meanR:0.5000 R:0.0 loss:98.5150 exploreP:0.9423\n",
      "Episode:2 meanR:1.0000 R:2.0 loss:138.5586 exploreP:0.9148\n",
      "Episode:3 meanR:1.2500 R:2.0 loss:116.3516 exploreP:0.8881\n",
      "Episode:4 meanR:1.2000 R:1.0 loss:96.4441 exploreP:0.8621\n",
      "Episode:5 meanR:1.1667 R:1.0 loss:141.9816 exploreP:0.8369\n",
      "Episode:6 meanR:0.8571 R:-1.0 loss:140.2749 exploreP:0.8125\n",
      "Episode:7 meanR:0.7500 R:0.0 loss:250.7949 exploreP:0.7888\n",
      "Episode:8 meanR:0.6667 R:0.0 loss:225.4265 exploreP:0.7657\n",
      "Episode:9 meanR:0.6000 R:0.0 loss:367.4743 exploreP:0.7434\n",
      "Episode:10 meanR:0.5455 R:0.0 loss:217.8782 exploreP:0.7217\n",
      "Episode:11 meanR:0.5000 R:0.0 loss:167.7113 exploreP:0.7007\n",
      "Episode:12 meanR:0.5385 R:1.0 loss:248.5802 exploreP:0.6803\n",
      "Episode:13 meanR:0.4286 R:-1.0 loss:188.7454 exploreP:0.6605\n",
      "Episode:14 meanR:0.4000 R:0.0 loss:217.7022 exploreP:0.6413\n",
      "Episode:15 meanR:0.3750 R:0.0 loss:309.3282 exploreP:0.6226\n",
      "Episode:16 meanR:0.3529 R:0.0 loss:303.2146 exploreP:0.6045\n",
      "Episode:17 meanR:0.3333 R:0.0 loss:536.7278 exploreP:0.5869\n",
      "Episode:18 meanR:0.3684 R:1.0 loss:287.9916 exploreP:0.5699\n",
      "Episode:19 meanR:0.2000 R:-3.0 loss:206.4697 exploreP:0.5533\n",
      "Episode:20 meanR:0.1429 R:-1.0 loss:340.8331 exploreP:0.5373\n",
      "Episode:21 meanR:0.0455 R:-2.0 loss:262.6482 exploreP:0.5217\n",
      "Episode:22 meanR:0.0000 R:-1.0 loss:232.6121 exploreP:0.5066\n",
      "Episode:23 meanR:0.0417 R:1.0 loss:314.1636 exploreP:0.4919\n",
      "Episode:24 meanR:0.0400 R:0.0 loss:289.1122 exploreP:0.4776\n",
      "Episode:25 meanR:0.0769 R:1.0 loss:279.3121 exploreP:0.4638\n",
      "Episode:26 meanR:0.0370 R:-1.0 loss:198.2897 exploreP:0.4504\n",
      "Episode:27 meanR:0.0357 R:0.0 loss:297.1993 exploreP:0.4374\n",
      "Episode:28 meanR:0.0000 R:-1.0 loss:236.6259 exploreP:0.4248\n",
      "Episode:29 meanR:0.0667 R:2.0 loss:277.2083 exploreP:0.4125\n",
      "Episode:30 meanR:0.0000 R:-2.0 loss:245.0772 exploreP:0.4006\n",
      "Episode:31 meanR:0.0312 R:1.0 loss:167.4213 exploreP:0.3891\n",
      "Episode:32 meanR:0.0000 R:-1.0 loss:207.3603 exploreP:0.3779\n",
      "Episode:33 meanR:0.0000 R:0.0 loss:198.2442 exploreP:0.3670\n",
      "Episode:34 meanR:0.0000 R:0.0 loss:250.9612 exploreP:0.3564\n",
      "Episode:35 meanR:-0.0278 R:-1.0 loss:175.2073 exploreP:0.3462\n",
      "Episode:36 meanR:-0.0270 R:0.0 loss:195.2734 exploreP:0.3363\n",
      "Episode:37 meanR:0.0000 R:1.0 loss:157.7284 exploreP:0.3266\n",
      "Episode:38 meanR:0.0000 R:0.0 loss:171.5765 exploreP:0.3173\n",
      "Episode:39 meanR:-0.0250 R:-1.0 loss:182.5426 exploreP:0.3082\n",
      "Episode:40 meanR:-0.0488 R:-1.0 loss:261.9396 exploreP:0.2994\n",
      "Episode:41 meanR:-0.0714 R:-1.0 loss:252.9001 exploreP:0.2908\n",
      "Episode:42 meanR:-0.0465 R:1.0 loss:248.9527 exploreP:0.2825\n",
      "Episode:43 meanR:-0.0227 R:1.0 loss:245.7418 exploreP:0.2745\n",
      "Episode:44 meanR:-0.0444 R:-1.0 loss:227.4993 exploreP:0.2666\n",
      "Episode:45 meanR:-0.0217 R:1.0 loss:217.3096 exploreP:0.2591\n",
      "Episode:46 meanR:-0.0213 R:0.0 loss:207.9781 exploreP:0.2517\n",
      "Episode:47 meanR:-0.0417 R:-1.0 loss:194.1128 exploreP:0.2446\n",
      "Episode:48 meanR:-0.0408 R:0.0 loss:253.4826 exploreP:0.2376\n",
      "Episode:49 meanR:-0.0400 R:0.0 loss:186.0840 exploreP:0.2309\n",
      "Episode:50 meanR:-0.0196 R:1.0 loss:212.3565 exploreP:0.2244\n",
      "Episode:51 meanR:-0.0192 R:0.0 loss:215.7902 exploreP:0.2180\n",
      "Episode:52 meanR:-0.0189 R:0.0 loss:259.2079 exploreP:0.2119\n",
      "Episode:53 meanR:-0.0185 R:0.0 loss:224.5700 exploreP:0.2059\n",
      "Episode:54 meanR:-0.0182 R:0.0 loss:243.9743 exploreP:0.2001\n",
      "Episode:55 meanR:-0.0179 R:0.0 loss:241.2746 exploreP:0.1945\n",
      "Episode:56 meanR:-0.0351 R:-1.0 loss:283.8239 exploreP:0.1891\n",
      "Episode:57 meanR:-0.0345 R:0.0 loss:227.8337 exploreP:0.1838\n",
      "Episode:58 meanR:-0.0169 R:1.0 loss:202.4369 exploreP:0.1786\n",
      "Episode:59 meanR:-0.0167 R:0.0 loss:227.5840 exploreP:0.1736\n",
      "Episode:60 meanR:-0.0164 R:0.0 loss:274.6979 exploreP:0.1688\n",
      "Episode:61 meanR:-0.0161 R:0.0 loss:218.8218 exploreP:0.1641\n",
      "Episode:62 meanR:-0.0159 R:0.0 loss:240.5692 exploreP:0.1596\n",
      "Episode:63 meanR:-0.0156 R:0.0 loss:186.9172 exploreP:0.1551\n",
      "Episode:64 meanR:-0.0308 R:-1.0 loss:244.1738 exploreP:0.1509\n",
      "Episode:65 meanR:-0.0303 R:0.0 loss:258.4320 exploreP:0.1467\n",
      "Episode:66 meanR:-0.0448 R:-1.0 loss:295.6471 exploreP:0.1426\n",
      "Episode:67 meanR:-0.0441 R:0.0 loss:334.4271 exploreP:0.1387\n",
      "Episode:68 meanR:-0.0580 R:-1.0 loss:287.0720 exploreP:0.1349\n",
      "Episode:69 meanR:-0.0714 R:-1.0 loss:290.5946 exploreP:0.1312\n",
      "Episode:70 meanR:-0.0563 R:1.0 loss:313.9936 exploreP:0.1276\n",
      "Episode:71 meanR:-0.0556 R:0.0 loss:254.9819 exploreP:0.1242\n",
      "Episode:72 meanR:-0.0822 R:-2.0 loss:324.2359 exploreP:0.1208\n",
      "Episode:73 meanR:-0.0811 R:0.0 loss:239.7096 exploreP:0.1175\n",
      "Episode:74 meanR:-0.0800 R:0.0 loss:308.8934 exploreP:0.1143\n",
      "Episode:75 meanR:-0.0789 R:0.0 loss:280.2713 exploreP:0.1113\n",
      "Episode:76 meanR:-0.0909 R:-1.0 loss:243.9977 exploreP:0.1083\n",
      "Episode:77 meanR:-0.0897 R:0.0 loss:339.6904 exploreP:0.1054\n",
      "Episode:78 meanR:-0.0886 R:0.0 loss:278.7054 exploreP:0.1025\n",
      "Episode:79 meanR:-0.0875 R:0.0 loss:280.3116 exploreP:0.0998\n",
      "Episode:80 meanR:-0.0741 R:1.0 loss:366.1935 exploreP:0.0972\n",
      "Episode:81 meanR:-0.0610 R:1.0 loss:313.6347 exploreP:0.0946\n",
      "Episode:82 meanR:-0.0602 R:0.0 loss:270.2131 exploreP:0.0921\n",
      "Episode:83 meanR:-0.0595 R:0.0 loss:261.4596 exploreP:0.0897\n",
      "Episode:84 meanR:-0.0588 R:0.0 loss:283.8525 exploreP:0.0873\n",
      "Episode:85 meanR:-0.0581 R:0.0 loss:282.0177 exploreP:0.0850\n",
      "Episode:86 meanR:-0.0575 R:0.0 loss:243.2159 exploreP:0.0828\n",
      "Episode:87 meanR:-0.0682 R:-1.0 loss:293.9547 exploreP:0.0806\n",
      "Episode:88 meanR:-0.0899 R:-2.0 loss:388.8006 exploreP:0.0786\n",
      "Episode:89 meanR:-0.0889 R:0.0 loss:273.3302 exploreP:0.0765\n",
      "Episode:90 meanR:-0.0879 R:0.0 loss:268.4601 exploreP:0.0746\n",
      "Episode:91 meanR:-0.0870 R:0.0 loss:268.3294 exploreP:0.0727\n",
      "Episode:92 meanR:-0.0860 R:0.0 loss:324.3476 exploreP:0.0708\n",
      "Episode:93 meanR:-0.1064 R:-2.0 loss:321.3461 exploreP:0.0690\n",
      "Episode:94 meanR:-0.1053 R:0.0 loss:213.1640 exploreP:0.0673\n",
      "Episode:95 meanR:-0.1042 R:0.0 loss:272.1637 exploreP:0.0656\n",
      "Episode:96 meanR:-0.1031 R:0.0 loss:363.1512 exploreP:0.0639\n",
      "Episode:97 meanR:-0.1020 R:0.0 loss:365.2821 exploreP:0.0623\n",
      "Episode:98 meanR:-0.0909 R:1.0 loss:330.5969 exploreP:0.0608\n",
      "Episode:99 meanR:-0.0900 R:0.0 loss:319.7231 exploreP:0.0593\n",
      "Episode:100 meanR:-0.1000 R:0.0 loss:238.5157 exploreP:0.0578\n",
      "Episode:101 meanR:-0.1100 R:-1.0 loss:291.6884 exploreP:0.0564\n",
      "Episode:102 meanR:-0.1200 R:1.0 loss:366.0068 exploreP:0.0550\n",
      "Episode:103 meanR:-0.1600 R:-2.0 loss:238.6533 exploreP:0.0537\n",
      "Episode:104 meanR:-0.1700 R:0.0 loss:251.6301 exploreP:0.0524\n",
      "Episode:105 meanR:-0.1700 R:1.0 loss:370.3142 exploreP:0.0512\n",
      "Episode:106 meanR:-0.1700 R:-1.0 loss:257.0732 exploreP:0.0500\n",
      "Episode:107 meanR:-0.1700 R:0.0 loss:252.8187 exploreP:0.0488\n",
      "Episode:108 meanR:-0.1700 R:0.0 loss:337.5967 exploreP:0.0476\n",
      "Episode:109 meanR:-0.1800 R:-1.0 loss:315.1613 exploreP:0.0465\n",
      "Episode:110 meanR:-0.1700 R:1.0 loss:238.0646 exploreP:0.0454\n",
      "Episode:111 meanR:-0.1700 R:0.0 loss:499.0373 exploreP:0.0444\n",
      "Episode:112 meanR:-0.1900 R:-1.0 loss:296.0841 exploreP:0.0434\n",
      "Episode:113 meanR:-0.1800 R:0.0 loss:393.6409 exploreP:0.0424\n",
      "Episode:114 meanR:-0.1800 R:0.0 loss:299.0426 exploreP:0.0414\n",
      "Episode:115 meanR:-0.1800 R:0.0 loss:409.3640 exploreP:0.0405\n",
      "Episode:116 meanR:-0.1800 R:0.0 loss:455.4940 exploreP:0.0396\n",
      "Episode:117 meanR:-0.1900 R:-1.0 loss:301.1226 exploreP:0.0387\n",
      "Episode:118 meanR:-0.2000 R:0.0 loss:534.1295 exploreP:0.0379\n",
      "Episode:119 meanR:-0.1700 R:0.0 loss:384.5088 exploreP:0.0371\n",
      "Episode:120 meanR:-0.1500 R:1.0 loss:510.3531 exploreP:0.0363\n",
      "Episode:121 meanR:-0.1200 R:1.0 loss:407.6579 exploreP:0.0355\n",
      "Episode:122 meanR:-0.1100 R:0.0 loss:467.6116 exploreP:0.0347\n",
      "Episode:123 meanR:-0.1100 R:1.0 loss:350.3385 exploreP:0.0340\n",
      "Episode:124 meanR:-0.1100 R:0.0 loss:250.9838 exploreP:0.0333\n",
      "Episode:125 meanR:-0.1200 R:0.0 loss:434.0548 exploreP:0.0326\n",
      "Episode:126 meanR:-0.1100 R:0.0 loss:405.6800 exploreP:0.0319\n",
      "Episode:127 meanR:-0.1100 R:0.0 loss:322.6037 exploreP:0.0313\n",
      "Episode:128 meanR:-0.1100 R:-1.0 loss:423.3591 exploreP:0.0306\n",
      "Episode:129 meanR:-0.1300 R:0.0 loss:357.3825 exploreP:0.0300\n",
      "Episode:130 meanR:-0.1000 R:1.0 loss:445.9116 exploreP:0.0294\n",
      "Episode:131 meanR:-0.1100 R:0.0 loss:351.9807 exploreP:0.0289\n",
      "Episode:132 meanR:-0.0900 R:1.0 loss:468.9736 exploreP:0.0283\n",
      "Episode:133 meanR:-0.0900 R:0.0 loss:343.9332 exploreP:0.0278\n",
      "Episode:134 meanR:-0.0900 R:0.0 loss:350.4418 exploreP:0.0272\n"
     ]
    },
    {
     "name": "stdout",
     "output_type": "stream",
     "text": [
      "Episode:135 meanR:-0.0800 R:0.0 loss:374.0437 exploreP:0.0267\n",
      "Episode:136 meanR:-0.0800 R:0.0 loss:363.0454 exploreP:0.0262\n",
      "Episode:137 meanR:-0.0900 R:0.0 loss:401.2091 exploreP:0.0258\n",
      "Episode:138 meanR:-0.0900 R:0.0 loss:435.3401 exploreP:0.0253\n",
      "Episode:139 meanR:-0.0800 R:0.0 loss:474.6342 exploreP:0.0248\n",
      "Episode:140 meanR:-0.0700 R:0.0 loss:505.8083 exploreP:0.0244\n",
      "Episode:141 meanR:-0.0600 R:0.0 loss:377.9589 exploreP:0.0240\n",
      "Episode:142 meanR:-0.0600 R:1.0 loss:521.7863 exploreP:0.0236\n",
      "Episode:143 meanR:-0.0700 R:0.0 loss:490.4817 exploreP:0.0232\n",
      "Episode:144 meanR:-0.0600 R:0.0 loss:436.1820 exploreP:0.0228\n",
      "Episode:145 meanR:-0.0600 R:1.0 loss:519.5782 exploreP:0.0224\n",
      "Episode:146 meanR:-0.0600 R:0.0 loss:723.5962 exploreP:0.0220\n",
      "Episode:147 meanR:-0.0400 R:1.0 loss:602.8748 exploreP:0.0217\n",
      "Episode:148 meanR:-0.0400 R:0.0 loss:423.8438 exploreP:0.0213\n",
      "Episode:149 meanR:-0.0400 R:0.0 loss:482.5841 exploreP:0.0210\n",
      "Episode:150 meanR:-0.0500 R:0.0 loss:504.0408 exploreP:0.0207\n",
      "Episode:151 meanR:-0.0500 R:0.0 loss:723.3088 exploreP:0.0204\n",
      "Episode:152 meanR:-0.0500 R:0.0 loss:596.7482 exploreP:0.0201\n",
      "Episode:153 meanR:-0.0500 R:0.0 loss:442.6340 exploreP:0.0198\n",
      "Episode:154 meanR:-0.0500 R:0.0 loss:441.5152 exploreP:0.0195\n",
      "Episode:155 meanR:-0.0500 R:0.0 loss:527.4358 exploreP:0.0192\n",
      "Episode:156 meanR:-0.0400 R:0.0 loss:580.2669 exploreP:0.0189\n",
      "Episode:157 meanR:-0.0400 R:0.0 loss:561.1137 exploreP:0.0187\n",
      "Episode:158 meanR:-0.0500 R:0.0 loss:554.0974 exploreP:0.0184\n",
      "Episode:159 meanR:-0.0500 R:0.0 loss:445.1397 exploreP:0.0181\n",
      "Episode:160 meanR:-0.0500 R:0.0 loss:492.5104 exploreP:0.0179\n",
      "Episode:161 meanR:-0.0500 R:0.0 loss:435.8407 exploreP:0.0177\n",
      "Episode:162 meanR:-0.0500 R:0.0 loss:530.7208 exploreP:0.0174\n",
      "Episode:163 meanR:-0.0500 R:0.0 loss:589.5009 exploreP:0.0172\n",
      "Episode:164 meanR:-0.0400 R:0.0 loss:564.5261 exploreP:0.0170\n",
      "Episode:165 meanR:-0.0500 R:-1.0 loss:574.2601 exploreP:0.0168\n",
      "Episode:166 meanR:-0.0400 R:0.0 loss:676.3545 exploreP:0.0166\n",
      "Episode:167 meanR:-0.0400 R:0.0 loss:645.7619 exploreP:0.0164\n",
      "Episode:168 meanR:-0.0300 R:0.0 loss:756.3470 exploreP:0.0162\n",
      "Episode:169 meanR:-0.0200 R:0.0 loss:412.6079 exploreP:0.0160\n",
      "Episode:170 meanR:-0.0300 R:0.0 loss:642.6783 exploreP:0.0159\n",
      "Episode:171 meanR:-0.0400 R:-1.0 loss:648.8265 exploreP:0.0157\n",
      "Episode:172 meanR:-0.0200 R:0.0 loss:559.2671 exploreP:0.0155\n",
      "Episode:173 meanR:-0.0200 R:0.0 loss:382.6082 exploreP:0.0154\n",
      "Episode:174 meanR:-0.0200 R:0.0 loss:481.4371 exploreP:0.0152\n",
      "Episode:175 meanR:-0.0200 R:0.0 loss:737.6821 exploreP:0.0150\n",
      "Episode:176 meanR:-0.0100 R:0.0 loss:503.3939 exploreP:0.0149\n",
      "Episode:177 meanR:-0.0100 R:0.0 loss:652.4615 exploreP:0.0147\n",
      "Episode:178 meanR:-0.0100 R:0.0 loss:498.0931 exploreP:0.0146\n",
      "Episode:179 meanR:-0.0100 R:0.0 loss:522.2544 exploreP:0.0145\n",
      "Episode:180 meanR:-0.0200 R:0.0 loss:462.7666 exploreP:0.0143\n",
      "Episode:181 meanR:-0.0300 R:0.0 loss:540.4528 exploreP:0.0142\n",
      "Episode:182 meanR:-0.0300 R:0.0 loss:660.1118 exploreP:0.0141\n",
      "Episode:183 meanR:-0.0400 R:-1.0 loss:634.8567 exploreP:0.0140\n",
      "Episode:184 meanR:-0.0400 R:0.0 loss:1081.3273 exploreP:0.0138\n",
      "Episode:185 meanR:-0.0400 R:0.0 loss:710.6197 exploreP:0.0137\n",
      "Episode:186 meanR:-0.0400 R:0.0 loss:554.2791 exploreP:0.0136\n",
      "Episode:187 meanR:-0.0300 R:0.0 loss:579.8691 exploreP:0.0135\n",
      "Episode:188 meanR:-0.0100 R:0.0 loss:718.2935 exploreP:0.0134\n",
      "Episode:189 meanR:-0.0100 R:0.0 loss:641.9267 exploreP:0.0133\n",
      "Episode:190 meanR:-0.0100 R:0.0 loss:659.6398 exploreP:0.0132\n",
      "Episode:191 meanR:-0.0200 R:-1.0 loss:553.5082 exploreP:0.0131\n",
      "Episode:192 meanR:-0.0200 R:0.0 loss:607.5403 exploreP:0.0130\n",
      "Episode:193 meanR:0.0000 R:0.0 loss:419.6587 exploreP:0.0129\n",
      "Episode:194 meanR:0.0000 R:0.0 loss:495.4466 exploreP:0.0129\n",
      "Episode:195 meanR:-0.0100 R:-1.0 loss:435.9998 exploreP:0.0128\n",
      "Episode:196 meanR:-0.0100 R:0.0 loss:346.9734 exploreP:0.0127\n",
      "Episode:197 meanR:-0.0100 R:0.0 loss:415.2933 exploreP:0.0126\n",
      "Episode:198 meanR:-0.0300 R:-1.0 loss:483.7874 exploreP:0.0125\n",
      "Episode:199 meanR:-0.0300 R:0.0 loss:394.5291 exploreP:0.0125\n",
      "Episode:200 meanR:-0.0300 R:0.0 loss:369.6117 exploreP:0.0124\n",
      "Episode:201 meanR:-0.0200 R:0.0 loss:341.5807 exploreP:0.0123\n",
      "Episode:202 meanR:-0.0200 R:1.0 loss:579.7727 exploreP:0.0122\n",
      "Episode:203 meanR:0.0000 R:0.0 loss:491.9295 exploreP:0.0122\n",
      "Episode:204 meanR:0.0000 R:0.0 loss:426.9656 exploreP:0.0121\n",
      "Episode:205 meanR:-0.0100 R:0.0 loss:529.2367 exploreP:0.0120\n",
      "Episode:206 meanR:0.0000 R:0.0 loss:375.0100 exploreP:0.0120\n",
      "Episode:207 meanR:0.0000 R:0.0 loss:417.0089 exploreP:0.0119\n",
      "Episode:208 meanR:0.0000 R:0.0 loss:424.8776 exploreP:0.0119\n",
      "Episode:209 meanR:0.0100 R:0.0 loss:372.9542 exploreP:0.0118\n",
      "Episode:210 meanR:0.0000 R:0.0 loss:539.8850 exploreP:0.0118\n",
      "Episode:211 meanR:0.0000 R:0.0 loss:485.0644 exploreP:0.0117\n",
      "Episode:212 meanR:0.0100 R:0.0 loss:393.2758 exploreP:0.0117\n",
      "Episode:213 meanR:0.0100 R:0.0 loss:460.3989 exploreP:0.0116\n",
      "Episode:214 meanR:0.0100 R:0.0 loss:469.0482 exploreP:0.0116\n",
      "Episode:215 meanR:0.0100 R:0.0 loss:475.1728 exploreP:0.0115\n",
      "Episode:216 meanR:0.0100 R:0.0 loss:387.1939 exploreP:0.0115\n",
      "Episode:217 meanR:0.0200 R:0.0 loss:433.6981 exploreP:0.0114\n",
      "Episode:218 meanR:0.0200 R:0.0 loss:676.2867 exploreP:0.0114\n",
      "Episode:219 meanR:0.0200 R:0.0 loss:421.3655 exploreP:0.0113\n",
      "Episode:220 meanR:0.0000 R:-1.0 loss:410.5952 exploreP:0.0113\n",
      "Episode:221 meanR:-0.0100 R:0.0 loss:595.7777 exploreP:0.0113\n",
      "Episode:222 meanR:-0.0200 R:-1.0 loss:679.6415 exploreP:0.0112\n",
      "Episode:223 meanR:-0.0300 R:0.0 loss:685.6007 exploreP:0.0112\n",
      "Episode:224 meanR:-0.0200 R:1.0 loss:552.7163 exploreP:0.0112\n",
      "Episode:225 meanR:-0.0200 R:0.0 loss:653.5510 exploreP:0.0111\n",
      "Episode:226 meanR:-0.0200 R:0.0 loss:567.0416 exploreP:0.0111\n",
      "Episode:227 meanR:-0.0200 R:0.0 loss:786.6166 exploreP:0.0111\n",
      "Episode:228 meanR:-0.0100 R:0.0 loss:613.6415 exploreP:0.0110\n"
     ]
    }
   ],
   "source": [
    "# Save/load the model and save for plotting\n",
    "saver = tf.train.Saver()\n",
    "episode_rewards_list, rewards_list, loss_list = [], [], []\n",
    "\n",
    "# TF session for training\n",
    "with tf.Session(graph=graph) as sess:\n",
    "    sess.run(tf.global_variables_initializer())\n",
    "    #saver.restore(sess, 'checkpoints/model.ckpt')    \n",
    "    #saver.restore(sess, tf.train.latest_checkpoint('checkpoints'))\n",
    "    total_step = 0 # Explore or exploit parameter\n",
    "    episode_reward = deque(maxlen=100) # 100 episodes average/running average/running mean/window\n",
    "    \n",
    "    # Training episodes/epochs\n",
    "    for ep in range(11111):\n",
    "        total_reward = 0\n",
    "        loss_batch = []\n",
    "        #state = env.reset()\n",
    "        env_info = env.reset(train_mode=True)[brain_name] # reset the environment\n",
    "        #state = env_info.vector_observations[0]   # get the current state\n",
    "        state = env_info.visual_observations[0]   # get the current state\n",
    "\n",
    "        # Training steps/batches\n",
    "        while True:\n",
    "            # Explore (Env) or Exploit (Model)\n",
    "            total_step += 1\n",
    "            explore_p = explore_stop + (explore_start - explore_stop) * np.exp(-decay_rate * total_step) \n",
    "            if explore_p > np.random.rand():\n",
    "                #action = env.action_space.sample()\n",
    "                action = np.random.randint(action_size)        # select an action\n",
    "            else:\n",
    "                action_logits = sess.run(model.actions_logits, \n",
    "                                         feed_dict={model.states: state.reshape([1, *state_size])}) # visual\n",
    "                                         #feed_dict={model.states: state.reshape([1, -1])}) # vector\n",
    "                action = np.argmax(action_logits)\n",
    "            #state, reward, done, _ = env.step(action)\n",
    "            env_info = env.step(action)[brain_name]        # send the action to the environment\n",
    "            #next_state = env_info.vector_observations[0]   # get the next state\n",
    "            next_state = env_info.visual_observations[0]   # get the next state\n",
    "            reward = env_info.rewards[0]                   # get the reward\n",
    "            done = env_info.local_done[0]                  # see if episode has finished\n",
    "            memory.buffer.append([state, action, next_state, reward, float(done)])\n",
    "            total_reward += reward\n",
    "            state = next_state\n",
    "            \n",
    "            # Training\n",
    "            batch = memory.sample(batch_size)\n",
    "            states = np.array([each[0] for each in batch])\n",
    "            actions = np.array([each[1] for each in batch])\n",
    "            next_states = np.array([each[2] for each in batch])\n",
    "            rewards = np.array([each[3] for each in batch])\n",
    "            dones = np.array([each[4] for each in batch])\n",
    "            next_actions_logits = sess.run(model.actions_logits, feed_dict = {model.states: next_states})\n",
    "            nextQs = np.max(next_actions_logits, axis=1) * (1-dones)\n",
    "            targetQs = rewards + (gamma * nextQs)\n",
    "            loss, _ = sess.run([model.loss, model.opt], feed_dict = {model.states: states, \n",
    "                                                                     model.actions: actions,\n",
    "                                                                     model.targetQs: targetQs})\n",
    "            loss_batch.append(loss)\n",
    "            if done is True:\n",
    "                break\n",
    "                \n",
    "        episode_reward.append(total_reward)\n",
    "        print('Episode:{}'.format(ep),\n",
    "              'meanR:{:.4f}'.format(np.mean(episode_reward)),\n",
    "              'R:{}'.format(total_reward),\n",
    "              'loss:{:.4f}'.format(np.mean(loss_batch)),\n",
    "              'exploreP:{:.4f}'.format(explore_p))\n",
    "        # Ploting out\n",
    "        episode_rewards_list.append([ep, np.mean(episode_reward)])\n",
    "        rewards_list.append([ep, total_reward])\n",
    "        loss_list.append([ep, np.mean(loss_batch)])\n",
    "        # Break episode/epoch loop\n",
    "        if np.mean(episode_reward) >= +13:\n",
    "            break\n",
    "            \n",
    "        # Save the model at the end of each 10 training episodes/epochs\n",
    "        if (ep % 10) == 0:\n",
    "            saver.save(sess, 'checkpoints/model-nav-pixel.ckpt')\n",
    "        \n",
    "    # Save the model at the end of all training episodes/epochs\n",
    "    saver.save(sess, 'checkpoints/model-nav-pixel.ckpt')"
   ]
  },
  {
   "cell_type": "code",
   "execution_count": null,
   "metadata": {},
   "outputs": [],
   "source": [
    "%matplotlib inline\n",
    "import matplotlib.pyplot as plt\n",
    "\n",
    "def running_mean(x, N):\n",
    "    cumsum = np.cumsum(np.insert(x, 0, 0)) \n",
    "    return (cumsum[N:] - cumsum[:-N]) / N "
   ]
  },
  {
   "cell_type": "code",
   "execution_count": null,
   "metadata": {},
   "outputs": [],
   "source": [
    "eps, arr = np.array(episode_rewards_list).T\n",
    "smoothed_arr = running_mean(arr, 10)\n",
    "plt.plot(eps[-len(smoothed_arr):], smoothed_arr)\n",
    "plt.plot(eps, arr, color='grey', alpha=0.3)\n",
    "plt.xlabel('Episode')\n",
    "plt.ylabel('Episode rewards')"
   ]
  },
  {
   "cell_type": "code",
   "execution_count": null,
   "metadata": {},
   "outputs": [],
   "source": [
    "eps, arr = np.array(rewards_list).T\n",
    "smoothed_arr = running_mean(arr, 10)\n",
    "plt.plot(eps[-len(smoothed_arr):], smoothed_arr)\n",
    "plt.plot(eps, arr, color='grey', alpha=0.3)\n",
    "plt.xlabel('Episode')\n",
    "plt.ylabel('Total rewards')"
   ]
  },
  {
   "cell_type": "code",
   "execution_count": null,
   "metadata": {},
   "outputs": [],
   "source": [
    "eps, arr = np.array(loss_list).T\n",
    "smoothed_arr = running_mean(arr, 10)\n",
    "plt.plot(eps[-len(smoothed_arr):], smoothed_arr)\n",
    "plt.plot(eps, arr, color='grey', alpha=0.3)\n",
    "plt.xlabel('Episode')\n",
    "plt.ylabel('Average losses')"
   ]
  },
  {
   "cell_type": "code",
   "execution_count": null,
   "metadata": {},
   "outputs": [],
   "source": [
    "# TF session for training\n",
    "with tf.Session(graph=graph) as sess:\n",
    "    sess.run(tf.global_variables_initializer())\n",
    "    #saver.restore(sess, 'checkpoints/model.ckpt')    \n",
    "    saver.restore(sess, tf.train.latest_checkpoint('checkpoints'))\n",
    "    \n",
    "    # Testing episodes/epochs\n",
    "    for _ in range(1):\n",
    "        total_reward = 0\n",
    "        #state = env.reset()\n",
    "        env_info = env.reset(train_mode=False)[brain_name] # reset the environment\n",
    "        #state = env_info.vector_observations[0]   # get the current state\n",
    "        state = env_info.visual_observations[0]   # get the current state\n",
    "\n",
    "        # Testing steps/batches\n",
    "        while True:\n",
    "            action_logits = sess.run(model.actions_logits, feed_dict={model.states: state.reshape([1, -1])})\n",
    "            action = np.argmax(action_logits)\n",
    "            #state, reward, done, _ = env.step(action)\n",
    "            env_info = env.step(action)[brain_name]        # send the action to the environment\n",
    "            #state = env_info.vector_observations[0]   # get the next state\n",
    "            state = env_info.visual_observations[0]   # get the current state\n",
    "            reward = env_info.rewards[0]                   # get the reward\n",
    "            done = env_info.local_done[0]                  # see if episode has finished\n",
    "            total_reward += reward\n",
    "            if done:\n",
    "                break\n",
    "                \n",
    "        print('total_reward: {:.2f}'.format(total_reward))"
   ]
  },
  {
   "cell_type": "code",
   "execution_count": null,
   "metadata": {},
   "outputs": [],
   "source": [
    "# Be careful!!!!!!!!!!!!!!!!\n",
    "# Closing the env\n",
    "env.close()"
   ]
  }
 ],
 "metadata": {
  "kernelspec": {
   "display_name": "Python 3",
   "language": "python",
   "name": "python3"
  },
  "language_info": {
   "codemirror_mode": {
    "name": "ipython",
    "version": 3
   },
   "file_extension": ".py",
   "mimetype": "text/x-python",
   "name": "python",
   "nbconvert_exporter": "python",
   "pygments_lexer": "ipython3",
   "version": "3.6.5"
  }
 },
 "nbformat": 4,
 "nbformat_minor": 2
}
