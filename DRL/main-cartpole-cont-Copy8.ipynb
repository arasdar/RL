{
 "cells": [
  {
   "cell_type": "code",
   "execution_count": 1,
   "metadata": {},
   "outputs": [
    {
     "name": "stdout",
     "output_type": "stream",
     "text": [
      "TensorFlow Version: 1.7.1\n",
      "Default GPU Device: \n"
     ]
    }
   ],
   "source": [
    "# In this one we should define and detect GPUs for tensorflow\n",
    "# GPUs or CPU\n",
    "import tensorflow as tf\n",
    "\n",
    "# Check TensorFlow Version\n",
    "print('TensorFlow Version: {}'.format(tf.__version__))\n",
    "\n",
    "# Check for a GPU\n",
    "print('Default GPU Device: {}'.format(tf.test.gpu_device_name()))"
   ]
  },
  {
   "cell_type": "markdown",
   "metadata": {},
   "source": [
    "##### >**Note:** Make sure you have OpenAI Gym cloned. Then run this command `pip install -e gym/[all]`."
   ]
  },
  {
   "cell_type": "code",
   "execution_count": 2,
   "metadata": {},
   "outputs": [],
   "source": [
    "import numpy as np\n",
    "import gym\n",
    "env = gym.make('CartPole-v0')\n",
    "env = gym.make('CartPole-v1')"
   ]
  },
  {
   "cell_type": "code",
   "execution_count": 3,
   "metadata": {},
   "outputs": [],
   "source": [
    "def model_input(state_size):\n",
    "    #states = tf.placeholder(tf.float32, [None, *state_size], name='states')\n",
    "    states = tf.placeholder(tf.float32, [None, state_size], name='states')\n",
    "    actions = tf.placeholder(tf.int32, [None], name='actions')\n",
    "    targetQs = tf.placeholder(tf.float32, [None], name='targetQs')\n",
    "    rates = tf.placeholder(tf.float32, [None], name='rates')\n",
    "    return states, actions, targetQs, rates"
   ]
  },
  {
   "cell_type": "code",
   "execution_count": 4,
   "metadata": {},
   "outputs": [],
   "source": [
    "# Generator/Controller: Generating/prediting the actions\n",
    "def generator(states, action_size, hidden_size, reuse=False, alpha=0.1, training=False):\n",
    "    with tf.variable_scope('generator', reuse=reuse):\n",
    "        # First fully connected layer\n",
    "        h1 = tf.layers.dense(inputs=states, units=hidden_size)\n",
    "        bn1 = tf.layers.batch_normalization(h1, training=training)        \n",
    "        nl1 = tf.maximum(alpha * bn1, bn1)\n",
    "        \n",
    "        # Second fully connected layer\n",
    "        h2 = tf.layers.dense(inputs=nl1, units=hidden_size)\n",
    "        bn2 = tf.layers.batch_normalization(h2, training=training)        \n",
    "        nl2 = tf.maximum(alpha * bn2, bn2)\n",
    "        \n",
    "        # Output layer\n",
    "        logits = tf.layers.dense(inputs=nl2, units=action_size)        \n",
    "        #predictions = tf.nn.softmax(logits)\n",
    "\n",
    "        # return actions logits\n",
    "        return logits"
   ]
  },
  {
   "cell_type": "code",
   "execution_count": 5,
   "metadata": {},
   "outputs": [],
   "source": [
    "def discriminator(states, actions, hidden_size, reuse=False, alpha=0.1, training=False):\n",
    "    with tf.variable_scope('discriminator', reuse=reuse):\n",
    "        # First fully connected layer\n",
    "        h1 = tf.layers.dense(inputs=states, units=action_size)\n",
    "        bn1 = tf.layers.batch_normalization(h1, training=training)        \n",
    "        nl1 = tf.maximum(alpha * bn1, bn1)\n",
    "        \n",
    "        # Second fully connected layer\n",
    "        nl1_fused = tf.concat(axis=1, values=[nl1, actions])\n",
    "        h2 = tf.layers.dense(inputs=nl1_fused, units=hidden_size)\n",
    "        bn2 = tf.layers.batch_normalization(h2, training=training)        \n",
    "        nl2 = tf.maximum(alpha * bn2, bn2)\n",
    "                \n",
    "        # Output layer\n",
    "        logits = tf.layers.dense(inputs=nl2, units=1)        \n",
    "        #predictions = tf.nn.softmax(logits)\n",
    "\n",
    "        # return rewards logits\n",
    "        return logits"
   ]
  },
  {
   "cell_type": "code",
   "execution_count": 6,
   "metadata": {},
   "outputs": [],
   "source": [
    "def model_loss(action_size, hidden_size, states, actions, targetQs, rates):\n",
    "    actions_logits = generator(states=states, hidden_size=hidden_size, action_size=action_size)\n",
    "    gQs = discriminator(actions=actions_logits, hidden_size=hidden_size, states=states)\n",
    "    rates = tf.reshape(rates, shape=[-1, 1])\n",
    "    gloss = tf.reduce_mean(tf.nn.sigmoid_cross_entropy_with_logits(logits=gQs, # GAN\n",
    "                                                                   labels=rates)) # 0-1\n",
    "#     targetQs = tf.reshape(targetQs, shape=[-1, 1])\n",
    "#     gloss += tf.reduce_mean(tf.nn.sigmoid_cross_entropy_with_logits(logits=gQs, # GAN\n",
    "#                                                                     labels=tf.nn.sigmoid(targetQs))) # 0-1\n",
    "    actions_labels = tf.one_hot(indices=actions, depth=action_size, dtype=actions_logits.dtype)\n",
    "    dQs = discriminator(actions=actions_labels, hidden_size=hidden_size, states=states, reuse=True)\n",
    "    dlossA = tf.reduce_mean(tf.nn.sigmoid_cross_entropy_with_logits(logits=dQs, # GAN\n",
    "                                                                    labels=rates)) # 0-1\n",
    "#     dlossA += tf.reduce_mean(tf.nn.sigmoid_cross_entropy_with_logits(logits=dQs, # GAN\n",
    "#                                                                      labels=tf.nn.sigmoid(targetQs))) # 0-1\n",
    "    dlossA += tf.reduce_mean(tf.nn.sigmoid_cross_entropy_with_logits(logits=gQs, # GAN\n",
    "                                                                     labels=tf.zeros_like(rates))) # 0-1\n",
    "    dlossQ = tf.reduce_mean(tf.square(gQs - targetQs)) # DQN\n",
    "    dlossQ += tf.reduce_mean(tf.square(dQs - targetQs)) # DQN\n",
    "    return actions_logits, gQs, gloss, dlossA, dlossQ"
   ]
  },
  {
   "cell_type": "code",
   "execution_count": 7,
   "metadata": {},
   "outputs": [],
   "source": [
    "# Optimizating/training/learning G & D\n",
    "def model_opt(g_loss, d_lossA, d_lossQ, g_learning_rate, d_learning_rate):\n",
    "    # Get weights and bias to update\n",
    "    t_vars = tf.trainable_variables()\n",
    "    g_vars = [var for var in t_vars if var.name.startswith('generator')]\n",
    "    d_vars = [var for var in t_vars if var.name.startswith('discriminator')]\n",
    "\n",
    "    # Optimize\n",
    "    with tf.control_dependencies(tf.get_collection(tf.GraphKeys.UPDATE_OPS)): # Required for batchnorm (BN)\n",
    "        g_opt = tf.train.AdamOptimizer(g_learning_rate).minimize(g_loss, var_list=g_vars)\n",
    "        d_optA = tf.train.AdamOptimizer(d_learning_rate).minimize(d_lossA, var_list=d_vars)\n",
    "        d_optQ = tf.train.AdamOptimizer(d_learning_rate).minimize(d_lossQ, var_list=d_vars)\n",
    "\n",
    "    return g_opt, d_optA, d_optQ"
   ]
  },
  {
   "cell_type": "code",
   "execution_count": 8,
   "metadata": {},
   "outputs": [],
   "source": [
    "class Model:\n",
    "    def __init__(self, state_size, action_size, hidden_size, g_learning_rate, d_learning_rate):\n",
    "\n",
    "        # Data of the Model: make the data available inside the framework\n",
    "        self.states, self.actions, self.targetQs, self.rates = model_input(state_size=state_size)\n",
    "\n",
    "        # Create the Model: calculating the loss and forwad pass\n",
    "        self.actions_logits, self.Qs_logits, self.g_loss, self.d_lossA, self.d_lossQ = model_loss(\n",
    "            action_size=action_size, hidden_size=hidden_size, # model init parameters\n",
    "            states=self.states, actions=self.actions, \n",
    "            targetQs=self.targetQs, rates=self.rates) # model input\n",
    "        \n",
    "        # Update the model: backward pass and backprop\n",
    "        self.g_opt, self.d_optA, self.d_optQ = model_opt(g_loss=self.g_loss, \n",
    "                                                         d_lossA=self.d_lossA, \n",
    "                                                         d_lossQ=self.d_lossQ, \n",
    "                                                         g_learning_rate=g_learning_rate, \n",
    "                                                         d_learning_rate=d_learning_rate)"
   ]
  },
  {
   "cell_type": "code",
   "execution_count": 9,
   "metadata": {},
   "outputs": [],
   "source": [
    "from collections import deque\n",
    "class Memory():\n",
    "    def __init__(self, max_size = 1000):\n",
    "        self.buffer = deque(maxlen=max_size) # data batch\n",
    "        self.rates = deque(maxlen=max_size) # rates\n",
    "#     def sample(self, batch_size):\n",
    "#         idx = np.random.choice(np.arange(len(self.buffer)), # ==  self.rates\n",
    "#                                size=batch_size, \n",
    "#                                replace=False)\n",
    "#         return [self.buffer[ii] for ii in idx], [self.rates[ii] for ii in idx]"
   ]
  },
  {
   "cell_type": "markdown",
   "metadata": {},
   "source": [
    "## Hyperparameters\n",
    "\n",
    "One of the more difficult aspects of reinforcememt learning are the large number of hyperparameters. Not only are we tuning the network, but we're tuning the simulation."
   ]
  },
  {
   "cell_type": "code",
   "execution_count": 10,
   "metadata": {},
   "outputs": [
    {
     "data": {
      "text/plain": [
       "(Box(4,), Discrete(2))"
      ]
     },
     "execution_count": 10,
     "metadata": {},
     "output_type": "execute_result"
    }
   ],
   "source": [
    "env.observation_space, env.action_space"
   ]
  },
  {
   "cell_type": "code",
   "execution_count": 11,
   "metadata": {},
   "outputs": [],
   "source": [
    "# Exploration parameters\n",
    "explore_start = 1.0            # exploration probability at start\n",
    "explore_stop = 0.01           # minimum exploration probability \n",
    "decay_rate = 0.0001            # exponential decay rate for exploration prob\n",
    "\n",
    "# Network parameters\n",
    "state_size = 4\n",
    "action_size = 2\n",
    "hidden_size = 4*2             # number of units in each Q-network hidden layer\n",
    "g_learning_rate = 1e-4         # Q-network learning rate\n",
    "d_learning_rate = 1e-4         # Q-network learning rate\n",
    "\n",
    "# Memory parameters\n",
    "memory_size = int(1e5)            # memory capacity\n",
    "batch_size = int(1e3)             # experience mini-batch size: 200/500 a successfull episode size\n",
    "gamma = 0.99                   # future reward discount"
   ]
  },
  {
   "cell_type": "code",
   "execution_count": 12,
   "metadata": {},
   "outputs": [],
   "source": [
    "# Reset/init the graph/session\n",
    "graph = tf.reset_default_graph()\n",
    "\n",
    "# Init the model\n",
    "model = Model(action_size=action_size, state_size=state_size, hidden_size=hidden_size,\n",
    "              g_learning_rate=g_learning_rate, d_learning_rate=d_learning_rate)\n",
    "\n",
    "# Init the memory\n",
    "memory = Memory(max_size=memory_size)"
   ]
  },
  {
   "cell_type": "code",
   "execution_count": 13,
   "metadata": {},
   "outputs": [],
   "source": [
    "state = env.reset()\n",
    "total_reward = 0\n",
    "num_step = 0\n",
    "for _ in range(memory_size):\n",
    "    action = env.action_space.sample()\n",
    "    next_state, reward, done, _ = env.step(action)\n",
    "    memory.buffer.append([state, action, next_state, reward, float(done)])\n",
    "    memory.rates.append(-1) # empty\n",
    "    num_step += 1 # memory incremented\n",
    "    total_reward += reward\n",
    "    state = next_state\n",
    "    if done is True:\n",
    "        state = env.reset()\n",
    "        rate = total_reward/500\n",
    "        total_reward = 0 # reset\n",
    "        for idx in range(num_step): # episode length\n",
    "            if memory.rates[-1-idx] == -1:\n",
    "                memory.rates[-1-idx] = rate\n",
    "        num_step = 0 # reset"
   ]
  },
  {
   "cell_type": "markdown",
   "metadata": {},
   "source": [
    "## Training the model\n",
    "\n",
    "Below we'll train our agent. If you want to watch it train, uncomment the `env.render()` line. This is slow because it's rendering the frames slower than the network can train. But, it's cool to watch the agent get better at the game."
   ]
  },
  {
   "cell_type": "code",
   "execution_count": null,
   "metadata": {},
   "outputs": [
    {
     "name": "stdout",
     "output_type": "stream",
     "text": [
      "Episode:0 meanR:22.0000 R:22.0000 rate:0.0440 gloss:0.6874 dlossA:1.4123 dlossQ:1.8374 exploreP:0.9978\n",
      "Episode:1 meanR:20.5000 R:19.0000 rate:0.0380 gloss:0.6795 dlossA:1.3945 dlossQ:1.8483 exploreP:0.9959\n",
      "Episode:2 meanR:22.3333 R:26.0000 rate:0.0520 gloss:0.6742 dlossA:1.3804 dlossQ:1.8386 exploreP:0.9934\n",
      "Episode:3 meanR:20.5000 R:15.0000 rate:0.0300 gloss:0.6646 dlossA:1.3598 dlossQ:1.8390 exploreP:0.9919\n",
      "Episode:4 meanR:22.6000 R:31.0000 rate:0.0620 gloss:0.6549 dlossA:1.3405 dlossQ:1.8428 exploreP:0.9889\n",
      "Episode:5 meanR:21.8333 R:18.0000 rate:0.0360 gloss:0.6482 dlossA:1.3267 dlossQ:1.8192 exploreP:0.9871\n",
      "Episode:6 meanR:20.8571 R:15.0000 rate:0.0300 gloss:0.6421 dlossA:1.3146 dlossQ:1.8074 exploreP:0.9857\n",
      "Episode:7 meanR:20.2500 R:16.0000 rate:0.0320 gloss:0.6382 dlossA:1.3020 dlossQ:1.8234 exploreP:0.9841\n",
      "Episode:8 meanR:21.4444 R:31.0000 rate:0.0620 gloss:0.6265 dlossA:1.2782 dlossQ:1.8135 exploreP:0.9811\n",
      "Episode:9 meanR:20.4000 R:11.0000 rate:0.0220 gloss:0.6272 dlossA:1.2743 dlossQ:1.8360 exploreP:0.9800\n",
      "Episode:10 meanR:21.3636 R:31.0000 rate:0.0620 gloss:0.6134 dlossA:1.2473 dlossQ:1.8231 exploreP:0.9770\n",
      "Episode:11 meanR:21.5833 R:24.0000 rate:0.0480 gloss:0.6007 dlossA:1.2241 dlossQ:1.8015 exploreP:0.9747\n",
      "Episode:12 meanR:23.6923 R:49.0000 rate:0.0980 gloss:0.5842 dlossA:1.1903 dlossQ:1.7662 exploreP:0.9700\n",
      "Episode:13 meanR:24.0714 R:29.0000 rate:0.0580 gloss:0.5687 dlossA:1.1599 dlossQ:1.7438 exploreP:0.9672\n",
      "Episode:14 meanR:23.6000 R:17.0000 rate:0.0340 gloss:0.5602 dlossA:1.1405 dlossQ:1.7143 exploreP:0.9656\n",
      "Episode:15 meanR:23.9375 R:29.0000 rate:0.0580 gloss:0.5484 dlossA:1.1173 dlossQ:1.6949 exploreP:0.9628\n",
      "Episode:16 meanR:23.5294 R:17.0000 rate:0.0340 gloss:0.5345 dlossA:1.0948 dlossQ:1.6826 exploreP:0.9612\n",
      "Episode:17 meanR:23.6111 R:25.0000 rate:0.0500 gloss:0.5258 dlossA:1.0741 dlossQ:1.6754 exploreP:0.9588\n",
      "Episode:18 meanR:24.9474 R:49.0000 rate:0.0980 gloss:0.5015 dlossA:1.0330 dlossQ:1.5851 exploreP:0.9542\n",
      "Episode:19 meanR:25.0500 R:27.0000 rate:0.0540 gloss:0.4774 dlossA:0.9914 dlossQ:1.5935 exploreP:0.9516\n",
      "Episode:20 meanR:24.5714 R:15.0000 rate:0.0300 gloss:0.4695 dlossA:0.9767 dlossQ:1.5492 exploreP:0.9502\n",
      "Episode:21 meanR:24.3182 R:19.0000 rate:0.0380 gloss:0.4751 dlossA:0.9623 dlossQ:1.5452 exploreP:0.9484\n",
      "Episode:22 meanR:24.3478 R:25.0000 rate:0.0500 gloss:0.4601 dlossA:0.9416 dlossQ:1.5938 exploreP:0.9461\n",
      "Episode:23 meanR:24.2500 R:22.0000 rate:0.0440 gloss:0.4562 dlossA:0.9213 dlossQ:1.5457 exploreP:0.9440\n",
      "Episode:24 meanR:23.6800 R:10.0000 rate:0.0200 gloss:0.4516 dlossA:0.9062 dlossQ:1.5260 exploreP:0.9431\n",
      "Episode:25 meanR:23.8077 R:27.0000 rate:0.0540 gloss:0.4344 dlossA:0.8855 dlossQ:1.4596 exploreP:0.9406\n",
      "Episode:26 meanR:23.8519 R:25.0000 rate:0.0500 gloss:0.4229 dlossA:0.8668 dlossQ:1.5259 exploreP:0.9383\n",
      "Episode:27 meanR:23.7857 R:22.0000 rate:0.0440 gloss:0.4244 dlossA:0.8483 dlossQ:1.4774 exploreP:0.9362\n",
      "Episode:28 meanR:24.2069 R:36.0000 rate:0.0720 gloss:0.4081 dlossA:0.8158 dlossQ:1.5538 exploreP:0.9329\n",
      "Episode:29 meanR:24.0667 R:20.0000 rate:0.0400 gloss:0.4029 dlossA:0.7920 dlossQ:1.6018 exploreP:0.9310\n",
      "Episode:30 meanR:23.6452 R:11.0000 rate:0.0220 gloss:0.4044 dlossA:0.7916 dlossQ:1.4228 exploreP:0.9300\n",
      "Episode:31 meanR:23.9688 R:34.0000 rate:0.0680 gloss:0.4046 dlossA:0.7742 dlossQ:1.5728 exploreP:0.9269\n",
      "Episode:32 meanR:24.0303 R:26.0000 rate:0.0520 gloss:0.3979 dlossA:0.7522 dlossQ:1.5607 exploreP:0.9245\n",
      "Episode:33 meanR:23.7941 R:16.0000 rate:0.0320 gloss:0.3972 dlossA:0.7462 dlossQ:1.4478 exploreP:0.9231\n",
      "Episode:34 meanR:23.4571 R:12.0000 rate:0.0240 gloss:0.3921 dlossA:0.7280 dlossQ:1.5037 exploreP:0.9220\n",
      "Episode:35 meanR:23.3333 R:19.0000 rate:0.0380 gloss:0.3830 dlossA:0.7114 dlossQ:1.5728 exploreP:0.9202\n",
      "Episode:36 meanR:23.1622 R:17.0000 rate:0.0340 gloss:0.3963 dlossA:0.7124 dlossQ:1.5050 exploreP:0.9187\n",
      "Episode:37 meanR:22.8684 R:12.0000 rate:0.0240 gloss:0.3795 dlossA:0.6992 dlossQ:1.5409 exploreP:0.9176\n",
      "Episode:38 meanR:23.0000 R:28.0000 rate:0.0560 gloss:0.3848 dlossA:0.6910 dlossQ:1.4986 exploreP:0.9151\n",
      "Episode:39 meanR:23.1500 R:29.0000 rate:0.0580 gloss:0.3855 dlossA:0.6785 dlossQ:1.5958 exploreP:0.9124\n",
      "Episode:40 meanR:23.1951 R:25.0000 rate:0.0500 gloss:0.3689 dlossA:0.6618 dlossQ:1.5994 exploreP:0.9102\n",
      "Episode:41 meanR:23.2619 R:26.0000 rate:0.0520 gloss:0.3930 dlossA:0.6574 dlossQ:1.7046 exploreP:0.9079\n",
      "Episode:42 meanR:23.2791 R:24.0000 rate:0.0480 gloss:0.3647 dlossA:0.6423 dlossQ:1.5836 exploreP:0.9057\n",
      "Episode:43 meanR:23.1136 R:16.0000 rate:0.0320 gloss:0.3928 dlossA:0.6477 dlossQ:1.5474 exploreP:0.9043\n",
      "Episode:44 meanR:22.8222 R:10.0000 rate:0.0200 gloss:0.3721 dlossA:0.6301 dlossQ:1.5298 exploreP:0.9034\n",
      "Episode:45 meanR:22.6739 R:16.0000 rate:0.0320 gloss:0.3808 dlossA:0.6331 dlossQ:1.6137 exploreP:0.9019\n",
      "Episode:46 meanR:22.4255 R:11.0000 rate:0.0220 gloss:0.3764 dlossA:0.6206 dlossQ:1.7382 exploreP:0.9010\n",
      "Episode:47 meanR:22.3958 R:21.0000 rate:0.0420 gloss:0.3762 dlossA:0.6211 dlossQ:1.6572 exploreP:0.8991\n",
      "Episode:48 meanR:22.6735 R:36.0000 rate:0.0720 gloss:0.3765 dlossA:0.6132 dlossQ:1.5993 exploreP:0.8959\n",
      "Episode:49 meanR:22.5400 R:16.0000 rate:0.0320 gloss:0.3891 dlossA:0.6031 dlossQ:1.7392 exploreP:0.8945\n",
      "Episode:50 meanR:22.3725 R:14.0000 rate:0.0280 gloss:0.3661 dlossA:0.5949 dlossQ:1.9828 exploreP:0.8932\n",
      "Episode:51 meanR:22.1923 R:13.0000 rate:0.0260 gloss:0.3811 dlossA:0.6029 dlossQ:1.6466 exploreP:0.8921\n",
      "Episode:52 meanR:22.1132 R:18.0000 rate:0.0360 gloss:0.3632 dlossA:0.5879 dlossQ:1.9811 exploreP:0.8905\n",
      "Episode:53 meanR:22.1296 R:23.0000 rate:0.0460 gloss:0.3788 dlossA:0.5906 dlossQ:1.6203 exploreP:0.8885\n",
      "Episode:54 meanR:21.9273 R:11.0000 rate:0.0220 gloss:0.3712 dlossA:0.5845 dlossQ:1.5271 exploreP:0.8875\n",
      "Episode:55 meanR:22.1607 R:35.0000 rate:0.0700 gloss:0.3794 dlossA:0.5825 dlossQ:1.6500 exploreP:0.8845\n",
      "Episode:56 meanR:22.2807 R:29.0000 rate:0.0580 gloss:0.3849 dlossA:0.5824 dlossQ:1.5427 exploreP:0.8819\n",
      "Episode:57 meanR:22.1379 R:14.0000 rate:0.0280 gloss:0.3445 dlossA:0.5557 dlossQ:1.6745 exploreP:0.8807\n",
      "Episode:58 meanR:22.0169 R:15.0000 rate:0.0300 gloss:0.3925 dlossA:0.5784 dlossQ:2.9345 exploreP:0.8794\n",
      "Episode:59 meanR:21.8333 R:11.0000 rate:0.0220 gloss:0.3760 dlossA:0.5592 dlossQ:1.7110 exploreP:0.8784\n",
      "Episode:60 meanR:21.7049 R:14.0000 rate:0.0280 gloss:0.3665 dlossA:0.5557 dlossQ:1.5920 exploreP:0.8772\n",
      "Episode:61 meanR:21.6935 R:21.0000 rate:0.0420 gloss:0.3738 dlossA:0.5591 dlossQ:1.6370 exploreP:0.8754\n",
      "Episode:62 meanR:22.0317 R:43.0000 rate:0.0860 gloss:0.3780 dlossA:0.5586 dlossQ:1.5934 exploreP:0.8717\n",
      "Episode:63 meanR:22.3594 R:43.0000 rate:0.0860 gloss:0.3777 dlossA:0.5529 dlossQ:1.6363 exploreP:0.8680\n",
      "Episode:64 meanR:22.2154 R:13.0000 rate:0.0260 gloss:0.4034 dlossA:0.5583 dlossQ:1.4981 exploreP:0.8669\n",
      "Episode:65 meanR:22.0909 R:14.0000 rate:0.0280 gloss:0.3625 dlossA:0.5373 dlossQ:1.5882 exploreP:0.8657\n",
      "Episode:66 meanR:22.0299 R:18.0000 rate:0.0360 gloss:0.3420 dlossA:0.5221 dlossQ:1.6617 exploreP:0.8641\n",
      "Episode:67 meanR:21.9559 R:17.0000 rate:0.0340 gloss:0.3653 dlossA:0.5311 dlossQ:1.7444 exploreP:0.8627\n",
      "Episode:68 meanR:22.1884 R:38.0000 rate:0.0760 gloss:0.3759 dlossA:0.5388 dlossQ:1.6059 exploreP:0.8595\n",
      "Episode:69 meanR:22.0429 R:12.0000 rate:0.0240 gloss:0.4187 dlossA:0.5488 dlossQ:1.7143 exploreP:0.8584\n",
      "Episode:70 meanR:22.0141 R:20.0000 rate:0.0400 gloss:0.3916 dlossA:0.5395 dlossQ:1.5867 exploreP:0.8567\n",
      "Episode:71 meanR:22.0278 R:23.0000 rate:0.0460 gloss:0.3743 dlossA:0.5275 dlossQ:1.6155 exploreP:0.8548\n",
      "Episode:72 meanR:21.9041 R:13.0000 rate:0.0260 gloss:0.3524 dlossA:0.5113 dlossQ:1.7106 exploreP:0.8537\n",
      "Episode:73 meanR:21.8243 R:16.0000 rate:0.0320 gloss:0.3705 dlossA:0.5259 dlossQ:1.6346 exploreP:0.8524\n",
      "Episode:74 meanR:21.6533 R:9.0000 rate:0.0180 gloss:0.3561 dlossA:0.5132 dlossQ:1.6317 exploreP:0.8516\n",
      "Episode:75 meanR:21.5395 R:13.0000 rate:0.0260 gloss:0.3758 dlossA:0.5243 dlossQ:1.6236 exploreP:0.8505\n",
      "Episode:76 meanR:21.5584 R:23.0000 rate:0.0460 gloss:0.3885 dlossA:0.5287 dlossQ:1.6058 exploreP:0.8486\n",
      "Episode:77 meanR:21.5256 R:19.0000 rate:0.0380 gloss:0.4071 dlossA:0.5406 dlossQ:1.6364 exploreP:0.8470\n",
      "Episode:78 meanR:21.6329 R:30.0000 rate:0.0600 gloss:0.3942 dlossA:0.5306 dlossQ:1.6086 exploreP:0.8445\n"
     ]
    },
    {
     "name": "stdout",
     "output_type": "stream",
     "text": [
      "Episode:79 meanR:21.6625 R:24.0000 rate:0.0480 gloss:0.3825 dlossA:0.5228 dlossQ:1.6651 exploreP:0.8425\n",
      "Episode:80 meanR:21.8272 R:35.0000 rate:0.0700 gloss:0.3631 dlossA:0.5050 dlossQ:1.7021 exploreP:0.8396\n",
      "Episode:81 meanR:22.0854 R:43.0000 rate:0.0860 gloss:0.3788 dlossA:0.5146 dlossQ:1.6972 exploreP:0.8360\n",
      "Episode:82 meanR:22.0843 R:22.0000 rate:0.0440 gloss:0.3837 dlossA:0.5143 dlossQ:1.6755 exploreP:0.8342\n",
      "Episode:83 meanR:22.1310 R:26.0000 rate:0.0520 gloss:0.3725 dlossA:0.5094 dlossQ:1.6630 exploreP:0.8321\n",
      "Episode:84 meanR:22.0000 R:11.0000 rate:0.0220 gloss:0.3850 dlossA:0.5124 dlossQ:1.7131 exploreP:0.8311\n",
      "Episode:85 meanR:21.9419 R:17.0000 rate:0.0340 gloss:0.3606 dlossA:0.4979 dlossQ:1.8149 exploreP:0.8298\n",
      "Episode:86 meanR:21.8736 R:16.0000 rate:0.0320 gloss:0.3828 dlossA:0.5078 dlossQ:1.7274 exploreP:0.8284\n",
      "Episode:87 meanR:21.8295 R:18.0000 rate:0.0360 gloss:0.3709 dlossA:0.4987 dlossQ:1.7622 exploreP:0.8270\n",
      "Episode:88 meanR:21.6966 R:10.0000 rate:0.0200 gloss:0.4001 dlossA:0.5164 dlossQ:1.7681 exploreP:0.8262\n",
      "Episode:89 meanR:21.5556 R:9.0000 rate:0.0180 gloss:0.3907 dlossA:0.5096 dlossQ:1.7585 exploreP:0.8254\n",
      "Episode:90 meanR:21.5055 R:17.0000 rate:0.0340 gloss:0.3693 dlossA:0.4969 dlossQ:1.8038 exploreP:0.8240\n",
      "Episode:91 meanR:21.4239 R:14.0000 rate:0.0280 gloss:0.3605 dlossA:0.4878 dlossQ:2.3555 exploreP:0.8229\n",
      "Episode:92 meanR:21.3333 R:13.0000 rate:0.0260 gloss:0.3410 dlossA:0.4702 dlossQ:1.8437 exploreP:0.8218\n",
      "Episode:93 meanR:21.4043 R:28.0000 rate:0.0560 gloss:0.3840 dlossA:0.5004 dlossQ:1.8797 exploreP:0.8196\n",
      "Episode:94 meanR:21.3368 R:15.0000 rate:0.0300 gloss:0.4112 dlossA:0.5185 dlossQ:1.8838 exploreP:0.8184\n",
      "Episode:95 meanR:21.2604 R:14.0000 rate:0.0280 gloss:0.4038 dlossA:0.5155 dlossQ:1.8714 exploreP:0.8172\n",
      "Episode:96 meanR:21.3711 R:32.0000 rate:0.0640 gloss:0.3722 dlossA:0.4928 dlossQ:1.9682 exploreP:0.8146\n",
      "Episode:97 meanR:21.2551 R:10.0000 rate:0.0200 gloss:0.3868 dlossA:0.5038 dlossQ:1.9438 exploreP:0.8138\n",
      "Episode:98 meanR:21.2828 R:24.0000 rate:0.0480 gloss:0.3860 dlossA:0.5124 dlossQ:1.9552 exploreP:0.8119\n",
      "Episode:99 meanR:21.1900 R:12.0000 rate:0.0240 gloss:0.3893 dlossA:0.4985 dlossQ:1.9366 exploreP:0.8110\n",
      "Episode:100 meanR:21.0800 R:11.0000 rate:0.0220 gloss:0.3596 dlossA:0.4776 dlossQ:1.9656 exploreP:0.8101\n",
      "Episode:101 meanR:21.1600 R:27.0000 rate:0.0540 gloss:0.3810 dlossA:0.4901 dlossQ:2.0307 exploreP:0.8079\n",
      "Episode:102 meanR:21.2300 R:33.0000 rate:0.0660 gloss:0.3576 dlossA:0.4731 dlossQ:2.3414 exploreP:0.8053\n",
      "Episode:103 meanR:21.2000 R:12.0000 rate:0.0240 gloss:0.4133 dlossA:0.5156 dlossQ:2.3343 exploreP:0.8043\n",
      "Episode:104 meanR:21.1300 R:24.0000 rate:0.0480 gloss:0.3688 dlossA:0.4835 dlossQ:2.1105 exploreP:0.8024\n",
      "Episode:105 meanR:21.1800 R:23.0000 rate:0.0460 gloss:0.3693 dlossA:0.4785 dlossQ:2.3851 exploreP:0.8006\n",
      "Episode:106 meanR:21.2000 R:17.0000 rate:0.0340 gloss:0.3665 dlossA:0.4783 dlossQ:2.1149 exploreP:0.7993\n",
      "Episode:107 meanR:21.2100 R:17.0000 rate:0.0340 gloss:0.3785 dlossA:0.4830 dlossQ:2.0961 exploreP:0.7979\n",
      "Episode:108 meanR:21.0200 R:12.0000 rate:0.0240 gloss:0.3928 dlossA:0.4889 dlossQ:2.2758 exploreP:0.7970\n",
      "Episode:109 meanR:21.0300 R:12.0000 rate:0.0240 gloss:0.3880 dlossA:0.4882 dlossQ:2.4575 exploreP:0.7960\n",
      "Episode:110 meanR:20.8900 R:17.0000 rate:0.0340 gloss:0.3805 dlossA:0.4929 dlossQ:2.2527 exploreP:0.7947\n",
      "Episode:111 meanR:21.0000 R:35.0000 rate:0.0700 gloss:0.3819 dlossA:0.4839 dlossQ:2.3941 exploreP:0.7920\n",
      "Episode:112 meanR:20.6000 R:9.0000 rate:0.0180 gloss:0.3707 dlossA:0.4731 dlossQ:2.3893 exploreP:0.7913\n",
      "Episode:113 meanR:20.4200 R:11.0000 rate:0.0220 gloss:0.3566 dlossA:0.4628 dlossQ:2.3446 exploreP:0.7904\n",
      "Episode:114 meanR:20.4000 R:15.0000 rate:0.0300 gloss:0.3691 dlossA:0.4746 dlossQ:2.3367 exploreP:0.7892\n",
      "Episode:115 meanR:20.2800 R:17.0000 rate:0.0340 gloss:0.3595 dlossA:0.4669 dlossQ:2.4879 exploreP:0.7879\n",
      "Episode:116 meanR:20.3400 R:23.0000 rate:0.0460 gloss:0.3708 dlossA:0.4742 dlossQ:2.3700 exploreP:0.7861\n",
      "Episode:117 meanR:20.3200 R:23.0000 rate:0.0460 gloss:0.3647 dlossA:0.4669 dlossQ:2.4801 exploreP:0.7843\n",
      "Episode:118 meanR:19.9800 R:15.0000 rate:0.0300 gloss:0.3789 dlossA:0.4738 dlossQ:2.6168 exploreP:0.7832\n",
      "Episode:119 meanR:19.9400 R:23.0000 rate:0.0460 gloss:0.4096 dlossA:0.5071 dlossQ:2.5092 exploreP:0.7814\n",
      "Episode:120 meanR:20.0500 R:26.0000 rate:0.0520 gloss:0.3819 dlossA:0.4847 dlossQ:2.4870 exploreP:0.7794\n",
      "Episode:121 meanR:20.1800 R:32.0000 rate:0.0640 gloss:0.3911 dlossA:0.4905 dlossQ:2.6833 exploreP:0.7769\n",
      "Episode:122 meanR:20.0900 R:16.0000 rate:0.0320 gloss:0.3850 dlossA:0.4897 dlossQ:2.5054 exploreP:0.7757\n",
      "Episode:123 meanR:19.9900 R:12.0000 rate:0.0240 gloss:0.3599 dlossA:0.4596 dlossQ:2.5835 exploreP:0.7748\n",
      "Episode:124 meanR:20.0600 R:17.0000 rate:0.0340 gloss:0.3763 dlossA:0.4792 dlossQ:2.5535 exploreP:0.7735\n",
      "Episode:125 meanR:19.9700 R:18.0000 rate:0.0360 gloss:0.3552 dlossA:0.4563 dlossQ:2.6579 exploreP:0.7721\n",
      "Episode:126 meanR:19.8700 R:15.0000 rate:0.0300 gloss:0.3773 dlossA:0.4800 dlossQ:2.5688 exploreP:0.7710\n",
      "Episode:127 meanR:19.8500 R:20.0000 rate:0.0400 gloss:0.4020 dlossA:0.4979 dlossQ:2.9841 exploreP:0.7695\n",
      "Episode:128 meanR:19.6000 R:11.0000 rate:0.0220 gloss:0.4199 dlossA:0.5130 dlossQ:3.3668 exploreP:0.7686\n",
      "Episode:129 meanR:19.5700 R:17.0000 rate:0.0340 gloss:0.3891 dlossA:0.4927 dlossQ:2.5496 exploreP:0.7673\n",
      "Episode:130 meanR:19.5700 R:11.0000 rate:0.0220 gloss:0.4231 dlossA:0.5206 dlossQ:2.6917 exploreP:0.7665\n",
      "Episode:131 meanR:19.5700 R:34.0000 rate:0.0680 gloss:0.3612 dlossA:0.4632 dlossQ:2.7925 exploreP:0.7639\n",
      "Episode:132 meanR:19.4200 R:11.0000 rate:0.0220 gloss:0.3895 dlossA:0.4880 dlossQ:2.7615 exploreP:0.7631\n",
      "Episode:133 meanR:19.5400 R:28.0000 rate:0.0560 gloss:0.3865 dlossA:0.4854 dlossQ:2.9980 exploreP:0.7610\n",
      "Episode:134 meanR:19.5700 R:15.0000 rate:0.0300 gloss:0.3966 dlossA:0.4951 dlossQ:2.9157 exploreP:0.7599\n",
      "Episode:135 meanR:19.5700 R:19.0000 rate:0.0380 gloss:0.3808 dlossA:0.4839 dlossQ:2.9462 exploreP:0.7585\n",
      "Episode:136 meanR:19.5900 R:19.0000 rate:0.0380 gloss:0.3670 dlossA:0.4641 dlossQ:3.0907 exploreP:0.7570\n",
      "Episode:137 meanR:19.5900 R:12.0000 rate:0.0240 gloss:0.3700 dlossA:0.4707 dlossQ:2.8093 exploreP:0.7561\n",
      "Episode:138 meanR:19.4400 R:13.0000 rate:0.0260 gloss:0.4196 dlossA:0.5222 dlossQ:3.4618 exploreP:0.7552\n",
      "Episode:139 meanR:19.3000 R:15.0000 rate:0.0300 gloss:0.3819 dlossA:0.4887 dlossQ:3.1563 exploreP:0.7540\n",
      "Episode:140 meanR:19.4300 R:38.0000 rate:0.0760 gloss:0.3427 dlossA:0.4379 dlossQ:3.1191 exploreP:0.7512\n",
      "Episode:141 meanR:19.3900 R:22.0000 rate:0.0440 gloss:0.4000 dlossA:0.4955 dlossQ:3.2181 exploreP:0.7496\n",
      "Episode:142 meanR:19.3400 R:19.0000 rate:0.0380 gloss:0.3853 dlossA:0.4815 dlossQ:3.1255 exploreP:0.7482\n",
      "Episode:143 meanR:19.3200 R:14.0000 rate:0.0280 gloss:0.3736 dlossA:0.4746 dlossQ:3.2810 exploreP:0.7472\n",
      "Episode:144 meanR:19.4200 R:20.0000 rate:0.0400 gloss:0.3808 dlossA:0.4782 dlossQ:3.2093 exploreP:0.7457\n",
      "Episode:145 meanR:19.4100 R:15.0000 rate:0.0300 gloss:0.3999 dlossA:0.4987 dlossQ:3.1099 exploreP:0.7446\n",
      "Episode:146 meanR:19.4700 R:17.0000 rate:0.0340 gloss:0.3808 dlossA:0.4816 dlossQ:3.1789 exploreP:0.7433\n",
      "Episode:147 meanR:19.5300 R:27.0000 rate:0.0540 gloss:0.3885 dlossA:0.4898 dlossQ:3.2090 exploreP:0.7414\n",
      "Episode:148 meanR:19.3300 R:16.0000 rate:0.0320 gloss:0.4005 dlossA:0.4993 dlossQ:3.3135 exploreP:0.7402\n",
      "Episode:149 meanR:19.3100 R:14.0000 rate:0.0280 gloss:0.4044 dlossA:0.5037 dlossQ:3.5703 exploreP:0.7392\n",
      "Episode:150 meanR:19.3600 R:19.0000 rate:0.0380 gloss:0.4064 dlossA:0.5063 dlossQ:3.3480 exploreP:0.7378\n",
      "Episode:151 meanR:19.3500 R:12.0000 rate:0.0240 gloss:0.3680 dlossA:0.4691 dlossQ:3.0628 exploreP:0.7369\n",
      "Episode:152 meanR:19.3000 R:13.0000 rate:0.0260 gloss:0.4006 dlossA:0.5114 dlossQ:3.3331 exploreP:0.7360\n",
      "Episode:153 meanR:19.2000 R:13.0000 rate:0.0260 gloss:0.3848 dlossA:0.4863 dlossQ:3.5989 exploreP:0.7350\n",
      "Episode:154 meanR:19.4000 R:31.0000 rate:0.0620 gloss:0.4005 dlossA:0.5044 dlossQ:3.3807 exploreP:0.7328\n",
      "Episode:155 meanR:19.1400 R:9.0000 rate:0.0180 gloss:0.3619 dlossA:0.4566 dlossQ:3.6730 exploreP:0.7321\n",
      "Episode:156 meanR:18.9900 R:14.0000 rate:0.0280 gloss:0.3977 dlossA:0.5006 dlossQ:3.4570 exploreP:0.7311\n",
      "Episode:157 meanR:19.0000 R:15.0000 rate:0.0300 gloss:0.3910 dlossA:0.4909 dlossQ:3.6187 exploreP:0.7300\n"
     ]
    },
    {
     "name": "stdout",
     "output_type": "stream",
     "text": [
      "Episode:158 meanR:18.9800 R:13.0000 rate:0.0260 gloss:0.4044 dlossA:0.5071 dlossQ:3.4792 exploreP:0.7291\n",
      "Episode:159 meanR:19.0100 R:14.0000 rate:0.0280 gloss:0.3669 dlossA:0.4665 dlossQ:3.4491 exploreP:0.7281\n",
      "Episode:160 meanR:18.9900 R:12.0000 rate:0.0240 gloss:0.4011 dlossA:0.5020 dlossQ:3.5739 exploreP:0.7272\n",
      "Episode:161 meanR:19.0000 R:22.0000 rate:0.0440 gloss:0.3655 dlossA:0.4594 dlossQ:3.5454 exploreP:0.7257\n",
      "Episode:162 meanR:18.7500 R:18.0000 rate:0.0360 gloss:0.3963 dlossA:0.4964 dlossQ:3.7820 exploreP:0.7244\n",
      "Episode:163 meanR:18.5200 R:20.0000 rate:0.0400 gloss:0.4024 dlossA:0.5105 dlossQ:4.2407 exploreP:0.7229\n",
      "Episode:164 meanR:18.5800 R:19.0000 rate:0.0380 gloss:0.3669 dlossA:0.4631 dlossQ:3.6648 exploreP:0.7216\n",
      "Episode:165 meanR:18.6100 R:17.0000 rate:0.0340 gloss:0.3731 dlossA:0.4744 dlossQ:3.5710 exploreP:0.7204\n",
      "Episode:166 meanR:18.6500 R:22.0000 rate:0.0440 gloss:0.3811 dlossA:0.4768 dlossQ:3.4830 exploreP:0.7188\n",
      "Episode:167 meanR:18.6600 R:18.0000 rate:0.0360 gloss:0.3664 dlossA:0.4635 dlossQ:3.6085 exploreP:0.7175\n",
      "Episode:168 meanR:18.4000 R:12.0000 rate:0.0240 gloss:0.3941 dlossA:0.4942 dlossQ:4.0589 exploreP:0.7167\n",
      "Episode:169 meanR:18.5000 R:22.0000 rate:0.0440 gloss:0.3753 dlossA:0.4705 dlossQ:3.7938 exploreP:0.7151\n",
      "Episode:170 meanR:18.4200 R:12.0000 rate:0.0240 gloss:0.3693 dlossA:0.4636 dlossQ:3.6380 exploreP:0.7143\n",
      "Episode:171 meanR:18.3100 R:12.0000 rate:0.0240 gloss:0.3763 dlossA:0.4748 dlossQ:3.5529 exploreP:0.7135\n",
      "Episode:172 meanR:18.2700 R:9.0000 rate:0.0180 gloss:0.3675 dlossA:0.4620 dlossQ:3.6684 exploreP:0.7128\n",
      "Episode:173 meanR:18.2400 R:13.0000 rate:0.0260 gloss:0.3790 dlossA:0.4723 dlossQ:3.8702 exploreP:0.7119\n",
      "Episode:174 meanR:18.4100 R:26.0000 rate:0.0520 gloss:0.3853 dlossA:0.4826 dlossQ:3.8603 exploreP:0.7101\n",
      "Episode:175 meanR:18.4300 R:15.0000 rate:0.0300 gloss:0.3928 dlossA:0.4896 dlossQ:3.7792 exploreP:0.7090\n",
      "Episode:176 meanR:18.4000 R:20.0000 rate:0.0400 gloss:0.4075 dlossA:0.5049 dlossQ:3.6619 exploreP:0.7076\n",
      "Episode:177 meanR:18.3400 R:13.0000 rate:0.0260 gloss:0.3896 dlossA:0.4882 dlossQ:3.6329 exploreP:0.7067\n",
      "Episode:178 meanR:18.1500 R:11.0000 rate:0.0220 gloss:0.3986 dlossA:0.5051 dlossQ:3.6722 exploreP:0.7060\n",
      "Episode:179 meanR:18.0400 R:13.0000 rate:0.0260 gloss:0.4008 dlossA:0.4991 dlossQ:4.1357 exploreP:0.7051\n",
      "Episode:180 meanR:17.8200 R:13.0000 rate:0.0260 gloss:0.3715 dlossA:0.4649 dlossQ:3.6188 exploreP:0.7042\n",
      "Episode:181 meanR:17.5100 R:12.0000 rate:0.0240 gloss:0.4428 dlossA:0.5462 dlossQ:4.2550 exploreP:0.7033\n",
      "Episode:182 meanR:17.4700 R:18.0000 rate:0.0360 gloss:0.4045 dlossA:0.5038 dlossQ:3.7651 exploreP:0.7021\n",
      "Episode:183 meanR:17.3600 R:15.0000 rate:0.0300 gloss:0.3924 dlossA:0.4916 dlossQ:3.6159 exploreP:0.7010\n",
      "Episode:184 meanR:17.3500 R:10.0000 rate:0.0200 gloss:0.4349 dlossA:0.5439 dlossQ:3.5629 exploreP:0.7004\n",
      "Episode:185 meanR:17.3800 R:20.0000 rate:0.0400 gloss:0.3550 dlossA:0.4492 dlossQ:3.7453 exploreP:0.6990\n",
      "Episode:186 meanR:17.3200 R:10.0000 rate:0.0200 gloss:0.4100 dlossA:0.5062 dlossQ:3.6813 exploreP:0.6983\n",
      "Episode:187 meanR:17.4300 R:29.0000 rate:0.0580 gloss:0.3972 dlossA:0.4940 dlossQ:3.8093 exploreP:0.6963\n",
      "Episode:188 meanR:17.4600 R:13.0000 rate:0.0260 gloss:0.4040 dlossA:0.4995 dlossQ:3.9118 exploreP:0.6954\n",
      "Episode:189 meanR:17.4800 R:11.0000 rate:0.0220 gloss:0.4031 dlossA:0.4925 dlossQ:4.0325 exploreP:0.6946\n",
      "Episode:190 meanR:17.4400 R:13.0000 rate:0.0260 gloss:0.3802 dlossA:0.4725 dlossQ:3.6707 exploreP:0.6938\n",
      "Episode:191 meanR:17.4400 R:14.0000 rate:0.0280 gloss:0.3896 dlossA:0.4811 dlossQ:3.6875 exploreP:0.6928\n",
      "Episode:192 meanR:17.5700 R:26.0000 rate:0.0520 gloss:0.3744 dlossA:0.4666 dlossQ:3.5584 exploreP:0.6910\n",
      "Episode:193 meanR:17.3900 R:10.0000 rate:0.0200 gloss:0.3965 dlossA:0.4863 dlossQ:3.7634 exploreP:0.6903\n",
      "Episode:194 meanR:17.5200 R:28.0000 rate:0.0560 gloss:0.3949 dlossA:0.4845 dlossQ:3.5974 exploreP:0.6884\n",
      "Episode:195 meanR:17.5100 R:13.0000 rate:0.0260 gloss:0.3936 dlossA:0.4847 dlossQ:3.5877 exploreP:0.6876\n",
      "Episode:196 meanR:17.3800 R:19.0000 rate:0.0380 gloss:0.3767 dlossA:0.4610 dlossQ:3.5287 exploreP:0.6863\n",
      "Episode:197 meanR:17.4000 R:12.0000 rate:0.0240 gloss:0.3738 dlossA:0.4597 dlossQ:3.4864 exploreP:0.6855\n",
      "Episode:198 meanR:17.2700 R:11.0000 rate:0.0220 gloss:0.3794 dlossA:0.4631 dlossQ:3.5256 exploreP:0.6847\n",
      "Episode:199 meanR:17.3100 R:16.0000 rate:0.0320 gloss:0.3932 dlossA:0.4735 dlossQ:3.5826 exploreP:0.6836\n",
      "Episode:200 meanR:17.3700 R:17.0000 rate:0.0340 gloss:0.3808 dlossA:0.4614 dlossQ:3.5319 exploreP:0.6825\n",
      "Episode:201 meanR:17.1800 R:8.0000 rate:0.0160 gloss:0.3708 dlossA:0.4546 dlossQ:3.5548 exploreP:0.6820\n",
      "Episode:202 meanR:16.9900 R:14.0000 rate:0.0280 gloss:0.3646 dlossA:0.4407 dlossQ:3.5143 exploreP:0.6810\n",
      "Episode:203 meanR:17.0200 R:15.0000 rate:0.0300 gloss:0.3596 dlossA:0.4334 dlossQ:3.4521 exploreP:0.6800\n",
      "Episode:204 meanR:16.8700 R:9.0000 rate:0.0180 gloss:0.3790 dlossA:0.4507 dlossQ:3.5011 exploreP:0.6794\n",
      "Episode:205 meanR:16.8300 R:19.0000 rate:0.0380 gloss:0.3678 dlossA:0.4424 dlossQ:3.4061 exploreP:0.6781\n",
      "Episode:206 meanR:16.8900 R:23.0000 rate:0.0460 gloss:0.3927 dlossA:0.4721 dlossQ:3.4549 exploreP:0.6766\n",
      "Episode:207 meanR:16.9400 R:22.0000 rate:0.0440 gloss:0.4058 dlossA:0.4800 dlossQ:3.2717 exploreP:0.6751\n",
      "Episode:208 meanR:17.1000 R:28.0000 rate:0.0560 gloss:0.3897 dlossA:0.4677 dlossQ:3.4100 exploreP:0.6733\n",
      "Episode:209 meanR:17.1000 R:12.0000 rate:0.0240 gloss:0.3862 dlossA:0.4566 dlossQ:3.2370 exploreP:0.6725\n",
      "Episode:210 meanR:17.1300 R:20.0000 rate:0.0400 gloss:0.3980 dlossA:0.4675 dlossQ:3.3999 exploreP:0.6712\n",
      "Episode:211 meanR:16.9400 R:16.0000 rate:0.0320 gloss:0.3821 dlossA:0.4531 dlossQ:3.3320 exploreP:0.6701\n",
      "Episode:212 meanR:17.0000 R:15.0000 rate:0.0300 gloss:0.4281 dlossA:0.5005 dlossQ:3.2723 exploreP:0.6691\n",
      "Episode:213 meanR:17.1900 R:30.0000 rate:0.0600 gloss:0.3801 dlossA:0.4480 dlossQ:3.1521 exploreP:0.6671\n",
      "Episode:214 meanR:17.1400 R:10.0000 rate:0.0200 gloss:0.3852 dlossA:0.4541 dlossQ:3.2762 exploreP:0.6665\n",
      "Episode:215 meanR:17.3100 R:34.0000 rate:0.0680 gloss:0.3981 dlossA:0.4652 dlossQ:3.2600 exploreP:0.6643\n",
      "Episode:216 meanR:17.2300 R:15.0000 rate:0.0300 gloss:0.4047 dlossA:0.4699 dlossQ:4.0526 exploreP:0.6633\n",
      "Episode:217 meanR:17.1900 R:19.0000 rate:0.0380 gloss:0.3804 dlossA:0.4453 dlossQ:3.2143 exploreP:0.6620\n",
      "Episode:218 meanR:17.1800 R:14.0000 rate:0.0280 gloss:0.3700 dlossA:0.4333 dlossQ:3.2808 exploreP:0.6611\n",
      "Episode:219 meanR:17.2600 R:31.0000 rate:0.0620 gloss:0.3973 dlossA:0.4615 dlossQ:3.1966 exploreP:0.6591\n",
      "Episode:220 meanR:17.1000 R:10.0000 rate:0.0200 gloss:0.4322 dlossA:0.4900 dlossQ:3.3682 exploreP:0.6585\n",
      "Episode:221 meanR:16.8800 R:10.0000 rate:0.0200 gloss:0.4065 dlossA:0.4642 dlossQ:3.4088 exploreP:0.6578\n",
      "Episode:222 meanR:16.8800 R:16.0000 rate:0.0320 gloss:0.3928 dlossA:0.4553 dlossQ:2.9621 exploreP:0.6568\n",
      "Episode:223 meanR:17.0100 R:25.0000 rate:0.0500 gloss:0.3957 dlossA:0.4604 dlossQ:3.0408 exploreP:0.6552\n",
      "Episode:224 meanR:17.3000 R:46.0000 rate:0.0920 gloss:0.4093 dlossA:0.4701 dlossQ:3.1083 exploreP:0.6522\n",
      "Episode:225 meanR:17.2500 R:13.0000 rate:0.0260 gloss:0.4294 dlossA:0.4910 dlossQ:2.9649 exploreP:0.6514\n",
      "Episode:226 meanR:17.3400 R:24.0000 rate:0.0480 gloss:0.3962 dlossA:0.4586 dlossQ:3.0024 exploreP:0.6498\n",
      "Episode:227 meanR:17.4900 R:35.0000 rate:0.0700 gloss:0.4154 dlossA:0.4773 dlossQ:3.0771 exploreP:0.6476\n",
      "Episode:228 meanR:17.5000 R:12.0000 rate:0.0240 gloss:0.4242 dlossA:0.4851 dlossQ:2.9120 exploreP:0.6468\n",
      "Episode:229 meanR:17.4400 R:11.0000 rate:0.0220 gloss:0.4039 dlossA:0.4701 dlossQ:3.1056 exploreP:0.6461\n",
      "Episode:230 meanR:17.4200 R:9.0000 rate:0.0180 gloss:0.4090 dlossA:0.4653 dlossQ:2.8310 exploreP:0.6456\n",
      "Episode:231 meanR:17.2800 R:20.0000 rate:0.0400 gloss:0.3960 dlossA:0.4547 dlossQ:3.0165 exploreP:0.6443\n",
      "Episode:232 meanR:17.2900 R:12.0000 rate:0.0240 gloss:0.3893 dlossA:0.4515 dlossQ:2.8477 exploreP:0.6435\n",
      "Episode:233 meanR:17.1800 R:17.0000 rate:0.0340 gloss:0.4141 dlossA:0.4720 dlossQ:2.8234 exploreP:0.6425\n",
      "Episode:234 meanR:17.1400 R:11.0000 rate:0.0220 gloss:0.3496 dlossA:0.4116 dlossQ:2.7811 exploreP:0.6418\n",
      "Episode:235 meanR:17.0800 R:13.0000 rate:0.0260 gloss:0.3994 dlossA:0.4561 dlossQ:2.8507 exploreP:0.6409\n",
      "Episode:236 meanR:17.0100 R:12.0000 rate:0.0240 gloss:0.3590 dlossA:0.4166 dlossQ:2.8289 exploreP:0.6402\n"
     ]
    },
    {
     "name": "stdout",
     "output_type": "stream",
     "text": [
      "Episode:237 meanR:17.0800 R:19.0000 rate:0.0380 gloss:0.4089 dlossA:0.4618 dlossQ:2.9672 exploreP:0.6390\n",
      "Episode:238 meanR:17.0600 R:11.0000 rate:0.0220 gloss:0.3763 dlossA:0.4335 dlossQ:2.9406 exploreP:0.6383\n",
      "Episode:239 meanR:17.1400 R:23.0000 rate:0.0460 gloss:0.3881 dlossA:0.4449 dlossQ:2.8652 exploreP:0.6368\n",
      "Episode:240 meanR:16.9300 R:17.0000 rate:0.0340 gloss:0.3739 dlossA:0.4342 dlossQ:2.8403 exploreP:0.6358\n",
      "Episode:241 meanR:16.8000 R:9.0000 rate:0.0180 gloss:0.3833 dlossA:0.4361 dlossQ:2.5711 exploreP:0.6352\n",
      "Episode:242 meanR:16.7400 R:13.0000 rate:0.0260 gloss:0.3854 dlossA:0.4439 dlossQ:2.8296 exploreP:0.6344\n",
      "Episode:243 meanR:16.8200 R:22.0000 rate:0.0440 gloss:0.3660 dlossA:0.4211 dlossQ:2.9096 exploreP:0.6330\n",
      "Episode:244 meanR:16.7400 R:12.0000 rate:0.0240 gloss:0.4435 dlossA:0.4995 dlossQ:2.8256 exploreP:0.6323\n",
      "Episode:245 meanR:16.8200 R:23.0000 rate:0.0460 gloss:0.4056 dlossA:0.4644 dlossQ:2.8567 exploreP:0.6309\n",
      "Episode:246 meanR:16.8300 R:18.0000 rate:0.0360 gloss:0.4221 dlossA:0.4781 dlossQ:2.8996 exploreP:0.6297\n",
      "Episode:247 meanR:16.6600 R:10.0000 rate:0.0200 gloss:0.3965 dlossA:0.4567 dlossQ:2.8167 exploreP:0.6291\n",
      "Episode:248 meanR:16.6000 R:10.0000 rate:0.0200 gloss:0.4135 dlossA:0.4705 dlossQ:2.8379 exploreP:0.6285\n",
      "Episode:249 meanR:16.5700 R:11.0000 rate:0.0220 gloss:0.4135 dlossA:0.4656 dlossQ:2.8265 exploreP:0.6278\n",
      "Episode:250 meanR:16.5700 R:19.0000 rate:0.0380 gloss:0.4034 dlossA:0.4592 dlossQ:2.9050 exploreP:0.6267\n",
      "Episode:251 meanR:16.9500 R:50.0000 rate:0.1000 gloss:0.4040 dlossA:0.4568 dlossQ:2.7687 exploreP:0.6236\n",
      "Episode:252 meanR:16.9400 R:12.0000 rate:0.0240 gloss:0.4143 dlossA:0.4648 dlossQ:3.0192 exploreP:0.6228\n",
      "Episode:253 meanR:16.9700 R:16.0000 rate:0.0320 gloss:0.3819 dlossA:0.4337 dlossQ:2.7882 exploreP:0.6219\n",
      "Episode:254 meanR:16.7800 R:12.0000 rate:0.0240 gloss:0.4042 dlossA:0.4609 dlossQ:2.7953 exploreP:0.6211\n",
      "Episode:255 meanR:16.8400 R:15.0000 rate:0.0300 gloss:0.4130 dlossA:0.4757 dlossQ:2.7697 exploreP:0.6202\n",
      "Episode:256 meanR:16.8600 R:16.0000 rate:0.0320 gloss:0.3793 dlossA:0.4314 dlossQ:2.7598 exploreP:0.6192\n",
      "Episode:257 meanR:16.8000 R:9.0000 rate:0.0180 gloss:0.3724 dlossA:0.4321 dlossQ:2.8313 exploreP:0.6187\n",
      "Episode:258 meanR:16.7800 R:11.0000 rate:0.0220 gloss:0.4001 dlossA:0.4588 dlossQ:2.7620 exploreP:0.6180\n",
      "Episode:259 meanR:16.9100 R:27.0000 rate:0.0540 gloss:0.4217 dlossA:0.4731 dlossQ:2.9335 exploreP:0.6164\n",
      "Episode:260 meanR:16.9900 R:20.0000 rate:0.0400 gloss:0.3761 dlossA:0.4305 dlossQ:2.7542 exploreP:0.6152\n",
      "Episode:261 meanR:17.0000 R:23.0000 rate:0.0460 gloss:0.3982 dlossA:0.4499 dlossQ:2.8601 exploreP:0.6138\n",
      "Episode:262 meanR:16.9600 R:14.0000 rate:0.0280 gloss:0.3984 dlossA:0.4558 dlossQ:2.8404 exploreP:0.6129\n",
      "Episode:263 meanR:16.8600 R:10.0000 rate:0.0200 gloss:0.4242 dlossA:0.4811 dlossQ:2.7266 exploreP:0.6123\n",
      "Episode:264 meanR:16.9800 R:31.0000 rate:0.0620 gloss:0.4155 dlossA:0.4721 dlossQ:2.9362 exploreP:0.6105\n",
      "Episode:265 meanR:16.9800 R:17.0000 rate:0.0340 gloss:0.3753 dlossA:0.4359 dlossQ:2.7559 exploreP:0.6094\n",
      "Episode:266 meanR:16.8500 R:9.0000 rate:0.0180 gloss:0.3999 dlossA:0.4579 dlossQ:2.7342 exploreP:0.6089\n",
      "Episode:267 meanR:16.8100 R:14.0000 rate:0.0280 gloss:0.3961 dlossA:0.4489 dlossQ:2.9433 exploreP:0.6081\n",
      "Episode:268 meanR:16.7700 R:8.0000 rate:0.0160 gloss:0.4210 dlossA:0.4796 dlossQ:2.6825 exploreP:0.6076\n",
      "Episode:269 meanR:16.7200 R:17.0000 rate:0.0340 gloss:0.3878 dlossA:0.4458 dlossQ:2.8592 exploreP:0.6066\n",
      "Episode:270 meanR:16.7700 R:17.0000 rate:0.0340 gloss:0.4142 dlossA:0.4740 dlossQ:2.8571 exploreP:0.6056\n",
      "Episode:271 meanR:16.8300 R:18.0000 rate:0.0360 gloss:0.3876 dlossA:0.4452 dlossQ:2.7844 exploreP:0.6045\n",
      "Episode:272 meanR:16.8400 R:10.0000 rate:0.0200 gloss:0.3516 dlossA:0.4173 dlossQ:2.8737 exploreP:0.6039\n",
      "Episode:273 meanR:16.8200 R:11.0000 rate:0.0220 gloss:0.3884 dlossA:0.4469 dlossQ:2.7780 exploreP:0.6032\n",
      "Episode:274 meanR:16.6600 R:10.0000 rate:0.0200 gloss:0.4396 dlossA:0.4927 dlossQ:2.8248 exploreP:0.6027\n",
      "Episode:275 meanR:16.7300 R:22.0000 rate:0.0440 gloss:0.3779 dlossA:0.4338 dlossQ:2.9265 exploreP:0.6013\n",
      "Episode:276 meanR:16.6500 R:12.0000 rate:0.0240 gloss:0.4148 dlossA:0.4778 dlossQ:2.8105 exploreP:0.6006\n",
      "Episode:277 meanR:16.6700 R:15.0000 rate:0.0300 gloss:0.4120 dlossA:0.4769 dlossQ:2.9100 exploreP:0.5998\n",
      "Episode:278 meanR:16.6800 R:12.0000 rate:0.0240 gloss:0.4475 dlossA:0.5062 dlossQ:2.9016 exploreP:0.5990\n",
      "Episode:279 meanR:16.6500 R:10.0000 rate:0.0200 gloss:0.3864 dlossA:0.4477 dlossQ:2.7692 exploreP:0.5985\n",
      "Episode:280 meanR:16.6400 R:12.0000 rate:0.0240 gloss:0.4236 dlossA:0.4916 dlossQ:2.8629 exploreP:0.5978\n",
      "Episode:281 meanR:16.6800 R:16.0000 rate:0.0320 gloss:0.3776 dlossA:0.4375 dlossQ:2.8936 exploreP:0.5968\n",
      "Episode:282 meanR:16.6000 R:10.0000 rate:0.0200 gloss:0.3909 dlossA:0.4562 dlossQ:2.7809 exploreP:0.5962\n",
      "Episode:283 meanR:16.5500 R:10.0000 rate:0.0200 gloss:0.4172 dlossA:0.4912 dlossQ:3.0300 exploreP:0.5956\n",
      "Episode:284 meanR:16.5500 R:10.0000 rate:0.0200 gloss:0.4163 dlossA:0.4818 dlossQ:2.9763 exploreP:0.5951\n",
      "Episode:285 meanR:16.9100 R:56.0000 rate:0.1120 gloss:0.4072 dlossA:0.4687 dlossQ:2.8850 exploreP:0.5918\n",
      "Episode:286 meanR:16.9800 R:17.0000 rate:0.0340 gloss:0.4289 dlossA:0.4936 dlossQ:2.9448 exploreP:0.5908\n",
      "Episode:287 meanR:16.8500 R:16.0000 rate:0.0320 gloss:0.4049 dlossA:0.4716 dlossQ:2.8385 exploreP:0.5899\n",
      "Episode:288 meanR:16.9400 R:22.0000 rate:0.0440 gloss:0.4007 dlossA:0.4632 dlossQ:2.9050 exploreP:0.5886\n",
      "Episode:289 meanR:17.0300 R:20.0000 rate:0.0400 gloss:0.3973 dlossA:0.4654 dlossQ:2.9502 exploreP:0.5874\n",
      "Episode:290 meanR:17.0700 R:17.0000 rate:0.0340 gloss:0.3609 dlossA:0.4277 dlossQ:2.8708 exploreP:0.5865\n",
      "Episode:291 meanR:17.0800 R:15.0000 rate:0.0300 gloss:0.3495 dlossA:0.4135 dlossQ:2.8723 exploreP:0.5856\n",
      "Episode:292 meanR:17.0200 R:20.0000 rate:0.0400 gloss:0.4000 dlossA:0.4646 dlossQ:2.9708 exploreP:0.5844\n",
      "Episode:293 meanR:17.2200 R:30.0000 rate:0.0600 gloss:0.3905 dlossA:0.4601 dlossQ:2.9004 exploreP:0.5827\n",
      "Episode:294 meanR:17.0300 R:9.0000 rate:0.0180 gloss:0.4313 dlossA:0.5019 dlossQ:2.9533 exploreP:0.5822\n",
      "Episode:295 meanR:17.0500 R:15.0000 rate:0.0300 gloss:0.3910 dlossA:0.4519 dlossQ:2.9448 exploreP:0.5814\n",
      "Episode:296 meanR:17.0200 R:16.0000 rate:0.0320 gloss:0.3743 dlossA:0.4389 dlossQ:2.8206 exploreP:0.5804\n",
      "Episode:297 meanR:17.0500 R:15.0000 rate:0.0300 gloss:0.3947 dlossA:0.4623 dlossQ:2.8237 exploreP:0.5796\n",
      "Episode:298 meanR:17.0400 R:10.0000 rate:0.0200 gloss:0.3909 dlossA:0.4638 dlossQ:2.7611 exploreP:0.5790\n",
      "Episode:299 meanR:17.2500 R:37.0000 rate:0.0740 gloss:0.3832 dlossA:0.4533 dlossQ:2.8978 exploreP:0.5769\n",
      "Episode:300 meanR:17.1900 R:11.0000 rate:0.0220 gloss:0.4151 dlossA:0.4849 dlossQ:2.9237 exploreP:0.5763\n",
      "Episode:301 meanR:17.2800 R:17.0000 rate:0.0340 gloss:0.4127 dlossA:0.4733 dlossQ:2.8158 exploreP:0.5753\n",
      "Episode:302 meanR:17.2400 R:10.0000 rate:0.0200 gloss:0.3910 dlossA:0.4516 dlossQ:2.9021 exploreP:0.5748\n",
      "Episode:303 meanR:17.2400 R:15.0000 rate:0.0300 gloss:0.4048 dlossA:0.4704 dlossQ:2.8133 exploreP:0.5739\n",
      "Episode:304 meanR:17.3500 R:20.0000 rate:0.0400 gloss:0.3897 dlossA:0.4559 dlossQ:2.8512 exploreP:0.5728\n",
      "Episode:305 meanR:17.3500 R:19.0000 rate:0.0380 gloss:0.4203 dlossA:0.4906 dlossQ:2.9025 exploreP:0.5717\n",
      "Episode:306 meanR:17.2100 R:9.0000 rate:0.0180 gloss:0.3891 dlossA:0.4581 dlossQ:2.8480 exploreP:0.5712\n",
      "Episode:307 meanR:17.1500 R:16.0000 rate:0.0320 gloss:0.4283 dlossA:0.4968 dlossQ:2.8107 exploreP:0.5703\n",
      "Episode:308 meanR:17.0200 R:15.0000 rate:0.0300 gloss:0.4016 dlossA:0.4695 dlossQ:2.8445 exploreP:0.5695\n",
      "Episode:309 meanR:17.0000 R:10.0000 rate:0.0200 gloss:0.3783 dlossA:0.4486 dlossQ:2.8771 exploreP:0.5689\n",
      "Episode:310 meanR:17.0300 R:23.0000 rate:0.0460 gloss:0.3691 dlossA:0.4394 dlossQ:2.8163 exploreP:0.5676\n",
      "Episode:311 meanR:17.0900 R:22.0000 rate:0.0440 gloss:0.4218 dlossA:0.4899 dlossQ:2.8575 exploreP:0.5664\n",
      "Episode:312 meanR:17.0900 R:15.0000 rate:0.0300 gloss:0.4015 dlossA:0.4665 dlossQ:2.9057 exploreP:0.5656\n",
      "Episode:313 meanR:16.8900 R:10.0000 rate:0.0200 gloss:0.3929 dlossA:0.4610 dlossQ:2.7422 exploreP:0.5650\n",
      "Episode:314 meanR:16.9900 R:20.0000 rate:0.0400 gloss:0.3757 dlossA:0.4432 dlossQ:2.8182 exploreP:0.5639\n",
      "Episode:315 meanR:16.7600 R:11.0000 rate:0.0220 gloss:0.3991 dlossA:0.4670 dlossQ:2.8363 exploreP:0.5633\n"
     ]
    },
    {
     "name": "stdout",
     "output_type": "stream",
     "text": [
      "Episode:316 meanR:16.7900 R:18.0000 rate:0.0360 gloss:0.4511 dlossA:0.5134 dlossQ:2.7268 exploreP:0.5623\n",
      "Episode:317 meanR:16.7200 R:12.0000 rate:0.0240 gloss:0.4064 dlossA:0.4722 dlossQ:2.6396 exploreP:0.5616\n",
      "Episode:318 meanR:16.7200 R:14.0000 rate:0.0280 gloss:0.4002 dlossA:0.4689 dlossQ:2.9365 exploreP:0.5609\n",
      "Episode:319 meanR:16.5400 R:13.0000 rate:0.0260 gloss:0.4067 dlossA:0.4709 dlossQ:2.7044 exploreP:0.5602\n",
      "Episode:320 meanR:16.5700 R:13.0000 rate:0.0260 gloss:0.3606 dlossA:0.4289 dlossQ:2.7365 exploreP:0.5594\n",
      "Episode:321 meanR:16.5600 R:9.0000 rate:0.0180 gloss:0.3915 dlossA:0.4567 dlossQ:2.6858 exploreP:0.5589\n",
      "Episode:322 meanR:16.5200 R:12.0000 rate:0.0240 gloss:0.3901 dlossA:0.4533 dlossQ:2.7186 exploreP:0.5583\n",
      "Episode:323 meanR:16.3900 R:12.0000 rate:0.0240 gloss:0.4024 dlossA:0.4653 dlossQ:2.6981 exploreP:0.5576\n",
      "Episode:324 meanR:16.1200 R:19.0000 rate:0.0380 gloss:0.4032 dlossA:0.4653 dlossQ:2.6666 exploreP:0.5566\n",
      "Episode:325 meanR:16.2200 R:23.0000 rate:0.0460 gloss:0.4074 dlossA:0.4724 dlossQ:2.7912 exploreP:0.5553\n",
      "Episode:326 meanR:16.1500 R:17.0000 rate:0.0340 gloss:0.3805 dlossA:0.4414 dlossQ:2.7000 exploreP:0.5544\n",
      "Episode:327 meanR:16.0700 R:27.0000 rate:0.0540 gloss:0.4013 dlossA:0.4614 dlossQ:2.6588 exploreP:0.5529\n",
      "Episode:328 meanR:16.1300 R:18.0000 rate:0.0360 gloss:0.4117 dlossA:0.4710 dlossQ:2.6285 exploreP:0.5520\n",
      "Episode:329 meanR:16.1500 R:13.0000 rate:0.0260 gloss:0.3931 dlossA:0.4564 dlossQ:2.6451 exploreP:0.5513\n",
      "Episode:330 meanR:16.1800 R:12.0000 rate:0.0240 gloss:0.4090 dlossA:0.4677 dlossQ:2.5602 exploreP:0.5506\n",
      "Episode:331 meanR:16.1500 R:17.0000 rate:0.0340 gloss:0.3985 dlossA:0.4568 dlossQ:2.6159 exploreP:0.5497\n",
      "Episode:332 meanR:16.2700 R:24.0000 rate:0.0480 gloss:0.4036 dlossA:0.4643 dlossQ:2.6368 exploreP:0.5484\n",
      "Episode:333 meanR:16.1900 R:9.0000 rate:0.0180 gloss:0.4520 dlossA:0.5125 dlossQ:2.5563 exploreP:0.5479\n",
      "Episode:334 meanR:16.2000 R:12.0000 rate:0.0240 gloss:0.3730 dlossA:0.4359 dlossQ:2.6303 exploreP:0.5473\n",
      "Episode:335 meanR:16.1900 R:12.0000 rate:0.0240 gloss:0.3632 dlossA:0.4219 dlossQ:2.5851 exploreP:0.5466\n",
      "Episode:336 meanR:16.1900 R:12.0000 rate:0.0240 gloss:0.3838 dlossA:0.4473 dlossQ:2.6774 exploreP:0.5460\n",
      "Episode:337 meanR:16.2000 R:20.0000 rate:0.0400 gloss:0.3969 dlossA:0.4576 dlossQ:2.5661 exploreP:0.5449\n",
      "Episode:338 meanR:16.2100 R:12.0000 rate:0.0240 gloss:0.3879 dlossA:0.4496 dlossQ:2.8269 exploreP:0.5443\n",
      "Episode:339 meanR:16.3300 R:35.0000 rate:0.0700 gloss:0.4061 dlossA:0.4657 dlossQ:2.6332 exploreP:0.5424\n",
      "Episode:340 meanR:16.4500 R:29.0000 rate:0.0580 gloss:0.3771 dlossA:0.4388 dlossQ:3.0750 exploreP:0.5409\n",
      "Episode:341 meanR:16.4800 R:12.0000 rate:0.0240 gloss:0.3990 dlossA:0.4620 dlossQ:2.6581 exploreP:0.5402\n",
      "Episode:342 meanR:16.4500 R:10.0000 rate:0.0200 gloss:0.3938 dlossA:0.4561 dlossQ:2.5762 exploreP:0.5397\n",
      "Episode:343 meanR:16.5900 R:36.0000 rate:0.0720 gloss:0.4025 dlossA:0.4612 dlossQ:2.6394 exploreP:0.5378\n",
      "Episode:344 meanR:16.7100 R:24.0000 rate:0.0480 gloss:0.3884 dlossA:0.4490 dlossQ:2.6023 exploreP:0.5365\n",
      "Episode:345 meanR:16.6500 R:17.0000 rate:0.0340 gloss:0.4139 dlossA:0.4733 dlossQ:2.5629 exploreP:0.5356\n",
      "Episode:346 meanR:16.5800 R:11.0000 rate:0.0220 gloss:0.3871 dlossA:0.4500 dlossQ:2.6658 exploreP:0.5351\n",
      "Episode:347 meanR:16.7100 R:23.0000 rate:0.0460 gloss:0.4016 dlossA:0.4633 dlossQ:2.7080 exploreP:0.5338\n",
      "Episode:348 meanR:16.8800 R:27.0000 rate:0.0540 gloss:0.3811 dlossA:0.4445 dlossQ:2.6775 exploreP:0.5324\n",
      "Episode:349 meanR:16.9500 R:18.0000 rate:0.0360 gloss:0.4061 dlossA:0.4680 dlossQ:2.6542 exploreP:0.5315\n",
      "Episode:350 meanR:16.9100 R:15.0000 rate:0.0300 gloss:0.3735 dlossA:0.4351 dlossQ:2.6035 exploreP:0.5307\n",
      "Episode:351 meanR:16.5700 R:16.0000 rate:0.0320 gloss:0.3933 dlossA:0.4531 dlossQ:2.6937 exploreP:0.5299\n",
      "Episode:352 meanR:16.6500 R:20.0000 rate:0.0400 gloss:0.4145 dlossA:0.4762 dlossQ:2.6823 exploreP:0.5288\n",
      "Episode:353 meanR:16.6700 R:18.0000 rate:0.0360 gloss:0.3987 dlossA:0.4599 dlossQ:2.6790 exploreP:0.5279\n",
      "Episode:354 meanR:16.6800 R:13.0000 rate:0.0260 gloss:0.3875 dlossA:0.4500 dlossQ:2.6741 exploreP:0.5272\n",
      "Episode:355 meanR:16.7800 R:25.0000 rate:0.0500 gloss:0.3863 dlossA:0.4490 dlossQ:2.6891 exploreP:0.5259\n",
      "Episode:356 meanR:16.7600 R:14.0000 rate:0.0280 gloss:0.4207 dlossA:0.4824 dlossQ:2.7321 exploreP:0.5252\n",
      "Episode:357 meanR:16.7800 R:11.0000 rate:0.0220 gloss:0.3698 dlossA:0.4323 dlossQ:2.7805 exploreP:0.5247\n",
      "Episode:358 meanR:16.8800 R:21.0000 rate:0.0420 gloss:0.3777 dlossA:0.4403 dlossQ:2.7620 exploreP:0.5236\n",
      "Episode:359 meanR:16.7000 R:9.0000 rate:0.0180 gloss:0.3725 dlossA:0.4354 dlossQ:2.6743 exploreP:0.5231\n",
      "Episode:360 meanR:16.6400 R:14.0000 rate:0.0280 gloss:0.3872 dlossA:0.4498 dlossQ:2.6368 exploreP:0.5224\n",
      "Episode:361 meanR:16.5100 R:10.0000 rate:0.0200 gloss:0.3604 dlossA:0.4202 dlossQ:2.7742 exploreP:0.5219\n",
      "Episode:362 meanR:16.4700 R:10.0000 rate:0.0200 gloss:0.3828 dlossA:0.4435 dlossQ:2.6558 exploreP:0.5214\n",
      "Episode:363 meanR:16.4900 R:12.0000 rate:0.0240 gloss:0.3425 dlossA:0.4029 dlossQ:2.7411 exploreP:0.5208\n",
      "Episode:364 meanR:16.3900 R:21.0000 rate:0.0420 gloss:0.3947 dlossA:0.4567 dlossQ:2.7547 exploreP:0.5197\n",
      "Episode:365 meanR:16.3600 R:14.0000 rate:0.0280 gloss:0.4101 dlossA:0.4760 dlossQ:2.7598 exploreP:0.5190\n",
      "Episode:366 meanR:16.3500 R:8.0000 rate:0.0160 gloss:0.4181 dlossA:0.4782 dlossQ:2.7236 exploreP:0.5186\n",
      "Episode:367 meanR:16.3500 R:14.0000 rate:0.0280 gloss:0.4092 dlossA:0.4737 dlossQ:2.6460 exploreP:0.5179\n",
      "Episode:368 meanR:16.4000 R:13.0000 rate:0.0260 gloss:0.4091 dlossA:0.4713 dlossQ:2.6881 exploreP:0.5172\n",
      "Episode:369 meanR:16.3900 R:16.0000 rate:0.0320 gloss:0.3895 dlossA:0.4513 dlossQ:2.7668 exploreP:0.5164\n",
      "Episode:370 meanR:16.3300 R:11.0000 rate:0.0220 gloss:0.4220 dlossA:0.4834 dlossQ:5.3854 exploreP:0.5158\n",
      "Episode:371 meanR:16.2800 R:13.0000 rate:0.0260 gloss:0.3860 dlossA:0.4482 dlossQ:2.6901 exploreP:0.5152\n",
      "Episode:372 meanR:16.2800 R:10.0000 rate:0.0200 gloss:0.4033 dlossA:0.4655 dlossQ:2.7370 exploreP:0.5147\n",
      "Episode:373 meanR:16.3000 R:13.0000 rate:0.0260 gloss:0.3497 dlossA:0.4120 dlossQ:2.7202 exploreP:0.5140\n",
      "Episode:374 meanR:16.3200 R:12.0000 rate:0.0240 gloss:0.3699 dlossA:0.4318 dlossQ:2.6889 exploreP:0.5134\n",
      "Episode:375 meanR:16.2100 R:11.0000 rate:0.0220 gloss:0.3884 dlossA:0.4486 dlossQ:2.6265 exploreP:0.5129\n",
      "Episode:376 meanR:16.3600 R:27.0000 rate:0.0540 gloss:0.3696 dlossA:0.4281 dlossQ:2.7073 exploreP:0.5115\n",
      "Episode:377 meanR:16.4300 R:22.0000 rate:0.0440 gloss:0.3849 dlossA:0.4427 dlossQ:2.7712 exploreP:0.5104\n",
      "Episode:378 meanR:16.3900 R:8.0000 rate:0.0160 gloss:0.3942 dlossA:0.4544 dlossQ:2.6255 exploreP:0.5100\n",
      "Episode:379 meanR:16.3900 R:10.0000 rate:0.0200 gloss:0.4133 dlossA:0.4687 dlossQ:2.7323 exploreP:0.5095\n",
      "Episode:380 meanR:16.4500 R:18.0000 rate:0.0360 gloss:0.3842 dlossA:0.4406 dlossQ:2.8274 exploreP:0.5086\n",
      "Episode:381 meanR:16.4100 R:12.0000 rate:0.0240 gloss:0.3911 dlossA:0.4501 dlossQ:2.6389 exploreP:0.5080\n",
      "Episode:382 meanR:16.4100 R:10.0000 rate:0.0200 gloss:0.4435 dlossA:0.4972 dlossQ:2.7818 exploreP:0.5075\n",
      "Episode:383 meanR:16.4900 R:18.0000 rate:0.0360 gloss:0.4093 dlossA:0.4692 dlossQ:2.6241 exploreP:0.5066\n",
      "Episode:384 meanR:16.4900 R:10.0000 rate:0.0200 gloss:0.3878 dlossA:0.4462 dlossQ:2.6435 exploreP:0.5061\n",
      "Episode:385 meanR:16.0500 R:12.0000 rate:0.0240 gloss:0.3744 dlossA:0.4357 dlossQ:2.6943 exploreP:0.5055\n",
      "Episode:386 meanR:15.9700 R:9.0000 rate:0.0180 gloss:0.3883 dlossA:0.4446 dlossQ:2.7723 exploreP:0.5051\n",
      "Episode:387 meanR:15.9700 R:16.0000 rate:0.0320 gloss:0.3831 dlossA:0.4417 dlossQ:2.7655 exploreP:0.5043\n",
      "Episode:388 meanR:15.8700 R:12.0000 rate:0.0240 gloss:0.3900 dlossA:0.4460 dlossQ:2.6804 exploreP:0.5037\n",
      "Episode:389 meanR:15.8700 R:20.0000 rate:0.0400 gloss:0.4338 dlossA:0.4927 dlossQ:2.5528 exploreP:0.5027\n",
      "Episode:390 meanR:15.8700 R:17.0000 rate:0.0340 gloss:0.3820 dlossA:0.4400 dlossQ:2.6103 exploreP:0.5019\n",
      "Episode:391 meanR:15.8600 R:14.0000 rate:0.0280 gloss:0.3979 dlossA:0.4554 dlossQ:2.6638 exploreP:0.5012\n",
      "Episode:392 meanR:15.7900 R:13.0000 rate:0.0260 gloss:0.3961 dlossA:0.4532 dlossQ:2.6461 exploreP:0.5005\n",
      "Episode:393 meanR:15.6000 R:11.0000 rate:0.0220 gloss:0.3971 dlossA:0.4513 dlossQ:2.5792 exploreP:0.5000\n"
     ]
    }
   ],
   "source": [
    "# Save/load the model and save for plotting\n",
    "saver = tf.train.Saver()\n",
    "episode_rewards_list = [] # goal\n",
    "rewards_list, gloss_list, dloss_list = [], [], []\n",
    "\n",
    "# TF session for training\n",
    "with tf.Session(graph=graph) as sess:\n",
    "    sess.run(tf.global_variables_initializer())\n",
    "    #saver.restore(sess, 'checkpoints/model.ckpt')    \n",
    "    #saver.restore(sess, tf.train.latest_checkpoint('checkpoints'))\n",
    "    total_step = 0 # Explore or exploit parameter\n",
    "    episode_reward = deque(maxlen=100) # 100 episodes average/running average/running mean/window\n",
    "\n",
    "    # Training episodes/epochs\n",
    "    for ep in range(1111*3):\n",
    "        total_reward = 0 # each episode\n",
    "        gloss_batch, dlossA_batch, dlossQ_batch= [], [], []\n",
    "        state = env.reset() # each episode\n",
    "        num_step = 0 # each episode\n",
    "        idx_arr = np.arange(memory_size// batch_size)\n",
    "\n",
    "        # Training steps/batches\n",
    "        while True:\n",
    "            # Explore (Env) or Exploit (Model)\n",
    "            total_step += 1\n",
    "            explore_p = explore_stop + (explore_start - explore_stop) * np.exp(-decay_rate * total_step) \n",
    "            if explore_p > np.random.rand():\n",
    "                action = env.action_space.sample()\n",
    "                #print(action)\n",
    "            else:\n",
    "                action_logits = sess.run(model.actions_logits, feed_dict={model.states: state.reshape([1, -1])})\n",
    "                action = np.argmax(action_logits) # adding epsilon*noise\n",
    "                #print(action)\n",
    "            next_state, reward, done, _ = env.step(action)\n",
    "            memory.buffer.append([state, action, next_state, reward, float(done)])\n",
    "            memory.rates.append(-1) # empty\n",
    "            num_step += 1 # momory added\n",
    "            total_reward += reward\n",
    "            state = next_state\n",
    "            \n",
    "            # Rating the memory\n",
    "            if done is True:\n",
    "                rate = total_reward/500 # update rate at the end/ when episode is done\n",
    "                for idx in range(num_step): # episode length\n",
    "                    if memory.rates[-1-idx] == -1: # double-check the landmark/marked indexes\n",
    "                        memory.rates[-1-idx] = rate # rate the trajectory/data\n",
    "                        \n",
    "            # Training with the maxrated minibatch\n",
    "            batch = memory.buffer\n",
    "            percentage = 0.9\n",
    "            #for idx in range(memory_size// batch_size):\n",
    "            idx = np.random.choice(idx_arr)\n",
    "            states = np.array([each[0] for each in batch])[idx*batch_size:(idx+1)*batch_size]\n",
    "            actions = np.array([each[1] for each in batch])[idx*batch_size:(idx+1)*batch_size]\n",
    "            next_states = np.array([each[2] for each in batch])[idx*batch_size:(idx+1)*batch_size]\n",
    "            rewards = np.array([each[3] for each in batch])[idx*batch_size:(idx+1)*batch_size]\n",
    "            dones = np.array([each[4] for each in batch])[idx*batch_size:(idx+1)*batch_size]\n",
    "            rates = np.array(memory.rates)[idx*batch_size:(idx+1)*batch_size]\n",
    "            #print(states.shape, actions.shape, next_states.shape, rewards.shape, dones.shape, rates.shape)\n",
    "            states = states[rates >= (np.max(rates)*percentage)]\n",
    "            actions = actions[rates >= (np.max(rates)*percentage)]\n",
    "            next_states = next_states[rates >= (np.max(rates)*percentage)]\n",
    "            rewards = rewards[rates >= (np.max(rates)*percentage)]\n",
    "            dones = dones[rates >= (np.max(rates)*percentage)]\n",
    "            rates = rates[rates >= (np.max(rates)*percentage)]\n",
    "            #print(states.shape, actions.shape, next_states.shape, rewards.shape, dones.shape, rates.shape)\n",
    "            nextQs_logits = sess.run(model.Qs_logits, feed_dict = {model.states: next_states})\n",
    "            #nextQs = np.max(nextQs_logits, axis=1) * (1-dones) # DQN\n",
    "            nextQs = nextQs_logits.reshape([-1]) * (1-dones) # DPG\n",
    "            targetQs = rewards + (gamma * nextQs)\n",
    "            dlossA, dlossQ, _ = sess.run([model.d_lossA, model.d_lossQ, model.d_optA], #, model.d_optQ\n",
    "                                         feed_dict = {model.states: states, \n",
    "                                                      model.actions: actions,\n",
    "                                                      model.targetQs: targetQs, \n",
    "                                                      model.rates: rates})\n",
    "            gloss, _ = sess.run([model.g_loss, model.g_opt], #, model.d_optQ\n",
    "                                feed_dict = {model.states: states, \n",
    "                                             model.actions: actions,\n",
    "                                             model.targetQs: targetQs, \n",
    "                                             model.rates: rates})\n",
    "            gloss_batch.append(gloss)\n",
    "            dlossA_batch.append(dlossA)\n",
    "            dlossQ_batch.append(dlossQ)\n",
    "            if done is True:\n",
    "                break\n",
    "                \n",
    "        episode_reward.append(total_reward)\n",
    "        print('Episode:{}'.format(ep),\n",
    "              'meanR:{:.4f}'.format(np.mean(episode_reward)),\n",
    "              'R:{:.4f}'.format(total_reward),\n",
    "              'rate:{:.4f}'.format(rate),\n",
    "              'gloss:{:.4f}'.format(np.mean(gloss_batch)),\n",
    "              'dlossA:{:.4f}'.format(np.mean(dlossA_batch)),\n",
    "              'dlossQ:{:.4f}'.format(np.mean(dlossQ_batch)),\n",
    "              'exploreP:{:.4f}'.format(explore_p))\n",
    "\n",
    "        # Ploting out\n",
    "        episode_rewards_list.append([ep, np.mean(episode_reward)])\n",
    "        rewards_list.append([ep, total_reward])\n",
    "        #gloss_list.append([ep, np.mean(gloss_batch)])\n",
    "        #dloss_list.append([ep, np.mean(dloss_batch)])\n",
    "        \n",
    "        # Break episode/epoch loop\n",
    "        ## Option 1: Solve the First Version\n",
    "        #The task is episodic, and in order to solve the environment, \n",
    "        #your agent must get an average score of +30 over 100 consecutive episodes.\n",
    "        if np.mean(episode_reward) >= 500:\n",
    "            break\n",
    "            \n",
    "    # At the end of all training episodes/epochs\n",
    "    saver.save(sess, 'checkpoints/model.ckpt')"
   ]
  },
  {
   "cell_type": "markdown",
   "metadata": {},
   "source": [
    "# Visualizing training\n",
    "\n",
    "Below I'll plot the total rewards for each episode. I'm plotting the rolling average too, in blue."
   ]
  },
  {
   "cell_type": "code",
   "execution_count": null,
   "metadata": {},
   "outputs": [],
   "source": [
    "import matplotlib.pyplot as plt\n",
    "%matplotlib inline\n",
    "\n",
    "def running_mean(x, N):\n",
    "    cumsum = np.cumsum(np.insert(x, 0, 0)) \n",
    "    return (cumsum[N:] - cumsum[:-N]) / N "
   ]
  },
  {
   "cell_type": "code",
   "execution_count": null,
   "metadata": {},
   "outputs": [],
   "source": [
    "eps, arr = np.array(episode_rewards_list).T\n",
    "smoothed_arr = running_mean(arr, 10)\n",
    "plt.plot(eps[-len(smoothed_arr):], smoothed_arr)\n",
    "plt.plot(eps, arr, color='grey', alpha=0.3)\n",
    "plt.xlabel('Episode')\n",
    "plt.ylabel('Total rewards')"
   ]
  },
  {
   "cell_type": "code",
   "execution_count": 16,
   "metadata": {},
   "outputs": [
    {
     "data": {
      "text/plain": [
       "Text(0, 0.5, 'Total rewards')"
      ]
     },
     "execution_count": 16,
     "metadata": {},
     "output_type": "execute_result"
    },
    {
     "data": {
      "image/png": "[encoded data removed]",
      "text/plain": [
       "<Figure size 432x288 with 1 Axes>"
      ]
     },
     "metadata": {
      "needs_background": "light"
     },
     "output_type": "display_data"
    }
   ],
   "source": [
    "eps, arr = np.array(episode_rewards_list).T\n",
    "smoothed_arr = running_mean(arr, 10)\n",
    "plt.plot(eps[-len(smoothed_arr):], smoothed_arr)\n",
    "plt.plot(eps, arr, color='grey', alpha=0.3)\n",
    "plt.xlabel('Episode')\n",
    "plt.ylabel('Total rewards')"
   ]
  },
  {
   "cell_type": "code",
   "execution_count": 24,
   "metadata": {},
   "outputs": [
    {
     "data": {
      "text/plain": [
       "Text(0, 0.5, 'Total rewards')"
      ]
     },
     "execution_count": 24,
     "metadata": {},
     "output_type": "execute_result"
    },
    {
     "data": {
      "image/png": "[encoded data removed]",
      "text/plain": [
       "<Figure size 432x288 with 1 Axes>"
      ]
     },
     "metadata": {
      "needs_background": "light"
     },
     "output_type": "display_data"
    }
   ],
   "source": [
    "eps, arr = np.array(episode_rewards_list).T\n",
    "smoothed_arr = running_mean(arr, 10)\n",
    "plt.plot(eps[-len(smoothed_arr):], smoothed_arr)\n",
    "plt.plot(eps, arr, color='grey', alpha=0.3)\n",
    "plt.xlabel('Episode')\n",
    "plt.ylabel('Total rewards')"
   ]
  },
  {
   "cell_type": "code",
   "execution_count": 26,
   "metadata": {},
   "outputs": [
    {
     "data": {
      "text/plain": [
       "Text(0, 0.5, 'Total rewards')"
      ]
     },
     "execution_count": 26,
     "metadata": {},
     "output_type": "execute_result"
    },
    {
     "data": {
      "image/png": "[encoded data removed]",
      "text/plain": [
       "<Figure size 432x288 with 1 Axes>"
      ]
     },
     "metadata": {
      "needs_background": "light"
     },
     "output_type": "display_data"
    }
   ],
   "source": [
    "eps, arr = np.array(episode_rewards_list).T\n",
    "smoothed_arr = running_mean(arr, 10)\n",
    "plt.plot(eps[-len(smoothed_arr):], smoothed_arr)\n",
    "plt.plot(eps, arr, color='grey', alpha=0.3)\n",
    "plt.xlabel('Episode')\n",
    "plt.ylabel('Total rewards')"
   ]
  },
  {
   "cell_type": "code",
   "execution_count": 16,
   "metadata": {},
   "outputs": [
    {
     "data": {
      "text/plain": [
       "Text(0, 0.5, 'Total rewards')"
      ]
     },
     "execution_count": 16,
     "metadata": {},
     "output_type": "execute_result"
    },
    {
     "data": {
      "image/png": "[encoded data removed]",
      "text/plain": [
       "<Figure size 432x288 with 1 Axes>"
      ]
     },
     "metadata": {
      "needs_background": "light"
     },
     "output_type": "display_data"
    }
   ],
   "source": [
    "eps, arr = np.array(episode_rewards_list).T\n",
    "smoothed_arr = running_mean(arr, 10)\n",
    "plt.plot(eps[-len(smoothed_arr):], smoothed_arr)\n",
    "plt.plot(eps, arr, color='grey', alpha=0.3)\n",
    "plt.xlabel('Episode')\n",
    "plt.ylabel('Total rewards')"
   ]
  },
  {
   "cell_type": "code",
   "execution_count": 62,
   "metadata": {},
   "outputs": [
    {
     "data": {
      "text/plain": [
       "Text(0,0.5,'Total rewards')"
      ]
     },
     "execution_count": 62,
     "metadata": {},
     "output_type": "execute_result"
    },
    {
     "data": {
      "image/png": "[encoded data removed]",
      "text/plain": [
       "<Figure size 432x288 with 1 Axes>"
      ]
     },
     "metadata": {},
     "output_type": "display_data"
    }
   ],
   "source": [
    "eps, arr = np.array(episode_rewards_list).T\n",
    "smoothed_arr = running_mean(arr, 10)\n",
    "plt.plot(eps[-len(smoothed_arr):], smoothed_arr)\n",
    "plt.plot(eps, arr, color='grey', alpha=0.3)\n",
    "plt.xlabel('Episode')\n",
    "plt.ylabel('Total rewards')"
   ]
  },
  {
   "cell_type": "code",
   "execution_count": 17,
   "metadata": {},
   "outputs": [
    {
     "data": {
      "text/plain": [
       "Text(0, 0.5, 'Total rewards')"
      ]
     },
     "execution_count": 17,
     "metadata": {},
     "output_type": "execute_result"
    },
    {
     "data": {
      "image/png": "[encoded data removed]",
      "text/plain": [
       "<Figure size 432x288 with 1 Axes>"
      ]
     },
     "metadata": {
      "needs_background": "light"
     },
     "output_type": "display_data"
    }
   ],
   "source": [
    "eps, arr = np.array(rewards_list).T\n",
    "smoothed_arr = running_mean(arr, 10)\n",
    "plt.plot(eps[-len(smoothed_arr):], smoothed_arr)\n",
    "plt.plot(eps, arr, color='grey', alpha=0.3)\n",
    "plt.xlabel('Episode')\n",
    "plt.ylabel('Total rewards')"
   ]
  },
  {
   "cell_type": "code",
   "execution_count": 63,
   "metadata": {},
   "outputs": [
    {
     "data": {
      "text/plain": [
       "Text(0,0.5,'Total rewards')"
      ]
     },
     "execution_count": 63,
     "metadata": {},
     "output_type": "execute_result"
    },
    {
     "data": {
      "image/png": "[encoded data removed]",
      "text/plain": [
       "<Figure size 432x288 with 1 Axes>"
      ]
     },
     "metadata": {},
     "output_type": "display_data"
    }
   ],
   "source": [
    "eps, arr = np.array(rewards_list).T\n",
    "smoothed_arr = running_mean(arr, 10)\n",
    "plt.plot(eps[-len(smoothed_arr):], smoothed_arr)\n",
    "plt.plot(eps, arr, color='grey', alpha=0.3)\n",
    "plt.xlabel('Episode')\n",
    "plt.ylabel('Total rewards')"
   ]
  },
  {
   "cell_type": "code",
   "execution_count": 19,
   "metadata": {},
   "outputs": [],
   "source": [
    "eps, arr = np.array(gloss_list).T\n",
    "smoothed_arr = running_mean(arr, 10)\n",
    "plt.plot(eps[-len(smoothed_arr):], smoothed_arr)\n",
    "plt.plot(eps, arr, color='grey', alpha=0.3)\n",
    "plt.xlabel('Episode')\n",
    "plt.ylabel('G losses')"
   ]
  },
  {
   "cell_type": "code",
   "execution_count": null,
   "metadata": {},
   "outputs": [],
   "source": [
    "eps, arr = np.array(dloss_list).T\n",
    "smoothed_arr = running_mean(arr, 10)\n",
    "plt.plot(eps[-len(smoothed_arr):], smoothed_arr)\n",
    "plt.plot(eps, arr, color='grey', alpha=0.3)\n",
    "plt.xlabel('Episode')\n",
    "plt.ylabel('D losses')"
   ]
  },
  {
   "cell_type": "markdown",
   "metadata": {},
   "source": [
    "## Testing\n",
    "\n",
    "Let's checkout how our trained agent plays the game."
   ]
  },
  {
   "cell_type": "code",
   "execution_count": 36,
   "metadata": {},
   "outputs": [
    {
     "name": "stdout",
     "output_type": "stream",
     "text": [
      "\u001b[33mWARN: gym.spaces.Box autodetected dtype as <class 'numpy.float32'>. Please provide explicit dtype.\u001b[0m\n",
      "\u001b[33mWARN: gym.spaces.Box autodetected dtype as <class 'numpy.float32'>. Please provide explicit dtype.\u001b[0m\n",
      "INFO:tensorflow:Restoring parameters from checkpoints/model.ckpt\n"
     ]
    },
    {
     "name": "stderr",
     "output_type": "stream",
     "text": [
      "/home/arasdar/anaconda3/envs/env/lib/python3.6/site-packages/gym/__init__.py:22: UserWarning: DEPRECATION WARNING: to improve load times, gym no longer automatically loads gym.spaces. Please run \"import gym.spaces\" to load gym.spaces on your own. This warning will turn into an error in a future version of gym.\n",
      "  warnings.warn('DEPRECATION WARNING: to improve load times, gym no longer automatically loads gym.spaces. Please run \"import gym.spaces\" to load gym.spaces on your own. This warning will turn into an error in a future version of gym.')\n"
     ]
    },
    {
     "name": "stdout",
     "output_type": "stream",
     "text": [
      "total_reward: 500.0\n"
     ]
    }
   ],
   "source": [
    "import gym\n",
    "env = gym.make('CartPole-v0')\n",
    "env = gym.make('CartPole-v1')\n",
    "# env = gym.make('Acrobot-v1')\n",
    "# env = gym.make('MountainCar-v0')\n",
    "# env = gym.make('Pendulum-v0')\n",
    "# env = gym.make('Blackjack-v0')\n",
    "# env = gym.make('FrozenLake-v0')\n",
    "# env = gym.make('AirRaid-ram-v0')\n",
    "# env = gym.make('AirRaid-v0')\n",
    "# env = gym.make('BipedalWalker-v2')\n",
    "# env = gym.make('Copy-v0')\n",
    "# env = gym.make('CarRacing-v0')\n",
    "# env = gym.make('Ant-v2') #mujoco\n",
    "# env = gym.make('FetchPickAndPlace-v1') # mujoco required!\n",
    "\n",
    "with tf.Session() as sess:\n",
    "    sess.run(tf.global_variables_initializer())\n",
    "    saver.restore(sess, 'checkpoints/model.ckpt')    \n",
    "    #saver.restore(sess, tf.train.latest_checkpoint('checkpoints'))\n",
    "    \n",
    "    # Episodes/epochs\n",
    "    for _ in range(1):\n",
    "        state = env.reset()\n",
    "        total_reward = 0\n",
    "\n",
    "        # Steps/batches\n",
    "        while True:\n",
    "            env.render()\n",
    "            action_logits = sess.run(model.actions_logits, feed_dict={model.states: state.reshape([1, -1])})\n",
    "            action = np.argmax(action_logits)\n",
    "            state, reward, done, _ = env.step(action)\n",
    "            total_reward += reward\n",
    "            if done:\n",
    "                print('total_reward: {}'.format(total_reward))\n",
    "                break\n",
    "                \n",
    "env.close()"
   ]
  },
  {
   "cell_type": "markdown",
   "metadata": {},
   "source": [
    "## Extending this\n",
    "\n",
    "So, Cart-Pole is a pretty simple game. However, the same model can be used to train an agent to play something much more complicated like Pong or Space Invaders. Instead of a state like we're using here though, you'd want to use convolutional layers to get the state from the screen images.\n",
    "\n",
    "![Deep Q-Learning Atari](assets/atari-network.png)\n",
    "\n",
    "I'll leave it as a challenge for you to use deep Q-learning to train an agent to play Atari games. Here's the original paper which will get you started: http://www.davidqiu.com:8888/research/nature14236.pdf."
   ]
  },
  {
   "cell_type": "code",
   "execution_count": null,
   "metadata": {},
   "outputs": [],
   "source": []
  }
 ],
 "metadata": {
  "kernelspec": {
   "display_name": "Python 3",
   "language": "python",
   "name": "python3"
  },
  "language_info": {
   "codemirror_mode": {
    "name": "ipython",
    "version": 3
   },
   "file_extension": ".py",
   "mimetype": "text/x-python",
   "name": "python",
   "nbconvert_exporter": "python",
   "pygments_lexer": "ipython3",
   "version": "3.6.6"
  }
 },
 "nbformat": 4,
 "nbformat_minor": 2
}
