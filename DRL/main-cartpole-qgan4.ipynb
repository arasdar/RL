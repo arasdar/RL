{
 "cells": [
  {
   "cell_type": "code",
   "execution_count": 1,
   "metadata": {},
   "outputs": [
    {
     "name": "stdout",
     "output_type": "stream",
     "text": [
      "TensorFlow Version: 1.7.1\n",
      "Default GPU Device: \n"
     ]
    }
   ],
   "source": [
    "import tensorflow as tf\n",
    "print('TensorFlow Version: {}'.format(tf.__version__))\n",
    "print('Default GPU Device: {}'.format(tf.test.gpu_device_name()))"
   ]
  },
  {
   "cell_type": "markdown",
   "metadata": {},
   "source": [
    "##### >**Note:** Make sure you have OpenAI Gym cloned. Then run this command `pip install -e gym/[all]`."
   ]
  },
  {
   "cell_type": "code",
   "execution_count": 2,
   "metadata": {},
   "outputs": [],
   "source": [
    "import numpy as np\n",
    "import gym\n",
    "env = gym.make('CartPole-v0')\n",
    "env = gym.make('CartPole-v1')"
   ]
  },
  {
   "cell_type": "code",
   "execution_count": 3,
   "metadata": {},
   "outputs": [],
   "source": [
    "def model_input(state_size):\n",
    "    #states = tf.placeholder(tf.float32, [None, *state_size], name='states')\n",
    "    states = tf.placeholder(tf.float32, [None, state_size], name='states')\n",
    "    actions = tf.placeholder(tf.int32, [None], name='actions')\n",
    "    next_states = tf.placeholder(tf.float32, [None, state_size], name='next_states')\n",
    "    # rewards = tf.placeholder(tf.float32, [None], name='rewards')\n",
    "    dones = tf.placeholder(tf.float32, [None], name='dones')\n",
    "    rates = tf.placeholder(tf.float32, [None], name='rates') # success rate\n",
    "    return states, actions, next_states, dones, rates"
   ]
  },
  {
   "cell_type": "code",
   "execution_count": 4,
   "metadata": {},
   "outputs": [],
   "source": [
    "def actor(states, action_size, hidden_size, reuse=False, alpha=0.1, training=False):\n",
    "    with tf.variable_scope('actor', reuse=reuse):\n",
    "        # First fully connected layer\n",
    "        h1 = tf.layers.dense(inputs=states, units=hidden_size)\n",
    "        bn1 = tf.layers.batch_normalization(h1, training=training)        \n",
    "        nl1 = tf.maximum(alpha * bn1, bn1)\n",
    "        \n",
    "        # Second fully connected layer\n",
    "        h2 = tf.layers.dense(inputs=nl1, units=hidden_size)\n",
    "        bn2 = tf.layers.batch_normalization(h2, training=training)        \n",
    "        nl2 = tf.maximum(alpha * bn2, bn2)\n",
    "        \n",
    "        # Output layer\n",
    "        logits = tf.layers.dense(inputs=nl2, units=action_size)        \n",
    "        return logits"
   ]
  },
  {
   "cell_type": "code",
   "execution_count": 5,
   "metadata": {},
   "outputs": [],
   "source": [
    "def generator(states, actions, state_size, action_size, hidden_size, reuse=False, alpha=0.1, training=False):\n",
    "    with tf.variable_scope('generator', reuse=reuse):\n",
    "        # First fully connected layer\n",
    "        h1 = tf.layers.dense(inputs=states, units=action_size)\n",
    "        bn1 = tf.layers.batch_normalization(h1, training=training)        \n",
    "        nl1 = tf.maximum(alpha * bn1, bn1)\n",
    "        \n",
    "        # Second fully connected layer\n",
    "        nl1_fused = tf.concat(axis=1, values=[nl1, actions])\n",
    "        h2 = tf.layers.dense(inputs=nl1_fused, units=hidden_size)\n",
    "        bn2 = tf.layers.batch_normalization(h2, training=training)        \n",
    "        nl2 = tf.maximum(alpha * bn2, bn2)\n",
    "                \n",
    "        # Output layer\n",
    "        logits = tf.layers.dense(inputs=nl2, units=state_size)        \n",
    "        return logits"
   ]
  },
  {
   "cell_type": "code",
   "execution_count": 6,
   "metadata": {},
   "outputs": [],
   "source": [
    "def discriminator(states, actions, action_size, hidden_size, reuse=False, alpha=0.1, training=False):\n",
    "    with tf.variable_scope('discriminator', reuse=reuse):\n",
    "        # First fully connected layer\n",
    "        h1 = tf.layers.dense(inputs=states, units=action_size)\n",
    "        bn1 = tf.layers.batch_normalization(h1, training=training)        \n",
    "        nl1 = tf.maximum(alpha * bn1, bn1)\n",
    "        \n",
    "        # Second fully connected layer\n",
    "        nl1_fused = tf.concat(axis=1, values=[nl1, actions])\n",
    "        h2 = tf.layers.dense(inputs=nl1_fused, units=hidden_size)\n",
    "        bn2 = tf.layers.batch_normalization(h2, training=training)        \n",
    "        nl2 = tf.maximum(alpha * bn2, bn2)\n",
    "                \n",
    "        # Output layer\n",
    "        logits = tf.layers.dense(inputs=nl2, units=1)        \n",
    "        return logits"
   ]
  },
  {
   "cell_type": "code",
   "execution_count": 7,
   "metadata": {},
   "outputs": [],
   "source": [
    "def model_loss(state_size, action_size, hidden_size,\n",
    "               states, actions, next_states, dones, rates):\n",
    "    actions_logits = actor(states=states, hidden_size=hidden_size, action_size=action_size)\n",
    "    actions_labels = tf.one_hot(indices=actions, depth=action_size, dtype=actions_logits.dtype)\n",
    "    aloss = tf.reduce_mean(tf.nn.softmax_cross_entropy_with_logits_v2(logits=actions_logits, \n",
    "                                                                      labels=actions_labels))\n",
    "    ###############################################\n",
    "    next_states_logits = generator(actions=actions_logits, states=states, hidden_size=hidden_size, \n",
    "                                   action_size=action_size, state_size=state_size)\n",
    "    next_states_labels = tf.nn.sigmoid(next_states)\n",
    "    aloss += tf.reduce_mean(tf.nn.sigmoid_cross_entropy_with_logits(logits=next_states_logits, \n",
    "                                                                    labels=next_states_labels))\n",
    "    ####################################################\n",
    "    dQs = discriminator(actions=actions_labels, hidden_size=hidden_size, states=states, action_size=action_size)\n",
    "    rates = tf.reshape(rates, shape=[-1, 1])\n",
    "    dloss = tf.reduce_mean(tf.nn.sigmoid_cross_entropy_with_logits(logits=dQs, # GAN\n",
    "                                                                   labels=rates)) # 0-1\n",
    "    ####################################################\n",
    "    gQs = discriminator(actions=actions_logits, hidden_size=hidden_size, states=states, action_size=action_size, \n",
    "                        reuse=True)\n",
    "    dloss += tf.reduce_mean(tf.nn.sigmoid_cross_entropy_with_logits(logits=gQs, # GAN\n",
    "                                                                    labels=tf.zeros_like(gQs))) # 0-1\n",
    "    aloss2 = tf.reduce_mean(tf.nn.sigmoid_cross_entropy_with_logits(logits=gQs, # GAN\n",
    "                                                                    labels=tf.ones_like(gQs))) # 0-1\n",
    "    #####################################################\n",
    "    next_actions_logits = actor(states=next_states, hidden_size=hidden_size, action_size=action_size, reuse=True)\n",
    "    gQs2 = discriminator(actions=next_actions_logits, hidden_size=hidden_size, states=next_states, \n",
    "                         action_size=action_size, reuse=True)\n",
    "    gQs2 = tf.reshape(gQs2, shape=[-1]) * (1-dones)\n",
    "    dloss += tf.reduce_mean(tf.nn.sigmoid_cross_entropy_with_logits(logits=gQs2, # GAN\n",
    "                                                                    labels=tf.zeros_like(gQs2))) # 0-1\n",
    "    aloss2 += tf.reduce_mean(tf.nn.sigmoid_cross_entropy_with_logits(logits=gQs2, # GAN\n",
    "                                                                     labels=tf.ones_like(gQs2))) # 0-1\n",
    "    ##################################################### repeatable!\n",
    "    next_states_logits = generator(actions=next_actions_logits, states=next_states, hidden_size=hidden_size, \n",
    "                                   action_size=action_size, state_size=state_size, reuse=True)\n",
    "    next_actions_logits = actor(states=next_states_logits, hidden_size=hidden_size, action_size=action_size, \n",
    "                                reuse=True)\n",
    "    gQs3 = discriminator(actions=next_actions_logits, hidden_size=hidden_size, states=next_states_logits, \n",
    "                         action_size=action_size, reuse=True)\n",
    "    #dones2 = tf.concat(axis=0, values=[dones[1:], tf.ones(shape=[1])])\n",
    "    gQs3 = tf.reshape(gQs3, shape=[-1]) * (1-dones)\n",
    "    dloss += tf.reduce_mean(tf.nn.sigmoid_cross_entropy_with_logits(logits=gQs3, # GAN\n",
    "                                                                    labels=tf.zeros_like(gQs3))) # 0-1\n",
    "    aloss2 += tf.reduce_mean(tf.nn.sigmoid_cross_entropy_with_logits(logits=gQs3, # GAN\n",
    "                                                                     labels=tf.ones_like(gQs3))) # 0-1\n",
    "    return actions_logits, aloss, dloss, aloss2"
   ]
  },
  {
   "cell_type": "code",
   "execution_count": 8,
   "metadata": {},
   "outputs": [],
   "source": [
    "def model_opt(a_loss, d_loss, a_loss2, a_learning_rate, d_learning_rate):\n",
    "    # Get weights and bias to update\n",
    "    t_vars = tf.trainable_variables()\n",
    "    a_vars = [var for var in t_vars if var.name.startswith('actor')]\n",
    "    #g_vars = [var for var in t_vars if var.name.startswith('generator')]\n",
    "    d_vars = [var for var in t_vars if var.name.startswith('discriminator')]\n",
    "\n",
    "    # Optimize\n",
    "    with tf.control_dependencies(tf.get_collection(tf.GraphKeys.UPDATE_OPS)): # Required for batchnorm (BN)\n",
    "        a_opt = tf.train.AdamOptimizer(a_learning_rate).minimize(a_loss, var_list=a_vars)\n",
    "        d_opt = tf.train.AdamOptimizer(d_learning_rate).minimize(d_loss, var_list=d_vars)\n",
    "        a_opt2 = tf.train.AdamOptimizer(a_learning_rate).minimize(a_loss2, var_list=a_vars)\n",
    "    return a_opt, d_opt, a_opt2"
   ]
  },
  {
   "cell_type": "code",
   "execution_count": 9,
   "metadata": {},
   "outputs": [],
   "source": [
    "class Model:\n",
    "    def __init__(self, state_size, action_size, hidden_size, a_learning_rate, d_learning_rate):\n",
    "\n",
    "        # Data of the Model: make the data available inside the framework\n",
    "        self.states, self.actions, self.next_states, self.dones, self.rates = model_input(state_size=state_size)\n",
    "\n",
    "        # Create the Model: calculating the loss and forwad pass\n",
    "        self.actions_logits, self.a_loss, self.d_loss, self.a_loss2 = model_loss(\n",
    "            state_size=state_size, action_size=action_size, hidden_size=hidden_size, # model init\n",
    "            states=self.states, actions=self.actions, next_states=self.next_states, \n",
    "            dones=self.dones, rates=self.rates) # model input\n",
    "        \n",
    "        # Update the model: backward pass and backprop\n",
    "        self.a_opt, self.d_opt, self.a_opt2 = model_opt(a_loss=self.a_loss, \n",
    "                                                        d_loss=self.d_loss,\n",
    "                                                        a_loss2=self.a_loss2, \n",
    "                                                        a_learning_rate=a_learning_rate,\n",
    "                                                        d_learning_rate=d_learning_rate)"
   ]
  },
  {
   "cell_type": "code",
   "execution_count": 10,
   "metadata": {},
   "outputs": [],
   "source": [
    "# def sample(buffer, batch_size):\n",
    "#     idx = np.random.choice(np.arange(len(buffer)), size=batch_size, replace=False)\n",
    "#     return [buffer[ii] for ii in idx]"
   ]
  },
  {
   "cell_type": "code",
   "execution_count": 11,
   "metadata": {},
   "outputs": [],
   "source": [
    "from collections import deque\n",
    "class Memory():\n",
    "    def __init__(self, max_size = 1000):\n",
    "        self.buffer = deque(maxlen=max_size) # data batch"
   ]
  },
  {
   "cell_type": "markdown",
   "metadata": {},
   "source": [
    "## Hyperparameters\n",
    "\n",
    "One of the more difficult aspects of reinforcememt learning are the large number of hyperparameters. Not only are we tuning the network, but we're tuning the simulation."
   ]
  },
  {
   "cell_type": "code",
   "execution_count": 12,
   "metadata": {},
   "outputs": [
    {
     "data": {
      "text/plain": [
       "(Box(4,), Discrete(2))"
      ]
     },
     "execution_count": 12,
     "metadata": {},
     "output_type": "execute_result"
    }
   ],
   "source": [
    "env.observation_space, env.action_space"
   ]
  },
  {
   "cell_type": "code",
   "execution_count": 13,
   "metadata": {},
   "outputs": [],
   "source": [
    "# Exploration parameters\n",
    "explore_start = 1.0            # exploration probability at start\n",
    "explore_stop = 0.01           # minimum exploration probability \n",
    "decay_rate = 0.0001            # exponential decay rate for exploration prob\n",
    "\n",
    "# Network parameters\n",
    "state_size = 4\n",
    "action_size = 2\n",
    "hidden_size = 4*2             # number of units in each Q-network hidden layer\n",
    "a_learning_rate = 1e-4         # Q-network learning rate\n",
    "d_learning_rate = 1e-4         # Q-network learning rate\n",
    "\n",
    "# Memory parameters\n",
    "memory_size = int(1e5)            # memory capacity\n",
    "batch_size = int(1e3)             # experience mini-batch size: 200/500 a successfull episode size\n",
    "# gamma = 0.99                   # future reward discount"
   ]
  },
  {
   "cell_type": "code",
   "execution_count": 14,
   "metadata": {},
   "outputs": [],
   "source": [
    "# Reset/init the graph/session\n",
    "graph = tf.reset_default_graph()\n",
    "\n",
    "# Init the model\n",
    "model = Model(action_size=action_size, state_size=state_size, hidden_size=hidden_size,\n",
    "              a_learning_rate=a_learning_rate, \n",
    "              d_learning_rate=d_learning_rate)\n",
    "\n",
    "# Init the memory\n",
    "memory = Memory(max_size=memory_size)"
   ]
  },
  {
   "cell_type": "code",
   "execution_count": 15,
   "metadata": {},
   "outputs": [],
   "source": [
    "state = env.reset()\n",
    "total_reward = 0\n",
    "num_step = 0\n",
    "for _ in range(memory_size):\n",
    "    action = env.action_space.sample()\n",
    "    next_state, reward, done, _ = env.step(action)\n",
    "    rate = -1\n",
    "    memory.buffer.append([state, action, next_state, reward, float(done), rate])\n",
    "    num_step += 1 # memory incremented\n",
    "    total_reward += reward\n",
    "    state = next_state\n",
    "    if done is True:\n",
    "        state = env.reset()\n",
    "        rate = total_reward/500\n",
    "        for idx in range(num_step): # episode length\n",
    "            if memory.buffer[-1-idx][-1] == -1:\n",
    "                memory.buffer[-1-idx][-1] = rate\n",
    "        total_reward = 0 # reset\n",
    "        num_step = 0 # reset"
   ]
  },
  {
   "cell_type": "markdown",
   "metadata": {},
   "source": [
    "## Training the model\n",
    "\n",
    "Below we'll train our agent. If you want to watch it train, uncomment the `env.render()` line. This is slow because it's rendering the frames slower than the network can train. But, it's cool to watch the agent get better at the game."
   ]
  },
  {
   "cell_type": "code",
   "execution_count": null,
   "metadata": {},
   "outputs": [
    {
     "name": "stdout",
     "output_type": "stream",
     "text": [
      "Episode:0 meanR:13.0000 R:13.0000 rate:0.0260 aloss:1.4093 dloss:2.5746 aloss2:2.0963 exploreP:0.9987\n",
      "Episode:1 meanR:25.5000 R:38.0000 rate:0.0760 aloss:1.4076 dloss:2.6228 aloss2:2.0727 exploreP:0.9950\n",
      "Episode:2 meanR:21.6667 R:14.0000 rate:0.0280 aloss:1.3970 dloss:2.6274 aloss2:2.0696 exploreP:0.9936\n",
      "Episode:3 meanR:20.5000 R:17.0000 rate:0.0340 aloss:1.4124 dloss:2.5719 aloss2:2.1059 exploreP:0.9919\n",
      "Episode:4 meanR:19.0000 R:13.0000 rate:0.0260 aloss:1.4153 dloss:2.5855 aloss2:2.1006 exploreP:0.9906\n",
      "Episode:5 meanR:26.5000 R:64.0000 rate:0.1280 aloss:1.4082 dloss:2.5080 aloss2:2.1673 exploreP:0.9844\n",
      "Episode:6 meanR:25.8571 R:22.0000 rate:0.0440 aloss:1.4076 dloss:2.4622 aloss2:2.2116 exploreP:0.9822\n",
      "Episode:7 meanR:34.7500 R:97.0000 rate:0.1940 aloss:1.4090 dloss:2.4025 aloss2:2.2813 exploreP:0.9729\n",
      "Episode:8 meanR:32.8889 R:18.0000 rate:0.0360 aloss:1.4125 dloss:2.3422 aloss2:2.3296 exploreP:0.9711\n",
      "Episode:9 meanR:31.7000 R:21.0000 rate:0.0420 aloss:1.4183 dloss:2.3212 aloss2:2.3674 exploreP:0.9691\n",
      "Episode:10 meanR:30.5455 R:19.0000 rate:0.0380 aloss:1.4179 dloss:2.3073 aloss2:2.3886 exploreP:0.9673\n",
      "Episode:11 meanR:29.4167 R:17.0000 rate:0.0340 aloss:1.4113 dloss:2.2671 aloss2:2.4179 exploreP:0.9657\n",
      "Episode:12 meanR:29.0000 R:24.0000 rate:0.0480 aloss:1.4034 dloss:2.2190 aloss2:2.4870 exploreP:0.9634\n",
      "Episode:13 meanR:28.2143 R:18.0000 rate:0.0360 aloss:1.4133 dloss:2.1798 aloss2:2.5302 exploreP:0.9617\n",
      "Episode:14 meanR:28.2000 R:28.0000 rate:0.0560 aloss:1.4180 dloss:2.1990 aloss2:2.5276 exploreP:0.9590\n",
      "Episode:15 meanR:28.1875 R:28.0000 rate:0.0560 aloss:1.4187 dloss:2.1471 aloss2:2.5870 exploreP:0.9563\n",
      "Episode:16 meanR:27.6471 R:19.0000 rate:0.0380 aloss:1.4206 dloss:2.1121 aloss2:2.6325 exploreP:0.9545\n",
      "Episode:17 meanR:26.8889 R:14.0000 rate:0.0280 aloss:1.4193 dloss:2.0813 aloss2:2.6672 exploreP:0.9532\n",
      "Episode:18 meanR:26.4211 R:18.0000 rate:0.0360 aloss:1.4423 dloss:2.1180 aloss2:2.6381 exploreP:0.9515\n",
      "Episode:19 meanR:26.2500 R:23.0000 rate:0.0460 aloss:1.4221 dloss:2.0514 aloss2:2.7701 exploreP:0.9494\n",
      "Episode:20 meanR:26.4286 R:30.0000 rate:0.0600 aloss:1.4180 dloss:1.9998 aloss2:2.7765 exploreP:0.9466\n",
      "Episode:21 meanR:26.2727 R:23.0000 rate:0.0460 aloss:1.4297 dloss:1.9789 aloss2:2.8335 exploreP:0.9444\n",
      "Episode:22 meanR:25.6957 R:13.0000 rate:0.0260 aloss:1.4196 dloss:1.9308 aloss2:2.9181 exploreP:0.9432\n",
      "Episode:23 meanR:25.3333 R:17.0000 rate:0.0340 aloss:1.4281 dloss:1.9123 aloss2:2.9439 exploreP:0.9416\n",
      "Episode:24 meanR:24.9200 R:15.0000 rate:0.0300 aloss:1.4166 dloss:1.8898 aloss2:3.0136 exploreP:0.9402\n",
      "Episode:25 meanR:24.8077 R:22.0000 rate:0.0440 aloss:1.4258 dloss:1.8878 aloss2:2.9638 exploreP:0.9382\n",
      "Episode:26 meanR:24.5926 R:19.0000 rate:0.0380 aloss:1.4255 dloss:1.8417 aloss2:3.0575 exploreP:0.9364\n",
      "Episode:27 meanR:24.5357 R:23.0000 rate:0.0460 aloss:1.4283 dloss:1.8063 aloss2:3.1145 exploreP:0.9343\n",
      "Episode:28 meanR:24.5862 R:26.0000 rate:0.0520 aloss:1.4327 dloss:1.7924 aloss2:3.1690 exploreP:0.9319\n",
      "Episode:29 meanR:24.1333 R:11.0000 rate:0.0220 aloss:1.4237 dloss:1.7402 aloss2:3.2926 exploreP:0.9309\n",
      "Episode:30 meanR:23.8710 R:16.0000 rate:0.0320 aloss:1.4303 dloss:1.7940 aloss2:3.1908 exploreP:0.9294\n",
      "Episode:31 meanR:23.5312 R:13.0000 rate:0.0260 aloss:1.4429 dloss:1.7150 aloss2:3.3200 exploreP:0.9282\n",
      "Episode:32 meanR:23.6667 R:28.0000 rate:0.0560 aloss:1.4345 dloss:1.6929 aloss2:3.3971 exploreP:0.9256\n",
      "Episode:33 meanR:23.3824 R:14.0000 rate:0.0280 aloss:1.4466 dloss:1.7302 aloss2:3.3648 exploreP:0.9243\n",
      "Episode:34 meanR:23.6286 R:32.0000 rate:0.0640 aloss:1.4383 dloss:1.6234 aloss2:3.5215 exploreP:0.9214\n",
      "Episode:35 meanR:23.2778 R:11.0000 rate:0.0220 aloss:1.4359 dloss:1.6086 aloss2:3.5880 exploreP:0.9204\n",
      "Episode:36 meanR:24.0000 R:50.0000 rate:0.1000 aloss:1.4415 dloss:1.5955 aloss2:3.6094 exploreP:0.9159\n",
      "Episode:37 meanR:23.7105 R:13.0000 rate:0.0260 aloss:1.4286 dloss:1.5333 aloss2:3.7505 exploreP:0.9147\n",
      "Episode:38 meanR:23.4103 R:12.0000 rate:0.0240 aloss:1.4427 dloss:1.4521 aloss2:3.9490 exploreP:0.9136\n",
      "Episode:39 meanR:23.3000 R:19.0000 rate:0.0380 aloss:1.4395 dloss:1.5064 aloss2:3.8688 exploreP:0.9119\n",
      "Episode:40 meanR:24.0000 R:52.0000 rate:0.1040 aloss:1.4407 dloss:1.4582 aloss2:3.9652 exploreP:0.9072\n",
      "Episode:41 meanR:23.9286 R:21.0000 rate:0.0420 aloss:1.4413 dloss:1.4264 aloss2:4.2081 exploreP:0.9053\n",
      "Episode:42 meanR:23.7442 R:16.0000 rate:0.0320 aloss:1.4541 dloss:1.4228 aloss2:4.1382 exploreP:0.9039\n",
      "Episode:43 meanR:23.6364 R:19.0000 rate:0.0380 aloss:1.4579 dloss:1.4247 aloss2:4.0276 exploreP:0.9022\n",
      "Episode:44 meanR:23.3778 R:12.0000 rate:0.0240 aloss:1.4455 dloss:1.3767 aloss2:4.3000 exploreP:0.9011\n",
      "Episode:45 meanR:23.1957 R:15.0000 rate:0.0300 aloss:1.4352 dloss:1.3602 aloss2:4.3230 exploreP:0.8998\n",
      "Episode:46 meanR:22.9574 R:12.0000 rate:0.0240 aloss:1.4413 dloss:1.3559 aloss2:4.3895 exploreP:0.8987\n",
      "Episode:47 meanR:23.1875 R:34.0000 rate:0.0680 aloss:1.4514 dloss:1.3030 aloss2:4.5840 exploreP:0.8957\n",
      "Episode:48 meanR:23.1837 R:23.0000 rate:0.0460 aloss:1.4533 dloss:1.2856 aloss2:4.6192 exploreP:0.8937\n",
      "Episode:49 meanR:23.0000 R:14.0000 rate:0.0280 aloss:1.4513 dloss:1.2380 aloss2:4.6419 exploreP:0.8925\n",
      "Episode:50 meanR:22.7843 R:12.0000 rate:0.0240 aloss:1.4532 dloss:1.2728 aloss2:4.6649 exploreP:0.8914\n",
      "Episode:51 meanR:22.5385 R:10.0000 rate:0.0200 aloss:1.4693 dloss:1.2874 aloss2:4.5752 exploreP:0.8905\n",
      "Episode:52 meanR:23.4151 R:69.0000 rate:0.1380 aloss:1.4577 dloss:1.1945 aloss2:4.9219 exploreP:0.8845\n",
      "Episode:53 meanR:23.3148 R:18.0000 rate:0.0360 aloss:1.4683 dloss:1.1585 aloss2:5.1155 exploreP:0.8829\n",
      "Episode:54 meanR:23.2182 R:18.0000 rate:0.0360 aloss:1.4534 dloss:1.1888 aloss2:5.1396 exploreP:0.8813\n",
      "Episode:55 meanR:22.9821 R:10.0000 rate:0.0200 aloss:1.4641 dloss:1.1047 aloss2:5.1304 exploreP:0.8804\n",
      "Episode:56 meanR:23.0526 R:27.0000 rate:0.0540 aloss:1.4660 dloss:1.1065 aloss2:5.3320 exploreP:0.8781\n",
      "Episode:57 meanR:22.8793 R:13.0000 rate:0.0260 aloss:1.4435 dloss:1.1013 aloss2:5.6293 exploreP:0.8770\n",
      "Episode:58 meanR:22.9492 R:27.0000 rate:0.0540 aloss:1.4561 dloss:1.0907 aloss2:5.4649 exploreP:0.8746\n",
      "Episode:59 meanR:23.0833 R:31.0000 rate:0.0620 aloss:1.4629 dloss:1.0566 aloss2:5.5592 exploreP:0.8720\n",
      "Episode:60 meanR:22.8525 R:9.0000 rate:0.0180 aloss:1.4247 dloss:1.0132 aloss2:5.8624 exploreP:0.8712\n",
      "Episode:61 meanR:23.1129 R:39.0000 rate:0.0780 aloss:1.4621 dloss:1.0380 aloss2:5.7749 exploreP:0.8678\n",
      "Episode:62 meanR:22.9841 R:15.0000 rate:0.0300 aloss:1.4596 dloss:0.9973 aloss2:6.2258 exploreP:0.8665\n",
      "Episode:63 meanR:22.8438 R:14.0000 rate:0.0280 aloss:1.4732 dloss:0.9973 aloss2:5.9360 exploreP:0.8653\n",
      "Episode:64 meanR:22.8000 R:20.0000 rate:0.0400 aloss:1.4610 dloss:0.9882 aloss2:6.0149 exploreP:0.8636\n",
      "Episode:65 meanR:22.6061 R:10.0000 rate:0.0200 aloss:1.4589 dloss:0.9701 aloss2:6.1827 exploreP:0.8628\n",
      "Episode:66 meanR:22.7313 R:31.0000 rate:0.0620 aloss:1.4652 dloss:0.9988 aloss2:6.2233 exploreP:0.8601\n",
      "Episode:67 meanR:22.9412 R:37.0000 rate:0.0740 aloss:1.4658 dloss:0.9300 aloss2:6.3319 exploreP:0.8570\n",
      "Episode:68 meanR:22.9710 R:25.0000 rate:0.0500 aloss:1.4799 dloss:0.9727 aloss2:6.6801 exploreP:0.8549\n",
      "Episode:69 meanR:23.1571 R:36.0000 rate:0.0720 aloss:1.4534 dloss:0.8927 aloss2:6.6788 exploreP:0.8519\n",
      "Episode:70 meanR:23.0000 R:12.0000 rate:0.0240 aloss:1.4560 dloss:0.8825 aloss2:6.8557 exploreP:0.8508\n",
      "Episode:71 meanR:22.8611 R:13.0000 rate:0.0260 aloss:1.4562 dloss:0.9428 aloss2:6.6155 exploreP:0.8498\n",
      "Episode:72 meanR:22.6849 R:10.0000 rate:0.0200 aloss:1.4757 dloss:0.9146 aloss2:6.5395 exploreP:0.8489\n",
      "Episode:73 meanR:22.5405 R:12.0000 rate:0.0240 aloss:1.4790 dloss:0.8635 aloss2:7.0168 exploreP:0.8479\n",
      "Episode:74 meanR:22.5733 R:25.0000 rate:0.0500 aloss:1.4624 dloss:0.8534 aloss2:6.9568 exploreP:0.8458\n",
      "Episode:75 meanR:22.6053 R:25.0000 rate:0.0500 aloss:1.4401 dloss:0.8427 aloss2:7.1149 exploreP:0.8437\n",
      "Episode:76 meanR:22.5974 R:22.0000 rate:0.0440 aloss:1.4642 dloss:0.8742 aloss2:7.2446 exploreP:0.8419\n",
      "Episode:77 meanR:22.5128 R:16.0000 rate:0.0320 aloss:1.4689 dloss:0.8640 aloss2:7.2816 exploreP:0.8406\n",
      "Episode:78 meanR:22.4177 R:15.0000 rate:0.0300 aloss:1.4536 dloss:0.8252 aloss2:7.2080 exploreP:0.8393\n",
      "Episode:79 meanR:22.4375 R:24.0000 rate:0.0480 aloss:1.4496 dloss:0.8048 aloss2:7.3621 exploreP:0.8373\n"
     ]
    },
    {
     "name": "stdout",
     "output_type": "stream",
     "text": [
      "Episode:80 meanR:22.6420 R:39.0000 rate:0.0780 aloss:1.4597 dloss:0.8142 aloss2:7.5504 exploreP:0.8341\n",
      "Episode:81 meanR:22.5488 R:15.0000 rate:0.0300 aloss:1.4529 dloss:0.7883 aloss2:7.6253 exploreP:0.8329\n",
      "Episode:82 meanR:22.4217 R:12.0000 rate:0.0240 aloss:1.4290 dloss:0.7705 aloss2:7.6828 exploreP:0.8319\n",
      "Episode:83 meanR:22.3452 R:16.0000 rate:0.0320 aloss:1.4419 dloss:0.7861 aloss2:7.6626 exploreP:0.8306\n",
      "Episode:84 meanR:22.2706 R:16.0000 rate:0.0320 aloss:1.4743 dloss:0.7909 aloss2:7.7935 exploreP:0.8293\n",
      "Episode:85 meanR:22.5233 R:44.0000 rate:0.0880 aloss:1.4570 dloss:0.7702 aloss2:7.7266 exploreP:0.8257\n",
      "Episode:86 meanR:22.7586 R:43.0000 rate:0.0860 aloss:1.4527 dloss:0.7633 aloss2:7.8605 exploreP:0.8222\n",
      "Episode:87 meanR:22.7500 R:22.0000 rate:0.0440 aloss:1.4531 dloss:0.7423 aloss2:8.0928 exploreP:0.8204\n",
      "Episode:88 meanR:22.7079 R:19.0000 rate:0.0380 aloss:1.4473 dloss:0.7485 aloss2:8.2003 exploreP:0.8188\n",
      "Episode:89 meanR:22.5778 R:11.0000 rate:0.0220 aloss:1.4568 dloss:0.7363 aloss2:8.2569 exploreP:0.8180\n",
      "Episode:90 meanR:22.4835 R:14.0000 rate:0.0280 aloss:1.4140 dloss:0.7091 aloss2:8.3910 exploreP:0.8168\n",
      "Episode:91 meanR:22.4891 R:23.0000 rate:0.0460 aloss:1.4668 dloss:0.7568 aloss2:8.3611 exploreP:0.8150\n",
      "Episode:92 meanR:22.6022 R:33.0000 rate:0.0660 aloss:1.4409 dloss:0.7597 aloss2:8.3276 exploreP:0.8123\n",
      "Episode:93 meanR:22.5213 R:15.0000 rate:0.0300 aloss:1.4830 dloss:0.7082 aloss2:8.5399 exploreP:0.8111\n",
      "Episode:94 meanR:22.6421 R:34.0000 rate:0.0680 aloss:1.4618 dloss:0.7091 aloss2:8.6131 exploreP:0.8084\n"
     ]
    }
   ],
   "source": [
    "# Save/load the model and save for plotting\n",
    "saver = tf.train.Saver()\n",
    "episode_rewards_list, rewards_list = [], []\n",
    "aloss_list, dloss_list, aloss2_list = [], [], []\n",
    "\n",
    "# TF session for training\n",
    "with tf.Session(graph=graph) as sess:\n",
    "    sess.run(tf.global_variables_initializer())\n",
    "    #saver.restore(sess, 'checkpoints/model.ckpt')    \n",
    "    #saver.restore(sess, tf.train.latest_checkpoint('checkpoints'))\n",
    "    total_step = 0 # Explore or exploit parameter\n",
    "    episode_reward = deque(maxlen=100) # 100 episodes average/running average/running mean/window\n",
    "\n",
    "    # Training episodes/epochs\n",
    "    for ep in range(11111):\n",
    "        total_reward = 0 # each episode\n",
    "        aloss_batch, dloss_batch, aloss2_batch = [], [], []\n",
    "        state = env.reset() # each episode\n",
    "        num_step = 0 # each episode\n",
    "        rate = -1\n",
    "\n",
    "        # Training steps/batches\n",
    "        while True:\n",
    "            # Explore (Env) or Exploit (Model)\n",
    "            total_step += 1\n",
    "            explore_p = explore_stop + (explore_start - explore_stop) * np.exp(-decay_rate * total_step) \n",
    "            if explore_p > np.random.rand():\n",
    "                action = env.action_space.sample()\n",
    "            else:\n",
    "                action_logits = sess.run(model.actions_logits, feed_dict={model.states: state.reshape([1, -1])})\n",
    "                action = np.argmax(action_logits)\n",
    "            next_state, reward, done, _ = env.step(action)\n",
    "            memory.buffer.append([state, action, next_state, reward, float(done), rate])\n",
    "            num_step += 1 # momory added\n",
    "            total_reward += reward\n",
    "            state = next_state\n",
    "            \n",
    "            # Rating the memory\n",
    "            if done is True:\n",
    "                rate = total_reward/500 # update rate at the end/ when episode is done\n",
    "                for idx in range(num_step): # episode length\n",
    "                    if memory.buffer[-1-idx][-1] == -1: # double-check the landmark/marked indexes\n",
    "                        memory.buffer[-1-idx][-1] = rate # rate the trajectory/data\n",
    "                        \n",
    "            # Training with the maxrated minibatch\n",
    "            batch = memory.buffer\n",
    "            #for idx in range(memory_size// batch_size):\n",
    "            while True:\n",
    "                idx = np.random.choice(np.arange(memory_size// batch_size))\n",
    "                states = np.array([each[0] for each in batch])[idx*batch_size:(idx+1)*batch_size]\n",
    "                actions = np.array([each[1] for each in batch])[idx*batch_size:(idx+1)*batch_size]\n",
    "                next_states = np.array([each[2] for each in batch])[idx*batch_size:(idx+1)*batch_size]\n",
    "                #rewards = np.array([each[3] for each in batch])[idx*batch_size:(idx+1)*batch_size]\n",
    "                dones = np.array([each[4] for each in batch])[idx*batch_size:(idx+1)*batch_size]\n",
    "                rates = np.array([each[5] for each in batch])[idx*batch_size:(idx+1)*batch_size]\n",
    "                states = states[rates >= np.max(rates)]\n",
    "                actions = actions[rates >= np.max(rates)]\n",
    "                next_states = next_states[rates >= np.max(rates)]\n",
    "                #rewards = rewards[rates >= np.max(rates)]\n",
    "                dones = dones[rates >= np.max(rates)]\n",
    "                rates = rates[rates >= np.max(rates)]\n",
    "                #if np.count_nonzero(dones)==1 and len(dones) >= 1 and np.max(rates) > 0:\n",
    "                if len(dones) > 1:\n",
    "                    # print('np.count_nonzero(dones)==1 and len(dones) >= 1 and np.max(rates) > 0: ', \n",
    "                    #       np.count_nonzero(dones), len(dones), np.max(rates))\n",
    "                    break\n",
    "            #             if np.count_nonzero(dones)!=1 and len(dones) < 1 and np.max(rates) <= 0:\n",
    "            #                 print(np.count_nonzero(dones), len(dones), np.max(rates))\n",
    "            #                 break\n",
    "            aloss, _ = sess.run([model.a_loss, model.a_opt],\n",
    "                                feed_dict = {model.states: states, \n",
    "                                            model.actions: actions,\n",
    "                                            model.next_states: next_states,\n",
    "                                            #model.rewards: rewards,\n",
    "                                            model.dones: dones,\n",
    "                                            model.rates: rates})\n",
    "            dloss, _ = sess.run([model.d_loss, model.d_opt],\n",
    "                                  feed_dict = {model.states: states, \n",
    "                                               model.actions: actions,\n",
    "                                               model.next_states: next_states,\n",
    "                                               #model.rewards: rewards,\n",
    "                                               model.dones: dones,\n",
    "                                               model.rates: rates})\n",
    "            aloss2, _= sess.run([model.a_loss2, model.a_opt2], \n",
    "                                 feed_dict = {model.states: states, \n",
    "                                              model.actions: actions,\n",
    "                                              model.next_states: next_states,\n",
    "                                              #model.rewards: rewards,\n",
    "                                              model.dones: dones,\n",
    "                                              model.rates: rates})\n",
    "            # print('dones:', \n",
    "            #       len(dones), np.count_nonzero(dones), \n",
    "            #       len(dones1), np.count_nonzero(dones1), \n",
    "            #       len(dones2), np.count_nonzero(dones2))\n",
    "            aloss_batch.append(aloss)\n",
    "            dloss_batch.append(dloss)\n",
    "            aloss2_batch.append(aloss2)\n",
    "            if done is True:\n",
    "                break\n",
    "                \n",
    "        episode_reward.append(total_reward)\n",
    "        print('Episode:{}'.format(ep),\n",
    "              'meanR:{:.4f}'.format(np.mean(episode_reward)),\n",
    "              'R:{:.4f}'.format(total_reward),\n",
    "              'rate:{:.4f}'.format(rate),\n",
    "              'aloss:{:.4f}'.format(np.mean(aloss_batch)),\n",
    "              'dloss:{:.4f}'.format(np.mean(dloss_batch)),\n",
    "              'aloss2:{:.4f}'.format(np.mean(aloss2_batch)),\n",
    "              'exploreP:{:.4f}'.format(explore_p))\n",
    "\n",
    "        # Ploting out\n",
    "        episode_rewards_list.append([ep, np.mean(episode_reward)])\n",
    "        rewards_list.append([ep, total_reward])\n",
    "        aloss_list.append([ep, np.mean(aloss_batch)])\n",
    "        dloss_list.append([ep, np.mean(dloss_batch)])\n",
    "        aloss2_list.append([ep, np.mean(aloss2_batch)])\n",
    "        \n",
    "        # Break episode/epoch loop\n",
    "        ## Option 1: Solve the First Version\n",
    "        #The task is episodic, and in order to solve the environment, \n",
    "        #your agent must get an average score of +30 over 100 consecutive episodes.\n",
    "        if np.mean(episode_reward) >= 500:\n",
    "            break\n",
    "            \n",
    "    # At the end of all training episodes/epochs\n",
    "    saver.save(sess, 'checkpoints/model.ckpt')"
   ]
  },
  {
   "cell_type": "markdown",
   "metadata": {},
   "source": [
    "# Visualizing training\n",
    "\n",
    "Below I'll plot the total rewards for each episode. I'm plotting the rolling average too, in blue."
   ]
  },
  {
   "cell_type": "code",
   "execution_count": null,
   "metadata": {},
   "outputs": [],
   "source": [
    "import matplotlib.pyplot as plt\n",
    "%matplotlib inline\n",
    "\n",
    "def running_mean(x, N):\n",
    "    cumsum = np.cumsum(np.insert(x, 0, 0)) \n",
    "    return (cumsum[N:] - cumsum[:-N]) / N "
   ]
  },
  {
   "cell_type": "code",
   "execution_count": null,
   "metadata": {},
   "outputs": [],
   "source": [
    "eps, arr = np.array(episode_rewards_list).T\n",
    "smoothed_arr = running_mean(arr, 10)\n",
    "plt.plot(eps[-len(smoothed_arr):], smoothed_arr)\n",
    "plt.plot(eps, arr, color='grey', alpha=0.3)\n",
    "plt.xlabel('Episode')\n",
    "plt.ylabel('Total rewards')"
   ]
  },
  {
   "cell_type": "code",
   "execution_count": null,
   "metadata": {},
   "outputs": [],
   "source": [
    "eps, arr = np.array(rewards_list).T\n",
    "smoothed_arr = running_mean(arr, 10)\n",
    "plt.plot(eps[-len(smoothed_arr):], smoothed_arr)\n",
    "plt.plot(eps, arr, color='grey', alpha=0.3)\n",
    "plt.xlabel('Episode')\n",
    "plt.ylabel('Total rewards')"
   ]
  },
  {
   "cell_type": "code",
   "execution_count": null,
   "metadata": {},
   "outputs": [],
   "source": [
    "eps, arr = np.array(aloss_list).T\n",
    "smoothed_arr = running_mean(arr, 10)\n",
    "plt.plot(eps[-len(smoothed_arr):], smoothed_arr)\n",
    "plt.plot(eps, arr, color='grey', alpha=0.3)\n",
    "plt.xlabel('Episode')\n",
    "plt.ylabel('A losses')"
   ]
  },
  {
   "cell_type": "code",
   "execution_count": null,
   "metadata": {},
   "outputs": [],
   "source": [
    "eps, arr = np.array(dloss_list).T\n",
    "smoothed_arr = running_mean(arr, 10)\n",
    "plt.plot(eps[-len(smoothed_arr):], smoothed_arr)\n",
    "plt.plot(eps, arr, color='grey', alpha=0.3)\n",
    "plt.xlabel('Episode')\n",
    "plt.ylabel('D losses')"
   ]
  },
  {
   "cell_type": "code",
   "execution_count": null,
   "metadata": {},
   "outputs": [],
   "source": [
    "eps, arr = np.array(aloss2_list).T\n",
    "smoothed_arr = running_mean(arr, 10)\n",
    "plt.plot(eps[-len(smoothed_arr):], smoothed_arr)\n",
    "plt.plot(eps, arr, color='grey', alpha=0.3)\n",
    "plt.xlabel('Episode')\n",
    "plt.ylabel('A losses 2')"
   ]
  },
  {
   "cell_type": "markdown",
   "metadata": {},
   "source": [
    "## Testing\n",
    "\n",
    "Let's checkout how our trained agent plays the game."
   ]
  },
  {
   "cell_type": "code",
   "execution_count": 39,
   "metadata": {},
   "outputs": [
    {
     "name": "stdout",
     "output_type": "stream",
     "text": [
      "INFO:tensorflow:Restoring parameters from checkpoints/model.ckpt\n",
      "total_reward: 500.0\n",
      "total_reward: 500.0\n",
      "total_reward: 500.0\n",
      "total_reward: 500.0\n",
      "total_reward: 500.0\n",
      "total_reward: 500.0\n",
      "total_reward: 500.0\n",
      "total_reward: 500.0\n",
      "total_reward: 500.0\n",
      "total_reward: 500.0\n"
     ]
    }
   ],
   "source": [
    "import gym\n",
    "env = gym.make('CartPole-v0')\n",
    "env = gym.make('CartPole-v1')\n",
    "\n",
    "with tf.Session() as sess:\n",
    "    sess.run(tf.global_variables_initializer())\n",
    "    saver.restore(sess, 'checkpoints/model.ckpt')    \n",
    "    #saver.restore(sess, tf.train.latest_checkpoint('checkpoints'))\n",
    "    \n",
    "    # Episodes/epochs\n",
    "    for _ in range(10):\n",
    "        state = env.reset()\n",
    "        total_reward = 0\n",
    "\n",
    "        # Steps/batches\n",
    "        while True:\n",
    "            env.render()\n",
    "            action_logits = sess.run(model.actions_logits, feed_dict={model.states: state.reshape([1, -1])})\n",
    "            action = np.argmax(action_logits)\n",
    "            state, reward, done, _ = env.step(action)\n",
    "            total_reward += reward\n",
    "            if done:\n",
    "                print('total_reward: {}'.format(total_reward))\n",
    "                break\n",
    "                \n",
    "env.close()"
   ]
  },
  {
   "cell_type": "code",
   "execution_count": null,
   "metadata": {},
   "outputs": [],
   "source": []
  }
 ],
 "metadata": {
  "kernelspec": {
   "display_name": "Python 3",
   "language": "python",
   "name": "python3"
  },
  "language_info": {
   "codemirror_mode": {
    "name": "ipython",
    "version": 3
   },
   "file_extension": ".py",
   "mimetype": "text/x-python",
   "name": "python",
   "nbconvert_exporter": "python",
   "pygments_lexer": "ipython3",
   "version": "3.6.6"
  }
 },
 "nbformat": 4,
 "nbformat_minor": 2
}
