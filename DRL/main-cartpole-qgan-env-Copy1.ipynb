{
 "cells": [
  {
   "cell_type": "code",
   "execution_count": 1,
   "metadata": {},
   "outputs": [
    {
     "name": "stdout",
     "output_type": "stream",
     "text": [
      "TensorFlow Version: 1.7.1\n",
      "Default GPU Device: \n"
     ]
    }
   ],
   "source": [
    "import tensorflow as tf\n",
    "print('TensorFlow Version: {}'.format(tf.__version__))\n",
    "print('Default GPU Device: {}'.format(tf.test.gpu_device_name()))"
   ]
  },
  {
   "cell_type": "markdown",
   "metadata": {},
   "source": [
    "##### >**Note:** Make sure you have OpenAI Gym cloned. Then run this command `pip install -e gym/[all]`."
   ]
  },
  {
   "cell_type": "code",
   "execution_count": 2,
   "metadata": {},
   "outputs": [],
   "source": [
    "import numpy as np\n",
    "import gym\n",
    "env = gym.make('CartPole-v0')\n",
    "env = gym.make('CartPole-v1')"
   ]
  },
  {
   "cell_type": "code",
   "execution_count": 3,
   "metadata": {},
   "outputs": [],
   "source": [
    "def model_input(state_size):\n",
    "    #states = tf.placeholder(tf.float32, [None, *state_size], name='states')\n",
    "    states = tf.placeholder(tf.float32, [None, state_size], name='states')\n",
    "    actions = tf.placeholder(tf.int32, [None], name='actions')\n",
    "    next_states = tf.placeholder(tf.float32, [None, state_size], name='next_states')\n",
    "    # rewards = tf.placeholder(tf.float32, [None], name='rewards')\n",
    "    dones = tf.placeholder(tf.float32, [None], name='dones')\n",
    "    rates = tf.placeholder(tf.float32, [None], name='rates') # success rate\n",
    "    return states, actions, next_states, dones, rates"
   ]
  },
  {
   "cell_type": "code",
   "execution_count": 4,
   "metadata": {},
   "outputs": [],
   "source": [
    "def Act(states, action_size, hidden_size, reuse=False, alpha=0.1, training=False):\n",
    "    with tf.variable_scope('Act', reuse=reuse):\n",
    "        # First fully connected layer\n",
    "        h1 = tf.layers.dense(inputs=states, units=hidden_size)\n",
    "        bn1 = tf.layers.batch_normalization(h1, training=training)        \n",
    "        nl1 = tf.maximum(alpha * bn1, bn1)\n",
    "        \n",
    "        # Second fully connected layer\n",
    "        h2 = tf.layers.dense(inputs=nl1, units=hidden_size)\n",
    "        bn2 = tf.layers.batch_normalization(h2, training=training)        \n",
    "        nl2 = tf.maximum(alpha * bn2, bn2)\n",
    "        \n",
    "        # Output layer\n",
    "        logits = tf.layers.dense(inputs=nl2, units=action_size)        \n",
    "        return logits"
   ]
  },
  {
   "cell_type": "code",
   "execution_count": 5,
   "metadata": {},
   "outputs": [],
   "source": [
    "def Env(states, actions, state_size, action_size, hidden_size, reuse=False, alpha=0.1, training=False):\n",
    "    with tf.variable_scope('Env', reuse=reuse):\n",
    "        # First fully connected layer\n",
    "        h1 = tf.layers.dense(inputs=states, units=action_size)\n",
    "        bn1 = tf.layers.batch_normalization(h1, training=training)        \n",
    "        nl1 = tf.maximum(alpha * bn1, bn1)\n",
    "        \n",
    "        # Second fully connected layer\n",
    "        nl1_fused = tf.concat(axis=1, values=[nl1, actions])\n",
    "        h2 = tf.layers.dense(inputs=nl1_fused, units=hidden_size)\n",
    "        bn2 = tf.layers.batch_normalization(h2, training=training)        \n",
    "        nl2 = tf.maximum(alpha * bn2, bn2)\n",
    "                \n",
    "        # Output layer\n",
    "        states_logits = tf.layers.dense(inputs=nl2, units=state_size, trainable=False)\n",
    "        Qlogits = tf.layers.dense(inputs=nl2, units=1, trainable=False)\n",
    "        return states_logits, Qlogits"
   ]
  },
  {
   "cell_type": "code",
   "execution_count": 17,
   "metadata": {},
   "outputs": [],
   "source": [
    "def model_loss(state_size, action_size, hidden_size,\n",
    "               states, actions, next_states, dones, rates):\n",
    "    ################################################ a = act(s)\n",
    "    actions_logits = Act(states=states, hidden_size=hidden_size, action_size=action_size)\n",
    "    actions_labels = tf.one_hot(indices=actions, depth=action_size, dtype=actions_logits.dtype)\n",
    "    aloss = tf.reduce_mean(tf.nn.softmax_cross_entropy_with_logits_v2(logits=actions_logits, \n",
    "                                                                      labels=actions_labels))\n",
    "    ################################################ s', r = env(s, a)\n",
    "    ################################################ ~s', Q = ~env(s, a)\n",
    "    ################################################ ~s', Q = ~env(s, ~a)\n",
    "    e_next_states_logits, eQs = Env(actions=actions_labels, states=states, hidden_size=hidden_size, \n",
    "                                    action_size=action_size, state_size=state_size)\n",
    "    a_next_states_logits, aQs = Env(actions=actions_logits, states=states, hidden_size=hidden_size, \n",
    "                                    action_size=action_size, state_size=state_size, reuse=True)\n",
    "    next_states_labels = tf.nn.sigmoid(next_states)\n",
    "    eloss = tf.reduce_mean(tf.nn.sigmoid_cross_entropy_with_logits(logits=e_next_states_logits, \n",
    "                                                                   labels=next_states_labels))\n",
    "    aloss2 = tf.reduce_mean(tf.nn.sigmoid_cross_entropy_with_logits(logits=a_next_states_logits, \n",
    "                                                                    labels=next_states_labels))\n",
    "    eQs_logits = tf.reshape(eQs, shape=[-1])\n",
    "    aQs_logits = tf.reshape(aQs, shape=[-1])\n",
    "    eloss += tf.reduce_mean(tf.nn.sigmoid_cross_entropy_with_logits(logits=eQs_logits, # GAN\n",
    "                                                                    labels=rates)) # 0-1\n",
    "    eloss += tf.reduce_mean(tf.nn.sigmoid_cross_entropy_with_logits(logits=aQs_logits, # GAN\n",
    "                                                                    labels=tf.zeros_like(rates))) # min\n",
    "    aloss2 += tf.reduce_mean(tf.nn.sigmoid_cross_entropy_with_logits(logits=aQs_logits, # GAN\n",
    "                                                                     labels=tf.ones_like(rates))) # max\n",
    "    #################################################### s'', Q' = ~env(s', ~a')\n",
    "    next_actions_logits = Act(states=next_states, hidden_size=hidden_size, action_size=action_size, reuse=True)\n",
    "    next_states_logits, aQs2 = Env(actions=next_actions_logits, states=next_states, hidden_size=hidden_size, \n",
    "                                   action_size=action_size, state_size=state_size, reuse=True)\n",
    "    aQs2_logits = tf.reshape(aQs2, shape=[-1]) * (1-dones)\n",
    "    eloss += tf.reduce_mean(tf.nn.sigmoid_cross_entropy_with_logits(logits=aQs2_logits, # GAN\n",
    "                                                                    labels=tf.zeros_like(rates))) # min\n",
    "    aloss2 += tf.reduce_mean(tf.nn.sigmoid_cross_entropy_with_logits(logits=aQs2_logits, # GAN\n",
    "                                                                     labels=tf.ones_like(rates))) # min\n",
    "    #################################################### s'', Q' = ~env(s', ~a')\n",
    "    next_states = tf.nn.tanh(next_states_logits)\n",
    "    next_actions_logits = Act(states=next_states, hidden_size=hidden_size, action_size=action_size, reuse=True)\n",
    "    _, aQs2 = Env(actions=next_actions_logits, states=next_states, hidden_size=hidden_size, \n",
    "                  action_size=action_size, state_size=state_size, reuse=True)\n",
    "    aQs2_logits = tf.reshape(aQs2, shape=[-1]) * (1-dones)\n",
    "    eloss += tf.reduce_mean(tf.nn.sigmoid_cross_entropy_with_logits(logits=aQs2_logits, # GAN\n",
    "                                                                    labels=tf.zeros_like(rates))) # min\n",
    "    aloss2 += tf.reduce_mean(tf.nn.sigmoid_cross_entropy_with_logits(logits=aQs2_logits, # GAN\n",
    "                                                                     labels=tf.ones_like(rates))) # min\n",
    "    return actions_logits, aloss, eloss, aloss2"
   ]
  },
  {
   "cell_type": "code",
   "execution_count": 18,
   "metadata": {},
   "outputs": [],
   "source": [
    "def model_opt(a_loss, e_loss, a_loss2, a_learning_rate, e_learning_rate):\n",
    "    # Get weights and bias to update\n",
    "    t_vars = tf.trainable_variables()\n",
    "    a_vars = [var for var in t_vars if var.name.startswith('Act')]\n",
    "    e_vars = [var for var in t_vars if var.name.startswith('Env')]\n",
    "\n",
    "    # Optimize\n",
    "    with tf.control_dependencies(tf.get_collection(tf.GraphKeys.UPDATE_OPS)): # Required for batchnorm (BN)\n",
    "        a_opt = tf.train.AdamOptimizer(a_learning_rate).minimize(a_loss, var_list=a_vars)\n",
    "        e_opt = tf.train.AdamOptimizer(e_learning_rate).minimize(e_loss, var_list=e_vars)\n",
    "        a_opt2 = tf.train.AdamOptimizer(a_learning_rate).minimize(a_loss2, var_list=a_vars)\n",
    "    return a_opt, e_opt, a_opt2"
   ]
  },
  {
   "cell_type": "code",
   "execution_count": 19,
   "metadata": {},
   "outputs": [],
   "source": [
    "class Model:\n",
    "    def __init__(self, state_size, action_size, hidden_size, a_learning_rate, e_learning_rate):\n",
    "\n",
    "        # Data of the Model: make the data available inside the framework\n",
    "        self.states, self.actions, self.next_states, self.dones, self.rates = model_input(state_size=state_size)\n",
    "\n",
    "        # Create the Model: calculating the loss and forwad pass\n",
    "        self.actions_logits, self.a_loss, self.e_loss, self.a_loss2 = model_loss(\n",
    "            state_size=state_size, action_size=action_size, hidden_size=hidden_size, # model init\n",
    "            states=self.states, actions=self.actions, next_states=self.next_states, \n",
    "            dones=self.dones, rates=self.rates) # model input\n",
    "        \n",
    "        # Update the model: backward pass and backprop\n",
    "        self.a_opt, self.e_opt, self.a_opt2 = model_opt(a_loss=self.a_loss, \n",
    "                                                        e_loss=self.e_loss,\n",
    "                                                        a_loss2=self.a_loss2, \n",
    "                                                        a_learning_rate=a_learning_rate,\n",
    "                                                        e_learning_rate=e_learning_rate)"
   ]
  },
  {
   "cell_type": "code",
   "execution_count": 20,
   "metadata": {},
   "outputs": [],
   "source": [
    "# def sample(buffer, batch_size):\n",
    "#     idx = np.random.choice(np.arange(len(buffer)), size=batch_size, replace=False)\n",
    "#     return [buffer[ii] for ii in idx]"
   ]
  },
  {
   "cell_type": "code",
   "execution_count": 21,
   "metadata": {},
   "outputs": [],
   "source": [
    "from collections import deque\n",
    "class Memory():\n",
    "    def __init__(self, max_size = 1000):\n",
    "        self.buffer = deque(maxlen=max_size) # data batch"
   ]
  },
  {
   "cell_type": "markdown",
   "metadata": {},
   "source": [
    "## Hyperparameters\n",
    "\n",
    "One of the more difficult aspects of reinforcememt learning are the large number of hyperparameters. Not only are we tuning the network, but we're tuning the simulation."
   ]
  },
  {
   "cell_type": "code",
   "execution_count": 22,
   "metadata": {},
   "outputs": [
    {
     "data": {
      "text/plain": [
       "(Box(4,), Discrete(2))"
      ]
     },
     "execution_count": 22,
     "metadata": {},
     "output_type": "execute_result"
    }
   ],
   "source": [
    "env.observation_space, env.action_space"
   ]
  },
  {
   "cell_type": "code",
   "execution_count": 23,
   "metadata": {},
   "outputs": [],
   "source": [
    "# Exploration parameters\n",
    "explore_start = 1.0            # exploration probability at start\n",
    "explore_stop = 0.01           # minimum exploration probability \n",
    "decay_rate = 0.0001            # exponential decay rate for exploration prob\n",
    "\n",
    "# Network parameters\n",
    "state_size = 4\n",
    "action_size = 2\n",
    "hidden_size = 4*2             # number of units in each Q-network hidden layer\n",
    "a_learning_rate = 1e-4         # Q-network learning rate\n",
    "e_learning_rate = 1e-4         # Q-network learning rate\n",
    "\n",
    "# Memory parameters\n",
    "memory_size = int(1e5)            # memory capacity\n",
    "batch_size = int(1e3)             # experience mini-batch size: 200/500 a successfull episode size\n",
    "# gamma = 0.99                   # future reward discount"
   ]
  },
  {
   "cell_type": "code",
   "execution_count": 24,
   "metadata": {},
   "outputs": [],
   "source": [
    "# Reset/init the graph/session\n",
    "graph = tf.reset_default_graph()\n",
    "\n",
    "# Init the model\n",
    "model = Model(action_size=action_size, state_size=state_size, hidden_size=hidden_size,\n",
    "              a_learning_rate=a_learning_rate, \n",
    "              e_learning_rate=e_learning_rate)\n",
    "\n",
    "# Init the memory\n",
    "memory = Memory(max_size=memory_size)"
   ]
  },
  {
   "cell_type": "code",
   "execution_count": 25,
   "metadata": {},
   "outputs": [],
   "source": [
    "state = env.reset()\n",
    "total_reward = 0\n",
    "num_step = 0\n",
    "for _ in range(memory_size):\n",
    "    action = env.action_space.sample()\n",
    "    next_state, reward, done, _ = env.step(action)\n",
    "    rate = -1\n",
    "    memory.buffer.append([state, action, next_state, reward, float(done), rate])\n",
    "    num_step += 1 # memory incremented\n",
    "    total_reward += reward\n",
    "    state = next_state\n",
    "    if done is True:\n",
    "        state = env.reset()\n",
    "        rate = total_reward/500\n",
    "        for idx in range(num_step): # episode length\n",
    "            if memory.buffer[-1-idx][-1] == -1:\n",
    "                memory.buffer[-1-idx][-1] = rate\n",
    "        total_reward = 0 # reset\n",
    "        num_step = 0 # reset"
   ]
  },
  {
   "cell_type": "markdown",
   "metadata": {},
   "source": [
    "## Training the model\n",
    "\n",
    "Below we'll train our agent. If you want to watch it train, uncomment the `env.render()` line. This is slow because it's rendering the frames slower than the network can train. But, it's cool to watch the agent get better at the game."
   ]
  },
  {
   "cell_type": "code",
   "execution_count": null,
   "metadata": {},
   "outputs": [
    {
     "name": "stdout",
     "output_type": "stream",
     "text": [
      "Episode:0 meanR:16.0000 R:16.0000 rate:0.0320 aloss:0.7048 eloss:3.3174 aloss2:2.8746 exploreP:0.9984\n",
      "Episode:1 meanR:21.5000 R:27.0000 rate:0.0540 aloss:0.7055 eloss:3.2478 aloss2:2.9540 exploreP:0.9958\n",
      "Episode:2 meanR:21.0000 R:20.0000 rate:0.0400 aloss:0.7022 eloss:3.2901 aloss2:2.9005 exploreP:0.9938\n",
      "Episode:3 meanR:19.2500 R:14.0000 rate:0.0280 aloss:0.7010 eloss:3.2771 aloss2:2.9174 exploreP:0.9924\n",
      "Episode:4 meanR:20.8000 R:27.0000 rate:0.0540 aloss:0.7024 eloss:3.2529 aloss2:2.9339 exploreP:0.9898\n",
      "Episode:5 meanR:20.0000 R:16.0000 rate:0.0320 aloss:0.7007 eloss:3.2455 aloss2:2.9326 exploreP:0.9882\n",
      "Episode:6 meanR:21.0000 R:27.0000 rate:0.0540 aloss:0.6997 eloss:3.2472 aloss2:2.9395 exploreP:0.9856\n",
      "Episode:7 meanR:20.2500 R:15.0000 rate:0.0300 aloss:0.6964 eloss:3.2043 aloss2:2.9876 exploreP:0.9841\n",
      "Episode:8 meanR:20.0000 R:18.0000 rate:0.0360 aloss:0.6975 eloss:3.2012 aloss2:2.9812 exploreP:0.9823\n",
      "Episode:9 meanR:21.3000 R:33.0000 rate:0.0660 aloss:0.7003 eloss:3.1816 aloss2:3.0112 exploreP:0.9791\n",
      "Episode:10 meanR:23.1818 R:42.0000 rate:0.0840 aloss:0.6974 eloss:3.1575 aloss2:3.0310 exploreP:0.9751\n",
      "Episode:11 meanR:22.5833 R:16.0000 rate:0.0320 aloss:0.6991 eloss:3.1098 aloss2:3.0836 exploreP:0.9735\n",
      "Episode:12 meanR:21.6154 R:10.0000 rate:0.0200 aloss:0.6979 eloss:3.1090 aloss2:3.0878 exploreP:0.9726\n",
      "Episode:13 meanR:22.4286 R:33.0000 rate:0.0660 aloss:0.6977 eloss:3.0608 aloss2:3.1471 exploreP:0.9694\n",
      "Episode:14 meanR:22.0000 R:16.0000 rate:0.0320 aloss:0.6913 eloss:3.0533 aloss2:3.1720 exploreP:0.9679\n",
      "Episode:15 meanR:21.7500 R:18.0000 rate:0.0360 aloss:0.6993 eloss:3.0406 aloss2:3.1624 exploreP:0.9661\n",
      "Episode:16 meanR:21.4118 R:16.0000 rate:0.0320 aloss:0.6965 eloss:2.9981 aloss2:3.2344 exploreP:0.9646\n",
      "Episode:17 meanR:21.9444 R:31.0000 rate:0.0620 aloss:0.6968 eloss:2.9855 aloss2:3.2349 exploreP:0.9617\n",
      "Episode:18 meanR:21.5263 R:14.0000 rate:0.0280 aloss:0.6958 eloss:2.9788 aloss2:3.2393 exploreP:0.9603\n",
      "Episode:19 meanR:21.1500 R:14.0000 rate:0.0280 aloss:0.6996 eloss:2.9683 aloss2:3.2444 exploreP:0.9590\n",
      "Episode:20 meanR:20.9524 R:17.0000 rate:0.0340 aloss:0.6965 eloss:2.8910 aloss2:3.3570 exploreP:0.9574\n",
      "Episode:21 meanR:21.2727 R:28.0000 rate:0.0560 aloss:0.6961 eloss:2.9446 aloss2:3.2772 exploreP:0.9547\n",
      "Episode:22 meanR:21.4783 R:26.0000 rate:0.0520 aloss:0.6970 eloss:2.8809 aloss2:3.3671 exploreP:0.9523\n",
      "Episode:23 meanR:21.5833 R:24.0000 rate:0.0480 aloss:0.6945 eloss:2.8786 aloss2:3.3575 exploreP:0.9500\n",
      "Episode:24 meanR:21.6800 R:24.0000 rate:0.0480 aloss:0.6934 eloss:2.8555 aloss2:3.3901 exploreP:0.9478\n",
      "Episode:25 meanR:21.6154 R:20.0000 rate:0.0400 aloss:0.6951 eloss:2.8526 aloss2:3.3988 exploreP:0.9459\n",
      "Episode:26 meanR:21.5185 R:19.0000 rate:0.0380 aloss:0.6926 eloss:2.8149 aloss2:3.4477 exploreP:0.9441\n",
      "Episode:27 meanR:21.1786 R:12.0000 rate:0.0240 aloss:0.6917 eloss:2.7775 aloss2:3.4975 exploreP:0.9430\n",
      "Episode:28 meanR:21.1034 R:19.0000 rate:0.0380 aloss:0.6931 eloss:2.8141 aloss2:3.4373 exploreP:0.9412\n",
      "Episode:29 meanR:20.8000 R:12.0000 rate:0.0240 aloss:0.6932 eloss:2.7344 aloss2:3.5649 exploreP:0.9401\n",
      "Episode:30 meanR:20.7097 R:18.0000 rate:0.0360 aloss:0.6900 eloss:2.7508 aloss2:3.5424 exploreP:0.9384\n",
      "Episode:31 meanR:20.7188 R:21.0000 rate:0.0420 aloss:0.6919 eloss:2.7496 aloss2:3.5299 exploreP:0.9365\n",
      "Episode:32 meanR:20.6061 R:17.0000 rate:0.0340 aloss:0.6923 eloss:2.7142 aloss2:3.5870 exploreP:0.9349\n",
      "Episode:33 meanR:20.4118 R:14.0000 rate:0.0280 aloss:0.6906 eloss:2.7107 aloss2:3.5830 exploreP:0.9336\n",
      "Episode:34 meanR:20.3429 R:18.0000 rate:0.0360 aloss:0.6901 eloss:2.7185 aloss2:3.5658 exploreP:0.9320\n",
      "Episode:35 meanR:20.3333 R:20.0000 rate:0.0400 aloss:0.6894 eloss:2.6994 aloss2:3.6011 exploreP:0.9301\n",
      "Episode:36 meanR:20.2432 R:17.0000 rate:0.0340 aloss:0.6884 eloss:2.6640 aloss2:3.6553 exploreP:0.9286\n",
      "Episode:37 meanR:20.4211 R:27.0000 rate:0.0540 aloss:0.6865 eloss:2.6649 aloss2:3.6473 exploreP:0.9261\n",
      "Episode:38 meanR:20.2564 R:14.0000 rate:0.0280 aloss:0.6897 eloss:2.6481 aloss2:3.6619 exploreP:0.9248\n",
      "Episode:39 meanR:20.1000 R:14.0000 rate:0.0280 aloss:0.6888 eloss:2.6298 aloss2:3.7016 exploreP:0.9235\n",
      "Episode:40 meanR:20.3902 R:32.0000 rate:0.0640 aloss:0.6910 eloss:2.6168 aloss2:3.7242 exploreP:0.9206\n",
      "Episode:41 meanR:20.6667 R:32.0000 rate:0.0640 aloss:0.6886 eloss:2.5849 aloss2:3.7800 exploreP:0.9177\n",
      "Episode:42 meanR:20.6047 R:18.0000 rate:0.0360 aloss:0.6848 eloss:2.5551 aloss2:3.8080 exploreP:0.9161\n",
      "Episode:43 meanR:20.4773 R:15.0000 rate:0.0300 aloss:0.6837 eloss:2.5675 aloss2:3.8171 exploreP:0.9147\n",
      "Episode:44 meanR:20.3556 R:15.0000 rate:0.0300 aloss:0.6820 eloss:2.5094 aloss2:3.8878 exploreP:0.9133\n",
      "Episode:45 meanR:20.7391 R:38.0000 rate:0.0760 aloss:0.6877 eloss:2.5234 aloss2:3.8663 exploreP:0.9099\n",
      "Episode:46 meanR:20.8085 R:24.0000 rate:0.0480 aloss:0.6896 eloss:2.5096 aloss2:3.8953 exploreP:0.9078\n",
      "Episode:47 meanR:21.0833 R:34.0000 rate:0.0680 aloss:0.6876 eloss:2.4851 aloss2:3.8874 exploreP:0.9047\n",
      "Episode:48 meanR:20.9184 R:13.0000 rate:0.0260 aloss:0.6897 eloss:2.4691 aloss2:3.9179 exploreP:0.9036\n",
      "Episode:49 meanR:20.8600 R:18.0000 rate:0.0360 aloss:0.6841 eloss:2.4441 aloss2:3.9789 exploreP:0.9019\n",
      "Episode:50 meanR:20.7255 R:14.0000 rate:0.0280 aloss:0.6866 eloss:2.3487 aloss2:4.2145 exploreP:0.9007\n",
      "Episode:51 meanR:20.6154 R:15.0000 rate:0.0300 aloss:0.6809 eloss:2.4130 aloss2:4.0455 exploreP:0.8994\n",
      "Episode:52 meanR:21.3585 R:60.0000 rate:0.1200 aloss:0.6847 eloss:2.3788 aloss2:4.0933 exploreP:0.8940\n",
      "Episode:53 meanR:21.2593 R:16.0000 rate:0.0320 aloss:0.6875 eloss:2.3382 aloss2:4.1626 exploreP:0.8926\n",
      "Episode:54 meanR:21.0727 R:11.0000 rate:0.0220 aloss:0.6802 eloss:2.3433 aloss2:4.1723 exploreP:0.8917\n",
      "Episode:55 meanR:21.3929 R:39.0000 rate:0.0780 aloss:0.6831 eloss:2.3196 aloss2:4.2037 exploreP:0.8882\n",
      "Episode:56 meanR:21.3333 R:18.0000 rate:0.0360 aloss:0.6775 eloss:2.2585 aloss2:4.3490 exploreP:0.8866\n",
      "Episode:57 meanR:21.5690 R:35.0000 rate:0.0700 aloss:0.6804 eloss:2.2770 aloss2:4.3142 exploreP:0.8836\n",
      "Episode:58 meanR:21.6102 R:24.0000 rate:0.0480 aloss:0.6797 eloss:2.2400 aloss2:4.3954 exploreP:0.8815\n",
      "Episode:59 meanR:21.7833 R:32.0000 rate:0.0640 aloss:0.6768 eloss:2.2089 aloss2:4.4383 exploreP:0.8787\n",
      "Episode:60 meanR:21.9180 R:30.0000 rate:0.0600 aloss:0.6879 eloss:2.1957 aloss2:4.4782 exploreP:0.8761\n",
      "Episode:61 meanR:21.7742 R:13.0000 rate:0.0260 aloss:0.6746 eloss:2.1553 aloss2:4.5432 exploreP:0.8750\n",
      "Episode:62 meanR:21.6032 R:11.0000 rate:0.0220 aloss:0.6793 eloss:2.1346 aloss2:4.5982 exploreP:0.8740\n",
      "Episode:63 meanR:21.8750 R:39.0000 rate:0.0780 aloss:0.6769 eloss:2.1155 aloss2:4.6653 exploreP:0.8707\n",
      "Episode:64 meanR:21.8308 R:19.0000 rate:0.0380 aloss:0.6844 eloss:2.1057 aloss2:4.6841 exploreP:0.8690\n",
      "Episode:65 meanR:21.7576 R:17.0000 rate:0.0340 aloss:0.6792 eloss:2.1062 aloss2:4.6957 exploreP:0.8676\n",
      "Episode:66 meanR:21.8955 R:31.0000 rate:0.0620 aloss:0.6762 eloss:2.0694 aloss2:4.7897 exploreP:0.8649\n",
      "Episode:67 meanR:21.9265 R:24.0000 rate:0.0480 aloss:0.6753 eloss:2.0054 aloss2:4.9712 exploreP:0.8629\n",
      "Episode:68 meanR:21.8261 R:15.0000 rate:0.0300 aloss:0.6762 eloss:2.0042 aloss2:4.9783 exploreP:0.8616\n",
      "Episode:69 meanR:21.9857 R:33.0000 rate:0.0660 aloss:0.6744 eloss:1.9945 aloss2:4.9875 exploreP:0.8588\n",
      "Episode:70 meanR:22.5070 R:59.0000 rate:0.1180 aloss:0.6771 eloss:1.9481 aloss2:5.1222 exploreP:0.8538\n",
      "Episode:71 meanR:22.3611 R:12.0000 rate:0.0240 aloss:0.6778 eloss:1.9570 aloss2:5.0502 exploreP:0.8528\n",
      "Episode:72 meanR:22.4384 R:28.0000 rate:0.0560 aloss:0.6800 eloss:1.8983 aloss2:5.2811 exploreP:0.8504\n",
      "Episode:73 meanR:22.4595 R:24.0000 rate:0.0480 aloss:0.6823 eloss:1.9318 aloss2:5.1793 exploreP:0.8484\n",
      "Episode:74 meanR:22.7733 R:46.0000 rate:0.0920 aloss:0.6770 eloss:1.8784 aloss2:5.3079 exploreP:0.8446\n",
      "Episode:75 meanR:23.3421 R:66.0000 rate:0.1320 aloss:0.6744 eloss:1.8596 aloss2:5.3921 exploreP:0.8391\n",
      "Episode:76 meanR:23.2208 R:14.0000 rate:0.0280 aloss:0.6755 eloss:1.8170 aloss2:5.4724 exploreP:0.8379\n",
      "Episode:77 meanR:23.1923 R:21.0000 rate:0.0420 aloss:0.6765 eloss:1.7883 aloss2:5.5851 exploreP:0.8362\n",
      "Episode:78 meanR:23.7342 R:66.0000 rate:0.1320 aloss:0.6816 eloss:1.7837 aloss2:5.6197 exploreP:0.8307\n",
      "Episode:79 meanR:23.5875 R:12.0000 rate:0.0240 aloss:0.6772 eloss:1.7398 aloss2:5.8532 exploreP:0.8298\n"
     ]
    },
    {
     "name": "stdout",
     "output_type": "stream",
     "text": [
      "Episode:80 meanR:24.3580 R:86.0000 rate:0.1720 aloss:0.6742 eloss:1.7150 aloss2:5.9160 exploreP:0.8227\n",
      "Episode:81 meanR:24.8415 R:64.0000 rate:0.1280 aloss:0.6750 eloss:1.6694 aloss2:6.1181 exploreP:0.8175\n",
      "Episode:82 meanR:24.9880 R:37.0000 rate:0.0740 aloss:0.6719 eloss:1.6490 aloss2:6.1471 exploreP:0.8146\n",
      "Episode:83 meanR:24.9048 R:18.0000 rate:0.0360 aloss:0.6718 eloss:1.6275 aloss2:6.3803 exploreP:0.8131\n",
      "Episode:84 meanR:25.0471 R:37.0000 rate:0.0740 aloss:0.6756 eloss:1.6262 aloss2:6.3233 exploreP:0.8102\n",
      "Episode:85 meanR:25.1279 R:32.0000 rate:0.0640 aloss:0.6730 eloss:1.6041 aloss2:6.5152 exploreP:0.8076\n",
      "Episode:86 meanR:25.2184 R:33.0000 rate:0.0660 aloss:0.6741 eloss:1.6006 aloss2:6.4871 exploreP:0.8050\n",
      "Episode:87 meanR:25.3977 R:41.0000 rate:0.0820 aloss:0.6753 eloss:1.5764 aloss2:6.5793 exploreP:0.8017\n",
      "Episode:88 meanR:25.3596 R:22.0000 rate:0.0440 aloss:0.6682 eloss:1.5671 aloss2:6.6839 exploreP:0.8000\n",
      "Episode:89 meanR:25.3000 R:20.0000 rate:0.0400 aloss:0.6724 eloss:1.5381 aloss2:6.7473 exploreP:0.7984\n",
      "Episode:90 meanR:25.3407 R:29.0000 rate:0.0580 aloss:0.6725 eloss:1.5726 aloss2:6.8181 exploreP:0.7961\n",
      "Episode:91 meanR:25.4022 R:31.0000 rate:0.0620 aloss:0.6881 eloss:1.5512 aloss2:6.9121 exploreP:0.7937\n",
      "Episode:92 meanR:25.8387 R:66.0000 rate:0.1320 aloss:0.6706 eloss:1.5168 aloss2:7.0606 exploreP:0.7885\n",
      "Episode:93 meanR:25.8511 R:27.0000 rate:0.0540 aloss:0.6715 eloss:1.4930 aloss2:7.2078 exploreP:0.7864\n",
      "Episode:94 meanR:26.0632 R:46.0000 rate:0.0920 aloss:0.6788 eloss:1.5026 aloss2:7.1712 exploreP:0.7829\n",
      "Episode:95 meanR:26.1875 R:38.0000 rate:0.0760 aloss:0.6683 eloss:1.4898 aloss2:7.2713 exploreP:0.7799\n",
      "Episode:96 meanR:26.8763 R:93.0000 rate:0.1860 aloss:0.6680 eloss:1.4720 aloss2:7.4873 exploreP:0.7728\n",
      "Episode:97 meanR:26.9490 R:34.0000 rate:0.0680 aloss:0.6706 eloss:1.4446 aloss2:7.7281 exploreP:0.7702\n",
      "Episode:98 meanR:27.0101 R:33.0000 rate:0.0660 aloss:0.6730 eloss:1.4666 aloss2:7.6439 exploreP:0.7677\n",
      "Episode:99 meanR:26.8700 R:13.0000 rate:0.0260 aloss:0.6833 eloss:1.4302 aloss2:7.7310 exploreP:0.7667\n",
      "Episode:100 meanR:26.9800 R:27.0000 rate:0.0540 aloss:0.6723 eloss:1.4331 aloss2:7.8094 exploreP:0.7647\n",
      "Episode:101 meanR:27.8100 R:110.0000 rate:0.2200 aloss:0.6761 eloss:1.4266 aloss2:7.8954 exploreP:0.7564\n"
     ]
    }
   ],
   "source": [
    "# Save/load the model and save for plotting\n",
    "saver = tf.train.Saver()\n",
    "episode_rewards_list, rewards_list = [], []\n",
    "aloss_list, eloss_list, aloss2_list = [], [], []\n",
    "\n",
    "# TF session for training\n",
    "with tf.Session(graph=graph) as sess:\n",
    "    sess.run(tf.global_variables_initializer())\n",
    "    #saver.restore(sess, 'checkpoints/model.ckpt')    \n",
    "    #saver.restore(sess, tf.train.latest_checkpoint('checkpoints'))\n",
    "    total_step = 0 # Explore or exploit parameter\n",
    "    episode_reward = deque(maxlen=100) # 100 episodes average/running average/running mean/window\n",
    "\n",
    "    # Training episodes/epochs\n",
    "    for ep in range(11111):\n",
    "        total_reward = 0 # each episode\n",
    "        aloss_batch, eloss_batch, aloss2_batch = [], [], []\n",
    "        state = env.reset() # each episode\n",
    "        num_step = 0 # each episode\n",
    "        rate = -1\n",
    "\n",
    "        # Training steps/batches\n",
    "        while True:\n",
    "            # Explore (env) or Exploit (model)\n",
    "            total_step += 1\n",
    "            explore_p = explore_stop + (explore_start - explore_stop) * np.exp(-decay_rate * total_step) \n",
    "            if explore_p > np.random.rand():\n",
    "                action = env.action_space.sample()\n",
    "            else:\n",
    "                action_logits = sess.run(model.actions_logits, feed_dict={model.states: state.reshape([1, -1])})\n",
    "                action = np.argmax(action_logits)\n",
    "            next_state, reward, done, _ = env.step(action)\n",
    "            memory.buffer.append([state, action, next_state, reward, float(done), rate])\n",
    "            num_step += 1 # momory added\n",
    "            total_reward += reward\n",
    "            state = next_state\n",
    "            \n",
    "            # Training with the maxrated minibatch\n",
    "            batch = memory.buffer\n",
    "            #for idx in range(memory_size// batch_size):\n",
    "            while True:\n",
    "                idx = np.random.choice(np.arange(memory_size// batch_size))\n",
    "                states = np.array([each[0] for each in batch])[idx*batch_size:(idx+1)*batch_size]\n",
    "                actions = np.array([each[1] for each in batch])[idx*batch_size:(idx+1)*batch_size]\n",
    "                next_states = np.array([each[2] for each in batch])[idx*batch_size:(idx+1)*batch_size]\n",
    "                #rewards = np.array([each[3] for each in batch])[idx*batch_size:(idx+1)*batch_size]\n",
    "                dones = np.array([each[4] for each in batch])[idx*batch_size:(idx+1)*batch_size]\n",
    "                rates = np.array([each[5] for each in batch])[idx*batch_size:(idx+1)*batch_size]\n",
    "                states = states[rates >= np.max(rates)]\n",
    "                actions = actions[rates >= np.max(rates)]\n",
    "                next_states = next_states[rates >= np.max(rates)]\n",
    "                #rewards = rewards[rates >= np.max(rates)]\n",
    "                dones = dones[rates >= np.max(rates)]\n",
    "                rates = rates[rates >= np.max(rates)]\n",
    "                if np.count_nonzero(dones) > 0 and len(dones) > 1 and np.max(rates) > 0:\n",
    "                    break\n",
    "            aloss, _ = sess.run([model.a_loss, model.a_opt],\n",
    "                                  feed_dict = {model.states: states, \n",
    "                                               model.actions: actions,\n",
    "                                               model.next_states: next_states,\n",
    "                                               #model.rewards: rewards,\n",
    "                                               model.dones: dones,\n",
    "                                               model.rates: rates})\n",
    "            eloss, _ = sess.run([model.e_loss, model.e_opt],\n",
    "                                  feed_dict = {model.states: states, \n",
    "                                               model.actions: actions,\n",
    "                                               model.next_states: next_states,\n",
    "                                               #model.rewards: rewards,\n",
    "                                               model.dones: dones,\n",
    "                                               model.rates: rates})\n",
    "            aloss2, _= sess.run([model.a_loss2, model.a_opt2], \n",
    "                                 feed_dict = {model.states: states, \n",
    "                                              model.actions: actions,\n",
    "                                              model.next_states: next_states,\n",
    "                                              #model.rewards: rewards,\n",
    "                                              model.dones: dones,\n",
    "                                              model.rates: rates})\n",
    "            # print('dones:', \n",
    "            #       len(dones), np.count_nonzero(dones), \n",
    "            #       len(dones1), np.count_nonzero(dones1), \n",
    "            #       len(dones2), np.count_nonzero(dones2))\n",
    "            aloss_batch.append(aloss)\n",
    "            eloss_batch.append(eloss)\n",
    "            aloss2_batch.append(aloss2)\n",
    "            if done is True:\n",
    "                break\n",
    "                \n",
    "        # Rating the latest played episode\n",
    "        rate = total_reward/500 # update rate at the end/ when episode is done\n",
    "        for idx in range(num_step): # episode length\n",
    "            if memory.buffer[-1-idx][-1] == -1: # double-check the landmark/marked indexes\n",
    "                memory.buffer[-1-idx][-1] = rate # rate the trajectory/data\n",
    "                \n",
    "        episode_reward.append(total_reward)\n",
    "        print('Episode:{}'.format(ep),\n",
    "              'meanR:{:.4f}'.format(np.mean(episode_reward)),\n",
    "              'R:{:.4f}'.format(total_reward),\n",
    "              'rate:{:.4f}'.format(rate),\n",
    "              'aloss:{:.4f}'.format(np.mean(aloss_batch)),\n",
    "              'eloss:{:.4f}'.format(np.mean(eloss_batch)),\n",
    "              'aloss2:{:.4f}'.format(np.mean(aloss2_batch)),\n",
    "              'exploreP:{:.4f}'.format(explore_p))\n",
    "\n",
    "        # Ploting out\n",
    "        episode_rewards_list.append([ep, np.mean(episode_reward)])\n",
    "        rewards_list.append([ep, total_reward])\n",
    "        aloss_list.append([ep, np.mean(aloss_batch)])\n",
    "        eloss_list.append([ep, np.mean(eloss_batch)])\n",
    "        aloss2_list.append([ep, np.mean(aloss2_batch)])\n",
    "        \n",
    "        # Break episode/epoch loop\n",
    "        ## Option 1: Solve the First Version\n",
    "        #The task is episodic, and in order to solve the environment, \n",
    "        #your agent must get an average score of +30 over 100 consecutive episodes.\n",
    "        if np.mean(episode_reward) >= 500:\n",
    "            break\n",
    "            \n",
    "    # At the end of all training episodes/epochs\n",
    "    saver.save(sess, 'checkpoints/model.ckpt')"
   ]
  },
  {
   "cell_type": "markdown",
   "metadata": {},
   "source": [
    "# Visualizing training\n",
    "\n",
    "Below I'll plot the total rewards for each episode. I'm plotting the rolling average too, in blue."
   ]
  },
  {
   "cell_type": "code",
   "execution_count": null,
   "metadata": {},
   "outputs": [],
   "source": [
    "import matplotlib.pyplot as plt\n",
    "%matplotlib inline\n",
    "\n",
    "def running_mean(x, N):\n",
    "    cumsum = np.cumsum(np.insert(x, 0, 0)) \n",
    "    return (cumsum[N:] - cumsum[:-N]) / N "
   ]
  },
  {
   "cell_type": "code",
   "execution_count": null,
   "metadata": {},
   "outputs": [],
   "source": [
    "eps, arr = np.array(episode_rewards_list).T\n",
    "smoothed_arr = running_mean(arr, 10)\n",
    "plt.plot(eps[-len(smoothed_arr):], smoothed_arr)\n",
    "plt.plot(eps, arr, color='grey', alpha=0.3)\n",
    "plt.xlabel('Episode')\n",
    "plt.ylabel('Total rewards')"
   ]
  },
  {
   "cell_type": "code",
   "execution_count": null,
   "metadata": {},
   "outputs": [],
   "source": [
    "eps, arr = np.array(rewards_list).T\n",
    "smoothed_arr = running_mean(arr, 10)\n",
    "plt.plot(eps[-len(smoothed_arr):], smoothed_arr)\n",
    "plt.plot(eps, arr, color='grey', alpha=0.3)\n",
    "plt.xlabel('Episode')\n",
    "plt.ylabel('Total rewards')"
   ]
  },
  {
   "cell_type": "code",
   "execution_count": null,
   "metadata": {},
   "outputs": [],
   "source": [
    "eps, arr = np.array(aloss_list).T\n",
    "smoothed_arr = running_mean(arr, 10)\n",
    "plt.plot(eps[-len(smoothed_arr):], smoothed_arr)\n",
    "plt.plot(eps, arr, color='grey', alpha=0.3)\n",
    "plt.xlabel('Episode')\n",
    "plt.ylabel('Act losses')"
   ]
  },
  {
   "cell_type": "code",
   "execution_count": null,
   "metadata": {},
   "outputs": [],
   "source": [
    "eps, arr = np.array(eloss_list).T\n",
    "smoothed_arr = running_mean(arr, 10)\n",
    "plt.plot(eps[-len(smoothed_arr):], smoothed_arr)\n",
    "plt.plot(eps, arr, color='grey', alpha=0.3)\n",
    "plt.xlabel('Episode')\n",
    "plt.ylabel('Env losses')"
   ]
  },
  {
   "cell_type": "code",
   "execution_count": null,
   "metadata": {},
   "outputs": [],
   "source": [
    "eps, arr = np.array(aloss2_list).T\n",
    "smoothed_arr = running_mean(arr, 10)\n",
    "plt.plot(eps[-len(smoothed_arr):], smoothed_arr)\n",
    "plt.plot(eps, arr, color='grey', alpha=0.3)\n",
    "plt.xlabel('Episode')\n",
    "plt.ylabel('Act losses 2')"
   ]
  },
  {
   "cell_type": "markdown",
   "metadata": {},
   "source": [
    "## Testing\n",
    "\n",
    "Let's checkout how our trained agent plays the game."
   ]
  },
  {
   "cell_type": "code",
   "execution_count": 39,
   "metadata": {},
   "outputs": [
    {
     "name": "stdout",
     "output_type": "stream",
     "text": [
      "INFO:tensorflow:Restoring parameters from checkpoints/model.ckpt\n",
      "total_reward: 500.0\n",
      "total_reward: 500.0\n",
      "total_reward: 500.0\n",
      "total_reward: 500.0\n",
      "total_reward: 500.0\n",
      "total_reward: 500.0\n",
      "total_reward: 500.0\n",
      "total_reward: 500.0\n",
      "total_reward: 500.0\n",
      "total_reward: 500.0\n"
     ]
    }
   ],
   "source": [
    "import gym\n",
    "env = gym.make('CartPole-v0')\n",
    "env = gym.make('CartPole-v1')\n",
    "\n",
    "with tf.Session() as sess:\n",
    "    sess.run(tf.global_variables_initializer())\n",
    "    saver.restore(sess, 'checkpoints/model.ckpt')    \n",
    "    #saver.restore(sess, tf.train.latest_checkpoint('checkpoints'))\n",
    "    \n",
    "    # Episodes/epochs\n",
    "    for _ in range(10):\n",
    "        state = env.reset()\n",
    "        total_reward = 0\n",
    "\n",
    "        # Steps/batches\n",
    "        while True:\n",
    "            env.render()\n",
    "            action_logits = sess.run(model.actions_logits, feed_dict={model.states: state.reshape([1, -1])})\n",
    "            action = np.argmax(action_logits)\n",
    "            state, reward, done, _ = env.step(action)\n",
    "            total_reward += reward\n",
    "            if done:\n",
    "                print('total_reward: {}'.format(total_reward))\n",
    "                break\n",
    "                \n",
    "env.close()"
   ]
  },
  {
   "cell_type": "code",
   "execution_count": null,
   "metadata": {},
   "outputs": [],
   "source": []
  }
 ],
 "metadata": {
  "kernelspec": {
   "display_name": "Python 3",
   "language": "python",
   "name": "python3"
  },
  "language_info": {
   "codemirror_mode": {
    "name": "ipython",
    "version": 3
   },
   "file_extension": ".py",
   "mimetype": "text/x-python",
   "name": "python",
   "nbconvert_exporter": "python",
   "pygments_lexer": "ipython3",
   "version": "3.6.6"
  }
 },
 "nbformat": 4,
 "nbformat_minor": 2
}
