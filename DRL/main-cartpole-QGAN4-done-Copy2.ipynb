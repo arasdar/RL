{
 "cells": [
  {
   "cell_type": "code",
   "execution_count": 1,
   "metadata": {},
   "outputs": [
    {
     "name": "stdout",
     "output_type": "stream",
     "text": [
      "TensorFlow Version: 1.7.1\n",
      "Default GPU Device: \n"
     ]
    }
   ],
   "source": [
    "import tensorflow as tf\n",
    "print('TensorFlow Version: {}'.format(tf.__version__))\n",
    "print('Default GPU Device: {}'.format(tf.test.gpu_device_name()))"
   ]
  },
  {
   "cell_type": "markdown",
   "metadata": {},
   "source": [
    "##### >**Note:** Make sure you have OpenAI Gym cloned. Then run this command `pip install -e gym/[all]`."
   ]
  },
  {
   "cell_type": "code",
   "execution_count": 2,
   "metadata": {},
   "outputs": [],
   "source": [
    "import numpy as np\n",
    "import gym\n",
    "env = gym.make('CartPole-v0')\n",
    "env = gym.make('CartPole-v1')"
   ]
  },
  {
   "cell_type": "code",
   "execution_count": 3,
   "metadata": {},
   "outputs": [],
   "source": [
    "def model_input(state_size):\n",
    "    #states = tf.placeholder(tf.float32, [None, *state_size], name='states')\n",
    "    states = tf.placeholder(tf.float32, [None, state_size], name='states')\n",
    "    actions = tf.placeholder(tf.int32, [None], name='actions')\n",
    "    next_states = tf.placeholder(tf.float32, [None, state_size], name='next_states')\n",
    "    rewards = tf.placeholder(tf.float32, [None], name='rewards')\n",
    "    dones = tf.placeholder(tf.float32, [None], name='dones')\n",
    "    rates = tf.placeholder(tf.float32, [None], name='rates') # success rate\n",
    "    return states, actions, next_states, rewards, dones, rates"
   ]
  },
  {
   "cell_type": "code",
   "execution_count": 4,
   "metadata": {},
   "outputs": [],
   "source": [
    "def Act(states, action_size, hidden_size, reuse=False, alpha=0.1, training=False):\n",
    "    with tf.variable_scope('Act', reuse=reuse):\n",
    "        # First fully connected layer\n",
    "        h1 = tf.layers.dense(inputs=states, units=hidden_size)\n",
    "        bn1 = tf.layers.batch_normalization(h1, training=training)        \n",
    "        nl1 = tf.maximum(alpha * bn1, bn1)\n",
    "        \n",
    "        # Second fully connected layer\n",
    "        h2 = tf.layers.dense(inputs=nl1, units=hidden_size)\n",
    "        bn2 = tf.layers.batch_normalization(h2, training=training)        \n",
    "        nl2 = tf.maximum(alpha * bn2, bn2)\n",
    "        \n",
    "        # Output layer\n",
    "        logits = tf.layers.dense(inputs=nl2, units=action_size)        \n",
    "        return logits"
   ]
  },
  {
   "cell_type": "code",
   "execution_count": 5,
   "metadata": {},
   "outputs": [],
   "source": [
    "def Env(states, actions, state_size, action_size, hidden_size, reuse=False, alpha=0.1, training=False):\n",
    "    with tf.variable_scope('Env', reuse=reuse):\n",
    "        # First fully connected layer\n",
    "        h1 = tf.layers.dense(inputs=states, units=action_size)\n",
    "        bn1 = tf.layers.batch_normalization(h1, training=training)        \n",
    "        nl1 = tf.maximum(alpha * bn1, bn1)\n",
    "        \n",
    "        # Second fully connected layer\n",
    "        nl1_fused = tf.concat(axis=1, values=[nl1, actions])\n",
    "        h2 = tf.layers.dense(inputs=nl1_fused, units=hidden_size)\n",
    "        bn2 = tf.layers.batch_normalization(h2, training=training)        \n",
    "        nl2 = tf.maximum(alpha * bn2, bn2)\n",
    "                \n",
    "        # Output layer\n",
    "        states_logits = tf.layers.dense(inputs=nl2, units=state_size, trainable=False)\n",
    "        Qlogits = tf.layers.dense(inputs=nl2, units=1, trainable=False)\n",
    "        return states_logits, Qlogits"
   ]
  },
  {
   "cell_type": "code",
   "execution_count": 7,
   "metadata": {},
   "outputs": [],
   "source": [
    "def model_loss(state_size, action_size, hidden_size, gamma,\n",
    "               states, actions, next_states, rewards, dones, rates):\n",
    "    ################################################ a = act(s)\n",
    "    actions_logits = Act(states=states, hidden_size=hidden_size, action_size=action_size)\n",
    "    actions_labels = tf.one_hot(indices=actions, depth=action_size, dtype=actions_logits.dtype)\n",
    "    aloss = tf.reduce_mean(tf.nn.softmax_cross_entropy_with_logits_v2(logits=actions_logits, \n",
    "                                                                      labels=actions_labels))\n",
    "    ################################################ s', r = env(s, a)\n",
    "    e_next_states_logits, eQs = Env(actions=actions_labels, states=states, hidden_size=hidden_size, \n",
    "                                    action_size=action_size, state_size=state_size)\n",
    "    a_next_states_logits, aQs = Env(actions=actions_logits, states=states, hidden_size=hidden_size, \n",
    "                                    action_size=action_size, state_size=state_size, reuse=True)\n",
    "    next_states_labels = tf.nn.sigmoid(next_states)\n",
    "    eloss = tf.reduce_mean(tf.nn.sigmoid_cross_entropy_with_logits(logits=e_next_states_logits, # GQN\n",
    "                                                                   labels=next_states_labels))\n",
    "    eloss += -tf.reduce_mean(tf.nn.sigmoid_cross_entropy_with_logits(logits=a_next_states_logits, \n",
    "                                                                     labels=next_states_labels)) # maximize loss\n",
    "    aloss2 = tf.reduce_mean(tf.nn.sigmoid_cross_entropy_with_logits(logits=a_next_states_logits, \n",
    "                                                                    labels=next_states_labels)) # minimize loss\n",
    "    eQs_logits = tf.reshape(eQs, shape=[-1])\n",
    "    aQs_logits = tf.reshape(aQs, shape=[-1])\n",
    "    #################################################### s'', Q' = ~env(s', ~a')\n",
    "    next_actions_logits = Act(states=next_states, hidden_size=hidden_size, action_size=action_size, reuse=True)\n",
    "    next_states_logits, aQs2 = Env(actions=next_actions_logits, states=next_states, hidden_size=hidden_size, \n",
    "                                   action_size=action_size, state_size=state_size, reuse=True)\n",
    "    aQs2_logits = tf.reshape(aQs2, shape=[-1]) * (1-dones)\n",
    "    eloss += tf.reduce_mean(tf.nn.sigmoid_cross_entropy_with_logits(logits=eQs_logits, # GAN\n",
    "                                                                    labels=rates)) # 0-1 real\n",
    "#     eloss += tf.reduce_mean(tf.nn.sigmoid_cross_entropy_with_logits(logits=(aQs_logits+aQs2_logits)/2, # GAN\n",
    "#                                                                     labels=tf.zeros_like(rates))) # min\n",
    "#     aloss2 += tf.reduce_mean(tf.nn.sigmoid_cross_entropy_with_logits(logits=(aQs_logits+aQs2_logits)/2, # GAN\n",
    "#                                                                      labels=tf.ones_like(rates))) # max\n",
    "    ###################################################### Q(s,a)= r + Q'(s',a')\n",
    "    targetQs = rewards + (gamma * aQs2_logits) # DQN/Qlearning\n",
    "    eloss += tf.reduce_mean(tf.square(eQs_logits - targetQs)) # real\n",
    "#     eloss += tf.reduce_mean(tf.square(aQs_logits - rewards)) # min\n",
    "#     aloss2 += tf.reduce_mean(tf.square(aQs_logits - targetQs)) # max\n",
    "    eloss += tf.reduce_mean((aQs_logits+aQs2_logits)/2) # min\n",
    "    aloss2 += -tf.reduce_mean((aQs_logits+aQs2_logits)/2) # max\n",
    "    #################################################### s'', Q' = ~env(s', ~a'): Repeatable\n",
    "    next_actions_logits = Act(states=next_states_logits, hidden_size=hidden_size, action_size=action_size, \n",
    "                              reuse=True)\n",
    "    next_states_logits, aQs2 = Env(actions=next_actions_logits, states=next_states_logits, hidden_size=hidden_size, \n",
    "                                   action_size=action_size, state_size=state_size, reuse=True)\n",
    "    aQs_logits = aQs2_logits # pervious one\n",
    "    aQs2_logits = tf.reshape(aQs2, shape=[-1]) * (1-dones)\n",
    "    targetQs = rewards + (gamma * aQs2_logits) # DQN/Qlearning\n",
    "    eloss += tf.reduce_mean(tf.square(aQs_logits - rewards)) # min\n",
    "    aloss2 += tf.reduce_mean(tf.square(aQs_logits - targetQs)) # max\n",
    "    return actions_logits, aloss, eloss, aloss2"
   ]
  },
  {
   "cell_type": "code",
   "execution_count": 8,
   "metadata": {},
   "outputs": [],
   "source": [
    "def model_opt(a_loss, e_loss, a_loss2, a_learning_rate, e_learning_rate):\n",
    "    # Get weights and bias to update\n",
    "    t_vars = tf.trainable_variables()\n",
    "    a_vars = [var for var in t_vars if var.name.startswith('Act')]\n",
    "    e_vars = [var for var in t_vars if var.name.startswith('Env')]\n",
    "\n",
    "    # Optimize\n",
    "    with tf.control_dependencies(tf.get_collection(tf.GraphKeys.UPDATE_OPS)): # Required for batchnorm (BN)\n",
    "        a_opt = tf.train.AdamOptimizer(a_learning_rate).minimize(a_loss, var_list=a_vars)\n",
    "        e_opt = tf.train.AdamOptimizer(e_learning_rate).minimize(e_loss, var_list=e_vars)\n",
    "        a_opt2 = tf.train.AdamOptimizer(a_learning_rate).minimize(a_loss2, var_list=a_vars)\n",
    "    return a_opt, e_opt, a_opt2"
   ]
  },
  {
   "cell_type": "code",
   "execution_count": 9,
   "metadata": {},
   "outputs": [],
   "source": [
    "class Model:\n",
    "    def __init__(self, state_size, action_size, hidden_size, a_learning_rate, e_learning_rate, gamma):\n",
    "\n",
    "        # Data of the Model: make the data available inside the framework\n",
    "        self.states, self.actions, self.next_states, self.rewards, self.dones, self.rates = model_input(\n",
    "            state_size=state_size)\n",
    "\n",
    "        # Create the Model: calculating the loss and forwad pass\n",
    "        self.actions_logits, self.a_loss, self.e_loss, self.a_loss2 = model_loss(\n",
    "            state_size=state_size, action_size=action_size, hidden_size=hidden_size, gamma=gamma, # model init\n",
    "            states=self.states, actions=self.actions, next_states=self.next_states, \n",
    "            rewards=self.rewards, dones=self.dones, rates=self.rates) # model input\n",
    "        \n",
    "        # Update the model: backward pass and backprop\n",
    "        self.a_opt, self.e_opt, self.a_opt2 = model_opt(a_loss=self.a_loss, \n",
    "                                                        e_loss=self.e_loss,\n",
    "                                                        a_loss2=self.a_loss2, \n",
    "                                                        a_learning_rate=a_learning_rate,\n",
    "                                                        e_learning_rate=e_learning_rate)"
   ]
  },
  {
   "cell_type": "code",
   "execution_count": 10,
   "metadata": {},
   "outputs": [],
   "source": [
    "from collections import deque\n",
    "class Memory():\n",
    "    def __init__(self, max_size = 1000):\n",
    "        self.buffer = deque(maxlen=max_size) # data batch\n",
    "#     def sample(self, batch_size):\n",
    "#         idx = np.random.choice(np.arange(len(self.buffer)), size=batch_size, replace=False)\n",
    "#         return [self.buffer[ii] for ii in idx]"
   ]
  },
  {
   "cell_type": "markdown",
   "metadata": {},
   "source": [
    "## Hyperparameters\n",
    "\n",
    "One of the more difficult aspects of reinforcememt learning are the large number of hyperparameters. Not only are we tuning the network, but we're tuning the simulation."
   ]
  },
  {
   "cell_type": "code",
   "execution_count": 11,
   "metadata": {},
   "outputs": [
    {
     "data": {
      "text/plain": [
       "(Box(4,), Discrete(2))"
      ]
     },
     "execution_count": 11,
     "metadata": {},
     "output_type": "execute_result"
    }
   ],
   "source": [
    "env.observation_space, env.action_space"
   ]
  },
  {
   "cell_type": "code",
   "execution_count": 12,
   "metadata": {},
   "outputs": [],
   "source": [
    "# Exploration parameters\n",
    "explore_start = 1.0            # exploration probability at start\n",
    "explore_stop = 0.01           # minimum exploration probability \n",
    "decay_rate = 0.0001            # exponential decay rate for exploration prob\n",
    "\n",
    "# Network parameters\n",
    "state_size = 4\n",
    "action_size = 2\n",
    "hidden_size = 4*2             # number of units in each Q-network hidden layer\n",
    "a_learning_rate = 1e-4         # Q-network learning rate\n",
    "e_learning_rate = 1e-4         # Q-network learning rate\n",
    "\n",
    "# Memory parameters\n",
    "memory_size = int(1e5)            # memory capacity\n",
    "batch_size = int(1e3)             # experience mini-batch size\n",
    "gamma=0.99"
   ]
  },
  {
   "cell_type": "code",
   "execution_count": 13,
   "metadata": {},
   "outputs": [],
   "source": [
    "# Reset/init the graph/session\n",
    "graph = tf.reset_default_graph()\n",
    "\n",
    "# Init the model\n",
    "model = Model(action_size=action_size, state_size=state_size, hidden_size=hidden_size, gamma=gamma,\n",
    "              a_learning_rate=a_learning_rate, e_learning_rate=e_learning_rate)\n",
    "\n",
    "# Init the memory\n",
    "memory = Memory(max_size=memory_size)"
   ]
  },
  {
   "cell_type": "code",
   "execution_count": 14,
   "metadata": {},
   "outputs": [],
   "source": [
    "state = env.reset()\n",
    "total_reward = 0\n",
    "num_step = 0\n",
    "for _ in range(memory_size):\n",
    "    action = env.action_space.sample()\n",
    "    next_state, reward, done, _ = env.step(action)\n",
    "    rate = -1\n",
    "    memory.buffer.append([state, action, next_state, reward, float(done), rate])\n",
    "    num_step += 1 # memory incremented\n",
    "    total_reward += reward\n",
    "    state = next_state\n",
    "    if done is True:\n",
    "        rate = total_reward/500\n",
    "        for idx in range(num_step): # episode length\n",
    "            if memory.buffer[-1-idx][-1] == -1:\n",
    "                memory.buffer[-1-idx][-1] = rate\n",
    "        state = env.reset()\n",
    "        total_reward = 0 # reset\n",
    "        num_step = 0 # reset"
   ]
  },
  {
   "cell_type": "markdown",
   "metadata": {},
   "source": [
    "## Training the model\n",
    "\n",
    "Below we'll train our agent. If you want to watch it train, uncomment the `env.render()` line. This is slow because it's rendering the frames slower than the network can train. But, it's cool to watch the agent get better at the game."
   ]
  },
  {
   "cell_type": "code",
   "execution_count": null,
   "metadata": {},
   "outputs": [
    {
     "name": "stdout",
     "output_type": "stream",
     "text": [
      "Episode:0 meanR:23.0000 R:23.0000 rate:0.0460 aloss:0.7065 eloss:2.9120 aloss2:1.9475 exploreP:0.9977\n",
      "Episode:1 meanR:22.5000 R:22.0000 rate:0.0440 aloss:0.7194 eloss:2.9415 aloss2:1.8278 exploreP:0.9956\n",
      "Episode:2 meanR:21.3333 R:19.0000 rate:0.0380 aloss:0.7105 eloss:2.8962 aloss2:1.6807 exploreP:0.9937\n",
      "Episode:3 meanR:23.5000 R:30.0000 rate:0.0600 aloss:0.6935 eloss:2.8479 aloss2:1.6873 exploreP:0.9907\n",
      "Episode:4 meanR:22.4000 R:18.0000 rate:0.0360 aloss:0.6884 eloss:2.7884 aloss2:1.6056 exploreP:0.9890\n",
      "Episode:5 meanR:21.0000 R:14.0000 rate:0.0280 aloss:0.7118 eloss:2.8233 aloss2:1.5820 exploreP:0.9876\n",
      "Episode:6 meanR:20.1429 R:15.0000 rate:0.0300 aloss:0.6707 eloss:2.7735 aloss2:1.5572 exploreP:0.9861\n",
      "Episode:7 meanR:19.2500 R:13.0000 rate:0.0260 aloss:0.6823 eloss:2.7505 aloss2:1.5857 exploreP:0.9849\n",
      "Episode:8 meanR:18.6667 R:14.0000 rate:0.0280 aloss:0.6903 eloss:2.7747 aloss2:1.5367 exploreP:0.9835\n",
      "Episode:9 meanR:18.3000 R:15.0000 rate:0.0300 aloss:0.7079 eloss:2.7839 aloss2:1.4902 exploreP:0.9820\n",
      "Episode:10 meanR:20.2727 R:40.0000 rate:0.0800 aloss:0.6959 eloss:2.7442 aloss2:1.4928 exploreP:0.9782\n",
      "Episode:11 meanR:19.8333 R:15.0000 rate:0.0300 aloss:0.6966 eloss:2.7508 aloss2:1.4801 exploreP:0.9767\n",
      "Episode:12 meanR:19.9231 R:21.0000 rate:0.0420 aloss:0.6916 eloss:2.7126 aloss2:1.4706 exploreP:0.9747\n",
      "Episode:13 meanR:22.6429 R:58.0000 rate:0.1160 aloss:0.6894 eloss:2.6698 aloss2:1.4672 exploreP:0.9691\n",
      "Episode:14 meanR:22.6000 R:22.0000 rate:0.0440 aloss:0.6971 eloss:2.6864 aloss2:1.4363 exploreP:0.9670\n",
      "Episode:15 meanR:22.0625 R:14.0000 rate:0.0280 aloss:0.6808 eloss:2.6108 aloss2:1.4722 exploreP:0.9657\n",
      "Episode:16 meanR:22.4706 R:29.0000 rate:0.0580 aloss:0.6881 eloss:2.6497 aloss2:1.4494 exploreP:0.9629\n",
      "Episode:17 meanR:23.0000 R:32.0000 rate:0.0640 aloss:0.6903 eloss:2.6018 aloss2:1.4607 exploreP:0.9599\n",
      "Episode:18 meanR:22.5263 R:14.0000 rate:0.0280 aloss:0.7016 eloss:2.6452 aloss2:1.4314 exploreP:0.9585\n",
      "Episode:19 meanR:24.6500 R:65.0000 rate:0.1300 aloss:0.6980 eloss:2.6026 aloss2:1.4346 exploreP:0.9524\n",
      "Episode:20 meanR:24.6190 R:24.0000 rate:0.0480 aloss:0.6937 eloss:2.5733 aloss2:1.4408 exploreP:0.9501\n",
      "Episode:21 meanR:24.2273 R:16.0000 rate:0.0320 aloss:0.6941 eloss:2.5820 aloss2:1.3811 exploreP:0.9486\n",
      "Episode:22 meanR:24.1304 R:22.0000 rate:0.0440 aloss:0.6861 eloss:2.5500 aloss2:1.4187 exploreP:0.9466\n",
      "Episode:23 meanR:23.6667 R:13.0000 rate:0.0260 aloss:0.7076 eloss:2.5585 aloss2:1.4163 exploreP:0.9453\n",
      "Episode:24 meanR:23.8800 R:29.0000 rate:0.0580 aloss:0.6838 eloss:2.5359 aloss2:1.4271 exploreP:0.9426\n",
      "Episode:25 meanR:24.1154 R:30.0000 rate:0.0600 aloss:0.6967 eloss:2.5412 aloss2:1.4156 exploreP:0.9398\n",
      "Episode:26 meanR:23.8519 R:17.0000 rate:0.0340 aloss:0.6794 eloss:2.5122 aloss2:1.4349 exploreP:0.9383\n",
      "Episode:27 meanR:24.0357 R:29.0000 rate:0.0580 aloss:0.6820 eloss:2.4913 aloss2:1.4249 exploreP:0.9356\n",
      "Episode:28 meanR:24.1724 R:28.0000 rate:0.0560 aloss:0.6875 eloss:2.5081 aloss2:1.4071 exploreP:0.9330\n",
      "Episode:29 meanR:23.9333 R:17.0000 rate:0.0340 aloss:0.6796 eloss:2.4952 aloss2:1.4432 exploreP:0.9314\n",
      "Episode:30 meanR:24.0323 R:27.0000 rate:0.0540 aloss:0.7105 eloss:2.5168 aloss2:1.3811 exploreP:0.9289\n",
      "Episode:31 meanR:24.3438 R:34.0000 rate:0.0680 aloss:0.6856 eloss:2.4547 aloss2:1.4337 exploreP:0.9258\n",
      "Episode:32 meanR:24.1515 R:18.0000 rate:0.0360 aloss:0.6931 eloss:2.5042 aloss2:1.3981 exploreP:0.9242\n",
      "Episode:33 meanR:23.9118 R:16.0000 rate:0.0320 aloss:0.6788 eloss:2.4378 aloss2:1.4154 exploreP:0.9227\n",
      "Episode:34 meanR:23.7714 R:19.0000 rate:0.0380 aloss:0.6850 eloss:2.4631 aloss2:1.4244 exploreP:0.9210\n",
      "Episode:35 meanR:23.7222 R:22.0000 rate:0.0440 aloss:0.6877 eloss:2.4677 aloss2:1.3771 exploreP:0.9190\n",
      "Episode:36 meanR:23.8378 R:28.0000 rate:0.0560 aloss:0.6989 eloss:2.4670 aloss2:1.3864 exploreP:0.9164\n",
      "Episode:37 meanR:24.2632 R:40.0000 rate:0.0800 aloss:0.6846 eloss:2.4330 aloss2:1.4042 exploreP:0.9128\n",
      "Episode:38 meanR:24.5897 R:37.0000 rate:0.0740 aloss:0.6934 eloss:2.4389 aloss2:1.3681 exploreP:0.9095\n",
      "Episode:39 meanR:24.7250 R:30.0000 rate:0.0600 aloss:0.6805 eloss:2.3975 aloss2:1.4174 exploreP:0.9068\n",
      "Episode:40 meanR:25.3415 R:50.0000 rate:0.1000 aloss:0.6813 eloss:2.3905 aloss2:1.4193 exploreP:0.9023\n",
      "Episode:41 meanR:25.5000 R:32.0000 rate:0.0640 aloss:0.6759 eloss:2.3885 aloss2:1.3974 exploreP:0.8995\n",
      "Episode:42 meanR:25.6047 R:30.0000 rate:0.0600 aloss:0.6767 eloss:2.3690 aloss2:1.4073 exploreP:0.8968\n",
      "Episode:43 meanR:25.7045 R:30.0000 rate:0.0600 aloss:0.6905 eloss:2.4029 aloss2:1.3719 exploreP:0.8941\n",
      "Episode:44 meanR:25.4222 R:13.0000 rate:0.0260 aloss:0.6688 eloss:2.3338 aloss2:1.4232 exploreP:0.8930\n",
      "Episode:45 meanR:25.1304 R:12.0000 rate:0.0240 aloss:0.6821 eloss:2.3588 aloss2:1.4124 exploreP:0.8919\n",
      "Episode:46 meanR:24.9362 R:16.0000 rate:0.0320 aloss:0.6863 eloss:2.3948 aloss2:1.3461 exploreP:0.8905\n",
      "Episode:47 meanR:25.2083 R:38.0000 rate:0.0760 aloss:0.6868 eloss:2.3714 aloss2:1.3785 exploreP:0.8872\n",
      "Episode:48 meanR:24.9796 R:14.0000 rate:0.0280 aloss:0.6755 eloss:2.3505 aloss2:1.3713 exploreP:0.8859\n",
      "Episode:49 meanR:24.8200 R:17.0000 rate:0.0340 aloss:0.6756 eloss:2.3420 aloss2:1.3732 exploreP:0.8845\n",
      "Episode:50 meanR:24.9020 R:29.0000 rate:0.0580 aloss:0.6782 eloss:2.3622 aloss2:1.3571 exploreP:0.8819\n",
      "Episode:51 meanR:24.9808 R:29.0000 rate:0.0580 aloss:0.6726 eloss:2.3432 aloss2:1.3759 exploreP:0.8794\n",
      "Episode:52 meanR:25.4340 R:49.0000 rate:0.0980 aloss:0.6810 eloss:2.3529 aloss2:1.3645 exploreP:0.8752\n",
      "Episode:53 meanR:25.3148 R:19.0000 rate:0.0380 aloss:0.6761 eloss:2.3526 aloss2:1.3532 exploreP:0.8735\n",
      "Episode:54 meanR:25.2000 R:19.0000 rate:0.0380 aloss:0.6848 eloss:2.3666 aloss2:1.3376 exploreP:0.8719\n",
      "Episode:55 meanR:25.1964 R:25.0000 rate:0.0500 aloss:0.6793 eloss:2.3432 aloss2:1.3414 exploreP:0.8697\n",
      "Episode:56 meanR:25.6842 R:53.0000 rate:0.1060 aloss:0.7080 eloss:2.3752 aloss2:1.3073 exploreP:0.8652\n",
      "Episode:57 meanR:25.9310 R:40.0000 rate:0.0800 aloss:0.6802 eloss:2.3334 aloss2:1.3396 exploreP:0.8618\n",
      "Episode:58 meanR:25.9492 R:27.0000 rate:0.0540 aloss:0.6722 eloss:2.3278 aloss2:1.3443 exploreP:0.8595\n",
      "Episode:59 meanR:26.0333 R:31.0000 rate:0.0620 aloss:0.6888 eloss:2.3641 aloss2:1.2969 exploreP:0.8568\n",
      "Episode:60 meanR:26.1967 R:36.0000 rate:0.0720 aloss:0.6778 eloss:2.3284 aloss2:1.3200 exploreP:0.8538\n",
      "Episode:61 meanR:26.6290 R:53.0000 rate:0.1060 aloss:0.6779 eloss:2.3316 aloss2:1.3158 exploreP:0.8493\n",
      "Episode:62 meanR:26.8254 R:39.0000 rate:0.0780 aloss:0.6806 eloss:2.3473 aloss2:1.2983 exploreP:0.8461\n",
      "Episode:63 meanR:26.6719 R:17.0000 rate:0.0340 aloss:0.6715 eloss:2.3451 aloss2:1.2340 exploreP:0.8446\n",
      "Episode:64 meanR:26.8154 R:36.0000 rate:0.0720 aloss:0.6744 eloss:2.3323 aloss2:1.2701 exploreP:0.8416\n",
      "Episode:65 meanR:27.4697 R:70.0000 rate:0.1400 aloss:0.6846 eloss:2.3476 aloss2:1.2603 exploreP:0.8358\n",
      "Episode:66 meanR:27.3134 R:17.0000 rate:0.0340 aloss:0.6845 eloss:2.3904 aloss2:1.1857 exploreP:0.8344\n",
      "Episode:67 meanR:27.5294 R:42.0000 rate:0.0840 aloss:0.6807 eloss:2.3402 aloss2:1.2409 exploreP:0.8310\n",
      "Episode:68 meanR:27.9565 R:57.0000 rate:0.1140 aloss:0.6752 eloss:2.3341 aloss2:1.2262 exploreP:0.8263\n",
      "Episode:69 meanR:27.8286 R:19.0000 rate:0.0380 aloss:0.6876 eloss:2.3371 aloss2:1.2242 exploreP:0.8248\n",
      "Episode:70 meanR:27.9014 R:33.0000 rate:0.0660 aloss:0.6788 eloss:2.3552 aloss2:1.2361 exploreP:0.8221\n",
      "Episode:71 meanR:28.4306 R:66.0000 rate:0.1320 aloss:0.6738 eloss:2.3364 aloss2:1.2238 exploreP:0.8167\n",
      "Episode:72 meanR:28.4247 R:28.0000 rate:0.0560 aloss:0.6796 eloss:2.3681 aloss2:1.1715 exploreP:0.8145\n",
      "Episode:73 meanR:28.7297 R:51.0000 rate:0.1020 aloss:0.6710 eloss:2.3343 aloss2:1.2023 exploreP:0.8104\n",
      "Episode:74 meanR:28.6000 R:19.0000 rate:0.0380 aloss:0.6698 eloss:2.3546 aloss2:1.2047 exploreP:0.8089\n",
      "Episode:75 meanR:28.4211 R:15.0000 rate:0.0300 aloss:0.6764 eloss:2.3134 aloss2:1.2355 exploreP:0.8077\n",
      "Episode:76 meanR:28.2857 R:18.0000 rate:0.0360 aloss:0.6714 eloss:2.3333 aloss2:1.1583 exploreP:0.8062\n",
      "Episode:77 meanR:28.2308 R:24.0000 rate:0.0480 aloss:0.6724 eloss:2.3070 aloss2:1.1974 exploreP:0.8043\n",
      "Episode:78 meanR:28.2532 R:30.0000 rate:0.0600 aloss:0.6789 eloss:2.3522 aloss2:1.1577 exploreP:0.8020\n",
      "Episode:79 meanR:28.4250 R:42.0000 rate:0.0840 aloss:0.6951 eloss:2.3842 aloss2:1.1419 exploreP:0.7986\n"
     ]
    },
    {
     "name": "stdout",
     "output_type": "stream",
     "text": [
      "Episode:80 meanR:28.2840 R:17.0000 rate:0.0340 aloss:0.6786 eloss:2.3389 aloss2:1.1551 exploreP:0.7973\n",
      "Episode:81 meanR:28.2439 R:25.0000 rate:0.0500 aloss:0.6721 eloss:2.3302 aloss2:1.1827 exploreP:0.7953\n",
      "Episode:82 meanR:28.0120 R:9.0000 rate:0.0180 aloss:0.6796 eloss:2.3490 aloss2:1.1511 exploreP:0.7946\n",
      "Episode:83 meanR:28.4286 R:63.0000 rate:0.1260 aloss:0.6809 eloss:2.3628 aloss2:1.1428 exploreP:0.7897\n",
      "Episode:84 meanR:28.5529 R:39.0000 rate:0.0780 aloss:0.6771 eloss:2.3665 aloss2:1.1473 exploreP:0.7867\n",
      "Episode:85 meanR:28.5116 R:25.0000 rate:0.0500 aloss:0.6820 eloss:2.3628 aloss2:1.1232 exploreP:0.7847\n",
      "Episode:86 meanR:28.3563 R:15.0000 rate:0.0300 aloss:0.6839 eloss:2.3564 aloss2:1.1253 exploreP:0.7836\n",
      "Episode:87 meanR:28.1932 R:14.0000 rate:0.0280 aloss:0.6800 eloss:2.3695 aloss2:1.1036 exploreP:0.7825\n",
      "Episode:88 meanR:28.5506 R:60.0000 rate:0.1200 aloss:0.6955 eloss:2.4199 aloss2:1.0887 exploreP:0.7779\n",
      "Episode:89 meanR:28.6333 R:36.0000 rate:0.0720 aloss:0.6751 eloss:2.3694 aloss2:1.1082 exploreP:0.7751\n",
      "Episode:90 meanR:28.5055 R:17.0000 rate:0.0340 aloss:0.6870 eloss:2.3979 aloss2:1.1022 exploreP:0.7738\n",
      "Episode:91 meanR:29.1413 R:87.0000 rate:0.1740 aloss:0.6810 eloss:2.3749 aloss2:1.1080 exploreP:0.7672\n"
     ]
    }
   ],
   "source": [
    "# Save/load the model and save for plotting\n",
    "saver = tf.train.Saver()\n",
    "episode_rewards_list, rewards_list = [], []\n",
    "aloss_list, eloss_list, aloss2_list = [], [], []\n",
    "\n",
    "# TF session for training\n",
    "with tf.Session(graph=graph) as sess:\n",
    "    sess.run(tf.global_variables_initializer())\n",
    "    #saver.restore(sess, 'checkpoints/model.ckpt')    \n",
    "    #saver.restore(sess, tf.train.latest_checkpoint('checkpoints'))\n",
    "    total_step = 0 # Explore or exploit parameter\n",
    "    episode_reward = deque(maxlen=100) # 100 episodes for running average/running mean/window\n",
    "\n",
    "    # Training episodes/epochs\n",
    "    for ep in range(11111):\n",
    "        aloss_batch, eloss_batch, aloss2_batch = [], [], []\n",
    "        total_reward = 0\n",
    "        state = env.reset()\n",
    "        num_step = 0\n",
    "        rate = -1\n",
    "\n",
    "        # Training steps/batches\n",
    "        while True:\n",
    "            # Explore (env) or Exploit (model)\n",
    "            total_step += 1\n",
    "            explore_p = explore_stop + (explore_start - explore_stop) * np.exp(-decay_rate * total_step) \n",
    "            if explore_p > np.random.rand():\n",
    "                action = env.action_space.sample()\n",
    "            else:\n",
    "                action_logits = sess.run(model.actions_logits, feed_dict={model.states: state.reshape([1, -1])})\n",
    "                action = np.argmax(action_logits)\n",
    "            next_state, reward, done, _ = env.step(action)\n",
    "            memory.buffer.append([state, action, next_state, reward, float(done), rate])\n",
    "            num_step += 1 # momory added\n",
    "            total_reward += reward\n",
    "            state = next_state\n",
    "            \n",
    "            # Training with the maxrated minibatch\n",
    "            batch = memory.buffer\n",
    "            #for idx in range(memory_size// batch_size):\n",
    "            while True:\n",
    "                idx = np.random.choice(np.arange(memory_size// batch_size))\n",
    "                states = np.array([each[0] for each in batch])[idx*batch_size:(idx+1)*batch_size]\n",
    "                actions = np.array([each[1] for each in batch])[idx*batch_size:(idx+1)*batch_size]\n",
    "                next_states = np.array([each[2] for each in batch])[idx*batch_size:(idx+1)*batch_size]\n",
    "                rewards = np.array([each[3] for each in batch])[idx*batch_size:(idx+1)*batch_size]\n",
    "                dones = np.array([each[4] for each in batch])[idx*batch_size:(idx+1)*batch_size]\n",
    "                rates = np.array([each[5] for each in batch])[idx*batch_size:(idx+1)*batch_size]\n",
    "                states = states[rates >= np.max(rates)]\n",
    "                actions = actions[rates >= np.max(rates)]\n",
    "                next_states = next_states[rates >= np.max(rates)]\n",
    "                rewards = rewards[rates >= np.max(rates)]\n",
    "                dones = dones[rates >= np.max(rates)]\n",
    "                rates = rates[rates >= np.max(rates)]\n",
    "                if np.count_nonzero(dones) > 0 and len(dones) > 1 and np.max(rates) > 0:\n",
    "                    break\n",
    "            aloss, _ = sess.run([model.a_loss, model.a_opt],\n",
    "                                  feed_dict = {model.states: states, \n",
    "                                               model.actions: actions,\n",
    "                                               model.next_states: next_states,\n",
    "                                               model.rewards: rewards,\n",
    "                                               model.dones: dones,\n",
    "                                               model.rates: rates})\n",
    "            eloss, _ = sess.run([model.e_loss, model.e_opt],\n",
    "                                  feed_dict = {model.states: states, \n",
    "                                               model.actions: actions,\n",
    "                                               model.next_states: next_states,\n",
    "                                               model.rewards: rewards,\n",
    "                                               model.dones: dones,\n",
    "                                               model.rates: rates})\n",
    "            aloss2, _= sess.run([model.a_loss2, model.a_opt2], \n",
    "                                 feed_dict = {model.states: states, \n",
    "                                              model.actions: actions,\n",
    "                                              model.next_states: next_states,\n",
    "                                              model.rewards: rewards,\n",
    "                                              model.dones: dones,\n",
    "                                              model.rates: rates})\n",
    "            # print(len(dones), np.count_nonzero(dones), np.max(rates))\n",
    "            aloss_batch.append(aloss)\n",
    "            eloss_batch.append(eloss)\n",
    "            aloss2_batch.append(aloss2)\n",
    "            if done is True:\n",
    "                break\n",
    "                \n",
    "        # Rating the latest played episode\n",
    "        rate = total_reward/500 # update rate at the end/ when episode is done\n",
    "        for idx in range(num_step): # episode length\n",
    "            if memory.buffer[-1-idx][-1] == -1: # double-check the landmark/marked indexes\n",
    "                memory.buffer[-1-idx][-1] = rate # rate the trajectory/data\n",
    "\n",
    "        # Print out\n",
    "        episode_reward.append(total_reward)\n",
    "        print('Episode:{}'.format(ep),\n",
    "              'meanR:{:.4f}'.format(np.mean(episode_reward)),\n",
    "              'R:{:.4f}'.format(total_reward),\n",
    "              'rate:{:.4f}'.format(rate),\n",
    "              'aloss:{:.4f}'.format(np.mean(aloss_batch)),\n",
    "              'eloss:{:.4f}'.format(np.mean(eloss_batch)),\n",
    "              'aloss2:{:.4f}'.format(np.mean(aloss2_batch)),\n",
    "              'exploreP:{:.4f}'.format(explore_p))\n",
    "\n",
    "        # Ploting out\n",
    "        episode_rewards_list.append([ep, np.mean(episode_reward)])\n",
    "        rewards_list.append([ep, total_reward])\n",
    "        aloss_list.append([ep, np.mean(aloss_batch)])\n",
    "        eloss_list.append([ep, np.mean(eloss_batch)])\n",
    "        aloss2_list.append([ep, np.mean(aloss2_batch)])\n",
    "        \n",
    "        # Break episode/epoch loop\n",
    "        ## Option 1: Solve the First Version\n",
    "        #The task is episodic, and in order to solve the environment, \n",
    "        #your agent must get an average score of +30 over 100 consecutive episodes.\n",
    "        if np.mean(episode_reward) >= 500:\n",
    "            break\n",
    "            \n",
    "    # At the end of all training episodes/epochs\n",
    "    saver.save(sess, 'checkpoints/model.ckpt')"
   ]
  },
  {
   "cell_type": "markdown",
   "metadata": {},
   "source": [
    "# Visualizing training\n",
    "\n",
    "Below I'll plot the total rewards for each episode. I'm plotting the rolling average too, in blue."
   ]
  },
  {
   "cell_type": "code",
   "execution_count": null,
   "metadata": {},
   "outputs": [],
   "source": [
    "import matplotlib.pyplot as plt\n",
    "%matplotlib inline\n",
    "\n",
    "def running_mean(x, N):\n",
    "    cumsum = np.cumsum(np.insert(x, 0, 0)) \n",
    "    return (cumsum[N:] - cumsum[:-N]) / N "
   ]
  },
  {
   "cell_type": "code",
   "execution_count": null,
   "metadata": {},
   "outputs": [],
   "source": [
    "eps, arr = np.array(episode_rewards_list).T\n",
    "smoothed_arr = running_mean(arr, 10)\n",
    "plt.plot(eps[-len(smoothed_arr):], smoothed_arr)\n",
    "plt.plot(eps, arr, color='grey', alpha=0.3)\n",
    "plt.xlabel('Episode')\n",
    "plt.ylabel('Total rewards')"
   ]
  },
  {
   "cell_type": "code",
   "execution_count": null,
   "metadata": {},
   "outputs": [],
   "source": [
    "eps, arr = np.array(rewards_list).T\n",
    "smoothed_arr = running_mean(arr, 10)\n",
    "plt.plot(eps[-len(smoothed_arr):], smoothed_arr)\n",
    "plt.plot(eps, arr, color='grey', alpha=0.3)\n",
    "plt.xlabel('Episode')\n",
    "plt.ylabel('Total rewards')"
   ]
  },
  {
   "cell_type": "code",
   "execution_count": null,
   "metadata": {},
   "outputs": [],
   "source": [
    "eps, arr = np.array(aloss_list).T\n",
    "smoothed_arr = running_mean(arr, 10)\n",
    "plt.plot(eps[-len(smoothed_arr):], smoothed_arr)\n",
    "plt.plot(eps, arr, color='grey', alpha=0.3)\n",
    "plt.xlabel('Episode')\n",
    "plt.ylabel('Act losses')"
   ]
  },
  {
   "cell_type": "code",
   "execution_count": null,
   "metadata": {},
   "outputs": [],
   "source": [
    "eps, arr = np.array(eloss_list).T\n",
    "smoothed_arr = running_mean(arr, 10)\n",
    "plt.plot(eps[-len(smoothed_arr):], smoothed_arr)\n",
    "plt.plot(eps, arr, color='grey', alpha=0.3)\n",
    "plt.xlabel('Episode')\n",
    "plt.ylabel('Env losses')"
   ]
  },
  {
   "cell_type": "code",
   "execution_count": null,
   "metadata": {},
   "outputs": [],
   "source": [
    "eps, arr = np.array(aloss2_list).T\n",
    "smoothed_arr = running_mean(arr, 10)\n",
    "plt.plot(eps[-len(smoothed_arr):], smoothed_arr)\n",
    "plt.plot(eps, arr, color='grey', alpha=0.3)\n",
    "plt.xlabel('Episode')\n",
    "plt.ylabel('Act losses 2')"
   ]
  },
  {
   "cell_type": "markdown",
   "metadata": {},
   "source": [
    "## Testing\n",
    "\n",
    "Let's checkout how our trained agent plays the game."
   ]
  },
  {
   "cell_type": "code",
   "execution_count": 21,
   "metadata": {},
   "outputs": [
    {
     "name": "stdout",
     "output_type": "stream",
     "text": [
      "INFO:tensorflow:Restoring parameters from checkpoints/model.ckpt\n",
      "total_reward: 500.0\n",
      "total_reward: 500.0\n",
      "total_reward: 500.0\n",
      "total_reward: 500.0\n",
      "total_reward: 500.0\n",
      "total_reward: 500.0\n",
      "total_reward: 500.0\n",
      "total_reward: 500.0\n",
      "total_reward: 500.0\n",
      "total_reward: 500.0\n"
     ]
    }
   ],
   "source": [
    "import gym\n",
    "env = gym.make('CartPole-v0')\n",
    "env = gym.make('CartPole-v1')\n",
    "\n",
    "with tf.Session() as sess:\n",
    "    sess.run(tf.global_variables_initializer())\n",
    "    saver.restore(sess, 'checkpoints/model.ckpt')    \n",
    "    #saver.restore(sess, tf.train.latest_checkpoint('checkpoints'))\n",
    "    \n",
    "    # Episodes/epochs\n",
    "    for _ in range(10):\n",
    "        state = env.reset()\n",
    "        total_reward = 0\n",
    "\n",
    "        # Steps/batches\n",
    "        while True:\n",
    "            env.render()\n",
    "            action_logits = sess.run(model.actions_logits, feed_dict={model.states: state.reshape([1, -1])})\n",
    "            action = np.argmax(action_logits)\n",
    "            state, reward, done, _ = env.step(action)\n",
    "            total_reward += reward\n",
    "            if done:\n",
    "                print('total_reward: {}'.format(total_reward))\n",
    "                break\n",
    "                \n",
    "env.close()"
   ]
  },
  {
   "cell_type": "code",
   "execution_count": null,
   "metadata": {},
   "outputs": [],
   "source": []
  }
 ],
 "metadata": {
  "kernelspec": {
   "display_name": "Python 3",
   "language": "python",
   "name": "python3"
  },
  "language_info": {
   "codemirror_mode": {
    "name": "ipython",
    "version": 3
   },
   "file_extension": ".py",
   "mimetype": "text/x-python",
   "name": "python",
   "nbconvert_exporter": "python",
   "pygments_lexer": "ipython3",
   "version": "3.6.6"
  }
 },
 "nbformat": 4,
 "nbformat_minor": 2
}
