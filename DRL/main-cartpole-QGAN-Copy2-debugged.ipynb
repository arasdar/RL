{
 "cells": [
  {
   "cell_type": "code",
   "execution_count": 1,
   "metadata": {},
   "outputs": [
    {
     "name": "stdout",
     "output_type": "stream",
     "text": [
      "TensorFlow Version: 1.7.1\n",
      "Default GPU Device: \n"
     ]
    }
   ],
   "source": [
    "import tensorflow as tf\n",
    "print('TensorFlow Version: {}'.format(tf.__version__))\n",
    "print('Default GPU Device: {}'.format(tf.test.gpu_device_name()))"
   ]
  },
  {
   "cell_type": "markdown",
   "metadata": {},
   "source": [
    "##### >**Note:** Make sure you have OpenAI Gym cloned. Then run this command `pip install -e gym/[all]`."
   ]
  },
  {
   "cell_type": "code",
   "execution_count": 2,
   "metadata": {},
   "outputs": [],
   "source": [
    "import numpy as np\n",
    "import gym\n",
    "env = gym.make('CartPole-v0')\n",
    "env = gym.make('CartPole-v1')"
   ]
  },
  {
   "cell_type": "code",
   "execution_count": 3,
   "metadata": {},
   "outputs": [],
   "source": [
    "def model_input(state_size):\n",
    "    #states = tf.placeholder(tf.float32, [None, *state_size], name='states')\n",
    "    states = tf.placeholder(tf.float32, [None, state_size], name='states')\n",
    "    actions = tf.placeholder(tf.int32, [None], name='actions')\n",
    "    next_states = tf.placeholder(tf.float32, [None, state_size], name='next_states')\n",
    "    rewards = tf.placeholder(tf.float32, [None], name='rewards')\n",
    "    dones = tf.placeholder(tf.float32, [None], name='dones')\n",
    "    rates = tf.placeholder(tf.float32, [None], name='rates') # success rate\n",
    "    return states, actions, next_states, rewards, dones, rates"
   ]
  },
  {
   "cell_type": "code",
   "execution_count": 4,
   "metadata": {},
   "outputs": [],
   "source": [
    "def Act(states, action_size, hidden_size, reuse=False, alpha=0.1, training=False):\n",
    "    with tf.variable_scope('Act', reuse=reuse):\n",
    "        # First fully connected layer\n",
    "        h1 = tf.layers.dense(inputs=states, units=hidden_size)\n",
    "        bn1 = tf.layers.batch_normalization(h1, training=training)        \n",
    "        nl1 = tf.maximum(alpha * bn1, bn1)\n",
    "        \n",
    "        # Second fully connected layer\n",
    "        h2 = tf.layers.dense(inputs=nl1, units=hidden_size)\n",
    "        bn2 = tf.layers.batch_normalization(h2, training=training)        \n",
    "        nl2 = tf.maximum(alpha * bn2, bn2)\n",
    "        \n",
    "        # Output layer\n",
    "        logits = tf.layers.dense(inputs=nl2, units=action_size)        \n",
    "        return logits"
   ]
  },
  {
   "cell_type": "code",
   "execution_count": 5,
   "metadata": {},
   "outputs": [],
   "source": [
    "def Env(states, actions, state_size, action_size, hidden_size, reuse=False, alpha=0.1, training=False):\n",
    "    with tf.variable_scope('Env', reuse=reuse):\n",
    "        # First fully connected layer\n",
    "        h1 = tf.layers.dense(inputs=states, units=action_size)\n",
    "        bn1 = tf.layers.batch_normalization(h1, training=training)        \n",
    "        nl1 = tf.maximum(alpha * bn1, bn1)\n",
    "        \n",
    "        # Second fully connected layer\n",
    "        nl1_fused = tf.concat(axis=1, values=[nl1, actions])\n",
    "        h2 = tf.layers.dense(inputs=nl1_fused, units=hidden_size)\n",
    "        bn2 = tf.layers.batch_normalization(h2, training=training)        \n",
    "        nl2 = tf.maximum(alpha * bn2, bn2)\n",
    "                \n",
    "        # Output layer\n",
    "        states_logits = tf.layers.dense(inputs=nl2, units=state_size, trainable=False)\n",
    "        Qlogits = tf.layers.dense(inputs=nl2, units=1, trainable=False)\n",
    "        return states_logits, Qlogits"
   ]
  },
  {
   "cell_type": "code",
   "execution_count": 6,
   "metadata": {},
   "outputs": [],
   "source": [
    "def model_loss(state_size, action_size, hidden_size, gamma,\n",
    "               states, actions, next_states, rewards, dones, rates):\n",
    "    ################################################ a = act(s)\n",
    "    actions_logits = Act(states=states, hidden_size=hidden_size, action_size=action_size)\n",
    "    actions_labels = tf.one_hot(indices=actions, depth=action_size, dtype=actions_logits.dtype)\n",
    "    aloss = tf.reduce_mean(tf.nn.softmax_cross_entropy_with_logits_v2(logits=actions_logits, \n",
    "                                                                      labels=actions_labels))\n",
    "    ################################################ s', r = env(s, a)\n",
    "    e_next_states_logits, eQs = Env(actions=actions_labels, states=states, hidden_size=hidden_size, \n",
    "                                    action_size=action_size, state_size=state_size)\n",
    "    a_next_states_logits, aQs = Env(actions=actions_logits, states=states, hidden_size=hidden_size, \n",
    "                                    action_size=action_size, state_size=state_size, reuse=True)\n",
    "    next_states_labels = tf.nn.sigmoid(next_states)\n",
    "    eloss_ = tf.nn.sigmoid_cross_entropy_with_logits(logits=e_next_states_logits, labels=next_states_labels)\n",
    "    eloss = tf.reduce_mean(tf.reduce_sum(eloss_, axis=1))\n",
    "    eloss_ = tf.nn.sigmoid_cross_entropy_with_logits(logits=a_next_states_logits, labels=next_states_labels)\n",
    "    eloss += -tf.reduce_mean(tf.reduce_sum(eloss_, axis=1)) # maximize loss\n",
    "    aloss2_ = tf.nn.sigmoid_cross_entropy_with_logits(logits=a_next_states_logits, labels=next_states_labels)\n",
    "    aloss2 = tf.reduce_mean(tf.reduce_sum(eloss_, axis=1)) # minimize loss\n",
    "    #################################################### s'', Q' = ~env(s', ~a')\n",
    "    next_actions_logits = Act(states=next_states, hidden_size=hidden_size, action_size=action_size, reuse=True)\n",
    "    next_states_logits, aQs2 = Env(actions=next_actions_logits, states=next_states, hidden_size=hidden_size, \n",
    "                                   action_size=action_size, state_size=state_size, reuse=True)\n",
    "    eQs_logits = tf.reshape(eQs, shape=[-1])\n",
    "    aQs_logits = tf.reshape(aQs, shape=[-1])\n",
    "    aQs2_logits = tf.reshape(aQs2, shape=[-1]) * (1-dones)\n",
    "    eloss += tf.reduce_mean(tf.nn.sigmoid_cross_entropy_with_logits(logits=eQs_logits, # GAN\n",
    "                                                                    labels=rates)) # 0-1 real\n",
    "    eloss += tf.reduce_mean(tf.nn.sigmoid_cross_entropy_with_logits(logits=(aQs_logits+aQs2_logits)/2, # GAN\n",
    "                                                                    labels=tf.zeros_like(rates))) # min\n",
    "    aloss2 += tf.reduce_mean(tf.nn.sigmoid_cross_entropy_with_logits(logits=(aQs_logits+aQs2_logits)/2, # GAN\n",
    "                                                                     labels=tf.ones_like(rates))) # max\n",
    "    ###################################################### Q(s,a)= r + Q'(s',a')\n",
    "    #rewards__ = tf.square(e_next_states_logits - next_states) \n",
    "    next_states_loss = tf.nn.sigmoid_cross_entropy_with_logits(logits=e_next_states_logits, \n",
    "                                                               labels=next_states_labels)\n",
    "    rewards_in = tf.reduce_mean(tf.reduce_sum(next_states_loss, axis=1))\n",
    "    targetQs = rewards_in + (gamma * aQs2_logits) # DQN/Qlearning\n",
    "    eloss += tf.reduce_mean(tf.square(eQs_logits - targetQs)) # real\n",
    "    # eloss += tf.reduce_mean(tf.square(aQs_logits - rewards)) # min\n",
    "    # aloss2 += tf.reduce_mean(tf.square(aQs_logits - targetQs)) # max\n",
    "    eloss += tf.reduce_mean((aQs_logits+aQs2_logits)/2) # min\n",
    "    aloss2 += -tf.reduce_mean((aQs_logits+aQs2_logits)/2) # max\n",
    "    return actions_logits, aloss, eloss, aloss2, rewards_in"
   ]
  },
  {
   "cell_type": "code",
   "execution_count": 7,
   "metadata": {},
   "outputs": [],
   "source": [
    "def model_opt(a_loss, e_loss, a_loss2, a_learning_rate, e_learning_rate):\n",
    "    # Get weights and bias to update\n",
    "    t_vars = tf.trainable_variables()\n",
    "    a_vars = [var for var in t_vars if var.name.startswith('Act')]\n",
    "    e_vars = [var for var in t_vars if var.name.startswith('Env')]\n",
    "\n",
    "    # Optimize\n",
    "    with tf.control_dependencies(tf.get_collection(tf.GraphKeys.UPDATE_OPS)): # Required for batchnorm (BN)\n",
    "        a_opt = tf.train.AdamOptimizer(a_learning_rate).minimize(a_loss, var_list=a_vars)\n",
    "        e_opt = tf.train.AdamOptimizer(e_learning_rate).minimize(e_loss, var_list=e_vars)\n",
    "        a_opt2 = tf.train.AdamOptimizer(a_learning_rate).minimize(a_loss2, var_list=a_vars)\n",
    "    return a_opt, e_opt, a_opt2"
   ]
  },
  {
   "cell_type": "code",
   "execution_count": 8,
   "metadata": {},
   "outputs": [],
   "source": [
    "class Model:\n",
    "    def __init__(self, state_size, action_size, hidden_size, a_learning_rate, e_learning_rate, gamma):\n",
    "\n",
    "        # Data of the Model: make the data available inside the framework\n",
    "        self.states, self.actions, self.next_states, self.rewards, self.dones, self.rates = model_input(\n",
    "            state_size=state_size)\n",
    "\n",
    "        # Create the Model: calculating the loss and forwad pass\n",
    "        self.actions_logits, self.a_loss, self.e_loss, self.a_loss2, self.rewards_in = model_loss(\n",
    "            state_size=state_size, action_size=action_size, hidden_size=hidden_size, gamma=gamma, # model init\n",
    "            states=self.states, actions=self.actions, next_states=self.next_states, \n",
    "            rewards=self.rewards, dones=self.dones, rates=self.rates) # model input\n",
    "        \n",
    "        # Update the model: backward pass and backprop\n",
    "        self.a_opt, self.e_opt, self.a_opt2 = model_opt(a_loss=self.a_loss, \n",
    "                                                        e_loss=self.e_loss,\n",
    "                                                        a_loss2=self.a_loss2, \n",
    "                                                        a_learning_rate=a_learning_rate,\n",
    "                                                        e_learning_rate=e_learning_rate)"
   ]
  },
  {
   "cell_type": "code",
   "execution_count": 9,
   "metadata": {},
   "outputs": [],
   "source": [
    "from collections import deque\n",
    "class Memory():\n",
    "    def __init__(self, max_size = 1000):\n",
    "        self.buffer = deque(maxlen=max_size) # data batch\n",
    "#     def sample(self, batch_size):\n",
    "#         idx = np.random.choice(np.arange(len(self.buffer)), size=batch_size, replace=False)\n",
    "#         return [self.buffer[ii] for ii in idx]"
   ]
  },
  {
   "cell_type": "markdown",
   "metadata": {},
   "source": [
    "## Hyperparameters\n",
    "\n",
    "One of the more difficult aspects of reinforcememt learning are the large number of hyperparameters. Not only are we tuning the network, but we're tuning the simulation."
   ]
  },
  {
   "cell_type": "code",
   "execution_count": 10,
   "metadata": {},
   "outputs": [
    {
     "data": {
      "text/plain": [
       "(Box(4,), Discrete(2))"
      ]
     },
     "execution_count": 10,
     "metadata": {},
     "output_type": "execute_result"
    }
   ],
   "source": [
    "env.observation_space, env.action_space"
   ]
  },
  {
   "cell_type": "code",
   "execution_count": 11,
   "metadata": {},
   "outputs": [],
   "source": [
    "# Exploration parameters\n",
    "explore_start = 1.0            # exploration probability at start\n",
    "explore_stop = 0.01           # minimum exploration probability \n",
    "decay_rate = 0.0001            # exponential decay rate for exploration prob\n",
    "\n",
    "# Network parameters\n",
    "state_size = 4\n",
    "action_size = 2\n",
    "hidden_size = 4*2             # number of units in each Q-network hidden layer\n",
    "a_learning_rate = 1e-4         # Q-network learning rate\n",
    "e_learning_rate = 1e-4         # Q-network learning rate\n",
    "\n",
    "# Memory parameters\n",
    "memory_size = int(1e5)            # memory capacity\n",
    "batch_size = int(1e3)             # experience mini-batch size\n",
    "gamma=0.99"
   ]
  },
  {
   "cell_type": "code",
   "execution_count": 12,
   "metadata": {},
   "outputs": [],
   "source": [
    "# Reset/init the graph/session\n",
    "graph = tf.reset_default_graph()\n",
    "\n",
    "# Init the model\n",
    "model = Model(action_size=action_size, state_size=state_size, hidden_size=hidden_size, gamma=gamma,\n",
    "              a_learning_rate=a_learning_rate, e_learning_rate=e_learning_rate)\n",
    "\n",
    "# Init the memory\n",
    "memory = Memory(max_size=memory_size)"
   ]
  },
  {
   "cell_type": "code",
   "execution_count": 13,
   "metadata": {},
   "outputs": [],
   "source": [
    "state = env.reset()\n",
    "total_reward = 0\n",
    "num_step = 0\n",
    "for _ in range(memory_size):\n",
    "    action = env.action_space.sample()\n",
    "    next_state, reward, done, _ = env.step(action)\n",
    "    rate = -1\n",
    "    memory.buffer.append([state, action, next_state, reward, float(done), rate])\n",
    "    num_step += 1 # memory incremented\n",
    "    total_reward += reward\n",
    "    state = next_state\n",
    "    if done is True:\n",
    "        #print(done)\n",
    "        rate = total_reward/500\n",
    "        for idx in range(num_step): # episode length\n",
    "            if memory.buffer[-1-idx][-1] == -1:\n",
    "                memory.buffer[-1-idx][-1] = rate\n",
    "        state = env.reset()\n",
    "        total_reward = 0 # reset\n",
    "        num_step = 0 # reset"
   ]
  },
  {
   "cell_type": "markdown",
   "metadata": {},
   "source": [
    "## Training the model\n",
    "\n",
    "Below we'll train our agent. If you want to watch it train, uncomment the `env.render()` line. This is slow because it's rendering the frames slower than the network can train. But, it's cool to watch the agent get better at the game."
   ]
  },
  {
   "cell_type": "code",
   "execution_count": 14,
   "metadata": {},
   "outputs": [],
   "source": [
    "def minibacth(memory):\n",
    "    # Training with the maxrated minibatch\n",
    "    batch = memory.buffer\n",
    "    #for idx in range(memory_size// batch_size):\n",
    "    while True:\n",
    "        idx = np.random.choice(np.arange(memory_size// batch_size))\n",
    "        states = np.array([each[0] for each in batch])[idx*batch_size:(idx+1)*batch_size]\n",
    "        actions = np.array([each[1] for each in batch])[idx*batch_size:(idx+1)*batch_size]\n",
    "        next_states = np.array([each[2] for each in batch])[idx*batch_size:(idx+1)*batch_size]\n",
    "        rewards = np.array([each[3] for each in batch])[idx*batch_size:(idx+1)*batch_size]\n",
    "        dones = np.array([each[4] for each in batch])[idx*batch_size:(idx+1)*batch_size]\n",
    "        rates = np.array([each[5] for each in batch])[idx*batch_size:(idx+1)*batch_size]\n",
    "        states = states[rates >= np.max(rates)]\n",
    "        actions = actions[rates >= np.max(rates)]\n",
    "        next_states = next_states[rates >= np.max(rates)]\n",
    "        rewards = rewards[rates >= np.max(rates)]\n",
    "        dones = dones[rates >= np.max(rates)]\n",
    "        rates = rates[rates >= np.max(rates)]\n",
    "        if np.count_nonzero(dones) > 0 and len(dones) > 1 and np.max(rates) > 0:\n",
    "            break\n",
    "    return states, actions, next_states, rewards, dones, rates"
   ]
  },
  {
   "cell_type": "code",
   "execution_count": 15,
   "metadata": {},
   "outputs": [
    {
     "name": "stdout",
     "output_type": "stream",
     "text": [
      "Episode:0 meanR:16.0000 R:16.0000 rate:0.0320 aloss:0.7209 eloss:13.0488 aloss2:3.5452 exploreP:0.9984\n",
      "Episode:1 meanR:23.0000 R:30.0000 rate:0.0600 aloss:0.7020 eloss:13.2271 aloss2:3.4731 exploreP:0.9955\n",
      "Episode:2 meanR:22.0000 R:20.0000 rate:0.0400 aloss:0.6979 eloss:13.2501 aloss2:3.4519 exploreP:0.9935\n",
      "Episode:3 meanR:22.0000 R:22.0000 rate:0.0440 aloss:0.6861 eloss:13.1282 aloss2:3.4249 exploreP:0.9913\n",
      "Episode:4 meanR:22.4000 R:24.0000 rate:0.0480 aloss:0.7263 eloss:13.0627 aloss2:3.4919 exploreP:0.9890\n",
      "Episode:5 meanR:21.0000 R:14.0000 rate:0.0280 aloss:0.6836 eloss:13.2919 aloss2:3.3802 exploreP:0.9876\n",
      "Episode:6 meanR:20.7143 R:19.0000 rate:0.0380 aloss:0.6863 eloss:13.1874 aloss2:3.4182 exploreP:0.9857\n",
      "Episode:7 meanR:19.7500 R:13.0000 rate:0.0260 aloss:0.6864 eloss:13.0140 aloss2:3.4418 exploreP:0.9845\n",
      "Episode:8 meanR:19.6667 R:19.0000 rate:0.0380 aloss:0.6841 eloss:12.8620 aloss2:3.4372 exploreP:0.9826\n",
      "Episode:9 meanR:19.2000 R:15.0000 rate:0.0300 aloss:0.6920 eloss:12.9628 aloss2:3.4105 exploreP:0.9812\n",
      "Episode:10 meanR:20.1818 R:30.0000 rate:0.0600 aloss:0.6860 eloss:12.8589 aloss2:3.4260 exploreP:0.9783\n",
      "Episode:11 meanR:19.9167 R:17.0000 rate:0.0340 aloss:0.6836 eloss:12.8827 aloss2:3.3800 exploreP:0.9766\n",
      "Episode:12 meanR:19.3077 R:12.0000 rate:0.0240 aloss:0.6967 eloss:13.0177 aloss2:3.3926 exploreP:0.9755\n",
      "Episode:13 meanR:19.2857 R:19.0000 rate:0.0380 aloss:0.6864 eloss:12.5010 aloss2:3.4130 exploreP:0.9736\n",
      "Episode:14 meanR:18.8000 R:12.0000 rate:0.0240 aloss:0.6827 eloss:12.7437 aloss2:3.3946 exploreP:0.9725\n",
      "Episode:15 meanR:18.5625 R:15.0000 rate:0.0300 aloss:0.6922 eloss:12.6257 aloss2:3.4296 exploreP:0.9710\n",
      "Episode:16 meanR:19.0588 R:27.0000 rate:0.0540 aloss:0.6851 eloss:12.5102 aloss2:3.4273 exploreP:0.9684\n",
      "Episode:17 meanR:19.6111 R:29.0000 rate:0.0580 aloss:0.6823 eloss:12.4957 aloss2:3.4212 exploreP:0.9657\n",
      "Episode:18 meanR:20.2105 R:31.0000 rate:0.0620 aloss:0.6883 eloss:12.5055 aloss2:3.4110 exploreP:0.9627\n",
      "Episode:19 meanR:20.1000 R:18.0000 rate:0.0360 aloss:0.6856 eloss:12.2386 aloss2:3.4574 exploreP:0.9610\n",
      "Episode:20 meanR:19.7619 R:13.0000 rate:0.0260 aloss:0.6858 eloss:12.1330 aloss2:3.4597 exploreP:0.9598\n",
      "Episode:21 meanR:19.5000 R:14.0000 rate:0.0280 aloss:0.6845 eloss:12.0823 aloss2:3.4554 exploreP:0.9584\n",
      "Episode:22 meanR:20.6087 R:45.0000 rate:0.0900 aloss:0.6910 eloss:12.1381 aloss2:3.4559 exploreP:0.9542\n",
      "Episode:23 meanR:20.5000 R:18.0000 rate:0.0360 aloss:0.6833 eloss:11.9257 aloss2:3.4498 exploreP:0.9525\n",
      "Episode:24 meanR:20.2000 R:13.0000 rate:0.0260 aloss:0.6900 eloss:11.4359 aloss2:3.5318 exploreP:0.9512\n",
      "Episode:25 meanR:20.8077 R:36.0000 rate:0.0720 aloss:0.6850 eloss:11.5459 aloss2:3.4959 exploreP:0.9479\n",
      "Episode:26 meanR:22.0370 R:54.0000 rate:0.1080 aloss:0.6914 eloss:11.4734 aloss2:3.5346 exploreP:0.9428\n",
      "Episode:27 meanR:21.9643 R:20.0000 rate:0.0400 aloss:0.6824 eloss:11.4818 aloss2:3.5270 exploreP:0.9409\n",
      "Episode:28 meanR:21.8966 R:20.0000 rate:0.0400 aloss:0.6820 eloss:11.3560 aloss2:3.5654 exploreP:0.9391\n",
      "Episode:29 meanR:21.9667 R:24.0000 rate:0.0480 aloss:0.6915 eloss:11.1970 aloss2:3.5636 exploreP:0.9369\n",
      "Episode:30 meanR:21.6774 R:13.0000 rate:0.0260 aloss:0.6879 eloss:11.0476 aloss2:3.5626 exploreP:0.9357\n",
      "Episode:31 meanR:22.7188 R:55.0000 rate:0.1100 aloss:0.6885 eloss:10.7574 aloss2:3.5855 exploreP:0.9306\n",
      "Episode:32 meanR:23.4242 R:46.0000 rate:0.0920 aloss:0.6872 eloss:10.5905 aloss2:3.6331 exploreP:0.9264\n",
      "Episode:33 meanR:23.1765 R:15.0000 rate:0.0300 aloss:0.6855 eloss:10.4730 aloss2:3.6357 exploreP:0.9250\n",
      "Episode:34 meanR:23.0857 R:20.0000 rate:0.0400 aloss:0.6917 eloss:10.3598 aloss2:3.6574 exploreP:0.9232\n",
      "Episode:35 meanR:22.7778 R:12.0000 rate:0.0240 aloss:0.6817 eloss:10.3183 aloss2:3.6651 exploreP:0.9221\n",
      "Episode:36 meanR:23.9189 R:65.0000 rate:0.1300 aloss:0.6863 eloss:9.9573 aloss2:3.7225 exploreP:0.9162\n",
      "Episode:37 meanR:24.2368 R:36.0000 rate:0.0720 aloss:0.6949 eloss:9.7977 aloss2:3.7474 exploreP:0.9129\n",
      "Episode:38 meanR:24.1282 R:20.0000 rate:0.0400 aloss:0.7028 eloss:9.6909 aloss2:3.8012 exploreP:0.9111\n",
      "Episode:39 meanR:24.1000 R:23.0000 rate:0.0460 aloss:0.6970 eloss:9.7367 aloss2:3.7819 exploreP:0.9090\n",
      "Episode:40 meanR:24.0976 R:24.0000 rate:0.0480 aloss:0.6912 eloss:9.4191 aloss2:3.7699 exploreP:0.9069\n",
      "Episode:41 meanR:25.3571 R:77.0000 rate:0.1540 aloss:0.6905 eloss:9.1374 aloss2:3.8603 exploreP:0.9000\n",
      "Episode:42 meanR:25.5349 R:33.0000 rate:0.0660 aloss:0.6965 eloss:8.9823 aloss2:3.9002 exploreP:0.8971\n",
      "Episode:43 meanR:25.8636 R:40.0000 rate:0.0800 aloss:0.6953 eloss:8.8643 aloss2:3.9307 exploreP:0.8935\n",
      "Episode:44 meanR:25.6000 R:14.0000 rate:0.0280 aloss:0.6887 eloss:8.4277 aloss2:3.9424 exploreP:0.8923\n",
      "Episode:45 meanR:25.3913 R:16.0000 rate:0.0320 aloss:0.7009 eloss:8.5954 aloss2:3.9804 exploreP:0.8909\n",
      "Episode:46 meanR:25.1489 R:14.0000 rate:0.0280 aloss:0.6923 eloss:8.4413 aloss2:4.0033 exploreP:0.8896\n",
      "Episode:47 meanR:25.3542 R:35.0000 rate:0.0700 aloss:0.6876 eloss:8.1480 aloss2:4.0192 exploreP:0.8866\n",
      "Episode:48 meanR:25.2449 R:20.0000 rate:0.0400 aloss:0.6989 eloss:8.1126 aloss2:4.0284 exploreP:0.8848\n",
      "Episode:49 meanR:24.9600 R:11.0000 rate:0.0220 aloss:0.6980 eloss:8.1287 aloss2:4.0567 exploreP:0.8838\n",
      "Episode:50 meanR:25.2353 R:39.0000 rate:0.0780 aloss:0.6876 eloss:7.8859 aloss2:4.0515 exploreP:0.8804\n",
      "Episode:51 meanR:25.0000 R:13.0000 rate:0.0260 aloss:0.6817 eloss:7.7764 aloss2:4.0434 exploreP:0.8793\n",
      "Episode:52 meanR:25.0000 R:25.0000 rate:0.0500 aloss:0.7116 eloss:7.7055 aloss2:4.1378 exploreP:0.8771\n",
      "Episode:53 meanR:24.7963 R:14.0000 rate:0.0280 aloss:0.6983 eloss:7.5253 aloss2:4.1388 exploreP:0.8759\n",
      "Episode:54 meanR:24.5818 R:13.0000 rate:0.0260 aloss:0.7027 eloss:7.5165 aloss2:4.1525 exploreP:0.8748\n",
      "Episode:55 meanR:24.4107 R:15.0000 rate:0.0300 aloss:0.7020 eloss:7.6598 aloss2:4.1218 exploreP:0.8735\n",
      "Episode:56 meanR:24.3860 R:23.0000 rate:0.0460 aloss:0.7033 eloss:7.3023 aloss2:4.1873 exploreP:0.8715\n",
      "Episode:57 meanR:24.2931 R:19.0000 rate:0.0380 aloss:0.6981 eloss:7.3231 aloss2:4.1843 exploreP:0.8699\n",
      "Episode:58 meanR:24.4407 R:33.0000 rate:0.0660 aloss:0.6994 eloss:7.1936 aloss2:4.2265 exploreP:0.8671\n",
      "Episode:59 meanR:24.5500 R:31.0000 rate:0.0620 aloss:0.7064 eloss:7.1152 aloss2:4.2841 exploreP:0.8644\n",
      "Episode:60 meanR:24.3934 R:15.0000 rate:0.0300 aloss:0.7030 eloss:7.0798 aloss2:4.2976 exploreP:0.8631\n",
      "Episode:61 meanR:24.2581 R:16.0000 rate:0.0320 aloss:0.7146 eloss:7.0350 aloss2:4.2612 exploreP:0.8618\n",
      "Episode:62 meanR:24.4921 R:39.0000 rate:0.0780 aloss:0.7240 eloss:6.8011 aloss2:4.3620 exploreP:0.8584\n",
      "Episode:63 meanR:24.3438 R:15.0000 rate:0.0300 aloss:0.7247 eloss:6.6856 aloss2:4.3961 exploreP:0.8572\n",
      "Episode:64 meanR:24.2615 R:19.0000 rate:0.0380 aloss:0.7143 eloss:6.5914 aloss2:4.4196 exploreP:0.8556\n",
      "Episode:65 meanR:24.1970 R:20.0000 rate:0.0400 aloss:0.7095 eloss:6.4554 aloss2:4.3765 exploreP:0.8539\n",
      "Episode:66 meanR:24.4925 R:44.0000 rate:0.0880 aloss:0.7178 eloss:6.4023 aloss2:4.4234 exploreP:0.8502\n",
      "Episode:67 meanR:24.3382 R:14.0000 rate:0.0280 aloss:0.7170 eloss:6.3784 aloss2:4.4417 exploreP:0.8490\n",
      "Episode:68 meanR:24.3043 R:22.0000 rate:0.0440 aloss:0.6995 eloss:6.2185 aloss2:4.4385 exploreP:0.8472\n",
      "Episode:69 meanR:24.5286 R:40.0000 rate:0.0800 aloss:0.7492 eloss:6.2636 aloss2:4.5006 exploreP:0.8438\n",
      "Episode:70 meanR:24.7465 R:40.0000 rate:0.0800 aloss:0.7233 eloss:6.1060 aloss2:4.4717 exploreP:0.8405\n",
      "Episode:71 meanR:24.6667 R:19.0000 rate:0.0380 aloss:0.7249 eloss:6.0938 aloss2:4.5256 exploreP:0.8389\n",
      "Episode:72 meanR:24.7397 R:30.0000 rate:0.0600 aloss:0.7392 eloss:6.0293 aloss2:4.5442 exploreP:0.8364\n",
      "Episode:73 meanR:24.6081 R:15.0000 rate:0.0300 aloss:0.7185 eloss:5.9232 aloss2:4.5119 exploreP:0.8352\n",
      "Episode:74 meanR:24.9333 R:49.0000 rate:0.0980 aloss:0.7302 eloss:5.8629 aloss2:4.5667 exploreP:0.8311\n",
      "Episode:75 meanR:25.2500 R:49.0000 rate:0.0980 aloss:0.7288 eloss:5.8268 aloss2:4.5816 exploreP:0.8271\n",
      "Episode:76 meanR:25.1688 R:19.0000 rate:0.0380 aloss:0.7092 eloss:5.7690 aloss2:4.5268 exploreP:0.8256\n",
      "Episode:77 meanR:25.0256 R:14.0000 rate:0.0280 aloss:0.7615 eloss:5.7344 aloss2:4.6059 exploreP:0.8244\n",
      "Episode:78 meanR:24.8228 R:9.0000 rate:0.0180 aloss:0.7174 eloss:5.7679 aloss2:4.5515 exploreP:0.8237\n",
      "Episode:79 meanR:24.8250 R:25.0000 rate:0.0500 aloss:0.7432 eloss:5.7670 aloss2:4.6273 exploreP:0.8217\n"
     ]
    },
    {
     "name": "stdout",
     "output_type": "stream",
     "text": [
      "Episode:80 meanR:24.7531 R:19.0000 rate:0.0380 aloss:0.7054 eloss:5.8123 aloss2:4.5302 exploreP:0.8201\n",
      "Episode:81 meanR:24.6220 R:14.0000 rate:0.0280 aloss:0.7539 eloss:5.8983 aloss2:4.6340 exploreP:0.8190\n",
      "Episode:82 meanR:24.7349 R:34.0000 rate:0.0680 aloss:0.7518 eloss:5.7904 aloss2:4.5943 exploreP:0.8163\n",
      "Episode:83 meanR:24.7143 R:23.0000 rate:0.0460 aloss:0.7386 eloss:5.8503 aloss2:4.5898 exploreP:0.8144\n",
      "Episode:84 meanR:25.0706 R:55.0000 rate:0.1100 aloss:0.7336 eloss:5.9303 aloss2:4.5547 exploreP:0.8100\n",
      "Episode:85 meanR:24.9884 R:18.0000 rate:0.0360 aloss:0.7267 eloss:5.9703 aloss2:4.5123 exploreP:0.8086\n",
      "Episode:86 meanR:24.8161 R:10.0000 rate:0.0200 aloss:0.7297 eloss:5.9835 aloss2:4.5167 exploreP:0.8078\n",
      "Episode:87 meanR:24.7500 R:19.0000 rate:0.0380 aloss:0.7319 eloss:6.0645 aloss2:4.5290 exploreP:0.8062\n",
      "Episode:88 meanR:24.6629 R:17.0000 rate:0.0340 aloss:0.6908 eloss:6.1033 aloss2:4.4694 exploreP:0.8049\n",
      "Episode:89 meanR:24.7222 R:30.0000 rate:0.0600 aloss:0.7154 eloss:6.1793 aloss2:4.4876 exploreP:0.8025\n",
      "Episode:90 meanR:24.9890 R:49.0000 rate:0.0980 aloss:0.6996 eloss:6.3725 aloss2:4.3857 exploreP:0.7986\n",
      "Episode:91 meanR:24.8696 R:14.0000 rate:0.0280 aloss:0.7261 eloss:6.5464 aloss2:4.4294 exploreP:0.7975\n",
      "Episode:92 meanR:24.7097 R:10.0000 rate:0.0200 aloss:0.6926 eloss:6.5894 aloss2:4.3584 exploreP:0.7967\n",
      "Episode:93 meanR:24.8936 R:42.0000 rate:0.0840 aloss:0.6941 eloss:6.6883 aloss2:4.3210 exploreP:0.7934\n",
      "Episode:94 meanR:25.3263 R:66.0000 rate:0.1320 aloss:0.6936 eloss:7.0531 aloss2:4.2845 exploreP:0.7883\n",
      "Episode:95 meanR:25.2812 R:21.0000 rate:0.0420 aloss:0.6983 eloss:7.4412 aloss2:4.1763 exploreP:0.7867\n",
      "Episode:96 meanR:25.9072 R:86.0000 rate:0.1720 aloss:0.6857 eloss:7.8457 aloss2:4.1242 exploreP:0.7800\n",
      "Episode:97 meanR:25.9898 R:34.0000 rate:0.0680 aloss:0.6941 eloss:8.2914 aloss2:4.0041 exploreP:0.7774\n",
      "Episode:98 meanR:25.9899 R:26.0000 rate:0.0520 aloss:0.6834 eloss:8.5013 aloss2:3.9931 exploreP:0.7754\n",
      "Episode:99 meanR:25.9300 R:20.0000 rate:0.0400 aloss:0.6863 eloss:8.6070 aloss2:3.9951 exploreP:0.7739\n",
      "Episode:100 meanR:25.9900 R:22.0000 rate:0.0440 aloss:0.6877 eloss:8.6530 aloss2:3.9854 exploreP:0.7722\n",
      "Episode:101 meanR:25.8500 R:16.0000 rate:0.0320 aloss:0.6914 eloss:8.7732 aloss2:3.8840 exploreP:0.7710\n",
      "Episode:102 meanR:25.8000 R:15.0000 rate:0.0300 aloss:0.6849 eloss:8.6738 aloss2:4.0285 exploreP:0.7698\n",
      "Episode:103 meanR:26.0800 R:50.0000 rate:0.1000 aloss:0.6915 eloss:8.8079 aloss2:3.9684 exploreP:0.7660\n",
      "Episode:104 meanR:26.0500 R:21.0000 rate:0.0420 aloss:0.6818 eloss:8.8622 aloss2:3.9861 exploreP:0.7645\n",
      "Episode:105 meanR:26.2000 R:29.0000 rate:0.0580 aloss:0.6933 eloss:8.8212 aloss2:3.9215 exploreP:0.7623\n",
      "Episode:106 meanR:26.1600 R:15.0000 rate:0.0300 aloss:0.7010 eloss:8.7401 aloss2:4.0810 exploreP:0.7611\n",
      "Episode:107 meanR:26.5300 R:50.0000 rate:0.1000 aloss:0.6933 eloss:8.7227 aloss2:3.9887 exploreP:0.7574\n",
      "Episode:108 meanR:26.5000 R:16.0000 rate:0.0320 aloss:0.6880 eloss:8.6061 aloss2:4.1157 exploreP:0.7562\n",
      "Episode:109 meanR:26.5600 R:21.0000 rate:0.0420 aloss:0.6878 eloss:8.5957 aloss2:4.1496 exploreP:0.7546\n",
      "Episode:110 meanR:26.4300 R:17.0000 rate:0.0340 aloss:0.6898 eloss:8.5709 aloss2:4.1007 exploreP:0.7534\n",
      "Episode:111 meanR:26.4600 R:20.0000 rate:0.0400 aloss:0.6883 eloss:8.5649 aloss2:4.0655 exploreP:0.7519\n",
      "Episode:112 meanR:26.6000 R:26.0000 rate:0.0520 aloss:0.6922 eloss:8.5210 aloss2:4.0986 exploreP:0.7500\n",
      "Episode:113 meanR:26.7300 R:32.0000 rate:0.0640 aloss:0.6949 eloss:8.3898 aloss2:4.1167 exploreP:0.7476\n",
      "Episode:114 meanR:26.8400 R:23.0000 rate:0.0460 aloss:0.6922 eloss:8.3852 aloss2:4.1838 exploreP:0.7459\n",
      "Episode:115 meanR:26.9600 R:27.0000 rate:0.0540 aloss:0.6832 eloss:8.3584 aloss2:4.2152 exploreP:0.7439\n",
      "Episode:116 meanR:26.9400 R:25.0000 rate:0.0500 aloss:0.6929 eloss:8.1871 aloss2:4.2343 exploreP:0.7421\n",
      "Episode:117 meanR:26.8300 R:18.0000 rate:0.0360 aloss:0.6922 eloss:8.0807 aloss2:4.2329 exploreP:0.7408\n",
      "Episode:118 meanR:26.8200 R:30.0000 rate:0.0600 aloss:0.6856 eloss:7.9996 aloss2:4.2518 exploreP:0.7386\n",
      "Episode:119 meanR:26.7300 R:9.0000 rate:0.0180 aloss:0.6857 eloss:7.9340 aloss2:4.2872 exploreP:0.7379\n",
      "Episode:120 meanR:26.6900 R:9.0000 rate:0.0180 aloss:0.6839 eloss:7.8599 aloss2:4.3333 exploreP:0.7373\n",
      "Episode:121 meanR:26.9200 R:37.0000 rate:0.0740 aloss:0.6981 eloss:7.8492 aloss2:4.3383 exploreP:0.7346\n",
      "Episode:122 meanR:26.7300 R:26.0000 rate:0.0520 aloss:0.7065 eloss:7.6978 aloss2:4.3276 exploreP:0.7327\n",
      "Episode:123 meanR:26.7200 R:17.0000 rate:0.0340 aloss:0.6978 eloss:7.5565 aloss2:4.3692 exploreP:0.7315\n",
      "Episode:124 meanR:26.8100 R:22.0000 rate:0.0440 aloss:0.6965 eloss:7.5774 aloss2:4.4250 exploreP:0.7299\n",
      "Episode:125 meanR:27.3400 R:89.0000 rate:0.1780 aloss:0.6940 eloss:7.4163 aloss2:4.4847 exploreP:0.7235\n",
      "Episode:126 meanR:27.0000 R:20.0000 rate:0.0400 aloss:0.7008 eloss:7.3313 aloss2:4.5175 exploreP:0.7221\n",
      "Episode:127 meanR:27.2400 R:44.0000 rate:0.0880 aloss:0.6879 eloss:7.2111 aloss2:4.5523 exploreP:0.7190\n",
      "Episode:128 meanR:27.4500 R:41.0000 rate:0.0820 aloss:0.6926 eloss:7.2209 aloss2:4.5822 exploreP:0.7161\n",
      "Episode:129 meanR:27.3700 R:16.0000 rate:0.0320 aloss:0.7007 eloss:7.3006 aloss2:4.6948 exploreP:0.7149\n",
      "Episode:130 meanR:27.5100 R:27.0000 rate:0.0540 aloss:0.6868 eloss:7.2088 aloss2:4.6049 exploreP:0.7130\n",
      "Episode:131 meanR:27.3700 R:41.0000 rate:0.0820 aloss:0.6859 eloss:7.1870 aloss2:4.5855 exploreP:0.7102\n",
      "Episode:132 meanR:27.2600 R:35.0000 rate:0.0700 aloss:0.6816 eloss:7.2373 aloss2:4.5709 exploreP:0.7077\n",
      "Episode:133 meanR:27.3800 R:27.0000 rate:0.0540 aloss:0.6778 eloss:7.2629 aloss2:4.5713 exploreP:0.7058\n",
      "Episode:134 meanR:27.3200 R:14.0000 rate:0.0280 aloss:0.6854 eloss:7.3310 aloss2:4.6379 exploreP:0.7049\n",
      "Episode:135 meanR:27.8900 R:69.0000 rate:0.1380 aloss:0.6832 eloss:7.3559 aloss2:4.6149 exploreP:0.7001\n",
      "Episode:136 meanR:27.4600 R:22.0000 rate:0.0440 aloss:0.6817 eloss:7.4267 aloss2:4.6308 exploreP:0.6986\n",
      "Episode:137 meanR:27.5600 R:46.0000 rate:0.0920 aloss:0.6891 eloss:7.4180 aloss2:4.6167 exploreP:0.6954\n",
      "Episode:138 meanR:27.7100 R:35.0000 rate:0.0700 aloss:0.7069 eloss:7.3861 aloss2:4.6472 exploreP:0.6930\n",
      "Episode:139 meanR:28.2400 R:76.0000 rate:0.1520 aloss:0.6981 eloss:7.3481 aloss2:4.6227 exploreP:0.6878\n",
      "Episode:140 meanR:28.2600 R:26.0000 rate:0.0520 aloss:0.6867 eloss:7.3507 aloss2:4.6350 exploreP:0.6861\n",
      "Episode:141 meanR:27.6500 R:16.0000 rate:0.0320 aloss:0.6963 eloss:7.4005 aloss2:4.6571 exploreP:0.6850\n",
      "Episode:142 meanR:27.5900 R:27.0000 rate:0.0540 aloss:0.7060 eloss:7.3715 aloss2:4.6978 exploreP:0.6832\n",
      "Episode:143 meanR:27.3900 R:20.0000 rate:0.0400 aloss:0.7075 eloss:7.3408 aloss2:4.6943 exploreP:0.6818\n",
      "Episode:144 meanR:27.6300 R:38.0000 rate:0.0760 aloss:0.6954 eloss:7.3392 aloss2:4.6488 exploreP:0.6793\n",
      "Episode:145 meanR:27.8600 R:39.0000 rate:0.0780 aloss:0.7373 eloss:7.2314 aloss2:4.7193 exploreP:0.6767\n",
      "Episode:146 meanR:28.2000 R:48.0000 rate:0.0960 aloss:0.6995 eloss:7.2717 aloss2:4.6850 exploreP:0.6735\n",
      "Episode:147 meanR:28.1700 R:32.0000 rate:0.0640 aloss:0.6840 eloss:7.3395 aloss2:4.6761 exploreP:0.6714\n",
      "Episode:148 meanR:28.1200 R:15.0000 rate:0.0300 aloss:0.6916 eloss:7.4877 aloss2:4.6708 exploreP:0.6704\n",
      "Episode:149 meanR:28.3200 R:31.0000 rate:0.0620 aloss:0.6984 eloss:7.4176 aloss2:4.7264 exploreP:0.6683\n",
      "Episode:150 meanR:28.1200 R:19.0000 rate:0.0380 aloss:0.7009 eloss:7.2414 aloss2:4.7068 exploreP:0.6671\n",
      "Episode:151 meanR:28.4800 R:49.0000 rate:0.0980 aloss:0.7033 eloss:7.1629 aloss2:4.7362 exploreP:0.6639\n",
      "Episode:152 meanR:28.5200 R:29.0000 rate:0.0580 aloss:0.7108 eloss:7.1416 aloss2:4.7823 exploreP:0.6620\n",
      "Episode:153 meanR:28.8600 R:48.0000 rate:0.0960 aloss:0.6972 eloss:7.1167 aloss2:4.7630 exploreP:0.6589\n",
      "Episode:154 meanR:29.2100 R:48.0000 rate:0.0960 aloss:0.7029 eloss:7.0560 aloss2:4.7949 exploreP:0.6557\n",
      "Episode:155 meanR:29.4000 R:34.0000 rate:0.0680 aloss:0.6787 eloss:7.0055 aloss2:4.8107 exploreP:0.6536\n",
      "Episode:156 meanR:29.4800 R:31.0000 rate:0.0620 aloss:0.6969 eloss:6.9500 aloss2:4.8134 exploreP:0.6516\n",
      "Episode:157 meanR:29.6400 R:35.0000 rate:0.0700 aloss:0.6892 eloss:7.0119 aloss2:4.7974 exploreP:0.6493\n",
      "Episode:158 meanR:29.7200 R:41.0000 rate:0.0820 aloss:0.6922 eloss:6.9310 aloss2:4.8497 exploreP:0.6467\n"
     ]
    },
    {
     "name": "stdout",
     "output_type": "stream",
     "text": [
      "Episode:159 meanR:29.8300 R:42.0000 rate:0.0840 aloss:0.7113 eloss:6.9462 aloss2:4.8714 exploreP:0.6440\n",
      "Episode:160 meanR:30.0200 R:34.0000 rate:0.0680 aloss:0.6798 eloss:7.1096 aloss2:4.8404 exploreP:0.6419\n",
      "Episode:161 meanR:30.5000 R:64.0000 rate:0.1280 aloss:0.6864 eloss:7.2435 aloss2:4.8279 exploreP:0.6379\n",
      "Episode:162 meanR:30.7000 R:59.0000 rate:0.1180 aloss:0.7061 eloss:7.4967 aloss2:4.8610 exploreP:0.6342\n",
      "Episode:163 meanR:30.8100 R:26.0000 rate:0.0520 aloss:0.6929 eloss:7.6496 aloss2:4.8079 exploreP:0.6325\n",
      "Episode:164 meanR:30.9400 R:32.0000 rate:0.0640 aloss:0.6947 eloss:7.6606 aloss2:4.8149 exploreP:0.6305\n",
      "Episode:165 meanR:31.0300 R:29.0000 rate:0.0580 aloss:0.6998 eloss:7.7442 aloss2:4.7643 exploreP:0.6288\n",
      "Episode:166 meanR:31.2700 R:68.0000 rate:0.1360 aloss:0.7036 eloss:7.6278 aloss2:4.7928 exploreP:0.6246\n",
      "Episode:167 meanR:31.3600 R:23.0000 rate:0.0460 aloss:0.7176 eloss:7.6631 aloss2:4.7814 exploreP:0.6231\n",
      "Episode:168 meanR:31.4100 R:27.0000 rate:0.0540 aloss:0.7024 eloss:7.6142 aloss2:4.8408 exploreP:0.6215\n",
      "Episode:169 meanR:31.1300 R:12.0000 rate:0.0240 aloss:0.6996 eloss:7.4480 aloss2:4.8513 exploreP:0.6208\n",
      "Episode:170 meanR:30.8700 R:14.0000 rate:0.0280 aloss:0.6991 eloss:7.5479 aloss2:4.8557 exploreP:0.6199\n",
      "Episode:171 meanR:30.8600 R:18.0000 rate:0.0360 aloss:0.7042 eloss:7.4617 aloss2:4.9147 exploreP:0.6188\n",
      "Episode:172 meanR:30.8600 R:30.0000 rate:0.0600 aloss:0.6924 eloss:7.5896 aloss2:4.9775 exploreP:0.6170\n",
      "Episode:173 meanR:31.1400 R:43.0000 rate:0.0860 aloss:0.7225 eloss:7.4240 aloss2:4.9268 exploreP:0.6144\n",
      "Episode:174 meanR:30.8200 R:17.0000 rate:0.0340 aloss:0.7084 eloss:7.1808 aloss2:5.0121 exploreP:0.6134\n",
      "Episode:175 meanR:30.7000 R:37.0000 rate:0.0740 aloss:0.7087 eloss:7.3050 aloss2:5.0609 exploreP:0.6111\n",
      "Episode:176 meanR:30.9300 R:42.0000 rate:0.0840 aloss:0.7074 eloss:7.2488 aloss2:5.0623 exploreP:0.6086\n",
      "Episode:177 meanR:31.0000 R:21.0000 rate:0.0420 aloss:0.7071 eloss:6.8353 aloss2:5.0697 exploreP:0.6074\n",
      "Episode:178 meanR:31.4600 R:55.0000 rate:0.1100 aloss:0.6963 eloss:7.1268 aloss2:5.1521 exploreP:0.6041\n",
      "Episode:179 meanR:31.3700 R:16.0000 rate:0.0320 aloss:0.7246 eloss:7.0101 aloss2:5.1750 exploreP:0.6031\n",
      "Episode:180 meanR:31.3600 R:18.0000 rate:0.0360 aloss:0.6928 eloss:6.9616 aloss2:5.1851 exploreP:0.6021\n",
      "Episode:181 meanR:31.4200 R:20.0000 rate:0.0400 aloss:0.7012 eloss:6.9590 aloss2:5.2001 exploreP:0.6009\n",
      "Episode:182 meanR:31.3000 R:22.0000 rate:0.0440 aloss:0.6856 eloss:6.9905 aloss2:5.2744 exploreP:0.5996\n",
      "Episode:183 meanR:31.5300 R:46.0000 rate:0.0920 aloss:0.6984 eloss:6.8803 aloss2:5.2776 exploreP:0.5969\n",
      "Episode:184 meanR:31.1400 R:16.0000 rate:0.0320 aloss:0.6982 eloss:6.7732 aloss2:5.2253 exploreP:0.5959\n",
      "Episode:185 meanR:31.0600 R:10.0000 rate:0.0200 aloss:0.6990 eloss:6.9738 aloss2:5.3391 exploreP:0.5953\n",
      "Episode:186 meanR:31.1800 R:22.0000 rate:0.0440 aloss:0.6909 eloss:6.8319 aloss2:5.3047 exploreP:0.5941\n",
      "Episode:187 meanR:31.2100 R:22.0000 rate:0.0440 aloss:0.6936 eloss:6.7460 aloss2:5.3084 exploreP:0.5928\n",
      "Episode:188 meanR:31.2800 R:24.0000 rate:0.0480 aloss:0.6962 eloss:6.7836 aloss2:5.3026 exploreP:0.5914\n",
      "Episode:189 meanR:31.5100 R:53.0000 rate:0.1060 aloss:0.6784 eloss:6.7878 aloss2:5.3417 exploreP:0.5883\n",
      "Episode:190 meanR:31.2400 R:22.0000 rate:0.0440 aloss:0.6756 eloss:6.8231 aloss2:5.3658 exploreP:0.5870\n",
      "Episode:191 meanR:31.3800 R:28.0000 rate:0.0560 aloss:0.6847 eloss:6.9024 aloss2:5.3536 exploreP:0.5854\n",
      "Episode:192 meanR:31.6700 R:39.0000 rate:0.0780 aloss:0.6738 eloss:6.9244 aloss2:5.3426 exploreP:0.5832\n",
      "Episode:193 meanR:31.3800 R:13.0000 rate:0.0260 aloss:0.6830 eloss:6.9925 aloss2:5.3734 exploreP:0.5824\n",
      "Episode:194 meanR:31.0200 R:30.0000 rate:0.0600 aloss:0.6781 eloss:6.9855 aloss2:5.3725 exploreP:0.5807\n",
      "Episode:195 meanR:30.9600 R:15.0000 rate:0.0300 aloss:0.6878 eloss:6.9580 aloss2:5.3579 exploreP:0.5799\n",
      "Episode:196 meanR:30.6300 R:53.0000 rate:0.1060 aloss:0.6790 eloss:7.0095 aloss2:5.3755 exploreP:0.5769\n",
      "Episode:197 meanR:31.7400 R:145.0000 rate:0.2900 aloss:0.6923 eloss:7.0510 aloss2:5.3784 exploreP:0.5687\n",
      "Episode:198 meanR:31.8800 R:40.0000 rate:0.0800 aloss:0.6947 eloss:7.0352 aloss2:5.3908 exploreP:0.5665\n",
      "Episode:199 meanR:31.9100 R:23.0000 rate:0.0460 aloss:0.6978 eloss:7.0088 aloss2:5.3893 exploreP:0.5652\n",
      "Episode:200 meanR:32.0200 R:33.0000 rate:0.0660 aloss:0.6922 eloss:6.9932 aloss2:5.3758 exploreP:0.5634\n",
      "Episode:201 meanR:32.1800 R:32.0000 rate:0.0640 aloss:0.6872 eloss:7.0063 aloss2:5.3660 exploreP:0.5616\n",
      "Episode:202 meanR:32.5000 R:47.0000 rate:0.0940 aloss:0.7046 eloss:6.9296 aloss2:5.4484 exploreP:0.5590\n",
      "Episode:203 meanR:32.6900 R:69.0000 rate:0.1380 aloss:0.7258 eloss:6.8360 aloss2:5.5424 exploreP:0.5552\n",
      "Episode:204 meanR:32.8200 R:34.0000 rate:0.0680 aloss:0.6882 eloss:6.7217 aloss2:5.4818 exploreP:0.5534\n",
      "Episode:205 meanR:32.7800 R:25.0000 rate:0.0500 aloss:0.6995 eloss:6.7790 aloss2:5.5578 exploreP:0.5520\n",
      "Episode:206 meanR:33.1900 R:56.0000 rate:0.1120 aloss:0.6984 eloss:6.8072 aloss2:5.5616 exploreP:0.5490\n",
      "Episode:207 meanR:33.6200 R:93.0000 rate:0.1860 aloss:0.6855 eloss:6.7923 aloss2:5.5944 exploreP:0.5440\n",
      "Episode:208 meanR:33.6800 R:22.0000 rate:0.0440 aloss:0.7017 eloss:6.7416 aloss2:5.6108 exploreP:0.5428\n",
      "Episode:209 meanR:34.3400 R:87.0000 rate:0.1740 aloss:0.6881 eloss:6.7757 aloss2:5.6654 exploreP:0.5382\n",
      "Episode:210 meanR:34.8000 R:63.0000 rate:0.1260 aloss:0.6906 eloss:6.9441 aloss2:5.6112 exploreP:0.5349\n",
      "Episode:211 meanR:34.8100 R:21.0000 rate:0.0420 aloss:0.6784 eloss:6.8992 aloss2:5.6669 exploreP:0.5338\n",
      "Episode:212 meanR:35.8800 R:133.0000 rate:0.2660 aloss:0.6948 eloss:7.0256 aloss2:5.7327 exploreP:0.5269\n",
      "Episode:213 meanR:36.1800 R:62.0000 rate:0.1240 aloss:0.6992 eloss:7.0474 aloss2:5.7833 exploreP:0.5237\n",
      "Episode:214 meanR:36.3600 R:41.0000 rate:0.0820 aloss:0.6784 eloss:7.0951 aloss2:5.7949 exploreP:0.5216\n",
      "Episode:215 meanR:36.4400 R:35.0000 rate:0.0700 aloss:0.7130 eloss:7.3026 aloss2:5.8556 exploreP:0.5198\n",
      "Episode:216 meanR:36.8500 R:66.0000 rate:0.1320 aloss:0.7017 eloss:6.9454 aloss2:5.8926 exploreP:0.5164\n",
      "Episode:217 meanR:36.9300 R:26.0000 rate:0.0520 aloss:0.6986 eloss:6.9278 aloss2:5.8880 exploreP:0.5151\n",
      "Episode:218 meanR:36.9700 R:34.0000 rate:0.0680 aloss:0.6959 eloss:6.9972 aloss2:5.8993 exploreP:0.5134\n",
      "Episode:219 meanR:37.1700 R:29.0000 rate:0.0580 aloss:0.7066 eloss:6.9523 aloss2:5.8689 exploreP:0.5120\n",
      "Episode:220 meanR:37.3400 R:26.0000 rate:0.0520 aloss:0.6778 eloss:6.8598 aloss2:5.9529 exploreP:0.5106\n",
      "Episode:221 meanR:37.3000 R:33.0000 rate:0.0660 aloss:0.7085 eloss:7.1391 aloss2:5.9878 exploreP:0.5090\n",
      "Episode:222 meanR:37.7200 R:68.0000 rate:0.1360 aloss:0.7375 eloss:6.9990 aloss2:6.0420 exploreP:0.5056\n",
      "Episode:223 meanR:37.7300 R:18.0000 rate:0.0360 aloss:0.7759 eloss:6.8733 aloss2:6.0685 exploreP:0.5047\n",
      "Episode:224 meanR:38.4400 R:93.0000 rate:0.1860 aloss:0.7054 eloss:6.8201 aloss2:6.0665 exploreP:0.5001\n",
      "Episode:225 meanR:38.1400 R:59.0000 rate:0.1180 aloss:0.7146 eloss:6.9393 aloss2:6.0698 exploreP:0.4973\n",
      "Episode:226 meanR:39.0500 R:111.0000 rate:0.2220 aloss:0.6984 eloss:6.6992 aloss2:6.1630 exploreP:0.4919\n",
      "Episode:227 meanR:39.7600 R:115.0000 rate:0.2300 aloss:0.6984 eloss:6.8015 aloss2:6.1850 exploreP:0.4864\n",
      "Episode:228 meanR:40.0900 R:74.0000 rate:0.1480 aloss:0.6992 eloss:6.7397 aloss2:6.2506 exploreP:0.4829\n",
      "Episode:229 meanR:40.8900 R:96.0000 rate:0.1920 aloss:0.7013 eloss:6.8452 aloss2:6.2621 exploreP:0.4783\n",
      "Episode:230 meanR:41.6700 R:105.0000 rate:0.2100 aloss:0.7044 eloss:6.8030 aloss2:6.3669 exploreP:0.4735\n",
      "Episode:231 meanR:41.7000 R:44.0000 rate:0.0880 aloss:0.7099 eloss:6.7173 aloss2:6.4408 exploreP:0.4714\n",
      "Episode:232 meanR:42.1000 R:75.0000 rate:0.1500 aloss:0.7017 eloss:6.7159 aloss2:6.3937 exploreP:0.4680\n",
      "Episode:233 meanR:42.5800 R:75.0000 rate:0.1500 aloss:0.7122 eloss:6.5730 aloss2:6.4858 exploreP:0.4645\n",
      "Episode:234 meanR:43.6400 R:120.0000 rate:0.2400 aloss:0.6950 eloss:6.7357 aloss2:6.4836 exploreP:0.4591\n",
      "Episode:235 meanR:44.2300 R:128.0000 rate:0.2560 aloss:0.6989 eloss:6.7414 aloss2:6.5342 exploreP:0.4534\n",
      "Episode:236 meanR:44.7800 R:77.0000 rate:0.1540 aloss:0.6901 eloss:6.7760 aloss2:6.5207 exploreP:0.4500\n",
      "Episode:237 meanR:44.7700 R:45.0000 rate:0.0900 aloss:0.6786 eloss:6.5978 aloss2:6.5900 exploreP:0.4480\n"
     ]
    },
    {
     "name": "stdout",
     "output_type": "stream",
     "text": [
      "Episode:238 meanR:45.4900 R:107.0000 rate:0.2140 aloss:0.6797 eloss:6.5735 aloss2:6.6333 exploreP:0.4434\n",
      "Episode:239 meanR:46.7300 R:200.0000 rate:0.4000 aloss:0.6903 eloss:6.7531 aloss2:6.6528 exploreP:0.4348\n",
      "Episode:240 meanR:47.4500 R:98.0000 rate:0.1960 aloss:0.6851 eloss:6.6663 aloss2:6.6920 exploreP:0.4307\n",
      "Episode:241 meanR:48.2000 R:91.0000 rate:0.1820 aloss:0.6831 eloss:6.6508 aloss2:6.7637 exploreP:0.4268\n",
      "Episode:242 meanR:48.6300 R:70.0000 rate:0.1400 aloss:0.6843 eloss:6.6794 aloss2:6.7770 exploreP:0.4239\n",
      "Episode:243 meanR:51.0400 R:261.0000 rate:0.5220 aloss:0.6943 eloss:6.7351 aloss2:6.7906 exploreP:0.4133\n",
      "Episode:244 meanR:52.7400 R:208.0000 rate:0.4160 aloss:0.6989 eloss:6.6825 aloss2:6.8894 exploreP:0.4050\n",
      "Episode:245 meanR:53.7200 R:137.0000 rate:0.2740 aloss:0.6949 eloss:6.7174 aloss2:6.9782 exploreP:0.3996\n",
      "Episode:246 meanR:58.2400 R:500.0000 rate:1.0000 aloss:0.7018 eloss:6.7664 aloss2:7.1134 exploreP:0.3806\n",
      "Episode:247 meanR:59.2600 R:134.0000 rate:0.2680 aloss:0.7077 eloss:6.9372 aloss2:7.1872 exploreP:0.3757\n",
      "Episode:248 meanR:59.7400 R:63.0000 rate:0.1260 aloss:0.7129 eloss:6.9000 aloss2:7.1919 exploreP:0.3734\n",
      "Episode:249 meanR:60.4300 R:100.0000 rate:0.2000 aloss:0.7131 eloss:6.9997 aloss2:7.1783 exploreP:0.3697\n",
      "Episode:250 meanR:64.0500 R:381.0000 rate:0.7620 aloss:0.7178 eloss:6.9535 aloss2:7.2731 exploreP:0.3563\n",
      "Episode:251 meanR:64.8900 R:133.0000 rate:0.2660 aloss:0.7079 eloss:6.9661 aloss2:7.3117 exploreP:0.3517\n",
      "Episode:252 meanR:68.3700 R:377.0000 rate:0.7540 aloss:0.7130 eloss:6.9853 aloss2:7.3484 exploreP:0.3391\n",
      "Episode:253 meanR:69.2500 R:136.0000 rate:0.2720 aloss:0.7172 eloss:6.9044 aloss2:7.3867 exploreP:0.3346\n",
      "Episode:254 meanR:69.7900 R:102.0000 rate:0.2040 aloss:0.7160 eloss:6.9832 aloss2:7.4116 exploreP:0.3313\n",
      "Episode:255 meanR:70.0100 R:56.0000 rate:0.1120 aloss:0.7291 eloss:7.0925 aloss2:7.4153 exploreP:0.3295\n",
      "Episode:256 meanR:70.5900 R:89.0000 rate:0.1780 aloss:0.7397 eloss:7.0313 aloss2:7.4621 exploreP:0.3267\n",
      "Episode:257 meanR:72.4800 R:224.0000 rate:0.4480 aloss:0.7261 eloss:7.0433 aloss2:7.4736 exploreP:0.3197\n",
      "Episode:258 meanR:72.7100 R:64.0000 rate:0.1280 aloss:0.7260 eloss:7.0543 aloss2:7.4984 exploreP:0.3177\n",
      "Episode:259 meanR:73.2800 R:99.0000 rate:0.1980 aloss:0.7158 eloss:6.8935 aloss2:7.5384 exploreP:0.3147\n",
      "Episode:260 meanR:73.7100 R:77.0000 rate:0.1540 aloss:0.7364 eloss:6.9576 aloss2:7.5636 exploreP:0.3124\n",
      "Episode:261 meanR:75.3900 R:232.0000 rate:0.4640 aloss:0.7299 eloss:6.9986 aloss2:7.5024 exploreP:0.3054\n",
      "Episode:262 meanR:75.4000 R:60.0000 rate:0.1200 aloss:0.7542 eloss:7.1306 aloss2:7.5677 exploreP:0.3037\n",
      "Episode:263 meanR:75.3000 R:16.0000 rate:0.0320 aloss:0.6947 eloss:6.9244 aloss2:7.5238 exploreP:0.3032\n",
      "Episode:264 meanR:75.9000 R:92.0000 rate:0.1840 aloss:0.7319 eloss:7.0624 aloss2:7.5032 exploreP:0.3005\n",
      "Episode:265 meanR:77.9000 R:229.0000 rate:0.4580 aloss:0.7318 eloss:6.8107 aloss2:7.6292 exploreP:0.2939\n",
      "Episode:266 meanR:78.9900 R:177.0000 rate:0.3540 aloss:0.7273 eloss:6.7589 aloss2:7.6339 exploreP:0.2889\n",
      "Episode:267 meanR:79.3300 R:57.0000 rate:0.1140 aloss:0.7069 eloss:6.9149 aloss2:7.5827 exploreP:0.2874\n",
      "Episode:268 meanR:83.3500 R:429.0000 rate:0.8580 aloss:0.7327 eloss:6.8174 aloss2:7.6759 exploreP:0.2757\n",
      "Episode:269 meanR:88.2300 R:500.0000 rate:1.0000 aloss:0.7149 eloss:6.7329 aloss2:7.6917 exploreP:0.2628\n",
      "Episode:270 meanR:88.2000 R:11.0000 rate:0.0220 aloss:0.6991 eloss:6.8042 aloss2:7.6254 exploreP:0.2625\n",
      "Episode:271 meanR:91.2500 R:323.0000 rate:0.6460 aloss:0.7206 eloss:6.7541 aloss2:7.6945 exploreP:0.2544\n",
      "Episode:272 meanR:95.1800 R:423.0000 rate:0.8460 aloss:0.7137 eloss:6.5925 aloss2:7.7341 exploreP:0.2443\n",
      "Episode:273 meanR:95.8100 R:106.0000 rate:0.2120 aloss:0.7160 eloss:6.8282 aloss2:7.7024 exploreP:0.2419\n",
      "Episode:274 meanR:100.6400 R:500.0000 rate:1.0000 aloss:0.7073 eloss:6.5782 aloss2:7.7332 exploreP:0.2305\n",
      "Episode:275 meanR:105.2700 R:500.0000 rate:1.0000 aloss:0.7023 eloss:6.5425 aloss2:7.7912 exploreP:0.2198\n",
      "Episode:276 meanR:107.4000 R:255.0000 rate:0.5100 aloss:0.7035 eloss:6.4744 aloss2:7.8334 exploreP:0.2145\n",
      "Episode:277 meanR:109.9800 R:279.0000 rate:0.5580 aloss:0.7040 eloss:6.5116 aloss2:7.8187 exploreP:0.2089\n",
      "Episode:278 meanR:111.9500 R:252.0000 rate:0.5040 aloss:0.7009 eloss:6.4609 aloss2:7.8376 exploreP:0.2039\n",
      "Episode:279 meanR:115.4500 R:366.0000 rate:0.7320 aloss:0.7030 eloss:6.4784 aloss2:7.8728 exploreP:0.1970\n",
      "Episode:280 meanR:120.2700 R:500.0000 rate:1.0000 aloss:0.6945 eloss:6.4128 aloss2:7.8554 exploreP:0.1878\n",
      "Episode:281 meanR:125.0700 R:500.0000 rate:1.0000 aloss:0.6967 eloss:6.3194 aloss2:7.9524 exploreP:0.1792\n",
      "Episode:282 meanR:127.5200 R:267.0000 rate:0.5340 aloss:0.6942 eloss:6.3446 aloss2:7.9385 exploreP:0.1747\n",
      "Episode:283 meanR:130.2100 R:315.0000 rate:0.6300 aloss:0.7021 eloss:6.2338 aloss2:7.9802 exploreP:0.1696\n",
      "Episode:284 meanR:132.0100 R:196.0000 rate:0.3920 aloss:0.6986 eloss:6.2292 aloss2:7.9866 exploreP:0.1665\n",
      "Episode:285 meanR:136.1100 R:420.0000 rate:0.8400 aloss:0.6947 eloss:6.1684 aloss2:8.0963 exploreP:0.1601\n",
      "Episode:286 meanR:138.1700 R:228.0000 rate:0.4560 aloss:0.6917 eloss:6.3241 aloss2:8.0119 exploreP:0.1567\n",
      "Episode:287 meanR:140.5300 R:258.0000 rate:0.5160 aloss:0.6895 eloss:6.2064 aloss2:8.1029 exploreP:0.1530\n",
      "Episode:288 meanR:140.9300 R:64.0000 rate:0.1280 aloss:0.6795 eloss:6.2296 aloss2:8.0971 exploreP:0.1520\n",
      "Episode:289 meanR:144.5200 R:412.0000 rate:0.8240 aloss:0.6922 eloss:6.1984 aloss2:8.1078 exploreP:0.1463\n",
      "Episode:290 meanR:149.3000 R:500.0000 rate:1.0000 aloss:0.6864 eloss:6.0798 aloss2:8.2078 exploreP:0.1397\n",
      "Episode:291 meanR:154.0200 R:500.0000 rate:1.0000 aloss:0.6877 eloss:6.1014 aloss2:8.2545 exploreP:0.1333\n",
      "Episode:292 meanR:155.3400 R:171.0000 rate:0.3420 aloss:0.6992 eloss:6.0035 aloss2:8.3047 exploreP:0.1312\n",
      "Episode:293 meanR:157.8300 R:262.0000 rate:0.5240 aloss:0.6783 eloss:6.0775 aloss2:8.3039 exploreP:0.1281\n",
      "Episode:294 meanR:162.2300 R:470.0000 rate:0.9400 aloss:0.6899 eloss:5.9737 aloss2:8.4131 exploreP:0.1227\n",
      "Episode:295 meanR:165.5400 R:346.0000 rate:0.6920 aloss:0.6963 eloss:5.9944 aloss2:8.5156 exploreP:0.1189\n",
      "Episode:296 meanR:166.4500 R:144.0000 rate:0.2880 aloss:0.6991 eloss:5.9572 aloss2:8.4244 exploreP:0.1173\n",
      "Episode:297 meanR:170.0000 R:500.0000 rate:1.0000 aloss:0.6738 eloss:5.9887 aloss2:8.4656 exploreP:0.1121\n",
      "Episode:298 meanR:172.1100 R:251.0000 rate:0.5020 aloss:0.6816 eloss:5.8937 aloss2:8.5263 exploreP:0.1095\n",
      "Episode:299 meanR:176.8800 R:500.0000 rate:1.0000 aloss:0.6776 eloss:5.8883 aloss2:8.7017 exploreP:0.1047\n",
      "Episode:300 meanR:181.5500 R:500.0000 rate:1.0000 aloss:0.6759 eloss:5.8174 aloss2:8.7625 exploreP:0.1001\n",
      "Episode:301 meanR:186.2300 R:500.0000 rate:1.0000 aloss:0.6845 eloss:5.8048 aloss2:8.7516 exploreP:0.0957\n",
      "Episode:302 meanR:189.2900 R:353.0000 rate:0.7060 aloss:0.6769 eloss:5.8194 aloss2:8.9274 exploreP:0.0927\n",
      "Episode:303 meanR:193.6000 R:500.0000 rate:1.0000 aloss:0.6730 eloss:5.7921 aloss2:8.8550 exploreP:0.0887\n",
      "Episode:304 meanR:198.2600 R:500.0000 rate:1.0000 aloss:0.6737 eloss:5.7315 aloss2:8.9937 exploreP:0.0848\n",
      "Episode:305 meanR:202.3500 R:434.0000 rate:0.8680 aloss:0.6692 eloss:5.8736 aloss2:8.9675 exploreP:0.0817\n",
      "Episode:306 meanR:206.7900 R:500.0000 rate:1.0000 aloss:0.6734 eloss:5.7254 aloss2:9.0614 exploreP:0.0782\n",
      "Episode:307 meanR:210.8600 R:500.0000 rate:1.0000 aloss:0.6687 eloss:5.6541 aloss2:9.2410 exploreP:0.0748\n",
      "Episode:308 meanR:215.6400 R:500.0000 rate:1.0000 aloss:0.6603 eloss:5.7569 aloss2:9.3088 exploreP:0.0717\n",
      "Episode:309 meanR:219.7700 R:500.0000 rate:1.0000 aloss:0.6619 eloss:5.6558 aloss2:9.4048 exploreP:0.0687\n",
      "Episode:310 meanR:224.1400 R:500.0000 rate:1.0000 aloss:0.6682 eloss:5.5962 aloss2:9.4855 exploreP:0.0658\n",
      "Episode:311 meanR:228.9300 R:500.0000 rate:1.0000 aloss:0.6630 eloss:5.6390 aloss2:9.5606 exploreP:0.0631\n",
      "Episode:312 meanR:232.6000 R:500.0000 rate:1.0000 aloss:0.6664 eloss:5.4829 aloss2:9.7634 exploreP:0.0605\n",
      "Episode:313 meanR:236.9800 R:500.0000 rate:1.0000 aloss:0.6573 eloss:5.5080 aloss2:9.8909 exploreP:0.0580\n",
      "Episode:314 meanR:241.5700 R:500.0000 rate:1.0000 aloss:0.6559 eloss:5.5847 aloss2:10.0748 exploreP:0.0557\n",
      "Episode:315 meanR:246.2200 R:500.0000 rate:1.0000 aloss:0.6487 eloss:5.5712 aloss2:10.0012 exploreP:0.0535\n"
     ]
    },
    {
     "name": "stdout",
     "output_type": "stream",
     "text": [
      "Episode:316 meanR:250.5600 R:500.0000 rate:1.0000 aloss:0.6564 eloss:5.4309 aloss2:10.2141 exploreP:0.0513\n",
      "Episode:317 meanR:255.3000 R:500.0000 rate:1.0000 aloss:0.6541 eloss:5.4709 aloss2:10.4426 exploreP:0.0493\n",
      "Episode:318 meanR:259.9600 R:500.0000 rate:1.0000 aloss:0.6457 eloss:5.4325 aloss2:10.5035 exploreP:0.0474\n",
      "Episode:319 meanR:264.6700 R:500.0000 rate:1.0000 aloss:0.6494 eloss:5.4733 aloss2:10.5742 exploreP:0.0456\n",
      "Episode:320 meanR:269.4100 R:500.0000 rate:1.0000 aloss:0.6573 eloss:5.3006 aloss2:10.9345 exploreP:0.0438\n",
      "Episode:321 meanR:274.0800 R:500.0000 rate:1.0000 aloss:0.6509 eloss:5.2966 aloss2:10.9820 exploreP:0.0422\n",
      "Episode:322 meanR:278.4000 R:500.0000 rate:1.0000 aloss:0.6559 eloss:5.2084 aloss2:11.2606 exploreP:0.0406\n",
      "Episode:323 meanR:283.2200 R:500.0000 rate:1.0000 aloss:0.6430 eloss:5.4054 aloss2:11.4519 exploreP:0.0391\n",
      "Episode:324 meanR:287.2900 R:500.0000 rate:1.0000 aloss:0.6469 eloss:5.2384 aloss2:11.6398 exploreP:0.0377\n",
      "Episode:325 meanR:291.7000 R:500.0000 rate:1.0000 aloss:0.6435 eloss:5.3367 aloss2:11.7329 exploreP:0.0364\n",
      "Episode:326 meanR:295.5900 R:500.0000 rate:1.0000 aloss:0.6428 eloss:5.2429 aloss2:12.0747 exploreP:0.0351\n",
      "Episode:327 meanR:299.4400 R:500.0000 rate:1.0000 aloss:0.6437 eloss:5.3404 aloss2:12.0984 exploreP:0.0339\n",
      "Episode:328 meanR:303.7000 R:500.0000 rate:1.0000 aloss:0.6328 eloss:5.3982 aloss2:12.3071 exploreP:0.0327\n",
      "Episode:329 meanR:307.7400 R:500.0000 rate:1.0000 aloss:0.6336 eloss:5.3328 aloss2:12.3944 exploreP:0.0316\n",
      "Episode:330 meanR:311.6900 R:500.0000 rate:1.0000 aloss:0.6385 eloss:5.3509 aloss2:12.7024 exploreP:0.0305\n",
      "Episode:331 meanR:316.2500 R:500.0000 rate:1.0000 aloss:0.6373 eloss:5.3465 aloss2:12.7695 exploreP:0.0295\n",
      "Episode:332 meanR:320.5000 R:500.0000 rate:1.0000 aloss:0.6317 eloss:5.2699 aloss2:12.9017 exploreP:0.0286\n",
      "Episode:333 meanR:324.7500 R:500.0000 rate:1.0000 aloss:0.6468 eloss:5.1051 aloss2:13.2564 exploreP:0.0277\n",
      "Episode:334 meanR:328.5500 R:500.0000 rate:1.0000 aloss:0.6361 eloss:5.3017 aloss2:13.3510 exploreP:0.0268\n",
      "Episode:335 meanR:332.2700 R:500.0000 rate:1.0000 aloss:0.6360 eloss:5.3288 aloss2:13.4019 exploreP:0.0260\n",
      "Episode:336 meanR:336.5000 R:500.0000 rate:1.0000 aloss:0.6391 eloss:5.1877 aloss2:13.5671 exploreP:0.0252\n",
      "Episode:337 meanR:341.0500 R:500.0000 rate:1.0000 aloss:0.6349 eloss:5.3862 aloss2:13.7465 exploreP:0.0245\n",
      "Episode:338 meanR:344.9800 R:500.0000 rate:1.0000 aloss:0.6344 eloss:5.2162 aloss2:13.8309 exploreP:0.0238\n",
      "Episode:339 meanR:347.9800 R:500.0000 rate:1.0000 aloss:0.6262 eloss:5.4358 aloss2:13.9597 exploreP:0.0231\n",
      "Episode:340 meanR:352.0000 R:500.0000 rate:1.0000 aloss:0.6294 eloss:5.3060 aloss2:14.0900 exploreP:0.0225\n",
      "Episode:341 meanR:356.0900 R:500.0000 rate:1.0000 aloss:0.6202 eloss:5.4997 aloss2:14.3450 exploreP:0.0218\n",
      "Episode:342 meanR:360.3900 R:500.0000 rate:1.0000 aloss:0.6258 eloss:5.3879 aloss2:14.2470 exploreP:0.0213\n",
      "Episode:343 meanR:362.7800 R:500.0000 rate:1.0000 aloss:0.6219 eloss:5.3225 aloss2:14.4316 exploreP:0.0207\n",
      "Episode:344 meanR:365.7000 R:500.0000 rate:1.0000 aloss:0.6230 eloss:5.1966 aloss2:14.5372 exploreP:0.0202\n",
      "Episode:345 meanR:369.3300 R:500.0000 rate:1.0000 aloss:0.6240 eloss:5.3449 aloss2:14.5150 exploreP:0.0197\n",
      "Episode:346 meanR:369.3300 R:500.0000 rate:1.0000 aloss:0.6153 eloss:5.4615 aloss2:14.5610 exploreP:0.0192\n",
      "Episode:347 meanR:372.9900 R:500.0000 rate:1.0000 aloss:0.6090 eloss:5.5951 aloss2:14.6792 exploreP:0.0188\n",
      "Episode:348 meanR:377.3600 R:500.0000 rate:1.0000 aloss:0.6154 eloss:5.3851 aloss2:14.7883 exploreP:0.0183\n",
      "Episode:349 meanR:381.3600 R:500.0000 rate:1.0000 aloss:0.6021 eloss:5.5768 aloss2:14.8391 exploreP:0.0179\n",
      "Episode:350 meanR:382.5500 R:500.0000 rate:1.0000 aloss:0.6138 eloss:5.4822 aloss2:14.8537 exploreP:0.0176\n",
      "Episode:351 meanR:384.9100 R:369.0000 rate:0.7380 aloss:0.5999 eloss:5.6379 aloss2:14.8786 exploreP:0.0173\n",
      "Episode:352 meanR:386.1400 R:500.0000 rate:1.0000 aloss:0.6088 eloss:5.4497 aloss2:14.9371 exploreP:0.0169\n",
      "Episode:353 meanR:389.7800 R:500.0000 rate:1.0000 aloss:0.6074 eloss:5.4969 aloss2:14.9499 exploreP:0.0166\n",
      "Episode:354 meanR:393.7600 R:500.0000 rate:1.0000 aloss:0.6099 eloss:5.5192 aloss2:14.8901 exploreP:0.0163\n",
      "Episode:355 meanR:398.2000 R:500.0000 rate:1.0000 aloss:0.6061 eloss:5.5746 aloss2:15.0128 exploreP:0.0160\n",
      "Episode:356 meanR:402.3100 R:500.0000 rate:1.0000 aloss:0.6105 eloss:5.4533 aloss2:14.9248 exploreP:0.0157\n",
      "Episode:357 meanR:404.3300 R:426.0000 rate:0.8520 aloss:0.5960 eloss:5.7447 aloss2:15.0986 exploreP:0.0154\n",
      "Episode:358 meanR:408.6900 R:500.0000 rate:1.0000 aloss:0.6067 eloss:5.6218 aloss2:14.8695 exploreP:0.0152\n",
      "Episode:359 meanR:412.7000 R:500.0000 rate:1.0000 aloss:0.6038 eloss:5.5329 aloss2:15.0544 exploreP:0.0149\n",
      "Episode:360 meanR:416.9300 R:500.0000 rate:1.0000 aloss:0.5886 eloss:5.8399 aloss2:15.0200 exploreP:0.0147\n",
      "Episode:361 meanR:419.6100 R:500.0000 rate:1.0000 aloss:0.5975 eloss:5.6219 aloss2:15.0239 exploreP:0.0144\n",
      "Episode:362 meanR:423.3500 R:434.0000 rate:0.8680 aloss:0.5943 eloss:5.6287 aloss2:14.8793 exploreP:0.0143\n",
      "Episode:363 meanR:428.1900 R:500.0000 rate:1.0000 aloss:0.5929 eloss:5.7094 aloss2:15.0327 exploreP:0.0141\n",
      "Episode:364 meanR:432.2700 R:500.0000 rate:1.0000 aloss:0.5893 eloss:5.7402 aloss2:14.9701 exploreP:0.0139\n",
      "Episode:365 meanR:434.9800 R:500.0000 rate:1.0000 aloss:0.5907 eloss:5.7450 aloss2:14.9635 exploreP:0.0137\n",
      "Episode:366 meanR:438.2100 R:500.0000 rate:1.0000 aloss:0.5891 eloss:5.6670 aloss2:14.9165 exploreP:0.0135\n",
      "Episode:367 meanR:442.6400 R:500.0000 rate:1.0000 aloss:0.5941 eloss:5.6975 aloss2:15.0480 exploreP:0.0133\n",
      "Episode:368 meanR:443.3500 R:500.0000 rate:1.0000 aloss:0.5742 eloss:5.9488 aloss2:15.0774 exploreP:0.0132\n",
      "Episode:369 meanR:443.3500 R:500.0000 rate:1.0000 aloss:0.5746 eloss:5.9022 aloss2:15.1250 exploreP:0.0130\n",
      "Episode:370 meanR:448.2400 R:500.0000 rate:1.0000 aloss:0.5747 eloss:6.0392 aloss2:14.9766 exploreP:0.0129\n",
      "Episode:371 meanR:450.0100 R:500.0000 rate:1.0000 aloss:0.5975 eloss:5.7456 aloss2:14.9525 exploreP:0.0127\n",
      "Episode:372 meanR:450.7800 R:500.0000 rate:1.0000 aloss:0.5827 eloss:5.8239 aloss2:15.1151 exploreP:0.0126\n",
      "Episode:373 meanR:454.7200 R:500.0000 rate:1.0000 aloss:0.5825 eloss:5.7886 aloss2:15.1018 exploreP:0.0125\n",
      "Episode:374 meanR:454.7200 R:500.0000 rate:1.0000 aloss:0.5661 eloss:6.1176 aloss2:15.0663 exploreP:0.0123\n",
      "Episode:375 meanR:454.7200 R:500.0000 rate:1.0000 aloss:0.5821 eloss:5.9323 aloss2:14.9600 exploreP:0.0122\n",
      "Episode:376 meanR:457.1700 R:500.0000 rate:1.0000 aloss:0.5680 eloss:5.9332 aloss2:15.0171 exploreP:0.0121\n",
      "Episode:377 meanR:459.3800 R:500.0000 rate:1.0000 aloss:0.5734 eloss:5.8943 aloss2:15.0970 exploreP:0.0120\n",
      "Episode:378 meanR:461.8600 R:500.0000 rate:1.0000 aloss:0.5619 eloss:6.0246 aloss2:15.0354 exploreP:0.0119\n",
      "Episode:379 meanR:463.2000 R:500.0000 rate:1.0000 aloss:0.5711 eloss:6.0028 aloss2:15.0112 exploreP:0.0118\n",
      "Episode:380 meanR:463.2000 R:500.0000 rate:1.0000 aloss:0.5611 eloss:6.1156 aloss2:14.9821 exploreP:0.0117\n",
      "Episode:381 meanR:463.2000 R:500.0000 rate:1.0000 aloss:0.5572 eloss:6.2672 aloss2:14.8873 exploreP:0.0116\n",
      "Episode:382 meanR:465.5300 R:500.0000 rate:1.0000 aloss:0.5653 eloss:6.1269 aloss2:14.8064 exploreP:0.0116\n",
      "Episode:383 meanR:467.3800 R:500.0000 rate:1.0000 aloss:0.5508 eloss:6.3930 aloss2:14.7587 exploreP:0.0115\n",
      "Episode:384 meanR:470.4200 R:500.0000 rate:1.0000 aloss:0.5628 eloss:6.1059 aloss2:14.7752 exploreP:0.0114\n",
      "Episode:385 meanR:471.2200 R:500.0000 rate:1.0000 aloss:0.5555 eloss:6.1568 aloss2:14.6983 exploreP:0.0113\n",
      "Episode:386 meanR:473.9400 R:500.0000 rate:1.0000 aloss:0.5655 eloss:6.0697 aloss2:14.8071 exploreP:0.0113\n",
      "Episode:387 meanR:476.3600 R:500.0000 rate:1.0000 aloss:0.5444 eloss:6.3585 aloss2:14.7204 exploreP:0.0112\n",
      "Episode:388 meanR:480.7200 R:500.0000 rate:1.0000 aloss:0.5419 eloss:6.3067 aloss2:14.6633 exploreP:0.0112\n",
      "Episode:389 meanR:481.6000 R:500.0000 rate:1.0000 aloss:0.5427 eloss:6.4027 aloss2:14.6288 exploreP:0.0111\n",
      "Episode:390 meanR:481.6000 R:500.0000 rate:1.0000 aloss:0.5572 eloss:6.1377 aloss2:14.5645 exploreP:0.0111\n",
      "Episode:391 meanR:481.6000 R:500.0000 rate:1.0000 aloss:0.5471 eloss:6.2098 aloss2:14.6226 exploreP:0.0110\n",
      "Episode:392 meanR:484.8900 R:500.0000 rate:1.0000 aloss:0.5323 eloss:6.4880 aloss2:14.5957 exploreP:0.0110\n"
     ]
    },
    {
     "name": "stdout",
     "output_type": "stream",
     "text": [
      "Episode:393 meanR:487.2700 R:500.0000 rate:1.0000 aloss:0.5298 eloss:6.5787 aloss2:14.4237 exploreP:0.0109\n",
      "Episode:394 meanR:487.5700 R:500.0000 rate:1.0000 aloss:0.5342 eloss:6.3697 aloss2:14.3925 exploreP:0.0109\n",
      "Episode:395 meanR:489.1100 R:500.0000 rate:1.0000 aloss:0.5352 eloss:6.4447 aloss2:14.3144 exploreP:0.0108\n",
      "Episode:396 meanR:492.6700 R:500.0000 rate:1.0000 aloss:0.5380 eloss:6.3722 aloss2:14.2490 exploreP:0.0108\n",
      "Episode:397 meanR:492.6700 R:500.0000 rate:1.0000 aloss:0.5341 eloss:6.3374 aloss2:14.3962 exploreP:0.0107\n",
      "Episode:398 meanR:495.1600 R:500.0000 rate:1.0000 aloss:0.5134 eloss:6.7322 aloss2:14.2882 exploreP:0.0107\n",
      "Episode:399 meanR:495.1600 R:500.0000 rate:1.0000 aloss:0.5316 eloss:6.3928 aloss2:14.0750 exploreP:0.0107\n",
      "Episode:400 meanR:495.1600 R:500.0000 rate:1.0000 aloss:0.5301 eloss:6.4530 aloss2:14.0142 exploreP:0.0106\n",
      "Episode:401 meanR:495.1600 R:500.0000 rate:1.0000 aloss:0.5227 eloss:6.5008 aloss2:14.0184 exploreP:0.0106\n",
      "Episode:402 meanR:496.6300 R:500.0000 rate:1.0000 aloss:0.5283 eloss:6.4414 aloss2:13.9802 exploreP:0.0106\n",
      "Episode:403 meanR:496.6300 R:500.0000 rate:1.0000 aloss:0.5234 eloss:6.5564 aloss2:13.9127 exploreP:0.0105\n",
      "Episode:404 meanR:496.6300 R:500.0000 rate:1.0000 aloss:0.5153 eloss:6.5973 aloss2:13.8192 exploreP:0.0105\n",
      "Episode:405 meanR:497.2900 R:500.0000 rate:1.0000 aloss:0.5121 eloss:6.6481 aloss2:13.7827 exploreP:0.0105\n",
      "Episode:406 meanR:497.2900 R:500.0000 rate:1.0000 aloss:0.5078 eloss:6.6472 aloss2:13.6975 exploreP:0.0105\n",
      "Episode:407 meanR:497.2900 R:500.0000 rate:1.0000 aloss:0.5210 eloss:6.4523 aloss2:13.6805 exploreP:0.0104\n",
      "Episode:408 meanR:497.2900 R:500.0000 rate:1.0000 aloss:0.5039 eloss:6.6839 aloss2:13.5889 exploreP:0.0104\n",
      "Episode:409 meanR:497.2900 R:500.0000 rate:1.0000 aloss:0.5176 eloss:6.4420 aloss2:13.4971 exploreP:0.0104\n",
      "Episode:410 meanR:497.2900 R:500.0000 rate:1.0000 aloss:0.4811 eloss:6.8911 aloss2:13.5517 exploreP:0.0104\n",
      "Episode:411 meanR:497.2900 R:500.0000 rate:1.0000 aloss:0.5287 eloss:6.4453 aloss2:13.3025 exploreP:0.0104\n",
      "Episode:412 meanR:497.2900 R:500.0000 rate:1.0000 aloss:0.4979 eloss:6.6539 aloss2:13.4314 exploreP:0.0103\n",
      "Episode:413 meanR:497.2900 R:500.0000 rate:1.0000 aloss:0.5052 eloss:6.6381 aloss2:13.2217 exploreP:0.0103\n",
      "Episode:414 meanR:497.2900 R:500.0000 rate:1.0000 aloss:0.4945 eloss:6.6692 aloss2:13.1973 exploreP:0.0103\n",
      "Episode:415 meanR:497.2900 R:500.0000 rate:1.0000 aloss:0.4972 eloss:6.6505 aloss2:13.0606 exploreP:0.0103\n",
      "Episode:416 meanR:497.2900 R:500.0000 rate:1.0000 aloss:0.5010 eloss:6.6059 aloss2:13.0560 exploreP:0.0103\n",
      "Episode:417 meanR:497.2900 R:500.0000 rate:1.0000 aloss:0.4938 eloss:6.6745 aloss2:12.9392 exploreP:0.0103\n",
      "Episode:418 meanR:497.2900 R:500.0000 rate:1.0000 aloss:0.4900 eloss:6.7276 aloss2:12.8932 exploreP:0.0103\n",
      "Episode:419 meanR:495.8700 R:358.0000 rate:0.7160 aloss:0.4904 eloss:6.6399 aloss2:12.8230 exploreP:0.0102\n",
      "Episode:420 meanR:495.8700 R:500.0000 rate:1.0000 aloss:0.4845 eloss:6.8135 aloss2:12.7507 exploreP:0.0102\n",
      "Episode:421 meanR:495.8700 R:500.0000 rate:1.0000 aloss:0.4822 eloss:6.7665 aloss2:12.7028 exploreP:0.0102\n",
      "Episode:422 meanR:495.8700 R:500.0000 rate:1.0000 aloss:0.4833 eloss:6.7252 aloss2:12.6159 exploreP:0.0102\n",
      "Episode:423 meanR:495.8700 R:500.0000 rate:1.0000 aloss:0.4820 eloss:6.6725 aloss2:12.5577 exploreP:0.0102\n",
      "Episode:424 meanR:495.8700 R:500.0000 rate:1.0000 aloss:0.4847 eloss:6.6088 aloss2:12.6182 exploreP:0.0102\n",
      "Episode:425 meanR:495.8700 R:500.0000 rate:1.0000 aloss:0.4822 eloss:6.6687 aloss2:12.5369 exploreP:0.0102\n",
      "Episode:426 meanR:495.8700 R:500.0000 rate:1.0000 aloss:0.4718 eloss:6.6969 aloss2:12.4893 exploreP:0.0102\n",
      "Episode:427 meanR:495.8700 R:500.0000 rate:1.0000 aloss:0.4814 eloss:6.5491 aloss2:12.4384 exploreP:0.0102\n",
      "Episode:428 meanR:495.8700 R:500.0000 rate:1.0000 aloss:0.4794 eloss:6.5674 aloss2:12.4019 exploreP:0.0102\n",
      "Episode:429 meanR:495.8700 R:500.0000 rate:1.0000 aloss:0.4788 eloss:6.6144 aloss2:12.2977 exploreP:0.0102\n",
      "Episode:430 meanR:495.8700 R:500.0000 rate:1.0000 aloss:0.4703 eloss:6.6908 aloss2:12.2786 exploreP:0.0101\n",
      "Episode:431 meanR:495.8700 R:500.0000 rate:1.0000 aloss:0.4711 eloss:6.7157 aloss2:12.1451 exploreP:0.0101\n",
      "Episode:432 meanR:495.8700 R:500.0000 rate:1.0000 aloss:0.4695 eloss:6.7325 aloss2:12.1125 exploreP:0.0101\n",
      "Episode:433 meanR:495.8700 R:500.0000 rate:1.0000 aloss:0.4638 eloss:6.8456 aloss2:11.9919 exploreP:0.0101\n",
      "Episode:434 meanR:495.8700 R:500.0000 rate:1.0000 aloss:0.4633 eloss:6.7279 aloss2:11.9485 exploreP:0.0101\n",
      "Episode:435 meanR:495.8700 R:500.0000 rate:1.0000 aloss:0.4716 eloss:6.7117 aloss2:11.8571 exploreP:0.0101\n",
      "Episode:436 meanR:495.8700 R:500.0000 rate:1.0000 aloss:0.4721 eloss:6.6386 aloss2:11.8116 exploreP:0.0101\n",
      "Episode:437 meanR:495.8700 R:500.0000 rate:1.0000 aloss:0.4633 eloss:6.8632 aloss2:11.7141 exploreP:0.0101\n",
      "Episode:438 meanR:495.8700 R:500.0000 rate:1.0000 aloss:0.4647 eloss:6.7349 aloss2:11.7238 exploreP:0.0101\n",
      "Episode:439 meanR:495.8700 R:500.0000 rate:1.0000 aloss:0.4685 eloss:6.7063 aloss2:11.5971 exploreP:0.0101\n",
      "Episode:440 meanR:495.8700 R:500.0000 rate:1.0000 aloss:0.4647 eloss:6.8536 aloss2:11.4537 exploreP:0.0101\n",
      "Episode:441 meanR:495.8700 R:500.0000 rate:1.0000 aloss:0.4547 eloss:6.8231 aloss2:11.4443 exploreP:0.0101\n",
      "Episode:442 meanR:495.8700 R:500.0000 rate:1.0000 aloss:0.4513 eloss:6.8973 aloss2:11.3968 exploreP:0.0101\n",
      "Episode:443 meanR:495.8700 R:500.0000 rate:1.0000 aloss:0.4606 eloss:6.7621 aloss2:11.3028 exploreP:0.0101\n",
      "Episode:444 meanR:495.8700 R:500.0000 rate:1.0000 aloss:0.4666 eloss:6.8636 aloss2:11.1987 exploreP:0.0101\n",
      "Episode:445 meanR:495.8700 R:500.0000 rate:1.0000 aloss:0.4572 eloss:6.9366 aloss2:11.0284 exploreP:0.0101\n",
      "Episode:446 meanR:495.8700 R:500.0000 rate:1.0000 aloss:0.4575 eloss:6.8411 aloss2:11.0995 exploreP:0.0101\n",
      "Episode:447 meanR:495.8700 R:500.0000 rate:1.0000 aloss:0.4436 eloss:6.9454 aloss2:11.2226 exploreP:0.0101\n",
      "Episode:448 meanR:495.8700 R:500.0000 rate:1.0000 aloss:0.4555 eloss:6.8479 aloss2:11.0638 exploreP:0.0101\n",
      "Episode:449 meanR:495.8700 R:500.0000 rate:1.0000 aloss:0.4427 eloss:6.9875 aloss2:11.0201 exploreP:0.0101\n",
      "Episode:450 meanR:495.8700 R:500.0000 rate:1.0000 aloss:0.4487 eloss:6.9302 aloss2:10.8870 exploreP:0.0101\n",
      "Episode:451 meanR:497.1800 R:500.0000 rate:1.0000 aloss:0.4515 eloss:6.9834 aloss2:10.7280 exploreP:0.0101\n",
      "Episode:452 meanR:497.1800 R:500.0000 rate:1.0000 aloss:0.4470 eloss:7.0282 aloss2:10.6891 exploreP:0.0100\n",
      "Episode:453 meanR:497.1800 R:500.0000 rate:1.0000 aloss:0.4353 eloss:7.1031 aloss2:10.6306 exploreP:0.0100\n",
      "Episode:454 meanR:497.1800 R:500.0000 rate:1.0000 aloss:0.4376 eloss:7.1291 aloss2:10.5126 exploreP:0.0100\n",
      "Episode:455 meanR:497.1800 R:500.0000 rate:1.0000 aloss:0.4478 eloss:6.9977 aloss2:10.5173 exploreP:0.0100\n",
      "Episode:456 meanR:497.1800 R:500.0000 rate:1.0000 aloss:0.4414 eloss:7.1232 aloss2:10.4215 exploreP:0.0100\n",
      "Episode:457 meanR:497.9200 R:500.0000 rate:1.0000 aloss:0.4346 eloss:7.1545 aloss2:10.3198 exploreP:0.0100\n",
      "Episode:458 meanR:497.9200 R:500.0000 rate:1.0000 aloss:0.4348 eloss:7.1063 aloss2:10.3686 exploreP:0.0100\n",
      "Episode:459 meanR:497.9200 R:500.0000 rate:1.0000 aloss:0.4294 eloss:7.1576 aloss2:10.2987 exploreP:0.0100\n",
      "Episode:460 meanR:497.9200 R:500.0000 rate:1.0000 aloss:0.4314 eloss:7.1726 aloss2:10.1571 exploreP:0.0100\n",
      "Episode:461 meanR:497.9200 R:500.0000 rate:1.0000 aloss:0.4284 eloss:7.2218 aloss2:10.1035 exploreP:0.0100\n",
      "Episode:462 meanR:498.5800 R:500.0000 rate:1.0000 aloss:0.4276 eloss:7.2165 aloss2:10.0188 exploreP:0.0100\n",
      "Episode:463 meanR:498.5800 R:500.0000 rate:1.0000 aloss:0.4226 eloss:7.2569 aloss2:9.9656 exploreP:0.0100\n",
      "Episode:464 meanR:498.5800 R:500.0000 rate:1.0000 aloss:0.4247 eloss:7.1976 aloss2:9.8401 exploreP:0.0100\n",
      "Episode:465 meanR:498.5800 R:500.0000 rate:1.0000 aloss:0.4312 eloss:7.1887 aloss2:9.9699 exploreP:0.0100\n",
      "Episode:466 meanR:498.5800 R:500.0000 rate:1.0000 aloss:0.4245 eloss:7.2410 aloss2:9.8322 exploreP:0.0100\n",
      "Episode:467 meanR:498.5800 R:500.0000 rate:1.0000 aloss:0.4262 eloss:7.2107 aloss2:9.7692 exploreP:0.0100\n",
      "Episode:468 meanR:498.5800 R:500.0000 rate:1.0000 aloss:0.4251 eloss:7.2110 aloss2:9.7811 exploreP:0.0100\n",
      "Episode:469 meanR:498.5800 R:500.0000 rate:1.0000 aloss:0.4196 eloss:7.2681 aloss2:9.6854 exploreP:0.0100\n"
     ]
    },
    {
     "name": "stdout",
     "output_type": "stream",
     "text": [
      "Episode:470 meanR:498.5800 R:500.0000 rate:1.0000 aloss:0.4230 eloss:7.2031 aloss2:9.6399 exploreP:0.0100\n",
      "Episode:471 meanR:498.5800 R:500.0000 rate:1.0000 aloss:0.4183 eloss:7.2240 aloss2:9.5864 exploreP:0.0100\n",
      "Episode:472 meanR:498.5800 R:500.0000 rate:1.0000 aloss:0.4229 eloss:7.1853 aloss2:9.6044 exploreP:0.0100\n",
      "Episode:473 meanR:498.5800 R:500.0000 rate:1.0000 aloss:0.4186 eloss:7.2024 aloss2:9.5583 exploreP:0.0100\n",
      "Episode:474 meanR:498.5800 R:500.0000 rate:1.0000 aloss:0.4150 eloss:7.1845 aloss2:9.5169 exploreP:0.0100\n",
      "Episode:475 meanR:498.5800 R:500.0000 rate:1.0000 aloss:0.4154 eloss:7.1907 aloss2:9.5559 exploreP:0.0100\n",
      "Episode:476 meanR:498.5800 R:500.0000 rate:1.0000 aloss:0.4158 eloss:7.2073 aloss2:9.4809 exploreP:0.0100\n",
      "Episode:477 meanR:498.5800 R:500.0000 rate:1.0000 aloss:0.4139 eloss:7.1866 aloss2:9.5274 exploreP:0.0100\n",
      "Episode:478 meanR:498.5800 R:500.0000 rate:1.0000 aloss:0.4146 eloss:7.1682 aloss2:9.5167 exploreP:0.0100\n",
      "Episode:479 meanR:498.5800 R:500.0000 rate:1.0000 aloss:0.4148 eloss:7.1737 aloss2:9.4631 exploreP:0.0100\n",
      "Episode:480 meanR:498.5800 R:500.0000 rate:1.0000 aloss:0.4125 eloss:7.1397 aloss2:9.4640 exploreP:0.0100\n",
      "Episode:481 meanR:498.5800 R:500.0000 rate:1.0000 aloss:0.4132 eloss:7.1618 aloss2:9.4209 exploreP:0.0100\n",
      "Episode:482 meanR:498.5800 R:500.0000 rate:1.0000 aloss:0.4108 eloss:7.1549 aloss2:9.4369 exploreP:0.0100\n",
      "Episode:483 meanR:498.5800 R:500.0000 rate:1.0000 aloss:0.4105 eloss:7.1761 aloss2:9.4102 exploreP:0.0100\n",
      "Episode:484 meanR:498.5800 R:500.0000 rate:1.0000 aloss:0.4148 eloss:7.1572 aloss2:9.3742 exploreP:0.0100\n",
      "Episode:485 meanR:498.5800 R:500.0000 rate:1.0000 aloss:0.4114 eloss:7.1520 aloss2:9.3865 exploreP:0.0100\n",
      "Episode:486 meanR:498.5800 R:500.0000 rate:1.0000 aloss:0.4098 eloss:7.1409 aloss2:9.3734 exploreP:0.0100\n",
      "Episode:487 meanR:498.5800 R:500.0000 rate:1.0000 aloss:0.4105 eloss:7.1444 aloss2:9.3989 exploreP:0.0100\n",
      "Episode:488 meanR:498.5800 R:500.0000 rate:1.0000 aloss:0.4110 eloss:7.1056 aloss2:9.3537 exploreP:0.0100\n",
      "Episode:489 meanR:498.5800 R:500.0000 rate:1.0000 aloss:0.4080 eloss:7.1258 aloss2:9.4270 exploreP:0.0100\n",
      "Episode:490 meanR:498.5800 R:500.0000 rate:1.0000 aloss:0.4090 eloss:7.1251 aloss2:9.4492 exploreP:0.0100\n",
      "Episode:491 meanR:498.5800 R:500.0000 rate:1.0000 aloss:0.4095 eloss:7.1353 aloss2:9.3651 exploreP:0.0100\n",
      "Episode:492 meanR:498.5800 R:500.0000 rate:1.0000 aloss:0.4104 eloss:7.1274 aloss2:9.3554 exploreP:0.0100\n",
      "Episode:493 meanR:498.5800 R:500.0000 rate:1.0000 aloss:0.4068 eloss:7.1044 aloss2:9.3736 exploreP:0.0100\n",
      "Episode:494 meanR:498.5800 R:500.0000 rate:1.0000 aloss:0.4074 eloss:7.0931 aloss2:9.3783 exploreP:0.0100\n",
      "Episode:495 meanR:498.5800 R:500.0000 rate:1.0000 aloss:0.4068 eloss:7.1192 aloss2:9.3484 exploreP:0.0100\n",
      "Episode:496 meanR:498.5800 R:500.0000 rate:1.0000 aloss:0.4067 eloss:7.0905 aloss2:9.3867 exploreP:0.0100\n",
      "Episode:497 meanR:498.5800 R:500.0000 rate:1.0000 aloss:0.4043 eloss:7.0928 aloss2:9.3641 exploreP:0.0100\n",
      "Episode:498 meanR:498.5800 R:500.0000 rate:1.0000 aloss:0.4064 eloss:7.1030 aloss2:9.3770 exploreP:0.0100\n",
      "Episode:499 meanR:498.5800 R:500.0000 rate:1.0000 aloss:0.4041 eloss:7.0670 aloss2:9.3932 exploreP:0.0100\n",
      "Episode:500 meanR:498.5800 R:500.0000 rate:1.0000 aloss:0.4057 eloss:7.0566 aloss2:9.3508 exploreP:0.0100\n",
      "Episode:501 meanR:498.5800 R:500.0000 rate:1.0000 aloss:0.4044 eloss:7.0665 aloss2:9.3784 exploreP:0.0100\n",
      "Episode:502 meanR:498.5800 R:500.0000 rate:1.0000 aloss:0.4044 eloss:7.0667 aloss2:9.3586 exploreP:0.0100\n",
      "Episode:503 meanR:498.5800 R:500.0000 rate:1.0000 aloss:0.4030 eloss:7.0322 aloss2:9.3818 exploreP:0.0100\n",
      "Episode:504 meanR:498.5800 R:500.0000 rate:1.0000 aloss:0.4036 eloss:7.0457 aloss2:9.3728 exploreP:0.0100\n",
      "Episode:505 meanR:498.5800 R:500.0000 rate:1.0000 aloss:0.4051 eloss:7.0353 aloss2:9.3700 exploreP:0.0100\n",
      "Episode:506 meanR:498.5800 R:500.0000 rate:1.0000 aloss:0.4049 eloss:7.0212 aloss2:9.3682 exploreP:0.0100\n",
      "Episode:507 meanR:498.5800 R:500.0000 rate:1.0000 aloss:0.4051 eloss:7.0111 aloss2:9.4244 exploreP:0.0100\n",
      "Episode:508 meanR:498.5800 R:500.0000 rate:1.0000 aloss:0.4036 eloss:6.9987 aloss2:9.4389 exploreP:0.0100\n",
      "Episode:509 meanR:498.5800 R:500.0000 rate:1.0000 aloss:0.4038 eloss:6.9776 aloss2:9.4231 exploreP:0.0100\n",
      "Episode:510 meanR:498.5800 R:500.0000 rate:1.0000 aloss:0.4051 eloss:7.0077 aloss2:9.3326 exploreP:0.0100\n",
      "Episode:511 meanR:498.5800 R:500.0000 rate:1.0000 aloss:0.4038 eloss:6.9508 aloss2:9.3724 exploreP:0.0100\n",
      "Episode:512 meanR:498.5800 R:500.0000 rate:1.0000 aloss:0.4045 eloss:6.9615 aloss2:9.3801 exploreP:0.0100\n",
      "Episode:513 meanR:498.5800 R:500.0000 rate:1.0000 aloss:0.4051 eloss:6.9716 aloss2:9.4265 exploreP:0.0100\n",
      "Episode:514 meanR:498.5800 R:500.0000 rate:1.0000 aloss:0.4044 eloss:6.9438 aloss2:9.3831 exploreP:0.0100\n",
      "Episode:515 meanR:498.5800 R:500.0000 rate:1.0000 aloss:0.4054 eloss:6.9486 aloss2:9.4362 exploreP:0.0100\n",
      "Episode:516 meanR:498.5800 R:500.0000 rate:1.0000 aloss:0.4066 eloss:6.9540 aloss2:9.3779 exploreP:0.0100\n",
      "Episode:517 meanR:498.5800 R:500.0000 rate:1.0000 aloss:0.4079 eloss:6.9295 aloss2:9.3577 exploreP:0.0100\n",
      "Episode:518 meanR:498.5800 R:500.0000 rate:1.0000 aloss:0.4050 eloss:6.9459 aloss2:9.3744 exploreP:0.0100\n",
      "Episode:519 meanR:500.0000 R:500.0000 rate:1.0000 aloss:0.4078 eloss:6.9254 aloss2:9.4369 exploreP:0.0100\n"
     ]
    }
   ],
   "source": [
    "# Save/load the model and save for plotting\n",
    "saver = tf.train.Saver()\n",
    "episode_rewards_list, rewards_list = [], []\n",
    "aloss_list, eloss_list, aloss2_list = [], [], []\n",
    "\n",
    "# TF session for training\n",
    "with tf.Session(graph=graph) as sess:\n",
    "    sess.run(tf.global_variables_initializer())\n",
    "    #saver.restore(sess, 'checkpoints/model.ckpt')    \n",
    "    #saver.restore(sess, tf.train.latest_checkpoint('checkpoints'))\n",
    "    total_step = 0 # Explore or exploit parameter\n",
    "    episode_reward = deque(maxlen=100) # 100 episodes for running average/running mean/window\n",
    "\n",
    "    # Training episodes/epochs\n",
    "    for ep in range(11111):\n",
    "        aloss_batch, eloss_batch, aloss2_batch = [], [], []\n",
    "        total_reward = 0\n",
    "        state = env.reset()\n",
    "        rate = -1\n",
    "\n",
    "        # Training steps/batches\n",
    "        for num_step in range(11111):\n",
    "            # Explore (env) or Exploit (model)\n",
    "            total_step += 1\n",
    "            explore_p = explore_stop + (explore_start - explore_stop) * np.exp(-decay_rate * total_step) \n",
    "            if explore_p > np.random.rand():\n",
    "                action = env.action_space.sample()\n",
    "            else:\n",
    "                action_logits = sess.run(model.actions_logits, feed_dict={model.states: state.reshape([1, -1])})\n",
    "                action = np.argmax(action_logits)\n",
    "            next_state, reward, done, _ = env.step(action)\n",
    "            memory.buffer.append([state, action, next_state, reward, float(done), rate])\n",
    "            total_reward += reward\n",
    "            state = next_state\n",
    "            \n",
    "            # Online policy/on-policy/online training\n",
    "            states, actions, next_states, rewards, dones, rates = minibacth(memory=memory)\n",
    "            feed_dict = {model.states: states, model.actions: actions, model.next_states: next_states,\n",
    "                         model.rewards: rewards, model.dones: dones, model.rates: rates}\n",
    "            aloss, _ = sess.run([model.a_loss, model.a_opt], feed_dict)\n",
    "            eloss, _ = sess.run([model.e_loss, model.e_opt], feed_dict)\n",
    "            rewards_in = sess.run(model.rewards_in, feed_dict)\n",
    "            aloss2, _ = sess.run([model.a_loss2, model.a_opt2], feed_dict)\n",
    "            #print('rewards_in.mean():', rewards_in.mean())\n",
    "            aloss_batch.append(aloss)\n",
    "            eloss_batch.append(eloss)\n",
    "            aloss2_batch.append(aloss2)\n",
    "            # End of episode/result/success rate available\n",
    "            if done is True:\n",
    "                # Rating the latest played episode\n",
    "                rate = total_reward/500 # update rate at the end/ when episode is done\n",
    "                for idx in range(num_step): # episode length\n",
    "                    if memory.buffer[-1-idx][-1] == -1: # double-check the landmark/marked indexes\n",
    "                        memory.buffer[-1-idx][-1] = rate # rate the trajectory/data\n",
    "                break\n",
    "\n",
    "        # Print out\n",
    "        episode_reward.append(total_reward)\n",
    "        print('Episode:{}'.format(ep),\n",
    "              'meanR:{:.4f}'.format(np.mean(episode_reward)),\n",
    "              'R:{:.4f}'.format(total_reward),\n",
    "              'rate:{:.4f}'.format(rate),\n",
    "              'aloss:{:.4f}'.format(np.mean(aloss_batch)),\n",
    "              'eloss:{:.4f}'.format(np.mean(eloss_batch)),\n",
    "              'aloss2:{:.4f}'.format(np.mean(aloss2_batch)),\n",
    "              'exploreP:{:.4f}'.format(explore_p))\n",
    "\n",
    "        # Ploting out\n",
    "        episode_rewards_list.append([ep, np.mean(episode_reward)])\n",
    "        rewards_list.append([ep, total_reward])\n",
    "        aloss_list.append([ep, np.mean(aloss_batch)])\n",
    "        eloss_list.append([ep, np.mean(eloss_batch)])\n",
    "        aloss2_list.append([ep, np.mean(aloss2_batch)])\n",
    "        \n",
    "        # Break episode/epoch loop\n",
    "        #The task is episodic, and in order to solve the environment, \n",
    "        #your agent must get an average score of 500 over 100 consecutive episodes.\n",
    "        if np.mean(episode_reward) >= 500:\n",
    "            break\n",
    "            \n",
    "    # At the end of all training episodes/epochs\n",
    "    saver.save(sess, 'checkpoints/model.ckpt')"
   ]
  },
  {
   "cell_type": "markdown",
   "metadata": {},
   "source": [
    "# Visualizing training\n",
    "\n",
    "Below I'll plot the total rewards for each episode. I'm plotting the rolling average too, in blue."
   ]
  },
  {
   "cell_type": "code",
   "execution_count": 16,
   "metadata": {},
   "outputs": [],
   "source": [
    "import matplotlib.pyplot as plt\n",
    "%matplotlib inline\n",
    "\n",
    "def running_mean(x, N):\n",
    "    cumsum = np.cumsum(np.insert(x, 0, 0)) \n",
    "    return (cumsum[N:] - cumsum[:-N]) / N "
   ]
  },
  {
   "cell_type": "code",
   "execution_count": 17,
   "metadata": {},
   "outputs": [
    {
     "data": {
      "text/plain": [
       "Text(0, 0.5, 'Total rewards')"
      ]
     },
     "execution_count": 17,
     "metadata": {},
     "output_type": "execute_result"
    },
    {
     "data": {
      "image/png": "[encoded data removed]",
      "text/plain": [
       "<Figure size 432x288 with 1 Axes>"
      ]
     },
     "metadata": {
      "needs_background": "light"
     },
     "output_type": "display_data"
    }
   ],
   "source": [
    "eps, arr = np.array(episode_rewards_list).T\n",
    "smoothed_arr = running_mean(arr, 10)\n",
    "plt.plot(eps[-len(smoothed_arr):], smoothed_arr)\n",
    "plt.plot(eps, arr, color='grey', alpha=0.3)\n",
    "plt.xlabel('Episode')\n",
    "plt.ylabel('Total rewards')"
   ]
  },
  {
   "cell_type": "code",
   "execution_count": 22,
   "metadata": {},
   "outputs": [
    {
     "data": {
      "text/plain": [
       "Text(0, 0.5, 'Total rewards')"
      ]
     },
     "execution_count": 22,
     "metadata": {},
     "output_type": "execute_result"
    },
    {
     "data": {
      "image/png": "[encoded data removed]",
      "text/plain": [
       "<Figure size 432x288 with 1 Axes>"
      ]
     },
     "metadata": {
      "needs_background": "light"
     },
     "output_type": "display_data"
    }
   ],
   "source": [
    "eps, arr = np.array(episode_rewards_list).T\n",
    "smoothed_arr = running_mean(arr, 10)\n",
    "plt.plot(eps[-len(smoothed_arr):], smoothed_arr)\n",
    "plt.plot(eps, arr, color='grey', alpha=0.3)\n",
    "plt.xlabel('Episode')\n",
    "plt.ylabel('Total rewards')"
   ]
  },
  {
   "cell_type": "code",
   "execution_count": 18,
   "metadata": {},
   "outputs": [
    {
     "data": {
      "text/plain": [
       "Text(0, 0.5, 'Total rewards')"
      ]
     },
     "execution_count": 18,
     "metadata": {},
     "output_type": "execute_result"
    },
    {
     "data": {
      "image/png": "[encoded data removed]",
      "text/plain": [
       "<Figure size 432x288 with 1 Axes>"
      ]
     },
     "metadata": {
      "needs_background": "light"
     },
     "output_type": "display_data"
    }
   ],
   "source": [
    "eps, arr = np.array(rewards_list).T\n",
    "smoothed_arr = running_mean(arr, 10)\n",
    "plt.plot(eps[-len(smoothed_arr):], smoothed_arr)\n",
    "plt.plot(eps, arr, color='grey', alpha=0.3)\n",
    "plt.xlabel('Episode')\n",
    "plt.ylabel('Total rewards')"
   ]
  },
  {
   "cell_type": "code",
   "execution_count": 23,
   "metadata": {},
   "outputs": [
    {
     "data": {
      "text/plain": [
       "Text(0, 0.5, 'Total rewards')"
      ]
     },
     "execution_count": 23,
     "metadata": {},
     "output_type": "execute_result"
    },
    {
     "data": {
      "image/png": "[encoded data removed]",
      "text/plain": [
       "<Figure size 432x288 with 1 Axes>"
      ]
     },
     "metadata": {
      "needs_background": "light"
     },
     "output_type": "display_data"
    }
   ],
   "source": [
    "eps, arr = np.array(rewards_list).T\n",
    "smoothed_arr = running_mean(arr, 10)\n",
    "plt.plot(eps[-len(smoothed_arr):], smoothed_arr)\n",
    "plt.plot(eps, arr, color='grey', alpha=0.3)\n",
    "plt.xlabel('Episode')\n",
    "plt.ylabel('Total rewards')"
   ]
  },
  {
   "cell_type": "code",
   "execution_count": 19,
   "metadata": {},
   "outputs": [
    {
     "data": {
      "text/plain": [
       "Text(0, 0.5, 'Act losses')"
      ]
     },
     "execution_count": 19,
     "metadata": {},
     "output_type": "execute_result"
    },
    {
     "data": {
      "image/png": "[encoded data removed]",
      "text/plain": [
       "<Figure size 432x288 with 1 Axes>"
      ]
     },
     "metadata": {
      "needs_background": "light"
     },
     "output_type": "display_data"
    }
   ],
   "source": [
    "eps, arr = np.array(aloss_list).T\n",
    "smoothed_arr = running_mean(arr, 10)\n",
    "plt.plot(eps[-len(smoothed_arr):], smoothed_arr)\n",
    "plt.plot(eps, arr, color='grey', alpha=0.3)\n",
    "plt.xlabel('Episode')\n",
    "plt.ylabel('Act losses')"
   ]
  },
  {
   "cell_type": "code",
   "execution_count": 24,
   "metadata": {},
   "outputs": [
    {
     "data": {
      "text/plain": [
       "Text(0, 0.5, 'Act losses')"
      ]
     },
     "execution_count": 24,
     "metadata": {},
     "output_type": "execute_result"
    },
    {
     "data": {
      "image/png": "[encoded data removed]",
      "text/plain": [
       "<Figure size 432x288 with 1 Axes>"
      ]
     },
     "metadata": {
      "needs_background": "light"
     },
     "output_type": "display_data"
    }
   ],
   "source": [
    "eps, arr = np.array(aloss_list).T\n",
    "smoothed_arr = running_mean(arr, 10)\n",
    "plt.plot(eps[-len(smoothed_arr):], smoothed_arr)\n",
    "plt.plot(eps, arr, color='grey', alpha=0.3)\n",
    "plt.xlabel('Episode')\n",
    "plt.ylabel('Act losses')"
   ]
  },
  {
   "cell_type": "code",
   "execution_count": 20,
   "metadata": {},
   "outputs": [
    {
     "data": {
      "text/plain": [
       "Text(0, 0.5, 'Env losses')"
      ]
     },
     "execution_count": 20,
     "metadata": {},
     "output_type": "execute_result"
    },
    {
     "data": {
      "image/png": "[encoded data removed]",
      "text/plain": [
       "<Figure size 432x288 with 1 Axes>"
      ]
     },
     "metadata": {
      "needs_background": "light"
     },
     "output_type": "display_data"
    }
   ],
   "source": [
    "eps, arr = np.array(eloss_list).T\n",
    "smoothed_arr = running_mean(arr, 10)\n",
    "plt.plot(eps[-len(smoothed_arr):], smoothed_arr)\n",
    "plt.plot(eps, arr, color='grey', alpha=0.3)\n",
    "plt.xlabel('Episode')\n",
    "plt.ylabel('Env losses')"
   ]
  },
  {
   "cell_type": "code",
   "execution_count": 25,
   "metadata": {},
   "outputs": [
    {
     "data": {
      "text/plain": [
       "Text(0, 0.5, 'Env losses')"
      ]
     },
     "execution_count": 25,
     "metadata": {},
     "output_type": "execute_result"
    },
    {
     "data": {
      "image/png": "[encoded data removed]",
      "text/plain": [
       "<Figure size 432x288 with 1 Axes>"
      ]
     },
     "metadata": {
      "needs_background": "light"
     },
     "output_type": "display_data"
    }
   ],
   "source": [
    "eps, arr = np.array(eloss_list).T\n",
    "smoothed_arr = running_mean(arr, 10)\n",
    "plt.plot(eps[-len(smoothed_arr):], smoothed_arr)\n",
    "plt.plot(eps, arr, color='grey', alpha=0.3)\n",
    "plt.xlabel('Episode')\n",
    "plt.ylabel('Env losses')"
   ]
  },
  {
   "cell_type": "code",
   "execution_count": 21,
   "metadata": {},
   "outputs": [
    {
     "data": {
      "text/plain": [
       "Text(0, 0.5, 'Act losses 2')"
      ]
     },
     "execution_count": 21,
     "metadata": {},
     "output_type": "execute_result"
    },
    {
     "data": {
      "image/png": "[encoded data removed]",
      "text/plain": [
       "<Figure size 432x288 with 1 Axes>"
      ]
     },
     "metadata": {
      "needs_background": "light"
     },
     "output_type": "display_data"
    }
   ],
   "source": [
    "eps, arr = np.array(aloss2_list).T\n",
    "smoothed_arr = running_mean(arr, 10)\n",
    "plt.plot(eps[-len(smoothed_arr):], smoothed_arr)\n",
    "plt.plot(eps, arr, color='grey', alpha=0.3)\n",
    "plt.xlabel('Episode')\n",
    "plt.ylabel('Act losses 2')"
   ]
  },
  {
   "cell_type": "code",
   "execution_count": 26,
   "metadata": {},
   "outputs": [
    {
     "data": {
      "text/plain": [
       "Text(0, 0.5, 'Act losses 2')"
      ]
     },
     "execution_count": 26,
     "metadata": {},
     "output_type": "execute_result"
    },
    {
     "data": {
      "image/png": "[encoded data removed]",
      "text/plain": [
       "<Figure size 432x288 with 1 Axes>"
      ]
     },
     "metadata": {
      "needs_background": "light"
     },
     "output_type": "display_data"
    }
   ],
   "source": [
    "eps, arr = np.array(aloss2_list).T\n",
    "smoothed_arr = running_mean(arr, 10)\n",
    "plt.plot(eps[-len(smoothed_arr):], smoothed_arr)\n",
    "plt.plot(eps, arr, color='grey', alpha=0.3)\n",
    "plt.xlabel('Episode')\n",
    "plt.ylabel('Act losses 2')"
   ]
  },
  {
   "cell_type": "markdown",
   "metadata": {},
   "source": [
    "## Testing\n",
    "\n",
    "Let's checkout how our trained agent plays the game."
   ]
  },
  {
   "cell_type": "code",
   "execution_count": 21,
   "metadata": {},
   "outputs": [
    {
     "name": "stdout",
     "output_type": "stream",
     "text": [
      "INFO:tensorflow:Restoring parameters from checkpoints/model.ckpt\n",
      "total_reward: 500.0\n",
      "total_reward: 500.0\n",
      "total_reward: 500.0\n",
      "total_reward: 500.0\n",
      "total_reward: 500.0\n",
      "total_reward: 500.0\n",
      "total_reward: 500.0\n",
      "total_reward: 500.0\n",
      "total_reward: 500.0\n",
      "total_reward: 500.0\n"
     ]
    }
   ],
   "source": [
    "import gym\n",
    "env = gym.make('CartPole-v0')\n",
    "env = gym.make('CartPole-v1')\n",
    "\n",
    "with tf.Session() as sess:\n",
    "    sess.run(tf.global_variables_initializer())\n",
    "    saver.restore(sess, 'checkpoints/model.ckpt')    \n",
    "    #saver.restore(sess, tf.train.latest_checkpoint('checkpoints'))\n",
    "    \n",
    "    # Episodes/epochs\n",
    "    for _ in range(10):\n",
    "        state = env.reset()\n",
    "        total_reward = 0\n",
    "\n",
    "        # Steps/batches\n",
    "        while True:\n",
    "            env.render()\n",
    "            action_logits = sess.run(model.actions_logits, feed_dict={model.states: state.reshape([1, -1])})\n",
    "            action = np.argmax(action_logits)\n",
    "            state, reward, done, _ = env.step(action)\n",
    "            total_reward += reward\n",
    "            if done:\n",
    "                print('total_reward: {}'.format(total_reward))\n",
    "                break\n",
    "                \n",
    "env.close()"
   ]
  },
  {
   "cell_type": "code",
   "execution_count": null,
   "metadata": {},
   "outputs": [],
   "source": []
  }
 ],
 "metadata": {
  "kernelspec": {
   "display_name": "Python 3",
   "language": "python",
   "name": "python3"
  },
  "language_info": {
   "codemirror_mode": {
    "name": "ipython",
    "version": 3
   },
   "file_extension": ".py",
   "mimetype": "text/x-python",
   "name": "python",
   "nbconvert_exporter": "python",
   "pygments_lexer": "ipython3",
   "version": "3.6.6"
  }
 },
 "nbformat": 4,
 "nbformat_minor": 2
}
