{
 "cells": [
  {
   "cell_type": "markdown",
   "metadata": {},
   "source": [
    "# Sequential Q-learning\n",
    "\n",
    "In this notebook, we'll build a neural network that can learn to play games through reinforcement learning. More specifically, we'll use Q-learning to train an agent to play a game called [Cart-Pole](https://gym.openai.com/envs/CartPole-v0). In this game, a freely swinging pole is attached to a cart. The cart can move to the left and right, and the goal is to keep the pole upright as long as possible.\n",
    "\n",
    "![Cart-Pole](assets/cart-pole.jpg)\n",
    "\n",
    "We can simulate this game using [OpenAI Gym](https://gym.openai.com/). First, let's check out how OpenAI Gym works. Then, we'll get into training an agent to play the Cart-Pole game."
   ]
  },
  {
   "cell_type": "code",
   "execution_count": 1,
   "metadata": {},
   "outputs": [],
   "source": [
    "import gym\n",
    "import numpy as np"
   ]
  },
  {
   "cell_type": "code",
   "execution_count": 2,
   "metadata": {},
   "outputs": [
    {
     "name": "stdout",
     "output_type": "stream",
     "text": [
      "TensorFlow Version: 1.7.1\n",
      "Default GPU Device: \n"
     ]
    }
   ],
   "source": [
    "# In this one we should define and detect GPUs for tensorflow\n",
    "# GPUs or CPU\n",
    "import tensorflow as tf\n",
    "\n",
    "# Check TensorFlow Version\n",
    "print('TensorFlow Version: {}'.format(tf.__version__))\n",
    "\n",
    "# Check for a GPU\n",
    "print('Default GPU Device: {}'.format(tf.test.gpu_device_name()))"
   ]
  },
  {
   "cell_type": "markdown",
   "metadata": {},
   "source": [
    ">**Note:** Make sure you have OpenAI Gym cloned into the same directory with this notebook. I've included `gym` as a submodule, so you can run `git submodule --init --recursive` to pull the contents into the `gym` repo."
   ]
  },
  {
   "cell_type": "markdown",
   "metadata": {},
   "source": [
    ">**Note:** Make sure you have OpenAI Gym cloned. Then run this command `pip install -e gym/[all]`."
   ]
  },
  {
   "cell_type": "code",
   "execution_count": 4,
   "metadata": {},
   "outputs": [
    {
     "name": "stdout",
     "output_type": "stream",
     "text": [
      "\u001b[33mWARN: gym.spaces.Box autodetected dtype as <class 'numpy.float32'>. Please provide explicit dtype.\u001b[0m\n",
      "\u001b[33mWARN: gym.spaces.Box autodetected dtype as <class 'numpy.float32'>. Please provide explicit dtype.\u001b[0m\n"
     ]
    },
    {
     "name": "stderr",
     "output_type": "stream",
     "text": [
      "/home/arasdar/anaconda3/envs/env/lib/python3.6/site-packages/gym/__init__.py:22: UserWarning: DEPRECATION WARNING: to improve load times, gym no longer automatically loads gym.spaces. Please run \"import gym.spaces\" to load gym.spaces on your own. This warning will turn into an error in a future version of gym.\n",
      "  warnings.warn('DEPRECATION WARNING: to improve load times, gym no longer automatically loads gym.spaces. Please run \"import gym.spaces\" to load gym.spaces on your own. This warning will turn into an error in a future version of gym.')\n"
     ]
    }
   ],
   "source": [
    "import gym\n",
    "\n",
    "# Create the Cart-Pole game environment\n",
    "env = gym.make('CartPole-v0')\n",
    "env = gym.make('CartPole-v1')"
   ]
  },
  {
   "cell_type": "markdown",
   "metadata": {},
   "source": [
    "We interact with the simulation through `env`. To show the simulation running, you can use `env.render()` to render one frame. Passing in an action as an integer to `env.step` will generate the next step in the simulation.  You can see how many actions are possible from `env.action_space` and to get a random action you can use `env.action_space.sample()`. This is general to all Gym games. In the Cart-Pole game, there are two possible actions, moving the cart left or right. So there are two actions we can take, encoded as 0 and 1.\n",
    "\n",
    "Run the code below to watch the simulation run."
   ]
  },
  {
   "cell_type": "code",
   "execution_count": 5,
   "metadata": {},
   "outputs": [
    {
     "name": "stdout",
     "output_type": "stream",
     "text": [
      "state, action, reward, done, info: [ 0.01317684 -0.23364403  0.01789839  0.31985257] 0 1.0 False {}\n",
      "state, action, reward, done, info: [ 0.00850396 -0.03878149  0.02429544  0.03286743] 1 1.0 False {}\n",
      "state, action, reward, done, info: [ 0.00772833  0.15598378  0.02495279 -0.25205211] 1 1.0 False {}\n",
      "state, action, reward, done, info: [ 0.010848   -0.03948543  0.01991175  0.0483958 ] 0 1.0 False {}\n",
      "state, action, reward, done, info: [ 0.0100583   0.15534543  0.02087966 -0.23793889] 1 1.0 False {}\n",
      "state, action, reward, done, info: [ 0.0131652   0.35016296  0.01612088 -0.52396332] 1 1.0 False {}\n",
      "state, action, reward, done, info: [ 0.02016846  0.54505437  0.00564162 -0.81152311] 1 1.0 False {}\n",
      "state, action, reward, done, info: [ 0.03106955  0.74009858 -0.01058884 -1.10242615] 1 1.0 False {}\n",
      "state, action, reward, done, info: [ 0.04587152  0.93535822 -0.03263737 -1.39841225] 1 1.0 False {}\n",
      "state, action, reward, done, info: [ 0.06457869  1.13087042 -0.06060561 -1.70111805] 1 1.0 False {}\n"
     ]
    }
   ],
   "source": [
    "env.reset()\n",
    "for _ in range(10):\n",
    "    # env.render()\n",
    "    action = env.action_space.sample()\n",
    "    state, reward, done, info = env.step(action) # take a random action\n",
    "    print('state, action, reward, done, info:', state, action, reward, done, info)\n",
    "    if done:\n",
    "        env.reset()"
   ]
  },
  {
   "cell_type": "markdown",
   "metadata": {},
   "source": [
    "To shut the window showing the simulation, use `env.close()`."
   ]
  },
  {
   "cell_type": "markdown",
   "metadata": {},
   "source": [
    "If you ran the simulation above, we can look at the rewards:"
   ]
  },
  {
   "cell_type": "code",
   "execution_count": 6,
   "metadata": {},
   "outputs": [],
   "source": [
    "# print(rewards[-20:])\n",
    "# print(np.array(rewards).shape, np.array(states).shape, np.array(actions).shape, np.array(dones).shape)\n",
    "# print(np.array(rewards).dtype, np.array(states).dtype, np.array(actions).dtype, np.array(dones).dtype)\n",
    "# print(np.max(np.array(actions)), np.min(np.array(actions)))\n",
    "# print((np.max(np.array(actions)) - np.min(np.array(actions)))+1)\n",
    "# print(np.max(np.array(rewards)), np.min(np.array(rewards)))\n",
    "# print(np.max(np.array(states)), np.min(np.array(states)))"
   ]
  },
  {
   "cell_type": "markdown",
   "metadata": {},
   "source": [
    "The game resets after the pole has fallen past a certain angle. For each frame while the simulation is running, it returns a reward of 1.0. The longer the game runs, the more reward we get. Then, our network's goal is to maximize the reward by keeping the pole vertical. It will do this by moving the cart to the left and the right."
   ]
  },
  {
   "cell_type": "markdown",
   "metadata": {},
   "source": [
    "## Q-Network\n",
    "\n",
    "We train our Q-learning agent using the Bellman Equation:\n",
    "\n",
    "$$\n",
    "Q(s, a) = r + \\gamma \\max{Q(s', a')}\n",
    "$$\n",
    "\n",
    "where $s$ is a state, $a$ is an action, and $s'$ is the next state from state $s$ and action $a$.\n",
    "\n",
    "Before we used this equation to learn values for a Q-_table_. However, for this game there are a huge number of states available. The state has four values: the position and velocity of the cart, and the position and velocity of the pole. These are all real-valued numbers, so ignoring floating point precisions, you practically have infinite states. Instead of using a table then, we'll replace it with a neural network that will approximate the Q-table lookup function.\n",
    "\n",
    "<img src=\"assets/deep-q-learning.png\" width=450px>\n",
    "\n",
    "Now, our Q value, $Q(s, a)$ is calculated by passing in a state to the network. The output will be Q-values for each available action, with fully connected hidden layers.\n",
    "\n",
    "<img src=\"assets/q-network.png\" width=550px>\n",
    "\n",
    "\n",
    "As I showed before, we can define our targets for training as $\\hat{Q}(s,a) = r + \\gamma \\max{Q(s', a')}$. Then we update the weights by minimizing $(\\hat{Q}(s,a) - Q(s,a))^2$. \n",
    "\n",
    "For this Cart-Pole game, we have four inputs, one for each value in the state, and two outputs, one for each action. To get $\\hat{Q}$, we'll first choose an action, then simulate the game using that action. This will get us the next state, $s'$, and the reward. With that, we can calculate $\\hat{Q}$ then pass it back into the $Q$ network to run the optimizer and update the weights.\n",
    "\n",
    "Below is my implementation of the Q-network. I used two fully connected layers with ReLU activations. Two seems to be good enough, three might be better. Feel free to try it out."
   ]
  },
  {
   "cell_type": "code",
   "execution_count": 16,
   "metadata": {},
   "outputs": [],
   "source": [
    "def model_input(state_size):\n",
    "    actions = tf.placeholder(tf.int32, [None], name='actions')\n",
    "    states = tf.placeholder(tf.float32, [None, state_size], name='states')\n",
    "    targetQs = tf.placeholder(tf.float32, [None], name='targetQs')\n",
    "    labelQs = tf.placeholder(tf.float32, [None], name='labelQs')\n",
    "    return actions, states, targetQs, labelQs"
   ]
  },
  {
   "cell_type": "code",
   "execution_count": 17,
   "metadata": {},
   "outputs": [],
   "source": [
    "# Generator: Generating/prediting the actions\n",
    "def generator(states, action_size, hidden_size, reuse=False, alpha=0.1, training=False):\n",
    "    with tf.variable_scope('generator', reuse=reuse):\n",
    "        # First fully connected layer\n",
    "        h1 = tf.layers.dense(inputs=states, units=hidden_size)\n",
    "        bn1 = tf.layers.batch_normalization(h1, training=training)        \n",
    "        nl1 = tf.maximum(alpha * bn1, bn1)\n",
    "        \n",
    "        # Second fully connected layer\n",
    "        h2 = tf.layers.dense(inputs=nl1, units=hidden_size)\n",
    "        bn2 = tf.layers.batch_normalization(h2, training=training)        \n",
    "        nl2 = tf.maximum(alpha * bn2, bn2)\n",
    "        \n",
    "        # Output layer\n",
    "        logits = tf.layers.dense(inputs=nl2, units=action_size)        \n",
    "        #predictions = tf.nn.softmax(logits)\n",
    "\n",
    "        # return actions logits\n",
    "        return logits"
   ]
  },
  {
   "cell_type": "code",
   "execution_count": 32,
   "metadata": {},
   "outputs": [],
   "source": [
    "def model_loss(action_size, hidden_size, states, actions, targetQs, labelQs):\n",
    "    actions_logits = generator(states=states, hidden_size=hidden_size, action_size=action_size)\n",
    "    actions_labels = tf.one_hot(indices=actions, depth=action_size, dtype=actions_logits.dtype)\n",
    "    Qs = tf.reduce_max(actions_logits*actions_labels, axis=1)\n",
    "    lossQtgt = tf.reduce_mean(tf.square(Qs - targetQs)) # next state, next action and nextQs\n",
    "    lossQlbl = tf.reduce_mean(tf.square(Qs - labelQs)) # current state, action, and currentQs\n",
    "    # lossQtgt_sigm = tf.reduce_mean(tf.nn.sigmoid_cross_entropy_with_logits(logits=Qs, \n",
    "    #                                                                        labels=tf.nn.sigmoid(targetQs)))\n",
    "    # lossQlbl_sigm = tf.reduce_mean(tf.nn.sigmoid_cross_entropy_with_logits(logits=Qs,\n",
    "    #                                                                        labels=tf.nn.sigmoid(labelQs)))\n",
    "    loss = lossQtgt + lossQlbl #+ lossQtgt_sigm + lossQlbl_sigm\n",
    "    return actions_logits, loss, lossQtgt, lossQlbl"
   ]
  },
  {
   "cell_type": "code",
   "execution_count": 33,
   "metadata": {},
   "outputs": [],
   "source": [
    "def model_opt(loss, learning_rate):\n",
    "    # Get weights and bias to update\n",
    "    t_vars = tf.trainable_variables()\n",
    "    g_vars = [var for var in t_vars if var.name.startswith('generator')]\n",
    "\n",
    "    # Optimize\n",
    "    with tf.control_dependencies(tf.get_collection(tf.GraphKeys.UPDATE_OPS)): # Required for batchnorm (BN)\n",
    "        opt = tf.train.AdamOptimizer(learning_rate).minimize(loss, var_list=g_vars)\n",
    "\n",
    "    return opt"
   ]
  },
  {
   "cell_type": "code",
   "execution_count": 34,
   "metadata": {},
   "outputs": [],
   "source": [
    "class Model:\n",
    "    def __init__(self, state_size, action_size, hidden_size, learning_rate):\n",
    "\n",
    "        # Data of the Model: make the data available inside the framework\n",
    "        self.actions, self.states, self.targetQs, self.labelQs = model_input(state_size=state_size)\n",
    "        \n",
    "        # Create the Model: calculating the loss and forwad pass\n",
    "        self.actions_logits, self.loss, self.lossQtgt, self.lossQlbl = model_loss(\n",
    "            action_size=action_size, hidden_size=hidden_size, \n",
    "            states=self.states, actions=self.actions, \n",
    "            targetQs=self.targetQs, labelQs=self.labelQs)\n",
    "\n",
    "        # Update the model: backward pass and backprop\n",
    "        self.opt = model_opt(loss=self.loss, learning_rate=learning_rate)"
   ]
  },
  {
   "cell_type": "markdown",
   "metadata": {},
   "source": [
    "## Experience replay\n",
    "\n",
    "Reinforcement learning algorithms can have stability issues due to correlations between states. To reduce correlations when training, we can store the agent's experiences and later draw a random mini-batch of those experiences to train on. \n",
    "\n",
    "Here, we'll create a `Memory` object that will store our experiences, our transitions $<s, a, r, s'>$. This memory will have a maxmium capacity, so we can keep newer experiences in memory while getting rid of older experiences. Then, we'll sample a random mini-batch of transitions $<s, a, r, s'>$ and train on those.\n",
    "\n",
    "Below, I've implemented a `Memory` object. If you're unfamiliar with `deque`, this is a double-ended queue. You can think of it like a tube open on both sides. You can put objects in either side of the tube. But if it's full, adding anything more will push an object out the other side. This is a great data structure to use for the memory buffer."
   ]
  },
  {
   "cell_type": "code",
   "execution_count": 35,
   "metadata": {},
   "outputs": [],
   "source": [
    "from collections import deque\n",
    "\n",
    "class Memory():    \n",
    "    def __init__(self, max_size = 1000):\n",
    "        self.buffer = deque(maxlen=max_size)"
   ]
  },
  {
   "cell_type": "markdown",
   "metadata": {},
   "source": [
    "## Exploration - Exploitation\n",
    "\n",
    "To learn about the environment and rules of the game, the agent needs to explore by taking random actions. We'll do this by choosing a random action with some probability $\\epsilon$ (epsilon).  That is, with some probability $\\epsilon$ the agent will make a random action and with probability $1 - \\epsilon$, the agent will choose an action from $Q(s,a)$. This is called an **$\\epsilon$-greedy policy**.\n",
    "\n",
    "\n",
    "At first, the agent needs to do a lot of exploring. Later when it has learned more, the agent can favor choosing actions based on what it has learned. This is called _exploitation_. We'll set it up so the agent is more likely to explore early in training, then more likely to exploit later in training."
   ]
  },
  {
   "cell_type": "markdown",
   "metadata": {},
   "source": [
    "## Q-Learning training algorithm\n",
    "\n",
    "Putting all this together, we can list out the algorithm we'll use to train the network. We'll train the network in _episodes_. One *episode* is one simulation of the game. For this game, the goal is to keep the pole upright for 195 frames. So we can start a new episode once meeting that goal. The game ends if the pole tilts over too far, or if the cart moves too far the left or right. When a game ends, we'll start a new episode. Now, to train the agent:\n",
    "\n",
    "* Initialize the memory $D$\n",
    "* Initialize the action-value network $Q$ with random weights\n",
    "* **For** episode = 1, $M$ **do**\n",
    "  * **For** $t$, $T$ **do**\n",
    "     * With probability $\\epsilon$ select a random action $a_t$, otherwise select $a_t = \\mathrm{argmax}_a Q(s,a)$\n",
    "     * Execute action $a_t$ in simulator and observe reward $r_{t+1}$ and new state $s_{t+1}$\n",
    "     * Store transition $<s_t, a_t, r_{t+1}, s_{t+1}>$ in memory $D$\n",
    "     * Sample random mini-batch from $D$: $<s_j, a_j, r_j, s'_j>$\n",
    "     * Set $\\hat{Q}_j = r_j$ if the episode ends at $j+1$, otherwise set $\\hat{Q}_j = r_j + \\gamma \\max_{a'}{Q(s'_j, a')}$\n",
    "     * Make a gradient descent step with loss $(\\hat{Q}_j - Q(s_j, a_j))^2$\n",
    "  * **endfor**\n",
    "* **endfor**"
   ]
  },
  {
   "cell_type": "markdown",
   "metadata": {},
   "source": [
    "## Hyperparameters\n",
    "\n",
    "One of the more difficult aspects of reinforcememt learning are the large number of hyperparameters. Not only are we tuning the network, but we're tuning the simulation."
   ]
  },
  {
   "cell_type": "code",
   "execution_count": 36,
   "metadata": {},
   "outputs": [],
   "source": [
    "# print('state:', np.array(states).shape[1], \n",
    "#       'action size: {}'.format((np.max(np.array(actions)) - np.min(np.array(actions)))+1))"
   ]
  },
  {
   "cell_type": "code",
   "execution_count": 37,
   "metadata": {},
   "outputs": [],
   "source": [
    "# Training parameters\n",
    "# Network parameters\n",
    "state_size = 4                 # number of units for the input state/observation -- simulation\n",
    "action_size = 2                # number of units for the output actions -- simulation\n",
    "hidden_size = 64               # number of units in each Q-network hidden layer -- simulation\n",
    "batch_size = 32                # number of samples in the memory/ experience as mini-batch size\n",
    "learning_rate = 0.001          # learning rate for adam"
   ]
  },
  {
   "cell_type": "code",
   "execution_count": 38,
   "metadata": {},
   "outputs": [],
   "source": [
    "# Reset/init the graph/session\n",
    "graph = tf.reset_default_graph()\n",
    "\n",
    "# Init the model\n",
    "model = Model(action_size=action_size, hidden_size=hidden_size, state_size=state_size, learning_rate=learning_rate)\n",
    "\n",
    "# Init the memory\n",
    "memory = Memory(max_size=batch_size)"
   ]
  },
  {
   "cell_type": "markdown",
   "metadata": {},
   "source": [
    "## Populate the memory (exprience memory)\n",
    "\n",
    "Here I'm re-initializing the simulation and pre-populating the memory. The agent is taking random actions and storing the transitions in memory. This will help the agent with exploring the game."
   ]
  },
  {
   "cell_type": "code",
   "execution_count": 39,
   "metadata": {},
   "outputs": [],
   "source": [
    "state = env.reset()\n",
    "for _ in range(batch_size):\n",
    "    action = env.action_space.sample()\n",
    "    next_state, reward, done, _ = env.step(action)\n",
    "    memory.buffer.append([state, action, next_state, reward, float(done)])\n",
    "    state = next_state\n",
    "    if done is True:\n",
    "        state = env.reset()"
   ]
  },
  {
   "cell_type": "markdown",
   "metadata": {},
   "source": [
    "## Training the model\n",
    "\n",
    "Below we'll train our agent. If you want to watch it train, uncomment the `env.render()` line. This is slow because it's rendering the frames slower than the network can train. But, it's cool to watch the agent get better at the game."
   ]
  },
  {
   "cell_type": "code",
   "execution_count": 40,
   "metadata": {},
   "outputs": [
    {
     "data": {
      "text/plain": [
       "[array([-0.02798324, -0.02948733,  0.01148243, -0.01523122]),\n",
       " 1,\n",
       " array([-0.02857298,  0.16546808,  0.01117781, -0.3042693 ]),\n",
       " 1.0,\n",
       " 0.0]"
      ]
     },
     "execution_count": 40,
     "metadata": {},
     "output_type": "execute_result"
    }
   ],
   "source": [
    "memory.buffer[0]"
   ]
  },
  {
   "cell_type": "code",
   "execution_count": 41,
   "metadata": {},
   "outputs": [],
   "source": [
    "# states, rewards, actions"
   ]
  },
  {
   "cell_type": "code",
   "execution_count": null,
   "metadata": {
    "scrolled": false
   },
   "outputs": [
    {
     "name": "stdout",
     "output_type": "stream",
     "text": [
      "Episode: 0 meanReward: 10.0000 meanLoss: 1.3356\n",
      "Episode: 1 meanReward: 10.0000 meanLoss: 1.9251\n",
      "Episode: 2 meanReward: 9.3333 meanLoss: 2.6823\n",
      "Episode: 3 meanReward: 9.5000 meanLoss: 4.3664\n",
      "Episode: 4 meanReward: 9.6000 meanLoss: 7.8865\n",
      "Episode: 5 meanReward: 9.3333 meanLoss: 9.6882\n",
      "Episode: 6 meanReward: 9.2857 meanLoss: 8.4829\n",
      "Episode: 7 meanReward: 9.2500 meanLoss: 6.9393\n",
      "Episode: 8 meanReward: 9.3333 meanLoss: 4.7404\n",
      "Episode: 9 meanReward: 9.4000 meanLoss: 2.8284\n",
      "Episode: 10 meanReward: 9.4545 meanLoss: 1.5039\n",
      "Episode: 11 meanReward: 9.4167 meanLoss: 0.4788\n",
      "Episode: 12 meanReward: 9.3846 meanLoss: 0.1064\n",
      "Episode: 13 meanReward: 9.5000 meanLoss: 0.4145\n",
      "Episode: 14 meanReward: 9.5333 meanLoss: 1.3311\n",
      "Episode: 15 meanReward: 9.8125 meanLoss: 2.6349\n",
      "Episode: 16 meanReward: 10.0000 meanLoss: 1.2052\n",
      "Episode: 17 meanReward: 10.1111 meanLoss: 1.6110\n",
      "Episode: 18 meanReward: 10.1053 meanLoss: 4.0876\n",
      "Episode: 19 meanReward: 10.1500 meanLoss: 12.6177\n",
      "Episode: 20 meanReward: 10.1905 meanLoss: 29.9361\n",
      "Episode: 21 meanReward: 10.1818 meanLoss: 19.8152\n",
      "Episode: 22 meanReward: 10.2174 meanLoss: 6.2343\n",
      "Episode: 23 meanReward: 10.1667 meanLoss: 3.7032\n",
      "Episode: 24 meanReward: 10.2400 meanLoss: 2.2002\n",
      "Episode: 25 meanReward: 10.2308 meanLoss: 1.7198\n",
      "Episode: 26 meanReward: 10.1852 meanLoss: 1.6534\n",
      "Episode: 27 meanReward: 10.2143 meanLoss: 1.8677\n",
      "Episode: 28 meanReward: 10.1724 meanLoss: 2.3784\n",
      "Episode: 29 meanReward: 10.1667 meanLoss: 2.8107\n",
      "Episode: 30 meanReward: 10.1613 meanLoss: 2.1704\n",
      "Episode: 31 meanReward: 10.1250 meanLoss: 1.4362\n",
      "Episode: 32 meanReward: 10.1250 meanLoss: 0.7705\n",
      "Episode: 33 meanReward: 10.1562 meanLoss: 0.4675\n",
      "Episode: 34 meanReward: 10.2188 meanLoss: 0.3467\n",
      "Episode: 35 meanReward: 10.2188 meanLoss: 0.3714\n",
      "Episode: 36 meanReward: 10.2500 meanLoss: 0.4541\n",
      "Episode: 37 meanReward: 10.2812 meanLoss: 0.6049\n",
      "Episode: 38 meanReward: 10.2500 meanLoss: 0.8725\n",
      "Episode: 39 meanReward: 10.2500 meanLoss: 1.3523\n",
      "Episode: 40 meanReward: 10.1875 meanLoss: 1.4833\n",
      "Episode: 41 meanReward: 10.1562 meanLoss: 0.7245\n",
      "Episode: 42 meanReward: 10.1875 meanLoss: 0.5143\n",
      "Episode: 43 meanReward: 10.1875 meanLoss: 0.3494\n",
      "Episode: 44 meanReward: 10.2188 meanLoss: 0.3605\n",
      "Episode: 45 meanReward: 10.1250 meanLoss: 0.4466\n",
      "Episode: 46 meanReward: 10.0625 meanLoss: 0.6606\n",
      "Episode: 47 meanReward: 9.9062 meanLoss: 0.9518\n",
      "Episode: 48 meanReward: 9.8125 meanLoss: 1.1338\n",
      "Episode: 49 meanReward: 9.7500 meanLoss: 0.6419\n",
      "Episode: 50 meanReward: 9.7188 meanLoss: 0.3219\n",
      "Episode: 51 meanReward: 9.6875 meanLoss: 0.1969\n",
      "Episode: 52 meanReward: 9.6562 meanLoss: 0.1340\n",
      "Episode: 53 meanReward: 9.6250 meanLoss: 0.1850\n",
      "Episode: 54 meanReward: 9.5938 meanLoss: 0.3714\n",
      "Episode: 55 meanReward: 9.6562 meanLoss: 0.7714\n",
      "Episode: 56 meanReward: 9.5625 meanLoss: 0.6605\n",
      "Episode: 57 meanReward: 9.5000 meanLoss: 0.2153\n",
      "Episode: 58 meanReward: 9.5625 meanLoss: 0.3073\n",
      "Episode: 59 meanReward: 9.5000 meanLoss: 0.1927\n",
      "Episode: 60 meanReward: 9.5000 meanLoss: 0.1852\n",
      "Episode: 61 meanReward: 9.5000 meanLoss: 0.2753\n",
      "Episode: 62 meanReward: 9.4375 meanLoss: 0.4083\n",
      "Episode: 63 meanReward: 9.4062 meanLoss: 0.6369\n",
      "Episode: 64 meanReward: 9.4062 meanLoss: 0.7972\n",
      "Episode: 65 meanReward: 9.3438 meanLoss: 0.4468\n",
      "Episode: 66 meanReward: 9.3438 meanLoss: 0.3152\n",
      "Episode: 67 meanReward: 9.3125 meanLoss: 0.3241\n",
      "Episode: 68 meanReward: 9.2812 meanLoss: 0.2763\n",
      "Episode: 69 meanReward: 9.3125 meanLoss: 0.3273\n",
      "Episode: 70 meanReward: 9.4062 meanLoss: 0.4146\n",
      "Episode: 71 meanReward: 9.4062 meanLoss: 0.4536\n",
      "Episode: 72 meanReward: 9.4688 meanLoss: 0.4931\n",
      "Episode: 73 meanReward: 9.5312 meanLoss: 0.2933\n",
      "Episode: 74 meanReward: 9.5000 meanLoss: 0.1813\n",
      "Episode: 75 meanReward: 9.5312 meanLoss: 0.1357\n",
      "Episode: 76 meanReward: 9.5625 meanLoss: 0.1193\n",
      "Episode: 77 meanReward: 9.6250 meanLoss: 0.1123\n",
      "Episode: 78 meanReward: 9.6562 meanLoss: 0.1612\n",
      "Episode: 79 meanReward: 9.6562 meanLoss: 0.2271\n",
      "Episode: 80 meanReward: 9.5938 meanLoss: 0.3155\n",
      "Episode: 81 meanReward: 9.5938 meanLoss: 0.1648\n",
      "Episode: 82 meanReward: 9.5625 meanLoss: 0.0643\n",
      "Episode: 83 meanReward: 9.5625 meanLoss: 0.1000\n",
      "Episode: 84 meanReward: 9.5312 meanLoss: 0.0899\n",
      "Episode: 85 meanReward: 9.5938 meanLoss: 0.1548\n",
      "Episode: 86 meanReward: 9.5938 meanLoss: 0.4432\n",
      "Episode: 87 meanReward: 9.5000 meanLoss: 0.3979\n",
      "Episode: 88 meanReward: 9.5625 meanLoss: 0.3930\n",
      "Episode: 89 meanReward: 9.5625 meanLoss: 0.2974\n",
      "Episode: 90 meanReward: 9.5000 meanLoss: 0.2731\n",
      "Episode: 91 meanReward: 9.4688 meanLoss: 0.2192\n",
      "Episode: 92 meanReward: 9.4688 meanLoss: 0.1701\n",
      "Episode: 93 meanReward: 9.4062 meanLoss: 0.1461\n",
      "Episode: 94 meanReward: 9.4375 meanLoss: 0.2336\n",
      "Episode: 95 meanReward: 9.5000 meanLoss: 0.2591\n",
      "Episode: 96 meanReward: 9.5000 meanLoss: 0.1273\n",
      "Episode: 97 meanReward: 9.5000 meanLoss: 0.0752\n",
      "Episode: 98 meanReward: 9.5000 meanLoss: 0.0801\n",
      "Episode: 99 meanReward: 9.5000 meanLoss: 0.0654\n",
      "Episode: 100 meanReward: 9.4688 meanLoss: 0.1466\n",
      "Episode: 101 meanReward: 9.4688 meanLoss: 0.4543\n",
      "Episode: 102 meanReward: 9.4062 meanLoss: 0.4441\n",
      "Episode: 103 meanReward: 9.4062 meanLoss: 0.1226\n",
      "Episode: 104 meanReward: 9.3438 meanLoss: 0.2784\n",
      "Episode: 105 meanReward: 9.3438 meanLoss: 0.1852\n",
      "Episode: 106 meanReward: 9.2812 meanLoss: 0.2028\n",
      "Episode: 107 meanReward: 9.2500 meanLoss: 0.5173\n",
      "Episode: 108 meanReward: 9.1875 meanLoss: 1.6141\n",
      "Episode: 109 meanReward: 9.1562 meanLoss: 2.3446\n",
      "Episode: 110 meanReward: 9.1250 meanLoss: 0.7266\n",
      "Episode: 111 meanReward: 9.1250 meanLoss: 0.4047\n",
      "Episode: 112 meanReward: 9.2188 meanLoss: 0.5453\n",
      "Episode: 113 meanReward: 9.2188 meanLoss: 0.4535\n",
      "Episode: 114 meanReward: 9.2500 meanLoss: 0.8473\n",
      "Episode: 115 meanReward: 9.2500 meanLoss: 2.1835\n",
      "Episode: 116 meanReward: 9.2500 meanLoss: 4.6706\n",
      "Episode: 117 meanReward: 9.1875 meanLoss: 5.2862\n",
      "Episode: 118 meanReward: 9.1875 meanLoss: 1.5430\n",
      "Episode: 119 meanReward: 9.2500 meanLoss: 0.9809\n",
      "Episode: 120 meanReward: 9.2500 meanLoss: 0.8236\n",
      "Episode: 121 meanReward: 9.3438 meanLoss: 0.6056\n",
      "Episode: 122 meanReward: 9.3438 meanLoss: 0.7101\n",
      "Episode: 123 meanReward: 9.3438 meanLoss: 1.0101\n",
      "Episode: 124 meanReward: 9.3750 meanLoss: 1.5901\n",
      "Episode: 125 meanReward: 9.4062 meanLoss: 2.1415\n",
      "Episode: 126 meanReward: 9.4062 meanLoss: 2.6566\n",
      "Episode: 127 meanReward: 9.3438 meanLoss: 2.6562\n",
      "Episode: 128 meanReward: 9.3125 meanLoss: 2.0186\n",
      "Episode: 129 meanReward: 9.2812 meanLoss: 0.9217\n",
      "Episode: 130 meanReward: 9.2812 meanLoss: 0.5125\n",
      "Episode: 131 meanReward: 9.2812 meanLoss: 0.3576\n",
      "Episode: 132 meanReward: 9.3125 meanLoss: 0.3927\n",
      "Episode: 133 meanReward: 9.3125 meanLoss: 0.5811\n",
      "Episode: 134 meanReward: 9.3438 meanLoss: 0.9223\n",
      "Episode: 135 meanReward: 9.3438 meanLoss: 1.4024\n",
      "Episode: 136 meanReward: 9.4062 meanLoss: 1.8386\n",
      "Episode: 137 meanReward: 9.3438 meanLoss: 1.0453\n",
      "Episode: 138 meanReward: 9.4062 meanLoss: 0.2353\n",
      "Episode: 139 meanReward: 9.4062 meanLoss: 0.1371\n",
      "Episode: 140 meanReward: 9.4375 meanLoss: 0.1162\n",
      "Episode: 141 meanReward: 9.5000 meanLoss: 0.1805\n",
      "Episode: 142 meanReward: 9.5625 meanLoss: 0.5255\n",
      "Episode: 143 meanReward: 9.5938 meanLoss: 1.0068\n",
      "Episode: 144 meanReward: 9.5625 meanLoss: 0.6759\n",
      "Episode: 145 meanReward: 9.5625 meanLoss: 0.2826\n",
      "Episode: 146 meanReward: 9.5625 meanLoss: 0.1897\n",
      "Episode: 147 meanReward: 9.5625 meanLoss: 0.1090\n",
      "Episode: 148 meanReward: 9.5625 meanLoss: 0.1110\n",
      "Episode: 149 meanReward: 9.5938 meanLoss: 0.1315\n",
      "Episode: 150 meanReward: 9.5938 meanLoss: 0.1019\n",
      "Episode: 151 meanReward: 9.5938 meanLoss: 0.0356\n",
      "Episode: 152 meanReward: 9.5312 meanLoss: 0.0124\n",
      "Episode: 153 meanReward: 9.5000 meanLoss: 0.0184\n",
      "Episode: 154 meanReward: 9.5312 meanLoss: 0.0214\n",
      "Episode: 155 meanReward: 9.5625 meanLoss: 0.0272\n",
      "Episode: 156 meanReward: 9.5625 meanLoss: 0.0123\n",
      "Episode: 157 meanReward: 9.5625 meanLoss: 0.0052\n",
      "Episode: 158 meanReward: 9.5938 meanLoss: 0.0049\n",
      "Episode: 159 meanReward: 9.6250 meanLoss: 0.0047\n",
      "Episode: 160 meanReward: 9.6562 meanLoss: 0.0075\n",
      "Episode: 161 meanReward: 9.7188 meanLoss: 0.0081\n",
      "Episode: 162 meanReward: 9.7500 meanLoss: 0.0157\n",
      "Episode: 163 meanReward: 9.7812 meanLoss: 0.0231\n",
      "Episode: 164 meanReward: 9.7500 meanLoss: 0.0423\n",
      "Episode: 165 meanReward: 9.7188 meanLoss: 0.1369\n",
      "Episode: 166 meanReward: 9.7188 meanLoss: 0.0831\n",
      "Episode: 167 meanReward: 9.7500 meanLoss: 0.0404\n",
      "Episode: 168 meanReward: 9.7500 meanLoss: 0.0677\n",
      "Episode: 169 meanReward: 9.7812 meanLoss: 0.0762\n",
      "Episode: 170 meanReward: 9.7500 meanLoss: 0.1344\n",
      "Episode: 171 meanReward: 9.7500 meanLoss: 0.2409\n",
      "Episode: 172 meanReward: 9.7500 meanLoss: 0.2124\n"
     ]
    },
    {
     "name": "stdout",
     "output_type": "stream",
     "text": [
      "Episode: 173 meanReward: 9.7188 meanLoss: 0.0579\n",
      "Episode: 174 meanReward: 9.7188 meanLoss: 0.0734\n",
      "Episode: 175 meanReward: 9.7188 meanLoss: 0.0858\n",
      "Episode: 176 meanReward: 9.6875 meanLoss: 0.0831\n",
      "Episode: 177 meanReward: 9.6562 meanLoss: 0.1492\n",
      "Episode: 178 meanReward: 9.6875 meanLoss: 0.3584\n",
      "Episode: 179 meanReward: 9.6875 meanLoss: 0.5149\n",
      "Episode: 180 meanReward: 9.6875 meanLoss: 0.1941\n",
      "Episode: 181 meanReward: 9.6875 meanLoss: 0.1151\n",
      "Episode: 182 meanReward: 9.6875 meanLoss: 0.1374\n",
      "Episode: 183 meanReward: 9.6250 meanLoss: 0.1142\n",
      "Episode: 184 meanReward: 9.5938 meanLoss: 0.1790\n",
      "Episode: 185 meanReward: 9.5312 meanLoss: 0.3523\n",
      "Episode: 186 meanReward: 9.5000 meanLoss: 0.5337\n",
      "Episode: 187 meanReward: 9.5312 meanLoss: 0.3422\n",
      "Episode: 188 meanReward: 9.5625 meanLoss: 0.1650\n",
      "Episode: 189 meanReward: 9.5938 meanLoss: 0.1945\n",
      "Episode: 190 meanReward: 9.5625 meanLoss: 0.2850\n",
      "Episode: 191 meanReward: 9.5625 meanLoss: 0.4425\n",
      "Episode: 192 meanReward: 9.5625 meanLoss: 0.4770\n",
      "Episode: 193 meanReward: 9.5625 meanLoss: 0.2599\n",
      "Episode: 194 meanReward: 9.5000 meanLoss: 0.1269\n",
      "Episode: 195 meanReward: 9.4688 meanLoss: 0.0818\n",
      "Episode: 196 meanReward: 9.5000 meanLoss: 0.0486\n",
      "Episode: 197 meanReward: 9.5000 meanLoss: 0.0216\n",
      "Episode: 198 meanReward: 9.4688 meanLoss: 0.0139\n",
      "Episode: 199 meanReward: 9.4375 meanLoss: 0.0290\n",
      "Episode: 200 meanReward: 9.4375 meanLoss: 0.0177\n",
      "Episode: 201 meanReward: 9.4062 meanLoss: 0.0044\n",
      "Episode: 202 meanReward: 9.4375 meanLoss: 0.0072\n",
      "Episode: 203 meanReward: 9.4375 meanLoss: 0.0049\n",
      "Episode: 204 meanReward: 9.4062 meanLoss: 0.0090\n",
      "Episode: 205 meanReward: 9.4062 meanLoss: 0.0267\n",
      "Episode: 206 meanReward: 9.3750 meanLoss: 0.0170\n",
      "Episode: 207 meanReward: 9.3438 meanLoss: 0.0059\n",
      "Episode: 208 meanReward: 9.4062 meanLoss: 0.0091\n",
      "Episode: 209 meanReward: 9.4062 meanLoss: 0.0167\n",
      "Episode: 210 meanReward: 9.4062 meanLoss: 0.0215\n",
      "Episode: 211 meanReward: 9.4062 meanLoss: 0.0265\n",
      "Episode: 212 meanReward: 9.4062 meanLoss: 0.0288\n",
      "Episode: 213 meanReward: 9.3750 meanLoss: 0.0135\n",
      "Episode: 214 meanReward: 9.3750 meanLoss: 0.0082\n",
      "Episode: 215 meanReward: 9.4062 meanLoss: 0.0089\n",
      "Episode: 216 meanReward: 9.4062 meanLoss: 0.0089\n",
      "Episode: 217 meanReward: 9.4062 meanLoss: 0.0303\n",
      "Episode: 218 meanReward: 9.4062 meanLoss: 0.0390\n",
      "Episode: 219 meanReward: 9.4062 meanLoss: 0.0217\n",
      "Episode: 220 meanReward: 9.3750 meanLoss: 0.0368\n",
      "Episode: 221 meanReward: 9.3438 meanLoss: 0.0442\n",
      "Episode: 222 meanReward: 9.3438 meanLoss: 0.0528\n",
      "Episode: 223 meanReward: 9.3750 meanLoss: 0.1173\n",
      "Episode: 224 meanReward: 9.3750 meanLoss: 0.0852\n",
      "Episode: 225 meanReward: 9.3750 meanLoss: 0.0259\n",
      "Episode: 226 meanReward: 9.3438 meanLoss: 0.0394\n",
      "Episode: 227 meanReward: 9.3750 meanLoss: 0.0358\n",
      "Episode: 228 meanReward: 9.3438 meanLoss: 0.0408\n",
      "Episode: 229 meanReward: 9.3438 meanLoss: 0.0638\n",
      "Episode: 230 meanReward: 9.3438 meanLoss: 0.0422\n",
      "Episode: 231 meanReward: 9.3438 meanLoss: 0.0185\n",
      "Episode: 232 meanReward: 9.3125 meanLoss: 0.0068\n",
      "Episode: 233 meanReward: 9.3438 meanLoss: 0.0083\n",
      "Episode: 234 meanReward: 9.3125 meanLoss: 0.0126\n",
      "Episode: 235 meanReward: 9.3125 meanLoss: 0.0234\n",
      "Episode: 236 meanReward: 9.3125 meanLoss: 0.0305\n",
      "Episode: 237 meanReward: 9.2812 meanLoss: 0.0266\n",
      "Episode: 238 meanReward: 9.2812 meanLoss: 0.0076\n",
      "Episode: 239 meanReward: 9.3125 meanLoss: 0.0085\n",
      "Episode: 240 meanReward: 9.2188 meanLoss: 0.0090\n",
      "Episode: 241 meanReward: 9.2188 meanLoss: 0.0116\n",
      "Episode: 242 meanReward: 9.1875 meanLoss: 0.0144\n",
      "Episode: 243 meanReward: 9.1875 meanLoss: 0.0130\n",
      "Episode: 244 meanReward: 9.1875 meanLoss: 0.0086\n",
      "Episode: 245 meanReward: 9.1875 meanLoss: 0.0099\n",
      "Episode: 246 meanReward: 9.1250 meanLoss: 0.0113\n",
      "Episode: 247 meanReward: 9.0938 meanLoss: 0.0457\n",
      "Episode: 248 meanReward: 9.1562 meanLoss: 0.0368\n",
      "Episode: 249 meanReward: 9.2500 meanLoss: 0.0275\n",
      "Episode: 250 meanReward: 9.2500 meanLoss: 0.0644\n",
      "Episode: 251 meanReward: 9.2500 meanLoss: 0.0682\n",
      "Episode: 252 meanReward: 9.2500 meanLoss: 0.1248\n",
      "Episode: 253 meanReward: 9.2812 meanLoss: 0.1787\n",
      "Episode: 254 meanReward: 9.3125 meanLoss: 0.0921\n",
      "Episode: 255 meanReward: 9.2812 meanLoss: 0.0260\n",
      "Episode: 256 meanReward: 9.2812 meanLoss: 0.0299\n",
      "Episode: 257 meanReward: 9.2500 meanLoss: 0.0335\n",
      "Episode: 258 meanReward: 9.2812 meanLoss: 0.0922\n",
      "Episode: 259 meanReward: 9.2500 meanLoss: 0.1405\n",
      "Episode: 260 meanReward: 9.2812 meanLoss: 0.0677\n",
      "Episode: 261 meanReward: 9.3125 meanLoss: 0.0193\n",
      "Episode: 262 meanReward: 9.3125 meanLoss: 0.0331\n",
      "Episode: 263 meanReward: 9.3125 meanLoss: 0.0237\n",
      "Episode: 264 meanReward: 9.3438 meanLoss: 0.0347\n",
      "Episode: 265 meanReward: 9.3125 meanLoss: 0.0676\n",
      "Episode: 266 meanReward: 9.3438 meanLoss: 0.0506\n",
      "Episode: 267 meanReward: 9.3750 meanLoss: 0.0199\n",
      "Episode: 268 meanReward: 9.3750 meanLoss: 0.0367\n",
      "Episode: 269 meanReward: 9.4062 meanLoss: 0.0287\n",
      "Episode: 270 meanReward: 9.4062 meanLoss: 0.0624\n",
      "Episode: 271 meanReward: 9.3750 meanLoss: 0.1149\n",
      "Episode: 272 meanReward: 9.3750 meanLoss: 0.0385\n",
      "Episode: 273 meanReward: 9.3750 meanLoss: 0.0160\n",
      "Episode: 274 meanReward: 9.3750 meanLoss: 0.0308\n",
      "Episode: 275 meanReward: 9.3438 meanLoss: 0.0205\n",
      "Episode: 276 meanReward: 9.3125 meanLoss: 0.0228\n",
      "Episode: 277 meanReward: 9.3438 meanLoss: 0.0596\n",
      "Episode: 278 meanReward: 9.4062 meanLoss: 0.0374\n",
      "Episode: 279 meanReward: 9.4688 meanLoss: 0.0106\n",
      "Episode: 280 meanReward: 9.4375 meanLoss: 0.0236\n",
      "Episode: 281 meanReward: 9.3750 meanLoss: 0.0231\n",
      "Episode: 282 meanReward: 9.4062 meanLoss: 0.0289\n",
      "Episode: 283 meanReward: 9.3750 meanLoss: 0.0599\n",
      "Episode: 284 meanReward: 9.3438 meanLoss: 0.0443\n",
      "Episode: 285 meanReward: 9.2812 meanLoss: 0.0118\n",
      "Episode: 286 meanReward: 9.2812 meanLoss: 0.0278\n",
      "Episode: 287 meanReward: 9.2812 meanLoss: 0.0374\n",
      "Episode: 288 meanReward: 9.2500 meanLoss: 0.0322\n",
      "Episode: 289 meanReward: 9.2812 meanLoss: 0.0581\n",
      "Episode: 290 meanReward: 9.2812 meanLoss: 0.1032\n",
      "Episode: 291 meanReward: 9.2500 meanLoss: 0.0372\n",
      "Episode: 292 meanReward: 9.2500 meanLoss: 0.0303\n",
      "Episode: 293 meanReward: 9.1875 meanLoss: 0.0557\n",
      "Episode: 294 meanReward: 9.2188 meanLoss: 0.0475\n",
      "Episode: 295 meanReward: 9.2188 meanLoss: 0.0817\n",
      "Episode: 296 meanReward: 9.2188 meanLoss: 0.1453\n",
      "Episode: 297 meanReward: 9.2500 meanLoss: 0.1301\n",
      "Episode: 298 meanReward: 9.2188 meanLoss: 0.0755\n",
      "Episode: 299 meanReward: 9.2188 meanLoss: 0.0521\n",
      "Episode: 300 meanReward: 9.2500 meanLoss: 0.0487\n",
      "Episode: 301 meanReward: 9.2812 meanLoss: 0.0660\n",
      "Episode: 302 meanReward: 9.2812 meanLoss: 0.0964\n",
      "Episode: 303 meanReward: 9.2812 meanLoss: 0.1232\n",
      "Episode: 304 meanReward: 9.3125 meanLoss: 0.0784\n",
      "Episode: 305 meanReward: 9.3438 meanLoss: 0.0273\n",
      "Episode: 306 meanReward: 9.3438 meanLoss: 0.0553\n",
      "Episode: 307 meanReward: 9.4062 meanLoss: 0.0928\n",
      "Episode: 308 meanReward: 9.4375 meanLoss: 0.3214\n",
      "Episode: 309 meanReward: 9.4375 meanLoss: 0.4598\n",
      "Episode: 310 meanReward: 9.4375 meanLoss: 0.1793\n",
      "Episode: 311 meanReward: 9.5000 meanLoss: 0.1344\n",
      "Episode: 312 meanReward: 9.6562 meanLoss: 0.9762\n",
      "Episode: 313 meanReward: 9.7188 meanLoss: 2.3559\n",
      "Episode: 314 meanReward: 9.7500 meanLoss: 0.9385\n",
      "Episode: 315 meanReward: 10.0938 meanLoss: 0.8771\n",
      "Episode: 316 meanReward: 10.3125 meanLoss: 2.9510\n",
      "Episode: 317 meanReward: 10.5312 meanLoss: 1.2542\n",
      "Episode: 318 meanReward: 11.4688 meanLoss: 35.5906\n",
      "Episode: 319 meanReward: 11.6875 meanLoss: 769.7258\n",
      "Episode: 320 meanReward: 11.7188 meanLoss: 777.5386\n",
      "Episode: 321 meanReward: 13.5312 meanLoss: 98.5656\n",
      "Episode: 322 meanReward: 14.9375 meanLoss: 572.6411\n",
      "Episode: 323 meanReward: 15.7188 meanLoss: 34.6413\n",
      "Episode: 324 meanReward: 15.8750 meanLoss: 161.5967\n",
      "Episode: 325 meanReward: 15.9688 meanLoss: 319.7905\n",
      "Episode: 326 meanReward: 15.9375 meanLoss: 371.4769\n",
      "Episode: 327 meanReward: 15.9375 meanLoss: 303.8893\n",
      "Episode: 328 meanReward: 15.9375 meanLoss: 151.3420\n",
      "Episode: 329 meanReward: 15.9375 meanLoss: 73.5545\n",
      "Episode: 330 meanReward: 15.9688 meanLoss: 43.0886\n",
      "Episode: 331 meanReward: 16.0625 meanLoss: 22.9753\n",
      "Episode: 332 meanReward: 16.2188 meanLoss: 16.9519\n",
      "Episode: 333 meanReward: 16.7188 meanLoss: 22.9605\n",
      "Episode: 334 meanReward: 17.5625 meanLoss: 30.4616\n",
      "Episode: 335 meanReward: 18.1875 meanLoss: 48.5871\n",
      "Episode: 336 meanReward: 18.6875 meanLoss: 10.0031\n",
      "Episode: 337 meanReward: 18.9375 meanLoss: 9.0567\n",
      "Episode: 338 meanReward: 19.0938 meanLoss: 11.6778\n",
      "Episode: 339 meanReward: 19.2188 meanLoss: 8.8243\n",
      "Episode: 340 meanReward: 19.3438 meanLoss: 4.7742\n",
      "Episode: 341 meanReward: 19.4375 meanLoss: 1.4204\n"
     ]
    },
    {
     "name": "stdout",
     "output_type": "stream",
     "text": [
      "Episode: 342 meanReward: 19.4688 meanLoss: 0.5560\n",
      "Episode: 343 meanReward: 19.5625 meanLoss: 0.3399\n",
      "Episode: 344 meanReward: 20.2188 meanLoss: 0.4950\n",
      "Episode: 345 meanReward: 21.1562 meanLoss: 0.5652\n",
      "Episode: 346 meanReward: 21.7188 meanLoss: 1.0414\n",
      "Episode: 347 meanReward: 22.5625 meanLoss: 1.3368\n",
      "Episode: 348 meanReward: 23.6250 meanLoss: 1.1145\n",
      "Episode: 349 meanReward: 24.8438 meanLoss: 0.9540\n",
      "Episode: 350 meanReward: 24.7812 meanLoss: 1.4731\n",
      "Episode: 351 meanReward: 25.5000 meanLoss: 0.6568\n",
      "Episode: 352 meanReward: 29.2500 meanLoss: 3.2040\n",
      "Episode: 353 meanReward: 29.6562 meanLoss: 8.2118\n",
      "Episode: 354 meanReward: 32.5625 meanLoss: 9.3398\n",
      "Episode: 355 meanReward: 36.9062 meanLoss: 53.2631\n",
      "Episode: 356 meanReward: 36.7500 meanLoss: 2364.8015\n",
      "Episode: 357 meanReward: 36.6875 meanLoss: 2893.9006\n",
      "Episode: 358 meanReward: 36.7188 meanLoss: 1679.7695\n",
      "Episode: 359 meanReward: 36.8125 meanLoss: 276.9999\n",
      "Episode: 360 meanReward: 37.3125 meanLoss: 96.7212\n",
      "Episode: 361 meanReward: 37.3125 meanLoss: 173.0064\n",
      "Episode: 362 meanReward: 37.2500 meanLoss: 162.9909\n",
      "Episode: 363 meanReward: 43.2812 meanLoss: 76.7494\n",
      "Episode: 364 meanReward: 44.0625 meanLoss: 128.4262\n",
      "Episode: 365 meanReward: 44.1875 meanLoss: 179.9555\n",
      "Episode: 366 meanReward: 44.7812 meanLoss: 76.2590\n",
      "Episode: 367 meanReward: 46.4688 meanLoss: 70.7880\n",
      "Episode: 368 meanReward: 49.1875 meanLoss: 74.7822\n",
      "Episode: 369 meanReward: 51.7812 meanLoss: 54.0361\n",
      "Episode: 370 meanReward: 55.0625 meanLoss: 25.3459\n",
      "Episode: 371 meanReward: 66.7188 meanLoss: 64.4655\n",
      "Episode: 372 meanReward: 66.6562 meanLoss: 1604.5171\n",
      "Episode: 373 meanReward: 68.9062 meanLoss: 221.7117\n",
      "Episode: 374 meanReward: 69.8750 meanLoss: 296.6730\n",
      "Episode: 375 meanReward: 70.2500 meanLoss: 371.2088\n",
      "Episode: 376 meanReward: 69.5938 meanLoss: 310.9446\n",
      "Episode: 377 meanReward: 69.3438 meanLoss: 174.0243\n",
      "Episode: 378 meanReward: 69.5938 meanLoss: 62.6966\n"
     ]
    }
   ],
   "source": [
    "# Now train with experiences\n",
    "saver = tf.train.Saver() # save the trained model\n",
    "rewards_list, loss_list = [], []\n",
    "\n",
    "# TF session for training\n",
    "with tf.Session(graph=graph) as sess:\n",
    "    sess.run(tf.global_variables_initializer())\n",
    "    #saver.restore(sess, 'checkpoints/model.ckpt')    \n",
    "    #saver.restore(sess, tf.train.latest_checkpoint('checkpoints'))\n",
    "    episode_reward = deque(maxlen=batch_size)\n",
    "    \n",
    "    # Training episodes/epochs\n",
    "    for ep in range(11111):\n",
    "        total_reward = 0\n",
    "        loss_batch = []\n",
    "        state = env.reset()\n",
    "\n",
    "        # Training steps/batches\n",
    "        while True:\n",
    "            # Testing\n",
    "            action_logits = sess.run(model.actions_logits, feed_dict = {model.states: state.reshape([1, -1])})\n",
    "            action = np.argmax(action_logits)\n",
    "            next_state, reward, done, _ = env.step(action)\n",
    "            memory.buffer.append([state, action, next_state, reward, float(done)])\n",
    "            total_reward += reward\n",
    "            state = next_state\n",
    "\n",
    "            # Training\n",
    "            batch = memory.buffer\n",
    "            states = np.array([each[0] for each in batch])\n",
    "            actions = np.array([each[1] for each in batch])\n",
    "            next_states = np.array([each[2] for each in batch])\n",
    "            rewards = np.array([each[3] for each in batch])\n",
    "            dones = np.array([each[4] for each in batch])\n",
    "            actions_logits = sess.run(model.actions_logits, feed_dict = {model.states: states})\n",
    "            labelQs = np.max(actions_logits, axis=1) # explore\n",
    "            next_actions_logits = sess.run(model.actions_logits, feed_dict = {model.states: next_states})\n",
    "            nextQs = np.max(next_actions_logits, axis=1) * (1-dones) # exploit\n",
    "            targetQs = rewards + (0.99 * nextQs)\n",
    "            loss, _, lossQlbl, lossQtgt = sess.run([model.loss, model.opt, model.lossQlbl, model.lossQtgt], \n",
    "                                                   feed_dict = {model.states: states,\n",
    "                                                                model.actions: actions,\n",
    "                                                                model.targetQs: targetQs,\n",
    "                                                                model.labelQs: labelQs})\n",
    "            loss_batch.append(loss)\n",
    "            if done is True:\n",
    "                break\n",
    "                \n",
    "        episode_reward.append(total_reward)\n",
    "        print('Episode: {}'.format(ep),\n",
    "              'meanReward: {:.4f}'.format(np.mean(episode_reward)),\n",
    "              'meanLoss: {:.4f}'.format(np.mean(loss_batch)))\n",
    "        rewards_list.append([ep, np.mean(episode_reward)])\n",
    "        loss_list.append([ep, np.mean(loss_batch)])\n",
    "        if(np.mean(episode_reward) >= 500):\n",
    "            break\n",
    "    \n",
    "    saver.save(sess, 'checkpoints/model5.ckpt')"
   ]
  },
  {
   "cell_type": "markdown",
   "metadata": {},
   "source": [
    "# Visualizing training\n",
    "\n",
    "Below I'll plot the total rewards for each episode. I'm plotting the rolling average too, in blue."
   ]
  },
  {
   "cell_type": "code",
   "execution_count": null,
   "metadata": {},
   "outputs": [],
   "source": [
    "%matplotlib inline\n",
    "import matplotlib.pyplot as plt\n",
    "\n",
    "def running_mean(x, N):\n",
    "    cumsum = np.cumsum(np.insert(x, 0, 0)) \n",
    "    return (cumsum[N:] - cumsum[:-N]) / N "
   ]
  },
  {
   "cell_type": "code",
   "execution_count": null,
   "metadata": {},
   "outputs": [],
   "source": [
    "eps, arr = np.array(rewards_list).T\n",
    "smoothed_arr = running_mean(arr, 10)\n",
    "plt.plot(eps[-len(smoothed_arr):], smoothed_arr)\n",
    "plt.plot(eps, arr, color='grey', alpha=0.3)\n",
    "plt.xlabel('Episode')\n",
    "plt.ylabel('Total rewards')"
   ]
  },
  {
   "cell_type": "code",
   "execution_count": null,
   "metadata": {},
   "outputs": [],
   "source": [
    "eps, arr = np.array(loss_list).T\n",
    "smoothed_arr = running_mean(arr, 10)\n",
    "plt.plot(eps[-len(smoothed_arr):], smoothed_arr)\n",
    "plt.plot(eps, arr, color='grey', alpha=0.3)\n",
    "plt.xlabel('Episode')\n",
    "plt.ylabel('Average losses')"
   ]
  },
  {
   "cell_type": "markdown",
   "metadata": {},
   "source": [
    "## Testing\n",
    "\n",
    "Let's checkout how our trained agent plays the game."
   ]
  },
  {
   "cell_type": "code",
   "execution_count": 184,
   "metadata": {},
   "outputs": [
    {
     "name": "stdout",
     "output_type": "stream",
     "text": [
      "\u001b[33mWARN: gym.spaces.Box autodetected dtype as <class 'numpy.float32'>. Please provide explicit dtype.\u001b[0m\n",
      "\u001b[33mWARN: gym.spaces.Box autodetected dtype as <class 'numpy.float32'>. Please provide explicit dtype.\u001b[0m\n",
      "INFO:tensorflow:Restoring parameters from checkpoints/model.ckpt\n"
     ]
    },
    {
     "name": "stderr",
     "output_type": "stream",
     "text": [
      "/home/arasdar/anaconda3/envs/env/lib/python3.6/site-packages/gym/__init__.py:22: UserWarning: DEPRECATION WARNING: to improve load times, gym no longer automatically loads gym.spaces. Please run \"import gym.spaces\" to load gym.spaces on your own. This warning will turn into an error in a future version of gym.\n",
      "  warnings.warn('DEPRECATION WARNING: to improve load times, gym no longer automatically loads gym.spaces. Please run \"import gym.spaces\" to load gym.spaces on your own. This warning will turn into an error in a future version of gym.')\n"
     ]
    },
    {
     "name": "stdout",
     "output_type": "stream",
     "text": [
      "total_reward:120.0\n"
     ]
    }
   ],
   "source": [
    "import gym\n",
    "\n",
    "# Create the Cart-Pole game environment\n",
    "env = gym.make('CartPole-v0')\n",
    "env = gym.make('CartPole-v1')\n",
    "\n",
    "with tf.Session(graph=graph) as sess:\n",
    "    sess.run(tf.global_variables_initializer())\n",
    "    #saver.restore(sess, 'checkpoints/model-seq.ckpt')    \n",
    "    saver.restore(sess, tf.train.latest_checkpoint('checkpoints'))\n",
    "    initial_state = sess.run(model.initial_state) # Qs or current batch or states[:-1]\n",
    "    state = env.reset()\n",
    "    total_reward = 0\n",
    "    while True:\n",
    "        env.render()\n",
    "        action_logits, initial_state = sess.run([model.actions_logits, model.final_state],\n",
    "                                                feed_dict = {model.states: state.reshape([1, -1]), \n",
    "                                                             model.initial_state: initial_state})\n",
    "        action = np.argmax(action_logits)\n",
    "        state, reward, done, _ = env.step(action)\n",
    "        total_reward += reward\n",
    "        if done:\n",
    "            break\n",
    "print('total_reward:{}'.format(total_reward))\n",
    "env.close()"
   ]
  },
  {
   "cell_type": "markdown",
   "metadata": {},
   "source": [
    "## Extending this\n",
    "\n",
    "So, Cart-Pole is a pretty simple game. However, the same model can be used to train an agent to play something much more complicated like Pong or Space Invaders. Instead of a state like we're using here though, you'd want to use convolutional layers to get the state from the screen images.\n",
    "\n",
    "![Deep Q-Learning Atari](assets/atari-network.png)\n",
    "\n",
    "I'll leave it as a challenge for you to use deep Q-learning to train an agent to play Atari games. Here's the original paper which will get you started: http://www.davidqiu.com:8888/research/nature14236.pdf."
   ]
  },
  {
   "cell_type": "code",
   "execution_count": null,
   "metadata": {},
   "outputs": [],
   "source": []
  }
 ],
 "metadata": {
  "kernelspec": {
   "display_name": "Python 3",
   "language": "python",
   "name": "python3"
  },
  "language_info": {
   "codemirror_mode": {
    "name": "ipython",
    "version": 3
   },
   "file_extension": ".py",
   "mimetype": "text/x-python",
   "name": "python",
   "nbconvert_exporter": "python",
   "pygments_lexer": "ipython3",
   "version": "3.6.5"
  }
 },
 "nbformat": 4,
 "nbformat_minor": 2
}
