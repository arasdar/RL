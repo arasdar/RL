{
 "cells": [
  {
   "cell_type": "markdown",
   "metadata": {},
   "source": [
    "# Sequential Q-learning\n",
    "\n",
    "In this notebook, we'll build a neural network that can learn to play games through reinforcement learning. More specifically, we'll use Q-learning to train an agent to play a game called [Cart-Pole](https://gym.openai.com/envs/CartPole-v0). In this game, a freely swinging pole is attached to a cart. The cart can move to the left and right, and the goal is to keep the pole upright as long as possible.\n",
    "\n",
    "![Cart-Pole](assets/cart-pole.jpg)\n",
    "\n",
    "We can simulate this game using [OpenAI Gym](https://gym.openai.com/). First, let's check out how OpenAI Gym works. Then, we'll get into training an agent to play the Cart-Pole game."
   ]
  },
  {
   "cell_type": "code",
   "execution_count": 1,
   "metadata": {},
   "outputs": [],
   "source": [
    "import gym\n",
    "import numpy as np"
   ]
  },
  {
   "cell_type": "code",
   "execution_count": 2,
   "metadata": {},
   "outputs": [
    {
     "name": "stdout",
     "output_type": "stream",
     "text": [
      "TensorFlow Version: 1.7.1\n",
      "Default GPU Device: \n"
     ]
    }
   ],
   "source": [
    "# In this one we should define and detect GPUs for tensorflow\n",
    "# GPUs or CPU\n",
    "import tensorflow as tf\n",
    "\n",
    "# Check TensorFlow Version\n",
    "print('TensorFlow Version: {}'.format(tf.__version__))\n",
    "\n",
    "# Check for a GPU\n",
    "print('Default GPU Device: {}'.format(tf.test.gpu_device_name()))"
   ]
  },
  {
   "cell_type": "markdown",
   "metadata": {},
   "source": [
    ">**Note:** Make sure you have OpenAI Gym cloned into the same directory with this notebook. I've included `gym` as a submodule, so you can run `git submodule --init --recursive` to pull the contents into the `gym` repo."
   ]
  },
  {
   "cell_type": "markdown",
   "metadata": {},
   "source": [
    ">**Note:** Make sure you have OpenAI Gym cloned. Then run this command `pip install -e gym/[all]`."
   ]
  },
  {
   "cell_type": "code",
   "execution_count": 3,
   "metadata": {},
   "outputs": [
    {
     "name": "stdout",
     "output_type": "stream",
     "text": [
      "\u001b[33mWARN: gym.spaces.Box autodetected dtype as <class 'numpy.float32'>. Please provide explicit dtype.\u001b[0m\n",
      "\u001b[33mWARN: gym.spaces.Box autodetected dtype as <class 'numpy.float32'>. Please provide explicit dtype.\u001b[0m\n"
     ]
    },
    {
     "name": "stderr",
     "output_type": "stream",
     "text": [
      "/home/arasdar/anaconda3/envs/env/lib/python3.6/site-packages/gym/__init__.py:22: UserWarning: DEPRECATION WARNING: to improve load times, gym no longer automatically loads gym.spaces. Please run \"import gym.spaces\" to load gym.spaces on your own. This warning will turn into an error in a future version of gym.\n",
      "  warnings.warn('DEPRECATION WARNING: to improve load times, gym no longer automatically loads gym.spaces. Please run \"import gym.spaces\" to load gym.spaces on your own. This warning will turn into an error in a future version of gym.')\n"
     ]
    }
   ],
   "source": [
    "import gym\n",
    "\n",
    "# Create the Cart-Pole game environment\n",
    "env = gym.make('CartPole-v0')\n",
    "env = gym.make('CartPole-v1')"
   ]
  },
  {
   "cell_type": "markdown",
   "metadata": {},
   "source": [
    "We interact with the simulation through `env`. To show the simulation running, you can use `env.render()` to render one frame. Passing in an action as an integer to `env.step` will generate the next step in the simulation.  You can see how many actions are possible from `env.action_space` and to get a random action you can use `env.action_space.sample()`. This is general to all Gym games. In the Cart-Pole game, there are two possible actions, moving the cart left or right. So there are two actions we can take, encoded as 0 and 1.\n",
    "\n",
    "Run the code below to watch the simulation run."
   ]
  },
  {
   "cell_type": "code",
   "execution_count": 4,
   "metadata": {},
   "outputs": [
    {
     "name": "stdout",
     "output_type": "stream",
     "text": [
      "state, action, reward, done, info: [-0.03091863 -0.23794214 -0.02249439  0.27883773] 0 1.0 False {}\n",
      "state, action, reward, done, info: [-0.03567748 -0.04250664 -0.01691764 -0.02085416] 1 1.0 False {}\n",
      "state, action, reward, done, info: [-0.03652761  0.15285379 -0.01733472 -0.31882642] 1 1.0 False {}\n",
      "state, action, reward, done, info: [-0.03347053 -0.04201704 -0.02371125 -0.03166024] 0 1.0 False {}\n",
      "state, action, reward, done, info: [-0.03431087  0.15343678 -0.02434445 -0.331729  ] 1 1.0 False {}\n",
      "state, action, reward, done, info: [-0.03124214  0.34889664 -0.03097903 -0.63198848] 1 1.0 False {}\n",
      "state, action, reward, done, info: [-0.02426421  0.54443679 -0.0436188  -0.93426436] 1 1.0 False {}\n",
      "state, action, reward, done, info: [-0.01337547  0.74011915 -0.06230409 -1.24032858] 1 1.0 False {}\n",
      "state, action, reward, done, info: [ 1.42691346e-03  9.35983314e-01 -8.71106622e-02 -1.55186033e+00] 1 1.0 False {}\n",
      "state, action, reward, done, info: [ 0.02014658  1.13203526 -0.11814787 -1.87040133] 1 1.0 False {}\n"
     ]
    }
   ],
   "source": [
    "env.reset()\n",
    "for _ in range(10):\n",
    "    # env.render()\n",
    "    action = env.action_space.sample()\n",
    "    state, reward, done, info = env.step(action) # take a random action\n",
    "    print('state, action, reward, done, info:', state, action, reward, done, info)\n",
    "    if done:\n",
    "        env.reset()"
   ]
  },
  {
   "cell_type": "markdown",
   "metadata": {},
   "source": [
    "To shut the window showing the simulation, use `env.close()`."
   ]
  },
  {
   "cell_type": "markdown",
   "metadata": {},
   "source": [
    "If you ran the simulation above, we can look at the rewards:"
   ]
  },
  {
   "cell_type": "code",
   "execution_count": 5,
   "metadata": {},
   "outputs": [],
   "source": [
    "# print(rewards[-20:])\n",
    "# print(np.array(rewards).shape, np.array(states).shape, np.array(actions).shape, np.array(dones).shape)\n",
    "# print(np.array(rewards).dtype, np.array(states).dtype, np.array(actions).dtype, np.array(dones).dtype)\n",
    "# print(np.max(np.array(actions)), np.min(np.array(actions)))\n",
    "# print((np.max(np.array(actions)) - np.min(np.array(actions)))+1)\n",
    "# print(np.max(np.array(rewards)), np.min(np.array(rewards)))\n",
    "# print(np.max(np.array(states)), np.min(np.array(states)))"
   ]
  },
  {
   "cell_type": "markdown",
   "metadata": {},
   "source": [
    "The game resets after the pole has fallen past a certain angle. For each frame while the simulation is running, it returns a reward of 1.0. The longer the game runs, the more reward we get. Then, our network's goal is to maximize the reward by keeping the pole vertical. It will do this by moving the cart to the left and the right."
   ]
  },
  {
   "cell_type": "markdown",
   "metadata": {},
   "source": [
    "## Q-Network\n",
    "\n",
    "We train our Q-learning agent using the Bellman Equation:\n",
    "\n",
    "$$\n",
    "Q(s, a) = r + \\gamma \\max{Q(s', a')}\n",
    "$$\n",
    "\n",
    "where $s$ is a state, $a$ is an action, and $s'$ is the next state from state $s$ and action $a$.\n",
    "\n",
    "Before we used this equation to learn values for a Q-_table_. However, for this game there are a huge number of states available. The state has four values: the position and velocity of the cart, and the position and velocity of the pole. These are all real-valued numbers, so ignoring floating point precisions, you practically have infinite states. Instead of using a table then, we'll replace it with a neural network that will approximate the Q-table lookup function.\n",
    "\n",
    "<img src=\"assets/deep-q-learning.png\" width=450px>\n",
    "\n",
    "Now, our Q value, $Q(s, a)$ is calculated by passing in a state to the network. The output will be Q-values for each available action, with fully connected hidden layers.\n",
    "\n",
    "<img src=\"assets/q-network.png\" width=550px>\n",
    "\n",
    "\n",
    "As I showed before, we can define our targets for training as $\\hat{Q}(s,a) = r + \\gamma \\max{Q(s', a')}$. Then we update the weights by minimizing $(\\hat{Q}(s,a) - Q(s,a))^2$. \n",
    "\n",
    "For this Cart-Pole game, we have four inputs, one for each value in the state, and two outputs, one for each action. To get $\\hat{Q}$, we'll first choose an action, then simulate the game using that action. This will get us the next state, $s'$, and the reward. With that, we can calculate $\\hat{Q}$ then pass it back into the $Q$ network to run the optimizer and update the weights.\n",
    "\n",
    "Below is my implementation of the Q-network. I used two fully connected layers with ReLU activations. Two seems to be good enough, three might be better. Feel free to try it out."
   ]
  },
  {
   "cell_type": "code",
   "execution_count": 6,
   "metadata": {},
   "outputs": [],
   "source": [
    "def model_input(state_size):\n",
    "    actions = tf.placeholder(tf.int32, [None], name='actions')\n",
    "    states = tf.placeholder(tf.float32, [None, state_size], name='states')\n",
    "    targetQs = tf.placeholder(tf.float32, [None], name='targetQs')\n",
    "    labelQs = tf.placeholder(tf.float32, [None], name='labelQs')\n",
    "    return actions, states, targetQs, labelQs"
   ]
  },
  {
   "cell_type": "code",
   "execution_count": 7,
   "metadata": {},
   "outputs": [],
   "source": [
    "# Generator: Generating/prediting the actions\n",
    "def generator(states, action_size, hidden_size, reuse=False, alpha=0.1, training=False):\n",
    "    with tf.variable_scope('generator', reuse=reuse):\n",
    "        # First fully connected layer\n",
    "        h1 = tf.layers.dense(inputs=states, units=hidden_size)\n",
    "        bn1 = tf.layers.batch_normalization(h1, training=training)        \n",
    "        nl1 = tf.maximum(alpha * bn1, bn1)\n",
    "        \n",
    "        # Second fully connected layer\n",
    "        h2 = tf.layers.dense(inputs=nl1, units=hidden_size)\n",
    "        bn2 = tf.layers.batch_normalization(h2, training=training)        \n",
    "        nl2 = tf.maximum(alpha * bn2, bn2)\n",
    "        \n",
    "        # Output layer\n",
    "        logits = tf.layers.dense(inputs=nl2, units=action_size)        \n",
    "        #predictions = tf.nn.softmax(logits)\n",
    "\n",
    "        # return actions logits\n",
    "        return logits"
   ]
  },
  {
   "cell_type": "code",
   "execution_count": 8,
   "metadata": {},
   "outputs": [],
   "source": [
    "def model_loss(action_size, hidden_size, states, actions, targetQs, labelQs):\n",
    "    actions_logits = generator(states=states, hidden_size=hidden_size, action_size=action_size)\n",
    "    actions_labels = tf.one_hot(indices=actions, depth=action_size, dtype=actions_logits.dtype)\n",
    "    Qs = tf.reduce_max(actions_logits*actions_labels, axis=1)\n",
    "    lossQtgt = tf.reduce_mean(tf.square(Qs - targetQs)) # next state, next action and nextQs\n",
    "    lossQlbl = tf.reduce_mean(tf.square(Qs - labelQs)) # current state, action, and currentQs\n",
    "    # lossQtgt_sigm = tf.reduce_mean(tf.nn.sigmoid_cross_entropy_with_logits(logits=Qs, \n",
    "    #                                                                        labels=tf.nn.sigmoid(targetQs)))\n",
    "    # lossQlbl_sigm = tf.reduce_mean(tf.nn.sigmoid_cross_entropy_with_logits(logits=Qs,\n",
    "    #                                                                        labels=tf.nn.sigmoid(labelQs)))\n",
    "    loss = lossQtgt + lossQlbl #+ lossQtgt_sigm + lossQlbl_sigm\n",
    "    return actions_logits, loss, lossQtgt, lossQlbl"
   ]
  },
  {
   "cell_type": "code",
   "execution_count": 9,
   "metadata": {},
   "outputs": [],
   "source": [
    "def model_opt(loss, learning_rate):\n",
    "    # Get weights and bias to update\n",
    "    t_vars = tf.trainable_variables()\n",
    "    g_vars = [var for var in t_vars if var.name.startswith('generator')]\n",
    "\n",
    "    # Optimize\n",
    "    with tf.control_dependencies(tf.get_collection(tf.GraphKeys.UPDATE_OPS)): # Required for batchnorm (BN)\n",
    "        opt = tf.train.AdamOptimizer(learning_rate).minimize(loss, var_list=g_vars)\n",
    "\n",
    "    return opt"
   ]
  },
  {
   "cell_type": "code",
   "execution_count": 10,
   "metadata": {},
   "outputs": [],
   "source": [
    "class Model:\n",
    "    def __init__(self, state_size, action_size, hidden_size, learning_rate):\n",
    "\n",
    "        # Data of the Model: make the data available inside the framework\n",
    "        self.actions, self.states, self.targetQs, self.labelQs = model_input(state_size=state_size)\n",
    "        \n",
    "        # Create the Model: calculating the loss and forwad pass\n",
    "        self.actions_logits, self.loss, self.lossQtgt, self.lossQlbl = model_loss(\n",
    "            action_size=action_size, hidden_size=hidden_size, \n",
    "            states=self.states, actions=self.actions, \n",
    "            targetQs=self.targetQs, labelQs=self.labelQs)\n",
    "\n",
    "        # Update the model: backward pass and backprop\n",
    "        self.opt = model_opt(loss=self.loss, learning_rate=learning_rate)"
   ]
  },
  {
   "cell_type": "markdown",
   "metadata": {},
   "source": [
    "## Experience replay\n",
    "\n",
    "Reinforcement learning algorithms can have stability issues due to correlations between states. To reduce correlations when training, we can store the agent's experiences and later draw a random mini-batch of those experiences to train on. \n",
    "\n",
    "Here, we'll create a `Memory` object that will store our experiences, our transitions $<s, a, r, s'>$. This memory will have a maxmium capacity, so we can keep newer experiences in memory while getting rid of older experiences. Then, we'll sample a random mini-batch of transitions $<s, a, r, s'>$ and train on those.\n",
    "\n",
    "Below, I've implemented a `Memory` object. If you're unfamiliar with `deque`, this is a double-ended queue. You can think of it like a tube open on both sides. You can put objects in either side of the tube. But if it's full, adding anything more will push an object out the other side. This is a great data structure to use for the memory buffer."
   ]
  },
  {
   "cell_type": "code",
   "execution_count": 11,
   "metadata": {},
   "outputs": [],
   "source": [
    "from collections import deque\n",
    "\n",
    "class Memory():    \n",
    "    def __init__(self, max_size = 1000):\n",
    "        self.buffer = deque(maxlen=max_size)"
   ]
  },
  {
   "cell_type": "markdown",
   "metadata": {},
   "source": [
    "## Exploration - Exploitation\n",
    "\n",
    "To learn about the environment and rules of the game, the agent needs to explore by taking random actions. We'll do this by choosing a random action with some probability $\\epsilon$ (epsilon).  That is, with some probability $\\epsilon$ the agent will make a random action and with probability $1 - \\epsilon$, the agent will choose an action from $Q(s,a)$. This is called an **$\\epsilon$-greedy policy**.\n",
    "\n",
    "\n",
    "At first, the agent needs to do a lot of exploring. Later when it has learned more, the agent can favor choosing actions based on what it has learned. This is called _exploitation_. We'll set it up so the agent is more likely to explore early in training, then more likely to exploit later in training."
   ]
  },
  {
   "cell_type": "markdown",
   "metadata": {},
   "source": [
    "## Q-Learning training algorithm\n",
    "\n",
    "Putting all this together, we can list out the algorithm we'll use to train the network. We'll train the network in _episodes_. One *episode* is one simulation of the game. For this game, the goal is to keep the pole upright for 195 frames. So we can start a new episode once meeting that goal. The game ends if the pole tilts over too far, or if the cart moves too far the left or right. When a game ends, we'll start a new episode. Now, to train the agent:\n",
    "\n",
    "* Initialize the memory $D$\n",
    "* Initialize the action-value network $Q$ with random weights\n",
    "* **For** episode = 1, $M$ **do**\n",
    "  * **For** $t$, $T$ **do**\n",
    "     * With probability $\\epsilon$ select a random action $a_t$, otherwise select $a_t = \\mathrm{argmax}_a Q(s,a)$\n",
    "     * Execute action $a_t$ in simulator and observe reward $r_{t+1}$ and new state $s_{t+1}$\n",
    "     * Store transition $<s_t, a_t, r_{t+1}, s_{t+1}>$ in memory $D$\n",
    "     * Sample random mini-batch from $D$: $<s_j, a_j, r_j, s'_j>$\n",
    "     * Set $\\hat{Q}_j = r_j$ if the episode ends at $j+1$, otherwise set $\\hat{Q}_j = r_j + \\gamma \\max_{a'}{Q(s'_j, a')}$\n",
    "     * Make a gradient descent step with loss $(\\hat{Q}_j - Q(s_j, a_j))^2$\n",
    "  * **endfor**\n",
    "* **endfor**"
   ]
  },
  {
   "cell_type": "markdown",
   "metadata": {},
   "source": [
    "## Hyperparameters\n",
    "\n",
    "One of the more difficult aspects of reinforcememt learning are the large number of hyperparameters. Not only are we tuning the network, but we're tuning the simulation."
   ]
  },
  {
   "cell_type": "code",
   "execution_count": 12,
   "metadata": {},
   "outputs": [],
   "source": [
    "# print('state:', np.array(states).shape[1], \n",
    "#       'action size: {}'.format((np.max(np.array(actions)) - np.min(np.array(actions)))+1))"
   ]
  },
  {
   "cell_type": "code",
   "execution_count": 13,
   "metadata": {},
   "outputs": [],
   "source": [
    "# Training parameters\n",
    "# Network parameters\n",
    "state_size = 4                 # number of units for the input state/observation -- simulation\n",
    "action_size = 2                # number of units for the output actions -- simulation\n",
    "hidden_size = 64               # number of units in each Q-network hidden layer -- simulation\n",
    "batch_size = 1000              # number of samples in the memory/ experience as mini-batch size\n",
    "learning_rate = 0.001          # learning rate for adam"
   ]
  },
  {
   "cell_type": "code",
   "execution_count": 14,
   "metadata": {},
   "outputs": [],
   "source": [
    "# Reset/init the graph/session\n",
    "graph = tf.reset_default_graph()\n",
    "\n",
    "# Init the model\n",
    "model = Model(action_size=action_size, hidden_size=hidden_size, state_size=state_size, learning_rate=learning_rate)\n",
    "\n",
    "# Init the memory\n",
    "memory = Memory(max_size=batch_size)"
   ]
  },
  {
   "cell_type": "markdown",
   "metadata": {},
   "source": [
    "## Populate the memory (exprience memory)\n",
    "\n",
    "Here I'm re-initializing the simulation and pre-populating the memory. The agent is taking random actions and storing the transitions in memory. This will help the agent with exploring the game."
   ]
  },
  {
   "cell_type": "code",
   "execution_count": 15,
   "metadata": {},
   "outputs": [],
   "source": [
    "state = env.reset()\n",
    "for _ in range(batch_size):\n",
    "    action = env.action_space.sample()\n",
    "    next_state, reward, done, _ = env.step(action)\n",
    "    memory.buffer.append([state, action, next_state, reward, float(done)])\n",
    "    state = next_state\n",
    "    if done is True:\n",
    "        state = env.reset()"
   ]
  },
  {
   "cell_type": "markdown",
   "metadata": {},
   "source": [
    "## Training the model\n",
    "\n",
    "Below we'll train our agent. If you want to watch it train, uncomment the `env.render()` line. This is slow because it's rendering the frames slower than the network can train. But, it's cool to watch the agent get better at the game."
   ]
  },
  {
   "cell_type": "code",
   "execution_count": 16,
   "metadata": {},
   "outputs": [
    {
     "data": {
      "text/plain": [
       "[array([ 0.04816909, -0.02926551,  0.00024883,  0.0418731 ]),\n",
       " 1,\n",
       " array([ 0.04758378,  0.16585287,  0.00108629, -0.25073131]),\n",
       " 1.0,\n",
       " 0.0]"
      ]
     },
     "execution_count": 16,
     "metadata": {},
     "output_type": "execute_result"
    }
   ],
   "source": [
    "memory.buffer[0]"
   ]
  },
  {
   "cell_type": "code",
   "execution_count": 17,
   "metadata": {},
   "outputs": [],
   "source": [
    "# states, rewards, actions"
   ]
  },
  {
   "cell_type": "code",
   "execution_count": null,
   "metadata": {
    "scrolled": false
   },
   "outputs": [
    {
     "name": "stdout",
     "output_type": "stream",
     "text": [
      "Episode: 0 meanReward: 10.0000 meanLoss: 1.2835\n",
      "Episode: 1 meanReward: 10.0000 meanLoss: 1.8111\n",
      "Episode: 2 meanReward: 10.0000 meanLoss: 2.3252\n",
      "Episode: 3 meanReward: 10.0000 meanLoss: 2.3325\n",
      "Episode: 4 meanReward: 9.8000 meanLoss: 2.7088\n",
      "Episode: 5 meanReward: 9.6667 meanLoss: 3.8410\n",
      "Episode: 6 meanReward: 9.5714 meanLoss: 6.1198\n",
      "Episode: 7 meanReward: 9.5000 meanLoss: 10.1193\n",
      "Episode: 8 meanReward: 9.6667 meanLoss: 16.9811\n",
      "Episode: 9 meanReward: 9.6000 meanLoss: 24.0447\n",
      "Episode: 10 meanReward: 9.8182 meanLoss: 26.4667\n",
      "Episode: 11 meanReward: 10.3333 meanLoss: 27.1927\n",
      "Episode: 12 meanReward: 11.0000 meanLoss: 26.1822\n",
      "Episode: 13 meanReward: 11.3571 meanLoss: 26.9730\n",
      "Episode: 14 meanReward: 11.6000 meanLoss: 31.9418\n",
      "Episode: 15 meanReward: 12.3750 meanLoss: 45.8226\n",
      "Episode: 16 meanReward: 16.0000 meanLoss: 71.0579\n",
      "Episode: 17 meanReward: 19.5000 meanLoss: 80.1798\n",
      "Episode: 18 meanReward: 24.8947 meanLoss: 183.7984\n",
      "Episode: 19 meanReward: 27.6500 meanLoss: 255.0010\n",
      "Episode: 20 meanReward: 30.9048 meanLoss: 505.8203\n",
      "Episode: 21 meanReward: 33.5909 meanLoss: 5920.7124\n",
      "Episode: 22 meanReward: 34.5652 meanLoss: 28264.1289\n",
      "Episode: 23 meanReward: 35.7500 meanLoss: 46204.8164\n",
      "Episode: 24 meanReward: 35.2000 meanLoss: 71939.3047\n",
      "Episode: 25 meanReward: 44.6154 meanLoss: 82410.8047\n",
      "Episode: 26 meanReward: 61.4815 meanLoss: 11265.6436\n",
      "Episode: 27 meanReward: 77.1429 meanLoss: 139048.7500\n",
      "Episode: 28 meanReward: 91.7241 meanLoss: 186084.8594\n",
      "Episode: 29 meanReward: 105.3333 meanLoss: 32969.4766\n",
      "Episode: 30 meanReward: 118.0645 meanLoss: 15125.8203\n",
      "Episode: 31 meanReward: 130.0000 meanLoss: 6571.2539\n",
      "Episode: 32 meanReward: 141.2121 meanLoss: 693.7522\n",
      "Episode: 33 meanReward: 151.7647 meanLoss: 26.0250\n",
      "Episode: 34 meanReward: 151.1143 meanLoss: 573.1946\n",
      "Episode: 35 meanReward: 152.3333 meanLoss: 8080.2554\n",
      "Episode: 36 meanReward: 152.7297 meanLoss: 14812.3643\n",
      "Episode: 37 meanReward: 161.8684 meanLoss: 30689.4355\n",
      "Episode: 38 meanReward: 161.0769 meanLoss: 36618.8320\n",
      "Episode: 39 meanReward: 159.1000 meanLoss: 31565.4023\n",
      "Episode: 40 meanReward: 158.4390 meanLoss: 39117.6523\n",
      "Episode: 41 meanReward: 166.5714 meanLoss: 32962.1602\n",
      "Episode: 42 meanReward: 174.3256 meanLoss: 20941.6758\n",
      "Episode: 43 meanReward: 181.7273 meanLoss: 9.3654\n",
      "Episode: 44 meanReward: 185.5556 meanLoss: 16.1079\n",
      "Episode: 45 meanReward: 182.4565 meanLoss: 5101.8472\n",
      "Episode: 46 meanReward: 178.8085 meanLoss: 50617.6992\n",
      "Episode: 47 meanReward: 175.2917 meanLoss: 121194.5000\n",
      "Episode: 48 meanReward: 172.2653 meanLoss: 114993.7109\n",
      "Episode: 49 meanReward: 170.7600 meanLoss: 160110.1406\n",
      "Episode: 50 meanReward: 168.6863 meanLoss: 1667857.5000\n",
      "Episode: 51 meanReward: 167.4808 meanLoss: 3220163.5000\n",
      "Episode: 52 meanReward: 165.8868 meanLoss: 3773395.2500\n",
      "Episode: 53 meanReward: 171.5556 meanLoss: 6469576.5000\n",
      "Episode: 54 meanReward: 174.5273 meanLoss: 11012804.0000\n",
      "Episode: 55 meanReward: 172.5179 meanLoss: 2185676.5000\n",
      "Episode: 56 meanReward: 169.7719 meanLoss: 4621616.0000\n",
      "Episode: 57 meanReward: 167.0172 meanLoss: 8204697.0000\n",
      "Episode: 58 meanReward: 164.4746 meanLoss: 12952504.0000\n",
      "Episode: 59 meanReward: 162.0000 meanLoss: 12723710.0000\n",
      "Episode: 60 meanReward: 163.7213 meanLoss: 2532449.5000\n",
      "Episode: 61 meanReward: 165.5161 meanLoss: 8666858.0000\n",
      "Episode: 62 meanReward: 167.2063 meanLoss: 64425820.0000\n",
      "Episode: 63 meanReward: 171.1406 meanLoss: 87768616.0000\n",
      "Episode: 64 meanReward: 174.2615 meanLoss: 82912456.0000\n",
      "Episode: 65 meanReward: 175.8333 meanLoss: 79563712.0000\n",
      "Episode: 66 meanReward: 177.1940 meanLoss: 92812032.0000\n",
      "Episode: 67 meanReward: 178.6324 meanLoss: 104067936.0000\n",
      "Episode: 68 meanReward: 179.7971 meanLoss: 117736048.0000\n",
      "Episode: 69 meanReward: 181.1857 meanLoss: 121041088.0000\n",
      "Episode: 70 meanReward: 182.2535 meanLoss: 120993608.0000\n",
      "Episode: 71 meanReward: 183.4861 meanLoss: 121065824.0000\n",
      "Episode: 72 meanReward: 184.6575 meanLoss: 119855232.0000\n",
      "Episode: 73 meanReward: 185.7568 meanLoss: 120959696.0000\n",
      "Episode: 74 meanReward: 187.0667 meanLoss: 119801640.0000\n",
      "Episode: 75 meanReward: 188.0789 meanLoss: 119756792.0000\n",
      "Episode: 76 meanReward: 189.1429 meanLoss: 119650768.0000\n",
      "Episode: 77 meanReward: 190.3590 meanLoss: 117469024.0000\n",
      "Episode: 78 meanReward: 191.3797 meanLoss: 117451864.0000\n",
      "Episode: 79 meanReward: 192.5500 meanLoss: 115836848.0000\n",
      "Episode: 80 meanReward: 193.4568 meanLoss: 115306592.0000\n",
      "Episode: 81 meanReward: 194.3415 meanLoss: 117377840.0000\n",
      "Episode: 82 meanReward: 195.1928 meanLoss: 118510616.0000\n",
      "Episode: 83 meanReward: 196.0119 meanLoss: 121744368.0000\n",
      "Episode: 84 meanReward: 196.7529 meanLoss: 122322728.0000\n",
      "Episode: 85 meanReward: 197.5581 meanLoss: 122550624.0000\n",
      "Episode: 86 meanReward: 198.4368 meanLoss: 121046712.0000\n",
      "Episode: 87 meanReward: 199.0341 meanLoss: 120639584.0000\n",
      "Episode: 88 meanReward: 200.0899 meanLoss: 119526840.0000\n",
      "Episode: 89 meanReward: 200.7333 meanLoss: 119228840.0000\n",
      "Episode: 90 meanReward: 201.5824 meanLoss: 119966464.0000\n",
      "Episode: 91 meanReward: 202.2065 meanLoss: 118118912.0000\n",
      "Episode: 92 meanReward: 202.9785 meanLoss: 119814576.0000\n",
      "Episode: 93 meanReward: 203.6596 meanLoss: 118289104.0000\n",
      "Episode: 94 meanReward: 204.4632 meanLoss: 119583344.0000\n",
      "Episode: 95 meanReward: 205.0833 meanLoss: 118751160.0000\n",
      "Episode: 96 meanReward: 205.6804 meanLoss: 120153920.0000\n",
      "Episode: 97 meanReward: 206.2551 meanLoss: 120757080.0000\n",
      "Episode: 98 meanReward: 206.8384 meanLoss: 121789496.0000\n",
      "Episode: 99 meanReward: 207.7000 meanLoss: 121689280.0000\n",
      "Episode: 100 meanReward: 208.5050 meanLoss: 119985248.0000\n",
      "Episode: 101 meanReward: 209.0294 meanLoss: 118370616.0000\n",
      "Episode: 102 meanReward: 209.7087 meanLoss: 116546616.0000\n",
      "Episode: 103 meanReward: 210.3558 meanLoss: 115623720.0000\n",
      "Episode: 104 meanReward: 210.9714 meanLoss: 116159920.0000\n",
      "Episode: 105 meanReward: 211.7170 meanLoss: 115664696.0000\n",
      "Episode: 106 meanReward: 212.2617 meanLoss: 115784320.0000\n",
      "Episode: 107 meanReward: 212.7685 meanLoss: 117253584.0000\n",
      "Episode: 108 meanReward: 213.4037 meanLoss: 116924328.0000\n",
      "Episode: 109 meanReward: 213.8818 meanLoss: 117584872.0000\n",
      "Episode: 110 meanReward: 214.2342 meanLoss: 120034576.0000\n",
      "Episode: 111 meanReward: 214.7946 meanLoss: 119603528.0000\n",
      "Episode: 112 meanReward: 215.2389 meanLoss: 121510712.0000\n",
      "Episode: 113 meanReward: 215.7281 meanLoss: 122254904.0000\n",
      "Episode: 114 meanReward: 216.1739 meanLoss: 119844048.0000\n",
      "Episode: 115 meanReward: 216.7155 meanLoss: 120408120.0000\n",
      "Episode: 116 meanReward: 217.0940 meanLoss: 118832304.0000\n",
      "Episode: 117 meanReward: 217.5254 meanLoss: 120232728.0000\n",
      "Episode: 118 meanReward: 217.9244 meanLoss: 120877640.0000\n",
      "Episode: 119 meanReward: 218.2917 meanLoss: 122598856.0000\n",
      "Episode: 120 meanReward: 218.8512 meanLoss: 121380624.0000\n",
      "Episode: 121 meanReward: 219.4508 meanLoss: 117688168.0000\n",
      "Episode: 122 meanReward: 219.8211 meanLoss: 116487552.0000\n",
      "Episode: 123 meanReward: 220.2177 meanLoss: 116231976.0000\n",
      "Episode: 124 meanReward: 220.6800 meanLoss: 118010488.0000\n",
      "Episode: 125 meanReward: 221.1905 meanLoss: 119057424.0000\n",
      "Episode: 126 meanReward: 221.6299 meanLoss: 116947072.0000\n",
      "Episode: 127 meanReward: 221.9141 meanLoss: 116290704.0000\n",
      "Episode: 128 meanReward: 222.2558 meanLoss: 117451984.0000\n",
      "Episode: 129 meanReward: 222.5615 meanLoss: 120604520.0000\n",
      "Episode: 130 meanReward: 222.9313 meanLoss: 122585528.0000\n",
      "Episode: 131 meanReward: 223.3485 meanLoss: 121314312.0000\n",
      "Episode: 132 meanReward: 223.5865 meanLoss: 120643776.0000\n",
      "Episode: 133 meanReward: 223.9030 meanLoss: 120270016.0000\n",
      "Episode: 134 meanReward: 224.3407 meanLoss: 119908232.0000\n",
      "Episode: 135 meanReward: 224.7279 meanLoss: 119407472.0000\n",
      "Episode: 136 meanReward: 225.1022 meanLoss: 117392920.0000\n",
      "Episode: 137 meanReward: 225.5000 meanLoss: 115302576.0000\n",
      "Episode: 138 meanReward: 225.7986 meanLoss: 115989128.0000\n",
      "Episode: 139 meanReward: 226.2000 meanLoss: 116949384.0000\n",
      "Episode: 140 meanReward: 226.5532 meanLoss: 116805008.0000\n",
      "Episode: 141 meanReward: 226.9366 meanLoss: 117055440.0000\n",
      "Episode: 142 meanReward: 227.3007 meanLoss: 115520632.0000\n",
      "Episode: 143 meanReward: 227.5972 meanLoss: 116524000.0000\n",
      "Episode: 144 meanReward: 227.7793 meanLoss: 119034648.0000\n",
      "Episode: 145 meanReward: 228.1575 meanLoss: 120596288.0000\n",
      "Episode: 146 meanReward: 228.4490 meanLoss: 120727920.0000\n"
     ]
    },
    {
     "name": "stdout",
     "output_type": "stream",
     "text": [
      "Episode: 147 meanReward: 228.6486 meanLoss: 121200656.0000\n",
      "Episode: 148 meanReward: 229.0604 meanLoss: 118805472.0000\n",
      "Episode: 149 meanReward: 229.3667 meanLoss: 119292128.0000\n",
      "Episode: 150 meanReward: 229.7020 meanLoss: 119227392.0000\n",
      "Episode: 151 meanReward: 230.1579 meanLoss: 116207880.0000\n",
      "Episode: 152 meanReward: 230.4837 meanLoss: 114677976.0000\n",
      "Episode: 153 meanReward: 230.8247 meanLoss: 112753904.0000\n",
      "Episode: 154 meanReward: 231.1548 meanLoss: 111283872.0000\n",
      "Episode: 155 meanReward: 231.4103 meanLoss: 112731624.0000\n",
      "Episode: 156 meanReward: 231.5669 meanLoss: 115499936.0000\n",
      "Episode: 157 meanReward: 231.8418 meanLoss: 117748936.0000\n",
      "Episode: 158 meanReward: 232.0314 meanLoss: 119961400.0000\n",
      "Episode: 159 meanReward: 232.3500 meanLoss: 119897664.0000\n",
      "Episode: 160 meanReward: 232.5963 meanLoss: 117460280.0000\n",
      "Episode: 161 meanReward: 232.7963 meanLoss: 117460496.0000\n",
      "Episode: 162 meanReward: 233.0368 meanLoss: 117198704.0000\n",
      "Episode: 163 meanReward: 233.1768 meanLoss: 119163752.0000\n",
      "Episode: 164 meanReward: 233.3455 meanLoss: 120895280.0000\n",
      "Episode: 165 meanReward: 233.5000 meanLoss: 122153504.0000\n",
      "Episode: 166 meanReward: 233.7305 meanLoss: 122407488.0000\n",
      "Episode: 167 meanReward: 233.9226 meanLoss: 121691608.0000\n",
      "Episode: 168 meanReward: 234.1420 meanLoss: 120931872.0000\n",
      "Episode: 169 meanReward: 234.4706 meanLoss: 117840520.0000\n",
      "Episode: 170 meanReward: 234.7018 meanLoss: 116311464.0000\n",
      "Episode: 171 meanReward: 234.8605 meanLoss: 116085848.0000\n",
      "Episode: 172 meanReward: 235.0520 meanLoss: 116734624.0000\n",
      "Episode: 173 meanReward: 235.2989 meanLoss: 118762960.0000\n",
      "Episode: 174 meanReward: 235.3543 meanLoss: 120951616.0000\n",
      "Episode: 175 meanReward: 235.4545 meanLoss: 122317568.0000\n",
      "Episode: 176 meanReward: 235.7514 meanLoss: 121834184.0000\n",
      "Episode: 177 meanReward: 236.0281 meanLoss: 121036384.0000\n",
      "Episode: 178 meanReward: 236.2961 meanLoss: 117492992.0000\n",
      "Episode: 179 meanReward: 236.4944 meanLoss: 114428288.0000\n",
      "Episode: 180 meanReward: 236.6133 meanLoss: 117125736.0000\n",
      "Episode: 181 meanReward: 236.7088 meanLoss: 120260304.0000\n",
      "Episode: 182 meanReward: 236.8525 meanLoss: 122670776.0000\n",
      "Episode: 183 meanReward: 237.1033 meanLoss: 122716880.0000\n",
      "Episode: 184 meanReward: 237.3027 meanLoss: 120189296.0000\n",
      "Episode: 185 meanReward: 237.4247 meanLoss: 119745584.0000\n",
      "Episode: 186 meanReward: 237.5775 meanLoss: 119944632.0000\n",
      "Episode: 187 meanReward: 237.7606 meanLoss: 121147256.0000\n",
      "Episode: 188 meanReward: 237.9312 meanLoss: 121189704.0000\n",
      "Episode: 189 meanReward: 238.1000 meanLoss: 118482152.0000\n",
      "Episode: 190 meanReward: 238.2618 meanLoss: 117097432.0000\n",
      "Episode: 191 meanReward: 238.4792 meanLoss: 116855168.0000\n",
      "Episode: 192 meanReward: 238.7409 meanLoss: 115760256.0000\n",
      "Episode: 193 meanReward: 238.8144 meanLoss: 117508344.0000\n",
      "Episode: 194 meanReward: 238.9744 meanLoss: 118144648.0000\n",
      "Episode: 195 meanReward: 239.1224 meanLoss: 119250728.0000\n",
      "Episode: 196 meanReward: 239.3046 meanLoss: 121346712.0000\n",
      "Episode: 197 meanReward: 239.4596 meanLoss: 119400800.0000\n",
      "Episode: 198 meanReward: 239.6080 meanLoss: 119575152.0000\n",
      "Episode: 199 meanReward: 239.6750 meanLoss: 120457312.0000\n"
     ]
    }
   ],
   "source": [
    "# Now train with experiences\n",
    "saver = tf.train.Saver() # save the trained model\n",
    "rewards_list, loss_list = [], []\n",
    "\n",
    "# TF session for training\n",
    "with tf.Session(graph=graph) as sess:\n",
    "    sess.run(tf.global_variables_initializer())\n",
    "    #saver.restore(sess, 'checkpoints/model.ckpt')    \n",
    "    #saver.restore(sess, tf.train.latest_checkpoint('checkpoints'))\n",
    "    episode_reward = deque(maxlen=batch_size)\n",
    "    \n",
    "    # Training episodes/epochs\n",
    "    for ep in range(11111):\n",
    "        total_reward = 0\n",
    "        loss_batch = []\n",
    "        state = env.reset()\n",
    "\n",
    "        # Training steps/batches\n",
    "        while True:\n",
    "            # Testing\n",
    "            action_logits = sess.run(model.actions_logits, feed_dict = {model.states: state.reshape([1, -1])})\n",
    "            action = np.argmax(action_logits)\n",
    "            next_state, reward, done, _ = env.step(action)\n",
    "            memory.buffer.append([state, action, next_state, reward, float(done)])\n",
    "            total_reward += reward\n",
    "            state = next_state\n",
    "\n",
    "            # Training\n",
    "            batch = memory.buffer\n",
    "            states = np.array([each[0] for each in batch])\n",
    "            actions = np.array([each[1] for each in batch])\n",
    "            next_states = np.array([each[2] for each in batch])\n",
    "            rewards = np.array([each[3] for each in batch])\n",
    "            dones = np.array([each[4] for each in batch])\n",
    "            actions_logits = sess.run(model.actions_logits, feed_dict = {model.states: states})\n",
    "            labelQs = np.max(actions_logits, axis=1) # explore\n",
    "            next_actions_logits = sess.run(model.actions_logits, feed_dict = {model.states: next_states})\n",
    "            nextQs = np.max(next_actions_logits, axis=1) * (1-dones) # exploit\n",
    "            targetQs = rewards + (0.99 * nextQs)\n",
    "            loss, _, lossQlbl, lossQtgt = sess.run([model.loss, model.opt, model.lossQlbl, model.lossQtgt], \n",
    "                                                   feed_dict = {model.states: states,\n",
    "                                                                model.actions: actions,\n",
    "                                                                model.targetQs: targetQs,\n",
    "                                                                model.labelQs: labelQs})\n",
    "            loss_batch.append(loss)\n",
    "            if done is True:\n",
    "                break\n",
    "                \n",
    "        episode_reward.append(total_reward)\n",
    "        print('Episode: {}'.format(ep),\n",
    "              'meanReward: {:.4f}'.format(np.mean(episode_reward)),\n",
    "              'meanLoss: {:.4f}'.format(np.mean(loss_batch)))\n",
    "        rewards_list.append([ep, np.mean(episode_reward)])\n",
    "        loss_list.append([ep, np.mean(loss_batch)])\n",
    "        if(np.mean(episode_reward) >= 500):\n",
    "            break\n",
    "    \n",
    "    saver.save(sess, 'checkpoints/model5.ckpt')"
   ]
  },
  {
   "cell_type": "markdown",
   "metadata": {},
   "source": [
    "# Visualizing training\n",
    "\n",
    "Below I'll plot the total rewards for each episode. I'm plotting the rolling average too, in blue."
   ]
  },
  {
   "cell_type": "code",
   "execution_count": 44,
   "metadata": {},
   "outputs": [],
   "source": [
    "%matplotlib inline\n",
    "import matplotlib.pyplot as plt\n",
    "\n",
    "def running_mean(x, N):\n",
    "    cumsum = np.cumsum(np.insert(x, 0, 0)) \n",
    "    return (cumsum[N:] - cumsum[:-N]) / N "
   ]
  },
  {
   "cell_type": "code",
   "execution_count": 45,
   "metadata": {},
   "outputs": [
    {
     "data": {
      "text/plain": [
       "Text(0,0.5,'Total rewards')"
      ]
     },
     "execution_count": 45,
     "metadata": {},
     "output_type": "execute_result"
    },
    {
     "data": {
      "image/png": "[encoded data removed]",
      "text/plain": [
       "<Figure size 432x288 with 1 Axes>"
      ]
     },
     "metadata": {},
     "output_type": "display_data"
    }
   ],
   "source": [
    "eps, arr = np.array(rewards_list).T\n",
    "smoothed_arr = running_mean(arr, 10)\n",
    "plt.plot(eps[-len(smoothed_arr):], smoothed_arr)\n",
    "plt.plot(eps, arr, color='grey', alpha=0.3)\n",
    "plt.xlabel('Episode')\n",
    "plt.ylabel('Total rewards')"
   ]
  },
  {
   "cell_type": "code",
   "execution_count": 46,
   "metadata": {},
   "outputs": [
    {
     "data": {
      "text/plain": [
       "Text(0,0.5,'Average losses')"
      ]
     },
     "execution_count": 46,
     "metadata": {},
     "output_type": "execute_result"
    },
    {
     "data": {
      "image/png": "[encoded data removed]",
      "text/plain": [
       "<Figure size 432x288 with 1 Axes>"
      ]
     },
     "metadata": {},
     "output_type": "display_data"
    }
   ],
   "source": [
    "eps, arr = np.array(loss_list).T\n",
    "smoothed_arr = running_mean(arr, 10)\n",
    "plt.plot(eps[-len(smoothed_arr):], smoothed_arr)\n",
    "plt.plot(eps, arr, color='grey', alpha=0.3)\n",
    "plt.xlabel('Episode')\n",
    "plt.ylabel('Average losses')"
   ]
  },
  {
   "cell_type": "markdown",
   "metadata": {},
   "source": [
    "## Testing\n",
    "\n",
    "Let's checkout how our trained agent plays the game."
   ]
  },
  {
   "cell_type": "code",
   "execution_count": 184,
   "metadata": {},
   "outputs": [
    {
     "name": "stdout",
     "output_type": "stream",
     "text": [
      "\u001b[33mWARN: gym.spaces.Box autodetected dtype as <class 'numpy.float32'>. Please provide explicit dtype.\u001b[0m\n",
      "\u001b[33mWARN: gym.spaces.Box autodetected dtype as <class 'numpy.float32'>. Please provide explicit dtype.\u001b[0m\n",
      "INFO:tensorflow:Restoring parameters from checkpoints/model.ckpt\n"
     ]
    },
    {
     "name": "stderr",
     "output_type": "stream",
     "text": [
      "/home/arasdar/anaconda3/envs/env/lib/python3.6/site-packages/gym/__init__.py:22: UserWarning: DEPRECATION WARNING: to improve load times, gym no longer automatically loads gym.spaces. Please run \"import gym.spaces\" to load gym.spaces on your own. This warning will turn into an error in a future version of gym.\n",
      "  warnings.warn('DEPRECATION WARNING: to improve load times, gym no longer automatically loads gym.spaces. Please run \"import gym.spaces\" to load gym.spaces on your own. This warning will turn into an error in a future version of gym.')\n"
     ]
    },
    {
     "name": "stdout",
     "output_type": "stream",
     "text": [
      "total_reward:120.0\n"
     ]
    }
   ],
   "source": [
    "import gym\n",
    "\n",
    "# Create the Cart-Pole game environment\n",
    "env = gym.make('CartPole-v0')\n",
    "env = gym.make('CartPole-v1')\n",
    "\n",
    "with tf.Session(graph=graph) as sess:\n",
    "    sess.run(tf.global_variables_initializer())\n",
    "    #saver.restore(sess, 'checkpoints/model-seq.ckpt')    \n",
    "    saver.restore(sess, tf.train.latest_checkpoint('checkpoints'))\n",
    "    initial_state = sess.run(model.initial_state) # Qs or current batch or states[:-1]\n",
    "    state = env.reset()\n",
    "    total_reward = 0\n",
    "    while True:\n",
    "        env.render()\n",
    "        action_logits, initial_state = sess.run([model.actions_logits, model.final_state],\n",
    "                                                feed_dict = {model.states: state.reshape([1, -1]), \n",
    "                                                             model.initial_state: initial_state})\n",
    "        action = np.argmax(action_logits)\n",
    "        state, reward, done, _ = env.step(action)\n",
    "        total_reward += reward\n",
    "        if done:\n",
    "            break\n",
    "print('total_reward:{}'.format(total_reward))\n",
    "env.close()"
   ]
  },
  {
   "cell_type": "markdown",
   "metadata": {},
   "source": [
    "## Extending this\n",
    "\n",
    "So, Cart-Pole is a pretty simple game. However, the same model can be used to train an agent to play something much more complicated like Pong or Space Invaders. Instead of a state like we're using here though, you'd want to use convolutional layers to get the state from the screen images.\n",
    "\n",
    "![Deep Q-Learning Atari](assets/atari-network.png)\n",
    "\n",
    "I'll leave it as a challenge for you to use deep Q-learning to train an agent to play Atari games. Here's the original paper which will get you started: http://www.davidqiu.com:8888/research/nature14236.pdf."
   ]
  },
  {
   "cell_type": "code",
   "execution_count": null,
   "metadata": {},
   "outputs": [],
   "source": []
  }
 ],
 "metadata": {
  "kernelspec": {
   "display_name": "Python 3",
   "language": "python",
   "name": "python3"
  },
  "language_info": {
   "codemirror_mode": {
    "name": "ipython",
    "version": 3
   },
   "file_extension": ".py",
   "mimetype": "text/x-python",
   "name": "python",
   "nbconvert_exporter": "python",
   "pygments_lexer": "ipython3",
   "version": "3.6.5"
  }
 },
 "nbformat": 4,
 "nbformat_minor": 2
}
