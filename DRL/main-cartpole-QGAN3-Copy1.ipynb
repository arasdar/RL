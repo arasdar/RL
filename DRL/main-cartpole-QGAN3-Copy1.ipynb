{
 "cells": [
  {
   "cell_type": "code",
   "execution_count": 1,
   "metadata": {},
   "outputs": [
    {
     "name": "stdout",
     "output_type": "stream",
     "text": [
      "TensorFlow Version: 1.7.1\n",
      "Default GPU Device: \n"
     ]
    }
   ],
   "source": [
    "import tensorflow as tf\n",
    "print('TensorFlow Version: {}'.format(tf.__version__))\n",
    "print('Default GPU Device: {}'.format(tf.test.gpu_device_name()))"
   ]
  },
  {
   "cell_type": "markdown",
   "metadata": {},
   "source": [
    "##### >**Note:** Make sure you have OpenAI Gym cloned. Then run this command `pip install -e gym/[all]`."
   ]
  },
  {
   "cell_type": "code",
   "execution_count": 2,
   "metadata": {},
   "outputs": [],
   "source": [
    "import numpy as np\n",
    "import gym\n",
    "env = gym.make('CartPole-v0')\n",
    "env = gym.make('CartPole-v1')"
   ]
  },
  {
   "cell_type": "code",
   "execution_count": 3,
   "metadata": {},
   "outputs": [],
   "source": [
    "def model_input(state_size):\n",
    "    #states = tf.placeholder(tf.float32, [None, *state_size], name='states')\n",
    "    states = tf.placeholder(tf.float32, [None, state_size], name='states')\n",
    "    actions = tf.placeholder(tf.int32, [None], name='actions')\n",
    "    next_states = tf.placeholder(tf.float32, [None, state_size], name='next_states')\n",
    "    rewards = tf.placeholder(tf.float32, [None], name='rewards')\n",
    "    dones = tf.placeholder(tf.float32, [None], name='dones')\n",
    "    rates = tf.placeholder(tf.float32, [None], name='rates') # success rate\n",
    "    return states, actions, next_states, rewards, dones, rates"
   ]
  },
  {
   "cell_type": "code",
   "execution_count": 4,
   "metadata": {},
   "outputs": [],
   "source": [
    "def Act(states, action_size, hidden_size, reuse=False, alpha=0.1, training=False):\n",
    "    with tf.variable_scope('Act', reuse=reuse):\n",
    "        # First fully connected layer\n",
    "        h1 = tf.layers.dense(inputs=states, units=hidden_size)\n",
    "        bn1 = tf.layers.batch_normalization(h1, training=training)        \n",
    "        nl1 = tf.maximum(alpha * bn1, bn1)\n",
    "        \n",
    "        # Second fully connected layer\n",
    "        h2 = tf.layers.dense(inputs=nl1, units=hidden_size)\n",
    "        bn2 = tf.layers.batch_normalization(h2, training=training)        \n",
    "        nl2 = tf.maximum(alpha * bn2, bn2)\n",
    "        \n",
    "        # Output layer\n",
    "        logits = tf.layers.dense(inputs=nl2, units=action_size)        \n",
    "        return logits"
   ]
  },
  {
   "cell_type": "code",
   "execution_count": 5,
   "metadata": {},
   "outputs": [],
   "source": [
    "def Env(states, actions, state_size, action_size, hidden_size, reuse=False, alpha=0.1, training=False):\n",
    "    with tf.variable_scope('Env', reuse=reuse):\n",
    "        # First fully connected layer\n",
    "        h1 = tf.layers.dense(inputs=states, units=action_size)\n",
    "        bn1 = tf.layers.batch_normalization(h1, training=training)        \n",
    "        nl1 = tf.maximum(alpha * bn1, bn1)\n",
    "        \n",
    "        # Second fully connected layer\n",
    "        nl1_fused = tf.concat(axis=1, values=[nl1, actions])\n",
    "        h2 = tf.layers.dense(inputs=nl1_fused, units=hidden_size)\n",
    "        bn2 = tf.layers.batch_normalization(h2, training=training)        \n",
    "        nl2 = tf.maximum(alpha * bn2, bn2)\n",
    "                \n",
    "        # Output layer\n",
    "        states_logits = tf.layers.dense(inputs=nl2, units=state_size, trainable=False)\n",
    "        Qlogits = tf.layers.dense(inputs=nl2, units=1, trainable=False)\n",
    "        return states_logits, Qlogits"
   ]
  },
  {
   "cell_type": "code",
   "execution_count": 6,
   "metadata": {},
   "outputs": [],
   "source": [
    "def model_loss(state_size, action_size, hidden_size, gamma,\n",
    "               states, actions, next_states, rewards, dones, rates):\n",
    "    ################################################ a = act(s)\n",
    "    actions_logits = Act(states=states, hidden_size=hidden_size, action_size=action_size)\n",
    "    actions_labels = tf.one_hot(indices=actions, depth=action_size, dtype=actions_logits.dtype)\n",
    "    aloss = tf.reduce_mean(tf.nn.softmax_cross_entropy_with_logits_v2(logits=actions_logits, \n",
    "                                                                      labels=actions_labels))\n",
    "    ################################################ s', r = env(s, a)\n",
    "    e_next_states_logits, eQs = Env(actions=actions_labels, states=states, hidden_size=hidden_size, \n",
    "                                    action_size=action_size, state_size=state_size)\n",
    "    a_next_states_logits, aQs = Env(actions=actions_logits, states=states, hidden_size=hidden_size, \n",
    "                                    action_size=action_size, state_size=state_size, reuse=True)\n",
    "    next_states_labels = tf.nn.sigmoid(next_states)\n",
    "    eloss = tf.reduce_mean(tf.nn.sigmoid_cross_entropy_with_logits(logits=e_next_states_logits, # GQN\n",
    "                                                                   labels=next_states_labels))\n",
    "    eloss += -tf.reduce_mean(tf.nn.sigmoid_cross_entropy_with_logits(logits=a_next_states_logits, \n",
    "                                                                     labels=next_states_labels)) # maximize loss\n",
    "    aloss2 = tf.reduce_mean(tf.nn.sigmoid_cross_entropy_with_logits(logits=a_next_states_logits, \n",
    "                                                                    labels=next_states_labels)) # minimize loss\n",
    "    eQs_logits = tf.reshape(eQs, shape=[-1])\n",
    "    aQs_logits = tf.reshape(aQs, shape=[-1])\n",
    "    #################################################### s'', Q' = ~env(s', ~a')\n",
    "    next_actions_logits = Act(states=next_states, hidden_size=hidden_size, action_size=action_size, reuse=True)\n",
    "    _, aQs2 = Env(actions=next_actions_logits, states=next_states, hidden_size=hidden_size, \n",
    "                  action_size=action_size, state_size=state_size, reuse=True)\n",
    "    aQs2_logits = tf.reshape(aQs2, shape=[-1]) * (1-dones)\n",
    "    eloss += tf.reduce_mean(tf.nn.sigmoid_cross_entropy_with_logits(logits=eQs_logits, # GAN\n",
    "                                                                    labels=rates)) # 0-1 real\n",
    "    eloss += tf.reduce_mean(tf.nn.sigmoid_cross_entropy_with_logits(logits=(aQs_logits+aQs2_logits)/2, # GAN\n",
    "                                                                    labels=tf.zeros_like(rates))) # min\n",
    "    aloss2 += tf.reduce_mean(tf.nn.sigmoid_cross_entropy_with_logits(logits=(aQs_logits+aQs2_logits)/2, # GAN\n",
    "                                                                     labels=tf.ones_like(rates))) # max\n",
    "    ###################################################### Q(s,a)= r + Q'(s',a')\n",
    "    targetQs = rewards + (gamma * aQs2_logits) # DQN/Qlearning\n",
    "    eloss += tf.reduce_mean(tf.square(eQs_logits - targetQs)) # real\n",
    "#     eloss += tf.reduce_mean(tf.square(aQs_logits - rewards)) # min\n",
    "#     aloss2 += tf.reduce_mean(tf.square(aQs_logits - targetQs)) # max\n",
    "    eloss += tf.reduce_mean((aQs_logits+aQs2_logits)/2) # min\n",
    "    aloss2 += -tf.reduce_mean((aQs_logits+aQs2_logits)/2) # max\n",
    "    return actions_logits, aloss, eloss, aloss2"
   ]
  },
  {
   "cell_type": "code",
   "execution_count": 7,
   "metadata": {},
   "outputs": [],
   "source": [
    "def model_opt(a_loss, e_loss, a_loss2, a_learning_rate, e_learning_rate):\n",
    "    # Get weights and bias to update\n",
    "    t_vars = tf.trainable_variables()\n",
    "    a_vars = [var for var in t_vars if var.name.startswith('Act')]\n",
    "    e_vars = [var for var in t_vars if var.name.startswith('Env')]\n",
    "\n",
    "    # Optimize\n",
    "    with tf.control_dependencies(tf.get_collection(tf.GraphKeys.UPDATE_OPS)): # Required for batchnorm (BN)\n",
    "        a_opt = tf.train.AdamOptimizer(a_learning_rate).minimize(a_loss, var_list=a_vars)\n",
    "        e_opt = tf.train.AdamOptimizer(e_learning_rate).minimize(e_loss, var_list=e_vars)\n",
    "        a_opt2 = tf.train.AdamOptimizer(a_learning_rate).minimize(a_loss2, var_list=a_vars)\n",
    "    return a_opt, e_opt, a_opt2"
   ]
  },
  {
   "cell_type": "code",
   "execution_count": 8,
   "metadata": {},
   "outputs": [],
   "source": [
    "class Model:\n",
    "    def __init__(self, state_size, action_size, hidden_size, a_learning_rate, e_learning_rate, gamma):\n",
    "\n",
    "        # Data of the Model: make the data available inside the framework\n",
    "        self.states, self.actions, self.next_states, self.rewards, self.dones, self.rates = model_input(\n",
    "            state_size=state_size)\n",
    "\n",
    "        # Create the Model: calculating the loss and forwad pass\n",
    "        self.actions_logits, self.a_loss, self.e_loss, self.a_loss2 = model_loss(\n",
    "            state_size=state_size, action_size=action_size, hidden_size=hidden_size, gamma=gamma, # model init\n",
    "            states=self.states, actions=self.actions, next_states=self.next_states, \n",
    "            rewards=self.rewards, dones=self.dones, rates=self.rates) # model input\n",
    "        \n",
    "        # Update the model: backward pass and backprop\n",
    "        self.a_opt, self.e_opt, self.a_opt2 = model_opt(a_loss=self.a_loss, \n",
    "                                                        e_loss=self.e_loss,\n",
    "                                                        a_loss2=self.a_loss2, \n",
    "                                                        a_learning_rate=a_learning_rate,\n",
    "                                                        e_learning_rate=e_learning_rate)"
   ]
  },
  {
   "cell_type": "code",
   "execution_count": 9,
   "metadata": {},
   "outputs": [],
   "source": [
    "from collections import deque\n",
    "class Memory():\n",
    "    def __init__(self, max_size = 1000):\n",
    "        self.buffer = deque(maxlen=max_size) # data batch\n",
    "#     def sample(self, batch_size):\n",
    "#         idx = np.random.choice(np.arange(len(self.buffer)), size=batch_size, replace=False)\n",
    "#         return [self.buffer[ii] for ii in idx]"
   ]
  },
  {
   "cell_type": "markdown",
   "metadata": {},
   "source": [
    "## Hyperparameters\n",
    "\n",
    "One of the more difficult aspects of reinforcememt learning are the large number of hyperparameters. Not only are we tuning the network, but we're tuning the simulation."
   ]
  },
  {
   "cell_type": "code",
   "execution_count": 10,
   "metadata": {},
   "outputs": [
    {
     "data": {
      "text/plain": [
       "(Box(4,), Discrete(2))"
      ]
     },
     "execution_count": 10,
     "metadata": {},
     "output_type": "execute_result"
    }
   ],
   "source": [
    "env.observation_space, env.action_space"
   ]
  },
  {
   "cell_type": "code",
   "execution_count": 11,
   "metadata": {},
   "outputs": [],
   "source": [
    "# Exploration parameters\n",
    "explore_start = 1.0            # exploration probability at start\n",
    "explore_stop = 0.01           # minimum exploration probability \n",
    "decay_rate = 0.0001            # exponential decay rate for exploration prob\n",
    "\n",
    "# Network parameters\n",
    "state_size = 4\n",
    "action_size = 2\n",
    "hidden_size = 4*2             # number of units in each Q-network hidden layer\n",
    "a_learning_rate = 1e-4         # Q-network learning rate\n",
    "e_learning_rate = 1e-4         # Q-network learning rate\n",
    "\n",
    "# Memory parameters\n",
    "memory_size = int(1e5)            # memory capacity\n",
    "batch_size = int(1e3)             # experience mini-batch size\n",
    "gamma=0.99"
   ]
  },
  {
   "cell_type": "code",
   "execution_count": 12,
   "metadata": {},
   "outputs": [],
   "source": [
    "# Reset/init the graph/session\n",
    "graph = tf.reset_default_graph()\n",
    "\n",
    "# Init the model\n",
    "model = Model(action_size=action_size, state_size=state_size, hidden_size=hidden_size, gamma=gamma,\n",
    "              a_learning_rate=a_learning_rate, e_learning_rate=e_learning_rate)\n",
    "\n",
    "# Init the memory\n",
    "memory = Memory(max_size=memory_size)"
   ]
  },
  {
   "cell_type": "code",
   "execution_count": 13,
   "metadata": {},
   "outputs": [],
   "source": [
    "state = env.reset()\n",
    "total_reward = 0\n",
    "num_step = 0\n",
    "for _ in range(memory_size):\n",
    "    action = env.action_space.sample()\n",
    "    next_state, reward, done, _ = env.step(action)\n",
    "    rate = -1\n",
    "    memory.buffer.append([state, action, next_state, reward, float(done), rate])\n",
    "    num_step += 1 # memory incremented\n",
    "    total_reward += reward\n",
    "    state = next_state\n",
    "    if done is True:\n",
    "        rate = total_reward/500\n",
    "        for idx in range(num_step): # episode length\n",
    "            if memory.buffer[-1-idx][-1] == -1:\n",
    "                memory.buffer[-1-idx][-1] = rate\n",
    "        state = env.reset()\n",
    "        total_reward = 0 # reset\n",
    "        num_step = 0 # reset"
   ]
  },
  {
   "cell_type": "markdown",
   "metadata": {},
   "source": [
    "## Training the model\n",
    "\n",
    "Below we'll train our agent. If you want to watch it train, uncomment the `env.render()` line. This is slow because it's rendering the frames slower than the network can train. But, it's cool to watch the agent get better at the game."
   ]
  },
  {
   "cell_type": "code",
   "execution_count": null,
   "metadata": {},
   "outputs": [
    {
     "name": "stdout",
     "output_type": "stream",
     "text": [
      "Episode:0 meanR:17.0000 R:17.0000 rate:0.0340 aloss:0.6974 eloss:2.4258 aloss2:1.2614 exploreP:0.9983\n",
      "Episode:1 meanR:25.0000 R:33.0000 rate:0.0660 aloss:0.6975 eloss:2.4123 aloss2:1.2692 exploreP:0.9951\n",
      "Episode:2 meanR:20.6667 R:12.0000 rate:0.0240 aloss:0.6981 eloss:2.3739 aloss2:1.2917 exploreP:0.9939\n",
      "Episode:3 meanR:25.0000 R:38.0000 rate:0.0760 aloss:0.6965 eloss:2.3791 aloss2:1.2855 exploreP:0.9901\n",
      "Episode:4 meanR:24.0000 R:20.0000 rate:0.0400 aloss:0.6959 eloss:2.3771 aloss2:1.2848 exploreP:0.9882\n",
      "Episode:5 meanR:26.5000 R:39.0000 rate:0.0780 aloss:0.6961 eloss:2.2870 aloss2:1.3388 exploreP:0.9844\n",
      "Episode:6 meanR:26.8571 R:29.0000 rate:0.0580 aloss:0.6986 eloss:2.2666 aloss2:1.3520 exploreP:0.9816\n",
      "Episode:7 meanR:25.2500 R:14.0000 rate:0.0280 aloss:0.6966 eloss:2.2207 aloss2:1.3808 exploreP:0.9802\n",
      "Episode:8 meanR:28.6667 R:56.0000 rate:0.1120 aloss:0.6957 eloss:2.2042 aloss2:1.3880 exploreP:0.9748\n",
      "Episode:9 meanR:28.3000 R:25.0000 rate:0.0500 aloss:0.6940 eloss:2.1902 aloss2:1.3968 exploreP:0.9724\n",
      "Episode:10 meanR:27.3636 R:18.0000 rate:0.0360 aloss:0.6997 eloss:2.1415 aloss2:1.4319 exploreP:0.9706\n",
      "Episode:11 meanR:26.1667 R:13.0000 rate:0.0260 aloss:0.6913 eloss:2.1335 aloss2:1.4354 exploreP:0.9694\n",
      "Episode:12 meanR:27.0000 R:37.0000 rate:0.0740 aloss:0.6956 eloss:2.1150 aloss2:1.4531 exploreP:0.9659\n",
      "Episode:13 meanR:27.2857 R:31.0000 rate:0.0620 aloss:0.6942 eloss:2.0813 aloss2:1.4740 exploreP:0.9629\n",
      "Episode:14 meanR:27.1333 R:25.0000 rate:0.0500 aloss:0.6965 eloss:2.0606 aloss2:1.4934 exploreP:0.9605\n",
      "Episode:15 meanR:26.6875 R:20.0000 rate:0.0400 aloss:0.6974 eloss:2.0513 aloss2:1.5030 exploreP:0.9586\n",
      "Episode:16 meanR:26.7059 R:27.0000 rate:0.0540 aloss:0.6962 eloss:1.9999 aloss2:1.5401 exploreP:0.9561\n",
      "Episode:17 meanR:26.7222 R:27.0000 rate:0.0540 aloss:0.6888 eloss:2.0200 aloss2:1.5239 exploreP:0.9535\n",
      "Episode:18 meanR:25.9474 R:12.0000 rate:0.0240 aloss:0.6960 eloss:1.9804 aloss2:1.5580 exploreP:0.9524\n",
      "Episode:19 meanR:25.8500 R:24.0000 rate:0.0480 aloss:0.6935 eloss:1.9954 aloss2:1.5489 exploreP:0.9501\n",
      "Episode:20 meanR:26.2857 R:35.0000 rate:0.0700 aloss:0.6972 eloss:1.9768 aloss2:1.5701 exploreP:0.9468\n",
      "Episode:21 meanR:25.6364 R:12.0000 rate:0.0240 aloss:0.6921 eloss:1.9206 aloss2:1.6072 exploreP:0.9457\n",
      "Episode:22 meanR:25.1739 R:15.0000 rate:0.0300 aloss:0.7003 eloss:1.9395 aloss2:1.6055 exploreP:0.9443\n",
      "Episode:23 meanR:24.5000 R:9.0000 rate:0.0180 aloss:0.6999 eloss:1.9520 aloss2:1.5977 exploreP:0.9435\n",
      "Episode:24 meanR:24.8000 R:32.0000 rate:0.0640 aloss:0.7028 eloss:1.9197 aloss2:1.6250 exploreP:0.9405\n",
      "Episode:25 meanR:24.4231 R:15.0000 rate:0.0300 aloss:0.6962 eloss:1.9019 aloss2:1.6340 exploreP:0.9391\n",
      "Episode:26 meanR:24.4815 R:26.0000 rate:0.0520 aloss:0.7015 eloss:1.8940 aloss2:1.6457 exploreP:0.9367\n",
      "Episode:27 meanR:24.0357 R:12.0000 rate:0.0240 aloss:0.7100 eloss:1.9251 aloss2:1.6272 exploreP:0.9356\n",
      "Episode:28 meanR:23.7586 R:16.0000 rate:0.0320 aloss:0.6943 eloss:1.8529 aloss2:1.6783 exploreP:0.9341\n",
      "Episode:29 meanR:23.5333 R:17.0000 rate:0.0340 aloss:0.6955 eloss:1.8293 aloss2:1.6935 exploreP:0.9325\n",
      "Episode:30 meanR:23.2581 R:15.0000 rate:0.0300 aloss:0.7008 eloss:1.8163 aloss2:1.7105 exploreP:0.9311\n",
      "Episode:31 meanR:22.8125 R:9.0000 rate:0.0180 aloss:0.6940 eloss:1.8175 aloss2:1.7107 exploreP:0.9303\n",
      "Episode:32 meanR:22.5758 R:15.0000 rate:0.0300 aloss:0.7025 eloss:1.7786 aloss2:1.7402 exploreP:0.9289\n",
      "Episode:33 meanR:22.4118 R:17.0000 rate:0.0340 aloss:0.6973 eloss:1.7722 aloss2:1.7473 exploreP:0.9274\n",
      "Episode:34 meanR:22.5143 R:26.0000 rate:0.0520 aloss:0.7002 eloss:1.7548 aloss2:1.7611 exploreP:0.9250\n",
      "Episode:35 meanR:22.2500 R:13.0000 rate:0.0260 aloss:0.6982 eloss:1.7458 aloss2:1.7678 exploreP:0.9238\n",
      "Episode:36 meanR:22.8108 R:43.0000 rate:0.0860 aloss:0.6963 eloss:1.7437 aloss2:1.7728 exploreP:0.9199\n",
      "Episode:37 meanR:22.4737 R:10.0000 rate:0.0200 aloss:0.6958 eloss:1.7662 aloss2:1.7646 exploreP:0.9190\n",
      "Episode:38 meanR:22.4872 R:23.0000 rate:0.0460 aloss:0.6965 eloss:1.7028 aloss2:1.8073 exploreP:0.9169\n",
      "Episode:39 meanR:22.6500 R:29.0000 rate:0.0580 aloss:0.6972 eloss:1.6730 aloss2:1.8303 exploreP:0.9142\n",
      "Episode:40 meanR:22.8049 R:29.0000 rate:0.0580 aloss:0.6973 eloss:1.6840 aloss2:1.8350 exploreP:0.9116\n",
      "Episode:41 meanR:22.6429 R:16.0000 rate:0.0320 aloss:0.7007 eloss:1.6842 aloss2:1.8437 exploreP:0.9102\n",
      "Episode:42 meanR:22.4186 R:13.0000 rate:0.0260 aloss:0.7003 eloss:1.6257 aloss2:1.8790 exploreP:0.9090\n",
      "Episode:43 meanR:22.3636 R:20.0000 rate:0.0400 aloss:0.6950 eloss:1.6238 aloss2:1.8753 exploreP:0.9072\n",
      "Episode:44 meanR:22.3111 R:20.0000 rate:0.0400 aloss:0.6966 eloss:1.6091 aloss2:1.8832 exploreP:0.9054\n",
      "Episode:45 meanR:22.1957 R:17.0000 rate:0.0340 aloss:0.6917 eloss:1.5981 aloss2:1.8943 exploreP:0.9039\n",
      "Episode:46 meanR:22.0851 R:17.0000 rate:0.0340 aloss:0.6969 eloss:1.5865 aloss2:1.9051 exploreP:0.9024\n",
      "Episode:47 meanR:22.4375 R:39.0000 rate:0.0780 aloss:0.6975 eloss:1.5692 aloss2:1.9184 exploreP:0.8989\n",
      "Episode:48 meanR:22.2653 R:14.0000 rate:0.0280 aloss:0.6958 eloss:1.5882 aloss2:1.9042 exploreP:0.8977\n",
      "Episode:49 meanR:22.3600 R:27.0000 rate:0.0540 aloss:0.6944 eloss:1.5271 aloss2:1.9424 exploreP:0.8953\n",
      "Episode:50 meanR:22.7451 R:42.0000 rate:0.0840 aloss:0.6944 eloss:1.4894 aloss2:1.9698 exploreP:0.8916\n",
      "Episode:51 meanR:23.0385 R:38.0000 rate:0.0760 aloss:0.6932 eloss:1.4667 aloss2:1.9849 exploreP:0.8882\n",
      "Episode:52 meanR:23.0943 R:26.0000 rate:0.0520 aloss:0.6908 eloss:1.4208 aloss2:2.0151 exploreP:0.8859\n",
      "Episode:53 meanR:22.9074 R:13.0000 rate:0.0260 aloss:0.6924 eloss:1.4042 aloss2:2.0271 exploreP:0.8848\n",
      "Episode:54 meanR:23.5818 R:60.0000 rate:0.1200 aloss:0.6919 eloss:1.3991 aloss2:2.0348 exploreP:0.8796\n",
      "Episode:55 meanR:23.4464 R:16.0000 rate:0.0320 aloss:0.6920 eloss:1.3560 aloss2:2.0659 exploreP:0.8782\n",
      "Episode:56 meanR:23.6491 R:35.0000 rate:0.0700 aloss:0.6918 eloss:1.3291 aloss2:2.0890 exploreP:0.8752\n",
      "Episode:57 meanR:23.4655 R:13.0000 rate:0.0260 aloss:0.6925 eloss:1.3104 aloss2:2.1058 exploreP:0.8740\n",
      "Episode:58 meanR:23.5254 R:27.0000 rate:0.0540 aloss:0.6905 eloss:1.3122 aloss2:2.1103 exploreP:0.8717\n",
      "Episode:59 meanR:23.6833 R:33.0000 rate:0.0660 aloss:0.6916 eloss:1.2654 aloss2:2.1447 exploreP:0.8689\n",
      "Episode:60 meanR:23.5246 R:14.0000 rate:0.0280 aloss:0.6948 eloss:1.3099 aloss2:2.1325 exploreP:0.8677\n",
      "Episode:61 meanR:23.3871 R:15.0000 rate:0.0300 aloss:0.6926 eloss:1.2459 aloss2:2.1667 exploreP:0.8664\n",
      "Episode:62 meanR:23.1587 R:9.0000 rate:0.0180 aloss:0.6918 eloss:1.2135 aloss2:2.1862 exploreP:0.8656\n",
      "Episode:63 meanR:23.3438 R:35.0000 rate:0.0700 aloss:0.6894 eloss:1.1933 aloss2:2.2064 exploreP:0.8626\n",
      "Episode:64 meanR:23.1846 R:13.0000 rate:0.0260 aloss:0.6941 eloss:1.1549 aloss2:2.2337 exploreP:0.8615\n",
      "Episode:65 meanR:23.4545 R:41.0000 rate:0.0820 aloss:0.6923 eloss:1.1563 aloss2:2.2471 exploreP:0.8580\n",
      "Episode:66 meanR:23.4179 R:21.0000 rate:0.0420 aloss:0.6908 eloss:1.1095 aloss2:2.2760 exploreP:0.8562\n",
      "Episode:67 meanR:23.3235 R:17.0000 rate:0.0340 aloss:0.6903 eloss:1.0989 aloss2:2.2884 exploreP:0.8548\n",
      "Episode:68 meanR:23.2319 R:17.0000 rate:0.0340 aloss:0.6917 eloss:1.0867 aloss2:2.2999 exploreP:0.8534\n",
      "Episode:69 meanR:23.1571 R:18.0000 rate:0.0360 aloss:0.6884 eloss:1.0991 aloss2:2.2996 exploreP:0.8519\n",
      "Episode:70 meanR:23.2254 R:28.0000 rate:0.0560 aloss:0.6910 eloss:1.0785 aloss2:2.3185 exploreP:0.8495\n",
      "Episode:71 meanR:23.2361 R:24.0000 rate:0.0480 aloss:0.6922 eloss:1.0874 aloss2:2.3222 exploreP:0.8475\n",
      "Episode:72 meanR:23.3151 R:29.0000 rate:0.0580 aloss:0.6894 eloss:1.0504 aloss2:2.3462 exploreP:0.8451\n",
      "Episode:73 meanR:23.2568 R:19.0000 rate:0.0380 aloss:0.6881 eloss:1.0354 aloss2:2.3577 exploreP:0.8435\n",
      "Episode:74 meanR:23.4667 R:39.0000 rate:0.0780 aloss:0.6889 eloss:1.0308 aloss2:2.3686 exploreP:0.8402\n",
      "Episode:75 meanR:23.3289 R:13.0000 rate:0.0260 aloss:0.6893 eloss:0.9941 aloss2:2.3902 exploreP:0.8392\n",
      "Episode:76 meanR:23.2208 R:15.0000 rate:0.0300 aloss:0.6893 eloss:0.9824 aloss2:2.3997 exploreP:0.8379\n",
      "Episode:77 meanR:23.1154 R:15.0000 rate:0.0300 aloss:0.6893 eloss:0.9681 aloss2:2.4049 exploreP:0.8367\n",
      "Episode:78 meanR:23.1899 R:29.0000 rate:0.0580 aloss:0.6861 eloss:0.9538 aloss2:2.4180 exploreP:0.8343\n",
      "Episode:79 meanR:23.2125 R:25.0000 rate:0.0500 aloss:0.6868 eloss:0.9223 aloss2:2.4395 exploreP:0.8322\n"
     ]
    },
    {
     "name": "stdout",
     "output_type": "stream",
     "text": [
      "Episode:80 meanR:23.3951 R:38.0000 rate:0.0760 aloss:0.6871 eloss:0.8916 aloss2:2.4589 exploreP:0.8291\n",
      "Episode:81 meanR:23.5854 R:39.0000 rate:0.0780 aloss:0.6859 eloss:0.8764 aloss2:2.4786 exploreP:0.8259\n",
      "Episode:82 meanR:23.4337 R:11.0000 rate:0.0220 aloss:0.6869 eloss:0.8499 aloss2:2.4958 exploreP:0.8250\n",
      "Episode:83 meanR:23.3333 R:15.0000 rate:0.0300 aloss:0.6845 eloss:0.8613 aloss2:2.4959 exploreP:0.8238\n",
      "Episode:84 meanR:23.2000 R:12.0000 rate:0.0240 aloss:0.6863 eloss:0.8598 aloss2:2.4939 exploreP:0.8228\n",
      "Episode:85 meanR:23.3837 R:39.0000 rate:0.0780 aloss:0.6860 eloss:0.8523 aloss2:2.5095 exploreP:0.8197\n",
      "Episode:86 meanR:23.3678 R:22.0000 rate:0.0440 aloss:0.6841 eloss:0.8194 aloss2:2.5360 exploreP:0.8179\n"
     ]
    }
   ],
   "source": [
    "# Save/load the model and save for plotting\n",
    "saver = tf.train.Saver()\n",
    "episode_rewards_list, rewards_list = [], []\n",
    "aloss_list, eloss_list, aloss2_list = [], [], []\n",
    "\n",
    "# TF session for training\n",
    "with tf.Session(graph=graph) as sess:\n",
    "    sess.run(tf.global_variables_initializer())\n",
    "    #saver.restore(sess, 'checkpoints/model.ckpt')    \n",
    "    #saver.restore(sess, tf.train.latest_checkpoint('checkpoints'))\n",
    "    total_step = 0 # Explore or exploit parameter\n",
    "    episode_reward = deque(maxlen=100) # 100 episodes for running average/running mean/window\n",
    "\n",
    "    # Training episodes/epochs\n",
    "    for ep in range(11111):\n",
    "        aloss_batch, eloss_batch, aloss2_batch = [], [], []\n",
    "        total_reward = 0\n",
    "        state = env.reset()\n",
    "        num_step = 0\n",
    "        rate = -1\n",
    "\n",
    "        # Training steps/batches\n",
    "        while True:\n",
    "            # Explore (env) or Exploit (model)\n",
    "            total_step += 1\n",
    "            explore_p = explore_stop + (explore_start - explore_stop) * np.exp(-decay_rate * total_step) \n",
    "            if explore_p > np.random.rand():\n",
    "                action = env.action_space.sample()\n",
    "            else:\n",
    "                action_logits = sess.run(model.actions_logits, feed_dict={model.states: state.reshape([1, -1])})\n",
    "                action = np.argmax(action_logits)\n",
    "            next_state, reward, done, _ = env.step(action)\n",
    "            memory.buffer.append([state, action, next_state, reward, float(done), rate])\n",
    "            num_step += 1 # momory added\n",
    "            total_reward += reward\n",
    "            state = next_state\n",
    "            \n",
    "            # Training with the maxrated minibatch\n",
    "            batch = memory.buffer\n",
    "            #for idx in range(memory_size// batch_size):\n",
    "            while True:\n",
    "                idx = np.random.choice(np.arange(memory_size// batch_size))\n",
    "                states = np.array([each[0] for each in batch])[idx*batch_size:(idx+1)*batch_size]\n",
    "                actions = np.array([each[1] for each in batch])[idx*batch_size:(idx+1)*batch_size]\n",
    "                next_states = np.array([each[2] for each in batch])[idx*batch_size:(idx+1)*batch_size]\n",
    "                rewards = np.array([each[3] for each in batch])[idx*batch_size:(idx+1)*batch_size]\n",
    "                dones = np.array([each[4] for each in batch])[idx*batch_size:(idx+1)*batch_size]\n",
    "                rates = np.array([each[5] for each in batch])[idx*batch_size:(idx+1)*batch_size]\n",
    "                states = states[rates >= np.max(rates)]\n",
    "                actions = actions[rates >= np.max(rates)]\n",
    "                next_states = next_states[rates >= np.max(rates)]\n",
    "                rewards = rewards[rates >= np.max(rates)]\n",
    "                dones = dones[rates >= np.max(rates)]\n",
    "                rates = rates[rates >= np.max(rates)]\n",
    "                if np.count_nonzero(dones) > 0 and len(dones) > 1 and np.max(rates) > 0:\n",
    "                    break\n",
    "            aloss, _ = sess.run([model.a_loss, model.a_opt],\n",
    "                                  feed_dict = {model.states: states, \n",
    "                                               model.actions: actions,\n",
    "                                               model.next_states: next_states,\n",
    "                                               model.rewards: rewards,\n",
    "                                               model.dones: dones,\n",
    "                                               model.rates: rates})\n",
    "            eloss, _ = sess.run([model.e_loss, model.e_opt],\n",
    "                                  feed_dict = {model.states: states, \n",
    "                                               model.actions: actions,\n",
    "                                               model.next_states: next_states,\n",
    "                                               model.rewards: rewards,\n",
    "                                               model.dones: dones,\n",
    "                                               model.rates: rates})\n",
    "            aloss2, _= sess.run([model.a_loss2, model.a_opt2], \n",
    "                                 feed_dict = {model.states: states, \n",
    "                                              model.actions: actions,\n",
    "                                              model.next_states: next_states,\n",
    "                                              model.rewards: rewards,\n",
    "                                              model.dones: dones,\n",
    "                                              model.rates: rates})\n",
    "            # print(len(dones), np.count_nonzero(dones), np.max(rates))\n",
    "            aloss_batch.append(aloss)\n",
    "            eloss_batch.append(eloss)\n",
    "            aloss2_batch.append(aloss2)\n",
    "            if done is True:\n",
    "                break\n",
    "                \n",
    "        # Rating the latest played episode\n",
    "        rate = total_reward/500 # update rate at the end/ when episode is done\n",
    "        for idx in range(num_step): # episode length\n",
    "            if memory.buffer[-1-idx][-1] == -1: # double-check the landmark/marked indexes\n",
    "                memory.buffer[-1-idx][-1] = rate # rate the trajectory/data\n",
    "\n",
    "        # Print out\n",
    "        episode_reward.append(total_reward)\n",
    "        print('Episode:{}'.format(ep),\n",
    "              'meanR:{:.4f}'.format(np.mean(episode_reward)),\n",
    "              'R:{:.4f}'.format(total_reward),\n",
    "              'rate:{:.4f}'.format(rate),\n",
    "              'aloss:{:.4f}'.format(np.mean(aloss_batch)),\n",
    "              'eloss:{:.4f}'.format(np.mean(eloss_batch)),\n",
    "              'aloss2:{:.4f}'.format(np.mean(aloss2_batch)),\n",
    "              'exploreP:{:.4f}'.format(explore_p))\n",
    "\n",
    "        # Ploting out\n",
    "        episode_rewards_list.append([ep, np.mean(episode_reward)])\n",
    "        rewards_list.append([ep, total_reward])\n",
    "        aloss_list.append([ep, np.mean(aloss_batch)])\n",
    "        eloss_list.append([ep, np.mean(eloss_batch)])\n",
    "        aloss2_list.append([ep, np.mean(aloss2_batch)])\n",
    "        \n",
    "        # Break episode/epoch loop\n",
    "        ## Option 1: Solve the First Version\n",
    "        #The task is episodic, and in order to solve the environment, \n",
    "        #your agent must get an average score of +30 over 100 consecutive episodes.\n",
    "        if np.mean(episode_reward) >= 500:\n",
    "            break\n",
    "            \n",
    "    # At the end of all training episodes/epochs\n",
    "    saver.save(sess, 'checkpoints/model.ckpt')"
   ]
  },
  {
   "cell_type": "markdown",
   "metadata": {},
   "source": [
    "# Visualizing training\n",
    "\n",
    "Below I'll plot the total rewards for each episode. I'm plotting the rolling average too, in blue."
   ]
  },
  {
   "cell_type": "code",
   "execution_count": null,
   "metadata": {},
   "outputs": [],
   "source": [
    "import matplotlib.pyplot as plt\n",
    "%matplotlib inline\n",
    "\n",
    "def running_mean(x, N):\n",
    "    cumsum = np.cumsum(np.insert(x, 0, 0)) \n",
    "    return (cumsum[N:] - cumsum[:-N]) / N "
   ]
  },
  {
   "cell_type": "code",
   "execution_count": null,
   "metadata": {},
   "outputs": [],
   "source": [
    "eps, arr = np.array(episode_rewards_list).T\n",
    "smoothed_arr = running_mean(arr, 10)\n",
    "plt.plot(eps[-len(smoothed_arr):], smoothed_arr)\n",
    "plt.plot(eps, arr, color='grey', alpha=0.3)\n",
    "plt.xlabel('Episode')\n",
    "plt.ylabel('Total rewards')"
   ]
  },
  {
   "cell_type": "code",
   "execution_count": null,
   "metadata": {},
   "outputs": [],
   "source": [
    "eps, arr = np.array(rewards_list).T\n",
    "smoothed_arr = running_mean(arr, 10)\n",
    "plt.plot(eps[-len(smoothed_arr):], smoothed_arr)\n",
    "plt.plot(eps, arr, color='grey', alpha=0.3)\n",
    "plt.xlabel('Episode')\n",
    "plt.ylabel('Total rewards')"
   ]
  },
  {
   "cell_type": "code",
   "execution_count": null,
   "metadata": {},
   "outputs": [],
   "source": [
    "eps, arr = np.array(aloss_list).T\n",
    "smoothed_arr = running_mean(arr, 10)\n",
    "plt.plot(eps[-len(smoothed_arr):], smoothed_arr)\n",
    "plt.plot(eps, arr, color='grey', alpha=0.3)\n",
    "plt.xlabel('Episode')\n",
    "plt.ylabel('Act losses')"
   ]
  },
  {
   "cell_type": "code",
   "execution_count": null,
   "metadata": {},
   "outputs": [],
   "source": [
    "eps, arr = np.array(eloss_list).T\n",
    "smoothed_arr = running_mean(arr, 10)\n",
    "plt.plot(eps[-len(smoothed_arr):], smoothed_arr)\n",
    "plt.plot(eps, arr, color='grey', alpha=0.3)\n",
    "plt.xlabel('Episode')\n",
    "plt.ylabel('Env losses')"
   ]
  },
  {
   "cell_type": "code",
   "execution_count": null,
   "metadata": {},
   "outputs": [],
   "source": [
    "eps, arr = np.array(aloss2_list).T\n",
    "smoothed_arr = running_mean(arr, 10)\n",
    "plt.plot(eps[-len(smoothed_arr):], smoothed_arr)\n",
    "plt.plot(eps, arr, color='grey', alpha=0.3)\n",
    "plt.xlabel('Episode')\n",
    "plt.ylabel('Act losses 2')"
   ]
  },
  {
   "cell_type": "markdown",
   "metadata": {},
   "source": [
    "## Testing\n",
    "\n",
    "Let's checkout how our trained agent plays the game."
   ]
  },
  {
   "cell_type": "code",
   "execution_count": 24,
   "metadata": {},
   "outputs": [
    {
     "name": "stdout",
     "output_type": "stream",
     "text": [
      "INFO:tensorflow:Restoring parameters from checkpoints/model.ckpt\n",
      "total_reward: 500.0\n",
      "total_reward: 500.0\n",
      "total_reward: 500.0\n",
      "total_reward: 500.0\n",
      "total_reward: 500.0\n",
      "total_reward: 500.0\n",
      "total_reward: 500.0\n",
      "total_reward: 500.0\n",
      "total_reward: 500.0\n",
      "total_reward: 500.0\n"
     ]
    }
   ],
   "source": [
    "import gym\n",
    "env = gym.make('CartPole-v0')\n",
    "env = gym.make('CartPole-v1')\n",
    "\n",
    "with tf.Session() as sess:\n",
    "    sess.run(tf.global_variables_initializer())\n",
    "    saver.restore(sess, 'checkpoints/model.ckpt')    \n",
    "    #saver.restore(sess, tf.train.latest_checkpoint('checkpoints'))\n",
    "    \n",
    "    # Episodes/epochs\n",
    "    for _ in range(10):\n",
    "        state = env.reset()\n",
    "        total_reward = 0\n",
    "\n",
    "        # Steps/batches\n",
    "        while True:\n",
    "            env.render()\n",
    "            action_logits = sess.run(model.actions_logits, feed_dict={model.states: state.reshape([1, -1])})\n",
    "            action = np.argmax(action_logits)\n",
    "            state, reward, done, _ = env.step(action)\n",
    "            total_reward += reward\n",
    "            if done:\n",
    "                print('total_reward: {}'.format(total_reward))\n",
    "                break\n",
    "                \n",
    "env.close()"
   ]
  },
  {
   "cell_type": "code",
   "execution_count": null,
   "metadata": {},
   "outputs": [],
   "source": []
  }
 ],
 "metadata": {
  "kernelspec": {
   "display_name": "Python 3",
   "language": "python",
   "name": "python3"
  },
  "language_info": {
   "codemirror_mode": {
    "name": "ipython",
    "version": 3
   },
   "file_extension": ".py",
   "mimetype": "text/x-python",
   "name": "python",
   "nbconvert_exporter": "python",
   "pygments_lexer": "ipython3",
   "version": "3.6.6"
  }
 },
 "nbformat": 4,
 "nbformat_minor": 2
}
