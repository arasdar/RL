{
 "cells": [
  {
   "cell_type": "markdown",
   "metadata": {},
   "source": [
    "# DQN\n",
    "\n",
    "In this notebook, we'll build a neural network that can learn to play games through reinforcement learning. More specifically, we'll use Q-learning to train an agent to play a game called [Cart-Pole](https://gym.openai.com/envs/CartPole-v0). In this game, a freely swinging pole is attached to a cart. The cart can move to the left and right, and the goal is to keep the pole upright as long as possible.\n",
    "\n",
    "![Cart-Pole](assets/cart-pole.jpg)\n",
    "\n",
    "We can simulate this game using [OpenAI Gym](https://gym.openai.com/). First, let's check out how OpenAI Gym works. Then, we'll get into training an agent to play the Cart-Pole game."
   ]
  },
  {
   "cell_type": "code",
   "execution_count": 1,
   "metadata": {},
   "outputs": [
    {
     "name": "stdout",
     "output_type": "stream",
     "text": [
      "TensorFlow Version: 1.7.1\n",
      "Default GPU Device: /device:GPU:0\n"
     ]
    }
   ],
   "source": [
    "# In this one we should define and detect GPUs for tensorflow\n",
    "# GPUs or CPU\n",
    "import tensorflow as tf\n",
    "\n",
    "# Check TensorFlow Version\n",
    "print('TensorFlow Version: {}'.format(tf.__version__))\n",
    "\n",
    "# Check for a GPU\n",
    "print('Default GPU Device: {}'.format(tf.test.gpu_device_name()))"
   ]
  },
  {
   "cell_type": "markdown",
   "metadata": {},
   "source": [
    ">**Note:** Make sure you have OpenAI Gym cloned into the same directory with this notebook. I've included `gym` as a submodule, so you can run `git submodule --init --recursive` to pull the contents into the `gym` repo."
   ]
  },
  {
   "cell_type": "markdown",
   "metadata": {},
   "source": [
    ">**Note:** Make sure you have OpenAI Gym cloned. Then run this command `pip install -e gym/[all]`."
   ]
  },
  {
   "cell_type": "code",
   "execution_count": 2,
   "metadata": {},
   "outputs": [],
   "source": [
    "import gym\n",
    "\n",
    "## Create the Cart-Pole game environment\n",
    "env = gym.make('CartPole-v0')\n",
    "env = gym.make('CartPole-v1')"
   ]
  },
  {
   "cell_type": "markdown",
   "metadata": {},
   "source": [
    "We interact with the simulation through `env`. To show the simulation running, you can use `env.render()` to render one frame. Passing in an action as an integer to `env.step` will generate the next step in the simulation.  You can see how many actions are possible from `env.action_space` and to get a random action you can use `env.action_space.sample()`. This is general to all Gym games. In the Cart-Pole game, there are two possible actions, moving the cart left or right. So there are two actions we can take, encoded as 0 and 1.\n",
    "\n",
    "Run the code below to watch the simulation run."
   ]
  },
  {
   "cell_type": "code",
   "execution_count": 3,
   "metadata": {},
   "outputs": [],
   "source": [
    "import numpy as np\n",
    "\n",
    "state = env.reset()\n",
    "batch = []\n",
    "for _ in range(1000):\n",
    "    # env.render()\n",
    "    action = env.action_space.sample()\n",
    "    next_state, reward, done, info = env.step(action) # take a random action\n",
    "    batch.append([state, action, next_state, reward, float(done)])\n",
    "    #     print('state, action, reward, done, info:', \n",
    "    #           state, action, reward, done, info)\n",
    "    state = next_state\n",
    "    if done:\n",
    "        state = env.reset()"
   ]
  },
  {
   "cell_type": "markdown",
   "metadata": {},
   "source": [
    "To shut the window showing the simulation, use `env.close()`."
   ]
  },
  {
   "cell_type": "markdown",
   "metadata": {},
   "source": [
    "If you ran the simulation above, we can look at the rewards:"
   ]
  },
  {
   "cell_type": "code",
   "execution_count": 4,
   "metadata": {},
   "outputs": [
    {
     "data": {
      "text/plain": [
       "([array([ 0.04861112, -0.02618556, -0.02537433, -0.04899805]),\n",
       "  0,\n",
       "  array([ 0.04808741, -0.22093465, -0.02635429,  0.23557229]),\n",
       "  1.0,\n",
       "  0.0],\n",
       " (4,))"
      ]
     },
     "execution_count": 4,
     "metadata": {},
     "output_type": "execute_result"
    }
   ],
   "source": [
    "batch[0], batch[0][0].shape"
   ]
  },
  {
   "cell_type": "code",
   "execution_count": 5,
   "metadata": {},
   "outputs": [],
   "source": [
    "states = np.array([each[0] for each in batch])\n",
    "actions = np.array([each[1] for each in batch])\n",
    "next_states = np.array([each[2] for each in batch])\n",
    "rewards = np.array([each[3] for each in batch])\n",
    "dones = np.array([each[4] for each in batch])"
   ]
  },
  {
   "cell_type": "code",
   "execution_count": 6,
   "metadata": {},
   "outputs": [
    {
     "name": "stdout",
     "output_type": "stream",
     "text": [
      "[1. 1. 1. 1. 1. 1. 1. 1. 1. 1. 1. 1. 1. 1. 1. 1. 1. 1. 1. 1.]\n",
      "(1000,) (1000, 4) (1000,) (1000,)\n",
      "float64 float64 int64 float64\n",
      "1 0\n",
      "2\n",
      "1.0 1.0\n",
      "2.3634044735590494 -2.6787012141068383\n"
     ]
    }
   ],
   "source": [
    "print(rewards[-20:])\n",
    "print(np.array(rewards).shape, np.array(states).shape, np.array(actions).shape, np.array(dones).shape)\n",
    "print(np.array(rewards).dtype, np.array(states).dtype, np.array(actions).dtype, np.array(dones).dtype)\n",
    "print(np.max(np.array(actions)), np.min(np.array(actions)))\n",
    "print((np.max(np.array(actions)) - np.min(np.array(actions)))+1)\n",
    "print(np.max(np.array(rewards)), np.min(np.array(rewards)))\n",
    "print(np.max(np.array(states)), np.min(np.array(states)))"
   ]
  },
  {
   "cell_type": "markdown",
   "metadata": {},
   "source": [
    "The game resets after the pole has fallen past a certain angle. For each frame while the simulation is running, it returns a reward of 1.0. The longer the game runs, the more reward we get. Then, our network's goal is to maximize the reward by keeping the pole vertical. It will do this by moving the cart to the left and the right."
   ]
  },
  {
   "cell_type": "markdown",
   "metadata": {},
   "source": [
    "## Q-Network\n",
    "\n",
    "We train our Q-learning agent using the Bellman Equation:\n",
    "\n",
    "$$\n",
    "Q(s, a) = r + \\gamma \\max{Q(s', a')}\n",
    "$$\n",
    "\n",
    "where $s$ is a state, $a$ is an action, and $s'$ is the next state from state $s$ and action $a$.\n",
    "\n",
    "Before we used this equation to learn values for a Q-_table_. However, for this game there are a huge number of states available. The state has four values: the position and velocity of the cart, and the position and velocity of the pole. These are all real-valued numbers, so ignoring floating point precisions, you practically have infinite states. Instead of using a table then, we'll replace it with a neural network that will approximate the Q-table lookup function.\n",
    "\n",
    "<img src=\"assets/deep-q-learning.png\" width=450px>\n",
    "\n",
    "Now, our Q value, $Q(s, a)$ is calculated by passing in a state to the network. The output will be Q-values for each available action, with fully connected hidden layers.\n",
    "\n",
    "<img src=\"assets/q-network.png\" width=550px>\n",
    "\n",
    "\n",
    "As I showed before, we can define our targets for training as $\\hat{Q}(s,a) = r + \\gamma \\max{Q(s', a')}$. Then we update the weights by minimizing $(\\hat{Q}(s,a) - Q(s,a))^2$. \n",
    "\n",
    "For this Cart-Pole game, we have four inputs, one for each value in the state, and two outputs, one for each action. To get $\\hat{Q}$, we'll first choose an action, then simulate the game using that action. This will get us the next state, $s'$, and the reward. With that, we can calculate $\\hat{Q}$ then pass it back into the $Q$ network to run the optimizer and update the weights.\n",
    "\n",
    "Below is my implementation of the Q-network. I used two fully connected layers with ReLU activations. Two seems to be good enough, three might be better. Feel free to try it out."
   ]
  },
  {
   "cell_type": "code",
   "execution_count": 7,
   "metadata": {},
   "outputs": [],
   "source": [
    "def model_input(state_size):\n",
    "    states = tf.placeholder(tf.float32, [None, state_size], name='states')\n",
    "    actions = tf.placeholder(tf.int32, [None], name='actions')\n",
    "    targetQs = tf.placeholder(tf.float32, [None], name='targetQs')\n",
    "    return states, actions, targetQs"
   ]
  },
  {
   "cell_type": "code",
   "execution_count": 8,
   "metadata": {},
   "outputs": [],
   "source": [
    "# Generator: Generating/prediting the actions\n",
    "def generator(states, action_size, hidden_size, reuse=False, alpha=0.1, training=False):\n",
    "    with tf.variable_scope('generator', reuse=reuse):\n",
    "        # First fully connected layer\n",
    "        h1 = tf.layers.dense(inputs=states, units=hidden_size)\n",
    "        bn1 = tf.layers.batch_normalization(h1, training=training)        \n",
    "        nl1 = tf.maximum(alpha * bn1, bn1)\n",
    "        \n",
    "        # Second fully connected layer\n",
    "        h2 = tf.layers.dense(inputs=nl1, units=hidden_size)\n",
    "        bn2 = tf.layers.batch_normalization(h2, training=training)        \n",
    "        nl2 = tf.maximum(alpha * bn2, bn2)\n",
    "        \n",
    "        # Output layer\n",
    "        logits = tf.layers.dense(inputs=nl2, units=action_size)        \n",
    "        #predictions = tf.nn.softmax(logits)\n",
    "\n",
    "        # return actions logits\n",
    "        return logits"
   ]
  },
  {
   "cell_type": "code",
   "execution_count": 9,
   "metadata": {},
   "outputs": [],
   "source": [
    "def model_loss(states, actions, targetQs, action_size, hidden_size):\n",
    "    actions_logits = generator(states=states, hidden_size=hidden_size, action_size=action_size)\n",
    "    actions_labels = tf.one_hot(indices=actions, depth=action_size, dtype=actions_logits.dtype)\n",
    "    Qs = tf.reduce_max(actions_logits*actions_labels, axis=1)\n",
    "    #Qs = tf.reduce_max(actions_logits, axis=1)\n",
    "    loss = tf.reduce_mean(tf.square(Qs - targetQs))\n",
    "    return actions_logits, loss"
   ]
  },
  {
   "cell_type": "code",
   "execution_count": 10,
   "metadata": {},
   "outputs": [],
   "source": [
    "def model_opt(loss, learning_rate):\n",
    "    # Get weights and bias to update\n",
    "    t_vars = tf.trainable_variables()\n",
    "    g_vars = [var for var in t_vars if var.name.startswith('generator')]\n",
    "\n",
    "    # Optimize\n",
    "    with tf.control_dependencies(tf.get_collection(tf.GraphKeys.UPDATE_OPS)): # Required for batchnorm (BN)\n",
    "        opt = tf.train.AdamOptimizer(learning_rate).minimize(loss, var_list=g_vars)\n",
    "\n",
    "    return opt"
   ]
  },
  {
   "cell_type": "code",
   "execution_count": 11,
   "metadata": {},
   "outputs": [],
   "source": [
    "class Model:\n",
    "    def __init__(self, state_size, action_size, hidden_size, learning_rate):\n",
    "\n",
    "        # Data of the Model: make the data available inside the framework\n",
    "        self.states, self.actions, self.targetQs = model_input(state_size=state_size)\n",
    "\n",
    "        # Create the Model: calculating the loss and forwad pass\n",
    "        self.actions_logits, self.loss = model_loss(\n",
    "            action_size=action_size, hidden_size=hidden_size, # model init parameters\n",
    "            states=self.states, actions=self.actions, targetQs=self.targetQs) # model input\n",
    "\n",
    "        # Update the model: backward pass and backprop\n",
    "        self.opt = model_opt(loss=self.loss, learning_rate=learning_rate)"
   ]
  },
  {
   "cell_type": "markdown",
   "metadata": {},
   "source": [
    "## Experience replay\n",
    "\n",
    "Reinforcement learning algorithms can have stability issues due to correlations between states. To reduce correlations when training, we can store the agent's experiences and later draw a random mini-batch of those experiences to train on. \n",
    "\n",
    "Here, we'll create a `Memory` object that will store our experiences, our transitions $<s, a, r, s'>$. This memory will have a maxmium capacity, so we can keep newer experiences in memory while getting rid of older experiences. Then, we'll sample a random mini-batch of transitions $<s, a, r, s'>$ and train on those.\n",
    "\n",
    "Below, I've implemented a `Memory` object. If you're unfamiliar with `deque`, this is a double-ended queue. You can think of it like a tube open on both sides. You can put objects in either side of the tube. But if it's full, adding anything more will push an object out the other side. This is a great data structure to use for the memory buffer."
   ]
  },
  {
   "cell_type": "code",
   "execution_count": 14,
   "metadata": {},
   "outputs": [],
   "source": [
    "# from collections import deque\n",
    "# class Memory():\n",
    "#     def __init__(self, max_size = 1000):\n",
    "#         self.buffer = deque(maxlen=max_size) # data batch\n",
    "#         self.rates = deque(maxlen=max_size) # rates\n",
    "#     def sample(self, batch_size):\n",
    "#         idx = np.random.choice(np.arange(len(self.buffer)), \n",
    "#                                size=batch_size, \n",
    "#                                replace=False)\n",
    "#         return [self.buffer[ii] for ii in idx], [self.rates[ii] for ii in idx]"
   ]
  },
  {
   "cell_type": "code",
   "execution_count": 15,
   "metadata": {},
   "outputs": [],
   "source": [
    "from collections import deque\n",
    "class Memory():\n",
    "    def __init__(self, max_size = 1000):\n",
    "        self.buffer = deque(maxlen=max_size)\n",
    "    def sample(self, batch_size):\n",
    "        idx = np.random.choice(np.arange(len(self.buffer)), \n",
    "                               size=batch_size, \n",
    "                               replace=False)\n",
    "        return [self.buffer[ii] for ii in idx]"
   ]
  },
  {
   "cell_type": "markdown",
   "metadata": {},
   "source": [
    "## Exploration - Exploitation\n",
    "\n",
    "To learn about the environment and rules of the game, the agent needs to explore by taking random actions. We'll do this by choosing a random action with some probability $\\epsilon$ (epsilon).  That is, with some probability $\\epsilon$ the agent will make a random action and with probability $1 - \\epsilon$, the agent will choose an action from $Q(s,a)$. This is called an **$\\epsilon$-greedy policy**.\n",
    "\n",
    "\n",
    "At first, the agent needs to do a lot of exploring. Later when it has learned more, the agent can favor choosing actions based on what it has learned. This is called _exploitation_. We'll set it up so the agent is more likely to explore early in training, then more likely to exploit later in training."
   ]
  },
  {
   "cell_type": "markdown",
   "metadata": {},
   "source": [
    "## Q-Learning training algorithm\n",
    "\n",
    "Putting all this together, we can list out the algorithm we'll use to train the network. We'll train the network in _episodes_. One *episode* is one simulation of the game. For this game, the goal is to keep the pole upright for 195 frames. So we can start a new episode once meeting that goal. The game ends if the pole tilts over too far, or if the cart moves too far the left or right. When a game ends, we'll start a new episode. Now, to train the agent:\n",
    "\n",
    "* Initialize the memory $D$\n",
    "* Initialize the action-value network $Q$ with random weights\n",
    "* **For** episode = 1, $M$ **do**\n",
    "  * **For** $t$, $T$ **do**\n",
    "     * With probability $\\epsilon$ select a random action $a_t$, otherwise select $a_t = \\mathrm{argmax}_a Q(s,a)$\n",
    "     * Execute action $a_t$ in simulator and observe reward $r_{t+1}$ and new state $s_{t+1}$\n",
    "     * Store transition $<s_t, a_t, r_{t+1}, s_{t+1}>$ in memory $D$\n",
    "     * Sample random mini-batch from $D$: $<s_j, a_j, r_j, s'_j>$\n",
    "     * Set $\\hat{Q}_j = r_j$ if the episode ends at $j+1$, otherwise set $\\hat{Q}_j = r_j + \\gamma \\max_{a'}{Q(s'_j, a')}$\n",
    "     * Make a gradient descent step with loss $(\\hat{Q}_j - Q(s_j, a_j))^2$\n",
    "  * **endfor**\n",
    "* **endfor**"
   ]
  },
  {
   "cell_type": "markdown",
   "metadata": {},
   "source": [
    "## Hyperparameters\n",
    "\n",
    "One of the more difficult aspects of reinforcememt learning are the large number of hyperparameters. Not only are we tuning the network, but we're tuning the simulation."
   ]
  },
  {
   "cell_type": "code",
   "execution_count": 16,
   "metadata": {},
   "outputs": [
    {
     "data": {
      "text/plain": [
       "(Box(4,), Discrete(2))"
      ]
     },
     "execution_count": 16,
     "metadata": {},
     "output_type": "execute_result"
    }
   ],
   "source": [
    "env.observation_space, env.action_space"
   ]
  },
  {
   "cell_type": "code",
   "execution_count": 67,
   "metadata": {},
   "outputs": [],
   "source": [
    "# Exploration parameters\n",
    "explore_start = 1.0            # exploration probability at start\n",
    "explore_stop = 0.01           # minimum exploration probability \n",
    "decay_rate = 0.0001            # exponential decay rate for exploration prob\n",
    "\n",
    "# Network parameters\n",
    "state_size = 4\n",
    "action_size = 2\n",
    "hidden_size = 24*2             # number of units in each Q-network hidden layer\n",
    "learning_rate = 1e-4         # Q-network learning rate\n",
    "\n",
    "# Memory parameters\n",
    "memory_size = int(2e2)            # memory capacity\n",
    "batch_size = int(2e1)             # experience mini-batch size\n",
    "gamma = 0.99                   # future reward discount"
   ]
  },
  {
   "cell_type": "code",
   "execution_count": 68,
   "metadata": {},
   "outputs": [],
   "source": [
    "# Reset/init the graph/session\n",
    "graph = tf.reset_default_graph()\n",
    "\n",
    "# Init the model\n",
    "model = Model(action_size=action_size, hidden_size=hidden_size, state_size=state_size, learning_rate=learning_rate)\n",
    "\n",
    "# Init the memory\n",
    "memory = Memory(max_size=memory_size)"
   ]
  },
  {
   "cell_type": "markdown",
   "metadata": {},
   "source": [
    "## Populate the memory (exprience memory)\n",
    "\n",
    "Here I'm re-initializing the simulation and pre-populating the memory. The agent is taking random actions and storing the transitions in memory. This will help the agent with exploring the game."
   ]
  },
  {
   "cell_type": "code",
   "execution_count": 74,
   "metadata": {},
   "outputs": [],
   "source": [
    "# Initializing the memory with the pool of random exploration of the env.\n",
    "state = env.reset() # env-based\n",
    "total_reward = 0 # episode R\n",
    "num_step = 0 # episode steps/ length based on number of steps\n",
    "goal = 500 # env-based, the total reward required for reaching the goal G\n",
    "for _ in range(memory_size):\n",
    "    action = env.action_space.sample() # exploring the env action space/ random action/ explore\n",
    "    next_state, reward, done, _ = env.step(action) # exploring the env state, reward, and done/end\n",
    "    #memory.buffer[idxxx][FIRST, 111111, 2222222222, 333333, 4444444444, LAST]\n",
    "    #memory.buffer[idxxx][00000, 111111, 2222222222, 333333, 4444444444, 5555]\n",
    "    memory.buffer.append([state, action, next_state, reward, float(done), -1])\n",
    "    num_step += 1 # memory incremented\n",
    "    total_reward += reward # R += r\n",
    "    state = next_state # update the state for next episode\n",
    "    # At the end of episode, rate the played episode and prepared for the next episode\n",
    "    if done is True: # end of this episode\n",
    "        state = env.reset() # reset for next episode\n",
    "        rate = total_reward/goal # the actual sucess rate of the played sequence\n",
    "        total_reward = 0 # reset for next episode\n",
    "        # Rating the played sequence: success rating the played sequence\n",
    "        for idx in range(num_step): # episode length\n",
    "            #memory.buffer[0][-1] # the last one\n",
    "            #memory.buffer[0][5] # the last one\n",
    "            # if memory.buffer[0][-1] == -1: # double-check if it is empty and it is not rated!\n",
    "            #     memory.buffer[-1-idx][-] = rate # rate each SA pair\n",
    "            # 0, 1, 2, .............................., num_steps-1\n",
    "            if memory.buffer[-1-idx][5] == -1: # double-check if it is empty and it is not rated!\n",
    "                memory.buffer[-1-idx][5] = rate # rate each SA pair\n",
    "        num_step = 0 # reset for the next episode"
   ]
  },
  {
   "cell_type": "code",
   "execution_count": 75,
   "metadata": {},
   "outputs": [
    {
     "data": {
      "text/plain": [
       "[array([ 0.1250315 ,  1.37458907, -0.14835368, -2.16127196]),\n",
       " 1,\n",
       " array([ 0.15252328,  1.57082026, -0.19157912, -2.49584173]),\n",
       " 1.0,\n",
       " 0.0,\n",
       " -1]"
      ]
     },
     "execution_count": 75,
     "metadata": {},
     "output_type": "execute_result"
    }
   ],
   "source": [
    "memory.buffer[-1]"
   ]
  },
  {
   "cell_type": "code",
   "execution_count": 76,
   "metadata": {},
   "outputs": [
    {
     "data": {
      "text/plain": [
       "[array([-0.01086032, -0.03302274,  0.01250902, -0.03798463]),\n",
       " 0,\n",
       " array([-0.01152078, -0.22832182,  0.01174933,  0.25861862]),\n",
       " 1.0,\n",
       " 0.0,\n",
       " 0.028]"
      ]
     },
     "execution_count": 76,
     "metadata": {},
     "output_type": "execute_result"
    }
   ],
   "source": [
    "memory.buffer[0]"
   ]
  },
  {
   "cell_type": "code",
   "execution_count": 77,
   "metadata": {},
   "outputs": [],
   "source": [
    "batch = memory.buffer\n",
    "dones = np.array([each[4] for each in batch])\n",
    "rates = np.array([each[5] for each in batch])"
   ]
  },
  {
   "cell_type": "code",
   "execution_count": 78,
   "metadata": {},
   "outputs": [
    {
     "data": {
      "text/plain": [
       "array([0., 0., 0., 0., 0., 0., 0., 0., 0., 0., 0., 0., 0., 1., 0., 0., 0.,\n",
       "       0., 0., 0., 0., 0., 0., 0., 0., 1., 0., 0., 0., 0., 0., 0., 0., 0.,\n",
       "       0., 0., 0., 0., 0., 0., 0., 0., 0., 0., 0., 0., 0., 0., 0., 0., 0.,\n",
       "       0., 0., 0., 1., 0., 0., 0., 0., 0., 0., 0., 0., 0., 0., 0., 0., 1.,\n",
       "       0., 0., 0., 0., 0., 0., 0., 0., 0., 0., 0., 0., 0., 1., 0., 0., 0.,\n",
       "       0., 0., 0., 0., 0., 0., 0., 0., 0., 0., 0., 0., 0., 0., 0., 0., 0.,\n",
       "       0., 0., 0., 0., 0., 0., 0., 0., 0., 0., 0., 0., 0., 0., 0., 0., 0.,\n",
       "       0., 0., 0., 0., 0., 0., 0., 0., 0., 0., 0., 0., 0., 0., 0., 0., 0.,\n",
       "       0., 0., 0., 0., 0., 0., 0., 0., 0., 0., 0., 0., 0., 0., 1., 0., 0.,\n",
       "       0., 0., 0., 0., 0., 1., 0., 0., 0., 0., 0., 0., 0., 0., 0., 0., 0.,\n",
       "       0., 0., 1., 0., 0., 0., 0., 0., 0., 0., 0., 0., 0., 0., 0., 0., 0.,\n",
       "       0., 0., 0., 0., 1., 0., 0., 0., 0., 0., 0., 0., 0.])"
      ]
     },
     "execution_count": 78,
     "metadata": {},
     "output_type": "execute_result"
    }
   ],
   "source": [
    "dones"
   ]
  },
  {
   "cell_type": "code",
   "execution_count": 79,
   "metadata": {},
   "outputs": [
    {
     "data": {
      "text/plain": [
       "array([ 0.028,  0.028,  0.028,  0.028,  0.028,  0.028,  0.028,  0.028,\n",
       "        0.028,  0.028,  0.028,  0.028,  0.028,  0.028,  0.024,  0.024,\n",
       "        0.024,  0.024,  0.024,  0.024,  0.024,  0.024,  0.024,  0.024,\n",
       "        0.024,  0.024,  0.058,  0.058,  0.058,  0.058,  0.058,  0.058,\n",
       "        0.058,  0.058,  0.058,  0.058,  0.058,  0.058,  0.058,  0.058,\n",
       "        0.058,  0.058,  0.058,  0.058,  0.058,  0.058,  0.058,  0.058,\n",
       "        0.058,  0.058,  0.058,  0.058,  0.058,  0.058,  0.058,  0.026,\n",
       "        0.026,  0.026,  0.026,  0.026,  0.026,  0.026,  0.026,  0.026,\n",
       "        0.026,  0.026,  0.026,  0.026,  0.028,  0.028,  0.028,  0.028,\n",
       "        0.028,  0.028,  0.028,  0.028,  0.028,  0.028,  0.028,  0.028,\n",
       "        0.028,  0.028,  0.138,  0.138,  0.138,  0.138,  0.138,  0.138,\n",
       "        0.138,  0.138,  0.138,  0.138,  0.138,  0.138,  0.138,  0.138,\n",
       "        0.138,  0.138,  0.138,  0.138,  0.138,  0.138,  0.138,  0.138,\n",
       "        0.138,  0.138,  0.138,  0.138,  0.138,  0.138,  0.138,  0.138,\n",
       "        0.138,  0.138,  0.138,  0.138,  0.138,  0.138,  0.138,  0.138,\n",
       "        0.138,  0.138,  0.138,  0.138,  0.138,  0.138,  0.138,  0.138,\n",
       "        0.138,  0.138,  0.138,  0.138,  0.138,  0.138,  0.138,  0.138,\n",
       "        0.138,  0.138,  0.138,  0.138,  0.138,  0.138,  0.138,  0.138,\n",
       "        0.138,  0.138,  0.138,  0.138,  0.138,  0.138,  0.138,  0.016,\n",
       "        0.016,  0.016,  0.016,  0.016,  0.016,  0.016,  0.016,  0.028,\n",
       "        0.028,  0.028,  0.028,  0.028,  0.028,  0.028,  0.028,  0.028,\n",
       "        0.028,  0.028,  0.028,  0.028,  0.028,  0.038,  0.038,  0.038,\n",
       "        0.038,  0.038,  0.038,  0.038,  0.038,  0.038,  0.038,  0.038,\n",
       "        0.038,  0.038,  0.038,  0.038,  0.038,  0.038,  0.038,  0.038,\n",
       "       -1.   , -1.   , -1.   , -1.   , -1.   , -1.   , -1.   , -1.   ])"
      ]
     },
     "execution_count": 79,
     "metadata": {},
     "output_type": "execute_result"
    }
   ],
   "source": [
    "rates"
   ]
  },
  {
   "cell_type": "code",
   "execution_count": 48,
   "metadata": {},
   "outputs": [],
   "source": [
    "# # Training maxrated batch\n",
    "# batch = memory.sample(batch_size=batch_size)\n",
    "# percentage = 0.9\n",
    "# states = np.array([each[0] for each in batch])[rates >= (np.max(rates)*percentage)]\n",
    "# actions = np.array([each[1] for each in batch])[rates >= (np.max(rates)*percentage)]\n",
    "# next_states = np.array([each[2] for each in batch])[rates >= (np.max(rates)*percentage)]\n",
    "# rewards = np.array([each[3] for each in batch])[rates >= (np.max(rates)*percentage)]\n",
    "# dones = np.array([each[4] for each in batch])[rates >= (np.max(rates)*percentage)]\n",
    "# rates = np.array([each[5] for each in batch])[rates >= (np.max(rates)*percentage)]"
   ]
  },
  {
   "cell_type": "markdown",
   "metadata": {},
   "source": [
    "## Training the model\n",
    "\n",
    "Below we'll train our agent. If you want to watch it train, uncomment the `env.render()` line. This is slow because it's rendering the frames slower than the network can train. But, it's cool to watch the agent get better at the game."
   ]
  },
  {
   "cell_type": "code",
   "execution_count": 29,
   "metadata": {},
   "outputs": [
    {
     "name": "stdout",
     "output_type": "stream",
     "text": [
      "Episode:0 meanR:16.0000 R:16.0 loss:1.0828 exploreP:0.9984\n",
      "Episode:1 meanR:23.5000 R:31.0 loss:1.0745 exploreP:0.9954\n",
      "Episode:2 meanR:30.3333 R:44.0 loss:1.1311 exploreP:0.9910\n",
      "Episode:3 meanR:26.0000 R:13.0 loss:1.2126 exploreP:0.9898\n",
      "Episode:4 meanR:26.4000 R:28.0 loss:1.3376 exploreP:0.9870\n",
      "Episode:5 meanR:24.6667 R:16.0 loss:1.5148 exploreP:0.9855\n",
      "Episode:6 meanR:22.8571 R:12.0 loss:1.6208 exploreP:0.9843\n",
      "Episode:7 meanR:25.2500 R:42.0 loss:1.5718 exploreP:0.9802\n",
      "Episode:8 meanR:24.2222 R:16.0 loss:1.7628 exploreP:0.9787\n",
      "Episode:9 meanR:24.1000 R:23.0 loss:1.6126 exploreP:0.9764\n",
      "Episode:10 meanR:25.8182 R:43.0 loss:2.4291 exploreP:0.9723\n",
      "Episode:11 meanR:25.0833 R:17.0 loss:2.7405 exploreP:0.9706\n",
      "Episode:12 meanR:24.7692 R:21.0 loss:2.2269 exploreP:0.9686\n",
      "Episode:13 meanR:24.2143 R:17.0 loss:2.4840 exploreP:0.9670\n",
      "Episode:14 meanR:23.2000 R:9.0 loss:2.0295 exploreP:0.9661\n",
      "Episode:15 meanR:22.7500 R:16.0 loss:3.4667 exploreP:0.9646\n",
      "Episode:16 meanR:22.8824 R:25.0 loss:3.2667 exploreP:0.9622\n",
      "Episode:17 meanR:22.6111 R:18.0 loss:1.8417 exploreP:0.9605\n",
      "Episode:18 meanR:22.3158 R:17.0 loss:4.0510 exploreP:0.9589\n",
      "Episode:19 meanR:22.2500 R:21.0 loss:3.2290 exploreP:0.9569\n",
      "Episode:20 meanR:22.5238 R:28.0 loss:4.0319 exploreP:0.9543\n",
      "Episode:21 meanR:22.1364 R:14.0 loss:4.6797 exploreP:0.9529\n",
      "Episode:22 meanR:22.6087 R:33.0 loss:5.8893 exploreP:0.9498\n",
      "Episode:23 meanR:22.4583 R:19.0 loss:4.2652 exploreP:0.9481\n",
      "Episode:24 meanR:23.2000 R:41.0 loss:6.2200 exploreP:0.9442\n",
      "Episode:25 meanR:23.0769 R:20.0 loss:9.9997 exploreP:0.9423\n",
      "Episode:26 meanR:22.9259 R:19.0 loss:6.9365 exploreP:0.9406\n",
      "Episode:27 meanR:22.9286 R:23.0 loss:8.2721 exploreP:0.9384\n",
      "Episode:28 meanR:22.6897 R:16.0 loss:8.9374 exploreP:0.9370\n",
      "Episode:29 meanR:22.2667 R:10.0 loss:10.3133 exploreP:0.9360\n",
      "Episode:30 meanR:22.0645 R:16.0 loss:10.9480 exploreP:0.9345\n",
      "Episode:31 meanR:22.6875 R:42.0 loss:12.0374 exploreP:0.9307\n",
      "Episode:32 meanR:22.3636 R:12.0 loss:6.6487 exploreP:0.9296\n",
      "Episode:33 meanR:22.2059 R:17.0 loss:19.9903 exploreP:0.9280\n",
      "Episode:34 meanR:21.9714 R:14.0 loss:17.6284 exploreP:0.9267\n",
      "Episode:35 meanR:22.0833 R:26.0 loss:16.0240 exploreP:0.9243\n",
      "Episode:36 meanR:21.9459 R:17.0 loss:16.8149 exploreP:0.9228\n",
      "Episode:37 meanR:22.1053 R:28.0 loss:18.7237 exploreP:0.9202\n",
      "Episode:38 meanR:22.1026 R:22.0 loss:22.3790 exploreP:0.9182\n",
      "Episode:39 meanR:22.0250 R:19.0 loss:17.5429 exploreP:0.9165\n",
      "Episode:40 meanR:21.7317 R:10.0 loss:24.6353 exploreP:0.9156\n",
      "Episode:41 meanR:21.5238 R:13.0 loss:22.1913 exploreP:0.9144\n",
      "Episode:42 meanR:21.3953 R:16.0 loss:30.0454 exploreP:0.9130\n",
      "Episode:43 meanR:21.3636 R:20.0 loss:24.5477 exploreP:0.9112\n",
      "Episode:44 meanR:21.6000 R:32.0 loss:20.4882 exploreP:0.9083\n",
      "Episode:45 meanR:21.7174 R:27.0 loss:27.2449 exploreP:0.9059\n",
      "Episode:46 meanR:21.8085 R:26.0 loss:31.9603 exploreP:0.9036\n",
      "Episode:47 meanR:21.6875 R:16.0 loss:34.6345 exploreP:0.9021\n",
      "Episode:48 meanR:21.5306 R:14.0 loss:25.7891 exploreP:0.9009\n",
      "Episode:49 meanR:21.3200 R:11.0 loss:40.6721 exploreP:0.8999\n",
      "Episode:50 meanR:21.1961 R:15.0 loss:36.5421 exploreP:0.8986\n",
      "Episode:51 meanR:21.8654 R:56.0 loss:35.8188 exploreP:0.8936\n",
      "Episode:52 meanR:21.8868 R:23.0 loss:40.4753 exploreP:0.8916\n",
      "Episode:53 meanR:21.9074 R:23.0 loss:36.9670 exploreP:0.8895\n",
      "Episode:54 meanR:22.0182 R:28.0 loss:48.7649 exploreP:0.8871\n",
      "Episode:55 meanR:21.9286 R:17.0 loss:56.8825 exploreP:0.8856\n",
      "Episode:56 meanR:22.0000 R:26.0 loss:39.1355 exploreP:0.8833\n",
      "Episode:57 meanR:22.1207 R:29.0 loss:46.6115 exploreP:0.8808\n",
      "Episode:58 meanR:21.9492 R:12.0 loss:47.2922 exploreP:0.8797\n",
      "Episode:59 meanR:22.1500 R:34.0 loss:57.4810 exploreP:0.8768\n",
      "Episode:60 meanR:22.0164 R:14.0 loss:67.5812 exploreP:0.8756\n",
      "Episode:61 meanR:21.8871 R:14.0 loss:58.6017 exploreP:0.8744\n",
      "Episode:62 meanR:21.7460 R:13.0 loss:63.0587 exploreP:0.8733\n",
      "Episode:63 meanR:21.8281 R:27.0 loss:87.2374 exploreP:0.8709\n",
      "Episode:64 meanR:21.6923 R:13.0 loss:63.2879 exploreP:0.8698\n",
      "Episode:65 meanR:21.7121 R:23.0 loss:77.9249 exploreP:0.8678\n",
      "Episode:66 meanR:21.7015 R:21.0 loss:61.5112 exploreP:0.8660\n",
      "Episode:67 meanR:21.6324 R:17.0 loss:82.8886 exploreP:0.8646\n",
      "Episode:68 meanR:21.7826 R:32.0 loss:89.6254 exploreP:0.8618\n",
      "Episode:69 meanR:21.6143 R:10.0 loss:51.6399 exploreP:0.8610\n",
      "Episode:70 meanR:21.8310 R:37.0 loss:98.2327 exploreP:0.8579\n",
      "Episode:71 meanR:22.1806 R:47.0 loss:134.1013 exploreP:0.8539\n",
      "Episode:72 meanR:22.0274 R:11.0 loss:155.7626 exploreP:0.8529\n",
      "Episode:73 meanR:21.9189 R:14.0 loss:105.3434 exploreP:0.8518\n",
      "Episode:74 meanR:21.9467 R:24.0 loss:148.9570 exploreP:0.8498\n",
      "Episode:75 meanR:21.8684 R:16.0 loss:129.9944 exploreP:0.8484\n",
      "Episode:76 meanR:22.0000 R:32.0 loss:141.2424 exploreP:0.8457\n",
      "Episode:77 meanR:21.8718 R:12.0 loss:158.5355 exploreP:0.8447\n",
      "Episode:78 meanR:21.9241 R:26.0 loss:146.3770 exploreP:0.8426\n",
      "Episode:79 meanR:21.8500 R:16.0 loss:197.6637 exploreP:0.8412\n",
      "Episode:80 meanR:21.7407 R:13.0 loss:102.7311 exploreP:0.8401\n",
      "Episode:81 meanR:21.6707 R:16.0 loss:223.3055 exploreP:0.8388\n",
      "Episode:82 meanR:21.6506 R:20.0 loss:192.4724 exploreP:0.8372\n",
      "Episode:83 meanR:21.8095 R:35.0 loss:245.5248 exploreP:0.8343\n",
      "Episode:84 meanR:21.8588 R:26.0 loss:180.7609 exploreP:0.8321\n",
      "Episode:85 meanR:21.8953 R:25.0 loss:238.3392 exploreP:0.8301\n",
      "Episode:86 meanR:21.9310 R:25.0 loss:230.4132 exploreP:0.8280\n",
      "Episode:87 meanR:21.8182 R:12.0 loss:198.8137 exploreP:0.8271\n",
      "Episode:88 meanR:21.7865 R:19.0 loss:369.0097 exploreP:0.8255\n",
      "Episode:89 meanR:21.7222 R:16.0 loss:355.2986 exploreP:0.8242\n",
      "Episode:90 meanR:21.5934 R:10.0 loss:269.8188 exploreP:0.8234\n",
      "Episode:91 meanR:21.4674 R:10.0 loss:256.1865 exploreP:0.8226\n",
      "Episode:92 meanR:21.3763 R:13.0 loss:232.6794 exploreP:0.8215\n",
      "Episode:93 meanR:21.4149 R:25.0 loss:286.1686 exploreP:0.8195\n",
      "Episode:94 meanR:21.3684 R:17.0 loss:234.2309 exploreP:0.8181\n",
      "Episode:95 meanR:21.2917 R:14.0 loss:235.0302 exploreP:0.8170\n",
      "Episode:96 meanR:21.2577 R:18.0 loss:365.5271 exploreP:0.8155\n",
      "Episode:97 meanR:21.2755 R:23.0 loss:241.9239 exploreP:0.8137\n",
      "Episode:98 meanR:21.1818 R:12.0 loss:319.3084 exploreP:0.8127\n",
      "Episode:99 meanR:21.2500 R:28.0 loss:475.0201 exploreP:0.8105\n",
      "Episode:100 meanR:21.2700 R:18.0 loss:345.5251 exploreP:0.8090\n",
      "Episode:101 meanR:21.2000 R:24.0 loss:426.8220 exploreP:0.8071\n",
      "Episode:102 meanR:21.0700 R:31.0 loss:424.7051 exploreP:0.8047\n",
      "Episode:103 meanR:21.2000 R:26.0 loss:411.5548 exploreP:0.8026\n",
      "Episode:104 meanR:21.2300 R:31.0 loss:465.4261 exploreP:0.8001\n",
      "Episode:105 meanR:21.2500 R:18.0 loss:341.1848 exploreP:0.7987\n",
      "Episode:106 meanR:21.3400 R:21.0 loss:287.0544 exploreP:0.7971\n",
      "Episode:107 meanR:21.2000 R:28.0 loss:637.3095 exploreP:0.7949\n",
      "Episode:108 meanR:21.1500 R:11.0 loss:515.1586 exploreP:0.7940\n",
      "Episode:109 meanR:21.0700 R:15.0 loss:520.4910 exploreP:0.7928\n",
      "Episode:110 meanR:20.8600 R:22.0 loss:533.3055 exploreP:0.7911\n"
     ]
    }
   ],
   "source": [
    "# Save/load the model and save for plotting\n",
    "saver = tf.train.Saver()\n",
    "episode_rewards_list, rewards_list, loss_list = [], [], []\n",
    "\n",
    "# TF session for training\n",
    "with tf.Session(graph=graph) as sess:\n",
    "    sess.run(tf.global_variables_initializer())\n",
    "    #saver.restore(sess, 'checkpoints/model.ckpt')    \n",
    "    #saver.restore(sess, tf.train.latest_checkpoint('checkpoints'))\n",
    "    total_step = 0 # Explore or exploit parameter\n",
    "    episode_reward = deque(maxlen=100) # 100 episodes average/running average/running mean/window\n",
    "    \n",
    "    # Training episodes/epochs\n",
    "    for ep in range(111):\n",
    "        total_reward = 0\n",
    "        loss_batch = []\n",
    "        state = env.reset()\n",
    "        num_step = 0 # each episode\n",
    "\n",
    "        # Training steps/batches\n",
    "        while True:\n",
    "            # Explore (Env) or Exploit (Model): NO\n",
    "            total_step += 1\n",
    "            explore_p = explore_stop + (explore_start - explore_stop) * np.exp(-decay_rate * total_step) \n",
    "            if explore_p > np.random.rand():\n",
    "                action = env.action_space.sample()\n",
    "            else:\n",
    "                action_logits = sess.run(model.actions_logits, feed_dict={model.states: state.reshape([1, -1])})\n",
    "                action = np.argmax(action_logits)\n",
    "            next_state, reward, done, _ = env.step(action)\n",
    "            memory.buffer.append([state, action, next_state, reward, float(done)])\n",
    "            memory.rates.append(-1) # empty\n",
    "            num_step += 1 # momory added\n",
    "            total_reward += reward\n",
    "            state = next_state\n",
    "\n",
    "            # Rating the memory\n",
    "            if done is True:\n",
    "                rate = total_reward/500 # update rate at the end/ when episode is done\n",
    "                for idx in range(num_step): # episode length\n",
    "                    if memory.rates[-1-idx] == -1: # double-check the landmark/marked indexes\n",
    "                        memory.rates[-1-idx] = rate # rate the trajectory/data\n",
    "\n",
    "            # Training maxrated batch\n",
    "            batch, rates = memory.sample(batch_size=batch_size)\n",
    "            rates = np.array(rates)\n",
    "            percentage = 0.9\n",
    "            states = np.array([each[0] for each in batch])[rates >= (np.max(rates)*percentage)]\n",
    "            actions = np.array([each[1] for each in batch])[rates >= (np.max(rates)*percentage)]\n",
    "            next_states = np.array([each[2] for each in batch])[rates >= (np.max(rates)*percentage)]\n",
    "            rewards = np.array([each[3] for each in batch])[rates >= (np.max(rates)*percentage)]\n",
    "            dones = np.array([each[4] for each in batch])[rates >= (np.max(rates)*percentage)]\n",
    "            #maxrates = rates[rates >= (np.max(rates)*percentage)]            \n",
    "            #nextQs_logits = sess.run(model.Qs_logits, feed_dict = {model.states: next_states})\n",
    "            next_actions_logits = sess.run(model.actions_logits, feed_dict = {model.states: next_states})\n",
    "            nextQs = np.max(next_actions_logits, axis=1) * (1-dones)\n",
    "            targetQs = rewards + (gamma * nextQs)\n",
    "            loss, _ = sess.run([model.loss, model.opt], feed_dict = {model.states: states, \n",
    "                                                                     model.actions: actions,\n",
    "                                                                     model.targetQs: targetQs})\n",
    "            loss_batch.append(loss)\n",
    "            if done is True:\n",
    "                break\n",
    "                \n",
    "        episode_reward.append(total_reward)\n",
    "        print('Episode:{}'.format(ep),\n",
    "              'meanR:{:.4f}'.format(np.mean(episode_reward)),\n",
    "              'R:{}'.format(total_reward),\n",
    "              'loss:{:.4f}'.format(np.mean(loss_batch)),\n",
    "              'exploreP:{:.4f}'.format(explore_p))\n",
    "        # Ploting out\n",
    "        episode_rewards_list.append([ep, np.mean(episode_reward)])\n",
    "        rewards_list.append([ep, total_reward])\n",
    "        loss_list.append([ep, np.mean(loss_batch)])\n",
    "        # Break episode/epoch loop\n",
    "        if np.mean(episode_reward) >= 500:\n",
    "            break\n",
    "            \n",
    "    # At the end of all training episodes/epochs\n",
    "    saver.save(sess, 'checkpoints/model.ckpt')"
   ]
  },
  {
   "cell_type": "markdown",
   "metadata": {},
   "source": [
    "# Visualizing training\n",
    "\n",
    "Below I'll plot the total rewards for each episode. I'm plotting the rolling average too, in blue."
   ]
  },
  {
   "cell_type": "code",
   "execution_count": 22,
   "metadata": {},
   "outputs": [],
   "source": [
    "%matplotlib inline\n",
    "import matplotlib.pyplot as plt\n",
    "\n",
    "def running_mean(x, N):\n",
    "    cumsum = np.cumsum(np.insert(x, 0, 0)) \n",
    "    return (cumsum[N:] - cumsum[:-N]) / N "
   ]
  },
  {
   "cell_type": "code",
   "execution_count": 23,
   "metadata": {},
   "outputs": [
    {
     "data": {
      "text/plain": [
       "Text(0, 0.5, 'Total rewards')"
      ]
     },
     "execution_count": 23,
     "metadata": {},
     "output_type": "execute_result"
    },
    {
     "data": {
      "image/png": "[encoded data removed]",
      "text/plain": [
       "<Figure size 432x288 with 1 Axes>"
      ]
     },
     "metadata": {
      "needs_background": "light"
     },
     "output_type": "display_data"
    }
   ],
   "source": [
    "eps, arr = np.array(episode_rewards_list).T\n",
    "smoothed_arr = running_mean(arr, 10)\n",
    "plt.plot(eps[-len(smoothed_arr):], smoothed_arr)\n",
    "plt.plot(eps, arr, color='grey', alpha=0.3)\n",
    "plt.xlabel('Episode')\n",
    "plt.ylabel('Total rewards')"
   ]
  },
  {
   "cell_type": "code",
   "execution_count": 24,
   "metadata": {},
   "outputs": [
    {
     "data": {
      "text/plain": [
       "Text(0, 0.5, 'Total rewards')"
      ]
     },
     "execution_count": 24,
     "metadata": {},
     "output_type": "execute_result"
    },
    {
     "data": {
      "image/png": "[encoded data removed]",
      "text/plain": [
       "<Figure size 432x288 with 1 Axes>"
      ]
     },
     "metadata": {
      "needs_background": "light"
     },
     "output_type": "display_data"
    }
   ],
   "source": [
    "eps, arr = np.array(rewards_list).T\n",
    "smoothed_arr = running_mean(arr, 10)\n",
    "plt.plot(eps[-len(smoothed_arr):], smoothed_arr)\n",
    "plt.plot(eps, arr, color='grey', alpha=0.3)\n",
    "plt.xlabel('Episode')\n",
    "plt.ylabel('Total rewards')"
   ]
  },
  {
   "cell_type": "code",
   "execution_count": 25,
   "metadata": {},
   "outputs": [
    {
     "data": {
      "text/plain": [
       "Text(0, 0.5, 'Average losses')"
      ]
     },
     "execution_count": 25,
     "metadata": {},
     "output_type": "execute_result"
    },
    {
     "data": {
      "image/png": "[encoded data removed]",
      "text/plain": [
       "<Figure size 432x288 with 1 Axes>"
      ]
     },
     "metadata": {
      "needs_background": "light"
     },
     "output_type": "display_data"
    }
   ],
   "source": [
    "eps, arr = np.array(loss_list).T\n",
    "smoothed_arr = running_mean(arr, 10)\n",
    "plt.plot(eps[-len(smoothed_arr):], smoothed_arr)\n",
    "plt.plot(eps, arr, color='grey', alpha=0.3)\n",
    "plt.xlabel('Episode')\n",
    "plt.ylabel('Average losses')"
   ]
  },
  {
   "cell_type": "markdown",
   "metadata": {},
   "source": [
    "## Testing\n",
    "\n",
    "Let's checkout how our trained agent plays the game."
   ]
  },
  {
   "cell_type": "code",
   "execution_count": 24,
   "metadata": {},
   "outputs": [
    {
     "name": "stdout",
     "output_type": "stream",
     "text": [
      "INFO:tensorflow:Restoring parameters from checkpoints/model.ckpt\n",
      "total_reward: 500.0\n",
      "total_reward: 500.0\n",
      "total_reward: 500.0\n",
      "total_reward: 500.0\n",
      "total_reward: 500.0\n",
      "total_reward: 500.0\n",
      "total_reward: 500.0\n",
      "total_reward: 500.0\n",
      "total_reward: 500.0\n",
      "total_reward: 500.0\n"
     ]
    }
   ],
   "source": [
    "# Creating a gym env\n",
    "import gym\n",
    "env = gym.make('CartPole-v0')\n",
    "env = gym.make('CartPole-v1')\n",
    "\n",
    "# A training graph session\n",
    "with tf.Session(graph=graph) as sess:\n",
    "    #sess.run(tf.global_variables_initializer())\n",
    "    #saver.restore(sess, 'checkpoints/model.ckpt')    \n",
    "    saver.restore(sess, tf.train.latest_checkpoint('checkpoints'))\n",
    "    \n",
    "    # Episodes/epochs\n",
    "    for _ in range(10):\n",
    "        state = env.reset()\n",
    "        total_reward = 0\n",
    "\n",
    "        # Steps/batches\n",
    "        while True:\n",
    "            env.render()\n",
    "            action_logits = sess.run(model.actions_logits, feed_dict={model.states: np.reshape(state, [1, -1])})\n",
    "            action = np.argmax(action_logits)\n",
    "            state, reward, done, _ = env.step(action)\n",
    "            total_reward += reward\n",
    "            if done:\n",
    "                break\n",
    "                \n",
    "        # Closing the env\n",
    "        print('total_reward: {}'.format(total_reward))\n",
    "# Close the env at the end\n",
    "env.close()"
   ]
  },
  {
   "cell_type": "markdown",
   "metadata": {},
   "source": [
    "## Extending this\n",
    "\n",
    "So, Cart-Pole is a pretty simple game. However, the same model can be used to train an agent to play something much more complicated like Pong or Space Invaders. Instead of a state like we're using here though, you'd want to use convolutional layers to get the state from the screen images.\n",
    "\n",
    "![Deep Q-Learning Atari](assets/atari-network.png)\n",
    "\n",
    "I'll leave it as a challenge for you to use deep Q-learning to train an agent to play Atari games. Here's the original paper which will get you started: http://www.davidqiu.com:8888/research/nature14236.pdf."
   ]
  },
  {
   "cell_type": "code",
   "execution_count": null,
   "metadata": {},
   "outputs": [],
   "source": []
  }
 ],
 "metadata": {
  "kernelspec": {
   "display_name": "Python 3",
   "language": "python",
   "name": "python3"
  },
  "language_info": {
   "codemirror_mode": {
    "name": "ipython",
    "version": 3
   },
   "file_extension": ".py",
   "mimetype": "text/x-python",
   "name": "python",
   "nbconvert_exporter": "python",
   "pygments_lexer": "ipython3",
   "version": "3.6.6"
  }
 },
 "nbformat": 4,
 "nbformat_minor": 2
}
