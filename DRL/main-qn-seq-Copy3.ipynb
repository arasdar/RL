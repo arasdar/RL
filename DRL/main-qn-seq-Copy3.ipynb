{
 "cells": [
  {
   "cell_type": "markdown",
   "metadata": {},
   "source": [
    "# Sequential Q-learning\n",
    "\n",
    "In this notebook, we'll build a neural network that can learn to play games through reinforcement learning. More specifically, we'll use Q-learning to train an agent to play a game called [Cart-Pole](https://gym.openai.com/envs/CartPole-v0). In this game, a freely swinging pole is attached to a cart. The cart can move to the left and right, and the goal is to keep the pole upright as long as possible.\n",
    "\n",
    "![Cart-Pole](assets/cart-pole.jpg)\n",
    "\n",
    "We can simulate this game using [OpenAI Gym](https://gym.openai.com/). First, let's check out how OpenAI Gym works. Then, we'll get into training an agent to play the Cart-Pole game."
   ]
  },
  {
   "cell_type": "code",
   "execution_count": 1,
   "metadata": {},
   "outputs": [],
   "source": [
    "import gym\n",
    "import numpy as np"
   ]
  },
  {
   "cell_type": "code",
   "execution_count": 2,
   "metadata": {},
   "outputs": [
    {
     "name": "stdout",
     "output_type": "stream",
     "text": [
      "TensorFlow Version: 1.7.1\n",
      "Default GPU Device: \n"
     ]
    }
   ],
   "source": [
    "# In this one we should define and detect GPUs for tensorflow\n",
    "# GPUs or CPU\n",
    "import tensorflow as tf\n",
    "\n",
    "# Check TensorFlow Version\n",
    "print('TensorFlow Version: {}'.format(tf.__version__))\n",
    "\n",
    "# Check for a GPU\n",
    "print('Default GPU Device: {}'.format(tf.test.gpu_device_name()))"
   ]
  },
  {
   "cell_type": "markdown",
   "metadata": {},
   "source": [
    ">**Note:** Make sure you have OpenAI Gym cloned into the same directory with this notebook. I've included `gym` as a submodule, so you can run `git submodule --init --recursive` to pull the contents into the `gym` repo."
   ]
  },
  {
   "cell_type": "markdown",
   "metadata": {},
   "source": [
    ">**Note:** Make sure you have OpenAI Gym cloned. Then run this command `pip install -e gym/[all]`."
   ]
  },
  {
   "cell_type": "code",
   "execution_count": 4,
   "metadata": {},
   "outputs": [
    {
     "name": "stdout",
     "output_type": "stream",
     "text": [
      "\u001b[33mWARN: gym.spaces.Box autodetected dtype as <class 'numpy.float32'>. Please provide explicit dtype.\u001b[0m\n"
     ]
    },
    {
     "name": "stderr",
     "output_type": "stream",
     "text": [
      "/home/arasdar/anaconda3/envs/env/lib/python3.6/site-packages/gym/__init__.py:22: UserWarning: DEPRECATION WARNING: to improve load times, gym no longer automatically loads gym.spaces. Please run \"import gym.spaces\" to load gym.spaces on your own. This warning will turn into an error in a future version of gym.\n",
      "  warnings.warn('DEPRECATION WARNING: to improve load times, gym no longer automatically loads gym.spaces. Please run \"import gym.spaces\" to load gym.spaces on your own. This warning will turn into an error in a future version of gym.')\n"
     ]
    }
   ],
   "source": [
    "import gym\n",
    "\n",
    "# Create the Cart-Pole game environment\n",
    "#env = gym.make('CartPole-v0')\n",
    "env = gym.make('CartPole-v1')"
   ]
  },
  {
   "cell_type": "markdown",
   "metadata": {},
   "source": [
    "We interact with the simulation through `env`. To show the simulation running, you can use `env.render()` to render one frame. Passing in an action as an integer to `env.step` will generate the next step in the simulation.  You can see how many actions are possible from `env.action_space` and to get a random action you can use `env.action_space.sample()`. This is general to all Gym games. In the Cart-Pole game, there are two possible actions, moving the cart left or right. So there are two actions we can take, encoded as 0 and 1.\n",
    "\n",
    "Run the code below to watch the simulation run."
   ]
  },
  {
   "cell_type": "code",
   "execution_count": 5,
   "metadata": {},
   "outputs": [
    {
     "name": "stdout",
     "output_type": "stream",
     "text": [
      "state, action, reward, done, info: [-0.01929692 -0.15405606 -0.00796877  0.26203255] 0 1.0 False {}\n",
      "state, action, reward, done, info: [-0.02237804  0.04117873 -0.00272812 -0.03315313] 1 1.0 False {}\n",
      "state, action, reward, done, info: [-0.02155446  0.2363397  -0.00339118 -0.32669556] 1 1.0 False {}\n",
      "state, action, reward, done, info: [-0.01682767  0.04126619 -0.00992509 -0.03508398] 0 1.0 False {}\n",
      "state, action, reward, done, info: [-0.01600235  0.23652906 -0.01062677 -0.33088178] 1 1.0 False {}\n",
      "state, action, reward, done, info: [-0.01127176  0.43180065 -0.01724441 -0.62689685] 1 1.0 False {}\n",
      "state, action, reward, done, info: [-0.00263575  0.627159   -0.02978234 -0.92496041] 1 1.0 False {}\n",
      "state, action, reward, done, info: [ 0.00990743  0.82267028 -0.04828155 -1.22685199] 1 1.0 False {}\n",
      "state, action, reward, done, info: [ 0.02636083  1.01837936 -0.07281859 -1.53426277] 1 1.0 False {}\n",
      "state, action, reward, done, info: [ 0.04672842  1.21429898 -0.10350385 -1.84875314] 1 1.0 False {}\n"
     ]
    }
   ],
   "source": [
    "env.reset()\n",
    "for _ in range(10):\n",
    "    # env.render()\n",
    "    action = env.action_space.sample()\n",
    "    state, reward, done, info = env.step(action) # take a random action\n",
    "    print('state, action, reward, done, info:', state, action, reward, done, info)\n",
    "    if done:\n",
    "        env.reset()"
   ]
  },
  {
   "cell_type": "markdown",
   "metadata": {},
   "source": [
    "To shut the window showing the simulation, use `env.close()`."
   ]
  },
  {
   "cell_type": "markdown",
   "metadata": {},
   "source": [
    "If you ran the simulation above, we can look at the rewards:"
   ]
  },
  {
   "cell_type": "code",
   "execution_count": 6,
   "metadata": {},
   "outputs": [],
   "source": [
    "# print(rewards[-20:])\n",
    "# print(np.array(rewards).shape, np.array(states).shape, np.array(actions).shape, np.array(dones).shape)\n",
    "# print(np.array(rewards).dtype, np.array(states).dtype, np.array(actions).dtype, np.array(dones).dtype)\n",
    "# print(np.max(np.array(actions)), np.min(np.array(actions)))\n",
    "# print((np.max(np.array(actions)) - np.min(np.array(actions)))+1)\n",
    "# print(np.max(np.array(rewards)), np.min(np.array(rewards)))\n",
    "# print(np.max(np.array(states)), np.min(np.array(states)))"
   ]
  },
  {
   "cell_type": "markdown",
   "metadata": {},
   "source": [
    "The game resets after the pole has fallen past a certain angle. For each frame while the simulation is running, it returns a reward of 1.0. The longer the game runs, the more reward we get. Then, our network's goal is to maximize the reward by keeping the pole vertical. It will do this by moving the cart to the left and the right."
   ]
  },
  {
   "cell_type": "markdown",
   "metadata": {},
   "source": [
    "## Q-Network\n",
    "\n",
    "We train our Q-learning agent using the Bellman Equation:\n",
    "\n",
    "$$\n",
    "Q(s, a) = r + \\gamma \\max{Q(s', a')}\n",
    "$$\n",
    "\n",
    "where $s$ is a state, $a$ is an action, and $s'$ is the next state from state $s$ and action $a$.\n",
    "\n",
    "Before we used this equation to learn values for a Q-_table_. However, for this game there are a huge number of states available. The state has four values: the position and velocity of the cart, and the position and velocity of the pole. These are all real-valued numbers, so ignoring floating point precisions, you practically have infinite states. Instead of using a table then, we'll replace it with a neural network that will approximate the Q-table lookup function.\n",
    "\n",
    "<img src=\"assets/deep-q-learning.png\" width=450px>\n",
    "\n",
    "Now, our Q value, $Q(s, a)$ is calculated by passing in a state to the network. The output will be Q-values for each available action, with fully connected hidden layers.\n",
    "\n",
    "<img src=\"assets/q-network.png\" width=550px>\n",
    "\n",
    "\n",
    "As I showed before, we can define our targets for training as $\\hat{Q}(s,a) = r + \\gamma \\max{Q(s', a')}$. Then we update the weights by minimizing $(\\hat{Q}(s,a) - Q(s,a))^2$. \n",
    "\n",
    "For this Cart-Pole game, we have four inputs, one for each value in the state, and two outputs, one for each action. To get $\\hat{Q}$, we'll first choose an action, then simulate the game using that action. This will get us the next state, $s'$, and the reward. With that, we can calculate $\\hat{Q}$ then pass it back into the $Q$ network to run the optimizer and update the weights.\n",
    "\n",
    "Below is my implementation of the Q-network. I used two fully connected layers with ReLU activations. Two seems to be good enough, three might be better. Feel free to try it out."
   ]
  },
  {
   "cell_type": "code",
   "execution_count": 8,
   "metadata": {},
   "outputs": [],
   "source": [
    "def model_input(state_size, lstm_size, batch_size=1):\n",
    "    actions = tf.placeholder(tf.int32, [None], name='actions')\n",
    "    states = tf.placeholder(tf.float32, [None, state_size], name='states')\n",
    "    targetQs = tf.placeholder(tf.float32, [None], name='targetQs')\n",
    "    labelQs = tf.placeholder(tf.float32, [None], name='labelQs')\n",
    "        \n",
    "    gru = tf.nn.rnn_cell.GRUCell(lstm_size)\n",
    "    cell = tf.nn.rnn_cell.MultiRNNCell([gru], state_is_tuple=False)\n",
    "    initial_state = cell.zero_state(batch_size, tf.float32)\n",
    "    \n",
    "    return actions, states, targetQs, labelQs, cell, initial_state"
   ]
  },
  {
   "cell_type": "code",
   "execution_count": 9,
   "metadata": {},
   "outputs": [],
   "source": [
    "# RNN generator or sequence generator\n",
    "def generator(states, initial_state, cell, lstm_size, num_classes, reuse=False): \n",
    "    with tf.variable_scope('generator', reuse=reuse):\n",
    "        # First fully connected layer\n",
    "        inputs = tf.layers.dense(inputs=states, units=lstm_size)\n",
    "        print(states.shape, inputs.shape)\n",
    "        \n",
    "        # with tf.variable_scope('dynamic_rnn_', reuse=tf.AUTO_REUSE):\n",
    "        # dynamic means adapt to the batch_size\n",
    "        inputs_rnn = tf.reshape(inputs, [1, -1, lstm_size]) # NxH -> 1xNxH\n",
    "        print(inputs_rnn.shape, initial_state.shape)\n",
    "        outputs_rnn, final_state = tf.nn.dynamic_rnn(cell=cell, inputs=inputs_rnn, initial_state=initial_state)\n",
    "        print(outputs_rnn.shape, final_state.shape)\n",
    "        outputs = tf.reshape(outputs_rnn, [-1, lstm_size]) # 1xNxH -> NxH\n",
    "        print(outputs.shape)\n",
    "\n",
    "        # Last fully connected layer\n",
    "        logits = tf.layers.dense(inputs=outputs, units=num_classes)\n",
    "        print(logits.shape)\n",
    "        #predictions = tf.nn.softmax(logits)\n",
    "        \n",
    "        # logits are the action logits\n",
    "        return logits, final_state"
   ]
  },
  {
   "cell_type": "code",
   "execution_count": 37,
   "metadata": {},
   "outputs": [],
   "source": [
    "def model_loss(action_size, hidden_size, states, cell, initial_state, actions, targetQs, labelQs):\n",
    "    actions_logits, final_state = generator(states=states, cell=cell, initial_state=initial_state, \n",
    "                                            lstm_size=hidden_size, num_classes=action_size)\n",
    "    actions_labels = tf.one_hot(indices=actions, depth=action_size, dtype=actions_logits.dtype)\n",
    "    Qs = tf.reduce_max(actions_logits*actions_labels, axis=1)\n",
    "    lossQtgt = tf.reduce_mean(tf.square(Qs - targetQs)) # next state, next action and nextQs\n",
    "    lossQlbl = tf.reduce_mean(tf.square(Qs - labelQs)) # current state, action, and currentQs\n",
    "    lossQtgt_sigm = tf.reduce_mean(tf.nn.sigmoid_cross_entropy_with_logits(logits=Qs, \n",
    "                                                                           labels=tf.nn.sigmoid(targetQs)))\n",
    "    lossQlbl_sigm = tf.reduce_mean(tf.nn.sigmoid_cross_entropy_with_logits(logits=Qs,\n",
    "                                                                           labels=tf.nn.sigmoid(labelQs)))\n",
    "    loss = lossQtgt + lossQlbl + lossQtgt_sigm + lossQlbl_sigm\n",
    "    return actions_logits, final_state, loss, lossQtgt, lossQlbl, lossQtgt_sigm, lossQlbl_sigm"
   ]
  },
  {
   "cell_type": "code",
   "execution_count": 38,
   "metadata": {},
   "outputs": [],
   "source": [
    "def model_opt(loss, learning_rate):\n",
    "    \"\"\"\n",
    "    Get optimization operations in order\n",
    "    :param loss: Generator loss Tensor for action prediction\n",
    "    :param learning_rate: Learning Rate Placeholder\n",
    "    :return: A tuple of (qfunction training, generator training, discriminator training)\n",
    "    \"\"\"\n",
    "    # Get weights and bias to update\n",
    "    t_vars = tf.trainable_variables()\n",
    "    g_vars = [var for var in t_vars if var.name.startswith('generator')]\n",
    "\n",
    "    # # Optimize\n",
    "    # with tf.control_dependencies(tf.get_collection(tf.GraphKeys.UPDATE_OPS)): # Required for batchnorm (BN)\n",
    "    # #opt = tf.train.AdamOptimizer(learning_rate).minimize(loss, var_list=g_vars)\n",
    "\n",
    "    #grads, _ = tf.clip_by_global_norm(t_list=tf.gradients(loss, g_vars), clip_norm=5) # usually around 1-5\n",
    "    grads = tf.gradients(loss, g_vars)\n",
    "    opt = tf.train.AdamOptimizer(learning_rate).apply_gradients(grads_and_vars=zip(grads, g_vars))\n",
    "\n",
    "    return opt"
   ]
  },
  {
   "cell_type": "code",
   "execution_count": 39,
   "metadata": {},
   "outputs": [],
   "source": [
    "class Model:\n",
    "    def __init__(self, state_size, action_size, hidden_size, learning_rate):\n",
    "\n",
    "        # Data of the Model: make the data available inside the framework\n",
    "        self.actions, self.states, self.targetQs, self.labelQs, cell, self.initial_state = model_input(\n",
    "            state_size=state_size, lstm_size=hidden_size)\n",
    "        \n",
    "        # Create the Model: calculating the loss and forwad pass\n",
    "        self.actions_logits, self.final_state, self.loss, self.lossQtgt, self.lossQlbl, self.lossQtgt_sigm, self.lossQlbl_sigm = model_loss(\n",
    "            action_size=action_size, hidden_size=hidden_size, \n",
    "            states=self.states, actions=self.actions, \n",
    "            targetQs=self.targetQs, labelQs=self.labelQs, \n",
    "            cell=cell, initial_state=self.initial_state)\n",
    "\n",
    "        # Update the model: backward pass and backprop\n",
    "        self.opt = model_opt(loss=self.loss, learning_rate=learning_rate)"
   ]
  },
  {
   "cell_type": "markdown",
   "metadata": {},
   "source": [
    "## Experience replay\n",
    "\n",
    "Reinforcement learning algorithms can have stability issues due to correlations between states. To reduce correlations when training, we can store the agent's experiences and later draw a random mini-batch of those experiences to train on. \n",
    "\n",
    "Here, we'll create a `Memory` object that will store our experiences, our transitions $<s, a, r, s'>$. This memory will have a maxmium capacity, so we can keep newer experiences in memory while getting rid of older experiences. Then, we'll sample a random mini-batch of transitions $<s, a, r, s'>$ and train on those.\n",
    "\n",
    "Below, I've implemented a `Memory` object. If you're unfamiliar with `deque`, this is a double-ended queue. You can think of it like a tube open on both sides. You can put objects in either side of the tube. But if it's full, adding anything more will push an object out the other side. This is a great data structure to use for the memory buffer."
   ]
  },
  {
   "cell_type": "code",
   "execution_count": 40,
   "metadata": {},
   "outputs": [],
   "source": [
    "from collections import deque\n",
    "\n",
    "class Memory():    \n",
    "    def __init__(self, max_size = 1000):\n",
    "        self.buffer = deque(maxlen=max_size)\n",
    "        self.states = deque(maxlen=max_size)"
   ]
  },
  {
   "cell_type": "code",
   "execution_count": 41,
   "metadata": {},
   "outputs": [],
   "source": [
    "# episode_total_reward = deque(maxlen=10)"
   ]
  },
  {
   "cell_type": "markdown",
   "metadata": {},
   "source": [
    "## Exploration - Exploitation\n",
    "\n",
    "To learn about the environment and rules of the game, the agent needs to explore by taking random actions. We'll do this by choosing a random action with some probability $\\epsilon$ (epsilon).  That is, with some probability $\\epsilon$ the agent will make a random action and with probability $1 - \\epsilon$, the agent will choose an action from $Q(s,a)$. This is called an **$\\epsilon$-greedy policy**.\n",
    "\n",
    "\n",
    "At first, the agent needs to do a lot of exploring. Later when it has learned more, the agent can favor choosing actions based on what it has learned. This is called _exploitation_. We'll set it up so the agent is more likely to explore early in training, then more likely to exploit later in training."
   ]
  },
  {
   "cell_type": "markdown",
   "metadata": {},
   "source": [
    "## Q-Learning training algorithm\n",
    "\n",
    "Putting all this together, we can list out the algorithm we'll use to train the network. We'll train the network in _episodes_. One *episode* is one simulation of the game. For this game, the goal is to keep the pole upright for 195 frames. So we can start a new episode once meeting that goal. The game ends if the pole tilts over too far, or if the cart moves too far the left or right. When a game ends, we'll start a new episode. Now, to train the agent:\n",
    "\n",
    "* Initialize the memory $D$\n",
    "* Initialize the action-value network $Q$ with random weights\n",
    "* **For** episode = 1, $M$ **do**\n",
    "  * **For** $t$, $T$ **do**\n",
    "     * With probability $\\epsilon$ select a random action $a_t$, otherwise select $a_t = \\mathrm{argmax}_a Q(s,a)$\n",
    "     * Execute action $a_t$ in simulator and observe reward $r_{t+1}$ and new state $s_{t+1}$\n",
    "     * Store transition $<s_t, a_t, r_{t+1}, s_{t+1}>$ in memory $D$\n",
    "     * Sample random mini-batch from $D$: $<s_j, a_j, r_j, s'_j>$\n",
    "     * Set $\\hat{Q}_j = r_j$ if the episode ends at $j+1$, otherwise set $\\hat{Q}_j = r_j + \\gamma \\max_{a'}{Q(s'_j, a')}$\n",
    "     * Make a gradient descent step with loss $(\\hat{Q}_j - Q(s_j, a_j))^2$\n",
    "  * **endfor**\n",
    "* **endfor**"
   ]
  },
  {
   "cell_type": "markdown",
   "metadata": {},
   "source": [
    "## Hyperparameters\n",
    "\n",
    "One of the more difficult aspects of reinforcememt learning are the large number of hyperparameters. Not only are we tuning the network, but we're tuning the simulation."
   ]
  },
  {
   "cell_type": "code",
   "execution_count": 42,
   "metadata": {},
   "outputs": [],
   "source": [
    "# print('state:', np.array(states).shape[1], \n",
    "#       'action size: {}'.format((np.max(np.array(actions)) - np.min(np.array(actions)))+1))"
   ]
  },
  {
   "cell_type": "code",
   "execution_count": 43,
   "metadata": {},
   "outputs": [],
   "source": [
    "# Training parameters\n",
    "batch_size = 32                # number of samples in the memory/ experience as mini-batch size\n",
    "learning_rate = 0.001          # learning rate for adam\n",
    "\n",
    "# Exploration parameters\n",
    "explore_start = 1.0            # exploration probability at start\n",
    "explore_stop = 0.01            # minimum exploration probability \n",
    "decay_rate = 0.0001            # exponential decay rate for exploration prob\n",
    "\n",
    "# Network parameters\n",
    "state_size = 4                 # number of units for the input state/observation -- simulation\n",
    "action_size = 2                # number of units for the output actions -- simulation\n",
    "hidden_size = 64               # number of units in each Q-network hidden layer -- simulation"
   ]
  },
  {
   "cell_type": "code",
   "execution_count": 44,
   "metadata": {},
   "outputs": [
    {
     "name": "stdout",
     "output_type": "stream",
     "text": [
      "(?, 4) (?, 64)\n",
      "(1, ?, 64) (1, 64)\n",
      "(1, ?, 64) (1, 64)\n",
      "(?, 64)\n",
      "(?, 2)\n"
     ]
    }
   ],
   "source": [
    "# Reset/init the graph/session\n",
    "graph = tf.reset_default_graph()\n",
    "\n",
    "# Init the model\n",
    "model = Model(action_size=action_size, hidden_size=hidden_size, state_size=state_size, learning_rate=learning_rate)\n",
    "\n",
    "# Init the memory\n",
    "memory = Memory(max_size=batch_size)"
   ]
  },
  {
   "cell_type": "markdown",
   "metadata": {},
   "source": [
    "## Populate the memory (exprience memory)\n",
    "\n",
    "Here I'm re-initializing the simulation and pre-populating the memory. The agent is taking random actions and storing the transitions in memory. This will help the agent with exploring the game."
   ]
  },
  {
   "cell_type": "code",
   "execution_count": 45,
   "metadata": {},
   "outputs": [],
   "source": [
    "state = env.reset()\n",
    "for _ in range(batch_size):\n",
    "    action = env.action_space.sample()\n",
    "    next_state, reward, done, _ = env.step(action)\n",
    "    memory.buffer.append([state, action, next_state, reward, float(done)])\n",
    "    state = next_state\n",
    "    if done is True:\n",
    "        state = env.reset()"
   ]
  },
  {
   "cell_type": "markdown",
   "metadata": {},
   "source": [
    "## Training the model\n",
    "\n",
    "Below we'll train our agent. If you want to watch it train, uncomment the `env.render()` line. This is slow because it's rendering the frames slower than the network can train. But, it's cool to watch the agent get better at the game."
   ]
  },
  {
   "cell_type": "code",
   "execution_count": 46,
   "metadata": {},
   "outputs": [
    {
     "data": {
      "text/plain": [
       "[array([ 0.0068957 ,  0.00404566, -0.02286297,  0.00812363]),\n",
       " 1,\n",
       " array([ 0.00697661,  0.19948791, -0.02270049, -0.29168426]),\n",
       " 1.0,\n",
       " 0.0]"
      ]
     },
     "execution_count": 46,
     "metadata": {},
     "output_type": "execute_result"
    }
   ],
   "source": [
    "memory.buffer[0]"
   ]
  },
  {
   "cell_type": "code",
   "execution_count": 47,
   "metadata": {},
   "outputs": [],
   "source": [
    "# states, rewards, actions"
   ]
  },
  {
   "cell_type": "code",
   "execution_count": null,
   "metadata": {
    "scrolled": false
   },
   "outputs": [
    {
     "name": "stdout",
     "output_type": "stream",
     "text": [
      "Episode: 0 meanReward: 13.0000 meanLoss: 2.4191 meanLossQlbl: 0.0857 meanLossQlbl_sigm: 0.6443 meanLossQtgt: 1.1021 meanLossQtgt_sigm: 0.5870 ExploreP: 0.9987\n",
      "Episode: 1 meanReward: 16.0000 meanLoss: 2.4825 meanLossQlbl: 0.0473 meanLossQlbl_sigm: 0.2381 meanLossQtgt: 1.9933 meanLossQtgt_sigm: 0.2039 ExploreP: 0.9968\n",
      "Episode: 2 meanReward: 19.3333 meanLoss: 4.9990 meanLossQlbl: 1.2001 meanLossQlbl_sigm: 0.1493 meanLossQtgt: 3.4026 meanLossQtgt_sigm: 0.2469 ExploreP: 0.9943\n",
      "Episode: 3 meanReward: 18.2500 meanLoss: 8.7723 meanLossQlbl: 2.6923 meanLossQlbl_sigm: 0.2559 meanLossQtgt: 5.4928 meanLossQtgt_sigm: 0.3314 ExploreP: 0.9928\n",
      "Episode: 4 meanReward: 18.2000 meanLoss: 5.2933 meanLossQlbl: 0.1563 meanLossQlbl_sigm: 0.0116 meanLossQtgt: 4.9729 meanLossQtgt_sigm: 0.1524 ExploreP: 0.9910\n",
      "Episode: 5 meanReward: 16.8333 meanLoss: 6.4541 meanLossQlbl: 0.1934 meanLossQlbl_sigm: 0.0003 meanLossQtgt: 6.0901 meanLossQtgt_sigm: 0.1701 ExploreP: 0.9901\n",
      "Episode: 6 meanReward: 17.4286 meanLoss: 6.0084 meanLossQlbl: 0.2517 meanLossQlbl_sigm: 0.0005 meanLossQtgt: 5.5933 meanLossQtgt_sigm: 0.1629 ExploreP: 0.9880\n",
      "Episode: 7 meanReward: 19.3750 meanLoss: 6.2760 meanLossQlbl: 0.3459 meanLossQlbl_sigm: 0.0006 meanLossQtgt: 5.8081 meanLossQtgt_sigm: 0.1214 ExploreP: 0.9848\n",
      "Episode: 8 meanReward: 19.6667 meanLoss: 5.1856 meanLossQlbl: 0.0865 meanLossQlbl_sigm: 0.0000 meanLossQtgt: 4.9912 meanLossQtgt_sigm: 0.1078 ExploreP: 0.9826\n",
      "Episode: 9 meanReward: 20.6000 meanLoss: 2.7749 meanLossQlbl: 0.3983 meanLossQlbl_sigm: 0.0163 meanLossQtgt: 2.2933 meanLossQtgt_sigm: 0.0669 ExploreP: 0.9798\n",
      "Episode: 10 meanReward: 21.0000 meanLoss: 10.3968 meanLossQlbl: 0.0662 meanLossQlbl_sigm: 0.0001 meanLossQtgt: 10.1717 meanLossQtgt_sigm: 0.1589 ExploreP: 0.9774\n",
      "Episode: 11 meanReward: 20.5833 meanLoss: 15.4247 meanLossQlbl: 0.1654 meanLossQlbl_sigm: 0.0000 meanLossQtgt: 15.0357 meanLossQtgt_sigm: 0.2235 ExploreP: 0.9758\n",
      "Episode: 12 meanReward: 21.3077 meanLoss: 24.6054 meanLossQlbl: 6.6320 meanLossQlbl_sigm: 0.1367 meanLossQtgt: 17.5424 meanLossQtgt_sigm: 0.2943 ExploreP: 0.9730\n",
      "Episode: 13 meanReward: 20.4286 meanLoss: 16.6886 meanLossQlbl: 0.0990 meanLossQlbl_sigm: 0.0004 meanLossQtgt: 16.3895 meanLossQtgt_sigm: 0.1996 ExploreP: 0.9721\n",
      "Episode: 14 meanReward: 20.6667 meanLoss: 25.9887 meanLossQlbl: 0.4456 meanLossQlbl_sigm: 0.0000 meanLossQtgt: 25.2057 meanLossQtgt_sigm: 0.3374 ExploreP: 0.9698\n",
      "Episode: 15 meanReward: 20.7500 meanLoss: 18.2745 meanLossQlbl: 0.2154 meanLossQlbl_sigm: 0.0000 meanLossQtgt: 17.8234 meanLossQtgt_sigm: 0.2356 ExploreP: 0.9677\n",
      "Episode: 16 meanReward: 20.3529 meanLoss: 13.5904 meanLossQlbl: 0.3176 meanLossQlbl_sigm: 0.0046 meanLossQtgt: 13.0874 meanLossQtgt_sigm: 0.1807 ExploreP: 0.9663\n",
      "Episode: 17 meanReward: 20.2222 meanLoss: 18.2679 meanLossQlbl: 0.7810 meanLossQlbl_sigm: 0.0193 meanLossQtgt: 17.2288 meanLossQtgt_sigm: 0.2388 ExploreP: 0.9646\n",
      "Episode: 18 meanReward: 20.3158 meanLoss: 26.9208 meanLossQlbl: 0.6810 meanLossQlbl_sigm: 0.0000 meanLossQtgt: 25.9273 meanLossQtgt_sigm: 0.3125 ExploreP: 0.9625\n",
      "Episode: 19 meanReward: 19.8500 meanLoss: 30.0375 meanLossQlbl: 0.2141 meanLossQlbl_sigm: 0.0123 meanLossQtgt: 29.4373 meanLossQtgt_sigm: 0.3738 ExploreP: 0.9615\n",
      "Episode: 20 meanReward: 19.6667 meanLoss: 19.0970 meanLossQlbl: 1.1267 meanLossQlbl_sigm: 0.0717 meanLossQtgt: 17.6081 meanLossQtgt_sigm: 0.2906 ExploreP: 0.9599\n",
      "Episode: 21 meanReward: 19.5000 meanLoss: 23.3965 meanLossQlbl: 1.1851 meanLossQlbl_sigm: 0.0496 meanLossQtgt: 21.8580 meanLossQtgt_sigm: 0.3039 ExploreP: 0.9584\n",
      "Episode: 22 meanReward: 19.9130 meanLoss: 11.0685 meanLossQlbl: 0.4980 meanLossQlbl_sigm: 0.0146 meanLossQtgt: 10.4190 meanLossQtgt_sigm: 0.1370 ExploreP: 0.9557\n",
      "Episode: 23 meanReward: 20.2083 meanLoss: 18.0361 meanLossQlbl: 0.1700 meanLossQlbl_sigm: 0.0011 meanLossQtgt: 17.6601 meanLossQtgt_sigm: 0.2049 ExploreP: 0.9531\n",
      "Episode: 24 meanReward: 20.5200 meanLoss: 5.8276 meanLossQlbl: 0.7984 meanLossQlbl_sigm: 0.0012 meanLossQtgt: 4.9577 meanLossQtgt_sigm: 0.0703 ExploreP: 0.9505\n",
      "Episode: 25 meanReward: 20.2308 meanLoss: 19.8930 meanLossQlbl: 0.8280 meanLossQlbl_sigm: 0.0008 meanLossQtgt: 18.8506 meanLossQtgt_sigm: 0.2137 ExploreP: 0.9493\n",
      "Episode: 26 meanReward: 19.9259 meanLoss: 24.5217 meanLossQlbl: 2.3402 meanLossQlbl_sigm: 0.0143 meanLossQtgt: 21.9173 meanLossQtgt_sigm: 0.2499 ExploreP: 0.9481\n",
      "Episode: 27 meanReward: 19.7143 meanLoss: 34.8104 meanLossQlbl: 2.1116 meanLossQlbl_sigm: 0.0205 meanLossQtgt: 32.3162 meanLossQtgt_sigm: 0.3620 ExploreP: 0.9468\n",
      "Episode: 28 meanReward: 19.7241 meanLoss: 40.4359 meanLossQlbl: 0.3858 meanLossQlbl_sigm: 0.0002 meanLossQtgt: 39.6178 meanLossQtgt_sigm: 0.4320 ExploreP: 0.9450\n",
      "Episode: 29 meanReward: 19.5333 meanLoss: 27.7902 meanLossQlbl: 1.3095 meanLossQlbl_sigm: 0.0000 meanLossQtgt: 26.1498 meanLossQtgt_sigm: 0.3309 ExploreP: 0.9437\n",
      "Episode: 30 meanReward: 20.0000 meanLoss: 25.3922 meanLossQlbl: 1.4673 meanLossQlbl_sigm: 0.0000 meanLossQtgt: 23.6542 meanLossQtgt_sigm: 0.2707 ExploreP: 0.9405\n",
      "Episode: 31 meanReward: 19.7188 meanLoss: 15.2064 meanLossQlbl: 0.6511 meanLossQlbl_sigm: 0.0000 meanLossQtgt: 14.3752 meanLossQtgt_sigm: 0.1802 ExploreP: 0.9395\n",
      "Episode: 32 meanReward: 19.8125 meanLoss: 30.3966 meanLossQlbl: 1.4753 meanLossQlbl_sigm: 0.0209 meanLossQtgt: 28.5988 meanLossQtgt_sigm: 0.3017 ExploreP: 0.9380\n",
      "Episode: 33 meanReward: 19.7188 meanLoss: 51.0996 meanLossQlbl: 0.3966 meanLossQlbl_sigm: 0.0011 meanLossQtgt: 50.2027 meanLossQtgt_sigm: 0.4991 ExploreP: 0.9365\n",
      "Episode: 34 meanReward: 19.8438 meanLoss: 36.5133 meanLossQlbl: 0.0660 meanLossQlbl_sigm: 0.0000 meanLossQtgt: 36.0849 meanLossQtgt_sigm: 0.3624 ExploreP: 0.9337\n",
      "Episode: 35 meanReward: 20.1875 meanLoss: 24.6823 meanLossQlbl: 0.1926 meanLossQlbl_sigm: 0.0004 meanLossQtgt: 24.2466 meanLossQtgt_sigm: 0.2426 ExploreP: 0.9313\n",
      "Episode: 36 meanReward: 20.0000 meanLoss: 34.9365 meanLossQlbl: 5.5274 meanLossQlbl_sigm: 0.1093 meanLossQtgt: 28.9564 meanLossQtgt_sigm: 0.3434 ExploreP: 0.9302\n",
      "Episode: 37 meanReward: 20.6562 meanLoss: 104.2789 meanLossQlbl: 50.8272 meanLossQlbl_sigm: 0.3847 meanLossQtgt: 52.6251 meanLossQtgt_sigm: 0.4420 ExploreP: 0.9274\n",
      "Episode: 38 meanReward: 20.8750 meanLoss: 38.1859 meanLossQlbl: 3.7303 meanLossQlbl_sigm: 0.0137 meanLossQtgt: 34.1381 meanLossQtgt_sigm: 0.3038 ExploreP: 0.9248\n",
      "Episode: 39 meanReward: 20.3438 meanLoss: 33.6079 meanLossQlbl: 3.7986 meanLossQlbl_sigm: 0.0000 meanLossQtgt: 29.5304 meanLossQtgt_sigm: 0.2789 ExploreP: 0.9233\n",
      "Episode: 40 meanReward: 19.9688 meanLoss: 46.4469 meanLossQlbl: 2.3435 meanLossQlbl_sigm: 0.0000 meanLossQtgt: 43.6495 meanLossQtgt_sigm: 0.4539 ExploreP: 0.9224\n",
      "Episode: 41 meanReward: 19.5625 meanLoss: 46.0067 meanLossQlbl: 0.8402 meanLossQlbl_sigm: 0.0010 meanLossQtgt: 44.7319 meanLossQtgt_sigm: 0.4336 ExploreP: 0.9210\n",
      "Episode: 42 meanReward: 19.4062 meanLoss: 54.7368 meanLossQlbl: 1.2684 meanLossQlbl_sigm: 0.0029 meanLossQtgt: 52.9986 meanLossQtgt_sigm: 0.4668 ExploreP: 0.9191\n",
      "Episode: 43 meanReward: 19.4062 meanLoss: 30.1304 meanLossQlbl: 1.3762 meanLossQlbl_sigm: 0.0060 meanLossQtgt: 28.5098 meanLossQtgt_sigm: 0.2384 ExploreP: 0.9177\n",
      "Episode: 44 meanReward: 19.6875 meanLoss: 27.2652 meanLossQlbl: 0.4325 meanLossQlbl_sigm: 0.0024 meanLossQtgt: 26.5996 meanLossQtgt_sigm: 0.2306 ExploreP: 0.9142\n",
      "Episode: 45 meanReward: 20.1562 meanLoss: 14.3696 meanLossQlbl: 1.5455 meanLossQlbl_sigm: 0.0000 meanLossQtgt: 12.7008 meanLossQtgt_sigm: 0.1233 ExploreP: 0.9120\n",
      "Episode: 46 meanReward: 20.7500 meanLoss: 13.0920 meanLossQlbl: 2.1099 meanLossQlbl_sigm: 0.0062 meanLossQtgt: 10.8949 meanLossQtgt_sigm: 0.0809 ExploreP: 0.9081\n",
      "Episode: 47 meanReward: 21.1250 meanLoss: 21.5381 meanLossQlbl: 4.4335 meanLossQlbl_sigm: 0.0001 meanLossQtgt: 16.9583 meanLossQtgt_sigm: 0.1464 ExploreP: 0.9051\n",
      "Episode: 48 meanReward: 21.7500 meanLoss: 17.9932 meanLossQlbl: 2.1873 meanLossQlbl_sigm: 0.0000 meanLossQtgt: 15.6229 meanLossQtgt_sigm: 0.1830 ExploreP: 0.9020\n",
      "Episode: 49 meanReward: 21.6250 meanLoss: 49.7423 meanLossQlbl: 0.5613 meanLossQlbl_sigm: 0.0000 meanLossQtgt: 48.8326 meanLossQtgt_sigm: 0.3484 ExploreP: 0.9008\n",
      "Episode: 50 meanReward: 21.3438 meanLoss: 70.0343 meanLossQlbl: 1.6644 meanLossQlbl_sigm: 0.0000 meanLossQtgt: 67.8066 meanLossQtgt_sigm: 0.5633 ExploreP: 0.8996\n"
     ]
    },
    {
     "name": "stdout",
     "output_type": "stream",
     "text": [
      "Episode: 51 meanReward: 21.5312 meanLoss: 70.3398 meanLossQlbl: 2.3562 meanLossQlbl_sigm: 0.0000 meanLossQtgt: 67.4151 meanLossQtgt_sigm: 0.5686 ExploreP: 0.8981\n",
      "Episode: 52 meanReward: 21.4375 meanLoss: 57.8995 meanLossQlbl: 3.8054 meanLossQlbl_sigm: 0.0001 meanLossQtgt: 53.6789 meanLossQtgt_sigm: 0.4151 ExploreP: 0.8970\n",
      "Episode: 53 meanReward: 21.2188 meanLoss: 66.4481 meanLossQlbl: 5.4058 meanLossQlbl_sigm: 0.0001 meanLossQtgt: 60.6123 meanLossQtgt_sigm: 0.4299 ExploreP: 0.8962\n",
      "Episode: 54 meanReward: 20.8750 meanLoss: 63.5829 meanLossQlbl: 4.1102 meanLossQlbl_sigm: 0.0000 meanLossQtgt: 59.0032 meanLossQtgt_sigm: 0.4695 ExploreP: 0.8946\n",
      "Episode: 55 meanReward: 20.9062 meanLoss: 61.8647 meanLossQlbl: 2.2045 meanLossQlbl_sigm: 0.0000 meanLossQtgt: 59.2359 meanLossQtgt_sigm: 0.4243 ExploreP: 0.8921\n",
      "Episode: 56 meanReward: 21.6562 meanLoss: 12.9759 meanLossQlbl: 1.6465 meanLossQlbl_sigm: 0.0000 meanLossQtgt: 11.2207 meanLossQtgt_sigm: 0.1088 ExploreP: 0.8875\n",
      "Episode: 57 meanReward: 21.7812 meanLoss: 55.2949 meanLossQlbl: 0.2822 meanLossQlbl_sigm: 0.0000 meanLossQtgt: 54.6450 meanLossQtgt_sigm: 0.3677 ExploreP: 0.8860\n",
      "Episode: 58 meanReward: 21.7500 meanLoss: 99.0234 meanLossQlbl: 1.1346 meanLossQlbl_sigm: 0.0000 meanLossQtgt: 97.2050 meanLossQtgt_sigm: 0.6838 ExploreP: 0.8851\n",
      "Episode: 59 meanReward: 22.0938 meanLoss: 56.0435 meanLossQlbl: 2.1479 meanLossQlbl_sigm: 0.0000 meanLossQtgt: 53.4288 meanLossQtgt_sigm: 0.4669 ExploreP: 0.8829\n",
      "Episode: 60 meanReward: 21.8125 meanLoss: 23.9354 meanLossQlbl: 1.7565 meanLossQlbl_sigm: 0.0000 meanLossQtgt: 21.9233 meanLossQtgt_sigm: 0.2556 ExploreP: 0.8819\n",
      "Episode: 61 meanReward: 21.8750 meanLoss: 58.4195 meanLossQlbl: 0.8450 meanLossQlbl_sigm: 0.0000 meanLossQtgt: 57.1215 meanLossQtgt_sigm: 0.4530 ExploreP: 0.8805\n",
      "Episode: 62 meanReward: 21.2812 meanLoss: 89.3151 meanLossQlbl: 0.3428 meanLossQlbl_sigm: 0.0000 meanLossQtgt: 88.2945 meanLossQtgt_sigm: 0.6777 ExploreP: 0.8792\n",
      "Episode: 63 meanReward: 21.4375 meanLoss: 87.3867 meanLossQlbl: 0.6069 meanLossQlbl_sigm: 0.0000 meanLossQtgt: 86.1647 meanLossQtgt_sigm: 0.6150 ExploreP: 0.8778\n",
      "Episode: 64 meanReward: 21.4688 meanLoss: 49.0207 meanLossQlbl: 2.7085 meanLossQlbl_sigm: 0.0000 meanLossQtgt: 45.9614 meanLossQtgt_sigm: 0.3508 ExploreP: 0.8764\n",
      "Episode: 65 meanReward: 21.6562 meanLoss: 41.9801 meanLossQlbl: 1.7001 meanLossQlbl_sigm: 0.0000 meanLossQtgt: 39.9210 meanLossQtgt_sigm: 0.3590 ExploreP: 0.8745\n",
      "Episode: 66 meanReward: 21.5312 meanLoss: 48.2025 meanLossQlbl: 1.1862 meanLossQlbl_sigm: 0.0000 meanLossQtgt: 46.6320 meanLossQtgt_sigm: 0.3842 ExploreP: 0.8722\n",
      "Episode: 67 meanReward: 21.6875 meanLoss: 42.5191 meanLossQlbl: 0.4082 meanLossQlbl_sigm: 0.0000 meanLossQtgt: 41.7699 meanLossQtgt_sigm: 0.3410 ExploreP: 0.8695\n",
      "Episode: 68 meanReward: 21.6562 meanLoss: 40.5217 meanLossQlbl: 0.5870 meanLossQlbl_sigm: 0.0000 meanLossQtgt: 39.6186 meanLossQtgt_sigm: 0.3161 ExploreP: 0.8686\n",
      "Episode: 69 meanReward: 21.1875 meanLoss: 73.1590 meanLossQlbl: 0.7923 meanLossQlbl_sigm: 0.0000 meanLossQtgt: 71.7861 meanLossQtgt_sigm: 0.5807 ExploreP: 0.8672\n",
      "Episode: 70 meanReward: 20.6562 meanLoss: 70.6443 meanLossQlbl: 2.3384 meanLossQlbl_sigm: 0.0000 meanLossQtgt: 67.6993 meanLossQtgt_sigm: 0.6066 ExploreP: 0.8663\n",
      "Episode: 71 meanReward: 21.6250 meanLoss: 32.7586 meanLossQlbl: 0.9876 meanLossQlbl_sigm: 0.0000 meanLossQtgt: 31.4829 meanLossQtgt_sigm: 0.2881 ExploreP: 0.8623\n",
      "Episode: 72 meanReward: 21.9062 meanLoss: 33.8529 meanLossQlbl: 0.1406 meanLossQlbl_sigm: 0.0000 meanLossQtgt: 33.4254 meanLossQtgt_sigm: 0.2869 ExploreP: 0.8607\n",
      "Episode: 73 meanReward: 21.9375 meanLoss: 56.2691 meanLossQlbl: 0.9902 meanLossQlbl_sigm: 0.0000 meanLossQtgt: 54.8070 meanLossQtgt_sigm: 0.4719 ExploreP: 0.8592\n",
      "Episode: 74 meanReward: 23.2812 meanLoss: 24.1683 meanLossQlbl: 0.3811 meanLossQlbl_sigm: 0.0000 meanLossQtgt: 23.5895 meanLossQtgt_sigm: 0.1977 ExploreP: 0.8539\n",
      "Episode: 75 meanReward: 23.1875 meanLoss: 36.7136 meanLossQlbl: 0.0422 meanLossQlbl_sigm: 0.0000 meanLossQtgt: 36.3687 meanLossQtgt_sigm: 0.3027 ExploreP: 0.8528\n",
      "Episode: 76 meanReward: 23.2188 meanLoss: 42.2365 meanLossQlbl: 0.7685 meanLossQlbl_sigm: 0.0000 meanLossQtgt: 41.1261 meanLossQtgt_sigm: 0.3419 ExploreP: 0.8494\n",
      "Episode: 77 meanReward: 22.8438 meanLoss: 36.4039 meanLossQlbl: 0.0980 meanLossQlbl_sigm: 0.0000 meanLossQtgt: 36.0034 meanLossQtgt_sigm: 0.3024 ExploreP: 0.8484\n",
      "Episode: 78 meanReward: 22.0625 meanLoss: 66.8024 meanLossQlbl: 0.1694 meanLossQlbl_sigm: 0.0000 meanLossQtgt: 66.0658 meanLossQtgt_sigm: 0.5672 ExploreP: 0.8469\n",
      "Episode: 79 meanReward: 21.3750 meanLoss: 63.7591 meanLossQlbl: 0.1845 meanLossQlbl_sigm: 0.0000 meanLossQtgt: 63.0057 meanLossQtgt_sigm: 0.5689 ExploreP: 0.8459\n",
      "Episode: 80 meanReward: 21.1875 meanLoss: 45.8710 meanLossQlbl: 0.5079 meanLossQlbl_sigm: 0.0000 meanLossQtgt: 44.9335 meanLossQtgt_sigm: 0.4296 ExploreP: 0.8436\n",
      "Episode: 81 meanReward: 21.3750 meanLoss: 31.4483 meanLossQlbl: 1.4497 meanLossQlbl_sigm: 0.0000 meanLossQtgt: 29.7174 meanLossQtgt_sigm: 0.2812 ExploreP: 0.8419\n",
      "Episode: 82 meanReward: 21.4062 meanLoss: 46.7099 meanLossQlbl: 0.6925 meanLossQlbl_sigm: 0.0000 meanLossQtgt: 45.5720 meanLossQtgt_sigm: 0.4454 ExploreP: 0.8407\n",
      "Episode: 83 meanReward: 21.3438 meanLoss: 53.4733 meanLossQlbl: 0.4108 meanLossQlbl_sigm: 0.0000 meanLossQtgt: 52.5562 meanLossQtgt_sigm: 0.5064 ExploreP: 0.8395\n",
      "Episode: 84 meanReward: 21.5625 meanLoss: 46.7394 meanLossQlbl: 0.2194 meanLossQlbl_sigm: 0.0000 meanLossQtgt: 46.0587 meanLossQtgt_sigm: 0.4613 ExploreP: 0.8378\n",
      "Episode: 85 meanReward: 21.6562 meanLoss: 46.0148 meanLossQlbl: 2.4698 meanLossQlbl_sigm: 0.0000 meanLossQtgt: 43.0975 meanLossQtgt_sigm: 0.4475 ExploreP: 0.8368\n",
      "Episode: 86 meanReward: 21.7188 meanLoss: 37.3285 meanLossQlbl: 4.7785 meanLossQlbl_sigm: 0.0000 meanLossQtgt: 32.1707 meanLossQtgt_sigm: 0.3793 ExploreP: 0.8352\n",
      "Episode: 87 meanReward: 21.4375 meanLoss: 34.3817 meanLossQlbl: 1.3839 meanLossQlbl_sigm: 0.0000 meanLossQtgt: 32.6547 meanLossQtgt_sigm: 0.3430 ExploreP: 0.8336\n",
      "Episode: 88 meanReward: 20.7188 meanLoss: 34.5086 meanLossQlbl: 0.5379 meanLossQlbl_sigm: 0.0000 meanLossQtgt: 33.6351 meanLossQtgt_sigm: 0.3356 ExploreP: 0.8312\n",
      "Episode: 89 meanReward: 20.5000 meanLoss: 37.9743 meanLossQlbl: 1.5952 meanLossQlbl_sigm: 0.0000 meanLossQtgt: 36.0533 meanLossQtgt_sigm: 0.3259 ExploreP: 0.8304\n",
      "Episode: 90 meanReward: 20.4688 meanLoss: 37.1344 meanLossQlbl: 6.7433 meanLossQlbl_sigm: 0.0000 meanLossQtgt: 30.0211 meanLossQtgt_sigm: 0.3700 ExploreP: 0.8296\n",
      "Episode: 91 meanReward: 20.8125 meanLoss: 33.9501 meanLossQlbl: 2.0073 meanLossQlbl_sigm: 0.0000 meanLossQtgt: 31.5889 meanLossQtgt_sigm: 0.3539 ExploreP: 0.8266\n",
      "Episode: 92 meanReward: 21.5312 meanLoss: 8.0619 meanLossQlbl: 1.1658 meanLossQlbl_sigm: 0.0000 meanLossQtgt: 6.7815 meanLossQtgt_sigm: 0.1145 ExploreP: 0.8239\n",
      "Episode: 93 meanReward: 21.4688 meanLoss: 24.2416 meanLossQlbl: 0.4981 meanLossQlbl_sigm: 0.0000 meanLossQtgt: 23.5045 meanLossQtgt_sigm: 0.2390 ExploreP: 0.8227\n",
      "Episode: 94 meanReward: 21.5312 meanLoss: 30.9556 meanLossQlbl: 1.9570 meanLossQlbl_sigm: 0.0000 meanLossQtgt: 28.6512 meanLossQtgt_sigm: 0.3474 ExploreP: 0.8214\n",
      "Episode: 95 meanReward: 21.4062 meanLoss: 27.0077 meanLossQlbl: 2.9123 meanLossQlbl_sigm: 0.0000 meanLossQtgt: 23.7815 meanLossQtgt_sigm: 0.3139 ExploreP: 0.8204\n",
      "Episode: 96 meanReward: 21.2812 meanLoss: 33.7561 meanLossQlbl: 0.8218 meanLossQlbl_sigm: 0.0000 meanLossQtgt: 32.5314 meanLossQtgt_sigm: 0.4028 ExploreP: 0.8193\n",
      "Episode: 97 meanReward: 22.3438 meanLoss: 205.8398 meanLossQlbl: 97.5616 meanLossQlbl_sigm: 0.3284 meanLossQtgt: 107.3853 meanLossQtgt_sigm: 0.5644 ExploreP: 0.8148\n",
      "Episode: 98 meanReward: 21.9688 meanLoss: 261.2232 meanLossQlbl: 145.3258 meanLossQlbl_sigm: 0.6931 meanLossQtgt: 114.5111 meanLossQtgt_sigm: 0.6931 ExploreP: 0.8137\n",
      "Episode: 99 meanReward: 21.4062 meanLoss: 196.4710 meanLossQlbl: 111.4387 meanLossQlbl_sigm: 0.6931 meanLossQtgt: 83.6460 meanLossQtgt_sigm: 0.6931 ExploreP: 0.8126\n",
      "Episode: 100 meanReward: 21.7812 meanLoss: 120.1887 meanLossQlbl: 68.7890 meanLossQlbl_sigm: 0.6621 meanLossQtgt: 50.0686 meanLossQtgt_sigm: 0.6690 ExploreP: 0.8108\n",
      "Episode: 101 meanReward: 23.1562 meanLoss: 31.9540 meanLossQlbl: 8.0825 meanLossQlbl_sigm: 0.0772 meanLossQtgt: 23.6010 meanLossQtgt_sigm: 0.1934 ExploreP: 0.8060\n"
     ]
    },
    {
     "name": "stdout",
     "output_type": "stream",
     "text": [
      "Episode: 102 meanReward: 24.1875 meanLoss: 17.9597 meanLossQlbl: 0.8432 meanLossQlbl_sigm: 0.0000 meanLossQtgt: 16.9601 meanLossQtgt_sigm: 0.1564 ExploreP: 0.8025\n",
      "Episode: 103 meanReward: 23.2812 meanLoss: 19.8980 meanLossQlbl: 2.2411 meanLossQlbl_sigm: 0.0083 meanLossQtgt: 17.4860 meanLossQtgt_sigm: 0.1626 ExploreP: 0.8011\n",
      "Episode: 104 meanReward: 23.1250 meanLoss: 534.6590 meanLossQlbl: 268.5401 meanLossQlbl_sigm: 0.5973 meanLossQtgt: 264.8720 meanLossQtgt_sigm: 0.6496 ExploreP: 0.8000\n",
      "Episode: 105 meanReward: 23.2188 meanLoss: 562.6449 meanLossQlbl: 311.9095 meanLossQlbl_sigm: 0.6474 meanLossQtgt: 249.4172 meanLossQtgt_sigm: 0.6709 ExploreP: 0.7984\n",
      "Episode: 106 meanReward: 22.3125 meanLoss: 274.7181 meanLossQlbl: 143.6965 meanLossQlbl_sigm: 0.6550 meanLossQtgt: 129.6999 meanLossQtgt_sigm: 0.6668 ExploreP: 0.7957\n",
      "Episode: 107 meanReward: 22.3125 meanLoss: 30.3212 meanLossQlbl: 1.4376 meanLossQlbl_sigm: 0.0318 meanLossQtgt: 28.5920 meanLossQtgt_sigm: 0.2598 ExploreP: 0.7947\n",
      "Episode: 108 meanReward: 22.9375 meanLoss: 90.3756 meanLossQlbl: 34.5035 meanLossQlbl_sigm: 0.1445 meanLossQtgt: 55.3628 meanLossQtgt_sigm: 0.3648 ExploreP: 0.7900\n",
      "Episode: 109 meanReward: 22.8438 meanLoss: 216.6444 meanLossQlbl: 97.8071 meanLossQlbl_sigm: 0.3107 meanLossQtgt: 117.9962 meanLossQtgt_sigm: 0.5304 ExploreP: 0.7893\n",
      "Episode: 110 meanReward: 23.0625 meanLoss: 100.6711 meanLossQlbl: 43.9410 meanLossQlbl_sigm: 0.2133 meanLossQtgt: 56.0800 meanLossQtgt_sigm: 0.4369 ExploreP: 0.7874\n",
      "Episode: 111 meanReward: 23.2188 meanLoss: 107.2700 meanLossQlbl: 29.9702 meanLossQlbl_sigm: 0.1567 meanLossQtgt: 76.5869 meanLossQtgt_sigm: 0.5560 ExploreP: 0.7860\n",
      "Episode: 112 meanReward: 23.5312 meanLoss: 138.5607 meanLossQlbl: 54.6362 meanLossQlbl_sigm: 0.2411 meanLossQtgt: 83.2387 meanLossQtgt_sigm: 0.4447 ExploreP: 0.7831\n",
      "Episode: 113 meanReward: 23.2500 meanLoss: 65.6820 meanLossQlbl: 9.0242 meanLossQlbl_sigm: 0.0650 meanLossQtgt: 56.2477 meanLossQtgt_sigm: 0.3450 ExploreP: 0.7822\n",
      "Episode: 114 meanReward: 24.8125 meanLoss: 47.6323 meanLossQlbl: 7.8424 meanLossQlbl_sigm: 0.0390 meanLossQtgt: 39.5004 meanLossQtgt_sigm: 0.2505 ExploreP: 0.7773\n",
      "Episode: 115 meanReward: 24.8125 meanLoss: 35.2673 meanLossQlbl: 0.8235 meanLossQlbl_sigm: 0.0000 meanLossQtgt: 34.1647 meanLossQtgt_sigm: 0.2791 ExploreP: 0.7762\n",
      "Episode: 116 meanReward: 24.5625 meanLoss: 48.7954 meanLossQlbl: 1.3419 meanLossQlbl_sigm: 0.0000 meanLossQtgt: 46.9908 meanLossQtgt_sigm: 0.4628 ExploreP: 0.7753\n",
      "Episode: 117 meanReward: 25.0312 meanLoss: 41.3985 meanLossQlbl: 0.8758 meanLossQlbl_sigm: 0.0000 meanLossQtgt: 40.1109 meanLossQtgt_sigm: 0.4118 ExploreP: 0.7732\n",
      "Episode: 118 meanReward: 25.2188 meanLoss: 24.1177 meanLossQlbl: 0.8454 meanLossQlbl_sigm: 0.0000 meanLossQtgt: 23.0204 meanLossQtgt_sigm: 0.2519 ExploreP: 0.7712\n",
      "Episode: 119 meanReward: 27.2500 meanLoss: 16.0899 meanLossQlbl: 1.9174 meanLossQlbl_sigm: 0.0000 meanLossQtgt: 14.0654 meanLossQtgt_sigm: 0.1071 ExploreP: 0.7648\n",
      "Episode: 120 meanReward: 26.6875 meanLoss: 31.3640 meanLossQlbl: 5.0874 meanLossQlbl_sigm: 0.0000 meanLossQtgt: 26.0278 meanLossQtgt_sigm: 0.2488 ExploreP: 0.7640\n",
      "Episode: 121 meanReward: 27.3125 meanLoss: 32.6744 meanLossQlbl: 5.5967 meanLossQlbl_sigm: 0.0015 meanLossQtgt: 26.7810 meanLossQtgt_sigm: 0.2953 ExploreP: 0.7618\n",
      "Episode: 122 meanReward: 27.9375 meanLoss: 15.7855 meanLossQlbl: 2.6459 meanLossQlbl_sigm: 0.0360 meanLossQtgt: 12.9618 meanLossQtgt_sigm: 0.1417 ExploreP: 0.7595\n",
      "Episode: 123 meanReward: 29.8750 meanLoss: 17.3418 meanLossQlbl: 1.2583 meanLossQlbl_sigm: 0.0081 meanLossQtgt: 15.9730 meanLossQtgt_sigm: 0.1024 ExploreP: 0.7522\n",
      "Episode: 124 meanReward: 29.8438 meanLoss: 57.0304 meanLossQlbl: 13.6930 meanLossQlbl_sigm: 0.0092 meanLossQtgt: 43.1211 meanLossQtgt_sigm: 0.2071 ExploreP: 0.7497\n",
      "Episode: 125 meanReward: 30.5312 meanLoss: 31.5046 meanLossQlbl: 2.6141 meanLossQlbl_sigm: 0.0025 meanLossQtgt: 28.6730 meanLossQtgt_sigm: 0.2150 ExploreP: 0.7471\n",
      "Episode: 126 meanReward: 32.0938 meanLoss: 15.7131 meanLossQlbl: 1.9874 meanLossQlbl_sigm: 0.0000 meanLossQtgt: 13.6401 meanLossQtgt_sigm: 0.0856 ExploreP: 0.7422\n",
      "Episode: 127 meanReward: 32.0625 meanLoss: 110.0233 meanLossQlbl: 0.6702 meanLossQlbl_sigm: 0.0000 meanLossQtgt: 108.8289 meanLossQtgt_sigm: 0.5243 ExploreP: 0.7414\n",
      "Episode: 128 meanReward: 33.0625 meanLoss: 113.9130 meanLossQlbl: 0.7916 meanLossQlbl_sigm: 0.0000 meanLossQtgt: 112.5734 meanLossQtgt_sigm: 0.5480 ExploreP: 0.7381\n",
      "Episode: 129 meanReward: 32.1250 meanLoss: 62.9925 meanLossQlbl: 0.5357 meanLossQlbl_sigm: 0.0000 meanLossQtgt: 62.0703 meanLossQtgt_sigm: 0.3865 ExploreP: 0.7362\n",
      "Episode: 130 meanReward: 32.2812 meanLoss: 74.7494 meanLossQlbl: 0.2317 meanLossQlbl_sigm: 0.0000 meanLossQtgt: 74.0479 meanLossQtgt_sigm: 0.4697 ExploreP: 0.7348\n",
      "Episode: 131 meanReward: 36.5312 meanLoss: 13.6796 meanLossQlbl: 0.2979 meanLossQlbl_sigm: 0.0000 meanLossQtgt: 13.2902 meanLossQtgt_sigm: 0.0915 ExploreP: 0.7241\n",
      "Episode: 132 meanReward: 37.2812 meanLoss: 91.7135 meanLossQlbl: 43.5986 meanLossQlbl_sigm: 0.0889 meanLossQtgt: 47.8563 meanLossQtgt_sigm: 0.1697 ExploreP: 0.7207\n",
      "Episode: 133 meanReward: 36.4375 meanLoss: 45.2067 meanLossQlbl: 0.7213 meanLossQlbl_sigm: 0.0000 meanLossQtgt: 44.1852 meanLossQtgt_sigm: 0.3002 ExploreP: 0.7184\n",
      "Episode: 134 meanReward: 36.9688 meanLoss: 10.1973 meanLossQlbl: 1.8709 meanLossQlbl_sigm: 0.0006 meanLossQtgt: 8.2726 meanLossQtgt_sigm: 0.0532 ExploreP: 0.7141\n",
      "Episode: 135 meanReward: 37.5625 meanLoss: 36.5379 meanLossQlbl: 1.4130 meanLossQlbl_sigm: 0.0000 meanLossQtgt: 34.8659 meanLossQtgt_sigm: 0.2589 ExploreP: 0.7115\n",
      "Episode: 136 meanReward: 37.7500 meanLoss: 56.1069 meanLossQlbl: 1.4863 meanLossQlbl_sigm: 0.0022 meanLossQtgt: 54.2432 meanLossQtgt_sigm: 0.3752 ExploreP: 0.7101\n",
      "Episode: 137 meanReward: 37.9375 meanLoss: 70.5731 meanLossQlbl: 3.9092 meanLossQlbl_sigm: 0.0476 meanLossQtgt: 66.0780 meanLossQtgt_sigm: 0.5383 ExploreP: 0.7083\n",
      "Episode: 138 meanReward: 37.3750 meanLoss: 48.9577 meanLossQlbl: 0.9173 meanLossQlbl_sigm: 0.0081 meanLossQtgt: 47.6866 meanLossQtgt_sigm: 0.3457 ExploreP: 0.7072\n",
      "Episode: 139 meanReward: 37.5625 meanLoss: 91.4332 meanLossQlbl: 2.9202 meanLossQlbl_sigm: 0.0037 meanLossQtgt: 87.9830 meanLossQtgt_sigm: 0.5263 ExploreP: 0.7058\n",
      "Episode: 140 meanReward: 36.0938 meanLoss: 61.2015 meanLossQlbl: 12.4284 meanLossQlbl_sigm: 0.0014 meanLossQtgt: 48.4062 meanLossQtgt_sigm: 0.3655 ExploreP: 0.7049\n",
      "Episode: 141 meanReward: 36.6562 meanLoss: 35.9056 meanLossQlbl: 10.2908 meanLossQlbl_sigm: 0.0000 meanLossQtgt: 25.3423 meanLossQtgt_sigm: 0.2726 ExploreP: 0.7031\n",
      "Episode: 142 meanReward: 36.3125 meanLoss: 28.5360 meanLossQlbl: 3.5965 meanLossQlbl_sigm: 0.0000 meanLossQtgt: 24.6836 meanLossQtgt_sigm: 0.2559 ExploreP: 0.7021\n",
      "Episode: 143 meanReward: 36.4688 meanLoss: 26.2048 meanLossQlbl: 2.5147 meanLossQlbl_sigm: 0.0002 meanLossQtgt: 23.5171 meanLossQtgt_sigm: 0.1728 ExploreP: 0.7006\n",
      "Episode: 144 meanReward: 35.7812 meanLoss: 50.5250 meanLossQlbl: 1.2509 meanLossQlbl_sigm: 0.0007 meanLossQtgt: 48.9409 meanLossQtgt_sigm: 0.3324 ExploreP: 0.6995\n",
      "Episode: 145 meanReward: 36.6562 meanLoss: 51.8074 meanLossQlbl: 1.9003 meanLossQlbl_sigm: 0.0000 meanLossQtgt: 49.5748 meanLossQtgt_sigm: 0.3323 ExploreP: 0.6968\n",
      "Episode: 146 meanReward: 35.1875 meanLoss: 50.6096 meanLossQlbl: 3.0579 meanLossQlbl_sigm: 0.0000 meanLossQtgt: 47.2620 meanLossQtgt_sigm: 0.2897 ExploreP: 0.6956\n",
      "Episode: 147 meanReward: 36.3438 meanLoss: 34.7775 meanLossQlbl: 2.9639 meanLossQlbl_sigm: 0.0000 meanLossQtgt: 31.6656 meanLossQtgt_sigm: 0.1480 ExploreP: 0.6921\n",
      "Episode: 148 meanReward: 39.5938 meanLoss: 20.3192 meanLossQlbl: 2.0240 meanLossQlbl_sigm: 0.0000 meanLossQtgt: 18.2174 meanLossQtgt_sigm: 0.0777 ExploreP: 0.6842\n",
      "Episode: 149 meanReward: 39.5312 meanLoss: 76.1209 meanLossQlbl: 7.3414 meanLossQlbl_sigm: 0.0000 meanLossQtgt: 68.4002 meanLossQtgt_sigm: 0.3793 ExploreP: 0.6825\n",
      "Episode: 150 meanReward: 40.0312 meanLoss: 100.0825 meanLossQlbl: 12.0410 meanLossQlbl_sigm: 0.0000 meanLossQtgt: 87.8224 meanLossQtgt_sigm: 0.2191 ExploreP: 0.6797\n",
      "Episode: 151 meanReward: 38.8438 meanLoss: 43.1271 meanLossQlbl: 11.1106 meanLossQlbl_sigm: 0.0000 meanLossQtgt: 31.8415 meanLossQtgt_sigm: 0.1750 ExploreP: 0.6766\n",
      "Episode: 152 meanReward: 39.0000 meanLoss: 127.0405 meanLossQlbl: 2.0902 meanLossQlbl_sigm: 0.0000 meanLossQtgt: 124.4008 meanLossQtgt_sigm: 0.5495 ExploreP: 0.6755\n"
     ]
    },
    {
     "name": "stdout",
     "output_type": "stream",
     "text": [
      "Episode: 153 meanReward: 38.6562 meanLoss: 210.1166 meanLossQlbl: 5.2735 meanLossQlbl_sigm: 0.0000 meanLossQtgt: 203.9228 meanLossQtgt_sigm: 0.9203 ExploreP: 0.6743\n",
      "Episode: 154 meanReward: 38.8438 meanLoss: 64.8374 meanLossQlbl: 7.9590 meanLossQlbl_sigm: 0.0000 meanLossQtgt: 56.5380 meanLossQtgt_sigm: 0.3404 ExploreP: 0.6719\n",
      "Episode: 155 meanReward: 36.7500 meanLoss: 79.9700 meanLossQlbl: 3.1841 meanLossQlbl_sigm: 0.0000 meanLossQtgt: 76.3698 meanLossQtgt_sigm: 0.4162 ExploreP: 0.6698\n",
      "Episode: 156 meanReward: 36.5625 meanLoss: 31.5129 meanLossQlbl: 4.9022 meanLossQlbl_sigm: 0.0000 meanLossQtgt: 26.4069 meanLossQtgt_sigm: 0.2038 ExploreP: 0.6681\n",
      "Episode: 157 meanReward: 35.8438 meanLoss: 39.1934 meanLossQlbl: 6.8230 meanLossQlbl_sigm: 0.0000 meanLossQtgt: 32.1444 meanLossQtgt_sigm: 0.2260 ExploreP: 0.6672\n",
      "Episode: 158 meanReward: 34.5625 meanLoss: 80.4160 meanLossQlbl: 7.8032 meanLossQlbl_sigm: 0.0000 meanLossQtgt: 72.1481 meanLossQtgt_sigm: 0.4647 ExploreP: 0.6655\n",
      "Episode: 159 meanReward: 34.7500 meanLoss: 80.5256 meanLossQlbl: 2.0271 meanLossQlbl_sigm: 0.0000 meanLossQtgt: 78.0246 meanLossQtgt_sigm: 0.4739 ExploreP: 0.6644\n",
      "Episode: 160 meanReward: 34.0000 meanLoss: 86.5786 meanLossQlbl: 2.9520 meanLossQlbl_sigm: 0.0000 meanLossQtgt: 83.0809 meanLossQtgt_sigm: 0.5458 ExploreP: 0.6630\n",
      "Episode: 161 meanReward: 38.6250 meanLoss: 14.8891 meanLossQlbl: 1.3784 meanLossQlbl_sigm: 0.0000 meanLossQtgt: 13.4317 meanLossQtgt_sigm: 0.0790 ExploreP: 0.6518\n",
      "Episode: 162 meanReward: 38.6250 meanLoss: 64.4636 meanLossQlbl: 5.1189 meanLossQlbl_sigm: 0.0000 meanLossQtgt: 59.0013 meanLossQtgt_sigm: 0.3434 ExploreP: 0.6505\n",
      "Episode: 163 meanReward: 35.0625 meanLoss: 24.6318 meanLossQlbl: 5.8919 meanLossQlbl_sigm: 0.0000 meanLossQtgt: 18.6245 meanLossQtgt_sigm: 0.1152 ExploreP: 0.6483\n",
      "Episode: 164 meanReward: 34.5000 meanLoss: 19.6906 meanLossQlbl: 6.1514 meanLossQlbl_sigm: 0.0000 meanLossQtgt: 13.4522 meanLossQtgt_sigm: 0.0870 ExploreP: 0.6464\n",
      "Episode: 165 meanReward: 33.8438 meanLoss: 83.8983 meanLossQlbl: 0.4628 meanLossQlbl_sigm: 0.0000 meanLossQtgt: 83.0096 meanLossQtgt_sigm: 0.4258 ExploreP: 0.6457\n",
      "Episode: 166 meanReward: 32.8438 meanLoss: 109.8832 meanLossQlbl: 2.0120 meanLossQlbl_sigm: 0.0000 meanLossQtgt: 107.3074 meanLossQtgt_sigm: 0.5639 ExploreP: 0.6438\n",
      "Episode: 167 meanReward: 33.6875 meanLoss: 19.9227 meanLossQlbl: 3.2132 meanLossQlbl_sigm: 0.0000 meanLossQtgt: 16.6181 meanLossQtgt_sigm: 0.0914 ExploreP: 0.6398\n",
      "Episode: 168 meanReward: 36.9062 meanLoss: 20.7498 meanLossQlbl: 2.1716 meanLossQlbl_sigm: 0.0000 meanLossQtgt: 18.4911 meanLossQtgt_sigm: 0.0870 ExploreP: 0.6321\n",
      "Episode: 169 meanReward: 36.5938 meanLoss: 185.4498 meanLossQlbl: 2.0141 meanLossQlbl_sigm: 0.0000 meanLossQtgt: 182.7671 meanLossQtgt_sigm: 0.6687 ExploreP: 0.6311\n",
      "Episode: 170 meanReward: 37.6250 meanLoss: 93.3669 meanLossQlbl: 2.9657 meanLossQlbl_sigm: 0.0000 meanLossQtgt: 90.0217 meanLossQtgt_sigm: 0.3795 ExploreP: 0.6281\n",
      "Episode: 171 meanReward: 38.0938 meanLoss: 47.8065 meanLossQlbl: 3.0016 meanLossQlbl_sigm: 0.0000 meanLossQtgt: 44.5069 meanLossQtgt_sigm: 0.2980 ExploreP: 0.6260\n",
      "Episode: 172 meanReward: 38.2188 meanLoss: 42.2756 meanLossQlbl: 6.0706 meanLossQlbl_sigm: 0.0000 meanLossQtgt: 36.0429 meanLossQtgt_sigm: 0.1621 ExploreP: 0.6249\n",
      "Episode: 173 meanReward: 39.5938 meanLoss: 45.0070 meanLossQlbl: 8.5636 meanLossQlbl_sigm: 0.0065 meanLossQtgt: 36.4074 meanLossQtgt_sigm: 0.0296 ExploreP: 0.6206\n",
      "Episode: 174 meanReward: 39.6562 meanLoss: 71.6069 meanLossQlbl: 4.3366 meanLossQlbl_sigm: 0.0000 meanLossQtgt: 66.8837 meanLossQtgt_sigm: 0.3866 ExploreP: 0.6196\n",
      "Episode: 175 meanReward: 39.8125 meanLoss: 122.2603 meanLossQlbl: 8.5226 meanLossQlbl_sigm: 0.0000 meanLossQtgt: 113.1230 meanLossQtgt_sigm: 0.6146 ExploreP: 0.6180\n",
      "Episode: 176 meanReward: 43.9375 meanLoss: 11.6256 meanLossQlbl: 1.3028 meanLossQlbl_sigm: 0.0000 meanLossQtgt: 10.2691 meanLossQtgt_sigm: 0.0538 ExploreP: 0.6090\n",
      "Episode: 177 meanReward: 43.2500 meanLoss: 217.8052 meanLossQlbl: 0.3213 meanLossQlbl_sigm: 0.0000 meanLossQtgt: 216.7670 meanLossQtgt_sigm: 0.7169 ExploreP: 0.6080\n",
      "Episode: 178 meanReward: 43.6875 meanLoss: 152.6188 meanLossQlbl: 6.9141 meanLossQlbl_sigm: 0.0000 meanLossQtgt: 145.1260 meanLossQtgt_sigm: 0.5788 ExploreP: 0.6062\n",
      "Episode: 179 meanReward: 42.4688 meanLoss: 94.1865 meanLossQlbl: 13.4747 meanLossQlbl_sigm: 0.0000 meanLossQtgt: 80.3298 meanLossQtgt_sigm: 0.3820 ExploreP: 0.6054\n",
      "Episode: 180 meanReward: 39.9375 meanLoss: 64.5577 meanLossQlbl: 10.3537 meanLossQlbl_sigm: 0.0001 meanLossQtgt: 53.9772 meanLossQtgt_sigm: 0.2268 ExploreP: 0.6033\n",
      "Episode: 181 meanReward: 39.9688 meanLoss: 37.7199 meanLossQlbl: 12.5136 meanLossQlbl_sigm: 0.0000 meanLossQtgt: 25.1158 meanLossQtgt_sigm: 0.0905 ExploreP: 0.6018\n",
      "Episode: 182 meanReward: 39.7500 meanLoss: 34.0441 meanLossQlbl: 5.9369 meanLossQlbl_sigm: 0.0000 meanLossQtgt: 27.9557 meanLossQtgt_sigm: 0.1515 ExploreP: 0.5997\n",
      "Episode: 183 meanReward: 40.9062 meanLoss: 28.6892 meanLossQlbl: 1.5887 meanLossQlbl_sigm: 0.0000 meanLossQtgt: 26.9630 meanLossQtgt_sigm: 0.1375 ExploreP: 0.5948\n",
      "Episode: 184 meanReward: 41.3438 meanLoss: 87.5013 meanLossQlbl: 12.5930 meanLossQlbl_sigm: 0.0000 meanLossQtgt: 74.6920 meanLossQtgt_sigm: 0.2163 ExploreP: 0.5931\n",
      "Episode: 185 meanReward: 43.8750 meanLoss: 37.1875 meanLossQlbl: 4.4368 meanLossQlbl_sigm: 0.0000 meanLossQtgt: 32.6325 meanLossQtgt_sigm: 0.1183 ExploreP: 0.5873\n",
      "Episode: 186 meanReward: 46.0938 meanLoss: 27.7976 meanLossQlbl: 2.1016 meanLossQlbl_sigm: 0.0000 meanLossQtgt: 25.5786 meanLossQtgt_sigm: 0.1174 ExploreP: 0.5811\n",
      "Episode: 187 meanReward: 45.8125 meanLoss: 122.5772 meanLossQlbl: 56.1690 meanLossQlbl_sigm: 0.2961 meanLossQtgt: 65.7348 meanLossQtgt_sigm: 0.3773 ExploreP: 0.5799\n",
      "Episode: 188 meanReward: 46.1875 meanLoss: 85.3220 meanLossQlbl: 3.7158 meanLossQlbl_sigm: 0.0074 meanLossQtgt: 81.2961 meanLossQtgt_sigm: 0.3027 ExploreP: 0.5776\n",
      "Episode: 189 meanReward: 48.0312 meanLoss: 32.9544 meanLossQlbl: 4.4119 meanLossQlbl_sigm: 0.0039 meanLossQtgt: 28.5152 meanLossQtgt_sigm: 0.0235 ExploreP: 0.5736\n",
      "Episode: 190 meanReward: 47.5312 meanLoss: 105.1535 meanLossQlbl: 6.1447 meanLossQlbl_sigm: 0.0028 meanLossQtgt: 98.5903 meanLossQtgt_sigm: 0.4156 ExploreP: 0.5730\n",
      "Episode: 191 meanReward: 48.0625 meanLoss: 97.2834 meanLossQlbl: 10.5087 meanLossQlbl_sigm: 0.0400 meanLossQtgt: 86.4206 meanLossQtgt_sigm: 0.3141 ExploreP: 0.5711\n",
      "Episode: 192 meanReward: 52.1562 meanLoss: 22.3968 meanLossQlbl: 1.8697 meanLossQlbl_sigm: 0.0000 meanLossQtgt: 20.4440 meanLossQtgt_sigm: 0.0830 ExploreP: 0.5626\n",
      "Episode: 193 meanReward: 47.2188 meanLoss: 264.7977 meanLossQlbl: 0.3636 meanLossQlbl_sigm: 0.0000 meanLossQtgt: 263.6325 meanLossQtgt_sigm: 0.8016 ExploreP: 0.5618\n"
     ]
    }
   ],
   "source": [
    "# Now train with experiences\n",
    "saver = tf.train.Saver() # save the trained model\n",
    "rewards_list, loss_list = [], []\n",
    "\n",
    "# TF session for training\n",
    "with tf.Session(graph=graph) as sess:\n",
    "    sess.run(tf.global_variables_initializer())\n",
    "    #saver.restore(sess, 'checkpoints/model.ckpt')    \n",
    "    #saver.restore(sess, tf.train.latest_checkpoint('checkpoints'))\n",
    "    initial_state = sess.run(model.initial_state) # Qs or current batch or states[:-1]\n",
    "    total_step = 0 # Explore or exploit parameter\n",
    "    episode_loss = deque(maxlen=batch_size)\n",
    "    episode_reward = deque(maxlen=batch_size)\n",
    "    \n",
    "    # Training episodes/epochs\n",
    "    for ep in range(11111):\n",
    "        total_reward = 0\n",
    "        loss_batch = []\n",
    "        lossQlbl_batch, lossQlbl_sigm_batch, lossQtgt_batch, lossQtgt_sigm_batch = [], [], [], []\n",
    "        state = env.reset()\n",
    "\n",
    "        # Training steps/batches\n",
    "        while True:\n",
    "            action_logits, final_state = sess.run([model.actions_logits, model.final_state],\n",
    "                                                  feed_dict = {model.states: state.reshape([1, -1]), \n",
    "                                                               model.initial_state: initial_state})\n",
    "            \n",
    "            # Explore (Env) or Exploit (Model)\n",
    "            total_step += 1\n",
    "            explore_p = explore_stop + (explore_start - explore_stop) * np.exp(-decay_rate * total_step) \n",
    "            if explore_p > np.random.rand():\n",
    "                action = env.action_space.sample()\n",
    "            else:\n",
    "                action = np.argmax(action_logits)\n",
    "            next_state, reward, done, _ = env.step(action)\n",
    "            memory.buffer.append([state, action, next_state, reward, float(done)])\n",
    "            memory.states.append([initial_state, final_state])\n",
    "            total_reward += reward\n",
    "            initial_state = final_state\n",
    "            state = next_state\n",
    "\n",
    "            # Training\n",
    "            batch = memory.buffer\n",
    "            states = np.array([each[0] for each in batch])\n",
    "            actions = np.array([each[1] for each in batch])\n",
    "            next_states = np.array([each[2] for each in batch])\n",
    "            rewards = np.array([each[3] for each in batch])\n",
    "            dones = np.array([each[4] for each in batch])\n",
    "            rnn_states = memory.states\n",
    "            initial_states = np.array([each[0] for each in rnn_states])\n",
    "            final_states = np.array([each[1] for each in rnn_states])\n",
    "            actions_logits = sess.run(model.actions_logits, \n",
    "                                      feed_dict = {model.states: states, \n",
    "                                                   model.initial_state: initial_states[0].reshape([1, -1])})\n",
    "            labelQs = np.max(actions_logits, axis=1)\n",
    "            next_actions_logits = sess.run(model.actions_logits, \n",
    "                                           feed_dict = {model.states: next_states, \n",
    "                                                        model.initial_state: final_states[0].reshape([1, -1])})\n",
    "            nextQs = np.max(next_actions_logits, axis=1) * (1-dones)\n",
    "            targetQs = rewards + (0.99 * nextQs)\n",
    "            loss, _, lossQlbl, lossQlbl_sigm, lossQtgt, lossQtgt_sigm = sess.run([model.loss, model.opt, \n",
    "                                                                                  model.lossQlbl, \n",
    "                                                                                  model.lossQlbl_sigm, \n",
    "                                                                                  model.lossQtgt, \n",
    "                                                                                  model.lossQtgt_sigm], \n",
    "                                            feed_dict = {model.states: states, \n",
    "                                                         model.actions: actions,\n",
    "                                                         model.targetQs: targetQs,\n",
    "                                                         model.labelQs: labelQs,\n",
    "                                                         model.initial_state: initial_states[0].reshape([1, -1])})\n",
    "            loss_batch.append(loss)\n",
    "            lossQlbl_batch.append(lossQlbl)\n",
    "            lossQlbl_sigm_batch.append(lossQlbl_sigm)\n",
    "            lossQtgt_batch.append(lossQtgt)\n",
    "            lossQtgt_sigm_batch.append(lossQtgt_sigm)\n",
    "            if done is True:\n",
    "                break\n",
    "                \n",
    "        episode_reward.append(total_reward)\n",
    "        print('Episode: {}'.format(ep),\n",
    "              'meanReward: {:.4f}'.format(np.mean(episode_reward)),\n",
    "              'meanLoss: {:.4f}'.format(np.mean(loss_batch)),\n",
    "              'meanLossQlbl: {:.4f}'.format(np.mean(lossQlbl_batch)),\n",
    "              'meanLossQlbl_sigm: {:.4f}'.format(np.mean(lossQlbl_sigm_batch)),\n",
    "              'meanLossQtgt: {:.4f}'.format(np.mean(lossQtgt_batch)),\n",
    "              'meanLossQtgt_sigm: {:.4f}'.format(np.mean(lossQtgt_sigm_batch)),\n",
    "              'ExploreP: {:.4f}'.format(explore_p))\n",
    "        rewards_list.append([ep, np.mean(episode_reward)])\n",
    "        loss_list.append([ep, np.mean(loss_batch)])\n",
    "        if(np.mean(episode_reward) >= 500):\n",
    "            break\n",
    "    \n",
    "    saver.save(sess, 'checkpoints/model4.ckpt')"
   ]
  },
  {
   "cell_type": "markdown",
   "metadata": {},
   "source": [
    "# Visualizing training\n",
    "\n",
    "Below I'll plot the total rewards for each episode. I'm plotting the rolling average too, in blue."
   ]
  },
  {
   "cell_type": "code",
   "execution_count": 179,
   "metadata": {},
   "outputs": [],
   "source": [
    "%matplotlib inline\n",
    "import matplotlib.pyplot as plt\n",
    "\n",
    "def running_mean(x, N):\n",
    "    cumsum = np.cumsum(np.insert(x, 0, 0)) \n",
    "    return (cumsum[N:] - cumsum[:-N]) / N "
   ]
  },
  {
   "cell_type": "code",
   "execution_count": 182,
   "metadata": {},
   "outputs": [
    {
     "data": {
      "text/plain": [
       "Text(0,0.5,'Total rewards')"
      ]
     },
     "execution_count": 182,
     "metadata": {},
     "output_type": "execute_result"
    },
    {
     "data": {
      "image/png": "[encoded data removed]",
      "text/plain": [
       "<Figure size 432x288 with 1 Axes>"
      ]
     },
     "metadata": {},
     "output_type": "display_data"
    }
   ],
   "source": [
    "eps, arr = np.array(rewards_list).T\n",
    "smoothed_arr = running_mean(arr, 10)\n",
    "plt.plot(eps[-len(smoothed_arr):], smoothed_arr)\n",
    "plt.plot(eps, arr, color='grey', alpha=0.3)\n",
    "plt.xlabel('Episode')\n",
    "plt.ylabel('Total rewards')"
   ]
  },
  {
   "cell_type": "code",
   "execution_count": 183,
   "metadata": {},
   "outputs": [
    {
     "data": {
      "text/plain": [
       "Text(0,0.5,'Average losses')"
      ]
     },
     "execution_count": 183,
     "metadata": {},
     "output_type": "execute_result"
    },
    {
     "data": {
      "image/png": "[encoded data removed]",
      "text/plain": [
       "<Figure size 432x288 with 1 Axes>"
      ]
     },
     "metadata": {},
     "output_type": "display_data"
    }
   ],
   "source": [
    "eps, arr = np.array(loss_list).T\n",
    "smoothed_arr = running_mean(arr, 10)\n",
    "plt.plot(eps[-len(smoothed_arr):], smoothed_arr)\n",
    "plt.plot(eps, arr, color='grey', alpha=0.3)\n",
    "plt.xlabel('Episode')\n",
    "plt.ylabel('Average losses')"
   ]
  },
  {
   "cell_type": "markdown",
   "metadata": {},
   "source": [
    "## Testing\n",
    "\n",
    "Let's checkout how our trained agent plays the game."
   ]
  },
  {
   "cell_type": "code",
   "execution_count": 184,
   "metadata": {},
   "outputs": [
    {
     "name": "stdout",
     "output_type": "stream",
     "text": [
      "\u001b[33mWARN: gym.spaces.Box autodetected dtype as <class 'numpy.float32'>. Please provide explicit dtype.\u001b[0m\n",
      "\u001b[33mWARN: gym.spaces.Box autodetected dtype as <class 'numpy.float32'>. Please provide explicit dtype.\u001b[0m\n",
      "INFO:tensorflow:Restoring parameters from checkpoints/model.ckpt\n"
     ]
    },
    {
     "name": "stderr",
     "output_type": "stream",
     "text": [
      "/home/arasdar/anaconda3/envs/env/lib/python3.6/site-packages/gym/__init__.py:22: UserWarning: DEPRECATION WARNING: to improve load times, gym no longer automatically loads gym.spaces. Please run \"import gym.spaces\" to load gym.spaces on your own. This warning will turn into an error in a future version of gym.\n",
      "  warnings.warn('DEPRECATION WARNING: to improve load times, gym no longer automatically loads gym.spaces. Please run \"import gym.spaces\" to load gym.spaces on your own. This warning will turn into an error in a future version of gym.')\n"
     ]
    },
    {
     "name": "stdout",
     "output_type": "stream",
     "text": [
      "total_reward:120.0\n"
     ]
    }
   ],
   "source": [
    "import gym\n",
    "\n",
    "# Create the Cart-Pole game environment\n",
    "env = gym.make('CartPole-v0')\n",
    "env = gym.make('CartPole-v1')\n",
    "\n",
    "with tf.Session(graph=graph) as sess:\n",
    "    sess.run(tf.global_variables_initializer())\n",
    "    #saver.restore(sess, 'checkpoints/model-seq.ckpt')    \n",
    "    saver.restore(sess, tf.train.latest_checkpoint('checkpoints'))\n",
    "    initial_state = sess.run(model.initial_state) # Qs or current batch or states[:-1]\n",
    "    state = env.reset()\n",
    "    total_reward = 0\n",
    "    while True:\n",
    "        env.render()\n",
    "        action_logits, initial_state = sess.run([model.actions_logits, model.final_state],\n",
    "                                                feed_dict = {model.states: state.reshape([1, -1]), \n",
    "                                                             model.initial_state: initial_state})\n",
    "        action = np.argmax(action_logits)\n",
    "        state, reward, done, _ = env.step(action)\n",
    "        total_reward += reward\n",
    "        if done:\n",
    "            break\n",
    "print('total_reward:{}'.format(total_reward))\n",
    "env.close()"
   ]
  },
  {
   "cell_type": "markdown",
   "metadata": {},
   "source": [
    "## Extending this\n",
    "\n",
    "So, Cart-Pole is a pretty simple game. However, the same model can be used to train an agent to play something much more complicated like Pong or Space Invaders. Instead of a state like we're using here though, you'd want to use convolutional layers to get the state from the screen images.\n",
    "\n",
    "![Deep Q-Learning Atari](assets/atari-network.png)\n",
    "\n",
    "I'll leave it as a challenge for you to use deep Q-learning to train an agent to play Atari games. Here's the original paper which will get you started: http://www.davidqiu.com:8888/research/nature14236.pdf."
   ]
  },
  {
   "cell_type": "code",
   "execution_count": null,
   "metadata": {},
   "outputs": [],
   "source": []
  }
 ],
 "metadata": {
  "kernelspec": {
   "display_name": "Python 3",
   "language": "python",
   "name": "python3"
  },
  "language_info": {
   "codemirror_mode": {
    "name": "ipython",
    "version": 3
   },
   "file_extension": ".py",
   "mimetype": "text/x-python",
   "name": "python",
   "nbconvert_exporter": "python",
   "pygments_lexer": "ipython3",
   "version": "3.6.5"
  }
 },
 "nbformat": 4,
 "nbformat_minor": 2
}
