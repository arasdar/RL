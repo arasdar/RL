{
 "cells": [
  {
   "cell_type": "code",
   "execution_count": 23,
   "metadata": {},
   "outputs": [
    {
     "name": "stdout",
     "output_type": "stream",
     "text": [
      "TensorFlow Version: 1.7.1\n",
      "Default GPU Device: \n"
     ]
    }
   ],
   "source": [
    "import tensorflow as tf\n",
    "print('TensorFlow Version: {}'.format(tf.__version__))\n",
    "print('Default GPU Device: {}'.format(tf.test.gpu_device_name()))"
   ]
  },
  {
   "cell_type": "markdown",
   "metadata": {},
   "source": [
    "##### >**Note:** Make sure you have OpenAI Gym cloned. Then run this command `pip install -e gym/[all]`."
   ]
  },
  {
   "cell_type": "code",
   "execution_count": 24,
   "metadata": {},
   "outputs": [],
   "source": [
    "import numpy as np\n",
    "import gym\n",
    "env = gym.make('CartPole-v0')\n",
    "env = gym.make('CartPole-v1')"
   ]
  },
  {
   "cell_type": "code",
   "execution_count": 25,
   "metadata": {},
   "outputs": [],
   "source": [
    "def model_input(state_size):\n",
    "    #states = tf.placeholder(tf.float32, [None, *state_size], name='states')\n",
    "    states = tf.placeholder(tf.float32, [None, state_size], name='states')\n",
    "    actions = tf.placeholder(tf.int32, [None], name='actions')\n",
    "    next_states = tf.placeholder(tf.float32, [None, state_size], name='next_states')\n",
    "    rewards = tf.placeholder(tf.float32, [None], name='rewards')\n",
    "    dones = tf.placeholder(tf.float32, [None], name='dones')\n",
    "    rates = tf.placeholder(tf.float32, [None], name='rates') # success rate\n",
    "    return states, actions, next_states, rewards, dones, rates"
   ]
  },
  {
   "cell_type": "code",
   "execution_count": 26,
   "metadata": {},
   "outputs": [],
   "source": [
    "def actor(states, action_size, hidden_size, reuse=False, alpha=0.1, training=False):\n",
    "    with tf.variable_scope('actor', reuse=reuse):\n",
    "        # First fully connected layer\n",
    "        h1 = tf.layers.dense(inputs=states, units=hidden_size)\n",
    "        bn1 = tf.layers.batch_normalization(h1, training=training)        \n",
    "        nl1 = tf.maximum(alpha * bn1, bn1)\n",
    "        \n",
    "        # Second fully connected layer\n",
    "        h2 = tf.layers.dense(inputs=nl1, units=hidden_size)\n",
    "        bn2 = tf.layers.batch_normalization(h2, training=training)        \n",
    "        nl2 = tf.maximum(alpha * bn2, bn2)\n",
    "        \n",
    "        # Output layer\n",
    "        logits = tf.layers.dense(inputs=nl2, units=action_size)        \n",
    "        return logits"
   ]
  },
  {
   "cell_type": "code",
   "execution_count": 27,
   "metadata": {},
   "outputs": [],
   "source": [
    "def generator(actions, state_size, hidden_size, reuse=False, alpha=0.1, training=False):\n",
    "    with tf.variable_scope('generator', reuse=reuse):\n",
    "        # First fully connected layer\n",
    "        h1 = tf.layers.dense(inputs=actions, units=hidden_size)\n",
    "        bn1 = tf.layers.batch_normalization(h1, training=training)        \n",
    "        nl1 = tf.maximum(alpha * bn1, bn1)\n",
    "        \n",
    "        # Second fully connected layer\n",
    "        h2 = tf.layers.dense(inputs=nl1, units=hidden_size)\n",
    "        bn2 = tf.layers.batch_normalization(h2, training=training)        \n",
    "        nl2 = tf.maximum(alpha * bn2, bn2)\n",
    "        \n",
    "        # Output layer\n",
    "        logits = tf.layers.dense(inputs=nl2, units=state_size)        \n",
    "        return logits"
   ]
  },
  {
   "cell_type": "code",
   "execution_count": 28,
   "metadata": {},
   "outputs": [],
   "source": [
    "def discriminator(states, actions, action_size, hidden_size, reuse=False, alpha=0.1, training=False):\n",
    "    with tf.variable_scope('discriminator', reuse=reuse):\n",
    "        # First fully connected layer\n",
    "        h1 = tf.layers.dense(inputs=states, units=action_size)\n",
    "        bn1 = tf.layers.batch_normalization(h1, training=training)        \n",
    "        nl1 = tf.maximum(alpha * bn1, bn1)\n",
    "        \n",
    "        # Second fully connected layer\n",
    "        nl1_fused = tf.concat(axis=1, values=[nl1, actions])\n",
    "        h2 = tf.layers.dense(inputs=nl1_fused, units=hidden_size)\n",
    "        bn2 = tf.layers.batch_normalization(h2, training=training)        \n",
    "        nl2 = tf.maximum(alpha * bn2, bn2)\n",
    "                \n",
    "        # Output layer\n",
    "        logits = tf.layers.dense(inputs=nl2, units=1)        \n",
    "        return logits"
   ]
  },
  {
   "cell_type": "code",
   "execution_count": 29,
   "metadata": {},
   "outputs": [],
   "source": [
    "def model_loss(state_size, action_size, hidden_size, \n",
    "               states, actions, next_states, rewards, dones, rates):\n",
    "    actions_logits = actor(states=states, hidden_size=hidden_size, action_size=action_size)\n",
    "    actions_labels = tf.one_hot(indices=actions, depth=action_size, dtype=actions_logits.dtype)\n",
    "    aloss = tf.reduce_mean(tf.nn.softmax_cross_entropy_with_logits_v2(logits=actions_logits, \n",
    "                                                                      labels=actions_labels))\n",
    "    ###############################################\n",
    "    next_states_logits = generator(actions=actions_logits, hidden_size=hidden_size, state_size=state_size)\n",
    "    next_states_labels = tf.nn.sigmoid(next_states)\n",
    "    aloss += tf.reduce_mean(tf.nn.sigmoid_cross_entropy_with_logits(logits=next_states_logits, \n",
    "                                                                    labels=next_states_labels))\n",
    "    ####################################################\n",
    "    Qs = discriminator(actions=actions_labels, hidden_size=hidden_size, states=states, action_size=action_size)\n",
    "    rates = tf.reshape(rates, shape=[-1, 1])\n",
    "    dloss = tf.reduce_mean(tf.nn.sigmoid_cross_entropy_with_logits(logits=Qs, # GAN\n",
    "                                                                   labels=rates)) # 0-1\n",
    "    ############################################################################\n",
    "    next_actions_logits = actor(states=next_states, hidden_size=hidden_size, action_size=action_size, reuse=True)\n",
    "    nextQs_logits = discriminator(actions=next_actions_logits, hidden_size=hidden_size, states=next_states, \n",
    "                                  action_size=action_size, reuse=True)\n",
    "    nextQs = tf.reshape(nextQs_logits, shape=[-1]) * dones\n",
    "    targetQs = rewards + (0.99 * nextQs)\n",
    "    aloss2 = tf.reduce_mean(tf.square(Qs - targetQs)) # DQN\n",
    "    return actions_logits, aloss, dloss, aloss2"
   ]
  },
  {
   "cell_type": "code",
   "execution_count": 30,
   "metadata": {},
   "outputs": [],
   "source": [
    "def model_opt(a_loss, a_loss2, d_loss, a_learning_rate, d_learning_rate):\n",
    "    # Get weights and bias to update\n",
    "    t_vars = tf.trainable_variables()\n",
    "    a_vars = [var for var in t_vars if var.name.startswith('actor')]\n",
    "    g_vars = [var for var in t_vars if var.name.startswith('generator')]\n",
    "    d_vars = [var for var in t_vars if var.name.startswith('discriminator')]\n",
    "\n",
    "    # Optimize\n",
    "    with tf.control_dependencies(tf.get_collection(tf.GraphKeys.UPDATE_OPS)): # Required for batchnorm (BN)\n",
    "        a_opt = tf.train.AdamOptimizer(a_learning_rate).minimize(a_loss, var_list=a_vars)\n",
    "        d_opt = tf.train.AdamOptimizer(d_learning_rate).minimize(d_loss, var_list=d_vars)\n",
    "        a_opt2 = tf.train.AdamOptimizer(a_learning_rate).minimize(a_loss2, var_list=a_vars)\n",
    "    return a_opt, d_opt, a_opt2"
   ]
  },
  {
   "cell_type": "code",
   "execution_count": 31,
   "metadata": {},
   "outputs": [],
   "source": [
    "class Model:\n",
    "    def __init__(self, state_size, action_size, hidden_size, a_learning_rate, d_learning_rate):\n",
    "\n",
    "        # Data of the Model: make the data available inside the framework\n",
    "        self.states, self.actions, self.next_states, self.rewards, self.dones, self.rates = model_input(\n",
    "            state_size=state_size)\n",
    "\n",
    "        # Create the Model: calculating the loss and forwad pass\n",
    "        self.actions_logits, self.a_loss, self.d_loss, self.a_loss2 = model_loss(\n",
    "            state_size=state_size, action_size=action_size, hidden_size=hidden_size, # model init\n",
    "            states=self.states, actions=self.actions, next_states=self.next_states, #model input \n",
    "            rewards=self.rewards, dones=self.dones, rates=self.rates) # model input\n",
    "        \n",
    "        # Update the model: backward pass and backprop\n",
    "        self.a_opt, self.d_opt, self.a_opt2 = model_opt(a_loss=self.a_loss, \n",
    "                                                        a_loss2=self.a_loss2, \n",
    "                                                        d_loss=self.d_loss,\n",
    "                                                        a_learning_rate=a_learning_rate,\n",
    "                                                        d_learning_rate=d_learning_rate)"
   ]
  },
  {
   "cell_type": "code",
   "execution_count": 32,
   "metadata": {},
   "outputs": [],
   "source": [
    "from collections import deque\n",
    "class Memory():\n",
    "    def __init__(self, max_size = 1000):\n",
    "        self.buffer = deque(maxlen=max_size) # data batch\n",
    "        self.rates = deque(maxlen=max_size) # rates\n",
    "#     def sample(self, batch_size):\n",
    "#         idx = np.random.choice(np.arange(len(self.buffer)), # ==  self.rates\n",
    "#                                size=batch_size, \n",
    "#                                replace=False)\n",
    "#         return [self.buffer[ii] for ii in idx], [self.rates[ii] for ii in idx]"
   ]
  },
  {
   "cell_type": "markdown",
   "metadata": {},
   "source": [
    "## Hyperparameters\n",
    "\n",
    "One of the more difficult aspects of reinforcememt learning are the large number of hyperparameters. Not only are we tuning the network, but we're tuning the simulation."
   ]
  },
  {
   "cell_type": "code",
   "execution_count": 33,
   "metadata": {},
   "outputs": [
    {
     "data": {
      "text/plain": [
       "(Box(4,), Discrete(2))"
      ]
     },
     "execution_count": 33,
     "metadata": {},
     "output_type": "execute_result"
    }
   ],
   "source": [
    "env.observation_space, env.action_space"
   ]
  },
  {
   "cell_type": "code",
   "execution_count": 34,
   "metadata": {},
   "outputs": [],
   "source": [
    "# Exploration parameters\n",
    "explore_start = 1.0            # exploration probability at start\n",
    "explore_stop = 0.01           # minimum exploration probability \n",
    "decay_rate = 0.0001            # exponential decay rate for exploration prob\n",
    "\n",
    "# Network parameters\n",
    "state_size = 4\n",
    "action_size = 2\n",
    "hidden_size = 4*2             # number of units in each Q-network hidden layer\n",
    "a_learning_rate = 1e-4         # Q-network learning rate\n",
    "d_learning_rate = 1e-4         # Q-network learning rate\n",
    "\n",
    "# Memory parameters\n",
    "memory_size = int(1e5)            # memory capacity\n",
    "batch_size = int(1e3)             # experience mini-batch size: 200/500 a successfull episode size\n",
    "gamma = 0.99                   # future reward discount"
   ]
  },
  {
   "cell_type": "code",
   "execution_count": 35,
   "metadata": {},
   "outputs": [],
   "source": [
    "# Reset/init the graph/session\n",
    "graph = tf.reset_default_graph()\n",
    "\n",
    "# Init the model\n",
    "model = Model(action_size=action_size, state_size=state_size, hidden_size=hidden_size,\n",
    "              a_learning_rate=a_learning_rate, d_learning_rate=d_learning_rate)\n",
    "\n",
    "# Init the memory\n",
    "memory = Memory(max_size=memory_size)"
   ]
  },
  {
   "cell_type": "code",
   "execution_count": 36,
   "metadata": {},
   "outputs": [],
   "source": [
    "state = env.reset()\n",
    "total_reward = 0\n",
    "num_step = 0\n",
    "for _ in range(memory_size):\n",
    "    action = env.action_space.sample()\n",
    "    next_state, reward, done, _ = env.step(action)\n",
    "    memory.buffer.append([state, action, next_state, reward, float(done)])\n",
    "    memory.rates.append(-1) # empty\n",
    "    num_step += 1 # memory incremented\n",
    "    total_reward += reward\n",
    "    state = next_state\n",
    "    if done is True:\n",
    "        state = env.reset()\n",
    "        rate = total_reward/500\n",
    "        total_reward = 0 # reset\n",
    "        for idx in range(num_step): # episode length\n",
    "            if memory.rates[-1-idx] == -1:\n",
    "                memory.rates[-1-idx] = rate\n",
    "        num_step = 0 # reset"
   ]
  },
  {
   "cell_type": "markdown",
   "metadata": {},
   "source": [
    "## Training the model\n",
    "\n",
    "Below we'll train our agent. If you want to watch it train, uncomment the `env.render()` line. This is slow because it's rendering the frames slower than the network can train. But, it's cool to watch the agent get better at the game."
   ]
  },
  {
   "cell_type": "code",
   "execution_count": null,
   "metadata": {},
   "outputs": [
    {
     "name": "stdout",
     "output_type": "stream",
     "text": [
      "Episode:0 meanR:21.0000 R:21.0000 rate:0.0420 aloss:1.4341 dloss:0.7315 aloss2:0.8299 exploreP:0.9979\n",
      "Episode:1 meanR:20.0000 R:19.0000 rate:0.0380 aloss:1.4359 dloss:0.7266 aloss2:0.8491 exploreP:0.9960\n",
      "Episode:2 meanR:21.0000 R:23.0000 rate:0.0460 aloss:1.4278 dloss:0.7217 aloss2:0.8735 exploreP:0.9938\n",
      "Episode:3 meanR:22.0000 R:25.0000 rate:0.0500 aloss:1.4160 dloss:0.7175 aloss2:0.8915 exploreP:0.9913\n",
      "Episode:4 meanR:25.2000 R:38.0000 rate:0.0760 aloss:1.4139 dloss:0.7120 aloss2:0.9201 exploreP:0.9876\n",
      "Episode:5 meanR:28.8333 R:47.0000 rate:0.0940 aloss:1.4062 dloss:0.7062 aloss2:0.9521 exploreP:0.9830\n",
      "Episode:6 meanR:27.1429 R:17.0000 rate:0.0340 aloss:1.4027 dloss:0.6989 aloss2:0.9793 exploreP:0.9814\n",
      "Episode:7 meanR:27.8750 R:33.0000 rate:0.0660 aloss:1.4001 dloss:0.6937 aloss2:1.0061 exploreP:0.9782\n",
      "Episode:8 meanR:26.1111 R:12.0000 rate:0.0240 aloss:1.3959 dloss:0.6902 aloss2:1.0257 exploreP:0.9770\n",
      "Episode:9 meanR:24.9000 R:14.0000 rate:0.0280 aloss:1.3972 dloss:0.6895 aloss2:1.0318 exploreP:0.9757\n",
      "Episode:10 meanR:27.1818 R:50.0000 rate:0.1000 aloss:1.3934 dloss:0.6818 aloss2:1.0724 exploreP:0.9708\n",
      "Episode:11 meanR:27.0833 R:26.0000 rate:0.0520 aloss:1.3927 dloss:0.6778 aloss2:1.0936 exploreP:0.9683\n",
      "Episode:12 meanR:26.2308 R:16.0000 rate:0.0320 aloss:1.3909 dloss:0.6727 aloss2:1.1198 exploreP:0.9668\n",
      "Episode:13 meanR:25.2143 R:12.0000 rate:0.0240 aloss:1.3913 dloss:0.6725 aloss2:1.1245 exploreP:0.9657\n",
      "Episode:14 meanR:24.8000 R:19.0000 rate:0.0380 aloss:1.3908 dloss:0.6699 aloss2:1.1353 exploreP:0.9638\n",
      "Episode:15 meanR:24.7500 R:24.0000 rate:0.0480 aloss:1.3893 dloss:0.6672 aloss2:1.1551 exploreP:0.9616\n",
      "Episode:16 meanR:24.0000 R:12.0000 rate:0.0240 aloss:1.3906 dloss:0.6658 aloss2:1.1618 exploreP:0.9604\n",
      "Episode:17 meanR:23.6667 R:18.0000 rate:0.0360 aloss:1.3883 dloss:0.6637 aloss2:1.1768 exploreP:0.9587\n",
      "Episode:18 meanR:23.2632 R:16.0000 rate:0.0320 aloss:1.3872 dloss:0.6621 aloss2:1.1851 exploreP:0.9572\n",
      "Episode:19 meanR:22.7500 R:13.0000 rate:0.0260 aloss:1.3875 dloss:0.6596 aloss2:1.1980 exploreP:0.9560\n",
      "Episode:20 meanR:22.9524 R:27.0000 rate:0.0540 aloss:1.3862 dloss:0.6542 aloss2:1.2253 exploreP:0.9534\n",
      "Episode:21 meanR:22.5455 R:14.0000 rate:0.0280 aloss:1.3844 dloss:0.6531 aloss2:1.2348 exploreP:0.9521\n",
      "Episode:22 meanR:22.0000 R:10.0000 rate:0.0200 aloss:1.4034 dloss:0.6516 aloss2:1.2584 exploreP:0.9512\n",
      "Episode:23 meanR:22.5000 R:34.0000 rate:0.0680 aloss:1.3830 dloss:0.6489 aloss2:1.2677 exploreP:0.9480\n",
      "Episode:24 meanR:22.0000 R:10.0000 rate:0.0200 aloss:1.3865 dloss:0.6464 aloss2:1.2788 exploreP:0.9470\n",
      "Episode:25 meanR:21.6923 R:14.0000 rate:0.0280 aloss:1.3842 dloss:0.6458 aloss2:1.2841 exploreP:0.9457\n",
      "Episode:26 meanR:21.8889 R:27.0000 rate:0.0540 aloss:1.3838 dloss:0.6432 aloss2:1.2984 exploreP:0.9432\n",
      "Episode:27 meanR:21.7857 R:19.0000 rate:0.0380 aloss:1.3802 dloss:0.6411 aloss2:1.3242 exploreP:0.9414\n",
      "Episode:28 meanR:21.8621 R:24.0000 rate:0.0480 aloss:1.3794 dloss:0.6396 aloss2:1.3397 exploreP:0.9392\n",
      "Episode:29 meanR:22.2000 R:32.0000 rate:0.0640 aloss:1.3822 dloss:0.6350 aloss2:1.3674 exploreP:0.9362\n",
      "Episode:30 meanR:22.0645 R:18.0000 rate:0.0360 aloss:1.3815 dloss:0.6308 aloss2:1.3846 exploreP:0.9345\n",
      "Episode:31 meanR:22.4375 R:34.0000 rate:0.0680 aloss:1.3798 dloss:0.6275 aloss2:1.4080 exploreP:0.9314\n",
      "Episode:32 meanR:22.8788 R:37.0000 rate:0.0740 aloss:1.3822 dloss:0.6251 aloss2:1.4269 exploreP:0.9280\n",
      "Episode:33 meanR:22.8529 R:22.0000 rate:0.0440 aloss:1.3794 dloss:0.6215 aloss2:1.4480 exploreP:0.9260\n",
      "Episode:34 meanR:22.8571 R:23.0000 rate:0.0460 aloss:1.3817 dloss:0.6217 aloss2:1.4602 exploreP:0.9239\n",
      "Episode:35 meanR:25.0556 R:102.0000 rate:0.2040 aloss:1.3799 dloss:0.6151 aloss2:1.5164 exploreP:0.9146\n",
      "Episode:36 meanR:25.0000 R:23.0000 rate:0.0460 aloss:1.3827 dloss:0.6060 aloss2:1.5741 exploreP:0.9125\n",
      "Episode:37 meanR:25.0526 R:27.0000 rate:0.0540 aloss:1.3782 dloss:0.6041 aloss2:1.6011 exploreP:0.9101\n",
      "Episode:38 meanR:25.1282 R:28.0000 rate:0.0560 aloss:1.3776 dloss:0.6012 aloss2:1.6170 exploreP:0.9076\n",
      "Episode:39 meanR:25.6250 R:45.0000 rate:0.0900 aloss:1.3757 dloss:0.6004 aloss2:1.6446 exploreP:0.9036\n",
      "Episode:40 meanR:26.6585 R:68.0000 rate:0.1360 aloss:1.3762 dloss:0.5930 aloss2:1.7057 exploreP:0.8975\n",
      "Episode:41 meanR:26.9286 R:38.0000 rate:0.0760 aloss:1.3756 dloss:0.5902 aloss2:1.7307 exploreP:0.8941\n",
      "Episode:42 meanR:26.7674 R:20.0000 rate:0.0400 aloss:1.3787 dloss:0.5884 aloss2:1.7657 exploreP:0.8924\n",
      "Episode:43 meanR:26.9545 R:35.0000 rate:0.0700 aloss:1.3743 dloss:0.5831 aloss2:1.7987 exploreP:0.8893\n",
      "Episode:44 meanR:26.8667 R:23.0000 rate:0.0460 aloss:1.3721 dloss:0.5836 aloss2:1.8208 exploreP:0.8873\n",
      "Episode:45 meanR:26.6522 R:17.0000 rate:0.0340 aloss:1.3697 dloss:0.5732 aloss2:1.8639 exploreP:0.8858\n",
      "Episode:46 meanR:26.4894 R:19.0000 rate:0.0380 aloss:1.3747 dloss:0.5777 aloss2:1.8527 exploreP:0.8841\n",
      "Episode:47 meanR:26.3958 R:22.0000 rate:0.0440 aloss:1.3700 dloss:0.5686 aloss2:1.9019 exploreP:0.8822\n",
      "Episode:48 meanR:26.8776 R:50.0000 rate:0.1000 aloss:1.3767 dloss:0.5679 aloss2:1.9408 exploreP:0.8778\n",
      "Episode:49 meanR:26.7800 R:22.0000 rate:0.0440 aloss:1.3826 dloss:0.5648 aloss2:1.9881 exploreP:0.8759\n",
      "Episode:50 meanR:27.1569 R:46.0000 rate:0.0920 aloss:1.3877 dloss:0.5584 aloss2:2.0278 exploreP:0.8720\n",
      "Episode:51 meanR:27.1538 R:27.0000 rate:0.0540 aloss:1.3719 dloss:0.5526 aloss2:2.0869 exploreP:0.8696\n",
      "Episode:52 meanR:27.0377 R:21.0000 rate:0.0420 aloss:1.3760 dloss:0.5541 aloss2:2.1183 exploreP:0.8678\n",
      "Episode:53 meanR:27.2407 R:38.0000 rate:0.0760 aloss:1.3746 dloss:0.5427 aloss2:2.1747 exploreP:0.8646\n",
      "Episode:54 meanR:26.9273 R:10.0000 rate:0.0200 aloss:1.3725 dloss:0.5457 aloss2:2.2162 exploreP:0.8637\n",
      "Episode:55 meanR:26.6964 R:14.0000 rate:0.0280 aloss:1.3764 dloss:0.5432 aloss2:2.2041 exploreP:0.8625\n",
      "Episode:56 meanR:26.5614 R:19.0000 rate:0.0380 aloss:1.3765 dloss:0.5382 aloss2:2.2646 exploreP:0.8609\n",
      "Episode:57 meanR:26.4138 R:18.0000 rate:0.0360 aloss:1.3755 dloss:0.5481 aloss2:2.2757 exploreP:0.8594\n",
      "Episode:58 meanR:26.8136 R:50.0000 rate:0.1000 aloss:1.3759 dloss:0.5322 aloss2:2.3472 exploreP:0.8551\n",
      "Episode:59 meanR:26.8833 R:31.0000 rate:0.0620 aloss:1.3725 dloss:0.5263 aloss2:2.4308 exploreP:0.8525\n",
      "Episode:60 meanR:26.8689 R:26.0000 rate:0.0520 aloss:1.3716 dloss:0.5283 aloss2:2.4645 exploreP:0.8503\n",
      "Episode:61 meanR:26.6452 R:13.0000 rate:0.0260 aloss:1.3795 dloss:0.5276 aloss2:2.4668 exploreP:0.8492\n",
      "Episode:62 meanR:26.6190 R:25.0000 rate:0.0500 aloss:1.3797 dloss:0.5192 aloss2:2.5318 exploreP:0.8472\n",
      "Episode:63 meanR:26.4062 R:13.0000 rate:0.0260 aloss:1.3817 dloss:0.5191 aloss2:2.5620 exploreP:0.8461\n",
      "Episode:64 meanR:26.2308 R:15.0000 rate:0.0300 aloss:1.3765 dloss:0.5203 aloss2:2.5844 exploreP:0.8448\n",
      "Episode:65 meanR:26.3182 R:32.0000 rate:0.0640 aloss:1.3729 dloss:0.5180 aloss2:2.6358 exploreP:0.8421\n",
      "Episode:66 meanR:26.1493 R:15.0000 rate:0.0300 aloss:1.3767 dloss:0.5005 aloss2:2.7277 exploreP:0.8409\n",
      "Episode:67 meanR:26.1912 R:29.0000 rate:0.0580 aloss:1.3799 dloss:0.4966 aloss2:2.7345 exploreP:0.8385\n",
      "Episode:68 meanR:26.0145 R:14.0000 rate:0.0280 aloss:1.3775 dloss:0.5054 aloss2:2.7642 exploreP:0.8373\n",
      "Episode:69 meanR:25.8286 R:13.0000 rate:0.0260 aloss:1.3750 dloss:0.5108 aloss2:2.7486 exploreP:0.8363\n",
      "Episode:70 meanR:25.9155 R:32.0000 rate:0.0640 aloss:1.3717 dloss:0.4968 aloss2:2.8176 exploreP:0.8336\n",
      "Episode:71 meanR:26.1944 R:46.0000 rate:0.0920 aloss:1.3748 dloss:0.4917 aloss2:2.9098 exploreP:0.8298\n",
      "Episode:72 meanR:26.0822 R:18.0000 rate:0.0360 aloss:1.3746 dloss:0.4855 aloss2:3.0032 exploreP:0.8284\n",
      "Episode:73 meanR:26.4595 R:54.0000 rate:0.1080 aloss:1.3824 dloss:0.4853 aloss2:2.9966 exploreP:0.8240\n",
      "Episode:74 meanR:26.8667 R:57.0000 rate:0.1140 aloss:1.3715 dloss:0.4806 aloss2:3.1577 exploreP:0.8193\n",
      "Episode:75 meanR:27.1842 R:51.0000 rate:0.1020 aloss:1.3717 dloss:0.4707 aloss2:3.3247 exploreP:0.8152\n",
      "Episode:76 meanR:28.7143 R:145.0000 rate:0.2900 aloss:1.3724 dloss:0.4633 aloss2:3.5404 exploreP:0.8036\n",
      "Episode:77 meanR:28.7051 R:28.0000 rate:0.0560 aloss:1.3771 dloss:0.4599 aloss2:3.7734 exploreP:0.8014\n",
      "Episode:78 meanR:28.5823 R:19.0000 rate:0.0380 aloss:1.3889 dloss:0.4499 aloss2:3.7832 exploreP:0.7999\n",
      "Episode:79 meanR:28.6250 R:32.0000 rate:0.0640 aloss:1.3755 dloss:0.4555 aloss2:3.9228 exploreP:0.7974\n"
     ]
    },
    {
     "name": "stdout",
     "output_type": "stream",
     "text": [
      "Episode:80 meanR:29.0123 R:60.0000 rate:0.1200 aloss:1.3814 dloss:0.4451 aloss2:3.9407 exploreP:0.7927\n",
      "Episode:81 meanR:28.9756 R:26.0000 rate:0.0520 aloss:1.3742 dloss:0.4492 aloss2:4.1022 exploreP:0.7906\n",
      "Episode:82 meanR:29.1325 R:42.0000 rate:0.0840 aloss:1.3773 dloss:0.4428 aloss2:4.2843 exploreP:0.7874\n",
      "Episode:83 meanR:29.1071 R:27.0000 rate:0.0540 aloss:1.3797 dloss:0.4352 aloss2:4.2389 exploreP:0.7853\n",
      "Episode:84 meanR:28.9647 R:17.0000 rate:0.0340 aloss:1.3656 dloss:0.4367 aloss2:4.3649 exploreP:0.7839\n",
      "Episode:85 meanR:28.8837 R:22.0000 rate:0.0440 aloss:1.3753 dloss:0.4248 aloss2:4.4204 exploreP:0.7822\n",
      "Episode:86 meanR:28.9425 R:34.0000 rate:0.0680 aloss:1.3700 dloss:0.4326 aloss2:4.4939 exploreP:0.7796\n",
      "Episode:87 meanR:29.0227 R:36.0000 rate:0.0720 aloss:1.3802 dloss:0.4150 aloss2:4.6442 exploreP:0.7769\n",
      "Episode:88 meanR:28.8876 R:17.0000 rate:0.0340 aloss:1.3717 dloss:0.4290 aloss2:4.5494 exploreP:0.7756\n",
      "Episode:89 meanR:28.8556 R:26.0000 rate:0.0520 aloss:1.3799 dloss:0.4277 aloss2:4.6299 exploreP:0.7736\n",
      "Episode:90 meanR:29.2088 R:61.0000 rate:0.1220 aloss:1.3778 dloss:0.4307 aloss2:4.8510 exploreP:0.7689\n",
      "Episode:91 meanR:29.5217 R:58.0000 rate:0.1160 aloss:1.3779 dloss:0.4291 aloss2:4.9550 exploreP:0.7645\n",
      "Episode:92 meanR:29.4839 R:26.0000 rate:0.0520 aloss:1.3699 dloss:0.4133 aloss2:4.7920 exploreP:0.7626\n",
      "Episode:93 meanR:29.7872 R:58.0000 rate:0.1160 aloss:1.3854 dloss:0.4205 aloss2:5.1427 exploreP:0.7582\n",
      "Episode:94 meanR:30.1579 R:65.0000 rate:0.1300 aloss:1.3769 dloss:0.4166 aloss2:5.4247 exploreP:0.7534\n",
      "Episode:95 meanR:30.0521 R:20.0000 rate:0.0400 aloss:1.3760 dloss:0.4413 aloss2:5.3706 exploreP:0.7519\n",
      "Episode:96 meanR:30.7113 R:94.0000 rate:0.1880 aloss:1.3820 dloss:0.4060 aloss2:5.5645 exploreP:0.7450\n",
      "Episode:97 meanR:30.6122 R:21.0000 rate:0.0420 aloss:1.3780 dloss:0.4054 aloss2:5.6644 exploreP:0.7434\n",
      "Episode:98 meanR:30.6869 R:38.0000 rate:0.0760 aloss:1.3758 dloss:0.4011 aloss2:5.6769 exploreP:0.7406\n",
      "Episode:99 meanR:30.5200 R:14.0000 rate:0.0280 aloss:1.3770 dloss:0.4155 aloss2:6.0171 exploreP:0.7396\n",
      "Episode:100 meanR:30.5900 R:28.0000 rate:0.0560 aloss:1.3732 dloss:0.4074 aloss2:5.8377 exploreP:0.7376\n",
      "Episode:101 meanR:31.0300 R:63.0000 rate:0.1260 aloss:1.3752 dloss:0.4071 aloss2:6.0910 exploreP:0.7330\n",
      "Episode:102 meanR:31.1100 R:31.0000 rate:0.0620 aloss:1.3785 dloss:0.4111 aloss2:6.2670 exploreP:0.7308\n",
      "Episode:103 meanR:31.1400 R:28.0000 rate:0.0560 aloss:1.3729 dloss:0.3921 aloss2:6.1049 exploreP:0.7287\n",
      "Episode:104 meanR:31.3000 R:54.0000 rate:0.1080 aloss:1.3705 dloss:0.4150 aloss2:6.4374 exploreP:0.7249\n",
      "Episode:105 meanR:31.1700 R:34.0000 rate:0.0680 aloss:1.3723 dloss:0.4042 aloss2:6.4897 exploreP:0.7224\n",
      "Episode:106 meanR:31.5600 R:56.0000 rate:0.1120 aloss:1.3740 dloss:0.3954 aloss2:6.6296 exploreP:0.7185\n",
      "Episode:107 meanR:31.5400 R:31.0000 rate:0.0620 aloss:1.3771 dloss:0.3983 aloss2:6.6395 exploreP:0.7163\n",
      "Episode:108 meanR:32.3300 R:91.0000 rate:0.1820 aloss:1.3744 dloss:0.3947 aloss2:6.7667 exploreP:0.7099\n",
      "Episode:109 meanR:32.8100 R:62.0000 rate:0.1240 aloss:1.3743 dloss:0.4066 aloss2:7.0791 exploreP:0.7056\n",
      "Episode:110 meanR:33.3400 R:103.0000 rate:0.2060 aloss:1.3759 dloss:0.3988 aloss2:6.9847 exploreP:0.6984\n",
      "Episode:111 meanR:33.8500 R:77.0000 rate:0.1540 aloss:1.3776 dloss:0.4039 aloss2:7.0770 exploreP:0.6931\n",
      "Episode:112 meanR:34.1200 R:43.0000 rate:0.0860 aloss:1.3733 dloss:0.4009 aloss2:7.2860 exploreP:0.6902\n",
      "Episode:113 meanR:34.1800 R:18.0000 rate:0.0360 aloss:1.3745 dloss:0.3773 aloss2:7.1591 exploreP:0.6890\n",
      "Episode:114 meanR:34.9200 R:93.0000 rate:0.1860 aloss:1.3729 dloss:0.3933 aloss2:7.4689 exploreP:0.6827\n",
      "Episode:115 meanR:35.0900 R:41.0000 rate:0.0820 aloss:1.3724 dloss:0.3766 aloss2:7.4313 exploreP:0.6800\n",
      "Episode:116 meanR:35.5400 R:57.0000 rate:0.1140 aloss:1.3762 dloss:0.4028 aloss2:7.5988 exploreP:0.6761\n",
      "Episode:117 meanR:35.5500 R:19.0000 rate:0.0380 aloss:1.3583 dloss:0.4220 aloss2:7.7567 exploreP:0.6749\n",
      "Episode:118 meanR:35.9600 R:57.0000 rate:0.1140 aloss:1.3705 dloss:0.4160 aloss2:7.4967 exploreP:0.6711\n",
      "Episode:119 meanR:36.5500 R:72.0000 rate:0.1440 aloss:1.3725 dloss:0.3981 aloss2:7.7997 exploreP:0.6664\n",
      "Episode:120 meanR:36.7400 R:46.0000 rate:0.0920 aloss:1.3683 dloss:0.3969 aloss2:7.5213 exploreP:0.6633\n",
      "Episode:121 meanR:37.1500 R:55.0000 rate:0.1100 aloss:1.3742 dloss:0.4045 aloss2:7.8252 exploreP:0.6598\n",
      "Episode:122 meanR:38.4400 R:139.0000 rate:0.2780 aloss:1.3755 dloss:0.3983 aloss2:7.8238 exploreP:0.6508\n",
      "Episode:123 meanR:38.8200 R:72.0000 rate:0.1440 aloss:1.3717 dloss:0.4003 aloss2:7.8182 exploreP:0.6462\n",
      "Episode:124 meanR:39.0200 R:30.0000 rate:0.0600 aloss:1.3678 dloss:0.4337 aloss2:7.9925 exploreP:0.6443\n",
      "Episode:125 meanR:39.6500 R:77.0000 rate:0.1540 aloss:1.3697 dloss:0.4125 aloss2:7.9512 exploreP:0.6394\n",
      "Episode:126 meanR:39.6500 R:27.0000 rate:0.0540 aloss:1.3680 dloss:0.4011 aloss2:7.6220 exploreP:0.6377\n",
      "Episode:127 meanR:39.8900 R:43.0000 rate:0.0860 aloss:1.3701 dloss:0.3846 aloss2:7.9915 exploreP:0.6350\n",
      "Episode:128 meanR:39.8300 R:18.0000 rate:0.0360 aloss:1.3697 dloss:0.4381 aloss2:7.8967 exploreP:0.6339\n",
      "Episode:129 meanR:39.8500 R:34.0000 rate:0.0680 aloss:1.3718 dloss:0.3839 aloss2:7.8243 exploreP:0.6318\n",
      "Episode:130 meanR:40.5100 R:84.0000 rate:0.1680 aloss:1.3728 dloss:0.3876 aloss2:7.9562 exploreP:0.6266\n",
      "Episode:131 meanR:40.5800 R:41.0000 rate:0.0820 aloss:1.3737 dloss:0.3902 aloss2:7.9623 exploreP:0.6241\n",
      "Episode:132 meanR:40.8000 R:59.0000 rate:0.1180 aloss:1.3725 dloss:0.4013 aloss2:8.1578 exploreP:0.6205\n",
      "Episode:133 meanR:41.1200 R:54.0000 rate:0.1080 aloss:1.3721 dloss:0.4100 aloss2:7.9843 exploreP:0.6172\n",
      "Episode:134 meanR:41.4700 R:58.0000 rate:0.1160 aloss:1.3697 dloss:0.4030 aloss2:7.9773 exploreP:0.6137\n",
      "Episode:135 meanR:40.6300 R:18.0000 rate:0.0360 aloss:1.3737 dloss:0.3821 aloss2:7.7739 exploreP:0.6126\n",
      "Episode:136 meanR:41.1200 R:72.0000 rate:0.1440 aloss:1.3677 dloss:0.3965 aloss2:8.0371 exploreP:0.6082\n",
      "Episode:137 meanR:41.6400 R:79.0000 rate:0.1580 aloss:1.3712 dloss:0.4010 aloss2:8.0140 exploreP:0.6035\n",
      "Episode:138 meanR:42.0500 R:69.0000 rate:0.1380 aloss:1.3736 dloss:0.3901 aloss2:8.0574 exploreP:0.5995\n",
      "Episode:139 meanR:43.1600 R:156.0000 rate:0.3120 aloss:1.3707 dloss:0.4016 aloss2:8.0673 exploreP:0.5903\n",
      "Episode:140 meanR:43.0400 R:56.0000 rate:0.1120 aloss:1.3673 dloss:0.3913 aloss2:8.1194 exploreP:0.5871\n",
      "Episode:141 meanR:43.2100 R:55.0000 rate:0.1100 aloss:1.3726 dloss:0.3812 aloss2:8.2386 exploreP:0.5839\n",
      "Episode:142 meanR:43.4100 R:40.0000 rate:0.0800 aloss:1.3775 dloss:0.3871 aloss2:8.1311 exploreP:0.5816\n",
      "Episode:143 meanR:43.5700 R:51.0000 rate:0.1020 aloss:1.3690 dloss:0.3915 aloss2:8.2085 exploreP:0.5787\n",
      "Episode:144 meanR:43.6900 R:35.0000 rate:0.0700 aloss:1.3701 dloss:0.3988 aloss2:8.1252 exploreP:0.5767\n",
      "Episode:145 meanR:45.0400 R:152.0000 rate:0.3040 aloss:1.3755 dloss:0.3956 aloss2:8.0603 exploreP:0.5682\n",
      "Episode:146 meanR:45.3400 R:49.0000 rate:0.0980 aloss:1.3771 dloss:0.3967 aloss2:8.0669 exploreP:0.5655\n",
      "Episode:147 meanR:46.4100 R:129.0000 rate:0.2580 aloss:1.3718 dloss:0.3954 aloss2:8.2400 exploreP:0.5583\n",
      "Episode:148 meanR:46.8400 R:93.0000 rate:0.1860 aloss:1.3725 dloss:0.4048 aloss2:8.0976 exploreP:0.5533\n",
      "Episode:149 meanR:46.9400 R:32.0000 rate:0.0640 aloss:1.3695 dloss:0.3933 aloss2:8.0510 exploreP:0.5515\n",
      "Episode:150 meanR:47.8000 R:132.0000 rate:0.2640 aloss:1.3679 dloss:0.4017 aloss2:7.9330 exploreP:0.5444\n",
      "Episode:151 meanR:49.3900 R:186.0000 rate:0.3720 aloss:1.3678 dloss:0.3932 aloss2:8.1087 exploreP:0.5346\n",
      "Episode:152 meanR:49.8000 R:62.0000 rate:0.1240 aloss:1.3749 dloss:0.4130 aloss2:8.0651 exploreP:0.5313\n",
      "Episode:153 meanR:50.2200 R:80.0000 rate:0.1600 aloss:1.3679 dloss:0.4024 aloss2:8.0871 exploreP:0.5272\n",
      "Episode:154 meanR:51.3800 R:126.0000 rate:0.2520 aloss:1.3708 dloss:0.4008 aloss2:7.9760 exploreP:0.5207\n",
      "Episode:155 meanR:51.7300 R:49.0000 rate:0.0980 aloss:1.3714 dloss:0.3795 aloss2:7.9355 exploreP:0.5182\n",
      "Episode:156 meanR:53.0300 R:149.0000 rate:0.2980 aloss:1.3738 dloss:0.4139 aloss2:8.0379 exploreP:0.5107\n",
      "Episode:157 meanR:53.6300 R:78.0000 rate:0.1560 aloss:1.3745 dloss:0.3860 aloss2:7.9275 exploreP:0.5068\n",
      "Episode:158 meanR:54.7800 R:165.0000 rate:0.3300 aloss:1.3690 dloss:0.3935 aloss2:8.0023 exploreP:0.4987\n"
     ]
    },
    {
     "name": "stdout",
     "output_type": "stream",
     "text": [
      "Episode:159 meanR:54.9500 R:48.0000 rate:0.0960 aloss:1.3664 dloss:0.4024 aloss2:7.9985 exploreP:0.4963\n",
      "Episode:160 meanR:55.3700 R:68.0000 rate:0.1360 aloss:1.3645 dloss:0.4066 aloss2:8.0858 exploreP:0.4930\n",
      "Episode:161 meanR:55.6700 R:43.0000 rate:0.0860 aloss:1.3735 dloss:0.3938 aloss2:8.1139 exploreP:0.4910\n",
      "Episode:162 meanR:55.7600 R:34.0000 rate:0.0680 aloss:1.3713 dloss:0.4358 aloss2:8.0666 exploreP:0.4893\n",
      "Episode:163 meanR:57.1500 R:152.0000 rate:0.3040 aloss:1.3695 dloss:0.4083 aloss2:7.8363 exploreP:0.4821\n",
      "Episode:164 meanR:57.5000 R:50.0000 rate:0.1000 aloss:1.3699 dloss:0.3969 aloss2:7.8753 exploreP:0.4798\n",
      "Episode:165 meanR:57.6600 R:48.0000 rate:0.0960 aloss:1.3703 dloss:0.3982 aloss2:7.8316 exploreP:0.4775\n",
      "Episode:166 meanR:58.5500 R:104.0000 rate:0.2080 aloss:1.3722 dloss:0.3942 aloss2:7.8740 exploreP:0.4727\n",
      "Episode:167 meanR:59.4300 R:117.0000 rate:0.2340 aloss:1.3700 dloss:0.4010 aloss2:7.9068 exploreP:0.4673\n",
      "Episode:168 meanR:59.9700 R:68.0000 rate:0.1360 aloss:1.3665 dloss:0.4152 aloss2:7.9962 exploreP:0.4642\n",
      "Episode:169 meanR:60.9100 R:107.0000 rate:0.2140 aloss:1.3746 dloss:0.4211 aloss2:7.9141 exploreP:0.4594\n",
      "Episode:170 meanR:62.5000 R:191.0000 rate:0.3820 aloss:1.3679 dloss:0.4069 aloss2:7.7789 exploreP:0.4509\n",
      "Episode:171 meanR:62.9200 R:88.0000 rate:0.1760 aloss:1.3699 dloss:0.3892 aloss2:7.8242 exploreP:0.4470\n",
      "Episode:172 meanR:64.2300 R:149.0000 rate:0.2980 aloss:1.3688 dloss:0.4138 aloss2:7.7850 exploreP:0.4405\n",
      "Episode:173 meanR:65.8900 R:220.0000 rate:0.4400 aloss:1.3726 dloss:0.4135 aloss2:7.7533 exploreP:0.4312\n",
      "Episode:174 meanR:65.8100 R:49.0000 rate:0.0980 aloss:1.3740 dloss:0.4223 aloss2:7.7668 exploreP:0.4291\n",
      "Episode:175 meanR:66.2400 R:94.0000 rate:0.1880 aloss:1.3665 dloss:0.4077 aloss2:7.6582 exploreP:0.4252\n",
      "Episode:176 meanR:65.7700 R:98.0000 rate:0.1960 aloss:1.3642 dloss:0.4202 aloss2:7.6103 exploreP:0.4211\n",
      "Episode:177 meanR:65.8000 R:31.0000 rate:0.0620 aloss:1.3676 dloss:0.4046 aloss2:7.6735 exploreP:0.4199\n",
      "Episode:178 meanR:66.9800 R:137.0000 rate:0.2740 aloss:1.3662 dloss:0.4201 aloss2:7.6236 exploreP:0.4143\n",
      "Episode:179 meanR:67.2800 R:62.0000 rate:0.1240 aloss:1.3659 dloss:0.4105 aloss2:7.5628 exploreP:0.4118\n",
      "Episode:180 meanR:67.3300 R:65.0000 rate:0.1300 aloss:1.3658 dloss:0.4310 aloss2:7.6085 exploreP:0.4092\n",
      "Episode:181 meanR:69.1400 R:207.0000 rate:0.4140 aloss:1.3655 dloss:0.4196 aloss2:7.4780 exploreP:0.4010\n",
      "Episode:182 meanR:70.7700 R:205.0000 rate:0.4100 aloss:1.3652 dloss:0.4066 aloss2:7.5670 exploreP:0.3931\n",
      "Episode:183 meanR:73.6100 R:311.0000 rate:0.6220 aloss:1.3637 dloss:0.4196 aloss2:7.5580 exploreP:0.3813\n",
      "Episode:184 meanR:75.2300 R:179.0000 rate:0.3580 aloss:1.3621 dloss:0.4072 aloss2:7.5508 exploreP:0.3747\n",
      "Episode:185 meanR:79.1600 R:415.0000 rate:0.8300 aloss:1.3661 dloss:0.4351 aloss2:7.4142 exploreP:0.3599\n",
      "Episode:186 meanR:80.3300 R:151.0000 rate:0.3020 aloss:1.3659 dloss:0.4115 aloss2:7.3567 exploreP:0.3547\n",
      "Episode:187 meanR:82.6000 R:263.0000 rate:0.5260 aloss:1.3643 dloss:0.4187 aloss2:7.4426 exploreP:0.3457\n",
      "Episode:188 meanR:85.0300 R:260.0000 rate:0.5200 aloss:1.3628 dloss:0.4286 aloss2:7.4131 exploreP:0.3371\n",
      "Episode:189 meanR:87.3300 R:256.0000 rate:0.5120 aloss:1.3618 dloss:0.4345 aloss2:7.3181 exploreP:0.3288\n",
      "Episode:190 meanR:88.8000 R:208.0000 rate:0.4160 aloss:1.3611 dloss:0.4403 aloss2:7.2101 exploreP:0.3223\n",
      "Episode:191 meanR:91.4700 R:325.0000 rate:0.6500 aloss:1.3659 dloss:0.4436 aloss2:7.0736 exploreP:0.3123\n",
      "Episode:192 meanR:93.5700 R:236.0000 rate:0.4720 aloss:1.3625 dloss:0.4410 aloss2:7.0231 exploreP:0.3052\n",
      "Episode:193 meanR:96.2900 R:330.0000 rate:0.6600 aloss:1.3607 dloss:0.4666 aloss2:6.8380 exploreP:0.2957\n",
      "Episode:194 meanR:96.2600 R:62.0000 rate:0.1240 aloss:1.3569 dloss:0.4826 aloss2:6.7174 exploreP:0.2939\n",
      "Episode:195 meanR:100.7900 R:473.0000 rate:0.9460 aloss:1.3628 dloss:0.4557 aloss2:6.7050 exploreP:0.2808\n",
      "Episode:196 meanR:104.3600 R:451.0000 rate:0.9020 aloss:1.3618 dloss:0.4635 aloss2:6.5587 exploreP:0.2688\n",
      "Episode:197 meanR:105.8500 R:170.0000 rate:0.3400 aloss:1.3608 dloss:0.4308 aloss2:6.5816 exploreP:0.2645\n",
      "Episode:198 meanR:107.9700 R:250.0000 rate:0.5000 aloss:1.3628 dloss:0.4888 aloss2:6.5603 exploreP:0.2582\n",
      "Episode:199 meanR:111.1700 R:334.0000 rate:0.6680 aloss:1.3629 dloss:0.4578 aloss2:6.4329 exploreP:0.2500\n",
      "Episode:200 meanR:115.8900 R:500.0000 rate:1.0000 aloss:1.3615 dloss:0.4702 aloss2:6.3853 exploreP:0.2383\n",
      "Episode:201 meanR:116.7200 R:146.0000 rate:0.2920 aloss:1.3640 dloss:0.4776 aloss2:6.2490 exploreP:0.2350\n",
      "Episode:202 meanR:117.1000 R:69.0000 rate:0.1380 aloss:1.3687 dloss:0.4745 aloss2:6.2507 exploreP:0.2335\n",
      "Episode:203 meanR:120.6600 R:384.0000 rate:0.7680 aloss:1.3639 dloss:0.4926 aloss2:6.1972 exploreP:0.2251\n",
      "Episode:204 meanR:122.9300 R:281.0000 rate:0.5620 aloss:1.3660 dloss:0.4721 aloss2:6.0856 exploreP:0.2191\n",
      "Episode:205 meanR:126.6900 R:410.0000 rate:0.8200 aloss:1.3672 dloss:0.4885 aloss2:6.0166 exploreP:0.2107\n",
      "Episode:206 meanR:128.7800 R:265.0000 rate:0.5300 aloss:1.3678 dloss:0.4856 aloss2:5.9853 exploreP:0.2055\n",
      "Episode:207 meanR:131.8300 R:336.0000 rate:0.6720 aloss:1.3654 dloss:0.4907 aloss2:5.9433 exploreP:0.1990\n",
      "Episode:208 meanR:133.1400 R:222.0000 rate:0.4440 aloss:1.3668 dloss:0.4717 aloss2:5.9345 exploreP:0.1948\n",
      "Episode:209 meanR:134.3100 R:179.0000 rate:0.3580 aloss:1.3687 dloss:0.4892 aloss2:5.8373 exploreP:0.1916\n",
      "Episode:210 meanR:135.4300 R:215.0000 rate:0.4300 aloss:1.3689 dloss:0.5073 aloss2:5.8350 exploreP:0.1877\n",
      "Episode:211 meanR:139.3700 R:471.0000 rate:0.9420 aloss:1.3692 dloss:0.4839 aloss2:5.7116 exploreP:0.1795\n",
      "Episode:212 meanR:142.6600 R:372.0000 rate:0.7440 aloss:1.3679 dloss:0.4873 aloss2:5.7939 exploreP:0.1733\n",
      "Episode:213 meanR:147.2200 R:474.0000 rate:0.9480 aloss:1.3603 dloss:0.5263 aloss2:5.6340 exploreP:0.1658\n",
      "Episode:214 meanR:149.1400 R:285.0000 rate:0.5700 aloss:1.3631 dloss:0.5034 aloss2:5.5351 exploreP:0.1614\n",
      "Episode:215 meanR:150.8300 R:210.0000 rate:0.4200 aloss:1.3627 dloss:0.4709 aloss2:5.5350 exploreP:0.1583\n",
      "Episode:216 meanR:154.5000 R:424.0000 rate:0.8480 aloss:1.3634 dloss:0.5092 aloss2:5.5366 exploreP:0.1521\n",
      "Episode:217 meanR:156.7400 R:243.0000 rate:0.4860 aloss:1.3636 dloss:0.5261 aloss2:5.3421 exploreP:0.1487\n",
      "Episode:218 meanR:159.0600 R:289.0000 rate:0.5780 aloss:1.3627 dloss:0.5250 aloss2:5.2139 exploreP:0.1447\n",
      "Episode:219 meanR:160.3600 R:202.0000 rate:0.4040 aloss:1.3621 dloss:0.5044 aloss2:5.3456 exploreP:0.1420\n",
      "Episode:220 meanR:161.9500 R:205.0000 rate:0.4100 aloss:1.3614 dloss:0.5253 aloss2:5.1910 exploreP:0.1394\n",
      "Episode:221 meanR:164.8700 R:347.0000 rate:0.6940 aloss:1.3610 dloss:0.5331 aloss2:5.2035 exploreP:0.1349\n",
      "Episode:222 meanR:165.5200 R:204.0000 rate:0.4080 aloss:1.3606 dloss:0.4919 aloss2:5.1472 exploreP:0.1324\n",
      "Episode:223 meanR:167.3700 R:257.0000 rate:0.5140 aloss:1.3627 dloss:0.5084 aloss2:5.1680 exploreP:0.1293\n",
      "Episode:224 meanR:172.0700 R:500.0000 rate:1.0000 aloss:1.3632 dloss:0.5313 aloss2:5.1907 exploreP:0.1235\n",
      "Episode:225 meanR:173.9500 R:265.0000 rate:0.5300 aloss:1.3646 dloss:0.5259 aloss2:5.1352 exploreP:0.1205\n",
      "Episode:226 meanR:176.2200 R:254.0000 rate:0.5080 aloss:1.3641 dloss:0.5072 aloss2:5.2850 exploreP:0.1178\n",
      "Episode:227 meanR:179.2400 R:345.0000 rate:0.6900 aloss:1.3638 dloss:0.5171 aloss2:5.1664 exploreP:0.1141\n",
      "Episode:228 meanR:181.1300 R:207.0000 rate:0.4140 aloss:1.3655 dloss:0.5240 aloss2:5.2070 exploreP:0.1120\n",
      "Episode:229 meanR:185.3900 R:460.0000 rate:0.9200 aloss:1.3655 dloss:0.5358 aloss2:5.0608 exploreP:0.1074\n",
      "Episode:230 meanR:186.6800 R:213.0000 rate:0.4260 aloss:1.3615 dloss:0.5713 aloss2:4.9539 exploreP:0.1053\n",
      "Episode:231 meanR:189.5700 R:330.0000 rate:0.6600 aloss:1.3660 dloss:0.5372 aloss2:4.9445 exploreP:0.1022\n",
      "Episode:232 meanR:192.3900 R:341.0000 rate:0.6820 aloss:1.3602 dloss:0.5589 aloss2:4.6388 exploreP:0.0991\n",
      "Episode:233 meanR:194.7700 R:292.0000 rate:0.5840 aloss:1.3630 dloss:0.5560 aloss2:4.6103 exploreP:0.0966\n",
      "Episode:234 meanR:199.1900 R:500.0000 rate:1.0000 aloss:1.3608 dloss:0.5585 aloss2:4.5529 exploreP:0.0924\n",
      "Episode:235 meanR:202.7300 R:372.0000 rate:0.7440 aloss:1.3611 dloss:0.5481 aloss2:4.5461 exploreP:0.0894\n",
      "Episode:236 meanR:203.9400 R:193.0000 rate:0.3860 aloss:1.3775 dloss:0.5727 aloss2:4.4165 exploreP:0.0878\n"
     ]
    },
    {
     "name": "stdout",
     "output_type": "stream",
     "text": [
      "Episode:237 meanR:208.1500 R:500.0000 rate:1.0000 aloss:1.3643 dloss:0.5927 aloss2:4.1828 exploreP:0.0840\n",
      "Episode:238 meanR:212.4600 R:500.0000 rate:1.0000 aloss:1.3600 dloss:0.5789 aloss2:4.1595 exploreP:0.0804\n",
      "Episode:239 meanR:215.9000 R:500.0000 rate:1.0000 aloss:1.3574 dloss:0.5716 aloss2:4.0990 exploreP:0.0770\n",
      "Episode:240 meanR:220.3400 R:500.0000 rate:1.0000 aloss:1.3576 dloss:0.5859 aloss2:4.0938 exploreP:0.0737\n",
      "Episode:241 meanR:223.5600 R:377.0000 rate:0.7540 aloss:1.3611 dloss:0.5810 aloss2:3.9996 exploreP:0.0714\n",
      "Episode:242 meanR:225.5400 R:238.0000 rate:0.4760 aloss:1.3534 dloss:0.5734 aloss2:3.9181 exploreP:0.0699\n",
      "Episode:243 meanR:228.3900 R:336.0000 rate:0.6720 aloss:1.3546 dloss:0.5731 aloss2:4.0134 exploreP:0.0679\n",
      "Episode:244 meanR:233.0400 R:500.0000 rate:1.0000 aloss:1.3516 dloss:0.5875 aloss2:4.0505 exploreP:0.0651\n",
      "Episode:245 meanR:236.3400 R:482.0000 rate:0.9640 aloss:1.3499 dloss:0.6145 aloss2:3.8520 exploreP:0.0625\n",
      "Episode:246 meanR:240.4600 R:461.0000 rate:0.9220 aloss:1.3510 dloss:0.5828 aloss2:3.7653 exploreP:0.0602\n",
      "Episode:247 meanR:242.2200 R:305.0000 rate:0.6100 aloss:1.3498 dloss:0.5712 aloss2:3.8012 exploreP:0.0587\n",
      "Episode:248 meanR:244.7200 R:343.0000 rate:0.6860 aloss:1.3588 dloss:0.5951 aloss2:3.6840 exploreP:0.0570\n",
      "Episode:249 meanR:249.4000 R:500.0000 rate:1.0000 aloss:1.3553 dloss:0.6074 aloss2:3.6969 exploreP:0.0547\n",
      "Episode:250 meanR:252.0700 R:399.0000 rate:0.7980 aloss:1.3469 dloss:0.6289 aloss2:3.5590 exploreP:0.0530\n",
      "Episode:251 meanR:255.2100 R:500.0000 rate:1.0000 aloss:1.3528 dloss:0.6134 aloss2:3.4121 exploreP:0.0509\n",
      "Episode:252 meanR:257.5500 R:296.0000 rate:0.5920 aloss:1.3525 dloss:0.5893 aloss2:3.4345 exploreP:0.0497\n",
      "Episode:253 meanR:261.1700 R:442.0000 rate:0.8840 aloss:1.3513 dloss:0.6270 aloss2:3.3335 exploreP:0.0480\n",
      "Episode:254 meanR:263.6900 R:378.0000 rate:0.7560 aloss:1.3512 dloss:0.6371 aloss2:3.2245 exploreP:0.0466\n",
      "Episode:255 meanR:265.8900 R:269.0000 rate:0.5380 aloss:1.3505 dloss:0.6303 aloss2:3.2708 exploreP:0.0456\n",
      "Episode:256 meanR:266.1700 R:177.0000 rate:0.3540 aloss:1.3638 dloss:0.6548 aloss2:3.0539 exploreP:0.0450\n",
      "Episode:257 meanR:267.4700 R:208.0000 rate:0.4160 aloss:1.3562 dloss:0.6224 aloss2:3.2045 exploreP:0.0442\n",
      "Episode:258 meanR:270.8200 R:500.0000 rate:1.0000 aloss:1.3516 dloss:0.6125 aloss2:3.1875 exploreP:0.0426\n",
      "Episode:259 meanR:273.6300 R:329.0000 rate:0.6580 aloss:1.3434 dloss:0.6256 aloss2:3.0989 exploreP:0.0415\n",
      "Episode:260 meanR:277.9500 R:500.0000 rate:1.0000 aloss:1.3513 dloss:0.6054 aloss2:3.1588 exploreP:0.0400\n",
      "Episode:261 meanR:282.5200 R:500.0000 rate:1.0000 aloss:1.3496 dloss:0.6322 aloss2:3.1293 exploreP:0.0385\n",
      "Episode:262 meanR:287.1800 R:500.0000 rate:1.0000 aloss:1.3404 dloss:0.6524 aloss2:3.0485 exploreP:0.0371\n",
      "Episode:263 meanR:289.6900 R:403.0000 rate:0.8060 aloss:1.3409 dloss:0.6560 aloss2:2.8059 exploreP:0.0361\n",
      "Episode:264 meanR:292.6400 R:345.0000 rate:0.6900 aloss:1.3484 dloss:0.6254 aloss2:2.8801 exploreP:0.0352\n",
      "Episode:265 meanR:297.1600 R:500.0000 rate:1.0000 aloss:1.3451 dloss:0.6369 aloss2:2.8418 exploreP:0.0339\n",
      "Episode:266 meanR:298.5600 R:244.0000 rate:0.4880 aloss:1.3436 dloss:0.6648 aloss2:2.8199 exploreP:0.0334\n",
      "Episode:267 meanR:301.0100 R:362.0000 rate:0.7240 aloss:1.3428 dloss:0.6536 aloss2:2.7097 exploreP:0.0325\n",
      "Episode:268 meanR:305.3300 R:500.0000 rate:1.0000 aloss:1.3381 dloss:0.6408 aloss2:2.5744 exploreP:0.0314\n",
      "Episode:269 meanR:309.2600 R:500.0000 rate:1.0000 aloss:1.3404 dloss:0.6662 aloss2:2.5476 exploreP:0.0304\n",
      "Episode:270 meanR:310.1800 R:283.0000 rate:0.5660 aloss:1.3429 dloss:0.6665 aloss2:2.4607 exploreP:0.0298\n",
      "Episode:271 meanR:314.3000 R:500.0000 rate:1.0000 aloss:1.3418 dloss:0.6474 aloss2:2.4646 exploreP:0.0289\n",
      "Episode:272 meanR:316.7000 R:389.0000 rate:0.7780 aloss:1.3413 dloss:0.6535 aloss2:2.5352 exploreP:0.0281\n",
      "Episode:273 meanR:319.5000 R:500.0000 rate:1.0000 aloss:1.3371 dloss:0.6714 aloss2:2.3891 exploreP:0.0273\n",
      "Episode:274 meanR:324.0100 R:500.0000 rate:1.0000 aloss:1.3410 dloss:0.6696 aloss2:2.2778 exploreP:0.0264\n",
      "Episode:275 meanR:326.6300 R:356.0000 rate:0.7120 aloss:1.3362 dloss:0.6650 aloss2:2.2773 exploreP:0.0258\n",
      "Episode:276 meanR:330.6500 R:500.0000 rate:1.0000 aloss:1.3364 dloss:0.6775 aloss2:2.2226 exploreP:0.0251\n",
      "Episode:277 meanR:332.8900 R:255.0000 rate:0.5100 aloss:1.3402 dloss:0.6568 aloss2:2.1805 exploreP:0.0247\n",
      "Episode:278 meanR:334.3100 R:279.0000 rate:0.5580 aloss:1.3383 dloss:0.6683 aloss2:2.1374 exploreP:0.0243\n",
      "Episode:279 meanR:338.5700 R:488.0000 rate:0.9760 aloss:1.3385 dloss:0.6768 aloss2:2.1730 exploreP:0.0236\n",
      "Episode:280 meanR:341.2800 R:336.0000 rate:0.6720 aloss:1.3364 dloss:0.6663 aloss2:2.0529 exploreP:0.0232\n",
      "Episode:281 meanR:341.1600 R:195.0000 rate:0.3900 aloss:1.3386 dloss:0.6545 aloss2:2.0510 exploreP:0.0229\n",
      "Episode:282 meanR:341.9000 R:279.0000 rate:0.5580 aloss:1.3355 dloss:0.6722 aloss2:2.0549 exploreP:0.0225\n",
      "Episode:283 meanR:343.7900 R:500.0000 rate:1.0000 aloss:1.3373 dloss:0.6655 aloss2:2.0027 exploreP:0.0219\n",
      "Episode:284 meanR:347.0000 R:500.0000 rate:1.0000 aloss:1.3423 dloss:0.6702 aloss2:2.0123 exploreP:0.0213\n",
      "Episode:285 meanR:346.9500 R:410.0000 rate:0.8200 aloss:1.3292 dloss:0.6730 aloss2:1.9336 exploreP:0.0209\n",
      "Episode:286 meanR:350.4400 R:500.0000 rate:1.0000 aloss:1.3321 dloss:0.6718 aloss2:1.8843 exploreP:0.0204\n",
      "Episode:287 meanR:352.8100 R:500.0000 rate:1.0000 aloss:1.3300 dloss:0.6751 aloss2:1.7727 exploreP:0.0199\n",
      "Episode:288 meanR:355.2100 R:500.0000 rate:1.0000 aloss:1.3343 dloss:0.6749 aloss2:1.8155 exploreP:0.0194\n",
      "Episode:289 meanR:355.4400 R:279.0000 rate:0.5580 aloss:1.3297 dloss:0.6805 aloss2:1.7221 exploreP:0.0191\n",
      "Episode:290 meanR:358.3600 R:500.0000 rate:1.0000 aloss:1.3239 dloss:0.6796 aloss2:1.6618 exploreP:0.0187\n",
      "Episode:291 meanR:360.1100 R:500.0000 rate:1.0000 aloss:1.3340 dloss:0.6776 aloss2:1.6718 exploreP:0.0183\n",
      "Episode:292 meanR:360.0700 R:232.0000 rate:0.4640 aloss:1.3267 dloss:0.6872 aloss2:1.6206 exploreP:0.0181\n",
      "Episode:293 meanR:360.6200 R:385.0000 rate:0.7700 aloss:1.3292 dloss:0.6748 aloss2:1.5873 exploreP:0.0178\n",
      "Episode:294 meanR:365.0000 R:500.0000 rate:1.0000 aloss:1.3269 dloss:0.6747 aloss2:1.5460 exploreP:0.0174\n",
      "Episode:295 meanR:362.6900 R:242.0000 rate:0.4840 aloss:1.3270 dloss:0.6755 aloss2:1.5995 exploreP:0.0172\n",
      "Episode:296 meanR:363.1800 R:500.0000 rate:1.0000 aloss:1.3239 dloss:0.6733 aloss2:1.5208 exploreP:0.0169\n",
      "Episode:297 meanR:365.5800 R:410.0000 rate:0.8200 aloss:1.3204 dloss:0.6626 aloss2:1.4768 exploreP:0.0166\n",
      "Episode:298 meanR:368.0800 R:500.0000 rate:1.0000 aloss:1.3220 dloss:0.6723 aloss2:1.4523 exploreP:0.0163\n",
      "Episode:299 meanR:369.7400 R:500.0000 rate:1.0000 aloss:1.3244 dloss:0.6613 aloss2:1.4305 exploreP:0.0160\n",
      "Episode:300 meanR:369.7400 R:500.0000 rate:1.0000 aloss:1.3146 dloss:0.6726 aloss2:1.4493 exploreP:0.0157\n",
      "Episode:301 meanR:373.2800 R:500.0000 rate:1.0000 aloss:1.3152 dloss:0.6711 aloss2:1.3584 exploreP:0.0154\n",
      "Episode:302 meanR:374.5900 R:200.0000 rate:0.4000 aloss:1.3211 dloss:0.6732 aloss2:1.3849 exploreP:0.0153\n",
      "Episode:303 meanR:375.1200 R:437.0000 rate:0.8740 aloss:1.3072 dloss:0.6721 aloss2:1.2909 exploreP:0.0151\n",
      "Episode:304 meanR:374.2800 R:197.0000 rate:0.3940 aloss:1.3106 dloss:0.6654 aloss2:1.2467 exploreP:0.0150\n",
      "Episode:305 meanR:371.6500 R:147.0000 rate:0.2940 aloss:1.3168 dloss:0.6559 aloss2:1.2978 exploreP:0.0149\n",
      "Episode:306 meanR:372.0700 R:307.0000 rate:0.6140 aloss:1.3099 dloss:0.6669 aloss2:1.2865 exploreP:0.0147\n",
      "Episode:307 meanR:370.4300 R:172.0000 rate:0.3440 aloss:1.3086 dloss:0.6607 aloss2:1.2377 exploreP:0.0147\n",
      "Episode:308 meanR:371.4000 R:319.0000 rate:0.6380 aloss:1.3074 dloss:0.6606 aloss2:1.1783 exploreP:0.0145\n",
      "Episode:309 meanR:374.0500 R:444.0000 rate:0.8880 aloss:1.3180 dloss:0.6589 aloss2:1.2836 exploreP:0.0143\n",
      "Episode:310 meanR:374.1300 R:223.0000 rate:0.4460 aloss:1.3149 dloss:0.6554 aloss2:1.2658 exploreP:0.0142\n",
      "Episode:311 meanR:373.8500 R:443.0000 rate:0.8860 aloss:1.3044 dloss:0.6598 aloss2:1.2683 exploreP:0.0140\n",
      "Episode:312 meanR:375.1300 R:500.0000 rate:1.0000 aloss:1.3100 dloss:0.6503 aloss2:1.2656 exploreP:0.0138\n",
      "Episode:313 meanR:374.2900 R:390.0000 rate:0.7800 aloss:1.3038 dloss:0.6596 aloss2:1.2553 exploreP:0.0137\n",
      "Episode:314 meanR:376.4400 R:500.0000 rate:1.0000 aloss:1.3079 dloss:0.6542 aloss2:1.2638 exploreP:0.0135\n"
     ]
    },
    {
     "name": "stdout",
     "output_type": "stream",
     "text": [
      "Episode:315 meanR:375.9200 R:158.0000 rate:0.3160 aloss:1.3042 dloss:0.6696 aloss2:1.3095 exploreP:0.0135\n",
      "Episode:316 meanR:376.6800 R:500.0000 rate:1.0000 aloss:1.3007 dloss:0.6484 aloss2:1.2326 exploreP:0.0133\n",
      "Episode:317 meanR:375.6200 R:137.0000 rate:0.2740 aloss:1.2971 dloss:0.6656 aloss2:1.1764 exploreP:0.0132\n",
      "Episode:318 meanR:374.3200 R:159.0000 rate:0.3180 aloss:1.3049 dloss:0.6655 aloss2:1.2576 exploreP:0.0132\n",
      "Episode:319 meanR:375.7400 R:344.0000 rate:0.6880 aloss:1.2986 dloss:0.6483 aloss2:1.2431 exploreP:0.0131\n",
      "Episode:320 meanR:375.8000 R:211.0000 rate:0.4220 aloss:1.3001 dloss:0.6486 aloss2:1.2342 exploreP:0.0130\n",
      "Episode:321 meanR:377.3300 R:500.0000 rate:1.0000 aloss:1.2816 dloss:0.6457 aloss2:1.1072 exploreP:0.0129\n",
      "Episode:322 meanR:377.3100 R:202.0000 rate:0.4040 aloss:1.2835 dloss:0.6375 aloss2:1.0491 exploreP:0.0128\n",
      "Episode:323 meanR:379.7400 R:500.0000 rate:1.0000 aloss:1.2951 dloss:0.6459 aloss2:1.0747 exploreP:0.0127\n",
      "Episode:324 meanR:379.7400 R:500.0000 rate:1.0000 aloss:1.2841 dloss:0.6451 aloss2:1.1211 exploreP:0.0125\n",
      "Episode:325 meanR:382.0900 R:500.0000 rate:1.0000 aloss:1.2755 dloss:0.6365 aloss2:1.0017 exploreP:0.0124\n",
      "Episode:326 meanR:382.5400 R:299.0000 rate:0.5980 aloss:1.2799 dloss:0.6491 aloss2:0.9690 exploreP:0.0124\n",
      "Episode:327 meanR:384.0900 R:500.0000 rate:1.0000 aloss:1.2747 dloss:0.6405 aloss2:0.9534 exploreP:0.0122\n",
      "Episode:328 meanR:383.9400 R:192.0000 rate:0.3840 aloss:1.2517 dloss:0.6212 aloss2:0.7860 exploreP:0.0122\n",
      "Episode:329 meanR:381.6400 R:230.0000 rate:0.4600 aloss:1.2864 dloss:0.6438 aloss2:0.9161 exploreP:0.0121\n",
      "Episode:330 meanR:381.1800 R:167.0000 rate:0.3340 aloss:1.2819 dloss:0.6314 aloss2:0.8746 exploreP:0.0121\n",
      "Episode:331 meanR:379.4900 R:161.0000 rate:0.3220 aloss:1.2713 dloss:0.6350 aloss2:0.8622 exploreP:0.0121\n",
      "Episode:332 meanR:381.0800 R:500.0000 rate:1.0000 aloss:1.2675 dloss:0.6287 aloss2:0.8283 exploreP:0.0120\n",
      "Episode:333 meanR:379.9600 R:180.0000 rate:0.3600 aloss:1.2781 dloss:0.6290 aloss2:0.8418 exploreP:0.0119\n",
      "Episode:334 meanR:379.9600 R:500.0000 rate:1.0000 aloss:1.2731 dloss:0.6292 aloss2:0.8605 exploreP:0.0118\n",
      "Episode:335 meanR:381.2400 R:500.0000 rate:1.0000 aloss:1.2666 dloss:0.6232 aloss2:0.8189 exploreP:0.0118\n",
      "Episode:336 meanR:384.3100 R:500.0000 rate:1.0000 aloss:1.2635 dloss:0.6256 aloss2:0.8409 exploreP:0.0117\n",
      "Episode:337 meanR:384.3100 R:500.0000 rate:1.0000 aloss:1.2595 dloss:0.6126 aloss2:0.7204 exploreP:0.0116\n",
      "Episode:338 meanR:384.3100 R:500.0000 rate:1.0000 aloss:1.2585 dloss:0.6136 aloss2:0.8040 exploreP:0.0115\n",
      "Episode:339 meanR:384.3100 R:500.0000 rate:1.0000 aloss:1.2708 dloss:0.6206 aloss2:0.7815 exploreP:0.0114\n",
      "Episode:340 meanR:383.0100 R:370.0000 rate:0.7400 aloss:1.2542 dloss:0.6084 aloss2:0.8310 exploreP:0.0114\n",
      "Episode:341 meanR:384.2400 R:500.0000 rate:1.0000 aloss:1.2642 dloss:0.6037 aloss2:0.8079 exploreP:0.0113\n",
      "Episode:342 meanR:385.7500 R:389.0000 rate:0.7780 aloss:1.2676 dloss:0.6113 aloss2:0.8002 exploreP:0.0113\n",
      "Episode:343 meanR:387.3900 R:500.0000 rate:1.0000 aloss:1.2422 dloss:0.5816 aloss2:0.7294 exploreP:0.0112\n",
      "Episode:344 meanR:385.7500 R:336.0000 rate:0.6720 aloss:1.2485 dloss:0.5838 aloss2:0.6548 exploreP:0.0112\n",
      "Episode:345 meanR:385.9300 R:500.0000 rate:1.0000 aloss:1.2530 dloss:0.5992 aloss2:0.7234 exploreP:0.0111\n",
      "Episode:346 meanR:386.3200 R:500.0000 rate:1.0000 aloss:1.2538 dloss:0.5796 aloss2:0.7112 exploreP:0.0111\n",
      "Episode:347 meanR:388.2700 R:500.0000 rate:1.0000 aloss:1.2435 dloss:0.5754 aloss2:0.6937 exploreP:0.0110\n",
      "Episode:348 meanR:389.8400 R:500.0000 rate:1.0000 aloss:1.2449 dloss:0.5842 aloss2:0.6623 exploreP:0.0110\n",
      "Episode:349 meanR:388.6300 R:379.0000 rate:0.7580 aloss:1.2494 dloss:0.5754 aloss2:0.7183 exploreP:0.0109\n",
      "Episode:350 meanR:389.6400 R:500.0000 rate:1.0000 aloss:1.2444 dloss:0.5593 aloss2:0.6892 exploreP:0.0109\n",
      "Episode:351 meanR:389.6400 R:500.0000 rate:1.0000 aloss:1.2483 dloss:0.5733 aloss2:0.6788 exploreP:0.0108\n",
      "Episode:352 meanR:391.6800 R:500.0000 rate:1.0000 aloss:1.2280 dloss:0.5413 aloss2:0.6743 exploreP:0.0108\n",
      "Episode:353 meanR:392.2600 R:500.0000 rate:1.0000 aloss:1.2380 dloss:0.5619 aloss2:0.6999 exploreP:0.0108\n",
      "Episode:354 meanR:393.4800 R:500.0000 rate:1.0000 aloss:1.2254 dloss:0.5398 aloss2:0.6256 exploreP:0.0107\n",
      "Episode:355 meanR:395.7900 R:500.0000 rate:1.0000 aloss:1.2363 dloss:0.5520 aloss2:0.7261 exploreP:0.0107\n",
      "Episode:356 meanR:399.0200 R:500.0000 rate:1.0000 aloss:1.2398 dloss:0.5453 aloss2:0.7833 exploreP:0.0106\n",
      "Episode:357 meanR:401.9400 R:500.0000 rate:1.0000 aloss:1.2286 dloss:0.5475 aloss2:0.7731 exploreP:0.0106\n",
      "Episode:358 meanR:399.2600 R:232.0000 rate:0.4640 aloss:1.2086 dloss:0.5030 aloss2:0.6838 exploreP:0.0106\n",
      "Episode:359 meanR:400.9700 R:500.0000 rate:1.0000 aloss:1.2146 dloss:0.5054 aloss2:0.6872 exploreP:0.0106\n",
      "Episode:360 meanR:400.9700 R:500.0000 rate:1.0000 aloss:1.2132 dloss:0.5081 aloss2:0.7078 exploreP:0.0105\n",
      "Episode:361 meanR:400.9700 R:500.0000 rate:1.0000 aloss:1.2180 dloss:0.5135 aloss2:0.6146 exploreP:0.0105\n",
      "Episode:362 meanR:400.9700 R:500.0000 rate:1.0000 aloss:1.2076 dloss:0.4946 aloss2:0.7191 exploreP:0.0105\n",
      "Episode:363 meanR:398.9400 R:200.0000 rate:0.4000 aloss:1.2086 dloss:0.5055 aloss2:0.7035 exploreP:0.0105\n",
      "Episode:364 meanR:400.4900 R:500.0000 rate:1.0000 aloss:1.2128 dloss:0.5214 aloss2:0.7738 exploreP:0.0105\n",
      "Episode:365 meanR:400.4900 R:500.0000 rate:1.0000 aloss:1.2219 dloss:0.5286 aloss2:0.8430 exploreP:0.0104\n",
      "Episode:366 meanR:399.9500 R:190.0000 rate:0.3800 aloss:1.1891 dloss:0.4736 aloss2:0.6308 exploreP:0.0104\n",
      "Episode:367 meanR:401.3300 R:500.0000 rate:1.0000 aloss:1.1993 dloss:0.4738 aloss2:0.7060 exploreP:0.0104\n",
      "Episode:368 meanR:398.0100 R:168.0000 rate:0.3360 aloss:1.2027 dloss:0.5085 aloss2:0.7576 exploreP:0.0104\n",
      "Episode:369 meanR:398.0100 R:500.0000 rate:1.0000 aloss:1.2051 dloss:0.5032 aloss2:0.7793 exploreP:0.0104\n",
      "Episode:370 meanR:396.6200 R:144.0000 rate:0.2880 aloss:1.1758 dloss:0.4530 aloss2:0.7569 exploreP:0.0104\n",
      "Episode:371 meanR:396.6200 R:500.0000 rate:1.0000 aloss:1.2087 dloss:0.4881 aloss2:0.8415 exploreP:0.0104\n",
      "Episode:372 meanR:396.6400 R:391.0000 rate:0.7820 aloss:1.1976 dloss:0.4816 aloss2:0.8052 exploreP:0.0103\n",
      "Episode:373 meanR:396.6400 R:500.0000 rate:1.0000 aloss:1.1877 dloss:0.4755 aloss2:0.7983 exploreP:0.0103\n",
      "Episode:374 meanR:394.6800 R:304.0000 rate:0.6080 aloss:1.2078 dloss:0.5114 aloss2:0.9755 exploreP:0.0103\n",
      "Episode:375 meanR:396.1200 R:500.0000 rate:1.0000 aloss:1.1966 dloss:0.4794 aloss2:0.8552 exploreP:0.0103\n",
      "Episode:376 meanR:392.7200 R:160.0000 rate:0.3200 aloss:1.2176 dloss:0.5177 aloss2:0.9224 exploreP:0.0103\n",
      "Episode:377 meanR:391.9100 R:174.0000 rate:0.3480 aloss:1.2145 dloss:0.5222 aloss2:0.9788 exploreP:0.0103\n",
      "Episode:378 meanR:394.1200 R:500.0000 rate:1.0000 aloss:1.1795 dloss:0.4516 aloss2:0.7675 exploreP:0.0103\n",
      "Episode:379 meanR:391.1900 R:195.0000 rate:0.3900 aloss:1.1953 dloss:0.4761 aloss2:0.8757 exploreP:0.0103\n",
      "Episode:380 meanR:392.8300 R:500.0000 rate:1.0000 aloss:1.1901 dloss:0.4523 aloss2:0.8942 exploreP:0.0103\n",
      "Episode:381 meanR:395.8800 R:500.0000 rate:1.0000 aloss:1.1887 dloss:0.4549 aloss2:0.9245 exploreP:0.0102\n",
      "Episode:382 meanR:394.9200 R:183.0000 rate:0.3660 aloss:1.1914 dloss:0.4449 aloss2:0.9082 exploreP:0.0102\n",
      "Episode:383 meanR:394.9200 R:500.0000 rate:1.0000 aloss:1.1947 dloss:0.4809 aloss2:0.9701 exploreP:0.0102\n",
      "Episode:384 meanR:394.9200 R:500.0000 rate:1.0000 aloss:1.1792 dloss:0.4310 aloss2:0.8778 exploreP:0.0102\n",
      "Episode:385 meanR:395.8200 R:500.0000 rate:1.0000 aloss:1.1876 dloss:0.4553 aloss2:0.9437 exploreP:0.0102\n",
      "Episode:386 meanR:395.8200 R:500.0000 rate:1.0000 aloss:1.1704 dloss:0.4141 aloss2:0.9205 exploreP:0.0102\n",
      "Episode:387 meanR:392.6900 R:187.0000 rate:0.3740 aloss:1.1922 dloss:0.4598 aloss2:0.9540 exploreP:0.0102\n",
      "Episode:388 meanR:392.6900 R:500.0000 rate:1.0000 aloss:1.1596 dloss:0.4055 aloss2:0.9561 exploreP:0.0102\n",
      "Episode:389 meanR:394.9000 R:500.0000 rate:1.0000 aloss:1.1784 dloss:0.4434 aloss2:1.0713 exploreP:0.0102\n",
      "Episode:390 meanR:391.7800 R:188.0000 rate:0.3760 aloss:1.1720 dloss:0.4381 aloss2:0.8928 exploreP:0.0102\n",
      "Episode:391 meanR:391.7800 R:500.0000 rate:1.0000 aloss:1.1684 dloss:0.4174 aloss2:1.0085 exploreP:0.0102\n",
      "Episode:392 meanR:391.4200 R:196.0000 rate:0.3920 aloss:1.1790 dloss:0.4513 aloss2:1.1463 exploreP:0.0102\n"
     ]
    },
    {
     "name": "stdout",
     "output_type": "stream",
     "text": [
      "Episode:393 meanR:392.5700 R:500.0000 rate:1.0000 aloss:1.1647 dloss:0.4298 aloss2:1.0017 exploreP:0.0102\n",
      "Episode:394 meanR:392.5700 R:500.0000 rate:1.0000 aloss:1.1574 dloss:0.4024 aloss2:0.9440 exploreP:0.0101\n"
     ]
    }
   ],
   "source": [
    "# Save/load the model and save for plotting\n",
    "saver = tf.train.Saver()\n",
    "episode_rewards_list, rewards_list = [], []\n",
    "# aloss_list, dloss_list, aloss2_list = [], []\n",
    "\n",
    "# TF session for training\n",
    "with tf.Session(graph=graph) as sess:\n",
    "    sess.run(tf.global_variables_initializer())\n",
    "    #saver.restore(sess, 'checkpoints/model.ckpt')    \n",
    "    #saver.restore(sess, tf.train.latest_checkpoint('checkpoints'))\n",
    "    total_step = 0 # Explore or exploit parameter\n",
    "    episode_reward = deque(maxlen=100) # 100 episodes average/running average/running mean/window\n",
    "\n",
    "    # Training episodes/epochs\n",
    "    for ep in range(11111):\n",
    "        total_reward = 0 # each episode\n",
    "        aloss_batch, dloss_batch, aloss2_batch = [], [], []\n",
    "        state = env.reset() # each episode\n",
    "        num_step = 0 # each episode\n",
    "\n",
    "        # Training steps/batches\n",
    "        while True:\n",
    "            # Explore (Env) or Exploit (Model)\n",
    "            total_step += 1\n",
    "            explore_p = explore_stop + (explore_start - explore_stop) * np.exp(-decay_rate * total_step) \n",
    "            if explore_p > np.random.rand():\n",
    "                action = env.action_space.sample()\n",
    "            else:\n",
    "                action_logits = sess.run(model.actions_logits, feed_dict={model.states: state.reshape([1, -1])})\n",
    "                action = np.argmax(action_logits)\n",
    "            next_state, reward, done, _ = env.step(action)\n",
    "            memory.buffer.append([state, action, next_state, reward, float(done)])\n",
    "            memory.rates.append(-1) # empty\n",
    "            num_step += 1 # momory added\n",
    "            total_reward += reward\n",
    "            state = next_state\n",
    "            \n",
    "            # Rating the memory\n",
    "            if done is True:\n",
    "                rate = total_reward/500 # update rate at the end/ when episode is done\n",
    "                for idx in range(num_step): # episode length\n",
    "                    if memory.rates[-1-idx] == -1: # double-check the landmark/marked indexes\n",
    "                        memory.rates[-1-idx] = rate # rate the trajectory/data\n",
    "                        \n",
    "            # Training with the maxrated minibatch\n",
    "            batch = memory.buffer\n",
    "            percentage = 1.0\n",
    "            #for idx in range(memory_size// batch_size):\n",
    "            idx_arr = np.arange(memory_size// batch_size)\n",
    "            idx = np.random.choice(idx_arr)\n",
    "            states = np.array([each[0] for each in batch])[idx*batch_size:(idx+1)*batch_size]\n",
    "            actions = np.array([each[1] for each in batch])[idx*batch_size:(idx+1)*batch_size]\n",
    "            next_states = np.array([each[2] for each in batch])[idx*batch_size:(idx+1)*batch_size]\n",
    "            rewards = np.array([each[3] for each in batch])[idx*batch_size:(idx+1)*batch_size]\n",
    "            dones = np.array([each[4] for each in batch])[idx*batch_size:(idx+1)*batch_size]\n",
    "            rates = np.array(memory.rates)[idx*batch_size:(idx+1)*batch_size]\n",
    "            #print(states.shape, actions.shape, next_states.shape, rewards.shape, dones.shape, rates.shape)\n",
    "            states = states[rates >= (np.max(rates)*percentage)]\n",
    "            actions = actions[rates >= (np.max(rates)*percentage)]\n",
    "            next_states = next_states[rates >= (np.max(rates)*percentage)]\n",
    "            rewards = rewards[rates >= (np.max(rates)*percentage)]\n",
    "            dones = dones[rates >= (np.max(rates)*percentage)]\n",
    "            rates = rates[rates >= (np.max(rates)*percentage)]\n",
    "            aloss, dloss, _, _ = sess.run([model.a_loss, model.d_loss, model.a_opt, model.d_opt],\n",
    "                                          feed_dict = {model.states: states, \n",
    "                                                       model.actions: actions,\n",
    "                                                       model.next_states: next_states,\n",
    "                                                       model.rewards: rewards,\n",
    "                                                       model.dones: dones,\n",
    "                                                       model.rates: rates})\n",
    "            aloss2, _ = sess.run([model.a_loss2, model.a_opt2], \n",
    "                                          feed_dict = {model.states: states, \n",
    "                                                       model.actions: actions,\n",
    "                                                       model.next_states: next_states,\n",
    "                                                       model.rewards: rewards,\n",
    "                                                       model.dones: dones,\n",
    "                                                       model.rates: rates})\n",
    "            aloss_batch.append(aloss)\n",
    "            dloss_batch.append(dloss)\n",
    "            aloss2_batch.append(aloss2)\n",
    "            if done is True:\n",
    "                break\n",
    "                \n",
    "        episode_reward.append(total_reward)\n",
    "        print('Episode:{}'.format(ep),\n",
    "              'meanR:{:.4f}'.format(np.mean(episode_reward)),\n",
    "              'R:{:.4f}'.format(total_reward),\n",
    "              'rate:{:.4f}'.format(rate),\n",
    "              'aloss:{:.4f}'.format(np.mean(aloss_batch)),\n",
    "              'dloss:{:.4f}'.format(np.mean(dloss_batch)),\n",
    "              'aloss2:{:.4f}'.format(np.mean(aloss2_batch)),\n",
    "              'exploreP:{:.4f}'.format(explore_p))\n",
    "\n",
    "        # Ploting out\n",
    "        episode_rewards_list.append([ep, np.mean(episode_reward)])\n",
    "        rewards_list.append([ep, total_reward])\n",
    "        # gloss_list.append([ep, np.mean(gloss_batch)])\n",
    "        # dloss_list.append([ep, np.mean(dloss_batch)])\n",
    "        \n",
    "        # Break episode/epoch loop\n",
    "        ## Option 1: Solve the First Version\n",
    "        #The task is episodic, and in order to solve the environment, \n",
    "        #your agent must get an average score of +30 over 100 consecutive episodes.\n",
    "        if np.mean(episode_reward) >= 500:\n",
    "            break\n",
    "            \n",
    "    # At the end of all training episodes/epochs\n",
    "    saver.save(sess, 'checkpoints/model.ckpt')"
   ]
  },
  {
   "cell_type": "markdown",
   "metadata": {},
   "source": [
    "# Visualizing training\n",
    "\n",
    "Below I'll plot the total rewards for each episode. I'm plotting the rolling average too, in blue."
   ]
  },
  {
   "cell_type": "code",
   "execution_count": null,
   "metadata": {},
   "outputs": [],
   "source": [
    "import matplotlib.pyplot as plt\n",
    "%matplotlib inline\n",
    "\n",
    "def running_mean(x, N):\n",
    "    cumsum = np.cumsum(np.insert(x, 0, 0)) \n",
    "    return (cumsum[N:] - cumsum[:-N]) / N "
   ]
  },
  {
   "cell_type": "code",
   "execution_count": null,
   "metadata": {},
   "outputs": [],
   "source": [
    "eps, arr = np.array(episode_rewards_list).T\n",
    "smoothed_arr = running_mean(arr, 10)\n",
    "plt.plot(eps[-len(smoothed_arr):], smoothed_arr)\n",
    "plt.plot(eps, arr, color='grey', alpha=0.3)\n",
    "plt.xlabel('Episode')\n",
    "plt.ylabel('Total rewards')"
   ]
  },
  {
   "cell_type": "code",
   "execution_count": 19,
   "metadata": {},
   "outputs": [
    {
     "data": {
      "text/plain": [
       "Text(0, 0.5, 'Total rewards')"
      ]
     },
     "execution_count": 19,
     "metadata": {},
     "output_type": "execute_result"
    },
    {
     "data": {
      "image/png": "[encoded data removed]",
      "text/plain": [
       "<Figure size 432x288 with 1 Axes>"
      ]
     },
     "metadata": {
      "needs_background": "light"
     },
     "output_type": "display_data"
    }
   ],
   "source": [
    "eps, arr = np.array(episode_rewards_list).T\n",
    "smoothed_arr = running_mean(arr, 10)\n",
    "plt.plot(eps[-len(smoothed_arr):], smoothed_arr)\n",
    "plt.plot(eps, arr, color='grey', alpha=0.3)\n",
    "plt.xlabel('Episode')\n",
    "plt.ylabel('Total rewards')"
   ]
  },
  {
   "cell_type": "code",
   "execution_count": 17,
   "metadata": {},
   "outputs": [
    {
     "data": {
      "text/plain": [
       "Text(0, 0.5, 'Total rewards')"
      ]
     },
     "execution_count": 17,
     "metadata": {},
     "output_type": "execute_result"
    },
    {
     "data": {
      "image/png": "[encoded data removed]",
      "text/plain": [
       "<Figure size 432x288 with 1 Axes>"
      ]
     },
     "metadata": {
      "needs_background": "light"
     },
     "output_type": "display_data"
    }
   ],
   "source": [
    "eps, arr = np.array(episode_rewards_list).T\n",
    "smoothed_arr = running_mean(arr, 10)\n",
    "plt.plot(eps[-len(smoothed_arr):], smoothed_arr)\n",
    "plt.plot(eps, arr, color='grey', alpha=0.3)\n",
    "plt.xlabel('Episode')\n",
    "plt.ylabel('Total rewards')"
   ]
  },
  {
   "cell_type": "code",
   "execution_count": 59,
   "metadata": {},
   "outputs": [
    {
     "data": {
      "text/plain": [
       "Text(0, 0.5, 'Total rewards')"
      ]
     },
     "execution_count": 59,
     "metadata": {},
     "output_type": "execute_result"
    },
    {
     "data": {
      "image/png": "[encoded data removed]",
      "text/plain": [
       "<Figure size 432x288 with 1 Axes>"
      ]
     },
     "metadata": {
      "needs_background": "light"
     },
     "output_type": "display_data"
    }
   ],
   "source": [
    "eps, arr = np.array(episode_rewards_list).T\n",
    "smoothed_arr = running_mean(arr, 10)\n",
    "plt.plot(eps[-len(smoothed_arr):], smoothed_arr)\n",
    "plt.plot(eps, arr, color='grey', alpha=0.3)\n",
    "plt.xlabel('Episode')\n",
    "plt.ylabel('Total rewards')"
   ]
  },
  {
   "cell_type": "code",
   "execution_count": 20,
   "metadata": {},
   "outputs": [
    {
     "data": {
      "text/plain": [
       "Text(0, 0.5, 'Total rewards')"
      ]
     },
     "execution_count": 20,
     "metadata": {},
     "output_type": "execute_result"
    },
    {
     "data": {
      "image/png": "[encoded data removed]",
      "text/plain": [
       "<Figure size 432x288 with 1 Axes>"
      ]
     },
     "metadata": {
      "needs_background": "light"
     },
     "output_type": "display_data"
    }
   ],
   "source": [
    "eps, arr = np.array(rewards_list).T\n",
    "smoothed_arr = running_mean(arr, 10)\n",
    "plt.plot(eps[-len(smoothed_arr):], smoothed_arr)\n",
    "plt.plot(eps, arr, color='grey', alpha=0.3)\n",
    "plt.xlabel('Episode')\n",
    "plt.ylabel('Total rewards')"
   ]
  },
  {
   "cell_type": "code",
   "execution_count": 61,
   "metadata": {},
   "outputs": [
    {
     "data": {
      "text/plain": [
       "Text(0, 0.5, 'Total rewards')"
      ]
     },
     "execution_count": 61,
     "metadata": {},
     "output_type": "execute_result"
    },
    {
     "data": {
      "image/png": "[encoded data removed]",
      "text/plain": [
       "<Figure size 432x288 with 1 Axes>"
      ]
     },
     "metadata": {
      "needs_background": "light"
     },
     "output_type": "display_data"
    }
   ],
   "source": [
    "eps, arr = np.array(rewards_list).T\n",
    "smoothed_arr = running_mean(arr, 10)\n",
    "plt.plot(eps[-len(smoothed_arr):], smoothed_arr)\n",
    "plt.plot(eps, arr, color='grey', alpha=0.3)\n",
    "plt.xlabel('Episode')\n",
    "plt.ylabel('Total rewards')"
   ]
  },
  {
   "cell_type": "code",
   "execution_count": null,
   "metadata": {},
   "outputs": [],
   "source": [
    "eps, arr = np.array(gloss_list).T\n",
    "smoothed_arr = running_mean(arr, 10)\n",
    "plt.plot(eps[-len(smoothed_arr):], smoothed_arr)\n",
    "plt.plot(eps, arr, color='grey', alpha=0.3)\n",
    "plt.xlabel('Episode')\n",
    "plt.ylabel('G losses')`"
   ]
  },
  {
   "cell_type": "code",
   "execution_count": null,
   "metadata": {},
   "outputs": [],
   "source": [
    "eps, arr = np.array(dloss_list).T\n",
    "smoothed_arr = running_mean(arr, 10)\n",
    "plt.plot(eps[-len(smoothed_arr):], smoothed_arr)\n",
    "plt.plot(eps, arr, color='grey', alpha=0.3)\n",
    "plt.xlabel('Episode')\n",
    "plt.ylabel('D losses')"
   ]
  },
  {
   "cell_type": "markdown",
   "metadata": {},
   "source": [
    "## Testing\n",
    "\n",
    "Let's checkout how our trained agent plays the game."
   ]
  },
  {
   "cell_type": "code",
   "execution_count": 22,
   "metadata": {},
   "outputs": [
    {
     "name": "stdout",
     "output_type": "stream",
     "text": [
      "INFO:tensorflow:Restoring parameters from checkpoints/model.ckpt\n",
      "total_reward: 500.0\n",
      "total_reward: 500.0\n",
      "total_reward: 500.0\n",
      "total_reward: 500.0\n",
      "total_reward: 500.0\n",
      "total_reward: 500.0\n",
      "total_reward: 500.0\n",
      "total_reward: 500.0\n",
      "total_reward: 500.0\n",
      "total_reward: 500.0\n",
      "total_reward: 500.0\n"
     ]
    }
   ],
   "source": [
    "import gym\n",
    "env = gym.make('CartPole-v0')\n",
    "env = gym.make('CartPole-v1')\n",
    "# env = gym.make('Acrobot-v1')\n",
    "# env = gym.make('MountainCar-v0')\n",
    "# env = gym.make('Pendulum-v0')\n",
    "# env = gym.make('Blackjack-v0')\n",
    "# env = gym.make('FrozenLake-v0')\n",
    "# env = gym.make('AirRaid-ram-v0')\n",
    "# env = gym.make('AirRaid-v0')\n",
    "# env = gym.make('BipedalWalker-v2')\n",
    "# env = gym.make('Copy-v0')\n",
    "# env = gym.make('CarRacing-v0')\n",
    "# env = gym.make('Ant-v2') #mujoco\n",
    "# env = gym.make('FetchPickAndPlace-v1') # mujoco required!\n",
    "\n",
    "with tf.Session() as sess:\n",
    "    sess.run(tf.global_variables_initializer())\n",
    "    saver.restore(sess, 'checkpoints/model.ckpt')    \n",
    "    #saver.restore(sess, tf.train.latest_checkpoint('checkpoints'))\n",
    "    \n",
    "    # Episodes/epochs\n",
    "    for _ in range(11):\n",
    "        state = env.reset()\n",
    "        total_reward = 0\n",
    "\n",
    "        # Steps/batches\n",
    "        while True:\n",
    "            env.render()\n",
    "            action_logits = sess.run(model.actions_logits, feed_dict={model.states: state.reshape([1, -1])})\n",
    "            action = np.argmax(action_logits)\n",
    "            state, reward, done, _ = env.step(action)\n",
    "            total_reward += reward\n",
    "            if done:\n",
    "                print('total_reward: {}'.format(total_reward))\n",
    "                break\n",
    "                \n",
    "env.close()"
   ]
  },
  {
   "cell_type": "markdown",
   "metadata": {},
   "source": [
    "## Extending this\n",
    "\n",
    "So, Cart-Pole is a pretty simple game. However, the same model can be used to train an agent to play something much more complicated like Pong or Space Invaders. Instead of a state like we're using here though, you'd want to use convolutional layers to get the state from the screen images.\n",
    "\n",
    "![Deep Q-Learning Atari](assets/atari-network.png)\n",
    "\n",
    "I'll leave it as a challenge for you to use deep Q-learning to train an agent to play Atari games. Here's the original paper which will get you started: http://www.davidqiu.com:8888/research/nature14236.pdf."
   ]
  },
  {
   "cell_type": "code",
   "execution_count": null,
   "metadata": {},
   "outputs": [],
   "source": []
  }
 ],
 "metadata": {
  "kernelspec": {
   "display_name": "Python 3",
   "language": "python",
   "name": "python3"
  },
  "language_info": {
   "codemirror_mode": {
    "name": "ipython",
    "version": 3
   },
   "file_extension": ".py",
   "mimetype": "text/x-python",
   "name": "python",
   "nbconvert_exporter": "python",
   "pygments_lexer": "ipython3",
   "version": "3.6.6"
  }
 },
 "nbformat": 4,
 "nbformat_minor": 2
}
