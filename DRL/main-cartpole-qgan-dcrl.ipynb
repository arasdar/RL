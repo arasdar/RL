{
 "cells": [
  {
   "cell_type": "code",
   "execution_count": 23,
   "metadata": {},
   "outputs": [
    {
     "name": "stdout",
     "output_type": "stream",
     "text": [
      "TensorFlow Version: 1.7.1\n",
      "Default GPU Device: \n"
     ]
    }
   ],
   "source": [
    "import tensorflow as tf\n",
    "print('TensorFlow Version: {}'.format(tf.__version__))\n",
    "print('Default GPU Device: {}'.format(tf.test.gpu_device_name()))"
   ]
  },
  {
   "cell_type": "markdown",
   "metadata": {},
   "source": [
    "##### >**Note:** Make sure you have OpenAI Gym cloned. Then run this command `pip install -e gym/[all]`."
   ]
  },
  {
   "cell_type": "code",
   "execution_count": 24,
   "metadata": {},
   "outputs": [],
   "source": [
    "import numpy as np\n",
    "import gym\n",
    "env = gym.make('CartPole-v0')\n",
    "env = gym.make('CartPole-v1')"
   ]
  },
  {
   "cell_type": "code",
   "execution_count": 25,
   "metadata": {},
   "outputs": [],
   "source": [
    "def model_input(state_size):\n",
    "    #states = tf.placeholder(tf.float32, [None, *state_size], name='states')\n",
    "    states = tf.placeholder(tf.float32, [None, state_size], name='states')\n",
    "    actions = tf.placeholder(tf.int32, [None], name='actions')\n",
    "    next_states = tf.placeholder(tf.float32, [None, state_size], name='next_states')\n",
    "    rewards = tf.placeholder(tf.float32, [None], name='rewards')\n",
    "    dones = tf.placeholder(tf.float32, [None], name='dones')\n",
    "    rates = tf.placeholder(tf.float32, [None], name='rates') # success rate\n",
    "    return states, actions, next_states, rewards, dones, rates"
   ]
  },
  {
   "cell_type": "code",
   "execution_count": 26,
   "metadata": {},
   "outputs": [],
   "source": [
    "def actor(states, action_size, hidden_size, reuse=False, alpha=0.1, training=False):\n",
    "    with tf.variable_scope('actor', reuse=reuse):\n",
    "        # First fully connected layer\n",
    "        h1 = tf.layers.dense(inputs=states, units=hidden_size)\n",
    "        bn1 = tf.layers.batch_normalization(h1, training=training)        \n",
    "        nl1 = tf.maximum(alpha * bn1, bn1)\n",
    "        \n",
    "        # Second fully connected layer\n",
    "        h2 = tf.layers.dense(inputs=nl1, units=hidden_size)\n",
    "        bn2 = tf.layers.batch_normalization(h2, training=training)        \n",
    "        nl2 = tf.maximum(alpha * bn2, bn2)\n",
    "        \n",
    "        # Output layer\n",
    "        logits = tf.layers.dense(inputs=nl2, units=action_size)        \n",
    "        return logits"
   ]
  },
  {
   "cell_type": "code",
   "execution_count": 27,
   "metadata": {},
   "outputs": [],
   "source": [
    "def generator(actions, state_size, hidden_size, reuse=False, alpha=0.1, training=False):\n",
    "    with tf.variable_scope('generator', reuse=reuse):\n",
    "        # First fully connected layer\n",
    "        h1 = tf.layers.dense(inputs=actions, units=hidden_size)\n",
    "        bn1 = tf.layers.batch_normalization(h1, training=training)        \n",
    "        nl1 = tf.maximum(alpha * bn1, bn1)\n",
    "        \n",
    "        # Second fully connected layer\n",
    "        h2 = tf.layers.dense(inputs=nl1, units=hidden_size)\n",
    "        bn2 = tf.layers.batch_normalization(h2, training=training)        \n",
    "        nl2 = tf.maximum(alpha * bn2, bn2)\n",
    "        \n",
    "        # Output layer\n",
    "        logits = tf.layers.dense(inputs=nl2, units=state_size)        \n",
    "        return logits"
   ]
  },
  {
   "cell_type": "code",
   "execution_count": 28,
   "metadata": {},
   "outputs": [],
   "source": [
    "def discriminator(states, actions, action_size, hidden_size, reuse=False, alpha=0.1, training=False):\n",
    "    with tf.variable_scope('discriminator', reuse=reuse):\n",
    "        # First fully connected layer\n",
    "        h1 = tf.layers.dense(inputs=states, units=action_size)\n",
    "        bn1 = tf.layers.batch_normalization(h1, training=training)        \n",
    "        nl1 = tf.maximum(alpha * bn1, bn1)\n",
    "        \n",
    "        # Second fully connected layer\n",
    "        nl1_fused = tf.concat(axis=1, values=[nl1, actions])\n",
    "        h2 = tf.layers.dense(inputs=nl1_fused, units=hidden_size)\n",
    "        bn2 = tf.layers.batch_normalization(h2, training=training)        \n",
    "        nl2 = tf.maximum(alpha * bn2, bn2)\n",
    "                \n",
    "        # Output layer\n",
    "        logits = tf.layers.dense(inputs=nl2, units=1)        \n",
    "        return logits"
   ]
  },
  {
   "cell_type": "code",
   "execution_count": 29,
   "metadata": {},
   "outputs": [],
   "source": [
    "def model_loss(state_size, action_size, hidden_size, \n",
    "               states, actions, next_states, rewards, dones, rates):\n",
    "    actions_logits = actor(states=states, hidden_size=hidden_size, action_size=action_size)\n",
    "    actions_labels = tf.one_hot(indices=actions, depth=action_size, dtype=actions_logits.dtype)\n",
    "    aloss = tf.reduce_mean(tf.nn.softmax_cross_entropy_with_logits_v2(logits=actions_logits, \n",
    "                                                                      labels=actions_labels))\n",
    "    ###############################################\n",
    "    next_states_logits = generator(actions=actions_logits, hidden_size=hidden_size, state_size=state_size)\n",
    "    next_states_labels = tf.nn.sigmoid(next_states)\n",
    "    aloss += tf.reduce_mean(tf.nn.sigmoid_cross_entropy_with_logits(logits=next_states_logits, \n",
    "                                                                    labels=next_states_labels))\n",
    "    ####################################################\n",
    "    Qs = discriminator(actions=actions_labels, hidden_size=hidden_size, states=states, action_size=action_size)\n",
    "    rates = tf.reshape(rates, shape=[-1, 1])\n",
    "    dloss = tf.reduce_mean(tf.nn.sigmoid_cross_entropy_with_logits(logits=Qs, # GAN\n",
    "                                                                   labels=rates)) # 0-1\n",
    "    ############################################################################\n",
    "    next_actions_logits = actor(states=next_states, hidden_size=hidden_size, action_size=action_size, reuse=True)\n",
    "    nextQs_logits = discriminator(actions=next_actions_logits, hidden_size=hidden_size, states=next_states, \n",
    "                                  action_size=action_size, reuse=True)\n",
    "    nextQs = tf.reshape(nextQs_logits, shape=[-1]) * dones\n",
    "    targetQs = rewards + (0.99 * nextQs)\n",
    "    aloss2 = tf.reduce_mean(tf.square(Qs - targetQs)) # DQN\n",
    "    return actions_logits, aloss, dloss, aloss2"
   ]
  },
  {
   "cell_type": "code",
   "execution_count": 30,
   "metadata": {},
   "outputs": [],
   "source": [
    "def model_opt(a_loss, a_loss2, d_loss, a_learning_rate, d_learning_rate):\n",
    "    # Get weights and bias to update\n",
    "    t_vars = tf.trainable_variables()\n",
    "    a_vars = [var for var in t_vars if var.name.startswith('actor')]\n",
    "    g_vars = [var for var in t_vars if var.name.startswith('generator')]\n",
    "    d_vars = [var for var in t_vars if var.name.startswith('discriminator')]\n",
    "\n",
    "    # Optimize\n",
    "    with tf.control_dependencies(tf.get_collection(tf.GraphKeys.UPDATE_OPS)): # Required for batchnorm (BN)\n",
    "        a_opt = tf.train.AdamOptimizer(a_learning_rate).minimize(a_loss, var_list=a_vars)\n",
    "        d_opt = tf.train.AdamOptimizer(d_learning_rate).minimize(d_loss, var_list=d_vars)\n",
    "        a_opt2 = tf.train.AdamOptimizer(a_learning_rate).minimize(a_loss2, var_list=a_vars)\n",
    "    return a_opt, d_opt, a_opt2"
   ]
  },
  {
   "cell_type": "code",
   "execution_count": 31,
   "metadata": {},
   "outputs": [],
   "source": [
    "class Model:\n",
    "    def __init__(self, state_size, action_size, hidden_size, a_learning_rate, d_learning_rate):\n",
    "\n",
    "        # Data of the Model: make the data available inside the framework\n",
    "        self.states, self.actions, self.next_states, self.rewards, self.dones, self.rates = model_input(\n",
    "            state_size=state_size)\n",
    "\n",
    "        # Create the Model: calculating the loss and forwad pass\n",
    "        self.actions_logits, self.a_loss, self.d_loss, self.a_loss2 = model_loss(\n",
    "            state_size=state_size, action_size=action_size, hidden_size=hidden_size, # model init\n",
    "            states=self.states, actions=self.actions, next_states=self.next_states, #model input \n",
    "            rewards=self.rewards, dones=self.dones, rates=self.rates) # model input\n",
    "        \n",
    "        # Update the model: backward pass and backprop\n",
    "        self.a_opt, self.d_opt, self.a_opt2 = model_opt(a_loss=self.a_loss, \n",
    "                                                        a_loss2=self.a_loss2, \n",
    "                                                        d_loss=self.d_loss,\n",
    "                                                        a_learning_rate=a_learning_rate,\n",
    "                                                        d_learning_rate=d_learning_rate)"
   ]
  },
  {
   "cell_type": "code",
   "execution_count": 32,
   "metadata": {},
   "outputs": [],
   "source": [
    "from collections import deque\n",
    "class Memory():\n",
    "    def __init__(self, max_size = 1000):\n",
    "        self.buffer = deque(maxlen=max_size) # data batch\n",
    "        self.rates = deque(maxlen=max_size) # rates\n",
    "#     def sample(self, batch_size):\n",
    "#         idx = np.random.choice(np.arange(len(self.buffer)), # ==  self.rates\n",
    "#                                size=batch_size, \n",
    "#                                replace=False)\n",
    "#         return [self.buffer[ii] for ii in idx], [self.rates[ii] for ii in idx]"
   ]
  },
  {
   "cell_type": "markdown",
   "metadata": {},
   "source": [
    "## Hyperparameters\n",
    "\n",
    "One of the more difficult aspects of reinforcememt learning are the large number of hyperparameters. Not only are we tuning the network, but we're tuning the simulation."
   ]
  },
  {
   "cell_type": "code",
   "execution_count": 33,
   "metadata": {},
   "outputs": [
    {
     "data": {
      "text/plain": [
       "(Box(4,), Discrete(2))"
      ]
     },
     "execution_count": 33,
     "metadata": {},
     "output_type": "execute_result"
    }
   ],
   "source": [
    "env.observation_space, env.action_space"
   ]
  },
  {
   "cell_type": "code",
   "execution_count": 34,
   "metadata": {},
   "outputs": [],
   "source": [
    "# Exploration parameters\n",
    "explore_start = 1.0            # exploration probability at start\n",
    "explore_stop = 0.01           # minimum exploration probability \n",
    "decay_rate = 0.0001            # exponential decay rate for exploration prob\n",
    "\n",
    "# Network parameters\n",
    "state_size = 4\n",
    "action_size = 2\n",
    "hidden_size = 4*2             # number of units in each Q-network hidden layer\n",
    "a_learning_rate = 1e-4         # Q-network learning rate\n",
    "d_learning_rate = 1e-4         # Q-network learning rate\n",
    "\n",
    "# Memory parameters\n",
    "memory_size = int(1e5)            # memory capacity\n",
    "batch_size = int(1e3)             # experience mini-batch size: 200/500 a successfull episode size\n",
    "gamma = 0.99                   # future reward discount"
   ]
  },
  {
   "cell_type": "code",
   "execution_count": 35,
   "metadata": {},
   "outputs": [],
   "source": [
    "# Reset/init the graph/session\n",
    "graph = tf.reset_default_graph()\n",
    "\n",
    "# Init the model\n",
    "model = Model(action_size=action_size, state_size=state_size, hidden_size=hidden_size,\n",
    "              a_learning_rate=a_learning_rate, d_learning_rate=d_learning_rate)\n",
    "\n",
    "# Init the memory\n",
    "memory = Memory(max_size=memory_size)"
   ]
  },
  {
   "cell_type": "code",
   "execution_count": 36,
   "metadata": {},
   "outputs": [],
   "source": [
    "state = env.reset()\n",
    "total_reward = 0\n",
    "num_step = 0\n",
    "for _ in range(memory_size):\n",
    "    action = env.action_space.sample()\n",
    "    next_state, reward, done, _ = env.step(action)\n",
    "    memory.buffer.append([state, action, next_state, reward, float(done)])\n",
    "    memory.rates.append(-1) # empty\n",
    "    num_step += 1 # memory incremented\n",
    "    total_reward += reward\n",
    "    state = next_state\n",
    "    if done is True:\n",
    "        state = env.reset()\n",
    "        rate = total_reward/500\n",
    "        total_reward = 0 # reset\n",
    "        for idx in range(num_step): # episode length\n",
    "            if memory.rates[-1-idx] == -1:\n",
    "                memory.rates[-1-idx] = rate\n",
    "        num_step = 0 # reset"
   ]
  },
  {
   "cell_type": "markdown",
   "metadata": {},
   "source": [
    "## Training the model\n",
    "\n",
    "Below we'll train our agent. If you want to watch it train, uncomment the `env.render()` line. This is slow because it's rendering the frames slower than the network can train. But, it's cool to watch the agent get better at the game."
   ]
  },
  {
   "cell_type": "code",
   "execution_count": null,
   "metadata": {},
   "outputs": [
    {
     "name": "stdout",
     "output_type": "stream",
     "text": [
      "Episode:0 meanR:21.0000 R:21.0000 rate:0.0420 aloss:1.4341 dloss:0.7315 aloss2:0.8299 exploreP:0.9979\n",
      "Episode:1 meanR:20.0000 R:19.0000 rate:0.0380 aloss:1.4359 dloss:0.7266 aloss2:0.8491 exploreP:0.9960\n",
      "Episode:2 meanR:21.0000 R:23.0000 rate:0.0460 aloss:1.4278 dloss:0.7217 aloss2:0.8735 exploreP:0.9938\n",
      "Episode:3 meanR:22.0000 R:25.0000 rate:0.0500 aloss:1.4160 dloss:0.7175 aloss2:0.8915 exploreP:0.9913\n",
      "Episode:4 meanR:25.2000 R:38.0000 rate:0.0760 aloss:1.4139 dloss:0.7120 aloss2:0.9201 exploreP:0.9876\n",
      "Episode:5 meanR:28.8333 R:47.0000 rate:0.0940 aloss:1.4062 dloss:0.7062 aloss2:0.9521 exploreP:0.9830\n",
      "Episode:6 meanR:27.1429 R:17.0000 rate:0.0340 aloss:1.4027 dloss:0.6989 aloss2:0.9793 exploreP:0.9814\n",
      "Episode:7 meanR:27.8750 R:33.0000 rate:0.0660 aloss:1.4001 dloss:0.6937 aloss2:1.0061 exploreP:0.9782\n",
      "Episode:8 meanR:26.1111 R:12.0000 rate:0.0240 aloss:1.3959 dloss:0.6902 aloss2:1.0257 exploreP:0.9770\n",
      "Episode:9 meanR:24.9000 R:14.0000 rate:0.0280 aloss:1.3972 dloss:0.6895 aloss2:1.0318 exploreP:0.9757\n",
      "Episode:10 meanR:27.1818 R:50.0000 rate:0.1000 aloss:1.3934 dloss:0.6818 aloss2:1.0724 exploreP:0.9708\n",
      "Episode:11 meanR:27.0833 R:26.0000 rate:0.0520 aloss:1.3927 dloss:0.6778 aloss2:1.0936 exploreP:0.9683\n",
      "Episode:12 meanR:26.2308 R:16.0000 rate:0.0320 aloss:1.3909 dloss:0.6727 aloss2:1.1198 exploreP:0.9668\n",
      "Episode:13 meanR:25.2143 R:12.0000 rate:0.0240 aloss:1.3913 dloss:0.6725 aloss2:1.1245 exploreP:0.9657\n",
      "Episode:14 meanR:24.8000 R:19.0000 rate:0.0380 aloss:1.3908 dloss:0.6699 aloss2:1.1353 exploreP:0.9638\n",
      "Episode:15 meanR:24.7500 R:24.0000 rate:0.0480 aloss:1.3893 dloss:0.6672 aloss2:1.1551 exploreP:0.9616\n",
      "Episode:16 meanR:24.0000 R:12.0000 rate:0.0240 aloss:1.3906 dloss:0.6658 aloss2:1.1618 exploreP:0.9604\n",
      "Episode:17 meanR:23.6667 R:18.0000 rate:0.0360 aloss:1.3883 dloss:0.6637 aloss2:1.1768 exploreP:0.9587\n",
      "Episode:18 meanR:23.2632 R:16.0000 rate:0.0320 aloss:1.3872 dloss:0.6621 aloss2:1.1851 exploreP:0.9572\n",
      "Episode:19 meanR:22.7500 R:13.0000 rate:0.0260 aloss:1.3875 dloss:0.6596 aloss2:1.1980 exploreP:0.9560\n",
      "Episode:20 meanR:22.9524 R:27.0000 rate:0.0540 aloss:1.3862 dloss:0.6542 aloss2:1.2253 exploreP:0.9534\n",
      "Episode:21 meanR:22.5455 R:14.0000 rate:0.0280 aloss:1.3844 dloss:0.6531 aloss2:1.2348 exploreP:0.9521\n",
      "Episode:22 meanR:22.0000 R:10.0000 rate:0.0200 aloss:1.4034 dloss:0.6516 aloss2:1.2584 exploreP:0.9512\n",
      "Episode:23 meanR:22.5000 R:34.0000 rate:0.0680 aloss:1.3830 dloss:0.6489 aloss2:1.2677 exploreP:0.9480\n",
      "Episode:24 meanR:22.0000 R:10.0000 rate:0.0200 aloss:1.3865 dloss:0.6464 aloss2:1.2788 exploreP:0.9470\n",
      "Episode:25 meanR:21.6923 R:14.0000 rate:0.0280 aloss:1.3842 dloss:0.6458 aloss2:1.2841 exploreP:0.9457\n",
      "Episode:26 meanR:21.8889 R:27.0000 rate:0.0540 aloss:1.3838 dloss:0.6432 aloss2:1.2984 exploreP:0.9432\n",
      "Episode:27 meanR:21.7857 R:19.0000 rate:0.0380 aloss:1.3802 dloss:0.6411 aloss2:1.3242 exploreP:0.9414\n",
      "Episode:28 meanR:21.8621 R:24.0000 rate:0.0480 aloss:1.3794 dloss:0.6396 aloss2:1.3397 exploreP:0.9392\n",
      "Episode:29 meanR:22.2000 R:32.0000 rate:0.0640 aloss:1.3822 dloss:0.6350 aloss2:1.3674 exploreP:0.9362\n",
      "Episode:30 meanR:22.0645 R:18.0000 rate:0.0360 aloss:1.3815 dloss:0.6308 aloss2:1.3846 exploreP:0.9345\n",
      "Episode:31 meanR:22.4375 R:34.0000 rate:0.0680 aloss:1.3798 dloss:0.6275 aloss2:1.4080 exploreP:0.9314\n",
      "Episode:32 meanR:22.8788 R:37.0000 rate:0.0740 aloss:1.3822 dloss:0.6251 aloss2:1.4269 exploreP:0.9280\n",
      "Episode:33 meanR:22.8529 R:22.0000 rate:0.0440 aloss:1.3794 dloss:0.6215 aloss2:1.4480 exploreP:0.9260\n",
      "Episode:34 meanR:22.8571 R:23.0000 rate:0.0460 aloss:1.3817 dloss:0.6217 aloss2:1.4602 exploreP:0.9239\n",
      "Episode:35 meanR:25.0556 R:102.0000 rate:0.2040 aloss:1.3799 dloss:0.6151 aloss2:1.5164 exploreP:0.9146\n",
      "Episode:36 meanR:25.0000 R:23.0000 rate:0.0460 aloss:1.3827 dloss:0.6060 aloss2:1.5741 exploreP:0.9125\n",
      "Episode:37 meanR:25.0526 R:27.0000 rate:0.0540 aloss:1.3782 dloss:0.6041 aloss2:1.6011 exploreP:0.9101\n",
      "Episode:38 meanR:25.1282 R:28.0000 rate:0.0560 aloss:1.3776 dloss:0.6012 aloss2:1.6170 exploreP:0.9076\n",
      "Episode:39 meanR:25.6250 R:45.0000 rate:0.0900 aloss:1.3757 dloss:0.6004 aloss2:1.6446 exploreP:0.9036\n",
      "Episode:40 meanR:26.6585 R:68.0000 rate:0.1360 aloss:1.3762 dloss:0.5930 aloss2:1.7057 exploreP:0.8975\n",
      "Episode:41 meanR:26.9286 R:38.0000 rate:0.0760 aloss:1.3756 dloss:0.5902 aloss2:1.7307 exploreP:0.8941\n",
      "Episode:42 meanR:26.7674 R:20.0000 rate:0.0400 aloss:1.3787 dloss:0.5884 aloss2:1.7657 exploreP:0.8924\n",
      "Episode:43 meanR:26.9545 R:35.0000 rate:0.0700 aloss:1.3743 dloss:0.5831 aloss2:1.7987 exploreP:0.8893\n",
      "Episode:44 meanR:26.8667 R:23.0000 rate:0.0460 aloss:1.3721 dloss:0.5836 aloss2:1.8208 exploreP:0.8873\n",
      "Episode:45 meanR:26.6522 R:17.0000 rate:0.0340 aloss:1.3697 dloss:0.5732 aloss2:1.8639 exploreP:0.8858\n",
      "Episode:46 meanR:26.4894 R:19.0000 rate:0.0380 aloss:1.3747 dloss:0.5777 aloss2:1.8527 exploreP:0.8841\n",
      "Episode:47 meanR:26.3958 R:22.0000 rate:0.0440 aloss:1.3700 dloss:0.5686 aloss2:1.9019 exploreP:0.8822\n",
      "Episode:48 meanR:26.8776 R:50.0000 rate:0.1000 aloss:1.3767 dloss:0.5679 aloss2:1.9408 exploreP:0.8778\n",
      "Episode:49 meanR:26.7800 R:22.0000 rate:0.0440 aloss:1.3826 dloss:0.5648 aloss2:1.9881 exploreP:0.8759\n",
      "Episode:50 meanR:27.1569 R:46.0000 rate:0.0920 aloss:1.3877 dloss:0.5584 aloss2:2.0278 exploreP:0.8720\n",
      "Episode:51 meanR:27.1538 R:27.0000 rate:0.0540 aloss:1.3719 dloss:0.5526 aloss2:2.0869 exploreP:0.8696\n",
      "Episode:52 meanR:27.0377 R:21.0000 rate:0.0420 aloss:1.3760 dloss:0.5541 aloss2:2.1183 exploreP:0.8678\n",
      "Episode:53 meanR:27.2407 R:38.0000 rate:0.0760 aloss:1.3746 dloss:0.5427 aloss2:2.1747 exploreP:0.8646\n",
      "Episode:54 meanR:26.9273 R:10.0000 rate:0.0200 aloss:1.3725 dloss:0.5457 aloss2:2.2162 exploreP:0.8637\n",
      "Episode:55 meanR:26.6964 R:14.0000 rate:0.0280 aloss:1.3764 dloss:0.5432 aloss2:2.2041 exploreP:0.8625\n",
      "Episode:56 meanR:26.5614 R:19.0000 rate:0.0380 aloss:1.3765 dloss:0.5382 aloss2:2.2646 exploreP:0.8609\n",
      "Episode:57 meanR:26.4138 R:18.0000 rate:0.0360 aloss:1.3755 dloss:0.5481 aloss2:2.2757 exploreP:0.8594\n",
      "Episode:58 meanR:26.8136 R:50.0000 rate:0.1000 aloss:1.3759 dloss:0.5322 aloss2:2.3472 exploreP:0.8551\n",
      "Episode:59 meanR:26.8833 R:31.0000 rate:0.0620 aloss:1.3725 dloss:0.5263 aloss2:2.4308 exploreP:0.8525\n",
      "Episode:60 meanR:26.8689 R:26.0000 rate:0.0520 aloss:1.3716 dloss:0.5283 aloss2:2.4645 exploreP:0.8503\n",
      "Episode:61 meanR:26.6452 R:13.0000 rate:0.0260 aloss:1.3795 dloss:0.5276 aloss2:2.4668 exploreP:0.8492\n",
      "Episode:62 meanR:26.6190 R:25.0000 rate:0.0500 aloss:1.3797 dloss:0.5192 aloss2:2.5318 exploreP:0.8472\n",
      "Episode:63 meanR:26.4062 R:13.0000 rate:0.0260 aloss:1.3817 dloss:0.5191 aloss2:2.5620 exploreP:0.8461\n",
      "Episode:64 meanR:26.2308 R:15.0000 rate:0.0300 aloss:1.3765 dloss:0.5203 aloss2:2.5844 exploreP:0.8448\n",
      "Episode:65 meanR:26.3182 R:32.0000 rate:0.0640 aloss:1.3729 dloss:0.5180 aloss2:2.6358 exploreP:0.8421\n",
      "Episode:66 meanR:26.1493 R:15.0000 rate:0.0300 aloss:1.3767 dloss:0.5005 aloss2:2.7277 exploreP:0.8409\n",
      "Episode:67 meanR:26.1912 R:29.0000 rate:0.0580 aloss:1.3799 dloss:0.4966 aloss2:2.7345 exploreP:0.8385\n",
      "Episode:68 meanR:26.0145 R:14.0000 rate:0.0280 aloss:1.3775 dloss:0.5054 aloss2:2.7642 exploreP:0.8373\n",
      "Episode:69 meanR:25.8286 R:13.0000 rate:0.0260 aloss:1.3750 dloss:0.5108 aloss2:2.7486 exploreP:0.8363\n",
      "Episode:70 meanR:25.9155 R:32.0000 rate:0.0640 aloss:1.3717 dloss:0.4968 aloss2:2.8176 exploreP:0.8336\n",
      "Episode:71 meanR:26.1944 R:46.0000 rate:0.0920 aloss:1.3748 dloss:0.4917 aloss2:2.9098 exploreP:0.8298\n",
      "Episode:72 meanR:26.0822 R:18.0000 rate:0.0360 aloss:1.3746 dloss:0.4855 aloss2:3.0032 exploreP:0.8284\n",
      "Episode:73 meanR:26.4595 R:54.0000 rate:0.1080 aloss:1.3824 dloss:0.4853 aloss2:2.9966 exploreP:0.8240\n",
      "Episode:74 meanR:26.8667 R:57.0000 rate:0.1140 aloss:1.3715 dloss:0.4806 aloss2:3.1577 exploreP:0.8193\n"
     ]
    }
   ],
   "source": [
    "# Save/load the model and save for plotting\n",
    "saver = tf.train.Saver()\n",
    "episode_rewards_list, rewards_list = [], []\n",
    "# aloss_list, dloss_list, aloss2_list = [], []\n",
    "\n",
    "# TF session for training\n",
    "with tf.Session(graph=graph) as sess:\n",
    "    sess.run(tf.global_variables_initializer())\n",
    "    #saver.restore(sess, 'checkpoints/model.ckpt')    \n",
    "    #saver.restore(sess, tf.train.latest_checkpoint('checkpoints'))\n",
    "    total_step = 0 # Explore or exploit parameter\n",
    "    episode_reward = deque(maxlen=100) # 100 episodes average/running average/running mean/window\n",
    "\n",
    "    # Training episodes/epochs\n",
    "    for ep in range(11111):\n",
    "        total_reward = 0 # each episode\n",
    "        aloss_batch, dloss_batch, aloss2_batch = [], [], []\n",
    "        state = env.reset() # each episode\n",
    "        num_step = 0 # each episode\n",
    "\n",
    "        # Training steps/batches\n",
    "        while True:\n",
    "            # Explore (Env) or Exploit (Model)\n",
    "            total_step += 1\n",
    "            explore_p = explore_stop + (explore_start - explore_stop) * np.exp(-decay_rate * total_step) \n",
    "            if explore_p > np.random.rand():\n",
    "                action = env.action_space.sample()\n",
    "            else:\n",
    "                action_logits = sess.run(model.actions_logits, feed_dict={model.states: state.reshape([1, -1])})\n",
    "                action = np.argmax(action_logits)\n",
    "            next_state, reward, done, _ = env.step(action)\n",
    "            memory.buffer.append([state, action, next_state, reward, float(done)])\n",
    "            memory.rates.append(-1) # empty\n",
    "            num_step += 1 # momory added\n",
    "            total_reward += reward\n",
    "            state = next_state\n",
    "            \n",
    "            # Rating the memory\n",
    "            if done is True:\n",
    "                rate = total_reward/500 # update rate at the end/ when episode is done\n",
    "                for idx in range(num_step): # episode length\n",
    "                    if memory.rates[-1-idx] == -1: # double-check the landmark/marked indexes\n",
    "                        memory.rates[-1-idx] = rate # rate the trajectory/data\n",
    "                        \n",
    "            # Training with the maxrated minibatch\n",
    "            batch = memory.buffer\n",
    "            percentage = 1.0\n",
    "            #for idx in range(memory_size// batch_size):\n",
    "            idx_arr = np.arange(memory_size// batch_size)\n",
    "            idx = np.random.choice(idx_arr)\n",
    "            states = np.array([each[0] for each in batch])[idx*batch_size:(idx+1)*batch_size]\n",
    "            actions = np.array([each[1] for each in batch])[idx*batch_size:(idx+1)*batch_size]\n",
    "            next_states = np.array([each[2] for each in batch])[idx*batch_size:(idx+1)*batch_size]\n",
    "            rewards = np.array([each[3] for each in batch])[idx*batch_size:(idx+1)*batch_size]\n",
    "            dones = np.array([each[4] for each in batch])[idx*batch_size:(idx+1)*batch_size]\n",
    "            rates = np.array(memory.rates)[idx*batch_size:(idx+1)*batch_size]\n",
    "            #print(states.shape, actions.shape, next_states.shape, rewards.shape, dones.shape, rates.shape)\n",
    "            states = states[rates >= (np.max(rates)*percentage)]\n",
    "            actions = actions[rates >= (np.max(rates)*percentage)]\n",
    "            next_states = next_states[rates >= (np.max(rates)*percentage)]\n",
    "            rewards = rewards[rates >= (np.max(rates)*percentage)]\n",
    "            dones = dones[rates >= (np.max(rates)*percentage)]\n",
    "            rates = rates[rates >= (np.max(rates)*percentage)]\n",
    "            aloss, dloss, _, _ = sess.run([model.a_loss, model.d_loss, model.a_opt, model.d_opt],\n",
    "                                          feed_dict = {model.states: states, \n",
    "                                                       model.actions: actions,\n",
    "                                                       model.next_states: next_states,\n",
    "                                                       model.rewards: rewards,\n",
    "                                                       model.dones: dones,\n",
    "                                                       model.rates: rates})\n",
    "            aloss2, _ = sess.run([model.a_loss2, model.a_opt2], \n",
    "                                          feed_dict = {model.states: states, \n",
    "                                                       model.actions: actions,\n",
    "                                                       model.next_states: next_states,\n",
    "                                                       model.rewards: rewards,\n",
    "                                                       model.dones: dones,\n",
    "                                                       model.rates: rates})\n",
    "            aloss_batch.append(aloss)\n",
    "            dloss_batch.append(dloss)\n",
    "            aloss2_batch.append(aloss2)\n",
    "            if done is True:\n",
    "                break\n",
    "                \n",
    "        episode_reward.append(total_reward)\n",
    "        print('Episode:{}'.format(ep),\n",
    "              'meanR:{:.4f}'.format(np.mean(episode_reward)),\n",
    "              'R:{:.4f}'.format(total_reward),\n",
    "              'rate:{:.4f}'.format(rate),\n",
    "              'aloss:{:.4f}'.format(np.mean(aloss_batch)),\n",
    "              'dloss:{:.4f}'.format(np.mean(dloss_batch)),\n",
    "              'aloss2:{:.4f}'.format(np.mean(aloss2_batch)),\n",
    "              'exploreP:{:.4f}'.format(explore_p))\n",
    "\n",
    "        # Ploting out\n",
    "        episode_rewards_list.append([ep, np.mean(episode_reward)])\n",
    "        rewards_list.append([ep, total_reward])\n",
    "        # gloss_list.append([ep, np.mean(gloss_batch)])\n",
    "        # dloss_list.append([ep, np.mean(dloss_batch)])\n",
    "        \n",
    "        # Break episode/epoch loop\n",
    "        ## Option 1: Solve the First Version\n",
    "        #The task is episodic, and in order to solve the environment, \n",
    "        #your agent must get an average score of +30 over 100 consecutive episodes.\n",
    "        if np.mean(episode_reward) >= 500:\n",
    "            break\n",
    "            \n",
    "    # At the end of all training episodes/epochs\n",
    "    saver.save(sess, 'checkpoints/model.ckpt')"
   ]
  },
  {
   "cell_type": "markdown",
   "metadata": {},
   "source": [
    "# Visualizing training\n",
    "\n",
    "Below I'll plot the total rewards for each episode. I'm plotting the rolling average too, in blue."
   ]
  },
  {
   "cell_type": "code",
   "execution_count": null,
   "metadata": {},
   "outputs": [],
   "source": [
    "import matplotlib.pyplot as plt\n",
    "%matplotlib inline\n",
    "\n",
    "def running_mean(x, N):\n",
    "    cumsum = np.cumsum(np.insert(x, 0, 0)) \n",
    "    return (cumsum[N:] - cumsum[:-N]) / N "
   ]
  },
  {
   "cell_type": "code",
   "execution_count": null,
   "metadata": {},
   "outputs": [],
   "source": [
    "eps, arr = np.array(episode_rewards_list).T\n",
    "smoothed_arr = running_mean(arr, 10)\n",
    "plt.plot(eps[-len(smoothed_arr):], smoothed_arr)\n",
    "plt.plot(eps, arr, color='grey', alpha=0.3)\n",
    "plt.xlabel('Episode')\n",
    "plt.ylabel('Total rewards')"
   ]
  },
  {
   "cell_type": "code",
   "execution_count": 19,
   "metadata": {},
   "outputs": [
    {
     "data": {
      "text/plain": [
       "Text(0, 0.5, 'Total rewards')"
      ]
     },
     "execution_count": 19,
     "metadata": {},
     "output_type": "execute_result"
    },
    {
     "data": {
      "image/png": "[encoded data removed]",
      "text/plain": [
       "<Figure size 432x288 with 1 Axes>"
      ]
     },
     "metadata": {
      "needs_background": "light"
     },
     "output_type": "display_data"
    }
   ],
   "source": [
    "eps, arr = np.array(episode_rewards_list).T\n",
    "smoothed_arr = running_mean(arr, 10)\n",
    "plt.plot(eps[-len(smoothed_arr):], smoothed_arr)\n",
    "plt.plot(eps, arr, color='grey', alpha=0.3)\n",
    "plt.xlabel('Episode')\n",
    "plt.ylabel('Total rewards')"
   ]
  },
  {
   "cell_type": "code",
   "execution_count": 17,
   "metadata": {},
   "outputs": [
    {
     "data": {
      "text/plain": [
       "Text(0, 0.5, 'Total rewards')"
      ]
     },
     "execution_count": 17,
     "metadata": {},
     "output_type": "execute_result"
    },
    {
     "data": {
      "image/png": "[encoded data removed]",
      "text/plain": [
       "<Figure size 432x288 with 1 Axes>"
      ]
     },
     "metadata": {
      "needs_background": "light"
     },
     "output_type": "display_data"
    }
   ],
   "source": [
    "eps, arr = np.array(episode_rewards_list).T\n",
    "smoothed_arr = running_mean(arr, 10)\n",
    "plt.plot(eps[-len(smoothed_arr):], smoothed_arr)\n",
    "plt.plot(eps, arr, color='grey', alpha=0.3)\n",
    "plt.xlabel('Episode')\n",
    "plt.ylabel('Total rewards')"
   ]
  },
  {
   "cell_type": "code",
   "execution_count": 59,
   "metadata": {},
   "outputs": [
    {
     "data": {
      "text/plain": [
       "Text(0, 0.5, 'Total rewards')"
      ]
     },
     "execution_count": 59,
     "metadata": {},
     "output_type": "execute_result"
    },
    {
     "data": {
      "image/png": "[encoded data removed]",
      "text/plain": [
       "<Figure size 432x288 with 1 Axes>"
      ]
     },
     "metadata": {
      "needs_background": "light"
     },
     "output_type": "display_data"
    }
   ],
   "source": [
    "eps, arr = np.array(episode_rewards_list).T\n",
    "smoothed_arr = running_mean(arr, 10)\n",
    "plt.plot(eps[-len(smoothed_arr):], smoothed_arr)\n",
    "plt.plot(eps, arr, color='grey', alpha=0.3)\n",
    "plt.xlabel('Episode')\n",
    "plt.ylabel('Total rewards')"
   ]
  },
  {
   "cell_type": "code",
   "execution_count": 20,
   "metadata": {},
   "outputs": [
    {
     "data": {
      "text/plain": [
       "Text(0, 0.5, 'Total rewards')"
      ]
     },
     "execution_count": 20,
     "metadata": {},
     "output_type": "execute_result"
    },
    {
     "data": {
      "image/png": "[encoded data removed]",
      "text/plain": [
       "<Figure size 432x288 with 1 Axes>"
      ]
     },
     "metadata": {
      "needs_background": "light"
     },
     "output_type": "display_data"
    }
   ],
   "source": [
    "eps, arr = np.array(rewards_list).T\n",
    "smoothed_arr = running_mean(arr, 10)\n",
    "plt.plot(eps[-len(smoothed_arr):], smoothed_arr)\n",
    "plt.plot(eps, arr, color='grey', alpha=0.3)\n",
    "plt.xlabel('Episode')\n",
    "plt.ylabel('Total rewards')"
   ]
  },
  {
   "cell_type": "code",
   "execution_count": 61,
   "metadata": {},
   "outputs": [
    {
     "data": {
      "text/plain": [
       "Text(0, 0.5, 'Total rewards')"
      ]
     },
     "execution_count": 61,
     "metadata": {},
     "output_type": "execute_result"
    },
    {
     "data": {
      "image/png": "[encoded data removed]",
      "text/plain": [
       "<Figure size 432x288 with 1 Axes>"
      ]
     },
     "metadata": {
      "needs_background": "light"
     },
     "output_type": "display_data"
    }
   ],
   "source": [
    "eps, arr = np.array(rewards_list).T\n",
    "smoothed_arr = running_mean(arr, 10)\n",
    "plt.plot(eps[-len(smoothed_arr):], smoothed_arr)\n",
    "plt.plot(eps, arr, color='grey', alpha=0.3)\n",
    "plt.xlabel('Episode')\n",
    "plt.ylabel('Total rewards')"
   ]
  },
  {
   "cell_type": "code",
   "execution_count": null,
   "metadata": {},
   "outputs": [],
   "source": [
    "eps, arr = np.array(gloss_list).T\n",
    "smoothed_arr = running_mean(arr, 10)\n",
    "plt.plot(eps[-len(smoothed_arr):], smoothed_arr)\n",
    "plt.plot(eps, arr, color='grey', alpha=0.3)\n",
    "plt.xlabel('Episode')\n",
    "plt.ylabel('G losses')`"
   ]
  },
  {
   "cell_type": "code",
   "execution_count": null,
   "metadata": {},
   "outputs": [],
   "source": [
    "eps, arr = np.array(dloss_list).T\n",
    "smoothed_arr = running_mean(arr, 10)\n",
    "plt.plot(eps[-len(smoothed_arr):], smoothed_arr)\n",
    "plt.plot(eps, arr, color='grey', alpha=0.3)\n",
    "plt.xlabel('Episode')\n",
    "plt.ylabel('D losses')"
   ]
  },
  {
   "cell_type": "markdown",
   "metadata": {},
   "source": [
    "## Testing\n",
    "\n",
    "Let's checkout how our trained agent plays the game."
   ]
  },
  {
   "cell_type": "code",
   "execution_count": 22,
   "metadata": {},
   "outputs": [
    {
     "name": "stdout",
     "output_type": "stream",
     "text": [
      "INFO:tensorflow:Restoring parameters from checkpoints/model.ckpt\n",
      "total_reward: 500.0\n",
      "total_reward: 500.0\n",
      "total_reward: 500.0\n",
      "total_reward: 500.0\n",
      "total_reward: 500.0\n",
      "total_reward: 500.0\n",
      "total_reward: 500.0\n",
      "total_reward: 500.0\n",
      "total_reward: 500.0\n",
      "total_reward: 500.0\n",
      "total_reward: 500.0\n"
     ]
    }
   ],
   "source": [
    "import gym\n",
    "env = gym.make('CartPole-v0')\n",
    "env = gym.make('CartPole-v1')\n",
    "# env = gym.make('Acrobot-v1')\n",
    "# env = gym.make('MountainCar-v0')\n",
    "# env = gym.make('Pendulum-v0')\n",
    "# env = gym.make('Blackjack-v0')\n",
    "# env = gym.make('FrozenLake-v0')\n",
    "# env = gym.make('AirRaid-ram-v0')\n",
    "# env = gym.make('AirRaid-v0')\n",
    "# env = gym.make('BipedalWalker-v2')\n",
    "# env = gym.make('Copy-v0')\n",
    "# env = gym.make('CarRacing-v0')\n",
    "# env = gym.make('Ant-v2') #mujoco\n",
    "# env = gym.make('FetchPickAndPlace-v1') # mujoco required!\n",
    "\n",
    "with tf.Session() as sess:\n",
    "    sess.run(tf.global_variables_initializer())\n",
    "    saver.restore(sess, 'checkpoints/model.ckpt')    \n",
    "    #saver.restore(sess, tf.train.latest_checkpoint('checkpoints'))\n",
    "    \n",
    "    # Episodes/epochs\n",
    "    for _ in range(11):\n",
    "        state = env.reset()\n",
    "        total_reward = 0\n",
    "\n",
    "        # Steps/batches\n",
    "        while True:\n",
    "            env.render()\n",
    "            action_logits = sess.run(model.actions_logits, feed_dict={model.states: state.reshape([1, -1])})\n",
    "            action = np.argmax(action_logits)\n",
    "            state, reward, done, _ = env.step(action)\n",
    "            total_reward += reward\n",
    "            if done:\n",
    "                print('total_reward: {}'.format(total_reward))\n",
    "                break\n",
    "                \n",
    "env.close()"
   ]
  },
  {
   "cell_type": "markdown",
   "metadata": {},
   "source": [
    "## Extending this\n",
    "\n",
    "So, Cart-Pole is a pretty simple game. However, the same model can be used to train an agent to play something much more complicated like Pong or Space Invaders. Instead of a state like we're using here though, you'd want to use convolutional layers to get the state from the screen images.\n",
    "\n",
    "![Deep Q-Learning Atari](assets/atari-network.png)\n",
    "\n",
    "I'll leave it as a challenge for you to use deep Q-learning to train an agent to play Atari games. Here's the original paper which will get you started: http://www.davidqiu.com:8888/research/nature14236.pdf."
   ]
  },
  {
   "cell_type": "code",
   "execution_count": null,
   "metadata": {},
   "outputs": [],
   "source": []
  }
 ],
 "metadata": {
  "kernelspec": {
   "display_name": "Python 3",
   "language": "python",
   "name": "python3"
  },
  "language_info": {
   "codemirror_mode": {
    "name": "ipython",
    "version": 3
   },
   "file_extension": ".py",
   "mimetype": "text/x-python",
   "name": "python",
   "nbconvert_exporter": "python",
   "pygments_lexer": "ipython3",
   "version": "3.6.6"
  }
 },
 "nbformat": 4,
 "nbformat_minor": 2
}
