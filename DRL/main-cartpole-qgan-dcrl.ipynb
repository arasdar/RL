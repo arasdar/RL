{
 "cells": [
  {
   "cell_type": "code",
   "execution_count": 43,
   "metadata": {},
   "outputs": [
    {
     "name": "stdout",
     "output_type": "stream",
     "text": [
      "TensorFlow Version: 1.7.1\n",
      "Default GPU Device: \n"
     ]
    }
   ],
   "source": [
    "import tensorflow as tf\n",
    "print('TensorFlow Version: {}'.format(tf.__version__))\n",
    "print('Default GPU Device: {}'.format(tf.test.gpu_device_name()))"
   ]
  },
  {
   "cell_type": "markdown",
   "metadata": {},
   "source": [
    "##### >**Note:** Make sure you have OpenAI Gym cloned. Then run this command `pip install -e gym/[all]`."
   ]
  },
  {
   "cell_type": "code",
   "execution_count": 44,
   "metadata": {},
   "outputs": [],
   "source": [
    "import numpy as np\n",
    "import gym\n",
    "env = gym.make('CartPole-v0')\n",
    "env = gym.make('CartPole-v1')"
   ]
  },
  {
   "cell_type": "code",
   "execution_count": 45,
   "metadata": {},
   "outputs": [],
   "source": [
    "def model_input(state_size):\n",
    "    #states = tf.placeholder(tf.float32, [None, *state_size], name='states')\n",
    "    states = tf.placeholder(tf.float32, [None, state_size], name='states')\n",
    "    actions = tf.placeholder(tf.int32, [None], name='actions')\n",
    "    next_states = tf.placeholder(tf.float32, [None, state_size], name='next_states')\n",
    "    rewards = tf.placeholder(tf.float32, [None], name='rewards')\n",
    "    dones = tf.placeholder(tf.float32, [None], name='dones')\n",
    "    rates = tf.placeholder(tf.float32, [None], name='rates') # success rate\n",
    "    return states, actions, next_states, rewards, dones, rates"
   ]
  },
  {
   "cell_type": "code",
   "execution_count": 46,
   "metadata": {},
   "outputs": [],
   "source": [
    "def actor(states, action_size, hidden_size, reuse=False, alpha=0.1, training=False):\n",
    "    with tf.variable_scope('actor', reuse=reuse):\n",
    "        # First fully connected layer\n",
    "        h1 = tf.layers.dense(inputs=states, units=hidden_size)\n",
    "        bn1 = tf.layers.batch_normalization(h1, training=training)        \n",
    "        nl1 = tf.maximum(alpha * bn1, bn1)\n",
    "        \n",
    "        # Second fully connected layer\n",
    "        h2 = tf.layers.dense(inputs=nl1, units=hidden_size)\n",
    "        bn2 = tf.layers.batch_normalization(h2, training=training)        \n",
    "        nl2 = tf.maximum(alpha * bn2, bn2)\n",
    "        \n",
    "        # Output layer\n",
    "        logits = tf.layers.dense(inputs=nl2, units=action_size)        \n",
    "        return logits"
   ]
  },
  {
   "cell_type": "code",
   "execution_count": 47,
   "metadata": {},
   "outputs": [],
   "source": [
    "def generator(actions, state_size, hidden_size, reuse=False, alpha=0.1, training=False):\n",
    "    with tf.variable_scope('generator', reuse=reuse):\n",
    "        # First fully connected layer\n",
    "        h1 = tf.layers.dense(inputs=actions, units=hidden_size)\n",
    "        bn1 = tf.layers.batch_normalization(h1, training=training)        \n",
    "        nl1 = tf.maximum(alpha * bn1, bn1)\n",
    "        \n",
    "        # Second fully connected layer\n",
    "        h2 = tf.layers.dense(inputs=nl1, units=hidden_size)\n",
    "        bn2 = tf.layers.batch_normalization(h2, training=training)        \n",
    "        nl2 = tf.maximum(alpha * bn2, bn2)\n",
    "        \n",
    "        # Output layer\n",
    "        logits = tf.layers.dense(inputs=nl2, units=state_size)        \n",
    "        return logits"
   ]
  },
  {
   "cell_type": "code",
   "execution_count": 48,
   "metadata": {},
   "outputs": [],
   "source": [
    "def discriminator(states, actions, action_size, hidden_size, reuse=False, alpha=0.1, training=False):\n",
    "    with tf.variable_scope('discriminator', reuse=reuse):\n",
    "        # First fully connected layer\n",
    "        h1 = tf.layers.dense(inputs=states, units=action_size)\n",
    "        bn1 = tf.layers.batch_normalization(h1, training=training)        \n",
    "        nl1 = tf.maximum(alpha * bn1, bn1)\n",
    "        \n",
    "        # Second fully connected layer\n",
    "        nl1_fused = tf.concat(axis=1, values=[nl1, actions])\n",
    "        h2 = tf.layers.dense(inputs=nl1_fused, units=hidden_size)\n",
    "        bn2 = tf.layers.batch_normalization(h2, training=training)        \n",
    "        nl2 = tf.maximum(alpha * bn2, bn2)\n",
    "                \n",
    "        # Output layer\n",
    "        logits = tf.layers.dense(inputs=nl2, units=1)        \n",
    "        return logits"
   ]
  },
  {
   "cell_type": "code",
   "execution_count": 49,
   "metadata": {},
   "outputs": [],
   "source": [
    "def model_loss(state_size, action_size, hidden_size, \n",
    "               states, actions, next_states, rewards, dones, rates):\n",
    "    actions_logits = actor(states=states, hidden_size=hidden_size, action_size=action_size)\n",
    "    actions_labels = tf.one_hot(indices=actions, depth=action_size, dtype=actions_logits.dtype)\n",
    "    aloss = tf.reduce_mean(tf.nn.softmax_cross_entropy_with_logits_v2(logits=actions_logits, \n",
    "                                                                      labels=actions_labels))\n",
    "    ###############################################\n",
    "    next_states_logits = generator(actions=actions_logits, hidden_size=hidden_size, state_size=state_size)\n",
    "    next_states_labels = tf.nn.sigmoid(next_states)\n",
    "    aloss += tf.reduce_mean(tf.nn.sigmoid_cross_entropy_with_logits(logits=next_states_logits, \n",
    "                                                                    labels=next_states_labels))\n",
    "    ####################################################\n",
    "    Qs = discriminator(actions=actions_labels, hidden_size=hidden_size, states=states, action_size=action_size)\n",
    "    rates = tf.reshape(rates, shape=[-1, 1])\n",
    "    dloss = tf.reduce_mean(tf.nn.sigmoid_cross_entropy_with_logits(logits=Qs, # GAN\n",
    "                                                                   labels=rates)) # 0-1\n",
    "    ############################################################################\n",
    "    next_actions_logits = actor(states=next_states, hidden_size=hidden_size, action_size=action_size, reuse=True)\n",
    "    nextQs_logits = discriminator(actions=next_actions_logits, hidden_size=hidden_size, states=next_states, \n",
    "                                  action_size=action_size, reuse=True)\n",
    "    nextQs = tf.reshape(nextQs_logits, shape=[-1]) * dones\n",
    "    targetQs = rewards + (0.99 * nextQs)\n",
    "    aloss2 = tf.reduce_mean(tf.square(Qs - targetQs)) # DQN\n",
    "    return actions_logits, aloss, dloss, aloss2"
   ]
  },
  {
   "cell_type": "code",
   "execution_count": 50,
   "metadata": {},
   "outputs": [],
   "source": [
    "def model_opt(a_loss, a_loss2, d_loss, a_learning_rate, d_learning_rate):\n",
    "    # Get weights and bias to update\n",
    "    t_vars = tf.trainable_variables()\n",
    "    a_vars = [var for var in t_vars if var.name.startswith('actor')]\n",
    "    g_vars = [var for var in t_vars if var.name.startswith('generator')]\n",
    "    d_vars = [var for var in t_vars if var.name.startswith('discriminator')]\n",
    "\n",
    "    # Optimize\n",
    "    with tf.control_dependencies(tf.get_collection(tf.GraphKeys.UPDATE_OPS)): # Required for batchnorm (BN)\n",
    "        a_opt = tf.train.AdamOptimizer(a_learning_rate).minimize(a_loss, var_list=a_vars)\n",
    "        d_opt = tf.train.AdamOptimizer(d_learning_rate).minimize(d_loss, var_list=d_vars)\n",
    "        a_opt2 = tf.train.AdamOptimizer(a_learning_rate).minimize(a_loss2, var_list=a_vars)\n",
    "    return a_opt, d_opt, a_opt2"
   ]
  },
  {
   "cell_type": "code",
   "execution_count": 51,
   "metadata": {},
   "outputs": [],
   "source": [
    "class Model:\n",
    "    def __init__(self, state_size, action_size, hidden_size, a_learning_rate, d_learning_rate):\n",
    "\n",
    "        # Data of the Model: make the data available inside the framework\n",
    "        self.states, self.actions, self.next_states, self.rewards, self.dones, self.rates = model_input(\n",
    "            state_size=state_size)\n",
    "\n",
    "        # Create the Model: calculating the loss and forwad pass\n",
    "        self.actions_logits, self.a_loss, self.d_loss, self.a_loss2 = model_loss(\n",
    "            state_size=state_size, action_size=action_size, hidden_size=hidden_size, # model init\n",
    "            states=self.states, actions=self.actions, next_states=self.next_states, #model input \n",
    "            rewards=self.rewards, dones=self.dones, rates=self.rates) # model input\n",
    "        \n",
    "        # Update the model: backward pass and backprop\n",
    "        self.a_opt, self.d_opt, self.a_opt2 = model_opt(a_loss=self.a_loss, \n",
    "                                                        a_loss2=self.a_loss2, \n",
    "                                                        d_loss=self.d_loss,\n",
    "                                                        a_learning_rate=a_learning_rate,\n",
    "                                                        d_learning_rate=d_learning_rate)"
   ]
  },
  {
   "cell_type": "code",
   "execution_count": 52,
   "metadata": {},
   "outputs": [],
   "source": [
    "from collections import deque\n",
    "class Memory():\n",
    "    def __init__(self, max_size = 1000):\n",
    "        self.buffer = deque(maxlen=max_size) # data batch\n",
    "        self.rates = deque(maxlen=max_size) # rates\n",
    "#     def sample(self, batch_size):\n",
    "#         idx = np.random.choice(np.arange(len(self.buffer)), # ==  self.rates\n",
    "#                                size=batch_size, \n",
    "#                                replace=False)\n",
    "#         return [self.buffer[ii] for ii in idx], [self.rates[ii] for ii in idx]"
   ]
  },
  {
   "cell_type": "markdown",
   "metadata": {},
   "source": [
    "## Hyperparameters\n",
    "\n",
    "One of the more difficult aspects of reinforcememt learning are the large number of hyperparameters. Not only are we tuning the network, but we're tuning the simulation."
   ]
  },
  {
   "cell_type": "code",
   "execution_count": 53,
   "metadata": {},
   "outputs": [
    {
     "data": {
      "text/plain": [
       "(Box(4,), Discrete(2))"
      ]
     },
     "execution_count": 53,
     "metadata": {},
     "output_type": "execute_result"
    }
   ],
   "source": [
    "env.observation_space, env.action_space"
   ]
  },
  {
   "cell_type": "code",
   "execution_count": 54,
   "metadata": {},
   "outputs": [],
   "source": [
    "# Exploration parameters\n",
    "explore_start = 1.0            # exploration probability at start\n",
    "explore_stop = 0.01           # minimum exploration probability \n",
    "decay_rate = 0.0001            # exponential decay rate for exploration prob\n",
    "\n",
    "# Network parameters\n",
    "state_size = 4\n",
    "action_size = 2\n",
    "hidden_size = 4*2             # number of units in each Q-network hidden layer\n",
    "a_learning_rate = 1e-4         # Q-network learning rate\n",
    "d_learning_rate = 1e-4         # Q-network learning rate\n",
    "\n",
    "# Memory parameters\n",
    "memory_size = int(1e5)            # memory capacity\n",
    "batch_size = int(1e3)             # experience mini-batch size: 200/500 a successfull episode size\n",
    "gamma = 0.99                   # future reward discount"
   ]
  },
  {
   "cell_type": "code",
   "execution_count": 55,
   "metadata": {},
   "outputs": [],
   "source": [
    "# Reset/init the graph/session\n",
    "graph = tf.reset_default_graph()\n",
    "\n",
    "# Init the model\n",
    "model = Model(action_size=action_size, state_size=state_size, hidden_size=hidden_size,\n",
    "              a_learning_rate=a_learning_rate, d_learning_rate=d_learning_rate)\n",
    "\n",
    "# Init the memory\n",
    "memory = Memory(max_size=memory_size)"
   ]
  },
  {
   "cell_type": "code",
   "execution_count": 56,
   "metadata": {},
   "outputs": [],
   "source": [
    "state = env.reset()\n",
    "total_reward = 0\n",
    "num_step = 0\n",
    "for _ in range(memory_size):\n",
    "    action = env.action_space.sample()\n",
    "    next_state, reward, done, _ = env.step(action)\n",
    "    memory.buffer.append([state, action, next_state, reward, float(done)])\n",
    "    memory.rates.append(-1) # empty\n",
    "    num_step += 1 # memory incremented\n",
    "    total_reward += reward\n",
    "    state = next_state\n",
    "    if done is True:\n",
    "        state = env.reset()\n",
    "        rate = total_reward/500\n",
    "        total_reward = 0 # reset\n",
    "        for idx in range(num_step): # episode length\n",
    "            if memory.rates[-1-idx] == -1:\n",
    "                memory.rates[-1-idx] = rate\n",
    "        num_step = 0 # reset"
   ]
  },
  {
   "cell_type": "markdown",
   "metadata": {},
   "source": [
    "## Training the model\n",
    "\n",
    "Below we'll train our agent. If you want to watch it train, uncomment the `env.render()` line. This is slow because it's rendering the frames slower than the network can train. But, it's cool to watch the agent get better at the game."
   ]
  },
  {
   "cell_type": "code",
   "execution_count": null,
   "metadata": {},
   "outputs": [
    {
     "name": "stdout",
     "output_type": "stream",
     "text": [
      "Episode:0 meanR:18.0000 R:18.0000 rate:0.0360 aloss:1.3893 dloss:0.9136 aloss2:0.2733 exploreP:0.9982\n",
      "Episode:1 meanR:34.0000 R:50.0000 rate:0.1000 aloss:1.3880 dloss:0.8958 aloss2:0.3089 exploreP:0.9933\n",
      "Episode:2 meanR:31.3333 R:26.0000 rate:0.0520 aloss:1.3857 dloss:0.8809 aloss2:0.3464 exploreP:0.9907\n",
      "Episode:3 meanR:32.2500 R:35.0000 rate:0.0700 aloss:1.3854 dloss:0.8577 aloss2:0.3903 exploreP:0.9873\n",
      "Episode:4 meanR:29.8000 R:20.0000 rate:0.0400 aloss:1.3826 dloss:0.8473 aloss2:0.4153 exploreP:0.9854\n",
      "Episode:5 meanR:27.0000 R:13.0000 rate:0.0260 aloss:1.3803 dloss:0.8481 aloss2:0.4244 exploreP:0.9841\n",
      "Episode:6 meanR:26.4286 R:23.0000 rate:0.0460 aloss:1.3801 dloss:0.8438 aloss2:0.4318 exploreP:0.9819\n",
      "Episode:7 meanR:24.7500 R:13.0000 rate:0.0260 aloss:1.3831 dloss:0.8262 aloss2:0.4701 exploreP:0.9806\n",
      "Episode:8 meanR:27.0000 R:45.0000 rate:0.0900 aloss:1.3793 dloss:0.8151 aloss2:0.5080 exploreP:0.9762\n",
      "Episode:9 meanR:29.0000 R:47.0000 rate:0.0940 aloss:1.3803 dloss:0.7888 aloss2:0.5916 exploreP:0.9717\n",
      "Episode:10 meanR:28.6364 R:25.0000 rate:0.0500 aloss:1.3785 dloss:0.7787 aloss2:0.6215 exploreP:0.9693\n",
      "Episode:11 meanR:27.8333 R:19.0000 rate:0.0380 aloss:1.3777 dloss:0.7632 aloss2:0.6830 exploreP:0.9675\n",
      "Episode:12 meanR:27.0769 R:18.0000 rate:0.0360 aloss:1.3806 dloss:0.7546 aloss2:0.7169 exploreP:0.9658\n",
      "Episode:13 meanR:27.4286 R:32.0000 rate:0.0640 aloss:1.3829 dloss:0.7538 aloss2:0.7151 exploreP:0.9627\n",
      "Episode:14 meanR:27.0000 R:21.0000 rate:0.0420 aloss:1.3787 dloss:0.7349 aloss2:0.8074 exploreP:0.9607\n",
      "Episode:15 meanR:26.3125 R:16.0000 rate:0.0320 aloss:1.3768 dloss:0.7255 aloss2:0.8387 exploreP:0.9592\n",
      "Episode:16 meanR:26.4706 R:29.0000 rate:0.0580 aloss:1.3782 dloss:0.7258 aloss2:0.8423 exploreP:0.9564\n",
      "Episode:17 meanR:26.0556 R:19.0000 rate:0.0380 aloss:1.3780 dloss:0.7221 aloss2:0.8566 exploreP:0.9546\n",
      "Episode:18 meanR:26.3684 R:32.0000 rate:0.0640 aloss:1.3786 dloss:0.7064 aloss2:0.9356 exploreP:0.9516\n",
      "Episode:19 meanR:27.6000 R:51.0000 rate:0.1020 aloss:1.3786 dloss:0.6882 aloss2:1.0375 exploreP:0.9468\n",
      "Episode:20 meanR:27.0952 R:17.0000 rate:0.0340 aloss:1.3744 dloss:0.6796 aloss2:1.0902 exploreP:0.9452\n",
      "Episode:21 meanR:27.1818 R:29.0000 rate:0.0580 aloss:1.3811 dloss:0.6790 aloss2:1.0882 exploreP:0.9425\n",
      "Episode:22 meanR:27.0000 R:23.0000 rate:0.0460 aloss:1.3794 dloss:0.6606 aloss2:1.2010 exploreP:0.9404\n",
      "Episode:23 meanR:26.5417 R:16.0000 rate:0.0320 aloss:1.3775 dloss:0.6572 aloss2:1.2423 exploreP:0.9389\n",
      "Episode:24 meanR:26.0800 R:15.0000 rate:0.0300 aloss:1.3756 dloss:0.6412 aloss2:1.3544 exploreP:0.9375\n",
      "Episode:25 meanR:26.1923 R:29.0000 rate:0.0580 aloss:1.3793 dloss:0.6452 aloss2:1.3130 exploreP:0.9348\n",
      "Episode:26 meanR:26.1111 R:24.0000 rate:0.0480 aloss:1.3751 dloss:0.6327 aloss2:1.4331 exploreP:0.9326\n",
      "Episode:27 meanR:25.8214 R:18.0000 rate:0.0360 aloss:1.3756 dloss:0.6269 aloss2:1.4609 exploreP:0.9309\n",
      "Episode:28 meanR:25.5517 R:18.0000 rate:0.0360 aloss:1.3752 dloss:0.6210 aloss2:1.5179 exploreP:0.9293\n",
      "Episode:29 meanR:25.3333 R:19.0000 rate:0.0380 aloss:1.3849 dloss:0.6261 aloss2:1.4828 exploreP:0.9275\n",
      "Episode:30 meanR:24.9032 R:12.0000 rate:0.0240 aloss:1.3828 dloss:0.6215 aloss2:1.4856 exploreP:0.9264\n",
      "Episode:31 meanR:24.6250 R:16.0000 rate:0.0320 aloss:1.3786 dloss:0.6215 aloss2:1.4899 exploreP:0.9250\n",
      "Episode:32 meanR:24.3636 R:16.0000 rate:0.0320 aloss:1.3784 dloss:0.6132 aloss2:1.5411 exploreP:0.9235\n",
      "Episode:33 meanR:25.8529 R:75.0000 rate:0.1500 aloss:1.3752 dloss:0.5984 aloss2:1.7208 exploreP:0.9167\n",
      "Episode:34 meanR:25.6857 R:20.0000 rate:0.0400 aloss:1.3653 dloss:0.5871 aloss2:1.8419 exploreP:0.9149\n",
      "Episode:35 meanR:25.6389 R:24.0000 rate:0.0480 aloss:1.3722 dloss:0.5752 aloss2:1.9740 exploreP:0.9127\n",
      "Episode:36 meanR:26.2703 R:49.0000 rate:0.0980 aloss:1.3779 dloss:0.5732 aloss2:1.9680 exploreP:0.9083\n",
      "Episode:37 meanR:26.7105 R:43.0000 rate:0.0860 aloss:1.3727 dloss:0.5605 aloss2:2.1388 exploreP:0.9044\n",
      "Episode:38 meanR:26.4103 R:15.0000 rate:0.0300 aloss:1.3772 dloss:0.5594 aloss2:2.1561 exploreP:0.9031\n",
      "Episode:39 meanR:26.1000 R:14.0000 rate:0.0280 aloss:1.3737 dloss:0.5423 aloss2:2.3688 exploreP:0.9019\n",
      "Episode:40 meanR:25.7073 R:10.0000 rate:0.0200 aloss:1.3727 dloss:0.5464 aloss2:2.3188 exploreP:0.9010\n",
      "Episode:41 meanR:25.3571 R:11.0000 rate:0.0220 aloss:1.3778 dloss:0.5484 aloss2:2.3713 exploreP:0.9000\n",
      "Episode:42 meanR:25.2326 R:20.0000 rate:0.0400 aloss:1.3704 dloss:0.5340 aloss2:2.4874 exploreP:0.8982\n",
      "Episode:43 meanR:25.5682 R:40.0000 rate:0.0800 aloss:1.3767 dloss:0.5382 aloss2:2.4344 exploreP:0.8947\n",
      "Episode:44 meanR:25.3111 R:14.0000 rate:0.0280 aloss:1.3711 dloss:0.5170 aloss2:2.6242 exploreP:0.8934\n",
      "Episode:45 meanR:25.5652 R:37.0000 rate:0.0740 aloss:1.3735 dloss:0.5238 aloss2:2.6213 exploreP:0.8902\n",
      "Episode:46 meanR:25.5106 R:23.0000 rate:0.0460 aloss:1.3767 dloss:0.5188 aloss2:2.6865 exploreP:0.8881\n",
      "Episode:47 meanR:25.3958 R:20.0000 rate:0.0400 aloss:1.3784 dloss:0.5188 aloss2:2.7900 exploreP:0.8864\n",
      "Episode:48 meanR:25.1837 R:15.0000 rate:0.0300 aloss:1.3764 dloss:0.5199 aloss2:2.8163 exploreP:0.8851\n",
      "Episode:49 meanR:25.5400 R:43.0000 rate:0.0860 aloss:1.3718 dloss:0.5045 aloss2:2.9918 exploreP:0.8813\n",
      "Episode:50 meanR:25.3137 R:14.0000 rate:0.0280 aloss:1.3797 dloss:0.5066 aloss2:2.8577 exploreP:0.8801\n",
      "Episode:51 meanR:25.8462 R:53.0000 rate:0.1060 aloss:1.3726 dloss:0.4914 aloss2:3.2205 exploreP:0.8755\n",
      "Episode:52 meanR:25.5849 R:12.0000 rate:0.0240 aloss:1.3708 dloss:0.4837 aloss2:3.3024 exploreP:0.8745\n",
      "Episode:53 meanR:25.9259 R:44.0000 rate:0.0880 aloss:1.3766 dloss:0.4877 aloss2:3.2825 exploreP:0.8707\n",
      "Episode:54 meanR:26.1273 R:37.0000 rate:0.0740 aloss:1.3882 dloss:0.4830 aloss2:3.4200 exploreP:0.8675\n",
      "Episode:55 meanR:25.9464 R:16.0000 rate:0.0320 aloss:1.3721 dloss:0.4794 aloss2:3.5682 exploreP:0.8661\n",
      "Episode:56 meanR:25.7719 R:16.0000 rate:0.0320 aloss:1.3767 dloss:0.4828 aloss2:3.6286 exploreP:0.8647\n",
      "Episode:57 meanR:25.9828 R:38.0000 rate:0.0760 aloss:1.3782 dloss:0.4743 aloss2:3.6632 exploreP:0.8615\n",
      "Episode:58 meanR:25.7966 R:15.0000 rate:0.0300 aloss:1.3796 dloss:0.4608 aloss2:3.7990 exploreP:0.8602\n",
      "Episode:59 meanR:25.7000 R:20.0000 rate:0.0400 aloss:1.3770 dloss:0.4665 aloss2:3.7381 exploreP:0.8585\n",
      "Episode:60 meanR:25.5574 R:17.0000 rate:0.0340 aloss:1.3794 dloss:0.4750 aloss2:3.8921 exploreP:0.8571\n",
      "Episode:61 meanR:26.0484 R:56.0000 rate:0.1120 aloss:1.3749 dloss:0.4577 aloss2:4.1308 exploreP:0.8524\n",
      "Episode:62 meanR:26.2857 R:41.0000 rate:0.0820 aloss:1.3709 dloss:0.4465 aloss2:4.4880 exploreP:0.8489\n",
      "Episode:63 meanR:26.0469 R:11.0000 rate:0.0220 aloss:1.3755 dloss:0.4549 aloss2:4.3750 exploreP:0.8480\n",
      "Episode:64 meanR:26.1077 R:30.0000 rate:0.0600 aloss:1.3782 dloss:0.4659 aloss2:4.3644 exploreP:0.8455\n",
      "Episode:65 meanR:26.8636 R:76.0000 rate:0.1520 aloss:1.3729 dloss:0.4502 aloss2:4.8600 exploreP:0.8392\n",
      "Episode:66 meanR:27.4030 R:63.0000 rate:0.1260 aloss:1.3762 dloss:0.4409 aloss2:5.0308 exploreP:0.8339\n",
      "Episode:67 meanR:27.4412 R:30.0000 rate:0.0600 aloss:1.3766 dloss:0.4321 aloss2:5.0913 exploreP:0.8315\n",
      "Episode:68 meanR:27.2754 R:16.0000 rate:0.0320 aloss:1.3794 dloss:0.4329 aloss2:5.0711 exploreP:0.8302\n",
      "Episode:69 meanR:27.1571 R:19.0000 rate:0.0380 aloss:1.3691 dloss:0.4319 aloss2:5.5664 exploreP:0.8286\n",
      "Episode:70 meanR:26.9296 R:11.0000 rate:0.0220 aloss:1.3684 dloss:0.4412 aloss2:5.5843 exploreP:0.8277\n",
      "Episode:71 meanR:26.7778 R:16.0000 rate:0.0320 aloss:1.3670 dloss:0.4544 aloss2:5.3698 exploreP:0.8264\n",
      "Episode:72 meanR:26.6301 R:16.0000 rate:0.0320 aloss:1.3742 dloss:0.4447 aloss2:5.6411 exploreP:0.8251\n",
      "Episode:73 meanR:26.5000 R:17.0000 rate:0.0340 aloss:1.3868 dloss:0.4209 aloss2:5.4765 exploreP:0.8237\n",
      "Episode:74 meanR:26.2933 R:11.0000 rate:0.0220 aloss:1.3701 dloss:0.4315 aloss2:5.7280 exploreP:0.8228\n",
      "Episode:75 meanR:26.3158 R:28.0000 rate:0.0560 aloss:1.3744 dloss:0.4307 aloss2:5.5811 exploreP:0.8205\n",
      "Episode:76 meanR:26.1688 R:15.0000 rate:0.0300 aloss:1.3671 dloss:0.4429 aloss2:5.9504 exploreP:0.8193\n",
      "Episode:77 meanR:26.0897 R:20.0000 rate:0.0400 aloss:1.3724 dloss:0.4198 aloss2:5.8633 exploreP:0.8177\n",
      "Episode:78 meanR:26.1519 R:31.0000 rate:0.0620 aloss:1.3740 dloss:0.4166 aloss2:5.9279 exploreP:0.8152\n",
      "Episode:79 meanR:26.1750 R:28.0000 rate:0.0560 aloss:1.3706 dloss:0.4070 aloss2:6.1633 exploreP:0.8130\n"
     ]
    },
    {
     "name": "stdout",
     "output_type": "stream",
     "text": [
      "Episode:80 meanR:25.9753 R:10.0000 rate:0.0200 aloss:1.3736 dloss:0.4569 aloss2:5.8378 exploreP:0.8122\n",
      "Episode:81 meanR:25.9268 R:22.0000 rate:0.0440 aloss:1.3745 dloss:0.4150 aloss2:6.1096 exploreP:0.8104\n",
      "Episode:82 meanR:25.8072 R:16.0000 rate:0.0320 aloss:1.3711 dloss:0.4173 aloss2:5.9782 exploreP:0.8091\n",
      "Episode:83 meanR:27.2500 R:147.0000 rate:0.2940 aloss:1.3747 dloss:0.4131 aloss2:6.4660 exploreP:0.7975\n",
      "Episode:84 meanR:27.1647 R:20.0000 rate:0.0400 aloss:1.3685 dloss:0.4071 aloss2:6.5495 exploreP:0.7959\n",
      "Episode:85 meanR:27.0233 R:15.0000 rate:0.0300 aloss:1.3762 dloss:0.4163 aloss2:6.7601 exploreP:0.7947\n",
      "Episode:86 meanR:27.0000 R:25.0000 rate:0.0500 aloss:1.3788 dloss:0.4159 aloss2:6.6641 exploreP:0.7927\n",
      "Episode:87 meanR:26.9205 R:20.0000 rate:0.0400 aloss:1.3713 dloss:0.4072 aloss2:7.0021 exploreP:0.7912\n",
      "Episode:88 meanR:26.9663 R:31.0000 rate:0.0620 aloss:1.3786 dloss:0.4177 aloss2:6.7413 exploreP:0.7888\n",
      "Episode:89 meanR:26.8556 R:17.0000 rate:0.0340 aloss:1.3641 dloss:0.4134 aloss2:7.3137 exploreP:0.7874\n",
      "Episode:90 meanR:26.7033 R:13.0000 rate:0.0260 aloss:1.3724 dloss:0.4433 aloss2:6.6448 exploreP:0.7864\n",
      "Episode:91 meanR:26.7826 R:34.0000 rate:0.0680 aloss:1.3700 dloss:0.3983 aloss2:7.0867 exploreP:0.7838\n",
      "Episode:92 meanR:26.6344 R:13.0000 rate:0.0260 aloss:1.3761 dloss:0.3998 aloss2:7.3487 exploreP:0.7828\n",
      "Episode:93 meanR:26.7553 R:38.0000 rate:0.0760 aloss:1.3736 dloss:0.4232 aloss2:7.3587 exploreP:0.7799\n",
      "Episode:94 meanR:26.7368 R:25.0000 rate:0.0500 aloss:1.3709 dloss:0.4217 aloss2:7.2601 exploreP:0.7779\n",
      "Episode:95 meanR:26.7292 R:26.0000 rate:0.0520 aloss:1.3727 dloss:0.3957 aloss2:7.4049 exploreP:0.7759\n",
      "Episode:96 meanR:27.1856 R:71.0000 rate:0.1420 aloss:1.3755 dloss:0.3983 aloss2:7.2413 exploreP:0.7705\n",
      "Episode:97 meanR:27.1633 R:25.0000 rate:0.0500 aloss:1.3695 dloss:0.4267 aloss2:7.5261 exploreP:0.7686\n",
      "Episode:98 meanR:27.5253 R:63.0000 rate:0.1260 aloss:1.3742 dloss:0.4112 aloss2:7.2685 exploreP:0.7639\n",
      "Episode:99 meanR:27.6100 R:36.0000 rate:0.0720 aloss:1.3670 dloss:0.4364 aloss2:7.6730 exploreP:0.7611\n",
      "Episode:100 meanR:27.7600 R:33.0000 rate:0.0660 aloss:1.3741 dloss:0.4163 aloss2:7.3927 exploreP:0.7587\n",
      "Episode:101 meanR:27.5000 R:24.0000 rate:0.0480 aloss:1.3731 dloss:0.4124 aloss2:8.0164 exploreP:0.7569\n",
      "Episode:102 meanR:27.4800 R:24.0000 rate:0.0480 aloss:1.3806 dloss:0.4087 aloss2:7.7666 exploreP:0.7551\n",
      "Episode:103 meanR:27.5600 R:43.0000 rate:0.0860 aloss:1.3710 dloss:0.4047 aloss2:7.5766 exploreP:0.7519\n",
      "Episode:104 meanR:27.9200 R:56.0000 rate:0.1120 aloss:1.3788 dloss:0.3988 aloss2:7.8663 exploreP:0.7477\n",
      "Episode:105 meanR:27.9800 R:19.0000 rate:0.0380 aloss:1.3699 dloss:0.4283 aloss2:7.5808 exploreP:0.7463\n",
      "Episode:106 meanR:27.9100 R:16.0000 rate:0.0320 aloss:1.3696 dloss:0.4203 aloss2:7.7134 exploreP:0.7452\n",
      "Episode:107 meanR:28.0100 R:23.0000 rate:0.0460 aloss:1.3648 dloss:0.4078 aloss2:7.9066 exploreP:0.7435\n",
      "Episode:108 meanR:28.0900 R:53.0000 rate:0.1060 aloss:1.3686 dloss:0.4034 aloss2:7.5912 exploreP:0.7396\n",
      "Episode:109 meanR:28.5900 R:97.0000 rate:0.1940 aloss:1.3698 dloss:0.3995 aloss2:7.7612 exploreP:0.7326\n",
      "Episode:110 meanR:29.4200 R:108.0000 rate:0.2160 aloss:1.3686 dloss:0.3933 aloss2:7.9049 exploreP:0.7248\n",
      "Episode:111 meanR:29.4900 R:26.0000 rate:0.0520 aloss:1.3714 dloss:0.4115 aloss2:8.2360 exploreP:0.7229\n",
      "Episode:112 meanR:29.5600 R:25.0000 rate:0.0500 aloss:1.3581 dloss:0.4052 aloss2:7.3245 exploreP:0.7212\n",
      "Episode:113 meanR:29.5500 R:31.0000 rate:0.0620 aloss:1.3638 dloss:0.3998 aloss2:8.2107 exploreP:0.7190\n",
      "Episode:114 meanR:29.5300 R:19.0000 rate:0.0380 aloss:1.3696 dloss:0.3996 aloss2:8.0709 exploreP:0.7176\n",
      "Episode:115 meanR:29.4800 R:11.0000 rate:0.0220 aloss:1.3754 dloss:0.3900 aloss2:8.1809 exploreP:0.7168\n",
      "Episode:116 meanR:29.3300 R:14.0000 rate:0.0280 aloss:1.3615 dloss:0.3894 aloss2:7.7602 exploreP:0.7159\n",
      "Episode:117 meanR:29.8700 R:73.0000 rate:0.1460 aloss:1.3693 dloss:0.3984 aloss2:8.1591 exploreP:0.7107\n",
      "Episode:118 meanR:29.7600 R:21.0000 rate:0.0420 aloss:1.3736 dloss:0.4222 aloss2:7.7927 exploreP:0.7092\n",
      "Episode:119 meanR:30.2000 R:95.0000 rate:0.1900 aloss:1.3712 dloss:0.4104 aloss2:8.0345 exploreP:0.7026\n",
      "Episode:120 meanR:30.4300 R:40.0000 rate:0.0800 aloss:1.3787 dloss:0.4156 aloss2:7.8864 exploreP:0.6999\n",
      "Episode:121 meanR:30.4700 R:33.0000 rate:0.0660 aloss:1.3703 dloss:0.3996 aloss2:8.0465 exploreP:0.6976\n",
      "Episode:122 meanR:30.4000 R:16.0000 rate:0.0320 aloss:1.3655 dloss:0.3947 aloss2:8.1331 exploreP:0.6965\n",
      "Episode:123 meanR:30.5400 R:30.0000 rate:0.0600 aloss:1.3716 dloss:0.4269 aloss2:8.0275 exploreP:0.6944\n",
      "Episode:124 meanR:30.6900 R:30.0000 rate:0.0600 aloss:1.3746 dloss:0.4094 aloss2:7.6594 exploreP:0.6924\n",
      "Episode:125 meanR:32.3300 R:193.0000 rate:0.3860 aloss:1.3717 dloss:0.4061 aloss2:7.9366 exploreP:0.6793\n",
      "Episode:126 meanR:33.1900 R:110.0000 rate:0.2200 aloss:1.3709 dloss:0.4055 aloss2:7.5407 exploreP:0.6720\n",
      "Episode:127 meanR:33.2300 R:22.0000 rate:0.0440 aloss:1.3663 dloss:0.4066 aloss2:7.8523 exploreP:0.6706\n",
      "Episode:128 meanR:33.5100 R:46.0000 rate:0.0920 aloss:1.3689 dloss:0.4337 aloss2:8.0876 exploreP:0.6675\n",
      "Episode:129 meanR:33.7200 R:40.0000 rate:0.0800 aloss:1.3708 dloss:0.3914 aloss2:7.7695 exploreP:0.6649\n",
      "Episode:130 meanR:34.5400 R:94.0000 rate:0.1880 aloss:1.3702 dloss:0.3962 aloss2:8.0010 exploreP:0.6588\n",
      "Episode:131 meanR:35.0800 R:70.0000 rate:0.1400 aloss:1.3644 dloss:0.4199 aloss2:7.9479 exploreP:0.6543\n",
      "Episode:132 meanR:35.1300 R:21.0000 rate:0.0420 aloss:1.3647 dloss:0.3914 aloss2:7.7462 exploreP:0.6529\n",
      "Episode:133 meanR:34.5800 R:20.0000 rate:0.0400 aloss:1.3824 dloss:0.3941 aloss2:7.3865 exploreP:0.6516\n",
      "Episode:134 meanR:35.1400 R:76.0000 rate:0.1520 aloss:1.3678 dloss:0.4165 aloss2:7.8073 exploreP:0.6468\n",
      "Episode:135 meanR:35.2900 R:39.0000 rate:0.0780 aloss:1.3735 dloss:0.4059 aloss2:7.6435 exploreP:0.6443\n",
      "Episode:136 meanR:34.9700 R:17.0000 rate:0.0340 aloss:1.3665 dloss:0.3995 aloss2:7.9527 exploreP:0.6432\n",
      "Episode:137 meanR:34.9300 R:39.0000 rate:0.0780 aloss:1.3673 dloss:0.4073 aloss2:7.8874 exploreP:0.6407\n",
      "Episode:138 meanR:34.9500 R:17.0000 rate:0.0340 aloss:1.3735 dloss:0.4301 aloss2:7.8580 exploreP:0.6397\n",
      "Episode:139 meanR:34.9900 R:18.0000 rate:0.0360 aloss:1.3794 dloss:0.3777 aloss2:7.7637 exploreP:0.6385\n",
      "Episode:140 meanR:35.4600 R:57.0000 rate:0.1140 aloss:1.3750 dloss:0.4076 aloss2:7.6202 exploreP:0.6350\n",
      "Episode:141 meanR:35.5900 R:24.0000 rate:0.0480 aloss:1.3658 dloss:0.4038 aloss2:7.5332 exploreP:0.6335\n",
      "Episode:142 meanR:35.8800 R:49.0000 rate:0.0980 aloss:1.3668 dloss:0.4144 aloss2:7.8125 exploreP:0.6304\n",
      "Episode:143 meanR:35.8200 R:34.0000 rate:0.0680 aloss:1.3651 dloss:0.4096 aloss2:7.7784 exploreP:0.6283\n",
      "Episode:144 meanR:36.0400 R:36.0000 rate:0.0720 aloss:1.3604 dloss:0.3976 aloss2:7.7341 exploreP:0.6261\n",
      "Episode:145 meanR:36.5400 R:87.0000 rate:0.1740 aloss:1.3691 dloss:0.3987 aloss2:7.8498 exploreP:0.6208\n",
      "Episode:146 meanR:36.7800 R:47.0000 rate:0.0940 aloss:1.3639 dloss:0.4038 aloss2:7.9002 exploreP:0.6179\n",
      "Episode:147 meanR:38.0200 R:144.0000 rate:0.2880 aloss:1.3659 dloss:0.4081 aloss2:7.8324 exploreP:0.6092\n",
      "Episode:148 meanR:40.3200 R:245.0000 rate:0.4900 aloss:1.3648 dloss:0.4051 aloss2:7.8153 exploreP:0.5947\n",
      "Episode:149 meanR:41.2400 R:135.0000 rate:0.2700 aloss:1.3641 dloss:0.4208 aloss2:7.6025 exploreP:0.5869\n",
      "Episode:150 meanR:41.6200 R:52.0000 rate:0.1040 aloss:1.3644 dloss:0.4134 aloss2:7.6403 exploreP:0.5839\n",
      "Episode:151 meanR:41.3700 R:28.0000 rate:0.0560 aloss:1.3703 dloss:0.4344 aloss2:7.4079 exploreP:0.5823\n",
      "Episode:152 meanR:42.6200 R:137.0000 rate:0.2740 aloss:1.3653 dloss:0.4097 aloss2:7.5998 exploreP:0.5745\n",
      "Episode:153 meanR:43.1100 R:93.0000 rate:0.1860 aloss:1.3656 dloss:0.3974 aloss2:7.5919 exploreP:0.5693\n",
      "Episode:154 meanR:43.1000 R:36.0000 rate:0.0720 aloss:1.3674 dloss:0.3896 aloss2:7.6973 exploreP:0.5672\n",
      "Episode:155 meanR:43.4900 R:55.0000 rate:0.1100 aloss:1.3642 dloss:0.4080 aloss2:7.8205 exploreP:0.5642\n",
      "Episode:156 meanR:45.5300 R:220.0000 rate:0.4400 aloss:1.3642 dloss:0.4195 aloss2:7.6606 exploreP:0.5521\n",
      "Episode:157 meanR:45.3600 R:21.0000 rate:0.0420 aloss:1.3559 dloss:0.4270 aloss2:7.5930 exploreP:0.5510\n",
      "Episode:158 meanR:46.2900 R:108.0000 rate:0.2160 aloss:1.3635 dloss:0.4009 aloss2:7.7246 exploreP:0.5452\n"
     ]
    },
    {
     "name": "stdout",
     "output_type": "stream",
     "text": [
      "Episode:159 meanR:48.4200 R:233.0000 rate:0.4660 aloss:1.3654 dloss:0.4071 aloss2:7.7189 exploreP:0.5329\n",
      "Episode:160 meanR:50.0600 R:181.0000 rate:0.3620 aloss:1.3669 dloss:0.4130 aloss2:7.6681 exploreP:0.5235\n",
      "Episode:161 meanR:51.5800 R:208.0000 rate:0.4160 aloss:1.3670 dloss:0.4107 aloss2:7.6994 exploreP:0.5129\n",
      "Episode:162 meanR:51.4200 R:25.0000 rate:0.0500 aloss:1.3549 dloss:0.3995 aloss2:7.3066 exploreP:0.5117\n",
      "Episode:163 meanR:51.9800 R:67.0000 rate:0.1340 aloss:1.3651 dloss:0.4253 aloss2:7.4938 exploreP:0.5083\n",
      "Episode:164 meanR:52.2700 R:59.0000 rate:0.1180 aloss:1.3559 dloss:0.4268 aloss2:7.5534 exploreP:0.5054\n",
      "Episode:165 meanR:52.6800 R:117.0000 rate:0.2340 aloss:1.3632 dloss:0.4224 aloss2:7.4381 exploreP:0.4996\n",
      "Episode:166 meanR:54.2300 R:218.0000 rate:0.4360 aloss:1.3625 dloss:0.4071 aloss2:7.5387 exploreP:0.4890\n",
      "Episode:167 meanR:54.7700 R:84.0000 rate:0.1680 aloss:1.3626 dloss:0.4271 aloss2:7.5885 exploreP:0.4850\n",
      "Episode:168 meanR:56.3000 R:169.0000 rate:0.3380 aloss:1.3712 dloss:0.4197 aloss2:7.4975 exploreP:0.4771\n",
      "Episode:169 meanR:58.6400 R:253.0000 rate:0.5060 aloss:1.3643 dloss:0.4256 aloss2:7.3488 exploreP:0.4654\n",
      "Episode:170 meanR:62.9900 R:446.0000 rate:0.8920 aloss:1.3630 dloss:0.4212 aloss2:7.4779 exploreP:0.4455\n",
      "Episode:171 meanR:65.0300 R:220.0000 rate:0.4400 aloss:1.3633 dloss:0.4476 aloss2:7.1668 exploreP:0.4361\n",
      "Episode:172 meanR:67.6500 R:278.0000 rate:0.5560 aloss:1.3664 dloss:0.4488 aloss2:6.8957 exploreP:0.4244\n",
      "Episode:173 meanR:71.0800 R:360.0000 rate:0.7200 aloss:1.3631 dloss:0.4528 aloss2:6.8871 exploreP:0.4097\n",
      "Episode:174 meanR:71.6800 R:71.0000 rate:0.1420 aloss:1.3658 dloss:0.4151 aloss2:6.8459 exploreP:0.4069\n",
      "Episode:175 meanR:74.3400 R:294.0000 rate:0.5880 aloss:1.3629 dloss:0.4261 aloss2:6.9338 exploreP:0.3954\n",
      "Episode:176 meanR:74.9600 R:77.0000 rate:0.1540 aloss:1.3591 dloss:0.4056 aloss2:7.1400 exploreP:0.3925\n",
      "Episode:177 meanR:77.5700 R:281.0000 rate:0.5620 aloss:1.3606 dloss:0.4506 aloss2:7.1105 exploreP:0.3819\n",
      "Episode:178 meanR:80.5200 R:326.0000 rate:0.6520 aloss:1.3613 dloss:0.4489 aloss2:6.9712 exploreP:0.3699\n",
      "Episode:179 meanR:82.4100 R:217.0000 rate:0.4340 aloss:1.3632 dloss:0.4433 aloss2:6.8451 exploreP:0.3622\n",
      "Episode:180 meanR:84.0800 R:177.0000 rate:0.3540 aloss:1.3624 dloss:0.4344 aloss2:6.8542 exploreP:0.3560\n",
      "Episode:181 meanR:88.8600 R:500.0000 rate:1.0000 aloss:1.3619 dloss:0.4564 aloss2:6.7255 exploreP:0.3391\n",
      "Episode:182 meanR:91.9100 R:321.0000 rate:0.6420 aloss:1.3596 dloss:0.4458 aloss2:6.7402 exploreP:0.3287\n",
      "Episode:183 meanR:95.4400 R:500.0000 rate:1.0000 aloss:1.3608 dloss:0.4573 aloss2:6.6152 exploreP:0.3132\n",
      "Episode:184 meanR:97.2500 R:201.0000 rate:0.4020 aloss:1.3596 dloss:0.4801 aloss2:6.5926 exploreP:0.3072\n",
      "Episode:185 meanR:99.5100 R:241.0000 rate:0.4820 aloss:1.3597 dloss:0.4544 aloss2:6.4394 exploreP:0.3001\n",
      "Episode:186 meanR:102.3100 R:305.0000 rate:0.6100 aloss:1.3582 dloss:0.5010 aloss2:6.3653 exploreP:0.2914\n",
      "Episode:187 meanR:105.4100 R:330.0000 rate:0.6600 aloss:1.3623 dloss:0.4684 aloss2:6.1483 exploreP:0.2822\n",
      "Episode:188 meanR:108.3700 R:327.0000 rate:0.6540 aloss:1.3576 dloss:0.4841 aloss2:6.2106 exploreP:0.2735\n",
      "Episode:189 meanR:111.5000 R:330.0000 rate:0.6600 aloss:1.3625 dloss:0.4929 aloss2:6.0321 exploreP:0.2649\n",
      "Episode:190 meanR:115.2700 R:390.0000 rate:0.7800 aloss:1.3584 dloss:0.4890 aloss2:5.9072 exploreP:0.2552\n",
      "Episode:191 meanR:117.2600 R:233.0000 rate:0.4660 aloss:1.3578 dloss:0.4853 aloss2:5.9411 exploreP:0.2495\n",
      "Episode:192 meanR:119.9600 R:283.0000 rate:0.5660 aloss:1.3569 dloss:0.4892 aloss2:5.9696 exploreP:0.2429\n",
      "Episode:193 meanR:124.5800 R:500.0000 rate:1.0000 aloss:1.3555 dloss:0.5286 aloss2:5.7906 exploreP:0.2315\n",
      "Episode:194 meanR:128.8400 R:451.0000 rate:0.9020 aloss:1.3545 dloss:0.5009 aloss2:5.4074 exploreP:0.2217\n",
      "Episode:195 meanR:133.5800 R:500.0000 rate:1.0000 aloss:1.3584 dloss:0.4856 aloss2:5.6190 exploreP:0.2114\n",
      "Episode:196 meanR:137.8700 R:500.0000 rate:1.0000 aloss:1.3566 dloss:0.5167 aloss2:5.6259 exploreP:0.2016\n",
      "Episode:197 meanR:141.6200 R:400.0000 rate:0.8000 aloss:1.3589 dloss:0.5301 aloss2:5.3828 exploreP:0.1941\n",
      "Episode:198 meanR:145.9900 R:500.0000 rate:1.0000 aloss:1.3544 dloss:0.5242 aloss2:5.2682 exploreP:0.1851\n",
      "Episode:199 meanR:150.6300 R:500.0000 rate:1.0000 aloss:1.3547 dloss:0.5510 aloss2:5.0229 exploreP:0.1766\n",
      "Episode:200 meanR:155.3000 R:500.0000 rate:1.0000 aloss:1.3550 dloss:0.5369 aloss2:4.9510 exploreP:0.1684\n",
      "Episode:201 meanR:159.9300 R:487.0000 rate:0.9740 aloss:1.3567 dloss:0.5416 aloss2:4.9742 exploreP:0.1609\n",
      "Episode:202 meanR:164.6900 R:500.0000 rate:1.0000 aloss:1.3573 dloss:0.5299 aloss2:4.8587 exploreP:0.1535\n",
      "Episode:203 meanR:169.2600 R:500.0000 rate:1.0000 aloss:1.3559 dloss:0.5569 aloss2:4.9123 exploreP:0.1465\n",
      "Episode:204 meanR:173.7000 R:500.0000 rate:1.0000 aloss:1.3558 dloss:0.5414 aloss2:4.6621 exploreP:0.1399\n",
      "Episode:205 meanR:177.2000 R:369.0000 rate:0.7380 aloss:1.3552 dloss:0.5517 aloss2:4.7234 exploreP:0.1352\n",
      "Episode:206 meanR:182.0400 R:500.0000 rate:1.0000 aloss:1.3596 dloss:0.5546 aloss2:4.6082 exploreP:0.1291\n",
      "Episode:207 meanR:184.8300 R:302.0000 rate:0.6040 aloss:1.3554 dloss:0.5529 aloss2:4.6293 exploreP:0.1255\n",
      "Episode:208 meanR:187.3800 R:308.0000 rate:0.6160 aloss:1.3532 dloss:0.6111 aloss2:4.4022 exploreP:0.1220\n",
      "Episode:209 meanR:190.7000 R:429.0000 rate:0.8580 aloss:1.3507 dloss:0.5961 aloss2:4.1842 exploreP:0.1173\n",
      "Episode:210 meanR:192.8300 R:321.0000 rate:0.6420 aloss:1.3531 dloss:0.5769 aloss2:4.1353 exploreP:0.1139\n",
      "Episode:211 meanR:197.5700 R:500.0000 rate:1.0000 aloss:1.3494 dloss:0.5968 aloss2:3.9239 exploreP:0.1089\n",
      "Episode:212 meanR:202.3200 R:500.0000 rate:1.0000 aloss:1.3477 dloss:0.5973 aloss2:3.7596 exploreP:0.1040\n",
      "Episode:213 meanR:207.0100 R:500.0000 rate:1.0000 aloss:1.3470 dloss:0.6070 aloss2:3.7687 exploreP:0.0995\n",
      "Episode:214 meanR:211.8200 R:500.0000 rate:1.0000 aloss:1.3450 dloss:0.5944 aloss2:3.7293 exploreP:0.0951\n",
      "Episode:215 meanR:215.2000 R:349.0000 rate:0.6980 aloss:1.3480 dloss:0.6126 aloss2:3.6621 exploreP:0.0922\n",
      "Episode:216 meanR:220.0600 R:500.0000 rate:1.0000 aloss:1.3468 dloss:0.5995 aloss2:3.4996 exploreP:0.0882\n",
      "Episode:217 meanR:223.0300 R:370.0000 rate:0.7400 aloss:1.3412 dloss:0.6313 aloss2:3.5466 exploreP:0.0853\n",
      "Episode:218 meanR:227.8200 R:500.0000 rate:1.0000 aloss:1.3419 dloss:0.6333 aloss2:3.2732 exploreP:0.0817\n",
      "Episode:219 meanR:229.7300 R:286.0000 rate:0.5720 aloss:1.3449 dloss:0.6096 aloss2:3.2269 exploreP:0.0796\n",
      "Episode:220 meanR:234.3300 R:500.0000 rate:1.0000 aloss:1.3431 dloss:0.6131 aloss2:3.2680 exploreP:0.0762\n",
      "Episode:221 meanR:238.9800 R:498.0000 rate:0.9960 aloss:1.3369 dloss:0.6403 aloss2:3.1715 exploreP:0.0730\n",
      "Episode:222 meanR:243.8200 R:500.0000 rate:1.0000 aloss:1.3399 dloss:0.6429 aloss2:3.0094 exploreP:0.0699\n",
      "Episode:223 meanR:248.5200 R:500.0000 rate:1.0000 aloss:1.3371 dloss:0.6540 aloss2:2.8449 exploreP:0.0670\n",
      "Episode:224 meanR:253.2200 R:500.0000 rate:1.0000 aloss:1.3401 dloss:0.6243 aloss2:2.8669 exploreP:0.0642\n",
      "Episode:225 meanR:256.2900 R:500.0000 rate:1.0000 aloss:1.3372 dloss:0.6452 aloss2:2.8819 exploreP:0.0616\n",
      "Episode:226 meanR:259.2100 R:402.0000 rate:0.8040 aloss:1.3392 dloss:0.6354 aloss2:2.8441 exploreP:0.0596\n",
      "Episode:227 meanR:263.9900 R:500.0000 rate:1.0000 aloss:1.3367 dloss:0.6333 aloss2:2.7947 exploreP:0.0571\n",
      "Episode:228 meanR:267.7300 R:420.0000 rate:0.8400 aloss:1.3374 dloss:0.6403 aloss2:2.8233 exploreP:0.0552\n",
      "Episode:229 meanR:271.9300 R:460.0000 rate:0.9200 aloss:1.3340 dloss:0.6558 aloss2:2.7102 exploreP:0.0532\n",
      "Episode:230 meanR:275.8700 R:488.0000 rate:0.9760 aloss:1.3369 dloss:0.6378 aloss2:2.6487 exploreP:0.0511\n",
      "Episode:231 meanR:280.1700 R:500.0000 rate:1.0000 aloss:1.3328 dloss:0.6501 aloss2:2.6446 exploreP:0.0491\n",
      "Episode:232 meanR:284.0400 R:408.0000 rate:0.8160 aloss:1.3350 dloss:0.6462 aloss2:2.6702 exploreP:0.0475\n",
      "Episode:233 meanR:287.7300 R:389.0000 rate:0.7780 aloss:1.3395 dloss:0.6368 aloss2:2.6596 exploreP:0.0461\n",
      "Episode:234 meanR:290.7400 R:377.0000 rate:0.7540 aloss:1.3343 dloss:0.6484 aloss2:2.6900 exploreP:0.0448\n",
      "Episode:235 meanR:295.3500 R:500.0000 rate:1.0000 aloss:1.3332 dloss:0.6515 aloss2:2.6622 exploreP:0.0431\n",
      "Episode:236 meanR:300.1800 R:500.0000 rate:1.0000 aloss:1.3309 dloss:0.6498 aloss2:2.5477 exploreP:0.0415\n"
     ]
    },
    {
     "name": "stdout",
     "output_type": "stream",
     "text": [
      "Episode:237 meanR:304.7900 R:500.0000 rate:1.0000 aloss:1.3379 dloss:0.6359 aloss2:2.5939 exploreP:0.0399\n",
      "Episode:238 meanR:309.6200 R:500.0000 rate:1.0000 aloss:1.3332 dloss:0.6479 aloss2:2.6394 exploreP:0.0385\n",
      "Episode:239 meanR:314.4400 R:500.0000 rate:1.0000 aloss:1.3301 dloss:0.6609 aloss2:2.5111 exploreP:0.0371\n",
      "Episode:240 meanR:318.0600 R:419.0000 rate:0.8380 aloss:1.3321 dloss:0.6510 aloss2:2.5390 exploreP:0.0360\n",
      "Episode:241 meanR:322.8200 R:500.0000 rate:1.0000 aloss:1.3288 dloss:0.6656 aloss2:2.3655 exploreP:0.0347\n",
      "Episode:242 meanR:325.9500 R:362.0000 rate:0.7240 aloss:1.3256 dloss:0.6680 aloss2:2.2992 exploreP:0.0338\n",
      "Episode:243 meanR:330.6100 R:500.0000 rate:1.0000 aloss:1.3287 dloss:0.6632 aloss2:2.2134 exploreP:0.0327\n",
      "Episode:244 meanR:335.2500 R:500.0000 rate:1.0000 aloss:1.3270 dloss:0.6674 aloss2:2.2430 exploreP:0.0316\n",
      "Episode:245 meanR:339.3800 R:500.0000 rate:1.0000 aloss:1.3247 dloss:0.6662 aloss2:2.1137 exploreP:0.0305\n",
      "Episode:246 meanR:343.9100 R:500.0000 rate:1.0000 aloss:1.3278 dloss:0.6583 aloss2:2.0902 exploreP:0.0295\n",
      "Episode:247 meanR:347.4700 R:500.0000 rate:1.0000 aloss:1.3219 dloss:0.6770 aloss2:2.1504 exploreP:0.0286\n",
      "Episode:248 meanR:350.0200 R:500.0000 rate:1.0000 aloss:1.3221 dloss:0.6749 aloss2:1.9304 exploreP:0.0277\n",
      "Episode:249 meanR:353.6700 R:500.0000 rate:1.0000 aloss:1.3215 dloss:0.6758 aloss2:1.8911 exploreP:0.0268\n",
      "Episode:250 meanR:358.1500 R:500.0000 rate:1.0000 aloss:1.3149 dloss:0.6825 aloss2:1.8213 exploreP:0.0260\n",
      "Episode:251 meanR:362.0900 R:422.0000 rate:0.8440 aloss:1.3124 dloss:0.6849 aloss2:1.6504 exploreP:0.0253\n",
      "Episode:252 meanR:365.7200 R:500.0000 rate:1.0000 aloss:1.3176 dloss:0.6766 aloss2:1.6524 exploreP:0.0246\n",
      "Episode:253 meanR:369.4100 R:462.0000 rate:0.9240 aloss:1.3207 dloss:0.6706 aloss2:1.6890 exploreP:0.0239\n",
      "Episode:254 meanR:374.0500 R:500.0000 rate:1.0000 aloss:1.3161 dloss:0.6714 aloss2:1.7951 exploreP:0.0232\n",
      "Episode:255 meanR:378.2700 R:477.0000 rate:0.9540 aloss:1.3137 dloss:0.6757 aloss2:1.7492 exploreP:0.0226\n",
      "Episode:256 meanR:380.1000 R:403.0000 rate:0.8060 aloss:1.3037 dloss:0.6876 aloss2:1.5597 exploreP:0.0221\n",
      "Episode:257 meanR:384.8900 R:500.0000 rate:1.0000 aloss:1.3121 dloss:0.6795 aloss2:1.4960 exploreP:0.0215\n",
      "Episode:258 meanR:388.4200 R:461.0000 rate:0.9220 aloss:1.3069 dloss:0.6837 aloss2:1.4822 exploreP:0.0210\n",
      "Episode:259 meanR:390.5800 R:449.0000 rate:0.8980 aloss:1.3164 dloss:0.6796 aloss2:1.4405 exploreP:0.0205\n",
      "Episode:260 meanR:393.7700 R:500.0000 rate:1.0000 aloss:1.3057 dloss:0.6761 aloss2:1.3858 exploreP:0.0200\n",
      "Episode:261 meanR:396.6900 R:500.0000 rate:1.0000 aloss:1.3067 dloss:0.6839 aloss2:1.3352 exploreP:0.0195\n",
      "Episode:262 meanR:401.4400 R:500.0000 rate:1.0000 aloss:1.3055 dloss:0.6773 aloss2:1.3264 exploreP:0.0191\n",
      "Episode:263 meanR:404.4500 R:368.0000 rate:0.7360 aloss:1.3015 dloss:0.6810 aloss2:1.2394 exploreP:0.0187\n",
      "Episode:264 meanR:407.9800 R:412.0000 rate:0.8240 aloss:1.3072 dloss:0.6827 aloss2:1.2272 exploreP:0.0184\n",
      "Episode:265 meanR:411.8100 R:500.0000 rate:1.0000 aloss:1.2959 dloss:0.6799 aloss2:1.1800 exploreP:0.0180\n",
      "Episode:266 meanR:414.6300 R:500.0000 rate:1.0000 aloss:1.3042 dloss:0.6783 aloss2:1.1246 exploreP:0.0176\n",
      "Episode:267 meanR:418.2200 R:443.0000 rate:0.8860 aloss:1.3017 dloss:0.6804 aloss2:1.1062 exploreP:0.0173\n",
      "Episode:268 meanR:421.5300 R:500.0000 rate:1.0000 aloss:1.3019 dloss:0.6752 aloss2:1.0695 exploreP:0.0169\n",
      "Episode:269 meanR:423.2600 R:426.0000 rate:0.8520 aloss:1.2933 dloss:0.6752 aloss2:1.0671 exploreP:0.0166\n",
      "Episode:270 meanR:423.8000 R:500.0000 rate:1.0000 aloss:1.3027 dloss:0.6805 aloss2:1.0262 exploreP:0.0163\n",
      "Episode:271 meanR:426.6000 R:500.0000 rate:1.0000 aloss:1.2965 dloss:0.6739 aloss2:1.0127 exploreP:0.0160\n",
      "Episode:272 meanR:428.8200 R:500.0000 rate:1.0000 aloss:1.2872 dloss:0.6772 aloss2:0.9551 exploreP:0.0157\n",
      "Episode:273 meanR:430.2200 R:500.0000 rate:1.0000 aloss:1.2946 dloss:0.6698 aloss2:0.8806 exploreP:0.0154\n",
      "Episode:274 meanR:433.7100 R:420.0000 rate:0.8400 aloss:1.2908 dloss:0.6711 aloss2:0.8485 exploreP:0.0152\n",
      "Episode:275 meanR:435.7700 R:500.0000 rate:1.0000 aloss:1.2908 dloss:0.6702 aloss2:0.8562 exploreP:0.0149\n",
      "Episode:276 meanR:440.0000 R:500.0000 rate:1.0000 aloss:1.2908 dloss:0.6700 aloss2:0.8506 exploreP:0.0147\n",
      "Episode:277 meanR:442.1900 R:500.0000 rate:1.0000 aloss:1.2790 dloss:0.6641 aloss2:0.7706 exploreP:0.0145\n",
      "Episode:278 meanR:443.9300 R:500.0000 rate:1.0000 aloss:1.2918 dloss:0.6749 aloss2:0.7771 exploreP:0.0142\n",
      "Episode:279 meanR:446.7600 R:500.0000 rate:1.0000 aloss:1.2823 dloss:0.6605 aloss2:0.7917 exploreP:0.0140\n",
      "Episode:280 meanR:449.9900 R:500.0000 rate:1.0000 aloss:1.2736 dloss:0.6688 aloss2:0.6902 exploreP:0.0138\n",
      "Episode:281 meanR:449.9900 R:500.0000 rate:1.0000 aloss:1.2862 dloss:0.6676 aloss2:0.6679 exploreP:0.0137\n",
      "Episode:282 meanR:451.7800 R:500.0000 rate:1.0000 aloss:1.2835 dloss:0.6638 aloss2:0.6446 exploreP:0.0135\n",
      "Episode:283 meanR:451.7800 R:500.0000 rate:1.0000 aloss:1.2825 dloss:0.6651 aloss2:0.7073 exploreP:0.0133\n",
      "Episode:284 meanR:454.7700 R:500.0000 rate:1.0000 aloss:1.2802 dloss:0.6703 aloss2:0.6937 exploreP:0.0131\n",
      "Episode:285 meanR:457.2400 R:488.0000 rate:0.9760 aloss:1.2701 dloss:0.6499 aloss2:0.6149 exploreP:0.0130\n",
      "Episode:286 meanR:459.1900 R:500.0000 rate:1.0000 aloss:1.2814 dloss:0.6676 aloss2:0.5745 exploreP:0.0129\n",
      "Episode:287 meanR:460.8900 R:500.0000 rate:1.0000 aloss:1.2709 dloss:0.6523 aloss2:0.5702 exploreP:0.0127\n",
      "Episode:288 meanR:462.3800 R:476.0000 rate:0.9520 aloss:1.2823 dloss:0.6648 aloss2:0.5730 exploreP:0.0126\n",
      "Episode:289 meanR:464.0800 R:500.0000 rate:1.0000 aloss:1.2732 dloss:0.6520 aloss2:0.5398 exploreP:0.0125\n",
      "Episode:290 meanR:465.1800 R:500.0000 rate:1.0000 aloss:1.2758 dloss:0.6505 aloss2:0.5311 exploreP:0.0123\n",
      "Episode:291 meanR:467.8500 R:500.0000 rate:1.0000 aloss:1.2720 dloss:0.6429 aloss2:0.5048 exploreP:0.0122\n",
      "Episode:292 meanR:470.0200 R:500.0000 rate:1.0000 aloss:1.2802 dloss:0.6638 aloss2:0.5117 exploreP:0.0121\n",
      "Episode:293 meanR:469.6200 R:460.0000 rate:0.9200 aloss:1.2675 dloss:0.6404 aloss2:0.4957 exploreP:0.0120\n",
      "Episode:294 meanR:470.1100 R:500.0000 rate:1.0000 aloss:1.2650 dloss:0.6459 aloss2:0.4501 exploreP:0.0119\n",
      "Episode:295 meanR:470.1100 R:500.0000 rate:1.0000 aloss:1.2623 dloss:0.6295 aloss2:0.4583 exploreP:0.0118\n",
      "Episode:296 meanR:470.1100 R:500.0000 rate:1.0000 aloss:1.2768 dloss:0.6693 aloss2:0.4532 exploreP:0.0117\n",
      "Episode:297 meanR:471.1100 R:500.0000 rate:1.0000 aloss:1.2620 dloss:0.6372 aloss2:0.4394 exploreP:0.0117\n",
      "Episode:298 meanR:471.1100 R:500.0000 rate:1.0000 aloss:1.2588 dloss:0.6314 aloss2:0.3920 exploreP:0.0116\n",
      "Episode:299 meanR:471.1100 R:500.0000 rate:1.0000 aloss:1.2619 dloss:0.6331 aloss2:0.3516 exploreP:0.0115\n",
      "Episode:300 meanR:471.1100 R:500.0000 rate:1.0000 aloss:1.2672 dloss:0.6345 aloss2:0.3879 exploreP:0.0114\n",
      "Episode:301 meanR:471.2400 R:500.0000 rate:1.0000 aloss:1.2593 dloss:0.6232 aloss2:0.3803 exploreP:0.0114\n",
      "Episode:302 meanR:471.2400 R:500.0000 rate:1.0000 aloss:1.2446 dloss:0.5994 aloss2:0.3120 exploreP:0.0113\n",
      "Episode:303 meanR:471.2400 R:500.0000 rate:1.0000 aloss:1.2543 dloss:0.6095 aloss2:0.2851 exploreP:0.0112\n",
      "Episode:304 meanR:471.2400 R:500.0000 rate:1.0000 aloss:1.2690 dloss:0.6416 aloss2:0.3054 exploreP:0.0112\n",
      "Episode:305 meanR:472.5500 R:500.0000 rate:1.0000 aloss:1.2527 dloss:0.6182 aloss2:0.2957 exploreP:0.0111\n",
      "Episode:306 meanR:472.5500 R:500.0000 rate:1.0000 aloss:1.2590 dloss:0.6282 aloss2:0.2915 exploreP:0.0111\n",
      "Episode:307 meanR:473.9800 R:445.0000 rate:0.8900 aloss:1.2518 dloss:0.6061 aloss2:0.2915 exploreP:0.0110\n",
      "Episode:308 meanR:475.9000 R:500.0000 rate:1.0000 aloss:1.2455 dloss:0.5944 aloss2:0.2899 exploreP:0.0110\n",
      "Episode:309 meanR:476.6100 R:500.0000 rate:1.0000 aloss:1.2402 dloss:0.5975 aloss2:0.2642 exploreP:0.0109\n",
      "Episode:310 meanR:478.4000 R:500.0000 rate:1.0000 aloss:1.2469 dloss:0.6050 aloss2:0.2342 exploreP:0.0109\n",
      "Episode:311 meanR:478.4000 R:500.0000 rate:1.0000 aloss:1.2361 dloss:0.5876 aloss2:0.2569 exploreP:0.0108\n",
      "Episode:312 meanR:478.4000 R:500.0000 rate:1.0000 aloss:1.2416 dloss:0.5827 aloss2:0.2674 exploreP:0.0108\n",
      "Episode:313 meanR:478.4000 R:500.0000 rate:1.0000 aloss:1.2330 dloss:0.5693 aloss2:0.2502 exploreP:0.0107\n",
      "Episode:314 meanR:478.4000 R:500.0000 rate:1.0000 aloss:1.2313 dloss:0.5686 aloss2:0.2478 exploreP:0.0107\n"
     ]
    },
    {
     "name": "stdout",
     "output_type": "stream",
     "text": [
      "Episode:315 meanR:479.9100 R:500.0000 rate:1.0000 aloss:1.2262 dloss:0.5713 aloss2:0.2479 exploreP:0.0107\n",
      "Episode:316 meanR:479.9100 R:500.0000 rate:1.0000 aloss:1.2333 dloss:0.5758 aloss2:0.2517 exploreP:0.0106\n",
      "Episode:317 meanR:481.2100 R:500.0000 rate:1.0000 aloss:1.2292 dloss:0.5686 aloss2:0.2575 exploreP:0.0106\n",
      "Episode:318 meanR:481.2100 R:500.0000 rate:1.0000 aloss:1.2206 dloss:0.5659 aloss2:0.3078 exploreP:0.0106\n",
      "Episode:319 meanR:483.3500 R:500.0000 rate:1.0000 aloss:1.2179 dloss:0.5532 aloss2:0.2627 exploreP:0.0106\n",
      "Episode:320 meanR:483.3500 R:500.0000 rate:1.0000 aloss:1.2314 dloss:0.5757 aloss2:0.2744 exploreP:0.0105\n",
      "Episode:321 meanR:483.3700 R:500.0000 rate:1.0000 aloss:1.2128 dloss:0.5403 aloss2:0.2567 exploreP:0.0105\n",
      "Episode:322 meanR:483.3700 R:500.0000 rate:1.0000 aloss:1.2240 dloss:0.5573 aloss2:0.2514 exploreP:0.0105\n",
      "Episode:323 meanR:483.3700 R:500.0000 rate:1.0000 aloss:1.2176 dloss:0.5349 aloss2:0.2328 exploreP:0.0105\n",
      "Episode:324 meanR:483.3700 R:500.0000 rate:1.0000 aloss:1.2187 dloss:0.5347 aloss2:0.3209 exploreP:0.0104\n",
      "Episode:325 meanR:483.3700 R:500.0000 rate:1.0000 aloss:1.2121 dloss:0.5410 aloss2:0.2908 exploreP:0.0104\n",
      "Episode:326 meanR:484.3500 R:500.0000 rate:1.0000 aloss:1.2161 dloss:0.5460 aloss2:0.3056 exploreP:0.0104\n",
      "Episode:327 meanR:484.3500 R:500.0000 rate:1.0000 aloss:1.2146 dloss:0.5456 aloss2:0.3048 exploreP:0.0104\n",
      "Episode:328 meanR:485.1500 R:500.0000 rate:1.0000 aloss:1.2067 dloss:0.5269 aloss2:0.2967 exploreP:0.0104\n",
      "Episode:329 meanR:485.5500 R:500.0000 rate:1.0000 aloss:1.1985 dloss:0.5049 aloss2:0.3635 exploreP:0.0103\n",
      "Episode:330 meanR:485.6700 R:500.0000 rate:1.0000 aloss:1.1791 dloss:0.4664 aloss2:0.4412 exploreP:0.0103\n",
      "Episode:331 meanR:485.6700 R:500.0000 rate:1.0000 aloss:1.1900 dloss:0.4869 aloss2:0.4533 exploreP:0.0103\n",
      "Episode:332 meanR:486.5900 R:500.0000 rate:1.0000 aloss:1.1955 dloss:0.4947 aloss2:0.4128 exploreP:0.0103\n",
      "Episode:333 meanR:487.7000 R:500.0000 rate:1.0000 aloss:1.1858 dloss:0.4873 aloss2:0.5035 exploreP:0.0103\n",
      "Episode:334 meanR:488.9300 R:500.0000 rate:1.0000 aloss:1.2024 dloss:0.5119 aloss2:0.4654 exploreP:0.0103\n",
      "Episode:335 meanR:488.9300 R:500.0000 rate:1.0000 aloss:1.1890 dloss:0.4895 aloss2:0.4728 exploreP:0.0102\n",
      "Episode:336 meanR:488.9300 R:500.0000 rate:1.0000 aloss:1.1729 dloss:0.4462 aloss2:0.5419 exploreP:0.0102\n",
      "Episode:337 meanR:488.9300 R:500.0000 rate:1.0000 aloss:1.1666 dloss:0.4294 aloss2:0.5948 exploreP:0.0102\n",
      "Episode:338 meanR:488.9300 R:500.0000 rate:1.0000 aloss:1.1654 dloss:0.4367 aloss2:0.7459 exploreP:0.0102\n",
      "Episode:339 meanR:488.9300 R:500.0000 rate:1.0000 aloss:1.1829 dloss:0.4792 aloss2:0.6572 exploreP:0.0102\n",
      "Episode:340 meanR:489.7400 R:500.0000 rate:1.0000 aloss:1.1787 dloss:0.4521 aloss2:0.6280 exploreP:0.0102\n",
      "Episode:341 meanR:489.7400 R:500.0000 rate:1.0000 aloss:1.1713 dloss:0.4527 aloss2:0.6899 exploreP:0.0102\n",
      "Episode:342 meanR:491.1200 R:500.0000 rate:1.0000 aloss:1.1743 dloss:0.4575 aloss2:0.7474 exploreP:0.0102\n",
      "Episode:343 meanR:491.1200 R:500.0000 rate:1.0000 aloss:1.1718 dloss:0.4446 aloss2:0.7059 exploreP:0.0102\n",
      "Episode:344 meanR:491.1200 R:500.0000 rate:1.0000 aloss:1.1566 dloss:0.4116 aloss2:0.6741 exploreP:0.0102\n",
      "Episode:345 meanR:491.1200 R:500.0000 rate:1.0000 aloss:1.1755 dloss:0.4624 aloss2:0.7177 exploreP:0.0102\n",
      "Episode:346 meanR:491.1200 R:500.0000 rate:1.0000 aloss:1.1683 dloss:0.4407 aloss2:0.7778 exploreP:0.0101\n",
      "Episode:347 meanR:491.1200 R:500.0000 rate:1.0000 aloss:1.1559 dloss:0.4081 aloss2:0.8684 exploreP:0.0101\n",
      "Episode:348 meanR:491.1200 R:500.0000 rate:1.0000 aloss:1.1500 dloss:0.4039 aloss2:0.9100 exploreP:0.0101\n",
      "Episode:349 meanR:491.1200 R:500.0000 rate:1.0000 aloss:1.1579 dloss:0.4118 aloss2:0.9261 exploreP:0.0101\n",
      "Episode:350 meanR:491.1200 R:500.0000 rate:1.0000 aloss:1.1521 dloss:0.3879 aloss2:0.9768 exploreP:0.0101\n",
      "Episode:351 meanR:491.9000 R:500.0000 rate:1.0000 aloss:1.1420 dloss:0.3630 aloss2:1.1971 exploreP:0.0101\n",
      "Episode:352 meanR:491.9000 R:500.0000 rate:1.0000 aloss:1.1373 dloss:0.3602 aloss2:1.2151 exploreP:0.0101\n",
      "Episode:353 meanR:492.2800 R:500.0000 rate:1.0000 aloss:1.1331 dloss:0.3510 aloss2:1.2829 exploreP:0.0101\n",
      "Episode:354 meanR:492.2800 R:500.0000 rate:1.0000 aloss:1.1350 dloss:0.3297 aloss2:1.5278 exploreP:0.0101\n",
      "Episode:355 meanR:492.5100 R:500.0000 rate:1.0000 aloss:1.1381 dloss:0.3630 aloss2:1.4525 exploreP:0.0101\n",
      "Episode:356 meanR:493.4800 R:500.0000 rate:1.0000 aloss:1.1273 dloss:0.3241 aloss2:1.7072 exploreP:0.0101\n",
      "Episode:357 meanR:493.4800 R:500.0000 rate:1.0000 aloss:1.1312 dloss:0.3562 aloss2:1.6057 exploreP:0.0101\n",
      "Episode:358 meanR:493.8700 R:500.0000 rate:1.0000 aloss:1.1102 dloss:0.2763 aloss2:1.8683 exploreP:0.0101\n",
      "Episode:359 meanR:494.3800 R:500.0000 rate:1.0000 aloss:1.1181 dloss:0.3115 aloss2:1.9061 exploreP:0.0101\n",
      "Episode:360 meanR:494.3800 R:500.0000 rate:1.0000 aloss:1.1133 dloss:0.2911 aloss2:2.2447 exploreP:0.0101\n",
      "Episode:361 meanR:494.3800 R:500.0000 rate:1.0000 aloss:1.1156 dloss:0.2974 aloss2:2.1614 exploreP:0.0101\n",
      "Episode:362 meanR:494.3800 R:500.0000 rate:1.0000 aloss:1.1177 dloss:0.2958 aloss2:2.1686 exploreP:0.0101\n",
      "Episode:363 meanR:495.7000 R:500.0000 rate:1.0000 aloss:1.1094 dloss:0.2709 aloss2:2.3247 exploreP:0.0101\n",
      "Episode:364 meanR:496.5800 R:500.0000 rate:1.0000 aloss:1.1087 dloss:0.2633 aloss2:2.6572 exploreP:0.0101\n",
      "Episode:365 meanR:496.4500 R:487.0000 rate:0.9740 aloss:1.1015 dloss:0.2328 aloss2:2.7511 exploreP:0.0101\n",
      "Episode:366 meanR:496.4500 R:500.0000 rate:1.0000 aloss:1.1027 dloss:0.2316 aloss2:3.1285 exploreP:0.0101\n",
      "Episode:367 meanR:497.0200 R:500.0000 rate:1.0000 aloss:1.0997 dloss:0.2397 aloss2:3.1988 exploreP:0.0101\n",
      "Episode:368 meanR:497.0200 R:500.0000 rate:1.0000 aloss:1.1017 dloss:0.2384 aloss2:3.6153 exploreP:0.0100\n",
      "Episode:369 meanR:497.7600 R:500.0000 rate:1.0000 aloss:1.0964 dloss:0.2293 aloss2:3.5696 exploreP:0.0100\n",
      "Episode:370 meanR:497.7600 R:500.0000 rate:1.0000 aloss:1.0925 dloss:0.2003 aloss2:3.7102 exploreP:0.0100\n",
      "Episode:371 meanR:497.7600 R:500.0000 rate:1.0000 aloss:1.0989 dloss:0.2569 aloss2:3.3814 exploreP:0.0100\n",
      "Episode:372 meanR:497.7600 R:500.0000 rate:1.0000 aloss:1.0848 dloss:0.1833 aloss2:3.7831 exploreP:0.0100\n",
      "Episode:373 meanR:497.7600 R:500.0000 rate:1.0000 aloss:1.0881 dloss:0.2049 aloss2:3.9204 exploreP:0.0100\n",
      "Episode:374 meanR:498.4300 R:487.0000 rate:0.9740 aloss:1.0930 dloss:0.2152 aloss2:4.3346 exploreP:0.0100\n",
      "Episode:375 meanR:498.4300 R:500.0000 rate:1.0000 aloss:1.0673 dloss:0.1289 aloss2:4.4279 exploreP:0.0100\n",
      "Episode:376 meanR:498.4300 R:500.0000 rate:1.0000 aloss:1.0751 dloss:0.1606 aloss2:5.1997 exploreP:0.0100\n",
      "Episode:377 meanR:498.4300 R:500.0000 rate:1.0000 aloss:1.0756 dloss:0.1374 aloss2:5.2693 exploreP:0.0100\n",
      "Episode:378 meanR:498.4300 R:500.0000 rate:1.0000 aloss:1.0755 dloss:0.1404 aloss2:6.0102 exploreP:0.0100\n",
      "Episode:379 meanR:498.4300 R:500.0000 rate:1.0000 aloss:1.0611 dloss:0.1030 aloss2:6.4160 exploreP:0.0100\n"
     ]
    }
   ],
   "source": [
    "# Save/load the model and save for plotting\n",
    "saver = tf.train.Saver()\n",
    "episode_rewards_list, rewards_list = [], []\n",
    "# aloss_list, dloss_list, aloss2_list = [], []\n",
    "\n",
    "# TF session for training\n",
    "with tf.Session(graph=graph) as sess:\n",
    "    sess.run(tf.global_variables_initializer())\n",
    "    #saver.restore(sess, 'checkpoints/model.ckpt')    \n",
    "    #saver.restore(sess, tf.train.latest_checkpoint('checkpoints'))\n",
    "    total_step = 0 # Explore or exploit parameter\n",
    "    episode_reward = deque(maxlen=100) # 100 episodes average/running average/running mean/window\n",
    "\n",
    "    # Training episodes/epochs\n",
    "    for ep in range(11111):\n",
    "        total_reward = 0 # each episode\n",
    "        aloss_batch, dloss_batch, aloss2_batch = [], [], []\n",
    "        state = env.reset() # each episode\n",
    "        num_step = 0 # each episode\n",
    "\n",
    "        # Training steps/batches\n",
    "        while True:\n",
    "            # Explore (Env) or Exploit (Model)\n",
    "            total_step += 1\n",
    "            explore_p = explore_stop + (explore_start - explore_stop) * np.exp(-decay_rate * total_step) \n",
    "            if explore_p > np.random.rand():\n",
    "                action = env.action_space.sample()\n",
    "            else:\n",
    "                action_logits = sess.run(model.actions_logits, feed_dict={model.states: state.reshape([1, -1])})\n",
    "                action = np.argmax(action_logits)\n",
    "            next_state, reward, done, _ = env.step(action)\n",
    "            memory.buffer.append([state, action, next_state, reward, float(done)])\n",
    "            memory.rates.append(-1) # empty\n",
    "            num_step += 1 # momory added\n",
    "            total_reward += reward\n",
    "            state = next_state\n",
    "            \n",
    "            # Rating the memory\n",
    "            if done is True:\n",
    "                rate = total_reward/500 # update rate at the end/ when episode is done\n",
    "                for idx in range(num_step): # episode length\n",
    "                    if memory.rates[-1-idx] == -1: # double-check the landmark/marked indexes\n",
    "                        memory.rates[-1-idx] = rate # rate the trajectory/data\n",
    "                        \n",
    "            # Training with the maxrated minibatch\n",
    "            batch = memory.buffer\n",
    "            percentage = 1.0\n",
    "            #for idx in range(memory_size// batch_size):\n",
    "            idx_arr = np.arange(memory_size// batch_size)\n",
    "            idx = np.random.choice(idx_arr)\n",
    "            states = np.array([each[0] for each in batch])[idx*batch_size:(idx+1)*batch_size]\n",
    "            actions = np.array([each[1] for each in batch])[idx*batch_size:(idx+1)*batch_size]\n",
    "            next_states = np.array([each[2] for each in batch])[idx*batch_size:(idx+1)*batch_size]\n",
    "            rewards = np.array([each[3] for each in batch])[idx*batch_size:(idx+1)*batch_size]\n",
    "            dones = np.array([each[4] for each in batch])[idx*batch_size:(idx+1)*batch_size]\n",
    "            rates = np.array(memory.rates)[idx*batch_size:(idx+1)*batch_size]\n",
    "            #print(states.shape, actions.shape, next_states.shape, rewards.shape, dones.shape, rates.shape)\n",
    "            states = states[rates >= (np.max(rates)*percentage)]\n",
    "            actions = actions[rates >= (np.max(rates)*percentage)]\n",
    "            next_states = next_states[rates >= (np.max(rates)*percentage)]\n",
    "            rewards = rewards[rates >= (np.max(rates)*percentage)]\n",
    "            dones = dones[rates >= (np.max(rates)*percentage)]\n",
    "            rates = rates[rates >= (np.max(rates)*percentage)]\n",
    "            aloss, dloss, _, _ = sess.run([model.a_loss, model.d_loss, model.a_opt, model.d_opt],\n",
    "                                          feed_dict = {model.states: states, \n",
    "                                                       model.actions: actions,\n",
    "                                                       model.next_states: next_states,\n",
    "                                                       model.rewards: rewards,\n",
    "                                                       model.dones: dones,\n",
    "                                                       model.rates: rates})\n",
    "            aloss2, _ = sess.run([model.a_loss2, model.a_opt2], \n",
    "                                          feed_dict = {model.states: states, \n",
    "                                                       model.actions: actions,\n",
    "                                                       model.next_states: next_states,\n",
    "                                                       model.rewards: rewards,\n",
    "                                                       model.dones: dones,\n",
    "                                                       model.rates: rates})\n",
    "            aloss_batch.append(aloss)\n",
    "            dloss_batch.append(dloss)\n",
    "            aloss2_batch.append(aloss2)\n",
    "            if done is True:\n",
    "                break\n",
    "                \n",
    "        episode_reward.append(total_reward)\n",
    "        print('Episode:{}'.format(ep),\n",
    "              'meanR:{:.4f}'.format(np.mean(episode_reward)),\n",
    "              'R:{:.4f}'.format(total_reward),\n",
    "              'rate:{:.4f}'.format(rate),\n",
    "              'aloss:{:.4f}'.format(np.mean(aloss_batch)),\n",
    "              'dloss:{:.4f}'.format(np.mean(dloss_batch)),\n",
    "              'aloss2:{:.4f}'.format(np.mean(aloss2_batch)),\n",
    "              'exploreP:{:.4f}'.format(explore_p))\n",
    "\n",
    "        # Ploting out\n",
    "        episode_rewards_list.append([ep, np.mean(episode_reward)])\n",
    "        rewards_list.append([ep, total_reward])\n",
    "        # gloss_list.append([ep, np.mean(gloss_batch)])\n",
    "        # dloss_list.append([ep, np.mean(dloss_batch)])\n",
    "        \n",
    "        # Break episode/epoch loop\n",
    "        ## Option 1: Solve the First Version\n",
    "        #The task is episodic, and in order to solve the environment, \n",
    "        #your agent must get an average score of +30 over 100 consecutive episodes.\n",
    "        if np.mean(episode_reward) >= 500:\n",
    "            break\n",
    "            \n",
    "    # At the end of all training episodes/epochs\n",
    "    saver.save(sess, 'checkpoints/model.ckpt')"
   ]
  },
  {
   "cell_type": "markdown",
   "metadata": {},
   "source": [
    "# Visualizing training\n",
    "\n",
    "Below I'll plot the total rewards for each episode. I'm plotting the rolling average too, in blue."
   ]
  },
  {
   "cell_type": "code",
   "execution_count": null,
   "metadata": {},
   "outputs": [],
   "source": [
    "import matplotlib.pyplot as plt\n",
    "%matplotlib inline\n",
    "\n",
    "def running_mean(x, N):\n",
    "    cumsum = np.cumsum(np.insert(x, 0, 0)) \n",
    "    return (cumsum[N:] - cumsum[:-N]) / N "
   ]
  },
  {
   "cell_type": "code",
   "execution_count": null,
   "metadata": {},
   "outputs": [],
   "source": [
    "eps, arr = np.array(episode_rewards_list).T\n",
    "smoothed_arr = running_mean(arr, 10)\n",
    "plt.plot(eps[-len(smoothed_arr):], smoothed_arr)\n",
    "plt.plot(eps, arr, color='grey', alpha=0.3)\n",
    "plt.xlabel('Episode')\n",
    "plt.ylabel('Total rewards')"
   ]
  },
  {
   "cell_type": "code",
   "execution_count": 41,
   "metadata": {},
   "outputs": [
    {
     "data": {
      "text/plain": [
       "Text(0, 0.5, 'Total rewards')"
      ]
     },
     "execution_count": 41,
     "metadata": {},
     "output_type": "execute_result"
    },
    {
     "data": {
      "image/png": "[encoded data removed]",
      "text/plain": [
       "<Figure size 432x288 with 1 Axes>"
      ]
     },
     "metadata": {
      "needs_background": "light"
     },
     "output_type": "display_data"
    }
   ],
   "source": [
    "eps, arr = np.array(episode_rewards_list).T\n",
    "smoothed_arr = running_mean(arr, 10)\n",
    "plt.plot(eps[-len(smoothed_arr):], smoothed_arr)\n",
    "plt.plot(eps, arr, color='grey', alpha=0.3)\n",
    "plt.xlabel('Episode')\n",
    "plt.ylabel('Total rewards')"
   ]
  },
  {
   "cell_type": "code",
   "execution_count": 19,
   "metadata": {},
   "outputs": [
    {
     "data": {
      "text/plain": [
       "Text(0, 0.5, 'Total rewards')"
      ]
     },
     "execution_count": 19,
     "metadata": {},
     "output_type": "execute_result"
    },
    {
     "data": {
      "image/png": "[encoded data removed]",
      "text/plain": [
       "<Figure size 432x288 with 1 Axes>"
      ]
     },
     "metadata": {
      "needs_background": "light"
     },
     "output_type": "display_data"
    }
   ],
   "source": [
    "eps, arr = np.array(episode_rewards_list).T\n",
    "smoothed_arr = running_mean(arr, 10)\n",
    "plt.plot(eps[-len(smoothed_arr):], smoothed_arr)\n",
    "plt.plot(eps, arr, color='grey', alpha=0.3)\n",
    "plt.xlabel('Episode')\n",
    "plt.ylabel('Total rewards')"
   ]
  },
  {
   "cell_type": "code",
   "execution_count": 17,
   "metadata": {},
   "outputs": [
    {
     "data": {
      "text/plain": [
       "Text(0, 0.5, 'Total rewards')"
      ]
     },
     "execution_count": 17,
     "metadata": {},
     "output_type": "execute_result"
    },
    {
     "data": {
      "image/png": "[encoded data removed]",
      "text/plain": [
       "<Figure size 432x288 with 1 Axes>"
      ]
     },
     "metadata": {
      "needs_background": "light"
     },
     "output_type": "display_data"
    }
   ],
   "source": [
    "eps, arr = np.array(episode_rewards_list).T\n",
    "smoothed_arr = running_mean(arr, 10)\n",
    "plt.plot(eps[-len(smoothed_arr):], smoothed_arr)\n",
    "plt.plot(eps, arr, color='grey', alpha=0.3)\n",
    "plt.xlabel('Episode')\n",
    "plt.ylabel('Total rewards')"
   ]
  },
  {
   "cell_type": "code",
   "execution_count": 59,
   "metadata": {},
   "outputs": [
    {
     "data": {
      "text/plain": [
       "Text(0, 0.5, 'Total rewards')"
      ]
     },
     "execution_count": 59,
     "metadata": {},
     "output_type": "execute_result"
    },
    {
     "data": {
      "image/png": "[encoded data removed]",
      "text/plain": [
       "<Figure size 432x288 with 1 Axes>"
      ]
     },
     "metadata": {
      "needs_background": "light"
     },
     "output_type": "display_data"
    }
   ],
   "source": [
    "eps, arr = np.array(episode_rewards_list).T\n",
    "smoothed_arr = running_mean(arr, 10)\n",
    "plt.plot(eps[-len(smoothed_arr):], smoothed_arr)\n",
    "plt.plot(eps, arr, color='grey', alpha=0.3)\n",
    "plt.xlabel('Episode')\n",
    "plt.ylabel('Total rewards')"
   ]
  },
  {
   "cell_type": "code",
   "execution_count": 42,
   "metadata": {},
   "outputs": [
    {
     "data": {
      "text/plain": [
       "Text(0, 0.5, 'Total rewards')"
      ]
     },
     "execution_count": 42,
     "metadata": {},
     "output_type": "execute_result"
    },
    {
     "data": {
      "image/png": "[encoded data removed]",
      "text/plain": [
       "<Figure size 432x288 with 1 Axes>"
      ]
     },
     "metadata": {
      "needs_background": "light"
     },
     "output_type": "display_data"
    }
   ],
   "source": [
    "eps, arr = np.array(rewards_list).T\n",
    "smoothed_arr = running_mean(arr, 10)\n",
    "plt.plot(eps[-len(smoothed_arr):], smoothed_arr)\n",
    "plt.plot(eps, arr, color='grey', alpha=0.3)\n",
    "plt.xlabel('Episode')\n",
    "plt.ylabel('Total rewards')"
   ]
  },
  {
   "cell_type": "code",
   "execution_count": 20,
   "metadata": {},
   "outputs": [
    {
     "data": {
      "text/plain": [
       "Text(0, 0.5, 'Total rewards')"
      ]
     },
     "execution_count": 20,
     "metadata": {},
     "output_type": "execute_result"
    },
    {
     "data": {
      "image/png": "[encoded data removed]",
      "text/plain": [
       "<Figure size 432x288 with 1 Axes>"
      ]
     },
     "metadata": {
      "needs_background": "light"
     },
     "output_type": "display_data"
    }
   ],
   "source": [
    "eps, arr = np.array(rewards_list).T\n",
    "smoothed_arr = running_mean(arr, 10)\n",
    "plt.plot(eps[-len(smoothed_arr):], smoothed_arr)\n",
    "plt.plot(eps, arr, color='grey', alpha=0.3)\n",
    "plt.xlabel('Episode')\n",
    "plt.ylabel('Total rewards')"
   ]
  },
  {
   "cell_type": "code",
   "execution_count": 61,
   "metadata": {},
   "outputs": [
    {
     "data": {
      "text/plain": [
       "Text(0, 0.5, 'Total rewards')"
      ]
     },
     "execution_count": 61,
     "metadata": {},
     "output_type": "execute_result"
    },
    {
     "data": {
      "image/png": "[encoded data removed]",
      "text/plain": [
       "<Figure size 432x288 with 1 Axes>"
      ]
     },
     "metadata": {
      "needs_background": "light"
     },
     "output_type": "display_data"
    }
   ],
   "source": [
    "eps, arr = np.array(rewards_list).T\n",
    "smoothed_arr = running_mean(arr, 10)\n",
    "plt.plot(eps[-len(smoothed_arr):], smoothed_arr)\n",
    "plt.plot(eps, arr, color='grey', alpha=0.3)\n",
    "plt.xlabel('Episode')\n",
    "plt.ylabel('Total rewards')"
   ]
  },
  {
   "cell_type": "code",
   "execution_count": null,
   "metadata": {},
   "outputs": [],
   "source": [
    "eps, arr = np.array(gloss_list).T\n",
    "smoothed_arr = running_mean(arr, 10)\n",
    "plt.plot(eps[-len(smoothed_arr):], smoothed_arr)\n",
    "plt.plot(eps, arr, color='grey', alpha=0.3)\n",
    "plt.xlabel('Episode')\n",
    "plt.ylabel('G losses')`"
   ]
  },
  {
   "cell_type": "code",
   "execution_count": null,
   "metadata": {},
   "outputs": [],
   "source": [
    "eps, arr = np.array(dloss_list).T\n",
    "smoothed_arr = running_mean(arr, 10)\n",
    "plt.plot(eps[-len(smoothed_arr):], smoothed_arr)\n",
    "plt.plot(eps, arr, color='grey', alpha=0.3)\n",
    "plt.xlabel('Episode')\n",
    "plt.ylabel('D losses')"
   ]
  },
  {
   "cell_type": "markdown",
   "metadata": {},
   "source": [
    "## Testing\n",
    "\n",
    "Let's checkout how our trained agent plays the game."
   ]
  },
  {
   "cell_type": "code",
   "execution_count": 22,
   "metadata": {},
   "outputs": [
    {
     "name": "stdout",
     "output_type": "stream",
     "text": [
      "INFO:tensorflow:Restoring parameters from checkpoints/model.ckpt\n",
      "total_reward: 500.0\n",
      "total_reward: 500.0\n",
      "total_reward: 500.0\n",
      "total_reward: 500.0\n",
      "total_reward: 500.0\n",
      "total_reward: 500.0\n",
      "total_reward: 500.0\n",
      "total_reward: 500.0\n",
      "total_reward: 500.0\n",
      "total_reward: 500.0\n",
      "total_reward: 500.0\n"
     ]
    }
   ],
   "source": [
    "import gym\n",
    "env = gym.make('CartPole-v0')\n",
    "env = gym.make('CartPole-v1')\n",
    "# env = gym.make('Acrobot-v1')\n",
    "# env = gym.make('MountainCar-v0')\n",
    "# env = gym.make('Pendulum-v0')\n",
    "# env = gym.make('Blackjack-v0')\n",
    "# env = gym.make('FrozenLake-v0')\n",
    "# env = gym.make('AirRaid-ram-v0')\n",
    "# env = gym.make('AirRaid-v0')\n",
    "# env = gym.make('BipedalWalker-v2')\n",
    "# env = gym.make('Copy-v0')\n",
    "# env = gym.make('CarRacing-v0')\n",
    "# env = gym.make('Ant-v2') #mujoco\n",
    "# env = gym.make('FetchPickAndPlace-v1') # mujoco required!\n",
    "\n",
    "with tf.Session() as sess:\n",
    "    sess.run(tf.global_variables_initializer())\n",
    "    saver.restore(sess, 'checkpoints/model.ckpt')    \n",
    "    #saver.restore(sess, tf.train.latest_checkpoint('checkpoints'))\n",
    "    \n",
    "    # Episodes/epochs\n",
    "    for _ in range(11):\n",
    "        state = env.reset()\n",
    "        total_reward = 0\n",
    "\n",
    "        # Steps/batches\n",
    "        while True:\n",
    "            env.render()\n",
    "            action_logits = sess.run(model.actions_logits, feed_dict={model.states: state.reshape([1, -1])})\n",
    "            action = np.argmax(action_logits)\n",
    "            state, reward, done, _ = env.step(action)\n",
    "            total_reward += reward\n",
    "            if done:\n",
    "                print('total_reward: {}'.format(total_reward))\n",
    "                break\n",
    "                \n",
    "env.close()"
   ]
  },
  {
   "cell_type": "markdown",
   "metadata": {},
   "source": [
    "## Extending this\n",
    "\n",
    "So, Cart-Pole is a pretty simple game. However, the same model can be used to train an agent to play something much more complicated like Pong or Space Invaders. Instead of a state like we're using here though, you'd want to use convolutional layers to get the state from the screen images.\n",
    "\n",
    "![Deep Q-Learning Atari](assets/atari-network.png)\n",
    "\n",
    "I'll leave it as a challenge for you to use deep Q-learning to train an agent to play Atari games. Here's the original paper which will get you started: http://www.davidqiu.com:8888/research/nature14236.pdf."
   ]
  },
  {
   "cell_type": "code",
   "execution_count": null,
   "metadata": {},
   "outputs": [],
   "source": []
  }
 ],
 "metadata": {
  "kernelspec": {
   "display_name": "Python 3",
   "language": "python",
   "name": "python3"
  },
  "language_info": {
   "codemirror_mode": {
    "name": "ipython",
    "version": 3
   },
   "file_extension": ".py",
   "mimetype": "text/x-python",
   "name": "python",
   "nbconvert_exporter": "python",
   "pygments_lexer": "ipython3",
   "version": "3.6.6"
  }
 },
 "nbformat": 4,
 "nbformat_minor": 2
}
