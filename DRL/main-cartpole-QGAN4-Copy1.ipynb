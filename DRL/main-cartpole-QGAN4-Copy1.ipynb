{
 "cells": [
  {
   "cell_type": "code",
   "execution_count": 1,
   "metadata": {},
   "outputs": [
    {
     "name": "stdout",
     "output_type": "stream",
     "text": [
      "TensorFlow Version: 1.7.1\n",
      "Default GPU Device: \n"
     ]
    }
   ],
   "source": [
    "import tensorflow as tf\n",
    "print('TensorFlow Version: {}'.format(tf.__version__))\n",
    "print('Default GPU Device: {}'.format(tf.test.gpu_device_name()))"
   ]
  },
  {
   "cell_type": "markdown",
   "metadata": {},
   "source": [
    "##### >**Note:** Make sure you have OpenAI Gym cloned. Then run this command `pip install -e gym/[all]`."
   ]
  },
  {
   "cell_type": "code",
   "execution_count": 2,
   "metadata": {},
   "outputs": [],
   "source": [
    "import numpy as np\n",
    "import gym\n",
    "env = gym.make('CartPole-v0')\n",
    "env = gym.make('CartPole-v1')"
   ]
  },
  {
   "cell_type": "code",
   "execution_count": 3,
   "metadata": {},
   "outputs": [],
   "source": [
    "def model_input(state_size):\n",
    "    #states = tf.placeholder(tf.float32, [None, *state_size], name='states')\n",
    "    states = tf.placeholder(tf.float32, [None, state_size], name='states')\n",
    "    actions = tf.placeholder(tf.int32, [None], name='actions')\n",
    "    next_states = tf.placeholder(tf.float32, [None, state_size], name='next_states')\n",
    "    rewards = tf.placeholder(tf.float32, [None], name='rewards')\n",
    "    dones = tf.placeholder(tf.float32, [None], name='dones')\n",
    "    rates = tf.placeholder(tf.float32, [None], name='rates') # success rate\n",
    "    return states, actions, next_states, rewards, dones, rates"
   ]
  },
  {
   "cell_type": "code",
   "execution_count": 4,
   "metadata": {},
   "outputs": [],
   "source": [
    "def Act(states, action_size, hidden_size, reuse=False, alpha=0.1, training=False):\n",
    "    with tf.variable_scope('Act', reuse=reuse):\n",
    "        # First fully connected layer\n",
    "        h1 = tf.layers.dense(inputs=states, units=hidden_size)\n",
    "        bn1 = tf.layers.batch_normalization(h1, training=training)        \n",
    "        nl1 = tf.maximum(alpha * bn1, bn1)\n",
    "        \n",
    "        # Second fully connected layer\n",
    "        h2 = tf.layers.dense(inputs=nl1, units=hidden_size)\n",
    "        bn2 = tf.layers.batch_normalization(h2, training=training)        \n",
    "        nl2 = tf.maximum(alpha * bn2, bn2)\n",
    "        \n",
    "        # Output layer\n",
    "        logits = tf.layers.dense(inputs=nl2, units=action_size)        \n",
    "        return logits"
   ]
  },
  {
   "cell_type": "code",
   "execution_count": 5,
   "metadata": {},
   "outputs": [],
   "source": [
    "def Env(states, actions, state_size, action_size, hidden_size, reuse=False, alpha=0.1, training=False):\n",
    "    with tf.variable_scope('Env', reuse=reuse):\n",
    "        # First fully connected layer\n",
    "        h1 = tf.layers.dense(inputs=states, units=action_size)\n",
    "        bn1 = tf.layers.batch_normalization(h1, training=training)        \n",
    "        nl1 = tf.maximum(alpha * bn1, bn1)\n",
    "        \n",
    "        # Second fully connected layer\n",
    "        nl1_fused = tf.concat(axis=1, values=[nl1, actions])\n",
    "        h2 = tf.layers.dense(inputs=nl1_fused, units=hidden_size)\n",
    "        bn2 = tf.layers.batch_normalization(h2, training=training)        \n",
    "        nl2 = tf.maximum(alpha * bn2, bn2)\n",
    "                \n",
    "        # Output layer\n",
    "        states_logits = tf.layers.dense(inputs=nl2, units=state_size, trainable=False)\n",
    "        Qlogits = tf.layers.dense(inputs=nl2, units=1, trainable=False)\n",
    "        return states_logits, Qlogits"
   ]
  },
  {
   "cell_type": "code",
   "execution_count": 6,
   "metadata": {},
   "outputs": [],
   "source": [
    "def model_loss(state_size, action_size, hidden_size, gamma,\n",
    "               states, actions, next_states, rewards, dones, rates):\n",
    "    ################################################ a = act(s)\n",
    "    actions_logits = Act(states=states, hidden_size=hidden_size, action_size=action_size)\n",
    "    actions_labels = tf.one_hot(indices=actions, depth=action_size, dtype=actions_logits.dtype)\n",
    "    aloss = tf.reduce_mean(tf.nn.softmax_cross_entropy_with_logits_v2(logits=actions_logits, \n",
    "                                                                      labels=actions_labels))\n",
    "    ################################################ s', r = env(s, a)\n",
    "    e_next_states_logits, eQs = Env(actions=actions_labels, states=states, hidden_size=hidden_size, \n",
    "                                    action_size=action_size, state_size=state_size)\n",
    "    a_next_states_logits, aQs = Env(actions=actions_logits, states=states, hidden_size=hidden_size, \n",
    "                                    action_size=action_size, state_size=state_size, reuse=True)\n",
    "    next_states_labels = tf.nn.sigmoid(next_states)\n",
    "    eloss = tf.reduce_mean(tf.nn.sigmoid_cross_entropy_with_logits(logits=e_next_states_logits, # GQN\n",
    "                                                                   labels=next_states_labels))\n",
    "    eloss += -tf.reduce_mean(tf.nn.sigmoid_cross_entropy_with_logits(logits=a_next_states_logits, \n",
    "                                                                     labels=next_states_labels)) # maximize loss\n",
    "    aloss2 = tf.reduce_mean(tf.nn.sigmoid_cross_entropy_with_logits(logits=a_next_states_logits, \n",
    "                                                                    labels=next_states_labels)) # minimize loss\n",
    "    eQs_logits = tf.reshape(eQs, shape=[-1])\n",
    "    aQs_logits = tf.reshape(aQs, shape=[-1])\n",
    "    #################################################### s'', Q' = ~env(s', ~a')\n",
    "    next_actions_logits = Act(states=next_states, hidden_size=hidden_size, action_size=action_size, reuse=True)\n",
    "    _, aQs2 = Env(actions=next_actions_logits, states=next_states, hidden_size=hidden_size, \n",
    "                  action_size=action_size, state_size=state_size, reuse=True)\n",
    "    aQs2_logits = tf.reshape(aQs2, shape=[-1]) * (1-dones)\n",
    "    eloss += tf.reduce_mean(tf.nn.sigmoid_cross_entropy_with_logits(logits=eQs_logits, # GAN\n",
    "                                                                    labels=rates)) # 0-1 real\n",
    "    eloss += tf.reduce_mean(tf.nn.sigmoid_cross_entropy_with_logits(logits=(aQs_logits+aQs2_logits)/2, # GAN\n",
    "                                                                    labels=tf.zeros_like(rates))) # min\n",
    "    aloss2 += tf.reduce_mean(tf.nn.sigmoid_cross_entropy_with_logits(logits=(aQs_logits+aQs2_logits)/2, # GAN\n",
    "                                                                     labels=tf.ones_like(rates))) # max\n",
    "    ###################################################### Q(s,a)= r + Q'(s',a')\n",
    "    targetQs = rewards + (gamma * aQs2_logits) # DQN/Qlearning\n",
    "    eloss += tf.reduce_mean(tf.square(eQs_logits - targetQs)) # real\n",
    "    eloss += tf.reduce_mean(tf.square(aQs_logits - rewards)) # min\n",
    "    aloss2 += tf.reduce_mean(tf.square(aQs_logits - targetQs)) # max\n",
    "#     eloss += tf.reduce_mean((aQs_logits+aQs2_logits)/2) # min\n",
    "#     aloss2 += -tf.reduce_mean((aQs_logits+aQs2_logits)/2) # max\n",
    "    eloss += tf.reduce_mean(aQs2_logits) # minimize Q\n",
    "    aloss2 += -tf.reduce_mean(aQs2_logits) # maxizmie Q\n",
    "    eloss += tf.reduce_mean(aQs_logits) # minimize Q\n",
    "    aloss2 += -tf.reduce_mean(aQs_logits) # maxizmie Q\n",
    "    return actions_logits, aloss, eloss, aloss2"
   ]
  },
  {
   "cell_type": "code",
   "execution_count": 7,
   "metadata": {},
   "outputs": [],
   "source": [
    "def model_opt(a_loss, e_loss, a_loss2, a_learning_rate, e_learning_rate):\n",
    "    # Get weights and bias to update\n",
    "    t_vars = tf.trainable_variables()\n",
    "    a_vars = [var for var in t_vars if var.name.startswith('Act')]\n",
    "    e_vars = [var for var in t_vars if var.name.startswith('Env')]\n",
    "\n",
    "    # Optimize\n",
    "    with tf.control_dependencies(tf.get_collection(tf.GraphKeys.UPDATE_OPS)): # Required for batchnorm (BN)\n",
    "        a_opt = tf.train.AdamOptimizer(a_learning_rate).minimize(a_loss, var_list=a_vars)\n",
    "        e_opt = tf.train.AdamOptimizer(e_learning_rate).minimize(e_loss, var_list=e_vars)\n",
    "        a_opt2 = tf.train.AdamOptimizer(a_learning_rate).minimize(a_loss2, var_list=a_vars)\n",
    "    return a_opt, e_opt, a_opt2"
   ]
  },
  {
   "cell_type": "code",
   "execution_count": 8,
   "metadata": {},
   "outputs": [],
   "source": [
    "class Model:\n",
    "    def __init__(self, state_size, action_size, hidden_size, a_learning_rate, e_learning_rate, gamma):\n",
    "\n",
    "        # Data of the Model: make the data available inside the framework\n",
    "        self.states, self.actions, self.next_states, self.rewards, self.dones, self.rates = model_input(\n",
    "            state_size=state_size)\n",
    "\n",
    "        # Create the Model: calculating the loss and forwad pass\n",
    "        self.actions_logits, self.a_loss, self.e_loss, self.a_loss2 = model_loss(\n",
    "            state_size=state_size, action_size=action_size, hidden_size=hidden_size, gamma=gamma, # model init\n",
    "            states=self.states, actions=self.actions, next_states=self.next_states, \n",
    "            rewards=self.rewards, dones=self.dones, rates=self.rates) # model input\n",
    "        \n",
    "        # Update the model: backward pass and backprop\n",
    "        self.a_opt, self.e_opt, self.a_opt2 = model_opt(a_loss=self.a_loss, \n",
    "                                                        e_loss=self.e_loss,\n",
    "                                                        a_loss2=self.a_loss2, \n",
    "                                                        a_learning_rate=a_learning_rate,\n",
    "                                                        e_learning_rate=e_learning_rate)"
   ]
  },
  {
   "cell_type": "code",
   "execution_count": 9,
   "metadata": {},
   "outputs": [],
   "source": [
    "from collections import deque\n",
    "class Memory():\n",
    "    def __init__(self, max_size = 1000):\n",
    "        self.buffer = deque(maxlen=max_size) # data batch\n",
    "#     def sample(self, batch_size):\n",
    "#         idx = np.random.choice(np.arange(len(self.buffer)), size=batch_size, replace=False)\n",
    "#         return [self.buffer[ii] for ii in idx]"
   ]
  },
  {
   "cell_type": "markdown",
   "metadata": {},
   "source": [
    "## Hyperparameters\n",
    "\n",
    "One of the more difficult aspects of reinforcememt learning are the large number of hyperparameters. Not only are we tuning the network, but we're tuning the simulation."
   ]
  },
  {
   "cell_type": "code",
   "execution_count": 10,
   "metadata": {},
   "outputs": [
    {
     "data": {
      "text/plain": [
       "(Box(4,), Discrete(2))"
      ]
     },
     "execution_count": 10,
     "metadata": {},
     "output_type": "execute_result"
    }
   ],
   "source": [
    "env.observation_space, env.action_space"
   ]
  },
  {
   "cell_type": "code",
   "execution_count": 11,
   "metadata": {},
   "outputs": [],
   "source": [
    "# Exploration parameters\n",
    "explore_start = 1.0            # exploration probability at start\n",
    "explore_stop = 0.01           # minimum exploration probability \n",
    "decay_rate = 0.0001            # exponential decay rate for exploration prob\n",
    "\n",
    "# Network parameters\n",
    "state_size = 4\n",
    "action_size = 2\n",
    "hidden_size = 4*2             # number of units in each Q-network hidden layer\n",
    "a_learning_rate = 1e-4         # Q-network learning rate\n",
    "e_learning_rate = 1e-4         # Q-network learning rate\n",
    "\n",
    "# Memory parameters\n",
    "memory_size = int(1e5)            # memory capacity\n",
    "batch_size = int(1e3)             # experience mini-batch size\n",
    "gamma=0.99"
   ]
  },
  {
   "cell_type": "code",
   "execution_count": 12,
   "metadata": {},
   "outputs": [],
   "source": [
    "# Reset/init the graph/session\n",
    "graph = tf.reset_default_graph()\n",
    "\n",
    "# Init the model\n",
    "model = Model(action_size=action_size, state_size=state_size, hidden_size=hidden_size, gamma=gamma,\n",
    "              a_learning_rate=a_learning_rate, e_learning_rate=e_learning_rate)\n",
    "\n",
    "# Init the memory\n",
    "memory = Memory(max_size=memory_size)"
   ]
  },
  {
   "cell_type": "code",
   "execution_count": 13,
   "metadata": {},
   "outputs": [],
   "source": [
    "state = env.reset()\n",
    "total_reward = 0\n",
    "num_step = 0\n",
    "for _ in range(memory_size):\n",
    "    action = env.action_space.sample()\n",
    "    next_state, reward, done, _ = env.step(action)\n",
    "    rate = -1\n",
    "    memory.buffer.append([state, action, next_state, reward, float(done), rate])\n",
    "    num_step += 1 # memory incremented\n",
    "    total_reward += reward\n",
    "    state = next_state\n",
    "    if done is True:\n",
    "        rate = total_reward/500\n",
    "        for idx in range(num_step): # episode length\n",
    "            if memory.buffer[-1-idx][-1] == -1:\n",
    "                memory.buffer[-1-idx][-1] = rate\n",
    "        state = env.reset()\n",
    "        total_reward = 0 # reset\n",
    "        num_step = 0 # reset"
   ]
  },
  {
   "cell_type": "markdown",
   "metadata": {},
   "source": [
    "## Training the model\n",
    "\n",
    "Below we'll train our agent. If you want to watch it train, uncomment the `env.render()` line. This is slow because it's rendering the frames slower than the network can train. But, it's cool to watch the agent get better at the game."
   ]
  },
  {
   "cell_type": "code",
   "execution_count": null,
   "metadata": {},
   "outputs": [
    {
     "name": "stdout",
     "output_type": "stream",
     "text": [
      "Episode:0 meanR:15.0000 R:15.0000 rate:0.0300 aloss:0.7038 eloss:2.9847 aloss2:2.3129 exploreP:0.9985\n",
      "Episode:1 meanR:17.0000 R:19.0000 rate:0.0380 aloss:0.7026 eloss:2.9632 aloss2:2.3474 exploreP:0.9966\n",
      "Episode:2 meanR:15.0000 R:11.0000 rate:0.0220 aloss:0.7036 eloss:2.9751 aloss2:2.3218 exploreP:0.9956\n",
      "Episode:3 meanR:19.0000 R:31.0000 rate:0.0620 aloss:0.7000 eloss:2.9460 aloss2:2.3823 exploreP:0.9925\n",
      "Episode:4 meanR:22.2000 R:35.0000 rate:0.0700 aloss:0.7011 eloss:2.9304 aloss2:2.4151 exploreP:0.9891\n",
      "Episode:5 meanR:20.0000 R:9.0000 rate:0.0180 aloss:0.6980 eloss:2.9388 aloss2:2.4456 exploreP:0.9882\n",
      "Episode:6 meanR:21.2857 R:29.0000 rate:0.0580 aloss:0.6993 eloss:2.9440 aloss2:2.4260 exploreP:0.9854\n",
      "Episode:7 meanR:20.6250 R:16.0000 rate:0.0320 aloss:0.6972 eloss:2.9136 aloss2:2.4688 exploreP:0.9838\n",
      "Episode:8 meanR:20.7778 R:22.0000 rate:0.0440 aloss:0.6978 eloss:2.9134 aloss2:2.5040 exploreP:0.9817\n",
      "Episode:9 meanR:20.8000 R:21.0000 rate:0.0420 aloss:0.6994 eloss:2.9306 aloss2:2.4760 exploreP:0.9796\n",
      "Episode:10 meanR:22.4545 R:39.0000 rate:0.0780 aloss:0.6975 eloss:2.9140 aloss2:2.4940 exploreP:0.9758\n",
      "Episode:11 meanR:22.5000 R:23.0000 rate:0.0460 aloss:0.6923 eloss:2.9046 aloss2:2.5107 exploreP:0.9736\n",
      "Episode:12 meanR:22.0000 R:16.0000 rate:0.0320 aloss:0.6940 eloss:2.9057 aloss2:2.4992 exploreP:0.9721\n",
      "Episode:13 meanR:22.0000 R:22.0000 rate:0.0440 aloss:0.6981 eloss:2.9149 aloss2:2.5134 exploreP:0.9700\n",
      "Episode:14 meanR:22.3333 R:27.0000 rate:0.0540 aloss:0.7016 eloss:2.9004 aloss2:2.5581 exploreP:0.9674\n",
      "Episode:15 meanR:21.6875 R:12.0000 rate:0.0240 aloss:0.7041 eloss:2.9259 aloss2:2.5619 exploreP:0.9662\n",
      "Episode:16 meanR:22.2353 R:31.0000 rate:0.0620 aloss:0.6967 eloss:2.8933 aloss2:2.5782 exploreP:0.9633\n",
      "Episode:17 meanR:21.9444 R:17.0000 rate:0.0340 aloss:0.6984 eloss:2.9418 aloss2:2.5997 exploreP:0.9617\n",
      "Episode:18 meanR:21.4211 R:12.0000 rate:0.0240 aloss:0.6872 eloss:2.8607 aloss2:2.6391 exploreP:0.9605\n",
      "Episode:19 meanR:22.4500 R:42.0000 rate:0.0840 aloss:0.6902 eloss:2.8932 aloss2:2.6051 exploreP:0.9565\n",
      "Episode:20 meanR:22.5714 R:25.0000 rate:0.0500 aloss:0.6889 eloss:2.8655 aloss2:2.6853 exploreP:0.9542\n",
      "Episode:21 meanR:22.6364 R:24.0000 rate:0.0480 aloss:0.6933 eloss:2.9030 aloss2:2.6232 exploreP:0.9519\n",
      "Episode:22 meanR:22.4348 R:18.0000 rate:0.0360 aloss:0.6934 eloss:2.9081 aloss2:2.6276 exploreP:0.9502\n",
      "Episode:23 meanR:23.1667 R:40.0000 rate:0.0800 aloss:0.6811 eloss:2.8677 aloss2:2.6822 exploreP:0.9465\n",
      "Episode:24 meanR:22.8000 R:14.0000 rate:0.0280 aloss:0.6838 eloss:2.8811 aloss2:2.7161 exploreP:0.9451\n",
      "Episode:25 meanR:22.7308 R:21.0000 rate:0.0420 aloss:0.6764 eloss:2.8758 aloss2:2.6828 exploreP:0.9432\n",
      "Episode:26 meanR:23.2593 R:37.0000 rate:0.0740 aloss:0.6948 eloss:2.9303 aloss2:2.6508 exploreP:0.9397\n",
      "Episode:27 meanR:23.1071 R:19.0000 rate:0.0380 aloss:0.6811 eloss:2.9123 aloss2:2.6377 exploreP:0.9380\n",
      "Episode:28 meanR:23.2069 R:26.0000 rate:0.0520 aloss:0.6981 eloss:2.9418 aloss2:2.7432 exploreP:0.9356\n",
      "Episode:29 meanR:23.2333 R:24.0000 rate:0.0480 aloss:0.6807 eloss:2.9211 aloss2:2.6583 exploreP:0.9333\n",
      "Episode:30 meanR:23.5484 R:33.0000 rate:0.0660 aloss:0.6882 eloss:2.9281 aloss2:2.7450 exploreP:0.9303\n",
      "Episode:31 meanR:23.1562 R:11.0000 rate:0.0220 aloss:0.6810 eloss:2.9304 aloss2:2.7317 exploreP:0.9293\n",
      "Episode:32 meanR:23.2121 R:25.0000 rate:0.0500 aloss:0.6822 eloss:2.9286 aloss2:2.7301 exploreP:0.9270\n",
      "Episode:33 meanR:23.5588 R:35.0000 rate:0.0700 aloss:0.6851 eloss:2.9630 aloss2:2.7098 exploreP:0.9238\n",
      "Episode:34 meanR:24.1143 R:43.0000 rate:0.0860 aloss:0.6990 eloss:2.9849 aloss2:2.7693 exploreP:0.9199\n",
      "Episode:35 meanR:24.5278 R:39.0000 rate:0.0780 aloss:0.6830 eloss:2.9642 aloss2:2.8083 exploreP:0.9163\n",
      "Episode:36 meanR:25.2703 R:52.0000 rate:0.1040 aloss:0.6873 eloss:2.9917 aloss2:2.8210 exploreP:0.9116\n",
      "Episode:37 meanR:25.0000 R:15.0000 rate:0.0300 aloss:0.7338 eloss:3.0778 aloss2:2.8340 exploreP:0.9103\n",
      "Episode:38 meanR:24.7949 R:17.0000 rate:0.0340 aloss:0.6814 eloss:3.0675 aloss2:2.7310 exploreP:0.9088\n",
      "Episode:39 meanR:25.4750 R:52.0000 rate:0.1040 aloss:0.6783 eloss:3.0746 aloss2:2.7445 exploreP:0.9041\n",
      "Episode:40 meanR:25.1463 R:12.0000 rate:0.0240 aloss:0.7002 eloss:3.0929 aloss2:2.7510 exploreP:0.9030\n",
      "Episode:41 meanR:25.0238 R:20.0000 rate:0.0400 aloss:0.6819 eloss:3.0974 aloss2:2.7032 exploreP:0.9012\n",
      "Episode:42 meanR:25.3256 R:38.0000 rate:0.0760 aloss:0.6835 eloss:3.1041 aloss2:2.7844 exploreP:0.8979\n",
      "Episode:43 meanR:26.1364 R:61.0000 rate:0.1220 aloss:0.6958 eloss:3.1498 aloss2:2.7798 exploreP:0.8925\n",
      "Episode:44 meanR:26.0222 R:21.0000 rate:0.0420 aloss:0.7020 eloss:3.1441 aloss2:2.7658 exploreP:0.8906\n",
      "Episode:45 meanR:25.8478 R:18.0000 rate:0.0360 aloss:0.7301 eloss:3.3264 aloss2:2.6490 exploreP:0.8890\n",
      "Episode:46 meanR:26.0000 R:33.0000 rate:0.0660 aloss:0.6882 eloss:3.1681 aloss2:2.7693 exploreP:0.8861\n",
      "Episode:47 meanR:25.9792 R:25.0000 rate:0.0500 aloss:0.6938 eloss:3.1834 aloss2:2.7656 exploreP:0.8839\n",
      "Episode:48 meanR:25.7755 R:16.0000 rate:0.0320 aloss:0.6859 eloss:3.1602 aloss2:2.8476 exploreP:0.8825\n",
      "Episode:49 meanR:26.7400 R:74.0000 rate:0.1480 aloss:0.6914 eloss:3.1992 aloss2:2.8123 exploreP:0.8761\n",
      "Episode:50 meanR:26.9412 R:37.0000 rate:0.0740 aloss:0.7264 eloss:3.3129 aloss2:2.7834 exploreP:0.8729\n",
      "Episode:51 meanR:26.6538 R:12.0000 rate:0.0240 aloss:0.7608 eloss:3.4055 aloss2:2.7026 exploreP:0.8719\n",
      "Episode:52 meanR:27.1321 R:52.0000 rate:0.1040 aloss:0.6986 eloss:3.2336 aloss2:2.8328 exploreP:0.8674\n",
      "Episode:53 meanR:27.5556 R:50.0000 rate:0.1000 aloss:0.7278 eloss:3.2965 aloss2:2.8301 exploreP:0.8631\n",
      "Episode:54 meanR:27.3818 R:18.0000 rate:0.0360 aloss:0.7186 eloss:3.2892 aloss2:2.8498 exploreP:0.8616\n",
      "Episode:55 meanR:27.2500 R:20.0000 rate:0.0400 aloss:0.7585 eloss:3.3813 aloss2:2.7543 exploreP:0.8599\n",
      "Episode:56 meanR:27.7193 R:54.0000 rate:0.1080 aloss:0.7326 eloss:3.3009 aloss2:2.9123 exploreP:0.8553\n",
      "Episode:57 meanR:27.4655 R:13.0000 rate:0.0260 aloss:0.7103 eloss:3.2335 aloss2:3.0190 exploreP:0.8542\n",
      "Episode:58 meanR:27.3220 R:19.0000 rate:0.0380 aloss:0.7562 eloss:3.3364 aloss2:2.9133 exploreP:0.8526\n",
      "Episode:59 meanR:27.6167 R:45.0000 rate:0.0900 aloss:0.7263 eloss:3.3018 aloss2:2.9265 exploreP:0.8488\n",
      "Episode:60 meanR:27.3934 R:14.0000 rate:0.0280 aloss:0.7296 eloss:3.2479 aloss2:2.9595 exploreP:0.8477\n",
      "Episode:61 meanR:27.3226 R:23.0000 rate:0.0460 aloss:0.7416 eloss:3.3618 aloss2:2.9570 exploreP:0.8457\n",
      "Episode:62 meanR:27.4921 R:38.0000 rate:0.0760 aloss:0.7498 eloss:3.3228 aloss2:2.9273 exploreP:0.8426\n",
      "Episode:63 meanR:27.9062 R:54.0000 rate:0.1080 aloss:0.7290 eloss:3.3095 aloss2:2.9818 exploreP:0.8381\n",
      "Episode:64 meanR:28.0154 R:35.0000 rate:0.0700 aloss:0.7459 eloss:3.3771 aloss2:2.9617 exploreP:0.8352\n",
      "Episode:65 meanR:28.0152 R:28.0000 rate:0.0560 aloss:0.7366 eloss:3.3408 aloss2:2.9672 exploreP:0.8329\n",
      "Episode:66 meanR:27.8358 R:16.0000 rate:0.0320 aloss:0.7469 eloss:3.4412 aloss2:2.8934 exploreP:0.8316\n"
     ]
    }
   ],
   "source": [
    "# Save/load the model and save for plotting\n",
    "saver = tf.train.Saver()\n",
    "episode_rewards_list, rewards_list = [], []\n",
    "aloss_list, eloss_list, aloss2_list = [], [], []\n",
    "\n",
    "# TF session for training\n",
    "with tf.Session(graph=graph) as sess:\n",
    "    sess.run(tf.global_variables_initializer())\n",
    "    #saver.restore(sess, 'checkpoints/model.ckpt')    \n",
    "    #saver.restore(sess, tf.train.latest_checkpoint('checkpoints'))\n",
    "    total_step = 0 # Explore or exploit parameter\n",
    "    episode_reward = deque(maxlen=100) # 100 episodes for running average/running mean/window\n",
    "\n",
    "    # Training episodes/epochs\n",
    "    for ep in range(11111):\n",
    "        aloss_batch, eloss_batch, aloss2_batch = [], [], []\n",
    "        total_reward = 0\n",
    "        state = env.reset()\n",
    "        num_step = 0\n",
    "        rate = -1\n",
    "\n",
    "        # Training steps/batches\n",
    "        while True:\n",
    "            # Explore (env) or Exploit (model)\n",
    "            total_step += 1\n",
    "            explore_p = explore_stop + (explore_start - explore_stop) * np.exp(-decay_rate * total_step) \n",
    "            if explore_p > np.random.rand():\n",
    "                action = env.action_space.sample()\n",
    "            else:\n",
    "                action_logits = sess.run(model.actions_logits, feed_dict={model.states: state.reshape([1, -1])})\n",
    "                action = np.argmax(action_logits)\n",
    "            next_state, reward, done, _ = env.step(action)\n",
    "            memory.buffer.append([state, action, next_state, reward, float(done), rate])\n",
    "            num_step += 1 # momory added\n",
    "            total_reward += reward\n",
    "            state = next_state\n",
    "            \n",
    "            # Training with the maxrated minibatch\n",
    "            batch = memory.buffer\n",
    "            #for idx in range(memory_size// batch_size):\n",
    "            while True:\n",
    "                idx = np.random.choice(np.arange(memory_size// batch_size))\n",
    "                states = np.array([each[0] for each in batch])[idx*batch_size:(idx+1)*batch_size]\n",
    "                actions = np.array([each[1] for each in batch])[idx*batch_size:(idx+1)*batch_size]\n",
    "                next_states = np.array([each[2] for each in batch])[idx*batch_size:(idx+1)*batch_size]\n",
    "                rewards = np.array([each[3] for each in batch])[idx*batch_size:(idx+1)*batch_size]\n",
    "                dones = np.array([each[4] for each in batch])[idx*batch_size:(idx+1)*batch_size]\n",
    "                rates = np.array([each[5] for each in batch])[idx*batch_size:(idx+1)*batch_size]\n",
    "                states = states[rates >= np.max(rates)]\n",
    "                actions = actions[rates >= np.max(rates)]\n",
    "                next_states = next_states[rates >= np.max(rates)]\n",
    "                rewards = rewards[rates >= np.max(rates)]\n",
    "                dones = dones[rates >= np.max(rates)]\n",
    "                rates = rates[rates >= np.max(rates)]\n",
    "                if np.count_nonzero(dones) > 0 and len(dones) > 1 and np.max(rates) > 0:\n",
    "                    break\n",
    "            aloss, _ = sess.run([model.a_loss, model.a_opt],\n",
    "                                  feed_dict = {model.states: states, \n",
    "                                               model.actions: actions,\n",
    "                                               model.next_states: next_states,\n",
    "                                               model.rewards: rewards,\n",
    "                                               model.dones: dones,\n",
    "                                               model.rates: rates})\n",
    "            eloss, _ = sess.run([model.e_loss, model.e_opt],\n",
    "                                  feed_dict = {model.states: states, \n",
    "                                               model.actions: actions,\n",
    "                                               model.next_states: next_states,\n",
    "                                               model.rewards: rewards,\n",
    "                                               model.dones: dones,\n",
    "                                               model.rates: rates})\n",
    "            aloss2, _= sess.run([model.a_loss2, model.a_opt2], \n",
    "                                 feed_dict = {model.states: states, \n",
    "                                              model.actions: actions,\n",
    "                                              model.next_states: next_states,\n",
    "                                              model.rewards: rewards,\n",
    "                                              model.dones: dones,\n",
    "                                              model.rates: rates})\n",
    "            # print(len(dones), np.count_nonzero(dones), np.max(rates))\n",
    "            aloss_batch.append(aloss)\n",
    "            eloss_batch.append(eloss)\n",
    "            aloss2_batch.append(aloss2)\n",
    "            if done is True:\n",
    "                break\n",
    "                \n",
    "        # Rating the latest played episode\n",
    "        rate = total_reward/500 # update rate at the end/ when episode is done\n",
    "        for idx in range(num_step): # episode length\n",
    "            if memory.buffer[-1-idx][-1] == -1: # double-check the landmark/marked indexes\n",
    "                memory.buffer[-1-idx][-1] = rate # rate the trajectory/data\n",
    "\n",
    "        # Print out\n",
    "        episode_reward.append(total_reward)\n",
    "        print('Episode:{}'.format(ep),\n",
    "              'meanR:{:.4f}'.format(np.mean(episode_reward)),\n",
    "              'R:{:.4f}'.format(total_reward),\n",
    "              'rate:{:.4f}'.format(rate),\n",
    "              'aloss:{:.4f}'.format(np.mean(aloss_batch)),\n",
    "              'eloss:{:.4f}'.format(np.mean(eloss_batch)),\n",
    "              'aloss2:{:.4f}'.format(np.mean(aloss2_batch)),\n",
    "              'exploreP:{:.4f}'.format(explore_p))\n",
    "\n",
    "        # Ploting out\n",
    "        episode_rewards_list.append([ep, np.mean(episode_reward)])\n",
    "        rewards_list.append([ep, total_reward])\n",
    "        aloss_list.append([ep, np.mean(aloss_batch)])\n",
    "        eloss_list.append([ep, np.mean(eloss_batch)])\n",
    "        aloss2_list.append([ep, np.mean(aloss2_batch)])\n",
    "        \n",
    "        # Break episode/epoch loop\n",
    "        ## Option 1: Solve the First Version\n",
    "        #The task is episodic, and in order to solve the environment, \n",
    "        #your agent must get an average score of +30 over 100 consecutive episodes.\n",
    "        if np.mean(episode_reward) >= 500:\n",
    "            break\n",
    "            \n",
    "    # At the end of all training episodes/epochs\n",
    "    saver.save(sess, 'checkpoints/model.ckpt')"
   ]
  },
  {
   "cell_type": "markdown",
   "metadata": {},
   "source": [
    "# Visualizing training\n",
    "\n",
    "Below I'll plot the total rewards for each episode. I'm plotting the rolling average too, in blue."
   ]
  },
  {
   "cell_type": "code",
   "execution_count": null,
   "metadata": {},
   "outputs": [],
   "source": [
    "import matplotlib.pyplot as plt\n",
    "%matplotlib inline\n",
    "\n",
    "def running_mean(x, N):\n",
    "    cumsum = np.cumsum(np.insert(x, 0, 0)) \n",
    "    return (cumsum[N:] - cumsum[:-N]) / N "
   ]
  },
  {
   "cell_type": "code",
   "execution_count": null,
   "metadata": {},
   "outputs": [],
   "source": [
    "eps, arr = np.array(episode_rewards_list).T\n",
    "smoothed_arr = running_mean(arr, 10)\n",
    "plt.plot(eps[-len(smoothed_arr):], smoothed_arr)\n",
    "plt.plot(eps, arr, color='grey', alpha=0.3)\n",
    "plt.xlabel('Episode')\n",
    "plt.ylabel('Total rewards')"
   ]
  },
  {
   "cell_type": "code",
   "execution_count": null,
   "metadata": {},
   "outputs": [],
   "source": [
    "eps, arr = np.array(rewards_list).T\n",
    "smoothed_arr = running_mean(arr, 10)\n",
    "plt.plot(eps[-len(smoothed_arr):], smoothed_arr)\n",
    "plt.plot(eps, arr, color='grey', alpha=0.3)\n",
    "plt.xlabel('Episode')\n",
    "plt.ylabel('Total rewards')"
   ]
  },
  {
   "cell_type": "code",
   "execution_count": null,
   "metadata": {},
   "outputs": [],
   "source": [
    "eps, arr = np.array(aloss_list).T\n",
    "smoothed_arr = running_mean(arr, 10)\n",
    "plt.plot(eps[-len(smoothed_arr):], smoothed_arr)\n",
    "plt.plot(eps, arr, color='grey', alpha=0.3)\n",
    "plt.xlabel('Episode')\n",
    "plt.ylabel('Act losses')"
   ]
  },
  {
   "cell_type": "code",
   "execution_count": null,
   "metadata": {},
   "outputs": [],
   "source": [
    "eps, arr = np.array(eloss_list).T\n",
    "smoothed_arr = running_mean(arr, 10)\n",
    "plt.plot(eps[-len(smoothed_arr):], smoothed_arr)\n",
    "plt.plot(eps, arr, color='grey', alpha=0.3)\n",
    "plt.xlabel('Episode')\n",
    "plt.ylabel('Env losses')"
   ]
  },
  {
   "cell_type": "code",
   "execution_count": null,
   "metadata": {},
   "outputs": [],
   "source": [
    "eps, arr = np.array(aloss2_list).T\n",
    "smoothed_arr = running_mean(arr, 10)\n",
    "plt.plot(eps[-len(smoothed_arr):], smoothed_arr)\n",
    "plt.plot(eps, arr, color='grey', alpha=0.3)\n",
    "plt.xlabel('Episode')\n",
    "plt.ylabel('Act losses 2')"
   ]
  },
  {
   "cell_type": "markdown",
   "metadata": {},
   "source": [
    "## Testing\n",
    "\n",
    "Let's checkout how our trained agent plays the game."
   ]
  },
  {
   "cell_type": "code",
   "execution_count": 24,
   "metadata": {},
   "outputs": [
    {
     "name": "stdout",
     "output_type": "stream",
     "text": [
      "INFO:tensorflow:Restoring parameters from checkpoints/model.ckpt\n",
      "total_reward: 500.0\n",
      "total_reward: 500.0\n",
      "total_reward: 500.0\n",
      "total_reward: 500.0\n",
      "total_reward: 500.0\n",
      "total_reward: 500.0\n",
      "total_reward: 500.0\n",
      "total_reward: 500.0\n",
      "total_reward: 500.0\n",
      "total_reward: 500.0\n"
     ]
    }
   ],
   "source": [
    "import gym\n",
    "env = gym.make('CartPole-v0')\n",
    "env = gym.make('CartPole-v1')\n",
    "\n",
    "with tf.Session() as sess:\n",
    "    sess.run(tf.global_variables_initializer())\n",
    "    saver.restore(sess, 'checkpoints/model.ckpt')    \n",
    "    #saver.restore(sess, tf.train.latest_checkpoint('checkpoints'))\n",
    "    \n",
    "    # Episodes/epochs\n",
    "    for _ in range(10):\n",
    "        state = env.reset()\n",
    "        total_reward = 0\n",
    "\n",
    "        # Steps/batches\n",
    "        while True:\n",
    "            env.render()\n",
    "            action_logits = sess.run(model.actions_logits, feed_dict={model.states: state.reshape([1, -1])})\n",
    "            action = np.argmax(action_logits)\n",
    "            state, reward, done, _ = env.step(action)\n",
    "            total_reward += reward\n",
    "            if done:\n",
    "                print('total_reward: {}'.format(total_reward))\n",
    "                break\n",
    "                \n",
    "env.close()"
   ]
  },
  {
   "cell_type": "code",
   "execution_count": null,
   "metadata": {},
   "outputs": [],
   "source": []
  }
 ],
 "metadata": {
  "kernelspec": {
   "display_name": "Python 3",
   "language": "python",
   "name": "python3"
  },
  "language_info": {
   "codemirror_mode": {
    "name": "ipython",
    "version": 3
   },
   "file_extension": ".py",
   "mimetype": "text/x-python",
   "name": "python",
   "nbconvert_exporter": "python",
   "pygments_lexer": "ipython3",
   "version": "3.6.6"
  }
 },
 "nbformat": 4,
 "nbformat_minor": 2
}
