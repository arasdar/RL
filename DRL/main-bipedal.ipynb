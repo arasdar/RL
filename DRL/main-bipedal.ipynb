{
 "cells": [
  {
   "cell_type": "markdown",
   "metadata": {},
   "source": [
    "# DPG for BipedalWalker\n",
    "\n",
    "In this notebook, we'll build a neural network that can learn to play games through reinforcement learning. More specifically, we'll use Q-learning to train an agent to play a game called [Cart-Pole](https://gym.openai.com/envs/CartPole-v0). In this game, a freely swinging pole is attached to a cart. The cart can move to the left and right, and the goal is to keep the pole upright as long as possible.\n",
    "\n",
    "We can simulate this game using [OpenAI Gym](https://gym.openai.com/). First, let's check out how OpenAI Gym works. Then, we'll get into training an agent to play the Cart-Pole game."
   ]
  },
  {
   "cell_type": "code",
   "execution_count": 13,
   "metadata": {},
   "outputs": [
    {
     "name": "stdout",
     "output_type": "stream",
     "text": [
      "TensorFlow Version: 1.11.0\n",
      "Default GPU Device: /device:GPU:0\n"
     ]
    }
   ],
   "source": [
    "# In this one we should define and detect GPUs for tensorflow\n",
    "# GPUs or CPU\n",
    "import tensorflow as tf\n",
    "\n",
    "# Check TensorFlow Version\n",
    "print('TensorFlow Version: {}'.format(tf.__version__))\n",
    "\n",
    "# Check for a GPU\n",
    "print('Default GPU Device: {}'.format(tf.test.gpu_device_name()))"
   ]
  },
  {
   "cell_type": "markdown",
   "metadata": {},
   "source": [
    ">**Note:** Make sure you have OpenAI Gym cloned into the same directory with this notebook. I've included `gym` as a submodule, so you can run `git submodule --init --recursive` to pull the contents into the `gym` repo."
   ]
  },
  {
   "cell_type": "markdown",
   "metadata": {},
   "source": [
    "##### >**Note:** Make sure you have OpenAI Gym cloned. Then run this command `pip install -e gym/[all]`."
   ]
  },
  {
   "cell_type": "code",
   "execution_count": 15,
   "metadata": {},
   "outputs": [
    {
     "name": "stdout",
     "output_type": "stream",
     "text": [
      "\u001b[33mWARN: gym.spaces.Box autodetected dtype as <class 'numpy.float32'>. Please provide explicit dtype.\u001b[0m\n",
      "\u001b[33mWARN: gym.spaces.Box autodetected dtype as <class 'numpy.float32'>. Please provide explicit dtype.\u001b[0m\n"
     ]
    }
   ],
   "source": [
    "import gym\n",
    "env = gym.make('BipedalWalker-v2')"
   ]
  },
  {
   "cell_type": "markdown",
   "metadata": {},
   "source": [
    "We interact with the simulation through `env`. To show the simulation running, you can use `env.render()` to render one frame. Passing in an action as an integer to `env.step` will generate the next step in the simulation.  You can see how many actions are possible from `env.action_space` and to get a random action you can use `env.action_space.sample()`. This is general to all Gym games. In the Cart-Pole game, there are two possible actions, moving the cart left or right. So there are two actions we can take, encoded as 0 and 1.\n",
    "\n",
    "Run the code below to watch the simulation run."
   ]
  },
  {
   "cell_type": "code",
   "execution_count": 18,
   "metadata": {},
   "outputs": [
    {
     "data": {
      "text/plain": [
       "(Box(24,), Box(4,))"
      ]
     },
     "execution_count": 18,
     "metadata": {},
     "output_type": "execute_result"
    }
   ],
   "source": [
    "env.observation_space, env.action_space"
   ]
  },
  {
   "cell_type": "code",
   "execution_count": 19,
   "metadata": {},
   "outputs": [],
   "source": [
    "state = env.reset()\n",
    "batch = []\n",
    "for _ in range(1111):\n",
    "    #env.render()\n",
    "    action = env.action_space.sample()\n",
    "    next_state, reward, done, _ = env.step(action) # take a random action\n",
    "    batch.append([state, action, next_state, reward, float(done)])\n",
    "    state = next_state\n",
    "    if done:\n",
    "        state = env.reset()"
   ]
  },
  {
   "cell_type": "markdown",
   "metadata": {},
   "source": [
    "To shut the window showing the simulation, use `env.close()`."
   ]
  },
  {
   "cell_type": "code",
   "execution_count": 20,
   "metadata": {},
   "outputs": [],
   "source": [
    "# env.close()"
   ]
  },
  {
   "cell_type": "markdown",
   "metadata": {},
   "source": [
    "If you ran the simulation above, we can look at the rewards:"
   ]
  },
  {
   "cell_type": "code",
   "execution_count": 21,
   "metadata": {},
   "outputs": [],
   "source": [
    "import numpy as np\n",
    "actions = np.array([each[0] for each in batch])\n",
    "states = np.array([each[1] for each in batch])\n",
    "rewards = np.array([each[2] for each in batch])\n",
    "dones = np.array([each[3] for each in batch])\n",
    "infos = np.array([each[4] for each in batch])"
   ]
  },
  {
   "cell_type": "code",
   "execution_count": 22,
   "metadata": {},
   "outputs": [
    {
     "name": "stdout",
     "output_type": "stream",
     "text": [
      "states: 0.9999559 -0.99969923\n",
      "actions: 2.3322839736938477 -2.0839174588521323\n",
      "rewards: 2.3322839736938477 -2.0839174588521323\n"
     ]
    }
   ],
   "source": [
    "print('states:', np.max(np.array(states)), np.min(np.array(states)))\n",
    "print('actions:', np.max(np.array(actions)), np.min(np.array(actions)))\n",
    "print('rewards:', np.max(np.array(rewards)), np.min(np.array(rewards)))"
   ]
  },
  {
   "cell_type": "code",
   "execution_count": 23,
   "metadata": {},
   "outputs": [
    {
     "data": {
      "text/plain": [
       "(array([1., 1., 1., 1.], dtype=float32),\n",
       " array([-1., -1., -1., -1.], dtype=float32))"
      ]
     },
     "execution_count": 23,
     "metadata": {},
     "output_type": "execute_result"
    }
   ],
   "source": [
    "env.action_space.high, env.action_space.low"
   ]
  },
  {
   "cell_type": "markdown",
   "metadata": {},
   "source": [
    "The game resets after the pole has fallen past a certain angle. For each frame while the simulation is running, it returns a reward of 1.0. The longer the game runs, the more reward we get. Then, our network's goal is to maximize the reward by keeping the pole vertical. It will do this by moving the cart to the left and the right."
   ]
  },
  {
   "cell_type": "markdown",
   "metadata": {},
   "source": [
    "## Q-Network\n",
    "\n",
    "We train our Q-learning agent using the Bellman Equation:\n",
    "\n",
    "$$\n",
    "Q(s, a) = r + \\gamma \\max{Q(s', a')}\n",
    "$$\n",
    "\n",
    "where $s$ is a state, $a$ is an action, and $s'$ is the next state from state $s$ and action $a$.\n",
    "\n",
    "Before we used this equation to learn values for a Q-_table_. However, for this game there are a huge number of states available. The state has four values: the position and velocity of the cart, and the position and velocity of the pole. These are all real-valued numbers, so ignoring floating point precisions, you practically have infinite states. Instead of using a table then, we'll replace it with a neural network that will approximate the Q-table lookup function.\n",
    "\n",
    "<img src=\"assets/deep-q-learning.png\" width=450px>\n",
    "\n",
    "Now, our Q value, $Q(s, a)$ is calculated by passing in a state to the network. The output will be Q-values for each available action, with fully connected hidden layers.\n",
    "\n",
    "<img src=\"assets/q-network.png\" width=550px>\n",
    "\n",
    "\n",
    "As I showed before, we can define our targets for training as $\\hat{Q}(s,a) = r + \\gamma \\max{Q(s', a')}$. Then we update the weights by minimizing $(\\hat{Q}(s,a) - Q(s,a))^2$. \n",
    "\n",
    "For this Cart-Pole game, we have four inputs, one for each value in the state, and two outputs, one for each action. To get $\\hat{Q}$, we'll first choose an action, then simulate the game using that action. This will get us the next state, $s'$, and the reward. With that, we can calculate $\\hat{Q}$ then pass it back into the $Q$ network to run the optimizer and update the weights.\n",
    "\n",
    "Below is my implementation of the Q-network. I used two fully connected layers with ReLU activations. Two seems to be good enough, three might be better. Feel free to try it out."
   ]
  },
  {
   "cell_type": "code",
   "execution_count": 29,
   "metadata": {},
   "outputs": [],
   "source": [
    "def model_input(state_size, action_size):\n",
    "    #states = tf.placeholder(tf.float32, [None, *state_shape], name='states')\n",
    "    states = tf.placeholder(tf.float32, [None, state_size], name='states')\n",
    "    actions = tf.placeholder(tf.float32, [None, action_size], name='actions')\n",
    "    targetQs = tf.placeholder(tf.float32, [None], name='targetQs')\n",
    "    rates = tf.placeholder(tf.float32, [None], name='rates')\n",
    "    #training = tf.placeholder(tf.bool, [], name='training')\n",
    "    return states, actions, targetQs, rates"
   ]
  },
  {
   "cell_type": "code",
   "execution_count": 30,
   "metadata": {},
   "outputs": [],
   "source": [
    "# Generator/Controller: Generating/prediting the actions\n",
    "def generator(states, action_size, hidden_size, reuse=False, alpha=0.1, training=False):\n",
    "    with tf.variable_scope('generator', reuse=reuse):\n",
    "        # First fully connected layer\n",
    "        h1 = tf.layers.dense(inputs=states, units=hidden_size)\n",
    "        bn1 = tf.layers.batch_normalization(h1, training=training)        \n",
    "        nl1 = tf.maximum(alpha * bn1, bn1)\n",
    "        \n",
    "        # Second fully connected layer\n",
    "        h2 = tf.layers.dense(inputs=nl1, units=hidden_size)\n",
    "        bn2 = tf.layers.batch_normalization(h2, training=training)        \n",
    "        nl2 = tf.maximum(alpha * bn2, bn2)\n",
    "        \n",
    "        # Output layer\n",
    "        logits = tf.layers.dense(inputs=nl2, units=action_size)        \n",
    "        predictions = tf.nn.tanh(logits) # [-1, +1]\n",
    "\n",
    "        # return actions logits\n",
    "        return predictions"
   ]
  },
  {
   "cell_type": "code",
   "execution_count": 31,
   "metadata": {},
   "outputs": [],
   "source": [
    "# Discriminator/Dopamine: Reward function/planner/naviator/advisor/supervisor/cortical columns\n",
    "def discriminator(states, actions, hidden_size, reuse=False, alpha=0.1, training=False):\n",
    "    with tf.variable_scope('discriminator', reuse=reuse):\n",
    "        # First fully connected layer\n",
    "        h1 = tf.layers.dense(inputs=states, units=action_size)\n",
    "        bn1 = tf.layers.batch_normalization(h1, training=training)        \n",
    "        nl1 = tf.maximum(alpha * bn1, bn1)\n",
    "        \n",
    "        # Second fully connected layer\n",
    "        fused = tf.concat(axis=1, values=[nl1, actions])\n",
    "        h2 = tf.layers.dense(inputs=fused, units=hidden_size)\n",
    "        bn2 = tf.layers.batch_normalization(h2, training=training)        \n",
    "        nl2 = tf.maximum(alpha * bn2, bn2)\n",
    "                \n",
    "        # Output layer\n",
    "        logits = tf.layers.dense(inputs=nl2, units=1)        \n",
    "        #predictions = tf.nn.softmax(logits)\n",
    "\n",
    "        # return rewards logits\n",
    "        return logits"
   ]
  },
  {
   "cell_type": "code",
   "execution_count": 32,
   "metadata": {},
   "outputs": [],
   "source": [
    "def model_loss(action_size, hidden_size, states, actions, targetQs, rates):\n",
    "    actions_preds = generator(states=states, hidden_size=hidden_size, action_size=action_size)\n",
    "    gQs = discriminator(actions=actions_preds, hidden_size=hidden_size, states=states) # nextQs/targetQs\n",
    "    gloss = -tf.reduce_mean(gQs)\n",
    "    dQs = discriminator(actions=actions, hidden_size=hidden_size, states=states, reuse=True) # Qs\n",
    "    targetQs = tf.reshape(targetQs, shape=[-1, 1]) # gQs\n",
    "    dloss = tf.reduce_mean(tf.square(dQs - targetQs)) # DQN\n",
    "    rates = tf.reshape(rates, shape=[-1, 1]) # [-1,+1]\n",
    "    dloss += tf.reduce_mean(tf.square(tf.nn.tanh(dQs) - rates)) # DQN\n",
    "    return actions_preds, gQs, gloss, dloss"
   ]
  },
  {
   "cell_type": "code",
   "execution_count": 33,
   "metadata": {},
   "outputs": [],
   "source": [
    "# Optimizating/training/learning G & D\n",
    "def model_opt(g_loss, d_loss, g_learning_rate, d_learning_rate):\n",
    "    # Get weights and bias to update\n",
    "    t_vars = tf.trainable_variables()\n",
    "    g_vars = [var for var in t_vars if var.name.startswith('generator')]\n",
    "    d_vars = [var for var in t_vars if var.name.startswith('discriminator')]\n",
    "\n",
    "    # Optimize\n",
    "    with tf.control_dependencies(tf.get_collection(tf.GraphKeys.UPDATE_OPS)): # Required for batchnorm (BN)\n",
    "        g_opt = tf.train.AdamOptimizer(g_learning_rate).minimize(g_loss, var_list=g_vars)\n",
    "        d_opt = tf.train.AdamOptimizer(d_learning_rate).minimize(d_loss, var_list=d_vars)\n",
    "    return g_opt, d_opt"
   ]
  },
  {
   "cell_type": "code",
   "execution_count": 34,
   "metadata": {},
   "outputs": [],
   "source": [
    "class Model:\n",
    "    def __init__(self, state_size, action_size, hidden_size, g_learning_rate, d_learning_rate):\n",
    "\n",
    "        # Data of the Model: make the data available inside the framework\n",
    "        self.states, self.actions, self.targetQs, self.rates = model_input(state_size=state_size, \n",
    "                                                                           action_size=action_size)\n",
    "\n",
    "        # Create the Model: calculating the loss and forwad pass\n",
    "        self.actions_preds, self.Qs_logits, self.g_loss, self.d_loss = model_loss(\n",
    "            action_size=action_size, hidden_size=hidden_size, # model init parameters\n",
    "            states=self.states, actions=self.actions, targetQs=self.targetQs, rates=self.rates) # model input\n",
    "        \n",
    "        # Update the model: backward pass and backprop\n",
    "        self.g_opt, self.d_opt = model_opt(g_loss=self.g_loss, \n",
    "                                           d_loss=self.d_loss,\n",
    "                                           g_learning_rate=g_learning_rate, \n",
    "                                           d_learning_rate=d_learning_rate)"
   ]
  },
  {
   "cell_type": "code",
   "execution_count": 35,
   "metadata": {},
   "outputs": [],
   "source": [
    "from collections import deque\n",
    "class Memory():\n",
    "    def __init__(self, max_size = 1000):\n",
    "        self.buffer = deque(maxlen=max_size)\n",
    "    def sample(self, batch_size):\n",
    "        idx = np.random.choice(np.arange(len(self.buffer)), \n",
    "                               size=batch_size, \n",
    "                               replace=False)\n",
    "        return [self.buffer[ii] for ii in idx]"
   ]
  },
  {
   "cell_type": "markdown",
   "metadata": {},
   "source": [
    "## Hyperparameters\n",
    "\n",
    "One of the more difficult aspects of reinforcememt learning are the large number of hyperparameters. Not only are we tuning the network, but we're tuning the simulation."
   ]
  },
  {
   "cell_type": "code",
   "execution_count": 36,
   "metadata": {},
   "outputs": [
    {
     "data": {
      "text/plain": [
       "(Box(24,), Box(4,))"
      ]
     },
     "execution_count": 36,
     "metadata": {},
     "output_type": "execute_result"
    }
   ],
   "source": [
    "env.observation_space, env.action_space"
   ]
  },
  {
   "cell_type": "code",
   "execution_count": 37,
   "metadata": {},
   "outputs": [],
   "source": [
    "# Exploration parameters\n",
    "explore_start = 1.0            # exploration probability at start\n",
    "explore_stop = 0.01           # minimum exploration probability \n",
    "decay_rate = 0.0001            # exponential decay rate for exploration prob\n",
    "\n",
    "# Network parameters\n",
    "state_size = 24\n",
    "action_size = 4\n",
    "hidden_size = 24*2             # number of units in each Q-network hidden layer\n",
    "g_learning_rate = 1e-4         # Q-network learning rate\n",
    "d_learning_rate = 1e-4         # Q-network learning rate\n",
    "\n",
    "# Memory parameters\n",
    "memory_size = int(1e5)            # memory capacity\n",
    "batch_size = int(1e2)             # experience mini-batch size == one episode size is 1000/int(1e3) steps\n",
    "gamma = 0.99                   # future reward discount"
   ]
  },
  {
   "cell_type": "code",
   "execution_count": 38,
   "metadata": {},
   "outputs": [],
   "source": [
    "# Reset/init the graph/session\n",
    "graph = tf.reset_default_graph()\n",
    "\n",
    "# Init the model\n",
    "model = Model(action_size=action_size, state_size=state_size, hidden_size=hidden_size,\n",
    "              g_learning_rate=g_learning_rate, d_learning_rate=d_learning_rate)\n",
    "\n",
    "# Init the memory\n",
    "memory = Memory(max_size=memory_size)"
   ]
  },
  {
   "cell_type": "code",
   "execution_count": 39,
   "metadata": {},
   "outputs": [
    {
     "data": {
      "text/plain": [
       "(array([1., 1., 1., 1.], dtype=float32),\n",
       " array([-1., -1., -1., -1.], dtype=float32),\n",
       " (4,),\n",
       " (-inf, inf),\n",
       " Box(4,))"
      ]
     },
     "execution_count": 39,
     "metadata": {},
     "output_type": "execute_result"
    }
   ],
   "source": [
    "env.action_space.high, env.action_space.low, env.action_space.shape, \\\n",
    "env.reward_range, env.action_space"
   ]
  },
  {
   "cell_type": "code",
   "execution_count": 40,
   "metadata": {},
   "outputs": [
    {
     "name": "stdout",
     "output_type": "stream",
     "text": [
      "states: 0.9999559 -0.99969923\n",
      "actions: 2.3322839736938477 -2.0839174588521323\n",
      "rewards: 2.3322839736938477 -2.0839174588521323\n"
     ]
    }
   ],
   "source": [
    "print('states:', np.max(np.array(states)), np.min(np.array(states)))\n",
    "print('actions:', np.max(np.array(actions)), np.min(np.array(actions)))\n",
    "print('rewards:', np.max(np.array(rewards)), np.min(np.array(rewards)))"
   ]
  },
  {
   "cell_type": "code",
   "execution_count": 41,
   "metadata": {},
   "outputs": [
    {
     "name": "stdout",
     "output_type": "stream",
     "text": [
      "Progress: 0.01599\n",
      "Progress: 0.01688\n",
      "Progress: 0.01791\n",
      "Progress: 0.01853\n",
      "Progress: 0.01994\n",
      "Progress: 0.02038\n",
      "Progress: 0.02143\n",
      "Progress: 0.03743\n",
      "Progress: 0.05343\n",
      "Progress: 0.05448\n",
      "Progress: 0.05557\n",
      "Progress: 0.06224\n",
      "Progress: 0.07824\n",
      "Progress: 0.09424\n",
      "Progress: 0.11024\n",
      "Progress: 0.12624\n",
      "Progress: 0.14224\n",
      "Progress: 0.15824\n",
      "Progress: 0.159\n",
      "Progress: 0.15938\n",
      "Progress: 0.16016\n",
      "Progress: 0.16102\n",
      "Progress: 0.16181\n",
      "Progress: 0.16253\n",
      "Progress: 0.17853\n",
      "Progress: 0.19453\n",
      "Progress: 0.19555\n",
      "Progress: 0.19646\n",
      "Progress: 0.21246\n",
      "Progress: 0.21372\n",
      "Progress: 0.21456\n",
      "Progress: 0.21546\n",
      "Progress: 0.21614\n",
      "Progress: 0.21695\n",
      "Progress: 0.21764\n",
      "Progress: 0.21868\n",
      "Progress: 0.2195\n",
      "Progress: 0.2355\n",
      "Progress: 0.23638\n",
      "Progress: 0.23704\n",
      "Progress: 0.23776\n",
      "Progress: 0.23821\n",
      "Progress: 0.23869\n",
      "Progress: 0.23988\n",
      "Progress: 0.24075\n",
      "Progress: 0.25675\n",
      "Progress: 0.25759\n",
      "Progress: 0.25825\n",
      "Progress: 0.25922\n",
      "Progress: 0.27522\n",
      "Progress: 0.29122\n",
      "Progress: 0.2928\n",
      "Progress: 0.29404\n",
      "Progress: 0.29526\n",
      "Progress: 0.31126\n",
      "Progress: 0.31183\n",
      "Progress: 0.31296\n",
      "Progress: 0.31378\n",
      "Progress: 0.31487\n",
      "Progress: 0.33087\n",
      "Progress: 0.33162\n",
      "Progress: 0.33208\n",
      "Progress: 0.34808\n",
      "Progress: 0.36408\n",
      "Progress: 0.36468\n",
      "Progress: 0.36533\n",
      "Progress: 0.36618\n",
      "Progress: 0.36704\n",
      "Progress: 0.36747\n",
      "Progress: 0.36819\n",
      "Progress: 0.36877\n",
      "Progress: 0.38477\n",
      "Progress: 0.38528\n",
      "Progress: 0.38617\n",
      "Progress: 0.40217\n",
      "Progress: 0.41817\n",
      "Progress: 0.41882\n",
      "Progress: 0.41975\n",
      "Progress: 0.42058\n",
      "Progress: 0.42141\n",
      "Progress: 0.42251\n",
      "Progress: 0.43851\n",
      "Progress: 0.43931\n",
      "Progress: 0.44015\n",
      "Progress: 0.44095\n",
      "Progress: 0.45695\n",
      "Progress: 0.47295\n",
      "Progress: 0.47356\n",
      "Progress: 0.48956\n",
      "Progress: 0.49022\n",
      "Progress: 0.49102\n",
      "Progress: 0.49168\n",
      "Progress: 0.50768\n",
      "Progress: 0.50841\n",
      "Progress: 0.52441\n",
      "Progress: 0.52582\n",
      "Progress: 0.54182\n",
      "Progress: 0.54228\n",
      "Progress: 0.54317\n",
      "Progress: 0.55917\n",
      "Progress: 0.57517\n",
      "Progress: 0.57566\n",
      "Progress: 0.57644\n",
      "Progress: 0.57717\n",
      "Progress: 0.57817\n",
      "Progress: 0.57885\n",
      "Progress: 0.57954\n",
      "Progress: 0.59554\n",
      "Progress: 0.61154\n",
      "Progress: 0.61279\n",
      "Progress: 0.62879\n",
      "Progress: 0.64479\n",
      "Progress: 0.66079\n",
      "Progress: 0.67679\n",
      "Progress: 0.69279\n",
      "Progress: 0.69341\n",
      "Progress: 0.69428\n",
      "Progress: 0.69487\n",
      "Progress: 0.69559\n",
      "Progress: 0.71159\n",
      "Progress: 0.72759\n",
      "Progress: 0.74359\n",
      "Progress: 0.75959\n",
      "Progress: 0.76028\n",
      "Progress: 0.76095\n",
      "Progress: 0.76192\n",
      "Progress: 0.76252\n",
      "Progress: 0.76321\n",
      "Progress: 0.76376\n",
      "Progress: 0.76451\n",
      "Progress: 0.76528\n",
      "Progress: 0.76617\n",
      "Progress: 0.76703\n",
      "Progress: 0.78303\n",
      "Progress: 0.79903\n",
      "Progress: 0.81503\n",
      "Progress: 0.81578\n",
      "Progress: 0.81686\n",
      "Progress: 0.83286\n",
      "Progress: 0.84886\n",
      "Progress: 0.86486\n",
      "Progress: 0.88086\n",
      "Progress: 0.88155\n",
      "Progress: 0.88227\n",
      "Progress: 0.89827\n",
      "Progress: 0.91427\n",
      "Progress: 0.91481\n",
      "Progress: 0.93081\n",
      "Progress: 0.93156\n",
      "Progress: 0.93216\n",
      "Progress: 0.93305\n",
      "Progress: 0.9337\n",
      "Progress: 0.93488\n",
      "Progress: 0.9354\n",
      "Progress: 0.93612\n",
      "Progress: 0.93682\n",
      "Progress: 0.95282\n",
      "Progress: 0.96882\n",
      "Progress: 0.98482\n",
      "Progress: 0.98563\n"
     ]
    }
   ],
   "source": [
    "state = env.reset()\n",
    "total_reward = 0\n",
    "num_step = 0\n",
    "for each_step in range(memory_size):\n",
    "    action = env.action_space.sample() # randomness\n",
    "    action = np.clip(action, -1, 1) # clipped: [-1, +1]\n",
    "    next_state, reward, done, _ = env.step(action)\n",
    "    rate = -1 # success rate: [-1, +1]\n",
    "    memory.buffer.append([state, action, next_state, reward, float(done), rate])\n",
    "    num_step += 1 # memory updated\n",
    "    total_reward += reward # max reward 300\n",
    "    state = next_state\n",
    "    if done is True:\n",
    "        print('Progress:', each_step/memory_size)\n",
    "        state = env.reset()\n",
    "        # Best 100-episode average reward was 220.62 ± 0.69. \n",
    "        # (BipedalWalker-v2 is considered \"solved\" \n",
    "        #  when the agent obtains an average reward of at least 300 over 100 consecutive episodes.)        \n",
    "        rate = total_reward/300\n",
    "        rate = np.clip(rate, -1, 1) \n",
    "        total_reward = 0 # reset\n",
    "        for idx in range(num_step): # episode length\n",
    "            if memory.buffer[-1-idx][-1] == -1:\n",
    "                memory.buffer[-1-idx][-1] = rate\n",
    "        num_step = 0 # reset"
   ]
  },
  {
   "cell_type": "markdown",
   "metadata": {},
   "source": [
    "## Training the model\n",
    "\n",
    "Below we'll train our agent. If you want to watch it train, uncomment the `env.render()` line. This is slow because it's rendering the frames slower than the network can train. But, it's cool to watch the agent get better at the game."
   ]
  },
  {
   "cell_type": "code",
   "execution_count": null,
   "metadata": {},
   "outputs": [
    {
     "name": "stdout",
     "output_type": "stream",
     "text": [
      "Episode:0 meanR:-94.4388 R:-94.4388 gloss:0.2058 dloss:7.8051\n",
      "Episode:1 meanR:-96.3160 R:-98.1931 gloss:0.2062 dloss:5.4810\n",
      "Episode:2 meanR:-102.7849 R:-115.7228 gloss:0.1999 dloss:15.3338\n",
      "Episode:3 meanR:-105.0915 R:-112.0115 gloss:0.1975 dloss:10.4877\n",
      "Episode:4 meanR:-108.9530 R:-124.3989 gloss:0.1871 dloss:11.0494\n",
      "Episode:5 meanR:-114.6133 R:-142.9145 gloss:0.3408 dloss:9.7813\n",
      "Episode:6 meanR:-116.6183 R:-128.6487 gloss:0.4870 dloss:16.9175\n",
      "Episode:7 meanR:-118.1194 R:-128.6269 gloss:0.4997 dloss:12.7161\n",
      "Episode:8 meanR:-119.3183 R:-128.9091 gloss:0.5115 dloss:8.4811\n",
      "Episode:9 meanR:-120.0307 R:-126.4429 gloss:0.5008 dloss:4.1859\n",
      "Episode:10 meanR:-120.8613 R:-129.1673 gloss:0.4785 dloss:8.4878\n",
      "Episode:11 meanR:-121.3272 R:-126.4513 gloss:0.4630 dloss:8.3026\n",
      "Episode:12 meanR:-120.7193 R:-113.4246 gloss:0.2602 dloss:9.9020\n",
      "Episode:13 meanR:-119.9651 R:-110.1605 gloss:0.2036 dloss:10.9362\n",
      "Episode:14 meanR:-115.2518 R:-49.2652 gloss:0.2529 dloss:11.8088\n",
      "Episode:15 meanR:-114.5748 R:-104.4210 gloss:0.2481 dloss:9.1277\n",
      "Episode:16 meanR:-114.0875 R:-106.2896 gloss:0.2289 dloss:10.7796\n",
      "Episode:17 meanR:-114.8560 R:-127.9212 gloss:0.2172 dloss:10.8295\n",
      "Episode:18 meanR:-112.0036 R:-60.6602 gloss:0.2455 dloss:10.8758\n",
      "Episode:19 meanR:-111.6339 R:-104.6096 gloss:0.2619 dloss:10.2260\n",
      "Episode:20 meanR:-109.0931 R:-58.2766 gloss:0.2596 dloss:10.5515\n",
      "Episode:21 meanR:-109.2525 R:-112.6013 gloss:0.2385 dloss:6.9250\n",
      "Episode:22 meanR:-109.0196 R:-103.8948 gloss:0.2364 dloss:11.2383\n",
      "Episode:23 meanR:-108.7159 R:-101.7299 gloss:0.2410 dloss:8.4866\n",
      "Episode:24 meanR:-108.8958 R:-113.2156 gloss:0.2278 dloss:9.8004\n",
      "Episode:25 meanR:-108.6807 R:-103.3027 gloss:0.2382 dloss:12.6506\n",
      "Episode:26 meanR:-108.8313 R:-112.7462 gloss:0.2513 dloss:14.1100\n",
      "Episode:27 meanR:-108.5747 R:-101.6469 gloss:0.2592 dloss:13.9517\n",
      "Episode:28 meanR:-108.3284 R:-101.4316 gloss:0.2601 dloss:10.5026\n",
      "Episode:29 meanR:-108.4801 R:-112.8789 gloss:0.2504 dloss:10.4562\n",
      "Episode:30 meanR:-108.6132 R:-112.6069 gloss:0.2579 dloss:16.8778\n",
      "Episode:31 meanR:-108.3893 R:-101.4481 gloss:0.2605 dloss:13.6977\n",
      "Episode:32 meanR:-108.2108 R:-102.4995 gloss:0.2878 dloss:17.1875\n",
      "Episode:33 meanR:-108.3037 R:-111.3689 gloss:0.3010 dloss:15.0249\n",
      "Episode:34 meanR:-108.1334 R:-102.3417 gloss:0.2888 dloss:9.7686\n",
      "Episode:35 meanR:-107.9551 R:-101.7150 gloss:0.2824 dloss:11.9129\n",
      "Episode:36 meanR:-105.5533 R:-19.0894 gloss:0.2953 dloss:12.1752\n",
      "Episode:37 meanR:-105.7207 R:-111.9135 gloss:0.3156 dloss:9.9480\n",
      "Episode:38 meanR:-105.8916 R:-112.3863 gloss:0.3105 dloss:10.0390\n"
     ]
    }
   ],
   "source": [
    "# Save/load the model and save for plotting\n",
    "saver = tf.train.Saver()\n",
    "episode_rewards_list, rewards_list, gloss_list, dloss_list = [], [], [], []\n",
    "\n",
    "# TF session for training\n",
    "with tf.Session(graph=graph) as sess:\n",
    "    sess.run(tf.global_variables_initializer())\n",
    "    #saver.restore(sess, 'checkpoints/model2.ckpt')    \n",
    "    #saver.restore(sess, tf.train.latest_checkpoint('checkpoints'))\n",
    "    episode_reward = deque(maxlen=100) # 100 episodes average/running average/running mean/window\n",
    "    \n",
    "    # Training episodes/epochs\n",
    "    for ep in range(111):\n",
    "        total_reward = 0\n",
    "        num_step = 0\n",
    "        gloss_batch, dloss_batch = [], []\n",
    "        state = env.reset()\n",
    "\n",
    "        # Training steps/batches\n",
    "        while True:\n",
    "            action_preds = sess.run(model.actions_preds, feed_dict={model.states: state.reshape([1, -1])})\n",
    "            noise = np.random.normal(loc=0, scale=0.1, size=action_size) # randomness\n",
    "            action = action_preds.reshape([-1]) + noise\n",
    "            #print(action.shape, action_logits.shape, noise.shape)\n",
    "            action = np.clip(action, -1, 1) # clipped\n",
    "            next_state, reward, done, _ = env.step(action)\n",
    "            rate = -1 # success rate: -1 to +1\n",
    "            memory.buffer.append([state, action, next_state, reward, float(done), rate])\n",
    "            num_step += 1 # memory updated\n",
    "            total_reward += reward # max reward 300\n",
    "            state = next_state\n",
    "            \n",
    "            if done is True:\n",
    "                # Best 100-episode average reward was 220.62 ± 0.69. \n",
    "                # (BipedalWalker-v2 is considered \"solved\" \n",
    "                #  when the agent obtains an average reward of at least 300 over 100 consecutive episodes.)        \n",
    "                rate = total_reward/300\n",
    "                rate = np.clip(rate, -1, 1)\n",
    "                for idx in range(num_step): # episode length\n",
    "                    if memory.buffer[-1-idx][-1] == -1:\n",
    "                        memory.buffer[-1-idx][-1] = rate\n",
    "                        \n",
    "            # Training\n",
    "            batch = memory.sample(batch_size)\n",
    "            states = np.array([each[0] for each in batch])\n",
    "            actions = np.array([each[1] for each in batch])\n",
    "            next_states = np.array([each[2] for each in batch])\n",
    "            rewards = np.array([each[3] for each in batch])\n",
    "            dones = np.array([each[4] for each in batch])\n",
    "            rates = np.array([each[5] for each in batch])\n",
    "            nextQs_logits = sess.run(model.Qs_logits, feed_dict = {model.states: next_states})\n",
    "            #nextQs = np.max(nextQs_logits, axis=1) * (1-dones) # discrete DQN\n",
    "            nextQs = nextQs_logits.reshape([-1]) * (1-dones) # continuous DPG\n",
    "            targetQs = rewards + (gamma * nextQs)\n",
    "            gloss, dloss, _, _ = sess.run([model.g_loss, model.d_loss, model.g_opt, model.d_opt],\n",
    "                                          feed_dict = {model.states: states, \n",
    "                                                       model.actions: actions,\n",
    "                                                       model.targetQs: targetQs, \n",
    "                                                       model.rates: rates})\n",
    "            gloss_batch.append(gloss)\n",
    "            dloss_batch.append(dloss)\n",
    "            if done is True:\n",
    "                break\n",
    "                \n",
    "        episode_reward.append(total_reward)\n",
    "        print('Episode:{}'.format(ep),\n",
    "              'meanR:{:.4f}'.format(np.mean(episode_reward)),\n",
    "              'R:{:.4f}'.format(total_reward),\n",
    "              'gloss:{:.4f}'.format(np.mean(gloss_batch)),\n",
    "              'dloss:{:.4f}'.format(np.mean(dloss_batch)))\n",
    "        # Ploting out\n",
    "        episode_rewards_list.append([ep, np.mean(episode_reward)])\n",
    "        rewards_list.append([ep, total_reward])\n",
    "        gloss_list.append([ep, np.mean(gloss_batch)])\n",
    "        dloss_list.append([ep, np.mean(dloss_batch)])\n",
    "        # Break episode/epoch loop\n",
    "        # Did not solve the environment. \n",
    "        # Best 100-episode average reward was 220.62 ± 0.69. \n",
    "        # (BipedalWalker-v2 is considered \"solved\" \n",
    "        #  when the agent obtains an average reward of at least 300 over 100 consecutive episodes.)        \n",
    "        if np.mean(episode_reward) >= 300:\n",
    "            break\n",
    "            \n",
    "    # At the end of all training episodes/epochs\n",
    "    saver.save(sess, 'checkpoints/model.ckpt')"
   ]
  },
  {
   "cell_type": "markdown",
   "metadata": {},
   "source": [
    "# Visualizing training\n",
    "\n",
    "Below I'll plot the total rewards for each episode. I'm plotting the rolling average too, in blue."
   ]
  },
  {
   "cell_type": "code",
   "execution_count": null,
   "metadata": {},
   "outputs": [],
   "source": [
    "import matplotlib.pyplot as plt\n",
    "%matplotlib inline\n",
    "\n",
    "def running_mean(x, N):\n",
    "    cumsum = np.cumsum(np.insert(x, 0, 0)) \n",
    "    return (cumsum[N:] - cumsum[:-N]) / N "
   ]
  },
  {
   "cell_type": "code",
   "execution_count": null,
   "metadata": {},
   "outputs": [],
   "source": [
    "eps, arr = np.array(episode_rewards_list).T\n",
    "smoothed_arr = running_mean(arr, 10)\n",
    "plt.plot(eps[-len(smoothed_arr):], smoothed_arr)\n",
    "plt.plot(eps, arr, color='grey', alpha=0.3)\n",
    "plt.xlabel('Episode')\n",
    "plt.ylabel('Total rewards')"
   ]
  },
  {
   "cell_type": "code",
   "execution_count": null,
   "metadata": {},
   "outputs": [],
   "source": [
    "eps, arr = np.array(rewards_list).T\n",
    "smoothed_arr = running_mean(arr, 10)\n",
    "plt.plot(eps[-len(smoothed_arr):], smoothed_arr)\n",
    "plt.plot(eps, arr, color='grey', alpha=0.3)\n",
    "plt.xlabel('Episode')\n",
    "plt.ylabel('Total rewards')"
   ]
  },
  {
   "cell_type": "code",
   "execution_count": null,
   "metadata": {},
   "outputs": [],
   "source": [
    "eps, arr = np.array(gloss_list).T\n",
    "smoothed_arr = running_mean(arr, 10)\n",
    "plt.plot(eps[-len(smoothed_arr):], smoothed_arr)\n",
    "plt.plot(eps, arr, color='grey', alpha=0.3)\n",
    "plt.xlabel('Episode')\n",
    "plt.ylabel('G losses')"
   ]
  },
  {
   "cell_type": "code",
   "execution_count": null,
   "metadata": {},
   "outputs": [],
   "source": [
    "eps, arr = np.array(dloss_list).T\n",
    "smoothed_arr = running_mean(arr, 10)\n",
    "plt.plot(eps[-len(smoothed_arr):], smoothed_arr)\n",
    "plt.plot(eps, arr, color='grey', alpha=0.3)\n",
    "plt.xlabel('Episode')\n",
    "plt.ylabel('D losses')"
   ]
  },
  {
   "cell_type": "markdown",
   "metadata": {},
   "source": [
    "## Testing\n",
    "\n",
    "Let's checkout how our trained agent plays the game."
   ]
  },
  {
   "cell_type": "code",
   "execution_count": 46,
   "metadata": {},
   "outputs": [
    {
     "name": "stdout",
     "output_type": "stream",
     "text": [
      "\u001b[33mWARN: gym.spaces.Box autodetected dtype as <class 'numpy.float32'>. Please provide explicit dtype.\u001b[0m\n",
      "\u001b[33mWARN: gym.spaces.Box autodetected dtype as <class 'numpy.float32'>. Please provide explicit dtype.\u001b[0m\n",
      "INFO:tensorflow:Restoring parameters from checkpoints/model.ckpt\n",
      "total_reward: -130.50857430583363\n"
     ]
    }
   ],
   "source": [
    "import gym\n",
    "env = gym.make('BipedalWalker-v2')\n",
    "\n",
    "with tf.Session() as sess:\n",
    "    sess.run(tf.global_variables_initializer())\n",
    "    #saver.restore(sess, 'checkpoints/model2.ckpt')    \n",
    "    saver.restore(sess, tf.train.latest_checkpoint('checkpoints'))\n",
    "    \n",
    "    # Episodes/epochs\n",
    "    for _ in range(1):\n",
    "        state = env.reset()\n",
    "        total_reward = 0\n",
    "\n",
    "        # Steps/batches\n",
    "        while True:\n",
    "            env.render()\n",
    "            action_logits = sess.run(model.actions_logits, feed_dict={model.states: state.reshape([1, -1])})\n",
    "            action = np.reshape(action_logits, [-1]) # For continuous action space\n",
    "            #action = np.argmax(action_logits)\n",
    "            state, reward, done, _ = env.step(action)\n",
    "            total_reward += reward\n",
    "            if done:\n",
    "                print('total_reward: {}'.format(total_reward))\n",
    "                break\n",
    "                \n",
    "env.close()"
   ]
  },
  {
   "cell_type": "markdown",
   "metadata": {},
   "source": [
    "## Extending this\n",
    "\n",
    "So, Cart-Pole is a pretty simple game. However, the same model can be used to train an agent to play something much more complicated like Pong or Space Invaders. Instead of a state like we're using here though, you'd want to use convolutional layers to get the state from the screen images.\n",
    "\n",
    "![Deep Q-Learning Atari](assets/atari-network.png)\n",
    "\n",
    "I'll leave it as a challenge for you to use deep Q-learning to train an agent to play Atari games. Here's the original paper which will get you started: http://www.davidqiu.com:8888/research/nature14236.pdf."
   ]
  },
  {
   "cell_type": "code",
   "execution_count": null,
   "metadata": {},
   "outputs": [],
   "source": []
  }
 ],
 "metadata": {
  "kernelspec": {
   "display_name": "Python 3",
   "language": "python",
   "name": "python3"
  },
  "language_info": {
   "codemirror_mode": {
    "name": "ipython",
    "version": 3
   },
   "file_extension": ".py",
   "mimetype": "text/x-python",
   "name": "python",
   "nbconvert_exporter": "python",
   "pygments_lexer": "ipython3",
   "version": "3.6.6"
  }
 },
 "nbformat": 4,
 "nbformat_minor": 2
}
