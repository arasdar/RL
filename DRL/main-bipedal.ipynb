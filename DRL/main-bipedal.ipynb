{
 "cells": [
  {
   "cell_type": "markdown",
   "metadata": {},
   "source": [
    "# DQN for continuous action space \n",
    "\n",
    "\n",
    "In this notebook, we'll build a neural network that can learn to play games through reinforcement learning. More specifically, we'll use Q-learning to train an agent to play a game called [Cart-Pole](https://gym.openai.com/envs/CartPole-v0). In this game, a freely swinging pole is attached to a cart. The cart can move to the left and right, and the goal is to keep the pole upright as long as possible.\n",
    "\n",
    "![Cart-Pole](assets/cart-pole.jpg)\n",
    "\n",
    "We can simulate this game using [OpenAI Gym](https://gym.openai.com/). First, let's check out how OpenAI Gym works. Then, we'll get into training an agent to play the Cart-Pole game."
   ]
  },
  {
   "cell_type": "code",
   "execution_count": 1,
   "metadata": {},
   "outputs": [
    {
     "name": "stdout",
     "output_type": "stream",
     "text": [
      "TensorFlow Version: 1.7.1\n",
      "Default GPU Device: \n"
     ]
    }
   ],
   "source": [
    "# In this one we should define and detect GPUs for tensorflow\n",
    "# GPUs or CPU\n",
    "import tensorflow as tf\n",
    "\n",
    "# Check TensorFlow Version\n",
    "print('TensorFlow Version: {}'.format(tf.__version__))\n",
    "\n",
    "# Check for a GPU\n",
    "print('Default GPU Device: {}'.format(tf.test.gpu_device_name()))"
   ]
  },
  {
   "cell_type": "markdown",
   "metadata": {},
   "source": [
    ">**Note:** Make sure you have OpenAI Gym cloned into the same directory with this notebook. I've included `gym` as a submodule, so you can run `git submodule --init --recursive` to pull the contents into the `gym` repo."
   ]
  },
  {
   "cell_type": "markdown",
   "metadata": {},
   "source": [
    "##### >**Note:** Make sure you have OpenAI Gym cloned. Then run this command `pip install -e gym/[all]`."
   ]
  },
  {
   "cell_type": "code",
   "execution_count": 2,
   "metadata": {},
   "outputs": [
    {
     "name": "stdout",
     "output_type": "stream",
     "text": [
      "\u001b[33mWARN: gym.spaces.Box autodetected dtype as <class 'numpy.float32'>. Please provide explicit dtype.\u001b[0m\n",
      "\u001b[33mWARN: gym.spaces.Box autodetected dtype as <class 'numpy.float32'>. Please provide explicit dtype.\u001b[0m\n"
     ]
    },
    {
     "data": {
      "text/plain": [
       "dtype('float32')"
      ]
     },
     "execution_count": 2,
     "metadata": {},
     "output_type": "execute_result"
    }
   ],
   "source": [
    "import gym\n",
    "\n",
    "## Create the Cart-Pole game environment\n",
    "env = gym.make('BipedalWalker-v2')\n",
    "\n",
    "# Discrete/int or continuos/float\n",
    "env.action_space.dtype"
   ]
  },
  {
   "cell_type": "markdown",
   "metadata": {},
   "source": [
    "We interact with the simulation through `env`. To show the simulation running, you can use `env.render()` to render one frame. Passing in an action as an integer to `env.step` will generate the next step in the simulation.  You can see how many actions are possible from `env.action_space` and to get a random action you can use `env.action_space.sample()`. This is general to all Gym games. In the Cart-Pole game, there are two possible actions, moving the cart left or right. So there are two actions we can take, encoded as 0 and 1.\n",
    "\n",
    "Run the code below to watch the simulation run."
   ]
  },
  {
   "cell_type": "code",
   "execution_count": 3,
   "metadata": {},
   "outputs": [
    {
     "data": {
      "text/plain": [
       "Box(24,)"
      ]
     },
     "execution_count": 3,
     "metadata": {},
     "output_type": "execute_result"
    }
   ],
   "source": [
    "env.observation_space"
   ]
  },
  {
   "cell_type": "code",
   "execution_count": 4,
   "metadata": {},
   "outputs": [],
   "source": [
    "state = env.reset()\n",
    "batch = []\n",
    "for _ in range(1111):\n",
    "    #env.render()\n",
    "    action = env.action_space.sample()\n",
    "    next_state, reward, done, _ = env.step(action) # take a random action\n",
    "    batch.append([state, action, next_state, reward, float(done)])\n",
    "    state = next_state\n",
    "    if done:\n",
    "        state = env.reset()"
   ]
  },
  {
   "cell_type": "markdown",
   "metadata": {},
   "source": [
    "To shut the window showing the simulation, use `env.close()`."
   ]
  },
  {
   "cell_type": "code",
   "execution_count": 5,
   "metadata": {},
   "outputs": [],
   "source": [
    "# env.close()"
   ]
  },
  {
   "cell_type": "markdown",
   "metadata": {},
   "source": [
    "If you ran the simulation above, we can look at the rewards:"
   ]
  },
  {
   "cell_type": "code",
   "execution_count": 6,
   "metadata": {},
   "outputs": [
    {
     "data": {
      "text/plain": [
       "((4,), (24,))"
      ]
     },
     "execution_count": 6,
     "metadata": {},
     "output_type": "execute_result"
    }
   ],
   "source": [
    "batch[0], \n",
    "batch[0][1].shape, state.shape"
   ]
  },
  {
   "cell_type": "code",
   "execution_count": 7,
   "metadata": {},
   "outputs": [],
   "source": [
    "import numpy as np\n",
    "actions = np.array([each[0] for each in batch])\n",
    "states = np.array([each[1] for each in batch])\n",
    "rewards = np.array([each[2] for each in batch])\n",
    "dones = np.array([each[3] for each in batch])\n",
    "infos = np.array([each[4] for each in batch])"
   ]
  },
  {
   "cell_type": "code",
   "execution_count": 8,
   "metadata": {},
   "outputs": [
    {
     "name": "stdout",
     "output_type": "stream",
     "text": [
      "shapes: (1111, 24) (1111, 4) (1111, 24) (1111,)\n",
      "dtypes: float64 float32 float64 float64\n",
      "states: 0.99992806 -0.9998551\n",
      "actions: 2.181922276814779 -2.697739919026693\n",
      "rewards: 2.181922276814779 -2.697739919026693\n"
     ]
    }
   ],
   "source": [
    "# print(rewards[-20:])\n",
    "print('shapes:', np.array(rewards).shape, np.array(states).shape, np.array(actions).shape, np.array(dones).shape)\n",
    "print('dtypes:', np.array(rewards).dtype, np.array(states).dtype, np.array(actions).dtype, np.array(dones).dtype)\n",
    "print('states:', np.max(np.array(states)), np.min(np.array(states)))\n",
    "print('actions:', np.max(np.array(actions)), np.min(np.array(actions)))\n",
    "# print((np.max(np.array(actions)) - np.min(np.array(actions)))+1)\n",
    "print('rewards:', np.max(np.array(rewards)), np.min(np.array(rewards)))"
   ]
  },
  {
   "cell_type": "code",
   "execution_count": 9,
   "metadata": {},
   "outputs": [
    {
     "data": {
      "text/plain": [
       "array([[ 2.74599809e-03,  9.57091572e-06, -1.24797653e-03,\n",
       "        -1.60000646e-02,  9.24575478e-02,  2.89709051e-03,\n",
       "         8.59825194e-01, -9.00680354e-04,  1.00000000e+00,\n",
       "         3.27833258e-02,  2.89699365e-03,  8.53548765e-01,\n",
       "        -1.97120787e-03,  1.00000000e+00,  4.40813392e-01,\n",
       "         4.45819497e-01,  4.61422116e-01,  4.89549488e-01,\n",
       "         5.34102023e-01,  6.02460206e-01,  7.09147871e-01,\n",
       "         8.85930538e-01,  1.00000000e+00,  1.00000000e+00],\n",
       "       [ 2.46404135e-03, -6.89617515e-03,  4.44158480e-03,\n",
       "         1.97368252e-02, -2.90271878e-01, -7.08948016e-01,\n",
       "         1.47180271e+00,  9.93580818e-01,  1.00000000e+00,\n",
       "         3.01019818e-01, -1.42320096e-02,  1.63401484e-01,\n",
       "         3.31262509e-01,  1.00000000e+00,  4.52902734e-01,\n",
       "         4.58046138e-01,  4.74076658e-01,  5.02975404e-01,\n",
       "         5.48749804e-01,  6.18982673e-01,  7.28596330e-01,\n",
       "         9.10227299e-01,  1.00000000e+00,  1.00000000e+00],\n",
       "       [ 2.57236697e-03,  2.58792341e-03,  6.61058486e-03,\n",
       "         6.91834629e-03, -1.32063963e-02, -3.94559175e-01,\n",
       "         1.08309489e+00,  0.00000000e+00,  1.00000000e+00,\n",
       "         2.61042446e-01, -4.15304124e-01,  2.70030141e-01,\n",
       "         2.41412938e-01,  1.00000000e+00,  4.56020981e-01,\n",
       "         4.61199790e-01,  4.77340698e-01,  5.06438434e-01,\n",
       "         5.52527964e-01,  6.23244405e-01,  7.33612716e-01,\n",
       "         9.16494250e-01,  1.00000000e+00,  1.00000000e+00],\n",
       "       [-2.49326583e-02, -5.56146049e-02, -3.48470628e-02,\n",
       "        -1.13203824e-02,  4.51018438e-02,  9.92173612e-01,\n",
       "         9.97562561e-01, -6.24362787e-01,  1.00000000e+00,\n",
       "         3.43002111e-01,  9.35696959e-01,  2.12508678e-01,\n",
       "        -5.33431530e-01,  1.00000000e+00,  4.56204623e-01,\n",
       "         4.61385518e-01,  4.77532923e-01,  5.06642342e-01,\n",
       "         5.52750468e-01,  6.23495400e-01,  7.33908176e-01,\n",
       "         9.16863322e-01,  1.00000000e+00,  1.00000000e+00],\n",
       "       [-3.80601697e-02, -2.68071795e-02, -1.28168088e-02,\n",
       "        -3.21006328e-04,  1.68794289e-01,  1.98611245e-01,\n",
       "         4.32553172e-01,  5.44314583e-04,  1.00000000e+00,\n",
       "         3.61148447e-01,  4.29016560e-01,  1.38891518e-01,\n",
       "        -9.99812921e-01,  0.00000000e+00,  4.60202545e-01,\n",
       "         4.65428829e-01,  4.81717765e-01,  5.11082292e-01,\n",
       "         5.57594478e-01,  6.28959358e-01,  7.40339696e-01,\n",
       "         9.24898207e-01,  1.00000000e+00,  1.00000000e+00],\n",
       "       [-4.03095447e-02, -4.52234775e-03,  2.16192520e-02,\n",
       "         7.38512182e-02,  1.35819465e-01, -4.12727922e-01,\n",
       "         5.01336694e-01,  5.84940553e-01,  1.00000000e+00,\n",
       "         3.30978841e-01, -3.63966137e-01,  2.60941148e-01,\n",
       "         1.00000016e+00,  0.00000000e+00,  4.63649720e-01,\n",
       "         4.68915164e-01,  4.85326082e-01,  5.14910579e-01,\n",
       "         5.61771154e-01,  6.33670628e-01,  7.45885253e-01,\n",
       "         9.31826174e-01,  1.00000000e+00,  1.00000000e+00],\n",
       "       [-5.75204864e-02, -3.44618750e-02,  1.36430579e-02,\n",
       "         6.72885084e-02,  1.19697317e-01, -2.00925112e-01,\n",
       "         5.71194023e-01,  5.88601748e-01,  1.00000000e+00,\n",
       "         3.14796120e-01, -1.86458230e-01,  3.83736849e-01,\n",
       "         1.00000000e+00,  0.00000000e+00,  4.66724783e-01,\n",
       "         4.72025156e-01,  4.88544911e-01,  5.18325627e-01,\n",
       "         5.65497041e-01,  6.37873292e-01,  7.50832200e-01,\n",
       "         9.38006341e-01,  1.00000000e+00,  1.00000000e+00],\n",
       "       [-4.73483466e-02,  2.02984214e-02,  5.07540500e-02,\n",
       "         8.37062645e-02,  4.52616028e-02, -9.22505856e-01,\n",
       "         6.92067593e-01,  9.98053869e-01,  1.00000000e+00,\n",
       "         2.33988687e-01, -1.00024748e+00,  5.06529570e-01,\n",
       "         9.99996662e-01,  0.00000000e+00,  4.70652878e-01,\n",
       "         4.75997835e-01,  4.92656648e-01,  5.22688031e-01,\n",
       "         5.70256412e-01,  6.43241823e-01,  7.57151425e-01,\n",
       "         9.45900857e-01,  1.00000000e+00,  1.00000000e+00],\n",
       "       [-3.23727094e-02,  2.99156952e-02,  4.27967441e-02,\n",
       "         1.06320724e-01,  2.52586566e-02, -2.39184916e-01,\n",
       "         6.24108016e-01, -5.80942353e-01,  1.00000000e+00,\n",
       "         1.53418198e-01, -9.97751832e-01,  6.27571464e-01,\n",
       "         9.86420870e-01,  1.00000000e+00,  4.75659043e-01,\n",
       "         4.81060863e-01,  4.97896880e-01,  5.28247654e-01,\n",
       "         5.76322019e-01,  6.50083780e-01,  7.65204966e-01,\n",
       "         9.55962062e-01,  1.00000000e+00,  1.00000000e+00],\n",
       "       [-1.61194596e-02,  3.25017190e-02,  5.16229141e-02,\n",
       "         9.18702698e-02, -5.37157767e-02, -9.81758296e-01,\n",
       "         7.34734684e-01,  9.08135732e-01,  0.00000000e+00,\n",
       "         7.28431046e-02, -9.99998271e-01,  7.49781102e-01,\n",
       "         1.00000318e+00,  1.00000000e+00,  4.79978114e-01,\n",
       "         4.85428989e-01,  5.02417862e-01,  5.33044219e-01,\n",
       "         5.81555128e-01,  6.55986667e-01,  7.72153199e-01,\n",
       "         9.64642406e-01,  1.00000000e+00,  1.00000000e+00]])"
      ]
     },
     "execution_count": 9,
     "metadata": {},
     "output_type": "execute_result"
    }
   ],
   "source": [
    "actions[:10]"
   ]
  },
  {
   "cell_type": "code",
   "execution_count": 10,
   "metadata": {},
   "outputs": [
    {
     "data": {
      "text/plain": [
       "array([[ 2.46404135e-03, -6.89617515e-03,  4.44158480e-03,\n",
       "         1.97368252e-02, -2.90271878e-01, -7.08948016e-01,\n",
       "         1.47180271e+00,  9.93580818e-01,  1.00000000e+00,\n",
       "         3.01019818e-01, -1.42320096e-02,  1.63401484e-01,\n",
       "         3.31262509e-01,  1.00000000e+00,  4.52902734e-01,\n",
       "         4.58046138e-01,  4.74076658e-01,  5.02975404e-01,\n",
       "         5.48749804e-01,  6.18982673e-01,  7.28596330e-01,\n",
       "         9.10227299e-01,  1.00000000e+00,  1.00000000e+00],\n",
       "       [ 2.57236697e-03,  2.58792341e-03,  6.61058486e-03,\n",
       "         6.91834629e-03, -1.32063963e-02, -3.94559175e-01,\n",
       "         1.08309489e+00,  0.00000000e+00,  1.00000000e+00,\n",
       "         2.61042446e-01, -4.15304124e-01,  2.70030141e-01,\n",
       "         2.41412938e-01,  1.00000000e+00,  4.56020981e-01,\n",
       "         4.61199790e-01,  4.77340698e-01,  5.06438434e-01,\n",
       "         5.52527964e-01,  6.23244405e-01,  7.33612716e-01,\n",
       "         9.16494250e-01,  1.00000000e+00,  1.00000000e+00],\n",
       "       [-2.49326583e-02, -5.56146049e-02, -3.48470628e-02,\n",
       "        -1.13203824e-02,  4.51018438e-02,  9.92173612e-01,\n",
       "         9.97562561e-01, -6.24362787e-01,  1.00000000e+00,\n",
       "         3.43002111e-01,  9.35696959e-01,  2.12508678e-01,\n",
       "        -5.33431530e-01,  1.00000000e+00,  4.56204623e-01,\n",
       "         4.61385518e-01,  4.77532923e-01,  5.06642342e-01,\n",
       "         5.52750468e-01,  6.23495400e-01,  7.33908176e-01,\n",
       "         9.16863322e-01,  1.00000000e+00,  1.00000000e+00],\n",
       "       [-3.80601697e-02, -2.68071795e-02, -1.28168088e-02,\n",
       "        -3.21006328e-04,  1.68794289e-01,  1.98611245e-01,\n",
       "         4.32553172e-01,  5.44314583e-04,  1.00000000e+00,\n",
       "         3.61148447e-01,  4.29016560e-01,  1.38891518e-01,\n",
       "        -9.99812921e-01,  0.00000000e+00,  4.60202545e-01,\n",
       "         4.65428829e-01,  4.81717765e-01,  5.11082292e-01,\n",
       "         5.57594478e-01,  6.28959358e-01,  7.40339696e-01,\n",
       "         9.24898207e-01,  1.00000000e+00,  1.00000000e+00],\n",
       "       [-4.03095447e-02, -4.52234775e-03,  2.16192520e-02,\n",
       "         7.38512182e-02,  1.35819465e-01, -4.12727922e-01,\n",
       "         5.01336694e-01,  5.84940553e-01,  1.00000000e+00,\n",
       "         3.30978841e-01, -3.63966137e-01,  2.60941148e-01,\n",
       "         1.00000016e+00,  0.00000000e+00,  4.63649720e-01,\n",
       "         4.68915164e-01,  4.85326082e-01,  5.14910579e-01,\n",
       "         5.61771154e-01,  6.33670628e-01,  7.45885253e-01,\n",
       "         9.31826174e-01,  1.00000000e+00,  1.00000000e+00],\n",
       "       [-5.75204864e-02, -3.44618750e-02,  1.36430579e-02,\n",
       "         6.72885084e-02,  1.19697317e-01, -2.00925112e-01,\n",
       "         5.71194023e-01,  5.88601748e-01,  1.00000000e+00,\n",
       "         3.14796120e-01, -1.86458230e-01,  3.83736849e-01,\n",
       "         1.00000000e+00,  0.00000000e+00,  4.66724783e-01,\n",
       "         4.72025156e-01,  4.88544911e-01,  5.18325627e-01,\n",
       "         5.65497041e-01,  6.37873292e-01,  7.50832200e-01,\n",
       "         9.38006341e-01,  1.00000000e+00,  1.00000000e+00],\n",
       "       [-4.73483466e-02,  2.02984214e-02,  5.07540500e-02,\n",
       "         8.37062645e-02,  4.52616028e-02, -9.22505856e-01,\n",
       "         6.92067593e-01,  9.98053869e-01,  1.00000000e+00,\n",
       "         2.33988687e-01, -1.00024748e+00,  5.06529570e-01,\n",
       "         9.99996662e-01,  0.00000000e+00,  4.70652878e-01,\n",
       "         4.75997835e-01,  4.92656648e-01,  5.22688031e-01,\n",
       "         5.70256412e-01,  6.43241823e-01,  7.57151425e-01,\n",
       "         9.45900857e-01,  1.00000000e+00,  1.00000000e+00],\n",
       "       [-3.23727094e-02,  2.99156952e-02,  4.27967441e-02,\n",
       "         1.06320724e-01,  2.52586566e-02, -2.39184916e-01,\n",
       "         6.24108016e-01, -5.80942353e-01,  1.00000000e+00,\n",
       "         1.53418198e-01, -9.97751832e-01,  6.27571464e-01,\n",
       "         9.86420870e-01,  1.00000000e+00,  4.75659043e-01,\n",
       "         4.81060863e-01,  4.97896880e-01,  5.28247654e-01,\n",
       "         5.76322019e-01,  6.50083780e-01,  7.65204966e-01,\n",
       "         9.55962062e-01,  1.00000000e+00,  1.00000000e+00],\n",
       "       [-1.61194596e-02,  3.25017190e-02,  5.16229141e-02,\n",
       "         9.18702698e-02, -5.37157767e-02, -9.81758296e-01,\n",
       "         7.34734684e-01,  9.08135732e-01,  0.00000000e+00,\n",
       "         7.28431046e-02, -9.99998271e-01,  7.49781102e-01,\n",
       "         1.00000318e+00,  1.00000000e+00,  4.79978114e-01,\n",
       "         4.85428989e-01,  5.02417862e-01,  5.33044219e-01,\n",
       "         5.81555128e-01,  6.55986667e-01,  7.72153199e-01,\n",
       "         9.64642406e-01,  1.00000000e+00,  1.00000000e+00],\n",
       "       [-2.04503033e-02, -8.63129497e-03,  2.83208513e-02,\n",
       "         7.38249874e-02, -1.00389645e-01, -5.81553459e-01,\n",
       "         8.55823621e-01,  1.00000000e+00,  0.00000000e+00,\n",
       "         5.26834764e-02, -2.43208379e-01,  8.71603131e-01,\n",
       "         9.99999841e-01,  0.00000000e+00,  4.83350903e-01,\n",
       "         4.88840073e-01,  5.05948365e-01,  5.36789954e-01,\n",
       "         5.85641682e-01,  6.60596251e-01,  7.77579069e-01,\n",
       "         9.71420884e-01,  1.00000000e+00,  1.00000000e+00]])"
      ]
     },
     "execution_count": 10,
     "metadata": {},
     "output_type": "execute_result"
    }
   ],
   "source": [
    "rewards[:10]"
   ]
  },
  {
   "cell_type": "code",
   "execution_count": 11,
   "metadata": {},
   "outputs": [],
   "source": [
    "# import numpy as np\n",
    "def sigmoid(x, derivative=False):\n",
    "  return x*(1-x) if derivative else 1/(1+np.exp(-x))"
   ]
  },
  {
   "cell_type": "code",
   "execution_count": 12,
   "metadata": {},
   "outputs": [
    {
     "data": {
      "text/plain": [
       "(0.8986143384682145, 0.06310685006254836)"
      ]
     },
     "execution_count": 12,
     "metadata": {},
     "output_type": "execute_result"
    }
   ],
   "source": [
    "sigmoid(np.max(np.array(rewards))), sigmoid(np.min(np.array(rewards)))"
   ]
  },
  {
   "cell_type": "code",
   "execution_count": 13,
   "metadata": {},
   "outputs": [
    {
     "name": "stdout",
     "output_type": "stream",
     "text": [
      "rewards: 0.021819222768147788 -0.02697739919026693\n"
     ]
    }
   ],
   "source": [
    "print('rewards:', np.max(np.array(rewards))/100, np.min(np.array(rewards))/100)"
   ]
  },
  {
   "cell_type": "markdown",
   "metadata": {},
   "source": [
    "The game resets after the pole has fallen past a certain angle. For each frame while the simulation is running, it returns a reward of 1.0. The longer the game runs, the more reward we get. Then, our network's goal is to maximize the reward by keeping the pole vertical. It will do this by moving the cart to the left and the right."
   ]
  },
  {
   "cell_type": "markdown",
   "metadata": {},
   "source": [
    "## Q-Network\n",
    "\n",
    "We train our Q-learning agent using the Bellman Equation:\n",
    "\n",
    "$$\n",
    "Q(s, a) = r + \\gamma \\max{Q(s', a')}\n",
    "$$\n",
    "\n",
    "where $s$ is a state, $a$ is an action, and $s'$ is the next state from state $s$ and action $a$.\n",
    "\n",
    "Before we used this equation to learn values for a Q-_table_. However, for this game there are a huge number of states available. The state has four values: the position and velocity of the cart, and the position and velocity of the pole. These are all real-valued numbers, so ignoring floating point precisions, you practically have infinite states. Instead of using a table then, we'll replace it with a neural network that will approximate the Q-table lookup function.\n",
    "\n",
    "<img src=\"assets/deep-q-learning.png\" width=450px>\n",
    "\n",
    "Now, our Q value, $Q(s, a)$ is calculated by passing in a state to the network. The output will be Q-values for each available action, with fully connected hidden layers.\n",
    "\n",
    "<img src=\"assets/q-network.png\" width=550px>\n",
    "\n",
    "\n",
    "As I showed before, we can define our targets for training as $\\hat{Q}(s,a) = r + \\gamma \\max{Q(s', a')}$. Then we update the weights by minimizing $(\\hat{Q}(s,a) - Q(s,a))^2$. \n",
    "\n",
    "For this Cart-Pole game, we have four inputs, one for each value in the state, and two outputs, one for each action. To get $\\hat{Q}$, we'll first choose an action, then simulate the game using that action. This will get us the next state, $s'$, and the reward. With that, we can calculate $\\hat{Q}$ then pass it back into the $Q$ network to run the optimizer and update the weights.\n",
    "\n",
    "Below is my implementation of the Q-network. I used two fully connected layers with ReLU activations. Two seems to be good enough, three might be better. Feel free to try it out."
   ]
  },
  {
   "cell_type": "code",
   "execution_count": 14,
   "metadata": {},
   "outputs": [],
   "source": [
    "def model_input(state_size, action_size):\n",
    "    #states = tf.placeholder(tf.float32, [None, *state_size], name='states')\n",
    "    states = tf.placeholder(tf.float32, [None, state_size], name='states')\n",
    "    actions = tf.placeholder(tf.float32, [None, action_size], name='actions')\n",
    "    targetQs = tf.placeholder(tf.float32, [None], name='targetQs')\n",
    "    return states, actions, targetQs"
   ]
  },
  {
   "cell_type": "code",
   "execution_count": 15,
   "metadata": {},
   "outputs": [],
   "source": [
    "# Generator/Controller: Generating/prediting the actions\n",
    "def generator(states, action_size, hidden_size, reuse=False, alpha=0.1, training=False):\n",
    "    with tf.variable_scope('generator', reuse=reuse):\n",
    "        # First fully connected layer\n",
    "        h1 = tf.layers.dense(inputs=states, units=hidden_size)\n",
    "        bn1 = tf.layers.batch_normalization(h1, training=training)        \n",
    "        nl1 = tf.maximum(alpha * bn1, bn1)\n",
    "        \n",
    "        # Second fully connected layer\n",
    "        h2 = tf.layers.dense(inputs=nl1, units=hidden_size)\n",
    "        bn2 = tf.layers.batch_normalization(h2, training=training)        \n",
    "        nl2 = tf.maximum(alpha * bn2, bn2)\n",
    "        \n",
    "        # Output layer\n",
    "        logits = tf.layers.dense(inputs=nl2, units=action_size)        \n",
    "        #predictions = tf.nn.softmax(logits)\n",
    "\n",
    "        # return actions logits\n",
    "        return logits"
   ]
  },
  {
   "cell_type": "code",
   "execution_count": 16,
   "metadata": {},
   "outputs": [],
   "source": [
    "# Discriminator/Dopamine: Reward function/planner/naviator/advisor/supervisor/cortical columns\n",
    "def discriminator(states, actions, hidden_size, reuse=False, alpha=0.1, training=False):\n",
    "    with tf.variable_scope('discriminator', reuse=reuse):\n",
    "        # Fusion/merge states and actions/ SA/ SM\n",
    "        x_fused = tf.concat(axis=1, values=[states, actions])\n",
    "        \n",
    "        # First fully connected layer\n",
    "        h1 = tf.layers.dense(inputs=x_fused, units=hidden_size)\n",
    "        bn1 = tf.layers.batch_normalization(h1, training=training)        \n",
    "        nl1 = tf.maximum(alpha * bn1, bn1)\n",
    "        \n",
    "        # Second fully connected layer\n",
    "        h2 = tf.layers.dense(inputs=nl1, units=hidden_size)\n",
    "        bn2 = tf.layers.batch_normalization(h2, training=training)        \n",
    "        nl2 = tf.maximum(alpha * bn2, bn2)\n",
    "        \n",
    "        # Output layer\n",
    "        logits = tf.layers.dense(inputs=nl2, units=1)        \n",
    "        #predictions = tf.nn.softmax(logits)\n",
    "\n",
    "        # return rewards logits\n",
    "        return logits"
   ]
  },
  {
   "cell_type": "code",
   "execution_count": 17,
   "metadata": {},
   "outputs": [],
   "source": [
    "def model_loss(action_size, hidden_size, states, actions, targetQs):\n",
    "    actions_logits = generator(states=states, hidden_size=hidden_size, action_size=action_size)\n",
    "    neg_log_prob_actions = tf.nn.sigmoid_cross_entropy_with_logits(logits=actions_logits, \n",
    "                                                                   labels=tf.nn.sigmoid(actions))\n",
    "    Qs = discriminator(actions=actions_logits, hidden_size=hidden_size, states=states)\n",
    "    #Qs = discriminator(actions=actions, hidden_size=hidden_size, states=states)\n",
    "    g_loss = tf.reduce_mean(neg_log_prob_actions * Qs)\n",
    "    g_loss1 = tf.reduce_mean(neg_log_prob_actions)\n",
    "    g_loss2 = tf.reduce_mean(Qs)\n",
    "    d_loss = tf.reduce_mean(tf.square(Qs - targetQs))\n",
    "    return actions_logits, Qs, g_loss, d_loss, g_loss1, g_loss2"
   ]
  },
  {
   "cell_type": "code",
   "execution_count": 18,
   "metadata": {},
   "outputs": [],
   "source": [
    "# Optimizating/training/learning G & D\n",
    "def model_opt(g_loss, d_loss, learning_rate):\n",
    "    # Get weights and bias to update\n",
    "    t_vars = tf.trainable_variables()\n",
    "    g_vars = [var for var in t_vars if var.name.startswith('generator')]\n",
    "    d_vars = [var for var in t_vars if var.name.startswith('discriminator')]\n",
    "\n",
    "    # Optimize\n",
    "    with tf.control_dependencies(tf.get_collection(tf.GraphKeys.UPDATE_OPS)): # Required for batchnorm (BN)\n",
    "        g_opt = tf.train.AdamOptimizer(learning_rate).minimize(g_loss, var_list=g_vars)\n",
    "        d_opt = tf.train.AdamOptimizer(learning_rate).minimize(d_loss, var_list=d_vars)\n",
    "\n",
    "    return g_opt, d_opt"
   ]
  },
  {
   "cell_type": "code",
   "execution_count": 19,
   "metadata": {},
   "outputs": [],
   "source": [
    "class Model:\n",
    "    def __init__(self, state_size, action_size, hidden_size, learning_rate):\n",
    "\n",
    "        # Data of the Model: make the data available inside the framework\n",
    "        self.states, self.actions, self.targetQs = model_input(state_size=state_size, action_size=action_size)\n",
    "\n",
    "        # Create the Model: calculating the loss and forwad pass\n",
    "        self.actions_logits, self.Qs_logits, self.g_loss, self.d_loss, self.g_loss1, self.g_loss2 = model_loss(\n",
    "            action_size=action_size, hidden_size=hidden_size, # model init parameters\n",
    "            states=self.states, actions=self.actions, targetQs=self.targetQs) # model input\n",
    "        \n",
    "        # Update the model: backward pass and backprop\n",
    "        self.g_opt, self.d_opt = model_opt(g_loss=self.g_loss, d_loss=self.d_loss, learning_rate=learning_rate)"
   ]
  },
  {
   "cell_type": "code",
   "execution_count": 20,
   "metadata": {},
   "outputs": [],
   "source": [
    "from collections import deque\n",
    "class Memory():\n",
    "    def __init__(self, max_size = 1000):\n",
    "        self.buffer = deque(maxlen=max_size)\n",
    "    def sample(self, batch_size):\n",
    "        idx = np.random.choice(np.arange(len(self.buffer)), \n",
    "                               size=batch_size, \n",
    "                               replace=False)\n",
    "        return [self.buffer[ii] for ii in idx]"
   ]
  },
  {
   "cell_type": "markdown",
   "metadata": {},
   "source": [
    "## Hyperparameters\n",
    "\n",
    "One of the more difficult aspects of reinforcememt learning are the large number of hyperparameters. Not only are we tuning the network, but we're tuning the simulation."
   ]
  },
  {
   "cell_type": "code",
   "execution_count": 21,
   "metadata": {},
   "outputs": [
    {
     "name": "stdout",
     "output_type": "stream",
     "text": [
      "state size:(1111, 4) actions:(1111, 24)\n",
      "action size:5.879662195841472\n"
     ]
    }
   ],
   "source": [
    "print('state size:{}'.format(states.shape), \n",
    "      'actions:{}'.format(actions.shape)) \n",
    "print('action size:{}'.format(np.max(actions) - np.min(actions)+1))"
   ]
  },
  {
   "cell_type": "code",
   "execution_count": 22,
   "metadata": {},
   "outputs": [],
   "source": [
    "# Exploration parameters\n",
    "explore_start = 1.0            # exploration probability at start\n",
    "explore_stop = 0.01            # minimum exploration probability \n",
    "decay_rate = 0.0001            # exponential decay rate for exploration prob\n",
    "\n",
    "# Network parameters\n",
    "state_size = 24\n",
    "action_size = 4\n",
    "hidden_size = 24*2             # number of units in each Q-network hidden layer\n",
    "learning_rate = 0.0001         # Q-network learning rate\n",
    "\n",
    "# Memory parameters\n",
    "gamma = 0.99                   # future reward discount\n",
    "memory_size = 10000            # memory capacity\n",
    "batch_size = 20                # experience mini-batch size"
   ]
  },
  {
   "cell_type": "code",
   "execution_count": 23,
   "metadata": {},
   "outputs": [],
   "source": [
    "# Reset/init the graph/session\n",
    "graph = tf.reset_default_graph()\n",
    "\n",
    "# Init the model\n",
    "model = Model(action_size=action_size, state_size=state_size, hidden_size=hidden_size, learning_rate=learning_rate)\n",
    "\n",
    "# Init the memory\n",
    "memory = Memory(max_size=memory_size)"
   ]
  },
  {
   "cell_type": "code",
   "execution_count": 24,
   "metadata": {},
   "outputs": [],
   "source": [
    "state = env.reset()\n",
    "for _ in range(memory_size):\n",
    "    action = env.action_space.sample()\n",
    "    next_state, reward, done, _ = env.step(action)\n",
    "    memory.buffer.append([state, action, next_state, reward, float(done)])\n",
    "    state = next_state\n",
    "    if done is True:\n",
    "        state = env.reset()"
   ]
  },
  {
   "cell_type": "markdown",
   "metadata": {},
   "source": [
    "## Training the model\n",
    "\n",
    "Below we'll train our agent. If you want to watch it train, uncomment the `env.render()` line. This is slow because it's rendering the frames slower than the network can train. But, it's cool to watch the agent get better at the game."
   ]
  },
  {
   "cell_type": "code",
   "execution_count": null,
   "metadata": {},
   "outputs": [],
   "source": [
    "# Save/load the model and save for plotting\n",
    "saver = tf.train.Saver()\n",
    "episode_rewards_list, rewards_list, gloss_list, dloss_list = [], [], [], []\n",
    "\n",
    "# TF session for training\n",
    "with tf.Session(graph=graph) as sess:\n",
    "    sess.run(tf.global_variables_initializer())\n",
    "    #saver.restore(sess, 'checkpoints/model2.ckpt')    \n",
    "    #saver.restore(sess, tf.train.latest_checkpoint('checkpoints'))\n",
    "    total_step = 0 # Explore or exploit parameter\n",
    "    episode_reward = deque(maxlen=100) # 100 episodes average/running average/running mean/window\n",
    "    \n",
    "    # Training episodes/epochs\n",
    "    for ep in range(1):\n",
    "        total_reward = 0\n",
    "        gloss_batch, dloss_batch = [], []\n",
    "        gloss1_batch, gloss2_batch = [], []\n",
    "        state = env.reset()\n",
    "\n",
    "        # Training steps/batches\n",
    "        while True:\n",
    "            # # Explore (Env) or Exploit (Model): NO\n",
    "            total_step += 0.01\n",
    "            explore_p = explore_stop + (explore_start - explore_stop) * np.exp(-decay_rate * total_step) \n",
    "            # if explore_p > np.random.rand():\n",
    "            #     action = env.action_space.sample()\n",
    "            # else:\n",
    "            action_logits = sess.run(model.actions_logits, feed_dict={model.states: state.reshape([1, -1])})\n",
    "            action = np.reshape(action_logits, [-1]) # For continuous action space\n",
    "            #action = np.argmax(action_logits) # For discrete action space\n",
    "            next_state, reward, done, _ = env.step(action)\n",
    "            memory.buffer.append([state, action, next_state, reward, float(done)])\n",
    "            total_reward += reward\n",
    "            state = next_state\n",
    "\n",
    "            # Training\n",
    "            #batch = memory.sample(batch_size)\n",
    "            batch = memory.buffer\n",
    "            states = np.array([each[0] for each in batch])\n",
    "            actions = np.array([each[1] for each in batch])\n",
    "            next_states = np.array([each[2] for each in batch])\n",
    "            rewards = np.array([each[3] for each in batch])\n",
    "            dones = np.array([each[4] for each in batch])\n",
    "            nextQs_logits = sess.run(model.Qs_logits, feed_dict = {model.states: next_states})\n",
    "            #nextQs = np.max(nextQs_logits, axis=1) * (1-dones)\n",
    "            nextQs = nextQs_logits.reshape([-1]) * (1-dones)\n",
    "            targetQs = rewards + (gamma * nextQs)\n",
    "            gloss, dloss, gloss1, gloss2, _, _ = sess.run([model.g_loss, model.d_loss, \n",
    "                                                           model.g_loss1, model.g_loss2,\n",
    "                                                           model.g_opt, model.d_opt],\n",
    "                                                          feed_dict = {model.states: states, \n",
    "                                                                       model.actions: actions,\n",
    "                                                                       model.targetQs: targetQs})\n",
    "            gloss_batch.append(gloss)\n",
    "            dloss_batch.append(dloss)\n",
    "            gloss1_batch.append(gloss1)\n",
    "            gloss2_batch.append(gloss2)\n",
    "            if done is True:\n",
    "                break\n",
    "                \n",
    "        episode_reward.append(total_reward)\n",
    "        print('Episode:{}'.format(ep),\n",
    "              'meanR:{:.4f}'.format(np.mean(episode_reward)),\n",
    "              'R:{:.4f}'.format(total_reward),\n",
    "              'gloss:{:.4f}'.format(np.mean(gloss_batch)),\n",
    "              'dloss:{:.4f}'.format(np.mean(dloss_batch)),\n",
    "              'gloss1:{:.4f}'.format(np.mean(gloss1_batch)),\n",
    "              'gloss2:{:.4f}'.format(np.mean(gloss2_batch)),\n",
    "              'exploreP:{:.4f}'.format(explore_p))\n",
    "        # Ploting out\n",
    "        episode_rewards_list.append([ep, np.mean(episode_reward)])\n",
    "        rewards_list.append([ep, total_reward])\n",
    "        gloss_list.append([ep, np.mean(gloss_batch)])\n",
    "        dloss_list.append([ep, np.mean(dloss_batch)])\n",
    "        # Break episode/epoch loop\n",
    "        if np.mean(episode_reward) <= -200:\n",
    "            break\n",
    "            \n",
    "    # At the end of all training episodes/epochs\n",
    "    saver.save(sess, 'checkpoints/model.ckpt')"
   ]
  },
  {
   "cell_type": "markdown",
   "metadata": {},
   "source": [
    "# Visualizing training\n",
    "\n",
    "Below I'll plot the total rewards for each episode. I'm plotting the rolling average too, in blue."
   ]
  },
  {
   "cell_type": "code",
   "execution_count": 103,
   "metadata": {},
   "outputs": [],
   "source": [
    "import matplotlib.pyplot as plt\n",
    "%matplotlib inline\n",
    "\n",
    "def running_mean(x, N):\n",
    "    cumsum = np.cumsum(np.insert(x, 0, 0)) \n",
    "    return (cumsum[N:] - cumsum[:-N]) / N "
   ]
  },
  {
   "cell_type": "code",
   "execution_count": 106,
   "metadata": {},
   "outputs": [
    {
     "data": {
      "text/plain": [
       "Text(0,0.5,'Total rewards')"
      ]
     },
     "execution_count": 106,
     "metadata": {},
     "output_type": "execute_result"
    },
    {
     "data": {
      "image/png": "[encoded data removed]",
      "text/plain": [
       "<Figure size 432x288 with 1 Axes>"
      ]
     },
     "metadata": {},
     "output_type": "display_data"
    }
   ],
   "source": [
    "eps, arr = np.array(episode_rewards_list).T\n",
    "smoothed_arr = running_mean(arr, 10)\n",
    "plt.plot(eps[-len(smoothed_arr):], smoothed_arr)\n",
    "plt.plot(eps, arr, color='grey', alpha=0.3)\n",
    "plt.xlabel('Episode')\n",
    "plt.ylabel('Total rewards')"
   ]
  },
  {
   "cell_type": "code",
   "execution_count": 107,
   "metadata": {},
   "outputs": [
    {
     "data": {
      "text/plain": [
       "Text(0,0.5,'Total rewards')"
      ]
     },
     "execution_count": 107,
     "metadata": {},
     "output_type": "execute_result"
    },
    {
     "data": {
      "image/png": "[encoded data removed]",
      "text/plain": [
       "<Figure size 432x288 with 1 Axes>"
      ]
     },
     "metadata": {},
     "output_type": "display_data"
    }
   ],
   "source": [
    "eps, arr = np.array(rewards_list).T\n",
    "smoothed_arr = running_mean(arr, 10)\n",
    "plt.plot(eps[-len(smoothed_arr):], smoothed_arr)\n",
    "plt.plot(eps, arr, color='grey', alpha=0.3)\n",
    "plt.xlabel('Episode')\n",
    "plt.ylabel('Total rewards')"
   ]
  },
  {
   "cell_type": "code",
   "execution_count": 108,
   "metadata": {},
   "outputs": [
    {
     "data": {
      "text/plain": [
       "Text(0,0.5,'G losses')"
      ]
     },
     "execution_count": 108,
     "metadata": {},
     "output_type": "execute_result"
    },
    {
     "data": {
      "image/png": "[encoded data removed]",
      "text/plain": [
       "<Figure size 432x288 with 1 Axes>"
      ]
     },
     "metadata": {},
     "output_type": "display_data"
    }
   ],
   "source": [
    "eps, arr = np.array(gloss_list).T\n",
    "smoothed_arr = running_mean(arr, 10)\n",
    "plt.plot(eps[-len(smoothed_arr):], smoothed_arr)\n",
    "plt.plot(eps, arr, color='grey', alpha=0.3)\n",
    "plt.xlabel('Episode')\n",
    "plt.ylabel('G losses')"
   ]
  },
  {
   "cell_type": "code",
   "execution_count": 109,
   "metadata": {},
   "outputs": [
    {
     "data": {
      "text/plain": [
       "Text(0,0.5,'D losses')"
      ]
     },
     "execution_count": 109,
     "metadata": {},
     "output_type": "execute_result"
    },
    {
     "data": {
      "image/png": "[encoded data removed]",
      "text/plain": [
       "<Figure size 432x288 with 1 Axes>"
      ]
     },
     "metadata": {},
     "output_type": "display_data"
    }
   ],
   "source": [
    "eps, arr = np.array(dloss_list).T\n",
    "smoothed_arr = running_mean(arr, 10)\n",
    "plt.plot(eps[-len(smoothed_arr):], smoothed_arr)\n",
    "plt.plot(eps, arr, color='grey', alpha=0.3)\n",
    "plt.xlabel('Episode')\n",
    "plt.ylabel('D losses')"
   ]
  },
  {
   "cell_type": "markdown",
   "metadata": {},
   "source": [
    "## Testing\n",
    "\n",
    "Let's checkout how our trained agent plays the game."
   ]
  },
  {
   "cell_type": "code",
   "execution_count": 112,
   "metadata": {},
   "outputs": [
    {
     "name": "stderr",
     "output_type": "stream",
     "text": [
      "/home/arasdar/anaconda3/envs/env/lib/python3.6/site-packages/gym/__init__.py:22: UserWarning: DEPRECATION WARNING: to improve load times, gym no longer automatically loads gym.spaces. Please run \"import gym.spaces\" to load gym.spaces on your own. This warning will turn into an error in a future version of gym.\n",
      "  warnings.warn('DEPRECATION WARNING: to improve load times, gym no longer automatically loads gym.spaces. Please run \"import gym.spaces\" to load gym.spaces on your own. This warning will turn into an error in a future version of gym.')\n"
     ]
    },
    {
     "name": "stdout",
     "output_type": "stream",
     "text": [
      "\u001b[33mWARN: gym.spaces.Box autodetected dtype as <class 'numpy.float32'>. Please provide explicit dtype.\u001b[0m\n",
      "\u001b[33mWARN: gym.spaces.Box autodetected dtype as <class 'numpy.float32'>. Please provide explicit dtype.\u001b[0m\n",
      "INFO:tensorflow:Restoring parameters from checkpoints/model2.ckpt\n",
      "total_reward: -180.71856785841393\n"
     ]
    }
   ],
   "source": [
    "import gym\n",
    "env = gym.make('BipedalWalker-v2')\n",
    "\n",
    "with tf.Session() as sess:\n",
    "    sess.run(tf.global_variables_initializer())\n",
    "    saver.restore(sess, 'checkpoints/model2.ckpt')    \n",
    "    #saver.restore(sess, tf.train.latest_checkpoint('checkpoints'))\n",
    "    \n",
    "    # Episodes/epochs\n",
    "    for _ in range(1):\n",
    "        state = env.reset()\n",
    "        total_reward = 0\n",
    "\n",
    "        # Steps/batches\n",
    "        while True:\n",
    "            env.render()\n",
    "            action_logits = sess.run(model.actions_logits, feed_dict={model.states: state.reshape([1, -1])})\n",
    "            action = np.reshape(action_logits, [-1]) # For continuous action space\n",
    "            #action = np.argmax(action_logits)\n",
    "            state, reward, done, _ = env.step(action)\n",
    "            total_reward += reward\n",
    "            if done:\n",
    "                print('total_reward: {}'.format(total_reward))\n",
    "                break\n",
    "                \n",
    "env.close()"
   ]
  },
  {
   "cell_type": "markdown",
   "metadata": {},
   "source": [
    "## Extending this\n",
    "\n",
    "So, Cart-Pole is a pretty simple game. However, the same model can be used to train an agent to play something much more complicated like Pong or Space Invaders. Instead of a state like we're using here though, you'd want to use convolutional layers to get the state from the screen images.\n",
    "\n",
    "![Deep Q-Learning Atari](assets/atari-network.png)\n",
    "\n",
    "I'll leave it as a challenge for you to use deep Q-learning to train an agent to play Atari games. Here's the original paper which will get you started: http://www.davidqiu.com:8888/research/nature14236.pdf."
   ]
  },
  {
   "cell_type": "code",
   "execution_count": null,
   "metadata": {},
   "outputs": [],
   "source": []
  }
 ],
 "metadata": {
  "kernelspec": {
   "display_name": "Python 3",
   "language": "python",
   "name": "python3"
  },
  "language_info": {
   "codemirror_mode": {
    "name": "ipython",
    "version": 3
   },
   "file_extension": ".py",
   "mimetype": "text/x-python",
   "name": "python",
   "nbconvert_exporter": "python",
   "pygments_lexer": "ipython3",
   "version": "3.6.6"
  }
 },
 "nbformat": 4,
 "nbformat_minor": 2
}
