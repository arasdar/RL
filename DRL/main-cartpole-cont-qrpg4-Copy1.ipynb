{
 "cells": [
  {
   "cell_type": "code",
   "execution_count": 1,
   "metadata": {},
   "outputs": [
    {
     "name": "stdout",
     "output_type": "stream",
     "text": [
      "TensorFlow Version: 1.7.1\n",
      "Default GPU Device: \n"
     ]
    }
   ],
   "source": [
    "# In this one we should define and detect GPUs for tensorflow\n",
    "# GPUs or CPU\n",
    "import tensorflow as tf\n",
    "\n",
    "# Check TensorFlow Version\n",
    "print('TensorFlow Version: {}'.format(tf.__version__))\n",
    "\n",
    "# Check for a GPU\n",
    "print('Default GPU Device: {}'.format(tf.test.gpu_device_name()))"
   ]
  },
  {
   "cell_type": "markdown",
   "metadata": {},
   "source": [
    "##### >**Note:** Make sure you have OpenAI Gym cloned. Then run this command `pip install -e gym/[all]`."
   ]
  },
  {
   "cell_type": "code",
   "execution_count": 2,
   "metadata": {},
   "outputs": [],
   "source": [
    "import numpy as np\n",
    "import gym\n",
    "env = gym.make('CartPole-v0')\n",
    "env = gym.make('CartPole-v1')"
   ]
  },
  {
   "cell_type": "code",
   "execution_count": 3,
   "metadata": {},
   "outputs": [],
   "source": [
    "def model_input(state_size):\n",
    "    states = tf.placeholder(tf.float32, [None, state_size], name='states')\n",
    "    actions = tf.placeholder(tf.int32, [None], name='actions')\n",
    "    next_states = tf.placeholder(tf.float32, [None, state_size], name='next_states')\n",
    "    rewards = tf.placeholder(tf.float32, [None], name='rewards')\n",
    "    dones = tf.placeholder(tf.float32, [None], name='dones')\n",
    "    rates = tf.placeholder(tf.float32, [None], name='rates')\n",
    "    return states, actions, next_states, rewards, dones, rates"
   ]
  },
  {
   "cell_type": "code",
   "execution_count": 4,
   "metadata": {},
   "outputs": [],
   "source": [
    "def generator(states, action_size, hidden_size, reuse=False, alpha=0.1, training=False):\n",
    "    with tf.variable_scope('generator', reuse=reuse):\n",
    "        # Input layer\n",
    "        h1 = tf.layers.dense(inputs=states, units=hidden_size)\n",
    "        bn1 = tf.layers.batch_normalization(h1, training=training)        \n",
    "        nl1 = tf.maximum(alpha * bn1, bn1)\n",
    "        \n",
    "        # Hidden layer\n",
    "        h2 = tf.layers.dense(inputs=nl1, units=hidden_size)\n",
    "        bn2 = tf.layers.batch_normalization(h2, training=training)        \n",
    "        nl2 = tf.maximum(alpha * bn2, bn2)\n",
    "        \n",
    "        # Output layer\n",
    "        actions_logits = tf.layers.dense(inputs=nl2, units=action_size)\n",
    "        return actions_logits"
   ]
  },
  {
   "cell_type": "code",
   "execution_count": 5,
   "metadata": {},
   "outputs": [],
   "source": [
    "def discriminator(states, actions, action_size, hidden_size, reuse=False, alpha=0.1, training=False):\n",
    "    with tf.variable_scope('discriminator', reuse=reuse):\n",
    "        # Input layer\n",
    "        h1 = tf.layers.dense(inputs=states, units=action_size)\n",
    "        bn1 = tf.layers.batch_normalization(h1, training=training)        \n",
    "        nl1 = tf.maximum(alpha * bn1, bn1)\n",
    "        \n",
    "        # Hidden layer\n",
    "        nl1_fused = tf.concat(axis=1, values=[nl1, actions])\n",
    "        h2 = tf.layers.dense(inputs=nl1_fused, units=hidden_size)\n",
    "        bn2 = tf.layers.batch_normalization(h2, training=training)        \n",
    "        nl2 = tf.maximum(alpha * bn2, bn2)\n",
    "        \n",
    "        # Output layer\n",
    "        Qs_logits = tf.layers.dense(inputs=nl2, units=1)\n",
    "        return Qs_logits"
   ]
  },
  {
   "cell_type": "code",
   "execution_count": 6,
   "metadata": {},
   "outputs": [],
   "source": [
    "def model_loss(state_size, action_size, hidden_size, states, actions, next_states, rewards, dones, rates):\n",
    "    actions_logits = generator(states=states, hidden_size=hidden_size, action_size=action_size)\n",
    "    actions_labels = tf.one_hot(indices=actions, depth=action_size, dtype=actions_logits.dtype)\n",
    "    gloss = tf.reduce_mean(tf.nn.softmax_cross_entropy_with_logits_v2(logits=actions_logits, \n",
    "                                                                      labels=actions_labels))\n",
    "    dQs = discriminator(states=states, actions=actions_labels, action_size=action_size, hidden_size=hidden_size)\n",
    "    rates = tf.reshape(rates, shape=[-1, 1])\n",
    "    dloss = tf.reduce_mean(tf.nn.sigmoid_cross_entropy_with_logits(logits=dQs,\n",
    "                                                                   labels=rates)) # [0, 1]\n",
    "    next_actions_logits = generator(states=next_states, hidden_size=hidden_size, action_size=action_size, \n",
    "                                    reuse=True)\n",
    "    nextQs_logits = discriminator(states=next_states, actions=next_actions_logits, action_size=action_size, \n",
    "                                  hidden_size=hidden_size, reuse=True)\n",
    "    nextQs = tf.reshape(nextQs_logits, shape=[-1])\n",
    "    targetQs = rewards + (0.99 * nextQs * (1-dones))\n",
    "    targetQs = tf.reshape(targetQs, shape=[-1, 1])\n",
    "    glossQ = tf.reduce_mean(tf.nn.sigmoid_cross_entropy_with_logits(logits=dQs,\n",
    "                                                                    labels=tf.nn.sigmoid(targetQs))) # [0, 1]\n",
    "    return actions_logits, gloss, dloss, glossQ"
   ]
  },
  {
   "cell_type": "code",
   "execution_count": 7,
   "metadata": {},
   "outputs": [],
   "source": [
    "def model_opt(g_loss, d_loss, g_lossQ, g_learning_rate, d_learning_rate):\n",
    "    # Get weights and bias to update\n",
    "    t_vars = tf.trainable_variables()\n",
    "    g_vars = [var for var in t_vars if var.name.startswith('generator')]\n",
    "    d_vars = [var for var in t_vars if var.name.startswith('discriminator')]\n",
    "\n",
    "    # Optimize\n",
    "    with tf.control_dependencies(tf.get_collection(tf.GraphKeys.UPDATE_OPS)): # Required for batchnorm (BN)\n",
    "        g_opt = tf.train.AdamOptimizer(g_learning_rate).minimize(g_loss, var_list=g_vars)\n",
    "        g_optQ = tf.train.AdamOptimizer(g_learning_rate).minimize(g_lossQ, var_list=g_vars)\n",
    "        d_opt = tf.train.AdamOptimizer(d_learning_rate).minimize(d_loss, var_list=d_vars)\n",
    "    return g_opt, d_opt, g_optQ"
   ]
  },
  {
   "cell_type": "code",
   "execution_count": 8,
   "metadata": {},
   "outputs": [],
   "source": [
    "class Model:\n",
    "    def __init__(self, state_size, action_size, hidden_size, g_learning_rate, d_learning_rate):\n",
    "\n",
    "        # Data of the Model: make the data available inside the framework\n",
    "        self.states, self.actions, self.next_states, self.rewards, self.dones, self.rates = model_input(state_size=state_size)\n",
    "\n",
    "        # Create the Model: calculating the loss and forwad pass\n",
    "        self.actions_logits, self.g_loss, self.d_loss, self.g_lossQ = model_loss(\n",
    "            action_size=action_size, hidden_size=hidden_size, state_size=state_size, # model init parameters\n",
    "            states=self.states, actions=self.actions, next_states=self.next_states, rewards=self.rewards, \n",
    "            dones=self.dones, rates=self.rates) # model input\n",
    "        \n",
    "        # Update the model: backward pass and backprop\n",
    "        self.g_opt, self.d_opt, self.g_optQ = model_opt(g_loss=self.g_loss, \n",
    "                                                        d_loss=self.d_loss,\n",
    "                                                        g_lossQ=self.g_lossQ,\n",
    "                                                        g_learning_rate=g_learning_rate, \n",
    "                                                        d_learning_rate=d_learning_rate)"
   ]
  },
  {
   "cell_type": "code",
   "execution_count": 9,
   "metadata": {},
   "outputs": [],
   "source": [
    "from collections import deque\n",
    "class Memory():\n",
    "    def __init__(self, max_size = 1000):\n",
    "        self.buffer = deque(maxlen=max_size) # data batch\n",
    "        self.rates = deque(maxlen=max_size) # rates\n",
    "#     def sample(self, batch_size):\n",
    "#         idx = np.random.choice(np.arange(len(self.buffer)), # ==  self.rates\n",
    "#                                size=batch_size, \n",
    "#                                replace=False)\n",
    "#         return [self.buffer[ii] for ii in idx], [self.rates[ii] for ii in idx]"
   ]
  },
  {
   "cell_type": "markdown",
   "metadata": {},
   "source": [
    "## Hyperparameters\n",
    "\n",
    "One of the more difficult aspects of reinforcememt learning are the large number of hyperparameters. Not only are we tuning the network, but we're tuning the simulation."
   ]
  },
  {
   "cell_type": "code",
   "execution_count": 10,
   "metadata": {},
   "outputs": [
    {
     "data": {
      "text/plain": [
       "(Box(4,), Discrete(2))"
      ]
     },
     "execution_count": 10,
     "metadata": {},
     "output_type": "execute_result"
    }
   ],
   "source": [
    "env.observation_space, env.action_space"
   ]
  },
  {
   "cell_type": "code",
   "execution_count": 11,
   "metadata": {},
   "outputs": [],
   "source": [
    "# Exploration parameters\n",
    "explore_start = 1.0            # exploration probability at start\n",
    "explore_stop = 0.01           # minimum exploration probability \n",
    "decay_rate = 0.0001            # exponential decay rate for exploration prob\n",
    "\n",
    "# Network parameters\n",
    "state_size = 4\n",
    "action_size = 2\n",
    "hidden_size = 4*2             # number of units in each Q-network hidden layer\n",
    "g_learning_rate = 1e-4         # Q-network learning rate\n",
    "d_learning_rate = 1e-4         # Q-network learning rate\n",
    "\n",
    "# Memory parameters\n",
    "memory_size = int(1e5)            # memory capacity\n",
    "batch_size = int(1e3)             # experience mini-batch size: 200/500 a successfull episode size\n",
    "gamma = 0.99                   # future reward discount"
   ]
  },
  {
   "cell_type": "code",
   "execution_count": 12,
   "metadata": {},
   "outputs": [],
   "source": [
    "# Reset/init the graph/session\n",
    "graph = tf.reset_default_graph()\n",
    "\n",
    "# Init the model\n",
    "model = Model(action_size=action_size, state_size=state_size, hidden_size=hidden_size,\n",
    "              g_learning_rate=g_learning_rate, d_learning_rate=d_learning_rate)\n",
    "\n",
    "# Init the memory\n",
    "memory = Memory(max_size=memory_size)"
   ]
  },
  {
   "cell_type": "code",
   "execution_count": 13,
   "metadata": {},
   "outputs": [],
   "source": [
    "state = env.reset()\n",
    "total_reward = 0\n",
    "num_step = 0\n",
    "for _ in range(memory_size):\n",
    "    action = env.action_space.sample()\n",
    "    next_state, reward, done, _ = env.step(action)\n",
    "    memory.buffer.append([state, action, next_state, reward, float(done)])\n",
    "    memory.rates.append(-1) # empty\n",
    "    num_step += 1 # memory incremented\n",
    "    total_reward += reward\n",
    "    state = next_state\n",
    "    if done is True:\n",
    "        state = env.reset()\n",
    "        rate = total_reward/500\n",
    "        total_reward = 0 # reset\n",
    "        for idx in range(num_step): # episode length\n",
    "            if memory.rates[-1-idx] == -1:\n",
    "                memory.rates[-1-idx] = rate\n",
    "        num_step = 0 # reset"
   ]
  },
  {
   "cell_type": "markdown",
   "metadata": {},
   "source": [
    "## Training the model\n",
    "\n",
    "Below we'll train our agent. If you want to watch it train, uncomment the `env.render()` line. This is slow because it's rendering the frames slower than the network can train. But, it's cool to watch the agent get better at the game."
   ]
  },
  {
   "cell_type": "code",
   "execution_count": null,
   "metadata": {},
   "outputs": [
    {
     "name": "stdout",
     "output_type": "stream",
     "text": [
      "Episode:0 meanR:19.0000 R:19.0000 rate:0.0380 gloss:0.6890 dloss:0.6842 glossQ:0.6998 exploreP:0.9981\n",
      "Episode:1 meanR:19.0000 R:19.0000 rate:0.0380 gloss:0.6900 dloss:0.6811 glossQ:0.7020 exploreP:0.9962\n",
      "Episode:2 meanR:23.3333 R:32.0000 rate:0.0640 gloss:0.6855 dloss:0.6784 glossQ:0.7034 exploreP:0.9931\n",
      "Episode:3 meanR:21.5000 R:16.0000 rate:0.0320 gloss:0.6834 dloss:0.6745 glossQ:0.7063 exploreP:0.9915\n",
      "Episode:4 meanR:26.4000 R:46.0000 rate:0.0920 gloss:0.6830 dloss:0.6701 glossQ:0.7083 exploreP:0.9870\n",
      "Episode:5 meanR:24.1667 R:13.0000 rate:0.0260 gloss:0.6854 dloss:0.6651 glossQ:0.7117 exploreP:0.9857\n",
      "Episode:6 meanR:22.7143 R:14.0000 rate:0.0280 gloss:0.6764 dloss:0.6641 glossQ:0.7123 exploreP:0.9844\n",
      "Episode:7 meanR:23.6250 R:30.0000 rate:0.0600 gloss:0.6794 dloss:0.6602 glossQ:0.7146 exploreP:0.9815\n",
      "Episode:8 meanR:22.3333 R:12.0000 rate:0.0240 gloss:0.6857 dloss:0.6581 glossQ:0.7154 exploreP:0.9803\n",
      "Episode:9 meanR:22.8000 R:27.0000 rate:0.0540 gloss:0.6868 dloss:0.6558 glossQ:0.7171 exploreP:0.9777\n",
      "Episode:10 meanR:27.0000 R:69.0000 rate:0.1380 gloss:0.6843 dloss:0.6492 glossQ:0.7213 exploreP:0.9710\n",
      "Episode:11 meanR:25.9167 R:14.0000 rate:0.0280 gloss:0.6849 dloss:0.6429 glossQ:0.7251 exploreP:0.9697\n",
      "Episode:12 meanR:25.2308 R:17.0000 rate:0.0340 gloss:0.6758 dloss:0.6390 glossQ:0.7263 exploreP:0.9681\n",
      "Episode:13 meanR:27.5000 R:57.0000 rate:0.1140 gloss:0.6813 dloss:0.6347 glossQ:0.7299 exploreP:0.9626\n",
      "Episode:14 meanR:26.8667 R:18.0000 rate:0.0360 gloss:0.6800 dloss:0.6286 glossQ:0.7322 exploreP:0.9609\n",
      "Episode:15 meanR:26.0000 R:13.0000 rate:0.0260 gloss:0.6910 dloss:0.6264 glossQ:0.7347 exploreP:0.9597\n",
      "Episode:16 meanR:25.0588 R:10.0000 rate:0.0200 gloss:0.7034 dloss:0.6245 glossQ:0.7348 exploreP:0.9587\n",
      "Episode:17 meanR:24.5556 R:16.0000 rate:0.0320 gloss:0.6851 dloss:0.6212 glossQ:0.7371 exploreP:0.9572\n",
      "Episode:18 meanR:24.6842 R:27.0000 rate:0.0540 gloss:0.6928 dloss:0.6216 glossQ:0.7369 exploreP:0.9546\n",
      "Episode:19 meanR:24.9500 R:30.0000 rate:0.0600 gloss:0.6814 dloss:0.6169 glossQ:0.7400 exploreP:0.9518\n",
      "Episode:20 meanR:24.3333 R:12.0000 rate:0.0240 gloss:0.6933 dloss:0.6101 glossQ:0.7431 exploreP:0.9507\n",
      "Episode:21 meanR:24.9545 R:38.0000 rate:0.0760 gloss:0.6903 dloss:0.6110 glossQ:0.7434 exploreP:0.9471\n",
      "Episode:22 meanR:24.5652 R:16.0000 rate:0.0320 gloss:0.6839 dloss:0.5981 glossQ:0.7468 exploreP:0.9456\n",
      "Episode:23 meanR:24.3333 R:19.0000 rate:0.0380 gloss:0.6822 dloss:0.6007 glossQ:0.7484 exploreP:0.9438\n",
      "Episode:24 meanR:23.8400 R:12.0000 rate:0.0240 gloss:0.6972 dloss:0.5960 glossQ:0.7490 exploreP:0.9427\n",
      "Episode:25 meanR:23.6154 R:18.0000 rate:0.0360 gloss:0.6851 dloss:0.5973 glossQ:0.7497 exploreP:0.9410\n",
      "Episode:26 meanR:23.4444 R:19.0000 rate:0.0380 gloss:0.6752 dloss:0.5942 glossQ:0.7524 exploreP:0.9393\n",
      "Episode:27 meanR:24.8929 R:64.0000 rate:0.1280 gloss:0.6815 dloss:0.5865 glossQ:0.7561 exploreP:0.9333\n",
      "Episode:28 meanR:24.7586 R:21.0000 rate:0.0420 gloss:0.6880 dloss:0.5770 glossQ:0.7593 exploreP:0.9314\n",
      "Episode:29 meanR:24.3000 R:11.0000 rate:0.0220 gloss:0.6792 dloss:0.5723 glossQ:0.7610 exploreP:0.9304\n",
      "Episode:30 meanR:24.2903 R:24.0000 rate:0.0480 gloss:0.6866 dloss:0.5714 glossQ:0.7622 exploreP:0.9282\n",
      "Episode:31 meanR:24.2500 R:23.0000 rate:0.0460 gloss:0.6817 dloss:0.5689 glossQ:0.7638 exploreP:0.9261\n",
      "Episode:32 meanR:23.9091 R:13.0000 rate:0.0260 gloss:0.7148 dloss:0.5539 glossQ:0.7634 exploreP:0.9249\n",
      "Episode:33 meanR:23.7941 R:20.0000 rate:0.0400 gloss:0.6741 dloss:0.5612 glossQ:0.7667 exploreP:0.9231\n",
      "Episode:34 meanR:23.6286 R:18.0000 rate:0.0360 gloss:0.6873 dloss:0.5601 glossQ:0.7682 exploreP:0.9214\n",
      "Episode:35 meanR:23.5278 R:20.0000 rate:0.0400 gloss:0.6827 dloss:0.5537 glossQ:0.7700 exploreP:0.9196\n",
      "Episode:36 meanR:23.6216 R:27.0000 rate:0.0540 gloss:0.6990 dloss:0.5442 glossQ:0.7708 exploreP:0.9171\n",
      "Episode:37 meanR:24.0526 R:40.0000 rate:0.0800 gloss:0.7004 dloss:0.5404 glossQ:0.7739 exploreP:0.9135\n",
      "Episode:38 meanR:24.3077 R:34.0000 rate:0.0680 gloss:0.7008 dloss:0.5334 glossQ:0.7768 exploreP:0.9105\n",
      "Episode:39 meanR:24.2000 R:20.0000 rate:0.0400 gloss:0.7290 dloss:0.5165 glossQ:0.7751 exploreP:0.9087\n",
      "Episode:40 meanR:24.3171 R:29.0000 rate:0.0580 gloss:0.7007 dloss:0.5213 glossQ:0.7827 exploreP:0.9061\n",
      "Episode:41 meanR:24.4762 R:31.0000 rate:0.0620 gloss:0.7046 dloss:0.5206 glossQ:0.7841 exploreP:0.9033\n",
      "Episode:42 meanR:24.3488 R:19.0000 rate:0.0380 gloss:0.7360 dloss:0.5101 glossQ:0.7802 exploreP:0.9016\n",
      "Episode:43 meanR:24.6136 R:36.0000 rate:0.0720 gloss:0.7206 dloss:0.5075 glossQ:0.7858 exploreP:0.8984\n",
      "Episode:44 meanR:24.6000 R:24.0000 rate:0.0480 gloss:0.7118 dloss:0.4924 glossQ:0.7892 exploreP:0.8963\n",
      "Episode:45 meanR:24.5652 R:23.0000 rate:0.0460 gloss:0.7273 dloss:0.4909 glossQ:0.7870 exploreP:0.8942\n",
      "Episode:46 meanR:25.2128 R:55.0000 rate:0.1100 gloss:0.7284 dloss:0.4835 glossQ:0.7928 exploreP:0.8894\n",
      "Episode:47 meanR:25.1667 R:23.0000 rate:0.0460 gloss:0.7557 dloss:0.4728 glossQ:0.7926 exploreP:0.8873\n",
      "Episode:48 meanR:25.1224 R:23.0000 rate:0.0460 gloss:0.7283 dloss:0.4779 glossQ:0.7959 exploreP:0.8853\n",
      "Episode:49 meanR:25.2000 R:29.0000 rate:0.0580 gloss:0.7569 dloss:0.4750 glossQ:0.7892 exploreP:0.8828\n",
      "Episode:50 meanR:25.4314 R:37.0000 rate:0.0740 gloss:0.7443 dloss:0.4643 glossQ:0.7933 exploreP:0.8796\n",
      "Episode:51 meanR:25.2500 R:16.0000 rate:0.0320 gloss:0.7305 dloss:0.4569 glossQ:0.7947 exploreP:0.8782\n",
      "Episode:52 meanR:25.0377 R:14.0000 rate:0.0280 gloss:0.7835 dloss:0.4612 glossQ:0.7845 exploreP:0.8770\n",
      "Episode:53 meanR:24.9815 R:22.0000 rate:0.0440 gloss:0.7603 dloss:0.4568 glossQ:0.7882 exploreP:0.8751\n",
      "Episode:54 meanR:24.8545 R:18.0000 rate:0.0360 gloss:0.7448 dloss:0.4489 glossQ:0.7975 exploreP:0.8735\n",
      "Episode:55 meanR:25.6071 R:67.0000 rate:0.1340 gloss:0.7539 dloss:0.4524 glossQ:0.7914 exploreP:0.8677\n",
      "Episode:56 meanR:25.6842 R:30.0000 rate:0.0600 gloss:0.7614 dloss:0.4461 glossQ:0.7870 exploreP:0.8652\n",
      "Episode:57 meanR:25.6034 R:21.0000 rate:0.0420 gloss:0.7994 dloss:0.4464 glossQ:0.7770 exploreP:0.8634\n",
      "Episode:58 meanR:25.7458 R:34.0000 rate:0.0680 gloss:0.7784 dloss:0.4526 glossQ:0.7807 exploreP:0.8605\n",
      "Episode:59 meanR:26.3167 R:60.0000 rate:0.1200 gloss:0.7875 dloss:0.4351 glossQ:0.7853 exploreP:0.8554\n",
      "Episode:60 meanR:26.2951 R:25.0000 rate:0.0500 gloss:0.7298 dloss:0.4234 glossQ:0.7899 exploreP:0.8533\n",
      "Episode:61 meanR:26.0968 R:14.0000 rate:0.0280 gloss:0.7608 dloss:0.4131 glossQ:0.7793 exploreP:0.8521\n",
      "Episode:62 meanR:25.9524 R:17.0000 rate:0.0340 gloss:0.8739 dloss:0.4218 glossQ:0.7407 exploreP:0.8507\n",
      "Episode:63 meanR:25.7656 R:14.0000 rate:0.0280 gloss:0.7418 dloss:0.4299 glossQ:0.7773 exploreP:0.8495\n",
      "Episode:64 meanR:26.0615 R:45.0000 rate:0.0900 gloss:0.7976 dloss:0.4246 glossQ:0.7608 exploreP:0.8457\n",
      "Episode:65 meanR:26.0000 R:22.0000 rate:0.0440 gloss:0.8124 dloss:0.4203 glossQ:0.7503 exploreP:0.8439\n",
      "Episode:66 meanR:25.8060 R:13.0000 rate:0.0260 gloss:0.7637 dloss:0.4154 glossQ:0.7647 exploreP:0.8428\n",
      "Episode:67 meanR:26.9118 R:101.0000 rate:0.2020 gloss:0.8129 dloss:0.4212 glossQ:0.7346 exploreP:0.8344\n",
      "Episode:68 meanR:27.2029 R:47.0000 rate:0.0940 gloss:0.8055 dloss:0.4136 glossQ:0.7136 exploreP:0.8306\n",
      "Episode:69 meanR:27.1429 R:23.0000 rate:0.0460 gloss:0.8122 dloss:0.4072 glossQ:0.7021 exploreP:0.8287\n",
      "Episode:70 meanR:26.9437 R:13.0000 rate:0.0260 gloss:0.8205 dloss:0.4215 glossQ:0.7151 exploreP:0.8276\n",
      "Episode:71 meanR:27.0833 R:37.0000 rate:0.0740 gloss:0.7983 dloss:0.4031 glossQ:0.6904 exploreP:0.8246\n",
      "Episode:72 meanR:27.0000 R:21.0000 rate:0.0420 gloss:0.8046 dloss:0.4102 glossQ:0.6785 exploreP:0.8229\n",
      "Episode:73 meanR:26.8378 R:15.0000 rate:0.0300 gloss:0.8592 dloss:0.4237 glossQ:0.6614 exploreP:0.8217\n",
      "Episode:74 meanR:26.9733 R:37.0000 rate:0.0740 gloss:0.8166 dloss:0.4161 glossQ:0.6518 exploreP:0.8187\n",
      "Episode:75 meanR:26.9737 R:27.0000 rate:0.0540 gloss:0.8050 dloss:0.4123 glossQ:0.6431 exploreP:0.8165\n",
      "Episode:76 meanR:27.0260 R:31.0000 rate:0.0620 gloss:0.7624 dloss:0.3842 glossQ:0.6452 exploreP:0.8140\n",
      "Episode:77 meanR:26.9872 R:24.0000 rate:0.0480 gloss:0.8092 dloss:0.4198 glossQ:0.6189 exploreP:0.8121\n",
      "Episode:78 meanR:26.8861 R:19.0000 rate:0.0380 gloss:0.8076 dloss:0.4143 glossQ:0.6134 exploreP:0.8106\n",
      "Episode:79 meanR:26.8000 R:20.0000 rate:0.0400 gloss:0.8461 dloss:0.3815 glossQ:0.5969 exploreP:0.8090\n"
     ]
    },
    {
     "name": "stdout",
     "output_type": "stream",
     "text": [
      "Episode:80 meanR:26.9259 R:37.0000 rate:0.0740 gloss:0.8106 dloss:0.4053 glossQ:0.5711 exploreP:0.8060\n",
      "Episode:81 meanR:26.7683 R:14.0000 rate:0.0280 gloss:0.7784 dloss:0.3858 glossQ:0.5861 exploreP:0.8049\n",
      "Episode:82 meanR:26.9398 R:41.0000 rate:0.0820 gloss:0.8816 dloss:0.4087 glossQ:0.5527 exploreP:0.8016\n",
      "Episode:83 meanR:27.0119 R:33.0000 rate:0.0660 gloss:0.8346 dloss:0.4049 glossQ:0.5187 exploreP:0.7990\n",
      "Episode:84 meanR:26.8471 R:13.0000 rate:0.0260 gloss:0.7847 dloss:0.3991 glossQ:0.5262 exploreP:0.7980\n",
      "Episode:85 meanR:26.7558 R:19.0000 rate:0.0380 gloss:0.7633 dloss:0.3864 glossQ:0.5180 exploreP:0.7965\n",
      "Episode:86 meanR:26.8506 R:35.0000 rate:0.0700 gloss:0.8275 dloss:0.3989 glossQ:0.5006 exploreP:0.7938\n",
      "Episode:87 meanR:27.2386 R:61.0000 rate:0.1220 gloss:0.7506 dloss:0.3916 glossQ:0.4610 exploreP:0.7890\n",
      "Episode:88 meanR:27.1461 R:19.0000 rate:0.0380 gloss:0.7243 dloss:0.3839 glossQ:0.4434 exploreP:0.7875\n",
      "Episode:89 meanR:26.9889 R:13.0000 rate:0.0260 gloss:0.7574 dloss:0.3871 glossQ:0.4259 exploreP:0.7865\n",
      "Episode:90 meanR:27.5385 R:77.0000 rate:0.1540 gloss:0.8007 dloss:0.3931 glossQ:0.4032 exploreP:0.7806\n",
      "Episode:91 meanR:27.9348 R:64.0000 rate:0.1280 gloss:0.7770 dloss:0.3841 glossQ:0.3681 exploreP:0.7756\n",
      "Episode:92 meanR:27.8280 R:18.0000 rate:0.0360 gloss:0.7222 dloss:0.3973 glossQ:0.3488 exploreP:0.7743\n",
      "Episode:93 meanR:27.8085 R:26.0000 rate:0.0520 gloss:0.7127 dloss:0.3942 glossQ:0.3375 exploreP:0.7723\n",
      "Episode:94 meanR:27.7053 R:18.0000 rate:0.0360 gloss:0.7285 dloss:0.3807 glossQ:0.3360 exploreP:0.7709\n",
      "Episode:95 meanR:27.7083 R:28.0000 rate:0.0560 gloss:0.7027 dloss:0.3952 glossQ:0.3160 exploreP:0.7688\n",
      "Episode:96 meanR:27.5670 R:14.0000 rate:0.0280 gloss:0.7103 dloss:0.3845 glossQ:0.3081 exploreP:0.7677\n",
      "Episode:97 meanR:28.1531 R:85.0000 rate:0.1700 gloss:0.7156 dloss:0.3912 glossQ:0.2874 exploreP:0.7613\n",
      "Episode:98 meanR:28.2525 R:38.0000 rate:0.0760 gloss:0.7221 dloss:0.4006 glossQ:0.2669 exploreP:0.7585\n",
      "Episode:99 meanR:28.2200 R:25.0000 rate:0.0500 gloss:0.7186 dloss:0.4034 glossQ:0.2619 exploreP:0.7566\n",
      "Episode:100 meanR:28.6500 R:62.0000 rate:0.1240 gloss:0.7079 dloss:0.3887 glossQ:0.2557 exploreP:0.7520\n",
      "Episode:101 meanR:30.0600 R:160.0000 rate:0.3200 gloss:0.6949 dloss:0.3903 glossQ:0.2261 exploreP:0.7402\n",
      "Episode:102 meanR:29.8600 R:12.0000 rate:0.0240 gloss:0.6911 dloss:0.3534 glossQ:0.2175 exploreP:0.7393\n",
      "Episode:103 meanR:29.8900 R:19.0000 rate:0.0380 gloss:0.6900 dloss:0.3796 glossQ:0.2118 exploreP:0.7379\n",
      "Episode:104 meanR:29.6500 R:22.0000 rate:0.0440 gloss:0.6860 dloss:0.3702 glossQ:0.2088 exploreP:0.7363\n",
      "Episode:105 meanR:29.6600 R:14.0000 rate:0.0280 gloss:0.6996 dloss:0.3745 glossQ:0.2253 exploreP:0.7353\n",
      "Episode:106 meanR:29.6600 R:14.0000 rate:0.0280 gloss:0.6850 dloss:0.3749 glossQ:0.2125 exploreP:0.7343\n",
      "Episode:107 meanR:29.6300 R:27.0000 rate:0.0540 gloss:0.6782 dloss:0.4155 glossQ:0.1979 exploreP:0.7323\n",
      "Episode:108 meanR:29.6700 R:16.0000 rate:0.0320 gloss:0.6755 dloss:0.3995 glossQ:0.1970 exploreP:0.7312\n",
      "Episode:109 meanR:30.5200 R:112.0000 rate:0.2240 gloss:0.6854 dloss:0.3878 glossQ:0.1947 exploreP:0.7232\n",
      "Episode:110 meanR:30.0300 R:20.0000 rate:0.0400 gloss:0.6716 dloss:0.4021 glossQ:0.1876 exploreP:0.7217\n",
      "Episode:111 meanR:30.3400 R:45.0000 rate:0.0900 gloss:0.6799 dloss:0.3905 glossQ:0.1908 exploreP:0.7185\n",
      "Episode:112 meanR:30.3200 R:15.0000 rate:0.0300 gloss:0.6650 dloss:0.3772 glossQ:0.1874 exploreP:0.7175\n",
      "Episode:113 meanR:30.4100 R:66.0000 rate:0.1320 gloss:0.6816 dloss:0.3837 glossQ:0.1837 exploreP:0.7128\n",
      "Episode:114 meanR:30.3600 R:13.0000 rate:0.0260 gloss:0.6811 dloss:0.4022 glossQ:0.1827 exploreP:0.7119\n",
      "Episode:115 meanR:30.9500 R:72.0000 rate:0.1440 gloss:0.6838 dloss:0.3964 glossQ:0.1816 exploreP:0.7069\n",
      "Episode:116 meanR:31.8000 R:95.0000 rate:0.1900 gloss:0.6812 dloss:0.3971 glossQ:0.1829 exploreP:0.7003\n",
      "Episode:117 meanR:32.3500 R:71.0000 rate:0.1420 gloss:0.6749 dloss:0.3889 glossQ:0.1801 exploreP:0.6954\n",
      "Episode:118 meanR:32.2300 R:15.0000 rate:0.0300 gloss:0.6752 dloss:0.3825 glossQ:0.1781 exploreP:0.6944\n",
      "Episode:119 meanR:32.1400 R:21.0000 rate:0.0420 gloss:0.6746 dloss:0.3898 glossQ:0.1808 exploreP:0.6929\n",
      "Episode:120 meanR:33.0500 R:103.0000 rate:0.2060 gloss:0.6774 dloss:0.3880 glossQ:0.1790 exploreP:0.6859\n",
      "Episode:121 meanR:32.7700 R:10.0000 rate:0.0200 gloss:0.6806 dloss:0.4005 glossQ:0.1715 exploreP:0.6853\n",
      "Episode:122 meanR:32.7900 R:18.0000 rate:0.0360 gloss:0.6587 dloss:0.3956 glossQ:0.2643 exploreP:0.6841\n",
      "Episode:123 meanR:32.7400 R:14.0000 rate:0.0280 gloss:0.6865 dloss:0.3913 glossQ:0.1791 exploreP:0.6831\n",
      "Episode:124 meanR:33.0400 R:42.0000 rate:0.0840 gloss:0.6756 dloss:0.3906 glossQ:0.1740 exploreP:0.6803\n",
      "Episode:125 meanR:33.6400 R:78.0000 rate:0.1560 gloss:0.6782 dloss:0.3940 glossQ:0.1777 exploreP:0.6751\n",
      "Episode:126 meanR:33.9300 R:48.0000 rate:0.0960 gloss:0.6769 dloss:0.3884 glossQ:0.1735 exploreP:0.6719\n",
      "Episode:127 meanR:34.4500 R:116.0000 rate:0.2320 gloss:0.6723 dloss:0.3812 glossQ:0.1731 exploreP:0.6643\n",
      "Episode:128 meanR:34.6300 R:39.0000 rate:0.0780 gloss:0.6694 dloss:0.4034 glossQ:0.1683 exploreP:0.6617\n",
      "Episode:129 meanR:34.7200 R:20.0000 rate:0.0400 gloss:0.6849 dloss:0.3961 glossQ:0.1715 exploreP:0.6604\n",
      "Episode:130 meanR:34.7700 R:29.0000 rate:0.0580 gloss:0.6726 dloss:0.3866 glossQ:0.1734 exploreP:0.6585\n",
      "Episode:131 meanR:35.3700 R:83.0000 rate:0.1660 gloss:0.6721 dloss:0.3994 glossQ:0.1701 exploreP:0.6532\n",
      "Episode:132 meanR:35.9600 R:72.0000 rate:0.1440 gloss:0.6681 dloss:0.3891 glossQ:0.1698 exploreP:0.6486\n",
      "Episode:133 meanR:36.1500 R:39.0000 rate:0.0780 gloss:0.6700 dloss:0.3943 glossQ:0.1667 exploreP:0.6461\n",
      "Episode:134 meanR:36.4200 R:45.0000 rate:0.0900 gloss:0.6735 dloss:0.3863 glossQ:0.1709 exploreP:0.6432\n",
      "Episode:135 meanR:36.4000 R:18.0000 rate:0.0360 gloss:0.6669 dloss:0.4173 glossQ:0.1678 exploreP:0.6421\n",
      "Episode:136 meanR:36.5200 R:39.0000 rate:0.0780 gloss:0.6711 dloss:0.4228 glossQ:0.1699 exploreP:0.6396\n",
      "Episode:137 meanR:36.6800 R:56.0000 rate:0.1120 gloss:0.6674 dloss:0.4002 glossQ:0.1703 exploreP:0.6361\n",
      "Episode:138 meanR:37.4500 R:111.0000 rate:0.2220 gloss:0.6693 dloss:0.3984 glossQ:0.1717 exploreP:0.6292\n",
      "Episode:139 meanR:37.6300 R:38.0000 rate:0.0760 gloss:0.6734 dloss:0.3986 glossQ:0.1792 exploreP:0.6268\n",
      "Episode:140 meanR:37.6200 R:28.0000 rate:0.0560 gloss:0.6792 dloss:0.3773 glossQ:0.1726 exploreP:0.6251\n",
      "Episode:141 meanR:37.8600 R:55.0000 rate:0.1100 gloss:0.6736 dloss:0.3758 glossQ:0.1720 exploreP:0.6217\n",
      "Episode:142 meanR:38.6600 R:99.0000 rate:0.1980 gloss:0.6679 dloss:0.3941 glossQ:0.1849 exploreP:0.6157\n",
      "Episode:143 meanR:39.2300 R:93.0000 rate:0.1860 gloss:0.6718 dloss:0.3959 glossQ:0.1697 exploreP:0.6101\n",
      "Episode:144 meanR:40.2400 R:125.0000 rate:0.2500 gloss:0.6761 dloss:0.3968 glossQ:0.1694 exploreP:0.6027\n",
      "Episode:145 meanR:40.1800 R:17.0000 rate:0.0340 gloss:0.6611 dloss:0.3852 glossQ:0.1672 exploreP:0.6016\n",
      "Episode:146 meanR:40.5300 R:90.0000 rate:0.1800 gloss:0.6704 dloss:0.4069 glossQ:0.1806 exploreP:0.5963\n",
      "Episode:147 meanR:40.5700 R:27.0000 rate:0.0540 gloss:0.6689 dloss:0.4132 glossQ:0.1693 exploreP:0.5948\n",
      "Episode:148 meanR:40.7800 R:44.0000 rate:0.0880 gloss:0.6733 dloss:0.4048 glossQ:0.1736 exploreP:0.5922\n",
      "Episode:149 meanR:40.8400 R:35.0000 rate:0.0700 gloss:0.6718 dloss:0.3801 glossQ:0.1745 exploreP:0.5902\n",
      "Episode:150 meanR:40.6300 R:16.0000 rate:0.0320 gloss:0.6670 dloss:0.3921 glossQ:0.1709 exploreP:0.5892\n",
      "Episode:151 meanR:41.2200 R:75.0000 rate:0.1500 gloss:0.6728 dloss:0.3862 glossQ:0.1690 exploreP:0.5849\n",
      "Episode:152 meanR:41.3500 R:27.0000 rate:0.0540 gloss:0.6668 dloss:0.4011 glossQ:0.1696 exploreP:0.5834\n",
      "Episode:153 meanR:42.1700 R:104.0000 rate:0.2080 gloss:0.6699 dloss:0.3993 glossQ:0.1688 exploreP:0.5774\n",
      "Episode:154 meanR:42.5700 R:58.0000 rate:0.1160 gloss:0.6719 dloss:0.3967 glossQ:0.1691 exploreP:0.5741\n",
      "Episode:155 meanR:42.5300 R:63.0000 rate:0.1260 gloss:0.6694 dloss:0.3879 glossQ:0.1669 exploreP:0.5706\n",
      "Episode:156 meanR:43.2600 R:103.0000 rate:0.2060 gloss:0.6705 dloss:0.3870 glossQ:0.1680 exploreP:0.5649\n",
      "Episode:157 meanR:44.3900 R:134.0000 rate:0.2680 gloss:0.6678 dloss:0.4042 glossQ:0.1672 exploreP:0.5575\n",
      "Episode:158 meanR:44.3100 R:26.0000 rate:0.0520 gloss:0.6664 dloss:0.3861 glossQ:0.1703 exploreP:0.5560\n"
     ]
    },
    {
     "name": "stdout",
     "output_type": "stream",
     "text": [
      "Episode:159 meanR:44.5000 R:79.0000 rate:0.1580 gloss:0.6690 dloss:0.4029 glossQ:0.1742 exploreP:0.5518\n",
      "Episode:160 meanR:44.4400 R:19.0000 rate:0.0380 gloss:0.6696 dloss:0.4082 glossQ:0.1937 exploreP:0.5507\n",
      "Episode:161 meanR:44.5700 R:27.0000 rate:0.0540 gloss:0.6699 dloss:0.4073 glossQ:0.1666 exploreP:0.5493\n",
      "Episode:162 meanR:44.9300 R:53.0000 rate:0.1060 gloss:0.6719 dloss:0.3884 glossQ:0.1708 exploreP:0.5464\n",
      "Episode:163 meanR:45.8000 R:101.0000 rate:0.2020 gloss:0.6702 dloss:0.3894 glossQ:0.1687 exploreP:0.5410\n",
      "Episode:164 meanR:46.0300 R:68.0000 rate:0.1360 gloss:0.6662 dloss:0.4001 glossQ:0.1857 exploreP:0.5374\n",
      "Episode:165 meanR:46.2100 R:40.0000 rate:0.0800 gloss:0.6694 dloss:0.4006 glossQ:0.1682 exploreP:0.5353\n",
      "Episode:166 meanR:46.8400 R:76.0000 rate:0.1520 gloss:0.6703 dloss:0.3929 glossQ:0.1682 exploreP:0.5313\n",
      "Episode:167 meanR:46.0700 R:24.0000 rate:0.0480 gloss:0.6722 dloss:0.3994 glossQ:0.1670 exploreP:0.5301\n",
      "Episode:168 meanR:46.2700 R:67.0000 rate:0.1340 gloss:0.6704 dloss:0.3982 glossQ:0.1738 exploreP:0.5266\n",
      "Episode:169 meanR:47.3200 R:128.0000 rate:0.2560 gloss:0.6701 dloss:0.3956 glossQ:0.1690 exploreP:0.5200\n",
      "Episode:170 meanR:48.7700 R:158.0000 rate:0.3160 gloss:0.6675 dloss:0.3929 glossQ:0.1655 exploreP:0.5121\n",
      "Episode:171 meanR:49.2300 R:83.0000 rate:0.1660 gloss:0.6721 dloss:0.3832 glossQ:0.1670 exploreP:0.5079\n",
      "Episode:172 meanR:49.3600 R:34.0000 rate:0.0680 gloss:0.6695 dloss:0.4118 glossQ:0.1638 exploreP:0.5062\n",
      "Episode:173 meanR:49.7700 R:56.0000 rate:0.1120 gloss:0.6728 dloss:0.4197 glossQ:0.1742 exploreP:0.5034\n",
      "Episode:174 meanR:49.8000 R:40.0000 rate:0.0800 gloss:0.6702 dloss:0.4161 glossQ:0.1708 exploreP:0.5015\n",
      "Episode:175 meanR:51.3200 R:179.0000 rate:0.3580 gloss:0.6703 dloss:0.4017 glossQ:0.1807 exploreP:0.4928\n",
      "Episode:176 meanR:52.1300 R:112.0000 rate:0.2240 gloss:0.6671 dloss:0.4144 glossQ:0.1710 exploreP:0.4874\n",
      "Episode:177 meanR:52.6300 R:74.0000 rate:0.1480 gloss:0.6705 dloss:0.4031 glossQ:0.1749 exploreP:0.4839\n",
      "Episode:178 meanR:53.3900 R:95.0000 rate:0.1900 gloss:0.6695 dloss:0.4036 glossQ:0.1726 exploreP:0.4794\n",
      "Episode:179 meanR:54.7900 R:160.0000 rate:0.3200 gloss:0.6670 dloss:0.3999 glossQ:0.1765 exploreP:0.4719\n",
      "Episode:180 meanR:55.3000 R:88.0000 rate:0.1760 gloss:0.6694 dloss:0.3918 glossQ:0.1696 exploreP:0.4679\n",
      "Episode:181 meanR:55.9700 R:81.0000 rate:0.1620 gloss:0.6664 dloss:0.3975 glossQ:0.1692 exploreP:0.4642\n",
      "Episode:182 meanR:58.3100 R:275.0000 rate:0.5500 gloss:0.6665 dloss:0.4017 glossQ:0.1710 exploreP:0.4519\n",
      "Episode:183 meanR:59.8500 R:187.0000 rate:0.3740 gloss:0.6719 dloss:0.4074 glossQ:0.1733 exploreP:0.4437\n",
      "Episode:184 meanR:61.9000 R:218.0000 rate:0.4360 gloss:0.6690 dloss:0.3938 glossQ:0.1735 exploreP:0.4343\n",
      "Episode:185 meanR:63.4800 R:177.0000 rate:0.3540 gloss:0.6681 dloss:0.4148 glossQ:0.1763 exploreP:0.4269\n",
      "Episode:186 meanR:66.4900 R:336.0000 rate:0.6720 gloss:0.6666 dloss:0.4172 glossQ:0.1737 exploreP:0.4131\n",
      "Episode:187 meanR:67.5700 R:169.0000 rate:0.3380 gloss:0.6703 dloss:0.4104 glossQ:0.1814 exploreP:0.4064\n",
      "Episode:188 meanR:69.1100 R:173.0000 rate:0.3460 gloss:0.6659 dloss:0.4027 glossQ:0.1750 exploreP:0.3996\n",
      "Episode:189 meanR:70.0900 R:111.0000 rate:0.2220 gloss:0.6644 dloss:0.3917 glossQ:0.1746 exploreP:0.3953\n",
      "Episode:190 meanR:70.4500 R:113.0000 rate:0.2260 gloss:0.6680 dloss:0.4094 glossQ:0.1722 exploreP:0.3909\n",
      "Episode:191 meanR:73.7600 R:395.0000 rate:0.7900 gloss:0.6681 dloss:0.4182 glossQ:0.1779 exploreP:0.3762\n",
      "Episode:192 meanR:75.3600 R:178.0000 rate:0.3560 gloss:0.6654 dloss:0.4341 glossQ:0.1796 exploreP:0.3697\n",
      "Episode:193 meanR:78.9100 R:381.0000 rate:0.7620 gloss:0.6663 dloss:0.4290 glossQ:0.1835 exploreP:0.3563\n",
      "Episode:194 meanR:80.4900 R:176.0000 rate:0.3520 gloss:0.6663 dloss:0.4330 glossQ:0.1873 exploreP:0.3502\n",
      "Episode:195 meanR:85.2100 R:500.0000 rate:1.0000 gloss:0.6655 dloss:0.4365 glossQ:0.1891 exploreP:0.3336\n",
      "Episode:196 meanR:90.0700 R:500.0000 rate:1.0000 gloss:0.6636 dloss:0.4539 glossQ:0.1924 exploreP:0.3178\n",
      "Episode:197 meanR:92.4300 R:321.0000 rate:0.6420 gloss:0.6639 dloss:0.4550 glossQ:0.1968 exploreP:0.3081\n",
      "Episode:198 meanR:93.4500 R:140.0000 rate:0.2800 gloss:0.6670 dloss:0.4280 glossQ:0.1997 exploreP:0.3040\n",
      "Episode:199 meanR:98.2000 R:500.0000 rate:1.0000 gloss:0.6652 dloss:0.4523 glossQ:0.2011 exploreP:0.2896\n",
      "Episode:200 meanR:102.5800 R:500.0000 rate:1.0000 gloss:0.6647 dloss:0.4753 glossQ:0.2036 exploreP:0.2760\n",
      "Episode:201 meanR:104.8500 R:387.0000 rate:0.7740 gloss:0.6664 dloss:0.5005 glossQ:0.2146 exploreP:0.2659\n",
      "Episode:202 meanR:106.2400 R:151.0000 rate:0.3020 gloss:0.6664 dloss:0.4633 glossQ:0.2158 exploreP:0.2621\n",
      "Episode:203 meanR:111.0500 R:500.0000 rate:1.0000 gloss:0.6639 dloss:0.4808 glossQ:0.2161 exploreP:0.2498\n",
      "Episode:204 meanR:115.8300 R:500.0000 rate:1.0000 gloss:0.6642 dloss:0.4713 glossQ:0.2159 exploreP:0.2381\n",
      "Episode:205 meanR:117.3700 R:168.0000 rate:0.3360 gloss:0.6628 dloss:0.4851 glossQ:0.2155 exploreP:0.2343\n",
      "Episode:206 meanR:118.9100 R:168.0000 rate:0.3360 gloss:0.6661 dloss:0.4830 glossQ:0.2199 exploreP:0.2305\n",
      "Episode:207 meanR:121.2700 R:263.0000 rate:0.5260 gloss:0.6647 dloss:0.5161 glossQ:0.2231 exploreP:0.2248\n",
      "Episode:208 meanR:123.9100 R:280.0000 rate:0.5600 gloss:0.6623 dloss:0.4740 glossQ:0.2296 exploreP:0.2189\n",
      "Episode:209 meanR:127.7900 R:500.0000 rate:1.0000 gloss:0.6605 dloss:0.5250 glossQ:0.2339 exploreP:0.2087\n",
      "Episode:210 meanR:128.5200 R:93.0000 rate:0.1860 gloss:0.6800 dloss:0.4510 glossQ:0.2412 exploreP:0.2069\n",
      "Episode:211 meanR:129.4500 R:138.0000 rate:0.2760 gloss:0.6682 dloss:0.4662 glossQ:0.2345 exploreP:0.2042\n",
      "Episode:212 meanR:131.9300 R:263.0000 rate:0.5260 gloss:0.6644 dloss:0.4975 glossQ:0.2304 exploreP:0.1991\n",
      "Episode:213 meanR:132.9300 R:166.0000 rate:0.3320 gloss:0.6654 dloss:0.5144 glossQ:0.2326 exploreP:0.1960\n",
      "Episode:214 meanR:134.5200 R:172.0000 rate:0.3440 gloss:0.6648 dloss:0.4991 glossQ:0.2428 exploreP:0.1928\n",
      "Episode:215 meanR:137.2400 R:344.0000 rate:0.6880 gloss:0.6628 dloss:0.5171 glossQ:0.2389 exploreP:0.1867\n",
      "Episode:216 meanR:138.6500 R:236.0000 rate:0.4720 gloss:0.6632 dloss:0.5382 glossQ:0.2452 exploreP:0.1825\n",
      "Episode:217 meanR:140.2700 R:233.0000 rate:0.4660 gloss:0.6637 dloss:0.4801 glossQ:0.2418 exploreP:0.1786\n",
      "Episode:218 meanR:141.2500 R:113.0000 rate:0.2260 gloss:0.6633 dloss:0.5068 glossQ:0.2390 exploreP:0.1767\n",
      "Episode:219 meanR:143.6400 R:260.0000 rate:0.5200 gloss:0.6666 dloss:0.5353 glossQ:0.2479 exploreP:0.1724\n",
      "Episode:220 meanR:143.9400 R:133.0000 rate:0.2660 gloss:0.6596 dloss:0.5341 glossQ:0.2421 exploreP:0.1702\n",
      "Episode:221 meanR:145.1300 R:129.0000 rate:0.2580 gloss:0.6602 dloss:0.5283 glossQ:0.2475 exploreP:0.1682\n",
      "Episode:222 meanR:148.3400 R:339.0000 rate:0.6780 gloss:0.6609 dloss:0.5120 glossQ:0.2475 exploreP:0.1629\n",
      "Episode:223 meanR:150.3100 R:211.0000 rate:0.4220 gloss:0.6587 dloss:0.5615 glossQ:0.2521 exploreP:0.1597\n",
      "Episode:224 meanR:151.7600 R:187.0000 rate:0.3740 gloss:0.6653 dloss:0.4750 glossQ:0.2519 exploreP:0.1570\n",
      "Episode:225 meanR:153.1100 R:213.0000 rate:0.4260 gloss:0.6623 dloss:0.5050 glossQ:0.2460 exploreP:0.1539\n",
      "Episode:226 meanR:157.6300 R:500.0000 rate:1.0000 gloss:0.6607 dloss:0.5281 glossQ:0.2485 exploreP:0.1468\n",
      "Episode:227 meanR:158.1400 R:167.0000 rate:0.3340 gloss:0.6604 dloss:0.5188 glossQ:0.2529 exploreP:0.1446\n",
      "Episode:228 meanR:160.0900 R:234.0000 rate:0.4680 gloss:0.6623 dloss:0.5313 glossQ:0.2561 exploreP:0.1415\n",
      "Episode:229 meanR:161.5300 R:164.0000 rate:0.3280 gloss:0.6595 dloss:0.5553 glossQ:0.2599 exploreP:0.1393\n",
      "Episode:230 meanR:165.6200 R:438.0000 rate:0.8760 gloss:0.6591 dloss:0.5523 glossQ:0.2636 exploreP:0.1338\n",
      "Episode:231 meanR:166.5700 R:178.0000 rate:0.3560 gloss:0.6614 dloss:0.5572 glossQ:0.2714 exploreP:0.1316\n",
      "Episode:232 meanR:167.0500 R:120.0000 rate:0.2400 gloss:0.6554 dloss:0.5905 glossQ:0.2735 exploreP:0.1301\n",
      "Episode:233 meanR:168.6300 R:197.0000 rate:0.3940 gloss:0.6566 dloss:0.5735 glossQ:0.2789 exploreP:0.1278\n",
      "Episode:234 meanR:169.8900 R:171.0000 rate:0.3420 gloss:0.6557 dloss:0.5506 glossQ:0.2846 exploreP:0.1258\n",
      "Episode:235 meanR:172.1000 R:239.0000 rate:0.4780 gloss:0.6586 dloss:0.5714 glossQ:0.2880 exploreP:0.1231\n",
      "Episode:236 meanR:174.6800 R:297.0000 rate:0.5940 gloss:0.6589 dloss:0.5570 glossQ:0.2881 exploreP:0.1198\n"
     ]
    },
    {
     "name": "stdout",
     "output_type": "stream",
     "text": [
      "Episode:237 meanR:176.4200 R:230.0000 rate:0.4600 gloss:0.6579 dloss:0.5658 glossQ:0.2922 exploreP:0.1173\n",
      "Episode:238 meanR:178.3300 R:302.0000 rate:0.6040 gloss:0.6574 dloss:0.5521 glossQ:0.2957 exploreP:0.1141\n",
      "Episode:239 meanR:182.9500 R:500.0000 rate:1.0000 gloss:0.6557 dloss:0.5481 glossQ:0.2924 exploreP:0.1090\n",
      "Episode:240 meanR:184.1500 R:148.0000 rate:0.2960 gloss:0.6672 dloss:0.5627 glossQ:0.2957 exploreP:0.1075\n",
      "Episode:241 meanR:185.7100 R:211.0000 rate:0.4220 gloss:0.6557 dloss:0.5734 glossQ:0.2970 exploreP:0.1055\n",
      "Episode:242 meanR:186.7800 R:206.0000 rate:0.4120 gloss:0.6561 dloss:0.5245 glossQ:0.2928 exploreP:0.1036\n",
      "Episode:243 meanR:188.5100 R:266.0000 rate:0.5320 gloss:0.6602 dloss:0.5326 glossQ:0.2899 exploreP:0.1011\n",
      "Episode:244 meanR:189.9200 R:266.0000 rate:0.5320 gloss:0.6620 dloss:0.5243 glossQ:0.2889 exploreP:0.0987\n",
      "Episode:245 meanR:192.4800 R:273.0000 rate:0.5460 gloss:0.6597 dloss:0.5691 glossQ:0.2921 exploreP:0.0963\n",
      "Episode:246 meanR:194.3100 R:273.0000 rate:0.5460 gloss:0.6562 dloss:0.5503 glossQ:0.2913 exploreP:0.0940\n",
      "Episode:247 meanR:195.5400 R:150.0000 rate:0.3000 gloss:0.6527 dloss:0.5973 glossQ:0.2978 exploreP:0.0927\n",
      "Episode:248 meanR:196.5600 R:146.0000 rate:0.2920 gloss:0.6625 dloss:0.5476 glossQ:0.3085 exploreP:0.0915\n",
      "Episode:249 meanR:201.1800 R:497.0000 rate:0.9940 gloss:0.6564 dloss:0.5755 glossQ:0.3098 exploreP:0.0876\n",
      "Episode:250 meanR:204.0200 R:300.0000 rate:0.6000 gloss:0.6526 dloss:0.5739 glossQ:0.3214 exploreP:0.0853\n",
      "Episode:251 meanR:204.9800 R:171.0000 rate:0.3420 gloss:0.6526 dloss:0.5978 glossQ:0.3207 exploreP:0.0840\n",
      "Episode:252 meanR:208.3800 R:367.0000 rate:0.7340 gloss:0.6563 dloss:0.5651 glossQ:0.3244 exploreP:0.0814\n",
      "Episode:253 meanR:212.3400 R:500.0000 rate:1.0000 gloss:0.6546 dloss:0.5715 glossQ:0.3264 exploreP:0.0779\n",
      "Episode:254 meanR:213.2200 R:146.0000 rate:0.2920 gloss:0.6577 dloss:0.5524 glossQ:0.3360 exploreP:0.0769\n",
      "Episode:255 meanR:214.6800 R:209.0000 rate:0.4180 gloss:0.6512 dloss:0.5931 glossQ:0.3422 exploreP:0.0755\n",
      "Episode:256 meanR:215.7500 R:210.0000 rate:0.4200 gloss:0.6570 dloss:0.5672 glossQ:0.3343 exploreP:0.0741\n",
      "Episode:257 meanR:217.5000 R:309.0000 rate:0.6180 gloss:0.6542 dloss:0.5803 glossQ:0.3486 exploreP:0.0722\n"
     ]
    }
   ],
   "source": [
    "# Save/load the model and save for plotting\n",
    "saver = tf.train.Saver()\n",
    "episode_rewards_list, rewards_list = [], []\n",
    "# gloss_list, dloss_list = [], []\n",
    "\n",
    "# TF session for training\n",
    "with tf.Session(graph=graph) as sess:\n",
    "    sess.run(tf.global_variables_initializer())\n",
    "    #saver.restore(sess, 'checkpoints/model.ckpt')    \n",
    "    #saver.restore(sess, tf.train.latest_checkpoint('checkpoints'))\n",
    "    total_step = 0 # Explore or exploit parameter\n",
    "    episode_reward = deque(maxlen=100) # 100 episodes average/running average/running mean/window\n",
    "\n",
    "    # Training episodes/epochs\n",
    "    for ep in range(1111*3):\n",
    "        total_reward = 0 # each episode\n",
    "        gloss_batch, dloss_batch, glossQ_batch = [], [], []\n",
    "        state = env.reset() # each episode\n",
    "        num_step = 0 # each episode\n",
    "\n",
    "        # Training steps/batches\n",
    "        while True:\n",
    "            # Explore (Env) or Exploit (Model)\n",
    "            total_step += 1\n",
    "            explore_p = explore_stop + (explore_start - explore_stop) * np.exp(-decay_rate * total_step) \n",
    "            if explore_p > np.random.rand():\n",
    "                action = env.action_space.sample()\n",
    "            else:\n",
    "                action_logits = sess.run(model.actions_logits, feed_dict={model.states: state.reshape([1, -1])})\n",
    "                action = np.argmax(action_logits)\n",
    "            next_state, reward, done, _ = env.step(action)\n",
    "            memory.buffer.append([state, action, next_state, reward, float(done)])\n",
    "            memory.rates.append(-1) # empty\n",
    "            num_step += 1 # momory added\n",
    "            total_reward += reward\n",
    "            state = next_state\n",
    "            \n",
    "            # Rating the memory\n",
    "            if done is True:\n",
    "                rate = total_reward/500 # update rate at the end/ when episode is done\n",
    "                for idx in range(num_step): # episode length\n",
    "                    if memory.rates[-1-idx] == -1: # double-check the landmark/marked indexes\n",
    "                        memory.rates[-1-idx] = rate # rate the trajectory/data\n",
    "                        \n",
    "            # Training with the maxrated minibatch\n",
    "            batch = memory.buffer\n",
    "            percentage = 0.9\n",
    "            #for idx in range(memory_size// batch_size):\n",
    "            idx_arr = np.arange(memory_size// batch_size)\n",
    "            idx = np.random.choice(idx_arr)\n",
    "            states = np.array([each[0] for each in batch])[idx*batch_size:(idx+1)*batch_size]\n",
    "            actions = np.array([each[1] for each in batch])[idx*batch_size:(idx+1)*batch_size]\n",
    "            next_states = np.array([each[2] for each in batch])[idx*batch_size:(idx+1)*batch_size]\n",
    "            rewards = np.array([each[3] for each in batch])[idx*batch_size:(idx+1)*batch_size]\n",
    "            dones = np.array([each[4] for each in batch])[idx*batch_size:(idx+1)*batch_size]\n",
    "            rates = np.array(memory.rates)[idx*batch_size:(idx+1)*batch_size]\n",
    "            #print(states.shape, actions.shape, next_states.shape, rewards.shape, dones.shape, rates.shape)\n",
    "            states = states[rates >= (np.max(rates)*percentage)]\n",
    "            actions = actions[rates >= (np.max(rates)*percentage)]\n",
    "            next_states = next_states[rates >= (np.max(rates)*percentage)]\n",
    "            rewards = rewards[rates >= (np.max(rates)*percentage)]\n",
    "            dones = dones[rates >= (np.max(rates)*percentage)]\n",
    "            rates = rates[rates >= (np.max(rates)*percentage)]\n",
    "            gloss, _, dloss, _ = sess.run([model.g_loss, model.g_opt, model.d_loss, model.d_opt], \n",
    "                                          feed_dict = {model.states: states, \n",
    "                                                       model.actions: actions,\n",
    "                                                       model.next_states: next_states,\n",
    "                                                       model.rewards: rewards,\n",
    "                                                       model.dones: dones, \n",
    "                                                       model.rates: rates})\n",
    "            glossQ, _ = sess.run([model.g_lossQ, model.g_optQ], feed_dict = {model.states: states, \n",
    "                                                                             model.actions: actions,\n",
    "                                                                             model.next_states: next_states,\n",
    "                                                                             model.rewards: rewards,\n",
    "                                                                             model.dones: dones, \n",
    "                                                                             model.rates: rates})\n",
    "            dloss_batch.append(dloss)\n",
    "            gloss_batch.append(gloss)\n",
    "            glossQ_batch.append(glossQ)\n",
    "            if done is True:\n",
    "                break\n",
    "                \n",
    "        episode_reward.append(total_reward)\n",
    "        print('Episode:{}'.format(ep),\n",
    "              'meanR:{:.4f}'.format(np.mean(episode_reward)),\n",
    "              'R:{:.4f}'.format(total_reward),\n",
    "              'rate:{:.4f}'.format(rate),\n",
    "              'gloss:{:.4f}'.format(np.mean(gloss_batch)),\n",
    "              'dloss:{:.4f}'.format(np.mean(dloss_batch)),\n",
    "              'glossQ:{:.4f}'.format(np.mean(glossQ_batch)),\n",
    "              'exploreP:{:.4f}'.format(explore_p))\n",
    "\n",
    "        # Ploting out\n",
    "        episode_rewards_list.append([ep, np.mean(episode_reward)])\n",
    "        rewards_list.append([ep, total_reward])\n",
    "        # gloss_list.append([ep, np.mean(gloss_batch)])\n",
    "        # dloss_list.append([ep, np.mean(dloss_batch)])\n",
    "        \n",
    "        # Break episode/epoch loop\n",
    "        ## Option 1: Solve the First Version\n",
    "        #The task is episodic, and in order to solve the environment, \n",
    "        #your agent must get an average score of +30 over 100 consecutive episodes.\n",
    "        if np.mean(episode_reward) >= 500:\n",
    "            break\n",
    "            \n",
    "    # At the end of all training episodes/epochs\n",
    "    saver.save(sess, 'checkpoints/model.ckpt')"
   ]
  },
  {
   "cell_type": "markdown",
   "metadata": {},
   "source": [
    "# Visualizing training\n",
    "\n",
    "Below I'll plot the total rewards for each episode. I'm plotting the rolling average too, in blue."
   ]
  },
  {
   "cell_type": "code",
   "execution_count": null,
   "metadata": {},
   "outputs": [],
   "source": [
    "import matplotlib.pyplot as plt\n",
    "%matplotlib inline\n",
    "\n",
    "def running_mean(x, N):\n",
    "    cumsum = np.cumsum(np.insert(x, 0, 0)) \n",
    "    return (cumsum[N:] - cumsum[:-N]) / N "
   ]
  },
  {
   "cell_type": "code",
   "execution_count": null,
   "metadata": {},
   "outputs": [],
   "source": [
    "eps, arr = np.array(episode_rewards_list).T\n",
    "smoothed_arr = running_mean(arr, 10)\n",
    "plt.plot(eps[-len(smoothed_arr):], smoothed_arr)\n",
    "plt.plot(eps, arr, color='grey', alpha=0.3)\n",
    "plt.xlabel('Episode')\n",
    "plt.ylabel('Total rewards')"
   ]
  },
  {
   "cell_type": "code",
   "execution_count": 16,
   "metadata": {},
   "outputs": [
    {
     "data": {
      "text/plain": [
       "Text(0, 0.5, 'Total rewards')"
      ]
     },
     "execution_count": 16,
     "metadata": {},
     "output_type": "execute_result"
    },
    {
     "data": {
      "image/png": "[encoded data removed]",
      "text/plain": [
       "<Figure size 432x288 with 1 Axes>"
      ]
     },
     "metadata": {
      "needs_background": "light"
     },
     "output_type": "display_data"
    }
   ],
   "source": [
    "eps, arr = np.array(episode_rewards_list).T\n",
    "smoothed_arr = running_mean(arr, 10)\n",
    "plt.plot(eps[-len(smoothed_arr):], smoothed_arr)\n",
    "plt.plot(eps, arr, color='grey', alpha=0.3)\n",
    "plt.xlabel('Episode')\n",
    "plt.ylabel('Total rewards')"
   ]
  },
  {
   "cell_type": "code",
   "execution_count": 17,
   "metadata": {},
   "outputs": [
    {
     "data": {
      "text/plain": [
       "Text(0, 0.5, 'Total rewards')"
      ]
     },
     "execution_count": 17,
     "metadata": {},
     "output_type": "execute_result"
    },
    {
     "data": {
      "image/png": "[encoded data removed]",
      "text/plain": [
       "<Figure size 432x288 with 1 Axes>"
      ]
     },
     "metadata": {
      "needs_background": "light"
     },
     "output_type": "display_data"
    }
   ],
   "source": [
    "eps, arr = np.array(rewards_list).T\n",
    "smoothed_arr = running_mean(arr, 10)\n",
    "plt.plot(eps[-len(smoothed_arr):], smoothed_arr)\n",
    "plt.plot(eps, arr, color='grey', alpha=0.3)\n",
    "plt.xlabel('Episode')\n",
    "plt.ylabel('Total rewards')"
   ]
  },
  {
   "cell_type": "code",
   "execution_count": 18,
   "metadata": {},
   "outputs": [],
   "source": [
    "eps, arr = np.array(gloss_list).T\n",
    "smoothed_arr = running_mean(arr, 10)\n",
    "plt.plot(eps[-len(smoothed_arr):], smoothed_arr)\n",
    "plt.plot(eps, arr, color='grey', alpha=0.3)\n",
    "plt.xlabel('Episode')\n",
    "plt.ylabel('G losses')"
   ]
  },
  {
   "cell_type": "code",
   "execution_count": null,
   "metadata": {},
   "outputs": [],
   "source": [
    "eps, arr = np.array(dloss_list).T\n",
    "smoothed_arr = running_mean(arr, 10)\n",
    "plt.plot(eps[-len(smoothed_arr):], smoothed_arr)\n",
    "plt.plot(eps, arr, color='grey', alpha=0.3)\n",
    "plt.xlabel('Episode')\n",
    "plt.ylabel('D losses')"
   ]
  },
  {
   "cell_type": "markdown",
   "metadata": {},
   "source": [
    "## Testing\n",
    "\n",
    "Let's checkout how our trained agent plays the game."
   ]
  },
  {
   "cell_type": "code",
   "execution_count": 20,
   "metadata": {},
   "outputs": [
    {
     "name": "stdout",
     "output_type": "stream",
     "text": [
      "INFO:tensorflow:Restoring parameters from checkpoints/model.ckpt\n",
      "total_reward: 500.0\n",
      "total_reward: 500.0\n",
      "total_reward: 500.0\n",
      "total_reward: 200.0\n",
      "total_reward: 500.0\n",
      "total_reward: 500.0\n",
      "total_reward: 500.0\n",
      "total_reward: 500.0\n",
      "total_reward: 500.0\n",
      "total_reward: 500.0\n",
      "total_reward: 11.0\n"
     ]
    }
   ],
   "source": [
    "import gym\n",
    "env = gym.make('CartPole-v0')\n",
    "env = gym.make('CartPole-v1')\n",
    "# env = gym.make('Acrobot-v1')\n",
    "# env = gym.make('MountainCar-v0')\n",
    "# env = gym.make('Pendulum-v0')\n",
    "# env = gym.make('Blackjack-v0')\n",
    "# env = gym.make('FrozenLake-v0')\n",
    "# env = gym.make('AirRaid-ram-v0')\n",
    "# env = gym.make('AirRaid-v0')\n",
    "# env = gym.make('BipedalWalker-v2')\n",
    "# env = gym.make('Copy-v0')\n",
    "# env = gym.make('CarRacing-v0')\n",
    "# env = gym.make('Ant-v2') #mujoco\n",
    "# env = gym.make('FetchPickAndPlace-v1') # mujoco required!\n",
    "\n",
    "with tf.Session() as sess:\n",
    "    sess.run(tf.global_variables_initializer())\n",
    "    saver.restore(sess, 'checkpoints/model.ckpt')    \n",
    "    #saver.restore(sess, tf.train.latest_checkpoint('checkpoints'))\n",
    "    \n",
    "    # Episodes/epochs\n",
    "    for _ in range(11):\n",
    "        state = env.reset()\n",
    "        total_reward = 0\n",
    "\n",
    "        # Steps/batches\n",
    "        while True:\n",
    "            env.render()\n",
    "            action_logits = sess.run(model.actions_logits, feed_dict={model.states: state.reshape([1, -1])})\n",
    "            action = np.argmax(action_logits)\n",
    "            state, reward, done, _ = env.step(action)\n",
    "            total_reward += reward\n",
    "            if done:\n",
    "                print('total_reward: {}'.format(total_reward))\n",
    "                break\n",
    "                \n",
    "env.close()"
   ]
  },
  {
   "cell_type": "markdown",
   "metadata": {},
   "source": [
    "## Extending this\n",
    "\n",
    "So, Cart-Pole is a pretty simple game. However, the same model can be used to train an agent to play something much more complicated like Pong or Space Invaders. Instead of a state like we're using here though, you'd want to use convolutional layers to get the state from the screen images.\n",
    "\n",
    "![Deep Q-Learning Atari](assets/atari-network.png)\n",
    "\n",
    "I'll leave it as a challenge for you to use deep Q-learning to train an agent to play Atari games. Here's the original paper which will get you started: http://www.davidqiu.com:8888/research/nature14236.pdf."
   ]
  },
  {
   "cell_type": "code",
   "execution_count": null,
   "metadata": {},
   "outputs": [],
   "source": []
  }
 ],
 "metadata": {
  "kernelspec": {
   "display_name": "Python 3",
   "language": "python",
   "name": "python3"
  },
  "language_info": {
   "codemirror_mode": {
    "name": "ipython",
    "version": 3
   },
   "file_extension": ".py",
   "mimetype": "text/x-python",
   "name": "python",
   "nbconvert_exporter": "python",
   "pygments_lexer": "ipython3",
   "version": "3.6.6"
  }
 },
 "nbformat": 4,
 "nbformat_minor": 2
}
