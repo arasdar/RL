{
 "cells": [
  {
   "cell_type": "code",
   "execution_count": 1,
   "metadata": {},
   "outputs": [
    {
     "name": "stdout",
     "output_type": "stream",
     "text": [
      "TensorFlow Version: 1.7.1\n",
      "Default GPU Device: \n"
     ]
    }
   ],
   "source": [
    "# In this one we should define and detect GPUs for tensorflow\n",
    "# GPUs or CPU\n",
    "import tensorflow as tf\n",
    "\n",
    "# Check TensorFlow Version\n",
    "print('TensorFlow Version: {}'.format(tf.__version__))\n",
    "\n",
    "# Check for a GPU\n",
    "print('Default GPU Device: {}'.format(tf.test.gpu_device_name()))"
   ]
  },
  {
   "cell_type": "code",
   "execution_count": 2,
   "metadata": {},
   "outputs": [],
   "source": [
    "import numpy as np\n",
    "import gym\n",
    "env = gym.make('CartPole-v0')\n",
    "env = gym.make('CartPole-v1')"
   ]
  },
  {
   "cell_type": "code",
   "execution_count": 3,
   "metadata": {},
   "outputs": [],
   "source": [
    "def model_input(state_size):\n",
    "    #states = tf.placeholder(tf.float32, [None, *state_size], name='states')\n",
    "    states = tf.placeholder(tf.float32, [None, state_size], name='states')\n",
    "    actions = tf.placeholder(tf.int32, [None], name='actions')\n",
    "    targetQs = tf.placeholder(tf.float32, [None], name='targetQs')\n",
    "    rates = tf.placeholder(tf.float32, [None], name='rates')\n",
    "    training = tf.placeholder(tf.bool, [], name='training')\n",
    "    return states, actions, targetQs, rates, training"
   ]
  },
  {
   "cell_type": "code",
   "execution_count": 4,
   "metadata": {},
   "outputs": [],
   "source": [
    "# Generator/Controller: Generating/prediting the actions\n",
    "def generator(states, action_size, hidden_size, reuse=False, alpha=0.1, training=False):\n",
    "    with tf.variable_scope('generator', reuse=reuse):\n",
    "        # First fully connected layer\n",
    "        h1 = tf.layers.dense(inputs=states, units=hidden_size)\n",
    "        bn1 = tf.layers.batch_normalization(h1, training=training)        \n",
    "        nl1 = tf.maximum(alpha * bn1, bn1)\n",
    "        \n",
    "        # Second fully connected layer\n",
    "        h2 = tf.layers.dense(inputs=nl1, units=hidden_size)\n",
    "        bn2 = tf.layers.batch_normalization(h2, training=training)        \n",
    "        nl2 = tf.maximum(alpha * bn2, bn2)\n",
    "        \n",
    "        # Output layer\n",
    "        logits = tf.layers.dense(inputs=nl2, units=action_size)        \n",
    "        #predictions = tf.nn.softmax(logits)\n",
    "\n",
    "        # return actions logits\n",
    "        return logits"
   ]
  },
  {
   "cell_type": "code",
   "execution_count": 5,
   "metadata": {},
   "outputs": [],
   "source": [
    "def discriminator(states, actions, hidden_size, reuse=False, alpha=0.1, training=False):\n",
    "    with tf.variable_scope('discriminator', reuse=reuse):\n",
    "        # First fully connected layer\n",
    "        h1 = tf.layers.dense(inputs=states, units=action_size)\n",
    "        bn1 = tf.layers.batch_normalization(h1, training=training)        \n",
    "        nl1 = tf.maximum(alpha * bn1, bn1)\n",
    "        \n",
    "        # Second fully connected layer\n",
    "        nl1_fused = tf.concat(axis=1, values=[nl1, actions])\n",
    "        h2 = tf.layers.dense(inputs=nl1_fused, units=hidden_size)\n",
    "        bn2 = tf.layers.batch_normalization(h2, training=training)        \n",
    "        nl2 = tf.maximum(alpha * bn2, bn2)\n",
    "                \n",
    "        # Output layer\n",
    "        logits = tf.layers.dense(inputs=nl2, units=1)        \n",
    "        #predictions = tf.nn.softmax(logits)\n",
    "\n",
    "        # return rewards logits\n",
    "        return logits"
   ]
  },
  {
   "cell_type": "code",
   "execution_count": 6,
   "metadata": {},
   "outputs": [],
   "source": [
    "def model_loss(action_size, hidden_size, states, actions, targetQs, rates, training):\n",
    "    actions_logits = generator(states=states, hidden_size=hidden_size, action_size=action_size, training=training)\n",
    "    actions_labels = tf.one_hot(indices=actions, depth=action_size, dtype=actions_logits.dtype)\n",
    "    neg_log_prob = tf.nn.softmax_cross_entropy_with_logits_v2(logits=actions_logits, \n",
    "                                                              labels=actions_labels)\n",
    "    targetQs = tf.reshape(targetQs, shape=[-1, 1])\n",
    "    gloss = tf.reduce_mean(neg_log_prob * targetQs) # DPG\n",
    "    gQs = discriminator(actions=actions_logits, hidden_size=hidden_size, states=states, training=training)\n",
    "    dQs = discriminator(actions=actions_labels, hidden_size=hidden_size, states=states, training=training, \n",
    "                        reuse=True)\n",
    "    rates = tf.reshape(rates, shape=[-1, 1])\n",
    "    dlossA = tf.reduce_mean(tf.nn.sigmoid_cross_entropy_with_logits(logits=dQs, # GAN\n",
    "                                                                    labels=rates)) # 0-1\n",
    "    dlossA += tf.reduce_mean(tf.nn.sigmoid_cross_entropy_with_logits(logits=dQs, # GAN\n",
    "                                                                     labels=tf.nn.sigmoid(targetQs))) # 0-1\n",
    "    dlossQ = tf.reduce_mean(tf.square(gQs - targetQs)) # DQN\n",
    "    dlossQ += tf.reduce_mean(tf.square(dQs - targetQs)) # DQN\n",
    "    return actions_logits, gQs, gloss, dlossA, dlossQ"
   ]
  },
  {
   "cell_type": "code",
   "execution_count": 7,
   "metadata": {},
   "outputs": [],
   "source": [
    "# Optimizating/training/learning G & D\n",
    "def model_opt(g_loss, d_lossA, d_lossQ, g_learning_rate, d_learning_rate):\n",
    "    # Get weights and bias to update\n",
    "    t_vars = tf.trainable_variables()\n",
    "    g_vars = [var for var in t_vars if var.name.startswith('generator')]\n",
    "    d_vars = [var for var in t_vars if var.name.startswith('discriminator')]\n",
    "\n",
    "    # Optimize\n",
    "    with tf.control_dependencies(tf.get_collection(tf.GraphKeys.UPDATE_OPS)): # Required for batchnorm (BN)\n",
    "        g_opt = tf.train.AdamOptimizer(g_learning_rate).minimize(g_loss, var_list=g_vars)\n",
    "        d_optA = tf.train.AdamOptimizer(d_learning_rate).minimize(d_lossA, var_list=d_vars)\n",
    "        d_optQ = tf.train.AdamOptimizer(d_learning_rate).minimize(d_lossQ, var_list=d_vars)\n",
    "\n",
    "    return g_opt, d_optA, d_optQ"
   ]
  },
  {
   "cell_type": "code",
   "execution_count": 8,
   "metadata": {},
   "outputs": [],
   "source": [
    "class Model:\n",
    "    def __init__(self, state_size, action_size, hidden_size, g_learning_rate, d_learning_rate):\n",
    "\n",
    "        # Data of the Model: make the data available inside the framework\n",
    "        self.states, self.actions, self.targetQs, self.rates, self.training = model_input(state_size=state_size)\n",
    "\n",
    "        # Create the Model: calculating the loss and forwad pass\n",
    "        self.actions_logits, self.Qs_logits, self.g_loss, self.d_lossA, self.d_lossQ = model_loss(\n",
    "            action_size=action_size, hidden_size=hidden_size, # model init parameters\n",
    "            states=self.states, actions=self.actions, targetQs=self.targetQs, \n",
    "            rates=self.rates, training=self.training) # model input\n",
    "        \n",
    "        # Update the model: backward pass and backprop\n",
    "        self.g_opt, self.d_optA, self.d_optQ = model_opt(g_loss=self.g_loss, \n",
    "                                                         d_lossA=self.d_lossA, \n",
    "                                                         d_lossQ=self.d_lossQ, \n",
    "                                                         g_learning_rate=g_learning_rate, \n",
    "                                                         d_learning_rate=d_learning_rate)"
   ]
  },
  {
   "cell_type": "code",
   "execution_count": 9,
   "metadata": {},
   "outputs": [],
   "source": [
    "from collections import deque\n",
    "class Memory():\n",
    "    def __init__(self, max_size = 1000):\n",
    "        self.buffer = deque(maxlen=max_size) # data batch\n",
    "        self.rates = deque(maxlen=max_size) # rates\n",
    "#     def sample(self, batch_size):\n",
    "#         idx = np.random.choice(np.arange(len(self.buffer)), # ==  self.rates\n",
    "#                                size=batch_size, \n",
    "#                                replace=False)\n",
    "#         return [self.buffer[ii] for ii in idx], [self.rates[ii] for ii in idx]"
   ]
  },
  {
   "cell_type": "markdown",
   "metadata": {},
   "source": [
    "## Hyperparameters\n",
    "\n",
    "One of the more difficult aspects of reinforcememt learning are the large number of hyperparameters. Not only are we tuning the network, but we're tuning the simulation."
   ]
  },
  {
   "cell_type": "code",
   "execution_count": 10,
   "metadata": {},
   "outputs": [
    {
     "data": {
      "text/plain": [
       "(Box(4,), Discrete(2))"
      ]
     },
     "execution_count": 10,
     "metadata": {},
     "output_type": "execute_result"
    }
   ],
   "source": [
    "env.observation_space, env.action_space"
   ]
  },
  {
   "cell_type": "code",
   "execution_count": 11,
   "metadata": {},
   "outputs": [],
   "source": [
    "# Exploration parameters\n",
    "explore_start = 1.0            # exploration probability at start\n",
    "explore_stop = 0.01           # minimum exploration probability \n",
    "decay_rate = 0.0001            # exponential decay rate for exploration prob\n",
    "\n",
    "# Network parameters\n",
    "state_size = 4\n",
    "action_size = 2\n",
    "hidden_size = 4*2             # number of units in each Q-network hidden layer\n",
    "g_learning_rate = 1e-4         # Q-network learning rate\n",
    "d_learning_rate = 1e-4         # Q-network learning rate\n",
    "\n",
    "# Memory parameters\n",
    "memory_size = int(1e5)            # memory capacity\n",
    "batch_size = int(1e3)             # experience mini-batch size: 200/500 a successfull episode size\n",
    "gamma = 0.99                   # future reward discount"
   ]
  },
  {
   "cell_type": "code",
   "execution_count": 12,
   "metadata": {},
   "outputs": [],
   "source": [
    "# Reset/init the graph/session\n",
    "graph = tf.reset_default_graph()\n",
    "\n",
    "# Init the model\n",
    "model = Model(action_size=action_size, state_size=state_size, hidden_size=hidden_size,\n",
    "              g_learning_rate=g_learning_rate, d_learning_rate=d_learning_rate)\n",
    "\n",
    "# Init the memory\n",
    "memory = Memory(max_size=memory_size)"
   ]
  },
  {
   "cell_type": "code",
   "execution_count": 13,
   "metadata": {},
   "outputs": [],
   "source": [
    "state = env.reset()\n",
    "total_reward = 0\n",
    "num_step = 0\n",
    "for _ in range(memory_size):\n",
    "    action = env.action_space.sample()\n",
    "    next_state, reward, done, _ = env.step(action)\n",
    "    memory.buffer.append([state, action, next_state, reward, float(done)])\n",
    "    memory.rates.append(-1) # empty\n",
    "    num_step += 1 # memory incremented\n",
    "    total_reward += reward\n",
    "    state = next_state\n",
    "    if done is True:\n",
    "        state = env.reset()\n",
    "        rate = total_reward/500\n",
    "        total_reward = 0 # reset\n",
    "        for idx in range(num_step): # episode length\n",
    "            if memory.rates[-1-idx] == -1:\n",
    "                memory.rates[-1-idx] = rate\n",
    "        num_step = 0 # reset"
   ]
  },
  {
   "cell_type": "markdown",
   "metadata": {},
   "source": [
    "## Training the model\n",
    "\n",
    "Below we'll train our agent. If you want to watch it train, uncomment the `env.render()` line. This is slow because it's rendering the frames slower than the network can train. But, it's cool to watch the agent get better at the game."
   ]
  },
  {
   "cell_type": "code",
   "execution_count": null,
   "metadata": {},
   "outputs": [
    {
     "name": "stdout",
     "output_type": "stream",
     "text": [
      "Episode:0 meanR:19.0000 R:19.0000 rate:0.0380 gloss:1.1612 dlossA:1.5999 dlossQ:2.0027 exploreP:0.9981\n",
      "Episode:1 meanR:18.5000 R:18.0000 rate:0.0360 gloss:1.0856 dlossA:1.5922 dlossQ:1.9747 exploreP:0.9963\n",
      "Episode:2 meanR:19.3333 R:21.0000 rate:0.0420 gloss:0.9642 dlossA:1.5841 dlossQ:1.6180 exploreP:0.9943\n",
      "Episode:3 meanR:19.7500 R:21.0000 rate:0.0420 gloss:0.9496 dlossA:1.5736 dlossQ:1.4811 exploreP:0.9922\n",
      "Episode:4 meanR:19.2000 R:17.0000 rate:0.0340 gloss:0.9916 dlossA:1.5798 dlossQ:1.9205 exploreP:0.9905\n",
      "Episode:5 meanR:21.5000 R:33.0000 rate:0.0660 gloss:0.9206 dlossA:1.5661 dlossQ:1.6730 exploreP:0.9873\n",
      "Episode:6 meanR:19.8571 R:10.0000 rate:0.0200 gloss:1.2101 dlossA:1.5540 dlossQ:2.5387 exploreP:0.9863\n",
      "Episode:7 meanR:19.0000 R:13.0000 rate:0.0260 gloss:1.1193 dlossA:1.5466 dlossQ:2.4177 exploreP:0.9851\n",
      "Episode:8 meanR:18.7778 R:17.0000 rate:0.0340 gloss:1.0153 dlossA:1.5374 dlossQ:1.8833 exploreP:0.9834\n",
      "Episode:9 meanR:17.8000 R:9.0000 rate:0.0180 gloss:1.2671 dlossA:1.5286 dlossQ:3.1999 exploreP:0.9825\n",
      "Episode:10 meanR:18.0909 R:21.0000 rate:0.0420 gloss:1.0586 dlossA:1.5200 dlossQ:2.3712 exploreP:0.9805\n",
      "Episode:11 meanR:20.6667 R:49.0000 rate:0.0980 gloss:1.0475 dlossA:1.5080 dlossQ:2.3941 exploreP:0.9757\n",
      "Episode:12 meanR:21.0000 R:25.0000 rate:0.0500 gloss:1.1578 dlossA:1.4939 dlossQ:3.1855 exploreP:0.9733\n",
      "Episode:13 meanR:20.6429 R:16.0000 rate:0.0320 gloss:1.1107 dlossA:1.4877 dlossQ:2.9119 exploreP:0.9718\n",
      "Episode:14 meanR:23.2000 R:59.0000 rate:0.1180 gloss:1.0869 dlossA:1.4861 dlossQ:3.1492 exploreP:0.9661\n",
      "Episode:15 meanR:22.7500 R:16.0000 rate:0.0320 gloss:1.1207 dlossA:1.4745 dlossQ:3.0916 exploreP:0.9646\n",
      "Episode:16 meanR:23.7647 R:40.0000 rate:0.0800 gloss:1.0914 dlossA:1.4725 dlossQ:3.0254 exploreP:0.9608\n",
      "Episode:17 meanR:23.8333 R:25.0000 rate:0.0500 gloss:1.0138 dlossA:1.4655 dlossQ:2.7201 exploreP:0.9584\n",
      "Episode:18 meanR:23.3158 R:14.0000 rate:0.0280 gloss:1.0100 dlossA:1.4562 dlossQ:2.6104 exploreP:0.9571\n",
      "Episode:19 meanR:22.9500 R:16.0000 rate:0.0320 gloss:0.9635 dlossA:1.4635 dlossQ:2.6458 exploreP:0.9556\n",
      "Episode:20 meanR:23.0476 R:25.0000 rate:0.0500 gloss:0.9805 dlossA:1.4535 dlossQ:2.7712 exploreP:0.9532\n",
      "Episode:21 meanR:22.5000 R:11.0000 rate:0.0220 gloss:1.0048 dlossA:1.4558 dlossQ:2.5668 exploreP:0.9522\n",
      "Episode:22 meanR:22.1739 R:15.0000 rate:0.0300 gloss:0.9466 dlossA:1.4551 dlossQ:2.4453 exploreP:0.9508\n",
      "Episode:23 meanR:21.9167 R:16.0000 rate:0.0320 gloss:0.9924 dlossA:1.4496 dlossQ:2.7207 exploreP:0.9493\n",
      "Episode:24 meanR:22.1200 R:27.0000 rate:0.0540 gloss:0.9014 dlossA:1.4488 dlossQ:2.4508 exploreP:0.9467\n",
      "Episode:25 meanR:21.9615 R:18.0000 rate:0.0360 gloss:0.9282 dlossA:1.4506 dlossQ:2.8439 exploreP:0.9451\n",
      "Episode:26 meanR:21.5556 R:11.0000 rate:0.0220 gloss:0.9187 dlossA:1.4404 dlossQ:2.5206 exploreP:0.9440\n",
      "Episode:27 meanR:21.1786 R:11.0000 rate:0.0220 gloss:0.8654 dlossA:1.4407 dlossQ:2.4953 exploreP:0.9430\n",
      "Episode:28 meanR:20.8276 R:11.0000 rate:0.0220 gloss:0.9965 dlossA:1.4442 dlossQ:3.6847 exploreP:0.9420\n",
      "Episode:29 meanR:20.5667 R:13.0000 rate:0.0260 gloss:0.8735 dlossA:1.4402 dlossQ:2.5381 exploreP:0.9408\n",
      "Episode:30 meanR:20.3548 R:14.0000 rate:0.0280 gloss:0.9038 dlossA:1.4478 dlossQ:2.8094 exploreP:0.9395\n",
      "Episode:31 meanR:20.5625 R:27.0000 rate:0.0540 gloss:0.9127 dlossA:1.4374 dlossQ:2.7956 exploreP:0.9370\n",
      "Episode:32 meanR:20.4242 R:16.0000 rate:0.0320 gloss:0.8849 dlossA:1.4356 dlossQ:2.6161 exploreP:0.9355\n",
      "Episode:33 meanR:20.3824 R:19.0000 rate:0.0380 gloss:0.8762 dlossA:1.4339 dlossQ:2.6373 exploreP:0.9337\n",
      "Episode:34 meanR:20.5143 R:25.0000 rate:0.0500 gloss:0.8832 dlossA:1.4305 dlossQ:2.7174 exploreP:0.9314\n",
      "Episode:35 meanR:20.4167 R:17.0000 rate:0.0340 gloss:0.8815 dlossA:1.4310 dlossQ:2.8181 exploreP:0.9298\n",
      "Episode:36 meanR:20.6486 R:29.0000 rate:0.0580 gloss:0.8036 dlossA:1.4258 dlossQ:2.3489 exploreP:0.9272\n",
      "Episode:37 meanR:20.8947 R:30.0000 rate:0.0600 gloss:0.7817 dlossA:1.4265 dlossQ:2.3598 exploreP:0.9244\n",
      "Episode:38 meanR:21.0769 R:28.0000 rate:0.0560 gloss:0.8007 dlossA:1.4167 dlossQ:2.6526 exploreP:0.9219\n",
      "Episode:39 meanR:20.9750 R:17.0000 rate:0.0340 gloss:0.6986 dlossA:1.4184 dlossQ:2.1785 exploreP:0.9203\n",
      "Episode:40 meanR:20.9024 R:18.0000 rate:0.0360 gloss:0.7731 dlossA:1.4158 dlossQ:3.2906 exploreP:0.9187\n",
      "Episode:41 meanR:21.5238 R:47.0000 rate:0.0940 gloss:0.8090 dlossA:1.4190 dlossQ:2.7512 exploreP:0.9144\n",
      "Episode:42 meanR:21.6977 R:29.0000 rate:0.0580 gloss:0.7132 dlossA:1.4109 dlossQ:2.3541 exploreP:0.9118\n",
      "Episode:43 meanR:21.5909 R:17.0000 rate:0.0340 gloss:0.6693 dlossA:1.4158 dlossQ:2.3748 exploreP:0.9103\n",
      "Episode:44 meanR:21.4000 R:13.0000 rate:0.0260 gloss:0.6064 dlossA:1.4099 dlossQ:1.9940 exploreP:0.9091\n",
      "Episode:45 meanR:22.5652 R:75.0000 rate:0.1500 gloss:0.7109 dlossA:1.4034 dlossQ:2.4742 exploreP:0.9024\n",
      "Episode:46 meanR:22.6383 R:26.0000 rate:0.0520 gloss:0.7061 dlossA:1.3980 dlossQ:2.7841 exploreP:0.9001\n",
      "Episode:47 meanR:22.7917 R:30.0000 rate:0.0600 gloss:0.6647 dlossA:1.3963 dlossQ:2.2683 exploreP:0.8974\n",
      "Episode:48 meanR:22.8571 R:26.0000 rate:0.0520 gloss:0.6550 dlossA:1.3971 dlossQ:2.3661 exploreP:0.8951\n",
      "Episode:49 meanR:23.4400 R:52.0000 rate:0.1040 gloss:0.6509 dlossA:1.3945 dlossQ:2.3143 exploreP:0.8905\n",
      "Episode:50 meanR:23.3137 R:17.0000 rate:0.0340 gloss:0.6629 dlossA:1.3968 dlossQ:2.3245 exploreP:0.8890\n",
      "Episode:51 meanR:23.3654 R:26.0000 rate:0.0520 gloss:0.6303 dlossA:1.3881 dlossQ:2.2369 exploreP:0.8867\n",
      "Episode:52 meanR:23.3208 R:21.0000 rate:0.0420 gloss:0.6024 dlossA:1.3834 dlossQ:2.1815 exploreP:0.8849\n",
      "Episode:53 meanR:23.5000 R:33.0000 rate:0.0660 gloss:0.6125 dlossA:1.3870 dlossQ:2.2847 exploreP:0.8820\n",
      "Episode:54 meanR:23.7818 R:39.0000 rate:0.0780 gloss:0.6191 dlossA:1.3855 dlossQ:2.3846 exploreP:0.8786\n",
      "Episode:55 meanR:23.7857 R:24.0000 rate:0.0480 gloss:0.6084 dlossA:1.3839 dlossQ:2.2877 exploreP:0.8765\n",
      "Episode:56 meanR:23.6667 R:17.0000 rate:0.0340 gloss:0.5727 dlossA:1.3794 dlossQ:2.4035 exploreP:0.8751\n",
      "Episode:57 meanR:23.4828 R:13.0000 rate:0.0260 gloss:0.5897 dlossA:1.3792 dlossQ:2.2276 exploreP:0.8739\n",
      "Episode:58 meanR:23.3051 R:13.0000 rate:0.0260 gloss:0.5704 dlossA:1.3816 dlossQ:2.1838 exploreP:0.8728\n",
      "Episode:59 meanR:23.1667 R:15.0000 rate:0.0300 gloss:0.6289 dlossA:1.3816 dlossQ:2.4876 exploreP:0.8715\n",
      "Episode:60 meanR:23.0820 R:18.0000 rate:0.0360 gloss:0.5954 dlossA:1.3776 dlossQ:2.2315 exploreP:0.8700\n",
      "Episode:61 meanR:23.4516 R:46.0000 rate:0.0920 gloss:0.6011 dlossA:1.3738 dlossQ:2.4108 exploreP:0.8660\n",
      "Episode:62 meanR:23.6508 R:36.0000 rate:0.0720 gloss:0.5560 dlossA:1.3703 dlossQ:2.2014 exploreP:0.8630\n",
      "Episode:63 meanR:23.4688 R:12.0000 rate:0.0240 gloss:0.5393 dlossA:1.3738 dlossQ:2.0763 exploreP:0.8619\n",
      "Episode:64 meanR:23.6308 R:34.0000 rate:0.0680 gloss:0.5419 dlossA:1.3684 dlossQ:2.2719 exploreP:0.8590\n",
      "Episode:65 meanR:23.6364 R:24.0000 rate:0.0480 gloss:0.5463 dlossA:1.3662 dlossQ:2.2695 exploreP:0.8570\n",
      "Episode:66 meanR:23.9552 R:45.0000 rate:0.0900 gloss:0.5383 dlossA:1.3700 dlossQ:2.3641 exploreP:0.8532\n",
      "Episode:67 meanR:24.2059 R:41.0000 rate:0.0820 gloss:0.5391 dlossA:1.3641 dlossQ:2.2612 exploreP:0.8498\n",
      "Episode:68 meanR:24.0580 R:14.0000 rate:0.0280 gloss:0.5509 dlossA:1.3641 dlossQ:2.3029 exploreP:0.8486\n",
      "Episode:69 meanR:24.0000 R:20.0000 rate:0.0400 gloss:0.5495 dlossA:1.3603 dlossQ:2.3114 exploreP:0.8469\n",
      "Episode:70 meanR:24.0000 R:24.0000 rate:0.0480 gloss:0.4914 dlossA:1.3631 dlossQ:2.3050 exploreP:0.8449\n",
      "Episode:71 meanR:24.4444 R:56.0000 rate:0.1120 gloss:0.5156 dlossA:1.3613 dlossQ:2.2876 exploreP:0.8402\n",
      "Episode:72 meanR:24.8630 R:55.0000 rate:0.1100 gloss:0.5341 dlossA:1.3597 dlossQ:2.4270 exploreP:0.8357\n",
      "Episode:73 meanR:25.9595 R:106.0000 rate:0.2120 gloss:0.4807 dlossA:1.3547 dlossQ:2.2351 exploreP:0.8270\n",
      "Episode:74 meanR:26.2400 R:47.0000 rate:0.0940 gloss:0.4836 dlossA:1.3541 dlossQ:2.2629 exploreP:0.8231\n",
      "Episode:75 meanR:26.1711 R:21.0000 rate:0.0420 gloss:0.4769 dlossA:1.3522 dlossQ:2.3039 exploreP:0.8214\n",
      "Episode:76 meanR:26.2987 R:36.0000 rate:0.0720 gloss:0.4407 dlossA:1.3502 dlossQ:2.1988 exploreP:0.8185\n",
      "Episode:77 meanR:26.3205 R:28.0000 rate:0.0560 gloss:0.4707 dlossA:1.3487 dlossQ:2.2302 exploreP:0.8163\n",
      "Episode:78 meanR:27.2025 R:96.0000 rate:0.1920 gloss:0.4486 dlossA:1.3477 dlossQ:2.2351 exploreP:0.8086\n"
     ]
    },
    {
     "name": "stdout",
     "output_type": "stream",
     "text": [
      "Episode:79 meanR:27.2000 R:27.0000 rate:0.0540 gloss:0.4681 dlossA:1.3492 dlossQ:2.2589 exploreP:0.8064\n",
      "Episode:80 meanR:27.2593 R:32.0000 rate:0.0640 gloss:0.4466 dlossA:1.3436 dlossQ:2.2300 exploreP:0.8039\n",
      "Episode:81 meanR:27.3049 R:31.0000 rate:0.0620 gloss:0.4221 dlossA:1.3459 dlossQ:2.1710 exploreP:0.8014\n",
      "Episode:82 meanR:27.2892 R:26.0000 rate:0.0520 gloss:0.3877 dlossA:1.3449 dlossQ:2.0826 exploreP:0.7993\n",
      "Episode:83 meanR:27.2024 R:20.0000 rate:0.0400 gloss:0.4537 dlossA:1.3485 dlossQ:2.3253 exploreP:0.7978\n",
      "Episode:84 meanR:27.0941 R:18.0000 rate:0.0360 gloss:0.4627 dlossA:1.3514 dlossQ:2.3248 exploreP:0.7964\n",
      "Episode:85 meanR:27.0930 R:27.0000 rate:0.0540 gloss:0.4370 dlossA:1.3428 dlossQ:2.1606 exploreP:0.7942\n",
      "Episode:86 meanR:27.0805 R:26.0000 rate:0.0520 gloss:0.4428 dlossA:1.3460 dlossQ:2.2262 exploreP:0.7922\n",
      "Episode:87 meanR:26.9318 R:14.0000 rate:0.0280 gloss:0.4328 dlossA:1.3441 dlossQ:2.1368 exploreP:0.7911\n",
      "Episode:88 meanR:27.0337 R:36.0000 rate:0.0720 gloss:0.4245 dlossA:1.3403 dlossQ:2.1785 exploreP:0.7883\n",
      "Episode:89 meanR:27.0000 R:24.0000 rate:0.0480 gloss:0.4200 dlossA:1.3347 dlossQ:2.2072 exploreP:0.7864\n",
      "Episode:90 meanR:26.8462 R:13.0000 rate:0.0260 gloss:0.4119 dlossA:1.3360 dlossQ:2.1049 exploreP:0.7854\n",
      "Episode:91 meanR:26.6739 R:11.0000 rate:0.0220 gloss:0.3882 dlossA:1.3359 dlossQ:1.9739 exploreP:0.7846\n",
      "Episode:92 meanR:26.8925 R:47.0000 rate:0.0940 gloss:0.4000 dlossA:1.3369 dlossQ:2.1214 exploreP:0.7809\n",
      "Episode:93 meanR:26.9149 R:29.0000 rate:0.0580 gloss:0.4084 dlossA:1.3371 dlossQ:2.1878 exploreP:0.7787\n",
      "Episode:94 meanR:26.8947 R:25.0000 rate:0.0500 gloss:0.4396 dlossA:1.3438 dlossQ:2.3769 exploreP:0.7768\n",
      "Episode:95 meanR:27.3646 R:72.0000 rate:0.1440 gloss:0.4066 dlossA:1.3328 dlossQ:2.1768 exploreP:0.7713\n",
      "Episode:96 meanR:27.2474 R:16.0000 rate:0.0320 gloss:0.4117 dlossA:1.3314 dlossQ:2.2447 exploreP:0.7701\n",
      "Episode:97 meanR:27.0612 R:9.0000 rate:0.0180 gloss:0.4362 dlossA:1.3385 dlossQ:2.3937 exploreP:0.7694\n",
      "Episode:98 meanR:27.2727 R:48.0000 rate:0.0960 gloss:0.3974 dlossA:1.3386 dlossQ:2.2299 exploreP:0.7657\n",
      "Episode:99 meanR:27.1500 R:15.0000 rate:0.0300 gloss:0.3574 dlossA:1.3312 dlossQ:2.0806 exploreP:0.7646\n",
      "Episode:100 meanR:27.4500 R:49.0000 rate:0.0980 gloss:0.4089 dlossA:1.3361 dlossQ:2.2921 exploreP:0.7609\n",
      "Episode:101 meanR:27.6500 R:38.0000 rate:0.0760 gloss:0.3907 dlossA:1.3339 dlossQ:2.2027 exploreP:0.7581\n",
      "Episode:102 meanR:28.2400 R:80.0000 rate:0.1600 gloss:0.3844 dlossA:1.3315 dlossQ:2.1884 exploreP:0.7521\n",
      "Episode:103 meanR:28.4900 R:46.0000 rate:0.0920 gloss:0.4085 dlossA:1.3345 dlossQ:2.3111 exploreP:0.7487\n",
      "Episode:104 meanR:28.5100 R:19.0000 rate:0.0380 gloss:0.3989 dlossA:1.3369 dlossQ:2.2728 exploreP:0.7473\n",
      "Episode:105 meanR:28.5100 R:33.0000 rate:0.0660 gloss:0.3572 dlossA:1.3323 dlossQ:2.0621 exploreP:0.7449\n",
      "Episode:106 meanR:28.5800 R:17.0000 rate:0.0340 gloss:0.3759 dlossA:1.3232 dlossQ:2.1780 exploreP:0.7436\n",
      "Episode:107 meanR:28.9700 R:52.0000 rate:0.1040 gloss:0.3805 dlossA:1.3315 dlossQ:2.2008 exploreP:0.7398\n",
      "Episode:108 meanR:29.2700 R:47.0000 rate:0.0940 gloss:0.3642 dlossA:1.3273 dlossQ:2.1754 exploreP:0.7364\n",
      "Episode:109 meanR:29.5600 R:38.0000 rate:0.0760 gloss:0.3608 dlossA:1.3273 dlossQ:2.1482 exploreP:0.7336\n",
      "Episode:110 meanR:29.6900 R:34.0000 rate:0.0680 gloss:0.3569 dlossA:1.3253 dlossQ:2.1738 exploreP:0.7312\n",
      "Episode:111 meanR:29.3300 R:13.0000 rate:0.0260 gloss:0.3271 dlossA:1.3190 dlossQ:1.9584 exploreP:0.7303\n",
      "Episode:112 meanR:29.5500 R:47.0000 rate:0.0940 gloss:0.3869 dlossA:1.3312 dlossQ:2.3032 exploreP:0.7269\n",
      "Episode:113 meanR:30.1800 R:79.0000 rate:0.1580 gloss:0.3488 dlossA:1.3282 dlossQ:2.1056 exploreP:0.7212\n",
      "Episode:114 meanR:29.7700 R:18.0000 rate:0.0360 gloss:0.3658 dlossA:1.3251 dlossQ:2.2629 exploreP:0.7200\n",
      "Episode:115 meanR:29.9000 R:29.0000 rate:0.0580 gloss:0.3329 dlossA:1.3234 dlossQ:2.0355 exploreP:0.7179\n",
      "Episode:116 meanR:29.8200 R:32.0000 rate:0.0640 gloss:0.3415 dlossA:1.3237 dlossQ:2.0710 exploreP:0.7156\n",
      "Episode:117 meanR:29.8500 R:28.0000 rate:0.0560 gloss:0.3531 dlossA:1.3277 dlossQ:2.1444 exploreP:0.7137\n",
      "Episode:118 meanR:29.9000 R:19.0000 rate:0.0380 gloss:0.3638 dlossA:1.3302 dlossQ:2.2083 exploreP:0.7123\n",
      "Episode:119 meanR:29.9000 R:16.0000 rate:0.0320 gloss:0.3309 dlossA:1.3213 dlossQ:2.0909 exploreP:0.7112\n",
      "Episode:120 meanR:29.8100 R:16.0000 rate:0.0320 gloss:0.3464 dlossA:1.3194 dlossQ:2.1012 exploreP:0.7101\n",
      "Episode:121 meanR:29.8700 R:17.0000 rate:0.0340 gloss:0.3498 dlossA:1.3204 dlossQ:2.1624 exploreP:0.7089\n",
      "Episode:122 meanR:30.5200 R:80.0000 rate:0.1600 gloss:0.3464 dlossA:1.3246 dlossQ:2.1455 exploreP:0.7033\n",
      "Episode:123 meanR:30.6900 R:33.0000 rate:0.0660 gloss:0.3461 dlossA:1.3232 dlossQ:2.1243 exploreP:0.7010\n",
      "Episode:124 meanR:30.9900 R:57.0000 rate:0.1140 gloss:0.3336 dlossA:1.3269 dlossQ:2.1027 exploreP:0.6971\n",
      "Episode:125 meanR:32.0500 R:124.0000 rate:0.2480 gloss:0.3400 dlossA:1.3267 dlossQ:2.1269 exploreP:0.6886\n",
      "Episode:126 meanR:32.3800 R:44.0000 rate:0.0880 gloss:0.3428 dlossA:1.3272 dlossQ:2.1591 exploreP:0.6857\n",
      "Episode:127 meanR:32.7100 R:44.0000 rate:0.0880 gloss:0.3226 dlossA:1.3205 dlossQ:2.0666 exploreP:0.6827\n",
      "Episode:128 meanR:32.8700 R:27.0000 rate:0.0540 gloss:0.3310 dlossA:1.3286 dlossQ:2.1069 exploreP:0.6809\n",
      "Episode:129 meanR:33.0500 R:31.0000 rate:0.0620 gloss:0.3506 dlossA:1.3265 dlossQ:2.1822 exploreP:0.6788\n",
      "Episode:130 meanR:33.7900 R:88.0000 rate:0.1760 gloss:0.3437 dlossA:1.3245 dlossQ:2.1291 exploreP:0.6730\n",
      "Episode:131 meanR:33.7600 R:24.0000 rate:0.0480 gloss:0.3320 dlossA:1.3211 dlossQ:2.0679 exploreP:0.6714\n",
      "Episode:132 meanR:33.9400 R:34.0000 rate:0.0680 gloss:0.3271 dlossA:1.3162 dlossQ:2.0914 exploreP:0.6691\n",
      "Episode:133 meanR:33.8700 R:12.0000 rate:0.0240 gloss:0.3294 dlossA:1.3179 dlossQ:2.1170 exploreP:0.6683\n",
      "Episode:134 meanR:33.9300 R:31.0000 rate:0.0620 gloss:0.3372 dlossA:1.3276 dlossQ:2.1367 exploreP:0.6663\n",
      "Episode:135 meanR:35.1900 R:143.0000 rate:0.2860 gloss:0.3216 dlossA:1.3183 dlossQ:2.0818 exploreP:0.6570\n",
      "Episode:136 meanR:35.3700 R:47.0000 rate:0.0940 gloss:0.3366 dlossA:1.3201 dlossQ:2.1732 exploreP:0.6539\n",
      "Episode:137 meanR:36.1200 R:105.0000 rate:0.2100 gloss:0.3088 dlossA:1.3167 dlossQ:2.0356 exploreP:0.6472\n",
      "Episode:138 meanR:36.0700 R:23.0000 rate:0.0460 gloss:0.3122 dlossA:1.3217 dlossQ:2.0696 exploreP:0.6457\n",
      "Episode:139 meanR:36.0600 R:16.0000 rate:0.0320 gloss:0.3428 dlossA:1.3303 dlossQ:2.2209 exploreP:0.6447\n",
      "Episode:140 meanR:36.5500 R:67.0000 rate:0.1340 gloss:0.3155 dlossA:1.3203 dlossQ:2.0646 exploreP:0.6405\n",
      "Episode:141 meanR:36.3300 R:25.0000 rate:0.0500 gloss:0.3259 dlossA:1.3193 dlossQ:2.1079 exploreP:0.6389\n",
      "Episode:142 meanR:36.5400 R:50.0000 rate:0.1000 gloss:0.3302 dlossA:1.3237 dlossQ:2.1785 exploreP:0.6358\n",
      "Episode:143 meanR:36.5600 R:19.0000 rate:0.0380 gloss:0.3250 dlossA:1.3334 dlossQ:2.0994 exploreP:0.6346\n",
      "Episode:144 meanR:36.6400 R:21.0000 rate:0.0420 gloss:0.3142 dlossA:1.3178 dlossQ:2.0345 exploreP:0.6333\n",
      "Episode:145 meanR:36.0400 R:15.0000 rate:0.0300 gloss:0.3154 dlossA:1.3120 dlossQ:2.0074 exploreP:0.6324\n",
      "Episode:146 meanR:36.7900 R:101.0000 rate:0.2020 gloss:0.3292 dlossA:1.3266 dlossQ:2.1108 exploreP:0.6261\n",
      "Episode:147 meanR:37.9800 R:149.0000 rate:0.2980 gloss:0.3228 dlossA:1.3215 dlossQ:2.0652 exploreP:0.6170\n",
      "Episode:148 meanR:38.4000 R:68.0000 rate:0.1360 gloss:0.3311 dlossA:1.3242 dlossQ:2.1104 exploreP:0.6129\n",
      "Episode:149 meanR:38.4700 R:59.0000 rate:0.1180 gloss:0.3187 dlossA:1.3233 dlossQ:2.0311 exploreP:0.6093\n",
      "Episode:150 meanR:38.4800 R:18.0000 rate:0.0360 gloss:0.3492 dlossA:1.3325 dlossQ:2.2350 exploreP:0.6082\n",
      "Episode:151 meanR:38.6500 R:43.0000 rate:0.0860 gloss:0.3234 dlossA:1.3242 dlossQ:2.0519 exploreP:0.6057\n",
      "Episode:152 meanR:38.8400 R:40.0000 rate:0.0800 gloss:0.3363 dlossA:1.3280 dlossQ:2.1257 exploreP:0.6033\n",
      "Episode:153 meanR:38.7500 R:24.0000 rate:0.0480 gloss:0.3354 dlossA:1.3235 dlossQ:2.1337 exploreP:0.6019\n",
      "Episode:154 meanR:38.4600 R:10.0000 rate:0.0200 gloss:0.3130 dlossA:1.3208 dlossQ:2.0125 exploreP:0.6013\n",
      "Episode:155 meanR:39.6300 R:141.0000 rate:0.2820 gloss:0.3340 dlossA:1.3258 dlossQ:2.1088 exploreP:0.5930\n",
      "Episode:156 meanR:40.1100 R:65.0000 rate:0.1300 gloss:0.3325 dlossA:1.3238 dlossQ:2.0929 exploreP:0.5892\n",
      "Episode:157 meanR:41.1200 R:114.0000 rate:0.2280 gloss:0.3241 dlossA:1.3199 dlossQ:2.0824 exploreP:0.5827\n"
     ]
    },
    {
     "name": "stdout",
     "output_type": "stream",
     "text": [
      "Episode:158 meanR:41.5700 R:58.0000 rate:0.1160 gloss:0.3349 dlossA:1.3224 dlossQ:2.1264 exploreP:0.5794\n",
      "Episode:159 meanR:42.5600 R:114.0000 rate:0.2280 gloss:0.3204 dlossA:1.3212 dlossQ:2.0627 exploreP:0.5729\n",
      "Episode:160 meanR:42.9800 R:60.0000 rate:0.1200 gloss:0.3269 dlossA:1.3204 dlossQ:2.1055 exploreP:0.5695\n",
      "Episode:161 meanR:42.8100 R:29.0000 rate:0.0580 gloss:0.3415 dlossA:1.3233 dlossQ:2.1696 exploreP:0.5679\n",
      "Episode:162 meanR:43.3700 R:92.0000 rate:0.1840 gloss:0.3380 dlossA:1.3255 dlossQ:2.1346 exploreP:0.5628\n",
      "Episode:163 meanR:43.9500 R:70.0000 rate:0.1400 gloss:0.3399 dlossA:1.3288 dlossQ:2.1279 exploreP:0.5589\n",
      "Episode:164 meanR:45.1200 R:151.0000 rate:0.3020 gloss:0.3376 dlossA:1.3277 dlossQ:2.0927 exploreP:0.5507\n",
      "Episode:165 meanR:45.6700 R:79.0000 rate:0.1580 gloss:0.3410 dlossA:1.3260 dlossQ:2.1032 exploreP:0.5465\n",
      "Episode:166 meanR:46.0900 R:87.0000 rate:0.1740 gloss:0.3360 dlossA:1.3262 dlossQ:2.1004 exploreP:0.5418\n",
      "Episode:167 meanR:47.0500 R:137.0000 rate:0.2740 gloss:0.3434 dlossA:1.3274 dlossQ:2.1175 exploreP:0.5346\n",
      "Episode:168 meanR:48.3000 R:139.0000 rate:0.2780 gloss:0.3393 dlossA:1.3233 dlossQ:2.0959 exploreP:0.5273\n",
      "Episode:169 meanR:51.0600 R:296.0000 rate:0.5920 gloss:0.3493 dlossA:1.3316 dlossQ:2.1108 exploreP:0.5123\n",
      "Episode:170 meanR:51.3100 R:49.0000 rate:0.0980 gloss:0.3520 dlossA:1.3272 dlossQ:2.1479 exploreP:0.5098\n",
      "Episode:171 meanR:51.6600 R:91.0000 rate:0.1820 gloss:0.3428 dlossA:1.3264 dlossQ:2.0815 exploreP:0.5053\n",
      "Episode:172 meanR:52.3100 R:120.0000 rate:0.2400 gloss:0.3475 dlossA:1.3257 dlossQ:2.1266 exploreP:0.4994\n",
      "Episode:173 meanR:52.1100 R:86.0000 rate:0.1720 gloss:0.3507 dlossA:1.3327 dlossQ:2.1437 exploreP:0.4952\n",
      "Episode:174 meanR:53.1400 R:150.0000 rate:0.3000 gloss:0.3517 dlossA:1.3315 dlossQ:2.0991 exploreP:0.4879\n",
      "Episode:175 meanR:53.2500 R:32.0000 rate:0.0640 gloss:0.3438 dlossA:1.3234 dlossQ:2.0569 exploreP:0.4864\n",
      "Episode:176 meanR:53.0800 R:19.0000 rate:0.0380 gloss:0.3556 dlossA:1.3359 dlossQ:2.1694 exploreP:0.4855\n",
      "Episode:177 meanR:53.7800 R:98.0000 rate:0.1960 gloss:0.3551 dlossA:1.3319 dlossQ:2.1308 exploreP:0.4809\n",
      "Episode:178 meanR:53.7600 R:94.0000 rate:0.1880 gloss:0.3607 dlossA:1.3320 dlossQ:2.1571 exploreP:0.4765\n",
      "Episode:179 meanR:55.9400 R:245.0000 rate:0.4900 gloss:0.3552 dlossA:1.3297 dlossQ:2.1440 exploreP:0.4652\n",
      "Episode:180 meanR:58.4100 R:279.0000 rate:0.5580 gloss:0.3566 dlossA:1.3315 dlossQ:2.1053 exploreP:0.4527\n",
      "Episode:181 meanR:61.5600 R:346.0000 rate:0.6920 gloss:0.3560 dlossA:1.3313 dlossQ:2.1262 exploreP:0.4376\n",
      "Episode:182 meanR:66.3000 R:500.0000 rate:1.0000 gloss:0.3571 dlossA:1.3328 dlossQ:2.0885 exploreP:0.4168\n",
      "Episode:183 meanR:67.7800 R:168.0000 rate:0.3360 gloss:0.3585 dlossA:1.3467 dlossQ:2.0827 exploreP:0.4100\n",
      "Episode:184 meanR:69.0000 R:140.0000 rate:0.2800 gloss:0.3760 dlossA:1.3368 dlossQ:2.0980 exploreP:0.4044\n",
      "Episode:185 meanR:71.7100 R:298.0000 rate:0.5960 gloss:0.3693 dlossA:1.3393 dlossQ:2.0657 exploreP:0.3928\n",
      "Episode:186 meanR:74.8300 R:338.0000 rate:0.6760 gloss:0.3763 dlossA:1.3420 dlossQ:2.0825 exploreP:0.3801\n",
      "Episode:187 meanR:78.1400 R:345.0000 rate:0.6900 gloss:0.3740 dlossA:1.3381 dlossQ:2.0870 exploreP:0.3676\n",
      "Episode:188 meanR:78.3800 R:60.0000 rate:0.1200 gloss:0.3746 dlossA:1.3370 dlossQ:2.1021 exploreP:0.3654\n",
      "Episode:189 meanR:82.7500 R:461.0000 rate:0.9220 gloss:0.3781 dlossA:1.3469 dlossQ:2.0661 exploreP:0.3494\n",
      "Episode:190 meanR:83.2200 R:60.0000 rate:0.1200 gloss:0.3920 dlossA:1.3514 dlossQ:2.0799 exploreP:0.3474\n",
      "Episode:191 meanR:85.7300 R:262.0000 rate:0.5240 gloss:0.3969 dlossA:1.3491 dlossQ:2.0911 exploreP:0.3387\n",
      "Episode:192 meanR:86.3100 R:105.0000 rate:0.2100 gloss:0.3847 dlossA:1.3452 dlossQ:2.0272 exploreP:0.3352\n",
      "Episode:193 meanR:87.9200 R:190.0000 rate:0.3800 gloss:0.3944 dlossA:1.3485 dlossQ:2.0434 exploreP:0.3291\n",
      "Episode:194 meanR:90.5400 R:287.0000 rate:0.5740 gloss:0.3971 dlossA:1.3546 dlossQ:2.0479 exploreP:0.3201\n",
      "Episode:195 meanR:93.0800 R:326.0000 rate:0.6520 gloss:0.4081 dlossA:1.3535 dlossQ:2.0557 exploreP:0.3101\n",
      "Episode:196 meanR:96.9600 R:404.0000 rate:0.8080 gloss:0.4069 dlossA:1.3521 dlossQ:2.0398 exploreP:0.2982\n",
      "Episode:197 meanR:100.9400 R:407.0000 rate:0.8140 gloss:0.4056 dlossA:1.3560 dlossQ:2.0369 exploreP:0.2867\n",
      "Episode:198 meanR:102.0500 R:159.0000 rate:0.3180 gloss:0.4169 dlossA:1.3531 dlossQ:2.0414 exploreP:0.2824\n",
      "Episode:199 meanR:104.6900 R:279.0000 rate:0.5580 gloss:0.4074 dlossA:1.3563 dlossQ:2.0212 exploreP:0.2749\n",
      "Episode:200 meanR:106.6100 R:241.0000 rate:0.4820 gloss:0.4110 dlossA:1.3641 dlossQ:2.0156 exploreP:0.2686\n",
      "Episode:201 meanR:108.7500 R:252.0000 rate:0.5040 gloss:0.4264 dlossA:1.3607 dlossQ:2.0143 exploreP:0.2621\n",
      "Episode:202 meanR:111.6400 R:369.0000 rate:0.7380 gloss:0.4301 dlossA:1.3598 dlossQ:2.0293 exploreP:0.2530\n",
      "Episode:203 meanR:112.7500 R:157.0000 rate:0.3140 gloss:0.4324 dlossA:1.3745 dlossQ:2.0197 exploreP:0.2492\n",
      "Episode:204 meanR:115.4100 R:285.0000 rate:0.5700 gloss:0.4398 dlossA:1.3669 dlossQ:2.0133 exploreP:0.2425\n",
      "Episode:205 meanR:118.2200 R:314.0000 rate:0.6280 gloss:0.4481 dlossA:1.3674 dlossQ:2.0165 exploreP:0.2353\n",
      "Episode:206 meanR:121.3000 R:325.0000 rate:0.6500 gloss:0.4549 dlossA:1.3675 dlossQ:2.0218 exploreP:0.2281\n",
      "Episode:207 meanR:124.7700 R:399.0000 rate:0.7980 gloss:0.4521 dlossA:1.3692 dlossQ:2.0095 exploreP:0.2196\n",
      "Episode:208 meanR:127.5100 R:321.0000 rate:0.6420 gloss:0.4553 dlossA:1.3655 dlossQ:2.0206 exploreP:0.2130\n",
      "Episode:209 meanR:129.4700 R:234.0000 rate:0.4680 gloss:0.4575 dlossA:1.3760 dlossQ:2.0173 exploreP:0.2083\n",
      "Episode:210 meanR:132.4200 R:329.0000 rate:0.6580 gloss:0.4632 dlossA:1.3726 dlossQ:2.0132 exploreP:0.2018\n",
      "Episode:211 meanR:135.3700 R:308.0000 rate:0.6160 gloss:0.4722 dlossA:1.3696 dlossQ:2.0159 exploreP:0.1960\n",
      "Episode:212 meanR:139.9000 R:500.0000 rate:1.0000 gloss:0.4741 dlossA:1.3749 dlossQ:2.0077 exploreP:0.1870\n",
      "Episode:213 meanR:141.7100 R:260.0000 rate:0.5200 gloss:0.4734 dlossA:1.3688 dlossQ:1.9869 exploreP:0.1824\n",
      "Episode:214 meanR:143.7800 R:225.0000 rate:0.4500 gloss:0.4731 dlossA:1.3760 dlossQ:2.0121 exploreP:0.1786\n",
      "Episode:215 meanR:145.9300 R:244.0000 rate:0.4880 gloss:0.4778 dlossA:1.3736 dlossQ:1.9957 exploreP:0.1745\n",
      "Episode:216 meanR:149.7000 R:409.0000 rate:0.8180 gloss:0.4723 dlossA:1.3738 dlossQ:1.9843 exploreP:0.1679\n",
      "Episode:217 meanR:154.4200 R:500.0000 rate:1.0000 gloss:0.4781 dlossA:1.3793 dlossQ:1.9748 exploreP:0.1602\n",
      "Episode:218 meanR:158.2900 R:406.0000 rate:0.8120 gloss:0.4925 dlossA:1.3789 dlossQ:1.9828 exploreP:0.1542\n",
      "Episode:219 meanR:160.7600 R:263.0000 rate:0.5260 gloss:0.4927 dlossA:1.3795 dlossQ:1.9558 exploreP:0.1505\n",
      "Episode:220 meanR:161.3300 R:73.0000 rate:0.1460 gloss:0.4984 dlossA:1.3809 dlossQ:1.9746 exploreP:0.1495\n",
      "Episode:221 meanR:165.8800 R:472.0000 rate:0.9440 gloss:0.4972 dlossA:1.3806 dlossQ:1.9577 exploreP:0.1430\n",
      "Episode:222 meanR:170.0800 R:500.0000 rate:1.0000 gloss:0.5056 dlossA:1.3827 dlossQ:1.9650 exploreP:0.1366\n",
      "Episode:223 meanR:174.7500 R:500.0000 rate:1.0000 gloss:0.5200 dlossA:1.3848 dlossQ:1.9568 exploreP:0.1304\n",
      "Episode:224 meanR:177.6700 R:349.0000 rate:0.6980 gloss:0.5258 dlossA:1.3815 dlossQ:1.9584 exploreP:0.1263\n",
      "Episode:225 meanR:181.4300 R:500.0000 rate:1.0000 gloss:0.5231 dlossA:1.3865 dlossQ:1.9613 exploreP:0.1206\n",
      "Episode:226 meanR:185.9900 R:500.0000 rate:1.0000 gloss:0.5375 dlossA:1.3840 dlossQ:1.9673 exploreP:0.1152\n",
      "Episode:227 meanR:190.5500 R:500.0000 rate:1.0000 gloss:0.5342 dlossA:1.3843 dlossQ:1.9588 exploreP:0.1101\n",
      "Episode:228 meanR:195.2800 R:500.0000 rate:1.0000 gloss:0.5406 dlossA:1.3854 dlossQ:1.9681 exploreP:0.1052\n",
      "Episode:229 meanR:199.9700 R:500.0000 rate:1.0000 gloss:0.5437 dlossA:1.3847 dlossQ:1.9522 exploreP:0.1005\n",
      "Episode:230 meanR:201.5200 R:243.0000 rate:0.4860 gloss:0.5488 dlossA:1.3868 dlossQ:1.9582 exploreP:0.0984\n",
      "Episode:231 meanR:206.2800 R:500.0000 rate:1.0000 gloss:0.5607 dlossA:1.3884 dlossQ:1.9211 exploreP:0.0941\n",
      "Episode:232 meanR:207.5500 R:161.0000 rate:0.3220 gloss:0.5732 dlossA:1.3873 dlossQ:1.9521 exploreP:0.0927\n",
      "Episode:233 meanR:208.9900 R:156.0000 rate:0.3120 gloss:0.5736 dlossA:1.3874 dlossQ:1.9361 exploreP:0.0914\n",
      "Episode:234 meanR:211.8100 R:313.0000 rate:0.6260 gloss:0.5726 dlossA:1.3868 dlossQ:1.9375 exploreP:0.0889\n",
      "Episode:235 meanR:214.8300 R:445.0000 rate:0.8900 gloss:0.5753 dlossA:1.3866 dlossQ:1.8997 exploreP:0.0855\n"
     ]
    },
    {
     "name": "stdout",
     "output_type": "stream",
     "text": [
      "Episode:236 meanR:219.3600 R:500.0000 rate:1.0000 gloss:0.5852 dlossA:1.3869 dlossQ:1.9154 exploreP:0.0818\n",
      "Episode:237 meanR:223.3100 R:500.0000 rate:1.0000 gloss:0.5893 dlossA:1.3866 dlossQ:1.9052 exploreP:0.0783\n",
      "Episode:238 meanR:226.7400 R:366.0000 rate:0.7320 gloss:0.6025 dlossA:1.3863 dlossQ:1.9456 exploreP:0.0759\n",
      "Episode:239 meanR:231.5800 R:500.0000 rate:1.0000 gloss:0.5988 dlossA:1.3861 dlossQ:1.9259 exploreP:0.0726\n",
      "Episode:240 meanR:235.9100 R:500.0000 rate:1.0000 gloss:0.6030 dlossA:1.3857 dlossQ:1.9234 exploreP:0.0696\n",
      "Episode:241 meanR:240.6600 R:500.0000 rate:1.0000 gloss:0.6098 dlossA:1.3842 dlossQ:1.9109 exploreP:0.0667\n",
      "Episode:242 meanR:244.7400 R:458.0000 rate:0.9160 gloss:0.6305 dlossA:1.3841 dlossQ:1.9471 exploreP:0.0641\n",
      "Episode:243 meanR:249.5500 R:500.0000 rate:1.0000 gloss:0.6381 dlossA:1.3827 dlossQ:1.9227 exploreP:0.0615\n",
      "Episode:244 meanR:252.6100 R:327.0000 rate:0.6540 gloss:0.6492 dlossA:1.3872 dlossQ:1.9264 exploreP:0.0598\n",
      "Episode:245 meanR:255.1100 R:265.0000 rate:0.5300 gloss:0.6451 dlossA:1.3845 dlossQ:1.9652 exploreP:0.0585\n",
      "Episode:246 meanR:259.1000 R:500.0000 rate:1.0000 gloss:0.6359 dlossA:1.3831 dlossQ:1.9500 exploreP:0.0562\n",
      "Episode:247 meanR:262.6100 R:500.0000 rate:1.0000 gloss:0.6422 dlossA:1.3847 dlossQ:1.9264 exploreP:0.0539\n",
      "Episode:248 meanR:264.1700 R:224.0000 rate:0.4480 gloss:0.6307 dlossA:1.3796 dlossQ:1.9127 exploreP:0.0529\n",
      "Episode:249 meanR:268.5800 R:500.0000 rate:1.0000 gloss:0.6534 dlossA:1.3836 dlossQ:1.9395 exploreP:0.0509\n",
      "Episode:250 meanR:273.4000 R:500.0000 rate:1.0000 gloss:0.6506 dlossA:1.3805 dlossQ:1.9669 exploreP:0.0489\n",
      "Episode:251 meanR:277.9700 R:500.0000 rate:1.0000 gloss:0.6664 dlossA:1.3779 dlossQ:1.9609 exploreP:0.0470\n",
      "Episode:252 meanR:282.5700 R:500.0000 rate:1.0000 gloss:0.6802 dlossA:1.3699 dlossQ:1.9761 exploreP:0.0452\n",
      "Episode:253 meanR:287.3300 R:500.0000 rate:1.0000 gloss:0.6958 dlossA:1.3731 dlossQ:1.9647 exploreP:0.0434\n",
      "Episode:254 meanR:289.0800 R:185.0000 rate:0.3700 gloss:0.7098 dlossA:1.3771 dlossQ:1.9595 exploreP:0.0428\n",
      "Episode:255 meanR:292.6700 R:500.0000 rate:1.0000 gloss:0.7003 dlossA:1.3685 dlossQ:1.9602 exploreP:0.0412\n",
      "Episode:256 meanR:297.0200 R:500.0000 rate:1.0000 gloss:0.7181 dlossA:1.3719 dlossQ:1.9969 exploreP:0.0397\n",
      "Episode:257 meanR:300.8800 R:500.0000 rate:1.0000 gloss:0.7052 dlossA:1.3725 dlossQ:1.9667 exploreP:0.0383\n",
      "Episode:258 meanR:303.8800 R:358.0000 rate:0.7160 gloss:0.7136 dlossA:1.3699 dlossQ:1.9640 exploreP:0.0373\n",
      "Episode:259 meanR:304.6500 R:191.0000 rate:0.3820 gloss:0.7206 dlossA:1.3695 dlossQ:2.0281 exploreP:0.0368\n",
      "Episode:260 meanR:309.0500 R:500.0000 rate:1.0000 gloss:0.7203 dlossA:1.3677 dlossQ:1.9795 exploreP:0.0354\n",
      "Episode:261 meanR:313.7600 R:500.0000 rate:1.0000 gloss:0.7190 dlossA:1.3618 dlossQ:1.9869 exploreP:0.0342\n",
      "Episode:262 meanR:317.8400 R:500.0000 rate:1.0000 gloss:0.7280 dlossA:1.3652 dlossQ:1.9677 exploreP:0.0330\n",
      "Episode:263 meanR:322.1400 R:500.0000 rate:1.0000 gloss:0.7397 dlossA:1.3659 dlossQ:1.9706 exploreP:0.0319\n",
      "Episode:264 meanR:325.6300 R:500.0000 rate:1.0000 gloss:0.7150 dlossA:1.3486 dlossQ:1.9422 exploreP:0.0308\n",
      "Episode:265 meanR:326.6000 R:176.0000 rate:0.3520 gloss:0.7224 dlossA:1.3518 dlossQ:1.8903 exploreP:0.0305\n",
      "Episode:266 meanR:330.7300 R:500.0000 rate:1.0000 gloss:0.7444 dlossA:1.3537 dlossQ:1.9889 exploreP:0.0295\n",
      "Episode:267 meanR:334.3600 R:500.0000 rate:1.0000 gloss:0.7502 dlossA:1.3469 dlossQ:1.9879 exploreP:0.0285\n",
      "Episode:268 meanR:334.3800 R:141.0000 rate:0.2820 gloss:0.7820 dlossA:1.3634 dlossQ:2.0517 exploreP:0.0283\n",
      "Episode:269 meanR:336.4200 R:500.0000 rate:1.0000 gloss:0.7660 dlossA:1.3407 dlossQ:2.0280 exploreP:0.0274\n",
      "Episode:270 meanR:340.9300 R:500.0000 rate:1.0000 gloss:0.7707 dlossA:1.3367 dlossQ:2.0087 exploreP:0.0265\n",
      "Episode:271 meanR:345.0200 R:500.0000 rate:1.0000 gloss:0.7770 dlossA:1.3319 dlossQ:2.0106 exploreP:0.0257\n",
      "Episode:272 meanR:348.8200 R:500.0000 rate:1.0000 gloss:0.7965 dlossA:1.3212 dlossQ:2.0208 exploreP:0.0250\n",
      "Episode:273 meanR:352.9600 R:500.0000 rate:1.0000 gloss:0.8131 dlossA:1.3303 dlossQ:2.0993 exploreP:0.0242\n",
      "Episode:274 meanR:356.4600 R:500.0000 rate:1.0000 gloss:0.7987 dlossA:1.3369 dlossQ:1.9955 exploreP:0.0235\n",
      "Episode:275 meanR:361.1400 R:500.0000 rate:1.0000 gloss:0.7944 dlossA:1.3003 dlossQ:2.1274 exploreP:0.0229\n",
      "Episode:276 meanR:365.9500 R:500.0000 rate:1.0000 gloss:0.8076 dlossA:1.3204 dlossQ:2.0143 exploreP:0.0222\n",
      "Episode:277 meanR:369.9700 R:500.0000 rate:1.0000 gloss:0.8056 dlossA:1.3185 dlossQ:2.0720 exploreP:0.0216\n",
      "Episode:278 meanR:374.0300 R:500.0000 rate:1.0000 gloss:0.8072 dlossA:1.3154 dlossQ:2.0068 exploreP:0.0211\n",
      "Episode:279 meanR:376.5800 R:500.0000 rate:1.0000 gloss:0.7924 dlossA:1.3158 dlossQ:1.9648 exploreP:0.0205\n",
      "Episode:280 meanR:375.4200 R:163.0000 rate:0.3260 gloss:0.7673 dlossA:1.2787 dlossQ:1.9807 exploreP:0.0204\n",
      "Episode:281 meanR:373.9300 R:197.0000 rate:0.3940 gloss:0.7953 dlossA:1.3015 dlossQ:1.9629 exploreP:0.0202\n",
      "Episode:282 meanR:373.9300 R:500.0000 rate:1.0000 gloss:0.7764 dlossA:1.3062 dlossQ:1.9518 exploreP:0.0197\n",
      "Episode:283 meanR:377.2500 R:500.0000 rate:1.0000 gloss:0.7888 dlossA:1.3163 dlossQ:1.9718 exploreP:0.0192\n",
      "Episode:284 meanR:380.5300 R:468.0000 rate:0.9360 gloss:0.7714 dlossA:1.2923 dlossQ:1.9781 exploreP:0.0188\n",
      "Episode:285 meanR:382.5500 R:500.0000 rate:1.0000 gloss:0.7744 dlossA:1.2859 dlossQ:1.9441 exploreP:0.0183\n",
      "Episode:286 meanR:384.1700 R:500.0000 rate:1.0000 gloss:0.7826 dlossA:1.2973 dlossQ:1.9787 exploreP:0.0179\n",
      "Episode:287 meanR:385.7200 R:500.0000 rate:1.0000 gloss:0.7760 dlossA:1.2789 dlossQ:1.9656 exploreP:0.0176\n",
      "Episode:288 meanR:387.1800 R:206.0000 rate:0.4120 gloss:0.7731 dlossA:1.2609 dlossQ:1.9508 exploreP:0.0174\n",
      "Episode:289 meanR:387.5700 R:500.0000 rate:1.0000 gloss:0.7869 dlossA:1.2853 dlossQ:1.9579 exploreP:0.0170\n",
      "Episode:290 meanR:391.9700 R:500.0000 rate:1.0000 gloss:0.7732 dlossA:1.2487 dlossQ:1.9915 exploreP:0.0167\n",
      "Episode:291 meanR:394.3500 R:500.0000 rate:1.0000 gloss:0.7911 dlossA:1.2724 dlossQ:1.9292 exploreP:0.0164\n",
      "Episode:292 meanR:398.3000 R:500.0000 rate:1.0000 gloss:0.7687 dlossA:1.2677 dlossQ:1.9656 exploreP:0.0161\n",
      "Episode:293 meanR:401.4000 R:500.0000 rate:1.0000 gloss:0.7467 dlossA:1.2334 dlossQ:2.0062 exploreP:0.0158\n",
      "Episode:294 meanR:403.5300 R:500.0000 rate:1.0000 gloss:0.7705 dlossA:1.2294 dlossQ:2.0380 exploreP:0.0155\n",
      "Episode:295 meanR:405.2700 R:500.0000 rate:1.0000 gloss:0.7721 dlossA:1.1919 dlossQ:2.0126 exploreP:0.0152\n",
      "Episode:296 meanR:406.2300 R:500.0000 rate:1.0000 gloss:0.8024 dlossA:1.2167 dlossQ:2.0619 exploreP:0.0150\n",
      "Episode:297 meanR:407.1600 R:500.0000 rate:1.0000 gloss:0.7857 dlossA:1.2329 dlossQ:1.9757 exploreP:0.0147\n",
      "Episode:298 meanR:410.5700 R:500.0000 rate:1.0000 gloss:0.7859 dlossA:1.1902 dlossQ:2.0664 exploreP:0.0145\n",
      "Episode:299 meanR:412.7800 R:500.0000 rate:1.0000 gloss:0.8107 dlossA:1.2335 dlossQ:2.1017 exploreP:0.0143\n",
      "Episode:300 meanR:415.3700 R:500.0000 rate:1.0000 gloss:0.7745 dlossA:1.2189 dlossQ:2.0116 exploreP:0.0141\n",
      "Episode:301 meanR:417.8500 R:500.0000 rate:1.0000 gloss:0.7467 dlossA:1.1965 dlossQ:2.0249 exploreP:0.0139\n",
      "Episode:302 meanR:419.1600 R:500.0000 rate:1.0000 gloss:0.7306 dlossA:1.1717 dlossQ:1.9644 exploreP:0.0137\n",
      "Episode:303 meanR:419.7300 R:214.0000 rate:0.4280 gloss:0.7694 dlossA:1.1917 dlossQ:2.1807 exploreP:0.0136\n",
      "Episode:304 meanR:421.8800 R:500.0000 rate:1.0000 gloss:0.7537 dlossA:1.1826 dlossQ:2.0229 exploreP:0.0134\n",
      "Episode:305 meanR:423.7400 R:500.0000 rate:1.0000 gloss:0.7585 dlossA:1.2120 dlossQ:2.0969 exploreP:0.0133\n",
      "Episode:306 meanR:425.4900 R:500.0000 rate:1.0000 gloss:0.7300 dlossA:1.1924 dlossQ:2.0159 exploreP:0.0131\n",
      "Episode:307 meanR:426.5000 R:500.0000 rate:1.0000 gloss:0.7204 dlossA:1.1549 dlossQ:2.1989 exploreP:0.0129\n",
      "Episode:308 meanR:425.2000 R:191.0000 rate:0.3820 gloss:0.6849 dlossA:1.1460 dlossQ:2.0631 exploreP:0.0129\n",
      "Episode:309 meanR:427.8600 R:500.0000 rate:1.0000 gloss:0.7184 dlossA:1.1590 dlossQ:2.1287 exploreP:0.0127\n",
      "Episode:310 meanR:429.5700 R:500.0000 rate:1.0000 gloss:0.7165 dlossA:1.1730 dlossQ:2.0856 exploreP:0.0126\n",
      "Episode:311 meanR:431.4900 R:500.0000 rate:1.0000 gloss:0.7061 dlossA:1.1414 dlossQ:2.2020 exploreP:0.0125\n",
      "Episode:312 meanR:431.4900 R:500.0000 rate:1.0000 gloss:0.6894 dlossA:1.1529 dlossQ:2.2265 exploreP:0.0124\n"
     ]
    },
    {
     "name": "stdout",
     "output_type": "stream",
     "text": [
      "Episode:313 meanR:433.8900 R:500.0000 rate:1.0000 gloss:0.6938 dlossA:1.1476 dlossQ:2.2113 exploreP:0.0123\n",
      "Episode:314 meanR:436.6400 R:500.0000 rate:1.0000 gloss:0.6824 dlossA:1.1441 dlossQ:2.2188 exploreP:0.0121\n",
      "Episode:315 meanR:439.2000 R:500.0000 rate:1.0000 gloss:0.6857 dlossA:1.1264 dlossQ:2.3778 exploreP:0.0120\n",
      "Episode:316 meanR:440.1100 R:500.0000 rate:1.0000 gloss:0.6598 dlossA:1.1188 dlossQ:2.3369 exploreP:0.0119\n",
      "Episode:317 meanR:440.1100 R:500.0000 rate:1.0000 gloss:0.6559 dlossA:1.1054 dlossQ:2.4456 exploreP:0.0118\n",
      "Episode:318 meanR:441.0500 R:500.0000 rate:1.0000 gloss:0.6571 dlossA:1.1240 dlossQ:2.2967 exploreP:0.0118\n",
      "Episode:319 meanR:443.4200 R:500.0000 rate:1.0000 gloss:0.6471 dlossA:1.0830 dlossQ:2.5559 exploreP:0.0117\n",
      "Episode:320 meanR:447.6900 R:500.0000 rate:1.0000 gloss:0.6253 dlossA:1.0991 dlossQ:2.4520 exploreP:0.0116\n",
      "Episode:321 meanR:447.9700 R:500.0000 rate:1.0000 gloss:0.6142 dlossA:1.0990 dlossQ:2.5859 exploreP:0.0115\n",
      "Episode:322 meanR:447.9700 R:500.0000 rate:1.0000 gloss:0.6185 dlossA:1.0905 dlossQ:2.5930 exploreP:0.0114\n",
      "Episode:323 meanR:447.9700 R:500.0000 rate:1.0000 gloss:0.6092 dlossA:1.0844 dlossQ:2.6196 exploreP:0.0114\n",
      "Episode:324 meanR:449.4800 R:500.0000 rate:1.0000 gloss:0.6129 dlossA:1.0530 dlossQ:2.8439 exploreP:0.0113\n",
      "Episode:325 meanR:449.4800 R:500.0000 rate:1.0000 gloss:0.6010 dlossA:1.0897 dlossQ:2.6849 exploreP:0.0112\n",
      "Episode:326 meanR:447.5300 R:305.0000 rate:0.6100 gloss:0.5600 dlossA:1.0813 dlossQ:2.8201 exploreP:0.0112\n",
      "Episode:327 meanR:447.5300 R:500.0000 rate:1.0000 gloss:0.5821 dlossA:1.0484 dlossQ:2.7952 exploreP:0.0111\n",
      "Episode:328 meanR:447.5300 R:500.0000 rate:1.0000 gloss:0.5869 dlossA:1.0391 dlossQ:3.0551 exploreP:0.0111\n",
      "Episode:329 meanR:447.5300 R:500.0000 rate:1.0000 gloss:0.5727 dlossA:1.0170 dlossQ:3.1510 exploreP:0.0110\n",
      "Episode:330 meanR:450.1000 R:500.0000 rate:1.0000 gloss:0.5780 dlossA:1.0681 dlossQ:3.1256 exploreP:0.0110\n",
      "Episode:331 meanR:450.1000 R:500.0000 rate:1.0000 gloss:0.5622 dlossA:1.0521 dlossQ:2.9342 exploreP:0.0109\n",
      "Episode:332 meanR:453.4900 R:500.0000 rate:1.0000 gloss:0.5748 dlossA:1.0488 dlossQ:3.2563 exploreP:0.0109\n",
      "Episode:333 meanR:456.9300 R:500.0000 rate:1.0000 gloss:0.5671 dlossA:1.0478 dlossQ:3.1328 exploreP:0.0108\n",
      "Episode:334 meanR:458.8000 R:500.0000 rate:1.0000 gloss:0.5516 dlossA:1.0373 dlossQ:3.2388 exploreP:0.0108\n",
      "Episode:335 meanR:459.3500 R:500.0000 rate:1.0000 gloss:0.5806 dlossA:1.0548 dlossQ:3.2082 exploreP:0.0108\n",
      "Episode:336 meanR:459.3500 R:500.0000 rate:1.0000 gloss:0.5537 dlossA:1.0224 dlossQ:3.4277 exploreP:0.0107\n",
      "Episode:337 meanR:458.1800 R:383.0000 rate:0.7660 gloss:0.5628 dlossA:1.0059 dlossQ:3.4403 exploreP:0.0107\n",
      "Episode:338 meanR:459.2300 R:471.0000 rate:0.9420 gloss:0.5804 dlossA:0.9773 dlossQ:3.6307 exploreP:0.0107\n",
      "Episode:339 meanR:459.2300 R:500.0000 rate:1.0000 gloss:0.5674 dlossA:0.9622 dlossQ:3.4973 exploreP:0.0106\n",
      "Episode:340 meanR:459.2300 R:500.0000 rate:1.0000 gloss:0.5562 dlossA:0.9754 dlossQ:3.5192 exploreP:0.0106\n",
      "Episode:341 meanR:459.2300 R:500.0000 rate:1.0000 gloss:0.5944 dlossA:0.9678 dlossQ:3.4878 exploreP:0.0106\n",
      "Episode:342 meanR:459.6500 R:500.0000 rate:1.0000 gloss:0.5756 dlossA:0.9557 dlossQ:3.7673 exploreP:0.0105\n",
      "Episode:343 meanR:459.6500 R:500.0000 rate:1.0000 gloss:0.5710 dlossA:0.9729 dlossQ:3.5197 exploreP:0.0105\n",
      "Episode:344 meanR:461.3800 R:500.0000 rate:1.0000 gloss:0.5792 dlossA:0.9277 dlossQ:3.6989 exploreP:0.0105\n",
      "Episode:345 meanR:463.7300 R:500.0000 rate:1.0000 gloss:0.5774 dlossA:0.9322 dlossQ:3.5701 exploreP:0.0105\n",
      "Episode:346 meanR:461.5800 R:285.0000 rate:0.5700 gloss:0.6085 dlossA:0.9335 dlossQ:3.9214 exploreP:0.0105\n",
      "Episode:347 meanR:461.5800 R:500.0000 rate:1.0000 gloss:0.6017 dlossA:0.8943 dlossQ:3.6817 exploreP:0.0104\n",
      "Episode:348 meanR:464.3400 R:500.0000 rate:1.0000 gloss:0.5947 dlossA:0.9429 dlossQ:3.5527 exploreP:0.0104\n",
      "Episode:349 meanR:464.3400 R:500.0000 rate:1.0000 gloss:0.6130 dlossA:0.9319 dlossQ:3.2526 exploreP:0.0104\n",
      "Episode:350 meanR:464.3400 R:500.0000 rate:1.0000 gloss:0.6073 dlossA:0.8911 dlossQ:3.4278 exploreP:0.0104\n",
      "Episode:351 meanR:464.3400 R:500.0000 rate:1.0000 gloss:0.6676 dlossA:0.8885 dlossQ:3.3850 exploreP:0.0104\n",
      "Episode:352 meanR:464.3400 R:500.0000 rate:1.0000 gloss:0.6191 dlossA:0.8831 dlossQ:3.3604 exploreP:0.0103\n",
      "Episode:353 meanR:464.3400 R:500.0000 rate:1.0000 gloss:0.6453 dlossA:0.8532 dlossQ:3.3747 exploreP:0.0103\n",
      "Episode:354 meanR:467.4900 R:500.0000 rate:1.0000 gloss:0.6782 dlossA:0.8941 dlossQ:3.5439 exploreP:0.0103\n",
      "Episode:355 meanR:467.4900 R:500.0000 rate:1.0000 gloss:0.6856 dlossA:0.8281 dlossQ:3.5258 exploreP:0.0103\n",
      "Episode:356 meanR:467.4900 R:500.0000 rate:1.0000 gloss:0.6921 dlossA:0.8266 dlossQ:3.6193 exploreP:0.0103\n",
      "Episode:357 meanR:467.4900 R:500.0000 rate:1.0000 gloss:0.7364 dlossA:0.8277 dlossQ:3.9043 exploreP:0.0103\n",
      "Episode:358 meanR:468.9100 R:500.0000 rate:1.0000 gloss:0.7021 dlossA:0.7886 dlossQ:3.8679 exploreP:0.0103\n",
      "Episode:359 meanR:472.0000 R:500.0000 rate:1.0000 gloss:0.7223 dlossA:0.7982 dlossQ:4.1597 exploreP:0.0102\n",
      "Episode:360 meanR:472.0000 R:500.0000 rate:1.0000 gloss:0.7297 dlossA:0.7871 dlossQ:4.3556 exploreP:0.0102\n",
      "Episode:361 meanR:472.0000 R:500.0000 rate:1.0000 gloss:0.7613 dlossA:0.7507 dlossQ:4.4958 exploreP:0.0102\n",
      "Episode:362 meanR:472.0000 R:500.0000 rate:1.0000 gloss:0.7610 dlossA:0.7483 dlossQ:4.4769 exploreP:0.0102\n",
      "Episode:363 meanR:472.0000 R:500.0000 rate:1.0000 gloss:0.6859 dlossA:0.7209 dlossQ:4.8168 exploreP:0.0102\n",
      "Episode:364 meanR:472.0000 R:500.0000 rate:1.0000 gloss:0.7091 dlossA:0.7412 dlossQ:4.9556 exploreP:0.0102\n",
      "Episode:365 meanR:475.2400 R:500.0000 rate:1.0000 gloss:0.7342 dlossA:0.6881 dlossQ:4.6399 exploreP:0.0102\n",
      "Episode:366 meanR:473.1000 R:286.0000 rate:0.5720 gloss:0.7308 dlossA:0.7067 dlossQ:4.8119 exploreP:0.0102\n",
      "Episode:367 meanR:473.1000 R:500.0000 rate:1.0000 gloss:0.7742 dlossA:0.7140 dlossQ:5.0706 exploreP:0.0102\n",
      "Episode:368 meanR:476.6900 R:500.0000 rate:1.0000 gloss:0.7244 dlossA:0.6864 dlossQ:4.7741 exploreP:0.0102\n",
      "Episode:369 meanR:476.6900 R:500.0000 rate:1.0000 gloss:0.7611 dlossA:0.6771 dlossQ:5.0890 exploreP:0.0101\n",
      "Episode:370 meanR:476.6900 R:500.0000 rate:1.0000 gloss:0.7380 dlossA:0.7328 dlossQ:4.9120 exploreP:0.0101\n",
      "Episode:371 meanR:476.6300 R:494.0000 rate:0.9880 gloss:0.7442 dlossA:0.6764 dlossQ:4.9323 exploreP:0.0101\n",
      "Episode:372 meanR:476.6300 R:500.0000 rate:1.0000 gloss:0.7036 dlossA:0.6772 dlossQ:5.0392 exploreP:0.0101\n",
      "Episode:373 meanR:476.6300 R:500.0000 rate:1.0000 gloss:0.7431 dlossA:0.6738 dlossQ:5.1409 exploreP:0.0101\n",
      "Episode:374 meanR:476.6300 R:500.0000 rate:1.0000 gloss:0.7489 dlossA:0.6560 dlossQ:5.0135 exploreP:0.0101\n",
      "Episode:375 meanR:476.6300 R:500.0000 rate:1.0000 gloss:0.7596 dlossA:0.6499 dlossQ:5.4783 exploreP:0.0101\n",
      "Episode:376 meanR:476.6300 R:500.0000 rate:1.0000 gloss:0.7140 dlossA:0.6721 dlossQ:5.3394 exploreP:0.0101\n",
      "Episode:377 meanR:476.6300 R:500.0000 rate:1.0000 gloss:0.7326 dlossA:0.6748 dlossQ:5.3546 exploreP:0.0101\n",
      "Episode:378 meanR:476.6300 R:500.0000 rate:1.0000 gloss:0.7049 dlossA:0.6155 dlossQ:4.8825 exploreP:0.0101\n",
      "Episode:379 meanR:476.6300 R:500.0000 rate:1.0000 gloss:0.7200 dlossA:0.6559 dlossQ:5.1230 exploreP:0.0101\n",
      "Episode:380 meanR:480.0000 R:500.0000 rate:1.0000 gloss:0.6737 dlossA:0.5921 dlossQ:5.1139 exploreP:0.0101\n",
      "Episode:381 meanR:483.0300 R:500.0000 rate:1.0000 gloss:0.7983 dlossA:0.5720 dlossQ:5.3950 exploreP:0.0101\n",
      "Episode:382 meanR:483.0300 R:500.0000 rate:1.0000 gloss:0.7781 dlossA:0.6021 dlossQ:5.0968 exploreP:0.0101\n",
      "Episode:383 meanR:483.0300 R:500.0000 rate:1.0000 gloss:0.7560 dlossA:0.5818 dlossQ:5.3647 exploreP:0.0101\n",
      "Episode:384 meanR:483.3500 R:500.0000 rate:1.0000 gloss:0.7206 dlossA:0.6179 dlossQ:5.1757 exploreP:0.0101\n",
      "Episode:385 meanR:483.3500 R:500.0000 rate:1.0000 gloss:0.7661 dlossA:0.5780 dlossQ:5.2750 exploreP:0.0101\n",
      "Episode:386 meanR:483.3500 R:500.0000 rate:1.0000 gloss:0.7347 dlossA:0.5702 dlossQ:5.1473 exploreP:0.0101\n",
      "Episode:387 meanR:483.3500 R:500.0000 rate:1.0000 gloss:0.7387 dlossA:0.5297 dlossQ:5.6088 exploreP:0.0101\n",
      "Episode:388 meanR:486.2900 R:500.0000 rate:1.0000 gloss:0.7254 dlossA:0.5668 dlossQ:5.5425 exploreP:0.0101\n",
      "Episode:389 meanR:486.2900 R:500.0000 rate:1.0000 gloss:0.7312 dlossA:0.5386 dlossQ:5.6732 exploreP:0.0101\n"
     ]
    },
    {
     "name": "stdout",
     "output_type": "stream",
     "text": [
      "Episode:390 meanR:486.2900 R:500.0000 rate:1.0000 gloss:0.7451 dlossA:0.5334 dlossQ:5.4820 exploreP:0.0101\n",
      "Episode:391 meanR:484.0200 R:273.0000 rate:0.5460 gloss:0.7315 dlossA:0.4743 dlossQ:5.9278 exploreP:0.0101\n",
      "Episode:392 meanR:484.0200 R:500.0000 rate:1.0000 gloss:0.7706 dlossA:0.4941 dlossQ:5.8648 exploreP:0.0100\n",
      "Episode:393 meanR:484.0200 R:500.0000 rate:1.0000 gloss:0.7144 dlossA:0.5343 dlossQ:6.2261 exploreP:0.0100\n",
      "Episode:394 meanR:484.0200 R:500.0000 rate:1.0000 gloss:0.7464 dlossA:0.4873 dlossQ:5.8458 exploreP:0.0100\n",
      "Episode:395 meanR:484.0200 R:500.0000 rate:1.0000 gloss:0.7978 dlossA:0.4703 dlossQ:6.1719 exploreP:0.0100\n",
      "Episode:396 meanR:484.0200 R:500.0000 rate:1.0000 gloss:0.7648 dlossA:0.4802 dlossQ:5.8183 exploreP:0.0100\n",
      "Episode:397 meanR:484.0200 R:500.0000 rate:1.0000 gloss:0.7854 dlossA:0.4260 dlossQ:6.1354 exploreP:0.0100\n",
      "Episode:398 meanR:484.0200 R:500.0000 rate:1.0000 gloss:0.8096 dlossA:0.4293 dlossQ:6.0328 exploreP:0.0100\n",
      "Episode:399 meanR:484.0200 R:500.0000 rate:1.0000 gloss:0.8118 dlossA:0.4109 dlossQ:6.2205 exploreP:0.0100\n",
      "Episode:400 meanR:484.0200 R:500.0000 rate:1.0000 gloss:0.8257 dlossA:0.4159 dlossQ:6.2190 exploreP:0.0100\n",
      "Episode:401 meanR:484.0200 R:500.0000 rate:1.0000 gloss:0.8539 dlossA:0.4107 dlossQ:6.2798 exploreP:0.0100\n",
      "Episode:402 meanR:484.0200 R:500.0000 rate:1.0000 gloss:0.7715 dlossA:0.4094 dlossQ:6.2641 exploreP:0.0100\n",
      "Episode:403 meanR:486.8800 R:500.0000 rate:1.0000 gloss:0.7993 dlossA:0.3753 dlossQ:6.6997 exploreP:0.0100\n",
      "Episode:404 meanR:486.8800 R:500.0000 rate:1.0000 gloss:0.7961 dlossA:0.3709 dlossQ:7.0841 exploreP:0.0100\n",
      "Episode:405 meanR:486.8800 R:500.0000 rate:1.0000 gloss:0.7943 dlossA:0.3754 dlossQ:6.6180 exploreP:0.0100\n",
      "Episode:406 meanR:486.8800 R:500.0000 rate:1.0000 gloss:0.7917 dlossA:0.3382 dlossQ:6.8008 exploreP:0.0100\n",
      "Episode:407 meanR:486.8800 R:500.0000 rate:1.0000 gloss:0.7594 dlossA:0.3353 dlossQ:7.2099 exploreP:0.0100\n",
      "Episode:408 meanR:489.9700 R:500.0000 rate:1.0000 gloss:0.7631 dlossA:0.3683 dlossQ:7.1251 exploreP:0.0100\n",
      "Episode:409 meanR:489.9700 R:500.0000 rate:1.0000 gloss:0.7906 dlossA:0.3613 dlossQ:7.1324 exploreP:0.0100\n",
      "Episode:410 meanR:489.9700 R:500.0000 rate:1.0000 gloss:0.7898 dlossA:0.3667 dlossQ:7.0699 exploreP:0.0100\n",
      "Episode:411 meanR:489.9700 R:500.0000 rate:1.0000 gloss:0.7477 dlossA:0.3640 dlossQ:7.6470 exploreP:0.0100\n",
      "Episode:412 meanR:485.6400 R:67.0000 rate:0.1340 gloss:0.7240 dlossA:0.3867 dlossQ:7.6552 exploreP:0.0100\n",
      "Episode:413 meanR:485.6400 R:500.0000 rate:1.0000 gloss:0.6993 dlossA:0.3980 dlossQ:7.9787 exploreP:0.0100\n",
      "Episode:414 meanR:485.6400 R:500.0000 rate:1.0000 gloss:0.6791 dlossA:0.4221 dlossQ:9.5153 exploreP:0.0100\n",
      "Episode:415 meanR:485.6400 R:500.0000 rate:1.0000 gloss:0.6454 dlossA:0.4370 dlossQ:8.4989 exploreP:0.0100\n",
      "Episode:416 meanR:485.6400 R:500.0000 rate:1.0000 gloss:0.6098 dlossA:0.4360 dlossQ:9.0355 exploreP:0.0100\n",
      "Episode:417 meanR:485.6400 R:500.0000 rate:1.0000 gloss:0.6465 dlossA:0.4630 dlossQ:9.0580 exploreP:0.0100\n",
      "Episode:418 meanR:485.6400 R:500.0000 rate:1.0000 gloss:0.6198 dlossA:0.4586 dlossQ:9.0291 exploreP:0.0100\n",
      "Episode:419 meanR:485.6400 R:500.0000 rate:1.0000 gloss:0.6076 dlossA:0.4552 dlossQ:9.7604 exploreP:0.0100\n",
      "Episode:420 meanR:485.6400 R:500.0000 rate:1.0000 gloss:0.5997 dlossA:0.4620 dlossQ:9.4517 exploreP:0.0100\n",
      "Episode:421 meanR:485.6400 R:500.0000 rate:1.0000 gloss:0.5941 dlossA:0.4661 dlossQ:9.3991 exploreP:0.0100\n",
      "Episode:422 meanR:485.6400 R:500.0000 rate:1.0000 gloss:0.6130 dlossA:0.4497 dlossQ:9.5230 exploreP:0.0100\n",
      "Episode:423 meanR:481.3400 R:70.0000 rate:0.1400 gloss:0.7233 dlossA:0.4461 dlossQ:10.1646 exploreP:0.0100\n",
      "Episode:424 meanR:481.3400 R:500.0000 rate:1.0000 gloss:0.6089 dlossA:0.4240 dlossQ:9.2640 exploreP:0.0100\n",
      "Episode:425 meanR:481.3400 R:500.0000 rate:1.0000 gloss:0.6114 dlossA:0.4208 dlossQ:9.2267 exploreP:0.0100\n",
      "Episode:426 meanR:483.2900 R:500.0000 rate:1.0000 gloss:0.6442 dlossA:0.3985 dlossQ:9.9079 exploreP:0.0100\n",
      "Episode:427 meanR:483.2900 R:500.0000 rate:1.0000 gloss:0.6225 dlossA:0.3763 dlossQ:8.6459 exploreP:0.0100\n",
      "Episode:428 meanR:483.2900 R:500.0000 rate:1.0000 gloss:0.6815 dlossA:0.3688 dlossQ:8.9121 exploreP:0.0100\n",
      "Episode:429 meanR:483.2900 R:500.0000 rate:1.0000 gloss:0.6826 dlossA:0.3445 dlossQ:9.6298 exploreP:0.0100\n",
      "Episode:430 meanR:483.2900 R:500.0000 rate:1.0000 gloss:0.6798 dlossA:0.3417 dlossQ:9.2992 exploreP:0.0100\n",
      "Episode:431 meanR:483.2900 R:500.0000 rate:1.0000 gloss:0.6996 dlossA:0.3146 dlossQ:9.3961 exploreP:0.0100\n",
      "Episode:432 meanR:483.2900 R:500.0000 rate:1.0000 gloss:0.7338 dlossA:0.2932 dlossQ:9.5695 exploreP:0.0100\n",
      "Episode:433 meanR:483.2900 R:500.0000 rate:1.0000 gloss:0.7520 dlossA:0.2817 dlossQ:9.5921 exploreP:0.0100\n",
      "Episode:434 meanR:483.2900 R:500.0000 rate:1.0000 gloss:0.7700 dlossA:0.2533 dlossQ:10.1240 exploreP:0.0100\n",
      "Episode:435 meanR:483.2900 R:500.0000 rate:1.0000 gloss:0.7555 dlossA:0.2494 dlossQ:9.8378 exploreP:0.0100\n",
      "Episode:436 meanR:483.2900 R:500.0000 rate:1.0000 gloss:0.7789 dlossA:0.2373 dlossQ:10.4211 exploreP:0.0100\n",
      "Episode:437 meanR:484.4600 R:500.0000 rate:1.0000 gloss:0.8025 dlossA:0.2194 dlossQ:10.0862 exploreP:0.0100\n",
      "Episode:438 meanR:484.7500 R:500.0000 rate:1.0000 gloss:0.8051 dlossA:0.2131 dlossQ:10.6470 exploreP:0.0100\n",
      "Episode:439 meanR:484.7500 R:500.0000 rate:1.0000 gloss:0.8464 dlossA:0.2156 dlossQ:10.8102 exploreP:0.0100\n",
      "Episode:440 meanR:484.7500 R:500.0000 rate:1.0000 gloss:0.8305 dlossA:0.1998 dlossQ:11.4159 exploreP:0.0100\n",
      "Episode:441 meanR:484.7500 R:500.0000 rate:1.0000 gloss:0.8386 dlossA:0.1988 dlossQ:11.2811 exploreP:0.0100\n",
      "Episode:442 meanR:484.7500 R:500.0000 rate:1.0000 gloss:0.8772 dlossA:0.1793 dlossQ:11.0558 exploreP:0.0100\n",
      "Episode:443 meanR:484.7500 R:500.0000 rate:1.0000 gloss:0.8689 dlossA:0.1799 dlossQ:12.4595 exploreP:0.0100\n",
      "Episode:444 meanR:484.7500 R:500.0000 rate:1.0000 gloss:0.9089 dlossA:0.1623 dlossQ:13.3128 exploreP:0.0100\n",
      "Episode:445 meanR:484.7500 R:500.0000 rate:1.0000 gloss:0.8796 dlossA:0.1664 dlossQ:12.5907 exploreP:0.0100\n",
      "Episode:446 meanR:486.9000 R:500.0000 rate:1.0000 gloss:0.8976 dlossA:0.1653 dlossQ:13.3871 exploreP:0.0100\n",
      "Episode:447 meanR:482.5300 R:63.0000 rate:0.1260 gloss:0.8846 dlossA:0.1518 dlossQ:15.0117 exploreP:0.0100\n",
      "Episode:448 meanR:482.5300 R:500.0000 rate:1.0000 gloss:0.9428 dlossA:0.1479 dlossQ:14.0583 exploreP:0.0100\n",
      "Episode:449 meanR:482.5300 R:500.0000 rate:1.0000 gloss:0.9149 dlossA:0.1733 dlossQ:13.6412 exploreP:0.0100\n",
      "Episode:450 meanR:482.5300 R:500.0000 rate:1.0000 gloss:0.9326 dlossA:0.1506 dlossQ:15.0371 exploreP:0.0100\n",
      "Episode:451 meanR:482.5300 R:500.0000 rate:1.0000 gloss:0.9123 dlossA:0.1575 dlossQ:15.1552 exploreP:0.0100\n",
      "Episode:452 meanR:482.5300 R:500.0000 rate:1.0000 gloss:0.9199 dlossA:0.1578 dlossQ:15.8097 exploreP:0.0100\n",
      "Episode:453 meanR:482.5300 R:500.0000 rate:1.0000 gloss:0.9095 dlossA:0.1613 dlossQ:16.7407 exploreP:0.0100\n",
      "Episode:454 meanR:482.5300 R:500.0000 rate:1.0000 gloss:0.9175 dlossA:0.1580 dlossQ:16.7489 exploreP:0.0100\n",
      "Episode:455 meanR:482.5300 R:500.0000 rate:1.0000 gloss:0.9265 dlossA:0.1579 dlossQ:17.1265 exploreP:0.0100\n",
      "Episode:456 meanR:482.5300 R:500.0000 rate:1.0000 gloss:0.9176 dlossA:0.1638 dlossQ:17.9861 exploreP:0.0100\n",
      "Episode:457 meanR:482.5300 R:500.0000 rate:1.0000 gloss:0.9441 dlossA:0.1619 dlossQ:18.7683 exploreP:0.0100\n",
      "Episode:458 meanR:482.5300 R:500.0000 rate:1.0000 gloss:0.9175 dlossA:0.1622 dlossQ:18.6960 exploreP:0.0100\n",
      "Episode:459 meanR:482.5300 R:500.0000 rate:1.0000 gloss:0.9494 dlossA:0.1658 dlossQ:22.0228 exploreP:0.0100\n",
      "Episode:460 meanR:482.5300 R:500.0000 rate:1.0000 gloss:0.8998 dlossA:0.1790 dlossQ:19.7277 exploreP:0.0100\n",
      "Episode:461 meanR:481.5200 R:399.0000 rate:0.7980 gloss:0.8824 dlossA:0.1824 dlossQ:20.7585 exploreP:0.0100\n",
      "Episode:462 meanR:480.2000 R:368.0000 rate:0.7360 gloss:0.8597 dlossA:0.1907 dlossQ:19.8341 exploreP:0.0100\n",
      "Episode:463 meanR:480.2000 R:500.0000 rate:1.0000 gloss:0.8347 dlossA:0.2053 dlossQ:19.8300 exploreP:0.0100\n",
      "Episode:464 meanR:480.2000 R:500.0000 rate:1.0000 gloss:0.8092 dlossA:0.2050 dlossQ:19.6531 exploreP:0.0100\n",
      "Episode:465 meanR:480.2000 R:500.0000 rate:1.0000 gloss:0.8267 dlossA:0.2024 dlossQ:19.6109 exploreP:0.0100\n",
      "Episode:466 meanR:482.3400 R:500.0000 rate:1.0000 gloss:0.7716 dlossA:0.2218 dlossQ:19.6957 exploreP:0.0100\n"
     ]
    },
    {
     "name": "stdout",
     "output_type": "stream",
     "text": [
      "Episode:467 meanR:482.3400 R:500.0000 rate:1.0000 gloss:0.7696 dlossA:0.2302 dlossQ:21.0353 exploreP:0.0100\n",
      "Episode:468 meanR:482.3400 R:500.0000 rate:1.0000 gloss:0.6840 dlossA:0.2571 dlossQ:19.1138 exploreP:0.0100\n",
      "Episode:469 meanR:482.3400 R:500.0000 rate:1.0000 gloss:0.6508 dlossA:0.2730 dlossQ:19.0393 exploreP:0.0100\n",
      "Episode:470 meanR:482.3400 R:500.0000 rate:1.0000 gloss:0.6808 dlossA:0.2359 dlossQ:18.5399 exploreP:0.0100\n",
      "Episode:471 meanR:482.4000 R:500.0000 rate:1.0000 gloss:0.6814 dlossA:0.2401 dlossQ:19.5569 exploreP:0.0100\n",
      "Episode:472 meanR:482.4000 R:500.0000 rate:1.0000 gloss:0.7081 dlossA:0.2228 dlossQ:18.8465 exploreP:0.0100\n",
      "Episode:473 meanR:482.4000 R:500.0000 rate:1.0000 gloss:0.7101 dlossA:0.2225 dlossQ:18.6953 exploreP:0.0100\n",
      "Episode:474 meanR:482.4000 R:500.0000 rate:1.0000 gloss:0.6728 dlossA:0.2271 dlossQ:17.8782 exploreP:0.0100\n",
      "Episode:475 meanR:482.4000 R:500.0000 rate:1.0000 gloss:0.7140 dlossA:0.2216 dlossQ:18.1546 exploreP:0.0100\n",
      "Episode:476 meanR:482.4000 R:500.0000 rate:1.0000 gloss:0.6965 dlossA:0.2110 dlossQ:19.6166 exploreP:0.0100\n",
      "Episode:477 meanR:482.4000 R:500.0000 rate:1.0000 gloss:0.7098 dlossA:0.2192 dlossQ:18.3460 exploreP:0.0100\n",
      "Episode:478 meanR:482.4000 R:500.0000 rate:1.0000 gloss:0.7134 dlossA:0.2183 dlossQ:17.8550 exploreP:0.0100\n",
      "Episode:479 meanR:482.4000 R:500.0000 rate:1.0000 gloss:0.6969 dlossA:0.2329 dlossQ:17.5332 exploreP:0.0100\n",
      "Episode:480 meanR:478.0300 R:63.0000 rate:0.1260 gloss:0.6718 dlossA:0.2274 dlossQ:17.0283 exploreP:0.0100\n",
      "Episode:481 meanR:478.0300 R:500.0000 rate:1.0000 gloss:0.6791 dlossA:0.2275 dlossQ:17.8456 exploreP:0.0100\n",
      "Episode:482 meanR:478.0300 R:500.0000 rate:1.0000 gloss:0.6834 dlossA:0.2361 dlossQ:18.0339 exploreP:0.0100\n",
      "Episode:483 meanR:478.0300 R:500.0000 rate:1.0000 gloss:0.6669 dlossA:0.2459 dlossQ:17.6366 exploreP:0.0100\n",
      "Episode:484 meanR:478.0300 R:500.0000 rate:1.0000 gloss:0.6999 dlossA:0.2459 dlossQ:16.8433 exploreP:0.0100\n",
      "Episode:485 meanR:478.0300 R:500.0000 rate:1.0000 gloss:0.6742 dlossA:0.2505 dlossQ:16.8910 exploreP:0.0100\n",
      "Episode:486 meanR:478.0300 R:500.0000 rate:1.0000 gloss:0.6552 dlossA:0.2569 dlossQ:17.4273 exploreP:0.0100\n",
      "Episode:487 meanR:478.0300 R:500.0000 rate:1.0000 gloss:0.6418 dlossA:0.2662 dlossQ:16.9017 exploreP:0.0100\n",
      "Episode:488 meanR:478.0300 R:500.0000 rate:1.0000 gloss:0.6688 dlossA:0.2612 dlossQ:17.0608 exploreP:0.0100\n",
      "Episode:489 meanR:478.0300 R:500.0000 rate:1.0000 gloss:0.6718 dlossA:0.2592 dlossQ:16.5598 exploreP:0.0100\n",
      "Episode:490 meanR:478.0300 R:500.0000 rate:1.0000 gloss:0.6680 dlossA:0.2663 dlossQ:17.4824 exploreP:0.0100\n",
      "Episode:491 meanR:480.3000 R:500.0000 rate:1.0000 gloss:0.6377 dlossA:0.2697 dlossQ:17.3065 exploreP:0.0100\n",
      "Episode:492 meanR:480.3000 R:500.0000 rate:1.0000 gloss:0.6414 dlossA:0.2759 dlossQ:17.6197 exploreP:0.0100\n",
      "Episode:493 meanR:480.3000 R:500.0000 rate:1.0000 gloss:0.6347 dlossA:0.2739 dlossQ:17.3063 exploreP:0.0100\n",
      "Episode:494 meanR:480.3000 R:500.0000 rate:1.0000 gloss:0.6321 dlossA:0.2849 dlossQ:17.4072 exploreP:0.0100\n",
      "Episode:495 meanR:475.9200 R:62.0000 rate:0.1240 gloss:0.6591 dlossA:0.2755 dlossQ:17.4512 exploreP:0.0100\n",
      "Episode:496 meanR:475.9200 R:500.0000 rate:1.0000 gloss:0.6458 dlossA:0.2745 dlossQ:17.1629 exploreP:0.0100\n",
      "Episode:497 meanR:475.9200 R:500.0000 rate:1.0000 gloss:0.6207 dlossA:0.2827 dlossQ:17.7508 exploreP:0.0100\n",
      "Episode:498 meanR:475.9200 R:500.0000 rate:1.0000 gloss:0.6139 dlossA:0.2883 dlossQ:16.9532 exploreP:0.0100\n",
      "Episode:499 meanR:475.9200 R:500.0000 rate:1.0000 gloss:0.5852 dlossA:0.2973 dlossQ:17.0371 exploreP:0.0100\n",
      "Episode:500 meanR:475.9200 R:500.0000 rate:1.0000 gloss:0.5941 dlossA:0.2990 dlossQ:16.9521 exploreP:0.0100\n",
      "Episode:501 meanR:471.6200 R:70.0000 rate:0.1400 gloss:0.6231 dlossA:0.2999 dlossQ:19.0105 exploreP:0.0100\n",
      "Episode:502 meanR:471.6200 R:500.0000 rate:1.0000 gloss:0.5904 dlossA:0.3043 dlossQ:17.2620 exploreP:0.0100\n",
      "Episode:503 meanR:471.6200 R:500.0000 rate:1.0000 gloss:0.5740 dlossA:0.3202 dlossQ:17.4459 exploreP:0.0100\n",
      "Episode:504 meanR:471.6200 R:500.0000 rate:1.0000 gloss:0.5591 dlossA:0.3285 dlossQ:16.4913 exploreP:0.0100\n",
      "Episode:505 meanR:471.6200 R:500.0000 rate:1.0000 gloss:0.5485 dlossA:0.3267 dlossQ:16.8790 exploreP:0.0100\n",
      "Episode:506 meanR:471.6200 R:500.0000 rate:1.0000 gloss:0.5408 dlossA:0.3255 dlossQ:15.8786 exploreP:0.0100\n",
      "Episode:507 meanR:471.6200 R:500.0000 rate:1.0000 gloss:0.5161 dlossA:0.3331 dlossQ:15.9767 exploreP:0.0100\n",
      "Episode:508 meanR:471.6200 R:500.0000 rate:1.0000 gloss:0.5122 dlossA:0.3256 dlossQ:15.9116 exploreP:0.0100\n",
      "Episode:509 meanR:471.6200 R:500.0000 rate:1.0000 gloss:0.5067 dlossA:0.3332 dlossQ:14.9186 exploreP:0.0100\n",
      "Episode:510 meanR:471.6200 R:500.0000 rate:1.0000 gloss:0.4819 dlossA:0.3315 dlossQ:14.0468 exploreP:0.0100\n",
      "Episode:511 meanR:471.6200 R:500.0000 rate:1.0000 gloss:0.4836 dlossA:0.3408 dlossQ:14.5602 exploreP:0.0100\n",
      "Episode:512 meanR:475.9500 R:500.0000 rate:1.0000 gloss:0.5070 dlossA:0.3310 dlossQ:13.8552 exploreP:0.0100\n",
      "Episode:513 meanR:475.9500 R:500.0000 rate:1.0000 gloss:0.4957 dlossA:0.3296 dlossQ:13.8690 exploreP:0.0100\n",
      "Episode:514 meanR:475.9500 R:500.0000 rate:1.0000 gloss:0.4899 dlossA:0.3336 dlossQ:13.9601 exploreP:0.0100\n",
      "Episode:515 meanR:475.9500 R:500.0000 rate:1.0000 gloss:0.4779 dlossA:0.3341 dlossQ:13.6536 exploreP:0.0100\n",
      "Episode:516 meanR:475.9500 R:500.0000 rate:1.0000 gloss:0.4454 dlossA:0.3387 dlossQ:13.0418 exploreP:0.0100\n",
      "Episode:517 meanR:475.9500 R:500.0000 rate:1.0000 gloss:0.4645 dlossA:0.3377 dlossQ:13.6572 exploreP:0.0100\n",
      "Episode:518 meanR:475.9500 R:500.0000 rate:1.0000 gloss:0.4391 dlossA:0.3433 dlossQ:13.1636 exploreP:0.0100\n",
      "Episode:519 meanR:471.6000 R:65.0000 rate:0.1300 gloss:0.4770 dlossA:0.3311 dlossQ:13.0988 exploreP:0.0100\n",
      "Episode:520 meanR:471.6000 R:500.0000 rate:1.0000 gloss:0.4423 dlossA:0.3447 dlossQ:13.0176 exploreP:0.0100\n",
      "Episode:521 meanR:467.2600 R:66.0000 rate:0.1320 gloss:0.4424 dlossA:0.3332 dlossQ:13.9367 exploreP:0.0100\n",
      "Episode:522 meanR:467.2600 R:500.0000 rate:1.0000 gloss:0.4538 dlossA:0.3314 dlossQ:12.7788 exploreP:0.0100\n",
      "Episode:523 meanR:471.5600 R:500.0000 rate:1.0000 gloss:0.4386 dlossA:0.3384 dlossQ:12.5171 exploreP:0.0100\n",
      "Episode:524 meanR:471.5600 R:500.0000 rate:1.0000 gloss:0.4275 dlossA:0.3484 dlossQ:13.0994 exploreP:0.0100\n",
      "Episode:525 meanR:471.5600 R:500.0000 rate:1.0000 gloss:0.4296 dlossA:0.3427 dlossQ:12.3727 exploreP:0.0100\n",
      "Episode:526 meanR:471.5600 R:500.0000 rate:1.0000 gloss:0.4449 dlossA:0.3329 dlossQ:12.9528 exploreP:0.0100\n",
      "Episode:527 meanR:471.5600 R:500.0000 rate:1.0000 gloss:0.4326 dlossA:0.3331 dlossQ:12.2354 exploreP:0.0100\n",
      "Episode:528 meanR:471.5600 R:500.0000 rate:1.0000 gloss:0.4238 dlossA:0.3419 dlossQ:11.9839 exploreP:0.0100\n",
      "Episode:529 meanR:469.0200 R:246.0000 rate:0.4920 gloss:0.4246 dlossA:0.3281 dlossQ:11.4780 exploreP:0.0100\n",
      "Episode:530 meanR:469.0200 R:500.0000 rate:1.0000 gloss:0.4272 dlossA:0.3436 dlossQ:11.5730 exploreP:0.0100\n",
      "Episode:531 meanR:469.0200 R:500.0000 rate:1.0000 gloss:0.4130 dlossA:0.3388 dlossQ:12.1487 exploreP:0.0100\n",
      "Episode:532 meanR:469.0200 R:500.0000 rate:1.0000 gloss:0.4173 dlossA:0.3419 dlossQ:11.6930 exploreP:0.0100\n",
      "Episode:533 meanR:469.0200 R:500.0000 rate:1.0000 gloss:0.4095 dlossA:0.3293 dlossQ:11.2371 exploreP:0.0100\n",
      "Episode:534 meanR:469.0200 R:500.0000 rate:1.0000 gloss:0.3964 dlossA:0.3544 dlossQ:11.3891 exploreP:0.0100\n",
      "Episode:535 meanR:469.0200 R:500.0000 rate:1.0000 gloss:0.4031 dlossA:0.3460 dlossQ:11.1720 exploreP:0.0100\n",
      "Episode:536 meanR:469.0200 R:500.0000 rate:1.0000 gloss:0.4020 dlossA:0.3465 dlossQ:11.2894 exploreP:0.0100\n",
      "Episode:537 meanR:469.0200 R:500.0000 rate:1.0000 gloss:0.3986 dlossA:0.3481 dlossQ:10.9753 exploreP:0.0100\n",
      "Episode:538 meanR:469.0200 R:500.0000 rate:1.0000 gloss:0.4015 dlossA:0.3406 dlossQ:10.7997 exploreP:0.0100\n",
      "Episode:539 meanR:469.0200 R:500.0000 rate:1.0000 gloss:0.3789 dlossA:0.3566 dlossQ:10.8127 exploreP:0.0100\n",
      "Episode:540 meanR:464.5900 R:57.0000 rate:0.1140 gloss:0.4061 dlossA:0.3282 dlossQ:9.8319 exploreP:0.0100\n",
      "Episode:541 meanR:460.4100 R:82.0000 rate:0.1640 gloss:0.3776 dlossA:0.3296 dlossQ:9.6172 exploreP:0.0100\n",
      "Episode:542 meanR:460.4100 R:500.0000 rate:1.0000 gloss:0.3738 dlossA:0.3697 dlossQ:11.0829 exploreP:0.0100\n"
     ]
    },
    {
     "name": "stdout",
     "output_type": "stream",
     "text": [
      "Episode:543 meanR:460.4100 R:500.0000 rate:1.0000 gloss:0.3790 dlossA:0.3476 dlossQ:10.6139 exploreP:0.0100\n",
      "Episode:544 meanR:460.4100 R:500.0000 rate:1.0000 gloss:0.3696 dlossA:0.3623 dlossQ:10.7628 exploreP:0.0100\n",
      "Episode:545 meanR:460.4100 R:500.0000 rate:1.0000 gloss:0.3761 dlossA:0.3569 dlossQ:10.5009 exploreP:0.0100\n",
      "Episode:546 meanR:460.4100 R:500.0000 rate:1.0000 gloss:0.3472 dlossA:0.3779 dlossQ:10.7136 exploreP:0.0100\n",
      "Episode:547 meanR:464.7800 R:500.0000 rate:1.0000 gloss:0.3629 dlossA:0.3474 dlossQ:9.8599 exploreP:0.0100\n",
      "Episode:548 meanR:464.7800 R:500.0000 rate:1.0000 gloss:0.3541 dlossA:0.3747 dlossQ:9.8302 exploreP:0.0100\n",
      "Episode:549 meanR:464.7800 R:500.0000 rate:1.0000 gloss:0.3409 dlossA:0.3810 dlossQ:9.6178 exploreP:0.0100\n",
      "Episode:550 meanR:464.7800 R:500.0000 rate:1.0000 gloss:0.3333 dlossA:0.3897 dlossQ:9.9387 exploreP:0.0100\n",
      "Episode:551 meanR:464.7800 R:500.0000 rate:1.0000 gloss:0.3399 dlossA:0.3677 dlossQ:9.9865 exploreP:0.0100\n",
      "Episode:552 meanR:464.7800 R:500.0000 rate:1.0000 gloss:0.3389 dlossA:0.3745 dlossQ:9.6305 exploreP:0.0100\n",
      "Episode:553 meanR:464.7800 R:500.0000 rate:1.0000 gloss:0.3292 dlossA:0.3917 dlossQ:9.1452 exploreP:0.0100\n",
      "Episode:554 meanR:464.7800 R:500.0000 rate:1.0000 gloss:0.3581 dlossA:0.3504 dlossQ:9.7862 exploreP:0.0100\n",
      "Episode:555 meanR:460.6800 R:90.0000 rate:0.1800 gloss:0.3367 dlossA:0.3904 dlossQ:10.2665 exploreP:0.0100\n",
      "Episode:556 meanR:460.6800 R:500.0000 rate:1.0000 gloss:0.3391 dlossA:0.3611 dlossQ:9.4940 exploreP:0.0100\n",
      "Episode:557 meanR:460.6800 R:500.0000 rate:1.0000 gloss:0.3317 dlossA:0.3657 dlossQ:9.7554 exploreP:0.0100\n",
      "Episode:558 meanR:460.6800 R:500.0000 rate:1.0000 gloss:0.3353 dlossA:0.3558 dlossQ:9.8135 exploreP:0.0100\n",
      "Episode:559 meanR:460.6800 R:500.0000 rate:1.0000 gloss:0.3170 dlossA:0.3740 dlossQ:9.7351 exploreP:0.0100\n",
      "Episode:560 meanR:460.6800 R:500.0000 rate:1.0000 gloss:0.3143 dlossA:0.3694 dlossQ:9.6512 exploreP:0.0100\n",
      "Episode:561 meanR:461.6900 R:500.0000 rate:1.0000 gloss:0.3183 dlossA:0.3695 dlossQ:9.3121 exploreP:0.0100\n",
      "Episode:562 meanR:463.0100 R:500.0000 rate:1.0000 gloss:0.3001 dlossA:0.4023 dlossQ:9.7230 exploreP:0.0100\n",
      "Episode:563 meanR:463.0100 R:500.0000 rate:1.0000 gloss:0.2990 dlossA:0.4025 dlossQ:9.8390 exploreP:0.0100\n",
      "Episode:564 meanR:458.8000 R:79.0000 rate:0.1580 gloss:0.3307 dlossA:0.3955 dlossQ:9.8284 exploreP:0.0100\n",
      "Episode:565 meanR:458.8000 R:500.0000 rate:1.0000 gloss:0.3028 dlossA:0.3858 dlossQ:9.4550 exploreP:0.0100\n",
      "Episode:566 meanR:458.8000 R:500.0000 rate:1.0000 gloss:0.3109 dlossA:0.3909 dlossQ:9.6996 exploreP:0.0100\n",
      "Episode:567 meanR:454.5900 R:79.0000 rate:0.1580 gloss:0.3243 dlossA:0.3596 dlossQ:10.1996 exploreP:0.0100\n",
      "Episode:568 meanR:454.5900 R:500.0000 rate:1.0000 gloss:0.3029 dlossA:0.3956 dlossQ:9.9921 exploreP:0.0100\n",
      "Episode:569 meanR:454.5900 R:500.0000 rate:1.0000 gloss:0.3009 dlossA:0.4009 dlossQ:9.8834 exploreP:0.0100\n",
      "Episode:570 meanR:454.5900 R:500.0000 rate:1.0000 gloss:0.3178 dlossA:0.3617 dlossQ:9.9956 exploreP:0.0100\n",
      "Episode:571 meanR:454.5900 R:500.0000 rate:1.0000 gloss:0.3233 dlossA:0.3675 dlossQ:10.4357 exploreP:0.0100\n",
      "Episode:572 meanR:454.5900 R:500.0000 rate:1.0000 gloss:0.3122 dlossA:0.3653 dlossQ:9.8453 exploreP:0.0100\n",
      "Episode:573 meanR:454.5900 R:500.0000 rate:1.0000 gloss:0.3159 dlossA:0.3375 dlossQ:9.8921 exploreP:0.0100\n",
      "Episode:574 meanR:454.5900 R:500.0000 rate:1.0000 gloss:0.3088 dlossA:0.3701 dlossQ:9.7392 exploreP:0.0100\n",
      "Episode:575 meanR:454.5900 R:500.0000 rate:1.0000 gloss:0.3178 dlossA:0.3420 dlossQ:9.3610 exploreP:0.0100\n",
      "Episode:576 meanR:454.5900 R:500.0000 rate:1.0000 gloss:0.3392 dlossA:0.2842 dlossQ:9.8258 exploreP:0.0100\n",
      "Episode:577 meanR:454.5900 R:500.0000 rate:1.0000 gloss:0.3577 dlossA:0.2677 dlossQ:9.9171 exploreP:0.0100\n",
      "Episode:578 meanR:454.5900 R:500.0000 rate:1.0000 gloss:0.3520 dlossA:0.2678 dlossQ:9.7072 exploreP:0.0100\n",
      "Episode:579 meanR:454.5900 R:500.0000 rate:1.0000 gloss:0.3619 dlossA:0.2555 dlossQ:10.4669 exploreP:0.0100\n",
      "Episode:580 meanR:458.9600 R:500.0000 rate:1.0000 gloss:0.3692 dlossA:0.2283 dlossQ:9.9030 exploreP:0.0100\n",
      "Episode:581 meanR:458.9600 R:500.0000 rate:1.0000 gloss:0.3986 dlossA:0.1943 dlossQ:10.1886 exploreP:0.0100\n",
      "Episode:582 meanR:458.9600 R:500.0000 rate:1.0000 gloss:0.4070 dlossA:0.1880 dlossQ:10.4775 exploreP:0.0100\n",
      "Episode:583 meanR:458.9600 R:500.0000 rate:1.0000 gloss:0.4078 dlossA:0.1828 dlossQ:10.9020 exploreP:0.0100\n",
      "Episode:584 meanR:458.9600 R:500.0000 rate:1.0000 gloss:0.4355 dlossA:0.1510 dlossQ:11.2042 exploreP:0.0100\n"
     ]
    }
   ],
   "source": [
    "# Save/load the model and save for plotting\n",
    "saver = tf.train.Saver()\n",
    "episode_rewards_list = [] # goal\n",
    "rewards_list, gloss_list, dloss_list = [], [], []\n",
    "\n",
    "# TF session for training\n",
    "with tf.Session(graph=graph) as sess:\n",
    "    sess.run(tf.global_variables_initializer())\n",
    "    #saver.restore(sess, 'checkpoints/model.ckpt')    \n",
    "    #saver.restore(sess, tf.train.latest_checkpoint('checkpoints'))\n",
    "    total_step = 0 # Explore or exploit parameter\n",
    "    episode_reward = deque(maxlen=100) # 100 episodes average/running average/running mean/window\n",
    "\n",
    "    # Training episodes/epochs\n",
    "    for ep in range(1111*2):\n",
    "        total_reward = 0 # each episode\n",
    "        gloss_batch, dlossA_batch, dlossQ_batch= [], [], []\n",
    "        state = env.reset() # each episode\n",
    "        num_step = 0 # each episode\n",
    "        idx_arr = np.arange(memory_size// batch_size)\n",
    "\n",
    "        # Training steps/batches\n",
    "        while True:\n",
    "            # Explore (Env) or Exploit (Model)\n",
    "            total_step += 1\n",
    "            explore_p = explore_stop + (explore_start - explore_stop) * np.exp(-decay_rate * total_step) \n",
    "            if explore_p > np.random.rand():\n",
    "                action = env.action_space.sample()\n",
    "                #print(action)\n",
    "            else:\n",
    "                action_logits = sess.run(model.actions_logits, feed_dict={model.states: state.reshape([1, -1]), \n",
    "                                                                          model.training: False})\n",
    "                action = np.argmax(action_logits) # adding epsilon*noise\n",
    "                #print(action)\n",
    "            next_state, reward, done, _ = env.step(action)\n",
    "            memory.buffer.append([state, action, next_state, reward, float(done)])\n",
    "            memory.rates.append(-1) # empty\n",
    "            num_step += 1 # momory added\n",
    "            total_reward += reward\n",
    "            state = next_state\n",
    "            \n",
    "            # Rating the memory\n",
    "            if done is True:\n",
    "                rate = total_reward/500 # update rate at the end/ when episode is done\n",
    "                for idx in range(num_step): # episode length\n",
    "                    if memory.rates[-1-idx] == -1: # double-check the landmark/marked indexes\n",
    "                        memory.rates[-1-idx] = rate # rate the trajectory/data\n",
    "                        \n",
    "            # Training with the maxrated minibatch\n",
    "            batch = memory.buffer\n",
    "            percentage = 0.9\n",
    "            #for idx in range(memory_size// batch_size):\n",
    "            idx = np.random.choice(idx_arr)\n",
    "            states = np.array([each[0] for each in batch])[idx*batch_size:(idx+1)*batch_size]\n",
    "            actions = np.array([each[1] for each in batch])[idx*batch_size:(idx+1)*batch_size]\n",
    "            next_states = np.array([each[2] for each in batch])[idx*batch_size:(idx+1)*batch_size]\n",
    "            rewards = np.array([each[3] for each in batch])[idx*batch_size:(idx+1)*batch_size]\n",
    "            dones = np.array([each[4] for each in batch])[idx*batch_size:(idx+1)*batch_size]\n",
    "            rates = np.array(memory.rates)[idx*batch_size:(idx+1)*batch_size]\n",
    "            #print(states.shape, actions.shape, next_states.shape, rewards.shape, dones.shape, rates.shape)\n",
    "            states = states[rates >= (np.max(rates)*percentage)]\n",
    "            actions = actions[rates >= (np.max(rates)*percentage)]\n",
    "            next_states = next_states[rates >= (np.max(rates)*percentage)]\n",
    "            rewards = rewards[rates >= (np.max(rates)*percentage)]\n",
    "            dones = dones[rates >= (np.max(rates)*percentage)]\n",
    "            rates = rates[rates >= (np.max(rates)*percentage)]\n",
    "            #print(states.shape, actions.shape, next_states.shape, rewards.shape, dones.shape, rates.shape)\n",
    "            nextQs_logits = sess.run(model.Qs_logits, feed_dict = {model.states: next_states, \n",
    "                                                                   model.training: False})\n",
    "            #nextQs = np.max(nextQs_logits, axis=1) * (1-dones) # DQN\n",
    "            nextQs = nextQs_logits.reshape([-1]) * (1-dones) # DPG\n",
    "            targetQs = rewards + (gamma * nextQs)\n",
    "            gloss, dlossA, dlossQ, _, _ = sess.run([model.g_loss, model.d_lossA, model.d_lossQ, \n",
    "                                                       model.g_opt, model.d_optA], #, model.d_optQ\n",
    "                                                      feed_dict = {model.states: states, \n",
    "                                                                   model.actions: actions,\n",
    "                                                                   model.targetQs: targetQs, \n",
    "                                                                   model.rates: rates, \n",
    "                                                                   model.training: True})\n",
    "            gloss_batch.append(gloss)\n",
    "            dlossA_batch.append(dlossA)\n",
    "            dlossQ_batch.append(dlossQ)\n",
    "            if done is True:\n",
    "                break\n",
    "                \n",
    "        episode_reward.append(total_reward)\n",
    "        print('Episode:{}'.format(ep),\n",
    "              'meanR:{:.4f}'.format(np.mean(episode_reward)),\n",
    "              'R:{:.4f}'.format(total_reward),\n",
    "              'rate:{:.4f}'.format(rate),\n",
    "              'gloss:{:.4f}'.format(np.mean(gloss_batch)),\n",
    "              'dlossA:{:.4f}'.format(np.mean(dlossA_batch)),\n",
    "              'dlossQ:{:.4f}'.format(np.mean(dlossQ_batch)),\n",
    "              'exploreP:{:.4f}'.format(explore_p))\n",
    "\n",
    "        # Ploting out\n",
    "        episode_rewards_list.append([ep, np.mean(episode_reward)])\n",
    "        rewards_list.append([ep, total_reward])\n",
    "        #gloss_list.append([ep, np.mean(gloss_batch)])\n",
    "        #dloss_list.append([ep, np.mean(dloss_batch)])\n",
    "        \n",
    "        # Break episode/epoch loop\n",
    "        ## Option 1: Solve the First Version\n",
    "        #The task is episodic, and in order to solve the environment, \n",
    "        #your agent must get an average score of +30 over 100 consecutive episodes.\n",
    "        if np.mean(episode_reward) >= 500:\n",
    "            break\n",
    "            \n",
    "    # At the end of all training episodes/epochs\n",
    "    saver.save(sess, 'checkpoints/model.ckpt')"
   ]
  },
  {
   "cell_type": "markdown",
   "metadata": {},
   "source": [
    "# Visualizing training\n",
    "\n",
    "Below I'll plot the total rewards for each episode. I'm plotting the rolling average too, in blue."
   ]
  },
  {
   "cell_type": "code",
   "execution_count": null,
   "metadata": {},
   "outputs": [],
   "source": [
    "import matplotlib.pyplot as plt\n",
    "%matplotlib inline\n",
    "\n",
    "def running_mean(x, N):\n",
    "    cumsum = np.cumsum(np.insert(x, 0, 0)) \n",
    "    return (cumsum[N:] - cumsum[:-N]) / N "
   ]
  },
  {
   "cell_type": "code",
   "execution_count": null,
   "metadata": {},
   "outputs": [],
   "source": [
    "eps, arr = np.array(episode_rewards_list).T\n",
    "smoothed_arr = running_mean(arr, 10)\n",
    "plt.plot(eps[-len(smoothed_arr):], smoothed_arr)\n",
    "plt.plot(eps, arr, color='grey', alpha=0.3)\n",
    "plt.xlabel('Episode')\n",
    "plt.ylabel('Total rewards')"
   ]
  },
  {
   "cell_type": "code",
   "execution_count": 16,
   "metadata": {},
   "outputs": [
    {
     "data": {
      "text/plain": [
       "Text(0, 0.5, 'Total rewards')"
      ]
     },
     "execution_count": 16,
     "metadata": {},
     "output_type": "execute_result"
    },
    {
     "data": {
      "image/png": "[encoded data removed]",
      "text/plain": [
       "<Figure size 432x288 with 1 Axes>"
      ]
     },
     "metadata": {
      "needs_background": "light"
     },
     "output_type": "display_data"
    }
   ],
   "source": [
    "eps, arr = np.array(episode_rewards_list).T\n",
    "smoothed_arr = running_mean(arr, 10)\n",
    "plt.plot(eps[-len(smoothed_arr):], smoothed_arr)\n",
    "plt.plot(eps, arr, color='grey', alpha=0.3)\n",
    "plt.xlabel('Episode')\n",
    "plt.ylabel('Total rewards')"
   ]
  },
  {
   "cell_type": "code",
   "execution_count": 19,
   "metadata": {},
   "outputs": [
    {
     "data": {
      "text/plain": [
       "Text(0, 0.5, 'Total rewards')"
      ]
     },
     "execution_count": 19,
     "metadata": {},
     "output_type": "execute_result"
    },
    {
     "data": {
      "image/png": "[encoded data removed]",
      "text/plain": [
       "<Figure size 432x288 with 1 Axes>"
      ]
     },
     "metadata": {
      "needs_background": "light"
     },
     "output_type": "display_data"
    }
   ],
   "source": [
    "eps, arr = np.array(episode_rewards_list).T\n",
    "smoothed_arr = running_mean(arr, 10)\n",
    "plt.plot(eps[-len(smoothed_arr):], smoothed_arr)\n",
    "plt.plot(eps, arr, color='grey', alpha=0.3)\n",
    "plt.xlabel('Episode')\n",
    "plt.ylabel('Total rewards')"
   ]
  },
  {
   "cell_type": "code",
   "execution_count": 16,
   "metadata": {},
   "outputs": [
    {
     "data": {
      "text/plain": [
       "Text(0, 0.5, 'Total rewards')"
      ]
     },
     "execution_count": 16,
     "metadata": {},
     "output_type": "execute_result"
    },
    {
     "data": {
      "image/png": "[encoded data removed]",
      "text/plain": [
       "<Figure size 432x288 with 1 Axes>"
      ]
     },
     "metadata": {
      "needs_background": "light"
     },
     "output_type": "display_data"
    }
   ],
   "source": [
    "eps, arr = np.array(episode_rewards_list).T\n",
    "smoothed_arr = running_mean(arr, 10)\n",
    "plt.plot(eps[-len(smoothed_arr):], smoothed_arr)\n",
    "plt.plot(eps, arr, color='grey', alpha=0.3)\n",
    "plt.xlabel('Episode')\n",
    "plt.ylabel('Total rewards')"
   ]
  },
  {
   "cell_type": "code",
   "execution_count": 62,
   "metadata": {},
   "outputs": [
    {
     "data": {
      "text/plain": [
       "Text(0,0.5,'Total rewards')"
      ]
     },
     "execution_count": 62,
     "metadata": {},
     "output_type": "execute_result"
    },
    {
     "data": {
      "image/png": "[encoded data removed]",
      "text/plain": [
       "<Figure size 432x288 with 1 Axes>"
      ]
     },
     "metadata": {},
     "output_type": "display_data"
    }
   ],
   "source": [
    "eps, arr = np.array(episode_rewards_list).T\n",
    "smoothed_arr = running_mean(arr, 10)\n",
    "plt.plot(eps[-len(smoothed_arr):], smoothed_arr)\n",
    "plt.plot(eps, arr, color='grey', alpha=0.3)\n",
    "plt.xlabel('Episode')\n",
    "plt.ylabel('Total rewards')"
   ]
  },
  {
   "cell_type": "code",
   "execution_count": 20,
   "metadata": {},
   "outputs": [
    {
     "data": {
      "text/plain": [
       "Text(0, 0.5, 'Total rewards')"
      ]
     },
     "execution_count": 20,
     "metadata": {},
     "output_type": "execute_result"
    },
    {
     "data": {
      "image/png": "[encoded data removed]",
      "text/plain": [
       "<Figure size 432x288 with 1 Axes>"
      ]
     },
     "metadata": {
      "needs_background": "light"
     },
     "output_type": "display_data"
    }
   ],
   "source": [
    "eps, arr = np.array(rewards_list).T\n",
    "smoothed_arr = running_mean(arr, 10)\n",
    "plt.plot(eps[-len(smoothed_arr):], smoothed_arr)\n",
    "plt.plot(eps, arr, color='grey', alpha=0.3)\n",
    "plt.xlabel('Episode')\n",
    "plt.ylabel('Total rewards')"
   ]
  },
  {
   "cell_type": "code",
   "execution_count": 63,
   "metadata": {},
   "outputs": [
    {
     "data": {
      "text/plain": [
       "Text(0,0.5,'Total rewards')"
      ]
     },
     "execution_count": 63,
     "metadata": {},
     "output_type": "execute_result"
    },
    {
     "data": {
      "image/png": "[encoded data removed]",
      "text/plain": [
       "<Figure size 432x288 with 1 Axes>"
      ]
     },
     "metadata": {},
     "output_type": "display_data"
    }
   ],
   "source": [
    "eps, arr = np.array(rewards_list).T\n",
    "smoothed_arr = running_mean(arr, 10)\n",
    "plt.plot(eps[-len(smoothed_arr):], smoothed_arr)\n",
    "plt.plot(eps, arr, color='grey', alpha=0.3)\n",
    "plt.xlabel('Episode')\n",
    "plt.ylabel('Total rewards')"
   ]
  },
  {
   "cell_type": "code",
   "execution_count": 17,
   "metadata": {},
   "outputs": [
    {
     "data": {
      "text/plain": [
       "Text(0, 0.5, 'Total rewards')"
      ]
     },
     "execution_count": 17,
     "metadata": {},
     "output_type": "execute_result"
    },
    {
     "data": {
      "image/png": "[encoded data removed]",
      "text/plain": [
       "<Figure size 432x288 with 1 Axes>"
      ]
     },
     "metadata": {
      "needs_background": "light"
     },
     "output_type": "display_data"
    }
   ],
   "source": [
    "eps, arr = np.array(rewards_list).T\n",
    "smoothed_arr = running_mean(arr, 10)\n",
    "plt.plot(eps[-len(smoothed_arr):], smoothed_arr)\n",
    "plt.plot(eps, arr, color='grey', alpha=0.3)\n",
    "plt.xlabel('Episode')\n",
    "plt.ylabel('Total rewards')"
   ]
  },
  {
   "cell_type": "code",
   "execution_count": null,
   "metadata": {},
   "outputs": [],
   "source": [
    "eps, arr = np.array(gloss_list).T\n",
    "smoothed_arr = running_mean(arr, 10)\n",
    "plt.plot(eps[-len(smoothed_arr):], smoothed_arr)\n",
    "plt.plot(eps, arr, color='grey', alpha=0.3)\n",
    "plt.xlabel('Episode')\n",
    "plt.ylabel('G losses')`"
   ]
  },
  {
   "cell_type": "code",
   "execution_count": null,
   "metadata": {},
   "outputs": [],
   "source": [
    "eps, arr = np.array(dloss_list).T\n",
    "smoothed_arr = running_mean(arr, 10)\n",
    "plt.plot(eps[-len(smoothed_arr):], smoothed_arr)\n",
    "plt.plot(eps, arr, color='grey', alpha=0.3)\n",
    "plt.xlabel('Episode')\n",
    "plt.ylabel('D losses')"
   ]
  },
  {
   "cell_type": "markdown",
   "metadata": {},
   "source": [
    "## Testing\n",
    "\n",
    "Let's checkout how our trained agent plays the game."
   ]
  },
  {
   "cell_type": "code",
   "execution_count": 36,
   "metadata": {},
   "outputs": [
    {
     "name": "stdout",
     "output_type": "stream",
     "text": [
      "\u001b[33mWARN: gym.spaces.Box autodetected dtype as <class 'numpy.float32'>. Please provide explicit dtype.\u001b[0m\n",
      "\u001b[33mWARN: gym.spaces.Box autodetected dtype as <class 'numpy.float32'>. Please provide explicit dtype.\u001b[0m\n",
      "INFO:tensorflow:Restoring parameters from checkpoints/model.ckpt\n"
     ]
    },
    {
     "name": "stderr",
     "output_type": "stream",
     "text": [
      "/home/arasdar/anaconda3/envs/env/lib/python3.6/site-packages/gym/__init__.py:22: UserWarning: DEPRECATION WARNING: to improve load times, gym no longer automatically loads gym.spaces. Please run \"import gym.spaces\" to load gym.spaces on your own. This warning will turn into an error in a future version of gym.\n",
      "  warnings.warn('DEPRECATION WARNING: to improve load times, gym no longer automatically loads gym.spaces. Please run \"import gym.spaces\" to load gym.spaces on your own. This warning will turn into an error in a future version of gym.')\n"
     ]
    },
    {
     "name": "stdout",
     "output_type": "stream",
     "text": [
      "total_reward: 500.0\n"
     ]
    }
   ],
   "source": [
    "import gym\n",
    "env = gym.make('CartPole-v0')\n",
    "env = gym.make('CartPole-v1')\n",
    "# env = gym.make('Acrobot-v1')\n",
    "# env = gym.make('MountainCar-v0')\n",
    "# env = gym.make('Pendulum-v0')\n",
    "# env = gym.make('Blackjack-v0')\n",
    "# env = gym.make('FrozenLake-v0')\n",
    "# env = gym.make('AirRaid-ram-v0')\n",
    "# env = gym.make('AirRaid-v0')\n",
    "# env = gym.make('BipedalWalker-v2')\n",
    "# env = gym.make('Copy-v0')\n",
    "# env = gym.make('CarRacing-v0')\n",
    "# env = gym.make('Ant-v2') #mujoco\n",
    "# env = gym.make('FetchPickAndPlace-v1') # mujoco required!\n",
    "\n",
    "with tf.Session() as sess:\n",
    "    sess.run(tf.global_variables_initializer())\n",
    "    saver.restore(sess, 'checkpoints/model.ckpt')    \n",
    "    #saver.restore(sess, tf.train.latest_checkpoint('checkpoints'))\n",
    "    \n",
    "    # Episodes/epochs\n",
    "    for _ in range(1):\n",
    "        state = env.reset()\n",
    "        total_reward = 0\n",
    "\n",
    "        # Steps/batches\n",
    "        while True:\n",
    "            env.render()\n",
    "            action_logits = sess.run(model.actions_logits, feed_dict={model.states: state.reshape([1, -1])})\n",
    "            action = np.argmax(action_logits)\n",
    "            state, reward, done, _ = env.step(action)\n",
    "            total_reward += reward\n",
    "            if done:\n",
    "                print('total_reward: {}'.format(total_reward))\n",
    "                break\n",
    "                \n",
    "env.close()"
   ]
  },
  {
   "cell_type": "markdown",
   "metadata": {},
   "source": [
    "## Extending this\n",
    "\n",
    "So, Cart-Pole is a pretty simple game. However, the same model can be used to train an agent to play something much more complicated like Pong or Space Invaders. Instead of a state like we're using here though, you'd want to use convolutional layers to get the state from the screen images.\n",
    "\n",
    "![Deep Q-Learning Atari](assets/atari-network.png)\n",
    "\n",
    "I'll leave it as a challenge for you to use deep Q-learning to train an agent to play Atari games. Here's the original paper which will get you started: http://www.davidqiu.com:8888/research/nature14236.pdf."
   ]
  },
  {
   "cell_type": "code",
   "execution_count": null,
   "metadata": {},
   "outputs": [],
   "source": []
  }
 ],
 "metadata": {
  "kernelspec": {
   "display_name": "Python 3",
   "language": "python",
   "name": "python3"
  },
  "language_info": {
   "codemirror_mode": {
    "name": "ipython",
    "version": 3
   },
   "file_extension": ".py",
   "mimetype": "text/x-python",
   "name": "python",
   "nbconvert_exporter": "python",
   "pygments_lexer": "ipython3",
   "version": "3.6.6"
  }
 },
 "nbformat": 4,
 "nbformat_minor": 2
}
