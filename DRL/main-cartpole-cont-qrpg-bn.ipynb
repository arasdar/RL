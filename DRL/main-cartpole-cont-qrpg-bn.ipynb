{
 "cells": [
  {
   "cell_type": "code",
   "execution_count": 1,
   "metadata": {},
   "outputs": [
    {
     "name": "stdout",
     "output_type": "stream",
     "text": [
      "TensorFlow Version: 1.7.1\n",
      "Default GPU Device: \n"
     ]
    }
   ],
   "source": [
    "# In this one we should define and detect GPUs for tensorflow\n",
    "# GPUs or CPU\n",
    "import tensorflow as tf\n",
    "\n",
    "# Check TensorFlow Version\n",
    "print('TensorFlow Version: {}'.format(tf.__version__))\n",
    "\n",
    "# Check for a GPU\n",
    "print('Default GPU Device: {}'.format(tf.test.gpu_device_name()))"
   ]
  },
  {
   "cell_type": "code",
   "execution_count": 2,
   "metadata": {},
   "outputs": [],
   "source": [
    "import numpy as np\n",
    "import gym\n",
    "env = gym.make('CartPole-v0')\n",
    "env = gym.make('CartPole-v1')"
   ]
  },
  {
   "cell_type": "code",
   "execution_count": 3,
   "metadata": {},
   "outputs": [],
   "source": [
    "def model_input(state_size):\n",
    "    #states = tf.placeholder(tf.float32, [None, *state_size], name='states')\n",
    "    states = tf.placeholder(tf.float32, [None, state_size], name='states')\n",
    "    actions = tf.placeholder(tf.int32, [None], name='actions')\n",
    "    targetQs = tf.placeholder(tf.float32, [None], name='targetQs')\n",
    "    rates = tf.placeholder(tf.float32, [None], name='rates')\n",
    "    training = tf.placeholder(tf.bool, [], name='training')\n",
    "    return states, actions, targetQs, rates, training"
   ]
  },
  {
   "cell_type": "code",
   "execution_count": 4,
   "metadata": {},
   "outputs": [],
   "source": [
    "# Generator/Controller: Generating/prediting the actions\n",
    "def generator(states, action_size, hidden_size, reuse=False, alpha=0.1, training=False):\n",
    "    with tf.variable_scope('generator', reuse=reuse):\n",
    "        # First fully connected layer\n",
    "        h1 = tf.layers.dense(inputs=states, units=hidden_size)\n",
    "        bn1 = tf.layers.batch_normalization(h1, training=training)        \n",
    "        nl1 = tf.maximum(alpha * bn1, bn1)\n",
    "        \n",
    "        # Second fully connected layer\n",
    "        h2 = tf.layers.dense(inputs=nl1, units=hidden_size)\n",
    "        bn2 = tf.layers.batch_normalization(h2, training=training)        \n",
    "        nl2 = tf.maximum(alpha * bn2, bn2)\n",
    "        \n",
    "        # Output layer\n",
    "        logits = tf.layers.dense(inputs=nl2, units=action_size)        \n",
    "        #predictions = tf.nn.softmax(logits)\n",
    "\n",
    "        # return actions logits\n",
    "        return logits"
   ]
  },
  {
   "cell_type": "code",
   "execution_count": 5,
   "metadata": {},
   "outputs": [],
   "source": [
    "def discriminator(states, actions, hidden_size, reuse=False, alpha=0.1, training=False):\n",
    "    with tf.variable_scope('discriminator', reuse=reuse):\n",
    "        # First fully connected layer\n",
    "        h1 = tf.layers.dense(inputs=states, units=action_size)\n",
    "        bn1 = tf.layers.batch_normalization(h1, training=training)        \n",
    "        nl1 = tf.maximum(alpha * bn1, bn1)\n",
    "        \n",
    "        # Second fully connected layer\n",
    "        nl1_fused = tf.concat(axis=1, values=[nl1, actions])\n",
    "        h2 = tf.layers.dense(inputs=nl1_fused, units=hidden_size)\n",
    "        bn2 = tf.layers.batch_normalization(h2, training=training)        \n",
    "        nl2 = tf.maximum(alpha * bn2, bn2)\n",
    "                \n",
    "        # Output layer\n",
    "        logits = tf.layers.dense(inputs=nl2, units=1)        \n",
    "        #predictions = tf.nn.softmax(logits)\n",
    "\n",
    "        # return rewards logits\n",
    "        return logits"
   ]
  },
  {
   "cell_type": "code",
   "execution_count": 6,
   "metadata": {},
   "outputs": [],
   "source": [
    "def model_loss(action_size, hidden_size, states, actions, targetQs, rates, training):\n",
    "    actions_logits = generator(states=states, hidden_size=hidden_size, action_size=action_size, training=training)\n",
    "    actions_labels = tf.one_hot(indices=actions, depth=action_size, dtype=actions_logits.dtype)\n",
    "    neg_log_prob = tf.nn.softmax_cross_entropy_with_logits_v2(logits=actions_logits, \n",
    "                                                              labels=actions_labels)\n",
    "    targetQs = tf.reshape(targetQs, shape=[-1, 1])\n",
    "    gloss = tf.reduce_mean(neg_log_prob * targetQs) # DPG\n",
    "    gQs = discriminator(actions=actions_logits, hidden_size=hidden_size, states=states, training=training)\n",
    "    dQs = discriminator(actions=actions_labels, hidden_size=hidden_size, states=states, training=training, \n",
    "                        reuse=True)\n",
    "    rates = tf.reshape(rates, shape=[-1, 1])\n",
    "    dlossA = tf.reduce_mean(tf.nn.sigmoid_cross_entropy_with_logits(logits=dQs, # GAN\n",
    "                                                                    labels=rates)) # 0-1\n",
    "    dlossA += tf.reduce_mean(tf.nn.sigmoid_cross_entropy_with_logits(logits=dQs, # GAN\n",
    "                                                                     labels=tf.nn.sigmoid(targetQs))) # 0-1\n",
    "    dlossQ = tf.reduce_mean(tf.square(gQs - targetQs)) # DQN\n",
    "    dlossQ += tf.reduce_mean(tf.square(dQs - targetQs)) # DQN\n",
    "    return actions_logits, gQs, gloss, dlossA, dlossQ"
   ]
  },
  {
   "cell_type": "code",
   "execution_count": 7,
   "metadata": {},
   "outputs": [],
   "source": [
    "# Optimizating/training/learning G & D\n",
    "def model_opt(g_loss, d_lossA, d_lossQ, g_learning_rate, d_learning_rate):\n",
    "    # Get weights and bias to update\n",
    "    t_vars = tf.trainable_variables()\n",
    "    g_vars = [var for var in t_vars if var.name.startswith('generator')]\n",
    "    d_vars = [var for var in t_vars if var.name.startswith('discriminator')]\n",
    "\n",
    "    # Optimize\n",
    "    with tf.control_dependencies(tf.get_collection(tf.GraphKeys.UPDATE_OPS)): # Required for batchnorm (BN)\n",
    "        g_opt = tf.train.AdamOptimizer(g_learning_rate).minimize(g_loss, var_list=g_vars)\n",
    "        d_optA = tf.train.AdamOptimizer(d_learning_rate).minimize(d_lossA, var_list=d_vars)\n",
    "        d_optQ = tf.train.AdamOptimizer(d_learning_rate).minimize(d_lossQ, var_list=d_vars)\n",
    "\n",
    "    return g_opt, d_optA, d_optQ"
   ]
  },
  {
   "cell_type": "code",
   "execution_count": 8,
   "metadata": {},
   "outputs": [],
   "source": [
    "class Model:\n",
    "    def __init__(self, state_size, action_size, hidden_size, g_learning_rate, d_learning_rate):\n",
    "\n",
    "        # Data of the Model: make the data available inside the framework\n",
    "        self.states, self.actions, self.targetQs, self.rates, self.training = model_input(state_size=state_size)\n",
    "\n",
    "        # Create the Model: calculating the loss and forwad pass\n",
    "        self.actions_logits, self.Qs_logits, self.g_loss, self.d_lossA, self.d_lossQ = model_loss(\n",
    "            action_size=action_size, hidden_size=hidden_size, # model init parameters\n",
    "            states=self.states, actions=self.actions, targetQs=self.targetQs, \n",
    "            rates=self.rates, training=self.training) # model input\n",
    "        \n",
    "        # Update the model: backward pass and backprop\n",
    "        self.g_opt, self.d_optA, self.d_optQ = model_opt(g_loss=self.g_loss, \n",
    "                                                         d_lossA=self.d_lossA, \n",
    "                                                         d_lossQ=self.d_lossQ, \n",
    "                                                         g_learning_rate=g_learning_rate, \n",
    "                                                         d_learning_rate=d_learning_rate)"
   ]
  },
  {
   "cell_type": "code",
   "execution_count": 9,
   "metadata": {},
   "outputs": [],
   "source": [
    "from collections import deque\n",
    "class Memory():\n",
    "    def __init__(self, max_size = 1000):\n",
    "        self.buffer = deque(maxlen=max_size) # data batch\n",
    "        self.rates = deque(maxlen=max_size) # rates\n",
    "#     def sample(self, batch_size):\n",
    "#         idx = np.random.choice(np.arange(len(self.buffer)), # ==  self.rates\n",
    "#                                size=batch_size, \n",
    "#                                replace=False)\n",
    "#         return [self.buffer[ii] for ii in idx], [self.rates[ii] for ii in idx]"
   ]
  },
  {
   "cell_type": "markdown",
   "metadata": {},
   "source": [
    "## Hyperparameters\n",
    "\n",
    "One of the more difficult aspects of reinforcememt learning are the large number of hyperparameters. Not only are we tuning the network, but we're tuning the simulation."
   ]
  },
  {
   "cell_type": "code",
   "execution_count": 10,
   "metadata": {},
   "outputs": [
    {
     "data": {
      "text/plain": [
       "(Box(4,), Discrete(2))"
      ]
     },
     "execution_count": 10,
     "metadata": {},
     "output_type": "execute_result"
    }
   ],
   "source": [
    "env.observation_space, env.action_space"
   ]
  },
  {
   "cell_type": "code",
   "execution_count": 11,
   "metadata": {},
   "outputs": [],
   "source": [
    "# Exploration parameters\n",
    "explore_start = 1.0            # exploration probability at start\n",
    "explore_stop = 0.01           # minimum exploration probability \n",
    "decay_rate = 0.0001            # exponential decay rate for exploration prob\n",
    "\n",
    "# Network parameters\n",
    "state_size = 4\n",
    "action_size = 2\n",
    "hidden_size = 4*2             # number of units in each Q-network hidden layer\n",
    "g_learning_rate = 1e-4         # Q-network learning rate\n",
    "d_learning_rate = 1e-4         # Q-network learning rate\n",
    "\n",
    "# Memory parameters\n",
    "memory_size = int(1e5)            # memory capacity\n",
    "batch_size = int(1e3)             # experience mini-batch size: 200/500 a successfull episode size\n",
    "gamma = 0.99                   # future reward discount"
   ]
  },
  {
   "cell_type": "code",
   "execution_count": 12,
   "metadata": {},
   "outputs": [],
   "source": [
    "# Reset/init the graph/session\n",
    "graph = tf.reset_default_graph()\n",
    "\n",
    "# Init the model\n",
    "model = Model(action_size=action_size, state_size=state_size, hidden_size=hidden_size,\n",
    "              g_learning_rate=g_learning_rate, d_learning_rate=d_learning_rate)\n",
    "\n",
    "# Init the memory\n",
    "memory = Memory(max_size=memory_size)"
   ]
  },
  {
   "cell_type": "code",
   "execution_count": 13,
   "metadata": {},
   "outputs": [],
   "source": [
    "state = env.reset()\n",
    "total_reward = 0\n",
    "num_step = 0\n",
    "for _ in range(memory_size):\n",
    "    action = env.action_space.sample()\n",
    "    next_state, reward, done, _ = env.step(action)\n",
    "    memory.buffer.append([state, action, next_state, reward, float(done)])\n",
    "    memory.rates.append(-1) # empty\n",
    "    num_step += 1 # memory incremented\n",
    "    total_reward += reward\n",
    "    state = next_state\n",
    "    if done is True:\n",
    "        state = env.reset()\n",
    "        rate = total_reward/500\n",
    "        total_reward = 0 # reset\n",
    "        for idx in range(num_step): # episode length\n",
    "            if memory.rates[-1-idx] == -1:\n",
    "                memory.rates[-1-idx] = rate\n",
    "        num_step = 0 # reset"
   ]
  },
  {
   "cell_type": "markdown",
   "metadata": {},
   "source": [
    "## Training the model\n",
    "\n",
    "Below we'll train our agent. If you want to watch it train, uncomment the `env.render()` line. This is slow because it's rendering the frames slower than the network can train. But, it's cool to watch the agent get better at the game."
   ]
  },
  {
   "cell_type": "code",
   "execution_count": 14,
   "metadata": {},
   "outputs": [
    {
     "name": "stdout",
     "output_type": "stream",
     "text": [
      "Episode:0 meanR:20.0000 R:20.0000 rate:0.0400 gloss:1.0219 dlossA:1.6712 dlossQ:4.3125 exploreP:0.9980\n",
      "Episode:1 meanR:22.0000 R:24.0000 rate:0.0480 gloss:1.0101 dlossA:1.6616 dlossQ:4.3332 exploreP:0.9957\n",
      "Episode:2 meanR:25.3333 R:32.0000 rate:0.0640 gloss:0.8992 dlossA:1.6323 dlossQ:3.8439 exploreP:0.9925\n",
      "Episode:3 meanR:25.5000 R:26.0000 rate:0.0520 gloss:1.0255 dlossA:1.6088 dlossQ:4.8900 exploreP:0.9900\n",
      "Episode:4 meanR:26.6000 R:31.0000 rate:0.0620 gloss:0.9504 dlossA:1.5932 dlossQ:5.8639 exploreP:0.9869\n",
      "Episode:5 meanR:25.3333 R:19.0000 rate:0.0380 gloss:0.6676 dlossA:1.5821 dlossQ:2.9088 exploreP:0.9851\n",
      "Episode:6 meanR:23.8571 R:15.0000 rate:0.0300 gloss:1.4719 dlossA:1.5855 dlossQ:14.1730 exploreP:0.9836\n",
      "Episode:7 meanR:23.8750 R:24.0000 rate:0.0480 gloss:0.7421 dlossA:1.5573 dlossQ:3.4824 exploreP:0.9813\n",
      "Episode:8 meanR:24.7778 R:32.0000 rate:0.0640 gloss:0.8018 dlossA:1.5518 dlossQ:4.5131 exploreP:0.9782\n",
      "Episode:9 meanR:24.7000 R:24.0000 rate:0.0480 gloss:0.7097 dlossA:1.5398 dlossQ:3.4014 exploreP:0.9758\n",
      "Episode:10 meanR:24.4545 R:22.0000 rate:0.0440 gloss:0.5628 dlossA:1.5322 dlossQ:2.5423 exploreP:0.9737\n",
      "Episode:11 meanR:23.4167 R:12.0000 rate:0.0240 gloss:1.0686 dlossA:1.5326 dlossQ:6.6244 exploreP:0.9726\n",
      "Episode:12 meanR:23.0769 R:19.0000 rate:0.0380 gloss:0.8589 dlossA:1.5199 dlossQ:5.0130 exploreP:0.9707\n",
      "Episode:13 meanR:22.6429 R:17.0000 rate:0.0340 gloss:0.7277 dlossA:1.5226 dlossQ:3.3193 exploreP:0.9691\n",
      "Episode:14 meanR:21.8000 R:10.0000 rate:0.0200 gloss:0.9850 dlossA:1.5324 dlossQ:7.3593 exploreP:0.9682\n",
      "Episode:15 meanR:22.8125 R:38.0000 rate:0.0760 gloss:0.6675 dlossA:1.5112 dlossQ:3.7297 exploreP:0.9645\n",
      "Episode:16 meanR:22.5882 R:19.0000 rate:0.0380 gloss:0.8632 dlossA:1.5137 dlossQ:5.5440 exploreP:0.9627\n",
      "Episode:17 meanR:22.1667 R:15.0000 rate:0.0300 gloss:0.9593 dlossA:1.5026 dlossQ:6.3079 exploreP:0.9613\n",
      "Episode:18 meanR:22.3684 R:26.0000 rate:0.0520 gloss:0.7656 dlossA:1.5088 dlossQ:4.8510 exploreP:0.9588\n",
      "Episode:19 meanR:22.9500 R:34.0000 rate:0.0680 gloss:0.6322 dlossA:1.4968 dlossQ:3.3613 exploreP:0.9556\n",
      "Episode:20 meanR:22.7143 R:18.0000 rate:0.0360 gloss:0.9381 dlossA:1.4787 dlossQ:5.6801 exploreP:0.9539\n",
      "Episode:21 meanR:22.7273 R:23.0000 rate:0.0460 gloss:0.6547 dlossA:1.4931 dlossQ:3.5611 exploreP:0.9517\n",
      "Episode:22 meanR:22.7826 R:24.0000 rate:0.0480 gloss:0.8297 dlossA:1.4914 dlossQ:6.4171 exploreP:0.9495\n",
      "Episode:23 meanR:22.5417 R:17.0000 rate:0.0340 gloss:0.5772 dlossA:1.4855 dlossQ:3.5432 exploreP:0.9479\n",
      "Episode:24 meanR:22.2400 R:15.0000 rate:0.0300 gloss:0.6092 dlossA:1.4708 dlossQ:3.3029 exploreP:0.9465\n",
      "Episode:25 meanR:21.8462 R:12.0000 rate:0.0240 gloss:0.4903 dlossA:1.4587 dlossQ:2.5030 exploreP:0.9453\n",
      "Episode:26 meanR:22.0741 R:28.0000 rate:0.0560 gloss:0.4778 dlossA:1.4657 dlossQ:2.3504 exploreP:0.9427\n",
      "Episode:27 meanR:21.6786 R:11.0000 rate:0.0220 gloss:0.7898 dlossA:1.4640 dlossQ:4.5647 exploreP:0.9417\n",
      "Episode:28 meanR:21.5172 R:17.0000 rate:0.0340 gloss:0.5905 dlossA:1.4626 dlossQ:3.0683 exploreP:0.9401\n",
      "Episode:29 meanR:21.3667 R:17.0000 rate:0.0340 gloss:0.6174 dlossA:1.4633 dlossQ:4.5286 exploreP:0.9385\n",
      "Episode:30 meanR:22.0645 R:43.0000 rate:0.0860 gloss:0.5151 dlossA:1.4579 dlossQ:3.1247 exploreP:0.9345\n",
      "Episode:31 meanR:22.0938 R:23.0000 rate:0.0460 gloss:0.5196 dlossA:1.4554 dlossQ:3.2056 exploreP:0.9324\n",
      "Episode:32 meanR:21.9091 R:16.0000 rate:0.0320 gloss:0.6334 dlossA:1.4531 dlossQ:3.7976 exploreP:0.9309\n",
      "Episode:33 meanR:21.5294 R:9.0000 rate:0.0180 gloss:0.8134 dlossA:1.4486 dlossQ:5.8635 exploreP:0.9301\n",
      "Episode:34 meanR:21.3143 R:14.0000 rate:0.0280 gloss:0.6538 dlossA:1.4506 dlossQ:3.9333 exploreP:0.9288\n",
      "Episode:35 meanR:21.5833 R:31.0000 rate:0.0620 gloss:0.4900 dlossA:1.4329 dlossQ:2.6032 exploreP:0.9260\n",
      "Episode:36 meanR:21.5135 R:19.0000 rate:0.0380 gloss:0.4441 dlossA:1.4369 dlossQ:2.3713 exploreP:0.9243\n",
      "Episode:37 meanR:21.3158 R:14.0000 rate:0.0280 gloss:0.5426 dlossA:1.4349 dlossQ:3.2090 exploreP:0.9230\n",
      "Episode:38 meanR:21.0769 R:12.0000 rate:0.0240 gloss:0.6505 dlossA:1.4375 dlossQ:3.8519 exploreP:0.9219\n",
      "Episode:39 meanR:21.0000 R:18.0000 rate:0.0360 gloss:0.4829 dlossA:1.4227 dlossQ:2.6968 exploreP:0.9202\n",
      "Episode:40 meanR:20.9756 R:20.0000 rate:0.0400 gloss:0.5609 dlossA:1.4278 dlossQ:4.3997 exploreP:0.9184\n",
      "Episode:41 meanR:20.8333 R:15.0000 rate:0.0300 gloss:0.6462 dlossA:1.4259 dlossQ:5.4766 exploreP:0.9171\n",
      "Episode:42 meanR:21.1395 R:34.0000 rate:0.0680 gloss:0.5134 dlossA:1.4261 dlossQ:3.2797 exploreP:0.9140\n",
      "Episode:43 meanR:21.1136 R:20.0000 rate:0.0400 gloss:0.6126 dlossA:1.4289 dlossQ:5.1046 exploreP:0.9122\n",
      "Episode:44 meanR:21.0889 R:20.0000 rate:0.0400 gloss:0.5517 dlossA:1.4261 dlossQ:4.2280 exploreP:0.9104\n",
      "Episode:45 meanR:21.6304 R:46.0000 rate:0.0920 gloss:0.4138 dlossA:1.4115 dlossQ:2.4645 exploreP:0.9062\n",
      "Episode:46 meanR:21.4468 R:13.0000 rate:0.0260 gloss:0.4938 dlossA:1.4307 dlossQ:3.2770 exploreP:0.9051\n",
      "Episode:47 meanR:21.1875 R:9.0000 rate:0.0180 gloss:0.3642 dlossA:1.3994 dlossQ:2.0566 exploreP:0.9043\n",
      "Episode:48 meanR:21.1837 R:21.0000 rate:0.0420 gloss:0.5241 dlossA:1.4127 dlossQ:3.0404 exploreP:0.9024\n",
      "Episode:49 meanR:21.1800 R:21.0000 rate:0.0420 gloss:0.4696 dlossA:1.3943 dlossQ:2.7546 exploreP:0.9005\n",
      "Episode:50 meanR:21.2549 R:25.0000 rate:0.0500 gloss:0.4605 dlossA:1.3946 dlossQ:2.9643 exploreP:0.8983\n",
      "Episode:51 meanR:21.4423 R:31.0000 rate:0.0620 gloss:0.4547 dlossA:1.3920 dlossQ:2.6959 exploreP:0.8955\n",
      "Episode:52 meanR:21.3585 R:17.0000 rate:0.0340 gloss:0.4587 dlossA:1.4114 dlossQ:2.7708 exploreP:0.8940\n",
      "Episode:53 meanR:21.3148 R:19.0000 rate:0.0380 gloss:0.5284 dlossA:1.4024 dlossQ:4.2256 exploreP:0.8924\n",
      "Episode:54 meanR:21.0727 R:8.0000 rate:0.0160 gloss:0.4603 dlossA:1.4128 dlossQ:2.8086 exploreP:0.8917\n",
      "Episode:55 meanR:21.3393 R:36.0000 rate:0.0720 gloss:0.3977 dlossA:1.3883 dlossQ:2.4302 exploreP:0.8885\n",
      "Episode:56 meanR:21.3158 R:20.0000 rate:0.0400 gloss:0.3666 dlossA:1.3983 dlossQ:2.2698 exploreP:0.8867\n",
      "Episode:57 meanR:21.2069 R:15.0000 rate:0.0300 gloss:0.4397 dlossA:1.3866 dlossQ:2.7478 exploreP:0.8854\n",
      "Episode:58 meanR:21.4068 R:33.0000 rate:0.0660 gloss:0.5041 dlossA:1.3911 dlossQ:3.5908 exploreP:0.8825\n",
      "Episode:59 meanR:21.2500 R:12.0000 rate:0.0240 gloss:0.3703 dlossA:1.3612 dlossQ:2.4765 exploreP:0.8815\n",
      "Episode:60 meanR:21.2623 R:22.0000 rate:0.0440 gloss:0.3598 dlossA:1.3844 dlossQ:2.2518 exploreP:0.8796\n",
      "Episode:61 meanR:21.1290 R:13.0000 rate:0.0260 gloss:0.3556 dlossA:1.3830 dlossQ:2.3218 exploreP:0.8784\n",
      "Episode:62 meanR:21.2381 R:28.0000 rate:0.0560 gloss:0.3545 dlossA:1.3765 dlossQ:2.2277 exploreP:0.8760\n",
      "Episode:63 meanR:21.1719 R:17.0000 rate:0.0340 gloss:0.3705 dlossA:1.3731 dlossQ:2.4397 exploreP:0.8745\n",
      "Episode:64 meanR:21.2923 R:29.0000 rate:0.0580 gloss:0.3795 dlossA:1.3785 dlossQ:2.4242 exploreP:0.8720\n",
      "Episode:65 meanR:21.2576 R:19.0000 rate:0.0380 gloss:0.3722 dlossA:1.3780 dlossQ:2.3847 exploreP:0.8704\n",
      "Episode:66 meanR:21.1045 R:11.0000 rate:0.0220 gloss:0.3959 dlossA:1.3731 dlossQ:2.6868 exploreP:0.8695\n",
      "Episode:67 meanR:21.3088 R:35.0000 rate:0.0700 gloss:0.3630 dlossA:1.3612 dlossQ:2.4305 exploreP:0.8665\n",
      "Episode:68 meanR:21.3043 R:21.0000 rate:0.0420 gloss:0.4231 dlossA:1.3644 dlossQ:2.9826 exploreP:0.8647\n",
      "Episode:69 meanR:21.1857 R:13.0000 rate:0.0260 gloss:0.3490 dlossA:1.3621 dlossQ:2.2386 exploreP:0.8636\n",
      "Episode:70 meanR:21.3521 R:33.0000 rate:0.0660 gloss:0.3708 dlossA:1.3585 dlossQ:2.5002 exploreP:0.8607\n",
      "Episode:71 meanR:21.4028 R:25.0000 rate:0.0500 gloss:0.3706 dlossA:1.3742 dlossQ:2.7083 exploreP:0.8586\n",
      "Episode:72 meanR:21.4795 R:27.0000 rate:0.0540 gloss:0.2904 dlossA:1.3484 dlossQ:2.0186 exploreP:0.8563\n",
      "Episode:73 meanR:21.5946 R:30.0000 rate:0.0600 gloss:0.3224 dlossA:1.3563 dlossQ:2.2716 exploreP:0.8538\n",
      "Episode:74 meanR:21.4933 R:14.0000 rate:0.0280 gloss:0.3669 dlossA:1.3643 dlossQ:2.5584 exploreP:0.8526\n",
      "Episode:75 meanR:21.5395 R:25.0000 rate:0.0500 gloss:0.3281 dlossA:1.3603 dlossQ:2.3407 exploreP:0.8505\n",
      "Episode:76 meanR:21.5455 R:22.0000 rate:0.0440 gloss:0.3050 dlossA:1.3478 dlossQ:2.1274 exploreP:0.8487\n",
      "Episode:77 meanR:21.4103 R:11.0000 rate:0.0220 gloss:0.2924 dlossA:1.3329 dlossQ:1.9803 exploreP:0.8477\n",
      "Episode:78 meanR:21.2658 R:10.0000 rate:0.0200 gloss:0.2907 dlossA:1.3532 dlossQ:2.0743 exploreP:0.8469\n"
     ]
    },
    {
     "name": "stdout",
     "output_type": "stream",
     "text": [
      "Episode:79 meanR:21.2375 R:19.0000 rate:0.0380 gloss:0.3361 dlossA:1.3612 dlossQ:2.3680 exploreP:0.8453\n",
      "Episode:80 meanR:21.5309 R:45.0000 rate:0.0900 gloss:0.2859 dlossA:1.3445 dlossQ:2.0742 exploreP:0.8416\n",
      "Episode:81 meanR:21.5610 R:24.0000 rate:0.0480 gloss:0.3253 dlossA:1.3473 dlossQ:2.3347 exploreP:0.8396\n",
      "Episode:82 meanR:21.9398 R:53.0000 rate:0.1060 gloss:0.3085 dlossA:1.3460 dlossQ:2.2611 exploreP:0.8352\n",
      "Episode:83 meanR:21.8571 R:15.0000 rate:0.0300 gloss:0.2995 dlossA:1.3432 dlossQ:2.1573 exploreP:0.8339\n",
      "Episode:84 meanR:21.9176 R:27.0000 rate:0.0540 gloss:0.3203 dlossA:1.3387 dlossQ:2.1947 exploreP:0.8317\n",
      "Episode:85 meanR:21.8372 R:15.0000 rate:0.0300 gloss:0.2613 dlossA:1.3386 dlossQ:2.0809 exploreP:0.8305\n",
      "Episode:86 meanR:21.7586 R:15.0000 rate:0.0300 gloss:0.3018 dlossA:1.3404 dlossQ:2.1747 exploreP:0.8293\n",
      "Episode:87 meanR:22.0455 R:47.0000 rate:0.0940 gloss:0.3129 dlossA:1.3461 dlossQ:2.3926 exploreP:0.8254\n",
      "Episode:88 meanR:21.9775 R:16.0000 rate:0.0320 gloss:0.2923 dlossA:1.3441 dlossQ:2.1910 exploreP:0.8241\n",
      "Episode:89 meanR:21.9111 R:16.0000 rate:0.0320 gloss:0.2555 dlossA:1.3431 dlossQ:2.0884 exploreP:0.8228\n",
      "Episode:90 meanR:21.8681 R:18.0000 rate:0.0360 gloss:0.2682 dlossA:1.3291 dlossQ:2.0467 exploreP:0.8214\n",
      "Episode:91 meanR:21.8913 R:24.0000 rate:0.0480 gloss:0.2742 dlossA:1.3324 dlossQ:2.1568 exploreP:0.8194\n",
      "Episode:92 meanR:21.8172 R:15.0000 rate:0.0300 gloss:0.3408 dlossA:1.3432 dlossQ:2.5385 exploreP:0.8182\n",
      "Episode:93 meanR:21.8191 R:22.0000 rate:0.0440 gloss:0.2597 dlossA:1.3296 dlossQ:2.0725 exploreP:0.8164\n",
      "Episode:94 meanR:22.0105 R:40.0000 rate:0.0800 gloss:0.2936 dlossA:1.3301 dlossQ:2.2250 exploreP:0.8132\n",
      "Episode:95 meanR:21.9896 R:20.0000 rate:0.0400 gloss:0.3066 dlossA:1.3296 dlossQ:2.3038 exploreP:0.8116\n",
      "Episode:96 meanR:22.0103 R:24.0000 rate:0.0480 gloss:0.2425 dlossA:1.3145 dlossQ:1.9876 exploreP:0.8097\n",
      "Episode:97 meanR:22.1020 R:31.0000 rate:0.0620 gloss:0.2738 dlossA:1.3339 dlossQ:2.2030 exploreP:0.8072\n",
      "Episode:98 meanR:22.0404 R:16.0000 rate:0.0320 gloss:0.2380 dlossA:1.3252 dlossQ:2.1017 exploreP:0.8059\n",
      "Episode:99 meanR:22.1000 R:28.0000 rate:0.0560 gloss:0.2549 dlossA:1.3257 dlossQ:2.0949 exploreP:0.8037\n",
      "Episode:100 meanR:22.2800 R:38.0000 rate:0.0760 gloss:0.2643 dlossA:1.3246 dlossQ:2.2097 exploreP:0.8007\n",
      "Episode:101 meanR:22.3300 R:29.0000 rate:0.0580 gloss:0.2616 dlossA:1.3230 dlossQ:2.1837 exploreP:0.7984\n",
      "Episode:102 meanR:22.1600 R:15.0000 rate:0.0300 gloss:0.2920 dlossA:1.3338 dlossQ:2.3160 exploreP:0.7972\n",
      "Episode:103 meanR:22.0300 R:13.0000 rate:0.0260 gloss:0.2616 dlossA:1.3254 dlossQ:2.1754 exploreP:0.7962\n",
      "Episode:104 meanR:21.8800 R:16.0000 rate:0.0320 gloss:0.2476 dlossA:1.3184 dlossQ:2.0675 exploreP:0.7949\n",
      "Episode:105 meanR:21.8000 R:11.0000 rate:0.0220 gloss:0.2501 dlossA:1.3184 dlossQ:2.1480 exploreP:0.7941\n",
      "Episode:106 meanR:22.6800 R:103.0000 rate:0.2060 gloss:0.2520 dlossA:1.3216 dlossQ:2.1814 exploreP:0.7860\n",
      "Episode:107 meanR:22.6200 R:18.0000 rate:0.0360 gloss:0.2915 dlossA:1.3291 dlossQ:2.3293 exploreP:0.7846\n",
      "Episode:108 meanR:22.5200 R:22.0000 rate:0.0440 gloss:0.2066 dlossA:1.3154 dlossQ:1.9589 exploreP:0.7829\n",
      "Episode:109 meanR:22.4300 R:15.0000 rate:0.0300 gloss:0.2399 dlossA:1.3132 dlossQ:2.1962 exploreP:0.7818\n",
      "Episode:110 meanR:22.6400 R:43.0000 rate:0.0860 gloss:0.2360 dlossA:1.3159 dlossQ:2.0876 exploreP:0.7785\n",
      "Episode:111 meanR:23.4300 R:91.0000 rate:0.1820 gloss:0.2298 dlossA:1.3138 dlossQ:2.0932 exploreP:0.7715\n",
      "Episode:112 meanR:23.3800 R:14.0000 rate:0.0280 gloss:0.2387 dlossA:1.3181 dlossQ:2.1769 exploreP:0.7704\n",
      "Episode:113 meanR:23.3200 R:11.0000 rate:0.0220 gloss:0.2343 dlossA:1.3212 dlossQ:2.1608 exploreP:0.7696\n",
      "Episode:114 meanR:23.5400 R:32.0000 rate:0.0640 gloss:0.2206 dlossA:1.3151 dlossQ:2.0841 exploreP:0.7672\n",
      "Episode:115 meanR:23.2700 R:11.0000 rate:0.0220 gloss:0.2070 dlossA:1.3037 dlossQ:2.0261 exploreP:0.7664\n",
      "Episode:116 meanR:23.2400 R:16.0000 rate:0.0320 gloss:0.2058 dlossA:1.3114 dlossQ:1.9167 exploreP:0.7651\n",
      "Episode:117 meanR:23.3200 R:23.0000 rate:0.0460 gloss:0.2359 dlossA:1.3080 dlossQ:2.1223 exploreP:0.7634\n",
      "Episode:118 meanR:23.2500 R:19.0000 rate:0.0380 gloss:0.2469 dlossA:1.3116 dlossQ:2.1646 exploreP:0.7620\n",
      "Episode:119 meanR:23.1700 R:26.0000 rate:0.0520 gloss:0.2110 dlossA:1.3096 dlossQ:2.0115 exploreP:0.7600\n",
      "Episode:120 meanR:23.1100 R:12.0000 rate:0.0240 gloss:0.2132 dlossA:1.3097 dlossQ:2.0437 exploreP:0.7591\n",
      "Episode:121 meanR:23.5500 R:67.0000 rate:0.1340 gloss:0.2448 dlossA:1.3111 dlossQ:2.1444 exploreP:0.7541\n",
      "Episode:122 meanR:23.9700 R:66.0000 rate:0.1320 gloss:0.2351 dlossA:1.3110 dlossQ:2.1253 exploreP:0.7492\n",
      "Episode:123 meanR:24.2400 R:44.0000 rate:0.0880 gloss:0.2020 dlossA:1.3098 dlossQ:2.0406 exploreP:0.7460\n",
      "Episode:124 meanR:24.3000 R:21.0000 rate:0.0420 gloss:0.2397 dlossA:1.3112 dlossQ:2.1312 exploreP:0.7444\n",
      "Episode:125 meanR:24.4200 R:24.0000 rate:0.0480 gloss:0.2252 dlossA:1.3052 dlossQ:2.0760 exploreP:0.7427\n",
      "Episode:126 meanR:24.6500 R:51.0000 rate:0.1020 gloss:0.2168 dlossA:1.3039 dlossQ:2.0224 exploreP:0.7389\n",
      "Episode:127 meanR:24.8200 R:28.0000 rate:0.0560 gloss:0.2522 dlossA:1.3167 dlossQ:2.1841 exploreP:0.7369\n",
      "Episode:128 meanR:25.1200 R:47.0000 rate:0.0940 gloss:0.2348 dlossA:1.3096 dlossQ:2.1229 exploreP:0.7335\n",
      "Episode:129 meanR:25.1600 R:21.0000 rate:0.0420 gloss:0.1942 dlossA:1.2968 dlossQ:2.0395 exploreP:0.7320\n",
      "Episode:130 meanR:24.9200 R:19.0000 rate:0.0380 gloss:0.1502 dlossA:1.2935 dlossQ:2.1644 exploreP:0.7306\n",
      "Episode:131 meanR:24.8800 R:19.0000 rate:0.0380 gloss:0.2128 dlossA:1.3045 dlossQ:2.0596 exploreP:0.7292\n",
      "Episode:132 meanR:25.0700 R:35.0000 rate:0.0700 gloss:0.2193 dlossA:1.3069 dlossQ:2.1146 exploreP:0.7267\n",
      "Episode:133 meanR:25.8500 R:87.0000 rate:0.1740 gloss:0.1979 dlossA:1.3007 dlossQ:2.0405 exploreP:0.7205\n",
      "Episode:134 meanR:25.9800 R:27.0000 rate:0.0540 gloss:0.1734 dlossA:1.3004 dlossQ:1.9304 exploreP:0.7186\n",
      "Episode:135 meanR:25.9100 R:24.0000 rate:0.0480 gloss:0.2243 dlossA:1.3086 dlossQ:2.1184 exploreP:0.7169\n",
      "Episode:136 meanR:25.9200 R:20.0000 rate:0.0400 gloss:0.1886 dlossA:1.2989 dlossQ:2.0454 exploreP:0.7155\n",
      "Episode:137 meanR:26.0400 R:26.0000 rate:0.0520 gloss:0.1940 dlossA:1.2979 dlossQ:2.0651 exploreP:0.7137\n",
      "Episode:138 meanR:26.2900 R:37.0000 rate:0.0740 gloss:0.2184 dlossA:1.3002 dlossQ:2.0911 exploreP:0.7111\n",
      "Episode:139 meanR:26.2700 R:16.0000 rate:0.0320 gloss:0.1973 dlossA:1.2988 dlossQ:2.0224 exploreP:0.7099\n",
      "Episode:140 meanR:26.2900 R:22.0000 rate:0.0440 gloss:0.2155 dlossA:1.3104 dlossQ:2.1344 exploreP:0.7084\n",
      "Episode:141 meanR:26.5600 R:42.0000 rate:0.0840 gloss:0.2001 dlossA:1.3029 dlossQ:2.0679 exploreP:0.7055\n",
      "Episode:142 meanR:26.3600 R:14.0000 rate:0.0280 gloss:0.2049 dlossA:1.3074 dlossQ:2.0646 exploreP:0.7045\n",
      "Episode:143 meanR:26.3200 R:16.0000 rate:0.0320 gloss:0.1539 dlossA:1.2904 dlossQ:1.8334 exploreP:0.7034\n",
      "Episode:144 meanR:26.3500 R:23.0000 rate:0.0460 gloss:0.1654 dlossA:1.3006 dlossQ:1.9085 exploreP:0.7018\n",
      "Episode:145 meanR:26.4200 R:53.0000 rate:0.1060 gloss:0.1797 dlossA:1.2968 dlossQ:1.9960 exploreP:0.6981\n",
      "Episode:146 meanR:26.4100 R:12.0000 rate:0.0240 gloss:0.2179 dlossA:1.3055 dlossQ:2.0909 exploreP:0.6973\n",
      "Episode:147 meanR:26.6000 R:28.0000 rate:0.0560 gloss:0.1682 dlossA:1.2982 dlossQ:1.9796 exploreP:0.6954\n",
      "Episode:148 meanR:26.8200 R:43.0000 rate:0.0860 gloss:0.2061 dlossA:1.3066 dlossQ:2.1078 exploreP:0.6925\n",
      "Episode:149 meanR:27.5000 R:89.0000 rate:0.1780 gloss:0.2163 dlossA:1.3026 dlossQ:2.0823 exploreP:0.6864\n",
      "Episode:150 meanR:27.7700 R:52.0000 rate:0.1040 gloss:0.1906 dlossA:1.2997 dlossQ:1.9831 exploreP:0.6829\n",
      "Episode:151 meanR:27.8500 R:39.0000 rate:0.0780 gloss:0.2181 dlossA:1.3066 dlossQ:2.1088 exploreP:0.6803\n",
      "Episode:152 meanR:27.9200 R:24.0000 rate:0.0480 gloss:0.1688 dlossA:1.2967 dlossQ:2.0212 exploreP:0.6787\n",
      "Episode:153 meanR:27.9100 R:18.0000 rate:0.0360 gloss:0.1697 dlossA:1.2949 dlossQ:1.9422 exploreP:0.6775\n",
      "Episode:154 meanR:28.3700 R:54.0000 rate:0.1080 gloss:0.2169 dlossA:1.2995 dlossQ:2.0415 exploreP:0.6739\n",
      "Episode:155 meanR:28.3500 R:34.0000 rate:0.0680 gloss:0.2208 dlossA:1.3010 dlossQ:2.0866 exploreP:0.6716\n",
      "Episode:156 meanR:28.2700 R:12.0000 rate:0.0240 gloss:0.1940 dlossA:1.2927 dlossQ:1.9964 exploreP:0.6708\n",
      "Episode:157 meanR:28.3100 R:19.0000 rate:0.0380 gloss:0.2157 dlossA:1.2944 dlossQ:2.0716 exploreP:0.6696\n"
     ]
    },
    {
     "name": "stdout",
     "output_type": "stream",
     "text": [
      "Episode:158 meanR:28.0700 R:9.0000 rate:0.0180 gloss:0.2270 dlossA:1.3012 dlossQ:2.1121 exploreP:0.6690\n",
      "Episode:159 meanR:28.3300 R:38.0000 rate:0.0760 gloss:0.1804 dlossA:1.2978 dlossQ:1.9734 exploreP:0.6665\n",
      "Episode:160 meanR:28.5600 R:45.0000 rate:0.0900 gloss:0.1949 dlossA:1.2999 dlossQ:2.0676 exploreP:0.6635\n",
      "Episode:161 meanR:28.9700 R:54.0000 rate:0.1080 gloss:0.1983 dlossA:1.2994 dlossQ:2.0215 exploreP:0.6600\n",
      "Episode:162 meanR:28.9800 R:29.0000 rate:0.0580 gloss:0.1724 dlossA:1.2945 dlossQ:1.9966 exploreP:0.6581\n",
      "Episode:163 meanR:29.3900 R:58.0000 rate:0.1160 gloss:0.1511 dlossA:1.2907 dlossQ:1.9708 exploreP:0.6544\n",
      "Episode:164 meanR:29.2800 R:18.0000 rate:0.0360 gloss:0.2417 dlossA:1.3104 dlossQ:2.2132 exploreP:0.6532\n",
      "Episode:165 meanR:29.4400 R:35.0000 rate:0.0700 gloss:0.2280 dlossA:1.3040 dlossQ:2.1093 exploreP:0.6510\n",
      "Episode:166 meanR:29.5500 R:22.0000 rate:0.0440 gloss:0.1476 dlossA:1.2967 dlossQ:2.0089 exploreP:0.6496\n",
      "Episode:167 meanR:29.4000 R:20.0000 rate:0.0400 gloss:0.2334 dlossA:1.3025 dlossQ:2.1142 exploreP:0.6483\n",
      "Episode:168 meanR:30.0700 R:88.0000 rate:0.1760 gloss:0.2061 dlossA:1.3010 dlossQ:2.0371 exploreP:0.6427\n",
      "Episode:169 meanR:30.2200 R:28.0000 rate:0.0560 gloss:0.1791 dlossA:1.2937 dlossQ:1.9382 exploreP:0.6409\n",
      "Episode:170 meanR:30.2800 R:39.0000 rate:0.0780 gloss:0.2211 dlossA:1.3048 dlossQ:2.0850 exploreP:0.6385\n",
      "Episode:171 meanR:31.0200 R:99.0000 rate:0.1980 gloss:0.2024 dlossA:1.3028 dlossQ:2.0672 exploreP:0.6323\n",
      "Episode:172 meanR:30.9000 R:15.0000 rate:0.0300 gloss:0.2487 dlossA:1.3145 dlossQ:2.1574 exploreP:0.6314\n",
      "Episode:173 meanR:31.0300 R:43.0000 rate:0.0860 gloss:0.2435 dlossA:1.3073 dlossQ:2.1519 exploreP:0.6287\n",
      "Episode:174 meanR:31.4900 R:60.0000 rate:0.1200 gloss:0.1834 dlossA:1.2943 dlossQ:1.9639 exploreP:0.6250\n",
      "Episode:175 meanR:31.5800 R:34.0000 rate:0.0680 gloss:0.2361 dlossA:1.3040 dlossQ:2.0656 exploreP:0.6229\n",
      "Episode:176 meanR:31.5100 R:15.0000 rate:0.0300 gloss:0.2618 dlossA:1.3094 dlossQ:2.2019 exploreP:0.6220\n",
      "Episode:177 meanR:32.6000 R:120.0000 rate:0.2400 gloss:0.2115 dlossA:1.3044 dlossQ:2.0238 exploreP:0.6147\n",
      "Episode:178 meanR:32.6900 R:19.0000 rate:0.0380 gloss:0.2163 dlossA:1.2983 dlossQ:2.1185 exploreP:0.6135\n",
      "Episode:179 meanR:33.5200 R:102.0000 rate:0.2040 gloss:0.2182 dlossA:1.2997 dlossQ:2.0451 exploreP:0.6074\n",
      "Episode:180 meanR:33.6900 R:62.0000 rate:0.1240 gloss:0.2288 dlossA:1.3047 dlossQ:2.0923 exploreP:0.6037\n",
      "Episode:181 meanR:33.9100 R:46.0000 rate:0.0920 gloss:0.2040 dlossA:1.3006 dlossQ:2.0137 exploreP:0.6010\n",
      "Episode:182 meanR:33.5100 R:13.0000 rate:0.0260 gloss:0.2330 dlossA:1.3020 dlossQ:2.1544 exploreP:0.6002\n",
      "Episode:183 meanR:33.5900 R:23.0000 rate:0.0460 gloss:0.2448 dlossA:1.3149 dlossQ:2.1160 exploreP:0.5989\n",
      "Episode:184 meanR:33.7700 R:45.0000 rate:0.0900 gloss:0.2282 dlossA:1.3032 dlossQ:2.0796 exploreP:0.5962\n",
      "Episode:185 meanR:34.0100 R:39.0000 rate:0.0780 gloss:0.2357 dlossA:1.3020 dlossQ:2.0956 exploreP:0.5939\n",
      "Episode:186 meanR:34.6100 R:75.0000 rate:0.1500 gloss:0.2152 dlossA:1.3009 dlossQ:2.0525 exploreP:0.5896\n",
      "Episode:187 meanR:34.2800 R:14.0000 rate:0.0280 gloss:0.2439 dlossA:1.3081 dlossQ:2.1005 exploreP:0.5888\n",
      "Episode:188 meanR:34.4400 R:32.0000 rate:0.0640 gloss:0.2018 dlossA:1.2998 dlossQ:2.0723 exploreP:0.5869\n",
      "Episode:189 meanR:34.9100 R:63.0000 rate:0.1260 gloss:0.1979 dlossA:1.3029 dlossQ:2.0129 exploreP:0.5833\n",
      "Episode:190 meanR:34.9900 R:26.0000 rate:0.0520 gloss:0.2544 dlossA:1.3100 dlossQ:2.1726 exploreP:0.5818\n",
      "Episode:191 meanR:34.8800 R:13.0000 rate:0.0260 gloss:0.2015 dlossA:1.3026 dlossQ:1.9925 exploreP:0.5811\n",
      "Episode:192 meanR:36.0400 R:131.0000 rate:0.2620 gloss:0.2361 dlossA:1.3057 dlossQ:2.0560 exploreP:0.5736\n",
      "Episode:193 meanR:36.2800 R:46.0000 rate:0.0920 gloss:0.2297 dlossA:1.3008 dlossQ:1.9920 exploreP:0.5710\n",
      "Episode:194 meanR:35.9800 R:10.0000 rate:0.0200 gloss:0.2343 dlossA:1.3088 dlossQ:2.0150 exploreP:0.5705\n",
      "Episode:195 meanR:36.3100 R:53.0000 rate:0.1060 gloss:0.2542 dlossA:1.3044 dlossQ:2.1192 exploreP:0.5675\n",
      "Episode:196 meanR:36.6000 R:53.0000 rate:0.1060 gloss:0.2087 dlossA:1.3074 dlossQ:2.0511 exploreP:0.5646\n",
      "Episode:197 meanR:36.8100 R:52.0000 rate:0.1040 gloss:0.2360 dlossA:1.3066 dlossQ:2.0805 exploreP:0.5617\n",
      "Episode:198 meanR:37.7200 R:107.0000 rate:0.2140 gloss:0.2307 dlossA:1.3067 dlossQ:2.0440 exploreP:0.5558\n",
      "Episode:199 meanR:38.5600 R:112.0000 rate:0.2240 gloss:0.2341 dlossA:1.3036 dlossQ:2.0417 exploreP:0.5497\n",
      "Episode:200 meanR:38.6900 R:51.0000 rate:0.1020 gloss:0.2551 dlossA:1.3095 dlossQ:2.1132 exploreP:0.5470\n",
      "Episode:201 meanR:39.3300 R:93.0000 rate:0.1860 gloss:0.2298 dlossA:1.3021 dlossQ:2.0132 exploreP:0.5420\n",
      "Episode:202 meanR:39.5200 R:34.0000 rate:0.0680 gloss:0.2185 dlossA:1.3071 dlossQ:1.9766 exploreP:0.5402\n",
      "Episode:203 meanR:40.0300 R:64.0000 rate:0.1280 gloss:0.2229 dlossA:1.3002 dlossQ:2.0205 exploreP:0.5368\n",
      "Episode:204 meanR:40.5600 R:69.0000 rate:0.1380 gloss:0.2112 dlossA:1.3005 dlossQ:1.9933 exploreP:0.5332\n",
      "Episode:205 meanR:41.1100 R:66.0000 rate:0.1320 gloss:0.2362 dlossA:1.3051 dlossQ:2.0404 exploreP:0.5298\n",
      "Episode:206 meanR:41.0900 R:101.0000 rate:0.2020 gloss:0.2214 dlossA:1.3059 dlossQ:2.0169 exploreP:0.5246\n",
      "Episode:207 meanR:41.5100 R:60.0000 rate:0.1200 gloss:0.2185 dlossA:1.3045 dlossQ:1.9565 exploreP:0.5215\n",
      "Episode:208 meanR:41.8200 R:53.0000 rate:0.1060 gloss:0.2635 dlossA:1.3154 dlossQ:2.0736 exploreP:0.5188\n",
      "Episode:209 meanR:42.7300 R:106.0000 rate:0.2120 gloss:0.2431 dlossA:1.3090 dlossQ:2.0216 exploreP:0.5134\n",
      "Episode:210 meanR:43.3800 R:108.0000 rate:0.2160 gloss:0.2471 dlossA:1.3084 dlossQ:2.0239 exploreP:0.5080\n",
      "Episode:211 meanR:43.3600 R:89.0000 rate:0.1780 gloss:0.2283 dlossA:1.3048 dlossQ:2.0040 exploreP:0.5036\n",
      "Episode:212 meanR:43.9700 R:75.0000 rate:0.1500 gloss:0.2504 dlossA:1.3064 dlossQ:2.0465 exploreP:0.4999\n",
      "Episode:213 meanR:44.4400 R:58.0000 rate:0.1160 gloss:0.2389 dlossA:1.3090 dlossQ:2.0016 exploreP:0.4971\n",
      "Episode:214 meanR:44.3800 R:26.0000 rate:0.0520 gloss:0.2054 dlossA:1.3052 dlossQ:1.9659 exploreP:0.4958\n",
      "Episode:215 meanR:44.5000 R:23.0000 rate:0.0460 gloss:0.2140 dlossA:1.3029 dlossQ:1.8922 exploreP:0.4947\n",
      "Episode:216 meanR:44.6200 R:28.0000 rate:0.0560 gloss:0.2415 dlossA:1.3078 dlossQ:2.0368 exploreP:0.4933\n",
      "Episode:217 meanR:44.6000 R:21.0000 rate:0.0420 gloss:0.2372 dlossA:1.3093 dlossQ:2.0022 exploreP:0.4923\n",
      "Episode:218 meanR:44.6700 R:26.0000 rate:0.0520 gloss:0.2452 dlossA:1.3105 dlossQ:2.0184 exploreP:0.4911\n",
      "Episode:219 meanR:45.2700 R:86.0000 rate:0.1720 gloss:0.2416 dlossA:1.3083 dlossQ:2.0193 exploreP:0.4869\n",
      "Episode:220 meanR:45.9300 R:78.0000 rate:0.1560 gloss:0.2579 dlossA:1.3105 dlossQ:2.0547 exploreP:0.4832\n",
      "Episode:221 meanR:46.5700 R:131.0000 rate:0.2620 gloss:0.2300 dlossA:1.3050 dlossQ:1.9797 exploreP:0.4771\n",
      "Episode:222 meanR:47.1500 R:124.0000 rate:0.2480 gloss:0.2355 dlossA:1.3050 dlossQ:2.0519 exploreP:0.4713\n",
      "Episode:223 meanR:47.6500 R:94.0000 rate:0.1880 gloss:0.2302 dlossA:1.3104 dlossQ:1.9674 exploreP:0.4670\n",
      "Episode:224 meanR:48.8400 R:140.0000 rate:0.2800 gloss:0.2466 dlossA:1.3110 dlossQ:2.0165 exploreP:0.4607\n",
      "Episode:225 meanR:50.6800 R:208.0000 rate:0.4160 gloss:0.2529 dlossA:1.3085 dlossQ:2.0375 exploreP:0.4514\n",
      "Episode:226 meanR:50.6400 R:47.0000 rate:0.0940 gloss:0.2163 dlossA:1.3055 dlossQ:1.9856 exploreP:0.4493\n",
      "Episode:227 meanR:51.3400 R:98.0000 rate:0.1960 gloss:0.2326 dlossA:1.3054 dlossQ:1.9548 exploreP:0.4450\n",
      "Episode:228 meanR:52.4000 R:153.0000 rate:0.3060 gloss:0.2351 dlossA:1.3050 dlossQ:2.0289 exploreP:0.4384\n",
      "Episode:229 meanR:53.3400 R:115.0000 rate:0.2300 gloss:0.2181 dlossA:1.3102 dlossQ:1.9139 exploreP:0.4335\n",
      "Episode:230 meanR:53.7700 R:62.0000 rate:0.1240 gloss:0.2516 dlossA:1.3085 dlossQ:2.0324 exploreP:0.4309\n",
      "Episode:231 meanR:54.6300 R:105.0000 rate:0.2100 gloss:0.2505 dlossA:1.3117 dlossQ:2.0232 exploreP:0.4265\n",
      "Episode:232 meanR:55.2800 R:100.0000 rate:0.2000 gloss:0.2440 dlossA:1.3091 dlossQ:1.9764 exploreP:0.4224\n",
      "Episode:233 meanR:55.0800 R:67.0000 rate:0.1340 gloss:0.2538 dlossA:1.3137 dlossQ:2.0187 exploreP:0.4196\n",
      "Episode:234 meanR:55.9400 R:113.0000 rate:0.2260 gloss:0.2377 dlossA:1.3100 dlossQ:2.0026 exploreP:0.4150\n",
      "Episode:235 meanR:56.9500 R:125.0000 rate:0.2500 gloss:0.2541 dlossA:1.3092 dlossQ:2.0011 exploreP:0.4100\n"
     ]
    },
    {
     "name": "stdout",
     "output_type": "stream",
     "text": [
      "Episode:236 meanR:57.5100 R:76.0000 rate:0.1520 gloss:0.2582 dlossA:1.3107 dlossQ:2.0428 exploreP:0.4069\n",
      "Episode:237 meanR:58.3400 R:109.0000 rate:0.2180 gloss:0.2496 dlossA:1.3094 dlossQ:2.0185 exploreP:0.4026\n",
      "Episode:238 meanR:60.5900 R:262.0000 rate:0.5240 gloss:0.2455 dlossA:1.3067 dlossQ:2.0303 exploreP:0.3925\n",
      "Episode:239 meanR:62.3300 R:190.0000 rate:0.3800 gloss:0.2577 dlossA:1.3180 dlossQ:2.0257 exploreP:0.3853\n",
      "Episode:240 meanR:64.0000 R:189.0000 rate:0.3780 gloss:0.2646 dlossA:1.3179 dlossQ:2.0182 exploreP:0.3783\n",
      "Episode:241 meanR:64.9900 R:141.0000 rate:0.2820 gloss:0.2720 dlossA:1.3211 dlossQ:2.0145 exploreP:0.3731\n",
      "Episode:242 meanR:65.0200 R:17.0000 rate:0.0340 gloss:0.2922 dlossA:1.3151 dlossQ:2.0528 exploreP:0.3725\n",
      "Episode:243 meanR:66.9000 R:204.0000 rate:0.4080 gloss:0.2678 dlossA:1.3157 dlossQ:1.9950 exploreP:0.3652\n",
      "Episode:244 meanR:66.9800 R:31.0000 rate:0.0620 gloss:0.2706 dlossA:1.3282 dlossQ:2.0207 exploreP:0.3641\n",
      "Episode:245 meanR:67.6400 R:119.0000 rate:0.2380 gloss:0.2665 dlossA:1.3154 dlossQ:1.9929 exploreP:0.3599\n",
      "Episode:246 meanR:69.3500 R:183.0000 rate:0.3660 gloss:0.2648 dlossA:1.3257 dlossQ:1.9883 exploreP:0.3535\n",
      "Episode:247 meanR:70.1900 R:112.0000 rate:0.2240 gloss:0.2716 dlossA:1.3181 dlossQ:1.9646 exploreP:0.3497\n",
      "Episode:248 meanR:71.4200 R:166.0000 rate:0.3320 gloss:0.2761 dlossA:1.3212 dlossQ:1.9883 exploreP:0.3441\n",
      "Episode:249 meanR:71.5100 R:98.0000 rate:0.1960 gloss:0.2660 dlossA:1.3203 dlossQ:1.9708 exploreP:0.3409\n",
      "Episode:250 meanR:73.0000 R:201.0000 rate:0.4020 gloss:0.2610 dlossA:1.3220 dlossQ:1.9615 exploreP:0.3343\n",
      "Episode:251 meanR:72.7600 R:15.0000 rate:0.0300 gloss:0.2123 dlossA:1.3035 dlossQ:1.9328 exploreP:0.3338\n",
      "Episode:252 meanR:74.4200 R:190.0000 rate:0.3800 gloss:0.2759 dlossA:1.3211 dlossQ:2.0003 exploreP:0.3277\n",
      "Episode:253 meanR:77.4200 R:318.0000 rate:0.6360 gloss:0.2650 dlossA:1.3153 dlossQ:1.9833 exploreP:0.3178\n",
      "Episode:254 meanR:77.7100 R:83.0000 rate:0.1660 gloss:0.2636 dlossA:1.3216 dlossQ:1.9886 exploreP:0.3152\n",
      "Episode:255 meanR:78.0300 R:66.0000 rate:0.1320 gloss:0.2627 dlossA:1.3308 dlossQ:1.9615 exploreP:0.3132\n",
      "Episode:256 meanR:79.5100 R:160.0000 rate:0.3200 gloss:0.2657 dlossA:1.3152 dlossQ:1.9700 exploreP:0.3084\n",
      "Episode:257 meanR:80.4000 R:108.0000 rate:0.2160 gloss:0.2718 dlossA:1.3301 dlossQ:1.9950 exploreP:0.3052\n",
      "Episode:258 meanR:81.4100 R:110.0000 rate:0.2200 gloss:0.2742 dlossA:1.3209 dlossQ:1.9651 exploreP:0.3020\n",
      "Episode:259 meanR:81.7800 R:75.0000 rate:0.1500 gloss:0.2750 dlossA:1.3188 dlossQ:2.0104 exploreP:0.2998\n",
      "Episode:260 meanR:82.8900 R:156.0000 rate:0.3120 gloss:0.2592 dlossA:1.3229 dlossQ:1.9401 exploreP:0.2953\n",
      "Episode:261 meanR:84.9300 R:258.0000 rate:0.5160 gloss:0.2653 dlossA:1.3229 dlossQ:1.9694 exploreP:0.2880\n",
      "Episode:262 meanR:85.9900 R:135.0000 rate:0.2700 gloss:0.2737 dlossA:1.3234 dlossQ:1.9588 exploreP:0.2843\n",
      "Episode:263 meanR:86.1000 R:69.0000 rate:0.1380 gloss:0.2729 dlossA:1.3242 dlossQ:1.9649 exploreP:0.2824\n",
      "Episode:264 meanR:86.7900 R:87.0000 rate:0.1740 gloss:0.2639 dlossA:1.3234 dlossQ:1.9597 exploreP:0.2800\n",
      "Episode:265 meanR:88.2100 R:177.0000 rate:0.3540 gloss:0.2717 dlossA:1.3284 dlossQ:1.9587 exploreP:0.2753\n",
      "Episode:266 meanR:90.3600 R:237.0000 rate:0.4740 gloss:0.2792 dlossA:1.3333 dlossQ:1.9450 exploreP:0.2691\n",
      "Episode:267 meanR:91.2600 R:110.0000 rate:0.2200 gloss:0.2875 dlossA:1.3324 dlossQ:1.9733 exploreP:0.2663\n",
      "Episode:268 meanR:91.8600 R:148.0000 rate:0.2960 gloss:0.2907 dlossA:1.3206 dlossQ:1.9621 exploreP:0.2625\n",
      "Episode:269 meanR:96.0200 R:444.0000 rate:0.8880 gloss:0.2843 dlossA:1.3305 dlossQ:1.9596 exploreP:0.2515\n",
      "Episode:270 meanR:97.0300 R:140.0000 rate:0.2800 gloss:0.2768 dlossA:1.3292 dlossQ:1.9381 exploreP:0.2482\n",
      "Episode:271 meanR:97.8600 R:182.0000 rate:0.3640 gloss:0.2820 dlossA:1.3269 dlossQ:1.9590 exploreP:0.2439\n",
      "Episode:272 meanR:98.9300 R:122.0000 rate:0.2440 gloss:0.2758 dlossA:1.3281 dlossQ:1.9396 exploreP:0.2410\n",
      "Episode:273 meanR:99.4300 R:93.0000 rate:0.1860 gloss:0.3034 dlossA:1.3360 dlossQ:1.9966 exploreP:0.2389\n",
      "Episode:274 meanR:99.8400 R:101.0000 rate:0.2020 gloss:0.2813 dlossA:1.3391 dlossQ:1.9590 exploreP:0.2366\n",
      "Episode:275 meanR:103.4200 R:392.0000 rate:0.7840 gloss:0.2895 dlossA:1.3321 dlossQ:1.9462 exploreP:0.2279\n",
      "Episode:276 meanR:104.4500 R:118.0000 rate:0.2360 gloss:0.3038 dlossA:1.3438 dlossQ:1.9942 exploreP:0.2253\n",
      "Episode:277 meanR:106.3700 R:312.0000 rate:0.6240 gloss:0.3018 dlossA:1.3422 dlossQ:1.9269 exploreP:0.2187\n",
      "Episode:278 meanR:108.2200 R:204.0000 rate:0.4080 gloss:0.3052 dlossA:1.3439 dlossQ:1.9330 exploreP:0.2145\n",
      "Episode:279 meanR:108.6700 R:147.0000 rate:0.2940 gloss:0.3123 dlossA:1.3523 dlossQ:1.9199 exploreP:0.2115\n",
      "Episode:280 meanR:110.8100 R:276.0000 rate:0.5520 gloss:0.3128 dlossA:1.3375 dlossQ:1.9182 exploreP:0.2060\n",
      "Episode:281 meanR:115.3500 R:500.0000 rate:1.0000 gloss:0.3182 dlossA:1.3451 dlossQ:1.9143 exploreP:0.1965\n",
      "Episode:282 meanR:116.3600 R:114.0000 rate:0.2280 gloss:0.3211 dlossA:1.3447 dlossQ:1.9354 exploreP:0.1944\n",
      "Episode:283 meanR:118.3300 R:220.0000 rate:0.4400 gloss:0.3242 dlossA:1.3605 dlossQ:1.9110 exploreP:0.1904\n",
      "Episode:284 meanR:119.7200 R:184.0000 rate:0.3680 gloss:0.3332 dlossA:1.3468 dlossQ:1.9008 exploreP:0.1871\n",
      "Episode:285 meanR:120.5700 R:124.0000 rate:0.2480 gloss:0.3387 dlossA:1.3464 dlossQ:1.9501 exploreP:0.1849\n",
      "Episode:286 meanR:121.4500 R:163.0000 rate:0.3260 gloss:0.3361 dlossA:1.3497 dlossQ:1.9451 exploreP:0.1821\n",
      "Episode:287 meanR:122.7200 R:141.0000 rate:0.2820 gloss:0.3212 dlossA:1.3497 dlossQ:1.8927 exploreP:0.1796\n",
      "Episode:288 meanR:124.8100 R:241.0000 rate:0.4820 gloss:0.3351 dlossA:1.3483 dlossQ:1.9144 exploreP:0.1756\n",
      "Episode:289 meanR:126.1800 R:200.0000 rate:0.4000 gloss:0.3316 dlossA:1.3452 dlossQ:1.9217 exploreP:0.1723\n",
      "Episode:290 meanR:127.1900 R:127.0000 rate:0.2540 gloss:0.3396 dlossA:1.3453 dlossQ:1.9290 exploreP:0.1703\n",
      "Episode:291 meanR:128.8200 R:176.0000 rate:0.3520 gloss:0.3383 dlossA:1.3646 dlossQ:1.9396 exploreP:0.1675\n",
      "Episode:292 meanR:129.1000 R:159.0000 rate:0.3180 gloss:0.3322 dlossA:1.3468 dlossQ:1.8747 exploreP:0.1650\n",
      "Episode:293 meanR:129.6900 R:105.0000 rate:0.2100 gloss:0.3509 dlossA:1.3618 dlossQ:1.9324 exploreP:0.1634\n",
      "Episode:294 meanR:134.5900 R:500.0000 rate:1.0000 gloss:0.3397 dlossA:1.3487 dlossQ:1.9056 exploreP:0.1559\n",
      "Episode:295 meanR:138.9100 R:485.0000 rate:0.9700 gloss:0.3415 dlossA:1.3527 dlossQ:1.9126 exploreP:0.1490\n",
      "Episode:296 meanR:142.3000 R:392.0000 rate:0.7840 gloss:0.3485 dlossA:1.3626 dlossQ:1.9386 exploreP:0.1436\n",
      "Episode:297 meanR:142.9400 R:116.0000 rate:0.2320 gloss:0.3648 dlossA:1.3537 dlossQ:1.8940 exploreP:0.1421\n",
      "Episode:298 meanR:146.8700 R:500.0000 rate:1.0000 gloss:0.3600 dlossA:1.3620 dlossQ:1.9077 exploreP:0.1357\n",
      "Episode:299 meanR:147.1100 R:136.0000 rate:0.2720 gloss:0.3707 dlossA:1.3613 dlossQ:1.8961 exploreP:0.1340\n",
      "Episode:300 meanR:147.7300 R:113.0000 rate:0.2260 gloss:0.3899 dlossA:1.3662 dlossQ:1.9386 exploreP:0.1326\n",
      "Episode:301 meanR:148.1100 R:131.0000 rate:0.2620 gloss:0.3531 dlossA:1.3580 dlossQ:1.8496 exploreP:0.1310\n",
      "Episode:302 meanR:150.1800 R:241.0000 rate:0.4820 gloss:0.3677 dlossA:1.3590 dlossQ:1.9013 exploreP:0.1281\n",
      "Episode:303 meanR:150.7600 R:122.0000 rate:0.2440 gloss:0.3645 dlossA:1.3609 dlossQ:1.9004 exploreP:0.1267\n",
      "Episode:304 meanR:154.7800 R:471.0000 rate:0.9420 gloss:0.3687 dlossA:1.3660 dlossQ:1.8775 exploreP:0.1213\n",
      "Episode:305 meanR:159.1200 R:500.0000 rate:1.0000 gloss:0.3836 dlossA:1.3669 dlossQ:1.8883 exploreP:0.1159\n",
      "Episode:306 meanR:159.3000 R:119.0000 rate:0.2380 gloss:0.3797 dlossA:1.3629 dlossQ:1.8867 exploreP:0.1146\n",
      "Episode:307 meanR:159.8900 R:119.0000 rate:0.2380 gloss:0.3856 dlossA:1.3665 dlossQ:1.8938 exploreP:0.1134\n",
      "Episode:308 meanR:164.3600 R:500.0000 rate:1.0000 gloss:0.3761 dlossA:1.3671 dlossQ:1.8863 exploreP:0.1083\n",
      "Episode:309 meanR:164.6200 R:132.0000 rate:0.2640 gloss:0.4006 dlossA:1.3633 dlossQ:1.9239 exploreP:0.1070\n",
      "Episode:310 meanR:164.6900 R:115.0000 rate:0.2300 gloss:0.3896 dlossA:1.3680 dlossQ:1.9054 exploreP:0.1059\n",
      "Episode:311 meanR:166.1300 R:233.0000 rate:0.4660 gloss:0.3848 dlossA:1.3700 dlossQ:1.8554 exploreP:0.1037\n",
      "Episode:312 meanR:170.3800 R:500.0000 rate:1.0000 gloss:0.4042 dlossA:1.3707 dlossQ:1.8689 exploreP:0.0992\n",
      "Episode:313 meanR:174.8000 R:500.0000 rate:1.0000 gloss:0.3966 dlossA:1.3733 dlossQ:1.8676 exploreP:0.0948\n"
     ]
    },
    {
     "name": "stdout",
     "output_type": "stream",
     "text": [
      "Episode:314 meanR:175.6600 R:112.0000 rate:0.2240 gloss:0.3941 dlossA:1.3770 dlossQ:1.8267 exploreP:0.0939\n",
      "Episode:315 meanR:178.8400 R:341.0000 rate:0.6820 gloss:0.3994 dlossA:1.3800 dlossQ:1.8433 exploreP:0.0911\n",
      "Episode:316 meanR:179.5300 R:97.0000 rate:0.1940 gloss:0.4338 dlossA:1.3761 dlossQ:1.9036 exploreP:0.0903\n",
      "Episode:317 meanR:180.8500 R:153.0000 rate:0.3060 gloss:0.4192 dlossA:1.3800 dlossQ:1.8663 exploreP:0.0891\n",
      "Episode:318 meanR:182.5800 R:199.0000 rate:0.3980 gloss:0.4247 dlossA:1.3821 dlossQ:1.8317 exploreP:0.0875\n",
      "Episode:319 meanR:183.6000 R:188.0000 rate:0.3760 gloss:0.4345 dlossA:1.3799 dlossQ:1.8473 exploreP:0.0861\n",
      "Episode:320 meanR:184.4000 R:158.0000 rate:0.3160 gloss:0.4356 dlossA:1.3820 dlossQ:1.8312 exploreP:0.0849\n",
      "Episode:321 meanR:188.0900 R:500.0000 rate:1.0000 gloss:0.4361 dlossA:1.3800 dlossQ:1.8421 exploreP:0.0812\n",
      "Episode:322 meanR:188.0600 R:121.0000 rate:0.2420 gloss:0.4376 dlossA:1.3885 dlossQ:1.8473 exploreP:0.0804\n",
      "Episode:323 meanR:189.3700 R:225.0000 rate:0.4500 gloss:0.4584 dlossA:1.3874 dlossQ:1.8727 exploreP:0.0788\n",
      "Episode:324 meanR:190.3300 R:236.0000 rate:0.4720 gloss:0.4605 dlossA:1.3799 dlossQ:1.8354 exploreP:0.0772\n",
      "Episode:325 meanR:191.8300 R:358.0000 rate:0.7160 gloss:0.4596 dlossA:1.3798 dlossQ:1.8486 exploreP:0.0748\n",
      "Episode:326 meanR:194.3700 R:301.0000 rate:0.6020 gloss:0.4589 dlossA:1.3807 dlossQ:1.8427 exploreP:0.0729\n",
      "Episode:327 meanR:195.6200 R:223.0000 rate:0.4460 gloss:0.4571 dlossA:1.3765 dlossQ:1.8191 exploreP:0.0715\n",
      "Episode:328 meanR:197.5400 R:345.0000 rate:0.6900 gloss:0.4534 dlossA:1.3775 dlossQ:1.8378 exploreP:0.0694\n",
      "Episode:329 meanR:198.3600 R:197.0000 rate:0.3940 gloss:0.4575 dlossA:1.3872 dlossQ:1.8794 exploreP:0.0683\n",
      "Episode:330 meanR:202.7400 R:500.0000 rate:1.0000 gloss:0.4505 dlossA:1.3855 dlossQ:1.7911 exploreP:0.0654\n",
      "Episode:331 meanR:203.4200 R:173.0000 rate:0.3460 gloss:0.4716 dlossA:1.3878 dlossQ:1.8297 exploreP:0.0645\n",
      "Episode:332 meanR:206.0300 R:361.0000 rate:0.7220 gloss:0.4787 dlossA:1.3828 dlossQ:1.8357 exploreP:0.0625\n",
      "Episode:333 meanR:208.9700 R:361.0000 rate:0.7220 gloss:0.4734 dlossA:1.3878 dlossQ:1.7914 exploreP:0.0607\n",
      "Episode:334 meanR:212.8400 R:500.0000 rate:1.0000 gloss:0.4921 dlossA:1.3880 dlossQ:1.8028 exploreP:0.0582\n",
      "Episode:335 meanR:213.9000 R:231.0000 rate:0.4620 gloss:0.4973 dlossA:1.3841 dlossQ:1.8216 exploreP:0.0571\n",
      "Episode:336 meanR:218.1400 R:500.0000 rate:1.0000 gloss:0.4952 dlossA:1.3876 dlossQ:1.7850 exploreP:0.0548\n",
      "Episode:337 meanR:220.9700 R:392.0000 rate:0.7840 gloss:0.5242 dlossA:1.3847 dlossQ:1.8501 exploreP:0.0531\n",
      "Episode:338 meanR:223.3500 R:500.0000 rate:1.0000 gloss:0.4950 dlossA:1.3841 dlossQ:1.7809 exploreP:0.0510\n",
      "Episode:339 meanR:223.9200 R:247.0000 rate:0.4940 gloss:0.4903 dlossA:1.3881 dlossQ:1.7571 exploreP:0.0500\n",
      "Episode:340 meanR:223.6300 R:160.0000 rate:0.3200 gloss:0.5086 dlossA:1.3883 dlossQ:1.8083 exploreP:0.0494\n",
      "Episode:341 meanR:223.9300 R:171.0000 rate:0.3420 gloss:0.5201 dlossA:1.3871 dlossQ:1.8097 exploreP:0.0487\n",
      "Episode:342 meanR:225.5400 R:178.0000 rate:0.3560 gloss:0.5145 dlossA:1.3869 dlossQ:1.7578 exploreP:0.0480\n",
      "Episode:343 meanR:226.1400 R:264.0000 rate:0.5280 gloss:0.5158 dlossA:1.3865 dlossQ:1.7411 exploreP:0.0470\n",
      "Episode:344 meanR:228.0600 R:223.0000 rate:0.4460 gloss:0.5210 dlossA:1.3862 dlossQ:1.7617 exploreP:0.0462\n",
      "Episode:345 meanR:229.2400 R:237.0000 rate:0.4740 gloss:0.5367 dlossA:1.3863 dlossQ:1.8159 exploreP:0.0453\n",
      "Episode:346 meanR:229.7500 R:234.0000 rate:0.4680 gloss:0.5221 dlossA:1.3858 dlossQ:1.7723 exploreP:0.0445\n",
      "Episode:347 meanR:233.2400 R:461.0000 rate:0.9220 gloss:0.5276 dlossA:1.3860 dlossQ:1.7795 exploreP:0.0430\n",
      "Episode:348 meanR:236.4800 R:490.0000 rate:0.9800 gloss:0.5325 dlossA:1.3861 dlossQ:1.7576 exploreP:0.0414\n",
      "Episode:349 meanR:240.5000 R:500.0000 rate:1.0000 gloss:0.5441 dlossA:1.3847 dlossQ:1.7540 exploreP:0.0399\n",
      "Episode:350 meanR:240.6900 R:220.0000 rate:0.4400 gloss:0.5577 dlossA:1.3825 dlossQ:1.7589 exploreP:0.0392\n",
      "Episode:351 meanR:245.5400 R:500.0000 rate:1.0000 gloss:0.5677 dlossA:1.3828 dlossQ:1.7243 exploreP:0.0378\n",
      "Episode:352 meanR:248.6400 R:500.0000 rate:1.0000 gloss:0.5675 dlossA:1.3840 dlossQ:1.7127 exploreP:0.0364\n",
      "Episode:353 meanR:250.4600 R:500.0000 rate:1.0000 gloss:0.5668 dlossA:1.3806 dlossQ:1.6903 exploreP:0.0351\n",
      "Episode:354 meanR:254.6300 R:500.0000 rate:1.0000 gloss:0.5862 dlossA:1.3817 dlossQ:1.7295 exploreP:0.0339\n",
      "Episode:355 meanR:257.6400 R:367.0000 rate:0.7340 gloss:0.5818 dlossA:1.3830 dlossQ:1.6923 exploreP:0.0331\n",
      "Episode:356 meanR:261.0400 R:500.0000 rate:1.0000 gloss:0.5675 dlossA:1.3815 dlossQ:1.6899 exploreP:0.0319\n",
      "Episode:357 meanR:264.9600 R:500.0000 rate:1.0000 gloss:0.5846 dlossA:1.3756 dlossQ:1.7136 exploreP:0.0309\n",
      "Episode:358 meanR:268.8600 R:500.0000 rate:1.0000 gloss:0.5922 dlossA:1.3761 dlossQ:1.6938 exploreP:0.0298\n",
      "Episode:359 meanR:270.7000 R:259.0000 rate:0.5180 gloss:0.6098 dlossA:1.3754 dlossQ:1.7228 exploreP:0.0293\n",
      "Episode:360 meanR:271.1900 R:205.0000 rate:0.4100 gloss:0.6004 dlossA:1.3771 dlossQ:1.6820 exploreP:0.0289\n",
      "Episode:361 meanR:273.6100 R:500.0000 rate:1.0000 gloss:0.5950 dlossA:1.3731 dlossQ:1.7001 exploreP:0.0280\n",
      "Episode:362 meanR:275.4800 R:322.0000 rate:0.6440 gloss:0.6123 dlossA:1.3725 dlossQ:1.7259 exploreP:0.0275\n",
      "Episode:363 meanR:279.7900 R:500.0000 rate:1.0000 gloss:0.5963 dlossA:1.3677 dlossQ:1.6486 exploreP:0.0266\n",
      "Episode:364 meanR:283.9200 R:500.0000 rate:1.0000 gloss:0.6090 dlossA:1.3779 dlossQ:1.7078 exploreP:0.0258\n",
      "Episode:365 meanR:287.1500 R:500.0000 rate:1.0000 gloss:0.5808 dlossA:1.3648 dlossQ:1.6765 exploreP:0.0250\n",
      "Episode:366 meanR:289.7800 R:500.0000 rate:1.0000 gloss:0.6119 dlossA:1.3672 dlossQ:1.7433 exploreP:0.0243\n",
      "Episode:367 meanR:292.9800 R:430.0000 rate:0.8600 gloss:0.6038 dlossA:1.3652 dlossQ:1.6771 exploreP:0.0237\n",
      "Episode:368 meanR:296.5000 R:500.0000 rate:1.0000 gloss:0.6150 dlossA:1.3621 dlossQ:1.7422 exploreP:0.0230\n",
      "Episode:369 meanR:297.0600 R:500.0000 rate:1.0000 gloss:0.6091 dlossA:1.3621 dlossQ:1.6888 exploreP:0.0224\n",
      "Episode:370 meanR:300.6600 R:500.0000 rate:1.0000 gloss:0.6131 dlossA:1.3527 dlossQ:1.7594 exploreP:0.0218\n",
      "Episode:371 meanR:301.0700 R:223.0000 rate:0.4460 gloss:0.6199 dlossA:1.3587 dlossQ:1.6470 exploreP:0.0215\n",
      "Episode:372 meanR:304.8500 R:500.0000 rate:1.0000 gloss:0.6205 dlossA:1.3503 dlossQ:1.6891 exploreP:0.0210\n",
      "Episode:373 meanR:308.9200 R:500.0000 rate:1.0000 gloss:0.6423 dlossA:1.3504 dlossQ:1.7750 exploreP:0.0204\n",
      "Episode:374 meanR:312.9100 R:500.0000 rate:1.0000 gloss:0.6324 dlossA:1.3520 dlossQ:1.7631 exploreP:0.0199\n",
      "Episode:375 meanR:313.2900 R:430.0000 rate:0.8600 gloss:0.6429 dlossA:1.3342 dlossQ:1.8960 exploreP:0.0195\n",
      "Episode:376 meanR:317.1100 R:500.0000 rate:1.0000 gloss:0.6461 dlossA:1.3320 dlossQ:1.7743 exploreP:0.0190\n",
      "Episode:377 meanR:318.9900 R:500.0000 rate:1.0000 gloss:0.6574 dlossA:1.3390 dlossQ:1.9719 exploreP:0.0186\n",
      "Episode:378 meanR:319.5100 R:256.0000 rate:0.5120 gloss:0.6531 dlossA:1.3433 dlossQ:1.7437 exploreP:0.0184\n",
      "Episode:379 meanR:322.0700 R:403.0000 rate:0.8060 gloss:0.6620 dlossA:1.3427 dlossQ:1.8875 exploreP:0.0180\n",
      "Episode:380 meanR:322.4800 R:317.0000 rate:0.6340 gloss:0.6394 dlossA:1.3338 dlossQ:1.7296 exploreP:0.0178\n",
      "Episode:381 meanR:322.4800 R:500.0000 rate:1.0000 gloss:0.6566 dlossA:1.3388 dlossQ:1.8197 exploreP:0.0174\n",
      "Episode:382 meanR:326.3400 R:500.0000 rate:1.0000 gloss:0.6573 dlossA:1.3256 dlossQ:1.7912 exploreP:0.0171\n",
      "Episode:383 meanR:329.1400 R:500.0000 rate:1.0000 gloss:0.6555 dlossA:1.3128 dlossQ:1.8182 exploreP:0.0167\n",
      "Episode:384 meanR:332.3000 R:500.0000 rate:1.0000 gloss:0.6756 dlossA:1.3238 dlossQ:1.9195 exploreP:0.0164\n",
      "Episode:385 meanR:336.0600 R:500.0000 rate:1.0000 gloss:0.6841 dlossA:1.3175 dlossQ:1.9426 exploreP:0.0161\n",
      "Episode:386 meanR:339.4300 R:500.0000 rate:1.0000 gloss:0.6622 dlossA:1.3154 dlossQ:1.7435 exploreP:0.0158\n",
      "Episode:387 meanR:343.0200 R:500.0000 rate:1.0000 gloss:0.6791 dlossA:1.3109 dlossQ:1.8036 exploreP:0.0155\n",
      "Episode:388 meanR:345.6100 R:500.0000 rate:1.0000 gloss:0.6956 dlossA:1.3078 dlossQ:1.8733 exploreP:0.0152\n",
      "Episode:389 meanR:348.6100 R:500.0000 rate:1.0000 gloss:0.6856 dlossA:1.3021 dlossQ:1.8684 exploreP:0.0150\n",
      "Episode:390 meanR:351.4900 R:415.0000 rate:0.8300 gloss:0.7021 dlossA:1.3295 dlossQ:1.8362 exploreP:0.0148\n"
     ]
    },
    {
     "name": "stdout",
     "output_type": "stream",
     "text": [
      "Episode:391 meanR:353.9000 R:417.0000 rate:0.8340 gloss:0.6919 dlossA:1.3115 dlossQ:1.8571 exploreP:0.0146\n",
      "Episode:392 meanR:356.0200 R:371.0000 rate:0.7420 gloss:0.6984 dlossA:1.3003 dlossQ:1.9967 exploreP:0.0144\n",
      "Episode:393 meanR:359.9700 R:500.0000 rate:1.0000 gloss:0.6920 dlossA:1.3071 dlossQ:1.8357 exploreP:0.0142\n",
      "Episode:394 meanR:359.9700 R:500.0000 rate:1.0000 gloss:0.6927 dlossA:1.2837 dlossQ:1.9963 exploreP:0.0140\n",
      "Episode:395 meanR:360.1200 R:500.0000 rate:1.0000 gloss:0.7136 dlossA:1.3078 dlossQ:2.3620 exploreP:0.0138\n",
      "Episode:396 meanR:361.2000 R:500.0000 rate:1.0000 gloss:0.6937 dlossA:1.2833 dlossQ:2.0366 exploreP:0.0136\n",
      "Episode:397 meanR:365.0400 R:500.0000 rate:1.0000 gloss:0.7059 dlossA:1.2895 dlossQ:2.0858 exploreP:0.0134\n",
      "Episode:398 meanR:365.0400 R:500.0000 rate:1.0000 gloss:0.7060 dlossA:1.2763 dlossQ:2.0601 exploreP:0.0133\n",
      "Episode:399 meanR:368.6800 R:500.0000 rate:1.0000 gloss:0.7100 dlossA:1.2719 dlossQ:1.8079 exploreP:0.0131\n",
      "Episode:400 meanR:372.5500 R:500.0000 rate:1.0000 gloss:0.7302 dlossA:1.2699 dlossQ:1.8389 exploreP:0.0130\n",
      "Episode:401 meanR:373.6400 R:240.0000 rate:0.4800 gloss:0.7337 dlossA:1.2693 dlossQ:1.8697 exploreP:0.0129\n",
      "Episode:402 meanR:376.2300 R:500.0000 rate:1.0000 gloss:0.7184 dlossA:1.2713 dlossQ:1.9383 exploreP:0.0127\n",
      "Episode:403 meanR:380.0100 R:500.0000 rate:1.0000 gloss:0.7378 dlossA:1.2645 dlossQ:2.2828 exploreP:0.0126\n",
      "Episode:404 meanR:380.3000 R:500.0000 rate:1.0000 gloss:0.7241 dlossA:1.2464 dlossQ:1.9624 exploreP:0.0125\n",
      "Episode:405 meanR:377.8700 R:257.0000 rate:0.5140 gloss:0.7485 dlossA:1.2312 dlossQ:2.2209 exploreP:0.0124\n",
      "Episode:406 meanR:379.9900 R:331.0000 rate:0.6620 gloss:0.7470 dlossA:1.2561 dlossQ:2.0447 exploreP:0.0123\n",
      "Episode:407 meanR:383.8000 R:500.0000 rate:1.0000 gloss:0.7301 dlossA:1.2434 dlossQ:2.0575 exploreP:0.0122\n",
      "Episode:408 meanR:383.8000 R:500.0000 rate:1.0000 gloss:0.7495 dlossA:1.2394 dlossQ:2.2100 exploreP:0.0121\n",
      "Episode:409 meanR:387.4800 R:500.0000 rate:1.0000 gloss:0.7463 dlossA:1.2221 dlossQ:2.1415 exploreP:0.0120\n",
      "Episode:410 meanR:388.2700 R:194.0000 rate:0.3880 gloss:0.7816 dlossA:1.2581 dlossQ:2.3724 exploreP:0.0120\n",
      "Episode:411 meanR:390.9400 R:500.0000 rate:1.0000 gloss:0.7364 dlossA:1.2291 dlossQ:2.2194 exploreP:0.0119\n",
      "Episode:412 meanR:390.9400 R:500.0000 rate:1.0000 gloss:0.7489 dlossA:1.2395 dlossQ:2.2049 exploreP:0.0118\n",
      "Episode:413 meanR:390.9400 R:500.0000 rate:1.0000 gloss:0.7476 dlossA:1.2058 dlossQ:2.3935 exploreP:0.0117\n",
      "Episode:414 meanR:394.8200 R:500.0000 rate:1.0000 gloss:0.7704 dlossA:1.2231 dlossQ:2.6624 exploreP:0.0116\n",
      "Episode:415 meanR:396.4100 R:500.0000 rate:1.0000 gloss:0.7648 dlossA:1.2261 dlossQ:2.5402 exploreP:0.0115\n",
      "Episode:416 meanR:400.4400 R:500.0000 rate:1.0000 gloss:0.7450 dlossA:1.1810 dlossQ:2.2857 exploreP:0.0115\n",
      "Episode:417 meanR:403.9100 R:500.0000 rate:1.0000 gloss:0.7607 dlossA:1.2197 dlossQ:2.1389 exploreP:0.0114\n",
      "Episode:418 meanR:406.9200 R:500.0000 rate:1.0000 gloss:0.7690 dlossA:1.1894 dlossQ:2.5747 exploreP:0.0113\n",
      "Episode:419 meanR:410.0400 R:500.0000 rate:1.0000 gloss:0.7455 dlossA:1.1874 dlossQ:2.3825 exploreP:0.0113\n",
      "Episode:420 meanR:411.5900 R:313.0000 rate:0.6260 gloss:0.7640 dlossA:1.2312 dlossQ:2.3345 exploreP:0.0112\n",
      "Episode:421 meanR:411.5900 R:500.0000 rate:1.0000 gloss:0.7260 dlossA:1.2053 dlossQ:2.0856 exploreP:0.0112\n",
      "Episode:422 meanR:415.3800 R:500.0000 rate:1.0000 gloss:0.7504 dlossA:1.1815 dlossQ:2.4552 exploreP:0.0111\n",
      "Episode:423 meanR:418.1300 R:500.0000 rate:1.0000 gloss:0.7123 dlossA:1.1560 dlossQ:2.2318 exploreP:0.0111\n",
      "Episode:424 meanR:420.7700 R:500.0000 rate:1.0000 gloss:0.7564 dlossA:1.1933 dlossQ:2.6269 exploreP:0.0110\n",
      "Episode:425 meanR:422.1900 R:500.0000 rate:1.0000 gloss:0.7430 dlossA:1.1942 dlossQ:2.9942 exploreP:0.0110\n",
      "Episode:426 meanR:424.1800 R:500.0000 rate:1.0000 gloss:0.7306 dlossA:1.1679 dlossQ:2.5889 exploreP:0.0109\n",
      "Episode:427 meanR:426.9500 R:500.0000 rate:1.0000 gloss:0.7461 dlossA:1.1458 dlossQ:3.2418 exploreP:0.0109\n",
      "Episode:428 meanR:428.5000 R:500.0000 rate:1.0000 gloss:0.7381 dlossA:1.1537 dlossQ:2.8238 exploreP:0.0108\n",
      "Episode:429 meanR:431.5300 R:500.0000 rate:1.0000 gloss:0.7622 dlossA:1.1216 dlossQ:3.3866 exploreP:0.0108\n",
      "Episode:430 meanR:431.5300 R:500.0000 rate:1.0000 gloss:0.7751 dlossA:1.1314 dlossQ:3.3881 exploreP:0.0107\n",
      "Episode:431 meanR:434.8000 R:500.0000 rate:1.0000 gloss:0.7532 dlossA:1.1061 dlossQ:3.6478 exploreP:0.0107\n",
      "Episode:432 meanR:436.1900 R:500.0000 rate:1.0000 gloss:0.7697 dlossA:1.1075 dlossQ:2.8869 exploreP:0.0107\n",
      "Episode:433 meanR:437.5800 R:500.0000 rate:1.0000 gloss:0.7377 dlossA:1.1254 dlossQ:2.7568 exploreP:0.0106\n",
      "Episode:434 meanR:437.5800 R:500.0000 rate:1.0000 gloss:0.7581 dlossA:1.1139 dlossQ:3.0610 exploreP:0.0106\n",
      "Episode:435 meanR:440.2700 R:500.0000 rate:1.0000 gloss:0.7404 dlossA:1.1197 dlossQ:3.1029 exploreP:0.0106\n",
      "Episode:436 meanR:439.8500 R:458.0000 rate:0.9160 gloss:0.7459 dlossA:1.0937 dlossQ:3.5476 exploreP:0.0106\n",
      "Episode:437 meanR:438.8200 R:289.0000 rate:0.5780 gloss:0.7634 dlossA:1.1229 dlossQ:3.3507 exploreP:0.0105\n",
      "Episode:438 meanR:438.8200 R:500.0000 rate:1.0000 gloss:0.7662 dlossA:1.0836 dlossQ:3.8556 exploreP:0.0105\n",
      "Episode:439 meanR:441.3500 R:500.0000 rate:1.0000 gloss:0.7530 dlossA:1.0854 dlossQ:3.5205 exploreP:0.0105\n",
      "Episode:440 meanR:444.7500 R:500.0000 rate:1.0000 gloss:0.7767 dlossA:1.0823 dlossQ:3.9905 exploreP:0.0105\n",
      "Episode:441 meanR:448.0400 R:500.0000 rate:1.0000 gloss:0.7842 dlossA:1.0910 dlossQ:4.0383 exploreP:0.0104\n",
      "Episode:442 meanR:451.2600 R:500.0000 rate:1.0000 gloss:0.7706 dlossA:1.0623 dlossQ:4.3156 exploreP:0.0104\n",
      "Episode:443 meanR:453.6200 R:500.0000 rate:1.0000 gloss:0.7700 dlossA:1.0467 dlossQ:4.4562 exploreP:0.0104\n",
      "Episode:444 meanR:455.7400 R:435.0000 rate:0.8700 gloss:0.7498 dlossA:1.0303 dlossQ:4.4867 exploreP:0.0104\n",
      "Episode:445 meanR:458.3700 R:500.0000 rate:1.0000 gloss:0.8452 dlossA:1.0503 dlossQ:6.2472 exploreP:0.0104\n",
      "Episode:446 meanR:461.0300 R:500.0000 rate:1.0000 gloss:0.7789 dlossA:1.0166 dlossQ:4.8245 exploreP:0.0103\n",
      "Episode:447 meanR:461.4200 R:500.0000 rate:1.0000 gloss:0.8050 dlossA:1.0690 dlossQ:4.9389 exploreP:0.0103\n",
      "Episode:448 meanR:461.5200 R:500.0000 rate:1.0000 gloss:0.7460 dlossA:1.0252 dlossQ:4.3801 exploreP:0.0103\n",
      "Episode:449 meanR:461.5200 R:500.0000 rate:1.0000 gloss:0.7872 dlossA:1.0425 dlossQ:5.1897 exploreP:0.0103\n",
      "Episode:450 meanR:464.3200 R:500.0000 rate:1.0000 gloss:0.7447 dlossA:1.0259 dlossQ:4.5362 exploreP:0.0103\n",
      "Episode:451 meanR:464.3200 R:500.0000 rate:1.0000 gloss:0.7809 dlossA:1.0364 dlossQ:5.5985 exploreP:0.0103\n",
      "Episode:452 meanR:464.3200 R:500.0000 rate:1.0000 gloss:0.7031 dlossA:1.0178 dlossQ:4.7821 exploreP:0.0103\n",
      "Episode:453 meanR:464.3200 R:500.0000 rate:1.0000 gloss:0.7964 dlossA:1.0397 dlossQ:6.4136 exploreP:0.0102\n",
      "Episode:454 meanR:464.3200 R:500.0000 rate:1.0000 gloss:0.7287 dlossA:1.0094 dlossQ:5.1296 exploreP:0.0102\n",
      "Episode:455 meanR:465.6500 R:500.0000 rate:1.0000 gloss:0.7656 dlossA:1.0206 dlossQ:6.0052 exploreP:0.0102\n",
      "Episode:456 meanR:465.6500 R:500.0000 rate:1.0000 gloss:0.7044 dlossA:0.9827 dlossQ:5.1606 exploreP:0.0102\n",
      "Episode:457 meanR:465.6500 R:500.0000 rate:1.0000 gloss:0.7487 dlossA:0.9764 dlossQ:5.7192 exploreP:0.0102\n",
      "Episode:458 meanR:465.6500 R:500.0000 rate:1.0000 gloss:0.7954 dlossA:0.9500 dlossQ:7.1362 exploreP:0.0102\n",
      "Episode:459 meanR:468.0600 R:500.0000 rate:1.0000 gloss:0.8249 dlossA:0.9585 dlossQ:7.0097 exploreP:0.0102\n",
      "Episode:460 meanR:471.0100 R:500.0000 rate:1.0000 gloss:0.7276 dlossA:0.9793 dlossQ:6.2395 exploreP:0.0102\n",
      "Episode:461 meanR:471.0100 R:500.0000 rate:1.0000 gloss:0.7951 dlossA:0.9368 dlossQ:8.0335 exploreP:0.0102\n",
      "Episode:462 meanR:472.7900 R:500.0000 rate:1.0000 gloss:0.7512 dlossA:0.9194 dlossQ:6.8123 exploreP:0.0102\n",
      "Episode:463 meanR:472.7900 R:500.0000 rate:1.0000 gloss:0.7682 dlossA:0.9386 dlossQ:6.8416 exploreP:0.0101\n",
      "Episode:464 meanR:472.7900 R:500.0000 rate:1.0000 gloss:0.7429 dlossA:0.9099 dlossQ:7.1598 exploreP:0.0101\n",
      "Episode:465 meanR:472.7900 R:500.0000 rate:1.0000 gloss:0.7948 dlossA:0.8872 dlossQ:7.9955 exploreP:0.0101\n",
      "Episode:466 meanR:472.7900 R:500.0000 rate:1.0000 gloss:0.7761 dlossA:0.9558 dlossQ:6.8478 exploreP:0.0101\n",
      "Episode:467 meanR:473.4900 R:500.0000 rate:1.0000 gloss:0.7983 dlossA:0.8686 dlossQ:8.3726 exploreP:0.0101\n"
     ]
    },
    {
     "name": "stdout",
     "output_type": "stream",
     "text": [
      "Episode:468 meanR:473.4900 R:500.0000 rate:1.0000 gloss:0.8103 dlossA:0.9009 dlossQ:8.2746 exploreP:0.0101\n",
      "Episode:469 meanR:473.4900 R:500.0000 rate:1.0000 gloss:0.7789 dlossA:0.9047 dlossQ:8.0466 exploreP:0.0101\n",
      "Episode:470 meanR:473.4900 R:500.0000 rate:1.0000 gloss:0.8695 dlossA:0.8888 dlossQ:9.0115 exploreP:0.0101\n",
      "Episode:471 meanR:476.2600 R:500.0000 rate:1.0000 gloss:0.8870 dlossA:0.8787 dlossQ:10.4418 exploreP:0.0101\n",
      "Episode:472 meanR:476.2600 R:500.0000 rate:1.0000 gloss:0.7748 dlossA:0.8345 dlossQ:7.8469 exploreP:0.0101\n",
      "Episode:473 meanR:476.2600 R:500.0000 rate:1.0000 gloss:0.8379 dlossA:0.8363 dlossQ:9.5728 exploreP:0.0101\n",
      "Episode:474 meanR:476.2600 R:500.0000 rate:1.0000 gloss:0.8299 dlossA:0.8733 dlossQ:8.6359 exploreP:0.0101\n",
      "Episode:475 meanR:476.9600 R:500.0000 rate:1.0000 gloss:0.8359 dlossA:0.8402 dlossQ:9.5574 exploreP:0.0101\n",
      "Episode:476 meanR:476.9600 R:500.0000 rate:1.0000 gloss:0.7658 dlossA:0.8877 dlossQ:7.5711 exploreP:0.0101\n",
      "Episode:477 meanR:476.9600 R:500.0000 rate:1.0000 gloss:0.7358 dlossA:0.8539 dlossQ:7.9661 exploreP:0.0101\n",
      "Episode:478 meanR:479.4000 R:500.0000 rate:1.0000 gloss:0.7035 dlossA:0.8837 dlossQ:7.6278 exploreP:0.0101\n",
      "Episode:479 meanR:480.3700 R:500.0000 rate:1.0000 gloss:0.7203 dlossA:0.8737 dlossQ:8.1504 exploreP:0.0101\n",
      "Episode:480 meanR:482.2000 R:500.0000 rate:1.0000 gloss:0.6956 dlossA:0.8479 dlossQ:8.4879 exploreP:0.0101\n",
      "Episode:481 meanR:482.2000 R:500.0000 rate:1.0000 gloss:0.6782 dlossA:0.8245 dlossQ:8.3718 exploreP:0.0101\n",
      "Episode:482 meanR:482.2000 R:500.0000 rate:1.0000 gloss:0.6741 dlossA:0.8193 dlossQ:8.9478 exploreP:0.0101\n",
      "Episode:483 meanR:482.2000 R:500.0000 rate:1.0000 gloss:0.7205 dlossA:0.7903 dlossQ:8.5117 exploreP:0.0101\n",
      "Episode:484 meanR:482.2000 R:500.0000 rate:1.0000 gloss:0.7096 dlossA:0.7901 dlossQ:8.6227 exploreP:0.0101\n",
      "Episode:485 meanR:482.2000 R:500.0000 rate:1.0000 gloss:0.7354 dlossA:0.8180 dlossQ:8.6832 exploreP:0.0100\n",
      "Episode:486 meanR:482.2000 R:500.0000 rate:1.0000 gloss:0.6938 dlossA:0.7713 dlossQ:8.2808 exploreP:0.0100\n",
      "Episode:487 meanR:482.2000 R:500.0000 rate:1.0000 gloss:0.7382 dlossA:0.7800 dlossQ:8.5723 exploreP:0.0100\n",
      "Episode:488 meanR:482.2000 R:500.0000 rate:1.0000 gloss:0.7004 dlossA:0.7503 dlossQ:8.9236 exploreP:0.0100\n",
      "Episode:489 meanR:482.2000 R:500.0000 rate:1.0000 gloss:0.7163 dlossA:0.7595 dlossQ:8.9659 exploreP:0.0100\n",
      "Episode:490 meanR:483.0500 R:500.0000 rate:1.0000 gloss:0.7063 dlossA:0.7447 dlossQ:8.6915 exploreP:0.0100\n",
      "Episode:491 meanR:483.8800 R:500.0000 rate:1.0000 gloss:0.7195 dlossA:0.7174 dlossQ:9.2255 exploreP:0.0100\n",
      "Episode:492 meanR:485.1700 R:500.0000 rate:1.0000 gloss:0.7192 dlossA:0.7482 dlossQ:8.9155 exploreP:0.0100\n",
      "Episode:493 meanR:485.1700 R:500.0000 rate:1.0000 gloss:0.7288 dlossA:0.7362 dlossQ:8.8932 exploreP:0.0100\n",
      "Episode:494 meanR:485.1700 R:500.0000 rate:1.0000 gloss:0.7098 dlossA:0.7225 dlossQ:8.8473 exploreP:0.0100\n",
      "Episode:495 meanR:485.1700 R:500.0000 rate:1.0000 gloss:0.7145 dlossA:0.6813 dlossQ:9.4463 exploreP:0.0100\n",
      "Episode:496 meanR:485.1700 R:500.0000 rate:1.0000 gloss:0.7182 dlossA:0.6545 dlossQ:9.4227 exploreP:0.0100\n",
      "Episode:497 meanR:485.1700 R:500.0000 rate:1.0000 gloss:0.7839 dlossA:0.6745 dlossQ:9.3640 exploreP:0.0100\n",
      "Episode:498 meanR:485.1700 R:500.0000 rate:1.0000 gloss:0.7293 dlossA:0.6714 dlossQ:9.2235 exploreP:0.0100\n",
      "Episode:499 meanR:485.1700 R:500.0000 rate:1.0000 gloss:0.7515 dlossA:0.6716 dlossQ:9.4400 exploreP:0.0100\n",
      "Episode:500 meanR:485.1700 R:500.0000 rate:1.0000 gloss:0.7495 dlossA:0.6062 dlossQ:10.2737 exploreP:0.0100\n",
      "Episode:501 meanR:487.7700 R:500.0000 rate:1.0000 gloss:0.7953 dlossA:0.6169 dlossQ:10.1339 exploreP:0.0100\n",
      "Episode:502 meanR:487.7700 R:500.0000 rate:1.0000 gloss:0.8069 dlossA:0.6079 dlossQ:10.0152 exploreP:0.0100\n",
      "Episode:503 meanR:487.7700 R:500.0000 rate:1.0000 gloss:0.8001 dlossA:0.5630 dlossQ:10.2074 exploreP:0.0100\n",
      "Episode:504 meanR:487.7700 R:500.0000 rate:1.0000 gloss:0.7605 dlossA:0.5794 dlossQ:10.1593 exploreP:0.0100\n",
      "Episode:505 meanR:490.2000 R:500.0000 rate:1.0000 gloss:0.8121 dlossA:0.5587 dlossQ:10.9329 exploreP:0.0100\n",
      "Episode:506 meanR:491.8900 R:500.0000 rate:1.0000 gloss:0.7954 dlossA:0.5503 dlossQ:10.0142 exploreP:0.0100\n",
      "Episode:507 meanR:491.8900 R:500.0000 rate:1.0000 gloss:0.8413 dlossA:0.5356 dlossQ:9.9196 exploreP:0.0100\n",
      "Episode:508 meanR:491.8900 R:500.0000 rate:1.0000 gloss:0.8170 dlossA:0.5594 dlossQ:10.6879 exploreP:0.0100\n",
      "Episode:509 meanR:491.8900 R:500.0000 rate:1.0000 gloss:0.8136 dlossA:0.5121 dlossQ:10.1869 exploreP:0.0100\n",
      "Episode:510 meanR:494.9500 R:500.0000 rate:1.0000 gloss:0.8582 dlossA:0.5143 dlossQ:10.4434 exploreP:0.0100\n",
      "Episode:511 meanR:494.9500 R:500.0000 rate:1.0000 gloss:0.8403 dlossA:0.4695 dlossQ:10.9607 exploreP:0.0100\n",
      "Episode:512 meanR:494.9500 R:500.0000 rate:1.0000 gloss:0.8450 dlossA:0.4755 dlossQ:10.9735 exploreP:0.0100\n",
      "Episode:513 meanR:494.9500 R:500.0000 rate:1.0000 gloss:0.8764 dlossA:0.4497 dlossQ:11.0394 exploreP:0.0100\n",
      "Episode:514 meanR:494.9500 R:500.0000 rate:1.0000 gloss:0.9126 dlossA:0.4339 dlossQ:11.5912 exploreP:0.0100\n",
      "Episode:515 meanR:494.9500 R:500.0000 rate:1.0000 gloss:0.9139 dlossA:0.4391 dlossQ:11.9637 exploreP:0.0100\n",
      "Episode:516 meanR:494.9500 R:500.0000 rate:1.0000 gloss:0.8758 dlossA:0.4395 dlossQ:11.9281 exploreP:0.0100\n",
      "Episode:517 meanR:494.9500 R:500.0000 rate:1.0000 gloss:0.9311 dlossA:0.4235 dlossQ:12.2213 exploreP:0.0100\n",
      "Episode:518 meanR:494.9500 R:500.0000 rate:1.0000 gloss:0.9043 dlossA:0.4303 dlossQ:12.0445 exploreP:0.0100\n",
      "Episode:519 meanR:494.9500 R:500.0000 rate:1.0000 gloss:0.9236 dlossA:0.4179 dlossQ:12.7978 exploreP:0.0100\n",
      "Episode:520 meanR:496.8200 R:500.0000 rate:1.0000 gloss:0.9193 dlossA:0.4031 dlossQ:12.2653 exploreP:0.0100\n",
      "Episode:521 meanR:496.8200 R:500.0000 rate:1.0000 gloss:0.9409 dlossA:0.4182 dlossQ:13.1558 exploreP:0.0100\n",
      "Episode:522 meanR:496.8200 R:500.0000 rate:1.0000 gloss:0.9410 dlossA:0.4058 dlossQ:12.8502 exploreP:0.0100\n",
      "Episode:523 meanR:496.8200 R:500.0000 rate:1.0000 gloss:0.9263 dlossA:0.3921 dlossQ:12.7560 exploreP:0.0100\n",
      "Episode:524 meanR:496.8200 R:500.0000 rate:1.0000 gloss:0.9201 dlossA:0.3852 dlossQ:13.4432 exploreP:0.0100\n",
      "Episode:525 meanR:496.8200 R:500.0000 rate:1.0000 gloss:0.9194 dlossA:0.3800 dlossQ:13.6222 exploreP:0.0100\n",
      "Episode:526 meanR:496.8200 R:500.0000 rate:1.0000 gloss:0.9618 dlossA:0.3733 dlossQ:13.1856 exploreP:0.0100\n",
      "Episode:527 meanR:496.8200 R:500.0000 rate:1.0000 gloss:0.9488 dlossA:0.3636 dlossQ:12.9894 exploreP:0.0100\n",
      "Episode:528 meanR:496.8200 R:500.0000 rate:1.0000 gloss:0.9435 dlossA:0.3652 dlossQ:14.4244 exploreP:0.0100\n",
      "Episode:529 meanR:496.8200 R:500.0000 rate:1.0000 gloss:0.9647 dlossA:0.3680 dlossQ:13.9958 exploreP:0.0100\n",
      "Episode:530 meanR:496.8200 R:500.0000 rate:1.0000 gloss:0.9463 dlossA:0.3427 dlossQ:14.1484 exploreP:0.0100\n",
      "Episode:531 meanR:496.8200 R:500.0000 rate:1.0000 gloss:0.9375 dlossA:0.3573 dlossQ:14.8093 exploreP:0.0100\n",
      "Episode:532 meanR:496.8200 R:500.0000 rate:1.0000 gloss:0.9316 dlossA:0.3450 dlossQ:14.8934 exploreP:0.0100\n",
      "Episode:533 meanR:496.8200 R:500.0000 rate:1.0000 gloss:1.0021 dlossA:0.3361 dlossQ:16.3274 exploreP:0.0100\n",
      "Episode:534 meanR:496.8200 R:500.0000 rate:1.0000 gloss:0.9434 dlossA:0.3553 dlossQ:15.1610 exploreP:0.0100\n",
      "Episode:535 meanR:496.8200 R:500.0000 rate:1.0000 gloss:0.9513 dlossA:0.3376 dlossQ:16.0049 exploreP:0.0100\n",
      "Episode:536 meanR:497.2400 R:500.0000 rate:1.0000 gloss:0.9826 dlossA:0.3445 dlossQ:16.4138 exploreP:0.0100\n",
      "Episode:537 meanR:499.3500 R:500.0000 rate:1.0000 gloss:0.9766 dlossA:0.3202 dlossQ:16.1926 exploreP:0.0100\n",
      "Episode:538 meanR:499.3500 R:500.0000 rate:1.0000 gloss:0.9676 dlossA:0.3405 dlossQ:17.0931 exploreP:0.0100\n",
      "Episode:539 meanR:499.3500 R:500.0000 rate:1.0000 gloss:0.9695 dlossA:0.3424 dlossQ:17.1220 exploreP:0.0100\n",
      "Episode:540 meanR:499.3500 R:500.0000 rate:1.0000 gloss:0.9680 dlossA:0.3232 dlossQ:15.9658 exploreP:0.0100\n",
      "Episode:541 meanR:499.3500 R:500.0000 rate:1.0000 gloss:0.9602 dlossA:0.3226 dlossQ:16.3290 exploreP:0.0100\n",
      "Episode:542 meanR:499.3500 R:500.0000 rate:1.0000 gloss:1.0060 dlossA:0.3199 dlossQ:18.0971 exploreP:0.0100\n",
      "Episode:543 meanR:499.3500 R:500.0000 rate:1.0000 gloss:1.0107 dlossA:0.3124 dlossQ:18.1253 exploreP:0.0100\n",
      "Episode:544 meanR:500.0000 R:500.0000 rate:1.0000 gloss:0.9677 dlossA:0.3096 dlossQ:18.3165 exploreP:0.0100\n"
     ]
    }
   ],
   "source": [
    "# Save/load the model and save for plotting\n",
    "saver = tf.train.Saver()\n",
    "episode_rewards_list = [] # goal\n",
    "rewards_list, gloss_list, dloss_list = [], [], []\n",
    "\n",
    "# TF session for training\n",
    "with tf.Session(graph=graph) as sess:\n",
    "    sess.run(tf.global_variables_initializer())\n",
    "    #saver.restore(sess, 'checkpoints/model.ckpt')    \n",
    "    #saver.restore(sess, tf.train.latest_checkpoint('checkpoints'))\n",
    "    total_step = 0 # Explore or exploit parameter\n",
    "    episode_reward = deque(maxlen=100) # 100 episodes average/running average/running mean/window\n",
    "\n",
    "    # Training episodes/epochs\n",
    "    for ep in range(1111*2):\n",
    "        total_reward = 0 # each episode\n",
    "        gloss_batch, dlossA_batch, dlossQ_batch= [], [], []\n",
    "        state = env.reset() # each episode\n",
    "        num_step = 0 # each episode\n",
    "        idx_arr = np.arange(memory_size// batch_size)\n",
    "\n",
    "        # Training steps/batches\n",
    "        while True:\n",
    "            # Explore (Env) or Exploit (Model)\n",
    "            total_step += 1\n",
    "            explore_p = explore_stop + (explore_start - explore_stop) * np.exp(-decay_rate * total_step) \n",
    "            if explore_p > np.random.rand():\n",
    "                action = env.action_space.sample()\n",
    "                #print(action)\n",
    "            else:\n",
    "                action_logits = sess.run(model.actions_logits, feed_dict={model.states: state.reshape([1, -1]), \n",
    "                                                                          model.training: False})\n",
    "                action = np.argmax(action_logits) # adding epsilon*noise\n",
    "                #print(action)\n",
    "            next_state, reward, done, _ = env.step(action)\n",
    "            memory.buffer.append([state, action, next_state, reward, float(done)])\n",
    "            memory.rates.append(-1) # empty\n",
    "            num_step += 1 # momory added\n",
    "            total_reward += reward\n",
    "            state = next_state\n",
    "            \n",
    "            # Rating the memory\n",
    "            if done is True:\n",
    "                rate = total_reward/500 # update rate at the end/ when episode is done\n",
    "                for idx in range(num_step): # episode length\n",
    "                    if memory.rates[-1-idx] == -1: # double-check the landmark/marked indexes\n",
    "                        memory.rates[-1-idx] = rate # rate the trajectory/data\n",
    "                        \n",
    "            # Training with the maxrated minibatch\n",
    "            batch = memory.buffer\n",
    "            percentage = 0.9\n",
    "            #for idx in range(memory_size// batch_size):\n",
    "            idx = np.random.choice(idx_arr)\n",
    "            states = np.array([each[0] for each in batch])[idx*batch_size:(idx+1)*batch_size]\n",
    "            actions = np.array([each[1] for each in batch])[idx*batch_size:(idx+1)*batch_size]\n",
    "            next_states = np.array([each[2] for each in batch])[idx*batch_size:(idx+1)*batch_size]\n",
    "            rewards = np.array([each[3] for each in batch])[idx*batch_size:(idx+1)*batch_size]\n",
    "            dones = np.array([each[4] for each in batch])[idx*batch_size:(idx+1)*batch_size]\n",
    "            rates = np.array(memory.rates)[idx*batch_size:(idx+1)*batch_size]\n",
    "            #print(states.shape, actions.shape, next_states.shape, rewards.shape, dones.shape, rates.shape)\n",
    "            states = states[rates >= (np.max(rates)*percentage)]\n",
    "            actions = actions[rates >= (np.max(rates)*percentage)]\n",
    "            next_states = next_states[rates >= (np.max(rates)*percentage)]\n",
    "            rewards = rewards[rates >= (np.max(rates)*percentage)]\n",
    "            dones = dones[rates >= (np.max(rates)*percentage)]\n",
    "            rates = rates[rates >= (np.max(rates)*percentage)]\n",
    "            #print(states.shape, actions.shape, next_states.shape, rewards.shape, dones.shape, rates.shape)\n",
    "            nextQs_logits = sess.run(model.Qs_logits, feed_dict = {model.states: next_states, \n",
    "                                                                   model.training: False})\n",
    "            #nextQs = np.max(nextQs_logits, axis=1) * (1-dones) # DQN\n",
    "            nextQs = nextQs_logits.reshape([-1]) * (1-dones) # DPG\n",
    "            targetQs = rewards + (gamma * nextQs)\n",
    "            gloss, dlossA, dlossQ, _, _ = sess.run([model.g_loss, model.d_lossA, model.d_lossQ, \n",
    "                                                       model.g_opt, model.d_optA], #, model.d_optQ\n",
    "                                                      feed_dict = {model.states: states, \n",
    "                                                                   model.actions: actions,\n",
    "                                                                   model.targetQs: targetQs, \n",
    "                                                                   model.rates: rates, \n",
    "                                                                   model.training: True})\n",
    "            gloss_batch.append(gloss)\n",
    "            dlossA_batch.append(dlossA)\n",
    "            dlossQ_batch.append(dlossQ)\n",
    "            if done is True:\n",
    "                break\n",
    "                \n",
    "        episode_reward.append(total_reward)\n",
    "        print('Episode:{}'.format(ep),\n",
    "              'meanR:{:.4f}'.format(np.mean(episode_reward)),\n",
    "              'R:{:.4f}'.format(total_reward),\n",
    "              'rate:{:.4f}'.format(rate),\n",
    "              'gloss:{:.4f}'.format(np.mean(gloss_batch)),\n",
    "              'dlossA:{:.4f}'.format(np.mean(dlossA_batch)),\n",
    "              'dlossQ:{:.4f}'.format(np.mean(dlossQ_batch)),\n",
    "              'exploreP:{:.4f}'.format(explore_p))\n",
    "\n",
    "        # Ploting out\n",
    "        episode_rewards_list.append([ep, np.mean(episode_reward)])\n",
    "        rewards_list.append([ep, total_reward])\n",
    "        #gloss_list.append([ep, np.mean(gloss_batch)])\n",
    "        #dloss_list.append([ep, np.mean(dloss_batch)])\n",
    "        \n",
    "        # Break episode/epoch loop\n",
    "        ## Option 1: Solve the First Version\n",
    "        #The task is episodic, and in order to solve the environment, \n",
    "        #your agent must get an average score of +30 over 100 consecutive episodes.\n",
    "        if np.mean(episode_reward) >= 500:\n",
    "            break\n",
    "            \n",
    "    # At the end of all training episodes/epochs\n",
    "    saver.save(sess, 'checkpoints/model.ckpt')"
   ]
  },
  {
   "cell_type": "markdown",
   "metadata": {},
   "source": [
    "# Visualizing training\n",
    "\n",
    "Below I'll plot the total rewards for each episode. I'm plotting the rolling average too, in blue."
   ]
  },
  {
   "cell_type": "code",
   "execution_count": 15,
   "metadata": {},
   "outputs": [],
   "source": [
    "import matplotlib.pyplot as plt\n",
    "%matplotlib inline\n",
    "\n",
    "def running_mean(x, N):\n",
    "    cumsum = np.cumsum(np.insert(x, 0, 0)) \n",
    "    return (cumsum[N:] - cumsum[:-N]) / N "
   ]
  },
  {
   "cell_type": "code",
   "execution_count": 16,
   "metadata": {},
   "outputs": [
    {
     "data": {
      "text/plain": [
       "Text(0, 0.5, 'Total rewards')"
      ]
     },
     "execution_count": 16,
     "metadata": {},
     "output_type": "execute_result"
    },
    {
     "data": {
      "image/png": "[encoded data removed]",
      "text/plain": [
       "<Figure size 432x288 with 1 Axes>"
      ]
     },
     "metadata": {
      "needs_background": "light"
     },
     "output_type": "display_data"
    }
   ],
   "source": [
    "eps, arr = np.array(episode_rewards_list).T\n",
    "smoothed_arr = running_mean(arr, 10)\n",
    "plt.plot(eps[-len(smoothed_arr):], smoothed_arr)\n",
    "plt.plot(eps, arr, color='grey', alpha=0.3)\n",
    "plt.xlabel('Episode')\n",
    "plt.ylabel('Total rewards')"
   ]
  },
  {
   "cell_type": "code",
   "execution_count": 19,
   "metadata": {},
   "outputs": [
    {
     "data": {
      "text/plain": [
       "Text(0, 0.5, 'Total rewards')"
      ]
     },
     "execution_count": 19,
     "metadata": {},
     "output_type": "execute_result"
    },
    {
     "data": {
      "image/png": "[encoded data removed]",
      "text/plain": [
       "<Figure size 432x288 with 1 Axes>"
      ]
     },
     "metadata": {
      "needs_background": "light"
     },
     "output_type": "display_data"
    }
   ],
   "source": [
    "eps, arr = np.array(episode_rewards_list).T\n",
    "smoothed_arr = running_mean(arr, 10)\n",
    "plt.plot(eps[-len(smoothed_arr):], smoothed_arr)\n",
    "plt.plot(eps, arr, color='grey', alpha=0.3)\n",
    "plt.xlabel('Episode')\n",
    "plt.ylabel('Total rewards')"
   ]
  },
  {
   "cell_type": "code",
   "execution_count": 16,
   "metadata": {},
   "outputs": [
    {
     "data": {
      "text/plain": [
       "Text(0, 0.5, 'Total rewards')"
      ]
     },
     "execution_count": 16,
     "metadata": {},
     "output_type": "execute_result"
    },
    {
     "data": {
      "image/png": "[encoded data removed]",
      "text/plain": [
       "<Figure size 432x288 with 1 Axes>"
      ]
     },
     "metadata": {
      "needs_background": "light"
     },
     "output_type": "display_data"
    }
   ],
   "source": [
    "eps, arr = np.array(episode_rewards_list).T\n",
    "smoothed_arr = running_mean(arr, 10)\n",
    "plt.plot(eps[-len(smoothed_arr):], smoothed_arr)\n",
    "plt.plot(eps, arr, color='grey', alpha=0.3)\n",
    "plt.xlabel('Episode')\n",
    "plt.ylabel('Total rewards')"
   ]
  },
  {
   "cell_type": "code",
   "execution_count": 62,
   "metadata": {},
   "outputs": [
    {
     "data": {
      "text/plain": [
       "Text(0,0.5,'Total rewards')"
      ]
     },
     "execution_count": 62,
     "metadata": {},
     "output_type": "execute_result"
    },
    {
     "data": {
      "image/png": "[encoded data removed]",
      "text/plain": [
       "<Figure size 432x288 with 1 Axes>"
      ]
     },
     "metadata": {},
     "output_type": "display_data"
    }
   ],
   "source": [
    "eps, arr = np.array(episode_rewards_list).T\n",
    "smoothed_arr = running_mean(arr, 10)\n",
    "plt.plot(eps[-len(smoothed_arr):], smoothed_arr)\n",
    "plt.plot(eps, arr, color='grey', alpha=0.3)\n",
    "plt.xlabel('Episode')\n",
    "plt.ylabel('Total rewards')"
   ]
  },
  {
   "cell_type": "code",
   "execution_count": 20,
   "metadata": {},
   "outputs": [
    {
     "data": {
      "text/plain": [
       "Text(0, 0.5, 'Total rewards')"
      ]
     },
     "execution_count": 20,
     "metadata": {},
     "output_type": "execute_result"
    },
    {
     "data": {
      "image/png": "[encoded data removed]",
      "text/plain": [
       "<Figure size 432x288 with 1 Axes>"
      ]
     },
     "metadata": {
      "needs_background": "light"
     },
     "output_type": "display_data"
    }
   ],
   "source": [
    "eps, arr = np.array(rewards_list).T\n",
    "smoothed_arr = running_mean(arr, 10)\n",
    "plt.plot(eps[-len(smoothed_arr):], smoothed_arr)\n",
    "plt.plot(eps, arr, color='grey', alpha=0.3)\n",
    "plt.xlabel('Episode')\n",
    "plt.ylabel('Total rewards')"
   ]
  },
  {
   "cell_type": "code",
   "execution_count": 63,
   "metadata": {},
   "outputs": [
    {
     "data": {
      "text/plain": [
       "Text(0,0.5,'Total rewards')"
      ]
     },
     "execution_count": 63,
     "metadata": {},
     "output_type": "execute_result"
    },
    {
     "data": {
      "image/png": "[encoded data removed]",
      "text/plain": [
       "<Figure size 432x288 with 1 Axes>"
      ]
     },
     "metadata": {},
     "output_type": "display_data"
    }
   ],
   "source": [
    "eps, arr = np.array(rewards_list).T\n",
    "smoothed_arr = running_mean(arr, 10)\n",
    "plt.plot(eps[-len(smoothed_arr):], smoothed_arr)\n",
    "plt.plot(eps, arr, color='grey', alpha=0.3)\n",
    "plt.xlabel('Episode')\n",
    "plt.ylabel('Total rewards')"
   ]
  },
  {
   "cell_type": "code",
   "execution_count": 17,
   "metadata": {},
   "outputs": [
    {
     "data": {
      "text/plain": [
       "Text(0, 0.5, 'Total rewards')"
      ]
     },
     "execution_count": 17,
     "metadata": {},
     "output_type": "execute_result"
    },
    {
     "data": {
      "image/png": "[encoded data removed]",
      "text/plain": [
       "<Figure size 432x288 with 1 Axes>"
      ]
     },
     "metadata": {
      "needs_background": "light"
     },
     "output_type": "display_data"
    }
   ],
   "source": [
    "eps, arr = np.array(rewards_list).T\n",
    "smoothed_arr = running_mean(arr, 10)\n",
    "plt.plot(eps[-len(smoothed_arr):], smoothed_arr)\n",
    "plt.plot(eps, arr, color='grey', alpha=0.3)\n",
    "plt.xlabel('Episode')\n",
    "plt.ylabel('Total rewards')"
   ]
  },
  {
   "cell_type": "code",
   "execution_count": null,
   "metadata": {},
   "outputs": [],
   "source": [
    "eps, arr = np.array(gloss_list).T\n",
    "smoothed_arr = running_mean(arr, 10)\n",
    "plt.plot(eps[-len(smoothed_arr):], smoothed_arr)\n",
    "plt.plot(eps, arr, color='grey', alpha=0.3)\n",
    "plt.xlabel('Episode')\n",
    "plt.ylabel('G losses')`"
   ]
  },
  {
   "cell_type": "code",
   "execution_count": null,
   "metadata": {},
   "outputs": [],
   "source": [
    "eps, arr = np.array(dloss_list).T\n",
    "smoothed_arr = running_mean(arr, 10)\n",
    "plt.plot(eps[-len(smoothed_arr):], smoothed_arr)\n",
    "plt.plot(eps, arr, color='grey', alpha=0.3)\n",
    "plt.xlabel('Episode')\n",
    "plt.ylabel('D losses')"
   ]
  },
  {
   "cell_type": "markdown",
   "metadata": {},
   "source": [
    "## Testing\n",
    "\n",
    "Let's checkout how our trained agent plays the game."
   ]
  },
  {
   "cell_type": "code",
   "execution_count": 36,
   "metadata": {},
   "outputs": [
    {
     "name": "stdout",
     "output_type": "stream",
     "text": [
      "\u001b[33mWARN: gym.spaces.Box autodetected dtype as <class 'numpy.float32'>. Please provide explicit dtype.\u001b[0m\n",
      "\u001b[33mWARN: gym.spaces.Box autodetected dtype as <class 'numpy.float32'>. Please provide explicit dtype.\u001b[0m\n",
      "INFO:tensorflow:Restoring parameters from checkpoints/model.ckpt\n"
     ]
    },
    {
     "name": "stderr",
     "output_type": "stream",
     "text": [
      "/home/arasdar/anaconda3/envs/env/lib/python3.6/site-packages/gym/__init__.py:22: UserWarning: DEPRECATION WARNING: to improve load times, gym no longer automatically loads gym.spaces. Please run \"import gym.spaces\" to load gym.spaces on your own. This warning will turn into an error in a future version of gym.\n",
      "  warnings.warn('DEPRECATION WARNING: to improve load times, gym no longer automatically loads gym.spaces. Please run \"import gym.spaces\" to load gym.spaces on your own. This warning will turn into an error in a future version of gym.')\n"
     ]
    },
    {
     "name": "stdout",
     "output_type": "stream",
     "text": [
      "total_reward: 500.0\n"
     ]
    }
   ],
   "source": [
    "import gym\n",
    "env = gym.make('CartPole-v0')\n",
    "env = gym.make('CartPole-v1')\n",
    "# env = gym.make('Acrobot-v1')\n",
    "# env = gym.make('MountainCar-v0')\n",
    "# env = gym.make('Pendulum-v0')\n",
    "# env = gym.make('Blackjack-v0')\n",
    "# env = gym.make('FrozenLake-v0')\n",
    "# env = gym.make('AirRaid-ram-v0')\n",
    "# env = gym.make('AirRaid-v0')\n",
    "# env = gym.make('BipedalWalker-v2')\n",
    "# env = gym.make('Copy-v0')\n",
    "# env = gym.make('CarRacing-v0')\n",
    "# env = gym.make('Ant-v2') #mujoco\n",
    "# env = gym.make('FetchPickAndPlace-v1') # mujoco required!\n",
    "\n",
    "with tf.Session() as sess:\n",
    "    sess.run(tf.global_variables_initializer())\n",
    "    saver.restore(sess, 'checkpoints/model.ckpt')    \n",
    "    #saver.restore(sess, tf.train.latest_checkpoint('checkpoints'))\n",
    "    \n",
    "    # Episodes/epochs\n",
    "    for _ in range(1):\n",
    "        state = env.reset()\n",
    "        total_reward = 0\n",
    "\n",
    "        # Steps/batches\n",
    "        while True:\n",
    "            env.render()\n",
    "            action_logits = sess.run(model.actions_logits, feed_dict={model.states: state.reshape([1, -1])})\n",
    "            action = np.argmax(action_logits)\n",
    "            state, reward, done, _ = env.step(action)\n",
    "            total_reward += reward\n",
    "            if done:\n",
    "                print('total_reward: {}'.format(total_reward))\n",
    "                break\n",
    "                \n",
    "env.close()"
   ]
  },
  {
   "cell_type": "markdown",
   "metadata": {},
   "source": [
    "## Extending this\n",
    "\n",
    "So, Cart-Pole is a pretty simple game. However, the same model can be used to train an agent to play something much more complicated like Pong or Space Invaders. Instead of a state like we're using here though, you'd want to use convolutional layers to get the state from the screen images.\n",
    "\n",
    "![Deep Q-Learning Atari](assets/atari-network.png)\n",
    "\n",
    "I'll leave it as a challenge for you to use deep Q-learning to train an agent to play Atari games. Here's the original paper which will get you started: http://www.davidqiu.com:8888/research/nature14236.pdf."
   ]
  },
  {
   "cell_type": "code",
   "execution_count": null,
   "metadata": {},
   "outputs": [],
   "source": []
  }
 ],
 "metadata": {
  "kernelspec": {
   "display_name": "Python 3",
   "language": "python",
   "name": "python3"
  },
  "language_info": {
   "codemirror_mode": {
    "name": "ipython",
    "version": 3
   },
   "file_extension": ".py",
   "mimetype": "text/x-python",
   "name": "python",
   "nbconvert_exporter": "python",
   "pygments_lexer": "ipython3",
   "version": "3.6.6"
  }
 },
 "nbformat": 4,
 "nbformat_minor": 2
}
