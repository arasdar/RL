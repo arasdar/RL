{
 "cells": [
  {
   "cell_type": "markdown",
   "metadata": {},
   "source": [
    "# Sequential Q-learning\n",
    "\n",
    "In this notebook, we'll build a neural network that can learn to play games through reinforcement learning. More specifically, we'll use Q-learning to train an agent to play a game called [Cart-Pole](https://gym.openai.com/envs/CartPole-v0). In this game, a freely swinging pole is attached to a cart. The cart can move to the left and right, and the goal is to keep the pole upright as long as possible.\n",
    "\n",
    "![Cart-Pole](assets/cart-pole.jpg)\n",
    "\n",
    "We can simulate this game using [OpenAI Gym](https://gym.openai.com/). First, let's check out how OpenAI Gym works. Then, we'll get into training an agent to play the Cart-Pole game."
   ]
  },
  {
   "cell_type": "code",
   "execution_count": 1,
   "metadata": {},
   "outputs": [],
   "source": [
    "import gym\n",
    "import numpy as np"
   ]
  },
  {
   "cell_type": "code",
   "execution_count": 2,
   "metadata": {},
   "outputs": [
    {
     "name": "stdout",
     "output_type": "stream",
     "text": [
      "TensorFlow Version: 1.7.1\n",
      "Default GPU Device: \n"
     ]
    }
   ],
   "source": [
    "# In this one we should define and detect GPUs for tensorflow\n",
    "# GPUs or CPU\n",
    "import tensorflow as tf\n",
    "\n",
    "# Check TensorFlow Version\n",
    "print('TensorFlow Version: {}'.format(tf.__version__))\n",
    "\n",
    "# Check for a GPU\n",
    "print('Default GPU Device: {}'.format(tf.test.gpu_device_name()))"
   ]
  },
  {
   "cell_type": "markdown",
   "metadata": {},
   "source": [
    ">**Note:** Make sure you have OpenAI Gym cloned into the same directory with this notebook. I've included `gym` as a submodule, so you can run `git submodule --init --recursive` to pull the contents into the `gym` repo."
   ]
  },
  {
   "cell_type": "markdown",
   "metadata": {},
   "source": [
    ">**Note:** Make sure you have OpenAI Gym cloned. Then run this command `pip install -e gym/[all]`."
   ]
  },
  {
   "cell_type": "code",
   "execution_count": 3,
   "metadata": {},
   "outputs": [
    {
     "name": "stdout",
     "output_type": "stream",
     "text": [
      "\u001b[33mWARN: gym.spaces.Box autodetected dtype as <class 'numpy.float32'>. Please provide explicit dtype.\u001b[0m\n"
     ]
    },
    {
     "name": "stderr",
     "output_type": "stream",
     "text": [
      "/home/arasdar/anaconda3/envs/env/lib/python3.6/site-packages/gym/__init__.py:22: UserWarning: DEPRECATION WARNING: to improve load times, gym no longer automatically loads gym.spaces. Please run \"import gym.spaces\" to load gym.spaces on your own. This warning will turn into an error in a future version of gym.\n",
      "  warnings.warn('DEPRECATION WARNING: to improve load times, gym no longer automatically loads gym.spaces. Please run \"import gym.spaces\" to load gym.spaces on your own. This warning will turn into an error in a future version of gym.')\n"
     ]
    }
   ],
   "source": [
    "import gym\n",
    "\n",
    "# Create the Cart-Pole game environment\n",
    "#env = gym.make('CartPole-v0')\n",
    "env = gym.make('CartPole-v1')\n",
    "# env = gym.make('Acrobot-v1')\n",
    "# env = gym.make('MountainCar-v0')\n",
    "# env = gym.make('Pendulum-v0')\n",
    "# env = gym.make('Blackjack-v0')\n",
    "# env = gym.make('FrozenLake-v0')\n",
    "# env = gym.make('AirRaid-ram-v0')\n",
    "# env = gym.make('AirRaid-v0')\n",
    "# env = gym.make('BipedalWalker-v2')\n",
    "# env = gym.make('Copy-v0')\n",
    "# env = gym.make('CarRacing-v0')\n",
    "# env = gym.make('Ant-v2') #mujoco\n",
    "# env = gym.make('FetchPickAndPlace-v1') # mujoco required!"
   ]
  },
  {
   "cell_type": "markdown",
   "metadata": {},
   "source": [
    "We interact with the simulation through `env`. To show the simulation running, you can use `env.render()` to render one frame. Passing in an action as an integer to `env.step` will generate the next step in the simulation.  You can see how many actions are possible from `env.action_space` and to get a random action you can use `env.action_space.sample()`. This is general to all Gym games. In the Cart-Pole game, there are two possible actions, moving the cart left or right. So there are two actions we can take, encoded as 0 and 1.\n",
    "\n",
    "Run the code below to watch the simulation run."
   ]
  },
  {
   "cell_type": "code",
   "execution_count": 4,
   "metadata": {},
   "outputs": [
    {
     "name": "stdout",
     "output_type": "stream",
     "text": [
      "state, action, reward, done, info: [ 0.03367204 -0.18377751 -0.02637949  0.27589704] 0 1.0 False {}\n",
      "state, action, reward, done, info: [ 0.02999649  0.01171068 -0.02086155 -0.02498789] 1 1.0 False {}\n",
      "state, action, reward, done, info: [ 0.0302307   0.20712549 -0.0213613  -0.32417918] 1 1.0 False {}\n",
      "state, action, reward, done, info: [ 0.03437321  0.01231411 -0.02784489 -0.03830853] 0 1.0 False {}\n",
      "state, action, reward, done, info: [ 0.03461949  0.20782406 -0.02861106 -0.33964511] 1 1.0 False {}\n",
      "state, action, reward, done, info: [ 0.03877597  0.40334119 -0.03540396 -0.64121127] 1 1.0 False {}\n",
      "state, action, reward, done, info: [ 0.0468428   0.59893833 -0.04822819 -0.94482972] 1 1.0 False {}\n",
      "state, action, reward, done, info: [ 0.05882157  0.7946756  -0.06712478 -1.25226782] 1 1.0 False {}\n",
      "state, action, reward, done, info: [ 0.07471508  0.99059021 -0.09217014 -1.56519781] 1 1.0 False {}\n",
      "state, action, reward, done, info: [ 0.09452688  1.18668501 -0.12347409 -1.88515114] 1 1.0 False {}\n"
     ]
    }
   ],
   "source": [
    "env.reset()\n",
    "for _ in range(10):\n",
    "    # env.render()\n",
    "    action = env.action_space.sample()\n",
    "    state, reward, done, info = env.step(action) # take a random action\n",
    "    print('state, action, reward, done, info:', state, action, reward, done, info)\n",
    "    if done:\n",
    "        env.reset()"
   ]
  },
  {
   "cell_type": "markdown",
   "metadata": {},
   "source": [
    "To shut the window showing the simulation, use `env.close()`."
   ]
  },
  {
   "cell_type": "markdown",
   "metadata": {},
   "source": [
    "If you ran the simulation above, we can look at the rewards:"
   ]
  },
  {
   "cell_type": "code",
   "execution_count": 5,
   "metadata": {},
   "outputs": [],
   "source": [
    "# print(rewards[-20:])\n",
    "# print(np.array(rewards).shape, np.array(states).shape, np.array(actions).shape, np.array(dones).shape)\n",
    "# print(np.array(rewards).dtype, np.array(states).dtype, np.array(actions).dtype, np.array(dones).dtype)\n",
    "# print(np.max(np.array(actions)), np.min(np.array(actions)))\n",
    "# print((np.max(np.array(actions)) - np.min(np.array(actions)))+1)\n",
    "# print(np.max(np.array(rewards)), np.min(np.array(rewards)))\n",
    "# print(np.max(np.array(states)), np.min(np.array(states)))"
   ]
  },
  {
   "cell_type": "markdown",
   "metadata": {},
   "source": [
    "The game resets after the pole has fallen past a certain angle. For each frame while the simulation is running, it returns a reward of 1.0. The longer the game runs, the more reward we get. Then, our network's goal is to maximize the reward by keeping the pole vertical. It will do this by moving the cart to the left and the right."
   ]
  },
  {
   "cell_type": "markdown",
   "metadata": {},
   "source": [
    "## Q-Network\n",
    "\n",
    "We train our Q-learning agent using the Bellman Equation:\n",
    "\n",
    "$$\n",
    "Q(s, a) = r + \\gamma \\max{Q(s', a')}\n",
    "$$\n",
    "\n",
    "where $s$ is a state, $a$ is an action, and $s'$ is the next state from state $s$ and action $a$.\n",
    "\n",
    "Before we used this equation to learn values for a Q-_table_. However, for this game there are a huge number of states available. The state has four values: the position and velocity of the cart, and the position and velocity of the pole. These are all real-valued numbers, so ignoring floating point precisions, you practically have infinite states. Instead of using a table then, we'll replace it with a neural network that will approximate the Q-table lookup function.\n",
    "\n",
    "<img src=\"assets/deep-q-learning.png\" width=450px>\n",
    "\n",
    "Now, our Q value, $Q(s, a)$ is calculated by passing in a state to the network. The output will be Q-values for each available action, with fully connected hidden layers.\n",
    "\n",
    "<img src=\"assets/q-network.png\" width=550px>\n",
    "\n",
    "\n",
    "As I showed before, we can define our targets for training as $\\hat{Q}(s,a) = r + \\gamma \\max{Q(s', a')}$. Then we update the weights by minimizing $(\\hat{Q}(s,a) - Q(s,a))^2$. \n",
    "\n",
    "For this Cart-Pole game, we have four inputs, one for each value in the state, and two outputs, one for each action. To get $\\hat{Q}$, we'll first choose an action, then simulate the game using that action. This will get us the next state, $s'$, and the reward. With that, we can calculate $\\hat{Q}$ then pass it back into the $Q$ network to run the optimizer and update the weights.\n",
    "\n",
    "Below is my implementation of the Q-network. I used two fully connected layers with ReLU activations. Two seems to be good enough, three might be better. Feel free to try it out."
   ]
  },
  {
   "cell_type": "code",
   "execution_count": 132,
   "metadata": {},
   "outputs": [],
   "source": [
    "def model_input(state_size, lstm_size, batch_size=1):\n",
    "    actions = tf.placeholder(tf.int32, [None], name='actions')\n",
    "    states = tf.placeholder(tf.float32, [None, state_size], name='states')\n",
    "    targetQs = tf.placeholder(tf.float32, [None], name='targetQs')\n",
    "        \n",
    "    gru = tf.nn.rnn_cell.GRUCell(lstm_size)\n",
    "    cell = tf.nn.rnn_cell.MultiRNNCell([gru], state_is_tuple=False)\n",
    "    initial_state = cell.zero_state(batch_size, tf.float32)\n",
    "    \n",
    "    return actions, states, targetQs, cell, initial_state"
   ]
  },
  {
   "cell_type": "code",
   "execution_count": 133,
   "metadata": {},
   "outputs": [],
   "source": [
    "# RNN generator or sequence generator\n",
    "def generator(states, initial_state, cell, lstm_size, num_classes, reuse=False): \n",
    "    with tf.variable_scope('generator', reuse=reuse):\n",
    "        # First fully connected layer\n",
    "        inputs = tf.layers.dense(inputs=states, units=lstm_size)\n",
    "        print(states.shape, inputs.shape)\n",
    "        \n",
    "        # with tf.variable_scope('dynamic_rnn_', reuse=tf.AUTO_REUSE):\n",
    "        # dynamic means adapt to the batch_size\n",
    "        inputs_rnn = tf.reshape(inputs, [1, -1, lstm_size]) # NxH -> 1xNxH\n",
    "        print(inputs_rnn.shape, initial_state.shape)\n",
    "        outputs_rnn, final_state = tf.nn.dynamic_rnn(cell=cell, inputs=inputs_rnn, initial_state=initial_state)\n",
    "        print(outputs_rnn.shape, final_state.shape)\n",
    "        outputs = tf.reshape(outputs_rnn, [-1, lstm_size]) # 1xNxH -> NxH\n",
    "        print(outputs.shape)\n",
    "\n",
    "        # Last fully connected layer\n",
    "        logits = tf.layers.dense(inputs=outputs, units=num_classes)\n",
    "        print(logits.shape)\n",
    "        #predictions = tf.nn.softmax(logits)\n",
    "        \n",
    "        # logits are the action logits\n",
    "        return logits, final_state"
   ]
  },
  {
   "cell_type": "code",
   "execution_count": 134,
   "metadata": {},
   "outputs": [],
   "source": [
    "def model_outputs(action_size, hidden_size, states, cell, initial_state):\n",
    "    actions_logits, final_state = generator(states=states, cell=cell, initial_state=initial_state, \n",
    "                                            lstm_size=hidden_size, num_classes=action_size)\n",
    "    return actions_logits, final_state"
   ]
  },
  {
   "cell_type": "code",
   "execution_count": 142,
   "metadata": {},
   "outputs": [],
   "source": [
    "def model_loss(action_size, hidden_size, states, cell, initial_state, actions, targetQs):\n",
    "    actions_logits, _ = generator(states=states, cell=cell, initial_state=initial_state, \n",
    "                                  lstm_size=hidden_size, num_classes=action_size, reuse=True)\n",
    "    actions_labels = tf.one_hot(indices=actions, depth=action_size, dtype=actions_logits.dtype)\n",
    "    Qs = tf.reduce_max(actions_logits*actions_labels, axis=1)\n",
    "    loss = tf.reduce_mean(tf.square(Qs - targetQs))\n",
    "#     loss = tf.reduce_mean(tf.nn.sigmoid_cross_entropy_with_logits(logits=Qs_logits, \n",
    "#                                                                   labels=tf.nn.sigmoid(targetQs[1:])))\n",
    "    return actions_logits, loss"
   ]
  },
  {
   "cell_type": "code",
   "execution_count": 143,
   "metadata": {},
   "outputs": [],
   "source": [
    "def model_opt(loss, learning_rate):\n",
    "    \"\"\"\n",
    "    Get optimization operations in order\n",
    "    :param loss: Generator loss Tensor for action prediction\n",
    "    :param learning_rate: Learning Rate Placeholder\n",
    "    :return: A tuple of (qfunction training, generator training, discriminator training)\n",
    "    \"\"\"\n",
    "    # Get weights and bias to update\n",
    "    t_vars = tf.trainable_variables()\n",
    "    g_vars = [var for var in t_vars if var.name.startswith('generator')]\n",
    "\n",
    "    # # Optimize\n",
    "    # with tf.control_dependencies(tf.get_collection(tf.GraphKeys.UPDATE_OPS)): # Required for batchnorm (BN)\n",
    "    # #opt = tf.train.AdamOptimizer(learning_rate).minimize(loss, var_list=g_vars)\n",
    "\n",
    "    #grads, _ = tf.clip_by_global_norm(t_list=tf.gradients(loss, g_vars), clip_norm=5) # usually around 1-5\n",
    "    grads = tf.gradients(loss, g_vars)\n",
    "    opt = tf.train.AdamOptimizer(learning_rate).apply_gradients(grads_and_vars=zip(grads, g_vars))\n",
    "\n",
    "    return opt"
   ]
  },
  {
   "cell_type": "code",
   "execution_count": 144,
   "metadata": {},
   "outputs": [],
   "source": [
    "class Model:\n",
    "    def __init__(self, state_size, action_size, hidden_size, learning_rate):\n",
    "\n",
    "        # Data of the Model: make the data available inside the framework\n",
    "        self.actions, self.states, self.targetQs, cell, self.initial_state = model_input(\n",
    "            state_size=state_size, lstm_size=hidden_size)\n",
    "        \n",
    "        # Output of the Model: calculating the loss and forwad pass\n",
    "        self.actions_logits, self.final_state = model_outputs(\n",
    "            action_size=action_size, hidden_size=hidden_size, \n",
    "            states=self.states, cell=cell, initial_state=self.initial_state)\n",
    "\n",
    "        # Create the Model: calculating the loss and forwad pass\n",
    "        self.actions_logits, self.loss = model_loss(\n",
    "            action_size=action_size, hidden_size=hidden_size, \n",
    "            states=self.states, actions=self.actions, targetQs=self.targetQs, \n",
    "            cell=cell, initial_state=self.initial_state)\n",
    "\n",
    "        # Update the model: backward pass and backprop\n",
    "        self.opt = model_opt(loss=self.loss, learning_rate=learning_rate)"
   ]
  },
  {
   "cell_type": "markdown",
   "metadata": {},
   "source": [
    "## Experience replay\n",
    "\n",
    "Reinforcement learning algorithms can have stability issues due to correlations between states. To reduce correlations when training, we can store the agent's experiences and later draw a random mini-batch of those experiences to train on. \n",
    "\n",
    "Here, we'll create a `Memory` object that will store our experiences, our transitions $<s, a, r, s'>$. This memory will have a maxmium capacity, so we can keep newer experiences in memory while getting rid of older experiences. Then, we'll sample a random mini-batch of transitions $<s, a, r, s'>$ and train on those.\n",
    "\n",
    "Below, I've implemented a `Memory` object. If you're unfamiliar with `deque`, this is a double-ended queue. You can think of it like a tube open on both sides. You can put objects in either side of the tube. But if it's full, adding anything more will push an object out the other side. This is a great data structure to use for the memory buffer."
   ]
  },
  {
   "cell_type": "code",
   "execution_count": 145,
   "metadata": {},
   "outputs": [],
   "source": [
    "from collections import deque\n",
    "\n",
    "class Memory():    \n",
    "    def __init__(self, max_size = 1000):\n",
    "        self.buffer = deque(maxlen=max_size)\n",
    "        self.states = deque(maxlen=max_size)"
   ]
  },
  {
   "cell_type": "code",
   "execution_count": 157,
   "metadata": {},
   "outputs": [],
   "source": [
    "# episode_total_reward = deque(maxlen=10)"
   ]
  },
  {
   "cell_type": "markdown",
   "metadata": {},
   "source": [
    "## Exploration - Exploitation\n",
    "\n",
    "To learn about the environment and rules of the game, the agent needs to explore by taking random actions. We'll do this by choosing a random action with some probability $\\epsilon$ (epsilon).  That is, with some probability $\\epsilon$ the agent will make a random action and with probability $1 - \\epsilon$, the agent will choose an action from $Q(s,a)$. This is called an **$\\epsilon$-greedy policy**.\n",
    "\n",
    "\n",
    "At first, the agent needs to do a lot of exploring. Later when it has learned more, the agent can favor choosing actions based on what it has learned. This is called _exploitation_. We'll set it up so the agent is more likely to explore early in training, then more likely to exploit later in training."
   ]
  },
  {
   "cell_type": "markdown",
   "metadata": {},
   "source": [
    "## Q-Learning training algorithm\n",
    "\n",
    "Putting all this together, we can list out the algorithm we'll use to train the network. We'll train the network in _episodes_. One *episode* is one simulation of the game. For this game, the goal is to keep the pole upright for 195 frames. So we can start a new episode once meeting that goal. The game ends if the pole tilts over too far, or if the cart moves too far the left or right. When a game ends, we'll start a new episode. Now, to train the agent:\n",
    "\n",
    "* Initialize the memory $D$\n",
    "* Initialize the action-value network $Q$ with random weights\n",
    "* **For** episode = 1, $M$ **do**\n",
    "  * **For** $t$, $T$ **do**\n",
    "     * With probability $\\epsilon$ select a random action $a_t$, otherwise select $a_t = \\mathrm{argmax}_a Q(s,a)$\n",
    "     * Execute action $a_t$ in simulator and observe reward $r_{t+1}$ and new state $s_{t+1}$\n",
    "     * Store transition $<s_t, a_t, r_{t+1}, s_{t+1}>$ in memory $D$\n",
    "     * Sample random mini-batch from $D$: $<s_j, a_j, r_j, s'_j>$\n",
    "     * Set $\\hat{Q}_j = r_j$ if the episode ends at $j+1$, otherwise set $\\hat{Q}_j = r_j + \\gamma \\max_{a'}{Q(s'_j, a')}$\n",
    "     * Make a gradient descent step with loss $(\\hat{Q}_j - Q(s_j, a_j))^2$\n",
    "  * **endfor**\n",
    "* **endfor**"
   ]
  },
  {
   "cell_type": "markdown",
   "metadata": {},
   "source": [
    "## Hyperparameters\n",
    "\n",
    "One of the more difficult aspects of reinforcememt learning are the large number of hyperparameters. Not only are we tuning the network, but we're tuning the simulation."
   ]
  },
  {
   "cell_type": "code",
   "execution_count": 158,
   "metadata": {},
   "outputs": [],
   "source": [
    "# print('state:', np.array(states).shape[1], \n",
    "#       'action size: {}'.format((np.max(np.array(actions)) - np.min(np.array(actions)))+1))"
   ]
  },
  {
   "cell_type": "code",
   "execution_count": 166,
   "metadata": {},
   "outputs": [],
   "source": [
    "# Training parameters\n",
    "batch_size = 32                # number of samples in the memory/ experience as mini-batch size\n",
    "learning_rate = 0.001          # learning rate for adam\n",
    "\n",
    "# Exploration parameters\n",
    "explore_start = 1.0            # exploration probability at start\n",
    "explore_stop = 0.01            # minimum exploration probability \n",
    "decay_rate = 0.0001            # exponential decay rate for exploration prob\n",
    "\n",
    "# Network parameters\n",
    "state_size = 4                 # number of units for the input state/observation -- simulation\n",
    "hidden_size = 64               # number of units in each Q-network hidden layer -- simulation\n",
    "action_size = 2                # number of units for the output actions -- simulation"
   ]
  },
  {
   "cell_type": "code",
   "execution_count": 167,
   "metadata": {},
   "outputs": [
    {
     "name": "stdout",
     "output_type": "stream",
     "text": [
      "(?, 4) (?, 64)\n",
      "(1, ?, 64) (1, 64)\n",
      "(1, ?, 64) (1, 64)\n",
      "(?, 64)\n",
      "(?, 2)\n",
      "(?, 4) (?, 64)\n",
      "(1, ?, 64) (1, 64)\n",
      "(1, ?, 64) (1, 64)\n",
      "(?, 64)\n",
      "(?, 2)\n"
     ]
    }
   ],
   "source": [
    "# Reset/init the graph/session\n",
    "graph = tf.reset_default_graph()\n",
    "\n",
    "# Init the model\n",
    "model = Model(action_size=action_size, hidden_size=hidden_size, state_size=state_size, learning_rate=learning_rate)\n",
    "\n",
    "# Init the memory\n",
    "memory = Memory(max_size=batch_size)"
   ]
  },
  {
   "cell_type": "markdown",
   "metadata": {},
   "source": [
    "## Populate the memory (exprience memory)\n",
    "\n",
    "Here I'm re-initializing the simulation and pre-populating the memory. The agent is taking random actions and storing the transitions in memory. This will help the agent with exploring the game."
   ]
  },
  {
   "cell_type": "code",
   "execution_count": 168,
   "metadata": {},
   "outputs": [],
   "source": [
    "state = env.reset()\n",
    "for _ in range(batch_size):\n",
    "    action = env.action_space.sample()\n",
    "    next_state, reward, done, _ = env.step(action)\n",
    "    memory.buffer.append([state, action, next_state, reward, float(done)])\n",
    "    state = next_state\n",
    "    if done is True:\n",
    "        state = env.reset()"
   ]
  },
  {
   "cell_type": "markdown",
   "metadata": {},
   "source": [
    "## Training the model\n",
    "\n",
    "Below we'll train our agent. If you want to watch it train, uncomment the `env.render()` line. This is slow because it's rendering the frames slower than the network can train. But, it's cool to watch the agent get better at the game."
   ]
  },
  {
   "cell_type": "code",
   "execution_count": 169,
   "metadata": {},
   "outputs": [
    {
     "data": {
      "text/plain": [
       "[array([ 0.03912216,  0.01218385, -0.00347782,  0.04461972]),\n",
       " 1,\n",
       " array([ 0.03936583,  0.2073555 , -0.00258543, -0.24915846]),\n",
       " 1.0,\n",
       " 0.0]"
      ]
     },
     "execution_count": 169,
     "metadata": {},
     "output_type": "execute_result"
    }
   ],
   "source": [
    "memory.buffer[0]"
   ]
  },
  {
   "cell_type": "code",
   "execution_count": 170,
   "metadata": {},
   "outputs": [],
   "source": [
    "# states, rewards, actions"
   ]
  },
  {
   "cell_type": "code",
   "execution_count": null,
   "metadata": {
    "scrolled": false
   },
   "outputs": [
    {
     "name": "stdout",
     "output_type": "stream",
     "text": [
      "Episode: 0 meanReward: 13.0000 meanLoss: 1.4376 ExploreP: 0.9987\n",
      "Episode: 1 meanReward: 13.0000 meanLoss: 2.0859 ExploreP: 0.9974\n",
      "Episode: 2 meanReward: 12.3333 meanLoss: 1.8955 ExploreP: 0.9963\n",
      "Episode: 3 meanReward: 13.7500 meanLoss: 7.2121 ExploreP: 0.9946\n",
      "Episode: 4 meanReward: 15.6000 meanLoss: 10.4739 ExploreP: 0.9923\n",
      "Episode: 5 meanReward: 16.6667 meanLoss: 7.0556 ExploreP: 0.9901\n",
      "Episode: 6 meanReward: 22.1429 meanLoss: 2.2025 ExploreP: 0.9848\n",
      "Episode: 7 meanReward: 26.7500 meanLoss: 4.1586 ExploreP: 0.9790\n",
      "Episode: 8 meanReward: 25.3333 meanLoss: 9.7931 ExploreP: 0.9777\n",
      "Episode: 9 meanReward: 24.7000 meanLoss: 17.9609 ExploreP: 0.9758\n",
      "Episode: 10 meanReward: 25.0000 meanLoss: 15.0360 ExploreP: 0.9731\n",
      "Episode: 11 meanReward: 24.5000 meanLoss: 16.6036 ExploreP: 0.9713\n",
      "Episode: 12 meanReward: 24.3077 meanLoss: 19.1308 ExploreP: 0.9692\n",
      "Episode: 13 meanReward: 25.9286 meanLoss: 13.1408 ExploreP: 0.9647\n",
      "Episode: 14 meanReward: 25.3333 meanLoss: 17.2051 ExploreP: 0.9631\n",
      "Episode: 15 meanReward: 24.9375 meanLoss: 27.4406 ExploreP: 0.9613\n",
      "Episode: 16 meanReward: 24.0588 meanLoss: 29.2070 ExploreP: 0.9603\n",
      "Episode: 17 meanReward: 23.7222 meanLoss: 41.7260 ExploreP: 0.9586\n",
      "Episode: 18 meanReward: 23.7368 meanLoss: 30.3269 ExploreP: 0.9563\n",
      "Episode: 19 meanReward: 23.8000 meanLoss: 31.9171 ExploreP: 0.9540\n",
      "Episode: 20 meanReward: 23.6667 meanLoss: 43.9707 ExploreP: 0.9520\n",
      "Episode: 21 meanReward: 23.3636 meanLoss: 32.6032 ExploreP: 0.9504\n",
      "Episode: 22 meanReward: 23.3478 meanLoss: 33.9882 ExploreP: 0.9482\n",
      "Episode: 23 meanReward: 22.9167 meanLoss: 40.9606 ExploreP: 0.9470\n",
      "Episode: 24 meanReward: 22.6000 meanLoss: 30.0629 ExploreP: 0.9456\n",
      "Episode: 25 meanReward: 22.1538 meanLoss: 22.2847 ExploreP: 0.9446\n",
      "Episode: 26 meanReward: 21.7037 meanLoss: 14.5683 ExploreP: 0.9437\n",
      "Episode: 27 meanReward: 21.4643 meanLoss: 28.4668 ExploreP: 0.9423\n",
      "Episode: 28 meanReward: 21.3448 meanLoss: 50.9369 ExploreP: 0.9406\n",
      "Episode: 29 meanReward: 22.5000 meanLoss: 22.2922 ExploreP: 0.9354\n",
      "Episode: 30 meanReward: 22.4516 meanLoss: 30.2491 ExploreP: 0.9334\n",
      "Episode: 31 meanReward: 22.8750 meanLoss: 32.3770 ExploreP: 0.9301\n",
      "Episode: 32 meanReward: 23.0000 meanLoss: 16.3385 ExploreP: 0.9286\n",
      "Episode: 33 meanReward: 22.9375 meanLoss: 19.1325 ExploreP: 0.9275\n",
      "Episode: 34 meanReward: 23.0938 meanLoss: 35.5705 ExploreP: 0.9261\n",
      "Episode: 35 meanReward: 23.8438 meanLoss: 37.2576 ExploreP: 0.9222\n",
      "Episode: 36 meanReward: 23.5312 meanLoss: 31.3650 ExploreP: 0.9211\n",
      "Episode: 37 meanReward: 23.2188 meanLoss: 44.1526 ExploreP: 0.9200\n",
      "Episode: 38 meanReward: 21.9688 meanLoss: 35.4379 ExploreP: 0.9186\n",
      "Episode: 39 meanReward: 20.4688 meanLoss: 33.2499 ExploreP: 0.9176\n",
      "Episode: 40 meanReward: 20.6562 meanLoss: 18.0615 ExploreP: 0.9158\n",
      "Episode: 41 meanReward: 20.7188 meanLoss: 32.5783 ExploreP: 0.9139\n",
      "Episode: 42 meanReward: 20.7500 meanLoss: 14.3658 ExploreP: 0.9113\n",
      "Episode: 43 meanReward: 20.5938 meanLoss: 34.5129 ExploreP: 0.9100\n",
      "Episode: 44 meanReward: 20.5312 meanLoss: 58.0707 ExploreP: 0.9082\n",
      "Episode: 45 meanReward: 20.4062 meanLoss: 27.8592 ExploreP: 0.9044\n",
      "Episode: 46 meanReward: 20.6250 meanLoss: 5.1658 ExploreP: 0.9022\n",
      "Episode: 47 meanReward: 20.4375 meanLoss: 33.6910 ExploreP: 0.9011\n",
      "Episode: 48 meanReward: 20.5312 meanLoss: 34.5637 ExploreP: 0.8999\n",
      "Episode: 49 meanReward: 21.4062 meanLoss: 6.7397 ExploreP: 0.8958\n",
      "Episode: 50 meanReward: 21.2812 meanLoss: 4.0081 ExploreP: 0.8940\n",
      "Episode: 51 meanReward: 20.8750 meanLoss: 33.1436 ExploreP: 0.8930\n",
      "Episode: 52 meanReward: 21.8750 meanLoss: 18.5412 ExploreP: 0.8883\n",
      "Episode: 53 meanReward: 22.3125 meanLoss: 20.6916 ExploreP: 0.8856\n",
      "Episode: 54 meanReward: 22.1562 meanLoss: 42.4600 ExploreP: 0.8840\n",
      "Episode: 55 meanReward: 22.2812 meanLoss: 64.4876 ExploreP: 0.8825\n",
      "Episode: 56 meanReward: 22.4062 meanLoss: 38.0336 ExploreP: 0.8809\n",
      "Episode: 57 meanReward: 23.9062 meanLoss: 3.6300 ExploreP: 0.8758\n",
      "Episode: 58 meanReward: 24.0312 meanLoss: 7.0506 ExploreP: 0.8745\n",
      "Episode: 59 meanReward: 24.1562 meanLoss: 46.2778 ExploreP: 0.8729\n",
      "Episode: 60 meanReward: 24.8125 meanLoss: 45.4641 ExploreP: 0.8695\n",
      "Episode: 61 meanReward: 23.9688 meanLoss: 42.0039 ExploreP: 0.8671\n",
      "Episode: 62 meanReward: 24.7500 meanLoss: 27.7242 ExploreP: 0.8631\n",
      "Episode: 63 meanReward: 24.0625 meanLoss: 19.0428 ExploreP: 0.8619\n",
      "Episode: 64 meanReward: 23.9688 meanLoss: 21.9198 ExploreP: 0.8607\n",
      "Episode: 65 meanReward: 24.1562 meanLoss: 15.1792 ExploreP: 0.8593\n",
      "Episode: 66 meanReward: 24.2188 meanLoss: 4.2509 ExploreP: 0.8578\n",
      "Episode: 67 meanReward: 23.8750 meanLoss: 42.4103 ExploreP: 0.8551\n",
      "Episode: 68 meanReward: 23.7500 meanLoss: 12.1395 ExploreP: 0.8544\n",
      "Episode: 69 meanReward: 23.9062 meanLoss: 47.6503 ExploreP: 0.8529\n",
      "Episode: 70 meanReward: 24.5938 meanLoss: 46.3836 ExploreP: 0.8498\n",
      "Episode: 71 meanReward: 27.4375 meanLoss: 12.0403 ExploreP: 0.8413\n",
      "Episode: 72 meanReward: 27.2188 meanLoss: 14.3445 ExploreP: 0.8402\n",
      "Episode: 73 meanReward: 26.9375 meanLoss: 44.7554 ExploreP: 0.8392\n",
      "Episode: 74 meanReward: 27.0312 meanLoss: 63.8742 ExploreP: 0.8366\n",
      "Episode: 75 meanReward: 27.1875 meanLoss: 37.7662 ExploreP: 0.8350\n",
      "Episode: 76 meanReward: 27.6562 meanLoss: 42.1289 ExploreP: 0.8321\n",
      "Episode: 77 meanReward: 27.6250 meanLoss: 10.6297 ExploreP: 0.8287\n",
      "Episode: 78 meanReward: 28.1562 meanLoss: 3.4712 ExploreP: 0.8253\n",
      "Episode: 79 meanReward: 28.3438 meanLoss: 45.3372 ExploreP: 0.8238\n",
      "Episode: 80 meanReward: 28.7188 meanLoss: 59.3100 ExploreP: 0.8218\n",
      "Episode: 81 meanReward: 27.7500 meanLoss: 56.6949 ExploreP: 0.8205\n",
      "Episode: 82 meanReward: 27.7812 meanLoss: 66.3546 ExploreP: 0.8188\n",
      "Episode: 83 meanReward: 28.6562 meanLoss: 37.9190 ExploreP: 0.8156\n",
      "Episode: 84 meanReward: 28.6875 meanLoss: 20.7245 ExploreP: 0.8113\n",
      "Episode: 85 meanReward: 29.1875 meanLoss: 6.0881 ExploreP: 0.8075\n",
      "Episode: 86 meanReward: 29.3750 meanLoss: 9.8534 ExploreP: 0.8056\n",
      "Episode: 87 meanReward: 29.5625 meanLoss: 38.4952 ExploreP: 0.8038\n",
      "Episode: 88 meanReward: 29.7812 meanLoss: 21.0715 ExploreP: 0.8017\n",
      "Episode: 89 meanReward: 28.7812 meanLoss: 3.9666 ExploreP: 0.7996\n",
      "Episode: 90 meanReward: 30.2188 meanLoss: 1.6255 ExploreP: 0.7949\n",
      "Episode: 91 meanReward: 30.1250 meanLoss: 3.5099 ExploreP: 0.7936\n",
      "Episode: 92 meanReward: 29.3438 meanLoss: 6.6089 ExploreP: 0.7925\n",
      "Episode: 93 meanReward: 29.0312 meanLoss: 15.5174 ExploreP: 0.7910\n",
      "Episode: 94 meanReward: 28.3438 meanLoss: 54.0230 ExploreP: 0.7892\n",
      "Episode: 95 meanReward: 29.1875 meanLoss: 41.7407 ExploreP: 0.7860\n",
      "Episode: 96 meanReward: 29.0938 meanLoss: 11.7022 ExploreP: 0.7851\n",
      "Episode: 97 meanReward: 28.9375 meanLoss: 21.9307 ExploreP: 0.7842\n",
      "Episode: 98 meanReward: 28.9688 meanLoss: 10.3274 ExploreP: 0.7827\n",
      "Episode: 99 meanReward: 28.4375 meanLoss: 52.9495 ExploreP: 0.7816\n",
      "Episode: 100 meanReward: 28.6875 meanLoss: 91.0200 ExploreP: 0.7803\n",
      "Episode: 101 meanReward: 28.5625 meanLoss: 85.8058 ExploreP: 0.7793\n",
      "Episode: 102 meanReward: 27.8750 meanLoss: 80.7520 ExploreP: 0.7782\n",
      "Episode: 103 meanReward: 25.7500 meanLoss: 53.5982 ExploreP: 0.7756\n",
      "Episode: 104 meanReward: 26.8438 meanLoss: 8.0508 ExploreP: 0.7719\n",
      "Episode: 105 meanReward: 27.2188 meanLoss: 39.3901 ExploreP: 0.7701\n",
      "Episode: 106 meanReward: 26.9062 meanLoss: 52.1835 ExploreP: 0.7684\n",
      "Episode: 107 meanReward: 26.6875 meanLoss: 59.7776 ExploreP: 0.7675\n",
      "Episode: 108 meanReward: 27.9375 meanLoss: 20.0294 ExploreP: 0.7618\n",
      "Episode: 109 meanReward: 27.2188 meanLoss: 28.4956 ExploreP: 0.7604\n",
      "Episode: 110 meanReward: 26.4062 meanLoss: 55.2121 ExploreP: 0.7593\n",
      "Episode: 111 meanReward: 26.2500 meanLoss: 37.7551 ExploreP: 0.7582\n",
      "Episode: 112 meanReward: 26.3125 meanLoss: 9.1026 ExploreP: 0.7562\n",
      "Episode: 113 meanReward: 26.2188 meanLoss: 33.5540 ExploreP: 0.7553\n",
      "Episode: 114 meanReward: 26.3438 meanLoss: 49.9942 ExploreP: 0.7535\n",
      "Episode: 115 meanReward: 26.2812 meanLoss: 25.7287 ExploreP: 0.7506\n",
      "Episode: 116 meanReward: 25.9062 meanLoss: 16.5521 ExploreP: 0.7475\n",
      "Episode: 117 meanReward: 25.3438 meanLoss: 3.7913 ExploreP: 0.7454\n",
      "Episode: 118 meanReward: 25.8438 meanLoss: 2.2648 ExploreP: 0.7425\n",
      "Episode: 119 meanReward: 25.6562 meanLoss: 3.1956 ExploreP: 0.7412\n",
      "Episode: 120 meanReward: 25.5625 meanLoss: 4.0024 ExploreP: 0.7395\n",
      "Episode: 121 meanReward: 26.9688 meanLoss: 12.2903 ExploreP: 0.7343\n",
      "Episode: 122 meanReward: 26.6875 meanLoss: 16.8361 ExploreP: 0.7306\n"
     ]
    },
    {
     "name": "stdout",
     "output_type": "stream",
     "text": [
      "Episode: 123 meanReward: 27.9375 meanLoss: 1.6444 ExploreP: 0.7266\n",
      "Episode: 124 meanReward: 31.0000 meanLoss: 1.0872 ExploreP: 0.7186\n",
      "Episode: 125 meanReward: 32.0312 meanLoss: 29.3952 ExploreP: 0.7149\n",
      "Episode: 126 meanReward: 32.3438 meanLoss: 41.7736 ExploreP: 0.7125\n",
      "Episode: 127 meanReward: 31.8438 meanLoss: 8.8394 ExploreP: 0.7108\n",
      "Episode: 128 meanReward: 32.2500 meanLoss: 49.0338 ExploreP: 0.7091\n",
      "Episode: 129 meanReward: 34.8125 meanLoss: 22.9686 ExploreP: 0.7026\n",
      "Episode: 130 meanReward: 34.8750 meanLoss: 17.2163 ExploreP: 0.7011\n",
      "Episode: 131 meanReward: 34.8750 meanLoss: 34.7936 ExploreP: 0.7001\n",
      "Episode: 132 meanReward: 34.7812 meanLoss: 8.3001 ExploreP: 0.6992\n",
      "Episode: 133 meanReward: 34.9688 meanLoss: 9.1053 ExploreP: 0.6979\n",
      "Episode: 134 meanReward: 35.6562 meanLoss: 55.0049 ExploreP: 0.6953\n",
      "Episode: 135 meanReward: 35.1250 meanLoss: 11.4377 ExploreP: 0.6942\n",
      "Episode: 136 meanReward: 34.1562 meanLoss: 8.8163 ExploreP: 0.6930\n",
      "Episode: 137 meanReward: 34.5312 meanLoss: 12.8247 ExploreP: 0.6906\n",
      "Episode: 138 meanReward: 36.2188 meanLoss: 26.2595 ExploreP: 0.6854\n",
      "Episode: 139 meanReward: 36.9688 meanLoss: 12.9233 ExploreP: 0.6830\n",
      "Episode: 140 meanReward: 36.0938 meanLoss: 17.7794 ExploreP: 0.6798\n",
      "Episode: 141 meanReward: 36.1250 meanLoss: 68.0739 ExploreP: 0.6785\n",
      "Episode: 142 meanReward: 37.3438 meanLoss: 18.7612 ExploreP: 0.6749\n",
      "Episode: 143 meanReward: 37.3125 meanLoss: 4.6918 ExploreP: 0.6740\n",
      "Episode: 144 meanReward: 37.0312 meanLoss: 7.0902 ExploreP: 0.6728\n",
      "Episode: 145 meanReward: 38.3125 meanLoss: 3.9645 ExploreP: 0.6693\n",
      "Episode: 146 meanReward: 37.9688 meanLoss: 58.3671 ExploreP: 0.6684\n",
      "Episode: 147 meanReward: 37.8750 meanLoss: 34.3938 ExploreP: 0.6661\n",
      "Episode: 148 meanReward: 36.9062 meanLoss: 20.8418 ExploreP: 0.6654\n",
      "Episode: 149 meanReward: 36.6875 meanLoss: 72.3883 ExploreP: 0.6639\n",
      "Episode: 150 meanReward: 36.8438 meanLoss: 31.0626 ExploreP: 0.6610\n",
      "Episode: 151 meanReward: 37.1562 meanLoss: 64.1727 ExploreP: 0.6592\n",
      "Episode: 152 meanReward: 37.0625 meanLoss: 19.6280 ExploreP: 0.6579\n",
      "Episode: 153 meanReward: 36.3125 meanLoss: 40.9207 ExploreP: 0.6548\n",
      "Episode: 154 meanReward: 35.9375 meanLoss: 46.9517 ExploreP: 0.6523\n",
      "Episode: 155 meanReward: 35.5625 meanLoss: 39.8018 ExploreP: 0.6495\n",
      "Episode: 156 meanReward: 33.2812 meanLoss: 39.4287 ExploreP: 0.6470\n",
      "Episode: 157 meanReward: 32.3125 meanLoss: 44.6637 ExploreP: 0.6457\n",
      "Episode: 158 meanReward: 31.6250 meanLoss: 43.9487 ExploreP: 0.6449\n",
      "Episode: 159 meanReward: 31.5938 meanLoss: 13.5661 ExploreP: 0.6434\n",
      "Episode: 160 meanReward: 31.5312 meanLoss: 11.0104 ExploreP: 0.6420\n",
      "Episode: 161 meanReward: 30.5625 meanLoss: 3.9898 ExploreP: 0.6380\n",
      "Episode: 162 meanReward: 30.5312 meanLoss: 3.7822 ExploreP: 0.6368\n",
      "Episode: 163 meanReward: 30.7500 meanLoss: 11.7008 ExploreP: 0.6355\n",
      "Episode: 164 meanReward: 31.2188 meanLoss: 6.5816 ExploreP: 0.6337\n",
      "Episode: 165 meanReward: 31.2500 meanLoss: 55.6843 ExploreP: 0.6324\n",
      "Episode: 166 meanReward: 31.8125 meanLoss: 11.9174 ExploreP: 0.6290\n",
      "Episode: 167 meanReward: 31.6875 meanLoss: 4.2840 ExploreP: 0.6282\n",
      "Episode: 168 meanReward: 31.6250 meanLoss: 6.6457 ExploreP: 0.6273\n",
      "Episode: 169 meanReward: 30.9062 meanLoss: 5.6327 ExploreP: 0.6265\n",
      "Episode: 170 meanReward: 29.0625 meanLoss: 4.6999 ExploreP: 0.6254\n",
      "Episode: 171 meanReward: 30.9062 meanLoss: 10.1179 ExploreP: 0.6196\n",
      "Episode: 172 meanReward: 30.0625 meanLoss: 110.0751 ExploreP: 0.6184\n",
      "Episode: 173 meanReward: 29.8750 meanLoss: 99.2825 ExploreP: 0.6175\n",
      "Episode: 174 meanReward: 28.6250 meanLoss: 124.4735 ExploreP: 0.6167\n",
      "Episode: 175 meanReward: 28.5000 meanLoss: 183.7231 ExploreP: 0.6161\n",
      "Episode: 176 meanReward: 28.3438 meanLoss: 148.9717 ExploreP: 0.6153\n",
      "Episode: 177 meanReward: 27.3750 meanLoss: 79.4346 ExploreP: 0.6140\n",
      "Episode: 178 meanReward: 27.2812 meanLoss: 110.7026 ExploreP: 0.6134\n",
      "Episode: 179 meanReward: 28.2812 meanLoss: 29.9453 ExploreP: 0.6093\n",
      "Episode: 180 meanReward: 28.1875 meanLoss: 64.0582 ExploreP: 0.6088\n",
      "Episode: 181 meanReward: 28.7188 meanLoss: 69.3428 ExploreP: 0.6065\n",
      "Episode: 182 meanReward: 28.3750 meanLoss: 47.2737 ExploreP: 0.6045\n",
      "Episode: 183 meanReward: 28.1250 meanLoss: 93.0869 ExploreP: 0.6034\n",
      "Episode: 184 meanReward: 28.3750 meanLoss: 102.3624 ExploreP: 0.6017\n",
      "Episode: 185 meanReward: 28.6250 meanLoss: 34.2318 ExploreP: 0.5984\n",
      "Episode: 186 meanReward: 28.5000 meanLoss: 34.3130 ExploreP: 0.5963\n",
      "Episode: 187 meanReward: 27.5938 meanLoss: 28.4641 ExploreP: 0.5955\n",
      "Episode: 188 meanReward: 26.8750 meanLoss: 23.8444 ExploreP: 0.5945\n",
      "Episode: 189 meanReward: 26.8125 meanLoss: 9.7561 ExploreP: 0.5934\n",
      "Episode: 190 meanReward: 28.3438 meanLoss: 22.3005 ExploreP: 0.5899\n",
      "Episode: 191 meanReward: 28.4062 meanLoss: 16.1107 ExploreP: 0.5884\n",
      "Episode: 192 meanReward: 28.2188 meanLoss: 59.3229 ExploreP: 0.5874\n",
      "Episode: 193 meanReward: 27.2812 meanLoss: 56.6725 ExploreP: 0.5855\n",
      "Episode: 194 meanReward: 27.6250 meanLoss: 19.5336 ExploreP: 0.5838\n",
      "Episode: 195 meanReward: 29.1250 meanLoss: 3.8317 ExploreP: 0.5798\n",
      "Episode: 196 meanReward: 29.2188 meanLoss: 3.9804 ExploreP: 0.5780\n",
      "Episode: 197 meanReward: 29.6875 meanLoss: 32.1861 ExploreP: 0.5760\n",
      "Episode: 198 meanReward: 30.4688 meanLoss: 20.5293 ExploreP: 0.5715\n",
      "Episode: 199 meanReward: 30.5312 meanLoss: 99.4160 ExploreP: 0.5707\n",
      "Episode: 200 meanReward: 30.4375 meanLoss: 146.8035 ExploreP: 0.5700\n",
      "Episode: 201 meanReward: 30.6250 meanLoss: 62.7234 ExploreP: 0.5689\n",
      "Episode: 202 meanReward: 30.4688 meanLoss: 8.9641 ExploreP: 0.5682\n",
      "Episode: 203 meanReward: 27.8438 meanLoss: 14.4342 ExploreP: 0.5676\n",
      "Episode: 204 meanReward: 27.7188 meanLoss: 16.5555 ExploreP: 0.5667\n",
      "Episode: 205 meanReward: 27.7188 meanLoss: 100.3369 ExploreP: 0.5660\n",
      "Episode: 206 meanReward: 27.7812 meanLoss: 202.0771 ExploreP: 0.5651\n",
      "Episode: 207 meanReward: 28.4688 meanLoss: 114.2644 ExploreP: 0.5634\n",
      "Episode: 208 meanReward: 28.9375 meanLoss: 42.8623 ExploreP: 0.5618\n",
      "Episode: 209 meanReward: 28.8125 meanLoss: 20.5552 ExploreP: 0.5608\n",
      "Episode: 210 meanReward: 29.5312 meanLoss: 21.3773 ExploreP: 0.5589\n",
      "Episode: 211 meanReward: 28.0000 meanLoss: 33.8732 ExploreP: 0.5580\n",
      "Episode: 212 meanReward: 28.4688 meanLoss: 18.4881 ExploreP: 0.5567\n",
      "Episode: 213 meanReward: 27.7812 meanLoss: 104.3785 ExploreP: 0.5558\n",
      "Episode: 214 meanReward: 27.4688 meanLoss: 144.3713 ExploreP: 0.5545\n",
      "Episode: 215 meanReward: 27.5000 meanLoss: 80.0500 ExploreP: 0.5534\n",
      "Episode: 216 meanReward: 27.1562 meanLoss: 71.5482 ExploreP: 0.5525\n",
      "Episode: 217 meanReward: 26.0625 meanLoss: 57.4556 ExploreP: 0.5513\n",
      "Episode: 218 meanReward: 25.4375 meanLoss: 117.5287 ExploreP: 0.5505\n",
      "Episode: 219 meanReward: 25.5625 meanLoss: 118.2706 ExploreP: 0.5495\n",
      "Episode: 220 meanReward: 25.5000 meanLoss: 144.5594 ExploreP: 0.5487\n",
      "Episode: 221 meanReward: 25.4688 meanLoss: 71.1940 ExploreP: 0.5478\n",
      "Episode: 222 meanReward: 24.3125 meanLoss: 154.4650 ExploreP: 0.5465\n",
      "Episode: 223 meanReward: 24.2188 meanLoss: 176.0658 ExploreP: 0.5452\n",
      "Episode: 224 meanReward: 24.4688 meanLoss: 38.7279 ExploreP: 0.5440\n",
      "Episode: 225 meanReward: 27.5625 meanLoss: 12.5491 ExploreP: 0.5369\n",
      "Episode: 226 meanReward: 27.8750 meanLoss: 37.5493 ExploreP: 0.5348\n",
      "Episode: 227 meanReward: 26.2500 meanLoss: 13.5552 ExploreP: 0.5339\n",
      "Episode: 228 meanReward: 29.3750 meanLoss: 15.2206 ExploreP: 0.5270\n",
      "Episode: 229 meanReward: 30.1875 meanLoss: 24.1900 ExploreP: 0.5239\n",
      "Episode: 230 meanReward: 31.4375 meanLoss: 608.7236 ExploreP: 0.5178\n",
      "Episode: 231 meanReward: 34.1562 meanLoss: 800.4732 ExploreP: 0.5126\n",
      "Episode: 232 meanReward: 34.8125 meanLoss: 638.0331 ExploreP: 0.5109\n",
      "Episode: 233 meanReward: 34.9375 meanLoss: 310.1874 ExploreP: 0.5098\n",
      "Episode: 234 meanReward: 36.8125 meanLoss: 35.2657 ExploreP: 0.5062\n",
      "Episode: 235 meanReward: 39.7188 meanLoss: 5.6616 ExploreP: 0.5011\n",
      "Episode: 236 meanReward: 39.8438 meanLoss: 200.3793 ExploreP: 0.5001\n",
      "Episode: 237 meanReward: 44.2500 meanLoss: 30.9461 ExploreP: 0.4926\n",
      "Episode: 238 meanReward: 44.5000 meanLoss: 70.1479 ExploreP: 0.4914\n",
      "Episode: 239 meanReward: 44.8125 meanLoss: 54.8909 ExploreP: 0.4894\n",
      "Episode: 240 meanReward: 46.0938 meanLoss: 20.3577 ExploreP: 0.4861\n",
      "Episode: 241 meanReward: 46.1875 meanLoss: 82.3158 ExploreP: 0.4851\n",
      "Episode: 242 meanReward: 52.7188 meanLoss: 507.7856 ExploreP: 0.4737\n",
      "Episode: 243 meanReward: 52.5938 meanLoss: 1232.8416 ExploreP: 0.4731\n"
     ]
    },
    {
     "name": "stdout",
     "output_type": "stream",
     "text": [
      "Episode: 244 meanReward: 53.8438 meanLoss: 95.8031 ExploreP: 0.4702\n",
      "Episode: 245 meanReward: 54.6250 meanLoss: 17.1217 ExploreP: 0.4682\n",
      "Episode: 246 meanReward: 54.7500 meanLoss: 99.3669 ExploreP: 0.4670\n",
      "Episode: 247 meanReward: 56.8438 meanLoss: 32.1049 ExploreP: 0.4630\n",
      "Episode: 248 meanReward: 57.6562 meanLoss: 10.5373 ExploreP: 0.4611\n",
      "Episode: 249 meanReward: 57.9062 meanLoss: 21.3735 ExploreP: 0.4598\n",
      "Episode: 250 meanReward: 58.2500 meanLoss: 112.7230 ExploreP: 0.4586\n",
      "Episode: 251 meanReward: 59.5938 meanLoss: 39.6320 ExploreP: 0.4558\n",
      "Episode: 252 meanReward: 63.4062 meanLoss: 645.6880 ExploreP: 0.4498\n",
      "Episode: 253 meanReward: 66.0312 meanLoss: 1016.1744 ExploreP: 0.4453\n",
      "Episode: 254 meanReward: 69.3750 meanLoss: 125.1309 ExploreP: 0.4397\n",
      "Episode: 255 meanReward: 76.4062 meanLoss: 848.2800 ExploreP: 0.4291\n",
      "Episode: 256 meanReward: 79.2188 meanLoss: 506.2054 ExploreP: 0.4244\n",
      "Episode: 257 meanReward: 79.2188 meanLoss: 109.9089 ExploreP: 0.4190\n",
      "Episode: 258 meanReward: 79.0625 meanLoss: 98.2716 ExploreP: 0.4175\n",
      "Episode: 259 meanReward: 79.4375 meanLoss: 66.5220 ExploreP: 0.4163\n",
      "Episode: 260 meanReward: 79.2188 meanLoss: 26.9701 ExploreP: 0.4113\n",
      "Episode: 261 meanReward: 79.2188 meanLoss: 51.8039 ExploreP: 0.4088\n",
      "Episode: 262 meanReward: 76.0938 meanLoss: 146.6179 ExploreP: 0.4080\n",
      "Episode: 263 meanReward: 73.4375 meanLoss: 149.9800 ExploreP: 0.4073\n",
      "Episode: 264 meanReward: 81.1250 meanLoss: 7.5660 ExploreP: 0.3964\n",
      "Episode: 265 meanReward: 83.5000 meanLoss: 19.0837 ExploreP: 0.3926\n",
      "Episode: 266 meanReward: 81.7812 meanLoss: 193.7758 ExploreP: 0.3920\n",
      "Episode: 267 meanReward: 81.7500 meanLoss: 48.9777 ExploreP: 0.3880\n",
      "Episode: 268 meanReward: 87.4688 meanLoss: 3.5802 ExploreP: 0.3804\n",
      "Episode: 269 meanReward: 88.0625 meanLoss: 10.2774 ExploreP: 0.3741\n",
      "Episode: 270 meanReward: 91.3750 meanLoss: 41.9453 ExploreP: 0.3694\n",
      "Episode: 271 meanReward: 90.8438 meanLoss: 214.4995 ExploreP: 0.3685\n",
      "Episode: 272 meanReward: 89.1875 meanLoss: 122.8426 ExploreP: 0.3679\n",
      "Episode: 273 meanReward: 93.3438 meanLoss: 24.9743 ExploreP: 0.3624\n"
     ]
    }
   ],
   "source": [
    "# Now train with experiences\n",
    "saver = tf.train.Saver() # save the trained model\n",
    "rewards_list, loss_list = [], []\n",
    "\n",
    "# TF session for training\n",
    "with tf.Session(graph=graph) as sess:\n",
    "    sess.run(tf.global_variables_initializer())\n",
    "    #saver.restore(sess, 'checkpoints/model.ckpt')    \n",
    "    #saver.restore(sess, tf.train.latest_checkpoint('checkpoints'))\n",
    "    initial_state = sess.run(model.initial_state) # Qs or current batch or states[:-1]\n",
    "    total_step = 0 # Explore or exploit parameter\n",
    "    episode_loss = deque(maxlen=batch_size)\n",
    "    episode_reward = deque(maxlen=batch_size)\n",
    "    \n",
    "    # Training episodes/epochs\n",
    "    for ep in range(11111):\n",
    "        total_reward = 0\n",
    "        loss_batch = []\n",
    "        state = env.reset()\n",
    "\n",
    "        # Training steps/batches\n",
    "        while True:\n",
    "            action_logits, final_state = sess.run([model.actions_logits, model.final_state],\n",
    "                                                  feed_dict = {model.states: state.reshape([1, -1]), \n",
    "                                                               model.initial_state: initial_state})\n",
    "            \n",
    "            # Explore (Env) or Exploit (Model)\n",
    "            total_step += 1\n",
    "            explore_p = explore_stop + (explore_start - explore_stop) * np.exp(-decay_rate * total_step) \n",
    "            if explore_p > np.random.rand():\n",
    "                action = env.action_space.sample()\n",
    "            else:\n",
    "                action = np.argmax(action_logits)\n",
    "            next_state, reward, done, _ = env.step(action)\n",
    "            memory.buffer.append([state, action, next_state, reward, float(done)])\n",
    "            memory.states.append([initial_state, final_state])\n",
    "            total_reward += reward\n",
    "            initial_state = final_state\n",
    "            state = next_state\n",
    "\n",
    "            # Training\n",
    "            batch = memory.buffer\n",
    "            states = np.array([each[0] for each in batch])\n",
    "            actions = np.array([each[1] for each in batch])\n",
    "            next_states = np.array([each[2] for each in batch])\n",
    "            rewards = np.array([each[3] for each in batch])\n",
    "            dones = np.array([each[4] for each in batch])\n",
    "            rnn_states = memory.states\n",
    "            initial_states = np.array([each[0] for each in rnn_states])\n",
    "            final_states = np.array([each[1] for each in rnn_states])\n",
    "            actions_logits = sess.run(model.actions_logits, \n",
    "                                      feed_dict = {model.states: next_states, \n",
    "                                                   model.initial_state: final_states[0].reshape([1, -1])})\n",
    "            nextQs = np.max(actions_logits, axis=1) * (1-dones)\n",
    "            targetQs = rewards + (0.99 * nextQs)\n",
    "            loss, _ = sess.run([model.loss, model.opt], \n",
    "                               feed_dict = {model.states: states, \n",
    "                                            model.actions: actions,\n",
    "                                            model.targetQs: targetQs,\n",
    "                                            model.initial_state: initial_states[0].reshape([1, -1])})\n",
    "            loss_batch.append(loss)\n",
    "            if done is True:\n",
    "                break\n",
    "                \n",
    "        episode_reward.append(total_reward)\n",
    "        print('Episode: {}'.format(ep),\n",
    "              'meanReward: {:.4f}'.format(np.mean(episode_reward)),\n",
    "              'meanLoss: {:.4f}'.format(np.mean(loss_batch)),\n",
    "              'ExploreP: {:.4f}'.format(explore_p))\n",
    "        rewards_list.append([ep, np.mean(episode_reward)])\n",
    "        loss_list.append([ep, np.mean(loss_batch)])\n",
    "        if(np.mean(episode_total_reward) >= 500):\n",
    "            break\n",
    "    \n",
    "    saver.save(sess, 'checkpoints/model.ckpt')"
   ]
  },
  {
   "cell_type": "markdown",
   "metadata": {},
   "source": [
    "# Visualizing training\n",
    "\n",
    "Below I'll plot the total rewards for each episode. I'm plotting the rolling average too, in blue."
   ]
  },
  {
   "cell_type": "code",
   "execution_count": 179,
   "metadata": {},
   "outputs": [],
   "source": [
    "%matplotlib inline\n",
    "import matplotlib.pyplot as plt\n",
    "\n",
    "def running_mean(x, N):\n",
    "    cumsum = np.cumsum(np.insert(x, 0, 0)) \n",
    "    return (cumsum[N:] - cumsum[:-N]) / N "
   ]
  },
  {
   "cell_type": "code",
   "execution_count": 182,
   "metadata": {},
   "outputs": [
    {
     "data": {
      "text/plain": [
       "Text(0,0.5,'Total rewards')"
      ]
     },
     "execution_count": 182,
     "metadata": {},
     "output_type": "execute_result"
    },
    {
     "data": {
      "image/png": "[encoded data removed]",
      "text/plain": [
       "<Figure size 432x288 with 1 Axes>"
      ]
     },
     "metadata": {},
     "output_type": "display_data"
    }
   ],
   "source": [
    "eps, arr = np.array(rewards_list).T\n",
    "smoothed_arr = running_mean(arr, 10)\n",
    "plt.plot(eps[-len(smoothed_arr):], smoothed_arr)\n",
    "plt.plot(eps, arr, color='grey', alpha=0.3)\n",
    "plt.xlabel('Episode')\n",
    "plt.ylabel('Total rewards')"
   ]
  },
  {
   "cell_type": "code",
   "execution_count": 183,
   "metadata": {},
   "outputs": [
    {
     "data": {
      "text/plain": [
       "Text(0,0.5,'Average losses')"
      ]
     },
     "execution_count": 183,
     "metadata": {},
     "output_type": "execute_result"
    },
    {
     "data": {
      "image/png": "[encoded data removed]",
      "text/plain": [
       "<Figure size 432x288 with 1 Axes>"
      ]
     },
     "metadata": {},
     "output_type": "display_data"
    }
   ],
   "source": [
    "eps, arr = np.array(loss_list).T\n",
    "smoothed_arr = running_mean(arr, 10)\n",
    "plt.plot(eps[-len(smoothed_arr):], smoothed_arr)\n",
    "plt.plot(eps, arr, color='grey', alpha=0.3)\n",
    "plt.xlabel('Episode')\n",
    "plt.ylabel('Average losses')"
   ]
  },
  {
   "cell_type": "markdown",
   "metadata": {},
   "source": [
    "## Testing\n",
    "\n",
    "Let's checkout how our trained agent plays the game."
   ]
  },
  {
   "cell_type": "code",
   "execution_count": 184,
   "metadata": {},
   "outputs": [
    {
     "name": "stdout",
     "output_type": "stream",
     "text": [
      "\u001b[33mWARN: gym.spaces.Box autodetected dtype as <class 'numpy.float32'>. Please provide explicit dtype.\u001b[0m\n",
      "\u001b[33mWARN: gym.spaces.Box autodetected dtype as <class 'numpy.float32'>. Please provide explicit dtype.\u001b[0m\n",
      "INFO:tensorflow:Restoring parameters from checkpoints/model.ckpt\n"
     ]
    },
    {
     "name": "stderr",
     "output_type": "stream",
     "text": [
      "/home/arasdar/anaconda3/envs/env/lib/python3.6/site-packages/gym/__init__.py:22: UserWarning: DEPRECATION WARNING: to improve load times, gym no longer automatically loads gym.spaces. Please run \"import gym.spaces\" to load gym.spaces on your own. This warning will turn into an error in a future version of gym.\n",
      "  warnings.warn('DEPRECATION WARNING: to improve load times, gym no longer automatically loads gym.spaces. Please run \"import gym.spaces\" to load gym.spaces on your own. This warning will turn into an error in a future version of gym.')\n"
     ]
    },
    {
     "name": "stdout",
     "output_type": "stream",
     "text": [
      "total_reward:120.0\n"
     ]
    }
   ],
   "source": [
    "import gym\n",
    "\n",
    "# Create the Cart-Pole game environment\n",
    "env = gym.make('CartPole-v0')\n",
    "env = gym.make('CartPole-v1')\n",
    "\n",
    "with tf.Session(graph=graph) as sess:\n",
    "    sess.run(tf.global_variables_initializer())\n",
    "    #saver.restore(sess, 'checkpoints/model-seq.ckpt')    \n",
    "    saver.restore(sess, tf.train.latest_checkpoint('checkpoints'))\n",
    "    initial_state = sess.run(model.initial_state) # Qs or current batch or states[:-1]\n",
    "    state = env.reset()\n",
    "    total_reward = 0\n",
    "    while True:\n",
    "        env.render()\n",
    "        action_logits, initial_state = sess.run([model.actions_logits, model.final_state],\n",
    "                                                feed_dict = {model.states: state.reshape([1, -1]), \n",
    "                                                             model.initial_state: initial_state})\n",
    "        action = np.argmax(action_logits)\n",
    "        state, reward, done, _ = env.step(action)\n",
    "        total_reward += reward\n",
    "        if done:\n",
    "            break\n",
    "print('total_reward:{}'.format(total_reward))\n",
    "env.close()"
   ]
  },
  {
   "cell_type": "markdown",
   "metadata": {},
   "source": [
    "## Extending this\n",
    "\n",
    "So, Cart-Pole is a pretty simple game. However, the same model can be used to train an agent to play something much more complicated like Pong or Space Invaders. Instead of a state like we're using here though, you'd want to use convolutional layers to get the state from the screen images.\n",
    "\n",
    "![Deep Q-Learning Atari](assets/atari-network.png)\n",
    "\n",
    "I'll leave it as a challenge for you to use deep Q-learning to train an agent to play Atari games. Here's the original paper which will get you started: http://www.davidqiu.com:8888/research/nature14236.pdf."
   ]
  },
  {
   "cell_type": "code",
   "execution_count": null,
   "metadata": {},
   "outputs": [],
   "source": []
  }
 ],
 "metadata": {
  "kernelspec": {
   "display_name": "Python 3",
   "language": "python",
   "name": "python3"
  },
  "language_info": {
   "codemirror_mode": {
    "name": "ipython",
    "version": 3
   },
   "file_extension": ".py",
   "mimetype": "text/x-python",
   "name": "python",
   "nbconvert_exporter": "python",
   "pygments_lexer": "ipython3",
   "version": "3.6.5"
  }
 },
 "nbformat": 4,
 "nbformat_minor": 2
}
