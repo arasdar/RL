{
 "cells": [
  {
   "cell_type": "code",
   "execution_count": 1,
   "metadata": {},
   "outputs": [
    {
     "name": "stdout",
     "output_type": "stream",
     "text": [
      "TensorFlow Version: 1.7.1\n",
      "Default GPU Device: \n"
     ]
    }
   ],
   "source": [
    "# In this one we should define and detect GPUs for tensorflow\n",
    "# GPUs or CPU\n",
    "import tensorflow as tf\n",
    "\n",
    "# Check TensorFlow Version\n",
    "print('TensorFlow Version: {}'.format(tf.__version__))\n",
    "\n",
    "# Check for a GPU\n",
    "print('Default GPU Device: {}'.format(tf.test.gpu_device_name()))"
   ]
  },
  {
   "cell_type": "markdown",
   "metadata": {},
   "source": [
    "##### >**Note:** Make sure you have OpenAI Gym cloned. Then run this command `pip install -e gym/[all]`."
   ]
  },
  {
   "cell_type": "code",
   "execution_count": 2,
   "metadata": {},
   "outputs": [],
   "source": [
    "import numpy as np\n",
    "import gym\n",
    "env = gym.make('CartPole-v0')\n",
    "env = gym.make('CartPole-v1')"
   ]
  },
  {
   "cell_type": "code",
   "execution_count": 3,
   "metadata": {},
   "outputs": [],
   "source": [
    "def model_input(state_size):\n",
    "    #states = tf.placeholder(tf.float32, [None, *state_size], name='states')\n",
    "    states = tf.placeholder(tf.float32, [None, state_size], name='states')\n",
    "    actions = tf.placeholder(tf.int32, [None], name='actions')\n",
    "    targetQs = tf.placeholder(tf.float32, [None], name='targetQs')\n",
    "    rates = tf.placeholder(tf.float32, [None], name='rates')\n",
    "    return states, actions, targetQs, rates"
   ]
  },
  {
   "cell_type": "code",
   "execution_count": 4,
   "metadata": {},
   "outputs": [],
   "source": [
    "# Generator/Controller: Generating/prediting the actions\n",
    "def generator(states, action_size, hidden_size, reuse=False, alpha=0.1, training=False):\n",
    "    with tf.variable_scope('generator', reuse=reuse):\n",
    "        # First fully connected layer\n",
    "        h1 = tf.layers.dense(inputs=states, units=hidden_size)\n",
    "        bn1 = tf.layers.batch_normalization(h1, training=training)        \n",
    "        nl1 = tf.maximum(alpha * bn1, bn1)\n",
    "        \n",
    "        # Second fully connected layer\n",
    "        h2 = tf.layers.dense(inputs=nl1, units=hidden_size)\n",
    "        bn2 = tf.layers.batch_normalization(h2, training=training)        \n",
    "        nl2 = tf.maximum(alpha * bn2, bn2)\n",
    "        \n",
    "        # Output layer\n",
    "        logits = tf.layers.dense(inputs=nl2, units=action_size)        \n",
    "        #predictions = tf.nn.softmax(logits)\n",
    "\n",
    "        # return actions logits\n",
    "        return logits"
   ]
  },
  {
   "cell_type": "code",
   "execution_count": 5,
   "metadata": {},
   "outputs": [],
   "source": [
    "def discriminator(states, actions, hidden_size, reuse=False, alpha=0.1, training=False):\n",
    "    with tf.variable_scope('discriminator', reuse=reuse):\n",
    "        # First fully connected layer\n",
    "        h1 = tf.layers.dense(inputs=states, units=action_size)\n",
    "        bn1 = tf.layers.batch_normalization(h1, training=training)        \n",
    "        nl1 = tf.maximum(alpha * bn1, bn1)\n",
    "        \n",
    "        # Second fully connected layer\n",
    "        nl1_fused = tf.concat(axis=1, values=[nl1, actions])\n",
    "        h2 = tf.layers.dense(inputs=nl1_fused, units=hidden_size)\n",
    "        bn2 = tf.layers.batch_normalization(h2, training=training)        \n",
    "        nl2 = tf.maximum(alpha * bn2, bn2)\n",
    "                \n",
    "        # Output layer\n",
    "        logits = tf.layers.dense(inputs=nl2, units=1)        \n",
    "        #predictions = tf.nn.softmax(logits)\n",
    "\n",
    "        # return rewards logits\n",
    "        return logits"
   ]
  },
  {
   "cell_type": "code",
   "execution_count": 6,
   "metadata": {},
   "outputs": [],
   "source": [
    "def model_loss(action_size, hidden_size, states, actions, targetQs, rates):\n",
    "    actions_logits = generator(states=states, hidden_size=hidden_size, action_size=action_size)\n",
    "    gQs = discriminator(actions=actions_logits, hidden_size=hidden_size, states=states)\n",
    "    rates = tf.reshape(rates, shape=[-1, 1])\n",
    "    gloss = tf.reduce_mean(tf.nn.sigmoid_cross_entropy_with_logits(logits=gQs, # GAN\n",
    "                                                                   labels=rates)) # 0-1\n",
    "    targetQs = tf.reshape(targetQs, shape=[-1, 1])\n",
    "    gloss += tf.reduce_mean(tf.nn.sigmoid_cross_entropy_with_logits(logits=gQs, # GAN\n",
    "                                                                    labels=tf.nn.sigmoid(targetQs))) # 0-1\n",
    "    actions_labels = tf.one_hot(indices=actions, depth=action_size, dtype=actions_logits.dtype)\n",
    "    dQs = discriminator(actions=actions_labels, hidden_size=hidden_size, states=states, reuse=True)\n",
    "    dloss = tf.reduce_mean(tf.nn.sigmoid_cross_entropy_with_logits(logits=dQs, # GAN\n",
    "                                                                   labels=rates)) # 0-1\n",
    "    dloss += tf.reduce_mean(tf.nn.sigmoid_cross_entropy_with_logits(logits=dQs, # GAN\n",
    "                                                                    labels=tf.nn.sigmoid(targetQs))) # 0-1\n",
    "    actions_pred = tf.argmax(input=actions_logits, axis=1, output_type=actions.dtype)\n",
    "    mask_notequal = tf.not_equal(x=actions_pred, y=actions)\n",
    "    gQs_notequal = tf.boolean_mask(mask=mask_notequal, tensor=gQs)\n",
    "    dloss += tf.reduce_mean(tf.nn.sigmoid_cross_entropy_with_logits(logits=gQs_notequal, # GAN\n",
    "                                                                    labels=tf.zeros_like(gQs_notequal))) # 0-1\n",
    "    mask_equal = tf.equal(x=actions_pred, y=actions)\n",
    "    gQs_equal = tf.boolean_mask(mask=mask_equal, tensor=gQs)\n",
    "    rates_equal = tf.boolean_mask(mask=mask_equal, tensor=rates)\n",
    "    dloss += tf.reduce_mean(tf.nn.sigmoid_cross_entropy_with_logits(logits=gQs_equal, # GAN\n",
    "                                                                    labels=rates_equal)) # 0-1\n",
    "    targetQs_equal = tf.boolean_mask(mask=mask_equal, tensor=targetQs)\n",
    "    dloss += tf.reduce_mean(tf.nn.sigmoid_cross_entropy_with_logits(logits=gQs_equal, # GAN\n",
    "                                                                    labels=tf.nn.sigmoid(targetQs_equal))) # 0-1\n",
    "    glossQ = tf.reduce_mean(tf.square(gQs - targetQs)) # DQN\n",
    "    dlossQ = tf.reduce_mean(tf.square(dQs - targetQs)) # DQN\n",
    "    return actions_logits, gQs, gloss, dloss, glossQ, dlossQ, gQs_notequal, gQs_equal"
   ]
  },
  {
   "cell_type": "code",
   "execution_count": 7,
   "metadata": {},
   "outputs": [],
   "source": [
    "# Optimizating/training/learning G & D\n",
    "def model_opt(g_loss, d_loss, g_learning_rate, d_learning_rate):\n",
    "    # Get weights and bias to update\n",
    "    t_vars = tf.trainable_variables()\n",
    "    g_vars = [var for var in t_vars if var.name.startswith('generator')]\n",
    "    d_vars = [var for var in t_vars if var.name.startswith('discriminator')]\n",
    "\n",
    "    # Optimize\n",
    "    with tf.control_dependencies(tf.get_collection(tf.GraphKeys.UPDATE_OPS)): # Required for batchnorm (BN)\n",
    "        g_opt = tf.train.AdamOptimizer(g_learning_rate).minimize(g_loss, var_list=g_vars)\n",
    "        d_opt = tf.train.AdamOptimizer(d_learning_rate).minimize(d_loss, var_list=d_vars)\n",
    "    return g_opt, d_opt"
   ]
  },
  {
   "cell_type": "code",
   "execution_count": 8,
   "metadata": {},
   "outputs": [],
   "source": [
    "class Model:\n",
    "    def __init__(self, state_size, action_size, hidden_size, g_learning_rate, d_learning_rate):\n",
    "\n",
    "        # Data of the Model: make the data available inside the framework\n",
    "        self.states, self.actions, self.targetQs, self.rates = model_input(state_size=state_size)\n",
    "\n",
    "        # Create the Model: calculating the loss and forwad pass\n",
    "        self.actions_logits, self.Qs_logits, self.g_loss, self.d_loss, self.g_lossQ, self.d_lossQ, self.gQs_notequal, self.gQs_equal = model_loss(\n",
    "            action_size=action_size, hidden_size=hidden_size, # model init parameters\n",
    "            states=self.states, actions=self.actions, targetQs=self.targetQs, rates=self.rates) # model input\n",
    "        \n",
    "        # Update the model: backward pass and backprop\n",
    "        self.g_opt, self.d_opt = model_opt(g_loss=self.g_loss, d_loss=self.d_loss,\n",
    "                                           g_learning_rate=g_learning_rate, \n",
    "                                           d_learning_rate=d_learning_rate)"
   ]
  },
  {
   "cell_type": "code",
   "execution_count": 9,
   "metadata": {},
   "outputs": [],
   "source": [
    "from collections import deque\n",
    "class Memory():\n",
    "    def __init__(self, max_size = 1000):\n",
    "        self.buffer = deque(maxlen=max_size) # data batch\n",
    "        self.rates = deque(maxlen=max_size) # rates\n",
    "#     def sample(self, batch_size):\n",
    "#         idx = np.random.choice(np.arange(len(self.buffer)), # ==  self.rates\n",
    "#                                size=batch_size, \n",
    "#                                replace=False)\n",
    "#         return [self.buffer[ii] for ii in idx], [self.rates[ii] for ii in idx]"
   ]
  },
  {
   "cell_type": "markdown",
   "metadata": {},
   "source": [
    "## Hyperparameters\n",
    "\n",
    "One of the more difficult aspects of reinforcememt learning are the large number of hyperparameters. Not only are we tuning the network, but we're tuning the simulation."
   ]
  },
  {
   "cell_type": "code",
   "execution_count": 10,
   "metadata": {},
   "outputs": [
    {
     "data": {
      "text/plain": [
       "(Box(4,), Discrete(2))"
      ]
     },
     "execution_count": 10,
     "metadata": {},
     "output_type": "execute_result"
    }
   ],
   "source": [
    "env.observation_space, env.action_space"
   ]
  },
  {
   "cell_type": "code",
   "execution_count": 11,
   "metadata": {},
   "outputs": [],
   "source": [
    "# Exploration parameters\n",
    "explore_start = 1.0            # exploration probability at start\n",
    "explore_stop = 0.01           # minimum exploration probability \n",
    "decay_rate = 0.0001            # exponential decay rate for exploration prob\n",
    "\n",
    "# Network parameters\n",
    "state_size = 4\n",
    "action_size = 2\n",
    "hidden_size = 4*2             # number of units in each Q-network hidden layer\n",
    "g_learning_rate = 1e-4         # Q-network learning rate\n",
    "d_learning_rate = 1e-4         # Q-network learning rate\n",
    "\n",
    "# Memory parameters\n",
    "memory_size = int(1e5)            # memory capacity\n",
    "batch_size = int(1e3)             # experience mini-batch size: 200/500 a successfull episode size\n",
    "gamma = 0.99                   # future reward discount"
   ]
  },
  {
   "cell_type": "code",
   "execution_count": 12,
   "metadata": {},
   "outputs": [
    {
     "name": "stderr",
     "output_type": "stream",
     "text": [
      "/home/arasdar/miniconda3/envs/env/lib/python3.6/site-packages/tensorflow/python/ops/gradients_impl.py:100: UserWarning: Converting sparse IndexedSlices to a dense Tensor of unknown shape. This may consume a large amount of memory.\n",
      "  \"Converting sparse IndexedSlices to a dense Tensor of unknown shape. \"\n"
     ]
    }
   ],
   "source": [
    "# Reset/init the graph/session\n",
    "graph = tf.reset_default_graph()\n",
    "\n",
    "# Init the model\n",
    "model = Model(action_size=action_size, state_size=state_size, hidden_size=hidden_size,\n",
    "              g_learning_rate=g_learning_rate, d_learning_rate=d_learning_rate)\n",
    "\n",
    "# Init the memory\n",
    "memory = Memory(max_size=memory_size)"
   ]
  },
  {
   "cell_type": "code",
   "execution_count": 13,
   "metadata": {},
   "outputs": [],
   "source": [
    "state = env.reset()\n",
    "total_reward = 0\n",
    "num_step = 0\n",
    "for _ in range(memory_size):\n",
    "    action = env.action_space.sample()\n",
    "    next_state, reward, done, _ = env.step(action)\n",
    "    memory.buffer.append([state, action, next_state, reward, float(done)])\n",
    "    memory.rates.append(-1) # empty\n",
    "    num_step += 1 # memory incremented\n",
    "    total_reward += reward\n",
    "    state = next_state\n",
    "    if done is True:\n",
    "        state = env.reset()\n",
    "        rate = total_reward/500\n",
    "        total_reward = 0 # reset\n",
    "        for idx in range(num_step): # episode length\n",
    "            if memory.rates[-1-idx] == -1:\n",
    "                memory.rates[-1-idx] = rate\n",
    "        num_step = 0 # reset"
   ]
  },
  {
   "cell_type": "markdown",
   "metadata": {},
   "source": [
    "## Training the model\n",
    "\n",
    "Below we'll train our agent. If you want to watch it train, uncomment the `env.render()` line. This is slow because it's rendering the frames slower than the network can train. But, it's cool to watch the agent get better at the game."
   ]
  },
  {
   "cell_type": "code",
   "execution_count": null,
   "metadata": {},
   "outputs": [
    {
     "name": "stdout",
     "output_type": "stream",
     "text": [
      "Episode:0 meanR:21.0000 R:21.0000 rate:0.0420 gloss:1.3905 dloss:3.5979 glossQ:1.0007 dlossQ:0.3822 exploreP:0.9979\n",
      "Episode:1 meanR:18.0000 R:15.0000 rate:0.0300 gloss:1.3873 dloss:3.5859 glossQ:1.0010 dlossQ:0.3701 exploreP:0.9964\n",
      "Episode:2 meanR:17.6667 R:17.0000 rate:0.0340 gloss:1.3872 dloss:3.5732 glossQ:1.0011 dlossQ:0.3904 exploreP:0.9948\n",
      "Episode:3 meanR:18.2500 R:20.0000 rate:0.0400 gloss:1.3848 dloss:3.5639 glossQ:1.0019 dlossQ:0.3810 exploreP:0.9928\n",
      "Episode:4 meanR:17.4000 R:14.0000 rate:0.0280 gloss:1.3819 dloss:3.5513 glossQ:1.0027 dlossQ:0.3788 exploreP:0.9914\n",
      "Episode:5 meanR:20.3333 R:35.0000 rate:0.0700 gloss:1.3798 dloss:3.5329 glossQ:1.0032 dlossQ:0.3888 exploreP:0.9880\n",
      "Episode:6 meanR:20.4286 R:21.0000 rate:0.0420 gloss:1.3764 dloss:3.5166 glossQ:1.0039 dlossQ:0.3904 exploreP:0.9859\n",
      "Episode:7 meanR:19.2500 R:11.0000 rate:0.0220 gloss:1.3767 dloss:3.5042 glossQ:1.0042 dlossQ:0.4070 exploreP:0.9849\n",
      "Episode:8 meanR:18.6667 R:14.0000 rate:0.0280 gloss:1.3741 dloss:3.4955 glossQ:1.0046 dlossQ:0.3935 exploreP:0.9835\n",
      "Episode:9 meanR:18.1000 R:13.0000 rate:0.0260 gloss:1.3727 dloss:3.4802 glossQ:1.0054 dlossQ:0.3792 exploreP:0.9822\n",
      "Episode:10 meanR:19.2727 R:31.0000 rate:0.0620 gloss:1.3715 dloss:3.4701 glossQ:1.0056 dlossQ:0.4015 exploreP:0.9792\n",
      "Episode:11 meanR:19.5000 R:22.0000 rate:0.0440 gloss:1.3697 dloss:3.4512 glossQ:1.0059 dlossQ:0.4080 exploreP:0.9771\n",
      "Episode:12 meanR:19.7692 R:23.0000 rate:0.0460 gloss:1.3690 dloss:3.4362 glossQ:1.0084 dlossQ:0.4017 exploreP:0.9749\n",
      "Episode:13 meanR:20.0000 R:23.0000 rate:0.0460 gloss:1.3646 dloss:3.4243 glossQ:1.0146 dlossQ:0.4086 exploreP:0.9727\n",
      "Episode:14 meanR:19.8667 R:18.0000 rate:0.0360 gloss:1.3623 dloss:3.4135 glossQ:1.0101 dlossQ:0.4077 exploreP:0.9709\n",
      "Episode:15 meanR:21.8125 R:51.0000 rate:0.1020 gloss:1.3583 dloss:3.3891 glossQ:1.0113 dlossQ:0.3997 exploreP:0.9660\n",
      "Episode:16 meanR:21.7059 R:20.0000 rate:0.0400 gloss:1.3546 dloss:3.3660 glossQ:1.0121 dlossQ:0.4092 exploreP:0.9641\n",
      "Episode:17 meanR:22.7778 R:41.0000 rate:0.0820 gloss:1.3525 dloss:3.3500 glossQ:1.0144 dlossQ:0.4081 exploreP:0.9602\n",
      "Episode:18 meanR:22.2632 R:13.0000 rate:0.0260 gloss:1.3535 dloss:3.3345 glossQ:1.0156 dlossQ:0.4098 exploreP:0.9590\n",
      "Episode:19 meanR:22.3000 R:23.0000 rate:0.0460 gloss:1.3489 dloss:3.3217 glossQ:1.0156 dlossQ:0.4003 exploreP:0.9568\n",
      "Episode:20 meanR:22.5714 R:28.0000 rate:0.0560 gloss:1.3487 dloss:3.3057 glossQ:1.0189 dlossQ:0.3983 exploreP:0.9542\n",
      "Episode:21 meanR:22.7727 R:27.0000 rate:0.0540 gloss:1.3441 dloss:3.2916 glossQ:1.0196 dlossQ:0.3952 exploreP:0.9516\n",
      "Episode:22 meanR:22.6087 R:19.0000 rate:0.0380 gloss:1.3454 dloss:3.2799 glossQ:1.0214 dlossQ:0.4060 exploreP:0.9498\n",
      "Episode:23 meanR:22.6667 R:24.0000 rate:0.0480 gloss:1.3409 dloss:3.2649 glossQ:1.0202 dlossQ:0.3954 exploreP:0.9476\n",
      "Episode:24 meanR:22.2400 R:12.0000 rate:0.0240 gloss:1.3364 dloss:3.2549 glossQ:1.0262 dlossQ:0.4181 exploreP:0.9465\n",
      "Episode:25 meanR:21.9231 R:14.0000 rate:0.0280 gloss:1.3355 dloss:3.2459 glossQ:1.0235 dlossQ:0.4070 exploreP:0.9451\n",
      "Episode:26 meanR:21.6296 R:14.0000 rate:0.0280 gloss:1.3327 dloss:3.2339 glossQ:1.0247 dlossQ:0.4049 exploreP:0.9438\n",
      "Episode:27 meanR:22.2500 R:39.0000 rate:0.0780 gloss:1.3326 dloss:3.2198 glossQ:1.0299 dlossQ:0.3950 exploreP:0.9402\n",
      "Episode:28 meanR:22.0690 R:17.0000 rate:0.0340 gloss:1.3335 dloss:3.2116 glossQ:1.0273 dlossQ:0.3952 exploreP:0.9386\n",
      "Episode:29 meanR:21.9333 R:18.0000 rate:0.0360 gloss:1.3308 dloss:3.1922 glossQ:1.0851 dlossQ:0.4135 exploreP:0.9370\n",
      "Episode:30 meanR:22.1290 R:28.0000 rate:0.0560 gloss:1.3280 dloss:3.1855 glossQ:1.0289 dlossQ:0.3988 exploreP:0.9344\n",
      "Episode:31 meanR:22.1875 R:24.0000 rate:0.0480 gloss:1.3318 dloss:3.1801 glossQ:1.0280 dlossQ:0.3939 exploreP:0.9321\n",
      "Episode:32 meanR:22.0303 R:17.0000 rate:0.0340 gloss:1.3213 dloss:3.1586 glossQ:1.0330 dlossQ:0.3936 exploreP:0.9306\n",
      "Episode:33 meanR:21.8824 R:17.0000 rate:0.0340 gloss:1.3227 dloss:3.1568 glossQ:1.0458 dlossQ:0.4248 exploreP:0.9290\n",
      "Episode:34 meanR:21.6000 R:12.0000 rate:0.0240 gloss:1.3226 dloss:3.1460 glossQ:1.0361 dlossQ:0.3980 exploreP:0.9279\n",
      "Episode:35 meanR:22.1389 R:41.0000 rate:0.0820 gloss:1.3227 dloss:3.1373 glossQ:1.0371 dlossQ:0.4123 exploreP:0.9242\n",
      "Episode:36 meanR:22.3514 R:30.0000 rate:0.0600 gloss:1.3189 dloss:nan glossQ:1.1211 dlossQ:0.4454 exploreP:0.9214\n",
      "Episode:37 meanR:22.0789 R:12.0000 rate:0.0240 gloss:1.3269 dloss:3.1253 glossQ:1.0361 dlossQ:0.4342 exploreP:0.9203\n",
      "Episode:38 meanR:22.1538 R:25.0000 rate:0.0500 gloss:1.3169 dloss:3.1026 glossQ:1.0384 dlossQ:0.4179 exploreP:0.9181\n",
      "Episode:39 meanR:21.9500 R:14.0000 rate:0.0280 gloss:1.3118 dloss:3.0925 glossQ:1.0359 dlossQ:0.4341 exploreP:0.9168\n",
      "Episode:40 meanR:22.3902 R:40.0000 rate:0.0800 gloss:1.3119 dloss:3.0827 glossQ:1.0443 dlossQ:0.4533 exploreP:0.9132\n",
      "Episode:41 meanR:22.3095 R:19.0000 rate:0.0380 gloss:1.3105 dloss:3.0769 glossQ:1.0410 dlossQ:0.4673 exploreP:0.9115\n",
      "Episode:42 meanR:22.3256 R:23.0000 rate:0.0460 gloss:1.3118 dloss:3.0700 glossQ:1.0433 dlossQ:0.4652 exploreP:0.9094\n",
      "Episode:43 meanR:22.2500 R:19.0000 rate:0.0380 gloss:1.3080 dloss:nan glossQ:1.0373 dlossQ:0.4797 exploreP:0.9077\n",
      "Episode:44 meanR:22.3111 R:25.0000 rate:0.0500 gloss:1.3055 dloss:3.0463 glossQ:1.0502 dlossQ:0.4861 exploreP:0.9054\n",
      "Episode:45 meanR:22.0435 R:10.0000 rate:0.0200 gloss:1.3046 dloss:3.0471 glossQ:1.0447 dlossQ:0.4940 exploreP:0.9045\n",
      "Episode:46 meanR:21.8723 R:14.0000 rate:0.0280 gloss:1.2999 dloss:3.0324 glossQ:1.0428 dlossQ:0.4876 exploreP:0.9033\n",
      "Episode:47 meanR:22.4167 R:48.0000 rate:0.0960 gloss:1.3002 dloss:3.0248 glossQ:1.0507 dlossQ:0.4964 exploreP:0.8990\n",
      "Episode:48 meanR:22.2653 R:15.0000 rate:0.0300 gloss:1.3053 dloss:3.0222 glossQ:1.0524 dlossQ:0.5167 exploreP:0.8977\n",
      "Episode:49 meanR:22.3000 R:24.0000 rate:0.0480 gloss:1.2973 dloss:3.0092 glossQ:1.0495 dlossQ:0.5228 exploreP:0.8955\n",
      "Episode:50 meanR:22.0196 R:8.0000 rate:0.0160 gloss:1.3053 dloss:3.0157 glossQ:1.0596 dlossQ:0.5473 exploreP:0.8948\n",
      "Episode:51 meanR:21.8269 R:12.0000 rate:0.0240 gloss:1.3015 dloss:3.0084 glossQ:1.0538 dlossQ:0.5329 exploreP:0.8938\n",
      "Episode:52 meanR:22.0566 R:34.0000 rate:0.0680 gloss:1.3020 dloss:3.0053 glossQ:1.0498 dlossQ:0.5480 exploreP:0.8908\n",
      "Episode:53 meanR:21.9259 R:15.0000 rate:0.0300 gloss:1.2954 dloss:2.9828 glossQ:1.0509 dlossQ:0.5378 exploreP:0.8895\n",
      "Episode:54 meanR:21.8545 R:18.0000 rate:0.0360 gloss:1.2886 dloss:2.9681 glossQ:1.0587 dlossQ:0.5546 exploreP:0.8879\n",
      "Episode:55 meanR:21.7500 R:16.0000 rate:0.0320 gloss:1.3068 dloss:nan glossQ:1.0416 dlossQ:0.5608 exploreP:0.8865\n",
      "Episode:56 meanR:21.7018 R:19.0000 rate:0.0380 gloss:1.2903 dloss:2.9633 glossQ:1.0586 dlossQ:0.5759 exploreP:0.8848\n",
      "Episode:57 meanR:21.6207 R:17.0000 rate:0.0340 gloss:1.2847 dloss:2.9501 glossQ:1.0601 dlossQ:0.5746 exploreP:0.8833\n",
      "Episode:58 meanR:21.5932 R:20.0000 rate:0.0400 gloss:1.2867 dloss:2.9542 glossQ:1.0499 dlossQ:0.5789 exploreP:0.8816\n",
      "Episode:59 meanR:21.5167 R:17.0000 rate:0.0340 gloss:1.2924 dloss:2.9571 glossQ:1.0613 dlossQ:0.5993 exploreP:0.8801\n",
      "Episode:60 meanR:21.5246 R:22.0000 rate:0.0440 gloss:1.2883 dloss:2.9569 glossQ:1.0632 dlossQ:0.6245 exploreP:0.8782\n",
      "Episode:61 meanR:21.7258 R:34.0000 rate:0.0680 gloss:1.2912 dloss:2.9563 glossQ:1.0575 dlossQ:0.6217 exploreP:0.8752\n",
      "Episode:62 meanR:22.1429 R:48.0000 rate:0.0960 gloss:1.2871 dloss:2.9469 glossQ:1.0658 dlossQ:0.6476 exploreP:0.8711\n",
      "Episode:63 meanR:22.4375 R:41.0000 rate:0.0820 gloss:1.2811 dloss:2.9261 glossQ:1.0658 dlossQ:0.6640 exploreP:0.8676\n",
      "Episode:64 meanR:22.9077 R:53.0000 rate:0.1060 gloss:1.2815 dloss:2.9221 glossQ:1.0635 dlossQ:0.6838 exploreP:0.8630\n",
      "Episode:65 meanR:22.9545 R:26.0000 rate:0.0520 gloss:1.2832 dloss:nan glossQ:1.0634 dlossQ:0.6997 exploreP:0.8608\n",
      "Episode:66 meanR:23.1493 R:36.0000 rate:0.0720 gloss:1.2664 dloss:2.8815 glossQ:1.0723 dlossQ:0.7165 exploreP:0.8578\n",
      "Episode:67 meanR:23.1471 R:23.0000 rate:0.0460 gloss:1.2791 dloss:2.9046 glossQ:1.0702 dlossQ:0.7303 exploreP:0.8558\n",
      "Episode:68 meanR:23.2319 R:29.0000 rate:0.0580 gloss:1.2758 dloss:2.8911 glossQ:1.0681 dlossQ:0.7337 exploreP:0.8534\n",
      "Episode:69 meanR:23.1571 R:18.0000 rate:0.0360 gloss:1.2650 dloss:2.8729 glossQ:1.0689 dlossQ:0.7444 exploreP:0.8519\n",
      "Episode:70 meanR:23.0282 R:14.0000 rate:0.0280 gloss:1.2821 dloss:2.8990 glossQ:1.0633 dlossQ:0.7420 exploreP:0.8507\n"
     ]
    },
    {
     "name": "stdout",
     "output_type": "stream",
     "text": [
      "Episode:71 meanR:23.2083 R:36.0000 rate:0.0720 gloss:1.2734 dloss:2.8840 glossQ:1.0710 dlossQ:0.7761 exploreP:0.8477\n",
      "Episode:72 meanR:23.0548 R:12.0000 rate:0.0240 gloss:1.2918 dloss:2.9198 glossQ:1.0674 dlossQ:0.7804 exploreP:0.8466\n",
      "Episode:73 meanR:23.1081 R:27.0000 rate:0.0540 gloss:1.2692 dloss:2.8703 glossQ:1.0703 dlossQ:0.8002 exploreP:0.8444\n",
      "Episode:74 meanR:23.3333 R:40.0000 rate:0.0800 gloss:1.2754 dloss:2.8769 glossQ:1.0831 dlossQ:0.8345 exploreP:0.8411\n",
      "Episode:75 meanR:23.3684 R:26.0000 rate:0.0520 gloss:1.2647 dloss:2.8594 glossQ:1.0901 dlossQ:0.8578 exploreP:0.8389\n",
      "Episode:76 meanR:23.3117 R:19.0000 rate:0.0380 gloss:1.2922 dloss:2.9142 glossQ:1.0669 dlossQ:0.8765 exploreP:0.8373\n",
      "Episode:77 meanR:23.4359 R:33.0000 rate:0.0660 gloss:1.2594 dloss:2.8402 glossQ:1.0743 dlossQ:0.8597 exploreP:0.8346\n",
      "Episode:78 meanR:23.4937 R:28.0000 rate:0.0560 gloss:1.2645 dloss:2.8491 glossQ:1.0703 dlossQ:0.8576 exploreP:0.8323\n",
      "Episode:79 meanR:23.3750 R:14.0000 rate:0.0280 gloss:1.2727 dloss:2.8726 glossQ:1.0722 dlossQ:0.9096 exploreP:0.8311\n",
      "Episode:80 meanR:23.3704 R:23.0000 rate:0.0460 gloss:1.2659 dloss:2.8477 glossQ:1.0694 dlossQ:0.9077 exploreP:0.8293\n",
      "Episode:81 meanR:23.2439 R:13.0000 rate:0.0260 gloss:1.2595 dloss:2.8362 glossQ:1.0787 dlossQ:0.9310 exploreP:0.8282\n",
      "Episode:82 meanR:23.1084 R:12.0000 rate:0.0240 gloss:1.2691 dloss:2.8563 glossQ:1.0675 dlossQ:0.9352 exploreP:0.8272\n",
      "Episode:83 meanR:23.0595 R:19.0000 rate:0.0380 gloss:1.2536 dloss:2.8264 glossQ:1.0909 dlossQ:1.0102 exploreP:0.8257\n",
      "Episode:84 meanR:23.0706 R:24.0000 rate:0.0480 gloss:1.2647 dloss:2.8451 glossQ:1.0765 dlossQ:0.9862 exploreP:0.8237\n",
      "Episode:85 meanR:23.0581 R:22.0000 rate:0.0440 gloss:1.2471 dloss:2.8061 glossQ:1.0759 dlossQ:1.0214 exploreP:0.8219\n",
      "Episode:86 meanR:22.9080 R:10.0000 rate:0.0200 gloss:1.2576 dloss:2.8316 glossQ:1.0725 dlossQ:1.0053 exploreP:0.8211\n",
      "Episode:87 meanR:22.8977 R:22.0000 rate:0.0440 gloss:1.2504 dloss:2.8157 glossQ:1.0830 dlossQ:1.0545 exploreP:0.8193\n",
      "Episode:88 meanR:22.7528 R:10.0000 rate:0.0200 gloss:1.2621 dloss:2.8345 glossQ:1.0792 dlossQ:1.0357 exploreP:0.8185\n",
      "Episode:89 meanR:22.7333 R:21.0000 rate:0.0420 gloss:1.2626 dloss:2.8459 glossQ:1.0738 dlossQ:1.1241 exploreP:0.8168\n",
      "Episode:90 meanR:22.5824 R:9.0000 rate:0.0180 gloss:1.2599 dloss:2.8423 glossQ:1.0834 dlossQ:1.1457 exploreP:0.8161\n",
      "Episode:91 meanR:22.5217 R:17.0000 rate:0.0340 gloss:1.2621 dloss:2.8417 glossQ:1.0794 dlossQ:1.1287 exploreP:0.8147\n",
      "Episode:92 meanR:22.5914 R:29.0000 rate:0.0580 gloss:1.2652 dloss:2.8448 glossQ:1.0858 dlossQ:1.1949 exploreP:0.8124\n",
      "Episode:93 meanR:22.4468 R:9.0000 rate:0.0180 gloss:1.2575 dloss:2.8417 glossQ:1.0774 dlossQ:1.2112 exploreP:0.8117\n",
      "Episode:94 meanR:22.4632 R:24.0000 rate:0.0480 gloss:1.2515 dloss:2.8288 glossQ:1.0816 dlossQ:1.2367 exploreP:0.8098\n",
      "Episode:95 meanR:22.3438 R:11.0000 rate:0.0220 gloss:1.2616 dloss:2.8483 glossQ:1.0765 dlossQ:1.2098 exploreP:0.8089\n",
      "Episode:96 meanR:22.2371 R:12.0000 rate:0.0240 gloss:1.2530 dloss:2.8454 glossQ:1.0837 dlossQ:1.2890 exploreP:0.8079\n",
      "Episode:97 meanR:22.1633 R:15.0000 rate:0.0300 gloss:1.2477 dloss:2.8221 glossQ:1.0847 dlossQ:1.2692 exploreP:0.8067\n",
      "Episode:98 meanR:22.0606 R:12.0000 rate:0.0240 gloss:1.2489 dloss:2.8216 glossQ:1.0863 dlossQ:1.3108 exploreP:0.8058\n",
      "Episode:99 meanR:22.1400 R:30.0000 rate:0.0600 gloss:1.2612 dloss:2.8518 glossQ:1.0810 dlossQ:1.2950 exploreP:0.8034\n",
      "Episode:100 meanR:22.4000 R:47.0000 rate:0.0940 gloss:1.2705 dloss:2.8807 glossQ:1.0736 dlossQ:1.3238 exploreP:0.7997\n",
      "Episode:101 meanR:22.4100 R:16.0000 rate:0.0320 gloss:1.2691 dloss:2.8809 glossQ:1.0756 dlossQ:1.3680 exploreP:0.7984\n",
      "Episode:102 meanR:22.6100 R:37.0000 rate:0.0740 gloss:1.2678 dloss:nan glossQ:1.0719 dlossQ:1.4232 exploreP:0.7955\n",
      "Episode:103 meanR:22.6900 R:28.0000 rate:0.0560 gloss:1.2561 dloss:2.8559 glossQ:1.0845 dlossQ:1.4297 exploreP:0.7933\n",
      "Episode:104 meanR:22.8000 R:25.0000 rate:0.0500 gloss:1.2732 dloss:2.9062 glossQ:1.0691 dlossQ:1.4982 exploreP:0.7913\n",
      "Episode:105 meanR:22.7300 R:28.0000 rate:0.0560 gloss:1.2591 dloss:2.8645 glossQ:1.0849 dlossQ:1.4816 exploreP:0.7892\n",
      "Episode:106 meanR:22.9900 R:47.0000 rate:0.0940 gloss:1.2570 dloss:2.8576 glossQ:1.0787 dlossQ:1.4934 exploreP:0.7855\n",
      "Episode:107 meanR:23.0700 R:19.0000 rate:0.0380 gloss:1.2495 dloss:2.8401 glossQ:1.0812 dlossQ:1.5013 exploreP:0.7840\n",
      "Episode:108 meanR:23.3200 R:39.0000 rate:0.0780 gloss:1.2505 dloss:2.8397 glossQ:1.0844 dlossQ:1.5005 exploreP:0.7810\n",
      "Episode:109 meanR:23.3700 R:18.0000 rate:0.0360 gloss:1.2684 dloss:2.8815 glossQ:1.0713 dlossQ:1.5111 exploreP:0.7796\n",
      "Episode:110 meanR:23.1700 R:11.0000 rate:0.0220 gloss:1.2472 dloss:2.8303 glossQ:1.0868 dlossQ:1.5263 exploreP:0.7788\n",
      "Episode:111 meanR:23.2100 R:26.0000 rate:0.0520 gloss:1.2464 dloss:2.8225 glossQ:1.0823 dlossQ:1.4810 exploreP:0.7768\n",
      "Episode:112 meanR:23.0900 R:11.0000 rate:0.0220 gloss:1.2530 dloss:2.8310 glossQ:1.0817 dlossQ:1.4724 exploreP:0.7759\n",
      "Episode:113 meanR:23.1400 R:28.0000 rate:0.0560 gloss:1.2544 dloss:2.8359 glossQ:1.0730 dlossQ:1.4522 exploreP:0.7738\n",
      "Episode:114 meanR:23.1400 R:18.0000 rate:0.0360 gloss:1.2617 dloss:2.8493 glossQ:1.0887 dlossQ:1.5174 exploreP:0.7724\n",
      "Episode:115 meanR:22.8000 R:17.0000 rate:0.0340 gloss:1.2532 dloss:2.8373 glossQ:1.0685 dlossQ:1.4818 exploreP:0.7711\n",
      "Episode:116 meanR:22.7000 R:10.0000 rate:0.0200 gloss:1.2432 dloss:2.8116 glossQ:1.0769 dlossQ:1.4855 exploreP:0.7704\n",
      "Episode:117 meanR:22.4300 R:14.0000 rate:0.0280 gloss:1.2512 dloss:2.8333 glossQ:1.0896 dlossQ:1.5061 exploreP:0.7693\n",
      "Episode:118 meanR:22.4200 R:12.0000 rate:0.0240 gloss:1.2430 dloss:2.8123 glossQ:1.0805 dlossQ:1.4771 exploreP:0.7684\n",
      "Episode:119 meanR:22.6200 R:43.0000 rate:0.0860 gloss:1.2473 dloss:2.8126 glossQ:1.0850 dlossQ:1.4477 exploreP:0.7651\n",
      "Episode:120 meanR:22.4700 R:13.0000 rate:0.0260 gloss:1.2453 dloss:2.7974 glossQ:1.0864 dlossQ:1.4101 exploreP:0.7642\n",
      "Episode:121 meanR:22.3400 R:14.0000 rate:0.0280 gloss:1.2377 dloss:2.7868 glossQ:1.0892 dlossQ:1.4300 exploreP:0.7631\n",
      "Episode:122 meanR:22.2800 R:13.0000 rate:0.0260 gloss:1.2495 dloss:2.8175 glossQ:1.0877 dlossQ:1.4211 exploreP:0.7621\n",
      "Episode:123 meanR:22.2300 R:19.0000 rate:0.0380 gloss:1.2403 dloss:2.7888 glossQ:1.1210 dlossQ:1.5076 exploreP:0.7607\n",
      "Episode:124 meanR:22.3700 R:26.0000 rate:0.0520 gloss:1.2526 dloss:2.8127 glossQ:1.0836 dlossQ:1.3914 exploreP:0.7587\n",
      "Episode:125 meanR:22.3800 R:15.0000 rate:0.0300 gloss:1.2511 dloss:2.8067 glossQ:1.0867 dlossQ:1.3695 exploreP:0.7576\n",
      "Episode:126 meanR:22.5900 R:35.0000 rate:0.0700 gloss:1.2324 dloss:2.7623 glossQ:1.0875 dlossQ:1.3457 exploreP:0.7550\n",
      "Episode:127 meanR:22.6400 R:44.0000 rate:0.0880 gloss:1.2501 dloss:2.7911 glossQ:1.0812 dlossQ:1.3027 exploreP:0.7517\n",
      "Episode:128 meanR:22.6300 R:16.0000 rate:0.0320 gloss:1.2278 dloss:2.7413 glossQ:1.0808 dlossQ:1.2803 exploreP:0.7506\n",
      "Episode:129 meanR:22.5900 R:14.0000 rate:0.0280 gloss:1.2335 dloss:2.7515 glossQ:1.0960 dlossQ:1.2681 exploreP:0.7495\n",
      "Episode:130 meanR:22.5300 R:22.0000 rate:0.0440 gloss:1.2249 dloss:2.7315 glossQ:1.0942 dlossQ:1.2880 exploreP:0.7479\n",
      "Episode:131 meanR:22.5600 R:27.0000 rate:0.0540 gloss:1.2457 dloss:nan glossQ:1.2500 dlossQ:1.4668 exploreP:0.7459\n",
      "Episode:132 meanR:22.5300 R:14.0000 rate:0.0280 gloss:1.2402 dloss:2.7515 glossQ:1.0951 dlossQ:1.2273 exploreP:0.7449\n",
      "Episode:133 meanR:22.5900 R:23.0000 rate:0.0460 gloss:1.2052 dloss:2.6803 glossQ:1.1002 dlossQ:1.2216 exploreP:0.7432\n",
      "Episode:134 meanR:22.6100 R:14.0000 rate:0.0280 gloss:1.2470 dloss:2.7677 glossQ:1.0911 dlossQ:1.1901 exploreP:0.7422\n",
      "Episode:135 meanR:22.4400 R:24.0000 rate:0.0480 gloss:1.2224 dloss:2.7079 glossQ:1.0970 dlossQ:1.1650 exploreP:0.7404\n",
      "Episode:136 meanR:22.2600 R:12.0000 rate:0.0240 gloss:1.2367 dloss:2.7351 glossQ:1.0950 dlossQ:1.1414 exploreP:0.7395\n",
      "Episode:137 meanR:22.3200 R:18.0000 rate:0.0360 gloss:1.2268 dloss:2.7121 glossQ:1.0871 dlossQ:1.1408 exploreP:0.7382\n",
      "Episode:138 meanR:22.2000 R:13.0000 rate:0.0260 gloss:1.2259 dloss:nan glossQ:1.1738 dlossQ:1.2491 exploreP:0.7373\n",
      "Episode:139 meanR:22.2100 R:15.0000 rate:0.0300 gloss:1.2212 dloss:2.6997 glossQ:1.0964 dlossQ:1.1174 exploreP:0.7362\n",
      "Episode:140 meanR:21.9200 R:11.0000 rate:0.0220 gloss:1.2356 dloss:2.7309 glossQ:1.0903 dlossQ:1.0994 exploreP:0.7354\n"
     ]
    },
    {
     "name": "stdout",
     "output_type": "stream",
     "text": [
      "Episode:141 meanR:21.8400 R:11.0000 rate:0.0220 gloss:1.2182 dloss:2.6908 glossQ:1.1078 dlossQ:1.1128 exploreP:0.7346\n",
      "Episode:142 meanR:21.7100 R:10.0000 rate:0.0200 gloss:1.2100 dloss:2.6721 glossQ:1.1038 dlossQ:1.0940 exploreP:0.7339\n",
      "Episode:143 meanR:21.8500 R:33.0000 rate:0.0660 gloss:1.2184 dloss:2.6849 glossQ:1.1021 dlossQ:1.0620 exploreP:0.7315\n",
      "Episode:144 meanR:22.3300 R:73.0000 rate:0.1460 gloss:1.2163 dloss:2.6741 glossQ:1.1056 dlossQ:1.0340 exploreP:0.7262\n",
      "Episode:145 meanR:22.3700 R:14.0000 rate:0.0280 gloss:1.2122 dloss:2.6570 glossQ:1.1054 dlossQ:0.9822 exploreP:0.7252\n",
      "Episode:146 meanR:22.5000 R:27.0000 rate:0.0540 gloss:1.2206 dloss:2.6774 glossQ:1.0964 dlossQ:0.9710 exploreP:0.7233\n",
      "Episode:147 meanR:22.2100 R:19.0000 rate:0.0380 gloss:1.2070 dloss:2.6482 glossQ:1.1042 dlossQ:0.9639 exploreP:0.7219\n",
      "Episode:148 meanR:22.1900 R:13.0000 rate:0.0260 gloss:1.2190 dloss:2.6630 glossQ:1.1049 dlossQ:0.9641 exploreP:0.7210\n",
      "Episode:149 meanR:22.1200 R:17.0000 rate:0.0340 gloss:1.1971 dloss:2.6256 glossQ:1.1079 dlossQ:0.9389 exploreP:0.7198\n",
      "Episode:150 meanR:22.3100 R:27.0000 rate:0.0540 gloss:1.2123 dloss:2.6540 glossQ:1.0919 dlossQ:0.9254 exploreP:0.7179\n",
      "Episode:151 meanR:22.2900 R:10.0000 rate:0.0200 gloss:1.2056 dloss:2.6388 glossQ:1.1148 dlossQ:0.9560 exploreP:0.7172\n",
      "Episode:152 meanR:22.4000 R:45.0000 rate:0.0900 gloss:1.2043 dloss:2.6291 glossQ:1.1079 dlossQ:0.9116 exploreP:0.7140\n",
      "Episode:153 meanR:22.5200 R:27.0000 rate:0.0540 gloss:1.2166 dloss:2.6534 glossQ:1.1453 dlossQ:0.9811 exploreP:0.7121\n",
      "Episode:154 meanR:22.5200 R:18.0000 rate:0.0360 gloss:1.2015 dloss:2.6156 glossQ:1.1097 dlossQ:0.9053 exploreP:0.7109\n",
      "Episode:155 meanR:22.5200 R:16.0000 rate:0.0320 gloss:1.1994 dloss:2.6187 glossQ:1.1101 dlossQ:0.8929 exploreP:0.7097\n",
      "Episode:156 meanR:22.4600 R:13.0000 rate:0.0260 gloss:1.2444 dloss:2.7065 glossQ:1.0892 dlossQ:0.8721 exploreP:0.7088\n",
      "Episode:157 meanR:22.5400 R:25.0000 rate:0.0500 gloss:1.1964 dloss:2.6099 glossQ:1.1075 dlossQ:0.9064 exploreP:0.7071\n",
      "Episode:158 meanR:22.5600 R:22.0000 rate:0.0440 gloss:1.2027 dloss:2.6234 glossQ:1.1004 dlossQ:0.8704 exploreP:0.7056\n",
      "Episode:159 meanR:22.5800 R:19.0000 rate:0.0380 gloss:1.2024 dloss:2.6191 glossQ:1.1066 dlossQ:0.8609 exploreP:0.7042\n",
      "Episode:160 meanR:22.4900 R:13.0000 rate:0.0260 gloss:1.1999 dloss:2.6166 glossQ:1.1203 dlossQ:0.8696 exploreP:0.7033\n",
      "Episode:161 meanR:22.2800 R:13.0000 rate:0.0260 gloss:1.2005 dloss:2.6126 glossQ:1.0943 dlossQ:0.8341 exploreP:0.7024\n",
      "Episode:162 meanR:21.9400 R:14.0000 rate:0.0280 gloss:1.2081 dloss:2.6260 glossQ:1.1084 dlossQ:0.8847 exploreP:0.7015\n",
      "Episode:163 meanR:21.7200 R:19.0000 rate:0.0380 gloss:1.2188 dloss:2.6465 glossQ:1.0976 dlossQ:0.8403 exploreP:0.7001\n",
      "Episode:164 meanR:21.3300 R:14.0000 rate:0.0280 gloss:1.2191 dloss:2.6508 glossQ:1.0906 dlossQ:0.8517 exploreP:0.6992\n",
      "Episode:165 meanR:21.1900 R:12.0000 rate:0.0240 gloss:1.1932 dloss:2.5944 glossQ:1.1292 dlossQ:0.8941 exploreP:0.6984\n",
      "Episode:166 meanR:20.9600 R:13.0000 rate:0.0260 gloss:1.1882 dloss:2.5879 glossQ:1.1177 dlossQ:0.8765 exploreP:0.6975\n",
      "Episode:167 meanR:20.9000 R:17.0000 rate:0.0340 gloss:1.2120 dloss:2.6388 glossQ:1.1025 dlossQ:0.8439 exploreP:0.6963\n",
      "Episode:168 meanR:20.8700 R:26.0000 rate:0.0520 gloss:1.2020 dloss:2.6131 glossQ:1.1075 dlossQ:0.8710 exploreP:0.6945\n",
      "Episode:169 meanR:20.8300 R:14.0000 rate:0.0280 gloss:1.1963 dloss:2.6028 glossQ:1.1081 dlossQ:0.8445 exploreP:0.6936\n",
      "Episode:170 meanR:20.8500 R:16.0000 rate:0.0320 gloss:1.2028 dloss:2.6268 glossQ:1.1078 dlossQ:0.8821 exploreP:0.6925\n",
      "Episode:171 meanR:20.5900 R:10.0000 rate:0.0200 gloss:1.2254 dloss:2.6712 glossQ:1.1008 dlossQ:0.8908 exploreP:0.6918\n",
      "Episode:172 meanR:20.7900 R:32.0000 rate:0.0640 gloss:1.1939 dloss:2.5993 glossQ:1.1074 dlossQ:0.8656 exploreP:0.6896\n",
      "Episode:173 meanR:20.6500 R:13.0000 rate:0.0260 gloss:1.1952 dloss:2.6063 glossQ:1.1042 dlossQ:0.8729 exploreP:0.6887\n",
      "Episode:174 meanR:20.3600 R:11.0000 rate:0.0220 gloss:1.1869 dloss:2.5893 glossQ:1.1144 dlossQ:0.8965 exploreP:0.6880\n",
      "Episode:175 meanR:20.2700 R:17.0000 rate:0.0340 gloss:1.1737 dloss:2.5618 glossQ:1.1210 dlossQ:0.8778 exploreP:0.6868\n",
      "Episode:176 meanR:20.1800 R:10.0000 rate:0.0200 gloss:1.2174 dloss:2.6458 glossQ:1.1079 dlossQ:0.8662 exploreP:0.6861\n",
      "Episode:177 meanR:20.1000 R:25.0000 rate:0.0500 gloss:1.1922 dloss:2.5917 glossQ:1.1176 dlossQ:0.8900 exploreP:0.6845\n",
      "Episode:178 meanR:19.9900 R:17.0000 rate:0.0340 gloss:1.1986 dloss:2.6104 glossQ:1.1196 dlossQ:0.9081 exploreP:0.6833\n",
      "Episode:179 meanR:20.0300 R:18.0000 rate:0.0360 gloss:1.2070 dloss:2.6227 glossQ:1.1251 dlossQ:0.9221 exploreP:0.6821\n",
      "Episode:180 meanR:19.8900 R:9.0000 rate:0.0180 gloss:1.1884 dloss:2.6003 glossQ:1.1520 dlossQ:0.9769 exploreP:0.6815\n",
      "Episode:181 meanR:19.9100 R:15.0000 rate:0.0300 gloss:1.2261 dloss:nan glossQ:1.2441 dlossQ:1.1122 exploreP:0.6805\n",
      "Episode:182 meanR:19.9000 R:11.0000 rate:0.0220 gloss:1.1929 dloss:2.5999 glossQ:1.1170 dlossQ:0.9080 exploreP:0.6798\n",
      "Episode:183 meanR:19.8400 R:13.0000 rate:0.0260 gloss:1.2199 dloss:2.6633 glossQ:1.1040 dlossQ:0.8950 exploreP:0.6789\n",
      "Episode:184 meanR:19.7000 R:10.0000 rate:0.0200 gloss:1.2070 dloss:2.6300 glossQ:1.1081 dlossQ:0.9242 exploreP:0.6782\n",
      "Episode:185 meanR:19.5900 R:11.0000 rate:0.0220 gloss:1.1986 dloss:2.6280 glossQ:1.1129 dlossQ:0.9377 exploreP:0.6775\n",
      "Episode:186 meanR:19.7200 R:23.0000 rate:0.0460 gloss:1.2024 dloss:2.6329 glossQ:1.1068 dlossQ:0.9326 exploreP:0.6759\n",
      "Episode:187 meanR:19.6100 R:11.0000 rate:0.0220 gloss:1.2247 dloss:2.6770 glossQ:1.1089 dlossQ:0.9192 exploreP:0.6752\n",
      "Episode:188 meanR:19.5900 R:8.0000 rate:0.0160 gloss:1.2015 dloss:2.6329 glossQ:1.1091 dlossQ:0.9437 exploreP:0.6747\n",
      "Episode:189 meanR:19.5100 R:13.0000 rate:0.0260 gloss:1.2223 dloss:2.6782 glossQ:1.1034 dlossQ:0.9430 exploreP:0.6738\n",
      "Episode:190 meanR:19.5200 R:10.0000 rate:0.0200 gloss:1.2091 dloss:2.6504 glossQ:1.0995 dlossQ:0.9145 exploreP:0.6732\n",
      "Episode:191 meanR:19.4600 R:11.0000 rate:0.0220 gloss:1.2198 dloss:2.6658 glossQ:1.0937 dlossQ:0.8996 exploreP:0.6724\n",
      "Episode:192 meanR:19.3100 R:14.0000 rate:0.0280 gloss:1.2139 dloss:2.6655 glossQ:1.1018 dlossQ:0.9529 exploreP:0.6715\n",
      "Episode:193 meanR:19.3600 R:14.0000 rate:0.0280 gloss:1.2227 dloss:2.6812 glossQ:1.0921 dlossQ:0.9259 exploreP:0.6706\n",
      "Episode:194 meanR:19.2100 R:9.0000 rate:0.0180 gloss:1.2351 dloss:2.7227 glossQ:1.0851 dlossQ:0.9836 exploreP:0.6700\n",
      "Episode:195 meanR:19.3600 R:26.0000 rate:0.0520 gloss:1.2121 dloss:2.6724 glossQ:1.1114 dlossQ:0.9877 exploreP:0.6683\n",
      "Episode:196 meanR:19.3700 R:13.0000 rate:0.0260 gloss:1.2580 dloss:2.7718 glossQ:1.1007 dlossQ:1.0362 exploreP:0.6674\n",
      "Episode:197 meanR:19.4200 R:20.0000 rate:0.0400 gloss:1.2167 dloss:2.6805 glossQ:1.0918 dlossQ:0.9539 exploreP:0.6661\n",
      "Episode:198 meanR:19.4300 R:13.0000 rate:0.0260 gloss:1.2235 dloss:2.6908 glossQ:1.1033 dlossQ:0.9480 exploreP:0.6652\n",
      "Episode:199 meanR:19.3300 R:20.0000 rate:0.0400 gloss:1.2159 dloss:2.6813 glossQ:1.0986 dlossQ:0.9732 exploreP:0.6639\n",
      "Episode:200 meanR:19.1000 R:24.0000 rate:0.0480 gloss:1.2132 dloss:2.6653 glossQ:1.1084 dlossQ:0.9716 exploreP:0.6624\n",
      "Episode:201 meanR:19.1100 R:17.0000 rate:0.0340 gloss:1.2174 dloss:2.6880 glossQ:1.1033 dlossQ:1.0071 exploreP:0.6613\n",
      "Episode:202 meanR:18.8800 R:14.0000 rate:0.0280 gloss:1.2260 dloss:2.7138 glossQ:1.0870 dlossQ:1.0171 exploreP:0.6603\n",
      "Episode:203 meanR:18.7300 R:13.0000 rate:0.0260 gloss:1.2276 dloss:2.7094 glossQ:1.0903 dlossQ:0.9923 exploreP:0.6595\n",
      "Episode:204 meanR:18.6700 R:19.0000 rate:0.0380 gloss:1.2305 dloss:2.7211 glossQ:1.0903 dlossQ:1.0091 exploreP:0.6583\n",
      "Episode:205 meanR:18.5200 R:13.0000 rate:0.0260 gloss:1.2184 dloss:2.6944 glossQ:1.1070 dlossQ:1.0352 exploreP:0.6574\n",
      "Episode:206 meanR:18.1800 R:13.0000 rate:0.0260 gloss:1.2297 dloss:2.7250 glossQ:1.1146 dlossQ:1.0581 exploreP:0.6566\n",
      "Episode:207 meanR:18.1300 R:14.0000 rate:0.0280 gloss:1.2331 dloss:2.7212 glossQ:1.1797 dlossQ:1.1505 exploreP:0.6557\n",
      "Episode:208 meanR:17.8800 R:14.0000 rate:0.0280 gloss:1.2237 dloss:2.6991 glossQ:1.0946 dlossQ:0.9907 exploreP:0.6548\n",
      "Episode:209 meanR:17.8800 R:18.0000 rate:0.0360 gloss:1.2410 dloss:2.7466 glossQ:1.0978 dlossQ:1.0157 exploreP:0.6536\n",
      "Episode:210 meanR:17.9000 R:13.0000 rate:0.0260 gloss:1.2391 dloss:2.7472 glossQ:1.0880 dlossQ:1.0428 exploreP:0.6528\n"
     ]
    },
    {
     "name": "stdout",
     "output_type": "stream",
     "text": [
      "Episode:211 meanR:17.7500 R:11.0000 rate:0.0220 gloss:1.2194 dloss:2.7005 glossQ:1.0989 dlossQ:1.0357 exploreP:0.6521\n",
      "Episode:212 meanR:17.8300 R:19.0000 rate:0.0380 gloss:1.2175 dloss:2.7037 glossQ:1.0926 dlossQ:1.0516 exploreP:0.6509\n",
      "Episode:213 meanR:17.6700 R:12.0000 rate:0.0240 gloss:1.2314 dloss:2.7281 glossQ:1.0908 dlossQ:1.0301 exploreP:0.6501\n",
      "Episode:214 meanR:17.6300 R:14.0000 rate:0.0280 gloss:1.2153 dloss:2.6979 glossQ:1.0990 dlossQ:1.0357 exploreP:0.6492\n",
      "Episode:215 meanR:17.5500 R:9.0000 rate:0.0180 gloss:1.2283 dloss:2.7214 glossQ:1.0959 dlossQ:1.0392 exploreP:0.6486\n",
      "Episode:216 meanR:17.5900 R:14.0000 rate:0.0280 gloss:1.2230 dloss:2.7138 glossQ:1.0925 dlossQ:1.0313 exploreP:0.6477\n",
      "Episode:217 meanR:17.5500 R:10.0000 rate:0.0200 gloss:1.2173 dloss:2.7041 glossQ:1.0978 dlossQ:1.0252 exploreP:0.6471\n",
      "Episode:218 meanR:17.6000 R:17.0000 rate:0.0340 gloss:1.2075 dloss:2.6785 glossQ:1.1042 dlossQ:1.0560 exploreP:0.6460\n",
      "Episode:219 meanR:17.2800 R:11.0000 rate:0.0220 gloss:1.2414 dloss:2.7422 glossQ:1.0942 dlossQ:1.0312 exploreP:0.6453\n",
      "Episode:220 meanR:17.3900 R:24.0000 rate:0.0480 gloss:1.2325 dloss:2.7287 glossQ:1.0929 dlossQ:1.0425 exploreP:0.6438\n",
      "Episode:221 meanR:17.3800 R:13.0000 rate:0.0260 gloss:1.2398 dloss:2.7508 glossQ:1.1740 dlossQ:1.1957 exploreP:0.6430\n",
      "Episode:222 meanR:17.3500 R:10.0000 rate:0.0200 gloss:1.2251 dloss:2.7275 glossQ:1.1153 dlossQ:1.1291 exploreP:0.6423\n",
      "Episode:223 meanR:17.3300 R:17.0000 rate:0.0340 gloss:1.2413 dloss:2.7501 glossQ:1.1447 dlossQ:1.1492 exploreP:0.6413\n",
      "Episode:224 meanR:17.2000 R:13.0000 rate:0.0260 gloss:1.2292 dloss:2.7303 glossQ:1.1039 dlossQ:1.0689 exploreP:0.6404\n",
      "Episode:225 meanR:17.1700 R:12.0000 rate:0.0240 gloss:1.2276 dloss:2.7335 glossQ:1.0966 dlossQ:1.0928 exploreP:0.6397\n",
      "Episode:226 meanR:17.0100 R:19.0000 rate:0.0380 gloss:1.2359 dloss:2.7489 glossQ:1.0906 dlossQ:1.0439 exploreP:0.6385\n",
      "Episode:227 meanR:16.7000 R:13.0000 rate:0.0260 gloss:1.2226 dloss:2.7157 glossQ:1.0929 dlossQ:1.0577 exploreP:0.6377\n",
      "Episode:228 meanR:16.6900 R:15.0000 rate:0.0300 gloss:1.2326 dloss:2.7398 glossQ:1.1269 dlossQ:1.1109 exploreP:0.6367\n",
      "Episode:229 meanR:16.7300 R:18.0000 rate:0.0360 gloss:1.2149 dloss:2.7016 glossQ:1.0978 dlossQ:1.0677 exploreP:0.6356\n",
      "Episode:230 meanR:16.6100 R:10.0000 rate:0.0200 gloss:1.2407 dloss:2.7547 glossQ:1.1017 dlossQ:1.0829 exploreP:0.6350\n",
      "Episode:231 meanR:16.4400 R:10.0000 rate:0.0200 gloss:1.2607 dloss:nan glossQ:1.1977 dlossQ:1.1353 exploreP:0.6343\n",
      "Episode:232 meanR:16.5000 R:20.0000 rate:0.0400 gloss:1.2281 dloss:2.7337 glossQ:1.1162 dlossQ:1.0849 exploreP:0.6331\n",
      "Episode:233 meanR:16.4300 R:16.0000 rate:0.0320 gloss:1.2475 dloss:2.7584 glossQ:1.1194 dlossQ:1.0435 exploreP:0.6321\n",
      "Episode:234 meanR:16.4000 R:11.0000 rate:0.0220 gloss:1.2154 dloss:2.7160 glossQ:1.1080 dlossQ:1.1091 exploreP:0.6314\n",
      "Episode:235 meanR:16.3300 R:17.0000 rate:0.0340 gloss:1.2298 dloss:2.7340 glossQ:1.0900 dlossQ:1.0434 exploreP:0.6304\n",
      "Episode:236 meanR:16.3500 R:14.0000 rate:0.0280 gloss:1.2331 dloss:2.7354 glossQ:1.0897 dlossQ:1.0289 exploreP:0.6295\n",
      "Episode:237 meanR:16.3800 R:21.0000 rate:0.0420 gloss:1.2453 dloss:2.7719 glossQ:1.0836 dlossQ:1.0729 exploreP:0.6282\n",
      "Episode:238 meanR:16.3900 R:14.0000 rate:0.0280 gloss:1.2334 dloss:2.7357 glossQ:1.0938 dlossQ:1.0377 exploreP:0.6273\n",
      "Episode:239 meanR:16.3500 R:11.0000 rate:0.0220 gloss:1.2525 dloss:2.7739 glossQ:1.0928 dlossQ:1.0185 exploreP:0.6267\n",
      "Episode:240 meanR:16.3800 R:14.0000 rate:0.0280 gloss:1.2245 dloss:2.7298 glossQ:1.0919 dlossQ:1.0656 exploreP:0.6258\n",
      "Episode:241 meanR:16.3900 R:12.0000 rate:0.0240 gloss:1.2279 dloss:2.7280 glossQ:1.0857 dlossQ:1.0443 exploreP:0.6251\n",
      "Episode:242 meanR:16.4000 R:11.0000 rate:0.0220 gloss:1.2295 dloss:2.7365 glossQ:1.0821 dlossQ:1.0429 exploreP:0.6244\n",
      "Episode:243 meanR:16.1800 R:11.0000 rate:0.0220 gloss:1.2315 dloss:2.7340 glossQ:1.0810 dlossQ:1.0181 exploreP:0.6237\n",
      "Episode:244 meanR:15.6200 R:17.0000 rate:0.0340 gloss:1.2280 dloss:2.7314 glossQ:1.0853 dlossQ:1.0524 exploreP:0.6227\n",
      "Episode:245 meanR:15.6200 R:14.0000 rate:0.0280 gloss:1.2289 dloss:2.7308 glossQ:1.0904 dlossQ:1.0473 exploreP:0.6218\n",
      "Episode:246 meanR:15.4800 R:13.0000 rate:0.0260 gloss:1.2274 dloss:2.7329 glossQ:1.0965 dlossQ:1.0674 exploreP:0.6210\n",
      "Episode:247 meanR:15.4100 R:12.0000 rate:0.0240 gloss:1.2251 dloss:2.7185 glossQ:1.1039 dlossQ:1.0725 exploreP:0.6203\n",
      "Episode:248 meanR:15.3900 R:11.0000 rate:0.0220 gloss:1.2335 dloss:2.7365 glossQ:1.0844 dlossQ:1.0207 exploreP:0.6196\n",
      "Episode:249 meanR:15.4200 R:20.0000 rate:0.0400 gloss:1.2236 dloss:2.7181 glossQ:1.0953 dlossQ:1.0460 exploreP:0.6184\n",
      "Episode:250 meanR:15.2500 R:10.0000 rate:0.0200 gloss:1.2215 dloss:2.7119 glossQ:1.0892 dlossQ:1.0169 exploreP:0.6178\n",
      "Episode:251 meanR:15.3800 R:23.0000 rate:0.0460 gloss:1.2280 dloss:nan glossQ:1.1401 dlossQ:1.0992 exploreP:0.6164\n",
      "Episode:252 meanR:15.0700 R:14.0000 rate:0.0280 gloss:1.2355 dloss:2.7463 glossQ:1.0909 dlossQ:1.0305 exploreP:0.6155\n",
      "Episode:253 meanR:14.9100 R:11.0000 rate:0.0220 gloss:1.2144 dloss:2.6971 glossQ:1.0944 dlossQ:1.0057 exploreP:0.6149\n",
      "Episode:254 meanR:14.8500 R:12.0000 rate:0.0240 gloss:1.2399 dloss:2.7602 glossQ:1.2410 dlossQ:1.2024 exploreP:0.6141\n",
      "Episode:255 meanR:14.8000 R:11.0000 rate:0.0220 gloss:1.2284 dloss:2.7412 glossQ:1.0946 dlossQ:1.0604 exploreP:0.6135\n",
      "Episode:256 meanR:14.7900 R:12.0000 rate:0.0240 gloss:1.2140 dloss:2.6890 glossQ:1.0968 dlossQ:1.0113 exploreP:0.6128\n",
      "Episode:257 meanR:14.6600 R:12.0000 rate:0.0240 gloss:1.2248 dloss:2.7221 glossQ:1.1093 dlossQ:1.0524 exploreP:0.6120\n",
      "Episode:258 meanR:14.5400 R:10.0000 rate:0.0200 gloss:1.2038 dloss:2.6751 glossQ:1.1072 dlossQ:1.0354 exploreP:0.6114\n",
      "Episode:259 meanR:14.4900 R:14.0000 rate:0.0280 gloss:1.2277 dloss:2.7222 glossQ:1.0895 dlossQ:0.9958 exploreP:0.6106\n",
      "Episode:260 meanR:14.5400 R:18.0000 rate:0.0360 gloss:1.2208 dloss:2.7073 glossQ:1.0999 dlossQ:1.0082 exploreP:0.6095\n",
      "Episode:261 meanR:14.5500 R:14.0000 rate:0.0280 gloss:1.2114 dloss:2.6834 glossQ:1.0985 dlossQ:0.9816 exploreP:0.6087\n",
      "Episode:262 meanR:14.5100 R:10.0000 rate:0.0200 gloss:1.2448 dloss:2.7536 glossQ:1.0868 dlossQ:0.9714 exploreP:0.6081\n",
      "Episode:263 meanR:14.4300 R:11.0000 rate:0.0220 gloss:1.2313 dloss:2.7299 glossQ:1.0954 dlossQ:0.9926 exploreP:0.6074\n",
      "Episode:264 meanR:14.4800 R:19.0000 rate:0.0380 gloss:1.2449 dloss:2.7562 glossQ:1.0905 dlossQ:0.9857 exploreP:0.6063\n",
      "Episode:265 meanR:14.4800 R:12.0000 rate:0.0240 gloss:1.2143 dloss:2.6890 glossQ:1.1013 dlossQ:0.9602 exploreP:0.6056\n",
      "Episode:266 meanR:14.5800 R:23.0000 rate:0.0460 gloss:1.2234 dloss:2.7076 glossQ:1.0908 dlossQ:0.9526 exploreP:0.6042\n",
      "Episode:267 meanR:14.5500 R:14.0000 rate:0.0280 gloss:1.2255 dloss:2.7057 glossQ:1.0857 dlossQ:0.9401 exploreP:0.6034\n",
      "Episode:268 meanR:14.4300 R:14.0000 rate:0.0280 gloss:1.2239 dloss:2.7099 glossQ:1.0958 dlossQ:0.9533 exploreP:0.6025\n",
      "Episode:269 meanR:14.4100 R:12.0000 rate:0.0240 gloss:1.2344 dloss:2.7319 glossQ:1.1461 dlossQ:1.0356 exploreP:0.6018\n",
      "Episode:270 meanR:14.3700 R:12.0000 rate:0.0240 gloss:1.2368 dloss:2.7316 glossQ:1.0874 dlossQ:0.9292 exploreP:0.6011\n",
      "Episode:271 meanR:14.3800 R:11.0000 rate:0.0220 gloss:1.2109 dloss:2.6836 glossQ:1.1012 dlossQ:0.9462 exploreP:0.6005\n",
      "Episode:272 meanR:14.1500 R:9.0000 rate:0.0180 gloss:1.2084 dloss:2.6741 glossQ:1.0929 dlossQ:0.9321 exploreP:0.5999\n",
      "Episode:273 meanR:14.1200 R:10.0000 rate:0.0200 gloss:1.2259 dloss:2.7107 glossQ:1.0864 dlossQ:0.9321 exploreP:0.5993\n",
      "Episode:274 meanR:14.1000 R:9.0000 rate:0.0180 gloss:1.2102 dloss:2.6767 glossQ:1.1076 dlossQ:0.9253 exploreP:0.5988\n",
      "Episode:275 meanR:14.0600 R:13.0000 rate:0.0260 gloss:1.2154 dloss:2.6831 glossQ:1.0877 dlossQ:0.9083 exploreP:0.5980\n",
      "Episode:276 meanR:14.0800 R:12.0000 rate:0.0240 gloss:1.2144 dloss:2.6841 glossQ:1.0845 dlossQ:0.8921 exploreP:0.5973\n",
      "Episode:277 meanR:13.9600 R:13.0000 rate:0.0260 gloss:1.2263 dloss:2.7094 glossQ:1.0854 dlossQ:0.9019 exploreP:0.5966\n",
      "Episode:278 meanR:13.9100 R:12.0000 rate:0.0240 gloss:1.2230 dloss:2.6955 glossQ:1.0899 dlossQ:0.8846 exploreP:0.5959\n",
      "Episode:279 meanR:13.8900 R:16.0000 rate:0.0320 gloss:1.2195 dloss:2.6884 glossQ:1.0913 dlossQ:0.8928 exploreP:0.5949\n",
      "Episode:280 meanR:13.9200 R:12.0000 rate:0.0240 gloss:1.2641 dloss:2.7691 glossQ:1.0921 dlossQ:0.8601 exploreP:0.5942\n"
     ]
    },
    {
     "name": "stdout",
     "output_type": "stream",
     "text": [
      "Episode:281 meanR:13.9100 R:14.0000 rate:0.0280 gloss:1.2130 dloss:2.6800 glossQ:1.1002 dlossQ:0.8930 exploreP:0.5934\n",
      "Episode:282 meanR:13.9000 R:10.0000 rate:0.0200 gloss:1.2159 dloss:2.6850 glossQ:1.0986 dlossQ:0.8892 exploreP:0.5928\n",
      "Episode:283 meanR:13.8700 R:10.0000 rate:0.0200 gloss:1.2371 dloss:2.7275 glossQ:1.0964 dlossQ:0.8586 exploreP:0.5923\n",
      "Episode:284 meanR:13.9300 R:16.0000 rate:0.0320 gloss:1.2336 dloss:2.7120 glossQ:1.0911 dlossQ:0.8709 exploreP:0.5913\n",
      "Episode:285 meanR:13.9800 R:16.0000 rate:0.0320 gloss:1.2138 dloss:2.6763 glossQ:1.1012 dlossQ:0.8792 exploreP:0.5904\n",
      "Episode:286 meanR:13.8500 R:10.0000 rate:0.0200 gloss:1.2130 dloss:2.6690 glossQ:1.1217 dlossQ:0.8725 exploreP:0.5898\n",
      "Episode:287 meanR:13.8700 R:13.0000 rate:0.0260 gloss:1.2273 dloss:2.7047 glossQ:1.0953 dlossQ:0.8615 exploreP:0.5891\n",
      "Episode:288 meanR:13.8700 R:8.0000 rate:0.0160 gloss:1.1967 dloss:2.6417 glossQ:1.1090 dlossQ:0.8730 exploreP:0.5886\n",
      "Episode:289 meanR:13.8500 R:11.0000 rate:0.0220 gloss:1.2119 dloss:2.6793 glossQ:1.1066 dlossQ:0.8826 exploreP:0.5880\n",
      "Episode:290 meanR:13.8500 R:10.0000 rate:0.0200 gloss:1.2000 dloss:2.6496 glossQ:1.1188 dlossQ:0.8867 exploreP:0.5874\n",
      "Episode:291 meanR:13.8800 R:14.0000 rate:0.0280 gloss:1.2067 dloss:2.6556 glossQ:1.1206 dlossQ:0.8728 exploreP:0.5866\n",
      "Episode:292 meanR:14.0300 R:29.0000 rate:0.0580 gloss:1.2003 dloss:2.6433 glossQ:1.1105 dlossQ:0.8507 exploreP:0.5849\n",
      "Episode:293 meanR:14.0000 R:11.0000 rate:0.0220 gloss:1.2152 dloss:2.6655 glossQ:1.1023 dlossQ:0.8100 exploreP:0.5843\n",
      "Episode:294 meanR:14.0100 R:10.0000 rate:0.0200 gloss:1.2239 dloss:2.6880 glossQ:1.0961 dlossQ:0.8296 exploreP:0.5837\n",
      "Episode:295 meanR:13.8400 R:9.0000 rate:0.0180 gloss:1.1973 dloss:2.6346 glossQ:1.1083 dlossQ:0.8303 exploreP:0.5832\n",
      "Episode:296 meanR:13.9400 R:23.0000 rate:0.0460 gloss:1.2240 dloss:2.6822 glossQ:1.0946 dlossQ:0.7982 exploreP:0.5819\n",
      "Episode:297 meanR:13.8300 R:9.0000 rate:0.0180 gloss:1.2235 dloss:2.6825 glossQ:1.0882 dlossQ:0.8051 exploreP:0.5814\n",
      "Episode:298 meanR:13.8400 R:14.0000 rate:0.0280 gloss:1.2015 dloss:2.6401 glossQ:1.0920 dlossQ:0.7865 exploreP:0.5806\n",
      "Episode:299 meanR:13.7500 R:11.0000 rate:0.0220 gloss:1.1984 dloss:2.6299 glossQ:1.1662 dlossQ:0.8856 exploreP:0.5799\n",
      "Episode:300 meanR:13.6300 R:12.0000 rate:0.0240 gloss:1.1774 dloss:2.5995 glossQ:1.1154 dlossQ:0.7998 exploreP:0.5792\n",
      "Episode:301 meanR:13.6500 R:19.0000 rate:0.0380 gloss:1.2347 dloss:2.7026 glossQ:1.0928 dlossQ:0.7818 exploreP:0.5782\n",
      "Episode:302 meanR:13.5900 R:8.0000 rate:0.0160 gloss:1.2164 dloss:2.6578 glossQ:1.1004 dlossQ:0.7538 exploreP:0.5777\n",
      "Episode:303 meanR:13.5900 R:13.0000 rate:0.0260 gloss:1.2161 dloss:2.6526 glossQ:1.0912 dlossQ:0.7524 exploreP:0.5770\n",
      "Episode:304 meanR:13.5700 R:17.0000 rate:0.0340 gloss:1.1999 dloss:2.6291 glossQ:1.0912 dlossQ:0.7422 exploreP:0.5760\n",
      "Episode:305 meanR:13.5300 R:9.0000 rate:0.0180 gloss:1.2181 dloss:2.6604 glossQ:1.0833 dlossQ:0.7303 exploreP:0.5755\n",
      "Episode:306 meanR:13.5100 R:11.0000 rate:0.0220 gloss:1.2150 dloss:2.6569 glossQ:1.0973 dlossQ:0.7449 exploreP:0.5749\n",
      "Episode:307 meanR:13.5000 R:13.0000 rate:0.0260 gloss:1.2272 dloss:2.6782 glossQ:1.0992 dlossQ:0.7434 exploreP:0.5741\n",
      "Episode:308 meanR:13.4600 R:10.0000 rate:0.0200 gloss:1.2212 dloss:2.6770 glossQ:1.0946 dlossQ:0.7628 exploreP:0.5736\n",
      "Episode:309 meanR:13.4500 R:17.0000 rate:0.0340 gloss:1.2152 dloss:2.6513 glossQ:1.0916 dlossQ:0.7329 exploreP:0.5726\n",
      "Episode:310 meanR:13.4300 R:11.0000 rate:0.0220 gloss:1.1967 dloss:2.6162 glossQ:1.1049 dlossQ:0.7041 exploreP:0.5720\n",
      "Episode:311 meanR:13.4300 R:11.0000 rate:0.0220 gloss:1.1946 dloss:2.6149 glossQ:1.1105 dlossQ:0.7514 exploreP:0.5714\n",
      "Episode:312 meanR:13.3400 R:10.0000 rate:0.0200 gloss:1.2026 dloss:2.6313 glossQ:1.1036 dlossQ:0.7277 exploreP:0.5708\n",
      "Episode:313 meanR:13.3200 R:10.0000 rate:0.0200 gloss:1.1897 dloss:2.6030 glossQ:1.1057 dlossQ:0.7350 exploreP:0.5703\n",
      "Episode:314 meanR:13.3000 R:12.0000 rate:0.0240 gloss:1.2153 dloss:2.6540 glossQ:1.1007 dlossQ:0.7155 exploreP:0.5696\n",
      "Episode:315 meanR:13.3400 R:13.0000 rate:0.0260 gloss:1.2051 dloss:2.6287 glossQ:1.1001 dlossQ:0.7136 exploreP:0.5689\n",
      "Episode:316 meanR:13.3000 R:10.0000 rate:0.0200 gloss:1.2060 dloss:2.6297 glossQ:1.1026 dlossQ:0.7075 exploreP:0.5683\n",
      "Episode:317 meanR:13.3200 R:12.0000 rate:0.0240 gloss:1.2069 dloss:2.6404 glossQ:1.1098 dlossQ:0.7203 exploreP:0.5676\n",
      "Episode:318 meanR:13.2400 R:9.0000 rate:0.0180 gloss:1.2011 dloss:2.6113 glossQ:1.1070 dlossQ:0.6932 exploreP:0.5671\n",
      "Episode:319 meanR:13.2400 R:11.0000 rate:0.0220 gloss:1.2041 dloss:2.6227 glossQ:1.1045 dlossQ:0.7141 exploreP:0.5665\n",
      "Episode:320 meanR:13.1200 R:12.0000 rate:0.0240 gloss:1.2045 dloss:2.6312 glossQ:1.1044 dlossQ:0.7020 exploreP:0.5659\n",
      "Episode:321 meanR:13.1300 R:14.0000 rate:0.0280 gloss:1.2004 dloss:2.6239 glossQ:1.1074 dlossQ:0.7189 exploreP:0.5651\n",
      "Episode:322 meanR:13.1800 R:15.0000 rate:0.0300 gloss:1.1875 dloss:2.5957 glossQ:1.1059 dlossQ:0.7203 exploreP:0.5642\n",
      "Episode:323 meanR:13.1400 R:13.0000 rate:0.0260 gloss:1.1940 dloss:2.6089 glossQ:1.1064 dlossQ:0.7163 exploreP:0.5635\n",
      "Episode:324 meanR:13.1800 R:17.0000 rate:0.0340 gloss:1.1823 dloss:2.5765 glossQ:1.1152 dlossQ:0.7165 exploreP:0.5626\n",
      "Episode:325 meanR:13.1500 R:9.0000 rate:0.0180 gloss:1.2084 dloss:2.6245 glossQ:1.1010 dlossQ:0.6694 exploreP:0.5621\n",
      "Episode:326 meanR:13.1700 R:21.0000 rate:0.0420 gloss:1.1871 dloss:2.5902 glossQ:1.1150 dlossQ:0.7066 exploreP:0.5609\n",
      "Episode:327 meanR:13.1300 R:9.0000 rate:0.0180 gloss:1.1940 dloss:2.6086 glossQ:1.0994 dlossQ:0.7278 exploreP:0.5604\n",
      "Episode:328 meanR:13.1100 R:13.0000 rate:0.0260 gloss:1.1962 dloss:2.6088 glossQ:1.0966 dlossQ:0.7020 exploreP:0.5597\n",
      "Episode:329 meanR:13.1800 R:25.0000 rate:0.0500 gloss:1.2129 dloss:nan glossQ:1.3633 dlossQ:0.9967 exploreP:0.5583\n",
      "Episode:330 meanR:13.1900 R:11.0000 rate:0.0220 gloss:1.1894 dloss:2.6011 glossQ:1.1180 dlossQ:0.7326 exploreP:0.5577\n",
      "Episode:331 meanR:13.2700 R:18.0000 rate:0.0360 gloss:1.2091 dloss:nan glossQ:1.2055 dlossQ:0.8472 exploreP:0.5568\n",
      "Episode:332 meanR:13.1800 R:11.0000 rate:0.0220 gloss:1.2167 dloss:2.6559 glossQ:1.1096 dlossQ:0.7496 exploreP:0.5562\n",
      "Episode:333 meanR:13.1600 R:14.0000 rate:0.0280 gloss:1.2096 dloss:2.6402 glossQ:1.0995 dlossQ:0.7267 exploreP:0.5554\n",
      "Episode:334 meanR:13.3100 R:26.0000 rate:0.0520 gloss:1.2094 dloss:2.6383 glossQ:1.1049 dlossQ:0.7235 exploreP:0.5540\n",
      "Episode:335 meanR:13.2500 R:11.0000 rate:0.0220 gloss:1.1931 dloss:2.6105 glossQ:1.1020 dlossQ:0.7480 exploreP:0.5534\n",
      "Episode:336 meanR:13.2100 R:10.0000 rate:0.0200 gloss:1.1821 dloss:2.5809 glossQ:1.1274 dlossQ:0.7467 exploreP:0.5528\n",
      "Episode:337 meanR:13.1100 R:11.0000 rate:0.0220 gloss:1.1924 dloss:2.6058 glossQ:1.1170 dlossQ:0.7181 exploreP:0.5522\n",
      "Episode:338 meanR:13.0900 R:12.0000 rate:0.0240 gloss:1.1935 dloss:2.6119 glossQ:1.1106 dlossQ:0.7489 exploreP:0.5516\n",
      "Episode:339 meanR:13.1500 R:17.0000 rate:0.0340 gloss:1.2131 dloss:2.6516 glossQ:1.1032 dlossQ:0.7322 exploreP:0.5507\n",
      "Episode:340 meanR:13.1000 R:9.0000 rate:0.0180 gloss:1.2133 dloss:2.6497 glossQ:1.1157 dlossQ:0.7486 exploreP:0.5502\n",
      "Episode:341 meanR:13.1800 R:20.0000 rate:0.0400 gloss:1.1930 dloss:2.6059 glossQ:1.1181 dlossQ:0.7734 exploreP:0.5491\n",
      "Episode:342 meanR:13.1900 R:12.0000 rate:0.0240 gloss:1.2085 dloss:2.6439 glossQ:1.1014 dlossQ:0.7312 exploreP:0.5485\n",
      "Episode:343 meanR:13.3000 R:22.0000 rate:0.0440 gloss:1.1978 dloss:2.6193 glossQ:1.1011 dlossQ:0.7457 exploreP:0.5473\n",
      "Episode:344 meanR:13.2600 R:13.0000 rate:0.0260 gloss:1.2226 dloss:2.6660 glossQ:1.1019 dlossQ:0.7712 exploreP:0.5466\n",
      "Episode:345 meanR:13.3400 R:22.0000 rate:0.0440 gloss:1.2008 dloss:2.6233 glossQ:1.1040 dlossQ:0.7795 exploreP:0.5454\n",
      "Episode:346 meanR:13.4200 R:21.0000 rate:0.0420 gloss:1.2040 dloss:2.6331 glossQ:1.1054 dlossQ:0.7895 exploreP:0.5443\n",
      "Episode:347 meanR:13.4200 R:12.0000 rate:0.0240 gloss:1.1892 dloss:2.6017 glossQ:1.1117 dlossQ:0.8077 exploreP:0.5436\n",
      "Episode:348 meanR:13.5300 R:22.0000 rate:0.0440 gloss:1.1971 dloss:2.6099 glossQ:1.1256 dlossQ:0.8056 exploreP:0.5425\n",
      "Episode:349 meanR:13.4300 R:10.0000 rate:0.0200 gloss:1.1942 dloss:2.6150 glossQ:1.0996 dlossQ:0.8142 exploreP:0.5419\n",
      "Episode:350 meanR:13.4300 R:10.0000 rate:0.0200 gloss:1.2197 dloss:nan glossQ:1.0891 dlossQ:0.8079 exploreP:0.5414\n"
     ]
    },
    {
     "name": "stdout",
     "output_type": "stream",
     "text": [
      "Episode:351 meanR:13.3400 R:14.0000 rate:0.0280 gloss:1.2164 dloss:2.6661 glossQ:1.0994 dlossQ:0.8155 exploreP:0.5407\n",
      "Episode:352 meanR:13.3200 R:12.0000 rate:0.0240 gloss:1.2089 dloss:2.6439 glossQ:1.0879 dlossQ:0.7842 exploreP:0.5400\n",
      "Episode:353 meanR:13.3500 R:14.0000 rate:0.0280 gloss:1.2047 dloss:2.6350 glossQ:1.1144 dlossQ:0.8463 exploreP:0.5393\n",
      "Episode:354 meanR:13.3900 R:16.0000 rate:0.0320 gloss:1.2145 dloss:2.6538 glossQ:1.0996 dlossQ:0.8589 exploreP:0.5384\n",
      "Episode:355 meanR:13.3800 R:10.0000 rate:0.0200 gloss:1.2080 dloss:2.6427 glossQ:1.1040 dlossQ:0.7991 exploreP:0.5379\n",
      "Episode:356 meanR:13.4600 R:20.0000 rate:0.0400 gloss:1.2117 dloss:2.6532 glossQ:1.0924 dlossQ:0.8119 exploreP:0.5368\n",
      "Episode:357 meanR:13.4900 R:15.0000 rate:0.0300 gloss:1.2107 dloss:2.6508 glossQ:1.1150 dlossQ:0.8792 exploreP:0.5361\n",
      "Episode:358 meanR:13.5100 R:12.0000 rate:0.0240 gloss:1.2226 dloss:2.6668 glossQ:1.0953 dlossQ:0.7972 exploreP:0.5354\n",
      "Episode:359 meanR:13.5300 R:16.0000 rate:0.0320 gloss:1.2144 dloss:nan glossQ:1.1322 dlossQ:0.8546 exploreP:0.5346\n",
      "Episode:360 meanR:13.4600 R:11.0000 rate:0.0220 gloss:1.2020 dloss:2.6319 glossQ:1.1100 dlossQ:0.8677 exploreP:0.5340\n",
      "Episode:361 meanR:13.5000 R:18.0000 rate:0.0360 gloss:1.2026 dloss:2.6321 glossQ:1.0961 dlossQ:0.8548 exploreP:0.5331\n",
      "Episode:362 meanR:13.5400 R:14.0000 rate:0.0280 gloss:1.1997 dloss:2.6221 glossQ:1.1146 dlossQ:0.8176 exploreP:0.5323\n",
      "Episode:363 meanR:13.6000 R:17.0000 rate:0.0340 gloss:1.2209 dloss:2.6809 glossQ:1.1106 dlossQ:0.8970 exploreP:0.5314\n",
      "Episode:364 meanR:13.5700 R:16.0000 rate:0.0320 gloss:1.2016 dloss:nan glossQ:1.2198 dlossQ:1.0093 exploreP:0.5306\n",
      "Episode:365 meanR:13.5400 R:9.0000 rate:0.0180 gloss:1.2369 dloss:2.7031 glossQ:1.1015 dlossQ:0.9204 exploreP:0.5301\n",
      "Episode:366 meanR:13.4700 R:16.0000 rate:0.0320 gloss:1.1923 dloss:2.6059 glossQ:1.1130 dlossQ:0.8644 exploreP:0.5293\n",
      "Episode:367 meanR:13.5100 R:18.0000 rate:0.0360 gloss:1.2058 dloss:2.6366 glossQ:1.0892 dlossQ:0.8608 exploreP:0.5284\n",
      "Episode:368 meanR:13.4800 R:11.0000 rate:0.0220 gloss:1.1834 dloss:2.5894 glossQ:1.1344 dlossQ:0.9318 exploreP:0.5278\n",
      "Episode:369 meanR:13.5400 R:18.0000 rate:0.0360 gloss:1.2072 dloss:2.6364 glossQ:1.0997 dlossQ:0.8649 exploreP:0.5269\n",
      "Episode:370 meanR:13.5000 R:8.0000 rate:0.0160 gloss:1.2285 dloss:2.6783 glossQ:1.1028 dlossQ:0.9041 exploreP:0.5265\n",
      "Episode:371 meanR:13.5200 R:13.0000 rate:0.0260 gloss:1.2251 dloss:2.6747 glossQ:1.1510 dlossQ:0.9588 exploreP:0.5258\n",
      "Episode:372 meanR:13.5200 R:9.0000 rate:0.0180 gloss:1.1866 dloss:2.5965 glossQ:1.1119 dlossQ:0.8576 exploreP:0.5253\n",
      "Episode:373 meanR:13.5300 R:11.0000 rate:0.0220 gloss:1.1966 dloss:2.6078 glossQ:1.1145 dlossQ:0.8390 exploreP:0.5248\n",
      "Episode:374 meanR:13.6500 R:21.0000 rate:0.0420 gloss:1.2077 dloss:2.6304 glossQ:1.1068 dlossQ:0.8767 exploreP:0.5237\n",
      "Episode:375 meanR:13.7600 R:24.0000 rate:0.0480 gloss:1.1956 dloss:2.6108 glossQ:1.0997 dlossQ:0.8499 exploreP:0.5225\n",
      "Episode:376 meanR:14.0100 R:37.0000 rate:0.0740 gloss:1.2134 dloss:2.6402 glossQ:1.1064 dlossQ:0.8724 exploreP:0.5206\n",
      "Episode:377 meanR:13.9900 R:11.0000 rate:0.0220 gloss:1.1785 dloss:2.5679 glossQ:1.1081 dlossQ:0.8509 exploreP:0.5200\n",
      "Episode:378 meanR:14.0100 R:14.0000 rate:0.0280 gloss:1.1971 dloss:2.6014 glossQ:1.0991 dlossQ:0.8430 exploreP:0.5193\n",
      "Episode:379 meanR:13.9700 R:12.0000 rate:0.0240 gloss:1.1976 dloss:2.6029 glossQ:1.1281 dlossQ:0.8578 exploreP:0.5187\n",
      "Episode:380 meanR:14.0300 R:18.0000 rate:0.0360 gloss:1.1922 dloss:2.5932 glossQ:1.1071 dlossQ:0.8319 exploreP:0.5178\n",
      "Episode:381 meanR:14.0400 R:15.0000 rate:0.0300 gloss:1.1831 dloss:2.5738 glossQ:1.1249 dlossQ:0.8784 exploreP:0.5170\n",
      "Episode:382 meanR:14.0900 R:15.0000 rate:0.0300 gloss:1.1759 dloss:2.5514 glossQ:1.1200 dlossQ:0.8321 exploreP:0.5162\n",
      "Episode:383 meanR:14.0800 R:9.0000 rate:0.0180 gloss:1.1997 dloss:2.5829 glossQ:1.1137 dlossQ:0.8002 exploreP:0.5158\n",
      "Episode:384 meanR:14.0300 R:11.0000 rate:0.0220 gloss:1.1883 dloss:2.5760 glossQ:1.1440 dlossQ:0.8545 exploreP:0.5152\n",
      "Episode:385 meanR:13.9700 R:10.0000 rate:0.0200 gloss:1.1989 dloss:2.5841 glossQ:1.1220 dlossQ:0.8363 exploreP:0.5147\n",
      "Episode:386 meanR:13.9800 R:11.0000 rate:0.0220 gloss:1.1954 dloss:2.5897 glossQ:1.1622 dlossQ:0.8901 exploreP:0.5142\n",
      "Episode:387 meanR:14.0900 R:24.0000 rate:0.0480 gloss:1.1833 dloss:2.5597 glossQ:1.1186 dlossQ:0.8109 exploreP:0.5130\n",
      "Episode:388 meanR:14.1300 R:12.0000 rate:0.0240 gloss:1.1987 dloss:2.5859 glossQ:1.1216 dlossQ:0.8202 exploreP:0.5124\n",
      "Episode:389 meanR:14.1400 R:12.0000 rate:0.0240 gloss:1.1784 dloss:2.5458 glossQ:1.1158 dlossQ:0.7501 exploreP:0.5118\n",
      "Episode:390 meanR:14.1300 R:9.0000 rate:0.0180 gloss:1.2223 dloss:2.6287 glossQ:1.1000 dlossQ:0.7822 exploreP:0.5113\n",
      "Episode:391 meanR:14.1600 R:17.0000 rate:0.0340 gloss:1.1839 dloss:2.5582 glossQ:1.1243 dlossQ:0.8111 exploreP:0.5104\n",
      "Episode:392 meanR:14.0600 R:19.0000 rate:0.0380 gloss:1.1848 dloss:2.5532 glossQ:1.1173 dlossQ:0.7526 exploreP:0.5095\n",
      "Episode:393 meanR:14.0800 R:13.0000 rate:0.0260 gloss:1.1734 dloss:2.5288 glossQ:1.1291 dlossQ:0.7671 exploreP:0.5088\n",
      "Episode:394 meanR:14.1000 R:12.0000 rate:0.0240 gloss:1.2152 dloss:2.6062 glossQ:1.1090 dlossQ:0.7404 exploreP:0.5083\n",
      "Episode:395 meanR:14.1100 R:10.0000 rate:0.0200 gloss:1.1879 dloss:2.5522 glossQ:1.1250 dlossQ:0.7661 exploreP:0.5078\n",
      "Episode:396 meanR:13.9800 R:10.0000 rate:0.0200 gloss:1.1703 dloss:nan glossQ:1.1333 dlossQ:0.7194 exploreP:0.5073\n",
      "Episode:397 meanR:14.0000 R:11.0000 rate:0.0220 gloss:1.1649 dloss:2.4988 glossQ:1.1487 dlossQ:0.7835 exploreP:0.5067\n",
      "Episode:398 meanR:13.9800 R:12.0000 rate:0.0240 gloss:1.1794 dloss:2.5323 glossQ:1.1346 dlossQ:0.7513 exploreP:0.5061\n",
      "Episode:399 meanR:13.9900 R:12.0000 rate:0.0240 gloss:1.1890 dloss:2.5526 glossQ:1.1087 dlossQ:0.7060 exploreP:0.5055\n",
      "Episode:400 meanR:14.0200 R:15.0000 rate:0.0300 gloss:1.1863 dloss:2.5406 glossQ:1.1173 dlossQ:0.7135 exploreP:0.5048\n",
      "Episode:401 meanR:13.9400 R:11.0000 rate:0.0220 gloss:1.1564 dloss:2.4762 glossQ:1.1562 dlossQ:0.7591 exploreP:0.5042\n",
      "Episode:402 meanR:13.9700 R:11.0000 rate:0.0220 gloss:1.1939 dloss:2.5450 glossQ:1.1207 dlossQ:0.7115 exploreP:0.5037\n",
      "Episode:403 meanR:13.9800 R:14.0000 rate:0.0280 gloss:1.1938 dloss:2.5508 glossQ:1.1136 dlossQ:0.7076 exploreP:0.5030\n",
      "Episode:404 meanR:13.9100 R:10.0000 rate:0.0200 gloss:1.1747 dloss:2.5152 glossQ:1.1330 dlossQ:0.7158 exploreP:0.5025\n",
      "Episode:405 meanR:13.9300 R:11.0000 rate:0.0220 gloss:1.1673 dloss:2.4984 glossQ:1.1652 dlossQ:0.7636 exploreP:0.5020\n",
      "Episode:406 meanR:13.9600 R:14.0000 rate:0.0280 gloss:1.1699 dloss:2.5111 glossQ:1.1275 dlossQ:0.7101 exploreP:0.5013\n",
      "Episode:407 meanR:13.9300 R:10.0000 rate:0.0200 gloss:1.1653 dloss:2.4894 glossQ:1.1426 dlossQ:0.7419 exploreP:0.5008\n",
      "Episode:408 meanR:13.9900 R:16.0000 rate:0.0320 gloss:1.2055 dloss:2.5635 glossQ:1.1088 dlossQ:0.6732 exploreP:0.5000\n",
      "Episode:409 meanR:13.9000 R:8.0000 rate:0.0160 gloss:1.1685 dloss:2.5040 glossQ:1.1338 dlossQ:0.7096 exploreP:0.4996\n",
      "Episode:410 meanR:13.9000 R:11.0000 rate:0.0220 gloss:1.1846 dloss:2.5278 glossQ:1.1145 dlossQ:0.6794 exploreP:0.4991\n",
      "Episode:411 meanR:13.8900 R:10.0000 rate:0.0200 gloss:1.1971 dloss:2.5641 glossQ:1.1338 dlossQ:0.7271 exploreP:0.4986\n",
      "Episode:412 meanR:13.9000 R:11.0000 rate:0.0220 gloss:1.1995 dloss:2.5585 glossQ:1.1111 dlossQ:0.6787 exploreP:0.4980\n",
      "Episode:413 meanR:14.0200 R:22.0000 rate:0.0440 gloss:1.1569 dloss:2.4782 glossQ:1.1316 dlossQ:0.7001 exploreP:0.4970\n",
      "Episode:414 meanR:14.1100 R:21.0000 rate:0.0420 gloss:1.1595 dloss:2.4802 glossQ:1.1442 dlossQ:0.6949 exploreP:0.4959\n",
      "Episode:415 meanR:14.0700 R:9.0000 rate:0.0180 gloss:1.1733 dloss:2.4986 glossQ:1.1278 dlossQ:0.6835 exploreP:0.4955\n",
      "Episode:416 meanR:14.1200 R:15.0000 rate:0.0300 gloss:1.1646 dloss:2.4756 glossQ:1.1403 dlossQ:0.7010 exploreP:0.4948\n",
      "Episode:417 meanR:14.2700 R:27.0000 rate:0.0540 gloss:1.1531 dloss:2.4564 glossQ:1.1571 dlossQ:0.6904 exploreP:0.4935\n",
      "Episode:418 meanR:14.4400 R:26.0000 rate:0.0520 gloss:1.1700 dloss:2.4894 glossQ:1.1423 dlossQ:0.6856 exploreP:0.4922\n",
      "Episode:419 meanR:14.5100 R:18.0000 rate:0.0360 gloss:1.1826 dloss:2.5063 glossQ:1.1090 dlossQ:0.6304 exploreP:0.4914\n",
      "Episode:420 meanR:14.4800 R:9.0000 rate:0.0180 gloss:1.1694 dloss:2.4865 glossQ:1.1218 dlossQ:0.7017 exploreP:0.4909\n"
     ]
    },
    {
     "name": "stdout",
     "output_type": "stream",
     "text": [
      "Episode:421 meanR:14.4900 R:15.0000 rate:0.0300 gloss:1.1636 dloss:2.4780 glossQ:1.1331 dlossQ:0.6614 exploreP:0.4902\n",
      "Episode:422 meanR:14.4700 R:13.0000 rate:0.0260 gloss:1.1766 dloss:2.4994 glossQ:1.1184 dlossQ:0.6518 exploreP:0.4896\n",
      "Episode:423 meanR:14.4500 R:11.0000 rate:0.0220 gloss:1.1768 dloss:2.5059 glossQ:1.1579 dlossQ:0.6850 exploreP:0.4890\n",
      "Episode:424 meanR:14.4400 R:16.0000 rate:0.0320 gloss:1.1717 dloss:2.4740 glossQ:1.1860 dlossQ:0.7196 exploreP:0.4883\n",
      "Episode:425 meanR:14.4500 R:10.0000 rate:0.0200 gloss:1.2068 dloss:2.4964 glossQ:1.4093 dlossQ:0.8425 exploreP:0.4878\n",
      "Episode:426 meanR:14.3800 R:14.0000 rate:0.0280 gloss:1.1784 dloss:2.5123 glossQ:1.1274 dlossQ:0.6735 exploreP:0.4871\n",
      "Episode:427 meanR:14.4500 R:16.0000 rate:0.0320 gloss:1.1399 dloss:2.4356 glossQ:1.1493 dlossQ:0.6774 exploreP:0.4864\n",
      "Episode:428 meanR:14.4100 R:9.0000 rate:0.0180 gloss:1.1608 dloss:2.4782 glossQ:1.1195 dlossQ:0.6560 exploreP:0.4859\n",
      "Episode:429 meanR:14.2900 R:13.0000 rate:0.0260 gloss:1.1583 dloss:2.4662 glossQ:1.1350 dlossQ:0.6720 exploreP:0.4853\n",
      "Episode:430 meanR:14.3000 R:12.0000 rate:0.0240 gloss:1.1538 dloss:2.4602 glossQ:1.1410 dlossQ:0.6751 exploreP:0.4848\n",
      "Episode:431 meanR:14.3300 R:21.0000 rate:0.0420 gloss:1.1606 dloss:2.4798 glossQ:1.1425 dlossQ:0.6969 exploreP:0.4838\n",
      "Episode:432 meanR:14.3300 R:11.0000 rate:0.0220 gloss:1.1656 dloss:2.4934 glossQ:1.1314 dlossQ:0.6857 exploreP:0.4832\n",
      "Episode:433 meanR:14.3700 R:18.0000 rate:0.0360 gloss:1.1710 dloss:2.4872 glossQ:1.1287 dlossQ:0.6727 exploreP:0.4824\n",
      "Episode:434 meanR:14.2400 R:13.0000 rate:0.0260 gloss:1.1753 dloss:2.5041 glossQ:1.1366 dlossQ:0.6817 exploreP:0.4818\n",
      "Episode:435 meanR:14.2400 R:11.0000 rate:0.0220 gloss:1.1673 dloss:2.4776 glossQ:1.1598 dlossQ:0.6918 exploreP:0.4813\n",
      "Episode:436 meanR:14.2300 R:9.0000 rate:0.0180 gloss:1.1459 dloss:nan glossQ:1.1129 dlossQ:0.7173 exploreP:0.4808\n",
      "Episode:437 meanR:14.2400 R:12.0000 rate:0.0240 gloss:1.1759 dloss:2.4922 glossQ:1.1493 dlossQ:0.6760 exploreP:0.4803\n",
      "Episode:438 meanR:14.2200 R:10.0000 rate:0.0200 gloss:1.1477 dloss:2.4390 glossQ:1.1550 dlossQ:0.7179 exploreP:0.4798\n",
      "Episode:439 meanR:14.2000 R:15.0000 rate:0.0300 gloss:1.1740 dloss:2.4832 glossQ:1.1328 dlossQ:0.6609 exploreP:0.4791\n",
      "Episode:440 meanR:14.2700 R:16.0000 rate:0.0320 gloss:1.1593 dloss:2.4722 glossQ:1.1396 dlossQ:0.7009 exploreP:0.4783\n",
      "Episode:441 meanR:14.2000 R:13.0000 rate:0.0260 gloss:1.1438 dloss:2.4259 glossQ:1.2002 dlossQ:0.7377 exploreP:0.4777\n",
      "Episode:442 meanR:14.1900 R:11.0000 rate:0.0220 gloss:1.1743 dloss:2.4993 glossQ:1.1603 dlossQ:0.7269 exploreP:0.4772\n",
      "Episode:443 meanR:14.2300 R:26.0000 rate:0.0520 gloss:1.1610 dloss:2.4713 glossQ:1.1403 dlossQ:0.6964 exploreP:0.4760\n",
      "Episode:444 meanR:14.3900 R:29.0000 rate:0.0580 gloss:1.1566 dloss:2.4620 glossQ:1.1547 dlossQ:0.7251 exploreP:0.4747\n",
      "Episode:445 meanR:14.3100 R:14.0000 rate:0.0280 gloss:1.1838 dloss:2.5180 glossQ:1.1223 dlossQ:0.6789 exploreP:0.4740\n",
      "Episode:446 meanR:14.2200 R:12.0000 rate:0.0240 gloss:1.1947 dloss:2.5498 glossQ:1.1100 dlossQ:0.6893 exploreP:0.4735\n",
      "Episode:447 meanR:14.2300 R:13.0000 rate:0.0260 gloss:1.1640 dloss:2.4941 glossQ:1.1284 dlossQ:0.7084 exploreP:0.4729\n",
      "Episode:448 meanR:14.1200 R:11.0000 rate:0.0220 gloss:1.1685 dloss:2.4951 glossQ:1.1135 dlossQ:0.6849 exploreP:0.4723\n",
      "Episode:449 meanR:14.2200 R:20.0000 rate:0.0400 gloss:1.1502 dloss:2.4599 glossQ:1.1440 dlossQ:0.7383 exploreP:0.4714\n",
      "Episode:450 meanR:14.2500 R:13.0000 rate:0.0260 gloss:1.1938 dloss:2.5256 glossQ:1.1737 dlossQ:0.6923 exploreP:0.4708\n",
      "Episode:451 meanR:14.2100 R:10.0000 rate:0.0200 gloss:1.1650 dloss:2.4923 glossQ:1.1373 dlossQ:0.7293 exploreP:0.4704\n",
      "Episode:452 meanR:14.2300 R:14.0000 rate:0.0280 gloss:1.1666 dloss:2.4974 glossQ:1.1394 dlossQ:0.7568 exploreP:0.4697\n",
      "Episode:453 meanR:14.1900 R:10.0000 rate:0.0200 gloss:1.1615 dloss:2.4770 glossQ:1.1420 dlossQ:0.7382 exploreP:0.4693\n",
      "Episode:454 meanR:14.1300 R:10.0000 rate:0.0200 gloss:1.1566 dloss:2.4765 glossQ:1.1413 dlossQ:0.7650 exploreP:0.4688\n",
      "Episode:455 meanR:14.1700 R:14.0000 rate:0.0280 gloss:1.1768 dloss:2.5179 glossQ:1.1172 dlossQ:0.6986 exploreP:0.4682\n",
      "Episode:456 meanR:14.0900 R:12.0000 rate:0.0240 gloss:1.1828 dloss:2.5332 glossQ:1.1270 dlossQ:0.7264 exploreP:0.4676\n",
      "Episode:457 meanR:14.0400 R:10.0000 rate:0.0200 gloss:1.1879 dloss:2.5283 glossQ:1.1156 dlossQ:0.6804 exploreP:0.4671\n",
      "Episode:458 meanR:14.1100 R:19.0000 rate:0.0380 gloss:1.1657 dloss:2.4933 glossQ:1.1351 dlossQ:0.7411 exploreP:0.4663\n",
      "Episode:459 meanR:14.1400 R:19.0000 rate:0.0380 gloss:1.1606 dloss:2.4749 glossQ:1.1794 dlossQ:0.8537 exploreP:0.4654\n",
      "Episode:460 meanR:14.2000 R:17.0000 rate:0.0340 gloss:1.1561 dloss:2.4835 glossQ:1.1361 dlossQ:0.7590 exploreP:0.4646\n",
      "Episode:461 meanR:14.2500 R:23.0000 rate:0.0460 gloss:1.1530 dloss:2.4731 glossQ:1.1409 dlossQ:0.7864 exploreP:0.4636\n",
      "Episode:462 meanR:14.2900 R:18.0000 rate:0.0360 gloss:1.1704 dloss:2.5027 glossQ:1.1244 dlossQ:0.7615 exploreP:0.4628\n",
      "Episode:463 meanR:14.2600 R:14.0000 rate:0.0280 gloss:1.1683 dloss:2.5010 glossQ:1.1338 dlossQ:0.7905 exploreP:0.4621\n",
      "Episode:464 meanR:14.2500 R:15.0000 rate:0.0300 gloss:1.1791 dloss:2.5133 glossQ:1.1216 dlossQ:0.7387 exploreP:0.4615\n",
      "Episode:465 meanR:14.3100 R:15.0000 rate:0.0300 gloss:1.1741 dloss:2.5266 glossQ:1.1227 dlossQ:0.7822 exploreP:0.4608\n",
      "Episode:466 meanR:14.4100 R:26.0000 rate:0.0520 gloss:1.1820 dloss:2.5338 glossQ:1.1240 dlossQ:0.7681 exploreP:0.4596\n",
      "Episode:467 meanR:14.5000 R:27.0000 rate:0.0540 gloss:1.1916 dloss:2.5553 glossQ:1.1243 dlossQ:0.7961 exploreP:0.4584\n",
      "Episode:468 meanR:14.6300 R:24.0000 rate:0.0480 gloss:1.1821 dloss:2.5441 glossQ:1.1317 dlossQ:0.8238 exploreP:0.4573\n",
      "Episode:469 meanR:14.6600 R:21.0000 rate:0.0420 gloss:1.1931 dloss:2.5678 glossQ:1.1101 dlossQ:0.7922 exploreP:0.4564\n",
      "Episode:470 meanR:14.9000 R:32.0000 rate:0.0640 gloss:1.1811 dloss:2.5511 glossQ:1.1230 dlossQ:0.8407 exploreP:0.4550\n",
      "Episode:471 meanR:15.0200 R:25.0000 rate:0.0500 gloss:1.1985 dloss:2.5765 glossQ:1.1133 dlossQ:0.8529 exploreP:0.4539\n",
      "Episode:472 meanR:15.3400 R:41.0000 rate:0.0820 gloss:1.1934 dloss:2.5819 glossQ:1.1145 dlossQ:0.8723 exploreP:0.4520\n",
      "Episode:473 meanR:15.4800 R:25.0000 rate:0.0500 gloss:1.2022 dloss:2.6034 glossQ:1.1092 dlossQ:0.8746 exploreP:0.4509\n",
      "Episode:474 meanR:15.6700 R:40.0000 rate:0.0800 gloss:1.1889 dloss:2.5823 glossQ:1.1149 dlossQ:0.9152 exploreP:0.4492\n",
      "Episode:475 meanR:15.9300 R:50.0000 rate:0.1000 gloss:1.1907 dloss:2.5922 glossQ:1.1228 dlossQ:0.9797 exploreP:0.4470\n",
      "Episode:476 meanR:15.9400 R:38.0000 rate:0.0760 gloss:1.1899 dloss:2.5892 glossQ:1.1272 dlossQ:1.0150 exploreP:0.4453\n",
      "Episode:477 meanR:16.7400 R:91.0000 rate:0.1820 gloss:1.2125 dloss:2.6438 glossQ:1.1187 dlossQ:1.0741 exploreP:0.4414\n",
      "Episode:478 meanR:18.7000 R:210.0000 rate:0.4200 gloss:1.2091 dloss:nan glossQ:1.1272 dlossQ:1.2265 exploreP:0.4324\n",
      "Episode:479 meanR:19.1100 R:53.0000 rate:0.1060 gloss:1.2351 dloss:2.7023 glossQ:1.1173 dlossQ:1.2245 exploreP:0.4302\n",
      "Episode:480 meanR:19.4200 R:49.0000 rate:0.0980 gloss:1.2331 dloss:2.7142 glossQ:1.1201 dlossQ:1.3041 exploreP:0.4281\n",
      "Episode:481 meanR:19.6500 R:38.0000 rate:0.0760 gloss:1.2422 dloss:2.7315 glossQ:1.1561 dlossQ:1.3433 exploreP:0.4265\n",
      "Episode:482 meanR:20.1700 R:67.0000 rate:0.1340 gloss:1.2365 dloss:2.7256 glossQ:1.1202 dlossQ:1.3351 exploreP:0.4238\n",
      "Episode:483 meanR:20.3900 R:31.0000 rate:0.0620 gloss:1.2256 dloss:2.7029 glossQ:1.1288 dlossQ:1.3458 exploreP:0.4225\n",
      "Episode:484 meanR:20.6100 R:33.0000 rate:0.0660 gloss:1.2415 dloss:2.7197 glossQ:1.1209 dlossQ:1.2431 exploreP:0.4211\n",
      "Episode:485 meanR:20.7600 R:25.0000 rate:0.0500 gloss:1.2214 dloss:2.6867 glossQ:1.1219 dlossQ:1.2597 exploreP:0.4201\n",
      "Episode:486 meanR:21.0900 R:44.0000 rate:0.0880 gloss:1.2330 dloss:2.7157 glossQ:1.1131 dlossQ:1.2770 exploreP:0.4183\n",
      "Episode:487 meanR:21.1400 R:29.0000 rate:0.0580 gloss:1.2309 dloss:2.7118 glossQ:1.1179 dlossQ:1.2875 exploreP:0.4171\n",
      "Episode:488 meanR:21.3600 R:34.0000 rate:0.0680 gloss:1.2343 dloss:nan glossQ:1.1669 dlossQ:1.3296 exploreP:0.4157\n",
      "Episode:489 meanR:21.4000 R:16.0000 rate:0.0320 gloss:1.2196 dloss:2.6859 glossQ:1.1180 dlossQ:1.2318 exploreP:0.4151\n",
      "Episode:490 meanR:21.6500 R:34.0000 rate:0.0680 gloss:1.2305 dloss:2.7092 glossQ:1.1249 dlossQ:1.2443 exploreP:0.4137\n"
     ]
    },
    {
     "name": "stdout",
     "output_type": "stream",
     "text": [
      "Episode:491 meanR:21.7000 R:22.0000 rate:0.0440 gloss:1.2266 dloss:2.7004 glossQ:1.1434 dlossQ:1.2335 exploreP:0.4128\n",
      "Episode:492 meanR:21.8400 R:33.0000 rate:0.0660 gloss:1.2270 dloss:2.7038 glossQ:1.1230 dlossQ:1.1847 exploreP:0.4115\n",
      "Episode:493 meanR:22.0100 R:30.0000 rate:0.0600 gloss:1.2233 dloss:2.6909 glossQ:1.1151 dlossQ:1.1412 exploreP:0.4103\n",
      "Episode:494 meanR:22.1900 R:30.0000 rate:0.0600 gloss:1.2200 dloss:2.6825 glossQ:1.1433 dlossQ:1.1643 exploreP:0.4091\n",
      "Episode:495 meanR:22.4600 R:37.0000 rate:0.0740 gloss:1.2426 dloss:2.7250 glossQ:1.1106 dlossQ:1.0965 exploreP:0.4076\n",
      "Episode:496 meanR:22.6900 R:33.0000 rate:0.0660 gloss:1.2274 dloss:2.7054 glossQ:1.1231 dlossQ:1.1327 exploreP:0.4063\n",
      "Episode:497 meanR:22.7800 R:20.0000 rate:0.0400 gloss:1.2191 dloss:2.6852 glossQ:1.1250 dlossQ:1.1198 exploreP:0.4055\n",
      "Episode:498 meanR:23.0200 R:36.0000 rate:0.0720 gloss:1.2236 dloss:2.6923 glossQ:1.1107 dlossQ:1.0853 exploreP:0.4041\n",
      "Episode:499 meanR:23.4800 R:58.0000 rate:0.1160 gloss:1.2480 dloss:2.7493 glossQ:1.1275 dlossQ:1.1090 exploreP:0.4018\n",
      "Episode:500 meanR:23.7000 R:37.0000 rate:0.0740 gloss:1.2301 dloss:2.7131 glossQ:1.1133 dlossQ:1.0915 exploreP:0.4004\n",
      "Episode:501 meanR:24.0600 R:47.0000 rate:0.0940 gloss:1.2519 dloss:2.7590 glossQ:1.1085 dlossQ:1.0659 exploreP:0.3985\n",
      "Episode:502 meanR:24.2700 R:32.0000 rate:0.0640 gloss:1.2236 dloss:2.7085 glossQ:1.1398 dlossQ:1.1426 exploreP:0.3973\n",
      "Episode:503 meanR:24.3700 R:24.0000 rate:0.0480 gloss:1.2264 dloss:2.7013 glossQ:1.1154 dlossQ:1.0555 exploreP:0.3964\n",
      "Episode:504 meanR:24.9400 R:67.0000 rate:0.1340 gloss:1.2349 dloss:nan glossQ:1.1192 dlossQ:1.0740 exploreP:0.3938\n",
      "Episode:505 meanR:25.2400 R:41.0000 rate:0.0820 gloss:1.2437 dloss:2.7464 glossQ:1.1193 dlossQ:1.0977 exploreP:0.3922\n",
      "Episode:506 meanR:25.5500 R:45.0000 rate:0.0900 gloss:1.2203 dloss:2.7072 glossQ:1.1108 dlossQ:1.1025 exploreP:0.3905\n",
      "Episode:507 meanR:25.9800 R:53.0000 rate:0.1060 gloss:1.2284 dloss:2.7148 glossQ:1.1091 dlossQ:1.0890 exploreP:0.3885\n",
      "Episode:508 meanR:26.2700 R:45.0000 rate:0.0900 gloss:1.2425 dloss:nan glossQ:1.2869 dlossQ:1.2821 exploreP:0.3868\n",
      "Episode:509 meanR:26.5600 R:37.0000 rate:0.0740 gloss:1.2390 dloss:2.7408 glossQ:1.1013 dlossQ:1.1050 exploreP:0.3854\n",
      "Episode:510 meanR:27.0600 R:61.0000 rate:0.1220 gloss:1.2333 dloss:2.7340 glossQ:1.1036 dlossQ:1.1176 exploreP:0.3831\n",
      "Episode:511 meanR:27.4000 R:44.0000 rate:0.0880 gloss:1.2286 dloss:2.7215 glossQ:1.1236 dlossQ:1.1586 exploreP:0.3815\n",
      "Episode:512 meanR:27.7800 R:49.0000 rate:0.0980 gloss:1.2383 dloss:2.7411 glossQ:1.1095 dlossQ:1.1390 exploreP:0.3797\n",
      "Episode:513 meanR:28.1700 R:61.0000 rate:0.1220 gloss:1.2273 dloss:2.7274 glossQ:1.1113 dlossQ:1.1778 exploreP:0.3774\n",
      "Episode:514 meanR:28.1000 R:14.0000 rate:0.0280 gloss:1.2398 dloss:2.7425 glossQ:1.1018 dlossQ:1.1421 exploreP:0.3769\n",
      "Episode:515 meanR:29.0400 R:103.0000 rate:0.2060 gloss:1.2440 dloss:2.7576 glossQ:1.1270 dlossQ:1.2088 exploreP:0.3731\n",
      "Episode:516 meanR:30.7300 R:184.0000 rate:0.3680 gloss:1.2384 dloss:2.7387 glossQ:1.1085 dlossQ:1.1552 exploreP:0.3665\n",
      "Episode:517 meanR:30.8400 R:38.0000 rate:0.0760 gloss:1.2320 dloss:2.7264 glossQ:1.1051 dlossQ:1.1424 exploreP:0.3652\n",
      "Episode:518 meanR:31.0500 R:47.0000 rate:0.0940 gloss:1.2439 dloss:2.7406 glossQ:1.1061 dlossQ:1.1148 exploreP:0.3635\n",
      "Episode:519 meanR:31.4600 R:59.0000 rate:0.1180 gloss:1.2331 dloss:2.7197 glossQ:1.1078 dlossQ:1.1150 exploreP:0.3614\n",
      "Episode:520 meanR:31.7500 R:38.0000 rate:0.0760 gloss:1.2272 dloss:2.7046 glossQ:1.1158 dlossQ:1.1140 exploreP:0.3601\n",
      "Episode:521 meanR:33.1100 R:151.0000 rate:0.3020 gloss:1.2293 dloss:2.7087 glossQ:1.1136 dlossQ:1.0999 exploreP:0.3548\n",
      "Episode:522 meanR:34.1500 R:117.0000 rate:0.2340 gloss:1.2220 dloss:nan glossQ:1.1177 dlossQ:1.0694 exploreP:0.3508\n",
      "Episode:523 meanR:35.1400 R:110.0000 rate:0.2200 gloss:1.2361 dloss:2.7120 glossQ:1.1147 dlossQ:1.0628 exploreP:0.3471\n",
      "Episode:524 meanR:36.4100 R:143.0000 rate:0.2860 gloss:1.2293 dloss:2.7097 glossQ:1.1111 dlossQ:1.0705 exploreP:0.3423\n",
      "Episode:525 meanR:36.8600 R:55.0000 rate:0.1100 gloss:1.2270 dloss:nan glossQ:1.1710 dlossQ:1.1327 exploreP:0.3405\n",
      "Episode:526 meanR:37.1800 R:46.0000 rate:0.0920 gloss:1.2418 dloss:2.7355 glossQ:1.1294 dlossQ:1.1294 exploreP:0.3390\n",
      "Episode:527 meanR:38.0700 R:105.0000 rate:0.2100 gloss:1.2429 dloss:2.7412 glossQ:1.1240 dlossQ:1.1002 exploreP:0.3355\n",
      "Episode:528 meanR:38.7500 R:77.0000 rate:0.1540 gloss:1.2312 dloss:2.7232 glossQ:1.1051 dlossQ:1.0972 exploreP:0.3330\n",
      "Episode:529 meanR:39.5600 R:94.0000 rate:0.1880 gloss:1.2333 dloss:2.7244 glossQ:1.1230 dlossQ:1.1027 exploreP:0.3300\n",
      "Episode:530 meanR:39.7800 R:34.0000 rate:0.0680 gloss:1.2425 dloss:2.7457 glossQ:1.0996 dlossQ:1.0913 exploreP:0.3289\n",
      "Episode:531 meanR:40.2500 R:68.0000 rate:0.1360 gloss:1.2384 dloss:nan glossQ:1.1639 dlossQ:1.1427 exploreP:0.3268\n",
      "Episode:532 meanR:40.6200 R:48.0000 rate:0.0960 gloss:1.2426 dloss:2.7468 glossQ:1.1032 dlossQ:1.0890 exploreP:0.3253\n",
      "Episode:533 meanR:41.1400 R:70.0000 rate:0.1400 gloss:1.2364 dloss:2.7279 glossQ:1.0986 dlossQ:1.0613 exploreP:0.3231\n",
      "Episode:534 meanR:41.9200 R:91.0000 rate:0.1820 gloss:1.2312 dloss:nan glossQ:1.1266 dlossQ:1.0980 exploreP:0.3202\n",
      "Episode:535 meanR:42.9500 R:114.0000 rate:0.2280 gloss:1.2378 dloss:2.7310 glossQ:1.1015 dlossQ:1.0537 exploreP:0.3167\n",
      "Episode:536 meanR:43.3800 R:52.0000 rate:0.1040 gloss:1.2250 dloss:2.7022 glossQ:1.1067 dlossQ:1.0433 exploreP:0.3151\n",
      "Episode:537 meanR:43.8200 R:56.0000 rate:0.1120 gloss:1.2331 dloss:2.7155 glossQ:1.1030 dlossQ:1.0242 exploreP:0.3134\n",
      "Episode:538 meanR:44.3000 R:58.0000 rate:0.1160 gloss:1.2216 dloss:2.6911 glossQ:1.1155 dlossQ:1.0398 exploreP:0.3117\n",
      "Episode:539 meanR:44.7600 R:61.0000 rate:0.1220 gloss:1.2433 dloss:2.7320 glossQ:1.1025 dlossQ:1.0268 exploreP:0.3098\n",
      "Episode:540 meanR:44.9700 R:37.0000 rate:0.0740 gloss:1.2379 dloss:2.7247 glossQ:1.1047 dlossQ:1.0175 exploreP:0.3087\n",
      "Episode:541 meanR:45.2900 R:45.0000 rate:0.0900 gloss:1.2198 dloss:2.6900 glossQ:1.0995 dlossQ:1.0124 exploreP:0.3074\n",
      "Episode:542 meanR:45.7500 R:57.0000 rate:0.1140 gloss:1.2396 dloss:2.7231 glossQ:1.1008 dlossQ:0.9937 exploreP:0.3057\n",
      "Episode:543 meanR:45.9900 R:50.0000 rate:0.1000 gloss:1.2194 dloss:2.6882 glossQ:1.1031 dlossQ:1.0154 exploreP:0.3042\n",
      "Episode:544 meanR:46.3100 R:61.0000 rate:0.1220 gloss:1.2303 dloss:2.7028 glossQ:1.1147 dlossQ:1.0183 exploreP:0.3024\n",
      "Episode:545 meanR:47.1900 R:102.0000 rate:0.2040 gloss:1.2418 dloss:2.7335 glossQ:1.0926 dlossQ:0.9973 exploreP:0.2995\n",
      "Episode:546 meanR:47.7500 R:68.0000 rate:0.1360 gloss:1.2263 dloss:nan glossQ:1.1273 dlossQ:1.0501 exploreP:0.2975\n",
      "Episode:547 meanR:48.3300 R:71.0000 rate:0.1420 gloss:1.2441 dloss:2.7384 glossQ:1.0978 dlossQ:1.0062 exploreP:0.2955\n",
      "Episode:548 meanR:48.9300 R:71.0000 rate:0.1420 gloss:1.2317 dloss:2.7154 glossQ:1.0991 dlossQ:1.0116 exploreP:0.2934\n",
      "Episode:549 meanR:49.3200 R:59.0000 rate:0.1180 gloss:1.2509 dloss:nan glossQ:1.1562 dlossQ:1.0965 exploreP:0.2918\n",
      "Episode:550 meanR:49.8800 R:69.0000 rate:0.1380 gloss:1.2383 dloss:2.7303 glossQ:1.0947 dlossQ:1.0173 exploreP:0.2898\n",
      "Episode:551 meanR:50.9900 R:121.0000 rate:0.2420 gloss:1.2311 dloss:2.7148 glossQ:1.0990 dlossQ:1.0171 exploreP:0.2865\n",
      "Episode:552 meanR:51.7400 R:89.0000 rate:0.1780 gloss:1.2224 dloss:2.6886 glossQ:1.1018 dlossQ:1.0041 exploreP:0.2840\n",
      "Episode:553 meanR:52.4000 R:76.0000 rate:0.1520 gloss:1.2163 dloss:nan glossQ:1.1142 dlossQ:0.9971 exploreP:0.2819\n",
      "Episode:554 meanR:52.9800 R:68.0000 rate:0.1360 gloss:1.2287 dloss:2.6946 glossQ:1.1120 dlossQ:0.9900 exploreP:0.2801\n",
      "Episode:555 meanR:53.7700 R:93.0000 rate:0.1860 gloss:1.2246 dloss:2.6899 glossQ:1.1068 dlossQ:0.9805 exploreP:0.2776\n",
      "Episode:556 meanR:55.0100 R:136.0000 rate:0.2720 gloss:1.2313 dloss:2.7023 glossQ:1.1080 dlossQ:0.9772 exploreP:0.2740\n",
      "Episode:557 meanR:55.3400 R:43.0000 rate:0.0860 gloss:1.2200 dloss:2.6823 glossQ:1.1003 dlossQ:0.9737 exploreP:0.2729\n",
      "Episode:558 meanR:56.2000 R:105.0000 rate:0.2100 gloss:1.2240 dloss:2.6887 glossQ:1.1049 dlossQ:0.9681 exploreP:0.2701\n",
      "Episode:559 meanR:57.3700 R:136.0000 rate:0.2720 gloss:1.2369 dloss:2.7168 glossQ:1.1072 dlossQ:0.9728 exploreP:0.2666\n",
      "Episode:560 meanR:57.9300 R:73.0000 rate:0.1460 gloss:1.2248 dloss:2.6953 glossQ:1.1018 dlossQ:0.9750 exploreP:0.2647\n"
     ]
    },
    {
     "name": "stdout",
     "output_type": "stream",
     "text": [
      "Episode:561 meanR:58.3100 R:61.0000 rate:0.1220 gloss:1.2338 dloss:2.7101 glossQ:1.1119 dlossQ:0.9780 exploreP:0.2632\n",
      "Episode:562 meanR:58.9600 R:83.0000 rate:0.1660 gloss:1.2214 dloss:2.6879 glossQ:1.1064 dlossQ:0.9727 exploreP:0.2611\n",
      "Episode:563 meanR:59.1600 R:34.0000 rate:0.0680 gloss:1.2395 dloss:2.7201 glossQ:1.0967 dlossQ:0.9616 exploreP:0.2602\n",
      "Episode:564 meanR:59.7800 R:77.0000 rate:0.1540 gloss:1.2389 dloss:nan glossQ:1.1439 dlossQ:1.0130 exploreP:0.2583\n",
      "Episode:565 meanR:60.3200 R:69.0000 rate:0.1380 gloss:1.2218 dloss:2.6894 glossQ:1.1056 dlossQ:0.9659 exploreP:0.2566\n",
      "Episode:566 meanR:61.2300 R:117.0000 rate:0.2340 gloss:1.2293 dloss:2.7013 glossQ:1.1026 dlossQ:0.9603 exploreP:0.2537\n",
      "Episode:567 meanR:61.7400 R:78.0000 rate:0.1560 gloss:1.2235 dloss:nan glossQ:1.1029 dlossQ:0.9684 exploreP:0.2518\n",
      "Episode:568 meanR:62.4100 R:91.0000 rate:0.1820 gloss:1.2280 dloss:2.6995 glossQ:1.1004 dlossQ:0.9623 exploreP:0.2497\n",
      "Episode:569 meanR:62.8200 R:62.0000 rate:0.1240 gloss:1.2244 dloss:2.6954 glossQ:1.1024 dlossQ:0.9679 exploreP:0.2482\n",
      "Episode:570 meanR:63.3500 R:85.0000 rate:0.1700 gloss:1.2227 dloss:2.6919 glossQ:1.1100 dlossQ:0.9704 exploreP:0.2462\n",
      "Episode:571 meanR:63.6000 R:50.0000 rate:0.1000 gloss:1.2160 dloss:2.6754 glossQ:1.1046 dlossQ:0.9671 exploreP:0.2450\n",
      "Episode:572 meanR:64.8300 R:164.0000 rate:0.3280 gloss:1.2363 dloss:nan glossQ:1.1173 dlossQ:0.9814 exploreP:0.2412\n",
      "Episode:573 meanR:65.8000 R:122.0000 rate:0.2440 gloss:1.2348 dloss:2.7184 glossQ:1.1003 dlossQ:0.9733 exploreP:0.2384\n",
      "Episode:574 meanR:66.6300 R:123.0000 rate:0.2460 gloss:1.2415 dloss:2.7329 glossQ:1.0986 dlossQ:0.9742 exploreP:0.2356\n",
      "Episode:575 meanR:66.6700 R:54.0000 rate:0.1080 gloss:1.2309 dloss:2.7161 glossQ:1.1032 dlossQ:0.9741 exploreP:0.2343\n",
      "Episode:576 meanR:66.8700 R:58.0000 rate:0.1160 gloss:1.2287 dloss:2.7073 glossQ:1.0986 dlossQ:0.9760 exploreP:0.2331\n",
      "Episode:577 meanR:66.5800 R:62.0000 rate:0.1240 gloss:1.2375 dloss:2.7203 glossQ:1.0951 dlossQ:0.9637 exploreP:0.2317\n",
      "Episode:578 meanR:65.3700 R:89.0000 rate:0.1780 gloss:1.2432 dloss:nan glossQ:1.1021 dlossQ:0.9779 exploreP:0.2297\n",
      "Episode:579 meanR:65.7500 R:91.0000 rate:0.1820 gloss:1.2445 dloss:2.7418 glossQ:1.0994 dlossQ:0.9826 exploreP:0.2277\n",
      "Episode:580 meanR:65.8900 R:63.0000 rate:0.1260 gloss:1.2435 dloss:2.7390 glossQ:1.0948 dlossQ:0.9767 exploreP:0.2264\n",
      "Episode:581 meanR:66.8600 R:135.0000 rate:0.2700 gloss:1.2392 dloss:2.7300 glossQ:1.1115 dlossQ:0.9889 exploreP:0.2235\n",
      "Episode:582 meanR:66.9000 R:71.0000 rate:0.1420 gloss:1.2339 dloss:nan glossQ:1.1087 dlossQ:0.9954 exploreP:0.2219\n",
      "Episode:583 meanR:68.0400 R:145.0000 rate:0.2900 gloss:1.2514 dloss:2.7554 glossQ:1.0959 dlossQ:0.9826 exploreP:0.2189\n",
      "Episode:584 meanR:68.1900 R:48.0000 rate:0.0960 gloss:1.2501 dloss:2.7497 glossQ:1.0983 dlossQ:0.9735 exploreP:0.2179\n",
      "Episode:585 meanR:68.8500 R:91.0000 rate:0.1820 gloss:1.2415 dloss:2.7410 glossQ:1.0946 dlossQ:0.9921 exploreP:0.2160\n",
      "Episode:586 meanR:68.8500 R:44.0000 rate:0.0880 gloss:1.2511 dloss:2.7550 glossQ:1.1002 dlossQ:0.9816 exploreP:0.2151\n",
      "Episode:587 meanR:69.1600 R:60.0000 rate:0.1200 gloss:1.2467 dloss:2.7485 glossQ:1.0960 dlossQ:0.9910 exploreP:0.2139\n",
      "Episode:588 meanR:69.2600 R:44.0000 rate:0.0880 gloss:1.2354 dloss:2.7229 glossQ:1.0983 dlossQ:0.9847 exploreP:0.2130\n",
      "Episode:589 meanR:70.1900 R:109.0000 rate:0.2180 gloss:1.2346 dloss:2.7223 glossQ:1.1044 dlossQ:0.9979 exploreP:0.2108\n",
      "Episode:590 meanR:70.5600 R:71.0000 rate:0.1420 gloss:1.2470 dloss:2.7466 glossQ:1.0974 dlossQ:0.9877 exploreP:0.2094\n",
      "Episode:591 meanR:70.9900 R:65.0000 rate:0.1300 gloss:1.2593 dloss:2.7743 glossQ:1.1069 dlossQ:1.0004 exploreP:0.2081\n",
      "Episode:592 meanR:71.1900 R:53.0000 rate:0.1060 gloss:1.2598 dloss:2.7835 glossQ:1.0896 dlossQ:0.9980 exploreP:0.2070\n",
      "Episode:593 meanR:71.6600 R:77.0000 rate:0.1540 gloss:1.2474 dloss:2.7562 glossQ:1.0976 dlossQ:0.9956 exploreP:0.2055\n",
      "Episode:594 meanR:72.5100 R:115.0000 rate:0.2300 gloss:1.2588 dloss:nan glossQ:1.0912 dlossQ:0.9901 exploreP:0.2033\n",
      "Episode:595 meanR:72.9800 R:84.0000 rate:0.1680 gloss:1.2389 dloss:nan glossQ:1.0896 dlossQ:0.9923 exploreP:0.2017\n",
      "Episode:596 meanR:74.0100 R:136.0000 rate:0.2720 gloss:1.2607 dloss:2.7816 glossQ:1.1083 dlossQ:1.0071 exploreP:0.1991\n",
      "Episode:597 meanR:75.2100 R:140.0000 rate:0.2800 gloss:1.2501 dloss:2.7666 glossQ:1.0935 dlossQ:0.9949 exploreP:0.1964\n",
      "Episode:598 meanR:75.4400 R:59.0000 rate:0.1180 gloss:1.2428 dloss:2.7495 glossQ:1.0957 dlossQ:1.0013 exploreP:0.1953\n",
      "Episode:599 meanR:77.1400 R:228.0000 rate:0.4560 gloss:1.2400 dloss:2.7366 glossQ:1.0948 dlossQ:1.0005 exploreP:0.1912\n",
      "Episode:600 meanR:77.7900 R:102.0000 rate:0.2040 gloss:1.2615 dloss:2.7817 glossQ:1.0899 dlossQ:0.9861 exploreP:0.1893\n",
      "Episode:601 meanR:77.9200 R:60.0000 rate:0.1200 gloss:1.2622 dloss:nan glossQ:1.0845 dlossQ:0.9893 exploreP:0.1883\n",
      "Episode:602 meanR:78.1800 R:58.0000 rate:0.1160 gloss:1.2518 dloss:2.7691 glossQ:1.0889 dlossQ:1.0016 exploreP:0.1872\n",
      "Episode:603 meanR:79.2700 R:133.0000 rate:0.2660 gloss:1.2619 dloss:nan glossQ:1.1282 dlossQ:1.0361 exploreP:0.1849\n",
      "Episode:604 meanR:79.6500 R:105.0000 rate:0.2100 gloss:1.2476 dloss:nan glossQ:1.0972 dlossQ:0.9934 exploreP:0.1831\n",
      "Episode:605 meanR:80.0700 R:83.0000 rate:0.1660 gloss:1.2760 dloss:nan glossQ:1.1407 dlossQ:1.0260 exploreP:0.1816\n",
      "Episode:606 meanR:80.1100 R:49.0000 rate:0.0980 gloss:1.2449 dloss:2.7576 glossQ:1.0979 dlossQ:1.0063 exploreP:0.1808\n",
      "Episode:607 meanR:80.2600 R:68.0000 rate:0.1360 gloss:1.2526 dloss:2.7711 glossQ:1.0889 dlossQ:0.9920 exploreP:0.1796\n",
      "Episode:608 meanR:80.3700 R:56.0000 rate:0.1120 gloss:1.2462 dloss:2.7561 glossQ:1.0930 dlossQ:0.9865 exploreP:0.1787\n",
      "Episode:609 meanR:80.6500 R:65.0000 rate:0.1300 gloss:1.2557 dloss:2.7724 glossQ:1.1062 dlossQ:1.0026 exploreP:0.1776\n",
      "Episode:610 meanR:80.8100 R:77.0000 rate:0.1540 gloss:1.2572 dloss:2.7811 glossQ:1.0903 dlossQ:0.9962 exploreP:0.1763\n",
      "Episode:611 meanR:81.5800 R:121.0000 rate:0.2420 gloss:1.2500 dloss:nan glossQ:1.1085 dlossQ:1.0006 exploreP:0.1743\n",
      "Episode:612 meanR:81.7500 R:66.0000 rate:0.1320 gloss:1.2467 dloss:2.7543 glossQ:1.0931 dlossQ:0.9917 exploreP:0.1732\n",
      "Episode:613 meanR:81.9900 R:85.0000 rate:0.1700 gloss:1.2525 dloss:2.7662 glossQ:1.0951 dlossQ:0.9967 exploreP:0.1718\n",
      "Episode:614 meanR:82.7700 R:92.0000 rate:0.1840 gloss:1.2555 dloss:2.7770 glossQ:1.1093 dlossQ:1.0110 exploreP:0.1704\n",
      "Episode:615 meanR:82.3500 R:61.0000 rate:0.1220 gloss:1.2534 dloss:2.7716 glossQ:1.0860 dlossQ:0.9829 exploreP:0.1694\n",
      "Episode:616 meanR:81.0600 R:55.0000 rate:0.1100 gloss:1.2577 dloss:2.7783 glossQ:1.0917 dlossQ:0.9945 exploreP:0.1685\n",
      "Episode:617 meanR:81.8600 R:118.0000 rate:0.2360 gloss:1.2615 dloss:nan glossQ:1.1100 dlossQ:1.0047 exploreP:0.1666\n",
      "Episode:618 meanR:82.0600 R:67.0000 rate:0.1340 gloss:1.2533 dloss:2.7758 glossQ:1.0911 dlossQ:0.9967 exploreP:0.1656\n",
      "Episode:619 meanR:82.0500 R:58.0000 rate:0.1160 gloss:1.2625 dloss:nan glossQ:1.1685 dlossQ:1.0744 exploreP:0.1647\n",
      "Episode:620 meanR:82.8200 R:115.0000 rate:0.2300 gloss:1.2524 dloss:2.7772 glossQ:1.0986 dlossQ:1.0108 exploreP:0.1629\n",
      "Episode:621 meanR:82.2000 R:89.0000 rate:0.1780 gloss:1.2593 dloss:2.7842 glossQ:1.0968 dlossQ:0.9946 exploreP:0.1616\n",
      "Episode:622 meanR:81.5700 R:54.0000 rate:0.1080 gloss:1.2683 dloss:2.8052 glossQ:1.0906 dlossQ:0.9900 exploreP:0.1608\n",
      "Episode:623 meanR:81.8600 R:139.0000 rate:0.2780 gloss:1.2656 dloss:2.8034 glossQ:1.0953 dlossQ:1.0027 exploreP:0.1587\n",
      "Episode:624 meanR:81.0600 R:63.0000 rate:0.1260 gloss:1.2748 dloss:2.8236 glossQ:1.0838 dlossQ:0.9954 exploreP:0.1577\n",
      "Episode:625 meanR:81.1500 R:64.0000 rate:0.1280 gloss:1.2643 dloss:2.8021 glossQ:1.0998 dlossQ:1.0098 exploreP:0.1568\n",
      "Episode:626 meanR:81.3500 R:66.0000 rate:0.1320 gloss:1.2874 dloss:2.8490 glossQ:1.0835 dlossQ:0.9969 exploreP:0.1558\n",
      "Episode:627 meanR:80.8300 R:53.0000 rate:0.1060 gloss:1.2779 dloss:2.8312 glossQ:1.0970 dlossQ:1.0151 exploreP:0.1551\n",
      "Episode:628 meanR:80.7400 R:68.0000 rate:0.1360 gloss:1.2535 dloss:2.7875 glossQ:1.0898 dlossQ:1.0021 exploreP:0.1541\n",
      "Episode:629 meanR:80.4600 R:66.0000 rate:0.1320 gloss:1.2674 dloss:2.8102 glossQ:1.0884 dlossQ:1.0022 exploreP:0.1531\n",
      "Episode:630 meanR:81.8600 R:174.0000 rate:0.3480 gloss:1.2792 dloss:nan glossQ:1.1051 dlossQ:1.0068 exploreP:0.1507\n"
     ]
    },
    {
     "name": "stdout",
     "output_type": "stream",
     "text": [
      "Episode:631 meanR:81.8800 R:70.0000 rate:0.1400 gloss:1.2594 dloss:2.7997 glossQ:1.1023 dlossQ:1.0190 exploreP:0.1497\n",
      "Episode:632 meanR:83.1100 R:171.0000 rate:0.3420 gloss:1.2673 dloss:nan glossQ:1.1144 dlossQ:1.0240 exploreP:0.1473\n",
      "Episode:633 meanR:83.1900 R:78.0000 rate:0.1560 gloss:1.2722 dloss:nan glossQ:1.0837 dlossQ:0.9892 exploreP:0.1463\n",
      "Episode:634 meanR:83.2800 R:100.0000 rate:0.2000 gloss:1.2769 dloss:2.8305 glossQ:1.0820 dlossQ:0.9848 exploreP:0.1449\n",
      "Episode:635 meanR:82.7200 R:58.0000 rate:0.1160 gloss:1.2709 dloss:2.8252 glossQ:1.1054 dlossQ:1.0079 exploreP:0.1441\n",
      "Episode:636 meanR:84.0200 R:182.0000 rate:0.3640 gloss:1.2724 dloss:nan glossQ:1.1244 dlossQ:1.0291 exploreP:0.1417\n",
      "Episode:637 meanR:83.9200 R:46.0000 rate:0.0920 gloss:1.2485 dloss:nan glossQ:1.0895 dlossQ:0.9964 exploreP:0.1411\n",
      "Episode:638 meanR:84.5200 R:118.0000 rate:0.2360 gloss:1.2718 dloss:2.8203 glossQ:1.0837 dlossQ:0.9856 exploreP:0.1396\n",
      "Episode:639 meanR:84.7500 R:84.0000 rate:0.1680 gloss:1.2812 dloss:2.8429 glossQ:1.0959 dlossQ:0.9882 exploreP:0.1385\n",
      "Episode:640 meanR:84.9700 R:59.0000 rate:0.1180 gloss:1.2702 dloss:2.8240 glossQ:1.0817 dlossQ:0.9907 exploreP:0.1377\n",
      "Episode:641 meanR:85.0100 R:49.0000 rate:0.0980 gloss:1.2619 dloss:2.8077 glossQ:1.0866 dlossQ:0.9977 exploreP:0.1371\n",
      "Episode:642 meanR:84.9800 R:54.0000 rate:0.1080 gloss:1.2649 dloss:2.8095 glossQ:1.0838 dlossQ:0.9958 exploreP:0.1364\n",
      "Episode:643 meanR:85.3100 R:83.0000 rate:0.1660 gloss:1.2517 dloss:2.7790 glossQ:1.0860 dlossQ:0.9804 exploreP:0.1354\n",
      "Episode:644 meanR:85.6300 R:93.0000 rate:0.1860 gloss:1.2613 dloss:2.7997 glossQ:1.1004 dlossQ:0.9987 exploreP:0.1342\n",
      "Episode:645 meanR:85.4800 R:87.0000 rate:0.1740 gloss:1.2614 dloss:2.7971 glossQ:1.0839 dlossQ:0.9807 exploreP:0.1331\n",
      "Episode:646 meanR:85.6800 R:88.0000 rate:0.1760 gloss:1.2606 dloss:2.7960 glossQ:1.0890 dlossQ:0.9876 exploreP:0.1320\n",
      "Episode:647 meanR:85.6500 R:68.0000 rate:0.1360 gloss:1.2611 dloss:2.7966 glossQ:1.0940 dlossQ:0.9913 exploreP:0.1312\n",
      "Episode:648 meanR:85.7000 R:76.0000 rate:0.1520 gloss:1.2693 dloss:nan glossQ:1.0818 dlossQ:0.9938 exploreP:0.1303\n",
      "Episode:649 meanR:85.7200 R:61.0000 rate:0.1220 gloss:1.2483 dloss:2.7744 glossQ:1.0858 dlossQ:0.9941 exploreP:0.1296\n",
      "Episode:650 meanR:85.9300 R:90.0000 rate:0.1800 gloss:1.2617 dloss:2.7970 glossQ:1.0924 dlossQ:0.9976 exploreP:0.1285\n",
      "Episode:651 meanR:85.3900 R:67.0000 rate:0.1340 gloss:1.2618 dloss:nan glossQ:1.1133 dlossQ:1.0098 exploreP:0.1277\n",
      "Episode:652 meanR:85.3800 R:88.0000 rate:0.1760 gloss:1.2653 dloss:nan glossQ:1.1251 dlossQ:1.0351 exploreP:0.1267\n",
      "Episode:653 meanR:85.2700 R:65.0000 rate:0.1300 gloss:1.2517 dloss:nan glossQ:1.1372 dlossQ:1.0464 exploreP:0.1259\n",
      "Episode:654 meanR:85.2500 R:66.0000 rate:0.1320 gloss:1.2705 dloss:nan glossQ:1.1019 dlossQ:1.0146 exploreP:0.1252\n",
      "Episode:655 meanR:86.3700 R:205.0000 rate:0.4100 gloss:1.2730 dloss:2.8252 glossQ:1.0906 dlossQ:1.0016 exploreP:0.1228\n",
      "Episode:656 meanR:85.6700 R:66.0000 rate:0.1320 gloss:1.2760 dloss:2.8324 glossQ:1.0815 dlossQ:0.9861 exploreP:0.1221\n",
      "Episode:657 meanR:86.4900 R:125.0000 rate:0.2500 gloss:1.2780 dloss:2.8382 glossQ:1.0823 dlossQ:0.9873 exploreP:0.1207\n",
      "Episode:658 meanR:86.3800 R:94.0000 rate:0.1880 gloss:1.2851 dloss:2.8547 glossQ:1.0983 dlossQ:1.0040 exploreP:0.1197\n",
      "Episode:659 meanR:85.6600 R:64.0000 rate:0.1280 gloss:1.2901 dloss:2.8668 glossQ:1.0807 dlossQ:0.9974 exploreP:0.1190\n",
      "Episode:660 meanR:85.6600 R:73.0000 rate:0.1460 gloss:1.2747 dloss:2.8370 glossQ:1.0804 dlossQ:0.9894 exploreP:0.1182\n",
      "Episode:661 meanR:85.7000 R:65.0000 rate:0.1300 gloss:1.2683 dloss:2.8203 glossQ:1.1014 dlossQ:1.0083 exploreP:0.1175\n",
      "Episode:662 meanR:85.4700 R:60.0000 rate:0.1200 gloss:1.2591 dloss:2.7985 glossQ:1.0882 dlossQ:0.9831 exploreP:0.1168\n",
      "Episode:663 meanR:85.7100 R:58.0000 rate:0.1160 gloss:1.2758 dloss:2.8290 glossQ:1.0863 dlossQ:0.9898 exploreP:0.1162\n",
      "Episode:664 meanR:85.7600 R:82.0000 rate:0.1640 gloss:1.2934 dloss:2.8720 glossQ:1.0833 dlossQ:0.9996 exploreP:0.1153\n",
      "Episode:665 meanR:85.9400 R:87.0000 rate:0.1740 gloss:1.2772 dloss:2.8420 glossQ:1.0902 dlossQ:1.0005 exploreP:0.1144\n",
      "Episode:666 meanR:85.4200 R:65.0000 rate:0.1300 gloss:1.2724 dloss:2.8286 glossQ:1.0844 dlossQ:0.9935 exploreP:0.1137\n",
      "Episode:667 meanR:85.3300 R:69.0000 rate:0.1380 gloss:1.2617 dloss:2.8043 glossQ:1.0885 dlossQ:0.9908 exploreP:0.1130\n",
      "Episode:668 meanR:85.0600 R:64.0000 rate:0.1280 gloss:1.2565 dloss:2.7919 glossQ:1.0884 dlossQ:0.9952 exploreP:0.1124\n",
      "Episode:669 meanR:85.2000 R:76.0000 rate:0.1520 gloss:1.2691 dloss:2.8153 glossQ:1.0882 dlossQ:0.9973 exploreP:0.1116\n",
      "Episode:670 meanR:86.2200 R:187.0000 rate:0.3740 gloss:1.2677 dloss:nan glossQ:1.0900 dlossQ:0.9940 exploreP:0.1097\n",
      "Episode:671 meanR:86.4800 R:76.0000 rate:0.1520 gloss:1.2733 dloss:2.8251 glossQ:1.0859 dlossQ:0.9885 exploreP:0.1090\n",
      "Episode:672 meanR:86.9500 R:211.0000 rate:0.4220 gloss:1.2702 dloss:2.8220 glossQ:1.0844 dlossQ:0.9848 exploreP:0.1069\n",
      "Episode:673 meanR:86.4800 R:75.0000 rate:0.1500 gloss:1.2960 dloss:2.8705 glossQ:1.0815 dlossQ:0.9878 exploreP:0.1062\n",
      "Episode:674 meanR:85.7400 R:49.0000 rate:0.0980 gloss:1.2737 dloss:2.8324 glossQ:1.0822 dlossQ:0.9867 exploreP:0.1057\n",
      "Episode:675 meanR:86.1600 R:96.0000 rate:0.1920 gloss:1.2795 dloss:2.8417 glossQ:1.0851 dlossQ:0.9800 exploreP:0.1048\n",
      "Episode:676 meanR:86.5000 R:92.0000 rate:0.1840 gloss:1.2664 dloss:2.8212 glossQ:1.0861 dlossQ:0.9986 exploreP:0.1039\n",
      "Episode:677 meanR:86.6100 R:73.0000 rate:0.1460 gloss:1.2990 dloss:2.8808 glossQ:1.0897 dlossQ:0.9931 exploreP:0.1032\n",
      "Episode:678 meanR:86.4300 R:71.0000 rate:0.1420 gloss:1.2769 dloss:2.8410 glossQ:1.0845 dlossQ:0.9884 exploreP:0.1026\n",
      "Episode:679 meanR:86.3100 R:79.0000 rate:0.1580 gloss:1.2640 dloss:2.8135 glossQ:1.0840 dlossQ:0.9847 exploreP:0.1018\n",
      "Episode:680 meanR:86.8000 R:112.0000 rate:0.2240 gloss:1.3012 dloss:nan glossQ:1.0806 dlossQ:0.9755 exploreP:0.1008\n",
      "Episode:681 meanR:87.0000 R:155.0000 rate:0.3100 gloss:1.2589 dloss:2.8052 glossQ:1.0878 dlossQ:0.9897 exploreP:0.0994\n",
      "Episode:682 meanR:86.9600 R:67.0000 rate:0.1340 gloss:1.2813 dloss:2.8402 glossQ:1.0858 dlossQ:0.9768 exploreP:0.0988\n",
      "Episode:683 meanR:87.4200 R:191.0000 rate:0.3820 gloss:1.2761 dloss:2.8339 glossQ:1.0869 dlossQ:0.9868 exploreP:0.0971\n",
      "Episode:684 meanR:87.8900 R:95.0000 rate:0.1900 gloss:1.2610 dloss:nan glossQ:1.1224 dlossQ:1.0184 exploreP:0.0963\n",
      "Episode:685 meanR:87.5400 R:56.0000 rate:0.1120 gloss:1.2539 dloss:2.7872 glossQ:1.0904 dlossQ:0.9797 exploreP:0.0958\n",
      "Episode:686 meanR:88.2200 R:112.0000 rate:0.2240 gloss:1.2978 dloss:nan glossQ:1.0949 dlossQ:0.9974 exploreP:0.0949\n",
      "Episode:687 meanR:88.5500 R:93.0000 rate:0.1860 gloss:1.2783 dloss:2.8450 glossQ:1.0769 dlossQ:0.9775 exploreP:0.0941\n",
      "Episode:688 meanR:89.1300 R:102.0000 rate:0.2040 gloss:1.2979 dloss:nan glossQ:1.1177 dlossQ:1.0145 exploreP:0.0932\n",
      "Episode:689 meanR:89.4500 R:141.0000 rate:0.2820 gloss:1.2720 dloss:2.8329 glossQ:1.0872 dlossQ:0.9805 exploreP:0.0921\n",
      "Episode:690 meanR:89.3700 R:63.0000 rate:0.1260 gloss:1.2876 dloss:2.8636 glossQ:1.0830 dlossQ:0.9851 exploreP:0.0916\n",
      "Episode:691 meanR:89.4300 R:71.0000 rate:0.1420 gloss:1.2830 dloss:2.8564 glossQ:1.0851 dlossQ:0.9844 exploreP:0.0910\n",
      "Episode:692 meanR:89.6400 R:74.0000 rate:0.1480 gloss:1.2802 dloss:2.8524 glossQ:1.0821 dlossQ:0.9809 exploreP:0.0904\n",
      "Episode:693 meanR:89.8500 R:98.0000 rate:0.1960 gloss:1.2663 dloss:2.8183 glossQ:1.0873 dlossQ:0.9818 exploreP:0.0896\n",
      "Episode:694 meanR:89.4500 R:75.0000 rate:0.1500 gloss:1.2604 dloss:nan glossQ:1.0828 dlossQ:0.9760 exploreP:0.0890\n",
      "Episode:695 meanR:89.7000 R:109.0000 rate:0.2180 gloss:1.2926 dloss:2.8688 glossQ:1.0813 dlossQ:0.9785 exploreP:0.0882\n",
      "Episode:696 meanR:89.0000 R:66.0000 rate:0.1320 gloss:1.2719 dloss:nan glossQ:1.0809 dlossQ:0.9648 exploreP:0.0876\n",
      "Episode:697 meanR:88.9300 R:133.0000 rate:0.2660 gloss:1.3015 dloss:2.8938 glossQ:1.0808 dlossQ:0.9800 exploreP:0.0866\n",
      "Episode:698 meanR:89.2600 R:92.0000 rate:0.1840 gloss:1.2896 dloss:2.8764 glossQ:1.0806 dlossQ:0.9781 exploreP:0.0859\n",
      "Episode:699 meanR:88.0100 R:103.0000 rate:0.2060 gloss:1.2675 dloss:2.8260 glossQ:1.0836 dlossQ:0.9668 exploreP:0.0851\n",
      "Episode:700 meanR:87.7800 R:79.0000 rate:0.1580 gloss:1.2814 dloss:nan glossQ:1.0851 dlossQ:0.9727 exploreP:0.0845\n"
     ]
    },
    {
     "name": "stdout",
     "output_type": "stream",
     "text": [
      "Episode:701 meanR:87.8100 R:63.0000 rate:0.1260 gloss:1.2866 dloss:2.8608 glossQ:1.0837 dlossQ:0.9745 exploreP:0.0841\n",
      "Episode:702 meanR:89.0900 R:186.0000 rate:0.3720 gloss:1.2771 dloss:2.8433 glossQ:1.0839 dlossQ:0.9775 exploreP:0.0827\n",
      "Episode:703 meanR:88.6900 R:93.0000 rate:0.1860 gloss:1.2795 dloss:2.8429 glossQ:1.0899 dlossQ:0.9855 exploreP:0.0820\n",
      "Episode:704 meanR:89.4500 R:181.0000 rate:0.3620 gloss:1.2842 dloss:nan glossQ:1.0842 dlossQ:0.9774 exploreP:0.0807\n",
      "Episode:705 meanR:89.1800 R:56.0000 rate:0.1120 gloss:1.2864 dloss:nan glossQ:1.1165 dlossQ:0.9819 exploreP:0.0804\n",
      "Episode:706 meanR:89.8400 R:115.0000 rate:0.2300 gloss:1.2989 dloss:2.8884 glossQ:1.0860 dlossQ:0.9746 exploreP:0.0795\n",
      "Episode:707 meanR:89.7500 R:59.0000 rate:0.1180 gloss:1.2744 dloss:2.8431 glossQ:1.0803 dlossQ:0.9695 exploreP:0.0791\n",
      "Episode:708 meanR:90.7600 R:157.0000 rate:0.3140 gloss:1.2889 dloss:2.8733 glossQ:1.0843 dlossQ:0.9832 exploreP:0.0781\n",
      "Episode:709 meanR:92.2300 R:212.0000 rate:0.4240 gloss:1.2807 dloss:nan glossQ:1.0998 dlossQ:0.9918 exploreP:0.0766\n",
      "Episode:710 meanR:92.2400 R:78.0000 rate:0.1560 gloss:1.3006 dloss:2.8978 glossQ:1.0808 dlossQ:0.9831 exploreP:0.0761\n",
      "Episode:711 meanR:91.9200 R:89.0000 rate:0.1780 gloss:1.2767 dloss:2.8490 glossQ:1.0834 dlossQ:0.9796 exploreP:0.0755\n"
     ]
    }
   ],
   "source": [
    "# Save/load the model and save for plotting\n",
    "saver = tf.train.Saver()\n",
    "episode_rewards_list, rewards_list = [], []\n",
    "gloss_list, dloss_list = [], []\n",
    "\n",
    "# TF session for training\n",
    "with tf.Session(graph=graph) as sess:\n",
    "    sess.run(tf.global_variables_initializer())\n",
    "    #saver.restore(sess, 'checkpoints/model.ckpt')    \n",
    "    #saver.restore(sess, tf.train.latest_checkpoint('checkpoints'))\n",
    "    total_step = 0 # Explore or exploit parameter\n",
    "    episode_reward = deque(maxlen=100) # 100 episodes average/running average/running mean/window\n",
    "\n",
    "    # Training episodes/epochs\n",
    "    for ep in range(1111*3):\n",
    "        total_reward = 0 # each episode\n",
    "        gloss_batch, dloss_batch, glossQ_batch, dlossQ_batch= [], [], [], []\n",
    "        state = env.reset() # each episode\n",
    "        num_step = 0 # each episode\n",
    "\n",
    "        # Training steps/batches\n",
    "        while True:\n",
    "            # Explore (Env) or Exploit (Model)\n",
    "            total_step += 1\n",
    "            explore_p = explore_stop + (explore_start - explore_stop) * np.exp(-decay_rate * total_step) \n",
    "            if explore_p > np.random.rand():\n",
    "                action = env.action_space.sample()\n",
    "            else:\n",
    "                action_logits = sess.run(model.actions_logits, feed_dict={model.states: state.reshape([1, -1])})\n",
    "                action = np.argmax(action_logits)\n",
    "            next_state, reward, done, _ = env.step(action)\n",
    "            memory.buffer.append([state, action, next_state, reward, float(done)])\n",
    "            memory.rates.append(-1) # empty\n",
    "            num_step += 1 # momory added\n",
    "            total_reward += reward\n",
    "            state = next_state\n",
    "            \n",
    "            # Rating the memory\n",
    "            if done is True:\n",
    "                rate = total_reward/500 # update rate at the end/ when episode is done\n",
    "                for idx in range(num_step): # episode length\n",
    "                    if memory.rates[-1-idx] == -1: # double-check the landmark/marked indexes\n",
    "                        memory.rates[-1-idx] = rate # rate the trajectory/data\n",
    "                        \n",
    "            # Training with the maxrated minibatch\n",
    "            batch = memory.buffer\n",
    "            percentage = 0.9\n",
    "            #for idx in range(memory_size// batch_size):\n",
    "            idx_arr = np.arange(memory_size// batch_size)\n",
    "            idx = np.random.choice(idx_arr)\n",
    "            states = np.array([each[0] for each in batch])[idx*batch_size:(idx+1)*batch_size]\n",
    "            actions = np.array([each[1] for each in batch])[idx*batch_size:(idx+1)*batch_size]\n",
    "            next_states = np.array([each[2] for each in batch])[idx*batch_size:(idx+1)*batch_size]\n",
    "            rewards = np.array([each[3] for each in batch])[idx*batch_size:(idx+1)*batch_size]\n",
    "            dones = np.array([each[4] for each in batch])[idx*batch_size:(idx+1)*batch_size]\n",
    "            rates = np.array(memory.rates)[idx*batch_size:(idx+1)*batch_size]\n",
    "            #print(states.shape, actions.shape, next_states.shape, rewards.shape, dones.shape, rates.shape)\n",
    "            states = states[rates >= (np.max(rates)*percentage)]\n",
    "            actions = actions[rates >= (np.max(rates)*percentage)]\n",
    "            next_states = next_states[rates >= (np.max(rates)*percentage)]\n",
    "            rewards = rewards[rates >= (np.max(rates)*percentage)]\n",
    "            dones = dones[rates >= (np.max(rates)*percentage)]\n",
    "            rates = rates[rates >= (np.max(rates)*percentage)]\n",
    "            #print(states.shape, actions.shape, next_states.shape, rewards.shape, dones.shape, rates.shape)\n",
    "            nextQs_logits = sess.run(model.Qs_logits, feed_dict = {model.states: next_states})\n",
    "            #nextQs = np.max(nextQs_logits, axis=1) * (1-dones) # DQN\n",
    "            nextQs = nextQs_logits.reshape([-1]) * (1-dones) # DPG\n",
    "            targetQs = rewards + (gamma * nextQs)\n",
    "            dloss, _, glossQ, dlossQ = sess.run([model.d_loss, model.d_opt, \n",
    "                                                 model.g_lossQ, model.d_lossQ],\n",
    "                                                feed_dict = {model.states: states, \n",
    "                                                             model.actions: actions,\n",
    "                                                             model.targetQs: targetQs, \n",
    "                                                             model.rates: rates})\n",
    "            gloss, _, gQs_notequal, gQs_equal = sess.run([model.g_loss, model.g_opt, \n",
    "                                                          model.gQs_notequal, model.gQs_equal], \n",
    "                                              feed_dict = {model.states: states, \n",
    "                                                           model.actions: actions,\n",
    "                                                           model.targetQs: targetQs, \n",
    "                                                           model.rates: rates})\n",
    "            #if len(gQs_nonequal) != len(nextQs):\n",
    "            # if dloss is np.nan:            \n",
    "            #     print(gQs_notequal.shape, gQs_notequal.dtype)\n",
    "            #     print(gQs_equal.shape, gQs_equal.dtype)\n",
    "            #     print(nextQs.shape)\n",
    "            gloss_batch.append(gloss)\n",
    "            dloss_batch.append(dloss)\n",
    "            glossQ_batch.append(glossQ)\n",
    "            dlossQ_batch.append(dlossQ)\n",
    "            if done is True:\n",
    "                break\n",
    "                \n",
    "        episode_reward.append(total_reward)\n",
    "        print('Episode:{}'.format(ep),\n",
    "              'meanR:{:.4f}'.format(np.mean(episode_reward)),\n",
    "              'R:{:.4f}'.format(total_reward),\n",
    "              'rate:{:.4f}'.format(rate),\n",
    "              'gloss:{:.4f}'.format(np.mean(gloss_batch)),\n",
    "              'dloss:{:.4f}'.format(np.mean(dloss_batch)),\n",
    "              'glossQ:{:.4f}'.format(np.mean(glossQ_batch)),\n",
    "              'dlossQ:{:.4f}'.format(np.mean(dlossQ_batch)),\n",
    "              'exploreP:{:.4f}'.format(explore_p))\n",
    "\n",
    "        # Ploting out\n",
    "        episode_rewards_list.append([ep, np.mean(episode_reward)])\n",
    "        rewards_list.append([ep, total_reward])\n",
    "        gloss_list.append([ep, np.mean(gloss_batch)])\n",
    "        dloss_list.append([ep, np.mean(dloss_batch)])\n",
    "        \n",
    "        # Break episode/epoch loop\n",
    "        ## Option 1: Solve the First Version\n",
    "        #The task is episodic, and in order to solve the environment, \n",
    "        #your agent must get an average score of +30 over 100 consecutive episodes.\n",
    "        if np.mean(episode_reward) >= 500:\n",
    "            break\n",
    "            \n",
    "    # At the end of all training episodes/epochs\n",
    "    saver.save(sess, 'checkpoints/model.ckpt')"
   ]
  },
  {
   "cell_type": "markdown",
   "metadata": {},
   "source": [
    "# Visualizing training\n",
    "\n",
    "Below I'll plot the total rewards for each episode. I'm plotting the rolling average too, in blue."
   ]
  },
  {
   "cell_type": "code",
   "execution_count": null,
   "metadata": {},
   "outputs": [],
   "source": [
    "import matplotlib.pyplot as plt\n",
    "%matplotlib inline\n",
    "\n",
    "def running_mean(x, N):\n",
    "    cumsum = np.cumsum(np.insert(x, 0, 0)) \n",
    "    return (cumsum[N:] - cumsum[:-N]) / N "
   ]
  },
  {
   "cell_type": "code",
   "execution_count": null,
   "metadata": {},
   "outputs": [],
   "source": [
    "eps, arr = np.array(episode_rewards_list).T\n",
    "smoothed_arr = running_mean(arr, 10)\n",
    "plt.plot(eps[-len(smoothed_arr):], smoothed_arr)\n",
    "plt.plot(eps, arr, color='grey', alpha=0.3)\n",
    "plt.xlabel('Episode')\n",
    "plt.ylabel('Total rewards')"
   ]
  },
  {
   "cell_type": "code",
   "execution_count": 16,
   "metadata": {},
   "outputs": [
    {
     "data": {
      "text/plain": [
       "Text(0, 0.5, 'Total rewards')"
      ]
     },
     "execution_count": 16,
     "metadata": {},
     "output_type": "execute_result"
    },
    {
     "data": {
      "image/png": "[encoded data removed]",
      "text/plain": [
       "<Figure size 432x288 with 1 Axes>"
      ]
     },
     "metadata": {
      "needs_background": "light"
     },
     "output_type": "display_data"
    }
   ],
   "source": [
    "eps, arr = np.array(episode_rewards_list).T\n",
    "smoothed_arr = running_mean(arr, 10)\n",
    "plt.plot(eps[-len(smoothed_arr):], smoothed_arr)\n",
    "plt.plot(eps, arr, color='grey', alpha=0.3)\n",
    "plt.xlabel('Episode')\n",
    "plt.ylabel('Total rewards')"
   ]
  },
  {
   "cell_type": "code",
   "execution_count": 27,
   "metadata": {},
   "outputs": [
    {
     "data": {
      "text/plain": [
       "Text(0, 0.5, 'Total rewards')"
      ]
     },
     "execution_count": 27,
     "metadata": {},
     "output_type": "execute_result"
    },
    {
     "data": {
      "image/png": "[encoded data removed]",
      "text/plain": [
       "<Figure size 432x288 with 1 Axes>"
      ]
     },
     "metadata": {
      "needs_background": "light"
     },
     "output_type": "display_data"
    }
   ],
   "source": [
    "eps, arr = np.array(episode_rewards_list).T\n",
    "smoothed_arr = running_mean(arr, 10)\n",
    "plt.plot(eps[-len(smoothed_arr):], smoothed_arr)\n",
    "plt.plot(eps, arr, color='grey', alpha=0.3)\n",
    "plt.xlabel('Episode')\n",
    "plt.ylabel('Total rewards')"
   ]
  },
  {
   "cell_type": "code",
   "execution_count": 24,
   "metadata": {},
   "outputs": [
    {
     "data": {
      "text/plain": [
       "Text(0, 0.5, 'Total rewards')"
      ]
     },
     "execution_count": 24,
     "metadata": {},
     "output_type": "execute_result"
    },
    {
     "data": {
      "image/png": "[encoded data removed]",
      "text/plain": [
       "<Figure size 432x288 with 1 Axes>"
      ]
     },
     "metadata": {
      "needs_background": "light"
     },
     "output_type": "display_data"
    }
   ],
   "source": [
    "eps, arr = np.array(episode_rewards_list).T\n",
    "smoothed_arr = running_mean(arr, 10)\n",
    "plt.plot(eps[-len(smoothed_arr):], smoothed_arr)\n",
    "plt.plot(eps, arr, color='grey', alpha=0.3)\n",
    "plt.xlabel('Episode')\n",
    "plt.ylabel('Total rewards')"
   ]
  },
  {
   "cell_type": "code",
   "execution_count": 26,
   "metadata": {},
   "outputs": [
    {
     "data": {
      "text/plain": [
       "Text(0, 0.5, 'Total rewards')"
      ]
     },
     "execution_count": 26,
     "metadata": {},
     "output_type": "execute_result"
    },
    {
     "data": {
      "image/png": "[encoded data removed]",
      "text/plain": [
       "<Figure size 432x288 with 1 Axes>"
      ]
     },
     "metadata": {
      "needs_background": "light"
     },
     "output_type": "display_data"
    }
   ],
   "source": [
    "eps, arr = np.array(episode_rewards_list).T\n",
    "smoothed_arr = running_mean(arr, 10)\n",
    "plt.plot(eps[-len(smoothed_arr):], smoothed_arr)\n",
    "plt.plot(eps, arr, color='grey', alpha=0.3)\n",
    "plt.xlabel('Episode')\n",
    "plt.ylabel('Total rewards')"
   ]
  },
  {
   "cell_type": "code",
   "execution_count": 16,
   "metadata": {},
   "outputs": [
    {
     "data": {
      "text/plain": [
       "Text(0, 0.5, 'Total rewards')"
      ]
     },
     "execution_count": 16,
     "metadata": {},
     "output_type": "execute_result"
    },
    {
     "data": {
      "image/png": "[encoded data removed]",
      "text/plain": [
       "<Figure size 432x288 with 1 Axes>"
      ]
     },
     "metadata": {
      "needs_background": "light"
     },
     "output_type": "display_data"
    }
   ],
   "source": [
    "eps, arr = np.array(episode_rewards_list).T\n",
    "smoothed_arr = running_mean(arr, 10)\n",
    "plt.plot(eps[-len(smoothed_arr):], smoothed_arr)\n",
    "plt.plot(eps, arr, color='grey', alpha=0.3)\n",
    "plt.xlabel('Episode')\n",
    "plt.ylabel('Total rewards')"
   ]
  },
  {
   "cell_type": "code",
   "execution_count": 62,
   "metadata": {},
   "outputs": [
    {
     "data": {
      "text/plain": [
       "Text(0,0.5,'Total rewards')"
      ]
     },
     "execution_count": 62,
     "metadata": {},
     "output_type": "execute_result"
    },
    {
     "data": {
      "image/png": "[encoded data removed]",
      "text/plain": [
       "<Figure size 432x288 with 1 Axes>"
      ]
     },
     "metadata": {},
     "output_type": "display_data"
    }
   ],
   "source": [
    "# eps, arr = np.array(episode_rewards_list).T\n",
    "# smoothed_arr = running_mean(arr, 10)\n",
    "# plt.plot(eps[-len(smoothed_arr):], smoothed_arr)\n",
    "# plt.plot(eps, arr, color='grey', alpha=0.3)\n",
    "# plt.xlabel('Episode')\n",
    "# plt.ylabel('Total rewards')"
   ]
  },
  {
   "cell_type": "code",
   "execution_count": 29,
   "metadata": {},
   "outputs": [
    {
     "data": {
      "text/plain": [
       "Text(0, 0.5, 'Total rewards')"
      ]
     },
     "execution_count": 29,
     "metadata": {},
     "output_type": "execute_result"
    },
    {
     "data": {
      "image/png": "[encoded data removed]",
      "text/plain": [
       "<Figure size 432x288 with 1 Axes>"
      ]
     },
     "metadata": {
      "needs_background": "light"
     },
     "output_type": "display_data"
    }
   ],
   "source": [
    "eps, arr = np.array(rewards_list).T\n",
    "smoothed_arr = running_mean(arr, 10)\n",
    "plt.plot(eps[-len(smoothed_arr):], smoothed_arr)\n",
    "plt.plot(eps, arr, color='grey', alpha=0.3)\n",
    "plt.xlabel('Episode')\n",
    "plt.ylabel('Total rewards')"
   ]
  },
  {
   "cell_type": "code",
   "execution_count": 63,
   "metadata": {},
   "outputs": [
    {
     "data": {
      "text/plain": [
       "Text(0,0.5,'Total rewards')"
      ]
     },
     "execution_count": 63,
     "metadata": {},
     "output_type": "execute_result"
    },
    {
     "data": {
      "image/png": "[encoded data removed]",
      "text/plain": [
       "<Figure size 432x288 with 1 Axes>"
      ]
     },
     "metadata": {},
     "output_type": "display_data"
    }
   ],
   "source": [
    "# eps, arr = np.array(rewards_list).T\n",
    "# smoothed_arr = running_mean(arr, 10)\n",
    "# plt.plot(eps[-len(smoothed_arr):], smoothed_arr)\n",
    "# plt.plot(eps, arr, color='grey', alpha=0.3)\n",
    "# plt.xlabel('Episode')\n",
    "# plt.ylabel('Total rewards')"
   ]
  },
  {
   "cell_type": "code",
   "execution_count": 19,
   "metadata": {},
   "outputs": [],
   "source": [
    "eps, arr = np.array(gloss_list).T\n",
    "smoothed_arr = running_mean(arr, 10)\n",
    "plt.plot(eps[-len(smoothed_arr):], smoothed_arr)\n",
    "plt.plot(eps, arr, color='grey', alpha=0.3)\n",
    "plt.xlabel('Episode')\n",
    "plt.ylabel('G losses')"
   ]
  },
  {
   "cell_type": "code",
   "execution_count": null,
   "metadata": {},
   "outputs": [],
   "source": [
    "eps, arr = np.array(dloss_list).T\n",
    "smoothed_arr = running_mean(arr, 10)\n",
    "plt.plot(eps[-len(smoothed_arr):], smoothed_arr)\n",
    "plt.plot(eps, arr, color='grey', alpha=0.3)\n",
    "plt.xlabel('Episode')\n",
    "plt.ylabel('D losses')"
   ]
  },
  {
   "cell_type": "markdown",
   "metadata": {},
   "source": [
    "## Testing\n",
    "\n",
    "Let's checkout how our trained agent plays the game."
   ]
  },
  {
   "cell_type": "code",
   "execution_count": 36,
   "metadata": {},
   "outputs": [
    {
     "name": "stdout",
     "output_type": "stream",
     "text": [
      "\u001b[33mWARN: gym.spaces.Box autodetected dtype as <class 'numpy.float32'>. Please provide explicit dtype.\u001b[0m\n",
      "\u001b[33mWARN: gym.spaces.Box autodetected dtype as <class 'numpy.float32'>. Please provide explicit dtype.\u001b[0m\n",
      "INFO:tensorflow:Restoring parameters from checkpoints/model.ckpt\n"
     ]
    },
    {
     "name": "stderr",
     "output_type": "stream",
     "text": [
      "/home/arasdar/anaconda3/envs/env/lib/python3.6/site-packages/gym/__init__.py:22: UserWarning: DEPRECATION WARNING: to improve load times, gym no longer automatically loads gym.spaces. Please run \"import gym.spaces\" to load gym.spaces on your own. This warning will turn into an error in a future version of gym.\n",
      "  warnings.warn('DEPRECATION WARNING: to improve load times, gym no longer automatically loads gym.spaces. Please run \"import gym.spaces\" to load gym.spaces on your own. This warning will turn into an error in a future version of gym.')\n"
     ]
    },
    {
     "name": "stdout",
     "output_type": "stream",
     "text": [
      "total_reward: 500.0\n"
     ]
    }
   ],
   "source": [
    "import gym\n",
    "env = gym.make('CartPole-v0')\n",
    "env = gym.make('CartPole-v1')\n",
    "# env = gym.make('Acrobot-v1')\n",
    "# env = gym.make('MountainCar-v0')\n",
    "# env = gym.make('Pendulum-v0')\n",
    "# env = gym.make('Blackjack-v0')\n",
    "# env = gym.make('FrozenLake-v0')\n",
    "# env = gym.make('AirRaid-ram-v0')\n",
    "# env = gym.make('AirRaid-v0')\n",
    "# env = gym.make('BipedalWalker-v2')\n",
    "# env = gym.make('Copy-v0')\n",
    "# env = gym.make('CarRacing-v0')\n",
    "# env = gym.make('Ant-v2') #mujoco\n",
    "# env = gym.make('FetchPickAndPlace-v1') # mujoco required!\n",
    "\n",
    "with tf.Session() as sess:\n",
    "    sess.run(tf.global_variables_initializer())\n",
    "    saver.restore(sess, 'checkpoints/model.ckpt')    \n",
    "    #saver.restore(sess, tf.train.latest_checkpoint('checkpoints'))\n",
    "    \n",
    "    # Episodes/epochs\n",
    "    for _ in range(1):\n",
    "        state = env.reset()\n",
    "        total_reward = 0\n",
    "\n",
    "        # Steps/batches\n",
    "        while True:\n",
    "            env.render()\n",
    "            action_logits = sess.run(model.actions_logits, feed_dict={model.states: state.reshape([1, -1])})\n",
    "            action = np.argmax(action_logits)\n",
    "            state, reward, done, _ = env.step(action)\n",
    "            total_reward += reward\n",
    "            if done:\n",
    "                print('total_reward: {}'.format(total_reward))\n",
    "                break\n",
    "                \n",
    "env.close()"
   ]
  },
  {
   "cell_type": "markdown",
   "metadata": {},
   "source": [
    "## Extending this\n",
    "\n",
    "So, Cart-Pole is a pretty simple game. However, the same model can be used to train an agent to play something much more complicated like Pong or Space Invaders. Instead of a state like we're using here though, you'd want to use convolutional layers to get the state from the screen images.\n",
    "\n",
    "![Deep Q-Learning Atari](assets/atari-network.png)\n",
    "\n",
    "I'll leave it as a challenge for you to use deep Q-learning to train an agent to play Atari games. Here's the original paper which will get you started: http://www.davidqiu.com:8888/research/nature14236.pdf."
   ]
  },
  {
   "cell_type": "code",
   "execution_count": null,
   "metadata": {},
   "outputs": [],
   "source": []
  }
 ],
 "metadata": {
  "kernelspec": {
   "display_name": "Python 3",
   "language": "python",
   "name": "python3"
  },
  "language_info": {
   "codemirror_mode": {
    "name": "ipython",
    "version": 3
   },
   "file_extension": ".py",
   "mimetype": "text/x-python",
   "name": "python",
   "nbconvert_exporter": "python",
   "pygments_lexer": "ipython3",
   "version": "3.6.6"
  }
 },
 "nbformat": 4,
 "nbformat_minor": 2
}
