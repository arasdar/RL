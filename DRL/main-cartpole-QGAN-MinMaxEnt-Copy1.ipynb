{
 "cells": [
  {
   "cell_type": "code",
   "execution_count": 1,
   "metadata": {},
   "outputs": [
    {
     "name": "stdout",
     "output_type": "stream",
     "text": [
      "TensorFlow Version: 1.7.1\n",
      "Default GPU Device: \n"
     ]
    }
   ],
   "source": [
    "import tensorflow as tf\n",
    "print('TensorFlow Version: {}'.format(tf.__version__))\n",
    "print('Default GPU Device: {}'.format(tf.test.gpu_device_name()))"
   ]
  },
  {
   "cell_type": "markdown",
   "metadata": {},
   "source": [
    "##### >**Note:** Make sure you have OpenAI Gym cloned. Then run this command `pip install -e gym/[all]`."
   ]
  },
  {
   "cell_type": "code",
   "execution_count": 2,
   "metadata": {},
   "outputs": [],
   "source": [
    "import numpy as np\n",
    "import gym\n",
    "env = gym.make('CartPole-v0')\n",
    "env = gym.make('CartPole-v1')"
   ]
  },
  {
   "cell_type": "code",
   "execution_count": 3,
   "metadata": {},
   "outputs": [],
   "source": [
    "def model_input(state_size):\n",
    "    #states = tf.placeholder(tf.float32, [None, *state_size], name='states')\n",
    "    states = tf.placeholder(tf.float32, [None, state_size], name='states')\n",
    "    actions = tf.placeholder(tf.int32, [None], name='actions')\n",
    "    next_states = tf.placeholder(tf.float32, [None, state_size], name='next_states')\n",
    "    rewards = tf.placeholder(tf.float32, [None], name='rewards')\n",
    "    dones = tf.placeholder(tf.float32, [None], name='dones')\n",
    "    rates = tf.placeholder(tf.float32, [None], name='rates') # success rate\n",
    "    return states, actions, next_states, rewards, dones, rates"
   ]
  },
  {
   "cell_type": "code",
   "execution_count": 4,
   "metadata": {},
   "outputs": [],
   "source": [
    "def Act(states, action_size, hidden_size, reuse=False, alpha=0.1, training=False):\n",
    "    with tf.variable_scope('Act', reuse=reuse):\n",
    "        # First fully connected layer\n",
    "        h1 = tf.layers.dense(inputs=states, units=hidden_size)\n",
    "        bn1 = tf.layers.batch_normalization(h1, training=training)        \n",
    "        nl1 = tf.maximum(alpha * bn1, bn1)\n",
    "        \n",
    "        # Second fully connected layer\n",
    "        h2 = tf.layers.dense(inputs=nl1, units=hidden_size)\n",
    "        bn2 = tf.layers.batch_normalization(h2, training=training)        \n",
    "        nl2 = tf.maximum(alpha * bn2, bn2)\n",
    "        \n",
    "        # Output layer\n",
    "        logits = tf.layers.dense(inputs=nl2, units=action_size)        \n",
    "        return logits"
   ]
  },
  {
   "cell_type": "code",
   "execution_count": 5,
   "metadata": {},
   "outputs": [],
   "source": [
    "def Env(states, actions, state_size, action_size, hidden_size, reuse=False, alpha=0.1, training=False):\n",
    "    with tf.variable_scope('Env', reuse=reuse):\n",
    "        # First fully connected layer\n",
    "        h1 = tf.layers.dense(inputs=states, units=action_size)\n",
    "        bn1 = tf.layers.batch_normalization(h1, training=training)        \n",
    "        nl1 = tf.maximum(alpha * bn1, bn1)\n",
    "        \n",
    "        # Second fully connected layer\n",
    "        nl1_fused = tf.concat(axis=1, values=[nl1, actions])\n",
    "        h2 = tf.layers.dense(inputs=nl1_fused, units=hidden_size)\n",
    "        bn2 = tf.layers.batch_normalization(h2, training=training)        \n",
    "        nl2 = tf.maximum(alpha * bn2, bn2)\n",
    "                \n",
    "        # Output layer\n",
    "        states_logits = tf.layers.dense(inputs=nl2, units=state_size, trainable=False)\n",
    "        Qlogits = tf.layers.dense(inputs=nl2, units=1, trainable=False)\n",
    "        return states_logits, Qlogits"
   ]
  },
  {
   "cell_type": "code",
   "execution_count": 13,
   "metadata": {},
   "outputs": [],
   "source": [
    "def model_loss(state_size, action_size, hidden_size, gamma,\n",
    "               states, actions, next_states, rewards, dones, rates):\n",
    "    ################################################ s', r = env(s, a)\n",
    "    actions_labels = tf.one_hot(indices=actions, depth=action_size, dtype=states.dtype)\n",
    "    next_states_logits, Qlogits = Env(actions=actions_labels, states=states, hidden_size=hidden_size, \n",
    "                                      action_size=action_size, state_size=state_size)\n",
    "    ################################################ a = act(s)\n",
    "    ################################################ ~s', Q = ~env(s, a)\n",
    "    actions_logits = Act(states=states, hidden_size=hidden_size, action_size=action_size)\n",
    "    next_states_logits_, Qlogits_ = Env(actions=actions_logits, states=states, hidden_size=hidden_size, \n",
    "                                        action_size=action_size, state_size=state_size, reuse=True)\n",
    "    ###########################################################  s~s'\n",
    "    next_states_labels = tf.nn.sigmoid(next_states)\n",
    "    eloss = tf.reduce_mean(tf.nn.sigmoid_cross_entropy_with_logits(logits=next_states_logits, # GQN/GAN\n",
    "                                                                   labels=next_states_labels))\n",
    "    eloss += -tf.reduce_mean(tf.nn.sigmoid_cross_entropy_with_logits(logits=next_states_logits_, # GQN/GAN\n",
    "                                                                     labels=next_states_labels))\n",
    "    aloss = tf.reduce_mean(tf.nn.sigmoid_cross_entropy_with_logits(logits=next_states_logits_, # GQN/GAN\n",
    "                                                                   labels=next_states_labels))\n",
    "    ###########################################################  TD-_-MC\n",
    "    Qlogits = tf.reshape(Qlogits, shape=[-1])\n",
    "    Qlogits_ = tf.reshape(Qlogits_, shape=[-1])\n",
    "    eloss += tf.reduce_mean(tf.nn.sigmoid_cross_entropy_with_logits(logits=Qlogits, # GAN/DQN\n",
    "                                                                    labels=rates))\n",
    "    eloss += -tf.reduce_mean(tf.nn.sigmoid_cross_entropy_with_logits(logits=Qlogits_, # GAN/DQN\n",
    "                                                                     labels=rates))\n",
    "#     eloss = tf.reduce_mean(tf.nn.sigmoid_cross_entropy_with_logits(logits=Qlogits, # GAN/DQN\n",
    "#                                                                    labels=tf.zeros_like(rates)))\n",
    "    ################################################################ Q = r + (gamma * Q'* dones)\n",
    "    next_actions_logits = Act(states=next_states, hidden_size=hidden_size, action_size=action_size, reuse=True)\n",
    "    _next_states_logits_, nextQlogits_ = Env(actions=next_actions_logits, states=next_states, \n",
    "                                             hidden_size=hidden_size, action_size=action_size, \n",
    "                                             state_size=state_size, reuse=True)\n",
    "    #####################################################################\n",
    "    targetQs = rewards + (gamma * tf.reshape(nextQlogits_, shape=[-1]) * dones)\n",
    "    targetQs_labels = tf.nn.sigmoid(targetQs)\n",
    "    eloss += tf.reduce_mean(tf.nn.sigmoid_cross_entropy_with_logits(logits=Qlogits, # DQN\n",
    "                                                                    labels=targetQs_labels)) # min MCE\n",
    "    eloss += -tf.reduce_mean(tf.nn.sigmoid_cross_entropy_with_logits(logits=Qlogits_, # DQN\n",
    "                                                                     labels=targetQs_labels)) # min MCE\n",
    "    ########################################################################\n",
    "    aloss += -tf.reduce_mean(Qlogits_)\n",
    "    return actions_logits, aloss, eloss"
   ]
  },
  {
   "cell_type": "code",
   "execution_count": 14,
   "metadata": {},
   "outputs": [],
   "source": [
    "def model_opt(a_loss, e_loss, a_learning_rate, e_learning_rate):\n",
    "    # Get weights and bias to update\n",
    "    t_vars = tf.trainable_variables()\n",
    "    a_vars = [var for var in t_vars if var.name.startswith('Act')]\n",
    "    e_vars = [var for var in t_vars if var.name.startswith('Env')]\n",
    "\n",
    "    # Optimize\n",
    "    with tf.control_dependencies(tf.get_collection(tf.GraphKeys.UPDATE_OPS)): # Required for batchnorm (BN)\n",
    "        a_opt = tf.train.AdamOptimizer(a_learning_rate).minimize(a_loss, var_list=a_vars)\n",
    "        e_opt = tf.train.AdamOptimizer(e_learning_rate).minimize(e_loss, var_list=e_vars)\n",
    "    return a_opt, e_opt"
   ]
  },
  {
   "cell_type": "code",
   "execution_count": 15,
   "metadata": {},
   "outputs": [],
   "source": [
    "class Model:\n",
    "    def __init__(self, state_size, action_size, hidden_size, a_learning_rate, e_learning_rate, gamma):\n",
    "\n",
    "        # Data of the Model: make the data available inside the framework\n",
    "        self.states, self.actions, self.next_states, self.rewards, self.dones, self.rates = model_input(\n",
    "            state_size=state_size)\n",
    "\n",
    "        # Create the Model: calculating the loss and forwad pass\n",
    "        self.actions_logits, self.a_loss, self.e_loss = model_loss(\n",
    "            state_size=state_size, action_size=action_size, hidden_size=hidden_size, gamma=gamma, # model init\n",
    "            states=self.states, actions=self.actions, next_states=self.next_states, \n",
    "            rewards=self.rewards, dones=self.dones, rates=self.rates) # model input\n",
    "        \n",
    "        # Update the model: backward pass and backprop\n",
    "        self.a_opt, self.e_opt = model_opt(a_loss=self.a_loss, e_loss=self.e_loss,\n",
    "                                           a_learning_rate=a_learning_rate,\n",
    "                                           e_learning_rate=e_learning_rate)"
   ]
  },
  {
   "cell_type": "code",
   "execution_count": 16,
   "metadata": {},
   "outputs": [],
   "source": [
    "from collections import deque\n",
    "class Memory():\n",
    "    def __init__(self, max_size = 1000):\n",
    "        self.buffer = deque(maxlen=max_size) # data batch\n",
    "    def sample(self, batch_size):\n",
    "        idx = np.random.choice(np.arange(len(self.buffer)), size=batch_size, replace=False)\n",
    "        return [self.buffer[ii] for ii in idx]"
   ]
  },
  {
   "cell_type": "markdown",
   "metadata": {},
   "source": [
    "## Hyperparameters\n",
    "\n",
    "One of the more difficult aspects of reinforcememt learning are the large number of hyperparameters. Not only are we tuning the network, but we're tuning the simulation."
   ]
  },
  {
   "cell_type": "code",
   "execution_count": 17,
   "metadata": {},
   "outputs": [
    {
     "data": {
      "text/plain": [
       "(Box(4,), Discrete(2))"
      ]
     },
     "execution_count": 17,
     "metadata": {},
     "output_type": "execute_result"
    }
   ],
   "source": [
    "env.observation_space, env.action_space"
   ]
  },
  {
   "cell_type": "code",
   "execution_count": 18,
   "metadata": {},
   "outputs": [],
   "source": [
    "# Exploration parameters\n",
    "explore_start = 1.0            # exploration probability at start\n",
    "explore_stop = 0.01           # minimum exploration probability \n",
    "decay_rate = 0.0001            # exponential decay rate for exploration prob\n",
    "\n",
    "# Network parameters\n",
    "state_size = 4\n",
    "action_size = 2\n",
    "hidden_size = 4*2             # number of units in each Q-network hidden layer\n",
    "a_learning_rate = 1e-4         # Q-network learning rate\n",
    "e_learning_rate = 1e-4         # Q-network learning rate\n",
    "\n",
    "# Memory parameters\n",
    "memory_size = int(1e5)            # memory capacity\n",
    "batch_size = int(1e3)             # experience mini-batch size\n",
    "gamma=0.99"
   ]
  },
  {
   "cell_type": "code",
   "execution_count": 19,
   "metadata": {},
   "outputs": [],
   "source": [
    "# Reset/init the graph/session\n",
    "graph = tf.reset_default_graph()\n",
    "\n",
    "# Init the model\n",
    "model = Model(action_size=action_size, state_size=state_size, hidden_size=hidden_size, gamma=gamma,\n",
    "              a_learning_rate=a_learning_rate, e_learning_rate=e_learning_rate)\n",
    "\n",
    "# Init the memory\n",
    "memory = Memory(max_size=memory_size)"
   ]
  },
  {
   "cell_type": "code",
   "execution_count": 20,
   "metadata": {},
   "outputs": [],
   "source": [
    "state = env.reset()\n",
    "total_reward = 0\n",
    "num_step = 0\n",
    "for _ in range(memory_size):\n",
    "    action = env.action_space.sample()\n",
    "    next_state, reward, done, _ = env.step(action)\n",
    "    rate = -1\n",
    "    memory.buffer.append([state, action, next_state, reward, float(done), rate])\n",
    "    num_step += 1 # memory incremented\n",
    "    total_reward += reward\n",
    "    state = next_state\n",
    "    if done is True:\n",
    "        rate = total_reward/500\n",
    "        for idx in range(num_step): # episode length\n",
    "            if memory.buffer[-1-idx][-1] == -1:\n",
    "                memory.buffer[-1-idx][-1] = rate\n",
    "        state = env.reset()\n",
    "        total_reward = 0 # reset\n",
    "        num_step = 0 # reset"
   ]
  },
  {
   "cell_type": "markdown",
   "metadata": {},
   "source": [
    "## Training the model\n",
    "\n",
    "Below we'll train our agent. If you want to watch it train, uncomment the `env.render()` line. This is slow because it's rendering the frames slower than the network can train. But, it's cool to watch the agent get better at the game."
   ]
  },
  {
   "cell_type": "code",
   "execution_count": 23,
   "metadata": {},
   "outputs": [],
   "source": [
    "def minibatch(memory):\n",
    "    batch = memory.buffer\n",
    "    #for idx in range(memory_size// batch_size):\n",
    "    while True:\n",
    "        idx = np.random.choice(np.arange(memory_size// batch_size))\n",
    "        states = np.array([each[0] for each in batch])[idx*batch_size:(idx+1)*batch_size]\n",
    "        actions = np.array([each[1] for each in batch])[idx*batch_size:(idx+1)*batch_size]\n",
    "        next_states = np.array([each[2] for each in batch])[idx*batch_size:(idx+1)*batch_size]\n",
    "        rewards = np.array([each[3] for each in batch])[idx*batch_size:(idx+1)*batch_size]\n",
    "        dones = np.array([each[4] for each in batch])[idx*batch_size:(idx+1)*batch_size]\n",
    "        rates = np.array([each[5] for each in batch])[idx*batch_size:(idx+1)*batch_size]\n",
    "        states = states[rates >= np.max(rates)]\n",
    "        actions = actions[rates >= np.max(rates)]\n",
    "        next_states = next_states[rates >= np.max(rates)]\n",
    "        rewards = rewards[rates >= np.max(rates)]\n",
    "        dones = dones[rates >= np.max(rates)]\n",
    "        rates = rates[rates >= np.max(rates)]\n",
    "        if np.count_nonzero(dones) > 0 and len(dones) > 1 and np.max(rates) > 0:\n",
    "            break\n",
    "    return states, actions, next_states, rewards, dones, rates"
   ]
  },
  {
   "cell_type": "code",
   "execution_count": 24,
   "metadata": {},
   "outputs": [],
   "source": [
    "# def minibatch(memory):\n",
    "#     while True:\n",
    "#         batch = memory.sample(batch_size=batch_size)\n",
    "#         rates = np.array([each[5] for each in batch])\n",
    "#         states = np.array([each[0] for each in batch])[rates > 0]\n",
    "#         actions = np.array([each[1] for each in batch])[rates > 0]\n",
    "#         next_states = np.array([each[2] for each in batch])[rates > 0]\n",
    "#         rewards = np.array([each[3] for each in batch])[rates > 0]\n",
    "#         dones = np.array([each[4] for each in batch])[rates > 0]\n",
    "#         rates = np.array([each[5] for each in batch])[rates > 0]\n",
    "#         if len(dones) == batch_size:\n",
    "#             break\n",
    "#     return states, actions, next_states, rewards, dones, rates"
   ]
  },
  {
   "cell_type": "code",
   "execution_count": 25,
   "metadata": {},
   "outputs": [],
   "source": [
    "# def minibatch_online(memory):\n",
    "#     batch = memory.buffer\n",
    "#     rates = np.array([each[5] for each in batch])\n",
    "#     states = np.array([each[0] for each in batch])[rates == -1]\n",
    "#     actions = np.array([each[1] for each in batch])[rates == -1]\n",
    "#     next_states = np.array([each[2] for each in batch])[rates == -1]\n",
    "#     rewards = np.array([each[3] for each in batch])[rates == -1]\n",
    "#     dones = np.array([each[4] for each in batch])[rates == -1]\n",
    "#     rates = np.array([each[5] for each in batch])[rates == -1]\n",
    "#     return states, actions, next_states, rewards, dones, rates"
   ]
  },
  {
   "cell_type": "code",
   "execution_count": 26,
   "metadata": {},
   "outputs": [],
   "source": [
    "# states, actions, next_states, rewards, dones, rates_on = minibatch_online(memory=memory)\n",
    "states, actions, next_states, rewards, dones, rates_off = minibatch(memory=memory)"
   ]
  },
  {
   "cell_type": "code",
   "execution_count": 27,
   "metadata": {},
   "outputs": [
    {
     "data": {
      "text/plain": [
       "array([0.166, 0.166, 0.166, 0.166, 0.166, 0.166, 0.166, 0.166, 0.166,\n",
       "       0.166, 0.166, 0.166, 0.166, 0.166, 0.166, 0.166, 0.166, 0.166,\n",
       "       0.166, 0.166, 0.166, 0.166, 0.166, 0.166, 0.166, 0.166, 0.166,\n",
       "       0.166, 0.166, 0.166, 0.166, 0.166, 0.166, 0.166, 0.166, 0.166,\n",
       "       0.166, 0.166, 0.166, 0.166, 0.166, 0.166, 0.166, 0.166, 0.166,\n",
       "       0.166, 0.166, 0.166, 0.166, 0.166, 0.166, 0.166, 0.166, 0.166,\n",
       "       0.166, 0.166, 0.166, 0.166, 0.166, 0.166, 0.166, 0.166, 0.166,\n",
       "       0.166, 0.166, 0.166, 0.166, 0.166, 0.166, 0.166, 0.166, 0.166,\n",
       "       0.166, 0.166, 0.166, 0.166, 0.166, 0.166, 0.166, 0.166, 0.166,\n",
       "       0.166, 0.166])"
      ]
     },
     "execution_count": 27,
     "metadata": {},
     "output_type": "execute_result"
    }
   ],
   "source": [
    "rates_off#, rates_on"
   ]
  },
  {
   "cell_type": "code",
   "execution_count": null,
   "metadata": {},
   "outputs": [
    {
     "name": "stdout",
     "output_type": "stream",
     "text": [
      "Episode:0 meanR:19.0000 R:19.0000 rate:0.0380 aloss:0.6272 eloss:0.0716\n",
      "Episode:1 meanR:26.0000 R:33.0000 rate:0.0660 aloss:0.6159 eloss:0.0685\n",
      "Episode:2 meanR:29.6667 R:37.0000 rate:0.0740 aloss:0.6175 eloss:0.0652\n",
      "Episode:3 meanR:27.5000 R:21.0000 rate:0.0420 aloss:0.5818 eloss:0.0839\n",
      "Episode:4 meanR:26.8000 R:24.0000 rate:0.0480 aloss:0.6092 eloss:0.0517\n",
      "Episode:5 meanR:25.0000 R:16.0000 rate:0.0320 aloss:0.6298 eloss:0.0437\n",
      "Episode:6 meanR:25.4286 R:28.0000 rate:0.0560 aloss:0.6099 eloss:0.0475\n",
      "Episode:7 meanR:23.8750 R:13.0000 rate:0.0260 aloss:0.6094 eloss:0.0447\n",
      "Episode:8 meanR:23.1111 R:17.0000 rate:0.0340 aloss:0.6074 eloss:0.0408\n",
      "Episode:9 meanR:23.2000 R:24.0000 rate:0.0480 aloss:0.6128 eloss:0.0378\n",
      "Episode:10 meanR:22.6364 R:17.0000 rate:0.0340 aloss:0.5888 eloss:0.0355\n",
      "Episode:11 meanR:22.3333 R:19.0000 rate:0.0380 aloss:0.5913 eloss:0.0399\n",
      "Episode:12 meanR:22.6154 R:26.0000 rate:0.0520 aloss:0.6006 eloss:0.0273\n",
      "Episode:13 meanR:22.1429 R:16.0000 rate:0.0320 aloss:0.5990 eloss:0.0319\n",
      "Episode:14 meanR:21.4667 R:12.0000 rate:0.0240 aloss:0.5698 eloss:0.0361\n",
      "Episode:15 meanR:21.3125 R:19.0000 rate:0.0380 aloss:0.5987 eloss:0.0218\n",
      "Episode:16 meanR:20.9412 R:15.0000 rate:0.0300 aloss:0.5728 eloss:0.0211\n",
      "Episode:17 meanR:20.5000 R:13.0000 rate:0.0260 aloss:0.5631 eloss:0.0232\n",
      "Episode:18 meanR:20.2105 R:15.0000 rate:0.0300 aloss:0.5425 eloss:0.0217\n",
      "Episode:19 meanR:20.0500 R:17.0000 rate:0.0340 aloss:0.5322 eloss:0.0280\n",
      "Episode:20 meanR:19.7619 R:14.0000 rate:0.0280 aloss:0.5316 eloss:0.0137\n",
      "Episode:21 meanR:19.5455 R:15.0000 rate:0.0300 aloss:0.5570 eloss:0.0153\n"
     ]
    }
   ],
   "source": [
    "# Save/load the model and save for plotting\n",
    "saver = tf.train.Saver()\n",
    "episode_rewards_list, rewards_list = [], []\n",
    "aloss_list, eloss_list = [], []\n",
    "\n",
    "# TF session for training\n",
    "with tf.Session(graph=graph) as sess:\n",
    "    sess.run(tf.global_variables_initializer())\n",
    "    #saver.restore(sess, 'checkpoints/model.ckpt')    \n",
    "    #saver.restore(sess, tf.train.latest_checkpoint('checkpoints'))\n",
    "    episode_reward = deque(maxlen=100) # 100 episodes for running average/running mean/window\n",
    "\n",
    "    # Episodes/epochs\n",
    "    for ep in range(11111):\n",
    "        aloss_batch, eloss_batch = [], []\n",
    "        total_reward = 0\n",
    "        state = env.reset()\n",
    "        rate = -1\n",
    "        \n",
    "        # Episode steps\n",
    "        for num_step in range(1111111111111):\n",
    "            action_logits = sess.run(model.actions_logits, feed_dict={model.states: state.reshape([1, -1])})\n",
    "            action = np.argmax(action_logits)\n",
    "            next_state, reward, done, _ = env.step(action)\n",
    "            memory.buffer.append([state, action, next_state, reward, float(done), rate])\n",
    "            total_reward += reward\n",
    "            state = next_state\n",
    "            \n",
    "            # Online Training/on-policy\n",
    "            states, actions, next_states, rewards, dones, rates = minibatch(memory=memory)\n",
    "            feed_dict = {model.states: states, model.actions: actions, model.next_states: next_states,\n",
    "                         model.rewards: rewards, model.dones: dones, model.rates: rates}\n",
    "            eloss, _ = sess.run([model.e_loss, model.e_opt], feed_dict)\n",
    "            aloss, _ = sess.run([model.a_loss, model.a_opt], feed_dict)\n",
    "            eloss_batch.append(eloss)\n",
    "            aloss_batch.append(aloss)\n",
    "            if done is True:\n",
    "                # Rating the latest played episode\n",
    "                rate = total_reward/500 # update rate at the end/ when episode is done\n",
    "                for idx in range(num_step): # episode length\n",
    "                    if memory.buffer[-1-idx][-1] == -1: # double-check the landmark/marked indexes\n",
    "                        memory.buffer[-1-idx][-1] = rate # rate the trajectory/data\n",
    "                break\n",
    "                \n",
    "\n",
    "        # Offline Training/off-policy\n",
    "        # EMPTYYYYYYYYYYYYY#####\n",
    "        # EMPTYYYYYYYYYYYYY#####\n",
    "        # EMPTYYYYYYYYYYYYY#####\n",
    "        # EMPTYYYYYYYYYYYYY#####\n",
    "        \n",
    "        # Print out\n",
    "        episode_reward.append(total_reward)\n",
    "        print('Episode:{}'.format(ep),\n",
    "              'meanR:{:.4f}'.format(np.mean(episode_reward)),\n",
    "              'R:{:.4f}'.format(total_reward),\n",
    "              'rate:{:.4f}'.format(rate),\n",
    "              'aloss:{:.4f}'.format(np.mean(aloss_batch)),\n",
    "              'eloss:{:.4f}'.format(np.mean(eloss_batch)))\n",
    "\n",
    "        # Ploting out\n",
    "        episode_rewards_list.append([ep, np.mean(episode_reward)])\n",
    "        rewards_list.append([ep, total_reward])\n",
    "        aloss_list.append([ep, np.mean(aloss_batch)])\n",
    "        eloss_list.append([ep, np.mean(eloss_batch)])\n",
    "        \n",
    "        # Break episode/epoch loop\n",
    "        ## Option 1: Solve the First Version\n",
    "        #The task is episodic, and in order to solve the environment, \n",
    "        #your agent must get an average score of +30 over 100 consecutive episodes.\n",
    "        if np.mean(episode_reward) >= 500:\n",
    "            break\n",
    "            \n",
    "    # At the end of all training episodes/epochs\n",
    "    saver.save(sess, 'checkpoints/model.ckpt')"
   ]
  },
  {
   "cell_type": "markdown",
   "metadata": {},
   "source": [
    "# Visualizing training\n",
    "\n",
    "Below I'll plot the total rewards for each episode. I'm plotting the rolling average too, in blue."
   ]
  },
  {
   "cell_type": "code",
   "execution_count": null,
   "metadata": {},
   "outputs": [],
   "source": [
    "import matplotlib.pyplot as plt\n",
    "%matplotlib inline\n",
    "\n",
    "def running_mean(x, N):\n",
    "    cumsum = np.cumsum(np.insert(x, 0, 0)) \n",
    "    return (cumsum[N:] - cumsum[:-N]) / N "
   ]
  },
  {
   "cell_type": "code",
   "execution_count": null,
   "metadata": {},
   "outputs": [],
   "source": [
    "eps, arr = np.array(episode_rewards_list).T\n",
    "smoothed_arr = running_mean(arr, 10)\n",
    "plt.plot(eps[-len(smoothed_arr):], smoothed_arr)\n",
    "plt.plot(eps, arr, color='grey', alpha=0.3)\n",
    "plt.xlabel('Episode')\n",
    "plt.ylabel('Total rewards')"
   ]
  },
  {
   "cell_type": "code",
   "execution_count": null,
   "metadata": {},
   "outputs": [],
   "source": [
    "eps, arr = np.array(rewards_list).T\n",
    "smoothed_arr = running_mean(arr, 10)\n",
    "plt.plot(eps[-len(smoothed_arr):], smoothed_arr)\n",
    "plt.plot(eps, arr, color='grey', alpha=0.3)\n",
    "plt.xlabel('Episode')\n",
    "plt.ylabel('Total rewards')"
   ]
  },
  {
   "cell_type": "code",
   "execution_count": null,
   "metadata": {},
   "outputs": [],
   "source": [
    "eps, arr = np.array(aloss_list).T\n",
    "smoothed_arr = running_mean(arr, 10)\n",
    "plt.plot(eps[-len(smoothed_arr):], smoothed_arr)\n",
    "plt.plot(eps, arr, color='grey', alpha=0.3)\n",
    "plt.xlabel('Episode')\n",
    "plt.ylabel('Act losses')"
   ]
  },
  {
   "cell_type": "code",
   "execution_count": null,
   "metadata": {},
   "outputs": [],
   "source": [
    "eps, arr = np.array(eloss_list).T\n",
    "smoothed_arr = running_mean(arr, 10)\n",
    "plt.plot(eps[-len(smoothed_arr):], smoothed_arr)\n",
    "plt.plot(eps, arr, color='grey', alpha=0.3)\n",
    "plt.xlabel('Episode')\n",
    "plt.ylabel('Env losses')"
   ]
  },
  {
   "cell_type": "markdown",
   "metadata": {},
   "source": [
    "## Testing\n",
    "\n",
    "Let's checkout how our trained agent plays the game."
   ]
  },
  {
   "cell_type": "code",
   "execution_count": 21,
   "metadata": {},
   "outputs": [
    {
     "name": "stdout",
     "output_type": "stream",
     "text": [
      "INFO:tensorflow:Restoring parameters from checkpoints/model.ckpt\n",
      "total_reward: 500.0\n",
      "total_reward: 500.0\n",
      "total_reward: 500.0\n",
      "total_reward: 500.0\n",
      "total_reward: 500.0\n",
      "total_reward: 500.0\n",
      "total_reward: 500.0\n",
      "total_reward: 500.0\n",
      "total_reward: 500.0\n",
      "total_reward: 500.0\n"
     ]
    }
   ],
   "source": [
    "import gym\n",
    "env = gym.make('CartPole-v0')\n",
    "env = gym.make('CartPole-v1')\n",
    "\n",
    "with tf.Session() as sess:\n",
    "    sess.run(tf.global_variables_initializer())\n",
    "    saver.restore(sess, 'checkpoints/model.ckpt')    \n",
    "    #saver.restore(sess, tf.train.latest_checkpoint('checkpoints'))\n",
    "    \n",
    "    # Episodes/epochs\n",
    "    for _ in range(10):\n",
    "        state = env.reset()\n",
    "        total_reward = 0\n",
    "\n",
    "        # Steps/batches\n",
    "        while True:\n",
    "            env.render()\n",
    "            action_logits = sess.run(model.actions_logits, feed_dict={model.states: state.reshape([1, -1])})\n",
    "            action = np.argmax(action_logits)\n",
    "            state, reward, done, _ = env.step(action)\n",
    "            total_reward += reward\n",
    "            if done:\n",
    "                print('total_reward: {}'.format(total_reward))\n",
    "                break\n",
    "                \n",
    "env.close()"
   ]
  },
  {
   "cell_type": "code",
   "execution_count": null,
   "metadata": {},
   "outputs": [],
   "source": []
  }
 ],
 "metadata": {
  "kernelspec": {
   "display_name": "Python 3",
   "language": "python",
   "name": "python3"
  },
  "language_info": {
   "codemirror_mode": {
    "name": "ipython",
    "version": 3
   },
   "file_extension": ".py",
   "mimetype": "text/x-python",
   "name": "python",
   "nbconvert_exporter": "python",
   "pygments_lexer": "ipython3",
   "version": "3.6.6"
  }
 },
 "nbformat": 4,
 "nbformat_minor": 2
}
