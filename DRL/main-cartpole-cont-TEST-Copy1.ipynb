{
 "cells": [
  {
   "cell_type": "markdown",
   "metadata": {},
   "source": [
    "# Rated DPG for Cartpole\n",
    "\n",
    "\n",
    "In this notebook, we'll build a neural network that can learn to play games through reinforcement learning. More specifically, we'll use Q-learning to train an agent to play a game called [Cart-Pole](https://gym.openai.com/envs/CartPole-v0). In this game, a freely swinging pole is attached to a cart. The cart can move to the left and right, and the goal is to keep the pole upright as long as possible.\n",
    "\n",
    "![Cart-Pole](assets/cart-pole.jpg)\n",
    "\n",
    "We can simulate this game using [OpenAI Gym](https://gym.openai.com/). First, let's check out how OpenAI Gym works. Then, we'll get into training an agent to play the Cart-Pole game."
   ]
  },
  {
   "cell_type": "code",
   "execution_count": 1,
   "metadata": {},
   "outputs": [
    {
     "name": "stderr",
     "output_type": "stream",
     "text": [
      "/home/aras/anaconda3/lib/python3.6/site-packages/h5py/__init__.py:36: FutureWarning: Conversion of the second argument of issubdtype from `float` to `np.floating` is deprecated. In future, it will be treated as `np.float64 == np.dtype(float).type`.\n",
      "  from ._conv import register_converters as _register_converters\n"
     ]
    },
    {
     "name": "stdout",
     "output_type": "stream",
     "text": [
      "TensorFlow Version: 1.7.1\n",
      "Default GPU Device: \n"
     ]
    }
   ],
   "source": [
    "# In this one we should define and detect GPUs for tensorflow\n",
    "# GPUs or CPU\n",
    "import tensorflow as tf\n",
    "\n",
    "# Check TensorFlow Version\n",
    "print('TensorFlow Version: {}'.format(tf.__version__))\n",
    "\n",
    "# Check for a GPU\n",
    "print('Default GPU Device: {}'.format(tf.test.gpu_device_name()))"
   ]
  },
  {
   "cell_type": "markdown",
   "metadata": {},
   "source": [
    ">**Note:** Make sure you have OpenAI Gym cloned into the same directory with this notebook. I've included `gym` as a submodule, so you can run `git submodule --init --recursive` to pull the contents into the `gym` repo."
   ]
  },
  {
   "cell_type": "markdown",
   "metadata": {},
   "source": [
    "##### >**Note:** Make sure you have OpenAI Gym cloned. Then run this command `pip install -e gym/[all]`."
   ]
  },
  {
   "cell_type": "code",
   "execution_count": 2,
   "metadata": {},
   "outputs": [],
   "source": [
    "import gym\n",
    "env = gym.make('CartPole-v0')\n",
    "env = gym.make('CartPole-v1')"
   ]
  },
  {
   "cell_type": "markdown",
   "metadata": {},
   "source": [
    "We interact with the simulation through `env`. To show the simulation running, you can use `env.render()` to render one frame. Passing in an action as an integer to `env.step` will generate the next step in the simulation.  You can see how many actions are possible from `env.action_space` and to get a random action you can use `env.action_space.sample()`. This is general to all Gym games. In the Cart-Pole game, there are two possible actions, moving the cart left or right. So there are two actions we can take, encoded as 0 and 1.\n",
    "\n",
    "Run the code below to watch the simulation run."
   ]
  },
  {
   "cell_type": "code",
   "execution_count": 3,
   "metadata": {},
   "outputs": [],
   "source": [
    "env.reset()\n",
    "batch = []\n",
    "for _ in range(1111):\n",
    "    #env.render()\n",
    "    action = env.action_space.sample()\n",
    "    state, reward, done, info = env.step(action) # take a random action\n",
    "    batch.append([action, state, reward, done, info])\n",
    "    #print('state, action, reward, done, info:', state, action, reward, done, info)\n",
    "    if done:\n",
    "        env.reset()"
   ]
  },
  {
   "cell_type": "markdown",
   "metadata": {},
   "source": [
    "To shut the window showing the simulation, use `env.close()`."
   ]
  },
  {
   "cell_type": "code",
   "execution_count": 4,
   "metadata": {},
   "outputs": [],
   "source": [
    "# env.close()"
   ]
  },
  {
   "cell_type": "markdown",
   "metadata": {},
   "source": [
    "If you ran the simulation above, we can look at the rewards:"
   ]
  },
  {
   "cell_type": "code",
   "execution_count": 5,
   "metadata": {},
   "outputs": [],
   "source": [
    "import numpy as np\n",
    "actions = np.array([each[0] for each in batch])\n",
    "states = np.array([each[1] for each in batch])\n",
    "rewards = np.array([each[2] for each in batch])\n",
    "dones = np.array([each[3] for each in batch])\n",
    "infos = np.array([each[4] for each in batch])"
   ]
  },
  {
   "cell_type": "code",
   "execution_count": 6,
   "metadata": {},
   "outputs": [
    {
     "name": "stdout",
     "output_type": "stream",
     "text": [
      "shapes: (1111,) (1111, 4) (1111,) (1111,)\n",
      "dtypes: float64 float64 int64 bool\n",
      "states: 2.5525128278408378 -2.7101178137045903\n",
      "actions: 1 0\n",
      "rewards: 1.0 1.0\n"
     ]
    }
   ],
   "source": [
    "# print(rewards[-20:])\n",
    "print('shapes:', np.array(rewards).shape, np.array(states).shape, np.array(actions).shape, np.array(dones).shape)\n",
    "print('dtypes:', np.array(rewards).dtype, np.array(states).dtype, np.array(actions).dtype, np.array(dones).dtype)\n",
    "print('states:', np.max(np.array(states)), np.min(np.array(states)))\n",
    "print('actions:', np.max(np.array(actions)), np.min(np.array(actions)))\n",
    "# print((np.max(np.array(actions)) - np.min(np.array(actions)))+1)\n",
    "print('rewards:', np.max(np.array(rewards)), np.min(np.array(rewards)))"
   ]
  },
  {
   "cell_type": "code",
   "execution_count": 7,
   "metadata": {},
   "outputs": [
    {
     "data": {
      "text/plain": [
       "array([0, 1, 1, 0, 1, 1, 1, 1, 1, 1])"
      ]
     },
     "execution_count": 7,
     "metadata": {},
     "output_type": "execute_result"
    }
   ],
   "source": [
    "actions[:10]"
   ]
  },
  {
   "cell_type": "code",
   "execution_count": 8,
   "metadata": {},
   "outputs": [
    {
     "data": {
      "text/plain": [
       "array([1., 1., 1., 1., 1., 1., 1., 1., 1., 1.])"
      ]
     },
     "execution_count": 8,
     "metadata": {},
     "output_type": "execute_result"
    }
   ],
   "source": [
    "rewards[:10]"
   ]
  },
  {
   "cell_type": "code",
   "execution_count": 9,
   "metadata": {},
   "outputs": [
    {
     "name": "stdout",
     "output_type": "stream",
     "text": [
      "rewards: 0.01 0.01\n"
     ]
    }
   ],
   "source": [
    "print('rewards:', np.max(np.array(rewards))/100, np.min(np.array(rewards))/100)"
   ]
  },
  {
   "cell_type": "markdown",
   "metadata": {},
   "source": [
    "The game resets after the pole has fallen past a certain angle. For each frame while the simulation is running, it returns a reward of 1.0. The longer the game runs, the more reward we get. Then, our network's goal is to maximize the reward by keeping the pole vertical. It will do this by moving the cart to the left and the right."
   ]
  },
  {
   "cell_type": "markdown",
   "metadata": {},
   "source": [
    "## Q-Network\n",
    "\n",
    "We train our Q-learning agent using the Bellman Equation:\n",
    "\n",
    "$$\n",
    "Q(s, a) = r + \\gamma \\max{Q(s', a')}\n",
    "$$\n",
    "\n",
    "where $s$ is a state, $a$ is an action, and $s'$ is the next state from state $s$ and action $a$.\n",
    "\n",
    "Before we used this equation to learn values for a Q-_table_. However, for this game there are a huge number of states available. The state has four values: the position and velocity of the cart, and the position and velocity of the pole. These are all real-valued numbers, so ignoring floating point precisions, you practically have infinite states. Instead of using a table then, we'll replace it with a neural network that will approximate the Q-table lookup function.\n",
    "\n",
    "<img src=\"assets/deep-q-learning.png\" width=450px>\n",
    "\n",
    "Now, our Q value, $Q(s, a)$ is calculated by passing in a state to the network. The output will be Q-values for each available action, with fully connected hidden layers.\n",
    "\n",
    "<img src=\"assets/q-network.png\" width=550px>\n",
    "\n",
    "\n",
    "As I showed before, we can define our targets for training as $\\hat{Q}(s,a) = r + \\gamma \\max{Q(s', a')}$. Then we update the weights by minimizing $(\\hat{Q}(s,a) - Q(s,a))^2$. \n",
    "\n",
    "For this Cart-Pole game, we have four inputs, one for each value in the state, and two outputs, one for each action. To get $\\hat{Q}$, we'll first choose an action, then simulate the game using that action. This will get us the next state, $s'$, and the reward. With that, we can calculate $\\hat{Q}$ then pass it back into the $Q$ network to run the optimizer and update the weights.\n",
    "\n",
    "Below is my implementation of the Q-network. I used two fully connected layers with ReLU activations. Two seems to be good enough, three might be better. Feel free to try it out."
   ]
  },
  {
   "cell_type": "code",
   "execution_count": 10,
   "metadata": {},
   "outputs": [],
   "source": [
    "def model_input(state_size):\n",
    "    #states = tf.placeholder(tf.float32, [None, *state_size], name='states')\n",
    "    states = tf.placeholder(tf.float32, [None, state_size], name='states')\n",
    "    actions = tf.placeholder(tf.int32, [None], name='actions')\n",
    "    targetQs = tf.placeholder(tf.float32, [None], name='targetQs')\n",
    "    rates = tf.placeholder(tf.float32, [None], name='rates')\n",
    "    return states, actions, targetQs, rates"
   ]
  },
  {
   "cell_type": "code",
   "execution_count": 11,
   "metadata": {},
   "outputs": [],
   "source": [
    "# Generator/Controller: Generating/prediting the actions\n",
    "def generator(states, action_size, hidden_size, reuse=False, alpha=0.1, training=False):\n",
    "    with tf.variable_scope('generator', reuse=reuse):\n",
    "        # First fully connected layer\n",
    "        h1 = tf.layers.dense(inputs=states, units=hidden_size)\n",
    "        bn1 = tf.layers.batch_normalization(h1, training=training)        \n",
    "        nl1 = tf.maximum(alpha * bn1, bn1)\n",
    "        \n",
    "        # Second fully connected layer\n",
    "        h2 = tf.layers.dense(inputs=nl1, units=hidden_size)\n",
    "        bn2 = tf.layers.batch_normalization(h2, training=training)        \n",
    "        nl2 = tf.maximum(alpha * bn2, bn2)\n",
    "        \n",
    "        # Output layer\n",
    "        logits = tf.layers.dense(inputs=nl2, units=action_size)        \n",
    "        #predictions = tf.nn.softmax(logits)\n",
    "\n",
    "        # return actions logits\n",
    "        return logits"
   ]
  },
  {
   "cell_type": "code",
   "execution_count": 12,
   "metadata": {},
   "outputs": [],
   "source": [
    "# Discriminator/Dopamine: Reward function/planner/naviator/advisor/supervisor/cortical columns\n",
    "def discriminator(states, actions, hidden_size, reuse=False, alpha=0.1, training=False):\n",
    "    with tf.variable_scope('discriminator', reuse=reuse):\n",
    "        # First fully connected layer\n",
    "        h1 = tf.layers.dense(inputs=states, units=action_size)\n",
    "        bn1 = tf.layers.batch_normalization(h1, training=training)        \n",
    "        nl1 = tf.maximum(alpha * bn1, bn1)\n",
    "        \n",
    "        # Second fully connected layer\n",
    "        fused = tf.concat(axis=1, values=[nl1, actions])\n",
    "        h2 = tf.layers.dense(inputs=fused, units=hidden_size)\n",
    "        bn2 = tf.layers.batch_normalization(h2, training=training)        \n",
    "        nl2 = tf.maximum(alpha * bn2, bn2)\n",
    "                \n",
    "        # Output layer\n",
    "        logits = tf.layers.dense(inputs=nl2, units=1)        \n",
    "        #predictions = tf.nn.softmax(logits)\n",
    "\n",
    "        # return rewards logits\n",
    "        return logits"
   ]
  },
  {
   "cell_type": "code",
   "execution_count": 13,
   "metadata": {},
   "outputs": [],
   "source": [
    "def model_loss(action_size, hidden_size, states, actions, targetQs, rates):\n",
    "    actions_logits = generator(states=states, hidden_size=hidden_size, action_size=action_size)\n",
    "    actions_labels = tf.one_hot(indices=actions, depth=action_size, dtype=actions_logits.dtype)\n",
    "    neg_log_prob = tf.nn.softmax_cross_entropy_with_logits_v2(logits=actions_logits, \n",
    "                                                              labels=actions_labels)\n",
    "    targetQs = tf.reshape(targetQs, shape=[-1, 1])\n",
    "    gloss = tf.reduce_mean(neg_log_prob * targetQs) # DPG: r+(gamma*nextQ)\n",
    "    gQs = discriminator(actions=actions_logits, hidden_size=hidden_size, states=states)\n",
    "    dQs = discriminator(actions=actions_labels, hidden_size=hidden_size, states=states, reuse=True) # Qs\n",
    "    rates = tf.reshape(rates, shape=[-1, 1])\n",
    "    dlossA = tf.reduce_mean(tf.nn.sigmoid_cross_entropy_with_logits(logits=gQs, # GAN\n",
    "                                                                    labels=rates)) # 0-1\n",
    "    dlossA += tf.reduce_mean(tf.nn.sigmoid_cross_entropy_with_logits(logits=dQs, # GAN\n",
    "                                                                     labels=rates)) # 0-1\n",
    "    dlossA /= 2\n",
    "    dlossQ = tf.reduce_mean(tf.square(gQs - targetQs)) # DQN\n",
    "    dlossQ += tf.reduce_mean(tf.square(dQs - targetQs)) # DQN\n",
    "    dlossQ /= 2\n",
    "    return actions_logits, gQs, gloss, dlossA, dlossQ"
   ]
  },
  {
   "cell_type": "code",
   "execution_count": 14,
   "metadata": {},
   "outputs": [],
   "source": [
    "# Optimizating/training/learning G & D\n",
    "def model_opt(g_loss, d_lossA, d_lossQ, g_learning_rate, d_learning_rate):\n",
    "    # Get weights and bias to update\n",
    "    t_vars = tf.trainable_variables()\n",
    "    g_vars = [var for var in t_vars if var.name.startswith('generator')]\n",
    "    d_vars = [var for var in t_vars if var.name.startswith('discriminator')]\n",
    "\n",
    "    # Optimize\n",
    "    with tf.control_dependencies(tf.get_collection(tf.GraphKeys.UPDATE_OPS)): # Required for batchnorm (BN)\n",
    "        g_opt = tf.train.AdamOptimizer(g_learning_rate).minimize(g_loss, var_list=g_vars)\n",
    "        d_optA = tf.train.AdamOptimizer(d_learning_rate).minimize(d_lossA, var_list=d_vars)\n",
    "        d_optQ = tf.train.AdamOptimizer(d_learning_rate).minimize(d_lossQ, var_list=d_vars)\n",
    "\n",
    "    return g_opt, d_optA, d_optQ"
   ]
  },
  {
   "cell_type": "code",
   "execution_count": 15,
   "metadata": {},
   "outputs": [],
   "source": [
    "class Model:\n",
    "    def __init__(self, state_size, action_size, hidden_size, g_learning_rate, d_learning_rate):\n",
    "\n",
    "        # Data of the Model: make the data available inside the framework\n",
    "        self.states, self.actions, self.targetQs, self.rates = model_input(state_size=state_size)\n",
    "\n",
    "        # Create the Model: calculating the loss and forwad pass\n",
    "        self.actions_logits, self.Qs_logits, self.g_loss, self.d_lossA, self.d_lossQ = model_loss(\n",
    "            action_size=action_size, hidden_size=hidden_size, # model init parameters\n",
    "            states=self.states, actions=self.actions, \n",
    "            targetQs=self.targetQs, rates=self.rates) # model input\n",
    "        \n",
    "        # Update the model: backward pass and backprop\n",
    "        self.g_opt, self.d_optA, self.d_optQ = model_opt(g_loss=self.g_loss, \n",
    "                                                         d_lossA=self.d_lossA, \n",
    "                                                         d_lossQ=self.d_lossQ, \n",
    "                                                         g_learning_rate=g_learning_rate, \n",
    "                                                         d_learning_rate=d_learning_rate)"
   ]
  },
  {
   "cell_type": "code",
   "execution_count": 16,
   "metadata": {},
   "outputs": [],
   "source": [
    "from collections import deque\n",
    "class Memory():\n",
    "    def __init__(self, max_size = 1000):\n",
    "        self.buffer = deque(maxlen=max_size) # data batch"
   ]
  },
  {
   "cell_type": "markdown",
   "metadata": {},
   "source": [
    "## Hyperparameters\n",
    "\n",
    "One of the more difficult aspects of reinforcememt learning are the large number of hyperparameters. Not only are we tuning the network, but we're tuning the simulation."
   ]
  },
  {
   "cell_type": "code",
   "execution_count": 17,
   "metadata": {},
   "outputs": [
    {
     "data": {
      "text/plain": [
       "(Box(4,), Discrete(2))"
      ]
     },
     "execution_count": 17,
     "metadata": {},
     "output_type": "execute_result"
    }
   ],
   "source": [
    "env.observation_space, env.action_space"
   ]
  },
  {
   "cell_type": "code",
   "execution_count": 18,
   "metadata": {},
   "outputs": [],
   "source": [
    "# Exploration parameters\n",
    "explore_start = 1.0            # exploration probability at start\n",
    "explore_stop = 0.01           # minimum exploration probability \n",
    "decay_rate = 0.0001            # exponential decay rate for exploration prob\n",
    "\n",
    "# Network parameters\n",
    "state_size = 4\n",
    "action_size = 2\n",
    "hidden_size = 4*2             # number of units in each Q-network hidden layer\n",
    "g_learning_rate = 1e-4         # Q-network learning rate\n",
    "d_learning_rate = 1e-4         # Q-network learning rate\n",
    "\n",
    "# Memory parameters\n",
    "memory_size = int(1e5)            # memory capacity\n",
    "batch_size = int(1e3)             # experience mini-batch size: 200/500 a successfull episode size\n",
    "gamma = 0.99                   # future reward discount"
   ]
  },
  {
   "cell_type": "code",
   "execution_count": 19,
   "metadata": {},
   "outputs": [],
   "source": [
    "# Reset/init the graph/session\n",
    "graph = tf.reset_default_graph()\n",
    "\n",
    "# Init the model\n",
    "model = Model(action_size=action_size, state_size=state_size, hidden_size=hidden_size,\n",
    "              g_learning_rate=g_learning_rate, d_learning_rate=d_learning_rate)\n",
    "\n",
    "# Init the memory\n",
    "memory = Memory(max_size=memory_size)"
   ]
  },
  {
   "cell_type": "code",
   "execution_count": 20,
   "metadata": {},
   "outputs": [],
   "source": [
    "goal = 500\n",
    "state = env.reset()\n",
    "total_reward = 0\n",
    "num_step = 0\n",
    "for _ in range(memory_size):\n",
    "    action = env.action_space.sample()\n",
    "    next_state, reward, done, _ = env.step(action)\n",
    "    memory.buffer.append([state, action, next_state, reward, float(done), -1])\n",
    "    num_step += 1 # memory incremented\n",
    "    total_reward += reward\n",
    "    state = next_state\n",
    "    if done is True:\n",
    "        state = env.reset()\n",
    "        rate = total_reward/goal\n",
    "        total_reward = 0 # reset\n",
    "        for idx in range(num_step): # episode length\n",
    "            if memory.buffer[-1-idx][-1] == -1:\n",
    "                memory.buffer[-1-idx][-1] = rate\n",
    "        num_step = 0 # reset"
   ]
  },
  {
   "cell_type": "code",
   "execution_count": 21,
   "metadata": {},
   "outputs": [],
   "source": [
    "idx = np.random.choice(np.arange(memory_size// batch_size))\n",
    "batch = np.array(memory.buffer)[idx*batch_size:(idx+1)*batch_size]\n",
    "rates = np.array([each[5] for each in batch])\n",
    "batch = batch[rates >= (np.max(rates)*0.9)]\n",
    "states = np.array([each[0] for each in batch])\n",
    "actions = np.array([each[1] for each in batch])\n",
    "next_states = np.array([each[2] for each in batch])\n",
    "rewards = np.array([each[3] for each in batch])\n",
    "dones = np.array([each[4] for each in batch])\n",
    "rates = np.array([each[5] for each in batch])"
   ]
  },
  {
   "cell_type": "code",
   "execution_count": 22,
   "metadata": {},
   "outputs": [
    {
     "data": {
      "text/plain": [
       "((74, 6), (74, 4), (74,), (74, 4), (74,), (74,), (74,))"
      ]
     },
     "execution_count": 22,
     "metadata": {},
     "output_type": "execute_result"
    }
   ],
   "source": [
    "batch.shape, \\\n",
    "states.shape, actions.shape, next_states.shape, rewards.shape, dones.shape, rates.shape"
   ]
  },
  {
   "cell_type": "markdown",
   "metadata": {},
   "source": [
    "## Training the model\n",
    "\n",
    "Below we'll train our agent. If you want to watch it train, uncomment the `env.render()` line. This is slow because it's rendering the frames slower than the network can train. But, it's cool to watch the agent get better at the game."
   ]
  },
  {
   "cell_type": "code",
   "execution_count": 23,
   "metadata": {},
   "outputs": [
    {
     "name": "stdout",
     "output_type": "stream",
     "text": [
      "Episode:0 meanR:26.0000 R:26.0000 rate:0.0520 gloss:0.6220 dlossA:0.6543 dlossQ:0.9885 exploreP:0.9974\n",
      "Episode:1 meanR:24.5000 R:23.0000 rate:0.0460 gloss:0.6045 dlossA:0.6495 dlossQ:0.9936 exploreP:0.9952\n",
      "Episode:2 meanR:23.6667 R:22.0000 rate:0.0440 gloss:0.6037 dlossA:0.6521 dlossQ:0.9904 exploreP:0.9930\n",
      "Episode:3 meanR:23.5000 R:23.0000 rate:0.0460 gloss:0.5981 dlossA:0.6501 dlossQ:1.0008 exploreP:0.9907\n",
      "Episode:4 meanR:25.4000 R:33.0000 rate:0.0660 gloss:0.6035 dlossA:0.6498 dlossQ:0.9987 exploreP:0.9875\n",
      "Episode:5 meanR:25.1667 R:24.0000 rate:0.0480 gloss:0.6359 dlossA:0.6576 dlossQ:1.0047 exploreP:0.9852\n",
      "Episode:6 meanR:24.4286 R:20.0000 rate:0.0400 gloss:0.6055 dlossA:0.6520 dlossQ:1.0148 exploreP:0.9832\n",
      "Episode:7 meanR:24.3750 R:24.0000 rate:0.0480 gloss:0.5884 dlossA:0.6487 dlossQ:1.0007 exploreP:0.9809\n",
      "Episode:8 meanR:25.6667 R:36.0000 rate:0.0720 gloss:0.6141 dlossA:0.6554 dlossQ:1.0043 exploreP:0.9774\n",
      "Episode:9 meanR:24.1000 R:10.0000 rate:0.0200 gloss:0.6109 dlossA:0.6561 dlossQ:1.0048 exploreP:0.9764\n",
      "Episode:10 meanR:23.8182 R:21.0000 rate:0.0420 gloss:0.6091 dlossA:0.6534 dlossQ:1.0023 exploreP:0.9744\n",
      "Episode:11 meanR:23.0833 R:15.0000 rate:0.0300 gloss:0.5980 dlossA:0.6524 dlossQ:0.9910 exploreP:0.9730\n",
      "Episode:12 meanR:23.5385 R:29.0000 rate:0.0580 gloss:0.6280 dlossA:0.6580 dlossQ:1.0076 exploreP:0.9702\n",
      "Episode:13 meanR:23.5000 R:23.0000 rate:0.0460 gloss:0.6142 dlossA:0.6552 dlossQ:1.0066 exploreP:0.9680\n",
      "Episode:14 meanR:25.1333 R:48.0000 rate:0.0960 gloss:0.6032 dlossA:0.6533 dlossQ:1.0039 exploreP:0.9634\n",
      "Episode:15 meanR:25.1875 R:26.0000 rate:0.0520 gloss:0.6024 dlossA:0.6544 dlossQ:1.0027 exploreP:0.9609\n",
      "Episode:16 meanR:25.0000 R:22.0000 rate:0.0440 gloss:0.5978 dlossA:0.6516 dlossQ:1.0016 exploreP:0.9588\n",
      "Episode:17 meanR:24.2222 R:11.0000 rate:0.0220 gloss:0.5940 dlossA:0.6528 dlossQ:1.0029 exploreP:0.9578\n",
      "Episode:18 meanR:23.9474 R:19.0000 rate:0.0380 gloss:0.6078 dlossA:0.6572 dlossQ:1.0122 exploreP:0.9560\n",
      "Episode:19 meanR:23.4000 R:13.0000 rate:0.0260 gloss:0.6256 dlossA:0.6587 dlossQ:1.0145 exploreP:0.9547\n",
      "Episode:20 meanR:23.1905 R:19.0000 rate:0.0380 gloss:0.6086 dlossA:0.6556 dlossQ:1.0081 exploreP:0.9529\n",
      "Episode:21 meanR:26.2273 R:90.0000 rate:0.1800 gloss:0.5961 dlossA:0.6536 dlossQ:1.0042 exploreP:0.9445\n",
      "Episode:22 meanR:25.7826 R:16.0000 rate:0.0320 gloss:0.5991 dlossA:0.6516 dlossQ:1.0043 exploreP:0.9430\n",
      "Episode:23 meanR:25.7083 R:24.0000 rate:0.0480 gloss:0.5900 dlossA:0.6509 dlossQ:0.9946 exploreP:0.9408\n",
      "Episode:24 meanR:25.7600 R:27.0000 rate:0.0540 gloss:0.5989 dlossA:0.6512 dlossQ:1.0011 exploreP:0.9383\n",
      "Episode:25 meanR:25.3846 R:16.0000 rate:0.0320 gloss:0.6023 dlossA:0.6557 dlossQ:0.9984 exploreP:0.9368\n",
      "Episode:26 meanR:25.0741 R:17.0000 rate:0.0340 gloss:0.5808 dlossA:0.6495 dlossQ:0.9986 exploreP:0.9352\n",
      "Episode:27 meanR:24.8214 R:18.0000 rate:0.0360 gloss:0.5939 dlossA:0.6541 dlossQ:0.9991 exploreP:0.9335\n",
      "Episode:28 meanR:24.6552 R:20.0000 rate:0.0400 gloss:0.5823 dlossA:0.6501 dlossQ:0.9948 exploreP:0.9317\n",
      "Episode:29 meanR:25.0333 R:36.0000 rate:0.0720 gloss:0.5720 dlossA:0.6469 dlossQ:0.9878 exploreP:0.9284\n",
      "Episode:30 meanR:24.9355 R:22.0000 rate:0.0440 gloss:0.5740 dlossA:0.6462 dlossQ:0.9883 exploreP:0.9264\n",
      "Episode:31 meanR:25.0312 R:28.0000 rate:0.0560 gloss:0.5620 dlossA:0.6440 dlossQ:0.9918 exploreP:0.9238\n",
      "Episode:32 meanR:24.8485 R:19.0000 rate:0.0380 gloss:0.6017 dlossA:0.6579 dlossQ:0.9985 exploreP:0.9221\n",
      "Episode:33 meanR:24.5882 R:16.0000 rate:0.0320 gloss:0.6017 dlossA:0.6542 dlossQ:1.0029 exploreP:0.9206\n",
      "Episode:34 meanR:26.0000 R:74.0000 rate:0.1480 gloss:0.5932 dlossA:0.6524 dlossQ:0.9971 exploreP:0.9139\n",
      "Episode:35 meanR:26.1111 R:30.0000 rate:0.0600 gloss:0.5781 dlossA:0.6503 dlossQ:0.9897 exploreP:0.9112\n",
      "Episode:36 meanR:26.1892 R:29.0000 rate:0.0580 gloss:0.5760 dlossA:0.6497 dlossQ:0.9927 exploreP:0.9086\n",
      "Episode:37 meanR:25.8158 R:12.0000 rate:0.0240 gloss:0.5868 dlossA:0.6510 dlossQ:0.9983 exploreP:0.9075\n",
      "Episode:38 meanR:25.4103 R:10.0000 rate:0.0200 gloss:0.5640 dlossA:0.6463 dlossQ:0.9810 exploreP:0.9066\n",
      "Episode:39 meanR:25.1250 R:14.0000 rate:0.0280 gloss:0.6135 dlossA:0.6601 dlossQ:0.9957 exploreP:0.9053\n",
      "Episode:40 meanR:24.7561 R:10.0000 rate:0.0200 gloss:0.5881 dlossA:0.6493 dlossQ:0.9924 exploreP:0.9044\n",
      "Episode:41 meanR:25.3333 R:49.0000 rate:0.0980 gloss:0.5875 dlossA:0.6518 dlossQ:0.9911 exploreP:0.9001\n",
      "Episode:42 meanR:25.2791 R:23.0000 rate:0.0460 gloss:0.5728 dlossA:0.6477 dlossQ:0.9818 exploreP:0.8980\n",
      "Episode:43 meanR:26.1136 R:62.0000 rate:0.1240 gloss:0.5729 dlossA:0.6460 dlossQ:0.9829 exploreP:0.8925\n",
      "Episode:44 meanR:26.2667 R:33.0000 rate:0.0660 gloss:0.5698 dlossA:0.6450 dlossQ:0.9848 exploreP:0.8896\n",
      "Episode:45 meanR:26.4348 R:34.0000 rate:0.0680 gloss:0.5710 dlossA:0.6457 dlossQ:0.9831 exploreP:0.8866\n",
      "Episode:46 meanR:27.0213 R:54.0000 rate:0.1080 gloss:0.5578 dlossA:0.6435 dlossQ:0.9804 exploreP:0.8819\n",
      "Episode:47 meanR:26.7292 R:13.0000 rate:0.0260 gloss:0.5983 dlossA:0.6522 dlossQ:0.9935 exploreP:0.8808\n",
      "Episode:48 meanR:26.5306 R:17.0000 rate:0.0340 gloss:0.5670 dlossA:0.6460 dlossQ:0.9791 exploreP:0.8793\n",
      "Episode:49 meanR:26.6600 R:33.0000 rate:0.0660 gloss:0.5979 dlossA:0.6559 dlossQ:0.9941 exploreP:0.8765\n",
      "Episode:50 meanR:26.4118 R:14.0000 rate:0.0280 gloss:0.5863 dlossA:0.6521 dlossQ:0.9915 exploreP:0.8752\n",
      "Episode:51 meanR:26.9231 R:53.0000 rate:0.1060 gloss:0.5660 dlossA:0.6449 dlossQ:0.9889 exploreP:0.8707\n",
      "Episode:52 meanR:26.7925 R:20.0000 rate:0.0400 gloss:0.5688 dlossA:0.6475 dlossQ:0.9755 exploreP:0.8689\n",
      "Episode:53 meanR:27.6667 R:74.0000 rate:0.1480 gloss:0.5684 dlossA:0.6463 dlossQ:0.9820 exploreP:0.8626\n",
      "Episode:54 meanR:27.5636 R:22.0000 rate:0.0440 gloss:0.5402 dlossA:0.6389 dlossQ:0.9689 exploreP:0.8607\n",
      "Episode:55 meanR:27.6071 R:30.0000 rate:0.0600 gloss:0.5722 dlossA:0.6472 dlossQ:0.9832 exploreP:0.8582\n",
      "Episode:56 meanR:27.4211 R:17.0000 rate:0.0340 gloss:0.5388 dlossA:0.6420 dlossQ:0.9714 exploreP:0.8567\n",
      "Episode:57 meanR:27.5862 R:37.0000 rate:0.0740 gloss:0.5663 dlossA:0.6467 dlossQ:0.9779 exploreP:0.8536\n",
      "Episode:58 meanR:28.4407 R:78.0000 rate:0.1560 gloss:0.5664 dlossA:0.6456 dlossQ:0.9768 exploreP:0.8471\n",
      "Episode:59 meanR:28.2333 R:16.0000 rate:0.0320 gloss:0.5449 dlossA:0.6390 dlossQ:0.9637 exploreP:0.8457\n",
      "Episode:60 meanR:28.2623 R:30.0000 rate:0.0600 gloss:0.5413 dlossA:0.6393 dlossQ:0.9675 exploreP:0.8432\n",
      "Episode:61 meanR:28.5000 R:43.0000 rate:0.0860 gloss:0.5471 dlossA:0.6414 dlossQ:0.9663 exploreP:0.8397\n",
      "Episode:62 meanR:28.7143 R:42.0000 rate:0.0840 gloss:0.5323 dlossA:0.6380 dlossQ:0.9672 exploreP:0.8362\n",
      "Episode:63 meanR:29.3750 R:71.0000 rate:0.1420 gloss:0.5496 dlossA:0.6415 dlossQ:0.9683 exploreP:0.8303\n",
      "Episode:64 meanR:29.1077 R:12.0000 rate:0.0240 gloss:0.5560 dlossA:0.6435 dlossQ:0.9692 exploreP:0.8293\n",
      "Episode:65 meanR:28.9394 R:18.0000 rate:0.0360 gloss:0.5382 dlossA:0.6379 dlossQ:0.9686 exploreP:0.8279\n",
      "Episode:66 meanR:28.7463 R:16.0000 rate:0.0320 gloss:0.5479 dlossA:0.6424 dlossQ:0.9663 exploreP:0.8266\n",
      "Episode:67 meanR:28.5000 R:12.0000 rate:0.0240 gloss:0.5277 dlossA:0.6377 dlossQ:0.9709 exploreP:0.8256\n",
      "Episode:68 meanR:28.4058 R:22.0000 rate:0.0440 gloss:0.5525 dlossA:0.6436 dlossQ:0.9730 exploreP:0.8238\n",
      "Episode:69 meanR:28.1714 R:12.0000 rate:0.0240 gloss:0.5484 dlossA:0.6446 dlossQ:0.9722 exploreP:0.8228\n",
      "Episode:70 meanR:28.0141 R:17.0000 rate:0.0340 gloss:0.5264 dlossA:0.6318 dlossQ:0.9692 exploreP:0.8214\n",
      "Episode:71 meanR:27.8472 R:16.0000 rate:0.0320 gloss:0.5518 dlossA:0.6399 dlossQ:0.9666 exploreP:0.8201\n",
      "Episode:72 meanR:27.7123 R:18.0000 rate:0.0360 gloss:0.5471 dlossA:0.6436 dlossQ:0.9724 exploreP:0.8187\n",
      "Episode:73 meanR:27.6486 R:23.0000 rate:0.0460 gloss:0.5605 dlossA:0.6421 dlossQ:0.9602 exploreP:0.8168\n",
      "Episode:74 meanR:27.5867 R:23.0000 rate:0.0460 gloss:0.5445 dlossA:0.6429 dlossQ:0.9768 exploreP:0.8150\n",
      "Episode:75 meanR:27.7500 R:40.0000 rate:0.0800 gloss:0.5618 dlossA:0.6465 dlossQ:0.9754 exploreP:0.8118\n",
      "Episode:76 meanR:27.8312 R:34.0000 rate:0.0680 gloss:0.5475 dlossA:0.6371 dlossQ:1.0152 exploreP:0.8090\n",
      "Episode:77 meanR:28.1667 R:54.0000 rate:0.1080 gloss:0.5519 dlossA:0.6417 dlossQ:0.9718 exploreP:0.8047\n",
      "Episode:78 meanR:28.1392 R:26.0000 rate:0.0520 gloss:0.5534 dlossA:0.6426 dlossQ:0.9709 exploreP:0.8027\n"
     ]
    },
    {
     "name": "stdout",
     "output_type": "stream",
     "text": [
      "Episode:79 meanR:28.2750 R:39.0000 rate:0.0780 gloss:0.5451 dlossA:0.6408 dlossQ:0.9726 exploreP:0.7996\n",
      "Episode:80 meanR:28.7778 R:69.0000 rate:0.1380 gloss:0.5376 dlossA:0.6360 dlossQ:0.9674 exploreP:0.7942\n",
      "Episode:81 meanR:28.6585 R:19.0000 rate:0.0380 gloss:0.5199 dlossA:0.6317 dlossQ:0.9642 exploreP:0.7927\n",
      "Episode:82 meanR:28.7831 R:39.0000 rate:0.0780 gloss:0.5477 dlossA:0.6410 dlossQ:0.9629 exploreP:0.7896\n",
      "Episode:83 meanR:29.3810 R:79.0000 rate:0.1580 gloss:0.5433 dlossA:0.6400 dlossQ:0.9652 exploreP:0.7835\n",
      "Episode:84 meanR:29.4941 R:39.0000 rate:0.0780 gloss:0.5499 dlossA:0.6415 dlossQ:0.9740 exploreP:0.7805\n",
      "Episode:85 meanR:29.3256 R:15.0000 rate:0.0300 gloss:0.5500 dlossA:0.6427 dlossQ:0.9731 exploreP:0.7793\n",
      "Episode:86 meanR:30.0920 R:96.0000 rate:0.1920 gloss:0.5302 dlossA:0.6368 dlossQ:0.9605 exploreP:0.7720\n",
      "Episode:87 meanR:30.0795 R:29.0000 rate:0.0580 gloss:0.5300 dlossA:0.6358 dlossQ:0.9672 exploreP:0.7698\n",
      "Episode:88 meanR:29.9551 R:19.0000 rate:0.0380 gloss:0.5438 dlossA:0.6393 dlossQ:0.9720 exploreP:0.7683\n",
      "Episode:89 meanR:30.2556 R:57.0000 rate:0.1140 gloss:0.5326 dlossA:0.6344 dlossQ:0.9753 exploreP:0.7640\n",
      "Episode:90 meanR:30.4615 R:49.0000 rate:0.0980 gloss:0.5173 dlossA:0.6340 dlossQ:0.9581 exploreP:0.7603\n",
      "Episode:91 meanR:30.7065 R:53.0000 rate:0.1060 gloss:0.5390 dlossA:0.6388 dlossQ:0.9635 exploreP:0.7564\n",
      "Episode:92 meanR:31.6989 R:123.0000 rate:0.2460 gloss:0.5275 dlossA:0.6362 dlossQ:0.9584 exploreP:0.7472\n",
      "Episode:93 meanR:31.4894 R:12.0000 rate:0.0240 gloss:0.5383 dlossA:0.6329 dlossQ:0.9744 exploreP:0.7463\n",
      "Episode:94 meanR:31.5158 R:34.0000 rate:0.0680 gloss:0.5394 dlossA:0.6376 dlossQ:0.9698 exploreP:0.7439\n",
      "Episode:95 meanR:31.3125 R:12.0000 rate:0.0240 gloss:0.5304 dlossA:0.6378 dlossQ:0.9701 exploreP:0.7430\n",
      "Episode:96 meanR:31.0825 R:9.0000 rate:0.0180 gloss:0.5143 dlossA:0.6371 dlossQ:0.9514 exploreP:0.7423\n",
      "Episode:97 meanR:31.5816 R:80.0000 rate:0.1600 gloss:0.5314 dlossA:0.6382 dlossQ:0.9585 exploreP:0.7365\n",
      "Episode:98 meanR:31.5556 R:29.0000 rate:0.0580 gloss:0.5402 dlossA:0.6342 dlossQ:0.9727 exploreP:0.7344\n",
      "Episode:99 meanR:31.3700 R:13.0000 rate:0.0260 gloss:0.5160 dlossA:0.6321 dlossQ:0.9640 exploreP:0.7334\n",
      "Episode:100 meanR:31.2200 R:11.0000 rate:0.0220 gloss:0.5305 dlossA:0.6312 dlossQ:0.9704 exploreP:0.7326\n",
      "Episode:101 meanR:31.1700 R:18.0000 rate:0.0360 gloss:0.5308 dlossA:0.6352 dlossQ:0.9688 exploreP:0.7313\n",
      "Episode:102 meanR:31.4400 R:49.0000 rate:0.0980 gloss:0.5314 dlossA:0.6367 dlossQ:0.9682 exploreP:0.7278\n",
      "Episode:103 meanR:32.2000 R:99.0000 rate:0.1980 gloss:0.5243 dlossA:0.6356 dlossQ:0.9596 exploreP:0.7207\n",
      "Episode:104 meanR:32.1400 R:27.0000 rate:0.0540 gloss:0.5110 dlossA:0.6307 dlossQ:0.9621 exploreP:0.7188\n",
      "Episode:105 meanR:32.4500 R:55.0000 rate:0.1100 gloss:0.5270 dlossA:0.6332 dlossQ:0.9562 exploreP:0.7149\n",
      "Episode:106 meanR:32.4400 R:19.0000 rate:0.0380 gloss:0.5172 dlossA:0.6312 dlossQ:0.9581 exploreP:0.7136\n",
      "Episode:107 meanR:32.3500 R:15.0000 rate:0.0300 gloss:0.5316 dlossA:0.6357 dlossQ:0.9648 exploreP:0.7125\n",
      "Episode:108 meanR:32.3000 R:31.0000 rate:0.0620 gloss:0.5273 dlossA:0.6339 dlossQ:0.9667 exploreP:0.7104\n",
      "Episode:109 meanR:32.3800 R:18.0000 rate:0.0360 gloss:0.5510 dlossA:0.6433 dlossQ:0.9740 exploreP:0.7091\n",
      "Episode:110 meanR:32.6100 R:44.0000 rate:0.0880 gloss:0.5323 dlossA:0.6373 dlossQ:0.9690 exploreP:0.7060\n",
      "Episode:111 meanR:33.1100 R:65.0000 rate:0.1300 gloss:0.5338 dlossA:0.6348 dlossQ:0.9622 exploreP:0.7015\n",
      "Episode:112 meanR:32.9700 R:15.0000 rate:0.0300 gloss:0.5405 dlossA:0.6391 dlossQ:0.9638 exploreP:0.7005\n",
      "Episode:113 meanR:33.2000 R:46.0000 rate:0.0920 gloss:0.5481 dlossA:0.6399 dlossQ:0.9849 exploreP:0.6973\n",
      "Episode:114 meanR:32.9700 R:25.0000 rate:0.0500 gloss:0.5132 dlossA:0.6319 dlossQ:0.9637 exploreP:0.6956\n",
      "Episode:115 meanR:32.8400 R:13.0000 rate:0.0260 gloss:0.5251 dlossA:0.6329 dlossQ:0.9854 exploreP:0.6947\n",
      "Episode:116 meanR:32.9200 R:30.0000 rate:0.0600 gloss:0.5253 dlossA:0.6310 dlossQ:0.9690 exploreP:0.6927\n",
      "Episode:117 meanR:33.0200 R:21.0000 rate:0.0420 gloss:0.5308 dlossA:0.6357 dlossQ:0.9717 exploreP:0.6912\n",
      "Episode:118 meanR:33.0300 R:20.0000 rate:0.0400 gloss:0.5446 dlossA:0.6382 dlossQ:0.9861 exploreP:0.6899\n",
      "Episode:119 meanR:33.5200 R:62.0000 rate:0.1240 gloss:0.5053 dlossA:0.6270 dlossQ:0.9708 exploreP:0.6857\n",
      "Episode:120 meanR:33.8700 R:54.0000 rate:0.1080 gloss:0.5278 dlossA:0.6341 dlossQ:0.9626 exploreP:0.6820\n",
      "Episode:121 meanR:33.5300 R:56.0000 rate:0.1120 gloss:0.5010 dlossA:0.6239 dlossQ:0.9642 exploreP:0.6783\n",
      "Episode:122 meanR:33.5400 R:17.0000 rate:0.0340 gloss:0.5193 dlossA:0.6327 dlossQ:0.9632 exploreP:0.6771\n",
      "Episode:123 meanR:34.3500 R:105.0000 rate:0.2100 gloss:0.5236 dlossA:0.6320 dlossQ:0.9858 exploreP:0.6702\n",
      "Episode:124 meanR:35.0700 R:99.0000 rate:0.1980 gloss:0.5239 dlossA:0.6339 dlossQ:0.9763 exploreP:0.6637\n",
      "Episode:125 meanR:35.2900 R:38.0000 rate:0.0760 gloss:0.5288 dlossA:0.6371 dlossQ:0.9671 exploreP:0.6612\n",
      "Episode:126 meanR:36.3500 R:123.0000 rate:0.2460 gloss:0.5158 dlossA:0.6298 dlossQ:0.9665 exploreP:0.6532\n",
      "Episode:127 meanR:38.4600 R:229.0000 rate:0.4580 gloss:0.5207 dlossA:0.6330 dlossQ:0.9745 exploreP:0.6387\n",
      "Episode:128 meanR:38.4200 R:16.0000 rate:0.0320 gloss:0.4802 dlossA:0.6198 dlossQ:0.9517 exploreP:0.6377\n",
      "Episode:129 meanR:38.3600 R:30.0000 rate:0.0600 gloss:0.5290 dlossA:0.6342 dlossQ:0.9899 exploreP:0.6358\n",
      "Episode:130 meanR:38.7500 R:61.0000 rate:0.1220 gloss:0.5340 dlossA:0.6341 dlossQ:0.9764 exploreP:0.6320\n",
      "Episode:131 meanR:39.1100 R:64.0000 rate:0.1280 gloss:0.4970 dlossA:0.6243 dlossQ:0.9693 exploreP:0.6280\n",
      "Episode:132 meanR:39.6100 R:69.0000 rate:0.1380 gloss:0.5006 dlossA:0.6288 dlossQ:0.9765 exploreP:0.6238\n",
      "Episode:133 meanR:40.5200 R:107.0000 rate:0.2140 gloss:0.5232 dlossA:0.6346 dlossQ:0.9878 exploreP:0.6172\n",
      "Episode:134 meanR:40.4600 R:68.0000 rate:0.1360 gloss:0.5181 dlossA:0.6301 dlossQ:0.9694 exploreP:0.6131\n",
      "Episode:135 meanR:40.4400 R:28.0000 rate:0.0560 gloss:0.5462 dlossA:0.6425 dlossQ:0.9926 exploreP:0.6114\n",
      "Episode:136 meanR:40.6600 R:51.0000 rate:0.1020 gloss:0.5416 dlossA:0.6389 dlossQ:0.9804 exploreP:0.6084\n",
      "Episode:137 meanR:40.8300 R:29.0000 rate:0.0580 gloss:0.5307 dlossA:0.6310 dlossQ:0.9925 exploreP:0.6066\n",
      "Episode:138 meanR:41.4600 R:73.0000 rate:0.1460 gloss:0.5282 dlossA:0.6361 dlossQ:0.9984 exploreP:0.6023\n",
      "Episode:139 meanR:42.9600 R:164.0000 rate:0.3280 gloss:0.5312 dlossA:0.6344 dlossQ:0.9878 exploreP:0.5927\n",
      "Episode:140 meanR:43.5500 R:69.0000 rate:0.1380 gloss:0.5205 dlossA:0.6354 dlossQ:0.9774 exploreP:0.5887\n",
      "Episode:141 meanR:43.4600 R:40.0000 rate:0.0800 gloss:0.5173 dlossA:0.6280 dlossQ:1.0015 exploreP:0.5863\n",
      "Episode:142 meanR:43.7000 R:47.0000 rate:0.0940 gloss:0.5001 dlossA:0.6273 dlossQ:0.9797 exploreP:0.5836\n",
      "Episode:143 meanR:43.5300 R:45.0000 rate:0.0900 gloss:0.5325 dlossA:0.6357 dlossQ:0.9904 exploreP:0.5811\n",
      "Episode:144 meanR:45.4600 R:226.0000 rate:0.4520 gloss:0.5128 dlossA:0.6305 dlossQ:0.9825 exploreP:0.5683\n",
      "Episode:145 meanR:45.9800 R:86.0000 rate:0.1720 gloss:0.5099 dlossA:0.6329 dlossQ:0.9921 exploreP:0.5635\n",
      "Episode:146 meanR:46.8400 R:140.0000 rate:0.2800 gloss:0.5173 dlossA:0.6298 dlossQ:0.9910 exploreP:0.5558\n",
      "Episode:147 meanR:48.9900 R:228.0000 rate:0.4560 gloss:0.5150 dlossA:0.6314 dlossQ:0.9897 exploreP:0.5435\n",
      "Episode:148 meanR:49.5700 R:75.0000 rate:0.1500 gloss:0.5379 dlossA:0.6378 dlossQ:0.9932 exploreP:0.5395\n",
      "Episode:149 meanR:50.4200 R:118.0000 rate:0.2360 gloss:0.5320 dlossA:0.6343 dlossQ:1.0036 exploreP:0.5333\n",
      "Episode:150 meanR:51.1400 R:86.0000 rate:0.1720 gloss:0.5277 dlossA:0.6403 dlossQ:0.9951 exploreP:0.5288\n",
      "Episode:151 meanR:53.5500 R:294.0000 rate:0.5880 gloss:0.5263 dlossA:0.6382 dlossQ:0.9913 exploreP:0.5138\n",
      "Episode:152 meanR:57.6700 R:432.0000 rate:0.8640 gloss:0.5293 dlossA:0.6364 dlossQ:0.9990 exploreP:0.4925\n",
      "Episode:153 meanR:59.4600 R:253.0000 rate:0.5060 gloss:0.5306 dlossA:0.6392 dlossQ:0.9984 exploreP:0.4805\n",
      "Episode:154 meanR:62.6100 R:337.0000 rate:0.6740 gloss:0.5421 dlossA:0.6423 dlossQ:0.9958 exploreP:0.4649\n",
      "Episode:155 meanR:63.6700 R:136.0000 rate:0.2720 gloss:0.5415 dlossA:0.6383 dlossQ:1.0016 exploreP:0.4587\n",
      "Episode:156 meanR:65.4900 R:199.0000 rate:0.3980 gloss:0.5376 dlossA:0.6416 dlossQ:1.0062 exploreP:0.4499\n",
      "Episode:157 meanR:70.1200 R:500.0000 rate:1.0000 gloss:0.5414 dlossA:0.6435 dlossQ:0.9977 exploreP:0.4284\n"
     ]
    },
    {
     "name": "stdout",
     "output_type": "stream",
     "text": [
      "Episode:158 meanR:70.5200 R:118.0000 rate:0.2360 gloss:0.5558 dlossA:0.6554 dlossQ:0.9947 exploreP:0.4235\n",
      "Episode:159 meanR:71.3200 R:96.0000 rate:0.1920 gloss:0.5705 dlossA:0.6578 dlossQ:0.9943 exploreP:0.4196\n",
      "Episode:160 meanR:71.3700 R:35.0000 rate:0.0700 gloss:0.5713 dlossA:0.6550 dlossQ:0.9952 exploreP:0.4181\n",
      "Episode:161 meanR:72.1800 R:124.0000 rate:0.2480 gloss:0.5527 dlossA:0.6509 dlossQ:0.9865 exploreP:0.4131\n",
      "Episode:162 meanR:72.6500 R:89.0000 rate:0.1780 gloss:0.5481 dlossA:0.6478 dlossQ:0.9885 exploreP:0.4095\n",
      "Episode:163 meanR:74.5000 R:256.0000 rate:0.5120 gloss:0.5643 dlossA:0.6555 dlossQ:0.9876 exploreP:0.3994\n",
      "Episode:164 meanR:74.6600 R:28.0000 rate:0.0560 gloss:0.5534 dlossA:0.6465 dlossQ:1.0032 exploreP:0.3983\n",
      "Episode:165 meanR:79.4800 R:500.0000 rate:1.0000 gloss:0.5700 dlossA:0.6605 dlossQ:0.9875 exploreP:0.3794\n",
      "Episode:166 meanR:84.3200 R:500.0000 rate:1.0000 gloss:0.5917 dlossA:0.6693 dlossQ:0.9796 exploreP:0.3614\n",
      "Episode:167 meanR:89.2000 R:500.0000 rate:1.0000 gloss:0.5941 dlossA:0.6733 dlossQ:0.9771 exploreP:0.3443\n",
      "Episode:168 meanR:93.1100 R:413.0000 rate:0.8260 gloss:0.6066 dlossA:0.6776 dlossQ:0.9739 exploreP:0.3307\n",
      "Episode:169 meanR:95.7300 R:274.0000 rate:0.5480 gloss:0.6197 dlossA:0.6859 dlossQ:0.9628 exploreP:0.3221\n",
      "Episode:170 meanR:100.5600 R:500.0000 rate:1.0000 gloss:0.6333 dlossA:0.6950 dlossQ:0.9553 exploreP:0.3068\n",
      "Episode:171 meanR:103.7000 R:330.0000 rate:0.6600 gloss:0.6410 dlossA:0.6984 dlossQ:0.9429 exploreP:0.2972\n",
      "Episode:172 meanR:107.5400 R:402.0000 rate:0.8040 gloss:0.6523 dlossA:0.7040 dlossQ:0.9479 exploreP:0.2859\n",
      "Episode:173 meanR:111.2600 R:395.0000 rate:0.7900 gloss:0.6619 dlossA:0.7103 dlossQ:0.9423 exploreP:0.2752\n",
      "Episode:174 meanR:116.0300 R:500.0000 rate:1.0000 gloss:0.6746 dlossA:0.7173 dlossQ:0.9368 exploreP:0.2623\n",
      "Episode:175 meanR:120.6300 R:500.0000 rate:1.0000 gloss:0.6947 dlossA:0.7210 dlossQ:0.9279 exploreP:0.2500\n",
      "Episode:176 meanR:125.2900 R:500.0000 rate:1.0000 gloss:0.7097 dlossA:0.7327 dlossQ:0.9147 exploreP:0.2383\n",
      "Episode:177 meanR:129.7500 R:500.0000 rate:1.0000 gloss:0.7346 dlossA:0.7447 dlossQ:0.9074 exploreP:0.2271\n",
      "Episode:178 meanR:134.4900 R:500.0000 rate:1.0000 gloss:0.7475 dlossA:0.7540 dlossQ:0.8961 exploreP:0.2165\n",
      "Episode:179 meanR:139.1000 R:500.0000 rate:1.0000 gloss:0.7715 dlossA:0.7668 dlossQ:0.8849 exploreP:0.2065\n",
      "Episode:180 meanR:143.4100 R:500.0000 rate:1.0000 gloss:0.7826 dlossA:0.7726 dlossQ:0.8748 exploreP:0.1969\n",
      "Episode:181 meanR:148.2200 R:500.0000 rate:1.0000 gloss:0.8094 dlossA:0.7885 dlossQ:0.8684 exploreP:0.1878\n",
      "Episode:182 meanR:152.8300 R:500.0000 rate:1.0000 gloss:0.8219 dlossA:0.7958 dlossQ:0.8604 exploreP:0.1791\n",
      "Episode:183 meanR:157.0400 R:500.0000 rate:1.0000 gloss:0.8406 dlossA:0.8103 dlossQ:0.8624 exploreP:0.1709\n",
      "Episode:184 meanR:161.6500 R:500.0000 rate:1.0000 gloss:0.8511 dlossA:0.8145 dlossQ:0.8519 exploreP:0.1630\n",
      "Episode:185 meanR:166.5000 R:500.0000 rate:1.0000 gloss:0.8750 dlossA:0.8316 dlossQ:0.8472 exploreP:0.1555\n",
      "Episode:186 meanR:170.5400 R:500.0000 rate:1.0000 gloss:0.8921 dlossA:0.8375 dlossQ:0.8418 exploreP:0.1484\n",
      "Episode:187 meanR:175.2500 R:500.0000 rate:1.0000 gloss:0.9091 dlossA:0.8498 dlossQ:0.8364 exploreP:0.1417\n",
      "Episode:188 meanR:180.0600 R:500.0000 rate:1.0000 gloss:0.9313 dlossA:0.8466 dlossQ:0.8300 exploreP:0.1353\n",
      "Episode:189 meanR:184.4900 R:500.0000 rate:1.0000 gloss:0.9550 dlossA:0.8806 dlossQ:0.8344 exploreP:0.1292\n",
      "Episode:190 meanR:189.0000 R:500.0000 rate:1.0000 gloss:0.9848 dlossA:0.8882 dlossQ:0.8258 exploreP:0.1234\n",
      "Episode:191 meanR:193.4700 R:500.0000 rate:1.0000 gloss:1.0080 dlossA:0.8950 dlossQ:0.8223 exploreP:0.1178\n",
      "Episode:192 meanR:197.2400 R:500.0000 rate:1.0000 gloss:1.0447 dlossA:0.9125 dlossQ:0.8203 exploreP:0.1126\n",
      "Episode:193 meanR:202.1200 R:500.0000 rate:1.0000 gloss:1.0788 dlossA:0.9168 dlossQ:0.8207 exploreP:0.1076\n",
      "Episode:194 meanR:206.7800 R:500.0000 rate:1.0000 gloss:1.1182 dlossA:0.9484 dlossQ:0.8166 exploreP:0.1028\n",
      "Episode:195 meanR:210.5700 R:391.0000 rate:0.7820 gloss:1.1468 dlossA:0.9953 dlossQ:0.8265 exploreP:0.0992\n",
      "Episode:196 meanR:215.4800 R:500.0000 rate:1.0000 gloss:1.1831 dlossA:1.0014 dlossQ:0.8301 exploreP:0.0949\n",
      "Episode:197 meanR:218.9400 R:426.0000 rate:0.8520 gloss:1.2227 dlossA:1.0282 dlossQ:0.8376 exploreP:0.0914\n",
      "Episode:198 meanR:223.6500 R:500.0000 rate:1.0000 gloss:1.2471 dlossA:1.0368 dlossQ:0.8451 exploreP:0.0874\n",
      "Episode:199 meanR:227.8000 R:428.0000 rate:0.8560 gloss:1.2881 dlossA:1.0598 dlossQ:0.8512 exploreP:0.0841\n",
      "Episode:200 meanR:232.6900 R:500.0000 rate:1.0000 gloss:1.3339 dlossA:1.0670 dlossQ:0.8569 exploreP:0.0805\n",
      "Episode:201 meanR:237.5100 R:500.0000 rate:1.0000 gloss:1.3819 dlossA:1.1007 dlossQ:0.8631 exploreP:0.0771\n",
      "Episode:202 meanR:242.0200 R:500.0000 rate:1.0000 gloss:1.4386 dlossA:1.1339 dlossQ:0.8700 exploreP:0.0738\n",
      "Episode:203 meanR:246.0300 R:500.0000 rate:1.0000 gloss:1.4842 dlossA:1.1459 dlossQ:0.8791 exploreP:0.0707\n",
      "Episode:204 meanR:250.7600 R:500.0000 rate:1.0000 gloss:1.5416 dlossA:1.2218 dlossQ:0.8809 exploreP:0.0677\n",
      "Episode:205 meanR:255.2100 R:500.0000 rate:1.0000 gloss:1.5859 dlossA:1.2252 dlossQ:0.8865 exploreP:0.0649\n",
      "Episode:206 meanR:260.0200 R:500.0000 rate:1.0000 gloss:1.6421 dlossA:1.2813 dlossQ:0.8901 exploreP:0.0622\n",
      "Episode:207 meanR:264.8700 R:500.0000 rate:1.0000 gloss:1.6972 dlossA:1.2630 dlossQ:0.8951 exploreP:0.0597\n",
      "Episode:208 meanR:269.3400 R:478.0000 rate:0.9560 gloss:1.7520 dlossA:1.3152 dlossQ:0.8959 exploreP:0.0574\n",
      "Episode:209 meanR:274.1600 R:500.0000 rate:1.0000 gloss:1.8126 dlossA:1.3654 dlossQ:0.8979 exploreP:0.0551\n",
      "Episode:210 meanR:278.7200 R:500.0000 rate:1.0000 gloss:1.8707 dlossA:1.4216 dlossQ:0.8983 exploreP:0.0529\n",
      "Episode:211 meanR:283.0700 R:500.0000 rate:1.0000 gloss:1.9309 dlossA:1.4869 dlossQ:0.8995 exploreP:0.0508\n",
      "Episode:212 meanR:287.9200 R:500.0000 rate:1.0000 gloss:1.9837 dlossA:1.4292 dlossQ:0.8971 exploreP:0.0488\n",
      "Episode:213 meanR:292.4600 R:500.0000 rate:1.0000 gloss:2.0699 dlossA:1.6070 dlossQ:0.8927 exploreP:0.0469\n",
      "Episode:214 meanR:297.2100 R:500.0000 rate:1.0000 gloss:2.1078 dlossA:1.5656 dlossQ:0.8924 exploreP:0.0451\n",
      "Episode:215 meanR:302.0800 R:500.0000 rate:1.0000 gloss:2.1840 dlossA:1.6274 dlossQ:0.8929 exploreP:0.0434\n",
      "Episode:216 meanR:306.7800 R:500.0000 rate:1.0000 gloss:2.2723 dlossA:1.7983 dlossQ:0.9001 exploreP:0.0418\n",
      "Episode:217 meanR:311.5700 R:500.0000 rate:1.0000 gloss:2.3250 dlossA:1.7324 dlossQ:0.8913 exploreP:0.0402\n",
      "Episode:218 meanR:316.3700 R:500.0000 rate:1.0000 gloss:2.3995 dlossA:1.8012 dlossQ:0.8899 exploreP:0.0387\n",
      "Episode:219 meanR:320.7500 R:500.0000 rate:1.0000 gloss:2.4818 dlossA:1.8885 dlossQ:0.8896 exploreP:0.0373\n",
      "Episode:220 meanR:325.2100 R:500.0000 rate:1.0000 gloss:2.5647 dlossA:1.9391 dlossQ:0.8923 exploreP:0.0360\n",
      "Episode:221 meanR:329.6500 R:500.0000 rate:1.0000 gloss:2.6529 dlossA:1.9999 dlossQ:0.8811 exploreP:0.0347\n",
      "Episode:222 meanR:334.4800 R:500.0000 rate:1.0000 gloss:2.7459 dlossA:2.1533 dlossQ:0.8922 exploreP:0.0335\n",
      "Episode:223 meanR:338.4300 R:500.0000 rate:1.0000 gloss:2.8162 dlossA:2.1321 dlossQ:0.8895 exploreP:0.0324\n",
      "Episode:224 meanR:342.4400 R:500.0000 rate:1.0000 gloss:2.9280 dlossA:2.2582 dlossQ:0.8946 exploreP:0.0313\n",
      "Episode:225 meanR:347.0600 R:500.0000 rate:1.0000 gloss:3.0072 dlossA:2.3152 dlossQ:0.8995 exploreP:0.0303\n",
      "Episode:226 meanR:350.8300 R:500.0000 rate:1.0000 gloss:3.1000 dlossA:2.3524 dlossQ:0.9087 exploreP:0.0293\n",
      "Episode:227 meanR:353.5400 R:500.0000 rate:1.0000 gloss:3.2323 dlossA:2.5247 dlossQ:0.8999 exploreP:0.0283\n",
      "Episode:228 meanR:358.3800 R:500.0000 rate:1.0000 gloss:3.3356 dlossA:2.6094 dlossQ:0.9188 exploreP:0.0274\n",
      "Episode:229 meanR:363.0800 R:500.0000 rate:1.0000 gloss:3.4396 dlossA:2.6561 dlossQ:0.9273 exploreP:0.0266\n",
      "Episode:230 meanR:367.4700 R:500.0000 rate:1.0000 gloss:3.5263 dlossA:2.6014 dlossQ:0.9209 exploreP:0.0258\n",
      "Episode:231 meanR:371.8300 R:500.0000 rate:1.0000 gloss:3.6778 dlossA:2.7607 dlossQ:0.9607 exploreP:0.0250\n",
      "Episode:232 meanR:376.1400 R:500.0000 rate:1.0000 gloss:3.8592 dlossA:3.0894 dlossQ:0.9749 exploreP:0.0243\n",
      "Episode:233 meanR:380.0700 R:500.0000 rate:1.0000 gloss:3.9427 dlossA:3.0567 dlossQ:0.9639 exploreP:0.0236\n",
      "Episode:234 meanR:384.3900 R:500.0000 rate:1.0000 gloss:4.1221 dlossA:3.2128 dlossQ:0.9996 exploreP:0.0229\n"
     ]
    },
    {
     "name": "stdout",
     "output_type": "stream",
     "text": [
      "Episode:235 meanR:389.1100 R:500.0000 rate:1.0000 gloss:4.2207 dlossA:3.1422 dlossQ:1.0622 exploreP:0.0223\n",
      "Episode:236 meanR:393.6000 R:500.0000 rate:1.0000 gloss:4.3874 dlossA:3.4297 dlossQ:1.0561 exploreP:0.0217\n",
      "Episode:237 meanR:398.3100 R:500.0000 rate:1.0000 gloss:4.5502 dlossA:3.6323 dlossQ:1.0640 exploreP:0.0211\n",
      "Episode:238 meanR:402.5800 R:500.0000 rate:1.0000 gloss:4.6843 dlossA:3.7229 dlossQ:1.1115 exploreP:0.0206\n",
      "Episode:239 meanR:405.9400 R:500.0000 rate:1.0000 gloss:4.8556 dlossA:3.9066 dlossQ:1.0985 exploreP:0.0201\n",
      "Episode:240 meanR:410.2500 R:500.0000 rate:1.0000 gloss:4.9085 dlossA:3.6755 dlossQ:1.1925 exploreP:0.0196\n",
      "Episode:241 meanR:414.8500 R:500.0000 rate:1.0000 gloss:5.0865 dlossA:3.8150 dlossQ:1.3273 exploreP:0.0191\n",
      "Episode:242 meanR:419.3800 R:500.0000 rate:1.0000 gloss:5.2599 dlossA:4.0215 dlossQ:1.2035 exploreP:0.0187\n",
      "Episode:243 meanR:423.9300 R:500.0000 rate:1.0000 gloss:5.4314 dlossA:3.9892 dlossQ:1.2832 exploreP:0.0182\n",
      "Episode:244 meanR:426.6700 R:500.0000 rate:1.0000 gloss:5.6090 dlossA:4.3504 dlossQ:1.4521 exploreP:0.0178\n",
      "Episode:245 meanR:430.8100 R:500.0000 rate:1.0000 gloss:5.7170 dlossA:4.3095 dlossQ:1.2613 exploreP:0.0174\n",
      "Episode:246 meanR:434.4100 R:500.0000 rate:1.0000 gloss:5.8811 dlossA:4.4498 dlossQ:1.3829 exploreP:0.0171\n",
      "Episode:247 meanR:437.1300 R:500.0000 rate:1.0000 gloss:5.9924 dlossA:4.2374 dlossQ:1.2817 exploreP:0.0167\n",
      "Episode:248 meanR:441.3800 R:500.0000 rate:1.0000 gloss:6.2907 dlossA:4.5336 dlossQ:1.3888 exploreP:0.0164\n",
      "Episode:249 meanR:445.2000 R:500.0000 rate:1.0000 gloss:6.5752 dlossA:4.9486 dlossQ:1.4971 exploreP:0.0161\n",
      "Episode:250 meanR:449.3400 R:500.0000 rate:1.0000 gloss:6.8114 dlossA:5.0379 dlossQ:1.6451 exploreP:0.0158\n",
      "Episode:251 meanR:451.4000 R:500.0000 rate:1.0000 gloss:7.0341 dlossA:5.1691 dlossQ:1.5718 exploreP:0.0155\n",
      "Episode:252 meanR:452.0800 R:500.0000 rate:1.0000 gloss:7.3494 dlossA:5.5208 dlossQ:1.6529 exploreP:0.0152\n",
      "Episode:253 meanR:454.5500 R:500.0000 rate:1.0000 gloss:7.4924 dlossA:5.0431 dlossQ:1.7907 exploreP:0.0150\n",
      "Episode:254 meanR:456.1800 R:500.0000 rate:1.0000 gloss:7.9868 dlossA:6.1221 dlossQ:1.9478 exploreP:0.0148\n",
      "Episode:255 meanR:459.8200 R:500.0000 rate:1.0000 gloss:8.1889 dlossA:5.8694 dlossQ:1.8215 exploreP:0.0145\n",
      "Episode:256 meanR:462.8300 R:500.0000 rate:1.0000 gloss:8.5416 dlossA:6.3683 dlossQ:2.2146 exploreP:0.0143\n",
      "Episode:257 meanR:462.8300 R:500.0000 rate:1.0000 gloss:8.8915 dlossA:6.7338 dlossQ:2.2013 exploreP:0.0141\n",
      "Episode:258 meanR:466.6500 R:500.0000 rate:1.0000 gloss:9.1326 dlossA:6.7290 dlossQ:2.4907 exploreP:0.0139\n",
      "Episode:259 meanR:470.6900 R:500.0000 rate:1.0000 gloss:9.4458 dlossA:6.9270 dlossQ:2.3023 exploreP:0.0137\n",
      "Episode:260 meanR:475.3400 R:500.0000 rate:1.0000 gloss:9.7010 dlossA:6.6440 dlossQ:2.9664 exploreP:0.0135\n",
      "Episode:261 meanR:479.1000 R:500.0000 rate:1.0000 gloss:9.9579 dlossA:7.2548 dlossQ:2.9965 exploreP:0.0133\n",
      "Episode:262 meanR:483.2100 R:500.0000 rate:1.0000 gloss:9.9704 dlossA:7.1517 dlossQ:3.4028 exploreP:0.0132\n",
      "Episode:263 meanR:485.6500 R:500.0000 rate:1.0000 gloss:10.2715 dlossA:7.4032 dlossQ:2.8325 exploreP:0.0130\n",
      "Episode:264 meanR:490.3700 R:500.0000 rate:1.0000 gloss:10.3187 dlossA:6.7177 dlossQ:2.8399 exploreP:0.0129\n",
      "Episode:265 meanR:490.3700 R:500.0000 rate:1.0000 gloss:10.8489 dlossA:7.3121 dlossQ:3.1795 exploreP:0.0127\n",
      "Episode:266 meanR:490.3700 R:500.0000 rate:1.0000 gloss:11.4006 dlossA:8.2921 dlossQ:3.4449 exploreP:0.0126\n",
      "Episode:267 meanR:490.3700 R:500.0000 rate:1.0000 gloss:11.3142 dlossA:7.2589 dlossQ:3.3361 exploreP:0.0125\n",
      "Episode:268 meanR:491.2400 R:500.0000 rate:1.0000 gloss:11.9440 dlossA:8.2094 dlossQ:3.6930 exploreP:0.0124\n",
      "Episode:269 meanR:493.5000 R:500.0000 rate:1.0000 gloss:12.1889 dlossA:7.8322 dlossQ:3.7161 exploreP:0.0122\n",
      "Episode:270 meanR:493.5000 R:500.0000 rate:1.0000 gloss:12.3106 dlossA:7.2216 dlossQ:4.7088 exploreP:0.0121\n",
      "Episode:271 meanR:495.2000 R:500.0000 rate:1.0000 gloss:12.7663 dlossA:7.9193 dlossQ:4.1039 exploreP:0.0120\n",
      "Episode:272 meanR:496.1800 R:500.0000 rate:1.0000 gloss:13.0097 dlossA:8.8802 dlossQ:5.1334 exploreP:0.0119\n",
      "Episode:273 meanR:497.2300 R:500.0000 rate:1.0000 gloss:13.2144 dlossA:8.7762 dlossQ:4.7410 exploreP:0.0118\n",
      "Episode:274 meanR:497.2300 R:500.0000 rate:1.0000 gloss:13.2490 dlossA:8.5557 dlossQ:5.6997 exploreP:0.0117\n",
      "Episode:275 meanR:497.2300 R:500.0000 rate:1.0000 gloss:13.4669 dlossA:8.5704 dlossQ:5.9549 exploreP:0.0117\n",
      "Episode:276 meanR:497.2300 R:500.0000 rate:1.0000 gloss:13.5531 dlossA:8.5640 dlossQ:5.3836 exploreP:0.0116\n",
      "Episode:277 meanR:497.2300 R:500.0000 rate:1.0000 gloss:14.3264 dlossA:9.7124 dlossQ:5.9820 exploreP:0.0115\n",
      "Episode:278 meanR:497.2300 R:500.0000 rate:1.0000 gloss:14.4429 dlossA:9.0979 dlossQ:5.7035 exploreP:0.0114\n",
      "Episode:279 meanR:497.2300 R:500.0000 rate:1.0000 gloss:14.6670 dlossA:9.0903 dlossQ:5.9171 exploreP:0.0114\n",
      "Episode:280 meanR:497.2300 R:500.0000 rate:1.0000 gloss:14.9903 dlossA:8.4888 dlossQ:6.0635 exploreP:0.0113\n",
      "Episode:281 meanR:497.2300 R:500.0000 rate:1.0000 gloss:15.8524 dlossA:9.9098 dlossQ:6.4091 exploreP:0.0112\n",
      "Episode:282 meanR:497.2300 R:500.0000 rate:1.0000 gloss:16.5047 dlossA:10.2630 dlossQ:6.9588 exploreP:0.0112\n",
      "Episode:283 meanR:497.2300 R:500.0000 rate:1.0000 gloss:16.8167 dlossA:10.3207 dlossQ:6.7568 exploreP:0.0111\n",
      "Episode:284 meanR:497.2300 R:500.0000 rate:1.0000 gloss:16.9494 dlossA:9.4821 dlossQ:8.7460 exploreP:0.0111\n",
      "Episode:285 meanR:497.2300 R:500.0000 rate:1.0000 gloss:17.5573 dlossA:10.0995 dlossQ:7.3253 exploreP:0.0110\n",
      "Episode:286 meanR:497.2300 R:500.0000 rate:1.0000 gloss:17.9539 dlossA:11.0365 dlossQ:8.1623 exploreP:0.0110\n",
      "Episode:287 meanR:497.2300 R:500.0000 rate:1.0000 gloss:18.2736 dlossA:10.5352 dlossQ:8.1577 exploreP:0.0109\n",
      "Episode:288 meanR:497.2300 R:500.0000 rate:1.0000 gloss:18.3187 dlossA:10.2876 dlossQ:8.6909 exploreP:0.0109\n",
      "Episode:289 meanR:497.2300 R:500.0000 rate:1.0000 gloss:18.6024 dlossA:10.7377 dlossQ:8.6171 exploreP:0.0108\n",
      "Episode:290 meanR:497.2300 R:500.0000 rate:1.0000 gloss:19.0791 dlossA:10.9595 dlossQ:8.9319 exploreP:0.0108\n",
      "Episode:291 meanR:497.2300 R:500.0000 rate:1.0000 gloss:19.3217 dlossA:10.6844 dlossQ:9.2755 exploreP:0.0107\n",
      "Episode:292 meanR:497.2300 R:500.0000 rate:1.0000 gloss:19.6581 dlossA:10.6525 dlossQ:10.5203 exploreP:0.0107\n",
      "Episode:293 meanR:497.2300 R:500.0000 rate:1.0000 gloss:19.1546 dlossA:9.4489 dlossQ:9.6800 exploreP:0.0107\n",
      "Episode:294 meanR:497.2300 R:500.0000 rate:1.0000 gloss:19.7039 dlossA:9.5040 dlossQ:10.0072 exploreP:0.0106\n",
      "Episode:295 meanR:498.3200 R:500.0000 rate:1.0000 gloss:20.5505 dlossA:10.5968 dlossQ:10.9125 exploreP:0.0106\n",
      "Episode:296 meanR:498.3200 R:500.0000 rate:1.0000 gloss:21.0787 dlossA:10.9046 dlossQ:13.0473 exploreP:0.0106\n",
      "Episode:297 meanR:499.0600 R:500.0000 rate:1.0000 gloss:20.6822 dlossA:10.5990 dlossQ:10.7602 exploreP:0.0106\n",
      "Episode:298 meanR:499.0600 R:500.0000 rate:1.0000 gloss:20.3570 dlossA:9.6810 dlossQ:11.7380 exploreP:0.0105\n",
      "Episode:299 meanR:499.7800 R:500.0000 rate:1.0000 gloss:20.3742 dlossA:9.3290 dlossQ:10.9090 exploreP:0.0105\n",
      "Episode:300 meanR:499.7800 R:500.0000 rate:1.0000 gloss:20.6425 dlossA:9.0032 dlossQ:10.5997 exploreP:0.0105\n",
      "Episode:301 meanR:499.7800 R:500.0000 rate:1.0000 gloss:21.7960 dlossA:10.6143 dlossQ:11.4606 exploreP:0.0105\n",
      "Episode:302 meanR:499.7800 R:500.0000 rate:1.0000 gloss:21.0015 dlossA:9.8007 dlossQ:16.2306 exploreP:0.0104\n",
      "Episode:303 meanR:499.7800 R:500.0000 rate:1.0000 gloss:19.9822 dlossA:9.0381 dlossQ:12.9812 exploreP:0.0104\n",
      "Episode:304 meanR:499.7800 R:500.0000 rate:1.0000 gloss:19.4073 dlossA:7.9517 dlossQ:12.4359 exploreP:0.0104\n",
      "Episode:305 meanR:499.7800 R:500.0000 rate:1.0000 gloss:19.7118 dlossA:8.7083 dlossQ:13.1686 exploreP:0.0104\n",
      "Episode:306 meanR:499.7800 R:500.0000 rate:1.0000 gloss:20.2475 dlossA:9.4178 dlossQ:13.4774 exploreP:0.0104\n",
      "Episode:307 meanR:499.7800 R:500.0000 rate:1.0000 gloss:20.0760 dlossA:8.6585 dlossQ:13.7362 exploreP:0.0103\n",
      "Episode:308 meanR:500.0000 R:500.0000 rate:1.0000 gloss:21.3559 dlossA:9.4138 dlossQ:13.4800 exploreP:0.0103\n"
     ]
    }
   ],
   "source": [
    "# Save/load the model and save for plotting\n",
    "saver = tf.train.Saver()\n",
    "episode_rewards_list = [] # goal\n",
    "rewards_list, gloss_list, dlossA_list, dlossQ_list = [], [], [], []\n",
    "\n",
    "# TF session for training\n",
    "with tf.Session(graph=graph) as sess:\n",
    "    sess.run(tf.global_variables_initializer())\n",
    "    #saver.restore(sess, 'checkpoints/model.ckpt')    \n",
    "    #saver.restore(sess, tf.train.latest_checkpoint('checkpoints'))\n",
    "    total_step = 0 # Explore or exploit parameter\n",
    "    episode_reward = deque(maxlen=100) # 100 episodes average/running average/running mean/window\n",
    "\n",
    "    # Training episodes/epochs\n",
    "    for ep in range(1111):\n",
    "        gloss_batch, dlossA_batch, dlossQ_batch= [], [], []\n",
    "        state = env.reset() # each episode\n",
    "        num_step = 0 # each episode\n",
    "        total_reward = 0 # each episode\n",
    "\n",
    "        # Training steps/batches\n",
    "        while True:\n",
    "            # Explore (Env) or Exploit (Model)\n",
    "            total_step += 1\n",
    "            explore_p = explore_stop + (explore_start - explore_stop) * np.exp(-decay_rate * total_step) \n",
    "            if explore_p > np.random.rand():\n",
    "                action = env.action_space.sample()\n",
    "                #print(action)\n",
    "            else:\n",
    "                action_logits = sess.run(model.actions_logits, feed_dict={model.states: state.reshape([1, -1])})\n",
    "                action = np.argmax(action_logits) # adding epsilon*noise\n",
    "                #print(action)\n",
    "            next_state, reward, done, _ = env.step(action)\n",
    "            memory.buffer.append([state, action, next_state, reward, float(done), -1])\n",
    "            num_step += 1 # momory added\n",
    "            total_reward += reward\n",
    "            state = next_state\n",
    "            \n",
    "            # Rating the last played episode\n",
    "            if done is True:\n",
    "                rate = total_reward/ goal # update rate at the end/ when episode is done\n",
    "                for idx in range(num_step): # episode length\n",
    "                    if memory.buffer[-1-idx][5] == -1: # double-check if it is empty and it is not rated!\n",
    "                        memory.buffer[-1-idx][5] = rate # rate each SA pair\n",
    "            \n",
    "            # Training using a max rated batch\n",
    "            idx = np.random.choice(np.arange(memory_size// batch_size))\n",
    "            batch = np.array(memory.buffer)[idx*batch_size:(idx+1)*batch_size]\n",
    "            rates = np.array([each[5] for each in batch])\n",
    "            batch = batch[rates >= (np.max(rates)*0.9)]\n",
    "            states = np.array([each[0] for each in batch])\n",
    "            actions = np.array([each[1] for each in batch])\n",
    "            next_states = np.array([each[2] for each in batch])\n",
    "            rewards = np.array([each[3] for each in batch])\n",
    "            dones = np.array([each[4] for each in batch])\n",
    "            rates = np.array([each[5] for each in batch])            \n",
    "            #print(states.shape, actions.shape, next_states.shape, rewards.shape, dones.shape, rates.shape)\n",
    "            nextQs_logits = sess.run(model.Qs_logits, feed_dict = {model.states: next_states})\n",
    "            #nextQs = np.max(nextQs_logits, axis=1) * (1-dones) # DQN\n",
    "            nextQs = nextQs_logits.reshape([-1]) * (1-dones) # DPG\n",
    "            targetQs = rewards + (gamma * nextQs)\n",
    "            gloss, dlossA, dlossQ, _, _, _ = sess.run([model.g_loss, model.d_lossA, model.d_lossQ, \n",
    "                                                       model.g_opt, model.d_optA, model.d_optQ],\n",
    "                                                      feed_dict = {model.states: states, \n",
    "                                                                   model.actions: actions,\n",
    "                                                                   model.targetQs: targetQs, \n",
    "                                                                   model.rates: rates})\n",
    "            gloss_batch.append(gloss)\n",
    "            dlossA_batch.append(dlossA)\n",
    "            dlossQ_batch.append(dlossQ)\n",
    "            if done is True:\n",
    "                break\n",
    "                \n",
    "        episode_reward.append(total_reward)\n",
    "        print('Episode:{}'.format(ep),\n",
    "              'meanR:{:.4f}'.format(np.mean(episode_reward)),\n",
    "              'R:{:.4f}'.format(total_reward),\n",
    "              'rate:{:.4f}'.format(rate),\n",
    "              'gloss:{:.4f}'.format(np.mean(gloss_batch)),\n",
    "              'dlossA:{:.4f}'.format(np.mean(dlossA_batch)),\n",
    "              'dlossQ:{:.4f}'.format(np.mean(dlossQ_batch)),\n",
    "              'exploreP:{:.4f}'.format(explore_p))\n",
    "\n",
    "        # Ploting out\n",
    "        episode_rewards_list.append([ep, np.mean(episode_reward)])\n",
    "        rewards_list.append([ep, total_reward])\n",
    "        gloss_list.append([ep, np.mean(gloss_batch)])\n",
    "        dlossA_list.append([ep, np.mean(dlossA_batch)])\n",
    "        dlossQ_list.append([ep, np.mean(dlossQ_batch)])\n",
    "        \n",
    "        # Break episode/epoch loop\n",
    "        ## Option 1: Solve the First Version\n",
    "        #The task is episodic, and in order to solve the environment, \n",
    "        #your agent must get an average score of +30 over 100 consecutive episodes.\n",
    "        if np.mean(episode_reward) >= goal:\n",
    "            break\n",
    "            \n",
    "    # At the end of all training episodes/epochs\n",
    "    saver.save(sess, 'checkpoints/model.ckpt')"
   ]
  },
  {
   "cell_type": "markdown",
   "metadata": {},
   "source": [
    "# Visualizing training\n",
    "\n",
    "Below I'll plot the total rewards for each episode. I'm plotting the rolling average too, in blue."
   ]
  },
  {
   "cell_type": "code",
   "execution_count": 24,
   "metadata": {},
   "outputs": [],
   "source": [
    "import matplotlib.pyplot as plt\n",
    "%matplotlib inline\n",
    "\n",
    "def running_mean(x, N):\n",
    "    cumsum = np.cumsum(np.insert(x, 0, 0)) \n",
    "    return (cumsum[N:] - cumsum[:-N]) / N "
   ]
  },
  {
   "cell_type": "code",
   "execution_count": 25,
   "metadata": {},
   "outputs": [
    {
     "data": {
      "text/plain": [
       "Text(0,0.5,'Total rewards')"
      ]
     },
     "execution_count": 25,
     "metadata": {},
     "output_type": "execute_result"
    },
    {
     "data": {
      "image/png": "[encoded data removed]",
      "text/plain": [
       "<Figure size 432x288 with 1 Axes>"
      ]
     },
     "metadata": {},
     "output_type": "display_data"
    }
   ],
   "source": [
    "eps, arr = np.array(episode_rewards_list).T\n",
    "smoothed_arr = running_mean(arr, 10)\n",
    "plt.plot(eps[-len(smoothed_arr):], smoothed_arr)\n",
    "plt.plot(eps, arr, color='grey', alpha=0.3)\n",
    "plt.xlabel('Episode')\n",
    "plt.ylabel('Total rewards')"
   ]
  },
  {
   "cell_type": "code",
   "execution_count": 26,
   "metadata": {},
   "outputs": [
    {
     "data": {
      "text/plain": [
       "Text(0,0.5,'Total rewards')"
      ]
     },
     "execution_count": 26,
     "metadata": {},
     "output_type": "execute_result"
    },
    {
     "data": {
      "image/png": "[encoded data removed]",
      "text/plain": [
       "<Figure size 432x288 with 1 Axes>"
      ]
     },
     "metadata": {},
     "output_type": "display_data"
    }
   ],
   "source": [
    "eps, arr = np.array(rewards_list).T\n",
    "smoothed_arr = running_mean(arr, 10)\n",
    "plt.plot(eps[-len(smoothed_arr):], smoothed_arr)\n",
    "plt.plot(eps, arr, color='grey', alpha=0.3)\n",
    "plt.xlabel('Episode')\n",
    "plt.ylabel('Total rewards')"
   ]
  },
  {
   "cell_type": "code",
   "execution_count": 27,
   "metadata": {},
   "outputs": [
    {
     "ename": "SyntaxError",
     "evalue": "invalid syntax (<ipython-input-27-a0b0af09d9f3>, line 6)",
     "output_type": "error",
     "traceback": [
      "\u001b[0;36m  File \u001b[0;32m\"<ipython-input-27-a0b0af09d9f3>\"\u001b[0;36m, line \u001b[0;32m6\u001b[0m\n\u001b[0;31m    plt.ylabel('G losses')`\u001b[0m\n\u001b[0m                          ^\u001b[0m\n\u001b[0;31mSyntaxError\u001b[0m\u001b[0;31m:\u001b[0m invalid syntax\n"
     ]
    }
   ],
   "source": [
    "eps, arr = np.array(gloss_list).T\n",
    "smoothed_arr = running_mean(arr, 10)\n",
    "plt.plot(eps[-len(smoothed_arr):], smoothed_arr)\n",
    "plt.plot(eps, arr, color='grey', alpha=0.3)\n",
    "plt.xlabel('Episode')\n",
    "plt.ylabel('G losses')`"
   ]
  },
  {
   "cell_type": "code",
   "execution_count": 67,
   "metadata": {},
   "outputs": [],
   "source": [
    "eps, arr = np.array(dlossA_list).T\n",
    "smoothed_arr = running_mean(arr, 10)\n",
    "plt.plot(eps[-len(smoothed_arr):], smoothed_arr)\n",
    "plt.plot(eps, arr, color='grey', alpha=0.3)\n",
    "plt.xlabel('Episode')\n",
    "plt.ylabel('D losses')"
   ]
  },
  {
   "cell_type": "code",
   "execution_count": null,
   "metadata": {},
   "outputs": [],
   "source": [
    "eps, arr = np.array(dlossQ_list).T\n",
    "smoothed_arr = running_mean(arr, 10)\n",
    "plt.plot(eps[-len(smoothed_arr):], smoothed_arr)\n",
    "plt.plot(eps, arr, color='grey', alpha=0.3)\n",
    "plt.xlabel('Episode')\n",
    "plt.ylabel('D losses')"
   ]
  },
  {
   "cell_type": "markdown",
   "metadata": {},
   "source": [
    "## Testing\n",
    "\n",
    "Let's checkout how our trained agent plays the game."
   ]
  },
  {
   "cell_type": "code",
   "execution_count": 36,
   "metadata": {},
   "outputs": [
    {
     "name": "stdout",
     "output_type": "stream",
     "text": [
      "\u001b[33mWARN: gym.spaces.Box autodetected dtype as <class 'numpy.float32'>. Please provide explicit dtype.\u001b[0m\n",
      "\u001b[33mWARN: gym.spaces.Box autodetected dtype as <class 'numpy.float32'>. Please provide explicit dtype.\u001b[0m\n",
      "INFO:tensorflow:Restoring parameters from checkpoints/model.ckpt\n"
     ]
    },
    {
     "name": "stderr",
     "output_type": "stream",
     "text": [
      "/home/arasdar/anaconda3/envs/env/lib/python3.6/site-packages/gym/__init__.py:22: UserWarning: DEPRECATION WARNING: to improve load times, gym no longer automatically loads gym.spaces. Please run \"import gym.spaces\" to load gym.spaces on your own. This warning will turn into an error in a future version of gym.\n",
      "  warnings.warn('DEPRECATION WARNING: to improve load times, gym no longer automatically loads gym.spaces. Please run \"import gym.spaces\" to load gym.spaces on your own. This warning will turn into an error in a future version of gym.')\n"
     ]
    },
    {
     "name": "stdout",
     "output_type": "stream",
     "text": [
      "total_reward: 500.0\n"
     ]
    }
   ],
   "source": [
    "import gym\n",
    "env = gym.make('CartPole-v0')\n",
    "env = gym.make('CartPole-v1')\n",
    "# env = gym.make('Acrobot-v1')\n",
    "# env = gym.make('MountainCar-v0')\n",
    "# env = gym.make('Pendulum-v0')\n",
    "# env = gym.make('Blackjack-v0')\n",
    "# env = gym.make('FrozenLake-v0')\n",
    "# env = gym.make('AirRaid-ram-v0')\n",
    "# env = gym.make('AirRaid-v0')\n",
    "# env = gym.make('BipedalWalker-v2')\n",
    "# env = gym.make('Copy-v0')\n",
    "# env = gym.make('CarRacing-v0')\n",
    "# env = gym.make('Ant-v2') #mujoco\n",
    "# env = gym.make('FetchPickAndPlace-v1') # mujoco required!\n",
    "\n",
    "with tf.Session() as sess:\n",
    "    sess.run(tf.global_variables_initializer())\n",
    "    saver.restore(sess, 'checkpoints/model.ckpt')    \n",
    "    #saver.restore(sess, tf.train.latest_checkpoint('checkpoints'))\n",
    "    \n",
    "    # Episodes/epochs\n",
    "    for _ in range(1):\n",
    "        state = env.reset()\n",
    "        total_reward = 0\n",
    "\n",
    "        # Steps/batches\n",
    "        while True:\n",
    "            env.render()\n",
    "            action_logits = sess.run(model.actions_logits, feed_dict={model.states: state.reshape([1, -1])})\n",
    "            action = np.argmax(action_logits)\n",
    "            state, reward, done, _ = env.step(action)\n",
    "            total_reward += reward\n",
    "            if done:\n",
    "                print('total_reward: {}'.format(total_reward))\n",
    "                break\n",
    "                \n",
    "env.close()"
   ]
  },
  {
   "cell_type": "markdown",
   "metadata": {},
   "source": [
    "## Extending this\n",
    "\n",
    "So, Cart-Pole is a pretty simple game. However, the same model can be used to train an agent to play something much more complicated like Pong or Space Invaders. Instead of a state like we're using here though, you'd want to use convolutional layers to get the state from the screen images.\n",
    "\n",
    "![Deep Q-Learning Atari](assets/atari-network.png)\n",
    "\n",
    "I'll leave it as a challenge for you to use deep Q-learning to train an agent to play Atari games. Here's the original paper which will get you started: http://www.davidqiu.com:8888/research/nature14236.pdf."
   ]
  },
  {
   "cell_type": "code",
   "execution_count": null,
   "metadata": {},
   "outputs": [],
   "source": []
  }
 ],
 "metadata": {
  "kernelspec": {
   "display_name": "Python 3",
   "language": "python",
   "name": "python3"
  },
  "language_info": {
   "codemirror_mode": {
    "name": "ipython",
    "version": 3
   },
   "file_extension": ".py",
   "mimetype": "text/x-python",
   "name": "python",
   "nbconvert_exporter": "python",
   "pygments_lexer": "ipython3",
   "version": "3.6.5"
  }
 },
 "nbformat": 4,
 "nbformat_minor": 2
}
