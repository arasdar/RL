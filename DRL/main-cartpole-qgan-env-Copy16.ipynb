{
 "cells": [
  {
   "cell_type": "code",
   "execution_count": 1,
   "metadata": {},
   "outputs": [
    {
     "name": "stdout",
     "output_type": "stream",
     "text": [
      "TensorFlow Version: 1.7.1\n",
      "Default GPU Device: \n"
     ]
    }
   ],
   "source": [
    "import tensorflow as tf\n",
    "print('TensorFlow Version: {}'.format(tf.__version__))\n",
    "print('Default GPU Device: {}'.format(tf.test.gpu_device_name()))"
   ]
  },
  {
   "cell_type": "markdown",
   "metadata": {},
   "source": [
    "##### >**Note:** Make sure you have OpenAI Gym cloned. Then run this command `pip install -e gym/[all]`."
   ]
  },
  {
   "cell_type": "code",
   "execution_count": 2,
   "metadata": {},
   "outputs": [],
   "source": [
    "import numpy as np\n",
    "import gym\n",
    "env = gym.make('CartPole-v0')\n",
    "env = gym.make('CartPole-v1')"
   ]
  },
  {
   "cell_type": "code",
   "execution_count": 3,
   "metadata": {},
   "outputs": [],
   "source": [
    "def model_input(state_size):\n",
    "    #states = tf.placeholder(tf.float32, [None, *state_size], name='states')\n",
    "    states = tf.placeholder(tf.float32, [None, state_size], name='states')\n",
    "    actions = tf.placeholder(tf.int32, [None], name='actions')\n",
    "    next_states = tf.placeholder(tf.float32, [None, state_size], name='next_states')\n",
    "    rewards = tf.placeholder(tf.float32, [None], name='rewards')\n",
    "    dones = tf.placeholder(tf.float32, [None], name='dones')\n",
    "    rates = tf.placeholder(tf.float32, [None], name='rates') # success rate\n",
    "    return states, actions, next_states, rewards, dones, rates"
   ]
  },
  {
   "cell_type": "code",
   "execution_count": 4,
   "metadata": {},
   "outputs": [],
   "source": [
    "def Act(states, action_size, hidden_size, reuse=False, alpha=0.1, training=False):\n",
    "    with tf.variable_scope('Act', reuse=reuse):\n",
    "        # First fully connected layer\n",
    "        h1 = tf.layers.dense(inputs=states, units=hidden_size)\n",
    "        bn1 = tf.layers.batch_normalization(h1, training=training)        \n",
    "        nl1 = tf.maximum(alpha * bn1, bn1)\n",
    "        \n",
    "        # Second fully connected layer\n",
    "        h2 = tf.layers.dense(inputs=nl1, units=hidden_size)\n",
    "        bn2 = tf.layers.batch_normalization(h2, training=training)        \n",
    "        nl2 = tf.maximum(alpha * bn2, bn2)\n",
    "        \n",
    "        # Output layer\n",
    "        logits = tf.layers.dense(inputs=nl2, units=action_size)        \n",
    "        return logits"
   ]
  },
  {
   "cell_type": "code",
   "execution_count": 5,
   "metadata": {},
   "outputs": [],
   "source": [
    "def Env(states, actions, state_size, action_size, hidden_size, reuse=False, alpha=0.1, training=False):\n",
    "    with tf.variable_scope('Env', reuse=reuse):\n",
    "        # First fully connected layer\n",
    "        h1 = tf.layers.dense(inputs=states, units=action_size)\n",
    "        bn1 = tf.layers.batch_normalization(h1, training=training)        \n",
    "        nl1 = tf.maximum(alpha * bn1, bn1)\n",
    "        \n",
    "        # Second fully connected layer\n",
    "        nl1_fused = tf.concat(axis=1, values=[nl1, actions])\n",
    "        h2 = tf.layers.dense(inputs=nl1_fused, units=hidden_size)\n",
    "        bn2 = tf.layers.batch_normalization(h2, training=training)        \n",
    "        nl2 = tf.maximum(alpha * bn2, bn2)\n",
    "                \n",
    "        # Output layer\n",
    "        states_logits = tf.layers.dense(inputs=nl2, units=state_size, trainable=False)\n",
    "        Qlogits = tf.layers.dense(inputs=nl2, units=1, trainable=False)\n",
    "        return states_logits, Qlogits"
   ]
  },
  {
   "cell_type": "code",
   "execution_count": 6,
   "metadata": {},
   "outputs": [],
   "source": [
    "def model_loss(state_size, action_size, hidden_size, gamma,\n",
    "               states, actions, next_states, rewards, dones, rates):\n",
    "    ################################################ a = act(s)\n",
    "    actions_logits = Act(states=states, hidden_size=hidden_size, action_size=action_size)\n",
    "    actions_labels = tf.one_hot(indices=actions, depth=action_size, dtype=actions_logits.dtype)\n",
    "    aloss = tf.reduce_mean(tf.nn.softmax_cross_entropy_with_logits_v2(logits=actions_logits, \n",
    "                                                                      labels=actions_labels))\n",
    "    ################################################ s', r = env(s, a)\n",
    "    ################################################ s', Q = env(s, a)\n",
    "    ################################################ ~s', ~Q = env(s, ~a)\n",
    "    e_next_states_logits, eQs = Env(actions=actions_labels, states=states, hidden_size=hidden_size, \n",
    "                                    action_size=action_size, state_size=state_size)\n",
    "    a_next_states_logits, aQs = Env(actions=actions_logits, states=states, hidden_size=hidden_size, \n",
    "                                    action_size=action_size, state_size=state_size, reuse=True)\n",
    "    next_states_labels = tf.nn.sigmoid(next_states)\n",
    "    eloss = tf.reduce_mean(tf.nn.sigmoid_cross_entropy_with_logits(logits=e_next_states_logits, \n",
    "                                                                   labels=next_states_labels)) # real loss\n",
    "    eloss += -tf.reduce_mean(tf.nn.sigmoid_cross_entropy_with_logits(logits=a_next_states_logits, \n",
    "                                                                     labels=next_states_labels)) # maximize loss\n",
    "    aloss2 = tf.reduce_mean(tf.nn.sigmoid_cross_entropy_with_logits(logits=a_next_states_logits, \n",
    "                                                                    labels=next_states_labels)) # minimize loss\n",
    "    eQs_logits = tf.reshape(eQs, shape=[-1])\n",
    "    aQs_logits = tf.reshape(aQs, shape=[-1])\n",
    "    eloss += tf.reduce_mean(tf.nn.sigmoid_cross_entropy_with_logits(logits=eQs_logits, # GAN\n",
    "                                                                    labels=rates)) # 0-1 real\n",
    "    eloss += tf.reduce_mean(tf.nn.sigmoid_cross_entropy_with_logits(logits=aQs_logits, # GAN\n",
    "                                                                    labels=tf.zeros_like(rates))) # min\n",
    "    aloss2 += tf.reduce_mean(tf.nn.sigmoid_cross_entropy_with_logits(logits=aQs_logits, # GAN\n",
    "                                                                     labels=tf.ones_like(rates))) # max\n",
    "    #################################################### s'', Q' = ~env(s', ~a')\n",
    "    next_actions_logits = Act(states=next_states, hidden_size=hidden_size, action_size=action_size, reuse=True)\n",
    "    _, aQs2 = Env(actions=next_actions_logits, states=next_states, hidden_size=hidden_size, \n",
    "                  action_size=action_size, state_size=state_size, reuse=True)\n",
    "    aQs2_logits = tf.reshape(aQs2, shape=[-1]) * (1-dones)\n",
    "    eloss += tf.reduce_mean(tf.nn.sigmoid_cross_entropy_with_logits(logits=aQs2_logits, # GAN\n",
    "                                                                    labels=tf.zeros_like(rates))) # min\n",
    "    aloss2 += tf.reduce_mean(tf.nn.sigmoid_cross_entropy_with_logits(logits=aQs2_logits, # GAN\n",
    "                                                                     labels=tf.ones_like(rates))) # max\n",
    "#     ###################################################### Q(s,a)= r + Q'(s',a') # max\n",
    "#     ###################################################### ~Q(s,~a)= r # min\n",
    "#     ###################################################### ~Q(s,~a)= r + Q'(s',a') # max\n",
    "#     targetQs = rewards + (gamma * aQs2_logits)\n",
    "#     eloss += tf.reduce_mean(tf.square(eQs_logits - targetQs)) # real\n",
    "#     eloss += tf.reduce_mean(tf.square(aQs_logits - rewards)) # minimize Q\n",
    "#     aloss2 += tf.reduce_mean(tf.square(aQs_logits - targetQs)) # maximize Q\n",
    "#     eloss += tf.reduce_mean(targetQs) # minimize Q\n",
    "#     aloss2 += -tf.reduce_mean(targetQs) # maxizmie Q\n",
    "#     eloss += tf.reduce_mean(eQs_logits) # minimize Q\n",
    "#     aloss2 += -tf.reduce_mean(eQs_logits) # maxizmie Q\n",
    "    return actions_logits, aloss, eloss, aloss2"
   ]
  },
  {
   "cell_type": "code",
   "execution_count": 7,
   "metadata": {},
   "outputs": [],
   "source": [
    "def model_opt(a_loss, e_loss, a_loss2, a_learning_rate, e_learning_rate):\n",
    "    # Get weights and bias to update\n",
    "    t_vars = tf.trainable_variables()\n",
    "    a_vars = [var for var in t_vars if var.name.startswith('Act')]\n",
    "    e_vars = [var for var in t_vars if var.name.startswith('Env')]\n",
    "\n",
    "    # Optimize\n",
    "    with tf.control_dependencies(tf.get_collection(tf.GraphKeys.UPDATE_OPS)): # Required for batchnorm (BN)\n",
    "        a_opt = tf.train.AdamOptimizer(a_learning_rate).minimize(a_loss, var_list=a_vars)\n",
    "        e_opt = tf.train.AdamOptimizer(e_learning_rate).minimize(e_loss, var_list=e_vars)\n",
    "        a_opt2 = tf.train.AdamOptimizer(a_learning_rate).minimize(a_loss2, var_list=a_vars)\n",
    "    return a_opt, e_opt, a_opt2"
   ]
  },
  {
   "cell_type": "code",
   "execution_count": 8,
   "metadata": {},
   "outputs": [],
   "source": [
    "class Model:\n",
    "    def __init__(self, state_size, action_size, hidden_size, a_learning_rate, e_learning_rate, gamma):\n",
    "\n",
    "        # Data of the Model: make the data available inside the framework\n",
    "        self.states, self.actions, self.next_states, self.rewards, self.dones, self.rates = model_input(\n",
    "            state_size=state_size)\n",
    "\n",
    "        # Create the Model: calculating the loss and forwad pass\n",
    "        self.actions_logits, self.a_loss, self.e_loss, self.a_loss2 = model_loss(\n",
    "            state_size=state_size, action_size=action_size, hidden_size=hidden_size, gamma=gamma, # model init\n",
    "            states=self.states, actions=self.actions, next_states=self.next_states, \n",
    "            rewards=self.rewards, dones=self.dones, rates=self.rates) # model input\n",
    "        \n",
    "        # Update the model: backward pass and backprop\n",
    "        self.a_opt, self.e_opt, self.a_opt2 = model_opt(a_loss=self.a_loss, \n",
    "                                                        e_loss=self.e_loss,\n",
    "                                                        a_loss2=self.a_loss2, \n",
    "                                                        a_learning_rate=a_learning_rate,\n",
    "                                                        e_learning_rate=e_learning_rate)"
   ]
  },
  {
   "cell_type": "code",
   "execution_count": 9,
   "metadata": {},
   "outputs": [],
   "source": [
    "from collections import deque\n",
    "class Memory():\n",
    "    def __init__(self, max_size = 1000):\n",
    "        self.buffer = deque(maxlen=max_size) # data batch\n",
    "#     def sample(self, batch_size):\n",
    "#         idx = np.random.choice(np.arange(len(self.buffer)), size=batch_size, replace=False)\n",
    "#         return [self.buffer[ii] for ii in idx]"
   ]
  },
  {
   "cell_type": "markdown",
   "metadata": {},
   "source": [
    "## Hyperparameters\n",
    "\n",
    "One of the more difficult aspects of reinforcememt learning are the large number of hyperparameters. Not only are we tuning the network, but we're tuning the simulation."
   ]
  },
  {
   "cell_type": "code",
   "execution_count": 10,
   "metadata": {},
   "outputs": [
    {
     "data": {
      "text/plain": [
       "(Box(4,), Discrete(2))"
      ]
     },
     "execution_count": 10,
     "metadata": {},
     "output_type": "execute_result"
    }
   ],
   "source": [
    "env.observation_space, env.action_space"
   ]
  },
  {
   "cell_type": "code",
   "execution_count": 11,
   "metadata": {},
   "outputs": [],
   "source": [
    "# Exploration parameters\n",
    "explore_start = 1.0            # exploration probability at start\n",
    "explore_stop = 0.01           # minimum exploration probability \n",
    "decay_rate = 0.0001            # exponential decay rate for exploration prob\n",
    "\n",
    "# Network parameters\n",
    "state_size = 4\n",
    "action_size = 2\n",
    "hidden_size = 4*2             # number of units in each Q-network hidden layer\n",
    "a_learning_rate = 1e-4         # Q-network learning rate\n",
    "e_learning_rate = 1e-4         # Q-network learning rate\n",
    "\n",
    "# Memory parameters\n",
    "memory_size = int(1e5)            # memory capacity\n",
    "batch_size = int(1e3)             # experience mini-batch size\n",
    "gamma=0.99"
   ]
  },
  {
   "cell_type": "code",
   "execution_count": 12,
   "metadata": {},
   "outputs": [],
   "source": [
    "# Reset/init the graph/session\n",
    "graph = tf.reset_default_graph()\n",
    "\n",
    "# Init the model\n",
    "model = Model(action_size=action_size, state_size=state_size, hidden_size=hidden_size, gamma=gamma,\n",
    "              a_learning_rate=a_learning_rate, e_learning_rate=e_learning_rate)\n",
    "\n",
    "# Init the memory\n",
    "memory = Memory(max_size=memory_size)"
   ]
  },
  {
   "cell_type": "code",
   "execution_count": 13,
   "metadata": {},
   "outputs": [],
   "source": [
    "state = env.reset()\n",
    "total_reward = 0\n",
    "num_step = 0\n",
    "for _ in range(memory_size):\n",
    "    action = env.action_space.sample()\n",
    "    next_state, reward, done, _ = env.step(action)\n",
    "    rate = -1\n",
    "    memory.buffer.append([state, action, next_state, reward, float(done), rate])\n",
    "    num_step += 1 # memory incremented\n",
    "    total_reward += reward\n",
    "    state = next_state\n",
    "    if done is True:\n",
    "        rate = total_reward/500\n",
    "        for idx in range(num_step): # episode length\n",
    "            if memory.buffer[-1-idx][-1] == -1:\n",
    "                memory.buffer[-1-idx][-1] = rate\n",
    "        state = env.reset()\n",
    "        total_reward = 0 # reset\n",
    "        num_step = 0 # reset"
   ]
  },
  {
   "cell_type": "markdown",
   "metadata": {},
   "source": [
    "## Training the model\n",
    "\n",
    "Below we'll train our agent. If you want to watch it train, uncomment the `env.render()` line. This is slow because it's rendering the frames slower than the network can train. But, it's cool to watch the agent get better at the game."
   ]
  },
  {
   "cell_type": "code",
   "execution_count": null,
   "metadata": {},
   "outputs": [
    {
     "name": "stdout",
     "output_type": "stream",
     "text": [
      "Episode:0 meanR:16.0000 R:16.0000 rate:0.0320 aloss:0.7005 eloss:2.5676 aloss2:2.0114 exploreP:0.9984\n",
      "Episode:1 meanR:19.5000 R:23.0000 rate:0.0460 aloss:0.6984 eloss:2.5581 aloss2:2.0186 exploreP:0.9961\n",
      "Episode:2 meanR:19.3333 R:19.0000 rate:0.0380 aloss:0.6981 eloss:2.5169 aloss2:2.0320 exploreP:0.9943\n",
      "Episode:3 meanR:21.5000 R:28.0000 rate:0.0560 aloss:0.6941 eloss:2.5139 aloss2:2.0377 exploreP:0.9915\n",
      "Episode:4 meanR:21.8000 R:23.0000 rate:0.0460 aloss:0.6980 eloss:2.4980 aloss2:2.0438 exploreP:0.9893\n",
      "Episode:5 meanR:20.5000 R:14.0000 rate:0.0280 aloss:0.6987 eloss:2.5075 aloss2:2.0360 exploreP:0.9879\n",
      "Episode:6 meanR:20.1429 R:18.0000 rate:0.0360 aloss:0.6938 eloss:2.4371 aloss2:2.0670 exploreP:0.9861\n",
      "Episode:7 meanR:20.1250 R:20.0000 rate:0.0400 aloss:0.6945 eloss:2.4760 aloss2:2.0454 exploreP:0.9842\n",
      "Episode:8 meanR:23.4444 R:50.0000 rate:0.1000 aloss:0.6965 eloss:2.3682 aloss2:2.0960 exploreP:0.9793\n",
      "Episode:9 meanR:23.2000 R:21.0000 rate:0.0420 aloss:0.6954 eloss:2.3518 aloss2:2.1011 exploreP:0.9773\n",
      "Episode:10 meanR:23.3636 R:25.0000 rate:0.0500 aloss:0.6968 eloss:2.3335 aloss2:2.1136 exploreP:0.9749\n",
      "Episode:11 meanR:25.9167 R:54.0000 rate:0.1080 aloss:0.6949 eloss:2.2943 aloss2:2.1295 exploreP:0.9697\n",
      "Episode:12 meanR:27.4615 R:46.0000 rate:0.0920 aloss:0.6899 eloss:2.2324 aloss2:2.1588 exploreP:0.9653\n",
      "Episode:13 meanR:28.5000 R:42.0000 rate:0.0840 aloss:0.6920 eloss:2.2058 aloss2:2.1724 exploreP:0.9613\n",
      "Episode:14 meanR:27.5333 R:14.0000 rate:0.0280 aloss:0.6937 eloss:2.1512 aloss2:2.1987 exploreP:0.9599\n",
      "Episode:15 meanR:26.6875 R:14.0000 rate:0.0280 aloss:0.6856 eloss:2.1765 aloss2:2.1815 exploreP:0.9586\n",
      "Episode:16 meanR:26.5882 R:25.0000 rate:0.0500 aloss:0.6889 eloss:2.1372 aloss2:2.2063 exploreP:0.9562\n",
      "Episode:17 meanR:26.6667 R:28.0000 rate:0.0560 aloss:0.6901 eloss:2.1029 aloss2:2.2248 exploreP:0.9536\n",
      "Episode:18 meanR:25.9474 R:13.0000 rate:0.0260 aloss:0.6848 eloss:2.0963 aloss2:2.2305 exploreP:0.9524\n",
      "Episode:19 meanR:25.8000 R:23.0000 rate:0.0460 aloss:0.6844 eloss:2.0981 aloss2:2.2279 exploreP:0.9502\n",
      "Episode:20 meanR:25.7619 R:25.0000 rate:0.0500 aloss:0.6821 eloss:2.0864 aloss2:2.2295 exploreP:0.9479\n",
      "Episode:21 meanR:25.9091 R:29.0000 rate:0.0580 aloss:0.6879 eloss:2.0406 aloss2:2.2607 exploreP:0.9451\n",
      "Episode:22 meanR:25.7391 R:22.0000 rate:0.0440 aloss:0.6857 eloss:2.0339 aloss2:2.2626 exploreP:0.9431\n",
      "Episode:23 meanR:25.3750 R:17.0000 rate:0.0340 aloss:0.6882 eloss:2.0294 aloss2:2.2592 exploreP:0.9415\n",
      "Episode:24 meanR:24.9600 R:15.0000 rate:0.0300 aloss:0.6848 eloss:1.9974 aloss2:2.2800 exploreP:0.9401\n",
      "Episode:25 meanR:24.4615 R:12.0000 rate:0.0240 aloss:0.6836 eloss:1.9819 aloss2:2.2950 exploreP:0.9390\n",
      "Episode:26 meanR:24.4074 R:23.0000 rate:0.0460 aloss:0.6810 eloss:1.9751 aloss2:2.2946 exploreP:0.9369\n",
      "Episode:27 meanR:25.3571 R:51.0000 rate:0.1020 aloss:0.6809 eloss:1.9651 aloss2:2.2953 exploreP:0.9321\n",
      "Episode:28 meanR:24.8966 R:12.0000 rate:0.0240 aloss:0.6795 eloss:1.9413 aloss2:2.3117 exploreP:0.9310\n",
      "Episode:29 meanR:24.5667 R:15.0000 rate:0.0300 aloss:0.6803 eloss:1.9447 aloss2:2.3011 exploreP:0.9297\n",
      "Episode:30 meanR:24.5161 R:23.0000 rate:0.0460 aloss:0.6830 eloss:1.9161 aloss2:2.3207 exploreP:0.9275\n",
      "Episode:31 meanR:24.2188 R:15.0000 rate:0.0300 aloss:0.6825 eloss:1.9161 aloss2:2.3199 exploreP:0.9262\n",
      "Episode:32 meanR:24.0606 R:19.0000 rate:0.0380 aloss:0.6791 eloss:1.9095 aloss2:2.3205 exploreP:0.9244\n",
      "Episode:33 meanR:23.8235 R:16.0000 rate:0.0320 aloss:0.6761 eloss:1.8896 aloss2:2.3311 exploreP:0.9230\n",
      "Episode:34 meanR:23.7143 R:20.0000 rate:0.0400 aloss:0.6815 eloss:1.8988 aloss2:2.3252 exploreP:0.9211\n",
      "Episode:35 meanR:23.9167 R:31.0000 rate:0.0620 aloss:0.6907 eloss:1.8729 aloss2:2.3389 exploreP:0.9183\n",
      "Episode:36 meanR:24.2432 R:36.0000 rate:0.0720 aloss:0.6797 eloss:1.8396 aloss2:2.3607 exploreP:0.9151\n",
      "Episode:37 meanR:23.9211 R:12.0000 rate:0.0240 aloss:0.6855 eloss:1.8555 aloss2:2.3455 exploreP:0.9140\n",
      "Episode:38 meanR:23.8718 R:22.0000 rate:0.0440 aloss:0.6754 eloss:1.8259 aloss2:2.3689 exploreP:0.9120\n",
      "Episode:39 meanR:24.0500 R:31.0000 rate:0.0620 aloss:0.6859 eloss:1.8246 aloss2:2.3619 exploreP:0.9092\n",
      "Episode:40 meanR:23.8049 R:14.0000 rate:0.0280 aloss:0.6905 eloss:1.8185 aloss2:2.3642 exploreP:0.9079\n",
      "Episode:41 meanR:24.1667 R:39.0000 rate:0.0780 aloss:0.6883 eloss:1.7900 aloss2:2.3883 exploreP:0.9044\n",
      "Episode:42 meanR:24.0000 R:17.0000 rate:0.0340 aloss:0.6871 eloss:1.7698 aloss2:2.4009 exploreP:0.9029\n",
      "Episode:43 meanR:23.6591 R:9.0000 rate:0.0180 aloss:0.6965 eloss:1.7845 aloss2:2.3925 exploreP:0.9021\n",
      "Episode:44 meanR:23.7556 R:28.0000 rate:0.0560 aloss:0.6785 eloss:1.7516 aloss2:2.4156 exploreP:0.8996\n",
      "Episode:45 meanR:24.1304 R:41.0000 rate:0.0820 aloss:0.6984 eloss:1.7379 aloss2:2.4258 exploreP:0.8960\n",
      "Episode:46 meanR:24.0426 R:20.0000 rate:0.0400 aloss:0.6796 eloss:1.7050 aloss2:2.4539 exploreP:0.8942\n",
      "Episode:47 meanR:23.7708 R:11.0000 rate:0.0220 aloss:0.6755 eloss:1.6991 aloss2:2.4540 exploreP:0.8932\n",
      "Episode:48 meanR:24.3673 R:53.0000 rate:0.1060 aloss:0.6986 eloss:1.7048 aloss2:2.4465 exploreP:0.8886\n",
      "Episode:49 meanR:24.6400 R:38.0000 rate:0.0760 aloss:0.6819 eloss:1.6717 aloss2:2.4726 exploreP:0.8852\n",
      "Episode:50 meanR:25.1961 R:53.0000 rate:0.1060 aloss:0.6839 eloss:1.6524 aloss2:2.4853 exploreP:0.8806\n",
      "Episode:51 meanR:24.9423 R:12.0000 rate:0.0240 aloss:0.7259 eloss:1.6433 aloss2:2.4880 exploreP:0.8796\n",
      "Episode:52 meanR:24.9811 R:27.0000 rate:0.0540 aloss:0.6865 eloss:1.6232 aloss2:2.5090 exploreP:0.8772\n",
      "Episode:53 meanR:24.8333 R:17.0000 rate:0.0340 aloss:0.6810 eloss:1.6232 aloss2:2.5096 exploreP:0.8758\n",
      "Episode:54 meanR:25.0182 R:35.0000 rate:0.0700 aloss:0.6869 eloss:1.6408 aloss2:2.4916 exploreP:0.8727\n",
      "Episode:55 meanR:24.7321 R:9.0000 rate:0.0180 aloss:0.6786 eloss:1.5937 aloss2:2.5336 exploreP:0.8720\n",
      "Episode:56 meanR:24.8070 R:29.0000 rate:0.0580 aloss:0.6902 eloss:1.5945 aloss2:2.5303 exploreP:0.8695\n",
      "Episode:57 meanR:24.8621 R:28.0000 rate:0.0560 aloss:0.6815 eloss:1.5912 aloss2:2.5365 exploreP:0.8671\n",
      "Episode:58 meanR:24.8644 R:25.0000 rate:0.0500 aloss:0.6878 eloss:1.5660 aloss2:2.5601 exploreP:0.8649\n",
      "Episode:59 meanR:24.7000 R:15.0000 rate:0.0300 aloss:0.6815 eloss:1.5720 aloss2:2.5521 exploreP:0.8636\n",
      "Episode:60 meanR:25.0492 R:46.0000 rate:0.0920 aloss:0.6764 eloss:1.5578 aloss2:2.5687 exploreP:0.8597\n",
      "Episode:61 meanR:25.4355 R:49.0000 rate:0.0980 aloss:0.6830 eloss:1.5368 aloss2:2.5899 exploreP:0.8556\n",
      "Episode:62 meanR:26.0000 R:61.0000 rate:0.1220 aloss:0.6964 eloss:1.5197 aloss2:2.6047 exploreP:0.8504\n",
      "Episode:63 meanR:26.0000 R:26.0000 rate:0.0520 aloss:0.6891 eloss:1.4905 aloss2:2.6351 exploreP:0.8482\n",
      "Episode:64 meanR:25.9385 R:22.0000 rate:0.0440 aloss:0.6832 eloss:1.4814 aloss2:2.6490 exploreP:0.8464\n",
      "Episode:65 meanR:25.8636 R:21.0000 rate:0.0420 aloss:0.6692 eloss:1.4826 aloss2:2.6498 exploreP:0.8446\n",
      "Episode:66 meanR:26.4328 R:64.0000 rate:0.1280 aloss:0.6956 eloss:1.4641 aloss2:2.6706 exploreP:0.8393\n",
      "Episode:67 meanR:26.3971 R:24.0000 rate:0.0480 aloss:0.6776 eloss:1.4388 aloss2:2.6983 exploreP:0.8373\n",
      "Episode:68 meanR:26.4638 R:31.0000 rate:0.0620 aloss:0.6808 eloss:1.4348 aloss2:2.7123 exploreP:0.8348\n",
      "Episode:69 meanR:26.3429 R:18.0000 rate:0.0360 aloss:0.6845 eloss:1.4198 aloss2:2.7200 exploreP:0.8333\n",
      "Episode:70 meanR:26.6620 R:49.0000 rate:0.0980 aloss:0.6865 eloss:1.3972 aloss2:2.7579 exploreP:0.8293\n",
      "Episode:71 meanR:26.5417 R:18.0000 rate:0.0360 aloss:0.6837 eloss:1.3842 aloss2:2.7749 exploreP:0.8278\n",
      "Episode:72 meanR:26.5616 R:28.0000 rate:0.0560 aloss:0.6844 eloss:1.3691 aloss2:2.7974 exploreP:0.8255\n",
      "Episode:73 meanR:26.5405 R:25.0000 rate:0.0500 aloss:0.6786 eloss:1.3555 aloss2:2.8260 exploreP:0.8235\n",
      "Episode:74 meanR:26.3467 R:12.0000 rate:0.0240 aloss:0.6978 eloss:1.3537 aloss2:2.8299 exploreP:0.8225\n",
      "Episode:75 meanR:26.5395 R:41.0000 rate:0.0820 aloss:0.6839 eloss:1.3404 aloss2:2.8530 exploreP:0.8192\n",
      "Episode:76 meanR:26.5065 R:24.0000 rate:0.0480 aloss:0.6831 eloss:1.3156 aloss2:2.8927 exploreP:0.8172\n",
      "Episode:77 meanR:26.6667 R:39.0000 rate:0.0780 aloss:0.6859 eloss:1.3003 aloss2:2.9135 exploreP:0.8141\n",
      "Episode:78 meanR:26.5316 R:16.0000 rate:0.0320 aloss:0.6819 eloss:1.2811 aloss2:2.9467 exploreP:0.8128\n",
      "Episode:79 meanR:26.5375 R:27.0000 rate:0.0540 aloss:0.6915 eloss:1.2750 aloss2:2.9572 exploreP:0.8106\n"
     ]
    },
    {
     "name": "stdout",
     "output_type": "stream",
     "text": [
      "Episode:80 meanR:26.3704 R:13.0000 rate:0.0260 aloss:0.7009 eloss:1.2518 aloss2:2.9898 exploreP:0.8096\n",
      "Episode:81 meanR:26.4512 R:33.0000 rate:0.0660 aloss:0.6882 eloss:1.2526 aloss2:3.0003 exploreP:0.8070\n",
      "Episode:82 meanR:26.4217 R:24.0000 rate:0.0480 aloss:0.6843 eloss:1.2394 aloss2:3.0300 exploreP:0.8050\n",
      "Episode:83 meanR:26.4286 R:27.0000 rate:0.0540 aloss:0.7024 eloss:1.2384 aloss2:3.0157 exploreP:0.8029\n",
      "Episode:84 meanR:26.3294 R:18.0000 rate:0.0360 aloss:0.6825 eloss:1.2200 aloss2:3.0638 exploreP:0.8015\n",
      "Episode:85 meanR:26.5233 R:43.0000 rate:0.0860 aloss:0.6954 eloss:1.2203 aloss2:3.0601 exploreP:0.7981\n",
      "Episode:86 meanR:26.3218 R:9.0000 rate:0.0180 aloss:0.7325 eloss:1.2034 aloss2:3.0776 exploreP:0.7974\n",
      "Episode:87 meanR:26.2386 R:19.0000 rate:0.0380 aloss:0.7683 eloss:1.2071 aloss2:3.0927 exploreP:0.7959\n"
     ]
    }
   ],
   "source": [
    "# Save/load the model and save for plotting\n",
    "saver = tf.train.Saver()\n",
    "episode_rewards_list, rewards_list = [], []\n",
    "aloss_list, eloss_list, aloss2_list = [], [], []\n",
    "\n",
    "# TF session for training\n",
    "with tf.Session(graph=graph) as sess:\n",
    "    sess.run(tf.global_variables_initializer())\n",
    "    #saver.restore(sess, 'checkpoints/model.ckpt')    \n",
    "    #saver.restore(sess, tf.train.latest_checkpoint('checkpoints'))\n",
    "    total_step = 0 # Explore or exploit parameter\n",
    "    episode_reward = deque(maxlen=100) # 100 episodes for running average/running mean/window\n",
    "\n",
    "    # Training episodes/epochs\n",
    "    for ep in range(11111):\n",
    "        aloss_batch, eloss_batch, aloss2_batch = [], [], []\n",
    "        total_reward = 0\n",
    "        state = env.reset()\n",
    "        num_step = 0\n",
    "        rate = -1\n",
    "\n",
    "        # Training steps/batches\n",
    "        while True:\n",
    "            # Explore (env) or Exploit (model)\n",
    "            total_step += 1\n",
    "            explore_p = explore_stop + (explore_start - explore_stop) * np.exp(-decay_rate * total_step) \n",
    "            if explore_p > np.random.rand():\n",
    "                action = env.action_space.sample()\n",
    "            else:\n",
    "                action_logits = sess.run(model.actions_logits, feed_dict={model.states: state.reshape([1, -1])})\n",
    "                action = np.argmax(action_logits)\n",
    "            next_state, reward, done, _ = env.step(action)\n",
    "            memory.buffer.append([state, action, next_state, reward, float(done), rate])\n",
    "            num_step += 1 # momory added\n",
    "            total_reward += reward\n",
    "            state = next_state\n",
    "            \n",
    "            # Training with the maxrated minibatch\n",
    "            batch = memory.buffer\n",
    "            #for idx in range(memory_size// batch_size):\n",
    "            while True:\n",
    "                idx = np.random.choice(np.arange(memory_size// batch_size))\n",
    "                states = np.array([each[0] for each in batch])[idx*batch_size:(idx+1)*batch_size]\n",
    "                actions = np.array([each[1] for each in batch])[idx*batch_size:(idx+1)*batch_size]\n",
    "                next_states = np.array([each[2] for each in batch])[idx*batch_size:(idx+1)*batch_size]\n",
    "                rewards = np.array([each[3] for each in batch])[idx*batch_size:(idx+1)*batch_size]\n",
    "                dones = np.array([each[4] for each in batch])[idx*batch_size:(idx+1)*batch_size]\n",
    "                rates = np.array([each[5] for each in batch])[idx*batch_size:(idx+1)*batch_size]\n",
    "                states = states[rates >= np.max(rates)]\n",
    "                actions = actions[rates >= np.max(rates)]\n",
    "                next_states = next_states[rates >= np.max(rates)]\n",
    "                rewards = rewards[rates >= np.max(rates)]\n",
    "                dones = dones[rates >= np.max(rates)]\n",
    "                rates = rates[rates >= np.max(rates)]\n",
    "                if np.count_nonzero(dones) > 0 and len(dones) > 1 and np.max(rates) > 0:\n",
    "                    break\n",
    "            aloss, _ = sess.run([model.a_loss, model.a_opt],\n",
    "                                  feed_dict = {model.states: states, \n",
    "                                               model.actions: actions,\n",
    "                                               model.next_states: next_states,\n",
    "                                               model.rewards: rewards,\n",
    "                                               model.dones: dones,\n",
    "                                               model.rates: rates})\n",
    "            eloss, _ = sess.run([model.e_loss, model.e_opt],\n",
    "                                  feed_dict = {model.states: states, \n",
    "                                               model.actions: actions,\n",
    "                                               model.next_states: next_states,\n",
    "                                               model.rewards: rewards,\n",
    "                                               model.dones: dones,\n",
    "                                               model.rates: rates})\n",
    "            aloss2, _= sess.run([model.a_loss2, model.a_opt2], \n",
    "                                 feed_dict = {model.states: states, \n",
    "                                              model.actions: actions,\n",
    "                                              model.next_states: next_states,\n",
    "                                              model.rewards: rewards,\n",
    "                                              model.dones: dones,\n",
    "                                              model.rates: rates})\n",
    "            # print(len(dones), np.count_nonzero(dones), np.max(rates))\n",
    "            aloss_batch.append(aloss)\n",
    "            eloss_batch.append(eloss)\n",
    "            aloss2_batch.append(aloss2)\n",
    "            if done is True:\n",
    "                break\n",
    "                \n",
    "        # Rating the latest played episode\n",
    "        rate = total_reward/500 # update rate at the end/ when episode is done\n",
    "        for idx in range(num_step): # episode length\n",
    "            if memory.buffer[-1-idx][-1] == -1: # double-check the landmark/marked indexes\n",
    "                memory.buffer[-1-idx][-1] = rate # rate the trajectory/data\n",
    "\n",
    "        # Print out\n",
    "        episode_reward.append(total_reward)\n",
    "        print('Episode:{}'.format(ep),\n",
    "              'meanR:{:.4f}'.format(np.mean(episode_reward)),\n",
    "              'R:{:.4f}'.format(total_reward),\n",
    "              'rate:{:.4f}'.format(rate),\n",
    "              'aloss:{:.4f}'.format(np.mean(aloss_batch)),\n",
    "              'eloss:{:.4f}'.format(np.mean(eloss_batch)),\n",
    "              'aloss2:{:.4f}'.format(np.mean(aloss2_batch)),\n",
    "              'exploreP:{:.4f}'.format(explore_p))\n",
    "\n",
    "        # Ploting out\n",
    "        episode_rewards_list.append([ep, np.mean(episode_reward)])\n",
    "        rewards_list.append([ep, total_reward])\n",
    "        aloss_list.append([ep, np.mean(aloss_batch)])\n",
    "        eloss_list.append([ep, np.mean(eloss_batch)])\n",
    "        aloss2_list.append([ep, np.mean(aloss2_batch)])\n",
    "        \n",
    "        # Break episode/epoch loop\n",
    "        ## Option 1: Solve the First Version\n",
    "        #The task is episodic, and in order to solve the environment, \n",
    "        #your agent must get an average score of +30 over 100 consecutive episodes.\n",
    "        if np.mean(episode_reward) >= 500:\n",
    "            break\n",
    "            \n",
    "    # At the end of all training episodes/epochs\n",
    "    saver.save(sess, 'checkpoints/model.ckpt')"
   ]
  },
  {
   "cell_type": "markdown",
   "metadata": {},
   "source": [
    "# Visualizing training\n",
    "\n",
    "Below I'll plot the total rewards for each episode. I'm plotting the rolling average too, in blue."
   ]
  },
  {
   "cell_type": "code",
   "execution_count": null,
   "metadata": {},
   "outputs": [],
   "source": [
    "import matplotlib.pyplot as plt\n",
    "%matplotlib inline\n",
    "\n",
    "def running_mean(x, N):\n",
    "    cumsum = np.cumsum(np.insert(x, 0, 0)) \n",
    "    return (cumsum[N:] - cumsum[:-N]) / N "
   ]
  },
  {
   "cell_type": "code",
   "execution_count": null,
   "metadata": {},
   "outputs": [],
   "source": [
    "eps, arr = np.array(episode_rewards_list).T\n",
    "smoothed_arr = running_mean(arr, 10)\n",
    "plt.plot(eps[-len(smoothed_arr):], smoothed_arr)\n",
    "plt.plot(eps, arr, color='grey', alpha=0.3)\n",
    "plt.xlabel('Episode')\n",
    "plt.ylabel('Total rewards')"
   ]
  },
  {
   "cell_type": "code",
   "execution_count": null,
   "metadata": {},
   "outputs": [],
   "source": [
    "eps, arr = np.array(rewards_list).T\n",
    "smoothed_arr = running_mean(arr, 10)\n",
    "plt.plot(eps[-len(smoothed_arr):], smoothed_arr)\n",
    "plt.plot(eps, arr, color='grey', alpha=0.3)\n",
    "plt.xlabel('Episode')\n",
    "plt.ylabel('Total rewards')"
   ]
  },
  {
   "cell_type": "code",
   "execution_count": null,
   "metadata": {},
   "outputs": [],
   "source": [
    "eps, arr = np.array(aloss_list).T\n",
    "smoothed_arr = running_mean(arr, 10)\n",
    "plt.plot(eps[-len(smoothed_arr):], smoothed_arr)\n",
    "plt.plot(eps, arr, color='grey', alpha=0.3)\n",
    "plt.xlabel('Episode')\n",
    "plt.ylabel('Act losses')"
   ]
  },
  {
   "cell_type": "code",
   "execution_count": null,
   "metadata": {},
   "outputs": [],
   "source": [
    "eps, arr = np.array(eloss_list).T\n",
    "smoothed_arr = running_mean(arr, 10)\n",
    "plt.plot(eps[-len(smoothed_arr):], smoothed_arr)\n",
    "plt.plot(eps, arr, color='grey', alpha=0.3)\n",
    "plt.xlabel('Episode')\n",
    "plt.ylabel('Env losses')"
   ]
  },
  {
   "cell_type": "code",
   "execution_count": null,
   "metadata": {},
   "outputs": [],
   "source": [
    "eps, arr = np.array(aloss2_list).T\n",
    "smoothed_arr = running_mean(arr, 10)\n",
    "plt.plot(eps[-len(smoothed_arr):], smoothed_arr)\n",
    "plt.plot(eps, arr, color='grey', alpha=0.3)\n",
    "plt.xlabel('Episode')\n",
    "plt.ylabel('Act losses 2')"
   ]
  },
  {
   "cell_type": "markdown",
   "metadata": {},
   "source": [
    "## Testing\n",
    "\n",
    "Let's checkout how our trained agent plays the game."
   ]
  },
  {
   "cell_type": "code",
   "execution_count": 24,
   "metadata": {},
   "outputs": [
    {
     "name": "stdout",
     "output_type": "stream",
     "text": [
      "INFO:tensorflow:Restoring parameters from checkpoints/model.ckpt\n",
      "total_reward: 500.0\n",
      "total_reward: 500.0\n",
      "total_reward: 500.0\n",
      "total_reward: 500.0\n",
      "total_reward: 500.0\n",
      "total_reward: 500.0\n",
      "total_reward: 500.0\n",
      "total_reward: 500.0\n",
      "total_reward: 500.0\n",
      "total_reward: 500.0\n"
     ]
    }
   ],
   "source": [
    "import gym\n",
    "env = gym.make('CartPole-v0')\n",
    "env = gym.make('CartPole-v1')\n",
    "\n",
    "with tf.Session() as sess:\n",
    "    sess.run(tf.global_variables_initializer())\n",
    "    saver.restore(sess, 'checkpoints/model.ckpt')    \n",
    "    #saver.restore(sess, tf.train.latest_checkpoint('checkpoints'))\n",
    "    \n",
    "    # Episodes/epochs\n",
    "    for _ in range(10):\n",
    "        state = env.reset()\n",
    "        total_reward = 0\n",
    "\n",
    "        # Steps/batches\n",
    "        while True:\n",
    "            env.render()\n",
    "            action_logits = sess.run(model.actions_logits, feed_dict={model.states: state.reshape([1, -1])})\n",
    "            action = np.argmax(action_logits)\n",
    "            state, reward, done, _ = env.step(action)\n",
    "            total_reward += reward\n",
    "            if done:\n",
    "                print('total_reward: {}'.format(total_reward))\n",
    "                break\n",
    "                \n",
    "env.close()"
   ]
  },
  {
   "cell_type": "code",
   "execution_count": null,
   "metadata": {},
   "outputs": [],
   "source": []
  }
 ],
 "metadata": {
  "kernelspec": {
   "display_name": "Python 3",
   "language": "python",
   "name": "python3"
  },
  "language_info": {
   "codemirror_mode": {
    "name": "ipython",
    "version": 3
   },
   "file_extension": ".py",
   "mimetype": "text/x-python",
   "name": "python",
   "nbconvert_exporter": "python",
   "pygments_lexer": "ipython3",
   "version": "3.6.6"
  }
 },
 "nbformat": 4,
 "nbformat_minor": 2
}
