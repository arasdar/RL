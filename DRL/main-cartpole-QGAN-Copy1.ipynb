{
 "cells": [
  {
   "cell_type": "code",
   "execution_count": 1,
   "metadata": {},
   "outputs": [
    {
     "name": "stdout",
     "output_type": "stream",
     "text": [
      "TensorFlow Version: 1.7.1\n",
      "Default GPU Device: \n"
     ]
    }
   ],
   "source": [
    "import tensorflow as tf\n",
    "print('TensorFlow Version: {}'.format(tf.__version__))\n",
    "print('Default GPU Device: {}'.format(tf.test.gpu_device_name()))"
   ]
  },
  {
   "cell_type": "markdown",
   "metadata": {},
   "source": [
    "##### >**Note:** Make sure you have OpenAI Gym cloned. Then run this command `pip install -e gym/[all]`."
   ]
  },
  {
   "cell_type": "code",
   "execution_count": 2,
   "metadata": {},
   "outputs": [],
   "source": [
    "import numpy as np\n",
    "import gym\n",
    "env = gym.make('CartPole-v0')\n",
    "env = gym.make('CartPole-v1')"
   ]
  },
  {
   "cell_type": "code",
   "execution_count": 3,
   "metadata": {},
   "outputs": [],
   "source": [
    "def model_input(state_size):\n",
    "    #states = tf.placeholder(tf.float32, [None, *state_size], name='states')\n",
    "    states = tf.placeholder(tf.float32, [None, state_size], name='states')\n",
    "    actions = tf.placeholder(tf.int32, [None], name='actions')\n",
    "    next_states = tf.placeholder(tf.float32, [None, state_size], name='next_states')\n",
    "    rewards = tf.placeholder(tf.float32, [None], name='rewards')\n",
    "    dones = tf.placeholder(tf.float32, [None], name='dones')\n",
    "    rates = tf.placeholder(tf.float32, [None], name='rates') # success rate\n",
    "    return states, actions, next_states, rewards, dones, rates"
   ]
  },
  {
   "cell_type": "code",
   "execution_count": 4,
   "metadata": {},
   "outputs": [],
   "source": [
    "def Act(states, action_size, hidden_size, reuse=False, alpha=0.1, training=False):\n",
    "    with tf.variable_scope('Act', reuse=reuse):\n",
    "        # First fully connected layer\n",
    "        h1 = tf.layers.dense(inputs=states, units=hidden_size)\n",
    "        bn1 = tf.layers.batch_normalization(h1, training=training)        \n",
    "        nl1 = tf.maximum(alpha * bn1, bn1)\n",
    "        \n",
    "        # Second fully connected layer\n",
    "        h2 = tf.layers.dense(inputs=nl1, units=hidden_size)\n",
    "        bn2 = tf.layers.batch_normalization(h2, training=training)        \n",
    "        nl2 = tf.maximum(alpha * bn2, bn2)\n",
    "        \n",
    "        # Output layer\n",
    "        logits = tf.layers.dense(inputs=nl2, units=action_size)        \n",
    "        return logits"
   ]
  },
  {
   "cell_type": "code",
   "execution_count": 5,
   "metadata": {},
   "outputs": [],
   "source": [
    "def Env(states, actions, state_size, action_size, hidden_size, reuse=False, alpha=0.1, training=False):\n",
    "    with tf.variable_scope('Env', reuse=reuse):\n",
    "        # First fully connected layer\n",
    "        h1 = tf.layers.dense(inputs=states, units=action_size)\n",
    "        bn1 = tf.layers.batch_normalization(h1, training=training)        \n",
    "        nl1 = tf.maximum(alpha * bn1, bn1)\n",
    "        \n",
    "        # Second fully connected layer\n",
    "        nl1_fused = tf.concat(axis=1, values=[nl1, actions])\n",
    "        h2 = tf.layers.dense(inputs=nl1_fused, units=hidden_size)\n",
    "        bn2 = tf.layers.batch_normalization(h2, training=training)        \n",
    "        nl2 = tf.maximum(alpha * bn2, bn2)\n",
    "                \n",
    "        # Output layer\n",
    "        states_logits = tf.layers.dense(inputs=nl2, units=state_size, trainable=False)\n",
    "        Qlogits = tf.layers.dense(inputs=nl2, units=1, trainable=False)\n",
    "        return states_logits, Qlogits"
   ]
  },
  {
   "cell_type": "code",
   "execution_count": 6,
   "metadata": {},
   "outputs": [],
   "source": [
    "def model_loss(state_size, action_size, hidden_size, gamma,\n",
    "               states, actions, next_states, rewards, dones, rates):\n",
    "    ################################################ a = act(s)\n",
    "    actions_labels = tf.one_hot(indices=actions, depth=action_size, dtype=states.dtype)\n",
    "    actions_logits = Act(states=states, hidden_size=hidden_size, action_size=action_size)\n",
    "    aloss = tf.reduce_mean(tf.nn.softmax_cross_entropy_with_logits_v2(logits=actions_logits, \n",
    "                                                                      labels=actions_labels))\n",
    "    ################################################ s', r = env(s, a)\n",
    "    next_states_logits, Qlogits = Env(actions=actions_labels, states=states, hidden_size=hidden_size, \n",
    "                                      action_size=action_size, state_size=state_size)\n",
    "    next_states_logits_, Qlogits_ = Env(actions=actions_logits, states=states, hidden_size=hidden_size, \n",
    "                                        action_size=action_size, state_size=state_size, reuse=True)\n",
    "    next_states_labels = tf.nn.sigmoid(next_states)\n",
    "    eloss = tf.reduce_mean(tf.nn.sigmoid_cross_entropy_with_logits(logits=next_states_logits, # GQN real\n",
    "                                                                   labels=next_states_labels))\n",
    "    eloss += -tf.reduce_mean(tf.nn.sigmoid_cross_entropy_with_logits(logits=next_states_logits_, \n",
    "                                                                     labels=next_states_labels))\n",
    "    aloss2 = tf.reduce_mean(tf.nn.sigmoid_cross_entropy_with_logits(logits=next_states_logits_, \n",
    "                                                                    labels=next_states_labels))\n",
    "    #################################################### Q=R MonteCarlo Prob-based\n",
    "    Qlogits = tf.reshape(Qlogits, shape=[-1])\n",
    "    Qlogits_ = tf.reshape(Qlogits_, shape=[-1])\n",
    "    eloss += tf.reduce_mean(tf.nn.sigmoid_cross_entropy_with_logits(logits=Qlogits, # GAN real\n",
    "                                                                    labels=rates))\n",
    "    eloss += tf.reduce_mean(tf.nn.sigmoid_cross_entropy_with_logits(logits=Qlogits_, # min\n",
    "                                                                    labels=tf.zeros_like(rates)))\n",
    "    aloss2 += tf.reduce_mean(tf.nn.sigmoid_cross_entropy_with_logits(logits=Qlogits_, # max\n",
    "                                                                     labels=tf.ones_like(rates)))\n",
    "    #################################################### s'', Q' = ~env(s', ~a')\n",
    "    next_actions_logits = Act(states=next_states, hidden_size=hidden_size, action_size=action_size, reuse=True)\n",
    "    _next_states_logits_, nextQlogits_ = Env(actions=next_actions_logits, states=next_states, \n",
    "                                             hidden_size=hidden_size, action_size=action_size, \n",
    "                                             state_size=state_size, reuse=True)\n",
    "    nextQlogits_ = tf.reshape(nextQlogits_, shape=[-1]) * (1-dones)\n",
    "    eloss += tf.reduce_mean(tf.nn.sigmoid_cross_entropy_with_logits(logits=nextQlogits_, # min\n",
    "                                                                    labels=tf.zeros_like(rates)))\n",
    "    aloss2 += tf.reduce_mean(tf.nn.sigmoid_cross_entropy_with_logits(logits=nextQlogits_, # max\n",
    "                                                                     labels=tf.ones_like(rates)))\n",
    "    ###################################################### Q(s,a)= r + Q'(s',a')-TempDiff-Value-based\n",
    "    targetQs = rewards + (gamma * nextQlogits_)\n",
    "    eloss += tf.reduce_mean(tf.square(Qlogits - targetQs)) # real\n",
    "    eloss += tf.reduce_mean(tf.square(Qlogits_ - rewards)) # min\n",
    "    #aloss2 += -tf.reduce_mean(tf.square(Qlogits_ - targetQs))\n",
    "    aloss2 += -tf.reduce_mean(Qlogits_)\n",
    "    return actions_logits, aloss, eloss, aloss2"
   ]
  },
  {
   "cell_type": "code",
   "execution_count": 7,
   "metadata": {},
   "outputs": [],
   "source": [
    "def model_opt(a_loss, e_loss, a_loss2, a_learning_rate, e_learning_rate):\n",
    "    # Get weights and bias to update\n",
    "    t_vars = tf.trainable_variables()\n",
    "    a_vars = [var for var in t_vars if var.name.startswith('Act')]\n",
    "    e_vars = [var for var in t_vars if var.name.startswith('Env')]\n",
    "\n",
    "    # Optimize\n",
    "    with tf.control_dependencies(tf.get_collection(tf.GraphKeys.UPDATE_OPS)): # Required for batchnorm (BN)\n",
    "        a_opt = tf.train.AdamOptimizer(a_learning_rate).minimize(a_loss, var_list=a_vars)\n",
    "        e_opt = tf.train.AdamOptimizer(e_learning_rate).minimize(e_loss, var_list=e_vars)\n",
    "        a_opt2 = tf.train.AdamOptimizer(a_learning_rate).minimize(a_loss2, var_list=a_vars)\n",
    "    return a_opt, e_opt, a_opt2"
   ]
  },
  {
   "cell_type": "code",
   "execution_count": 8,
   "metadata": {},
   "outputs": [],
   "source": [
    "class Model:\n",
    "    def __init__(self, state_size, action_size, hidden_size, a_learning_rate, e_learning_rate, gamma):\n",
    "\n",
    "        # Data of the Model: make the data available inside the framework\n",
    "        self.states, self.actions, self.next_states, self.rewards, self.dones, self.rates = model_input(\n",
    "            state_size=state_size)\n",
    "\n",
    "        # Create the Model: calculating the loss and forwad pass\n",
    "        self.actions_logits, self.a_loss, self.e_loss, self.a_loss2 = model_loss(\n",
    "            state_size=state_size, action_size=action_size, hidden_size=hidden_size, gamma=gamma, # model init\n",
    "            states=self.states, actions=self.actions, next_states=self.next_states, \n",
    "            rewards=self.rewards, dones=self.dones, rates=self.rates) # model input\n",
    "        \n",
    "        # Update the model: backward pass and backprop\n",
    "        self.a_opt, self.e_opt, self.a_opt2 = model_opt(a_loss=self.a_loss, \n",
    "                                                        e_loss=self.e_loss,\n",
    "                                                        a_loss2=self.a_loss2, \n",
    "                                                        a_learning_rate=a_learning_rate,\n",
    "                                                        e_learning_rate=e_learning_rate)"
   ]
  },
  {
   "cell_type": "code",
   "execution_count": 9,
   "metadata": {},
   "outputs": [],
   "source": [
    "from collections import deque\n",
    "class Memory():\n",
    "    def __init__(self, max_size = 1000):\n",
    "        self.buffer = deque(maxlen=max_size) # data batch\n",
    "#     def sample(self, batch_size):\n",
    "#         idx = np.random.choice(np.arange(len(self.buffer)), size=batch_size, replace=False)\n",
    "#         return [self.buffer[ii] for ii in idx]"
   ]
  },
  {
   "cell_type": "markdown",
   "metadata": {},
   "source": [
    "## Hyperparameters\n",
    "\n",
    "One of the more difficult aspects of reinforcememt learning are the large number of hyperparameters. Not only are we tuning the network, but we're tuning the simulation."
   ]
  },
  {
   "cell_type": "code",
   "execution_count": 10,
   "metadata": {},
   "outputs": [
    {
     "data": {
      "text/plain": [
       "(Box(4,), Discrete(2))"
      ]
     },
     "execution_count": 10,
     "metadata": {},
     "output_type": "execute_result"
    }
   ],
   "source": [
    "env.observation_space, env.action_space"
   ]
  },
  {
   "cell_type": "code",
   "execution_count": 11,
   "metadata": {},
   "outputs": [],
   "source": [
    "# Exploration parameters\n",
    "explore_start = 1.0            # exploration probability at start\n",
    "explore_stop = 0.01           # minimum exploration probability \n",
    "decay_rate = 0.0001            # exponential decay rate for exploration prob\n",
    "\n",
    "# Network parameters\n",
    "state_size = 4\n",
    "action_size = 2\n",
    "hidden_size = 4*2             # number of units in each Q-network hidden layer\n",
    "a_learning_rate = 1e-4         # Q-network learning rate\n",
    "e_learning_rate = 1e-4         # Q-network learning rate\n",
    "\n",
    "# Memory parameters\n",
    "memory_size = int(1e5)            # memory capacity\n",
    "batch_size = int(1e3)             # experience mini-batch size\n",
    "gamma=0.99"
   ]
  },
  {
   "cell_type": "code",
   "execution_count": 12,
   "metadata": {},
   "outputs": [],
   "source": [
    "# Reset/init the graph/session\n",
    "graph = tf.reset_default_graph()\n",
    "\n",
    "# Init the model\n",
    "model = Model(action_size=action_size, state_size=state_size, hidden_size=hidden_size, gamma=gamma,\n",
    "              a_learning_rate=a_learning_rate, e_learning_rate=e_learning_rate)\n",
    "\n",
    "# Init the memory\n",
    "memory = Memory(max_size=memory_size)"
   ]
  },
  {
   "cell_type": "code",
   "execution_count": 13,
   "metadata": {},
   "outputs": [],
   "source": [
    "state = env.reset()\n",
    "total_reward = 0\n",
    "num_step = 0\n",
    "for _ in range(memory_size):\n",
    "    action = env.action_space.sample()\n",
    "    next_state, reward, done, _ = env.step(action)\n",
    "    rate = -1\n",
    "    memory.buffer.append([state, action, next_state, reward, float(done), rate])\n",
    "    num_step += 1 # memory incremented\n",
    "    total_reward += reward\n",
    "    state = next_state\n",
    "    if done is True:\n",
    "        #print(done)\n",
    "        rate = total_reward/500\n",
    "        for idx in range(num_step): # episode length\n",
    "            if memory.buffer[-1-idx][-1] == -1:\n",
    "                memory.buffer[-1-idx][-1] = rate\n",
    "        state = env.reset()\n",
    "        total_reward = 0 # reset\n",
    "        num_step = 0 # reset"
   ]
  },
  {
   "cell_type": "markdown",
   "metadata": {},
   "source": [
    "## Training the model\n",
    "\n",
    "Below we'll train our agent. If you want to watch it train, uncomment the `env.render()` line. This is slow because it's rendering the frames slower than the network can train. But, it's cool to watch the agent get better at the game."
   ]
  },
  {
   "cell_type": "code",
   "execution_count": 14,
   "metadata": {},
   "outputs": [],
   "source": [
    "def minibatch(memory):\n",
    "    batch = memory.buffer\n",
    "    #for idx in range(memory_size// batch_size):\n",
    "    while True:\n",
    "        idx = np.random.choice(np.arange(memory_size// batch_size))\n",
    "        states = np.array([each[0] for each in batch])[idx*batch_size:(idx+1)*batch_size]\n",
    "        actions = np.array([each[1] for each in batch])[idx*batch_size:(idx+1)*batch_size]\n",
    "        next_states = np.array([each[2] for each in batch])[idx*batch_size:(idx+1)*batch_size]\n",
    "        rewards = np.array([each[3] for each in batch])[idx*batch_size:(idx+1)*batch_size]\n",
    "        dones = np.array([each[4] for each in batch])[idx*batch_size:(idx+1)*batch_size]\n",
    "        rates = np.array([each[5] for each in batch])[idx*batch_size:(idx+1)*batch_size]\n",
    "        states = states[rates >= np.max(rates)]\n",
    "        actions = actions[rates >= np.max(rates)]\n",
    "        next_states = next_states[rates >= np.max(rates)]\n",
    "        rewards = rewards[rates >= np.max(rates)]\n",
    "        dones = dones[rates >= np.max(rates)]\n",
    "        rates = rates[rates >= np.max(rates)]\n",
    "        if np.count_nonzero(dones) > 0 and len(dones) > 1 and np.max(rates) > 0:\n",
    "            break\n",
    "    return states, actions, next_states, rewards, dones, rates"
   ]
  },
  {
   "cell_type": "code",
   "execution_count": null,
   "metadata": {},
   "outputs": [
    {
     "name": "stdout",
     "output_type": "stream",
     "text": [
      "Episode:0 meanR:16.0000 R:16.0000 rate:0.0320 aloss:0.6943 eloss:4.1448 aloss2:2.2360 exploreP:0.9984\n",
      "Episode:1 meanR:23.0000 R:30.0000 rate:0.0600 aloss:0.6931 eloss:4.1464 aloss2:2.1821 exploreP:0.9955\n",
      "Episode:2 meanR:20.0000 R:14.0000 rate:0.0280 aloss:0.6926 eloss:4.1467 aloss2:2.1879 exploreP:0.9941\n",
      "Episode:3 meanR:20.2500 R:21.0000 rate:0.0420 aloss:0.6930 eloss:4.1068 aloss2:2.1283 exploreP:0.9920\n",
      "Episode:4 meanR:20.2000 R:20.0000 rate:0.0400 aloss:0.6917 eloss:4.1113 aloss2:2.1170 exploreP:0.9901\n",
      "Episode:5 meanR:23.0000 R:37.0000 rate:0.0740 aloss:0.6914 eloss:4.0956 aloss2:2.0730 exploreP:0.9864\n",
      "Episode:6 meanR:21.4286 R:12.0000 rate:0.0240 aloss:0.6888 eloss:4.0961 aloss2:2.0686 exploreP:0.9853\n",
      "Episode:7 meanR:20.5000 R:14.0000 rate:0.0280 aloss:0.6904 eloss:4.0777 aloss2:2.0445 exploreP:0.9839\n",
      "Episode:8 meanR:22.7778 R:41.0000 rate:0.0820 aloss:0.6920 eloss:4.0615 aloss2:2.0037 exploreP:0.9799\n",
      "Episode:9 meanR:23.7000 R:32.0000 rate:0.0640 aloss:0.6889 eloss:4.0439 aloss2:1.9571 exploreP:0.9768\n",
      "Episode:10 meanR:23.0909 R:17.0000 rate:0.0340 aloss:0.6879 eloss:4.0469 aloss2:1.9378 exploreP:0.9752\n",
      "Episode:11 meanR:22.7500 R:19.0000 rate:0.0380 aloss:0.6881 eloss:4.1421 aloss2:1.9459 exploreP:0.9733\n",
      "Episode:12 meanR:21.8462 R:11.0000 rate:0.0220 aloss:0.6860 eloss:4.0233 aloss2:1.8992 exploreP:0.9723\n",
      "Episode:13 meanR:21.6429 R:19.0000 rate:0.0380 aloss:0.6860 eloss:4.0364 aloss2:1.9029 exploreP:0.9705\n",
      "Episode:14 meanR:21.2667 R:16.0000 rate:0.0320 aloss:0.6831 eloss:4.0299 aloss2:1.9034 exploreP:0.9689\n",
      "Episode:15 meanR:21.3750 R:23.0000 rate:0.0460 aloss:0.6820 eloss:4.0523 aloss2:1.8569 exploreP:0.9667\n",
      "Episode:16 meanR:21.0588 R:16.0000 rate:0.0320 aloss:0.6806 eloss:4.0277 aloss2:1.8444 exploreP:0.9652\n",
      "Episode:17 meanR:20.8889 R:18.0000 rate:0.0360 aloss:0.6859 eloss:4.0224 aloss2:1.8338 exploreP:0.9635\n",
      "Episode:18 meanR:22.2105 R:46.0000 rate:0.0920 aloss:0.6849 eloss:4.0259 aloss2:1.8142 exploreP:0.9591\n",
      "Episode:19 meanR:21.8000 R:14.0000 rate:0.0280 aloss:0.6865 eloss:4.0295 aloss2:1.7851 exploreP:0.9578\n",
      "Episode:20 meanR:22.0952 R:28.0000 rate:0.0560 aloss:0.6816 eloss:4.0223 aloss2:1.7743 exploreP:0.9551\n",
      "Episode:21 meanR:21.5909 R:11.0000 rate:0.0220 aloss:0.6828 eloss:4.0170 aloss2:1.7834 exploreP:0.9541\n",
      "Episode:22 meanR:22.1739 R:35.0000 rate:0.0700 aloss:0.6824 eloss:4.0118 aloss2:1.7593 exploreP:0.9508\n",
      "Episode:23 meanR:24.6250 R:81.0000 rate:0.1620 aloss:0.6804 eloss:4.0174 aloss2:1.7288 exploreP:0.9432\n",
      "Episode:24 meanR:24.4000 R:19.0000 rate:0.0380 aloss:0.6770 eloss:4.0131 aloss2:1.6938 exploreP:0.9414\n",
      "Episode:25 meanR:23.9231 R:12.0000 rate:0.0240 aloss:0.6879 eloss:4.0664 aloss2:1.6622 exploreP:0.9403\n",
      "Episode:26 meanR:23.8519 R:22.0000 rate:0.0440 aloss:0.6846 eloss:4.0287 aloss2:1.6906 exploreP:0.9383\n",
      "Episode:27 meanR:23.7500 R:21.0000 rate:0.0420 aloss:0.6826 eloss:4.0555 aloss2:1.6507 exploreP:0.9363\n",
      "Episode:28 meanR:23.9655 R:30.0000 rate:0.0600 aloss:0.6865 eloss:4.0332 aloss2:1.6665 exploreP:0.9335\n",
      "Episode:29 meanR:23.6667 R:15.0000 rate:0.0300 aloss:0.6841 eloss:4.0132 aloss2:1.6761 exploreP:0.9321\n",
      "Episode:30 meanR:23.3226 R:13.0000 rate:0.0260 aloss:0.6867 eloss:4.0381 aloss2:1.6395 exploreP:0.9309\n",
      "Episode:31 meanR:23.0000 R:13.0000 rate:0.0260 aloss:0.6818 eloss:4.0082 aloss2:1.6877 exploreP:0.9298\n",
      "Episode:32 meanR:23.2424 R:31.0000 rate:0.0620 aloss:0.6844 eloss:4.0128 aloss2:1.6639 exploreP:0.9269\n",
      "Episode:33 meanR:22.9412 R:13.0000 rate:0.0260 aloss:0.6884 eloss:3.9963 aloss2:1.6769 exploreP:0.9257\n",
      "Episode:34 meanR:22.7143 R:15.0000 rate:0.0300 aloss:0.6812 eloss:4.0140 aloss2:1.6594 exploreP:0.9243\n",
      "Episode:35 meanR:22.6944 R:22.0000 rate:0.0440 aloss:0.6871 eloss:3.9935 aloss2:1.6837 exploreP:0.9223\n",
      "Episode:36 meanR:23.3784 R:48.0000 rate:0.0960 aloss:0.6838 eloss:4.0111 aloss2:1.6706 exploreP:0.9180\n",
      "Episode:37 meanR:23.6842 R:35.0000 rate:0.0700 aloss:0.6988 eloss:3.9833 aloss2:1.6880 exploreP:0.9148\n",
      "Episode:38 meanR:24.8974 R:71.0000 rate:0.1420 aloss:0.6852 eloss:3.9759 aloss2:1.6954 exploreP:0.9084\n",
      "Episode:39 meanR:24.6750 R:16.0000 rate:0.0320 aloss:0.6818 eloss:3.9574 aloss2:1.7116 exploreP:0.9070\n",
      "Episode:40 meanR:24.6829 R:25.0000 rate:0.0500 aloss:0.6896 eloss:3.9578 aloss2:1.7126 exploreP:0.9047\n",
      "Episode:41 meanR:24.4524 R:15.0000 rate:0.0300 aloss:0.6824 eloss:3.9462 aloss2:1.7114 exploreP:0.9034\n",
      "Episode:42 meanR:25.0000 R:48.0000 rate:0.0960 aloss:0.6854 eloss:3.9588 aloss2:1.7219 exploreP:0.8991\n",
      "Episode:43 meanR:24.8864 R:20.0000 rate:0.0400 aloss:0.6897 eloss:3.9391 aloss2:1.7524 exploreP:0.8973\n",
      "Episode:44 meanR:24.8889 R:25.0000 rate:0.0500 aloss:0.6913 eloss:3.9191 aloss2:1.7765 exploreP:0.8951\n",
      "Episode:45 meanR:24.5652 R:10.0000 rate:0.0200 aloss:0.6958 eloss:3.9131 aloss2:1.7854 exploreP:0.8942\n",
      "Episode:46 meanR:24.7021 R:31.0000 rate:0.0620 aloss:0.6877 eloss:3.9048 aloss2:1.7977 exploreP:0.8915\n",
      "Episode:47 meanR:25.2292 R:50.0000 rate:0.1000 aloss:0.6908 eloss:3.9225 aloss2:1.7793 exploreP:0.8871\n",
      "Episode:48 meanR:25.1837 R:23.0000 rate:0.0460 aloss:0.6873 eloss:3.9101 aloss2:1.8154 exploreP:0.8851\n",
      "Episode:49 meanR:24.9000 R:11.0000 rate:0.0220 aloss:0.6930 eloss:3.9026 aloss2:1.8292 exploreP:0.8841\n",
      "Episode:50 meanR:25.0980 R:35.0000 rate:0.0700 aloss:0.6912 eloss:3.9127 aloss2:1.8028 exploreP:0.8811\n",
      "Episode:51 meanR:24.8846 R:14.0000 rate:0.0280 aloss:0.6866 eloss:3.9059 aloss2:1.8197 exploreP:0.8798\n",
      "Episode:52 meanR:25.0943 R:36.0000 rate:0.0720 aloss:0.7011 eloss:3.8852 aloss2:1.8507 exploreP:0.8767\n",
      "Episode:53 meanR:25.1296 R:27.0000 rate:0.0540 aloss:0.7005 eloss:3.8896 aloss2:1.8458 exploreP:0.8744\n",
      "Episode:54 meanR:24.8727 R:11.0000 rate:0.0220 aloss:0.6913 eloss:3.8695 aloss2:1.8857 exploreP:0.8734\n",
      "Episode:55 meanR:25.1607 R:41.0000 rate:0.0820 aloss:0.6895 eloss:3.8677 aloss2:1.8714 exploreP:0.8699\n",
      "Episode:56 meanR:25.6842 R:55.0000 rate:0.1100 aloss:0.6929 eloss:3.8697 aloss2:1.8664 exploreP:0.8652\n",
      "Episode:57 meanR:25.6552 R:24.0000 rate:0.0480 aloss:0.6903 eloss:3.8667 aloss2:1.8716 exploreP:0.8631\n",
      "Episode:58 meanR:25.4407 R:13.0000 rate:0.0260 aloss:0.6831 eloss:3.8571 aloss2:1.8849 exploreP:0.8620\n",
      "Episode:59 meanR:25.5333 R:31.0000 rate:0.0620 aloss:0.6881 eloss:3.8595 aloss2:1.8843 exploreP:0.8594\n",
      "Episode:60 meanR:25.4754 R:22.0000 rate:0.0440 aloss:0.6948 eloss:3.8557 aloss2:1.8940 exploreP:0.8575\n",
      "Episode:61 meanR:25.6774 R:38.0000 rate:0.0760 aloss:0.6831 eloss:3.8487 aloss2:1.8933 exploreP:0.8543\n",
      "Episode:62 meanR:25.7460 R:30.0000 rate:0.0600 aloss:0.6890 eloss:3.8446 aloss2:1.8969 exploreP:0.8518\n",
      "Episode:63 meanR:25.9688 R:40.0000 rate:0.0800 aloss:0.6831 eloss:3.8469 aloss2:1.8798 exploreP:0.8484\n",
      "Episode:64 meanR:26.2923 R:47.0000 rate:0.0940 aloss:0.6854 eloss:3.8449 aloss2:1.8800 exploreP:0.8445\n",
      "Episode:65 meanR:26.2576 R:24.0000 rate:0.0480 aloss:0.6723 eloss:3.8361 aloss2:1.8889 exploreP:0.8425\n",
      "Episode:66 meanR:27.1940 R:89.0000 rate:0.1780 aloss:0.6876 eloss:3.8380 aloss2:1.8843 exploreP:0.8351\n",
      "Episode:67 meanR:27.2941 R:34.0000 rate:0.0680 aloss:0.6879 eloss:3.8352 aloss2:1.8712 exploreP:0.8323\n",
      "Episode:68 meanR:27.4203 R:36.0000 rate:0.0720 aloss:0.7087 eloss:3.8350 aloss2:1.8604 exploreP:0.8293\n",
      "Episode:69 meanR:27.3857 R:25.0000 rate:0.0500 aloss:0.6822 eloss:3.8274 aloss2:1.8756 exploreP:0.8273\n",
      "Episode:70 meanR:27.4930 R:35.0000 rate:0.0700 aloss:0.6908 eloss:3.8319 aloss2:1.8604 exploreP:0.8244\n",
      "Episode:71 meanR:27.6667 R:40.0000 rate:0.0800 aloss:0.6853 eloss:3.8356 aloss2:1.8475 exploreP:0.8212\n",
      "Episode:72 meanR:27.5068 R:16.0000 rate:0.0320 aloss:0.6756 eloss:3.8234 aloss2:1.8523 exploreP:0.8199\n",
      "Episode:73 meanR:27.5000 R:27.0000 rate:0.0540 aloss:0.6655 eloss:3.8215 aloss2:1.8533 exploreP:0.8177\n",
      "Episode:74 meanR:27.3600 R:17.0000 rate:0.0340 aloss:0.6737 eloss:3.8308 aloss2:1.8288 exploreP:0.8163\n",
      "Episode:75 meanR:27.1711 R:13.0000 rate:0.0260 aloss:0.6684 eloss:3.8248 aloss2:1.8430 exploreP:0.8153\n",
      "Episode:76 meanR:27.1039 R:22.0000 rate:0.0440 aloss:0.6825 eloss:3.8359 aloss2:1.8212 exploreP:0.8135\n",
      "Episode:77 meanR:26.9359 R:14.0000 rate:0.0280 aloss:0.6771 eloss:3.8284 aloss2:1.8291 exploreP:0.8124\n",
      "Episode:78 meanR:26.8101 R:17.0000 rate:0.0340 aloss:0.6710 eloss:3.8300 aloss2:1.8181 exploreP:0.8110\n",
      "Episode:79 meanR:26.8125 R:27.0000 rate:0.0540 aloss:0.6834 eloss:3.8309 aloss2:1.8116 exploreP:0.8089\n"
     ]
    },
    {
     "name": "stdout",
     "output_type": "stream",
     "text": [
      "Episode:80 meanR:26.6914 R:17.0000 rate:0.0340 aloss:0.6832 eloss:3.8317 aloss2:1.8137 exploreP:0.8075\n",
      "Episode:81 meanR:26.6829 R:26.0000 rate:0.0520 aloss:0.6798 eloss:3.8399 aloss2:1.7923 exploreP:0.8054\n",
      "Episode:82 meanR:26.6506 R:24.0000 rate:0.0480 aloss:0.6748 eloss:3.8344 aloss2:1.7998 exploreP:0.8035\n",
      "Episode:83 meanR:27.0595 R:61.0000 rate:0.1220 aloss:0.6783 eloss:3.8473 aloss2:1.7656 exploreP:0.7987\n",
      "Episode:84 meanR:27.0118 R:23.0000 rate:0.0460 aloss:0.6917 eloss:3.8513 aloss2:1.7462 exploreP:0.7969\n",
      "Episode:85 meanR:26.8721 R:15.0000 rate:0.0300 aloss:0.6933 eloss:3.8504 aloss2:1.7474 exploreP:0.7957\n",
      "Episode:86 meanR:26.7816 R:19.0000 rate:0.0380 aloss:0.7129 eloss:3.8434 aloss2:1.7422 exploreP:0.7942\n",
      "Episode:87 meanR:27.2159 R:65.0000 rate:0.1300 aloss:0.6768 eloss:3.8623 aloss2:1.7131 exploreP:0.7892\n",
      "Episode:88 meanR:27.1685 R:23.0000 rate:0.0460 aloss:0.6729 eloss:3.8616 aloss2:1.7045 exploreP:0.7874\n",
      "Episode:89 meanR:27.3444 R:43.0000 rate:0.0860 aloss:0.6702 eloss:3.8729 aloss2:1.6781 exploreP:0.7840\n",
      "Episode:90 meanR:27.2747 R:21.0000 rate:0.0420 aloss:0.6777 eloss:3.8850 aloss2:1.6483 exploreP:0.7824\n",
      "Episode:91 meanR:28.1087 R:104.0000 rate:0.2080 aloss:0.6802 eloss:3.8742 aloss2:1.6408 exploreP:0.7744\n",
      "Episode:92 meanR:28.6559 R:79.0000 rate:0.1580 aloss:0.6852 eloss:3.8916 aloss2:1.5928 exploreP:0.7684\n",
      "Episode:93 meanR:28.4574 R:10.0000 rate:0.0200 aloss:0.6758 eloss:3.8920 aloss2:1.5848 exploreP:0.7676\n",
      "Episode:94 meanR:28.4632 R:29.0000 rate:0.0580 aloss:0.6932 eloss:3.8904 aloss2:1.5810 exploreP:0.7654\n",
      "Episode:95 meanR:28.9375 R:74.0000 rate:0.1480 aloss:0.6849 eloss:3.9002 aloss2:1.5668 exploreP:0.7599\n"
     ]
    }
   ],
   "source": [
    "# Save/load the model and save for plotting\n",
    "saver = tf.train.Saver()\n",
    "episode_rewards_list, rewards_list = [], []\n",
    "aloss_list, eloss_list, aloss2_list = [], [], []\n",
    "\n",
    "# TF session for training\n",
    "with tf.Session(graph=graph) as sess:\n",
    "    sess.run(tf.global_variables_initializer())\n",
    "    #saver.restore(sess, 'checkpoints/model.ckpt')    \n",
    "    #saver.restore(sess, tf.train.latest_checkpoint('checkpoints'))\n",
    "    total_step = 0 # Explore or exploit parameter\n",
    "    episode_reward = deque(maxlen=100) # 100 episodes for running average/running mean/window\n",
    "\n",
    "    # Training episodes/epochs\n",
    "    for ep in range(11111):\n",
    "        aloss_batch, eloss_batch, aloss2_batch = [], [], []\n",
    "        total_reward = 0\n",
    "        state = env.reset()\n",
    "        num_step = 0\n",
    "        rate = -1\n",
    "\n",
    "        # Training steps/batches\n",
    "        while True:\n",
    "            # Explore (env) or Exploit (model)\n",
    "            total_step += 1\n",
    "            explore_p = explore_stop + (explore_start - explore_stop) * np.exp(-decay_rate * total_step) \n",
    "            if explore_p > np.random.rand():\n",
    "                action = env.action_space.sample()\n",
    "            else:\n",
    "                action_logits = sess.run(model.actions_logits, feed_dict={model.states: state.reshape([1, -1])})\n",
    "                action = np.argmax(action_logits)\n",
    "            next_state, reward, done, _ = env.step(action)\n",
    "            memory.buffer.append([state, action, next_state, reward, float(done), rate])\n",
    "            num_step += 1 # momory added\n",
    "            total_reward += reward\n",
    "            state = next_state\n",
    "            \n",
    "            # Training with the maxrated minibatch\n",
    "            states, actions, next_states, rewards, dones, rates = minibatch(memory=memory)\n",
    "            feed_dict = {model.states: states, model.actions: actions, model.next_states: next_states,\n",
    "                         model.rewards: rewards, model.dones: dones, model.rates: rates}\n",
    "            aloss, _ = sess.run([model.a_loss, model.a_opt], feed_dict)\n",
    "            eloss, _ = sess.run([model.e_loss, model.e_opt], feed_dict)\n",
    "            aloss2, _= sess.run([model.a_loss2, model.a_opt2], feed_dict)\n",
    "            aloss_batch.append(aloss)\n",
    "            eloss_batch.append(eloss)\n",
    "            aloss2_batch.append(aloss2)\n",
    "            if done is True:\n",
    "                break\n",
    "                \n",
    "        # Rating the latest played episode\n",
    "        rate = total_reward/500 # update rate at the end/ when episode is done\n",
    "        for idx in range(num_step): # episode length\n",
    "            if memory.buffer[-1-idx][-1] == -1: # double-check the landmark/marked indexes\n",
    "                memory.buffer[-1-idx][-1] = rate # rate the trajectory/data\n",
    "\n",
    "        # Print out\n",
    "        episode_reward.append(total_reward)\n",
    "        print('Episode:{}'.format(ep),\n",
    "              'meanR:{:.4f}'.format(np.mean(episode_reward)),\n",
    "              'R:{:.4f}'.format(total_reward),\n",
    "              'rate:{:.4f}'.format(rate),\n",
    "              'aloss:{:.4f}'.format(np.mean(aloss_batch)),\n",
    "              'eloss:{:.4f}'.format(np.mean(eloss_batch)),\n",
    "              'aloss2:{:.4f}'.format(np.mean(aloss2_batch)),\n",
    "              'exploreP:{:.4f}'.format(explore_p))\n",
    "\n",
    "        # Ploting out\n",
    "        episode_rewards_list.append([ep, np.mean(episode_reward)])\n",
    "        rewards_list.append([ep, total_reward])\n",
    "        aloss_list.append([ep, np.mean(aloss_batch)])\n",
    "        eloss_list.append([ep, np.mean(eloss_batch)])\n",
    "        aloss2_list.append([ep, np.mean(aloss2_batch)])\n",
    "        \n",
    "        # Break episode/epoch loop\n",
    "        ## Option 1: Solve the First Version\n",
    "        #The task is episodic, and in order to solve the environment, \n",
    "        #your agent must get an average score of +30 over 100 consecutive episodes.\n",
    "        if np.mean(episode_reward) >= 500:\n",
    "            break\n",
    "            \n",
    "    # At the end of all training episodes/epochs\n",
    "    saver.save(sess, 'checkpoints/model.ckpt')"
   ]
  },
  {
   "cell_type": "markdown",
   "metadata": {},
   "source": [
    "# Visualizing training\n",
    "\n",
    "Below I'll plot the total rewards for each episode. I'm plotting the rolling average too, in blue."
   ]
  },
  {
   "cell_type": "code",
   "execution_count": null,
   "metadata": {},
   "outputs": [],
   "source": [
    "import matplotlib.pyplot as plt\n",
    "%matplotlib inline\n",
    "\n",
    "def running_mean(x, N):\n",
    "    cumsum = np.cumsum(np.insert(x, 0, 0)) \n",
    "    return (cumsum[N:] - cumsum[:-N]) / N "
   ]
  },
  {
   "cell_type": "code",
   "execution_count": null,
   "metadata": {},
   "outputs": [],
   "source": [
    "eps, arr = np.array(episode_rewards_list).T\n",
    "smoothed_arr = running_mean(arr, 10)\n",
    "plt.plot(eps[-len(smoothed_arr):], smoothed_arr)\n",
    "plt.plot(eps, arr, color='grey', alpha=0.3)\n",
    "plt.xlabel('Episode')\n",
    "plt.ylabel('Total rewards')"
   ]
  },
  {
   "cell_type": "code",
   "execution_count": null,
   "metadata": {},
   "outputs": [],
   "source": [
    "eps, arr = np.array(rewards_list).T\n",
    "smoothed_arr = running_mean(arr, 10)\n",
    "plt.plot(eps[-len(smoothed_arr):], smoothed_arr)\n",
    "plt.plot(eps, arr, color='grey', alpha=0.3)\n",
    "plt.xlabel('Episode')\n",
    "plt.ylabel('Total rewards')"
   ]
  },
  {
   "cell_type": "code",
   "execution_count": null,
   "metadata": {},
   "outputs": [],
   "source": [
    "eps, arr = np.array(aloss_list).T\n",
    "smoothed_arr = running_mean(arr, 10)\n",
    "plt.plot(eps[-len(smoothed_arr):], smoothed_arr)\n",
    "plt.plot(eps, arr, color='grey', alpha=0.3)\n",
    "plt.xlabel('Episode')\n",
    "plt.ylabel('Act losses')"
   ]
  },
  {
   "cell_type": "code",
   "execution_count": null,
   "metadata": {},
   "outputs": [],
   "source": [
    "eps, arr = np.array(eloss_list).T\n",
    "smoothed_arr = running_mean(arr, 10)\n",
    "plt.plot(eps[-len(smoothed_arr):], smoothed_arr)\n",
    "plt.plot(eps, arr, color='grey', alpha=0.3)\n",
    "plt.xlabel('Episode')\n",
    "plt.ylabel('Env losses')"
   ]
  },
  {
   "cell_type": "code",
   "execution_count": null,
   "metadata": {},
   "outputs": [],
   "source": [
    "eps, arr = np.array(aloss2_list).T\n",
    "smoothed_arr = running_mean(arr, 10)\n",
    "plt.plot(eps[-len(smoothed_arr):], smoothed_arr)\n",
    "plt.plot(eps, arr, color='grey', alpha=0.3)\n",
    "plt.xlabel('Episode')\n",
    "plt.ylabel('Act losses 2')"
   ]
  },
  {
   "cell_type": "markdown",
   "metadata": {},
   "source": [
    "## Testing\n",
    "\n",
    "Let's checkout how our trained agent plays the game."
   ]
  },
  {
   "cell_type": "code",
   "execution_count": 21,
   "metadata": {},
   "outputs": [
    {
     "name": "stdout",
     "output_type": "stream",
     "text": [
      "INFO:tensorflow:Restoring parameters from checkpoints/model.ckpt\n",
      "total_reward: 500.0\n",
      "total_reward: 500.0\n",
      "total_reward: 500.0\n",
      "total_reward: 500.0\n",
      "total_reward: 500.0\n",
      "total_reward: 500.0\n",
      "total_reward: 500.0\n",
      "total_reward: 500.0\n",
      "total_reward: 500.0\n",
      "total_reward: 500.0\n"
     ]
    }
   ],
   "source": [
    "import gym\n",
    "env = gym.make('CartPole-v0')\n",
    "env = gym.make('CartPole-v1')\n",
    "\n",
    "with tf.Session() as sess:\n",
    "    sess.run(tf.global_variables_initializer())\n",
    "    saver.restore(sess, 'checkpoints/model.ckpt')    \n",
    "    #saver.restore(sess, tf.train.latest_checkpoint('checkpoints'))\n",
    "    \n",
    "    # Episodes/epochs\n",
    "    for _ in range(10):\n",
    "        state = env.reset()\n",
    "        total_reward = 0\n",
    "\n",
    "        # Steps/batches\n",
    "        while True:\n",
    "            env.render()\n",
    "            action_logits = sess.run(model.actions_logits, feed_dict={model.states: state.reshape([1, -1])})\n",
    "            action = np.argmax(action_logits)\n",
    "            state, reward, done, _ = env.step(action)\n",
    "            total_reward += reward\n",
    "            if done:\n",
    "                print('total_reward: {}'.format(total_reward))\n",
    "                break\n",
    "                \n",
    "env.close()"
   ]
  },
  {
   "cell_type": "code",
   "execution_count": null,
   "metadata": {},
   "outputs": [],
   "source": []
  }
 ],
 "metadata": {
  "kernelspec": {
   "display_name": "Python 3",
   "language": "python",
   "name": "python3"
  },
  "language_info": {
   "codemirror_mode": {
    "name": "ipython",
    "version": 3
   },
   "file_extension": ".py",
   "mimetype": "text/x-python",
   "name": "python",
   "nbconvert_exporter": "python",
   "pygments_lexer": "ipython3",
   "version": "3.6.6"
  }
 },
 "nbformat": 4,
 "nbformat_minor": 2
}
