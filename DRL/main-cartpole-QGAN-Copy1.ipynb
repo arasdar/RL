{
 "cells": [
  {
   "cell_type": "code",
   "execution_count": 1,
   "metadata": {},
   "outputs": [
    {
     "name": "stdout",
     "output_type": "stream",
     "text": [
      "TensorFlow Version: 1.7.1\n",
      "Default GPU Device: \n"
     ]
    }
   ],
   "source": [
    "import tensorflow as tf\n",
    "print('TensorFlow Version: {}'.format(tf.__version__))\n",
    "print('Default GPU Device: {}'.format(tf.test.gpu_device_name()))"
   ]
  },
  {
   "cell_type": "markdown",
   "metadata": {},
   "source": [
    "##### >**Note:** Make sure you have OpenAI Gym cloned. Then run this command `pip install -e gym/[all]`."
   ]
  },
  {
   "cell_type": "code",
   "execution_count": 2,
   "metadata": {},
   "outputs": [],
   "source": [
    "import numpy as np\n",
    "import gym\n",
    "env = gym.make('CartPole-v0')\n",
    "env = gym.make('CartPole-v1')"
   ]
  },
  {
   "cell_type": "code",
   "execution_count": 3,
   "metadata": {},
   "outputs": [],
   "source": [
    "def model_input(state_size):\n",
    "    #states = tf.placeholder(tf.float32, [None, *state_size], name='states')\n",
    "    states = tf.placeholder(tf.float32, [None, state_size], name='states')\n",
    "    actions = tf.placeholder(tf.int32, [None], name='actions')\n",
    "    next_states = tf.placeholder(tf.float32, [None, state_size], name='next_states')\n",
    "    rewards = tf.placeholder(tf.float32, [None], name='rewards')\n",
    "    dones = tf.placeholder(tf.float32, [None], name='dones')\n",
    "    rates = tf.placeholder(tf.float32, [None], name='rates') # success rate\n",
    "    return states, actions, next_states, rewards, dones, rates"
   ]
  },
  {
   "cell_type": "code",
   "execution_count": 4,
   "metadata": {},
   "outputs": [],
   "source": [
    "def Act(states, action_size, hidden_size, reuse=False, alpha=0.1, training=False):\n",
    "    with tf.variable_scope('Act', reuse=reuse):\n",
    "        # First fully connected layer\n",
    "        h1 = tf.layers.dense(inputs=states, units=hidden_size)\n",
    "        bn1 = tf.layers.batch_normalization(h1, training=training)        \n",
    "        nl1 = tf.maximum(alpha * bn1, bn1)\n",
    "        \n",
    "        # Second fully connected layer\n",
    "        h2 = tf.layers.dense(inputs=nl1, units=hidden_size)\n",
    "        bn2 = tf.layers.batch_normalization(h2, training=training)        \n",
    "        nl2 = tf.maximum(alpha * bn2, bn2)\n",
    "        \n",
    "        # Output layer\n",
    "        logits = tf.layers.dense(inputs=nl2, units=action_size)        \n",
    "        return logits"
   ]
  },
  {
   "cell_type": "code",
   "execution_count": 5,
   "metadata": {},
   "outputs": [],
   "source": [
    "def Env(states, actions, state_size, action_size, hidden_size, reuse=False, alpha=0.1, training=False):\n",
    "    with tf.variable_scope('Env', reuse=reuse):\n",
    "        # First fully connected layer\n",
    "        h1 = tf.layers.dense(inputs=states, units=action_size)\n",
    "        bn1 = tf.layers.batch_normalization(h1, training=training)        \n",
    "        nl1 = tf.maximum(alpha * bn1, bn1)\n",
    "        \n",
    "        # Second fully connected layer\n",
    "        nl1_fused = tf.concat(axis=1, values=[nl1, actions])\n",
    "        h2 = tf.layers.dense(inputs=nl1_fused, units=hidden_size)\n",
    "        bn2 = tf.layers.batch_normalization(h2, training=training)        \n",
    "        nl2 = tf.maximum(alpha * bn2, bn2)\n",
    "                \n",
    "        # Output layer\n",
    "        states_logits = tf.layers.dense(inputs=nl2, units=state_size, trainable=False)\n",
    "        Qlogits = tf.layers.dense(inputs=nl2, units=1, trainable=False)\n",
    "        return states_logits, Qlogits"
   ]
  },
  {
   "cell_type": "code",
   "execution_count": 6,
   "metadata": {},
   "outputs": [],
   "source": [
    "def model_loss(state_size, action_size, hidden_size, gamma,\n",
    "               states, actions, next_states, rewards, dones, rates):\n",
    "    ################################################ a = act(s)\n",
    "    actions_logits = Act(states=states, hidden_size=hidden_size, action_size=action_size)\n",
    "    actions_labels = tf.one_hot(indices=actions, depth=action_size, dtype=actions_logits.dtype)\n",
    "    aloss = tf.reduce_mean(tf.nn.softmax_cross_entropy_with_logits_v2(logits=actions_logits, \n",
    "                                                                      labels=actions_labels))\n",
    "    ################################################ s', r = env(s, a)\n",
    "    e_next_states_logits, eQs = Env(actions=actions_labels, states=states, hidden_size=hidden_size, \n",
    "                                    action_size=action_size, state_size=state_size)\n",
    "    a_next_states_logits, aQs = Env(actions=actions_logits, states=states, hidden_size=hidden_size, \n",
    "                                    action_size=action_size, state_size=state_size, reuse=True)\n",
    "    next_states_labels = tf.nn.sigmoid(next_states)\n",
    "    eloss = tf.reduce_mean(tf.nn.sigmoid_cross_entropy_with_logits(logits=e_next_states_logits, # GQN\n",
    "                                                                   labels=next_states_labels))\n",
    "    eloss += -tf.reduce_mean(tf.nn.sigmoid_cross_entropy_with_logits(logits=a_next_states_logits, \n",
    "                                                                     labels=next_states_labels)) # maximize loss\n",
    "    aloss2 = tf.reduce_mean(tf.nn.sigmoid_cross_entropy_with_logits(logits=a_next_states_logits, \n",
    "                                                                    labels=next_states_labels)) # minimize loss\n",
    "    eQs_logits = tf.reshape(eQs, shape=[-1])\n",
    "    aQs_logits = tf.reshape(aQs, shape=[-1])\n",
    "    #################################################### s'', Q' = ~env(s', ~a')\n",
    "    next_actions_logits = Act(states=next_states, hidden_size=hidden_size, action_size=action_size, reuse=True)\n",
    "    _, aQs2 = Env(actions=next_actions_logits, states=next_states, hidden_size=hidden_size, \n",
    "                  action_size=action_size, state_size=state_size, reuse=True)\n",
    "    aQs2_logits = tf.reshape(aQs2, shape=[-1]) * (1-dones)\n",
    "    eloss += tf.reduce_mean(tf.nn.sigmoid_cross_entropy_with_logits(logits=eQs_logits, # GAN\n",
    "                                                                    labels=rates)) # 0-1 real\n",
    "    eloss += tf.reduce_mean(tf.nn.sigmoid_cross_entropy_with_logits(logits=(aQs_logits+aQs2_logits)/2, # GAN\n",
    "                                                                    labels=tf.zeros_like(rates))) # min\n",
    "    aloss2 += tf.reduce_mean(tf.nn.sigmoid_cross_entropy_with_logits(logits=(aQs_logits+aQs2_logits)/2, # GAN\n",
    "                                                                     labels=tf.ones_like(rates))) # max\n",
    "    ###################################################### Q(s,a)= r + Q'(s',a')\n",
    "    targetQs = rewards + (gamma * aQs2_logits) # DQN/Qlearning\n",
    "    eloss += tf.reduce_mean(tf.square(eQs_logits - targetQs)) # real\n",
    "    eloss += tf.reduce_mean(tf.square(aQs_logits - rewards)) # min\n",
    "    aloss2 += tf.reduce_mean(tf.square(aQs_logits - targetQs)) # max\n",
    "#     eloss += tf.reduce_mean((aQs_logits+aQs2_logits)/2) # min\n",
    "#     aloss2 += -tf.reduce_mean((aQs_logits+aQs2_logits)/2) # max\n",
    "    return actions_logits, aloss, eloss, aloss2"
   ]
  },
  {
   "cell_type": "code",
   "execution_count": 7,
   "metadata": {},
   "outputs": [],
   "source": [
    "def model_opt(a_loss, e_loss, a_loss2, a_learning_rate, e_learning_rate):\n",
    "    # Get weights and bias to update\n",
    "    t_vars = tf.trainable_variables()\n",
    "    a_vars = [var for var in t_vars if var.name.startswith('Act')]\n",
    "    e_vars = [var for var in t_vars if var.name.startswith('Env')]\n",
    "\n",
    "    # Optimize\n",
    "    with tf.control_dependencies(tf.get_collection(tf.GraphKeys.UPDATE_OPS)): # Required for batchnorm (BN)\n",
    "        a_opt = tf.train.AdamOptimizer(a_learning_rate).minimize(a_loss, var_list=a_vars)\n",
    "        e_opt = tf.train.AdamOptimizer(e_learning_rate).minimize(e_loss, var_list=e_vars)\n",
    "        a_opt2 = tf.train.AdamOptimizer(a_learning_rate).minimize(a_loss2, var_list=a_vars)\n",
    "    return a_opt, e_opt, a_opt2"
   ]
  },
  {
   "cell_type": "code",
   "execution_count": 8,
   "metadata": {},
   "outputs": [],
   "source": [
    "class Model:\n",
    "    def __init__(self, state_size, action_size, hidden_size, a_learning_rate, e_learning_rate, gamma):\n",
    "\n",
    "        # Data of the Model: make the data available inside the framework\n",
    "        self.states, self.actions, self.next_states, self.rewards, self.dones, self.rates = model_input(\n",
    "            state_size=state_size)\n",
    "\n",
    "        # Create the Model: calculating the loss and forwad pass\n",
    "        self.actions_logits, self.a_loss, self.e_loss, self.a_loss2 = model_loss(\n",
    "            state_size=state_size, action_size=action_size, hidden_size=hidden_size, gamma=gamma, # model init\n",
    "            states=self.states, actions=self.actions, next_states=self.next_states, \n",
    "            rewards=self.rewards, dones=self.dones, rates=self.rates) # model input\n",
    "        \n",
    "        # Update the model: backward pass and backprop\n",
    "        self.a_opt, self.e_opt, self.a_opt2 = model_opt(a_loss=self.a_loss, \n",
    "                                                        e_loss=self.e_loss,\n",
    "                                                        a_loss2=self.a_loss2, \n",
    "                                                        a_learning_rate=a_learning_rate,\n",
    "                                                        e_learning_rate=e_learning_rate)"
   ]
  },
  {
   "cell_type": "code",
   "execution_count": 9,
   "metadata": {},
   "outputs": [],
   "source": [
    "from collections import deque\n",
    "class Memory():\n",
    "    def __init__(self, max_size = 1000):\n",
    "        self.buffer = deque(maxlen=max_size) # data batch\n",
    "#     def sample(self, batch_size):\n",
    "#         idx = np.random.choice(np.arange(len(self.buffer)), size=batch_size, replace=False)\n",
    "#         return [self.buffer[ii] for ii in idx]"
   ]
  },
  {
   "cell_type": "markdown",
   "metadata": {},
   "source": [
    "## Hyperparameters\n",
    "\n",
    "One of the more difficult aspects of reinforcememt learning are the large number of hyperparameters. Not only are we tuning the network, but we're tuning the simulation."
   ]
  },
  {
   "cell_type": "code",
   "execution_count": 10,
   "metadata": {},
   "outputs": [
    {
     "data": {
      "text/plain": [
       "(Box(4,), Discrete(2))"
      ]
     },
     "execution_count": 10,
     "metadata": {},
     "output_type": "execute_result"
    }
   ],
   "source": [
    "env.observation_space, env.action_space"
   ]
  },
  {
   "cell_type": "code",
   "execution_count": 11,
   "metadata": {},
   "outputs": [],
   "source": [
    "# Exploration parameters\n",
    "explore_start = 1.0            # exploration probability at start\n",
    "explore_stop = 0.01           # minimum exploration probability \n",
    "decay_rate = 0.0001            # exponential decay rate for exploration prob\n",
    "\n",
    "# Network parameters\n",
    "state_size = 4\n",
    "action_size = 2\n",
    "hidden_size = 4*2             # number of units in each Q-network hidden layer\n",
    "a_learning_rate = 1e-4         # Q-network learning rate\n",
    "e_learning_rate = 1e-4         # Q-network learning rate\n",
    "\n",
    "# Memory parameters\n",
    "memory_size = int(1e5)            # memory capacity\n",
    "batch_size = int(1e3)             # experience mini-batch size\n",
    "gamma=0.99"
   ]
  },
  {
   "cell_type": "code",
   "execution_count": 12,
   "metadata": {},
   "outputs": [],
   "source": [
    "# Reset/init the graph/session\n",
    "graph = tf.reset_default_graph()\n",
    "\n",
    "# Init the model\n",
    "model = Model(action_size=action_size, state_size=state_size, hidden_size=hidden_size, gamma=gamma,\n",
    "              a_learning_rate=a_learning_rate, e_learning_rate=e_learning_rate)\n",
    "\n",
    "# Init the memory\n",
    "memory = Memory(max_size=memory_size)"
   ]
  },
  {
   "cell_type": "code",
   "execution_count": 13,
   "metadata": {},
   "outputs": [],
   "source": [
    "state = env.reset()\n",
    "total_reward = 0\n",
    "num_step = 0\n",
    "for _ in range(memory_size):\n",
    "    action = env.action_space.sample()\n",
    "    next_state, reward, done, _ = env.step(action)\n",
    "    rate = -1\n",
    "    memory.buffer.append([state, action, next_state, reward, float(done), rate])\n",
    "    num_step += 1 # memory incremented\n",
    "    total_reward += reward\n",
    "    state = next_state\n",
    "    if done is True:\n",
    "        rate = total_reward/500\n",
    "        for idx in range(num_step): # episode length\n",
    "            if memory.buffer[-1-idx][-1] == -1:\n",
    "                memory.buffer[-1-idx][-1] = rate\n",
    "        state = env.reset()\n",
    "        total_reward = 0 # reset\n",
    "        num_step = 0 # reset"
   ]
  },
  {
   "cell_type": "markdown",
   "metadata": {},
   "source": [
    "## Training the model\n",
    "\n",
    "Below we'll train our agent. If you want to watch it train, uncomment the `env.render()` line. This is slow because it's rendering the frames slower than the network can train. But, it's cool to watch the agent get better at the game."
   ]
  },
  {
   "cell_type": "code",
   "execution_count": null,
   "metadata": {},
   "outputs": [
    {
     "name": "stdout",
     "output_type": "stream",
     "text": [
      "Episode:0 meanR:16.0000 R:16.0000 rate:0.0320 aloss:0.6931 eloss:3.1392 aloss2:2.3696 exploreP:0.9984\n",
      "Episode:1 meanR:19.0000 R:22.0000 rate:0.0440 aloss:0.6916 eloss:3.1272 aloss2:2.3588 exploreP:0.9962\n",
      "Episode:2 meanR:25.0000 R:37.0000 rate:0.0740 aloss:0.6888 eloss:3.1145 aloss2:2.3468 exploreP:0.9926\n",
      "Episode:3 meanR:25.2500 R:26.0000 rate:0.0520 aloss:0.6880 eloss:3.0853 aloss2:2.3367 exploreP:0.9901\n",
      "Episode:4 meanR:25.8000 R:28.0000 rate:0.0560 aloss:0.6862 eloss:3.0933 aloss2:2.3316 exploreP:0.9873\n",
      "Episode:5 meanR:23.5000 R:12.0000 rate:0.0240 aloss:0.6897 eloss:3.0529 aloss2:2.3217 exploreP:0.9861\n",
      "Episode:6 meanR:23.0000 R:20.0000 rate:0.0400 aloss:0.6868 eloss:3.0650 aloss2:2.3152 exploreP:0.9842\n",
      "Episode:7 meanR:25.2500 R:41.0000 rate:0.0820 aloss:0.6869 eloss:3.0576 aloss2:2.3072 exploreP:0.9802\n",
      "Episode:8 meanR:25.1111 R:24.0000 rate:0.0480 aloss:0.6844 eloss:3.0552 aloss2:2.2969 exploreP:0.9779\n",
      "Episode:9 meanR:24.6000 R:20.0000 rate:0.0400 aloss:0.6841 eloss:3.0342 aloss2:2.2845 exploreP:0.9759\n",
      "Episode:10 meanR:25.0000 R:29.0000 rate:0.0580 aloss:0.6848 eloss:3.0328 aloss2:2.2802 exploreP:0.9731\n",
      "Episode:11 meanR:24.9167 R:24.0000 rate:0.0480 aloss:0.6810 eloss:3.0039 aloss2:2.2600 exploreP:0.9708\n",
      "Episode:12 meanR:27.5385 R:59.0000 rate:0.1180 aloss:0.6843 eloss:3.0271 aloss2:2.2521 exploreP:0.9652\n",
      "Episode:13 meanR:29.1429 R:50.0000 rate:0.1000 aloss:0.6858 eloss:3.0148 aloss2:2.2416 exploreP:0.9604\n",
      "Episode:14 meanR:28.8667 R:25.0000 rate:0.0500 aloss:0.6824 eloss:3.0179 aloss2:2.2327 exploreP:0.9580\n",
      "Episode:15 meanR:28.4375 R:22.0000 rate:0.0440 aloss:0.6836 eloss:3.0578 aloss2:2.2196 exploreP:0.9560\n",
      "Episode:16 meanR:27.5294 R:13.0000 rate:0.0260 aloss:0.6783 eloss:3.0431 aloss2:2.2080 exploreP:0.9547\n",
      "Episode:17 meanR:28.5000 R:45.0000 rate:0.0900 aloss:0.6821 eloss:3.0264 aloss2:2.2092 exploreP:0.9505\n",
      "Episode:18 meanR:27.6842 R:13.0000 rate:0.0260 aloss:0.6929 eloss:3.0150 aloss2:2.2135 exploreP:0.9493\n",
      "Episode:19 meanR:27.9000 R:32.0000 rate:0.0640 aloss:0.6884 eloss:2.9928 aloss2:2.1982 exploreP:0.9463\n",
      "Episode:20 meanR:27.2857 R:15.0000 rate:0.0300 aloss:0.6839 eloss:3.0590 aloss2:2.1917 exploreP:0.9449\n",
      "Episode:21 meanR:26.6818 R:14.0000 rate:0.0280 aloss:0.6851 eloss:3.0937 aloss2:2.1875 exploreP:0.9436\n",
      "Episode:22 meanR:27.0000 R:34.0000 rate:0.0680 aloss:0.6849 eloss:3.0509 aloss2:2.1904 exploreP:0.9404\n",
      "Episode:23 meanR:26.9167 R:25.0000 rate:0.0500 aloss:0.6807 eloss:3.0886 aloss2:2.1816 exploreP:0.9381\n",
      "Episode:24 meanR:26.6800 R:21.0000 rate:0.0420 aloss:0.6837 eloss:3.0966 aloss2:2.1782 exploreP:0.9361\n",
      "Episode:25 meanR:26.2308 R:15.0000 rate:0.0300 aloss:0.6879 eloss:3.0440 aloss2:2.1848 exploreP:0.9347\n",
      "Episode:26 meanR:26.2963 R:28.0000 rate:0.0560 aloss:0.6835 eloss:3.1116 aloss2:2.1686 exploreP:0.9321\n",
      "Episode:27 meanR:25.9286 R:16.0000 rate:0.0320 aloss:0.6846 eloss:3.0832 aloss2:2.1698 exploreP:0.9307\n",
      "Episode:28 meanR:25.5517 R:15.0000 rate:0.0300 aloss:0.6812 eloss:3.1131 aloss2:2.1693 exploreP:0.9293\n",
      "Episode:29 meanR:25.4667 R:23.0000 rate:0.0460 aloss:0.6833 eloss:3.0713 aloss2:2.1752 exploreP:0.9272\n",
      "Episode:30 meanR:25.3226 R:21.0000 rate:0.0420 aloss:0.6812 eloss:3.1986 aloss2:2.1545 exploreP:0.9253\n",
      "Episode:31 meanR:25.0312 R:16.0000 rate:0.0320 aloss:0.6847 eloss:3.1436 aloss2:2.1634 exploreP:0.9238\n",
      "Episode:32 meanR:24.6061 R:11.0000 rate:0.0220 aloss:0.6820 eloss:3.1669 aloss2:2.1340 exploreP:0.9228\n",
      "Episode:33 meanR:24.7059 R:28.0000 rate:0.0560 aloss:0.6814 eloss:3.1524 aloss2:2.1596 exploreP:0.9202\n",
      "Episode:34 meanR:24.3143 R:11.0000 rate:0.0220 aloss:0.6794 eloss:3.1978 aloss2:2.1558 exploreP:0.9192\n",
      "Episode:35 meanR:24.1667 R:19.0000 rate:0.0380 aloss:0.7024 eloss:3.1915 aloss2:2.1443 exploreP:0.9175\n",
      "Episode:36 meanR:24.5676 R:39.0000 rate:0.0780 aloss:0.6833 eloss:3.2243 aloss2:2.1503 exploreP:0.9140\n",
      "Episode:37 meanR:24.4211 R:19.0000 rate:0.0380 aloss:0.6848 eloss:3.2175 aloss2:2.1480 exploreP:0.9123\n",
      "Episode:38 meanR:24.2564 R:18.0000 rate:0.0360 aloss:0.6868 eloss:3.2509 aloss2:2.1451 exploreP:0.9106\n",
      "Episode:39 meanR:24.4750 R:33.0000 rate:0.0660 aloss:0.6840 eloss:3.2797 aloss2:2.1384 exploreP:0.9077\n",
      "Episode:40 meanR:24.3902 R:21.0000 rate:0.0420 aloss:0.6789 eloss:3.3001 aloss2:2.1415 exploreP:0.9058\n",
      "Episode:41 meanR:24.0952 R:12.0000 rate:0.0240 aloss:0.6842 eloss:3.2890 aloss2:2.1419 exploreP:0.9047\n",
      "Episode:42 meanR:25.2093 R:72.0000 rate:0.1440 aloss:0.6802 eloss:3.3478 aloss2:2.1375 exploreP:0.8983\n",
      "Episode:43 meanR:26.2727 R:72.0000 rate:0.1440 aloss:0.6812 eloss:3.4613 aloss2:2.1287 exploreP:0.8919\n",
      "Episode:44 meanR:26.3333 R:29.0000 rate:0.0580 aloss:0.6767 eloss:3.4805 aloss2:2.1299 exploreP:0.8894\n",
      "Episode:45 meanR:26.5435 R:36.0000 rate:0.0720 aloss:0.6808 eloss:3.4101 aloss2:2.1408 exploreP:0.8862\n",
      "Episode:46 meanR:26.4468 R:22.0000 rate:0.0440 aloss:0.6818 eloss:3.4633 aloss2:2.1351 exploreP:0.8843\n",
      "Episode:47 meanR:26.2917 R:19.0000 rate:0.0380 aloss:0.6755 eloss:3.6195 aloss2:2.1155 exploreP:0.8826\n",
      "Episode:48 meanR:26.2041 R:22.0000 rate:0.0440 aloss:0.6791 eloss:3.5189 aloss2:2.1357 exploreP:0.8807\n",
      "Episode:49 meanR:26.1200 R:22.0000 rate:0.0440 aloss:0.6856 eloss:3.5294 aloss2:2.1320 exploreP:0.8788\n",
      "Episode:50 meanR:25.8627 R:13.0000 rate:0.0260 aloss:0.6824 eloss:3.5463 aloss2:2.1350 exploreP:0.8777\n",
      "Episode:51 meanR:25.8846 R:27.0000 rate:0.0540 aloss:0.6920 eloss:3.5166 aloss2:2.1330 exploreP:0.8753\n",
      "Episode:52 meanR:25.7170 R:17.0000 rate:0.0340 aloss:0.7114 eloss:3.5064 aloss2:2.1157 exploreP:0.8739\n",
      "Episode:53 meanR:25.5556 R:17.0000 rate:0.0340 aloss:0.6795 eloss:3.5956 aloss2:2.1358 exploreP:0.8724\n",
      "Episode:54 meanR:25.4000 R:17.0000 rate:0.0340 aloss:0.6807 eloss:3.5095 aloss2:2.1425 exploreP:0.8709\n",
      "Episode:55 meanR:25.1964 R:14.0000 rate:0.0280 aloss:0.6772 eloss:3.5976 aloss2:2.1385 exploreP:0.8697\n",
      "Episode:56 meanR:25.4561 R:40.0000 rate:0.0800 aloss:0.6812 eloss:3.5752 aloss2:2.1452 exploreP:0.8663\n",
      "Episode:57 meanR:25.6034 R:34.0000 rate:0.0680 aloss:0.6805 eloss:3.5705 aloss2:2.1456 exploreP:0.8634\n",
      "Episode:58 meanR:25.5424 R:22.0000 rate:0.0440 aloss:0.6739 eloss:3.5677 aloss2:2.1427 exploreP:0.8615\n",
      "Episode:59 meanR:25.5500 R:26.0000 rate:0.0520 aloss:0.6816 eloss:3.5080 aloss2:2.1592 exploreP:0.8593\n",
      "Episode:60 meanR:25.6230 R:30.0000 rate:0.0600 aloss:0.6837 eloss:3.5489 aloss2:2.1561 exploreP:0.8567\n",
      "Episode:61 meanR:25.8387 R:39.0000 rate:0.0780 aloss:0.6795 eloss:3.5508 aloss2:2.1596 exploreP:0.8535\n",
      "Episode:62 meanR:25.8095 R:24.0000 rate:0.0480 aloss:0.6784 eloss:3.5525 aloss2:2.1597 exploreP:0.8514\n",
      "Episode:63 meanR:25.5781 R:11.0000 rate:0.0220 aloss:0.6844 eloss:3.5487 aloss2:2.1609 exploreP:0.8505\n",
      "Episode:64 meanR:25.4769 R:19.0000 rate:0.0380 aloss:0.6779 eloss:3.5260 aloss2:2.1630 exploreP:0.8489\n",
      "Episode:65 meanR:26.1061 R:67.0000 rate:0.1340 aloss:0.6812 eloss:3.5287 aloss2:2.1667 exploreP:0.8433\n",
      "Episode:66 meanR:26.0299 R:21.0000 rate:0.0420 aloss:0.6827 eloss:3.4724 aloss2:2.1753 exploreP:0.8416\n",
      "Episode:67 meanR:26.1029 R:31.0000 rate:0.0620 aloss:0.6771 eloss:3.5484 aloss2:2.1614 exploreP:0.8390\n",
      "Episode:68 meanR:26.0290 R:21.0000 rate:0.0420 aloss:0.6850 eloss:3.4720 aloss2:2.1752 exploreP:0.8372\n",
      "Episode:69 meanR:25.8857 R:16.0000 rate:0.0320 aloss:0.6885 eloss:3.4982 aloss2:2.1761 exploreP:0.8359\n",
      "Episode:70 meanR:25.8592 R:24.0000 rate:0.0480 aloss:0.6833 eloss:3.4875 aloss2:2.1762 exploreP:0.8339\n",
      "Episode:71 meanR:25.9167 R:30.0000 rate:0.0600 aloss:0.6864 eloss:3.4917 aloss2:2.1778 exploreP:0.8315\n",
      "Episode:72 meanR:25.9041 R:25.0000 rate:0.0500 aloss:0.6840 eloss:3.4578 aloss2:2.1816 exploreP:0.8294\n",
      "Episode:73 meanR:25.9054 R:26.0000 rate:0.0520 aloss:0.6898 eloss:3.4559 aloss2:2.1833 exploreP:0.8273\n",
      "Episode:74 meanR:25.7467 R:14.0000 rate:0.0280 aloss:0.6933 eloss:3.4602 aloss2:2.1914 exploreP:0.8262\n",
      "Episode:75 meanR:25.6447 R:18.0000 rate:0.0360 aloss:0.6903 eloss:3.4383 aloss2:2.1870 exploreP:0.8247\n",
      "Episode:76 meanR:25.5974 R:22.0000 rate:0.0440 aloss:0.6904 eloss:3.4434 aloss2:2.1914 exploreP:0.8229\n",
      "Episode:77 meanR:25.4231 R:12.0000 rate:0.0240 aloss:0.6885 eloss:3.4427 aloss2:2.1939 exploreP:0.8219\n",
      "Episode:78 meanR:25.4684 R:29.0000 rate:0.0580 aloss:0.6872 eloss:3.4143 aloss2:2.1957 exploreP:0.8196\n",
      "Episode:79 meanR:25.3750 R:18.0000 rate:0.0360 aloss:0.7019 eloss:3.3931 aloss2:2.2039 exploreP:0.8181\n"
     ]
    },
    {
     "name": "stdout",
     "output_type": "stream",
     "text": [
      "Episode:80 meanR:25.2222 R:13.0000 rate:0.0260 aloss:0.6812 eloss:3.3953 aloss2:2.2002 exploreP:0.8171\n",
      "Episode:81 meanR:25.1341 R:18.0000 rate:0.0360 aloss:0.6979 eloss:3.3883 aloss2:2.2057 exploreP:0.8156\n",
      "Episode:82 meanR:25.1205 R:24.0000 rate:0.0480 aloss:0.7002 eloss:3.3405 aloss2:2.1964 exploreP:0.8137\n",
      "Episode:83 meanR:25.5595 R:62.0000 rate:0.1240 aloss:0.6856 eloss:3.3493 aloss2:2.2063 exploreP:0.8087\n",
      "Episode:84 meanR:25.4353 R:15.0000 rate:0.0300 aloss:0.6900 eloss:3.3222 aloss2:2.2060 exploreP:0.8075\n",
      "Episode:85 meanR:25.4302 R:25.0000 rate:0.0500 aloss:0.6949 eloss:3.3302 aloss2:2.2082 exploreP:0.8055\n",
      "Episode:86 meanR:25.4483 R:27.0000 rate:0.0540 aloss:0.6972 eloss:3.3324 aloss2:2.2080 exploreP:0.8034\n",
      "Episode:87 meanR:25.6364 R:42.0000 rate:0.0840 aloss:0.6920 eloss:3.3130 aloss2:2.2091 exploreP:0.8001\n",
      "Episode:88 meanR:25.6966 R:31.0000 rate:0.0620 aloss:0.6881 eloss:3.2958 aloss2:2.2087 exploreP:0.7976\n",
      "Episode:89 meanR:25.8111 R:36.0000 rate:0.0720 aloss:0.6995 eloss:3.2845 aloss2:2.2099 exploreP:0.7948\n"
     ]
    }
   ],
   "source": [
    "# Save/load the model and save for plotting\n",
    "saver = tf.train.Saver()\n",
    "episode_rewards_list, rewards_list = [], []\n",
    "aloss_list, eloss_list, aloss2_list = [], [], []\n",
    "\n",
    "# TF session for training\n",
    "with tf.Session(graph=graph) as sess:\n",
    "    sess.run(tf.global_variables_initializer())\n",
    "    #saver.restore(sess, 'checkpoints/model.ckpt')    \n",
    "    #saver.restore(sess, tf.train.latest_checkpoint('checkpoints'))\n",
    "    total_step = 0 # Explore or exploit parameter\n",
    "    episode_reward = deque(maxlen=100) # 100 episodes for running average/running mean/window\n",
    "\n",
    "    # Training episodes/epochs\n",
    "    for ep in range(11111):\n",
    "        aloss_batch, eloss_batch, aloss2_batch = [], [], []\n",
    "        total_reward = 0\n",
    "        state = env.reset()\n",
    "        num_step = 0\n",
    "        rate = -1\n",
    "\n",
    "        # Training steps/batches\n",
    "        while True:\n",
    "            # Explore (env) or Exploit (model)\n",
    "            total_step += 1\n",
    "            explore_p = explore_stop + (explore_start - explore_stop) * np.exp(-decay_rate * total_step) \n",
    "            if explore_p > np.random.rand():\n",
    "                action = env.action_space.sample()\n",
    "            else:\n",
    "                action_logits = sess.run(model.actions_logits, feed_dict={model.states: state.reshape([1, -1])})\n",
    "                action = np.argmax(action_logits)\n",
    "            next_state, reward, done, _ = env.step(action)\n",
    "            memory.buffer.append([state, action, next_state, reward, float(done), rate])\n",
    "            num_step += 1 # momory added\n",
    "            total_reward += reward\n",
    "            state = next_state\n",
    "            \n",
    "            # Training with the maxrated minibatch\n",
    "            batch = memory.buffer\n",
    "            #for idx in range(memory_size// batch_size):\n",
    "            while True:\n",
    "                idx = np.random.choice(np.arange(memory_size// batch_size))\n",
    "                states = np.array([each[0] for each in batch])[idx*batch_size:(idx+1)*batch_size]\n",
    "                actions = np.array([each[1] for each in batch])[idx*batch_size:(idx+1)*batch_size]\n",
    "                next_states = np.array([each[2] for each in batch])[idx*batch_size:(idx+1)*batch_size]\n",
    "                rewards = np.array([each[3] for each in batch])[idx*batch_size:(idx+1)*batch_size]\n",
    "                dones = np.array([each[4] for each in batch])[idx*batch_size:(idx+1)*batch_size]\n",
    "                rates = np.array([each[5] for each in batch])[idx*batch_size:(idx+1)*batch_size]\n",
    "                states = states[rates >= np.max(rates)]\n",
    "                actions = actions[rates >= np.max(rates)]\n",
    "                next_states = next_states[rates >= np.max(rates)]\n",
    "                rewards = rewards[rates >= np.max(rates)]\n",
    "                dones = dones[rates >= np.max(rates)]\n",
    "                rates = rates[rates >= np.max(rates)]\n",
    "                if np.count_nonzero(dones) > 0 and len(dones) > 1 and np.max(rates) > 0:\n",
    "                    break\n",
    "            aloss, _ = sess.run([model.a_loss, model.a_opt],\n",
    "                                  feed_dict = {model.states: states, \n",
    "                                               model.actions: actions,\n",
    "                                               model.next_states: next_states,\n",
    "                                               model.rewards: rewards,\n",
    "                                               model.dones: dones,\n",
    "                                               model.rates: rates})\n",
    "            eloss, _ = sess.run([model.e_loss, model.e_opt],\n",
    "                                  feed_dict = {model.states: states, \n",
    "                                               model.actions: actions,\n",
    "                                               model.next_states: next_states,\n",
    "                                               model.rewards: rewards,\n",
    "                                               model.dones: dones,\n",
    "                                               model.rates: rates})\n",
    "            aloss2, _= sess.run([model.a_loss2, model.a_opt2], \n",
    "                                 feed_dict = {model.states: states, \n",
    "                                              model.actions: actions,\n",
    "                                              model.next_states: next_states,\n",
    "                                              model.rewards: rewards,\n",
    "                                              model.dones: dones,\n",
    "                                              model.rates: rates})\n",
    "            # print(len(dones), np.count_nonzero(dones), np.max(rates))\n",
    "            aloss_batch.append(aloss)\n",
    "            eloss_batch.append(eloss)\n",
    "            aloss2_batch.append(aloss2)\n",
    "            if done is True:\n",
    "                break\n",
    "                \n",
    "        # Rating the latest played episode\n",
    "        rate = total_reward/500 # update rate at the end/ when episode is done\n",
    "        for idx in range(num_step): # episode length\n",
    "            if memory.buffer[-1-idx][-1] == -1: # double-check the landmark/marked indexes\n",
    "                memory.buffer[-1-idx][-1] = rate # rate the trajectory/data\n",
    "\n",
    "        # Print out\n",
    "        episode_reward.append(total_reward)\n",
    "        print('Episode:{}'.format(ep),\n",
    "              'meanR:{:.4f}'.format(np.mean(episode_reward)),\n",
    "              'R:{:.4f}'.format(total_reward),\n",
    "              'rate:{:.4f}'.format(rate),\n",
    "              'aloss:{:.4f}'.format(np.mean(aloss_batch)),\n",
    "              'eloss:{:.4f}'.format(np.mean(eloss_batch)),\n",
    "              'aloss2:{:.4f}'.format(np.mean(aloss2_batch)),\n",
    "              'exploreP:{:.4f}'.format(explore_p))\n",
    "\n",
    "        # Ploting out\n",
    "        episode_rewards_list.append([ep, np.mean(episode_reward)])\n",
    "        rewards_list.append([ep, total_reward])\n",
    "        aloss_list.append([ep, np.mean(aloss_batch)])\n",
    "        eloss_list.append([ep, np.mean(eloss_batch)])\n",
    "        aloss2_list.append([ep, np.mean(aloss2_batch)])\n",
    "        \n",
    "        # Break episode/epoch loop\n",
    "        ## Option 1: Solve the First Version\n",
    "        #The task is episodic, and in order to solve the environment, \n",
    "        #your agent must get an average score of +30 over 100 consecutive episodes.\n",
    "        if np.mean(episode_reward) >= 500:\n",
    "            break\n",
    "            \n",
    "    # At the end of all training episodes/epochs\n",
    "    saver.save(sess, 'checkpoints/model.ckpt')"
   ]
  },
  {
   "cell_type": "markdown",
   "metadata": {},
   "source": [
    "# Visualizing training\n",
    "\n",
    "Below I'll plot the total rewards for each episode. I'm plotting the rolling average too, in blue."
   ]
  },
  {
   "cell_type": "code",
   "execution_count": null,
   "metadata": {},
   "outputs": [],
   "source": [
    "import matplotlib.pyplot as plt\n",
    "%matplotlib inline\n",
    "\n",
    "def running_mean(x, N):\n",
    "    cumsum = np.cumsum(np.insert(x, 0, 0)) \n",
    "    return (cumsum[N:] - cumsum[:-N]) / N "
   ]
  },
  {
   "cell_type": "code",
   "execution_count": null,
   "metadata": {},
   "outputs": [],
   "source": [
    "eps, arr = np.array(episode_rewards_list).T\n",
    "smoothed_arr = running_mean(arr, 10)\n",
    "plt.plot(eps[-len(smoothed_arr):], smoothed_arr)\n",
    "plt.plot(eps, arr, color='grey', alpha=0.3)\n",
    "plt.xlabel('Episode')\n",
    "plt.ylabel('Total rewards')"
   ]
  },
  {
   "cell_type": "code",
   "execution_count": null,
   "metadata": {},
   "outputs": [],
   "source": [
    "eps, arr = np.array(rewards_list).T\n",
    "smoothed_arr = running_mean(arr, 10)\n",
    "plt.plot(eps[-len(smoothed_arr):], smoothed_arr)\n",
    "plt.plot(eps, arr, color='grey', alpha=0.3)\n",
    "plt.xlabel('Episode')\n",
    "plt.ylabel('Total rewards')"
   ]
  },
  {
   "cell_type": "code",
   "execution_count": null,
   "metadata": {},
   "outputs": [],
   "source": [
    "eps, arr = np.array(aloss_list).T\n",
    "smoothed_arr = running_mean(arr, 10)\n",
    "plt.plot(eps[-len(smoothed_arr):], smoothed_arr)\n",
    "plt.plot(eps, arr, color='grey', alpha=0.3)\n",
    "plt.xlabel('Episode')\n",
    "plt.ylabel('Act losses')"
   ]
  },
  {
   "cell_type": "code",
   "execution_count": null,
   "metadata": {},
   "outputs": [],
   "source": [
    "eps, arr = np.array(eloss_list).T\n",
    "smoothed_arr = running_mean(arr, 10)\n",
    "plt.plot(eps[-len(smoothed_arr):], smoothed_arr)\n",
    "plt.plot(eps, arr, color='grey', alpha=0.3)\n",
    "plt.xlabel('Episode')\n",
    "plt.ylabel('Env losses')"
   ]
  },
  {
   "cell_type": "code",
   "execution_count": null,
   "metadata": {},
   "outputs": [],
   "source": [
    "eps, arr = np.array(aloss2_list).T\n",
    "smoothed_arr = running_mean(arr, 10)\n",
    "plt.plot(eps[-len(smoothed_arr):], smoothed_arr)\n",
    "plt.plot(eps, arr, color='grey', alpha=0.3)\n",
    "plt.xlabel('Episode')\n",
    "plt.ylabel('Act losses 2')"
   ]
  },
  {
   "cell_type": "markdown",
   "metadata": {},
   "source": [
    "## Testing\n",
    "\n",
    "Let's checkout how our trained agent plays the game."
   ]
  },
  {
   "cell_type": "code",
   "execution_count": 21,
   "metadata": {},
   "outputs": [
    {
     "name": "stdout",
     "output_type": "stream",
     "text": [
      "INFO:tensorflow:Restoring parameters from checkpoints/model.ckpt\n",
      "total_reward: 500.0\n",
      "total_reward: 500.0\n",
      "total_reward: 500.0\n",
      "total_reward: 500.0\n",
      "total_reward: 500.0\n",
      "total_reward: 500.0\n",
      "total_reward: 500.0\n",
      "total_reward: 500.0\n",
      "total_reward: 500.0\n",
      "total_reward: 500.0\n"
     ]
    }
   ],
   "source": [
    "import gym\n",
    "env = gym.make('CartPole-v0')\n",
    "env = gym.make('CartPole-v1')\n",
    "\n",
    "with tf.Session() as sess:\n",
    "    sess.run(tf.global_variables_initializer())\n",
    "    saver.restore(sess, 'checkpoints/model.ckpt')    \n",
    "    #saver.restore(sess, tf.train.latest_checkpoint('checkpoints'))\n",
    "    \n",
    "    # Episodes/epochs\n",
    "    for _ in range(10):\n",
    "        state = env.reset()\n",
    "        total_reward = 0\n",
    "\n",
    "        # Steps/batches\n",
    "        while True:\n",
    "            env.render()\n",
    "            action_logits = sess.run(model.actions_logits, feed_dict={model.states: state.reshape([1, -1])})\n",
    "            action = np.argmax(action_logits)\n",
    "            state, reward, done, _ = env.step(action)\n",
    "            total_reward += reward\n",
    "            if done:\n",
    "                print('total_reward: {}'.format(total_reward))\n",
    "                break\n",
    "                \n",
    "env.close()"
   ]
  },
  {
   "cell_type": "code",
   "execution_count": null,
   "metadata": {},
   "outputs": [],
   "source": []
  }
 ],
 "metadata": {
  "kernelspec": {
   "display_name": "Python 3",
   "language": "python",
   "name": "python3"
  },
  "language_info": {
   "codemirror_mode": {
    "name": "ipython",
    "version": 3
   },
   "file_extension": ".py",
   "mimetype": "text/x-python",
   "name": "python",
   "nbconvert_exporter": "python",
   "pygments_lexer": "ipython3",
   "version": "3.6.6"
  }
 },
 "nbformat": 4,
 "nbformat_minor": 2
}
