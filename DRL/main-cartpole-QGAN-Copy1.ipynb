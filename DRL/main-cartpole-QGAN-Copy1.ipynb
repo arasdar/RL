{
 "cells": [
  {
   "cell_type": "code",
   "execution_count": 1,
   "metadata": {},
   "outputs": [
    {
     "name": "stdout",
     "output_type": "stream",
     "text": [
      "TensorFlow Version: 1.7.1\n",
      "Default GPU Device: \n"
     ]
    }
   ],
   "source": [
    "import tensorflow as tf\n",
    "print('TensorFlow Version: {}'.format(tf.__version__))\n",
    "print('Default GPU Device: {}'.format(tf.test.gpu_device_name()))"
   ]
  },
  {
   "cell_type": "markdown",
   "metadata": {},
   "source": [
    "##### >**Note:** Make sure you have OpenAI Gym cloned. Then run this command `pip install -e gym/[all]`."
   ]
  },
  {
   "cell_type": "code",
   "execution_count": 2,
   "metadata": {},
   "outputs": [],
   "source": [
    "import numpy as np\n",
    "import gym\n",
    "env = gym.make('CartPole-v0')\n",
    "env = gym.make('CartPole-v1')"
   ]
  },
  {
   "cell_type": "code",
   "execution_count": 3,
   "metadata": {},
   "outputs": [],
   "source": [
    "def model_input(state_size):\n",
    "    #states = tf.placeholder(tf.float32, [None, *state_size], name='states')\n",
    "    states = tf.placeholder(tf.float32, [None, state_size], name='states')\n",
    "    actions = tf.placeholder(tf.int32, [None], name='actions')\n",
    "    next_states = tf.placeholder(tf.float32, [None, state_size], name='next_states')\n",
    "    rewards = tf.placeholder(tf.float32, [None], name='rewards')\n",
    "    dones = tf.placeholder(tf.float32, [None], name='dones')\n",
    "    rates = tf.placeholder(tf.float32, [None], name='rates') # success rate\n",
    "    return states, actions, next_states, rewards, dones, rates"
   ]
  },
  {
   "cell_type": "code",
   "execution_count": 4,
   "metadata": {},
   "outputs": [],
   "source": [
    "def Act(states, action_size, hidden_size, reuse=False, alpha=0.1, training=False):\n",
    "    with tf.variable_scope('Act', reuse=reuse):\n",
    "        # First fully connected layer\n",
    "        h1 = tf.layers.dense(inputs=states, units=hidden_size)\n",
    "        bn1 = tf.layers.batch_normalization(h1, training=training)        \n",
    "        nl1 = tf.maximum(alpha * bn1, bn1)\n",
    "        \n",
    "        # Second fully connected layer\n",
    "        h2 = tf.layers.dense(inputs=nl1, units=hidden_size)\n",
    "        bn2 = tf.layers.batch_normalization(h2, training=training)        \n",
    "        nl2 = tf.maximum(alpha * bn2, bn2)\n",
    "        \n",
    "        # Output layer\n",
    "        logits = tf.layers.dense(inputs=nl2, units=action_size)        \n",
    "        return logits"
   ]
  },
  {
   "cell_type": "code",
   "execution_count": 5,
   "metadata": {},
   "outputs": [],
   "source": [
    "def Env(states, actions, state_size, action_size, hidden_size, reuse=False, alpha=0.1, training=False):\n",
    "    with tf.variable_scope('Env', reuse=reuse):\n",
    "        # First fully connected layer\n",
    "        h1 = tf.layers.dense(inputs=states, units=action_size)\n",
    "        bn1 = tf.layers.batch_normalization(h1, training=training)        \n",
    "        nl1 = tf.maximum(alpha * bn1, bn1)\n",
    "        \n",
    "        # Second fully connected layer\n",
    "        nl1_fused = tf.concat(axis=1, values=[nl1, actions])\n",
    "        h2 = tf.layers.dense(inputs=nl1_fused, units=hidden_size)\n",
    "        bn2 = tf.layers.batch_normalization(h2, training=training)        \n",
    "        nl2 = tf.maximum(alpha * bn2, bn2)\n",
    "                \n",
    "        # Output layer\n",
    "        states_logits = tf.layers.dense(inputs=nl2, units=state_size, trainable=False)\n",
    "        Qlogits = tf.layers.dense(inputs=nl2, units=1, trainable=False)\n",
    "        return states_logits, Qlogits"
   ]
  },
  {
   "cell_type": "code",
   "execution_count": 6,
   "metadata": {},
   "outputs": [],
   "source": [
    "def model_loss(state_size, action_size, hidden_size, gamma,\n",
    "               states, actions, next_states, rewards, dones, rates):\n",
    "    ################################################ a = act(s)\n",
    "    actions_logits = Act(states=states, hidden_size=hidden_size, action_size=action_size)\n",
    "    actions_labels = tf.one_hot(indices=actions, depth=action_size, dtype=actions_logits.dtype)\n",
    "    aloss = tf.reduce_mean(tf.nn.softmax_cross_entropy_with_logits_v2(logits=actions_logits, \n",
    "                                                                      labels=actions_labels))\n",
    "    ################################################ s', r = env(s, a)\n",
    "    e_next_states_logits, eQs = Env(actions=actions_labels, states=states, hidden_size=hidden_size, \n",
    "                                    action_size=action_size, state_size=state_size)\n",
    "    a_next_states_logits, aQs = Env(actions=actions_logits, states=states, hidden_size=hidden_size, \n",
    "                                    action_size=action_size, state_size=state_size, reuse=True)\n",
    "    next_states_labels = tf.nn.sigmoid(next_states)\n",
    "    eloss = tf.reduce_mean(tf.nn.sigmoid_cross_entropy_with_logits(logits=e_next_states_logits, # GQN\n",
    "                                                                   labels=next_states_labels))\n",
    "    eloss += -tf.reduce_mean(tf.nn.sigmoid_cross_entropy_with_logits(logits=a_next_states_logits, \n",
    "                                                                     labels=next_states_labels)) # maximize loss\n",
    "    aloss2 = tf.reduce_mean(tf.nn.sigmoid_cross_entropy_with_logits(logits=a_next_states_logits, \n",
    "                                                                    labels=next_states_labels)) # minimize loss\n",
    "    #################################################### s'', Q' = ~env(s', ~a')\n",
    "    next_actions_logits = Act(states=next_states, hidden_size=hidden_size, action_size=action_size, reuse=True)\n",
    "    next_states_logits, aQs2 = Env(actions=next_actions_logits, states=next_states, hidden_size=hidden_size, \n",
    "                                   action_size=action_size, state_size=state_size, reuse=True)\n",
    "    eQs_logits = tf.reshape(eQs, shape=[-1])\n",
    "    aQs_logits = tf.reshape(aQs, shape=[-1])\n",
    "    aQs2_logits = tf.reshape(aQs2, shape=[-1]) * (1-dones)\n",
    "    eloss += tf.reduce_mean(tf.nn.sigmoid_cross_entropy_with_logits(logits=eQs_logits, # GAN\n",
    "                                                                    labels=rates)) # 0-1 real\n",
    "    eloss += tf.reduce_mean(tf.nn.sigmoid_cross_entropy_with_logits(logits=(aQs_logits+aQs2_logits)/2, # GAN\n",
    "                                                                    labels=tf.zeros_like(rates))) # min\n",
    "    aloss2 += tf.reduce_mean(tf.nn.sigmoid_cross_entropy_with_logits(logits=(aQs_logits+aQs2_logits)/2, # GAN\n",
    "                                                                     labels=tf.ones_like(rates))) # max\n",
    "    ###################################################### Q(s,a)= r + Q'(s',a')\n",
    "    targetQs = rewards + (gamma * aQs2_logits) # DQN/Qlearning\n",
    "    eloss += tf.reduce_mean(tf.square(eQs_logits - targetQs)) # real\n",
    "    # eloss += tf.reduce_mean(tf.square(aQs_logits - rewards)) # min\n",
    "    # aloss2 += tf.reduce_mean(tf.square(aQs_logits - targetQs)) # max\n",
    "    eloss += tf.reduce_mean((aQs_logits+aQs2_logits)/2) # min\n",
    "    aloss2 += -tf.reduce_mean((aQs_logits+aQs2_logits)/2) # max\n",
    "    return actions_logits, aloss, eloss, aloss2"
   ]
  },
  {
   "cell_type": "code",
   "execution_count": 7,
   "metadata": {},
   "outputs": [],
   "source": [
    "def model_opt(a_loss, e_loss, a_loss2, a_learning_rate, e_learning_rate):\n",
    "    # Get weights and bias to update\n",
    "    t_vars = tf.trainable_variables()\n",
    "    a_vars = [var for var in t_vars if var.name.startswith('Act')]\n",
    "    e_vars = [var for var in t_vars if var.name.startswith('Env')]\n",
    "\n",
    "    # Optimize\n",
    "    with tf.control_dependencies(tf.get_collection(tf.GraphKeys.UPDATE_OPS)): # Required for batchnorm (BN)\n",
    "        a_opt = tf.train.AdamOptimizer(a_learning_rate).minimize(a_loss, var_list=a_vars)\n",
    "        e_opt = tf.train.AdamOptimizer(e_learning_rate).minimize(e_loss, var_list=e_vars)\n",
    "        a_opt2 = tf.train.AdamOptimizer(a_learning_rate).minimize(a_loss2, var_list=a_vars)\n",
    "    return a_opt, e_opt, a_opt2"
   ]
  },
  {
   "cell_type": "code",
   "execution_count": 8,
   "metadata": {},
   "outputs": [],
   "source": [
    "class Model:\n",
    "    def __init__(self, state_size, action_size, hidden_size, a_learning_rate, e_learning_rate, gamma):\n",
    "\n",
    "        # Data of the Model: make the data available inside the framework\n",
    "        self.states, self.actions, self.next_states, self.rewards, self.dones, self.rates = model_input(\n",
    "            state_size=state_size)\n",
    "\n",
    "        # Create the Model: calculating the loss and forwad pass\n",
    "        self.actions_logits, self.a_loss, self.e_loss, self.a_loss2 = model_loss(\n",
    "            state_size=state_size, action_size=action_size, hidden_size=hidden_size, gamma=gamma, # model init\n",
    "            states=self.states, actions=self.actions, next_states=self.next_states, \n",
    "            rewards=self.rewards, dones=self.dones, rates=self.rates) # model input\n",
    "        \n",
    "        # Update the model: backward pass and backprop\n",
    "        self.a_opt, self.e_opt, self.a_opt2 = model_opt(a_loss=self.a_loss, \n",
    "                                                        e_loss=self.e_loss,\n",
    "                                                        a_loss2=self.a_loss2, \n",
    "                                                        a_learning_rate=a_learning_rate,\n",
    "                                                        e_learning_rate=e_learning_rate)"
   ]
  },
  {
   "cell_type": "code",
   "execution_count": 9,
   "metadata": {},
   "outputs": [],
   "source": [
    "from collections import deque\n",
    "class Memory():\n",
    "    def __init__(self, max_size = 1000):\n",
    "        self.buffer = deque(maxlen=max_size) # data batch\n",
    "#     def sample(self, batch_size):\n",
    "#         idx = np.random.choice(np.arange(len(self.buffer)), size=batch_size, replace=False)\n",
    "#         return [self.buffer[ii] for ii in idx]"
   ]
  },
  {
   "cell_type": "markdown",
   "metadata": {},
   "source": [
    "## Hyperparameters\n",
    "\n",
    "One of the more difficult aspects of reinforcememt learning are the large number of hyperparameters. Not only are we tuning the network, but we're tuning the simulation."
   ]
  },
  {
   "cell_type": "code",
   "execution_count": 10,
   "metadata": {},
   "outputs": [
    {
     "data": {
      "text/plain": [
       "(Box(4,), Discrete(2))"
      ]
     },
     "execution_count": 10,
     "metadata": {},
     "output_type": "execute_result"
    }
   ],
   "source": [
    "env.observation_space, env.action_space"
   ]
  },
  {
   "cell_type": "code",
   "execution_count": 11,
   "metadata": {},
   "outputs": [],
   "source": [
    "# Exploration parameters\n",
    "explore_start = 1.0            # exploration probability at start\n",
    "explore_stop = 0.01           # minimum exploration probability \n",
    "decay_rate = 0.0001            # exponential decay rate for exploration prob\n",
    "\n",
    "# Network parameters\n",
    "state_size = 4\n",
    "action_size = 2\n",
    "hidden_size = 4*2             # number of units in each Q-network hidden layer\n",
    "a_learning_rate = 1e-4         # Q-network learning rate\n",
    "e_learning_rate = 1e-4         # Q-network learning rate\n",
    "\n",
    "# Memory parameters\n",
    "memory_size = int(1e5)            # memory capacity\n",
    "batch_size = int(1e3)             # experience mini-batch size\n",
    "gamma=0.99"
   ]
  },
  {
   "cell_type": "code",
   "execution_count": 12,
   "metadata": {},
   "outputs": [],
   "source": [
    "# Reset/init the graph/session\n",
    "graph = tf.reset_default_graph()\n",
    "\n",
    "# Init the model\n",
    "model = Model(action_size=action_size, state_size=state_size, hidden_size=hidden_size, gamma=gamma,\n",
    "              a_learning_rate=a_learning_rate, e_learning_rate=e_learning_rate)\n",
    "\n",
    "# Init the memory\n",
    "memory = Memory(max_size=memory_size)"
   ]
  },
  {
   "cell_type": "code",
   "execution_count": 13,
   "metadata": {},
   "outputs": [],
   "source": [
    "state = env.reset()\n",
    "total_reward = 0\n",
    "num_step = 0\n",
    "for _ in range(memory_size):\n",
    "    action = env.action_space.sample()\n",
    "    next_state, reward, done, _ = env.step(action)\n",
    "    rate = -1\n",
    "    memory.buffer.append([state, action, next_state, reward, float(done), rate])\n",
    "    num_step += 1 # memory incremented\n",
    "    total_reward += reward\n",
    "    state = next_state\n",
    "    if done is True:\n",
    "        #print(done)\n",
    "        rate = total_reward/500\n",
    "        for idx in range(num_step): # episode length\n",
    "            if memory.buffer[-1-idx][-1] == -1:\n",
    "                memory.buffer[-1-idx][-1] = rate\n",
    "        state = env.reset()\n",
    "        total_reward = 0 # reset\n",
    "        num_step = 0 # reset"
   ]
  },
  {
   "cell_type": "markdown",
   "metadata": {},
   "source": [
    "## Training the model\n",
    "\n",
    "Below we'll train our agent. If you want to watch it train, uncomment the `env.render()` line. This is slow because it's rendering the frames slower than the network can train. But, it's cool to watch the agent get better at the game."
   ]
  },
  {
   "cell_type": "code",
   "execution_count": 14,
   "metadata": {},
   "outputs": [],
   "source": [
    "def minibacth(memory):\n",
    "    # Training with the maxrated minibatch\n",
    "    batch = memory.buffer\n",
    "    #for idx in range(memory_size// batch_size):\n",
    "    while True:\n",
    "        idx = np.random.choice(np.arange(memory_size// batch_size))\n",
    "        states = np.array([each[0] for each in batch])[idx*batch_size:(idx+1)*batch_size]\n",
    "        actions = np.array([each[1] for each in batch])[idx*batch_size:(idx+1)*batch_size]\n",
    "        next_states = np.array([each[2] for each in batch])[idx*batch_size:(idx+1)*batch_size]\n",
    "        rewards = np.array([each[3] for each in batch])[idx*batch_size:(idx+1)*batch_size]\n",
    "        dones = np.array([each[4] for each in batch])[idx*batch_size:(idx+1)*batch_size]\n",
    "        rates = np.array([each[5] for each in batch])[idx*batch_size:(idx+1)*batch_size]\n",
    "        states = states[rates >= np.max(rates)]\n",
    "        actions = actions[rates >= np.max(rates)]\n",
    "        next_states = next_states[rates >= np.max(rates)]\n",
    "        rewards = rewards[rates >= np.max(rates)]\n",
    "        dones = dones[rates >= np.max(rates)]\n",
    "        rates = rates[rates >= np.max(rates)]\n",
    "        if np.count_nonzero(dones) > 0 and len(dones) > 1 and np.max(rates) > 0:\n",
    "            break\n",
    "    return states, actions, next_states, rewards, dones, rates"
   ]
  },
  {
   "cell_type": "code",
   "execution_count": null,
   "metadata": {},
   "outputs": [
    {
     "name": "stdout",
     "output_type": "stream",
     "text": [
      "Episode:0 meanR:16.0000 R:16.0000 rate:0.0320 aloss:0.6930 eloss:2.6254 aloss2:1.3973 exploreP:0.9984\n",
      "Episode:1 meanR:19.0000 R:22.0000 rate:0.0440 aloss:0.6892 eloss:2.5475 aloss2:1.4329 exploreP:0.9962\n",
      "Episode:2 meanR:27.6667 R:45.0000 rate:0.0900 aloss:0.6884 eloss:2.5649 aloss2:1.4254 exploreP:0.9918\n",
      "Episode:3 meanR:24.5000 R:15.0000 rate:0.0300 aloss:0.6815 eloss:2.5111 aloss2:1.4645 exploreP:0.9903\n",
      "Episode:4 meanR:26.4000 R:34.0000 rate:0.0680 aloss:0.6810 eloss:2.5293 aloss2:1.4604 exploreP:0.9870\n",
      "Episode:5 meanR:24.3333 R:14.0000 rate:0.0280 aloss:0.6843 eloss:2.4940 aloss2:1.4609 exploreP:0.9857\n",
      "Episode:6 meanR:23.0000 R:15.0000 rate:0.0300 aloss:0.6815 eloss:2.4543 aloss2:1.5023 exploreP:0.9842\n",
      "Episode:7 meanR:25.3750 R:42.0000 rate:0.0840 aloss:0.6803 eloss:2.4014 aloss2:1.5140 exploreP:0.9801\n",
      "Episode:8 meanR:25.0000 R:22.0000 rate:0.0440 aloss:0.6945 eloss:2.4002 aloss2:1.5233 exploreP:0.9780\n",
      "Episode:9 meanR:26.4000 R:39.0000 rate:0.0780 aloss:0.6960 eloss:2.3569 aloss2:1.5329 exploreP:0.9742\n",
      "Episode:10 meanR:26.0000 R:22.0000 rate:0.0440 aloss:0.6833 eloss:2.3263 aloss2:1.5588 exploreP:0.9721\n",
      "Episode:11 meanR:27.0833 R:39.0000 rate:0.0780 aloss:0.6828 eloss:2.2150 aloss2:1.6256 exploreP:0.9683\n",
      "Episode:12 meanR:31.2308 R:81.0000 rate:0.1620 aloss:0.6851 eloss:2.1522 aloss2:1.6503 exploreP:0.9606\n",
      "Episode:13 meanR:30.7143 R:24.0000 rate:0.0480 aloss:0.6928 eloss:2.0114 aloss2:1.7240 exploreP:0.9583\n",
      "Episode:14 meanR:29.9333 R:19.0000 rate:0.0380 aloss:0.6864 eloss:2.0398 aloss2:1.7204 exploreP:0.9565\n",
      "Episode:15 meanR:30.0000 R:31.0000 rate:0.0620 aloss:0.6819 eloss:1.9477 aloss2:1.7576 exploreP:0.9536\n",
      "Episode:16 meanR:29.0000 R:13.0000 rate:0.0260 aloss:0.6844 eloss:1.8072 aloss2:1.8355 exploreP:0.9524\n",
      "Episode:17 meanR:29.0000 R:29.0000 rate:0.0580 aloss:0.6848 eloss:1.7687 aloss2:1.8524 exploreP:0.9496\n",
      "Episode:18 meanR:30.8947 R:65.0000 rate:0.1300 aloss:0.6956 eloss:1.6453 aloss2:1.9381 exploreP:0.9436\n",
      "Episode:19 meanR:30.8500 R:30.0000 rate:0.0600 aloss:0.6988 eloss:1.5393 aloss2:1.9894 exploreP:0.9408\n",
      "Episode:20 meanR:30.1429 R:16.0000 rate:0.0320 aloss:0.6913 eloss:1.4978 aloss2:2.0026 exploreP:0.9393\n",
      "Episode:21 meanR:29.9091 R:25.0000 rate:0.0500 aloss:0.6938 eloss:1.3620 aloss2:2.1033 exploreP:0.9370\n",
      "Episode:22 meanR:29.4348 R:19.0000 rate:0.0380 aloss:0.6976 eloss:1.3218 aloss2:2.1228 exploreP:0.9352\n",
      "Episode:23 meanR:28.8333 R:15.0000 rate:0.0300 aloss:0.6968 eloss:1.3127 aloss2:2.1170 exploreP:0.9338\n",
      "Episode:24 meanR:28.1200 R:11.0000 rate:0.0220 aloss:0.6904 eloss:1.2521 aloss2:2.1606 exploreP:0.9328\n",
      "Episode:25 meanR:27.8846 R:22.0000 rate:0.0440 aloss:0.6971 eloss:1.1908 aloss2:2.2138 exploreP:0.9308\n",
      "Episode:26 meanR:27.2963 R:12.0000 rate:0.0240 aloss:0.6937 eloss:1.2152 aloss2:2.1727 exploreP:0.9297\n",
      "Episode:27 meanR:26.7857 R:13.0000 rate:0.0260 aloss:0.6881 eloss:1.0556 aloss2:2.2947 exploreP:0.9285\n",
      "Episode:28 meanR:27.5517 R:49.0000 rate:0.0980 aloss:0.6926 eloss:1.0021 aloss2:2.3298 exploreP:0.9240\n",
      "Episode:29 meanR:27.6667 R:31.0000 rate:0.0620 aloss:0.6862 eloss:0.9210 aloss2:2.3781 exploreP:0.9211\n",
      "Episode:30 meanR:27.2258 R:14.0000 rate:0.0280 aloss:0.6937 eloss:0.9458 aloss2:2.3587 exploreP:0.9199\n",
      "Episode:31 meanR:26.6875 R:10.0000 rate:0.0200 aloss:0.7143 eloss:0.9605 aloss2:2.3556 exploreP:0.9190\n",
      "Episode:32 meanR:26.4242 R:18.0000 rate:0.0360 aloss:0.6889 eloss:0.8580 aloss2:2.4306 exploreP:0.9173\n",
      "Episode:33 meanR:27.1176 R:50.0000 rate:0.1000 aloss:0.6976 eloss:0.7788 aloss2:2.5031 exploreP:0.9128\n",
      "Episode:34 meanR:27.0000 R:23.0000 rate:0.0460 aloss:0.7095 eloss:0.8066 aloss2:2.4891 exploreP:0.9107\n",
      "Episode:35 meanR:26.7222 R:17.0000 rate:0.0340 aloss:0.7049 eloss:0.7438 aloss2:2.5707 exploreP:0.9092\n",
      "Episode:36 meanR:26.4054 R:15.0000 rate:0.0300 aloss:0.6955 eloss:0.7431 aloss2:2.5325 exploreP:0.9079\n",
      "Episode:37 meanR:26.2105 R:19.0000 rate:0.0380 aloss:0.6932 eloss:0.7639 aloss2:2.5159 exploreP:0.9061\n",
      "Episode:38 meanR:25.8462 R:12.0000 rate:0.0240 aloss:0.7022 eloss:0.7703 aloss2:2.5161 exploreP:0.9051\n",
      "Episode:39 meanR:25.4750 R:11.0000 rate:0.0220 aloss:0.6898 eloss:0.7921 aloss2:2.4810 exploreP:0.9041\n",
      "Episode:40 meanR:25.1951 R:14.0000 rate:0.0280 aloss:0.6951 eloss:0.7496 aloss2:2.5314 exploreP:0.9028\n",
      "Episode:41 meanR:24.9286 R:14.0000 rate:0.0280 aloss:0.6911 eloss:0.8119 aloss2:2.4775 exploreP:0.9016\n",
      "Episode:42 meanR:24.7442 R:17.0000 rate:0.0340 aloss:0.6819 eloss:0.7505 aloss2:2.5162 exploreP:0.9001\n",
      "Episode:43 meanR:24.7955 R:27.0000 rate:0.0540 aloss:0.7023 eloss:0.7859 aloss2:2.5328 exploreP:0.8977\n",
      "Episode:44 meanR:24.6667 R:19.0000 rate:0.0380 aloss:0.6928 eloss:0.7841 aloss2:2.5269 exploreP:0.8960\n",
      "Episode:45 meanR:25.0870 R:44.0000 rate:0.0880 aloss:0.6917 eloss:0.7787 aloss2:2.5397 exploreP:0.8921\n",
      "Episode:46 meanR:24.7660 R:10.0000 rate:0.0200 aloss:0.6902 eloss:0.8502 aloss2:2.4721 exploreP:0.8912\n",
      "Episode:47 meanR:24.4583 R:10.0000 rate:0.0200 aloss:0.7078 eloss:0.7038 aloss2:2.6758 exploreP:0.8903\n",
      "Episode:48 meanR:24.5102 R:27.0000 rate:0.0540 aloss:0.6850 eloss:0.8512 aloss2:2.4910 exploreP:0.8880\n",
      "Episode:49 meanR:24.2800 R:13.0000 rate:0.0260 aloss:0.6844 eloss:0.8030 aloss2:2.5555 exploreP:0.8868\n",
      "Episode:50 meanR:25.2549 R:74.0000 rate:0.1480 aloss:0.6987 eloss:0.8669 aloss2:2.5341 exploreP:0.8804\n",
      "Episode:51 meanR:25.0577 R:15.0000 rate:0.0300 aloss:0.7058 eloss:0.9219 aloss2:2.5114 exploreP:0.8791\n",
      "Episode:52 meanR:24.8491 R:14.0000 rate:0.0280 aloss:0.7119 eloss:0.8134 aloss2:2.6453 exploreP:0.8778\n",
      "Episode:53 meanR:24.5741 R:10.0000 rate:0.0200 aloss:0.6909 eloss:0.9095 aloss2:2.5199 exploreP:0.8770\n",
      "Episode:54 meanR:24.8545 R:40.0000 rate:0.0800 aloss:0.7013 eloss:0.9339 aloss2:2.5314 exploreP:0.8735\n",
      "Episode:55 meanR:24.9643 R:31.0000 rate:0.0620 aloss:0.7042 eloss:0.9192 aloss2:2.5816 exploreP:0.8708\n",
      "Episode:56 meanR:24.7895 R:15.0000 rate:0.0300 aloss:0.6969 eloss:0.9597 aloss2:2.5254 exploreP:0.8695\n",
      "Episode:57 meanR:24.7586 R:23.0000 rate:0.0460 aloss:0.6873 eloss:1.0068 aloss2:2.5069 exploreP:0.8676\n",
      "Episode:58 meanR:24.5763 R:14.0000 rate:0.0280 aloss:0.6930 eloss:1.0044 aloss2:2.5127 exploreP:0.8664\n",
      "Episode:59 meanR:24.3833 R:13.0000 rate:0.0260 aloss:0.6911 eloss:1.0405 aloss2:2.4844 exploreP:0.8653\n",
      "Episode:60 meanR:24.9344 R:58.0000 rate:0.1160 aloss:0.7080 eloss:1.0130 aloss2:2.5910 exploreP:0.8603\n",
      "Episode:61 meanR:25.0000 R:29.0000 rate:0.0580 aloss:0.7008 eloss:1.1073 aloss2:2.5089 exploreP:0.8579\n",
      "Episode:62 meanR:24.7778 R:11.0000 rate:0.0220 aloss:0.6945 eloss:0.9062 aloss2:2.7903 exploreP:0.8569\n",
      "Episode:63 meanR:24.8750 R:31.0000 rate:0.0620 aloss:0.7097 eloss:0.9875 aloss2:2.7225 exploreP:0.8543\n",
      "Episode:64 meanR:25.0154 R:34.0000 rate:0.0680 aloss:0.6942 eloss:1.1108 aloss2:2.5676 exploreP:0.8514\n",
      "Episode:65 meanR:24.8485 R:14.0000 rate:0.0280 aloss:0.6886 eloss:1.1442 aloss2:2.5599 exploreP:0.8503\n",
      "Episode:66 meanR:24.6567 R:12.0000 rate:0.0240 aloss:0.7039 eloss:1.1447 aloss2:2.6228 exploreP:0.8492\n",
      "Episode:67 meanR:24.5441 R:17.0000 rate:0.0340 aloss:0.6984 eloss:1.0710 aloss2:2.7185 exploreP:0.8478\n",
      "Episode:68 meanR:24.3188 R:9.0000 rate:0.0180 aloss:0.6785 eloss:1.1494 aloss2:2.5915 exploreP:0.8471\n",
      "Episode:69 meanR:24.4286 R:32.0000 rate:0.0640 aloss:0.6955 eloss:1.0840 aloss2:2.7064 exploreP:0.8444\n",
      "Episode:70 meanR:24.8028 R:51.0000 rate:0.1020 aloss:0.6938 eloss:1.1718 aloss2:2.6781 exploreP:0.8401\n",
      "Episode:71 meanR:24.6389 R:13.0000 rate:0.0260 aloss:0.6829 eloss:1.1847 aloss2:2.6688 exploreP:0.8391\n",
      "Episode:72 meanR:24.6438 R:25.0000 rate:0.0500 aloss:0.6843 eloss:1.2445 aloss2:2.6513 exploreP:0.8370\n",
      "Episode:73 meanR:25.6351 R:98.0000 rate:0.1960 aloss:0.6877 eloss:1.3018 aloss2:2.6965 exploreP:0.8289\n",
      "Episode:74 meanR:25.9600 R:50.0000 rate:0.1000 aloss:0.6810 eloss:1.3874 aloss2:2.7342 exploreP:0.8249\n",
      "Episode:75 meanR:25.9342 R:24.0000 rate:0.0480 aloss:0.6989 eloss:1.4718 aloss2:2.7802 exploreP:0.8229\n",
      "Episode:76 meanR:25.8312 R:18.0000 rate:0.0360 aloss:0.6883 eloss:1.3176 aloss2:2.9514 exploreP:0.8214\n",
      "Episode:77 meanR:25.9103 R:32.0000 rate:0.0640 aloss:0.6855 eloss:1.3510 aloss2:2.9275 exploreP:0.8188\n",
      "Episode:78 meanR:25.8101 R:18.0000 rate:0.0360 aloss:0.6838 eloss:1.4452 aloss2:2.8239 exploreP:0.8174\n",
      "Episode:79 meanR:25.7875 R:24.0000 rate:0.0480 aloss:0.6796 eloss:1.5269 aloss2:2.7477 exploreP:0.8155\n"
     ]
    },
    {
     "name": "stdout",
     "output_type": "stream",
     "text": [
      "Episode:80 meanR:25.6420 R:14.0000 rate:0.0280 aloss:0.6811 eloss:1.4474 aloss2:2.8553 exploreP:0.8143\n",
      "Episode:81 meanR:26.1951 R:71.0000 rate:0.1420 aloss:0.6822 eloss:1.4914 aloss2:2.8818 exploreP:0.8086\n",
      "Episode:82 meanR:26.3373 R:38.0000 rate:0.0760 aloss:0.6861 eloss:1.4752 aloss2:2.9768 exploreP:0.8056\n",
      "Episode:83 meanR:26.4405 R:35.0000 rate:0.0700 aloss:0.6792 eloss:1.4812 aloss2:3.0160 exploreP:0.8028\n",
      "Episode:84 meanR:26.2941 R:14.0000 rate:0.0280 aloss:0.6869 eloss:1.4203 aloss2:3.1034 exploreP:0.8017\n",
      "Episode:85 meanR:26.3256 R:29.0000 rate:0.0580 aloss:0.6819 eloss:1.4042 aloss2:3.1414 exploreP:0.7994\n",
      "Episode:86 meanR:26.9195 R:78.0000 rate:0.1560 aloss:0.6844 eloss:1.3020 aloss2:3.2513 exploreP:0.7933\n",
      "Episode:87 meanR:26.8068 R:17.0000 rate:0.0340 aloss:0.6850 eloss:1.3203 aloss2:3.1702 exploreP:0.7920\n",
      "Episode:88 meanR:26.8989 R:35.0000 rate:0.0700 aloss:0.6867 eloss:1.2726 aloss2:3.2737 exploreP:0.7892\n",
      "Episode:89 meanR:26.9333 R:30.0000 rate:0.0600 aloss:0.6845 eloss:1.1237 aloss2:3.4547 exploreP:0.7869\n",
      "Episode:90 meanR:27.0440 R:37.0000 rate:0.0740 aloss:0.6788 eloss:0.9667 aloss2:3.6196 exploreP:0.7840\n",
      "Episode:91 meanR:27.9674 R:112.0000 rate:0.2240 aloss:0.6857 eloss:0.7926 aloss2:3.8638 exploreP:0.7754\n",
      "Episode:92 meanR:28.2903 R:58.0000 rate:0.1160 aloss:0.6860 eloss:0.5541 aloss2:4.1197 exploreP:0.7710\n",
      "Episode:93 meanR:28.4681 R:45.0000 rate:0.0900 aloss:0.6805 eloss:0.4678 aloss2:4.0540 exploreP:0.7676\n",
      "Episode:94 meanR:28.5158 R:33.0000 rate:0.0660 aloss:0.6843 eloss:0.3239 aloss2:4.2973 exploreP:0.7651\n",
      "Episode:95 meanR:28.4167 R:19.0000 rate:0.0380 aloss:0.6895 eloss:0.3248 aloss2:4.2664 exploreP:0.7636\n",
      "Episode:96 meanR:28.2371 R:11.0000 rate:0.0220 aloss:0.6814 eloss:-0.0333 aloss2:4.7128 exploreP:0.7628\n",
      "Episode:97 meanR:28.2653 R:31.0000 rate:0.0620 aloss:0.6871 eloss:0.1419 aloss2:4.4914 exploreP:0.7605\n",
      "Episode:98 meanR:28.1717 R:19.0000 rate:0.0380 aloss:0.6839 eloss:0.0086 aloss2:4.6818 exploreP:0.7590\n",
      "Episode:99 meanR:28.2700 R:38.0000 rate:0.0760 aloss:0.6884 eloss:0.0093 aloss2:4.7086 exploreP:0.7562\n",
      "Episode:100 meanR:28.6900 R:58.0000 rate:0.1160 aloss:0.6842 eloss:-0.1074 aloss2:4.8094 exploreP:0.7519\n",
      "Episode:101 meanR:28.8800 R:41.0000 rate:0.0820 aloss:0.6797 eloss:-0.1656 aloss2:4.8488 exploreP:0.7489\n",
      "Episode:102 meanR:29.0600 R:63.0000 rate:0.1260 aloss:0.6852 eloss:-0.3028 aloss2:5.0112 exploreP:0.7442\n",
      "Episode:103 meanR:30.1100 R:120.0000 rate:0.2400 aloss:0.6812 eloss:-0.5098 aloss2:5.3378 exploreP:0.7355\n",
      "Episode:104 meanR:30.1000 R:33.0000 rate:0.0660 aloss:0.6795 eloss:-0.6128 aloss2:5.4126 exploreP:0.7331\n",
      "Episode:105 meanR:30.1200 R:16.0000 rate:0.0320 aloss:0.6898 eloss:-0.6997 aloss2:5.6413 exploreP:0.7319\n",
      "Episode:106 meanR:30.1500 R:18.0000 rate:0.0360 aloss:0.6859 eloss:-0.7498 aloss2:5.6718 exploreP:0.7306\n",
      "Episode:107 meanR:30.2700 R:54.0000 rate:0.1080 aloss:0.6853 eloss:-0.8202 aloss2:5.8791 exploreP:0.7267\n",
      "Episode:108 meanR:30.4900 R:44.0000 rate:0.0880 aloss:0.6817 eloss:-0.7222 aloss2:5.7712 exploreP:0.7236\n",
      "Episode:109 meanR:30.9100 R:81.0000 rate:0.1620 aloss:0.6800 eloss:-0.8468 aloss2:5.9741 exploreP:0.7178\n",
      "Episode:110 meanR:31.8300 R:114.0000 rate:0.2280 aloss:0.6851 eloss:-0.8189 aloss2:6.2650 exploreP:0.7098\n",
      "Episode:111 meanR:32.1900 R:75.0000 rate:0.1500 aloss:0.6798 eloss:-0.8328 aloss2:6.2950 exploreP:0.7046\n",
      "Episode:112 meanR:31.5100 R:13.0000 rate:0.0260 aloss:0.6905 eloss:-0.7861 aloss2:6.4849 exploreP:0.7037\n",
      "Episode:113 meanR:32.3800 R:111.0000 rate:0.2220 aloss:0.6792 eloss:-0.8476 aloss2:6.6517 exploreP:0.6960\n",
      "Episode:114 meanR:32.7400 R:55.0000 rate:0.1100 aloss:0.6785 eloss:-0.7865 aloss2:6.5988 exploreP:0.6923\n",
      "Episode:115 meanR:33.0200 R:59.0000 rate:0.1180 aloss:0.6803 eloss:-0.8677 aloss2:6.9270 exploreP:0.6882\n",
      "Episode:116 meanR:33.0100 R:12.0000 rate:0.0240 aloss:0.6948 eloss:-0.2016 aloss2:7.0856 exploreP:0.6874\n",
      "Episode:117 meanR:33.3700 R:65.0000 rate:0.1300 aloss:0.6786 eloss:-0.7829 aloss2:6.8534 exploreP:0.6830\n",
      "Episode:118 meanR:33.5400 R:82.0000 rate:0.1640 aloss:0.6799 eloss:-0.7003 aloss2:6.9742 exploreP:0.6775\n",
      "Episode:119 meanR:33.6500 R:41.0000 rate:0.0820 aloss:0.6814 eloss:-0.9118 aloss2:7.4397 exploreP:0.6748\n",
      "Episode:120 meanR:34.3300 R:84.0000 rate:0.1680 aloss:0.6791 eloss:-0.9622 aloss2:7.5158 exploreP:0.6693\n",
      "Episode:121 meanR:34.3700 R:29.0000 rate:0.0580 aloss:0.6809 eloss:-1.0153 aloss2:7.7498 exploreP:0.6673\n",
      "Episode:122 meanR:34.8500 R:67.0000 rate:0.1340 aloss:0.6794 eloss:-0.8685 aloss2:7.6658 exploreP:0.6630\n",
      "Episode:123 meanR:35.4900 R:79.0000 rate:0.1580 aloss:0.6790 eloss:-1.0901 aloss2:7.9455 exploreP:0.6578\n",
      "Episode:124 meanR:35.8800 R:50.0000 rate:0.1000 aloss:0.6818 eloss:-1.3203 aloss2:8.5200 exploreP:0.6546\n",
      "Episode:125 meanR:36.3000 R:64.0000 rate:0.1280 aloss:0.6786 eloss:-1.4420 aloss2:8.4544 exploreP:0.6505\n",
      "Episode:126 meanR:36.8300 R:65.0000 rate:0.1300 aloss:0.6784 eloss:-1.6125 aloss2:8.6021 exploreP:0.6463\n",
      "Episode:127 meanR:37.2800 R:58.0000 rate:0.1160 aloss:0.6819 eloss:-1.7498 aloss2:8.9256 exploreP:0.6426\n",
      "Episode:128 meanR:37.7500 R:96.0000 rate:0.1920 aloss:0.6802 eloss:-1.9982 aloss2:9.5837 exploreP:0.6366\n",
      "Episode:129 meanR:37.6500 R:21.0000 rate:0.0420 aloss:0.6810 eloss:-2.0469 aloss2:9.4639 exploreP:0.6353\n",
      "Episode:130 meanR:37.9500 R:44.0000 rate:0.0880 aloss:0.6827 eloss:-2.0269 aloss2:9.6563 exploreP:0.6325\n",
      "Episode:131 meanR:38.3300 R:48.0000 rate:0.0960 aloss:0.6778 eloss:-2.1158 aloss2:9.7815 exploreP:0.6296\n",
      "Episode:132 meanR:38.6600 R:51.0000 rate:0.1020 aloss:0.6803 eloss:-2.2231 aloss2:10.0779 exploreP:0.6264\n",
      "Episode:133 meanR:38.8900 R:73.0000 rate:0.1460 aloss:0.6842 eloss:-2.1865 aloss2:10.4033 exploreP:0.6219\n",
      "Episode:134 meanR:38.8700 R:21.0000 rate:0.0420 aloss:0.6856 eloss:-2.4176 aloss2:10.7693 exploreP:0.6206\n",
      "Episode:135 meanR:39.3800 R:68.0000 rate:0.1360 aloss:0.6802 eloss:-2.4141 aloss2:10.7467 exploreP:0.6165\n",
      "Episode:136 meanR:39.4900 R:26.0000 rate:0.0520 aloss:0.6718 eloss:-2.5482 aloss2:10.8951 exploreP:0.6149\n",
      "Episode:137 meanR:39.6800 R:38.0000 rate:0.0760 aloss:0.6838 eloss:-2.4465 aloss2:10.8519 exploreP:0.6126\n",
      "Episode:138 meanR:39.7200 R:16.0000 rate:0.0320 aloss:0.6652 eloss:-2.2748 aloss2:10.8104 exploreP:0.6117\n",
      "Episode:139 meanR:40.3100 R:70.0000 rate:0.1400 aloss:0.6766 eloss:-2.6232 aloss2:11.4170 exploreP:0.6075\n",
      "Episode:140 meanR:40.3100 R:14.0000 rate:0.0280 aloss:0.6827 eloss:-2.4360 aloss2:10.9674 exploreP:0.6066\n",
      "Episode:141 meanR:40.5900 R:42.0000 rate:0.0840 aloss:0.6824 eloss:-2.4914 aloss2:11.4160 exploreP:0.6041\n",
      "Episode:142 meanR:40.7800 R:36.0000 rate:0.0720 aloss:0.6759 eloss:-2.2308 aloss2:11.4009 exploreP:0.6020\n",
      "Episode:143 meanR:41.3600 R:85.0000 rate:0.1700 aloss:0.6835 eloss:-2.1107 aloss2:11.9150 exploreP:0.5970\n",
      "Episode:144 meanR:41.3300 R:16.0000 rate:0.0320 aloss:0.6720 eloss:-2.5796 aloss2:12.0978 exploreP:0.5960\n",
      "Episode:145 meanR:41.0700 R:18.0000 rate:0.0360 aloss:0.6748 eloss:-2.5148 aloss2:12.6446 exploreP:0.5950\n",
      "Episode:146 meanR:41.2600 R:29.0000 rate:0.0580 aloss:0.6773 eloss:-2.1640 aloss2:12.0607 exploreP:0.5933\n",
      "Episode:147 meanR:42.0600 R:90.0000 rate:0.1800 aloss:0.6793 eloss:-2.6254 aloss2:12.4476 exploreP:0.5881\n",
      "Episode:148 meanR:42.6400 R:85.0000 rate:0.1700 aloss:0.6782 eloss:-2.6888 aloss2:13.0280 exploreP:0.5832\n",
      "Episode:149 meanR:42.7300 R:22.0000 rate:0.0440 aloss:0.6743 eloss:-2.9003 aloss2:13.3176 exploreP:0.5819\n",
      "Episode:150 meanR:42.5500 R:56.0000 rate:0.1120 aloss:0.6762 eloss:-2.9464 aloss2:13.5009 exploreP:0.5787\n",
      "Episode:151 meanR:42.7700 R:37.0000 rate:0.0740 aloss:0.6716 eloss:-3.0657 aloss2:13.7010 exploreP:0.5766\n",
      "Episode:152 meanR:43.4000 R:77.0000 rate:0.1540 aloss:0.6785 eloss:-2.9644 aloss2:14.3229 exploreP:0.5723\n",
      "Episode:153 meanR:43.4900 R:19.0000 rate:0.0380 aloss:0.6664 eloss:-3.2732 aloss2:14.4622 exploreP:0.5712\n",
      "Episode:154 meanR:43.9500 R:86.0000 rate:0.1720 aloss:0.6779 eloss:-3.4915 aloss2:14.5985 exploreP:0.5664\n",
      "Episode:155 meanR:44.2900 R:65.0000 rate:0.1300 aloss:0.6730 eloss:-3.7452 aloss2:15.2607 exploreP:0.5628\n",
      "Episode:156 meanR:44.3500 R:21.0000 rate:0.0420 aloss:0.6760 eloss:-3.9032 aloss2:15.7605 exploreP:0.5616\n",
      "Episode:157 meanR:45.3600 R:124.0000 rate:0.2480 aloss:0.6797 eloss:-3.6842 aloss2:16.0103 exploreP:0.5548\n",
      "Episode:158 meanR:46.3900 R:117.0000 rate:0.2340 aloss:0.6705 eloss:-4.0102 aloss2:16.3525 exploreP:0.5485\n"
     ]
    },
    {
     "name": "stdout",
     "output_type": "stream",
     "text": [
      "Episode:159 meanR:46.4300 R:17.0000 rate:0.0340 aloss:0.6791 eloss:-3.4565 aloss2:16.4472 exploreP:0.5476\n",
      "Episode:160 meanR:46.5900 R:74.0000 rate:0.1480 aloss:0.6729 eloss:-3.9630 aloss2:17.0416 exploreP:0.5436\n",
      "Episode:161 meanR:47.3000 R:100.0000 rate:0.2000 aloss:0.6692 eloss:-3.4222 aloss2:17.5866 exploreP:0.5383\n",
      "Episode:162 meanR:47.8800 R:69.0000 rate:0.1380 aloss:0.6686 eloss:-3.5683 aloss2:17.5406 exploreP:0.5347\n",
      "Episode:163 meanR:47.8700 R:30.0000 rate:0.0600 aloss:0.6680 eloss:-4.0822 aloss2:17.9007 exploreP:0.5331\n",
      "Episode:164 meanR:48.5200 R:99.0000 rate:0.1980 aloss:0.6749 eloss:-3.8761 aloss2:18.1304 exploreP:0.5280\n",
      "Episode:165 meanR:49.5700 R:119.0000 rate:0.2380 aloss:0.6771 eloss:-4.1351 aloss2:18.6247 exploreP:0.5218\n",
      "Episode:166 meanR:49.6800 R:23.0000 rate:0.0460 aloss:0.6754 eloss:-3.1739 aloss2:19.1775 exploreP:0.5207\n",
      "Episode:167 meanR:49.6400 R:13.0000 rate:0.0260 aloss:0.6806 eloss:-4.3169 aloss2:18.6871 exploreP:0.5200\n",
      "Episode:168 meanR:50.1000 R:55.0000 rate:0.1100 aloss:0.6769 eloss:-4.4868 aloss2:19.1934 exploreP:0.5172\n",
      "Episode:169 meanR:50.0300 R:25.0000 rate:0.0500 aloss:0.6663 eloss:-4.7811 aloss2:19.7248 exploreP:0.5159\n"
     ]
    }
   ],
   "source": [
    "# Save/load the model and save for plotting\n",
    "saver = tf.train.Saver()\n",
    "episode_rewards_list, rewards_list = [], []\n",
    "aloss_list, eloss_list, aloss2_list = [], [], []\n",
    "\n",
    "# TF session for training\n",
    "with tf.Session(graph=graph) as sess:\n",
    "    sess.run(tf.global_variables_initializer())\n",
    "    #saver.restore(sess, 'checkpoints/model.ckpt')    \n",
    "    #saver.restore(sess, tf.train.latest_checkpoint('checkpoints'))\n",
    "    total_step = 0 # Explore or exploit parameter\n",
    "    episode_reward = deque(maxlen=100) # 100 episodes for running average/running mean/window\n",
    "\n",
    "    # Training episodes/epochs\n",
    "    for ep in range(11111):\n",
    "        aloss_batch, eloss_batch, aloss2_batch = [], [], []\n",
    "        total_reward = 0\n",
    "        state = env.reset()\n",
    "        rate = -1\n",
    "\n",
    "        # Training steps/batches\n",
    "        for num_step in range(11111):\n",
    "            # Explore (env) or Exploit (model)\n",
    "            total_step += 1\n",
    "            explore_p = explore_stop + (explore_start - explore_stop) * np.exp(-decay_rate * total_step) \n",
    "            if explore_p > np.random.rand():\n",
    "                action = env.action_space.sample()\n",
    "            else:\n",
    "                action_logits = sess.run(model.actions_logits, feed_dict={model.states: state.reshape([1, -1])})\n",
    "                action = np.argmax(action_logits)\n",
    "            next_state, reward, done, _ = env.step(action)\n",
    "            memory.buffer.append([state, action, next_state, reward, float(done), rate])\n",
    "            total_reward += reward\n",
    "            state = next_state\n",
    "            \n",
    "            # Online policy/on-policy/online training\n",
    "            states, actions, next_states, rewards, dones, rates = minibacth(memory=memory)\n",
    "            feed_dict = {model.states: states, model.actions: actions, model.next_states: next_states,\n",
    "                         model.rewards: rewards, model.dones: dones, model.rates: rates}\n",
    "            aloss, _ = sess.run([model.a_loss, model.a_opt], feed_dict)\n",
    "            eloss, _ = sess.run([model.e_loss, model.e_opt], feed_dict)\n",
    "            aloss2, _= sess.run([model.a_loss2, model.a_opt2], feed_dict)\n",
    "            aloss_batch.append(aloss)\n",
    "            eloss_batch.append(eloss)\n",
    "            aloss2_batch.append(aloss2)\n",
    "            \n",
    "            # End of episode/result/success rate available\n",
    "            if done is True:\n",
    "                # Rating the latest played episode\n",
    "                rate = total_reward/500 # update rate at the end/ when episode is done\n",
    "                for idx in range(num_step): # episode length\n",
    "                    if memory.buffer[-1-idx][-1] == -1: # double-check the landmark/marked indexes\n",
    "                        memory.buffer[-1-idx][-1] = rate # rate the trajectory/data\n",
    "                break\n",
    "\n",
    "        # Print out\n",
    "        episode_reward.append(total_reward)\n",
    "        print('Episode:{}'.format(ep),\n",
    "              'meanR:{:.4f}'.format(np.mean(episode_reward)),\n",
    "              'R:{:.4f}'.format(total_reward),\n",
    "              'rate:{:.4f}'.format(rate),\n",
    "              'aloss:{:.4f}'.format(np.mean(aloss_batch)),\n",
    "              'eloss:{:.4f}'.format(np.mean(eloss_batch)),\n",
    "              'aloss2:{:.4f}'.format(np.mean(aloss2_batch)),\n",
    "              'exploreP:{:.4f}'.format(explore_p))\n",
    "\n",
    "        # Ploting out\n",
    "        episode_rewards_list.append([ep, np.mean(episode_reward)])\n",
    "        rewards_list.append([ep, total_reward])\n",
    "        aloss_list.append([ep, np.mean(aloss_batch)])\n",
    "        eloss_list.append([ep, np.mean(eloss_batch)])\n",
    "        aloss2_list.append([ep, np.mean(aloss2_batch)])\n",
    "        \n",
    "        # Break episode/epoch loop\n",
    "        #The task is episodic, and in order to solve the environment, \n",
    "        #your agent must get an average score of 500 over 100 consecutive episodes.\n",
    "        if np.mean(episode_reward) >= 500:\n",
    "            break\n",
    "            \n",
    "    # At the end of all training episodes/epochs\n",
    "    saver.save(sess, 'checkpoints/model.ckpt')"
   ]
  },
  {
   "cell_type": "markdown",
   "metadata": {},
   "source": [
    "# Visualizing training\n",
    "\n",
    "Below I'll plot the total rewards for each episode. I'm plotting the rolling average too, in blue."
   ]
  },
  {
   "cell_type": "code",
   "execution_count": null,
   "metadata": {},
   "outputs": [],
   "source": [
    "import matplotlib.pyplot as plt\n",
    "%matplotlib inline\n",
    "\n",
    "def running_mean(x, N):\n",
    "    cumsum = np.cumsum(np.insert(x, 0, 0)) \n",
    "    return (cumsum[N:] - cumsum[:-N]) / N "
   ]
  },
  {
   "cell_type": "code",
   "execution_count": null,
   "metadata": {},
   "outputs": [],
   "source": [
    "eps, arr = np.array(episode_rewards_list).T\n",
    "smoothed_arr = running_mean(arr, 10)\n",
    "plt.plot(eps[-len(smoothed_arr):], smoothed_arr)\n",
    "plt.plot(eps, arr, color='grey', alpha=0.3)\n",
    "plt.xlabel('Episode')\n",
    "plt.ylabel('Total rewards')"
   ]
  },
  {
   "cell_type": "code",
   "execution_count": 22,
   "metadata": {},
   "outputs": [
    {
     "data": {
      "text/plain": [
       "Text(0, 0.5, 'Total rewards')"
      ]
     },
     "execution_count": 22,
     "metadata": {},
     "output_type": "execute_result"
    },
    {
     "data": {
      "image/png": "[encoded data removed]",
      "text/plain": [
       "<Figure size 432x288 with 1 Axes>"
      ]
     },
     "metadata": {
      "needs_background": "light"
     },
     "output_type": "display_data"
    }
   ],
   "source": [
    "eps, arr = np.array(episode_rewards_list).T\n",
    "smoothed_arr = running_mean(arr, 10)\n",
    "plt.plot(eps[-len(smoothed_arr):], smoothed_arr)\n",
    "plt.plot(eps, arr, color='grey', alpha=0.3)\n",
    "plt.xlabel('Episode')\n",
    "plt.ylabel('Total rewards')"
   ]
  },
  {
   "cell_type": "code",
   "execution_count": 23,
   "metadata": {},
   "outputs": [
    {
     "data": {
      "text/plain": [
       "Text(0, 0.5, 'Total rewards')"
      ]
     },
     "execution_count": 23,
     "metadata": {},
     "output_type": "execute_result"
    },
    {
     "data": {
      "image/png": "[encoded data removed]",
      "text/plain": [
       "<Figure size 432x288 with 1 Axes>"
      ]
     },
     "metadata": {
      "needs_background": "light"
     },
     "output_type": "display_data"
    }
   ],
   "source": [
    "eps, arr = np.array(rewards_list).T\n",
    "smoothed_arr = running_mean(arr, 10)\n",
    "plt.plot(eps[-len(smoothed_arr):], smoothed_arr)\n",
    "plt.plot(eps, arr, color='grey', alpha=0.3)\n",
    "plt.xlabel('Episode')\n",
    "plt.ylabel('Total rewards')"
   ]
  },
  {
   "cell_type": "code",
   "execution_count": 24,
   "metadata": {},
   "outputs": [
    {
     "data": {
      "text/plain": [
       "Text(0, 0.5, 'Act losses')"
      ]
     },
     "execution_count": 24,
     "metadata": {},
     "output_type": "execute_result"
    },
    {
     "data": {
      "image/png": "[encoded data removed]",
      "text/plain": [
       "<Figure size 432x288 with 1 Axes>"
      ]
     },
     "metadata": {
      "needs_background": "light"
     },
     "output_type": "display_data"
    }
   ],
   "source": [
    "eps, arr = np.array(aloss_list).T\n",
    "smoothed_arr = running_mean(arr, 10)\n",
    "plt.plot(eps[-len(smoothed_arr):], smoothed_arr)\n",
    "plt.plot(eps, arr, color='grey', alpha=0.3)\n",
    "plt.xlabel('Episode')\n",
    "plt.ylabel('Act losses')"
   ]
  },
  {
   "cell_type": "code",
   "execution_count": 25,
   "metadata": {},
   "outputs": [
    {
     "data": {
      "text/plain": [
       "Text(0, 0.5, 'Env losses')"
      ]
     },
     "execution_count": 25,
     "metadata": {},
     "output_type": "execute_result"
    },
    {
     "data": {
      "image/png": "[encoded data removed]",
      "text/plain": [
       "<Figure size 432x288 with 1 Axes>"
      ]
     },
     "metadata": {
      "needs_background": "light"
     },
     "output_type": "display_data"
    }
   ],
   "source": [
    "eps, arr = np.array(eloss_list).T\n",
    "smoothed_arr = running_mean(arr, 10)\n",
    "plt.plot(eps[-len(smoothed_arr):], smoothed_arr)\n",
    "plt.plot(eps, arr, color='grey', alpha=0.3)\n",
    "plt.xlabel('Episode')\n",
    "plt.ylabel('Env losses')"
   ]
  },
  {
   "cell_type": "code",
   "execution_count": 26,
   "metadata": {},
   "outputs": [
    {
     "data": {
      "text/plain": [
       "Text(0, 0.5, 'Act losses 2')"
      ]
     },
     "execution_count": 26,
     "metadata": {},
     "output_type": "execute_result"
    },
    {
     "data": {
      "image/png": "[encoded data removed]",
      "text/plain": [
       "<Figure size 432x288 with 1 Axes>"
      ]
     },
     "metadata": {
      "needs_background": "light"
     },
     "output_type": "display_data"
    }
   ],
   "source": [
    "eps, arr = np.array(aloss2_list).T\n",
    "smoothed_arr = running_mean(arr, 10)\n",
    "plt.plot(eps[-len(smoothed_arr):], smoothed_arr)\n",
    "plt.plot(eps, arr, color='grey', alpha=0.3)\n",
    "plt.xlabel('Episode')\n",
    "plt.ylabel('Act losses 2')"
   ]
  },
  {
   "cell_type": "markdown",
   "metadata": {},
   "source": [
    "## Testing\n",
    "\n",
    "Let's checkout how our trained agent plays the game."
   ]
  },
  {
   "cell_type": "code",
   "execution_count": 21,
   "metadata": {},
   "outputs": [
    {
     "name": "stdout",
     "output_type": "stream",
     "text": [
      "INFO:tensorflow:Restoring parameters from checkpoints/model.ckpt\n",
      "total_reward: 500.0\n",
      "total_reward: 500.0\n",
      "total_reward: 500.0\n",
      "total_reward: 500.0\n",
      "total_reward: 500.0\n",
      "total_reward: 500.0\n",
      "total_reward: 500.0\n",
      "total_reward: 500.0\n",
      "total_reward: 500.0\n",
      "total_reward: 500.0\n"
     ]
    }
   ],
   "source": [
    "import gym\n",
    "env = gym.make('CartPole-v0')\n",
    "env = gym.make('CartPole-v1')\n",
    "\n",
    "with tf.Session() as sess:\n",
    "    sess.run(tf.global_variables_initializer())\n",
    "    saver.restore(sess, 'checkpoints/model.ckpt')    \n",
    "    #saver.restore(sess, tf.train.latest_checkpoint('checkpoints'))\n",
    "    \n",
    "    # Episodes/epochs\n",
    "    for _ in range(10):\n",
    "        state = env.reset()\n",
    "        total_reward = 0\n",
    "\n",
    "        # Steps/batches\n",
    "        while True:\n",
    "            env.render()\n",
    "            action_logits = sess.run(model.actions_logits, feed_dict={model.states: state.reshape([1, -1])})\n",
    "            action = np.argmax(action_logits)\n",
    "            state, reward, done, _ = env.step(action)\n",
    "            total_reward += reward\n",
    "            if done:\n",
    "                print('total_reward: {}'.format(total_reward))\n",
    "                break\n",
    "                \n",
    "env.close()"
   ]
  },
  {
   "cell_type": "code",
   "execution_count": null,
   "metadata": {},
   "outputs": [],
   "source": []
  }
 ],
 "metadata": {
  "kernelspec": {
   "display_name": "Python 3",
   "language": "python",
   "name": "python3"
  },
  "language_info": {
   "codemirror_mode": {
    "name": "ipython",
    "version": 3
   },
   "file_extension": ".py",
   "mimetype": "text/x-python",
   "name": "python",
   "nbconvert_exporter": "python",
   "pygments_lexer": "ipython3",
   "version": "3.6.6"
  }
 },
 "nbformat": 4,
 "nbformat_minor": 2
}
