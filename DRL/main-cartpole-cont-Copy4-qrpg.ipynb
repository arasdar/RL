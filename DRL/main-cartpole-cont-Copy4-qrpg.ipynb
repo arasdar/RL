{
 "cells": [
  {
   "cell_type": "code",
   "execution_count": 1,
   "metadata": {},
   "outputs": [
    {
     "name": "stdout",
     "output_type": "stream",
     "text": [
      "TensorFlow Version: 1.7.1\n",
      "Default GPU Device: \n"
     ]
    }
   ],
   "source": [
    "# In this one we should define and detect GPUs for tensorflow\n",
    "# GPUs or CPU\n",
    "import tensorflow as tf\n",
    "\n",
    "# Check TensorFlow Version\n",
    "print('TensorFlow Version: {}'.format(tf.__version__))\n",
    "\n",
    "# Check for a GPU\n",
    "print('Default GPU Device: {}'.format(tf.test.gpu_device_name()))"
   ]
  },
  {
   "cell_type": "markdown",
   "metadata": {},
   "source": [
    "##### >**Note:** Make sure you have OpenAI Gym cloned. Then run this command `pip install -e gym/[all]`."
   ]
  },
  {
   "cell_type": "code",
   "execution_count": 2,
   "metadata": {},
   "outputs": [],
   "source": [
    "import numpy as np\n",
    "import gym\n",
    "env = gym.make('CartPole-v0')\n",
    "env = gym.make('CartPole-v1')"
   ]
  },
  {
   "cell_type": "code",
   "execution_count": 3,
   "metadata": {},
   "outputs": [],
   "source": [
    "def model_input(state_size):\n",
    "    #states = tf.placeholder(tf.float32, [None, *state_size], name='states')\n",
    "    states = tf.placeholder(tf.float32, [None, state_size], name='states')\n",
    "    actions = tf.placeholder(tf.int32, [None], name='actions')\n",
    "    targetQs = tf.placeholder(tf.float32, [None], name='targetQs')\n",
    "    rates = tf.placeholder(tf.float32, [None], name='rates')\n",
    "    return states, actions, targetQs, rates"
   ]
  },
  {
   "cell_type": "code",
   "execution_count": 4,
   "metadata": {},
   "outputs": [],
   "source": [
    "# Generator/Controller: Generating/prediting the actions\n",
    "def generator(states, action_size, hidden_size, reuse=False, alpha=0.1, training=False):\n",
    "    with tf.variable_scope('generator', reuse=reuse):\n",
    "        # First fully connected layer\n",
    "        h1 = tf.layers.dense(inputs=states, units=hidden_size)\n",
    "        bn1 = tf.layers.batch_normalization(h1, training=training)        \n",
    "        nl1 = tf.maximum(alpha * bn1, bn1)\n",
    "        \n",
    "        # Second fully connected layer\n",
    "        h2 = tf.layers.dense(inputs=nl1, units=hidden_size)\n",
    "        bn2 = tf.layers.batch_normalization(h2, training=training)        \n",
    "        nl2 = tf.maximum(alpha * bn2, bn2)\n",
    "        \n",
    "        # Output layer\n",
    "        logits = tf.layers.dense(inputs=nl2, units=action_size)        \n",
    "        #predictions = tf.nn.softmax(logits)\n",
    "\n",
    "        # return actions logits\n",
    "        return logits"
   ]
  },
  {
   "cell_type": "code",
   "execution_count": 5,
   "metadata": {},
   "outputs": [],
   "source": [
    "def discriminator(states, actions, hidden_size, reuse=False, alpha=0.1, training=False):\n",
    "    with tf.variable_scope('discriminator', reuse=reuse):\n",
    "        # First fully connected layer\n",
    "        h1 = tf.layers.dense(inputs=states, units=action_size)\n",
    "        bn1 = tf.layers.batch_normalization(h1, training=training)        \n",
    "        nl1 = tf.maximum(alpha * bn1, bn1)\n",
    "        \n",
    "        # Second fully connected layer\n",
    "        nl1_fused = tf.concat(axis=1, values=[nl1, actions])\n",
    "        h2 = tf.layers.dense(inputs=nl1_fused, units=hidden_size)\n",
    "        bn2 = tf.layers.batch_normalization(h2, training=training)        \n",
    "        nl2 = tf.maximum(alpha * bn2, bn2)\n",
    "                \n",
    "        # Output layer\n",
    "        logits = tf.layers.dense(inputs=nl2, units=1)        \n",
    "        #predictions = tf.nn.softmax(logits)\n",
    "\n",
    "        # return rewards logits\n",
    "        return logits"
   ]
  },
  {
   "cell_type": "code",
   "execution_count": 8,
   "metadata": {},
   "outputs": [],
   "source": [
    "def model_loss(action_size, hidden_size, states, actions, targetQs, rates):\n",
    "    actions_logits = generator(states=states, hidden_size=hidden_size, action_size=action_size)\n",
    "    actions_labels = tf.one_hot(indices=actions, depth=action_size, dtype=actions_logits.dtype)\n",
    "    neg_log_prob = tf.nn.softmax_cross_entropy_with_logits_v2(logits=actions_logits, \n",
    "                                                              labels=actions_labels)\n",
    "    targetQs = tf.reshape(targetQs, shape=[-1, 1])\n",
    "    gloss = tf.reduce_mean(neg_log_prob * targetQs) # DPG\n",
    "    gQs = discriminator(actions=actions_logits, hidden_size=hidden_size, states=states)\n",
    "    dQs = discriminator(actions=actions_labels, hidden_size=hidden_size, states=states, reuse=True)\n",
    "    rates = tf.reshape(rates, shape=[-1, 1])\n",
    "    dloss = tf.reduce_mean(tf.nn.sigmoid_cross_entropy_with_logits(logits=dQs, # GAN\n",
    "                                                                   labels=rates)) # 0-1\n",
    "    dloss += tf.reduce_mean(tf.nn.sigmoid_cross_entropy_with_logits(logits=dQs, # GAN\n",
    "                                                                    labels=tf.nn.sigmoid(targetQs))) # 0-1\n",
    "    glossQ = tf.reduce_mean(tf.square(gQs - targetQs)) # DQN\n",
    "    dlossQ = tf.reduce_mean(tf.square(dQs - targetQs)) # DQN\n",
    "    return actions_logits, gQs, gloss, dloss, glossQ, dlossQ"
   ]
  },
  {
   "cell_type": "code",
   "execution_count": 15,
   "metadata": {},
   "outputs": [],
   "source": [
    "# Optimizating/training/learning G & D\n",
    "def model_opt(g_loss, d_loss, g_learning_rate, d_learning_rate):\n",
    "    # Get weights and bias to update\n",
    "    t_vars = tf.trainable_variables()\n",
    "    g_vars = [var for var in t_vars if var.name.startswith('generator')]\n",
    "    d_vars = [var for var in t_vars if var.name.startswith('discriminator')]\n",
    "\n",
    "    # Optimize\n",
    "    with tf.control_dependencies(tf.get_collection(tf.GraphKeys.UPDATE_OPS)): # Required for batchnorm (BN)\n",
    "        g_opt = tf.train.AdamOptimizer(g_learning_rate).minimize(g_loss, var_list=g_vars)\n",
    "        d_opt = tf.train.AdamOptimizer(d_learning_rate).minimize(d_loss, var_list=d_vars)\n",
    "    return g_opt, d_opt"
   ]
  },
  {
   "cell_type": "code",
   "execution_count": 16,
   "metadata": {},
   "outputs": [],
   "source": [
    "class Model:\n",
    "    def __init__(self, state_size, action_size, hidden_size, g_learning_rate, d_learning_rate):\n",
    "\n",
    "        # Data of the Model: make the data available inside the framework\n",
    "        self.states, self.actions, self.targetQs, self.rates = model_input(state_size=state_size)\n",
    "\n",
    "        # Create the Model: calculating the loss and forwad pass\n",
    "        self.actions_logits, self.Qs_logits, self.g_loss, self.d_loss, self.g_lossQ, self.d_lossQ = model_loss(\n",
    "            action_size=action_size, hidden_size=hidden_size, # model init parameters\n",
    "            states=self.states, actions=self.actions, targetQs=self.targetQs, rates=self.rates) # model input\n",
    "        \n",
    "        # Update the model: backward pass and backprop\n",
    "        self.g_opt, self.d_opt = model_opt(g_loss=self.g_loss, d_loss=self.d_loss,\n",
    "                                           g_learning_rate=g_learning_rate, \n",
    "                                           d_learning_rate=d_learning_rate)"
   ]
  },
  {
   "cell_type": "code",
   "execution_count": 17,
   "metadata": {},
   "outputs": [],
   "source": [
    "from collections import deque\n",
    "class Memory():\n",
    "    def __init__(self, max_size = 1000):\n",
    "        self.buffer = deque(maxlen=max_size) # data batch\n",
    "        self.rates = deque(maxlen=max_size) # rates\n",
    "#     def sample(self, batch_size):\n",
    "#         idx = np.random.choice(np.arange(len(self.buffer)), # ==  self.rates\n",
    "#                                size=batch_size, \n",
    "#                                replace=False)\n",
    "#         return [self.buffer[ii] for ii in idx], [self.rates[ii] for ii in idx]"
   ]
  },
  {
   "cell_type": "markdown",
   "metadata": {},
   "source": [
    "## Hyperparameters\n",
    "\n",
    "One of the more difficult aspects of reinforcememt learning are the large number of hyperparameters. Not only are we tuning the network, but we're tuning the simulation."
   ]
  },
  {
   "cell_type": "code",
   "execution_count": 18,
   "metadata": {},
   "outputs": [
    {
     "data": {
      "text/plain": [
       "(Box(4,), Discrete(2))"
      ]
     },
     "execution_count": 18,
     "metadata": {},
     "output_type": "execute_result"
    }
   ],
   "source": [
    "env.observation_space, env.action_space"
   ]
  },
  {
   "cell_type": "code",
   "execution_count": 19,
   "metadata": {},
   "outputs": [],
   "source": [
    "# Exploration parameters\n",
    "explore_start = 1.0            # exploration probability at start\n",
    "explore_stop = 0.01           # minimum exploration probability \n",
    "decay_rate = 0.0001            # exponential decay rate for exploration prob\n",
    "\n",
    "# Network parameters\n",
    "state_size = 4\n",
    "action_size = 2\n",
    "hidden_size = 4*2             # number of units in each Q-network hidden layer\n",
    "g_learning_rate = 1e-4         # Q-network learning rate\n",
    "d_learning_rate = 1e-4         # Q-network learning rate\n",
    "\n",
    "# Memory parameters\n",
    "memory_size = int(1e5)            # memory capacity\n",
    "batch_size = int(1e3)             # experience mini-batch size: 200/500 a successfull episode size\n",
    "gamma = 0.99                   # future reward discount"
   ]
  },
  {
   "cell_type": "code",
   "execution_count": 20,
   "metadata": {},
   "outputs": [],
   "source": [
    "# Reset/init the graph/session\n",
    "graph = tf.reset_default_graph()\n",
    "\n",
    "# Init the model\n",
    "model = Model(action_size=action_size, state_size=state_size, hidden_size=hidden_size,\n",
    "              g_learning_rate=g_learning_rate, d_learning_rate=d_learning_rate)\n",
    "\n",
    "# Init the memory\n",
    "memory = Memory(max_size=memory_size)"
   ]
  },
  {
   "cell_type": "code",
   "execution_count": 21,
   "metadata": {},
   "outputs": [],
   "source": [
    "state = env.reset()\n",
    "total_reward = 0\n",
    "num_step = 0\n",
    "for _ in range(memory_size):\n",
    "    action = env.action_space.sample()\n",
    "    next_state, reward, done, _ = env.step(action)\n",
    "    memory.buffer.append([state, action, next_state, reward, float(done)])\n",
    "    memory.rates.append(-1) # empty\n",
    "    num_step += 1 # memory incremented\n",
    "    total_reward += reward\n",
    "    state = next_state\n",
    "    if done is True:\n",
    "        state = env.reset()\n",
    "        rate = total_reward/500\n",
    "        total_reward = 0 # reset\n",
    "        for idx in range(num_step): # episode length\n",
    "            if memory.rates[-1-idx] == -1:\n",
    "                memory.rates[-1-idx] = rate\n",
    "        num_step = 0 # reset"
   ]
  },
  {
   "cell_type": "markdown",
   "metadata": {},
   "source": [
    "## Training the model\n",
    "\n",
    "Below we'll train our agent. If you want to watch it train, uncomment the `env.render()` line. This is slow because it's rendering the frames slower than the network can train. But, it's cool to watch the agent get better at the game."
   ]
  },
  {
   "cell_type": "code",
   "execution_count": null,
   "metadata": {},
   "outputs": [
    {
     "name": "stdout",
     "output_type": "stream",
     "text": [
      "Episode:0 meanR:20.0000 R:20.0000 rate:0.0400 gloss:0.6463 dloss:1.4007 glossQ:1.0063 dlossQ:0.8000 exploreP:0.9980\n",
      "Episode:1 meanR:21.0000 R:22.0000 rate:0.0440 gloss:0.6378 dloss:1.3950 glossQ:1.0060 dlossQ:0.8171 exploreP:0.9959\n",
      "Episode:2 meanR:17.6667 R:11.0000 rate:0.0220 gloss:0.6186 dloss:1.3909 glossQ:1.0087 dlossQ:0.8559 exploreP:0.9948\n",
      "Episode:3 meanR:19.7500 R:26.0000 rate:0.0520 gloss:0.6290 dloss:1.3904 glossQ:1.0079 dlossQ:0.8456 exploreP:0.9922\n",
      "Episode:4 meanR:20.2000 R:22.0000 rate:0.0440 gloss:0.6103 dloss:1.3848 glossQ:1.0063 dlossQ:0.8643 exploreP:0.9901\n",
      "Episode:5 meanR:18.8333 R:12.0000 rate:0.0240 gloss:0.5852 dloss:1.3790 glossQ:1.0105 dlossQ:0.8750 exploreP:0.9889\n",
      "Episode:6 meanR:18.4286 R:16.0000 rate:0.0320 gloss:0.5778 dloss:1.3770 glossQ:1.0136 dlossQ:0.9154 exploreP:0.9873\n",
      "Episode:7 meanR:17.6250 R:12.0000 rate:0.0240 gloss:0.5750 dloss:1.3768 glossQ:1.0111 dlossQ:0.8923 exploreP:0.9861\n",
      "Episode:8 meanR:17.6667 R:18.0000 rate:0.0360 gloss:0.5884 dloss:1.3774 glossQ:1.0097 dlossQ:0.9204 exploreP:0.9844\n",
      "Episode:9 meanR:18.2000 R:23.0000 rate:0.0460 gloss:0.5506 dloss:1.3704 glossQ:1.0116 dlossQ:0.9332 exploreP:0.9821\n",
      "Episode:10 meanR:20.2727 R:41.0000 rate:0.0820 gloss:0.5700 dloss:1.3710 glossQ:1.0130 dlossQ:0.9525 exploreP:0.9782\n",
      "Episode:11 meanR:22.2500 R:44.0000 rate:0.0880 gloss:0.5367 dloss:1.3633 glossQ:1.0146 dlossQ:0.9759 exploreP:0.9739\n",
      "Episode:12 meanR:21.3077 R:10.0000 rate:0.0200 gloss:0.5238 dloss:1.3577 glossQ:1.0174 dlossQ:1.0040 exploreP:0.9730\n",
      "Episode:13 meanR:21.5714 R:25.0000 rate:0.0500 gloss:0.5369 dloss:1.3619 glossQ:1.0139 dlossQ:0.9754 exploreP:0.9705\n",
      "Episode:14 meanR:21.3333 R:18.0000 rate:0.0360 gloss:0.5452 dloss:1.3630 glossQ:1.0133 dlossQ:1.0199 exploreP:0.9688\n",
      "Episode:15 meanR:21.9375 R:31.0000 rate:0.0620 gloss:0.5121 dloss:1.3601 glossQ:1.0159 dlossQ:1.0165 exploreP:0.9659\n",
      "Episode:16 meanR:24.8824 R:72.0000 rate:0.1440 gloss:0.5102 dloss:1.3547 glossQ:1.0174 dlossQ:1.0310 exploreP:0.9590\n",
      "Episode:17 meanR:27.1111 R:65.0000 rate:0.1300 gloss:0.4897 dloss:1.3542 glossQ:1.0171 dlossQ:1.0828 exploreP:0.9528\n",
      "Episode:18 meanR:26.4211 R:14.0000 rate:0.0280 gloss:0.4905 dloss:1.3447 glossQ:1.0217 dlossQ:1.0926 exploreP:0.9515\n",
      "Episode:19 meanR:26.9000 R:36.0000 rate:0.0720 gloss:0.4839 dloss:1.3501 glossQ:1.0161 dlossQ:1.0873 exploreP:0.9481\n",
      "Episode:20 meanR:26.6190 R:21.0000 rate:0.0420 gloss:0.4782 dloss:1.3509 glossQ:1.0204 dlossQ:1.1046 exploreP:0.9462\n",
      "Episode:21 meanR:27.0000 R:35.0000 rate:0.0700 gloss:0.4657 dloss:1.3463 glossQ:1.0228 dlossQ:1.1271 exploreP:0.9429\n",
      "Episode:22 meanR:26.4783 R:15.0000 rate:0.0300 gloss:0.4863 dloss:1.3503 glossQ:1.0185 dlossQ:1.1207 exploreP:0.9415\n",
      "Episode:23 meanR:26.0833 R:17.0000 rate:0.0340 gloss:0.4837 dloss:1.3528 glossQ:1.0182 dlossQ:1.1207 exploreP:0.9399\n",
      "Episode:24 meanR:25.8800 R:21.0000 rate:0.0420 gloss:0.4603 dloss:1.3467 glossQ:1.0198 dlossQ:1.1323 exploreP:0.9380\n",
      "Episode:25 meanR:25.3077 R:11.0000 rate:0.0220 gloss:0.4671 dloss:1.3508 glossQ:1.0172 dlossQ:1.1276 exploreP:0.9370\n",
      "Episode:26 meanR:25.6296 R:34.0000 rate:0.0680 gloss:0.4758 dloss:1.3475 glossQ:1.0203 dlossQ:1.1216 exploreP:0.9338\n",
      "Episode:27 meanR:25.1429 R:12.0000 rate:0.0240 gloss:0.4904 dloss:1.3475 glossQ:1.0218 dlossQ:1.1402 exploreP:0.9327\n",
      "Episode:28 meanR:24.8276 R:16.0000 rate:0.0320 gloss:0.4754 dloss:1.3468 glossQ:1.0207 dlossQ:1.1414 exploreP:0.9312\n",
      "Episode:29 meanR:24.9000 R:27.0000 rate:0.0540 gloss:0.4641 dloss:1.3472 glossQ:1.0185 dlossQ:1.1374 exploreP:0.9287\n",
      "Episode:30 meanR:24.7742 R:21.0000 rate:0.0420 gloss:0.4944 dloss:1.3486 glossQ:1.0205 dlossQ:1.1417 exploreP:0.9268\n",
      "Episode:31 meanR:24.3438 R:11.0000 rate:0.0220 gloss:0.4553 dloss:1.3457 glossQ:1.0175 dlossQ:1.1411 exploreP:0.9258\n",
      "Episode:32 meanR:24.0606 R:15.0000 rate:0.0300 gloss:0.4498 dloss:1.3440 glossQ:1.0205 dlossQ:1.1575 exploreP:0.9244\n",
      "Episode:33 meanR:24.5588 R:41.0000 rate:0.0820 gloss:0.4531 dloss:1.3406 glossQ:1.0215 dlossQ:1.1447 exploreP:0.9207\n",
      "Episode:34 meanR:24.3143 R:16.0000 rate:0.0320 gloss:0.4578 dloss:1.3398 glossQ:1.0220 dlossQ:1.1592 exploreP:0.9192\n",
      "Episode:35 meanR:24.0833 R:16.0000 rate:0.0320 gloss:0.4556 dloss:1.3483 glossQ:1.0198 dlossQ:1.1631 exploreP:0.9178\n",
      "Episode:36 meanR:23.9459 R:19.0000 rate:0.0380 gloss:0.4295 dloss:1.3404 glossQ:1.0203 dlossQ:1.1356 exploreP:0.9161\n",
      "Episode:37 meanR:24.2368 R:35.0000 rate:0.0700 gloss:0.4499 dloss:1.3428 glossQ:1.0215 dlossQ:1.1580 exploreP:0.9129\n",
      "Episode:38 meanR:24.2308 R:24.0000 rate:0.0480 gloss:0.4520 dloss:1.3435 glossQ:1.0215 dlossQ:1.1699 exploreP:0.9107\n",
      "Episode:39 meanR:23.9750 R:14.0000 rate:0.0280 gloss:0.4288 dloss:1.3408 glossQ:1.0228 dlossQ:1.1794 exploreP:0.9095\n",
      "Episode:40 meanR:23.6829 R:12.0000 rate:0.0240 gloss:0.4467 dloss:1.3434 glossQ:1.0203 dlossQ:1.1457 exploreP:0.9084\n",
      "Episode:41 meanR:23.9762 R:36.0000 rate:0.0720 gloss:0.4417 dloss:1.3436 glossQ:1.0211 dlossQ:1.1603 exploreP:0.9052\n",
      "Episode:42 meanR:23.7442 R:14.0000 rate:0.0280 gloss:0.4213 dloss:1.3389 glossQ:1.0236 dlossQ:1.1670 exploreP:0.9039\n",
      "Episode:43 meanR:23.5227 R:14.0000 rate:0.0280 gloss:0.4456 dloss:1.3473 glossQ:1.1050 dlossQ:1.2567 exploreP:0.9027\n",
      "Episode:44 meanR:23.5778 R:26.0000 rate:0.0520 gloss:0.4463 dloss:1.3412 glossQ:1.0205 dlossQ:1.1710 exploreP:0.9003\n",
      "Episode:45 meanR:23.9783 R:42.0000 rate:0.0840 gloss:0.4505 dloss:1.3416 glossQ:1.0286 dlossQ:1.1679 exploreP:0.8966\n",
      "Episode:46 meanR:23.7021 R:11.0000 rate:0.0220 gloss:0.4379 dloss:1.3357 glossQ:1.0245 dlossQ:1.1789 exploreP:0.8956\n",
      "Episode:47 meanR:23.9375 R:35.0000 rate:0.0700 gloss:0.4347 dloss:1.3391 glossQ:1.0216 dlossQ:1.1760 exploreP:0.8925\n",
      "Episode:48 meanR:23.7143 R:13.0000 rate:0.0260 gloss:0.4287 dloss:1.3405 glossQ:1.0219 dlossQ:1.1726 exploreP:0.8914\n",
      "Episode:49 meanR:23.8200 R:29.0000 rate:0.0580 gloss:0.4421 dloss:1.3377 glossQ:1.0213 dlossQ:1.1754 exploreP:0.8888\n",
      "Episode:50 meanR:23.5294 R:9.0000 rate:0.0180 gloss:0.4516 dloss:1.3418 glossQ:1.0226 dlossQ:1.1757 exploreP:0.8881\n",
      "Episode:51 meanR:23.3846 R:16.0000 rate:0.0320 gloss:0.4265 dloss:1.3381 glossQ:1.0184 dlossQ:1.1988 exploreP:0.8866\n",
      "Episode:52 meanR:23.8302 R:47.0000 rate:0.0940 gloss:0.4377 dloss:1.3406 glossQ:1.0222 dlossQ:1.1757 exploreP:0.8825\n",
      "Episode:53 meanR:24.0370 R:35.0000 rate:0.0700 gloss:0.4296 dloss:1.3414 glossQ:1.0226 dlossQ:1.1758 exploreP:0.8795\n",
      "Episode:54 meanR:24.2182 R:34.0000 rate:0.0680 gloss:0.4493 dloss:1.3411 glossQ:1.0219 dlossQ:1.1732 exploreP:0.8765\n",
      "Episode:55 meanR:24.2500 R:26.0000 rate:0.0520 gloss:0.4468 dloss:1.3357 glossQ:1.0232 dlossQ:1.1803 exploreP:0.8743\n",
      "Episode:56 meanR:24.3158 R:28.0000 rate:0.0560 gloss:0.4334 dloss:1.3420 glossQ:1.0244 dlossQ:1.1801 exploreP:0.8719\n",
      "Episode:57 meanR:24.2414 R:20.0000 rate:0.0400 gloss:0.4439 dloss:1.3389 glossQ:1.0236 dlossQ:1.1834 exploreP:0.8701\n",
      "Episode:58 meanR:24.2542 R:25.0000 rate:0.0500 gloss:0.4317 dloss:1.3468 glossQ:1.0212 dlossQ:1.1740 exploreP:0.8680\n",
      "Episode:59 meanR:24.5333 R:41.0000 rate:0.0820 gloss:0.4308 dloss:1.3405 glossQ:1.0230 dlossQ:1.1816 exploreP:0.8645\n",
      "Episode:60 meanR:24.3443 R:13.0000 rate:0.0260 gloss:0.4288 dloss:1.3391 glossQ:1.0225 dlossQ:1.1781 exploreP:0.8634\n",
      "Episode:61 meanR:24.2581 R:19.0000 rate:0.0380 gloss:0.4497 dloss:1.3428 glossQ:1.0231 dlossQ:1.1756 exploreP:0.8618\n",
      "Episode:62 meanR:25.0159 R:72.0000 rate:0.1440 gloss:0.4379 dloss:1.3377 glossQ:1.0220 dlossQ:1.1750 exploreP:0.8556\n",
      "Episode:63 meanR:25.3906 R:49.0000 rate:0.0980 gloss:0.4398 dloss:1.3378 glossQ:1.0243 dlossQ:1.1815 exploreP:0.8515\n",
      "Episode:64 meanR:25.3846 R:25.0000 rate:0.0500 gloss:0.4321 dloss:1.3407 glossQ:1.0221 dlossQ:1.1777 exploreP:0.8494\n",
      "Episode:65 meanR:25.5152 R:34.0000 rate:0.0680 gloss:0.4377 dloss:1.3402 glossQ:1.0201 dlossQ:1.1847 exploreP:0.8466\n",
      "Episode:66 meanR:25.4030 R:18.0000 rate:0.0360 gloss:0.4285 dloss:1.3371 glossQ:1.0251 dlossQ:1.1881 exploreP:0.8451\n",
      "Episode:67 meanR:25.3824 R:24.0000 rate:0.0480 gloss:0.4256 dloss:1.3360 glossQ:1.0209 dlossQ:1.1698 exploreP:0.8431\n",
      "Episode:68 meanR:25.7246 R:49.0000 rate:0.0980 gloss:0.4251 dloss:1.3396 glossQ:1.0236 dlossQ:1.1770 exploreP:0.8390\n",
      "Episode:69 meanR:25.6714 R:22.0000 rate:0.0440 gloss:0.4113 dloss:1.3390 glossQ:1.0252 dlossQ:1.1869 exploreP:0.8372\n",
      "Episode:70 meanR:25.8028 R:35.0000 rate:0.0700 gloss:0.4525 dloss:1.3407 glossQ:1.0593 dlossQ:1.2108 exploreP:0.8343\n"
     ]
    },
    {
     "name": "stdout",
     "output_type": "stream",
     "text": [
      "Episode:71 meanR:26.3750 R:67.0000 rate:0.1340 gloss:0.4382 dloss:1.3404 glossQ:1.0289 dlossQ:1.1904 exploreP:0.8288\n",
      "Episode:72 meanR:26.3014 R:21.0000 rate:0.0420 gloss:0.4371 dloss:1.3389 glossQ:1.0179 dlossQ:1.1778 exploreP:0.8271\n",
      "Episode:73 meanR:26.2568 R:23.0000 rate:0.0460 gloss:0.4446 dloss:1.3363 glossQ:1.0222 dlossQ:1.1754 exploreP:0.8252\n",
      "Episode:74 meanR:26.1200 R:16.0000 rate:0.0320 gloss:0.4290 dloss:1.3368 glossQ:1.0232 dlossQ:1.1771 exploreP:0.8239\n",
      "Episode:75 meanR:26.4737 R:53.0000 rate:0.1060 gloss:0.4347 dloss:1.3369 glossQ:1.0248 dlossQ:1.1829 exploreP:0.8196\n",
      "Episode:76 meanR:26.5455 R:32.0000 rate:0.0640 gloss:0.4268 dloss:1.3396 glossQ:1.0217 dlossQ:1.1895 exploreP:0.8170\n",
      "Episode:77 meanR:26.7692 R:44.0000 rate:0.0880 gloss:0.4309 dloss:1.3368 glossQ:1.0239 dlossQ:1.1709 exploreP:0.8134\n",
      "Episode:78 meanR:26.7342 R:24.0000 rate:0.0480 gloss:0.4230 dloss:1.3327 glossQ:1.0230 dlossQ:1.1752 exploreP:0.8115\n",
      "Episode:79 meanR:26.6875 R:23.0000 rate:0.0460 gloss:0.4211 dloss:1.3425 glossQ:1.0236 dlossQ:1.1826 exploreP:0.8097\n",
      "Episode:80 meanR:26.7160 R:29.0000 rate:0.0580 gloss:0.4224 dloss:1.3366 glossQ:1.0230 dlossQ:1.1812 exploreP:0.8074\n",
      "Episode:81 meanR:26.6585 R:22.0000 rate:0.0440 gloss:0.4299 dloss:1.3445 glossQ:1.0234 dlossQ:1.1845 exploreP:0.8056\n",
      "Episode:82 meanR:26.5181 R:15.0000 rate:0.0300 gloss:0.4299 dloss:1.3358 glossQ:1.0246 dlossQ:1.1792 exploreP:0.8044\n",
      "Episode:83 meanR:27.2024 R:84.0000 rate:0.1680 gloss:0.4305 dloss:1.3389 glossQ:1.0230 dlossQ:1.1770 exploreP:0.7978\n",
      "Episode:84 meanR:27.0588 R:15.0000 rate:0.0300 gloss:0.4408 dloss:1.3342 glossQ:1.0221 dlossQ:1.1830 exploreP:0.7966\n",
      "Episode:85 meanR:27.0465 R:26.0000 rate:0.0520 gloss:0.4445 dloss:1.3420 glossQ:1.0627 dlossQ:1.2159 exploreP:0.7945\n",
      "Episode:86 meanR:26.8736 R:12.0000 rate:0.0240 gloss:0.4341 dloss:1.3420 glossQ:1.0203 dlossQ:1.1945 exploreP:0.7936\n",
      "Episode:87 meanR:26.9318 R:32.0000 rate:0.0640 gloss:0.4380 dloss:1.3404 glossQ:1.0290 dlossQ:1.1845 exploreP:0.7911\n",
      "Episode:88 meanR:27.1685 R:48.0000 rate:0.0960 gloss:0.4361 dloss:1.3377 glossQ:1.0257 dlossQ:1.1747 exploreP:0.7874\n",
      "Episode:89 meanR:27.3889 R:47.0000 rate:0.0940 gloss:0.4375 dloss:1.3379 glossQ:1.0237 dlossQ:1.1913 exploreP:0.7837\n",
      "Episode:90 meanR:27.3516 R:24.0000 rate:0.0480 gloss:0.4230 dloss:1.3372 glossQ:1.0237 dlossQ:1.1901 exploreP:0.7819\n",
      "Episode:91 meanR:27.9783 R:85.0000 rate:0.1700 gloss:0.4293 dloss:1.3379 glossQ:1.0222 dlossQ:1.1897 exploreP:0.7753\n",
      "Episode:92 meanR:27.9355 R:24.0000 rate:0.0480 gloss:0.4387 dloss:1.3433 glossQ:1.0212 dlossQ:1.1873 exploreP:0.7735\n",
      "Episode:93 meanR:28.0851 R:42.0000 rate:0.0840 gloss:0.4343 dloss:1.3405 glossQ:1.0222 dlossQ:1.1911 exploreP:0.7703\n",
      "Episode:94 meanR:28.0211 R:22.0000 rate:0.0440 gloss:0.4400 dloss:1.3441 glossQ:1.0334 dlossQ:1.2073 exploreP:0.7686\n",
      "Episode:95 meanR:28.2292 R:48.0000 rate:0.0960 gloss:0.4422 dloss:1.3418 glossQ:1.0218 dlossQ:1.1861 exploreP:0.7650\n",
      "Episode:96 meanR:28.5361 R:58.0000 rate:0.1160 gloss:0.4368 dloss:1.3373 glossQ:1.0220 dlossQ:1.1818 exploreP:0.7606\n",
      "Episode:97 meanR:28.5816 R:33.0000 rate:0.0660 gloss:0.4225 dloss:1.3413 glossQ:1.0253 dlossQ:1.1918 exploreP:0.7582\n",
      "Episode:98 meanR:28.7172 R:42.0000 rate:0.0840 gloss:0.4368 dloss:1.3385 glossQ:1.0275 dlossQ:1.1764 exploreP:0.7550\n",
      "Episode:99 meanR:29.2200 R:79.0000 rate:0.1580 gloss:0.4289 dloss:1.3378 glossQ:1.0215 dlossQ:1.1748 exploreP:0.7492\n",
      "Episode:100 meanR:29.2700 R:25.0000 rate:0.0500 gloss:0.4318 dloss:1.3406 glossQ:1.0226 dlossQ:1.1813 exploreP:0.7473\n",
      "Episode:101 meanR:29.6300 R:58.0000 rate:0.1160 gloss:0.4315 dloss:1.3410 glossQ:1.0232 dlossQ:1.1793 exploreP:0.7430\n",
      "Episode:102 meanR:29.9200 R:40.0000 rate:0.0800 gloss:0.4371 dloss:1.3346 glossQ:1.0218 dlossQ:1.1639 exploreP:0.7401\n",
      "Episode:103 meanR:30.0200 R:36.0000 rate:0.0720 gloss:0.4283 dloss:1.3394 glossQ:1.0566 dlossQ:1.2119 exploreP:0.7375\n",
      "Episode:104 meanR:29.9700 R:17.0000 rate:0.0340 gloss:0.4600 dloss:1.3411 glossQ:1.0418 dlossQ:1.1789 exploreP:0.7363\n",
      "Episode:105 meanR:30.3100 R:46.0000 rate:0.0920 gloss:0.4257 dloss:1.3374 glossQ:1.0231 dlossQ:1.1690 exploreP:0.7329\n",
      "Episode:106 meanR:30.2900 R:14.0000 rate:0.0280 gloss:0.4295 dloss:1.3460 glossQ:1.0224 dlossQ:1.1649 exploreP:0.7319\n",
      "Episode:107 meanR:30.6000 R:43.0000 rate:0.0860 gloss:0.4219 dloss:1.3393 glossQ:1.0246 dlossQ:1.1607 exploreP:0.7288\n",
      "Episode:108 meanR:31.8300 R:141.0000 rate:0.2820 gloss:0.4278 dloss:1.3394 glossQ:1.0218 dlossQ:1.1619 exploreP:0.7188\n",
      "Episode:109 meanR:32.3500 R:75.0000 rate:0.1500 gloss:0.4264 dloss:1.3352 glossQ:1.0249 dlossQ:1.1730 exploreP:0.7135\n",
      "Episode:110 meanR:32.3500 R:41.0000 rate:0.0820 gloss:0.4248 dloss:1.3395 glossQ:1.0226 dlossQ:1.1889 exploreP:0.7106\n",
      "Episode:111 meanR:32.0300 R:12.0000 rate:0.0240 gloss:0.4301 dloss:1.3435 glossQ:1.0235 dlossQ:1.1769 exploreP:0.7097\n",
      "Episode:112 meanR:32.0600 R:13.0000 rate:0.0260 gloss:0.4290 dloss:1.3310 glossQ:1.0287 dlossQ:1.1581 exploreP:0.7088\n",
      "Episode:113 meanR:32.1100 R:30.0000 rate:0.0600 gloss:0.4284 dloss:1.3349 glossQ:1.0227 dlossQ:1.1843 exploreP:0.7067\n",
      "Episode:114 meanR:34.1000 R:217.0000 rate:0.4340 gloss:0.4271 dloss:1.3383 glossQ:1.0230 dlossQ:1.1846 exploreP:0.6918\n",
      "Episode:115 meanR:34.8600 R:107.0000 rate:0.2140 gloss:0.4279 dloss:1.3396 glossQ:1.0227 dlossQ:1.1726 exploreP:0.6845\n",
      "Episode:116 meanR:34.3800 R:24.0000 rate:0.0480 gloss:0.4283 dloss:1.3391 glossQ:1.0242 dlossQ:1.1708 exploreP:0.6829\n",
      "Episode:117 meanR:33.9200 R:19.0000 rate:0.0380 gloss:0.4290 dloss:1.3407 glossQ:1.0214 dlossQ:1.1778 exploreP:0.6816\n",
      "Episode:118 meanR:34.0500 R:27.0000 rate:0.0540 gloss:0.4323 dloss:1.3394 glossQ:1.0227 dlossQ:1.1650 exploreP:0.6798\n",
      "Episode:119 meanR:34.6500 R:96.0000 rate:0.1920 gloss:0.4259 dloss:1.3384 glossQ:1.0244 dlossQ:1.1603 exploreP:0.6734\n",
      "Episode:120 meanR:34.8000 R:36.0000 rate:0.0720 gloss:0.4210 dloss:1.3417 glossQ:1.0219 dlossQ:1.1534 exploreP:0.6710\n",
      "Episode:121 meanR:34.5600 R:11.0000 rate:0.0220 gloss:0.4167 dloss:1.3288 glossQ:1.0279 dlossQ:1.1507 exploreP:0.6703\n",
      "Episode:122 meanR:35.3000 R:89.0000 rate:0.1780 gloss:0.4234 dloss:1.3385 glossQ:1.0368 dlossQ:1.1812 exploreP:0.6645\n",
      "Episode:123 meanR:35.6600 R:53.0000 rate:0.1060 gloss:0.4243 dloss:1.3411 glossQ:1.0234 dlossQ:1.1673 exploreP:0.6610\n",
      "Episode:124 meanR:36.1700 R:72.0000 rate:0.1440 gloss:0.4321 dloss:1.3450 glossQ:1.0271 dlossQ:1.1644 exploreP:0.6563\n",
      "Episode:125 meanR:37.1900 R:113.0000 rate:0.2260 gloss:0.4357 dloss:1.3419 glossQ:1.0229 dlossQ:1.1466 exploreP:0.6491\n",
      "Episode:126 meanR:37.3500 R:50.0000 rate:0.1000 gloss:0.4281 dloss:1.3417 glossQ:1.0225 dlossQ:1.1400 exploreP:0.6459\n",
      "Episode:127 meanR:39.5300 R:230.0000 rate:0.4600 gloss:0.4223 dloss:1.3381 glossQ:1.0233 dlossQ:1.1581 exploreP:0.6314\n",
      "Episode:128 meanR:39.8300 R:46.0000 rate:0.0920 gloss:0.4325 dloss:1.3469 glossQ:1.0252 dlossQ:1.1639 exploreP:0.6286\n",
      "Episode:129 meanR:40.6600 R:110.0000 rate:0.2200 gloss:0.4422 dloss:1.3417 glossQ:1.0454 dlossQ:1.1567 exploreP:0.6218\n",
      "Episode:130 meanR:41.1900 R:74.0000 rate:0.1480 gloss:0.4277 dloss:1.3390 glossQ:1.0231 dlossQ:1.1454 exploreP:0.6173\n",
      "Episode:131 meanR:42.0900 R:101.0000 rate:0.2020 gloss:0.4241 dloss:1.3365 glossQ:1.0234 dlossQ:1.1523 exploreP:0.6112\n",
      "Episode:132 meanR:43.4200 R:148.0000 rate:0.2960 gloss:0.4262 dloss:1.3431 glossQ:1.0228 dlossQ:1.1526 exploreP:0.6024\n",
      "Episode:133 meanR:43.2700 R:26.0000 rate:0.0520 gloss:0.4275 dloss:1.3465 glossQ:1.0205 dlossQ:1.1465 exploreP:0.6008\n",
      "Episode:134 meanR:43.3600 R:25.0000 rate:0.0500 gloss:0.4306 dloss:1.3351 glossQ:1.0254 dlossQ:1.1378 exploreP:0.5993\n",
      "Episode:135 meanR:43.5500 R:35.0000 rate:0.0700 gloss:0.4321 dloss:1.3374 glossQ:1.0336 dlossQ:1.1556 exploreP:0.5973\n",
      "Episode:136 meanR:44.0600 R:70.0000 rate:0.1400 gloss:0.4310 dloss:1.3431 glossQ:1.0232 dlossQ:1.1584 exploreP:0.5932\n",
      "Episode:137 meanR:44.3100 R:60.0000 rate:0.1200 gloss:0.4242 dloss:1.3462 glossQ:1.0216 dlossQ:1.1427 exploreP:0.5897\n",
      "Episode:138 meanR:44.2100 R:14.0000 rate:0.0280 gloss:0.4261 dloss:1.3353 glossQ:1.0228 dlossQ:1.1348 exploreP:0.5889\n",
      "Episode:139 meanR:44.8500 R:78.0000 rate:0.1560 gloss:0.4284 dloss:1.3471 glossQ:1.0217 dlossQ:1.1405 exploreP:0.5844\n",
      "Episode:140 meanR:45.1600 R:43.0000 rate:0.0860 gloss:0.4303 dloss:1.3431 glossQ:1.0218 dlossQ:1.1305 exploreP:0.5819\n"
     ]
    },
    {
     "name": "stdout",
     "output_type": "stream",
     "text": [
      "Episode:141 meanR:46.9200 R:212.0000 rate:0.4240 gloss:0.4358 dloss:1.3428 glossQ:1.0226 dlossQ:1.1508 exploreP:0.5699\n",
      "Episode:142 meanR:48.3600 R:158.0000 rate:0.3160 gloss:0.4313 dloss:1.3432 glossQ:1.0235 dlossQ:1.1578 exploreP:0.5611\n",
      "Episode:143 meanR:48.3500 R:13.0000 rate:0.0260 gloss:0.4328 dloss:1.3357 glossQ:1.0220 dlossQ:1.1441 exploreP:0.5604\n",
      "Episode:144 meanR:49.2300 R:114.0000 rate:0.2280 gloss:0.4337 dloss:1.3422 glossQ:1.0222 dlossQ:1.1500 exploreP:0.5542\n",
      "Episode:145 meanR:49.1300 R:32.0000 rate:0.0640 gloss:0.4291 dloss:1.3463 glossQ:1.0219 dlossQ:1.1443 exploreP:0.5525\n",
      "Episode:146 meanR:49.7500 R:73.0000 rate:0.1460 gloss:0.4307 dloss:1.3405 glossQ:1.0237 dlossQ:1.1509 exploreP:0.5485\n",
      "Episode:147 meanR:50.0600 R:66.0000 rate:0.1320 gloss:0.4313 dloss:1.3392 glossQ:1.0234 dlossQ:1.1550 exploreP:0.5450\n",
      "Episode:148 meanR:50.7900 R:86.0000 rate:0.1720 gloss:0.4247 dloss:1.3398 glossQ:1.0249 dlossQ:1.1415 exploreP:0.5404\n",
      "Episode:149 meanR:51.9000 R:140.0000 rate:0.2800 gloss:0.4326 dloss:1.3465 glossQ:1.0222 dlossQ:1.1522 exploreP:0.5330\n",
      "Episode:150 meanR:53.0300 R:122.0000 rate:0.2440 gloss:0.4353 dloss:1.3435 glossQ:1.0229 dlossQ:1.1415 exploreP:0.5267\n",
      "Episode:151 meanR:54.8100 R:194.0000 rate:0.3880 gloss:0.4329 dloss:1.3465 glossQ:1.0222 dlossQ:1.1383 exploreP:0.5167\n",
      "Episode:152 meanR:55.4500 R:111.0000 rate:0.2220 gloss:0.4353 dloss:1.3441 glossQ:1.0221 dlossQ:1.1308 exploreP:0.5111\n"
     ]
    }
   ],
   "source": [
    "# Save/load the model and save for plotting\n",
    "saver = tf.train.Saver()\n",
    "episode_rewards_list, rewards_list = [], []\n",
    "gloss_list, dloss_list = [], []\n",
    "\n",
    "# TF session for training\n",
    "with tf.Session(graph=graph) as sess:\n",
    "    sess.run(tf.global_variables_initializer())\n",
    "    #saver.restore(sess, 'checkpoints/model.ckpt')    \n",
    "    #saver.restore(sess, tf.train.latest_checkpoint('checkpoints'))\n",
    "    total_step = 0 # Explore or exploit parameter\n",
    "    episode_reward = deque(maxlen=100) # 100 episodes average/running average/running mean/window\n",
    "\n",
    "    # Training episodes/epochs\n",
    "    for ep in range(1111*2):\n",
    "        total_reward = 0 # each episode\n",
    "        gloss_batch, dloss_batch, glossQ_batch, dlossQ_batch= [], [], [], []\n",
    "        state = env.reset() # each episode\n",
    "        num_step = 0 # each episode\n",
    "\n",
    "        # Training steps/batches\n",
    "        while True:\n",
    "            # Explore (Env) or Exploit (Model)\n",
    "            total_step += 1\n",
    "            explore_p = explore_stop + (explore_start - explore_stop) * np.exp(-decay_rate * total_step) \n",
    "            if explore_p > np.random.rand():\n",
    "                action = env.action_space.sample()\n",
    "            else:\n",
    "                action_logits = sess.run(model.actions_logits, feed_dict={model.states: state.reshape([1, -1])})\n",
    "                action = np.argmax(action_logits)\n",
    "            next_state, reward, done, _ = env.step(action)\n",
    "            memory.buffer.append([state, action, next_state, reward, float(done)])\n",
    "            memory.rates.append(-1) # empty\n",
    "            num_step += 1 # momory added\n",
    "            total_reward += reward\n",
    "            state = next_state\n",
    "            \n",
    "            # Rating the memory\n",
    "            if done is True:\n",
    "                rate = total_reward/500 # update rate at the end/ when episode is done\n",
    "                for idx in range(num_step): # episode length\n",
    "                    if memory.rates[-1-idx] == -1: # double-check the landmark/marked indexes\n",
    "                        memory.rates[-1-idx] = rate # rate the trajectory/data\n",
    "                        \n",
    "            # Training with the maxrated minibatch\n",
    "            batch = memory.buffer\n",
    "            percentage = 0.9\n",
    "            #for idx in range(memory_size// batch_size):\n",
    "            idx_arr = np.arange(memory_size// batch_size)\n",
    "            idx = np.random.choice(idx_arr)\n",
    "            states = np.array([each[0] for each in batch])[idx*batch_size:(idx+1)*batch_size]\n",
    "            actions = np.array([each[1] for each in batch])[idx*batch_size:(idx+1)*batch_size]\n",
    "            next_states = np.array([each[2] for each in batch])[idx*batch_size:(idx+1)*batch_size]\n",
    "            rewards = np.array([each[3] for each in batch])[idx*batch_size:(idx+1)*batch_size]\n",
    "            dones = np.array([each[4] for each in batch])[idx*batch_size:(idx+1)*batch_size]\n",
    "            rates = np.array(memory.rates)[idx*batch_size:(idx+1)*batch_size]\n",
    "            #print(states.shape, actions.shape, next_states.shape, rewards.shape, dones.shape, rates.shape)\n",
    "            states = states[rates >= (np.max(rates)*percentage)]\n",
    "            actions = actions[rates >= (np.max(rates)*percentage)]\n",
    "            next_states = next_states[rates >= (np.max(rates)*percentage)]\n",
    "            rewards = rewards[rates >= (np.max(rates)*percentage)]\n",
    "            dones = dones[rates >= (np.max(rates)*percentage)]\n",
    "            rates = rates[rates >= (np.max(rates)*percentage)]\n",
    "            #print(states.shape, actions.shape, next_states.shape, rewards.shape, dones.shape, rates.shape)\n",
    "            nextQs_logits = sess.run(model.Qs_logits, feed_dict = {model.states: next_states})\n",
    "            #nextQs = np.max(nextQs_logits, axis=1) * (1-dones) # DQN\n",
    "            nextQs = nextQs_logits.reshape([-1]) * (1-dones) # DPG\n",
    "            targetQs = rewards + (gamma * nextQs)\n",
    "            gloss, dloss, glossQ, dlossQ, _, _ = sess.run([model.g_loss, model.d_loss, \n",
    "                                                           model.g_lossQ, model.d_lossQ,\n",
    "                                                           model.g_opt, model.d_opt],\n",
    "                                                          feed_dict = {model.states: states, \n",
    "                                                                       model.actions: actions,\n",
    "                                                                       model.targetQs: targetQs, \n",
    "                                                                       model.rates: rates})\n",
    "            gloss_batch.append(gloss)\n",
    "            dloss_batch.append(dloss)\n",
    "            glossQ_batch.append(glossQ)\n",
    "            dlossQ_batch.append(dlossQ)\n",
    "            if done is True:\n",
    "                break\n",
    "                \n",
    "        episode_reward.append(total_reward)\n",
    "        print('Episode:{}'.format(ep),\n",
    "              'meanR:{:.4f}'.format(np.mean(episode_reward)),\n",
    "              'R:{:.4f}'.format(total_reward),\n",
    "              'rate:{:.4f}'.format(rate),\n",
    "              'gloss:{:.4f}'.format(np.mean(gloss_batch)),\n",
    "              'dloss:{:.4f}'.format(np.mean(dloss_batch)),\n",
    "              'glossQ:{:.4f}'.format(np.mean(glossQ_batch)),\n",
    "              'dlossQ:{:.4f}'.format(np.mean(dlossQ_batch)),\n",
    "              'exploreP:{:.4f}'.format(explore_p))\n",
    "\n",
    "        # Ploting out\n",
    "        episode_rewards_list.append([ep, np.mean(episode_reward)])\n",
    "        rewards_list.append([ep, total_reward])\n",
    "        gloss_list.append([ep, np.mean(gloss_batch)])\n",
    "        dloss_list.append([ep, np.mean(dloss_batch)])\n",
    "        \n",
    "        # Break episode/epoch loop\n",
    "        ## Option 1: Solve the First Version\n",
    "        #The task is episodic, and in order to solve the environment, \n",
    "        #your agent must get an average score of +30 over 100 consecutive episodes.\n",
    "        if np.mean(episode_reward) >= 500:\n",
    "            break\n",
    "            \n",
    "    # At the end of all training episodes/epochs\n",
    "    saver.save(sess, 'checkpoints/model.ckpt')"
   ]
  },
  {
   "cell_type": "markdown",
   "metadata": {},
   "source": [
    "# Visualizing training\n",
    "\n",
    "Below I'll plot the total rewards for each episode. I'm plotting the rolling average too, in blue."
   ]
  },
  {
   "cell_type": "code",
   "execution_count": null,
   "metadata": {},
   "outputs": [],
   "source": [
    "import matplotlib.pyplot as plt\n",
    "%matplotlib inline\n",
    "\n",
    "def running_mean(x, N):\n",
    "    cumsum = np.cumsum(np.insert(x, 0, 0)) \n",
    "    return (cumsum[N:] - cumsum[:-N]) / N "
   ]
  },
  {
   "cell_type": "code",
   "execution_count": null,
   "metadata": {},
   "outputs": [],
   "source": [
    "eps, arr = np.array(episode_rewards_list).T\n",
    "smoothed_arr = running_mean(arr, 10)\n",
    "plt.plot(eps[-len(smoothed_arr):], smoothed_arr)\n",
    "plt.plot(eps, arr, color='grey', alpha=0.3)\n",
    "plt.xlabel('Episode')\n",
    "plt.ylabel('Total rewards')"
   ]
  },
  {
   "cell_type": "code",
   "execution_count": 16,
   "metadata": {},
   "outputs": [
    {
     "data": {
      "text/plain": [
       "Text(0, 0.5, 'Total rewards')"
      ]
     },
     "execution_count": 16,
     "metadata": {},
     "output_type": "execute_result"
    },
    {
     "data": {
      "image/png": "[encoded data removed]",
      "text/plain": [
       "<Figure size 432x288 with 1 Axes>"
      ]
     },
     "metadata": {
      "needs_background": "light"
     },
     "output_type": "display_data"
    }
   ],
   "source": [
    "eps, arr = np.array(episode_rewards_list).T\n",
    "smoothed_arr = running_mean(arr, 10)\n",
    "plt.plot(eps[-len(smoothed_arr):], smoothed_arr)\n",
    "plt.plot(eps, arr, color='grey', alpha=0.3)\n",
    "plt.xlabel('Episode')\n",
    "plt.ylabel('Total rewards')"
   ]
  },
  {
   "cell_type": "code",
   "execution_count": 21,
   "metadata": {},
   "outputs": [
    {
     "data": {
      "text/plain": [
       "Text(0, 0.5, 'Total rewards')"
      ]
     },
     "execution_count": 21,
     "metadata": {},
     "output_type": "execute_result"
    },
    {
     "data": {
      "image/png": "[encoded data removed]",
      "text/plain": [
       "<Figure size 432x288 with 1 Axes>"
      ]
     },
     "metadata": {
      "needs_background": "light"
     },
     "output_type": "display_data"
    }
   ],
   "source": [
    "eps, arr = np.array(episode_rewards_list).T\n",
    "smoothed_arr = running_mean(arr, 10)\n",
    "plt.plot(eps[-len(smoothed_arr):], smoothed_arr)\n",
    "plt.plot(eps, arr, color='grey', alpha=0.3)\n",
    "plt.xlabel('Episode')\n",
    "plt.ylabel('Total rewards')"
   ]
  },
  {
   "cell_type": "code",
   "execution_count": 62,
   "metadata": {},
   "outputs": [
    {
     "data": {
      "text/plain": [
       "Text(0,0.5,'Total rewards')"
      ]
     },
     "execution_count": 62,
     "metadata": {},
     "output_type": "execute_result"
    },
    {
     "data": {
      "image/png": "[encoded data removed]",
      "text/plain": [
       "<Figure size 432x288 with 1 Axes>"
      ]
     },
     "metadata": {},
     "output_type": "display_data"
    }
   ],
   "source": [
    "# eps, arr = np.array(episode_rewards_list).T\n",
    "# smoothed_arr = running_mean(arr, 10)\n",
    "# plt.plot(eps[-len(smoothed_arr):], smoothed_arr)\n",
    "# plt.plot(eps, arr, color='grey', alpha=0.3)\n",
    "# plt.xlabel('Episode')\n",
    "# plt.ylabel('Total rewards')"
   ]
  },
  {
   "cell_type": "code",
   "execution_count": 17,
   "metadata": {},
   "outputs": [
    {
     "data": {
      "text/plain": [
       "Text(0, 0.5, 'Total rewards')"
      ]
     },
     "execution_count": 17,
     "metadata": {},
     "output_type": "execute_result"
    },
    {
     "data": {
      "image/png": "[encoded data removed]",
      "text/plain": [
       "<Figure size 432x288 with 1 Axes>"
      ]
     },
     "metadata": {
      "needs_background": "light"
     },
     "output_type": "display_data"
    }
   ],
   "source": [
    "eps, arr = np.array(rewards_list).T\n",
    "smoothed_arr = running_mean(arr, 10)\n",
    "plt.plot(eps[-len(smoothed_arr):], smoothed_arr)\n",
    "plt.plot(eps, arr, color='grey', alpha=0.3)\n",
    "plt.xlabel('Episode')\n",
    "plt.ylabel('Total rewards')"
   ]
  },
  {
   "cell_type": "code",
   "execution_count": 22,
   "metadata": {},
   "outputs": [
    {
     "data": {
      "text/plain": [
       "Text(0, 0.5, 'Total rewards')"
      ]
     },
     "execution_count": 22,
     "metadata": {},
     "output_type": "execute_result"
    },
    {
     "data": {
      "image/png": "[encoded data removed]",
      "text/plain": [
       "<Figure size 432x288 with 1 Axes>"
      ]
     },
     "metadata": {
      "needs_background": "light"
     },
     "output_type": "display_data"
    }
   ],
   "source": [
    "eps, arr = np.array(rewards_list).T\n",
    "smoothed_arr = running_mean(arr, 10)\n",
    "plt.plot(eps[-len(smoothed_arr):], smoothed_arr)\n",
    "plt.plot(eps, arr, color='grey', alpha=0.3)\n",
    "plt.xlabel('Episode')\n",
    "plt.ylabel('Total rewards')"
   ]
  },
  {
   "cell_type": "code",
   "execution_count": 63,
   "metadata": {},
   "outputs": [
    {
     "data": {
      "text/plain": [
       "Text(0,0.5,'Total rewards')"
      ]
     },
     "execution_count": 63,
     "metadata": {},
     "output_type": "execute_result"
    },
    {
     "data": {
      "image/png": "[encoded data removed]",
      "text/plain": [
       "<Figure size 432x288 with 1 Axes>"
      ]
     },
     "metadata": {},
     "output_type": "display_data"
    }
   ],
   "source": [
    "eps, arr = np.array(rewards_list).T\n",
    "smoothed_arr = running_mean(arr, 10)\n",
    "plt.plot(eps[-len(smoothed_arr):], smoothed_arr)\n",
    "plt.plot(eps, arr, color='grey', alpha=0.3)\n",
    "plt.xlabel('Episode')\n",
    "plt.ylabel('Total rewards')"
   ]
  },
  {
   "cell_type": "code",
   "execution_count": null,
   "metadata": {},
   "outputs": [],
   "source": [
    "eps, arr = np.array(gloss_list).T\n",
    "smoothed_arr = running_mean(arr, 10)\n",
    "plt.plot(eps[-len(smoothed_arr):], smoothed_arr)\n",
    "plt.plot(eps, arr, color='grey', alpha=0.3)\n",
    "plt.xlabel('Episode')\n",
    "plt.ylabel('G losses')`"
   ]
  },
  {
   "cell_type": "code",
   "execution_count": null,
   "metadata": {},
   "outputs": [],
   "source": [
    "eps, arr = np.array(dloss_list).T\n",
    "smoothed_arr = running_mean(arr, 10)\n",
    "plt.plot(eps[-len(smoothed_arr):], smoothed_arr)\n",
    "plt.plot(eps, arr, color='grey', alpha=0.3)\n",
    "plt.xlabel('Episode')\n",
    "plt.ylabel('D losses')"
   ]
  },
  {
   "cell_type": "markdown",
   "metadata": {},
   "source": [
    "## Testing\n",
    "\n",
    "Let's checkout how our trained agent plays the game."
   ]
  },
  {
   "cell_type": "code",
   "execution_count": 36,
   "metadata": {},
   "outputs": [
    {
     "name": "stdout",
     "output_type": "stream",
     "text": [
      "\u001b[33mWARN: gym.spaces.Box autodetected dtype as <class 'numpy.float32'>. Please provide explicit dtype.\u001b[0m\n",
      "\u001b[33mWARN: gym.spaces.Box autodetected dtype as <class 'numpy.float32'>. Please provide explicit dtype.\u001b[0m\n",
      "INFO:tensorflow:Restoring parameters from checkpoints/model.ckpt\n"
     ]
    },
    {
     "name": "stderr",
     "output_type": "stream",
     "text": [
      "/home/arasdar/anaconda3/envs/env/lib/python3.6/site-packages/gym/__init__.py:22: UserWarning: DEPRECATION WARNING: to improve load times, gym no longer automatically loads gym.spaces. Please run \"import gym.spaces\" to load gym.spaces on your own. This warning will turn into an error in a future version of gym.\n",
      "  warnings.warn('DEPRECATION WARNING: to improve load times, gym no longer automatically loads gym.spaces. Please run \"import gym.spaces\" to load gym.spaces on your own. This warning will turn into an error in a future version of gym.')\n"
     ]
    },
    {
     "name": "stdout",
     "output_type": "stream",
     "text": [
      "total_reward: 500.0\n"
     ]
    }
   ],
   "source": [
    "import gym\n",
    "env = gym.make('CartPole-v0')\n",
    "env = gym.make('CartPole-v1')\n",
    "# env = gym.make('Acrobot-v1')\n",
    "# env = gym.make('MountainCar-v0')\n",
    "# env = gym.make('Pendulum-v0')\n",
    "# env = gym.make('Blackjack-v0')\n",
    "# env = gym.make('FrozenLake-v0')\n",
    "# env = gym.make('AirRaid-ram-v0')\n",
    "# env = gym.make('AirRaid-v0')\n",
    "# env = gym.make('BipedalWalker-v2')\n",
    "# env = gym.make('Copy-v0')\n",
    "# env = gym.make('CarRacing-v0')\n",
    "# env = gym.make('Ant-v2') #mujoco\n",
    "# env = gym.make('FetchPickAndPlace-v1') # mujoco required!\n",
    "\n",
    "with tf.Session() as sess:\n",
    "    sess.run(tf.global_variables_initializer())\n",
    "    saver.restore(sess, 'checkpoints/model.ckpt')    \n",
    "    #saver.restore(sess, tf.train.latest_checkpoint('checkpoints'))\n",
    "    \n",
    "    # Episodes/epochs\n",
    "    for _ in range(1):\n",
    "        state = env.reset()\n",
    "        total_reward = 0\n",
    "\n",
    "        # Steps/batches\n",
    "        while True:\n",
    "            env.render()\n",
    "            action_logits = sess.run(model.actions_logits, feed_dict={model.states: state.reshape([1, -1])})\n",
    "            action = np.argmax(action_logits)\n",
    "            state, reward, done, _ = env.step(action)\n",
    "            total_reward += reward\n",
    "            if done:\n",
    "                print('total_reward: {}'.format(total_reward))\n",
    "                break\n",
    "                \n",
    "env.close()"
   ]
  },
  {
   "cell_type": "markdown",
   "metadata": {},
   "source": [
    "## Extending this\n",
    "\n",
    "So, Cart-Pole is a pretty simple game. However, the same model can be used to train an agent to play something much more complicated like Pong or Space Invaders. Instead of a state like we're using here though, you'd want to use convolutional layers to get the state from the screen images.\n",
    "\n",
    "![Deep Q-Learning Atari](assets/atari-network.png)\n",
    "\n",
    "I'll leave it as a challenge for you to use deep Q-learning to train an agent to play Atari games. Here's the original paper which will get you started: http://www.davidqiu.com:8888/research/nature14236.pdf."
   ]
  },
  {
   "cell_type": "code",
   "execution_count": null,
   "metadata": {},
   "outputs": [],
   "source": []
  }
 ],
 "metadata": {
  "kernelspec": {
   "display_name": "Python 3",
   "language": "python",
   "name": "python3"
  },
  "language_info": {
   "codemirror_mode": {
    "name": "ipython",
    "version": 3
   },
   "file_extension": ".py",
   "mimetype": "text/x-python",
   "name": "python",
   "nbconvert_exporter": "python",
   "pygments_lexer": "ipython3",
   "version": "3.6.6"
  }
 },
 "nbformat": 4,
 "nbformat_minor": 2
}
