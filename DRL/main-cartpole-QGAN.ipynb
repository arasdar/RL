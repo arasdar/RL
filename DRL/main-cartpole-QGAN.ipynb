{
 "cells": [
  {
   "cell_type": "code",
   "execution_count": 1,
   "metadata": {},
   "outputs": [
    {
     "name": "stdout",
     "output_type": "stream",
     "text": [
      "TensorFlow Version: 1.7.1\n",
      "Default GPU Device: \n"
     ]
    }
   ],
   "source": [
    "import tensorflow as tf\n",
    "print('TensorFlow Version: {}'.format(tf.__version__))\n",
    "print('Default GPU Device: {}'.format(tf.test.gpu_device_name()))"
   ]
  },
  {
   "cell_type": "markdown",
   "metadata": {},
   "source": [
    "##### >**Note:** Make sure you have OpenAI Gym cloned. Then run this command `pip install -e gym/[all]`."
   ]
  },
  {
   "cell_type": "code",
   "execution_count": 2,
   "metadata": {},
   "outputs": [],
   "source": [
    "import numpy as np\n",
    "import gym\n",
    "env = gym.make('CartPole-v0')\n",
    "env = gym.make('CartPole-v1')"
   ]
  },
  {
   "cell_type": "code",
   "execution_count": 3,
   "metadata": {},
   "outputs": [],
   "source": [
    "def model_input(state_size):\n",
    "    #states = tf.placeholder(tf.float32, [None, *state_size], name='states')\n",
    "    states = tf.placeholder(tf.float32, [None, state_size], name='states')\n",
    "    actions = tf.placeholder(tf.int32, [None], name='actions')\n",
    "    next_states = tf.placeholder(tf.float32, [None, state_size], name='next_states')\n",
    "    rewards = tf.placeholder(tf.float32, [None], name='rewards')\n",
    "    dones = tf.placeholder(tf.float32, [None], name='dones')\n",
    "    rates = tf.placeholder(tf.float32, [None], name='rates') # success rate\n",
    "    return states, actions, next_states, rewards, dones, rates"
   ]
  },
  {
   "cell_type": "code",
   "execution_count": 4,
   "metadata": {},
   "outputs": [],
   "source": [
    "def Act(states, action_size, hidden_size, reuse=False, alpha=0.1, training=False):\n",
    "    with tf.variable_scope('Act', reuse=reuse):\n",
    "        # First fully connected layer\n",
    "        h1 = tf.layers.dense(inputs=states, units=hidden_size)\n",
    "        bn1 = tf.layers.batch_normalization(h1, training=training)        \n",
    "        nl1 = tf.maximum(alpha * bn1, bn1)\n",
    "        \n",
    "        # Second fully connected layer\n",
    "        h2 = tf.layers.dense(inputs=nl1, units=hidden_size)\n",
    "        bn2 = tf.layers.batch_normalization(h2, training=training)        \n",
    "        nl2 = tf.maximum(alpha * bn2, bn2)\n",
    "        \n",
    "        # Output layer\n",
    "        logits = tf.layers.dense(inputs=nl2, units=action_size)        \n",
    "        return logits"
   ]
  },
  {
   "cell_type": "code",
   "execution_count": 5,
   "metadata": {},
   "outputs": [],
   "source": [
    "def Env(states, actions, state_size, action_size, hidden_size, reuse=False, alpha=0.1, training=False):\n",
    "    with tf.variable_scope('Env', reuse=reuse):\n",
    "        # First fully connected layer\n",
    "        h1 = tf.layers.dense(inputs=states, units=action_size)\n",
    "        bn1 = tf.layers.batch_normalization(h1, training=training)        \n",
    "        nl1 = tf.maximum(alpha * bn1, bn1)\n",
    "        \n",
    "        # Second fully connected layer\n",
    "        nl1_fused = tf.concat(axis=1, values=[nl1, actions])\n",
    "        h2 = tf.layers.dense(inputs=nl1_fused, units=hidden_size)\n",
    "        bn2 = tf.layers.batch_normalization(h2, training=training)        \n",
    "        nl2 = tf.maximum(alpha * bn2, bn2)\n",
    "                \n",
    "        # Output layer\n",
    "        states_logits = tf.layers.dense(inputs=nl2, units=state_size, trainable=False)\n",
    "        Qlogits = tf.layers.dense(inputs=nl2, units=1, trainable=False)\n",
    "        return states_logits, Qlogits"
   ]
  },
  {
   "cell_type": "code",
   "execution_count": 6,
   "metadata": {},
   "outputs": [],
   "source": [
    "def model_loss(state_size, action_size, hidden_size, gamma,\n",
    "               states, actions, next_states, rewards, dones, rates):\n",
    "    ################################################ a = act(s)\n",
    "    actions_logits = Act(states=states, hidden_size=hidden_size, action_size=action_size)\n",
    "    actions_labels = tf.one_hot(indices=actions, depth=action_size, dtype=actions_logits.dtype)\n",
    "    aloss = tf.reduce_mean(tf.nn.softmax_cross_entropy_with_logits_v2(logits=actions_logits, \n",
    "                                                                      labels=actions_labels))\n",
    "    ################################################ s', r = env(s, a)\n",
    "    e_next_states_logits, eQs = Env(actions=actions_labels, states=states, hidden_size=hidden_size, \n",
    "                                    action_size=action_size, state_size=state_size)\n",
    "    a_next_states_logits, aQs = Env(actions=actions_logits, states=states, hidden_size=hidden_size, \n",
    "                                    action_size=action_size, state_size=state_size, reuse=True)\n",
    "    next_states_labels = tf.nn.sigmoid(next_states)\n",
    "    eloss = tf.reduce_mean(tf.nn.sigmoid_cross_entropy_with_logits(logits=e_next_states_logits, # GQN\n",
    "                                                                   labels=next_states_labels))\n",
    "    eloss += -tf.reduce_mean(tf.nn.sigmoid_cross_entropy_with_logits(logits=a_next_states_logits, \n",
    "                                                                     labels=next_states_labels)) # maximize loss\n",
    "    aloss2 = tf.reduce_mean(tf.nn.sigmoid_cross_entropy_with_logits(logits=a_next_states_logits, \n",
    "                                                                    labels=next_states_labels)) # minimize loss\n",
    "    eQs_logits = tf.reshape(eQs, shape=[-1])\n",
    "    aQs_logits = tf.reshape(aQs, shape=[-1])\n",
    "    #################################################### s'', Q' = ~env(s', ~a')\n",
    "    next_actions_logits = Act(states=next_states, hidden_size=hidden_size, action_size=action_size, reuse=True)\n",
    "    _, aQs2 = Env(actions=next_actions_logits, states=next_states, hidden_size=hidden_size, \n",
    "                  action_size=action_size, state_size=state_size, reuse=True)\n",
    "    aQs2_logits = tf.reshape(aQs2, shape=[-1]) * (1-dones)\n",
    "    eloss += tf.reduce_mean(tf.nn.sigmoid_cross_entropy_with_logits(logits=eQs_logits, # GAN\n",
    "                                                                    labels=rates)) # 0-1 real\n",
    "    eloss += tf.reduce_mean(tf.nn.sigmoid_cross_entropy_with_logits(logits=(aQs_logits+aQs2_logits)/2, # GAN\n",
    "                                                                    labels=tf.zeros_like(rates))) # min\n",
    "    aloss2 += tf.reduce_mean(tf.nn.sigmoid_cross_entropy_with_logits(logits=(aQs_logits+aQs2_logits)/2, # GAN\n",
    "                                                                     labels=tf.ones_like(rates))) # max\n",
    "    ###################################################### Q(s,a)= r + Q'(s',a')\n",
    "    targetQs = rewards + (gamma * aQs2_logits) # DQN/Qlearning\n",
    "    eloss += tf.reduce_mean(tf.square(eQs_logits - targetQs)) # real\n",
    "    eloss += tf.reduce_mean(tf.square(aQs_logits - rewards)) # min\n",
    "    aloss2 += tf.reduce_mean(tf.square(aQs_logits - targetQs)) # max\n",
    "    eloss += tf.reduce_mean((aQs_logits+aQs2_logits)/2) # min\n",
    "    aloss2 += -tf.reduce_mean((aQs_logits+aQs2_logits)/2) # max\n",
    "    return actions_logits, aloss, eloss, aloss2"
   ]
  },
  {
   "cell_type": "code",
   "execution_count": 7,
   "metadata": {},
   "outputs": [],
   "source": [
    "def model_opt(a_loss, e_loss, a_loss2, a_learning_rate, e_learning_rate):\n",
    "    # Get weights and bias to update\n",
    "    t_vars = tf.trainable_variables()\n",
    "    a_vars = [var for var in t_vars if var.name.startswith('Act')]\n",
    "    e_vars = [var for var in t_vars if var.name.startswith('Env')]\n",
    "\n",
    "    # Optimize\n",
    "    with tf.control_dependencies(tf.get_collection(tf.GraphKeys.UPDATE_OPS)): # Required for batchnorm (BN)\n",
    "        a_opt = tf.train.AdamOptimizer(a_learning_rate).minimize(a_loss, var_list=a_vars)\n",
    "        e_opt = tf.train.AdamOptimizer(e_learning_rate).minimize(e_loss, var_list=e_vars)\n",
    "        a_opt2 = tf.train.AdamOptimizer(a_learning_rate).minimize(a_loss2, var_list=a_vars)\n",
    "    return a_opt, e_opt, a_opt2"
   ]
  },
  {
   "cell_type": "code",
   "execution_count": 8,
   "metadata": {},
   "outputs": [],
   "source": [
    "class Model:\n",
    "    def __init__(self, state_size, action_size, hidden_size, a_learning_rate, e_learning_rate, gamma):\n",
    "\n",
    "        # Data of the Model: make the data available inside the framework\n",
    "        self.states, self.actions, self.next_states, self.rewards, self.dones, self.rates = model_input(\n",
    "            state_size=state_size)\n",
    "\n",
    "        # Create the Model: calculating the loss and forwad pass\n",
    "        self.actions_logits, self.a_loss, self.e_loss, self.a_loss2 = model_loss(\n",
    "            state_size=state_size, action_size=action_size, hidden_size=hidden_size, gamma=gamma, # model init\n",
    "            states=self.states, actions=self.actions, next_states=self.next_states, \n",
    "            rewards=self.rewards, dones=self.dones, rates=self.rates) # model input\n",
    "        \n",
    "        # Update the model: backward pass and backprop\n",
    "        self.a_opt, self.e_opt, self.a_opt2 = model_opt(a_loss=self.a_loss, \n",
    "                                                        e_loss=self.e_loss,\n",
    "                                                        a_loss2=self.a_loss2, \n",
    "                                                        a_learning_rate=a_learning_rate,\n",
    "                                                        e_learning_rate=e_learning_rate)"
   ]
  },
  {
   "cell_type": "code",
   "execution_count": 9,
   "metadata": {},
   "outputs": [],
   "source": [
    "from collections import deque\n",
    "class Memory():\n",
    "    def __init__(self, max_size = 1000):\n",
    "        self.buffer = deque(maxlen=max_size) # data batch\n",
    "#     def sample(self, batch_size):\n",
    "#         idx = np.random.choice(np.arange(len(self.buffer)), size=batch_size, replace=False)\n",
    "#         return [self.buffer[ii] for ii in idx]"
   ]
  },
  {
   "cell_type": "markdown",
   "metadata": {},
   "source": [
    "## Hyperparameters\n",
    "\n",
    "One of the more difficult aspects of reinforcememt learning are the large number of hyperparameters. Not only are we tuning the network, but we're tuning the simulation."
   ]
  },
  {
   "cell_type": "code",
   "execution_count": 10,
   "metadata": {},
   "outputs": [
    {
     "data": {
      "text/plain": [
       "(Box(4,), Discrete(2))"
      ]
     },
     "execution_count": 10,
     "metadata": {},
     "output_type": "execute_result"
    }
   ],
   "source": [
    "env.observation_space, env.action_space"
   ]
  },
  {
   "cell_type": "code",
   "execution_count": 11,
   "metadata": {},
   "outputs": [],
   "source": [
    "# Exploration parameters\n",
    "explore_start = 1.0            # exploration probability at start\n",
    "explore_stop = 0.01           # minimum exploration probability \n",
    "decay_rate = 0.0001            # exponential decay rate for exploration prob\n",
    "\n",
    "# Network parameters\n",
    "state_size = 4\n",
    "action_size = 2\n",
    "hidden_size = 4*2             # number of units in each Q-network hidden layer\n",
    "a_learning_rate = 1e-4         # Q-network learning rate\n",
    "e_learning_rate = 1e-4         # Q-network learning rate\n",
    "\n",
    "# Memory parameters\n",
    "memory_size = int(1e5)            # memory capacity\n",
    "batch_size = int(1e3)             # experience mini-batch size\n",
    "gamma=0.99"
   ]
  },
  {
   "cell_type": "code",
   "execution_count": 12,
   "metadata": {},
   "outputs": [],
   "source": [
    "# Reset/init the graph/session\n",
    "graph = tf.reset_default_graph()\n",
    "\n",
    "# Init the model\n",
    "model = Model(action_size=action_size, state_size=state_size, hidden_size=hidden_size, gamma=gamma,\n",
    "              a_learning_rate=a_learning_rate, e_learning_rate=e_learning_rate)\n",
    "\n",
    "# Init the memory\n",
    "memory = Memory(max_size=memory_size)"
   ]
  },
  {
   "cell_type": "code",
   "execution_count": 13,
   "metadata": {},
   "outputs": [],
   "source": [
    "state = env.reset()\n",
    "total_reward = 0\n",
    "num_step = 0\n",
    "for _ in range(memory_size):\n",
    "    action = env.action_space.sample()\n",
    "    next_state, reward, done, _ = env.step(action)\n",
    "    rate = -1\n",
    "    memory.buffer.append([state, action, next_state, reward, float(done), rate])\n",
    "    num_step += 1 # memory incremented\n",
    "    total_reward += reward\n",
    "    state = next_state\n",
    "    if done is True:\n",
    "        rate = total_reward/500\n",
    "        for idx in range(num_step): # episode length\n",
    "            if memory.buffer[-1-idx][-1] == -1:\n",
    "                memory.buffer[-1-idx][-1] = rate\n",
    "        state = env.reset()\n",
    "        total_reward = 0 # reset\n",
    "        num_step = 0 # reset"
   ]
  },
  {
   "cell_type": "markdown",
   "metadata": {},
   "source": [
    "## Training the model\n",
    "\n",
    "Below we'll train our agent. If you want to watch it train, uncomment the `env.render()` line. This is slow because it's rendering the frames slower than the network can train. But, it's cool to watch the agent get better at the game."
   ]
  },
  {
   "cell_type": "code",
   "execution_count": null,
   "metadata": {},
   "outputs": [
    {
     "name": "stdout",
     "output_type": "stream",
     "text": [
      "Episode:0 meanR:20.0000 R:20.0000 rate:0.0400 aloss:0.7138 eloss:3.2273 aloss2:2.1535 exploreP:0.9980\n",
      "Episode:1 meanR:19.5000 R:19.0000 rate:0.0380 aloss:0.7169 eloss:3.2426 aloss2:2.1387 exploreP:0.9961\n",
      "Episode:2 meanR:28.3333 R:46.0000 rate:0.0920 aloss:0.7105 eloss:3.2056 aloss2:2.1689 exploreP:0.9916\n",
      "Episode:3 meanR:30.7500 R:38.0000 rate:0.0760 aloss:0.7082 eloss:3.2091 aloss2:2.1699 exploreP:0.9879\n",
      "Episode:4 meanR:27.8000 R:16.0000 rate:0.0320 aloss:0.7087 eloss:3.1901 aloss2:2.1873 exploreP:0.9863\n",
      "Episode:5 meanR:25.6667 R:15.0000 rate:0.0300 aloss:0.7079 eloss:3.2234 aloss2:2.1494 exploreP:0.9849\n",
      "Episode:6 meanR:24.4286 R:17.0000 rate:0.0340 aloss:0.7000 eloss:3.1845 aloss2:2.1891 exploreP:0.9832\n",
      "Episode:7 meanR:29.7500 R:67.0000 rate:0.1340 aloss:0.7007 eloss:3.1972 aloss2:2.1849 exploreP:0.9767\n",
      "Episode:8 meanR:28.0000 R:14.0000 rate:0.0280 aloss:0.7011 eloss:3.1853 aloss2:2.1885 exploreP:0.9754\n",
      "Episode:9 meanR:27.0000 R:18.0000 rate:0.0360 aloss:0.7038 eloss:3.2135 aloss2:2.1797 exploreP:0.9736\n",
      "Episode:10 meanR:25.6364 R:12.0000 rate:0.0240 aloss:0.6932 eloss:3.2386 aloss2:2.1623 exploreP:0.9725\n",
      "Episode:11 meanR:24.5000 R:12.0000 rate:0.0240 aloss:0.6992 eloss:3.2156 aloss2:2.1667 exploreP:0.9713\n",
      "Episode:12 meanR:24.6154 R:26.0000 rate:0.0520 aloss:0.6989 eloss:3.2018 aloss2:2.1634 exploreP:0.9688\n",
      "Episode:13 meanR:25.0000 R:30.0000 rate:0.0600 aloss:0.7002 eloss:3.2143 aloss2:2.1740 exploreP:0.9659\n",
      "Episode:14 meanR:25.0667 R:26.0000 rate:0.0520 aloss:0.7022 eloss:3.2511 aloss2:2.1466 exploreP:0.9635\n",
      "Episode:15 meanR:24.8750 R:22.0000 rate:0.0440 aloss:0.6974 eloss:3.2270 aloss2:2.1694 exploreP:0.9614\n",
      "Episode:16 meanR:24.0588 R:11.0000 rate:0.0220 aloss:0.6964 eloss:3.1966 aloss2:2.1780 exploreP:0.9603\n",
      "Episode:17 meanR:25.3889 R:48.0000 rate:0.0960 aloss:0.6967 eloss:3.2053 aloss2:2.1885 exploreP:0.9558\n",
      "Episode:18 meanR:25.1579 R:21.0000 rate:0.0420 aloss:0.7020 eloss:3.2179 aloss2:2.1564 exploreP:0.9538\n",
      "Episode:19 meanR:24.5000 R:12.0000 rate:0.0240 aloss:0.6950 eloss:3.2188 aloss2:2.1604 exploreP:0.9527\n",
      "Episode:20 meanR:23.9524 R:13.0000 rate:0.0260 aloss:0.7011 eloss:3.2874 aloss2:2.1148 exploreP:0.9514\n",
      "Episode:21 meanR:24.3182 R:32.0000 rate:0.0640 aloss:0.6978 eloss:3.2354 aloss2:2.1532 exploreP:0.9484\n",
      "Episode:22 meanR:23.8696 R:14.0000 rate:0.0280 aloss:0.6981 eloss:3.2507 aloss2:2.1429 exploreP:0.9471\n",
      "Episode:23 meanR:24.2083 R:32.0000 rate:0.0640 aloss:0.7004 eloss:3.2404 aloss2:2.1490 exploreP:0.9441\n",
      "Episode:24 meanR:23.8000 R:14.0000 rate:0.0280 aloss:0.6940 eloss:3.2543 aloss2:2.1397 exploreP:0.9428\n",
      "Episode:25 meanR:23.8077 R:24.0000 rate:0.0480 aloss:0.6960 eloss:3.2371 aloss2:2.1525 exploreP:0.9406\n",
      "Episode:26 meanR:23.4815 R:15.0000 rate:0.0300 aloss:0.6878 eloss:3.2669 aloss2:2.1317 exploreP:0.9392\n",
      "Episode:27 meanR:23.7857 R:32.0000 rate:0.0640 aloss:0.6928 eloss:3.2144 aloss2:2.1639 exploreP:0.9362\n",
      "Episode:28 meanR:23.4483 R:14.0000 rate:0.0280 aloss:0.6848 eloss:3.2435 aloss2:2.1161 exploreP:0.9349\n",
      "Episode:29 meanR:23.4000 R:22.0000 rate:0.0440 aloss:0.6904 eloss:3.2769 aloss2:2.1260 exploreP:0.9329\n",
      "Episode:30 meanR:23.2903 R:20.0000 rate:0.0400 aloss:0.6958 eloss:3.2687 aloss2:2.1259 exploreP:0.9310\n",
      "Episode:31 meanR:22.9062 R:11.0000 rate:0.0220 aloss:0.7111 eloss:3.2491 aloss2:2.1254 exploreP:0.9300\n",
      "Episode:32 meanR:22.9394 R:24.0000 rate:0.0480 aloss:0.7000 eloss:3.2559 aloss2:2.1291 exploreP:0.9278\n",
      "Episode:33 meanR:23.0294 R:26.0000 rate:0.0520 aloss:0.7145 eloss:3.2518 aloss2:2.1264 exploreP:0.9254\n",
      "Episode:34 meanR:22.7429 R:13.0000 rate:0.0260 aloss:0.6963 eloss:3.2909 aloss2:2.1080 exploreP:0.9243\n",
      "Episode:35 meanR:22.9722 R:31.0000 rate:0.0620 aloss:0.7028 eloss:3.2645 aloss2:2.1193 exploreP:0.9214\n",
      "Episode:36 meanR:22.9730 R:23.0000 rate:0.0460 aloss:0.7057 eloss:3.2538 aloss2:2.1335 exploreP:0.9193\n",
      "Episode:37 meanR:22.6579 R:11.0000 rate:0.0220 aloss:0.6873 eloss:3.2805 aloss2:2.1250 exploreP:0.9183\n",
      "Episode:38 meanR:22.4872 R:16.0000 rate:0.0320 aloss:0.6951 eloss:3.3395 aloss2:2.0842 exploreP:0.9169\n",
      "Episode:39 meanR:22.6250 R:28.0000 rate:0.0560 aloss:0.6979 eloss:3.2845 aloss2:2.1200 exploreP:0.9143\n",
      "Episode:40 meanR:22.5122 R:18.0000 rate:0.0360 aloss:0.7041 eloss:3.3028 aloss2:2.1069 exploreP:0.9127\n",
      "Episode:41 meanR:22.3571 R:16.0000 rate:0.0320 aloss:0.7096 eloss:3.2923 aloss2:2.1096 exploreP:0.9113\n",
      "Episode:42 meanR:22.4419 R:26.0000 rate:0.0520 aloss:0.6938 eloss:3.2954 aloss2:2.1163 exploreP:0.9089\n",
      "Episode:43 meanR:22.5227 R:26.0000 rate:0.0520 aloss:0.7182 eloss:3.2786 aloss2:2.1195 exploreP:0.9066\n",
      "Episode:44 meanR:22.4222 R:18.0000 rate:0.0360 aloss:0.6868 eloss:3.3111 aloss2:2.1265 exploreP:0.9050\n",
      "Episode:45 meanR:22.2174 R:13.0000 rate:0.0260 aloss:0.7007 eloss:3.3465 aloss2:2.0906 exploreP:0.9038\n",
      "Episode:46 meanR:22.9362 R:56.0000 rate:0.1120 aloss:0.6899 eloss:3.3362 aloss2:2.1078 exploreP:0.8988\n",
      "Episode:47 meanR:22.9792 R:25.0000 rate:0.0500 aloss:0.7058 eloss:3.3199 aloss2:2.1101 exploreP:0.8966\n",
      "Episode:48 meanR:23.0000 R:24.0000 rate:0.0480 aloss:0.6855 eloss:3.3661 aloss2:2.0795 exploreP:0.8945\n",
      "Episode:49 meanR:22.8400 R:15.0000 rate:0.0300 aloss:0.7185 eloss:3.3930 aloss2:2.0585 exploreP:0.8932\n",
      "Episode:50 meanR:22.5686 R:9.0000 rate:0.0180 aloss:0.6959 eloss:3.2593 aloss2:2.1533 exploreP:0.8924\n",
      "Episode:51 meanR:22.7115 R:30.0000 rate:0.0600 aloss:0.6920 eloss:3.3284 aloss2:2.1171 exploreP:0.8897\n",
      "Episode:52 meanR:22.6792 R:21.0000 rate:0.0420 aloss:0.6834 eloss:3.3833 aloss2:2.0996 exploreP:0.8879\n",
      "Episode:53 meanR:22.6111 R:19.0000 rate:0.0380 aloss:0.6959 eloss:3.3139 aloss2:2.1268 exploreP:0.8862\n",
      "Episode:54 meanR:22.6545 R:25.0000 rate:0.0500 aloss:0.6917 eloss:3.3521 aloss2:2.0999 exploreP:0.8840\n",
      "Episode:55 meanR:22.5357 R:16.0000 rate:0.0320 aloss:0.6901 eloss:3.3265 aloss2:2.1254 exploreP:0.8826\n",
      "Episode:56 meanR:22.4211 R:16.0000 rate:0.0320 aloss:0.6849 eloss:3.3396 aloss2:2.1283 exploreP:0.8812\n",
      "Episode:57 meanR:22.5345 R:29.0000 rate:0.0580 aloss:0.6917 eloss:3.3333 aloss2:2.1208 exploreP:0.8787\n",
      "Episode:58 meanR:22.3729 R:13.0000 rate:0.0260 aloss:0.6785 eloss:3.4402 aloss2:2.0833 exploreP:0.8776\n",
      "Episode:59 meanR:22.3333 R:20.0000 rate:0.0400 aloss:0.7024 eloss:3.3338 aloss2:2.1208 exploreP:0.8758\n",
      "Episode:60 meanR:22.1967 R:14.0000 rate:0.0280 aloss:0.6881 eloss:3.3538 aloss2:2.1134 exploreP:0.8746\n",
      "Episode:61 meanR:22.1290 R:18.0000 rate:0.0360 aloss:0.6830 eloss:3.3469 aloss2:2.1238 exploreP:0.8731\n",
      "Episode:62 meanR:22.2857 R:32.0000 rate:0.0640 aloss:0.6986 eloss:3.3754 aloss2:2.1066 exploreP:0.8703\n",
      "Episode:63 meanR:22.2031 R:17.0000 rate:0.0340 aloss:0.6804 eloss:3.3764 aloss2:2.1245 exploreP:0.8689\n",
      "Episode:64 meanR:22.2000 R:22.0000 rate:0.0440 aloss:0.6854 eloss:3.3973 aloss2:2.1090 exploreP:0.8670\n",
      "Episode:65 meanR:22.3333 R:31.0000 rate:0.0620 aloss:0.6930 eloss:3.3735 aloss2:2.1183 exploreP:0.8643\n",
      "Episode:66 meanR:22.2388 R:16.0000 rate:0.0320 aloss:0.6837 eloss:3.4020 aloss2:2.1141 exploreP:0.8630\n",
      "Episode:67 meanR:22.4118 R:34.0000 rate:0.0680 aloss:0.6804 eloss:3.4008 aloss2:2.1174 exploreP:0.8601\n",
      "Episode:68 meanR:22.6087 R:36.0000 rate:0.0720 aloss:0.6838 eloss:3.3567 aloss2:2.1451 exploreP:0.8570\n",
      "Episode:69 meanR:22.6143 R:23.0000 rate:0.0460 aloss:0.6964 eloss:3.3686 aloss2:2.1246 exploreP:0.8551\n",
      "Episode:70 meanR:23.0704 R:55.0000 rate:0.1100 aloss:0.6995 eloss:3.3631 aloss2:2.1443 exploreP:0.8504\n",
      "Episode:71 meanR:23.1389 R:28.0000 rate:0.0560 aloss:0.6824 eloss:3.3449 aloss2:2.1618 exploreP:0.8481\n",
      "Episode:72 meanR:23.3151 R:36.0000 rate:0.0720 aloss:0.6820 eloss:3.3494 aloss2:2.1618 exploreP:0.8451\n",
      "Episode:73 meanR:23.2432 R:18.0000 rate:0.0360 aloss:0.6880 eloss:3.3034 aloss2:2.1787 exploreP:0.8436\n",
      "Episode:74 meanR:23.2933 R:27.0000 rate:0.0540 aloss:0.7050 eloss:3.3292 aloss2:2.1724 exploreP:0.8413\n",
      "Episode:75 meanR:23.7632 R:59.0000 rate:0.1180 aloss:0.6849 eloss:3.3410 aloss2:2.1824 exploreP:0.8364\n",
      "Episode:76 meanR:23.9610 R:39.0000 rate:0.0780 aloss:0.6879 eloss:3.3327 aloss2:2.1974 exploreP:0.8332\n",
      "Episode:77 meanR:24.1923 R:42.0000 rate:0.0840 aloss:0.6857 eloss:3.3120 aloss2:2.2107 exploreP:0.8298\n",
      "Episode:78 meanR:24.0506 R:13.0000 rate:0.0260 aloss:0.6685 eloss:3.2803 aloss2:2.2449 exploreP:0.8287\n",
      "Episode:79 meanR:24.4125 R:53.0000 rate:0.1060 aloss:0.7017 eloss:3.2732 aloss2:2.2381 exploreP:0.8244\n"
     ]
    },
    {
     "name": "stdout",
     "output_type": "stream",
     "text": [
      "Episode:80 meanR:24.3210 R:17.0000 rate:0.0340 aloss:0.6771 eloss:3.3031 aloss2:2.2427 exploreP:0.8230\n",
      "Episode:81 meanR:24.1707 R:12.0000 rate:0.0240 aloss:0.6810 eloss:3.3023 aloss2:2.2495 exploreP:0.8220\n",
      "Episode:82 meanR:24.1446 R:22.0000 rate:0.0440 aloss:0.6793 eloss:3.2638 aloss2:2.2695 exploreP:0.8202\n",
      "Episode:83 meanR:23.9643 R:9.0000 rate:0.0180 aloss:0.6762 eloss:3.2111 aloss2:2.2709 exploreP:0.8195\n",
      "Episode:84 meanR:24.1412 R:39.0000 rate:0.0780 aloss:0.6888 eloss:3.2436 aloss2:2.2863 exploreP:0.8163\n",
      "Episode:85 meanR:24.3256 R:40.0000 rate:0.0800 aloss:0.6753 eloss:3.2182 aloss2:2.3158 exploreP:0.8131\n",
      "Episode:86 meanR:24.2529 R:18.0000 rate:0.0360 aloss:0.6726 eloss:3.1895 aloss2:2.3327 exploreP:0.8117\n",
      "Episode:87 meanR:24.1705 R:17.0000 rate:0.0340 aloss:0.6749 eloss:3.2070 aloss2:2.3257 exploreP:0.8103\n",
      "Episode:88 meanR:24.2360 R:30.0000 rate:0.0600 aloss:0.6756 eloss:3.2021 aloss2:2.3351 exploreP:0.8079\n",
      "Episode:89 meanR:24.1111 R:13.0000 rate:0.0260 aloss:0.6722 eloss:3.2420 aloss2:2.3279 exploreP:0.8069\n",
      "Episode:90 meanR:24.2088 R:33.0000 rate:0.0660 aloss:0.6805 eloss:3.2270 aloss2:2.3444 exploreP:0.8043\n",
      "Episode:91 meanR:24.2935 R:32.0000 rate:0.0640 aloss:0.6847 eloss:3.1883 aloss2:2.3707 exploreP:0.8017\n",
      "Episode:92 meanR:24.4194 R:36.0000 rate:0.0720 aloss:0.6726 eloss:3.1885 aloss2:2.3921 exploreP:0.7989\n",
      "Episode:93 meanR:24.3298 R:16.0000 rate:0.0320 aloss:0.6795 eloss:3.1769 aloss2:2.4014 exploreP:0.7976\n",
      "Episode:94 meanR:24.4316 R:34.0000 rate:0.0680 aloss:0.6807 eloss:3.1722 aloss2:2.4095 exploreP:0.7949\n",
      "Episode:95 meanR:24.7188 R:52.0000 rate:0.1040 aloss:0.6773 eloss:3.1519 aloss2:2.4386 exploreP:0.7909\n",
      "Episode:96 meanR:25.2474 R:76.0000 rate:0.1520 aloss:0.6788 eloss:3.1300 aloss2:2.4711 exploreP:0.7850\n",
      "Episode:97 meanR:25.1735 R:18.0000 rate:0.0360 aloss:0.7078 eloss:3.1340 aloss2:2.4764 exploreP:0.7836\n",
      "Episode:98 meanR:25.2020 R:28.0000 rate:0.0560 aloss:0.6827 eloss:3.1208 aloss2:2.5060 exploreP:0.7814\n",
      "Episode:99 meanR:25.2300 R:28.0000 rate:0.0560 aloss:0.6959 eloss:3.1063 aloss2:2.5124 exploreP:0.7792\n",
      "Episode:100 meanR:25.1600 R:13.0000 rate:0.0260 aloss:0.6881 eloss:3.1097 aloss2:2.5237 exploreP:0.7782\n",
      "Episode:101 meanR:25.1200 R:15.0000 rate:0.0300 aloss:0.6757 eloss:3.1037 aloss2:2.5311 exploreP:0.7771\n",
      "Episode:102 meanR:25.0200 R:36.0000 rate:0.0720 aloss:0.6802 eloss:3.0854 aloss2:2.5412 exploreP:0.7743\n",
      "Episode:103 meanR:24.7800 R:14.0000 rate:0.0280 aloss:0.6867 eloss:3.0773 aloss2:2.5473 exploreP:0.7733\n",
      "Episode:104 meanR:24.8900 R:27.0000 rate:0.0540 aloss:0.6778 eloss:3.1022 aloss2:2.5529 exploreP:0.7712\n",
      "Episode:105 meanR:25.0000 R:26.0000 rate:0.0520 aloss:0.6872 eloss:3.0847 aloss2:2.5667 exploreP:0.7692\n",
      "Episode:106 meanR:25.3000 R:47.0000 rate:0.0940 aloss:0.6799 eloss:3.0769 aloss2:2.5768 exploreP:0.7657\n",
      "Episode:107 meanR:25.0200 R:39.0000 rate:0.0780 aloss:0.6839 eloss:3.0704 aloss2:2.5877 exploreP:0.7627\n",
      "Episode:108 meanR:25.1600 R:28.0000 rate:0.0560 aloss:0.6874 eloss:3.0818 aloss2:2.5928 exploreP:0.7606\n",
      "Episode:109 meanR:25.7000 R:72.0000 rate:0.1440 aloss:0.6780 eloss:3.0632 aloss2:2.6036 exploreP:0.7552\n",
      "Episode:110 meanR:26.1700 R:59.0000 rate:0.1180 aloss:0.6885 eloss:3.0622 aloss2:2.6141 exploreP:0.7509\n",
      "Episode:111 meanR:26.3800 R:33.0000 rate:0.0660 aloss:0.6852 eloss:3.0576 aloss2:2.6197 exploreP:0.7484\n",
      "Episode:112 meanR:26.3600 R:24.0000 rate:0.0480 aloss:0.6908 eloss:3.0472 aloss2:2.5945 exploreP:0.7466\n",
      "Episode:113 meanR:26.2400 R:18.0000 rate:0.0360 aloss:0.6915 eloss:3.0536 aloss2:2.5934 exploreP:0.7453\n",
      "Episode:114 meanR:26.1500 R:17.0000 rate:0.0340 aloss:0.6913 eloss:3.0641 aloss2:2.5791 exploreP:0.7441\n",
      "Episode:115 meanR:26.3400 R:41.0000 rate:0.0820 aloss:0.6938 eloss:3.0628 aloss2:2.6040 exploreP:0.7411\n",
      "Episode:116 meanR:26.5200 R:29.0000 rate:0.0580 aloss:0.6889 eloss:3.0634 aloss2:2.5859 exploreP:0.7389\n",
      "Episode:117 meanR:26.2300 R:19.0000 rate:0.0380 aloss:0.6896 eloss:3.0560 aloss2:2.5608 exploreP:0.7376\n",
      "Episode:118 meanR:26.1700 R:15.0000 rate:0.0300 aloss:0.6905 eloss:3.0674 aloss2:2.5114 exploreP:0.7365\n",
      "Episode:119 meanR:26.1700 R:12.0000 rate:0.0240 aloss:0.6939 eloss:3.0732 aloss2:2.5091 exploreP:0.7356\n",
      "Episode:120 meanR:26.4000 R:36.0000 rate:0.0720 aloss:0.7096 eloss:3.0995 aloss2:2.4865 exploreP:0.7330\n",
      "Episode:121 meanR:26.2300 R:15.0000 rate:0.0300 aloss:0.7091 eloss:3.0961 aloss2:2.5239 exploreP:0.7319\n",
      "Episode:122 meanR:26.4000 R:31.0000 rate:0.0620 aloss:0.7058 eloss:3.0987 aloss2:2.5275 exploreP:0.7297\n",
      "Episode:123 meanR:26.5000 R:42.0000 rate:0.0840 aloss:0.7211 eloss:3.1038 aloss2:2.5306 exploreP:0.7267\n",
      "Episode:124 meanR:26.4600 R:10.0000 rate:0.0200 aloss:0.7246 eloss:3.1148 aloss2:2.5070 exploreP:0.7259\n",
      "Episode:125 meanR:26.3700 R:15.0000 rate:0.0300 aloss:0.6938 eloss:3.1221 aloss2:2.4875 exploreP:0.7249\n",
      "Episode:126 meanR:26.4100 R:19.0000 rate:0.0380 aloss:0.7084 eloss:3.1476 aloss2:2.4323 exploreP:0.7235\n",
      "Episode:127 meanR:26.2700 R:18.0000 rate:0.0360 aloss:0.7180 eloss:3.1343 aloss2:2.4756 exploreP:0.7222\n",
      "Episode:128 meanR:26.4100 R:28.0000 rate:0.0560 aloss:0.7055 eloss:3.1547 aloss2:2.4357 exploreP:0.7202\n",
      "Episode:129 meanR:26.3900 R:20.0000 rate:0.0400 aloss:0.7094 eloss:3.1584 aloss2:2.4207 exploreP:0.7188\n",
      "Episode:130 meanR:26.2900 R:10.0000 rate:0.0200 aloss:0.7071 eloss:3.1827 aloss2:2.3858 exploreP:0.7181\n",
      "Episode:131 meanR:26.2700 R:9.0000 rate:0.0180 aloss:0.7223 eloss:3.1591 aloss2:2.4678 exploreP:0.7175\n",
      "Episode:132 meanR:26.2100 R:18.0000 rate:0.0360 aloss:0.7215 eloss:3.1673 aloss2:2.4234 exploreP:0.7162\n",
      "Episode:133 meanR:26.2700 R:32.0000 rate:0.0640 aloss:0.7113 eloss:3.1757 aloss2:2.4234 exploreP:0.7139\n",
      "Episode:134 meanR:26.2500 R:11.0000 rate:0.0220 aloss:0.7408 eloss:3.1817 aloss2:2.4398 exploreP:0.7132\n",
      "Episode:135 meanR:26.1700 R:23.0000 rate:0.0460 aloss:0.7306 eloss:3.1716 aloss2:2.4399 exploreP:0.7116\n",
      "Episode:136 meanR:26.1200 R:18.0000 rate:0.0360 aloss:0.7380 eloss:3.1755 aloss2:2.4270 exploreP:0.7103\n",
      "Episode:137 meanR:26.2800 R:27.0000 rate:0.0540 aloss:0.7343 eloss:3.1900 aloss2:2.4023 exploreP:0.7084\n",
      "Episode:138 meanR:26.2900 R:17.0000 rate:0.0340 aloss:0.7203 eloss:3.2459 aloss2:2.3292 exploreP:0.7072\n",
      "Episode:139 meanR:26.1600 R:15.0000 rate:0.0300 aloss:0.7094 eloss:3.2324 aloss2:2.3605 exploreP:0.7062\n",
      "Episode:140 meanR:26.2200 R:24.0000 rate:0.0480 aloss:0.7257 eloss:3.2871 aloss2:2.2994 exploreP:0.7045\n",
      "Episode:141 meanR:26.2100 R:15.0000 rate:0.0300 aloss:0.7401 eloss:3.3508 aloss2:2.2658 exploreP:0.7035\n",
      "Episode:142 meanR:26.4700 R:52.0000 rate:0.1040 aloss:0.7320 eloss:3.3994 aloss2:2.2241 exploreP:0.6999\n",
      "Episode:143 meanR:26.6300 R:42.0000 rate:0.0840 aloss:0.7623 eloss:3.5048 aloss2:2.1961 exploreP:0.6970\n",
      "Episode:144 meanR:26.6000 R:15.0000 rate:0.0300 aloss:0.7155 eloss:3.6143 aloss2:2.0956 exploreP:0.6960\n",
      "Episode:145 meanR:26.6100 R:14.0000 rate:0.0280 aloss:0.7389 eloss:3.5211 aloss2:2.1864 exploreP:0.6950\n",
      "Episode:146 meanR:26.1500 R:10.0000 rate:0.0200 aloss:0.7321 eloss:3.6084 aloss2:2.1081 exploreP:0.6943\n",
      "Episode:147 meanR:26.0300 R:13.0000 rate:0.0260 aloss:0.7566 eloss:3.6441 aloss2:2.1250 exploreP:0.6934\n",
      "Episode:148 meanR:26.0100 R:22.0000 rate:0.0440 aloss:0.7483 eloss:3.7617 aloss2:2.0454 exploreP:0.6919\n",
      "Episode:149 meanR:26.0500 R:19.0000 rate:0.0380 aloss:0.7217 eloss:3.8316 aloss2:1.9784 exploreP:0.6906\n",
      "Episode:150 meanR:26.0700 R:11.0000 rate:0.0220 aloss:0.7334 eloss:3.8026 aloss2:2.0299 exploreP:0.6899\n",
      "Episode:151 meanR:25.9600 R:19.0000 rate:0.0380 aloss:0.7452 eloss:3.7806 aloss2:2.0487 exploreP:0.6886\n",
      "Episode:152 meanR:25.8600 R:11.0000 rate:0.0220 aloss:0.7417 eloss:3.8827 aloss2:1.9803 exploreP:0.6878\n",
      "Episode:153 meanR:25.8000 R:13.0000 rate:0.0260 aloss:0.7559 eloss:3.7696 aloss2:2.0903 exploreP:0.6870\n",
      "Episode:154 meanR:25.7800 R:23.0000 rate:0.0460 aloss:0.7427 eloss:3.8842 aloss2:1.9795 exploreP:0.6854\n",
      "Episode:155 meanR:25.7500 R:13.0000 rate:0.0260 aloss:0.7338 eloss:3.9076 aloss2:1.9589 exploreP:0.6845\n",
      "Episode:156 meanR:25.7900 R:20.0000 rate:0.0400 aloss:0.7517 eloss:3.9462 aloss2:1.9679 exploreP:0.6832\n",
      "Episode:157 meanR:25.6000 R:10.0000 rate:0.0200 aloss:0.7416 eloss:3.8188 aloss2:2.0513 exploreP:0.6825\n",
      "Episode:158 meanR:25.5600 R:9.0000 rate:0.0180 aloss:0.7552 eloss:4.1737 aloss2:1.8278 exploreP:0.6819\n"
     ]
    },
    {
     "name": "stdout",
     "output_type": "stream",
     "text": [
      "Episode:159 meanR:25.4700 R:11.0000 rate:0.0220 aloss:0.7684 eloss:3.9850 aloss2:1.9514 exploreP:0.6812\n",
      "Episode:160 meanR:25.5000 R:17.0000 rate:0.0340 aloss:0.7565 eloss:4.0229 aloss2:1.9353 exploreP:0.6800\n",
      "Episode:161 meanR:25.4800 R:16.0000 rate:0.0320 aloss:0.7467 eloss:3.9793 aloss2:1.9846 exploreP:0.6789\n",
      "Episode:162 meanR:25.2700 R:11.0000 rate:0.0220 aloss:0.7223 eloss:3.8412 aloss2:2.0602 exploreP:0.6782\n",
      "Episode:163 meanR:25.4700 R:37.0000 rate:0.0740 aloss:0.7288 eloss:4.0641 aloss2:1.9170 exploreP:0.6757\n",
      "Episode:164 meanR:25.4600 R:21.0000 rate:0.0420 aloss:0.7115 eloss:4.0290 aloss2:1.9491 exploreP:0.6743\n",
      "Episode:165 meanR:25.2700 R:12.0000 rate:0.0240 aloss:0.7236 eloss:4.0966 aloss2:1.9092 exploreP:0.6736\n",
      "Episode:166 meanR:25.2400 R:13.0000 rate:0.0260 aloss:0.7007 eloss:4.0873 aloss2:1.9118 exploreP:0.6727\n",
      "Episode:167 meanR:25.1600 R:26.0000 rate:0.0520 aloss:0.7179 eloss:4.1417 aloss2:1.8804 exploreP:0.6710\n",
      "Episode:168 meanR:24.9100 R:11.0000 rate:0.0220 aloss:0.7061 eloss:4.2388 aloss2:1.8429 exploreP:0.6702\n",
      "Episode:169 meanR:24.9600 R:28.0000 rate:0.0560 aloss:0.7009 eloss:4.2316 aloss2:1.8577 exploreP:0.6684\n",
      "Episode:170 meanR:24.6600 R:25.0000 rate:0.0500 aloss:0.6957 eloss:4.1852 aloss2:1.8729 exploreP:0.6668\n",
      "Episode:171 meanR:24.6200 R:24.0000 rate:0.0480 aloss:0.7026 eloss:4.2176 aloss2:1.8600 exploreP:0.6652\n",
      "Episode:172 meanR:24.6900 R:43.0000 rate:0.0860 aloss:0.6875 eloss:4.1920 aloss2:1.8730 exploreP:0.6624\n",
      "Episode:173 meanR:24.6400 R:13.0000 rate:0.0260 aloss:0.6877 eloss:4.2428 aloss2:1.8620 exploreP:0.6615\n",
      "Episode:174 meanR:24.5200 R:15.0000 rate:0.0300 aloss:0.6871 eloss:4.3174 aloss2:1.8151 exploreP:0.6605\n",
      "Episode:175 meanR:24.1200 R:19.0000 rate:0.0380 aloss:0.6833 eloss:4.2632 aloss2:1.8428 exploreP:0.6593\n",
      "Episode:176 meanR:24.1200 R:39.0000 rate:0.0780 aloss:0.6840 eloss:4.3252 aloss2:1.8232 exploreP:0.6568\n",
      "Episode:177 meanR:23.9600 R:26.0000 rate:0.0520 aloss:0.6838 eloss:4.2320 aloss2:1.8661 exploreP:0.6551\n",
      "Episode:178 meanR:24.0700 R:24.0000 rate:0.0480 aloss:0.6866 eloss:4.2272 aloss2:1.8799 exploreP:0.6536\n",
      "Episode:179 meanR:24.4600 R:92.0000 rate:0.1840 aloss:0.6766 eloss:4.1913 aloss2:1.9021 exploreP:0.6477\n",
      "Episode:180 meanR:24.6100 R:32.0000 rate:0.0640 aloss:0.6795 eloss:4.1190 aloss2:1.9456 exploreP:0.6456\n",
      "Episode:181 meanR:25.0800 R:59.0000 rate:0.1180 aloss:0.6785 eloss:4.0303 aloss2:2.0002 exploreP:0.6419\n",
      "Episode:182 meanR:25.5400 R:68.0000 rate:0.1360 aloss:0.6830 eloss:3.9330 aloss2:2.0612 exploreP:0.6376\n",
      "Episode:183 meanR:25.8000 R:35.0000 rate:0.0700 aloss:0.6892 eloss:3.8592 aloss2:2.1040 exploreP:0.6354\n",
      "Episode:184 meanR:26.5500 R:114.0000 rate:0.2280 aloss:0.6831 eloss:3.7744 aloss2:2.1939 exploreP:0.6283\n",
      "Episode:185 meanR:26.8500 R:70.0000 rate:0.1400 aloss:0.6807 eloss:3.6249 aloss2:2.3090 exploreP:0.6240\n",
      "Episode:186 meanR:26.8200 R:15.0000 rate:0.0300 aloss:0.6833 eloss:3.6267 aloss2:2.3303 exploreP:0.6231\n",
      "Episode:187 meanR:26.8700 R:22.0000 rate:0.0440 aloss:0.6845 eloss:3.5662 aloss2:2.3704 exploreP:0.6217\n",
      "Episode:188 meanR:26.7800 R:21.0000 rate:0.0420 aloss:0.6798 eloss:3.5643 aloss2:2.3954 exploreP:0.6205\n",
      "Episode:189 meanR:27.0900 R:44.0000 rate:0.0880 aloss:0.6901 eloss:3.5395 aloss2:2.4147 exploreP:0.6178\n",
      "Episode:190 meanR:27.9500 R:119.0000 rate:0.2380 aloss:0.6785 eloss:3.4409 aloss2:2.5030 exploreP:0.6106\n",
      "Episode:191 meanR:27.9400 R:31.0000 rate:0.0620 aloss:0.6885 eloss:3.4430 aloss2:2.5230 exploreP:0.6087\n",
      "Episode:192 meanR:28.4100 R:83.0000 rate:0.1660 aloss:0.6816 eloss:3.3842 aloss2:2.5751 exploreP:0.6038\n",
      "Episode:193 meanR:28.5100 R:26.0000 rate:0.0520 aloss:0.6727 eloss:3.3161 aloss2:2.6480 exploreP:0.6022\n",
      "Episode:194 meanR:28.3100 R:14.0000 rate:0.0280 aloss:0.6845 eloss:3.3300 aloss2:2.6363 exploreP:0.6014\n",
      "Episode:195 meanR:28.1600 R:37.0000 rate:0.0740 aloss:0.6858 eloss:3.3395 aloss2:2.6346 exploreP:0.5992\n",
      "Episode:196 meanR:27.5500 R:15.0000 rate:0.0300 aloss:0.6910 eloss:3.3236 aloss2:2.6468 exploreP:0.5983\n",
      "Episode:197 meanR:27.6500 R:28.0000 rate:0.0560 aloss:0.6942 eloss:3.3253 aloss2:2.6551 exploreP:0.5967\n",
      "Episode:198 meanR:27.7800 R:41.0000 rate:0.0820 aloss:0.6959 eloss:3.3003 aloss2:2.6715 exploreP:0.5943\n",
      "Episode:199 meanR:28.7900 R:129.0000 rate:0.2580 aloss:0.6885 eloss:3.2655 aloss2:2.7034 exploreP:0.5868\n",
      "Episode:200 meanR:29.1200 R:46.0000 rate:0.0920 aloss:0.6949 eloss:3.2477 aloss2:2.7090 exploreP:0.5842\n",
      "Episode:201 meanR:29.1900 R:22.0000 rate:0.0440 aloss:0.6965 eloss:3.2495 aloss2:2.7122 exploreP:0.5829\n",
      "Episode:202 meanR:29.0300 R:20.0000 rate:0.0400 aloss:0.7131 eloss:3.2528 aloss2:2.7130 exploreP:0.5818\n",
      "Episode:203 meanR:29.0700 R:18.0000 rate:0.0360 aloss:0.6936 eloss:3.2303 aloss2:2.7066 exploreP:0.5807\n",
      "Episode:204 meanR:29.0600 R:26.0000 rate:0.0520 aloss:0.7055 eloss:3.2133 aloss2:2.6889 exploreP:0.5792\n",
      "Episode:205 meanR:29.2300 R:43.0000 rate:0.0860 aloss:0.6965 eloss:3.2256 aloss2:2.7299 exploreP:0.5768\n",
      "Episode:206 meanR:28.9500 R:19.0000 rate:0.0380 aloss:0.6999 eloss:3.2299 aloss2:2.7252 exploreP:0.5757\n",
      "Episode:207 meanR:28.7800 R:22.0000 rate:0.0440 aloss:0.7134 eloss:3.2151 aloss2:2.6998 exploreP:0.5745\n",
      "Episode:208 meanR:28.8000 R:30.0000 rate:0.0600 aloss:0.7008 eloss:3.2197 aloss2:2.7184 exploreP:0.5728\n",
      "Episode:209 meanR:28.2400 R:16.0000 rate:0.0320 aloss:0.6965 eloss:3.2081 aloss2:2.7284 exploreP:0.5719\n",
      "Episode:210 meanR:27.9500 R:30.0000 rate:0.0600 aloss:0.6957 eloss:3.2095 aloss2:2.7242 exploreP:0.5702\n",
      "Episode:211 meanR:27.8100 R:19.0000 rate:0.0380 aloss:0.6885 eloss:3.2074 aloss2:2.7392 exploreP:0.5691\n",
      "Episode:212 meanR:27.8100 R:24.0000 rate:0.0480 aloss:0.6817 eloss:3.1977 aloss2:2.7272 exploreP:0.5678\n",
      "Episode:213 meanR:27.8200 R:19.0000 rate:0.0380 aloss:0.6915 eloss:3.2087 aloss2:2.7222 exploreP:0.5667\n",
      "Episode:214 meanR:28.0300 R:38.0000 rate:0.0760 aloss:0.6950 eloss:3.2111 aloss2:2.7174 exploreP:0.5646\n",
      "Episode:215 meanR:27.9100 R:29.0000 rate:0.0580 aloss:0.7046 eloss:3.2003 aloss2:2.6958 exploreP:0.5630\n",
      "Episode:216 meanR:27.9000 R:28.0000 rate:0.0560 aloss:0.6962 eloss:3.1824 aloss2:2.6461 exploreP:0.5615\n",
      "Episode:217 meanR:28.9200 R:121.0000 rate:0.2420 aloss:0.6844 eloss:3.2031 aloss2:2.6705 exploreP:0.5548\n",
      "Episode:218 meanR:29.1000 R:33.0000 rate:0.0660 aloss:0.7068 eloss:3.2205 aloss2:2.6249 exploreP:0.5531\n",
      "Episode:219 meanR:29.2200 R:24.0000 rate:0.0480 aloss:0.6907 eloss:3.2117 aloss2:2.6418 exploreP:0.5518\n",
      "Episode:220 meanR:29.2000 R:34.0000 rate:0.0680 aloss:0.6851 eloss:3.2083 aloss2:2.6097 exploreP:0.5499\n",
      "Episode:221 meanR:29.3000 R:25.0000 rate:0.0500 aloss:0.6963 eloss:3.2294 aloss2:2.6007 exploreP:0.5486\n",
      "Episode:222 meanR:29.2400 R:25.0000 rate:0.0500 aloss:0.6784 eloss:3.2266 aloss2:2.6006 exploreP:0.5472\n",
      "Episode:223 meanR:30.2100 R:139.0000 rate:0.2780 aloss:0.6867 eloss:3.2577 aloss2:2.5506 exploreP:0.5398\n",
      "Episode:224 meanR:31.0500 R:94.0000 rate:0.1880 aloss:0.6787 eloss:3.3246 aloss2:2.4663 exploreP:0.5348\n",
      "Episode:225 meanR:33.7000 R:280.0000 rate:0.5600 aloss:0.6843 eloss:3.3992 aloss2:2.3717 exploreP:0.5204\n",
      "Episode:226 meanR:34.2100 R:70.0000 rate:0.1400 aloss:0.6816 eloss:3.3873 aloss2:2.3411 exploreP:0.5168\n",
      "Episode:227 meanR:34.5200 R:49.0000 rate:0.0980 aloss:0.6868 eloss:3.3795 aloss2:2.3477 exploreP:0.5143\n",
      "Episode:228 meanR:35.0900 R:85.0000 rate:0.1700 aloss:0.6781 eloss:3.3875 aloss2:2.3336 exploreP:0.5100\n",
      "Episode:229 meanR:35.2400 R:35.0000 rate:0.0700 aloss:0.6881 eloss:3.3950 aloss2:2.3337 exploreP:0.5083\n",
      "Episode:230 meanR:35.7200 R:58.0000 rate:0.1160 aloss:0.6935 eloss:3.3885 aloss2:2.3449 exploreP:0.5054\n",
      "Episode:231 meanR:36.0200 R:39.0000 rate:0.0780 aloss:0.7015 eloss:3.3997 aloss2:2.3445 exploreP:0.5035\n",
      "Episode:232 meanR:36.7200 R:88.0000 rate:0.1760 aloss:0.6919 eloss:3.3837 aloss2:2.3524 exploreP:0.4992\n",
      "Episode:233 meanR:38.2200 R:182.0000 rate:0.3640 aloss:0.6870 eloss:3.3737 aloss2:2.3580 exploreP:0.4903\n",
      "Episode:234 meanR:39.2500 R:114.0000 rate:0.2280 aloss:0.6879 eloss:3.3719 aloss2:2.3596 exploreP:0.4849\n",
      "Episode:235 meanR:40.2300 R:121.0000 rate:0.2420 aloss:0.6907 eloss:3.3724 aloss2:2.3582 exploreP:0.4792\n",
      "Episode:236 meanR:42.0800 R:203.0000 rate:0.4060 aloss:0.6899 eloss:3.3712 aloss2:2.3556 exploreP:0.4698\n",
      "Episode:237 meanR:45.7800 R:397.0000 rate:0.7940 aloss:0.6819 eloss:3.3569 aloss2:2.3639 exploreP:0.4519\n"
     ]
    },
    {
     "name": "stdout",
     "output_type": "stream",
     "text": [
      "Episode:238 meanR:47.8300 R:222.0000 rate:0.4440 aloss:0.6856 eloss:3.3491 aloss2:2.3678 exploreP:0.4422\n",
      "Episode:239 meanR:50.6800 R:300.0000 rate:0.6000 aloss:0.6925 eloss:3.3433 aloss2:2.3698 exploreP:0.4294\n",
      "Episode:240 meanR:52.7700 R:233.0000 rate:0.4660 aloss:0.6948 eloss:3.3319 aloss2:2.3737 exploreP:0.4197\n",
      "Episode:241 meanR:54.2100 R:159.0000 rate:0.3180 aloss:0.6919 eloss:3.3179 aloss2:2.3696 exploreP:0.4133\n",
      "Episode:242 meanR:54.6300 R:94.0000 rate:0.1880 aloss:0.7121 eloss:3.3210 aloss2:2.3670 exploreP:0.4095\n",
      "Episode:243 meanR:57.4400 R:323.0000 rate:0.6460 aloss:0.6866 eloss:3.3101 aloss2:2.3627 exploreP:0.3968\n",
      "Episode:244 meanR:61.1900 R:390.0000 rate:0.7800 aloss:0.6987 eloss:3.3074 aloss2:2.3669 exploreP:0.3820\n",
      "Episode:245 meanR:66.0500 R:500.0000 rate:1.0000 aloss:0.6834 eloss:3.3023 aloss2:2.3698 exploreP:0.3639\n",
      "Episode:246 meanR:70.2000 R:425.0000 rate:0.8500 aloss:0.6868 eloss:3.3044 aloss2:2.3598 exploreP:0.3491\n",
      "Episode:247 meanR:75.0700 R:500.0000 rate:1.0000 aloss:0.6800 eloss:3.2999 aloss2:2.3443 exploreP:0.3326\n",
      "Episode:248 meanR:78.9900 R:414.0000 rate:0.8280 aloss:0.6945 eloss:3.2992 aloss2:2.3267 exploreP:0.3195\n",
      "Episode:249 meanR:83.8000 R:500.0000 rate:1.0000 aloss:0.6977 eloss:3.2818 aloss2:2.2884 exploreP:0.3044\n",
      "Episode:250 meanR:88.6900 R:500.0000 rate:1.0000 aloss:0.7002 eloss:3.2946 aloss2:2.2635 exploreP:0.2901\n",
      "Episode:251 meanR:91.1700 R:267.0000 rate:0.5340 aloss:0.7079 eloss:3.2924 aloss2:2.2554 exploreP:0.2827\n",
      "Episode:252 meanR:96.0600 R:500.0000 rate:1.0000 aloss:0.7042 eloss:3.2914 aloss2:2.2540 exploreP:0.2694\n",
      "Episode:253 meanR:100.9300 R:500.0000 rate:1.0000 aloss:0.7159 eloss:3.2803 aloss2:2.2490 exploreP:0.2567\n",
      "Episode:254 meanR:105.7000 R:500.0000 rate:1.0000 aloss:0.7117 eloss:3.2821 aloss2:2.2457 exploreP:0.2447\n",
      "Episode:255 meanR:106.9700 R:140.0000 rate:0.2800 aloss:0.7155 eloss:3.2724 aloss2:2.2491 exploreP:0.2414\n",
      "Episode:256 meanR:111.7700 R:500.0000 rate:1.0000 aloss:0.7135 eloss:3.2759 aloss2:2.2498 exploreP:0.2301\n",
      "Episode:257 meanR:116.6700 R:500.0000 rate:1.0000 aloss:0.7273 eloss:3.2877 aloss2:2.2376 exploreP:0.2194\n",
      "Episode:258 meanR:121.5800 R:500.0000 rate:1.0000 aloss:0.7279 eloss:3.2691 aloss2:2.2396 exploreP:0.2092\n",
      "Episode:259 meanR:126.4700 R:500.0000 rate:1.0000 aloss:0.7344 eloss:3.2828 aloss2:2.2311 exploreP:0.1995\n",
      "Episode:260 meanR:131.3000 R:500.0000 rate:1.0000 aloss:0.7390 eloss:3.2671 aloss2:2.2413 exploreP:0.1902\n",
      "Episode:261 meanR:136.1400 R:500.0000 rate:1.0000 aloss:0.7333 eloss:3.2590 aloss2:2.2467 exploreP:0.1815\n",
      "Episode:262 meanR:141.0300 R:500.0000 rate:1.0000 aloss:0.7378 eloss:3.2481 aloss2:2.2547 exploreP:0.1731\n",
      "Episode:263 meanR:145.6600 R:500.0000 rate:1.0000 aloss:0.7524 eloss:3.2662 aloss2:2.2414 exploreP:0.1651\n",
      "Episode:264 meanR:150.4500 R:500.0000 rate:1.0000 aloss:0.7476 eloss:3.2612 aloss2:2.2442 exploreP:0.1576\n",
      "Episode:265 meanR:155.3300 R:500.0000 rate:1.0000 aloss:0.7334 eloss:3.2442 aloss2:2.2599 exploreP:0.1504\n",
      "Episode:266 meanR:160.2000 R:500.0000 rate:1.0000 aloss:0.7330 eloss:3.2013 aloss2:2.2738 exploreP:0.1435\n",
      "Episode:267 meanR:160.2800 R:34.0000 rate:0.0680 aloss:0.7238 eloss:3.1758 aloss2:2.2637 exploreP:0.1431\n",
      "Episode:268 meanR:160.4700 R:30.0000 rate:0.0600 aloss:0.7169 eloss:3.1808 aloss2:2.2524 exploreP:0.1427\n",
      "Episode:269 meanR:160.5900 R:40.0000 rate:0.0800 aloss:0.7182 eloss:3.1917 aloss2:2.2361 exploreP:0.1421\n",
      "Episode:270 meanR:160.6000 R:26.0000 rate:0.0520 aloss:0.6881 eloss:3.1454 aloss2:2.2366 exploreP:0.1418\n",
      "Episode:271 meanR:160.6300 R:27.0000 rate:0.0540 aloss:0.6911 eloss:3.2216 aloss2:2.1966 exploreP:0.1414\n",
      "Episode:272 meanR:160.5200 R:32.0000 rate:0.0640 aloss:0.7049 eloss:3.2664 aloss2:2.1536 exploreP:0.1410\n",
      "Episode:273 meanR:163.5100 R:312.0000 rate:0.6240 aloss:0.7370 eloss:3.4391 aloss2:2.0209 exploreP:0.1370\n",
      "Episode:274 meanR:163.4500 R:9.0000 rate:0.0180 aloss:0.7066 eloss:3.4253 aloss2:1.9821 exploreP:0.1369\n",
      "Episode:275 meanR:163.3600 R:10.0000 rate:0.0200 aloss:0.7345 eloss:3.4589 aloss2:1.9707 exploreP:0.1368\n",
      "Episode:276 meanR:163.0600 R:9.0000 rate:0.0180 aloss:0.7202 eloss:3.4021 aloss2:2.0131 exploreP:0.1366\n",
      "Episode:277 meanR:162.9100 R:11.0000 rate:0.0220 aloss:0.7215 eloss:3.4096 aloss2:2.0239 exploreP:0.1365\n",
      "Episode:278 meanR:162.7700 R:10.0000 rate:0.0200 aloss:0.7218 eloss:3.4414 aloss2:1.9847 exploreP:0.1364\n",
      "Episode:279 meanR:161.9900 R:14.0000 rate:0.0280 aloss:0.7462 eloss:3.5057 aloss2:1.9758 exploreP:0.1362\n",
      "Episode:280 meanR:161.7700 R:10.0000 rate:0.0200 aloss:0.7795 eloss:3.4772 aloss2:1.9923 exploreP:0.1361\n",
      "Episode:281 meanR:161.2900 R:11.0000 rate:0.0220 aloss:0.7272 eloss:3.4125 aloss2:2.0466 exploreP:0.1359\n",
      "Episode:282 meanR:160.7100 R:10.0000 rate:0.0200 aloss:0.7157 eloss:3.4268 aloss2:2.0075 exploreP:0.1358\n",
      "Episode:283 meanR:160.4400 R:8.0000 rate:0.0160 aloss:0.8146 eloss:3.3918 aloss2:2.0482 exploreP:0.1357\n",
      "Episode:284 meanR:159.3900 R:9.0000 rate:0.0180 aloss:0.7604 eloss:3.4130 aloss2:2.0158 exploreP:0.1356\n",
      "Episode:285 meanR:158.7700 R:8.0000 rate:0.0160 aloss:0.7234 eloss:3.4082 aloss2:2.0347 exploreP:0.1355\n",
      "Episode:286 meanR:158.7100 R:9.0000 rate:0.0180 aloss:0.7709 eloss:3.4122 aloss2:2.0351 exploreP:0.1354\n",
      "Episode:287 meanR:158.5700 R:8.0000 rate:0.0160 aloss:0.7965 eloss:3.3536 aloss2:2.0860 exploreP:0.1353\n",
      "Episode:288 meanR:158.4700 R:11.0000 rate:0.0220 aloss:0.7473 eloss:3.3958 aloss2:2.0308 exploreP:0.1351\n",
      "Episode:289 meanR:158.1600 R:13.0000 rate:0.0260 aloss:0.7928 eloss:3.4127 aloss2:2.0494 exploreP:0.1350\n",
      "Episode:290 meanR:157.0800 R:11.0000 rate:0.0220 aloss:0.8217 eloss:3.3988 aloss2:2.0399 exploreP:0.1348\n",
      "Episode:291 meanR:156.9100 R:14.0000 rate:0.0280 aloss:0.7531 eloss:3.3645 aloss2:2.0553 exploreP:0.1347\n",
      "Episode:292 meanR:156.1600 R:8.0000 rate:0.0160 aloss:0.7536 eloss:3.3481 aloss2:2.0865 exploreP:0.1346\n",
      "Episode:293 meanR:155.9900 R:9.0000 rate:0.0180 aloss:0.7724 eloss:3.2776 aloss2:2.0835 exploreP:0.1345\n",
      "Episode:294 meanR:155.9300 R:8.0000 rate:0.0160 aloss:0.7667 eloss:3.3204 aloss2:2.0972 exploreP:0.1344\n",
      "Episode:295 meanR:155.6500 R:9.0000 rate:0.0180 aloss:0.6992 eloss:3.3432 aloss2:2.0666 exploreP:0.1343\n",
      "Episode:296 meanR:155.5900 R:9.0000 rate:0.0180 aloss:0.7416 eloss:3.4319 aloss2:2.0179 exploreP:0.1341\n",
      "Episode:297 meanR:155.4300 R:12.0000 rate:0.0240 aloss:0.7412 eloss:3.3242 aloss2:2.0695 exploreP:0.1340\n",
      "Episode:298 meanR:155.1200 R:10.0000 rate:0.0200 aloss:0.7318 eloss:3.3410 aloss2:2.0744 exploreP:0.1339\n",
      "Episode:299 meanR:153.9400 R:11.0000 rate:0.0220 aloss:0.7310 eloss:3.3560 aloss2:2.0840 exploreP:0.1337\n",
      "Episode:300 meanR:153.5700 R:9.0000 rate:0.0180 aloss:0.8822 eloss:3.2949 aloss2:2.0975 exploreP:0.1336\n",
      "Episode:301 meanR:153.4600 R:11.0000 rate:0.0220 aloss:0.7928 eloss:3.3602 aloss2:2.0820 exploreP:0.1335\n",
      "Episode:302 meanR:153.3600 R:10.0000 rate:0.0200 aloss:0.7637 eloss:3.3348 aloss2:2.0839 exploreP:0.1334\n",
      "Episode:303 meanR:153.3000 R:12.0000 rate:0.0240 aloss:0.7681 eloss:3.2740 aloss2:2.0908 exploreP:0.1332\n",
      "Episode:304 meanR:153.1500 R:11.0000 rate:0.0220 aloss:0.7754 eloss:3.2704 aloss2:2.1012 exploreP:0.1331\n",
      "Episode:305 meanR:152.8100 R:9.0000 rate:0.0180 aloss:0.7491 eloss:3.3151 aloss2:2.0826 exploreP:0.1330\n",
      "Episode:306 meanR:152.7100 R:9.0000 rate:0.0180 aloss:0.7319 eloss:3.3116 aloss2:2.0728 exploreP:0.1329\n",
      "Episode:307 meanR:152.5900 R:10.0000 rate:0.0200 aloss:0.7683 eloss:3.3690 aloss2:2.0813 exploreP:0.1327\n",
      "Episode:308 meanR:152.4000 R:11.0000 rate:0.0220 aloss:0.8113 eloss:3.2451 aloss2:2.1084 exploreP:0.1326\n",
      "Episode:309 meanR:152.3400 R:10.0000 rate:0.0200 aloss:0.7809 eloss:3.3095 aloss2:2.1078 exploreP:0.1325\n",
      "Episode:310 meanR:152.1600 R:12.0000 rate:0.0240 aloss:0.7490 eloss:3.2795 aloss2:2.1116 exploreP:0.1323\n",
      "Episode:311 meanR:152.0600 R:9.0000 rate:0.0180 aloss:0.7339 eloss:3.3696 aloss2:2.0724 exploreP:0.1322\n",
      "Episode:312 meanR:151.9200 R:10.0000 rate:0.0200 aloss:0.7798 eloss:3.2722 aloss2:2.1080 exploreP:0.1321\n",
      "Episode:313 meanR:151.8100 R:8.0000 rate:0.0160 aloss:0.7414 eloss:3.2546 aloss2:2.1069 exploreP:0.1320\n",
      "Episode:314 meanR:151.5300 R:10.0000 rate:0.0200 aloss:0.8300 eloss:3.2504 aloss2:2.1292 exploreP:0.1319\n",
      "Episode:315 meanR:151.3300 R:9.0000 rate:0.0180 aloss:0.7391 eloss:3.2890 aloss2:2.1031 exploreP:0.1318\n",
      "Episode:316 meanR:151.1500 R:10.0000 rate:0.0200 aloss:0.7898 eloss:3.2487 aloss2:2.1616 exploreP:0.1316\n"
     ]
    },
    {
     "name": "stdout",
     "output_type": "stream",
     "text": [
      "Episode:317 meanR:150.0500 R:11.0000 rate:0.0220 aloss:0.7716 eloss:3.2609 aloss2:2.1532 exploreP:0.1315\n",
      "Episode:318 meanR:149.8100 R:9.0000 rate:0.0180 aloss:0.8441 eloss:3.2942 aloss2:2.1093 exploreP:0.1314\n",
      "Episode:319 meanR:149.6600 R:9.0000 rate:0.0180 aloss:0.7294 eloss:3.3113 aloss2:2.1082 exploreP:0.1313\n",
      "Episode:320 meanR:149.4100 R:9.0000 rate:0.0180 aloss:0.7855 eloss:3.2545 aloss2:2.1528 exploreP:0.1312\n",
      "Episode:321 meanR:149.2600 R:10.0000 rate:0.0200 aloss:0.7554 eloss:3.1884 aloss2:2.1526 exploreP:0.1311\n",
      "Episode:322 meanR:149.1100 R:10.0000 rate:0.0200 aloss:0.7654 eloss:3.2448 aloss2:2.1601 exploreP:0.1309\n",
      "Episode:323 meanR:147.8200 R:10.0000 rate:0.0200 aloss:0.7977 eloss:3.2152 aloss2:2.1740 exploreP:0.1308\n",
      "Episode:324 meanR:146.9600 R:8.0000 rate:0.0160 aloss:0.7435 eloss:3.2127 aloss2:2.1561 exploreP:0.1307\n",
      "Episode:325 meanR:144.2500 R:9.0000 rate:0.0180 aloss:0.8449 eloss:3.2762 aloss2:2.1508 exploreP:0.1306\n",
      "Episode:326 meanR:143.6600 R:11.0000 rate:0.0220 aloss:0.8358 eloss:3.2479 aloss2:2.1638 exploreP:0.1305\n",
      "Episode:327 meanR:143.2600 R:9.0000 rate:0.0180 aloss:0.7888 eloss:3.2228 aloss2:2.1909 exploreP:0.1304\n",
      "Episode:328 meanR:142.5100 R:10.0000 rate:0.0200 aloss:0.7677 eloss:3.2039 aloss2:2.1920 exploreP:0.1303\n",
      "Episode:329 meanR:142.2500 R:9.0000 rate:0.0180 aloss:0.7670 eloss:3.1911 aloss2:2.2010 exploreP:0.1301\n",
      "Episode:330 meanR:141.7600 R:9.0000 rate:0.0180 aloss:0.7680 eloss:3.2131 aloss2:2.2111 exploreP:0.1300\n",
      "Episode:331 meanR:141.4600 R:9.0000 rate:0.0180 aloss:0.7368 eloss:3.1865 aloss2:2.1885 exploreP:0.1299\n",
      "Episode:332 meanR:140.6900 R:11.0000 rate:0.0220 aloss:0.7924 eloss:3.1877 aloss2:2.1964 exploreP:0.1298\n",
      "Episode:333 meanR:138.9700 R:10.0000 rate:0.0200 aloss:0.7968 eloss:3.2692 aloss2:2.1643 exploreP:0.1297\n",
      "Episode:334 meanR:137.9300 R:10.0000 rate:0.0200 aloss:0.7860 eloss:3.1945 aloss2:2.1870 exploreP:0.1296\n",
      "Episode:335 meanR:136.8000 R:8.0000 rate:0.0160 aloss:0.7705 eloss:3.1881 aloss2:2.2025 exploreP:0.1295\n",
      "Episode:336 meanR:134.8700 R:10.0000 rate:0.0200 aloss:0.7512 eloss:3.1584 aloss2:2.1932 exploreP:0.1293\n",
      "Episode:337 meanR:131.0100 R:11.0000 rate:0.0220 aloss:0.8383 eloss:3.1614 aloss2:2.2357 exploreP:0.1292\n",
      "Episode:338 meanR:128.8900 R:10.0000 rate:0.0200 aloss:0.9269 eloss:3.1795 aloss2:2.2103 exploreP:0.1291\n",
      "Episode:339 meanR:126.0100 R:12.0000 rate:0.0240 aloss:0.7566 eloss:3.1519 aloss2:2.1870 exploreP:0.1290\n",
      "Episode:340 meanR:123.7600 R:8.0000 rate:0.0160 aloss:0.7103 eloss:3.1240 aloss2:2.2025 exploreP:0.1289\n",
      "Episode:341 meanR:122.2600 R:9.0000 rate:0.0180 aloss:0.7870 eloss:3.1360 aloss2:2.2247 exploreP:0.1287\n",
      "Episode:342 meanR:121.4300 R:11.0000 rate:0.0220 aloss:0.7520 eloss:3.2094 aloss2:2.1969 exploreP:0.1286\n",
      "Episode:343 meanR:118.3200 R:12.0000 rate:0.0240 aloss:0.8129 eloss:3.1685 aloss2:2.2386 exploreP:0.1285\n",
      "Episode:344 meanR:114.5100 R:9.0000 rate:0.0180 aloss:0.7654 eloss:3.1205 aloss2:2.2334 exploreP:0.1284\n",
      "Episode:345 meanR:109.6100 R:10.0000 rate:0.0200 aloss:0.7790 eloss:3.1744 aloss2:2.2175 exploreP:0.1283\n",
      "Episode:346 meanR:105.4700 R:11.0000 rate:0.0220 aloss:0.7500 eloss:3.1715 aloss2:2.2144 exploreP:0.1281\n",
      "Episode:347 meanR:100.5800 R:11.0000 rate:0.0220 aloss:0.8201 eloss:3.1448 aloss2:2.2424 exploreP:0.1280\n",
      "Episode:348 meanR:96.5400 R:10.0000 rate:0.0200 aloss:0.7834 eloss:3.1942 aloss2:2.2283 exploreP:0.1279\n",
      "Episode:349 meanR:91.6400 R:10.0000 rate:0.0200 aloss:0.7632 eloss:3.1494 aloss2:2.2388 exploreP:0.1278\n",
      "Episode:350 meanR:86.7600 R:12.0000 rate:0.0240 aloss:0.7773 eloss:3.1069 aloss2:2.2498 exploreP:0.1276\n",
      "Episode:351 meanR:84.1900 R:10.0000 rate:0.0200 aloss:0.7861 eloss:3.1562 aloss2:2.2271 exploreP:0.1275\n",
      "Episode:352 meanR:79.3200 R:13.0000 rate:0.0260 aloss:0.7352 eloss:3.1546 aloss2:2.2361 exploreP:0.1273\n",
      "Episode:353 meanR:74.4300 R:11.0000 rate:0.0220 aloss:0.7776 eloss:3.0940 aloss2:2.2309 exploreP:0.1272\n",
      "Episode:354 meanR:69.5300 R:10.0000 rate:0.0200 aloss:0.7666 eloss:3.1087 aloss2:2.2554 exploreP:0.1271\n",
      "Episode:355 meanR:68.2100 R:8.0000 rate:0.0160 aloss:0.7938 eloss:3.1274 aloss2:2.2537 exploreP:0.1270\n",
      "Episode:356 meanR:63.3100 R:10.0000 rate:0.0200 aloss:0.7611 eloss:3.1081 aloss2:2.2488 exploreP:0.1269\n",
      "Episode:357 meanR:58.4000 R:9.0000 rate:0.0180 aloss:0.8425 eloss:3.1443 aloss2:2.2536 exploreP:0.1268\n",
      "Episode:358 meanR:53.5000 R:10.0000 rate:0.0200 aloss:0.7658 eloss:3.1089 aloss2:2.2673 exploreP:0.1267\n",
      "Episode:359 meanR:48.5900 R:9.0000 rate:0.0180 aloss:0.7495 eloss:3.1333 aloss2:2.2586 exploreP:0.1266\n",
      "Episode:360 meanR:43.6900 R:10.0000 rate:0.0200 aloss:0.7518 eloss:3.1633 aloss2:2.2528 exploreP:0.1264\n",
      "Episode:361 meanR:38.7800 R:9.0000 rate:0.0180 aloss:0.7974 eloss:3.1404 aloss2:2.2765 exploreP:0.1263\n",
      "Episode:362 meanR:33.8800 R:10.0000 rate:0.0200 aloss:0.7240 eloss:3.1628 aloss2:2.2445 exploreP:0.1262\n",
      "Episode:363 meanR:28.9700 R:9.0000 rate:0.0180 aloss:0.7956 eloss:3.0668 aloss2:2.2649 exploreP:0.1261\n",
      "Episode:364 meanR:24.0700 R:10.0000 rate:0.0200 aloss:0.8399 eloss:3.0678 aloss2:2.2642 exploreP:0.1260\n",
      "Episode:365 meanR:19.1700 R:10.0000 rate:0.0200 aloss:0.7748 eloss:3.1292 aloss2:2.2836 exploreP:0.1259\n",
      "Episode:366 meanR:14.2600 R:9.0000 rate:0.0180 aloss:0.7977 eloss:3.1123 aloss2:2.2606 exploreP:0.1258\n",
      "Episode:367 meanR:14.0100 R:9.0000 rate:0.0180 aloss:0.8137 eloss:3.0963 aloss2:2.2694 exploreP:0.1257\n",
      "Episode:368 meanR:13.8200 R:11.0000 rate:0.0220 aloss:0.7460 eloss:3.0911 aloss2:2.2785 exploreP:0.1256\n",
      "Episode:369 meanR:13.5200 R:10.0000 rate:0.0200 aloss:0.7865 eloss:3.1156 aloss2:2.2641 exploreP:0.1254\n",
      "Episode:370 meanR:13.3500 R:9.0000 rate:0.0180 aloss:0.7609 eloss:3.0885 aloss2:2.2743 exploreP:0.1253\n",
      "Episode:371 meanR:13.1800 R:10.0000 rate:0.0200 aloss:0.7741 eloss:3.0639 aloss2:2.2959 exploreP:0.1252\n",
      "Episode:372 meanR:12.9600 R:10.0000 rate:0.0200 aloss:0.7837 eloss:3.0975 aloss2:2.2682 exploreP:0.1251\n",
      "Episode:373 meanR:9.9400 R:10.0000 rate:0.0200 aloss:0.7756 eloss:3.0644 aloss2:2.2610 exploreP:0.1250\n",
      "Episode:374 meanR:9.9500 R:10.0000 rate:0.0200 aloss:0.7519 eloss:3.0991 aloss2:2.2807 exploreP:0.1249\n",
      "Episode:375 meanR:9.9500 R:10.0000 rate:0.0200 aloss:0.7409 eloss:3.0772 aloss2:2.2729 exploreP:0.1248\n",
      "Episode:376 meanR:9.9600 R:10.0000 rate:0.0200 aloss:0.7695 eloss:3.0833 aloss2:2.2854 exploreP:0.1246\n",
      "Episode:377 meanR:9.9500 R:10.0000 rate:0.0200 aloss:0.6805 eloss:3.1026 aloss2:2.2640 exploreP:0.1245\n",
      "Episode:378 meanR:9.9400 R:9.0000 rate:0.0180 aloss:0.8374 eloss:3.1280 aloss2:2.2654 exploreP:0.1244\n",
      "Episode:379 meanR:9.8800 R:8.0000 rate:0.0160 aloss:0.7348 eloss:3.0125 aloss2:2.3068 exploreP:0.1243\n",
      "Episode:380 meanR:9.8700 R:9.0000 rate:0.0180 aloss:0.7589 eloss:3.0966 aloss2:2.2691 exploreP:0.1242\n",
      "Episode:381 meanR:9.8600 R:10.0000 rate:0.0200 aloss:0.8492 eloss:3.0883 aloss2:2.2988 exploreP:0.1241\n",
      "Episode:382 meanR:9.8700 R:11.0000 rate:0.0220 aloss:0.7888 eloss:3.1028 aloss2:2.2948 exploreP:0.1240\n",
      "Episode:383 meanR:9.8800 R:9.0000 rate:0.0180 aloss:0.7233 eloss:3.0655 aloss2:2.2846 exploreP:0.1239\n",
      "Episode:384 meanR:9.8900 R:10.0000 rate:0.0200 aloss:0.9012 eloss:3.1266 aloss2:2.2989 exploreP:0.1238\n",
      "Episode:385 meanR:9.9000 R:9.0000 rate:0.0180 aloss:0.7577 eloss:3.0894 aloss2:2.3069 exploreP:0.1237\n",
      "Episode:386 meanR:9.9100 R:10.0000 rate:0.0200 aloss:0.7259 eloss:3.0854 aloss2:2.2984 exploreP:0.1236\n",
      "Episode:387 meanR:9.9300 R:10.0000 rate:0.0200 aloss:0.7633 eloss:3.0762 aloss2:2.2983 exploreP:0.1234\n",
      "Episode:388 meanR:9.9200 R:10.0000 rate:0.0200 aloss:0.7545 eloss:3.1184 aloss2:2.2823 exploreP:0.1233\n",
      "Episode:389 meanR:9.9400 R:15.0000 rate:0.0300 aloss:0.7546 eloss:3.0868 aloss2:2.2808 exploreP:0.1232\n",
      "Episode:390 meanR:9.9400 R:11.0000 rate:0.0220 aloss:0.7445 eloss:3.1222 aloss2:2.2895 exploreP:0.1230\n",
      "Episode:391 meanR:9.8800 R:8.0000 rate:0.0160 aloss:0.7561 eloss:3.1078 aloss2:2.2937 exploreP:0.1229\n",
      "Episode:392 meanR:9.8900 R:9.0000 rate:0.0180 aloss:0.6964 eloss:2.9942 aloss2:2.3264 exploreP:0.1228\n",
      "Episode:393 meanR:9.8900 R:9.0000 rate:0.0180 aloss:0.7439 eloss:3.0640 aloss2:2.3252 exploreP:0.1227\n",
      "Episode:394 meanR:9.9000 R:9.0000 rate:0.0180 aloss:0.7710 eloss:3.0284 aloss2:2.3208 exploreP:0.1226\n",
      "Episode:395 meanR:9.9300 R:12.0000 rate:0.0240 aloss:0.7471 eloss:3.1051 aloss2:2.2859 exploreP:0.1225\n"
     ]
    },
    {
     "name": "stdout",
     "output_type": "stream",
     "text": [
      "Episode:396 meanR:9.9400 R:10.0000 rate:0.0200 aloss:0.7293 eloss:3.0766 aloss2:2.3104 exploreP:0.1224\n",
      "Episode:397 meanR:9.9200 R:10.0000 rate:0.0200 aloss:0.7343 eloss:3.0802 aloss2:2.3079 exploreP:0.1223\n",
      "Episode:398 meanR:9.9200 R:10.0000 rate:0.0200 aloss:0.7287 eloss:3.1072 aloss2:2.2969 exploreP:0.1222\n",
      "Episode:399 meanR:9.9100 R:10.0000 rate:0.0200 aloss:0.7441 eloss:3.0812 aloss2:2.2949 exploreP:0.1221\n",
      "Episode:400 meanR:9.9100 R:9.0000 rate:0.0180 aloss:0.7406 eloss:3.0390 aloss2:2.3007 exploreP:0.1220\n",
      "Episode:401 meanR:9.9000 R:10.0000 rate:0.0200 aloss:0.7223 eloss:3.1180 aloss2:2.2810 exploreP:0.1218\n",
      "Episode:402 meanR:9.9000 R:10.0000 rate:0.0200 aloss:0.6950 eloss:3.0441 aloss2:2.2951 exploreP:0.1217\n",
      "Episode:403 meanR:9.8800 R:10.0000 rate:0.0200 aloss:0.6918 eloss:3.0657 aloss2:2.2779 exploreP:0.1216\n",
      "Episode:404 meanR:9.8600 R:9.0000 rate:0.0180 aloss:0.7294 eloss:3.1125 aloss2:2.2679 exploreP:0.1215\n",
      "Episode:405 meanR:9.8700 R:10.0000 rate:0.0200 aloss:0.7490 eloss:3.1322 aloss2:2.2389 exploreP:0.1214\n"
     ]
    }
   ],
   "source": [
    "# Save/load the model and save for plotting\n",
    "saver = tf.train.Saver()\n",
    "episode_rewards_list, rewards_list = [], []\n",
    "aloss_list, eloss_list, aloss2_list = [], [], []\n",
    "\n",
    "# TF session for training\n",
    "with tf.Session(graph=graph) as sess:\n",
    "    sess.run(tf.global_variables_initializer())\n",
    "    #saver.restore(sess, 'checkpoints/model.ckpt')    \n",
    "    #saver.restore(sess, tf.train.latest_checkpoint('checkpoints'))\n",
    "    total_step = 0 # Explore or exploit parameter\n",
    "    episode_reward = deque(maxlen=100) # 100 episodes for running average/running mean/window\n",
    "\n",
    "    # Training episodes/epochs\n",
    "    for ep in range(11111):\n",
    "        aloss_batch, eloss_batch, aloss2_batch = [], [], []\n",
    "        total_reward = 0\n",
    "        state = env.reset()\n",
    "        num_step = 0\n",
    "        rate = -1\n",
    "\n",
    "        # Training steps/batches\n",
    "        while True:\n",
    "            # Explore (env) or Exploit (model)\n",
    "            total_step += 1\n",
    "            explore_p = explore_stop + (explore_start - explore_stop) * np.exp(-decay_rate * total_step) \n",
    "            if explore_p > np.random.rand():\n",
    "                action = env.action_space.sample()\n",
    "            else:\n",
    "                action_logits = sess.run(model.actions_logits, feed_dict={model.states: state.reshape([1, -1])})\n",
    "                action = np.argmax(action_logits)\n",
    "            next_state, reward, done, _ = env.step(action)\n",
    "            memory.buffer.append([state, action, next_state, reward, float(done), rate])\n",
    "            num_step += 1 # momory added\n",
    "            total_reward += reward\n",
    "            state = next_state\n",
    "            \n",
    "            # Training with the maxrated minibatch\n",
    "            batch = memory.buffer\n",
    "            #for idx in range(memory_size// batch_size):\n",
    "            while True:\n",
    "                idx = np.random.choice(np.arange(memory_size// batch_size))\n",
    "                states = np.array([each[0] for each in batch])[idx*batch_size:(idx+1)*batch_size]\n",
    "                actions = np.array([each[1] for each in batch])[idx*batch_size:(idx+1)*batch_size]\n",
    "                next_states = np.array([each[2] for each in batch])[idx*batch_size:(idx+1)*batch_size]\n",
    "                rewards = np.array([each[3] for each in batch])[idx*batch_size:(idx+1)*batch_size]\n",
    "                dones = np.array([each[4] for each in batch])[idx*batch_size:(idx+1)*batch_size]\n",
    "                rates = np.array([each[5] for each in batch])[idx*batch_size:(idx+1)*batch_size]\n",
    "                states = states[rates >= np.max(rates)]\n",
    "                actions = actions[rates >= np.max(rates)]\n",
    "                next_states = next_states[rates >= np.max(rates)]\n",
    "                rewards = rewards[rates >= np.max(rates)]\n",
    "                dones = dones[rates >= np.max(rates)]\n",
    "                rates = rates[rates >= np.max(rates)]\n",
    "                if np.count_nonzero(dones) > 0 and len(dones) > 1 and np.max(rates) > 0:\n",
    "                    break\n",
    "            aloss, _ = sess.run([model.a_loss, model.a_opt],\n",
    "                                  feed_dict = {model.states: states, \n",
    "                                               model.actions: actions,\n",
    "                                               model.next_states: next_states,\n",
    "                                               model.rewards: rewards,\n",
    "                                               model.dones: dones,\n",
    "                                               model.rates: rates})\n",
    "            eloss, _ = sess.run([model.e_loss, model.e_opt],\n",
    "                                  feed_dict = {model.states: states, \n",
    "                                               model.actions: actions,\n",
    "                                               model.next_states: next_states,\n",
    "                                               model.rewards: rewards,\n",
    "                                               model.dones: dones,\n",
    "                                               model.rates: rates})\n",
    "            aloss2, _= sess.run([model.a_loss2, model.a_opt2], \n",
    "                                 feed_dict = {model.states: states, \n",
    "                                              model.actions: actions,\n",
    "                                              model.next_states: next_states,\n",
    "                                              model.rewards: rewards,\n",
    "                                              model.dones: dones,\n",
    "                                              model.rates: rates})\n",
    "            # print(len(dones), np.count_nonzero(dones), np.max(rates))\n",
    "            aloss_batch.append(aloss)\n",
    "            eloss_batch.append(eloss)\n",
    "            aloss2_batch.append(aloss2)\n",
    "            if done is True:\n",
    "                break\n",
    "                \n",
    "        # Rating the latest played episode\n",
    "        rate = total_reward/500 # update rate at the end/ when episode is done\n",
    "        for idx in range(num_step): # episode length\n",
    "            if memory.buffer[-1-idx][-1] == -1: # double-check the landmark/marked indexes\n",
    "                memory.buffer[-1-idx][-1] = rate # rate the trajectory/data\n",
    "\n",
    "        # Print out\n",
    "        episode_reward.append(total_reward)\n",
    "        print('Episode:{}'.format(ep),\n",
    "              'meanR:{:.4f}'.format(np.mean(episode_reward)),\n",
    "              'R:{:.4f}'.format(total_reward),\n",
    "              'rate:{:.4f}'.format(rate),\n",
    "              'aloss:{:.4f}'.format(np.mean(aloss_batch)),\n",
    "              'eloss:{:.4f}'.format(np.mean(eloss_batch)),\n",
    "              'aloss2:{:.4f}'.format(np.mean(aloss2_batch)),\n",
    "              'exploreP:{:.4f}'.format(explore_p))\n",
    "\n",
    "        # Ploting out\n",
    "        episode_rewards_list.append([ep, np.mean(episode_reward)])\n",
    "        rewards_list.append([ep, total_reward])\n",
    "        aloss_list.append([ep, np.mean(aloss_batch)])\n",
    "        eloss_list.append([ep, np.mean(eloss_batch)])\n",
    "        aloss2_list.append([ep, np.mean(aloss2_batch)])\n",
    "        \n",
    "        # Break episode/epoch loop\n",
    "        ## Option 1: Solve the First Version\n",
    "        #The task is episodic, and in order to solve the environment, \n",
    "        #your agent must get an average score of +30 over 100 consecutive episodes.\n",
    "        if np.mean(episode_reward) >= 500:\n",
    "            break\n",
    "            \n",
    "    # At the end of all training episodes/epochs\n",
    "    saver.save(sess, 'checkpoints/model.ckpt')"
   ]
  },
  {
   "cell_type": "markdown",
   "metadata": {},
   "source": [
    "# Visualizing training\n",
    "\n",
    "Below I'll plot the total rewards for each episode. I'm plotting the rolling average too, in blue."
   ]
  },
  {
   "cell_type": "code",
   "execution_count": null,
   "metadata": {},
   "outputs": [],
   "source": [
    "import matplotlib.pyplot as plt\n",
    "%matplotlib inline\n",
    "\n",
    "def running_mean(x, N):\n",
    "    cumsum = np.cumsum(np.insert(x, 0, 0)) \n",
    "    return (cumsum[N:] - cumsum[:-N]) / N "
   ]
  },
  {
   "cell_type": "code",
   "execution_count": null,
   "metadata": {},
   "outputs": [],
   "source": [
    "eps, arr = np.array(episode_rewards_list).T\n",
    "smoothed_arr = running_mean(arr, 10)\n",
    "plt.plot(eps[-len(smoothed_arr):], smoothed_arr)\n",
    "plt.plot(eps, arr, color='grey', alpha=0.3)\n",
    "plt.xlabel('Episode')\n",
    "plt.ylabel('Total rewards')"
   ]
  },
  {
   "cell_type": "code",
   "execution_count": 22,
   "metadata": {},
   "outputs": [
    {
     "data": {
      "text/plain": [
       "Text(0, 0.5, 'Total rewards')"
      ]
     },
     "execution_count": 22,
     "metadata": {},
     "output_type": "execute_result"
    },
    {
     "data": {
      "image/png": "[encoded data removed]",
      "text/plain": [
       "<Figure size 432x288 with 1 Axes>"
      ]
     },
     "metadata": {
      "needs_background": "light"
     },
     "output_type": "display_data"
    }
   ],
   "source": [
    "eps, arr = np.array(episode_rewards_list).T\n",
    "smoothed_arr = running_mean(arr, 10)\n",
    "plt.plot(eps[-len(smoothed_arr):], smoothed_arr)\n",
    "plt.plot(eps, arr, color='grey', alpha=0.3)\n",
    "plt.xlabel('Episode')\n",
    "plt.ylabel('Total rewards')"
   ]
  },
  {
   "cell_type": "code",
   "execution_count": null,
   "metadata": {},
   "outputs": [],
   "source": [
    "eps, arr = np.array(rewards_list).T\n",
    "smoothed_arr = running_mean(arr, 10)\n",
    "plt.plot(eps[-len(smoothed_arr):], smoothed_arr)\n",
    "plt.plot(eps, arr, color='grey', alpha=0.3)\n",
    "plt.xlabel('Episode')\n",
    "plt.ylabel('Total rewards')"
   ]
  },
  {
   "cell_type": "code",
   "execution_count": 23,
   "metadata": {},
   "outputs": [
    {
     "data": {
      "text/plain": [
       "Text(0, 0.5, 'Total rewards')"
      ]
     },
     "execution_count": 23,
     "metadata": {},
     "output_type": "execute_result"
    },
    {
     "data": {
      "image/png": "[encoded data removed]",
      "text/plain": [
       "<Figure size 432x288 with 1 Axes>"
      ]
     },
     "metadata": {
      "needs_background": "light"
     },
     "output_type": "display_data"
    }
   ],
   "source": [
    "eps, arr = np.array(rewards_list).T\n",
    "smoothed_arr = running_mean(arr, 10)\n",
    "plt.plot(eps[-len(smoothed_arr):], smoothed_arr)\n",
    "plt.plot(eps, arr, color='grey', alpha=0.3)\n",
    "plt.xlabel('Episode')\n",
    "plt.ylabel('Total rewards')"
   ]
  },
  {
   "cell_type": "code",
   "execution_count": 24,
   "metadata": {},
   "outputs": [
    {
     "data": {
      "text/plain": [
       "Text(0, 0.5, 'Act losses')"
      ]
     },
     "execution_count": 24,
     "metadata": {},
     "output_type": "execute_result"
    },
    {
     "data": {
      "image/png": "[encoded data removed]",
      "text/plain": [
       "<Figure size 432x288 with 1 Axes>"
      ]
     },
     "metadata": {
      "needs_background": "light"
     },
     "output_type": "display_data"
    }
   ],
   "source": [
    "eps, arr = np.array(aloss_list).T\n",
    "smoothed_arr = running_mean(arr, 10)\n",
    "plt.plot(eps[-len(smoothed_arr):], smoothed_arr)\n",
    "plt.plot(eps, arr, color='grey', alpha=0.3)\n",
    "plt.xlabel('Episode')\n",
    "plt.ylabel('Act losses')"
   ]
  },
  {
   "cell_type": "code",
   "execution_count": 25,
   "metadata": {},
   "outputs": [
    {
     "data": {
      "text/plain": [
       "Text(0, 0.5, 'Env losses')"
      ]
     },
     "execution_count": 25,
     "metadata": {},
     "output_type": "execute_result"
    },
    {
     "data": {
      "image/png": "[encoded data removed]",
      "text/plain": [
       "<Figure size 432x288 with 1 Axes>"
      ]
     },
     "metadata": {
      "needs_background": "light"
     },
     "output_type": "display_data"
    }
   ],
   "source": [
    "eps, arr = np.array(eloss_list).T\n",
    "smoothed_arr = running_mean(arr, 10)\n",
    "plt.plot(eps[-len(smoothed_arr):], smoothed_arr)\n",
    "plt.plot(eps, arr, color='grey', alpha=0.3)\n",
    "plt.xlabel('Episode')\n",
    "plt.ylabel('Env losses')"
   ]
  },
  {
   "cell_type": "code",
   "execution_count": 26,
   "metadata": {},
   "outputs": [
    {
     "data": {
      "text/plain": [
       "Text(0, 0.5, 'Act losses 2')"
      ]
     },
     "execution_count": 26,
     "metadata": {},
     "output_type": "execute_result"
    },
    {
     "data": {
      "image/png": "[encoded data removed]",
      "text/plain": [
       "<Figure size 432x288 with 1 Axes>"
      ]
     },
     "metadata": {
      "needs_background": "light"
     },
     "output_type": "display_data"
    }
   ],
   "source": [
    "eps, arr = np.array(aloss2_list).T\n",
    "smoothed_arr = running_mean(arr, 10)\n",
    "plt.plot(eps[-len(smoothed_arr):], smoothed_arr)\n",
    "plt.plot(eps, arr, color='grey', alpha=0.3)\n",
    "plt.xlabel('Episode')\n",
    "plt.ylabel('Act losses 2')"
   ]
  },
  {
   "cell_type": "markdown",
   "metadata": {},
   "source": [
    "## Testing\n",
    "\n",
    "Let's checkout how our trained agent plays the game."
   ]
  },
  {
   "cell_type": "code",
   "execution_count": 21,
   "metadata": {},
   "outputs": [
    {
     "name": "stdout",
     "output_type": "stream",
     "text": [
      "INFO:tensorflow:Restoring parameters from checkpoints/model.ckpt\n",
      "total_reward: 500.0\n",
      "total_reward: 500.0\n",
      "total_reward: 500.0\n",
      "total_reward: 500.0\n",
      "total_reward: 500.0\n",
      "total_reward: 500.0\n",
      "total_reward: 500.0\n",
      "total_reward: 500.0\n",
      "total_reward: 500.0\n",
      "total_reward: 500.0\n"
     ]
    }
   ],
   "source": [
    "import gym\n",
    "env = gym.make('CartPole-v0')\n",
    "env = gym.make('CartPole-v1')\n",
    "\n",
    "with tf.Session() as sess:\n",
    "    sess.run(tf.global_variables_initializer())\n",
    "    saver.restore(sess, 'checkpoints/model.ckpt')    \n",
    "    #saver.restore(sess, tf.train.latest_checkpoint('checkpoints'))\n",
    "    \n",
    "    # Episodes/epochs\n",
    "    for _ in range(10):\n",
    "        state = env.reset()\n",
    "        total_reward = 0\n",
    "\n",
    "        # Steps/batches\n",
    "        while True:\n",
    "            env.render()\n",
    "            action_logits = sess.run(model.actions_logits, feed_dict={model.states: state.reshape([1, -1])})\n",
    "            action = np.argmax(action_logits)\n",
    "            state, reward, done, _ = env.step(action)\n",
    "            total_reward += reward\n",
    "            if done:\n",
    "                print('total_reward: {}'.format(total_reward))\n",
    "                break\n",
    "                \n",
    "env.close()"
   ]
  },
  {
   "cell_type": "code",
   "execution_count": null,
   "metadata": {},
   "outputs": [],
   "source": []
  }
 ],
 "metadata": {
  "kernelspec": {
   "display_name": "Python 3",
   "language": "python",
   "name": "python3"
  },
  "language_info": {
   "codemirror_mode": {
    "name": "ipython",
    "version": 3
   },
   "file_extension": ".py",
   "mimetype": "text/x-python",
   "name": "python",
   "nbconvert_exporter": "python",
   "pygments_lexer": "ipython3",
   "version": "3.6.6"
  }
 },
 "nbformat": 4,
 "nbformat_minor": 2
}
