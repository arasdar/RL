{
 "cells": [
  {
   "cell_type": "markdown",
   "metadata": {},
   "source": [
    "# Continuous Control\n",
    "\n",
    "---\n",
    "\n",
    "You are welcome to use this coding environment to train your agent for the project.  Follow the instructions below to get started!\n",
    "\n",
    "### 1. Start the Environment"
   ]
  },
  {
   "cell_type": "code",
   "execution_count": 1,
   "metadata": {},
   "outputs": [],
   "source": [
    "import gym\n",
    "import random\n",
    "import torch\n",
    "import numpy as np\n",
    "from collections import deque\n",
    "import matplotlib.pyplot as plt\n",
    "%matplotlib inline"
   ]
  },
  {
   "cell_type": "markdown",
   "metadata": {},
   "source": [
    "Environments contain **_brains_** which are responsible for deciding the actions of their associated agents. Here we check for the first brain available, and set it as the default brain we will be controlling from Python."
   ]
  },
  {
   "cell_type": "code",
   "execution_count": 2,
   "metadata": {},
   "outputs": [
    {
     "name": "stderr",
     "output_type": "stream",
     "text": [
      "/home/arasdar/anaconda3/lib/python3.6/site-packages/gym/envs/registration.py:14: PkgResourcesDeprecationWarning: Parameters to load are deprecated.  Call .resolve and .require separately.\n",
      "  result = entry_point.load(False)\n"
     ]
    },
    {
     "data": {
      "text/plain": [
       "[10]"
      ]
     },
     "execution_count": 2,
     "metadata": {},
     "output_type": "execute_result"
    }
   ],
   "source": [
    "env = gym.make('Pendulum-v0')\n",
    "\n",
    "random_seed = 10\n",
    "env.seed(random_seed)\n",
    "\n",
    "# from agent import Agent\n",
    "# agent = Agent(state_size=env.observation_space.shape[0], action_size=env.action_space.shape[0], \n",
    "#               random_seed=random_seed)"
   ]
  },
  {
   "cell_type": "markdown",
   "metadata": {},
   "source": [
    "### 2. Examine the State and Action Spaces\n",
    "\n",
    "Run the code cell below to print some information about the environment."
   ]
  },
  {
   "cell_type": "code",
   "execution_count": 3,
   "metadata": {},
   "outputs": [
    {
     "data": {
      "text/plain": [
       "(Box(1,), Box(3,))"
      ]
     },
     "execution_count": 3,
     "metadata": {},
     "output_type": "execute_result"
    }
   ],
   "source": [
    "env.action_space, env.observation_space"
   ]
  },
  {
   "cell_type": "code",
   "execution_count": 4,
   "metadata": {},
   "outputs": [],
   "source": [
    "action_size = env.action_space.shape[0]\n",
    "state_size = env.observation_space.shape[0]"
   ]
  },
  {
   "cell_type": "code",
   "execution_count": 5,
   "metadata": {},
   "outputs": [
    {
     "data": {
      "text/plain": [
       "(1, 3)"
      ]
     },
     "execution_count": 5,
     "metadata": {},
     "output_type": "execute_result"
    }
   ],
   "source": [
    "action_size, state_size"
   ]
  },
  {
   "cell_type": "code",
   "execution_count": 6,
   "metadata": {},
   "outputs": [
    {
     "data": {
      "text/plain": [
       "(array([-1., -1., -8.], dtype=float32), array([1., 1., 8.], dtype=float32))"
      ]
     },
     "execution_count": 6,
     "metadata": {},
     "output_type": "execute_result"
    }
   ],
   "source": [
    "env.observation_space.low, env.observation_space.high"
   ]
  },
  {
   "cell_type": "code",
   "execution_count": 7,
   "metadata": {},
   "outputs": [
    {
     "data": {
      "text/plain": [
       "(array([-2.], dtype=float32), array([2.], dtype=float32))"
      ]
     },
     "execution_count": 7,
     "metadata": {},
     "output_type": "execute_result"
    }
   ],
   "source": [
    "env.action_space.low, env.action_space.high"
   ]
  },
  {
   "cell_type": "markdown",
   "metadata": {},
   "source": [
    "### 3. Instantiate DDPG Agent"
   ]
  },
  {
   "cell_type": "code",
   "execution_count": 8,
   "metadata": {},
   "outputs": [],
   "source": [
    "from agent2 import Agent\n",
    "\n",
    "agent = Agent(s_size=state_size, a_size=action_size, random_seed=random_seed)"
   ]
  },
  {
   "cell_type": "markdown",
   "metadata": {},
   "source": [
    "### 4. Train the Agent with DDPG"
   ]
  },
  {
   "cell_type": "code",
   "execution_count": 9,
   "metadata": {},
   "outputs": [],
   "source": [
    "from collections import deque\n",
    "import numpy as np\n",
    "import time\n",
    "import torch\n",
    "\n",
    "n_episodes=1000\n",
    "# n_steps=1000\n",
    "n_learn=1\n",
    "# learn_every=20\n",
    "R_goal=-100 # TOCHECK\n",
    "Rs_deque = deque(maxlen=100)\n",
    "meanRs = [] # plot\n",
    "Rs = [] # plot\n",
    "dlosses = []\n",
    "glosses = []"
   ]
  },
  {
   "cell_type": "code",
   "execution_count": null,
   "metadata": {},
   "outputs": [
    {
     "name": "stdout",
     "output_type": "stream",
     "text": [
      "Episode 1\tTotal Average Score: -883.57\tGloss: 0.00, \tDloss: 0.00\n",
      "Episode 2\tTotal Average Score: -1367.03\tGloss: 0.00, \tDloss: 0.00\n",
      "Episode 3\tTotal Average Score: -1157.02\tGloss: 0.00, \tDloss: 0.00\n",
      "Episode 4\tTotal Average Score: -1088.51\tGloss: 0.00, \tDloss: 0.00\n",
      "Episode 5\tTotal Average Score: -1185.62\tGloss: 0.00, \tDloss: 0.00\n",
      "Episode 6\tTotal Average Score: -1261.77\tGloss: 0.05, \tDloss: 57.61\n",
      "Episode 7\tTotal Average Score: -1296.57\tGloss: 0.10, \tDloss: 65.27\n",
      "Episode 8\tTotal Average Score: -1281.78\tGloss: 0.15, \tDloss: 65.40\n",
      "Episode 9\tTotal Average Score: -1255.09\tGloss: 0.18, \tDloss: 66.49\n",
      "Episode 10\tTotal Average Score: -1288.76\tGloss: 0.23, \tDloss: 66.45\n",
      "Episode 11\tTotal Average Score: -1303.69\tGloss: 0.27, \tDloss: 65.84\n",
      "Episode 12\tTotal Average Score: -1318.03\tGloss: 0.33, \tDloss: 64.99\n",
      "Episode 13\tTotal Average Score: -1340.51\tGloss: 0.38, \tDloss: 64.52\n",
      "Episode 14\tTotal Average Score: -1381.06\tGloss: 0.44, \tDloss: 65.73\n",
      "Episode 15\tTotal Average Score: -1390.55\tGloss: 0.50, \tDloss: 66.00\n",
      "Episode 16\tTotal Average Score: -1396.66\tGloss: 0.56, \tDloss: 65.49\n",
      "Episode 17\tTotal Average Score: -1411.58\tGloss: 0.62, \tDloss: 65.51\n",
      "Episode 18\tTotal Average Score: -1432.35\tGloss: 0.68, \tDloss: 65.62\n",
      "Episode 19\tTotal Average Score: -1450.98\tGloss: 0.75, \tDloss: 66.18\n",
      "Episode 20\tTotal Average Score: -1460.80\tGloss: 0.81, \tDloss: 66.44\n",
      "Episode 21\tTotal Average Score: -1455.90\tGloss: 0.87, \tDloss: 65.99\n",
      "Episode 22\tTotal Average Score: -1455.82\tGloss: 0.94, \tDloss: 65.21\n",
      "Episode 23\tTotal Average Score: -1450.76\tGloss: 1.00, \tDloss: 64.63\n",
      "Episode 24\tTotal Average Score: -1451.53\tGloss: 1.06, \tDloss: 64.09\n",
      "Episode 25\tTotal Average Score: -1465.37\tGloss: 1.12, \tDloss: 64.29\n",
      "Episode 26\tTotal Average Score: -1473.32\tGloss: 1.19, \tDloss: 64.46\n",
      "Episode 27\tTotal Average Score: -1486.49\tGloss: 1.25, \tDloss: 64.84\n",
      "Episode 28\tTotal Average Score: -1493.42\tGloss: 1.32, \tDloss: 65.22\n",
      "Episode 29\tTotal Average Score: -1505.72\tGloss: 1.39, \tDloss: 66.01\n",
      "Episode 30\tTotal Average Score: -1515.05\tGloss: 1.45, \tDloss: 66.25\n",
      "Episode 31\tTotal Average Score: -1518.29\tGloss: 1.52, \tDloss: 66.32\n",
      "Episode 32\tTotal Average Score: -1525.42\tGloss: 1.58, \tDloss: 66.67\n",
      "Episode 33\tTotal Average Score: -1528.48\tGloss: 1.64, \tDloss: 66.72\n",
      "Episode 34\tTotal Average Score: -1536.42\tGloss: 1.71, \tDloss: 67.01\n",
      "Episode 35\tTotal Average Score: -1543.07\tGloss: 1.78, \tDloss: 67.19\n",
      "Episode 36\tTotal Average Score: -1550.20\tGloss: 1.84, \tDloss: 67.44\n",
      "Episode 37\tTotal Average Score: -1555.68\tGloss: 1.91, \tDloss: 67.75\n",
      "Episode 38\tTotal Average Score: -1556.97\tGloss: 1.97, \tDloss: 67.64\n",
      "Episode 39\tTotal Average Score: -1563.61\tGloss: 2.04, \tDloss: 68.01\n",
      "Episode 40\tTotal Average Score: -1570.57\tGloss: 2.10, \tDloss: 68.36\n",
      "Episode 41\tTotal Average Score: -1576.84\tGloss: 2.17, \tDloss: 68.68\n",
      "Episode 42\tTotal Average Score: -1581.24\tGloss: 2.23, \tDloss: 68.96\n",
      "Episode 43\tTotal Average Score: -1589.27\tGloss: 2.30, \tDloss: 69.28\n",
      "Episode 44\tTotal Average Score: -1594.45\tGloss: 2.36, \tDloss: 69.64\n",
      "Episode 45\tTotal Average Score: -1602.63\tGloss: 2.43, \tDloss: 70.20\n",
      "Episode 46\tTotal Average Score: -1607.31\tGloss: 2.49, \tDloss: 70.28\n",
      "Episode 47\tTotal Average Score: -1610.52\tGloss: 2.56, \tDloss: 70.64\n",
      "Episode 48\tTotal Average Score: -1614.81\tGloss: 2.62, \tDloss: 70.95\n",
      "Episode 49\tTotal Average Score: -1619.31\tGloss: 2.69, \tDloss: 71.21\n",
      "Episode 50\tTotal Average Score: -1623.30\tGloss: 2.75, \tDloss: 71.32\n",
      "Episode 51\tTotal Average Score: -1626.91\tGloss: 2.82, \tDloss: 71.61\n",
      "Episode 52\tTotal Average Score: -1629.05\tGloss: 2.88, \tDloss: 71.83\n",
      "Episode 53\tTotal Average Score: -1632.29\tGloss: 2.95, \tDloss: 71.79\n",
      "Episode 54\tTotal Average Score: -1634.38\tGloss: 3.01, \tDloss: 71.82\n",
      "Episode 55\tTotal Average Score: -1637.15\tGloss: 3.08, \tDloss: 71.86\n",
      "Episode 56\tTotal Average Score: -1638.55\tGloss: 3.14, \tDloss: 72.10\n",
      "Episode 57\tTotal Average Score: -1640.25\tGloss: 3.21, \tDloss: 72.09\n",
      "Episode 58\tTotal Average Score: -1640.70\tGloss: 3.27, \tDloss: 72.10\n",
      "Episode 59\tTotal Average Score: -1641.08\tGloss: 3.33, \tDloss: 71.89\n",
      "Episode 60\tTotal Average Score: -1642.32\tGloss: 3.40, \tDloss: 72.06\n",
      "Episode 61\tTotal Average Score: -1642.02\tGloss: 3.46, \tDloss: 71.97\n",
      "Episode 62\tTotal Average Score: -1639.93\tGloss: 3.53, \tDloss: 71.76\n",
      "Episode 63\tTotal Average Score: -1638.77\tGloss: 3.59, \tDloss: 71.54\n",
      "Episode 64\tTotal Average Score: -1638.74\tGloss: 3.65, \tDloss: 71.35\n",
      "Episode 65\tTotal Average Score: -1638.57\tGloss: 3.72, \tDloss: 71.31\n",
      "Episode 66\tTotal Average Score: -1638.22\tGloss: 3.78, \tDloss: 71.26\n",
      "Episode 67\tTotal Average Score: -1637.75\tGloss: 3.84, \tDloss: 71.11\n",
      "Episode 68\tTotal Average Score: -1637.43\tGloss: 3.91, \tDloss: 70.85\n",
      "Episode 69\tTotal Average Score: -1637.17\tGloss: 3.97, \tDloss: 70.79\n",
      "Episode 70\tTotal Average Score: -1636.12\tGloss: 4.03, \tDloss: 70.71\n",
      "Episode 71\tTotal Average Score: -1634.84\tGloss: 4.09, \tDloss: 70.57\n",
      "Episode 72\tTotal Average Score: -1634.78\tGloss: 4.16, \tDloss: 70.35\n",
      "Episode 73\tTotal Average Score: -1634.75\tGloss: 4.22, \tDloss: 70.32\n",
      "Episode 74\tTotal Average Score: -1635.01\tGloss: 4.28, \tDloss: 70.18\n",
      "Episode 75\tTotal Average Score: -1635.13\tGloss: 4.35, \tDloss: 70.10\n",
      "Episode 76\tTotal Average Score: -1634.93\tGloss: 4.41, \tDloss: 70.04\n",
      "Episode 77\tTotal Average Score: -1634.51\tGloss: 4.47, \tDloss: 70.04\n",
      "Episode 78\tTotal Average Score: -1634.89\tGloss: 4.54, \tDloss: 69.92\n",
      "Episode 79\tTotal Average Score: -1634.54\tGloss: 4.60, \tDloss: 69.87\n",
      "Episode 80\tTotal Average Score: -1634.79\tGloss: 4.66, \tDloss: 69.77\n",
      "Episode 81\tTotal Average Score: -1635.60\tGloss: 4.73, \tDloss: 69.72\n",
      "Episode 82\tTotal Average Score: -1635.73\tGloss: 4.79, \tDloss: 69.73\n",
      "Episode 83\tTotal Average Score: -1636.75\tGloss: 4.85, \tDloss: 69.72\n",
      "Episode 84\tTotal Average Score: -1636.56\tGloss: 4.92, \tDloss: 69.68\n",
      "Episode 85\tTotal Average Score: -1636.88\tGloss: 4.98, \tDloss: 69.63\n",
      "Episode 86\tTotal Average Score: -1638.18\tGloss: 5.04, \tDloss: 69.74\n",
      "Episode 87\tTotal Average Score: -1638.30\tGloss: 5.11, \tDloss: 69.74\n",
      "Episode 88\tTotal Average Score: -1636.93\tGloss: 5.17, \tDloss: 69.69\n",
      "Episode 89\tTotal Average Score: -1636.40\tGloss: 5.23, \tDloss: 69.60\n",
      "Episode 90\tTotal Average Score: -1635.86\tGloss: 5.29, \tDloss: 69.35\n",
      "Episode 91\tTotal Average Score: -1635.89\tGloss: 5.36, \tDloss: 69.51\n",
      "Episode 92\tTotal Average Score: -1635.94\tGloss: 5.42, \tDloss: 69.48\n",
      "Episode 93\tTotal Average Score: -1636.13\tGloss: 5.48, \tDloss: 69.37\n",
      "Episode 94\tTotal Average Score: -1634.29\tGloss: 5.55, \tDloss: 69.15\n",
      "Episode 95\tTotal Average Score: -1633.53\tGloss: 5.61, \tDloss: 69.12\n",
      "Episode 96\tTotal Average Score: -1632.58\tGloss: 5.67, \tDloss: 68.99\n",
      "Episode 97\tTotal Average Score: -1631.29\tGloss: 5.73, \tDloss: 68.84\n",
      "Episode 98\tTotal Average Score: -1630.36\tGloss: 5.80, \tDloss: 68.76\n",
      "Episode 99\tTotal Average Score: -1629.72\tGloss: 5.86, \tDloss: 68.64\n",
      "Episode 100\tTotal Average Score: -1629.31\tGloss: 5.92, \tDloss: 68.61\n",
      "Episode 101\tTotal Average Score: -1635.76\tGloss: 5.98, \tDloss: 68.43\n",
      "Episode 102\tTotal Average Score: -1632.41\tGloss: 6.05, \tDloss: 68.24\n",
      "Episode 103\tTotal Average Score: -1640.58\tGloss: 6.11, \tDloss: 68.27\n",
      "Episode 104\tTotal Average Score: -1646.97\tGloss: 6.17, \tDloss: 68.05\n",
      "Episode 105\tTotal Average Score: -1646.51\tGloss: 6.23, \tDloss: 67.97\n",
      "Episode 106\tTotal Average Score: -1645.51\tGloss: 6.29, \tDloss: 67.86\n",
      "Episode 107\tTotal Average Score: -1645.97\tGloss: 6.36, \tDloss: 67.79\n",
      "Episode 108\tTotal Average Score: -1649.19\tGloss: 6.42, \tDloss: 67.57\n",
      "Episode 109\tTotal Average Score: -1653.90\tGloss: 6.48, \tDloss: 67.55\n",
      "Episode 110\tTotal Average Score: -1653.21\tGloss: 6.54, \tDloss: 67.39\n",
      "Episode 111\tTotal Average Score: -1653.87\tGloss: 6.60, \tDloss: 67.32\n",
      "Episode 112\tTotal Average Score: -1654.36\tGloss: 6.66, \tDloss: 67.25\n",
      "Episode 113\tTotal Average Score: -1653.70\tGloss: 6.72, \tDloss: 67.07\n",
      "Episode 114\tTotal Average Score: -1647.70\tGloss: 6.79, \tDloss: 66.98\n",
      "Episode 115\tTotal Average Score: -1647.53\tGloss: 6.85, \tDloss: 66.87\n",
      "Episode 116\tTotal Average Score: -1648.10\tGloss: 6.91, \tDloss: 66.75\n",
      "Episode 117\tTotal Average Score: -1647.01\tGloss: 6.97, \tDloss: 66.63\n",
      "Episode 118\tTotal Average Score: -1643.45\tGloss: 7.03, \tDloss: 66.67\n",
      "Episode 119\tTotal Average Score: -1640.68\tGloss: 7.09, \tDloss: 66.33\n",
      "Episode 120\tTotal Average Score: -1638.92\tGloss: 7.15, \tDloss: 66.32\n",
      "Episode 121\tTotal Average Score: -1640.80\tGloss: 7.21, \tDloss: 66.26\n"
     ]
    },
    {
     "name": "stdout",
     "output_type": "stream",
     "text": [
      "Episode 122\tTotal Average Score: -1641.36\tGloss: 7.27, \tDloss: 66.11\n",
      "Episode 123\tTotal Average Score: -1643.36\tGloss: 7.33, \tDloss: 66.02\n",
      "Episode 124\tTotal Average Score: -1644.42\tGloss: 7.40, \tDloss: 65.90\n",
      "Episode 125\tTotal Average Score: -1641.26\tGloss: 7.46, \tDloss: 65.88\n",
      "Episode 126\tTotal Average Score: -1638.29\tGloss: 7.52, \tDloss: 65.79\n",
      "Episode 127\tTotal Average Score: -1635.44\tGloss: 7.58, \tDloss: 65.67\n",
      "Episode 128\tTotal Average Score: -1634.20\tGloss: 7.64, \tDloss: 65.71\n",
      "Episode 129\tTotal Average Score: -1630.86\tGloss: 7.70, \tDloss: 65.51\n",
      "Episode 130\tTotal Average Score: -1627.70\tGloss: 7.76, \tDloss: 65.51\n",
      "Episode 131\tTotal Average Score: -1627.25\tGloss: 7.82, \tDloss: 65.40\n",
      "Episode 132\tTotal Average Score: -1625.37\tGloss: 7.88, \tDloss: 65.39\n",
      "Episode 133\tTotal Average Score: -1624.56\tGloss: 7.94, \tDloss: 65.27\n",
      "Episode 134\tTotal Average Score: -1622.07\tGloss: 8.00, \tDloss: 65.18\n",
      "Episode 135\tTotal Average Score: -1619.80\tGloss: 8.06, \tDloss: 65.18\n",
      "Episode 136\tTotal Average Score: -1616.54\tGloss: 8.13, \tDloss: 65.09\n",
      "Episode 137\tTotal Average Score: -1614.43\tGloss: 8.19, \tDloss: 65.05\n",
      "Episode 138\tTotal Average Score: -1613.85\tGloss: 8.25, \tDloss: 64.88\n",
      "Episode 139\tTotal Average Score: -1610.51\tGloss: 8.31, \tDloss: 64.82\n",
      "Episode 140\tTotal Average Score: -1606.83\tGloss: 8.37, \tDloss: 64.79\n",
      "Episode 141\tTotal Average Score: -1603.72\tGloss: 8.43, \tDloss: 64.70\n",
      "Episode 142\tTotal Average Score: -1601.37\tGloss: 8.49, \tDloss: 64.62\n",
      "Episode 143\tTotal Average Score: -1596.88\tGloss: 8.55, \tDloss: 64.48\n",
      "Episode 144\tTotal Average Score: -1593.87\tGloss: 8.61, \tDloss: 64.35\n",
      "Episode 145\tTotal Average Score: -1588.65\tGloss: 8.67, \tDloss: 64.33\n",
      "Episode 146\tTotal Average Score: -1585.86\tGloss: 8.73, \tDloss: 64.32\n",
      "Episode 147\tTotal Average Score: -1579.19\tGloss: 8.79, \tDloss: 64.22\n",
      "Episode 148\tTotal Average Score: -1576.26\tGloss: 8.85, \tDloss: 64.04\n",
      "Episode 149\tTotal Average Score: -1572.32\tGloss: 8.91, \tDloss: 63.97\n",
      "Episode 150\tTotal Average Score: -1568.51\tGloss: 8.97, \tDloss: 63.82\n",
      "Episode 151\tTotal Average Score: -1565.61\tGloss: 9.04, \tDloss: 63.81\n",
      "Episode 152\tTotal Average Score: -1562.39\tGloss: 9.10, \tDloss: 63.83\n",
      "Episode 153\tTotal Average Score: -1558.58\tGloss: 9.16, \tDloss: 63.61\n",
      "Episode 154\tTotal Average Score: -1555.88\tGloss: 9.22, \tDloss: 63.58\n",
      "Episode 155\tTotal Average Score: -1552.11\tGloss: 9.28, \tDloss: 63.46\n",
      "Episode 156\tTotal Average Score: -1549.84\tGloss: 9.34, \tDloss: 63.33\n",
      "Episode 157\tTotal Average Score: -1547.43\tGloss: 9.40, \tDloss: 63.39\n",
      "Episode 158\tTotal Average Score: -1545.13\tGloss: 9.46, \tDloss: 63.18\n",
      "Episode 159\tTotal Average Score: -1542.92\tGloss: 9.52, \tDloss: 63.12\n",
      "Episode 160\tTotal Average Score: -1540.21\tGloss: 9.58, \tDloss: 63.09\n",
      "Episode 161\tTotal Average Score: -1538.47\tGloss: 9.65, \tDloss: 62.92\n",
      "Episode 162\tTotal Average Score: -1537.66\tGloss: 9.71, \tDloss: 62.90\n",
      "Episode 163\tTotal Average Score: -1537.33\tGloss: 9.77, \tDloss: 62.80\n",
      "Episode 164\tTotal Average Score: -1536.03\tGloss: 9.83, \tDloss: 62.81\n",
      "Episode 165\tTotal Average Score: -1534.55\tGloss: 9.89, \tDloss: 62.72\n",
      "Episode 166\tTotal Average Score: -1532.98\tGloss: 9.95, \tDloss: 62.59\n",
      "Episode 167\tTotal Average Score: -1530.90\tGloss: 10.01, \tDloss: 62.51\n",
      "Episode 168\tTotal Average Score: -1529.50\tGloss: 10.07, \tDloss: 62.53\n",
      "Episode 169\tTotal Average Score: -1528.43\tGloss: 10.14, \tDloss: 62.45\n",
      "Episode 170\tTotal Average Score: -1525.80\tGloss: 10.20, \tDloss: 62.33\n",
      "Episode 171\tTotal Average Score: -1524.99\tGloss: 10.26, \tDloss: 62.34\n",
      "Episode 172\tTotal Average Score: -1522.30\tGloss: 10.32, \tDloss: 62.13\n",
      "Episode 173\tTotal Average Score: -1520.53\tGloss: 10.38, \tDloss: 62.12\n",
      "Episode 174\tTotal Average Score: -1518.48\tGloss: 10.44, \tDloss: 62.06\n",
      "Episode 175\tTotal Average Score: -1515.06\tGloss: 10.50, \tDloss: 61.97\n",
      "Episode 176\tTotal Average Score: -1513.32\tGloss: 10.56, \tDloss: 61.76\n",
      "Episode 177\tTotal Average Score: -1512.06\tGloss: 10.62, \tDloss: 61.82\n",
      "Episode 178\tTotal Average Score: -1509.63\tGloss: 10.69, \tDloss: 61.71\n",
      "Episode 179\tTotal Average Score: -1508.07\tGloss: 10.75, \tDloss: 61.75\n",
      "Episode 180\tTotal Average Score: -1505.74\tGloss: 10.81, \tDloss: 61.63\n",
      "Episode 181\tTotal Average Score: -1502.81\tGloss: 10.87, \tDloss: 61.42\n",
      "Episode 182\tTotal Average Score: -1500.30\tGloss: 10.93, \tDloss: 61.40\n",
      "Episode 183\tTotal Average Score: -1497.29\tGloss: 10.99, \tDloss: 61.38\n",
      "Episode 184\tTotal Average Score: -1495.02\tGloss: 11.05, \tDloss: 61.19\n",
      "Episode 185\tTotal Average Score: -1492.29\tGloss: 11.11, \tDloss: 61.14\n",
      "Episode 186\tTotal Average Score: -1488.53\tGloss: 11.17, \tDloss: 61.07\n",
      "Episode 187\tTotal Average Score: -1485.90\tGloss: 11.23, \tDloss: 60.93\n",
      "Episode 188\tTotal Average Score: -1484.26\tGloss: 11.29, \tDloss: 60.81\n",
      "Episode 189\tTotal Average Score: -1482.02\tGloss: 11.35, \tDloss: 60.78\n",
      "Episode 190\tTotal Average Score: -1479.82\tGloss: 11.42, \tDloss: 60.71\n",
      "Episode 191\tTotal Average Score: -1477.64\tGloss: 11.48, \tDloss: 60.63\n",
      "Episode 192\tTotal Average Score: -1474.93\tGloss: 11.54, \tDloss: 60.57\n",
      "Episode 193\tTotal Average Score: -1472.09\tGloss: 11.60, \tDloss: 60.47\n",
      "Episode 194\tTotal Average Score: -1471.85\tGloss: 11.66, \tDloss: 60.43\n",
      "Episode 195\tTotal Average Score: -1469.48\tGloss: 11.72, \tDloss: 60.33\n",
      "Episode 196\tTotal Average Score: -1468.04\tGloss: 11.78, \tDloss: 60.24\n",
      "Episode 197\tTotal Average Score: -1466.60\tGloss: 11.84, \tDloss: 60.17\n",
      "Episode 198\tTotal Average Score: -1464.62\tGloss: 11.90, \tDloss: 59.97\n",
      "Episode 199\tTotal Average Score: -1462.33\tGloss: 11.96, \tDloss: 59.90\n",
      "Episode 200\tTotal Average Score: -1459.93\tGloss: 12.03, \tDloss: 59.87\n",
      "Episode 201\tTotal Average Score: -1458.50\tGloss: 12.08, \tDloss: 59.87\n",
      "Episode 202\tTotal Average Score: -1457.05\tGloss: 12.15, \tDloss: 59.81\n",
      "Episode 203\tTotal Average Score: -1454.68\tGloss: 12.21, \tDloss: 59.86\n",
      "Episode 204\tTotal Average Score: -1453.51\tGloss: 12.27, \tDloss: 59.58\n",
      "Episode 205\tTotal Average Score: -1452.12\tGloss: 12.33, \tDloss: 59.64\n",
      "Episode 206\tTotal Average Score: -1450.69\tGloss: 12.39, \tDloss: 59.58\n",
      "Episode 207\tTotal Average Score: -1449.08\tGloss: 12.45, \tDloss: 59.50\n",
      "Episode 208\tTotal Average Score: -1447.56\tGloss: 12.52, \tDloss: 59.38\n",
      "Episode 209\tTotal Average Score: -1446.50\tGloss: 12.57, \tDloss: 59.26\n",
      "Episode 210\tTotal Average Score: -1445.41\tGloss: 12.64, \tDloss: 59.20\n",
      "Episode 211\tTotal Average Score: -1444.28\tGloss: 12.70, \tDloss: 59.19\n",
      "Episode 212\tTotal Average Score: -1442.42\tGloss: 12.76, \tDloss: 59.10\n",
      "Episode 213\tTotal Average Score: -1439.86\tGloss: 12.82, \tDloss: 59.10\n",
      "Episode 214\tTotal Average Score: -1441.69\tGloss: 12.88, \tDloss: 59.05\n",
      "Episode 215\tTotal Average Score: -1440.65\tGloss: 12.94, \tDloss: 58.96\n",
      "Episode 216\tTotal Average Score: -1439.33\tGloss: 13.00, \tDloss: 58.88\n",
      "Episode 217\tTotal Average Score: -1437.97\tGloss: 13.06, \tDloss: 58.90\n",
      "Episode 218\tTotal Average Score: -1437.39\tGloss: 13.13, \tDloss: 58.87\n",
      "Episode 219\tTotal Average Score: -1436.81\tGloss: 13.19, \tDloss: 58.74\n",
      "Episode 220\tTotal Average Score: -1435.93\tGloss: 13.25, \tDloss: 58.65\n",
      "Episode 221\tTotal Average Score: -1434.36\tGloss: 13.31, \tDloss: 58.67\n",
      "Episode 222\tTotal Average Score: -1434.03\tGloss: 13.37, \tDloss: 58.58\n",
      "Episode 223\tTotal Average Score: -1432.47\tGloss: 13.43, \tDloss: 58.49\n",
      "Episode 224\tTotal Average Score: -1429.35\tGloss: 13.49, \tDloss: 58.46\n",
      "Episode 225\tTotal Average Score: -1427.30\tGloss: 13.55, \tDloss: 58.41\n",
      "Episode 226\tTotal Average Score: -1427.60\tGloss: 13.62, \tDloss: 58.36\n",
      "Episode 227\tTotal Average Score: -1426.10\tGloss: 13.68, \tDloss: 58.26\n",
      "Episode 228\tTotal Average Score: -1424.74\tGloss: 13.74, \tDloss: 58.33\n",
      "Episode 229\tTotal Average Score: -1424.17\tGloss: 13.80, \tDloss: 58.20\n",
      "Episode 230\tTotal Average Score: -1423.49\tGloss: 13.86, \tDloss: 58.22\n",
      "Episode 231\tTotal Average Score: -1421.41\tGloss: 13.92, \tDloss: 58.02\n",
      "Episode 232\tTotal Average Score: -1419.85\tGloss: 13.98, \tDloss: 58.05\n",
      "Episode 233\tTotal Average Score: -1418.25\tGloss: 14.05, \tDloss: 57.91\n",
      "Episode 234\tTotal Average Score: -1417.86\tGloss: 14.11, \tDloss: 57.95\n",
      "Episode 235\tTotal Average Score: -1416.76\tGloss: 14.17, \tDloss: 57.88\n",
      "Episode 236\tTotal Average Score: -1415.34\tGloss: 14.23, \tDloss: 57.93\n",
      "Episode 237\tTotal Average Score: -1413.16\tGloss: 14.29, \tDloss: 57.90\n",
      "Episode 238\tTotal Average Score: -1411.74\tGloss: 14.35, \tDloss: 57.71\n",
      "Episode 239\tTotal Average Score: -1409.51\tGloss: 14.42, \tDloss: 57.75\n"
     ]
    },
    {
     "name": "stdout",
     "output_type": "stream",
     "text": [
      "Episode 240\tTotal Average Score: -1408.86\tGloss: 14.48, \tDloss: 57.62\n",
      "Episode 241\tTotal Average Score: -1406.91\tGloss: 14.54, \tDloss: 57.59\n",
      "Episode 242\tTotal Average Score: -1405.72\tGloss: 14.60, \tDloss: 57.46\n",
      "Episode 243\tTotal Average Score: -1405.70\tGloss: 14.66, \tDloss: 57.52\n",
      "Episode 244\tTotal Average Score: -1404.48\tGloss: 14.72, \tDloss: 57.41\n",
      "Episode 245\tTotal Average Score: -1403.71\tGloss: 14.79, \tDloss: 57.33\n",
      "Episode 246\tTotal Average Score: -1402.22\tGloss: 14.85, \tDloss: 57.46\n",
      "Episode 247\tTotal Average Score: -1405.14\tGloss: 14.91, \tDloss: 57.16\n",
      "Episode 248\tTotal Average Score: -1403.83\tGloss: 14.97, \tDloss: 57.28\n",
      "Episode 249\tTotal Average Score: -1403.02\tGloss: 15.03, \tDloss: 57.11\n",
      "Episode 250\tTotal Average Score: -1402.43\tGloss: 15.09, \tDloss: 57.13\n",
      "Episode 251\tTotal Average Score: -1400.95\tGloss: 15.16, \tDloss: 57.11\n",
      "Episode 252\tTotal Average Score: -1400.06\tGloss: 15.22, \tDloss: 56.90\n",
      "Episode 253\tTotal Average Score: -1399.36\tGloss: 15.28, \tDloss: 57.00\n",
      "Episode 254\tTotal Average Score: -1397.82\tGloss: 15.35, \tDloss: 56.97\n",
      "Episode 255\tTotal Average Score: -1397.24\tGloss: 15.41, \tDloss: 56.72\n",
      "Episode 256\tTotal Average Score: -1394.06\tGloss: 15.47, \tDloss: 56.68\n",
      "Episode 257\tTotal Average Score: -1392.48\tGloss: 15.53, \tDloss: 56.66\n",
      "Episode 258\tTotal Average Score: -1391.79\tGloss: 15.59, \tDloss: 56.64\n",
      "Episode 259\tTotal Average Score: -1390.35\tGloss: 15.66, \tDloss: 56.59\n",
      "Episode 260\tTotal Average Score: -1389.32\tGloss: 15.72, \tDloss: 56.52\n",
      "Episode 261\tTotal Average Score: -1388.43\tGloss: 15.78, \tDloss: 56.42\n",
      "Episode 262\tTotal Average Score: -1387.40\tGloss: 15.84, \tDloss: 56.59\n",
      "Episode 263\tTotal Average Score: -1385.29\tGloss: 15.91, \tDloss: 56.43\n",
      "Episode 264\tTotal Average Score: -1383.52\tGloss: 15.97, \tDloss: 56.41\n",
      "Episode 265\tTotal Average Score: -1382.01\tGloss: 16.03, \tDloss: 56.26\n",
      "Episode 266\tTotal Average Score: -1380.60\tGloss: 16.09, \tDloss: 56.17\n",
      "Episode 267\tTotal Average Score: -1380.16\tGloss: 16.16, \tDloss: 56.23\n",
      "Episode 268\tTotal Average Score: -1378.50\tGloss: 16.22, \tDloss: 56.08\n",
      "Episode 269\tTotal Average Score: -1377.00\tGloss: 16.28, \tDloss: 56.16\n",
      "Episode 270\tTotal Average Score: -1377.45\tGloss: 16.34, \tDloss: 56.00\n",
      "Episode 271\tTotal Average Score: -1376.51\tGloss: 16.41, \tDloss: 56.07\n",
      "Episode 272\tTotal Average Score: -1376.64\tGloss: 16.47, \tDloss: 55.98\n",
      "Episode 273\tTotal Average Score: -1375.63\tGloss: 16.53, \tDloss: 55.95\n",
      "Episode 274\tTotal Average Score: -1374.51\tGloss: 16.59, \tDloss: 56.02\n",
      "Episode 275\tTotal Average Score: -1374.68\tGloss: 16.65, \tDloss: 55.68\n",
      "Episode 276\tTotal Average Score: -1373.86\tGloss: 16.72, \tDloss: 55.82\n",
      "Episode 277\tTotal Average Score: -1372.71\tGloss: 16.78, \tDloss: 55.70\n",
      "Episode 278\tTotal Average Score: -1371.98\tGloss: 16.84, \tDloss: 55.68\n",
      "Episode 279\tTotal Average Score: -1370.91\tGloss: 16.90, \tDloss: 55.61\n",
      "Episode 280\tTotal Average Score: -1371.88\tGloss: 16.96, \tDloss: 55.84\n",
      "Episode 281\tTotal Average Score: -1372.06\tGloss: 17.02, \tDloss: 55.74\n",
      "Episode 282\tTotal Average Score: -1373.12\tGloss: 17.09, \tDloss: 55.64\n",
      "Episode 283\tTotal Average Score: -1372.25\tGloss: 17.15, \tDloss: 55.61\n",
      "Episode 284\tTotal Average Score: -1371.35\tGloss: 17.21, \tDloss: 55.50\n",
      "Episode 285\tTotal Average Score: -1370.88\tGloss: 17.27, \tDloss: 55.56\n",
      "Episode 286\tTotal Average Score: -1369.99\tGloss: 17.33, \tDloss: 55.55\n",
      "Episode 287\tTotal Average Score: -1369.78\tGloss: 17.39, \tDloss: 55.42\n",
      "Episode 288\tTotal Average Score: -1369.17\tGloss: 17.46, \tDloss: 55.34\n",
      "Episode 289\tTotal Average Score: -1368.61\tGloss: 17.51, \tDloss: 55.26\n",
      "Episode 290\tTotal Average Score: -1368.11\tGloss: 17.57, \tDloss: 55.30\n",
      "Episode 291\tTotal Average Score: -1368.01\tGloss: 17.64, \tDloss: 55.14\n",
      "Episode 292\tTotal Average Score: -1367.27\tGloss: 17.70, \tDloss: 55.14\n",
      "Episode 293\tTotal Average Score: -1366.61\tGloss: 17.76, \tDloss: 55.24\n",
      "Episode 294\tTotal Average Score: -1365.18\tGloss: 17.82, \tDloss: 55.03\n",
      "Episode 295\tTotal Average Score: -1364.69\tGloss: 17.88, \tDloss: 55.05\n",
      "Episode 296\tTotal Average Score: -1365.74\tGloss: 17.94, \tDloss: 55.03\n",
      "Episode 297\tTotal Average Score: -1364.91\tGloss: 18.00, \tDloss: 55.08\n",
      "Episode 298\tTotal Average Score: -1364.92\tGloss: 18.06, \tDloss: 55.02\n",
      "Episode 299\tTotal Average Score: -1364.56\tGloss: 18.12, \tDloss: 54.87\n",
      "Episode 300\tTotal Average Score: -1363.82\tGloss: 18.18, \tDloss: 54.85\n",
      "Episode 301\tTotal Average Score: -1362.89\tGloss: 18.24, \tDloss: 54.87\n",
      "Episode 302\tTotal Average Score: -1362.30\tGloss: 18.30, \tDloss: 54.75\n",
      "Episode 303\tTotal Average Score: -1362.31\tGloss: 18.36, \tDloss: 54.83\n",
      "Episode 304\tTotal Average Score: -1361.45\tGloss: 18.42, \tDloss: 54.74\n",
      "Episode 305\tTotal Average Score: -1360.15\tGloss: 18.49, \tDloss: 54.68\n",
      "Episode 306\tTotal Average Score: -1359.29\tGloss: 18.55, \tDloss: 54.63\n",
      "Episode 307\tTotal Average Score: -1357.51\tGloss: 18.61, \tDloss: 54.61\n",
      "Episode 308\tTotal Average Score: -1357.39\tGloss: 18.67, \tDloss: 54.50\n",
      "Episode 309\tTotal Average Score: -1356.42\tGloss: 18.73, \tDloss: 54.36\n",
      "Episode 310\tTotal Average Score: -1355.49\tGloss: 18.79, \tDloss: 54.30\n",
      "Episode 311\tTotal Average Score: -1353.99\tGloss: 18.85, \tDloss: 54.44\n",
      "Episode 312\tTotal Average Score: -1353.58\tGloss: 18.91, \tDloss: 54.31\n",
      "Episode 313\tTotal Average Score: -1353.45\tGloss: 18.97, \tDloss: 54.28\n",
      "Episode 314\tTotal Average Score: -1351.62\tGloss: 19.03, \tDloss: 54.20\n",
      "Episode 315\tTotal Average Score: -1350.73\tGloss: 19.09, \tDloss: 54.34\n",
      "Episode 316\tTotal Average Score: -1349.22\tGloss: 19.15, \tDloss: 54.18\n",
      "Episode 317\tTotal Average Score: -1346.96\tGloss: 19.21, \tDloss: 54.16\n",
      "Episode 318\tTotal Average Score: -1347.50\tGloss: 19.28, \tDloss: 54.09\n",
      "Episode 319\tTotal Average Score: -1346.09\tGloss: 19.34, \tDloss: 54.11\n",
      "Episode 320\tTotal Average Score: -1345.36\tGloss: 19.40, \tDloss: 54.04\n",
      "Episode 321\tTotal Average Score: -1343.72\tGloss: 19.46, \tDloss: 54.02\n",
      "Episode 322\tTotal Average Score: -1341.58\tGloss: 19.52, \tDloss: 53.89\n",
      "Episode 323\tTotal Average Score: -1340.74\tGloss: 19.58, \tDloss: 54.00\n",
      "Episode 324\tTotal Average Score: -1339.75\tGloss: 19.64, \tDloss: 53.75\n",
      "Episode 325\tTotal Average Score: -1340.67\tGloss: 19.70, \tDloss: 53.82\n",
      "Episode 326\tTotal Average Score: -1339.56\tGloss: 19.76, \tDloss: 53.79\n",
      "Episode 327\tTotal Average Score: -1338.54\tGloss: 19.82, \tDloss: 53.82\n",
      "Episode 328\tTotal Average Score: -1335.68\tGloss: 19.88, \tDloss: 53.85\n",
      "Episode 329\tTotal Average Score: -1333.51\tGloss: 19.94, \tDloss: 53.61\n",
      "Episode 330\tTotal Average Score: -1332.53\tGloss: 20.01, \tDloss: 53.64\n",
      "Episode 331\tTotal Average Score: -1331.08\tGloss: 20.07, \tDloss: 53.48\n",
      "Episode 332\tTotal Average Score: -1329.49\tGloss: 20.13, \tDloss: 53.57\n",
      "Episode 333\tTotal Average Score: -1327.72\tGloss: 20.20, \tDloss: 53.46\n",
      "Episode 334\tTotal Average Score: -1324.66\tGloss: 20.26, \tDloss: 53.39\n",
      "Episode 335\tTotal Average Score: -1325.42\tGloss: 20.32, \tDloss: 53.30\n",
      "Episode 336\tTotal Average Score: -1324.71\tGloss: 20.38, \tDloss: 53.34\n",
      "Episode 337\tTotal Average Score: -1324.09\tGloss: 20.44, \tDloss: 53.42\n",
      "Episode 338\tTotal Average Score: -1325.17\tGloss: 20.50, \tDloss: 53.18\n",
      "Episode 339\tTotal Average Score: -1324.94\tGloss: 20.56, \tDloss: 53.18\n",
      "Episode 340\tTotal Average Score: -1323.30\tGloss: 20.63, \tDloss: 53.44\n",
      "Episode 341\tTotal Average Score: -1322.61\tGloss: 20.69, \tDloss: 53.20\n",
      "Episode 342\tTotal Average Score: -1320.77\tGloss: 20.75, \tDloss: 53.14\n",
      "Episode 343\tTotal Average Score: -1321.03\tGloss: 20.81, \tDloss: 53.10\n",
      "Episode 344\tTotal Average Score: -1319.56\tGloss: 20.87, \tDloss: 53.11\n",
      "Episode 345\tTotal Average Score: -1318.54\tGloss: 20.93, \tDloss: 52.99\n",
      "Episode 346\tTotal Average Score: -1316.71\tGloss: 21.00, \tDloss: 52.99\n",
      "Episode 347\tTotal Average Score: -1315.03\tGloss: 21.06, \tDloss: 53.04\n",
      "Episode 348\tTotal Average Score: -1313.49\tGloss: 21.11, \tDloss: 52.83\n",
      "Episode 349\tTotal Average Score: -1312.09\tGloss: 21.18, \tDloss: 52.79\n",
      "Episode 350\tTotal Average Score: -1310.62\tGloss: 21.24, \tDloss: 53.00\n",
      "Episode 351\tTotal Average Score: -1309.23\tGloss: 21.30, \tDloss: 52.78\n",
      "Episode 352\tTotal Average Score: -1308.67\tGloss: 21.36, \tDloss: 52.62\n",
      "Episode 353\tTotal Average Score: -1307.60\tGloss: 21.42, \tDloss: 52.71\n",
      "Episode 354\tTotal Average Score: -1306.82\tGloss: 21.48, \tDloss: 52.70\n",
      "Episode 355\tTotal Average Score: -1305.78\tGloss: 21.54, \tDloss: 52.65\n",
      "Episode 356\tTotal Average Score: -1306.64\tGloss: 21.61, \tDloss: 52.69\n",
      "Episode 357\tTotal Average Score: -1305.73\tGloss: 21.67, \tDloss: 52.61\n"
     ]
    },
    {
     "name": "stdout",
     "output_type": "stream",
     "text": [
      "Episode 358\tTotal Average Score: -1304.24\tGloss: 21.73, \tDloss: 52.67\n",
      "Episode 359\tTotal Average Score: -1303.84\tGloss: 21.79, \tDloss: 52.41\n",
      "Episode 360\tTotal Average Score: -1302.45\tGloss: 21.85, \tDloss: 52.51\n",
      "Episode 361\tTotal Average Score: -1301.03\tGloss: 21.91, \tDloss: 52.44\n",
      "Episode 362\tTotal Average Score: -1299.84\tGloss: 21.97, \tDloss: 52.32\n",
      "Episode 363\tTotal Average Score: -1298.84\tGloss: 22.03, \tDloss: 52.29\n",
      "Episode 364\tTotal Average Score: -1298.02\tGloss: 22.10, \tDloss: 52.46\n",
      "Episode 365\tTotal Average Score: -1300.01\tGloss: 22.16, \tDloss: 52.17\n",
      "Episode 366\tTotal Average Score: -1299.62\tGloss: 22.22, \tDloss: 52.33\n",
      "Episode 367\tTotal Average Score: -1297.77\tGloss: 22.28, \tDloss: 52.37\n",
      "Episode 368\tTotal Average Score: -1297.24\tGloss: 22.34, \tDloss: 52.36\n",
      "Episode 369\tTotal Average Score: -1298.86\tGloss: 22.40, \tDloss: 52.29\n",
      "Episode 370\tTotal Average Score: -1297.96\tGloss: 22.47, \tDloss: 52.51\n",
      "Episode 371\tTotal Average Score: -1296.87\tGloss: 22.53, \tDloss: 52.03\n",
      "Episode 372\tTotal Average Score: -1295.53\tGloss: 22.59, \tDloss: 52.04\n",
      "Episode 373\tTotal Average Score: -1294.36\tGloss: 22.65, \tDloss: 52.10\n",
      "Episode 374\tTotal Average Score: -1293.55\tGloss: 22.71, \tDloss: 52.16\n",
      "Episode 375\tTotal Average Score: -1292.81\tGloss: 22.77, \tDloss: 51.97\n",
      "Episode 376\tTotal Average Score: -1291.37\tGloss: 22.83, \tDloss: 52.00\n",
      "Episode 377\tTotal Average Score: -1290.19\tGloss: 22.89, \tDloss: 52.02\n",
      "Episode 378\tTotal Average Score: -1289.54\tGloss: 22.95, \tDloss: 51.89\n"
     ]
    }
   ],
   "source": [
    "for i_episode in range(n_episodes):\n",
    "    \n",
    "    # # Reset Env\n",
    "    # env_info = env.reset(train_mode=train_mode)[brain_name]       # reset the environment    \n",
    "    # S = env_info.vector_observations                   # get the current state (for each agent)\n",
    "    s = env.reset() # s: state [-1:1, -1:1, -8:8]\n",
    "    #s_ = np.zeros_like(s) # s_: predicted state [-1:1, -1:1, -8:8]\n",
    "    #print(s.shape)\n",
    "\n",
    "    #Rs = np.zeros(num_agents)                            # initialize the score (for each agent)\n",
    "    R = 0 # R: total reward\n",
    "    \n",
    "    glosses_batch = []\n",
    "    dlosses_batch = []\n",
    "\n",
    "    #for i_step in range(n_steps):\n",
    "    while True:\n",
    "        s = np.reshape(s, [1, -1])\n",
    "        \n",
    "        a = agent.act(s) # a=[-2, 2]\n",
    "        a *= 2\n",
    "        #print(a.shape)\n",
    "        \n",
    "        # Exploration noise\n",
    "        # noise = np.random.normal(loc=0, scale=0.1, size=[num_agents, action_size])\n",
    "        # A += noise\n",
    "        # A = np.clip(a=A, a_min=-1, a_max=1)\n",
    "\n",
    "        # env_info = env.step(A)[brain_name]            # send all actions to the environment\n",
    "        # S2 = env_info.vector_observations          # get next state (for each agent)\n",
    "        # rewards = env_info.rewards                          # get reward (for each agent)\n",
    "        # dones = env_info.local_done                         # see if episode finished\n",
    "        #s2: next_state, r: reward, done/terminal, env: environment\n",
    "        a = np.reshape(a, [-1])\n",
    "        s2, r, done, _ = env.step(a)\n",
    "        #print(s2.shape, r, done)\n",
    "\n",
    "        #s2_, q_ = agent.env(s, a)\n",
    "        a = np.reshape(a, [1, -1])\n",
    "        #s2_, _ = agent.env(s, a)\n",
    "        # print(s2_)\n",
    "        # s2_ = np.tanh(s2_) # predicted next state [-1:1, -1:1, -8:8]\n",
    "        # print(s2_)\n",
    "        # s2_[2] = s2_[2] * 8\n",
    "        # print(s2_)\n",
    "\n",
    "        # for s, a, reward, s2, done in zip(S, A, rewards, S2, dones):\n",
    "        # agent.step(state, action, reward, next_state, done) # send actions to the agent\n",
    "        agent.step(s, a, r, s2, done)\n",
    "\n",
    "        R += r                           # update the score (for each agent)\n",
    "        s = s2                                # roll over the states to the next state\n",
    "\n",
    "        # if i_step%learn_every == 0:\n",
    "        dlosses_Nlearn = []\n",
    "        for _ in range(n_learn):\n",
    "            dloss = agent.start_dlearn()\n",
    "            #print(dloss)\n",
    "            dlosses_Nlearn.append(dloss)\n",
    "        dlosses_batch.append(np.mean(dlosses_Nlearn))\n",
    "            \n",
    "        #print(len(agent.memory))\n",
    "        gloss = agent.start_glearn()\n",
    "        glosses_batch.append(gloss)\n",
    "\n",
    "        # if np.any(dones):                                   # exit loop if episode finished\n",
    "        #     break\n",
    "        if done:\n",
    "            break\n",
    "\n",
    "    #meanR = np.mean(Rs)\n",
    "    #Rs_deque.append(meanR)\n",
    "    Rs_deque.append(R)\n",
    "    meanRs.append(np.mean(Rs_deque)) # plot\n",
    "    Rs.append(R) # plot\n",
    "    dlosses.append(np.mean(dlosses_batch))\n",
    "    glosses.append(np.mean(glosses_batch))\n",
    "\n",
    "    print('\\rEpisode {}\\tTotal Average Score: {:.2f}\\tGloss: {:.2f}, \\tDloss: {:.2f}'.format(\n",
    "           i_episode+1, np.mean(Rs_deque), np.mean(glosses_batch), np.mean(dlosses_batch)))  \n",
    "    \n",
    "    if np.mean(Rs_deque) >= R_goal:\n",
    "        torch.save(agent.g.state_dict(), 'g-pendulum.pth') # pendulum\n",
    "        torch.save(agent.d.state_dict(), 'd-pendulum.pth') # pendulum\n",
    "        break"
   ]
  },
  {
   "cell_type": "markdown",
   "metadata": {},
   "source": [
    "### 5. Plot the result"
   ]
  },
  {
   "cell_type": "code",
   "execution_count": null,
   "metadata": {},
   "outputs": [],
   "source": [
    "import matplotlib.pyplot as plt\n",
    "%matplotlib inline"
   ]
  },
  {
   "cell_type": "code",
   "execution_count": null,
   "metadata": {},
   "outputs": [],
   "source": [
    "fig = plt.figure()\n",
    "ax = fig.add_subplot(1,1,1)\n",
    "\n",
    "plt.plot(np.arange(1, len(meanRs)+1), meanRs)\n",
    "plt.ylabel('total_average_scores')\n",
    "plt.xlabel('Episode #')\n",
    "plt.show()"
   ]
  },
  {
   "cell_type": "markdown",
   "metadata": {},
   "source": [
    "### 6. Watch the agent running with saved weights"
   ]
  },
  {
   "cell_type": "code",
   "execution_count": 14,
   "metadata": {},
   "outputs": [
    {
     "ename": "FileNotFoundError",
     "evalue": "[Errno 2] No such file or directory: 'g-pendulum.pth'",
     "output_type": "error",
     "traceback": [
      "\u001b[0;31m---------------------------------------------------------------------------\u001b[0m",
      "\u001b[0;31mFileNotFoundError\u001b[0m                         Traceback (most recent call last)",
      "\u001b[0;32m<ipython-input-14-33e8401073d5>\u001b[0m in \u001b[0;36m<module>\u001b[0;34m\u001b[0m\n\u001b[1;32m      1\u001b[0m \u001b[0;31m# Load the saved weights into Pytorch model\u001b[0m\u001b[0;34m\u001b[0m\u001b[0;34m\u001b[0m\u001b[0;34m\u001b[0m\u001b[0m\n\u001b[0;32m----> 2\u001b[0;31m \u001b[0magent\u001b[0m\u001b[0;34m.\u001b[0m\u001b[0mg\u001b[0m\u001b[0;34m.\u001b[0m\u001b[0mload_state_dict\u001b[0m\u001b[0;34m(\u001b[0m\u001b[0mtorch\u001b[0m\u001b[0;34m.\u001b[0m\u001b[0mload\u001b[0m\u001b[0;34m(\u001b[0m\u001b[0;34m'g-pendulum.pth'\u001b[0m\u001b[0;34m,\u001b[0m \u001b[0mmap_location\u001b[0m\u001b[0;34m=\u001b[0m\u001b[0;34m'cpu'\u001b[0m\u001b[0;34m)\u001b[0m\u001b[0;34m)\u001b[0m\u001b[0;34m\u001b[0m\u001b[0;34m\u001b[0m\u001b[0m\n\u001b[0m\u001b[1;32m      3\u001b[0m \u001b[0magent\u001b[0m\u001b[0;34m.\u001b[0m\u001b[0md\u001b[0m\u001b[0;34m.\u001b[0m\u001b[0mload_state_dict\u001b[0m\u001b[0;34m(\u001b[0m\u001b[0mtorch\u001b[0m\u001b[0;34m.\u001b[0m\u001b[0mload\u001b[0m\u001b[0;34m(\u001b[0m\u001b[0;34m'd-pendulum.pth'\u001b[0m\u001b[0;34m,\u001b[0m \u001b[0mmap_location\u001b[0m\u001b[0;34m=\u001b[0m\u001b[0;34m'cpu'\u001b[0m\u001b[0;34m)\u001b[0m\u001b[0;34m)\u001b[0m\u001b[0;34m\u001b[0m\u001b[0;34m\u001b[0m\u001b[0m\n\u001b[1;32m      4\u001b[0m \u001b[0;34m\u001b[0m\u001b[0m\n\u001b[1;32m      5\u001b[0m \u001b[0;31m# env_info = env.reset(train_mode=False)[brain_name]     # reset the environment\u001b[0m\u001b[0;34m\u001b[0m\u001b[0;34m\u001b[0m\u001b[0;34m\u001b[0m\u001b[0m\n",
      "\u001b[0;32m~/anaconda3/lib/python3.6/site-packages/torch/serialization.py\u001b[0m in \u001b[0;36mload\u001b[0;34m(f, map_location, pickle_module)\u001b[0m\n\u001b[1;32m    354\u001b[0m             \u001b[0;34m(\u001b[0m\u001b[0msys\u001b[0m\u001b[0;34m.\u001b[0m\u001b[0mversion_info\u001b[0m\u001b[0;34m[\u001b[0m\u001b[0;36m0\u001b[0m\u001b[0;34m]\u001b[0m \u001b[0;34m==\u001b[0m \u001b[0;36m3\u001b[0m \u001b[0;32mand\u001b[0m \u001b[0misinstance\u001b[0m\u001b[0;34m(\u001b[0m\u001b[0mf\u001b[0m\u001b[0;34m,\u001b[0m \u001b[0mpathlib\u001b[0m\u001b[0;34m.\u001b[0m\u001b[0mPath\u001b[0m\u001b[0;34m)\u001b[0m\u001b[0;34m)\u001b[0m\u001b[0;34m:\u001b[0m\u001b[0;34m\u001b[0m\u001b[0;34m\u001b[0m\u001b[0m\n\u001b[1;32m    355\u001b[0m         \u001b[0mnew_fd\u001b[0m \u001b[0;34m=\u001b[0m \u001b[0;32mTrue\u001b[0m\u001b[0;34m\u001b[0m\u001b[0;34m\u001b[0m\u001b[0m\n\u001b[0;32m--> 356\u001b[0;31m         \u001b[0mf\u001b[0m \u001b[0;34m=\u001b[0m \u001b[0mopen\u001b[0m\u001b[0;34m(\u001b[0m\u001b[0mf\u001b[0m\u001b[0;34m,\u001b[0m \u001b[0;34m'rb'\u001b[0m\u001b[0;34m)\u001b[0m\u001b[0;34m\u001b[0m\u001b[0;34m\u001b[0m\u001b[0m\n\u001b[0m\u001b[1;32m    357\u001b[0m     \u001b[0;32mtry\u001b[0m\u001b[0;34m:\u001b[0m\u001b[0;34m\u001b[0m\u001b[0;34m\u001b[0m\u001b[0m\n\u001b[1;32m    358\u001b[0m         \u001b[0;32mreturn\u001b[0m \u001b[0m_load\u001b[0m\u001b[0;34m(\u001b[0m\u001b[0mf\u001b[0m\u001b[0;34m,\u001b[0m \u001b[0mmap_location\u001b[0m\u001b[0;34m,\u001b[0m \u001b[0mpickle_module\u001b[0m\u001b[0;34m)\u001b[0m\u001b[0;34m\u001b[0m\u001b[0;34m\u001b[0m\u001b[0m\n",
      "\u001b[0;31mFileNotFoundError\u001b[0m: [Errno 2] No such file or directory: 'g-pendulum.pth'"
     ]
    }
   ],
   "source": [
    "# Load the saved weights into Pytorch model\n",
    "agent.g.load_state_dict(torch.load('g-pendulum.pth', map_location='cpu'))\n",
    "agent.d.load_state_dict(torch.load('d-pendulum.pth', map_location='cpu'))\n",
    "\n",
    "# env_info = env.reset(train_mode=False)[brain_name]     # reset the environment    \n",
    "# S = env_info.vector_observations                  # get the current states (S) (for each agent)\n",
    "s = env.reset() # s: state # get the current state (s) (for an agent)\n",
    "\n",
    "#Rs = np.zeros(num_agents)                          # initialize the total scores (Rs) (for each agent)\n",
    "R = 0 # R:total reward # initialize the total score (R) (for an agent)\n",
    "\n",
    "while True:\n",
    "    #A = agent.act(S)                        # select actions (A) from loaded model agents\n",
    "    a = agent.act(np.reshape(s, [1, -1])) # a: [-1, +1]    # select action (a) from loaded model agent\n",
    "    \n",
    "    # env_info = env.step(A)[brain_name]           # send all actions (A) to tne environment (env)\n",
    "    # S2 = env_info.vector_observations         # get next states (S2) (for each agent)\n",
    "    # rewards = env_info.rewards                         # get rewards (for each agent)\n",
    "    # dones = env_info.local_done                        # see if the episode is done/finished (terminal)\n",
    "    s2, r, done, _ = env.step(np.reshape(a, [-1]))\n",
    "    \n",
    "    # Rs += env_info.rewards                         # update the total scores (Rs) (for each agent)\n",
    "    # S = S2                               # roll over current states (S) to next states (S2)\n",
    "    R += r # update the total score (R) (for an agent)\n",
    "    s = s2 # roll over current state (s) to next state (s2)\n",
    "    \n",
    "    #if np.any(dones):                                  # exit loop if episode is done/finished\n",
    "    if done: # exit loop if episode is done/finished (terminal)\n",
    "        break\n",
    "        \n",
    "print('Average of total scores: {}'.format(R))"
   ]
  },
  {
   "cell_type": "markdown",
   "metadata": {},
   "source": [
    "When finished, you can close the environment."
   ]
  },
  {
   "cell_type": "code",
   "execution_count": 6,
   "metadata": {},
   "outputs": [],
   "source": [
    "env.close()"
   ]
  },
  {
   "cell_type": "code",
   "execution_count": null,
   "metadata": {},
   "outputs": [],
   "source": []
  }
 ],
 "metadata": {
  "kernelspec": {
   "display_name": "Python 3",
   "language": "python",
   "name": "python3"
  },
  "language_info": {
   "codemirror_mode": {
    "name": "ipython",
    "version": 3
   },
   "file_extension": ".py",
   "mimetype": "text/x-python",
   "name": "python",
   "nbconvert_exporter": "python",
   "pygments_lexer": "ipython3",
   "version": "3.6.8"
  }
 },
 "nbformat": 4,
 "nbformat_minor": 2
}
