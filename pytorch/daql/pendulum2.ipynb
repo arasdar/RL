{
 "cells": [
  {
   "cell_type": "markdown",
   "metadata": {},
   "source": [
    "# Continuous Control\n",
    "\n",
    "---\n",
    "\n",
    "You are welcome to use this coding environment to train your agent for the project.  Follow the instructions below to get started!\n",
    "\n",
    "### 1. Start the Environment"
   ]
  },
  {
   "cell_type": "code",
   "execution_count": 1,
   "metadata": {},
   "outputs": [],
   "source": [
    "import gym\n",
    "import random\n",
    "import torch\n",
    "import numpy as np\n",
    "from collections import deque\n",
    "import matplotlib.pyplot as plt\n",
    "%matplotlib inline"
   ]
  },
  {
   "cell_type": "markdown",
   "metadata": {},
   "source": [
    "Environments contain **_brains_** which are responsible for deciding the actions of their associated agents. Here we check for the first brain available, and set it as the default brain we will be controlling from Python."
   ]
  },
  {
   "cell_type": "code",
   "execution_count": 2,
   "metadata": {},
   "outputs": [
    {
     "name": "stderr",
     "output_type": "stream",
     "text": [
      "/home/arasdar/anaconda3/lib/python3.6/site-packages/gym/envs/registration.py:14: PkgResourcesDeprecationWarning: Parameters to load are deprecated.  Call .resolve and .require separately.\n",
      "  result = entry_point.load(False)\n"
     ]
    },
    {
     "data": {
      "text/plain": [
       "[10]"
      ]
     },
     "execution_count": 2,
     "metadata": {},
     "output_type": "execute_result"
    }
   ],
   "source": [
    "env = gym.make('Pendulum-v0')\n",
    "\n",
    "random_seed = 10\n",
    "env.seed(random_seed)\n",
    "\n",
    "# from agent import Agent\n",
    "# agent = Agent(state_size=env.observation_space.shape[0], action_size=env.action_space.shape[0], \n",
    "#               random_seed=random_seed)"
   ]
  },
  {
   "cell_type": "markdown",
   "metadata": {},
   "source": [
    "### 2. Examine the State and Action Spaces\n",
    "\n",
    "Run the code cell below to print some information about the environment."
   ]
  },
  {
   "cell_type": "code",
   "execution_count": 3,
   "metadata": {},
   "outputs": [
    {
     "data": {
      "text/plain": [
       "(Box(1,), Box(3,))"
      ]
     },
     "execution_count": 3,
     "metadata": {},
     "output_type": "execute_result"
    }
   ],
   "source": [
    "env.action_space, env.observation_space"
   ]
  },
  {
   "cell_type": "code",
   "execution_count": 4,
   "metadata": {},
   "outputs": [],
   "source": [
    "action_size = env.action_space.shape[0]\n",
    "state_size = env.observation_space.shape[0]"
   ]
  },
  {
   "cell_type": "code",
   "execution_count": 5,
   "metadata": {},
   "outputs": [
    {
     "data": {
      "text/plain": [
       "(1, 3)"
      ]
     },
     "execution_count": 5,
     "metadata": {},
     "output_type": "execute_result"
    }
   ],
   "source": [
    "action_size, state_size"
   ]
  },
  {
   "cell_type": "code",
   "execution_count": 6,
   "metadata": {},
   "outputs": [
    {
     "data": {
      "text/plain": [
       "(array([-1., -1., -8.], dtype=float32), array([1., 1., 8.], dtype=float32))"
      ]
     },
     "execution_count": 6,
     "metadata": {},
     "output_type": "execute_result"
    }
   ],
   "source": [
    "env.observation_space.low, env.observation_space.high"
   ]
  },
  {
   "cell_type": "code",
   "execution_count": 7,
   "metadata": {},
   "outputs": [
    {
     "data": {
      "text/plain": [
       "(array([-2.], dtype=float32), array([2.], dtype=float32))"
      ]
     },
     "execution_count": 7,
     "metadata": {},
     "output_type": "execute_result"
    }
   ],
   "source": [
    "env.action_space.low, env.action_space.high"
   ]
  },
  {
   "cell_type": "markdown",
   "metadata": {},
   "source": [
    "### 3. Instantiate DDPG Agent"
   ]
  },
  {
   "cell_type": "code",
   "execution_count": 8,
   "metadata": {},
   "outputs": [],
   "source": [
    "from agent2 import Agent\n",
    "\n",
    "agent = Agent(s_size=state_size, a_size=action_size, random_seed=random_seed)"
   ]
  },
  {
   "cell_type": "markdown",
   "metadata": {},
   "source": [
    "### 4. Train the Agent with DDPG"
   ]
  },
  {
   "cell_type": "code",
   "execution_count": 9,
   "metadata": {},
   "outputs": [],
   "source": [
    "from collections import deque\n",
    "import numpy as np\n",
    "import time\n",
    "import torch\n",
    "\n",
    "n_episodes=1000\n",
    "# n_steps=1000\n",
    "n_learn=1\n",
    "# learn_every=20\n",
    "R_goal=-100 # TOCHECK\n",
    "Rs_deque = deque(maxlen=100)\n",
    "meanRs = [] # plot\n",
    "Rs = [] # plot\n",
    "dlosses = []\n",
    "glosses = []"
   ]
  },
  {
   "cell_type": "code",
   "execution_count": null,
   "metadata": {},
   "outputs": [
    {
     "name": "stdout",
     "output_type": "stream",
     "text": [
      "Episode 1\tTotal Average Score: -883.57\tGloss: 0.00, \tDloss: 0.00\n",
      "Episode 2\tTotal Average Score: -1367.03\tGloss: 0.00, \tDloss: 0.00\n",
      "Episode 3\tTotal Average Score: -1157.02\tGloss: 0.00, \tDloss: 0.00\n",
      "Episode 4\tTotal Average Score: -1088.51\tGloss: 0.00, \tDloss: 0.00\n",
      "Episode 5\tTotal Average Score: -1185.62\tGloss: 0.00, \tDloss: 0.00\n",
      "Episode 6\tTotal Average Score: -1261.48\tGloss: 0.06, \tDloss: 5.38\n",
      "Episode 7\tTotal Average Score: -1298.27\tGloss: 0.15, \tDloss: 6.38\n",
      "Episode 8\tTotal Average Score: -1279.59\tGloss: 0.22, \tDloss: 6.42\n",
      "Episode 9\tTotal Average Score: -1309.05\tGloss: 0.29, \tDloss: 6.42\n",
      "Episode 10\tTotal Average Score: -1313.34\tGloss: 0.36, \tDloss: 6.49\n",
      "Episode 11\tTotal Average Score: -1322.46\tGloss: 0.44, \tDloss: 6.50\n",
      "Episode 12\tTotal Average Score: -1333.62\tGloss: 0.51, \tDloss: 6.54\n",
      "Episode 13\tTotal Average Score: -1351.46\tGloss: 0.59, \tDloss: 6.62\n",
      "Episode 14\tTotal Average Score: -1382.09\tGloss: 0.66, \tDloss: 6.74\n",
      "Episode 15\tTotal Average Score: -1388.02\tGloss: 0.73, \tDloss: 6.82\n",
      "Episode 16\tTotal Average Score: -1388.17\tGloss: 0.80, \tDloss: 6.82\n",
      "Episode 17\tTotal Average Score: -1400.10\tGloss: 0.88, \tDloss: 6.87\n",
      "Episode 18\tTotal Average Score: -1420.39\tGloss: 0.95, \tDloss: 6.94\n",
      "Episode 19\tTotal Average Score: -1440.51\tGloss: 1.02, \tDloss: 7.04\n",
      "Episode 20\tTotal Average Score: -1454.28\tGloss: 1.09, \tDloss: 7.10\n",
      "Episode 21\tTotal Average Score: -1450.57\tGloss: 1.15, \tDloss: 7.13\n",
      "Episode 22\tTotal Average Score: -1455.22\tGloss: 1.22, \tDloss: 7.11\n",
      "Episode 23\tTotal Average Score: -1447.93\tGloss: 1.29, \tDloss: 7.09\n",
      "Episode 24\tTotal Average Score: -1444.77\tGloss: 1.36, \tDloss: 7.07\n",
      "Episode 25\tTotal Average Score: -1455.94\tGloss: 1.43, \tDloss: 7.08\n",
      "Episode 26\tTotal Average Score: -1459.62\tGloss: 1.50, \tDloss: 7.10\n",
      "Episode 27\tTotal Average Score: -1467.44\tGloss: 1.56, \tDloss: 7.13\n",
      "Episode 28\tTotal Average Score: -1464.09\tGloss: 1.64, \tDloss: 7.13\n",
      "Episode 29\tTotal Average Score: -1477.38\tGloss: 1.70, \tDloss: 7.17\n",
      "Episode 30\tTotal Average Score: -1479.23\tGloss: 1.77, \tDloss: 7.19\n",
      "Episode 31\tTotal Average Score: -1470.65\tGloss: 1.84, \tDloss: 7.15\n",
      "Episode 32\tTotal Average Score: -1469.56\tGloss: 1.91, \tDloss: 7.14\n",
      "Episode 33\tTotal Average Score: -1461.87\tGloss: 1.98, \tDloss: 7.10\n",
      "Episode 34\tTotal Average Score: -1472.50\tGloss: 2.05, \tDloss: 7.11\n",
      "Episode 35\tTotal Average Score: -1474.40\tGloss: 2.11, \tDloss: 7.12\n",
      "Episode 36\tTotal Average Score: -1479.49\tGloss: 2.18, \tDloss: 7.14\n",
      "Episode 37\tTotal Average Score: -1476.30\tGloss: 2.25, \tDloss: 7.14\n",
      "Episode 38\tTotal Average Score: -1468.18\tGloss: 2.32, \tDloss: 7.07\n",
      "Episode 39\tTotal Average Score: -1468.77\tGloss: 2.39, \tDloss: 7.08\n",
      "Episode 40\tTotal Average Score: -1473.23\tGloss: 2.47, \tDloss: 7.09\n",
      "Episode 41\tTotal Average Score: -1471.76\tGloss: 2.53, \tDloss: 7.09\n",
      "Episode 42\tTotal Average Score: -1466.61\tGloss: 2.61, \tDloss: 7.08\n",
      "Episode 43\tTotal Average Score: -1474.15\tGloss: 2.71, \tDloss: 7.09\n",
      "Episode 44\tTotal Average Score: -1473.96\tGloss: 2.78, \tDloss: 7.11\n",
      "Episode 45\tTotal Average Score: -1480.65\tGloss: 2.91, \tDloss: 7.16\n",
      "Episode 46\tTotal Average Score: -1478.56\tGloss: 3.00, \tDloss: 7.18\n",
      "Episode 47\tTotal Average Score: -1473.72\tGloss: 3.08, \tDloss: 7.20\n",
      "Episode 48\tTotal Average Score: -1472.81\tGloss: 3.16, \tDloss: 7.19\n",
      "Episode 49\tTotal Average Score: -1474.52\tGloss: 3.24, \tDloss: 7.20\n",
      "Episode 50\tTotal Average Score: -1474.96\tGloss: 3.33, \tDloss: 7.20\n",
      "Episode 51\tTotal Average Score: -1476.52\tGloss: 3.40, \tDloss: 7.21\n",
      "Episode 52\tTotal Average Score: -1477.47\tGloss: 3.48, \tDloss: 7.21\n",
      "Episode 53\tTotal Average Score: -1481.45\tGloss: 3.55, \tDloss: 7.23\n",
      "Episode 54\tTotal Average Score: -1482.65\tGloss: 3.63, \tDloss: 7.24\n",
      "Episode 55\tTotal Average Score: -1486.13\tGloss: 3.70, \tDloss: 7.24\n",
      "Episode 56\tTotal Average Score: -1486.55\tGloss: 3.78, \tDloss: 7.26\n",
      "Episode 57\tTotal Average Score: -1488.04\tGloss: 3.85, \tDloss: 7.26\n",
      "Episode 58\tTotal Average Score: -1487.35\tGloss: 3.93, \tDloss: 7.26\n",
      "Episode 59\tTotal Average Score: -1487.06\tGloss: 4.00, \tDloss: 7.24\n",
      "Episode 60\tTotal Average Score: -1490.36\tGloss: 4.06, \tDloss: 7.26\n",
      "Episode 61\tTotal Average Score: -1490.91\tGloss: 4.13, \tDloss: 7.27\n",
      "Episode 62\tTotal Average Score: -1489.25\tGloss: 4.20, \tDloss: 7.25\n",
      "Episode 63\tTotal Average Score: -1489.06\tGloss: 4.28, \tDloss: 7.24\n"
     ]
    }
   ],
   "source": [
    "for i_episode in range(n_episodes):\n",
    "    \n",
    "    # # Reset Env\n",
    "    # env_info = env.reset(train_mode=train_mode)[brain_name]       # reset the environment    \n",
    "    # S = env_info.vector_observations                   # get the current state (for each agent)\n",
    "    s = env.reset() # s: state [-1:1, -1:1, -8:8]\n",
    "    #s_ = np.zeros_like(s) # s_: predicted state [-1:1, -1:1, -8:8]\n",
    "    #print(s.shape)\n",
    "\n",
    "    #Rs = np.zeros(num_agents)                            # initialize the score (for each agent)\n",
    "    R = 0 # R: total reward\n",
    "    \n",
    "    glosses_batch = []\n",
    "    dlosses_batch = []\n",
    "\n",
    "    #for i_step in range(n_steps):\n",
    "    while True:\n",
    "        s = np.reshape(s, [1, -1])\n",
    "        \n",
    "        a = agent.act(s) # a=[-2, 2]\n",
    "        a *= 2\n",
    "        #print(a.shape)\n",
    "        \n",
    "        # Exploration noise\n",
    "        # noise = np.random.normal(loc=0, scale=0.1, size=[num_agents, action_size])\n",
    "        # A += noise\n",
    "        # A = np.clip(a=A, a_min=-1, a_max=1)\n",
    "\n",
    "        # env_info = env.step(A)[brain_name]            # send all actions to the environment\n",
    "        # S2 = env_info.vector_observations          # get next state (for each agent)\n",
    "        # rewards = env_info.rewards                          # get reward (for each agent)\n",
    "        # dones = env_info.local_done                         # see if episode finished\n",
    "        #s2: next_state, r: reward, done/terminal, env: environment\n",
    "        a = np.reshape(a, [-1])\n",
    "        s2, r, done, _ = env.step(a)\n",
    "        #print(s2.shape, r, done)\n",
    "\n",
    "        #s2_, q_ = agent.env(s, a)\n",
    "        a = np.reshape(a, [1, -1])\n",
    "        #s2_, _ = agent.env(s, a)\n",
    "        # print(s2_)\n",
    "        # s2_ = np.tanh(s2_) # predicted next state [-1:1, -1:1, -8:8]\n",
    "        # print(s2_)\n",
    "        # s2_[2] = s2_[2] * 8\n",
    "        # print(s2_)\n",
    "\n",
    "        # for s, a, reward, s2, done in zip(S, A, rewards, S2, dones):\n",
    "        # agent.step(state, action, reward, next_state, done) # send actions to the agent\n",
    "        agent.step(s, a, r, s2, done)\n",
    "\n",
    "        R += r                           # update the score (for each agent)\n",
    "        s = s2                                # roll over the states to the next state\n",
    "\n",
    "        # if i_step%learn_every == 0:\n",
    "        #dlosses_Nlearn = []\n",
    "        #for _ in range(n_learn):\n",
    "        dloss, _, _ = agent.start_dlearn()\n",
    "        #print(dloss)\n",
    "        #dlosses_Nlearn.append(dloss)\n",
    "        #dlosses_batch.append(np.mean(dlosses_Nlearn))\n",
    "        dlosses_batch.append(dloss)\n",
    "            \n",
    "        #print(len(agent.memory))\n",
    "        gloss = agent.start_glearn()\n",
    "        glosses_batch.append(gloss)\n",
    "\n",
    "        # if np.any(dones):                                   # exit loop if episode finished\n",
    "        #     break\n",
    "        if done:\n",
    "            break\n",
    "\n",
    "    #meanR = np.mean(Rs)\n",
    "    #Rs_deque.append(meanR)\n",
    "    Rs_deque.append(R)\n",
    "    meanRs.append(np.mean(Rs_deque)) # plot\n",
    "    Rs.append(R) # plot\n",
    "    dlosses.append(np.mean(dlosses_batch))\n",
    "    glosses.append(np.mean(glosses_batch))\n",
    "\n",
    "    print('\\rEpisode {}\\tTotal Average Score: {:.2f}\\tGloss: {:.2f}, \\tDloss: {:.2f}'.format(\n",
    "           i_episode+1, np.mean(Rs_deque), np.mean(glosses_batch), np.mean(dlosses_batch)))  \n",
    "    \n",
    "    if np.mean(Rs_deque) >= R_goal:\n",
    "        torch.save(agent.g.state_dict(), 'g-pendulum.pth') # pendulum\n",
    "        torch.save(agent.d.state_dict(), 'd-pendulum.pth') # pendulum\n",
    "        break"
   ]
  },
  {
   "cell_type": "markdown",
   "metadata": {},
   "source": [
    "### 5. Plot the result"
   ]
  },
  {
   "cell_type": "code",
   "execution_count": null,
   "metadata": {},
   "outputs": [],
   "source": [
    "import matplotlib.pyplot as plt\n",
    "%matplotlib inline"
   ]
  },
  {
   "cell_type": "code",
   "execution_count": null,
   "metadata": {},
   "outputs": [],
   "source": [
    "fig = plt.figure()\n",
    "ax = fig.add_subplot(1,1,1)\n",
    "\n",
    "plt.plot(np.arange(1, len(meanRs)+1), meanRs)\n",
    "plt.ylabel('total_average_scores')\n",
    "plt.xlabel('Episode #')\n",
    "plt.show()"
   ]
  },
  {
   "cell_type": "markdown",
   "metadata": {},
   "source": [
    "### 6. Watch the agent running with saved weights"
   ]
  },
  {
   "cell_type": "code",
   "execution_count": 14,
   "metadata": {},
   "outputs": [
    {
     "ename": "FileNotFoundError",
     "evalue": "[Errno 2] No such file or directory: 'g-pendulum.pth'",
     "output_type": "error",
     "traceback": [
      "\u001b[0;31m---------------------------------------------------------------------------\u001b[0m",
      "\u001b[0;31mFileNotFoundError\u001b[0m                         Traceback (most recent call last)",
      "\u001b[0;32m<ipython-input-14-33e8401073d5>\u001b[0m in \u001b[0;36m<module>\u001b[0;34m\u001b[0m\n\u001b[1;32m      1\u001b[0m \u001b[0;31m# Load the saved weights into Pytorch model\u001b[0m\u001b[0;34m\u001b[0m\u001b[0;34m\u001b[0m\u001b[0;34m\u001b[0m\u001b[0m\n\u001b[0;32m----> 2\u001b[0;31m \u001b[0magent\u001b[0m\u001b[0;34m.\u001b[0m\u001b[0mg\u001b[0m\u001b[0;34m.\u001b[0m\u001b[0mload_state_dict\u001b[0m\u001b[0;34m(\u001b[0m\u001b[0mtorch\u001b[0m\u001b[0;34m.\u001b[0m\u001b[0mload\u001b[0m\u001b[0;34m(\u001b[0m\u001b[0;34m'g-pendulum.pth'\u001b[0m\u001b[0;34m,\u001b[0m \u001b[0mmap_location\u001b[0m\u001b[0;34m=\u001b[0m\u001b[0;34m'cpu'\u001b[0m\u001b[0;34m)\u001b[0m\u001b[0;34m)\u001b[0m\u001b[0;34m\u001b[0m\u001b[0;34m\u001b[0m\u001b[0m\n\u001b[0m\u001b[1;32m      3\u001b[0m \u001b[0magent\u001b[0m\u001b[0;34m.\u001b[0m\u001b[0md\u001b[0m\u001b[0;34m.\u001b[0m\u001b[0mload_state_dict\u001b[0m\u001b[0;34m(\u001b[0m\u001b[0mtorch\u001b[0m\u001b[0;34m.\u001b[0m\u001b[0mload\u001b[0m\u001b[0;34m(\u001b[0m\u001b[0;34m'd-pendulum.pth'\u001b[0m\u001b[0;34m,\u001b[0m \u001b[0mmap_location\u001b[0m\u001b[0;34m=\u001b[0m\u001b[0;34m'cpu'\u001b[0m\u001b[0;34m)\u001b[0m\u001b[0;34m)\u001b[0m\u001b[0;34m\u001b[0m\u001b[0;34m\u001b[0m\u001b[0m\n\u001b[1;32m      4\u001b[0m \u001b[0;34m\u001b[0m\u001b[0m\n\u001b[1;32m      5\u001b[0m \u001b[0;31m# env_info = env.reset(train_mode=False)[brain_name]     # reset the environment\u001b[0m\u001b[0;34m\u001b[0m\u001b[0;34m\u001b[0m\u001b[0;34m\u001b[0m\u001b[0m\n",
      "\u001b[0;32m~/anaconda3/lib/python3.6/site-packages/torch/serialization.py\u001b[0m in \u001b[0;36mload\u001b[0;34m(f, map_location, pickle_module)\u001b[0m\n\u001b[1;32m    354\u001b[0m             \u001b[0;34m(\u001b[0m\u001b[0msys\u001b[0m\u001b[0;34m.\u001b[0m\u001b[0mversion_info\u001b[0m\u001b[0;34m[\u001b[0m\u001b[0;36m0\u001b[0m\u001b[0;34m]\u001b[0m \u001b[0;34m==\u001b[0m \u001b[0;36m3\u001b[0m \u001b[0;32mand\u001b[0m \u001b[0misinstance\u001b[0m\u001b[0;34m(\u001b[0m\u001b[0mf\u001b[0m\u001b[0;34m,\u001b[0m \u001b[0mpathlib\u001b[0m\u001b[0;34m.\u001b[0m\u001b[0mPath\u001b[0m\u001b[0;34m)\u001b[0m\u001b[0;34m)\u001b[0m\u001b[0;34m:\u001b[0m\u001b[0;34m\u001b[0m\u001b[0;34m\u001b[0m\u001b[0m\n\u001b[1;32m    355\u001b[0m         \u001b[0mnew_fd\u001b[0m \u001b[0;34m=\u001b[0m \u001b[0;32mTrue\u001b[0m\u001b[0;34m\u001b[0m\u001b[0;34m\u001b[0m\u001b[0m\n\u001b[0;32m--> 356\u001b[0;31m         \u001b[0mf\u001b[0m \u001b[0;34m=\u001b[0m \u001b[0mopen\u001b[0m\u001b[0;34m(\u001b[0m\u001b[0mf\u001b[0m\u001b[0;34m,\u001b[0m \u001b[0;34m'rb'\u001b[0m\u001b[0;34m)\u001b[0m\u001b[0;34m\u001b[0m\u001b[0;34m\u001b[0m\u001b[0m\n\u001b[0m\u001b[1;32m    357\u001b[0m     \u001b[0;32mtry\u001b[0m\u001b[0;34m:\u001b[0m\u001b[0;34m\u001b[0m\u001b[0;34m\u001b[0m\u001b[0m\n\u001b[1;32m    358\u001b[0m         \u001b[0;32mreturn\u001b[0m \u001b[0m_load\u001b[0m\u001b[0;34m(\u001b[0m\u001b[0mf\u001b[0m\u001b[0;34m,\u001b[0m \u001b[0mmap_location\u001b[0m\u001b[0;34m,\u001b[0m \u001b[0mpickle_module\u001b[0m\u001b[0;34m)\u001b[0m\u001b[0;34m\u001b[0m\u001b[0;34m\u001b[0m\u001b[0m\n",
      "\u001b[0;31mFileNotFoundError\u001b[0m: [Errno 2] No such file or directory: 'g-pendulum.pth'"
     ]
    }
   ],
   "source": [
    "# Load the saved weights into Pytorch model\n",
    "agent.g.load_state_dict(torch.load('g-pendulum.pth', map_location='cpu'))\n",
    "agent.d.load_state_dict(torch.load('d-pendulum.pth', map_location='cpu'))\n",
    "\n",
    "# env_info = env.reset(train_mode=False)[brain_name]     # reset the environment    \n",
    "# S = env_info.vector_observations                  # get the current states (S) (for each agent)\n",
    "s = env.reset() # s: state # get the current state (s) (for an agent)\n",
    "\n",
    "#Rs = np.zeros(num_agents)                          # initialize the total scores (Rs) (for each agent)\n",
    "R = 0 # R:total reward # initialize the total score (R) (for an agent)\n",
    "\n",
    "while True:\n",
    "    #A = agent.act(S)                        # select actions (A) from loaded model agents\n",
    "    a = agent.act(np.reshape(s, [1, -1])) # a: [-1, +1]    # select action (a) from loaded model agent\n",
    "    \n",
    "    # env_info = env.step(A)[brain_name]           # send all actions (A) to tne environment (env)\n",
    "    # S2 = env_info.vector_observations         # get next states (S2) (for each agent)\n",
    "    # rewards = env_info.rewards                         # get rewards (for each agent)\n",
    "    # dones = env_info.local_done                        # see if the episode is done/finished (terminal)\n",
    "    s2, r, done, _ = env.step(np.reshape(a, [-1]))\n",
    "    \n",
    "    # Rs += env_info.rewards                         # update the total scores (Rs) (for each agent)\n",
    "    # S = S2                               # roll over current states (S) to next states (S2)\n",
    "    R += r # update the total score (R) (for an agent)\n",
    "    s = s2 # roll over current state (s) to next state (s2)\n",
    "    \n",
    "    #if np.any(dones):                                  # exit loop if episode is done/finished\n",
    "    if done: # exit loop if episode is done/finished (terminal)\n",
    "        break\n",
    "        \n",
    "print('Average of total scores: {}'.format(R))"
   ]
  },
  {
   "cell_type": "markdown",
   "metadata": {},
   "source": [
    "When finished, you can close the environment."
   ]
  },
  {
   "cell_type": "code",
   "execution_count": 6,
   "metadata": {},
   "outputs": [],
   "source": [
    "env.close()"
   ]
  },
  {
   "cell_type": "code",
   "execution_count": null,
   "metadata": {},
   "outputs": [],
   "source": []
  }
 ],
 "metadata": {
  "kernelspec": {
   "display_name": "Python 3",
   "language": "python",
   "name": "python3"
  },
  "language_info": {
   "codemirror_mode": {
    "name": "ipython",
    "version": 3
   },
   "file_extension": ".py",
   "mimetype": "text/x-python",
   "name": "python",
   "nbconvert_exporter": "python",
   "pygments_lexer": "ipython3",
   "version": "3.6.8"
  }
 },
 "nbformat": 4,
 "nbformat_minor": 2
}
