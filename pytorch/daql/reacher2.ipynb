{
 "cells": [
  {
   "cell_type": "markdown",
   "metadata": {},
   "source": [
    "# Continuous Control\n",
    "\n",
    "---\n",
    "\n",
    "You are welcome to use this coding environment to train your agent for the project.  Follow the instructions below to get started!\n",
    "\n",
    "### 1. Start the Environment"
   ]
  },
  {
   "cell_type": "code",
   "execution_count": 1,
   "metadata": {},
   "outputs": [
    {
     "name": "stderr",
     "output_type": "stream",
     "text": [
      "INFO:unityagents:\n",
      "'Academy' started successfully!\n",
      "Unity Academy name: Academy\n",
      "        Number of Brains: 1\n",
      "        Number of External Brains : 1\n",
      "        Lesson number : 0\n",
      "        Reset Parameters :\n",
      "\t\tgoal_size -> 5.0\n",
      "\t\tgoal_speed -> 1.0\n",
      "Unity brain name: ReacherBrain\n",
      "        Number of Visual Observations (per agent): 0\n",
      "        Vector Observation space type: continuous\n",
      "        Vector Observation space size (per agent): 33\n",
      "        Number of stacked Vector Observation: 1\n",
      "        Vector Action space type: continuous\n",
      "        Vector Action space size (per agent): 4\n",
      "        Vector Action descriptions: , , , \n"
     ]
    }
   ],
   "source": [
    "from unityagents import UnityEnvironment\n",
    "\n",
    "\n",
    "# Load Reacher env with 20 agents\n",
    "# env = UnityEnvironment(file_name='Reacher')\n",
    "env = UnityEnvironment(\n",
    "    file_name='/home/arasdar/unity-envs/Reacher_Linux_NoVis_OneAgent/Reacher_Linux_NoVis/Reacher.x86_64')"
   ]
  },
  {
   "cell_type": "markdown",
   "metadata": {},
   "source": [
    "Environments contain **_brains_** which are responsible for deciding the actions of their associated agents. Here we check for the first brain available, and set it as the default brain we will be controlling from Python."
   ]
  },
  {
   "cell_type": "code",
   "execution_count": 2,
   "metadata": {},
   "outputs": [],
   "source": [
    "# get the default brain\n",
    "brain_name = env.brain_names[0]\n",
    "brain = env.brains[brain_name]"
   ]
  },
  {
   "cell_type": "markdown",
   "metadata": {},
   "source": [
    "### 2. Examine the State and Action Spaces\n",
    "\n",
    "Run the code cell below to print some information about the environment."
   ]
  },
  {
   "cell_type": "code",
   "execution_count": 3,
   "metadata": {},
   "outputs": [
    {
     "name": "stdout",
     "output_type": "stream",
     "text": [
      "Number of agents: 1\n",
      "Size of each action: 4\n",
      "There are 1 agents. Each observes a state with length: 33\n"
     ]
    }
   ],
   "source": [
    "# reset the environment\n",
    "env_info = env.reset(train_mode=True)[brain_name]\n",
    "\n",
    "# number of agents\n",
    "num_agents = len(env_info.agents)\n",
    "print('Number of agents:', num_agents)\n",
    "\n",
    "# size of each action\n",
    "action_size = brain.vector_action_space_size\n",
    "print('Size of each action:', action_size)\n",
    "\n",
    "# examine the state space \n",
    "states = env_info.vector_observations\n",
    "state_size = states.shape[1]\n",
    "print('There are {} agents. Each observes a state with length: {}'.format(states.shape[0], state_size))\n",
    "# print('The state for the first agent looks like:', states[0])"
   ]
  },
  {
   "cell_type": "markdown",
   "metadata": {},
   "source": [
    "### 3. Instantiate DDPG Agent"
   ]
  },
  {
   "cell_type": "code",
   "execution_count": 4,
   "metadata": {},
   "outputs": [],
   "source": [
    "from agent2 import Agent\n",
    "\n",
    "random_seed = 7\n",
    "\n",
    "agent = Agent(s_size=state_size, a_size=action_size, random_seed=random_seed)"
   ]
  },
  {
   "cell_type": "markdown",
   "metadata": {},
   "source": [
    "### 4. Train the Agent with DDPG"
   ]
  },
  {
   "cell_type": "code",
   "execution_count": null,
   "metadata": {},
   "outputs": [],
   "source": [
    "from collections import deque\n",
    "import numpy as np\n",
    "import time\n",
    "import torch\n",
    "\n",
    "n_episodes=1000\n",
    "n_learn = 1\n",
    "R_goal=30 # TOCHECK\n",
    "R_deque = deque(maxlen=100)\n",
    "Rs = [] # plot\n",
    "meanRs_deque = [] # plot\n",
    "dlosses = []\n",
    "glosses = []"
   ]
  },
  {
   "cell_type": "code",
   "execution_count": null,
   "metadata": {},
   "outputs": [],
   "source": [
    "# γ=0.999 # gamma"
   ]
  },
  {
   "cell_type": "code",
   "execution_count": null,
   "metadata": {},
   "outputs": [
    {
     "name": "stdout",
     "output_type": "stream",
     "text": [
      "Episode 1\tTotal Average Score: 0.00\tGloss: 0.00\tDloss: 0.00\n",
      "Episode 2\tTotal Average Score: 0.13\tGloss: -0.04\tDloss: 0.00\n",
      "Episode 3\tTotal Average Score: 0.25\tGloss: -0.04\tDloss: 0.00\n",
      "Episode 4\tTotal Average Score: 0.42\tGloss: -0.04\tDloss: 0.00\n",
      "Episode 5\tTotal Average Score: 0.37\tGloss: -0.04\tDloss: 0.00\n",
      "Episode 6\tTotal Average Score: 0.48\tGloss: -0.04\tDloss: 0.00\n",
      "Episode 7\tTotal Average Score: 0.48\tGloss: -0.05\tDloss: 0.00\n",
      "Episode 8\tTotal Average Score: 0.44\tGloss: -0.05\tDloss: 0.00\n",
      "Episode 9\tTotal Average Score: 0.40\tGloss: -0.06\tDloss: 0.00\n",
      "Episode 10\tTotal Average Score: 0.45\tGloss: -0.07\tDloss: 0.00\n",
      "Episode 11\tTotal Average Score: 0.50\tGloss: -0.07\tDloss: 0.00\n",
      "Episode 12\tTotal Average Score: 0.59\tGloss: -0.08\tDloss: 0.00\n",
      "Episode 13\tTotal Average Score: 0.55\tGloss: -0.09\tDloss: 0.00\n",
      "Episode 14\tTotal Average Score: 0.61\tGloss: -0.09\tDloss: 0.00\n",
      "Episode 15\tTotal Average Score: 0.65\tGloss: -0.10\tDloss: 0.00\n",
      "Episode 16\tTotal Average Score: 0.66\tGloss: -0.10\tDloss: 0.00\n",
      "Episode 17\tTotal Average Score: 0.65\tGloss: -0.11\tDloss: 0.00\n",
      "Episode 18\tTotal Average Score: 0.68\tGloss: -0.11\tDloss: 0.00\n",
      "Episode 19\tTotal Average Score: 0.73\tGloss: -0.12\tDloss: 0.00\n",
      "Episode 20\tTotal Average Score: 0.73\tGloss: -0.13\tDloss: 0.01\n",
      "Episode 21\tTotal Average Score: 0.71\tGloss: -0.13\tDloss: 0.01\n",
      "Episode 22\tTotal Average Score: 0.71\tGloss: -0.14\tDloss: 0.01\n",
      "Episode 23\tTotal Average Score: 0.70\tGloss: -0.14\tDloss: 0.01\n",
      "Episode 24\tTotal Average Score: 0.69\tGloss: -0.15\tDloss: 0.01\n",
      "Episode 25\tTotal Average Score: 0.71\tGloss: -0.15\tDloss: 0.01\n",
      "Episode 26\tTotal Average Score: 0.69\tGloss: -0.16\tDloss: 0.01\n",
      "Episode 27\tTotal Average Score: 0.75\tGloss: -0.16\tDloss: 0.01\n",
      "Episode 28\tTotal Average Score: 0.73\tGloss: -0.17\tDloss: 0.01\n",
      "Episode 29\tTotal Average Score: 0.72\tGloss: -0.17\tDloss: 0.01\n",
      "Episode 30\tTotal Average Score: 0.72\tGloss: -0.18\tDloss: 0.01\n",
      "Episode 31\tTotal Average Score: 0.71\tGloss: -0.18\tDloss: 0.01\n",
      "Episode 32\tTotal Average Score: 0.77\tGloss: -0.18\tDloss: 0.01\n",
      "Episode 33\tTotal Average Score: 0.77\tGloss: -0.18\tDloss: 0.01\n",
      "Episode 34\tTotal Average Score: 0.77\tGloss: -0.19\tDloss: 0.01\n",
      "Episode 35\tTotal Average Score: 0.76\tGloss: -0.19\tDloss: 0.01\n",
      "Episode 36\tTotal Average Score: 0.77\tGloss: -0.19\tDloss: 0.01\n",
      "Episode 37\tTotal Average Score: 0.77\tGloss: -0.19\tDloss: 0.01\n",
      "Episode 38\tTotal Average Score: 0.76\tGloss: -0.19\tDloss: 0.01\n",
      "Episode 39\tTotal Average Score: 0.77\tGloss: -0.19\tDloss: 0.01\n",
      "Episode 40\tTotal Average Score: 0.76\tGloss: -0.19\tDloss: 0.01\n",
      "Episode 41\tTotal Average Score: 0.79\tGloss: -0.19\tDloss: 0.01\n",
      "Episode 42\tTotal Average Score: 0.78\tGloss: -0.20\tDloss: 0.01\n",
      "Episode 43\tTotal Average Score: 0.79\tGloss: -0.20\tDloss: 0.01\n",
      "Episode 44\tTotal Average Score: 0.79\tGloss: -0.20\tDloss: 0.01\n",
      "Episode 45\tTotal Average Score: 0.79\tGloss: -0.20\tDloss: 0.01\n",
      "Episode 46\tTotal Average Score: 0.79\tGloss: -0.20\tDloss: 0.01\n",
      "Episode 47\tTotal Average Score: 0.78\tGloss: -0.21\tDloss: 0.01\n",
      "Episode 48\tTotal Average Score: 0.78\tGloss: -0.21\tDloss: 0.01\n",
      "Episode 49\tTotal Average Score: 0.78\tGloss: -0.21\tDloss: 0.01\n",
      "Episode 50\tTotal Average Score: 0.78\tGloss: -0.21\tDloss: 0.01\n",
      "Episode 51\tTotal Average Score: 0.77\tGloss: -0.21\tDloss: 0.01\n",
      "Episode 52\tTotal Average Score: 0.76\tGloss: -0.21\tDloss: 0.01\n",
      "Episode 53\tTotal Average Score: 0.75\tGloss: -0.21\tDloss: 0.01\n",
      "Episode 54\tTotal Average Score: 0.74\tGloss: -0.21\tDloss: 0.01\n",
      "Episode 55\tTotal Average Score: 0.74\tGloss: -0.21\tDloss: 0.01\n",
      "Episode 56\tTotal Average Score: 0.76\tGloss: -0.21\tDloss: 0.01\n",
      "Episode 57\tTotal Average Score: 0.79\tGloss: -0.21\tDloss: 0.01\n",
      "Episode 58\tTotal Average Score: 0.80\tGloss: -0.20\tDloss: 0.01\n",
      "Episode 59\tTotal Average Score: 0.80\tGloss: -0.20\tDloss: 0.01\n",
      "Episode 60\tTotal Average Score: 0.81\tGloss: -0.20\tDloss: 0.01\n",
      "Episode 61\tTotal Average Score: 0.82\tGloss: -0.20\tDloss: 0.01\n",
      "Episode 62\tTotal Average Score: 0.82\tGloss: -0.20\tDloss: 0.01\n",
      "Episode 63\tTotal Average Score: 0.82\tGloss: -0.21\tDloss: 0.01\n",
      "Episode 64\tTotal Average Score: 0.81\tGloss: -0.21\tDloss: 0.01\n",
      "Episode 65\tTotal Average Score: 0.82\tGloss: -0.21\tDloss: 0.01\n",
      "Episode 66\tTotal Average Score: 0.83\tGloss: -0.21\tDloss: 0.01\n",
      "Episode 67\tTotal Average Score: 0.85\tGloss: -0.21\tDloss: 0.01\n",
      "Episode 68\tTotal Average Score: 0.85\tGloss: -0.21\tDloss: 0.01\n",
      "Episode 69\tTotal Average Score: 0.85\tGloss: -0.21\tDloss: 0.01\n",
      "Episode 70\tTotal Average Score: 0.84\tGloss: -0.21\tDloss: 0.01\n",
      "Episode 71\tTotal Average Score: 0.84\tGloss: -0.21\tDloss: 0.01\n",
      "Episode 72\tTotal Average Score: 0.85\tGloss: -0.21\tDloss: 0.01\n",
      "Episode 73\tTotal Average Score: 0.85\tGloss: -0.21\tDloss: 0.01\n",
      "Episode 74\tTotal Average Score: 0.85\tGloss: -0.21\tDloss: 0.01\n",
      "Episode 75\tTotal Average Score: 0.84\tGloss: -0.21\tDloss: 0.01\n",
      "Episode 76\tTotal Average Score: 0.84\tGloss: -0.21\tDloss: 0.01\n",
      "Episode 77\tTotal Average Score: 0.85\tGloss: -0.21\tDloss: 0.01\n",
      "Episode 78\tTotal Average Score: 0.85\tGloss: -0.21\tDloss: 0.01\n",
      "Episode 79\tTotal Average Score: 0.84\tGloss: -0.21\tDloss: 0.01\n",
      "Episode 80\tTotal Average Score: 0.85\tGloss: -0.21\tDloss: 0.01\n",
      "Episode 81\tTotal Average Score: 0.85\tGloss: -0.22\tDloss: 0.01\n",
      "Episode 82\tTotal Average Score: 0.85\tGloss: -0.22\tDloss: 0.01\n",
      "Episode 83\tTotal Average Score: 0.86\tGloss: -0.22\tDloss: 0.01\n",
      "Episode 84\tTotal Average Score: 0.87\tGloss: -0.22\tDloss: 0.01\n",
      "Episode 85\tTotal Average Score: 0.87\tGloss: -0.22\tDloss: 0.01\n",
      "Episode 86\tTotal Average Score: 0.87\tGloss: -0.22\tDloss: 0.01\n",
      "Episode 87\tTotal Average Score: 0.87\tGloss: -0.22\tDloss: 0.01\n",
      "Episode 88\tTotal Average Score: 0.86\tGloss: -0.22\tDloss: 0.01\n",
      "Episode 89\tTotal Average Score: 0.86\tGloss: -0.22\tDloss: 0.01\n",
      "Episode 90\tTotal Average Score: 0.87\tGloss: -0.22\tDloss: 0.01\n",
      "Episode 91\tTotal Average Score: 0.86\tGloss: -0.22\tDloss: 0.01\n",
      "Episode 92\tTotal Average Score: 0.86\tGloss: -0.22\tDloss: 0.01\n",
      "Episode 93\tTotal Average Score: 0.85\tGloss: -0.22\tDloss: 0.01\n",
      "Episode 94\tTotal Average Score: 0.85\tGloss: -0.22\tDloss: 0.01\n",
      "Episode 95\tTotal Average Score: 0.85\tGloss: -0.22\tDloss: 0.01\n",
      "Episode 96\tTotal Average Score: 0.84\tGloss: -0.22\tDloss: 0.01\n",
      "Episode 97\tTotal Average Score: 0.83\tGloss: -0.22\tDloss: 0.01\n",
      "Episode 98\tTotal Average Score: 0.82\tGloss: -0.21\tDloss: 0.01\n",
      "Episode 99\tTotal Average Score: 0.82\tGloss: -0.21\tDloss: 0.01\n",
      "Episode 100\tTotal Average Score: 0.83\tGloss: -0.21\tDloss: 0.01\n",
      "Episode 101\tTotal Average Score: 0.83\tGloss: -0.21\tDloss: 0.01\n",
      "Episode 102\tTotal Average Score: 0.84\tGloss: -0.21\tDloss: 0.01\n",
      "Episode 103\tTotal Average Score: 0.85\tGloss: -0.21\tDloss: 0.01\n",
      "Episode 104\tTotal Average Score: 0.84\tGloss: -0.21\tDloss: 0.01\n",
      "Episode 105\tTotal Average Score: 0.85\tGloss: -0.22\tDloss: 0.01\n",
      "Episode 106\tTotal Average Score: 0.84\tGloss: -0.22\tDloss: 0.01\n",
      "Episode 107\tTotal Average Score: 0.84\tGloss: -0.22\tDloss: 0.01\n",
      "Episode 108\tTotal Average Score: 0.85\tGloss: -0.22\tDloss: 0.01\n",
      "Episode 109\tTotal Average Score: 0.86\tGloss: -0.21\tDloss: 0.01\n",
      "Episode 110\tTotal Average Score: 0.87\tGloss: -0.21\tDloss: 0.01\n",
      "Episode 111\tTotal Average Score: 0.87\tGloss: -0.21\tDloss: 0.01\n",
      "Episode 112\tTotal Average Score: 0.86\tGloss: -0.21\tDloss: 0.01\n",
      "Episode 113\tTotal Average Score: 0.86\tGloss: -0.21\tDloss: 0.01\n",
      "Episode 114\tTotal Average Score: 0.85\tGloss: -0.21\tDloss: 0.01\n",
      "Episode 115\tTotal Average Score: 0.85\tGloss: -0.21\tDloss: 0.01\n",
      "Episode 116\tTotal Average Score: 0.85\tGloss: -0.21\tDloss: 0.01\n",
      "Episode 117\tTotal Average Score: 0.87\tGloss: -0.21\tDloss: 0.01\n",
      "Episode 118\tTotal Average Score: 0.86\tGloss: -0.21\tDloss: 0.01\n",
      "Episode 119\tTotal Average Score: 0.85\tGloss: -0.21\tDloss: 0.01\n",
      "Episode 120\tTotal Average Score: 0.86\tGloss: -0.21\tDloss: 0.01\n",
      "Episode 121\tTotal Average Score: 0.86\tGloss: -0.21\tDloss: 0.01\n"
     ]
    }
   ],
   "source": [
    "for i_episode in range(n_episodes):\n",
    "    \n",
    "    # Reset Env and Agent\n",
    "    env_info = env.reset(train_mode=True)[brain_name]       # reset the environment (env)    \n",
    "    s = env_info.vector_observations[0]                   # get the current state (s) (for an agent)\n",
    "\n",
    "    R = 0                            # initialize the total score (R) (for an agent)\n",
    "    \n",
    "    glosses_batch = []\n",
    "    dlosses_batch = []\n",
    "\n",
    "    #for i_step in range(n_steps):\n",
    "    while True:\n",
    "        \n",
    "        s = np.reshape(s, [1, -1])\n",
    "        a = agent.act(s) # a: action [-1, +1], s: current state for an agent\n",
    "        #print(a.shape)\n",
    "        \n",
    "        # Exploration noise\n",
    "        # noise = np.random.normal(loc=0, scale=0.1, size=[num_agents, action_size])\n",
    "        # A += noise\n",
    "        # A = np.clip(a=A, a_min=-1, a_max=1)\n",
    "\n",
    "        env_info = env.step(a)[brain_name]            # send an action (a) to the environment (env)\n",
    "        s2 = env_info.vector_observations[0]          # get next state (s) (for an agent)\n",
    "        r = env_info.rewards[0]                          # get reward (for an agent)\n",
    "        done = env_info.local_done[0]               # see if episode is done/finished (terminal) for an agent\n",
    "        \n",
    "        #for state, action, reward, next_state, done in zip(states, actions, rewards, next_states, dones):\n",
    "        #for s, a, r, s2, done in zip(S, A, rewards, S2, dones):\n",
    "        agent.step(s, a, r, s2, done) # send an exprience (e) to the agent or collecting experiences (E)\n",
    "\n",
    "        R += r                           # update the total score (for an agent)\n",
    "        s = s2                                # roll over state (s) to next state (s2)\n",
    "\n",
    "        # if i_step%learn_every == 0:\n",
    "        #dlosses_Nlearn = []\n",
    "        #for _ in range(n_learn):\n",
    "        dloss, dQ, Q = agent.start_dlearn()\n",
    "        #dlosses_Nlearn.append(dloss)\n",
    "        #dlosses_batch.append(np.mean(dlosses_Nlearn))\n",
    "        #print(dloss, dQ, Q)\n",
    "        #print(dloss)\n",
    "        #print(agent.start_dlearn())\n",
    "        dlosses_batch.append(dloss)\n",
    "        \n",
    "        gloss = agent.start_glearn()\n",
    "        glosses_batch.append(gloss)\n",
    "\n",
    "        if done: # exit loop if episode is done/finished for an agent\n",
    "            break\n",
    "\n",
    "    Rs.append(R) # plot\n",
    "    R_deque.append(R)\n",
    "    meanRs_deque.append(np.mean(R_deque)) # plot\n",
    "    glosses.append(np.mean(glosses_batch))\n",
    "    dlosses.append(np.mean(dlosses_batch))\n",
    "\n",
    "    print('\\rEpisode {}\\tTotal Average Score: {:.2f}\\tGloss: {:.2f}\\tDloss: {:.2f}'.format(\n",
    "            i_episode+1, np.mean(R_deque), np.mean(glosses_batch), np.mean(dlosses_batch)))\n",
    "    \n",
    "    if np.mean(R_deque) >= R_goal:\n",
    "        torch.save(agent.g.state_dict(), 'g-reacher2.pth')\n",
    "        torch.save(agent.d.state_dict(), 'd-reacher2.pth')\n",
    "        break"
   ]
  },
  {
   "cell_type": "markdown",
   "metadata": {},
   "source": [
    "### 5. Plot the result"
   ]
  },
  {
   "cell_type": "code",
   "execution_count": null,
   "metadata": {},
   "outputs": [],
   "source": [
    "import matplotlib.pyplot as plt\n",
    "%matplotlib inline"
   ]
  },
  {
   "cell_type": "code",
   "execution_count": null,
   "metadata": {},
   "outputs": [],
   "source": [
    "fig = plt.figure()\n",
    "ax = fig.add_subplot(1,1,1)\n",
    "\n",
    "plt.plot(np.arange(1, len(meanRs_deque)+1), meanRs_deque)\n",
    "plt.ylabel('total_average_scores')\n",
    "plt.xlabel('Episode #')\n",
    "plt.show()"
   ]
  },
  {
   "cell_type": "markdown",
   "metadata": {},
   "source": [
    "### 6. Watch the agent running with saved weights"
   ]
  },
  {
   "cell_type": "code",
   "execution_count": 7,
   "metadata": {},
   "outputs": [
    {
     "name": "stdout",
     "output_type": "stream",
     "text": [
      "Average of total scores: 39.38999911956489\n"
     ]
    }
   ],
   "source": [
    "# Load the saved weights into Pytorch model\n",
    "agent.g.load_state_dict(torch.load('g-reacher.pth', map_location='cpu'))\n",
    "agent.d.load_state_dict(torch.load('d-reacher.pth', map_location='cpu'))\n",
    "\n",
    "env_info = env.reset(train_mode=False)[brain_name]     # reset the environment (env)\n",
    "s = env_info.vector_observations[0]                  # get the current state (s) (for an agent)\n",
    "s_ = np.zeros_like(s)\n",
    "\n",
    "R = 0                          # initialize the total score (R) (for an agent)\n",
    "\n",
    "while True:\n",
    "    s = np.reshape(s, [1, -1])\n",
    "    s_ = np.reshape(s_, [1, -1])\n",
    "    a = agent.act(s, s_) # select action (a) from loaded model agent\n",
    "    \n",
    "    #s2, r, done = env.step(s)\n",
    "    env_info = env.step(a)[brain_name]           # send an action (a) to the environment (env)\n",
    "    s2 = env_info.vector_observations[0]         # get next state (s2) (for an agent)\n",
    "    r = env_info.rewards[0]                     # get reward (for an agent)\n",
    "    done = env_info.local_done[0]               # see if the episode is done/finished (terminal) for an agent\n",
    "    \n",
    "    s2_, _ = agent.env(s, a)\n",
    "    \n",
    "    R += r                         # update the total score (R) (for an agent)\n",
    "    s = s2                               # roll over current state (s) to next state (s2)\n",
    "    s_ = s2_\n",
    "    \n",
    "    if done:                        # exit loop if episode is done/finished for an agent\n",
    "        break\n",
    "        \n",
    "print('Average of total scores: {}'.format(R))"
   ]
  },
  {
   "cell_type": "markdown",
   "metadata": {},
   "source": [
    "When finished, you can close the environment."
   ]
  },
  {
   "cell_type": "code",
   "execution_count": 6,
   "metadata": {},
   "outputs": [],
   "source": [
    "env.close()"
   ]
  },
  {
   "cell_type": "code",
   "execution_count": null,
   "metadata": {},
   "outputs": [],
   "source": []
  }
 ],
 "metadata": {
  "kernelspec": {
   "display_name": "Python 3",
   "language": "python",
   "name": "python3"
  },
  "language_info": {
   "codemirror_mode": {
    "name": "ipython",
    "version": 3
   },
   "file_extension": ".py",
   "mimetype": "text/x-python",
   "name": "python",
   "nbconvert_exporter": "python",
   "pygments_lexer": "ipython3",
   "version": "3.6.8"
  }
 },
 "nbformat": 4,
 "nbformat_minor": 2
}
