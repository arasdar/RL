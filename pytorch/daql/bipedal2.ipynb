{
 "cells": [
  {
   "cell_type": "markdown",
   "metadata": {},
   "source": [
    "# Continuous Control\n",
    "\n",
    "---\n",
    "\n",
    "You are welcome to use this coding environment to train your agent for the project.  Follow the instructions below to get started!\n",
    "\n",
    "### 1. Start the Environment"
   ]
  },
  {
   "cell_type": "code",
   "execution_count": 1,
   "metadata": {},
   "outputs": [],
   "source": [
    "import gym\n",
    "import random\n",
    "import torch\n",
    "import numpy as np\n",
    "from collections import deque\n",
    "import matplotlib.pyplot as plt\n",
    "%matplotlib inline"
   ]
  },
  {
   "cell_type": "markdown",
   "metadata": {},
   "source": [
    "Environments contain **_brains_** which are responsible for deciding the actions of their associated agents. Here we check for the first brain available, and set it as the default brain we will be controlling from Python."
   ]
  },
  {
   "cell_type": "code",
   "execution_count": 2,
   "metadata": {},
   "outputs": [
    {
     "data": {
      "text/plain": [
       "[10]"
      ]
     },
     "execution_count": 2,
     "metadata": {},
     "output_type": "execute_result"
    }
   ],
   "source": [
    "env = gym.make('BipedalWalker-v2')\n",
    "\n",
    "random_seed = 10\n",
    "env.seed(random_seed)\n",
    "\n",
    "# from agent import Agent\n",
    "# agent = Agent(state_size=env.observation_space.shape[0], action_size=env.action_space.shape[0], \n",
    "#               random_seed=random_seed)"
   ]
  },
  {
   "cell_type": "markdown",
   "metadata": {},
   "source": [
    "### 2. Examine the State and Action Spaces\n",
    "\n",
    "Run the code cell below to print some information about the environment."
   ]
  },
  {
   "cell_type": "code",
   "execution_count": 3,
   "metadata": {},
   "outputs": [
    {
     "data": {
      "text/plain": [
       "(Box(4,), Box(24,))"
      ]
     },
     "execution_count": 3,
     "metadata": {},
     "output_type": "execute_result"
    }
   ],
   "source": [
    "env.action_space, env.observation_space"
   ]
  },
  {
   "cell_type": "code",
   "execution_count": 4,
   "metadata": {},
   "outputs": [],
   "source": [
    "action_size = env.action_space.shape[0]\n",
    "state_size = env.observation_space.shape[0]"
   ]
  },
  {
   "cell_type": "code",
   "execution_count": 5,
   "metadata": {},
   "outputs": [
    {
     "data": {
      "text/plain": [
       "(4, 24)"
      ]
     },
     "execution_count": 5,
     "metadata": {},
     "output_type": "execute_result"
    }
   ],
   "source": [
    "action_size, state_size"
   ]
  },
  {
   "cell_type": "code",
   "execution_count": 6,
   "metadata": {},
   "outputs": [
    {
     "data": {
      "text/plain": [
       "(array([-inf, -inf, -inf, -inf, -inf, -inf, -inf, -inf, -inf, -inf, -inf,\n",
       "        -inf, -inf, -inf, -inf, -inf, -inf, -inf, -inf, -inf, -inf, -inf,\n",
       "        -inf, -inf], dtype=float32),\n",
       " array([inf, inf, inf, inf, inf, inf, inf, inf, inf, inf, inf, inf, inf,\n",
       "        inf, inf, inf, inf, inf, inf, inf, inf, inf, inf, inf],\n",
       "       dtype=float32))"
      ]
     },
     "execution_count": 6,
     "metadata": {},
     "output_type": "execute_result"
    }
   ],
   "source": [
    "env.observation_space.low, env.observation_space.high"
   ]
  },
  {
   "cell_type": "code",
   "execution_count": 7,
   "metadata": {},
   "outputs": [
    {
     "data": {
      "text/plain": [
       "(array([-1., -1., -1., -1.], dtype=float32),\n",
       " array([1., 1., 1., 1.], dtype=float32))"
      ]
     },
     "execution_count": 7,
     "metadata": {},
     "output_type": "execute_result"
    }
   ],
   "source": [
    "env.action_space.low, env.action_space.high"
   ]
  },
  {
   "cell_type": "markdown",
   "metadata": {},
   "source": [
    "### 3. Instantiate DDPG Agent"
   ]
  },
  {
   "cell_type": "code",
   "execution_count": 8,
   "metadata": {},
   "outputs": [],
   "source": [
    "from agent2 import Agent\n",
    "\n",
    "agent = Agent(s_size=state_size, a_size=action_size, random_seed=random_seed)"
   ]
  },
  {
   "cell_type": "markdown",
   "metadata": {},
   "source": [
    "### 4. Train the Agent with DDPG"
   ]
  },
  {
   "cell_type": "code",
   "execution_count": 9,
   "metadata": {},
   "outputs": [],
   "source": [
    "from collections import deque\n",
    "import numpy as np\n",
    "import time\n",
    "import torch\n",
    "\n",
    "n_episodes=1000\n",
    "# n_steps=1000\n",
    "# n_learn=10\n",
    "# learn_every=20\n",
    "R_goal=0 # TOCHECK\n",
    "Rs_deque = deque(maxlen=100)\n",
    "meanRs = [] # plot\n",
    "Rs = [] # plot\n",
    "dlosses = []\n",
    "glosses = []"
   ]
  },
  {
   "cell_type": "code",
   "execution_count": null,
   "metadata": {},
   "outputs": [],
   "source": [
    "for i_episode in range(n_episodes):\n",
    "    \n",
    "    # # Reset Env\n",
    "    # env_info = env.reset(train_mode=train_mode)[brain_name]       # reset the environment    \n",
    "    # S = env_info.vector_observations                   # get the current state (for each agent)\n",
    "    s = env.reset() # s: state [-1:1, -1:1, -8:8]\n",
    "    #print(s.shape)\n",
    "\n",
    "    #Rs = np.zeros(num_agents)                            # initialize the score (for each agent)\n",
    "    R = 0 # R: total reward\n",
    "    gloss_batch = []\n",
    "    dloss_batch = []\n",
    "\n",
    "    #for i_step in range(n_steps):\n",
    "    while True:\n",
    "        s = np.reshape(s, [1, -1])\n",
    "        a = agent.act(s) # a=[-2, 2]\n",
    "        #a *= 2\n",
    "        #print(a.shape)\n",
    "        \n",
    "        # Exploration noise\n",
    "        # noise = np.random.normal(loc=0, scale=0.1, size=[num_agents, action_size])\n",
    "        # A += noise\n",
    "        # A = np.clip(a=A, a_min=-1, a_max=1)\n",
    "\n",
    "        # env_info = env.step(A)[brain_name]            # send all actions to the environment\n",
    "        # S2 = env_info.vector_observations          # get next state (for each agent)\n",
    "        # rewards = env_info.rewards                          # get reward (for each agent)\n",
    "        # dones = env_info.local_done                         # see if episode finished\n",
    "        #s2: next_state, r: reward, done/terminal, env: environment\n",
    "        a = np.reshape(a, [-1])\n",
    "        s2, r, done, _ = env.step(a)\n",
    "        #print(s2.shape, r, done)\n",
    "\n",
    "        #s2_, q_ = agent.env(s, a)\n",
    "        a = np.reshape(a, [1, -1])\n",
    "        #s2_, _ = agent.env(s, a)\n",
    "        # print(s2_)\n",
    "        # s2_ = np.tanh(s2_) # predicted next state [-1:1, -1:1, -8:8]\n",
    "        # print(s2_)\n",
    "        # s2_[2] = s2_[2] * 8\n",
    "        # print(s2_)\n",
    "\n",
    "        # for s, a, reward, s2, done in zip(S, A, rewards, S2, dones):\n",
    "        # agent.step(state, action, reward, next_state, done) # send actions to the agent\n",
    "        agent.step(s, a, r, s2, done)\n",
    "\n",
    "        R += r                           # update the score (for each agent)\n",
    "        s = s2                                # roll over the states to the next state\n",
    "\n",
    "        # if i_step%learn_every == 0:\n",
    "        losses = []\n",
    "        for _ in range(10):\n",
    "            dloss = agent.start_dlearn()\n",
    "            #print(dloss)\n",
    "            losses.append(dloss)\n",
    "        dloss_batch.append(np.mean(losses))\n",
    "            \n",
    "        #print(len(agent.memory))\n",
    "        gloss = agent.start_glearn()\n",
    "        gloss_batch.append(gloss)\n",
    "\n",
    "        # if np.any(dones):                                   # exit loop if episode finished\n",
    "        #     break\n",
    "        if done:\n",
    "            break\n",
    "\n",
    "    #meanR = np.mean(Rs)\n",
    "    #Rs_deque.append(meanR)\n",
    "    Rs_deque.append(R)\n",
    "    meanRs.append(np.mean(Rs_deque)) # plot\n",
    "    Rs.append(R) # plot\n",
    "    dlosses.append(np.mean(dloss_batch))\n",
    "    glosses.append(np.mean(gloss_batch))\n",
    "\n",
    "    print('\\rEpisode {}\\tTotal Average Score: {:.2f}\\tGloss: {:.2f}, \\tDloss: {:.2f}'.format(\n",
    "           i_episode+1, np.mean(Rs_deque), np.mean(gloss_batch), np.mean(dloss_batch)))  \n",
    "    if np.mean(Rs_deque) >= R_goal:\n",
    "        torch.save(agent.g.state_dict(), 'g-bipedal.pth')\n",
    "        torch.save(agent.d.state_dict(), 'd-bipedal.pth')\n",
    "        break"
   ]
  },
  {
   "cell_type": "markdown",
   "metadata": {},
   "source": [
    "### 5. Plot the result"
   ]
  },
  {
   "cell_type": "code",
   "execution_count": 18,
   "metadata": {},
   "outputs": [],
   "source": [
    "import matplotlib.pyplot as plt\n",
    "%matplotlib inline"
   ]
  },
  {
   "cell_type": "code",
   "execution_count": 19,
   "metadata": {},
   "outputs": [
    {
     "data": {
      "image/png": "[encoded data removed]",
      "text/plain": [
       "<Figure size 432x288 with 1 Axes>"
      ]
     },
     "metadata": {
      "needs_background": "light"
     },
     "output_type": "display_data"
    }
   ],
   "source": [
    "fig = plt.figure()\n",
    "ax = fig.add_subplot(1,1,1)\n",
    "\n",
    "plt.plot(np.arange(1, len(meanRs)+1), meanRs)\n",
    "plt.ylabel('total_average_scores')\n",
    "plt.xlabel('Episode #')\n",
    "plt.show()"
   ]
  },
  {
   "cell_type": "markdown",
   "metadata": {},
   "source": [
    "### 6. Watch the agent running with saved weights"
   ]
  },
  {
   "cell_type": "code",
   "execution_count": 36,
   "metadata": {},
   "outputs": [
    {
     "name": "stdout",
     "output_type": "stream",
     "text": [
      "Average of total scores: -106.75700939138544\n"
     ]
    }
   ],
   "source": [
    "# Load the saved weights into Pytorch model\n",
    "agent.g.load_state_dict(torch.load('g-bipedal.pth', map_location='cpu'))\n",
    "agent.d.load_state_dict(torch.load('d-bipedal.pth', map_location='cpu'))\n",
    "\n",
    "# env_info = env.reset(train_mode=False)[brain_name]     # reset the environment    \n",
    "# S = env_info.vector_observations                  # get the current states (S) (for each agent)\n",
    "s = env.reset() # s: state # get the current state (s) (for an agent)\n",
    "s_ = np.zeros_like(s)# s_: predicted state # predict the current state (s) (by the agent)\n",
    "# print(s.shape)\n",
    "\n",
    "#Rs = np.zeros(num_agents)                          # initialize the total scores (Rs) (for each agent)\n",
    "R = 0 # R:total reward # initialize the total score (R) (for an agent)\n",
    "\n",
    "while True:\n",
    "    #A = agent.act(S)                        # select actions (A) from loaded model agents\n",
    "    s = np.reshape(s, [1, -1])\n",
    "    s_ = np.reshape(s_, [1, -1])\n",
    "    a = agent.act(s, s_) # a: [-1, +1]    # select action (a) from loaded model agent\n",
    "    #a = agent.act(s)\n",
    "    #print(s.shape, a.shape)\n",
    "    \n",
    "    # env_info = env.step(A)[brain_name]           # send all actions (A) to tne environment (env)\n",
    "    # S2 = env_info.vector_observations         # get next states (S2) (for each agent)\n",
    "    # rewards = env_info.rewards                         # get rewards (for each agent)\n",
    "    # dones = env_info.local_done                        # see if the episode is done/finished (terminal)\n",
    "    s2, r, done, _ = env.step(np.reshape(a, [-1]))\n",
    "    #s2, r, done = env.step(a)\n",
    "    \n",
    "    #s2_, q_ = agent.env(s, a)\n",
    "    s2_, _ = agent.env(s, a)\n",
    "    \n",
    "    # Rs += env_info.rewards                         # update the total scores (Rs) (for each agent)\n",
    "    # S = S2                               # roll over current states (S) to next states (S2)\n",
    "    R += r # update the total score (R) (for an agent)\n",
    "    s = s2 # roll over current state (s) to next state (s2)\n",
    "    s_ = s2_ # roll over the predcited current state (s) to the predicted next state (s2_)\n",
    "    \n",
    "    #if np.any(dones):                                  # exit loop if episode is done/finished\n",
    "    if done: # exit loop if episode is done/finished (terminal)\n",
    "        break\n",
    "        \n",
    "print('Average of total scores: {}'.format(R))"
   ]
  },
  {
   "cell_type": "markdown",
   "metadata": {},
   "source": [
    "When finished, you can close the environment."
   ]
  },
  {
   "cell_type": "code",
   "execution_count": 37,
   "metadata": {},
   "outputs": [],
   "source": [
    "env.close()"
   ]
  },
  {
   "cell_type": "code",
   "execution_count": null,
   "metadata": {},
   "outputs": [],
   "source": []
  }
 ],
 "metadata": {
  "kernelspec": {
   "display_name": "Python 3",
   "language": "python",
   "name": "python3"
  },
  "language_info": {
   "codemirror_mode": {
    "name": "ipython",
    "version": 3
   },
   "file_extension": ".py",
   "mimetype": "text/x-python",
   "name": "python",
   "nbconvert_exporter": "python",
   "pygments_lexer": "ipython3",
   "version": "3.6.8"
  }
 },
 "nbformat": 4,
 "nbformat_minor": 2
}
