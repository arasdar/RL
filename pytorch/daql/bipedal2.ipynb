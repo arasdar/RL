{
 "cells": [
  {
   "cell_type": "markdown",
   "metadata": {},
   "source": [
    "# Continuous Control\n",
    "\n",
    "---\n",
    "\n",
    "You are welcome to use this coding environment to train your agent for the project.  Follow the instructions below to get started!\n",
    "\n",
    "### 1. Start the Environment"
   ]
  },
  {
   "cell_type": "code",
   "execution_count": 1,
   "metadata": {},
   "outputs": [],
   "source": [
    "import gym\n",
    "import random\n",
    "import torch\n",
    "import numpy as np\n",
    "from collections import deque\n",
    "import matplotlib.pyplot as plt\n",
    "%matplotlib inline"
   ]
  },
  {
   "cell_type": "markdown",
   "metadata": {},
   "source": [
    "Environments contain **_brains_** which are responsible for deciding the actions of their associated agents. Here we check for the first brain available, and set it as the default brain we will be controlling from Python."
   ]
  },
  {
   "cell_type": "code",
   "execution_count": 2,
   "metadata": {},
   "outputs": [
    {
     "name": "stdout",
     "output_type": "stream",
     "text": [
      "\u001b[33mWARN: gym.spaces.Box autodetected dtype as <class 'numpy.float32'>. Please provide explicit dtype.\u001b[0m\n",
      "\u001b[33mWARN: gym.spaces.Box autodetected dtype as <class 'numpy.float32'>. Please provide explicit dtype.\u001b[0m\n"
     ]
    },
    {
     "name": "stderr",
     "output_type": "stream",
     "text": [
      "/home/arasdar/anaconda3/lib/python3.6/site-packages/gym/envs/registration.py:14: PkgResourcesDeprecationWarning: Parameters to load are deprecated.  Call .resolve and .require separately.\n",
      "  result = entry_point.load(False)\n"
     ]
    },
    {
     "data": {
      "text/plain": [
       "[10]"
      ]
     },
     "execution_count": 2,
     "metadata": {},
     "output_type": "execute_result"
    }
   ],
   "source": [
    "env = gym.make('BipedalWalker-v2')\n",
    "\n",
    "random_seed = 10\n",
    "env.seed(random_seed)\n",
    "\n",
    "# from agent import Agent\n",
    "# agent = Agent(state_size=env.observation_space.shape[0], action_size=env.action_space.shape[0], \n",
    "#               random_seed=random_seed)"
   ]
  },
  {
   "cell_type": "markdown",
   "metadata": {},
   "source": [
    "### 2. Examine the State and Action Spaces\n",
    "\n",
    "Run the code cell below to print some information about the environment."
   ]
  },
  {
   "cell_type": "code",
   "execution_count": 3,
   "metadata": {},
   "outputs": [
    {
     "data": {
      "text/plain": [
       "(Box(4,), Box(24,))"
      ]
     },
     "execution_count": 3,
     "metadata": {},
     "output_type": "execute_result"
    }
   ],
   "source": [
    "env.action_space, env.observation_space"
   ]
  },
  {
   "cell_type": "code",
   "execution_count": 4,
   "metadata": {},
   "outputs": [],
   "source": [
    "action_size = env.action_space.shape[0]\n",
    "state_size = env.observation_space.shape[0]"
   ]
  },
  {
   "cell_type": "code",
   "execution_count": 5,
   "metadata": {},
   "outputs": [
    {
     "data": {
      "text/plain": [
       "(4, 24)"
      ]
     },
     "execution_count": 5,
     "metadata": {},
     "output_type": "execute_result"
    }
   ],
   "source": [
    "action_size, state_size"
   ]
  },
  {
   "cell_type": "code",
   "execution_count": 6,
   "metadata": {},
   "outputs": [
    {
     "data": {
      "text/plain": [
       "(array([-inf, -inf, -inf, -inf, -inf, -inf, -inf, -inf, -inf, -inf, -inf,\n",
       "        -inf, -inf, -inf, -inf, -inf, -inf, -inf, -inf, -inf, -inf, -inf,\n",
       "        -inf, -inf], dtype=float32),\n",
       " array([inf, inf, inf, inf, inf, inf, inf, inf, inf, inf, inf, inf, inf,\n",
       "        inf, inf, inf, inf, inf, inf, inf, inf, inf, inf, inf],\n",
       "       dtype=float32))"
      ]
     },
     "execution_count": 6,
     "metadata": {},
     "output_type": "execute_result"
    }
   ],
   "source": [
    "env.observation_space.low, env.observation_space.high"
   ]
  },
  {
   "cell_type": "code",
   "execution_count": 7,
   "metadata": {},
   "outputs": [
    {
     "data": {
      "text/plain": [
       "(array([-1., -1., -1., -1.], dtype=float32),\n",
       " array([1., 1., 1., 1.], dtype=float32))"
      ]
     },
     "execution_count": 7,
     "metadata": {},
     "output_type": "execute_result"
    }
   ],
   "source": [
    "env.action_space.low, env.action_space.high"
   ]
  },
  {
   "cell_type": "markdown",
   "metadata": {},
   "source": [
    "### 3. Instantiate DDPG Agent"
   ]
  },
  {
   "cell_type": "code",
   "execution_count": 8,
   "metadata": {},
   "outputs": [],
   "source": [
    "from agent2 import Agent\n",
    "\n",
    "agent = Agent(s_size=state_size, a_size=action_size, random_seed=random_seed)"
   ]
  },
  {
   "cell_type": "markdown",
   "metadata": {},
   "source": [
    "### 4. Train the Agent with DDPG"
   ]
  },
  {
   "cell_type": "code",
   "execution_count": 9,
   "metadata": {},
   "outputs": [],
   "source": [
    "from collections import deque\n",
    "import numpy as np\n",
    "import time\n",
    "import torch\n",
    "\n",
    "n_episodes=1000\n",
    "# n_steps=1000\n",
    "n_learn=1\n",
    "# learn_every=20\n",
    "R_goal=0 # TOCHECK\n",
    "Rs_deque = deque(maxlen=100)\n",
    "meanRs = [] # plot\n",
    "Rs = [] # plot\n",
    "dlosses = []\n",
    "glosses = []"
   ]
  },
  {
   "cell_type": "code",
   "execution_count": null,
   "metadata": {},
   "outputs": [
    {
     "name": "stdout",
     "output_type": "stream",
     "text": [
      "Episode 1\tTotal Average Score: -92.41\tGloss: 0.00, \tDloss: 0.00\n",
      "Episode 2\tTotal Average Score: -92.44\tGloss: 0.00, \tDloss: 0.00\n",
      "Episode 3\tTotal Average Score: -92.44\tGloss: 0.00, \tDloss: 0.00\n",
      "Episode 4\tTotal Average Score: -92.46\tGloss: 0.00, \tDloss: 0.00\n",
      "Episode 5\tTotal Average Score: -92.47\tGloss: 0.00, \tDloss: 0.00\n",
      "Episode 6\tTotal Average Score: -92.49\tGloss: 0.00, \tDloss: 0.00\n",
      "Episode 7\tTotal Average Score: -92.49\tGloss: 0.00, \tDloss: 0.00\n",
      "Episode 8\tTotal Average Score: -92.48\tGloss: 0.00, \tDloss: 0.00\n",
      "Episode 9\tTotal Average Score: -92.48\tGloss: 0.00, \tDloss: 0.00\n",
      "Episode 10\tTotal Average Score: -92.47\tGloss: -0.03, \tDloss: 0.72\n",
      "Episode 11\tTotal Average Score: -94.89\tGloss: -0.03, \tDloss: 0.98\n",
      "Episode 12\tTotal Average Score: -98.79\tGloss: -0.04, \tDloss: 0.83\n",
      "Episode 13\tTotal Average Score: -100.46\tGloss: -0.08, \tDloss: 0.69\n",
      "Episode 14\tTotal Average Score: -102.12\tGloss: -0.10, \tDloss: 0.69\n",
      "Episode 15\tTotal Average Score: -101.78\tGloss: -0.11, \tDloss: 0.75\n",
      "Episode 16\tTotal Average Score: -101.50\tGloss: -0.12, \tDloss: 0.70\n",
      "Episode 17\tTotal Average Score: -101.45\tGloss: -0.12, \tDloss: 0.79\n",
      "Episode 18\tTotal Average Score: -101.33\tGloss: -0.12, \tDloss: 0.76\n",
      "Episode 19\tTotal Average Score: -101.55\tGloss: -0.12, \tDloss: 0.80\n",
      "Episode 20\tTotal Average Score: -101.84\tGloss: -0.12, \tDloss: 0.86\n",
      "Episode 21\tTotal Average Score: -102.37\tGloss: -0.12, \tDloss: 0.89\n",
      "Episode 22\tTotal Average Score: -102.77\tGloss: -0.12, \tDloss: 0.87\n",
      "Episode 23\tTotal Average Score: -102.84\tGloss: -0.12, \tDloss: 0.94\n",
      "Episode 24\tTotal Average Score: -102.65\tGloss: -0.12, \tDloss: 0.89\n",
      "Episode 25\tTotal Average Score: -102.52\tGloss: -0.12, \tDloss: 0.94\n",
      "Episode 26\tTotal Average Score: -102.37\tGloss: -0.13, \tDloss: 0.99\n",
      "Episode 27\tTotal Average Score: -102.28\tGloss: -0.13, \tDloss: 0.95\n",
      "Episode 28\tTotal Average Score: -102.18\tGloss: -0.13, \tDloss: 0.96\n",
      "Episode 29\tTotal Average Score: -102.04\tGloss: -0.13, \tDloss: 0.99\n",
      "Episode 30\tTotal Average Score: -101.94\tGloss: -0.13, \tDloss: 1.00\n",
      "Episode 31\tTotal Average Score: -101.87\tGloss: -0.13, \tDloss: 1.04\n",
      "Episode 32\tTotal Average Score: -101.79\tGloss: -0.13, \tDloss: 1.02\n",
      "Episode 33\tTotal Average Score: -101.75\tGloss: -0.13, \tDloss: 1.08\n",
      "Episode 34\tTotal Average Score: -101.72\tGloss: -0.13, \tDloss: 1.04\n",
      "Episode 35\tTotal Average Score: -101.75\tGloss: -0.13, \tDloss: 1.12\n",
      "Episode 36\tTotal Average Score: -101.92\tGloss: -0.12, \tDloss: 1.07\n",
      "Episode 37\tTotal Average Score: -102.22\tGloss: -0.12, \tDloss: 1.12\n",
      "Episode 38\tTotal Average Score: -102.45\tGloss: -0.11, \tDloss: 1.09\n",
      "Episode 39\tTotal Average Score: -102.49\tGloss: -0.11, \tDloss: 1.05\n",
      "Episode 40\tTotal Average Score: -102.52\tGloss: -0.11, \tDloss: 1.09\n",
      "Episode 41\tTotal Average Score: -102.46\tGloss: -0.10, \tDloss: 1.11\n",
      "Episode 42\tTotal Average Score: -102.39\tGloss: -0.10, \tDloss: 1.13\n",
      "Episode 43\tTotal Average Score: -102.38\tGloss: -0.10, \tDloss: 1.18\n",
      "Episode 44\tTotal Average Score: -102.36\tGloss: -0.10, \tDloss: 1.23\n",
      "Episode 45\tTotal Average Score: -102.40\tGloss: -0.10, \tDloss: 1.17\n",
      "Episode 46\tTotal Average Score: -102.39\tGloss: -0.09, \tDloss: 1.18\n",
      "Episode 47\tTotal Average Score: -102.83\tGloss: -0.09, \tDloss: 1.20\n",
      "Episode 48\tTotal Average Score: -102.76\tGloss: -0.08, \tDloss: 1.18\n",
      "Episode 49\tTotal Average Score: -103.52\tGloss: -0.05, \tDloss: 1.12\n",
      "Episode 50\tTotal Average Score: -104.19\tGloss: -0.02, \tDloss: 1.05\n",
      "Episode 51\tTotal Average Score: -104.73\tGloss: -0.01, \tDloss: 1.09\n",
      "Episode 52\tTotal Average Score: -104.85\tGloss: -0.01, \tDloss: 1.09\n",
      "Episode 53\tTotal Average Score: -104.77\tGloss: -0.01, \tDloss: 1.06\n",
      "Episode 54\tTotal Average Score: -105.08\tGloss: -0.01, \tDloss: 1.07\n",
      "Episode 55\tTotal Average Score: -105.44\tGloss: -0.03, \tDloss: 1.07\n",
      "Episode 56\tTotal Average Score: -105.43\tGloss: -0.04, \tDloss: 1.07\n",
      "Episode 57\tTotal Average Score: -105.42\tGloss: -0.04, \tDloss: 1.11\n",
      "Episode 58\tTotal Average Score: -105.70\tGloss: -0.02, \tDloss: 1.07\n",
      "Episode 59\tTotal Average Score: -105.84\tGloss: 0.02, \tDloss: 1.07\n",
      "Episode 60\tTotal Average Score: -106.00\tGloss: 0.03, \tDloss: 1.03\n",
      "Episode 61\tTotal Average Score: -106.24\tGloss: 0.05, \tDloss: 1.03\n",
      "Episode 62\tTotal Average Score: -106.36\tGloss: 0.07, \tDloss: 1.07\n",
      "Episode 63\tTotal Average Score: -106.52\tGloss: 0.09, \tDloss: 1.09\n",
      "Episode 64\tTotal Average Score: -106.64\tGloss: 0.11, \tDloss: 1.08\n",
      "Episode 65\tTotal Average Score: -106.57\tGloss: 0.15, \tDloss: 1.06\n",
      "Episode 66\tTotal Average Score: -106.60\tGloss: 0.18, \tDloss: 1.12\n",
      "Episode 67\tTotal Average Score: -106.62\tGloss: 0.19, \tDloss: 1.01\n",
      "Episode 68\tTotal Average Score: -106.63\tGloss: 0.22, \tDloss: 1.04\n",
      "Episode 69\tTotal Average Score: -106.64\tGloss: 0.24, \tDloss: 1.08\n",
      "Episode 70\tTotal Average Score: -106.65\tGloss: 0.26, \tDloss: 1.05\n",
      "Episode 71\tTotal Average Score: -107.14\tGloss: 0.35, \tDloss: 1.02\n",
      "Episode 72\tTotal Average Score: -107.10\tGloss: 0.43, \tDloss: 1.01\n",
      "Episode 73\tTotal Average Score: -107.30\tGloss: 0.47, \tDloss: 1.02\n",
      "Episode 74\tTotal Average Score: -107.38\tGloss: 0.50, \tDloss: 1.00\n",
      "Episode 75\tTotal Average Score: -107.39\tGloss: 0.55, \tDloss: 0.94\n",
      "Episode 76\tTotal Average Score: -107.31\tGloss: 0.62, \tDloss: 0.97\n",
      "Episode 77\tTotal Average Score: -107.23\tGloss: 0.66, \tDloss: 0.95\n",
      "Episode 78\tTotal Average Score: -107.17\tGloss: 0.68, \tDloss: 0.94\n",
      "Episode 79\tTotal Average Score: -107.13\tGloss: 0.69, \tDloss: 0.95\n",
      "Episode 80\tTotal Average Score: -107.09\tGloss: 0.71, \tDloss: 1.02\n",
      "Episode 81\tTotal Average Score: -107.06\tGloss: 0.73, \tDloss: 1.00\n",
      "Episode 82\tTotal Average Score: -107.13\tGloss: 0.77, \tDloss: 0.94\n",
      "Episode 83\tTotal Average Score: -107.07\tGloss: 0.81, \tDloss: 0.99\n",
      "Episode 84\tTotal Average Score: -107.01\tGloss: 0.82, \tDloss: 0.95\n",
      "Episode 85\tTotal Average Score: -107.16\tGloss: 0.84, \tDloss: 0.95\n",
      "Episode 86\tTotal Average Score: -107.15\tGloss: 0.87, \tDloss: 0.96\n",
      "Episode 87\tTotal Average Score: -107.06\tGloss: 0.89, \tDloss: 0.98\n",
      "Episode 88\tTotal Average Score: -107.00\tGloss: 0.92, \tDloss: 0.95\n",
      "Episode 89\tTotal Average Score: -106.93\tGloss: 0.95, \tDloss: 0.91\n",
      "Episode 90\tTotal Average Score: -106.86\tGloss: 0.97, \tDloss: 0.94\n",
      "Episode 91\tTotal Average Score: -106.81\tGloss: 0.99, \tDloss: 0.96\n",
      "Episode 92\tTotal Average Score: -106.74\tGloss: 1.00, \tDloss: 0.94\n",
      "Episode 93\tTotal Average Score: -106.67\tGloss: 1.02, \tDloss: 0.93\n",
      "Episode 94\tTotal Average Score: -106.66\tGloss: 1.04, \tDloss: 0.93\n",
      "Episode 95\tTotal Average Score: -106.60\tGloss: 1.05, \tDloss: 0.95\n",
      "Episode 96\tTotal Average Score: -106.54\tGloss: 1.07, \tDloss: 0.99\n",
      "Episode 97\tTotal Average Score: -106.49\tGloss: 1.09, \tDloss: 0.96\n",
      "Episode 98\tTotal Average Score: -106.42\tGloss: 1.11, \tDloss: 0.96\n",
      "Episode 99\tTotal Average Score: -106.35\tGloss: 1.13, \tDloss: 0.98\n",
      "Episode 100\tTotal Average Score: -106.47\tGloss: 1.15, \tDloss: 0.94\n",
      "Episode 101\tTotal Average Score: -106.56\tGloss: 1.17, \tDloss: 0.97\n",
      "Episode 102\tTotal Average Score: -106.65\tGloss: 1.19, \tDloss: 0.98\n",
      "Episode 103\tTotal Average Score: -106.96\tGloss: 1.21, \tDloss: 0.97\n",
      "Episode 104\tTotal Average Score: -107.30\tGloss: 1.23, \tDloss: 1.00\n",
      "Episode 105\tTotal Average Score: -107.42\tGloss: 1.25, \tDloss: 1.02\n",
      "Episode 106\tTotal Average Score: -107.53\tGloss: 1.28, \tDloss: 1.01\n",
      "Episode 107\tTotal Average Score: -107.64\tGloss: 1.30, \tDloss: 1.01\n",
      "Episode 108\tTotal Average Score: -107.74\tGloss: 1.33, \tDloss: 0.96\n",
      "Episode 109\tTotal Average Score: -108.04\tGloss: 1.36, \tDloss: 0.96\n",
      "Episode 110\tTotal Average Score: -108.35\tGloss: 1.39, \tDloss: 1.01\n",
      "Episode 111\tTotal Average Score: -108.44\tGloss: 1.43, \tDloss: 0.99\n",
      "Episode 112\tTotal Average Score: -108.04\tGloss: 1.48, \tDloss: 0.99\n",
      "Episode 113\tTotal Average Score: -107.86\tGloss: 1.52, \tDloss: 1.02\n",
      "Episode 114\tTotal Average Score: -107.86\tGloss: 1.54, \tDloss: 0.95\n",
      "Episode 115\tTotal Average Score: -107.92\tGloss: 1.57, \tDloss: 0.96\n",
      "Episode 116\tTotal Average Score: -107.96\tGloss: 1.60, \tDloss: 0.96\n",
      "Episode 117\tTotal Average Score: -108.18\tGloss: 1.63, \tDloss: 0.97\n",
      "Episode 118\tTotal Average Score: -108.36\tGloss: 1.86, \tDloss: 0.95\n",
      "Episode 119\tTotal Average Score: -108.29\tGloss: 2.06, \tDloss: 0.90\n",
      "Episode 120\tTotal Average Score: -108.32\tGloss: 2.24, \tDloss: 0.84\n",
      "Episode 121\tTotal Average Score: -108.45\tGloss: 2.50, \tDloss: 0.76\n",
      "Episode 122\tTotal Average Score: -108.40\tGloss: 2.58, \tDloss: 0.78\n",
      "Episode 123\tTotal Average Score: -108.36\tGloss: 2.60, \tDloss: 0.76\n",
      "Episode 124\tTotal Average Score: -108.49\tGloss: 2.62, \tDloss: 0.79\n"
     ]
    },
    {
     "name": "stdout",
     "output_type": "stream",
     "text": [
      "Episode 125\tTotal Average Score: -108.47\tGloss: 2.63, \tDloss: 0.75\n",
      "Episode 126\tTotal Average Score: -108.48\tGloss: 2.65, \tDloss: 0.76\n",
      "Episode 127\tTotal Average Score: -108.62\tGloss: 2.67, \tDloss: 0.80\n",
      "Episode 128\tTotal Average Score: -108.69\tGloss: 2.68, \tDloss: 0.77\n",
      "Episode 129\tTotal Average Score: -108.84\tGloss: 2.70, \tDloss: 0.80\n",
      "Episode 130\tTotal Average Score: -109.07\tGloss: 2.72, \tDloss: 0.77\n",
      "Episode 131\tTotal Average Score: -109.33\tGloss: 2.74, \tDloss: 0.75\n",
      "Episode 132\tTotal Average Score: -109.51\tGloss: 2.76, \tDloss: 0.71\n",
      "Episode 133\tTotal Average Score: -109.66\tGloss: 2.78, \tDloss: 0.79\n",
      "Episode 134\tTotal Average Score: -109.78\tGloss: 2.79, \tDloss: 0.77\n",
      "Episode 135\tTotal Average Score: -109.86\tGloss: 2.80, \tDloss: 0.68\n",
      "Episode 136\tTotal Average Score: -110.04\tGloss: 2.82, \tDloss: 0.78\n",
      "Episode 137\tTotal Average Score: -109.95\tGloss: 2.84, \tDloss: 0.80\n",
      "Episode 138\tTotal Average Score: -110.01\tGloss: 2.85, \tDloss: 0.81\n",
      "Episode 139\tTotal Average Score: -110.10\tGloss: 2.87, \tDloss: 0.79\n",
      "Episode 140\tTotal Average Score: -110.10\tGloss: 2.89, \tDloss: 0.78\n",
      "Episode 141\tTotal Average Score: -110.14\tGloss: 2.91, \tDloss: 0.80\n",
      "Episode 142\tTotal Average Score: -110.20\tGloss: 2.93, \tDloss: 0.77\n",
      "Episode 143\tTotal Average Score: -110.48\tGloss: 2.96, \tDloss: 0.76\n",
      "Episode 144\tTotal Average Score: -110.57\tGloss: 2.99, \tDloss: 0.78\n",
      "Episode 145\tTotal Average Score: -110.55\tGloss: 3.00, \tDloss: 0.80\n",
      "Episode 146\tTotal Average Score: -110.60\tGloss: 3.02, \tDloss: 0.76\n",
      "Episode 147\tTotal Average Score: -110.57\tGloss: 3.04, \tDloss: 0.79\n",
      "Episode 148\tTotal Average Score: -110.61\tGloss: 3.06, \tDloss: 0.79\n"
     ]
    }
   ],
   "source": [
    "for i_episode in range(n_episodes):\n",
    "    \n",
    "    # # Reset Env\n",
    "    # env_info = env.reset(train_mode=train_mode)[brain_name]       # reset the environment    \n",
    "    # S = env_info.vector_observations                   # get the current state (for each agent)\n",
    "    s = env.reset() # s: state [-1:1, -1:1, -8:8]\n",
    "    #print(s.shape)\n",
    "\n",
    "    #Rs = np.zeros(num_agents)                            # initialize the score (for each agent)\n",
    "    R = 0 # R: total reward\n",
    "    \n",
    "    glosses_batch = []\n",
    "    dlosses_batch = []\n",
    "\n",
    "    #for i_step in range(n_steps):\n",
    "    while True:\n",
    "        s = np.reshape(s, [1, -1])\n",
    "        a = agent.act(s) # a=[-2, 2]\n",
    "        #a *= 2\n",
    "        #print(a.shape)\n",
    "        \n",
    "        # Exploration noise\n",
    "        # noise = np.random.normal(loc=0, scale=0.1, size=[num_agents, action_size])\n",
    "        # A += noise\n",
    "        # A = np.clip(a=A, a_min=-1, a_max=1)\n",
    "\n",
    "        # env_info = env.step(A)[brain_name]            # send all actions to the environment\n",
    "        # S2 = env_info.vector_observations          # get next state (for each agent)\n",
    "        # rewards = env_info.rewards                          # get reward (for each agent)\n",
    "        # dones = env_info.local_done                         # see if episode finished\n",
    "        #s2: next_state, r: reward, done/terminal, env: environment\n",
    "        a = np.reshape(a, [-1])\n",
    "        s2, r, done, _ = env.step(a)\n",
    "        #print(s2.shape, r, done)\n",
    "\n",
    "        #s2_, q_ = agent.env(s, a)\n",
    "        a = np.reshape(a, [1, -1])\n",
    "        #s2_, _ = agent.env(s, a)\n",
    "        # print(s2_)\n",
    "        # s2_ = np.tanh(s2_) # predicted next state [-1:1, -1:1, -8:8]\n",
    "        # print(s2_)\n",
    "        # s2_[2] = s2_[2] * 8\n",
    "        # print(s2_)\n",
    "\n",
    "        # for s, a, reward, s2, done in zip(S, A, rewards, S2, dones):\n",
    "        # agent.step(state, action, reward, next_state, done) # send actions to the agent\n",
    "        agent.step(s, a, r, s2, done)\n",
    "\n",
    "        R += r                           # update the score (for each agent)\n",
    "        s = s2                                # roll over the states to the next state\n",
    "\n",
    "        # if i_step%learn_every == 0:\n",
    "        dlosses_Nlearn = []\n",
    "        for _ in range(n_learn):\n",
    "            dloss, _, _ = agent.start_dlearn()\n",
    "            #print(dloss)\n",
    "            dlosses_Nlearn.append(dloss)\n",
    "        dlosses_batch.append(np.mean(dlosses_Nlearn))\n",
    "            \n",
    "        #print(len(agent.memory))\n",
    "        gloss = agent.start_glearn()\n",
    "        glosses_batch.append(gloss)\n",
    "\n",
    "        # if np.any(dones):                                   # exit loop if episode finished\n",
    "        #     break\n",
    "        if done:\n",
    "            break\n",
    "\n",
    "    #meanR = np.mean(Rs)\n",
    "    #Rs_deque.append(meanR)\n",
    "    Rs_deque.append(R)\n",
    "    meanRs.append(np.mean(Rs_deque)) # plot\n",
    "    Rs.append(R) # plot\n",
    "    dlosses.append(np.mean(dlosses_batch))\n",
    "    glosses.append(np.mean(glosses_batch))\n",
    "\n",
    "    print('\\rEpisode {}\\tTotal Average Score: {:.2f}\\tGloss: {:.2f}, \\tDloss: {:.2f}'.format(\n",
    "           i_episode+1, np.mean(Rs_deque), np.mean(glosses_batch), np.mean(dlosses_batch)))\n",
    "    \n",
    "    if np.mean(Rs_deque) >= R_goal:\n",
    "        torch.save(agent.g.state_dict(), 'g-bipedal.pth')\n",
    "        torch.save(agent.d.state_dict(), 'd-bipedal.pth')\n",
    "        break"
   ]
  },
  {
   "cell_type": "markdown",
   "metadata": {},
   "source": [
    "### 5. Plot the result"
   ]
  },
  {
   "cell_type": "code",
   "execution_count": null,
   "metadata": {},
   "outputs": [],
   "source": [
    "import matplotlib.pyplot as plt\n",
    "%matplotlib inline"
   ]
  },
  {
   "cell_type": "code",
   "execution_count": null,
   "metadata": {},
   "outputs": [],
   "source": [
    "fig = plt.figure()\n",
    "ax = fig.add_subplot(1,1,1)\n",
    "\n",
    "plt.plot(np.arange(1, len(meanRs)+1), meanRs)\n",
    "plt.ylabel('total_average_scores')\n",
    "plt.xlabel('Episode #')\n",
    "plt.show()"
   ]
  },
  {
   "cell_type": "markdown",
   "metadata": {},
   "source": [
    "### 6. Watch the agent running with saved weights"
   ]
  },
  {
   "cell_type": "code",
   "execution_count": 36,
   "metadata": {},
   "outputs": [
    {
     "name": "stdout",
     "output_type": "stream",
     "text": [
      "Average of total scores: -106.75700939138544\n"
     ]
    }
   ],
   "source": [
    "# Load the saved weights into Pytorch model\n",
    "agent.g.load_state_dict(torch.load('g-bipedal.pth', map_location='cpu'))\n",
    "agent.d.load_state_dict(torch.load('d-bipedal.pth', map_location='cpu'))\n",
    "\n",
    "# env_info = env.reset(train_mode=False)[brain_name]     # reset the environment    \n",
    "# S = env_info.vector_observations                  # get the current states (S) (for each agent)\n",
    "s = env.reset() # s: state # get the current state (s) (for an agent)\n",
    "s_ = np.zeros_like(s)# s_: predicted state # predict the current state (s) (by the agent)\n",
    "# print(s.shape)\n",
    "\n",
    "#Rs = np.zeros(num_agents)                          # initialize the total scores (Rs) (for each agent)\n",
    "R = 0 # R:total reward # initialize the total score (R) (for an agent)\n",
    "\n",
    "while True:\n",
    "    #A = agent.act(S)                        # select actions (A) from loaded model agents\n",
    "    s = np.reshape(s, [1, -1])\n",
    "    s_ = np.reshape(s_, [1, -1])\n",
    "    a = agent.act(s, s_) # a: [-1, +1]    # select action (a) from loaded model agent\n",
    "    #a = agent.act(s)\n",
    "    #print(s.shape, a.shape)\n",
    "    \n",
    "    # env_info = env.step(A)[brain_name]           # send all actions (A) to tne environment (env)\n",
    "    # S2 = env_info.vector_observations         # get next states (S2) (for each agent)\n",
    "    # rewards = env_info.rewards                         # get rewards (for each agent)\n",
    "    # dones = env_info.local_done                        # see if the episode is done/finished (terminal)\n",
    "    s2, r, done, _ = env.step(np.reshape(a, [-1]))\n",
    "    #s2, r, done = env.step(a)\n",
    "    \n",
    "    #s2_, q_ = agent.env(s, a)\n",
    "    s2_, _ = agent.env(s, a)\n",
    "    \n",
    "    # Rs += env_info.rewards                         # update the total scores (Rs) (for each agent)\n",
    "    # S = S2                               # roll over current states (S) to next states (S2)\n",
    "    R += r # update the total score (R) (for an agent)\n",
    "    s = s2 # roll over current state (s) to next state (s2)\n",
    "    s_ = s2_ # roll over the predcited current state (s) to the predicted next state (s2_)\n",
    "    \n",
    "    #if np.any(dones):                                  # exit loop if episode is done/finished\n",
    "    if done: # exit loop if episode is done/finished (terminal)\n",
    "        break\n",
    "        \n",
    "print('Average of total scores: {}'.format(R))"
   ]
  },
  {
   "cell_type": "markdown",
   "metadata": {},
   "source": [
    "When finished, you can close the environment."
   ]
  },
  {
   "cell_type": "code",
   "execution_count": 37,
   "metadata": {},
   "outputs": [],
   "source": [
    "env.close()"
   ]
  },
  {
   "cell_type": "code",
   "execution_count": null,
   "metadata": {},
   "outputs": [],
   "source": []
  }
 ],
 "metadata": {
  "kernelspec": {
   "display_name": "Python 3",
   "language": "python",
   "name": "python3"
  },
  "language_info": {
   "codemirror_mode": {
    "name": "ipython",
    "version": 3
   },
   "file_extension": ".py",
   "mimetype": "text/x-python",
   "name": "python",
   "nbconvert_exporter": "python",
   "pygments_lexer": "ipython3",
   "version": "3.6.8"
  }
 },
 "nbformat": 4,
 "nbformat_minor": 2
}
