{
 "cells": [
  {
   "cell_type": "markdown",
   "metadata": {},
   "source": [
    "# Continuous Control\n",
    "\n",
    "---\n",
    "\n",
    "You are welcome to use this coding environment to train your agent for the project.  Follow the instructions below to get started!\n",
    "\n",
    "### 1. Start the Environment"
   ]
  },
  {
   "cell_type": "code",
   "execution_count": 1,
   "metadata": {},
   "outputs": [],
   "source": [
    "import gym\n",
    "import random\n",
    "import torch\n",
    "import numpy as np\n",
    "from collections import deque\n",
    "import matplotlib.pyplot as plt\n",
    "%matplotlib inline"
   ]
  },
  {
   "cell_type": "markdown",
   "metadata": {},
   "source": [
    "Environments contain **_brains_** which are responsible for deciding the actions of their associated agents. Here we check for the first brain available, and set it as the default brain we will be controlling from Python."
   ]
  },
  {
   "cell_type": "code",
   "execution_count": 2,
   "metadata": {},
   "outputs": [
    {
     "name": "stdout",
     "output_type": "stream",
     "text": [
      "\u001b[33mWARN: gym.spaces.Box autodetected dtype as <class 'numpy.float32'>. Please provide explicit dtype.\u001b[0m\n",
      "\u001b[33mWARN: gym.spaces.Box autodetected dtype as <class 'numpy.float32'>. Please provide explicit dtype.\u001b[0m\n"
     ]
    },
    {
     "name": "stderr",
     "output_type": "stream",
     "text": [
      "/home/arasdar/anaconda3/lib/python3.6/site-packages/gym/envs/registration.py:14: PkgResourcesDeprecationWarning: Parameters to load are deprecated.  Call .resolve and .require separately.\n",
      "  result = entry_point.load(False)\n"
     ]
    },
    {
     "data": {
      "text/plain": [
       "[10]"
      ]
     },
     "execution_count": 2,
     "metadata": {},
     "output_type": "execute_result"
    }
   ],
   "source": [
    "env = gym.make('BipedalWalker-v2')\n",
    "\n",
    "random_seed = 10\n",
    "env.seed(random_seed)\n",
    "\n",
    "# from agent import Agent\n",
    "# agent = Agent(state_size=env.observation_space.shape[0], action_size=env.action_space.shape[0], \n",
    "#               random_seed=random_seed)"
   ]
  },
  {
   "cell_type": "markdown",
   "metadata": {},
   "source": [
    "### 2. Examine the State and Action Spaces\n",
    "\n",
    "Run the code cell below to print some information about the environment."
   ]
  },
  {
   "cell_type": "code",
   "execution_count": 3,
   "metadata": {},
   "outputs": [
    {
     "data": {
      "text/plain": [
       "(Box(4,), Box(24,))"
      ]
     },
     "execution_count": 3,
     "metadata": {},
     "output_type": "execute_result"
    }
   ],
   "source": [
    "env.action_space, env.observation_space"
   ]
  },
  {
   "cell_type": "code",
   "execution_count": 4,
   "metadata": {},
   "outputs": [],
   "source": [
    "action_size = env.action_space.shape[0]\n",
    "state_size = env.observation_space.shape[0]"
   ]
  },
  {
   "cell_type": "code",
   "execution_count": 5,
   "metadata": {},
   "outputs": [
    {
     "data": {
      "text/plain": [
       "(4, 24)"
      ]
     },
     "execution_count": 5,
     "metadata": {},
     "output_type": "execute_result"
    }
   ],
   "source": [
    "action_size, state_size"
   ]
  },
  {
   "cell_type": "code",
   "execution_count": 6,
   "metadata": {},
   "outputs": [
    {
     "data": {
      "text/plain": [
       "(array([-inf, -inf, -inf, -inf, -inf, -inf, -inf, -inf, -inf, -inf, -inf,\n",
       "        -inf, -inf, -inf, -inf, -inf, -inf, -inf, -inf, -inf, -inf, -inf,\n",
       "        -inf, -inf], dtype=float32),\n",
       " array([inf, inf, inf, inf, inf, inf, inf, inf, inf, inf, inf, inf, inf,\n",
       "        inf, inf, inf, inf, inf, inf, inf, inf, inf, inf, inf],\n",
       "       dtype=float32))"
      ]
     },
     "execution_count": 6,
     "metadata": {},
     "output_type": "execute_result"
    }
   ],
   "source": [
    "env.observation_space.low, env.observation_space.high"
   ]
  },
  {
   "cell_type": "code",
   "execution_count": 7,
   "metadata": {},
   "outputs": [
    {
     "data": {
      "text/plain": [
       "(array([-1., -1., -1., -1.], dtype=float32),\n",
       " array([1., 1., 1., 1.], dtype=float32))"
      ]
     },
     "execution_count": 7,
     "metadata": {},
     "output_type": "execute_result"
    }
   ],
   "source": [
    "env.action_space.low, env.action_space.high"
   ]
  },
  {
   "cell_type": "markdown",
   "metadata": {},
   "source": [
    "### 3. Instantiate DDPG Agent"
   ]
  },
  {
   "cell_type": "code",
   "execution_count": 8,
   "metadata": {},
   "outputs": [],
   "source": [
    "from agent import Agent\n",
    "\n",
    "agent = Agent(s_size=state_size, a_size=action_size, random_seed=random_seed)"
   ]
  },
  {
   "cell_type": "markdown",
   "metadata": {},
   "source": [
    "### 4. Train the Agent with DDPG"
   ]
  },
  {
   "cell_type": "code",
   "execution_count": 9,
   "metadata": {},
   "outputs": [],
   "source": [
    "from collections import deque\n",
    "import numpy as np\n",
    "import time\n",
    "import torch\n",
    "\n",
    "n_episodes=2000\n",
    "# n_steps=1000\n",
    "# n_learn=10\n",
    "# learn_every=20\n",
    "R_goal=30\n",
    "Rs_deque = deque(maxlen=100)\n",
    "meanRs = [] # plot"
   ]
  },
  {
   "cell_type": "code",
   "execution_count": null,
   "metadata": {},
   "outputs": [
    {
     "name": "stdout",
     "output_type": "stream",
     "text": [
      "Episode 1\tTotal Average Score: -145.16\n",
      "Episode 2\tTotal Average Score: -129.24\n",
      "Episode 3\tTotal Average Score: -125.23\n",
      "Episode 4\tTotal Average Score: -130.66\n",
      "Episode 5\tTotal Average Score: -133.14\n",
      "Episode 6\tTotal Average Score: -145.36\n",
      "Episode 7\tTotal Average Score: -140.88\n",
      "Episode 8\tTotal Average Score: -137.96\n",
      "Episode 9\tTotal Average Score: -135.75\n",
      "Episode 10\tTotal Average Score: -134.04\n",
      "Episode 11\tTotal Average Score: -132.05\n",
      "Episode 12\tTotal Average Score: -130.82\n",
      "Episode 13\tTotal Average Score: -130.45\n",
      "Episode 14\tTotal Average Score: -129.77\n",
      "Episode 15\tTotal Average Score: -129.80\n",
      "Episode 16\tTotal Average Score: -128.79\n",
      "Episode 17\tTotal Average Score: -128.03\n",
      "Episode 18\tTotal Average Score: -127.20\n",
      "Episode 19\tTotal Average Score: -126.02\n",
      "Episode 20\tTotal Average Score: -125.05\n",
      "Episode 21\tTotal Average Score: -124.44\n",
      "Episode 22\tTotal Average Score: -124.75\n",
      "Episode 23\tTotal Average Score: -124.02\n",
      "Episode 24\tTotal Average Score: -123.26\n",
      "Episode 25\tTotal Average Score: -123.18\n",
      "Episode 26\tTotal Average Score: -122.38\n",
      "Episode 27\tTotal Average Score: -121.66\n",
      "Episode 28\tTotal Average Score: -122.15\n",
      "Episode 29\tTotal Average Score: -121.65\n",
      "Episode 30\tTotal Average Score: -121.25\n",
      "Episode 31\tTotal Average Score: -120.89\n",
      "Episode 32\tTotal Average Score: -120.57\n",
      "Episode 33\tTotal Average Score: -120.28\n",
      "Episode 34\tTotal Average Score: -120.00\n",
      "Episode 35\tTotal Average Score: -119.75\n",
      "Episode 36\tTotal Average Score: -121.29\n",
      "Episode 37\tTotal Average Score: -121.69\n",
      "Episode 38\tTotal Average Score: -121.45\n",
      "Episode 39\tTotal Average Score: -121.72\n",
      "Episode 40\tTotal Average Score: -123.14\n",
      "Episode 41\tTotal Average Score: -122.96\n",
      "Episode 42\tTotal Average Score: -122.68\n",
      "Episode 43\tTotal Average Score: -122.56\n",
      "Episode 44\tTotal Average Score: -122.39\n",
      "Episode 45\tTotal Average Score: -122.25\n",
      "Episode 46\tTotal Average Score: -121.95\n",
      "Episode 47\tTotal Average Score: -121.63\n",
      "Episode 48\tTotal Average Score: -121.42\n",
      "Episode 49\tTotal Average Score: -121.31\n",
      "Episode 50\tTotal Average Score: -121.24\n",
      "Episode 51\tTotal Average Score: -121.16\n",
      "Episode 52\tTotal Average Score: -121.08\n",
      "Episode 53\tTotal Average Score: -121.00\n",
      "Episode 54\tTotal Average Score: -120.89\n",
      "Episode 55\tTotal Average Score: -120.69\n",
      "Episode 56\tTotal Average Score: -120.51\n",
      "Episode 57\tTotal Average Score: -120.39\n",
      "Episode 58\tTotal Average Score: -120.27\n",
      "Episode 59\tTotal Average Score: -120.21\n",
      "Episode 60\tTotal Average Score: -120.09\n",
      "Episode 61\tTotal Average Score: -120.05\n",
      "Episode 62\tTotal Average Score: -119.97\n",
      "Episode 63\tTotal Average Score: -120.03\n",
      "Episode 64\tTotal Average Score: -119.99\n",
      "Episode 65\tTotal Average Score: -119.84\n",
      "Episode 66\tTotal Average Score: -119.78\n",
      "Episode 67\tTotal Average Score: -119.73\n",
      "Episode 68\tTotal Average Score: -120.01\n",
      "Episode 69\tTotal Average Score: -119.94\n",
      "Episode 70\tTotal Average Score: -119.83\n",
      "Episode 71\tTotal Average Score: -119.71\n",
      "Episode 72\tTotal Average Score: -119.65\n",
      "Episode 73\tTotal Average Score: -119.62\n",
      "Episode 74\tTotal Average Score: -119.50\n",
      "Episode 75\tTotal Average Score: -119.44\n",
      "Episode 76\tTotal Average Score: -119.34\n",
      "Episode 77\tTotal Average Score: -119.31\n",
      "Episode 78\tTotal Average Score: -119.31\n",
      "Episode 79\tTotal Average Score: -119.24\n",
      "Episode 80\tTotal Average Score: -119.75\n",
      "Episode 81\tTotal Average Score: -119.79\n",
      "Episode 82\tTotal Average Score: -119.66\n",
      "Episode 83\tTotal Average Score: -119.52\n",
      "Episode 84\tTotal Average Score: -119.64\n",
      "Episode 85\tTotal Average Score: -119.58\n",
      "Episode 86\tTotal Average Score: -119.60\n",
      "Episode 87\tTotal Average Score: -119.70\n",
      "Episode 88\tTotal Average Score: -120.02\n",
      "Episode 89\tTotal Average Score: -120.28\n"
     ]
    }
   ],
   "source": [
    "for i_episode in range(n_episodes):\n",
    "    \n",
    "    # # Reset Env\n",
    "    # env_info = env.reset(train_mode=train_mode)[brain_name]       # reset the environment    \n",
    "    # S = env_info.vector_observations                   # get the current state (for each agent)\n",
    "    s = env.reset() # s: state\n",
    "    #print(s.shape)\n",
    "\n",
    "    #Rs = np.zeros(num_agents)                            # initialize the score (for each agent)\n",
    "    R = 0 # R: total reward\n",
    "\n",
    "    #for i_step in range(n_steps):\n",
    "    while True:\n",
    "        \n",
    "        a = agent.act(np.reshape(s, [1, -1])) # a=[-1, 1]\n",
    "        #a *= 2\n",
    "        #print(a.shape)\n",
    "        \n",
    "        # Exploration noise\n",
    "        # noise = np.random.normal(loc=0, scale=0.1, size=[num_agents, action_size])\n",
    "        # A += noise\n",
    "        # A = np.clip(a=A, a_min=-1, a_max=1)\n",
    "\n",
    "        # env_info = env.step(A)[brain_name]            # send all actions to the environment\n",
    "        # S2 = env_info.vector_observations          # get next state (for each agent)\n",
    "        # rewards = env_info.rewards                          # get reward (for each agent)\n",
    "        # dones = env_info.local_done                         # see if episode finished\n",
    "        #s2: next_state, r: reward, done/terminal, env: environment\n",
    "        s2, r, done, _ = env.step(np.reshape(a, [-1]))\n",
    "        #print(s2.shape, r, done)\n",
    "\n",
    "\n",
    "        # for s, a, reward, s2, done in zip(S, A, rewards, S2, dones):\n",
    "        # agent.step(state, action, reward, next_state, done) # send actions to the agent\n",
    "        agent.step(s, a, r, s2, done)\n",
    "\n",
    "        R += r                           # update the score (for each agent)\n",
    "        s = s2                                # roll over states to next time step\n",
    "\n",
    "        # if i_step%learn_every == 0:\n",
    "        #     for _ in range(n_learn):\n",
    "        #         agent.start_learn()\n",
    "        #print(len(agent.memory))\n",
    "        agent.start_learn()\n",
    "\n",
    "        # if np.any(dones):                                   # exit loop if episode finished\n",
    "        #     break\n",
    "        if done:\n",
    "            break\n",
    "\n",
    "    #meanR = np.mean(Rs)\n",
    "    #Rs_deque.append(meanR)\n",
    "    Rs_deque.append(R)\n",
    "    meanR_deque = np.mean(Rs_deque) # print\n",
    "    meanRs.append(meanR_deque) # plot\n",
    "\n",
    "    print('\\rEpisode {}\\tTotal Average Score: {:.2f}'.format(i_episode+1, meanR_deque))  \n",
    "    if meanR_deque >= R_goal:\n",
    "        torch.save(agent.g.state_dict(), 'g-bipedal.pth')\n",
    "        torch.save(agent.d.state_dict(), 'd-bipedal.pth')\n",
    "        break"
   ]
  },
  {
   "cell_type": "markdown",
   "metadata": {},
   "source": [
    "### 5. Plot the result"
   ]
  },
  {
   "cell_type": "code",
   "execution_count": null,
   "metadata": {},
   "outputs": [],
   "source": [
    "import matplotlib.pyplot as plt\n",
    "%matplotlib inline"
   ]
  },
  {
   "cell_type": "code",
   "execution_count": null,
   "metadata": {},
   "outputs": [],
   "source": [
    "fig = plt.figure()\n",
    "ax = fig.add_subplot(1,1,1)\n",
    "\n",
    "plt.plot(np.arange(1, len(meanRs)+1), meanRs)\n",
    "plt.ylabel('total_average_scores')\n",
    "plt.xlabel('Episode #')\n",
    "plt.show()"
   ]
  },
  {
   "cell_type": "code",
   "execution_count": 14,
   "metadata": {},
   "outputs": [
    {
     "data": {
      "image/png": "[encoded data removed]",
      "text/plain": [
       "<Figure size 432x288 with 1 Axes>"
      ]
     },
     "metadata": {
      "needs_background": "light"
     },
     "output_type": "display_data"
    }
   ],
   "source": [
    "fig = plt.figure()\n",
    "ax = fig.add_subplot(1,1,1)\n",
    "\n",
    "plt.plot(np.arange(1, len(meanRs)+1), meanRs)\n",
    "plt.ylabel('total_average_scores')\n",
    "plt.xlabel('Episode #')\n",
    "plt.show()"
   ]
  },
  {
   "cell_type": "markdown",
   "metadata": {},
   "source": [
    "### 6. Watch the agent running with saved weights"
   ]
  },
  {
   "cell_type": "code",
   "execution_count": null,
   "metadata": {},
   "outputs": [],
   "source": [
    "# Load the saved weights into Pytorch model\n",
    "agent.g.load_state_dict(torch.load('g-bipedal.pth', map_location='cpu'))\n",
    "agent.d.load_state_dict(torch.load('d-bipedal.pth', map_location='cpu'))\n",
    "\n",
    "# env_info = env.reset(train_mode=False)[brain_name]     # reset the environment    \n",
    "# S = env_info.vector_observations                  # get the current states (S) (for each agent)\n",
    "s = env.reset() # s: state # get the current state (s) (for an agent)\n",
    "\n",
    "#Rs = np.zeros(num_agents)                          # initialize the total scores (Rs) (for each agent)\n",
    "R = 0 # R:total reward # initialize the total score (R) (for an agent)\n",
    "\n",
    "while True:\n",
    "    #A = agent.act(S)                        # select actions (A) from loaded model agents\n",
    "    a = agent.act(np.reshape(s, [1, -1])) # a: [-1, +1]    # select action (a) from loaded model agent\n",
    "    \n",
    "    # env_info = env.step(A)[brain_name]           # send all actions (A) to tne environment (env)\n",
    "    # S2 = env_info.vector_observations         # get next states (S2) (for each agent)\n",
    "    # rewards = env_info.rewards                         # get rewards (for each agent)\n",
    "    # dones = env_info.local_done                        # see if the episode is done/finished (terminal)\n",
    "    s2, r, done = env.step(np.reshape(a, [1, -1]))\n",
    "    \n",
    "    # Rs += env_info.rewards                         # update the total scores (Rs) (for each agent)\n",
    "    # S = S2                               # roll over current states (S) to next states (S2)\n",
    "    R += r # update the total score (R) (for an agent)\n",
    "    s = s2 # roll over current state (s) to next state (s2)\n",
    "    \n",
    "    #if np.any(dones):                                  # exit loop if episode is done/finished\n",
    "    if done: # exit loop if episode is done/finished (terminal)\n",
    "        break\n",
    "        \n",
    "print('Average of total scores: {}'.format(np.mean(Rs)))"
   ]
  },
  {
   "cell_type": "markdown",
   "metadata": {},
   "source": [
    "When finished, you can close the environment."
   ]
  },
  {
   "cell_type": "code",
   "execution_count": 6,
   "metadata": {},
   "outputs": [],
   "source": [
    "env.close()"
   ]
  },
  {
   "cell_type": "code",
   "execution_count": null,
   "metadata": {},
   "outputs": [],
   "source": []
  }
 ],
 "metadata": {
  "kernelspec": {
   "display_name": "Python 3",
   "language": "python",
   "name": "python3"
  },
  "language_info": {
   "codemirror_mode": {
    "name": "ipython",
    "version": 3
   },
   "file_extension": ".py",
   "mimetype": "text/x-python",
   "name": "python",
   "nbconvert_exporter": "python",
   "pygments_lexer": "ipython3",
   "version": "3.6.8"
  }
 },
 "nbformat": 4,
 "nbformat_minor": 2
}
