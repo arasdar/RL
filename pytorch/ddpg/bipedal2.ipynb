{
 "cells": [
  {
   "cell_type": "markdown",
   "metadata": {},
   "source": [
    "# Continuous Control\n",
    "\n",
    "---\n",
    "\n",
    "You are welcome to use this coding environment to train your agent for the project.  Follow the instructions below to get started!\n",
    "\n",
    "### 1. Start the Environment"
   ]
  },
  {
   "cell_type": "code",
   "execution_count": 1,
   "metadata": {},
   "outputs": [],
   "source": [
    "import gym\n",
    "import random\n",
    "import torch\n",
    "import numpy as np\n",
    "from collections import deque\n",
    "import matplotlib.pyplot as plt\n",
    "%matplotlib inline"
   ]
  },
  {
   "cell_type": "markdown",
   "metadata": {},
   "source": [
    "Environments contain **_brains_** which are responsible for deciding the actions of their associated agents. Here we check for the first brain available, and set it as the default brain we will be controlling from Python."
   ]
  },
  {
   "cell_type": "code",
   "execution_count": 2,
   "metadata": {},
   "outputs": [
    {
     "name": "stdout",
     "output_type": "stream",
     "text": [
      "\u001b[33mWARN: gym.spaces.Box autodetected dtype as <class 'numpy.float32'>. Please provide explicit dtype.\u001b[0m\n",
      "\u001b[33mWARN: gym.spaces.Box autodetected dtype as <class 'numpy.float32'>. Please provide explicit dtype.\u001b[0m\n"
     ]
    },
    {
     "name": "stderr",
     "output_type": "stream",
     "text": [
      "/home/arasdar/anaconda3/lib/python3.6/site-packages/gym/envs/registration.py:14: PkgResourcesDeprecationWarning: Parameters to load are deprecated.  Call .resolve and .require separately.\n",
      "  result = entry_point.load(False)\n"
     ]
    },
    {
     "data": {
      "text/plain": [
       "[10]"
      ]
     },
     "execution_count": 2,
     "metadata": {},
     "output_type": "execute_result"
    }
   ],
   "source": [
    "env = gym.make('BipedalWalker-v2')\n",
    "\n",
    "random_seed = 10\n",
    "env.seed(random_seed)\n",
    "\n",
    "# from agent import Agent\n",
    "# agent = Agent(state_size=env.observation_space.shape[0], action_size=env.action_space.shape[0], \n",
    "#               random_seed=random_seed)"
   ]
  },
  {
   "cell_type": "markdown",
   "metadata": {},
   "source": [
    "### 2. Examine the State and Action Spaces\n",
    "\n",
    "Run the code cell below to print some information about the environment."
   ]
  },
  {
   "cell_type": "code",
   "execution_count": 3,
   "metadata": {},
   "outputs": [
    {
     "data": {
      "text/plain": [
       "(Box(4,), Box(24,))"
      ]
     },
     "execution_count": 3,
     "metadata": {},
     "output_type": "execute_result"
    }
   ],
   "source": [
    "env.action_space, env.observation_space"
   ]
  },
  {
   "cell_type": "code",
   "execution_count": 4,
   "metadata": {},
   "outputs": [],
   "source": [
    "action_size = env.action_space.shape[0]\n",
    "state_size = env.observation_space.shape[0]"
   ]
  },
  {
   "cell_type": "code",
   "execution_count": 5,
   "metadata": {},
   "outputs": [
    {
     "data": {
      "text/plain": [
       "(4, 24)"
      ]
     },
     "execution_count": 5,
     "metadata": {},
     "output_type": "execute_result"
    }
   ],
   "source": [
    "action_size, state_size"
   ]
  },
  {
   "cell_type": "code",
   "execution_count": 6,
   "metadata": {},
   "outputs": [
    {
     "data": {
      "text/plain": [
       "(array([-inf, -inf, -inf, -inf, -inf, -inf, -inf, -inf, -inf, -inf, -inf,\n",
       "        -inf, -inf, -inf, -inf, -inf, -inf, -inf, -inf, -inf, -inf, -inf,\n",
       "        -inf, -inf], dtype=float32),\n",
       " array([inf, inf, inf, inf, inf, inf, inf, inf, inf, inf, inf, inf, inf,\n",
       "        inf, inf, inf, inf, inf, inf, inf, inf, inf, inf, inf],\n",
       "       dtype=float32))"
      ]
     },
     "execution_count": 6,
     "metadata": {},
     "output_type": "execute_result"
    }
   ],
   "source": [
    "env.observation_space.low, env.observation_space.high"
   ]
  },
  {
   "cell_type": "code",
   "execution_count": 7,
   "metadata": {},
   "outputs": [
    {
     "data": {
      "text/plain": [
       "(array([-1., -1., -1., -1.], dtype=float32),\n",
       " array([1., 1., 1., 1.], dtype=float32))"
      ]
     },
     "execution_count": 7,
     "metadata": {},
     "output_type": "execute_result"
    }
   ],
   "source": [
    "env.action_space.low, env.action_space.high"
   ]
  },
  {
   "cell_type": "markdown",
   "metadata": {},
   "source": [
    "### 3. Instantiate DDPG Agent"
   ]
  },
  {
   "cell_type": "code",
   "execution_count": 8,
   "metadata": {},
   "outputs": [],
   "source": [
    "from agent2 import Agent\n",
    "\n",
    "agent = Agent(s_size=state_size, a_size=action_size, random_seed=random_seed)"
   ]
  },
  {
   "cell_type": "markdown",
   "metadata": {},
   "source": [
    "### 4. Train the Agent with DDPG"
   ]
  },
  {
   "cell_type": "code",
   "execution_count": 9,
   "metadata": {},
   "outputs": [],
   "source": [
    "from collections import deque\n",
    "import numpy as np\n",
    "import time\n",
    "import torch\n",
    "\n",
    "n_episodes=3000\n",
    "\n",
    "n_steps=10000\n",
    "n_learn=10\n",
    "learn_every=20\n",
    "\n",
    "R_goal=-100 # TOCHECK\n",
    "Rs_deque = deque(maxlen=100)\n",
    "meanRs = [] # plot\n",
    "\n",
    "dlosses, glosses, dlosses_Q, dlosses_S = [], [], [], []"
   ]
  },
  {
   "cell_type": "code",
   "execution_count": null,
   "metadata": {},
   "outputs": [
    {
     "name": "stdout",
     "output_type": "stream",
     "text": [
      "Episode 1\tTotal Average Score: -134.34\tGloss: -0.01\tDloss: 0.08\tDlossQ: 0.00\tDlossS: 0.08\n",
      "Episode 2\tTotal Average Score: -119.48\tGloss: -0.04\tDloss: 7.94\tDlossQ: 7.83\tDlossS: 0.11\n",
      "Episode 3\tTotal Average Score: -114.07\tGloss: -0.04\tDloss: 14.31\tDlossQ: 14.18\tDlossS: 0.12\n",
      "Episode 4\tTotal Average Score: -124.72\tGloss: -0.04\tDloss: 18.09\tDlossQ: 17.99\tDlossS: 0.10\n",
      "Episode 5\tTotal Average Score: -132.80\tGloss: -0.05\tDloss: 15.63\tDlossQ: 15.57\tDlossS: 0.06\n",
      "Episode 6\tTotal Average Score: -130.25\tGloss: -0.05\tDloss: 10.85\tDlossQ: 10.77\tDlossS: 0.08\n",
      "Episode 7\tTotal Average Score: -128.84\tGloss: -0.05\tDloss: 14.27\tDlossQ: 14.19\tDlossS: 0.08\n",
      "Episode 8\tTotal Average Score: -127.49\tGloss: -0.05\tDloss: 14.26\tDlossQ: 14.19\tDlossS: 0.07\n",
      "Episode 9\tTotal Average Score: -123.34\tGloss: -0.05\tDloss: 19.45\tDlossQ: 19.38\tDlossS: 0.07\n",
      "Episode 10\tTotal Average Score: -123.34\tGloss: -0.05\tDloss: 19.97\tDlossQ: 19.90\tDlossS: 0.08\n",
      "Episode 11\tTotal Average Score: -122.11\tGloss: -0.05\tDloss: 20.63\tDlossQ: 20.55\tDlossS: 0.08\n",
      "Episode 12\tTotal Average Score: -121.05\tGloss: -0.05\tDloss: 26.11\tDlossQ: 26.02\tDlossS: 0.08\n",
      "Episode 13\tTotal Average Score: -120.21\tGloss: -0.05\tDloss: 26.49\tDlossQ: 26.41\tDlossS: 0.08\n",
      "Episode 14\tTotal Average Score: -119.13\tGloss: -0.05\tDloss: 26.66\tDlossQ: 26.58\tDlossS: 0.08\n",
      "Episode 15\tTotal Average Score: -121.96\tGloss: -0.05\tDloss: 24.27\tDlossQ: 24.21\tDlossS: 0.06\n",
      "Episode 16\tTotal Average Score: -121.70\tGloss: -0.05\tDloss: 20.79\tDlossQ: 20.74\tDlossS: 0.04\n",
      "Episode 17\tTotal Average Score: -121.44\tGloss: -0.05\tDloss: 20.99\tDlossQ: 20.94\tDlossS: 0.05\n",
      "Episode 18\tTotal Average Score: -121.35\tGloss: -0.05\tDloss: 20.80\tDlossQ: 20.74\tDlossS: 0.05\n",
      "Episode 19\tTotal Average Score: -121.24\tGloss: -0.05\tDloss: 27.93\tDlossQ: 27.88\tDlossS: 0.05\n",
      "Episode 20\tTotal Average Score: -121.13\tGloss: -0.05\tDloss: 26.23\tDlossQ: 26.17\tDlossS: 0.06\n",
      "Episode 21\tTotal Average Score: -121.03\tGloss: -0.05\tDloss: 29.90\tDlossQ: 29.84\tDlossS: 0.06\n",
      "Episode 22\tTotal Average Score: -120.78\tGloss: -0.05\tDloss: 25.70\tDlossQ: 25.64\tDlossS: 0.06\n",
      "Episode 23\tTotal Average Score: -120.39\tGloss: -0.05\tDloss: 32.34\tDlossQ: 32.28\tDlossS: 0.06\n",
      "Episode 24\tTotal Average Score: -119.86\tGloss: -0.05\tDloss: 28.76\tDlossQ: 28.70\tDlossS: 0.07\n",
      "Episode 25\tTotal Average Score: -119.33\tGloss: -0.05\tDloss: 30.00\tDlossQ: 29.94\tDlossS: 0.07\n",
      "Episode 26\tTotal Average Score: -118.84\tGloss: -0.05\tDloss: 31.37\tDlossQ: 31.31\tDlossS: 0.07\n",
      "Episode 27\tTotal Average Score: -118.45\tGloss: -0.05\tDloss: 39.39\tDlossQ: 39.32\tDlossS: 0.07\n",
      "Episode 28\tTotal Average Score: -118.20\tGloss: -0.05\tDloss: 32.60\tDlossQ: 32.53\tDlossS: 0.07\n",
      "Episode 29\tTotal Average Score: -117.80\tGloss: -0.05\tDloss: 39.00\tDlossQ: 38.93\tDlossS: 0.07\n",
      "Episode 30\tTotal Average Score: -117.42\tGloss: -0.05\tDloss: 34.31\tDlossQ: 34.24\tDlossS: 0.07\n",
      "Episode 31\tTotal Average Score: -117.12\tGloss: -0.05\tDloss: 36.10\tDlossQ: 36.03\tDlossS: 0.07\n",
      "Episode 32\tTotal Average Score: -116.91\tGloss: -0.05\tDloss: 37.44\tDlossQ: 37.36\tDlossS: 0.07\n",
      "Episode 33\tTotal Average Score: -116.65\tGloss: -0.05\tDloss: 42.71\tDlossQ: 42.64\tDlossS: 0.07\n",
      "Episode 34\tTotal Average Score: -116.54\tGloss: -0.05\tDloss: 41.80\tDlossQ: 41.73\tDlossS: 0.07\n",
      "Episode 35\tTotal Average Score: -116.52\tGloss: -0.05\tDloss: 43.89\tDlossQ: 43.82\tDlossS: 0.07\n"
     ]
    }
   ],
   "source": [
    "for i_episode in range(n_episodes):\n",
    "    \n",
    "    # # Reset Env\n",
    "    # env_info = env.reset(train_mode=train_mode)[brain_name]       # reset the environment    \n",
    "    # S = env_info.vector_observations                   # get the current state (for each agent)\n",
    "    s = env.reset() # s: state\n",
    "    #print(s.shape)\n",
    "\n",
    "    #Rs = np.zeros(num_agents)                            # initialize the score (for each agent)\n",
    "    R = 0 # R: total reward\n",
    "    dlosses_, glosses_, dlosses_Q_, dlosses_S_ = [], [], [], []\n",
    "    \n",
    "    for i_step in range(n_steps):\n",
    "    #while True:\n",
    "        \n",
    "        a = agent.act(np.reshape(s, [1, -1])) # a=[-1, 1]\n",
    "        #a *= 2\n",
    "        #print(a.shape)\n",
    "        \n",
    "        # Exploration noise\n",
    "        # noise = np.random.normal(loc=0, scale=0.1, size=[num_agents, action_size])\n",
    "        # A += noise\n",
    "        # A = np.clip(a=A, a_min=-1, a_max=1)\n",
    "\n",
    "        # env_info = env.step(A)[brain_name]            # send all actions to the environment\n",
    "        # S2 = env_info.vector_observations          # get next state (for each agent)\n",
    "        # rewards = env_info.rewards                          # get reward (for each agent)\n",
    "        # dones = env_info.local_done                         # see if episode finished\n",
    "        #s2: next_state, r: reward, done/terminal, env: environment\n",
    "        s2, r, done, _ = env.step(np.reshape(a, [-1]))\n",
    "        #print(s2.shape, r, done)\n",
    "\n",
    "\n",
    "        # for s, a, reward, s2, done in zip(S, A, rewards, S2, dones):\n",
    "        # agent.step(state, action, reward, next_state, done) # send actions to the agent\n",
    "        agent.step(s, a, r, s2, done)\n",
    "\n",
    "        R += r                           # update the score (for each agent)\n",
    "        s = s2                                # roll over states to next time step\n",
    "\n",
    "        dlosses__, glosses__, dlosses_Q__, dlosses_S__ = [], [], [], []\n",
    "        if i_step%learn_every == 0:\n",
    "            for _ in range(n_learn):\n",
    "                dloss, gloss, dloss_Q, dloss_S = agent.start_learn()\n",
    "                dlosses__.append(dloss)\n",
    "                glosses__.append(gloss)\n",
    "                dlosses_Q__.append(dloss_Q)\n",
    "                dlosses_S__.append(dloss_S)\n",
    "            dlosses_.append(np.mean(dlosses__))\n",
    "            glosses_.append(np.mean(glosses__))\n",
    "            dlosses_Q_.append(np.mean(dlosses_Q__))\n",
    "            dlosses_S_.append(np.mean(dlosses_S__))\n",
    "            \n",
    "        # print(len(agent.memory))\n",
    "        # agent.start_learn()\n",
    "\n",
    "        # if np.any(dones):                                   # exit loop if episode finished\n",
    "        #     break\n",
    "        if done:\n",
    "            break\n",
    "\n",
    "    #meanR = np.mean(Rs)\n",
    "    #Rs_deque.append(meanR)\n",
    "    Rs_deque.append(R)\n",
    "    meanRs.append(np.mean(Rs_deque)) # plot\n",
    "    \n",
    "    dlosses.append(np.mean(dlosses_))\n",
    "    glosses.append(np.mean(glosses_))\n",
    "    dlosses_Q.append(np.mean(dlosses_Q_))\n",
    "    dlosses_S.append(np.mean(dlosses_S_))\n",
    "\n",
    "    print('\\rEpisode {}\\tTotal Average Score: {:.2f}\\tGloss: {:.2f}\\tDloss: {:.2f}\\tDlossQ: {:.2f}\\tDlossS: {:.2f}'.format(\n",
    "            i_episode+1, np.mean(Rs_deque), np.mean(glosses_), np.mean(dlosses_), np.mean(dlosses_Q_), np.mean(dlosses_S_)))\n",
    "    \n",
    "    if np.mean(Rs_deque) >= R_goal:\n",
    "        torch.save(agent.g.state_dict(), 'g-bipedal.pth')\n",
    "        torch.save(agent.d.state_dict(), 'd-bipedal.pth')\n",
    "        break"
   ]
  },
  {
   "cell_type": "markdown",
   "metadata": {},
   "source": [
    "### 5. Plot the result"
   ]
  },
  {
   "cell_type": "code",
   "execution_count": null,
   "metadata": {},
   "outputs": [],
   "source": [
    "import matplotlib.pyplot as plt\n",
    "%matplotlib inline"
   ]
  },
  {
   "cell_type": "code",
   "execution_count": null,
   "metadata": {},
   "outputs": [],
   "source": [
    "fig = plt.figure()\n",
    "ax = fig.add_subplot(1,1,1)\n",
    "\n",
    "plt.plot(np.arange(1, len(meanRs)+1), meanRs)\n",
    "plt.ylabel('total_average_scores')\n",
    "plt.xlabel('Episode #')\n",
    "plt.show()"
   ]
  },
  {
   "cell_type": "markdown",
   "metadata": {},
   "source": [
    "### 6. Watch the agent running with saved weights"
   ]
  },
  {
   "cell_type": "code",
   "execution_count": 36,
   "metadata": {},
   "outputs": [
    {
     "name": "stdout",
     "output_type": "stream",
     "text": [
      "Average of total scores: -106.75700939138544\n"
     ]
    }
   ],
   "source": [
    "# Load the saved weights into Pytorch model\n",
    "agent.g.load_state_dict(torch.load('g-bipedal.pth', map_location='cpu'))\n",
    "agent.d.load_state_dict(torch.load('d-bipedal.pth', map_location='cpu'))\n",
    "\n",
    "# env_info = env.reset(train_mode=False)[brain_name]     # reset the environment    \n",
    "# S = env_info.vector_observations                  # get the current states (S) (for each agent)\n",
    "s = env.reset() # s: state # get the current state (s) (for an agent)\n",
    "# print(s.shape)\n",
    "\n",
    "#Rs = np.zeros(num_agents)                          # initialize the total scores (Rs) (for each agent)\n",
    "R = 0 # R:total reward # initialize the total score (R) (for an agent)\n",
    "\n",
    "while True:\n",
    "    #A = agent.act(S)                        # select actions (A) from loaded model agents\n",
    "    a = agent.act(np.reshape(s, [1, -1])) # a: [-1, +1]    # select action (a) from loaded model agent\n",
    "    #a = agent.act(s)\n",
    "    #print(s.shape, a.shape)\n",
    "    \n",
    "    # env_info = env.step(A)[brain_name]           # send all actions (A) to tne environment (env)\n",
    "    # S2 = env_info.vector_observations         # get next states (S2) (for each agent)\n",
    "    # rewards = env_info.rewards                         # get rewards (for each agent)\n",
    "    # dones = env_info.local_done                        # see if the episode is done/finished (terminal)\n",
    "    s2, r, done, _ = env.step(np.reshape(a, [-1]))\n",
    "    #s2, r, done = env.step(a)\n",
    "    \n",
    "    # Rs += env_info.rewards                         # update the total scores (Rs) (for each agent)\n",
    "    # S = S2                               # roll over current states (S) to next states (S2)\n",
    "    R += r # update the total score (R) (for an agent)\n",
    "    s = s2 # roll over current state (s) to next state (s2)\n",
    "    \n",
    "    #if np.any(dones):                                  # exit loop if episode is done/finished\n",
    "    if done: # exit loop if episode is done/finished (terminal)\n",
    "        break\n",
    "        \n",
    "print('Average of total scores: {}'.format(R))"
   ]
  },
  {
   "cell_type": "markdown",
   "metadata": {},
   "source": [
    "When finished, you can close the environment."
   ]
  },
  {
   "cell_type": "code",
   "execution_count": 37,
   "metadata": {},
   "outputs": [],
   "source": [
    "env.close()"
   ]
  },
  {
   "cell_type": "code",
   "execution_count": null,
   "metadata": {},
   "outputs": [],
   "source": []
  }
 ],
 "metadata": {
  "kernelspec": {
   "display_name": "Python 3",
   "language": "python",
   "name": "python3"
  },
  "language_info": {
   "codemirror_mode": {
    "name": "ipython",
    "version": 3
   },
   "file_extension": ".py",
   "mimetype": "text/x-python",
   "name": "python",
   "nbconvert_exporter": "python",
   "pygments_lexer": "ipython3",
   "version": "3.6.8"
  }
 },
 "nbformat": 4,
 "nbformat_minor": 2
}
