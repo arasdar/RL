{
 "cells": [
  {
   "cell_type": "markdown",
   "metadata": {},
   "source": [
    "# Continuous Control\n",
    "\n",
    "---\n",
    "\n",
    "You are welcome to use this coding environment to train your agent for the project.  Follow the instructions below to get started!\n",
    "\n",
    "### 1. Start the Environment"
   ]
  },
  {
   "cell_type": "code",
   "execution_count": 1,
   "metadata": {},
   "outputs": [],
   "source": [
    "import gym\n",
    "import random\n",
    "import torch\n",
    "import numpy as np\n",
    "from collections import deque\n",
    "import matplotlib.pyplot as plt\n",
    "%matplotlib inline"
   ]
  },
  {
   "cell_type": "markdown",
   "metadata": {},
   "source": [
    "Environments contain **_brains_** which are responsible for deciding the actions of their associated agents. Here we check for the first brain available, and set it as the default brain we will be controlling from Python."
   ]
  },
  {
   "cell_type": "code",
   "execution_count": 2,
   "metadata": {},
   "outputs": [
    {
     "name": "stderr",
     "output_type": "stream",
     "text": [
      "/home/arasdar/anaconda3/lib/python3.6/site-packages/gym/envs/registration.py:14: PkgResourcesDeprecationWarning: Parameters to load are deprecated.  Call .resolve and .require separately.\n",
      "  result = entry_point.load(False)\n"
     ]
    },
    {
     "data": {
      "text/plain": [
       "[10]"
      ]
     },
     "execution_count": 2,
     "metadata": {},
     "output_type": "execute_result"
    }
   ],
   "source": [
    "env = gym.make('Pendulum-v0')\n",
    "\n",
    "random_seed = 10\n",
    "env.seed(random_seed)\n",
    "\n",
    "# from agent import Agent\n",
    "# agent = Agent(state_size=env.observation_space.shape[0], action_size=env.action_space.shape[0], \n",
    "#               random_seed=random_seed)"
   ]
  },
  {
   "cell_type": "markdown",
   "metadata": {},
   "source": [
    "### 2. Examine the State and Action Spaces\n",
    "\n",
    "Run the code cell below to print some information about the environment."
   ]
  },
  {
   "cell_type": "code",
   "execution_count": 3,
   "metadata": {},
   "outputs": [
    {
     "data": {
      "text/plain": [
       "(Box(1,), Box(3,))"
      ]
     },
     "execution_count": 3,
     "metadata": {},
     "output_type": "execute_result"
    }
   ],
   "source": [
    "env.action_space, env.observation_space"
   ]
  },
  {
   "cell_type": "code",
   "execution_count": 4,
   "metadata": {},
   "outputs": [],
   "source": [
    "action_size = env.action_space.shape[0]\n",
    "state_size = env.observation_space.shape[0]"
   ]
  },
  {
   "cell_type": "code",
   "execution_count": 5,
   "metadata": {},
   "outputs": [
    {
     "data": {
      "text/plain": [
       "(1, 3)"
      ]
     },
     "execution_count": 5,
     "metadata": {},
     "output_type": "execute_result"
    }
   ],
   "source": [
    "action_size, state_size"
   ]
  },
  {
   "cell_type": "code",
   "execution_count": 6,
   "metadata": {},
   "outputs": [
    {
     "data": {
      "text/plain": [
       "(array([-1., -1., -8.], dtype=float32), array([1., 1., 8.], dtype=float32))"
      ]
     },
     "execution_count": 6,
     "metadata": {},
     "output_type": "execute_result"
    }
   ],
   "source": [
    "env.observation_space.low, env.observation_space.high"
   ]
  },
  {
   "cell_type": "code",
   "execution_count": 7,
   "metadata": {},
   "outputs": [
    {
     "data": {
      "text/plain": [
       "(array([-2.], dtype=float32), array([2.], dtype=float32))"
      ]
     },
     "execution_count": 7,
     "metadata": {},
     "output_type": "execute_result"
    }
   ],
   "source": [
    "env.action_space.low, env.action_space.high"
   ]
  },
  {
   "cell_type": "markdown",
   "metadata": {},
   "source": [
    "### 3. Instantiate DDPG Agent"
   ]
  },
  {
   "cell_type": "code",
   "execution_count": 8,
   "metadata": {},
   "outputs": [],
   "source": [
    "from agent import Agent\n",
    "\n",
    "agent = Agent(s_size=state_size, a_size=action_size, random_seed=random_seed)"
   ]
  },
  {
   "cell_type": "markdown",
   "metadata": {},
   "source": [
    "### 4. Train the Agent with DDPG"
   ]
  },
  {
   "cell_type": "code",
   "execution_count": 9,
   "metadata": {},
   "outputs": [],
   "source": [
    "from collections import deque\n",
    "import numpy as np\n",
    "import time\n",
    "import torch\n",
    "\n",
    "n_episodes=2000\n",
    "# n_steps=1000\n",
    "# n_learn=10\n",
    "# learn_every=20\n",
    "R_goal=30\n",
    "Rs_deque = deque(maxlen=100)\n",
    "meanRs = [] # plot"
   ]
  },
  {
   "cell_type": "code",
   "execution_count": null,
   "metadata": {},
   "outputs": [
    {
     "name": "stdout",
     "output_type": "stream",
     "text": [
      "Episode 1\tTotal Average Score: -877.26\n",
      "Episode 2\tTotal Average Score: -1364.23\n",
      "Episode 3\tTotal Average Score: -1152.01\n",
      "Episode 4\tTotal Average Score: -1080.46\n",
      "Episode 5\tTotal Average Score: -1179.40\n",
      "Episode 6\tTotal Average Score: -1235.93\n",
      "Episode 7\tTotal Average Score: -1274.44\n",
      "Episode 8\tTotal Average Score: -1295.80\n",
      "Episode 9\tTotal Average Score: -1312.86\n",
      "Episode 10\tTotal Average Score: -1315.90\n",
      "Episode 11\tTotal Average Score: -1281.09\n",
      "Episode 12\tTotal Average Score: -1266.63\n",
      "Episode 13\tTotal Average Score: -1265.32\n",
      "Episode 14\tTotal Average Score: -1283.98\n",
      "Episode 15\tTotal Average Score: -1223.66\n",
      "Episode 16\tTotal Average Score: -1155.41\n",
      "Episode 17\tTotal Average Score: -1094.25\n",
      "Episode 18\tTotal Average Score: -1070.16\n",
      "Episode 19\tTotal Average Score: -1045.57\n",
      "Episode 20\tTotal Average Score: -1031.88\n",
      "Episode 21\tTotal Average Score: -999.08\n",
      "Episode 22\tTotal Average Score: -975.65\n",
      "Episode 23\tTotal Average Score: -944.32\n",
      "Episode 24\tTotal Average Score: -915.32\n",
      "Episode 25\tTotal Average Score: -935.52\n",
      "Episode 26\tTotal Average Score: -934.87\n",
      "Episode 27\tTotal Average Score: -944.22\n",
      "Episode 28\tTotal Average Score: -918.71\n",
      "Episode 29\tTotal Average Score: -910.17\n",
      "Episode 30\tTotal Average Score: -887.74\n",
      "Episode 31\tTotal Average Score: -859.17\n",
      "Episode 32\tTotal Average Score: -839.45\n",
      "Episode 33\tTotal Average Score: -814.05\n",
      "Episode 34\tTotal Average Score: -810.18\n",
      "Episode 35\tTotal Average Score: -806.04\n",
      "Episode 36\tTotal Average Score: -812.22\n",
      "Episode 37\tTotal Average Score: -793.51\n",
      "Episode 38\tTotal Average Score: -779.37\n",
      "Episode 39\tTotal Average Score: -793.12\n",
      "Episode 40\tTotal Average Score: -806.54\n",
      "Episode 41\tTotal Average Score: -818.51\n",
      "Episode 42\tTotal Average Score: -812.72\n",
      "Episode 43\tTotal Average Score: -824.70\n",
      "Episode 44\tTotal Average Score: -835.84\n",
      "Episode 45\tTotal Average Score: -847.92\n",
      "Episode 46\tTotal Average Score: -857.37\n",
      "Episode 47\tTotal Average Score: -866.32\n",
      "Episode 48\tTotal Average Score: -875.80\n",
      "Episode 49\tTotal Average Score: -886.83\n",
      "Episode 50\tTotal Average Score: -871.60\n",
      "Episode 51\tTotal Average Score: -856.90\n",
      "Episode 52\tTotal Average Score: -868.86\n",
      "Episode 53\tTotal Average Score: -881.30\n",
      "Episode 54\tTotal Average Score: -867.22\n",
      "Episode 55\tTotal Average Score: -877.46\n",
      "Episode 56\tTotal Average Score: -886.53\n",
      "Episode 57\tTotal Average Score: -873.11\n",
      "Episode 58\tTotal Average Score: -858.20\n",
      "Episode 59\tTotal Average Score: -868.27\n",
      "Episode 60\tTotal Average Score: -878.54\n",
      "Episode 61\tTotal Average Score: -866.17\n",
      "Episode 62\tTotal Average Score: -852.30\n",
      "Episode 63\tTotal Average Score: -861.26\n",
      "Episode 64\tTotal Average Score: -870.88\n",
      "Episode 65\tTotal Average Score: -880.95\n",
      "Episode 66\tTotal Average Score: -869.43\n",
      "Episode 67\tTotal Average Score: -878.90\n",
      "Episode 68\tTotal Average Score: -888.22\n",
      "Episode 69\tTotal Average Score: -897.29\n",
      "Episode 70\tTotal Average Score: -903.86\n",
      "Episode 71\tTotal Average Score: -896.60\n",
      "Episode 72\tTotal Average Score: -905.01\n",
      "Episode 73\tTotal Average Score: -894.22\n",
      "Episode 74\tTotal Average Score: -902.52\n",
      "Episode 75\tTotal Average Score: -910.80\n",
      "Episode 76\tTotal Average Score: -900.46\n",
      "Episode 77\tTotal Average Score: -890.46\n",
      "Episode 78\tTotal Average Score: -898.49\n",
      "Episode 79\tTotal Average Score: -888.83\n",
      "Episode 80\tTotal Average Score: -896.22\n",
      "Episode 81\tTotal Average Score: -903.73\n",
      "Episode 82\tTotal Average Score: -910.52\n",
      "Episode 83\tTotal Average Score: -901.16\n",
      "Episode 84\tTotal Average Score: -906.67\n",
      "Episode 85\tTotal Average Score: -897.62\n",
      "Episode 86\tTotal Average Score: -904.80\n",
      "Episode 87\tTotal Average Score: -895.99\n",
      "Episode 88\tTotal Average Score: -885.93\n",
      "Episode 89\tTotal Average Score: -876.15\n",
      "Episode 90\tTotal Average Score: -881.41\n",
      "Episode 91\tTotal Average Score: -873.27\n",
      "Episode 92\tTotal Average Score: -881.22\n",
      "Episode 93\tTotal Average Score: -889.15\n",
      "Episode 94\tTotal Average Score: -879.86\n",
      "Episode 95\tTotal Average Score: -886.09\n",
      "Episode 96\tTotal Average Score: -878.33\n",
      "Episode 97\tTotal Average Score: -870.78\n",
      "Episode 98\tTotal Average Score: -863.36\n"
     ]
    }
   ],
   "source": [
    "for i_episode in range(n_episodes):\n",
    "    \n",
    "    # # Reset Env\n",
    "    # env_info = env.reset(train_mode=train_mode)[brain_name]       # reset the environment    \n",
    "    # S = env_info.vector_observations                   # get the current state (for each agent)\n",
    "    s = env.reset() # s: state\n",
    "    #print(s.shape)\n",
    "\n",
    "    #Rs = np.zeros(num_agents)                            # initialize the score (for each agent)\n",
    "    R = 0 # R: total reward\n",
    "\n",
    "    #for i_step in range(n_steps):\n",
    "    while True:\n",
    "        \n",
    "        a = agent.act(np.reshape(s, [1, -1])) # a=[-2, 2]\n",
    "        a *= 2\n",
    "        #print(a.shape)\n",
    "        \n",
    "        # Exploration noise\n",
    "        # noise = np.random.normal(loc=0, scale=0.1, size=[num_agents, action_size])\n",
    "        # A += noise\n",
    "        # A = np.clip(a=A, a_min=-1, a_max=1)\n",
    "\n",
    "        # env_info = env.step(A)[brain_name]            # send all actions to the environment\n",
    "        # S2 = env_info.vector_observations          # get next state (for each agent)\n",
    "        # rewards = env_info.rewards                          # get reward (for each agent)\n",
    "        # dones = env_info.local_done                         # see if episode finished\n",
    "        #s2: next_state, r: reward, done/terminal, env: environment\n",
    "        s2, r, done, _ = env.step(np.reshape(a, [-1]))\n",
    "        #print(s2.shape, r, done)\n",
    "\n",
    "\n",
    "        # for s, a, reward, s2, done in zip(S, A, rewards, S2, dones):\n",
    "        # agent.step(state, action, reward, next_state, done) # send actions to the agent\n",
    "        agent.step(s, a, r, s2, done)\n",
    "\n",
    "        R += r                           # update the score (for each agent)\n",
    "        s = s2                                # roll over states to next time step\n",
    "\n",
    "        # if i_step%learn_every == 0:\n",
    "        #     for _ in range(n_learn):\n",
    "        #         agent.start_learn()\n",
    "        #print(len(agent.memory))\n",
    "        agent.start_learn()\n",
    "\n",
    "        # if np.any(dones):                                   # exit loop if episode finished\n",
    "        #     break\n",
    "        if done:\n",
    "            break\n",
    "\n",
    "    #meanR = np.mean(Rs)\n",
    "    #Rs_deque.append(meanR)\n",
    "    Rs_deque.append(R)\n",
    "    meanR_deque = np.mean(Rs_deque) # print\n",
    "    meanRs.append(meanR_deque) # plot\n",
    "\n",
    "    print('\\rEpisode {}\\tTotal Average Score: {:.2f}'.format(i_episode+1, meanR_deque))  \n",
    "    if meanR_deque >= R_goal:\n",
    "        torch.save(agent.g.state_dict(), 'g-pendulum.pth')\n",
    "        torch.save(agent.d.state_dict(), 'd-pendulum.pth')\n",
    "        break"
   ]
  },
  {
   "cell_type": "markdown",
   "metadata": {},
   "source": [
    "### 5. Plot the result"
   ]
  },
  {
   "cell_type": "code",
   "execution_count": null,
   "metadata": {},
   "outputs": [],
   "source": [
    "import matplotlib.pyplot as plt\n",
    "%matplotlib inline"
   ]
  },
  {
   "cell_type": "code",
   "execution_count": null,
   "metadata": {},
   "outputs": [],
   "source": [
    "fig = plt.figure()\n",
    "ax = fig.add_subplot(1,1,1)\n",
    "\n",
    "plt.plot(np.arange(1, len(meanRs)+1), meanRs)\n",
    "plt.ylabel('total_average_scores')\n",
    "plt.xlabel('Episode #')\n",
    "plt.show()"
   ]
  },
  {
   "cell_type": "markdown",
   "metadata": {},
   "source": [
    "### 6. Watch the agent running with saved weights"
   ]
  },
  {
   "cell_type": "code",
   "execution_count": null,
   "metadata": {},
   "outputs": [],
   "source": [
    "# Load the saved weights into Pytorch model\n",
    "agent.g.load_state_dict(torch.load('g-pendulum.pth', map_location='cpu'))\n",
    "agent.d.load_state_dict(torch.load('d-pendulum.pth', map_location='cpu'))\n",
    "\n",
    "# env_info = env.reset(train_mode=False)[brain_name]     # reset the environment    \n",
    "# S = env_info.vector_observations                  # get the current states (S) (for each agent)\n",
    "s = env.reset() # s: state # get the current state (s) (for an agent)\n",
    "\n",
    "#Rs = np.zeros(num_agents)                          # initialize the total scores (Rs) (for each agent)\n",
    "R = 0 # R:total reward # initialize the total score (R) (for an agent)\n",
    "\n",
    "while True:\n",
    "    #A = agent.act(S)                        # select actions (A) from loaded model agents\n",
    "    a = agent.act(np.reshape(s, [1, -1])) # a: [-1, +1]    # select action (a) from loaded model agent\n",
    "    \n",
    "    # env_info = env.step(A)[brain_name]           # send all actions (A) to tne environment (env)\n",
    "    # S2 = env_info.vector_observations         # get next states (S2) (for each agent)\n",
    "    # rewards = env_info.rewards                         # get rewards (for each agent)\n",
    "    # dones = env_info.local_done                        # see if the episode is done/finished (terminal)\n",
    "    s2, r, done = env.step(np.reshape(a, [1, -1]))\n",
    "    \n",
    "    # Rs += env_info.rewards                         # update the total scores (Rs) (for each agent)\n",
    "    # S = S2                               # roll over current states (S) to next states (S2)\n",
    "    R += r # update the total score (R) (for an agent)\n",
    "    s = s2 # roll over current state (s) to next state (s2)\n",
    "    \n",
    "    #if np.any(dones):                                  # exit loop if episode is done/finished\n",
    "    if done: # exit loop if episode is done/finished (terminal)\n",
    "        break\n",
    "        \n",
    "print('Average of total scores: {}'.format(np.mean(Rs)))"
   ]
  },
  {
   "cell_type": "markdown",
   "metadata": {},
   "source": [
    "When finished, you can close the environment."
   ]
  },
  {
   "cell_type": "code",
   "execution_count": 6,
   "metadata": {},
   "outputs": [],
   "source": [
    "env.close()"
   ]
  },
  {
   "cell_type": "code",
   "execution_count": null,
   "metadata": {},
   "outputs": [],
   "source": []
  }
 ],
 "metadata": {
  "kernelspec": {
   "display_name": "Python 3",
   "language": "python",
   "name": "python3"
  },
  "language_info": {
   "codemirror_mode": {
    "name": "ipython",
    "version": 3
   },
   "file_extension": ".py",
   "mimetype": "text/x-python",
   "name": "python",
   "nbconvert_exporter": "python",
   "pygments_lexer": "ipython3",
   "version": "3.6.8"
  }
 },
 "nbformat": 4,
 "nbformat_minor": 2
}
