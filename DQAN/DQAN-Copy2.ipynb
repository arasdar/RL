{
 "cells": [
  {
   "cell_type": "markdown",
   "metadata": {},
   "source": [
    "# DQAN (Deep Q-Adverserial Nets): DQN (Deep Q-Nets) + GAN (Gen. Adv. Nets)\n",
    "\n",
    "In this notebook, we'll combine a DQN (deep Q-net) with GAN (generative adverserial net) that can learn to play games through reinforcement learning without any reward function. We'll call this network DQAN (deep Q adverserial net). \n",
    "Adverserial nets learn to maximize the current reward based the past rewards.\n",
    "Q-net learns to maximize the future rewards based on the current reward.\n",
    "Given a task and known when the task is done or failed, we should be able to learn the task."
   ]
  },
  {
   "cell_type": "markdown",
   "metadata": {},
   "source": [
    "# DQN\n",
    "More specifically, we'll use Q-learning to train an agent to play a game called [Cart-Pole](https://gym.openai.com/envs/CartPole-v0). In this game, a freely swinging pole is attached to a cart. The cart can move to the left and right, and the goal is to keep the pole upright as long as possible.\n",
    "\n",
    "![Cart-Pole](assets/cart-pole.jpg)\n",
    "\n",
    "We can simulate this game using [OpenAI Gym](https://gym.openai.com/). First, let's check out how OpenAI Gym works. Then, we'll get into training an agent to play the Cart-Pole game."
   ]
  },
  {
   "cell_type": "code",
   "execution_count": 1,
   "metadata": {},
   "outputs": [],
   "source": [
    "import gym\n",
    "import tensorflow as tf\n",
    "import numpy as np"
   ]
  },
  {
   "cell_type": "markdown",
   "metadata": {},
   "source": [
    ">**Note:** Make sure you have OpenAI Gym cloned into the same directory with this notebook. I've included `gym` as a submodule, so you can run `git submodule --init --recursive` to pull the contents into the `gym` repo."
   ]
  },
  {
   "cell_type": "code",
   "execution_count": 2,
   "metadata": {},
   "outputs": [
    {
     "name": "stdout",
     "output_type": "stream",
     "text": [
      "\u001b[33mWARN: gym.spaces.Box autodetected dtype as <class 'numpy.float32'>. Please provide explicit dtype.\u001b[0m\n"
     ]
    },
    {
     "name": "stderr",
     "output_type": "stream",
     "text": [
      "/home/arasdar/anaconda3/envs/env/lib/python3.6/site-packages/gym/__init__.py:22: UserWarning: DEPRECATION WARNING: to improve load times, gym no longer automatically loads gym.spaces. Please run \"import gym.spaces\" to load gym.spaces on your own. This warning will turn into an error in a future version of gym.\n",
      "  warnings.warn('DEPRECATION WARNING: to improve load times, gym no longer automatically loads gym.spaces. Please run \"import gym.spaces\" to load gym.spaces on your own. This warning will turn into an error in a future version of gym.')\n"
     ]
    }
   ],
   "source": [
    "# Create the Cart-Pole game environment\n",
    "env = gym.make('CartPole-v0')\n",
    "# env = gym.make('CartPole-v1')\n",
    "# env = gym.make('Acrobot-v1')"
   ]
  },
  {
   "cell_type": "markdown",
   "metadata": {},
   "source": [
    "We interact with the simulation through `env`. To show the simulation running, you can use `env.render()` to render one frame. Passing in an action as an integer to `env.step` will generate the next step in the simulation.  You can see how many actions are possible from `env.action_space` and to get a random action you can use `env.action_space.sample()`. This is general to all Gym games. In the Cart-Pole game, there are two possible actions, moving the cart left or right. So there are two actions we can take, encoded as 0 and 1.\n",
    "\n",
    "Run the code below to watch the simulation run."
   ]
  },
  {
   "cell_type": "code",
   "execution_count": 3,
   "metadata": {},
   "outputs": [
    {
     "name": "stdout",
     "output_type": "stream",
     "text": [
      "state, action, reward, done, info\n",
      "[-0.02403435 -0.22837636 -0.01461711  0.31155054] 0 1.0 False {}\n",
      "state, action, reward, done, info\n",
      "[-0.02860188 -0.03304925 -0.0083861   0.01429389] 1 1.0 False {}\n",
      "state, action, reward, done, info\n",
      "[-0.02926286  0.16219196 -0.00810022 -0.28102311] 1 1.0 False {}\n",
      "state, action, reward, done, info\n",
      "[-0.02601902 -0.03281351 -0.01372068  0.00909407] 0 1.0 False {}\n",
      "state, action, reward, done, info\n",
      "[-0.02667529  0.1625025  -0.0135388  -0.28788612] 1 1.0 False {}\n",
      "state, action, reward, done, info\n",
      "[-0.02342524  0.35781488 -0.01929652 -0.58480813] 1 1.0 False {}\n",
      "state, action, reward, done, info\n",
      "[-0.01626895  0.55320174 -0.03099269 -0.88350669] 1 1.0 False {}\n",
      "state, action, reward, done, info\n",
      "[-0.00520491  0.74873055 -0.04866282 -1.18576944] 1 1.0 False {}\n",
      "state, action, reward, done, info\n",
      "[ 0.0097697   0.94444868 -0.07237821 -1.49330033] 1 1.0 False {}\n",
      "state, action, reward, done, info\n",
      "[ 0.02865867  1.14037273 -0.10224422 -1.80767757] 1 1.0 False {}\n"
     ]
    }
   ],
   "source": [
    "env.reset()\n",
    "rewards, states, actions, dones = [], [], [], []\n",
    "for _ in range(10):\n",
    "    # env.render()\n",
    "    action = env.action_space.sample()\n",
    "    state, reward, done, info = env.step(action) # take a random action\n",
    "    states.append(state)\n",
    "    rewards.append(reward)\n",
    "    actions.append(action)\n",
    "    dones.append(done)\n",
    "    print('state, action, reward, done, info')\n",
    "    print(state, action, reward, done, info)\n",
    "    if done:\n",
    "        print('state, action, reward, done, info')\n",
    "        print(state, action, reward, done, info)\n",
    "        states.append(state)\n",
    "        rewards.append(reward)\n",
    "        actions.append(action)\n",
    "        dones.append(done)"
   ]
  },
  {
   "cell_type": "markdown",
   "metadata": {},
   "source": [
    "To shut the window showing the simulation, use `env.close()`."
   ]
  },
  {
   "cell_type": "markdown",
   "metadata": {},
   "source": [
    "If you ran the simulation above, we can look at the rewards:"
   ]
  },
  {
   "cell_type": "code",
   "execution_count": 4,
   "metadata": {},
   "outputs": [
    {
     "name": "stdout",
     "output_type": "stream",
     "text": [
      "[1.0, 1.0, 1.0, 1.0, 1.0, 1.0, 1.0, 1.0, 1.0, 1.0]\n",
      "(10,) (10, 4) (10,) (10,)\n",
      "float64 float64 int64 bool\n",
      "1 0\n",
      "2\n",
      "1.0 1.0\n",
      "1.140372725307347 -1.8076775738322648\n"
     ]
    }
   ],
   "source": [
    "print(rewards[-20:])\n",
    "print(np.array(rewards).shape, np.array(states).shape, np.array(actions).shape, np.array(dones).shape)\n",
    "print(np.array(rewards).dtype, np.array(states).dtype, np.array(actions).dtype, np.array(dones).dtype)\n",
    "print(np.max(np.array(actions)), np.min(np.array(actions)))\n",
    "print((np.max(np.array(actions)) - np.min(np.array(actions)))+1)\n",
    "print(np.max(np.array(rewards)), np.min(np.array(rewards)))\n",
    "print(np.max(np.array(states)), np.min(np.array(states)))"
   ]
  },
  {
   "cell_type": "markdown",
   "metadata": {},
   "source": [
    "The game resets after the pole has fallen past a certain angle. For each frame while the simulation is running, it returns a reward of 1.0. The longer the game runs, the more reward we get. Then, our network's goal is to maximize the reward by keeping the pole vertical. It will do this by moving the cart to the left and the right."
   ]
  },
  {
   "cell_type": "markdown",
   "metadata": {},
   "source": [
    "## Q-Network\n",
    "\n",
    "We train our Q-learning agent using the Bellman Equation:\n",
    "\n",
    "$$\n",
    "Q(s, a) = r + \\gamma \\max{Q(s', a')}\n",
    "$$\n",
    "\n",
    "where $s$ is a state, $a$ is an action, and $s'$ is the next state from state $s$ and action $a$.\n",
    "\n",
    "Before we used this equation to learn values for a Q-_table_. However, for this game there are a huge number of states available. The state has four values: the position and velocity of the cart, and the position and velocity of the pole. These are all real-valued numbers, so ignoring floating point precisions, you practically have infinite states. Instead of using a table then, we'll replace it with a neural network that will approximate the Q-table lookup function.\n",
    "\n",
    "<img src=\"assets/deep-q-learning.png\" width=450px>\n",
    "\n",
    "Now, our Q value, $Q(s, a)$ is calculated by passing in a state to the network. The output will be Q-values for each available action, with fully connected hidden layers.\n",
    "\n",
    "<img src=\"assets/q-network.png\" width=550px>\n",
    "\n",
    "\n",
    "As I showed before, we can define our targets for training as $\\hat{Q}(s,a) = r + \\gamma \\max{Q(s', a')}$. Then we update the weights by minimizing $(\\hat{Q}(s,a) - Q(s,a))^2$. \n",
    "\n",
    "For this Cart-Pole game, we have four inputs, one for each value in the state, and two outputs, one for each action. To get $\\hat{Q}$, we'll first choose an action, then simulate the game using that action. This will get us the next state, $s'$, and the reward. With that, we can calculate $\\hat{Q}$ then pass it back into the $Q$ network to run the optimizer and update the weights.\n",
    "\n",
    "Below is my implementation of the Q-network. I used two fully connected layers with ReLU activations. Two seems to be good enough, three might be better. Feel free to try it out."
   ]
  },
  {
   "cell_type": "code",
   "execution_count": 22,
   "metadata": {},
   "outputs": [],
   "source": [
    "def model_input(state_size):\n",
    "    # States or observations as input\n",
    "    states = tf.placeholder(tf.float32, [None, state_size], name='states')\n",
    "    \n",
    "    # Actions as output\n",
    "    actions = tf.placeholder(tf.int32, [None], name='actions')\n",
    "\n",
    "    # Target Q values for training\n",
    "    targetQs = tf.placeholder(tf.float32, [None], name='targetQs')\n",
    "    return states, actions, targetQs"
   ]
  },
  {
   "cell_type": "code",
   "execution_count": 23,
   "metadata": {},
   "outputs": [],
   "source": [
    "# tf.layers.dense(\n",
    "#     inputs, ????????????????????????\n",
    "#     units, ??????????????????????\n",
    "#     activation=None,\n",
    "#     use_bias=True, OOOOOOOOOOOOOOOOOOOOOOOK\n",
    "#     kernel_initializer=None,\n",
    "#     bias_initializer=tf.zeros_initializer(), OOOOOOOOOOOOOOOK\n",
    "#     kernel_regularizer=None,\n",
    "#     bias_regularizer=None,\n",
    "#     activity_regularizer=None,\n",
    "#     kernel_constraint=None,\n",
    "#     bias_constraint=None,\n",
    "#     trainable=True, ??????????????????\n",
    "#     name=None,\n",
    "#     reuse=None\n",
    "# )"
   ]
  },
  {
   "cell_type": "code",
   "execution_count": 24,
   "metadata": {},
   "outputs": [],
   "source": [
    "# Q function\n",
    "def generator(states, action_size, hidden_size, reuse=False, alpha=0.1): #training=True ~ batchnorm\n",
    "    with tf.variable_scope('generator', reuse=reuse):\n",
    "        # First fully connected layer\n",
    "        h1 = tf.layers.dense(inputs=states, units=hidden_size)\n",
    "        #bn1 = tf.layers.batch_normalization(h1, training=training) #training=True ~ batchnorm\n",
    "        nl1 = tf.maximum(alpha * h1, h1)\n",
    "        \n",
    "        # Second fully connected layer\n",
    "        h2 = tf.layers.dense(inputs=nl1, units=hidden_size)\n",
    "        #bn2 = tf.layers.batch_normalization(h2, training=training) #training=True ~ batchnorm\n",
    "        nl2 = tf.maximum(alpha * h2, h2)\n",
    "        \n",
    "        # Output layer\n",
    "        logits = tf.layers.dense(inputs=nl2, units=action_size)        \n",
    "        #predictions = tf.nn.softmax(logits_actions)\n",
    "\n",
    "        return logits"
   ]
  },
  {
   "cell_type": "code",
   "execution_count": 25,
   "metadata": {},
   "outputs": [],
   "source": [
    "# This is a reward function: Rt(at) or Rt(~at)\n",
    "def discriminator(actions, hidden_size, reuse=False, alpha=0.1): #training=True ~ batchnorm\n",
    "    with tf.variable_scope('discriminator', reuse=reuse):\n",
    "        # First fully connected layer\n",
    "        h1 = tf.layers.dense(inputs=actions, units=hidden_size)\n",
    "        #bn1 = tf.layers.batch_normalization(h1, training=True)\n",
    "        nl1 = tf.maximum(alpha * h1, h1)\n",
    "        \n",
    "        # Second fully connected layer\n",
    "        h2 = tf.layers.dense(inputs=nl1, units=hidden_size)\n",
    "        #bn2 = tf.layers.batch_normalization(h2, training=True)\n",
    "        nl2 = tf.maximum(alpha * h2, h2)\n",
    "        \n",
    "        # Output layer\n",
    "        logits = tf.layers.dense(inputs=nl2, units=1)   \n",
    "        #predictions = tf.sigmoid(logits)\n",
    "\n",
    "        # logits for loss and reward/prob/out\n",
    "        return logits"
   ]
  },
  {
   "cell_type": "code",
   "execution_count": 28,
   "metadata": {},
   "outputs": [],
   "source": [
    "# Qt(St, At) = Rt(St+1, At) + max(alpha*Qt+1(St+1))\n",
    "def model_loss(states, actions, action_size, hidden_size, targetQs, alpha=0.1):\n",
    "    \"\"\"\n",
    "    Get the loss for the discriminator and generator\n",
    "    :param states: real current input states or observations given\n",
    "    :param actions: real actions given\n",
    "    :return: A tuple of (discriminator loss, generator loss)\n",
    "    \"\"\"\n",
    "    # The fake/generated actions\n",
    "    actions_logits = generator(states=states, hidden_size=hidden_size, action_size=action_size)\n",
    "    actions_fake = tf.nn.softmax(actions_logits)\n",
    "    d_logits_fake = discriminator(actions=actions_fake, hidden_size=hidden_size, reuse=False)\n",
    "\n",
    "    # The real onehot encoded actions\n",
    "    actions_real = tf.one_hot(actions, action_size)\n",
    "    d_logits_real = discriminator(actions=actions_real, hidden_size=hidden_size, reuse=True)\n",
    "\n",
    "    # Training the rewarding function\n",
    "    d_loss_real = tf.reduce_mean(\n",
    "        tf.nn.sigmoid_cross_entropy_with_logits(logits=d_logits_real, labels=tf.ones_like(d_logits_real)))\n",
    "    d_loss_fake = tf.reduce_mean(\n",
    "        tf.nn.sigmoid_cross_entropy_with_logits(logits=d_logits_fake, labels=tf.zeros_like(d_logits_fake)))\n",
    "    d_loss = d_loss_real + d_loss_fake\n",
    "    \n",
    "    # Train the generate to maximize the current reward 0-1\n",
    "    g_loss = tf.reduce_mean(\n",
    "        tf.nn.sigmoid_cross_entropy_with_logits(logits=d_logits_fake, labels=tf.ones_like(d_logits_fake)))\n",
    "\n",
    "    # Train the generator to maximize the future rewards: Bellman equations: loss (targetQ - Q)^2\n",
    "    Qs = tf.reduce_sum(tf.multiply(actions_logits, actions_real), axis=1)\n",
    "    q_loss = tf.reduce_mean(tf.square(targetQs - Qs))\n",
    "\n",
    "    # The generated rewards for Bellman equation\n",
    "    rewards_fake = tf.sigmoid(d_logits_fake)\n",
    "    rewards_real = tf.sigmoid(d_logits_real)\n",
    "\n",
    "    return d_loss, g_loss, q_loss, actions_logits, Qs, rewards_fake, rewards_real"
   ]
  },
  {
   "cell_type": "code",
   "execution_count": 29,
   "metadata": {},
   "outputs": [],
   "source": [
    "def model_opt(d_loss, g_loss, q_loss, learning_rate):\n",
    "    \"\"\"\n",
    "    Get optimization operations\n",
    "    :param d_loss: Discriminator/Reward loss Tensor for reward function\n",
    "    :param g_loss: Generator/Q-value loss Tensor for action & next state predicton\n",
    "    :param q_loss: Value loss Tensor\n",
    "    :param learning_rate: Learning Rate Placeholder\n",
    "    :return: A tuple of (discriminator training operation, generator training operation)\n",
    "    \"\"\"\n",
    "    # Get weights and bias to update\n",
    "    t_vars = tf.trainable_variables()\n",
    "    d_vars = [var for var in t_vars if var.name.startswith('discriminator')]\n",
    "    g_vars = [var for var in t_vars if var.name.startswith('generator')]\n",
    "\n",
    "    # Optimize\n",
    "    with tf.control_dependencies(tf.get_collection(tf.GraphKeys.UPDATE_OPS)):\n",
    "        d_opt = tf.train.AdamOptimizer(learning_rate).minimize(d_loss, var_list=d_vars)\n",
    "        g_opt = tf.train.AdamOptimizer(learning_rate).minimize(g_loss, var_list=g_vars)\n",
    "        q_opt = tf.train.AdamOptimizer(learning_rate).minimize(q_loss, var_list=g_vars)\n",
    "\n",
    "    return d_opt, g_opt, q_opt"
   ]
  },
  {
   "cell_type": "code",
   "execution_count": 30,
   "metadata": {},
   "outputs": [],
   "source": [
    "class DQAN:\n",
    "    def __init__(self, state_size, action_size, hidden_size, learning_rate):\n",
    "\n",
    "        # Data of the Model: make the data available inside the framework\n",
    "        self.states, self.actions, self.targetQs = model_input(state_size=state_size)\n",
    "\n",
    "        # Create the Model: calculating the loss and forwad pass\n",
    "        self.d_loss, self.g_loss, self.q_loss, self.actions_logits, self.Qs, self.rewards_fake, self.rewards_real = model_loss(\n",
    "            action_size=action_size, actions=self.actions, states=self.states, hidden_size=hidden_size, \n",
    "            targetQs=self.targetQs)\n",
    "\n",
    "        # Update the model: backward pass and backprop\n",
    "        self.d_opt, self.g_opt, self.q_opt = model_opt(d_loss=self.d_loss, g_loss=self.g_loss, \n",
    "                                                       q_loss=self.q_loss, learning_rate=learning_rate)"
   ]
  },
  {
   "cell_type": "markdown",
   "metadata": {},
   "source": [
    "## Experience replay\n",
    "\n",
    "Reinforcement learning algorithms can have stability issues due to correlations between states. To reduce correlations when training, we can store the agent's experiences and later draw a random mini-batch of those experiences to train on. \n",
    "\n",
    "Here, we'll create a `Memory` object that will store our experiences, our transitions $<s, a, r, s'>$. This memory will have a maxmium capacity, so we can keep newer experiences in memory while getting rid of older experiences. Then, we'll sample a random mini-batch of transitions $<s, a, r, s'>$ and train on those.\n",
    "\n",
    "Below, I've implemented a `Memory` object. If you're unfamiliar with `deque`, this is a double-ended queue. You can think of it like a tube open on both sides. You can put objects in either side of the tube. But if it's full, adding anything more will push an object out the other side. This is a great data structure to use for the memory buffer."
   ]
  },
  {
   "cell_type": "code",
   "execution_count": 31,
   "metadata": {},
   "outputs": [],
   "source": [
    "from collections import deque\n",
    "\n",
    "class Memory():    \n",
    "    def __init__(self, max_size = 1000):\n",
    "        self.buffer = deque(maxlen=max_size)\n",
    "    \n",
    "    def add(self, experience):\n",
    "        self.buffer.append(experience)\n",
    "            \n",
    "    def sample(self, batch_size):\n",
    "        idx = np.random.choice(np.arange(len(self.buffer)), \n",
    "                               size=batch_size, \n",
    "                               replace=False)\n",
    "        return [self.buffer[ii] for ii in idx]"
   ]
  },
  {
   "cell_type": "markdown",
   "metadata": {},
   "source": [
    "## Exploration - Exploitation\n",
    "\n",
    "To learn about the environment and rules of the game, the agent needs to explore by taking random actions. We'll do this by choosing a random action with some probability $\\epsilon$ (epsilon).  That is, with some probability $\\epsilon$ the agent will make a random action and with probability $1 - \\epsilon$, the agent will choose an action from $Q(s,a)$. This is called an **$\\epsilon$-greedy policy**.\n",
    "\n",
    "\n",
    "At first, the agent needs to do a lot of exploring. Later when it has learned more, the agent can favor choosing actions based on what it has learned. This is called _exploitation_. We'll set it up so the agent is more likely to explore early in training, then more likely to exploit later in training."
   ]
  },
  {
   "cell_type": "markdown",
   "metadata": {},
   "source": [
    "## Q-Learning training algorithm\n",
    "\n",
    "Putting all this together, we can list out the algorithm we'll use to train the network. We'll train the network in _episodes_. One *episode* is one simulation of the game. For this game, the goal is to keep the pole upright for 195 frames. So we can start a new episode once meeting that goal. The game ends if the pole tilts over too far, or if the cart moves too far the left or right. When a game ends, we'll start a new episode. Now, to train the agent:\n",
    "\n",
    "* Initialize the memory $D$\n",
    "* Initialize the action-value network $Q$ with random weights\n",
    "* **For** episode = 1, $M$ **do**\n",
    "  * **For** $t$, $T$ **do**\n",
    "     * With probability $\\epsilon$ select a random action $a_t$, otherwise select $a_t = \\mathrm{argmax}_a Q(s,a)$\n",
    "     * Execute action $a_t$ in simulator and observe reward $r_{t+1}$ and new state $s_{t+1}$\n",
    "     * Store transition $<s_t, a_t, r_{t+1}, s_{t+1}>$ in memory $D$\n",
    "     * Sample random mini-batch from $D$: $<s_j, a_j, r_j, s'_j>$\n",
    "     * Set $\\hat{Q}_j = r_j$ if the episode ends at $j+1$, otherwise set $\\hat{Q}_j = r_j + \\gamma \\max_{a'}{Q(s'_j, a')}$\n",
    "     * Make a gradient descent step with loss $(\\hat{Q}_j - Q(s_j, a_j))^2$\n",
    "  * **endfor**\n",
    "* **endfor**"
   ]
  },
  {
   "cell_type": "markdown",
   "metadata": {},
   "source": [
    "## Hyperparameters\n",
    "\n",
    "One of the more difficult aspects of reinforcememt learning are the large number of hyperparameters. Not only are we tuning the network, but we're tuning the simulation."
   ]
  },
  {
   "cell_type": "code",
   "execution_count": 32,
   "metadata": {},
   "outputs": [],
   "source": [
    "train_episodes = 1000          # max number of episodes to learn from\n",
    "max_steps = 200               # max steps in an episode\n",
    "gamma = 0.99                   # future reward discount\n",
    "\n",
    "# Exploration parameters\n",
    "explore_start = 1.0            # exploration probability at start\n",
    "explore_stop = 0.01            # minimum exploration probability \n",
    "decay_rate = 0.0001            # exponential decay rate for exploration prob\n",
    "\n",
    "# Network parameters\n",
    "hidden_size = 64              # number of units in each Q-network hidden layer -- simulation\n",
    "state_size = 4                # number of units for the input state/observation -- simulation\n",
    "action_size = 2               # number of units for the output actions -- simulation\n",
    "\n",
    "# Memory parameters\n",
    "memory_size = 10000            # memory capacity\n",
    "batch_size = 10                # experience mini-batch size\n",
    "learning_rate = 0.001          # learning rate for adam"
   ]
  },
  {
   "cell_type": "code",
   "execution_count": 33,
   "metadata": {},
   "outputs": [],
   "source": [
    "tf.reset_default_graph()\n",
    "model = DQAN(action_size=action_size, hidden_size=hidden_size, state_size=state_size, \n",
    "                 learning_rate=learning_rate)"
   ]
  },
  {
   "cell_type": "markdown",
   "metadata": {},
   "source": [
    "## Populate the experience memory\n",
    "\n",
    "Here I'm re-initializing the simulation and pre-populating the memory. The agent is taking random actions and storing the transitions in memory. This will help the agent with exploring the game."
   ]
  },
  {
   "cell_type": "code",
   "execution_count": 34,
   "metadata": {},
   "outputs": [],
   "source": [
    "# Initialize the simulation\n",
    "env.reset()\n",
    "\n",
    "# Take one random step to get the pole and cart moving\n",
    "state, reward, done, _ = env.step(env.action_space.sample())\n",
    "\n",
    "# init memory\n",
    "memory = Memory(max_size=memory_size)\n",
    "\n",
    "# Make a bunch of random actions and store the experiences\n",
    "for _ in range(batch_size):\n",
    "    # Uncomment the line below to watch the simulation\n",
    "    # env.render()\n",
    "\n",
    "    # Make a random action\n",
    "    action = env.action_space.sample()\n",
    "    next_state, reward, done, _ = env.step(action)\n",
    "\n",
    "    if done:\n",
    "        # The simulation fails so no next state\n",
    "        next_state = np.zeros(state.shape)\n",
    "        \n",
    "        # Add experience to memory\n",
    "        memory.add((state, action, reward, next_state))\n",
    "        \n",
    "        # Start new episode\n",
    "        env.reset()\n",
    "        \n",
    "        # Take one random step to get the pole and cart moving\n",
    "        state, reward, done, _ = env.step(env.action_space.sample())\n",
    "    else:\n",
    "        # Add experience to memory\n",
    "        memory.add((state, action, reward, next_state))\n",
    "        state = next_state"
   ]
  },
  {
   "cell_type": "markdown",
   "metadata": {},
   "source": [
    "## Training\n",
    "\n",
    "Below we'll train our agent. If you want to watch it train, uncomment the `env.render()` line. This is slow because it's rendering the frames slower than the network can train. But, it's cool to watch the agent get better at the game."
   ]
  },
  {
   "cell_type": "code",
   "execution_count": null,
   "metadata": {},
   "outputs": [
    {
     "name": "stdout",
     "output_type": "stream",
     "text": [
      "-------------------------------------------------------------------------------\n",
      "Episode: 0 Total reward: 5.0 Average reward fake: 0.46316176652908325 Average reward real: 0.46692365407943726 Training d_loss: 1.3840 Training g_loss: 0.7678 Training q_loss: 0.2492 Explore P: 0.9995\n",
      "-------------------------------------------------------------------------------\n",
      "-------------------------------------------------------------------------------\n",
      "Episode: 1 Total reward: 11.0 Average reward fake: 0.47269850969314575 Average reward real: 0.5266070365905762 Training d_loss: 1.2814 Training g_loss: 0.7494 Training q_loss: 0.5005 Explore P: 0.9984\n",
      "-------------------------------------------------------------------------------\n",
      "-------------------------------------------------------------------------------\n",
      "Episode: 2 Total reward: 16.0 Average reward fake: 0.4783811569213867 Average reward real: 0.5781675577163696 Training d_loss: 1.2016 Training g_loss: 0.7442 Training q_loss: 0.8946 Explore P: 0.9968\n",
      "-------------------------------------------------------------------------------\n",
      "-------------------------------------------------------------------------------\n",
      "Episode: 3 Total reward: 19.0 Average reward fake: 0.4585600793361664 Average reward real: 0.5320113897323608 Training d_loss: 1.2763 Training g_loss: 0.8095 Training q_loss: 2.3633 Explore P: 0.9950\n",
      "-------------------------------------------------------------------------------\n",
      "-------------------------------------------------------------------------------\n",
      "Episode: 4 Total reward: 16.0 Average reward fake: 0.4770558476448059 Average reward real: 0.5711444616317749 Training d_loss: 1.2456 Training g_loss: 0.7604 Training q_loss: 14.6627 Explore P: 0.9934\n",
      "-------------------------------------------------------------------------------\n",
      "-------------------------------------------------------------------------------\n",
      "Episode: 5 Total reward: 16.0 Average reward fake: 0.43801695108413696 Average reward real: 0.5179773569107056 Training d_loss: 1.2498 Training g_loss: 0.8310 Training q_loss: 19.0164 Explore P: 0.9918\n",
      "-------------------------------------------------------------------------------\n",
      "-------------------------------------------------------------------------------\n",
      "Episode: 6 Total reward: 11.0 Average reward fake: 0.46697670221328735 Average reward real: 0.5560492873191833 Training d_loss: 1.2440 Training g_loss: 0.7736 Training q_loss: 34.0928 Explore P: 0.9907\n",
      "-------------------------------------------------------------------------------\n",
      "-------------------------------------------------------------------------------\n",
      "Episode: 7 Total reward: 11.0 Average reward fake: 0.444965660572052 Average reward real: 0.5240789651870728 Training d_loss: 1.2558 Training g_loss: 0.8179 Training q_loss: 49.4239 Explore P: 0.9897\n",
      "-------------------------------------------------------------------------------\n",
      "-------------------------------------------------------------------------------\n",
      "Episode: 8 Total reward: 11.0 Average reward fake: 0.49935072660446167 Average reward real: 0.5668742656707764 Training d_loss: 1.2764 Training g_loss: 0.7114 Training q_loss: 21.3065 Explore P: 0.9886\n",
      "-------------------------------------------------------------------------------\n",
      "-------------------------------------------------------------------------------\n",
      "Episode: 9 Total reward: 18.0 Average reward fake: 0.4160234034061432 Average reward real: 0.4949704706668854 Training d_loss: 1.2802 Training g_loss: 0.8982 Training q_loss: 53.8889 Explore P: 0.9868\n",
      "-------------------------------------------------------------------------------\n",
      "-------------------------------------------------------------------------------\n",
      "Episode: 10 Total reward: 27.0 Average reward fake: 0.4678103029727936 Average reward real: 0.5270439982414246 Training d_loss: 1.2806 Training g_loss: 0.7737 Training q_loss: 127.5834 Explore P: 0.9842\n",
      "-------------------------------------------------------------------------------\n",
      "-------------------------------------------------------------------------------\n",
      "Episode: 11 Total reward: 15.0 Average reward fake: 0.47739577293395996 Average reward real: 0.5334625244140625 Training d_loss: 1.2872 Training g_loss: 0.7516 Training q_loss: 70.1248 Explore P: 0.9827\n",
      "-------------------------------------------------------------------------------\n",
      "-------------------------------------------------------------------------------\n",
      "Episode: 12 Total reward: 13.0 Average reward fake: 0.42708054184913635 Average reward real: 0.47651052474975586 Training d_loss: 1.3274 Training g_loss: 0.8719 Training q_loss: 57.3645 Explore P: 0.9815\n",
      "-------------------------------------------------------------------------------\n",
      "-------------------------------------------------------------------------------\n",
      "Episode: 13 Total reward: 53.0 Average reward fake: 0.45603352785110474 Average reward real: 0.5843583941459656 Training d_loss: 1.2008 Training g_loss: 0.8532 Training q_loss: 540.9417 Explore P: 0.9763\n",
      "-------------------------------------------------------------------------------\n",
      "-------------------------------------------------------------------------------\n",
      "Episode: 14 Total reward: 26.0 Average reward fake: 0.4725765585899353 Average reward real: 0.4949328303337097 Training d_loss: 1.3929 Training g_loss: 0.7758 Training q_loss: 146.7471 Explore P: 0.9738\n",
      "-------------------------------------------------------------------------------\n",
      "-------------------------------------------------------------------------------\n",
      "Episode: 15 Total reward: 15.0 Average reward fake: 0.4948834478855133 Average reward real: 0.5295811891555786 Training d_loss: 1.3283 Training g_loss: 0.7038 Training q_loss: 188.5903 Explore P: 0.9724\n",
      "-------------------------------------------------------------------------------\n",
      "-------------------------------------------------------------------------------\n",
      "Episode: 16 Total reward: 9.0 Average reward fake: 0.49519267678260803 Average reward real: 0.5141130685806274 Training d_loss: 1.3507 Training g_loss: 0.7052 Training q_loss: 144.8333 Explore P: 0.9715\n",
      "-------------------------------------------------------------------------------\n",
      "-------------------------------------------------------------------------------\n",
      "Episode: 17 Total reward: 18.0 Average reward fake: 0.45686689019203186 Average reward real: 0.5646442174911499 Training d_loss: 1.2909 Training g_loss: 0.8464 Training q_loss: 1554.8781 Explore P: 0.9698\n",
      "-------------------------------------------------------------------------------\n",
      "-------------------------------------------------------------------------------\n",
      "Episode: 18 Total reward: 17.0 Average reward fake: 0.5003613829612732 Average reward real: 0.5249024629592896 Training d_loss: 1.3446 Training g_loss: 0.7001 Training q_loss: 1633.2723 Explore P: 0.9682\n",
      "-------------------------------------------------------------------------------\n",
      "-------------------------------------------------------------------------------\n",
      "Episode: 19 Total reward: 18.0 Average reward fake: 0.5087911486625671 Average reward real: 0.510909914970398 Training d_loss: 1.4169 Training g_loss: 0.6924 Training q_loss: 4282.0850 Explore P: 0.9664\n",
      "-------------------------------------------------------------------------------\n",
      "-------------------------------------------------------------------------------\n",
      "Episode: 20 Total reward: 15.0 Average reward fake: 0.4805281162261963 Average reward real: 0.4906465411186218 Training d_loss: 1.3785 Training g_loss: 0.7407 Training q_loss: 1833.0090 Explore P: 0.9650\n",
      "-------------------------------------------------------------------------------\n",
      "-------------------------------------------------------------------------------\n",
      "Episode: 21 Total reward: 12.0 Average reward fake: 0.4097256660461426 Average reward real: 0.5076452493667603 Training d_loss: 1.2191 Training g_loss: 0.9065 Training q_loss: 267.0571 Explore P: 0.9638\n",
      "-------------------------------------------------------------------------------\n",
      "-------------------------------------------------------------------------------\n",
      "Episode: 22 Total reward: 9.0 Average reward fake: 0.4997645914554596 Average reward real: 0.5201687216758728 Training d_loss: 1.3733 Training g_loss: 0.7112 Training q_loss: 276.3530 Explore P: 0.9630\n",
      "-------------------------------------------------------------------------------\n"
     ]
    },
    {
     "name": "stdout",
     "output_type": "stream",
     "text": [
      "-------------------------------------------------------------------------------\n",
      "Episode: 23 Total reward: 24.0 Average reward fake: 0.4660290777683258 Average reward real: 0.5147523880004883 Training d_loss: 1.3249 Training g_loss: 0.8083 Training q_loss: 182.7267 Explore P: 0.9607\n",
      "-------------------------------------------------------------------------------\n",
      "-------------------------------------------------------------------------------\n",
      "Episode: 24 Total reward: 26.0 Average reward fake: 0.48409804701805115 Average reward real: 0.5583525896072388 Training d_loss: 1.3770 Training g_loss: 0.7903 Training q_loss: 3016.1311 Explore P: 0.9582\n",
      "-------------------------------------------------------------------------------\n",
      "-------------------------------------------------------------------------------\n",
      "Episode: 25 Total reward: 33.0 Average reward fake: 0.4966546595096588 Average reward real: 0.5166314840316772 Training d_loss: 1.3520 Training g_loss: 0.6950 Training q_loss: 4449.5337 Explore P: 0.9551\n",
      "-------------------------------------------------------------------------------\n",
      "-------------------------------------------------------------------------------\n",
      "Episode: 26 Total reward: 27.0 Average reward fake: 0.39341455698013306 Average reward real: 0.5198763608932495 Training d_loss: 1.1937 Training g_loss: 0.9299 Training q_loss: 423.3092 Explore P: 0.9526\n",
      "-------------------------------------------------------------------------------\n",
      "-------------------------------------------------------------------------------\n",
      "Episode: 27 Total reward: 32.0 Average reward fake: 0.4078708291053772 Average reward real: 0.5223409533500671 Training d_loss: 1.2099 Training g_loss: 0.9274 Training q_loss: 540.7519 Explore P: 0.9496\n",
      "-------------------------------------------------------------------------------\n",
      "-------------------------------------------------------------------------------\n",
      "Episode: 28 Total reward: 37.0 Average reward fake: 0.429426908493042 Average reward real: 0.48942679166793823 Training d_loss: 1.2865 Training g_loss: 0.8538 Training q_loss: 468.9757 Explore P: 0.9461\n",
      "-------------------------------------------------------------------------------\n",
      "-------------------------------------------------------------------------------\n",
      "Episode: 29 Total reward: 14.0 Average reward fake: 0.526877224445343 Average reward real: 0.4678402841091156 Training d_loss: 1.5887 Training g_loss: 0.6663 Training q_loss: 431.6054 Explore P: 0.9448\n",
      "-------------------------------------------------------------------------------\n",
      "-------------------------------------------------------------------------------\n",
      "Episode: 30 Total reward: 133.0 Average reward fake: 0.433335542678833 Average reward real: 0.5353779792785645 Training d_loss: 1.2113 Training g_loss: 0.8319 Training q_loss: 753.1364 Explore P: 0.9324\n",
      "-------------------------------------------------------------------------------\n",
      "-------------------------------------------------------------------------------\n",
      "Episode: 31 Total reward: 18.0 Average reward fake: 0.4751216769218445 Average reward real: 0.5092812776565552 Training d_loss: 1.4198 Training g_loss: 0.7725 Training q_loss: 7259.0845 Explore P: 0.9308\n",
      "-------------------------------------------------------------------------------\n",
      "-------------------------------------------------------------------------------\n",
      "Episode: 32 Total reward: 32.0 Average reward fake: 0.5032238364219666 Average reward real: 0.5394371747970581 Training d_loss: 1.3421 Training g_loss: 0.7167 Training q_loss: 24282.4434 Explore P: 0.9278\n",
      "-------------------------------------------------------------------------------\n",
      "-------------------------------------------------------------------------------\n",
      "Episode: 33 Total reward: 12.0 Average reward fake: 0.5209246873855591 Average reward real: 0.5239473581314087 Training d_loss: 1.5013 Training g_loss: 0.6912 Training q_loss: 397.2615 Explore P: 0.9267\n",
      "-------------------------------------------------------------------------------\n",
      "-------------------------------------------------------------------------------\n",
      "Episode: 34 Total reward: 20.0 Average reward fake: 0.42140302062034607 Average reward real: 0.46337899565696716 Training d_loss: 1.4100 Training g_loss: 0.8715 Training q_loss: 672.6138 Explore P: 0.9249\n",
      "-------------------------------------------------------------------------------\n",
      "-------------------------------------------------------------------------------\n",
      "Episode: 35 Total reward: 12.0 Average reward fake: 0.4321412146091461 Average reward real: 0.6662619113922119 Training d_loss: 1.1066 Training g_loss: 0.8787 Training q_loss: 1370.4940 Explore P: 0.9238\n",
      "-------------------------------------------------------------------------------\n",
      "-------------------------------------------------------------------------------\n",
      "Episode: 36 Total reward: 10.0 Average reward fake: 0.37505900859832764 Average reward real: 0.4891820549964905 Training d_loss: 1.3751 Training g_loss: 1.0123 Training q_loss: 711.7185 Explore P: 0.9229\n",
      "-------------------------------------------------------------------------------\n",
      "-------------------------------------------------------------------------------\n",
      "Episode: 37 Total reward: 18.0 Average reward fake: 0.35031858086586 Average reward real: 0.6050248146057129 Training d_loss: 1.1600 Training g_loss: 1.1668 Training q_loss: 9548.0586 Explore P: 0.9212\n",
      "-------------------------------------------------------------------------------\n",
      "-------------------------------------------------------------------------------\n",
      "Episode: 38 Total reward: 19.0 Average reward fake: 0.36264270544052124 Average reward real: 0.6235358119010925 Training d_loss: 1.0190 Training g_loss: 1.0272 Training q_loss: 784.2888 Explore P: 0.9195\n",
      "-------------------------------------------------------------------------------\n",
      "-------------------------------------------------------------------------------\n",
      "Episode: 39 Total reward: 20.0 Average reward fake: 0.33260196447372437 Average reward real: 0.5097202062606812 Training d_loss: 1.1990 Training g_loss: 1.0984 Training q_loss: 788.2474 Explore P: 0.9177\n",
      "-------------------------------------------------------------------------------\n",
      "-------------------------------------------------------------------------------\n",
      "Episode: 40 Total reward: 23.0 Average reward fake: 0.3204589784145355 Average reward real: 0.7748297452926636 Training d_loss: 0.7494 Training g_loss: 1.1540 Training q_loss: 854.9562 Explore P: 0.9156\n",
      "-------------------------------------------------------------------------------\n",
      "-------------------------------------------------------------------------------\n",
      "Episode: 41 Total reward: 9.0 Average reward fake: 0.3699265420436859 Average reward real: 0.7354449033737183 Training d_loss: 0.8724 Training g_loss: 0.9895 Training q_loss: 788.7871 Explore P: 0.9148\n",
      "-------------------------------------------------------------------------------\n",
      "-------------------------------------------------------------------------------\n",
      "Episode: 42 Total reward: 11.0 Average reward fake: 0.30056923627853394 Average reward real: 0.5056455135345459 Training d_loss: 1.2037 Training g_loss: 1.1791 Training q_loss: 893.8322 Explore P: 0.9138\n",
      "-------------------------------------------------------------------------------\n",
      "-------------------------------------------------------------------------------\n",
      "Episode: 43 Total reward: 22.0 Average reward fake: 0.4802889823913574 Average reward real: 0.6017779111862183 Training d_loss: 1.6592 Training g_loss: 0.8110 Training q_loss: 358.5777 Explore P: 0.9118\n",
      "-------------------------------------------------------------------------------\n",
      "-------------------------------------------------------------------------------\n",
      "Episode: 44 Total reward: 10.0 Average reward fake: 0.46372461318969727 Average reward real: 0.602643609046936 Training d_loss: 1.2974 Training g_loss: 0.8491 Training q_loss: 417.7235 Explore P: 0.9109\n",
      "-------------------------------------------------------------------------------\n",
      "-------------------------------------------------------------------------------\n",
      "Episode: 45 Total reward: 13.0 Average reward fake: 0.4548965394496918 Average reward real: 0.5190368890762329 Training d_loss: 1.2785 Training g_loss: 0.7955 Training q_loss: 454.1838 Explore P: 0.9097\n",
      "-------------------------------------------------------------------------------\n"
     ]
    },
    {
     "name": "stdout",
     "output_type": "stream",
     "text": [
      "-------------------------------------------------------------------------------\n",
      "Episode: 46 Total reward: 20.0 Average reward fake: 0.48029381036758423 Average reward real: 0.4579241871833801 Training d_loss: 1.4522 Training g_loss: 0.7309 Training q_loss: 535.9827 Explore P: 0.9079\n",
      "-------------------------------------------------------------------------------\n",
      "-------------------------------------------------------------------------------\n",
      "Episode: 47 Total reward: 11.0 Average reward fake: 0.4686967432498932 Average reward real: 0.5390387773513794 Training d_loss: 1.2677 Training g_loss: 0.7995 Training q_loss: 402.8103 Explore P: 0.9070\n",
      "-------------------------------------------------------------------------------\n",
      "-------------------------------------------------------------------------------\n",
      "Episode: 48 Total reward: 49.0 Average reward fake: 0.42498502135276794 Average reward real: 0.6204158663749695 Training d_loss: 1.0830 Training g_loss: 0.9292 Training q_loss: 177.9026 Explore P: 0.9026\n",
      "-------------------------------------------------------------------------------\n",
      "-------------------------------------------------------------------------------\n",
      "Episode: 49 Total reward: 39.0 Average reward fake: 0.358631432056427 Average reward real: 0.846617579460144 Training d_loss: 0.6748 Training g_loss: 1.0273 Training q_loss: 478.5614 Explore P: 0.8991\n",
      "-------------------------------------------------------------------------------\n",
      "-------------------------------------------------------------------------------\n",
      "Episode: 50 Total reward: 13.0 Average reward fake: 0.31920957565307617 Average reward real: 0.7197545766830444 Training d_loss: 0.8379 Training g_loss: 1.1692 Training q_loss: 3734.6929 Explore P: 0.8979\n",
      "-------------------------------------------------------------------------------\n",
      "-------------------------------------------------------------------------------\n",
      "Episode: 51 Total reward: 10.0 Average reward fake: 0.2953014075756073 Average reward real: 0.5802431106567383 Training d_loss: 1.0501 Training g_loss: 1.2342 Training q_loss: 161.0399 Explore P: 0.8971\n",
      "-------------------------------------------------------------------------------\n",
      "-------------------------------------------------------------------------------\n",
      "Episode: 52 Total reward: 26.0 Average reward fake: 0.4747793674468994 Average reward real: 0.5287197828292847 Training d_loss: 1.5704 Training g_loss: 0.8191 Training q_loss: 183.9594 Explore P: 0.8947\n",
      "-------------------------------------------------------------------------------\n",
      "-------------------------------------------------------------------------------\n",
      "Episode: 53 Total reward: 30.0 Average reward fake: 0.39341697096824646 Average reward real: 0.4789935052394867 Training d_loss: 1.2692 Training g_loss: 0.9300 Training q_loss: 204.0846 Explore P: 0.8921\n",
      "-------------------------------------------------------------------------------\n",
      "-------------------------------------------------------------------------------\n",
      "Episode: 54 Total reward: 44.0 Average reward fake: 0.3855774402618408 Average reward real: 0.6408944129943848 Training d_loss: 1.0292 Training g_loss: 1.0108 Training q_loss: 323.9407 Explore P: 0.8882\n",
      "-------------------------------------------------------------------------------\n",
      "-------------------------------------------------------------------------------\n",
      "Episode: 55 Total reward: 18.0 Average reward fake: 0.40971317887306213 Average reward real: 0.6157263517379761 Training d_loss: 1.1133 Training g_loss: 0.9107 Training q_loss: 130.3770 Explore P: 0.8866\n",
      "-------------------------------------------------------------------------------\n",
      "-------------------------------------------------------------------------------\n",
      "Episode: 56 Total reward: 17.0 Average reward fake: 0.5012604594230652 Average reward real: 0.5357087850570679 Training d_loss: 1.4236 Training g_loss: 0.7317 Training q_loss: 212.2122 Explore P: 0.8852\n",
      "-------------------------------------------------------------------------------\n",
      "-------------------------------------------------------------------------------\n",
      "Episode: 57 Total reward: 25.0 Average reward fake: 0.4673968255519867 Average reward real: 0.5666735768318176 Training d_loss: 1.2862 Training g_loss: 0.7925 Training q_loss: 105.8137 Explore P: 0.8830\n",
      "-------------------------------------------------------------------------------\n",
      "-------------------------------------------------------------------------------\n",
      "Episode: 58 Total reward: 9.0 Average reward fake: 0.4272351861000061 Average reward real: 0.7044866681098938 Training d_loss: 0.9790 Training g_loss: 0.8838 Training q_loss: 2671.5291 Explore P: 0.8822\n",
      "-------------------------------------------------------------------------------\n",
      "-------------------------------------------------------------------------------\n",
      "Episode: 59 Total reward: 14.0 Average reward fake: 0.5463835597038269 Average reward real: 0.5056065320968628 Training d_loss: 1.6582 Training g_loss: 0.6700 Training q_loss: 200.0503 Explore P: 0.8810\n",
      "-------------------------------------------------------------------------------\n",
      "-------------------------------------------------------------------------------\n",
      "Episode: 60 Total reward: 14.0 Average reward fake: 0.4511430263519287 Average reward real: 0.5140011310577393 Training d_loss: 1.3435 Training g_loss: 0.8281 Training q_loss: 3207.9380 Explore P: 0.8797\n",
      "-------------------------------------------------------------------------------\n",
      "-------------------------------------------------------------------------------\n",
      "Episode: 61 Total reward: 16.0 Average reward fake: 0.4913020730018616 Average reward real: 0.4916815757751465 Training d_loss: 1.4805 Training g_loss: 0.7500 Training q_loss: 2056.4097 Explore P: 0.8784\n",
      "-------------------------------------------------------------------------------\n",
      "-------------------------------------------------------------------------------\n",
      "Episode: 62 Total reward: 26.0 Average reward fake: 0.39842256903648376 Average reward real: 0.6099438667297363 Training d_loss: 1.0311 Training g_loss: 0.9268 Training q_loss: 183.2786 Explore P: 0.8761\n",
      "-------------------------------------------------------------------------------\n",
      "-------------------------------------------------------------------------------\n",
      "Episode: 63 Total reward: 10.0 Average reward fake: 0.4199751317501068 Average reward real: 0.5714598894119263 Training d_loss: 1.1940 Training g_loss: 0.8974 Training q_loss: 123.2261 Explore P: 0.8752\n",
      "-------------------------------------------------------------------------------\n",
      "-------------------------------------------------------------------------------\n",
      "Episode: 64 Total reward: 34.0 Average reward fake: 0.3887729048728943 Average reward real: 0.6322447061538696 Training d_loss: 0.9896 Training g_loss: 0.9466 Training q_loss: 93.7552 Explore P: 0.8723\n",
      "-------------------------------------------------------------------------------\n",
      "-------------------------------------------------------------------------------\n",
      "Episode: 65 Total reward: 19.0 Average reward fake: 0.4254682958126068 Average reward real: 0.5519614815711975 Training d_loss: 1.2036 Training g_loss: 0.8724 Training q_loss: 1187.8738 Explore P: 0.8707\n",
      "-------------------------------------------------------------------------------\n",
      "-------------------------------------------------------------------------------\n",
      "Episode: 66 Total reward: 9.0 Average reward fake: 0.4300009310245514 Average reward real: 0.6735160946846008 Training d_loss: 1.0095 Training g_loss: 0.8716 Training q_loss: 1996.6305 Explore P: 0.8699\n",
      "-------------------------------------------------------------------------------\n",
      "-------------------------------------------------------------------------------\n",
      "Episode: 67 Total reward: 42.0 Average reward fake: 0.4339386522769928 Average reward real: 0.7241038084030151 Training d_loss: 0.9715 Training g_loss: 0.8623 Training q_loss: 206.4443 Explore P: 0.8663\n",
      "-------------------------------------------------------------------------------\n",
      "-------------------------------------------------------------------------------\n",
      "Episode: 68 Total reward: 12.0 Average reward fake: 0.42777711153030396 Average reward real: 0.5774989128112793 Training d_loss: 1.2715 Training g_loss: 0.9455 Training q_loss: 125.6600 Explore P: 0.8653\n",
      "-------------------------------------------------------------------------------\n"
     ]
    },
    {
     "name": "stdout",
     "output_type": "stream",
     "text": [
      "-------------------------------------------------------------------------------\n",
      "Episode: 69 Total reward: 56.0 Average reward fake: 0.4623408317565918 Average reward real: 0.5513359308242798 Training d_loss: 1.3732 Training g_loss: 0.8315 Training q_loss: 158.9865 Explore P: 0.8605\n",
      "-------------------------------------------------------------------------------\n",
      "-------------------------------------------------------------------------------\n",
      "Episode: 70 Total reward: 16.0 Average reward fake: 0.3914162516593933 Average reward real: 0.5392082929611206 Training d_loss: 1.1470 Training g_loss: 0.9610 Training q_loss: 119.7021 Explore P: 0.8591\n",
      "-------------------------------------------------------------------------------\n",
      "-------------------------------------------------------------------------------\n",
      "Episode: 71 Total reward: 14.0 Average reward fake: 0.48205962777137756 Average reward real: 0.5508329272270203 Training d_loss: 1.3477 Training g_loss: 0.7656 Training q_loss: 115.2159 Explore P: 0.8579\n",
      "-------------------------------------------------------------------------------\n",
      "-------------------------------------------------------------------------------\n",
      "Episode: 72 Total reward: 9.0 Average reward fake: 0.42043542861938477 Average reward real: 0.500245988368988 Training d_loss: 1.3227 Training g_loss: 0.9023 Training q_loss: 188.8027 Explore P: 0.8572\n",
      "-------------------------------------------------------------------------------\n",
      "-------------------------------------------------------------------------------\n",
      "Episode: 73 Total reward: 35.0 Average reward fake: 0.41574627161026 Average reward real: 0.5974663496017456 Training d_loss: 1.1824 Training g_loss: 0.9147 Training q_loss: 954.0627 Explore P: 0.8542\n",
      "-------------------------------------------------------------------------------\n",
      "-------------------------------------------------------------------------------\n",
      "Episode: 74 Total reward: 41.0 Average reward fake: 0.37965357303619385 Average reward real: 0.6063796877861023 Training d_loss: 1.0206 Training g_loss: 0.9958 Training q_loss: 254.9584 Explore P: 0.8508\n",
      "-------------------------------------------------------------------------------\n",
      "-------------------------------------------------------------------------------\n",
      "Episode: 75 Total reward: 31.0 Average reward fake: 0.47498589754104614 Average reward real: 0.5498653650283813 Training d_loss: 1.3492 Training g_loss: 0.7896 Training q_loss: 179.0499 Explore P: 0.8482\n",
      "-------------------------------------------------------------------------------\n",
      "-------------------------------------------------------------------------------\n",
      "Episode: 76 Total reward: 15.0 Average reward fake: 0.36130738258361816 Average reward real: 0.5687042474746704 Training d_loss: 1.1841 Training g_loss: 1.0763 Training q_loss: 520.1292 Explore P: 0.8469\n",
      "-------------------------------------------------------------------------------\n",
      "-------------------------------------------------------------------------------\n",
      "Episode: 77 Total reward: 20.0 Average reward fake: 0.41014957427978516 Average reward real: 0.5706921815872192 Training d_loss: 1.1455 Training g_loss: 0.8887 Training q_loss: 246.4935 Explore P: 0.8452\n",
      "-------------------------------------------------------------------------------\n",
      "-------------------------------------------------------------------------------\n",
      "Episode: 78 Total reward: 14.0 Average reward fake: 0.4342220723628998 Average reward real: 0.6195034980773926 Training d_loss: 1.2047 Training g_loss: 0.9030 Training q_loss: 117.2542 Explore P: 0.8441\n",
      "-------------------------------------------------------------------------------\n",
      "-------------------------------------------------------------------------------\n",
      "Episode: 79 Total reward: 26.0 Average reward fake: 0.4274684488773346 Average reward real: 0.5725889205932617 Training d_loss: 1.1904 Training g_loss: 0.8775 Training q_loss: 249.4799 Explore P: 0.8419\n",
      "-------------------------------------------------------------------------------\n",
      "-------------------------------------------------------------------------------\n",
      "Episode: 80 Total reward: 14.0 Average reward fake: 0.46927204728126526 Average reward real: 0.47018107771873474 Training d_loss: 1.4976 Training g_loss: 0.7865 Training q_loss: 271.1144 Explore P: 0.8407\n",
      "-------------------------------------------------------------------------------\n",
      "-------------------------------------------------------------------------------\n",
      "Episode: 81 Total reward: 13.0 Average reward fake: 0.5109394192695618 Average reward real: 0.45236796140670776 Training d_loss: 1.5811 Training g_loss: 0.7055 Training q_loss: 498.2889 Explore P: 0.8397\n",
      "-------------------------------------------------------------------------------\n",
      "-------------------------------------------------------------------------------\n",
      "Episode: 82 Total reward: 22.0 Average reward fake: 0.48573416471481323 Average reward real: 0.6547670364379883 Training d_loss: 1.1719 Training g_loss: 0.7705 Training q_loss: 163.5041 Explore P: 0.8378\n",
      "-------------------------------------------------------------------------------\n",
      "-------------------------------------------------------------------------------\n",
      "Episode: 83 Total reward: 28.0 Average reward fake: 0.4652577042579651 Average reward real: 0.5080539584159851 Training d_loss: 1.3951 Training g_loss: 0.8004 Training q_loss: 1631.2516 Explore P: 0.8355\n",
      "-------------------------------------------------------------------------------\n",
      "-------------------------------------------------------------------------------\n",
      "Episode: 84 Total reward: 24.0 Average reward fake: 0.4155427813529968 Average reward real: 0.5836845636367798 Training d_loss: 1.1753 Training g_loss: 0.9012 Training q_loss: 503.0222 Explore P: 0.8335\n",
      "-------------------------------------------------------------------------------\n",
      "-------------------------------------------------------------------------------\n",
      "Episode: 85 Total reward: 19.0 Average reward fake: 0.3937126398086548 Average reward real: 0.5501090288162231 Training d_loss: 1.1628 Training g_loss: 1.0371 Training q_loss: 164.9557 Explore P: 0.8320\n",
      "-------------------------------------------------------------------------------\n",
      "-------------------------------------------------------------------------------\n",
      "Episode: 86 Total reward: 8.0 Average reward fake: 0.577157199382782 Average reward real: 0.6999879479408264 Training d_loss: 1.3712 Training g_loss: 0.6133 Training q_loss: 149.9638 Explore P: 0.8313\n",
      "-------------------------------------------------------------------------------\n",
      "-------------------------------------------------------------------------------\n",
      "Episode: 87 Total reward: 26.0 Average reward fake: 0.4357386529445648 Average reward real: 0.6289153099060059 Training d_loss: 1.1202 Training g_loss: 0.8773 Training q_loss: 132.8827 Explore P: 0.8292\n",
      "-------------------------------------------------------------------------------\n",
      "-------------------------------------------------------------------------------\n",
      "Episode: 88 Total reward: 12.0 Average reward fake: 0.45442232489585876 Average reward real: 0.5432888865470886 Training d_loss: 1.2566 Training g_loss: 0.7923 Training q_loss: 190.2883 Explore P: 0.8282\n",
      "-------------------------------------------------------------------------------\n",
      "-------------------------------------------------------------------------------\n",
      "Episode: 89 Total reward: 8.0 Average reward fake: 0.4829505383968353 Average reward real: 0.5274432301521301 Training d_loss: 1.3552 Training g_loss: 0.7511 Training q_loss: 240.5940 Explore P: 0.8275\n",
      "-------------------------------------------------------------------------------\n",
      "-------------------------------------------------------------------------------\n",
      "Episode: 90 Total reward: 11.0 Average reward fake: 0.4409126341342926 Average reward real: 0.5739554762840271 Training d_loss: 1.2794 Training g_loss: 0.8824 Training q_loss: 223.7474 Explore P: 0.8266\n",
      "-------------------------------------------------------------------------------\n",
      "-------------------------------------------------------------------------------\n",
      "Episode: 91 Total reward: 18.0 Average reward fake: 0.4929995536804199 Average reward real: 0.7052897214889526 Training d_loss: 1.1361 Training g_loss: 0.7351 Training q_loss: 209.4316 Explore P: 0.8252\n",
      "-------------------------------------------------------------------------------\n",
      "-------------------------------------------------------------------------------\n",
      "Episode: 92 Total reward: 10.0 Average reward fake: 0.46090394258499146 Average reward real: 0.5977696180343628 Training d_loss: 1.2098 Training g_loss: 0.8243 Training q_loss: 201.1834 Explore P: 0.8244\n",
      "-------------------------------------------------------------------------------\n"
     ]
    },
    {
     "name": "stdout",
     "output_type": "stream",
     "text": [
      "-------------------------------------------------------------------------------\n",
      "Episode: 93 Total reward: 10.0 Average reward fake: 0.4356813430786133 Average reward real: 0.49278131127357483 Training d_loss: 1.3236 Training g_loss: 0.8303 Training q_loss: 217.4712 Explore P: 0.8235\n",
      "-------------------------------------------------------------------------------\n",
      "-------------------------------------------------------------------------------\n",
      "Episode: 94 Total reward: 24.0 Average reward fake: 0.44101667404174805 Average reward real: 0.6147371530532837 Training d_loss: 1.2026 Training g_loss: 0.8677 Training q_loss: 239.7109 Explore P: 0.8216\n",
      "-------------------------------------------------------------------------------\n",
      "-------------------------------------------------------------------------------\n",
      "Episode: 95 Total reward: 9.0 Average reward fake: 0.4105308949947357 Average reward real: 0.5524076223373413 Training d_loss: 1.2265 Training g_loss: 0.9133 Training q_loss: 161.3916 Explore P: 0.8209\n",
      "-------------------------------------------------------------------------------\n",
      "-------------------------------------------------------------------------------\n",
      "Episode: 96 Total reward: 21.0 Average reward fake: 0.35543888807296753 Average reward real: 0.5909603834152222 Training d_loss: 1.0864 Training g_loss: 1.0741 Training q_loss: 173.4632 Explore P: 0.8192\n",
      "-------------------------------------------------------------------------------\n",
      "-------------------------------------------------------------------------------\n",
      "Episode: 97 Total reward: 13.0 Average reward fake: 0.43381771445274353 Average reward real: 0.5752326250076294 Training d_loss: 1.2559 Training g_loss: 0.8601 Training q_loss: 135.7370 Explore P: 0.8181\n",
      "-------------------------------------------------------------------------------\n",
      "-------------------------------------------------------------------------------\n",
      "Episode: 98 Total reward: 23.0 Average reward fake: 0.40776199102401733 Average reward real: 0.5001283884048462 Training d_loss: 1.2755 Training g_loss: 0.9360 Training q_loss: 164.3716 Explore P: 0.8163\n",
      "-------------------------------------------------------------------------------\n",
      "-------------------------------------------------------------------------------\n",
      "Episode: 99 Total reward: 14.0 Average reward fake: 0.35552161931991577 Average reward real: 0.4506050944328308 Training d_loss: 1.2992 Training g_loss: 1.0152 Training q_loss: 153.6894 Explore P: 0.8151\n",
      "-------------------------------------------------------------------------------\n",
      "-------------------------------------------------------------------------------\n",
      "Episode: 100 Total reward: 16.0 Average reward fake: 0.4872073531150818 Average reward real: 0.6531530022621155 Training d_loss: 1.1926 Training g_loss: 0.7612 Training q_loss: 220.2243 Explore P: 0.8138\n",
      "-------------------------------------------------------------------------------\n",
      "-------------------------------------------------------------------------------\n",
      "Episode: 101 Total reward: 10.0 Average reward fake: 0.34758830070495605 Average reward real: 0.6148161888122559 Training d_loss: 0.9787 Training g_loss: 1.0867 Training q_loss: 191.4956 Explore P: 0.8130\n",
      "-------------------------------------------------------------------------------\n",
      "-------------------------------------------------------------------------------\n",
      "Episode: 102 Total reward: 29.0 Average reward fake: 0.48117595911026 Average reward real: 0.6384385228157043 Training d_loss: 1.2260 Training g_loss: 0.7771 Training q_loss: 191.0139 Explore P: 0.8107\n",
      "-------------------------------------------------------------------------------\n",
      "-------------------------------------------------------------------------------\n",
      "Episode: 103 Total reward: 10.0 Average reward fake: 0.47065964341163635 Average reward real: 0.5762753486633301 Training d_loss: 1.2970 Training g_loss: 0.8059 Training q_loss: 256.8357 Explore P: 0.8099\n",
      "-------------------------------------------------------------------------------\n",
      "-------------------------------------------------------------------------------\n",
      "Episode: 104 Total reward: 21.0 Average reward fake: 0.4964582026004791 Average reward real: 0.563766360282898 Training d_loss: 1.4035 Training g_loss: 0.7664 Training q_loss: 206.5731 Explore P: 0.8082\n",
      "-------------------------------------------------------------------------------\n",
      "-------------------------------------------------------------------------------\n",
      "Episode: 105 Total reward: 13.0 Average reward fake: 0.5179448127746582 Average reward real: 0.6804669499397278 Training d_loss: 1.3397 Training g_loss: 0.7299 Training q_loss: 135.6284 Explore P: 0.8072\n",
      "-------------------------------------------------------------------------------\n",
      "-------------------------------------------------------------------------------\n",
      "Episode: 106 Total reward: 27.0 Average reward fake: 0.41587504744529724 Average reward real: 0.5884188413619995 Training d_loss: 1.2564 Training g_loss: 1.0403 Training q_loss: 128.3489 Explore P: 0.8050\n",
      "-------------------------------------------------------------------------------\n",
      "-------------------------------------------------------------------------------\n",
      "Episode: 107 Total reward: 15.0 Average reward fake: 0.46935194730758667 Average reward real: 0.5553925633430481 Training d_loss: 1.3702 Training g_loss: 0.8095 Training q_loss: 155.2338 Explore P: 0.8039\n",
      "-------------------------------------------------------------------------------\n",
      "-------------------------------------------------------------------------------\n",
      "Episode: 108 Total reward: 11.0 Average reward fake: 0.431997686624527 Average reward real: 0.5889796018600464 Training d_loss: 1.1863 Training g_loss: 0.8541 Training q_loss: 236.1697 Explore P: 0.8030\n",
      "-------------------------------------------------------------------------------\n",
      "-------------------------------------------------------------------------------\n",
      "Episode: 109 Total reward: 17.0 Average reward fake: 0.3589828908443451 Average reward real: 0.5377519130706787 Training d_loss: 1.1448 Training g_loss: 1.0376 Training q_loss: 167.6862 Explore P: 0.8016\n",
      "-------------------------------------------------------------------------------\n",
      "-------------------------------------------------------------------------------\n",
      "Episode: 110 Total reward: 12.0 Average reward fake: 0.4192916750907898 Average reward real: 0.6604526042938232 Training d_loss: 1.0423 Training g_loss: 0.9040 Training q_loss: 143.4579 Explore P: 0.8007\n",
      "-------------------------------------------------------------------------------\n"
     ]
    }
   ],
   "source": [
    "# Now train with experiences\n",
    "saver = tf.train.Saver()\n",
    "\n",
    "# Total rewards and losses list for plotting\n",
    "rewards_list, rewards_fake_list, rewards_real_list = [], [], []\n",
    "d_loss_list, g_loss_list, q_loss_list = [], [], [] \n",
    "\n",
    "# TF session for training\n",
    "with tf.Session() as sess:\n",
    "    \n",
    "    # Initialize variables\n",
    "    sess.run(tf.global_variables_initializer())\n",
    "\n",
    "    # Training episodes/epochs\n",
    "    step = 0\n",
    "    for ep in range(train_episodes):\n",
    "        \n",
    "        # Env/agent steps/batches/minibatches\n",
    "        total_reward, rewards_fake_mean, rewards_real_mean = 0, 0, 0\n",
    "        d_loss, g_loss, q_loss = 0, 0, 0\n",
    "        t = 0\n",
    "        while t < max_steps:\n",
    "            step += 1\n",
    "            \n",
    "            # Uncomment this next line to watch the training\n",
    "            # env.render() \n",
    "            \n",
    "            # Explore or Exploit\n",
    "            explore_p = explore_stop + (explore_start - explore_stop)*np.exp(-decay_rate*step) \n",
    "            if explore_p > np.random.rand():\n",
    "                # Make a random action\n",
    "                action = env.action_space.sample()\n",
    "            else:\n",
    "                # Get action from model\n",
    "                feed_dict = {model.states: state.reshape((1, *state.shape))}\n",
    "                actions_logits = sess.run(model.actions_logits, feed_dict)\n",
    "                action = np.argmax(actions_logits)\n",
    "            \n",
    "            # Take action, get new state and reward\n",
    "            next_state, reward, done, _ = env.step(action)\n",
    "    \n",
    "            # Cumulative reward\n",
    "            total_reward += reward\n",
    "            \n",
    "            # Episode/epoch training is done/failed!\n",
    "            if done:\n",
    "                # the episode ends so no next state\n",
    "                next_state = np.zeros(state.shape)\n",
    "                t = max_steps\n",
    "                \n",
    "                print('-------------------------------------------------------------------------------')\n",
    "                print('Episode: {}'.format(ep),\n",
    "                      'Total reward: {}'.format(total_reward),\n",
    "                      'Average reward fake: {}'.format(rewards_fake_mean),\n",
    "                      'Average reward real: {}'.format(rewards_real_mean),\n",
    "                      'Training d_loss: {:.4f}'.format(d_loss),\n",
    "                      'Training g_loss: {:.4f}'.format(g_loss),\n",
    "                      'Training q_loss: {:.4f}'.format(q_loss),\n",
    "                      'Explore P: {:.4f}'.format(explore_p))\n",
    "                print('-------------------------------------------------------------------------------')\n",
    "                \n",
    "                # total rewards and losses for plotting\n",
    "                rewards_list.append((ep, total_reward))\n",
    "                rewards_fake_list.append((ep, rewards_fake_mean))\n",
    "                d_loss_list.append((ep, d_loss))\n",
    "                g_loss_list.append((ep, g_loss))\n",
    "                q_loss_list.append((ep, q_loss))\n",
    "                \n",
    "                # Add experience to memory\n",
    "                memory.add((state, action, reward, next_state))\n",
    "                \n",
    "                # Start new episode\n",
    "                env.reset()\n",
    "                \n",
    "                # Take one random step to get the pole and cart moving\n",
    "                state, reward, done, _ = env.step(env.action_space.sample())\n",
    "\n",
    "            else:\n",
    "                # Add experience to memory\n",
    "                memory.add((state, action, reward, next_state))\n",
    "                state = next_state\n",
    "                t += 1\n",
    "            \n",
    "            # Sample mini-batch from memory\n",
    "            batch = memory.sample(batch_size)\n",
    "            states = np.array([each[0] for each in batch])\n",
    "            actions = np.array([each[1] for each in batch])\n",
    "            #rewards = np.array([each[2] for each in batch])\n",
    "            next_states = np.array([each[3] for each in batch])\n",
    "            \n",
    "            # Current reward required for the Q-learning/ targetQs\n",
    "            feed_dict = {model.states: states, model.actions: actions}\n",
    "            rewards_fake, rewards_real = sess.run([model.rewards_fake, model.rewards_real], feed_dict)\n",
    "\n",
    "            # Mean/average fake and real rewards or rewarded generated/given actions\n",
    "            rewards_fake_mean = np.mean(rewards_fake.reshape(-1))\n",
    "            rewards_real_mean = np.mean(rewards_real.reshape(-1))\n",
    "\n",
    "            # Next action required for the Q-learning/ targetQs\n",
    "            feed_dict={model.states: next_states}\n",
    "            next_actions_logits = sess.run(model.actions_logits, feed_dict)\n",
    "            \n",
    "            # Set target_Qs to 0 for states where episode ends\n",
    "            episode_ends = (next_states == np.zeros(states[0].shape)).all(axis=1)\n",
    "            next_actions_logits[episode_ends] = (0, 0)\n",
    "\n",
    "            # Bellman equation: Qt = Rt + max(Qt+1)\n",
    "            targetQs = rewards_fake.reshape(-1) + (gamma * np.max(next_actions_logits, axis=1))\n",
    "\n",
    "            # Updating the model\n",
    "            feed_dict = {model.states: states, model.actions: actions, model.targetQs: targetQs}\n",
    "            d_loss, _ = sess.run([model.d_loss, model.d_opt], feed_dict)\n",
    "            g_loss, _ = sess.run([model.g_loss, model.g_opt], feed_dict)\n",
    "            q_loss, _ = sess.run([model.q_loss, model.q_opt], feed_dict)\n",
    "            \n",
    "    # Save the trained model \n",
    "    saver.save(sess, 'checkpoints/DQAN-cartpole.ckpt')"
   ]
  },
  {
   "cell_type": "markdown",
   "metadata": {},
   "source": [
    "## Visualizing training\n",
    "\n",
    "Below I'll plot the total rewards for each episode. I'm plotting the rolling average too, in blue."
   ]
  },
  {
   "cell_type": "code",
   "execution_count": 20,
   "metadata": {},
   "outputs": [],
   "source": [
    "%matplotlib inline\n",
    "import matplotlib.pyplot as plt\n",
    "\n",
    "def running_mean(x, N):\n",
    "    cumsum = np.cumsum(np.insert(x, 0, 0)) \n",
    "    return (cumsum[N:] - cumsum[:-N]) / N"
   ]
  },
  {
   "cell_type": "code",
   "execution_count": 21,
   "metadata": {},
   "outputs": [
    {
     "data": {
      "text/plain": [
       "Text(0,0.5,'Total rewards')"
      ]
     },
     "execution_count": 21,
     "metadata": {},
     "output_type": "execute_result"
    },
    {
     "data": {
      "image/png": "[encoded data removed]",
      "text/plain": [
       "<Figure size 432x288 with 1 Axes>"
      ]
     },
     "metadata": {},
     "output_type": "display_data"
    }
   ],
   "source": [
    "eps, arr = np.array(rewards_list).T\n",
    "smoothed_arr = running_mean(arr, 10)\n",
    "plt.plot(eps[-len(smoothed_arr):], smoothed_arr)\n",
    "plt.plot(eps, arr, color='grey', alpha=0.3)\n",
    "plt.xlabel('Episode')\n",
    "plt.ylabel('Total rewards')"
   ]
  },
  {
   "cell_type": "code",
   "execution_count": 22,
   "metadata": {},
   "outputs": [
    {
     "data": {
      "text/plain": [
       "Text(0,0.5,'D losses')"
      ]
     },
     "execution_count": 22,
     "metadata": {},
     "output_type": "execute_result"
    },
    {
     "data": {
      "image/png": "[encoded data removed]",
      "text/plain": [
       "<Figure size 432x288 with 1 Axes>"
      ]
     },
     "metadata": {},
     "output_type": "display_data"
    }
   ],
   "source": [
    "eps, arr = np.array(d_loss_list).T\n",
    "smoothed_arr = running_mean(arr, 10)\n",
    "plt.plot(eps[-len(smoothed_arr):], smoothed_arr)\n",
    "plt.plot(eps, arr, color='grey', alpha=0.3)\n",
    "plt.xlabel('Episode')\n",
    "plt.ylabel('D losses')"
   ]
  },
  {
   "cell_type": "code",
   "execution_count": 23,
   "metadata": {},
   "outputs": [
    {
     "data": {
      "text/plain": [
       "Text(0,0.5,'G losses')"
      ]
     },
     "execution_count": 23,
     "metadata": {},
     "output_type": "execute_result"
    },
    {
     "data": {
      "image/png": "[encoded data removed]",
      "text/plain": [
       "<Figure size 432x288 with 1 Axes>"
      ]
     },
     "metadata": {},
     "output_type": "display_data"
    }
   ],
   "source": [
    "eps, arr = np.array(g_loss_list).T\n",
    "smoothed_arr = running_mean(arr, 10)\n",
    "plt.plot(eps[-len(smoothed_arr):], smoothed_arr)\n",
    "plt.plot(eps, arr, color='grey', alpha=0.3)\n",
    "plt.xlabel('Episode')\n",
    "plt.ylabel('G losses')"
   ]
  },
  {
   "cell_type": "code",
   "execution_count": 24,
   "metadata": {},
   "outputs": [
    {
     "data": {
      "text/plain": [
       "Text(0,0.5,'Q losses')"
      ]
     },
     "execution_count": 24,
     "metadata": {},
     "output_type": "execute_result"
    },
    {
     "data": {
      "image/png": "[encoded data removed]",
      "text/plain": [
       "<Figure size 432x288 with 1 Axes>"
      ]
     },
     "metadata": {},
     "output_type": "display_data"
    }
   ],
   "source": [
    "eps, arr = np.array(q_loss_list).T\n",
    "smoothed_arr = running_mean(arr, 10)\n",
    "plt.plot(eps[-len(smoothed_arr):], smoothed_arr)\n",
    "plt.plot(eps, arr, color='grey', alpha=0.3)\n",
    "plt.xlabel('Episode')\n",
    "plt.ylabel('Q losses')"
   ]
  },
  {
   "cell_type": "markdown",
   "metadata": {},
   "source": [
    "## Testing\n",
    "\n",
    "Let's checkout how our trained agent plays the game."
   ]
  },
  {
   "cell_type": "code",
   "execution_count": 25,
   "metadata": {},
   "outputs": [
    {
     "name": "stdout",
     "output_type": "stream",
     "text": [
      "INFO:tensorflow:Restoring parameters from checkpoints/DQAN-cartpole.ckpt\n"
     ]
    }
   ],
   "source": [
    "test_episodes = 10\n",
    "test_max_steps = 1000\n",
    "env.reset()\n",
    "with tf.Session() as sess:\n",
    "    #saver.restore(sess, tf.train.latest_checkpoint('checkpoints'))\n",
    "    # Save the trained model \n",
    "    saver.restore(sess, 'checkpoints/DQAN-cartpole.ckpt')\n",
    "    \n",
    "    # iterations\n",
    "    for ep in range(test_episodes):\n",
    "        \n",
    "        # number of env/rob steps\n",
    "        t = 0\n",
    "        while t < test_max_steps:\n",
    "            env.render()\n",
    "            \n",
    "            # Get action from DQAN\n",
    "            feed_dict = {model.states: state.reshape((1, *state.shape))}\n",
    "            actions_logits = sess.run(model.actions_logits, feed_dict)\n",
    "            action = np.argmax(actions_logits)\n",
    "            \n",
    "            # Take action, get new state and reward\n",
    "            next_state, reward, done, _ = env.step(action)\n",
    "            \n",
    "            # The task is done or not;\n",
    "            if done:\n",
    "                t = test_max_steps\n",
    "                env.reset()\n",
    "                \n",
    "                # Take one random step to get the pole and cart moving\n",
    "                state, reward, done, _ = env.step(env.action_space.sample())\n",
    "            else:\n",
    "                state = next_state\n",
    "                t += 1"
   ]
  },
  {
   "cell_type": "code",
   "execution_count": 26,
   "metadata": {},
   "outputs": [],
   "source": [
    "env.close()"
   ]
  },
  {
   "cell_type": "markdown",
   "metadata": {},
   "source": [
    "## Extending this to Deep Convolutional QAN\n",
    "\n",
    "So, Cart-Pole is a pretty simple game. However, the same model can be used to train an agent to play something much more complicated like Pong or Space Invaders. Instead of a state like we're using here though, you'd want to use convolutional layers to get the state from the screen images.\n",
    "\n",
    "![Deep Q-Learning Atari](assets/atari-network.png)\n",
    "\n",
    "I'll leave it as a challenge for you to use deep Q-learning to train an agent to play Atari games. Here's the original paper which will get you started: http://www.davidqiu.com:8888/research/nature14236.pdf."
   ]
  },
  {
   "cell_type": "code",
   "execution_count": null,
   "metadata": {},
   "outputs": [],
   "source": []
  }
 ],
 "metadata": {
  "kernelspec": {
   "display_name": "Python 3",
   "language": "python",
   "name": "python3"
  },
  "language_info": {
   "codemirror_mode": {
    "name": "ipython",
    "version": 3
   },
   "file_extension": ".py",
   "mimetype": "text/x-python",
   "name": "python",
   "nbconvert_exporter": "python",
   "pygments_lexer": "ipython3",
   "version": "3.6.5"
  }
 },
 "nbformat": 4,
 "nbformat_minor": 2
}
